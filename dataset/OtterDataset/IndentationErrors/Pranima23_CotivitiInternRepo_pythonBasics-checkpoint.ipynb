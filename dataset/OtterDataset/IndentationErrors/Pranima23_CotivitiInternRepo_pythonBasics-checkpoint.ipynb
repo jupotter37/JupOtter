{
 "cells": [
  {
   "cell_type": "markdown",
   "id": "eb856e14",
   "metadata": {},
   "source": [
    "# Python Programming Language - Basics"
   ]
  },
  {
   "cell_type": "markdown",
   "id": "02aff68e",
   "metadata": {},
   "source": [
    "## Table of contents\n",
    "[Module 3: Literals, Variables and Operators](#operators)\n",
    "[Module 4: ]()\n",
    "[]()\n",
    "[]()\n",
    "[]()\n",
    "[]()\n",
    "[]()\n",
    "[]()\n",
    "[]()\n",
    "[]()"
   ]
  },
  {
   "cell_type": "markdown",
   "id": "2349f2da",
   "metadata": {},
   "source": [
    "## Module 3: Literals, Variables and Operators"
   ]
  },
  {
   "cell_type": "markdown",
   "id": "f36a1e16",
   "metadata": {},
   "source": [
    "### Operators\n"
   ]
  },
  {
   "cell_type": "markdown",
   "id": "57f0e92c",
   "metadata": {},
   "source": [
    "#### Arithmetic Operators\n"
   ]
  },
  {
   "cell_type": "code",
   "execution_count": 103,
   "id": "7ebbd9ee",
   "metadata": {},
   "outputs": [
    {
     "name": "stdout",
     "output_type": "stream",
     "text": [
      "Addition: 5 + 2 = 7\n",
      "Subtraction: 4 - 3 = 1\n",
      "Multiplication: 4 * 3 = 12\n",
      "Division: 9 / 3 = 3.0\n",
      "Floor division: 10 // 3 = 3\n",
      "Modulo division: 3 % 2 = 1\n",
      "Power: 3 ** 3 = 27\n"
     ]
    }
   ],
   "source": [
    "#addition\n",
    "print(\"Addition: 5 + 2 =\", 5 + 2) #7\n",
    "\n",
    "#subtraction\n",
    "print(\"Subtraction: 4 - 3 =\", 4 - 3) #1\n",
    "\n",
    "#multiplication\n",
    "print(\"Multiplication: 4 * 3 =\", 4 * 3) #12\n",
    "\n",
    "#division\n",
    "print(\"Division: 9 / 3 =\", 9 / 3) #3.0\n",
    "\n",
    "#floor division\n",
    "print(\"Floor division: 10 // 3 =\", 10 // 3) #3\n",
    "\n",
    "#modulo\n",
    "print(\"Modulo division: 3 % 2 =\", 3 % 2) #1\n",
    "\n",
    "#power\n",
    "print(\"Power: 3 ** 3 =\", 3**3) #27"
   ]
  },
  {
   "cell_type": "markdown",
   "id": "3d229bd4",
   "metadata": {},
   "source": [
    "#### Assignment Operators"
   ]
  },
  {
   "cell_type": "code",
   "execution_count": 104,
   "id": "7948a6a2",
   "metadata": {},
   "outputs": [
    {
     "name": "stdout",
     "output_type": "stream",
     "text": [
      "5\n",
      "9\n",
      "8\n",
      "32\n",
      "16.0\n",
      "4.0\n",
      "16.0\n"
     ]
    }
   ],
   "source": [
    "#assignment operator\n",
    "x = 5\n",
    "print(x) #5\n",
    "\n",
    "#addition assignment\n",
    "x += 4\n",
    "print(x) #9\n",
    "\n",
    "#subrtaction assignment\n",
    "x -= 1\n",
    "print(x) #8\n",
    "\n",
    "#multiplication assignment\n",
    "x *= 4\n",
    "print(x) #32\n",
    "\n",
    "#division assignment\n",
    "x /= 2\n",
    "print(x) #16.0\n",
    "\n",
    "#remainder assignment\n",
    "x %= 6\n",
    "print(x) #4.0\n",
    "\n",
    "#exponent assignment\n",
    "x **= 2\n",
    "print(x) #16.0"
   ]
  },
  {
   "cell_type": "markdown",
   "id": "5bf49f4f",
   "metadata": {},
   "source": [
    "#### Comparison Operators"
   ]
  },
  {
   "cell_type": "code",
   "execution_count": 105,
   "id": "03ddcd46",
   "metadata": {},
   "outputs": [
    {
     "name": "stdout",
     "output_type": "stream",
     "text": [
      "2 == 6 False\n",
      "2 != 6 True\n",
      "2 > 3 False\n",
      "2 < 3 True\n",
      "2 >= 3 False\n",
      "2 <= 2 True\n"
     ]
    }
   ],
   "source": [
    "#is equal to\n",
    "print(\"2 == 6\", 2 == 6) #False\n",
    "\n",
    "#not equal to\n",
    "print(\"2 != 6\", 2 != 6) #True\n",
    "\n",
    "#greater than\n",
    "print(\"2 > 3\", 2 > 3) #False\n",
    "\n",
    "#less than\n",
    "print(\"2 < 3\", 2 < 3) #True\n",
    "\n",
    "#greater than or equal to\n",
    "print(\"2 >= 3\", 2 >= 3) #False\n",
    "\n",
    "#less than or equal to\n",
    "print(\"2 <= 2\", 2 <= 2) #True"
   ]
  },
  {
   "cell_type": "markdown",
   "id": "120e4df1",
   "metadata": {},
   "source": [
    "#### Logical Operators"
   ]
  },
  {
   "cell_type": "code",
   "execution_count": 106,
   "id": "098a0cb5",
   "metadata": {},
   "outputs": [
    {
     "name": "stdout",
     "output_type": "stream",
     "text": [
      "2 == 2 and 1 == 2 False\n",
      "2 == 2 or 1 == 2 True\n",
      "not 2 == 2 False\n"
     ]
    }
   ],
   "source": [
    "#logical and\n",
    "print(\"2 == 2 and 1 == 2\", 2 == 2 and 1 == 2) #False\n",
    "\n",
    "#logical or\n",
    "print(\"2 == 2 or 1 == 2\", 2 == 2 or 1 == 2) #True\n",
    "\n",
    "#logical not\n",
    "print(\"not 2 == 2\", not 2 == 2) #False\n"
   ]
  },
  {
   "cell_type": "markdown",
   "id": "8049bbf5",
   "metadata": {},
   "source": [
    "#### Bitwise Operators"
   ]
  },
  {
   "cell_type": "code",
   "execution_count": 107,
   "id": "04a80c4f",
   "metadata": {},
   "outputs": [
    {
     "name": "stdout",
     "output_type": "stream",
     "text": [
      "4 & 10 = 0\n",
      "4 | 10 = 14\n",
      "~4 = -5\n",
      "4 ^ 10 = 14\n",
      "10 >> 4 = 0\n",
      "10 << 4 = 160\n"
     ]
    }
   ],
   "source": [
    "x = 4 #0000 0100\n",
    "y = 10 #0000 1010\n",
    "#bitwise and\n",
    "print(\"4 & 10 =\", x & y) #0000 0000 = 0\n",
    "\n",
    "#bitwise or\n",
    "print(\"4 | 10 =\", x | y) #0000 1110 = 14\n",
    "\n",
    "#bitwise not\n",
    "print(\"~4 =\", ~x) #1111 1011 = \n",
    "\n",
    "#bitwise xor\n",
    "print(\"4 ^ 10 =\", x ^ y) #0000 1110 = 14\n",
    "\n",
    "#bitwise right shift\n",
    "print(\"10 >> 4 =\", y >> x) #0000 0000 = 0\n",
    "\n",
    "#bitwise left shift\n",
    "print(\"10 << 4 =\", y << x) #1010 0000 = 160"
   ]
  },
  {
   "cell_type": "markdown",
   "id": "2f6bccdc",
   "metadata": {},
   "source": [
    "#### Special Operators"
   ]
  },
  {
   "cell_type": "code",
   "execution_count": 108,
   "id": "eadc9d1d",
   "metadata": {},
   "outputs": [
    {
     "name": "stdout",
     "output_type": "stream",
     "text": [
      "False\n",
      "True\n",
      "True\n",
      "True\n",
      "False\n",
      "True\n",
      "False\n",
      "False\n"
     ]
    }
   ],
   "source": [
    "#----- Identity Operators -----\n",
    "x = 3\n",
    "y = 4\n",
    "\n",
    "#is\n",
    "print(x is y) #False\n",
    "\n",
    "#is not\n",
    "print(x is not y) #True\n",
    "\n",
    "#----- Membership Operators -----\n",
    "fruits = [\"apple\", \"banana\", \"pineapple\", \"grape\"]\n",
    "details = {1: \"Krisha\", 2: \"Hritik\", 2: \"Isha\"}\n",
    "\n",
    "# in\n",
    "print(\"apple\" in fruits) #True\n",
    "print(1 in details) #True\n",
    "print(\"Krisha\" in details) #False\n",
    "print(\"isha\" in \"Krisha\") #True\n",
    "\n",
    "#not in\n",
    "print(\"apple\" not in fruits) #False\n",
    "print(5 in details) #False\n"
   ]
  },
  {
   "cell_type": "markdown",
   "id": "81ba637f",
   "metadata": {},
   "source": [
    "### Comments"
   ]
  },
  {
   "cell_type": "code",
   "execution_count": 109,
   "id": "c8088d63",
   "metadata": {},
   "outputs": [
    {
     "data": {
      "text/plain": [
       "'\\nmulti\\nline\\ncomment\\n'"
      ]
     },
     "execution_count": 109,
     "metadata": {},
     "output_type": "execute_result"
    }
   ],
   "source": [
    "# single line comment\n",
    "\n",
    "\"\"\"\n",
    "multi\n",
    "line\n",
    "comment\n",
    "\"\"\""
   ]
  },
  {
   "cell_type": "markdown",
   "id": "3e5f9b3c",
   "metadata": {},
   "source": [
    "### String and its operators"
   ]
  },
  {
   "cell_type": "markdown",
   "id": "a1c79ef8",
   "metadata": {},
   "source": [
    "#### Single and double quotes"
   ]
  },
  {
   "cell_type": "code",
   "execution_count": 110,
   "id": "11b538f0",
   "metadata": {},
   "outputs": [
    {
     "name": "stdout",
     "output_type": "stream",
     "text": [
      "Hi, I am Pranima Kansakar.\n",
      "Hi, I'm Pranima Kansakar.\n",
      "Hi, I'm Pranima Kansakar.\n"
     ]
    }
   ],
   "source": [
    "# string using single quote ''\n",
    "print('Hi, I am Pranima Kansakar.')\n",
    "print('Hi, I\\'m Pranima Kansakar.')\n",
    "\n",
    "# string using double quote \"\"\n",
    "print(\"Hi, I'm Pranima Kansakar.\")"
   ]
  },
  {
   "cell_type": "markdown",
   "id": "bc807d79",
   "metadata": {},
   "source": [
    "### Accessing string characters"
   ]
  },
  {
   "cell_type": "markdown",
   "id": "f16a5000",
   "metadata": {},
   "source": [
    "#### Indexing"
   ]
  },
  {
   "cell_type": "code",
   "execution_count": 111,
   "id": "844ab645",
   "metadata": {},
   "outputs": [
    {
     "name": "stdout",
     "output_type": "stream",
     "text": [
      "i\n",
      "m\n"
     ]
    }
   ],
   "source": [
    "name = \"Pranima\"\n",
    "\n",
    "#access 4th index element\n",
    "print(name[4]) #i\n",
    "\n",
    "#access 2nd last element\n",
    "print(name[-2]) #m"
   ]
  },
  {
   "cell_type": "markdown",
   "id": "34b3b389",
   "metadata": {},
   "source": [
    "#### Slicing"
   ]
  },
  {
   "cell_type": "code",
   "execution_count": 112,
   "id": "519bc63c",
   "metadata": {},
   "outputs": [
    {
     "name": "stdout",
     "output_type": "stream",
     "text": [
      "ello\n",
      "lo hr\n",
      "eet,le\n"
     ]
    }
   ],
   "source": [
    "message = \"Hello, there!\"\n",
    "\n",
    "#access characters from 1st to 4th index\n",
    "print(message[1:5])\n",
    "\n",
    "#access characters from 2nd to last index with step 2\n",
    "print(message[2:-1:2])\n",
    "\n",
    "#access character from 2nd last to 1st index element with step -2\n",
    "print(message[-2:0:-2])"
   ]
  },
  {
   "cell_type": "markdown",
   "id": "bf549358",
   "metadata": {},
   "source": [
    "Example to reverse string in python"
   ]
  },
  {
   "cell_type": "code",
   "execution_count": 113,
   "id": "53dcf4a0",
   "metadata": {},
   "outputs": [
    {
     "name": "stdout",
     "output_type": "stream",
     "text": [
      "String: Pranima\n",
      "Reversed string using slicing: aminarP\n"
     ]
    }
   ],
   "source": [
    "#using slicing\n",
    "word = \"Pranima\"\n",
    "print(\"String:\", word)\n",
    "reversed_word = word[-1::-1]\n",
    "print(\"Reversed string using slicing:\", reversed_word)"
   ]
  },
  {
   "cell_type": "code",
   "execution_count": 114,
   "id": "5e2cb53a",
   "metadata": {},
   "outputs": [
    {
     "name": "stdout",
     "output_type": "stream",
     "text": [
      "aminarP\n"
     ]
    }
   ],
   "source": [
    "#using indexing, join operation and for loop\n",
    "word = \"Pranima\"\n",
    "reversed_word = \"\" #strings are immutable, so we need another variable to store the reversed string instead of changing the original string\n",
    "for i in range(len(word)): #len() method is used to find length of a string\n",
    "    reversed_word = word[i] + reversed_word #join operation on strings\n",
    "print(reversed_word)"
   ]
  },
  {
   "cell_type": "markdown",
   "id": "65144901",
   "metadata": {},
   "source": [
    "Example to capitalize the first and the last character of each word in a string"
   ]
  },
  {
   "cell_type": "code",
   "execution_count": 140,
   "id": "d9c85d28",
   "metadata": {},
   "outputs": [
    {
     "name": "stdout",
     "output_type": "stream",
     "text": [
      "My name is pranima kansakar i\n",
      "MY NamE IS PranimA KansakaR II \n"
     ]
    }
   ],
   "source": [
    "string = \"My name is pranima kansakar i\"\n",
    "words = string.split(' ')\n",
    "\n",
    "new_string = \"\"\n",
    "for word in words:\n",
    "    new_string += word[0].upper() #capitalize first character of word\n",
    "    for i in range(1, len(word) - 1):\n",
    "          new_string += word[i]\n",
    "    new_string += word[-1].upper() #capitalize last character of word\n",
    "    new_string += \" \"\n",
    "\n",
    "print(string)\n",
    "print(new_string)"
   ]
  },
  {
   "cell_type": "markdown",
   "id": "1289edb2",
   "metadata": {},
   "source": [
    "### String Operations"
   ]
  },
  {
   "cell_type": "markdown",
   "id": "a4a09263",
   "metadata": {},
   "source": [
    "#### Comparing two strings"
   ]
  },
  {
   "cell_type": "code",
   "execution_count": 116,
   "id": "92a9ad2c",
   "metadata": {},
   "outputs": [
    {
     "name": "stdout",
     "output_type": "stream",
     "text": [
      "True\n",
      "False\n"
     ]
    }
   ],
   "source": [
    "print(\"hello\" == \"hello\") #True\n",
    "print(\"hello\" == \"Hello\") #False"
   ]
  },
  {
   "cell_type": "markdown",
   "id": "51e12d18",
   "metadata": {},
   "source": [
    "#### Joining two strings"
   ]
  },
  {
   "cell_type": "code",
   "execution_count": 117,
   "id": "74479b54",
   "metadata": {},
   "outputs": [
    {
     "name": "stdout",
     "output_type": "stream",
     "text": [
      "PranimaKansakar\n"
     ]
    }
   ],
   "source": [
    "f_name = \"Pranima\"\n",
    "l_name = \"Kansakar\"\n",
    "print(f_name + l_name)"
   ]
  },
  {
   "cell_type": "markdown",
   "id": "f51210a9",
   "metadata": {},
   "source": [
    "### Iterating through a string"
   ]
  },
  {
   "cell_type": "code",
   "execution_count": 118,
   "id": "9f7d597a",
   "metadata": {},
   "outputs": [
    {
     "name": "stdout",
     "output_type": "stream",
     "text": [
      "a\n",
      "p\n",
      "p\n",
      "l\n",
      "e\n"
     ]
    }
   ],
   "source": [
    "for char in \"apple\":\n",
    "    print(char)"
   ]
  },
  {
   "cell_type": "markdown",
   "id": "65521927",
   "metadata": {},
   "source": [
    "#### Finding length of a string"
   ]
  },
  {
   "cell_type": "code",
   "execution_count": 119,
   "id": "58af4abc",
   "metadata": {},
   "outputs": [
    {
     "data": {
      "text/plain": [
       "5"
      ]
     },
     "execution_count": 119,
     "metadata": {},
     "output_type": "execute_result"
    }
   ],
   "source": [
    "len(\"hello\")"
   ]
  },
  {
   "cell_type": "markdown",
   "id": "01ec7ab2",
   "metadata": {},
   "source": [
    "### String membership test"
   ]
  },
  {
   "cell_type": "code",
   "execution_count": 120,
   "id": "0d7aac05",
   "metadata": {},
   "outputs": [
    {
     "name": "stdout",
     "output_type": "stream",
     "text": [
      "True\n"
     ]
    }
   ],
   "source": [
    "#check if a string pranima contains a substring ra\n",
    "print(\"ra\" in \"pranima\") #True"
   ]
  },
  {
   "cell_type": "markdown",
   "id": "d94a50aa",
   "metadata": {},
   "source": [
    "### String Methods"
   ]
  },
  {
   "cell_type": "code",
   "execution_count": 1,
   "id": "233289ac",
   "metadata": {
    "scrolled": true
   },
   "outputs": [
    {
     "name": "stdout",
     "output_type": "stream",
     "text": [
      "HELLO, THERE!\n",
      "hello, there!\n",
      "('Hello', ', ', 'there!')\n",
      "Hi, there!\n",
      "1\n",
      "2\n",
      "-1\n",
      "Hello, there!\n",
      "['Hello,', 'there!']\n",
      "False\n",
      "True\n",
      "False\n",
      "1\n"
     ]
    }
   ],
   "source": [
    "greet = \"Hello, there!\"\n",
    "\n",
    "#upper()\n",
    "print(greet.upper())\n",
    "\n",
    "#lower()\n",
    "print(greet.lower())\n",
    "\n",
    "#partition()\n",
    "print(greet.partition(', '))\n",
    "\n",
    "#replace()\n",
    "print(greet.replace('Hello', 'Hi'))\n",
    "\n",
    "#find()\n",
    "print(greet.find(\"e\"))\n",
    "print(greet.find(\"llo\"))\n",
    "print(greet.find(\"n\"))\n",
    "\n",
    "#rstrip()\n",
    "print(greet.rstrip(\"ll\"))\n",
    "\n",
    "#split()\n",
    "print(greet.split(\" \"))\n",
    "\n",
    "#startswith()\n",
    "print(greet.startswith(\"l\"))\n",
    "print(greet.startswith(\"H\"))\n",
    "\n",
    "#isnumeric()\n",
    "print(greet.isnumeric())\n",
    "\n",
    "#index()\n",
    "print(greet.index(\"e\"))"
   ]
  },
  {
   "cell_type": "markdown",
   "id": "c492ce12",
   "metadata": {},
   "source": [
    "### Escape Sequences"
   ]
  },
  {
   "cell_type": "code",
   "execution_count": 122,
   "id": "23e12539",
   "metadata": {},
   "outputs": [
    {
     "name": "stdout",
     "output_type": "stream",
     "text": [
      "\\\n",
      "Hi I'm Pranima.\n",
      "He said, \"Hello!\"\n",
      "It's a lovely day\n",
      "\n",
      "This is \t horizontal tab.\n"
     ]
    }
   ],
   "source": [
    "print(\"\\\\\") #backslash\n",
    "print('Hi I\\'m Pranima.') #single quote\n",
    "print(\"He said, \\\"Hello!\\\"\") #double quote\n",
    "# print(\"\\a\")\n",
    "# print(\"\\b\")\n",
    "# print(\"\\f\")\n",
    "print(\"It's a lovely day\\n\") #ASCII Linefeed\n",
    "# print(\"\\r\")\n",
    "print(\"This is \\t horizontal tab.\") #ASCII Horizontal tab\n",
    "# print(\"This is \\v vertical tab\") #ASCII Vertical tab\n",
    "# print(\"\\ooo\")\n",
    "# print(\"\\xHH\")"
   ]
  },
  {
   "cell_type": "markdown",
   "id": "7d2031a1",
   "metadata": {},
   "source": [
    "### String Formatting"
   ]
  },
  {
   "cell_type": "code",
   "execution_count": 123,
   "id": "ef4a2b24",
   "metadata": {},
   "outputs": [
    {
     "name": "stdout",
     "output_type": "stream",
     "text": [
      "Hello, Pranima Kanskar. Nice to meet you!\n"
     ]
    }
   ],
   "source": [
    "fname = \"Pranima\"\n",
    "lname = \"Kanskar\"\n",
    "print(f\"Hello, {fname} {lname}. Nice to meet you!\") \n",
    "\n",
    "\n",
    "#try with logger"
   ]
  },
  {
   "cell_type": "markdown",
   "id": "383998db",
   "metadata": {},
   "source": [
    "### Booleans and Numbers(Integers, Floats, Scientific Notations)"
   ]
  },
  {
   "cell_type": "markdown",
   "id": "b9daf8da",
   "metadata": {},
   "source": [
    "#### Booleans"
   ]
  },
  {
   "cell_type": "markdown",
   "id": "7d4684ef",
   "metadata": {},
   "source": [
    "The boolean value can be of two types only i.e. either True or False. The output <class ‘bool’> indicates the variable is a boolean data type."
   ]
  },
  {
   "cell_type": "code",
   "execution_count": 2,
   "id": "186e586f",
   "metadata": {},
   "outputs": [
    {
     "name": "stdout",
     "output_type": "stream",
     "text": [
      "<class 'bool'>\n",
      "<class 'bool'>\n"
     ]
    }
   ],
   "source": [
    "a = True\n",
    "print(type(a))\n",
    " \n",
    "b = False\n",
    "print(type(b))"
   ]
  },
  {
   "cell_type": "markdown",
   "id": "943ee904",
   "metadata": {},
   "source": [
    "##### bool() method"
   ]
  },
  {
   "cell_type": "markdown",
   "id": "71c056d6",
   "metadata": {},
   "source": [
    "The bool() method returns:\n",
    "\n",
    "- False - if argument is empty, False, 0 or None\n",
    "- True - if argument is any number (besides 0), True or a string"
   ]
  },
  {
   "cell_type": "code",
   "execution_count": 5,
   "id": "c3718b22",
   "metadata": {},
   "outputs": [
    {
     "name": "stdout",
     "output_type": "stream",
     "text": [
      "3 -> True\n",
      "3.7 -> True\n",
      "Testing what bool() method returns. -> True\n",
      "True -> True\n"
     ]
    }
   ],
   "source": [
    "s = 3 #integer\n",
    "print(f\"{a} -> {bool(a)}\") #True\n",
    "\n",
    "d = 3.7 #float\n",
    "print(f\"{d} -> {bool(d)}\") #True\n",
    "\n",
    "f = \"Testing what bool() method returns.\" #string\n",
    "print(f\"{f} -> {bool(f)}\") #True\n",
    "\n",
    "g = True #boolean\n",
    "print(f\"{g} -> {bool(g)}\") #True"
   ]
  },
  {
   "cell_type": "code",
   "execution_count": 6,
   "id": "d9721824",
   "metadata": {},
   "outputs": [
    {
     "name": "stdout",
     "output_type": "stream",
     "text": [
      "0 -> False\n",
      "None -> False\n",
      "False -> False\n",
      "[] -> False\n"
     ]
    }
   ],
   "source": [
    "s1 = 0 #zero\n",
    "print(f\"{s1} -> {bool(s1)}\") #False\n",
    "\n",
    "s2 = None #none\n",
    "print(f\"{s2} -> {bool(s2)}\") #False\n",
    "\n",
    "s3 = False\n",
    "print(f\"{s3} -> {bool(s3)}\") #False\n",
    "\n",
    "s4 = [] #any empty argument\n",
    "print(f\"{s4} -> {bool(s4)}\") #False"
   ]
  },
  {
   "cell_type": "markdown",
   "id": "47c06a7b",
   "metadata": {},
   "source": [
    "#### Boolean Operators\n",
    "Boolean Operations are simple arithmetic of True and False values. These values can be manipulated by the use of boolean operators which include AND, Or, and NOT. Common boolean operations are –\n",
    "\n",
    "- or\n",
    "- and\n",
    "- not\n",
    "- == (equivalent)\n",
    "- != (not equivalent)\n"
   ]
  },
  {
   "cell_type": "markdown",
   "id": "904c6ff0",
   "metadata": {},
   "source": [
    "#### Numbers"
   ]
  },
  {
   "cell_type": "markdown",
   "id": "d17319eb",
   "metadata": {},
   "source": [
    "Python supports integers, floating-point numbers and complex numbers. They are defined as int, float, and complex classes in Python.\n",
    "\n",
    "- int - holds signed integers of non-limited length.\n",
    "- float - holds floating decimal points and it's accurate up to 15 decimal places.\n",
    "- complex - holds complex numbers."
   ]
  },
  {
   "cell_type": "code",
   "execution_count": 9,
   "id": "6ffa8cd5",
   "metadata": {},
   "outputs": [
    {
     "name": "stdout",
     "output_type": "stream",
     "text": [
      "3 is of type <class 'int'>\n",
      "3.432 is of type <class 'float'>\n",
      "3000000000000.0 is of type <class 'float'>\n",
      "(8+4j) is of type <class 'complex'>\n"
     ]
    }
   ],
   "source": [
    "num1 = 3 #integer\n",
    "print(num1, 'is of type', type(num1))\n",
    "\n",
    "num2 = 3.432 #float\n",
    "num3 = 3e12\n",
    "print(num2, 'is of type', type(num2))\n",
    "print(num3, 'is of type', type(num3))\n",
    "\n",
    "num4 = 8+4j #complex\n",
    "print(num4, 'is of type', type(num4))"
   ]
  },
  {
   "cell_type": "markdown",
   "id": "fd1e41e7",
   "metadata": {},
   "source": [
    "#### Scientific Notations\n",
    "Python displays values as scientific notation when they are bigger than 1×1015 or smaller than 1×10-4."
   ]
  },
  {
   "cell_type": "code",
   "execution_count": 10,
   "id": "d6455040",
   "metadata": {},
   "outputs": [
    {
     "name": "stdout",
     "output_type": "stream",
     "text": [
      "1.2345678912345678e+17\n",
      "1e-08\n"
     ]
    }
   ],
   "source": [
    "print(123456789123456789.5)\n",
    "print(0.00000001)"
   ]
  },
  {
   "cell_type": "markdown",
   "id": "bbf9c0b6",
   "metadata": {},
   "source": [
    "##### Converting scientific notation to decimal values\n",
    "We can suppress scientific notation by using in f-strings."
   ]
  },
  {
   "cell_type": "code",
   "execution_count": 16,
   "id": "a76227b0",
   "metadata": {},
   "outputs": [
    {
     "name": "stdout",
     "output_type": "stream",
     "text": [
      "value without supression:  1.23e-05\n",
      "value with supression: 0.0000123\n",
      "value with supression: 0.00001\n",
      "value with supression: 0.000012\n"
     ]
    }
   ],
   "source": [
    "value = 0.0000123\n",
    "print(\"value without supression: \", value)\n",
    "print(f\"value with supression: {value:.7f}\") #after decimal point, 7 digit will be displayed\n",
    "                                             # f represents float\n",
    "print(f\"value with supression: {value:.5f}\") #after decimal point, 5 digit will be displayed\n",
    "print(f\"value with supression: {value:f}\") #after decimal point, 6 digit will be displayed"
   ]
  },
  {
   "cell_type": "markdown",
   "id": "1bf41dbb",
   "metadata": {},
   "source": [
    "##### Converting floating point values to scientific notation\n",
    "We can use the f-string formatter again, using e to represent that we want the values to b expressed in scientific notation."
   ]
  },
  {
   "cell_type": "code",
   "execution_count": 25,
   "id": "8500b484",
   "metadata": {},
   "outputs": [
    {
     "name": "stdout",
     "output_type": "stream",
     "text": [
      "value without scientific notation:  345000\n",
      "value with scientific notation: 3.450000e+05\n",
      "value with scientific notation: 3.450e+05\n"
     ]
    }
   ],
   "source": [
    "value = 345000\n",
    "print(\"value without scientific notation: \", value)\n",
    "print(f\"value with scientific notation: {value:e}\") #e represents scientific format\n",
    "print(f\"value with scientific notation: {value:.3e}\") # after decimal point, only 3 digits will be displayed"
   ]
  },
  {
   "cell_type": "markdown",
   "id": "ed9346a0",
   "metadata": {},
   "source": [
    "## Module 4: Input/Output Operations"
   ]
  },
  {
   "cell_type": "markdown",
   "id": "8263484e",
   "metadata": {},
   "source": [
    "### Typecasting\n",
    "There are two types of type conversion in Python.\n",
    "\n",
    "- Implicit Conversion - automatic type conversion\n",
    "- Explicit Conversion - manual type conversion"
   ]
  },
  {
   "cell_type": "markdown",
   "id": "48822bf6",
   "metadata": {},
   "source": [
    "#### Python Implicit Type Conversion\n",
    "#### Converting integer to float\n",
    "Python always converts smaller data types (integer) to larger data types (float) to avoid the loss of data."
   ]
  },
  {
   "cell_type": "code",
   "execution_count": 1,
   "id": "2d18507a",
   "metadata": {},
   "outputs": [
    {
     "name": "stdout",
     "output_type": "stream",
     "text": [
      "143.97\n",
      "<class 'float'>\n"
     ]
    }
   ],
   "source": [
    "int_num = 55\n",
    "float_num = 88.97\n",
    "\n",
    "sum = int_num + float_num\n",
    "print(sum)\n",
    "print(type(sum))"
   ]
  },
  {
   "cell_type": "markdown",
   "id": "8ae934e5",
   "metadata": {},
   "source": [
    "We get TypeError, if we try to add str and int. "
   ]
  },
  {
   "cell_type": "code",
   "execution_count": 3,
   "id": "ff4a8a05",
   "metadata": {},
   "outputs": [
    {
     "ename": "TypeError",
     "evalue": "unsupported operand type(s) for +: 'int' and 'str'",
     "output_type": "error",
     "traceback": [
      "\u001b[1;31m---------------------------------------------------------------------------\u001b[0m",
      "\u001b[1;31mTypeError\u001b[0m                                 Traceback (most recent call last)",
      "Cell \u001b[1;32mIn[3], line 3\u001b[0m\n\u001b[0;32m      1\u001b[0m int_num \u001b[38;5;241m=\u001b[39m \u001b[38;5;241m3\u001b[39m\n\u001b[0;32m      2\u001b[0m st \u001b[38;5;241m=\u001b[39m \u001b[38;5;124m\"\u001b[39m\u001b[38;5;124m90\u001b[39m\u001b[38;5;124m\"\u001b[39m\n\u001b[1;32m----> 3\u001b[0m \u001b[38;5;28mprint\u001b[39m(\u001b[43mint_num\u001b[49m\u001b[43m \u001b[49m\u001b[38;5;241;43m+\u001b[39;49m\u001b[43m \u001b[49m\u001b[43mst\u001b[49m)\n",
      "\u001b[1;31mTypeError\u001b[0m: unsupported operand type(s) for +: 'int' and 'str'"
     ]
    }
   ],
   "source": [
    "int_num = 3\n",
    "st = \"90\"\n",
    "print(int_num + st)"
   ]
  },
  {
   "cell_type": "markdown",
   "id": "0b8b7ae4",
   "metadata": {},
   "source": [
    "For such case, we use exlpicit type conversion."
   ]
  },
  {
   "cell_type": "markdown",
   "id": "abbd22d3",
   "metadata": {},
   "source": [
    "#### Explicit Type Conversion (Typecasting)\n",
    "We use the built-in functions like int(), float(), str(), complex(), bool(), etc to perform explicit type conversion.\n",
    "\n",
    "Let us add an integer and a string number using typecasting."
   ]
  },
  {
   "cell_type": "code",
   "execution_count": 5,
   "id": "9cfc02eb",
   "metadata": {},
   "outputs": [
    {
     "name": "stdout",
     "output_type": "stream",
     "text": [
      "33\n",
      "<class 'int'>\n"
     ]
    }
   ],
   "source": [
    "int_num = 3\n",
    "st_num = \"30\"\n",
    "sum = int_num + int(st_num)\n",
    "print(sum)\n",
    "print(type(sum))"
   ]
  },
  {
   "cell_type": "markdown",
   "id": "8fb10172",
   "metadata": {},
   "source": [
    "##### Int conversion"
   ]
  },
  {
   "cell_type": "code",
   "execution_count": 10,
   "id": "2c66b9a7",
   "metadata": {},
   "outputs": [
    {
     "name": "stdout",
     "output_type": "stream",
     "text": [
      "12\n",
      "199\n"
     ]
    },
    {
     "ename": "ValueError",
     "evalue": "invalid literal for int() with base 10: '12.4'",
     "output_type": "error",
     "traceback": [
      "\u001b[1;31m---------------------------------------------------------------------------\u001b[0m",
      "\u001b[1;31mValueError\u001b[0m                                Traceback (most recent call last)",
      "Cell \u001b[1;32mIn[10], line 6\u001b[0m\n\u001b[0;32m      4\u001b[0m \u001b[38;5;66;03m#str to int\u001b[39;00m\n\u001b[0;32m      5\u001b[0m \u001b[38;5;28mprint\u001b[39m(\u001b[38;5;28mint\u001b[39m(\u001b[38;5;124m\"\u001b[39m\u001b[38;5;124m199\u001b[39m\u001b[38;5;124m\"\u001b[39m))\n\u001b[1;32m----> 6\u001b[0m \u001b[38;5;28mprint\u001b[39m(\u001b[38;5;28;43mint\u001b[39;49m\u001b[43m(\u001b[49m\u001b[38;5;124;43m\"\u001b[39;49m\u001b[38;5;124;43m12.4\u001b[39;49m\u001b[38;5;124;43m\"\u001b[39;49m\u001b[43m)\u001b[49m)\n\u001b[0;32m      8\u001b[0m \u001b[38;5;66;03m#bool to int\u001b[39;00m\n\u001b[0;32m      9\u001b[0m \u001b[38;5;28mprint\u001b[39m(\u001b[38;5;28mint\u001b[39m(\u001b[38;5;28;01mTrue\u001b[39;00m))\n",
      "\u001b[1;31mValueError\u001b[0m: invalid literal for int() with base 10: '12.4'"
     ]
    }
   ],
   "source": [
    "#float to int\n",
    "print(int(12.4))\n",
    "\n",
    "#str to int\n",
    "print(int(\"199\"))\n",
    "\n",
    "#bool to int\n",
    "print(int(True))\n",
    "print(int(False))\n",
    "\n"
   ]
  },
  {
   "cell_type": "code",
   "execution_count": 11,
   "id": "472c01c7",
   "metadata": {},
   "outputs": [
    {
     "ename": "ValueError",
     "evalue": "invalid literal for int() with base 10: '12.4'",
     "output_type": "error",
     "traceback": [
      "\u001b[1;31m---------------------------------------------------------------------------\u001b[0m",
      "\u001b[1;31mValueError\u001b[0m                                Traceback (most recent call last)",
      "Cell \u001b[1;32mIn[11], line 1\u001b[0m\n\u001b[1;32m----> 1\u001b[0m \u001b[38;5;28mprint\u001b[39m(\u001b[38;5;28;43mint\u001b[39;49m\u001b[43m(\u001b[49m\u001b[38;5;124;43m\"\u001b[39;49m\u001b[38;5;124;43m12.4\u001b[39;49m\u001b[38;5;124;43m\"\u001b[39;49m\u001b[43m)\u001b[49m)\n",
      "\u001b[1;31mValueError\u001b[0m: invalid literal for int() with base 10: '12.4'"
     ]
    }
   ],
   "source": [
    "print(int(\"12.4\"))"
   ]
  },
  {
   "cell_type": "code",
   "execution_count": 12,
   "id": "1839c27a",
   "metadata": {},
   "outputs": [
    {
     "ename": "ValueError",
     "evalue": "invalid literal for int() with base 10: 'sds'",
     "output_type": "error",
     "traceback": [
      "\u001b[1;31m---------------------------------------------------------------------------\u001b[0m",
      "\u001b[1;31mValueError\u001b[0m                                Traceback (most recent call last)",
      "Cell \u001b[1;32mIn[12], line 1\u001b[0m\n\u001b[1;32m----> 1\u001b[0m \u001b[38;5;28mprint\u001b[39m(\u001b[38;5;28;43mint\u001b[39;49m\u001b[43m(\u001b[49m\u001b[38;5;124;43m\"\u001b[39;49m\u001b[38;5;124;43msds\u001b[39;49m\u001b[38;5;124;43m\"\u001b[39;49m\u001b[43m)\u001b[49m)\n",
      "\u001b[1;31mValueError\u001b[0m: invalid literal for int() with base 10: 'sds'"
     ]
    }
   ],
   "source": [
    "print(int(\"sds\"))"
   ]
  },
  {
   "cell_type": "code",
   "execution_count": 13,
   "id": "89086595",
   "metadata": {},
   "outputs": [
    {
     "ename": "ValueError",
     "evalue": "invalid literal for int() with base 10: '0B10110'",
     "output_type": "error",
     "traceback": [
      "\u001b[1;31m---------------------------------------------------------------------------\u001b[0m",
      "\u001b[1;31mValueError\u001b[0m                                Traceback (most recent call last)",
      "Cell \u001b[1;32mIn[13], line 1\u001b[0m\n\u001b[1;32m----> 1\u001b[0m \u001b[38;5;28;43mint\u001b[39;49m\u001b[43m(\u001b[49m\u001b[38;5;124;43m\"\u001b[39;49m\u001b[38;5;124;43m0B10110\u001b[39;49m\u001b[38;5;124;43m\"\u001b[39;49m\u001b[43m)\u001b[49m\n",
      "\u001b[1;31mValueError\u001b[0m: invalid literal for int() with base 10: '0B10110'"
     ]
    }
   ],
   "source": [
    "int(\"0B10110\")"
   ]
  },
  {
   "cell_type": "code",
   "execution_count": 14,
   "id": "3a034c80",
   "metadata": {},
   "outputs": [
    {
     "ename": "TypeError",
     "evalue": "can't convert complex to int",
     "output_type": "error",
     "traceback": [
      "\u001b[1;31m---------------------------------------------------------------------------\u001b[0m",
      "\u001b[1;31mTypeError\u001b[0m                                 Traceback (most recent call last)",
      "Cell \u001b[1;32mIn[14], line 1\u001b[0m\n\u001b[1;32m----> 1\u001b[0m \u001b[38;5;28;43mint\u001b[39;49m\u001b[43m(\u001b[49m\u001b[38;5;241;43m3\u001b[39;49m\u001b[38;5;241;43m+\u001b[39;49m\u001b[38;5;241;43m2\u001b[39;49m\u001b[43mj\u001b[49m\u001b[43m)\u001b[49m\n",
      "\u001b[1;31mTypeError\u001b[0m: can't convert complex to int"
     ]
    }
   ],
   "source": [
    "int(3+2j)"
   ]
  },
  {
   "cell_type": "markdown",
   "id": "9ec91b70",
   "metadata": {},
   "source": [
    "##### Float conversion"
   ]
  },
  {
   "cell_type": "code",
   "execution_count": 15,
   "id": "87a86511",
   "metadata": {},
   "outputs": [
    {
     "data": {
      "text/plain": [
       "12.0"
      ]
     },
     "execution_count": 15,
     "metadata": {},
     "output_type": "execute_result"
    }
   ],
   "source": [
    "float(12)"
   ]
  },
  {
   "cell_type": "code",
   "execution_count": 17,
   "id": "11bdcc78",
   "metadata": {},
   "outputs": [
    {
     "data": {
      "text/plain": [
       "0.0"
      ]
     },
     "execution_count": 17,
     "metadata": {},
     "output_type": "execute_result"
    }
   ],
   "source": [
    "float(False)"
   ]
  },
  {
   "cell_type": "code",
   "execution_count": 18,
   "id": "7a29ed66",
   "metadata": {},
   "outputs": [
    {
     "data": {
      "text/plain": [
       "1.0"
      ]
     },
     "execution_count": 18,
     "metadata": {},
     "output_type": "execute_result"
    }
   ],
   "source": [
    "float(True)"
   ]
  },
  {
   "cell_type": "code",
   "execution_count": 19,
   "id": "68b13ac2",
   "metadata": {},
   "outputs": [
    {
     "data": {
      "text/plain": [
       "33.0"
      ]
     },
     "execution_count": 19,
     "metadata": {},
     "output_type": "execute_result"
    }
   ],
   "source": [
    "float(\"33\")"
   ]
  },
  {
   "cell_type": "code",
   "execution_count": 20,
   "id": "e52dafd9",
   "metadata": {},
   "outputs": [
    {
     "ename": "ValueError",
     "evalue": "could not convert string to float: 'we'",
     "output_type": "error",
     "traceback": [
      "\u001b[1;31m---------------------------------------------------------------------------\u001b[0m",
      "\u001b[1;31mValueError\u001b[0m                                Traceback (most recent call last)",
      "Cell \u001b[1;32mIn[20], line 1\u001b[0m\n\u001b[1;32m----> 1\u001b[0m \u001b[38;5;28;43mfloat\u001b[39;49m\u001b[43m(\u001b[49m\u001b[38;5;124;43m\"\u001b[39;49m\u001b[38;5;124;43mwe\u001b[39;49m\u001b[38;5;124;43m\"\u001b[39;49m\u001b[43m)\u001b[49m\n",
      "\u001b[1;31mValueError\u001b[0m: could not convert string to float: 'we'"
     ]
    }
   ],
   "source": [
    "float(\"we\")"
   ]
  },
  {
   "cell_type": "code",
   "execution_count": 16,
   "id": "25776936",
   "metadata": {},
   "outputs": [
    {
     "ename": "TypeError",
     "evalue": "can't convert complex to float",
     "output_type": "error",
     "traceback": [
      "\u001b[1;31m---------------------------------------------------------------------------\u001b[0m",
      "\u001b[1;31mTypeError\u001b[0m                                 Traceback (most recent call last)",
      "Cell \u001b[1;32mIn[16], line 1\u001b[0m\n\u001b[1;32m----> 1\u001b[0m \u001b[38;5;28;43mfloat\u001b[39;49m\u001b[43m(\u001b[49m\u001b[38;5;241;43m1\u001b[39;49m\u001b[38;5;241;43m+\u001b[39;49m\u001b[38;5;241;43m6\u001b[39;49m\u001b[43mj\u001b[49m\u001b[43m)\u001b[49m\n",
      "\u001b[1;31mTypeError\u001b[0m: can't convert complex to float"
     ]
    }
   ],
   "source": [
    "float(1+6j)"
   ]
  },
  {
   "cell_type": "code",
   "execution_count": 21,
   "id": "41d7bae4",
   "metadata": {},
   "outputs": [
    {
     "ename": "ValueError",
     "evalue": "could not convert string to float: '0B10101'",
     "output_type": "error",
     "traceback": [
      "\u001b[1;31m---------------------------------------------------------------------------\u001b[0m",
      "\u001b[1;31mValueError\u001b[0m                                Traceback (most recent call last)",
      "Cell \u001b[1;32mIn[21], line 1\u001b[0m\n\u001b[1;32m----> 1\u001b[0m \u001b[38;5;28;43mfloat\u001b[39;49m\u001b[43m(\u001b[49m\u001b[38;5;124;43m\"\u001b[39;49m\u001b[38;5;124;43m0B10101\u001b[39;49m\u001b[38;5;124;43m\"\u001b[39;49m\u001b[43m)\u001b[49m\n",
      "\u001b[1;31mValueError\u001b[0m: could not convert string to float: '0B10101'"
     ]
    }
   ],
   "source": [
    "float(\"0B10101\")"
   ]
  },
  {
   "cell_type": "markdown",
   "id": "c1c7c033",
   "metadata": {},
   "source": [
    "##### Complex conversion"
   ]
  },
  {
   "cell_type": "code",
   "execution_count": 22,
   "id": "d29e4d81",
   "metadata": {},
   "outputs": [
    {
     "data": {
      "text/plain": [
       "(10+0j)"
      ]
     },
     "execution_count": 22,
     "metadata": {},
     "output_type": "execute_result"
    }
   ],
   "source": [
    "#real part and 0 imaginary part\n",
    "complex(10)"
   ]
  },
  {
   "cell_type": "code",
   "execution_count": 24,
   "id": "68477216",
   "metadata": {},
   "outputs": [
    {
     "data": {
      "text/plain": [
       "(10+3j)"
      ]
     },
     "execution_count": 24,
     "metadata": {},
     "output_type": "execute_result"
    }
   ],
   "source": [
    "#real and imaginary part both\n",
    "complex(10, 3)"
   ]
  },
  {
   "cell_type": "code",
   "execution_count": 25,
   "id": "75c51b55",
   "metadata": {},
   "outputs": [
    {
     "data": {
      "text/plain": [
       "(1+0j)"
      ]
     },
     "execution_count": 25,
     "metadata": {},
     "output_type": "execute_result"
    }
   ],
   "source": [
    "complex(True)"
   ]
  },
  {
   "cell_type": "code",
   "execution_count": 26,
   "id": "b0445012",
   "metadata": {},
   "outputs": [
    {
     "data": {
      "text/plain": [
       "0j"
      ]
     },
     "execution_count": 26,
     "metadata": {},
     "output_type": "execute_result"
    }
   ],
   "source": [
    "complex(False)"
   ]
  },
  {
   "cell_type": "code",
   "execution_count": 30,
   "id": "96d42148",
   "metadata": {},
   "outputs": [
    {
     "data": {
      "text/plain": [
       "(1+0j)"
      ]
     },
     "execution_count": 30,
     "metadata": {},
     "output_type": "execute_result"
    }
   ],
   "source": [
    "complex(True, False)"
   ]
  },
  {
   "cell_type": "code",
   "execution_count": 27,
   "id": "8946aa5d",
   "metadata": {},
   "outputs": [
    {
     "data": {
      "text/plain": [
       "(23.2+0j)"
      ]
     },
     "execution_count": 27,
     "metadata": {},
     "output_type": "execute_result"
    }
   ],
   "source": [
    "complex(23.2)"
   ]
  },
  {
   "cell_type": "code",
   "execution_count": 28,
   "id": "399dff1f",
   "metadata": {},
   "outputs": [
    {
     "data": {
      "text/plain": [
       "(122+0j)"
      ]
     },
     "execution_count": 28,
     "metadata": {},
     "output_type": "execute_result"
    }
   ],
   "source": [
    "complex(\"122\")"
   ]
  },
  {
   "cell_type": "code",
   "execution_count": 29,
   "id": "e8dc5c91",
   "metadata": {},
   "outputs": [
    {
     "ename": "ValueError",
     "evalue": "complex() arg is a malformed string",
     "output_type": "error",
     "traceback": [
      "\u001b[1;31m---------------------------------------------------------------------------\u001b[0m",
      "\u001b[1;31mValueError\u001b[0m                                Traceback (most recent call last)",
      "Cell \u001b[1;32mIn[29], line 1\u001b[0m\n\u001b[1;32m----> 1\u001b[0m \u001b[38;5;28;43mcomplex\u001b[39;49m\u001b[43m(\u001b[49m\u001b[38;5;124;43m\"\u001b[39;49m\u001b[38;5;124;43mwow\u001b[39;49m\u001b[38;5;124;43m\"\u001b[39;49m\u001b[43m)\u001b[49m\n",
      "\u001b[1;31mValueError\u001b[0m: complex() arg is a malformed string"
     ]
    }
   ],
   "source": [
    "complex(\"wow\")"
   ]
  },
  {
   "cell_type": "markdown",
   "id": "4b672970",
   "metadata": {},
   "source": [
    "##### Boolean Conversion"
   ]
  },
  {
   "cell_type": "code",
   "execution_count": 31,
   "id": "7b70a8ed",
   "metadata": {},
   "outputs": [
    {
     "data": {
      "text/plain": [
       "False"
      ]
     },
     "execution_count": 31,
     "metadata": {},
     "output_type": "execute_result"
    }
   ],
   "source": [
    "bool(0)"
   ]
  },
  {
   "cell_type": "code",
   "execution_count": 32,
   "id": "c668d365",
   "metadata": {},
   "outputs": [
    {
     "data": {
      "text/plain": [
       "True"
      ]
     },
     "execution_count": 32,
     "metadata": {},
     "output_type": "execute_result"
    }
   ],
   "source": [
    "bool(1)"
   ]
  },
  {
   "cell_type": "code",
   "execution_count": 33,
   "id": "85e5d084",
   "metadata": {},
   "outputs": [
    {
     "data": {
      "text/plain": [
       "True"
      ]
     },
     "execution_count": 33,
     "metadata": {},
     "output_type": "execute_result"
    }
   ],
   "source": [
    "bool(10)"
   ]
  },
  {
   "cell_type": "code",
   "execution_count": 34,
   "id": "f33f8b1b",
   "metadata": {},
   "outputs": [
    {
     "data": {
      "text/plain": [
       "True"
      ]
     },
     "execution_count": 34,
     "metadata": {},
     "output_type": "execute_result"
    }
   ],
   "source": [
    "bool(0.13332)"
   ]
  },
  {
   "cell_type": "code",
   "execution_count": 35,
   "id": "1fbc1c93",
   "metadata": {},
   "outputs": [
    {
     "data": {
      "text/plain": [
       "False"
      ]
     },
     "execution_count": 35,
     "metadata": {},
     "output_type": "execute_result"
    }
   ],
   "source": [
    "bool(0.0)"
   ]
  },
  {
   "cell_type": "code",
   "execution_count": 37,
   "id": "ec5c6be0",
   "metadata": {},
   "outputs": [
    {
     "data": {
      "text/plain": [
       "True"
      ]
     },
     "execution_count": 37,
     "metadata": {},
     "output_type": "execute_result"
    }
   ],
   "source": [
    "bool(10+6j)"
   ]
  },
  {
   "cell_type": "code",
   "execution_count": 38,
   "id": "9299e6d8",
   "metadata": {},
   "outputs": [
    {
     "data": {
      "text/plain": [
       "False"
      ]
     },
     "execution_count": 38,
     "metadata": {},
     "output_type": "execute_result"
    }
   ],
   "source": [
    "bool(0+0j)"
   ]
  },
  {
   "cell_type": "code",
   "execution_count": 39,
   "id": "19cfae12",
   "metadata": {},
   "outputs": [
    {
     "data": {
      "text/plain": [
       "True"
      ]
     },
     "execution_count": 39,
     "metadata": {},
     "output_type": "execute_result"
    }
   ],
   "source": [
    "bool(\"Apple\")"
   ]
  },
  {
   "cell_type": "code",
   "execution_count": 40,
   "id": "6449a0c5",
   "metadata": {},
   "outputs": [
    {
     "data": {
      "text/plain": [
       "False"
      ]
     },
     "execution_count": 40,
     "metadata": {},
     "output_type": "execute_result"
    }
   ],
   "source": [
    "bool(\"\")"
   ]
  },
  {
   "cell_type": "markdown",
   "id": "9dc2cd5a",
   "metadata": {},
   "source": [
    "##### String Conversion"
   ]
  },
  {
   "cell_type": "code",
   "execution_count": 41,
   "id": "764b20f0",
   "metadata": {},
   "outputs": [
    {
     "data": {
      "text/plain": [
       "'10'"
      ]
     },
     "execution_count": 41,
     "metadata": {},
     "output_type": "execute_result"
    }
   ],
   "source": [
    "str(10)"
   ]
  },
  {
   "cell_type": "code",
   "execution_count": 42,
   "id": "41dc374c",
   "metadata": {},
   "outputs": [
    {
     "data": {
      "text/plain": [
       "'10.5'"
      ]
     },
     "execution_count": 42,
     "metadata": {},
     "output_type": "execute_result"
    }
   ],
   "source": [
    "str(10.5)"
   ]
  },
  {
   "cell_type": "code",
   "execution_count": 43,
   "id": "8939b5a0",
   "metadata": {},
   "outputs": [
    {
     "data": {
      "text/plain": [
       "'True'"
      ]
     },
     "execution_count": 43,
     "metadata": {},
     "output_type": "execute_result"
    }
   ],
   "source": [
    "str(True)"
   ]
  },
  {
   "cell_type": "code",
   "execution_count": 44,
   "id": "039f8aaa",
   "metadata": {},
   "outputs": [
    {
     "data": {
      "text/plain": [
       "'(10+5j)'"
      ]
     },
     "execution_count": 44,
     "metadata": {},
     "output_type": "execute_result"
    }
   ],
   "source": [
    "str(10+5j)"
   ]
  },
  {
   "cell_type": "markdown",
   "id": "67415780",
   "metadata": {},
   "source": [
    "### Input function"
   ]
  },
  {
   "cell_type": "code",
   "execution_count": 14,
   "id": "0127e001",
   "metadata": {},
   "outputs": [
    {
     "name": "stdout",
     "output_type": "stream",
     "text": [
      "hi\n",
      "Your input: hi\n",
      "<class 'str'>\n"
     ]
    }
   ],
   "source": [
    "#simply taking an input\n",
    "inp = input()\n",
    "print(\"Your input:\", inp)\n",
    "print(type(inp))"
   ]
  },
  {
   "cell_type": "code",
   "execution_count": 5,
   "id": "8e13225c",
   "metadata": {},
   "outputs": [
    {
     "name": "stdout",
     "output_type": "stream",
     "text": [
      "Please enter your name: Pranima\n",
      "Your name is Pranima\n"
     ]
    }
   ],
   "source": [
    "#passing message while taking input\n",
    "name = input(\"Please enter your name: \")\n",
    "print(f\"Your name is {name}\")"
   ]
  },
  {
   "cell_type": "code",
   "execution_count": 6,
   "id": "7866eb29",
   "metadata": {},
   "outputs": [
    {
     "name": "stdout",
     "output_type": "stream",
     "text": [
      "Enter a number23\n",
      "Your input number is: 23\n"
     ]
    }
   ],
   "source": [
    "#taking an integer input\n",
    "num = int(input(\"Enter a number\"))\n",
    "print(\"Your input number is:\", num)"
   ]
  },
  {
   "cell_type": "code",
   "execution_count": 7,
   "id": "99806446",
   "metadata": {},
   "outputs": [
    {
     "name": "stdout",
     "output_type": "stream",
     "text": [
      "Please enter any three words: mouse laptop keyboard\n",
      "Three words you input were:\n",
      "mouse\n",
      "laptop\n",
      "keyboard\n"
     ]
    }
   ],
   "source": [
    "#separating input with spaces\n",
    "p, q, r = input(\"Please enter any three words: \").split()\n",
    "print(\"Three words you input were:\")\n",
    "print(p)\n",
    "print(q)\n",
    "print(r)"
   ]
  },
  {
   "cell_type": "code",
   "execution_count": 10,
   "id": "ac59bee4",
   "metadata": {},
   "outputs": [
    {
     "name": "stdout",
     "output_type": "stream",
     "text": [
      "Please enter three numbers: 2 3 4\n",
      "Three integers you input were:\n",
      "2\n",
      "3\n",
      "4\n"
     ]
    }
   ],
   "source": [
    "#separating input of integers\n",
    "a, b, c = map(int,input(\"Please enter three numbers: \").split())\n",
    "print(\"Three integers you input were:\")\n",
    "print(a)\n",
    "print(b)\n",
    "print(c)"
   ]
  },
  {
   "cell_type": "code",
   "execution_count": 13,
   "id": "a2dc9a4d",
   "metadata": {},
   "outputs": [
    {
     "name": "stdout",
     "output_type": "stream",
     "text": [
      "Enter floating point numbers separated by comma: 12.3, 34.5, 33, 24.8\n",
      "[12.3, 34.5, 33.0, 24.8]\n"
     ]
    }
   ],
   "source": [
    "#multiple comma separated floating point numbers in a list\n",
    "float_lists = [float(x) for x in input(\"Enter floating point numbers separated by comma: \").split(\",\")]\n",
    "print(float_lists)"
   ]
  },
  {
   "cell_type": "markdown",
   "id": "0281be07",
   "metadata": {},
   "source": [
    "### Print function\n",
    "The full syntax of the print() function, along with the default values of the parameters it takes, are shown below.\n",
    "\n",
    "This is what print() looks like underneath the hood:\n",
    "\n",
    "print(*object,sep=' ',end='\\n',file=sys.stdout,flush= False)\n",
    "\n",
    "Here,\n",
    "\n",
    "- *object can be none, one, or many data values to be printed, and it can be of any data type. Objects get converted to a string before printing.\n",
    "- sep is an optional parameter that specifies how more than one object are separated. The default is ' ' – a space.\n",
    "- end is an optional paramater that specifies with what the line will end. By default the print call ends with a newline, with \\n being the newline character.\n",
    "- file is an optional paramater which is an object with a write method – it can write and append (add) the output to a file. The default is sys.stdout (or system standard output) and the output is displayed on the screen.\n",
    "- flush is a boolean parameter that specifies whether the stream will be forcibly flushed or buffered. Flushed means whether the print call will immediately take affect. The default value is False (or buffered).\n",
    "\n",
    "The print() function has no return value."
   ]
  },
  {
   "cell_type": "code",
   "execution_count": null,
   "id": "f2815b8e",
   "metadata": {},
   "outputs": [],
   "source": []
  },
  {
   "cell_type": "markdown",
   "id": "35bedbc9",
   "metadata": {},
   "source": []
  },
  {
   "cell_type": "markdown",
   "id": "6d99a4f7",
   "metadata": {},
   "source": [
    "## Module 5: Data Types"
   ]
  },
  {
   "cell_type": "markdown",
   "id": "6e04d9aa",
   "metadata": {},
   "source": [
    "### List"
   ]
  },
  {
   "cell_type": "code",
   "execution_count": 29,
   "id": "224da6a2",
   "metadata": {},
   "outputs": [
    {
     "name": "stdout",
     "output_type": "stream",
     "text": [
      "List of strings:  ['apple', 'banana', 'grape', 'pineapple']\n",
      "List of integers: [10, 20, 30, 40]\n",
      "List of mixed data types: ['Pranima', 24, 3.9]\n",
      "Empty list: []\n",
      "Empty list using list() []\n",
      "Converting tuple to list: [1, 2, 3, 4]\n"
     ]
    }
   ],
   "source": [
    "#list with strings\n",
    "fruits = [\"apple\", \"banana\", \"grape\", \"pineapple\"]\n",
    "print(\"List of strings: \", fruits)\n",
    "\n",
    "#list with integers\n",
    "numbers = [10, 20, 30, 40]\n",
    "print(\"List of integers:\", numbers)\n",
    "\n",
    "#list with mixed data types\n",
    "mixed_list = [\"Pranima\", 24, 3.9]\n",
    "print(\"List of mixed data types:\", mixed_list)\n",
    "\n",
    "#empty list\n",
    "empty_list = []\n",
    "print(\"Empty list:\", empty_list)\n",
    "\n",
    "#list using list() \n",
    "llist = list()\n",
    "print(\"Empty list using list()\", llist)\n",
    "\n",
    "llist1 = list((1, 2, 3, 4))\n",
    "print(\"Converting tuple to list:\", llist1)"
   ]
  },
  {
   "cell_type": "markdown",
   "id": "7ee0dfa9",
   "metadata": {},
   "source": [
    "#### Accessing list members"
   ]
  },
  {
   "cell_type": "markdown",
   "id": "7e7208e1",
   "metadata": {},
   "source": [
    "##### Indexing and Negative Indexing"
   ]
  },
  {
   "cell_type": "code",
   "execution_count": 125,
   "id": "b0dfbad9",
   "metadata": {},
   "outputs": [
    {
     "name": "stdout",
     "output_type": "stream",
     "text": [
      "Ishar\n",
      "Krisha\n"
     ]
    }
   ],
   "source": [
    "student_names = [\"Pranima\", \"Krisha\", \"Hritik\", \"Ishar\"]\n",
    "\n",
    "#accessing item at index 3\n",
    "print(student_names[3]) #Hritik\n",
    "\n",
    "#accessing item at 3rd last index\n",
    "print(student_names[-3]) #Krisha"
   ]
  },
  {
   "cell_type": "markdown",
   "id": "c7a10790",
   "metadata": {},
   "source": [
    "##### Slicing"
   ]
  },
  {
   "cell_type": "code",
   "execution_count": 126,
   "id": "7babf7d1",
   "metadata": {},
   "outputs": [
    {
     "name": "stdout",
     "output_type": "stream",
     "text": [
      "[23, 7, 89]\n",
      "[89, 9, 78, 5]\n",
      "[12, 34, 23, 7, 89, 9, 78, 5]\n",
      "[12, 7, 78]\n",
      "[5, 78, 9, 89, 7, 23, 34, 12]\n"
     ]
    }
   ],
   "source": [
    "ages = [12, 34, 23, 7, 89, 9, 78, 5]\n",
    "\n",
    "#accessing items from index 2 to 4\n",
    "print(ages[2:5])\n",
    "\n",
    "#items from index 4 to end\n",
    "print(ages[4:])\n",
    "\n",
    "#items from beginning to end\n",
    "print(ages[:])\n",
    "\n",
    "#items from beginning to end with step 3\n",
    "print(ages[::3])\n",
    "\n",
    "#items from end to beginning\n",
    "print(ages[-1::-1])"
   ]
  },
  {
   "cell_type": "markdown",
   "id": "8e480d64",
   "metadata": {},
   "source": [
    "#### Iterating through a list in Python"
   ]
  },
  {
   "cell_type": "code",
   "execution_count": 38,
   "id": "47eaef93",
   "metadata": {},
   "outputs": [
    {
     "name": "stdout",
     "output_type": "stream",
     "text": [
      "gun\n",
      "sword\n",
      "bomb\n"
     ]
    }
   ],
   "source": [
    "armors = ('gun', 'sword', 'bomb')\n",
    "\n",
    "# iterating through the tuple\n",
    "for armor in armors:\n",
    "    print(armor)"
   ]
  },
  {
   "cell_type": "markdown",
   "id": "8eda7287",
   "metadata": {},
   "source": [
    "#### Check if an Item Exists in the Python list"
   ]
  },
  {
   "cell_type": "code",
   "execution_count": 39,
   "id": "0226f1c3",
   "metadata": {},
   "outputs": [
    {
     "name": "stdout",
     "output_type": "stream",
     "text": [
      "True\n"
     ]
    }
   ],
   "source": [
    "armors = ('gun', 'sword', 'bomb')\n",
    "\n",
    "print(\"gun\" in armors)"
   ]
  },
  {
   "cell_type": "markdown",
   "id": "e0c11738",
   "metadata": {},
   "source": [
    "### List methods"
   ]
  },
  {
   "cell_type": "markdown",
   "id": "20b36d43",
   "metadata": {},
   "source": [
    "#### Adding items to list\n",
    "append()\n",
    "\n",
    "extend()"
   ]
  },
  {
   "cell_type": "code",
   "execution_count": 127,
   "id": "db1dc831",
   "metadata": {},
   "outputs": [
    {
     "name": "stdout",
     "output_type": "stream",
     "text": [
      "Original list: ['Python', 'C++', 'javaScript', 'Java']\n",
      "List after appending 'Go': ['Python', 'C++', 'javaScript', 'Java', 'Go']\n",
      "List after extending with list ['Rust', 'Ruby']: ['Python', 'C++', 'javaScript', 'Java', 'Go', 'Rust', 'Ruby']\n"
     ]
    }
   ],
   "source": [
    "languages = [\"Python\", \"C++\", \"javaScript\", \"Java\"]\n",
    "print(\"Original list:\", languages)\n",
    "\n",
    "#adding an item to the end of the list using append()\n",
    "languages.append(\"Go\")\n",
    "print(\"List after appending 'Go':\", languages)\n",
    "\n",
    "#adding items of lists and other iterables to the end of the list using extend()\n",
    "languages.extend([\"Rust\", \"Ruby\"])\n",
    "print(\"List after extending with list ['Rust', 'Ruby']:\", languages)\n",
    "\n",
    "#inseting an item at the specified index using insert()"
   ]
  },
  {
   "cell_type": "markdown",
   "id": "167b4569",
   "metadata": {},
   "source": [
    "#### Removing items from the list"
   ]
  },
  {
   "cell_type": "markdown",
   "id": "c3e82c13",
   "metadata": {},
   "source": [
    "##### Removing an item from the list using remove()\n",
    "The remove() method removes the first matching element passed as an argument from the list. It does not return any value (returns None)."
   ]
  },
  {
   "cell_type": "code",
   "execution_count": 128,
   "id": "d60afa46",
   "metadata": {},
   "outputs": [
    {
     "name": "stdout",
     "output_type": "stream",
     "text": [
      "Original list: ['Python', 'C++', 'javaScript', 'Java', 'Go', 'Rust', 'Ruby', 'Python']\n",
      "List after removing 'Go': ['Python', 'C++', 'javaScript', 'Java', 'Rust', 'Ruby', 'Python']\n",
      "List after removing a duplicate item 'Python':  ['C++', 'javaScript', 'Java', 'Rust', 'Ruby', 'Python']\n"
     ]
    },
    {
     "ename": "ValueError",
     "evalue": "list.remove(x): x not in list",
     "output_type": "error",
     "traceback": [
      "\u001b[1;31m---------------------------------------------------------------------------\u001b[0m",
      "\u001b[1;31mValueError\u001b[0m                                Traceback (most recent call last)",
      "Cell \u001b[1;32mIn[128], line 15\u001b[0m\n\u001b[0;32m     11\u001b[0m \u001b[38;5;28mprint\u001b[39m(\u001b[38;5;124m\"\u001b[39m\u001b[38;5;124mList after removing a duplicate item \u001b[39m\u001b[38;5;124m'\u001b[39m\u001b[38;5;124mPython\u001b[39m\u001b[38;5;124m'\u001b[39m\u001b[38;5;124m: \u001b[39m\u001b[38;5;124m\"\u001b[39m, languages)\n\u001b[0;32m     13\u001b[0m \u001b[38;5;66;03m#remove an item that doesn't exist\u001b[39;00m\n\u001b[0;32m     14\u001b[0m \u001b[38;5;66;03m#throws ValueError exception\u001b[39;00m\n\u001b[1;32m---> 15\u001b[0m \u001b[43mlanguages\u001b[49m\u001b[38;5;241;43m.\u001b[39;49m\u001b[43mremove\u001b[49m\u001b[43m(\u001b[49m\u001b[38;5;124;43m\"\u001b[39;49m\u001b[38;5;124;43mDart\u001b[39;49m\u001b[38;5;124;43m\"\u001b[39;49m\u001b[43m)\u001b[49m\n",
      "\u001b[1;31mValueError\u001b[0m: list.remove(x): x not in list"
     ]
    }
   ],
   "source": [
    "languages = ['Python', 'C++', 'javaScript', 'Java', 'Go', 'Rust', 'Ruby', 'Python']\n",
    "print(\"Original list:\", languages)\n",
    "\n",
    "#remove an element from the list\n",
    "languages.remove(\"Go\")\n",
    "print(\"List after removing 'Go':\", languages)\n",
    "\n",
    "#remove an item from the list with duplicate items\n",
    "# only the first matching element is removed\n",
    "languages.remove(\"Python\")\n",
    "print(\"List after removing a duplicate item 'Python': \", languages)\n",
    "\n",
    "#remove an item that doesn't exist\n",
    "#throws ValueError exception\n",
    "languages.remove(\"Dart\")\n"
   ]
  },
  {
   "cell_type": "markdown",
   "id": "2c253e58",
   "metadata": {},
   "source": [
    "##### Return and remove item at given index using pop()\n",
    "The pop() method remobes the item at the given index from the list and returns the removed item."
   ]
  },
  {
   "cell_type": "code",
   "execution_count": 135,
   "id": "ad7e2798",
   "metadata": {},
   "outputs": [
    {
     "name": "stdout",
     "output_type": "stream",
     "text": [
      "Removed item at index 3: Java\n",
      "List after removing item at index 3 ['Python', 'C++', 'javaScript', 'Go', 'Rust', 'Ruby', 'Python']\n",
      "Removed item: Python\n",
      "Removed item: Ruby\n",
      "List after popping two items from the last: ['Python', 'C++', 'javaScript', 'Go', 'Rust']\n"
     ]
    }
   ],
   "source": [
    "languages = ['Python', 'C++', 'javaScript', 'Java', 'Go', 'Rust', 'Ruby', 'Python']\n",
    "\n",
    "#return and remove the item at index 3\n",
    "print(\"Removed item at index 3:\", languages.pop(3))\n",
    "print(\"List after removing item at index 3\", languages)\n",
    "\n",
    "#return and remove the last item\n",
    "print(\"Removed item:\", languages.pop()) #without passing argument\n",
    "print(\"Removed item:\", languages.pop(-1)) #using negative indexing\n",
    "print(\"List after popping two items from the last:\", languages)\n",
    "\n",
    "#remove all items from the list"
   ]
  },
  {
   "cell_type": "markdown",
   "id": "7427173b",
   "metadata": {},
   "source": [
    "##### Remove all items from the list using clear()\n",
    "The clear() method removes all items from the list."
   ]
  },
  {
   "cell_type": "code",
   "execution_count": null,
   "id": "c7e1d717",
   "metadata": {},
   "outputs": [],
   "source": [
    "numbers = [1, 2, 3, 4, 5]\n",
    "\n",
    "#remove all elements form the list\n",
    "numbers.clear()\n",
    "print(numbers)"
   ]
  },
  {
   "cell_type": "markdown",
   "id": "e9238d37",
   "metadata": {},
   "source": [
    "#### Other methods"
   ]
  },
  {
   "cell_type": "markdown",
   "id": "316992b4",
   "metadata": {},
   "source": [
    "#### count()\n",
    "The count() method counts the number of times the specified element appears in the list. "
   ]
  },
  {
   "cell_type": "code",
   "execution_count": 139,
   "id": "01d74219",
   "metadata": {},
   "outputs": [
    {
     "name": "stdout",
     "output_type": "stream",
     "text": [
      "Count of 1: 3\n",
      "Count of 10: 0\n",
      "Count of (1, 1): 2\n",
      "Count of [3, 2]: 1\n",
      "2\n"
     ]
    }
   ],
   "source": [
    "#count the occurences of 1 from the list of integers\n",
    "numbers = [1, 2, 3, 4, 1, 7, 4, 2, 1]\n",
    "print(\"Count of 1:\", numbers.count(1))\n",
    "\n",
    "#count the ocurrence of non-existent number 10 from the list\n",
    "print(\"Count of 10:\", numbers.count(10))\n",
    "\n",
    "#count tuple and list elements inside list\n",
    "eg_list = [(1, 1), [2, 4], (1, 1), [3, 2],(3,2), 7.9]\n",
    "\n",
    "eg_string = [\"asim\", \"pranima\", \"asim\", \"ayush\"]\n",
    "print(\"Count of (1, 1):\", eg_list.count((1,1)))\n",
    "print(\"Count of [3, 2]:\", eg_list.count([3, 2]))\n",
    "print(eg_string.count(\"asim\"))"
   ]
  },
  {
   "cell_type": "markdown",
   "id": "7f2adde8",
   "metadata": {},
   "source": [
    "#### sort()\n",
    "By default, sort() doesn't require any extra parameters. However, it has two optional parameters:\n",
    "\n",
    "- reverse - If True, the sorted list is reversed (or sorted in Descending order)\n",
    "- key - function that serves as a key for the sort comparison"
   ]
  },
  {
   "cell_type": "code",
   "execution_count": 25,
   "id": "353b22de",
   "metadata": {},
   "outputs": [
    {
     "name": "stdout",
     "output_type": "stream",
     "text": [
      "-------------------------Sorting list of numbers--------------------------\n",
      "Original list of numbers: [34, 54, 23, 65, 74, 93, 15]\n",
      "Sorted list in ascending order: [15, 23, 34, 54, 65, 74, 93]\n",
      "Sorted list in descending order: [93, 74, 65, 54, 34, 23, 15]\n",
      "\n",
      "\n",
      "--------------------sorting list of strings--------------------\n",
      "Original list of strings ['Kathmandu', 'Hetauda', 'Tokyo', 'biratnagar', 'pokhara', 'ahemdabad']\n",
      "Sorted list of strings in ascending order ['Hetauda', 'Kathmandu', 'Tokyo', 'ahemdabad', 'biratnagar', 'pokhara']\n",
      "\n",
      "\n",
      "--------------------------Sorting list of lists and tuples--------------------------\n",
      "Original list of lists: [[1, 2], [23, 1], [2, 12], [5, 6]]\n",
      "Sorted list by 2nd element [[1, 2], [2, 12], [5, 6], [23, 1]]\n",
      "Original list of tuples: [(1, 2), (23, 1), (2, 12), (5, 6)]\n",
      "Sorted list by 2nd element [(23, 1), (1, 2), (5, 6), (2, 12)]\n",
      "\n",
      "\n",
      "-------------------------Sorting list of dictionaries--------------------------\n",
      "Original list of employees:\n",
      " [{'Name': 'Alan Turing', 'age': 25, 'salary': 10000}, {'Name': 'Sharon Lin', 'age': 30, 'salary': 8000}, {'Name': 'John Hopkins', 'age': 18, 'salary': 1000}, {'Name': 'Mikhail Tal', 'age': 40, 'salary': 15000}]\n",
      "\n",
      "\n",
      "Sorted list by salary of employees:\n",
      " [{'Name': 'John Hopkins', 'age': 18, 'salary': 1000}, {'Name': 'Sharon Lin', 'age': 30, 'salary': 8000}, {'Name': 'Alan Turing', 'age': 25, 'salary': 10000}, {'Name': 'Mikhail Tal', 'age': 40, 'salary': 15000}]\n",
      "\n",
      "\n",
      "Sorted list by name using lamba function:\n",
      " [{'Name': 'Alan Turing', 'age': 25, 'salary': 10000}, {'Name': 'John Hopkins', 'age': 18, 'salary': 1000}, {'Name': 'Mikhail Tal', 'age': 40, 'salary': 15000}, {'Name': 'Sharon Lin', 'age': 30, 'salary': 8000}]\n"
     ]
    }
   ],
   "source": [
    "print(\"-------------------------Sorting list of numbers--------------------------\")\n",
    "\n",
    "numbers = [34, 54,23, 65, 74, 93, 15]\n",
    "print(\"Original list of numbers:\", numbers)\n",
    "\n",
    "#sort the list in ascending order\n",
    "numbers.sort()\n",
    "print(\"Sorted list in ascending order:\", numbers)\n",
    "\n",
    "#sort the list in descending order\n",
    "numbers.sort(reverse=True)\n",
    "print(\"Sorted list in descending order:\", numbers)\n",
    "\n",
    "print(\"\\n\")\n",
    "\n",
    "print(\"--------------------sorting list of strings--------------------\")\n",
    "#strings are sorted according to unicode\n",
    "cities = [\"Kathmandu\", \"Hetauda\", \"Tokyo\", \"biratnagar\", \"pokhara\", \"ahemdabad\"]\n",
    "print(\"Original list of strings\", cities)\n",
    "cities.sort()\n",
    "print(\"Sorted list of strings in ascending order\", cities)\n",
    "print(\"\\n\")\n",
    "\n",
    "print(\"--------------------------Sorting list of lists and tuples--------------------------\")\n",
    "\n",
    "#by default list is sorted by 1st element in the tuples/lists inside list\n",
    "listoflists = [[1,2], [23, 1], [2, 12], [5, 6]]\n",
    "print(\"Original list of lists:\", listoflists)\n",
    "listoflists.sort()\n",
    "print(\"Sorted list by 2nd element\", listoflists)\n",
    "\n",
    "#sort the list of tuple or list with custom function using key\n",
    "def second(ele):\n",
    "    return ele[1]\n",
    "listoftuples = [(1,2), (23, 1), (2, 12), (5, 6)]\n",
    "print(\"Original list of tuples:\", listoftuples)\n",
    "listoftuples.sort(key=second)\n",
    "print(\"Sorted list by 2nd element\", listoftuples)\n",
    "print(\"\\n\")\n",
    "\n",
    "print(\"-------------------------Sorting list of dictionaries--------------------------\")\n",
    "\n",
    "#sort list of dictionary with custom function using key\n",
    "employees = [\n",
    "    {'Name': 'Alan Turing', 'age': 25, 'salary': 10000},\n",
    "    {'Name': 'Sharon Lin', 'age': 30, 'salary': 8000},\n",
    "    {'Name': 'John Hopkins', 'age': 18, 'salary': 1000},\n",
    "    {'Name': 'Mikhail Tal', 'age': 40, 'salary': 15000},\n",
    "]\n",
    "print(\"Original list of employees:\\n\", employees)\n",
    "print(\"\\n\")\n",
    "\n",
    "def get_salary(employee):\n",
    "    return employee.get(\"salary\")\n",
    "\n",
    "employees.sort(key=get_salary)\n",
    "print(\"Sorted list by salary of employees:\\n\", employees)\n",
    "print(\"\\n\")\n",
    "\n",
    "#using lambda function to sort list of dictionary\n",
    "employees.sort(key=lambda x:x.get(\"Name\"))\n",
    "print(\"Sorted list by name using lamba function:\\n\", employees)"
   ]
  },
  {
   "cell_type": "markdown",
   "id": "2bc6844b",
   "metadata": {},
   "source": [
    "#### copy()\n",
    "copy() is used to copy a list instead of assignment operator when you need the original list unchanged when the copied list is modified."
   ]
  },
  {
   "cell_type": "markdown",
   "id": "5d27db65",
   "metadata": {},
   "source": [
    "##### Copying a list using copy()\n",
    "Original list is unchanged when copied list is modified."
   ]
  },
  {
   "cell_type": "code",
   "execution_count": 35,
   "id": "06439557",
   "metadata": {},
   "outputs": [
    {
     "name": "stdout",
     "output_type": "stream",
     "text": [
      "Copied list: [2, 3, 5, 7]\n",
      "Original list after modifying copy [2, 3, 5, 7]\n"
     ]
    }
   ],
   "source": [
    "#returns the shallow copy of the list\n",
    "prime_numbers = [2, 3, 5, 7]\n",
    "prime_numbers1 = prime_numbers.copy()\n",
    "print(\"Copied list:\", prime_numbers1)\n",
    "\n",
    "prime_numbers1[2] = 17\n",
    "print(\"Original list after modifying copy\", prime_numbers)"
   ]
  },
  {
   "cell_type": "markdown",
   "id": "79a210b3",
   "metadata": {},
   "source": [
    "##### Copying a list using =\n",
    "Original list is changed when copied list is modified."
   ]
  },
  {
   "cell_type": "code",
   "execution_count": 36,
   "id": "ab07e733",
   "metadata": {},
   "outputs": [
    {
     "name": "stdout",
     "output_type": "stream",
     "text": [
      "Copied list: [2, 4, 6, 8]\n",
      "Original list after modifying copy [2, 4, 6, 8, 10]\n"
     ]
    }
   ],
   "source": [
    "even_numbers = [2, 4, 6, 8]\n",
    "even_numbers1 = even_numbers\n",
    "print(\"Copied list:\", even_numbers1)\n",
    "even_numbers1.append(10)\n",
    "print(\"Original list after modifying copy\", even_numbers)"
   ]
  },
  {
   "cell_type": "markdown",
   "id": "cc489b9b",
   "metadata": {},
   "source": [
    "##### Copying a list using Slicing\n",
    "Original list is unchanged when copied list is modified."
   ]
  },
  {
   "cell_type": "code",
   "execution_count": 37,
   "id": "e3f34db3",
   "metadata": {},
   "outputs": [
    {
     "name": "stdout",
     "output_type": "stream",
     "text": [
      "Copied list: [1, 3, 5, 7]\n",
      "Original list after modifying copy [1, 3, 5, 7]\n"
     ]
    }
   ],
   "source": [
    "odd_numbers = [1, 3, 5, 7]\n",
    "odd_numbers1 = odd_numbers[:]\n",
    "print(\"Copied list:\", odd_numbers1)\n",
    "odd_numbers1.pop()\n",
    "print(\"Original list after modifying copy\", odd_numbers)"
   ]
  },
  {
   "cell_type": "markdown",
   "id": "36d6f511",
   "metadata": {},
   "source": [
    "### List functions"
   ]
  },
  {
   "cell_type": "markdown",
   "id": "a75326da",
   "metadata": {},
   "source": [
    "#### type()"
   ]
  },
  {
   "cell_type": "code",
   "execution_count": 37,
   "id": "da657e71",
   "metadata": {},
   "outputs": [
    {
     "name": "stdout",
     "output_type": "stream",
     "text": [
      "<class 'list'>\n"
     ]
    }
   ],
   "source": [
    "print(type([1, 2, 3, 4]))"
   ]
  },
  {
   "cell_type": "markdown",
   "id": "9e376047",
   "metadata": {},
   "source": [
    "#### max()"
   ]
  },
  {
   "cell_type": "code",
   "execution_count": 38,
   "id": "27a97466",
   "metadata": {},
   "outputs": [
    {
     "name": "stdout",
     "output_type": "stream",
     "text": [
      "4\n"
     ]
    }
   ],
   "source": [
    "print(max([1, 2, 3, 4]))"
   ]
  },
  {
   "cell_type": "markdown",
   "id": "cf67fee4",
   "metadata": {},
   "source": [
    "#### min()"
   ]
  },
  {
   "cell_type": "code",
   "execution_count": 39,
   "id": "acf9167e",
   "metadata": {},
   "outputs": [
    {
     "name": "stdout",
     "output_type": "stream",
     "text": [
      "1\n"
     ]
    }
   ],
   "source": [
    "print(min([1, 2, 3, 4]))"
   ]
  },
  {
   "cell_type": "markdown",
   "id": "aab8182b",
   "metadata": {},
   "source": [
    "#### len()"
   ]
  },
  {
   "cell_type": "code",
   "execution_count": 40,
   "id": "ea71aae7",
   "metadata": {},
   "outputs": [
    {
     "name": "stdout",
     "output_type": "stream",
     "text": [
      "4\n"
     ]
    }
   ],
   "source": [
    "print(len([1, 2, 3, 4]))"
   ]
  },
  {
   "cell_type": "markdown",
   "id": "264fa28a",
   "metadata": {},
   "source": [
    "#### list()\n",
    "The list() function takes an iterable construct and turns it into a list."
   ]
  },
  {
   "cell_type": "code",
   "execution_count": 41,
   "id": "d6fd1011",
   "metadata": {},
   "outputs": [
    {
     "name": "stdout",
     "output_type": "stream",
     "text": [
      "[]\n",
      "[1, 2, 3, 4]\n"
     ]
    }
   ],
   "source": [
    "#empty list\n",
    "print(list())\n",
    "\n",
    "#tuple into list\n",
    "my_tuple = (1, 2, 3, 4)\n",
    "print(list(my_tuple))"
   ]
  },
  {
   "cell_type": "markdown",
   "id": "05579249",
   "metadata": {},
   "source": [
    "#### filter()"
   ]
  },
  {
   "cell_type": "code",
   "execution_count": 43,
   "id": "74b9fdbd",
   "metadata": {},
   "outputs": [
    {
     "name": "stdout",
     "output_type": "stream",
     "text": [
      "[34, 18, 20]\n"
     ]
    }
   ],
   "source": [
    "def filter_age(age):\n",
    "    if age >= 18:\n",
    "        return True\n",
    "    else:\n",
    "        return False\n",
    "\n",
    "ages = [10, 34, 18, 20]\n",
    "eligible_to_vote = filter(filter_age, ages)\n",
    "print(list(eligible_to_vote))"
   ]
  },
  {
   "cell_type": "markdown",
   "id": "4ca89529",
   "metadata": {},
   "source": [
    "### Nested List"
   ]
  },
  {
   "cell_type": "markdown",
   "id": "f381b6d0",
   "metadata": {},
   "source": [
    "#### List Comprehension"
   ]
  },
  {
   "cell_type": "code",
   "execution_count": 54,
   "id": "ceba16e5",
   "metadata": {},
   "outputs": [
    {
     "name": "stdout",
     "output_type": "stream",
     "text": [
      "[0, 1, 2, 3, 4, 5, 6, 7, 8, 9]\n",
      "[[0, 1, 2, 3], [0, 1, 2, 3], [0, 1, 2, 3], [0, 1, 2, 3]]\n",
      "[0, 1, 2, 3, 0, 1, 2, 3, 0, 1, 2, 3, 0, 1, 2, 3]\n",
      "0\n",
      "1\n",
      "2\n",
      "3\n",
      "0\n",
      "1\n",
      "2\n",
      "3\n",
      "0\n",
      "1\n",
      "2\n",
      "3\n",
      "0\n",
      "1\n",
      "2\n",
      "3\n"
     ]
    }
   ],
   "source": [
    "#list comprehension\n",
    "n = [i for i in range(10)]\n",
    "print(n)\n",
    "\n",
    "#list comprehension for nested list\n",
    "matrix = [[j for j in range(4)] for i in range(4)]\n",
    "print(matrix)\n",
    "\n",
    "#flatten matrix\n",
    "flat_matrix = [element for sublist in matrix for element in sublist ]\n",
    "print(flat_matrix)\n",
    "\n"
   ]
  },
  {
   "cell_type": "markdown",
   "id": "3729bac3",
   "metadata": {},
   "source": [
    "##### Program to count unique values inside a list"
   ]
  },
  {
   "cell_type": "code",
   "execution_count": 15,
   "id": "0d0b47f6",
   "metadata": {},
   "outputs": [
    {
     "name": "stdout",
     "output_type": "stream",
     "text": [
      "3\n"
     ]
    }
   ],
   "source": [
    "things = [\"pen\", \"book\", \"copy\", \"pen\", \"charger\", \"wire\", \"wire\"]\n",
    "\n",
    "unique_count = 0\n",
    "for thing in things:\n",
    "    if things.count(thing) == 1:\n",
    "        unique_count += 1\n",
    "print(unique_count)\n",
    "    "
   ]
  },
  {
   "cell_type": "markdown",
   "id": "fd27914c",
   "metadata": {},
   "source": [
    "### Intro to tuples and dictionaries"
   ]
  },
  {
   "cell_type": "code",
   "execution_count": 37,
   "id": "164383ca",
   "metadata": {},
   "outputs": [
    {
     "name": "stdout",
     "output_type": "stream",
     "text": [
      "Empty tuple ()\n",
      "Tuple of integers (1, 2, 3)\n",
      "Tuple of mixed data types (1, 'cat', 3.4)\n",
      "Nested tuple ('dog', [8, 4, 5], (1, 2, 4))\n",
      "hi\n",
      "('hi',)\n",
      "('hi', 'hello')\n"
     ]
    }
   ],
   "source": [
    "# Empty tuple\n",
    "my_tuple = ()\n",
    "print(\"Empty tuple\", my_tuple)\n",
    "\n",
    "# Tuple having integers\n",
    "my_tuple1 = (1, 2, 3)\n",
    "print(\"Tuple of integers\", my_tuple1)\n",
    "\n",
    "# tuple with mixed datatypes\n",
    "my_tuple2 = (1, \"cat\", 3.4)\n",
    "print(\"Tuple of mixed data types\", my_tuple2)\n",
    "\n",
    "# nested tuple\n",
    "my_tuple3 = (\"dog\", [8, 4, 5], (1, 2, 4))\n",
    "print(\"Nested tuple\", my_tuple3)\n",
    "\n",
    "# string vs tuple with one element\n",
    "my_string4 = (\"hi\")\n",
    "my_tuple4 = (\"hi\",) #comma required for tuple\n",
    "print(my_string4)\n",
    "print(my_tuple4)\n",
    "\n",
    "#tuple without paranthesis\n",
    "my_tuple5 = \"hi\", \"hello\", #paranthesis is optional for tuple\n",
    "print(my_tuple5)"
   ]
  },
  {
   "cell_type": "markdown",
   "id": "ccaf87d5",
   "metadata": {},
   "source": [
    "#### List vs Tuple"
   ]
  },
  {
   "cell_type": "markdown",
   "id": "13ecb3be",
   "metadata": {},
   "source": [
    "- Accessing tuple elements using indexing, negative indexing, and slicing is same as that in list.\n",
    "- Iterating through a tuple in python is also same as that in list.\n",
    "- Checking if an item exits in python tuple is also same as that in list.\n",
    "- However, tuple is immutable.\n",
    "- Because of immutable nature, only some list methods are applicable to tuples, which are \n",
    "    - count()\n",
    "    - index()."
   ]
  },
  {
   "cell_type": "markdown",
   "id": "032b4643",
   "metadata": {},
   "source": [
    "##### Advantages of Tuple over List in Python\n",
    "Since tuples are quite similar to lists, both of them are used in similar situations.\n",
    "\n",
    "However, there are certain advantages of implementing a tuple over a list:\n",
    "\n",
    "- We generally use tuples for heterogeneous (different) data types and lists for homogeneous (similar) data types.\n",
    "- Since tuples are immutable, iterating through a tuple is faster than with a list. So there is a slight performance boost.\n",
    "- Tuples that contain immutable elements can be used as a key for a dictionary. With lists, this is not possible.\n",
    "- If you have data that doesn't change, implementing it as tuple will guarantee that it remains write-protected."
   ]
  },
  {
   "cell_type": "markdown",
   "id": "e3774f38",
   "metadata": {},
   "source": [
    "### Dictionaries\n",
    "Python dictionary is an ordered collection (starting from Python 3.7) of items. It stores elements in key/value pairs. Here, keys are unique identifiers that are associated with each value."
   ]
  },
  {
   "cell_type": "code",
   "execution_count": 43,
   "id": "d494a32b",
   "metadata": {},
   "outputs": [
    {
     "name": "stdout",
     "output_type": "stream",
     "text": [
      "Empty dictionary {}\n",
      "{'fname': 'Pranima', 'lname': 'Kansakar'}\n",
      "{'fname': 'Pranima', 'lname': 'Kansakar', 'age': 24}\n",
      "{1: 'Nepal', 2: 'America', 3: 'Pakistan'}\n"
     ]
    }
   ],
   "source": [
    "#empty dictionary\n",
    "dictionary1 = {}\n",
    "print(\"Empty dictionary\", dictionary1)\n",
    "\n",
    "#dictionary with key value pairs of string type\n",
    "student1 = {\n",
    "    \"fname\": \"Pranima\",\n",
    "    \"lname\": \"Kansakar\",\n",
    "}\n",
    "print(student1)\n",
    "\n",
    "#dictionary with key value pairs of mixed type\n",
    "student2 = {\n",
    "    \"fname\": \"Pranima\",\n",
    "    \"lname\": \"Kansakar\",\n",
    "    \"age\": 24,\n",
    "}\n",
    "print(student2)\n",
    "\n",
    "countries = {\n",
    "    1: \"Nepal\",\n",
    "    2: \"America\",\n",
    "    3: \"Pakistan\",\n",
    "}\n",
    "print(countries)"
   ]
  },
  {
   "cell_type": "markdown",
   "id": "cc1b2f81",
   "metadata": {},
   "source": [
    "#### Adding elements to a dictionary"
   ]
  },
  {
   "cell_type": "code",
   "execution_count": 46,
   "id": "cefcfba9",
   "metadata": {},
   "outputs": [
    {
     "name": "stdout",
     "output_type": "stream",
     "text": [
      "Updated dictionaries are \n",
      "\n",
      "{1: 'Nepal', 2: 'America', 3: 'Pakistan', 4: 'India'}\n",
      "{'fname': 'Pranima', 'lname': 'Kansakar', 'age': 24, 'address': 'Dallu'}\n"
     ]
    }
   ],
   "source": [
    "print(\"Updated dictionaries are \\n\")\n",
    "countries[4] = \"India\"\n",
    "print(countries)\n",
    "\n",
    "student2[\"address\"] = \"Dallu\"\n",
    "print(student2)"
   ]
  },
  {
   "cell_type": "markdown",
   "id": "2658b83e",
   "metadata": {},
   "source": [
    "#### Changing value of a dictionary"
   ]
  },
  {
   "cell_type": "code",
   "execution_count": 47,
   "id": "0d8925f9",
   "metadata": {},
   "outputs": [
    {
     "name": "stdout",
     "output_type": "stream",
     "text": [
      "Updated dictionaries are \n",
      "\n",
      "{1: 'Nepal', 2: 'America', 3: 'Canada', 4: 'India'}\n",
      "{'fname': 'Pranima', 'lname': 'Kansakar', 'age': 24, 'address': 'Swayambhu'}\n"
     ]
    }
   ],
   "source": [
    "print(\"Updated dictionaries are \\n\")\n",
    "\n",
    "countries[3] = \"Canada\"\n",
    "print(countries)\n",
    "\n",
    "student2[\"address\"] = \"Swayambhu\"\n",
    "print(student2)"
   ]
  },
  {
   "cell_type": "markdown",
   "id": "509ab5fb",
   "metadata": {},
   "source": [
    "#### Accessing elements fro dictionary"
   ]
  },
  {
   "cell_type": "code",
   "execution_count": 49,
   "id": "83bc9b00",
   "metadata": {},
   "outputs": [
    {
     "name": "stdout",
     "output_type": "stream",
     "text": [
      "Canada\n",
      "Pranima\n"
     ]
    },
    {
     "ename": "KeyError",
     "evalue": "'phone'",
     "output_type": "error",
     "traceback": [
      "\u001b[1;31m---------------------------------------------------------------------------\u001b[0m",
      "\u001b[1;31mKeyError\u001b[0m                                  Traceback (most recent call last)",
      "Cell \u001b[1;32mIn[49], line 5\u001b[0m\n\u001b[0;32m      2\u001b[0m \u001b[38;5;28mprint\u001b[39m(student2[\u001b[38;5;124m\"\u001b[39m\u001b[38;5;124mfname\u001b[39m\u001b[38;5;124m\"\u001b[39m])\n\u001b[0;32m      4\u001b[0m \u001b[38;5;66;03m#accessing value of key that doesn't exist gets us an error\u001b[39;00m\n\u001b[1;32m----> 5\u001b[0m \u001b[38;5;28mprint\u001b[39m(\u001b[43mstudent2\u001b[49m\u001b[43m[\u001b[49m\u001b[38;5;124;43m\"\u001b[39;49m\u001b[38;5;124;43mphone\u001b[39;49m\u001b[38;5;124;43m\"\u001b[39;49m\u001b[43m]\u001b[49m)\n",
      "\u001b[1;31mKeyError\u001b[0m: 'phone'"
     ]
    }
   ],
   "source": [
    "print(countries[3])\n",
    "print(student2[\"fname\"])\n",
    "\n",
    "#accessing value of key that doesn't exist gets us an error\n",
    "print(student2[\"phone\"])"
   ]
  },
  {
   "cell_type": "markdown",
   "id": "87e8e1ea",
   "metadata": {},
   "source": [
    "#### Removing elements from a dictionary"
   ]
  },
  {
   "cell_type": "code",
   "execution_count": 50,
   "id": "9a195968",
   "metadata": {},
   "outputs": [
    {
     "name": "stdout",
     "output_type": "stream",
     "text": [
      "{1: 'Nepal', 3: 'Canada', 4: 'India'}\n"
     ]
    }
   ],
   "source": [
    "del countries[2]\n",
    "print(countries)"
   ]
  },
  {
   "cell_type": "markdown",
   "id": "41fd2a8a",
   "metadata": {},
   "source": [
    "#### Removing the whole dictionary"
   ]
  },
  {
   "cell_type": "code",
   "execution_count": 51,
   "id": "83cc24b1",
   "metadata": {},
   "outputs": [
    {
     "ename": "NameError",
     "evalue": "name 'countries' is not defined",
     "output_type": "error",
     "traceback": [
      "\u001b[1;31m---------------------------------------------------------------------------\u001b[0m",
      "\u001b[1;31mNameError\u001b[0m                                 Traceback (most recent call last)",
      "Cell \u001b[1;32mIn[51], line 2\u001b[0m\n\u001b[0;32m      1\u001b[0m \u001b[38;5;28;01mdel\u001b[39;00m countries\n\u001b[1;32m----> 2\u001b[0m \u001b[38;5;28mprint\u001b[39m(\u001b[43mcountries\u001b[49m)\n",
      "\u001b[1;31mNameError\u001b[0m: name 'countries' is not defined"
     ]
    }
   ],
   "source": [
    "del countries\n",
    "print(countries)"
   ]
  },
  {
   "cell_type": "markdown",
   "id": "105544f7",
   "metadata": {},
   "source": [
    "#### Iterating through a dictionary"
   ]
  },
  {
   "cell_type": "code",
   "execution_count": 52,
   "id": "41c67154",
   "metadata": {},
   "outputs": [
    {
     "name": "stdout",
     "output_type": "stream",
     "text": [
      "fname Pranima\n",
      "lname Kansakar\n",
      "age 24\n",
      "address Swayambhu\n"
     ]
    }
   ],
   "source": [
    "for info in student2:\n",
    "    print(info, student2[info])"
   ]
  },
  {
   "cell_type": "markdown",
   "id": "ea9823f5",
   "metadata": {},
   "source": [
    "#### Dictionary membership test\n",
    "Membership tests are only for keys not for values"
   ]
  },
  {
   "cell_type": "code",
   "execution_count": 55,
   "id": "9b6f0696",
   "metadata": {},
   "outputs": [
    {
     "name": "stdout",
     "output_type": "stream",
     "text": [
      "True\n",
      "False\n"
     ]
    }
   ],
   "source": [
    "print(\"fname\" in student2)\n",
    "\n",
    "print(\"Pranima\" in student2)"
   ]
  },
  {
   "cell_type": "markdown",
   "id": "d6839953",
   "metadata": {},
   "source": [
    "### Dictionary Methods"
   ]
  },
  {
   "cell_type": "markdown",
   "id": "98df534f",
   "metadata": {},
   "source": [
    "#### all()\n",
    "Return True if all keys (not objects) of the dictionary are True (or if the dictionary is empty)."
   ]
  },
  {
   "cell_type": "code",
   "execution_count": 74,
   "id": "65bc9b77",
   "metadata": {},
   "outputs": [
    {
     "name": "stdout",
     "output_type": "stream",
     "text": [
      "True\n",
      "False\n",
      "True\n",
      "False\n",
      "True\n"
     ]
    }
   ],
   "source": [
    "d1 = {}\n",
    "print(all(d1)) #True\n",
    "\n",
    "d2 = {False: \"False\", 0: \"True\"}\n",
    "print(all(d2)) #False\n",
    "\n",
    "d3 = {5: \"True\", 2: \"False\"}\n",
    "print(all(d3)) #True\n",
    "\n",
    "d4 = {0: \"False\", 2: \"False\"}\n",
    "print(all(d4)) #False\n",
    "\n",
    "# 0 is False\n",
    "# '0' is True\n",
    "d5 = {'0': 'False'}\n",
    "print(all(d5)) #True"
   ]
  },
  {
   "cell_type": "markdown",
   "id": "67e70bcf",
   "metadata": {},
   "source": [
    "#### any()\n",
    "Return True if any key of the dictionary is true. If the dictionary is empty, return False.\n"
   ]
  },
  {
   "cell_type": "code",
   "execution_count": 75,
   "id": "fdaa0ac0",
   "metadata": {},
   "outputs": [
    {
     "name": "stdout",
     "output_type": "stream",
     "text": [
      "False\n",
      "False\n",
      "True\n",
      "True\n",
      "True\n"
     ]
    }
   ],
   "source": [
    "d1 = {}\n",
    "print(any(d1)) #False\n",
    "\n",
    "d2 = {False: \"False\", 0: \"True\"}\n",
    "print(any(d2)) #False\n",
    "\n",
    "d3 = {5: \"True\", 2: \"False\"}\n",
    "print(any(d3)) #True\n",
    "\n",
    "d4 = {0: \"False\", 2: \"False\"}\n",
    "print(any(d4)) #True\n",
    "\n",
    "# 0 is False\n",
    "# '0' is True\n",
    "d5 = {'0': 'False'}\n",
    "print(any(d5)) #True"
   ]
  },
  {
   "cell_type": "markdown",
   "id": "42b951fe",
   "metadata": {},
   "source": [
    "#### len()\n",
    "Return the length (the number of items) in the dictionary.\n"
   ]
  },
  {
   "cell_type": "code",
   "execution_count": 78,
   "id": "823aa61f",
   "metadata": {},
   "outputs": [
    {
     "name": "stdout",
     "output_type": "stream",
     "text": [
      "0\n",
      "2\n"
     ]
    }
   ],
   "source": [
    "print(len({})) #0\n",
    "print(len({1: \"One\", 2: \"Two\"})) #2"
   ]
  },
  {
   "cell_type": "markdown",
   "id": "a8c1b943",
   "metadata": {},
   "source": [
    "#### clear()\n",
    "Removes all items from the dictionary.\n",
    "- del is used to delete the dictionary while clear for removing all items from dictionary.\n"
   ]
  },
  {
   "cell_type": "code",
   "execution_count": 86,
   "id": "008fe228",
   "metadata": {},
   "outputs": [
    {
     "name": "stdout",
     "output_type": "stream",
     "text": [
      "Dictionary before clear(): {'New York': 18, 'Texas': 26}\n",
      "Dictionary after clear(): {}\n"
     ]
    }
   ],
   "source": [
    "cityTemperature = {\"New York\": 18, \"Texas\": 26}\n",
    "\n",
    "print(\"Dictionary before clear():\", cityTemperature)\n",
    "\n",
    "# removes all the items from the dictionary\n",
    "cityTemperature.clear()\n",
    "\n",
    "print(\"Dictionary after clear():\", cityTemperature)"
   ]
  },
  {
   "cell_type": "markdown",
   "id": "048814c2",
   "metadata": {},
   "source": [
    "#### keys()\n",
    "Returns a new object of the dictionary's keys.\n"
   ]
  },
  {
   "cell_type": "code",
   "execution_count": 93,
   "id": "68d26ac8",
   "metadata": {},
   "outputs": [
    {
     "data": {
      "text/plain": [
       "dict_keys(['New York', 'Texas'])"
      ]
     },
     "execution_count": 93,
     "metadata": {},
     "output_type": "execute_result"
    }
   ],
   "source": [
    "cityTemperature = {\"New York\": 18, \"Texas\": 26}\n",
    "cityTemperature.keys()"
   ]
  },
  {
   "cell_type": "markdown",
   "id": "74ff1a9c",
   "metadata": {},
   "source": [
    "#### values()\n",
    "Returns a new object of the dictionary's values"
   ]
  },
  {
   "cell_type": "code",
   "execution_count": 94,
   "id": "505ddad6",
   "metadata": {},
   "outputs": [
    {
     "data": {
      "text/plain": [
       "dict_values([18, 26])"
      ]
     },
     "execution_count": 94,
     "metadata": {},
     "output_type": "execute_result"
    }
   ],
   "source": [
    "cityTemperature.values()"
   ]
  },
  {
   "cell_type": "markdown",
   "id": "96c73ec2",
   "metadata": {},
   "source": [
    "#### copy()\n",
    "The copy() method returns a copy (shallow copy) of the dictionary.\n",
    "- When the copy() method is used, a new dictionary is created which is filled with a copy of the references from the original dictionary.\n",
    "\n",
    "- When the = operator is used, a new reference to the original dictionary is created.\n",
    "- similar to lists dicussed above"
   ]
  },
  {
   "cell_type": "code",
   "execution_count": 95,
   "id": "5bc82e38",
   "metadata": {},
   "outputs": [
    {
     "name": "stdout",
     "output_type": "stream",
     "text": [
      "Orignal:  {1: 'one', 2: 'two'}\n",
      "New:  {1: 'one', 2: 'two'}\n",
      "Orignal:  {1: 'one', 2: 'two'}\n",
      "New:  {1: 'one', 2: 'two', 3: 'three'}\n"
     ]
    }
   ],
   "source": [
    "original = {1:'one', 2:'two'}\n",
    "new = original.copy()\n",
    "\n",
    "print('Orignal: ', original)\n",
    "print('New: ', new)\n",
    "\n",
    "new[3] = 'three'\n",
    "print('Orignal: ', original)\n",
    "print('New: ', new)"
   ]
  },
  {
   "cell_type": "code",
   "execution_count": 96,
   "id": "435bbc6a",
   "metadata": {},
   "outputs": [
    {
     "name": "stdout",
     "output_type": "stream",
     "text": [
      "Orignal:  {1: 'one', 2: 'two'}\n",
      "New:  {1: 'one', 2: 'two'}\n",
      "Orignal:  {1: 'one', 2: 'two', 3: 'three'}\n",
      "New:  {1: 'one', 2: 'two', 3: 'three'}\n"
     ]
    }
   ],
   "source": [
    "original = {1:'one', 2:'two'}\n",
    "new = original\n",
    "\n",
    "print('Orignal: ', original)\n",
    "print('New: ', new)\n",
    "\n",
    "new[3] = 'three'\n",
    "print('Orignal: ', original)\n",
    "print('New: ', new)"
   ]
  },
  {
   "cell_type": "markdown",
   "id": "5d251607",
   "metadata": {},
   "source": [
    "#### fromkeys()\n",
    "The fromkeys() method creates a dictionary from the given sequence of keys and values.\n",
    "\n",
    "The fromkeys() method can take two parameters:\n",
    "\n",
    "- sequence - are the keys that can be any iterables like string, set, list, etc that is to be transformed to a dictionary.\n",
    "- value (Optional) - are the values that can be of any type or any iterables like string, set, list, etc.\n",
    "\n",
    "It returns a new dictionary with keys mapped to None if no value is provided, else to the value provided in the field."
   ]
  },
  {
   "cell_type": "code",
   "execution_count": 106,
   "id": "2ec7bf5a",
   "metadata": {},
   "outputs": [
    {
     "name": "stdout",
     "output_type": "stream",
     "text": [
      "{1: 'num', 2: 'num', 3: 'num'}\n",
      "{1: None, 2: None, 3: None}\n",
      "{1: ['one', 'two', 'three'], 2: ['one', 'two', 'three'], 3: ['one', 'two', 'three']}\n"
     ]
    }
   ],
   "source": [
    "#sequence and values both\n",
    "keys1 = [1, 2, 3]\n",
    "value1 = \"num\"\n",
    "num_dictionary1 = dict.fromkeys(keys1, value1)\n",
    "print(num_dictionary1)\n",
    "\n",
    "#only sequence, value defaults to None\n",
    "keys2 = [1, 2, 3]\n",
    "num_dictionary2 = dict.fromkeys(keys2)\n",
    "print(num_dictionary2)\n",
    "\n",
    "#value of list\n",
    "keys = [1, 2, 3]\n",
    "value = [\"one\", \"two\", \"three\"]\n",
    "num_dictionary = dict.fromkeys(keys, value)\n",
    "print(num_dictionary)\n"
   ]
  },
  {
   "cell_type": "markdown",
   "id": "a5f046a0",
   "metadata": {},
   "source": [
    "#### get()\n",
    "Syntax : dict.get(key, default=None)\n",
    "\n",
    "Parameters: \n",
    "- key: key to be searched in the dictionary\n",
    "- Value: (Optional) Value to be returned if the key is not found. The default value is None.\n",
    "\n",
    "Returns: \n",
    "- the value for the specified key if key is in the dictionary.\n",
    "- None if the key is not found and value is not specified.\n",
    "- value if the key is not found and default value is specified."
   ]
  },
  {
   "cell_type": "code",
   "execution_count": 112,
   "id": "78713b8d",
   "metadata": {},
   "outputs": [
    {
     "name": "stdout",
     "output_type": "stream",
     "text": [
      "Item: copy\n",
      "Quantity: 2\n",
      "Price: None\n",
      "Price: 12.0\n"
     ]
    },
    {
     "ename": "KeyError",
     "evalue": "'price'",
     "output_type": "error",
     "traceback": [
      "\u001b[1;31m---------------------------------------------------------------------------\u001b[0m",
      "\u001b[1;31mKeyError\u001b[0m                                  Traceback (most recent call last)",
      "Cell \u001b[1;32mIn[112], line 14\u001b[0m\n\u001b[0;32m     11\u001b[0m \u001b[38;5;28mprint\u001b[39m(\u001b[38;5;124m\"\u001b[39m\u001b[38;5;124mPrice:\u001b[39m\u001b[38;5;124m\"\u001b[39m, item\u001b[38;5;241m.\u001b[39mget(\u001b[38;5;124m\"\u001b[39m\u001b[38;5;124mprice\u001b[39m\u001b[38;5;124m\"\u001b[39m, \u001b[38;5;241m12.0\u001b[39m))\n\u001b[0;32m     13\u001b[0m \u001b[38;5;66;03m#using [] to access key which is missing\u001b[39;00m\n\u001b[1;32m---> 14\u001b[0m \u001b[38;5;28mprint\u001b[39m(\u001b[43mitem\u001b[49m\u001b[43m[\u001b[49m\u001b[38;5;124;43m\"\u001b[39;49m\u001b[38;5;124;43mprice\u001b[39;49m\u001b[38;5;124;43m\"\u001b[39;49m\u001b[43m]\u001b[49m)\n",
      "\u001b[1;31mKeyError\u001b[0m: 'price'"
     ]
    }
   ],
   "source": [
    "item = {\"name\": \"copy\", \"quantity\": 2, \"cost\": 20.0}\n",
    "\n",
    "#key and value present\n",
    "print('Item:', item.get(\"name\"))\n",
    "print('Quantity:', item.get(\"quantity\"))\n",
    "\n",
    "#key and value absent\n",
    "print('Price:', item.get(\"price\"))\n",
    "\n",
    "#key and value absent in dictionary but value specified\n",
    "print(\"Price:\", item.get(\"price\", 12.0))\n",
    "\n",
    "#using [] to access key which is missing\n",
    "print(item[\"price\"]) #key error\n"
   ]
  },
  {
   "cell_type": "markdown",
   "id": "1be010db",
   "metadata": {},
   "source": [
    "#### items()\n",
    "The items() method returns a view object that displays a list of dictionary's (key, value) tuple pairs."
   ]
  },
  {
   "cell_type": "code",
   "execution_count": 113,
   "id": "14a799e3",
   "metadata": {},
   "outputs": [
    {
     "name": "stdout",
     "output_type": "stream",
     "text": [
      "dict_items([('name', 'Pranima'), ('age', 23), ('batch', '2018')])\n"
     ]
    }
   ],
   "source": [
    "std = {\"name\": \"Pranima\", \"age\": 23, \"batch\": \"2018\"}\n",
    "print(std.items())"
   ]
  },
  {
   "cell_type": "markdown",
   "id": "c56923aa",
   "metadata": {},
   "source": [
    "#### pop()\n",
    "The pop() method removes and returns an element from a dictionary having the given key.\n",
    "\n",
    "Two parameters:\n",
    "\n",
    "- key - key which is to be searched for removal\n",
    "- default - value which is to be returned when the key is not in the dictionary\n",
    "\n",
    "returns:\n",
    "\n",
    "- If key is found - removed/popped element from the dictionary\n",
    "- If key is not found - value specified as the second argument (default)\n",
    "- If key is not found and default argument is not specified - KeyError exception is raised"
   ]
  },
  {
   "cell_type": "code",
   "execution_count": 121,
   "id": "055b4295",
   "metadata": {},
   "outputs": [
    {
     "name": "stdout",
     "output_type": "stream",
     "text": [
      "Original: {'name': 'Pranima', 'age': 23, 'batch': '2018'}\n",
      "Popped value: 23\n",
      "Dictionary after pop() {'name': 'Pranima', 'batch': '2018'}\n",
      "Popped value: 5 feet\n",
      "Dictionary after pop() {'name': 'Pranima', 'batch': '2018'}\n"
     ]
    },
    {
     "ename": "KeyError",
     "evalue": "'height'",
     "output_type": "error",
     "traceback": [
      "\u001b[1;31m---------------------------------------------------------------------------\u001b[0m",
      "\u001b[1;31mKeyError\u001b[0m                                  Traceback (most recent call last)",
      "Cell \u001b[1;32mIn[121], line 13\u001b[0m\n\u001b[0;32m     10\u001b[0m \u001b[38;5;28mprint\u001b[39m(\u001b[38;5;124m\"\u001b[39m\u001b[38;5;124mDictionary after pop()\u001b[39m\u001b[38;5;124m\"\u001b[39m, std1)\n\u001b[0;32m     12\u001b[0m \u001b[38;5;66;03m#key not found, value not specified\u001b[39;00m\n\u001b[1;32m---> 13\u001b[0m \u001b[38;5;28mprint\u001b[39m(\u001b[38;5;124m\"\u001b[39m\u001b[38;5;124mPopped value:\u001b[39m\u001b[38;5;124m\"\u001b[39m, \u001b[43mstd1\u001b[49m\u001b[38;5;241;43m.\u001b[39;49m\u001b[43mpop\u001b[49m\u001b[43m(\u001b[49m\u001b[38;5;124;43m\"\u001b[39;49m\u001b[38;5;124;43mheight\u001b[39;49m\u001b[38;5;124;43m\"\u001b[39;49m\u001b[43m)\u001b[49m) \u001b[38;5;66;03m#key error\u001b[39;00m\n\u001b[0;32m     14\u001b[0m \u001b[38;5;28mprint\u001b[39m(\u001b[38;5;124m\"\u001b[39m\u001b[38;5;124mDictionary after pop()\u001b[39m\u001b[38;5;124m\"\u001b[39m, std1)\n",
      "\u001b[1;31mKeyError\u001b[0m: 'height'"
     ]
    }
   ],
   "source": [
    "std1 = {\"name\": \"Pranima\", \"age\": 23, \"batch\": \"2018\"}\n",
    "print(\"Original:\", std1)\n",
    "\n",
    "#key is found\n",
    "print(\"Popped value:\", std1.pop(\"age\"))\n",
    "print(\"Dictionary after pop()\", std1)\n",
    "\n",
    "#key not found, value specified\n",
    "print(\"Popped value:\", std1.pop(\"height\", \"5 feet\"))\n",
    "print(\"Dictionary after pop()\", std1)\n",
    "\n",
    "#key not found, value not specified\n",
    "print(\"Popped value:\", std1.pop(\"height\")) #key error\n"
   ]
  },
  {
   "cell_type": "markdown",
   "id": "dd4d9751",
   "metadata": {},
   "source": [
    "#### popitem()\n",
    "The popitem() method removes and returns the last element (key, value) pair inserted into the dictionary. It raises a KeyError error if the dictionary is empty."
   ]
  },
  {
   "cell_type": "code",
   "execution_count": 1,
   "id": "1581ef3d",
   "metadata": {},
   "outputs": [
    {
     "name": "stdout",
     "output_type": "stream",
     "text": [
      "Popped item ('name', 'Krisha')\n"
     ]
    },
    {
     "ename": "KeyError",
     "evalue": "'popitem(): dictionary is empty'",
     "output_type": "error",
     "traceback": [
      "\u001b[1;31m---------------------------------------------------------------------------\u001b[0m",
      "\u001b[1;31mKeyError\u001b[0m                                  Traceback (most recent call last)",
      "Cell \u001b[1;32mIn[1], line 4\u001b[0m\n\u001b[0;32m      1\u001b[0m std2 \u001b[38;5;241m=\u001b[39m {\u001b[38;5;124m\"\u001b[39m\u001b[38;5;124mname\u001b[39m\u001b[38;5;124m\"\u001b[39m: \u001b[38;5;124m\"\u001b[39m\u001b[38;5;124mKrisha\u001b[39m\u001b[38;5;124m\"\u001b[39m}\n\u001b[0;32m      3\u001b[0m \u001b[38;5;28mprint\u001b[39m(\u001b[38;5;124m\"\u001b[39m\u001b[38;5;124mPopped item\u001b[39m\u001b[38;5;124m\"\u001b[39m, std2\u001b[38;5;241m.\u001b[39mpopitem())\n\u001b[1;32m----> 4\u001b[0m \u001b[43mstd2\u001b[49m\u001b[38;5;241;43m.\u001b[39;49m\u001b[43mpopitem\u001b[49m\u001b[43m(\u001b[49m\u001b[43m)\u001b[49m \u001b[38;5;66;03m#raises keyerror, as it is empty now\u001b[39;00m\n",
      "\u001b[1;31mKeyError\u001b[0m: 'popitem(): dictionary is empty'"
     ]
    }
   ],
   "source": [
    "std2 = {\"name\": \"Krisha\"}\n",
    "\n",
    "print(\"Popped item\", std2.popitem())\n",
    "std2.popitem() #raises keyerror, as it is empty now"
   ]
  },
  {
   "cell_type": "markdown",
   "id": "1a578ad7",
   "metadata": {},
   "source": [
    "#### setdefault()\n",
    "The setdefault() method returns the value of a key (if the key is in dictionary). If not, it inserts key with a value to the dictionary.\n",
    "\n",
    "Two parameters:\n",
    "\n",
    "- key - the key to be searched in the dictionary\n",
    "- default_value (optional) - key with a value default_value is inserted to the dictionary if the key is not in the dictionary. If not provided, the default_value will be None."
   ]
  },
  {
   "cell_type": "code",
   "execution_count": 9,
   "id": "3ab9c40b",
   "metadata": {},
   "outputs": [
    {
     "name": "stdout",
     "output_type": "stream",
     "text": [
      "{'name': 'Sunscreen', 'cost': 500}\n",
      "500\n",
      "{'name': 'Moisturizer', 'cost': 300}\n",
      "300\n",
      "{'name': 'Moisturizer', 'cost': 300, 'quantity': None}\n",
      "None\n"
     ]
    }
   ],
   "source": [
    "#when key is in dictionary\n",
    "product = {\"name\": \"Sunscreen\", \"cost\": 500}\n",
    "cost = product.setdefault(\"cost\")\n",
    "print(product)\n",
    "print(cost) #500\n",
    "\n",
    "#when key is not in dictionary \n",
    "#provided default_value\n",
    "product1 = {\"name\": \"Moisturizer\"}\n",
    "cost1 = product1.setdefault(\"cost\", 300)\n",
    "print(product1)\n",
    "print(cost1) #300\n",
    "\n",
    "#not provided default_value\n",
    "quantity1 = product1.setdefault(\"quantity\")\n",
    "print(product1)\n",
    "print(quantity1) #None"
   ]
  },
  {
   "cell_type": "markdown",
   "id": "4562c779",
   "metadata": {},
   "source": [
    "#### update()\n",
    "The update() method updates the dictionary with the elements from another dictionary object or from an iterable of key/value pairs.\n",
    "\n",
    "It  takes either a dictionary or an iterable object of key/value pairs (generally tuples).\n",
    "\n",
    "If update() is called without passing parameters, the dictionary remains unchanged.\n",
    "\n",
    "It doesn't return any value (returns None)."
   ]
  },
  {
   "cell_type": "code",
   "execution_count": 18,
   "id": "8edf42ff",
   "metadata": {},
   "outputs": [
    {
     "name": "stdout",
     "output_type": "stream",
     "text": [
      "{'Team A': 5, 'Team B': 8, 'Team C': 7}\n",
      "{'Team A': 5, 'Team B': 8, 'Team C': 7, 'Team D': 7, 'Team E': 8}\n",
      "{'Team A': 5, 'Team B': 8, 'Team C': 7, 'Team D': 7, 'Team E': 8}\n"
     ]
    }
   ],
   "source": [
    "#update() with another dictionary as parameter\n",
    "scores = {\"Team A\": 5, \"Team B\": 8}\n",
    "team_c_score = {\"Team C\": 7}\n",
    "scores.update(team_c_score)\n",
    "print(scores)\n",
    "\n",
    "#update() with list of tuples/list as parameter\n",
    "scores.update([(\"Team D\", 7), [\"Team E\", 8]])\n",
    "print(scores)\n",
    "\n",
    "#update() with no parameters\n",
    "scores.update()\n",
    "print(scores) #unchanged dictionary"
   ]
  },
  {
   "cell_type": "markdown",
   "id": "6ede1a0d",
   "metadata": {},
   "source": [
    "### Sets\n",
    "A set is a collection of unique data. That is, elements of a set cannot be duplicate. So, we use set to store data that cannot have duplicate such as IDs.\n",
    "\n",
    "A set is mutable and unordered.\n",
    "\n",
    "A set can have any number of items and they may be of different types (integer, float, tuple, string etc.). But a set cannot have mutable elements like lists, sets or dictionaries as its elements."
   ]
  },
  {
   "cell_type": "code",
   "execution_count": 24,
   "id": "a5135b41",
   "metadata": {},
   "outputs": [
    {
     "name": "stdout",
     "output_type": "stream",
     "text": [
      "{123, 124, 125, 126}\n",
      "{'Europe', 'Asia', 'Africa'}\n",
      "{(1, 1), (1, 2), (1, 3)}\n",
      "{(2, 3), 'string', 123.98, 122}\n",
      "<class 'set'>\n",
      "<class 'dict'>\n"
     ]
    }
   ],
   "source": [
    "#set of integers\n",
    "registration_numbers = {123, 124, 125, 126}\n",
    "print(registration_numbers)\n",
    "\n",
    "#set of strings\n",
    "continents = {\"Asia\", \"Africa\", \"Europe\"}\n",
    "print(continents)\n",
    "\n",
    "#set of tuples\n",
    "coordinates = {(1, 1), (1, 2), (1, 3)}\n",
    "print(coordinates)\n",
    "\n",
    "#set of mixed data types\n",
    "mixed_set = {\"string\", 122, 123.98, (2, 3)}\n",
    "print(mixed_set)\n",
    "\n",
    "#empty set\n",
    "empty_set = set()\n",
    "print(type(empty_set))\n",
    "\n",
    "#empty curly braces are used to create empty dictionary\n",
    "empty_dictionary = {}\n",
    "print(type(empty_dictionary))"
   ]
  },
  {
   "cell_type": "markdown",
   "id": "61187390",
   "metadata": {},
   "source": [
    "#### Duplicate items in a set"
   ]
  },
  {
   "cell_type": "code",
   "execution_count": 23,
   "id": "6e6ab1bb",
   "metadata": {},
   "outputs": [
    {
     "name": "stdout",
     "output_type": "stream",
     "text": [
      "{1, 3, 5, 7, 9}\n"
     ]
    }
   ],
   "source": [
    "odd_nums = {1, 3, 5, 5, 7, 1, 9} #duplicates created\n",
    "print(odd_nums) #no duplicates"
   ]
  },
  {
   "cell_type": "markdown",
   "id": "2c7e7b91",
   "metadata": {},
   "source": [
    "#### Adding and updating set items\n",
    "Set data type does not support indexing or slicing as sets are unordered."
   ]
  },
  {
   "cell_type": "markdown",
   "id": "b818d8f1",
   "metadata": {},
   "source": [
    "##### add()"
   ]
  },
  {
   "cell_type": "code",
   "execution_count": 27,
   "id": "758670e1",
   "metadata": {},
   "outputs": [
    {
     "name": "stdout",
     "output_type": "stream",
     "text": [
      "Initial set: {57.6, 61.0, 55.3}\n",
      "Updated set: {57.6, 44.8, 61.0, 55.3}\n"
     ]
    }
   ],
   "source": [
    "unique_nums = {55.3, 57.6, 61.0}\n",
    "print(\"Initial set:\", unique_nums)\n",
    "\n",
    "unique_nums.add(44.8)\n",
    "print(\"Updated set:\", unique_nums)"
   ]
  },
  {
   "cell_type": "markdown",
   "id": "9608c135",
   "metadata": {},
   "source": [
    "##### update()"
   ]
  },
  {
   "cell_type": "code",
   "execution_count": 29,
   "id": "5e2e3b08",
   "metadata": {},
   "outputs": [
    {
     "name": "stdout",
     "output_type": "stream",
     "text": [
      "{'pen', 'eraser', 'copy', 'broom', 'dishwasher'}\n",
      "{'pen', 'eraser', 'laptop', 'mobile', 'copy', 'broom', 'dishwasher'}\n"
     ]
    }
   ],
   "source": [
    "things = {\"dishwasher\", \"broom\", \"pen\"}\n",
    "stationery = [\"copy\", \"eraser\", \"eraser\"]\n",
    "\n",
    "things.update(stationery)\n",
    "print(things)\n",
    "\n",
    "gadgets = {\"mobile\", \"laptop\"}\n",
    "things.update(gadgets)\n",
    "print(things)"
   ]
  },
  {
   "cell_type": "markdown",
   "id": "4f6c8a5e",
   "metadata": {},
   "source": [
    "#### Removing an element from a set"
   ]
  },
  {
   "cell_type": "markdown",
   "id": "9b85861a",
   "metadata": {},
   "source": [
    "##### discard()"
   ]
  },
  {
   "cell_type": "code",
   "execution_count": 31,
   "id": "128c8fc9",
   "metadata": {},
   "outputs": [
    {
     "name": "stdout",
     "output_type": "stream",
     "text": [
      "Initial Set: {'Java', 'Python', 'Swift'}\n",
      "Set after discard(): {'Python', 'Swift'}\n"
     ]
    }
   ],
   "source": [
    "languages = {'Swift', 'Java', 'Python'}\n",
    "\n",
    "print('Initial Set:',languages)\n",
    "\n",
    "# remove 'Java' from a set\n",
    "removedValue = languages.discard('Java')\n",
    "\n",
    "print('Set after discard():', languages)"
   ]
  },
  {
   "cell_type": "markdown",
   "id": "33a60294",
   "metadata": {},
   "source": [
    "#### Iterating over a set"
   ]
  },
  {
   "cell_type": "code",
   "execution_count": 32,
   "id": "ddaea9fc",
   "metadata": {},
   "outputs": [
    {
     "name": "stdout",
     "output_type": "stream",
     "text": [
      "o\n",
      "u\n",
      "e\n",
      "a\n",
      "i\n"
     ]
    }
   ],
   "source": [
    "vowels = {\"a\", \"e\", \"i\", \"o\", \"u\"}\n",
    "for v in vowels:\n",
    "    print(v)"
   ]
  },
  {
   "cell_type": "markdown",
   "id": "c1579286",
   "metadata": {},
   "source": [
    "#### Set Operations"
   ]
  },
  {
   "cell_type": "markdown",
   "id": "b4c58666",
   "metadata": {},
   "source": [
    "##### Union of two sets"
   ]
  },
  {
   "cell_type": "code",
   "execution_count": 33,
   "id": "b9de85fd",
   "metadata": {},
   "outputs": [
    {
     "name": "stdout",
     "output_type": "stream",
     "text": [
      "Union using |: {0, 1, 2, 3, 4, 5}\n",
      "Union using union(): {0, 1, 2, 3, 4, 5}\n"
     ]
    }
   ],
   "source": [
    "# first set\n",
    "A = {1, 3, 5}\n",
    "\n",
    "# second set\n",
    "B = {0, 2, 4}\n",
    "\n",
    "# perform union operation using |\n",
    "print('Union using |:', A | B)\n",
    "\n",
    "# perform union operation using union()\n",
    "print('Union using union():', A.union(B)) "
   ]
  },
  {
   "cell_type": "markdown",
   "id": "a086b240",
   "metadata": {},
   "source": [
    "##### Set Intersection"
   ]
  },
  {
   "cell_type": "code",
   "execution_count": 34,
   "id": "419718d0",
   "metadata": {},
   "outputs": [
    {
     "name": "stdout",
     "output_type": "stream",
     "text": [
      "Intersection using &: {1, 3}\n",
      "Intersection using intersection(): {1, 3}\n"
     ]
    }
   ],
   "source": [
    "# first set\n",
    "A = {1, 3, 5}\n",
    "\n",
    "# second set\n",
    "B = {1, 2, 3}\n",
    "\n",
    "# perform intersection operation using &\n",
    "print('Intersection using &:', A & B)\n",
    "\n",
    "# perform intersection operation using intersection()\n",
    "print('Intersection using intersection():', A.intersection(B)) "
   ]
  },
  {
   "cell_type": "markdown",
   "id": "ec6b9897",
   "metadata": {},
   "source": [
    "##### Difference between two sets"
   ]
  },
  {
   "cell_type": "code",
   "execution_count": 35,
   "id": "25266daf",
   "metadata": {},
   "outputs": [
    {
     "name": "stdout",
     "output_type": "stream",
     "text": [
      "Difference using &: {3, 5}\n",
      "Difference using difference(): {3, 5}\n"
     ]
    }
   ],
   "source": [
    "# first set\n",
    "A = {2, 3, 5}\n",
    "\n",
    "# second set\n",
    "B = {1, 2, 6}\n",
    "\n",
    "# perform difference operation using &\n",
    "print('Difference using &:', A - B)\n",
    "\n",
    "# perform difference operation using difference()\n",
    "print('Difference using difference():', A.difference(B)) "
   ]
  },
  {
   "cell_type": "markdown",
   "id": "9d44a937",
   "metadata": {},
   "source": [
    "##### Set symmetric difference"
   ]
  },
  {
   "cell_type": "code",
   "execution_count": 36,
   "id": "fb34a895",
   "metadata": {},
   "outputs": [
    {
     "name": "stdout",
     "output_type": "stream",
     "text": [
      "using ^: {1, 3, 5, 6}\n",
      "using symmetric_difference(): {1, 3, 5, 6}\n"
     ]
    }
   ],
   "source": [
    "# first set\n",
    "A = {2, 3, 5}\n",
    "\n",
    "# second set\n",
    "B = {1, 2, 6}\n",
    "\n",
    "# perform difference operation using &\n",
    "print('using ^:', A ^ B)\n",
    "\n",
    "# using symmetric_difference()\n",
    "print('using symmetric_difference():', A.symmetric_difference(B)) "
   ]
  },
  {
   "cell_type": "markdown",
   "id": "c1499fea",
   "metadata": {},
   "source": [
    "## Module 6: Python Flow Control"
   ]
  },
  {
   "cell_type": "markdown",
   "id": "67e09e00",
   "metadata": {},
   "source": [
    "### If, Else and Elif"
   ]
  },
  {
   "cell_type": "code",
   "execution_count": 45,
   "id": "3e338a75",
   "metadata": {},
   "outputs": [
    {
     "name": "stdout",
     "output_type": "stream",
     "text": [
      "Divisible by 2\n"
     ]
    }
   ],
   "source": [
    "num = 2\n",
    "\n",
    "if num%2==0: #True\n",
    "    print(\"Divisible by 2\") #code block executed"
   ]
  },
  {
   "cell_type": "code",
   "execution_count": 46,
   "id": "10f5aaf2",
   "metadata": {},
   "outputs": [],
   "source": [
    "num1 = 3\n",
    "\n",
    "if num1%2==0: #False\n",
    "    print(\"Divisible by 2\") #code block not executed"
   ]
  },
  {
   "cell_type": "code",
   "execution_count": 47,
   "id": "d03956db",
   "metadata": {},
   "outputs": [
    {
     "name": "stdout",
     "output_type": "stream",
     "text": [
      "Divisible by 2\n"
     ]
    }
   ],
   "source": [
    "num2 = 4\n",
    "\n",
    "if num2%2==0: #True\n",
    "    print(\"Divisible by 2\") #code block executed\n",
    "else: \n",
    "    print(\"Indivisible by 2\") #code skipped"
   ]
  },
  {
   "cell_type": "code",
   "execution_count": 48,
   "id": "2a6fd492",
   "metadata": {},
   "outputs": [
    {
     "name": "stdout",
     "output_type": "stream",
     "text": [
      "Indivisible by 2\n"
     ]
    }
   ],
   "source": [
    "num3 = 5\n",
    "\n",
    "if num3%2==0: #False\n",
    "    print(\"Divisible by 2\") #code skipped\n",
    "else:\n",
    "    print(\"Indivisible by 2\") #code executed\n",
    "    "
   ]
  },
  {
   "cell_type": "code",
   "execution_count": 54,
   "id": "398a497d",
   "metadata": {},
   "outputs": [
    {
     "name": "stdout",
     "output_type": "stream",
     "text": [
      "Greater than 2\n"
     ]
    }
   ],
   "source": [
    "num4 = 6\n",
    "\n",
    "if num4>2: #True\n",
    "    print(\"Greater than 2\") #code executed\n",
    "elif num4>1: #skipped\n",
    "    print(\"Greater than 1\") \n",
    "else: #skipped\n",
    "    print(num4)"
   ]
  },
  {
   "cell_type": "code",
   "execution_count": 55,
   "id": "f67c5e9c",
   "metadata": {},
   "outputs": [
    {
     "name": "stdout",
     "output_type": "stream",
     "text": [
      "Greater than 1\n"
     ]
    }
   ],
   "source": [
    "num5 = 1.5\n",
    "\n",
    "if num5>2: #False\n",
    "    print(\"Greater than 2\") #code skipped\n",
    "elif num5>1: #True\n",
    "    print(\"Greater than 1\") #executed\n",
    "else: #skipped\n",
    "    print(num5)"
   ]
  },
  {
   "cell_type": "code",
   "execution_count": 57,
   "id": "48807cc3",
   "metadata": {},
   "outputs": [
    {
     "name": "stdout",
     "output_type": "stream",
     "text": [
      "6\n"
     ]
    }
   ],
   "source": [
    "num6 = 1\n",
    "\n",
    "if num6>2: #False\n",
    "    print(\"Greater than 2\") #code skipped\n",
    "elif num6>1: #False\n",
    "    print(\"Greater than 1\") #skipped\n",
    "else: #executed\n",
    "    print(num4)"
   ]
  },
  {
   "cell_type": "markdown",
   "id": "d54cc73e",
   "metadata": {},
   "source": [
    "### Pass keyword\n",
    "The pass statement is a null statement which can be used as a placeholder for future code.\n",
    "\n",
    "Suppose we have a loop or a function that is not implemented yet, but we want to implement it in the future. In such cases, we can use the pass statement."
   ]
  },
  {
   "cell_type": "code",
   "execution_count": 58,
   "id": "e609bc27",
   "metadata": {},
   "outputs": [
    {
     "name": "stdout",
     "output_type": "stream",
     "text": [
      "end\n"
     ]
    }
   ],
   "source": [
    "#using pass\n",
    "if 3>2:\n",
    "    pass\n",
    "print(\"end\")"
   ]
  },
  {
   "cell_type": "code",
   "execution_count": 59,
   "id": "52589656",
   "metadata": {},
   "outputs": [
    {
     "ename": "IndentationError",
     "evalue": "expected an indented block (3671356695.py, line 4)",
     "output_type": "error",
     "traceback": [
      "\u001b[1;36m  Cell \u001b[1;32mIn[59], line 4\u001b[1;36m\u001b[0m\n\u001b[1;33m    print(\"end\")\u001b[0m\n\u001b[1;37m    ^\u001b[0m\n\u001b[1;31mIndentationError\u001b[0m\u001b[1;31m:\u001b[0m expected an indented block\n"
     ]
    }
   ],
   "source": [
    "#not using pass\n",
    "if 3>2:\n",
    "    #left to code\n",
    "print(\"end\")"
   ]
  },
  {
   "cell_type": "code",
   "execution_count": 60,
   "id": "f081b3a9",
   "metadata": {},
   "outputs": [
    {
     "name": "stdout",
     "output_type": "stream",
     "text": [
      "end\n"
     ]
    }
   ],
   "source": [
    "#using pass\n",
    "def f1():\n",
    "    pass\n",
    "print(\"end\")"
   ]
  },
  {
   "cell_type": "code",
   "execution_count": 61,
   "id": "8b952c7b",
   "metadata": {},
   "outputs": [
    {
     "ename": "IndentationError",
     "evalue": "expected an indented block (3956210704.py, line 4)",
     "output_type": "error",
     "traceback": [
      "\u001b[1;36m  Cell \u001b[1;32mIn[61], line 4\u001b[1;36m\u001b[0m\n\u001b[1;33m    print(\"end\")\u001b[0m\n\u001b[1;37m    ^\u001b[0m\n\u001b[1;31mIndentationError\u001b[0m\u001b[1;31m:\u001b[0m expected an indented block\n"
     ]
    }
   ],
   "source": [
    "#not using pass\n",
    "def f1():\n",
    "    #code left to write\n",
    "print(\"end\")"
   ]
  },
  {
   "cell_type": "code",
   "execution_count": 62,
   "id": "f09d4e51",
   "metadata": {},
   "outputs": [
    {
     "name": "stdout",
     "output_type": "stream",
     "text": [
      "end\n"
     ]
    }
   ],
   "source": [
    "class C1():\n",
    "    pass\n",
    "print(\"end\")"
   ]
  },
  {
   "cell_type": "markdown",
   "id": "bf7d7750",
   "metadata": {},
   "source": [
    "### range() keyword\n",
    "The range() function returns a sequence of numbers between the give range.\n",
    "\n",
    "It returns an immutable sequence of numbers that can be easily converted to lists, tuples, sets etc."
   ]
  },
  {
   "cell_type": "code",
   "execution_count": 65,
   "id": "178e783f",
   "metadata": {},
   "outputs": [
    {
     "name": "stdout",
     "output_type": "stream",
     "text": [
      "<class 'range'>\n"
     ]
    }
   ],
   "source": [
    "print(type(range(10)))"
   ]
  },
  {
   "cell_type": "code",
   "execution_count": 66,
   "id": "72456e64",
   "metadata": {},
   "outputs": [
    {
     "name": "stdout",
     "output_type": "stream",
     "text": [
      "[0, 1, 2, 3, 4, 5, 6, 7, 8, 9]\n"
     ]
    }
   ],
   "source": [
    "print(list(range(10)))"
   ]
  },
  {
   "cell_type": "code",
   "execution_count": 67,
   "id": "876b16d7",
   "metadata": {},
   "outputs": [
    {
     "name": "stdout",
     "output_type": "stream",
     "text": [
      "[1, 2, 3, 4, 5, 6, 7, 8, 9]\n"
     ]
    }
   ],
   "source": [
    "print(list(range(1, 10)))"
   ]
  },
  {
   "cell_type": "code",
   "execution_count": 68,
   "id": "3924a5cb",
   "metadata": {},
   "outputs": [
    {
     "name": "stdout",
     "output_type": "stream",
     "text": [
      "[1, 4, 7]\n"
     ]
    }
   ],
   "source": [
    "print(list(range(1, 10, 3)))"
   ]
  },
  {
   "cell_type": "code",
   "execution_count": 70,
   "id": "3ef79e7c",
   "metadata": {},
   "outputs": [
    {
     "name": "stdout",
     "output_type": "stream",
     "text": [
      "[10, 9, 8, 7, 6, 5, 4, 3, 2]\n"
     ]
    }
   ],
   "source": [
    "print(list(range(10, 1, -1)))"
   ]
  },
  {
   "cell_type": "markdown",
   "id": "07ad6dfa",
   "metadata": {},
   "source": [
    "The range() function is commonly used in a for loop to iterate the loop a certain number of times."
   ]
  },
  {
   "cell_type": "code",
   "execution_count": 71,
   "id": "184dd10d",
   "metadata": {},
   "outputs": [
    {
     "name": "stdout",
     "output_type": "stream",
     "text": [
      "0\n",
      "1\n",
      "2\n"
     ]
    }
   ],
   "source": [
    "for i in range(3):\n",
    "    print(i)"
   ]
  },
  {
   "cell_type": "markdown",
   "id": "741bd087",
   "metadata": {},
   "source": [
    "### While loop, while else and for loop\n",
    "The for loop is usually used when the number of iterations is known. Let's take an example of counting total number of digits in a number."
   ]
  },
  {
   "cell_type": "code",
   "execution_count": 1,
   "id": "a0e516c6",
   "metadata": {},
   "outputs": [
    {
     "name": "stdout",
     "output_type": "stream",
     "text": [
      "1\n",
      "4\n",
      "9\n",
      "16\n",
      "25\n",
      "36\n",
      "49\n",
      "64\n",
      "81\n",
      "100\n"
     ]
    }
   ],
   "source": [
    "#printing squares of numbers from 1 to 10\n",
    "for i in range(1, 11):\n",
    "    print(i**2)\n"
   ]
  },
  {
   "cell_type": "markdown",
   "id": "60792275",
   "metadata": {},
   "source": [
    "The while statement simply loops until a condition is False. An example for this is,"
   ]
  },
  {
   "cell_type": "code",
   "execution_count": 1,
   "id": "4a29c330",
   "metadata": {},
   "outputs": [
    {
     "name": "stdout",
     "output_type": "stream",
     "text": [
      "Digit count = 6\n"
     ]
    }
   ],
   "source": [
    "#counting the number of digits in a number\n",
    "number = 209839\n",
    "count = 0\n",
    "while number != 0:\n",
    "    number //= 10\n",
    "    count += 1\n",
    "print(\"Digit count =\", count)"
   ]
  },
  {
   "cell_type": "markdown",
   "id": "15d0cd43",
   "metadata": {},
   "source": [
    "With the else statement after while we can run a block of code once when the condition no longer is true.\n",
    "\n",
    "Suppose we want a user to update quantity of items already in the list and add those items not in the list in case the user wants for the grocery shopping. Use of while else for this is demonstrated below."
   ]
  },
  {
   "cell_type": "code",
   "execution_count": 6,
   "id": "e17506bd",
   "metadata": {},
   "outputs": [
    {
     "name": "stdout",
     "output_type": "stream",
     "text": [
      "Enter item you want to buy:pen\n",
      "You have 5 pen in your cart.\n",
      "Do you want to change the quantity? y/n y\n",
      "Enter the qty for pen3\n",
      "Do you want to add any other item to your cart? y/n y\n",
      "Enter new item you want: mouse\n",
      "Enter quantity for mouse: 4\n",
      "[{'item': 'pen', 'qty': 3}, {'item': 'copy', 'qty': 10}, {'item': 'mouse', 'qty': '4'}]\n"
     ]
    }
   ],
   "source": [
    "cart = [\n",
    "    {\"item\": \"pen\", \"qty\": 5},\n",
    "    {\"item\": \"copy\", \"qty\": 10}\n",
    "]\n",
    "\n",
    "thing = input(\"Enter item you want to buy:\")\n",
    "\n",
    "i = 0\n",
    "while i < len(cart):\n",
    "    item = cart[i]\n",
    "    if item[\"item\"] == thing:\n",
    "        print(f'You have {item[\"qty\"]} {thing} in your cart.')\n",
    "        changeQty = input(\"Do you want to change the quantity? y/n \")\n",
    "        if changeQty.lower() == \"y\":\n",
    "            qty = int(input(f\"Enter the qty for {thing}\"))\n",
    "            cart[i] = {\"item\": thing, \"qty\": qty}\n",
    "    i = i + 1\n",
    "else:\n",
    "    add_item = input(\"Do you want to add any other item to your cart? y/n \")\n",
    "    if add_item.lower() == \"y\":\n",
    "        new_item = input(\"Enter new item you want: \")\n",
    "        new_qty = input(f\"Enter quantity for {new_item}: \")\n",
    "        cart.append({\"item\": new_item, \"qty\": new_qty})\n",
    "print(cart)"
   ]
  },
  {
   "cell_type": "markdown",
   "id": "392b1a3a",
   "metadata": {},
   "source": [
    "## Module 7: Introduction to Functions\n",
    "### Creating Functions"
   ]
  },
  {
   "cell_type": "code",
   "execution_count": null,
   "id": "3563ed2f",
   "metadata": {},
   "outputs": [],
   "source": []
  },
  {
   "cell_type": "markdown",
   "id": "f0b46b84",
   "metadata": {},
   "source": [
    "## Module 8: File handling, Exception handling\n",
    "\n",
    "### Reading and writing to files\n",
    "\n",
    "A file operation takes place in the following order:\n",
    "1. Open a file\n",
    "2. Read or write\n",
    "3. Close the file (to free the resources tied to it)\n",
    "\n",
    "An example of file operation is shown below."
   ]
  },
  {
   "cell_type": "code",
   "execution_count": 17,
   "id": "f8be0405",
   "metadata": {},
   "outputs": [],
   "source": [
    "#creating new file in write-only mode\n",
    "f1 = open(\"file1.txt\", \"w\")\n",
    "\n",
    "#writing to file using write() and writelines()\n",
    "f1.write(\"This is file handling test text.\\n\")\n",
    "f1.writelines([\"It is a beautiful day.\", \"Welcome to Python world! \\n\"])\n",
    "\n",
    "#closing the file\n",
    "f1.close()"
   ]
  },
  {
   "cell_type": "markdown",
   "id": "247f8937",
   "metadata": {},
   "source": [
    "#### try...finally <a class=\"anchor\" id=\"try...finally\"></a>\n"
   ]
  },
  {
   "cell_type": "code",
   "execution_count": 19,
   "id": "783e3b23",
   "metadata": {},
   "outputs": [
    {
     "name": "stdout",
     "output_type": "stream",
     "text": [
      "This is file handling test text.\n",
      "It is a beautiful day.Welcome to Python world! \n",
      "\n"
     ]
    }
   ],
   "source": [
    "try:\n",
    "    f5 = open(\"file1.txt\", \"r\")\n",
    "    content5 = f5.read()\n",
    "    print(content5)\n",
    "    \n",
    "finally:\n",
    "    f5.close()"
   ]
  },
  {
   "cell_type": "markdown",
   "id": "eafc1612",
   "metadata": {},
   "source": [
    "### Context Managers"
   ]
  },
  {
   "cell_type": "markdown",
   "id": "4207ab6e",
   "metadata": {},
   "source": [
    "#### with...open\n",
    "Let us read the file created above using a better approach for closing files."
   ]
  },
  {
   "cell_type": "code",
   "execution_count": 18,
   "id": "fd79aaf5",
   "metadata": {},
   "outputs": [
    {
     "name": "stdout",
     "output_type": "stream",
     "text": [
      "This is file handling test text.\n",
      "It is a beautiful day.Welcome to Python world! \n",
      "\n",
      "-------------------- \n",
      "\n",
      "['This is file handling test text.\\n', 'It is a beautiful day.Welcome to Python world! \\n']\n",
      "-------------------- \n",
      "\n",
      "This is file handling test text.\n",
      "\n"
     ]
    }
   ],
   "source": [
    "#with...open syntax to automatically close the file.\n",
    "#opening file in read-only mode and reading the whole file\n",
    "with open(\"file1.txt\", \"r\") as f2:\n",
    "    content2 = f2.read()\n",
    "    print(content2)\n",
    "    \n",
    "print(\"-\"*20, \"\\n\")\n",
    "#opening file in read-only mode and reading with readlines() method\n",
    "with open(\"File1.txt\", \"r\") as f3:\n",
    "    content3 = f3.readlines()\n",
    "    print(content3)\n",
    "\n",
    "print(\"-\"*20, \"\\n\")\n",
    "#opening file in read-only mode and reading with readline() method\n",
    "with open(\"File1.txt\", \"r\") as f4:\n",
    "    print(f4.readline())\n"
   ]
  },
  {
   "cell_type": "markdown",
   "id": "0f531c8f",
   "metadata": {},
   "source": [
    "### Python Exception\n",
    "\n",
    "Errors that occur at runtime (after passing the syntax test) are called exceptions or logical errors.\n",
    "\n",
    "Unlike errors like syntax error, compilation error, infinite recursion, etc, exceptions can be caught and handled by the program.\n",
    "\n",
    "One common exception is __ZeroDivisionError__ which is an error caused due to division by zero."
   ]
  },
  {
   "cell_type": "code",
   "execution_count": 2,
   "id": "142218e3",
   "metadata": {},
   "outputs": [
    {
     "ename": "ZeroDivisionError",
     "evalue": "division by zero",
     "output_type": "error",
     "traceback": [
      "\u001b[1;31m---------------------------------------------------------------------------\u001b[0m",
      "\u001b[1;31mZeroDivisionError\u001b[0m                         Traceback (most recent call last)",
      "Cell \u001b[1;32mIn[2], line 1\u001b[0m\n\u001b[1;32m----> 1\u001b[0m \u001b[38;5;28mprint\u001b[39m(\u001b[38;5;241;43m2\u001b[39;49m\u001b[43m \u001b[49m\u001b[38;5;241;43m/\u001b[39;49m\u001b[43m \u001b[49m\u001b[38;5;241;43m0\u001b[39;49m)\n",
      "\u001b[1;31mZeroDivisionError\u001b[0m: division by zero"
     ]
    }
   ],
   "source": [
    "print(2 / 0)"
   ]
  },
  {
   "cell_type": "markdown",
   "id": "5da4fc72",
   "metadata": {},
   "source": [
    "There are other built-in Python exceptions such as IndexError, TypeError, NameError, ImportError, KeyError and so on. Some of them are demonstrated below.\n",
    "\n",
    "\n",
    "__IndexError__\n",
    "\n",
    "It occurs when the index of a sequence is out of range."
   ]
  },
  {
   "cell_type": "code",
   "execution_count": 4,
   "id": "063e1891",
   "metadata": {},
   "outputs": [
    {
     "ename": "IndexError",
     "evalue": "list index out of range",
     "output_type": "error",
     "traceback": [
      "\u001b[1;31m---------------------------------------------------------------------------\u001b[0m",
      "\u001b[1;31mIndexError\u001b[0m                                Traceback (most recent call last)",
      "Cell \u001b[1;32mIn[4], line 2\u001b[0m\n\u001b[0;32m      1\u001b[0m my_list \u001b[38;5;241m=\u001b[39m [\u001b[38;5;241m1\u001b[39m, \u001b[38;5;241m2\u001b[39m, \u001b[38;5;241m3\u001b[39m, \u001b[38;5;241m4\u001b[39m]\n\u001b[1;32m----> 2\u001b[0m \u001b[38;5;28mprint\u001b[39m(\u001b[43mmy_list\u001b[49m\u001b[43m[\u001b[49m\u001b[38;5;241;43m4\u001b[39;49m\u001b[43m]\u001b[49m)\n",
      "\u001b[1;31mIndexError\u001b[0m: list index out of range"
     ]
    }
   ],
   "source": [
    "my_list = [1, 2, 3, 4]\n",
    "print(my_list[4])"
   ]
  },
  {
   "cell_type": "markdown",
   "id": "81d45d48",
   "metadata": {},
   "source": [
    "__NameError__\n",
    "\n",
    "It is raised when a variable is not found in local or global scope."
   ]
  },
  {
   "cell_type": "code",
   "execution_count": 7,
   "id": "4ff4b5cf",
   "metadata": {},
   "outputs": [
    {
     "ename": "NameError",
     "evalue": "name 'var1' is not defined",
     "output_type": "error",
     "traceback": [
      "\u001b[1;31m---------------------------------------------------------------------------\u001b[0m",
      "\u001b[1;31mNameError\u001b[0m                                 Traceback (most recent call last)",
      "Cell \u001b[1;32mIn[7], line 1\u001b[0m\n\u001b[1;32m----> 1\u001b[0m \u001b[38;5;28mprint\u001b[39m(\u001b[43mvar1\u001b[49m)\n",
      "\u001b[1;31mNameError\u001b[0m: name 'var1' is not defined"
     ]
    }
   ],
   "source": [
    "print(var1)"
   ]
  },
  {
   "cell_type": "markdown",
   "id": "0cd024d9",
   "metadata": {},
   "source": [
    "__TypeError__\n",
    "\n",
    "It is raised when a function or operation is applied to an object of incorrect type."
   ]
  },
  {
   "cell_type": "code",
   "execution_count": 6,
   "id": "98725831",
   "metadata": {},
   "outputs": [
    {
     "ename": "TypeError",
     "evalue": "can only concatenate str (not \"int\") to str",
     "output_type": "error",
     "traceback": [
      "\u001b[1;31m---------------------------------------------------------------------------\u001b[0m",
      "\u001b[1;31mTypeError\u001b[0m                                 Traceback (most recent call last)",
      "Cell \u001b[1;32mIn[6], line 1\u001b[0m\n\u001b[1;32m----> 1\u001b[0m \u001b[38;5;28mprint\u001b[39m(\u001b[38;5;124;43m\"\u001b[39;49m\u001b[38;5;124;43ma\u001b[39;49m\u001b[38;5;124;43m\"\u001b[39;49m\u001b[43m \u001b[49m\u001b[38;5;241;43m+\u001b[39;49m\u001b[43m \u001b[49m\u001b[38;5;241;43m1\u001b[39;49m)\n",
      "\u001b[1;31mTypeError\u001b[0m: can only concatenate str (not \"int\") to str"
     ]
    }
   ],
   "source": [
    "print(\"a\" + 1)"
   ]
  },
  {
   "cell_type": "markdown",
   "id": "c3c34da2",
   "metadata": {},
   "source": [
    "### Exception Handling\n",
    "It is very important to handle exceptions as we saw above they terminate the execution of the program abnormally.\n",
    "\n",
    "#### try...except block\n",
    "The try...except block is used to handle exceptions in Python.\n",
    "\n",
    "Let us handle an example of __NameError__ exception, using try...except block."
   ]
  },
  {
   "cell_type": "code",
   "execution_count": 15,
   "id": "1f56315a",
   "metadata": {},
   "outputs": [
    {
     "name": "stdout",
     "output_type": "stream",
     "text": [
      "Variable x is not found\n"
     ]
    }
   ],
   "source": [
    "try:\n",
    "    print(x)\n",
    "except:\n",
    "    print(\"Variable x is not found\")"
   ]
  },
  {
   "cell_type": "markdown",
   "id": "79a60da2",
   "metadata": {},
   "source": [
    "#### Catching specific exceptions in python\n",
    "\n",
    "In some situations, we might need to catch multiple exceptions for one try block. In such case catching the specific exception is important."
   ]
  },
  {
   "cell_type": "code",
   "execution_count": 19,
   "id": "4144694a",
   "metadata": {},
   "outputs": [
    {
     "name": "stdout",
     "output_type": "stream",
     "text": [
      "Index out of range\n"
     ]
    }
   ],
   "source": [
    "try:\n",
    "    print(x[4])\n",
    "except NameError:\n",
    "    print(\"x not found\")\n",
    "except IndexError:\n",
    "    print(\"Index out of range\")"
   ]
  },
  {
   "cell_type": "code",
   "execution_count": 20,
   "id": "7fb8adea",
   "metadata": {},
   "outputs": [
    {
     "name": "stdout",
     "output_type": "stream",
     "text": [
      "Index out of range\n"
     ]
    }
   ],
   "source": [
    "try:\n",
    "    x = [1, 2, 3]\n",
    "    print(x[4])\n",
    "except NameError:\n",
    "    print(\"x not found\")\n",
    "except IndexError:\n",
    "    print(\"Index out of range\")"
   ]
  },
  {
   "cell_type": "markdown",
   "id": "e3b91851",
   "metadata": {},
   "source": [
    "#### try with else clause\n",
    "In some situations, we might want to run a certain block of code if the code block inside try runs without any errors. For these cases, you can use the optional else keyword with the try statement.\n",
    "\n",
    "An example is demonstrated below."
   ]
  },
  {
   "cell_type": "code",
   "execution_count": 21,
   "id": "f8d513d0",
   "metadata": {},
   "outputs": [
    {
     "name": "stdout",
     "output_type": "stream",
     "text": [
      "3\n",
      "6\n"
     ]
    }
   ],
   "source": [
    "try:\n",
    "    x = [1, 2, 3]\n",
    "    print(x[2])\n",
    "except NameError:\n",
    "    print(\"x not found\")\n",
    "except IndexError:\n",
    "    print(\"index out of range\")\n",
    "else:\n",
    "    print(x[2]*2)"
   ]
  },
  {
   "cell_type": "markdown",
   "id": "c541fef6",
   "metadata": {},
   "source": [
    "#### try...finally\n",
    "In Python, the finally block is always executed no matter whether there is an exception or not.\n",
    "\n",
    "The finally block is optional. And, for each try block, there can be only one finally block.\n",
    "\n",
    "An example has been demonstrated above in [this section](#try...finally)."
   ]
  },
  {
   "cell_type": "markdown",
   "id": "5d9c1afe",
   "metadata": {},
   "source": [
    "## Module 10: Basic Introduction to Classes and Objects"
   ]
  },
  {
   "cell_type": "markdown",
   "id": "458997a2",
   "metadata": {},
   "source": [
    "### Object-oriented programming\n",
    "Python is a versatile programming language that allows you to use both functional and object-oriented programming paradigms. All four core aspects of a generic OOP framework are supported by Python's object-oriented programming system: encapsulation, abstraction, inheritance, and polymorphism through the use of objects and classes.\n",
    "\n",
    "#### Objects\n",
    "An object is any entity that has attributes and behaviors. For example, a parrot is an object. It has\n",
    "\n",
    "- attributes - name, age, color, etc.\n",
    "- behavior - dancing, singing, etc.\n",
    "\n",
    "#### Class\n",
    "A class is a blueprint for that object."
   ]
  },
  {
   "cell_type": "code",
   "execution_count": 27,
   "id": "6c299d8f",
   "metadata": {},
   "outputs": [
    {
     "name": "stdout",
     "output_type": "stream",
     "text": [
      "Book: It starts with us, Quantity: 1, Author: Colleen Hoover, Price: 450\n",
      "450\n",
      "\n",
      "Book: It starts with us, Quantity: 33, Author: Coleen Hoover, Price: 382.5\n",
      "382.5\n",
      "\n",
      " ------------------------------ \n",
      "\n",
      "Book: It ends with us, Quantity: 12, Author: Colleen Hoover, \n",
      "        Price: 425.0, Pages: 600\n",
      "Book: Automate boring stuff with Python, Quantity: 3, \n",
      "        Author: Author, Price: 680.0, Field: IT\n"
     ]
    }
   ],
   "source": [
    "class Book:\n",
    "    #constructor\n",
    "    def __init__(self, title, quantity, author, price):\n",
    "        self.title = title\n",
    "        self.quantity = quantity\n",
    "        self.author = author\n",
    "        self.__price = price #private attribute for encapsulation\n",
    "        self.__discount = None #private attribute for encapsulation\n",
    "        \n",
    "    def set_discount(self, discount):\n",
    "        self.__discount = discount\n",
    "        \n",
    "    def get_price(self):\n",
    "        if self.__discount:\n",
    "            return self.__price * (1 - self.__discount)\n",
    "        return self.__price\n",
    "        \n",
    "    #to print information specific to object instance    \n",
    "    def __repr__(self):\n",
    "        return f\"Book: {self.title}, Quantity: {self.quantity}, Author: {self.author}, Price: {self.get_price()}\"\n",
    "    \n",
    "#inheritance\n",
    "class Novel(Book):\n",
    "    def __init__(self, title, quantity, author, price, pages):\n",
    "        #super keyword\n",
    "        super().__init__(title, quantity, author, price)\n",
    "        self.pages = pages\n",
    "    \n",
    "    #polymorphism\n",
    "    def __repr__(self):\n",
    "        return f\"\"\"Book: {self.title}, Quantity: {self.quantity}, Author: {self.author}, \n",
    "        Price: {self.get_price()}, Pages: {self.pages}\"\"\"\n",
    "    \n",
    "    \n",
    "        \n",
    "class Academic(Book):\n",
    "    def __init__(self, title, quantity, author, price, field):\n",
    "    #super keyword\n",
    "        super().__init__(title, quantity, author, price)\n",
    "        self.field = field\n",
    "        \n",
    "    #polymorphism\n",
    "    def __repr__(self):\n",
    "        return f\"\"\"Book: {self.title}, Quantity: {self.quantity}, \n",
    "        Author: {self.author}, Price: {self.get_price()}, Field: {self.field}\"\"\"\n",
    "    \n",
    "\n",
    "#to demonstrate encapsulation\n",
    "single_book = Book(\"It starts with us\", 1, \"Colleen Hoover\", 450)\n",
    "books_in_bulk = Book(\"It starts with us\", 33, \"Coleen Hoover\", 450)\n",
    "books_in_bulk.set_discount(0.15)\n",
    "\n",
    "print(single_book)\n",
    "print(single_book.get_price())\n",
    "print()\n",
    "print(books_in_bulk)\n",
    "print(books_in_bulk.get_price())\n",
    "print(\"\\n\", \"-\"*30, \"\\n\")\n",
    "\n",
    "#to demonstrate inheritance\n",
    "novel1 = Novel(\"It ends with us\", 12, \"Colleen Hoover\", 500, 600)\n",
    "novel1.set_discount(0.15)\n",
    "\n",
    "print(novel1)\n",
    "\n",
    "academic1 = Academic(\"Automate boring stuff with Python\", 3, \"Author\", 800, \"IT\")\n",
    "academic1.set_discount(0.15)\n",
    "\n",
    "print(academic1)"
   ]
  },
  {
   "cell_type": "markdown",
   "id": "eb0b6e88",
   "metadata": {},
   "source": [
    "In the above example, we have created a class called Book. If a book is bought single, no discount is applied while if books are bought in bulk, discounts are applied.\n",
    "\n",
    "- Constructor: __init__() method\n",
    "- __repr__(): to specify what the object should return\n",
    "\n",
    "\n",
    "#### Encapsulation: \n",
    "Encapsulation is the process of preventing clients from accessing certain properties, which can only be accessed through specific methods.\n",
    "\n",
    "We have used private attributes __price and __discount for encapsulation. We use getter and setter methods to access private attributes. Here, we have used set_discount() method to specify discount of 15% for books bought in bulk.\n",
    "\n",
    "#### Inheritance\n",
    "A class's ability to inherit methods and/or characteristics from another class is known as inheritance.\n",
    "\n",
    "The subclass or child class is the class that inherits. The superclass or parent class is the class from which methods and/or attributes are inherited.\n",
    "\n",
    "Two new classes have been added to our bookseller's sales software: a Novel class and Academic class.\n",
    "\n",
    "We can see that regardless of whether a book is classified as novel or academic, it may have some similar attributes like title and author, as well as common methods like get_price() and set_discount(). Rewriting all that code for each new class is a waste of time, effort, and memory.\n",
    "\n",
    "#### super keyword\n",
    "The super() is used to instantiate the child class with the help of the constructor in its parent class as shown in the child classes Novel and Academic.\n",
    "\n",
    "#### Polymorphism\n",
    "Polymorphism refers to a subclass's ability to adapt a method that already exists in its superclass to meet its needs.\n",
    "\n",
    "The Book superclass has a specific method called __repr__.\n",
    "\n",
    "Both the Novel subclass and Academic subclass is defined with its own __repr__ special method. They will invoke their own method by suppressing the same method present in their superclass book. This is polymorphism.\n"
   ]
  },
  {
   "cell_type": "markdown",
   "id": "3075d71d",
   "metadata": {},
   "source": [
    "#### Multiple Inheritance"
   ]
  },
  {
   "cell_type": "code",
   "execution_count": 28,
   "id": "113500dd",
   "metadata": {},
   "outputs": [
    {
     "name": "stdout",
     "output_type": "stream",
     "text": [
      "Super Class 1 method called\n"
     ]
    }
   ],
   "source": [
    "class SuperClass1:\n",
    "    def info(self):\n",
    "        print(\"Super Class 1 method called\")\n",
    "\n",
    "class SuperClass2:\n",
    "    def info(self):\n",
    "        print(\"Super Class 2 method called\")\n",
    "\n",
    "class Derived(SuperClass1, SuperClass2):\n",
    "    pass\n",
    "\n",
    "d1 = Derived()\n",
    "d1.info() "
   ]
  },
  {
   "cell_type": "markdown",
   "id": "744e4cd2",
   "metadata": {},
   "source": [
    "In this example, the Method Reolution Order (MRO) specifies that methods should be inherited from the leftmost superclass first, so info() of SuperClass1 is called rather than that of SuperClass2."
   ]
  },
  {
   "cell_type": "markdown",
   "id": "c8a1138a",
   "metadata": {},
   "source": [
    "#### Abstraction\n",
    "Abstraction isn't supported directly in Python. Calling a magic method, on the other hand, allows for abstraction.\n",
    "\n",
    "If an abstract method is declared in a superclass, subclasses that inherit from the superclass must have their own implementation of the method.\n",
    "\n",
    "A superclass's abstract method will never be called by its subclasses. But the abstraction aids in the maintenance of a similar structure across all subclasses."
   ]
  },
  {
   "cell_type": "markdown",
   "id": "f245234b",
   "metadata": {},
   "source": [
    "#### Operator Overloading - Polymorphism"
   ]
  },
  {
   "cell_type": "code",
   "execution_count": 1,
   "id": "7bc707a7",
   "metadata": {},
   "outputs": [
    {
     "name": "stdout",
     "output_type": "stream",
     "text": [
      "(3, 5)\n"
     ]
    }
   ],
   "source": [
    "class complex:\n",
    "    def __init__(self, a, b):\n",
    "        self.a = a\n",
    "        self.b = b\n",
    " \n",
    "     # adding two objects\n",
    "    def __add__(self, other):\n",
    "        return self.a + other.a, self.b + other.b\n",
    " \n",
    "Ob1 = complex(1, 2)\n",
    "Ob2 = complex(2, 3)\n",
    "Ob3 = Ob1 + Ob2\n",
    "print(Ob3)"
   ]
  },
  {
   "cell_type": "markdown",
   "id": "867b802f",
   "metadata": {},
   "source": [
    "In the above example, we performed addition of two complex numbers using operator overloading of the magic method __add__()"
   ]
  }
 ],
 "metadata": {
  "kernelspec": {
   "display_name": "Python 3 (ipykernel)",
   "language": "python",
   "name": "python3"
  },
  "language_info": {
   "codemirror_mode": {
    "name": "ipython",
    "version": 3
   },
   "file_extension": ".py",
   "mimetype": "text/x-python",
   "name": "python",
   "nbconvert_exporter": "python",
   "pygments_lexer": "ipython3",
   "version": "3.9.5"
  }
 },
 "nbformat": 4,
 "nbformat_minor": 5
}
