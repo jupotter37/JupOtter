{
  "nbformat": 4,
  "nbformat_minor": 0,
  "metadata": {
    "colab": {
      "provenance": []
    },
    "kernelspec": {
      "name": "python3",
      "display_name": "Python 3"
    },
    "language_info": {
      "name": "python"
    }
  },
  "cells": [
    {
      "cell_type": "code",
      "source": [
        "from google.colab import drive\n",
        "drive.mount('/content/gdrive')\n",
        "\n",
        "# 讀取 CSV 檔案的前幾行\n",
        "csv_file_path = '/content/gdrive/My Drive/COMPUTER_CLASS/hw1/hw1.csv'\n",
        "with open(csv_file_path, 'r') as file:\n",
        "    for i in range(5):  # 讀取前 5 行\n",
        "        print(file.readline())\n"
      ],
      "metadata": {
        "colab": {
          "base_uri": "https://localhost:8080/"
        },
        "id": "rJicn2rK1V6Z",
        "outputId": "95081bec-d3c0-42ed-a6cd-19ea3aaa5b4b"
      },
      "execution_count": 1,
      "outputs": [
        {
          "output_type": "stream",
          "name": "stdout",
          "text": [
            "Mounted at /content/gdrive\n",
            "各級學校師生比,,,,,,,\n",
            "\n",
            ",統計期,設立別,國小,中等教育,國中,高級中等學校,大專校院\n",
            "\n",
            ",103學年,總計,12.71,14.62,12.06,17.05,22.56\n",
            "\n",
            ",103學年,公立,12.6,12.83,12.04,13.96,18.78\n",
            "\n",
            ",103學年,私立,18.65,22.79,14.27,23.04,25.1\n",
            "\n"
          ]
        }
      ]
    },
    {
      "cell_type": "code",
      "source": [
        "!wget -O TaipeiSansTCBeta-Regular.ttf https://drive.google.com/uc?id=1eGAsTN1HBpJAkeVM57_C7ccp7hbgSz3_&export=download\n",
        "\n",
        "import matplotlib as mpl\n",
        "import matplotlib.pyplot as plt\n",
        "from matplotlib.font_manager import fontManager\n",
        "\n",
        "fontManager.addfont('TaipeiSansTCBeta-Regular.ttf')\n",
        "mpl.rc('font', family='Taipei Sans TC Beta')\n"
      ],
      "metadata": {
        "colab": {
          "base_uri": "https://localhost:8080/"
        },
        "id": "Xs6rcuK-7eNk",
        "outputId": "62601e06-0ebd-4a3b-bccc-da70c555495d"
      },
      "execution_count": 2,
      "outputs": [
        {
          "output_type": "stream",
          "name": "stdout",
          "text": [
            "--2024-06-05 14:54:15--  https://drive.google.com/uc?id=1eGAsTN1HBpJAkeVM57_C7ccp7hbgSz3_\n",
            "Resolving drive.google.com (drive.google.com)... 173.194.216.113, 173.194.216.138, 173.194.216.101, ...\n",
            "Connecting to drive.google.com (drive.google.com)|173.194.216.113|:443... connected.\n",
            "HTTP request sent, awaiting response... 303 See Other\n",
            "Location: https://drive.usercontent.google.com/download?id=1eGAsTN1HBpJAkeVM57_C7ccp7hbgSz3_ [following]\n",
            "--2024-06-05 14:54:15--  https://drive.usercontent.google.com/download?id=1eGAsTN1HBpJAkeVM57_C7ccp7hbgSz3_\n",
            "Resolving drive.usercontent.google.com (drive.usercontent.google.com)... 108.177.12.132, 2607:f8b0:400c:c08::84\n",
            "Connecting to drive.usercontent.google.com (drive.usercontent.google.com)|108.177.12.132|:443... connected.\n",
            "HTTP request sent, awaiting response... 200 OK\n",
            "Length: 20659344 (20M) [application/octet-stream]\n",
            "Saving to: ‘TaipeiSansTCBeta-Regular.ttf’\n",
            "\n",
            "TaipeiSansTCBeta-Re 100%[===================>]  19.70M  --.-KB/s    in 0.1s    \n",
            "\n",
            "2024-06-05 14:54:20 (148 MB/s) - ‘TaipeiSansTCBeta-Regular.ttf’ saved [20659344/20659344]\n",
            "\n"
          ]
        }
      ]
    },
    {
      "cell_type": "code",
      "source": [
        "# 導入所需的模塊\n",
        "from google.colab import drive\n",
        "import pandas as pd\n",
        "import matplotlib.pyplot as plt\n",
        "import seaborn as sns\n",
        "from IPython.display import display, HTML\n",
        "\n",
        "# 掛載 Google Drive\n",
        "drive.mount('/content/gdrive')\n",
        "\n",
        "# 定義字體文件的路徑\n",
        "font_path = '/content/gdrive/My Drive/COMPUTER_CLASS/hw1/'\n",
        "\n",
        "# # 將字體添加到 Matplotlib 的字體管理器中\n",
        " font_manager.fontManager.addfont(font_path)\n",
        "\n",
        "# 設置全局字體家族為自定義字體\n",
        "plt.rcParams['font.family'] = 'Noto Sans TC'\n",
        "\n",
        "# 測試字體顯示\n",
        " html_content = f\"\"\"\n",
        " <!DOCTYPE html>\n",
        " <html lang=\"zh-Hant\">\n",
        " <head>\n",
        "     <meta charset=\"UTF-8\">\n",
        "     <meta name=\"viewport\" content=\"width=device-width, initial-scale=1.0\">\n",
        "     <title>使用本地字體的示範</title>\n",
        "     <style>\n",
        "         @font-face {{\n",
        "             font-family: 'Noto Sans TC';\n",
        "             src: url('{font_path}') format('truetype');\n",
        "             font-weight: 400;\n",
        "             font-style: normal;\n",
        "         }}\n",
        "\n",
        "         body {{\n",
        "             font-family: 'Noto Sans TC', sans-serif;\n",
        "         }}\n",
        "\n",
        "         h1 {{\n",
        "             font-weight: 700;\n",
        "         }}\n",
        "\n",
        "         p {{\n",
        "             font-weight: 400;\n",
        "         }}\n",
        "     </style>\n",
        " </head>\n",
        " <body>\n",
        "     <h1>這是一個示範標題</h1>\n",
        "    <p>這是一段示範文字，使用了本地字體 Noto Sans TC。</p>\n",
        " </body>\n",
        " </html>\n",
        " \"\"\"\n",
        "\n",
        "# 顯示 HTML 內容以檢查字體\n",
        " display(HTML(html_content))\n",
        "\n",
        "# 正確的 CSV 文件路徑\n",
        " csv_file_path = '/content/gdrive/My Drive/COMPUTER_CLASS/hw1/hw1.csv'\n",
        "\n",
        "# 讀取 CSV 文件\n",
        "def read_csv(file_path):\n",
        "    return pd.read_csv(file_path, delimiter=',', skiprows=1)\n",
        "\n",
        "# 繪圖函數\n",
        "def plot_student_teacher_ratio(data, school_type):\n",
        "    sns.set_style(\"whitegrid\")\n",
        "    plt.figure(figsize=(10, 6))\n",
        "    sns.barplot(x='年份', y='師生比', hue='學校類型', data=data[data['學校類型'] == school_type])\n",
        "    plt.title('學校歷年師生比')\n",
        "    plt.xlabel('年份')\n",
        "    plt.ylabel('師生比')\n",
        "    plt.xticks(rotation=45)\n",
        "    plt.tight_layout()\n",
        "    plt.show()\n",
        "\n",
        "# 讀取 CSV 文件\n",
        "\n",
        "# 檢查 DataFrame 的列\n",
        "print(data.columns)\n",
        "print(data.head())\n",
        "\n",
        "# 轉換數據格式\n",
        "data_melted = data.melt(id_vars=['統計期'], var_name='學校類型', value_name='師生比')\n",
        "\n",
        "# 提取年份\n",
        "data_melted['年份'] = data_melted['統計期'].str.extract('(\\d+)').astype(int)\n",
        "\n",
        "# 繪製不同學校類型的師生比\n",
        "plot_student_teacher_ratio(data_melted, '總計')\n",
        "plot_student_teacher_ratio(data_melted, '公立')\n",
        "plot_student_teacher_ratio(data_melted, '私立')\n"
      ],
      "metadata": {
        "colab": {
          "base_uri": "https://localhost:8080/",
          "height": 106
        },
        "id": "y-N91FwC9DFE",
        "outputId": "1852b2ef-65f9-4655-db3b-a1c41d138ddc"
      },
      "execution_count": 5,
      "outputs": [
        {
          "output_type": "error",
          "ename": "IndentationError",
          "evalue": "unexpected indent (<ipython-input-5-d6e743aa52e2>, line 15)",
          "traceback": [
            "\u001b[0;36m  File \u001b[0;32m\"<ipython-input-5-d6e743aa52e2>\"\u001b[0;36m, line \u001b[0;32m15\u001b[0m\n\u001b[0;31m    font_manager.fontManager.addfont(font_path)\u001b[0m\n\u001b[0m    ^\u001b[0m\n\u001b[0;31mIndentationError\u001b[0m\u001b[0;31m:\u001b[0m unexpected indent\n"
          ]
        }
      ]
    }
  ]
}