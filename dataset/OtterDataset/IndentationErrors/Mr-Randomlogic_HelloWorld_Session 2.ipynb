{
 "cells": [
  {
   "cell_type": "code",
   "execution_count": 1,
   "metadata": {},
   "outputs": [
    {
     "name": "stdout",
     "output_type": "stream",
     "text": [
      "Hello World\n"
     ]
    }
   ],
   "source": [
    "print('Hello World')\n"
   ]
  },
  {
   "cell_type": "code",
   "execution_count": 3,
   "metadata": {},
   "outputs": [
    {
     "name": "stdout",
     "output_type": "stream",
     "text": [
      "30\n"
     ]
    }
   ],
   "source": [
    "value1 = 10\n",
    "value2 = 20\n",
    "\n",
    "total = value1 + value2\n",
    "\n",
    "print (total)"
   ]
  },
  {
   "cell_type": "code",
   "execution_count": null,
   "metadata": {},
   "outputs": [
    {
     "name": "stdout",
     "output_type": "stream",
     "text": [
      "20\n"
     ]
    }
   ],
   "source": [
    "number1 = int(input('Enter a number'))\n",
    "numbe2 = int(input('Enter another number'))\n",
    "\n",
    "total1 = number1 + numbe2\n",
    "\n",
    "print(total1)"
   ]
  },
  {
   "cell_type": "code",
   "execution_count": 9,
   "metadata": {},
   "outputs": [
    {
     "data": {
      "text/plain": [
       "3"
      ]
     },
     "execution_count": 9,
     "metadata": {},
     "output_type": "execute_result"
    }
   ],
   "source": [
    "10/5"
   ]
  },
  {
   "cell_type": "code",
   "execution_count": 10,
   "metadata": {},
   "outputs": [
    {
     "data": {
      "text/plain": [
       "3"
      ]
     },
     "execution_count": 10,
     "metadata": {},
     "output_type": "execute_result"
    }
   ],
   "source": [
    "10//3"
   ]
  },
  {
   "cell_type": "code",
   "execution_count": 19,
   "metadata": {},
   "outputs": [
    {
     "name": "stdout",
     "output_type": "stream",
     "text": [
      "30.513333333333332\n"
     ]
    }
   ],
   "source": [
    "# ask user to input numbers\n",
    "num1 = float(input('Enter a number'))\n",
    "num2 = float(input('Enter a second number'))\n",
    "num3 = float(input('Enter a third number'))\n",
    "\n",
    "# add the input numbers together and divide by 3\n",
    "average = (num1 + num2 + num3) / 3\n",
    "\n",
    "print(average)"
   ]
  },
  {
   "cell_type": "code",
   "execution_count": 5,
   "metadata": {},
   "outputs": [
    {
     "data": {
      "text/plain": [
       "33"
      ]
     },
     "execution_count": 5,
     "metadata": {},
     "output_type": "execute_result"
    }
   ],
   "source": [
    "x = 23\n",
    "\n",
    "x+=10\n",
    "\n",
    "x\n"
   ]
  },
  {
   "cell_type": "code",
   "execution_count": 4,
   "metadata": {},
   "outputs": [
    {
     "data": {
      "text/plain": [
       "False"
      ]
     },
     "execution_count": 4,
     "metadata": {},
     "output_type": "execute_result"
    }
   ],
   "source": [
    "x > 50"
   ]
  },
  {
   "cell_type": "code",
   "execution_count": 6,
   "metadata": {},
   "outputs": [
    {
     "name": "stdout",
     "output_type": "stream",
     "text": [
      "You can not enter the concert\n"
     ]
    }
   ],
   "source": [
    "# Using 'and', 'or' and 'not'\n",
    "\n",
    "# Ask for user age\n",
    "age = int(input('How old are you?'))\n",
    "\n",
    "# Variable for if the user has a ticker\n",
    "ticket = input('Do you have a ticket? (Yes/No): ').lower()\n",
    "\n",
    "# Logical operators\n",
    "\n",
    "# Return a response based off the age and ticket of the user\n",
    "if age >= 18 and ticket == 'Yes':\n",
    "    print('You can enter the concert')\n",
    "elif age < 18 or ticket != 'Yes':\n",
    "    print('You can not enter the concert')\n",
    "\n"
   ]
  },
  {
   "cell_type": "code",
   "execution_count": 10,
   "metadata": {},
   "outputs": [
    {
     "name": "stdout",
     "output_type": "stream",
     "text": [
      "10\n"
     ]
    }
   ],
   "source": [
    "asknum1 = int(input('Input a number'))\n",
    "asknum2 = int(input('Input a second number'))\n",
    "\n",
    "if asknum1>asknum2:\n",
    "    print(asknum1)\n",
    "elif asknum2>asknum1:\n",
    "    print(asknum2)"
   ]
  },
  {
   "cell_type": "code",
   "execution_count": null,
   "metadata": {},
   "outputs": [],
   "source": [
    "age1 = int(input('How old are you?'))\n",
    "\n",
    "if age1 > 18:\n",
    "    print('Welcome')\n",
    "\n",
    "elif age1 > 13:\n",
    "    print('Ride with an adult')\n",
    "\n",
    "else"
   ]
  },
  {
   "cell_type": "code",
   "execution_count": 15,
   "metadata": {},
   "outputs": [
    {
     "name": "stdout",
     "output_type": "stream",
     "text": [
      "You were not born in a leap year.\n",
      "2004\n"
     ]
    }
   ],
   "source": [
    "# Ask user for  age\n",
    "age2 = int(input('What year were you born?'))\n",
    "\n",
    "# set up an if statement to find if the user age is prefectly divisible by 4 because leap years are perfectly divisible by 4\n",
    "if age2 == age2%4:\n",
    "    print('You were born in a leap year.')\n",
    "    print(age2)\n",
    "else:\n",
    "    print('You were not born in a leap year.')\n",
    "    print(age2)\n"
   ]
  },
  {
   "cell_type": "code",
   "execution_count": 3,
   "metadata": {},
   "outputs": [
    {
     "name": "stdout",
     "output_type": "stream",
     "text": [
      "It is hot outside.\n",
      "It is also humid.\n"
     ]
    }
   ],
   "source": [
    "temperature = 35\n",
    "humidity = 150\n",
    "\n",
    "if temperature > 20:\n",
    "    print('It is hot outside.')\n",
    "    if humidity > 50:\n",
    "        print('It is also humid.')\n",
    "    else:\n",
    "        print('It is dry outside.')\n",
    "else:\n",
    "    print('It is cold outside.')\n"
   ]
  },
  {
   "cell_type": "code",
   "execution_count": 22,
   "metadata": {},
   "outputs": [
    {
     "name": "stdout",
     "output_type": "stream",
     "text": [
      "The price for swimming is £2.5\n"
     ]
    }
   ],
   "source": [
    "user_age = float(input('Enter your age: '))\n",
    "\n",
    "if user_age <= 12 or user_age >= 65:\n",
    "    price = 0\n",
    "else:\n",
    "    swim_card = input('Do you have a swim card? (Yes/No): ')\n",
    "    if swim_card.lower() == 'yes':\n",
    "        price = float(2.50)\n",
    "    else:\n",
    "        price = 5.0\n",
    "\n",
    "print('The price for swimming is £' + str(float(price)))"
   ]
  },
  {
   "cell_type": "code",
   "execution_count": null,
   "metadata": {},
   "outputs": [],
   "source": [
    "msg = input('Enter your Message: ')\n",
    "\n",
    "repeat_times = int(input('How many times do you want that repeated?'))\n",
    "\n",
    "for i in range(1, repeat_times):\n",
    "    print(str(i) + '. ' + msg)"
   ]
  },
  {
   "cell_type": "code",
   "execution_count": null,
   "metadata": {},
   "outputs": [],
   "source": [
    "request = input('What times table do you want to see?')\n",
    "\n",
    "times_table = int(request('How many times do you want that repeated?'))\n",
    "\n",
    "for i in range(1, 13):\n",
    "    print()\n",
    "    "
   ]
  },
  {
   "cell_type": "code",
   "execution_count": 35,
   "metadata": {},
   "outputs": [
    {
     "name": "stdout",
     "output_type": "stream",
     "text": [
      "\n",
      "Times table for 1\n",
      "1 x 1 = 1\n",
      "2 x 1 = 2\n",
      "3 x 1 = 3\n",
      "4 x 1 = 4\n",
      "5 x 1 = 5\n",
      "6 x 1 = 6\n",
      "7 x 1 = 7\n",
      "8 x 1 = 8\n",
      "9 x 1 = 9\n",
      "10 x 1 = 10\n",
      "11 x 1 = 11\n",
      "12 x 1 = 12\n"
     ]
    }
   ],
   "source": [
    "highest_table = int(input(\"What table do you want to generate?\"))\n",
    "\n",
    "\n",
    "for x in range (1, highest_table + 1):\n",
    "    print ('\\nTimes table for', x)\n",
    "    for i in range(1,13):\n",
    "        print(i, 'x', x, '=', i * x)"
   ]
  },
  {
   "cell_type": "code",
   "execution_count": 43,
   "metadata": {},
   "outputs": [
    {
     "name": "stdout",
     "output_type": "stream",
     "text": [
      "1\n",
      "2\n",
      "3\n",
      "4\n",
      "5\n",
      "6\n",
      "7\n",
      "8\n",
      "9\n",
      "10\n"
     ]
    }
   ],
   "source": [
    "count = 1\n",
    "while count <= 10:\n",
    "    print(count)\n",
    "    count +=1"
   ]
  },
  {
   "cell_type": "code",
   "execution_count": 2,
   "metadata": {},
   "outputs": [
    {
     "name": "stdout",
     "output_type": "stream",
     "text": [
      "Access granted.\n"
     ]
    }
   ],
   "source": [
    "entry = ''\n",
    "password = 'letmein'\n",
    "\n",
    "while entry != password:\n",
    "    entry = input('Please enter your password:')\n",
    "    print('Access granted.')\n",
    "    \n"
   ]
  },
  {
   "cell_type": "code",
   "execution_count": 2,
   "metadata": {},
   "outputs": [
    {
     "name": "stdout",
     "output_type": "stream",
     "text": [
      "Wrong!\n",
      "Wrong!\n",
      "Wrong!\n",
      "Wrong!\n",
      "Correct\n"
     ]
    }
   ],
   "source": [
    "while True:\n",
    "    guess = input('Guess my name')\n",
    "    if guess == 'Rumpelstltskin':\n",
    "        print('Correct')\n",
    "        break\n",
    "    print('Wrong!')\n",
    "    continue"
   ]
  },
  {
   "cell_type": "code",
   "execution_count": 5,
   "metadata": {},
   "outputs": [
    {
     "ename": "IndentationError",
     "evalue": "expected an indented block after 'if' statement on line 5 (2561996713.py, line 6)",
     "output_type": "error",
     "traceback": [
      "\u001b[1;36m  Cell \u001b[1;32mIn[5], line 6\u001b[1;36m\u001b[0m\n\u001b[1;33m    print(totals)\u001b[0m\n\u001b[1;37m                 ^\u001b[0m\n\u001b[1;31mIndentationError\u001b[0m\u001b[1;31m:\u001b[0m expected an indented block after 'if' statement on line 5\n"
     ]
    }
   ],
   "source": [
    "number = int(input('Pick a number to add: '))\n",
    "totals = int()\n",
    "\n",
    "while number !=0:\n",
    "    if number == 0:\n",
    "        print(totals)\n",
    "        break\n",
    "\n"
   ]
  },
  {
   "cell_type": "code",
   "execution_count": 4,
   "metadata": {},
   "outputs": [
    {
     "name": "stdout",
     "output_type": "stream",
     "text": [
      "The total is:  34\n"
     ]
    }
   ],
   "source": [
    "total = 0 \n",
    "\n",
    "while True:\n",
    "    number = int(input('Enter a number'))\n",
    "\n",
    "    if number == 0:\n",
    "        break\n",
    "\n",
    "\n",
    "    total =+ number \n",
    "    \n",
    "\n",
    "print(\"The total is: \", total)\n",
    "\n"
   ]
  }
 ],
 "metadata": {
  "kernelspec": {
   "display_name": "Python 3",
   "language": "python",
   "name": "python3"
  },
  "language_info": {
   "codemirror_mode": {
    "name": "ipython",
    "version": 3
   },
   "file_extension": ".py",
   "mimetype": "text/x-python",
   "name": "python",
   "nbconvert_exporter": "python",
   "pygments_lexer": "ipython3",
   "version": "3.10.6"
  }
 },
 "nbformat": 4,
 "nbformat_minor": 2
}
