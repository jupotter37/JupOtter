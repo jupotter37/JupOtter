{
 "cells": [
  {
   "cell_type": "markdown",
   "id": "4e96153a",
   "metadata": {},
   "source": [
    "# Python Assignment - 3\n",
    "### Carries - 30 marks"
   ]
  },
  {
   "cell_type": "markdown",
   "id": "b5bc6391",
   "metadata": {},
   "source": [
    "## What is File function in python? What is keywords to create and write file. "
   ]
  },
  {
   "cell_type": "markdown",
   "id": "48d7e41e",
   "metadata": {},
   "source": [
    "Python file object provides methods and attributes to access and manipulate files. Using file objects, we can read or write any files. Whenever we open a file to perform any operations on it, Python returns a file object. To create a file object in Python use the built-in functions, such as open() and os. popen()"
   ]
  },
  {
   "cell_type": "markdown",
   "id": "77e6fcc1",
   "metadata": {},
   "source": [
    "#### Create and write a  file"
   ]
  },
  {
   "cell_type": "code",
   "execution_count": 11,
   "id": "10cffab9",
   "metadata": {},
   "outputs": [],
   "source": [
    "with open('example.txt', 'w') as file:\n",
    "    file.write('Hello, World!')"
   ]
  },
  {
   "cell_type": "markdown",
   "id": "ee678cfd",
   "metadata": {},
   "source": [
    "## Write a Python program to read an entire text file. "
   ]
  },
  {
   "cell_type": "code",
   "execution_count": 8,
   "id": "cdf7ae1a",
   "metadata": {},
   "outputs": [
    {
     "name": "stdout",
     "output_type": "stream",
     "text": [
      "ram lakhan si jodi hamari\n"
     ]
    }
   ],
   "source": [
    "file_path = r\"C:\\Users\\Ashwin\\OneDrive\\Documents\\ram lakhan si jodi hamari.txt\"\n",
    "\n",
    "with open(file_path, 'r') as file:\n",
    "    file_content = file.read()\n",
    "print(file_content)\n"
   ]
  },
  {
   "cell_type": "markdown",
   "id": "dd46afa5",
   "metadata": {},
   "source": [
    "## Write a Python program to append text to a file and display the text."
   ]
  },
  {
   "cell_type": "code",
   "execution_count": 10,
   "id": "c80ebe1f",
   "metadata": {},
   "outputs": [
    {
     "name": "stdout",
     "output_type": "stream",
     "text": [
      "connect to file\n",
      "\n",
      "this text join in this file\n",
      "this text join in this file\n"
     ]
    }
   ],
   "source": [
    "file_path = r\"C:\\Users\\Ashwin\\OneDrive\\Documents\\example.txt\"\n",
    "text_to_append = \"this text join in this file\"\n",
    "with open(file_path, 'a', encoding='utf-8') as file:\n",
    "    file.write(\"\\n\" + text_to_append)\n",
    "with open(file_path, 'r', encoding='utf-8') as file:\n",
    "    file_content = file.read()\n",
    "    \n",
    "print(\"connect to file\")\n",
    "print(file_content)\n"
   ]
  },
  {
   "cell_type": "markdown",
   "id": "52316493",
   "metadata": {},
   "source": [
    "## Write a Python program to read first n lines of a file. "
   ]
  },
  {
   "cell_type": "code",
   "execution_count": 7,
   "id": "23617604",
   "metadata": {},
   "outputs": [
    {
     "name": "stdout",
     "output_type": "stream",
     "text": [
      "January,\n",
      "February,\n",
      "March,\n",
      "April,\n",
      "May,\n"
     ]
    }
   ],
   "source": [
    "def read_first_n_lines(file_path, n):\n",
    "    try:\n",
    "        with open(file_path, 'r') as file:\n",
    "            lines = file.readlines()\n",
    "            for i in range(min(n, len(lines))):\n",
    "                print(lines[i].strip())  \n",
    "    except FileNotFoundError:\n",
    "        print(f\"File '{file_path}' not found.\")\n",
    "    except Exception as e:\n",
    "        print(f\"An error occurred: {e}\") \n",
    "        \n",
    "# Example usage\n",
    "file_path = file_path = \"C:\\\\Users\\\\Ashwin\\\\OneDrive\\\\Documents\\\\months.txt\"\n",
    "n = 5 \n",
    "read_first_n_lines(file_path, n)"
   ]
  },
  {
   "cell_type": "markdown",
   "id": "45dba4dc",
   "metadata": {},
   "source": [
    "## Write a Python program to read last n lines of a file. "
   ]
  },
  {
   "cell_type": "code",
   "execution_count": 1,
   "id": "d36a72b0",
   "metadata": {},
   "outputs": [
    {
     "name": "stdout",
     "output_type": "stream",
     "text": [
      "Last 5 lines of the file:\n",
      "6. Reading books helps me relax and unwind.\n",
      "7. Nature has a way of calming the soul.\n",
      "8. I love spending time with my family and friends.\n",
      "9. Traveling to new places broadens my perspective.\n",
      "10. Gratitude can turn an ordinary day into a special one.\n",
      "\n"
     ]
    }
   ],
   "source": [
    "def read_last_n_lines(file_path, n):\n",
    "    try:\n",
    "        with open(file_path, 'r') as file:\n",
    "            lines = file.readlines()\n",
    "            last_n_lines = lines[-n:]\n",
    "            return last_n_lines\n",
    "    except FileNotFoundError:\n",
    "        return f\"File '{file_path}' not found.\"\n",
    "    except Exception as e:\n",
    "        return f\"An error occurred: {str(e)}\"\n",
    "\n",
    "# Example usage\n",
    "file_path = \"C:\\\\Users\\\\Ashwin\\\\OneDrive\\\\Documents\\\\1. Hello, how are you today.txt\"\n",
    "n = 5\n",
    "\n",
    "result = read_last_n_lines(file_path, n)\n",
    "if isinstance(result, str):\n",
    "    print(result)\n",
    "else:\n",
    "    print(f\"Last {n} lines of the file:\")\n",
    "    print(''.join(result))\n"
   ]
  },
  {
   "cell_type": "markdown",
   "id": "76a74d09",
   "metadata": {},
   "source": [
    "## Write a Python program to read a file line by line and store it into a list"
   ]
  },
  {
   "cell_type": "code",
   "execution_count": 2,
   "id": "3ea8e4e4",
   "metadata": {},
   "outputs": [
    {
     "name": "stdout",
     "output_type": "stream",
     "text": [
      "Last 5 lines of the file:\n",
      "6. Reading books helps me relax and unwind.\n",
      "7. Nature has a way of calming the soul.\n",
      "8. I love spending time with my family and friends.\n",
      "9. Traveling to new places broadens my perspective.\n",
      "10. Gratitude can turn an ordinary day into a special one.\n",
      "\n"
     ]
    }
   ],
   "source": [
    "def read_last_n_lines(file_path, n):\n",
    "    try:\n",
    "        with open(file_path, 'r') as file:\n",
    "            lines = file.readlines()\n",
    "            last_n_lines = lines[-n:]\n",
    "            return last_n_lines\n",
    "    except FileNotFoundError:\n",
    "        return f\"File '{file_path}' not found.\"\n",
    "    except Exception as e:\n",
    "        return f\"An error occurred: {str(e)}\"\n",
    "\n",
    "file_path = \"C:\\\\Users\\\\Ashwin\\\\OneDrive\\\\Documents\\\\1. Hello, how are you today.txt\"\n",
    "n = 5\n",
    "\n",
    "result = read_last_n_lines(file_path, n)\n",
    "if isinstance(result, str):\n",
    "    print(result)\n",
    "else:\n",
    "    print(f\"Last {n} lines of the file:\")\n",
    "    print(''.join(result))\n"
   ]
  },
  {
   "cell_type": "markdown",
   "id": "589e624c",
   "metadata": {},
   "source": [
    "## Write a Python program to read a file line by line store it into a variable."
   ]
  },
  {
   "cell_type": "code",
   "execution_count": 4,
   "id": "9a6f1553",
   "metadata": {},
   "outputs": [
    {
     "name": "stdout",
     "output_type": "stream",
     "text": [
      "Lines read from the file and stored in a list:\n",
      "['1. Hello, how are you today?\\n', '2. The sun is shining brightly in the sky.\\n', '3. I enjoy taking long walks in the park.\\n', '4. Learning new things is always exciting.\\n', '5. Coffee is my favorite morning beverage.\\n', '6. Reading books helps me relax and unwind.\\n', '7. Nature has a way of calming the soul.\\n', '8. I love spending time with my family and friends.\\n', '9. Traveling to new places broadens my perspective.\\n', '10. Gratitude can turn an ordinary day into a special one.\\n']\n"
     ]
    }
   ],
   "source": [
    "def read_file_to_list(file_path):\n",
    "    try:\n",
    "        with open(file_path, 'r') as file:\n",
    "            lines = file.readlines()\n",
    "            return lines\n",
    "    except FileNotFoundError:\n",
    "        return f\"File '{file_path}' not found.\"\n",
    "    except Exception as e:\n",
    "        return f\"An error occurred: {str(e)}\"\n",
    "\n",
    "file_path = \"C:\\\\Users\\\\Ashwin\\\\OneDrive\\\\Documents\\\\1. Hello, how are you today.txt\"\n",
    "\n",
    "result = read_file_to_list(file_path)\n",
    "if isinstance(result, str):\n",
    "    print(result)\n",
    "else:\n",
    "    print(\"Lines read from the file and stored in a list:\")\n",
    "    print(result)\n",
    "\n"
   ]
  },
  {
   "cell_type": "markdown",
   "id": "c5a5e0a9",
   "metadata": {},
   "source": [
    "## Write a Python program to copy the contents of a file to another file. "
   ]
  },
  {
   "cell_type": "code",
   "execution_count": 5,
   "id": "d47a46fb",
   "metadata": {},
   "outputs": [
    {
     "name": "stdout",
     "output_type": "stream",
     "text": [
      "File 'C:\\\\Users\\\\Ashwin\\\\OneDrive\\\\Documents\\\\1. Hello, how are you today.txt' copied to 'destination.txt' successfully.\n"
     ]
    }
   ],
   "source": [
    "import shutil\n",
    "\n",
    "source_file = r\"C:\\\\Users\\\\Ashwin\\\\OneDrive\\\\Documents\\\\1. Hello, how are you today.txt\"\n",
    "destination_file = \"destination.txt\"\n",
    "\n",
    "try:\n",
    "    shutil.copy(source_file, destination_file)\n",
    "    print(f\"File '{source_file}' copied to '{destination_file}' successfully.\")\n",
    "except FileNotFoundError:\n",
    "    print(f\"Source file '{source_file}' not found.\")\n",
    "except Exception as e:\n",
    "    print(f\"An error occurred: {str(e)}\")\n",
    "\n",
    "\n"
   ]
  },
  {
   "cell_type": "markdown",
   "id": "056551f3",
   "metadata": {},
   "source": [
    "## Write python program that user to enter only odd numbers, else will raise an exception"
   ]
  },
  {
   "cell_type": "code",
   "execution_count": 6,
   "id": "e2ef3212",
   "metadata": {},
   "outputs": [
    {
     "name": "stdout",
     "output_type": "stream",
     "text": [
      "Enter an odd number: 13\n",
      "Thanks! You entered an odd number.\n"
     ]
    }
   ],
   "source": [
    "while True:\n",
    "    try:\n",
    "        user_input = int(input(\"Enter an odd number: \"))\n",
    "        if user_input % 2 != 0:\n",
    "            print(\"Thanks! You entered an odd number.\")\n",
    "            break\n",
    "        else:\n",
    "            raise ValueError(\"Error: Even number entered. Please enter an odd number.\")\n",
    "    except ValueError as e:\n",
    "        print(e)\n"
   ]
  },
  {
   "cell_type": "markdown",
   "id": "165279e1",
   "metadata": {},
   "source": [
    "## Can one block of except statements handle multiple exception?"
   ]
  },
  {
   "cell_type": "code",
   "execution_count": 8,
   "id": "9cc304cc",
   "metadata": {},
   "outputs": [
    {
     "name": "stdout",
     "output_type": "stream",
     "text": [
      "Enter an odd number: 2\n",
      "Error: Even number entered. Please enter an odd number.\n",
      "Enter an odd number: 3\n",
      "Thanks! You entered an odd number.\n"
     ]
    }
   ],
   "source": [
    "while True:\n",
    "    try:\n",
    "        user_input = int(input(\"Enter an odd number: \"))\n",
    "        if user_input % 2 != 0:\n",
    "            print(\"Thanks! You entered an odd number.\")\n",
    "            break\n",
    "        else:\n",
    "            raise ValueError(\"Error: Even number entered. Please enter an odd number.\")\n",
    "    except ValueError as e:\n",
    "        print(e)\n"
   ]
  },
  {
   "cell_type": "markdown",
   "id": "759b2c5f",
   "metadata": {},
   "source": [
    "## Explain Exception handling? What is an Error in Python?"
   ]
  },
  {
   "cell_type": "markdown",
   "id": "12e8b07e",
   "metadata": {},
   "source": [
    "Exception handling is a mechanism in programming that allows developers to handle unexpected or exceptional situations that can occur during the execution of a program. These exceptional situations, also known as exceptions, can include errors, invalid input, file not found, network issues, and other unexpected events. By handling exceptions, programmers can gracefully manage these situations and prevent the program from crashing. In Python, exceptions are objects that represent errors. When an error occurs during the execution of a program, Python raises an exception. Exceptions can be raised explicitly by the programmer or implicitly by the Python interpreter when it encounters an error."
   ]
  },
  {
   "cell_type": "code",
   "execution_count": 9,
   "id": "1c434d62",
   "metadata": {},
   "outputs": [
    {
     "ename": "IndentationError",
     "evalue": "expected an indented block after function definition on line 1 (3485305679.py, line 2)",
     "output_type": "error",
     "traceback": [
      "\u001b[1;36m  Cell \u001b[1;32mIn[9], line 2\u001b[1;36m\u001b[0m\n\u001b[1;33m    print(\"Indented incorrectly!\")\u001b[0m\n\u001b[1;37m    ^\u001b[0m\n\u001b[1;31mIndentationError\u001b[0m\u001b[1;31m:\u001b[0m expected an indented block after function definition on line 1\n"
     ]
    }
   ],
   "source": [
    "def example_function():\n",
    "print(\"Indented incorrectly!\")\n"
   ]
  },
  {
   "cell_type": "markdown",
   "id": "503ae851",
   "metadata": {},
   "source": [
    "## Write a Python program to count the number of lines in a text file. "
   ]
  },
  {
   "cell_type": "code",
   "execution_count": 10,
   "id": "9b708d8d",
   "metadata": {},
   "outputs": [
    {
     "name": "stdout",
     "output_type": "stream",
     "text": [
      "Number of lines in the file: 10\n"
     ]
    }
   ],
   "source": [
    "file_path = \"C:\\\\Users\\\\Ashwin\\\\OneDrive\\\\Documents\\\\1. Hello, how are you today.txt\"\n",
    "try:\n",
    "    with open(file_path, 'r') as file:\n",
    "        line_count = sum(1 for line in file)\n",
    "        print(\"Number of lines in the file:\", line_count)\n",
    "except FileNotFoundError:\n",
    "    print(\"Error: File not found.\")\n",
    "except Exception as e:\n",
    "    print(\"An error occurred:\", e)\n"
   ]
  },
  {
   "cell_type": "markdown",
   "id": "7dd706b2",
   "metadata": {},
   "source": [
    "## Write a Python program to write a list to a file. "
   ]
  },
  {
   "cell_type": "code",
   "execution_count": 14,
   "id": "ab86375f",
   "metadata": {},
   "outputs": [
    {
     "name": "stdout",
     "output_type": "stream",
     "text": [
      "The list has been written to 'C:\\Users\\Ashwin\\OneDrive\\Documents\\months.txt' successfully.\n"
     ]
    }
   ],
   "source": [
    "def write_list_to_file(filename, input_list):\n",
    "    try:\n",
    "        with open(filename, 'w') as file:\n",
    "            for item in input_list:\n",
    "                file.write(str(item) + '\\n')\n",
    "\n",
    "        print(f\"The list has been written to '{filename}' successfully.\")\n",
    "    except Exception as e:\n",
    "        print(f\"An error occurred: {str(e)}\")\n",
    "\n",
    "file_name = \"C:\\\\Users\\\\Ashwin\\\\OneDrive\\\\Documents\\\\months.txt\"\n",
    "my_list = [\"apple\", \"banana\", \"cherry\", \"date\", \"elderberry\"]\n",
    "\n",
    "write_list_to_file(file_name, my_list)\n"
   ]
  },
  {
   "cell_type": "markdown",
   "id": "452eb320",
   "metadata": {},
   "source": [
    "# Explain Inheritance in Python with an example?What is init? Or What Is A Constructor In Python? \n",
    "\n"
   ]
  },
  {
   "cell_type": "markdown",
   "id": "92a004fb",
   "metadata": {},
   "source": [
    "Inheritance is a fundamental feature of object-oriented programming that allows you to create a new class based on an existing class. The new class, known as the subclass or derived class, inherits attributes and behaviors (methods) from the existing class, called the parent class or base class. Inheritance promotes code reusability and allows you to create a specialized version of an existing class without modifying the original class.\n",
    "\n"
   ]
  },
  {
   "cell_type": "code",
   "execution_count": 15,
   "id": "92ec8431",
   "metadata": {},
   "outputs": [
    {
     "name": "stdout",
     "output_type": "stream",
     "text": [
      "Buddy says: Woof!\n",
      "Whiskers says: Meow!\n"
     ]
    }
   ],
   "source": [
    "class Animal:\n",
    "    def __init__(self, name):\n",
    "        self.name = name\n",
    "\n",
    "    def speak(self):\n",
    "        pass\n",
    "\n",
    "class Dog(Animal):\n",
    "    def speak(self):\n",
    "        return \"Woof!\"\n",
    "\n",
    "class Cat(Animal):\n",
    "    def speak(self):\n",
    "        return \"Meow!\"\n",
    "\n",
    "dog = Dog(\"Buddy\")\n",
    "cat = Cat(\"Whiskers\")\n",
    "\n",
    "print(dog.name + \" says: \" + dog.speak())\n",
    "print(cat.name + \" says: \" + cat.speak())\n"
   ]
  },
  {
   "cell_type": "markdown",
   "id": "a498a822",
   "metadata": {},
   "source": [
    "# Write a python program to find the longest words."
   ]
  },
  {
   "cell_type": "code",
   "execution_count": 17,
   "id": "efbdc1ae",
   "metadata": {},
   "outputs": [
    {
     "name": "stdout",
     "output_type": "stream",
     "text": [
      "Supercalifragilisticexpialidocious is a long word that means fantastic or extraordinary.supercalifragilisticexpialidocious\n",
      "Longest word(s): supercalifragilisticexpialidocious\n"
     ]
    }
   ],
   "source": [
    "def find_longest_words(text):\n",
    "    words = text.split()\n",
    "    max_length = len(max(words, key=len))\n",
    "    longest_words = [word for word in words if len(word) == max_length]\n",
    "    return longest_words\n",
    "\n",
    "input_text = input(\"Supercalifragilisticexpialidocious is a long word that means fantastic or extraordinary.\")\n",
    "\n",
    "longest_words = find_longest_words(input_text)\n",
    "\n",
    "if longest_words:\n",
    "    print(\"Longest word(s):\", \", \".join(longest_words))\n",
    "else:\n",
    "    print(\"No words in the input text.\")\n"
   ]
  },
  {
   "cell_type": "markdown",
   "id": "cbbc881b",
   "metadata": {},
   "source": [
    "# How to Define a Class in Python? What Is Self? Give An Example Of A Python Class\n",
    ".\n"
   ]
  },
  {
   "cell_type": "code",
   "execution_count": 18,
   "id": "2576eaf5",
   "metadata": {},
   "outputs": [
    {
     "name": "stdout",
     "output_type": "stream",
     "text": [
      "Hello, my name is Alice and I am 30 years old.\n"
     ]
    }
   ],
   "source": [
    "class Person:\n",
    "    def __init__(self, name, age):\n",
    "        self.name = name\n",
    "        self.age = age\n",
    "\n",
    "    def greet(self):\n",
    "        print(f\"Hello, my name is {self.name} and I am {self.age} years old.\")\n",
    "\n",
    "person1 = Person(\"Alice\", 30)\n",
    "\n",
    "person1.greet()\n"
   ]
  },
  {
   "cell_type": "markdown",
   "id": "f856028b",
   "metadata": {},
   "source": [
    "# Write a Python class named Rectangle constructed by a length and width and a method which will compute the area of a rectangle"
   ]
  },
  {
   "cell_type": "code",
   "execution_count": 19,
   "id": "509ca5ef",
   "metadata": {},
   "outputs": [
    {
     "name": "stdout",
     "output_type": "stream",
     "text": [
      "Enter the length of the rectangle: 10\n",
      "Enter the width of the rectangle: 5\n",
      "The area of the rectangle is: 50.0\n"
     ]
    }
   ],
   "source": [
    "class Rectangle:\n",
    "    def __init__(self, length, width):\n",
    "        self.length = length\n",
    "        self.width = width\n",
    "\n",
    "    def compute_area(self):\n",
    "        area = self.length * self.width\n",
    "        return area\n",
    "\n",
    "length = float(input(\"Enter the length of the rectangle: \"))\n",
    "width = float(input(\"Enter the width of the rectangle: \"))\n",
    "\n",
    "rectangle = Rectangle(length, width)\n",
    "\n",
    "area = rectangle.compute_area()\n",
    "print(\"The area of the rectangle is:\", area)\n"
   ]
  },
  {
   "cell_type": "markdown",
   "id": "e627277a",
   "metadata": {},
   "source": [
    "## Explain Exception handling? What is an Error in Python? "
   ]
  },
  {
   "cell_type": "markdown",
   "id": "1decfe81",
   "metadata": {},
   "source": [
    "Exception handling in Python is a mechanism that allows you to handle runtime errors gracefully. When a Python program encounters an error during execution, it raises an exception. Exception handling provides a way to deal with these errors, prevent the program from crashing, and allow it to continue executing the remaining code or take appropriate actions based on the type of exception.\n",
    "\n"
   ]
  },
  {
   "cell_type": "code",
   "execution_count": 22,
   "id": "ede418ee",
   "metadata": {},
   "outputs": [
    {
     "ename": "SyntaxError",
     "evalue": "expected ':' (2329366252.py, line 1)",
     "output_type": "error",
     "traceback": [
      "\u001b[1;36m  Cell \u001b[1;32mIn[22], line 1\u001b[1;36m\u001b[0m\n\u001b[1;33m    if x > 10\u001b[0m\n\u001b[1;37m             ^\u001b[0m\n\u001b[1;31mSyntaxError\u001b[0m\u001b[1;31m:\u001b[0m expected ':'\n"
     ]
    }
   ],
   "source": [
    "if x > 10\n",
    "    print(\"x is greater than 10\")\n",
    "\n"
   ]
  },
  {
   "cell_type": "markdown",
   "id": "bed33f31",
   "metadata": {},
   "source": [
    "## How many except statements can a try-except block have? Name Some built-in exception classes: "
   ]
  },
  {
   "cell_type": "markdown",
   "id": "136d44de",
   "metadata": {},
   "source": [
    "In Python, a try-except block can have multiple except statements to handle different types of exceptions. There is no fixed limit to the number of except statements you can have in a try-except block. You can specify as many except blocks as needed to handle various types of exceptions that might occur in the corresponding try block.\n",
    "\n"
   ]
  },
  {
   "cell_type": "code",
   "execution_count": 23,
   "id": "6edb6674",
   "metadata": {},
   "outputs": [
    {
     "name": "stdout",
     "output_type": "stream",
     "text": [
      "Zero division error occurred.\n"
     ]
    }
   ],
   "source": [
    "try:\n",
    "    x = 10 / 0 \n",
    "    y = int(\"abc\")\n",
    "except ZeroDivisionError:\n",
    "    print(\"Zero division error occurred.\")\n",
    "except ValueError:\n",
    "    print(\"Value error occurred.\")\n",
    "except Exception as e:\n",
    "    print(f\"An error occurred: {e}\")"
   ]
  },
  {
   "cell_type": "markdown",
   "id": "d6183643",
   "metadata": {},
   "source": [
    "#### there are some built-in exception classes\n",
    "\n",
    "SyntaxError\n",
    "\n",
    "IndentationError:\n",
    "\n",
    "NameError:\n",
    "\n",
    "TypeError:\n",
    "\n",
    "ValueError:\n",
    "\n",
    "ZeroDivisionError: "
   ]
  },
  {
   "cell_type": "markdown",
   "id": "9d89a755",
   "metadata": {},
   "source": [
    "## Write python program that user to enter only odd numbers, else will raise an exception. "
   ]
  },
  {
   "cell_type": "code",
   "execution_count": 25,
   "id": "fb017904",
   "metadata": {},
   "outputs": [
    {
     "name": "stdout",
     "output_type": "stream",
     "text": [
      "Enter an odd number: 10\n",
      "Invalid input! Please enter an odd number.\n",
      "Enter an odd number: 15\n",
      "Valid odd number entered: 15\n"
     ]
    }
   ],
   "source": [
    "class InvalidOddNumberError(Exception):\n",
    "    pass\n",
    "\n",
    "def is_odd(number):\n",
    "    return number % 2 != 0\n",
    "\n",
    "while True:\n",
    "    try:\n",
    "        user_input = input(\"Enter an odd number: \")\n",
    "\n",
    "        number = int(user_input)\n",
    "\n",
    "        if is_odd(number):\n",
    "            print(\"Valid odd number entered:\", number)\n",
    "            break\n",
    "        else:\n",
    "            raise InvalidOddNumberError(\"Invalid input! Please enter an odd number.\")\n",
    "    except ValueError:\n",
    "        print(\"Invalid input! Please enter a valid integer.\")\n",
    "    except InvalidOddNumberError as e:\n",
    "        print(e)\n"
   ]
  },
  {
   "cell_type": "markdown",
   "id": "e8497bda",
   "metadata": {},
   "source": [
    "## Write a Python class named Circle constructed by a radius and two methods which will compute the area and the perimeter of a circle "
   ]
  },
  {
   "cell_type": "code",
   "execution_count": 26,
   "id": "2a6c509d",
   "metadata": {},
   "outputs": [
    {
     "name": "stdout",
     "output_type": "stream",
     "text": [
      "Enter the radius of the circle: 10\n",
      "Area of the circle: 314.1592653589793\n",
      "Perimeter (Circumference) of the circle: 62.83185307179586\n"
     ]
    }
   ],
   "source": [
    "import math\n",
    "\n",
    "class Circle:\n",
    "    def __init__(self, radius):\n",
    "        self.radius = radius\n",
    "\n",
    "    def compute_area(self):\n",
    "        area = math.pi * (self.radius ** 2)\n",
    "        return area\n",
    "\n",
    "    def compute_perimeter(self):\n",
    "        perimeter = 2 * math.pi * self.radius\n",
    "        return perimeter\n",
    "\n",
    "radius = float(input(\"Enter the radius of the circle: \"))\n",
    "\n",
    "circle = Circle(radius)\n",
    "\n",
    "area = circle.compute_area()\n",
    "perimeter = circle.compute_perimeter()\n",
    "\n",
    "print(\"Area of the circle:\", area)\n",
    "print(\"Perimeter (Circumference) of the circle:\", perimeter)\n"
   ]
  },
  {
   "cell_type": "markdown",
   "id": "fc384afd",
   "metadata": {},
   "source": [
    "## Explain Inheritance in Python with an example? What is init? Or What Is A Constructor In Python? "
   ]
  },
  {
   "cell_type": "markdown",
   "id": "808ff454",
   "metadata": {},
   "source": [
    "Inheritance is a fundamental concept in object-oriented programming where a new class (subclass or derived class) is created by inheriting properties and behaviors (attributes and methods) from an existing class (parent class or base class). Inheritance promotes code reusability and allows you to create specialized versions of existing classes without rewriting their code.\n",
    "\n"
   ]
  },
  {
   "cell_type": "code",
   "execution_count": 27,
   "id": "242666cb",
   "metadata": {},
   "outputs": [
    {
     "name": "stdout",
     "output_type": "stream",
     "text": [
      "Buddy says: Woof!\n",
      "Whiskers says: Meow!\n"
     ]
    }
   ],
   "source": [
    "class Animal:\n",
    "    def __init__(self, name):\n",
    "        self.name = name\n",
    "\n",
    "    def sound(self):\n",
    "        pass\n",
    "\n",
    "class Dog(Animal):\n",
    "    def sound(self):\n",
    "        return \"Woof!\"\n",
    "\n",
    "class Cat(Animal):\n",
    "    def sound(self):\n",
    "        return \"Meow!\"\n",
    "\n",
    "dog = Dog(\"Buddy\")\n",
    "cat = Cat(\"Whiskers\")\n",
    "\n",
    "print(dog.name + \" says: \" + dog.sound())\n",
    "print(cat.name + \" says: \" + cat.sound())\n"
   ]
  },
  {
   "cell_type": "markdown",
   "id": "3286b302",
   "metadata": {},
   "source": [
    "In Python, __init__ is a special method, also known as the constructor. It is automatically called when a new instance of a class is created. The __init__ method is used to initialize the attributes of the object. It allows you to set the initial state of the object by assigning values to its attributes.\n",
    "\n"
   ]
  },
  {
   "cell_type": "markdown",
   "id": "ca9350b1",
   "metadata": {},
   "source": [
    "## What is Instantiation in terms of OOP terminology?\n",
    "\n"
   ]
  },
  {
   "cell_type": "markdown",
   "id": "962b4271",
   "metadata": {},
   "source": [
    "In object-oriented programming (OOP) terminology, instantiation refers to the process of creating an instance (object) of a class. An instance is a specific realization of any object, created from a class by allocating memory and initializing the attributes defined within the class.\n",
    "\n",
    "When you create an instance of a class, you are essentially creating a unique object based on the blueprint provided by that class. Each instance of a class has its own set of attributes and methods, independent of other instances of the same class. These instances can hold different data and can perform actions based on the methods defined in the class."
   ]
  },
  {
   "cell_type": "code",
   "execution_count": null,
   "id": "59d11a69",
   "metadata": {},
   "outputs": [],
   "source": []
  }
 ],
 "metadata": {
  "kernelspec": {
   "display_name": "Python 3 (ipykernel)",
   "language": "python",
   "name": "python3"
  },
  "language_info": {
   "codemirror_mode": {
    "name": "ipython",
    "version": 3
   },
   "file_extension": ".py",
   "mimetype": "text/x-python",
   "name": "python",
   "nbconvert_exporter": "python",
   "pygments_lexer": "ipython3",
   "version": "3.11.4"
  },
  "vscode": {
   "interpreter": {
    "hash": "2043299c89c8cd0b4d1a6f5cf4529bd58e6a4e0fe3181a25e0d328c821cdc5c5"
   }
  }
 },
 "nbformat": 4,
 "nbformat_minor": 5
}
