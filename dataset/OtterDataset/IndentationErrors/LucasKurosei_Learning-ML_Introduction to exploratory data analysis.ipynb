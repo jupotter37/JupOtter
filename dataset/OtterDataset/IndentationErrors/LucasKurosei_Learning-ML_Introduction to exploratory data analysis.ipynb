{
 "metadata": {
  "kernelspec": {
   "language": "python",
   "display_name": "Python 3",
   "name": "python3"
  },
  "language_info": {
   "pygments_lexer": "ipython3",
   "nbconvert_exporter": "python",
   "version": "3.6.4",
   "file_extension": ".py",
   "codemirror_mode": {
    "name": "ipython",
    "version": 3
   },
   "name": "python",
   "mimetype": "text/x-python"
  }
 },
 "nbformat_minor": 4,
 "nbformat": 4,
 "cells": [
  {
   "cell_type": "markdown",
   "source": [
    "# Introduction to Exploritary Data Analysis\n",
    "Using Pandas!\n",
    "\n",
    "This notebook goes along with a tutorial that can be found on the [Medallion Data Science youtube channel](https://www.youtube.com/channel/UCxladMszXan-jfgzyeIMyvw). Click the link and subscribe for future tutorials."
   ],
   "metadata": {}
  },
  {
   "cell_type": "markdown",
   "source": [
    "# Step 0: Imports and Reading Data"
   ],
   "metadata": {}
  },
  {
   "cell_type": "code",
   "source": [
    "import pandas as pd\n",
    "import numpy as np\n",
    "import matplotlib.pylab as plt\n",
    "import seaborn as sbn\n",
    "plt.style.use('ggplot')"
   ],
   "metadata": {
    "_uuid": "8f2839f25d086af736a60e9eeb907d3b93b6e0e5",
    "_cell_guid": "b1076dfc-b9ad-4769-8c92-a6c4dae69d19",
    "execution": {
     "iopub.status.busy": "2021-12-31T18:56:46.353551Z",
     "iopub.execute_input": "2021-12-31T18:56:46.354085Z",
     "iopub.status.idle": "2021-12-31T18:56:46.358825Z",
     "shell.execute_reply.started": "2021-12-31T18:56:46.354032Z",
     "shell.execute_reply": "2021-12-31T18:56:46.358025Z"
    },
    "trusted": true,
    "ExecuteTime": {
     "end_time": "2023-10-18T12:40:07.488314200Z",
     "start_time": "2023-10-18T12:40:07.343096400Z"
    }
   },
   "execution_count": 3,
   "outputs": []
  },
  {
   "cell_type": "code",
   "source": [
    "train = pd.read_csv('data/titanic/train.csv')\n",
    "test = pd.read_csv('data/titanic/test.csv')"
   ],
   "metadata": {
    "execution": {
     "iopub.status.busy": "2021-12-31T18:56:46.639134Z",
     "iopub.execute_input": "2021-12-31T18:56:46.639719Z",
     "iopub.status.idle": "2021-12-31T18:56:46.667382Z",
     "shell.execute_reply.started": "2021-12-31T18:56:46.639684Z",
     "shell.execute_reply": "2021-12-31T18:56:46.666476Z"
    },
    "trusted": true,
    "ExecuteTime": {
     "end_time": "2023-10-18T12:40:07.626943100Z",
     "start_time": "2023-10-18T12:40:07.354633900Z"
    }
   },
   "execution_count": 4,
   "outputs": []
  },
  {
   "cell_type": "code",
   "execution_count": 5,
   "outputs": [
    {
     "name": "stdout",
     "output_type": "stream",
     "text": [
      "0.07571792602539062\n",
      "0.5475387573242188\n"
     ]
    }
   ],
   "source": [
    "import time\n",
    "df = pd.DataFrame()\n",
    "df['win'] = np.random.choice(['yes', 'no'], 1000000)\n",
    "start = time.time()\n",
    "df['first'] = df['win'] == 'yes'\n",
    "print(time.time()-start)\n",
    "start = time.time()\n",
    "df['second'] = df['win'].map({'yes':True, 'no':False})\n",
    "print(time.time()-start)"
   ],
   "metadata": {
    "collapsed": false,
    "ExecuteTime": {
     "end_time": "2023-10-18T12:40:08.573650200Z",
     "start_time": "2023-10-18T12:40:07.409525600Z"
    }
   }
  },
  {
   "cell_type": "markdown",
   "source": [
    "## Step 1: Data Understanding\n",
    "- Dataframe `shape`\n",
    "- `head` and `tail`\n",
    "- `dtypes`\n",
    "- `describe`\n"
   ],
   "metadata": {}
  },
  {
   "cell_type": "code",
   "source": [
    "print(train.shape, test.shape)"
   ],
   "metadata": {
    "execution": {
     "iopub.status.busy": "2021-12-31T18:56:47.269667Z",
     "iopub.execute_input": "2021-12-31T18:56:47.270011Z",
     "iopub.status.idle": "2021-12-31T18:56:47.276513Z",
     "shell.execute_reply.started": "2021-12-31T18:56:47.269977Z",
     "shell.execute_reply": "2021-12-31T18:56:47.275687Z"
    },
    "trusted": true,
    "ExecuteTime": {
     "end_time": "2023-10-18T12:40:08.574647400Z",
     "start_time": "2023-10-18T12:40:08.548335900Z"
    }
   },
   "execution_count": 6,
   "outputs": [
    {
     "name": "stdout",
     "output_type": "stream",
     "text": [
      "(891, 12) (418, 11)\n"
     ]
    }
   ]
  },
  {
   "cell_type": "code",
   "source": [
    "train.head(20)"
   ],
   "metadata": {
    "execution": {
     "iopub.status.busy": "2021-12-31T18:56:47.613142Z",
     "iopub.execute_input": "2021-12-31T18:56:47.613539Z",
     "iopub.status.idle": "2021-12-31T18:56:47.658922Z",
     "shell.execute_reply.started": "2021-12-31T18:56:47.613509Z",
     "shell.execute_reply": "2021-12-31T18:56:47.658309Z"
    },
    "trusted": true,
    "ExecuteTime": {
     "end_time": "2023-10-18T12:40:08.698592500Z",
     "start_time": "2023-10-18T12:40:08.554189300Z"
    }
   },
   "execution_count": 7,
   "outputs": [
    {
     "data": {
      "text/plain": "    PassengerId  Survived  Pclass  \\\n0             1         0       3   \n1             2         1       1   \n2             3         1       3   \n3             4         1       1   \n4             5         0       3   \n5             6         0       3   \n6             7         0       1   \n7             8         0       3   \n8             9         1       3   \n9            10         1       2   \n10           11         1       3   \n11           12         1       1   \n12           13         0       3   \n13           14         0       3   \n14           15         0       3   \n15           16         1       2   \n16           17         0       3   \n17           18         1       2   \n18           19         0       3   \n19           20         1       3   \n\n                                                 Name     Sex   Age  SibSp  \\\n0                             Braund, Mr. Owen Harris    male  22.0      1   \n1   Cumings, Mrs. John Bradley (Florence Briggs Th...  female  38.0      1   \n2                              Heikkinen, Miss. Laina  female  26.0      0   \n3        Futrelle, Mrs. Jacques Heath (Lily May Peel)  female  35.0      1   \n4                            Allen, Mr. William Henry    male  35.0      0   \n5                                    Moran, Mr. James    male   NaN      0   \n6                             McCarthy, Mr. Timothy J    male  54.0      0   \n7                      Palsson, Master. Gosta Leonard    male   2.0      3   \n8   Johnson, Mrs. Oscar W (Elisabeth Vilhelmina Berg)  female  27.0      0   \n9                 Nasser, Mrs. Nicholas (Adele Achem)  female  14.0      1   \n10                    Sandstrom, Miss. Marguerite Rut  female   4.0      1   \n11                           Bonnell, Miss. Elizabeth  female  58.0      0   \n12                     Saundercock, Mr. William Henry    male  20.0      0   \n13                        Andersson, Mr. Anders Johan    male  39.0      1   \n14               Vestrom, Miss. Hulda Amanda Adolfina  female  14.0      0   \n15                   Hewlett, Mrs. (Mary D Kingcome)   female  55.0      0   \n16                               Rice, Master. Eugene    male   2.0      4   \n17                       Williams, Mr. Charles Eugene    male   NaN      0   \n18  Vander Planke, Mrs. Julius (Emelia Maria Vande...  female  31.0      1   \n19                            Masselmani, Mrs. Fatima  female   NaN      0   \n\n    Parch            Ticket     Fare Cabin Embarked  \n0       0         A/5 21171   7.2500   NaN        S  \n1       0          PC 17599  71.2833   C85        C  \n2       0  STON/O2. 3101282   7.9250   NaN        S  \n3       0            113803  53.1000  C123        S  \n4       0            373450   8.0500   NaN        S  \n5       0            330877   8.4583   NaN        Q  \n6       0             17463  51.8625   E46        S  \n7       1            349909  21.0750   NaN        S  \n8       2            347742  11.1333   NaN        S  \n9       0            237736  30.0708   NaN        C  \n10      1           PP 9549  16.7000    G6        S  \n11      0            113783  26.5500  C103        S  \n12      0         A/5. 2151   8.0500   NaN        S  \n13      5            347082  31.2750   NaN        S  \n14      0            350406   7.8542   NaN        S  \n15      0            248706  16.0000   NaN        S  \n16      1            382652  29.1250   NaN        Q  \n17      0            244373  13.0000   NaN        S  \n18      0            345763  18.0000   NaN        S  \n19      0              2649   7.2250   NaN        C  ",
      "text/html": "<div>\n<style scoped>\n    .dataframe tbody tr th:only-of-type {\n        vertical-align: middle;\n    }\n\n    .dataframe tbody tr th {\n        vertical-align: top;\n    }\n\n    .dataframe thead th {\n        text-align: right;\n    }\n</style>\n<table border=\"1\" class=\"dataframe\">\n  <thead>\n    <tr style=\"text-align: right;\">\n      <th></th>\n      <th>PassengerId</th>\n      <th>Survived</th>\n      <th>Pclass</th>\n      <th>Name</th>\n      <th>Sex</th>\n      <th>Age</th>\n      <th>SibSp</th>\n      <th>Parch</th>\n      <th>Ticket</th>\n      <th>Fare</th>\n      <th>Cabin</th>\n      <th>Embarked</th>\n    </tr>\n  </thead>\n  <tbody>\n    <tr>\n      <th>0</th>\n      <td>1</td>\n      <td>0</td>\n      <td>3</td>\n      <td>Braund, Mr. Owen Harris</td>\n      <td>male</td>\n      <td>22.0</td>\n      <td>1</td>\n      <td>0</td>\n      <td>A/5 21171</td>\n      <td>7.2500</td>\n      <td>NaN</td>\n      <td>S</td>\n    </tr>\n    <tr>\n      <th>1</th>\n      <td>2</td>\n      <td>1</td>\n      <td>1</td>\n      <td>Cumings, Mrs. John Bradley (Florence Briggs Th...</td>\n      <td>female</td>\n      <td>38.0</td>\n      <td>1</td>\n      <td>0</td>\n      <td>PC 17599</td>\n      <td>71.2833</td>\n      <td>C85</td>\n      <td>C</td>\n    </tr>\n    <tr>\n      <th>2</th>\n      <td>3</td>\n      <td>1</td>\n      <td>3</td>\n      <td>Heikkinen, Miss. Laina</td>\n      <td>female</td>\n      <td>26.0</td>\n      <td>0</td>\n      <td>0</td>\n      <td>STON/O2. 3101282</td>\n      <td>7.9250</td>\n      <td>NaN</td>\n      <td>S</td>\n    </tr>\n    <tr>\n      <th>3</th>\n      <td>4</td>\n      <td>1</td>\n      <td>1</td>\n      <td>Futrelle, Mrs. Jacques Heath (Lily May Peel)</td>\n      <td>female</td>\n      <td>35.0</td>\n      <td>1</td>\n      <td>0</td>\n      <td>113803</td>\n      <td>53.1000</td>\n      <td>C123</td>\n      <td>S</td>\n    </tr>\n    <tr>\n      <th>4</th>\n      <td>5</td>\n      <td>0</td>\n      <td>3</td>\n      <td>Allen, Mr. William Henry</td>\n      <td>male</td>\n      <td>35.0</td>\n      <td>0</td>\n      <td>0</td>\n      <td>373450</td>\n      <td>8.0500</td>\n      <td>NaN</td>\n      <td>S</td>\n    </tr>\n    <tr>\n      <th>5</th>\n      <td>6</td>\n      <td>0</td>\n      <td>3</td>\n      <td>Moran, Mr. James</td>\n      <td>male</td>\n      <td>NaN</td>\n      <td>0</td>\n      <td>0</td>\n      <td>330877</td>\n      <td>8.4583</td>\n      <td>NaN</td>\n      <td>Q</td>\n    </tr>\n    <tr>\n      <th>6</th>\n      <td>7</td>\n      <td>0</td>\n      <td>1</td>\n      <td>McCarthy, Mr. Timothy J</td>\n      <td>male</td>\n      <td>54.0</td>\n      <td>0</td>\n      <td>0</td>\n      <td>17463</td>\n      <td>51.8625</td>\n      <td>E46</td>\n      <td>S</td>\n    </tr>\n    <tr>\n      <th>7</th>\n      <td>8</td>\n      <td>0</td>\n      <td>3</td>\n      <td>Palsson, Master. Gosta Leonard</td>\n      <td>male</td>\n      <td>2.0</td>\n      <td>3</td>\n      <td>1</td>\n      <td>349909</td>\n      <td>21.0750</td>\n      <td>NaN</td>\n      <td>S</td>\n    </tr>\n    <tr>\n      <th>8</th>\n      <td>9</td>\n      <td>1</td>\n      <td>3</td>\n      <td>Johnson, Mrs. Oscar W (Elisabeth Vilhelmina Berg)</td>\n      <td>female</td>\n      <td>27.0</td>\n      <td>0</td>\n      <td>2</td>\n      <td>347742</td>\n      <td>11.1333</td>\n      <td>NaN</td>\n      <td>S</td>\n    </tr>\n    <tr>\n      <th>9</th>\n      <td>10</td>\n      <td>1</td>\n      <td>2</td>\n      <td>Nasser, Mrs. Nicholas (Adele Achem)</td>\n      <td>female</td>\n      <td>14.0</td>\n      <td>1</td>\n      <td>0</td>\n      <td>237736</td>\n      <td>30.0708</td>\n      <td>NaN</td>\n      <td>C</td>\n    </tr>\n    <tr>\n      <th>10</th>\n      <td>11</td>\n      <td>1</td>\n      <td>3</td>\n      <td>Sandstrom, Miss. Marguerite Rut</td>\n      <td>female</td>\n      <td>4.0</td>\n      <td>1</td>\n      <td>1</td>\n      <td>PP 9549</td>\n      <td>16.7000</td>\n      <td>G6</td>\n      <td>S</td>\n    </tr>\n    <tr>\n      <th>11</th>\n      <td>12</td>\n      <td>1</td>\n      <td>1</td>\n      <td>Bonnell, Miss. Elizabeth</td>\n      <td>female</td>\n      <td>58.0</td>\n      <td>0</td>\n      <td>0</td>\n      <td>113783</td>\n      <td>26.5500</td>\n      <td>C103</td>\n      <td>S</td>\n    </tr>\n    <tr>\n      <th>12</th>\n      <td>13</td>\n      <td>0</td>\n      <td>3</td>\n      <td>Saundercock, Mr. William Henry</td>\n      <td>male</td>\n      <td>20.0</td>\n      <td>0</td>\n      <td>0</td>\n      <td>A/5. 2151</td>\n      <td>8.0500</td>\n      <td>NaN</td>\n      <td>S</td>\n    </tr>\n    <tr>\n      <th>13</th>\n      <td>14</td>\n      <td>0</td>\n      <td>3</td>\n      <td>Andersson, Mr. Anders Johan</td>\n      <td>male</td>\n      <td>39.0</td>\n      <td>1</td>\n      <td>5</td>\n      <td>347082</td>\n      <td>31.2750</td>\n      <td>NaN</td>\n      <td>S</td>\n    </tr>\n    <tr>\n      <th>14</th>\n      <td>15</td>\n      <td>0</td>\n      <td>3</td>\n      <td>Vestrom, Miss. Hulda Amanda Adolfina</td>\n      <td>female</td>\n      <td>14.0</td>\n      <td>0</td>\n      <td>0</td>\n      <td>350406</td>\n      <td>7.8542</td>\n      <td>NaN</td>\n      <td>S</td>\n    </tr>\n    <tr>\n      <th>15</th>\n      <td>16</td>\n      <td>1</td>\n      <td>2</td>\n      <td>Hewlett, Mrs. (Mary D Kingcome)</td>\n      <td>female</td>\n      <td>55.0</td>\n      <td>0</td>\n      <td>0</td>\n      <td>248706</td>\n      <td>16.0000</td>\n      <td>NaN</td>\n      <td>S</td>\n    </tr>\n    <tr>\n      <th>16</th>\n      <td>17</td>\n      <td>0</td>\n      <td>3</td>\n      <td>Rice, Master. Eugene</td>\n      <td>male</td>\n      <td>2.0</td>\n      <td>4</td>\n      <td>1</td>\n      <td>382652</td>\n      <td>29.1250</td>\n      <td>NaN</td>\n      <td>Q</td>\n    </tr>\n    <tr>\n      <th>17</th>\n      <td>18</td>\n      <td>1</td>\n      <td>2</td>\n      <td>Williams, Mr. Charles Eugene</td>\n      <td>male</td>\n      <td>NaN</td>\n      <td>0</td>\n      <td>0</td>\n      <td>244373</td>\n      <td>13.0000</td>\n      <td>NaN</td>\n      <td>S</td>\n    </tr>\n    <tr>\n      <th>18</th>\n      <td>19</td>\n      <td>0</td>\n      <td>3</td>\n      <td>Vander Planke, Mrs. Julius (Emelia Maria Vande...</td>\n      <td>female</td>\n      <td>31.0</td>\n      <td>1</td>\n      <td>0</td>\n      <td>345763</td>\n      <td>18.0000</td>\n      <td>NaN</td>\n      <td>S</td>\n    </tr>\n    <tr>\n      <th>19</th>\n      <td>20</td>\n      <td>1</td>\n      <td>3</td>\n      <td>Masselmani, Mrs. Fatima</td>\n      <td>female</td>\n      <td>NaN</td>\n      <td>0</td>\n      <td>0</td>\n      <td>2649</td>\n      <td>7.2250</td>\n      <td>NaN</td>\n      <td>C</td>\n    </tr>\n  </tbody>\n</table>\n</div>"
     },
     "execution_count": 7,
     "metadata": {},
     "output_type": "execute_result"
    }
   ]
  },
  {
   "cell_type": "code",
   "source": [
    "train.describe()"
   ],
   "metadata": {
    "execution": {
     "iopub.status.busy": "2021-12-31T18:56:48.647734Z",
     "iopub.execute_input": "2021-12-31T18:56:48.648041Z",
     "iopub.status.idle": "2021-12-31T18:56:48.687364Z",
     "shell.execute_reply.started": "2021-12-31T18:56:48.648007Z",
     "shell.execute_reply": "2021-12-31T18:56:48.686367Z"
    },
    "trusted": true,
    "ExecuteTime": {
     "end_time": "2023-10-18T12:40:08.729029300Z",
     "start_time": "2023-10-18T12:40:08.606645300Z"
    }
   },
   "execution_count": 8,
   "outputs": [
    {
     "data": {
      "text/plain": "       PassengerId    Survived      Pclass         Age       SibSp  \\\ncount   891.000000  891.000000  891.000000  714.000000  891.000000   \nmean    446.000000    0.383838    2.308642   29.699118    0.523008   \nstd     257.353842    0.486592    0.836071   14.526497    1.102743   \nmin       1.000000    0.000000    1.000000    0.420000    0.000000   \n25%     223.500000    0.000000    2.000000   20.125000    0.000000   \n50%     446.000000    0.000000    3.000000   28.000000    0.000000   \n75%     668.500000    1.000000    3.000000   38.000000    1.000000   \nmax     891.000000    1.000000    3.000000   80.000000    8.000000   \n\n            Parch        Fare  \ncount  891.000000  891.000000  \nmean     0.381594   32.204208  \nstd      0.806057   49.693429  \nmin      0.000000    0.000000  \n25%      0.000000    7.910400  \n50%      0.000000   14.454200  \n75%      0.000000   31.000000  \nmax      6.000000  512.329200  ",
      "text/html": "<div>\n<style scoped>\n    .dataframe tbody tr th:only-of-type {\n        vertical-align: middle;\n    }\n\n    .dataframe tbody tr th {\n        vertical-align: top;\n    }\n\n    .dataframe thead th {\n        text-align: right;\n    }\n</style>\n<table border=\"1\" class=\"dataframe\">\n  <thead>\n    <tr style=\"text-align: right;\">\n      <th></th>\n      <th>PassengerId</th>\n      <th>Survived</th>\n      <th>Pclass</th>\n      <th>Age</th>\n      <th>SibSp</th>\n      <th>Parch</th>\n      <th>Fare</th>\n    </tr>\n  </thead>\n  <tbody>\n    <tr>\n      <th>count</th>\n      <td>891.000000</td>\n      <td>891.000000</td>\n      <td>891.000000</td>\n      <td>714.000000</td>\n      <td>891.000000</td>\n      <td>891.000000</td>\n      <td>891.000000</td>\n    </tr>\n    <tr>\n      <th>mean</th>\n      <td>446.000000</td>\n      <td>0.383838</td>\n      <td>2.308642</td>\n      <td>29.699118</td>\n      <td>0.523008</td>\n      <td>0.381594</td>\n      <td>32.204208</td>\n    </tr>\n    <tr>\n      <th>std</th>\n      <td>257.353842</td>\n      <td>0.486592</td>\n      <td>0.836071</td>\n      <td>14.526497</td>\n      <td>1.102743</td>\n      <td>0.806057</td>\n      <td>49.693429</td>\n    </tr>\n    <tr>\n      <th>min</th>\n      <td>1.000000</td>\n      <td>0.000000</td>\n      <td>1.000000</td>\n      <td>0.420000</td>\n      <td>0.000000</td>\n      <td>0.000000</td>\n      <td>0.000000</td>\n    </tr>\n    <tr>\n      <th>25%</th>\n      <td>223.500000</td>\n      <td>0.000000</td>\n      <td>2.000000</td>\n      <td>20.125000</td>\n      <td>0.000000</td>\n      <td>0.000000</td>\n      <td>7.910400</td>\n    </tr>\n    <tr>\n      <th>50%</th>\n      <td>446.000000</td>\n      <td>0.000000</td>\n      <td>3.000000</td>\n      <td>28.000000</td>\n      <td>0.000000</td>\n      <td>0.000000</td>\n      <td>14.454200</td>\n    </tr>\n    <tr>\n      <th>75%</th>\n      <td>668.500000</td>\n      <td>1.000000</td>\n      <td>3.000000</td>\n      <td>38.000000</td>\n      <td>1.000000</td>\n      <td>0.000000</td>\n      <td>31.000000</td>\n    </tr>\n    <tr>\n      <th>max</th>\n      <td>891.000000</td>\n      <td>1.000000</td>\n      <td>3.000000</td>\n      <td>80.000000</td>\n      <td>8.000000</td>\n      <td>6.000000</td>\n      <td>512.329200</td>\n    </tr>\n  </tbody>\n</table>\n</div>"
     },
     "execution_count": 8,
     "metadata": {},
     "output_type": "execute_result"
    }
   ]
  },
  {
   "cell_type": "markdown",
   "source": [
    "# Step 2: Data Preperation\n",
    "- Dropping irrelevant columns and rows\n",
    "- Identifying duplicated columns\n",
    "- Renaming Columns\n",
    "- Feature Creation"
   ],
   "metadata": {}
  },
  {
   "cell_type": "code",
   "execution_count": 9,
   "outputs": [
    {
     "name": "stdout",
     "output_type": "stream",
     "text": [
      "21.75 30.72664459161148\n"
     ]
    }
   ],
   "source": [
    "print(train[(train[\"Sex\"]=='female') & (train[\"Pclass\"]==3)][\"Age\"].mean(), train[train[\"Sex\"]=='male'][\"Age\"].mean())"
   ],
   "metadata": {
    "collapsed": false,
    "ExecuteTime": {
     "end_time": "2023-10-18T12:40:08.730557500Z",
     "start_time": "2023-10-18T12:40:08.663623400Z"
    }
   }
  },
  {
   "cell_type": "code",
   "execution_count": 10,
   "outputs": [],
   "source": [
    "train['Title'] = train['Name'].str.extract(r'(\\w+\\.)')"
   ],
   "metadata": {
    "collapsed": false,
    "ExecuteTime": {
     "end_time": "2023-10-18T12:40:08.834065700Z",
     "start_time": "2023-10-18T12:40:08.691612800Z"
    }
   }
  },
  {
   "cell_type": "code",
   "execution_count": 11,
   "outputs": [
    {
     "data": {
      "text/plain": "array(['Mr.', 'Mrs.', 'Miss.', 'Master.', 'Don.', 'Rev.', 'Dr.', 'Mme.',\n       'Ms.', 'Major.', 'Lady.', 'Sir.', 'Mlle.', 'Col.', 'Capt.',\n       'Countess.', 'Jonkheer.'], dtype=object)"
     },
     "execution_count": 11,
     "metadata": {},
     "output_type": "execute_result"
    }
   ],
   "source": [
    "train['Title'].unique()"
   ],
   "metadata": {
    "collapsed": false,
    "ExecuteTime": {
     "end_time": "2023-10-18T12:40:08.856006900Z",
     "start_time": "2023-10-18T12:40:08.723044200Z"
    }
   }
  },
  {
   "cell_type": "code",
   "execution_count": 12,
   "outputs": [
    {
     "data": {
      "text/plain": "     PassengerId  Survived  Pclass  \\\n27            28         0       1   \n75            76         0       3   \n88            89         1       1   \n97            98         1       1   \n118          119         0       1   \n128          129         1       3   \n297          298         0       1   \n299          300         1       1   \n305          306         1       1   \n311          312         1       1   \n341          342         1       1   \n390          391         1       1   \n435          436         1       1   \n438          439         0       1   \n498          499         0       1   \n679          680         1       1   \n699          700         0       3   \n700          701         1       1   \n715          716         0       3   \n742          743         1       1   \n763          764         1       1   \n789          790         0       1   \n802          803         1       1   \n872          873         0       1   \n\n                                                  Name     Sex    Age  SibSp  \\\n27                      Fortune, Mr. Charles Alexander    male  19.00      3   \n75                             Moen, Mr. Sigurd Hansen    male  25.00      0   \n88                          Fortune, Miss. Mabel Helen  female  23.00      3   \n97                     Greenfield, Mr. William Bertram    male  23.00      0   \n118                           Baxter, Mr. Quigg Edmond    male  24.00      0   \n128                                  Peter, Miss. Anna  female    NaN      1   \n297                       Allison, Miss. Helen Loraine  female   2.00      1   \n299    Baxter, Mrs. James (Helene DeLaudeniere Chaput)  female  50.00      0   \n305                     Allison, Master. Hudson Trevor    male   0.92      1   \n311                         Ryerson, Miss. Emily Borie  female  18.00      2   \n341                     Fortune, Miss. Alice Elizabeth  female  24.00      3   \n390                         Carter, Mr. William Ernest    male  36.00      1   \n435                          Carter, Miss. Lucile Polk  female  14.00      1   \n438                                  Fortune, Mr. Mark    male  64.00      1   \n498    Allison, Mrs. Hudson J C (Bessie Waldo Daniels)  female  25.00      1   \n679                 Cardeza, Mr. Thomas Drake Martinez    male  36.00      0   \n699           Humblen, Mr. Adolf Mathias Nicolai Olsen    male  42.00      0   \n700  Astor, Mrs. John Jacob (Madeleine Talmadge Force)  female  18.00      1   \n715         Soholt, Mr. Peter Andreas Lauritz Andersen    male  19.00      0   \n742              Ryerson, Miss. Susan Parker \"Suzette\"  female  21.00      2   \n763          Carter, Mrs. William Ernest (Lucile Polk)  female  36.00      1   \n789                           Guggenheim, Mr. Benjamin    male  46.00      0   \n802                Carter, Master. William Thornton II    male  11.00      1   \n872                           Carlsson, Mr. Frans Olof    male  33.00      0   \n\n     Parch    Ticket      Fare            Cabin Embarked    Title  \n27       2     19950  263.0000      C23 C25 C27        S      Mr.  \n75       0    348123    7.6500            F G73        S      Mr.  \n88       2     19950  263.0000      C23 C25 C27        S    Miss.  \n97       1  PC 17759   63.3583          D10 D12        C      Mr.  \n118      1  PC 17558  247.5208          B58 B60        C      Mr.  \n128      1      2668   22.3583            F E69        C    Miss.  \n297      2    113781  151.5500          C22 C26        S    Miss.  \n299      1  PC 17558  247.5208          B58 B60        C     Mrs.  \n305      2    113781  151.5500          C22 C26        S  Master.  \n311      2  PC 17608  262.3750  B57 B59 B63 B66        C    Miss.  \n341      2     19950  263.0000      C23 C25 C27        S    Miss.  \n390      2    113760  120.0000          B96 B98        S      Mr.  \n435      2    113760  120.0000          B96 B98        S    Miss.  \n438      4     19950  263.0000      C23 C25 C27        S      Mr.  \n498      2    113781  151.5500          C22 C26        S     Mrs.  \n679      1  PC 17755  512.3292      B51 B53 B55        C      Mr.  \n699      0    348121    7.6500            F G63        S      Mr.  \n700      0  PC 17757  227.5250          C62 C64        C     Mrs.  \n715      0    348124    7.6500            F G73        S      Mr.  \n742      2  PC 17608  262.3750  B57 B59 B63 B66        C    Miss.  \n763      2    113760  120.0000          B96 B98        S     Mrs.  \n789      0  PC 17593   79.2000          B82 B84        C      Mr.  \n802      2    113760  120.0000          B96 B98        S  Master.  \n872      0       695    5.0000      B51 B53 B55        S      Mr.  ",
      "text/html": "<div>\n<style scoped>\n    .dataframe tbody tr th:only-of-type {\n        vertical-align: middle;\n    }\n\n    .dataframe tbody tr th {\n        vertical-align: top;\n    }\n\n    .dataframe thead th {\n        text-align: right;\n    }\n</style>\n<table border=\"1\" class=\"dataframe\">\n  <thead>\n    <tr style=\"text-align: right;\">\n      <th></th>\n      <th>PassengerId</th>\n      <th>Survived</th>\n      <th>Pclass</th>\n      <th>Name</th>\n      <th>Sex</th>\n      <th>Age</th>\n      <th>SibSp</th>\n      <th>Parch</th>\n      <th>Ticket</th>\n      <th>Fare</th>\n      <th>Cabin</th>\n      <th>Embarked</th>\n      <th>Title</th>\n    </tr>\n  </thead>\n  <tbody>\n    <tr>\n      <th>27</th>\n      <td>28</td>\n      <td>0</td>\n      <td>1</td>\n      <td>Fortune, Mr. Charles Alexander</td>\n      <td>male</td>\n      <td>19.00</td>\n      <td>3</td>\n      <td>2</td>\n      <td>19950</td>\n      <td>263.0000</td>\n      <td>C23 C25 C27</td>\n      <td>S</td>\n      <td>Mr.</td>\n    </tr>\n    <tr>\n      <th>75</th>\n      <td>76</td>\n      <td>0</td>\n      <td>3</td>\n      <td>Moen, Mr. Sigurd Hansen</td>\n      <td>male</td>\n      <td>25.00</td>\n      <td>0</td>\n      <td>0</td>\n      <td>348123</td>\n      <td>7.6500</td>\n      <td>F G73</td>\n      <td>S</td>\n      <td>Mr.</td>\n    </tr>\n    <tr>\n      <th>88</th>\n      <td>89</td>\n      <td>1</td>\n      <td>1</td>\n      <td>Fortune, Miss. Mabel Helen</td>\n      <td>female</td>\n      <td>23.00</td>\n      <td>3</td>\n      <td>2</td>\n      <td>19950</td>\n      <td>263.0000</td>\n      <td>C23 C25 C27</td>\n      <td>S</td>\n      <td>Miss.</td>\n    </tr>\n    <tr>\n      <th>97</th>\n      <td>98</td>\n      <td>1</td>\n      <td>1</td>\n      <td>Greenfield, Mr. William Bertram</td>\n      <td>male</td>\n      <td>23.00</td>\n      <td>0</td>\n      <td>1</td>\n      <td>PC 17759</td>\n      <td>63.3583</td>\n      <td>D10 D12</td>\n      <td>C</td>\n      <td>Mr.</td>\n    </tr>\n    <tr>\n      <th>118</th>\n      <td>119</td>\n      <td>0</td>\n      <td>1</td>\n      <td>Baxter, Mr. Quigg Edmond</td>\n      <td>male</td>\n      <td>24.00</td>\n      <td>0</td>\n      <td>1</td>\n      <td>PC 17558</td>\n      <td>247.5208</td>\n      <td>B58 B60</td>\n      <td>C</td>\n      <td>Mr.</td>\n    </tr>\n    <tr>\n      <th>128</th>\n      <td>129</td>\n      <td>1</td>\n      <td>3</td>\n      <td>Peter, Miss. Anna</td>\n      <td>female</td>\n      <td>NaN</td>\n      <td>1</td>\n      <td>1</td>\n      <td>2668</td>\n      <td>22.3583</td>\n      <td>F E69</td>\n      <td>C</td>\n      <td>Miss.</td>\n    </tr>\n    <tr>\n      <th>297</th>\n      <td>298</td>\n      <td>0</td>\n      <td>1</td>\n      <td>Allison, Miss. Helen Loraine</td>\n      <td>female</td>\n      <td>2.00</td>\n      <td>1</td>\n      <td>2</td>\n      <td>113781</td>\n      <td>151.5500</td>\n      <td>C22 C26</td>\n      <td>S</td>\n      <td>Miss.</td>\n    </tr>\n    <tr>\n      <th>299</th>\n      <td>300</td>\n      <td>1</td>\n      <td>1</td>\n      <td>Baxter, Mrs. James (Helene DeLaudeniere Chaput)</td>\n      <td>female</td>\n      <td>50.00</td>\n      <td>0</td>\n      <td>1</td>\n      <td>PC 17558</td>\n      <td>247.5208</td>\n      <td>B58 B60</td>\n      <td>C</td>\n      <td>Mrs.</td>\n    </tr>\n    <tr>\n      <th>305</th>\n      <td>306</td>\n      <td>1</td>\n      <td>1</td>\n      <td>Allison, Master. Hudson Trevor</td>\n      <td>male</td>\n      <td>0.92</td>\n      <td>1</td>\n      <td>2</td>\n      <td>113781</td>\n      <td>151.5500</td>\n      <td>C22 C26</td>\n      <td>S</td>\n      <td>Master.</td>\n    </tr>\n    <tr>\n      <th>311</th>\n      <td>312</td>\n      <td>1</td>\n      <td>1</td>\n      <td>Ryerson, Miss. Emily Borie</td>\n      <td>female</td>\n      <td>18.00</td>\n      <td>2</td>\n      <td>2</td>\n      <td>PC 17608</td>\n      <td>262.3750</td>\n      <td>B57 B59 B63 B66</td>\n      <td>C</td>\n      <td>Miss.</td>\n    </tr>\n    <tr>\n      <th>341</th>\n      <td>342</td>\n      <td>1</td>\n      <td>1</td>\n      <td>Fortune, Miss. Alice Elizabeth</td>\n      <td>female</td>\n      <td>24.00</td>\n      <td>3</td>\n      <td>2</td>\n      <td>19950</td>\n      <td>263.0000</td>\n      <td>C23 C25 C27</td>\n      <td>S</td>\n      <td>Miss.</td>\n    </tr>\n    <tr>\n      <th>390</th>\n      <td>391</td>\n      <td>1</td>\n      <td>1</td>\n      <td>Carter, Mr. William Ernest</td>\n      <td>male</td>\n      <td>36.00</td>\n      <td>1</td>\n      <td>2</td>\n      <td>113760</td>\n      <td>120.0000</td>\n      <td>B96 B98</td>\n      <td>S</td>\n      <td>Mr.</td>\n    </tr>\n    <tr>\n      <th>435</th>\n      <td>436</td>\n      <td>1</td>\n      <td>1</td>\n      <td>Carter, Miss. Lucile Polk</td>\n      <td>female</td>\n      <td>14.00</td>\n      <td>1</td>\n      <td>2</td>\n      <td>113760</td>\n      <td>120.0000</td>\n      <td>B96 B98</td>\n      <td>S</td>\n      <td>Miss.</td>\n    </tr>\n    <tr>\n      <th>438</th>\n      <td>439</td>\n      <td>0</td>\n      <td>1</td>\n      <td>Fortune, Mr. Mark</td>\n      <td>male</td>\n      <td>64.00</td>\n      <td>1</td>\n      <td>4</td>\n      <td>19950</td>\n      <td>263.0000</td>\n      <td>C23 C25 C27</td>\n      <td>S</td>\n      <td>Mr.</td>\n    </tr>\n    <tr>\n      <th>498</th>\n      <td>499</td>\n      <td>0</td>\n      <td>1</td>\n      <td>Allison, Mrs. Hudson J C (Bessie Waldo Daniels)</td>\n      <td>female</td>\n      <td>25.00</td>\n      <td>1</td>\n      <td>2</td>\n      <td>113781</td>\n      <td>151.5500</td>\n      <td>C22 C26</td>\n      <td>S</td>\n      <td>Mrs.</td>\n    </tr>\n    <tr>\n      <th>679</th>\n      <td>680</td>\n      <td>1</td>\n      <td>1</td>\n      <td>Cardeza, Mr. Thomas Drake Martinez</td>\n      <td>male</td>\n      <td>36.00</td>\n      <td>0</td>\n      <td>1</td>\n      <td>PC 17755</td>\n      <td>512.3292</td>\n      <td>B51 B53 B55</td>\n      <td>C</td>\n      <td>Mr.</td>\n    </tr>\n    <tr>\n      <th>699</th>\n      <td>700</td>\n      <td>0</td>\n      <td>3</td>\n      <td>Humblen, Mr. Adolf Mathias Nicolai Olsen</td>\n      <td>male</td>\n      <td>42.00</td>\n      <td>0</td>\n      <td>0</td>\n      <td>348121</td>\n      <td>7.6500</td>\n      <td>F G63</td>\n      <td>S</td>\n      <td>Mr.</td>\n    </tr>\n    <tr>\n      <th>700</th>\n      <td>701</td>\n      <td>1</td>\n      <td>1</td>\n      <td>Astor, Mrs. John Jacob (Madeleine Talmadge Force)</td>\n      <td>female</td>\n      <td>18.00</td>\n      <td>1</td>\n      <td>0</td>\n      <td>PC 17757</td>\n      <td>227.5250</td>\n      <td>C62 C64</td>\n      <td>C</td>\n      <td>Mrs.</td>\n    </tr>\n    <tr>\n      <th>715</th>\n      <td>716</td>\n      <td>0</td>\n      <td>3</td>\n      <td>Soholt, Mr. Peter Andreas Lauritz Andersen</td>\n      <td>male</td>\n      <td>19.00</td>\n      <td>0</td>\n      <td>0</td>\n      <td>348124</td>\n      <td>7.6500</td>\n      <td>F G73</td>\n      <td>S</td>\n      <td>Mr.</td>\n    </tr>\n    <tr>\n      <th>742</th>\n      <td>743</td>\n      <td>1</td>\n      <td>1</td>\n      <td>Ryerson, Miss. Susan Parker \"Suzette\"</td>\n      <td>female</td>\n      <td>21.00</td>\n      <td>2</td>\n      <td>2</td>\n      <td>PC 17608</td>\n      <td>262.3750</td>\n      <td>B57 B59 B63 B66</td>\n      <td>C</td>\n      <td>Miss.</td>\n    </tr>\n    <tr>\n      <th>763</th>\n      <td>764</td>\n      <td>1</td>\n      <td>1</td>\n      <td>Carter, Mrs. William Ernest (Lucile Polk)</td>\n      <td>female</td>\n      <td>36.00</td>\n      <td>1</td>\n      <td>2</td>\n      <td>113760</td>\n      <td>120.0000</td>\n      <td>B96 B98</td>\n      <td>S</td>\n      <td>Mrs.</td>\n    </tr>\n    <tr>\n      <th>789</th>\n      <td>790</td>\n      <td>0</td>\n      <td>1</td>\n      <td>Guggenheim, Mr. Benjamin</td>\n      <td>male</td>\n      <td>46.00</td>\n      <td>0</td>\n      <td>0</td>\n      <td>PC 17593</td>\n      <td>79.2000</td>\n      <td>B82 B84</td>\n      <td>C</td>\n      <td>Mr.</td>\n    </tr>\n    <tr>\n      <th>802</th>\n      <td>803</td>\n      <td>1</td>\n      <td>1</td>\n      <td>Carter, Master. William Thornton II</td>\n      <td>male</td>\n      <td>11.00</td>\n      <td>1</td>\n      <td>2</td>\n      <td>113760</td>\n      <td>120.0000</td>\n      <td>B96 B98</td>\n      <td>S</td>\n      <td>Master.</td>\n    </tr>\n    <tr>\n      <th>872</th>\n      <td>873</td>\n      <td>0</td>\n      <td>1</td>\n      <td>Carlsson, Mr. Frans Olof</td>\n      <td>male</td>\n      <td>33.00</td>\n      <td>0</td>\n      <td>0</td>\n      <td>695</td>\n      <td>5.0000</td>\n      <td>B51 B53 B55</td>\n      <td>S</td>\n      <td>Mr.</td>\n    </tr>\n  </tbody>\n</table>\n</div>"
     },
     "execution_count": 12,
     "metadata": {},
     "output_type": "execute_result"
    }
   ],
   "source": [
    "cabins = train[(~train['Cabin'].isna())]['Cabin']\n",
    "train.loc[(cabins.map(lambda x: len(x.split(' ')))>1) & (~train['Cabin'].isna())]"
   ],
   "metadata": {
    "collapsed": false,
    "ExecuteTime": {
     "end_time": "2023-10-18T12:40:08.959729500Z",
     "start_time": "2023-10-18T12:40:08.742040500Z"
    }
   }
  },
  {
   "cell_type": "code",
   "execution_count": 1,
   "outputs": [
    {
     "ename": "IndentationError",
     "evalue": "unexpected indent (2727930855.py, line 3)",
     "output_type": "error",
     "traceback": [
      "\u001B[0;36m  Cell \u001B[0;32mIn[1], line 3\u001B[0;36m\u001B[0m\n\u001B[0;31m    .map(lambda x: x[0])\u001B[0m\n\u001B[0m    ^\u001B[0m\n\u001B[0;31mIndentationError\u001B[0m\u001B[0;31m:\u001B[0m unexpected indent\n"
     ]
    }
   ],
   "source": [
    "cabins = (train[(~train['Cabin']\n",
    "            .isna())]['Cabin']\n",
    "            .map(lambda x: x[0])\n",
    "train.loc[cabins.index, 'Cabin'] = cabins\n"
   ],
   "metadata": {
    "collapsed": false,
    "ExecuteTime": {
     "end_time": "2023-09-15T20:05:51.773939629Z",
     "start_time": "2023-09-15T20:05:51.761940590Z"
    }
   }
  },
  {
   "cell_type": "code",
   "execution_count": 32,
   "outputs": [
    {
     "data": {
      "text/plain": "     PassengerId  Survived  Pclass  \\\n58            59         1       2   \n751          752         1       3   \n278          279         0       3   \n802          803         1       1   \n435          436         1       1   \n853          854         1       1   \n550          551         1       1   \n307          308         1       1   \n585          586         1       1   \n748          749         0       1   \n715          716         0       3   \n394          395         1       3   \n345          346         1       2   \n23            24         1       1   \n339          340         0       1   \n556          557         1       1   \n\n                                                  Name     Sex   Age  SibSp  \\\n58                        West, Miss. Constance Mirium  female   5.0      1   \n751                                Moor, Master. Meier    male   6.0      0   \n278                                 Rice, Master. Eric    male   7.0      4   \n802                Carter, Master. William Thornton II    male  11.0      1   \n435                          Carter, Miss. Lucile Polk  female  14.0      1   \n853                          Lines, Miss. Mary Conover  female  16.0      0   \n550                        Thayer, Mr. John Borland Jr    male  17.0      0   \n307  Penasco y Castellana, Mrs. Victor de Satode (M...  female  17.0      1   \n585                                Taussig, Miss. Ruth  female  18.0      0   \n748                          Marvin, Mr. Daniel Warner    male  19.0      1   \n715         Soholt, Mr. Peter Andreas Lauritz Andersen    male  19.0      0   \n394  Sandstrom, Mrs. Hjalmar (Agnes Charlotta Bengt...  female  24.0      0   \n345                      Brown, Miss. Amelia \"Mildred\"  female  24.0      0   \n23                        Sloper, Mr. William Thompson    male  28.0      0   \n339                       Blackwell, Mr. Stephen Weart    male  45.0      0   \n556  Duff Gordon, Lady. (Lucille Christiana Sutherl...  female  48.0      1   \n\n     Parch      Ticket      Fare Cabin Embarked  \n58       2  C.A. 34651   27.7500   NaN        S  \n751      1      392096   12.4750     E        S  \n278      1      382652   29.1250   NaN        Q  \n802      2      113760  120.0000     B        S  \n435      2      113760  120.0000     B        S  \n853      1    PC 17592   39.4000     D        S  \n550      2       17421  110.8833     C        C  \n307      0    PC 17758  108.9000     C        C  \n585      2      110413   79.6500     E        S  \n748      0      113773   53.1000     D        S  \n715      0      348124    7.6500     F        S  \n394      2     PP 9549   16.7000     G        S  \n345      0      248733   13.0000     F        S  \n23       0      113788   35.5000     A        S  \n339      0      113784   35.5000     T        S  \n556      0       11755   39.6000     A        C  ",
      "text/html": "<div>\n<style scoped>\n    .dataframe tbody tr th:only-of-type {\n        vertical-align: middle;\n    }\n\n    .dataframe tbody tr th {\n        vertical-align: top;\n    }\n\n    .dataframe thead th {\n        text-align: right;\n    }\n</style>\n<table border=\"1\" class=\"dataframe\">\n  <thead>\n    <tr style=\"text-align: right;\">\n      <th></th>\n      <th>PassengerId</th>\n      <th>Survived</th>\n      <th>Pclass</th>\n      <th>Name</th>\n      <th>Sex</th>\n      <th>Age</th>\n      <th>SibSp</th>\n      <th>Parch</th>\n      <th>Ticket</th>\n      <th>Fare</th>\n      <th>Cabin</th>\n      <th>Embarked</th>\n    </tr>\n  </thead>\n  <tbody>\n    <tr>\n      <th>58</th>\n      <td>59</td>\n      <td>1</td>\n      <td>2</td>\n      <td>West, Miss. Constance Mirium</td>\n      <td>female</td>\n      <td>5.0</td>\n      <td>1</td>\n      <td>2</td>\n      <td>C.A. 34651</td>\n      <td>27.7500</td>\n      <td>NaN</td>\n      <td>S</td>\n    </tr>\n    <tr>\n      <th>751</th>\n      <td>752</td>\n      <td>1</td>\n      <td>3</td>\n      <td>Moor, Master. Meier</td>\n      <td>male</td>\n      <td>6.0</td>\n      <td>0</td>\n      <td>1</td>\n      <td>392096</td>\n      <td>12.4750</td>\n      <td>E</td>\n      <td>S</td>\n    </tr>\n    <tr>\n      <th>278</th>\n      <td>279</td>\n      <td>0</td>\n      <td>3</td>\n      <td>Rice, Master. Eric</td>\n      <td>male</td>\n      <td>7.0</td>\n      <td>4</td>\n      <td>1</td>\n      <td>382652</td>\n      <td>29.1250</td>\n      <td>NaN</td>\n      <td>Q</td>\n    </tr>\n    <tr>\n      <th>802</th>\n      <td>803</td>\n      <td>1</td>\n      <td>1</td>\n      <td>Carter, Master. William Thornton II</td>\n      <td>male</td>\n      <td>11.0</td>\n      <td>1</td>\n      <td>2</td>\n      <td>113760</td>\n      <td>120.0000</td>\n      <td>B</td>\n      <td>S</td>\n    </tr>\n    <tr>\n      <th>435</th>\n      <td>436</td>\n      <td>1</td>\n      <td>1</td>\n      <td>Carter, Miss. Lucile Polk</td>\n      <td>female</td>\n      <td>14.0</td>\n      <td>1</td>\n      <td>2</td>\n      <td>113760</td>\n      <td>120.0000</td>\n      <td>B</td>\n      <td>S</td>\n    </tr>\n    <tr>\n      <th>853</th>\n      <td>854</td>\n      <td>1</td>\n      <td>1</td>\n      <td>Lines, Miss. Mary Conover</td>\n      <td>female</td>\n      <td>16.0</td>\n      <td>0</td>\n      <td>1</td>\n      <td>PC 17592</td>\n      <td>39.4000</td>\n      <td>D</td>\n      <td>S</td>\n    </tr>\n    <tr>\n      <th>550</th>\n      <td>551</td>\n      <td>1</td>\n      <td>1</td>\n      <td>Thayer, Mr. John Borland Jr</td>\n      <td>male</td>\n      <td>17.0</td>\n      <td>0</td>\n      <td>2</td>\n      <td>17421</td>\n      <td>110.8833</td>\n      <td>C</td>\n      <td>C</td>\n    </tr>\n    <tr>\n      <th>307</th>\n      <td>308</td>\n      <td>1</td>\n      <td>1</td>\n      <td>Penasco y Castellana, Mrs. Victor de Satode (M...</td>\n      <td>female</td>\n      <td>17.0</td>\n      <td>1</td>\n      <td>0</td>\n      <td>PC 17758</td>\n      <td>108.9000</td>\n      <td>C</td>\n      <td>C</td>\n    </tr>\n    <tr>\n      <th>585</th>\n      <td>586</td>\n      <td>1</td>\n      <td>1</td>\n      <td>Taussig, Miss. Ruth</td>\n      <td>female</td>\n      <td>18.0</td>\n      <td>0</td>\n      <td>2</td>\n      <td>110413</td>\n      <td>79.6500</td>\n      <td>E</td>\n      <td>S</td>\n    </tr>\n    <tr>\n      <th>748</th>\n      <td>749</td>\n      <td>0</td>\n      <td>1</td>\n      <td>Marvin, Mr. Daniel Warner</td>\n      <td>male</td>\n      <td>19.0</td>\n      <td>1</td>\n      <td>0</td>\n      <td>113773</td>\n      <td>53.1000</td>\n      <td>D</td>\n      <td>S</td>\n    </tr>\n    <tr>\n      <th>715</th>\n      <td>716</td>\n      <td>0</td>\n      <td>3</td>\n      <td>Soholt, Mr. Peter Andreas Lauritz Andersen</td>\n      <td>male</td>\n      <td>19.0</td>\n      <td>0</td>\n      <td>0</td>\n      <td>348124</td>\n      <td>7.6500</td>\n      <td>F</td>\n      <td>S</td>\n    </tr>\n    <tr>\n      <th>394</th>\n      <td>395</td>\n      <td>1</td>\n      <td>3</td>\n      <td>Sandstrom, Mrs. Hjalmar (Agnes Charlotta Bengt...</td>\n      <td>female</td>\n      <td>24.0</td>\n      <td>0</td>\n      <td>2</td>\n      <td>PP 9549</td>\n      <td>16.7000</td>\n      <td>G</td>\n      <td>S</td>\n    </tr>\n    <tr>\n      <th>345</th>\n      <td>346</td>\n      <td>1</td>\n      <td>2</td>\n      <td>Brown, Miss. Amelia \"Mildred\"</td>\n      <td>female</td>\n      <td>24.0</td>\n      <td>0</td>\n      <td>0</td>\n      <td>248733</td>\n      <td>13.0000</td>\n      <td>F</td>\n      <td>S</td>\n    </tr>\n    <tr>\n      <th>23</th>\n      <td>24</td>\n      <td>1</td>\n      <td>1</td>\n      <td>Sloper, Mr. William Thompson</td>\n      <td>male</td>\n      <td>28.0</td>\n      <td>0</td>\n      <td>0</td>\n      <td>113788</td>\n      <td>35.5000</td>\n      <td>A</td>\n      <td>S</td>\n    </tr>\n    <tr>\n      <th>339</th>\n      <td>340</td>\n      <td>0</td>\n      <td>1</td>\n      <td>Blackwell, Mr. Stephen Weart</td>\n      <td>male</td>\n      <td>45.0</td>\n      <td>0</td>\n      <td>0</td>\n      <td>113784</td>\n      <td>35.5000</td>\n      <td>T</td>\n      <td>S</td>\n    </tr>\n    <tr>\n      <th>556</th>\n      <td>557</td>\n      <td>1</td>\n      <td>1</td>\n      <td>Duff Gordon, Lady. (Lucille Christiana Sutherl...</td>\n      <td>female</td>\n      <td>48.0</td>\n      <td>1</td>\n      <td>0</td>\n      <td>11755</td>\n      <td>39.6000</td>\n      <td>A</td>\n      <td>C</td>\n    </tr>\n  </tbody>\n</table>\n</div>"
     },
     "execution_count": 32,
     "metadata": {},
     "output_type": "execute_result"
    }
   ],
   "source": [
    "tmp = train.sort_values('Age').loc[train['Age']>4]\n",
    "tmp[~tmp.duplicated(subset=['Cabin', 'Sex'])]"
   ],
   "metadata": {
    "collapsed": false,
    "ExecuteTime": {
     "end_time": "2023-09-15T15:46:38.868465963Z",
     "start_time": "2023-09-15T15:46:38.839416344Z"
    }
   }
  },
  {
   "cell_type": "markdown",
   "source": [
    "# Step 3: Feature Understanding\n",
    "(Univariate analysis)\n",
    "\n",
    "- Plotting Feature Distributions\n",
    "    - Histogram\n",
    "    - KDE\n",
    "    - Boxplot"
   ],
   "metadata": {
    "collapsed": false
   }
  },
  {
   "cell_type": "code",
   "source": [
    "train[''].value_counts()\n"
   ],
   "metadata": {
    "execution": {
     "iopub.status.busy": "2021-12-31T19:15:42.180128Z",
     "iopub.execute_input": "2021-12-31T19:15:42.180536Z",
     "iopub.status.idle": "2021-12-31T19:15:42.188209Z",
     "shell.execute_reply.started": "2021-12-31T19:15:42.180508Z",
     "shell.execute_reply": "2021-12-31T19:15:42.187385Z"
    },
    "trusted": true,
    "ExecuteTime": {
     "end_time": "2023-09-15T08:05:45.547922485Z",
     "start_time": "2023-09-15T08:05:45.515735527Z"
    }
   },
   "execution_count": 17,
   "outputs": [
    {
     "data": {
      "text/plain": "Sex\nmale      577\nfemale    314\nName: count, dtype: int64"
     },
     "execution_count": 17,
     "metadata": {},
     "output_type": "execute_result"
    }
   ]
  },
  {
   "cell_type": "code",
   "execution_count": 40,
   "outputs": [
    {
     "data": {
      "text/plain": "             PassengerId  Survived    Pclass       Age     SibSp     Parch  \\\nPassengerId     1.000000 -0.005007 -0.035144  0.036847 -0.057527 -0.001652   \nSurvived       -0.005007  1.000000 -0.338481 -0.077221 -0.035322  0.081629   \nPclass         -0.035144 -0.338481  1.000000 -0.369226  0.083081  0.018443   \nAge             0.036847 -0.077221 -0.369226  1.000000 -0.308247 -0.189119   \nSibSp          -0.057527 -0.035322  0.083081 -0.308247  1.000000  0.414838   \nParch          -0.001652  0.081629  0.018443 -0.189119  0.414838  1.000000   \nFare            0.012658  0.257307 -0.549500  0.096067  0.159651  0.216225   \n\n                 Fare  \nPassengerId  0.012658  \nSurvived     0.257307  \nPclass      -0.549500  \nAge          0.096067  \nSibSp        0.159651  \nParch        0.216225  \nFare         1.000000  ",
      "text/html": "<div>\n<style scoped>\n    .dataframe tbody tr th:only-of-type {\n        vertical-align: middle;\n    }\n\n    .dataframe tbody tr th {\n        vertical-align: top;\n    }\n\n    .dataframe thead th {\n        text-align: right;\n    }\n</style>\n<table border=\"1\" class=\"dataframe\">\n  <thead>\n    <tr style=\"text-align: right;\">\n      <th></th>\n      <th>PassengerId</th>\n      <th>Survived</th>\n      <th>Pclass</th>\n      <th>Age</th>\n      <th>SibSp</th>\n      <th>Parch</th>\n      <th>Fare</th>\n    </tr>\n  </thead>\n  <tbody>\n    <tr>\n      <th>PassengerId</th>\n      <td>1.000000</td>\n      <td>-0.005007</td>\n      <td>-0.035144</td>\n      <td>0.036847</td>\n      <td>-0.057527</td>\n      <td>-0.001652</td>\n      <td>0.012658</td>\n    </tr>\n    <tr>\n      <th>Survived</th>\n      <td>-0.005007</td>\n      <td>1.000000</td>\n      <td>-0.338481</td>\n      <td>-0.077221</td>\n      <td>-0.035322</td>\n      <td>0.081629</td>\n      <td>0.257307</td>\n    </tr>\n    <tr>\n      <th>Pclass</th>\n      <td>-0.035144</td>\n      <td>-0.338481</td>\n      <td>1.000000</td>\n      <td>-0.369226</td>\n      <td>0.083081</td>\n      <td>0.018443</td>\n      <td>-0.549500</td>\n    </tr>\n    <tr>\n      <th>Age</th>\n      <td>0.036847</td>\n      <td>-0.077221</td>\n      <td>-0.369226</td>\n      <td>1.000000</td>\n      <td>-0.308247</td>\n      <td>-0.189119</td>\n      <td>0.096067</td>\n    </tr>\n    <tr>\n      <th>SibSp</th>\n      <td>-0.057527</td>\n      <td>-0.035322</td>\n      <td>0.083081</td>\n      <td>-0.308247</td>\n      <td>1.000000</td>\n      <td>0.414838</td>\n      <td>0.159651</td>\n    </tr>\n    <tr>\n      <th>Parch</th>\n      <td>-0.001652</td>\n      <td>0.081629</td>\n      <td>0.018443</td>\n      <td>-0.189119</td>\n      <td>0.414838</td>\n      <td>1.000000</td>\n      <td>0.216225</td>\n    </tr>\n    <tr>\n      <th>Fare</th>\n      <td>0.012658</td>\n      <td>0.257307</td>\n      <td>-0.549500</td>\n      <td>0.096067</td>\n      <td>0.159651</td>\n      <td>0.216225</td>\n      <td>1.000000</td>\n    </tr>\n  </tbody>\n</table>\n</div>"
     },
     "execution_count": 40,
     "metadata": {},
     "output_type": "execute_result"
    }
   ],
   "source": [
    "train.corr(numeric_only=True)"
   ],
   "metadata": {
    "collapsed": false,
    "ExecuteTime": {
     "end_time": "2023-09-15T16:17:04.637616760Z",
     "start_time": "2023-09-15T16:17:04.614987382Z"
    }
   }
  },
  {
   "cell_type": "code",
   "source": [
    "ax = train['Year_Introduced'].value_counts() \\\n",
    "    .head(10) \\\n",
    "    .plot(kind='bar', title='Top 10 Years Coasters Introduced')\n",
    "ax.set_xlabel('Year Introduced')\n",
    "ax.set_ylabel('Count')"
   ],
   "metadata": {
    "execution": {
     "iopub.status.busy": "2021-12-31T19:18:37.875007Z",
     "iopub.execute_input": "2021-12-31T19:18:37.875663Z",
     "iopub.status.idle": "2021-12-31T19:18:38.080836Z",
     "shell.execute_reply.started": "2021-12-31T19:18:37.875615Z",
     "shell.execute_reply": "2021-12-31T19:18:38.07998Z"
    },
    "trusted": true
   },
   "execution_count": null,
   "outputs": []
  },
  {
   "cell_type": "code",
   "source": [
    "ax = train['Speed_mph'].plot(kind='hist',\n",
    "                          bins=20,\n",
    "                          title='Coaster Speed (mph)')\n",
    "ax.set_xlabel('Speed (mph)')"
   ],
   "metadata": {
    "execution": {
     "iopub.status.busy": "2021-12-31T19:23:10.801878Z",
     "iopub.execute_input": "2021-12-31T19:23:10.802756Z",
     "iopub.status.idle": "2021-12-31T19:23:11.040812Z",
     "shell.execute_reply.started": "2021-12-31T19:23:10.802718Z",
     "shell.execute_reply": "2021-12-31T19:23:11.039768Z"
    },
    "trusted": true
   },
   "execution_count": null,
   "outputs": []
  },
  {
   "cell_type": "code",
   "source": [
    "ax = train['Speed_mph'].plot(kind='kde',\n",
    "                          title='Coaster Speed (mph)')\n",
    "ax.set_xlabel('Speed (mph)')"
   ],
   "metadata": {
    "execution": {
     "iopub.status.busy": "2021-12-31T19:23:50.580456Z",
     "iopub.execute_input": "2021-12-31T19:23:50.580721Z",
     "iopub.status.idle": "2021-12-31T19:23:50.777702Z",
     "shell.execute_reply.started": "2021-12-31T19:23:50.580693Z",
     "shell.execute_reply": "2021-12-31T19:23:50.776696Z"
    },
    "trusted": true
   },
   "execution_count": null,
   "outputs": []
  },
  {
   "cell_type": "code",
   "source": [
    "train['Type_Main'].value_counts()"
   ],
   "metadata": {
    "execution": {
     "iopub.status.busy": "2021-12-31T19:24:46.445487Z",
     "iopub.execute_input": "2021-12-31T19:24:46.445746Z",
     "iopub.status.idle": "2021-12-31T19:24:46.454475Z",
     "shell.execute_reply.started": "2021-12-31T19:24:46.445719Z",
     "shell.execute_reply": "2021-12-31T19:24:46.453787Z"
    },
    "trusted": true
   },
   "execution_count": null,
   "outputs": []
  },
  {
   "cell_type": "markdown",
   "source": [
    "# Step 4: Feature Relationships\n",
    "- Scatterplot\n",
    "- Heatmap Correlation\n",
    "- Pairplot\n",
    "- Groupby comparisons"
   ],
   "metadata": {}
  },
  {
   "cell_type": "code",
   "source": [
    "train.plot(kind='scatter',\n",
    "        x='Speed_mph',\n",
    "        y='Height_ft',\n",
    "        title='Coaster Speed vs. Height')\n",
    "plt.show()"
   ],
   "metadata": {
    "execution": {
     "iopub.status.busy": "2021-12-31T19:28:27.768444Z",
     "iopub.execute_input": "2021-12-31T19:28:27.768762Z",
     "iopub.status.idle": "2021-12-31T19:28:27.997695Z",
     "shell.execute_reply.started": "2021-12-31T19:28:27.768721Z",
     "shell.execute_reply": "2021-12-31T19:28:27.996745Z"
    },
    "trusted": true
   },
   "execution_count": null,
   "outputs": []
  },
  {
   "cell_type": "code",
   "source": [
    "ax = sbn.scatterplot(x='Speed_mph',\n",
    "                y='Height_ft',\n",
    "                hue='Year_Introduced',\n",
    "                data=train)\n",
    "ax.set_title('Coaster Speed vs. Height')\n",
    "plt.show()"
   ],
   "metadata": {
    "execution": {
     "iopub.status.busy": "2021-12-31T19:33:28.681335Z",
     "iopub.execute_input": "2021-12-31T19:33:28.681767Z",
     "iopub.status.idle": "2021-12-31T19:33:28.987093Z",
     "shell.execute_reply.started": "2021-12-31T19:33:28.681729Z",
     "shell.execute_reply": "2021-12-31T19:33:28.986081Z"
    },
    "trusted": true
   },
   "execution_count": null,
   "outputs": []
  },
  {
   "cell_type": "code",
   "source": [
    "sbn.pairplot(train,\n",
    "             vars=['Year_Introduced','Speed_mph',\n",
    "                   'Height_ft','Inversions','Gforce'],\n",
    "            hue='Type_Main')\n",
    "plt.show()"
   ],
   "metadata": {
    "execution": {
     "iopub.status.busy": "2021-12-31T19:44:18.59614Z",
     "iopub.execute_input": "2021-12-31T19:44:18.596449Z",
     "iopub.status.idle": "2021-12-31T19:44:26.264213Z",
     "shell.execute_reply.started": "2021-12-31T19:44:18.59642Z",
     "shell.execute_reply": "2021-12-31T19:44:26.263222Z"
    },
    "trusted": true
   },
   "execution_count": null,
   "outputs": []
  },
  {
   "cell_type": "code",
   "source": [
    "train_corr = train[['Year_Introduced','Speed_mph',\n",
    "    'Height_ft','Inversions','Gforce']].dropna().corr()\n",
    "train_corr"
   ],
   "metadata": {
    "execution": {
     "iopub.status.busy": "2021-12-31T19:46:48.88683Z",
     "iopub.execute_input": "2021-12-31T19:46:48.887658Z",
     "iopub.status.idle": "2021-12-31T19:46:48.905496Z",
     "shell.execute_reply.started": "2021-12-31T19:46:48.887613Z",
     "shell.execute_reply": "2021-12-31T19:46:48.904692Z"
    },
    "trusted": true
   },
   "execution_count": null,
   "outputs": []
  },
  {
   "cell_type": "code",
   "source": [
    "sbn.heatmap(train_corr, annot=True)"
   ],
   "metadata": {
    "execution": {
     "iopub.status.busy": "2021-12-31T19:47:08.677068Z",
     "iopub.execute_input": "2021-12-31T19:47:08.677335Z",
     "iopub.status.idle": "2021-12-31T19:47:08.996226Z",
     "shell.execute_reply.started": "2021-12-31T19:47:08.677308Z",
     "shell.execute_reply": "2021-12-31T19:47:08.995238Z"
    },
    "trusted": true
   },
   "execution_count": null,
   "outputs": []
  },
  {
   "cell_type": "markdown",
   "source": [
    "# Step 5: Ask a Question about the data\n",
    "- Try to answer a question you have about the data using a plot or statistic.\n",
    "\n",
    "What are the locations with the fastest roller coasters (minimum of 10)?"
   ],
   "metadata": {
    "execution": {
     "iopub.status.busy": "2021-12-31T20:08:11.029825Z",
     "iopub.execute_input": "2021-12-31T20:08:11.030274Z",
     "iopub.status.idle": "2021-12-31T20:08:11.035592Z",
     "shell.execute_reply.started": "2021-12-31T20:08:11.030244Z",
     "shell.execute_reply": "2021-12-31T20:08:11.03458Z"
    }
   }
  },
  {
   "cell_type": "code",
   "source": [
    "ax = train.query('Location != \"Other\"') \\\n",
    "    .groupby('Location')['Speed_mph'] \\\n",
    "    .agg(['mean','count']) \\\n",
    "    .query('count >= 10') \\\n",
    "    .sort_values('mean')['mean'] \\\n",
    "    .plot(kind='barh', figsize=(12, 5), title='Average Coast Speed by Location')\n",
    "ax.set_xlabel('Average Coaster Speed')\n",
    "plt.show()"
   ],
   "metadata": {
    "execution": {
     "iopub.status.busy": "2021-12-31T20:12:48.582882Z",
     "iopub.execute_input": "2021-12-31T20:12:48.583615Z",
     "iopub.status.idle": "2021-12-31T20:12:48.841186Z",
     "shell.execute_reply.started": "2021-12-31T20:12:48.583584Z",
     "shell.execute_reply": "2021-12-31T20:12:48.840345Z"
    },
    "trusted": true
   },
   "execution_count": null,
   "outputs": []
  }
 ]
}
