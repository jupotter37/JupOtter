{
 "cells": [
  {
   "cell_type": "code",
   "execution_count": 4,
   "metadata": {},
   "outputs": [],
   "source": [
    "import json \n",
    "import requests"
   ]
  },
  {
   "cell_type": "code",
   "execution_count": 5,
   "metadata": {},
   "outputs": [],
   "source": [
    "\n",
    "def xdd_api(route, params):\n",
    "    \"\"\"Create list of docs mentioning a term of interest\n",
    "    Parameters : see https://geodeepdive.org/api for more detail\n",
    "    ----------\n",
    "    routes : str of available api routes for xDD \n",
    "    params : str of key value pairs of paramaters:values separated by &\n",
    "    \"\"\"\n",
    "    url = 'https://geodeepdive.org/api'\n",
    "    search = (url + '/' + route + '?' + str(params))\n",
    "    all_data = []\n",
    "    print (search)\n",
    "    try:\n",
    "        while search != '':\n",
    "            r=requests.get(search)\n",
    "            if r.status_code == 200 and 'success' in r.json():\n",
    "                json_r = r.json()\n",
    "                data = json_r['success']['data']\n",
    "                search = json_r['success']['next_page']\n",
    "                hits = json_r['success']['hits']\n",
    "                for i in data:\n",
    "                    all_data.append(i)\n",
    "            else:\n",
    "                raise Exception('xDD API returning: {}'.format(r.status_code))\n",
    "            \n",
    "    except Exception as e:\n",
    "        raise Exception(e)\n",
    "        \n",
    "    return all_data, hits\n"
   ]
  },
  {
   "cell_type": "code",
   "execution_count": 7,
   "metadata": {},
   "outputs": [
    {
     "ename": "IndentationError",
     "evalue": "expected an indented block (<ipython-input-7-65df820b2ea2>, line 17)",
     "output_type": "error",
     "traceback": [
      "\u001b[0;36m  File \u001b[0;32m\"<ipython-input-7-65df820b2ea2>\"\u001b[0;36m, line \u001b[0;32m17\u001b[0m\n\u001b[0;31m    json.dump(results, outfile)\u001b[0m\n\u001b[0m       ^\u001b[0m\n\u001b[0;31mIndentationError\u001b[0m\u001b[0;31m:\u001b[0m expected an indented block\n"
     ]
    }
   ],
   "source": [
    "#Specify API route and parameters needed for search\n",
    "\n",
    "route = 'snippets'\n",
    "\n",
    "#Set a term or loop through terms\n",
    "terms = ['BBS', 'North American Breeding Bird Survey', 'NABBS', 'Breeding Bird Survey']\n",
    "\n",
    "\n",
    "for i in terms:\n",
    "    #List of available parameters and examples : 'https://geodeepdive.org/api/snippets'\n",
    "    params = 'term=' + i + '&clean&full_results'\n",
    "\n",
    "    #Search xDD results (detailed results per article) and hits = total # articles with mentions\n",
    "    results, hits = xdd_api(route, params)\n",
    "    \n",
    "    with open('xdd_returns' + i + '.txt', 'w') as outfile:\n",
    "    json.dump(results, outfile)\n",
    "    "
   ]
  },
  {
   "cell_type": "code",
   "execution_count": null,
   "metadata": {},
   "outputs": [],
   "source": []
  },
  {
   "cell_type": "code",
   "execution_count": null,
   "metadata": {},
   "outputs": [],
   "source": []
  }
 ],
 "metadata": {
  "kernelspec": {
   "display_name": "Python 3",
   "language": "python",
   "name": "python3"
  },
  "language_info": {
   "codemirror_mode": {
    "name": "ipython",
    "version": 3
   },
   "file_extension": ".py",
   "mimetype": "text/x-python",
   "name": "python",
   "nbconvert_exporter": "python",
   "pygments_lexer": "ipython3",
   "version": "3.7.4"
  }
 },
 "nbformat": 4,
 "nbformat_minor": 2
}
