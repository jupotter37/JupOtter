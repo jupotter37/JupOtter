{
 "cells": [
  {
   "cell_type": "code",
   "execution_count": 1,
   "metadata": {},
   "outputs": [],
   "source": [
    "def func():\n",
    "    a = 10\n",
    "    return a"
   ]
  },
  {
   "cell_type": "code",
   "execution_count": 2,
   "metadata": {},
   "outputs": [
    {
     "data": {
      "text/plain": [
       "<function __main__.func()>"
      ]
     },
     "execution_count": 2,
     "metadata": {},
     "output_type": "execute_result"
    }
   ],
   "source": [
    "func"
   ]
  },
  {
   "cell_type": "code",
   "execution_count": 3,
   "metadata": {},
   "outputs": [
    {
     "data": {
      "text/plain": [
       "10"
      ]
     },
     "execution_count": 3,
     "metadata": {},
     "output_type": "execute_result"
    }
   ],
   "source": [
    "func()"
   ]
  },
  {
   "cell_type": "code",
   "execution_count": 4,
   "metadata": {},
   "outputs": [
    {
     "data": {
      "text/plain": [
       "2268795081312"
      ]
     },
     "execution_count": 4,
     "metadata": {},
     "output_type": "execute_result"
    }
   ],
   "source": [
    "id(func)"
   ]
  },
  {
   "cell_type": "code",
   "execution_count": 5,
   "metadata": {},
   "outputs": [
    {
     "data": {
      "text/plain": [
       "'__main__'"
      ]
     },
     "execution_count": 5,
     "metadata": {},
     "output_type": "execute_result"
    }
   ],
   "source": [
    "__name__"
   ]
  },
  {
   "cell_type": "code",
   "execution_count": 6,
   "metadata": {},
   "outputs": [
    {
     "data": {
      "text/plain": [
       "{'__name__': '__main__',\n",
       " '__doc__': 'Automatically created module for IPython interactive environment',\n",
       " '__package__': None,\n",
       " '__loader__': None,\n",
       " '__spec__': None,\n",
       " '__builtin__': <module 'builtins' (built-in)>,\n",
       " '__builtins__': <module 'builtins' (built-in)>,\n",
       " '_ih': ['',\n",
       "  'def func():\\n    a = 10\\n    return a',\n",
       "  'func',\n",
       "  'func()',\n",
       "  'id(func)',\n",
       "  '__name__',\n",
       "  'globals()'],\n",
       " '_oh': {2: <function __main__.func()>,\n",
       "  3: 10,\n",
       "  4: 2268795081312,\n",
       "  5: '__main__'},\n",
       " '_dh': [WindowsPath('c:/Users/ansor.taghoev/Desktop/ScriptsPython/Section9')],\n",
       " 'In': ['',\n",
       "  'def func():\\n    a = 10\\n    return a',\n",
       "  'func',\n",
       "  'func()',\n",
       "  'id(func)',\n",
       "  '__name__',\n",
       "  'globals()'],\n",
       " 'Out': {2: <function __main__.func()>,\n",
       "  3: 10,\n",
       "  4: 2268795081312,\n",
       "  5: '__main__'},\n",
       " 'get_ipython': <bound method InteractiveShell.get_ipython of <ipykernel.zmqshell.ZMQInteractiveShell object at 0x000002103D72AF30>>,\n",
       " 'exit': <IPython.core.autocall.ZMQExitAutocall at 0x2103d7ea480>,\n",
       " 'quit': <IPython.core.autocall.ZMQExitAutocall at 0x2103d7ea480>,\n",
       " 'open': <function _io.open(file, mode='r', buffering=-1, encoding=None, errors=None, newline=None, closefd=True, opener=None)>,\n",
       " '_': '__main__',\n",
       " '__': 2268795081312,\n",
       " '___': 10,\n",
       " '__vsc_ipynb_file__': 'c:\\\\Users\\\\ansor.taghoev\\\\Desktop\\\\ScriptsPython\\\\Section9\\\\WhatIsAmodule.ipynb',\n",
       " '_i': '__name__',\n",
       " '_ii': 'id(func)',\n",
       " '_iii': 'func()',\n",
       " '_i1': 'def func():\\n    a = 10\\n    return a',\n",
       " 'func': <function __main__.func()>,\n",
       " '_i2': 'func',\n",
       " '_2': <function __main__.func()>,\n",
       " '_i3': 'func()',\n",
       " '_3': 10,\n",
       " '_i4': 'id(func)',\n",
       " '_4': 2268795081312,\n",
       " '_i5': '__name__',\n",
       " '_5': '__main__',\n",
       " '_i6': 'globals()'}"
      ]
     },
     "execution_count": 6,
     "metadata": {},
     "output_type": "execute_result"
    }
   ],
   "source": [
    "globals()"
   ]
  },
  {
   "cell_type": "code",
   "execution_count": 8,
   "metadata": {},
   "outputs": [
    {
     "data": {
      "text/plain": [
       "10"
      ]
     },
     "execution_count": 8,
     "metadata": {},
     "output_type": "execute_result"
    }
   ],
   "source": [
    "globals()['func']()"
   ]
  },
  {
   "cell_type": "code",
   "execution_count": 9,
   "metadata": {},
   "outputs": [
    {
     "data": {
      "text/plain": [
       "{'__name__': '__main__',\n",
       " '__doc__': 'Automatically created module for IPython interactive environment',\n",
       " '__package__': None,\n",
       " '__loader__': None,\n",
       " '__spec__': None,\n",
       " '__builtin__': <module 'builtins' (built-in)>,\n",
       " '__builtins__': <module 'builtins' (built-in)>,\n",
       " '_ih': ['',\n",
       "  'def func():\\n    a = 10\\n    return a',\n",
       "  'func',\n",
       "  'func()',\n",
       "  'id(func)',\n",
       "  '__name__',\n",
       "  'globals()',\n",
       "  \"globals()['func']\",\n",
       "  \"globals()['func']()\",\n",
       "  'locals()'],\n",
       " '_oh': {2: <function __main__.func()>,\n",
       "  3: 10,\n",
       "  4: 2268795081312,\n",
       "  5: '__main__',\n",
       "  6: {...},\n",
       "  7: <function __main__.func()>,\n",
       "  8: 10},\n",
       " '_dh': [WindowsPath('c:/Users/ansor.taghoev/Desktop/ScriptsPython/Section9')],\n",
       " 'In': ['',\n",
       "  'def func():\\n    a = 10\\n    return a',\n",
       "  'func',\n",
       "  'func()',\n",
       "  'id(func)',\n",
       "  '__name__',\n",
       "  'globals()',\n",
       "  \"globals()['func']\",\n",
       "  \"globals()['func']()\",\n",
       "  'locals()'],\n",
       " 'Out': {2: <function __main__.func()>,\n",
       "  3: 10,\n",
       "  4: 2268795081312,\n",
       "  5: '__main__',\n",
       "  6: {...},\n",
       "  7: <function __main__.func()>,\n",
       "  8: 10},\n",
       " 'get_ipython': <bound method InteractiveShell.get_ipython of <ipykernel.zmqshell.ZMQInteractiveShell object at 0x000002103D72AF30>>,\n",
       " 'exit': <IPython.core.autocall.ZMQExitAutocall at 0x2103d7ea480>,\n",
       " 'quit': <IPython.core.autocall.ZMQExitAutocall at 0x2103d7ea480>,\n",
       " 'open': <function _io.open(file, mode='r', buffering=-1, encoding=None, errors=None, newline=None, closefd=True, opener=None)>,\n",
       " '_': 10,\n",
       " '__': <function __main__.func()>,\n",
       " '___': {...},\n",
       " '__vsc_ipynb_file__': 'c:\\\\Users\\\\ansor.taghoev\\\\Desktop\\\\ScriptsPython\\\\Section9\\\\WhatIsAmodule.ipynb',\n",
       " '_i': \"globals()['func']()\",\n",
       " '_ii': \"globals()['func']\",\n",
       " '_iii': 'globals()',\n",
       " '_i1': 'def func():\\n    a = 10\\n    return a',\n",
       " 'func': <function __main__.func()>,\n",
       " '_i2': 'func',\n",
       " '_2': <function __main__.func()>,\n",
       " '_i3': 'func()',\n",
       " '_3': 10,\n",
       " '_i4': 'id(func)',\n",
       " '_4': 2268795081312,\n",
       " '_i5': '__name__',\n",
       " '_5': '__main__',\n",
       " '_i6': 'globals()',\n",
       " '_6': {...},\n",
       " '_i7': \"globals()['func']\",\n",
       " '_7': <function __main__.func()>,\n",
       " '_i8': \"globals()['func']()\",\n",
       " '_8': 10,\n",
       " '_i9': 'locals()'}"
      ]
     },
     "execution_count": 9,
     "metadata": {},
     "output_type": "execute_result"
    }
   ],
   "source": [
    "locals()"
   ]
  },
  {
   "cell_type": "code",
   "execution_count": 11,
   "metadata": {},
   "outputs": [
    {
     "data": {
      "text/plain": [
       "True"
      ]
     },
     "execution_count": 11,
     "metadata": {},
     "output_type": "execute_result"
    }
   ],
   "source": [
    "locals() is globals()"
   ]
  },
  {
   "cell_type": "code",
   "execution_count": 12,
   "metadata": {},
   "outputs": [],
   "source": [
    "def func():\n",
    "    a = 10\n",
    "    b = 10\n",
    "    print(locals())"
   ]
  },
  {
   "cell_type": "code",
   "execution_count": 13,
   "metadata": {},
   "outputs": [
    {
     "name": "stdout",
     "output_type": "stream",
     "text": [
      "{'a': 10, 'b': 10}\n"
     ]
    }
   ],
   "source": [
    "func()"
   ]
  },
  {
   "cell_type": "code",
   "execution_count": 1,
   "metadata": {},
   "outputs": [],
   "source": [
    "import math"
   ]
  },
  {
   "cell_type": "code",
   "execution_count": 2,
   "metadata": {},
   "outputs": [
    {
     "data": {
      "text/plain": [
       "<module 'math' (built-in)>"
      ]
     },
     "execution_count": 2,
     "metadata": {},
     "output_type": "execute_result"
    }
   ],
   "source": [
    "math"
   ]
  },
  {
   "cell_type": "code",
   "execution_count": 3,
   "metadata": {},
   "outputs": [],
   "source": [
    "import fractions"
   ]
  },
  {
   "cell_type": "code",
   "execution_count": 4,
   "metadata": {},
   "outputs": [
    {
     "data": {
      "text/plain": [
       "<module 'fractions' from 'c:\\\\Users\\\\ansor.taghoev\\\\AppData\\\\Local\\\\Programs\\\\Python\\\\Python312\\\\Lib\\\\fractions.py'>"
      ]
     },
     "execution_count": 4,
     "metadata": {},
     "output_type": "execute_result"
    }
   ],
   "source": [
    "fractions"
   ]
  },
  {
   "cell_type": "code",
   "execution_count": 5,
   "metadata": {},
   "outputs": [],
   "source": [
    "junk = math"
   ]
  },
  {
   "cell_type": "code",
   "execution_count": 6,
   "metadata": {},
   "outputs": [
    {
     "data": {
      "text/plain": [
       "1.4142135623730951"
      ]
     },
     "execution_count": 6,
     "metadata": {},
     "output_type": "execute_result"
    }
   ],
   "source": [
    "junk.sqrt(2)"
   ]
  },
  {
   "cell_type": "code",
   "execution_count": 7,
   "metadata": {},
   "outputs": [
    {
     "data": {
      "text/plain": [
       "True"
      ]
     },
     "execution_count": 7,
     "metadata": {},
     "output_type": "execute_result"
    }
   ],
   "source": [
    "junk is math"
   ]
  },
  {
   "cell_type": "code",
   "execution_count": 8,
   "metadata": {},
   "outputs": [
    {
     "data": {
      "text/plain": [
       "<module 'math' (built-in)>"
      ]
     },
     "execution_count": 8,
     "metadata": {},
     "output_type": "execute_result"
    }
   ],
   "source": [
    "globals()['math']"
   ]
  },
  {
   "cell_type": "code",
   "execution_count": 9,
   "metadata": {},
   "outputs": [],
   "source": [
    "mod_math = globals()['math']"
   ]
  },
  {
   "cell_type": "code",
   "execution_count": 10,
   "metadata": {},
   "outputs": [
    {
     "data": {
      "text/plain": [
       "dict"
      ]
     },
     "execution_count": 10,
     "metadata": {},
     "output_type": "execute_result"
    }
   ],
   "source": [
    "type(globals())"
   ]
  },
  {
   "cell_type": "code",
   "execution_count": 11,
   "metadata": {},
   "outputs": [
    {
     "data": {
      "text/plain": [
       "module"
      ]
     },
     "execution_count": 11,
     "metadata": {},
     "output_type": "execute_result"
    }
   ],
   "source": [
    "type(math)"
   ]
  },
  {
   "cell_type": "code",
   "execution_count": 12,
   "metadata": {},
   "outputs": [
    {
     "data": {
      "text/plain": [
       "module"
      ]
     },
     "execution_count": 12,
     "metadata": {},
     "output_type": "execute_result"
    }
   ],
   "source": [
    "type(fractions)"
   ]
  },
  {
   "cell_type": "code",
   "execution_count": 13,
   "metadata": {},
   "outputs": [
    {
     "data": {
      "text/plain": [
       "2430320757232"
      ]
     },
     "execution_count": 13,
     "metadata": {},
     "output_type": "execute_result"
    }
   ],
   "source": [
    "id(math)"
   ]
  },
  {
   "cell_type": "code",
   "execution_count": 14,
   "metadata": {},
   "outputs": [],
   "source": [
    "import math"
   ]
  },
  {
   "cell_type": "code",
   "execution_count": 15,
   "metadata": {},
   "outputs": [
    {
     "data": {
      "text/plain": [
       "2430320757232"
      ]
     },
     "execution_count": 15,
     "metadata": {},
     "output_type": "execute_result"
    }
   ],
   "source": [
    "id(math)"
   ]
  },
  {
   "cell_type": "code",
   "execution_count": 16,
   "metadata": {},
   "outputs": [],
   "source": [
    "import sys"
   ]
  },
  {
   "cell_type": "code",
   "execution_count": 17,
   "metadata": {},
   "outputs": [
    {
     "data": {
      "text/plain": [
       "{'sys': <module 'sys' (built-in)>,\n",
       " 'builtins': <module 'builtins' (built-in)>,\n",
       " '_frozen_importlib': <module '_frozen_importlib' (frozen)>,\n",
       " '_imp': <module '_imp' (built-in)>,\n",
       " '_thread': <module '_thread' (built-in)>,\n",
       " '_warnings': <module '_warnings' (built-in)>,\n",
       " '_weakref': <module '_weakref' (built-in)>,\n",
       " 'winreg': <module 'winreg' (built-in)>,\n",
       " '_io': <module '_io' (built-in)>,\n",
       " 'marshal': <module 'marshal' (built-in)>,\n",
       " 'nt': <module 'nt' (built-in)>,\n",
       " '_frozen_importlib_external': <module '_frozen_importlib_external' (frozen)>,\n",
       " 'time': <module 'time' (built-in)>,\n",
       " 'zipimport': <module 'zipimport' (frozen)>,\n",
       " '_codecs': <module '_codecs' (built-in)>,\n",
       " 'codecs': <module 'codecs' (frozen)>,\n",
       " 'encodings.aliases': <module 'encodings.aliases' from 'c:\\\\Users\\\\ansor.taghoev\\\\AppData\\\\Local\\\\Programs\\\\Python\\\\Python312\\\\Lib\\\\encodings\\\\aliases.py'>,\n",
       " 'encodings': <module 'encodings' from 'c:\\\\Users\\\\ansor.taghoev\\\\AppData\\\\Local\\\\Programs\\\\Python\\\\Python312\\\\Lib\\\\encodings\\\\__init__.py'>,\n",
       " 'encodings.utf_8': <module 'encodings.utf_8' from 'c:\\\\Users\\\\ansor.taghoev\\\\AppData\\\\Local\\\\Programs\\\\Python\\\\Python312\\\\Lib\\\\encodings\\\\utf_8.py'>,\n",
       " '_signal': <module '_signal' (built-in)>,\n",
       " '_abc': <module '_abc' (built-in)>,\n",
       " 'abc': <module 'abc' (frozen)>,\n",
       " 'io': <module 'io' (frozen)>,\n",
       " '__main__': <module '__main__'>,\n",
       " '_stat': <module '_stat' (built-in)>,\n",
       " 'stat': <module 'stat' (frozen)>,\n",
       " '_collections_abc': <module '_collections_abc' (frozen)>,\n",
       " 'genericpath': <module 'genericpath' (frozen)>,\n",
       " '_winapi': <module '_winapi' (built-in)>,\n",
       " 'ntpath': <module 'ntpath' (frozen)>,\n",
       " 'os.path': <module 'ntpath' (frozen)>,\n",
       " 'os': <module 'os' (frozen)>,\n",
       " '_sitebuiltins': <module '_sitebuiltins' (frozen)>,\n",
       " 'encodings.utf_8_sig': <module 'encodings.utf_8_sig' from 'c:\\\\Users\\\\ansor.taghoev\\\\AppData\\\\Local\\\\Programs\\\\Python\\\\Python312\\\\Lib\\\\encodings\\\\utf_8_sig.py'>,\n",
       " 'pywin32_system32': <module 'pywin32_system32' (namespace) from ['C:\\\\Users\\\\ansor.taghoev\\\\AppData\\\\Roaming\\\\Python\\\\Python312\\\\site-packages\\\\pywin32_system32']>,\n",
       " 'pywin32_bootstrap': <module 'pywin32_bootstrap' from 'C:\\\\Users\\\\ansor.taghoev\\\\AppData\\\\Roaming\\\\Python\\\\Python312\\\\site-packages\\\\win32\\\\lib\\\\pywin32_bootstrap.py'>,\n",
       " 'site': <module 'site' (frozen)>,\n",
       " 'importlib._bootstrap': <module '_frozen_importlib' (frozen)>,\n",
       " 'importlib._bootstrap_external': <module '_frozen_importlib_external' (frozen)>,\n",
       " 'warnings': <module 'warnings' from 'c:\\\\Users\\\\ansor.taghoev\\\\AppData\\\\Local\\\\Programs\\\\Python\\\\Python312\\\\Lib\\\\warnings.py'>,\n",
       " 'importlib': <module 'importlib' from 'c:\\\\Users\\\\ansor.taghoev\\\\AppData\\\\Local\\\\Programs\\\\Python\\\\Python312\\\\Lib\\\\importlib\\\\__init__.py'>,\n",
       " 'importlib.machinery': <module 'importlib.machinery' (frozen)>,\n",
       " 'importlib._abc': <module 'importlib._abc' from 'c:\\\\Users\\\\ansor.taghoev\\\\AppData\\\\Local\\\\Programs\\\\Python\\\\Python312\\\\Lib\\\\importlib\\\\_abc.py'>,\n",
       " 'itertools': <module 'itertools' (built-in)>,\n",
       " 'keyword': <module 'keyword' from 'c:\\\\Users\\\\ansor.taghoev\\\\AppData\\\\Local\\\\Programs\\\\Python\\\\Python312\\\\Lib\\\\keyword.py'>,\n",
       " '_operator': <module '_operator' (built-in)>,\n",
       " 'operator': <module 'operator' from 'c:\\\\Users\\\\ansor.taghoev\\\\AppData\\\\Local\\\\Programs\\\\Python\\\\Python312\\\\Lib\\\\operator.py'>,\n",
       " 'reprlib': <module 'reprlib' from 'c:\\\\Users\\\\ansor.taghoev\\\\AppData\\\\Local\\\\Programs\\\\Python\\\\Python312\\\\Lib\\\\reprlib.py'>,\n",
       " '_collections': <module '_collections' (built-in)>,\n",
       " 'collections': <module 'collections' from 'c:\\\\Users\\\\ansor.taghoev\\\\AppData\\\\Local\\\\Programs\\\\Python\\\\Python312\\\\Lib\\\\collections\\\\__init__.py'>,\n",
       " 'types': <module 'types' from 'c:\\\\Users\\\\ansor.taghoev\\\\AppData\\\\Local\\\\Programs\\\\Python\\\\Python312\\\\Lib\\\\types.py'>,\n",
       " '_functools': <module '_functools' (built-in)>,\n",
       " 'functools': <module 'functools' from 'c:\\\\Users\\\\ansor.taghoev\\\\AppData\\\\Local\\\\Programs\\\\Python\\\\Python312\\\\Lib\\\\functools.py'>,\n",
       " '_weakrefset': <module '_weakrefset' from 'c:\\\\Users\\\\ansor.taghoev\\\\AppData\\\\Local\\\\Programs\\\\Python\\\\Python312\\\\Lib\\\\_weakrefset.py'>,\n",
       " 'threading': <module 'threading' from 'c:\\\\Users\\\\ansor.taghoev\\\\AppData\\\\Local\\\\Programs\\\\Python\\\\Python312\\\\Lib\\\\threading.py'>,\n",
       " 'importlib.util': <module 'importlib.util' (frozen)>,\n",
       " 'runpy': <module 'runpy' (frozen)>,\n",
       " 'posixpath': <module 'posixpath' (frozen)>,\n",
       " 'enum': <module 'enum' from 'c:\\\\Users\\\\ansor.taghoev\\\\AppData\\\\Local\\\\Programs\\\\Python\\\\Python312\\\\Lib\\\\enum.py'>,\n",
       " '_sre': <module '_sre' (built-in)>,\n",
       " 're._constants': <module 're._constants' from 'c:\\\\Users\\\\ansor.taghoev\\\\AppData\\\\Local\\\\Programs\\\\Python\\\\Python312\\\\Lib\\\\re\\\\_constants.py'>,\n",
       " 're._parser': <module 're._parser' from 'c:\\\\Users\\\\ansor.taghoev\\\\AppData\\\\Local\\\\Programs\\\\Python\\\\Python312\\\\Lib\\\\re\\\\_parser.py'>,\n",
       " 're._casefix': <module 're._casefix' from 'c:\\\\Users\\\\ansor.taghoev\\\\AppData\\\\Local\\\\Programs\\\\Python\\\\Python312\\\\Lib\\\\re\\\\_casefix.py'>,\n",
       " 're._compiler': <module 're._compiler' from 'c:\\\\Users\\\\ansor.taghoev\\\\AppData\\\\Local\\\\Programs\\\\Python\\\\Python312\\\\Lib\\\\re\\\\_compiler.py'>,\n",
       " 'copyreg': <module 'copyreg' from 'c:\\\\Users\\\\ansor.taghoev\\\\AppData\\\\Local\\\\Programs\\\\Python\\\\Python312\\\\Lib\\\\copyreg.py'>,\n",
       " 're': <module 're' from 'c:\\\\Users\\\\ansor.taghoev\\\\AppData\\\\Local\\\\Programs\\\\Python\\\\Python312\\\\Lib\\\\re\\\\__init__.py'>,\n",
       " 'fnmatch': <module 'fnmatch' from 'c:\\\\Users\\\\ansor.taghoev\\\\AppData\\\\Local\\\\Programs\\\\Python\\\\Python312\\\\Lib\\\\fnmatch.py'>,\n",
       " 'errno': <module 'errno' (built-in)>,\n",
       " 'urllib': <module 'urllib' from 'c:\\\\Users\\\\ansor.taghoev\\\\AppData\\\\Local\\\\Programs\\\\Python\\\\Python312\\\\Lib\\\\urllib\\\\__init__.py'>,\n",
       " 'math': <module 'math' (built-in)>,\n",
       " 'ipaddress': <module 'ipaddress' from 'c:\\\\Users\\\\ansor.taghoev\\\\AppData\\\\Local\\\\Programs\\\\Python\\\\Python312\\\\Lib\\\\ipaddress.py'>,\n",
       " 'urllib.parse': <module 'urllib.parse' from 'c:\\\\Users\\\\ansor.taghoev\\\\AppData\\\\Local\\\\Programs\\\\Python\\\\Python312\\\\Lib\\\\urllib\\\\parse.py'>,\n",
       " 'pathlib': <module 'pathlib' from 'c:\\\\Users\\\\ansor.taghoev\\\\AppData\\\\Local\\\\Programs\\\\Python\\\\Python312\\\\Lib\\\\pathlib.py'>,\n",
       " 'collections.abc': <module 'collections.abc' from 'c:\\\\Users\\\\ansor.taghoev\\\\AppData\\\\Local\\\\Programs\\\\Python\\\\Python312\\\\Lib\\\\collections\\\\abc.py'>,\n",
       " 'contextlib': <module 'contextlib' from 'c:\\\\Users\\\\ansor.taghoev\\\\AppData\\\\Local\\\\Programs\\\\Python\\\\Python312\\\\Lib\\\\contextlib.py'>,\n",
       " '_typing': <module '_typing' (built-in)>,\n",
       " 'typing.io': typing.io,\n",
       " 'typing.re': typing.re,\n",
       " 'typing': <module 'typing' from 'c:\\\\Users\\\\ansor.taghoev\\\\AppData\\\\Local\\\\Programs\\\\Python\\\\Python312\\\\Lib\\\\typing.py'>,\n",
       " 'ipykernel._version': <module 'ipykernel._version' from 'C:\\\\Users\\\\ansor.taghoev\\\\AppData\\\\Roaming\\\\Python\\\\Python312\\\\site-packages\\\\ipykernel\\\\_version.py'>,\n",
       " '__future__': <module '__future__' from 'c:\\\\Users\\\\ansor.taghoev\\\\AppData\\\\Local\\\\Programs\\\\Python\\\\Python312\\\\Lib\\\\__future__.py'>,\n",
       " '_json': <module '_json' (built-in)>,\n",
       " 'json.scanner': <module 'json.scanner' from 'c:\\\\Users\\\\ansor.taghoev\\\\AppData\\\\Local\\\\Programs\\\\Python\\\\Python312\\\\Lib\\\\json\\\\scanner.py'>,\n",
       " 'json.decoder': <module 'json.decoder' from 'c:\\\\Users\\\\ansor.taghoev\\\\AppData\\\\Local\\\\Programs\\\\Python\\\\Python312\\\\Lib\\\\json\\\\decoder.py'>,\n",
       " 'json.encoder': <module 'json.encoder' from 'c:\\\\Users\\\\ansor.taghoev\\\\AppData\\\\Local\\\\Programs\\\\Python\\\\Python312\\\\Lib\\\\json\\\\encoder.py'>,\n",
       " 'json': <module 'json' from 'c:\\\\Users\\\\ansor.taghoev\\\\AppData\\\\Local\\\\Programs\\\\Python\\\\Python312\\\\Lib\\\\json\\\\__init__.py'>,\n",
       " '_locale': <module '_locale' (built-in)>,\n",
       " 'locale': <module 'locale' from 'c:\\\\Users\\\\ansor.taghoev\\\\AppData\\\\Local\\\\Programs\\\\Python\\\\Python312\\\\Lib\\\\locale.py'>,\n",
       " 'signal': <module 'signal' from 'c:\\\\Users\\\\ansor.taghoev\\\\AppData\\\\Local\\\\Programs\\\\Python\\\\Python312\\\\Lib\\\\signal.py'>,\n",
       " 'msvcrt': <module 'msvcrt' (built-in)>,\n",
       " 'subprocess': <module 'subprocess' from 'c:\\\\Users\\\\ansor.taghoev\\\\AppData\\\\Local\\\\Programs\\\\Python\\\\Python312\\\\Lib\\\\subprocess.py'>,\n",
       " 'jupyter_client._version': <module 'jupyter_client._version' from 'C:\\\\Users\\\\ansor.taghoev\\\\AppData\\\\Roaming\\\\Python\\\\Python312\\\\site-packages\\\\jupyter_client\\\\_version.py'>,\n",
       " '_wmi': <module '_wmi' from 'c:\\\\Users\\\\ansor.taghoev\\\\AppData\\\\Local\\\\Programs\\\\Python\\\\Python312\\\\DLLs\\\\_wmi.pyd'>,\n",
       " 'platform': <module 'platform' from 'c:\\\\Users\\\\ansor.taghoev\\\\AppData\\\\Local\\\\Programs\\\\Python\\\\Python312\\\\Lib\\\\platform.py'>,\n",
       " 'zmq.backend.select': <module 'zmq.backend.select' from 'C:\\\\Users\\\\ansor.taghoev\\\\AppData\\\\Roaming\\\\Python\\\\Python312\\\\site-packages\\\\zmq\\\\backend\\\\select.py'>,\n",
       " 'cython_runtime': <module 'cython_runtime'>,\n",
       " '_cython_3_0_11': <module '_cython_3_0_11'>,\n",
       " 'weakref': <module 'weakref' from 'c:\\\\Users\\\\ansor.taghoev\\\\AppData\\\\Local\\\\Programs\\\\Python\\\\Python312\\\\Lib\\\\weakref.py'>,\n",
       " 'zmq.constants': <module 'zmq.constants' from 'C:\\\\Users\\\\ansor.taghoev\\\\AppData\\\\Roaming\\\\Python\\\\Python312\\\\site-packages\\\\zmq\\\\constants.py'>,\n",
       " 'zmq.error': <module 'zmq.error' from 'C:\\\\Users\\\\ansor.taghoev\\\\AppData\\\\Roaming\\\\Python\\\\Python312\\\\site-packages\\\\zmq\\\\error.py'>,\n",
       " 'zmq.backend.cython._zmq': <module 'zmq.backend.cython._zmq' from 'C:\\\\Users\\\\ansor.taghoev\\\\AppData\\\\Roaming\\\\Python\\\\Python312\\\\site-packages\\\\zmq\\\\backend\\\\cython\\\\_zmq.cp312-win_amd64.pyd'>,\n",
       " 'zmq.backend.cython': <module 'zmq.backend.cython' from 'C:\\\\Users\\\\ansor.taghoev\\\\AppData\\\\Roaming\\\\Python\\\\Python312\\\\site-packages\\\\zmq\\\\backend\\\\cython\\\\__init__.py'>,\n",
       " 'zmq.backend': <module 'zmq.backend' from 'C:\\\\Users\\\\ansor.taghoev\\\\AppData\\\\Roaming\\\\Python\\\\Python312\\\\site-packages\\\\zmq\\\\backend\\\\__init__.py'>,\n",
       " 'atexit': <module 'atexit' (built-in)>,\n",
       " 'zmq._typing': <module 'zmq._typing' from 'C:\\\\Users\\\\ansor.taghoev\\\\AppData\\\\Roaming\\\\Python\\\\Python312\\\\site-packages\\\\zmq\\\\_typing.py'>,\n",
       " 'zmq.utils': <module 'zmq.utils' from 'C:\\\\Users\\\\ansor.taghoev\\\\AppData\\\\Roaming\\\\Python\\\\Python312\\\\site-packages\\\\zmq\\\\utils\\\\__init__.py'>,\n",
       " 'zmq.utils.interop': <module 'zmq.utils.interop' from 'C:\\\\Users\\\\ansor.taghoev\\\\AppData\\\\Roaming\\\\Python\\\\Python312\\\\site-packages\\\\zmq\\\\utils\\\\interop.py'>,\n",
       " 'zmq.sugar.attrsettr': <module 'zmq.sugar.attrsettr' from 'C:\\\\Users\\\\ansor.taghoev\\\\AppData\\\\Roaming\\\\Python\\\\Python312\\\\site-packages\\\\zmq\\\\sugar\\\\attrsettr.py'>,\n",
       " '_struct': <module '_struct' (built-in)>,\n",
       " 'struct': <module 'struct' from 'c:\\\\Users\\\\ansor.taghoev\\\\AppData\\\\Local\\\\Programs\\\\Python\\\\Python312\\\\Lib\\\\struct.py'>,\n",
       " '_compat_pickle': <module '_compat_pickle' from 'c:\\\\Users\\\\ansor.taghoev\\\\AppData\\\\Local\\\\Programs\\\\Python\\\\Python312\\\\Lib\\\\_compat_pickle.py'>,\n",
       " '_pickle': <module '_pickle' (built-in)>,\n",
       " 'pickle': <module 'pickle' from 'c:\\\\Users\\\\ansor.taghoev\\\\AppData\\\\Local\\\\Programs\\\\Python\\\\Python312\\\\Lib\\\\pickle.py'>,\n",
       " '_bisect': <module '_bisect' (built-in)>,\n",
       " 'bisect': <module 'bisect' from 'c:\\\\Users\\\\ansor.taghoev\\\\AppData\\\\Local\\\\Programs\\\\Python\\\\Python312\\\\Lib\\\\bisect.py'>,\n",
       " '_random': <module '_random' (built-in)>,\n",
       " '_sha2': <module '_sha2' (built-in)>,\n",
       " 'random': <module 'random' from 'c:\\\\Users\\\\ansor.taghoev\\\\AppData\\\\Local\\\\Programs\\\\Python\\\\Python312\\\\Lib\\\\random.py'>,\n",
       " 'zmq.utils.jsonapi': <module 'zmq.utils.jsonapi' from 'C:\\\\Users\\\\ansor.taghoev\\\\AppData\\\\Roaming\\\\Python\\\\Python312\\\\site-packages\\\\zmq\\\\utils\\\\jsonapi.py'>,\n",
       " 'zmq.sugar.poll': <module 'zmq.sugar.poll' from 'C:\\\\Users\\\\ansor.taghoev\\\\AppData\\\\Roaming\\\\Python\\\\Python312\\\\site-packages\\\\zmq\\\\sugar\\\\poll.py'>,\n",
       " 'zmq.sugar.socket': <module 'zmq.sugar.socket' from 'C:\\\\Users\\\\ansor.taghoev\\\\AppData\\\\Roaming\\\\Python\\\\Python312\\\\site-packages\\\\zmq\\\\sugar\\\\socket.py'>,\n",
       " 'zmq.sugar.context': <module 'zmq.sugar.context' from 'C:\\\\Users\\\\ansor.taghoev\\\\AppData\\\\Roaming\\\\Python\\\\Python312\\\\site-packages\\\\zmq\\\\sugar\\\\context.py'>,\n",
       " 'zmq.sugar.frame': <module 'zmq.sugar.frame' from 'C:\\\\Users\\\\ansor.taghoev\\\\AppData\\\\Roaming\\\\Python\\\\Python312\\\\site-packages\\\\zmq\\\\sugar\\\\frame.py'>,\n",
       " 'zmq.sugar.tracker': <module 'zmq.sugar.tracker' from 'C:\\\\Users\\\\ansor.taghoev\\\\AppData\\\\Roaming\\\\Python\\\\Python312\\\\site-packages\\\\zmq\\\\sugar\\\\tracker.py'>,\n",
       " 'zmq.sugar.version': <module 'zmq.sugar.version' from 'C:\\\\Users\\\\ansor.taghoev\\\\AppData\\\\Roaming\\\\Python\\\\Python312\\\\site-packages\\\\zmq\\\\sugar\\\\version.py'>,\n",
       " 'zmq.sugar.stopwatch': <module 'zmq.sugar.stopwatch' from 'C:\\\\Users\\\\ansor.taghoev\\\\AppData\\\\Roaming\\\\Python\\\\Python312\\\\site-packages\\\\zmq\\\\sugar\\\\stopwatch.py'>,\n",
       " 'zmq.sugar': <module 'zmq.sugar' from 'C:\\\\Users\\\\ansor.taghoev\\\\AppData\\\\Roaming\\\\Python\\\\Python312\\\\site-packages\\\\zmq\\\\sugar\\\\__init__.py'>,\n",
       " 'zmq': <module 'zmq' from 'C:\\\\Users\\\\ansor.taghoev\\\\AppData\\\\Roaming\\\\Python\\\\Python312\\\\site-packages\\\\zmq\\\\__init__.py'>,\n",
       " 'concurrent': <module 'concurrent' from 'c:\\\\Users\\\\ansor.taghoev\\\\AppData\\\\Local\\\\Programs\\\\Python\\\\Python312\\\\Lib\\\\concurrent\\\\__init__.py'>,\n",
       " 'token': <module 'token' from 'c:\\\\Users\\\\ansor.taghoev\\\\AppData\\\\Local\\\\Programs\\\\Python\\\\Python312\\\\Lib\\\\token.py'>,\n",
       " '_tokenize': <module '_tokenize' (built-in)>,\n",
       " 'tokenize': <module 'tokenize' from 'c:\\\\Users\\\\ansor.taghoev\\\\AppData\\\\Local\\\\Programs\\\\Python\\\\Python312\\\\Lib\\\\tokenize.py'>,\n",
       " 'linecache': <module 'linecache' from 'c:\\\\Users\\\\ansor.taghoev\\\\AppData\\\\Local\\\\Programs\\\\Python\\\\Python312\\\\Lib\\\\linecache.py'>,\n",
       " 'textwrap': <module 'textwrap' from 'c:\\\\Users\\\\ansor.taghoev\\\\AppData\\\\Local\\\\Programs\\\\Python\\\\Python312\\\\Lib\\\\textwrap.py'>,\n",
       " 'traceback': <module 'traceback' from 'c:\\\\Users\\\\ansor.taghoev\\\\AppData\\\\Local\\\\Programs\\\\Python\\\\Python312\\\\Lib\\\\traceback.py'>,\n",
       " '_string': <module '_string' (built-in)>,\n",
       " 'string': <module 'string' from 'c:\\\\Users\\\\ansor.taghoev\\\\AppData\\\\Local\\\\Programs\\\\Python\\\\Python312\\\\Lib\\\\string.py'>,\n",
       " 'logging': <module 'logging' from 'c:\\\\Users\\\\ansor.taghoev\\\\AppData\\\\Local\\\\Programs\\\\Python\\\\Python312\\\\Lib\\\\logging\\\\__init__.py'>,\n",
       " 'concurrent.futures._base': <module 'concurrent.futures._base' from 'c:\\\\Users\\\\ansor.taghoev\\\\AppData\\\\Local\\\\Programs\\\\Python\\\\Python312\\\\Lib\\\\concurrent\\\\futures\\\\_base.py'>,\n",
       " 'concurrent.futures': <module 'concurrent.futures' from 'c:\\\\Users\\\\ansor.taghoev\\\\AppData\\\\Local\\\\Programs\\\\Python\\\\Python312\\\\Lib\\\\concurrent\\\\futures\\\\__init__.py'>,\n",
       " '_heapq': <module '_heapq' (built-in)>,\n",
       " 'heapq': <module 'heapq' from 'c:\\\\Users\\\\ansor.taghoev\\\\AppData\\\\Local\\\\Programs\\\\Python\\\\Python312\\\\Lib\\\\heapq.py'>,\n",
       " '_socket': <module '_socket' from 'c:\\\\Users\\\\ansor.taghoev\\\\AppData\\\\Local\\\\Programs\\\\Python\\\\Python312\\\\DLLs\\\\_socket.pyd'>,\n",
       " 'select': <module 'select' from 'c:\\\\Users\\\\ansor.taghoev\\\\AppData\\\\Local\\\\Programs\\\\Python\\\\Python312\\\\DLLs\\\\select.pyd'>,\n",
       " 'selectors': <module 'selectors' from 'c:\\\\Users\\\\ansor.taghoev\\\\AppData\\\\Local\\\\Programs\\\\Python\\\\Python312\\\\Lib\\\\selectors.py'>,\n",
       " 'socket': <module 'socket' from 'c:\\\\Users\\\\ansor.taghoev\\\\AppData\\\\Local\\\\Programs\\\\Python\\\\Python312\\\\Lib\\\\socket.py'>,\n",
       " '_ssl': <module '_ssl' from 'c:\\\\Users\\\\ansor.taghoev\\\\AppData\\\\Local\\\\Programs\\\\Python\\\\Python312\\\\DLLs\\\\_ssl.pyd'>,\n",
       " 'binascii': <module 'binascii' (built-in)>,\n",
       " 'base64': <module 'base64' from 'c:\\\\Users\\\\ansor.taghoev\\\\AppData\\\\Local\\\\Programs\\\\Python\\\\Python312\\\\Lib\\\\base64.py'>,\n",
       " 'ssl': <module 'ssl' from 'c:\\\\Users\\\\ansor.taghoev\\\\AppData\\\\Local\\\\Programs\\\\Python\\\\Python312\\\\Lib\\\\ssl.py'>,\n",
       " 'asyncio.constants': <module 'asyncio.constants' from 'c:\\\\Users\\\\ansor.taghoev\\\\AppData\\\\Local\\\\Programs\\\\Python\\\\Python312\\\\Lib\\\\asyncio\\\\constants.py'>,\n",
       " '_ast': <module '_ast' (built-in)>,\n",
       " 'ast': <module 'ast' from 'c:\\\\Users\\\\ansor.taghoev\\\\AppData\\\\Local\\\\Programs\\\\Python\\\\Python312\\\\Lib\\\\ast.py'>,\n",
       " '_opcode': <module '_opcode' (built-in)>,\n",
       " 'opcode': <module 'opcode' from 'c:\\\\Users\\\\ansor.taghoev\\\\AppData\\\\Local\\\\Programs\\\\Python\\\\Python312\\\\Lib\\\\opcode.py'>,\n",
       " 'dis': <module 'dis' from 'c:\\\\Users\\\\ansor.taghoev\\\\AppData\\\\Local\\\\Programs\\\\Python\\\\Python312\\\\Lib\\\\dis.py'>,\n",
       " 'inspect': <module 'inspect' from 'c:\\\\Users\\\\ansor.taghoev\\\\AppData\\\\Local\\\\Programs\\\\Python\\\\Python312\\\\Lib\\\\inspect.py'>,\n",
       " 'asyncio.coroutines': <module 'asyncio.coroutines' from 'c:\\\\Users\\\\ansor.taghoev\\\\AppData\\\\Local\\\\Programs\\\\Python\\\\Python312\\\\Lib\\\\asyncio\\\\coroutines.py'>,\n",
       " '_contextvars': <module '_contextvars' (built-in)>,\n",
       " 'contextvars': <module 'contextvars' from 'c:\\\\Users\\\\ansor.taghoev\\\\AppData\\\\Local\\\\Programs\\\\Python\\\\Python312\\\\Lib\\\\contextvars.py'>,\n",
       " 'asyncio.format_helpers': <module 'asyncio.format_helpers' from 'c:\\\\Users\\\\ansor.taghoev\\\\AppData\\\\Local\\\\Programs\\\\Python\\\\Python312\\\\Lib\\\\asyncio\\\\format_helpers.py'>,\n",
       " 'asyncio.base_futures': <module 'asyncio.base_futures' from 'c:\\\\Users\\\\ansor.taghoev\\\\AppData\\\\Local\\\\Programs\\\\Python\\\\Python312\\\\Lib\\\\asyncio\\\\base_futures.py'>,\n",
       " 'asyncio.exceptions': <module 'asyncio.exceptions' from 'c:\\\\Users\\\\ansor.taghoev\\\\AppData\\\\Local\\\\Programs\\\\Python\\\\Python312\\\\Lib\\\\asyncio\\\\exceptions.py'>,\n",
       " 'asyncio.base_tasks': <module 'asyncio.base_tasks' from 'c:\\\\Users\\\\ansor.taghoev\\\\AppData\\\\Local\\\\Programs\\\\Python\\\\Python312\\\\Lib\\\\asyncio\\\\base_tasks.py'>,\n",
       " '_asyncio': <module '_asyncio' from 'c:\\\\Users\\\\ansor.taghoev\\\\AppData\\\\Local\\\\Programs\\\\Python\\\\Python312\\\\DLLs\\\\_asyncio.pyd'>,\n",
       " 'asyncio.events': <module 'asyncio.events' from 'c:\\\\Users\\\\ansor.taghoev\\\\AppData\\\\Local\\\\Programs\\\\Python\\\\Python312\\\\Lib\\\\asyncio\\\\events.py'>,\n",
       " 'asyncio.futures': <module 'asyncio.futures' from 'c:\\\\Users\\\\ansor.taghoev\\\\AppData\\\\Local\\\\Programs\\\\Python\\\\Python312\\\\Lib\\\\asyncio\\\\futures.py'>,\n",
       " 'asyncio.protocols': <module 'asyncio.protocols' from 'c:\\\\Users\\\\ansor.taghoev\\\\AppData\\\\Local\\\\Programs\\\\Python\\\\Python312\\\\Lib\\\\asyncio\\\\protocols.py'>,\n",
       " 'asyncio.transports': <module 'asyncio.transports' from 'c:\\\\Users\\\\ansor.taghoev\\\\AppData\\\\Local\\\\Programs\\\\Python\\\\Python312\\\\Lib\\\\asyncio\\\\transports.py'>,\n",
       " 'asyncio.log': <module 'asyncio.log' from 'c:\\\\Users\\\\ansor.taghoev\\\\AppData\\\\Local\\\\Programs\\\\Python\\\\Python312\\\\Lib\\\\asyncio\\\\log.py'>,\n",
       " 'asyncio.sslproto': <module 'asyncio.sslproto' from 'c:\\\\Users\\\\ansor.taghoev\\\\AppData\\\\Local\\\\Programs\\\\Python\\\\Python312\\\\Lib\\\\asyncio\\\\sslproto.py'>,\n",
       " 'asyncio.mixins': <module 'asyncio.mixins' from 'c:\\\\Users\\\\ansor.taghoev\\\\AppData\\\\Local\\\\Programs\\\\Python\\\\Python312\\\\Lib\\\\asyncio\\\\mixins.py'>,\n",
       " 'asyncio.locks': <module 'asyncio.locks' from 'c:\\\\Users\\\\ansor.taghoev\\\\AppData\\\\Local\\\\Programs\\\\Python\\\\Python312\\\\Lib\\\\asyncio\\\\locks.py'>,\n",
       " 'asyncio.timeouts': <module 'asyncio.timeouts' from 'c:\\\\Users\\\\ansor.taghoev\\\\AppData\\\\Local\\\\Programs\\\\Python\\\\Python312\\\\Lib\\\\asyncio\\\\timeouts.py'>,\n",
       " 'asyncio.tasks': <module 'asyncio.tasks' from 'c:\\\\Users\\\\ansor.taghoev\\\\AppData\\\\Local\\\\Programs\\\\Python\\\\Python312\\\\Lib\\\\asyncio\\\\tasks.py'>,\n",
       " 'asyncio.staggered': <module 'asyncio.staggered' from 'c:\\\\Users\\\\ansor.taghoev\\\\AppData\\\\Local\\\\Programs\\\\Python\\\\Python312\\\\Lib\\\\asyncio\\\\staggered.py'>,\n",
       " 'asyncio.trsock': <module 'asyncio.trsock' from 'c:\\\\Users\\\\ansor.taghoev\\\\AppData\\\\Local\\\\Programs\\\\Python\\\\Python312\\\\Lib\\\\asyncio\\\\trsock.py'>,\n",
       " 'asyncio.base_events': <module 'asyncio.base_events' from 'c:\\\\Users\\\\ansor.taghoev\\\\AppData\\\\Local\\\\Programs\\\\Python\\\\Python312\\\\Lib\\\\asyncio\\\\base_events.py'>,\n",
       " 'asyncio.runners': <module 'asyncio.runners' from 'c:\\\\Users\\\\ansor.taghoev\\\\AppData\\\\Local\\\\Programs\\\\Python\\\\Python312\\\\Lib\\\\asyncio\\\\runners.py'>,\n",
       " 'asyncio.queues': <module 'asyncio.queues' from 'c:\\\\Users\\\\ansor.taghoev\\\\AppData\\\\Local\\\\Programs\\\\Python\\\\Python312\\\\Lib\\\\asyncio\\\\queues.py'>,\n",
       " 'asyncio.streams': <module 'asyncio.streams' from 'c:\\\\Users\\\\ansor.taghoev\\\\AppData\\\\Local\\\\Programs\\\\Python\\\\Python312\\\\Lib\\\\asyncio\\\\streams.py'>,\n",
       " 'asyncio.subprocess': <module 'asyncio.subprocess' from 'c:\\\\Users\\\\ansor.taghoev\\\\AppData\\\\Local\\\\Programs\\\\Python\\\\Python312\\\\Lib\\\\asyncio\\\\subprocess.py'>,\n",
       " 'asyncio.taskgroups': <module 'asyncio.taskgroups' from 'c:\\\\Users\\\\ansor.taghoev\\\\AppData\\\\Local\\\\Programs\\\\Python\\\\Python312\\\\Lib\\\\asyncio\\\\taskgroups.py'>,\n",
       " 'asyncio.threads': <module 'asyncio.threads' from 'c:\\\\Users\\\\ansor.taghoev\\\\AppData\\\\Local\\\\Programs\\\\Python\\\\Python312\\\\Lib\\\\asyncio\\\\threads.py'>,\n",
       " '_overlapped': <module '_overlapped' from 'c:\\\\Users\\\\ansor.taghoev\\\\AppData\\\\Local\\\\Programs\\\\Python\\\\Python312\\\\DLLs\\\\_overlapped.pyd'>,\n",
       " 'asyncio.base_subprocess': <module 'asyncio.base_subprocess' from 'c:\\\\Users\\\\ansor.taghoev\\\\AppData\\\\Local\\\\Programs\\\\Python\\\\Python312\\\\Lib\\\\asyncio\\\\base_subprocess.py'>,\n",
       " 'asyncio.proactor_events': <module 'asyncio.proactor_events' from 'c:\\\\Users\\\\ansor.taghoev\\\\AppData\\\\Local\\\\Programs\\\\Python\\\\Python312\\\\Lib\\\\asyncio\\\\proactor_events.py'>,\n",
       " 'asyncio.selector_events': <module 'asyncio.selector_events' from 'c:\\\\Users\\\\ansor.taghoev\\\\AppData\\\\Local\\\\Programs\\\\Python\\\\Python312\\\\Lib\\\\asyncio\\\\selector_events.py'>,\n",
       " 'zlib': <module 'zlib' (built-in)>,\n",
       " '_compression': <module '_compression' from 'c:\\\\Users\\\\ansor.taghoev\\\\AppData\\\\Local\\\\Programs\\\\Python\\\\Python312\\\\Lib\\\\_compression.py'>,\n",
       " '_bz2': <module '_bz2' from 'c:\\\\Users\\\\ansor.taghoev\\\\AppData\\\\Local\\\\Programs\\\\Python\\\\Python312\\\\DLLs\\\\_bz2.pyd'>,\n",
       " 'bz2': <module 'bz2' from 'c:\\\\Users\\\\ansor.taghoev\\\\AppData\\\\Local\\\\Programs\\\\Python\\\\Python312\\\\Lib\\\\bz2.py'>,\n",
       " '_lzma': <module '_lzma' from 'c:\\\\Users\\\\ansor.taghoev\\\\AppData\\\\Local\\\\Programs\\\\Python\\\\Python312\\\\DLLs\\\\_lzma.pyd'>,\n",
       " 'lzma': <module 'lzma' from 'c:\\\\Users\\\\ansor.taghoev\\\\AppData\\\\Local\\\\Programs\\\\Python\\\\Python312\\\\Lib\\\\lzma.py'>,\n",
       " 'shutil': <module 'shutil' from 'c:\\\\Users\\\\ansor.taghoev\\\\AppData\\\\Local\\\\Programs\\\\Python\\\\Python312\\\\Lib\\\\shutil.py'>,\n",
       " 'tempfile': <module 'tempfile' from 'c:\\\\Users\\\\ansor.taghoev\\\\AppData\\\\Local\\\\Programs\\\\Python\\\\Python312\\\\Lib\\\\tempfile.py'>,\n",
       " 'asyncio.windows_utils': <module 'asyncio.windows_utils' from 'c:\\\\Users\\\\ansor.taghoev\\\\AppData\\\\Local\\\\Programs\\\\Python\\\\Python312\\\\Lib\\\\asyncio\\\\windows_utils.py'>,\n",
       " 'asyncio.windows_events': <module 'asyncio.windows_events' from 'c:\\\\Users\\\\ansor.taghoev\\\\AppData\\\\Local\\\\Programs\\\\Python\\\\Python312\\\\Lib\\\\asyncio\\\\windows_events.py'>,\n",
       " 'asyncio': <module 'asyncio' from 'c:\\\\Users\\\\ansor.taghoev\\\\AppData\\\\Local\\\\Programs\\\\Python\\\\Python312\\\\Lib\\\\asyncio\\\\__init__.py'>,\n",
       " 'zmq._future': <module 'zmq._future' from 'C:\\\\Users\\\\ansor.taghoev\\\\AppData\\\\Roaming\\\\Python\\\\Python312\\\\site-packages\\\\zmq\\\\_future.py'>,\n",
       " 'zmq.asyncio': <module 'zmq.asyncio' from 'C:\\\\Users\\\\ansor.taghoev\\\\AppData\\\\Roaming\\\\Python\\\\Python312\\\\site-packages\\\\zmq\\\\asyncio.py'>,\n",
       " 'traitlets.utils': <module 'traitlets.utils' from 'C:\\\\Users\\\\ansor.taghoev\\\\AppData\\\\Roaming\\\\Python\\\\Python312\\\\site-packages\\\\traitlets\\\\utils\\\\__init__.py'>,\n",
       " 'traitlets.utils.bunch': <module 'traitlets.utils.bunch' from 'C:\\\\Users\\\\ansor.taghoev\\\\AppData\\\\Roaming\\\\Python\\\\Python312\\\\site-packages\\\\traitlets\\\\utils\\\\bunch.py'>,\n",
       " 'traitlets.utils.descriptions': <module 'traitlets.utils.descriptions' from 'C:\\\\Users\\\\ansor.taghoev\\\\AppData\\\\Roaming\\\\Python\\\\Python312\\\\site-packages\\\\traitlets\\\\utils\\\\descriptions.py'>,\n",
       " 'traitlets.utils.getargspec': <module 'traitlets.utils.getargspec' from 'C:\\\\Users\\\\ansor.taghoev\\\\AppData\\\\Roaming\\\\Python\\\\Python312\\\\site-packages\\\\traitlets\\\\utils\\\\getargspec.py'>,\n",
       " 'traitlets.utils.importstring': <module 'traitlets.utils.importstring' from 'C:\\\\Users\\\\ansor.taghoev\\\\AppData\\\\Roaming\\\\Python\\\\Python312\\\\site-packages\\\\traitlets\\\\utils\\\\importstring.py'>,\n",
       " 'traitlets.utils.sentinel': <module 'traitlets.utils.sentinel' from 'C:\\\\Users\\\\ansor.taghoev\\\\AppData\\\\Roaming\\\\Python\\\\Python312\\\\site-packages\\\\traitlets\\\\utils\\\\sentinel.py'>,\n",
       " 'traitlets.utils.warnings': <module 'traitlets.utils.warnings' from 'C:\\\\Users\\\\ansor.taghoev\\\\AppData\\\\Roaming\\\\Python\\\\Python312\\\\site-packages\\\\traitlets\\\\utils\\\\warnings.py'>,\n",
       " 'traitlets.traitlets': <module 'traitlets.traitlets' from 'C:\\\\Users\\\\ansor.taghoev\\\\AppData\\\\Roaming\\\\Python\\\\Python312\\\\site-packages\\\\traitlets\\\\traitlets.py'>,\n",
       " 'traitlets._version': <module 'traitlets._version' from 'C:\\\\Users\\\\ansor.taghoev\\\\AppData\\\\Roaming\\\\Python\\\\Python312\\\\site-packages\\\\traitlets\\\\_version.py'>,\n",
       " 'copy': <module 'copy' from 'c:\\\\Users\\\\ansor.taghoev\\\\AppData\\\\Local\\\\Programs\\\\Python\\\\Python312\\\\Lib\\\\copy.py'>,\n",
       " 'traitlets.utils.decorators': <module 'traitlets.utils.decorators' from 'C:\\\\Users\\\\ansor.taghoev\\\\AppData\\\\Roaming\\\\Python\\\\Python312\\\\site-packages\\\\traitlets\\\\utils\\\\decorators.py'>,\n",
       " 'traitlets': <module 'traitlets' from 'C:\\\\Users\\\\ansor.taghoev\\\\AppData\\\\Roaming\\\\Python\\\\Python312\\\\site-packages\\\\traitlets\\\\__init__.py'>,\n",
       " '_queue': <module '_queue' from 'c:\\\\Users\\\\ansor.taghoev\\\\AppData\\\\Local\\\\Programs\\\\Python\\\\Python312\\\\DLLs\\\\_queue.pyd'>,\n",
       " 'queue': <module 'queue' from 'c:\\\\Users\\\\ansor.taghoev\\\\AppData\\\\Local\\\\Programs\\\\Python\\\\Python312\\\\Lib\\\\queue.py'>,\n",
       " 'jupyter_core.version': <module 'jupyter_core.version' from 'C:\\\\Users\\\\ansor.taghoev\\\\AppData\\\\Roaming\\\\Python\\\\Python312\\\\site-packages\\\\jupyter_core\\\\version.py'>,\n",
       " 'jupyter_core': <module 'jupyter_core' from 'C:\\\\Users\\\\ansor.taghoev\\\\AppData\\\\Roaming\\\\Python\\\\Python312\\\\site-packages\\\\jupyter_core\\\\__init__.py'>,\n",
       " 'jupyter_core.utils': <module 'jupyter_core.utils' from 'C:\\\\Users\\\\ansor.taghoev\\\\AppData\\\\Roaming\\\\Python\\\\Python312\\\\site-packages\\\\jupyter_core\\\\utils\\\\__init__.py'>,\n",
       " 'jupyter_client.channelsabc': <module 'jupyter_client.channelsabc' from 'C:\\\\Users\\\\ansor.taghoev\\\\AppData\\\\Roaming\\\\Python\\\\Python312\\\\site-packages\\\\jupyter_client\\\\channelsabc.py'>,\n",
       " '_hashlib': <module '_hashlib' from 'c:\\\\Users\\\\ansor.taghoev\\\\AppData\\\\Local\\\\Programs\\\\Python\\\\Python312\\\\DLLs\\\\_hashlib.pyd'>,\n",
       " '_blake2': <module '_blake2' (built-in)>,\n",
       " 'hashlib': <module 'hashlib' from 'c:\\\\Users\\\\ansor.taghoev\\\\AppData\\\\Local\\\\Programs\\\\Python\\\\Python312\\\\Lib\\\\hashlib.py'>,\n",
       " 'hmac': <module 'hmac' from 'c:\\\\Users\\\\ansor.taghoev\\\\AppData\\\\Local\\\\Programs\\\\Python\\\\Python312\\\\Lib\\\\hmac.py'>,\n",
       " 'dataclasses': <module 'dataclasses' from 'c:\\\\Users\\\\ansor.taghoev\\\\AppData\\\\Local\\\\Programs\\\\Python\\\\Python312\\\\Lib\\\\dataclasses.py'>,\n",
       " 'pprint': <module 'pprint' from 'c:\\\\Users\\\\ansor.taghoev\\\\AppData\\\\Local\\\\Programs\\\\Python\\\\Python312\\\\Lib\\\\pprint.py'>,\n",
       " '_datetime': <module '_datetime' (built-in)>,\n",
       " 'datetime': <module 'datetime' from 'c:\\\\Users\\\\ansor.taghoev\\\\AppData\\\\Local\\\\Programs\\\\Python\\\\Python312\\\\Lib\\\\datetime.py'>,\n",
       " 'tornado': <module 'tornado' from 'C:\\\\Users\\\\ansor.taghoev\\\\AppData\\\\Roaming\\\\Python\\\\Python312\\\\site-packages\\\\tornado\\\\__init__.py'>,\n",
       " 'numbers': <module 'numbers' from 'c:\\\\Users\\\\ansor.taghoev\\\\AppData\\\\Local\\\\Programs\\\\Python\\\\Python312\\\\Lib\\\\numbers.py'>,\n",
       " 'logging.handlers': <module 'logging.handlers' from 'c:\\\\Users\\\\ansor.taghoev\\\\AppData\\\\Local\\\\Programs\\\\Python\\\\Python312\\\\Lib\\\\logging\\\\handlers.py'>,\n",
       " 'html.entities': <module 'html.entities' from 'c:\\\\Users\\\\ansor.taghoev\\\\AppData\\\\Local\\\\Programs\\\\Python\\\\Python312\\\\Lib\\\\html\\\\entities.py'>,\n",
       " 'html': <module 'html' from 'c:\\\\Users\\\\ansor.taghoev\\\\AppData\\\\Local\\\\Programs\\\\Python\\\\Python312\\\\Lib\\\\html\\\\__init__.py'>,\n",
       " 'array': <module 'array' (built-in)>,\n",
       " 'tornado.speedups': <module 'tornado.speedups' from 'C:\\\\Users\\\\ansor.taghoev\\\\AppData\\\\Roaming\\\\Python\\\\Python312\\\\site-packages\\\\tornado\\\\speedups.pyd'>,\n",
       " 'tornado.util': <module 'tornado.util' from 'C:\\\\Users\\\\ansor.taghoev\\\\AppData\\\\Roaming\\\\Python\\\\Python312\\\\site-packages\\\\tornado\\\\util.py'>,\n",
       " 'tornado.escape': <module 'tornado.escape' from 'C:\\\\Users\\\\ansor.taghoev\\\\AppData\\\\Roaming\\\\Python\\\\Python312\\\\site-packages\\\\tornado\\\\escape.py'>,\n",
       " 'colorama.ansi': <module 'colorama.ansi' from 'c:\\\\Users\\\\ansor.taghoev\\\\AppData\\\\Local\\\\Programs\\\\Python\\\\Python312\\\\Lib\\\\site-packages\\\\colorama\\\\ansi.py'>,\n",
       " '_ctypes': <module '_ctypes' from 'c:\\\\Users\\\\ansor.taghoev\\\\AppData\\\\Local\\\\Programs\\\\Python\\\\Python312\\\\DLLs\\\\_ctypes.pyd'>,\n",
       " 'ctypes._endian': <module 'ctypes._endian' from 'c:\\\\Users\\\\ansor.taghoev\\\\AppData\\\\Local\\\\Programs\\\\Python\\\\Python312\\\\Lib\\\\ctypes\\\\_endian.py'>,\n",
       " 'ctypes': <module 'ctypes' from 'c:\\\\Users\\\\ansor.taghoev\\\\AppData\\\\Local\\\\Programs\\\\Python\\\\Python312\\\\Lib\\\\ctypes\\\\__init__.py'>,\n",
       " 'ctypes.wintypes': <module 'ctypes.wintypes' from 'c:\\\\Users\\\\ansor.taghoev\\\\AppData\\\\Local\\\\Programs\\\\Python\\\\Python312\\\\Lib\\\\ctypes\\\\wintypes.py'>,\n",
       " 'colorama.win32': <module 'colorama.win32' from 'c:\\\\Users\\\\ansor.taghoev\\\\AppData\\\\Local\\\\Programs\\\\Python\\\\Python312\\\\Lib\\\\site-packages\\\\colorama\\\\win32.py'>,\n",
       " 'colorama.winterm': <module 'colorama.winterm' from 'c:\\\\Users\\\\ansor.taghoev\\\\AppData\\\\Local\\\\Programs\\\\Python\\\\Python312\\\\Lib\\\\site-packages\\\\colorama\\\\winterm.py'>,\n",
       " 'colorama.ansitowin32': <module 'colorama.ansitowin32' from 'c:\\\\Users\\\\ansor.taghoev\\\\AppData\\\\Local\\\\Programs\\\\Python\\\\Python312\\\\Lib\\\\site-packages\\\\colorama\\\\ansitowin32.py'>,\n",
       " 'colorama.initialise': <module 'colorama.initialise' from 'c:\\\\Users\\\\ansor.taghoev\\\\AppData\\\\Local\\\\Programs\\\\Python\\\\Python312\\\\Lib\\\\site-packages\\\\colorama\\\\initialise.py'>,\n",
       " 'colorama': <module 'colorama' from 'c:\\\\Users\\\\ansor.taghoev\\\\AppData\\\\Local\\\\Programs\\\\Python\\\\Python312\\\\Lib\\\\site-packages\\\\colorama\\\\__init__.py'>,\n",
       " 'tornado.log': <module 'tornado.log' from 'C:\\\\Users\\\\ansor.taghoev\\\\AppData\\\\Roaming\\\\Python\\\\Python312\\\\site-packages\\\\tornado\\\\log.py'>,\n",
       " 'tornado.concurrent': <module 'tornado.concurrent' from 'C:\\\\Users\\\\ansor.taghoev\\\\AppData\\\\Roaming\\\\Python\\\\Python312\\\\site-packages\\\\tornado\\\\concurrent.py'>,\n",
       " 'tornado.ioloop': <module 'tornado.ioloop' from 'C:\\\\Users\\\\ansor.taghoev\\\\AppData\\\\Roaming\\\\Python\\\\Python312\\\\site-packages\\\\tornado\\\\ioloop.py'>,\n",
       " 'socketserver': <module 'socketserver' from 'c:\\\\Users\\\\ansor.taghoev\\\\AppData\\\\Local\\\\Programs\\\\Python\\\\Python312\\\\Lib\\\\socketserver.py'>,\n",
       " 'logging.config': <module 'logging.config' from 'c:\\\\Users\\\\ansor.taghoev\\\\AppData\\\\Local\\\\Programs\\\\Python\\\\Python312\\\\Lib\\\\logging\\\\config.py'>,\n",
       " 'traitlets.utils.text': <module 'traitlets.utils.text' from 'C:\\\\Users\\\\ansor.taghoev\\\\AppData\\\\Roaming\\\\Python\\\\Python312\\\\site-packages\\\\traitlets\\\\utils\\\\text.py'>,\n",
       " 'gettext': <module 'gettext' from 'c:\\\\Users\\\\ansor.taghoev\\\\AppData\\\\Local\\\\Programs\\\\Python\\\\Python312\\\\Lib\\\\gettext.py'>,\n",
       " 'argparse': <module 'argparse' from 'c:\\\\Users\\\\ansor.taghoev\\\\AppData\\\\Local\\\\Programs\\\\Python\\\\Python312\\\\Lib\\\\argparse.py'>,\n",
       " 'traitlets.config.loader': <module 'traitlets.config.loader' from 'C:\\\\Users\\\\ansor.taghoev\\\\AppData\\\\Roaming\\\\Python\\\\Python312\\\\site-packages\\\\traitlets\\\\config\\\\loader.py'>,\n",
       " 'traitlets.config.configurable': <module 'traitlets.config.configurable' from 'C:\\\\Users\\\\ansor.taghoev\\\\AppData\\\\Roaming\\\\Python\\\\Python312\\\\site-packages\\\\traitlets\\\\config\\\\configurable.py'>,\n",
       " 'traitlets.utils.nested_update': <module 'traitlets.utils.nested_update' from 'C:\\\\Users\\\\ansor.taghoev\\\\AppData\\\\Roaming\\\\Python\\\\Python312\\\\site-packages\\\\traitlets\\\\utils\\\\nested_update.py'>,\n",
       " 'traitlets.config.application': <module 'traitlets.config.application' from 'C:\\\\Users\\\\ansor.taghoev\\\\AppData\\\\Roaming\\\\Python\\\\Python312\\\\site-packages\\\\traitlets\\\\config\\\\application.py'>,\n",
       " 'traitlets.config': <module 'traitlets.config' from 'C:\\\\Users\\\\ansor.taghoev\\\\AppData\\\\Roaming\\\\Python\\\\Python312\\\\site-packages\\\\traitlets\\\\config\\\\__init__.py'>,\n",
       " 'traitlets.log': <module 'traitlets.log' from 'C:\\\\Users\\\\ansor.taghoev\\\\AppData\\\\Roaming\\\\Python\\\\Python312\\\\site-packages\\\\traitlets\\\\log.py'>,\n",
       " 'zmq.eventloop': <module 'zmq.eventloop' from 'C:\\\\Users\\\\ansor.taghoev\\\\AppData\\\\Roaming\\\\Python\\\\Python312\\\\site-packages\\\\zmq\\\\eventloop\\\\__init__.py'>,\n",
       " 'zmq.eventloop.zmqstream': <module 'zmq.eventloop.zmqstream' from 'C:\\\\Users\\\\ansor.taghoev\\\\AppData\\\\Roaming\\\\Python\\\\Python312\\\\site-packages\\\\zmq\\\\eventloop\\\\zmqstream.py'>,\n",
       " 'jupyter_client.adapter': <module 'jupyter_client.adapter' from 'C:\\\\Users\\\\ansor.taghoev\\\\AppData\\\\Roaming\\\\Python\\\\Python312\\\\site-packages\\\\jupyter_client\\\\adapter.py'>,\n",
       " 'dateutil._version': <module 'dateutil._version' from 'C:\\\\Users\\\\ansor.taghoev\\\\AppData\\\\Roaming\\\\Python\\\\Python312\\\\site-packages\\\\dateutil\\\\_version.py'>,\n",
       " 'dateutil': <module 'dateutil' from 'C:\\\\Users\\\\ansor.taghoev\\\\AppData\\\\Roaming\\\\Python\\\\Python312\\\\site-packages\\\\dateutil\\\\__init__.py'>,\n",
       " 'calendar': <module 'calendar' from 'c:\\\\Users\\\\ansor.taghoev\\\\AppData\\\\Local\\\\Programs\\\\Python\\\\Python312\\\\Lib\\\\calendar.py'>,\n",
       " 'six': <module 'six' from 'C:\\\\Users\\\\ansor.taghoev\\\\AppData\\\\Roaming\\\\Python\\\\Python312\\\\site-packages\\\\six.py'>,\n",
       " '_decimal': <module '_decimal' from 'c:\\\\Users\\\\ansor.taghoev\\\\AppData\\\\Local\\\\Programs\\\\Python\\\\Python312\\\\DLLs\\\\_decimal.pyd'>,\n",
       " 'decimal': <module 'decimal' from 'c:\\\\Users\\\\ansor.taghoev\\\\AppData\\\\Local\\\\Programs\\\\Python\\\\Python312\\\\Lib\\\\decimal.py'>,\n",
       " 'dateutil._common': <module 'dateutil._common' from 'C:\\\\Users\\\\ansor.taghoev\\\\AppData\\\\Roaming\\\\Python\\\\Python312\\\\site-packages\\\\dateutil\\\\_common.py'>,\n",
       " 'dateutil.relativedelta': <module 'dateutil.relativedelta' from 'C:\\\\Users\\\\ansor.taghoev\\\\AppData\\\\Roaming\\\\Python\\\\Python312\\\\site-packages\\\\dateutil\\\\relativedelta.py'>,\n",
       " 'six.moves': <module 'six.moves' (<six._SixMetaPathImporter object at 0x00000235DB4A9BE0>)>,\n",
       " 'dateutil.tz._common': <module 'dateutil.tz._common' from 'C:\\\\Users\\\\ansor.taghoev\\\\AppData\\\\Roaming\\\\Python\\\\Python312\\\\site-packages\\\\dateutil\\\\tz\\\\_common.py'>,\n",
       " 'dateutil.tz._factories': <module 'dateutil.tz._factories' from 'C:\\\\Users\\\\ansor.taghoev\\\\AppData\\\\Roaming\\\\Python\\\\Python312\\\\site-packages\\\\dateutil\\\\tz\\\\_factories.py'>,\n",
       " 'dateutil.tz.win': <module 'dateutil.tz.win' from 'C:\\\\Users\\\\ansor.taghoev\\\\AppData\\\\Roaming\\\\Python\\\\Python312\\\\site-packages\\\\dateutil\\\\tz\\\\win.py'>,\n",
       " 'dateutil.tz.tz': <module 'dateutil.tz.tz' from 'C:\\\\Users\\\\ansor.taghoev\\\\AppData\\\\Roaming\\\\Python\\\\Python312\\\\site-packages\\\\dateutil\\\\tz\\\\tz.py'>,\n",
       " 'dateutil.tz': <module 'dateutil.tz' from 'C:\\\\Users\\\\ansor.taghoev\\\\AppData\\\\Roaming\\\\Python\\\\Python312\\\\site-packages\\\\dateutil\\\\tz\\\\__init__.py'>,\n",
       " 'dateutil.parser._parser': <module 'dateutil.parser._parser' from 'C:\\\\Users\\\\ansor.taghoev\\\\AppData\\\\Roaming\\\\Python\\\\Python312\\\\site-packages\\\\dateutil\\\\parser\\\\_parser.py'>,\n",
       " 'dateutil.parser.isoparser': <module 'dateutil.parser.isoparser' from 'C:\\\\Users\\\\ansor.taghoev\\\\AppData\\\\Roaming\\\\Python\\\\Python312\\\\site-packages\\\\dateutil\\\\parser\\\\isoparser.py'>,\n",
       " 'dateutil.parser': <module 'dateutil.parser' from 'C:\\\\Users\\\\ansor.taghoev\\\\AppData\\\\Roaming\\\\Python\\\\Python312\\\\site-packages\\\\dateutil\\\\parser\\\\__init__.py'>,\n",
       " '_strptime': <module '_strptime' from 'c:\\\\Users\\\\ansor.taghoev\\\\AppData\\\\Local\\\\Programs\\\\Python\\\\Python312\\\\Lib\\\\_strptime.py'>,\n",
       " 'jupyter_client.jsonutil': <module 'jupyter_client.jsonutil' from 'C:\\\\Users\\\\ansor.taghoev\\\\AppData\\\\Roaming\\\\Python\\\\Python312\\\\site-packages\\\\jupyter_client\\\\jsonutil.py'>,\n",
       " 'jupyter_client.session': <module 'jupyter_client.session' from 'C:\\\\Users\\\\ansor.taghoev\\\\AppData\\\\Roaming\\\\Python\\\\Python312\\\\site-packages\\\\jupyter_client\\\\session.py'>,\n",
       " 'jupyter_client.channels': <module 'jupyter_client.channels' from 'C:\\\\Users\\\\ansor.taghoev\\\\AppData\\\\Roaming\\\\Python\\\\Python312\\\\site-packages\\\\jupyter_client\\\\channels.py'>,\n",
       " 'getpass': <module 'getpass' from 'c:\\\\Users\\\\ansor.taghoev\\\\AppData\\\\Local\\\\Programs\\\\Python\\\\Python312\\\\Lib\\\\getpass.py'>,\n",
       " 'jupyter_client.clientabc': <module 'jupyter_client.clientabc' from 'C:\\\\Users\\\\ansor.taghoev\\\\AppData\\\\Roaming\\\\Python\\\\Python312\\\\site-packages\\\\jupyter_client\\\\clientabc.py'>,\n",
       " 'glob': <module 'glob' from 'c:\\\\Users\\\\ansor.taghoev\\\\AppData\\\\Local\\\\Programs\\\\Python\\\\Python312\\\\Lib\\\\glob.py'>,\n",
       " 'platformdirs.api': <module 'platformdirs.api' from 'c:\\\\Users\\\\ansor.taghoev\\\\AppData\\\\Local\\\\Programs\\\\Python\\\\Python312\\\\Lib\\\\site-packages\\\\platformdirs\\\\api.py'>,\n",
       " 'platformdirs.version': <module 'platformdirs.version' from 'c:\\\\Users\\\\ansor.taghoev\\\\AppData\\\\Local\\\\Programs\\\\Python\\\\Python312\\\\Lib\\\\site-packages\\\\platformdirs\\\\version.py'>,\n",
       " 'platformdirs.windows': <module 'platformdirs.windows' from 'c:\\\\Users\\\\ansor.taghoev\\\\AppData\\\\Local\\\\Programs\\\\Python\\\\Python312\\\\Lib\\\\site-packages\\\\platformdirs\\\\windows.py'>,\n",
       " 'platformdirs': <module 'platformdirs' from 'c:\\\\Users\\\\ansor.taghoev\\\\AppData\\\\Local\\\\Programs\\\\Python\\\\Python312\\\\Lib\\\\site-packages\\\\platformdirs\\\\__init__.py'>,\n",
       " 'jupyter_core.paths': <module 'jupyter_core.paths' from 'C:\\\\Users\\\\ansor.taghoev\\\\AppData\\\\Roaming\\\\Python\\\\Python312\\\\site-packages\\\\jupyter_core\\\\paths.py'>,\n",
       " 'jupyter_client.localinterfaces': <module 'jupyter_client.localinterfaces' from 'C:\\\\Users\\\\ansor.taghoev\\\\AppData\\\\Roaming\\\\Python\\\\Python312\\\\site-packages\\\\jupyter_client\\\\localinterfaces.py'>,\n",
       " 'jupyter_client.utils': <module 'jupyter_client.utils' from 'C:\\\\Users\\\\ansor.taghoev\\\\AppData\\\\Roaming\\\\Python\\\\Python312\\\\site-packages\\\\jupyter_client\\\\utils.py'>,\n",
       " 'jupyter_client.connect': <module 'jupyter_client.connect' from 'C:\\\\Users\\\\ansor.taghoev\\\\AppData\\\\Roaming\\\\Python\\\\Python312\\\\site-packages\\\\jupyter_client\\\\connect.py'>,\n",
       " 'jupyter_client.client': <module 'jupyter_client.client' from 'C:\\\\Users\\\\ansor.taghoev\\\\AppData\\\\Roaming\\\\Python\\\\Python312\\\\site-packages\\\\jupyter_client\\\\client.py'>,\n",
       " 'jupyter_client.asynchronous.client': <module 'jupyter_client.asynchronous.client' from 'C:\\\\Users\\\\ansor.taghoev\\\\AppData\\\\Roaming\\\\Python\\\\Python312\\\\site-packages\\\\jupyter_client\\\\asynchronous\\\\client.py'>,\n",
       " 'jupyter_client.asynchronous': <module 'jupyter_client.asynchronous' from 'C:\\\\Users\\\\ansor.taghoev\\\\AppData\\\\Roaming\\\\Python\\\\Python312\\\\site-packages\\\\jupyter_client\\\\asynchronous\\\\__init__.py'>,\n",
       " 'jupyter_client.blocking.client': <module 'jupyter_client.blocking.client' from 'C:\\\\Users\\\\ansor.taghoev\\\\AppData\\\\Roaming\\\\Python\\\\Python312\\\\site-packages\\\\jupyter_client\\\\blocking\\\\client.py'>,\n",
       " 'jupyter_client.blocking': <module 'jupyter_client.blocking' from 'C:\\\\Users\\\\ansor.taghoev\\\\AppData\\\\Roaming\\\\Python\\\\Python312\\\\site-packages\\\\jupyter_client\\\\blocking\\\\__init__.py'>,\n",
       " 'jupyter_client.launcher': <module 'jupyter_client.launcher' from 'C:\\\\Users\\\\ansor.taghoev\\\\AppData\\\\Roaming\\\\Python\\\\Python312\\\\site-packages\\\\jupyter_client\\\\launcher.py'>,\n",
       " '_uuid': <module '_uuid' from 'c:\\\\Users\\\\ansor.taghoev\\\\AppData\\\\Local\\\\Programs\\\\Python\\\\Python312\\\\DLLs\\\\_uuid.pyd'>,\n",
       " 'uuid': <module 'uuid' from 'c:\\\\Users\\\\ansor.taghoev\\\\AppData\\\\Local\\\\Programs\\\\Python\\\\Python312\\\\Lib\\\\uuid.py'>,\n",
       " '_csv': <module '_csv' (built-in)>,\n",
       " 'csv': <module 'csv' from 'c:\\\\Users\\\\ansor.taghoev\\\\AppData\\\\Local\\\\Programs\\\\Python\\\\Python312\\\\Lib\\\\csv.py'>,\n",
       " 'email': <module 'email' from 'c:\\\\Users\\\\ansor.taghoev\\\\AppData\\\\Local\\\\Programs\\\\Python\\\\Python312\\\\Lib\\\\email\\\\__init__.py'>,\n",
       " 'zipfile._path.glob': <module 'zipfile._path.glob' from 'c:\\\\Users\\\\ansor.taghoev\\\\AppData\\\\Local\\\\Programs\\\\Python\\\\Python312\\\\Lib\\\\zipfile\\\\_path\\\\glob.py'>,\n",
       " 'zipfile._path': <module 'zipfile._path' from 'c:\\\\Users\\\\ansor.taghoev\\\\AppData\\\\Local\\\\Programs\\\\Python\\\\Python312\\\\Lib\\\\zipfile\\\\_path\\\\__init__.py'>,\n",
       " 'zipfile': <module 'zipfile' from 'c:\\\\Users\\\\ansor.taghoev\\\\AppData\\\\Local\\\\Programs\\\\Python\\\\Python312\\\\Lib\\\\zipfile\\\\__init__.py'>,\n",
       " 'quopri': <module 'quopri' from 'c:\\\\Users\\\\ansor.taghoev\\\\AppData\\\\Local\\\\Programs\\\\Python\\\\Python312\\\\Lib\\\\quopri.py'>,\n",
       " 'email._parseaddr': <module 'email._parseaddr' from 'c:\\\\Users\\\\ansor.taghoev\\\\AppData\\\\Local\\\\Programs\\\\Python\\\\Python312\\\\Lib\\\\email\\\\_parseaddr.py'>,\n",
       " 'email.base64mime': <module 'email.base64mime' from 'c:\\\\Users\\\\ansor.taghoev\\\\AppData\\\\Local\\\\Programs\\\\Python\\\\Python312\\\\Lib\\\\email\\\\base64mime.py'>,\n",
       " 'email.quoprimime': <module 'email.quoprimime' from 'c:\\\\Users\\\\ansor.taghoev\\\\AppData\\\\Local\\\\Programs\\\\Python\\\\Python312\\\\Lib\\\\email\\\\quoprimime.py'>,\n",
       " 'email.errors': <module 'email.errors' from 'c:\\\\Users\\\\ansor.taghoev\\\\AppData\\\\Local\\\\Programs\\\\Python\\\\Python312\\\\Lib\\\\email\\\\errors.py'>,\n",
       " 'email.encoders': <module 'email.encoders' from 'c:\\\\Users\\\\ansor.taghoev\\\\AppData\\\\Local\\\\Programs\\\\Python\\\\Python312\\\\Lib\\\\email\\\\encoders.py'>,\n",
       " 'email.charset': <module 'email.charset' from 'c:\\\\Users\\\\ansor.taghoev\\\\AppData\\\\Local\\\\Programs\\\\Python\\\\Python312\\\\Lib\\\\email\\\\charset.py'>,\n",
       " 'email.utils': <module 'email.utils' from 'c:\\\\Users\\\\ansor.taghoev\\\\AppData\\\\Local\\\\Programs\\\\Python\\\\Python312\\\\Lib\\\\email\\\\utils.py'>,\n",
       " 'email.header': <module 'email.header' from 'c:\\\\Users\\\\ansor.taghoev\\\\AppData\\\\Local\\\\Programs\\\\Python\\\\Python312\\\\Lib\\\\email\\\\header.py'>,\n",
       " 'email._policybase': <module 'email._policybase' from 'c:\\\\Users\\\\ansor.taghoev\\\\AppData\\\\Local\\\\Programs\\\\Python\\\\Python312\\\\Lib\\\\email\\\\_policybase.py'>,\n",
       " 'email._encoded_words': <module 'email._encoded_words' from 'c:\\\\Users\\\\ansor.taghoev\\\\AppData\\\\Local\\\\Programs\\\\Python\\\\Python312\\\\Lib\\\\email\\\\_encoded_words.py'>,\n",
       " 'email.iterators': <module 'email.iterators' from 'c:\\\\Users\\\\ansor.taghoev\\\\AppData\\\\Local\\\\Programs\\\\Python\\\\Python312\\\\Lib\\\\email\\\\iterators.py'>,\n",
       " 'email.message': <module 'email.message' from 'c:\\\\Users\\\\ansor.taghoev\\\\AppData\\\\Local\\\\Programs\\\\Python\\\\Python312\\\\Lib\\\\email\\\\message.py'>,\n",
       " 'importlib.metadata._functools': <module 'importlib.metadata._functools' from 'c:\\\\Users\\\\ansor.taghoev\\\\AppData\\\\Local\\\\Programs\\\\Python\\\\Python312\\\\Lib\\\\importlib\\\\metadata\\\\_functools.py'>,\n",
       " 'importlib.metadata._text': <module 'importlib.metadata._text' from 'c:\\\\Users\\\\ansor.taghoev\\\\AppData\\\\Local\\\\Programs\\\\Python\\\\Python312\\\\Lib\\\\importlib\\\\metadata\\\\_text.py'>,\n",
       " 'importlib.metadata._adapters': <module 'importlib.metadata._adapters' from 'c:\\\\Users\\\\ansor.taghoev\\\\AppData\\\\Local\\\\Programs\\\\Python\\\\Python312\\\\Lib\\\\importlib\\\\metadata\\\\_adapters.py'>,\n",
       " 'importlib.metadata._meta': <module 'importlib.metadata._meta' from 'c:\\\\Users\\\\ansor.taghoev\\\\AppData\\\\Local\\\\Programs\\\\Python\\\\Python312\\\\Lib\\\\importlib\\\\metadata\\\\_meta.py'>,\n",
       " 'importlib.metadata._collections': <module 'importlib.metadata._collections' from 'c:\\\\Users\\\\ansor.taghoev\\\\AppData\\\\Local\\\\Programs\\\\Python\\\\Python312\\\\Lib\\\\importlib\\\\metadata\\\\_collections.py'>,\n",
       " 'importlib.metadata._itertools': <module 'importlib.metadata._itertools' from 'c:\\\\Users\\\\ansor.taghoev\\\\AppData\\\\Local\\\\Programs\\\\Python\\\\Python312\\\\Lib\\\\importlib\\\\metadata\\\\_itertools.py'>,\n",
       " 'importlib.resources.abc': <module 'importlib.resources.abc' from 'c:\\\\Users\\\\ansor.taghoev\\\\AppData\\\\Local\\\\Programs\\\\Python\\\\Python312\\\\Lib\\\\importlib\\\\resources\\\\abc.py'>,\n",
       " 'importlib.resources._adapters': <module 'importlib.resources._adapters' from 'c:\\\\Users\\\\ansor.taghoev\\\\AppData\\\\Local\\\\Programs\\\\Python\\\\Python312\\\\Lib\\\\importlib\\\\resources\\\\_adapters.py'>,\n",
       " 'importlib.resources._common': <module 'importlib.resources._common' from 'c:\\\\Users\\\\ansor.taghoev\\\\AppData\\\\Local\\\\Programs\\\\Python\\\\Python312\\\\Lib\\\\importlib\\\\resources\\\\_common.py'>,\n",
       " 'importlib.resources._legacy': <module 'importlib.resources._legacy' from 'c:\\\\Users\\\\ansor.taghoev\\\\AppData\\\\Local\\\\Programs\\\\Python\\\\Python312\\\\Lib\\\\importlib\\\\resources\\\\_legacy.py'>,\n",
       " 'importlib.resources': <module 'importlib.resources' from 'c:\\\\Users\\\\ansor.taghoev\\\\AppData\\\\Local\\\\Programs\\\\Python\\\\Python312\\\\Lib\\\\importlib\\\\resources\\\\__init__.py'>,\n",
       " 'importlib.abc': <module 'importlib.abc' from 'c:\\\\Users\\\\ansor.taghoev\\\\AppData\\\\Local\\\\Programs\\\\Python\\\\Python312\\\\Lib\\\\importlib\\\\abc.py'>,\n",
       " 'importlib.metadata': <module 'importlib.metadata' from 'c:\\\\Users\\\\ansor.taghoev\\\\AppData\\\\Local\\\\Programs\\\\Python\\\\Python312\\\\Lib\\\\importlib\\\\metadata\\\\__init__.py'>,\n",
       " 'jupyter_client.provisioning.provisioner_base': <module 'jupyter_client.provisioning.provisioner_base' from 'C:\\\\Users\\\\ansor.taghoev\\\\AppData\\\\Roaming\\\\Python\\\\Python312\\\\site-packages\\\\jupyter_client\\\\provisioning\\\\provisioner_base.py'>,\n",
       " 'jupyter_client.provisioning.factory': <module 'jupyter_client.provisioning.factory' from 'C:\\\\Users\\\\ansor.taghoev\\\\AppData\\\\Roaming\\\\Python\\\\Python312\\\\site-packages\\\\jupyter_client\\\\provisioning\\\\factory.py'>,\n",
       " 'jupyter_client.provisioning.local_provisioner': <module 'jupyter_client.provisioning.local_provisioner' from 'C:\\\\Users\\\\ansor.taghoev\\\\AppData\\\\Roaming\\\\Python\\\\Python312\\\\site-packages\\\\jupyter_client\\\\provisioning\\\\local_provisioner.py'>,\n",
       " 'jupyter_client.provisioning': <module 'jupyter_client.provisioning' from 'C:\\\\Users\\\\ansor.taghoev\\\\AppData\\\\Roaming\\\\Python\\\\Python312\\\\site-packages\\\\jupyter_client\\\\provisioning\\\\__init__.py'>,\n",
       " 'jupyter_client.kernelspec': <module 'jupyter_client.kernelspec' from 'C:\\\\Users\\\\ansor.taghoev\\\\AppData\\\\Roaming\\\\Python\\\\Python312\\\\site-packages\\\\jupyter_client\\\\kernelspec.py'>,\n",
       " 'jupyter_client.managerabc': <module 'jupyter_client.managerabc' from 'C:\\\\Users\\\\ansor.taghoev\\\\AppData\\\\Roaming\\\\Python\\\\Python312\\\\site-packages\\\\jupyter_client\\\\managerabc.py'>,\n",
       " 'jupyter_client.manager': <module 'jupyter_client.manager' from 'C:\\\\Users\\\\ansor.taghoev\\\\AppData\\\\Roaming\\\\Python\\\\Python312\\\\site-packages\\\\jupyter_client\\\\manager.py'>,\n",
       " 'jupyter_client.multikernelmanager': <module 'jupyter_client.multikernelmanager' from 'C:\\\\Users\\\\ansor.taghoev\\\\AppData\\\\Roaming\\\\Python\\\\Python312\\\\site-packages\\\\jupyter_client\\\\multikernelmanager.py'>,\n",
       " 'jupyter_client': <module 'jupyter_client' from 'C:\\\\Users\\\\ansor.taghoev\\\\AppData\\\\Roaming\\\\Python\\\\Python312\\\\site-packages\\\\jupyter_client\\\\__init__.py'>,\n",
       " 'ipykernel.connect': <module 'ipykernel.connect' from 'C:\\\\Users\\\\ansor.taghoev\\\\AppData\\\\Roaming\\\\Python\\\\Python312\\\\site-packages\\\\ipykernel\\\\connect.py'>,\n",
       " 'ipykernel': <module 'ipykernel' from 'C:\\\\Users\\\\ansor.taghoev\\\\AppData\\\\Roaming\\\\Python\\\\Python312\\\\site-packages\\\\ipykernel\\\\__init__.py'>,\n",
       " 'IPython.core': <module 'IPython.core' from 'C:\\\\Users\\\\ansor.taghoev\\\\AppData\\\\Roaming\\\\Python\\\\Python312\\\\site-packages\\\\IPython\\\\core\\\\__init__.py'>,\n",
       " 'IPython.core.getipython': <module 'IPython.core.getipython' from 'C:\\\\Users\\\\ansor.taghoev\\\\AppData\\\\Roaming\\\\Python\\\\Python312\\\\site-packages\\\\IPython\\\\core\\\\getipython.py'>,\n",
       " 'IPython.core.release': <module 'IPython.core.release' from 'C:\\\\Users\\\\ansor.taghoev\\\\AppData\\\\Roaming\\\\Python\\\\Python312\\\\site-packages\\\\IPython\\\\core\\\\release.py'>,\n",
       " 'pkgutil': <module 'pkgutil' from 'c:\\\\Users\\\\ansor.taghoev\\\\AppData\\\\Local\\\\Programs\\\\Python\\\\Python312\\\\Lib\\\\pkgutil.py'>,\n",
       " 'sysconfig': <module 'sysconfig' from 'c:\\\\Users\\\\ansor.taghoev\\\\AppData\\\\Local\\\\Programs\\\\Python\\\\Python312\\\\Lib\\\\sysconfig.py'>,\n",
       " 'pydoc': <module 'pydoc' from 'c:\\\\Users\\\\ansor.taghoev\\\\AppData\\\\Local\\\\Programs\\\\Python\\\\Python312\\\\Lib\\\\pydoc.py'>,\n",
       " 'executing._exceptions': <module 'executing._exceptions' from 'C:\\\\Users\\\\ansor.taghoev\\\\AppData\\\\Roaming\\\\Python\\\\Python312\\\\site-packages\\\\executing\\\\_exceptions.py'>,\n",
       " 'executing._position_node_finder': <module 'executing._position_node_finder' from 'C:\\\\Users\\\\ansor.taghoev\\\\AppData\\\\Roaming\\\\Python\\\\Python312\\\\site-packages\\\\executing\\\\_position_node_finder.py'>,\n",
       " 'executing.executing': <module 'executing.executing' from 'C:\\\\Users\\\\ansor.taghoev\\\\AppData\\\\Roaming\\\\Python\\\\Python312\\\\site-packages\\\\executing\\\\executing.py'>,\n",
       " 'executing.version': <module 'executing.version' from 'C:\\\\Users\\\\ansor.taghoev\\\\AppData\\\\Roaming\\\\Python\\\\Python312\\\\site-packages\\\\executing\\\\version.py'>,\n",
       " 'executing': <module 'executing' from 'C:\\\\Users\\\\ansor.taghoev\\\\AppData\\\\Roaming\\\\Python\\\\Python312\\\\site-packages\\\\executing\\\\__init__.py'>,\n",
       " 'asttokens.line_numbers': <module 'asttokens.line_numbers' from 'C:\\\\Users\\\\ansor.taghoev\\\\AppData\\\\Roaming\\\\Python\\\\Python312\\\\site-packages\\\\asttokens\\\\line_numbers.py'>,\n",
       " 'asttokens.util': <module 'asttokens.util' from 'C:\\\\Users\\\\ansor.taghoev\\\\AppData\\\\Roaming\\\\Python\\\\Python312\\\\site-packages\\\\asttokens\\\\util.py'>,\n",
       " 'asttokens.asttokens': <module 'asttokens.asttokens' from 'C:\\\\Users\\\\ansor.taghoev\\\\AppData\\\\Roaming\\\\Python\\\\Python312\\\\site-packages\\\\asttokens\\\\asttokens.py'>,\n",
       " 'asttokens': <module 'asttokens' from 'C:\\\\Users\\\\ansor.taghoev\\\\AppData\\\\Roaming\\\\Python\\\\Python312\\\\site-packages\\\\asttokens\\\\__init__.py'>,\n",
       " 'fractions': <module 'fractions' from 'c:\\\\Users\\\\ansor.taghoev\\\\AppData\\\\Local\\\\Programs\\\\Python\\\\Python312\\\\Lib\\\\fractions.py'>,\n",
       " 'pure_eval.utils': <module 'pure_eval.utils' from 'C:\\\\Users\\\\ansor.taghoev\\\\AppData\\\\Roaming\\\\Python\\\\Python312\\\\site-packages\\\\pure_eval\\\\utils.py'>,\n",
       " 'pure_eval.my_getattr_static': <module 'pure_eval.my_getattr_static' from 'C:\\\\Users\\\\ansor.taghoev\\\\AppData\\\\Roaming\\\\Python\\\\Python312\\\\site-packages\\\\pure_eval\\\\my_getattr_static.py'>,\n",
       " 'pure_eval.core': <module 'pure_eval.core' from 'C:\\\\Users\\\\ansor.taghoev\\\\AppData\\\\Roaming\\\\Python\\\\Python312\\\\site-packages\\\\pure_eval\\\\core.py'>,\n",
       " 'pure_eval.version': <module 'pure_eval.version' from 'C:\\\\Users\\\\ansor.taghoev\\\\AppData\\\\Roaming\\\\Python\\\\Python312\\\\site-packages\\\\pure_eval\\\\version.py'>,\n",
       " 'pure_eval': <module 'pure_eval' from 'C:\\\\Users\\\\ansor.taghoev\\\\AppData\\\\Roaming\\\\Python\\\\Python312\\\\site-packages\\\\pure_eval\\\\__init__.py'>,\n",
       " 'stack_data.utils': <module 'stack_data.utils' from 'C:\\\\Users\\\\ansor.taghoev\\\\AppData\\\\Roaming\\\\Python\\\\Python312\\\\site-packages\\\\stack_data\\\\utils.py'>,\n",
       " 'stack_data.core': <module 'stack_data.core' from 'C:\\\\Users\\\\ansor.taghoev\\\\AppData\\\\Roaming\\\\Python\\\\Python312\\\\site-packages\\\\stack_data\\\\core.py'>,\n",
       " 'stack_data.formatting': <module 'stack_data.formatting' from 'C:\\\\Users\\\\ansor.taghoev\\\\AppData\\\\Roaming\\\\Python\\\\Python312\\\\site-packages\\\\stack_data\\\\formatting.py'>,\n",
       " 'stack_data.serializing': <module 'stack_data.serializing' from 'C:\\\\Users\\\\ansor.taghoev\\\\AppData\\\\Roaming\\\\Python\\\\Python312\\\\site-packages\\\\stack_data\\\\serializing.py'>,\n",
       " 'stack_data.version': <module 'stack_data.version' from 'C:\\\\Users\\\\ansor.taghoev\\\\AppData\\\\Roaming\\\\Python\\\\Python312\\\\site-packages\\\\stack_data\\\\version.py'>,\n",
       " 'stack_data': <module 'stack_data' from 'C:\\\\Users\\\\ansor.taghoev\\\\AppData\\\\Roaming\\\\Python\\\\Python312\\\\site-packages\\\\stack_data\\\\__init__.py'>,\n",
       " 'pygments': <module 'pygments' from 'C:\\\\Users\\\\ansor.taghoev\\\\AppData\\\\Roaming\\\\Python\\\\Python312\\\\site-packages\\\\pygments\\\\__init__.py'>,\n",
       " 'pygments.formatters._mapping': <module 'pygments.formatters._mapping' from 'C:\\\\Users\\\\ansor.taghoev\\\\AppData\\\\Roaming\\\\Python\\\\Python312\\\\site-packages\\\\pygments\\\\formatters\\\\_mapping.py'>,\n",
       " 'pygments.plugin': <module 'pygments.plugin' from 'C:\\\\Users\\\\ansor.taghoev\\\\AppData\\\\Roaming\\\\Python\\\\Python312\\\\site-packages\\\\pygments\\\\plugin.py'>,\n",
       " 'pygments.util': <module 'pygments.util' from 'C:\\\\Users\\\\ansor.taghoev\\\\AppData\\\\Roaming\\\\Python\\\\Python312\\\\site-packages\\\\pygments\\\\util.py'>,\n",
       " 'pygments.formatters': <module 'pygments.formatters' from 'C:\\\\Users\\\\ansor.taghoev\\\\AppData\\\\Roaming\\\\Python\\\\Python312\\\\site-packages\\\\pygments\\\\formatters\\\\__init__.py'>,\n",
       " 'pygments.styles._mapping': <module 'pygments.styles._mapping' from 'C:\\\\Users\\\\ansor.taghoev\\\\AppData\\\\Roaming\\\\Python\\\\Python312\\\\site-packages\\\\pygments\\\\styles\\\\_mapping.py'>,\n",
       " 'pygments.styles': <module 'pygments.styles' from 'C:\\\\Users\\\\ansor.taghoev\\\\AppData\\\\Roaming\\\\Python\\\\Python312\\\\site-packages\\\\pygments\\\\styles\\\\__init__.py'>,\n",
       " 'pygments.formatter': <module 'pygments.formatter' from 'C:\\\\Users\\\\ansor.taghoev\\\\AppData\\\\Roaming\\\\Python\\\\Python312\\\\site-packages\\\\pygments\\\\formatter.py'>,\n",
       " 'pygments.console': <module 'pygments.console' from 'C:\\\\Users\\\\ansor.taghoev\\\\AppData\\\\Roaming\\\\Python\\\\Python312\\\\site-packages\\\\pygments\\\\console.py'>,\n",
       " 'pygments.token': <module 'pygments.token' from 'C:\\\\Users\\\\ansor.taghoev\\\\AppData\\\\Roaming\\\\Python\\\\Python312\\\\site-packages\\\\pygments\\\\token.py'>,\n",
       " 'pygments.style': <module 'pygments.style' from 'C:\\\\Users\\\\ansor.taghoev\\\\AppData\\\\Roaming\\\\Python\\\\Python312\\\\site-packages\\\\pygments\\\\style.py'>,\n",
       " 'pygments.formatters.terminal256': <module 'pygments.formatters.terminal256' from 'C:\\\\Users\\\\ansor.taghoev\\\\AppData\\\\Roaming\\\\Python\\\\Python312\\\\site-packages\\\\pygments\\\\formatters\\\\terminal256.py'>,\n",
       " 'IPython.utils': <module 'IPython.utils' from 'C:\\\\Users\\\\ansor.taghoev\\\\AppData\\\\Roaming\\\\Python\\\\Python312\\\\site-packages\\\\IPython\\\\utils\\\\__init__.py'>,\n",
       " 'IPython.utils.colorable': <module 'IPython.utils.colorable' from 'C:\\\\Users\\\\ansor.taghoev\\\\AppData\\\\Roaming\\\\Python\\\\Python312\\\\site-packages\\\\IPython\\\\utils\\\\colorable.py'>,\n",
       " 'IPython.utils.ipstruct': <module 'IPython.utils.ipstruct' from 'C:\\\\Users\\\\ansor.taghoev\\\\AppData\\\\Roaming\\\\Python\\\\Python312\\\\site-packages\\\\IPython\\\\utils\\\\ipstruct.py'>,\n",
       " 'IPython.utils.coloransi': <module 'IPython.utils.coloransi' from 'C:\\\\Users\\\\ansor.taghoev\\\\AppData\\\\Roaming\\\\Python\\\\Python312\\\\site-packages\\\\IPython\\\\utils\\\\coloransi.py'>,\n",
       " 'IPython.core.excolors': <module 'IPython.core.excolors' from 'C:\\\\Users\\\\ansor.taghoev\\\\AppData\\\\Roaming\\\\Python\\\\Python312\\\\site-packages\\\\IPython\\\\core\\\\excolors.py'>,\n",
       " 'IPython.utils.PyColorize': <module 'IPython.utils.PyColorize' from 'C:\\\\Users\\\\ansor.taghoev\\\\AppData\\\\Roaming\\\\Python\\\\Python312\\\\site-packages\\\\IPython\\\\utils\\\\PyColorize.py'>,\n",
       " 'IPython.utils.encoding': <module 'IPython.utils.encoding' from 'C:\\\\Users\\\\ansor.taghoev\\\\AppData\\\\Roaming\\\\Python\\\\Python312\\\\site-packages\\\\IPython\\\\utils\\\\encoding.py'>,\n",
       " 'IPython.utils.py3compat': <module 'IPython.utils.py3compat' from 'C:\\\\Users\\\\ansor.taghoev\\\\AppData\\\\Roaming\\\\Python\\\\Python312\\\\site-packages\\\\IPython\\\\utils\\\\py3compat.py'>,\n",
       " 'cmd': <module 'cmd' from 'c:\\\\Users\\\\ansor.taghoev\\\\AppData\\\\Local\\\\Programs\\\\Python\\\\Python312\\\\Lib\\\\cmd.py'>,\n",
       " 'bdb': <module 'bdb' from 'c:\\\\Users\\\\ansor.taghoev\\\\AppData\\\\Local\\\\Programs\\\\Python\\\\Python312\\\\Lib\\\\bdb.py'>,\n",
       " 'codeop': <module 'codeop' from 'c:\\\\Users\\\\ansor.taghoev\\\\AppData\\\\Local\\\\Programs\\\\Python\\\\Python312\\\\Lib\\\\codeop.py'>,\n",
       " 'code': <module 'code' from 'c:\\\\Users\\\\ansor.taghoev\\\\AppData\\\\Local\\\\Programs\\\\Python\\\\Python312\\\\Lib\\\\code.py'>,\n",
       " 'pdb': <module 'pdb' from 'c:\\\\Users\\\\ansor.taghoev\\\\AppData\\\\Local\\\\Programs\\\\Python\\\\Python312\\\\Lib\\\\pdb.py'>,\n",
       " 'IPython.core.debugger': <module 'IPython.core.debugger' from 'C:\\\\Users\\\\ansor.taghoev\\\\AppData\\\\Roaming\\\\Python\\\\Python312\\\\site-packages\\\\IPython\\\\core\\\\debugger.py'>,\n",
       " 'IPython.core.display_trap': <module 'IPython.core.display_trap' from 'C:\\\\Users\\\\ansor.taghoev\\\\AppData\\\\Roaming\\\\Python\\\\Python312\\\\site-packages\\\\IPython\\\\core\\\\display_trap.py'>,\n",
       " 'shlex': <module 'shlex' from 'c:\\\\Users\\\\ansor.taghoev\\\\AppData\\\\Local\\\\Programs\\\\Python\\\\Python312\\\\Lib\\\\shlex.py'>,\n",
       " 'IPython.utils._process_common': <module 'IPython.utils._process_common' from 'C:\\\\Users\\\\ansor.taghoev\\\\AppData\\\\Roaming\\\\Python\\\\Python312\\\\site-packages\\\\IPython\\\\utils\\\\_process_common.py'>,\n",
       " 'IPython.utils._process_win32': <module 'IPython.utils._process_win32' from 'C:\\\\Users\\\\ansor.taghoev\\\\AppData\\\\Roaming\\\\Python\\\\Python312\\\\site-packages\\\\IPython\\\\utils\\\\_process_win32.py'>,\n",
       " 'IPython.utils.process': <module 'IPython.utils.process' from 'C:\\\\Users\\\\ansor.taghoev\\\\AppData\\\\Roaming\\\\Python\\\\Python312\\\\site-packages\\\\IPython\\\\utils\\\\process.py'>,\n",
       " 'IPython.utils.path': <module 'IPython.utils.path' from 'C:\\\\Users\\\\ansor.taghoev\\\\AppData\\\\Roaming\\\\Python\\\\Python312\\\\site-packages\\\\IPython\\\\utils\\\\path.py'>,\n",
       " 'IPython.utils.terminal': <module 'IPython.utils.terminal' from 'C:\\\\Users\\\\ansor.taghoev\\\\AppData\\\\Roaming\\\\Python\\\\Python312\\\\site-packages\\\\IPython\\\\utils\\\\terminal.py'>,\n",
       " 'IPython.core.ultratb': <module 'IPython.core.ultratb' from 'C:\\\\Users\\\\ansor.taghoev\\\\AppData\\\\Roaming\\\\Python\\\\Python312\\\\site-packages\\\\IPython\\\\core\\\\ultratb.py'>,\n",
       " 'IPython.utils._sysinfo': <module 'IPython.utils._sysinfo' from 'C:\\\\Users\\\\ansor.taghoev\\\\AppData\\\\Roaming\\\\Python\\\\Python312\\\\site-packages\\\\IPython\\\\utils\\\\_sysinfo.py'>,\n",
       " 'IPython.utils.sysinfo': <module 'IPython.utils.sysinfo' from 'C:\\\\Users\\\\ansor.taghoev\\\\AppData\\\\Roaming\\\\Python\\\\Python312\\\\site-packages\\\\IPython\\\\utils\\\\sysinfo.py'>,\n",
       " 'IPython.core.crashhandler': <module 'IPython.core.crashhandler' from 'C:\\\\Users\\\\ansor.taghoev\\\\AppData\\\\Roaming\\\\Python\\\\Python312\\\\site-packages\\\\IPython\\\\core\\\\crashhandler.py'>,\n",
       " 'IPython.utils.importstring': <module 'IPython.utils.importstring' from 'C:\\\\Users\\\\ansor.taghoev\\\\AppData\\\\Roaming\\\\Python\\\\Python312\\\\site-packages\\\\IPython\\\\utils\\\\importstring.py'>,\n",
       " 'IPython.paths': <module 'IPython.paths' from 'C:\\\\Users\\\\ansor.taghoev\\\\AppData\\\\Roaming\\\\Python\\\\Python312\\\\site-packages\\\\IPython\\\\paths.py'>,\n",
       " 'IPython.core.profiledir': <module 'IPython.core.profiledir' from 'C:\\\\Users\\\\ansor.taghoev\\\\AppData\\\\Roaming\\\\Python\\\\Python312\\\\site-packages\\\\IPython\\\\core\\\\profiledir.py'>,\n",
       " 'IPython.core.application': <module 'IPython.core.application' from 'C:\\\\Users\\\\ansor.taghoev\\\\AppData\\\\Roaming\\\\Python\\\\Python312\\\\site-packages\\\\IPython\\\\core\\\\application.py'>,\n",
       " 'IPython.terminal': <module 'IPython.terminal' from 'C:\\\\Users\\\\ansor.taghoev\\\\AppData\\\\Roaming\\\\Python\\\\Python312\\\\site-packages\\\\IPython\\\\terminal\\\\__init__.py'>,\n",
       " 'IPython.core.compilerop': <module 'IPython.core.compilerop' from 'C:\\\\Users\\\\ansor.taghoev\\\\AppData\\\\Roaming\\\\Python\\\\Python312\\\\site-packages\\\\IPython\\\\core\\\\compilerop.py'>,\n",
       " 'IPython.core.error': <module 'IPython.core.error' from 'C:\\\\Users\\\\ansor.taghoev\\\\AppData\\\\Roaming\\\\Python\\\\Python312\\\\site-packages\\\\IPython\\\\core\\\\error.py'>,\n",
       " 'IPython.utils.docs': <module 'IPython.utils.docs' from 'C:\\\\Users\\\\ansor.taghoev\\\\AppData\\\\Roaming\\\\Python\\\\Python312\\\\site-packages\\\\IPython\\\\utils\\\\docs.py'>,\n",
       " 'IPython.utils.decorators': <module 'IPython.utils.decorators' from 'C:\\\\Users\\\\ansor.taghoev\\\\AppData\\\\Roaming\\\\Python\\\\Python312\\\\site-packages\\\\IPython\\\\utils\\\\decorators.py'>,\n",
       " 'IPython.utils.text': <module 'IPython.utils.text' from 'C:\\\\Users\\\\ansor.taghoev\\\\AppData\\\\Roaming\\\\Python\\\\Python312\\\\site-packages\\\\IPython\\\\utils\\\\text.py'>,\n",
       " 'IPython.core.magic_arguments': <module 'IPython.core.magic_arguments' from 'C:\\\\Users\\\\ansor.taghoev\\\\AppData\\\\Roaming\\\\Python\\\\Python312\\\\site-packages\\\\IPython\\\\core\\\\magic_arguments.py'>,\n",
       " 'getopt': <module 'getopt' from 'c:\\\\Users\\\\ansor.taghoev\\\\AppData\\\\Local\\\\Programs\\\\Python\\\\Python312\\\\Lib\\\\getopt.py'>,\n",
       " 'IPython.core.display_functions': <module 'IPython.core.display_functions' from 'C:\\\\Users\\\\ansor.taghoev\\\\AppData\\\\Roaming\\\\Python\\\\Python312\\\\site-packages\\\\IPython\\\\core\\\\display_functions.py'>,\n",
       " 'mimetypes': <module 'mimetypes' from 'c:\\\\Users\\\\ansor.taghoev\\\\AppData\\\\Local\\\\Programs\\\\Python\\\\Python312\\\\Lib\\\\mimetypes.py'>,\n",
       " 'IPython.testing': <module 'IPython.testing' from 'C:\\\\Users\\\\ansor.taghoev\\\\AppData\\\\Roaming\\\\Python\\\\Python312\\\\site-packages\\\\IPython\\\\testing\\\\__init__.py'>,\n",
       " 'IPython.testing.skipdoctest': <module 'IPython.testing.skipdoctest' from 'C:\\\\Users\\\\ansor.taghoev\\\\AppData\\\\Roaming\\\\Python\\\\Python312\\\\site-packages\\\\IPython\\\\testing\\\\skipdoctest.py'>,\n",
       " 'IPython.core.display': <module 'IPython.core.display' from 'C:\\\\Users\\\\ansor.taghoev\\\\AppData\\\\Roaming\\\\Python\\\\Python312\\\\site-packages\\\\IPython\\\\core\\\\display.py'>,\n",
       " 'IPython.lib': <module 'IPython.lib' from 'C:\\\\Users\\\\ansor.taghoev\\\\AppData\\\\Roaming\\\\Python\\\\Python312\\\\site-packages\\\\IPython\\\\lib\\\\__init__.py'>,\n",
       " 'IPython.lib.display': <module 'IPython.lib.display' from 'C:\\\\Users\\\\ansor.taghoev\\\\AppData\\\\Roaming\\\\Python\\\\Python312\\\\site-packages\\\\IPython\\\\lib\\\\display.py'>,\n",
       " 'IPython.display': <module 'IPython.display' from 'C:\\\\Users\\\\ansor.taghoev\\\\AppData\\\\Roaming\\\\Python\\\\Python312\\\\site-packages\\\\IPython\\\\display.py'>,\n",
       " 'IPython.utils.data': <module 'IPython.utils.data' from 'C:\\\\Users\\\\ansor.taghoev\\\\AppData\\\\Roaming\\\\Python\\\\Python312\\\\site-packages\\\\IPython\\\\utils\\\\data.py'>,\n",
       " 'IPython.core.page': <module 'IPython.core.page' from 'C:\\\\Users\\\\ansor.taghoev\\\\AppData\\\\Roaming\\\\Python\\\\Python312\\\\site-packages\\\\IPython\\\\core\\\\page.py'>,\n",
       " 'IPython.lib.pretty': <module 'IPython.lib.pretty' from 'C:\\\\Users\\\\ansor.taghoev\\\\AppData\\\\Roaming\\\\Python\\\\Python312\\\\site-packages\\\\IPython\\\\lib\\\\pretty.py'>,\n",
       " 'IPython.utils.openpy': <module 'IPython.utils.openpy' from 'C:\\\\Users\\\\ansor.taghoev\\\\AppData\\\\Roaming\\\\Python\\\\Python312\\\\site-packages\\\\IPython\\\\utils\\\\openpy.py'>,\n",
       " 'IPython.utils.dir2': <module 'IPython.utils.dir2' from 'C:\\\\Users\\\\ansor.taghoev\\\\AppData\\\\Roaming\\\\Python\\\\Python312\\\\site-packages\\\\IPython\\\\utils\\\\dir2.py'>,\n",
       " 'IPython.utils.wildcard': <module 'IPython.utils.wildcard' from 'C:\\\\Users\\\\ansor.taghoev\\\\AppData\\\\Roaming\\\\Python\\\\Python312\\\\site-packages\\\\IPython\\\\utils\\\\wildcard.py'>,\n",
       " 'pygments.lexers._mapping': <module 'pygments.lexers._mapping' from 'C:\\\\Users\\\\ansor.taghoev\\\\AppData\\\\Roaming\\\\Python\\\\Python312\\\\site-packages\\\\pygments\\\\lexers\\\\_mapping.py'>,\n",
       " 'pygments.modeline': <module 'pygments.modeline' from 'C:\\\\Users\\\\ansor.taghoev\\\\AppData\\\\Roaming\\\\Python\\\\Python312\\\\site-packages\\\\pygments\\\\modeline.py'>,\n",
       " 'pygments.lexers': <module 'pygments.lexers' from 'C:\\\\Users\\\\ansor.taghoev\\\\AppData\\\\Roaming\\\\Python\\\\Python312\\\\site-packages\\\\pygments\\\\lexers\\\\__init__.py'>,\n",
       " 'pygments.filter': <module 'pygments.filter' from 'C:\\\\Users\\\\ansor.taghoev\\\\AppData\\\\Roaming\\\\Python\\\\Python312\\\\site-packages\\\\pygments\\\\filter.py'>,\n",
       " 'pygments.filters': <module 'pygments.filters' from 'C:\\\\Users\\\\ansor.taghoev\\\\AppData\\\\Roaming\\\\Python\\\\Python312\\\\site-packages\\\\pygments\\\\filters\\\\__init__.py'>,\n",
       " 'pygments.regexopt': <module 'pygments.regexopt' from 'C:\\\\Users\\\\ansor.taghoev\\\\AppData\\\\Roaming\\\\Python\\\\Python312\\\\site-packages\\\\pygments\\\\regexopt.py'>,\n",
       " 'pygments.lexer': <module 'pygments.lexer' from 'C:\\\\Users\\\\ansor.taghoev\\\\AppData\\\\Roaming\\\\Python\\\\Python312\\\\site-packages\\\\pygments\\\\lexer.py'>,\n",
       " 'pygments.unistring': <module 'pygments.unistring' from 'C:\\\\Users\\\\ansor.taghoev\\\\AppData\\\\Roaming\\\\Python\\\\Python312\\\\site-packages\\\\pygments\\\\unistring.py'>,\n",
       " 'pygments.lexers.python': <module 'pygments.lexers.python' from 'C:\\\\Users\\\\ansor.taghoev\\\\AppData\\\\Roaming\\\\Python\\\\Python312\\\\site-packages\\\\pygments\\\\lexers\\\\python.py'>,\n",
       " 'pygments.formatters.html': <module 'pygments.formatters.html' from 'C:\\\\Users\\\\ansor.taghoev\\\\AppData\\\\Roaming\\\\Python\\\\Python312\\\\site-packages\\\\pygments\\\\formatters\\\\html.py'>,\n",
       " 'IPython.core.oinspect': <module 'IPython.core.oinspect' from 'C:\\\\Users\\\\ansor.taghoev\\\\AppData\\\\Roaming\\\\Python\\\\Python312\\\\site-packages\\\\IPython\\\\core\\\\oinspect.py'>,\n",
       " 'IPython.utils.tokenutil': <module 'IPython.utils.tokenutil' from 'C:\\\\Users\\\\ansor.taghoev\\\\AppData\\\\Roaming\\\\Python\\\\Python312\\\\site-packages\\\\IPython\\\\utils\\\\tokenutil.py'>,\n",
       " 'IPython.core.inputtransformer2': <module 'IPython.core.inputtransformer2' from 'C:\\\\Users\\\\ansor.taghoev\\\\AppData\\\\Roaming\\\\Python\\\\Python312\\\\site-packages\\\\IPython\\\\core\\\\inputtransformer2.py'>,\n",
       " 'IPython.core.magic': <module 'IPython.core.magic' from 'C:\\\\Users\\\\ansor.taghoev\\\\AppData\\\\Roaming\\\\Python\\\\Python312\\\\site-packages\\\\IPython\\\\core\\\\magic.py'>,\n",
       " 'IPython.core.hooks': <module 'IPython.core.hooks' from 'C:\\\\Users\\\\ansor.taghoev\\\\AppData\\\\Roaming\\\\Python\\\\Python312\\\\site-packages\\\\IPython\\\\core\\\\hooks.py'>,\n",
       " 'IPython.core.autocall': <module 'IPython.core.autocall' from 'C:\\\\Users\\\\ansor.taghoev\\\\AppData\\\\Roaming\\\\Python\\\\Python312\\\\site-packages\\\\IPython\\\\core\\\\autocall.py'>,\n",
       " 'IPython.core.macro': <module 'IPython.core.macro' from 'C:\\\\Users\\\\ansor.taghoev\\\\AppData\\\\Roaming\\\\Python\\\\Python312\\\\site-packages\\\\IPython\\\\core\\\\macro.py'>,\n",
       " 'IPython.core.splitinput': <module 'IPython.core.splitinput' from 'C:\\\\Users\\\\ansor.taghoev\\\\AppData\\\\Roaming\\\\Python\\\\Python312\\\\site-packages\\\\IPython\\\\core\\\\splitinput.py'>,\n",
       " 'IPython.core.prefilter': <module 'IPython.core.prefilter' from 'C:\\\\Users\\\\ansor.taghoev\\\\AppData\\\\Roaming\\\\Python\\\\Python312\\\\site-packages\\\\IPython\\\\core\\\\prefilter.py'>,\n",
       " 'IPython.core.alias': <module 'IPython.core.alias' from 'C:\\\\Users\\\\ansor.taghoev\\\\AppData\\\\Roaming\\\\Python\\\\Python312\\\\site-packages\\\\IPython\\\\core\\\\alias.py'>,\n",
       " 'IPython.core.builtin_trap': <module 'IPython.core.builtin_trap' from 'C:\\\\Users\\\\ansor.taghoev\\\\AppData\\\\Roaming\\\\Python\\\\Python312\\\\site-packages\\\\IPython\\\\core\\\\builtin_trap.py'>,\n",
       " 'IPython.core.displayhook': <module 'IPython.core.displayhook' from 'C:\\\\Users\\\\ansor.taghoev\\\\AppData\\\\Roaming\\\\Python\\\\Python312\\\\site-packages\\\\IPython\\\\core\\\\displayhook.py'>,\n",
       " 'IPython.core.displaypub': <module 'IPython.core.displaypub' from 'C:\\\\Users\\\\ansor.taghoev\\\\AppData\\\\Roaming\\\\Python\\\\Python312\\\\site-packages\\\\IPython\\\\core\\\\displaypub.py'>,\n",
       " 'IPython.core.events': <module 'IPython.core.events' from 'C:\\\\Users\\\\ansor.taghoev\\\\AppData\\\\Roaming\\\\Python\\\\Python312\\\\site-packages\\\\IPython\\\\core\\\\events.py'>,\n",
       " 'IPython.core.extensions': <module 'IPython.core.extensions' from 'C:\\\\Users\\\\ansor.taghoev\\\\AppData\\\\Roaming\\\\Python\\\\Python312\\\\site-packages\\\\IPython\\\\core\\\\extensions.py'>,\n",
       " 'decorator': <module 'decorator' from 'C:\\\\Users\\\\ansor.taghoev\\\\AppData\\\\Roaming\\\\Python\\\\Python312\\\\site-packages\\\\decorator.py'>,\n",
       " 'IPython.utils.sentinel': <module 'IPython.utils.sentinel' from 'C:\\\\Users\\\\ansor.taghoev\\\\AppData\\\\Roaming\\\\Python\\\\Python312\\\\site-packages\\\\IPython\\\\utils\\\\sentinel.py'>,\n",
       " 'IPython.core.formatters': <module 'IPython.core.formatters' from 'C:\\\\Users\\\\ansor.taghoev\\\\AppData\\\\Roaming\\\\Python\\\\Python312\\\\site-packages\\\\IPython\\\\core\\\\formatters.py'>,\n",
       " '_sqlite3': <module '_sqlite3' from 'c:\\\\Users\\\\ansor.taghoev\\\\AppData\\\\Local\\\\Programs\\\\Python\\\\Python312\\\\DLLs\\\\_sqlite3.pyd'>,\n",
       " 'sqlite3.dbapi2': <module 'sqlite3.dbapi2' from 'c:\\\\Users\\\\ansor.taghoev\\\\AppData\\\\Local\\\\Programs\\\\Python\\\\Python312\\\\Lib\\\\sqlite3\\\\dbapi2.py'>,\n",
       " 'sqlite3': <module 'sqlite3' from 'c:\\\\Users\\\\ansor.taghoev\\\\AppData\\\\Local\\\\Programs\\\\Python\\\\Python312\\\\Lib\\\\sqlite3\\\\__init__.py'>,\n",
       " 'IPython.core.history': <module 'IPython.core.history' from 'C:\\\\Users\\\\ansor.taghoev\\\\AppData\\\\Roaming\\\\Python\\\\Python312\\\\site-packages\\\\IPython\\\\core\\\\history.py'>,\n",
       " 'IPython.core.logger': <module 'IPython.core.logger' from 'C:\\\\Users\\\\ansor.taghoev\\\\AppData\\\\Roaming\\\\Python\\\\Python312\\\\site-packages\\\\IPython\\\\core\\\\logger.py'>,\n",
       " 'IPython.core.payload': <module 'IPython.core.payload' from 'C:\\\\Users\\\\ansor.taghoev\\\\AppData\\\\Roaming\\\\Python\\\\Python312\\\\site-packages\\\\IPython\\\\core\\\\payload.py'>,\n",
       " 'IPython.core.usage': <module 'IPython.core.usage' from 'C:\\\\Users\\\\ansor.taghoev\\\\AppData\\\\Roaming\\\\Python\\\\Python312\\\\site-packages\\\\IPython\\\\core\\\\usage.py'>,\n",
       " 'IPython.utils.capture': <module 'IPython.utils.capture' from 'C:\\\\Users\\\\ansor.taghoev\\\\AppData\\\\Roaming\\\\Python\\\\Python312\\\\site-packages\\\\IPython\\\\utils\\\\capture.py'>,\n",
       " 'IPython.utils.io': <module 'IPython.utils.io' from 'C:\\\\Users\\\\ansor.taghoev\\\\AppData\\\\Roaming\\\\Python\\\\Python312\\\\site-packages\\\\IPython\\\\utils\\\\io.py'>,\n",
       " 'IPython.utils.strdispatch': <module 'IPython.utils.strdispatch' from 'C:\\\\Users\\\\ansor.taghoev\\\\AppData\\\\Roaming\\\\Python\\\\Python312\\\\site-packages\\\\IPython\\\\utils\\\\strdispatch.py'>,\n",
       " 'IPython.utils.syspathcontext': <module 'IPython.utils.syspathcontext' from 'C:\\\\Users\\\\ansor.taghoev\\\\AppData\\\\Roaming\\\\Python\\\\Python312\\\\site-packages\\\\IPython\\\\utils\\\\syspathcontext.py'>,\n",
       " 'IPython.core.async_helpers': <module 'IPython.core.async_helpers' from 'C:\\\\Users\\\\ansor.taghoev\\\\AppData\\\\Roaming\\\\Python\\\\Python312\\\\site-packages\\\\IPython\\\\core\\\\async_helpers.py'>,\n",
       " 'IPython.core.interactiveshell': <module 'IPython.core.interactiveshell' from 'C:\\\\Users\\\\ansor.taghoev\\\\AppData\\\\Roaming\\\\Python\\\\Python312\\\\site-packages\\\\IPython\\\\core\\\\interactiveshell.py'>,\n",
       " 'prompt_toolkit.application.current': <module 'prompt_toolkit.application.current' from 'C:\\\\Users\\\\ansor.taghoev\\\\AppData\\\\Roaming\\\\Python\\\\Python312\\\\site-packages\\\\prompt_toolkit\\\\application\\\\current.py'>,\n",
       " 'prompt_toolkit.eventloop.utils': <module 'prompt_toolkit.eventloop.utils' from 'C:\\\\Users\\\\ansor.taghoev\\\\AppData\\\\Roaming\\\\Python\\\\Python312\\\\site-packages\\\\prompt_toolkit\\\\eventloop\\\\utils.py'>,\n",
       " 'prompt_toolkit.eventloop.async_generator': <module 'prompt_toolkit.eventloop.async_generator' from 'C:\\\\Users\\\\ansor.taghoev\\\\AppData\\\\Roaming\\\\Python\\\\Python312\\\\site-packages\\\\prompt_toolkit\\\\eventloop\\\\async_generator.py'>,\n",
       " 'prompt_toolkit.eventloop.inputhook': <module 'prompt_toolkit.eventloop.inputhook' from 'C:\\\\Users\\\\ansor.taghoev\\\\AppData\\\\Roaming\\\\Python\\\\Python312\\\\site-packages\\\\prompt_toolkit\\\\eventloop\\\\inputhook.py'>,\n",
       " 'prompt_toolkit.eventloop': <module 'prompt_toolkit.eventloop' from 'C:\\\\Users\\\\ansor.taghoev\\\\AppData\\\\Roaming\\\\Python\\\\Python312\\\\site-packages\\\\prompt_toolkit\\\\eventloop\\\\__init__.py'>,\n",
       " 'prompt_toolkit.application.run_in_terminal': <module 'prompt_toolkit.application.run_in_terminal' from 'C:\\\\Users\\\\ansor.taghoev\\\\AppData\\\\Roaming\\\\Python\\\\Python312\\\\site-packages\\\\prompt_toolkit\\\\application\\\\run_in_terminal.py'>,\n",
       " 'prompt_toolkit.selection': <module 'prompt_toolkit.selection' from 'C:\\\\Users\\\\ansor.taghoev\\\\AppData\\\\Roaming\\\\Python\\\\Python312\\\\site-packages\\\\prompt_toolkit\\\\selection.py'>,\n",
       " 'prompt_toolkit.clipboard.base': <module 'prompt_toolkit.clipboard.base' from 'C:\\\\Users\\\\ansor.taghoev\\\\AppData\\\\Roaming\\\\Python\\\\Python312\\\\site-packages\\\\prompt_toolkit\\\\clipboard\\\\base.py'>,\n",
       " 'prompt_toolkit.clipboard.in_memory': <module 'prompt_toolkit.clipboard.in_memory' from 'C:\\\\Users\\\\ansor.taghoev\\\\AppData\\\\Roaming\\\\Python\\\\Python312\\\\site-packages\\\\prompt_toolkit\\\\clipboard\\\\in_memory.py'>,\n",
       " 'prompt_toolkit.clipboard': <module 'prompt_toolkit.clipboard' from 'C:\\\\Users\\\\ansor.taghoev\\\\AppData\\\\Roaming\\\\Python\\\\Python312\\\\site-packages\\\\prompt_toolkit\\\\clipboard\\\\__init__.py'>,\n",
       " 'prompt_toolkit.cache': <module 'prompt_toolkit.cache' from 'C:\\\\Users\\\\ansor.taghoev\\\\AppData\\\\Roaming\\\\Python\\\\Python312\\\\site-packages\\\\prompt_toolkit\\\\cache.py'>,\n",
       " 'prompt_toolkit.enums': <module 'prompt_toolkit.enums' from 'C:\\\\Users\\\\ansor.taghoev\\\\AppData\\\\Roaming\\\\Python\\\\Python312\\\\site-packages\\\\prompt_toolkit\\\\enums.py'>,\n",
       " 'prompt_toolkit.filters.base': <module 'prompt_toolkit.filters.base' from 'C:\\\\Users\\\\ansor.taghoev\\\\AppData\\\\Roaming\\\\Python\\\\Python312\\\\site-packages\\\\prompt_toolkit\\\\filters\\\\base.py'>,\n",
       " 'prompt_toolkit.filters.app': <module 'prompt_toolkit.filters.app' from 'C:\\\\Users\\\\ansor.taghoev\\\\AppData\\\\Roaming\\\\Python\\\\Python312\\\\site-packages\\\\prompt_toolkit\\\\filters\\\\app.py'>,\n",
       " 'prompt_toolkit.filters.cli': <module 'prompt_toolkit.filters.cli' from 'C:\\\\Users\\\\ansor.taghoev\\\\AppData\\\\Roaming\\\\Python\\\\Python312\\\\site-packages\\\\prompt_toolkit\\\\filters\\\\cli.py'>,\n",
       " 'prompt_toolkit.filters.utils': <module 'prompt_toolkit.filters.utils' from 'C:\\\\Users\\\\ansor.taghoev\\\\AppData\\\\Roaming\\\\Python\\\\Python312\\\\site-packages\\\\prompt_toolkit\\\\filters\\\\utils.py'>,\n",
       " 'prompt_toolkit.filters': <module 'prompt_toolkit.filters' from 'C:\\\\Users\\\\ansor.taghoev\\\\AppData\\\\Roaming\\\\Python\\\\Python312\\\\site-packages\\\\prompt_toolkit\\\\filters\\\\__init__.py'>,\n",
       " 'prompt_toolkit.document': <module 'prompt_toolkit.document' from 'C:\\\\Users\\\\ansor.taghoev\\\\AppData\\\\Roaming\\\\Python\\\\Python312\\\\site-packages\\\\prompt_toolkit\\\\document.py'>,\n",
       " 'prompt_toolkit.auto_suggest': <module 'prompt_toolkit.auto_suggest' from 'C:\\\\Users\\\\ansor.taghoev\\\\AppData\\\\Roaming\\\\Python\\\\Python312\\\\site-packages\\\\prompt_toolkit\\\\auto_suggest.py'>,\n",
       " 'prompt_toolkit.keys': <module 'prompt_toolkit.keys' from 'C:\\\\Users\\\\ansor.taghoev\\\\AppData\\\\Roaming\\\\Python\\\\Python312\\\\site-packages\\\\prompt_toolkit\\\\keys.py'>,\n",
       " 'prompt_toolkit.key_binding.key_bindings': <module 'prompt_toolkit.key_binding.key_bindings' from 'C:\\\\Users\\\\ansor.taghoev\\\\AppData\\\\Roaming\\\\Python\\\\Python312\\\\site-packages\\\\prompt_toolkit\\\\key_binding\\\\key_bindings.py'>,\n",
       " 'wcwidth.table_vs16': <module 'wcwidth.table_vs16' from 'C:\\\\Users\\\\ansor.taghoev\\\\AppData\\\\Roaming\\\\Python\\\\Python312\\\\site-packages\\\\wcwidth\\\\table_vs16.py'>,\n",
       " 'wcwidth.table_wide': <module 'wcwidth.table_wide' from 'C:\\\\Users\\\\ansor.taghoev\\\\AppData\\\\Roaming\\\\Python\\\\Python312\\\\site-packages\\\\wcwidth\\\\table_wide.py'>,\n",
       " 'wcwidth.table_zero': <module 'wcwidth.table_zero' from 'C:\\\\Users\\\\ansor.taghoev\\\\AppData\\\\Roaming\\\\Python\\\\Python312\\\\site-packages\\\\wcwidth\\\\table_zero.py'>,\n",
       " 'wcwidth.unicode_versions': <module 'wcwidth.unicode_versions' from 'C:\\\\Users\\\\ansor.taghoev\\\\AppData\\\\Roaming\\\\Python\\\\Python312\\\\site-packages\\\\wcwidth\\\\unicode_versions.py'>,\n",
       " 'wcwidth.wcwidth': <module 'wcwidth.wcwidth' from 'C:\\\\Users\\\\ansor.taghoev\\\\AppData\\\\Roaming\\\\Python\\\\Python312\\\\site-packages\\\\wcwidth\\\\wcwidth.py'>,\n",
       " 'wcwidth': <module 'wcwidth' from 'C:\\\\Users\\\\ansor.taghoev\\\\AppData\\\\Roaming\\\\Python\\\\Python312\\\\site-packages\\\\wcwidth\\\\__init__.py'>,\n",
       " 'prompt_toolkit.utils': <module 'prompt_toolkit.utils' from 'C:\\\\Users\\\\ansor.taghoev\\\\AppData\\\\Roaming\\\\Python\\\\Python312\\\\site-packages\\\\prompt_toolkit\\\\utils.py'>,\n",
       " 'prompt_toolkit.key_binding.key_processor': <module 'prompt_toolkit.key_binding.key_processor' from 'C:\\\\Users\\\\ansor.taghoev\\\\AppData\\\\Roaming\\\\Python\\\\Python312\\\\site-packages\\\\prompt_toolkit\\\\key_binding\\\\key_processor.py'>,\n",
       " 'prompt_toolkit.key_binding': <module 'prompt_toolkit.key_binding' from 'C:\\\\Users\\\\ansor.taghoev\\\\AppData\\\\Roaming\\\\Python\\\\Python312\\\\site-packages\\\\prompt_toolkit\\\\key_binding\\\\__init__.py'>,\n",
       " 'prompt_toolkit.key_binding.vi_state': <module 'prompt_toolkit.key_binding.vi_state' from 'C:\\\\Users\\\\ansor.taghoev\\\\AppData\\\\Roaming\\\\Python\\\\Python312\\\\site-packages\\\\prompt_toolkit\\\\key_binding\\\\vi_state.py'>,\n",
       " 'prompt_toolkit.cursor_shapes': <module 'prompt_toolkit.cursor_shapes' from 'C:\\\\Users\\\\ansor.taghoev\\\\AppData\\\\Roaming\\\\Python\\\\Python312\\\\site-packages\\\\prompt_toolkit\\\\cursor_shapes.py'>,\n",
       " 'prompt_toolkit.data_structures': <module 'prompt_toolkit.data_structures' from 'C:\\\\Users\\\\ansor.taghoev\\\\AppData\\\\Roaming\\\\Python\\\\Python312\\\\site-packages\\\\prompt_toolkit\\\\data_structures.py'>,\n",
       " 'prompt_toolkit.styles.base': <module 'prompt_toolkit.styles.base' from 'C:\\\\Users\\\\ansor.taghoev\\\\AppData\\\\Roaming\\\\Python\\\\Python312\\\\site-packages\\\\prompt_toolkit\\\\styles\\\\base.py'>,\n",
       " 'prompt_toolkit.styles.named_colors': <module 'prompt_toolkit.styles.named_colors' from 'C:\\\\Users\\\\ansor.taghoev\\\\AppData\\\\Roaming\\\\Python\\\\Python312\\\\site-packages\\\\prompt_toolkit\\\\styles\\\\named_colors.py'>,\n",
       " 'prompt_toolkit.styles.style': <module 'prompt_toolkit.styles.style' from 'C:\\\\Users\\\\ansor.taghoev\\\\AppData\\\\Roaming\\\\Python\\\\Python312\\\\site-packages\\\\prompt_toolkit\\\\styles\\\\style.py'>,\n",
       " 'prompt_toolkit.styles.defaults': <module 'prompt_toolkit.styles.defaults' from 'C:\\\\Users\\\\ansor.taghoev\\\\AppData\\\\Roaming\\\\Python\\\\Python312\\\\site-packages\\\\prompt_toolkit\\\\styles\\\\defaults.py'>,\n",
       " 'prompt_toolkit.styles.pygments': <module 'prompt_toolkit.styles.pygments' from 'C:\\\\Users\\\\ansor.taghoev\\\\AppData\\\\Roaming\\\\Python\\\\Python312\\\\site-packages\\\\prompt_toolkit\\\\styles\\\\pygments.py'>,\n",
       " 'colorsys': <module 'colorsys' from 'c:\\\\Users\\\\ansor.taghoev\\\\AppData\\\\Local\\\\Programs\\\\Python\\\\Python312\\\\Lib\\\\colorsys.py'>,\n",
       " 'prompt_toolkit.styles.style_transformation': <module 'prompt_toolkit.styles.style_transformation' from 'C:\\\\Users\\\\ansor.taghoev\\\\AppData\\\\Roaming\\\\Python\\\\Python312\\\\site-packages\\\\prompt_toolkit\\\\styles\\\\style_transformation.py'>,\n",
       " 'prompt_toolkit.styles': <module 'prompt_toolkit.styles' from 'C:\\\\Users\\\\ansor.taghoev\\\\AppData\\\\Roaming\\\\Python\\\\Python312\\\\site-packages\\\\prompt_toolkit\\\\styles\\\\__init__.py'>,\n",
       " 'prompt_toolkit.output.color_depth': <module 'prompt_toolkit.output.color_depth' from 'C:\\\\Users\\\\ansor.taghoev\\\\AppData\\\\Roaming\\\\Python\\\\Python312\\\\site-packages\\\\prompt_toolkit\\\\output\\\\color_depth.py'>,\n",
       " 'prompt_toolkit.output.base': <module 'prompt_toolkit.output.base' from 'C:\\\\Users\\\\ansor.taghoev\\\\AppData\\\\Roaming\\\\Python\\\\Python312\\\\site-packages\\\\prompt_toolkit\\\\output\\\\base.py'>,\n",
       " 'prompt_toolkit.output.flush_stdout': <module 'prompt_toolkit.output.flush_stdout' from 'C:\\\\Users\\\\ansor.taghoev\\\\AppData\\\\Roaming\\\\Python\\\\Python312\\\\site-packages\\\\prompt_toolkit\\\\output\\\\flush_stdout.py'>,\n",
       " 'prompt_toolkit.output.plain_text': <module 'prompt_toolkit.output.plain_text' from 'C:\\\\Users\\\\ansor.taghoev\\\\AppData\\\\Roaming\\\\Python\\\\Python312\\\\site-packages\\\\prompt_toolkit\\\\output\\\\plain_text.py'>,\n",
       " 'prompt_toolkit.output.defaults': <module 'prompt_toolkit.output.defaults' from 'C:\\\\Users\\\\ansor.taghoev\\\\AppData\\\\Roaming\\\\Python\\\\Python312\\\\site-packages\\\\prompt_toolkit\\\\output\\\\defaults.py'>,\n",
       " 'prompt_toolkit.output': <module 'prompt_toolkit.output' from 'C:\\\\Users\\\\ansor.taghoev\\\\AppData\\\\Roaming\\\\Python\\\\Python312\\\\site-packages\\\\prompt_toolkit\\\\output\\\\__init__.py'>,\n",
       " 'prompt_toolkit.output.vt100': <module 'prompt_toolkit.output.vt100' from 'C:\\\\Users\\\\ansor.taghoev\\\\AppData\\\\Roaming\\\\Python\\\\Python312\\\\site-packages\\\\prompt_toolkit\\\\output\\\\vt100.py'>,\n",
       " 'prompt_toolkit.mouse_events': <module 'prompt_toolkit.mouse_events' from 'C:\\\\Users\\\\ansor.taghoev\\\\AppData\\\\Roaming\\\\Python\\\\Python312\\\\site-packages\\\\prompt_toolkit\\\\mouse_events.py'>,\n",
       " 'prompt_toolkit.formatted_text.base': <module 'prompt_toolkit.formatted_text.base' from 'C:\\\\Users\\\\ansor.taghoev\\\\AppData\\\\Roaming\\\\Python\\\\Python312\\\\site-packages\\\\prompt_toolkit\\\\formatted_text\\\\base.py'>,\n",
       " 'prompt_toolkit.formatted_text.ansi': <module 'prompt_toolkit.formatted_text.ansi' from 'C:\\\\Users\\\\ansor.taghoev\\\\AppData\\\\Roaming\\\\Python\\\\Python312\\\\site-packages\\\\prompt_toolkit\\\\formatted_text\\\\ansi.py'>,\n",
       " 'xml': <module 'xml' from 'c:\\\\Users\\\\ansor.taghoev\\\\AppData\\\\Local\\\\Programs\\\\Python\\\\Python312\\\\Lib\\\\xml\\\\__init__.py'>,\n",
       " 'xml.dom.domreg': <module 'xml.dom.domreg' from 'c:\\\\Users\\\\ansor.taghoev\\\\AppData\\\\Local\\\\Programs\\\\Python\\\\Python312\\\\Lib\\\\xml\\\\dom\\\\domreg.py'>,\n",
       " 'xml.dom': <module 'xml.dom' from 'c:\\\\Users\\\\ansor.taghoev\\\\AppData\\\\Local\\\\Programs\\\\Python\\\\Python312\\\\Lib\\\\xml\\\\dom\\\\__init__.py'>,\n",
       " 'xml.dom.minicompat': <module 'xml.dom.minicompat' from 'c:\\\\Users\\\\ansor.taghoev\\\\AppData\\\\Local\\\\Programs\\\\Python\\\\Python312\\\\Lib\\\\xml\\\\dom\\\\minicompat.py'>,\n",
       " 'xml.dom.NodeFilter': <module 'xml.dom.NodeFilter' from 'c:\\\\Users\\\\ansor.taghoev\\\\AppData\\\\Local\\\\Programs\\\\Python\\\\Python312\\\\Lib\\\\xml\\\\dom\\\\NodeFilter.py'>,\n",
       " 'xml.dom.xmlbuilder': <module 'xml.dom.xmlbuilder' from 'c:\\\\Users\\\\ansor.taghoev\\\\AppData\\\\Local\\\\Programs\\\\Python\\\\Python312\\\\Lib\\\\xml\\\\dom\\\\xmlbuilder.py'>,\n",
       " 'xml.dom.minidom': <module 'xml.dom.minidom' from 'c:\\\\Users\\\\ansor.taghoev\\\\AppData\\\\Local\\\\Programs\\\\Python\\\\Python312\\\\Lib\\\\xml\\\\dom\\\\minidom.py'>,\n",
       " 'prompt_toolkit.formatted_text.html': <module 'prompt_toolkit.formatted_text.html' from 'C:\\\\Users\\\\ansor.taghoev\\\\AppData\\\\Roaming\\\\Python\\\\Python312\\\\site-packages\\\\prompt_toolkit\\\\formatted_text\\\\html.py'>,\n",
       " 'prompt_toolkit.formatted_text.pygments': <module 'prompt_toolkit.formatted_text.pygments' from 'C:\\\\Users\\\\ansor.taghoev\\\\AppData\\\\Roaming\\\\Python\\\\Python312\\\\site-packages\\\\prompt_toolkit\\\\formatted_text\\\\pygments.py'>,\n",
       " 'prompt_toolkit.formatted_text.utils': <module 'prompt_toolkit.formatted_text.utils' from 'C:\\\\Users\\\\ansor.taghoev\\\\AppData\\\\Roaming\\\\Python\\\\Python312\\\\site-packages\\\\prompt_toolkit\\\\formatted_text\\\\utils.py'>,\n",
       " 'prompt_toolkit.formatted_text': <module 'prompt_toolkit.formatted_text' from 'C:\\\\Users\\\\ansor.taghoev\\\\AppData\\\\Roaming\\\\Python\\\\Python312\\\\site-packages\\\\prompt_toolkit\\\\formatted_text\\\\__init__.py'>,\n",
       " 'prompt_toolkit.completion.base': <module 'prompt_toolkit.completion.base' from 'C:\\\\Users\\\\ansor.taghoev\\\\AppData\\\\Roaming\\\\Python\\\\Python312\\\\site-packages\\\\prompt_toolkit\\\\completion\\\\base.py'>,\n",
       " 'prompt_toolkit.completion.deduplicate': <module 'prompt_toolkit.completion.deduplicate' from 'C:\\\\Users\\\\ansor.taghoev\\\\AppData\\\\Roaming\\\\Python\\\\Python312\\\\site-packages\\\\prompt_toolkit\\\\completion\\\\deduplicate.py'>,\n",
       " 'prompt_toolkit.completion.filesystem': <module 'prompt_toolkit.completion.filesystem' from 'C:\\\\Users\\\\ansor.taghoev\\\\AppData\\\\Roaming\\\\Python\\\\Python312\\\\site-packages\\\\prompt_toolkit\\\\completion\\\\filesystem.py'>,\n",
       " 'prompt_toolkit.completion.word_completer': <module 'prompt_toolkit.completion.word_completer' from 'C:\\\\Users\\\\ansor.taghoev\\\\AppData\\\\Roaming\\\\Python\\\\Python312\\\\site-packages\\\\prompt_toolkit\\\\completion\\\\word_completer.py'>,\n",
       " 'prompt_toolkit.completion.fuzzy_completer': <module 'prompt_toolkit.completion.fuzzy_completer' from 'C:\\\\Users\\\\ansor.taghoev\\\\AppData\\\\Roaming\\\\Python\\\\Python312\\\\site-packages\\\\prompt_toolkit\\\\completion\\\\fuzzy_completer.py'>,\n",
       " 'prompt_toolkit.completion.nested': <module 'prompt_toolkit.completion.nested' from 'C:\\\\Users\\\\ansor.taghoev\\\\AppData\\\\Roaming\\\\Python\\\\Python312\\\\site-packages\\\\prompt_toolkit\\\\completion\\\\nested.py'>,\n",
       " 'prompt_toolkit.completion': <module 'prompt_toolkit.completion' from 'C:\\\\Users\\\\ansor.taghoev\\\\AppData\\\\Roaming\\\\Python\\\\Python312\\\\site-packages\\\\prompt_toolkit\\\\completion\\\\__init__.py'>,\n",
       " 'prompt_toolkit.history': <module 'prompt_toolkit.history' from 'C:\\\\Users\\\\ansor.taghoev\\\\AppData\\\\Roaming\\\\Python\\\\Python312\\\\site-packages\\\\prompt_toolkit\\\\history.py'>,\n",
       " 'prompt_toolkit.search': <module 'prompt_toolkit.search' from 'C:\\\\Users\\\\ansor.taghoev\\\\AppData\\\\Roaming\\\\Python\\\\Python312\\\\site-packages\\\\prompt_toolkit\\\\search.py'>,\n",
       " 'prompt_toolkit.validation': <module 'prompt_toolkit.validation' from 'C:\\\\Users\\\\ansor.taghoev\\\\AppData\\\\Roaming\\\\Python\\\\Python312\\\\site-packages\\\\prompt_toolkit\\\\validation.py'>,\n",
       " 'prompt_toolkit.buffer': <module 'prompt_toolkit.buffer' from 'C:\\\\Users\\\\ansor.taghoev\\\\AppData\\\\Roaming\\\\Python\\\\Python312\\\\site-packages\\\\prompt_toolkit\\\\buffer.py'>,\n",
       " 'prompt_toolkit.input.base': <module 'prompt_toolkit.input.base' from 'C:\\\\Users\\\\ansor.taghoev\\\\AppData\\\\Roaming\\\\Python\\\\Python312\\\\site-packages\\\\prompt_toolkit\\\\input\\\\base.py'>,\n",
       " 'prompt_toolkit.input.defaults': <module 'prompt_toolkit.input.defaults' from 'C:\\\\Users\\\\ansor.taghoev\\\\AppData\\\\Roaming\\\\Python\\\\Python312\\\\site-packages\\\\prompt_toolkit\\\\input\\\\defaults.py'>,\n",
       " 'prompt_toolkit.input': <module 'prompt_toolkit.input' from 'C:\\\\Users\\\\ansor.taghoev\\\\AppData\\\\Roaming\\\\Python\\\\Python312\\\\site-packages\\\\prompt_toolkit\\\\input\\\\__init__.py'>,\n",
       " 'prompt_toolkit.input.typeahead': <module 'prompt_toolkit.input.typeahead' from 'C:\\\\Users\\\\ansor.taghoev\\\\AppData\\\\Roaming\\\\Python\\\\Python312\\\\site-packages\\\\prompt_toolkit\\\\input\\\\typeahead.py'>,\n",
       " 'prompt_toolkit.key_binding.bindings': <module 'prompt_toolkit.key_binding.bindings' from 'C:\\\\Users\\\\ansor.taghoev\\\\AppData\\\\Roaming\\\\Python\\\\Python312\\\\site-packages\\\\prompt_toolkit\\\\key_binding\\\\bindings\\\\__init__.py'>,\n",
       " 'prompt_toolkit.key_binding.bindings.scroll': <module 'prompt_toolkit.key_binding.bindings.scroll' from 'C:\\\\Users\\\\ansor.taghoev\\\\AppData\\\\Roaming\\\\Python\\\\Python312\\\\site-packages\\\\prompt_toolkit\\\\key_binding\\\\bindings\\\\scroll.py'>,\n",
       " 'prompt_toolkit.key_binding.bindings.page_navigation': <module 'prompt_toolkit.key_binding.bindings.page_navigation' from 'C:\\\\Users\\\\ansor.taghoev\\\\AppData\\\\Roaming\\\\Python\\\\Python312\\\\site-packages\\\\prompt_toolkit\\\\key_binding\\\\bindings\\\\page_navigation.py'>,\n",
       " 'prompt_toolkit.lexers.base': <module 'prompt_toolkit.lexers.base' from 'C:\\\\Users\\\\ansor.taghoev\\\\AppData\\\\Roaming\\\\Python\\\\Python312\\\\site-packages\\\\prompt_toolkit\\\\lexers\\\\base.py'>,\n",
       " 'prompt_toolkit.lexers.pygments': <module 'prompt_toolkit.lexers.pygments' from 'C:\\\\Users\\\\ansor.taghoev\\\\AppData\\\\Roaming\\\\Python\\\\Python312\\\\site-packages\\\\prompt_toolkit\\\\lexers\\\\pygments.py'>,\n",
       " 'prompt_toolkit.lexers': <module 'prompt_toolkit.lexers' from 'C:\\\\Users\\\\ansor.taghoev\\\\AppData\\\\Roaming\\\\Python\\\\Python312\\\\site-packages\\\\prompt_toolkit\\\\lexers\\\\__init__.py'>,\n",
       " 'prompt_toolkit.layout.utils': <module 'prompt_toolkit.layout.utils' from 'C:\\\\Users\\\\ansor.taghoev\\\\AppData\\\\Roaming\\\\Python\\\\Python312\\\\site-packages\\\\prompt_toolkit\\\\layout\\\\utils.py'>,\n",
       " 'prompt_toolkit.layout.processors': <module 'prompt_toolkit.layout.processors' from 'C:\\\\Users\\\\ansor.taghoev\\\\AppData\\\\Roaming\\\\Python\\\\Python312\\\\site-packages\\\\prompt_toolkit\\\\layout\\\\processors.py'>,\n",
       " 'prompt_toolkit.layout.controls': <module 'prompt_toolkit.layout.controls' from 'C:\\\\Users\\\\ansor.taghoev\\\\AppData\\\\Roaming\\\\Python\\\\Python312\\\\site-packages\\\\prompt_toolkit\\\\layout\\\\controls.py'>,\n",
       " 'prompt_toolkit.layout.dimension': <module 'prompt_toolkit.layout.dimension' from 'C:\\\\Users\\\\ansor.taghoev\\\\AppData\\\\Roaming\\\\Python\\\\Python312\\\\site-packages\\\\prompt_toolkit\\\\layout\\\\dimension.py'>,\n",
       " 'prompt_toolkit.layout.margins': <module 'prompt_toolkit.layout.margins' from 'C:\\\\Users\\\\ansor.taghoev\\\\AppData\\\\Roaming\\\\Python\\\\Python312\\\\site-packages\\\\prompt_toolkit\\\\layout\\\\margins.py'>,\n",
       " 'prompt_toolkit.layout.mouse_handlers': <module 'prompt_toolkit.layout.mouse_handlers' from 'C:\\\\Users\\\\ansor.taghoev\\\\AppData\\\\Roaming\\\\Python\\\\Python312\\\\site-packages\\\\prompt_toolkit\\\\layout\\\\mouse_handlers.py'>,\n",
       " 'prompt_toolkit.layout.screen': <module 'prompt_toolkit.layout.screen' from 'C:\\\\Users\\\\ansor.taghoev\\\\AppData\\\\Roaming\\\\Python\\\\Python312\\\\site-packages\\\\prompt_toolkit\\\\layout\\\\screen.py'>,\n",
       " 'prompt_toolkit.layout.containers': <module 'prompt_toolkit.layout.containers' from 'C:\\\\Users\\\\ansor.taghoev\\\\AppData\\\\Roaming\\\\Python\\\\Python312\\\\site-packages\\\\prompt_toolkit\\\\layout\\\\containers.py'>,\n",
       " 'prompt_toolkit.layout.layout': <module 'prompt_toolkit.layout.layout' from 'C:\\\\Users\\\\ansor.taghoev\\\\AppData\\\\Roaming\\\\Python\\\\Python312\\\\site-packages\\\\prompt_toolkit\\\\layout\\\\layout.py'>,\n",
       " 'prompt_toolkit.layout.menus': <module 'prompt_toolkit.layout.menus' from 'C:\\\\Users\\\\ansor.taghoev\\\\AppData\\\\Roaming\\\\Python\\\\Python312\\\\site-packages\\\\prompt_toolkit\\\\layout\\\\menus.py'>,\n",
       " 'prompt_toolkit.layout.scrollable_pane': <module 'prompt_toolkit.layout.scrollable_pane' from 'C:\\\\Users\\\\ansor.taghoev\\\\AppData\\\\Roaming\\\\Python\\\\Python312\\\\site-packages\\\\prompt_toolkit\\\\layout\\\\scrollable_pane.py'>,\n",
       " 'prompt_toolkit.layout': <module 'prompt_toolkit.layout' from 'C:\\\\Users\\\\ansor.taghoev\\\\AppData\\\\Roaming\\\\Python\\\\Python312\\\\site-packages\\\\prompt_toolkit\\\\layout\\\\__init__.py'>,\n",
       " 'prompt_toolkit.key_binding.bindings.completion': <module 'prompt_toolkit.key_binding.bindings.completion' from 'C:\\\\Users\\\\ansor.taghoev\\\\AppData\\\\Roaming\\\\Python\\\\Python312\\\\site-packages\\\\prompt_toolkit\\\\key_binding\\\\bindings\\\\completion.py'>,\n",
       " 'prompt_toolkit.key_binding.bindings.named_commands': <module 'prompt_toolkit.key_binding.bindings.named_commands' from 'C:\\\\Users\\\\ansor.taghoev\\\\AppData\\\\Roaming\\\\Python\\\\Python312\\\\site-packages\\\\prompt_toolkit\\\\key_binding\\\\bindings\\\\named_commands.py'>,\n",
       " 'prompt_toolkit.key_binding.bindings.basic': <module 'prompt_toolkit.key_binding.bindings.basic' from 'C:\\\\Users\\\\ansor.taghoev\\\\AppData\\\\Roaming\\\\Python\\\\Python312\\\\site-packages\\\\prompt_toolkit\\\\key_binding\\\\bindings\\\\basic.py'>,\n",
       " 'prompt_toolkit.key_binding.bindings.cpr': <module 'prompt_toolkit.key_binding.bindings.cpr' from 'C:\\\\Users\\\\ansor.taghoev\\\\AppData\\\\Roaming\\\\Python\\\\Python312\\\\site-packages\\\\prompt_toolkit\\\\key_binding\\\\bindings\\\\cpr.py'>,\n",
       " 'prompt_toolkit.key_binding.bindings.emacs': <module 'prompt_toolkit.key_binding.bindings.emacs' from 'C:\\\\Users\\\\ansor.taghoev\\\\AppData\\\\Roaming\\\\Python\\\\Python312\\\\site-packages\\\\prompt_toolkit\\\\key_binding\\\\bindings\\\\emacs.py'>,\n",
       " 'prompt_toolkit.key_binding.bindings.mouse': <module 'prompt_toolkit.key_binding.bindings.mouse' from 'C:\\\\Users\\\\ansor.taghoev\\\\AppData\\\\Roaming\\\\Python\\\\Python312\\\\site-packages\\\\prompt_toolkit\\\\key_binding\\\\bindings\\\\mouse.py'>,\n",
       " 'prompt_toolkit.input.ansi_escape_sequences': <module 'prompt_toolkit.input.ansi_escape_sequences' from 'C:\\\\Users\\\\ansor.taghoev\\\\AppData\\\\Roaming\\\\Python\\\\Python312\\\\site-packages\\\\prompt_toolkit\\\\input\\\\ansi_escape_sequences.py'>,\n",
       " 'prompt_toolkit.input.vt100_parser': <module 'prompt_toolkit.input.vt100_parser' from 'C:\\\\Users\\\\ansor.taghoev\\\\AppData\\\\Roaming\\\\Python\\\\Python312\\\\site-packages\\\\prompt_toolkit\\\\input\\\\vt100_parser.py'>,\n",
       " 'prompt_toolkit.key_binding.digraphs': <module 'prompt_toolkit.key_binding.digraphs' from 'C:\\\\Users\\\\ansor.taghoev\\\\AppData\\\\Roaming\\\\Python\\\\Python312\\\\site-packages\\\\prompt_toolkit\\\\key_binding\\\\digraphs.py'>,\n",
       " 'prompt_toolkit.key_binding.bindings.vi': <module 'prompt_toolkit.key_binding.bindings.vi' from 'C:\\\\Users\\\\ansor.taghoev\\\\AppData\\\\Roaming\\\\Python\\\\Python312\\\\site-packages\\\\prompt_toolkit\\\\key_binding\\\\bindings\\\\vi.py'>,\n",
       " 'prompt_toolkit.key_binding.defaults': <module 'prompt_toolkit.key_binding.defaults' from 'C:\\\\Users\\\\ansor.taghoev\\\\AppData\\\\Roaming\\\\Python\\\\Python312\\\\site-packages\\\\prompt_toolkit\\\\key_binding\\\\defaults.py'>,\n",
       " 'prompt_toolkit.key_binding.emacs_state': <module 'prompt_toolkit.key_binding.emacs_state' from 'C:\\\\Users\\\\ansor.taghoev\\\\AppData\\\\Roaming\\\\Python\\\\Python312\\\\site-packages\\\\prompt_toolkit\\\\key_binding\\\\emacs_state.py'>,\n",
       " 'prompt_toolkit.layout.dummy': <module 'prompt_toolkit.layout.dummy' from 'C:\\\\Users\\\\ansor.taghoev\\\\AppData\\\\Roaming\\\\Python\\\\Python312\\\\site-packages\\\\prompt_toolkit\\\\layout\\\\dummy.py'>,\n",
       " 'prompt_toolkit.renderer': <module 'prompt_toolkit.renderer' from 'C:\\\\Users\\\\ansor.taghoev\\\\AppData\\\\Roaming\\\\Python\\\\Python312\\\\site-packages\\\\prompt_toolkit\\\\renderer.py'>,\n",
       " 'prompt_toolkit.application.application': <module 'prompt_toolkit.application.application' from 'C:\\\\Users\\\\ansor.taghoev\\\\AppData\\\\Roaming\\\\Python\\\\Python312\\\\site-packages\\\\prompt_toolkit\\\\application\\\\application.py'>,\n",
       " 'prompt_toolkit.application.dummy': <module 'prompt_toolkit.application.dummy' from 'C:\\\\Users\\\\ansor.taghoev\\\\AppData\\\\Roaming\\\\Python\\\\Python312\\\\site-packages\\\\prompt_toolkit\\\\application\\\\dummy.py'>,\n",
       " 'prompt_toolkit.application': <module 'prompt_toolkit.application' from 'C:\\\\Users\\\\ansor.taghoev\\\\AppData\\\\Roaming\\\\Python\\\\Python312\\\\site-packages\\\\prompt_toolkit\\\\application\\\\__init__.py'>,\n",
       " 'prompt_toolkit.key_binding.bindings.focus': <module 'prompt_toolkit.key_binding.bindings.focus' from 'C:\\\\Users\\\\ansor.taghoev\\\\AppData\\\\Roaming\\\\Python\\\\Python312\\\\site-packages\\\\prompt_toolkit\\\\key_binding\\\\bindings\\\\focus.py'>,\n",
       " 'prompt_toolkit.widgets.toolbars': <module 'prompt_toolkit.widgets.toolbars' from 'C:\\\\Users\\\\ansor.taghoev\\\\AppData\\\\Roaming\\\\Python\\\\Python312\\\\site-packages\\\\prompt_toolkit\\\\widgets\\\\toolbars.py'>,\n",
       " 'prompt_toolkit.widgets.base': <module 'prompt_toolkit.widgets.base' from 'C:\\\\Users\\\\ansor.taghoev\\\\AppData\\\\Roaming\\\\Python\\\\Python312\\\\site-packages\\\\prompt_toolkit\\\\widgets\\\\base.py'>,\n",
       " 'prompt_toolkit.widgets.dialogs': <module 'prompt_toolkit.widgets.dialogs' from 'C:\\\\Users\\\\ansor.taghoev\\\\AppData\\\\Roaming\\\\Python\\\\Python312\\\\site-packages\\\\prompt_toolkit\\\\widgets\\\\dialogs.py'>,\n",
       " 'prompt_toolkit.widgets.menus': <module 'prompt_toolkit.widgets.menus' from 'C:\\\\Users\\\\ansor.taghoev\\\\AppData\\\\Roaming\\\\Python\\\\Python312\\\\site-packages\\\\prompt_toolkit\\\\widgets\\\\menus.py'>,\n",
       " 'prompt_toolkit.widgets': <module 'prompt_toolkit.widgets' from 'C:\\\\Users\\\\ansor.taghoev\\\\AppData\\\\Roaming\\\\Python\\\\Python312\\\\site-packages\\\\prompt_toolkit\\\\widgets\\\\__init__.py'>,\n",
       " 'prompt_toolkit.shortcuts.dialogs': <module 'prompt_toolkit.shortcuts.dialogs' from 'C:\\\\Users\\\\ansor.taghoev\\\\AppData\\\\Roaming\\\\Python\\\\Python312\\\\site-packages\\\\prompt_toolkit\\\\shortcuts\\\\dialogs.py'>,\n",
       " 'xml.parsers': <module 'xml.parsers' from 'c:\\\\Users\\\\ansor.taghoev\\\\AppData\\\\Local\\\\Programs\\\\Python\\\\Python312\\\\Lib\\\\xml\\\\parsers\\\\__init__.py'>,\n",
       " 'pyexpat.errors': <module 'pyexpat.errors'>,\n",
       " 'pyexpat.model': <module 'pyexpat.model'>,\n",
       " 'pyexpat': <module 'pyexpat' from 'c:\\\\Users\\\\ansor.taghoev\\\\AppData\\\\Local\\\\Programs\\\\Python\\\\Python312\\\\DLLs\\\\pyexpat.pyd'>,\n",
       " 'xml.parsers.expat.model': <module 'pyexpat.model'>,\n",
       " 'xml.parsers.expat.errors': <module 'pyexpat.errors'>,\n",
       " 'xml.parsers.expat': <module 'xml.parsers.expat' from 'c:\\\\Users\\\\ansor.taghoev\\\\AppData\\\\Local\\\\Programs\\\\Python\\\\Python312\\\\Lib\\\\xml\\\\parsers\\\\expat.py'>,\n",
       " 'xml.dom.expatbuilder': <module 'xml.dom.expatbuilder' from 'c:\\\\Users\\\\ansor.taghoev\\\\AppData\\\\Local\\\\Programs\\\\Python\\\\Python312\\\\Lib\\\\xml\\\\dom\\\\expatbuilder.py'>,\n",
       " 'prompt_toolkit.shortcuts.progress_bar.formatters': <module 'prompt_toolkit.shortcuts.progress_bar.formatters' from 'C:\\\\Users\\\\ansor.taghoev\\\\AppData\\\\Roaming\\\\Python\\\\Python312\\\\site-packages\\\\prompt_toolkit\\\\shortcuts\\\\progress_bar\\\\formatters.py'>,\n",
       " 'prompt_toolkit.shortcuts.progress_bar.base': <module 'prompt_toolkit.shortcuts.progress_bar.base' from 'C:\\\\Users\\\\ansor.taghoev\\\\AppData\\\\Roaming\\\\Python\\\\Python312\\\\site-packages\\\\prompt_toolkit\\\\shortcuts\\\\progress_bar\\\\base.py'>,\n",
       " 'prompt_toolkit.shortcuts.progress_bar': <module 'prompt_toolkit.shortcuts.progress_bar' from 'C:\\\\Users\\\\ansor.taghoev\\\\AppData\\\\Roaming\\\\Python\\\\Python312\\\\site-packages\\\\prompt_toolkit\\\\shortcuts\\\\progress_bar\\\\__init__.py'>,\n",
       " 'prompt_toolkit.key_binding.bindings.auto_suggest': <module 'prompt_toolkit.key_binding.bindings.auto_suggest' from 'C:\\\\Users\\\\ansor.taghoev\\\\AppData\\\\Roaming\\\\Python\\\\Python312\\\\site-packages\\\\prompt_toolkit\\\\key_binding\\\\bindings\\\\auto_suggest.py'>,\n",
       " 'prompt_toolkit.key_binding.bindings.open_in_editor': <module 'prompt_toolkit.key_binding.bindings.open_in_editor' from 'C:\\\\Users\\\\ansor.taghoev\\\\AppData\\\\Roaming\\\\Python\\\\Python312\\\\site-packages\\\\prompt_toolkit\\\\key_binding\\\\bindings\\\\open_in_editor.py'>,\n",
       " 'prompt_toolkit.shortcuts.prompt': <module 'prompt_toolkit.shortcuts.prompt' from 'C:\\\\Users\\\\ansor.taghoev\\\\AppData\\\\Roaming\\\\Python\\\\Python312\\\\site-packages\\\\prompt_toolkit\\\\shortcuts\\\\prompt.py'>,\n",
       " 'prompt_toolkit.shortcuts.utils': <module 'prompt_toolkit.shortcuts.utils' from 'C:\\\\Users\\\\ansor.taghoev\\\\AppData\\\\Roaming\\\\Python\\\\Python312\\\\site-packages\\\\prompt_toolkit\\\\shortcuts\\\\utils.py'>,\n",
       " 'prompt_toolkit.shortcuts': <module 'prompt_toolkit.shortcuts' from 'C:\\\\Users\\\\ansor.taghoev\\\\AppData\\\\Roaming\\\\Python\\\\Python312\\\\site-packages\\\\prompt_toolkit\\\\shortcuts\\\\__init__.py'>,\n",
       " 'prompt_toolkit': <module 'prompt_toolkit' from 'C:\\\\Users\\\\ansor.taghoev\\\\AppData\\\\Roaming\\\\Python\\\\Python312\\\\site-packages\\\\prompt_toolkit\\\\__init__.py'>,\n",
       " 'prompt_toolkit.patch_stdout': <module 'prompt_toolkit.patch_stdout' from 'C:\\\\Users\\\\ansor.taghoev\\\\AppData\\\\Roaming\\\\Python\\\\Python312\\\\site-packages\\\\prompt_toolkit\\\\patch_stdout.py'>,\n",
       " 'unicodedata': <module 'unicodedata' from 'c:\\\\Users\\\\ansor.taghoev\\\\AppData\\\\Local\\\\Programs\\\\Python\\\\Python312\\\\DLLs\\\\unicodedata.pyd'>,\n",
       " 'IPython.core.guarded_eval': <module 'IPython.core.guarded_eval' from 'C:\\\\Users\\\\ansor.taghoev\\\\AppData\\\\Roaming\\\\Python\\\\Python312\\\\site-packages\\\\IPython\\\\core\\\\guarded_eval.py'>,\n",
       " 'IPython.core.latex_symbols': <module 'IPython.core.latex_symbols' from 'C:\\\\Users\\\\ansor.taghoev\\\\AppData\\\\Roaming\\\\Python\\\\Python312\\\\site-packages\\\\IPython\\\\core\\\\latex_symbols.py'>,\n",
       " 'IPython.utils.generics': <module 'IPython.utils.generics' from 'C:\\\\Users\\\\ansor.taghoev\\\\AppData\\\\Roaming\\\\Python\\\\Python312\\\\site-packages\\\\IPython\\\\utils\\\\generics.py'>,\n",
       " 'parso.utils': <module 'parso.utils' from 'C:\\\\Users\\\\ansor.taghoev\\\\AppData\\\\Roaming\\\\Python\\\\Python312\\\\site-packages\\\\parso\\\\utils.py'>,\n",
       " 'parso.tree': <module 'parso.tree' from 'C:\\\\Users\\\\ansor.taghoev\\\\AppData\\\\Roaming\\\\Python\\\\Python312\\\\site-packages\\\\parso\\\\tree.py'>,\n",
       " 'parso.python': <module 'parso.python' from 'C:\\\\Users\\\\ansor.taghoev\\\\AppData\\\\Roaming\\\\Python\\\\Python312\\\\site-packages\\\\parso\\\\python\\\\__init__.py'>,\n",
       " 'parso.python.token': <module 'parso.python.token' from 'C:\\\\Users\\\\ansor.taghoev\\\\AppData\\\\Roaming\\\\Python\\\\Python312\\\\site-packages\\\\parso\\\\python\\\\token.py'>,\n",
       " 'parso.python.tokenize': <module 'parso.python.tokenize' from 'C:\\\\Users\\\\ansor.taghoev\\\\AppData\\\\Roaming\\\\Python\\\\Python312\\\\site-packages\\\\parso\\\\python\\\\tokenize.py'>,\n",
       " 'parso.pgen2.grammar_parser': <module 'parso.pgen2.grammar_parser' from 'C:\\\\Users\\\\ansor.taghoev\\\\AppData\\\\Roaming\\\\Python\\\\Python312\\\\site-packages\\\\parso\\\\pgen2\\\\grammar_parser.py'>,\n",
       " 'parso.pgen2.generator': <module 'parso.pgen2.generator' from 'C:\\\\Users\\\\ansor.taghoev\\\\AppData\\\\Roaming\\\\Python\\\\Python312\\\\site-packages\\\\parso\\\\pgen2\\\\generator.py'>,\n",
       " 'parso.pgen2': <module 'parso.pgen2' from 'C:\\\\Users\\\\ansor.taghoev\\\\AppData\\\\Roaming\\\\Python\\\\Python312\\\\site-packages\\\\parso\\\\pgen2\\\\__init__.py'>,\n",
       " 'parso.parser': <module 'parso.parser' from 'C:\\\\Users\\\\ansor.taghoev\\\\AppData\\\\Roaming\\\\Python\\\\Python312\\\\site-packages\\\\parso\\\\parser.py'>,\n",
       " 'parso._compatibility': <module 'parso._compatibility' from 'C:\\\\Users\\\\ansor.taghoev\\\\AppData\\\\Roaming\\\\Python\\\\Python312\\\\site-packages\\\\parso\\\\_compatibility.py'>,\n",
       " 'difflib': <module 'difflib' from 'c:\\\\Users\\\\ansor.taghoev\\\\AppData\\\\Local\\\\Programs\\\\Python\\\\Python312\\\\Lib\\\\difflib.py'>,\n",
       " 'parso.python.prefix': <module 'parso.python.prefix' from 'C:\\\\Users\\\\ansor.taghoev\\\\AppData\\\\Roaming\\\\Python\\\\Python312\\\\site-packages\\\\parso\\\\python\\\\prefix.py'>,\n",
       " 'parso.python.tree': <module 'parso.python.tree' from 'C:\\\\Users\\\\ansor.taghoev\\\\AppData\\\\Roaming\\\\Python\\\\Python312\\\\site-packages\\\\parso\\\\python\\\\tree.py'>,\n",
       " 'parso.python.parser': <module 'parso.python.parser' from 'C:\\\\Users\\\\ansor.taghoev\\\\AppData\\\\Roaming\\\\Python\\\\Python312\\\\site-packages\\\\parso\\\\python\\\\parser.py'>,\n",
       " 'parso.python.diff': <module 'parso.python.diff' from 'C:\\\\Users\\\\ansor.taghoev\\\\AppData\\\\Roaming\\\\Python\\\\Python312\\\\site-packages\\\\parso\\\\python\\\\diff.py'>,\n",
       " 'gc': <module 'gc' (built-in)>,\n",
       " 'parso.cache': <module 'parso.cache' from 'C:\\\\Users\\\\ansor.taghoev\\\\AppData\\\\Roaming\\\\Python\\\\Python312\\\\site-packages\\\\parso\\\\cache.py'>,\n",
       " 'parso.normalizer': <module 'parso.normalizer' from 'C:\\\\Users\\\\ansor.taghoev\\\\AppData\\\\Roaming\\\\Python\\\\Python312\\\\site-packages\\\\parso\\\\normalizer.py'>,\n",
       " 'parso.python.errors': <module 'parso.python.errors' from 'C:\\\\Users\\\\ansor.taghoev\\\\AppData\\\\Roaming\\\\Python\\\\Python312\\\\site-packages\\\\parso\\\\python\\\\errors.py'>,\n",
       " 'parso.python.pep8': <module 'parso.python.pep8' from 'C:\\\\Users\\\\ansor.taghoev\\\\AppData\\\\Roaming\\\\Python\\\\Python312\\\\site-packages\\\\parso\\\\python\\\\pep8.py'>,\n",
       " 'parso.file_io': <module 'parso.file_io' from 'C:\\\\Users\\\\ansor.taghoev\\\\AppData\\\\Roaming\\\\Python\\\\Python312\\\\site-packages\\\\parso\\\\file_io.py'>,\n",
       " 'parso.grammar': <module 'parso.grammar' from 'C:\\\\Users\\\\ansor.taghoev\\\\AppData\\\\Roaming\\\\Python\\\\Python312\\\\site-packages\\\\parso\\\\grammar.py'>,\n",
       " 'parso': <module 'parso' from 'C:\\\\Users\\\\ansor.taghoev\\\\AppData\\\\Roaming\\\\Python\\\\Python312\\\\site-packages\\\\parso\\\\__init__.py'>,\n",
       " 'jedi.parser_utils': <module 'jedi.parser_utils' from 'C:\\\\Users\\\\ansor.taghoev\\\\AppData\\\\Roaming\\\\Python\\\\Python312\\\\site-packages\\\\jedi\\\\parser_utils.py'>,\n",
       " 'jedi.debug': <module 'jedi.debug' from 'C:\\\\Users\\\\ansor.taghoev\\\\AppData\\\\Roaming\\\\Python\\\\Python312\\\\site-packages\\\\jedi\\\\debug.py'>,\n",
       " 'jedi.settings': <module 'jedi.settings' from 'C:\\\\Users\\\\ansor.taghoev\\\\AppData\\\\Roaming\\\\Python\\\\Python312\\\\site-packages\\\\jedi\\\\settings.py'>,\n",
       " 'jedi.cache': <module 'jedi.cache' from 'C:\\\\Users\\\\ansor.taghoev\\\\AppData\\\\Roaming\\\\Python\\\\Python312\\\\site-packages\\\\jedi\\\\cache.py'>,\n",
       " 'jedi.file_io': <module 'jedi.file_io' from 'C:\\\\Users\\\\ansor.taghoev\\\\AppData\\\\Roaming\\\\Python\\\\Python312\\\\site-packages\\\\jedi\\\\file_io.py'>,\n",
       " 'jedi.inference.cache': <module 'jedi.inference.cache' from 'C:\\\\Users\\\\ansor.taghoev\\\\AppData\\\\Roaming\\\\Python\\\\Python312\\\\site-packages\\\\jedi\\\\inference\\\\cache.py'>,\n",
       " 'jedi.inference.helpers': <module 'jedi.inference.helpers' from 'C:\\\\Users\\\\ansor.taghoev\\\\AppData\\\\Roaming\\\\Python\\\\Python312\\\\site-packages\\\\jedi\\\\inference\\\\helpers.py'>,\n",
       " 'jedi.inference.utils': <module 'jedi.inference.utils' from 'C:\\\\Users\\\\ansor.taghoev\\\\AppData\\\\Roaming\\\\Python\\\\Python312\\\\site-packages\\\\jedi\\\\inference\\\\utils.py'>,\n",
       " 'jedi.inference.base_value': <module 'jedi.inference.base_value' from 'C:\\\\Users\\\\ansor.taghoev\\\\AppData\\\\Roaming\\\\Python\\\\Python312\\\\site-packages\\\\jedi\\\\inference\\\\base_value.py'>,\n",
       " 'jedi.inference.sys_path': <module 'jedi.inference.sys_path' from 'C:\\\\Users\\\\ansor.taghoev\\\\AppData\\\\Roaming\\\\Python\\\\Python312\\\\site-packages\\\\jedi\\\\inference\\\\sys_path.py'>,\n",
       " 'jedi.inference.recursion': <module 'jedi.inference.recursion' from 'C:\\\\Users\\\\ansor.taghoev\\\\AppData\\\\Roaming\\\\Python\\\\Python312\\\\site-packages\\\\jedi\\\\inference\\\\recursion.py'>,\n",
       " 'jedi.inference.flow_analysis': <module 'jedi.inference.flow_analysis' from 'C:\\\\Users\\\\ansor.taghoev\\\\AppData\\\\Roaming\\\\Python\\\\Python312\\\\site-packages\\\\jedi\\\\inference\\\\flow_analysis.py'>,\n",
       " 'jedi.common': <module 'jedi.common' from 'C:\\\\Users\\\\ansor.taghoev\\\\AppData\\\\Roaming\\\\Python\\\\Python312\\\\site-packages\\\\jedi\\\\common.py'>,\n",
       " 'jedi.inference.lazy_value': <module 'jedi.inference.lazy_value' from 'C:\\\\Users\\\\ansor.taghoev\\\\AppData\\\\Roaming\\\\Python\\\\Python312\\\\site-packages\\\\jedi\\\\inference\\\\lazy_value.py'>,\n",
       " 'jedi.inference.docstrings': <module 'jedi.inference.docstrings' from 'C:\\\\Users\\\\ansor.taghoev\\\\AppData\\\\Roaming\\\\Python\\\\Python312\\\\site-packages\\\\jedi\\\\inference\\\\docstrings.py'>,\n",
       " 'jedi.plugins': <module 'jedi.plugins' from 'C:\\\\Users\\\\ansor.taghoev\\\\AppData\\\\Roaming\\\\Python\\\\Python312\\\\site-packages\\\\jedi\\\\plugins\\\\__init__.py'>,\n",
       " 'jedi.inference.names': <module 'jedi.inference.names' from 'C:\\\\Users\\\\ansor.taghoev\\\\AppData\\\\Roaming\\\\Python\\\\Python312\\\\site-packages\\\\jedi\\\\inference\\\\names.py'>,\n",
       " 'jedi.inference.filters': <module 'jedi.inference.filters' from 'C:\\\\Users\\\\ansor.taghoev\\\\AppData\\\\Roaming\\\\Python\\\\Python312\\\\site-packages\\\\jedi\\\\inference\\\\filters.py'>,\n",
       " 'jedi.inference.compiled.getattr_static': <module 'jedi.inference.compiled.getattr_static' from 'C:\\\\Users\\\\ansor.taghoev\\\\AppData\\\\Roaming\\\\Python\\\\Python312\\\\site-packages\\\\jedi\\\\inference\\\\compiled\\\\getattr_static.py'>,\n",
       " 'jedi.inference.compiled.access': <module 'jedi.inference.compiled.access' from 'C:\\\\Users\\\\ansor.taghoev\\\\AppData\\\\Roaming\\\\Python\\\\Python312\\\\site-packages\\\\jedi\\\\inference\\\\compiled\\\\access.py'>,\n",
       " 'jedi.inference.signature': <module 'jedi.inference.signature' from 'C:\\\\Users\\\\ansor.taghoev\\\\AppData\\\\Roaming\\\\Python\\\\Python312\\\\site-packages\\\\jedi\\\\inference\\\\signature.py'>,\n",
       " 'jedi.inference.context': <module 'jedi.inference.context' from 'C:\\\\Users\\\\ansor.taghoev\\\\AppData\\\\Roaming\\\\Python\\\\Python312\\\\site-packages\\\\jedi\\\\inference\\\\context.py'>,\n",
       " 'jedi.inference.compiled.value': <module 'jedi.inference.compiled.value' from 'C:\\\\Users\\\\ansor.taghoev\\\\AppData\\\\Roaming\\\\Python\\\\Python312\\\\site-packages\\\\jedi\\\\inference\\\\compiled\\\\value.py'>,\n",
       " 'jedi.inference.compiled': <module 'jedi.inference.compiled' from 'C:\\\\Users\\\\ansor.taghoev\\\\AppData\\\\Roaming\\\\Python\\\\Python312\\\\site-packages\\\\jedi\\\\inference\\\\compiled\\\\__init__.py'>,\n",
       " 'jedi.inference.analysis': <module 'jedi.inference.analysis' from 'C:\\\\Users\\\\ansor.taghoev\\\\AppData\\\\Roaming\\\\Python\\\\Python312\\\\site-packages\\\\jedi\\\\inference\\\\analysis.py'>,\n",
       " 'jedi.inference.gradual': <module 'jedi.inference.gradual' from 'C:\\\\Users\\\\ansor.taghoev\\\\AppData\\\\Roaming\\\\Python\\\\Python312\\\\site-packages\\\\jedi\\\\inference\\\\gradual\\\\__init__.py'>,\n",
       " 'jedi.inference.value.module': <module 'jedi.inference.value.module' from 'C:\\\\Users\\\\ansor.taghoev\\\\AppData\\\\Roaming\\\\Python\\\\Python312\\\\site-packages\\\\jedi\\\\inference\\\\value\\\\module.py'>,\n",
       " 'jedi.inference.value.dynamic_arrays': <module 'jedi.inference.value.dynamic_arrays' from 'C:\\\\Users\\\\ansor.taghoev\\\\AppData\\\\Roaming\\\\Python\\\\Python312\\\\site-packages\\\\jedi\\\\inference\\\\value\\\\dynamic_arrays.py'>,\n",
       " 'jedi.inference.value.iterable': <module 'jedi.inference.value.iterable' from 'C:\\\\Users\\\\ansor.taghoev\\\\AppData\\\\Roaming\\\\Python\\\\Python312\\\\site-packages\\\\jedi\\\\inference\\\\value\\\\iterable.py'>,\n",
       " 'jedi.inference.arguments': <module 'jedi.inference.arguments' from 'C:\\\\Users\\\\ansor.taghoev\\\\AppData\\\\Roaming\\\\Python\\\\Python312\\\\site-packages\\\\jedi\\\\inference\\\\arguments.py'>,\n",
       " 'jedi.inference.parser_cache': <module 'jedi.inference.parser_cache' from 'C:\\\\Users\\\\ansor.taghoev\\\\AppData\\\\Roaming\\\\Python\\\\Python312\\\\site-packages\\\\jedi\\\\inference\\\\parser_cache.py'>,\n",
       " 'jedi.inference.gradual.generics': <module 'jedi.inference.gradual.generics' from 'C:\\\\Users\\\\ansor.taghoev\\\\AppData\\\\Roaming\\\\Python\\\\Python312\\\\site-packages\\\\jedi\\\\inference\\\\gradual\\\\generics.py'>,\n",
       " 'jedi.inference.value.function': <module 'jedi.inference.value.function' from 'C:\\\\Users\\\\ansor.taghoev\\\\AppData\\\\Roaming\\\\Python\\\\Python312\\\\site-packages\\\\jedi\\\\inference\\\\value\\\\function.py'>,\n",
       " 'jedi.inference.value.klass': <module 'jedi.inference.value.klass' from 'C:\\\\Users\\\\ansor.taghoev\\\\AppData\\\\Roaming\\\\Python\\\\Python312\\\\site-packages\\\\jedi\\\\inference\\\\value\\\\klass.py'>,\n",
       " 'jedi.inference.value.instance': <module 'jedi.inference.value.instance' from 'C:\\\\Users\\\\ansor.taghoev\\\\AppData\\\\Roaming\\\\Python\\\\Python312\\\\site-packages\\\\jedi\\\\inference\\\\value\\\\instance.py'>,\n",
       " 'jedi.inference.value': <module 'jedi.inference.value' from 'C:\\\\Users\\\\ansor.taghoev\\\\AppData\\\\Roaming\\\\Python\\\\Python312\\\\site-packages\\\\jedi\\\\inference\\\\value\\\\__init__.py'>,\n",
       " 'jedi.inference.gradual.base': <module 'jedi.inference.gradual.base' from 'C:\\\\Users\\\\ansor.taghoev\\\\AppData\\\\Roaming\\\\Python\\\\Python312\\\\site-packages\\\\jedi\\\\inference\\\\gradual\\\\base.py'>,\n",
       " 'jedi.inference.gradual.type_var': <module 'jedi.inference.gradual.type_var' from 'C:\\\\Users\\\\ansor.taghoev\\\\AppData\\\\Roaming\\\\Python\\\\Python312\\\\site-packages\\\\jedi\\\\inference\\\\gradual\\\\type_var.py'>,\n",
       " 'jedi.inference.gradual.typing': <module 'jedi.inference.gradual.typing' from 'C:\\\\Users\\\\ansor.taghoev\\\\AppData\\\\Roaming\\\\Python\\\\Python312\\\\site-packages\\\\jedi\\\\inference\\\\gradual\\\\typing.py'>,\n",
       " 'jedi.inference.gradual.stub_value': <module 'jedi.inference.gradual.stub_value' from 'C:\\\\Users\\\\ansor.taghoev\\\\AppData\\\\Roaming\\\\Python\\\\Python312\\\\site-packages\\\\jedi\\\\inference\\\\gradual\\\\stub_value.py'>,\n",
       " 'jedi.inference.gradual.typeshed': <module 'jedi.inference.gradual.typeshed' from 'C:\\\\Users\\\\ansor.taghoev\\\\AppData\\\\Roaming\\\\Python\\\\Python312\\\\site-packages\\\\jedi\\\\inference\\\\gradual\\\\typeshed.py'>,\n",
       " 'jedi._compatibility': <module 'jedi._compatibility' from 'C:\\\\Users\\\\ansor.taghoev\\\\AppData\\\\Roaming\\\\Python\\\\Python312\\\\site-packages\\\\jedi\\\\_compatibility.py'>,\n",
       " 'jedi.inference.compiled.subprocess.functions': <module 'jedi.inference.compiled.subprocess.functions' from 'C:\\\\Users\\\\ansor.taghoev\\\\AppData\\\\Roaming\\\\Python\\\\Python312\\\\site-packages\\\\jedi\\\\inference\\\\compiled\\\\subprocess\\\\functions.py'>,\n",
       " 'jedi.api.exceptions': <module 'jedi.api.exceptions' from 'C:\\\\Users\\\\ansor.taghoev\\\\AppData\\\\Roaming\\\\Python\\\\Python312\\\\site-packages\\\\jedi\\\\api\\\\exceptions.py'>,\n",
       " 'jedi.inference.compiled.subprocess': <module 'jedi.inference.compiled.subprocess' from 'C:\\\\Users\\\\ansor.taghoev\\\\AppData\\\\Roaming\\\\Python\\\\Python312\\\\site-packages\\\\jedi\\\\inference\\\\compiled\\\\subprocess\\\\__init__.py'>,\n",
       " 'jedi.inference.imports': <module 'jedi.inference.imports' from 'C:\\\\Users\\\\ansor.taghoev\\\\AppData\\\\Roaming\\\\Python\\\\Python312\\\\site-packages\\\\jedi\\\\inference\\\\imports.py'>,\n",
       " 'jedi.inference.param': <module 'jedi.inference.param' from 'C:\\\\Users\\\\ansor.taghoev\\\\AppData\\\\Roaming\\\\Python\\\\Python312\\\\site-packages\\\\jedi\\\\inference\\\\param.py'>,\n",
       " 'jedi.inference.gradual.annotation': <module 'jedi.inference.gradual.annotation' from 'C:\\\\Users\\\\ansor.taghoev\\\\AppData\\\\Roaming\\\\Python\\\\Python312\\\\site-packages\\\\jedi\\\\inference\\\\gradual\\\\annotation.py'>,\n",
       " 'jedi.inference.value.decorator': <module 'jedi.inference.value.decorator' from 'C:\\\\Users\\\\ansor.taghoev\\\\AppData\\\\Roaming\\\\Python\\\\Python312\\\\site-packages\\\\jedi\\\\inference\\\\value\\\\decorator.py'>,\n",
       " 'jedi.inference.syntax_tree': <module 'jedi.inference.syntax_tree' from 'C:\\\\Users\\\\ansor.taghoev\\\\AppData\\\\Roaming\\\\Python\\\\Python312\\\\site-packages\\\\jedi\\\\inference\\\\syntax_tree.py'>,\n",
       " 'jedi.inference': <module 'jedi.inference' from 'C:\\\\Users\\\\ansor.taghoev\\\\AppData\\\\Roaming\\\\Python\\\\Python312\\\\site-packages\\\\jedi\\\\inference\\\\__init__.py'>,\n",
       " 'jedi.inference.gradual.conversion': <module 'jedi.inference.gradual.conversion' from 'C:\\\\Users\\\\ansor.taghoev\\\\AppData\\\\Roaming\\\\Python\\\\Python312\\\\site-packages\\\\jedi\\\\inference\\\\gradual\\\\conversion.py'>,\n",
       " 'jedi.inference.compiled.mixed': <module 'jedi.inference.compiled.mixed' from 'C:\\\\Users\\\\ansor.taghoev\\\\AppData\\\\Roaming\\\\Python\\\\Python312\\\\site-packages\\\\jedi\\\\inference\\\\compiled\\\\mixed.py'>,\n",
       " 'pydoc_data': <module 'pydoc_data' from 'c:\\\\Users\\\\ansor.taghoev\\\\AppData\\\\Local\\\\Programs\\\\Python\\\\Python312\\\\Lib\\\\pydoc_data\\\\__init__.py'>,\n",
       " 'pydoc_data.topics': <module 'pydoc_data.topics' from 'c:\\\\Users\\\\ansor.taghoev\\\\AppData\\\\Local\\\\Programs\\\\Python\\\\Python312\\\\Lib\\\\pydoc_data\\\\topics.py'>,\n",
       " 'jedi.api.keywords': <module 'jedi.api.keywords' from 'C:\\\\Users\\\\ansor.taghoev\\\\AppData\\\\Roaming\\\\Python\\\\Python312\\\\site-packages\\\\jedi\\\\api\\\\keywords.py'>,\n",
       " 'jedi.api.completion_cache': <module 'jedi.api.completion_cache' from 'C:\\\\Users\\\\ansor.taghoev\\\\AppData\\\\Roaming\\\\Python\\\\Python312\\\\site-packages\\\\jedi\\\\api\\\\completion_cache.py'>,\n",
       " 'jedi.api.helpers': <module 'jedi.api.helpers' from 'C:\\\\Users\\\\ansor.taghoev\\\\AppData\\\\Roaming\\\\Python\\\\Python312\\\\site-packages\\\\jedi\\\\api\\\\helpers.py'>,\n",
       " 'jedi.api.classes': <module 'jedi.api.classes' from 'C:\\\\Users\\\\ansor.taghoev\\\\AppData\\\\Roaming\\\\Python\\\\Python312\\\\site-packages\\\\jedi\\\\api\\\\classes.py'>,\n",
       " 'jedi.api.interpreter': <module 'jedi.api.interpreter' from 'C:\\\\Users\\\\ansor.taghoev\\\\AppData\\\\Roaming\\\\Python\\\\Python312\\\\site-packages\\\\jedi\\\\api\\\\interpreter.py'>,\n",
       " 'jedi.api.strings': <module 'jedi.api.strings' from 'C:\\\\Users\\\\ansor.taghoev\\\\AppData\\\\Roaming\\\\Python\\\\Python312\\\\site-packages\\\\jedi\\\\api\\\\strings.py'>,\n",
       " 'jedi.api.file_name': <module 'jedi.api.file_name' from 'C:\\\\Users\\\\ansor.taghoev\\\\AppData\\\\Roaming\\\\Python\\\\Python312\\\\site-packages\\\\jedi\\\\api\\\\file_name.py'>,\n",
       " 'jedi.inference.docstring_utils': <module 'jedi.inference.docstring_utils' from 'C:\\\\Users\\\\ansor.taghoev\\\\AppData\\\\Roaming\\\\Python\\\\Python312\\\\site-packages\\\\jedi\\\\inference\\\\docstring_utils.py'>,\n",
       " 'jedi.api.completion': <module 'jedi.api.completion' from 'C:\\\\Users\\\\ansor.taghoev\\\\AppData\\\\Roaming\\\\Python\\\\Python312\\\\site-packages\\\\jedi\\\\api\\\\completion.py'>,\n",
       " 'filecmp': <module 'filecmp' from 'c:\\\\Users\\\\ansor.taghoev\\\\AppData\\\\Local\\\\Programs\\\\Python\\\\Python312\\\\Lib\\\\filecmp.py'>,\n",
       " 'jedi.api.environment': <module 'jedi.api.environment' from 'C:\\\\Users\\\\ansor.taghoev\\\\AppData\\\\Roaming\\\\Python\\\\Python312\\\\site-packages\\\\jedi\\\\api\\\\environment.py'>,\n",
       " 'jedi.inference.references': <module 'jedi.inference.references' from 'C:\\\\Users\\\\ansor.taghoev\\\\AppData\\\\Roaming\\\\Python\\\\Python312\\\\site-packages\\\\jedi\\\\inference\\\\references.py'>,\n",
       " 'jedi.api.project': <module 'jedi.api.project' from 'C:\\\\Users\\\\ansor.taghoev\\\\AppData\\\\Roaming\\\\Python\\\\Python312\\\\site-packages\\\\jedi\\\\api\\\\project.py'>,\n",
       " 'jedi.api.errors': <module 'jedi.api.errors' from 'C:\\\\Users\\\\ansor.taghoev\\\\AppData\\\\Roaming\\\\Python\\\\Python312\\\\site-packages\\\\jedi\\\\api\\\\errors.py'>,\n",
       " 'jedi.inference.value.namespace': <module 'jedi.inference.value.namespace' from 'C:\\\\Users\\\\ansor.taghoev\\\\AppData\\\\Roaming\\\\Python\\\\Python312\\\\site-packages\\\\jedi\\\\inference\\\\value\\\\namespace.py'>,\n",
       " 'jedi.api.refactoring': <module 'jedi.api.refactoring' from 'C:\\\\Users\\\\ansor.taghoev\\\\AppData\\\\Roaming\\\\Python\\\\Python312\\\\site-packages\\\\jedi\\\\api\\\\refactoring\\\\__init__.py'>,\n",
       " 'jedi.api.refactoring.extract': <module 'jedi.api.refactoring.extract' from 'C:\\\\Users\\\\ansor.taghoev\\\\AppData\\\\Roaming\\\\Python\\\\Python312\\\\site-packages\\\\jedi\\\\api\\\\refactoring\\\\extract.py'>,\n",
       " 'jedi.inference.gradual.utils': <module 'jedi.inference.gradual.utils' from 'C:\\\\Users\\\\ansor.taghoev\\\\AppData\\\\Roaming\\\\Python\\\\Python312\\\\site-packages\\\\jedi\\\\inference\\\\gradual\\\\utils.py'>,\n",
       " 'jedi.api': <module 'jedi.api' from 'C:\\\\Users\\\\ansor.taghoev\\\\AppData\\\\Roaming\\\\Python\\\\Python312\\\\site-packages\\\\jedi\\\\api\\\\__init__.py'>,\n",
       " 'jedi.plugins.stdlib': <module 'jedi.plugins.stdlib' from 'C:\\\\Users\\\\ansor.taghoev\\\\AppData\\\\Roaming\\\\Python\\\\Python312\\\\site-packages\\\\jedi\\\\plugins\\\\stdlib.py'>,\n",
       " 'jedi.plugins.flask': <module 'jedi.plugins.flask' from 'C:\\\\Users\\\\ansor.taghoev\\\\AppData\\\\Roaming\\\\Python\\\\Python312\\\\site-packages\\\\jedi\\\\plugins\\\\flask.py'>,\n",
       " 'jedi.plugins.pytest': <module 'jedi.plugins.pytest' from 'C:\\\\Users\\\\ansor.taghoev\\\\AppData\\\\Roaming\\\\Python\\\\Python312\\\\site-packages\\\\jedi\\\\plugins\\\\pytest.py'>,\n",
       " 'jedi.plugins.django': <module 'jedi.plugins.django' from 'C:\\\\Users\\\\ansor.taghoev\\\\AppData\\\\Roaming\\\\Python\\\\Python312\\\\site-packages\\\\jedi\\\\plugins\\\\django.py'>,\n",
       " 'jedi.plugins.registry': <module 'jedi.plugins.registry' from 'C:\\\\Users\\\\ansor.taghoev\\\\AppData\\\\Roaming\\\\Python\\\\Python312\\\\site-packages\\\\jedi\\\\plugins\\\\registry.py'>,\n",
       " 'jedi': <module 'jedi' from 'C:\\\\Users\\\\ansor.taghoev\\\\AppData\\\\Roaming\\\\Python\\\\Python312\\\\site-packages\\\\jedi\\\\__init__.py'>,\n",
       " 'IPython.core.completer': <module 'IPython.core.completer' from 'C:\\\\Users\\\\ansor.taghoev\\\\AppData\\\\Roaming\\\\Python\\\\Python312\\\\site-packages\\\\IPython\\\\core\\\\completer.py'>,\n",
       " 'IPython.terminal.ptutils': <module 'IPython.terminal.ptutils' from 'C:\\\\Users\\\\ansor.taghoev\\\\AppData\\\\Roaming\\\\Python\\\\Python312\\\\site-packages\\\\IPython\\\\terminal\\\\ptutils.py'>,\n",
       " 'IPython.terminal.shortcuts.auto_match': <module 'IPython.terminal.shortcuts.auto_match' from 'C:\\\\Users\\\\ansor.taghoev\\\\AppData\\\\Roaming\\\\Python\\\\Python312\\\\site-packages\\\\IPython\\\\terminal\\\\shortcuts\\\\auto_match.py'>,\n",
       " 'IPython.terminal.shortcuts.filters': <module 'IPython.terminal.shortcuts.filters' from 'C:\\\\Users\\\\ansor.taghoev\\\\AppData\\\\Roaming\\\\Python\\\\Python312\\\\site-packages\\\\IPython\\\\terminal\\\\shortcuts\\\\filters.py'>,\n",
       " 'IPython.terminal.shortcuts.auto_suggest': <module 'IPython.terminal.shortcuts.auto_suggest' from 'C:\\\\Users\\\\ansor.taghoev\\\\AppData\\\\Roaming\\\\Python\\\\Python312\\\\site-packages\\\\IPython\\\\terminal\\\\shortcuts\\\\auto_suggest.py'>,\n",
       " 'IPython.lib.clipboard': <module 'IPython.lib.clipboard' from 'C:\\\\Users\\\\ansor.taghoev\\\\AppData\\\\Roaming\\\\Python\\\\Python312\\\\site-packages\\\\IPython\\\\lib\\\\clipboard.py'>,\n",
       " 'IPython.terminal.shortcuts': <module 'IPython.terminal.shortcuts' from 'C:\\\\Users\\\\ansor.taghoev\\\\AppData\\\\Roaming\\\\Python\\\\Python312\\\\site-packages\\\\IPython\\\\terminal\\\\shortcuts\\\\__init__.py'>,\n",
       " 'concurrent.futures.thread': <module 'concurrent.futures.thread' from 'c:\\\\Users\\\\ansor.taghoev\\\\AppData\\\\Local\\\\Programs\\\\Python\\\\Python312\\\\Lib\\\\concurrent\\\\futures\\\\thread.py'>,\n",
       " 'IPython.terminal.debugger': <module 'IPython.terminal.debugger' from 'C:\\\\Users\\\\ansor.taghoev\\\\AppData\\\\Roaming\\\\Python\\\\Python312\\\\site-packages\\\\IPython\\\\terminal\\\\debugger.py'>,\n",
       " 'IPython.terminal.magics': <module 'IPython.terminal.magics' from 'C:\\\\Users\\\\ansor.taghoev\\\\AppData\\\\Roaming\\\\Python\\\\Python312\\\\site-packages\\\\IPython\\\\terminal\\\\magics.py'>,\n",
       " 'IPython.terminal.pt_inputhooks': <module 'IPython.terminal.pt_inputhooks' from 'C:\\\\Users\\\\ansor.taghoev\\\\AppData\\\\Roaming\\\\Python\\\\Python312\\\\site-packages\\\\IPython\\\\terminal\\\\pt_inputhooks\\\\__init__.py'>,\n",
       " 'IPython.terminal.prompts': <module 'IPython.terminal.prompts' from 'C:\\\\Users\\\\ansor.taghoev\\\\AppData\\\\Roaming\\\\Python\\\\Python312\\\\site-packages\\\\IPython\\\\terminal\\\\prompts.py'>,\n",
       " 'IPython.terminal.interactiveshell': <module 'IPython.terminal.interactiveshell' from 'C:\\\\Users\\\\ansor.taghoev\\\\AppData\\\\Roaming\\\\Python\\\\Python312\\\\site-packages\\\\IPython\\\\terminal\\\\interactiveshell.py'>,\n",
       " 'IPython.core.magics.auto': <module 'IPython.core.magics.auto' from 'C:\\\\Users\\\\ansor.taghoev\\\\AppData\\\\Roaming\\\\Python\\\\Python312\\\\site-packages\\\\IPython\\\\core\\\\magics\\\\auto.py'>,\n",
       " 'IPython.core.magics.basic': <module 'IPython.core.magics.basic' from 'C:\\\\Users\\\\ansor.taghoev\\\\AppData\\\\Roaming\\\\Python\\\\Python312\\\\site-packages\\\\IPython\\\\core\\\\magics\\\\basic.py'>,\n",
       " 'http': <module 'http' from 'c:\\\\Users\\\\ansor.taghoev\\\\AppData\\\\Local\\\\Programs\\\\Python\\\\Python312\\\\Lib\\\\http\\\\__init__.py'>,\n",
       " 'email.feedparser': <module 'email.feedparser' from 'c:\\\\Users\\\\ansor.taghoev\\\\AppData\\\\Local\\\\Programs\\\\Python\\\\Python312\\\\Lib\\\\email\\\\feedparser.py'>,\n",
       " 'email.parser': <module 'email.parser' from 'c:\\\\Users\\\\ansor.taghoev\\\\AppData\\\\Local\\\\Programs\\\\Python\\\\Python312\\\\Lib\\\\email\\\\parser.py'>,\n",
       " 'http.client': <module 'http.client' from 'c:\\\\Users\\\\ansor.taghoev\\\\AppData\\\\Local\\\\Programs\\\\Python\\\\Python312\\\\Lib\\\\http\\\\client.py'>,\n",
       " 'urllib.response': <module 'urllib.response' from 'c:\\\\Users\\\\ansor.taghoev\\\\AppData\\\\Local\\\\Programs\\\\Python\\\\Python312\\\\Lib\\\\urllib\\\\response.py'>,\n",
       " 'urllib.error': <module 'urllib.error' from 'c:\\\\Users\\\\ansor.taghoev\\\\AppData\\\\Local\\\\Programs\\\\Python\\\\Python312\\\\Lib\\\\urllib\\\\error.py'>,\n",
       " 'nturl2path': <module 'nturl2path' from 'c:\\\\Users\\\\ansor.taghoev\\\\AppData\\\\Local\\\\Programs\\\\Python\\\\Python312\\\\Lib\\\\nturl2path.py'>,\n",
       " 'urllib.request': <module 'urllib.request' from 'c:\\\\Users\\\\ansor.taghoev\\\\AppData\\\\Local\\\\Programs\\\\Python\\\\Python312\\\\Lib\\\\urllib\\\\request.py'>,\n",
       " 'IPython.utils.contexts': <module 'IPython.utils.contexts' from 'C:\\\\Users\\\\ansor.taghoev\\\\AppData\\\\Roaming\\\\Python\\\\Python312\\\\site-packages\\\\IPython\\\\utils\\\\contexts.py'>,\n",
       " 'IPython.core.magics.code': <module 'IPython.core.magics.code' from 'C:\\\\Users\\\\ansor.taghoev\\\\AppData\\\\Roaming\\\\Python\\\\Python312\\\\site-packages\\\\IPython\\\\core\\\\magics\\\\code.py'>,\n",
       " 'IPython.core.magics.config': <module 'IPython.core.magics.config' from 'C:\\\\Users\\\\ansor.taghoev\\\\AppData\\\\Roaming\\\\Python\\\\Python312\\\\site-packages\\\\IPython\\\\core\\\\magics\\\\config.py'>,\n",
       " 'IPython.core.magics.display': <module 'IPython.core.magics.display' from 'C:\\\\Users\\\\ansor.taghoev\\\\AppData\\\\Roaming\\\\Python\\\\Python312\\\\site-packages\\\\IPython\\\\core\\\\magics\\\\display.py'>,\n",
       " '_lsprof': <module '_lsprof' (built-in)>,\n",
       " 'profile': <module 'profile' from 'c:\\\\Users\\\\ansor.taghoev\\\\AppData\\\\Local\\\\Programs\\\\Python\\\\Python312\\\\Lib\\\\profile.py'>,\n",
       " 'cProfile': <module 'cProfile' from 'c:\\\\Users\\\\ansor.taghoev\\\\AppData\\\\Local\\\\Programs\\\\Python\\\\Python312\\\\Lib\\\\cProfile.py'>,\n",
       " 'pstats': <module 'pstats' from 'c:\\\\Users\\\\ansor.taghoev\\\\AppData\\\\Local\\\\Programs\\\\Python\\\\Python312\\\\Lib\\\\pstats.py'>,\n",
       " 'timeit': <module 'timeit' from 'c:\\\\Users\\\\ansor.taghoev\\\\AppData\\\\Local\\\\Programs\\\\Python\\\\Python312\\\\Lib\\\\timeit.py'>,\n",
       " 'IPython.utils.module_paths': <module 'IPython.utils.module_paths' from 'C:\\\\Users\\\\ansor.taghoev\\\\AppData\\\\Roaming\\\\Python\\\\Python312\\\\site-packages\\\\IPython\\\\utils\\\\module_paths.py'>,\n",
       " 'IPython.utils.timing': <module 'IPython.utils.timing' from 'C:\\\\Users\\\\ansor.taghoev\\\\AppData\\\\Roaming\\\\Python\\\\Python312\\\\site-packages\\\\IPython\\\\utils\\\\timing.py'>,\n",
       " 'IPython.core.magics.ast_mod': <module 'IPython.core.magics.ast_mod' from 'C:\\\\Users\\\\ansor.taghoev\\\\AppData\\\\Roaming\\\\Python\\\\Python312\\\\site-packages\\\\IPython\\\\core\\\\magics\\\\ast_mod.py'>,\n",
       " 'IPython.core.magics.execution': <module 'IPython.core.magics.execution' from 'C:\\\\Users\\\\ansor.taghoev\\\\AppData\\\\Roaming\\\\Python\\\\Python312\\\\site-packages\\\\IPython\\\\core\\\\magics\\\\execution.py'>,\n",
       " 'IPython.core.magics.extension': <module 'IPython.core.magics.extension' from 'C:\\\\Users\\\\ansor.taghoev\\\\AppData\\\\Roaming\\\\Python\\\\Python312\\\\site-packages\\\\IPython\\\\core\\\\magics\\\\extension.py'>,\n",
       " 'IPython.core.magics.history': <module 'IPython.core.magics.history' from 'C:\\\\Users\\\\ansor.taghoev\\\\AppData\\\\Roaming\\\\Python\\\\Python312\\\\site-packages\\\\IPython\\\\core\\\\magics\\\\history.py'>,\n",
       " 'IPython.core.magics.logging': <module 'IPython.core.magics.logging' from 'C:\\\\Users\\\\ansor.taghoev\\\\AppData\\\\Roaming\\\\Python\\\\Python312\\\\site-packages\\\\IPython\\\\core\\\\magics\\\\logging.py'>,\n",
       " 'IPython.core.magics.namespace': <module 'IPython.core.magics.namespace' from 'C:\\\\Users\\\\ansor.taghoev\\\\AppData\\\\Roaming\\\\Python\\\\Python312\\\\site-packages\\\\IPython\\\\core\\\\magics\\\\namespace.py'>,\n",
       " 'IPython.core.magics.osm': <module 'IPython.core.magics.osm' from 'C:\\\\Users\\\\ansor.taghoev\\\\AppData\\\\Roaming\\\\Python\\\\Python312\\\\site-packages\\\\IPython\\\\core\\\\magics\\\\osm.py'>,\n",
       " 'IPython.core.magics.packaging': <module 'IPython.core.magics.packaging' from 'C:\\\\Users\\\\ansor.taghoev\\\\AppData\\\\Roaming\\\\Python\\\\Python312\\\\site-packages\\\\IPython\\\\core\\\\magics\\\\packaging.py'>,\n",
       " 'IPython.core.magics.pylab': <module 'IPython.core.magics.pylab' from 'C:\\\\Users\\\\ansor.taghoev\\\\AppData\\\\Roaming\\\\Python\\\\Python312\\\\site-packages\\\\IPython\\\\core\\\\magics\\\\pylab.py'>,\n",
       " 'IPython.core.magics.script': <module 'IPython.core.magics.script' from 'C:\\\\Users\\\\ansor.taghoev\\\\AppData\\\\Roaming\\\\Python\\\\Python312\\\\site-packages\\\\IPython\\\\core\\\\magics\\\\script.py'>,\n",
       " 'IPython.core.magics': <module 'IPython.core.magics' from 'C:\\\\Users\\\\ansor.taghoev\\\\AppData\\\\Roaming\\\\Python\\\\Python312\\\\site-packages\\\\IPython\\\\core\\\\magics\\\\__init__.py'>,\n",
       " 'IPython.core.shellapp': <module 'IPython.core.shellapp' from 'C:\\\\Users\\\\ansor.taghoev\\\\AppData\\\\Roaming\\\\Python\\\\Python312\\\\site-packages\\\\IPython\\\\core\\\\shellapp.py'>,\n",
       " 'IPython.extensions': <module 'IPython.extensions' from 'C:\\\\Users\\\\ansor.taghoev\\\\AppData\\\\Roaming\\\\Python\\\\Python312\\\\site-packages\\\\IPython\\\\extensions\\\\__init__.py'>,\n",
       " 'IPython.extensions.storemagic': <module 'IPython.extensions.storemagic' from 'C:\\\\Users\\\\ansor.taghoev\\\\AppData\\\\Roaming\\\\Python\\\\Python312\\\\site-packages\\\\IPython\\\\extensions\\\\storemagic.py'>,\n",
       " 'IPython.terminal.ipapp': <module 'IPython.terminal.ipapp' from 'C:\\\\Users\\\\ansor.taghoev\\\\AppData\\\\Roaming\\\\Python\\\\Python312\\\\site-packages\\\\IPython\\\\terminal\\\\ipapp.py'>,\n",
       " 'IPython.terminal.embed': <module 'IPython.terminal.embed' from 'C:\\\\Users\\\\ansor.taghoev\\\\AppData\\\\Roaming\\\\Python\\\\Python312\\\\site-packages\\\\IPython\\\\terminal\\\\embed.py'>,\n",
       " 'IPython.utils.frame': <module 'IPython.utils.frame' from 'C:\\\\Users\\\\ansor.taghoev\\\\AppData\\\\Roaming\\\\Python\\\\Python312\\\\site-packages\\\\IPython\\\\utils\\\\frame.py'>,\n",
       " 'IPython': <module 'IPython' from 'C:\\\\Users\\\\ansor.taghoev\\\\AppData\\\\Roaming\\\\Python\\\\Python312\\\\site-packages\\\\IPython\\\\__init__.py'>,\n",
       " 'ipykernel.control': <module 'ipykernel.control' from 'C:\\\\Users\\\\ansor.taghoev\\\\AppData\\\\Roaming\\\\Python\\\\Python312\\\\site-packages\\\\ipykernel\\\\control.py'>,\n",
       " 'ipykernel.heartbeat': <module 'ipykernel.heartbeat' from 'C:\\\\Users\\\\ansor.taghoev\\\\AppData\\\\Roaming\\\\Python\\\\Python312\\\\site-packages\\\\ipykernel\\\\heartbeat.py'>,\n",
       " 'ipykernel.iostream': <module 'ipykernel.iostream' from 'C:\\\\Users\\\\ansor.taghoev\\\\AppData\\\\Roaming\\\\Python\\\\Python312\\\\site-packages\\\\ipykernel\\\\iostream.py'>,\n",
       " 'comm.base_comm': <module 'comm.base_comm' from 'C:\\\\Users\\\\ansor.taghoev\\\\AppData\\\\Roaming\\\\Python\\\\Python312\\\\site-packages\\\\comm\\\\base_comm.py'>,\n",
       " 'comm': <module 'comm' from 'C:\\\\Users\\\\ansor.taghoev\\\\AppData\\\\Roaming\\\\Python\\\\Python312\\\\site-packages\\\\comm\\\\__init__.py'>,\n",
       " 'ipykernel.jsonutil': <module 'ipykernel.jsonutil' from 'C:\\\\Users\\\\ansor.taghoev\\\\AppData\\\\Roaming\\\\Python\\\\Python312\\\\site-packages\\\\ipykernel\\\\jsonutil.py'>,\n",
       " 'psutil._common': <module 'psutil._common' from 'C:\\\\Users\\\\ansor.taghoev\\\\AppData\\\\Roaming\\\\Python\\\\Python312\\\\site-packages\\\\psutil\\\\_common.py'>,\n",
       " 'psutil._compat': <module 'psutil._compat' from 'C:\\\\Users\\\\ansor.taghoev\\\\AppData\\\\Roaming\\\\Python\\\\Python312\\\\site-packages\\\\psutil\\\\_compat.py'>,\n",
       " 'psutil._psutil_windows': <module 'psutil._psutil_windows' from 'C:\\\\Users\\\\ansor.taghoev\\\\AppData\\\\Roaming\\\\Python\\\\Python312\\\\site-packages\\\\psutil\\\\_psutil_windows.pyd'>,\n",
       " 'psutil._pswindows': <module 'psutil._pswindows' from 'C:\\\\Users\\\\ansor.taghoev\\\\AppData\\\\Roaming\\\\Python\\\\Python312\\\\site-packages\\\\psutil\\\\_pswindows.py'>,\n",
       " 'psutil': <module 'psutil' from 'C:\\\\Users\\\\ansor.taghoev\\\\AppData\\\\Roaming\\\\Python\\\\Python312\\\\site-packages\\\\psutil\\\\__init__.py'>,\n",
       " 'tornado.gen': <module 'tornado.gen' from 'C:\\\\Users\\\\ansor.taghoev\\\\AppData\\\\Roaming\\\\Python\\\\Python312\\\\site-packages\\\\tornado\\\\gen.py'>,\n",
       " 'tornado.locks': <module 'tornado.locks' from 'C:\\\\Users\\\\ansor.taghoev\\\\AppData\\\\Roaming\\\\Python\\\\Python312\\\\site-packages\\\\tornado\\\\locks.py'>,\n",
       " 'tornado.queues': <module 'tornado.queues' from 'C:\\\\Users\\\\ansor.taghoev\\\\AppData\\\\Roaming\\\\Python\\\\Python312\\\\site-packages\\\\tornado\\\\queues.py'>,\n",
       " 'ipykernel.kernelbase': <module 'ipykernel.kernelbase' from 'C:\\\\Users\\\\ansor.taghoev\\\\AppData\\\\Roaming\\\\Python\\\\Python312\\\\site-packages\\\\ipykernel\\\\kernelbase.py'>,\n",
       " 'ipykernel.comm.comm': <module 'ipykernel.comm.comm' from 'C:\\\\Users\\\\ansor.taghoev\\\\AppData\\\\Roaming\\\\Python\\\\Python312\\\\site-packages\\\\ipykernel\\\\comm\\\\comm.py'>,\n",
       " 'ipykernel.comm.manager': <module 'ipykernel.comm.manager' from 'C:\\\\Users\\\\ansor.taghoev\\\\AppData\\\\Roaming\\\\Python\\\\Python312\\\\site-packages\\\\ipykernel\\\\comm\\\\manager.py'>,\n",
       " 'ipykernel.comm': <module 'ipykernel.comm' from 'C:\\\\Users\\\\ansor.taghoev\\\\AppData\\\\Roaming\\\\Python\\\\Python312\\\\site-packages\\\\ipykernel\\\\comm\\\\__init__.py'>,\n",
       " 'ipykernel.compiler': <module 'ipykernel.compiler' from 'C:\\\\Users\\\\ansor.taghoev\\\\AppData\\\\Roaming\\\\Python\\\\Python312\\\\site-packages\\\\ipykernel\\\\compiler.py'>,\n",
       " 'packaging': <module 'packaging' from 'c:\\\\Users\\\\ansor.taghoev\\\\AppData\\\\Local\\\\Programs\\\\Python\\\\Python312\\\\Lib\\\\site-packages\\\\packaging\\\\__init__.py'>,\n",
       " 'packaging._structures': <module 'packaging._structures' from 'c:\\\\Users\\\\ansor.taghoev\\\\AppData\\\\Local\\\\Programs\\\\Python\\\\Python312\\\\Lib\\\\site-packages\\\\packaging\\\\_structures.py'>,\n",
       " 'packaging.version': <module 'packaging.version' from 'c:\\\\Users\\\\ansor.taghoev\\\\AppData\\\\Local\\\\Programs\\\\Python\\\\Python312\\\\Lib\\\\site-packages\\\\packaging\\\\version.py'>,\n",
       " 'ipykernel.eventloops': <module 'ipykernel.eventloops' from 'C:\\\\Users\\\\ansor.taghoev\\\\AppData\\\\Roaming\\\\Python\\\\Python312\\\\site-packages\\\\ipykernel\\\\eventloops.py'>,\n",
       " 'IPython.core.payloadpage': <module 'IPython.core.payloadpage' from 'C:\\\\Users\\\\ansor.taghoev\\\\AppData\\\\Roaming\\\\Python\\\\Python312\\\\site-packages\\\\IPython\\\\core\\\\payloadpage.py'>,\n",
       " 'ipykernel.displayhook': <module 'ipykernel.displayhook' from 'C:\\\\Users\\\\ansor.taghoev\\\\AppData\\\\Roaming\\\\Python\\\\Python312\\\\site-packages\\\\ipykernel\\\\displayhook.py'>,\n",
       " 'ipykernel.zmqshell': <module 'ipykernel.zmqshell' from 'C:\\\\Users\\\\ansor.taghoev\\\\AppData\\\\Roaming\\\\Python\\\\Python312\\\\site-packages\\\\ipykernel\\\\zmqshell.py'>,\n",
       " 'ipykernel.ipkernel': <module 'ipykernel.ipkernel' from 'C:\\\\Users\\\\ansor.taghoev\\\\AppData\\\\Roaming\\\\Python\\\\Python312\\\\site-packages\\\\ipykernel\\\\ipkernel.py'>,\n",
       " 'ipykernel.parentpoller': <module 'ipykernel.parentpoller' from 'C:\\\\Users\\\\ansor.taghoev\\\\AppData\\\\Roaming\\\\Python\\\\Python312\\\\site-packages\\\\ipykernel\\\\parentpoller.py'>,\n",
       " 'ipykernel.kernelapp': <module 'ipykernel.kernelapp' from 'C:\\\\Users\\\\ansor.taghoev\\\\AppData\\\\Roaming\\\\Python\\\\Python312\\\\site-packages\\\\ipykernel\\\\kernelapp.py'>,\n",
       " 'encodings.cp1252': <module 'encodings.cp1252' from 'c:\\\\Users\\\\ansor.taghoev\\\\AppData\\\\Local\\\\Programs\\\\Python\\\\Python312\\\\Lib\\\\encodings\\\\cp1252.py'>,\n",
       " 'tornado.platform': <module 'tornado.platform' from 'C:\\\\Users\\\\ansor.taghoev\\\\AppData\\\\Roaming\\\\Python\\\\Python312\\\\site-packages\\\\tornado\\\\platform\\\\__init__.py'>,\n",
       " 'tornado.platform.asyncio': <module 'tornado.platform.asyncio' from 'C:\\\\Users\\\\ansor.taghoev\\\\AppData\\\\Roaming\\\\Python\\\\Python312\\\\site-packages\\\\tornado\\\\platform\\\\asyncio.py'>,\n",
       " 'faulthandler': <module 'faulthandler' (built-in)>,\n",
       " 'debugpy._version': <module 'debugpy._version' from 'C:\\\\Users\\\\ansor.taghoev\\\\AppData\\\\Roaming\\\\Python\\\\Python312\\\\site-packages\\\\debugpy\\\\_version.py'>,\n",
       " 'debugpy.public_api': <module 'debugpy.public_api' from 'C:\\\\Users\\\\ansor.taghoev\\\\AppData\\\\Roaming\\\\Python\\\\Python312\\\\site-packages\\\\debugpy\\\\public_api.py'>,\n",
       " 'debugpy': <module 'debugpy' from 'C:\\\\Users\\\\ansor.taghoev\\\\AppData\\\\Roaming\\\\Python\\\\Python312\\\\site-packages\\\\debugpy\\\\__init__.py'>,\n",
       " 'debugpy._vendored._util': <module 'debugpy._vendored._util' from 'C:\\\\Users\\\\ansor.taghoev\\\\AppData\\\\Roaming\\\\Python\\\\Python312\\\\site-packages\\\\debugpy\\\\_vendored\\\\_util.py'>,\n",
       " 'debugpy._vendored': <module 'debugpy._vendored' from 'C:\\\\Users\\\\ansor.taghoev\\\\AppData\\\\Roaming\\\\Python\\\\Python312\\\\site-packages\\\\debugpy\\\\_vendored\\\\__init__.py'>,\n",
       " '_pydevd_bundle': <module '_pydevd_bundle' from 'C:\\\\Users\\\\ansor.taghoev\\\\AppData\\\\Roaming\\\\Python\\\\Python312\\\\site-packages\\\\debugpy\\\\_vendored\\\\pydevd\\\\_pydevd_bundle\\\\__init__.py'>,\n",
       " 'encodings.ascii': <module 'encodings.ascii' from 'c:\\\\Users\\\\ansor.taghoev\\\\AppData\\\\Local\\\\Programs\\\\Python\\\\Python312\\\\Lib\\\\encodings\\\\ascii.py'>,\n",
       " 'encodings.latin_1': <module 'encodings.latin_1' from 'c:\\\\Users\\\\ansor.taghoev\\\\AppData\\\\Local\\\\Programs\\\\Python\\\\Python312\\\\Lib\\\\encodings\\\\latin_1.py'>,\n",
       " 'stringprep': <module 'stringprep' from 'c:\\\\Users\\\\ansor.taghoev\\\\AppData\\\\Local\\\\Programs\\\\Python\\\\Python312\\\\Lib\\\\stringprep.py'>,\n",
       " 'encodings.idna': <module 'encodings.idna' from 'c:\\\\Users\\\\ansor.taghoev\\\\AppData\\\\Local\\\\Programs\\\\Python\\\\Python312\\\\Lib\\\\encodings\\\\idna.py'>,\n",
       " '_pydevd_bundle.pydevd_vm_type': <module '_pydevd_bundle.pydevd_vm_type' from 'C:\\\\Users\\\\ansor.taghoev\\\\AppData\\\\Roaming\\\\Python\\\\Python312\\\\site-packages\\\\debugpy\\\\_vendored\\\\pydevd\\\\_pydevd_bundle\\\\pydevd_vm_type.py'>,\n",
       " '_pydev_bundle': <module '_pydev_bundle' from 'C:\\\\Users\\\\ansor.taghoev\\\\AppData\\\\Roaming\\\\Python\\\\Python312\\\\site-packages\\\\debugpy\\\\_vendored\\\\pydevd\\\\_pydev_bundle\\\\__init__.py'>,\n",
       " 'xmlrpc': <module 'xmlrpc' from 'c:\\\\Users\\\\ansor.taghoev\\\\AppData\\\\Local\\\\Programs\\\\Python\\\\Python312\\\\Lib\\\\xmlrpc\\\\__init__.py'>,\n",
       " 'gzip': <module 'gzip' from 'c:\\\\Users\\\\ansor.taghoev\\\\AppData\\\\Local\\\\Programs\\\\Python\\\\Python312\\\\Lib\\\\gzip.py'>,\n",
       " 'xmlrpc.client': <module 'xmlrpc.client' from 'c:\\\\Users\\\\ansor.taghoev\\\\AppData\\\\Local\\\\Programs\\\\Python\\\\Python312\\\\Lib\\\\xmlrpc\\\\client.py'>,\n",
       " 'http.server': <module 'http.server' from 'c:\\\\Users\\\\ansor.taghoev\\\\AppData\\\\Local\\\\Programs\\\\Python\\\\Python312\\\\Lib\\\\http\\\\server.py'>,\n",
       " 'xmlrpc.server': <module 'xmlrpc.server' from 'c:\\\\Users\\\\ansor.taghoev\\\\AppData\\\\Local\\\\Programs\\\\Python\\\\Python312\\\\Lib\\\\xmlrpc\\\\server.py'>,\n",
       " '_pydev_bundle._pydev_saved_modules': <module '_pydev_bundle._pydev_saved_modules' from 'C:\\\\Users\\\\ansor.taghoev\\\\AppData\\\\Roaming\\\\Python\\\\Python312\\\\site-packages\\\\debugpy\\\\_vendored\\\\pydevd\\\\_pydev_bundle\\\\_pydev_saved_modules.py'>,\n",
       " '_pydevd_bundle.pydevd_constants': <module '_pydevd_bundle.pydevd_constants' from 'C:\\\\Users\\\\ansor.taghoev\\\\AppData\\\\Roaming\\\\Python\\\\Python312\\\\site-packages\\\\debugpy\\\\_vendored\\\\pydevd\\\\_pydevd_bundle\\\\pydevd_constants.py'>,\n",
       " '_pydev_runfiles': <module '_pydev_runfiles' from 'C:\\\\Users\\\\ansor.taghoev\\\\AppData\\\\Roaming\\\\Python\\\\Python312\\\\site-packages\\\\debugpy\\\\_vendored\\\\pydevd\\\\_pydev_runfiles\\\\__init__.py'>,\n",
       " '_pydevd_frame_eval': <module '_pydevd_frame_eval' from 'C:\\\\Users\\\\ansor.taghoev\\\\AppData\\\\Roaming\\\\Python\\\\Python312\\\\site-packages\\\\debugpy\\\\_vendored\\\\pydevd\\\\_pydevd_frame_eval\\\\__init__.py'>,\n",
       " 'pydev_ipython': <module 'pydev_ipython' from 'C:\\\\Users\\\\ansor.taghoev\\\\AppData\\\\Roaming\\\\Python\\\\Python312\\\\site-packages\\\\debugpy\\\\_vendored\\\\pydevd\\\\pydev_ipython\\\\__init__.py'>,\n",
       " 'pydevd_plugins': <module 'pydevd_plugins' from 'C:\\\\Users\\\\ansor.taghoev\\\\AppData\\\\Roaming\\\\Python\\\\Python312\\\\site-packages\\\\debugpy\\\\_vendored\\\\pydevd\\\\pydevd_plugins\\\\__init__.py'>,\n",
       " '_pydev_bundle.pydev_log': <module '_pydev_bundle.pydev_log' from 'C:\\\\Users\\\\ansor.taghoev\\\\AppData\\\\Roaming\\\\Python\\\\Python312\\\\site-packages\\\\debugpy\\\\_vendored\\\\pydevd\\\\_pydev_bundle\\\\pydev_log.py'>,\n",
       " '_pydev_bundle._pydev_filesystem_encoding': <module '_pydev_bundle._pydev_filesystem_encoding' from 'C:\\\\Users\\\\ansor.taghoev\\\\AppData\\\\Roaming\\\\Python\\\\Python312\\\\site-packages\\\\debugpy\\\\_vendored\\\\pydevd\\\\_pydev_bundle\\\\_pydev_filesystem_encoding.py'>,\n",
       " '_pydevd_bundle.pydevd_comm_constants': <module '_pydevd_bundle.pydevd_comm_constants' from 'C:\\\\Users\\\\ansor.taghoev\\\\AppData\\\\Roaming\\\\Python\\\\Python312\\\\site-packages\\\\debugpy\\\\_vendored\\\\pydevd\\\\_pydevd_bundle\\\\pydevd_comm_constants.py'>,\n",
       " 'pydevd_file_utils': <module 'pydevd_file_utils' from 'C:\\\\Users\\\\ansor.taghoev\\\\AppData\\\\Roaming\\\\Python\\\\Python312\\\\site-packages\\\\debugpy\\\\_vendored\\\\pydevd\\\\pydevd_file_utils.py'>,\n",
       " '_pydev_bundle._pydev_execfile': <module '_pydev_bundle._pydev_execfile' from 'C:\\\\Users\\\\ansor.taghoev\\\\AppData\\\\Roaming\\\\Python\\\\Python312\\\\site-packages\\\\debugpy\\\\_vendored\\\\pydevd\\\\_pydev_bundle\\\\_pydev_execfile.py'>,\n",
       " '_pydevd_bundle.pydevd_exec2': <module '_pydevd_bundle.pydevd_exec2' from 'C:\\\\Users\\\\ansor.taghoev\\\\AppData\\\\Roaming\\\\Python\\\\Python312\\\\site-packages\\\\debugpy\\\\_vendored\\\\pydevd\\\\_pydevd_bundle\\\\pydevd_exec2.py'>,\n",
       " '_pydev_bundle.pydev_imports': <module '_pydev_bundle.pydev_imports' from 'C:\\\\Users\\\\ansor.taghoev\\\\AppData\\\\Roaming\\\\Python\\\\Python312\\\\site-packages\\\\debugpy\\\\_vendored\\\\pydevd\\\\_pydev_bundle\\\\pydev_imports.py'>,\n",
       " '_pydev_bundle.pydev_is_thread_alive': <module '_pydev_bundle.pydev_is_thread_alive' from 'C:\\\\Users\\\\ansor.taghoev\\\\AppData\\\\Roaming\\\\Python\\\\Python312\\\\site-packages\\\\debugpy\\\\_vendored\\\\pydevd\\\\_pydev_bundle\\\\pydev_is_thread_alive.py'>,\n",
       " '_pydev_bundle.pydev_override': <module '_pydev_bundle.pydev_override' from 'C:\\\\Users\\\\ansor.taghoev\\\\AppData\\\\Roaming\\\\Python\\\\Python312\\\\site-packages\\\\debugpy\\\\_vendored\\\\pydevd\\\\_pydev_bundle\\\\pydev_override.py'>,\n",
       " 'pydevd_plugins.extensions': <module 'pydevd_plugins.extensions' from 'C:\\\\Users\\\\ansor.taghoev\\\\AppData\\\\Roaming\\\\Python\\\\Python312\\\\site-packages\\\\debugpy\\\\_vendored\\\\pydevd\\\\pydevd_plugins\\\\extensions\\\\__init__.py'>,\n",
       " '_pydevd_bundle.pydevd_extension_utils': <module '_pydevd_bundle.pydevd_extension_utils' from 'C:\\\\Users\\\\ansor.taghoev\\\\AppData\\\\Roaming\\\\Python\\\\Python312\\\\site-packages\\\\debugpy\\\\_vendored\\\\pydevd\\\\_pydevd_bundle\\\\pydevd_extension_utils.py'>,\n",
       " '_pydevd_bundle.pydevd_frame_utils': <module '_pydevd_bundle.pydevd_frame_utils' from 'C:\\\\Users\\\\ansor.taghoev\\\\AppData\\\\Roaming\\\\Python\\\\Python312\\\\site-packages\\\\debugpy\\\\_vendored\\\\pydevd\\\\_pydevd_bundle\\\\pydevd_frame_utils.py'>,\n",
       " '_pydevd_bundle.pydevd_filtering': <module '_pydevd_bundle.pydevd_filtering' from 'C:\\\\Users\\\\ansor.taghoev\\\\AppData\\\\Roaming\\\\Python\\\\Python312\\\\site-packages\\\\debugpy\\\\_vendored\\\\pydevd\\\\_pydevd_bundle\\\\pydevd_filtering.py'>,\n",
       " '_pydevd_bundle.pydevd_io': <module '_pydevd_bundle.pydevd_io' from 'C:\\\\Users\\\\ansor.taghoev\\\\AppData\\\\Roaming\\\\Python\\\\Python312\\\\site-packages\\\\debugpy\\\\_vendored\\\\pydevd\\\\_pydevd_bundle\\\\pydevd_io.py'>,\n",
       " '_pydevd_bundle.pydevd_defaults': <module '_pydevd_bundle.pydevd_defaults' from 'C:\\\\Users\\\\ansor.taghoev\\\\AppData\\\\Roaming\\\\Python\\\\Python312\\\\site-packages\\\\debugpy\\\\_vendored\\\\pydevd\\\\_pydevd_bundle\\\\pydevd_defaults.py'>,\n",
       " '_pydevd_bundle.pydevd_utils': <module '_pydevd_bundle.pydevd_utils' from 'C:\\\\Users\\\\ansor.taghoev\\\\AppData\\\\Roaming\\\\Python\\\\Python312\\\\site-packages\\\\debugpy\\\\_vendored\\\\pydevd\\\\_pydevd_bundle\\\\pydevd_utils.py'>,\n",
       " '_pydevd_bundle.pydevd_runpy': <module '_pydevd_bundle.pydevd_runpy' from 'C:\\\\Users\\\\ansor.taghoev\\\\AppData\\\\Roaming\\\\Python\\\\Python312\\\\site-packages\\\\debugpy\\\\_vendored\\\\pydevd\\\\_pydevd_bundle\\\\pydevd_runpy.py'>,\n",
       " '_pydev_bundle._pydev_tipper_common': <module '_pydev_bundle._pydev_tipper_common' from 'C:\\\\Users\\\\ansor.taghoev\\\\AppData\\\\Roaming\\\\Python\\\\Python312\\\\site-packages\\\\debugpy\\\\_vendored\\\\pydevd\\\\_pydev_bundle\\\\_pydev_tipper_common.py'>,\n",
       " '_pydev_bundle._pydev_imports_tipper': <module '_pydev_bundle._pydev_imports_tipper' from 'C:\\\\Users\\\\ansor.taghoev\\\\AppData\\\\Roaming\\\\Python\\\\Python312\\\\site-packages\\\\debugpy\\\\_vendored\\\\pydevd\\\\_pydev_bundle\\\\_pydev_imports_tipper.py'>,\n",
       " '_pydev_bundle._pydev_calltip_util': <module '_pydev_bundle._pydev_calltip_util' from 'C:\\\\Users\\\\ansor.taghoev\\\\AppData\\\\Roaming\\\\Python\\\\Python312\\\\site-packages\\\\debugpy\\\\_vendored\\\\pydevd\\\\_pydev_bundle\\\\_pydev_calltip_util.py'>,\n",
       " '_pydevd_bundle.pydevd_safe_repr': <module '_pydevd_bundle.pydevd_safe_repr' from 'C:\\\\Users\\\\ansor.taghoev\\\\AppData\\\\Roaming\\\\Python\\\\Python312\\\\site-packages\\\\debugpy\\\\_vendored\\\\pydevd\\\\_pydevd_bundle\\\\pydevd_safe_repr.py'>,\n",
       " '_pydevd_bundle.pydevd_resolver': <module '_pydevd_bundle.pydevd_resolver' from 'C:\\\\Users\\\\ansor.taghoev\\\\AppData\\\\Roaming\\\\Python\\\\Python312\\\\site-packages\\\\debugpy\\\\_vendored\\\\pydevd\\\\_pydevd_bundle\\\\pydevd_resolver.py'>,\n",
       " '_pydevd_bundle.pydevd_extension_api': <module '_pydevd_bundle.pydevd_extension_api' from 'C:\\\\Users\\\\ansor.taghoev\\\\AppData\\\\Roaming\\\\Python\\\\Python312\\\\site-packages\\\\debugpy\\\\_vendored\\\\pydevd\\\\_pydevd_bundle\\\\pydevd_extension_api.py'>,\n",
       " '_pydevd_bundle.pydevd_xml': <module '_pydevd_bundle.pydevd_xml' from 'C:\\\\Users\\\\ansor.taghoev\\\\AppData\\\\Roaming\\\\Python\\\\Python312\\\\site-packages\\\\debugpy\\\\_vendored\\\\pydevd\\\\_pydevd_bundle\\\\pydevd_xml.py'>,\n",
       " '_pydevd_bundle.pydevd_dont_trace': <module '_pydevd_bundle.pydevd_dont_trace' from 'C:\\\\Users\\\\ansor.taghoev\\\\AppData\\\\Roaming\\\\Python\\\\Python312\\\\site-packages\\\\debugpy\\\\_vendored\\\\pydevd\\\\_pydevd_bundle\\\\pydevd_dont_trace.py'>,\n",
       " '_pydevd_frame_eval.vendored': <module '_pydevd_frame_eval.vendored' from 'C:\\\\Users\\\\ansor.taghoev\\\\AppData\\\\Roaming\\\\Python\\\\Python312\\\\site-packages\\\\debugpy\\\\_vendored\\\\pydevd\\\\_pydevd_frame_eval\\\\vendored\\\\__init__.py'>,\n",
       " '_pydevd_frame_eval.vendored.bytecode.flags': <module '_pydevd_frame_eval.vendored.bytecode.flags' from 'C:\\\\Users\\\\ansor.taghoev\\\\AppData\\\\Roaming\\\\Python\\\\Python312\\\\site-packages\\\\debugpy\\\\_vendored\\\\pydevd\\\\_pydevd_frame_eval\\\\vendored\\\\bytecode\\\\flags.py'>,\n",
       " '_pydevd_frame_eval.vendored.bytecode.instr': <module '_pydevd_frame_eval.vendored.bytecode.instr' from 'C:\\\\Users\\\\ansor.taghoev\\\\AppData\\\\Roaming\\\\Python\\\\Python312\\\\site-packages\\\\debugpy\\\\_vendored\\\\pydevd\\\\_pydevd_frame_eval\\\\vendored\\\\bytecode\\\\instr.py'>,\n",
       " '_pydevd_frame_eval.vendored.bytecode.bytecode': <module '_pydevd_frame_eval.vendored.bytecode.bytecode' from 'C:\\\\Users\\\\ansor.taghoev\\\\AppData\\\\Roaming\\\\Python\\\\Python312\\\\site-packages\\\\debugpy\\\\_vendored\\\\pydevd\\\\_pydevd_frame_eval\\\\vendored\\\\bytecode\\\\bytecode.py'>,\n",
       " '_pydevd_frame_eval.vendored.bytecode.concrete': <module '_pydevd_frame_eval.vendored.bytecode.concrete' from 'C:\\\\Users\\\\ansor.taghoev\\\\AppData\\\\Roaming\\\\Python\\\\Python312\\\\site-packages\\\\debugpy\\\\_vendored\\\\pydevd\\\\_pydevd_frame_eval\\\\vendored\\\\bytecode\\\\concrete.py'>,\n",
       " '_pydevd_frame_eval.vendored.bytecode.cfg': <module '_pydevd_frame_eval.vendored.bytecode.cfg' from 'C:\\\\Users\\\\ansor.taghoev\\\\AppData\\\\Roaming\\\\Python\\\\Python312\\\\site-packages\\\\debugpy\\\\_vendored\\\\pydevd\\\\_pydevd_frame_eval\\\\vendored\\\\bytecode\\\\cfg.py'>,\n",
       " '_pydevd_frame_eval.vendored.bytecode': <module '_pydevd_frame_eval.vendored.bytecode' from 'C:\\\\Users\\\\ansor.taghoev\\\\AppData\\\\Roaming\\\\Python\\\\Python312\\\\site-packages\\\\debugpy\\\\_vendored\\\\pydevd\\\\_pydevd_frame_eval\\\\vendored\\\\bytecode\\\\__init__.py'>,\n",
       " '_pydevd_bundle.pydevd_bytecode_utils': <module '_pydevd_bundle.pydevd_bytecode_utils' from 'C:\\\\Users\\\\ansor.taghoev\\\\AppData\\\\Roaming\\\\Python\\\\Python312\\\\site-packages\\\\debugpy\\\\_vendored\\\\pydevd\\\\_pydevd_bundle\\\\pydevd_bytecode_utils.py'>,\n",
       " '_pydevd_bundle.pydevd_frame': <module '_pydevd_bundle.pydevd_frame' from 'C:\\\\Users\\\\ansor.taghoev\\\\AppData\\\\Roaming\\\\Python\\\\Python312\\\\site-packages\\\\debugpy\\\\_vendored\\\\pydevd\\\\_pydevd_bundle\\\\pydevd_frame.py'>,\n",
       " '_pydevd_bundle.pydevd_additional_thread_info_regular': <module '_pydevd_bundle.pydevd_additional_thread_info_regular' from 'C:\\\\Users\\\\ansor.taghoev\\\\AppData\\\\Roaming\\\\Python\\\\Python312\\\\site-packages\\\\debugpy\\\\_vendored\\\\pydevd\\\\_pydevd_bundle\\\\pydevd_additional_thread_info_regular.py'>,\n",
       " '_pydevd_bundle.pydevd_additional_thread_info': <module '_pydevd_bundle.pydevd_additional_thread_info' from 'C:\\\\Users\\\\ansor.taghoev\\\\AppData\\\\Roaming\\\\Python\\\\Python312\\\\site-packages\\\\debugpy\\\\_vendored\\\\pydevd\\\\_pydevd_bundle\\\\pydevd_additional_thread_info.py'>,\n",
       " '_pydevd_bundle.pydevd_thread_lifecycle': <module '_pydevd_bundle.pydevd_thread_lifecycle' from 'C:\\\\Users\\\\ansor.taghoev\\\\AppData\\\\Roaming\\\\Python\\\\Python312\\\\site-packages\\\\debugpy\\\\_vendored\\\\pydevd\\\\_pydevd_bundle\\\\pydevd_thread_lifecycle.py'>,\n",
       " '_pydevd_bundle.pydevd_save_locals': <module '_pydevd_bundle.pydevd_save_locals' from 'C:\\\\Users\\\\ansor.taghoev\\\\AppData\\\\Roaming\\\\Python\\\\Python312\\\\site-packages\\\\debugpy\\\\_vendored\\\\pydevd\\\\_pydevd_bundle\\\\pydevd_save_locals.py'>,\n",
       " '_pydev_bundle.pydev_monkey': <module '_pydev_bundle.pydev_monkey' from 'C:\\\\Users\\\\ansor.taghoev\\\\AppData\\\\Roaming\\\\Python\\\\Python312\\\\site-packages\\\\debugpy\\\\_vendored\\\\pydevd\\\\_pydev_bundle\\\\pydev_monkey.py'>,\n",
       " 'pydevd_tracing': <module 'pydevd_tracing' from 'C:\\\\Users\\\\ansor.taghoev\\\\AppData\\\\Roaming\\\\Python\\\\Python312\\\\site-packages\\\\debugpy\\\\_vendored\\\\pydevd\\\\pydevd_tracing.py'>,\n",
       " '_pydevd_bundle.pydevd_collect_bytecode_info': <module '_pydevd_bundle.pydevd_collect_bytecode_info' from 'C:\\\\Users\\\\ansor.taghoev\\\\AppData\\\\Roaming\\\\Python\\\\Python312\\\\site-packages\\\\debugpy\\\\_vendored\\\\pydevd\\\\_pydevd_bundle\\\\pydevd_collect_bytecode_info.py'>,\n",
       " '_pydevd_bundle.pydevd_daemon_thread': <module '_pydevd_bundle.pydevd_daemon_thread' from 'C:\\\\Users\\\\ansor.taghoev\\\\AppData\\\\Roaming\\\\Python\\\\Python312\\\\site-packages\\\\debugpy\\\\_vendored\\\\pydevd\\\\_pydevd_bundle\\\\pydevd_daemon_thread.py'>,\n",
       " '_pydevd_bundle.pydevd_timeout': <module '_pydevd_bundle.pydevd_timeout' from 'C:\\\\Users\\\\ansor.taghoev\\\\AppData\\\\Roaming\\\\Python\\\\Python312\\\\site-packages\\\\debugpy\\\\_vendored\\\\pydevd\\\\_pydevd_bundle\\\\pydevd_timeout.py'>,\n",
       " '_pydevd_bundle.pydevd_vars': <module '_pydevd_bundle.pydevd_vars' from 'C:\\\\Users\\\\ansor.taghoev\\\\AppData\\\\Roaming\\\\Python\\\\Python312\\\\site-packages\\\\debugpy\\\\_vendored\\\\pydevd\\\\_pydevd_bundle\\\\pydevd_vars.py'>,\n",
       " '_pydev_bundle.pydev_console_utils': <module '_pydev_bundle.pydev_console_utils' from 'C:\\\\Users\\\\ansor.taghoev\\\\AppData\\\\Roaming\\\\Python\\\\Python312\\\\site-packages\\\\debugpy\\\\_vendored\\\\pydevd\\\\_pydev_bundle\\\\pydev_console_utils.py'>,\n",
       " '_pydevd_bundle.pydevd_import_class': <module '_pydevd_bundle.pydevd_import_class' from 'C:\\\\Users\\\\ansor.taghoev\\\\AppData\\\\Roaming\\\\Python\\\\Python312\\\\site-packages\\\\debugpy\\\\_vendored\\\\pydevd\\\\_pydevd_bundle\\\\pydevd_import_class.py'>,\n",
       " '_pydevd_bundle.pydevd_breakpoints': <module '_pydevd_bundle.pydevd_breakpoints' from 'C:\\\\Users\\\\ansor.taghoev\\\\AppData\\\\Roaming\\\\Python\\\\Python312\\\\site-packages\\\\debugpy\\\\_vendored\\\\pydevd\\\\_pydevd_bundle\\\\pydevd_breakpoints.py'>,\n",
       " '_pydevd_bundle.pydevd_custom_frames': <module '_pydevd_bundle.pydevd_custom_frames' from 'C:\\\\Users\\\\ansor.taghoev\\\\AppData\\\\Roaming\\\\Python\\\\Python312\\\\site-packages\\\\debugpy\\\\_vendored\\\\pydevd\\\\_pydevd_bundle\\\\pydevd_custom_frames.py'>,\n",
       " '_pydevd_bundle.pydevd_dont_trace_files': <module '_pydevd_bundle.pydevd_dont_trace_files' from 'C:\\\\Users\\\\ansor.taghoev\\\\AppData\\\\Roaming\\\\Python\\\\Python312\\\\site-packages\\\\debugpy\\\\_vendored\\\\pydevd\\\\_pydevd_bundle\\\\pydevd_dont_trace_files.py'>,\n",
       " '_pydevd_bundle.pydevd_net_command': <module '_pydevd_bundle.pydevd_net_command' from 'C:\\\\Users\\\\ansor.taghoev\\\\AppData\\\\Roaming\\\\Python\\\\Python312\\\\site-packages\\\\debugpy\\\\_vendored\\\\pydevd\\\\_pydevd_bundle\\\\pydevd_net_command.py'>,\n",
       " '_pydevd_bundle.pydevconsole_code': <module '_pydevd_bundle.pydevconsole_code' from 'C:\\\\Users\\\\ansor.taghoev\\\\AppData\\\\Roaming\\\\Python\\\\Python312\\\\site-packages\\\\debugpy\\\\_vendored\\\\pydevd\\\\_pydevd_bundle\\\\pydevconsole_code.py'>,\n",
       " '_pydev_bundle.pydev_umd': <module '_pydev_bundle.pydev_umd' from 'C:\\\\Users\\\\ansor.taghoev\\\\AppData\\\\Roaming\\\\Python\\\\Python312\\\\site-packages\\\\debugpy\\\\_vendored\\\\pydevd\\\\_pydev_bundle\\\\pydev_umd.py'>,\n",
       " 'pydevconsole': <module 'pydevconsole' from 'C:\\\\Users\\\\ansor.taghoev\\\\AppData\\\\Roaming\\\\Python\\\\Python312\\\\site-packages\\\\debugpy\\\\_vendored\\\\pydevd\\\\pydevconsole.py'>,\n",
       " '_pydev_bundle._pydev_completer': <module '_pydev_bundle._pydev_completer' from 'C:\\\\Users\\\\ansor.taghoev\\\\AppData\\\\Roaming\\\\Python\\\\Python312\\\\site-packages\\\\debugpy\\\\_vendored\\\\pydevd\\\\_pydev_bundle\\\\_pydev_completer.py'>,\n",
       " '_pydevd_bundle.pydevd_net_command_factory_xml': <module '_pydevd_bundle.pydevd_net_command_factory_xml' from 'C:\\\\Users\\\\ansor.taghoev\\\\AppData\\\\Roaming\\\\Python\\\\Python312\\\\site-packages\\\\debugpy\\\\_vendored\\\\pydevd\\\\_pydevd_bundle\\\\pydevd_net_command_factory_xml.py'>,\n",
       " '_pydevd_bundle.pydevd_trace_dispatch_regular': <module '_pydevd_bundle.pydevd_trace_dispatch_regular' from 'C:\\\\Users\\\\ansor.taghoev\\\\AppData\\\\Roaming\\\\Python\\\\Python312\\\\site-packages\\\\debugpy\\\\_vendored\\\\pydevd\\\\_pydevd_bundle\\\\pydevd_trace_dispatch_regular.py'>,\n",
       " '_pydevd_bundle.pydevd_trace_dispatch': <module '_pydevd_bundle.pydevd_trace_dispatch' from 'C:\\\\Users\\\\ansor.taghoev\\\\AppData\\\\Roaming\\\\Python\\\\Python312\\\\site-packages\\\\debugpy\\\\_vendored\\\\pydevd\\\\_pydevd_bundle\\\\pydevd_trace_dispatch.py'>,\n",
       " '_pydevd_frame_eval.pydevd_frame_eval_main': <module '_pydevd_frame_eval.pydevd_frame_eval_main' from 'C:\\\\Users\\\\ansor.taghoev\\\\AppData\\\\Roaming\\\\Python\\\\Python312\\\\site-packages\\\\debugpy\\\\_vendored\\\\pydevd\\\\_pydevd_frame_eval\\\\pydevd_frame_eval_main.py'>,\n",
       " '_pydevd_bundle.pydevd_source_mapping': <module '_pydevd_bundle.pydevd_source_mapping' from 'C:\\\\Users\\\\ansor.taghoev\\\\AppData\\\\Roaming\\\\Python\\\\Python312\\\\site-packages\\\\debugpy\\\\_vendored\\\\pydevd\\\\_pydevd_bundle\\\\pydevd_source_mapping.py'>,\n",
       " '_pydevd_bundle.pydevd_concurrency_analyser': <module '_pydevd_bundle.pydevd_concurrency_analyser' from 'C:\\\\Users\\\\ansor.taghoev\\\\AppData\\\\Roaming\\\\Python\\\\Python312\\\\site-packages\\\\debugpy\\\\_vendored\\\\pydevd\\\\_pydevd_bundle\\\\pydevd_concurrency_analyser\\\\__init__.py'>,\n",
       " '_pydevd_bundle.pydevd_concurrency_analyser.pydevd_thread_wrappers': <module '_pydevd_bundle.pydevd_concurrency_analyser.pydevd_thread_wrappers' from 'C:\\\\Users\\\\ansor.taghoev\\\\AppData\\\\Roaming\\\\Python\\\\Python312\\\\site-packages\\\\debugpy\\\\_vendored\\\\pydevd\\\\_pydevd_bundle\\\\pydevd_concurrency_analyser\\\\pydevd_thread_wrappers.py'>,\n",
       " '_pydevd_bundle.pydevd_concurrency_analyser.pydevd_concurrency_logger': <module '_pydevd_bundle.pydevd_concurrency_analyser.pydevd_concurrency_logger' from 'C:\\\\Users\\\\ansor.taghoev\\\\AppData\\\\Roaming\\\\Python\\\\Python312\\\\site-packages\\\\debugpy\\\\_vendored\\\\pydevd\\\\_pydevd_bundle\\\\pydevd_concurrency_analyser\\\\pydevd_concurrency_logger.py'>,\n",
       " '_pydevd_bundle._debug_adapter': <module '_pydevd_bundle._debug_adapter' from 'C:\\\\Users\\\\ansor.taghoev\\\\AppData\\\\Roaming\\\\Python\\\\Python312\\\\site-packages\\\\debugpy\\\\_vendored\\\\pydevd\\\\_pydevd_bundle\\\\_debug_adapter\\\\__init__.py'>,\n",
       " '_pydevd_bundle._debug_adapter.pydevd_schema_log': <module '_pydevd_bundle._debug_adapter.pydevd_schema_log' from 'C:\\\\Users\\\\ansor.taghoev\\\\AppData\\\\Roaming\\\\Python\\\\Python312\\\\site-packages\\\\debugpy\\\\_vendored\\\\pydevd\\\\_pydevd_bundle\\\\_debug_adapter\\\\pydevd_schema_log.py'>,\n",
       " '_pydevd_bundle._debug_adapter.pydevd_base_schema': <module '_pydevd_bundle._debug_adapter.pydevd_base_schema' from 'C:\\\\Users\\\\ansor.taghoev\\\\AppData\\\\Roaming\\\\Python\\\\Python312\\\\site-packages\\\\debugpy\\\\_vendored\\\\pydevd\\\\_pydevd_bundle\\\\_debug_adapter\\\\pydevd_base_schema.py'>,\n",
       " '_pydevd_bundle._debug_adapter.pydevd_schema': <module '_pydevd_bundle._debug_adapter.pydevd_schema' from 'C:\\\\Users\\\\ansor.taghoev\\\\AppData\\\\Roaming\\\\Python\\\\Python312\\\\site-packages\\\\debugpy\\\\_vendored\\\\pydevd\\\\_pydevd_bundle\\\\_debug_adapter\\\\pydevd_schema.py'>,\n",
       " '_pydevd_bundle.pydevd_reload': <module '_pydevd_bundle.pydevd_reload' from 'C:\\\\Users\\\\ansor.taghoev\\\\AppData\\\\Roaming\\\\Python\\\\Python312\\\\site-packages\\\\debugpy\\\\_vendored\\\\pydevd\\\\_pydevd_bundle\\\\pydevd_reload.py'>,\n",
       " '_pydev_bundle.fsnotify': <module '_pydev_bundle.fsnotify' from 'C:\\\\Users\\\\ansor.taghoev\\\\AppData\\\\Roaming\\\\Python\\\\Python312\\\\site-packages\\\\debugpy\\\\_vendored\\\\pydevd\\\\_pydev_bundle\\\\fsnotify\\\\__init__.py'>,\n",
       " '_pydevd_bundle.pydevd_console': <module '_pydevd_bundle.pydevd_console' from 'C:\\\\Users\\\\ansor.taghoev\\\\AppData\\\\Roaming\\\\Python\\\\Python312\\\\site-packages\\\\debugpy\\\\_vendored\\\\pydevd\\\\_pydevd_bundle\\\\pydevd_console.py'>,\n",
       " '_pydevd_bundle.pydevd_comm': <module '_pydevd_bundle.pydevd_comm' from 'C:\\\\Users\\\\ansor.taghoev\\\\AppData\\\\Roaming\\\\Python\\\\Python312\\\\site-packages\\\\debugpy\\\\_vendored\\\\pydevd\\\\_pydevd_bundle\\\\pydevd_comm.py'>,\n",
       " '_pydevd_bundle.pydevd_net_command_factory_json': <module '_pydevd_bundle.pydevd_net_command_factory_json' from 'C:\\\\Users\\\\ansor.taghoev\\\\AppData\\\\Roaming\\\\Python\\\\Python312\\\\site-packages\\\\debugpy\\\\_vendored\\\\pydevd\\\\_pydevd_bundle\\\\pydevd_net_command_factory_json.py'>,\n",
       " '_pydevd_bundle.pydevd_api': <module '_pydevd_bundle.pydevd_api' from 'C:\\\\Users\\\\ansor.taghoev\\\\AppData\\\\Roaming\\\\Python\\\\Python312\\\\site-packages\\\\debugpy\\\\_vendored\\\\pydevd\\\\_pydevd_bundle\\\\pydevd_api.py'>,\n",
       " '_pydevd_bundle.pydevd_json_debug_options': <module '_pydevd_bundle.pydevd_json_debug_options' from 'C:\\\\Users\\\\ansor.taghoev\\\\AppData\\\\Roaming\\\\Python\\\\Python312\\\\site-packages\\\\debugpy\\\\_vendored\\\\pydevd\\\\_pydevd_bundle\\\\pydevd_json_debug_options.py'>,\n",
       " '_pydevd_bundle.pydevd_process_net_command_json': <module '_pydevd_bundle.pydevd_process_net_command_json' from 'C:\\\\Users\\\\ansor.taghoev\\\\AppData\\\\Roaming\\\\Python\\\\Python312\\\\site-packages\\\\debugpy\\\\_vendored\\\\pydevd\\\\_pydevd_bundle\\\\pydevd_process_net_command_json.py'>,\n",
       " '_pydevd_bundle.pydevd_traceproperty': <module '_pydevd_bundle.pydevd_traceproperty' from 'C:\\\\Users\\\\ansor.taghoev\\\\AppData\\\\Roaming\\\\Python\\\\Python312\\\\site-packages\\\\debugpy\\\\_vendored\\\\pydevd\\\\_pydevd_bundle\\\\pydevd_traceproperty.py'>,\n",
       " '_pydevd_bundle.pydevd_process_net_command': <module '_pydevd_bundle.pydevd_process_net_command' from 'C:\\\\Users\\\\ansor.taghoev\\\\AppData\\\\Roaming\\\\Python\\\\Python312\\\\site-packages\\\\debugpy\\\\_vendored\\\\pydevd\\\\_pydevd_bundle\\\\pydevd_process_net_command.py'>,\n",
       " '_pydevd_bundle.pydevd_suspended_frames': <module '_pydevd_bundle.pydevd_suspended_frames' from 'C:\\\\Users\\\\ansor.taghoev\\\\AppData\\\\Roaming\\\\Python\\\\Python312\\\\site-packages\\\\debugpy\\\\_vendored\\\\pydevd\\\\_pydevd_bundle\\\\pydevd_suspended_frames.py'>,\n",
       " '_pydevd_bundle.pydevd_trace_api': <module '_pydevd_bundle.pydevd_trace_api' from 'C:\\\\Users\\\\ansor.taghoev\\\\AppData\\\\Roaming\\\\Python\\\\Python312\\\\site-packages\\\\debugpy\\\\_vendored\\\\pydevd\\\\_pydevd_bundle\\\\pydevd_trace_api.py'>,\n",
       " 'pydevd_plugins.pydevd_line_validation': <module 'pydevd_plugins.pydevd_line_validation' from 'C:\\\\Users\\\\ansor.taghoev\\\\AppData\\\\Roaming\\\\Python\\\\Python312\\\\site-packages\\\\debugpy\\\\_vendored\\\\pydevd\\\\pydevd_plugins\\\\pydevd_line_validation.py'>,\n",
       " 'pydevd_plugins.django_debug': <module 'pydevd_plugins.django_debug' from 'C:\\\\Users\\\\ansor.taghoev\\\\AppData\\\\Roaming\\\\Python\\\\Python312\\\\site-packages\\\\debugpy\\\\_vendored\\\\pydevd\\\\pydevd_plugins\\\\django_debug.py'>,\n",
       " 'pydevd_plugins.jinja2_debug': <module 'pydevd_plugins.jinja2_debug' from 'C:\\\\Users\\\\ansor.taghoev\\\\AppData\\\\Roaming\\\\Python\\\\Python312\\\\site-packages\\\\debugpy\\\\_vendored\\\\pydevd\\\\pydevd_plugins\\\\jinja2_debug.py'>,\n",
       " '_pydevd_bundle.pydevd_plugin_utils': <module '_pydevd_bundle.pydevd_plugin_utils' from 'C:\\\\Users\\\\ansor.taghoev\\\\AppData\\\\Roaming\\\\Python\\\\Python312\\\\site-packages\\\\debugpy\\\\_vendored\\\\pydevd\\\\_pydevd_bundle\\\\pydevd_plugin_utils.py'>,\n",
       " 'pydevd_plugins.extensions.types': <module 'pydevd_plugins.extensions.types' from 'C:\\\\Users\\\\ansor.taghoev\\\\AppData\\\\Roaming\\\\Python\\\\Python312\\\\site-packages\\\\debugpy\\\\_vendored\\\\pydevd\\\\pydevd_plugins\\\\extensions\\\\types\\\\__init__.py'>,\n",
       " 'pydevd_plugins.extensions.types.pydevd_helpers': <module 'pydevd_plugins.extensions.types.pydevd_helpers' from 'C:\\\\Users\\\\ansor.taghoev\\\\AppData\\\\Roaming\\\\Python\\\\Python312\\\\site-packages\\\\debugpy\\\\_vendored\\\\pydevd\\\\pydevd_plugins\\\\extensions\\\\types\\\\pydevd_helpers.py'>,\n",
       " 'pydevd_plugins.extensions.types.pydevd_plugin_numpy_types': <module 'pydevd_plugins.extensions.types.pydevd_plugin_numpy_types' from 'C:\\\\Users\\\\ansor.taghoev\\\\AppData\\\\Roaming\\\\Python\\\\Python312\\\\site-packages\\\\debugpy\\\\_vendored\\\\pydevd\\\\pydevd_plugins\\\\extensions\\\\types\\\\pydevd_plugin_numpy_types.py'>,\n",
       " 'pydevd_plugins.extensions.types.pydevd_plugin_pandas_types': <module 'pydevd_plugins.extensions.types.pydevd_plugin_pandas_types' from 'C:\\\\Users\\\\ansor.taghoev\\\\AppData\\\\Roaming\\\\Python\\\\Python312\\\\site-packages\\\\debugpy\\\\_vendored\\\\pydevd\\\\pydevd_plugins\\\\extensions\\\\types\\\\pydevd_plugin_pandas_types.py'>,\n",
       " 'pydevd_plugins.extensions.types.pydevd_plugins_django_form_str': <module 'pydevd_plugins.extensions.types.pydevd_plugins_django_form_str' from 'C:\\\\Users\\\\ansor.taghoev\\\\AppData\\\\Roaming\\\\Python\\\\Python312\\\\site-packages\\\\debugpy\\\\_vendored\\\\pydevd\\\\pydevd_plugins\\\\extensions\\\\types\\\\pydevd_plugins_django_form_str.py'>,\n",
       " 'pydevd': <module 'pydevd' from 'C:\\\\Users\\\\ansor.taghoev\\\\AppData\\\\Roaming\\\\Python\\\\Python312\\\\site-packages\\\\debugpy\\\\_vendored\\\\pydevd\\\\pydevd.py'>,\n",
       " 'debugpy._vendored.force_pydevd': <module 'debugpy._vendored.force_pydevd' from 'C:\\\\Users\\\\ansor.taghoev\\\\AppData\\\\Roaming\\\\Python\\\\Python312\\\\site-packages\\\\debugpy\\\\_vendored\\\\force_pydevd.py'>,\n",
       " 'debugpy.server': <module 'debugpy.server' from 'C:\\\\Users\\\\ansor.taghoev\\\\AppData\\\\Roaming\\\\Python\\\\Python312\\\\site-packages\\\\debugpy\\\\server\\\\__init__.py'>,\n",
       " 'debugpy.adapter': <module 'debugpy.adapter' from 'C:\\\\Users\\\\ansor.taghoev\\\\AppData\\\\Roaming\\\\Python\\\\Python312\\\\site-packages\\\\debugpy\\\\adapter\\\\__init__.py'>,\n",
       " 'debugpy.common': <module 'debugpy.common' from 'C:\\\\Users\\\\ansor.taghoev\\\\AppData\\\\Roaming\\\\Python\\\\Python312\\\\site-packages\\\\debugpy\\\\common\\\\__init__.py'>,\n",
       " 'debugpy.common.json': <module 'debugpy.common.json' from 'C:\\\\Users\\\\ansor.taghoev\\\\AppData\\\\Roaming\\\\Python\\\\Python312\\\\site-packages\\\\debugpy\\\\common\\\\json.py'>,\n",
       " 'debugpy.common.timestamp': <module 'debugpy.common.timestamp' from 'C:\\\\Users\\\\ansor.taghoev\\\\AppData\\\\Roaming\\\\Python\\\\Python312\\\\site-packages\\\\debugpy\\\\common\\\\timestamp.py'>,\n",
       " 'debugpy.common.util': <module 'debugpy.common.util' from 'C:\\\\Users\\\\ansor.taghoev\\\\AppData\\\\Roaming\\\\Python\\\\Python312\\\\site-packages\\\\debugpy\\\\common\\\\util.py'>,\n",
       " 'debugpy.common.log': <module 'debugpy.common.log' from 'C:\\\\Users\\\\ansor.taghoev\\\\AppData\\\\Roaming\\\\Python\\\\Python312\\\\site-packages\\\\debugpy\\\\common\\\\log.py'>,\n",
       " 'debugpy.common.sockets': <module 'debugpy.common.sockets' from 'C:\\\\Users\\\\ansor.taghoev\\\\AppData\\\\Roaming\\\\Python\\\\Python312\\\\site-packages\\\\debugpy\\\\common\\\\sockets.py'>,\n",
       " 'debugpy.server.api': <module 'debugpy.server.api' from 'C:\\\\Users\\\\ansor.taghoev\\\\AppData\\\\Roaming\\\\Python\\\\Python312\\\\site-packages\\\\debugpy\\\\server\\\\api.py'>,\n",
       " 'ipykernel.debugger': <module 'ipykernel.debugger' from 'C:\\\\Users\\\\ansor.taghoev\\\\AppData\\\\Roaming\\\\Python\\\\Python312\\\\site-packages\\\\ipykernel\\\\debugger.py'>,\n",
       " 'IPython.core.completerlib': <module 'IPython.core.completerlib' from 'C:\\\\Users\\\\ansor.taghoev\\\\AppData\\\\Roaming\\\\Python\\\\Python312\\\\site-packages\\\\IPython\\\\core\\\\completerlib.py'>,\n",
       " 'vscode': <module 'vscode'>,\n",
       " 'jedi.inference.finder': <module 'jedi.inference.finder' from 'C:\\\\Users\\\\ansor.taghoev\\\\AppData\\\\Roaming\\\\Python\\\\Python312\\\\site-packages\\\\jedi\\\\inference\\\\finder.py'>,\n",
       " 'pygments.styles.default': <module 'pygments.styles.default' from 'C:\\\\Users\\\\ansor.taghoev\\\\AppData\\\\Roaming\\\\Python\\\\Python312\\\\site-packages\\\\pygments\\\\styles\\\\default.py'>}"
      ]
     },
     "execution_count": 17,
     "metadata": {},
     "output_type": "execute_result"
    }
   ],
   "source": [
    "sys.modules"
   ]
  },
  {
   "cell_type": "code",
   "execution_count": 18,
   "metadata": {},
   "outputs": [
    {
     "data": {
      "text/plain": [
       "dict"
      ]
     },
     "execution_count": 18,
     "metadata": {},
     "output_type": "execute_result"
    }
   ],
   "source": [
    "type(sys.modules)"
   ]
  },
  {
   "cell_type": "code",
   "execution_count": 19,
   "metadata": {},
   "outputs": [
    {
     "data": {
      "text/plain": [
       "<module 'math' (built-in)>"
      ]
     },
     "execution_count": 19,
     "metadata": {},
     "output_type": "execute_result"
    }
   ],
   "source": [
    "sys.modules['math']"
   ]
  },
  {
   "cell_type": "code",
   "execution_count": 20,
   "metadata": {},
   "outputs": [
    {
     "data": {
      "text/plain": [
       "2430320757232"
      ]
     },
     "execution_count": 20,
     "metadata": {},
     "output_type": "execute_result"
    }
   ],
   "source": [
    "id(sys.modules['math'])"
   ]
  },
  {
   "cell_type": "code",
   "execution_count": 21,
   "metadata": {},
   "outputs": [
    {
     "data": {
      "text/plain": [
       "'math'"
      ]
     },
     "execution_count": 21,
     "metadata": {},
     "output_type": "execute_result"
    }
   ],
   "source": [
    "math.__name__"
   ]
  },
  {
   "cell_type": "code",
   "execution_count": 22,
   "metadata": {},
   "outputs": [
    {
     "data": {
      "text/plain": [
       "{'__name__': 'math',\n",
       " '__doc__': 'This module provides access to the mathematical functions\\ndefined by the C standard.',\n",
       " '__package__': '',\n",
       " '__loader__': _frozen_importlib.BuiltinImporter,\n",
       " '__spec__': ModuleSpec(name='math', loader=<class '_frozen_importlib.BuiltinImporter'>, origin='built-in'),\n",
       " 'acos': <function math.acos(x, /)>,\n",
       " 'acosh': <function math.acosh(x, /)>,\n",
       " 'asin': <function math.asin(x, /)>,\n",
       " 'asinh': <function math.asinh(x, /)>,\n",
       " 'atan': <function math.atan(x, /)>,\n",
       " 'atan2': <function math.atan2(y, x, /)>,\n",
       " 'atanh': <function math.atanh(x, /)>,\n",
       " 'cbrt': <function math.cbrt(x, /)>,\n",
       " 'ceil': <function math.ceil(x, /)>,\n",
       " 'copysign': <function math.copysign(x, y, /)>,\n",
       " 'cos': <function math.cos(x, /)>,\n",
       " 'cosh': <function math.cosh(x, /)>,\n",
       " 'degrees': <function math.degrees(x, /)>,\n",
       " 'dist': <function math.dist(p, q, /)>,\n",
       " 'erf': <function math.erf(x, /)>,\n",
       " 'erfc': <function math.erfc(x, /)>,\n",
       " 'exp': <function math.exp(x, /)>,\n",
       " 'exp2': <function math.exp2(x, /)>,\n",
       " 'expm1': <function math.expm1(x, /)>,\n",
       " 'fabs': <function math.fabs(x, /)>,\n",
       " 'factorial': <function math.factorial(n, /)>,\n",
       " 'floor': <function math.floor(x, /)>,\n",
       " 'fmod': <function math.fmod(x, y, /)>,\n",
       " 'frexp': <function math.frexp(x, /)>,\n",
       " 'fsum': <function math.fsum(seq, /)>,\n",
       " 'gamma': <function math.gamma(x, /)>,\n",
       " 'gcd': <function math.gcd(*integers)>,\n",
       " 'hypot': <function math.hypot>,\n",
       " 'isclose': <function math.isclose(a, b, *, rel_tol=1e-09, abs_tol=0.0)>,\n",
       " 'isfinite': <function math.isfinite(x, /)>,\n",
       " 'isinf': <function math.isinf(x, /)>,\n",
       " 'isnan': <function math.isnan(x, /)>,\n",
       " 'isqrt': <function math.isqrt(n, /)>,\n",
       " 'lcm': <function math.lcm(*integers)>,\n",
       " 'ldexp': <function math.ldexp(x, i, /)>,\n",
       " 'lgamma': <function math.lgamma(x, /)>,\n",
       " 'log': <function math.log>,\n",
       " 'log1p': <function math.log1p(x, /)>,\n",
       " 'log10': <function math.log10(x, /)>,\n",
       " 'log2': <function math.log2(x, /)>,\n",
       " 'modf': <function math.modf(x, /)>,\n",
       " 'pow': <function math.pow(x, y, /)>,\n",
       " 'radians': <function math.radians(x, /)>,\n",
       " 'remainder': <function math.remainder(x, y, /)>,\n",
       " 'sin': <function math.sin(x, /)>,\n",
       " 'sinh': <function math.sinh(x, /)>,\n",
       " 'sqrt': <function math.sqrt(x, /)>,\n",
       " 'tan': <function math.tan(x, /)>,\n",
       " 'tanh': <function math.tanh(x, /)>,\n",
       " 'sumprod': <function math.sumprod(p, q, /)>,\n",
       " 'trunc': <function math.trunc(x, /)>,\n",
       " 'prod': <function math.prod(iterable, /, *, start=1)>,\n",
       " 'perm': <function math.perm(n, k=None, /)>,\n",
       " 'comb': <function math.comb(n, k, /)>,\n",
       " 'nextafter': <function math.nextafter(x, y, /, *, steps=None)>,\n",
       " 'ulp': <function math.ulp(x, /)>,\n",
       " 'pi': 3.141592653589793,\n",
       " 'e': 2.718281828459045,\n",
       " 'tau': 6.283185307179586,\n",
       " 'inf': inf,\n",
       " 'nan': nan}"
      ]
     },
     "execution_count": 22,
     "metadata": {},
     "output_type": "execute_result"
    }
   ],
   "source": [
    "math.__dict__"
   ]
  },
  {
   "cell_type": "code",
   "execution_count": 23,
   "metadata": {},
   "outputs": [],
   "source": [
    "f = math.__dict__['sqrt']"
   ]
  },
  {
   "cell_type": "code",
   "execution_count": 24,
   "metadata": {},
   "outputs": [
    {
     "data": {
      "text/plain": [
       "1.4142135623730951"
      ]
     },
     "execution_count": 24,
     "metadata": {},
     "output_type": "execute_result"
    }
   ],
   "source": [
    "f(2)"
   ]
  },
  {
   "cell_type": "code",
   "execution_count": 25,
   "metadata": {},
   "outputs": [],
   "source": [
    "import fractions"
   ]
  },
  {
   "cell_type": "code",
   "execution_count": 26,
   "metadata": {},
   "outputs": [
    {
     "data": {
      "text/plain": [
       "<module 'fractions' from 'c:\\\\Users\\\\ansor.taghoev\\\\AppData\\\\Local\\\\Programs\\\\Python\\\\Python312\\\\Lib\\\\fractions.py'>"
      ]
     },
     "execution_count": 26,
     "metadata": {},
     "output_type": "execute_result"
    }
   ],
   "source": [
    "sys.modules['fractions']"
   ]
  },
  {
   "cell_type": "code",
   "execution_count": 27,
   "metadata": {},
   "outputs": [
    {
     "data": {
      "text/plain": [
       "['Decimal',\n",
       " 'Fraction',\n",
       " '_FLOAT_FORMAT_SPECIFICATION_MATCHER',\n",
       " '_PyHASH_INF',\n",
       " '_PyHASH_MODULUS',\n",
       " '_RATIONAL_FORMAT',\n",
       " '__all__',\n",
       " '__builtins__',\n",
       " '__cached__',\n",
       " '__doc__',\n",
       " '__file__',\n",
       " '__loader__',\n",
       " '__name__',\n",
       " '__package__',\n",
       " '__spec__',\n",
       " '_hash_algorithm',\n",
       " '_round_to_exponent',\n",
       " '_round_to_figures',\n",
       " 'functools',\n",
       " 'math',\n",
       " 'numbers',\n",
       " 'operator',\n",
       " 're',\n",
       " 'sys']"
      ]
     },
     "execution_count": 27,
     "metadata": {},
     "output_type": "execute_result"
    }
   ],
   "source": [
    "dir(fractions)"
   ]
  },
  {
   "cell_type": "code",
   "execution_count": 28,
   "metadata": {},
   "outputs": [
    {
     "data": {
      "text/plain": [
       "{'__name__': 'fractions',\n",
       " '__doc__': 'Fraction, infinite-precision, rational numbers.',\n",
       " '__package__': '',\n",
       " '__loader__': <_frozen_importlib_external.SourceFileLoader at 0x235db77b2f0>,\n",
       " '__spec__': ModuleSpec(name='fractions', loader=<_frozen_importlib_external.SourceFileLoader object at 0x00000235DB77B2F0>, origin='c:\\\\Users\\\\ansor.taghoev\\\\AppData\\\\Local\\\\Programs\\\\Python\\\\Python312\\\\Lib\\\\fractions.py'),\n",
       " '__file__': 'c:\\\\Users\\\\ansor.taghoev\\\\AppData\\\\Local\\\\Programs\\\\Python\\\\Python312\\\\Lib\\\\fractions.py',\n",
       " '__cached__': 'c:\\\\Users\\\\ansor.taghoev\\\\AppData\\\\Local\\\\Programs\\\\Python\\\\Python312\\\\Lib\\\\__pycache__\\\\fractions.cpython-312.pyc',\n",
       " '__builtins__': {'__name__': 'builtins',\n",
       "  '__doc__': \"Built-in functions, types, exceptions, and other objects.\\n\\nThis module provides direct access to all 'built-in'\\nidentifiers of Python; for example, builtins.len is\\nthe full name for the built-in function len().\\n\\nThis module is not normally accessed explicitly by most\\napplications, but can be useful in modules that provide\\nobjects with the same name as a built-in value, but in\\nwhich the built-in of that name is also needed.\",\n",
       "  '__package__': '',\n",
       "  '__loader__': _frozen_importlib.BuiltinImporter,\n",
       "  '__spec__': ModuleSpec(name='builtins', loader=<class '_frozen_importlib.BuiltinImporter'>, origin='built-in'),\n",
       "  '__build_class__': <function __build_class__>,\n",
       "  '__import__': <function __import__(name, globals=None, locals=None, fromlist=(), level=0)>,\n",
       "  'abs': <function abs(x, /)>,\n",
       "  'all': <function all(iterable, /)>,\n",
       "  'any': <function any(iterable, /)>,\n",
       "  'ascii': <function ascii(obj, /)>,\n",
       "  'bin': <function bin(number, /)>,\n",
       "  'breakpoint': <function breakpoint>,\n",
       "  'callable': <function callable(obj, /)>,\n",
       "  'chr': <function chr(i, /)>,\n",
       "  'compile': <function compile(source, filename, mode, flags=0, dont_inherit=False, optimize=-1, *, _feature_version=-1)>,\n",
       "  'delattr': <function delattr(obj, name, /)>,\n",
       "  'dir': <function dir>,\n",
       "  'divmod': <function divmod(x, y, /)>,\n",
       "  'eval': <function eval(source, globals=None, locals=None, /)>,\n",
       "  'exec': <function exec(source, globals=None, locals=None, /, *, closure=None)>,\n",
       "  'format': <function format(value, format_spec='', /)>,\n",
       "  'getattr': <function getattr>,\n",
       "  'globals': <function globals()>,\n",
       "  'hasattr': <function hasattr(obj, name, /)>,\n",
       "  'hash': <function hash(obj, /)>,\n",
       "  'hex': <function hex(number, /)>,\n",
       "  'id': <function id(obj, /)>,\n",
       "  'input': <bound method Kernel.raw_input of <ipykernel.ipkernel.IPythonKernel object at 0x00000235DCCDAF30>>,\n",
       "  'isinstance': <function isinstance(obj, class_or_tuple, /)>,\n",
       "  'issubclass': <function issubclass(cls, class_or_tuple, /)>,\n",
       "  'iter': <function iter>,\n",
       "  'aiter': <function aiter(async_iterable, /)>,\n",
       "  'len': <function len(obj, /)>,\n",
       "  'locals': <function locals()>,\n",
       "  'max': <function max>,\n",
       "  'min': <function min>,\n",
       "  'next': <function next>,\n",
       "  'anext': <function anext>,\n",
       "  'oct': <function oct(number, /)>,\n",
       "  'ord': <function ord(c, /)>,\n",
       "  'pow': <function pow(base, exp, mod=None)>,\n",
       "  'print': <function print(*args, sep=' ', end='\\n', file=None, flush=False)>,\n",
       "  'repr': <function repr(obj, /)>,\n",
       "  'round': <function round(number, ndigits=None)>,\n",
       "  'setattr': <function setattr(obj, name, value, /)>,\n",
       "  'sorted': <function sorted(iterable, /, *, key=None, reverse=False)>,\n",
       "  'sum': <function sum(iterable, /, start=0)>,\n",
       "  'vars': <function vars>,\n",
       "  'None': None,\n",
       "  'Ellipsis': Ellipsis,\n",
       "  'NotImplemented': NotImplemented,\n",
       "  'False': False,\n",
       "  'True': True,\n",
       "  'bool': bool,\n",
       "  'memoryview': memoryview,\n",
       "  'bytearray': bytearray,\n",
       "  'bytes': bytes,\n",
       "  'classmethod': classmethod,\n",
       "  'complex': complex,\n",
       "  'dict': dict,\n",
       "  'enumerate': enumerate,\n",
       "  'filter': filter,\n",
       "  'float': float,\n",
       "  'frozenset': frozenset,\n",
       "  'property': property,\n",
       "  'int': int,\n",
       "  'list': list,\n",
       "  'map': map,\n",
       "  'object': object,\n",
       "  'range': range,\n",
       "  'reversed': reversed,\n",
       "  'set': set,\n",
       "  'slice': slice,\n",
       "  'staticmethod': staticmethod,\n",
       "  'str': str,\n",
       "  'super': super,\n",
       "  'tuple': tuple,\n",
       "  'type': type,\n",
       "  'zip': zip,\n",
       "  '__debug__': True,\n",
       "  'BaseException': BaseException,\n",
       "  'BaseExceptionGroup': BaseExceptionGroup,\n",
       "  'Exception': Exception,\n",
       "  'GeneratorExit': GeneratorExit,\n",
       "  'KeyboardInterrupt': KeyboardInterrupt,\n",
       "  'SystemExit': SystemExit,\n",
       "  'ArithmeticError': ArithmeticError,\n",
       "  'AssertionError': AssertionError,\n",
       "  'AttributeError': AttributeError,\n",
       "  'BufferError': BufferError,\n",
       "  'EOFError': EOFError,\n",
       "  'ImportError': ImportError,\n",
       "  'LookupError': LookupError,\n",
       "  'MemoryError': MemoryError,\n",
       "  'NameError': NameError,\n",
       "  'OSError': OSError,\n",
       "  'ReferenceError': ReferenceError,\n",
       "  'RuntimeError': RuntimeError,\n",
       "  'StopAsyncIteration': StopAsyncIteration,\n",
       "  'StopIteration': StopIteration,\n",
       "  'SyntaxError': SyntaxError,\n",
       "  'SystemError': SystemError,\n",
       "  'TypeError': TypeError,\n",
       "  'ValueError': ValueError,\n",
       "  'Warning': Warning,\n",
       "  'FloatingPointError': FloatingPointError,\n",
       "  'OverflowError': OverflowError,\n",
       "  'ZeroDivisionError': ZeroDivisionError,\n",
       "  'BytesWarning': BytesWarning,\n",
       "  'DeprecationWarning': DeprecationWarning,\n",
       "  'EncodingWarning': EncodingWarning,\n",
       "  'FutureWarning': FutureWarning,\n",
       "  'ImportWarning': ImportWarning,\n",
       "  'PendingDeprecationWarning': PendingDeprecationWarning,\n",
       "  'ResourceWarning': ResourceWarning,\n",
       "  'RuntimeWarning': RuntimeWarning,\n",
       "  'SyntaxWarning': SyntaxWarning,\n",
       "  'UnicodeWarning': UnicodeWarning,\n",
       "  'UserWarning': UserWarning,\n",
       "  'BlockingIOError': BlockingIOError,\n",
       "  'ChildProcessError': ChildProcessError,\n",
       "  'ConnectionError': ConnectionError,\n",
       "  'FileExistsError': FileExistsError,\n",
       "  'FileNotFoundError': FileNotFoundError,\n",
       "  'InterruptedError': InterruptedError,\n",
       "  'IsADirectoryError': IsADirectoryError,\n",
       "  'NotADirectoryError': NotADirectoryError,\n",
       "  'PermissionError': PermissionError,\n",
       "  'ProcessLookupError': ProcessLookupError,\n",
       "  'TimeoutError': TimeoutError,\n",
       "  'IndentationError': IndentationError,\n",
       "  'IndexError': IndexError,\n",
       "  'KeyError': KeyError,\n",
       "  'ModuleNotFoundError': ModuleNotFoundError,\n",
       "  'NotImplementedError': NotImplementedError,\n",
       "  'RecursionError': RecursionError,\n",
       "  'UnboundLocalError': UnboundLocalError,\n",
       "  'UnicodeError': UnicodeError,\n",
       "  'BrokenPipeError': BrokenPipeError,\n",
       "  'ConnectionAbortedError': ConnectionAbortedError,\n",
       "  'ConnectionRefusedError': ConnectionRefusedError,\n",
       "  'ConnectionResetError': ConnectionResetError,\n",
       "  'TabError': TabError,\n",
       "  'UnicodeDecodeError': UnicodeDecodeError,\n",
       "  'UnicodeEncodeError': UnicodeEncodeError,\n",
       "  'UnicodeTranslateError': UnicodeTranslateError,\n",
       "  'ExceptionGroup': ExceptionGroup,\n",
       "  'EnvironmentError': OSError,\n",
       "  'IOError': OSError,\n",
       "  'WindowsError': OSError,\n",
       "  'open': <function _io.open(file, mode='r', buffering=-1, encoding=None, errors=None, newline=None, closefd=True, opener=None)>,\n",
       "  'copyright': Copyright (c) 2001-2023 Python Software Foundation.\n",
       "  All Rights Reserved.\n",
       "  \n",
       "  Copyright (c) 2000 BeOpen.com.\n",
       "  All Rights Reserved.\n",
       "  \n",
       "  Copyright (c) 1995-2001 Corporation for National Research Initiatives.\n",
       "  All Rights Reserved.\n",
       "  \n",
       "  Copyright (c) 1991-1995 Stichting Mathematisch Centrum, Amsterdam.\n",
       "  All Rights Reserved.,\n",
       "  'credits':     Thanks to CWI, CNRI, BeOpen.com, Zope Corporation and a cast of thousands\n",
       "      for supporting Python development.  See www.python.org for more information.,\n",
       "  'license': Type license() to see the full license text,\n",
       "  'help': Type help() for interactive help, or help(object) for help about object.,\n",
       "  'execfile': <function _pydev_bundle._pydev_execfile.execfile(file, glob=None, loc=None)>,\n",
       "  'runfile': <function _pydev_bundle.pydev_umd.runfile(filename, args=None, wdir=None, namespace=None)>,\n",
       "  '__IPYTHON__': True,\n",
       "  'display': <function IPython.core.display_functions.display(*objs, include=None, exclude=None, metadata=None, transient=None, display_id=None, raw=False, clear=False, **kwargs)>,\n",
       "  'get_ipython': <bound method InteractiveShell.get_ipython of <ipykernel.zmqshell.ZMQInteractiveShell object at 0x00000235DDE731A0>>},\n",
       " 'Decimal': decimal.Decimal,\n",
       " 'functools': <module 'functools' from 'c:\\\\Users\\\\ansor.taghoev\\\\AppData\\\\Local\\\\Programs\\\\Python\\\\Python312\\\\Lib\\\\functools.py'>,\n",
       " 'math': <module 'math' (built-in)>,\n",
       " 'numbers': <module 'numbers' from 'c:\\\\Users\\\\ansor.taghoev\\\\AppData\\\\Local\\\\Programs\\\\Python\\\\Python312\\\\Lib\\\\numbers.py'>,\n",
       " 'operator': <module 'operator' from 'c:\\\\Users\\\\ansor.taghoev\\\\AppData\\\\Local\\\\Programs\\\\Python\\\\Python312\\\\Lib\\\\operator.py'>,\n",
       " 're': <module 're' from 'c:\\\\Users\\\\ansor.taghoev\\\\AppData\\\\Local\\\\Programs\\\\Python\\\\Python312\\\\Lib\\\\re\\\\__init__.py'>,\n",
       " 'sys': <module 'sys' (built-in)>,\n",
       " '__all__': ['Fraction'],\n",
       " '_PyHASH_MODULUS': 2305843009213693951,\n",
       " '_PyHASH_INF': 314159,\n",
       " '_hash_algorithm': <functools._lru_cache_wrapper at 0x235db760e00>,\n",
       " '_RATIONAL_FORMAT': re.compile(r'\\n    \\A\\s*                                  # optional whitespace at the start,\\n    (?P<sign>[-+]?)                        # an optional sign, then\\n    (?=\\d|\\.\\d)                            # lookahead for digit or .digit\\n    (?P<num>\\d*|\\d+(_\\d+)*)                # numerator (possibly empty)\\n    (?:                                    # followed by\\n       (?:\\s*/\\s*(?P<denom>\\d+(_\\d+)*))?   # an optional denominator\\n    |                                      # or\\n       (?:\\.(?P<decimal>\\d*|\\d+(_\\d+)*))?  # an optional fractional part\\n       (?:E(?P<exp>[-+]?\\d+(_\\d+)*))?      # and optional exponent\\n    )\\n    \\s*\\Z                                  # and optional whitespace to finish\\n',\n",
       "            re.IGNORECASE|re.UNICODE|re.VERBOSE),\n",
       " '_round_to_exponent': <function fractions._round_to_exponent(n, d, exponent, no_neg_zero=False)>,\n",
       " '_round_to_figures': <function fractions._round_to_figures(n, d, figures)>,\n",
       " '_FLOAT_FORMAT_SPECIFICATION_MATCHER': <function Pattern.fullmatch(string, pos=0, endpos=9223372036854775807)>,\n",
       " 'Fraction': fractions.Fraction}"
      ]
     },
     "execution_count": 28,
     "metadata": {},
     "output_type": "execute_result"
    }
   ],
   "source": [
    "fractions.__dict__"
   ]
  },
  {
   "cell_type": "code",
   "execution_count": 29,
   "metadata": {},
   "outputs": [],
   "source": [
    "import calendar"
   ]
  },
  {
   "cell_type": "code",
   "execution_count": 30,
   "metadata": {},
   "outputs": [
    {
     "data": {
      "text/plain": [
       "<module 'calendar' from 'c:\\\\Users\\\\ansor.taghoev\\\\AppData\\\\Local\\\\Programs\\\\Python\\\\Python312\\\\Lib\\\\calendar.py'>"
      ]
     },
     "execution_count": 30,
     "metadata": {},
     "output_type": "execute_result"
    }
   ],
   "source": [
    "calendar"
   ]
  },
  {
   "cell_type": "code",
   "execution_count": 31,
   "metadata": {},
   "outputs": [],
   "source": [
    "import types"
   ]
  },
  {
   "cell_type": "code",
   "execution_count": 32,
   "metadata": {},
   "outputs": [
    {
     "data": {
      "text/plain": [
       "True"
      ]
     },
     "execution_count": 32,
     "metadata": {},
     "output_type": "execute_result"
    }
   ],
   "source": [
    "isinstance(fractions, types.ModuleType)"
   ]
  },
  {
   "cell_type": "code",
   "execution_count": 33,
   "metadata": {},
   "outputs": [
    {
     "data": {
      "text/plain": [
       "True"
      ]
     },
     "execution_count": 33,
     "metadata": {},
     "output_type": "execute_result"
    }
   ],
   "source": [
    "isinstance(math, types.ModuleType)"
   ]
  },
  {
   "cell_type": "code",
   "execution_count": 34,
   "metadata": {},
   "outputs": [],
   "source": [
    "mod = types.ModuleType('test', 'This is a test module')"
   ]
  },
  {
   "cell_type": "code",
   "execution_count": 36,
   "metadata": {},
   "outputs": [
    {
     "data": {
      "text/plain": [
       "True"
      ]
     },
     "execution_count": 36,
     "metadata": {},
     "output_type": "execute_result"
    }
   ],
   "source": [
    "from types import ModuleType\n",
    "\n",
    "isinstance(mod, ModuleType)"
   ]
  },
  {
   "cell_type": "code",
   "execution_count": 37,
   "metadata": {},
   "outputs": [
    {
     "data": {
      "text/plain": [
       "{'__name__': 'test',\n",
       " '__doc__': 'This is a test module',\n",
       " '__package__': None,\n",
       " '__loader__': None,\n",
       " '__spec__': None}"
      ]
     },
     "execution_count": 37,
     "metadata": {},
     "output_type": "execute_result"
    }
   ],
   "source": [
    "mod.__dict__"
   ]
  },
  {
   "cell_type": "code",
   "execution_count": 38,
   "metadata": {},
   "outputs": [],
   "source": [
    "mod.pi = 3.14"
   ]
  },
  {
   "cell_type": "code",
   "execution_count": 39,
   "metadata": {},
   "outputs": [
    {
     "data": {
      "text/plain": [
       "{'__name__': 'test',\n",
       " '__doc__': 'This is a test module',\n",
       " '__package__': None,\n",
       " '__loader__': None,\n",
       " '__spec__': None,\n",
       " 'pi': 3.14}"
      ]
     },
     "execution_count": 39,
     "metadata": {},
     "output_type": "execute_result"
    }
   ],
   "source": [
    "mod.__dict__"
   ]
  },
  {
   "cell_type": "code",
   "execution_count": 41,
   "metadata": {},
   "outputs": [],
   "source": [
    "mod.hello = lambda: 'Hello'"
   ]
  },
  {
   "cell_type": "code",
   "execution_count": 42,
   "metadata": {},
   "outputs": [
    {
     "data": {
      "text/plain": [
       "'Hello'"
      ]
     },
     "execution_count": 42,
     "metadata": {},
     "output_type": "execute_result"
    }
   ],
   "source": [
    "mod.hello()"
   ]
  },
  {
   "cell_type": "code",
   "execution_count": 47,
   "metadata": {},
   "outputs": [],
   "source": [
    "hello = mod.hello"
   ]
  },
  {
   "cell_type": "code",
   "execution_count": 48,
   "metadata": {},
   "outputs": [
    {
     "data": {
      "text/plain": [
       "True"
      ]
     },
     "execution_count": 48,
     "metadata": {},
     "output_type": "execute_result"
    }
   ],
   "source": [
    "'hello' in globals()"
   ]
  },
  {
   "cell_type": "code",
   "execution_count": 49,
   "metadata": {},
   "outputs": [
    {
     "data": {
      "text/plain": [
       "True"
      ]
     },
     "execution_count": 49,
     "metadata": {},
     "output_type": "execute_result"
    }
   ],
   "source": [
    "'mod' in globals()"
   ]
  },
  {
   "cell_type": "code",
   "execution_count": 50,
   "metadata": {},
   "outputs": [
    {
     "data": {
      "text/plain": [
       "'Hello'"
      ]
     },
     "execution_count": 50,
     "metadata": {},
     "output_type": "execute_result"
    }
   ],
   "source": [
    "hello()"
   ]
  },
  {
   "cell_type": "code",
   "execution_count": 54,
   "metadata": {},
   "outputs": [],
   "source": [
    "from collections import namedtuple"
   ]
  },
  {
   "cell_type": "code",
   "execution_count": 55,
   "metadata": {},
   "outputs": [],
   "source": [
    "mod.Point = namedtuple('Point', 'x y')"
   ]
  },
  {
   "cell_type": "code",
   "execution_count": 56,
   "metadata": {},
   "outputs": [],
   "source": [
    "p1 = mod.Point(0, 0)\n",
    "p2 = mod.Point(1, 1)"
   ]
  },
  {
   "cell_type": "code",
   "execution_count": 57,
   "metadata": {},
   "outputs": [
    {
     "data": {
      "text/plain": [
       "Point(x=0, y=0)"
      ]
     },
     "execution_count": 57,
     "metadata": {},
     "output_type": "execute_result"
    }
   ],
   "source": [
    "p1"
   ]
  },
  {
   "cell_type": "code",
   "execution_count": 58,
   "metadata": {},
   "outputs": [
    {
     "data": {
      "text/plain": [
       "['Point',\n",
       " '__doc__',\n",
       " '__loader__',\n",
       " '__name__',\n",
       " '__package__',\n",
       " '__spec__',\n",
       " 'hello',\n",
       " 'pi']"
      ]
     },
     "execution_count": 58,
     "metadata": {},
     "output_type": "execute_result"
    }
   ],
   "source": [
    "dir(mod)"
   ]
  },
  {
   "cell_type": "code",
   "execution_count": 59,
   "metadata": {},
   "outputs": [],
   "source": [
    "PT = getattr(mod, 'Point')"
   ]
  },
  {
   "cell_type": "code",
   "execution_count": 60,
   "metadata": {},
   "outputs": [
    {
     "data": {
      "text/plain": [
       "Point(x=20, y=20)"
      ]
     },
     "execution_count": 60,
     "metadata": {},
     "output_type": "execute_result"
    }
   ],
   "source": [
    "PT(20, 20)"
   ]
  },
  {
   "cell_type": "code",
   "execution_count": 61,
   "metadata": {},
   "outputs": [
    {
     "data": {
      "text/plain": [
       "__main__.Point"
      ]
     },
     "execution_count": 61,
     "metadata": {},
     "output_type": "execute_result"
    }
   ],
   "source": [
    "mod.Point"
   ]
  },
  {
   "cell_type": "code",
   "execution_count": 62,
   "metadata": {},
   "outputs": [],
   "source": [
    "PT = mod.__dict__['Point']"
   ]
  },
  {
   "cell_type": "code",
   "execution_count": 63,
   "metadata": {},
   "outputs": [
    {
     "data": {
      "text/plain": [
       "Point(x=20, y=20)"
      ]
     },
     "execution_count": 63,
     "metadata": {},
     "output_type": "execute_result"
    }
   ],
   "source": [
    "PT(20, 20)"
   ]
  },
  {
   "cell_type": "code",
   "execution_count": null,
   "metadata": {},
   "outputs": [],
   "source": []
  }
 ],
 "metadata": {
  "kernelspec": {
   "display_name": "Python 3",
   "language": "python",
   "name": "python3"
  },
  "language_info": {
   "codemirror_mode": {
    "name": "ipython",
    "version": 3
   },
   "file_extension": ".py",
   "mimetype": "text/x-python",
   "name": "python",
   "nbconvert_exporter": "python",
   "pygments_lexer": "ipython3",
   "version": "3.12.4"
  }
 },
 "nbformat": 4,
 "nbformat_minor": 2
}
