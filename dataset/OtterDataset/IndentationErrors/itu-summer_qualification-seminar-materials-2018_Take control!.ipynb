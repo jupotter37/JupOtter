{
 "cells": [
  {
   "cell_type": "markdown",
   "metadata": {
    "slideshow": {
     "slide_type": "slide"
    }
   },
   "source": [
    "# The journey so far\n",
    "\n",
    "* What is a computer?\n",
    "* Data input\n",
    "* Data output\n",
    "* Data processing with operators\n",
    "* Data types\n",
    "* Working with text"
   ]
  },
  {
   "cell_type": "markdown",
   "metadata": {
    "slideshow": {
     "slide_type": "slide"
    }
   },
   "source": [
    "# Take control!\n",
    "\n",
    "Computers are, in fact, incredibly stupid. They are completely incapable of taking any kind of decisions. Luckily, you are here to guide it.\n",
    "\n",
    "In this notebook you'll learn a bit more about what a computer actually is and how we can use it to our advantage. Finally you'll extend your cookie dough program to become a little smarter..."
   ]
  },
  {
   "cell_type": "markdown",
   "metadata": {
    "slideshow": {
     "slide_type": "subslide"
    }
   },
   "source": [
    "## Machines!\n",
    "\n",
    "<img style=\"float:right\" src=\"https://upload.wikimedia.org/wikipedia/en/9/94/T-800_%28Model_101%29.png\"/>\n",
    "\n",
    "Machines can't really take any kinds of decision by themselves. The idea of computers as evil machines, is far from reality.\n",
    "\n",
    "A better picture of a computer is like a maze. When we tell it to, it will start to execute a program (the maze) and then it starts taking a number of decisions. Some of the decisions work out well, and some of them don't.\n",
    "\n",
    "<img style=\"float:left\" src=\"https://upload.wikimedia.org/wikipedia/commons/8/88/Maze_simple.svg\"/>"
   ]
  },
  {
   "cell_type": "markdown",
   "metadata": {
    "slideshow": {
     "slide_type": "subslide"
    }
   },
   "source": [
    "## On or off\n",
    "\n",
    "You might have heard that computers are based on the binary number system. They can only cope with two extremes: on or off. In the analogy of our maze: left or right. \n",
    "\n",
    "That switch is called a 'bit'. It is the most fundamental building block of a computer."
   ]
  },
  {
   "cell_type": "markdown",
   "metadata": {
    "slideshow": {
     "slide_type": "subslide"
    }
   },
   "source": [
    "So far you have met `int` and `str` types. Now meet your third data type: the **boolean**. Booleans can only be on or off, nothing else. In Python on is called `True` and off is called `False`. \n",
    "\n",
    "**Booleans** can help us with many things. They can answer questions like: \"*is this true*\"? Or \"*is this false*\"? \n",
    "\n",
    "A typical question to ask is whether a number is *bigger* or smaller than another number."
   ]
  },
  {
   "cell_type": "markdown",
   "metadata": {
    "slideshow": {
     "slide_type": "fragment"
    }
   },
   "source": [
    "In python we can write this with `>`. So to test whether 7 is bigger than 6, write `7 > 6` below:"
   ]
  },
  {
   "cell_type": "code",
   "execution_count": null,
   "metadata": {
    "slideshow": {
     "slide_type": "fragment"
    }
   },
   "outputs": [],
   "source": [
    "7 > 6"
   ]
  },
  {
   "cell_type": "markdown",
   "metadata": {
    "slideshow": {
     "slide_type": "subslide"
    }
   },
   "source": [
    "That was `True`! Of course. Which of these things are `True`, and which of them are `False`?"
   ]
  },
  {
   "cell_type": "code",
   "execution_count": 1,
   "metadata": {
    "slideshow": {
     "slide_type": "fragment"
    }
   },
   "outputs": [
    {
     "data": {
      "text/plain": [
       "False"
      ]
     },
     "execution_count": 1,
     "metadata": {},
     "output_type": "execute_result"
    }
   ],
   "source": [
    "7 > 8"
   ]
  },
  {
   "cell_type": "code",
   "execution_count": 2,
   "metadata": {
    "slideshow": {
     "slide_type": "fragment"
    }
   },
   "outputs": [
    {
     "data": {
      "text/plain": [
       "False"
      ]
     },
     "execution_count": 2,
     "metadata": {},
     "output_type": "execute_result"
    }
   ],
   "source": [
    "0 > 0"
   ]
  },
  {
   "cell_type": "code",
   "execution_count": 3,
   "metadata": {
    "slideshow": {
     "slide_type": "fragment"
    }
   },
   "outputs": [
    {
     "data": {
      "text/plain": [
       "True"
      ]
     },
     "execution_count": 3,
     "metadata": {},
     "output_type": "execute_result"
    }
   ],
   "source": [
    "2 < 3"
   ]
  },
  {
   "cell_type": "code",
   "execution_count": 4,
   "metadata": {
    "slideshow": {
     "slide_type": "fragment"
    }
   },
   "outputs": [
    {
     "data": {
      "text/plain": [
       "False"
      ]
     },
     "execution_count": 4,
     "metadata": {},
     "output_type": "execute_result"
    }
   ],
   "source": [
    "-1 > 100"
   ]
  },
  {
   "cell_type": "markdown",
   "metadata": {
    "slideshow": {
     "slide_type": "subslide"
    }
   },
   "source": [
    "## Decisions, decisions\n",
    "\n",
    "Booleans can help us to take decisions, because we can learn whether they are `True` or `False`. Think about the maze: a good binary question to ask would be \"is this a dead end\"?\n",
    "\n",
    "A computer will blindly follow your instructions. At all times. And you have one tool to help it decide: **boolean**s. "
   ]
  },
  {
   "cell_type": "markdown",
   "metadata": {
    "slideshow": {
     "slide_type": "fragment"
    }
   },
   "source": [
    "In english you can write such a decision like so: \"if left is a dead end then go right, otherwise go left\". Where \"left is a dead end\" can be either `True` or `False`.\n",
    "\n",
    "With better formatting it looks like this:\n",
    "\n",
    "    if \"left is a dead end\":\n",
    "        'Go right'\n",
    "    else:\n",
    "        'Go left'"
   ]
  },
  {
   "cell_type": "markdown",
   "metadata": {
    "slideshow": {
     "slide_type": "subslide"
    }
   },
   "source": [
    "Python has been clever and mimiced the english language. You can write such a decision like so:\n",
    "\n",
    "    if is_dead_end:\n",
    "        'Go right'\n",
    "    else:\n",
    "        'Go left'"
   ]
  },
  {
   "cell_type": "markdown",
   "metadata": {
    "slideshow": {
     "slide_type": "fragment"
    }
   },
   "source": [
    "Notice that we introduced the variable `is_dead_end`. In the following code the variable is replaced with an actual boolean value. Can you see why that code doesn't make sense?"
   ]
  },
  {
   "cell_type": "code",
   "execution_count": null,
   "metadata": {
    "collapsed": true,
    "slideshow": {
     "slide_type": "fragment"
    }
   },
   "outputs": [],
   "source": [
    "if True:\n",
    "    print('Go right')\n",
    "else:  \n",
    "    print('Go left')"
   ]
  },
  {
   "cell_type": "markdown",
   "metadata": {
    "slideshow": {
     "slide_type": "subslide"
    }
   },
   "source": [
    "Congratulations! You just built a brain-damaged robot: it will never ever ever turn left. Why? Because `True` is always `True`. It will never get to the `else` clause and go left. The magic in the decisions arrive from the fact that we **don't** know whether our condition is `True` or `False`. That's why we need a variable. \n",
    "\n",
    "The following code prints `'Moment of Truth!'`. Can you make it print `'Let it Shine'`?"
   ]
  },
  {
   "cell_type": "code",
   "execution_count": 8,
   "metadata": {
    "slideshow": {
     "slide_type": "fragment"
    }
   },
   "outputs": [
    {
     "name": "stdout",
     "output_type": "stream",
     "text": [
      "Let it Shine\n"
     ]
    }
   ],
   "source": [
    "moment_of_truth = False\n",
    "\n",
    "if moment_of_truth:\n",
    "    print('Moment of Truth!')\n",
    "else:\n",
    "    print('Let it Shine')"
   ]
  },
  {
   "cell_type": "markdown",
   "metadata": {
    "slideshow": {
     "slide_type": "slide"
    }
   },
   "source": [
    "# Invisible strings\n",
    "\n",
    "Notice that the `print` statements inside the `if` statement is indented: it is not on the same vertical line as the `if` and `else` words. Because the `print`s in a sense are following the outer expressions (`if` and `else`), they are said to be **nested**. Python is really strict about this. Let's see what happens if we forget it:"
   ]
  },
  {
   "cell_type": "code",
   "execution_count": 9,
   "metadata": {
    "slideshow": {
     "slide_type": "fragment"
    }
   },
   "outputs": [
    {
     "ename": "IndentationError",
     "evalue": "expected an indented block (<ipython-input-9-6a82ec8ffd06>, line 2)",
     "output_type": "error",
     "traceback": [
      "\u001b[0;36m  File \u001b[0;32m\"<ipython-input-9-6a82ec8ffd06>\"\u001b[0;36m, line \u001b[0;32m2\u001b[0m\n\u001b[0;31m    print('Moment of Truth!')\u001b[0m\n\u001b[0m        ^\u001b[0m\n\u001b[0;31mIndentationError\u001b[0m\u001b[0;31m:\u001b[0m expected an indented block\n"
     ]
    }
   ],
   "source": [
    "if moment_of_truth:\n",
    "print('Moment of Truth!')"
   ]
  },
  {
   "cell_type": "markdown",
   "metadata": {
    "slideshow": {
     "slide_type": "subslide"
    }
   },
   "source": [
    "Crash! This is totally on purpose. Why? Because it is much more readable. Consider these two options:"
   ]
  },
  {
   "cell_type": "code",
   "execution_count": null,
   "metadata": {
    "collapsed": true,
    "slideshow": {
     "slide_type": "fragment"
    }
   },
   "outputs": [],
   "source": [
    "if moment_of_truth: \n",
    "print('Moment of Truth!')\n",
    "else:\n",
    "print('Let it Shine')"
   ]
  },
  {
   "cell_type": "code",
   "execution_count": null,
   "metadata": {
    "collapsed": true,
    "slideshow": {
     "slide_type": "fragment"
    }
   },
   "outputs": [],
   "source": [
    "if moment_of_truth:\n",
    "    print('Moment of Truth!')\n",
    "else:\n",
    "    print('Let it Shine')"
   ]
  },
  {
   "cell_type": "markdown",
   "metadata": {
    "slideshow": {
     "slide_type": "subslide"
    }
   },
   "source": [
    "I hope you'll agree that intendation is a good thing. The second option is much clearer.\n",
    "\n",
    "What actually happens behind the scene is that Python _insists_ that you prepend your `print` statement with 4 spaces. In a Python string, that would look like this:"
   ]
  },
  {
   "cell_type": "code",
   "execution_count": null,
   "metadata": {
    "slideshow": {
     "slide_type": "fragment"
    }
   },
   "outputs": [],
   "source": [
    "'    '"
   ]
  },
  {
   "cell_type": "markdown",
   "metadata": {
    "slideshow": {
     "slide_type": "subslide"
    }
   },
   "source": [
    "And space (' ') is actually a character just like 'a' is a character. And you can make a string of spaces, just like you can make a string of 'a's. So we can work with it like we did before.\n",
    "Before you execute the code below, try to explain it and fully understand what you expect it to do:"
   ]
  },
  {
   "cell_type": "code",
   "execution_count": 12,
   "metadata": {
    "slideshow": {
     "slide_type": "fragment"
    }
   },
   "outputs": [
    {
     "name": "stdout",
     "output_type": "stream",
     "text": [
      "Space between us: Helge\n"
     ]
    },
    {
     "ename": "ValueError",
     "evalue": "invalid literal for int() with base 10: 'Helge'",
     "output_type": "error",
     "traceback": [
      "\u001b[0;31m---------------------------------------------------------------------------\u001b[0m",
      "\u001b[0;31mValueError\u001b[0m                                Traceback (most recent call last)",
      "\u001b[0;32m<ipython-input-12-cf6254ee3678>\u001b[0m in \u001b[0;36m<module>\u001b[0;34m()\u001b[0m\n\u001b[1;32m      1\u001b[0m \u001b[0mspace\u001b[0m \u001b[0;34m=\u001b[0m \u001b[0minput\u001b[0m\u001b[0;34m(\u001b[0m\u001b[0;34m'Space between us: '\u001b[0m\u001b[0;34m)\u001b[0m\u001b[0;34m\u001b[0m\u001b[0m\n\u001b[0;32m----> 2\u001b[0;31m \u001b[0mspaces\u001b[0m \u001b[0;34m=\u001b[0m \u001b[0;34m' '\u001b[0m \u001b[0;34m*\u001b[0m \u001b[0mint\u001b[0m\u001b[0;34m(\u001b[0m\u001b[0mspace\u001b[0m\u001b[0;34m)\u001b[0m\u001b[0;34m\u001b[0m\u001b[0m\n\u001b[0m\u001b[1;32m      3\u001b[0m \u001b[0mprint\u001b[0m\u001b[0;34m(\u001b[0m\u001b[0;34m'We are '\u001b[0m \u001b[0;34m+\u001b[0m \u001b[0mspaces\u001b[0m \u001b[0;34m+\u001b[0m \u001b[0;34m' apart'\u001b[0m\u001b[0;34m)\u001b[0m\u001b[0;34m\u001b[0m\u001b[0m\n",
      "\u001b[0;31mValueError\u001b[0m: invalid literal for int() with base 10: 'Helge'"
     ]
    }
   ],
   "source": [
    "space = input('Space between us: ')\n",
    "spaces = ' ' * int(space)\n",
    "print('We are ' + spaces + ' apart')"
   ]
  },
  {
   "cell_type": "markdown",
   "metadata": {
    "slideshow": {
     "slide_type": "subslide"
    }
   },
   "source": [
    "## Magic (and invisible) strings\n",
    "\n",
    "Spaces are not the only invisible character. Can you guess what this character does?"
   ]
  },
  {
   "cell_type": "code",
   "execution_count": 13,
   "metadata": {
    "slideshow": {
     "slide_type": "fragment"
    }
   },
   "outputs": [
    {
     "name": "stdout",
     "output_type": "stream",
     "text": [
      "Python, \t give me a break!\n"
     ]
    }
   ],
   "source": [
    "print('Python, \\t give me a break!')"
   ]
  },
  {
   "cell_type": "markdown",
   "metadata": {
    "slideshow": {
     "slide_type": "fragment"
    }
   },
   "source": [
    "If you didn't guess it already the `'\\t'` stands for \"tab\". It simply inserts a lot more whitespace. Try to modify the program below to use `'\\t'` instead of a space."
   ]
  },
  {
   "cell_type": "code",
   "execution_count": 15,
   "metadata": {},
   "outputs": [
    {
     "name": "stdout",
     "output_type": "stream",
     "text": [
      "Space between us: 2\n",
      "We are \n",
      "\n",
      " apart\n"
     ]
    }
   ],
   "source": [
    "space = input('Space between us: ')\n",
    "print('We are ' + '\\n' * int(space) + ' apart')"
   ]
  },
  {
   "cell_type": "markdown",
   "metadata": {
    "slideshow": {
     "slide_type": "slide"
    }
   },
   "source": [
    "## String sameness\n",
    "\n",
    "So far we have seen how to test for boolean conditions with numbers. For instance: is 7 `>` 6? We can also do this with text strings. But there is a difference.\n",
    "\n",
    "Numbers are ordered, so 7 really **is** bigger than 6. But strings aren't. You cannot ask whether 'FCK' is bigger than 'Brøndby'. At least in Python. What you can do though is to ask whether strings are the same. Python writes that with two equal symbols: `==`. Try to run the following code:"
   ]
  },
  {
   "cell_type": "code",
   "execution_count": 16,
   "metadata": {
    "slideshow": {
     "slide_type": "fragment"
    }
   },
   "outputs": [
    {
     "data": {
      "text/plain": [
       "True"
      ]
     },
     "execution_count": 16,
     "metadata": {},
     "output_type": "execute_result"
    }
   ],
   "source": [
    "'a' == 'a'"
   ]
  },
  {
   "cell_type": "code",
   "execution_count": 17,
   "metadata": {
    "slideshow": {
     "slide_type": "fragment"
    }
   },
   "outputs": [
    {
     "data": {
      "text/plain": [
       "False"
      ]
     },
     "execution_count": 17,
     "metadata": {},
     "output_type": "execute_result"
    }
   ],
   "source": [
    "'a' == 'b'"
   ]
  },
  {
   "cell_type": "code",
   "execution_count": 18,
   "metadata": {
    "slideshow": {
     "slide_type": "fragment"
    }
   },
   "outputs": [
    {
     "data": {
      "text/plain": [
       "False"
      ]
     },
     "execution_count": 18,
     "metadata": {},
     "output_type": "execute_result"
    }
   ],
   "source": [
    "'hullu bullu, lotte hvor er du henne?' == 'hullu bullu lotte hvor er du henne?'"
   ]
  },
  {
   "cell_type": "markdown",
   "metadata": {
    "slideshow": {
     "slide_type": "subslide"
    }
   },
   "source": [
    "Which one of these statements are `True`? Try to guess the solution before you execute the code."
   ]
  },
  {
   "cell_type": "code",
   "execution_count": null,
   "metadata": {
    "collapsed": true,
    "slideshow": {
     "slide_type": "fragment"
    }
   },
   "outputs": [],
   "source": [
    "'FCK' == 'AGF'"
   ]
  },
  {
   "cell_type": "code",
   "execution_count": 19,
   "metadata": {
    "slideshow": {
     "slide_type": "fragment"
    }
   },
   "outputs": [
    {
     "data": {
      "text/plain": [
       "False"
      ]
     },
     "execution_count": 19,
     "metadata": {},
     "output_type": "execute_result"
    }
   ],
   "source": [
    "'FCK' == 'fck'"
   ]
  },
  {
   "cell_type": "code",
   "execution_count": 20,
   "metadata": {
    "slideshow": {
     "slide_type": "fragment"
    }
   },
   "outputs": [
    {
     "data": {
      "text/plain": [
       "False"
      ]
     },
     "execution_count": 20,
     "metadata": {},
     "output_type": "execute_result"
    }
   ],
   "source": [
    "'0' == 'O'"
   ]
  },
  {
   "cell_type": "code",
   "execution_count": 21,
   "metadata": {
    "slideshow": {
     "slide_type": "fragment"
    }
   },
   "outputs": [
    {
     "data": {
      "text/plain": [
       "False"
      ]
     },
     "execution_count": 21,
     "metadata": {},
     "output_type": "execute_result"
    }
   ],
   "source": [
    "'One1' == '1One'"
   ]
  },
  {
   "cell_type": "code",
   "execution_count": 22,
   "metadata": {
    "slideshow": {
     "slide_type": "fragment"
    }
   },
   "outputs": [
    {
     "data": {
      "text/plain": [
       "False"
      ]
     },
     "execution_count": 22,
     "metadata": {},
     "output_type": "execute_result"
    }
   ],
   "source": [
    "'123' == '123.0'"
   ]
  },
  {
   "cell_type": "code",
   "execution_count": 23,
   "metadata": {
    "slideshow": {
     "slide_type": "subslide"
    }
   },
   "outputs": [
    {
     "data": {
      "text/plain": [
       "False"
      ]
     },
     "execution_count": 23,
     "metadata": {},
     "output_type": "execute_result"
    }
   ],
   "source": [
    "123 == '123'"
   ]
  },
  {
   "cell_type": "code",
   "execution_count": 24,
   "metadata": {
    "slideshow": {
     "slide_type": "fragment"
    }
   },
   "outputs": [
    {
     "data": {
      "text/plain": [
       "True"
      ]
     },
     "execution_count": 24,
     "metadata": {},
     "output_type": "execute_result"
    }
   ],
   "source": [
    "2 * 3 is 6"
   ]
  },
  {
   "cell_type": "code",
   "execution_count": 30,
   "metadata": {
    "slideshow": {
     "slide_type": "fragment"
    }
   },
   "outputs": [
    {
     "data": {
      "text/plain": [
       "'wowowowo'"
      ]
     },
     "execution_count": 30,
     "metadata": {},
     "output_type": "execute_result"
    }
   ],
   "source": [
    "('w' + 'o') * 4"
   ]
  },
  {
   "cell_type": "code",
   "execution_count": 27,
   "metadata": {
    "slideshow": {
     "slide_type": "fragment"
    }
   },
   "outputs": [
    {
     "data": {
      "text/plain": [
       "True"
      ]
     },
     "execution_count": 27,
     "metadata": {},
     "output_type": "execute_result"
    }
   ],
   "source": [
    "'bob the builder' * 0 == ''"
   ]
  },
  {
   "cell_type": "markdown",
   "metadata": {
    "slideshow": {
     "slide_type": "subslide"
    }
   },
   "source": [
    "## The Moment of Truth\n",
    "\n",
    "Not that you know about decisions and booleans it's time to use your newfound powers. Can you make this program print 'Cyrus DeBarge'?"
   ]
  },
  {
   "cell_type": "code",
   "execution_count": 59,
   "metadata": {
    "slideshow": {
     "slide_type": "fragment"
    }
   },
   "outputs": [
    {
     "name": "stdout",
     "output_type": "stream",
     "text": [
      "Write the secret password: Tyler\n",
      "Cyrus DeBarge\n"
     ]
    }
   ],
   "source": [
    "name = input('Write the secret password: ')\n",
    "if name == \"Tyler\":\n",
    "    print('Cyrus DeBarge')\n",
    "else:\n",
    "    print('Wrong!')"
   ]
  },
  {
   "cell_type": "markdown",
   "metadata": {
    "slideshow": {
     "slide_type": "fragment"
    }
   },
   "source": [
    "Congratulations! You just wrote your first password checker. Although you need to work on your password complexity..."
   ]
  },
  {
   "cell_type": "markdown",
   "metadata": {
    "slideshow": {
     "slide_type": "subslide"
    }
   },
   "source": [
    "## You don't love cookie dough enough!\n",
    "\n",
    "Your previous cookie dough program probably looked something like this:\n",
    "\n",
    "    data = input('How much do you like cookie dough?')\n",
    "    data = int(data)\n",
    "    print('You ' + 'really ' * data + 'like cookie dough')\n",
    "\n",
    "But, what happens if you give the program a number that is 0 or less? Try it out for yourself."
   ]
  },
  {
   "cell_type": "markdown",
   "metadata": {
    "slideshow": {
     "slide_type": "fragment"
    }
   },
   "source": [
    "In that program it's possible to output `'You like cookie dough'` if `0` is given as input (`0 * 'really' == ''). I think you'll agree that we need at least one `'really'` in there.\n",
    "\n",
    "Let's fix this. Your job is to tell off people that are putting in numbers that are less than 1. If they do so, you should print out the string `'You don't like cookie dough enough!'`. If the number is above 0, you should print out the same statement as before.\n",
    "\n",
    "Hint: Use the `if` notation from above."
   ]
  }
 ],
 "metadata": {
  "celltoolbar": "Slideshow",
  "kernelspec": {
   "display_name": "Python 3",
   "language": "python",
   "name": "python3"
  },
  "language_info": {
   "codemirror_mode": {
    "name": "ipython",
    "version": 3
   },
   "file_extension": ".py",
   "mimetype": "text/x-python",
   "name": "python",
   "nbconvert_exporter": "python",
   "pygments_lexer": "ipython3",
   "version": "3.6.4"
  }
 },
 "nbformat": 4,
 "nbformat_minor": 2
}
