{
 "cells": [
  {
   "cell_type": "markdown",
   "metadata": {
    "slideshow": {
     "slide_type": "-"
    }
   },
   "source": [
    "# Python 101"
   ]
  },
  {
   "cell_type": "markdown",
   "metadata": {
    "slideshow": {
     "slide_type": "-"
    }
   },
   "source": [
    "**TLDR** - один из лучших языков программирования.  \n",
    "И что в нем особенного?"
   ]
  },
  {
   "cell_type": "markdown",
   "metadata": {},
   "source": [
    "## Особенности\n",
    "### Интерпретрируемый язык"
   ]
  },
  {
   "cell_type": "markdown",
   "metadata": {},
   "source": [
    "Создадим Hello World"
   ]
  },
  {
   "cell_type": "code",
   "execution_count": 1,
   "metadata": {},
   "outputs": [],
   "source": [
    "!echo \"a = 1; print('Hello world, and the number is %d' % a)\" > interpreted.py"
   ]
  },
  {
   "cell_type": "code",
   "execution_count": 2,
   "metadata": {},
   "outputs": [
    {
     "name": "stdout",
     "output_type": "stream",
     "text": [
      "Hello world, and the number is 1\r\n"
     ]
    }
   ],
   "source": [
    "!python interpreted.py"
   ]
  },
  {
   "cell_type": "markdown",
   "metadata": {},
   "source": [
    "Как видим, ничего компилировать не пришлось.  \n",
    "Что осталось на выходе?"
   ]
  },
  {
   "cell_type": "code",
   "execution_count": 80,
   "metadata": {},
   "outputs": [],
   "source": [
    "!ls -al | grep *.py*"
   ]
  },
  {
   "cell_type": "code",
   "execution_count": 82,
   "metadata": {},
   "outputs": [
    {
     "name": "stdout",
     "output_type": "stream",
     "text": [
      "  2           0 LOAD_GLOBAL              0 (print)\n",
      "              2 LOAD_CONST               1 ('Hello friends!')\n",
      "              4 CALL_FUNCTION            1\n",
      "              6 POP_TOP\n",
      "              8 LOAD_CONST               0 (None)\n",
      "             10 RETURN_VALUE\n"
     ]
    }
   ],
   "source": [
    "def hello_world():\n",
    "    print(\"Hello friends!\")\n",
    "\n",
    "import dis\n",
    "dis.dis(hello_world)"
   ]
  },
  {
   "cell_type": "markdown",
   "metadata": {},
   "source": [
    "У нас не остается никаких бинарных исполняемых файлов"
   ]
  },
  {
   "cell_type": "markdown",
   "metadata": {},
   "source": [
    "### Кроссплатформенность"
   ]
  },
  {
   "cell_type": "markdown",
   "metadata": {},
   "source": [
    "Python - кроссплатформенный (если есть интерпретатор для вашей платформы)"
   ]
  },
  {
   "cell_type": "markdown",
   "metadata": {},
   "source": [
    "![platforms](images/platforms.png)"
   ]
  },
  {
   "cell_type": "markdown",
   "metadata": {},
   "source": [
    "###  Динамическая типизация"
   ]
  },
  {
   "cell_type": "code",
   "execution_count": 4,
   "metadata": {},
   "outputs": [
    {
     "name": "stdout",
     "output_type": "stream",
     "text": [
      "<class 'int'>\n"
     ]
    }
   ],
   "source": [
    "variable_a = 1\n",
    "print(type(variable_a))"
   ]
  },
  {
   "cell_type": "code",
   "execution_count": 5,
   "metadata": {},
   "outputs": [
    {
     "name": "stdout",
     "output_type": "stream",
     "text": [
      "<class 'str'>\n"
     ]
    }
   ],
   "source": [
    "variable_a = \"123\"\n",
    "print(type(variable_a))"
   ]
  },
  {
   "cell_type": "markdown",
   "metadata": {},
   "source": [
    "### Язык с удобным синтаксисом"
   ]
  },
  {
   "cell_type": "markdown",
   "metadata": {},
   "source": [
    "**Java** (без модных API) - https://pastebin.com/Rk3L67eU"
   ]
  },
  {
   "cell_type": "markdown",
   "metadata": {},
   "source": [
    "![java](images/java.png)"
   ]
  },
  {
   "cell_type": "markdown",
   "metadata": {},
   "source": [
    "**Python-версия**"
   ]
  },
  {
   "cell_type": "code",
   "execution_count": 6,
   "metadata": {},
   "outputs": [
    {
     "name": "stdout",
     "output_type": "stream",
     "text": [
      "REPREPREP\n"
     ]
    }
   ],
   "source": [
    "def repeat_string(data, times=7):\n",
    "    if data and times > 0:\n",
    "        print(data*times)\n",
    "    else:\n",
    "        print(\"Incorrect data\")\n",
    "\n",
    "repeat_string('REP', 3)"
   ]
  },
  {
   "cell_type": "markdown",
   "metadata": {},
   "source": [
    "**Вопрос** - при каком случае сломается этот код?"
   ]
  },
  {
   "cell_type": "markdown",
   "metadata": {},
   "source": [
    "### Большое число библиотек на любой случай"
   ]
  },
  {
   "cell_type": "markdown",
   "metadata": {},
   "source": [
    "**Стандартная библиотека**  \n",
    "https://docs.python.org/3/library/  \n",
    "  \n",
    "  \n",
    "**Real-Case**  \n",
    "Сбор данных о погоде в разных городах и укладка для дальнейшего использования  \n",
    "https://www.metaweather.com/api/"
   ]
  },
  {
   "cell_type": "code",
   "execution_count": 7,
   "metadata": {},
   "outputs": [],
   "source": [
    "import json\n",
    "import requests\n",
    "import pandas as pd"
   ]
  },
  {
   "cell_type": "code",
   "execution_count": 8,
   "metadata": {},
   "outputs": [
    {
     "name": "stdout",
     "output_type": "stream",
     "text": [
      "london\n",
      "paris\n",
      "moscow\n"
     ]
    }
   ],
   "source": [
    "location_api = 'https://www.metaweather.com/api/location/search/?query={city}'\n",
    "weather_api = 'https://www.metaweather.com/api/location/{id}'\n",
    "\n",
    "cities = ['london', 'paris', 'moscow']\n",
    "df_raw = []\n",
    "\n",
    "for c in cities:\n",
    "    print(c)\n",
    "    woeid = requests.get(location_api.format(city=c)).json()[0]['woeid']\n",
    "    desc = requests.get(weather_api.format(id=woeid)).json()\n",
    "    if isinstance(desc, list):\n",
    "        df_raw.append(desc[0])\n",
    "    else:\n",
    "        df_raw.append(desc['consolidated_weather'][0])\n",
    "\n",
    "df = pd.DataFrame(df_raw)"
   ]
  },
  {
   "cell_type": "code",
   "execution_count": 9,
   "metadata": {},
   "outputs": [
    {
     "data": {
      "text/html": [
       "<div>\n",
       "<style scoped>\n",
       "    .dataframe tbody tr th:only-of-type {\n",
       "        vertical-align: middle;\n",
       "    }\n",
       "\n",
       "    .dataframe tbody tr th {\n",
       "        vertical-align: top;\n",
       "    }\n",
       "\n",
       "    .dataframe thead th {\n",
       "        text-align: right;\n",
       "    }\n",
       "</style>\n",
       "<table border=\"1\" class=\"dataframe\">\n",
       "  <thead>\n",
       "    <tr style=\"text-align: right;\">\n",
       "      <th></th>\n",
       "      <th>id</th>\n",
       "      <th>weather_state_name</th>\n",
       "      <th>weather_state_abbr</th>\n",
       "      <th>wind_direction_compass</th>\n",
       "      <th>created</th>\n",
       "      <th>applicable_date</th>\n",
       "      <th>min_temp</th>\n",
       "      <th>max_temp</th>\n",
       "      <th>the_temp</th>\n",
       "      <th>wind_speed</th>\n",
       "      <th>wind_direction</th>\n",
       "      <th>air_pressure</th>\n",
       "      <th>humidity</th>\n",
       "      <th>visibility</th>\n",
       "      <th>predictability</th>\n",
       "    </tr>\n",
       "  </thead>\n",
       "  <tbody>\n",
       "    <tr>\n",
       "      <td>0</td>\n",
       "      <td>5268017250304000</td>\n",
       "      <td>Heavy Rain</td>\n",
       "      <td>hr</td>\n",
       "      <td>SSE</td>\n",
       "      <td>2020-03-04T12:16:02.402074Z</td>\n",
       "      <td>2020-03-04</td>\n",
       "      <td>3.430</td>\n",
       "      <td>8.205</td>\n",
       "      <td>7.010</td>\n",
       "      <td>3.651427</td>\n",
       "      <td>164.341890</td>\n",
       "      <td>1008.5</td>\n",
       "      <td>69</td>\n",
       "      <td>7.273150</td>\n",
       "      <td>77</td>\n",
       "    </tr>\n",
       "    <tr>\n",
       "      <td>1</td>\n",
       "      <td>4757901367312384</td>\n",
       "      <td>Heavy Rain</td>\n",
       "      <td>hr</td>\n",
       "      <td>S</td>\n",
       "      <td>2020-03-04T12:36:05.400612Z</td>\n",
       "      <td>2020-03-04</td>\n",
       "      <td>4.055</td>\n",
       "      <td>8.790</td>\n",
       "      <td>6.310</td>\n",
       "      <td>5.745560</td>\n",
       "      <td>191.000000</td>\n",
       "      <td>1012.5</td>\n",
       "      <td>80</td>\n",
       "      <td>6.690925</td>\n",
       "      <td>77</td>\n",
       "    </tr>\n",
       "    <tr>\n",
       "      <td>2</td>\n",
       "      <td>4825981833445376</td>\n",
       "      <td>Heavy Cloud</td>\n",
       "      <td>hc</td>\n",
       "      <td>SE</td>\n",
       "      <td>2020-03-04T12:27:32.621772Z</td>\n",
       "      <td>2020-03-04</td>\n",
       "      <td>1.915</td>\n",
       "      <td>5.200</td>\n",
       "      <td>5.705</td>\n",
       "      <td>3.006960</td>\n",
       "      <td>127.327692</td>\n",
       "      <td>1017.0</td>\n",
       "      <td>89</td>\n",
       "      <td>11.097068</td>\n",
       "      <td>71</td>\n",
       "    </tr>\n",
       "  </tbody>\n",
       "</table>\n",
       "</div>"
      ],
      "text/plain": [
       "                 id weather_state_name weather_state_abbr  \\\n",
       "0  5268017250304000         Heavy Rain                 hr   \n",
       "1  4757901367312384         Heavy Rain                 hr   \n",
       "2  4825981833445376        Heavy Cloud                 hc   \n",
       "\n",
       "  wind_direction_compass                      created applicable_date  \\\n",
       "0                    SSE  2020-03-04T12:16:02.402074Z      2020-03-04   \n",
       "1                      S  2020-03-04T12:36:05.400612Z      2020-03-04   \n",
       "2                     SE  2020-03-04T12:27:32.621772Z      2020-03-04   \n",
       "\n",
       "   min_temp  max_temp  the_temp  wind_speed  wind_direction  air_pressure  \\\n",
       "0     3.430     8.205     7.010    3.651427      164.341890        1008.5   \n",
       "1     4.055     8.790     6.310    5.745560      191.000000        1012.5   \n",
       "2     1.915     5.200     5.705    3.006960      127.327692        1017.0   \n",
       "\n",
       "   humidity  visibility  predictability  \n",
       "0        69    7.273150              77  \n",
       "1        80    6.690925              77  \n",
       "2        89   11.097068              71  "
      ]
     },
     "execution_count": 9,
     "metadata": {},
     "output_type": "execute_result"
    }
   ],
   "source": [
    "df"
   ]
  },
  {
   "cell_type": "code",
   "execution_count": 10,
   "metadata": {},
   "outputs": [],
   "source": [
    "df.to_excel('weather_dataset.xlsx', index=False)"
   ]
  },
  {
   "cell_type": "markdown",
   "metadata": {},
   "source": [
    "## Недостатки"
   ]
  },
  {
   "cell_type": "markdown",
   "metadata": {},
   "source": [
    "### Быстродействие\n",
    "Говорят что Python медленный.  \n",
    "Не всегда"
   ]
  },
  {
   "cell_type": "code",
   "execution_count": 11,
   "metadata": {},
   "outputs": [
    {
     "name": "stdout",
     "output_type": "stream",
     "text": [
      "Original string: PHP\n",
      "\n",
      "After repeating 7 times: PHPPHPPHPPHPPHPPHPPHP\n",
      "CPU times: user 16.2 ms, sys: 15.1 ms, total: 31.3 ms\n",
      "Wall time: 504 ms\n"
     ]
    }
   ],
   "source": [
    "%%time\n",
    "!cd /Users/lancer/KIB\\ Python\\ Course/CentralRepo/lecture_1 && java StringRep"
   ]
  },
  {
   "cell_type": "code",
   "execution_count": 12,
   "metadata": {},
   "outputs": [
    {
     "name": "stdout",
     "output_type": "stream",
     "text": [
      "REPREPREP\n",
      "CPU times: user 6.52 ms, sys: 11.2 ms, total: 17.8 ms\n",
      "Wall time: 187 ms\n"
     ]
    }
   ],
   "source": [
    "%%time\n",
    "!cd /Users/lancer/KIB\\ Python\\ Course/CentralRepo/lecture_1 && python string_rep.py"
   ]
  },
  {
   "cell_type": "markdown",
   "metadata": {},
   "source": [
    "При математических операциях особенно"
   ]
  },
  {
   "cell_type": "code",
   "execution_count": 13,
   "metadata": {},
   "outputs": [
    {
     "name": "stdout",
     "output_type": "stream",
     "text": [
      "CPU times: user 13 µs, sys: 1e+03 ns, total: 14 µs\n",
      "Wall time: 20 µs\n"
     ]
    },
    {
     "data": {
      "text/plain": [
       "2016"
      ]
     },
     "execution_count": 13,
     "metadata": {},
     "output_type": "execute_result"
    }
   ],
   "source": [
    "%%time\n",
    "sum(range(2**6))"
   ]
  },
  {
   "cell_type": "markdown",
   "metadata": {},
   "source": [
    "Подключим математическую библиотеку"
   ]
  },
  {
   "cell_type": "code",
   "execution_count": 14,
   "metadata": {},
   "outputs": [
    {
     "name": "stdout",
     "output_type": "stream",
     "text": [
      "CPU times: user 417 µs, sys: 180 µs, total: 597 µs\n",
      "Wall time: 592 µs\n"
     ]
    },
    {
     "data": {
      "text/plain": [
       "2016"
      ]
     },
     "execution_count": 14,
     "metadata": {},
     "output_type": "execute_result"
    }
   ],
   "source": [
    "%%time\n",
    "import numpy as np\n",
    "np.sum(np.array(range(2**6)))"
   ]
  },
  {
   "cell_type": "markdown",
   "metadata": {},
   "source": [
    "### Ошибку можно словить только в рантайме"
   ]
  },
  {
   "cell_type": "code",
   "execution_count": 15,
   "metadata": {},
   "outputs": [
    {
     "name": "stdout",
     "output_type": "stream",
     "text": [
      "String operation completed= aa\n",
      "String operation completed= bb\n"
     ]
    },
    {
     "ename": "AttributeError",
     "evalue": "'int' object has no attribute 'replace'",
     "output_type": "error",
     "traceback": [
      "\u001b[0;31m---------------------------------------------------------------------------\u001b[0m",
      "\u001b[0;31mAttributeError\u001b[0m                            Traceback (most recent call last)",
      "\u001b[0;32m<ipython-input-15-b69f2476bfce>\u001b[0m in \u001b[0;36m<module>\u001b[0;34m\u001b[0m\n\u001b[1;32m      1\u001b[0m \u001b[0mdata\u001b[0m \u001b[0;34m=\u001b[0m \u001b[0;34m[\u001b[0m\u001b[0;34m'a'\u001b[0m\u001b[0;34m,\u001b[0m \u001b[0;34m'b'\u001b[0m\u001b[0;34m,\u001b[0m \u001b[0;36m12\u001b[0m\u001b[0;34m]\u001b[0m\u001b[0;34m\u001b[0m\u001b[0;34m\u001b[0m\u001b[0m\n\u001b[1;32m      2\u001b[0m \u001b[0;32mfor\u001b[0m \u001b[0md\u001b[0m \u001b[0;32min\u001b[0m \u001b[0mdata\u001b[0m\u001b[0;34m:\u001b[0m\u001b[0;34m\u001b[0m\u001b[0;34m\u001b[0m\u001b[0m\n\u001b[0;32m----> 3\u001b[0;31m     \u001b[0mprint\u001b[0m\u001b[0;34m(\u001b[0m\u001b[0;34m\"String operation completed=\"\u001b[0m\u001b[0;34m,\u001b[0m \u001b[0md\u001b[0m\u001b[0;34m.\u001b[0m\u001b[0mreplace\u001b[0m\u001b[0;34m(\u001b[0m\u001b[0md\u001b[0m\u001b[0;34m,\u001b[0m \u001b[0md\u001b[0m\u001b[0;34m*\u001b[0m\u001b[0;36m2\u001b[0m\u001b[0;34m)\u001b[0m\u001b[0;34m)\u001b[0m\u001b[0;34m\u001b[0m\u001b[0;34m\u001b[0m\u001b[0m\n\u001b[0m",
      "\u001b[0;31mAttributeError\u001b[0m: 'int' object has no attribute 'replace'"
     ]
    }
   ],
   "source": [
    "data = ['a', 'b', 12]\n",
    "for d in data:\n",
    "    print(\"String operation completed=\", d.replace(d, d*2))"
   ]
  },
  {
   "cell_type": "markdown",
   "metadata": {},
   "source": [
    "## Снова к плюсам  \n",
    "  \n",
    "Универсальность, развитое сообщество привели к широкому распространению языка -> **Востребованность**  \n",
    "Востребованность порождает разнообразие  \n",
    "* backend  \n",
    "* web  \n",
    "* devops  \n",
    "* data science\n",
    "\n",
    "\n",
    "![hh_python](images/hh.png)  \n",
    "![hh_cpp](images/cpp.png)  \n",
    "  \n",
    "### Баян про зарплату\n",
    "![salary](images/salary.jpeg)  \n",
    "\n",
    "  \n",
    "### Мораль такова - прокачанный разработчик всегда найдет хорошее место и оклад"
   ]
  },
  {
   "cell_type": "markdown",
   "metadata": {},
   "source": [
    "## Ладно, убедили, я хочу питонить!!!111  \n",
    "  \n",
    "   \n",
    "  \n",
    "Существуют несколько реализаций Python:\n",
    "* CPython - стандартная реализация\n",
    "* Jython\n",
    "* IronPython\n",
    "* PyPy  \n",
    "  \n",
    "  \n",
    "  \n",
    "### Установка CPython\n",
    "* Собрать самому из исходников (make install ...)\n",
    "* Готовый пакет (deb/rpm/msi)\n",
    "* Anaconda\n",
    "  \n",
    "   \n",
    "  \n",
    "### В чем создавать скрипты\n",
    "* Любой текстовый редактор\n",
    "* Любая годная IDE\n",
    "* Pycharm Community\n",
    "* Jupyter Notebook\n"
   ]
  },
  {
   "cell_type": "markdown",
   "metadata": {},
   "source": [
    "## Jupyter  \n",
    "![jup_arch](images/jupyter.png)  "
   ]
  },
  {
   "cell_type": "code",
   "execution_count": 48,
   "metadata": {},
   "outputs": [
    {
     "name": "stdout",
     "output_type": "stream",
     "text": [
      "lancer           27228   0.0  0.7  4314132  57708 s000  S+    4:02PM   0:06.75 /Users/lancer/anaconda3/bin/python /Users/lancer/anaconda3/bin/jupyter-notebook\r\n",
      "lancer           28057   0.0  0.7  4611776  60512   ??  Ss    5:01PM   0:04.08 /Users/lancer/anaconda3/bin/python -m ipykernel_launcher -f /Users/lancer/Library/Jupyter/runtime/kernel-7e9c7b7c-dc29-47c6-a647-432201f4374a.json\r\n"
     ]
    }
   ],
   "source": [
    "!ps aux | grep python | grep -v grep"
   ]
  },
  {
   "cell_type": "code",
   "execution_count": 49,
   "metadata": {},
   "outputs": [
    {
     "name": "stdout",
     "output_type": "stream",
     "text": [
      "lancer           28057   4.3  0.7  4611776  60512   ??  Ss    5:01PM   0:04.11 /Users/lancer/an 27228\r\n",
      "lancer           28389   3.0  0.0  4270384   1184 s003  Ss+   5:12PM   0:00.01 /bin/sh -c ps au 28057\r\n"
     ]
    }
   ],
   "source": [
    "!ps aux -o ppid | grep 28057 | grep -v grep"
   ]
  },
  {
   "cell_type": "markdown",
   "metadata": {},
   "source": [
    "## Синтаксис  \n"
   ]
  },
  {
   "cell_type": "markdown",
   "metadata": {},
   "source": [
    "Логически, код на Python разделяется на строки  "
   ]
  },
  {
   "cell_type": "code",
   "execution_count": 50,
   "metadata": {},
   "outputs": [],
   "source": [
    "logical_string = 'cool'"
   ]
  },
  {
   "cell_type": "markdown",
   "metadata": {},
   "source": [
    "Разделяются строки переносом строки, либо ';'"
   ]
  },
  {
   "cell_type": "code",
   "execution_count": 51,
   "metadata": {},
   "outputs": [],
   "source": [
    "today = 'is'; the_great = 'day'"
   ]
  },
  {
   "cell_type": "markdown",
   "metadata": {},
   "source": [
    "Переменная может быть объявлена любой алфавитной последовательностью + нижний слэш, но не должна начинаться с цифры"
   ]
  },
  {
   "cell_type": "code",
   "execution_count": 71,
   "metadata": {},
   "outputs": [],
   "source": [
    "джигурда = 'с бородой'\n",
    "and_your_mentors = 'без'"
   ]
  },
  {
   "cell_type": "code",
   "execution_count": 73,
   "metadata": {},
   "outputs": [
    {
     "ename": "SyntaxError",
     "evalue": "invalid syntax (<ipython-input-73-3c71bc0fb4be>, line 1)",
     "output_type": "error",
     "traceback": [
      "\u001b[0;36m  File \u001b[0;32m\"<ipython-input-73-3c71bc0fb4be>\"\u001b[0;36m, line \u001b[0;32m1\u001b[0m\n\u001b[0;31m    7sdf = None\u001b[0m\n\u001b[0m       ^\u001b[0m\n\u001b[0;31mSyntaxError\u001b[0m\u001b[0;31m:\u001b[0m invalid syntax\n"
     ]
    }
   ],
   "source": [
    "7sdf = None"
   ]
  },
  {
   "cell_type": "markdown",
   "metadata": {},
   "source": [
    "Комментарий - через #"
   ]
  },
  {
   "cell_type": "code",
   "execution_count": 52,
   "metadata": {},
   "outputs": [],
   "source": [
    "# результат этого кода видят только ...\n",
    "data = None"
   ]
  },
  {
   "cell_type": "markdown",
   "metadata": {},
   "source": [
    "Иногда нужно делать длинные вызовы, условия  \n",
    "Используем обратный slash"
   ]
  },
  {
   "cell_type": "code",
   "execution_count": 56,
   "metadata": {},
   "outputs": [
    {
     "name": "stdout",
     "output_type": "stream",
     "text": [
      "46\n"
     ]
    }
   ],
   "source": [
    "big_data = \\\n",
    "    10*2 + \\\n",
    "    23+3\n",
    "print(big_data)"
   ]
  },
  {
   "cell_type": "markdown",
   "metadata": {},
   "source": [
    "Иногда backslash не нужен (в основном в коллекциях)"
   ]
  },
  {
   "cell_type": "code",
   "execution_count": 58,
   "metadata": {},
   "outputs": [
    {
     "name": "stdout",
     "output_type": "stream",
     "text": [
      "[1, 2, 3, 4, 5, 6, 7, 8, 10]\n"
     ]
    }
   ],
   "source": [
    "container = [1,2,3,4,\n",
    "            5,6,7,8,\n",
    "            10]\n",
    "print(container)"
   ]
  },
  {
   "cell_type": "markdown",
   "metadata": {},
   "source": [
    "Функции объявляются с помощью ключевого слова **def**"
   ]
  },
  {
   "cell_type": "code",
   "execution_count": 61,
   "metadata": {},
   "outputs": [
    {
     "name": "stdout",
     "output_type": "stream",
     "text": [
      "-100\n"
     ]
    }
   ],
   "source": [
    "def inverter(number):\n",
    "    print(number * -1)\n",
    "    \n",
    "inverter(100)"
   ]
  },
  {
   "cell_type": "markdown",
   "metadata": {},
   "source": [
    "Тело функций и других похожих по смыслу конструкций выделяется с помощью отступов  (с помощью пробелов или табуляции)  \n",
    "Отступы должны быть везде одинаковые"
   ]
  },
  {
   "cell_type": "code",
   "execution_count": 67,
   "metadata": {},
   "outputs": [
    {
     "name": "stdout",
     "output_type": "stream",
     "text": [
      "Все по-пацански\n",
      "1\n",
      "2\n"
     ]
    }
   ],
   "source": [
    "def ok_indent():\n",
    "    print(\"Все по-пацански\")\n",
    "    print(1)\n",
    "    if 1 != 2:\n",
    "        print(2)\n",
    "ok_indent()\n"
   ]
  },
  {
   "cell_type": "code",
   "execution_count": 69,
   "metadata": {},
   "outputs": [
    {
     "ename": "IndentationError",
     "evalue": "unindent does not match any outer indentation level (<tokenize>, line 4)",
     "output_type": "error",
     "traceback": [
      "\u001b[0;36m  File \u001b[0;32m\"<tokenize>\"\u001b[0;36m, line \u001b[0;32m4\u001b[0m\n\u001b[0;31m    if 1 != 2:\u001b[0m\n\u001b[0m    ^\u001b[0m\n\u001b[0;31mIndentationError\u001b[0m\u001b[0;31m:\u001b[0m unindent does not match any outer indentation level\n"
     ]
    }
   ],
   "source": [
    "def notok_indent():\n",
    "    print(\"Все по-пацански\")\n",
    "     print(1)\n",
    "  if 1 != 2:\n",
    "        print(2)\n",
    "ok_indent()"
   ]
  },
  {
   "cell_type": "markdown",
   "metadata": {},
   "source": [
    "#### Операторы  "
   ]
  },
  {
   "cell_type": "code",
   "execution_count": 74,
   "metadata": {},
   "outputs": [
    {
     "name": "stdout",
     "output_type": "stream",
     "text": [
      "Сложение:  5+2 = 7\n",
      "Вычитание: 5-2 = 3\n",
      "Умножение: 5*2 = 10\n",
      "Степень:   5^2 = 25\n",
      "Деление:   5/2 = 2.5\n",
      "      Целое:     2\n",
      "      Остаток:   1\n"
     ]
    }
   ],
   "source": [
    "a = 5 + 2;  \n",
    "print('Сложение:  5+2 =', a)\n",
    "a = 5 - 2;  \n",
    "print('Вычитание: 5-2 =', a)\n",
    "a = 5 * 2;  \n",
    "print('Умножение: 5*2 =', a)\n",
    "a = 5 ** 2; \n",
    "print('Степень:   5^2 =', a)\n",
    "a = 5 / 2;  \n",
    "print('Деление:   5/2 =', a)\n",
    "a = 5 // 2; \n",
    "print('      Целое:    ', a)\n",
    "a = 5 % 2;  \n",
    "print('      Остаток:  ', a)"
   ]
  },
  {
   "cell_type": "markdown",
   "metadata": {},
   "source": [
    "Побитовые операторы предназначены для работы с данными в битовом (двоичном) формате.\n",
    "\n",
    "`&` - побитовый \"И\"\n",
    "\n",
    "`|` - побитовый \"ИЛИ\"\n",
    "\n",
    "`^` - побитовый \"Исключающее ИЛИ\"\n",
    "\n",
    "`~` - побитовое отрицание (дополнение) - унарная операция\n",
    "\n",
    "`<<` - побитовый сдвиг влево\n",
    "\n",
    "`>>` - побитовый сдвиг право"
   ]
  },
  {
   "cell_type": "code",
   "execution_count": 76,
   "metadata": {},
   "outputs": [
    {
     "name": "stdout",
     "output_type": "stream",
     "text": [
      "101 & 011 =  1 ( 0b1 )\n",
      "101 | 011 =  7 ( 0b111 )\n",
      "101 ^ 011 =  6 ( 0b110 )\n",
      "~101 =  -6 ( -0b110 )\n",
      "101 << 2 =  10 ( 0b1010 )\n",
      "101 >> 2 =  2 ( 0b10 )\n"
     ]
    }
   ],
   "source": [
    "print(\"101 & 011 = \", 5 & 3, \"(\", bin(5 & 3), \")\")\n",
    "print(\"101 | 011 = \", 5 | 3, \"(\", bin(5 | 3), \")\")\n",
    "print(\"101 ^ 011 = \", 5 ^ 3, \"(\", bin(5 ^ 3), \")\")\n",
    "print(\"~101 = \", ~5, \"(\", bin(~5), \")\")\n",
    "print(\"101 << 2 = \",5 << 1, \"(\", bin(5 << 1), \")\")\n",
    "print(\"101 >> 2 = \",5 >> 1, \"(\", bin( 5>> 1), \")\")\n",
    "\n",
    "#bin() - представление числа в двоичной системе счисления"
   ]
  },
  {
   "cell_type": "markdown",
   "metadata": {},
   "source": [
    "#### Условия"
   ]
  },
  {
   "cell_type": "code",
   "execution_count": 77,
   "metadata": {},
   "outputs": [
    {
     "name": "stdout",
     "output_type": "stream",
     "text": [
      "Yes.\n"
     ]
    }
   ],
   "source": [
    "a = 5\n",
    "b = 3\n",
    "\n",
    "if a > b:\n",
    "    a += 1\n",
    "    print('Yes.')\n",
    "elif a < b:\n",
    "    a -= 1\n",
    "    print('No')\n",
    "else:\n",
    "    print('Equal.')"
   ]
  },
  {
   "cell_type": "code",
   "execution_count": null,
   "metadata": {},
   "outputs": [],
   "source": [
    "a = 1\n",
    "b = 2\n",
    "c = 3\n",
    "d = 4\n",
    "\n",
    "if (a == 1 and b == 2 and\n",
    "    c == 3 and d == 4):\n",
    "    print('1')\n",
    "\n",
    "if [a == 1 and b == 2 and\n",
    "    c == 3 and d == 4]:\n",
    "    print('2')\n",
    "    \n",
    "if {a == 1 and b == 2 and\n",
    "    c == 3 and d == 4}:\n",
    "    print('3')"
   ]
  },
  {
   "cell_type": "markdown",
   "metadata": {},
   "source": [
    "#### Циклы"
   ]
  },
  {
   "cell_type": "code",
   "execution_count": null,
   "metadata": {},
   "outputs": [],
   "source": [
    "# Цикл от 0 до n-1:\n",
    "for i in range(8):\n",
    "    print(i)\n",
    "\n",
    "# Цикл от m до n-1. \n",
    "# Посчитаем факториал числа 8\n",
    "f = 1\n",
    "for i in range(2, 9):\n",
    "    f = f * i\n",
    "print(f)\n",
    "\n",
    "# Цикл по итерируемому объекту\n",
    "\n",
    "tup = (1, 2, 5)\n",
    "for i in tup:\n",
    "    print(i)\n",
    "\n",
    "s = 'КСБ'\n",
    "for letter in s:\n",
    "    print(letter.lower())\n",
    "\n",
    "d = {1: 'one', 2: 'two'}\n",
    "for el in d:\n",
    "    print(el, ':', d[el])\n",
    "\n",
    "for k, v in d.items():\n",
    "    print(k, ':', v)\n",
    "\n",
    "# Цикл while\n",
    "# Сумма четных чисел от 2 до n\n",
    "\n",
    "n = 20\n",
    "i = 2\n",
    "sum = 0\n",
    "\n",
    "while i < n:\n",
    "    sum += i\n",
    "    i += 2\n",
    "print(sum)"
   ]
  },
  {
   "cell_type": "code",
   "execution_count": null,
   "metadata": {},
   "outputs": [],
   "source": [
    "(       )       [       ]       {       }\n",
    ",       :       .       ;       @       =       ->\n",
    "+=      -=      *=      /=      //=     %=      @=\n",
    "&=      |=      ^=      >>=     <<=     **="
   ]
  },
  {
   "cell_type": "markdown",
   "metadata": {},
   "source": [
    "### Zen of Python"
   ]
  },
  {
   "cell_type": "code",
   "execution_count": 78,
   "metadata": {},
   "outputs": [
    {
     "name": "stdout",
     "output_type": "stream",
     "text": [
      "The Zen of Python, by Tim Peters\n",
      "\n",
      "Beautiful is better than ugly.\n",
      "Explicit is better than implicit.\n",
      "Simple is better than complex.\n",
      "Complex is better than complicated.\n",
      "Flat is better than nested.\n",
      "Sparse is better than dense.\n",
      "Readability counts.\n",
      "Special cases aren't special enough to break the rules.\n",
      "Although practicality beats purity.\n",
      "Errors should never pass silently.\n",
      "Unless explicitly silenced.\n",
      "In the face of ambiguity, refuse the temptation to guess.\n",
      "There should be one-- and preferably only one --obvious way to do it.\n",
      "Although that way may not be obvious at first unless you're Dutch.\n",
      "Now is better than never.\n",
      "Although never is often better than *right* now.\n",
      "If the implementation is hard to explain, it's a bad idea.\n",
      "If the implementation is easy to explain, it may be a good idea.\n",
      "Namespaces are one honking great idea -- let's do more of those!\n"
     ]
    }
   ],
   "source": [
    "import this"
   ]
  },
  {
   "cell_type": "markdown",
   "metadata": {},
   "source": [
    "## Ключевые принципы Python  \n",
    "* Все есть объект  \n",
    "![hier](images/type_hier.png)  "
   ]
  },
  {
   "cell_type": "code",
   "execution_count": null,
   "metadata": {},
   "outputs": [],
   "source": []
  },
  {
   "cell_type": "code",
   "execution_count": null,
   "metadata": {},
   "outputs": [],
   "source": []
  },
  {
   "cell_type": "code",
   "execution_count": null,
   "metadata": {},
   "outputs": [],
   "source": []
  },
  {
   "cell_type": "code",
   "execution_count": null,
   "metadata": {},
   "outputs": [],
   "source": []
  },
  {
   "cell_type": "code",
   "execution_count": null,
   "metadata": {},
   "outputs": [],
   "source": []
  }
 ],
 "metadata": {
  "kernelspec": {
   "display_name": "Python 3",
   "language": "python",
   "name": "python3"
  },
  "language_info": {
   "codemirror_mode": {
    "name": "ipython",
    "version": 3
   },
   "file_extension": ".py",
   "mimetype": "text/x-python",
   "name": "python",
   "nbconvert_exporter": "python",
   "pygments_lexer": "ipython3",
   "version": "3.7.4"
  }
 },
 "nbformat": 4,
 "nbformat_minor": 2
}
