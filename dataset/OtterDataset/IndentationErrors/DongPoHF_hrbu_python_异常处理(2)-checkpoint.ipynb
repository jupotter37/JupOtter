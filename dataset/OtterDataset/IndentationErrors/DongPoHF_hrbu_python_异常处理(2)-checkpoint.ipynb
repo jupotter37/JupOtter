{
 "cells": [
  {
   "cell_type": "code",
   "execution_count": 1,
   "id": "1efdbafa",
   "metadata": {},
   "outputs": [],
   "source": [
    "# IndexError 索引错误\n",
    "# KeyError 键不存在错误\n",
    "# nameError 变量不存在\n",
    "# AssertError 断言错误\n",
    "# IndentationError 索引错误"
   ]
  },
  {
   "cell_type": "code",
   "execution_count": 2,
   "id": "add9eb2f",
   "metadata": {},
   "outputs": [],
   "source": [
    "#  错误的异常处理\n",
    "# try:\n",
    "    # 尝试实现某个操作\n",
    "    # 如果没有出现异常，任务可以完成\n",
    "    # 如果出现错误，抛出错误异常对象，由下面的except接受错误并做出处理\n",
    "# except:\n",
    "    # 处理异常"
   ]
  },
  {
   "cell_type": "code",
   "execution_count": 5,
   "id": "6451d467",
   "metadata": {},
   "outputs": [
    {
     "name": "stdout",
     "output_type": "stream",
     "text": [
      "我处理了异常\n"
     ]
    }
   ],
   "source": [
    "try:\n",
    "    print(name)\n",
    "except:\n",
    "    print('我处理了异常')"
   ]
  },
  {
   "cell_type": "code",
   "execution_count": 6,
   "id": "a7fa92dd",
   "metadata": {},
   "outputs": [
    {
     "name": "stdout",
     "output_type": "stream",
     "text": [
      "ok!!!\n"
     ]
    }
   ],
   "source": [
    "try:\n",
    "    print('ok!!!')\n",
    "except:\n",
    "    print('我处理了异常')"
   ]
  },
  {
   "cell_type": "code",
   "execution_count": 8,
   "id": "5bd6f1ad",
   "metadata": {},
   "outputs": [
    {
     "name": "stdout",
     "output_type": "stream",
     "text": [
      "报错: name 'name' is not defined\n"
     ]
    }
   ],
   "source": [
    "try:\n",
    "    print(name)\n",
    "except Exception as e:\n",
    "    print('报错:',e)"
   ]
  },
  {
   "cell_type": "code",
   "execution_count": 10,
   "id": "d7f43099",
   "metadata": {},
   "outputs": [
    {
     "name": "stdout",
     "output_type": "stream",
     "text": [
      "any!!!\n"
     ]
    },
    {
     "ename": "NameError",
     "evalue": "name 'name' is not defined",
     "output_type": "error",
     "traceback": [
      "\u001b[1;31m---------------------------------------------------------------------------\u001b[0m",
      "\u001b[1;31mNameError\u001b[0m                                 Traceback (most recent call last)",
      "Input \u001b[1;32mIn [10]\u001b[0m, in \u001b[0;36m<cell line: 1>\u001b[1;34m()\u001b[0m\n\u001b[0;32m      1\u001b[0m \u001b[38;5;28;01mtry\u001b[39;00m:\n\u001b[1;32m----> 2\u001b[0m     \u001b[38;5;28mprint\u001b[39m(\u001b[43mname\u001b[49m)\n\u001b[0;32m      3\u001b[0m \u001b[38;5;28;01mfinally\u001b[39;00m:\n\u001b[0;32m      4\u001b[0m     \u001b[38;5;28mprint\u001b[39m(\u001b[38;5;124m'\u001b[39m\u001b[38;5;124many!!!\u001b[39m\u001b[38;5;124m'\u001b[39m)\n",
      "\u001b[1;31mNameError\u001b[0m: name 'name' is not defined"
     ]
    }
   ],
   "source": [
    "try:\n",
    "    print(name)\n",
    "finally:\n",
    "    print('any!!!')"
   ]
  },
  {
   "cell_type": "code",
   "execution_count": 12,
   "id": "b7658826",
   "metadata": {
    "collapsed": true
   },
   "outputs": [
    {
     "name": "stdout",
     "output_type": "stream",
     "text": [
      "name\n",
      "1111\n"
     ]
    }
   ],
   "source": [
    "try:\n",
    "    print('name')\n",
    "except Exception as e:\n",
    "    print('报错:',e)\n",
    "else:\n",
    "    print('1111')"
   ]
  },
  {
   "attachments": {},
   "cell_type": "markdown",
   "id": "5bab0fdd",
   "metadata": {},
   "source": [
    "AssertError :              断言语句（assert）失败<br>\n",
    "AttributeError   :          尝试访问未知的对象属性<br>\n",
    "EOFError:                  用户输入文件末尾标志EOF（Ctrl+d）<br>\n",
    "FloatingPointError :         浮点计算错误<br>\n",
    "GeneratorExit :            generator.close()方法被调用的时候<br>\n",
    "ImportError :              导入模块失败的时候<br>\n",
    "IndexError :               索引超出序列的范围<br>\n",
    "KeyError  :                字典中查找一个不存在的关键字<br>\n",
    "KeyboardInterrupt :          用户输入中断键（Ctrl+c）<br>\n",
    "MemoryError  :             内存溢出（可通过删除对象释放内存）<br>\n",
    "NameError  :               尝试访问一个不存在的变量<br>\n",
    "NotImplementedError:          尚未实现的方法<br>\n",
    "OSError   :                操作系统产生的异常（例如打开一个不存在的文件）<br>\n",
    "OverflowError :             数值运算超出最大限制<br>\n",
    "ReferenceError :            弱引用（weak reference）试图访问一个已经被垃圾回收机制回收了的对象<br>\n",
    "RuntimeError :              一般的运行时错误<br>\n",
    "StopIteration :             迭代器没有更多的值<br>\n",
    "SyntaxError :               Python的语法错误<br>\n",
    "IndentationError :            缩进错误<br>\n",
    "TabError:                 Tab和空格混合使用<br>\n",
    "SystemError :               Python编译器系统错误<br>\n",
    "SystemExit :                Python编译器进程被关闭<br>\n",
    "TypeError :                不同类型间的无效操作<br>\n",
    "UnboundLocalError :           访问一个未初始化的本地变量（NameError的子类）<br>\n",
    "UnicodeError :              Unicode相关的错误（ValueError的子类）<br>\n",
    "UnicodeEncodeError :          Unicode编码时的错误（UnicodeError的子类）<br>\n",
    "UnicodeDecodeError:           Unicode解码时的错误（UnicodeError的子类）<br>\n",
    "UnicodeTranslateError :        Unicode转换时的错误（UnicodeError的子类）<br>\n",
    "ValueError   :             传入无效的参数<br>\n",
    "ZeroDivisionError :          除数为零<br> "
   ]
  },
  {
   "cell_type": "markdown",
   "id": "f84f2be7",
   "metadata": {},
   "source": [
    "#### with语法\n",
    "在文件操作中用于监控文件的使用状态，在文件不使用时自动关闭文件操作。"
   ]
  },
  {
   "cell_type": "code",
   "execution_count": 13,
   "id": "d8f7d103",
   "metadata": {},
   "outputs": [],
   "source": [
    "try:\n",
    "    with open('1.txt','w',encoding = 'utf-8') as fp:\n",
    "        fp.write('0k11')\n",
    "except Exception as e:\n",
    "    print(e)"
   ]
  },
  {
   "cell_type": "code",
   "execution_count": null,
   "id": "079786db",
   "metadata": {},
   "outputs": [],
   "source": []
  }
 ],
 "metadata": {
  "kernelspec": {
   "display_name": "Python 3 (ipykernel)",
   "language": "python",
   "name": "python3"
  },
  "language_info": {
   "codemirror_mode": {
    "name": "ipython",
    "version": 3
   },
   "file_extension": ".py",
   "mimetype": "text/x-python",
   "name": "python",
   "nbconvert_exporter": "python",
   "pygments_lexer": "ipython3",
   "version": "3.9.12"
  }
 },
 "nbformat": 4,
 "nbformat_minor": 5
}
