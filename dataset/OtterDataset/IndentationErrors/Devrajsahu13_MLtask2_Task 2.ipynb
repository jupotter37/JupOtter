{
 "cells": [
  {
   "cell_type": "code",
   "execution_count": null,
   "id": "b4cbe61e",
   "metadata": {},
   "outputs": [],
   "source": [
    "# Python script to scrape an article given the URL of the article and store the extracted text in a file\n",
    "# URL: https://medium.com/@subashgandyer/papa-what-is-a-neural-network-c5e5cc427c7"
   ]
  },
  {
   "cell_type": "code",
   "execution_count": 1,
   "id": "1fb783c2",
   "metadata": {},
   "outputs": [],
   "source": [
    "import os\n",
    "import requests\n",
    "import re\n",
    "from bs4 import BeautifulSoup  # Import BeautifulSoup library"
   ]
  },
  {
   "cell_type": "code",
   "execution_count": 2,
   "id": "0dd6d0b0",
   "metadata": {},
   "outputs": [],
   "source": [
    "# Function to get the HTML source text of the Medium article\n",
    "def get_page():\n",
    "    global url"
   ]
  },
  {
   "cell_type": "code",
   "execution_count": 3,
   "id": "f16ca6a2",
   "metadata": {},
   "outputs": [
    {
     "name": "stdout",
     "output_type": "stream",
     "text": [
      "Enter URL of a Medium article: https://medium.com/@subashgandyer/papa-what-is-a-neural-network-c5e5cc427c7\n"
     ]
    }
   ],
   "source": [
    " url = input(\"Enter URL of a Medium article: \")  # Ask the user to input URL of the Medium article"
   ]
  },
  {
   "cell_type": "code",
   "execution_count": 5,
   "id": "94039abf",
   "metadata": {},
   "outputs": [
    {
     "ename": "IndentationError",
     "evalue": "unexpected indent (2781820012.py, line 2)",
     "output_type": "error",
     "traceback": [
      "\u001b[1;36m  Input \u001b[1;32mIn [5]\u001b[1;36m\u001b[0m\n\u001b[1;33m    if not re.match(r'https?://medium.com/', url):\u001b[0m\n\u001b[1;37m    ^\u001b[0m\n\u001b[1;31mIndentationError\u001b[0m\u001b[1;31m:\u001b[0m unexpected indent\n"
     ]
    }
   ],
   "source": [
    "# Handling possible error\n",
    "    if not re.match(r'https?://medium.com/', url):\n",
    "        print('Please enter a valid website, or make sure it is a Medium article')\n",
    "        sys.exit(1)"
   ]
  },
  {
   "cell_type": "code",
   "execution_count": null,
   "id": "748113ae",
   "metadata": {},
   "outputs": [],
   "source": [
    "res = requests.get(url)  # Call get method in requests object, pass URL and collect it in res"
   ]
  },
  {
   "cell_type": "code",
   "execution_count": null,
   "id": "d7601269",
   "metadata": {},
   "outputs": [],
   "source": [
    "res.raise_for_status()\n",
    "    soup = BeautifulSoup(res.text, 'html.parser')\n",
    "    return soup"
   ]
  },
  {
   "cell_type": "code",
   "execution_count": null,
   "id": "89099d08",
   "metadata": {},
   "outputs": [],
   "source": [
    "# Function to remove all the HTML tags and replace some with specific strings\n",
    "def clean(text):\n",
    "    rep = {\"<br>\": \"\\n\", \"<br/>\": \"\\n\", \"<li>\":  \"\\n\"}\n",
    "    rep = dict((re.escape(k), v) for k, v in rep.items()) \n",
    "    pattern = re.compile(\"|\".join(rep.keys()))\n",
    "    text = pattern.sub(lambda m: rep[re.escape(m.group(0))], text)\n",
    "    text = re.sub('\\<(.*?)\\>', '', text)\n",
    "    return text\n",
    "\n",
    "def collect_text(soup):\n",
    "    text = f'url: {url}\\n\\n'\n",
    "    para_text = soup.find_all('p')\n",
    "    print(f\"paragraphs text = \\n {para_text}\")\n",
    "    for para in para_text:\n",
    "        text += f\"{para.text}\\n\\n\"\n",
    "    return text"
   ]
  },
  {
   "cell_type": "code",
   "execution_count": null,
   "id": "d4a01271",
   "metadata": {},
   "outputs": [],
   "source": [
    "# Function to save file in the current directory\n",
    "def save_file(text):\n",
    "    if not os.path.exists('./scraped_articles'):\n",
    "        os.mkdir('./scraped_articles')\n",
    "    name = url.split(\"/\")[-1]\n",
    "    print(name)\n",
    "    fname = f'scraped_articles/{name}.txt'"
   ]
  },
  {
   "cell_type": "code",
   "execution_count": null,
   "id": "6a47bbbc",
   "metadata": {},
   "outputs": [],
   "source": [
    " # Write a file using with (2 lines)\n",
    "    with open(fname, 'w', encoding='utf-8') as file:\n",
    "        file.write(text)\n",
    "\n",
    "    print(f'File saved in directory {fname}')\n",
    "\n",
    "if __name__ == '__main__':\n",
    "    text = collect_text(get_page())\n",
    "    save_file(text)"
   ]
  },
  {
   "cell_type": "code",
   "execution_count": null,
   "id": "3ac3250f",
   "metadata": {},
   "outputs": [],
   "source": [
    "# Instructions to Run this python code\n",
    "    # Give URL as https://medium.com/@subashgandyer/papa-what-is-a-neural-network-c5e5cc427c7\n"
   ]
  },
  {
   "cell_type": "code",
   "execution_count": null,
   "id": "af855769",
   "metadata": {},
   "outputs": [],
   "source": []
  }
 ],
 "metadata": {
  "kernelspec": {
   "display_name": "Python 3 (ipykernel)",
   "language": "python",
   "name": "python3"
  },
  "language_info": {
   "codemirror_mode": {
    "name": "ipython",
    "version": 3
   },
   "file_extension": ".py",
   "mimetype": "text/x-python",
   "name": "python",
   "nbconvert_exporter": "python",
   "pygments_lexer": "ipython3",
   "version": "3.9.12"
  }
 },
 "nbformat": 4,
 "nbformat_minor": 5
}
