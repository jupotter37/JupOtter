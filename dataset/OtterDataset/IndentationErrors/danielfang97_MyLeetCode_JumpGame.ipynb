{
 "cells": [
  {
   "cell_type": "markdown",
   "id": "2377496b",
   "metadata": {},
   "source": [
    "Backtracking"
   ]
  },
  {
   "cell_type": "code",
   "execution_count": 1,
   "id": "34953b84",
   "metadata": {},
   "outputs": [
    {
     "ename": "IndentationError",
     "evalue": "expected an indented block (552629766.py, line 3)",
     "output_type": "error",
     "traceback": [
      "\u001b[1;36m  File \u001b[1;32m\"C:\\Users\\Daniel Fang\\AppData\\Local\\Temp\\ipykernel_23928\\552629766.py\"\u001b[1;36m, line \u001b[1;32m3\u001b[0m\n\u001b[1;33m    for i in range(len(nums)):\u001b[0m\n\u001b[1;37m                              ^\u001b[0m\n\u001b[1;31mIndentationError\u001b[0m\u001b[1;31m:\u001b[0m expected an indented block\n"
     ]
    }
   ],
   "source": [
    "class Solution:\n",
    "    def canJumpFromPosition(self, nums: List[int], position: int) -> bool:\n",
    "        if position == len(nums) - 1:\n",
    "            return True\n",
    "        furthestJump = min(position + nums[position], len(nums)-1)\n",
    "        for i in range(position+1, furthestJump+1):\n",
    "            if (self.canJumpFromPosition(nums, position+1)):\n",
    "                return True\n",
    "        return False\n",
    "    def canJump(self, nums: List[int]) -> bool:\n",
    "        return self.canJumpFromPosition(nums, 0)"
   ]
  }
 ],
 "metadata": {
  "kernelspec": {
   "display_name": "Python 3 (ipykernel)",
   "language": "python",
   "name": "python3"
  },
  "language_info": {
   "codemirror_mode": {
    "name": "ipython",
    "version": 3
   },
   "file_extension": ".py",
   "mimetype": "text/x-python",
   "name": "python",
   "nbconvert_exporter": "python",
   "pygments_lexer": "ipython3",
   "version": "3.9.13"
  }
 },
 "nbformat": 4,
 "nbformat_minor": 5
}
