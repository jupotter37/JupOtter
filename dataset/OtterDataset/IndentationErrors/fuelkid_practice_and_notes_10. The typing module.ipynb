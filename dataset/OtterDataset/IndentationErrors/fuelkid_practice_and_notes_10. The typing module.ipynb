{
 "cells": [
  {
   "cell_type": "markdown",
   "metadata": {},
   "source": [
    "#### Getting Started \n",
    "\n",
    "Python 3.5 added an intersting new library called **typing**. This adds type hinting to Python. Type hinting is kind of declaring your functions arguments to have a certain type. However the type hinting is not binding. It's just a hint, so there's nothing preventing the programmer from passing something they shouldn't. This is Python after all. You can read the type hinting specification in PEP 484 or you can just read the theory behind it in PEP 483.\n",
    "\n",
    "Let's take a look at a simple example:"
   ]
  },
  {
   "cell_type": "code",
   "execution_count": 1,
   "metadata": {},
   "outputs": [
    {
     "name": "stdout",
     "output_type": "stream",
     "text": [
      "Mike entered 13\n",
      "None\n"
     ]
    }
   ],
   "source": [
    "def some_function(number: int, name: str) -> None:\n",
    "    print(\"%s entered %s\" %(name, number))\n",
    "    \n",
    "print(some_function(13, 'Mike'))"
   ]
  },
  {
   "cell_type": "markdown",
   "metadata": {},
   "source": [
    "This means that **some_function** expects two arguments where the first is an interger and the second is a string. It should also be noted that we have hinted that this function return None.\n",
    "\n",
    "Let's back up a bit and write a function the normal way. Then we'll add type hinting to it. In the following example, we have function that takes list and a name, which in this case would be a string. All it does is check if the name is in the list and return an appropriate Boolean."
   ]
  },
  {
   "cell_type": "code",
   "execution_count": 2,
   "metadata": {},
   "outputs": [
    {
     "name": "stdout",
     "output_type": "stream",
     "text": [
      "True\n",
      "False\n"
     ]
    }
   ],
   "source": [
    "def process_data(my_list, name):\n",
    "    if name in my_list:\n",
    "        return True\n",
    "    else:\n",
    "        return False\n",
    "    \n",
    "if __name__=='__main__':\n",
    "    my_list = ['Mike','Nick','Toby']\n",
    "    print(process_data(my_list, 'Mike'))\n",
    "    print(process_data(my_list, 'John'))\n"
   ]
  },
  {
   "cell_type": "markdown",
   "metadata": {},
   "source": [
    "Now let's add type hinting to this function:"
   ]
  },
  {
   "cell_type": "code",
   "execution_count": 5,
   "metadata": {},
   "outputs": [
    {
     "name": "stdout",
     "output_type": "stream",
     "text": [
      "True\n",
      "False\n"
     ]
    }
   ],
   "source": [
    "def process_data(my_list: list, name: str) -> bool:\n",
    "    return name in my_list\n",
    "\n",
    "if __name__ == \"__main__\":\n",
    "    my_list = ['Mike','Nick','Toby']\n",
    "    print(process_data(my_list, 'Mike'))\n",
    "    print(process_data(my_list, 'John'))"
   ]
  },
  {
   "cell_type": "markdown",
   "metadata": {},
   "source": [
    "In this code we hint that the first argument is a list, the second is a string and the return value is a Boolean.\n",
    "\n",
    "According to PEP 484,\"Type hints may be built-in classes(including those defined in standard library or third party extension modules), abstract base classed, types available in the types module, and user-defined classess\". So that means we can create our own class and add a hint."
   ]
  },
  {
   "cell_type": "code",
   "execution_count": 6,
   "metadata": {},
   "outputs": [
    {
     "name": "stdout",
     "output_type": "stream",
     "text": [
      "orange\n",
      "apple\n"
     ]
    }
   ],
   "source": [
    "class Fruit:\n",
    "    def __init__(self, name, color):\n",
    "        self.name = name\n",
    "        self.color = color\n",
    "        \n",
    "def salad(fruit_one: Fruit, fruit_two: Fruit) -> list:\n",
    "    print(fruit_one.name)\n",
    "    print(fruit_two.name)\n",
    "    return [fruit_one, fruit_two]\n",
    "\n",
    "if __name__ == '__main__':\n",
    "    f = Fruit('orange', 'orange')\n",
    "    f2 = Fruit('apple', 'red')\n",
    "    salad(f,f2)"
   ]
  },
  {
   "cell_type": "markdown",
   "metadata": {},
   "source": [
    "Here we create a simple class and then a function that expects two instances of that class and return a list object. The other topic that I though was interesting is that you can create an Alias. Here's a super simple example:"
   ]
  },
  {
   "cell_type": "code",
   "execution_count": 7,
   "metadata": {},
   "outputs": [
    {
     "name": "stdout",
     "output_type": "stream",
     "text": [
      "The zoo has 10 Zebras\n"
     ]
    }
   ],
   "source": [
    "Animal = str\n",
    "\n",
    "def zoo(animal: Animal, number: int) -> None:\n",
    "    print(\"The zoo has %s %s\" %(number,animal))\n",
    "    \n",
    "if __name__ == '__main__':\n",
    "    zoo('Zebras', 10)"
   ]
  },
  {
   "cell_type": "markdown",
   "metadata": {},
   "source": [
    "We just aliased the **string** type with the variable **Animal**. Then we added a hint to our function using the Animal alias."
   ]
  },
  {
   "cell_type": "markdown",
   "metadata": {},
   "source": [
    "### Type Hints and Overloaded Functions\n",
    "\n",
    "Onve obvious place in your code that I think Type Hints would work great in are overloaded functions. We learned about function overloads back in Chapter 4. Let's grab the overloaded adding function from that chapter and take a look at how much better it will be with type hints. "
   ]
  },
  {
   "cell_type": "code",
   "execution_count": 8,
   "metadata": {},
   "outputs": [
    {
     "ename": "IndentationError",
     "evalue": "unexpected indent (<ipython-input-8-042fd89c5f47>, line 18)",
     "output_type": "error",
     "traceback": [
      "\u001b[1;36m  File \u001b[1;32m\"<ipython-input-8-042fd89c5f47>\"\u001b[1;36m, line \u001b[1;32m18\u001b[0m\n\u001b[1;33m    print(\"First argument is of type\", type(a))\u001b[0m\n\u001b[1;37m    ^\u001b[0m\n\u001b[1;31mIndentationError\u001b[0m\u001b[1;31m:\u001b[0m unexpected indent\n"
     ]
    }
   ],
   "source": [
    "from functools import singledispatch\n",
    "\n",
    "@singledispatch\n",
    "def add(a,b):\n",
    "    raise NotImplementedError('Unsupported type')\n",
    "    \n",
    "@add.register(int)\n",
    "def _(a,b):\n",
    "    print(\"First argumet is of type\", type(a))\n",
    "    print(a+b)\n",
    "    \n",
    "@add.register(str)\n",
    "def _(a,b):\n",
    "    print(\"First argument is of type\", type(a))\n",
    "    print(a+b)\n",
    "    \n",
    "@add.register(list)\n",
    "    print(\"First argument is of type\", type(a))\n",
    "    print(a + b)"
   ]
  },
  {
   "cell_type": "markdown",
   "metadata": {},
   "source": [
    "This example’s first argument is pretty obvious if you understand how Python’s function overloads work. But what we don’t know is what the second argument is supposed to be. We can infer it, but in Python it is almost always best to be explicit rather than implicit. So let’s add some type hints:"
   ]
  },
  {
   "cell_type": "code",
   "execution_count": 9,
   "metadata": {},
   "outputs": [],
   "source": [
    "from functools import singledispatch\n",
    "\n",
    "\n",
    "@singledispatch\n",
    "def add(a, b):\n",
    "    raise NotImplementedError('Unsupported type')\n",
    "\n",
    "\n",
    "@add.register(int)\n",
    "def _(a: int, b: int) -> int:\n",
    "    print(\"First argument is of type \", type(a))\n",
    "    print(a + b)\n",
    "    return a + b\n",
    "\n",
    "\n",
    "@add.register(str)\n",
    "def _(a: str, b: str) -> str:\n",
    "    print(\"First argument is of type \", type(a))\n",
    "    print(a + b)\n",
    "    return a + b\n",
    "\n",
    "\n",
    "@add.register(list)\n",
    "def _(a: list, b: list) -> list:\n",
    "    print(\"First argument is of type \", type(a))\n",
    "    print(a + b)\n",
    "    return a + b"
   ]
  },
  {
   "cell_type": "markdown",
   "metadata": {},
   "source": [
    "Now that we’ve added some type hints, we can tell just by looking at the function definition what the arguments should be. Before type hints were added, you would have needed to mention the argument types in the function’s docstring, but because we have these handy hints, we don’t need to clutter our docstring with that kind of information any longer.\n",
    "\n",
    "I have worked with some poorly documented Python code before and even if it only had type hints in the function and method definitions the code would have been much easier to figure out. Type hints aren’t a replacement for good documentation, but they do enhance our ability to understand our code in the future."
   ]
  },
  {
   "cell_type": "code",
   "execution_count": null,
   "metadata": {},
   "outputs": [],
   "source": []
  }
 ],
 "metadata": {
  "kernelspec": {
   "display_name": "Python 3",
   "language": "python",
   "name": "python3"
  },
  "language_info": {
   "codemirror_mode": {
    "name": "ipython",
    "version": 3
   },
   "file_extension": ".py",
   "mimetype": "text/x-python",
   "name": "python",
   "nbconvert_exporter": "python",
   "pygments_lexer": "ipython3",
   "version": "3.7.6"
  }
 },
 "nbformat": 4,
 "nbformat_minor": 4
}
