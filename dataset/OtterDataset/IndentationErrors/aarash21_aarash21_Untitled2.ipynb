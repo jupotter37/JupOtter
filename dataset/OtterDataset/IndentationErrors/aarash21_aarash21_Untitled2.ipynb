{
  "nbformat": 4,
  "nbformat_minor": 0,
  "metadata": {
    "colab": {
      "provenance": [],
      "authorship_tag": "ABX9TyNNcrvvgfsnLEr4SFnvn9hT",
      "include_colab_link": true
    },
    "kernelspec": {
      "name": "python3",
      "display_name": "Python 3"
    },
    "language_info": {
      "name": "python"
    }
  },
  "cells": [
    {
      "cell_type": "markdown",
      "metadata": {
        "id": "view-in-github",
        "colab_type": "text"
      },
      "source": [
        "<a href=\"https://colab.research.google.com/github/aarash21/aarash21/blob/main/Untitled2.ipynb\" target=\"_parent\"><img src=\"https://colab.research.google.com/assets/colab-badge.svg\" alt=\"Open In Colab\"/></a>"
      ]
    },
    {
      "cell_type": "code",
      "execution_count": null,
      "metadata": {
        "colab": {
          "base_uri": "https://localhost:8080/"
        },
        "id": "W7SiCfGYne1i",
        "outputId": "5d512462-7846-4543-b768-3e6237e0cb23"
      },
      "outputs": [
        {
          "output_type": "execute_result",
          "data": {
            "text/plain": [
              "['w',\n",
              " 'e',\n",
              " 'l',\n",
              " 'c',\n",
              " 'o',\n",
              " 'o',\n",
              " 'm',\n",
              " 'e',\n",
              " ' ',\n",
              " 't',\n",
              " 'o',\n",
              " ' ',\n",
              " 'p',\n",
              " 'y',\n",
              " 't',\n",
              " 'h',\n",
              " 'o',\n",
              " 'n']"
            ]
          },
          "metadata": {},
          "execution_count": 1
        }
      ],
      "source": [
        "str_1 = \"welcoome to python\"\n",
        "list_1= [i for i in str_1]\n",
        "list_1"
      ]
    },
    {
      "cell_type": "code",
      "source": [
        "list_2= [i for i in range(20)]\n",
        "list_2"
      ],
      "metadata": {
        "colab": {
          "base_uri": "https://localhost:8080/"
        },
        "id": "eg18Sb5sqExg",
        "outputId": "3277cff3-ab58-4cec-f762-c17ad3ed85ff"
      },
      "execution_count": null,
      "outputs": [
        {
          "output_type": "execute_result",
          "data": {
            "text/plain": [
              "[0, 1, 2, 3, 4, 5, 6, 7, 8, 9, 10, 11, 12, 13, 14, 15, 16, 17, 18, 19]"
            ]
          },
          "metadata": {},
          "execution_count": 2
        }
      ]
    },
    {
      "cell_type": "code",
      "source": [
        "list_3= [i for i in range(20) if i%2 ==0]\n",
        "list_3"
      ],
      "metadata": {
        "colab": {
          "base_uri": "https://localhost:8080/"
        },
        "id": "6MqLH6hUqhBT",
        "outputId": "bfe2c20b-d7a6-4894-bcdc-46e68eff3103"
      },
      "execution_count": null,
      "outputs": [
        {
          "output_type": "execute_result",
          "data": {
            "text/plain": [
              "[0, 2, 4, 6, 8, 10, 12, 14, 16, 18]"
            ]
          },
          "metadata": {},
          "execution_count": 5
        }
      ]
    },
    {
      "cell_type": "markdown",
      "source": [
        "**write a program to create a list to display numbers from 1-100 and displays those numbers as odd or even**"
      ],
      "metadata": {
        "id": "RBCRfNU0rDse"
      }
    },
    {
      "cell_type": "code",
      "source": [
        "odd= [i for i in range(101) if i%2==1 ]\n",
        "even= [i for i in range(101) if i%2==0]\n",
        "print(odd)\n",
        "print(even)"
      ],
      "metadata": {
        "colab": {
          "base_uri": "https://localhost:8080/"
        },
        "id": "hhO_VCstrRJd",
        "outputId": "f93b161a-d95a-49db-e350-49b95e287909"
      },
      "execution_count": null,
      "outputs": [
        {
          "output_type": "stream",
          "name": "stdout",
          "text": [
            "[1, 3, 5, 7, 9, 11, 13, 15, 17, 19, 21, 23, 25, 27, 29, 31, 33, 35, 37, 39, 41, 43, 45, 47, 49, 51, 53, 55, 57, 59, 61, 63, 65, 67, 69, 71, 73, 75, 77, 79, 81, 83, 85, 87, 89, 91, 93, 95, 97, 99]\n",
            "[0, 2, 4, 6, 8, 10, 12, 14, 16, 18, 20, 22, 24, 26, 28, 30, 32, 34, 36, 38, 40, 42, 44, 46, 48, 50, 52, 54, 56, 58, 60, 62, 64, 66, 68, 70, 72, 74, 76, 78, 80, 82, 84, 86, 88, 90, 92, 94, 96, 98, 100]\n"
          ]
        }
      ]
    },
    {
      "cell_type": "code",
      "source": [
        "str_num= [1,'one',2,'two',3,'three',4,'four',5,'five',6,'six',7,'seven']\n",
        "list_num= [i for i in str_num if i.isdigit()]\n",
        "print(list_num)"
      ],
      "metadata": {
        "colab": {
          "base_uri": "https://localhost:8080/",
          "height": 297
        },
        "id": "oLqcRNVoufQW",
        "outputId": "33a2c07c-901f-40ea-ff02-110629114826"
      },
      "execution_count": null,
      "outputs": [
        {
          "output_type": "error",
          "ename": "AttributeError",
          "evalue": "'int' object has no attribute 'isdigit'",
          "traceback": [
            "\u001b[0;31m---------------------------------------------------------------------------\u001b[0m",
            "\u001b[0;31mAttributeError\u001b[0m                            Traceback (most recent call last)",
            "\u001b[0;32m<ipython-input-12-78111edbbdac>\u001b[0m in \u001b[0;36m<cell line: 2>\u001b[0;34m()\u001b[0m\n\u001b[1;32m      1\u001b[0m \u001b[0mstr_num\u001b[0m\u001b[0;34m=\u001b[0m \u001b[0;34m[\u001b[0m\u001b[0;36m1\u001b[0m\u001b[0;34m,\u001b[0m\u001b[0;34m'one'\u001b[0m\u001b[0;34m,\u001b[0m\u001b[0;36m2\u001b[0m\u001b[0;34m,\u001b[0m\u001b[0;34m'two'\u001b[0m\u001b[0;34m,\u001b[0m\u001b[0;36m3\u001b[0m\u001b[0;34m,\u001b[0m\u001b[0;34m'three'\u001b[0m\u001b[0;34m,\u001b[0m\u001b[0;36m4\u001b[0m\u001b[0;34m,\u001b[0m\u001b[0;34m'four'\u001b[0m\u001b[0;34m,\u001b[0m\u001b[0;36m5\u001b[0m\u001b[0;34m,\u001b[0m\u001b[0;34m'five'\u001b[0m\u001b[0;34m,\u001b[0m\u001b[0;36m6\u001b[0m\u001b[0;34m,\u001b[0m\u001b[0;34m'six'\u001b[0m\u001b[0;34m,\u001b[0m\u001b[0;36m7\u001b[0m\u001b[0;34m,\u001b[0m\u001b[0;34m'seven'\u001b[0m\u001b[0;34m]\u001b[0m\u001b[0;34m\u001b[0m\u001b[0;34m\u001b[0m\u001b[0m\n\u001b[0;32m----> 2\u001b[0;31m \u001b[0mlist_num\u001b[0m\u001b[0;34m=\u001b[0m \u001b[0;34m[\u001b[0m\u001b[0mi\u001b[0m \u001b[0;32mfor\u001b[0m \u001b[0mi\u001b[0m \u001b[0;32min\u001b[0m \u001b[0mstr_num\u001b[0m \u001b[0;32mif\u001b[0m \u001b[0mi\u001b[0m\u001b[0;34m.\u001b[0m\u001b[0misdigit\u001b[0m\u001b[0;34m(\u001b[0m\u001b[0;34m)\u001b[0m\u001b[0;34m]\u001b[0m\u001b[0;34m\u001b[0m\u001b[0;34m\u001b[0m\u001b[0m\n\u001b[0m\u001b[1;32m      3\u001b[0m \u001b[0mprint\u001b[0m\u001b[0;34m(\u001b[0m\u001b[0mlist_num\u001b[0m\u001b[0;34m)\u001b[0m\u001b[0;34m\u001b[0m\u001b[0;34m\u001b[0m\u001b[0m\n",
            "\u001b[0;32m<ipython-input-12-78111edbbdac>\u001b[0m in \u001b[0;36m<listcomp>\u001b[0;34m(.0)\u001b[0m\n\u001b[1;32m      1\u001b[0m \u001b[0mstr_num\u001b[0m\u001b[0;34m=\u001b[0m \u001b[0;34m[\u001b[0m\u001b[0;36m1\u001b[0m\u001b[0;34m,\u001b[0m\u001b[0;34m'one'\u001b[0m\u001b[0;34m,\u001b[0m\u001b[0;36m2\u001b[0m\u001b[0;34m,\u001b[0m\u001b[0;34m'two'\u001b[0m\u001b[0;34m,\u001b[0m\u001b[0;36m3\u001b[0m\u001b[0;34m,\u001b[0m\u001b[0;34m'three'\u001b[0m\u001b[0;34m,\u001b[0m\u001b[0;36m4\u001b[0m\u001b[0;34m,\u001b[0m\u001b[0;34m'four'\u001b[0m\u001b[0;34m,\u001b[0m\u001b[0;36m5\u001b[0m\u001b[0;34m,\u001b[0m\u001b[0;34m'five'\u001b[0m\u001b[0;34m,\u001b[0m\u001b[0;36m6\u001b[0m\u001b[0;34m,\u001b[0m\u001b[0;34m'six'\u001b[0m\u001b[0;34m,\u001b[0m\u001b[0;36m7\u001b[0m\u001b[0;34m,\u001b[0m\u001b[0;34m'seven'\u001b[0m\u001b[0;34m]\u001b[0m\u001b[0;34m\u001b[0m\u001b[0;34m\u001b[0m\u001b[0m\n\u001b[0;32m----> 2\u001b[0;31m \u001b[0mlist_num\u001b[0m\u001b[0;34m=\u001b[0m \u001b[0;34m[\u001b[0m\u001b[0mi\u001b[0m \u001b[0;32mfor\u001b[0m \u001b[0mi\u001b[0m \u001b[0;32min\u001b[0m \u001b[0mstr_num\u001b[0m \u001b[0;32mif\u001b[0m \u001b[0mi\u001b[0m\u001b[0;34m.\u001b[0m\u001b[0misdigit\u001b[0m\u001b[0;34m(\u001b[0m\u001b[0;34m)\u001b[0m\u001b[0;34m]\u001b[0m\u001b[0;34m\u001b[0m\u001b[0;34m\u001b[0m\u001b[0m\n\u001b[0m\u001b[1;32m      3\u001b[0m \u001b[0mprint\u001b[0m\u001b[0;34m(\u001b[0m\u001b[0mlist_num\u001b[0m\u001b[0;34m)\u001b[0m\u001b[0;34m\u001b[0m\u001b[0;34m\u001b[0m\u001b[0m\n",
            "\u001b[0;31mAttributeError\u001b[0m: 'int' object has no attribute 'isdigit'"
          ]
        }
      ]
    },
    {
      "cell_type": "code",
      "source": [
        "str_1= \"hello\"\n",
        "str_2= \"world\"\n",
        "str_1= str_1 + str_2\n",
        "print(str_1)"
      ],
      "metadata": {
        "colab": {
          "base_uri": "https://localhost:8080/"
        },
        "id": "qx4tILuizBOm",
        "outputId": "be716971-bed9-4115-f002-0c7cc74d2f8f"
      },
      "execution_count": null,
      "outputs": [
        {
          "output_type": "stream",
          "name": "stdout",
          "text": [
            "helloworld\n"
          ]
        }
      ]
    },
    {
      "cell_type": "code",
      "source": [
        "a= (1,2,3,4,5,6,)\n",
        "for i in enumerate(a):\n",
        "  print(i)\n",
        "\n",
        "b= { sapid : 500125536\n",
        "    dept : \"socs\"\n",
        "    university : \"upes\"}\n"
      ],
      "metadata": {
        "colab": {
          "base_uri": "https://localhost:8080/",
          "height": 140
        },
        "id": "RxKHyQL90ok2",
        "outputId": "1b7ca0e5-7941-42eb-db17-64e2f1ba66b2"
      },
      "execution_count": null,
      "outputs": [
        {
          "output_type": "error",
          "ename": "SyntaxError",
          "evalue": "invalid syntax. Perhaps you forgot a comma? (<ipython-input-24-c97f8ad4d60a>, line 5)",
          "traceback": [
            "\u001b[0;36m  File \u001b[0;32m\"<ipython-input-24-c97f8ad4d60a>\"\u001b[0;36m, line \u001b[0;32m5\u001b[0m\n\u001b[0;31m    b= { sapid : 500125536\u001b[0m\n\u001b[0m                 ^\u001b[0m\n\u001b[0;31mSyntaxError\u001b[0m\u001b[0;31m:\u001b[0m invalid syntax. Perhaps you forgot a comma?\n"
          ]
        }
      ]
    },
    {
      "cell_type": "markdown",
      "source": [
        "**write a program to find the largest element in a list**"
      ],
      "metadata": {
        "id": "-1anrnX66mYs"
      }
    },
    {
      "cell_type": "code",
      "source": [
        "list1 = []\n",
        "\n",
        "num = int(input(\"Enter number of elements in list: \"))\n",
        "\n",
        "for i in range(1, num + 1):\n",
        "    a = int(input(\"Enter elements: \"))\n",
        "    list1.append(a)\n",
        "\n",
        "print(\"Largest element is:\", max(list1))"
      ],
      "metadata": {
        "colab": {
          "base_uri": "https://localhost:8080/"
        },
        "id": "ai_-KRp36-3d",
        "outputId": "1786ee98-9a45-4f59-9d22-7b30f6c6e2ca"
      },
      "execution_count": null,
      "outputs": [
        {
          "output_type": "stream",
          "name": "stdout",
          "text": [
            "Enter number of elements in list: 2\n",
            "Enter elements: 18\n",
            "Enter elements: 7\n",
            "Largest element is: 18\n"
          ]
        }
      ]
    },
    {
      "cell_type": "markdown",
      "source": [
        "**write a python program to create a list of prime numbers from 1-100**"
      ],
      "metadata": {
        "id": "CRSaMDz2C1Cz"
      }
    },
    {
      "cell_type": "code",
      "source": [
        "    for i in range(2,101):\n",
        "    for j in range(2,101):\n",
        "        if i%j == 0:\n",
        "            break\n",
        "        if i == j:\n",
        "    print(i,end=\",\")\n",
        ""
      ],
      "metadata": {
        "colab": {
          "base_uri": "https://localhost:8080/",
          "height": 140
        },
        "id": "umo7k7X0DGf5",
        "outputId": "0f2a4c87-1ec0-4c98-8af4-8ca7ad1772b3"
      },
      "execution_count": 11,
      "outputs": [
        {
          "output_type": "error",
          "ename": "IndentationError",
          "evalue": "expected an indented block after 'for' statement on line 1 (<ipython-input-11-d89386753f39>, line 2)",
          "traceback": [
            "\u001b[0;36m  File \u001b[0;32m\"<ipython-input-11-d89386753f39>\"\u001b[0;36m, line \u001b[0;32m2\u001b[0m\n\u001b[0;31m    for j in range(2,101):\u001b[0m\n\u001b[0m    ^\u001b[0m\n\u001b[0;31mIndentationError\u001b[0m\u001b[0;31m:\u001b[0m expected an indented block after 'for' statement on line 1\n"
          ]
        }
      ]
    },
    {
      "cell_type": "markdown",
      "source": [
        "** Write a python code to swap first and last element of list**\n"
      ],
      "metadata": {
        "id": "48uVq3maE_UP"
      }
    },
    {
      "cell_type": "code",
      "source": [
        "list = []\n",
        "n = int(input(\"Enter the number of elements in list:\"))\n",
        "for x in range(0, n):\n",
        "    element = input(\"Enter element:\")\n",
        "    list.append(element)\n",
        "\n",
        "print(\"Your current list is:\", list)\n",
        "temp = list[0]\n",
        "list[0] = list[n-1]\n",
        "list[n-1] = temp\n",
        "print(\"New list is:\", list)"
      ],
      "metadata": {
        "colab": {
          "base_uri": "https://localhost:8080/"
        },
        "id": "7-xPB-o0GIup",
        "outputId": "d286af3e-a211-4edf-e133-e85a9d64ce62"
      },
      "execution_count": 2,
      "outputs": [
        {
          "output_type": "stream",
          "name": "stdout",
          "text": [
            "Enter the number of elements in list:5\n",
            "Enter element:2\n",
            "Enter element:4\n",
            "Enter element:6\n",
            "Enter element:8\n",
            "Enter element:10\n",
            "Your current list is: ['2', '4', '6', '8', '10']\n",
            "New list is: ['10', '4', '6', '8', '2']\n"
          ]
        }
      ]
    },
    {
      "cell_type": "markdown",
      "source": [
        "**write a program to remove duplicate from a list and sort in ascending order**"
      ],
      "metadata": {
        "id": "77zgSSItJNeF"
      }
    },
    {
      "cell_type": "code",
      "source": [
        "list = []\n",
        "n = int(input(\"Enter the number of elements in list:\"))\n",
        "for x in range(0, n):\n",
        "    element = input(\"Enter element:\")\n",
        "    list.append(element)\n",
        "\n",
        "    list.sort()\n",
        "    print(list)"
      ],
      "metadata": {
        "colab": {
          "base_uri": "https://localhost:8080/"
        },
        "id": "eu-I-jiTJXNj",
        "outputId": "1b82455d-d7e9-42d5-cc4b-0bf5669f5f3e"
      },
      "execution_count": 8,
      "outputs": [
        {
          "output_type": "stream",
          "name": "stdout",
          "text": [
            "Enter the number of elements in list:3\n",
            "Enter element:4\n",
            "['4']\n",
            "Enter element:2\n",
            "['2', '4']\n",
            "Enter element:5\n",
            "['2', '4', '5']\n"
          ]
        }
      ]
    }
  ]
}