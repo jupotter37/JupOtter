{
  "cells": [
    {
      "cell_type": "markdown",
      "metadata": {
        "id": "view-in-github",
        "colab_type": "text"
      },
      "source": [
        "<a href=\"https://colab.research.google.com/github/JeffreyAsuncion/Lambdata-JeffreyAsuncion/blob/master/DSPT6_U3S1M1_JeffreyAsuncion.ipynb\" target=\"_parent\"><img src=\"https://colab.research.google.com/assets/colab-badge.svg\" alt=\"Open In Colab\"/></a>"
      ]
    },
    {
      "cell_type": "markdown",
      "metadata": {
        "id": "xRrcwL2tCAfA",
        "colab_type": "text"
      },
      "source": [
        "#Github for assignment TestPyPI Package\n",
        "\n",
        "https://github.com/JeffreyAsuncion/Lambdata-JeffreyAsuncion"
      ]
    },
    {
      "cell_type": "code",
      "metadata": {
        "id": "yO1js5T1n7Ek",
        "colab_type": "code",
        "colab": {
          "base_uri": "https://localhost:8080/",
          "height": 54
        },
        "outputId": "3e70be68-864b-4267-8622-1f88df44ce61"
      },
      "source": [
        "!pip install -i https://test.pypi.org/simple/ lambdata-jeffreyasuncion==0.0.14"
      ],
      "execution_count": 1,
      "outputs": [
        {
          "output_type": "stream",
          "text": [
            "Looking in indexes: https://test.pypi.org/simple/\n",
            "Requirement already satisfied: lambdata-jeffreyasuncion==0.0.12 in /usr/local/lib/python3.6/dist-packages (0.0.12)\n"
          ],
          "name": "stdout"
        }
      ]
    },
    {
      "cell_type": "markdown",
      "metadata": {
        "id": "aNVf2HNoDo31",
        "colab_type": "text"
      },
      "source": [
        "Class Notes\n",
        "\n",
        "https://github.com/JeffreyAsuncion/lambda-ds-3-1/blob/master/notes/class-1.md\n",
        "\n",
        "GitHub for Package\n",
        "\n",
        "https://github.com/JeffreyAsuncion/Lambdata-JeffreyAsuncion"
      ]
    },
    {
      "cell_type": "code",
      "metadata": {
        "id": "TYz1WswfT04g",
        "colab_type": "code",
        "colab": {}
      },
      "source": [
        "# package/\n",
        "#     __init__.py\n",
        "#     subpackage1/\n",
        "#         __init__.py\n",
        "#         moduleX.py\n",
        "#         moduleY.py\n",
        "#     subpackage2/\n",
        "#         __init__.py\n",
        "#         moduleZ.py\n",
        "#     moduleA.py"
      ],
      "execution_count": null,
      "outputs": []
    },
    {
      "cell_type": "code",
      "metadata": {
        "id": "dIvGUWtZ_qdA",
        "colab_type": "code",
        "colab": {}
      },
      "source": [
        "import pandas as pd"
      ],
      "execution_count": 2,
      "outputs": []
    },
    {
      "cell_type": "markdown",
      "metadata": {
        "id": "5Rk3ztRaBQnL",
        "colab_type": "text"
      },
      "source": [
        "#Import Assignment U3S1M1 package"
      ]
    },
    {
      "cell_type": "code",
      "metadata": {
        "id": "GD-yDdNSn_K1",
        "colab_type": "code",
        "colab": {}
      },
      "source": [
        "import my_lambdata"
      ],
      "execution_count": 3,
      "outputs": []
    },
    {
      "cell_type": "code",
      "metadata": {
        "id": "wwk_cQKgUKXg",
        "colab_type": "code",
        "colab": {
          "base_uri": "https://localhost:8080/",
          "height": 135
        },
        "outputId": "fe3f365e-9fc6-4ece-9f2f-e038c822065e"
      },
      "source": [
        "from my_lambdata.ds_utilities import enlarge\n",
        "from my_lambdata.ds_utilities import states_abbr_to_full\n",
        "from my_lambdata.ds_utilities import states_full_to_abbr\n",
        "from my_lambdata.ds_utilities import train_val_test\n",
        "from my_lambdata.ds_utilities_class import Ds_utilities_class"
      ],
      "execution_count": 14,
      "outputs": [
        {
          "output_type": "error",
          "ename": "IndentationError",
          "evalue": "ignored",
          "traceback": [
            "\u001b[0;36m  File \u001b[0;32m\"/usr/local/lib/python3.6/dist-packages/my_lambdata/ds_utilities_class.py\"\u001b[0;36m, line \u001b[0;32m10\u001b[0m\n\u001b[0;31m    def enlarge(self, n):\u001b[0m\n\u001b[0m      ^\u001b[0m\n\u001b[0;31mIndentationError\u001b[0m\u001b[0;31m:\u001b[0m expected an indented block\n"
          ]
        }
      ]
    },
    {
      "cell_type": "markdown",
      "metadata": {
        "id": "iU4-Kd7yBK5U",
        "colab_type": "text"
      },
      "source": [
        "#Example from Class"
      ]
    },
    {
      "cell_type": "code",
      "metadata": {
        "id": "SaLD2pj-UKOd",
        "colab_type": "code",
        "colab": {
          "base_uri": "https://localhost:8080/",
          "height": 35
        },
        "outputId": "53dd660c-1a13-465f-f2ed-ae1623e8a030"
      },
      "source": [
        "enlarge(8)"
      ],
      "execution_count": 5,
      "outputs": [
        {
          "output_type": "execute_result",
          "data": {
            "text/plain": [
              "800"
            ]
          },
          "metadata": {
            "tags": []
          },
          "execution_count": 5
        }
      ]
    },
    {
      "cell_type": "markdown",
      "metadata": {
        "id": "TczXUDJlBGjt",
        "colab_type": "text"
      },
      "source": [
        "# State abbreviation -> Full Name and visa versa. FL -> Florida, etc. (Handle Washington DC and territories like Puerto Rico etc.)"
      ]
    },
    {
      "cell_type": "code",
      "metadata": {
        "id": "JYXuriQJUJ_B",
        "colab_type": "code",
        "colab": {
          "base_uri": "https://localhost:8080/",
          "height": 35
        },
        "outputId": "69be256b-93ad-43a9-ec51-2f4f53d31753"
      },
      "source": [
        "states_abbr_to_full(\"NJ\")"
      ],
      "execution_count": 6,
      "outputs": [
        {
          "output_type": "execute_result",
          "data": {
            "application/vnd.google.colaboratory.intrinsic": {
              "type": "string"
            },
            "text/plain": [
              "'New Jersey'"
            ]
          },
          "metadata": {
            "tags": []
          },
          "execution_count": 6
        }
      ]
    },
    {
      "cell_type": "code",
      "metadata": {
        "id": "N1oCyr84WuMc",
        "colab_type": "code",
        "colab": {
          "base_uri": "https://localhost:8080/",
          "height": 35
        },
        "outputId": "e26cc1b9-f12a-4b8d-de52-aba06e7bc0b0"
      },
      "source": [
        "states_full_to_abbr(\"New York\")"
      ],
      "execution_count": 7,
      "outputs": [
        {
          "output_type": "execute_result",
          "data": {
            "application/vnd.google.colaboratory.intrinsic": {
              "type": "string"
            },
            "text/plain": [
              "'NY'"
            ]
          },
          "metadata": {
            "tags": []
          },
          "execution_count": 7
        }
      ]
    },
    {
      "cell_type": "markdown",
      "metadata": {
        "id": "N7Pq8J6sA8g4",
        "colab_type": "text"
      },
      "source": [
        "# Train/validate/test split function for a dataframe"
      ]
    },
    {
      "cell_type": "code",
      "metadata": {
        "id": "odcWAWbjoMcN",
        "colab_type": "code",
        "colab": {}
      },
      "source": [
        "df = pd.read_csv('https://storage.googleapis.com/tf-datasets/titanic/train.csv')"
      ],
      "execution_count": 8,
      "outputs": []
    },
    {
      "cell_type": "code",
      "metadata": {
        "id": "BgrZRosBsIW8",
        "colab_type": "code",
        "colab": {
          "base_uri": "https://localhost:8080/",
          "height": 35
        },
        "outputId": "d96474cd-3239-447f-96a7-bcaafa666a44"
      },
      "source": [
        "df.shape"
      ],
      "execution_count": 9,
      "outputs": [
        {
          "output_type": "execute_result",
          "data": {
            "text/plain": [
              "(627, 10)"
            ]
          },
          "metadata": {
            "tags": []
          },
          "execution_count": 9
        }
      ]
    },
    {
      "cell_type": "code",
      "metadata": {
        "id": "u7CTbiQj8KtT",
        "colab_type": "code",
        "colab": {}
      },
      "source": [
        "train, val, test = train_val_test(df)"
      ],
      "execution_count": 10,
      "outputs": []
    },
    {
      "cell_type": "code",
      "metadata": {
        "id": "03zzsNqn8POK",
        "colab_type": "code",
        "colab": {
          "base_uri": "https://localhost:8080/",
          "height": 35
        },
        "outputId": "97f0030a-f6ba-41a0-83d8-ecc16f3c200f"
      },
      "source": [
        "train.shape, val.shape, test.shape"
      ],
      "execution_count": 11,
      "outputs": [
        {
          "output_type": "execute_result",
          "data": {
            "text/plain": [
              "((501, 10), (63, 10), (63, 10))"
            ]
          },
          "metadata": {
            "tags": []
          },
          "execution_count": 11
        }
      ]
    },
    {
      "cell_type": "markdown",
      "metadata": {
        "id": "bA4LLWo3APBm",
        "colab_type": "text"
      },
      "source": [
        "#Instantiate the class and call the methods"
      ]
    },
    {
      "cell_type": "code",
      "metadata": {
        "id": "RX_5TG1cA7Lr",
        "colab_type": "code",
        "colab": {}
      },
      "source": [
        ""
      ],
      "execution_count": null,
      "outputs": []
    },
    {
      "cell_type": "code",
      "metadata": {
        "id": "HUQl1V6q8n5L",
        "colab_type": "code",
        "colab": {
          "base_uri": "https://localhost:8080/",
          "height": 171
        },
        "outputId": "1acc64bd-e2db-4caf-dba6-31e8a843e846"
      },
      "source": [
        "my_class_method = Ds_utilities_class()"
      ],
      "execution_count": 13,
      "outputs": [
        {
          "output_type": "error",
          "ename": "NameError",
          "evalue": "ignored",
          "traceback": [
            "\u001b[0;31m---------------------------------------------------------------------------\u001b[0m",
            "\u001b[0;31mNameError\u001b[0m                                 Traceback (most recent call last)",
            "\u001b[0;32m<ipython-input-13-3988ad677b9c>\u001b[0m in \u001b[0;36m<module>\u001b[0;34m()\u001b[0m\n\u001b[0;32m----> 1\u001b[0;31m \u001b[0mmy_class_method\u001b[0m \u001b[0;34m=\u001b[0m \u001b[0mDs_utilities_class\u001b[0m\u001b[0;34m(\u001b[0m\u001b[0;34m)\u001b[0m\u001b[0;34m\u001b[0m\u001b[0;34m\u001b[0m\u001b[0m\n\u001b[0m",
            "\u001b[0;31mNameError\u001b[0m: name 'Ds_utilities_class' is not defined"
          ]
        }
      ]
    },
    {
      "cell_type": "code",
      "metadata": {
        "id": "whm7ZQqB8yeR",
        "colab_type": "code",
        "colab": {}
      },
      "source": [
        " "
      ],
      "execution_count": null,
      "outputs": []
    }
  ],
  "metadata": {
    "colab": {
      "name": "DSPT6_U3S1M1_JeffreyAsuncion.ipynb",
      "provenance": [],
      "collapsed_sections": [],
      "authorship_tag": "ABX9TyM2qIoZcTWmOHtI3Aryo+EP",
      "include_colab_link": true
    },
    "kernelspec": {
      "name": "python3",
      "display_name": "Python 3"
    }
  },
  "nbformat": 4,
  "nbformat_minor": 0
}