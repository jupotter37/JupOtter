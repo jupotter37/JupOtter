{
 "cells": [
  {
   "cell_type": "markdown",
   "id": "fced1cc0",
   "metadata": {},
   "source": [
    "# Module 1. Python Basics"
   ]
  },
  {
   "cell_type": "code",
   "execution_count": 1,
   "id": "b4e3d3a1",
   "metadata": {},
   "outputs": [],
   "source": [
    "# Press shift-enter to run each block"
   ]
  },
  {
   "cell_type": "code",
   "execution_count": 2,
   "id": "665eeb3b",
   "metadata": {},
   "outputs": [],
   "source": [
    "from IPython.core.interactiveshell import InteractiveShell\n",
    "InteractiveShell.ast_node_interactivity = \"all\""
   ]
  },
  {
   "cell_type": "markdown",
   "id": "25305392",
   "metadata": {},
   "source": [
    "## 1.1 Basic math operations"
   ]
  },
  {
   "cell_type": "code",
   "execution_count": 3,
   "id": "295afb2f",
   "metadata": {
    "collapsed": true
   },
   "outputs": [
    {
     "name": "stdout",
     "output_type": "stream",
     "text": [
      "7 3\n"
     ]
    },
    {
     "data": {
      "text/plain": [
       "10"
      ]
     },
     "execution_count": 3,
     "metadata": {},
     "output_type": "execute_result"
    },
    {
     "data": {
      "text/plain": [
       "2.5"
      ]
     },
     "execution_count": 3,
     "metadata": {},
     "output_type": "execute_result"
    },
    {
     "data": {
      "text/plain": [
       "2"
      ]
     },
     "execution_count": 3,
     "metadata": {},
     "output_type": "execute_result"
    },
    {
     "data": {
      "text/plain": [
       "25"
      ]
     },
     "execution_count": 3,
     "metadata": {},
     "output_type": "execute_result"
    },
    {
     "data": {
      "text/plain": [
       "1"
      ]
     },
     "execution_count": 3,
     "metadata": {},
     "output_type": "execute_result"
    }
   ],
   "source": [
    "# Run these basic examples on your machine\n",
    "print(5+2, 5-2)\n",
    "5*2\n",
    "5/2\n",
    "5//2 #integer division\n",
    "5**2 #5 squared\n",
    "5%2 #modulus"
   ]
  },
  {
   "cell_type": "code",
   "execution_count": 4,
   "id": "db67e7d8",
   "metadata": {
    "collapsed": true
   },
   "outputs": [
    {
     "data": {
      "text/plain": [
       "-5.0"
      ]
     },
     "execution_count": 4,
     "metadata": {},
     "output_type": "execute_result"
    },
    {
     "data": {
      "text/plain": [
       "9"
      ]
     },
     "execution_count": 4,
     "metadata": {},
     "output_type": "execute_result"
    },
    {
     "data": {
      "text/plain": [
       "10"
      ]
     },
     "execution_count": 4,
     "metadata": {},
     "output_type": "execute_result"
    }
   ],
   "source": [
    "# Remember your order of operations (when in doubt, use parentheses)\n",
    "(100 - 5 ** 3) / 5\n",
    "6 + 15 % 4 \n",
    "2 ** 2 + 24 // 4"
   ]
  },
  {
   "cell_type": "code",
   "execution_count": 5,
   "id": "bcace07e",
   "metadata": {
    "collapsed": true
   },
   "outputs": [
    {
     "data": {
      "text/plain": [
       "11"
      ]
     },
     "execution_count": 5,
     "metadata": {},
     "output_type": "execute_result"
    },
    {
     "data": {
      "text/plain": [
       "11"
      ]
     },
     "execution_count": 5,
     "metadata": {},
     "output_type": "execute_result"
    }
   ],
   "source": [
    "# Spacing can improve readability (but doesn't change the result)\n",
    "6+5\n",
    "6 + 5"
   ]
  },
  {
   "cell_type": "markdown",
   "id": "e42fcb38",
   "metadata": {},
   "source": [
    "## 1.2 Major data types (integer, float, string)"
   ]
  },
  {
   "cell_type": "code",
   "execution_count": 6,
   "id": "538d1737",
   "metadata": {
    "collapsed": true
   },
   "outputs": [
    {
     "name": "stdout",
     "output_type": "stream",
     "text": [
      "3\n",
      "3\n",
      "3.0\n",
      "<class 'str'>\n",
      "<class 'int'>\n"
     ]
    }
   ],
   "source": [
    "# major data types\n",
    "x = str(3)    # x will be '3'\n",
    "y = int(3)    # y will be 3\n",
    "z = float(3)  # z will be 3.0\n",
    "\n",
    "print(x)\n",
    "print(y)\n",
    "print(z)\n",
    "print(type(x))\n",
    "print(type(y))"
   ]
  },
  {
   "cell_type": "code",
   "execution_count": 7,
   "id": "7e4fc4a8",
   "metadata": {
    "collapsed": true
   },
   "outputs": [
    {
     "data": {
      "text/plain": [
       "int"
      ]
     },
     "execution_count": 7,
     "metadata": {},
     "output_type": "execute_result"
    },
    {
     "data": {
      "text/plain": [
       "float"
      ]
     },
     "execution_count": 7,
     "metadata": {},
     "output_type": "execute_result"
    },
    {
     "data": {
      "text/plain": [
       "str"
      ]
     },
     "execution_count": 7,
     "metadata": {},
     "output_type": "execute_result"
    }
   ],
   "source": [
    "# Use type function to identify data types of variables (or values)\n",
    "type(6)\n",
    "type(6.0)\n",
    "type('6.0')"
   ]
  },
  {
   "cell_type": "code",
   "execution_count": 8,
   "id": "48ee0f7b",
   "metadata": {
    "collapsed": true
   },
   "outputs": [
    {
     "data": {
      "text/plain": [
       "8.14"
      ]
     },
     "execution_count": 8,
     "metadata": {},
     "output_type": "execute_result"
    },
    {
     "data": {
      "text/plain": [
       "float"
      ]
     },
     "execution_count": 8,
     "metadata": {},
     "output_type": "execute_result"
    }
   ],
   "source": [
    "# What happens when you add an int and float?\n",
    "5 + 3.14\n",
    "type(5 + 3.14)"
   ]
  },
  {
   "cell_type": "code",
   "execution_count": 9,
   "id": "3097474b",
   "metadata": {
    "collapsed": true
   },
   "outputs": [
    {
     "data": {
      "text/plain": [
       "7"
      ]
     },
     "execution_count": 9,
     "metadata": {},
     "output_type": "execute_result"
    },
    {
     "data": {
      "text/plain": [
       "6.0"
      ]
     },
     "execution_count": 9,
     "metadata": {},
     "output_type": "execute_result"
    }
   ],
   "source": [
    "# Convert to different types\n",
    "int(7.99999999)\n",
    "float(6)"
   ]
  },
  {
   "cell_type": "code",
   "execution_count": 10,
   "id": "5851c02f",
   "metadata": {
    "collapsed": true
   },
   "outputs": [
    {
     "name": "stdout",
     "output_type": "stream",
     "text": [
      "1 2 3\n"
     ]
    }
   ],
   "source": [
    "x = int(1)   # x will be 1\n",
    "y = int(2.8) # y will be 2\n",
    "z = int(\"3\") # z will be 3\n",
    "print(x, y, z)"
   ]
  },
  {
   "cell_type": "code",
   "execution_count": 11,
   "id": "e1477089",
   "metadata": {
    "collapsed": true
   },
   "outputs": [
    {
     "name": "stdout",
     "output_type": "stream",
     "text": [
      "<class 'float'>\n",
      "<class 'float'>\n",
      "<class 'float'>\n"
     ]
    },
    {
     "data": {
      "text/plain": [
       "(35000.0, 120000.0, -8.77e+101)"
      ]
     },
     "execution_count": 11,
     "metadata": {},
     "output_type": "execute_result"
    }
   ],
   "source": [
    "# Exponents (10 to the power)\n",
    "x = 35e3\n",
    "y = 12E4\n",
    "z = -87.7e100\n",
    "\n",
    "print(type(x))\n",
    "print(type(y))\n",
    "print(type(z))\n",
    "\n",
    "x, y, z"
   ]
  },
  {
   "cell_type": "code",
   "execution_count": 12,
   "id": "f6b45c85",
   "metadata": {
    "collapsed": true
   },
   "outputs": [
    {
     "data": {
      "text/plain": [
       "(-0.5+0.5j)"
      ]
     },
     "execution_count": 12,
     "metadata": {},
     "output_type": "execute_result"
    }
   ],
   "source": [
    "# Complex numbers\n",
    "# Python uses j instead of i. Remember from calculus: i-squared = -1\n",
    "(2 + 3j)/(1 - 5j)"
   ]
  },
  {
   "cell_type": "code",
   "execution_count": 13,
   "id": "7b99230e",
   "metadata": {
    "collapsed": true
   },
   "outputs": [
    {
     "name": "stdout",
     "output_type": "stream",
     "text": [
      "832\n"
     ]
    }
   ],
   "source": [
    "# Random number generation similar to RANDBETWEEN in Excel\n",
    "import random\n",
    "print(random.randrange(1, 1000))"
   ]
  },
  {
   "cell_type": "markdown",
   "id": "44205ca6",
   "metadata": {},
   "source": [
    "## 1.3 Collections of Data"
   ]
  },
  {
   "cell_type": "code",
   "execution_count": 14,
   "id": "33183e5c",
   "metadata": {},
   "outputs": [],
   "source": [
    "# 4 built-in data types in Python used to store collections of data, \n",
    "# List, Tuple, Set, and Dictionary, all with different qualities and usage.\n",
    "# We will see these types later in Section 1.9"
   ]
  },
  {
   "cell_type": "markdown",
   "id": "15ab0e9d",
   "metadata": {},
   "source": [
    "## 1.4 Variables"
   ]
  },
  {
   "cell_type": "code",
   "execution_count": 15,
   "id": "eb2fc3e7",
   "metadata": {
    "collapsed": true
   },
   "outputs": [
    {
     "data": {
      "text/plain": [
       "3"
      ]
     },
     "execution_count": 15,
     "metadata": {},
     "output_type": "execute_result"
    }
   ],
   "source": [
    "x = 2\n",
    "x + 1"
   ]
  },
  {
   "cell_type": "code",
   "execution_count": 16,
   "id": "7261d342",
   "metadata": {
    "collapsed": true
   },
   "outputs": [
    {
     "data": {
      "text/plain": [
       "4.0"
      ]
     },
     "execution_count": 16,
     "metadata": {},
     "output_type": "execute_result"
    }
   ],
   "source": [
    "x = 3.0\n",
    "x + 1"
   ]
  },
  {
   "cell_type": "code",
   "execution_count": 17,
   "id": "8b2c2cba",
   "metadata": {
    "collapsed": true
   },
   "outputs": [
    {
     "data": {
      "text/plain": [
       "float"
      ]
     },
     "execution_count": 17,
     "metadata": {},
     "output_type": "execute_result"
    }
   ],
   "source": [
    "# Python is dynamically typed (vs. unchanging types)\n",
    "y = 10\n",
    "y = y - 10.0\n",
    "type(y)"
   ]
  },
  {
   "cell_type": "markdown",
   "id": "f9963376",
   "metadata": {},
   "source": [
    "### 1.4.1 Reassigning variables in terms of themselves"
   ]
  },
  {
   "cell_type": "code",
   "execution_count": 18,
   "id": "384c4644",
   "metadata": {
    "collapsed": true
   },
   "outputs": [
    {
     "data": {
      "text/plain": [
       "4"
      ]
     },
     "execution_count": 18,
     "metadata": {},
     "output_type": "execute_result"
    },
    {
     "data": {
      "text/plain": [
       "4"
      ]
     },
     "execution_count": 18,
     "metadata": {},
     "output_type": "execute_result"
    },
    {
     "data": {
      "text/plain": [
       "2"
      ]
     },
     "execution_count": 18,
     "metadata": {},
     "output_type": "execute_result"
    },
    {
     "data": {
      "text/plain": [
       "15"
      ]
     },
     "execution_count": 18,
     "metadata": {},
     "output_type": "execute_result"
    }
   ],
   "source": [
    "# Auto increment/decrement/multiply\n",
    "x = 3\n",
    "x = x + 1\n",
    "x\n",
    "\n",
    "x = 3\n",
    "x += 1\n",
    "x\n",
    "\n",
    "x = 3\n",
    "x -= 1\n",
    "x\n",
    "\n",
    "x = 3\n",
    "x *= 5\n",
    "x"
   ]
  },
  {
   "cell_type": "code",
   "execution_count": 19,
   "id": "31389c2c",
   "metadata": {
    "collapsed": true
   },
   "outputs": [
    {
     "name": "stdout",
     "output_type": "stream",
     "text": [
      "All work and no play makes Jack a dull boy. \n"
     ]
    }
   ],
   "source": [
    "# Variables can not start with numbers, special characters, keywords, nor built-in types\n",
    "#$&^city = \"NOLA\"\n",
    "# Illegal variable names\n",
    "#8foxes = \"Polar\"\n",
    "#my-car = \"Bugatti\"\n",
    "#my var = \"Silver\"\n",
    "\n",
    "# Legal variable names\n",
    "# Legal variable names\n",
    "myvar = \"All work \"\n",
    "_my_var = \"and \"\n",
    "MYVAR = \"no play \"\n",
    "myvar2 = \"makes \"\n",
    "\n",
    "# Most common (and popular) variable notations (cases):  \n",
    "myAwesomeVar = \"Jack \"      # camelCase\n",
    "MyAwesomeVar = \"a dull \"    # PascalCase\n",
    "my_awesome_var = \"boy. \"    # snake_case\n",
    "\n",
    "# concatinate words (Note a space is added at the end of each word.\n",
    "sentence = myvar + _my_var + MYVAR + myvar2 + myAwesomeVar + MyAwesomeVar + my_awesome_var\n",
    "\n",
    "print(sentence)"
   ]
  },
  {
   "cell_type": "code",
   "execution_count": 20,
   "id": "9ef772e3",
   "metadata": {
    "collapsed": true
   },
   "outputs": [
    {
     "ename": "SyntaxError",
     "evalue": "invalid syntax (2185672408.py, line 2)",
     "output_type": "error",
     "traceback": [
      "\u001b[0;36m  Cell \u001b[0;32mIn[20], line 2\u001b[0;36m\u001b[0m\n\u001b[0;31m    best city = 'New Orleans'   # fix this\u001b[0m\n\u001b[0m         ^\u001b[0m\n\u001b[0;31mSyntaxError\u001b[0m\u001b[0;31m:\u001b[0m invalid syntax\n"
     ]
    }
   ],
   "source": [
    "# variables cannot contain spaces between characters\n",
    "best city = 'New Orleans'   # fix this"
   ]
  },
  {
   "cell_type": "code",
   "execution_count": null,
   "id": "81588966",
   "metadata": {
    "collapsed": true
   },
   "outputs": [
    {
     "name": "stdout",
     "output_type": "stream",
     "text": [
      "['False', 'None', 'True', 'and', 'as', 'assert', 'async', 'await', 'break', 'class', 'continue', 'def', 'del', 'elif', 'else', 'except', 'finally', 'for', 'from', 'global', 'if', 'import', 'in', 'is', 'lambda', 'nonlocal', 'not', 'or', 'pass', 'raise', 'return', 'try', 'while', 'with', 'yield']\n"
     ]
    }
   ],
   "source": [
    "# Avoid keywords (reserved words) when naming variables, or Python will throw an error.\n",
    "import keyword\n",
    "\n",
    "print(keyword.kwlist)"
   ]
  },
  {
   "cell_type": "code",
   "execution_count": null,
   "id": "3a27dcc1",
   "metadata": {
    "collapsed": true
   },
   "outputs": [
    {
     "data": {
      "text/plain": [
       "'New Orleans'"
      ]
     },
     "execution_count": 24,
     "metadata": {},
     "output_type": "execute_result"
    }
   ],
   "source": [
    "# Underscores are helpful\n",
    "best_city = 'New Orleans'\n",
    "best_city\n"
   ]
  },
  {
   "cell_type": "markdown",
   "id": "9778ec11",
   "metadata": {},
   "source": [
    "### 1.4.2 Declaring multiple variables (the Pythonic way)"
   ]
  },
  {
   "cell_type": "code",
   "execution_count": null,
   "id": "0e6e7c9e",
   "metadata": {
    "collapsed": true
   },
   "outputs": [
    {
     "data": {
      "text/plain": [
       "8.0"
      ]
     },
     "execution_count": 25,
     "metadata": {},
     "output_type": "execute_result"
    },
    {
     "data": {
      "text/plain": [
       "5"
      ]
     },
     "execution_count": 25,
     "metadata": {},
     "output_type": "execute_result"
    },
    {
     "data": {
      "text/plain": [
       "'cat'"
      ]
     },
     "execution_count": 25,
     "metadata": {},
     "output_type": "execute_result"
    }
   ],
   "source": [
    "# Assignments: Multiple Values to Multiple Variables\n",
    "x, y, z = 8., 5, 'cat'\n",
    "x\n",
    "y\n",
    "z\n",
    "# print(x, y, z)"
   ]
  },
  {
   "cell_type": "code",
   "execution_count": null,
   "id": "932f5bcf",
   "metadata": {
    "collapsed": true
   },
   "outputs": [
    {
     "name": "stdout",
     "output_type": "stream",
     "text": [
      "Diamond Diamond Diamond\n"
     ]
    }
   ],
   "source": [
    "# Assignments: One Value to Multiple Variables\n",
    "x = y = z = \"Diamond\"\n",
    "print(x, y, z)"
   ]
  },
  {
   "cell_type": "code",
   "execution_count": null,
   "id": "f0ba7813",
   "metadata": {
    "collapsed": true
   },
   "outputs": [
    {
     "name": "stdout",
     "output_type": "stream",
     "text": [
      "MGSC 4790 is a great class!\n"
     ]
    }
   ],
   "source": [
    "x = \"MGSC\"\n",
    "y = 4790\n",
    "z = \"is a great class!\"\n",
    "print(x, y, z)\n",
    "#print(x + y + z) # Make this work"
   ]
  },
  {
   "cell_type": "code",
   "execution_count": null,
   "id": "25b61490",
   "metadata": {
    "collapsed": true
   },
   "outputs": [
    {
     "name": "stdout",
     "output_type": "stream",
     "text": [
      "Python is awesomeawesome\n"
     ]
    }
   ],
   "source": [
    "# Defining a function\n",
    "x = \"awesome\"\n",
    "\n",
    "def myfunc():\n",
    "  print(\"Python is \" + x + x)\n",
    "\n",
    "myfunc()"
   ]
  },
  {
   "cell_type": "code",
   "execution_count": null,
   "id": "24a7c268",
   "metadata": {
    "collapsed": true
   },
   "outputs": [
    {
     "name": "stdout",
     "output_type": "stream",
     "text": [
      "Python is fantastic\n",
      "Python is awesome\n"
     ]
    }
   ],
   "source": [
    "# Notice the scope of variables x and x\n",
    "x = \"awesome\"\n",
    "\n",
    "def myfunc():\n",
    "  x = \"fantastic\"\n",
    "  print(\"Python is \" + x)\n",
    "\n",
    "myfunc()\n",
    "\n",
    "print(\"Python is \" + x)"
   ]
  },
  {
   "cell_type": "markdown",
   "id": "256bbc1c",
   "metadata": {},
   "source": [
    "## 1.5 Docstrings vs. comments"
   ]
  },
  {
   "cell_type": "code",
   "execution_count": null,
   "id": "96d82a8c",
   "metadata": {
    "collapsed": true
   },
   "outputs": [
    {
     "data": {
      "text/plain": [
       "\"\\nDocstrings are like comments in that nothing happens when\\nyou execute this cell.  However, they are typically used \\nwhen developers want to provide a description on what\\na particular 'document' (e.g. program, function, class, etc.)\\nactually does.  These descriptions typically span\\nmultiple lines vs. comments which typically span one line.\\n\""
      ]
     },
     "execution_count": 30,
     "metadata": {},
     "output_type": "execute_result"
    }
   ],
   "source": [
    "# This is a multi-line comment\n",
    "\"\"\"\n",
    "Docstrings are like comments in that nothing happens when\n",
    "you execute this cell.  However, they are typically used \n",
    "when developers want to provide a description on what\n",
    "a particular 'document' (e.g. program, function, class, etc.)\n",
    "actually does.  These descriptions typically span\n",
    "multiple lines vs. comments which typically span one line.\n",
    "\"\"\""
   ]
  },
  {
   "cell_type": "markdown",
   "id": "36371452",
   "metadata": {},
   "source": [
    "## 1.6 Strings"
   ]
  },
  {
   "cell_type": "code",
   "execution_count": null,
   "id": "6b3fa0a6",
   "metadata": {
    "collapsed": true
   },
   "outputs": [
    {
     "data": {
      "text/plain": [
       "'City Lights'"
      ]
     },
     "execution_count": 31,
     "metadata": {},
     "output_type": "execute_result"
    },
    {
     "data": {
      "text/plain": [
       "'City Lights'"
      ]
     },
     "execution_count": 31,
     "metadata": {},
     "output_type": "execute_result"
    }
   ],
   "source": [
    "# Single or double qoutation doesn't matter\n",
    "bookstore = 'City Lights'\n",
    "bookstore\n",
    "bookstore = \"City Lights\"\n",
    "bookstore"
   ]
  },
  {
   "cell_type": "code",
   "execution_count": null,
   "id": "e2c1028c",
   "metadata": {
    "collapsed": true
   },
   "outputs": [
    {
     "ename": "SyntaxError",
     "evalue": "unterminated string literal (detected at line 2) (4128461234.py, line 2)",
     "output_type": "error",
     "traceback": [
      "\u001b[0;36m  Cell \u001b[0;32mIn[32], line 2\u001b[0;36m\u001b[0m\n\u001b[0;31m    bookstore = 'City Lights\"\u001b[0m\n\u001b[0m                ^\u001b[0m\n\u001b[0;31mSyntaxError\u001b[0m\u001b[0;31m:\u001b[0m unterminated string literal (detected at line 2)\n"
     ]
    }
   ],
   "source": [
    "# Be consistent!\n",
    "bookstore = 'City Lights\""
   ]
  },
  {
   "cell_type": "code",
   "execution_count": null,
   "id": "039077f3",
   "metadata": {
    "collapsed": true
   },
   "outputs": [
    {
     "ename": "SyntaxError",
     "evalue": "unterminated string literal (detected at line 2) (1748678059.py, line 2)",
     "output_type": "error",
     "traceback": [
      "\u001b[0;36m  Cell \u001b[0;32mIn[33], line 2\u001b[0;36m\u001b[0m\n\u001b[0;31m    bookstore = 'Moe's'\u001b[0m\n\u001b[0m                      ^\u001b[0m\n\u001b[0;31mSyntaxError\u001b[0m\u001b[0;31m:\u001b[0m unterminated string literal (detected at line 2)\n"
     ]
    }
   ],
   "source": [
    "#strings with apostrophes\n",
    "bookstore = 'Moe's'"
   ]
  },
  {
   "cell_type": "code",
   "execution_count": null,
   "id": "722041d4",
   "metadata": {
    "collapsed": true
   },
   "outputs": [
    {
     "data": {
      "text/plain": [
       "\"Moe's\""
      ]
     },
     "execution_count": 34,
     "metadata": {},
     "output_type": "execute_result"
    }
   ],
   "source": [
    "bookstore = \"Moe's\"\n",
    "bookstore"
   ]
  },
  {
   "cell_type": "code",
   "execution_count": null,
   "id": "5062d853",
   "metadata": {
    "collapsed": true
   },
   "outputs": [
    {
     "data": {
      "text/plain": [
       "\"Moe's\""
      ]
     },
     "execution_count": 35,
     "metadata": {},
     "output_type": "execute_result"
    }
   ],
   "source": [
    "# Backslash is used for special characters (escape sequence) \n",
    "bookstore = 'Moe\\'s'\n",
    "bookstore"
   ]
  },
  {
   "cell_type": "markdown",
   "id": "505b3590",
   "metadata": {},
   "source": [
    "### 1.6.1 Multi line strings"
   ]
  },
  {
   "cell_type": "code",
   "execution_count": null,
   "id": "d865d1cc",
   "metadata": {
    "collapsed": true
   },
   "outputs": [
    {
     "data": {
      "text/plain": [
       "'Leaves of greenish hues,\\nAs the bright sun hugs your back,\\nSpring whispers its hymns.'"
      ]
     },
     "execution_count": 36,
     "metadata": {},
     "output_type": "execute_result"
    },
    {
     "name": "stdout",
     "output_type": "stream",
     "text": [
      "Leaves of greenish hues,\n",
      "As the bright sun hugs your back,\n",
      "Spring whispers its hymns.\n",
      "85\n",
      "L\n",
      "e\n"
     ]
    }
   ],
   "source": [
    "# multy line string\n",
    "haiku = \"\"\"Leaves of greenish hues,\n",
    "As the bright sun hugs your back,\n",
    "Spring whispers its hymns.\"\"\"\n",
    "\n",
    "haiku\n",
    "# Notice the escape sequences denoting the line breaks (\\n)\n",
    "\n",
    "print(haiku)\n",
    "print(len(haiku))   #returns the length of the string\n",
    "\n",
    "#no char type, a single character is simply a string with a length of 1\n",
    "print(haiku[0])    # first character has the position 0\n",
    "print(haiku[1])"
   ]
  },
  {
   "cell_type": "code",
   "execution_count": null,
   "id": "d00f9b34",
   "metadata": {
    "collapsed": true
   },
   "outputs": [
    {
     "name": "stdout",
     "output_type": "stream",
     "text": [
      "aves of green\n",
      "Leaves of green\n",
      "pers its hymn\n",
      "pers its hymns.\n"
     ]
    }
   ],
   "source": [
    "# Get the characters from position 2 to position 15 (not included):\n",
    "print(haiku[2:15])\n",
    "# From starting position to position 15 (not included):\n",
    "print(haiku[:15])\n",
    "# you can go the other direction, as well <--  :)\n",
    "print(haiku[-15:-2])\n",
    "print(haiku[-15:])"
   ]
  },
  {
   "cell_type": "code",
   "execution_count": null,
   "id": "4b520991",
   "metadata": {
    "collapsed": true
   },
   "outputs": [
    {
     "name": "stdout",
     "output_type": "stream",
     "text": [
      "LEAVES OF GREENISH HUES,\n",
      "AS THE BRIGHT SUN HUGS YOUR BACK,\n",
      "SPRING WHISPERS ITS HYMNS.\n"
     ]
    }
   ],
   "source": [
    "# We can change the case of letters\n",
    "print(haiku.upper())\n",
    "\n",
    "#print(haiku.lower())\n",
    "\n",
    "#print(haiku[2:15].upper())"
   ]
  },
  {
   "cell_type": "markdown",
   "id": "299c22a2",
   "metadata": {},
   "source": [
    "### 1.6.2 String concatenation"
   ]
  },
  {
   "cell_type": "code",
   "execution_count": null,
   "id": "d4884efe",
   "metadata": {
    "collapsed": true
   },
   "outputs": [
    {
     "name": "stdout",
     "output_type": "stream",
     "text": [
      "HowdySir.\n",
      "Howdy Sir.\n",
      "Howdy Howdy Howdy Howdy Howdy \n"
     ]
    }
   ],
   "source": [
    "greeting = 'Howdy'\n",
    "print(greeting + 'Sir.')\n",
    "greeting = 'Howdy '\n",
    "print(greeting + 'Sir.')\n",
    "print(greeting * 5)\n"
   ]
  },
  {
   "cell_type": "markdown",
   "id": "5071b537",
   "metadata": {},
   "source": [
    "### 1.6.3 String interpolation"
   ]
  },
  {
   "cell_type": "code",
   "execution_count": null,
   "id": "ccc6d570",
   "metadata": {
    "collapsed": true
   },
   "outputs": [
    {
     "name": "stdout",
     "output_type": "stream",
     "text": [
      "Should we greet clients with Howdy in business engagements?\n"
     ]
    }
   ],
   "source": [
    "greeting = 'Howdy'\n",
    "print('Should we greet clients with', greeting, 'in business engagements?')"
   ]
  },
  {
   "cell_type": "code",
   "execution_count": null,
   "id": "1d83f852",
   "metadata": {
    "collapsed": true
   },
   "outputs": [
    {
     "name": "stdout",
     "output_type": "stream",
     "text": [
      "The founder of City Lights Bookstore, Lawrence Ferlinghetti, is now 100 years old.\n"
     ]
    }
   ],
   "source": [
    "owner = 'Lawrence Ferlinghetti'\n",
    "age = 100\n",
    "print('The founder of City Lights Bookstore, {}, is now {} years old.'.format(owner,age))"
   ]
  },
  {
   "cell_type": "code",
   "execution_count": null,
   "id": "b9f22a5b",
   "metadata": {
    "collapsed": true
   },
   "outputs": [
    {
     "name": "stdout",
     "output_type": "stream",
     "text": [
      "My name is John, I am 36.\n"
     ]
    }
   ],
   "source": [
    "age = 36\n",
    "txt = \"My name is John, I am \" + str(age) + \".\"\n",
    "print(txt)"
   ]
  },
  {
   "cell_type": "code",
   "execution_count": null,
   "id": "2223e19a",
   "metadata": {
    "collapsed": true
   },
   "outputs": [
    {
     "name": "stdout",
     "output_type": "stream",
     "text": [
      "My name is John, and I am 36.\n"
     ]
    }
   ],
   "source": [
    "age = 36\n",
    "txt = \"My name is John, and I am {}.\"\n",
    "print(txt.format(age))"
   ]
  },
  {
   "cell_type": "markdown",
   "id": "675bc1e9",
   "metadata": {},
   "source": [
    "### 1.6.4 Built-in string functions"
   ]
  },
  {
   "cell_type": "code",
   "execution_count": null,
   "id": "e8b5ea04",
   "metadata": {
    "collapsed": true
   },
   "outputs": [
    {
     "data": {
      "text/plain": [
       "5"
      ]
     },
     "execution_count": 44,
     "metadata": {},
     "output_type": "execute_result"
    }
   ],
   "source": [
    "len(greeting)"
   ]
  },
  {
   "cell_type": "code",
   "execution_count": null,
   "id": "686b7701",
   "metadata": {
    "collapsed": true
   },
   "outputs": [],
   "source": [
    "# Use tab completion to find variables\n",
    "# Type len(g then hit the tab button\n",
    "# Type greeting. then hit the tab button    What is this? Emin"
   ]
  },
  {
   "cell_type": "code",
   "execution_count": null,
   "id": "bc071aae",
   "metadata": {
    "collapsed": true
   },
   "outputs": [
    {
     "data": {
      "text/plain": [
       "'howdy'"
      ]
     },
     "execution_count": 46,
     "metadata": {},
     "output_type": "execute_result"
    },
    {
     "data": {
      "text/plain": [
       "'HOWDY'"
      ]
     },
     "execution_count": 46,
     "metadata": {},
     "output_type": "execute_result"
    },
    {
     "data": {
      "text/plain": [
       "True"
      ]
     },
     "execution_count": 46,
     "metadata": {},
     "output_type": "execute_result"
    },
    {
     "data": {
      "text/plain": [
       "0"
      ]
     },
     "execution_count": 46,
     "metadata": {},
     "output_type": "execute_result"
    }
   ],
   "source": [
    "greeting.lower()\n",
    "greeting.upper()\n",
    "greeting.endswith('y')\n",
    "greeting.count('v')"
   ]
  },
  {
   "cell_type": "code",
   "execution_count": null,
   "id": "4b61e472",
   "metadata": {
    "collapsed": true
   },
   "outputs": [
    {
     "name": "stdout",
     "output_type": "stream",
     "text": [
      "Python   Rules!\n"
     ]
    }
   ],
   "source": [
    "# The strip() method removes any whitespace from the beginning or the end:\n",
    "a = \"   Python   Rules!   \"\n",
    "print(a.strip())"
   ]
  },
  {
   "cell_type": "code",
   "execution_count": null,
   "id": "4305eaf4",
   "metadata": {
    "collapsed": true
   },
   "outputs": [
    {
     "name": "stdout",
     "output_type": "stream",
     "text": [
      "Python Fools!\n"
     ]
    }
   ],
   "source": [
    "# The replace() method replaces a string with another string:\n",
    "a = \"Python Rules!\"\n",
    "print(a.replace(\"Rules\", \"Fools\"))"
   ]
  },
  {
   "cell_type": "code",
   "execution_count": null,
   "id": "c72c4e0a",
   "metadata": {
    "collapsed": true
   },
   "outputs": [
    {
     "name": "stdout",
     "output_type": "stream",
     "text": [
      "['Leaves', 'of', 'greenish', 'hues,\\nAs', 'the', 'bright', 'sun', 'hugs', 'your', 'back,\\nSpring', 'whispers', 'its', 'hymns.']\n"
     ]
    }
   ],
   "source": [
    "# The split() method splits the string into substrings if it finds instances of the separator:\n",
    "print(haiku.split(\" \")) # returns individual words. Notice the end of line character: \"\\n\" "
   ]
  },
  {
   "cell_type": "code",
   "execution_count": null,
   "id": "299d635f",
   "metadata": {
    "collapsed": true
   },
   "outputs": [
    {
     "name": "stdout",
     "output_type": "stream",
     "text": [
      "We are the so-called \"Vikings\" from the north.\n"
     ]
    }
   ],
   "source": [
    "txt = \"We are the so-called \\\"Vikings\\\" from the north.\"\n",
    "print(txt)"
   ]
  },
  {
   "cell_type": "code",
   "execution_count": null,
   "id": "1c6b1cf9",
   "metadata": {
    "collapsed": true
   },
   "outputs": [
    {
     "data": {
      "text/plain": [
       "3"
      ]
     },
     "execution_count": 51,
     "metadata": {},
     "output_type": "execute_result"
    },
    {
     "data": {
      "text/plain": [
       "'a'"
      ]
     },
     "execution_count": 51,
     "metadata": {},
     "output_type": "execute_result"
    },
    {
     "data": {
      "text/plain": [
       "'We ar'"
      ]
     },
     "execution_count": 51,
     "metadata": {},
     "output_type": "execute_result"
    },
    {
     "data": {
      "text/plain": [
       "'e the so-called \"Vikings\" from the north.'"
      ]
     },
     "execution_count": 51,
     "metadata": {},
     "output_type": "execute_result"
    }
   ],
   "source": [
    "txt.index(\"are\")\n",
    "txt[3]\n",
    "txt[:5]\n",
    "txt[5:]"
   ]
  },
  {
   "cell_type": "markdown",
   "id": "ec8267f7",
   "metadata": {},
   "source": [
    "### 1.6.5 Casting"
   ]
  },
  {
   "cell_type": "code",
   "execution_count": null,
   "id": "10d6e628",
   "metadata": {
    "collapsed": true
   },
   "outputs": [
    {
     "data": {
      "text/plain": [
       "str"
      ]
     },
     "execution_count": 52,
     "metadata": {},
     "output_type": "execute_result"
    },
    {
     "data": {
      "text/plain": [
       "'57'"
      ]
     },
     "execution_count": 52,
     "metadata": {},
     "output_type": "execute_result"
    },
    {
     "data": {
      "text/plain": [
       "12"
      ]
     },
     "execution_count": 52,
     "metadata": {},
     "output_type": "execute_result"
    }
   ],
   "source": [
    "type('5')\n",
    "'5' + '7'\n",
    "int('5') + int('7')"
   ]
  },
  {
   "cell_type": "code",
   "execution_count": null,
   "id": "70d0c58f",
   "metadata": {
    "collapsed": true
   },
   "outputs": [
    {
     "name": "stdout",
     "output_type": "stream",
     "text": [
      "10.0 5 (10+0j) 10\n",
      "<class 'float'> <class 'int'> <class 'complex'> <class 'str'>\n"
     ]
    }
   ],
   "source": [
    "x = 10    # int\n",
    "\n",
    "a = float(x)    #convert from int to float:\n",
    "b = int(5.0)    #convert from float to int:\n",
    "c = complex(x)  #convert from int to complex:\n",
    "d = str(x)      #convert from int to string:\n",
    "\n",
    "print(a, b, c, d)\n",
    "\n",
    "print(type(a), type(b), type(c), type(d))"
   ]
  },
  {
   "cell_type": "markdown",
   "id": "968c8ca7",
   "metadata": {},
   "source": [
    "### 1.6.6 Inputs from user"
   ]
  },
  {
   "cell_type": "code",
   "execution_count": null,
   "id": "b1d2c220",
   "metadata": {
    "collapsed": true
   },
   "outputs": [
    {
     "name": "stdout",
     "output_type": "stream",
     "text": [
      "What is your name?\n",
      "Hello, .\n"
     ]
    }
   ],
   "source": [
    "# Before running this cell, please save your kernel\n",
    "print('What is your name?')\n",
    "name = input()\n",
    "print('Hello, ' + name + '.')\n",
    "# If an error arises, restart the kernel"
   ]
  },
  {
   "cell_type": "markdown",
   "id": "70c4bc47",
   "metadata": {},
   "source": [
    "### 1.6.7 String slicing and indexing"
   ]
  },
  {
   "cell_type": "code",
   "execution_count": null,
   "id": "918792d1",
   "metadata": {
    "collapsed": true
   },
   "outputs": [
    {
     "data": {
      "text/plain": [
       "'N'"
      ]
     },
     "execution_count": 55,
     "metadata": {},
     "output_type": "execute_result"
    },
    {
     "data": {
      "text/plain": [
       "'e'"
      ]
     },
     "execution_count": 55,
     "metadata": {},
     "output_type": "execute_result"
    },
    {
     "data": {
      "text/plain": [
       "'s'"
      ]
     },
     "execution_count": 55,
     "metadata": {},
     "output_type": "execute_result"
    },
    {
     "data": {
      "text/plain": [
       "'e'"
      ]
     },
     "execution_count": 55,
     "metadata": {},
     "output_type": "execute_result"
    },
    {
     "data": {
      "text/plain": [
       "2"
      ]
     },
     "execution_count": 55,
     "metadata": {},
     "output_type": "execute_result"
    }
   ],
   "source": [
    "# Python starts at 0 when indexing\n",
    "destination = 'New Orleans'\n",
    "destination[0]\n",
    "destination[1]\n",
    "destination[-1]\n",
    "destination[7]\n",
    "destination.count('e')"
   ]
  },
  {
   "cell_type": "code",
   "execution_count": null,
   "id": "ee2899ff",
   "metadata": {
    "collapsed": true
   },
   "outputs": [
    {
     "data": {
      "text/plain": [
       "'New Orl'"
      ]
     },
     "execution_count": 56,
     "metadata": {},
     "output_type": "execute_result"
    }
   ],
   "source": [
    "# Slicing\n",
    "destination[0:7]\n",
    "# Caution: lower bound of slice is always included, but upper bound is not!"
   ]
  },
  {
   "cell_type": "code",
   "execution_count": null,
   "id": "62760d8d",
   "metadata": {
    "collapsed": true
   },
   "outputs": [
    {
     "data": {
      "text/plain": [
       "'New Orlean'"
      ]
     },
     "execution_count": 57,
     "metadata": {},
     "output_type": "execute_result"
    },
    {
     "data": {
      "text/plain": [
       "'ans'"
      ]
     },
     "execution_count": 57,
     "metadata": {},
     "output_type": "execute_result"
    },
    {
     "data": {
      "text/plain": [
       "'New Orle'"
      ]
     },
     "execution_count": 57,
     "metadata": {},
     "output_type": "execute_result"
    }
   ],
   "source": [
    "# Shortcut: omit the first numerical character to start at the beginning\n",
    "destination[:10]\n",
    "# Shortcut: omit the last numerical character to go to the end and use a negative to specify how many before\n",
    "destination[-3:]\n",
    "# Also, check this:\n",
    "destination[:-3]"
   ]
  },
  {
   "cell_type": "markdown",
   "id": "8496f5b0",
   "metadata": {},
   "source": [
    "## 1.7 Booleans and conditionals"
   ]
  },
  {
   "cell_type": "code",
   "execution_count": null,
   "id": "8992d862",
   "metadata": {
    "collapsed": true
   },
   "outputs": [
    {
     "data": {
      "text/plain": [
       "bool"
      ]
     },
     "execution_count": 58,
     "metadata": {},
     "output_type": "execute_result"
    }
   ],
   "source": [
    "over_18 = True\n",
    "type(over_18)"
   ]
  },
  {
   "cell_type": "code",
   "execution_count": null,
   "id": "74706b05",
   "metadata": {
    "collapsed": true
   },
   "outputs": [
    {
     "data": {
      "text/plain": [
       "False"
      ]
     },
     "execution_count": 59,
     "metadata": {},
     "output_type": "execute_result"
    }
   ],
   "source": [
    "over_21 = False\n",
    "over_21"
   ]
  },
  {
   "cell_type": "markdown",
   "id": "8b164b52",
   "metadata": {},
   "source": [
    "### 1.7.1 Logical operators"
   ]
  },
  {
   "cell_type": "code",
   "execution_count": null,
   "id": "274e3bdb",
   "metadata": {
    "collapsed": true
   },
   "outputs": [
    {
     "data": {
      "text/plain": [
       "False"
      ]
     },
     "execution_count": 60,
     "metadata": {},
     "output_type": "execute_result"
    },
    {
     "data": {
      "text/plain": [
       "True"
      ]
     },
     "execution_count": 60,
     "metadata": {},
     "output_type": "execute_result"
    },
    {
     "data": {
      "text/plain": [
       "False"
      ]
     },
     "execution_count": 60,
     "metadata": {},
     "output_type": "execute_result"
    },
    {
     "data": {
      "text/plain": [
       "True"
      ]
     },
     "execution_count": 60,
     "metadata": {},
     "output_type": "execute_result"
    },
    {
     "data": {
      "text/plain": [
       "False"
      ]
     },
     "execution_count": 60,
     "metadata": {},
     "output_type": "execute_result"
    }
   ],
   "source": [
    "over_18 and over_21\n",
    "over_18 or over_21\n",
    "not over_18\n",
    "not over_21 or (over_21 or over_18)   # Combine logical operators\n",
    "not (over_21 or (over_21 or over_18)) # Parentheses matter"
   ]
  },
  {
   "cell_type": "markdown",
   "id": "b0b77e73",
   "metadata": {},
   "source": [
    "### 1.7.2 Comparison Operators"
   ]
  },
  {
   "cell_type": "code",
   "execution_count": null,
   "id": "44a21dca",
   "metadata": {
    "collapsed": true
   },
   "outputs": [
    {
     "data": {
      "text/plain": [
       "False"
      ]
     },
     "execution_count": 61,
     "metadata": {},
     "output_type": "execute_result"
    },
    {
     "data": {
      "text/plain": [
       "True"
      ]
     },
     "execution_count": 61,
     "metadata": {},
     "output_type": "execute_result"
    },
    {
     "data": {
      "text/plain": [
       "True"
      ]
     },
     "execution_count": 61,
     "metadata": {},
     "output_type": "execute_result"
    },
    {
     "data": {
      "text/plain": [
       "False"
      ]
     },
     "execution_count": 61,
     "metadata": {},
     "output_type": "execute_result"
    },
    {
     "data": {
      "text/plain": [
       "True"
      ]
     },
     "execution_count": 61,
     "metadata": {},
     "output_type": "execute_result"
    }
   ],
   "source": [
    "age = 20\n",
    "age < 13\n",
    "age >= 4\n",
    "age == 20\n",
    "age != 20\n",
    "age >= 20 and age <= 21 # Combine with logical operators"
   ]
  },
  {
   "cell_type": "code",
   "execution_count": null,
   "id": "f1081ff1",
   "metadata": {
    "collapsed": true
   },
   "outputs": [
    {
     "name": "stdout",
     "output_type": "stream",
     "text": [
      "True\n",
      "False\n",
      "False\n",
      "False\n",
      "True\n",
      "True\n",
      "True\n",
      "False\n",
      "True\n"
     ]
    }
   ],
   "source": [
    "# Booleans\n",
    "print(10 > 9)\n",
    "print(10 == 9)\n",
    "print(10 < 9)\n",
    "print(10 <= 9)\n",
    "print(10 >= 9)\n",
    "print(10 != 9)\n",
    "print(\"a\" == \"a\")\n",
    "print(\"A\" == \"a\")\n",
    "print(\"a\" < \"b\")"
   ]
  },
  {
   "cell_type": "code",
   "execution_count": null,
   "id": "79aed142",
   "metadata": {
    "collapsed": true
   },
   "outputs": [
    {
     "data": {
      "text/plain": [
       "True"
      ]
     },
     "execution_count": 63,
     "metadata": {},
     "output_type": "execute_result"
    },
    {
     "data": {
      "text/plain": [
       "False"
      ]
     },
     "execution_count": 63,
     "metadata": {},
     "output_type": "execute_result"
    }
   ],
   "source": [
    "# Equivalence can take place across different data types\n",
    "6 == 6.0 \n",
    "\n",
    "# But not always\n",
    "6 == '6'\n",
    "\n",
    "# Pro tip: cast objects to be the same type before checking equivalence"
   ]
  },
  {
   "cell_type": "code",
   "execution_count": null,
   "id": "d421f760",
   "metadata": {
    "collapsed": true
   },
   "outputs": [
    {
     "data": {
      "text/plain": [
       "True"
      ]
     },
     "execution_count": 64,
     "metadata": {},
     "output_type": "execute_result"
    }
   ],
   "source": [
    "age = 20\n",
    "\n",
    "# Use parentheses for clarity\n",
    "(20 <= age < 30) or (30 <= age < 40)"
   ]
  },
  {
   "cell_type": "markdown",
   "id": "70263b91",
   "metadata": {},
   "source": [
    "### 1.7.3 Comparing strings"
   ]
  },
  {
   "cell_type": "code",
   "execution_count": null,
   "id": "10ee41c0",
   "metadata": {
    "collapsed": true
   },
   "outputs": [
    {
     "data": {
      "text/plain": [
       "True"
      ]
     },
     "execution_count": 65,
     "metadata": {},
     "output_type": "execute_result"
    },
    {
     "data": {
      "text/plain": [
       "False"
      ]
     },
     "execution_count": 65,
     "metadata": {},
     "output_type": "execute_result"
    },
    {
     "data": {
      "text/plain": [
       "True"
      ]
     },
     "execution_count": 65,
     "metadata": {},
     "output_type": "execute_result"
    },
    {
     "data": {
      "text/plain": [
       "True"
      ]
     },
     "execution_count": 65,
     "metadata": {},
     "output_type": "execute_result"
    }
   ],
   "source": [
    "# Alphabetical order is used to compare strings\n",
    "'a' < 'c'\n",
    "'Austin' > 'New Orleans'\n",
    "'A' < 'a'\n",
    "'1' < 'A'"
   ]
  },
  {
   "cell_type": "code",
   "execution_count": null,
   "id": "4e0945e5",
   "metadata": {
    "collapsed": true
   },
   "outputs": [
    {
     "name": "stdout",
     "output_type": "stream",
     "text": [
      "False\n",
      "True\n",
      "False\n",
      "True\n"
     ]
    }
   ],
   "source": [
    "# blank is false, any non-zero integer is true\n",
    "x = \"\"\n",
    "y = -15\n",
    "\n",
    "print(bool(x))\n",
    "print(bool(y))\n",
    "\n",
    "print(x is y)\n",
    "\n",
    "print(isinstance(y, int))  #isinstance function checks the data type"
   ]
  },
  {
   "cell_type": "markdown",
   "id": "64a766b7",
   "metadata": {},
   "source": [
    "### 1.7.4 Conditionals (if statements)"
   ]
  },
  {
   "cell_type": "code",
   "execution_count": null,
   "id": "3ac6e832",
   "metadata": {
    "collapsed": true
   },
   "outputs": [
    {
     "data": {
      "text/plain": [
       "'\\nimportant features of the if statement:\\n1) if keyword (start here)\\n2) everything between the if keyword and the colon (:) is the condition to be checked\\n3) colon(:) indicates the completion of the condition (compiler \\n   then looks back to see if condition is true or false)\\n4) everything that follows the colon MUST be indented\\n'"
      ]
     },
     "execution_count": 67,
     "metadata": {},
     "output_type": "execute_result"
    }
   ],
   "source": [
    "age=20\n",
    "if age < 18:\n",
    "    print('You aren\\'t old enough to vote.')\n",
    "\n",
    "\"\"\"\n",
    "important features of the if statement:\n",
    "1) if keyword (start here)\n",
    "2) everything between the if keyword and the colon (:) is the condition to be checked\n",
    "3) colon(:) indicates the completion of the condition (compiler \n",
    "   then looks back to see if condition is true or false)\n",
    "4) everything that follows the colon MUST be indented\n",
    "\"\"\""
   ]
  },
  {
   "cell_type": "code",
   "execution_count": null,
   "id": "7771f704",
   "metadata": {
    "collapsed": true
   },
   "outputs": [
    {
     "ename": "IndentationError",
     "evalue": "expected an indented block after 'if' statement on line 3 (1541751049.py, line 4)",
     "output_type": "error",
     "traceback": [
      "\u001b[0;36m  Cell \u001b[0;32mIn[68], line 4\u001b[0;36m\u001b[0m\n\u001b[0;31m    print('You aren\\'t old enough to vote.')\u001b[0m\n\u001b[0m    ^\u001b[0m\n\u001b[0;31mIndentationError\u001b[0m\u001b[0;31m:\u001b[0m expected an indented block after 'if' statement on line 3\n"
     ]
    }
   ],
   "source": [
    "# Indentation matters!! (generally can be accomplished with 4 spaces or the tab key)\n",
    "age=20\n",
    "if age > 18:\n",
    "    print('You aren\\'t old enough to vote.')"
   ]
  },
  {
   "cell_type": "code",
   "execution_count": null,
   "id": "95580c90",
   "metadata": {
    "collapsed": true
   },
   "outputs": [
    {
     "name": "stdout",
     "output_type": "stream",
     "text": [
      "You can vote.\n"
     ]
    }
   ],
   "source": [
    "# Nested conditionals with more indentation\n",
    "age=20\n",
    "if age >=18:\n",
    "    print('You can vote.')\n",
    "    if age >= 21:\n",
    "        print('You can play poker.')"
   ]
  },
  {
   "cell_type": "markdown",
   "id": "59a44dbc",
   "metadata": {},
   "source": [
    "### 1.7.5 Conditionals (if-else)"
   ]
  },
  {
   "cell_type": "code",
   "execution_count": null,
   "id": "d926afe0",
   "metadata": {
    "collapsed": true
   },
   "outputs": [
    {
     "name": "stdout",
     "output_type": "stream",
     "text": [
      "Welcome to our voting program.\n"
     ]
    }
   ],
   "source": [
    "age=20\n",
    "if age >= 18:\n",
    "    print('Welcome to our voting program.')\n",
    "else:\n",
    "    print('You aren\\'t old enough to vote.')\n",
    "        "
   ]
  },
  {
   "cell_type": "markdown",
   "id": "fff9a3b3",
   "metadata": {},
   "source": [
    "### 1.7.6 Conditionals (elif)"
   ]
  },
  {
   "cell_type": "code",
   "execution_count": null,
   "id": "bbd25d5e",
   "metadata": {
    "collapsed": true
   },
   "outputs": [
    {
     "name": "stdout",
     "output_type": "stream",
     "text": [
      "Each day is magical.\n"
     ]
    }
   ],
   "source": [
    "# Sort for else if\n",
    "age=20\n",
    "if age <= 10:\n",
    "    print('Listen, learn, and have fun.')\n",
    "elif age <= 19:\n",
    "    print('Go fearlessly forward.')\n",
    "else:\n",
    "    print('Each day is magical.')"
   ]
  },
  {
   "cell_type": "markdown",
   "id": "7a952b28",
   "metadata": {},
   "source": [
    "## 1.8 Loops"
   ]
  },
  {
   "cell_type": "markdown",
   "id": "38749a1b",
   "metadata": {},
   "source": [
    "### 1.8.1 While loops"
   ]
  },
  {
   "cell_type": "code",
   "execution_count": null,
   "id": "08f0dd16",
   "metadata": {
    "collapsed": true
   },
   "outputs": [
    {
     "name": "stdout",
     "output_type": "stream",
     "text": [
      "1\n",
      "2\n",
      "3\n",
      "4\n",
      "5\n",
      "6\n",
      "7\n",
      "8\n",
      "9\n",
      "10\n"
     ]
    }
   ],
   "source": [
    "# While loop example\n",
    "i = 1 # initialize the variable\n",
    "while i <= 10: # set up the condition that must be met for the loop to run\n",
    "    print(i)   # specify what should be done if the condition is met\n",
    "    i += 1     # increment the variable\n",
    "    \n",
    "# Note: you will get stuck in infinite loops.  It happens to everyone.  When this happens,\n",
    "# just restart the kernel."
   ]
  },
  {
   "cell_type": "markdown",
   "id": "07246980",
   "metadata": {},
   "source": [
    "### 1.8.2 Breaks"
   ]
  },
  {
   "cell_type": "code",
   "execution_count": null,
   "id": "e6211906",
   "metadata": {
    "collapsed": true
   },
   "outputs": [
    {
     "name": "stdout",
     "output_type": "stream",
     "text": [
      " 102 is the first number greater than 100 that is divisible by 17.\n"
     ]
    }
   ],
   "source": [
    "x=100\n",
    "while x <= 1000:\n",
    "    x += 1\n",
    "    if x % 17 == 0:\n",
    "        print('', x, 'is the first number greater than 100 that is divisible by 17.')\n",
    "        break"
   ]
  },
  {
   "cell_type": "markdown",
   "id": "0dc82521",
   "metadata": {},
   "source": [
    "### 1.8.3 Exercise: The Real Estate Offer"
   ]
  },
  {
   "cell_type": "code",
   "execution_count": null,
   "id": "0b3519e6",
   "metadata": {
    "collapsed": true
   },
   "outputs": [
    {
     "name": "stdout",
     "output_type": "stream",
     "text": [
      "A one bedroom in the Bay Area is listed at $599,000.\n",
      "Enter your first offer on the house.\n",
      "122222\n",
      "Enter your best offer on the house.\n",
      "12221\n",
      "How much more do you want to offer each time?\n",
      "121212\n"
     ]
    }
   ],
   "source": [
    "print('A one bedroom in the Bay Area is listed at $599,000.')\n",
    "print('Enter your first offer on the house.')\n",
    "offer = abs(int(input()))\n",
    "print('Enter your best offer on the house.')\n",
    "best = abs(int(input()))\n",
    "print('How much more do you want to offer each time?')\n",
    "increment = abs(int(input()))\n",
    "\n",
    "offer_accepted = False\n",
    "while offer <= best:\n",
    "    if offer >= 650000:\n",
    "        offer_accepted = True\n",
    "        print('Your offer of', offer, 'has been accepted!')\n",
    "        break\n",
    "    else:\n",
    "        print('We\\'re sorry, you\\'re offer of',offer,'has not been accepted.')\n",
    "        offer += increment\n"
   ]
  },
  {
   "cell_type": "markdown",
   "id": "b0351b38",
   "metadata": {},
   "source": [
    "### 1.8.4 For loops"
   ]
  },
  {
   "cell_type": "code",
   "execution_count": null,
   "id": "456e2c0e",
   "metadata": {
    "collapsed": true
   },
   "outputs": [
    {
     "name": "stdout",
     "output_type": "stream",
     "text": [
      "T\n",
      "u\n",
      "l\n",
      "a\n",
      "n\n",
      "e\n"
     ]
    }
   ],
   "source": [
    "for i in 'Tulane':\n",
    "    print(i)"
   ]
  },
  {
   "cell_type": "code",
   "execution_count": null,
   "id": "42a7e5dd",
   "metadata": {
    "collapsed": true
   },
   "outputs": [
    {
     "name": "stdout",
     "output_type": "stream",
     "text": [
      "1\n",
      "2\n",
      "3\n",
      "4\n",
      "5\n",
      "6\n",
      "7\n",
      "8\n",
      "9\n"
     ]
    }
   ],
   "source": [
    "for i in range(1,10):\n",
    "    print(i)\n",
    "# Notice the range doesn't include 10"
   ]
  },
  {
   "cell_type": "code",
   "execution_count": null,
   "id": "54fe5675",
   "metadata": {
    "collapsed": true
   },
   "outputs": [
    {
     "name": "stdout",
     "output_type": "stream",
     "text": [
      "0\n",
      "1\n",
      "2\n",
      "3\n",
      "4\n",
      "5\n",
      "6\n",
      "7\n",
      "8\n",
      "9\n"
     ]
    }
   ],
   "source": [
    "for i in range(10):\n",
    "    print(i)\n",
    "# Providing only 1 argument to range uses 0 to start and gives the first 10 numbers"
   ]
  },
  {
   "cell_type": "code",
   "execution_count": null,
   "id": "0c1e1d57",
   "metadata": {
    "collapsed": true
   },
   "outputs": [
    {
     "name": "stdout",
     "output_type": "stream",
     "text": [
      "1\n",
      "3\n",
      "5\n",
      "7\n",
      "9\n"
     ]
    }
   ],
   "source": [
    "for i in range(1,11,2):\n",
    "    print(i)\n",
    "# The third argument is the increment"
   ]
  },
  {
   "cell_type": "code",
   "execution_count": null,
   "id": "5e0ea5cb",
   "metadata": {
    "collapsed": true
   },
   "outputs": [
    {
     "name": "stdout",
     "output_type": "stream",
     "text": [
      "3\n",
      "2\n",
      "1\n"
     ]
    }
   ],
   "source": [
    "for i in range(3,0,-1):\n",
    "    print(i)\n",
    "# Increments can be negative"
   ]
  },
  {
   "cell_type": "code",
   "execution_count": null,
   "id": "6a3cc7ee",
   "metadata": {
    "collapsed": true
   },
   "outputs": [
    {
     "name": "stdout",
     "output_type": "stream",
     "text": [
      "All work and no play makes Jack a dull boy. \n"
     ]
    }
   ],
   "source": [
    "# Remember the sentence?\n",
    "\n",
    "print(sentence)"
   ]
  },
  {
   "cell_type": "code",
   "execution_count": null,
   "id": "7c668a8e",
   "metadata": {
    "collapsed": true
   },
   "outputs": [
    {
     "name": "stdout",
     "output_type": "stream",
     "text": [
      "All work and no play makes Jack a dull boy. \n",
      "All work and no play makes Jack a dull boy. \n",
      "All work and no play makes Jack a dull boy. \n",
      "All work and no play makes Jack a dull boy. \n",
      "All work and no play makes Jack a dull boy. \n",
      "All work and no play makes Jack a dull boy. \n",
      "All work and no play makes Jack a dull boy. \n",
      "All work and no play makes Jack a dull boy. \n",
      "All work and no play makes Jack a dull boy. \n",
      "All work and no play makes Jack a dull boy. \n",
      "All work and no play makes Jack a dull boy. \n",
      "All work and no play makes Jack a dull boy. \n",
      "All work and no play makes Jack a dull boy. \n",
      "All work and no play makes Jack a dull boy. \n",
      "All work and no play makes Jack a dull boy. \n",
      "All work and no play makes Jack a dull boy. \n",
      "All work and no play makes Jack a dull boy. \n",
      "All work and no play makes Jack a dull boy. \n",
      "All work and no play makes Jack a dull boy. \n",
      "All work and no play makes Jack a dull boy. \n",
      "All work and no play makes Jack a dull boy. \n",
      "All work and no play makes Jack a dull boy. \n",
      "All work and no play makes Jack a dull boy. \n",
      "All work and no play makes Jack a dull boy. \n",
      "All work and no play makes Jack a dull boy. \n",
      "All work and no play makes Jack a dull boy. \n",
      "All work and no play makes Jack a dull boy. \n",
      "All work and no play makes Jack a dull boy. \n",
      "All work and no play makes Jack a dull boy. \n",
      "All work and no play makes Jack a dull boy. \n",
      "All work and no play makes Jack a dull boy. \n",
      "All work and no play makes Jack a dull boy. \n",
      "All work and no play makes Jack a dull boy. \n",
      "All work and no play makes Jack a dull boy. \n",
      "All work and no play makes Jack a dull boy. \n",
      "All work and no play makes Jack a dull boy. \n",
      "All work and no play makes Jack a dull boy. \n",
      "All work and no play makes Jack a dull boy. \n",
      "All work and no play makes Jack a dull boy. \n",
      "All work and no play makes Jack a dull boy. \n",
      "All work and no play makes Jack a dull boy. \n",
      "All work and no play makes Jack a dull boy. \n",
      "All work and no play makes Jack a dull boy. \n",
      "All work and no play makes Jack a dull boy. \n"
     ]
    }
   ],
   "source": [
    "# How many repeats?\n",
    "for x in sentence:\n",
    "  print(sentence)"
   ]
  },
  {
   "cell_type": "code",
   "execution_count": null,
   "id": "c9981bb4",
   "metadata": {
    "collapsed": true
   },
   "outputs": [],
   "source": [
    "# Check if a given word (\"Jack\", \"peace\") is present in the sentence:\n",
    "print(\"Jack\" in sentence)\n",
    "\n",
    "if \"Jack\" in sentence:\n",
    "    print(\"Here's Johnny\")\n",
    "\n",
    "if \"peace\" not in sentence:\n",
    "    print(\"No peace found.\")"
   ]
  },
  {
   "cell_type": "markdown",
   "id": "590617df",
   "metadata": {},
   "source": [
    "### The continue keyword"
   ]
  },
  {
   "cell_type": "code",
   "execution_count": null,
   "id": "412f39ab",
   "metadata": {
    "collapsed": true
   },
   "outputs": [
    {
     "name": "stdout",
     "output_type": "stream",
     "text": [
      "11\n",
      "13\n",
      "17\n",
      "19\n",
      "23\n",
      "29\n",
      "31\n",
      "37\n",
      "41\n",
      "43\n",
      "47\n",
      "53\n",
      "59\n",
      "61\n",
      "67\n",
      "71\n",
      "73\n",
      "79\n",
      "83\n",
      "89\n",
      "97\n"
     ]
    }
   ],
   "source": [
    "# Used to interrupt the instructions provided in the loop and return to the beginning of the loop\n",
    "for num in range(10,100):\n",
    "    if num % 2 == 0:\n",
    "        continue\n",
    "    if num % 3 == 0:\n",
    "        continue\n",
    "    if num % 5 == 0:\n",
    "        continue\n",
    "    if num % 7 == 0:\n",
    "        continue\n",
    "    print(num)\n",
    "    # What is the output from this loop?"
   ]
  },
  {
   "cell_type": "markdown",
   "id": "46a224da",
   "metadata": {},
   "source": [
    "## 1.9 Collections of Data"
   ]
  },
  {
   "cell_type": "code",
   "execution_count": null,
   "id": "f53c6488",
   "metadata": {
    "collapsed": true
   },
   "outputs": [],
   "source": [
    "# 4 built-in data types in Python used to store collections of data, \n",
    "# List, Tuple, Set, and Dictionary, all with different qualities and usage."
   ]
  },
  {
   "cell_type": "code",
   "execution_count": null,
   "id": "11ed640a",
   "metadata": {
    "collapsed": true
   },
   "outputs": [
    {
     "data": {
      "text/plain": [
       "'Hello World'"
      ]
     },
     "execution_count": 120,
     "metadata": {},
     "output_type": "execute_result"
    }
   ],
   "source": [
    "# This is a summary of the data types we have seen plus additional ones\n",
    "# as well as collection types\n",
    "a = \"Hello World\"  #string\n",
    "b = 20\n",
    "c = 20.5\n",
    "d = 1j       #complex\n",
    "e = frozenset({\"apple\", \"banana\", \"cherry\"}) #frozenset\n",
    "f = True #bool\n",
    "g = b\"Hello\" #bytes\n",
    "h = bytearray(5) #bytearray\n",
    "i = memoryview(bytes(5)) #memoryview\n",
    "k = None #NoneType\n",
    "\n",
    "#collection types\n",
    "l = range(6) #range\n",
    "m = [\"apple\", \"banana\", \"cherry\"] #list\n",
    "n = (\"apple\", \"banana\", \"cherry\") #tuple\n",
    "o = {\"name\" : \"John\", \"age\" : 36} #dict\n",
    "p = {\"apple\", \"banana\", \"cherry\"} #set\n",
    "\n",
    "a"
   ]
  },
  {
   "cell_type": "markdown",
   "id": "9f694299",
   "metadata": {},
   "source": [
    "### 1.9.1 List"
   ]
  },
  {
   "cell_type": "code",
   "execution_count": null,
   "id": "6fd0b970",
   "metadata": {
    "collapsed": true
   },
   "outputs": [],
   "source": [
    "# Lists are created using square brackets. (ordered, changeable, and allow duplicates)\n",
    "thislist = [\"apple\", \"banana\", \"apple\", \"cherry\", \"banana\", \"cherry\", \"orange\"]\n",
    "print(thislist)\n",
    "print(thislist[0], thislist[1], thislist[-1])\n",
    "print(thislist[:3])\n",
    "print(thislist[-4:-1])\n",
    "print(\"apple\" in thislist)\n",
    "print(\"pineapple\" in thislist)"
   ]
  },
  {
   "cell_type": "code",
   "execution_count": null,
   "id": "d4f7ed0a",
   "metadata": {
    "collapsed": true
   },
   "outputs": [
    {
     "name": "stdout",
     "output_type": "stream",
     "text": [
      "['apple', 'blackcurrant', 'watermelon', 'cherry', 'banana', 'cherry', 'orange']\n"
     ]
    }
   ],
   "source": [
    "# Change items in a range.\n",
    "thislist[1:3] = [\"blackcurrant\", \"watermelon\"]\n",
    "print(thislist)"
   ]
  },
  {
   "cell_type": "code",
   "execution_count": null,
   "id": "a726ffcc",
   "metadata": {
    "collapsed": true
   },
   "outputs": [
    {
     "name": "stdout",
     "output_type": "stream",
     "text": [
      "['apple', 'blackcurrant', 'watermelon', 'pear', 'watermelon', 'pear', 'watermelon', 'cherry', 'banana', 'cherry', 'orange']\n"
     ]
    }
   ],
   "source": [
    "# The number of itemswe replace doesn't need to be equal.\n",
    "thislist[1:2] = [\"blackcurrant\", \"watermelon\", \"pear\"]\n",
    "print(thislist)"
   ]
  },
  {
   "cell_type": "code",
   "execution_count": null,
   "id": "189f179d",
   "metadata": {
    "collapsed": true
   },
   "outputs": [],
   "source": [
    "# insert an item\n",
    "thislist.insert(2, \"fig\")"
   ]
  },
  {
   "cell_type": "code",
   "execution_count": null,
   "id": "04eea32b",
   "metadata": {
    "collapsed": true
   },
   "outputs": [
    {
     "name": "stdout",
     "output_type": "stream",
     "text": [
      "['apple', 'blackcurrant', 'fig', 'watermelon', 'pear', 'watermelon', 'pear', 'watermelon', 'cherry', 'banana', 'cherry', 'orange']\n"
     ]
    }
   ],
   "source": [
    "print(thislist)"
   ]
  },
  {
   "cell_type": "code",
   "execution_count": null,
   "id": "4cc478fa",
   "metadata": {
    "collapsed": true
   },
   "outputs": [],
   "source": [
    "# append an item\n",
    "thislist.append(\"fig\")"
   ]
  },
  {
   "cell_type": "code",
   "execution_count": null,
   "id": "7cf4bae8",
   "metadata": {
    "collapsed": true
   },
   "outputs": [
    {
     "name": "stdout",
     "output_type": "stream",
     "text": [
      "['apple', 'blackcurrant', 'fig', 'fig', 'watermelon', 'pear', 'watermelon', 'pear', 'watermelon', 'cherry', 'banana', 'cherry', 'orange', 'fig']\n"
     ]
    }
   ],
   "source": [
    "print(thislist)"
   ]
  },
  {
   "cell_type": "code",
   "execution_count": null,
   "id": "de0e08c9",
   "metadata": {
    "collapsed": true
   },
   "outputs": [
    {
     "name": "stdout",
     "output_type": "stream",
     "text": [
      "['apple', 'banana', 'cherry', 'mango', 'pineapple', 'papaya']\n"
     ]
    }
   ],
   "source": [
    "# extend with a new list\n",
    "thislist = [\"apple\", \"banana\", \"cherry\"]\n",
    "tropical = [\"mango\", \"pineapple\", \"papaya\"]\n",
    "thislist.extend(tropical)\n",
    "print(thislist)"
   ]
  },
  {
   "cell_type": "code",
   "execution_count": null,
   "id": "ec560344",
   "metadata": {
    "collapsed": true
   },
   "outputs": [
    {
     "name": "stdout",
     "output_type": "stream",
     "text": [
      "['apple', 'banana', 'cherry', 'kiwi', 'orange']\n"
     ]
    }
   ],
   "source": [
    "# it doesn';'t have to extended with a list rather it can be with tuple or dictionary\n",
    "thislist = [\"apple\", \"banana\", \"cherry\"]\n",
    "thistuple = (\"kiwi\", \"orange\")\n",
    "thislist.extend(thistuple)\n",
    "print(thislist)"
   ]
  },
  {
   "cell_type": "code",
   "execution_count": null,
   "id": "8d7a22a7",
   "metadata": {
    "collapsed": true
   },
   "outputs": [],
   "source": [
    "## 1.3 Collections of Data\n",
    "\n",
    "# 4 built-in data types in Python used to store collections of data, \n",
    "# List, Tuple, Set, and Dictionary, all with different qualities and usage.\n",
    "\n",
    "### 1.3.1 List\n",
    "\n",
    "# Lists are created using square brackets. (ordered, changeable, and allow duplicates)\n",
    "thislist = [\"apple\", \"banana\", \"apple\", \"cherry\", \"banana\", \"cherry\", \"orange\"]\n",
    "print(thislist)\n",
    "print(thislist[0], thislist[1], thislist[-1])\n",
    "print(thislist[:3])\n",
    "print(thislist[-4:-1])\n",
    "print(\"apple\" in thislist)\n",
    "print(\"pineapple\" in thislist)\n",
    "\n",
    "# Change items in a range.\n",
    "thislist[1:3] = [\"blackcurrant\", \"watermelon\"]\n",
    "print(thislist)\n",
    "\n",
    "# The number of itemswe replace doesn't need to be equal.\n",
    "thislist[1:2] = [\"blackcurrant\", \"watermelon\", \"pear\"]\n",
    "print(thislist)\n",
    "\n",
    "# insert an item\n",
    "thislist.insert(2, \"fig\")\n",
    "\n",
    "print(thislist)\n",
    "\n",
    "# append an item\n",
    "thislist.append(\"fig\")\n",
    "\n",
    "print(thislist)\n",
    "\n",
    "# extend with a new list\n",
    "thislist = [\"apple\", \"banana\", \"cherry\"]\n",
    "tropical = [\"mango\", \"pineapple\", \"papaya\"]\n",
    "thislist.extend(tropical)\n",
    "print(thislist)\n",
    "\n",
    "# it doesn't have to be extended with a list rather it can be with tuple or dictionary\n",
    "thislist = [\"apple\", \"banana\", \"cherry\"]\n",
    "thistuple = (\"kiwi\", \"orange\")\n",
    "thislist.extend(thistuple)\n",
    "print(thislist)"
   ]
  },
  {
   "cell_type": "code",
   "execution_count": null,
   "id": "61a38c7e",
   "metadata": {
    "collapsed": true
   },
   "outputs": [],
   "source": [
    "# Copy paste other collection data examples from w3schools"
   ]
  }
 ],
 "metadata": {
  "kernelspec": {
   "display_name": "Python 3 (ipykernel)",
   "language": "python",
   "name": "python3"
  },
  "language_info": {
   "codemirror_mode": {
    "name": "ipython",
    "version": 3
   },
   "file_extension": ".py",
   "mimetype": "text/x-python",
   "name": "python",
   "nbconvert_exporter": "python",
   "pygments_lexer": "ipython3",
   "version": "3.12.0"
  }
 },
 "nbformat": 4,
 "nbformat_minor": 5
}
