{
 "cells": [
  {
   "cell_type": "markdown",
   "id": "8419420c",
   "metadata": {},
   "source": [
    "### String operations 2 "
   ]
  },
  {
   "cell_type": "code",
   "execution_count": 14,
   "id": "215d80f3",
   "metadata": {},
   "outputs": [],
   "source": [
    "# News from timeout.com\n",
    "# https://www.timeout.com/newyork/restaurants/best-ice-cream-shops-in-nyc\n",
    "paragraph1 = (\"Although it first came to fame as a fairly precious artisinal local ice cream truck,\"\n",
    "    \" then chain, Van Leeuwen's more recent and geographically wider renown is for its successful stunts\"\n",
    "    \" like a \\\"limited edition\\\" mac and cheese flavor. But it still offers options like chocolate,\"\n",
    "    \" honeycomb and Sicilian pistachio, all churned with hormone-free milk sourced from upstate cows,\"\n",
    "    \" plus an array of vegan options.\")\n",
    "\n",
    "# words that appear without context https://en.wikipedia.org/wiki/Stop_word stopword\n",
    "# obtained from https://github.com/igorbrigadir/stopwords/blob/master/en/terrier.txt\n",
    "stopwords = ['a', 'all', 'although', 'an', 'and', 'as', 'for', 'from', 'is', 'it', 'its', 'more', 'of', 'then', 'to', 'with']"
   ]
  },
  {
   "cell_type": "code",
   "execution_count": 16,
   "id": "347a26ea",
   "metadata": {},
   "outputs": [
    {
     "name": "stdout",
     "output_type": "stream",
     "text": [
      "['Although', 'it', 'first', 'came', 'to', 'fame', 'as', 'a', 'fairly', 'precious', 'artisinal', 'local', 'ice', 'cream', 'truck,', 'then', 'chain,', 'Van', \"Leeuwen's\", 'more', 'recent', 'and', 'geographically', 'wider', 'renown', 'is', 'for', 'its', 'successful', 'stunts', 'like', 'a', '\"limited', 'edition\"', 'mac', 'and', 'cheese', 'flavor.', 'But', 'it', 'still', 'offers', 'options', 'like', 'chocolate,', 'honeycomb', 'and', 'Sicilian', 'pistachio,', 'all', 'churned', 'with', 'hormone-free', 'milk', 'sourced', 'from', 'upstate', 'cows,', 'plus', 'an', 'array', 'of', 'vegan', 'options.']\n",
      "A\n"
     ]
    }
   ],
   "source": [
    "# YOUR CODE STARTS HERE. We mainly use paragraph1 above\n",
    "word_list = paragraph1.split(' ')\n",
    "index = 0\n",
    "#for i in paragraph1:\n",
    "    # index += 1\n",
    "    # check = paragraph1[index]\n",
    "    # if check == ' ':\n",
    "    #     store_list.append(check)\n",
    "    \n",
    "    \n",
    "print(word_list)\n",
    "\n"
   ]
  },
  {
   "cell_type": "code",
   "execution_count": null,
   "id": "340a2523",
   "metadata": {},
   "outputs": [
    {
     "ename": "IndentationError",
     "evalue": "expected an indented block (3383446988.py, line 15)",
     "output_type": "error",
     "traceback": [
      "\u001b[0;36m  Input \u001b[0;32mIn [18]\u001b[0;36m\u001b[0m\n\u001b[0;31m    contextual_world_list\u001b[0m\n\u001b[0m    ^\u001b[0m\n\u001b[0;31mIndentationError\u001b[0m\u001b[0;31m:\u001b[0m expected an indented block\n"
     ]
    }
   ],
   "source": [
    "# YOUR CODE (CONT.)\n",
    "#Q3 get the lengtn \n",
    "print(len(word_list))\n",
    "\n",
    "#Q4 Check if ice and potato is in the list \n",
    "print(\"ice\" in word_list)\n",
    "print(\"potato\" in word_list)\n",
    "\n",
    "#Q5 Sort list alphabetically \n",
    "sorted(word_list)\n",
    "    #Q5.1 remove double quotes \n",
    "for word in word_list:\n",
    "    word_list = word.strip('\\\"')\n",
    "\n",
    "#Q6 Remove words in stopwords list from the word_list use for loop, in, append or remove\n",
    "\n",
    "# for i in stopwords:\n",
    "#     if stopwords[i] in word_list:\n",
    "#         word_list \n",
    "# contextual_world_list  \n",
    "\n",
    "word_list.pop(index)"
   ]
  },
  {
   "cell_type": "markdown",
   "id": "7deeddc9",
   "metadata": {},
   "source": [
    "### Additional resources"
   ]
  },
  {
   "cell_type": "code",
   "execution_count": 2,
   "id": "8dd3c480",
   "metadata": {},
   "outputs": [],
   "source": [
    "# This is NOT used in the session.\n",
    "# source: https://www.timeout.com/newyork/restaurants/best-ice-cream-shops-in-nyc\n",
    "paragraph2 = (\"Big Gay Ice Cream Shop \"\n",
    "    \"Ice cream truckers Doug Quint and Bryan Petroff offer their quirky soft-serve creations \"\n",
    "    \"in a cute West Village shop, emblazoned with a giant rainbow-swirled cone. \"\n",
    "    \"Crowd favorites like the Dorothy (vanilla ice cream, dulce de leche and crushed Nilla wafers) \"\n",
    "    \"will make you feel like a golden girl.\")\n",
    "\n",
    "# News from Eater.com\n",
    "# https://ny.eater.com/maps/best-soft-serve-nyc\n",
    "paragraph3 = (\"Milk & Cream Cereal Bar \"\n",
    "    \"Subtle is not an option at this shop,where the joy is in choosing from the staggering menu of cereals,\"\n",
    "    \" toppings, and mix-in’s to blend in with vanilla or cookie dough soft serve flavors.\"\n",
    "    \" The Chinatown-based Milk & Cream is also worth visiting for their off-the-wall collaborations and experiments,\"\n",
    "    \" like a green Reptar ice cream bar in conjunction with Rugrats or an ice cream nugget with First We Feast.\"\n",
    "    \" For the uninitiated, try the Apple Jacks Avalanche, a perfect homage to childhood memories.\")\n",
    "paragraph4 = (\"Chikarashi \"\n",
    "    \"For die-hard Disneyland fans and West Coast natives, the airy, tangy pineapple soft serve known as Dole Whip\"\n",
    "    \" conjures up childhood summertime memories like nothing else. Almost impossible to find on the East Coast,\"\n",
    "    \" the original Dole Whip and seasonal flavors like watermelon are much closer than a transcontinental flight\"\n",
    "    \" thanks to the owners of the well-regarded poke spot Chikarashi. Try the Dole float with fresh pineapple\"\n",
    "    \" if available for a tart-sweet pairing.\")"
   ]
  },
  {
   "cell_type": "code",
   "execution_count": 3,
   "id": "4f8303e2",
   "metadata": {},
   "outputs": [],
   "source": [
    "# List of all stopwords: This is NOT used in the session, only for your interest\n",
    "link = 'https://raw.githubusercontent.com/igorbrigadir/stopwords/master/en/terrier.txt'\n",
    "from urllib import request\n",
    "stopwords_full = request.urlopen(link).read().decode(\"utf-8\").split()"
   ]
  }
 ],
 "metadata": {
  "kernelspec": {
   "display_name": "Python 3 (ipykernel)",
   "language": "python",
   "name": "python3"
  },
  "language_info": {
   "codemirror_mode": {
    "name": "ipython",
    "version": 3
   },
   "file_extension": ".py",
   "mimetype": "text/x-python",
   "name": "python",
   "nbconvert_exporter": "python",
   "pygments_lexer": "ipython3",
   "version": "3.10.6"
  }
 },
 "nbformat": 4,
 "nbformat_minor": 5
}
