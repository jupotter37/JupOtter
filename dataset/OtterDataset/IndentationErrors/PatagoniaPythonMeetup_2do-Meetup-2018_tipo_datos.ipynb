{
 "cells": [
  {
   "cell_type": "markdown",
   "metadata": {
    "slideshow": {
     "slide_type": "subslide"
    }
   },
   "source": [
    "# Variables en Python\n",
    "\n",
    "Para asignar valores a las variables utilizamos el signo ***=*** (operador de asignación).\n",
    "- Nota: No necesitas declarar variables o el tipo antes de usuarlas. Cada variable en Python es un *objeto*"
   ]
  },
  {
   "cell_type": "code",
   "execution_count": 1,
   "metadata": {},
   "outputs": [],
   "source": [
    "mes = 5"
   ]
  },
  {
   "cell_type": "code",
   "execution_count": 2,
   "metadata": {},
   "outputs": [
    {
     "data": {
      "text/plain": [
       "5"
      ]
     },
     "execution_count": 2,
     "metadata": {},
     "output_type": "execute_result"
    }
   ],
   "source": [
    "mes"
   ]
  },
  {
   "cell_type": "code",
   "execution_count": 3,
   "metadata": {},
   "outputs": [
    {
     "name": "stdout",
     "output_type": "stream",
     "text": [
      "5\n"
     ]
    }
   ],
   "source": [
    "print(mes)  #imprimir"
   ]
  },
  {
   "cell_type": "markdown",
   "metadata": {},
   "source": [
    "# Tipos de datos"
   ]
  },
  {
   "cell_type": "markdown",
   "metadata": {},
   "source": [
    "## Booleanos"
   ]
  },
  {
   "cell_type": "markdown",
   "metadata": {},
   "source": [
    "Muy útil en las expresiones *condicionales* y cualquier otro lugar que se necesite la verdad o falsedad de una condición.\n",
    "\n",
    "**True | False**"
   ]
  },
  {
   "cell_type": "code",
   "execution_count": 4,
   "metadata": {},
   "outputs": [],
   "source": [
    "verdad = True\n",
    "falso = False"
   ]
  },
  {
   "cell_type": "code",
   "execution_count": 5,
   "metadata": {},
   "outputs": [
    {
     "data": {
      "text/plain": [
       "bool"
      ]
     },
     "execution_count": 5,
     "metadata": {},
     "output_type": "execute_result"
    }
   ],
   "source": [
    "type(verdad)  #tipo de dato"
   ]
  },
  {
   "cell_type": "markdown",
   "metadata": {},
   "source": [
    "#### Funciones lógicas and | or | not"
   ]
  },
  {
   "cell_type": "code",
   "execution_count": 6,
   "metadata": {},
   "outputs": [
    {
     "data": {
      "text/plain": [
       "True"
      ]
     },
     "execution_count": 6,
     "metadata": {},
     "output_type": "execute_result"
    }
   ],
   "source": [
    "verdad or False"
   ]
  },
  {
   "cell_type": "markdown",
   "metadata": {},
   "source": [
    "## Numéricos"
   ]
  },
  {
   "cell_type": "markdown",
   "metadata": {},
   "source": [
    "Enteros | int()\n",
    "\n",
    "Reales o decimales (punto flotante) | float()\n",
    "\n",
    "Complejos (imaginarios) | complex()"
   ]
  },
  {
   "cell_type": "code",
   "execution_count": 7,
   "metadata": {},
   "outputs": [],
   "source": [
    "entero = 5\n",
    "decimal = 5.4\n",
    "real = 0.5e-3\n",
    "complejo = 5.2+7j"
   ]
  },
  {
   "cell_type": "code",
   "execution_count": 8,
   "metadata": {},
   "outputs": [
    {
     "data": {
      "text/plain": [
       "5"
      ]
     },
     "execution_count": 8,
     "metadata": {},
     "output_type": "execute_result"
    }
   ],
   "source": [
    "int(decimal)"
   ]
  },
  {
   "cell_type": "code",
   "execution_count": 9,
   "metadata": {},
   "outputs": [
    {
     "data": {
      "text/plain": [
       "5.0"
      ]
     },
     "execution_count": 9,
     "metadata": {},
     "output_type": "execute_result"
    }
   ],
   "source": [
    "float(entero)"
   ]
  },
  {
   "cell_type": "code",
   "execution_count": 10,
   "metadata": {},
   "outputs": [
    {
     "data": {
      "text/plain": [
       "(5.4+0j)"
      ]
     },
     "execution_count": 10,
     "metadata": {},
     "output_type": "execute_result"
    }
   ],
   "source": [
    "complex(decimal)"
   ]
  },
  {
   "cell_type": "markdown",
   "metadata": {},
   "source": [
    "#### Operadores matematicos + | - | * | / | // | %"
   ]
  },
  {
   "cell_type": "code",
   "execution_count": 11,
   "metadata": {},
   "outputs": [
    {
     "data": {
      "text/plain": [
       "8"
      ]
     },
     "execution_count": 11,
     "metadata": {},
     "output_type": "execute_result"
    }
   ],
   "source": [
    "5+3"
   ]
  },
  {
   "cell_type": "markdown",
   "metadata": {},
   "source": [
    "#### Operadores racionales < | > | == | != | <= | >="
   ]
  },
  {
   "cell_type": "code",
   "execution_count": 4,
   "metadata": {},
   "outputs": [
    {
     "ename": "SyntaxError",
     "evalue": "can't assign to literal (<ipython-input-4-7b4828c80852>, line 1)",
     "output_type": "error",
     "traceback": [
      "\u001b[0;36m  File \u001b[0;32m\"<ipython-input-4-7b4828c80852>\"\u001b[0;36m, line \u001b[0;32m1\u001b[0m\n\u001b[0;31m    5 = 3 + 1\u001b[0m\n\u001b[0m             ^\u001b[0m\n\u001b[0;31mSyntaxError\u001b[0m\u001b[0;31m:\u001b[0m can't assign to literal\n"
     ]
    }
   ],
   "source": [
    "5 = 3 + 1"
   ]
  },
  {
   "cell_type": "markdown",
   "metadata": {},
   "source": [
    "## Cadenas | Strings"
   ]
  },
  {
   "cell_type": "markdown",
   "metadata": {},
   "source": [
    "Texto encerrado entre comillas simples (‘cadena’) o dobles (“cadena”)"
   ]
  },
  {
   "cell_type": "code",
   "execution_count": 13,
   "metadata": {},
   "outputs": [],
   "source": [
    "cadena = \"esto es un texto\"\n",
    "texto = 'y esto tambien es \"texto\"'"
   ]
  },
  {
   "cell_type": "markdown",
   "metadata": {},
   "source": [
    "Las cadenas también admiten operadores como la suma (para concatenar) y la multiplicación"
   ]
  },
  {
   "cell_type": "code",
   "execution_count": 14,
   "metadata": {},
   "outputs": [
    {
     "name": "stdout",
     "output_type": "stream",
     "text": [
      "esto es un texto\n",
      "y esto tambien es \"texto\"\n"
     ]
    }
   ],
   "source": [
    "print(cadena+'\\n'+texto)"
   ]
  },
  {
   "cell_type": "code",
   "execution_count": 15,
   "metadata": {},
   "outputs": [
    {
     "data": {
      "text/plain": [
       "'y esto tambien es \"texto\"y esto tambien es \"texto\"y esto tambien es \"texto\"'"
      ]
     },
     "execution_count": 15,
     "metadata": {},
     "output_type": "execute_result"
    }
   ],
   "source": [
    "texto*3"
   ]
  },
  {
   "cell_type": "markdown",
   "metadata": {},
   "source": [
    "## Listas"
   ]
  },
  {
   "cell_type": "markdown",
   "metadata": {},
   "source": [
    "Son contenedores de elementos (pueden contener distintos tipos de datos) separados por comas y entre corchetes([ ])."
   ]
  },
  {
   "cell_type": "code",
   "execution_count": 16,
   "metadata": {},
   "outputs": [],
   "source": [
    "meses = [\"enero\", \"febrero\", \"marzo\", \"abril\", \"mayo\"]\n",
    "meses = [\"enero\", 2, 3.0, [4, 'abril'], True]"
   ]
  },
  {
   "cell_type": "code",
   "execution_count": 17,
   "metadata": {},
   "outputs": [
    {
     "data": {
      "text/plain": [
       "'enero'"
      ]
     },
     "execution_count": 17,
     "metadata": {},
     "output_type": "execute_result"
    }
   ],
   "source": [
    "#Acceder a un elemento\n",
    "meses[0]"
   ]
  },
  {
   "cell_type": "code",
   "execution_count": 18,
   "metadata": {},
   "outputs": [
    {
     "data": {
      "text/plain": [
       "[4, 'abril']"
      ]
     },
     "execution_count": 18,
     "metadata": {},
     "output_type": "execute_result"
    }
   ],
   "source": [
    "#Acceso con indexación negativa\n",
    "meses[-2]"
   ]
  },
  {
   "cell_type": "code",
   "execution_count": 19,
   "metadata": {},
   "outputs": [
    {
     "data": {
      "text/plain": [
       "['enero', 2, 3.0, [4, 'abril'], True, 'junio']"
      ]
     },
     "execution_count": 19,
     "metadata": {},
     "output_type": "execute_result"
    }
   ],
   "source": [
    "#Agregar elemento a la lista\n",
    "meses.append(\"junio\")\n",
    "meses"
   ]
  },
  {
   "cell_type": "code",
   "execution_count": 20,
   "metadata": {},
   "outputs": [
    {
     "data": {
      "text/plain": [
       "['enero', 'febrero', 3.0, [4, 'abril'], True, 'junio']"
      ]
     },
     "execution_count": 20,
     "metadata": {},
     "output_type": "execute_result"
    }
   ],
   "source": [
    "#Cambiar elemento de la lista\n",
    "meses[1] = \"febrero\"\n",
    "meses"
   ]
  },
  {
   "cell_type": "code",
   "execution_count": 21,
   "metadata": {},
   "outputs": [
    {
     "data": {
      "text/plain": [
       "['febrero', 3.0, [4, 'abril'], True, 'junio']"
      ]
     },
     "execution_count": 21,
     "metadata": {},
     "output_type": "execute_result"
    }
   ],
   "source": [
    "#Eliminar elemento\n",
    "meses.pop(0)\n",
    "meses"
   ]
  },
  {
   "cell_type": "code",
   "execution_count": 22,
   "metadata": {},
   "outputs": [
    {
     "data": {
      "text/plain": [
       "5"
      ]
     },
     "execution_count": 22,
     "metadata": {},
     "output_type": "execute_result"
    }
   ],
   "source": [
    "#Tamaño de la lista\n",
    "len(meses)"
   ]
  },
  {
   "cell_type": "code",
   "execution_count": 23,
   "metadata": {},
   "outputs": [],
   "source": [
    "#Lista vacia\n",
    "vacia = []"
   ]
  },
  {
   "cell_type": "markdown",
   "metadata": {},
   "source": [
    "## Tuplas"
   ]
  },
  {
   "cell_type": "markdown",
   "metadata": {},
   "source": [
    "Es una lista inmutable - *NO puede modificarse* de ningún modo después de su creación"
   ]
  },
  {
   "cell_type": "code",
   "execution_count": 24,
   "metadata": {},
   "outputs": [
    {
     "name": "stdout",
     "output_type": "stream",
     "text": [
      "(0, (1, 2, 3))\n"
     ]
    }
   ],
   "source": [
    "tupla1 = 1,2,3\n",
    "tupla2 = 0, tupla1\n",
    "print(tupla2)"
   ]
  },
  {
   "cell_type": "markdown",
   "metadata": {},
   "source": [
    "## Diccionario"
   ]
  },
  {
   "cell_type": "markdown",
   "metadata": {},
   "source": [
    "Define una relación uno a uno entre claves y valores (es un conjunto NO ordenado). Los elementos de un diccionario son indexados por llaves {}"
   ]
  },
  {
   "cell_type": "code",
   "execution_count": 25,
   "metadata": {},
   "outputs": [],
   "source": [
    "diccionario = {\n",
    "    \"nombre\":\"Patagonia Python Meetup\",\n",
    "    \"mes\": 5,\n",
    "    \"ciudad\":\"Puerto Madryn\",\n",
    "    2 : True,\n",
    "}"
   ]
  },
  {
   "cell_type": "markdown",
   "metadata": {},
   "source": [
    "+ La clave *nombre* apunta al valor *'Patagonia Python Meetup'* (un objeto string)"
   ]
  },
  {
   "cell_type": "code",
   "execution_count": 26,
   "metadata": {},
   "outputs": [
    {
     "name": "stdout",
     "output_type": "stream",
     "text": [
      "Patagonia Python Meetup\n"
     ]
    }
   ],
   "source": [
    "#Acceder a un valor\n",
    "print(diccionario['nombre'])"
   ]
  },
  {
   "cell_type": "markdown",
   "metadata": {},
   "source": [
    "Los diccionarios también son mutables, lo que significa que pueden ser cambiados después de ser creados. \n",
    "Puedes agregar nuevos pares clave/valor en el diccionario después de que ha sido creado"
   ]
  },
  {
   "cell_type": "code",
   "execution_count": 27,
   "metadata": {},
   "outputs": [
    {
     "data": {
      "text/plain": [
       "{2: True,\n",
       " 'ciudad': 'Puerto Madryn',\n",
       " 'mes': 5,\n",
       " 'nombre': 'Patagonia Python Meetup',\n",
       " 'ubicacion': 'Cenpat'}"
      ]
     },
     "execution_count": 27,
     "metadata": {},
     "output_type": "execute_result"
    }
   ],
   "source": [
    "diccionario['ubicacion'] = 'Cenpat'\n",
    "diccionario"
   ]
  },
  {
   "cell_type": "code",
   "execution_count": 28,
   "metadata": {},
   "outputs": [
    {
     "data": {
      "text/plain": [
       "5"
      ]
     },
     "execution_count": 28,
     "metadata": {},
     "output_type": "execute_result"
    }
   ],
   "source": [
    "#Tamaño del diccionario\n",
    "len(diccionario)"
   ]
  },
  {
   "cell_type": "markdown",
   "metadata": {},
   "source": [
    "# Condicionales"
   ]
  },
  {
   "cell_type": "markdown",
   "metadata": {},
   "source": [
    "## if | elif | else"
   ]
  },
  {
   "cell_type": "markdown",
   "metadata": {},
   "source": [
    "El condicional **if** hace que se ejecute una parte del código si la condición es True (verdadera), de lo contrario seguirá otro camino. "
   ]
  },
  {
   "cell_type": "code",
   "execution_count": 29,
   "metadata": {},
   "outputs": [
    {
     "name": "stdout",
     "output_type": "stream",
     "text": [
      "puedes pasar!\n"
     ]
    }
   ],
   "source": [
    "edad = 20\n",
    "if edad > 18:\n",
    "    print(\"puedes pasar!\")"
   ]
  },
  {
   "cell_type": "markdown",
   "metadata": {},
   "source": [
    "A menudo, asociado con el condicional *if* encontramos los condicionales *elif* y *else*.\n",
    "Si la condición del *if* se cumple se ejecuta el código del if, pero si no se cumple, se ejecuta el código del **else**"
   ]
  },
  {
   "cell_type": "code",
   "execution_count": 30,
   "metadata": {},
   "outputs": [
    {
     "name": "stdout",
     "output_type": "stream",
     "text": [
      "no puedes pasar!\n"
     ]
    }
   ],
   "source": [
    "edad = 2\n",
    "if edad > 18:\n",
    "    print(\"puedes pasar!\")\n",
    "else:\n",
    "    print(\"no puedes pasar!\")"
   ]
  },
  {
   "cell_type": "markdown",
   "metadata": {},
   "source": [
    "El condicional **elif** (else if) contiene otra condición, en caso de que la condición en **if** no se cumpla.\n",
    "Se pueden escribir tantos bloques *elif* como sean necesarios. El bloque *else* (que es opcional) se ejecuta si no se cumple ninguna de las condiciones anteriores."
   ]
  },
  {
   "cell_type": "code",
   "execution_count": 5,
   "metadata": {},
   "outputs": [
    {
     "ename": "IndentationError",
     "evalue": "expected an indented block (<ipython-input-5-0dd3f1f2a511>, line 3)",
     "output_type": "error",
     "traceback": [
      "\u001b[0;36m  File \u001b[0;32m\"<ipython-input-5-0dd3f1f2a511>\"\u001b[0;36m, line \u001b[0;32m3\u001b[0m\n\u001b[0;31m    print(\"puedes pasar!\")\u001b[0m\n\u001b[0m        ^\u001b[0m\n\u001b[0;31mIndentationError\u001b[0m\u001b[0;31m:\u001b[0m expected an indented block\n"
     ]
    }
   ],
   "source": [
    "edad = 18\n",
    "if edad > 18:\n",
    "print(\"puedes pasar!\")\n",
    "elif edad == 18:\n",
    "    print(\"necesitas un permiso para pasar!\")\n",
    "else:\n",
    "    print(\"no puedes pasar!\")"
   ]
  },
  {
   "cell_type": "markdown",
   "metadata": {},
   "source": [
    "#### Los bloques y la Identación (tabulación, espaciado, sangría...)"
   ]
  },
  {
   "cell_type": "markdown",
   "metadata": {},
   "source": [
    "Todas las declaraciones de código con la misma distancia a la derecha pertenecen al mismo *bloque* de código (el bloque termina en una línea con menos sangría o al final del código). Los bloques se pueden *anidar* agregando más sangrías a la derecha. La **identación** se utiliza para que los códigos sean más legibles y comprensibles para los programadores. Como se puede ver, el código que sigue al condicional if y else comienza con una identación de 4 espacios (un tabulador). "
   ]
  },
  {
   "cell_type": "markdown",
   "metadata": {},
   "source": [
    "<img src=\"identacion.png\">\n",
    "<p><center><small>pythondiario.com</small></center></p>"
   ]
  },
  {
   "cell_type": "code",
   "execution_count": 32,
   "metadata": {},
   "outputs": [
    {
     "name": "stdout",
     "output_type": "stream",
     "text": [
      "con el permiso puedes pasar!\n"
     ]
    }
   ],
   "source": [
    "edad = 18\n",
    "permiso = True\n",
    "if edad > 18:\n",
    "    print(\"puedes pasar!\")\n",
    "elif edad == 18:\n",
    "    if permiso == True:\n",
    "        print(\"con el permiso puedes pasar!\")\n",
    "    else:\n",
    "        print(\"no tienes permiso para pasar!\")\n",
    "else:\n",
    "    print(\"no puedes pasar!\")"
   ]
  },
  {
   "cell_type": "markdown",
   "metadata": {},
   "source": [
    "# Bucles"
   ]
  },
  {
   "cell_type": "markdown",
   "metadata": {},
   "source": [
    "Un bucle es una estructura de control que repite un bloque de instrucciones."
   ]
  },
  {
   "cell_type": "markdown",
   "metadata": {},
   "source": [
    "## While"
   ]
  },
  {
   "cell_type": "markdown",
   "metadata": {},
   "source": [
    "Esta es una sentencia de **repetición**. Ejecuta un bloque de codigo hasta que la condición es *False*.\n",
    "Python evalúa la condición, si es cierta, ejecuta el bloque. Una vez ejecutado, se repite el proceso (se evalúa de nuevo la condición y, si es cierta, se ejecuta de nuevo) una y otra vez mientras la condición sea *True*. Únicamente cuando la condición sea *False*, el bloque no se ejecutará."
   ]
  },
  {
   "cell_type": "code",
   "execution_count": 33,
   "metadata": {},
   "outputs": [
    {
     "name": "stdout",
     "output_type": "stream",
     "text": [
      "1\n",
      "2\n",
      "3\n",
      "Fin\n"
     ]
    }
   ],
   "source": [
    "i = 1\n",
    "while i <= 3:\n",
    "    print(i)\n",
    "    i += 1 #Contador i = i + 1\n",
    "print(\"Fin\")"
   ]
  },
  {
   "cell_type": "markdown",
   "metadata": {},
   "source": [
    "## For"
   ]
  },
  {
   "cell_type": "markdown",
   "metadata": {},
   "source": [
    "Es un bucle que repite el bloque de instrucciones un número prederminado de veces. El bloque de instrucciones que se repite se suele llamar cuerpo del bucle y cada repetición se suele llamar **iteración**."
   ]
  },
  {
   "cell_type": "code",
   "execution_count": 34,
   "metadata": {},
   "outputs": [
    {
     "name": "stdout",
     "output_type": "stream",
     "text": [
      "i=1 | suma=1\n",
      "i=2 | suma=3\n",
      "i=3 | suma=6\n",
      "i=4 | suma=10\n",
      "La suma de los números de 1 a 4 es 10\n"
     ]
    }
   ],
   "source": [
    "suma = 0\n",
    "for i in [1, 2, 3, 4]:\n",
    "    suma = suma + i #Acumulador \n",
    "    print(f\"i={i} | suma={suma}\")\n",
    "print(f\"La suma de los números de 1 a 4 es {suma}\") #imprimir variable entre {}"
   ]
  },
  {
   "cell_type": "markdown",
   "metadata": {},
   "source": [
    "# Funciones | métodos"
   ]
  },
  {
   "cell_type": "markdown",
   "metadata": {},
   "source": [
    "Una función es una secuencia de instrucciones a ejecutar. Cada función en Python comienza con la palabra clave **def**, se le asigna un nombre y puede tener algunos parámetros."
   ]
  },
  {
   "cell_type": "code",
   "execution_count": 35,
   "metadata": {},
   "outputs": [
    {
     "name": "stdout",
     "output_type": "stream",
     "text": [
      "mi primera función en Python!\n"
     ]
    }
   ],
   "source": [
    "def mifuncion():\n",
    "    print('mi primera función en Python!')\n",
    "mifuncion()"
   ]
  },
  {
   "cell_type": "code",
   "execution_count": 36,
   "metadata": {},
   "outputs": [],
   "source": [
    "def funcion_suma(suma):\n",
    "    for i in [1, 2, 3, 4]:\n",
    "        suma = suma + i #Acumulador\n",
    "    print(f\"La suma de los números de 1 a 4 es {suma}\") #imprimir variable entre {}"
   ]
  },
  {
   "cell_type": "code",
   "execution_count": 37,
   "metadata": {},
   "outputs": [
    {
     "name": "stdout",
     "output_type": "stream",
     "text": [
      "La suma de los números de 1 a 4 es 17\n"
     ]
    }
   ],
   "source": [
    "suma = 7\n",
    "funcion_suma(suma)"
   ]
  },
  {
   "cell_type": "markdown",
   "metadata": {},
   "source": [
    "# Clases y Objetos"
   ]
  },
  {
   "cell_type": "markdown",
   "metadata": {},
   "source": [
    "Las clases proveen una forma de **empaquetar datos y funcionalidad** juntos. Al crear una nueva clase, se crea un nuevo tipo de **objeto**, permitiendo crear nuevas instancias de ese tipo."
   ]
  },
  {
   "cell_type": "markdown",
   "metadata": {},
   "source": [
    "En Python, una clase se define con la instrucción **class** seguida de un nombre del objeto.\n",
    "Las *propiedades* o **atributos** son las características intrínsecas del objeto y se representan a modo de **variables**"
   ]
  },
  {
   "cell_type": "code",
   "execution_count": 38,
   "metadata": {},
   "outputs": [],
   "source": [
    "class Objeto(): \n",
    "    color = \"azul\" \n",
    "    forma = \"circular\""
   ]
  },
  {
   "cell_type": "markdown",
   "metadata": {},
   "source": [
    "Algunos objetos comparten las mismas propiedades y métodos que otro objeto, y además agregan nuevas propiedades y métodos. A esto se lo denomina **herencia**: una clase que hereda de otra. Vale aclarar, que en Python, cuando una clase no hereda de ninguna otra, debe hacerse heredar de **object**, que es la clase principal de Python, que define un objeto.\n",
    "**self** sirve para hacer referencias a los atributos de clase y es la forma en que cualquier clase u objeto se refiere a si mismo.\n",
    "\n",
    "Muchas clases necesitan crear objetos con instancias en un estado inicial particular. Por lo tanto una clase puede definir un método especial llamado **__init__()**"
   ]
  },
  {
   "cell_type": "code",
   "execution_count": 39,
   "metadata": {},
   "outputs": [],
   "source": [
    "class Perro(object):\n",
    "    def __init__(self, nombre, raza, edad):  #metodo inicial\n",
    "        self.nombre = nombre\n",
    "        self.raza = raza\n",
    "        self.edad = edad\n",
    "        \n",
    "    def ladra(self):\n",
    "        print (self.nombre, \"ladra cuando tiene hambre\")"
   ]
  },
  {
   "cell_type": "markdown",
   "metadata": {},
   "source": [
    "A la acción de crear objetos se la llama **instanciar una clase** y dicha instancia, consiste en asignar la clase como valor a una variable."
   ]
  },
  {
   "cell_type": "code",
   "execution_count": 40,
   "metadata": {},
   "outputs": [
    {
     "name": "stdout",
     "output_type": "stream",
     "text": [
      "azul\n",
      "Masha ladra cuando tiene hambre\n"
     ]
    }
   ],
   "source": [
    "instancia = Objeto() \n",
    "print (instancia.color) \n",
    "\n",
    "mascota = Perro(\"Masha\", \"Labrador\", 3)\n",
    "mascota.ladra()"
   ]
  },
  {
   "cell_type": "markdown",
   "metadata": {},
   "source": [
    "Cuando una clase **hereda** otra..."
   ]
  },
  {
   "cell_type": "code",
   "execution_count": 41,
   "metadata": {},
   "outputs": [],
   "source": [
    "class Persona():\n",
    "    def __init__(self,nombre,edad,peso):\n",
    "        self.nombre = nombre\n",
    "        self.edad = edad\n",
    "        self.peso = peso\n",
    "        \n",
    "    def saludar(self):\n",
    "        print(\"Hola {}\".format(self.nombre))"
   ]
  },
  {
   "cell_type": "code",
   "execution_count": 42,
   "metadata": {},
   "outputs": [
    {
     "name": "stdout",
     "output_type": "stream",
     "text": [
      "Hola Gerado\n"
     ]
    }
   ],
   "source": [
    "p = Persona(\"Gerado\",30,80)\n",
    "p.saludar()"
   ]
  },
  {
   "cell_type": "code",
   "execution_count": 43,
   "metadata": {},
   "outputs": [],
   "source": [
    "class Alumno(Persona):\n",
    "    def __init__(self,nombre,edad,peso,matricula,materias):\n",
    "        Persona.__init__(self,nombre,edad,peso)\n",
    "        self.matricula = matricula\n",
    "        self.materias = materias"
   ]
  },
  {
   "cell_type": "code",
   "execution_count": 44,
   "metadata": {},
   "outputs": [
    {
     "name": "stdout",
     "output_type": "stream",
     "text": [
      "Hola Pablo\n",
      "Materias matriculadas: ['algebra', 'analisis']\n"
     ]
    }
   ],
   "source": [
    "a = Alumno(\"Pablo\",30,80,12345,[\"algebra\",\"analisis\"])\n",
    "a.saludar()\n",
    "\n",
    "print(\"Materias matriculadas: {}\".format(a.materias))"
   ]
  },
  {
   "cell_type": "markdown",
   "metadata": {},
   "source": [
    "..."
   ]
  },
  {
   "cell_type": "markdown",
   "metadata": {},
   "source": [
    "<small><img src=\"python-thanks0.jpg\"></small>"
   ]
  }
 ],
 "metadata": {
  "kernelspec": {
   "display_name": "Python 3",
   "language": "python",
   "name": "python3"
  },
  "language_info": {
   "codemirror_mode": {
    "name": "ipython",
    "version": 3
   },
   "file_extension": ".py",
   "mimetype": "text/x-python",
   "name": "python",
   "nbconvert_exporter": "python",
   "pygments_lexer": "ipython3",
   "version": "3.6.4"
  }
 },
 "nbformat": 4,
 "nbformat_minor": 2
}
