{
 "cells": [
  {
   "cell_type": "code",
   "execution_count": 2,
   "id": "f34ef5f9",
   "metadata": {},
   "outputs": [],
   "source": [
    "# given taks"
   ]
  },
  {
   "cell_type": "code",
   "execution_count": 3,
   "id": "5d5e0999",
   "metadata": {},
   "outputs": [],
   "source": [
    "# Q1) find perfect number "
   ]
  },
  {
   "cell_type": "code",
   "execution_count": 14,
   "id": "8443f1a6",
   "metadata": {},
   "outputs": [],
   "source": [
    "def perfect(x):\n",
    "    sum = 1 \n",
    "    if x > 2:\n",
    "        for i in range(2,(x//2)+1):\n",
    "            if x%i == 0 :\n",
    "                sum+=i\n",
    "        if x== sum:\n",
    "            result = (f\"{x} is a perfect number\")\n",
    "        else:\n",
    "            result = (f\"{x} is not a perfect number\")\n",
    "            \n",
    "    else : \n",
    "        result = (f\"{x} is not a perfect number\")\n",
    "    return result\n"
   ]
  },
  {
   "cell_type": "code",
   "execution_count": 15,
   "id": "40468cba",
   "metadata": {},
   "outputs": [
    {
     "name": "stdout",
     "output_type": "stream",
     "text": [
      "13 is not a perfect number\n"
     ]
    }
   ],
   "source": [
    "x = 13\n",
    "y = perfect(x)\n",
    "print(y)"
   ]
  },
  {
   "cell_type": "code",
   "execution_count": 17,
   "id": "bb607c33",
   "metadata": {},
   "outputs": [],
   "source": [
    "# Q2) prime number in given range"
   ]
  },
  {
   "cell_type": "code",
   "execution_count": 55,
   "id": "d38fbb6e",
   "metadata": {},
   "outputs": [],
   "source": [
    "import numpy as np\n",
    "def prim(x):\n",
    "    lst = []\n",
    "    if x > 1:\n",
    "        lst.append(2)\n",
    "        for i in range(2,x+1):\n",
    "          \n",
    "            flag = True\n",
    "            rng = int(np.ceil(np.sqrt(i)))  \n",
    "            \n",
    "            for j in range(2,rng+1):\n",
    "                if i%j ==0:\n",
    "                    flag = False\n",
    "                    break\n",
    "                    \n",
    "            if flag ==True:\n",
    "                lst.append(i)\n",
    "                \n",
    "    else:\n",
    "        lst.append(0)\n",
    "    return lst"
   ]
  },
  {
   "cell_type": "code",
   "execution_count": 61,
   "id": "100d3538",
   "metadata": {},
   "outputs": [
    {
     "name": "stdout",
     "output_type": "stream",
     "text": [
      "[2, 3, 5, 7, 11, 13, 17, 19]\n"
     ]
    }
   ],
   "source": [
    "x = 21\n",
    "y = prim(x)\n",
    "print(y)"
   ]
  },
  {
   "cell_type": "code",
   "execution_count": 39,
   "id": "6102b826",
   "metadata": {},
   "outputs": [
    {
     "data": {
      "text/plain": [
       "2"
      ]
     },
     "execution_count": 39,
     "metadata": {},
     "output_type": "execute_result"
    }
   ],
   "source": []
  },
  {
   "cell_type": "code",
   "execution_count": 62,
   "id": "f1b8d852",
   "metadata": {},
   "outputs": [],
   "source": [
    "# Q3 ) Fibunachi series"
   ]
  },
  {
   "cell_type": "code",
   "execution_count": 66,
   "id": "5af40e1a",
   "metadata": {},
   "outputs": [
    {
     "name": "stdout",
     "output_type": "stream",
     "text": [
      "7\n",
      "[0, 1, 1, 2, 3, 5, 8]\n"
     ]
    }
   ],
   "source": [
    "x =int(input())\n",
    "n1  =0\n",
    "n2 = 1\n",
    "lst =[]\n",
    "for i in range(0,x):\n",
    "    n3 = n1 +n2\n",
    "    lst.append(n1)\n",
    "    n1,n2 = n2,n3\n",
    "    \n",
    "print(lst)"
   ]
  },
  {
   "cell_type": "code",
   "execution_count": null,
   "id": "cc9f1262",
   "metadata": {},
   "outputs": [],
   "source": []
  },
  {
   "cell_type": "code",
   "execution_count": 67,
   "id": "2cbbd631",
   "metadata": {},
   "outputs": [],
   "source": [
    "# Q4) pattern1"
   ]
  },
  {
   "cell_type": "code",
   "execution_count": 74,
   "id": "f3673e1f",
   "metadata": {},
   "outputs": [
    {
     "name": "stdout",
     "output_type": "stream",
     "text": [
      "9\n",
      "\n",
      "        *\n",
      "       **\n",
      "      * *\n",
      "     *  *\n",
      "    *   *\n",
      "     *  *\n",
      "      * *\n",
      "       **\n",
      "        *"
     ]
    }
   ],
   "source": [
    "n = int(input())\n",
    "check = n\n",
    "for i in range(1,n+1):\n",
    "    print()\n",
    "    for j in range(1,n+1):\n",
    "        if j ==n or j==check:\n",
    "            print(\"*\",end=\"\")\n",
    "        else:\n",
    "            print(\" \",end=\"\")\n",
    "    if i >n//2:\n",
    "        check +=1\n",
    "    else:\n",
    "        check -=1\n",
    "        \n",
    "        "
   ]
  },
  {
   "cell_type": "code",
   "execution_count": 85,
   "id": "d6a3c02a",
   "metadata": {},
   "outputs": [
    {
     "ename": "IndentationError",
     "evalue": "unindent does not match any outer indentation level (<tokenize>, line 5)",
     "output_type": "error",
     "traceback": [
      "\u001b[1;36m  File \u001b[1;32m<tokenize>:5\u001b[1;36m\u001b[0m\n\u001b[1;33m    for i in range(0,n):\u001b[0m\n\u001b[1;37m    ^\u001b[0m\n\u001b[1;31mIndentationError\u001b[0m\u001b[1;31m:\u001b[0m unindent does not match any outer indentation level\n"
     ]
    }
   ],
   "source": []
  },
  {
   "cell_type": "code",
   "execution_count": 109,
   "id": "6be9eb70",
   "metadata": {},
   "outputs": [
    {
     "name": "stdout",
     "output_type": "stream",
     "text": [
      "9\n",
      "\n",
      "* * * * * * * * * \n",
      "* *             * \n",
      "*   *         * * \n",
      "*     *     *   * \n",
      "*       * *     * \n",
      "*       * *     * \n",
      "*     *     *   * \n",
      "*   *         * * \n",
      "* *             * \n",
      "* * * * * * * * * "
     ]
    }
   ],
   "source": [
    "n= int(input())\n",
    "check = n \n",
    "for i in range(0,n+1):\n",
    "    print()\n",
    "    for j in range(0,n):\n",
    "        if i==0 or i==n or j==0 or j == n-1 or j == check or j == n-check:\n",
    "            print(\"* \",end=\"\")\n",
    "        else:\n",
    "            print(\"  \",end = \"\")\n",
    "    check -=1    \n",
    "        "
   ]
  },
  {
   "cell_type": "code",
   "execution_count": null,
   "id": "4c4836ab",
   "metadata": {},
   "outputs": [],
   "source": []
  }
 ],
 "metadata": {
  "kernelspec": {
   "display_name": "Python 3 (ipykernel)",
   "language": "python",
   "name": "python3"
  },
  "language_info": {
   "codemirror_mode": {
    "name": "ipython",
    "version": 3
   },
   "file_extension": ".py",
   "mimetype": "text/x-python",
   "name": "python",
   "nbconvert_exporter": "python",
   "pygments_lexer": "ipython3",
   "version": "3.11.5"
  }
 },
 "nbformat": 4,
 "nbformat_minor": 5
}
