{
 "cells": [
  {
   "cell_type": "code",
   "execution_count": 17,
   "id": "60146df3-24ef-4baa-9cca-555b076350de",
   "metadata": {},
   "outputs": [
    {
     "name": "stdin",
     "output_type": "stream",
     "text": [
      " 5\n",
      " 8\n"
     ]
    },
    {
     "name": "stdout",
     "output_type": "stream",
     "text": [
      "both are positive\n"
     ]
    }
   ],
   "source": [
    "\"\"\"\n",
    "1.\tExplain the significance of Python keywords and provide examples of five keywords.\n",
    "\n",
    "Ans: Python keywords are some pre-defined and reserved keywords in Python that have special meaning. Keywords are used to define the syntax of coding. They can not be used as identifiers, function, class , object or variable name.\n",
    "\tExample-\n",
    "a) and: It is a logical operator which returns true value if both operands are true, else returns false.\n",
    "b) or: It is a logical operator that returns true value if either of the operands are true. If both operands are false, then only it returns false.\n",
    "c) if: It creates a block of statements that will be executed if the associated statement is true.\n",
    "d) for: It creates a block of statements that will be executed a certain number of times as per given range in a loop.\n",
    "e) while: It runs a block of statements until the given conditions are met with an iterator.\n",
    "\n",
    "Example:\n",
    "\"\"\"\n",
    "a = int(input())\n",
    "b = int(input())\n",
    "print(\"both are positive\" if a > 0 and b > 0 else \"atleast one is negative\")"
   ]
  },
  {
   "cell_type": "code",
   "execution_count": 4,
   "id": "944bc633-4aa7-41b0-b61c-e5e8e12a7bdd",
   "metadata": {},
   "outputs": [
    {
     "name": "stdin",
     "output_type": "stream",
     "text": [
      " 9\n",
      " -7\n"
     ]
    },
    {
     "name": "stdout",
     "output_type": "stream",
     "text": [
      "atleast one is positive\n"
     ]
    }
   ],
   "source": [
    "a = int(input())\n",
    "b = int(input())\n",
    "print(\"atleast one is positive\" if a > 0 or b > 0 else \"both are negative\")"
   ]
  },
  {
   "cell_type": "code",
   "execution_count": 10,
   "id": "2d148da4-f37e-4abf-af7a-afb5daf3bbc6",
   "metadata": {},
   "outputs": [
    {
     "name": "stdin",
     "output_type": "stream",
     "text": [
      "input range:  10\n",
      "input highest value to print:  6\n"
     ]
    },
    {
     "name": "stdout",
     "output_type": "stream",
     "text": [
      "0  1  2  3  4  5  6  "
     ]
    }
   ],
   "source": [
    "n = int(input(\"input range: \"))\n",
    "p = int(input(\"input highest value to print: \"))\n",
    "for i in range(n):\n",
    "    print(i, end = '  ')\n",
    "    if i == p:\n",
    "        break"
   ]
  },
  {
   "cell_type": "code",
   "execution_count": 8,
   "id": "bbb550a9-cbfb-4013-a6ad-0402b60f5f41",
   "metadata": {},
   "outputs": [
    {
     "name": "stdin",
     "output_type": "stream",
     "text": [
      "input range:  15\n"
     ]
    },
    {
     "name": "stdout",
     "output_type": "stream",
     "text": [
      "[0, 1, 2, 3, 4, 5, 6, 7, 8, 9, 10, 11, 12, 13, 14, 15]\n"
     ]
    }
   ],
   "source": [
    "n = int(input(\"input range: \"))\n",
    "i = 0\n",
    "int_list = []\n",
    "while i <= n:\n",
    "    int_list.append(i)\n",
    "    i += 1\n",
    "print(int_list)"
   ]
  },
  {
   "cell_type": "code",
   "execution_count": 11,
   "id": "ea539397-970b-4a47-b581-320cf743f615",
   "metadata": {},
   "outputs": [
    {
     "data": {
      "text/plain": [
       "'\\n2.\\tDescribe the rules for defining identifiers in Python and provide an example.\\nAns:\\t\\n1. An identifier can be the combination of alphabets(lowercase/uppercase), digits\\nor an\\tunderscore(_).\\n2. An identifier should start with a letter or underscore.\\n3. An identifier cannot start with a digit.\\n4. Identifiers are case-sensative.\\n5. Python keywords cannot be used as identifiers.\\n6. An identifier should be descriptive and meaningful.\\n\\nExample: ‘num1’, ‘Sq_num’, ‘my_str1’.\\n\\n'"
      ]
     },
     "execution_count": 11,
     "metadata": {},
     "output_type": "execute_result"
    }
   ],
   "source": [
    "\"\"\"\n",
    "2.\tDescribe the rules for defining identifiers in Python and provide an example.\n",
    "Ans:\t\n",
    "1. An identifier can be the combination of alphabets(lowercase/uppercase), digits\n",
    "or an\tunderscore(_).\n",
    "2. An identifier should start with a letter or underscore.\n",
    "3. An identifier cannot start with a digit.\n",
    "4. Identifiers are case-sensative.\n",
    "5. Python keywords cannot be used as identifiers.\n",
    "6. An identifier should be descriptive and meaningful.\n",
    "\n",
    "Example: ‘num1’, ‘Sq_num’, ‘my_str1’.\n",
    "\n",
    "\"\"\""
   ]
  },
  {
   "cell_type": "code",
   "execution_count": 16,
   "id": "c939d9b7-ebd1-4c72-bfa8-fea03be8ef6f",
   "metadata": {},
   "outputs": [
    {
     "name": "stdout",
     "output_type": "stream",
     "text": [
      "Welcome to my world of Python.\n"
     ]
    }
   ],
   "source": [
    "\"\"\"\n",
    "3.\tWhat are the comments in Python and why are they useful? Provide an example.\n",
    "Ans: Comments are used to explain code, make code more readable and prevent execution while testing code. A single line \n",
    "comment starts with ‘#’ and a multi-line comment is encoded between \n",
    "\t        “””.............\n",
    "                ............“””.\n",
    "Example:\n",
    "\n",
    "\"\"\"\n",
    "print(\"Welcome to my world of Python.\") # Prints the string “Welcome to my world of Python.”"
   ]
  },
  {
   "cell_type": "code",
   "execution_count": 18,
   "id": "d2e52eae-472a-49e2-a561-832b513bad8e",
   "metadata": {},
   "outputs": [
    {
     "ename": "IndentationError",
     "evalue": "expected an indented block after 'for' statement on line 12 (3182804701.py, line 13)",
     "output_type": "error",
     "traceback": [
      "\u001b[0;36m  Cell \u001b[0;32mIn[18], line 13\u001b[0;36m\u001b[0m\n\u001b[0;31m    print(i)\u001b[0m\n\u001b[0m    ^\u001b[0m\n\u001b[0;31mIndentationError\u001b[0m\u001b[0;31m:\u001b[0m expected an indented block after 'for' statement on line 12\n"
     ]
    }
   ],
   "source": [
    "\"\"\"\n",
    "4.\tWhy is proper indentation important in Python?\n",
    "\tAns: Indentation in Python is not only significant but also important. Obviously indentation in \n",
    "coding makes code more readable and simple; most importantly in Python, looping and \n",
    "conditional statements create a block of statements inside it through indentation instead of \n",
    "using brackets. So if indentation is not used properly it will cause errors in it.\n",
    "\n",
    "5.\tWhat happens if indentation is incorrect in Python?\n",
    "Ans: If codes are not indented properly, then it will show error in code.\n",
    "Example:\n",
    "\"\"\"\n",
    "for i in range(5):\n",
    "print(i)"
   ]
  },
  {
   "cell_type": "code",
   "execution_count": 23,
   "id": "d9b22673-fd05-44f7-a504-0df869cc67c9",
   "metadata": {},
   "outputs": [
    {
     "name": "stdin",
     "output_type": "stream",
     "text": [
      " 16\n",
      " 3\n"
     ]
    },
    {
     "name": "stdout",
     "output_type": "stream",
     "text": [
      "19\n",
      "Not Ok\n"
     ]
    }
   ],
   "source": [
    "\"\"\"\n",
    "6.\tDifferentiate between expressions and statements in Python with examples.\n",
    "Ans: \tAn expression is a sequence or combination of values, variables, operators or function calls that always produces \n",
    "or returns a value. The evaluation of an expression does not change the state and the result either returns to a function \n",
    "call or displayed in the Python prompt.\n",
    "\tA statement is the smallest executable unit of code that has an effect like creating a variable or displaying a value. \n",
    "The execution of a statement changes state but it is not necessary to display or produce a value.\n",
    "Example: \n",
    "\"\"\"\n",
    "a = int(input())\n",
    "b = int(input())\n",
    "print(a + b) # Expression\n",
    "print(\"Ok\") if a + b >= 20 else print(\"Not Ok\") # Statement"
   ]
  },
  {
   "cell_type": "code",
   "execution_count": null,
   "id": "5271e20b-ac4b-4cb1-9256-2ec6372894f6",
   "metadata": {},
   "outputs": [],
   "source": []
  }
 ],
 "metadata": {
  "kernelspec": {
   "display_name": "Python 3 (ipykernel)",
   "language": "python",
   "name": "python3"
  },
  "language_info": {
   "codemirror_mode": {
    "name": "ipython",
    "version": 3
   },
   "file_extension": ".py",
   "mimetype": "text/x-python",
   "name": "python",
   "nbconvert_exporter": "python",
   "pygments_lexer": "ipython3",
   "version": "3.10.8"
  }
 },
 "nbformat": 4,
 "nbformat_minor": 5
}
