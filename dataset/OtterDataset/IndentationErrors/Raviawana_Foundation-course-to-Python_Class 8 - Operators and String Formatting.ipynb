{
 "cells": [
  {
   "cell_type": "markdown",
   "id": "5aafaf60",
   "metadata": {},
   "source": [
    "# Agenda\n",
    "\n",
    "1. String formatting\n",
    "2. Conditional statement\n",
    "\n",
    "\n",
    "\n",
    "\n",
    "##### String formatting \n",
    "\n",
    "We have variables which have some value of imp\n",
    "\n",
    "a,b,c sum result\n",
    "\n",
    "print(*string*) "
   ]
  },
  {
   "cell_type": "code",
   "execution_count": 54,
   "id": "a948b546",
   "metadata": {},
   "outputs": [
    {
     "name": "stdout",
     "output_type": "stream",
     "text": [
      "15\n"
     ]
    }
   ],
   "source": [
    "a=5\n",
    "b=10\n",
    "sum=a+b\n",
    "print(sum)"
   ]
  },
  {
   "cell_type": "code",
   "execution_count": 55,
   "id": "d087b13d",
   "metadata": {},
   "outputs": [
    {
     "ename": "TypeError",
     "evalue": "can only concatenate str (not \"int\") to str",
     "output_type": "error",
     "traceback": [
      "\u001b[0;31m---------------------------------------------------------------------------\u001b[0m",
      "\u001b[0;31mTypeError\u001b[0m                                 Traceback (most recent call last)",
      "Cell \u001b[0;32mIn[55], line 1\u001b[0m\n\u001b[0;32m----> 1\u001b[0m \u001b[38;5;28mprint\u001b[39m(\u001b[38;5;124m'\u001b[39m\u001b[38;5;124mThe result is \u001b[39m\u001b[38;5;124m'\u001b[39m \u001b[38;5;241m+\u001b[39m \u001b[38;5;28msum\u001b[39m)\n",
      "\u001b[0;31mTypeError\u001b[0m: can only concatenate str (not \"int\") to str"
     ]
    }
   ],
   "source": [
    "print('The result is ' + sum)     # The problem here is one is string and one is int they cannot  be concenated"
   ]
  },
  {
   "cell_type": "code",
   "execution_count": 56,
   "id": "8cc55d9d",
   "metadata": {},
   "outputs": [
    {
     "name": "stdout",
     "output_type": "stream",
     "text": [
      "The result is 15\n"
     ]
    }
   ],
   "source": [
    " # Now what i can do is convert it to string\n",
    "    \n",
    "print('The result is ' + str(sum))   "
   ]
  },
  {
   "cell_type": "code",
   "execution_count": 57,
   "id": "84d5ac54",
   "metadata": {},
   "outputs": [],
   "source": [
    "# Another example\n",
    "\n",
    "a='ravi gurjar'\n",
    "b='961073'\n",
    "c=25\n",
    "d=23\n",
    "e=133.31\n"
   ]
  },
  {
   "cell_type": "code",
   "execution_count": 58,
   "id": "bdd966a3",
   "metadata": {},
   "outputs": [
    {
     "name": "stdout",
     "output_type": "stream",
     "text": [
      "The name isravi gurjarThe contact number is961073\n"
     ]
    }
   ],
   "source": [
    "print('The name is'+ (a)+ 'The contact number is'+(b))  # it will be hectic"
   ]
  },
  {
   "cell_type": "code",
   "execution_count": 59,
   "id": "5735a575",
   "metadata": {},
   "outputs": [
    {
     "ename": "TypeError",
     "evalue": "%i format: a real number is required, not str",
     "output_type": "error",
     "traceback": [
      "\u001b[0;31m---------------------------------------------------------------------------\u001b[0m",
      "\u001b[0;31mTypeError\u001b[0m                                 Traceback (most recent call last)",
      "Cell \u001b[0;32mIn[59], line 2\u001b[0m\n\u001b[1;32m      1\u001b[0m \u001b[38;5;66;03m# Indted we can write\u001b[39;00m\n\u001b[0;32m----> 2\u001b[0m \u001b[38;5;28mprint\u001b[39m(\u001b[38;5;124m\"\u001b[39m\u001b[38;5;124mthe name is \u001b[39m\u001b[38;5;132;01m%s\u001b[39;00m\u001b[38;5;124m and the age is \u001b[39m\u001b[38;5;132;01m%d\u001b[39;00m\u001b[38;5;124m and the number is \u001b[39m\u001b[38;5;132;01m%i\u001b[39;00m\u001b[38;5;124m\"\u001b[39m\u001b[38;5;241m%\u001b[39m(a,c,b))\n",
      "\u001b[0;31mTypeError\u001b[0m: %i format: a real number is required, not str"
     ]
    }
   ],
   "source": [
    " # Indted we can write\n",
    "print(\"the name is %s and the age is %d and the number is %i\"%(a,c,b))"
   ]
  },
  {
   "cell_type": "code",
   "execution_count": 60,
   "id": "02755e1a",
   "metadata": {},
   "outputs": [
    {
     "name": "stdout",
     "output_type": "stream",
     "text": [
      "the name is ravi gurjar and the age is 25 and the number is 961073\n"
     ]
    }
   ],
   "source": [
    " # Ins ted we can write\n",
    "print(\"the name is %s and the age is %i and the number is %s\" %(a,c,b))"
   ]
  },
  {
   "cell_type": "code",
   "execution_count": 61,
   "id": "ebbeb05d",
   "metadata": {},
   "outputs": [],
   "source": [
    "# The above method is  also a little bit confusing so here is a new way"
   ]
  },
  {
   "cell_type": "markdown",
   "id": "ea0656f0",
   "metadata": {},
   "source": [
    "## Dot(.) Format"
   ]
  },
  {
   "cell_type": "code",
   "execution_count": 62,
   "id": "b910a956",
   "metadata": {},
   "outputs": [],
   "source": [
    "a='ravi gurjar'\n",
    "b='961073'\n",
    "c=25\n",
    "d=23\n",
    "e=133.31"
   ]
  },
  {
   "cell_type": "code",
   "execution_count": 63,
   "id": "63714610",
   "metadata": {},
   "outputs": [
    {
     "ename": "SyntaxError",
     "evalue": "invalid syntax. Maybe you meant '==' or ':=' instead of '='? (4113078691.py, line 1)",
     "output_type": "error",
     "traceback": [
      "\u001b[0;36m  Cell \u001b[0;32mIn[63], line 1\u001b[0;36m\u001b[0m\n\u001b[0;31m    print(\"the name is {a} and the contact number is {b} and the age is {c} and the marks are {e}\" %(a=a,b=b,c=c,d=d))\u001b[0m\n\u001b[0m                                                                                                     ^\u001b[0m\n\u001b[0;31mSyntaxError\u001b[0m\u001b[0;31m:\u001b[0m invalid syntax. Maybe you meant '==' or ':=' instead of '='?\n"
     ]
    }
   ],
   "source": [
    "print(\"the name is {a} and the contact number is {b} and the age is {c} and the marks are {e}\" %(a=a,b=b,c=c,d=d))"
   ]
  },
  {
   "cell_type": "code",
   "execution_count": 64,
   "id": "fb799fd5",
   "metadata": {},
   "outputs": [
    {
     "name": "stdout",
     "output_type": "stream",
     "text": [
      "the name is ravi gurjar and the contact number is 961073 and the age is 25 and the marks are 133.31\n"
     ]
    }
   ],
   "source": [
    "print(\"the name is {a} and the contact number is {b} and the age is {c} and the marks are {e}\".format(a=a,b=b,c=c,e=e))"
   ]
  },
  {
   "cell_type": "code",
   "execution_count": 65,
   "id": "97fdba96",
   "metadata": {},
   "outputs": [],
   "source": [
    "# Aother method"
   ]
  },
  {
   "cell_type": "code",
   "execution_count": 66,
   "id": "5978828a",
   "metadata": {},
   "outputs": [
    {
     "name": "stdout",
     "output_type": "stream",
     "text": [
      "the name is ravi gurjar and the contact number is 961073 and the age is 25 and the marks are 133.31\n"
     ]
    }
   ],
   "source": [
    " print(\"the name is {0} and the contact number is {1} and the age is {2} and the marks are {3}\".format(a,b,c,e))"
   ]
  },
  {
   "cell_type": "code",
   "execution_count": 67,
   "id": "d34f302f",
   "metadata": {},
   "outputs": [
    {
     "name": "stdout",
     "output_type": "stream",
     "text": [
      "the name is ravi gurjar and the contact number is 961073 and the age is 25 and the marks are 133.31\n"
     ]
    }
   ],
   "source": [
    "# One more\n",
    "print(\"the name is {name} and the contact number is {cnmbr} and the age is {age} and the marks are {marks}\".format(name=a,cnmbr=b,age=c,marks=e))"
   ]
  },
  {
   "cell_type": "code",
   "execution_count": 68,
   "id": "f21519a8",
   "metadata": {},
   "outputs": [
    {
     "ename": "IndentationError",
     "evalue": "unexpected indent (112880762.py, line 2)",
     "output_type": "error",
     "traceback": [
      "\u001b[0;36m  Cell \u001b[0;32mIn[68], line 2\u001b[0;36m\u001b[0m\n\u001b[0;31m    print(\" the name is {} and the contact number is {} and the age is {} and the marks are {} \".format(a,b,c,d))\u001b[0m\n\u001b[0m    ^\u001b[0m\n\u001b[0;31mIndentationError\u001b[0m\u001b[0;31m:\u001b[0m unexpected indent\n"
     ]
    }
   ],
   "source": [
    "# only one more\n",
    " print(\" the name is {} and the contact number is {} and the age is {} and the marks are {} \".format(a,b,c,d))"
   ]
  },
  {
   "cell_type": "markdown",
   "id": "a0263ef0",
   "metadata": {},
   "source": [
    "Now the problem is the same why to use so many complicated things insted we can solve it by \n",
    "F Format"
   ]
  },
  {
   "cell_type": "markdown",
   "id": "dae30d83",
   "metadata": {},
   "source": [
    "# F format\n",
    "\n"
   ]
  },
  {
   "cell_type": "code",
   "execution_count": 69,
   "id": "003f5b43",
   "metadata": {},
   "outputs": [],
   "source": [
    "a='ravi gurjar'\n",
    "b='961073'\n",
    "c=25\n",
    "d=23\n",
    "e=133.31"
   ]
  },
  {
   "cell_type": "code",
   "execution_count": 70,
   "id": "fbdce460",
   "metadata": {},
   "outputs": [
    {
     "name": "stdout",
     "output_type": "stream",
     "text": [
      "the name is {a} and the contact number is {b} and the age is {c} and the marks are {e} \n"
     ]
    }
   ],
   "source": [
    "\n",
    "print(\"the name is {a} and the contact number is {b} and the age is {c} and the marks are {e} \")"
   ]
  },
  {
   "cell_type": "code",
   "execution_count": 71,
   "id": "54bd0271",
   "metadata": {},
   "outputs": [
    {
     "name": "stdout",
     "output_type": "stream",
     "text": [
      "the name is ravi gurjar and the contact number is 961073 and the age is 25 and the marks are 133.31 \n"
     ]
    }
   ],
   "source": [
    "# dont miss f\"\n",
    "print(f\"the name is {a} and the contact number is {b} and the age is {c} and the marks are {e} \")"
   ]
  },
  {
   "cell_type": "code",
   "execution_count": 72,
   "id": "586dfd3b",
   "metadata": {},
   "outputs": [
    {
     "name": "stdout",
     "output_type": "stream",
     "text": [
      "the number is 133.310000\n"
     ]
    }
   ],
   "source": [
    "# For rounding off\n",
    "print(f'the number is {e:2f}')   # Do not forget(.) before 2f"
   ]
  },
  {
   "cell_type": "code",
   "execution_count": 73,
   "id": "d75864c2",
   "metadata": {},
   "outputs": [
    {
     "name": "stdout",
     "output_type": "stream",
     "text": [
      "the number is 133.31\n"
     ]
    }
   ],
   "source": [
    " print(f'the number is {e:.2f}')"
   ]
  },
  {
   "cell_type": "code",
   "execution_count": 74,
   "id": "cfd59f17",
   "metadata": {},
   "outputs": [],
   "source": [
    "decinumber=3243.3534534"
   ]
  },
  {
   "cell_type": "code",
   "execution_count": 75,
   "id": "72342a02",
   "metadata": {},
   "outputs": [
    {
     "name": "stdout",
     "output_type": "stream",
     "text": [
      "The number is 3243.35\n"
     ]
    }
   ],
   "source": [
    "print(f'The number is {decinumber:0.2f}')"
   ]
  },
  {
   "cell_type": "markdown",
   "id": "6cd444ae",
   "metadata": {},
   "source": [
    "## Decision control statement\n",
    "\n",
    "IN our real life as well as industry we faces lot of situtions where we takes decision based on some control.\n",
    "\n",
    "*Decision control statements are those statements which controls the flow of our program*\n",
    "\n",
    "it allows us to decide whetehr a particular part of a program should run or not.\n",
    "\n",
    "\n",
    "In Python, decision control statements are used to execute different parts of code based on certain conditions. The main decision control statements in Python are:\n",
    "\n",
    "1. **if statement:** The `if` statement is used to execute a block of code if a specified condition is true.\n",
    "\n",
    "    ```python\n",
    "    x = 10\n",
    "    if x > 5:\n",
    "        print(\"x is greater than 5\")\n",
    "    ```\n",
    "\n",
    "2. **if-else statement:** The `if-else` statement is used to execute one block of code if the condition is true, and another block of code if the condition is false.\n",
    "\n",
    "    ```python\n",
    "    x = 3\n",
    "    if x % 2 == 0:\n",
    "        print(\"x is even\")\n",
    "    else:\n",
    "        print(\"x is odd\")\n",
    "    ```\n",
    "\n",
    "3. **if-elif-else statement:** The `if-elif-else` statement is used to check multiple conditions. It executes the code block associated with the first `if` or `elif` condition that evaluates to true, or the `else` block if none of the conditions are true.\n",
    "\n",
    "    ```python\n",
    "    score = 75\n",
    "    if score >= 90:\n",
    "        print(\"Grade: A\")\n",
    "    elif score >= 80:\n",
    "        print(\"Grade: B\")\n",
    "    elif score >= 70:\n",
    "        print(\"Grade: C\")\n",
    "    else:\n",
    "        print(\"Grade: D\")\n",
    "    ```\n",
    "\n",
    "4. **Nested if statements:** You can also use if statements within other if statements, creating nested decision structures.\n",
    "\n",
    "    ```python\n",
    "    x = 10\n",
    "    if x > 5:\n",
    "        if x < 15:\n",
    "            print(\"x is between 5 and 15\")\n",
    "    ```\n",
    "\n",
    "These decision control statements allow you to control the flow of your program based on different conditions, making your code more flexible and powerful."
   ]
  },
  {
   "cell_type": "code",
   "execution_count": 76,
   "id": "6e08f893",
   "metadata": {},
   "outputs": [],
   "source": [
    "# Indentation is 'tab' or four spaces, statement run only when condition is true"
   ]
  },
  {
   "cell_type": "markdown",
   "id": "1d0fafa6",
   "metadata": {},
   "source": [
    "## WAP to take a number and to check whether it is even or odd"
   ]
  },
  {
   "cell_type": "code",
   "execution_count": 77,
   "id": "7cb0a25f",
   "metadata": {},
   "outputs": [
    {
     "ename": "SyntaxError",
     "evalue": "invalid syntax (2889437128.py, line 2)",
     "output_type": "error",
     "traceback": [
      "\u001b[0;36m  Cell \u001b[0;32mIn[77], line 2\u001b[0;36m\u001b[0m\n\u001b[0;31m    if num1 is == /2:\u001b[0m\n\u001b[0m               ^\u001b[0m\n\u001b[0;31mSyntaxError\u001b[0m\u001b[0;31m:\u001b[0m invalid syntax\n"
     ]
    }
   ],
   "source": [
    "num1=int(input('give me first number'))\n",
    "if num1 is == /2:\n",
    "    print('even number')\n",
    "if num1 is == /3:\n",
    "    print('odd number')"
   ]
  },
  {
   "cell_type": "code",
   "execution_count": 81,
   "id": "89b1f893",
   "metadata": {},
   "outputs": [
    {
     "name": "stdout",
     "output_type": "stream",
     "text": [
      "give me first number69\n",
      "odd number\n"
     ]
    }
   ],
   "source": [
    "num1=int(input('give me first number'))\n",
    "if num1 %2==0:\n",
    "    print('even number')\n",
    "if num1 %3==0:\n",
    "    print('odd number')"
   ]
  },
  {
   "cell_type": "markdown",
   "id": "5c7ad379",
   "metadata": {},
   "source": [
    "### WAP to ask user if he is hungry else order desert"
   ]
  },
  {
   "cell_type": "code",
   "execution_count": 84,
   "id": "940a6471",
   "metadata": {},
   "outputs": [
    {
     "name": "stdout",
     "output_type": "stream",
     "text": [
      "are you hungry userno\n",
      "order desert\n"
     ]
    }
   ],
   "source": [
    "usermood=input('are you hungry user')\n",
    "if usermood == 'yes':\n",
    "    print('order food')\n",
    "else:\n",
    "    print('order desert')\n"
   ]
  },
  {
   "cell_type": "code",
   "execution_count": 89,
   "id": "4d0313e1",
   "metadata": {},
   "outputs": [
    {
     "name": "stdout",
     "output_type": "stream",
     "text": [
      "give me number ill tell you whether it is even or odd8758586\n",
      "yo, your number is even\n"
     ]
    }
   ],
   "source": [
    "number=int(input('give me number ill tell you whether it is even or odd'))\n",
    "remander = number %2\n",
    "if (remander==0):\n",
    "    print('yo, your number is even')\n",
    "else:\n",
    "    print('yo, your number is odd')"
   ]
  },
  {
   "cell_type": "code",
   "execution_count": 92,
   "id": "ed95e376",
   "metadata": {},
   "outputs": [
    {
     "name": "stdout",
     "output_type": "stream",
     "text": [
      "your result is PASS\n",
      "you can eat biryani as you are pass\n"
     ]
    }
   ],
   "source": [
    "marks = 87\n",
    "passingMarks = 40\n",
    "if(marks > passingMarks):\n",
    "    print(\"your result is PASS\")\n",
    "    print(\"you can eat biryani as you are pass\")\n",
    "else:\n",
    "    print(\"your result is FAIL\")"
   ]
  },
  {
   "cell_type": "code",
   "execution_count": 94,
   "id": "cdf2e10d",
   "metadata": {},
   "outputs": [
    {
     "name": "stdout",
     "output_type": "stream",
     "text": [
      "your result is FAIL\n"
     ]
    }
   ],
   "source": [
    "marks = 40\n",
    "\n",
    "if(marks >= 80):\n",
    "    print (\"your grade is A\")\n",
    "    print(\"you can eat biryani as you are pass\")\n",
    "if(marks >=60 and marks <80):\n",
    "    print(\"your grade is B\")\n",
    "    print(\"you can eat cake as you are pass\")\n",
    "if (marks >=50 and marks <60) :\n",
    "    print(\"your grade is B\")\n",
    "    print(\"you can eat cafe as you are pass\")\n",
    "else:\n",
    "    print (\"your result is FAIL\")"
   ]
  },
  {
   "cell_type": "markdown",
   "id": "2079fe51",
   "metadata": {},
   "source": [
    "# IF ELSE IF"
   ]
  },
  {
   "cell_type": "code",
   "execution_count": 96,
   "id": "d0488129",
   "metadata": {},
   "outputs": [
    {
     "name": "stdout",
     "output_type": "stream",
     "text": [
      "your grade is D\n"
     ]
    }
   ],
   "source": [
    "marks = 40\n",
    "\n",
    "if(marks >= 80):\n",
    "    print (\"your grade is A\")\n",
    "    print(\"you can eat biryani as you are pass\")\n",
    "elif(marks >=60 and marks <80):\n",
    "    print(\"your grade is B\")\n",
    "    print(\"you can eat cake as you are pass\")\n",
    "elif (marks >=50 and marks <60) :\n",
    "    print(\"your grade is B\")\n",
    "    print(\"you can eat cafe as you are pass\")\n",
    "elif marks >=40 and marks <50:\n",
    "    print('your grade is D')\n",
    "else:\n",
    "    print (\"your result is FAIL\")"
   ]
  },
  {
   "cell_type": "code",
   "execution_count": 97,
   "id": "5cb613ba",
   "metadata": {},
   "outputs": [
    {
     "name": "stdout",
     "output_type": "stream",
     "text": [
      "your grade is B\n",
      "you can eat cake as you are pass\n"
     ]
    }
   ],
   "source": [
    "marks = 69\n",
    "\n",
    "if(marks >= 80):\n",
    "    print (\"your grade is A\")\n",
    "    print(\"you can eat biryani as you are pass\")\n",
    "elif(marks >=60 and marks <80):\n",
    "    print(\"your grade is B\")\n",
    "    print(\"you can eat cake as you are pass\")\n",
    "elif (marks >=50 and marks <60) :\n",
    "    print(\"your grade is B\")\n",
    "    print(\"you can eat cafe as you are pass\")\n",
    "elif marks >=40 and marks <50:\n",
    "    print('your grade is D')\n",
    "else:\n",
    "    print (\"your result is FAIL\")"
   ]
  },
  {
   "cell_type": "code",
   "execution_count": 98,
   "id": "89e159ec",
   "metadata": {},
   "outputs": [
    {
     "name": "stdout",
     "output_type": "stream",
     "text": [
      "your grade is A\n",
      "you can eat biryani as you are pass\n"
     ]
    }
   ],
   "source": [
    "marks = 99\n",
    "\n",
    "if(marks >= 80):\n",
    "    print (\"your grade is A\")\n",
    "    print(\"you can eat biryani as you are pass\")\n",
    "elif(marks >=60 and marks <80):\n",
    "    print(\"your grade is B\")\n",
    "    print(\"you can eat cake as you are pass\")\n",
    "elif (marks >=50 and marks <60) :\n",
    "    print(\"your grade is B\")\n",
    "    print(\"you can eat cafe as you are pass\")\n",
    "elif marks >=40 and marks <50:\n",
    "    print('your grade is D')\n",
    "else:\n",
    "    print (\"your result is FAIL\")"
   ]
  },
  {
   "cell_type": "markdown",
   "id": "fd68fc1a",
   "metadata": {},
   "source": [
    "## WAP a program to take a input a cahr from a user and show below.\n",
    "\n",
    "1.A-Z - Capital letters\n",
    "\n",
    "2.a-z - Small letters\n",
    "\n",
    "3.0-9 - number\n",
    "\n",
    "4.Special characters"
   ]
  },
  {
   "cell_type": "code",
   "execution_count": 111,
   "id": "152b3e4d",
   "metadata": {},
   "outputs": [
    {
     "name": "stdout",
     "output_type": "stream",
     "text": [
      "a\n"
     ]
    }
   ],
   "source": [
    "char=input()"
   ]
  },
  {
   "cell_type": "code",
   "execution_count": 116,
   "id": "fdad8dc1",
   "metadata": {},
   "outputs": [
    {
     "data": {
      "text/plain": [
       "97"
      ]
     },
     "execution_count": 116,
     "metadata": {},
     "output_type": "execute_result"
    }
   ],
   "source": [
    "ord(char)"
   ]
  },
  {
   "cell_type": "markdown",
   "id": "4328efd5",
   "metadata": {},
   "source": [
    "In below code ascii value is of 'a' is '97' and if we have to find a ascii value of 'z' then we can write it as 97+26( alphabets in english and z is the last one) -1\n",
    "\n",
    "z=97+26-1"
   ]
  },
  {
   "cell_type": "code",
   "execution_count": 124,
   "id": "d2f0dca6",
   "metadata": {},
   "outputs": [
    {
     "name": "stdout",
     "output_type": "stream",
     "text": [
      "capital letter\n"
     ]
    }
   ],
   "source": [
    "char = 'A'\n",
    "asciiValue = ord(char)\n",
    "\n",
    "if(asciiValue >=97 and asciivalue <= (97+26-1)) :\n",
    "    print (\"small character\")\n",
    "elif(asciiValue>=65 and asciiValue <= (65+26-1)) :\n",
    "    print (\"capital letter\")\n",
    "elif (asciiValue >=48 and asciivalue<=48+9):\n",
    "    print(\"its a digit\")\n",
    "else:\n",
    "    print(\"its a special character\")"
   ]
  },
  {
   "cell_type": "code",
   "execution_count": 125,
   "id": "abaeae62",
   "metadata": {},
   "outputs": [],
   "source": [
    "# What if the person is a vegetarian and we have only non veg biriyani"
   ]
  },
  {
   "cell_type": "code",
   "execution_count": 126,
   "id": "7a021129",
   "metadata": {},
   "outputs": [],
   "source": [
    "### Nested if statement examples"
   ]
  },
  {
   "cell_type": "code",
   "execution_count": 127,
   "id": "5ce90422",
   "metadata": {},
   "outputs": [
    {
     "name": "stdout",
     "output_type": "stream",
     "text": [
      "you are hungry\n",
      "order online\n"
     ]
    }
   ],
   "source": [
    "hungry = True\n",
    "money = 200\n",
    "\n",
    "if (hungry):\n",
    "    print('you are hungry')\n",
    "    if money >=400:\n",
    "        print('Go to restro')\n",
    "    elif money >=200 and money <400:\n",
    "        print('order online')\n",
    "    else:\n",
    "        print('put a towel on your stomach and sleep')\n",
    "        print('this is indentation')\n",
    "else:\n",
    "    print('you are not hungry')\n",
    "    if (money)>=0:\n",
    "        print('INVEST IT')\n",
    "    else:\n",
    "        print('sleep')\n",
    "        "
   ]
  },
  {
   "cell_type": "code",
   "execution_count": 128,
   "id": "dc665257",
   "metadata": {},
   "outputs": [
    {
     "name": "stdout",
     "output_type": "stream",
     "text": [
      "you are hungry\n",
      "Go to restro\n"
     ]
    }
   ],
   "source": [
    "hungry = True\n",
    "money = 800\n",
    "\n",
    "if (hungry):\n",
    "    print('you are hungry')\n",
    "    if money >=400:\n",
    "        print('Go to restro')\n",
    "    elif money >=200 and money <400:\n",
    "        print('order online')\n",
    "    else:\n",
    "        print('put a towel on your stomach and sleep')\n",
    "        print('this is indentation')\n",
    "else:\n",
    "    print('you are not hungry')\n",
    "    if (money)>=0:\n",
    "        print('INVEST IT')\n",
    "    else:\n",
    "        print('sleep')\n",
    "        "
   ]
  },
  {
   "cell_type": "code",
   "execution_count": 129,
   "id": "bbf0f6a6",
   "metadata": {},
   "outputs": [
    {
     "name": "stdout",
     "output_type": "stream",
     "text": [
      "you are hungry\n",
      "put a towel on your stomach and sleep\n",
      "this is indentation\n"
     ]
    }
   ],
   "source": [
    "hungry = True\n",
    "money = 0\n",
    "\n",
    "if (hungry):\n",
    "    print('you are hungry')\n",
    "    if money >=400:\n",
    "        print('Go to restro')\n",
    "    elif money >=200 and money <400:\n",
    "        print('order online')\n",
    "    else:\n",
    "        print('put a towel on your stomach and sleep')\n",
    "        print('this is indentation')\n",
    "else:\n",
    "    print('you are not hungry')\n",
    "    if (money)>=0:\n",
    "        print('INVEST IT')\n",
    "    else:\n",
    "        print('sleep')\n",
    "        "
   ]
  },
  {
   "cell_type": "code",
   "execution_count": null,
   "id": "de8328fc",
   "metadata": {},
   "outputs": [],
   "source": [
    " "
   ]
  }
 ],
 "metadata": {
  "kernelspec": {
   "display_name": "Python 3 (ipykernel)",
   "language": "python",
   "name": "python3"
  },
  "language_info": {
   "codemirror_mode": {
    "name": "ipython",
    "version": 3
   },
   "file_extension": ".py",
   "mimetype": "text/x-python",
   "name": "python",
   "nbconvert_exporter": "python",
   "pygments_lexer": "ipython3",
   "version": "3.11.7"
  }
 },
 "nbformat": 4,
 "nbformat_minor": 5
}
