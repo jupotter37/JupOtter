{
 "cells": [
  {
   "cell_type": "markdown",
   "metadata": {},
   "source": [
    "1.【判断】调试器又称解释器，通过魔术命令%debug可以打开Python Debugger。\n",
    "\n",
    "A. √  \n",
    "B. ×"
   ]
  },
  {
   "cell_type": "markdown",
   "metadata": {},
   "source": [
    "答案：B。  \n",
    "解释：解释器与调试器不是同一个概念。"
   ]
  },
  {
   "cell_type": "markdown",
   "metadata": {},
   "source": [
    "2.【选择】以下属于Python调试器的是：（ ）。  \n",
    "\n",
    "A.PyPy   \n",
    "B.CPython  \n",
    "C.Pyringe  \n",
    "D.IPython"
   ]
  },
  {
   "cell_type": "markdown",
   "metadata": {},
   "source": [
    "答案：C。   \n",
    "解析：除Pyringe外，其余均为Python解释器。"
   ]
  },
  {
   "cell_type": "markdown",
   "metadata": {},
   "source": [
    "3.【选择】以下三种“报错信息”的显示方式中，（ ）为系统默认设置。 \n",
    "\n",
    "A.%xmode Plain  \n",
    "B.%xmode Context  \n",
    "C.%xmode Verbose"
   ]
  },
  {
   "cell_type": "markdown",
   "metadata": {},
   "source": [
    "答案：B。"
   ]
  },
  {
   "cell_type": "markdown",
   "metadata": {},
   "source": [
    "4.【选择】若代码中误输入中文字符或标点，则系统会提示（ ）错误。  \n",
    "\n",
    "A.Not ImplementedError  \n",
    "B.IndentationError   \n",
    "C.EOFError  \n",
    "D.SyntaxError"
   ]
  },
  {
   "cell_type": "markdown",
   "metadata": {},
   "source": [
    "答案：D。"
   ]
  },
  {
   "cell_type": "markdown",
   "metadata": {},
   "source": [
    "5.【选择】如下代码的运行结果为：（ ）。\n",
    "```\n",
    "import math\n",
    "def f(n):\n",
    "    assert n>0,'n must be positive'\n",
    "    return math.sqrt(n)\n",
    "f(4)\n",
    "```\n",
    "  \n",
    "A.```2.0```  \n",
    "B.```AssertionError: n must be positive```  \n",
    "C.```AssertionError: n must be positive   \n",
    "  2.0\n",
    "  ```"
   ]
  },
  {
   "cell_type": "markdown",
   "metadata": {},
   "source": [
    "答案：A。"
   ]
  }
 ],
 "metadata": {
  "anaconda-cloud": {},
  "kernelspec": {
   "display_name": "Python [default]",
   "language": "python",
   "name": "python3"
  },
  "language_info": {
   "codemirror_mode": {
    "name": "ipython",
    "version": 3
   },
   "file_extension": ".py",
   "mimetype": "text/x-python",
   "name": "python",
   "nbconvert_exporter": "python",
   "pygments_lexer": "ipython3",
   "version": "3.5.2"
  }
 },
 "nbformat": 4,
 "nbformat_minor": 1
}
