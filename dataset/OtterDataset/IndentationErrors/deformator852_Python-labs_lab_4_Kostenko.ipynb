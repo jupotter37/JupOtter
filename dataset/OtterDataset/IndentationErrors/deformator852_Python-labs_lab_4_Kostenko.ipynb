{
 "cells": [
  {
   "cell_type": "code",
   "execution_count": 1,
   "id": "7e283f8c-1666-475f-b60a-9dffdae09b8e",
   "metadata": {},
   "outputs": [],
   "source": [
    "# Лабораторна робота №4. Логічні значення. Умовне виконання. Цикли"
   ]
  },
  {
   "cell_type": "code",
   "execution_count": 2,
   "id": "068b2027-a9d0-4ca8-b107-4710950af8cd",
   "metadata": {},
   "outputs": [],
   "source": [
    "# Мета: освоїти роботу з логічними змінними, операторами розгалуження та операторами циклів"
   ]
  },
  {
   "cell_type": "code",
   "execution_count": 3,
   "id": "2e15ad4c-dae0-4979-9c7a-63accd04f7a0",
   "metadata": {},
   "outputs": [],
   "source": [
    "# Author: Nikita Kostenko"
   ]
  },
  {
   "cell_type": "code",
   "execution_count": 5,
   "id": "e2d93683-2a59-4b75-a7e3-fc2f3c7d9d01",
   "metadata": {},
   "outputs": [
    {
     "name": "stdin",
     "output_type": "stream",
     "text": [
      "Введіть ціле число для перевірки:  20\n"
     ]
    },
    {
     "name": "stdout",
     "output_type": "stream",
     "text": [
      "False\n"
     ]
    }
   ],
   "source": [
    "# Завдання №1\n",
    "n = int(input(\"Введіть ціле число для перевірки: \"))\n",
    "print(n >= 100)"
   ]
  },
  {
   "cell_type": "code",
   "execution_count": 6,
   "id": "bf359088-51cf-4739-9d24-5a05732e7715",
   "metadata": {},
   "outputs": [
    {
     "name": "stdin",
     "output_type": "stream",
     "text": [
      "Введіть перше число:  1\n",
      "Введіть друге число:  2\n"
     ]
    },
    {
     "name": "stdout",
     "output_type": "stream",
     "text": [
      "Максимальне число: 2.0\n"
     ]
    }
   ],
   "source": [
    "# Завдання №2\n",
    "a = float(input(\"Введіть перше число: \"))\n",
    "b = float(input(\"Введіть друге число: \"))\n",
    "if a > b:\n",
    "    print(f\"Максимальне число: {a}\")\n",
    "else:\n",
    "    print(f\"Максимальне число: {b}\")"
   ]
  },
  {
   "cell_type": "code",
   "execution_count": 7,
   "id": "95739075-58d7-4a3a-99e2-c36b0731adf5",
   "metadata": {},
   "outputs": [
    {
     "name": "stdin",
     "output_type": "stream",
     "text": [
      "Назва рослини:  Spathiphyllum\n"
     ]
    },
    {
     "name": "stdout",
     "output_type": "stream",
     "text": [
      "Так, Спатіфілум — найкраща рослина на світі!\n"
     ]
    }
   ],
   "source": [
    "# Завдання №3\n",
    "plant = input(\"Назва рослини: \")\n",
    "if plant == \"Spathiphyllum\":\n",
    "    print(\"Так, Спатіфілум — найкраща рослина на світі!\")\n",
    "elif plant == \"spathiphyllum\":\n",
    "    print(\"Ні, я хочу великий Спатіфілум!\")\n",
    "else:\n",
    "    print(f\"Спатіфілум! Не {plant}!\")"
   ]
  },
  {
   "cell_type": "code",
   "execution_count": 8,
   "id": "25995d34-2e7b-43f0-b08d-c64613bda457",
   "metadata": {},
   "outputs": [
    {
     "name": "stdin",
     "output_type": "stream",
     "text": [
      "Введіть ваш річний дохід:  859292\n"
     ]
    },
    {
     "name": "stdout",
     "output_type": "stream",
     "text": [
      "Розмір податку: 262444.0 талерів\n"
     ]
    }
   ],
   "source": [
    "# Завдання №4\n",
    "income = float(input(\"Введіть ваш річний дохід: \"))\n",
    "if income <= 85528:\n",
    "  tax = income * 0.18 - 556.02\n",
    "else:\n",
    "    tax = 14839.02 + (income - 85528) * 0.32\n",
    "if tax < 0:\n",
    "    tax = 0\n",
    "tax = round(tax, 0)\n",
    "print(\"Розмір податку:\", tax, \"талерів\")"
   ]
  },
  {
   "cell_type": "code",
   "execution_count": 11,
   "id": "554fc0f1-4bcc-4673-9903-90969590b774",
   "metadata": {},
   "outputs": [
    {
     "name": "stdin",
     "output_type": "stream",
     "text": [
      "Введіть рік:  2005\n"
     ]
    },
    {
     "name": "stdout",
     "output_type": "stream",
     "text": [
      "Звичайний рік\n"
     ]
    },
    {
     "name": "stdin",
     "output_type": "stream",
     "text": [
      "Введіть число або 0 для завершення:  0\n"
     ]
    }
   ],
   "source": [
    "# Завдання №5\n",
    "year = int(input(\"Введіть рік: \"))\n",
    "\n",
    "if year < 1582:\n",
    "    print(\"Цей рік не входить до періоду Григоріанського календаря\")\n",
    "else:\n",
    "    if year % 4 != 0:\n",
    "        print(\"Звичайний рік\")\n",
    "    elif year % 100 != 0:\n",
    "        print(\"Високосний рік\")\n",
    "    elif year % 400 != 0:\n",
    "        print(\"Звичайний рік\")\n",
    "    else:\n",
    "        print(\"Високосний рік\")\n",
    "odd_numbers = 0\n",
    "even_numbers = 0\n",
    "number = int(input(\"Введіть число або 0 для завершення: \"))\n",
    "\n",
    "while number != 0:\n",
    "    if number % 2 == 1:\n",
    "        odd_numbers += 1\n",
    "    else:\n",
    "        even_numbers += 1\n",
    "    number = int(input(\"Введіть число або 0 для завершення: \"))\n",
    "\n",
    "    print(\"Кількість непарних чисел:\", odd_numbers)\n",
    "    print(\"Кількість парних чисел:\", even_numbers)\n",
    "\n",
    "    counter = 5\n",
    "    while counter:\n",
    "        print(\"Цикл, крок:\", counter)\n",
    "        counter -= 1\n",
    "    print(\"Завершено цикл. Лічильник:\", counter)"
   ]
  },
  {
   "cell_type": "code",
   "execution_count": 13,
   "id": "8b179c7b-20a3-4ab8-bd27-46471f047391",
   "metadata": {},
   "outputs": [
    {
     "name": "stdout",
     "output_type": "stream",
     "text": [
      "\n",
      "        +================================+\n",
      "        | Ласкаво просимо в мою гру! |\n",
      "        | Введіть ціле число і спробуйте   |\n",
      "        | вгадати секретне число.        |\n",
      "        | Яке число я вибрав?             |\n",
      "        +================================+\n",
      "        \n"
     ]
    },
    {
     "ename": "KeyboardInterrupt",
     "evalue": "Interrupted by user",
     "output_type": "error",
     "traceback": [
      "\u001b[0;31m---------------------------------------------------------------------------\u001b[0m",
      "\u001b[0;31mKeyboardInterrupt\u001b[0m                         Traceback (most recent call last)",
      "Cell \u001b[0;32mIn[13], line 14\u001b[0m\n\u001b[1;32m      3\u001b[0m \u001b[38;5;28mprint\u001b[39m(\n\u001b[1;32m      4\u001b[0m \u001b[38;5;250m        \u001b[39m\u001b[38;5;124;03m\"\"\"\u001b[39;00m\n\u001b[1;32m      5\u001b[0m \u001b[38;5;124;03m        +================================+\u001b[39;00m\n\u001b[0;32m   (...)\u001b[0m\n\u001b[1;32m     10\u001b[0m \u001b[38;5;124;03m        +================================+\u001b[39;00m\n\u001b[1;32m     11\u001b[0m \u001b[38;5;124;03m        \"\"\"\u001b[39;00m)\n\u001b[1;32m     13\u001b[0m \u001b[38;5;28;01mwhile\u001b[39;00m \u001b[38;5;28;01mTrue\u001b[39;00m:\n\u001b[0;32m---> 14\u001b[0m     user_guess \u001b[38;5;241m=\u001b[39m \u001b[38;5;28mint\u001b[39m(\u001b[38;5;28;43minput\u001b[39;49m\u001b[43m(\u001b[49m\u001b[38;5;124;43m\"\u001b[39;49m\u001b[38;5;124;43mВведіть своє припущення: \u001b[39;49m\u001b[38;5;124;43m\"\u001b[39;49m\u001b[43m)\u001b[49m)\n\u001b[1;32m     15\u001b[0m     \u001b[38;5;28;01mif\u001b[39;00m user_guess \u001b[38;5;241m==\u001b[39m secret_number:\n\u001b[1;32m     16\u001b[0m         \u001b[38;5;28mprint\u001b[39m(\u001b[38;5;124m\"\u001b[39m\u001b[38;5;124mМолодець! Ти вгадав число!\u001b[39m\u001b[38;5;124m\"\u001b[39m)\n",
      "File \u001b[0;32m~/projects/lab/venv/lib64/python3.13/site-packages/ipykernel/kernelbase.py:1282\u001b[0m, in \u001b[0;36mKernel.raw_input\u001b[0;34m(self, prompt)\u001b[0m\n\u001b[1;32m   1280\u001b[0m     msg \u001b[38;5;241m=\u001b[39m \u001b[38;5;124m\"\u001b[39m\u001b[38;5;124mraw_input was called, but this frontend does not support input requests.\u001b[39m\u001b[38;5;124m\"\u001b[39m\n\u001b[1;32m   1281\u001b[0m     \u001b[38;5;28;01mraise\u001b[39;00m StdinNotImplementedError(msg)\n\u001b[0;32m-> 1282\u001b[0m \u001b[38;5;28;01mreturn\u001b[39;00m \u001b[38;5;28;43mself\u001b[39;49m\u001b[38;5;241;43m.\u001b[39;49m\u001b[43m_input_request\u001b[49m\u001b[43m(\u001b[49m\n\u001b[1;32m   1283\u001b[0m \u001b[43m    \u001b[49m\u001b[38;5;28;43mstr\u001b[39;49m\u001b[43m(\u001b[49m\u001b[43mprompt\u001b[49m\u001b[43m)\u001b[49m\u001b[43m,\u001b[49m\n\u001b[1;32m   1284\u001b[0m \u001b[43m    \u001b[49m\u001b[38;5;28;43mself\u001b[39;49m\u001b[38;5;241;43m.\u001b[39;49m\u001b[43m_parent_ident\u001b[49m\u001b[43m[\u001b[49m\u001b[38;5;124;43m\"\u001b[39;49m\u001b[38;5;124;43mshell\u001b[39;49m\u001b[38;5;124;43m\"\u001b[39;49m\u001b[43m]\u001b[49m\u001b[43m,\u001b[49m\n\u001b[1;32m   1285\u001b[0m \u001b[43m    \u001b[49m\u001b[38;5;28;43mself\u001b[39;49m\u001b[38;5;241;43m.\u001b[39;49m\u001b[43mget_parent\u001b[49m\u001b[43m(\u001b[49m\u001b[38;5;124;43m\"\u001b[39;49m\u001b[38;5;124;43mshell\u001b[39;49m\u001b[38;5;124;43m\"\u001b[39;49m\u001b[43m)\u001b[49m\u001b[43m,\u001b[49m\n\u001b[1;32m   1286\u001b[0m \u001b[43m    \u001b[49m\u001b[43mpassword\u001b[49m\u001b[38;5;241;43m=\u001b[39;49m\u001b[38;5;28;43;01mFalse\u001b[39;49;00m\u001b[43m,\u001b[49m\n\u001b[1;32m   1287\u001b[0m \u001b[43m\u001b[49m\u001b[43m)\u001b[49m\n",
      "File \u001b[0;32m~/projects/lab/venv/lib64/python3.13/site-packages/ipykernel/kernelbase.py:1325\u001b[0m, in \u001b[0;36mKernel._input_request\u001b[0;34m(self, prompt, ident, parent, password)\u001b[0m\n\u001b[1;32m   1322\u001b[0m \u001b[38;5;28;01mexcept\u001b[39;00m \u001b[38;5;167;01mKeyboardInterrupt\u001b[39;00m:\n\u001b[1;32m   1323\u001b[0m     \u001b[38;5;66;03m# re-raise KeyboardInterrupt, to truncate traceback\u001b[39;00m\n\u001b[1;32m   1324\u001b[0m     msg \u001b[38;5;241m=\u001b[39m \u001b[38;5;124m\"\u001b[39m\u001b[38;5;124mInterrupted by user\u001b[39m\u001b[38;5;124m\"\u001b[39m\n\u001b[0;32m-> 1325\u001b[0m     \u001b[38;5;28;01mraise\u001b[39;00m \u001b[38;5;167;01mKeyboardInterrupt\u001b[39;00m(msg) \u001b[38;5;28;01mfrom\u001b[39;00m \u001b[38;5;28;01mNone\u001b[39;00m\n\u001b[1;32m   1326\u001b[0m \u001b[38;5;28;01mexcept\u001b[39;00m \u001b[38;5;167;01mException\u001b[39;00m:\n\u001b[1;32m   1327\u001b[0m     \u001b[38;5;28mself\u001b[39m\u001b[38;5;241m.\u001b[39mlog\u001b[38;5;241m.\u001b[39mwarning(\u001b[38;5;124m\"\u001b[39m\u001b[38;5;124mInvalid Message:\u001b[39m\u001b[38;5;124m\"\u001b[39m, exc_info\u001b[38;5;241m=\u001b[39m\u001b[38;5;28;01mTrue\u001b[39;00m)\n",
      "\u001b[0;31mKeyboardInterrupt\u001b[0m: Interrupted by user"
     ]
    }
   ],
   "source": [
    "# Завдання №6\n",
    "secret_number = 777\n",
    "print(\n",
    "        \"\"\"\n",
    "        +================================+\n",
    "        | Ласкаво просимо в мою гру! |\n",
    "        | Введіть ціле число і спробуйте   |\n",
    "        | вгадати секретне число.        |\n",
    "        | Яке число я вибрав?             |\n",
    "        +================================+\n",
    "        \"\"\")\n",
    "\n",
    "while True:\n",
    "    user_guess = int(input(\"Введіть своє припущення: \"))\n",
    "    if user_guess == secret_number:\n",
    "        print(\"Молодець! Ти вгадав число!\")\n",
    "        break\n",
    "    else:\n",
    "        print(\"Невірно! Спробуй ще раз!\")"
   ]
  },
  {
   "cell_type": "code",
   "execution_count": 14,
   "id": "8785cf17-8e5d-4237-b702-f59047ea5cd2",
   "metadata": {},
   "outputs": [
    {
     "ename": "IndentationError",
     "evalue": "unexpected indent (3813447990.py, line 2)",
     "output_type": "error",
     "traceback": [
      "\u001b[0;36m  Cell \u001b[0;32mIn[14], line 2\u001b[0;36m\u001b[0m\n\u001b[0;31m    import time\u001b[0m\n\u001b[0m    ^\u001b[0m\n\u001b[0;31mIndentationError\u001b[0m\u001b[0;31m:\u001b[0m unexpected indent\n"
     ]
    }
   ],
   "source": [
    "# Завдання №7\n",
    "import time\n",
    "for i in range(1, 6):\n",
    "    print(f\"{i} Міссісіпі\")\n",
    "    time.sleep(1)\n",
    "print(\"Готові чи ні, я йду!\")"
   ]
  },
  {
   "cell_type": "code",
   "execution_count": null,
   "id": "b47a97b1-2f8d-4a6d-a60a-1a16601ab82c",
   "metadata": {},
   "outputs": [],
   "source": [
    "# Завдання №8\n",
    "while True:\n",
    "    word = input(\"Введіть слово для перевірки: \")\n",
    "    if word == \"chupacabra\":\n",
    "        print(\"Ви вийшли з циклу успішно.\")\n",
    "        break"
   ]
  },
  {
   "cell_type": "code",
   "execution_count": null,
   "id": "798ae255-7240-4eab-96c2-5a72959dde4f",
   "metadata": {},
   "outputs": [],
   "source": [
    "# Завдання №9\n",
    "user_word = input(\"Введіть слово: \")\n",
    "user_word = user_word.upper()\n",
    "for letter in user_word:\n",
    "    if letter in ('A', 'E', 'I', 'O', 'U'):\n",
    "        continue\n",
    "    print(letter)"
   ]
  },
  {
   "cell_type": "code",
   "execution_count": null,
   "id": "0d6a8318-0b4b-4dbe-9b80-2676afddd241",
   "metadata": {},
   "outputs": [],
   "source": [
    "# Завдання №10\n",
    "word_without_vowels = \"\"\n",
    "user_word = input(\"Введіть слово: \")\n",
    "user_word = user_word.upper()\n",
    "for letter in user_word:\n",
    "    if letter in ('A', 'E', 'I', 'O', 'U'):\n",
    "        continue\n",
    "\n",
    "    word_without_vowels += letter\n",
    "print(word_without_vowels)"
   ]
  },
  {
   "cell_type": "code",
   "execution_count": null,
   "id": "2d86a245-7d7e-4255-9cf4-e60f1343049c",
   "metadata": {},
   "outputs": [],
   "source": [
    "# Завдання №11\n",
    "blocks = int(input(\"Введіть кількість блоків для побудови піраміди: \"))\n",
    "height = 0\n",
    "blocks_in_layer = 1\n",
    "while blocks >= blocks_in_layer:\n",
    "    blocks -= blocks_in_layer\n",
    "    height += 1\n",
    "    blocks_in_layer += 1\n",
    "print(\"Висота піраміди:\", height)"
   ]
  },
  {
   "cell_type": "code",
   "execution_count": null,
   "id": "853e87fc-7ac6-4f78-8a6a-61ac0618bbaf",
   "metadata": {},
   "outputs": [],
   "source": [
    "# Завдання №12\n",
    "c0 = int(input(\"Введіть натуральне число для обчислень: \"))\n",
    "steps = 0\n",
    "while c0 != 1:\n",
    "    print(c0)\n",
    "    if c0 % 2 == 0:\n",
    "        c0 = c0 // 2\n",
    "    else:\n",
    "        c0 = 3 * c0 + 1\n",
    "    steps += 1\n",
    "\n",
    "print(c0)\n",
    "print(\"Кроків:\", steps)"
   ]
  }
 ],
 "metadata": {
  "kernelspec": {
   "display_name": "Python 3 (ipykernel)",
   "language": "python",
   "name": "python3"
  },
  "language_info": {
   "codemirror_mode": {
    "name": "ipython",
    "version": 3
   },
   "file_extension": ".py",
   "mimetype": "text/x-python",
   "name": "python",
   "nbconvert_exporter": "python",
   "pygments_lexer": "ipython3",
   "version": "3.13.0"
  }
 },
 "nbformat": 4,
 "nbformat_minor": 5
}
