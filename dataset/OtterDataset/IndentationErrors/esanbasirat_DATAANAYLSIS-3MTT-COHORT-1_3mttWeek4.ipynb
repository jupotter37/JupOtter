{
  "nbformat": 4,
  "nbformat_minor": 0,
  "metadata": {
    "colab": {
      "provenance": []
    },
    "kernelspec": {
      "name": "python3",
      "display_name": "Python 3"
    },
    "language_info": {
      "name": "python"
    }
  },
  "cells": [
    {
      "cell_type": "markdown",
      "source": [
        "WEEK4 QUESTION: BUILD A PYTHON PROGRAM UTILIZING DATA STRUCTURES, CONDITIONAL STATEMENTS, AND FUNCTIONS TO SOLVE A DATA RELATED TASK"
      ],
      "metadata": {
        "id": "Tr_T5UMpw8aD"
      }
    },
    {
      "cell_type": "code",
      "execution_count": null,
      "metadata": {
        "colab": {
          "base_uri": "https://localhost:8080/"
        },
        "id": "jR7KCDFNw6uh",
        "outputId": "f42d5ccc-d7e2-46b1-af0a-d62c2fc1aa27"
      },
      "outputs": [
        {
          "output_type": "stream",
          "name": "stdout",
          "text": [
            "Abdulwadud Abubakar Hassan\n"
          ]
        }
      ],
      "source": [
        "#Starting with Strings\n",
        "name = \"Abdulwadud Abubakar Hassan\"\n",
        "print(name)"
      ]
    },
    {
      "cell_type": "markdown",
      "source": [
        "Running this same code above with indenting error"
      ],
      "metadata": {
        "id": "IC4pES5DzzZR"
      }
    },
    {
      "cell_type": "code",
      "source": [
        "#Strings with indenting error\n",
        " name = \"Abdulwadud Abubakar Hassan\"\n",
        "print(name)"
      ],
      "metadata": {
        "colab": {
          "base_uri": "https://localhost:8080/",
          "height": 140
        },
        "id": "F4gpODZ9ziMl",
        "outputId": "449a58d2-6a2f-4595-860d-bf20a7770def"
      },
      "execution_count": null,
      "outputs": [
        {
          "output_type": "error",
          "ename": "IndentationError",
          "evalue": "unexpected indent (<ipython-input-6-3b18702e6e41>, line 2)",
          "traceback": [
            "\u001b[0;36m  File \u001b[0;32m\"<ipython-input-6-3b18702e6e41>\"\u001b[0;36m, line \u001b[0;32m2\u001b[0m\n\u001b[0;31m    name = \"Abdulwadud Abubakar Hassan\"\u001b[0m\n\u001b[0m    ^\u001b[0m\n\u001b[0;31mIndentationError\u001b[0m\u001b[0;31m:\u001b[0m unexpected indent\n"
          ]
        }
      ]
    },
    {
      "cell_type": "markdown",
      "source": [
        "This error was due to the space before the variable 'name' which was correct in the first code run on block 5. It is paramount to ensure all the lines within the block are indented with the same number of spaces or tabs."
      ],
      "metadata": {
        "id": "TtkSfIhX2JnE"
      }
    },
    {
      "cell_type": "markdown",
      "source": [
        "Trying to acess individual characters in a string"
      ],
      "metadata": {
        "id": "gHtVocY52jro"
      }
    },
    {
      "cell_type": "code",
      "source": [
        "# Accessing individual characters in a string\n",
        "# Define a string\n",
        "name = \"Abdulwadud Abubakar Hassan\"\n",
        "print(\"First character:\", name[0])"
      ],
      "metadata": {
        "colab": {
          "base_uri": "https://localhost:8080/"
        },
        "id": "bQHZz3kX5X8R",
        "outputId": "d3b2e582-fa60-4a81-e929-131b85d51485"
      },
      "execution_count": null,
      "outputs": [
        {
          "output_type": "stream",
          "name": "stdout",
          "text": [
            "First character: A\n"
          ]
        }
      ]
    },
    {
      "cell_type": "code",
      "source": [
        "print(\"First word:\", name[7])"
      ],
      "metadata": {
        "colab": {
          "base_uri": "https://localhost:8080/"
        },
        "id": "1_dSJP2K6A-5",
        "outputId": "fbfb0a24-7eb0-48a3-b155-cdb14df95f26"
      },
      "execution_count": null,
      "outputs": [
        {
          "output_type": "stream",
          "name": "stdout",
          "text": [
            "First word: d\n"
          ]
        }
      ]
    },
    {
      "cell_type": "code",
      "source": [
        "#Slicing a string\n",
        "print(\"Substring from index 10 to the end:\", name[10:])"
      ],
      "metadata": {
        "colab": {
          "base_uri": "https://localhost:8080/"
        },
        "id": "reQZ9NCv7CXz",
        "outputId": "a0ff4974-1737-4d1c-b363-c40f1c0c8772"
      },
      "execution_count": null,
      "outputs": [
        {
          "output_type": "stream",
          "name": "stdout",
          "text": [
            "Substring from index 10 to the end:  Abubakar Hassan\n"
          ]
        }
      ]
    },
    {
      "cell_type": "code",
      "source": [
        "print(\"Substring from index 0 to the end:\", name[0:10])"
      ],
      "metadata": {
        "colab": {
          "base_uri": "https://localhost:8080/"
        },
        "id": "NZXAvuW_Ay0G",
        "outputId": "253ec36b-6eed-4ec1-f08a-9fc9ae982c24"
      },
      "execution_count": null,
      "outputs": [
        {
          "output_type": "stream",
          "name": "stdout",
          "text": [
            "Substring from index 0 to the end: Abdulwadud\n"
          ]
        }
      ]
    },
    {
      "cell_type": "markdown",
      "source": [
        "The above code block sliced the variable name"
      ],
      "metadata": {
        "id": "4SI4_YJi8YOo"
      }
    },
    {
      "cell_type": "code",
      "source": [
        "# Checking substring existence\n",
        "if \"Abdilwadud\" in name:\n",
        "    print(\"'Abdilwadud' found in string.\")\n",
        "else:\n",
        "     print(\"'Abdilwadud' not found in string.\")\n"
      ],
      "metadata": {
        "colab": {
          "base_uri": "https://localhost:8080/"
        },
        "id": "S1U5UEHkBP9A",
        "outputId": "25ad0633-a74b-41bb-fa74-60306e7920ce"
      },
      "execution_count": null,
      "outputs": [
        {
          "output_type": "stream",
          "name": "stdout",
          "text": [
            "'Abdilwadud' not found in string.\n"
          ]
        }
      ]
    },
    {
      "cell_type": "markdown",
      "source": [
        "the above code came with the Abdilwadud not found because of the error in spelling of Abdulwadud. To correct this will run the code again with the correct spelling"
      ],
      "metadata": {
        "id": "1UNO5ou8Bz_H"
      }
    },
    {
      "cell_type": "code",
      "source": [
        "# Checking substring existence\n",
        "if \"Abdulwadud\" in name:\n",
        "    print(\"'Abdulwadud' found in string.\")\n",
        "else:\n",
        "     print(\"'Abdulwadud' not found in string.\")"
      ],
      "metadata": {
        "colab": {
          "base_uri": "https://localhost:8080/"
        },
        "id": "HvWz7zk6CUMX",
        "outputId": "ee4d7346-a06f-4516-c6b8-732851db0479"
      },
      "execution_count": null,
      "outputs": [
        {
          "output_type": "stream",
          "name": "stdout",
          "text": [
            "'Abdulwadud' found in string.\n"
          ]
        }
      ]
    },
    {
      "cell_type": "markdown",
      "source": [
        "Various operations involving Integer and lists in python script."
      ],
      "metadata": {
        "id": "daLZtA7hGlMh"
      }
    },
    {
      "cell_type": "code",
      "source": [
        " # Integer\n",
        "age = 30\n",
        "print(\"Age:\", age)"
      ],
      "metadata": {
        "colab": {
          "base_uri": "https://localhost:8080/"
        },
        "id": "IYylMICpGyh4",
        "outputId": "24cf8801-c38a-400d-9c8b-62996f07339f"
      },
      "execution_count": null,
      "outputs": [
        {
          "output_type": "stream",
          "name": "stdout",
          "text": [
            "Age: 30\n"
          ]
        }
      ]
    },
    {
      "cell_type": "code",
      "source": [
        "# Integer\n",
        "age = 30\n",
        "age_sibling = 34\n",
        "sum = age + age_sibling\n",
        "print(\"Sum:\", sum)\n",
        "print(\"Age:\", age_sibling)"
      ],
      "metadata": {
        "colab": {
          "base_uri": "https://localhost:8080/"
        },
        "id": "FVG8Ip97HA_g",
        "outputId": "52001d3e-cf49-4a58-a9bb-b1486e9de4b6"
      },
      "execution_count": null,
      "outputs": [
        {
          "output_type": "stream",
          "name": "stdout",
          "text": [
            "Sum: 64\n",
            "Age: 34\n"
          ]
        }
      ]
    },
    {
      "cell_type": "markdown",
      "source": [
        "Omitting or quoting the variable sum rather than just listing it as done below will give a different output rather than the sum of the variables. It will return back the code as the input. This is displayed below"
      ],
      "metadata": {
        "id": "b8wosrk4Iffw"
      }
    },
    {
      "cell_type": "code",
      "source": [
        "#Sum of the siblings age\n",
        "sum = ('age + age_sibling')\n",
        "print(\"Sum:\", sum)\n",
        "type(sum)"
      ],
      "metadata": {
        "colab": {
          "base_uri": "https://localhost:8080/"
        },
        "id": "ocCrJeU5HOta",
        "outputId": "582c14d9-2ac8-4546-8322-4482fe16e9f2"
      },
      "execution_count": null,
      "outputs": [
        {
          "output_type": "stream",
          "name": "stdout",
          "text": [
            "Sum: age + age_sibling\n"
          ]
        },
        {
          "output_type": "execute_result",
          "data": {
            "text/plain": [
              "str"
            ]
          },
          "metadata": {},
          "execution_count": 28
        }
      ]
    },
    {
      "cell_type": "code",
      "source": [
        "#Define a list\n",
        "age_friends = [23,26,19,25]\n",
        "names_friends =[Aliyah, Adamu,Aleena,Amrah]\n"
      ],
      "metadata": {
        "colab": {
          "base_uri": "https://localhost:8080/",
          "height": 210
        },
        "id": "BD8rZFUnUFFs",
        "outputId": "4bdfb7ba-72d7-4a01-e506-88da42187b1f"
      },
      "execution_count": null,
      "outputs": [
        {
          "output_type": "error",
          "ename": "NameError",
          "evalue": "name 'Aliyah' is not defined",
          "traceback": [
            "\u001b[0;31m---------------------------------------------------------------------------\u001b[0m",
            "\u001b[0;31mNameError\u001b[0m                                 Traceback (most recent call last)",
            "\u001b[0;32m<ipython-input-37-0230b4cf0e29>\u001b[0m in \u001b[0;36m<cell line: 3>\u001b[0;34m()\u001b[0m\n\u001b[1;32m      1\u001b[0m \u001b[0;31m#Define a list\u001b[0m\u001b[0;34m\u001b[0m\u001b[0;34m\u001b[0m\u001b[0m\n\u001b[1;32m      2\u001b[0m \u001b[0mage_friends\u001b[0m \u001b[0;34m=\u001b[0m \u001b[0;34m[\u001b[0m\u001b[0;36m23\u001b[0m\u001b[0;34m,\u001b[0m\u001b[0;36m26\u001b[0m\u001b[0;34m,\u001b[0m\u001b[0;36m19\u001b[0m\u001b[0;34m,\u001b[0m\u001b[0;36m25\u001b[0m\u001b[0;34m]\u001b[0m\u001b[0;34m\u001b[0m\u001b[0;34m\u001b[0m\u001b[0m\n\u001b[0;32m----> 3\u001b[0;31m \u001b[0mnames_friends\u001b[0m \u001b[0;34m=\u001b[0m\u001b[0;34m[\u001b[0m\u001b[0mAliyah\u001b[0m\u001b[0;34m,\u001b[0m \u001b[0mAdamu\u001b[0m\u001b[0;34m,\u001b[0m\u001b[0mAleena\u001b[0m\u001b[0;34m,\u001b[0m\u001b[0mAmrah\u001b[0m\u001b[0;34m]\u001b[0m\u001b[0;34m\u001b[0m\u001b[0;34m\u001b[0m\u001b[0m\n\u001b[0m",
            "\u001b[0;31mNameError\u001b[0m: name 'Aliyah' is not defined"
          ]
        }
      ]
    },
    {
      "cell_type": "markdown",
      "source": [
        "This error was because the code does not have ' ' in the names_friends function"
      ],
      "metadata": {
        "id": "m0YV4q18VVbR"
      }
    },
    {
      "cell_type": "code",
      "source": [
        "#Define a list\n",
        "age_friends = [ '23','26','19','25']\n",
        "names_friends = [ 'Aliyah', 'Adamu'',Aleena','Amrah' ]\n"
      ],
      "metadata": {
        "id": "3vqpAFQmVjxc"
      },
      "execution_count": null,
      "outputs": []
    },
    {
      "cell_type": "code",
      "source": [
        "print(\"Names_friends:\", names_friends)\n",
        "print(\"Age_friends:\", age_friends)"
      ],
      "metadata": {
        "colab": {
          "base_uri": "https://localhost:8080/"
        },
        "id": "eQGJt1nmXgCe",
        "outputId": "3e63fc52-b78c-496d-e2f9-1d8b58fab461"
      },
      "execution_count": null,
      "outputs": [
        {
          "output_type": "stream",
          "name": "stdout",
          "text": [
            "Names_friends: ['Aliyah', 'Adamu,Aleena', 'Amrah']\n",
            "Age_friends: ['23', '26', '19', '25']\n"
          ]
        }
      ]
    },
    {
      "cell_type": "code",
      "source": [
        " # Modifying elements in a list\n",
        "age_friends [2] = 30"
      ],
      "metadata": {
        "id": "h5joM86sYlq7"
      },
      "execution_count": null,
      "outputs": []
    },
    {
      "cell_type": "code",
      "source": [
        "print(\"Age_friends:\", age_friends)"
      ],
      "metadata": {
        "colab": {
          "base_uri": "https://localhost:8080/"
        },
        "id": "ULcMSQe-aBRb",
        "outputId": "cf7dc59c-954a-43cc-c994-11ccd6125667"
      },
      "execution_count": null,
      "outputs": [
        {
          "output_type": "stream",
          "name": "stdout",
          "text": [
            "Age_friends: ['23', '26', 30, '25']\n"
          ]
        }
      ]
    },
    {
      "cell_type": "code",
      "source": [
        " # Inserting elements into a list\n",
        "age_friends.insert(23, 20)\n",
        "print(\"List after inserting 20 at index 4:\", age_friends)"
      ],
      "metadata": {
        "colab": {
          "base_uri": "https://localhost:8080/"
        },
        "id": "jqC_sGWYaSYD",
        "outputId": "9b273e86-fa62-4f06-9093-2185e9e0a175"
      },
      "execution_count": null,
      "outputs": [
        {
          "output_type": "stream",
          "name": "stdout",
          "text": [
            "List after inserting 20 at index 4: ['23', '26', 30, '25', 20, 20]\n"
          ]
        }
      ]
    },
    {
      "cell_type": "code",
      "source": [
        " # Appending elements to a list\n",
        "names_friends.append('Aisha')\n",
        "print(\"List after appending Aisha:\", names_friends)"
      ],
      "metadata": {
        "colab": {
          "base_uri": "https://localhost:8080/"
        },
        "id": "Opzr8QCdbB1X",
        "outputId": "2863a777-e3d4-40be-9b80-d5b61309d394"
      },
      "execution_count": null,
      "outputs": [
        {
          "output_type": "stream",
          "name": "stdout",
          "text": [
            "List after appending Aisha: ['Aliyah', 'Adamu,Aleena', 'Amrah', 'Aisha']\n"
          ]
        }
      ]
    },
    {
      "cell_type": "code",
      "source": [
        "# Extending a list\n",
        "names_friends.extend([\"Mooneyes\"])\n",
        "print(\"Names_friends after extending with ['Mooneyes']:\", names_friends)\n"
      ],
      "metadata": {
        "colab": {
          "base_uri": "https://localhost:8080/"
        },
        "id": "wQ8iYJ_efDpl",
        "outputId": "a35c7f85-f16f-4c1d-e49e-2e0fcce478a1"
      },
      "execution_count": null,
      "outputs": [
        {
          "output_type": "stream",
          "name": "stdout",
          "text": [
            "Names_friends after extending with ['Mooneyes']: ['Aliyah', 'Adamu,Aleena', 'Amrah', 'Aisha', 'Mooneyes']\n"
          ]
        }
      ]
    },
    {
      "cell_type": "markdown",
      "source": [
        "REMOVING AN ELEMENT FROM A LIST"
      ],
      "metadata": {
        "id": "bDtlbpS3f0zQ"
      }
    },
    {
      "cell_type": "code",
      "source": [
        "# Removing elements from a list\n",
        "names_friends.remove('Aisha')\n",
        "print(\"List after removing element Aisha:\", names_friends)"
      ],
      "metadata": {
        "colab": {
          "base_uri": "https://localhost:8080/"
        },
        "id": "J-M7ntCmgC0z",
        "outputId": "adcf7bfc-5c99-4d7f-e520-75dea07b0d88"
      },
      "execution_count": null,
      "outputs": [
        {
          "output_type": "stream",
          "name": "stdout",
          "text": [
            "List after removing element Aisha: ['Aliyah', 'Adamu,Aleena', 'Amrah', 'Mooneyes']\n"
          ]
        }
      ]
    },
    {
      "cell_type": "code",
      "source": [
        "# Sorting a list\n",
        "names_friends.sort()\n",
        "print(\"Sorted list:\", names_friends)"
      ],
      "metadata": {
        "colab": {
          "base_uri": "https://localhost:8080/"
        },
        "id": "KA7RvEdkhJK4",
        "outputId": "132415fc-91fc-4c77-9c55-cb16502f5464"
      },
      "execution_count": null,
      "outputs": [
        {
          "output_type": "stream",
          "name": "stdout",
          "text": [
            "Sorted list: ['Adamu,Aleena', 'Aliyah', 'Amrah', 'Mooneyes']\n"
          ]
        }
      ]
    },
    {
      "cell_type": "code",
      "source": [
        "# Reversing a list\n",
        "names_friends.reverse()\n",
        "print(\"Reversed list:\", names_friends)\n"
      ],
      "metadata": {
        "colab": {
          "base_uri": "https://localhost:8080/"
        },
        "id": "mjOxWIvog01Y",
        "outputId": "2eec755d-98c0-4de1-982f-59cbdb0feafd"
      },
      "execution_count": null,
      "outputs": [
        {
          "output_type": "stream",
          "name": "stdout",
          "text": [
            "Reversed list: ['Mooneyes', 'Amrah', 'Aliyah', 'Adamu,Aleena']\n"
          ]
        }
      ]
    },
    {
      "cell_type": "markdown",
      "source": [
        "TUPLES: Tuples are used to store multiple items in a single variable. Tuples allow duplicate values."
      ],
      "metadata": {
        "id": "gPLTp3rs6P52"
      }
    },
    {
      "cell_type": "code",
      "source": [
        "#Tuples\n",
        "fruits = (\"apple\", \"watremelon\",  \"banana\", \"cherry\")\n",
        "print(fruits)"
      ],
      "metadata": {
        "colab": {
          "base_uri": "https://localhost:8080/"
        },
        "id": "mQxFh0jv1N8F",
        "outputId": "4e3a12e0-2e36-4a73-fe07-badd1df2f862"
      },
      "execution_count": null,
      "outputs": [
        {
          "output_type": "stream",
          "name": "stdout",
          "text": [
            "('apple', 'watremelon', 'banana', 'cherry')\n"
          ]
        }
      ]
    },
    {
      "cell_type": "code",
      "source": [
        "# tuple including string and integer\n",
        "mixed_tuple = ('Hey', 'Pretty', '@ 23')\n",
        "print(mixed_tuple)"
      ],
      "metadata": {
        "colab": {
          "base_uri": "https://localhost:8080/"
        },
        "id": "cea7XHhu7gyj",
        "outputId": "b2df2a60-95f0-4da5-d383-9415f3992b7b"
      },
      "execution_count": null,
      "outputs": [
        {
          "output_type": "stream",
          "name": "stdout",
          "text": [
            "('Hey', 'Pretty', '@ 23')\n"
          ]
        }
      ]
    },
    {
      "cell_type": "code",
      "source": [
        "# tuple including string and integer\n",
        "mixed_tuple = ('Hey', 'Pretty'  '@ 23')\n",
        "print(mixed_tuple)"
      ],
      "metadata": {
        "colab": {
          "base_uri": "https://localhost:8080/"
        },
        "id": "SQVF_TiE7m8F",
        "outputId": "992e9ed5-f71e-4391-b02f-12a04cb70ad1"
      },
      "execution_count": null,
      "outputs": [
        {
          "output_type": "stream",
          "name": "stdout",
          "text": [
            "('Hey', 'Pretty@ 23')\n"
          ]
        }
      ]
    },
    {
      "cell_type": "markdown",
      "source": [
        "Tuples length"
      ],
      "metadata": {
        "id": "B-u6qKmc-qv5"
      }
    },
    {
      "cell_type": "code",
      "source": [
        "#tuples length\n",
        "brands_cars = ('BMW', 'Audi', 'Tesla', 'Ford', 'Toyota')\n",
        "print('Total Items:', len(brands_cars))"
      ],
      "metadata": {
        "colab": {
          "base_uri": "https://localhost:8080/"
        },
        "id": "kVnbw45f-u96",
        "outputId": "25399f2f-0caf-423f-e340-394d16985d5e"
      },
      "execution_count": null,
      "outputs": [
        {
          "output_type": "stream",
          "name": "stdout",
          "text": [
            "Total Items: 5\n"
          ]
        }
      ]
    },
    {
      "cell_type": "code",
      "source": [
        "#Tuples to duplicate values\n",
        "fruits = (\"apple\", \"banana\",\"watremelon\",  \"banana\", \"apple\", \"cherry\")\n",
        "print(fruits)"
      ],
      "metadata": {
        "colab": {
          "base_uri": "https://localhost:8080/"
        },
        "id": "es7vbV7sAPcn",
        "outputId": "0a23e345-b41f-4d25-bff3-7c67d6a49331"
      },
      "execution_count": null,
      "outputs": [
        {
          "output_type": "stream",
          "name": "stdout",
          "text": [
            "('apple', 'banana', 'watremelon', 'banana', 'apple', 'cherry')\n"
          ]
        }
      ]
    },
    {
      "cell_type": "markdown",
      "source": [
        "Iterate Through a Tuple"
      ],
      "metadata": {
        "id": "fRDkA9paDuQ3"
      }
    },
    {
      "cell_type": "code",
      "source": [
        "# iterate through the tuple\n",
        "fruits = (\"apple\", \"watremelon\",  \"banana\", \"cherry\")\n",
        "for fruit in fruits:\n",
        "    print(fruit)"
      ],
      "metadata": {
        "colab": {
          "base_uri": "https://localhost:8080/"
        },
        "id": "TKUMT1k9Djy-",
        "outputId": "af064e05-d2c8-42b5-d83a-6e1d0ca89ecd"
      },
      "execution_count": null,
      "outputs": [
        {
          "output_type": "stream",
          "name": "stdout",
          "text": [
            "apple\n",
            "watremelon\n",
            "banana\n",
            "cherry\n"
          ]
        }
      ]
    },
    {
      "cell_type": "markdown",
      "source": [
        "The code below is to check if an item exists in the Tuple"
      ],
      "metadata": {
        "id": "7B0XlmR2EXvU"
      }
    },
    {
      "cell_type": "code",
      "source": [
        "# Checking if an item is in a tuples\n",
        "fruits = (\"apple\", \"watremelon\",  \"banana\", \"cherry\")\n",
        "\n",
        "print('banana' in fruits)    # False\n",
        "print('pineapple' in fruits) # True"
      ],
      "metadata": {
        "colab": {
          "base_uri": "https://localhost:8080/"
        },
        "id": "G_Qvf7j7EksV",
        "outputId": "c7f125f8-9145-4753-feeb-29fb6ebe404b"
      },
      "execution_count": null,
      "outputs": [
        {
          "output_type": "stream",
          "name": "stdout",
          "text": [
            "True\n",
            "False\n"
          ]
        }
      ]
    },
    {
      "cell_type": "markdown",
      "source": [
        "Deleting a  Tuple\n",
        "We cannot delete individual items of a tuple. But, we can delete the tuple itself using the del statement."
      ],
      "metadata": {
        "id": "DhftPYvRF7Rz"
      }
    },
    {
      "cell_type": "code",
      "source": [
        "# deleting the tuple\n",
        "subject = ('maths', 'physics', 'agric', 'civic')\n",
        "print(subject)"
      ],
      "metadata": {
        "colab": {
          "base_uri": "https://localhost:8080/"
        },
        "id": "3lFBGt-EGEf0",
        "outputId": "ee88a9d5-299b-4f7d-ab6e-c686832ac5de"
      },
      "execution_count": null,
      "outputs": [
        {
          "output_type": "stream",
          "name": "stdout",
          "text": [
            "('maths', 'physics', 'agric', 'civic')\n"
          ]
        }
      ]
    },
    {
      "cell_type": "code",
      "source": [
        "del subject\n",
        "print(subject)"
      ],
      "metadata": {
        "colab": {
          "base_uri": "https://localhost:8080/",
          "height": 193
        },
        "id": "VhH12fJ0GktH",
        "outputId": "99c0c58d-ba1f-4e7e-a0d1-e1cf25e09515"
      },
      "execution_count": null,
      "outputs": [
        {
          "output_type": "error",
          "ename": "NameError",
          "evalue": "name 'subject' is not defined",
          "traceback": [
            "\u001b[0;31m---------------------------------------------------------------------------\u001b[0m",
            "\u001b[0;31mNameError\u001b[0m                                 Traceback (most recent call last)",
            "\u001b[0;32m<ipython-input-16-54c50b2e84fe>\u001b[0m in \u001b[0;36m<cell line: 1>\u001b[0;34m()\u001b[0m\n\u001b[0;32m----> 1\u001b[0;31m \u001b[0;32mdel\u001b[0m \u001b[0msubject\u001b[0m\u001b[0;34m\u001b[0m\u001b[0;34m\u001b[0m\u001b[0m\n\u001b[0m\u001b[1;32m      2\u001b[0m \u001b[0mprint\u001b[0m\u001b[0;34m(\u001b[0m\u001b[0msubject\u001b[0m\u001b[0;34m)\u001b[0m\u001b[0;34m\u001b[0m\u001b[0;34m\u001b[0m\u001b[0m\n",
            "\u001b[0;31mNameError\u001b[0m: name 'subject' is not defined"
          ]
        }
      ]
    },
    {
      "cell_type": "markdown",
      "source": [
        "The above error occured because the variable subject has been deleted."
      ],
      "metadata": {
        "id": "QwYuD-RbLoOi"
      }
    },
    {
      "cell_type": "markdown",
      "source": [
        "SETS\n",
        "They are created by placing all the elements inside curly braces {}, separated by commas.\n",
        "A set can have any number of items and they may be of different types (integer, float, tuple, string, etc.). But a set cannot have mutable elements like lists, sets or dictionaries as its elements."
      ],
      "metadata": {
        "id": "HWNzTF-qMAXg"
      }
    },
    {
      "cell_type": "code",
      "source": [
        "# create a set of integer type\n",
        "student_id = {1005, 1101, 1016, 2018, 1135}\n",
        "print('Student ID:', student_id)\n"
      ],
      "metadata": {
        "id": "OFnDDCwCL_gQ",
        "colab": {
          "base_uri": "https://localhost:8080/"
        },
        "outputId": "9ce561b6-5ecf-4d4a-d3ab-579c257e061d"
      },
      "execution_count": 1,
      "outputs": [
        {
          "output_type": "stream",
          "name": "stdout",
          "text": [
            "Student ID: {2018, 1101, 1016, 1005, 1135}\n"
          ]
        }
      ]
    },
    {
      "cell_type": "code",
      "source": [
        "# create a set of string type\n",
        "consonant_letters = {'c', 'b', 'h', 'k', 'f'}\n",
        "print('Consonant Letters:', consonant_letters)"
      ],
      "metadata": {
        "colab": {
          "base_uri": "https://localhost:8080/"
        },
        "id": "15eHVRvUs32U",
        "outputId": "a9df7d82-286e-4281-ee23-950582839e82"
      },
      "execution_count": 3,
      "outputs": [
        {
          "output_type": "stream",
          "name": "stdout",
          "text": [
            "Consonant Letters: {'b', 'c', 'f', 'h', 'k'}\n"
          ]
        }
      ]
    },
    {
      "cell_type": "code",
      "source": [
        "# create a set of mixed data types\n",
        "mixed_set = {'Bye', 1005, 'Nice_shirt', 'Hello'}\n",
        "print('Set of mixed data types:', mixed_set)"
      ],
      "metadata": {
        "colab": {
          "base_uri": "https://localhost:8080/"
        },
        "id": "4A5lpcbVtTaA",
        "outputId": "ae5f3028-373d-4d6a-c2a1-0a28e6b57ce7"
      },
      "execution_count": 5,
      "outputs": [
        {
          "output_type": "stream",
          "name": "stdout",
          "text": [
            "Set of mixed data types: {'Bye', 'Hello', 'Nice_shirt', 1005}\n"
          ]
        }
      ]
    },
    {
      "cell_type": "markdown",
      "source": [
        "Running this code, the output are in a different order. This is because the set has no particular order.\n",
        "\n"
      ],
      "metadata": {
        "id": "owBSYGMatzKv"
      }
    },
    {
      "cell_type": "code",
      "source": [
        "#Duplicating elements in a set\n",
        "numbers = {2, 4, 6, 6, 2, 8}\n",
        "print(numbers)"
      ],
      "metadata": {
        "colab": {
          "base_uri": "https://localhost:8080/"
        },
        "id": "yA3Bn9uZtsNu",
        "outputId": "de2b973a-e0da-4460-89c3-a9070e744b3b"
      },
      "execution_count": 8,
      "outputs": [
        {
          "output_type": "stream",
          "name": "stdout",
          "text": [
            "{8, 2, 4, 6}\n"
          ]
        }
      ]
    },
    {
      "cell_type": "markdown",
      "source": [
        "A set doesnot duplicate elements like tuples."
      ],
      "metadata": {
        "id": "AodU23tmuqgy"
      }
    },
    {
      "cell_type": "markdown",
      "source": [
        "Add and Update Set Items in Python\n",
        "Sets are mutable. However, since they are unordered, indexing has no meaning.\n",
        "We cannot access or change an element of a set using indexing or slicing."
      ],
      "metadata": {
        "id": "U5BEV7R5vGkQ"
      }
    },
    {
      "cell_type": "code",
      "source": [
        "numbers = {2, 4, 6, 6, 2, 8}\n",
        "print('Initial Set:',numbers)\n",
        "\n",
        ""
      ],
      "metadata": {
        "colab": {
          "base_uri": "https://localhost:8080/"
        },
        "id": "NtzjirG7vPO-",
        "outputId": "bcfbb9d8-905c-4238-d1b1-6593cc4a349b"
      },
      "execution_count": 12,
      "outputs": [
        {
          "output_type": "stream",
          "name": "stdout",
          "text": [
            "Initial Set: {8, 2, 4, 6}\n"
          ]
        }
      ]
    },
    {
      "cell_type": "markdown",
      "source": [
        "\n",
        "The add () method is used to add to a set"
      ],
      "metadata": {
        "id": "UYjnkHmJwvAa"
      }
    },
    {
      "cell_type": "code",
      "source": [
        "# using add() method\n",
        "numbers.add(12)\n",
        "\n",
        "print('Updated Set:', numbers)"
      ],
      "metadata": {
        "colab": {
          "base_uri": "https://localhost:8080/"
        },
        "id": "LR_GVoP1wqXc",
        "outputId": "6e016726-4c3f-44d1-8397-c968b7c78117"
      },
      "execution_count": 13,
      "outputs": [
        {
          "output_type": "stream",
          "name": "stdout",
          "text": [
            "Updated Set: {2, 4, 6, 8, 12}\n"
          ]
        }
      ]
    },
    {
      "cell_type": "markdown",
      "source": [
        "Removing an Element from a Set"
      ],
      "metadata": {
        "id": "FOqZ1EcpxiCW"
      }
    },
    {
      "cell_type": "code",
      "source": [
        "#removing elements in a set\n",
        "languages = {'Hausa', 'Yoruba', 'Fulani'}\n",
        "print('Initial Set:',languages)"
      ],
      "metadata": {
        "colab": {
          "base_uri": "https://localhost:8080/"
        },
        "id": "LwpCHXdVyNi2",
        "outputId": "0286412f-1bb1-4b87-d9bc-a006d265ae62"
      },
      "execution_count": 14,
      "outputs": [
        {
          "output_type": "stream",
          "name": "stdout",
          "text": [
            "Initial Set: {'Yoruba', 'Fulani', 'Hausa'}\n"
          ]
        }
      ]
    },
    {
      "cell_type": "code",
      "source": [
        "# remove 'Java' from a set\n",
        "removedValue = languages.discard('Yoruba')\n",
        "print('Set after remove():', languages)"
      ],
      "metadata": {
        "colab": {
          "base_uri": "https://localhost:8080/"
        },
        "id": "bQsKtgJYyvM_",
        "outputId": "42d6f54c-48da-4a52-86a0-b231dfb6d768"
      },
      "execution_count": 15,
      "outputs": [
        {
          "output_type": "stream",
          "name": "stdout",
          "text": [
            "Set after remove(): {'Fulani', 'Hausa'}\n"
          ]
        }
      ]
    },
    {
      "cell_type": "markdown",
      "source": [
        "Iterate Over a Set in Python"
      ],
      "metadata": {
        "id": "hXnmivDdy8jy"
      }
    },
    {
      "cell_type": "code",
      "source": [
        "rounds = {\"Apple\", \"Peach\", \"Mango\"}\n",
        "\n",
        "# for loop to access each rounds\n",
        "for rounds in rounds:\n",
        "    print(rounds)"
      ],
      "metadata": {
        "colab": {
          "base_uri": "https://localhost:8080/"
        },
        "id": "nkRSL4lfy93X",
        "outputId": "654d1961-fb7e-4ea7-cba7-6314d14e73d8"
      },
      "execution_count": 16,
      "outputs": [
        {
          "output_type": "stream",
          "name": "stdout",
          "text": [
            "Peach\n",
            "Mango\n",
            "Apple\n"
          ]
        }
      ]
    },
    {
      "cell_type": "markdown",
      "source": [
        "DICTIONARIES: Dictionary is a collection of items that allows us to store data in key: value pairs inside curly brackets {}, separated by commas"
      ],
      "metadata": {
        "id": "sd7MYpWyzixu"
      }
    },
    {
      "cell_type": "code",
      "source": [
        "# creating a dictionary\n",
        "state_capitals = {\n",
        "  \"Jigawa\": \"Dutse\",\n",
        "  \"Kaduna\": \"Kaduna\",\n",
        "  \"Niger\": \"Minna\"\n",
        "}\n",
        "# printing the dictionary\n",
        "print(state_capitals)"
      ],
      "metadata": {
        "colab": {
          "base_uri": "https://localhost:8080/"
        },
        "id": "GTMMcirq-qIY",
        "outputId": "3b665952-8d78-4a32-e7bf-c44375b992a4"
      },
      "execution_count": 17,
      "outputs": [
        {
          "output_type": "stream",
          "name": "stdout",
          "text": [
            "{'Jigawa': 'Dutse', 'Kaduna': 'Kaduna', 'Niger': 'Minna'}\n"
          ]
        }
      ]
    },
    {
      "cell_type": "markdown",
      "source": [
        "The state_capitals dictionary has three elements (key-value pairs), where 'Jigawa' is the key and 'Dutse' is the value assigned to it etc."
      ],
      "metadata": {
        "id": "lWeoFLAi_fq_"
      }
    },
    {
      "cell_type": "markdown",
      "source": [
        "Dictionary keys must be immutable, such as tuples, strings, integers, etc. We cannot use mutable (changeable) objects such as lists as keys."
      ],
      "metadata": {
        "id": "I64zZwDB_4yq"
      }
    },
    {
      "cell_type": "markdown",
      "source": [
        "Access Dictionary Items"
      ],
      "metadata": {
        "id": "Ru_0_M7dAL9x"
      }
    },
    {
      "cell_type": "code",
      "source": [
        "#Access to dictoinary Items/Values\n",
        "state_capitals = {\n",
        "  \"Jigawa\": \"Dutse\",\n",
        "  \"Kaduna\": \"Kaduna\",\n",
        "  \"Niger\": \"Minna\"\n",
        "}\n",
        "# access the value of keys\n",
        "print(state_capitals[\"Jigawa\"])    # Output: Kaduna\n",
        "print(state_capitals[\"Kaduna\"])    # Output: Kaduna"
      ],
      "metadata": {
        "colab": {
          "base_uri": "https://localhost:8080/"
        },
        "id": "40lfCndBzmnq",
        "outputId": "4516cb1f-8f7f-460c-f25a-d008f4bacc58"
      },
      "execution_count": 18,
      "outputs": [
        {
          "output_type": "stream",
          "name": "stdout",
          "text": [
            "Dutse\n",
            "Kaduna\n"
          ]
        }
      ]
    },
    {
      "cell_type": "markdown",
      "source": [
        "Add Items to a Dictionary\n",
        "We can add an item to a dictionary by assigning a value to a new key."
      ],
      "metadata": {
        "id": "isKyVcrNA5Tn"
      }
    },
    {
      "cell_type": "code",
      "source": [
        "#Adding to a dictionary\n",
        "country_capitals = {\n",
        "  \"Germany\": \"Berlin\",\n",
        "  \"Canada\": \"Ottawa\",\n",
        "}\n",
        "# add an item with \"Merlin\" as key and \"Lome\" as its value\n",
        "country_capitals[\"Merlin\"] = \"Lome\"\n",
        "print(country_capitals)"
      ],
      "metadata": {
        "colab": {
          "base_uri": "https://localhost:8080/"
        },
        "id": "aIJ3gd_EA8mD",
        "outputId": "68df7089-934f-4168-8024-080d4f150f9b"
      },
      "execution_count": 19,
      "outputs": [
        {
          "output_type": "stream",
          "name": "stdout",
          "text": [
            "{'Germany': 'Berlin', 'Canada': 'Ottawa', 'Merlin': 'Lome'}\n"
          ]
        }
      ]
    },
    {
      "cell_type": "code",
      "source": [
        "country_capitals = {\n",
        "  \"Germany\": \"Berlin\",\n",
        "  \"Canada\": \"Ottawa\",\n",
        "}\n",
        "# delete item having \"Germany\" key\n",
        "del country_capitals[\"Germany\"]\n",
        "\n",
        "print(country_capitals)"
      ],
      "metadata": {
        "colab": {
          "base_uri": "https://localhost:8080/"
        },
        "id": "GWwJphILBduh",
        "outputId": "33e6b9f0-0100-4b5e-a37b-f5ed7e8d33f8"
      },
      "execution_count": 20,
      "outputs": [
        {
          "output_type": "stream",
          "name": "stdout",
          "text": [
            "{'Canada': 'Ottawa'}\n"
          ]
        }
      ]
    },
    {
      "cell_type": "markdown",
      "source": [
        "CLearing the whole element  the dictionary"
      ],
      "metadata": {
        "id": "t3dQd5gOBuUd"
      }
    },
    {
      "cell_type": "code",
      "source": [
        "#Deleting all element in the dictionary\n",
        "country_capitals = {\n",
        "  \"Germany\": \"Berlin\",\n",
        "  \"Canada\": \"Ottawa\",\n",
        "}\n",
        "# clear the dictionary\n",
        "country_capitals.clear()\n",
        "\n",
        "print(country_capitals)"
      ],
      "metadata": {
        "colab": {
          "base_uri": "https://localhost:8080/"
        },
        "id": "s94zxu0yBrd7",
        "outputId": "70bb89f3-7936-46ae-b6f6-3ebef489455a"
      },
      "execution_count": 21,
      "outputs": [
        {
          "output_type": "stream",
          "name": "stdout",
          "text": [
            "{}\n"
          ]
        }
      ]
    },
    {
      "cell_type": "markdown",
      "source": [
        "Changing element in a dictionary"
      ],
      "metadata": {
        "id": "z-_pw-QWCPSM"
      }
    },
    {
      "cell_type": "code",
      "source": [
        "country_capitals = {\n",
        "  \"Nigeria\": \"Abuja\",\n",
        "  \"Ghana\": \"Accra\",\n",
        "  \"Togo\": \"Senegal\"\n",
        "}\n",
        "# change the value of \"Togo\" key to \"Lome\"\n",
        "country_capitals[\"Togo\"] = \"Lome\"\n",
        "print(country_capitals)"
      ],
      "metadata": {
        "colab": {
          "base_uri": "https://localhost:8080/"
        },
        "id": "_dfPn61sBvxh",
        "outputId": "4665ff49-1e7d-44c6-d79c-96971f74322c"
      },
      "execution_count": 23,
      "outputs": [
        {
          "output_type": "stream",
          "name": "stdout",
          "text": [
            "{'Nigeria': 'Abuja', 'Ghana': 'Accra', 'Togo': 'Lome'}\n"
          ]
        }
      ]
    },
    {
      "cell_type": "code",
      "source": [
        "#Iterate Through a Dictionary\n",
        "country_capitals = {\n",
        "  \"Nigeria\": \"Abuja\",\n",
        "  \"Ghana\": \"Accra\",\n",
        "  \"Togo\": \"Senegal\"\n",
        "}"
      ],
      "metadata": {
        "id": "9XHtM8SyCVcp"
      },
      "execution_count": 24,
      "outputs": []
    },
    {
      "cell_type": "code",
      "source": [
        "# print dictionary keys one by one\n",
        "for country in country_capitals:\n",
        "    print(country)\n",
        "print()"
      ],
      "metadata": {
        "colab": {
          "base_uri": "https://localhost:8080/"
        },
        "id": "g8xhepTtHbYk",
        "outputId": "284b8b1e-86bb-413e-a189-b0336809ebbe"
      },
      "execution_count": 25,
      "outputs": [
        {
          "output_type": "stream",
          "name": "stdout",
          "text": [
            "Nigeria\n",
            "Ghana\n",
            "Togo\n",
            "\n"
          ]
        }
      ]
    },
    {
      "cell_type": "code",
      "source": [
        "# print dictionary values one by one\n",
        "for country in country_capitals:\n",
        "    capital = country_capitals[country]\n",
        "    print(capital)"
      ],
      "metadata": {
        "colab": {
          "base_uri": "https://localhost:8080/"
        },
        "id": "ypaF4JjaCR5I",
        "outputId": "56a2ba87-6766-4931-89d1-d3e15b5dfd4a"
      },
      "execution_count": 26,
      "outputs": [
        {
          "output_type": "stream",
          "name": "stdout",
          "text": [
            "Abuja\n",
            "Accra\n",
            "Senegal\n"
          ]
        }
      ]
    }
  ]
}