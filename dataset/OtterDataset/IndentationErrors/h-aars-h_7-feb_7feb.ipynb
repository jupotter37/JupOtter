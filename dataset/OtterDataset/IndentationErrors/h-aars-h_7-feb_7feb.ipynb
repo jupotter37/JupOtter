{
 "cells": [
  {
   "cell_type": "code",
   "execution_count": 5,
   "id": "5dea37ad-5df0-43cb-8653-a03348651885",
   "metadata": {},
   "outputs": [],
   "source": [
    "# # Q1 .Q1. You are writing code for a company. The requirement of the company is that you create a python\n",
    "# function that will check whether the password entered by the user is correct or not. The function should\n",
    "# take the password as input and return the string “Valid Password” if the entered password follows the\n",
    "# below-given password guidelines else it should return “Invalid Password”.\n",
    "# Note: 1. The Password should contain at least two uppercase letters and at least two lowercase letters.\n",
    "# 2. The Password should contain at least a number and three special characters.\n",
    "# 3. The length of the password should be 10 characters long.\n",
    "# Ans1 =\n",
    "def check_password(password):\n",
    "    upper_count = 0\n",
    "    lower_count = 0\n",
    "    digit_count = 0\n",
    "    special_count = 0\n",
    "    special_characters = \"!@#$^&*\"\n",
    "    for char in password:\n",
    "        if char.isupper():\n",
    "            upper_count += 1\n",
    "        elif char.islower():\n",
    "            lower_count += 1\n",
    "        elif char.isdigit():\n",
    "            digit_count += 1\n",
    "        elif char in special_characters:\n",
    "            special_count += 1\n",
    "        if upper_count >= 2 and lower_count >= 2 and digit_count >= 1 and special_count >= 3 and len(password) == 10:\n",
    "            return \"Valid Password\"\n",
    "        else:\n",
    "            return \"Invalid Password\"\n"
   ]
  },
  {
   "cell_type": "code",
   "execution_count": 7,
   "id": "f1b8bdd5-cb83-4cfd-a0a2-c6a45bc07d9d",
   "metadata": {},
   "outputs": [
    {
     "name": "stdout",
     "output_type": "stream",
     "text": [
      "the string start with h\n"
     ]
    }
   ],
   "source": [
    "# Q2  Check if the string starts with a particular letterY\n",
    "my_string = \"hello world\"\n",
    "if my_string.startswith(\"h\"):\n",
    "    print(\"the string start with h\")\n",
    "else:\n",
    "    print (\"this string does not start with h\")"
   ]
  },
  {
   "cell_type": "code",
   "execution_count": 6,
   "id": "98d78fea-cfea-4dbd-af65-975feff8c820",
   "metadata": {},
   "outputs": [
    {
     "ename": "IndentationError",
     "evalue": "unexpected indent (608337572.py, line 4)",
     "output_type": "error",
     "traceback": [
      "\u001b[0;36m  Cell \u001b[0;32mIn [6], line 4\u001b[0;36m\u001b[0m\n\u001b[0;31m    print(\"this is numeric\")\u001b[0m\n\u001b[0m    ^\u001b[0m\n\u001b[0;31mIndentationError\u001b[0m\u001b[0;31m:\u001b[0m unexpected indent\n"
     ]
    }
   ],
   "source": [
    "#  Check if the string is numericY\n",
    "check_no=1123\n",
    "if check_no.isnumeric():\n",
    "    print(\"this is numeric\")\n",
    "else:\n",
    "    print(\"this is not numeric\")"
   ]
  },
  {
   "cell_type": "code",
   "execution_count": 12,
   "id": "c381bce4-e07f-4119-965d-ae892d244dc8",
   "metadata": {},
   "outputs": [],
   "source": [
    "# Sort a list of tuples having fruit names and their quantity. [(\"mango\",99),(\"orange\",80), (\"grapes\", 1000)\n",
    "fruits_list= [(\"mango\",99),(\"orange\",80), (\"grapes\", 1000)]\n",
    "sorted_fruits=sorted(fruits_list,key=lambda x:x[1])"
   ]
  },
  {
   "cell_type": "code",
   "execution_count": 15,
   "id": "099632a5-a209-4ea1-bf98-f0aa8c989e42",
   "metadata": {},
   "outputs": [
    {
     "name": "stdout",
     "output_type": "stream",
     "text": [
      "[1, 4, 9, 16, 25, 36, 49, 64, 81, 100]\n"
     ]
    }
   ],
   "source": [
    "# B Find the squares of numbers from 1 to 10Y\n",
    "sq=[x**2 for x in range (1,11)]\n",
    "print(sq)"
   ]
  },
  {
   "cell_type": "code",
   "execution_count": 16,
   "id": "d1e58d5a-6aa6-4c4f-a723-98237fe3059d",
   "metadata": {},
   "outputs": [
    {
     "name": "stdout",
     "output_type": "stream",
     "text": [
      "[1, 8, 27, 64, 125, 216, 343, 512, 729, 1000]\n"
     ]
    }
   ],
   "source": [
    "# B Find the cube root of numbers from 1 to 10Y\n",
    "cube=[x**3 for x in range (1,11)]\n",
    "print(cube)"
   ]
  },
  {
   "cell_type": "code",
   "execution_count": 25,
   "id": "f467217d-42c9-4e41-acca-faab7eb3894c",
   "metadata": {},
   "outputs": [],
   "source": [
    "# B Check if a given number is evenY\n",
    "check_number =lambda x:x%2==0\n",
    " # ANS enter your no. here is false the no is even  "
   ]
  },
  {
   "cell_type": "code",
   "execution_count": 34,
   "id": "3bf25bed-199d-4f2f-8c0c-652e26bb8997",
   "metadata": {},
   "outputs": [
    {
     "ename": "SyntaxError",
     "evalue": "invalid syntax (2205635222.py, line 1)",
     "output_type": "error",
     "traceback": [
      "\u001b[0;36m  Cell \u001b[0;32mIn [34], line 1\u001b[0;36m\u001b[0m\n\u001b[0;31m    B Filter odd numbers from the given list.\u001b[0m\n\u001b[0m      ^\u001b[0m\n\u001b[0;31mSyntaxError\u001b[0m\u001b[0;31m:\u001b[0m invalid syntax\n"
     ]
    }
   ],
   "source": [
    "B Filter odd numbers from the given list.\n",
    "# [1,2,3,4,5,6,7,8,9,10]\n",
    "given_no=[1,2,3,4,5,6,7,8,9,10]\n",
    "result=list(filter(lambda x:x%2!=0,given_no))\n",
    "print(result)"
   ]
  },
  {
   "cell_type": "code",
   "execution_count": 36,
   "id": "95241f84-9c57-4ff9-a569-e89fb39d790c",
   "metadata": {},
   "outputs": [],
   "source": [
    "# B Sort a list of integers into positive and negative integers lists.\n",
    "# [1,2,3,4,5,6,-1,-2,-3,-4,-5,0]\n",
    "my_list=[1,2,3,4,5,6,-1,-2,-3,-4,-5,0]\n",
    "postive_int=[x for x in my_list if x>0]\n",
    "negative_int=[x for x in my_list if x<0]"
   ]
  },
  {
   "cell_type": "code",
   "execution_count": 37,
   "id": "86fe2e20-bb24-4a4c-89b2-aa11438d7628",
   "metadata": {},
   "outputs": [
    {
     "data": {
      "text/plain": [
       "[1, 2, 3, 4, 5, 6]"
      ]
     },
     "execution_count": 37,
     "metadata": {},
     "output_type": "execute_result"
    }
   ],
   "source": []
  },
  {
   "cell_type": "code",
   "execution_count": null,
   "id": "8aa736ac-c11c-4125-a23d-0dc3efefae7c",
   "metadata": {},
   "outputs": [],
   "source": []
  }
 ],
 "metadata": {
  "kernelspec": {
   "display_name": "Python 3 (ipykernel)",
   "language": "python",
   "name": "python3"
  },
  "language_info": {
   "codemirror_mode": {
    "name": "ipython",
    "version": 3
   },
   "file_extension": ".py",
   "mimetype": "text/x-python",
   "name": "python",
   "nbconvert_exporter": "python",
   "pygments_lexer": "ipython3",
   "version": "3.10.6"
  }
 },
 "nbformat": 4,
 "nbformat_minor": 5
}
