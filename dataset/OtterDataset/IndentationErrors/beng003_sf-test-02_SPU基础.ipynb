{
 "cells": [
  {
   "cell_type": "markdown",
   "id": "0b11e89f",
   "metadata": {},
   "source": [
    "# SPU基础\n",
    "\n",
    "> 以下代码仅作为示例，请勿在生产环境直接使用。\n",
    "\n",
    "SPU设备在SecretFlow中负责执行MPC计算。\n",
    "\n",
    "本教程将帮助你：\n",
    "\n",
    "- 熟悉SPU设备和SPU Object。\n",
    "- 学习如何在Python Object/PYU Object和SPU Object之间相互转化。\n",
    "- 利用SPU设备执行MPC计算。\n",
    "\n",
    "## 创建一个SPU设备\n",
    "\n",
    "### 创建SecretFlow Parties\n",
    "\n",
    "SecretFlow Parties是在SecretFlow的基本节点，我们将会创建4个party - **alice**, **bob**, **carol** 和 **dave**。\n",
    "\n",
    "基于这四个party，我们将会建立3个设备。\n",
    "\n",
    "- 一个基于 *alice* 的PYU设备\n",
    "- 一个基于 *dave* 的PYU设备\n",
    "- 一个基于 *alice* , *bob* 和 *carol* 的SPU设备\n",
    "\n",
    "\n",
    "\n",
    "![img](data:image/png;base64,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)"
   ]
  },
  {
   "cell_type": "code",
   "outputs": [
    {
     "name": "stdout",
     "output_type": "stream",
     "text": [
      "The version of SecretFlow: 1.4.0b0\n"
     ]
    },
    {
     "name": "stderr",
     "output_type": "stream",
     "text": [
      "2024-04-09 13:17:13,440\tINFO worker.py:1612 -- Started a local Ray instance. View the dashboard at \u001B[1m\u001B[32mhttp://127.0.0.1:8265 \u001B[39m\u001B[22m\n"
     ]
    }
   ],
   "source": [
    "import secretflow as sf\n",
    "# Check the version of your SecretFlow\n",
    "print('The version of SecretFlow: {}'.format(sf.__version__))\n",
    "# In case you have a running secretflow runtime already.\n",
    "sf.shutdown()\n",
    "sf.init(['alice', 'bob', 'carol', 'dave'], address='local')"
   ],
   "metadata": {
    "collapsed": false,
    "ExecuteTime": {
     "end_time": "2024-04-09T13:17:15.030462Z",
     "start_time": "2024-04-09T13:17:07.963210Z"
    }
   },
   "id": "9dff6371df19184a",
   "execution_count": 1
  },
  {
   "cell_type": "markdown",
   "source": [
    "### 创建一个基于三方ABY3协议的SPU设备\n",
    "\n",
    "之后，我们创建一个基于 [ABY3](https://eprint.iacr.org/2018/403.pdf) 协议的SPU设备。\n",
    "\n",
    "`sf.utils.testing.cluster_def` 是一个helper通过寻找未占用的端口来创建一个设置。"
   ],
   "metadata": {
    "collapsed": false
   },
   "id": "96eb7fec18bbba4a"
  },
  {
   "cell_type": "code",
   "outputs": [
    {
     "data": {
      "text/plain": "{'nodes': [{'party': 'alice', 'address': '127.0.0.1:36911'},\n  {'party': 'bob', 'address': '127.0.0.1:35457'},\n  {'party': 'carol', 'address': '127.0.0.1:38207'}],\n 'runtime_config': {'protocol': 3, 'field': 3}}"
     },
     "execution_count": 2,
     "metadata": {},
     "output_type": "execute_result"
    }
   ],
   "source": [
    "aby3_config = sf.utils.testing.cluster_def(parties=['alice', 'bob', 'carol'])\n",
    "aby3_config"
   ],
   "metadata": {
    "collapsed": false,
    "ExecuteTime": {
     "end_time": "2024-04-09T13:17:19.253763Z",
     "start_time": "2024-04-09T13:17:19.235360Z"
    }
   },
   "id": "2f5e9efc4225fa67",
   "execution_count": 2
  },
  {
   "cell_type": "markdown",
   "source": [
    "随后我们用 *aby3_config* 来创建一个SPU设备并检查其 cluster_def 。"
   ],
   "metadata": {
    "collapsed": false
   },
   "id": "3eca5e8f54c8cc98"
  },
  {
   "cell_type": "code",
   "outputs": [
    {
     "data": {
      "text/plain": "{'nodes': [{'party': 'alice', 'address': '127.0.0.1:36911'},\n  {'party': 'bob', 'address': '127.0.0.1:35457'},\n  {'party': 'carol', 'address': '127.0.0.1:38207'}],\n 'runtime_config': {'protocol': 3, 'field': 3}}"
     },
     "execution_count": 3,
     "metadata": {},
     "output_type": "execute_result"
    }
   ],
   "source": [
    "spu_device = sf.SPU(aby3_config)\n",
    "spu_device.cluster_def"
   ],
   "metadata": {
    "collapsed": false,
    "ExecuteTime": {
     "end_time": "2024-04-09T13:17:22.717483Z",
     "start_time": "2024-04-09T13:17:22.527789Z"
    }
   },
   "id": "30e126b7ffe18645",
   "execution_count": 3
  },
  {
   "cell_type": "markdown",
   "source": [
    "最后，我们创建两个PYU设备。"
   ],
   "metadata": {
    "collapsed": false
   },
   "id": "9f87c1b665f753fc"
  },
  {
   "cell_type": "code",
   "outputs": [],
   "source": [
    "alice, dave = sf.PYU('alice'), sf.PYU('dave')"
   ],
   "metadata": {
    "collapsed": false,
    "ExecuteTime": {
     "end_time": "2024-04-09T13:17:25.828823Z",
     "start_time": "2024-04-09T13:17:25.820551Z"
    }
   },
   "id": "59195d54962f5cc9",
   "execution_count": 4
  },
  {
   "cell_type": "markdown",
   "source": [
    "## 向SPU设备传值\n",
    "\n",
    "在讨论利用SPU设备计算之前，我们需要理解如何将一个 Python object / PYUObject 传给一个SPU设备。\n",
    "\n",
    "### SPUObject\n",
    "\n",
    "PYU Object可以转化到 SPU Object被SPU节点来共享秘密。\n",
    "\n",
    "**sf.device.SPUIO** 是执行该任务的辅助类。您不需要在代码中调用此方法。我们只是使用它来向你演示SPUObjects的结构和发生的一切。\n",
    "\n",
    "每一个SPUObject包含两个成员：\n",
    "\n",
    "- meta: 原始对象的结构。\n",
    "- shares: 原始对象的秘密分享。"
   ],
   "metadata": {
    "collapsed": false
   },
   "id": "d67db7d2c29edb3f"
  },
  {
   "cell_type": "code",
   "outputs": [
    {
     "name": "stderr",
     "output_type": "stream",
     "text": [
      "INFO:jax._src.xla_bridge:Unable to initialize backend 'cuda': module 'jaxlib.xla_extension' has no attribute 'GpuAllocatorConfig'\n",
      "INFO:jax._src.xla_bridge:Unable to initialize backend 'rocm': module 'jaxlib.xla_extension' has no attribute 'GpuAllocatorConfig'\n",
      "INFO:jax._src.xla_bridge:Unable to initialize backend 'tpu': INVALID_ARGUMENT: TpuPlatform is not available.\n",
      "INFO:jax._src.xla_bridge:Unable to initialize backend 'plugin': xla_extension has no attributes named get_plugin_device_client. Compile TensorFlow with //tensorflow/compiler/xla/python:enable_plugin_device set to true (defaults to false) to enable this.\n",
      "WARNING:jax._src.xla_bridge:No GPU/TPU found, falling back to CPU. (Set TF_CPP_MIN_LOG_LEVEL=0 and rerun for more info.)\n"
     ]
    }
   ],
   "source": [
    "spu_io = sf.device.SPUIO(spu_device.conf, spu_device.world_size)\n",
    "bank_account = [{'id': 12345, 'deposit': 1000.25}, {'id': 12345, 'deposit': 100000.25}]\n",
    "import spu\n",
    "meta, io_info, *shares = spu_io.make_shares(bank_account, spu.Visibility.VIS_SECRET)"
   ],
   "metadata": {
    "collapsed": false,
    "ExecuteTime": {
     "end_time": "2024-04-09T13:17:30.109189Z",
     "start_time": "2024-04-09T13:17:30.029154Z"
    }
   },
   "id": "ef3a8986765e6fa",
   "execution_count": 5
  },
  {
   "cell_type": "code",
   "outputs": [
    {
     "name": "stdout",
     "output_type": "stream",
     "text": [
      "(protocol: ABY3\n",
      "field: FM128\n",
      ", 3)\n",
      "[b'\\x08 \\x1a \\xf8\\xb8NV\\xf8\\x19\\xbck-\\x0f(\\xc3\\xda\\x0fX>e\\x1a\\x00c\\xa1\\x06\\x00v\\rss\\x8a\\x00(\\x7fw', b'\\x08 \\x1a \\xe6\\xb5\\xe9B\\xbd\\x12\\x87/\\xcf\\xc7>\\xd2\\x1b\\xe4?iwV\\xf6\\xd3\\xf6)$c\\x92Z\\xab?\\xab\\x04<\\x80', b'\\x08 \\x1a \\xe6_\\xc4-.\\xff\\x1dp\\x9c\\xd42\\xda\\x8eL\\xef_\\xf2oz\\x1a\\x1ay\\x7f\\xe7m\\xf4\\xff\\xae\\xeb1E\\x93', b'\\x08 \\x1a .\\x83\\xfdm\\xfc\\xd2\\x9bH\\xbf\\xc3\\xc6\\xfbt\\xe4\\xa4\\x9c\\xc3\\xc7\\xc3c\\x087{\\xca\\xba\\xc6?SY\\xc1\\xcd\\xa4', b'\\x08 \\x1a e\\x1a\\x00c\\xa1\\x06\\x00v\\rss\\x8a\\x00(\\x7fw\\xa3,\\xb1\\xe7u\\xdfC\\x1e\\xc5}d\\xb2$\\xc8(J', b'\\x08 \\x1a wV\\xf6\\xd3\\xf6)$c\\x92Z\\xab?\\xab\\x04<\\x80\\xdc# \\xe9K\\xc3Tm\\x9e\\xdd\\x15\\xee8\\x17\\x84\\x16', b'\\x08 \\x1a \\xf2oz\\x1a\\x1ay\\x7f\\xe7m\\xf4\\xff\\xae\\xeb1E\\x93(0\\xc18\\xd2\\x8db\\xa8\\xf56\\xcdv\\x85\\x81\\xcb\\x0c', b'\\x08 \\x1a \\xc3\\xc7\\xc3c\\x087{\\xca\\xba\\xc6?SY\\xc1\\xcd\\xa4H\\xe5>.\\xfb\\xf5\\xe8\\xec\\x85u\\xf9\\xb01Z\\x8d\\xbe', b'\\x08 \\x1a \\xa3,\\xb1\\xe7u\\xdfC\\x1e\\xc5}d\\xb2$\\xc8(J\\xf8\\xb8NV\\xf8\\x19\\xbck-\\x0f(\\xc3\\xda\\x0fX>', b'\\x08 \\x1a \\xdc# \\xe9K\\xc3Tm\\x9e\\xdd\\x15\\xee8\\x17\\x84\\x16\\xe6\\xb5\\xe9B\\xbd\\x12\\x87/\\xcf\\xc7>\\xd2\\x1b\\xe4?i', b'\\x08 \\x1a (0\\xc18\\xd2\\x8db\\xa8\\xf56\\xcdv\\x85\\x81\\xcb\\x0c\\xe6_\\xc4-.\\xff\\x1dp\\x9c\\xd42\\xda\\x8eL\\xef_', b'\\x08 \\x1a H\\xe5>.\\xfb\\xf5\\xe8\\xec\\x85u\\xf9\\xb01Z\\x8d\\xbe.\\x83\\xfdm\\xfc\\xd2\\x9bH\\xbf\\xc3\\xc6\\xfbt\\xe4\\xa4\\x9c']\n"
     ]
    }
   ],
   "source": [
    "print((spu_device.conf, spu_device.world_size))\n",
    "print(shares)"
   ],
   "metadata": {
    "collapsed": false,
    "ExecuteTime": {
     "end_time": "2024-04-09T13:17:42.383616Z",
     "start_time": "2024-04-09T13:17:42.373929Z"
    }
   },
   "id": "cf70bdda99d61888",
   "execution_count": 6
  },
  {
   "cell_type": "markdown",
   "source": [
    "我们首先查看meta。"
   ],
   "metadata": {
    "collapsed": false
   },
   "id": "48103d7c50280bec"
  },
  {
   "cell_type": "code",
   "outputs": [
    {
     "data": {
      "text/plain": "[{'deposit': SPUValueMeta(shape=(), dtype=dtype('float32'), vtype=1, protocol=3, field=3, fxp_fraction_bits=0),\n  'id': SPUValueMeta(shape=(), dtype=dtype('int32'), vtype=1, protocol=3, field=3, fxp_fraction_bits=0)},\n {'deposit': SPUValueMeta(shape=(), dtype=dtype('float32'), vtype=1, protocol=3, field=3, fxp_fraction_bits=0),\n  'id': SPUValueMeta(shape=(), dtype=dtype('int32'), vtype=1, protocol=3, field=3, fxp_fraction_bits=0)}]"
     },
     "execution_count": 7,
     "metadata": {},
     "output_type": "execute_result"
    }
   ],
   "source": [
    "meta\n"
   ],
   "metadata": {
    "collapsed": false,
    "ExecuteTime": {
     "end_time": "2024-04-09T13:17:45.295997Z",
     "start_time": "2024-04-09T13:17:45.284196Z"
    }
   },
   "id": "efc0c373a60ff343",
   "execution_count": 7
  },
  {
   "cell_type": "markdown",
   "source": [
    "我猜你已经发现meta保留了原始数据的结构，只是将数字和数列替换为 **SPUValueMeta** 。\n",
    "\n",
    "- data_type, 代表了值是整数还是定点数。\n",
    "- visibility，代表了值是密文还是明文。\n",
    "- storage_type，代表了值的属性，比如MPC协议（这里是ABY3），field size（我们这里是128位），等等。\n",
    "\n",
    "随后我们检查bank_account_spu的 *shares* 。 由于我们将数据传递至一个3PC的SPU设备。我们将会得到有3个分片，我们将会检查第1个分片。"
   ],
   "metadata": {
    "collapsed": false
   },
   "id": "f06954959449a073"
  },
  {
   "cell_type": "code",
   "outputs": [
    {
     "data": {
      "text/plain": "b'\\x08 \\x1a \\xf8\\xb8NV\\xf8\\x19\\xbck-\\x0f(\\xc3\\xda\\x0fX>e\\x1a\\x00c\\xa1\\x06\\x00v\\rss\\x8a\\x00(\\x7fw'"
     },
     "execution_count": 8,
     "metadata": {},
     "output_type": "execute_result"
    }
   ],
   "source": [
    "assert len(shares) == 12\n",
    "shares[0]"
   ],
   "metadata": {
    "collapsed": false,
    "ExecuteTime": {
     "end_time": "2024-04-09T13:17:47.447835Z",
     "start_time": "2024-04-09T13:17:47.435929Z"
    }
   },
   "id": "6f2fc2bd8f295870",
   "execution_count": 8
  },
  {
   "cell_type": "markdown",
   "source": [
    "你应该发现一个SPU Object的分片非常类似于meta和原始数据。它仍保留原始数据的结构，但数字被编码的密文替换了（如果你想，可以试着猜测原始数据）。\n",
    "\n",
    "好的，让我们从SPU对象重构原始的Python对象。"
   ],
   "metadata": {
    "collapsed": false
   },
   "id": "aff160f9ef424e8d"
  },
  {
   "cell_type": "code",
   "outputs": [
    {
     "data": {
      "text/plain": "[{'deposit': array(1000.25, dtype=float32), 'id': array(12345, dtype=int32)},\n {'deposit': array(100000.25, dtype=float32), 'id': array(12345, dtype=int32)}]"
     },
     "execution_count": 9,
     "metadata": {},
     "output_type": "execute_result"
    }
   ],
   "source": [
    "bank_account_hat = spu_io.reconstruct(shares, io_info, meta)\n",
    "\n",
    "bank_account_hat\n"
   ],
   "metadata": {
    "collapsed": false,
    "ExecuteTime": {
     "end_time": "2024-04-09T13:17:55.216996Z",
     "start_time": "2024-04-09T13:17:55.197748Z"
    }
   },
   "id": "c79a0d3a75a3253a",
   "execution_count": 9
  },
  {
   "cell_type": "markdown",
   "source": [
    "如果你将 **bank_account_hat** 和原始的 **bank_account** 进行比较，你应该会发现 **bank_account_hat** 中的所有数字都已经变成了 **numpy.array** ，但值被保留了。\n",
    "\n",
    "### 将一个PYU Object从PYU传给SPU\n",
    "\n",
    "首先，我们用一个PYU设备创建一个PYU object。"
   ],
   "metadata": {
    "collapsed": false
   },
   "id": "e9c343b81c8d2250"
  },
  {
   "cell_type": "code",
   "outputs": [
    {
     "ename": "IndentationError",
     "evalue": "expected an indented block (139728524.py, line 3)",
     "output_type": "error",
     "traceback": [
      "\u001B[0;36m  Cell \u001B[0;32mIn[10], line 3\u001B[0;36m\u001B[0m\n\u001B[0;31m    debit_amount_pyu = alice(debit_amount)()debit_amount_pyu\u001B[0m\n\u001B[0m    ^\u001B[0m\n\u001B[0;31mIndentationError\u001B[0m\u001B[0;31m:\u001B[0m expected an indented block\n"
     ]
    }
   ],
   "source": [
    "def debit_amount(): \n",
    "    return 1\n",
    "debit_amount_pyu = alice(debit_amount)()\n",
    "debit_amount_pyu"
   ],
   "metadata": {
    "collapsed": false,
    "ExecuteTime": {
     "end_time": "2024-04-09T13:18:05.959028Z",
     "start_time": "2024-04-09T13:18:05.949229Z"
    }
   },
   "id": "ce8b94026957fbce",
   "execution_count": 10
  },
  {
   "cell_type": "markdown",
   "source": [
    "然后让我们将从PYU传递debit_amount_pyu到SPU。我们将得到一个SPU对象作为结果。在幕后， **alice** 调用 **sf.device.SPUIO.make_shares** 来获取 **meta** 和 **shares** ，以备将它们发送给SPU设备的节点。"
   ],
   "metadata": {
    "collapsed": false
   },
   "id": "4a5ce61101946cad"
  },
  {
   "cell_type": "code",
   "outputs": [],
   "source": [
    "debit_amount_spu = debit_amount_pyu.to(spu_device)\n",
    "debit_amount_spu"
   ],
   "metadata": {
    "collapsed": false
   },
   "id": "d9f066e8f70d6322",
   "execution_count": null
  },
  {
   "cell_type": "markdown",
   "source": [
    "我们检查一下debit_amount_spu的meta。"
   ],
   "metadata": {
    "collapsed": false
   },
   "id": "283f11b0eaddf776"
  },
  {
   "cell_type": "code",
   "outputs": [],
   "source": "debit_amount_spu.meta",
   "metadata": {
    "collapsed": false
   },
   "id": "ee54778fffc18786",
   "execution_count": null
  },
  {
   "cell_type": "markdown",
   "source": [
    "不，它是一个在alice一边的Ray ObjectRef。debit_amount_spu的shares是怎样的呢？"
   ],
   "metadata": {
    "collapsed": false
   },
   "id": "b07feb5dd36545f6"
  },
  {
   "cell_type": "code",
   "outputs": [],
   "source": [
    "debit_amount_spu.shares_name\n",
    "Out [12]:\n",
    "[ObjectRef(f4402ec78d3a260750696baee0bc0bb42b40620a0100000001000000),\n",
    " ObjectRef(f91b78d7db9a65936b44b364879d9518bec82ea10100000001000000),\n",
    " ObjectRef(82891771158d68c155ebf101d0aa7682c810dad40100000001000000)]"
   ],
   "metadata": {
    "collapsed": false
   },
   "id": "ed383bba2df7fe84",
   "execution_count": null
  },
  {
   "cell_type": "markdown",
   "source": [
    "你会得到一个ObjectRef列表。因为它在alice这一侧，我们无法在host检查它的值。\n",
    "\n",
    "如果你非常好奇，我们可以用 **sf.reveal** 检查原始值。在生产环境中，请谨慎使用 **sf.reveal** ！当在 **SPUObjects** 上应用 **sf.reveal** 时，**sf.device.SPUIO.reconstruct** 将会被自动调用。"
   ],
   "metadata": {
    "collapsed": false
   },
   "id": "723bc7abe4c25fc8"
  },
  {
   "cell_type": "code",
   "outputs": [],
   "source": [
    "sf.reveal(debit_amount_spu)\n",
    "Out [13]:\n",
    "array(10, dtype=int32)"
   ],
   "metadata": {
    "collapsed": false
   },
   "id": "987e16bb26175b8f",
   "execution_count": null
  },
  {
   "cell_type": "markdown",
   "source": [
    "### 将一个Python Object从Host传到SPU\n",
    "\n",
    "让我们将一个字典从HOST传给SPU设备。\n",
    "\n",
    "> 注：我知道这看起来很奇怪。目前，如果你想把一个Python对象传递给SPU设备，你必须先将它传递给一个PYU。"
   ],
   "metadata": {
    "collapsed": false
   },
   "id": "e353ad0e46bfb339"
  },
  {
   "cell_type": "code",
   "outputs": [],
   "source": [
    "bank_account_spu = sf.to(alice, bank_account).to(spu_device)"
   ],
   "metadata": {
    "collapsed": false
   },
   "id": "516eefc02570380a",
   "execution_count": null
  },
  {
   "cell_type": "markdown",
   "source": [
    "### 总结\n",
    "\n",
    "这是使用 SPU 设备的数据流的第一部分，此时，您应该了解以下事实。\n",
    "\n",
    "- Python Object/PYU Object可以转化到 SPU Object。\n",
    "- 一个SPU Object 包含了meta 和 shares。\n",
    "- **sf.to** 和 **sf.reveal** 调用 **sf.device.SPUIO** 来在SPU对象和Python对象之间转换数据。\n",
    "- 仅仅转化为SPU Object不会触发从PYU至SPU的数据流动，比如当你将一个PYU Object转化为SPU Object时。SPU object所有内容包括meta和shares仍然位于PYU设备。shares只会在计算发生的时候将会被发送到SPU设备的各方。简单的来说，数据流动是lazy的。\n",
    "\n",
    "## 使用 SPU 设备进行计算\n",
    "\n",
    "因为我们有两个 SPU Object - *bank_account_spu* 和 *debit_amount_spu* 作为输入。 让我们尝试使用 SPU 设备进行一些计算。"
   ],
   "metadata": {
    "collapsed": false
   },
   "id": "db71da1c47997ac9"
  },
  {
   "cell_type": "code",
   "outputs": [],
   "source": [
    "def deduce_from_account(bank_account, amount):    new_bank_account = []\n",
    "    for account in bank_account:        account['deposit'] = account['deposit'] - amount        new_bank_account.append(account)\n",
    "    return new_bank_account\n",
    "\n",
    "new_bank_account_spu = spu_device(deduce_from_account)(    bank_account_spu, debit_amount_spu)\n",
    "new_bank_account_spu\n",
    "Out [15]:\n",
    "<secretflow.device.device.spu.SPUObject at 0x7fd98cca88b0>"
   ],
   "metadata": {
    "collapsed": false
   },
   "id": "b21aa3a74b535dea",
   "execution_count": null
  },
  {
   "cell_type": "markdown",
   "source": [
    "*new_bank_account_spu* 也是一个 **SPU Object** 。 但它与 *debit_amount_spu* 有点不同！\n",
    "\n",
    "- *debit_amount_spu* 位于 alice，因此只有 alice 可以检查值。\n",
    "- *new_bank_account_spu* 位于spu，spu的每一方都有一份shares。 如果没有 *sf.reveal* ，您将无法直接检查该值。\n",
    "\n",
    "好吧，但是 SPU 设备的计算背后发生了什么？\n",
    "\n",
    "### 步骤1：将Python（Jax）代码编译为SPU可执行文件\n",
    "\n",
    "Python 函数（在我们的例子中是 *deduce_from_account*）和所有输入的元数据（*bank_account_spu* 和 *debit_amount_spu*）将被发送到 SPU 设备。然后使用 SPU 编译器将它们编译为 *SPU Executable*。\n",
    "\n",
    "\n",
    "\n",
    "![img](data:image/png;base64,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)\n",
    "\n",
    "\n",
    "\n",
    "### 步骤2：将SPU可执行文件和秘密分享分配给SPU参与方。\n",
    "\n",
    "SPU 设备的每一方将获得：\n",
    "\n",
    "- 一份 SPU Executable\n",
    "- 每个 SPU object一份share\n",
    "\n",
    "\n",
    "\n",
    "![img](data:image/png;base64,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)\n",
    "\n",
    "\n",
    "\n",
    "### 步骤3：运行SPU可执行文件并组装SPU对象\n",
    "\n",
    "然后 SPU 设备的每一方将执行 SPU Executation。\n",
    "\n",
    "最后，SPU 设备的每一方都将拥有一个输出 SPU Object的一份share和一个meta。\n",
    "\n",
    "然后 SecretFlow 框架将使用它们来组装 SPU Object。\n",
    "\n",
    "## 从 SPU 设备中获取值\n",
    "\n",
    "但最后，我们需要从 spu 中获取值，我们不能总是将 *SPUObject* 当作密文！\n",
    "\n",
    "处理 *SPUObject* 的最常见方法是将秘密传递给一方。 该方不一定是由 SPU 设备组成的各方之一。"
   ],
   "metadata": {
    "collapsed": false
   },
   "id": "da296653dc8e0a68"
  },
  {
   "cell_type": "code",
   "outputs": [],
   "source": [
    "new_bank_account_pyu = new_bank_account_spu.to(dave)\n",
    "new_bank_account_pyu\n",
    "Out [16]:\n",
    "<secretflow.device.device.pyu.PYUObject at 0x7fd98cd754f0>"
   ],
   "metadata": {
    "collapsed": false
   },
   "id": "ba896eec59f45cc9",
   "execution_count": null
  },
  {
   "cell_type": "markdown",
   "source": [
    "我们只是将 *new_bankaccountspu* 传递给 **pyu** ，然后它就变成了 *PYUObject* ！ 它归dave所有。 让我们检查 *new_bank_account_pyu* 的值。"
   ],
   "metadata": {
    "collapsed": false
   },
   "id": "13ab423d708fb475"
  },
  {
   "cell_type": "code",
   "outputs": [],
   "source": [
    "sf.reveal(new_bank_account_pyu)\n",
    "Out [17]:\n",
    "[{'deposit': array(990.25, dtype=float32), 'id': array(12345, dtype=int32)},\n",
    " {'deposit': array(99990.25, dtype=float32), 'id': array(12345, dtype=int32)}]"
   ],
   "metadata": {
    "collapsed": false
   },
   "id": "fa9c3fe66cf674c6",
   "execution_count": null
  },
  {
   "cell_type": "markdown",
   "source": [
    "我们也可以直接将 *SPUObject* 传递给host。 利用神奇的 *sf.reveal* 。 再次提醒在生产环境中要小心使用 *sf.reveal* ！"
   ],
   "metadata": {
    "collapsed": false
   },
   "id": "35b13b873accbd13"
  },
  {
   "cell_type": "code",
   "outputs": [],
   "source": [
    "sf.reveal(new_bank_account_spu)\n",
    "Out [18]:\n",
    "[{'deposit': array(990.25, dtype=float32), 'id': array(12345, dtype=int32)},\n",
    " {'deposit': array(99990.25, dtype=float32), 'id': array(12345, dtype=int32)}]"
   ],
   "metadata": {
    "collapsed": false
   },
   "id": "52c2c279f6d04841",
   "execution_count": null
  },
  {
   "cell_type": "markdown",
   "source": [
    "## 进阶主题：使用不同的 MPC 协议\n",
    "\n",
    "目前SPU设备支持ABY3之外的多种MPC协议。 使用不同的 MPC 协议很容易 - 只需在 cluster def 中设置适当的字段。\n",
    "\n",
    "例如，如果有人想使用 2PC 协议 - Cheetah，你应该准备另一个集群 def："
   ],
   "metadata": {
    "collapsed": false
   },
   "id": "c59fdaa49346fdda"
  },
  {
   "cell_type": "code",
   "outputs": [],
   "source": [
    "import spu\n",
    "import secretflow as sf\n",
    "# In case you have a running secretflow runtime already.sf.shutdown()\n",
    "sf.init(['alice', 'bob', 'carol', 'dave'], address='local')\n",
    "cheetah_config = sf.utils.testing.cluster_def(    parties=['alice', 'bob'],    runtime_config={        'protocol': spu.spu_pb2.CHEETAH,        'field': spu.spu_pb2.FM64,    },)"
   ],
   "metadata": {
    "collapsed": false
   },
   "id": "bb778d4fe37abb26",
   "execution_count": null
  },
  {
   "cell_type": "markdown",
   "source": [
    "然后你可以用 *cheetah_config* 创建一个 SPU 设备。"
   ],
   "metadata": {
    "collapsed": false
   },
   "id": "6576ecbf9c773b76"
  },
  {
   "cell_type": "code",
   "outputs": [],
   "source": [
    "spu_device2 = sf.SPU(cheetah_config)"
   ],
   "metadata": {
    "collapsed": false
   },
   "id": "ee71222a3c818167",
   "execution_count": null
  },
  {
   "cell_type": "markdown",
   "source": [
    "让我们检查一下 spu_device2 的 *cluster_def*。"
   ],
   "metadata": {
    "collapsed": false
   },
   "id": "1e22b062e833e76b"
  },
  {
   "cell_type": "code",
   "outputs": [],
   "source": [
    "spu_device2.cluster_def\n",
    "Out [21]:\n",
    "{'nodes': [{'party': 'alice', 'address': '127.0.0.1:64555'},\n",
    "  {'party': 'bob', 'address': '127.0.0.1:30243'}],\n",
    " 'runtime_config': {'protocol': 4, 'field': 2}}"
   ],
   "metadata": {
    "collapsed": false
   },
   "id": "3a4057fe6f8ef02f",
   "execution_count": null
  },
  {
   "cell_type": "markdown",
   "source": [
    "我们可以使用 *spu_device2* 来检查著名的姚氏百万富翁问题。"
   ],
   "metadata": {
    "collapsed": false
   },
   "id": "1beb0fd93ac1fadf"
  },
  {
   "cell_type": "code",
   "outputs": [],
   "source": [
    "def get_carol_assets():    return 1000000\n",
    "\n",
    "def get_dave_assets():    return 1000002\n",
    "\n",
    "carol, dave = sf.PYU('carol'), sf.PYU('dave')\n",
    "carol_assets = carol(get_carol_assets)()dave_assets = dave(get_dave_assets)()"
   ],
   "metadata": {
    "collapsed": false
   },
   "id": "fc37a101b1ae90c8",
   "execution_count": null
  },
  {
   "cell_type": "markdown",
   "source": [
    "我们使用 *spu_device2* 来检查 *carol* 是否更富有。"
   ],
   "metadata": {
    "collapsed": false
   },
   "id": "ca87ebae5ea9f30"
  },
  {
   "cell_type": "code",
   "outputs": [],
   "source": [
    "def get_winner(carol, dave):    return carol > dave\n",
    "\n",
    "winner = spu_device2(get_winner)(carol_assets, dave_assets)\n",
    "sf.reveal(winner)\n",
    "Out [23]:\n",
    "array(False)"
   ],
   "metadata": {
    "collapsed": false
   },
   "id": "e0cb89ff77b27f4a",
   "execution_count": null
  },
  {
   "cell_type": "markdown",
   "source": [
    "## 进阶主题：从SPU 计算得到多个返回值\n",
    "\n",
    "在大多数情况下，我们从 SPU 设备执行的函数中获得多个返回值。\n",
    "\n",
    "例如，"
   ],
   "metadata": {
    "collapsed": false
   },
   "id": "486f342097559d31"
  },
  {
   "cell_type": "code",
   "outputs": [],
   "source": [
    "def get_multiple_outputs(x, y):\n",
    "\n",
    "    return x + y, x - y"
   ],
   "metadata": {
    "collapsed": false
   },
   "id": "5e42dd1c2957559a",
   "execution_count": null
  },
  {
   "cell_type": "markdown",
   "source": [
    "有多种选择可以处理这个问题。\n",
    "\n",
    "### 选项 1：将所有返回值视为单一返回值\n",
    "\n",
    "这是 SPU 的默认行为。 让我们来看看。"
   ],
   "metadata": {
    "collapsed": false
   },
   "id": "f8576e69cf2fab8b"
  },
  {
   "cell_type": "code",
   "outputs": [],
   "source": [
    "single_output = spu_device2(get_multiple_outputs)(carol_assets, dave_assets)\n",
    "single_output\n",
    "Out [25]:\n",
    "<secretflow.device.device.spu.SPUObject at 0x7fd98cd754c0>"
   ],
   "metadata": {
    "collapsed": false
   },
   "id": "3bad0277af3556f",
   "execution_count": null
  },
  {
   "cell_type": "markdown",
   "source": [
    "我们可以看到我们只得到一个*SPUObject*。 让我们揭示它。"
   ],
   "metadata": {
    "collapsed": false
   },
   "id": "ffaaf83e2fd0a188"
  },
  {
   "cell_type": "code",
   "outputs": [],
   "source": [
    "sf.reveal(single_output)\n",
    "Out [26]:\n",
    "(array(2000002, dtype=int32), array(-2, dtype=int32))"
   ],
   "metadata": {
    "collapsed": false
   },
   "id": "4382ed58b789016e",
   "execution_count": null
  },
  {
   "cell_type": "markdown",
   "source": [
    "所以 single_output 本身实际上代表一个元组。\n",
    "\n",
    "### 选项 2：即时决定返回值数量\n",
    "\n",
    "我们还可以指示 SPU 为我们决定返回值数量。"
   ],
   "metadata": {
    "collapsed": false
   },
   "id": "e5a4f2e3d8527256"
  },
  {
   "cell_type": "code",
   "outputs": [],
   "source": [
    "from secretflow.device.device.spu import SPUCompilerNumReturnsPolicy\n",
    "multiple_outputs = spu_device2(    get_multiple_outputs, num_returns_policy=SPUCompilerNumReturnsPolicy.FROM_COMPILER)(carol_assets, dave_assets)\n",
    "multiple_outputs\n",
    "Out [27]:\n",
    "(<secretflow.device.device.spu.SPUObject at 0x7fd98cce0400>,\n",
    " <secretflow.device.device.spu.SPUObject at 0x7fd98cce0490>)"
   ],
   "metadata": {
    "collapsed": false
   },
   "id": "7d79468c753d007b",
   "execution_count": null
  },
  {
   "cell_type": "markdown",
   "source": [
    "让我们分别检查两个输出。"
   ],
   "metadata": {
    "collapsed": false
   },
   "id": "4503ebd0775dc9a7"
  },
  {
   "cell_type": "code",
   "outputs": [],
   "source": [
    "print(sf.reveal(multiple_outputs[0]))\n",
    "\n",
    "print(sf.reveal(multiple_outputs[1]))\n",
    "Out\n",
    "2000002\n",
    "-2"
   ],
   "metadata": {
    "collapsed": false
   },
   "id": "5ce89f97c2afa0f7",
   "execution_count": null
  },
  {
   "cell_type": "markdown",
   "source": [
    "### 选项 3：手动确定返回值数量\n",
    "\n",
    "如果可能，您还可以手动设置返回值数量。"
   ],
   "metadata": {
    "collapsed": false
   },
   "id": "2b9c82c65cc09e5f"
  },
  {
   "cell_type": "code",
   "outputs": [],
   "source": [
    "user_multiple_outputs = spu_device2(    get_multiple_outputs,    num_returns_policy=SPUCompilerNumReturnsPolicy.FROM_USER,    user_specified_num_returns=2,)(carol_assets, dave_assets)\n",
    "user_multiple_outputs\n",
    "Out [29]:\n",
    "[<secretflow.device.device.spu.SPUObject at 0x7fd98cce0a60>,\n",
    " <secretflow.device.device.spu.SPUObject at 0x7fd98cce0af0>]"
   ],
   "metadata": {
    "collapsed": false
   },
   "id": "9c623712f008d570",
   "execution_count": null
  },
  {
   "cell_type": "markdown",
   "source": [
    "让我们分别检查两个输出。"
   ],
   "metadata": {
    "collapsed": false
   },
   "id": "bfeed9f4e514db5"
  },
  {
   "cell_type": "code",
   "outputs": [],
   "source": [
    "print(sf.reveal(multiple_outputs[0]))\n",
    "\n",
    "print(sf.reveal(multiple_outputs[1]))\n",
    "Out\n",
    "2000002\n",
    "-2"
   ],
   "metadata": {
    "collapsed": false
   },
   "id": "ea103f1f845e3b",
   "execution_count": null
  },
  {
   "cell_type": "markdown",
   "id": "bf3feb50",
   "metadata": {},
   "source": [
    "让我们总结一下我们所拥有的结论：\n",
    "\n",
    "- 默认情况下，SPU 将所有返回值视为单个返回值。\n",
    "- 由于 SPU 编译器生成 SPU 可执行文件，它可以计算出返回值数量。 但是，这个选项会导致一些延迟，因为我们必须使编译工作阻塞。\n",
    "- 如果您想避免延迟，我们可以手动提供返回值数量。 但是你必须确保你提供了正确的数字，否则程序会报错！"
   ]
  }
 ],
 "metadata": {
  "kernelspec": {
   "name": "python3",
   "language": "python",
   "display_name": "Python 3 (ipykernel)"
  }
 },
 "nbformat": 4,
 "nbformat_minor": 5
}
