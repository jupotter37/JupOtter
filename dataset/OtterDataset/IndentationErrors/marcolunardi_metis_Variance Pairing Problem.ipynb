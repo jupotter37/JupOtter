{
 "cells": [
  {
   "cell_type": "code",
   "execution_count": 6,
   "metadata": {
    "collapsed": false
   },
   "outputs": [
    {
     "ename": "IndentationError",
     "evalue": "unindent does not match any outer indentation level (<ipython-input-6-84f138f7b702>, line 16)",
     "output_type": "error",
     "traceback": [
      "\u001b[0;36m  File \u001b[0;32m\"<ipython-input-6-84f138f7b702>\"\u001b[0;36m, line \u001b[0;32m16\u001b[0m\n\u001b[0;31m    sumn = 0\u001b[0m\n\u001b[0m            ^\u001b[0m\n\u001b[0;31mIndentationError\u001b[0m\u001b[0;31m:\u001b[0m unindent does not match any outer indentation level\n"
     ]
    }
   ],
   "source": [
    "import numpy as np\n",
    "numbers = [2, 5, 9, 14, 6]\n",
    "def variance(nums):\n",
    "    meann = sum(nums)/len(nums)\n",
    "    sumn = 0\n",
    "    for n in nums:\n",
    "        sumn += (n - meann)**2\n",
    "    \n",
    "    varn = float(sumn)/len(nums)\n",
    "    answer = np.var(nums)\n",
    "    return varn,answer\n",
    "\n",
    "numbers2 = [4, 6, 11, 24, 1]\n",
    "def covariance(nums, nums2):\n",
    "     meann = sum(nums)/len(nums)\n",
    "    sumn = 0\n",
    "    numarray = np.array\n",
    "    answer = n\n",
    "\n",
    "variance(numbers)"
   ]
  },
  {
   "cell_type": "code",
   "execution_count": null,
   "metadata": {
    "collapsed": true
   },
   "outputs": [],
   "source": [
    "import numpy as np\n",
    "\n",
    "x = np.array([1,4,3,5,5,8])\n",
    "y = np.array([2, 3, 8, 10, 7, 9])\n",
    "\n",
    "\n",
    "\n",
    "\n",
    "def myvar(x):\n",
    "    mu = x.mean()\n",
    "    return sum((mu-x)**2)/(len(x)-1)\n",
    "\n",
    "\n",
    "\n",
    "def mycovar(x,y):\n",
    "    mu_x = x.mean()\n",
    "    mu_y = y.mean()\n",
    "\n",
    "    return sum( (mu_x-x)*(mu_y-y) )/(len(x)-1)"
   ]
  }
 ],
 "metadata": {
  "kernelspec": {
   "display_name": "Python 2",
   "language": "python",
   "name": "python2"
  },
  "language_info": {
   "codemirror_mode": {
    "name": "ipython",
    "version": 2
   },
   "file_extension": ".py",
   "mimetype": "text/x-python",
   "name": "python",
   "nbconvert_exporter": "python",
   "pygments_lexer": "ipython2",
   "version": "2.7.9"
  }
 },
 "nbformat": 4,
 "nbformat_minor": 0
}
