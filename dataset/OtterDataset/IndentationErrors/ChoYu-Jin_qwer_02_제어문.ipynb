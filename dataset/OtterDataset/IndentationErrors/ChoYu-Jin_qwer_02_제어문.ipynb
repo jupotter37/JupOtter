{
 "cells": [
  {
   "cell_type": "markdown",
   "metadata": {},
   "source": [
    "### 들여쓰기"
   ]
  },
  {
   "cell_type": "code",
   "execution_count": 3,
   "metadata": {},
   "outputs": [
    {
     "ename": "IndentationError",
     "evalue": "unexpected indent (<ipython-input-3-4fb314b10b54>, line 9)",
     "output_type": "error",
     "traceback": [
      "\u001b[1;36m  File \u001b[1;32m\"<ipython-input-3-4fb314b10b54>\"\u001b[1;36m, line \u001b[1;32m9\u001b[0m\n\u001b[1;33m    print('안녕하세요')\u001b[0m\n\u001b[1;37m    ^\u001b[0m\n\u001b[1;31mIndentationError\u001b[0m\u001b[1;31m:\u001b[0m unexpected indent\n"
     ]
    }
   ],
   "source": [
    "# for, if, while, 함수, 클래스 with 문등 코드를 관리하는 요소들은\n",
    "# 자기가 관리하는 코드를 들여쓰기로 구분한다.\n",
    "# 코드를 관리하는 요소가 아닐 경우 들여쓰기를 잘못하면 오류가 발생\n",
    "# 한다.\n",
    "\n",
    "# print 문은 코드를 관리하는 요소가 아니므로 다음의 코드를 들여쓰기\n",
    "# 하면 오류가 발생한다.\n",
    "print('안녕하세요')\n",
    " print('안녕하세요')"
   ]
  },
  {
   "cell_type": "markdown",
   "metadata": {},
   "source": [
    "### if 문"
   ]
  },
  {
   "cell_type": "code",
   "execution_count": 5,
   "metadata": {},
   "outputs": [
    {
     "name": "stdout",
     "output_type": "stream",
     "text": [
      "a1은 30보다 작습니다\n"
     ]
    }
   ],
   "source": [
    "a1 = 10\n",
    "\n",
    "if a1 > 30 :\n",
    "    print('a1은 30보다 큽니다')\n",
    "    \n",
    "if a1 < 30 :\n",
    "    print('a1은 30보다 작습니다')"
   ]
  },
  {
   "cell_type": "code",
   "execution_count": 6,
   "metadata": {},
   "outputs": [
    {
     "name": "stdout",
     "output_type": "stream",
     "text": [
      "a1은 30보다 크지 않습니다.\n"
     ]
    }
   ],
   "source": [
    "a1 = 10\n",
    "\n",
    "if a1 > 30 :\n",
    "    print('a1은 30보다 큽니다')\n",
    "else :\n",
    "    print('a1은 30보다 크지 않습니다.')"
   ]
  },
  {
   "cell_type": "code",
   "execution_count": 7,
   "metadata": {},
   "outputs": [
    {
     "name": "stdout",
     "output_type": "stream",
     "text": [
      "a1은 10입니다\n"
     ]
    }
   ],
   "source": [
    "a1 = 10\n",
    "\n",
    "if a1 == 3 :\n",
    "    print('a1은 3입니다')\n",
    "elif a1 == 5 :\n",
    "    print('a1은 5입니다')\n",
    "elif a1 == 10 :\n",
    "    print('a1은 10입니다')\n",
    "else :\n",
    "    print('a1은 3, 5, 10이 아닙니다')"
   ]
  },
  {
   "cell_type": "markdown",
   "metadata": {},
   "source": [
    "### while 문\n",
    "- 조건을 만족하는 동안 반복하는 구문"
   ]
  },
  {
   "cell_type": "code",
   "execution_count": 8,
   "metadata": {},
   "outputs": [
    {
     "name": "stdout",
     "output_type": "stream",
     "text": [
      "0\n",
      "1\n",
      "2\n",
      "3\n",
      "4\n",
      "5\n",
      "6\n",
      "7\n",
      "8\n",
      "9\n"
     ]
    }
   ],
   "source": [
    "a1 = 0\n",
    "\n",
    "while a1 < 10 :\n",
    "    print(a1)\n",
    "    a1 = a1 + 1"
   ]
  },
  {
   "cell_type": "code",
   "execution_count": null,
   "metadata": {},
   "outputs": [],
   "source": []
  },
  {
   "cell_type": "code",
   "execution_count": null,
   "metadata": {},
   "outputs": [],
   "source": []
  }
 ],
 "metadata": {
  "kernelspec": {
   "display_name": "Python 3 (ipykernel)",
   "language": "python",
   "name": "python3"
  },
  "language_info": {
   "codemirror_mode": {
    "name": "ipython",
    "version": 3
   },
   "file_extension": ".py",
   "mimetype": "text/x-python",
   "name": "python",
   "nbconvert_exporter": "python",
   "pygments_lexer": "ipython3",
   "version": "3.11.4"
  },
  "varInspector": {
   "cols": {
    "lenName": 16,
    "lenType": 16,
    "lenVar": 40
   },
   "kernels_config": {
    "python": {
     "delete_cmd_postfix": "",
     "delete_cmd_prefix": "del ",
     "library": "var_list.py",
     "varRefreshCmd": "print(var_dic_list())"
    },
    "r": {
     "delete_cmd_postfix": ") ",
     "delete_cmd_prefix": "rm(",
     "library": "var_list.r",
     "varRefreshCmd": "cat(var_dic_list()) "
    }
   },
   "types_to_exclude": [
    "module",
    "function",
    "builtin_function_or_method",
    "instance",
    "_Feature"
   ],
   "window_display": true
  }
 },
 "nbformat": 4,
 "nbformat_minor": 4
}
