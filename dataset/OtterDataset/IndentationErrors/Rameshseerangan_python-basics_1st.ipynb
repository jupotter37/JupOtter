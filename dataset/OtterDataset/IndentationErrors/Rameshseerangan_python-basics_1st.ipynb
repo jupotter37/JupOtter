{
 "cells": [
  {
   "cell_type": "code",
   "execution_count": 1,
   "id": "779aad1d",
   "metadata": {},
   "outputs": [
    {
     "name": "stdout",
     "output_type": "stream",
     "text": [
      "hello world\n"
     ]
    }
   ],
   "source": [
    "print(\"hello world\")"
   ]
  },
  {
   "cell_type": "code",
   "execution_count": 6,
   "id": "17625275",
   "metadata": {},
   "outputs": [
    {
     "name": "stdout",
     "output_type": "stream",
     "text": [
      "*\n",
      "**\n"
     ]
    }
   ],
   "source": [
    "print(\"*\")\n",
    "print(\"**\")"
   ]
  },
  {
   "cell_type": "code",
   "execution_count": 8,
   "id": "21be47ce",
   "metadata": {},
   "outputs": [],
   "source": [
    "ename = \"ram\"\n",
    "esalary=123212.12\n",
    "eage =23\n"
   ]
  },
  {
   "cell_type": "code",
   "execution_count": 9,
   "id": "2026e985",
   "metadata": {},
   "outputs": [
    {
     "name": "stdout",
     "output_type": "stream",
     "text": [
      "ram\n"
     ]
    }
   ],
   "source": [
    "print(ename)"
   ]
  },
  {
   "cell_type": "code",
   "execution_count": 10,
   "id": "bb92a6a6",
   "metadata": {},
   "outputs": [
    {
     "name": "stdout",
     "output_type": "stream",
     "text": [
      "123212.12\n"
     ]
    }
   ],
   "source": [
    "print(esalary)"
   ]
  },
  {
   "cell_type": "code",
   "execution_count": 11,
   "id": "ae8e68dd",
   "metadata": {},
   "outputs": [
    {
     "name": "stdout",
     "output_type": "stream",
     "text": [
      "23\n"
     ]
    }
   ],
   "source": [
    "print(eage)"
   ]
  },
  {
   "cell_type": "code",
   "execution_count": 12,
   "id": "2817850e",
   "metadata": {},
   "outputs": [
    {
     "data": {
      "text/plain": [
       "str"
      ]
     },
     "execution_count": 12,
     "metadata": {},
     "output_type": "execute_result"
    }
   ],
   "source": [
    "type(ename)"
   ]
  },
  {
   "cell_type": "code",
   "execution_count": 1,
   "id": "3f03b68f",
   "metadata": {},
   "outputs": [
    {
     "ename": "NameError",
     "evalue": "name 'esalary' is not defined",
     "output_type": "error",
     "traceback": [
      "\u001b[1;31m---------------------------------------------------------------------------\u001b[0m",
      "\u001b[1;31mNameError\u001b[0m                                 Traceback (most recent call last)",
      "Input \u001b[1;32mIn [1]\u001b[0m, in \u001b[0;36m<cell line: 1>\u001b[1;34m()\u001b[0m\n\u001b[1;32m----> 1\u001b[0m \u001b[38;5;28mtype\u001b[39m(\u001b[43mesalary\u001b[49m)\n",
      "\u001b[1;31mNameError\u001b[0m: name 'esalary' is not defined"
     ]
    }
   ],
   "source": [
    "type(esalary)"
   ]
  },
  {
   "cell_type": "code",
   "execution_count": 14,
   "id": "486e432e",
   "metadata": {},
   "outputs": [
    {
     "data": {
      "text/plain": [
       "int"
      ]
     },
     "execution_count": 14,
     "metadata": {},
     "output_type": "execute_result"
    }
   ],
   "source": [
    "type(eage)"
   ]
  },
  {
   "cell_type": "code",
   "execution_count": 15,
   "id": "27b3dc8d",
   "metadata": {},
   "outputs": [],
   "source": [
    "choice = True"
   ]
  },
  {
   "cell_type": "code",
   "execution_count": 16,
   "id": "42c266a2",
   "metadata": {},
   "outputs": [
    {
     "data": {
      "text/plain": [
       "bool"
      ]
     },
     "execution_count": 16,
     "metadata": {},
     "output_type": "execute_result"
    }
   ],
   "source": [
    "type(choice)"
   ]
  },
  {
   "cell_type": "code",
   "execution_count": 17,
   "id": "2e6eb093",
   "metadata": {},
   "outputs": [
    {
     "name": "stdout",
     "output_type": "stream",
     "text": [
      "22\n"
     ]
    }
   ],
   "source": [
    "a = 10\n",
    "b = 12\n",
    "c = a+b\n",
    "print(c)"
   ]
  },
  {
   "cell_type": "code",
   "execution_count": 18,
   "id": "fec76d6a",
   "metadata": {},
   "outputs": [
    {
     "name": "stdout",
     "output_type": "stream",
     "text": [
      "htopsolution\n"
     ]
    }
   ],
   "source": [
    "a =\"htop\"\n",
    "b = \"solution\"\n",
    "print(a+b)\n"
   ]
  },
  {
   "cell_type": "code",
   "execution_count": 19,
   "id": "fcc04c4f",
   "metadata": {},
   "outputs": [],
   "source": [
    "ename = 'ram'"
   ]
  },
  {
   "cell_type": "code",
   "execution_count": 20,
   "id": "a9b470d4",
   "metadata": {},
   "outputs": [
    {
     "name": "stdout",
     "output_type": "stream",
     "text": [
      "ram\n"
     ]
    }
   ],
   "source": [
    "print(ename)"
   ]
  },
  {
   "cell_type": "code",
   "execution_count": 21,
   "id": "defc5502",
   "metadata": {},
   "outputs": [],
   "source": [
    "a=\"\"\"Anaconda is a distribution of the Python and R programming languages for scientific computing, that aims to simplify package management and deployment. The distribution includes data-science packages suitable for Windows, Linux, and macOS.\"\"\""
   ]
  },
  {
   "cell_type": "code",
   "execution_count": 22,
   "id": "2dc1d2a2",
   "metadata": {},
   "outputs": [
    {
     "name": "stdout",
     "output_type": "stream",
     "text": [
      "Anaconda is a distribution of the Python and R programming languages for scientific computing, that aims to simplify package management and deployment. The distribution includes data-science packages suitable for Windows, Linux, and macOS.\n"
     ]
    }
   ],
   "source": [
    "print(a)"
   ]
  },
  {
   "cell_type": "code",
   "execution_count": 2,
   "id": "ae3308a2",
   "metadata": {},
   "outputs": [
    {
     "name": "stdout",
     "output_type": "stream",
     "text": [
      "sanju rajan\n",
      "28\n",
      "22323.28\n"
     ]
    }
   ],
   "source": [
    "name = \"sanju rajan\"\n",
    "age = 28\n",
    "salary = 22323.28\n",
    "print(name)\n",
    "print(age)\n",
    "print(salary)"
   ]
  },
  {
   "cell_type": "code",
   "execution_count": 5,
   "id": "6ff63646",
   "metadata": {},
   "outputs": [],
   "source": [
    "a = \"selvi\"\n",
    "b = \"Ramesh \"\n"
   ]
  },
  {
   "cell_type": "code",
   "execution_count": 6,
   "id": "067a4217",
   "metadata": {},
   "outputs": [
    {
     "name": "stdout",
     "output_type": "stream",
     "text": [
      "selviRamesh \n"
     ]
    }
   ],
   "source": [
    "print(a+b)"
   ]
  },
  {
   "cell_type": "code",
   "execution_count": 10,
   "id": "78ab3705",
   "metadata": {},
   "outputs": [
    {
     "name": "stdout",
     "output_type": "stream",
     "text": [
      "34\n",
      "12000\n"
     ]
    }
   ],
   "source": [
    "age = 34\n",
    "salary = 12000\n",
    "print (age)\n",
    "print (salary)"
   ]
  },
  {
   "cell_type": "code",
   "execution_count": 18,
   "id": "75d9dd05",
   "metadata": {},
   "outputs": [
    {
     "name": "stdout",
     "output_type": "stream",
     "text": [
      "300\n",
      "600\n"
     ]
    }
   ],
   "source": [
    "a = 200\n",
    "b = 100\n",
    "c = 3\n",
    "print(a+b)\n",
    "print(a*c)"
   ]
  },
  {
   "cell_type": "code",
   "execution_count": 21,
   "id": "3c45ae5f",
   "metadata": {},
   "outputs": [
    {
     "name": "stdout",
     "output_type": "stream",
     "text": [
      "100\n"
     ]
    }
   ],
   "source": [
    "a = 200\n",
    "b = 100\n",
    "c = 3\n",
    "print(a-b)"
   ]
  },
  {
   "cell_type": "code",
   "execution_count": 7,
   "id": "0c0ad37c",
   "metadata": {},
   "outputs": [
    {
     "name": "stdout",
     "output_type": "stream",
     "text": [
      "emp name: ramesh\n",
      "emp id:  12947\n",
      "emp age:  32\n",
      "emp salary:  12000\n"
     ]
    }
   ],
   "source": [
    "emp_name = \"ramesh\"\n",
    "emp_id = 12947 \n",
    "emp_age = 32\n",
    "emp_salary = 12000\n",
    "print(\"emp name:\",emp_name) \n",
    "print(\"emp id: \"  ,emp_id  )\n",
    "print(\"emp age: \"  ,emp_age )\n",
    "print(\"emp salary: \" ,emp_salary )\n",
    "\n"
   ]
  },
  {
   "cell_type": "code",
   "execution_count": 15,
   "id": "9b7b98c2",
   "metadata": {},
   "outputs": [
    {
     "name": "stdout",
     "output_type": "stream",
     "text": [
      "emp name: ramesh \n",
      "emp id: 12947 \n",
      "emp age: 32 \n",
      "emp salary:  12000\n"
     ]
    }
   ],
   "source": [
    "emp_name = \"ramesh\"\n",
    "emp_id = 12947 \n",
    "emp_age = 32\n",
    "emp_salary = 12000\n",
    "print(\"emp name:\", emp_name, \"\\nemp id:\", emp_id, \"\\nemp age:\", emp_age, \"\\nemp salary: \", emp_salary)\n"
   ]
  },
  {
   "cell_type": "code",
   "execution_count": 21,
   "id": "d42a1484",
   "metadata": {},
   "outputs": [
    {
     "name": "stdout",
     "output_type": "stream",
     "text": [
      "enter nameramesh\n",
      "enter age22\n",
      "enter id19351005\n",
      "ramesh\n",
      "22\n",
      "19351005\n"
     ]
    }
   ],
   "source": [
    "empname = input(\"enter name\")\n",
    "empage =input(\"enter age\")\n",
    "empid = input(\"enter id\")\n",
    "print(empname)\n",
    "print (empage)\n",
    "print (empid)\n"
   ]
  },
  {
   "cell_type": "code",
   "execution_count": 25,
   "id": "2a6ae69b",
   "metadata": {},
   "outputs": [
    {
     "name": "stdout",
     "output_type": "stream",
     "text": [
      "enter name: ram\n",
      "enter age: 21\n",
      "enter id: 19351005\n",
      "emp name: ram \n",
      "emp age: 21 \n",
      "emp id: 19351005\n"
     ]
    }
   ],
   "source": [
    "empname = input(\"enter name: \")\n",
    "empage =input(\"enter age: \")\n",
    "empid = input(\"enter id: \")\n",
    "print(\"emp name:\", empname,\"\\nemp age:\", empage,\"\\nemp id:\",empid)\n",
    "\n"
   ]
  },
  {
   "cell_type": "code",
   "execution_count": 28,
   "id": "0ab9ff59",
   "metadata": {},
   "outputs": [
    {
     "name": "stdout",
     "output_type": "stream",
     "text": [
      "enter first value: 12\n",
      "enter second value: 23\n",
      "resut is 35\n"
     ]
    }
   ],
   "source": [
    "x = input(\"enter first value: \")\n",
    "y = input(\"enter second value: \")\n",
    "print(\"resut is\",int(x)+int(y))\n"
   ]
  },
  {
   "cell_type": "code",
   "execution_count": 3,
   "id": "86cab2e2",
   "metadata": {},
   "outputs": [
    {
     "name": "stdout",
     "output_type": "stream",
     "text": [
      "enter first value: 2\n",
      "enter second value: 5\n",
      "resut is 25\n"
     ]
    }
   ],
   "source": [
    "#example\n",
    "x = input(\"enter first value: \")\n",
    "y = input(\"enter second value: \")\n",
    "print(\"resut is\", x + y)\n"
   ]
  },
  {
   "cell_type": "code",
   "execution_count": 35,
   "id": "968bc228",
   "metadata": {},
   "outputs": [
    {
     "name": "stdout",
     "output_type": "stream",
     "text": [
      "enter first value: Ramesh \n",
      "enter second value: Kumar s\n",
      "resut is Ramesh Kumar s\n"
     ]
    }
   ],
   "source": [
    "x = input(\"enter first value: \")\n",
    "y = input(\"enter second value: \")\n",
    "print(\"resut is\", x + y)"
   ]
  },
  {
   "cell_type": "code",
   "execution_count": 1,
   "id": "27bed80d",
   "metadata": {},
   "outputs": [
    {
     "name": "stdout",
     "output_type": "stream",
     "text": [
      "enter first value: 4\n",
      "enter second value: 5\n",
      "enter third value: 2\n",
      "resut 1.6\n"
     ]
    }
   ],
   "source": [
    "x = input(\"enter first value: \")\n",
    "y = input(\"enter second value: \")\n",
    "d = input(\"enter third value: \")\n",
    "print(\"resut\", int(x) / int (y)*int (d))"
   ]
  },
  {
   "cell_type": "code",
   "execution_count": 22,
   "id": "03ec9ae2",
   "metadata": {},
   "outputs": [
    {
     "name": "stdout",
     "output_type": "stream",
     "text": [
      "ram\n",
      "23\n",
      "12,400\n"
     ]
    }
   ],
   "source": [
    "employeename = \"ram\"\n",
    "employeeage = 23\n",
    "employeesalary=12,400\n",
    "print(\"ram\")\n",
    "print(\"23\")\n",
    "print(\"12,400\")"
   ]
  },
  {
   "cell_type": "code",
   "execution_count": 24,
   "id": "f513fffb",
   "metadata": {},
   "outputs": [
    {
     "name": "stdout",
     "output_type": "stream",
     "text": [
      "enter first name: Ramesh \n",
      "enter second name: kumar\n",
      "enter third name: s\n",
      "resut Ramesh  kumar s\n"
     ]
    }
   ],
   "source": [
    "x = input(\"enter first name: \")\n",
    "y = input(\"enter second name: \")\n",
    "d = input(\"enter third name: \")\n",
    "print(\"resut\", (x) ,(y) ,(d))"
   ]
  },
  {
   "cell_type": "code",
   "execution_count": 30,
   "id": "5bb4b2d0",
   "metadata": {},
   "outputs": [
    {
     "name": "stdout",
     "output_type": "stream",
     "text": [
      "entername: ramesh\n",
      "enteraddress: trichy,thatingarpet,28\n",
      "enterphoneno: 9150388374\n",
      "enterempid: 566555\n"
     ]
    }
   ],
   "source": [
    "ename = \"ramesh\"\n",
    "eaddress = \"trichy,thatingarpet,28\"\n",
    "ephoneno = 9150388374\n",
    "eid =\"566555\"\n",
    "print(\"entername:\",ename)\n",
    "print(\"enteraddress:\",eaddress)\n",
    "print(\"enterphoneno:\",ephoneno)\n",
    "print(\"enterempid:\",eid)\n",
    "\n",
    "\n"
   ]
  },
  {
   "cell_type": "code",
   "execution_count": 31,
   "id": "1873f134",
   "metadata": {},
   "outputs": [
    {
     "name": "stdout",
     "output_type": "stream",
     "text": [
      "entername: ramesh \n",
      "enteraddress: trichy,thatingarpet,28 \n",
      "enterphoneno: 9150388374 \n",
      "enterempid: 566555\n"
     ]
    }
   ],
   "source": [
    "ename = \"ramesh\"\n",
    "eaddress = \"trichy,thatingarpet,28\"\n",
    "ephoneno = 9150388374\n",
    "eid =\"566555\"\n",
    "print(\"entername:\",ename,\"\\nenteraddress:\",eaddress,\"\\nenterphoneno:\",ephoneno,\"\\nenterempid:\",eid)\n"
   ]
  },
  {
   "cell_type": "code",
   "execution_count": 1,
   "id": "8b55d3cd",
   "metadata": {},
   "outputs": [
    {
     "data": {
      "text/plain": [
       "8"
      ]
     },
     "execution_count": 1,
     "metadata": {},
     "output_type": "execute_result"
    }
   ],
   "source": [
    "5+3"
   ]
  },
  {
   "cell_type": "code",
   "execution_count": 2,
   "id": "f9246aa8",
   "metadata": {},
   "outputs": [
    {
     "data": {
      "text/plain": [
       "-1"
      ]
     },
     "execution_count": 2,
     "metadata": {},
     "output_type": "execute_result"
    }
   ],
   "source": [
    "2-3"
   ]
  },
  {
   "cell_type": "code",
   "execution_count": 3,
   "id": "6ea8ae2b",
   "metadata": {},
   "outputs": [],
   "source": [
    "x=23\n",
    "y=10\n"
   ]
  },
  {
   "cell_type": "code",
   "execution_count": 4,
   "id": "1a045a0a",
   "metadata": {},
   "outputs": [
    {
     "data": {
      "text/plain": [
       "True"
      ]
     },
     "execution_count": 4,
     "metadata": {},
     "output_type": "execute_result"
    }
   ],
   "source": [
    "x!=y"
   ]
  },
  {
   "cell_type": "code",
   "execution_count": 5,
   "id": "3987eb6d",
   "metadata": {},
   "outputs": [],
   "source": [
    "x=23\n",
    "y=23"
   ]
  },
  {
   "cell_type": "code",
   "execution_count": 8,
   "id": "8e9200aa",
   "metadata": {},
   "outputs": [
    {
     "data": {
      "text/plain": [
       "False"
      ]
     },
     "execution_count": 8,
     "metadata": {},
     "output_type": "execute_result"
    }
   ],
   "source": [
    "x!=y\n"
   ]
  },
  {
   "cell_type": "code",
   "execution_count": 9,
   "id": "6492283e",
   "metadata": {},
   "outputs": [
    {
     "data": {
      "text/plain": [
       "True"
      ]
     },
     "execution_count": 9,
     "metadata": {},
     "output_type": "execute_result"
    }
   ],
   "source": [
    "x==y"
   ]
  },
  {
   "cell_type": "code",
   "execution_count": 10,
   "id": "b6a1d6b9",
   "metadata": {},
   "outputs": [
    {
     "data": {
      "text/plain": [
       "False"
      ]
     },
     "execution_count": 10,
     "metadata": {},
     "output_type": "execute_result"
    }
   ],
   "source": [
    "x=23\n",
    "y=32\n",
    "x>y"
   ]
  },
  {
   "cell_type": "code",
   "execution_count": 11,
   "id": "dfe212c5",
   "metadata": {},
   "outputs": [
    {
     "data": {
      "text/plain": [
       "True"
      ]
     },
     "execution_count": 11,
     "metadata": {},
     "output_type": "execute_result"
    }
   ],
   "source": [
    "x=23\n",
    "y=32\n",
    "x<y"
   ]
  },
  {
   "cell_type": "code",
   "execution_count": 12,
   "id": "5829e2ad",
   "metadata": {},
   "outputs": [
    {
     "data": {
      "text/plain": [
       "-36"
      ]
     },
     "execution_count": 12,
     "metadata": {},
     "output_type": "execute_result"
    }
   ],
   "source": [
    "(-4)+(-32)"
   ]
  },
  {
   "cell_type": "code",
   "execution_count": 13,
   "id": "2a9599ad",
   "metadata": {},
   "outputs": [
    {
     "data": {
      "text/plain": [
       "2.5"
      ]
     },
     "execution_count": 13,
     "metadata": {},
     "output_type": "execute_result"
    }
   ],
   "source": [
    "5/2"
   ]
  },
  {
   "cell_type": "code",
   "execution_count": 14,
   "id": "550355e5",
   "metadata": {},
   "outputs": [
    {
     "data": {
      "text/plain": [
       "2"
      ]
     },
     "execution_count": 14,
     "metadata": {},
     "output_type": "execute_result"
    }
   ],
   "source": [
    "5//2"
   ]
  },
  {
   "cell_type": "code",
   "execution_count": 15,
   "id": "ea7769b2",
   "metadata": {},
   "outputs": [
    {
     "data": {
      "text/plain": [
       "1"
      ]
     },
     "execution_count": 15,
     "metadata": {},
     "output_type": "execute_result"
    }
   ],
   "source": [
    "5%2"
   ]
  },
  {
   "cell_type": "code",
   "execution_count": 16,
   "id": "45cd5760",
   "metadata": {},
   "outputs": [
    {
     "data": {
      "text/plain": [
       "15"
      ]
     },
     "execution_count": 16,
     "metadata": {},
     "output_type": "execute_result"
    }
   ],
   "source": [
    "5*3"
   ]
  },
  {
   "cell_type": "code",
   "execution_count": 20,
   "id": "3067e551",
   "metadata": {},
   "outputs": [
    {
     "data": {
      "text/plain": [
       "25"
      ]
     },
     "execution_count": 20,
     "metadata": {},
     "output_type": "execute_result"
    }
   ],
   "source": [
    "5**2"
   ]
  },
  {
   "cell_type": "code",
   "execution_count": 21,
   "id": "0443f086",
   "metadata": {},
   "outputs": [],
   "source": [
    "x=20\n",
    "y=12"
   ]
  },
  {
   "cell_type": "code",
   "execution_count": 22,
   "id": "47f4bcd6",
   "metadata": {},
   "outputs": [
    {
     "name": "stdout",
     "output_type": "stream",
     "text": [
      "hello\n"
     ]
    }
   ],
   "source": [
    "if x!=y:\n",
    "    print(\"hello\")"
   ]
  },
  {
   "cell_type": "code",
   "execution_count": 2,
   "id": "732a2c9c",
   "metadata": {},
   "outputs": [],
   "source": [
    "x=20\n",
    "y=28"
   ]
  },
  {
   "cell_type": "code",
   "execution_count": 3,
   "id": "8ed3ea2b",
   "metadata": {},
   "outputs": [
    {
     "name": "stdout",
     "output_type": "stream",
     "text": [
      "hello\n"
     ]
    }
   ],
   "source": [
    "if x!=y:\n",
    "    print(\"hello\")\n",
    "else:\n",
    "     print(\"hai\")"
   ]
  },
  {
   "cell_type": "code",
   "execution_count": 25,
   "id": "4b0bfeb7",
   "metadata": {},
   "outputs": [
    {
     "name": "stdout",
     "output_type": "stream",
     "text": [
      "hai\n"
     ]
    }
   ],
   "source": [
    "if x!=y:\n",
    "    print(\"hello\")\n",
    "else:\n",
    "    print(\"hai\")"
   ]
  },
  {
   "cell_type": "code",
   "execution_count": 29,
   "id": "f0464b7b",
   "metadata": {},
   "outputs": [
    {
     "name": "stdout",
     "output_type": "stream",
     "text": [
      "ramesh\n"
     ]
    }
   ],
   "source": [
    "x=5\n",
    "y=5\n",
    "if x==y:\n",
    "    print(\"ramesh\")\n",
    "else:\n",
    "    print(\"kumar\")"
   ]
  },
  {
   "cell_type": "code",
   "execution_count": 38,
   "id": "7f4d2f29",
   "metadata": {},
   "outputs": [
    {
     "name": "stdout",
     "output_type": "stream",
     "text": [
      "c is grater \n"
     ]
    }
   ],
   "source": [
    "a=50\n",
    "b=60\n",
    "c=70\n",
    "if a>b:\n",
    "    print(\"a is grater than b\")    \n",
    "elif a>c:\n",
    "        print(\"a is grater then c\")\n",
    "else:\n",
    "     print(\"c is grater \")\n"
   ]
  },
  {
   "cell_type": "code",
   "execution_count": 40,
   "id": "d9bfd97a",
   "metadata": {},
   "outputs": [
    {
     "name": "stdout",
     "output_type": "stream",
     "text": [
      "yes\n"
     ]
    }
   ],
   "source": [
    "if \"arun\"in \"arunkumar\":\n",
    "    print(\"yes\")\n",
    "else:\n",
    "     print(\"no\")"
   ]
  },
  {
   "cell_type": "code",
   "execution_count": 41,
   "id": "8d22457a",
   "metadata": {},
   "outputs": [
    {
     "name": "stdout",
     "output_type": "stream",
     "text": [
      "no\n"
     ]
    }
   ],
   "source": [
    "if \"arun\"in \"Arunkumar\":\n",
    "    print(\"yes\")\n",
    "else:\n",
    "     print(\"no\")"
   ]
  },
  {
   "cell_type": "code",
   "execution_count": 43,
   "id": "4d745265",
   "metadata": {},
   "outputs": [
    {
     "name": "stdout",
     "output_type": "stream",
     "text": [
      "42\n"
     ]
    }
   ],
   "source": [
    "if 42 in range(100):\n",
    "    x=42\n",
    "    print(x)"
   ]
  },
  {
   "cell_type": "code",
   "execution_count": 47,
   "id": "213ab4e6",
   "metadata": {},
   "outputs": [
    {
     "name": "stdout",
     "output_type": "stream",
     "text": [
      "python\n"
     ]
    }
   ],
   "source": [
    "if 102 in range(100):\n",
    "    x=\"hai\"\n",
    "    print(x)\n",
    "else:\n",
    "    x=\"python\"\n",
    "    print(x)"
   ]
  },
  {
   "cell_type": "code",
   "execution_count": 17,
   "id": "e46269e2",
   "metadata": {},
   "outputs": [
    {
     "name": "stdout",
     "output_type": "stream",
     "text": [
      "0\n",
      "1\n",
      "2\n",
      "3\n",
      "4\n",
      "5\n",
      "6\n",
      "7\n",
      "8\n",
      "9\n"
     ]
    }
   ],
   "source": [
    "for i in range(10):\n",
    "    print(i)"
   ]
  },
  {
   "cell_type": "code",
   "execution_count": 11,
   "id": "209ae929",
   "metadata": {},
   "outputs": [
    {
     "name": "stdout",
     "output_type": "stream",
     "text": [
      "32\n"
     ]
    }
   ],
   "source": [
    "x=32\n",
    "if 32 in range(50):\n",
    "    print(x)\n",
    "else:\n",
    "    print(\"no\")\n",
    "    "
   ]
  },
  {
   "cell_type": "code",
   "execution_count": 10,
   "id": "ce1f0d31",
   "metadata": {},
   "outputs": [
    {
     "name": "stdout",
     "output_type": "stream",
     "text": [
      "40\n"
     ]
    }
   ],
   "source": [
    "x=40 if 40 in range(45) else 60\n",
    "print(x)"
   ]
  },
  {
   "cell_type": "markdown",
   "id": "de3065dd",
   "metadata": {},
   "source": []
  },
  {
   "cell_type": "code",
   "execution_count": 16,
   "id": "8c5c48b0",
   "metadata": {},
   "outputs": [
    {
     "name": "stdout",
     "output_type": "stream",
     "text": [
      "62\n"
     ]
    }
   ],
   "source": [
    "x=62 if 62 in range(70) else(100)\n",
    "print(x)"
   ]
  },
  {
   "cell_type": "code",
   "execution_count": 15,
   "id": "db2e4012",
   "metadata": {},
   "outputs": [
    {
     "name": "stdout",
     "output_type": "stream",
     "text": [
      "40\n"
     ]
    }
   ],
   "source": [
    "x=40 if 40 in range (45) else(100)\n",
    "print(x)"
   ]
  },
  {
   "cell_type": "code",
   "execution_count": 19,
   "id": "afc3d7d7",
   "metadata": {},
   "outputs": [
    {
     "name": "stdout",
     "output_type": "stream",
     "text": [
      "44\n"
     ]
    }
   ],
   "source": [
    "if 44 in range (100):\n",
    "  x=44\n",
    "print(x)"
   ]
  },
  {
   "cell_type": "code",
   "execution_count": 24,
   "id": "718fcd25",
   "metadata": {},
   "outputs": [
    {
     "name": "stdout",
     "output_type": "stream",
     "text": [
      "hp\n"
     ]
    }
   ],
   "source": [
    "f=34\n",
    "u=44\n",
    "if f==u:\n",
    "  print(\"laptop\")\n",
    "else :\n",
    "  print(\"hp\")"
   ]
  },
  {
   "cell_type": "code",
   "execution_count": 25,
   "id": "f7ad0ba9",
   "metadata": {},
   "outputs": [
    {
     "name": "stdout",
     "output_type": "stream",
     "text": [
      "laptop\n"
     ]
    }
   ],
   "source": [
    "f=44\n",
    "u=44\n",
    "if f==u:\n",
    "  print(\"laptop\")\n",
    "else :\n",
    "  print(\"hp\")"
   ]
  },
  {
   "cell_type": "code",
   "execution_count": 63,
   "id": "208917a3",
   "metadata": {},
   "outputs": [
    {
     "name": "stdout",
     "output_type": "stream",
     "text": [
      "no\n"
     ]
    }
   ],
   "source": [
    "if \"gi \" in \"chandira seerangan\":\n",
    "  print (\"yes\")\n",
    "else:\n",
    "  print (\"no\")\n"
   ]
  },
  {
   "cell_type": "code",
   "execution_count": 37,
   "id": "61b07ed2",
   "metadata": {},
   "outputs": [
    {
     "name": "stdout",
     "output_type": "stream",
     "text": [
      "yes\n"
     ]
    }
   ],
   "source": [
    "if \"Hindi and Telugu\" in \"Divya Bharti was and Indian actress who worked predominantly in Hindi and Telugu films. Known for her acting versatility and beauty,she was considered one of the most popular and highest paid Indian actresses of her time. Bharti started her film career\":\n",
    "  print(\"yes\")\n",
    "else:\n",
    "    print(\"no\")"
   ]
  },
  {
   "cell_type": "code",
   "execution_count": 38,
   "id": "2b7ef9cf",
   "metadata": {},
   "outputs": [
    {
     "name": "stdout",
     "output_type": "stream",
     "text": [
      "yup\n"
     ]
    }
   ],
   "source": [
    "if \"Real Name\" in \"Real Name, Divyabharathi. Date Of Birth, 28 January 1992. Age, 30 years. Birthplace, Coimbatore, Tamil Nadu, India. Currently Living In, Chennai, Tamil Nadu .\":\n",
    "    print (\"yup\")\n",
    "else:\n",
    "    print(\"nop\")"
   ]
  },
  {
   "cell_type": "code",
   "execution_count": 54,
   "id": "0343e03f",
   "metadata": {},
   "outputs": [
    {
     "name": "stdout",
     "output_type": "stream",
     "text": [
      "a grater tnan b\n"
     ]
    }
   ],
   "source": [
    "a=90\n",
    "b=78\n",
    "c=80\n",
    "if a>b:\n",
    "    print(\"a grater tnan b\")\n",
    "elif a<b:\n",
    "    print(\"a less than b\")\n",
    "else:\n",
    "    print(\"c grater \")"
   ]
  },
  {
   "cell_type": "code",
   "execution_count": 55,
   "id": "584117ad",
   "metadata": {},
   "outputs": [
    {
     "name": "stdout",
     "output_type": "stream",
     "text": [
      "seerangan\n"
     ]
    }
   ],
   "source": [
    "x=90\n",
    "y=80\n",
    "if x==y:\n",
    "  print(\"chandira\")\n",
    "else:\n",
    "    print(\"seerangan\")"
   ]
  },
  {
   "cell_type": "code",
   "execution_count": 57,
   "id": "e7dbf038",
   "metadata": {},
   "outputs": [
    {
     "name": "stdout",
     "output_type": "stream",
     "text": [
      "seerangan\n"
     ]
    }
   ],
   "source": [
    "x=80\n",
    "y=80\n",
    "if x!=y:\n",
    "  print(\"chandira\")\n",
    "else:\n",
    "  print(\"seerangan\")"
   ]
  },
  {
   "cell_type": "code",
   "execution_count": 60,
   "id": "7d697188",
   "metadata": {},
   "outputs": [
    {
     "name": "stdout",
     "output_type": "stream",
     "text": [
      "hi\n"
     ]
    }
   ],
   "source": [
    "if 23 in range(50):\n",
    "   print(\"hi\")\n",
    "else:\n",
    "   print(\"hai\")"
   ]
  },
  {
   "cell_type": "code",
   "execution_count": 7,
   "id": "8f337f84",
   "metadata": {},
   "outputs": [
    {
     "data": {
      "text/plain": [
       "'g'"
      ]
     },
     "execution_count": 7,
     "metadata": {},
     "output_type": "execute_result"
    }
   ],
   "source": [
    "str1=\"google\"\n",
    "str1[0]\n",
    "\n"
   ]
  },
  {
   "cell_type": "code",
   "execution_count": 8,
   "id": "e1295f39",
   "metadata": {},
   "outputs": [
    {
     "data": {
      "text/plain": [
       "'o'"
      ]
     },
     "execution_count": 8,
     "metadata": {},
     "output_type": "execute_result"
    }
   ],
   "source": [
    "str1=\"google\"\n",
    "str1[1]"
   ]
  },
  {
   "cell_type": "code",
   "execution_count": 11,
   "id": "e3eea85a",
   "metadata": {},
   "outputs": [
    {
     "data": {
      "text/plain": [
       "'s'"
      ]
     },
     "execution_count": 11,
     "metadata": {},
     "output_type": "execute_result"
    }
   ],
   "source": [
    "x=\"ramesh\"\n",
    "x[4]\n"
   ]
  },
  {
   "cell_type": "code",
   "execution_count": 19,
   "id": "344a01f8",
   "metadata": {},
   "outputs": [
    {
     "data": {
      "text/plain": [
       "'h'"
      ]
     },
     "execution_count": 19,
     "metadata": {},
     "output_type": "execute_result"
    }
   ],
   "source": [
    "x=\"ramesh\"\n",
    "x[5]"
   ]
  },
  {
   "cell_type": "code",
   "execution_count": 20,
   "id": "746f4621",
   "metadata": {},
   "outputs": [
    {
     "data": {
      "text/plain": [
       "6"
      ]
     },
     "execution_count": 20,
     "metadata": {},
     "output_type": "execute_result"
    }
   ],
   "source": [
    "x=\"ramesh\"\n",
    "len(x)"
   ]
  },
  {
   "cell_type": "code",
   "execution_count": 24,
   "id": "0c8b9d57",
   "metadata": {},
   "outputs": [
    {
     "data": {
      "text/plain": [
       "'rame'"
      ]
     },
     "execution_count": 24,
     "metadata": {},
     "output_type": "execute_result"
    }
   ],
   "source": [
    "x=\"ramesh\"\n",
    "x[0:4]\n"
   ]
  },
  {
   "cell_type": "code",
   "execution_count": 26,
   "id": "1020b62e",
   "metadata": {},
   "outputs": [
    {
     "data": {
      "text/plain": [
       "'sh'"
      ]
     },
     "execution_count": 26,
     "metadata": {},
     "output_type": "execute_result"
    }
   ],
   "source": [
    "x=\"ramesh\"\n",
    "x[4:]\n"
   ]
  },
  {
   "cell_type": "code",
   "execution_count": 27,
   "id": "a80b1b6a",
   "metadata": {},
   "outputs": [
    {
     "data": {
      "text/plain": [
       "'r'"
      ]
     },
     "execution_count": 27,
     "metadata": {},
     "output_type": "execute_result"
    }
   ],
   "source": [
    "x=\"ramesh\"\n",
    "x[0:1]\n"
   ]
  },
  {
   "cell_type": "code",
   "execution_count": 28,
   "id": "80985b2e",
   "metadata": {},
   "outputs": [
    {
     "data": {
      "text/plain": [
       "'ra'"
      ]
     },
     "execution_count": 28,
     "metadata": {},
     "output_type": "execute_result"
    }
   ],
   "source": [
    "x=\"ramesh\"\n",
    "x[0:2]"
   ]
  },
  {
   "cell_type": "code",
   "execution_count": 29,
   "id": "19666bbd",
   "metadata": {},
   "outputs": [
    {
     "data": {
      "text/plain": [
       "'ram'"
      ]
     },
     "execution_count": 29,
     "metadata": {},
     "output_type": "execute_result"
    }
   ],
   "source": [
    "x=\"ramesh\"\n",
    "x[0:3]"
   ]
  },
  {
   "cell_type": "code",
   "execution_count": 30,
   "id": "363e8e14",
   "metadata": {},
   "outputs": [
    {
     "data": {
      "text/plain": [
       "'rame'"
      ]
     },
     "execution_count": 30,
     "metadata": {},
     "output_type": "execute_result"
    }
   ],
   "source": [
    "x=\"ramesh\"\n",
    "x[0:4]"
   ]
  },
  {
   "cell_type": "code",
   "execution_count": 31,
   "id": "bb5a3fd4",
   "metadata": {},
   "outputs": [
    {
     "data": {
      "text/plain": [
       "'rames'"
      ]
     },
     "execution_count": 31,
     "metadata": {},
     "output_type": "execute_result"
    }
   ],
   "source": [
    "x=\"ramesh\"\n",
    "x[0:5]"
   ]
  },
  {
   "cell_type": "code",
   "execution_count": 32,
   "id": "81a2f219",
   "metadata": {},
   "outputs": [
    {
     "data": {
      "text/plain": [
       "'ramesh'"
      ]
     },
     "execution_count": 32,
     "metadata": {},
     "output_type": "execute_result"
    }
   ],
   "source": [
    "x=\"ramesh\"\n",
    "x[0:6]"
   ]
  },
  {
   "cell_type": "code",
   "execution_count": 33,
   "id": "807240f0",
   "metadata": {},
   "outputs": [
    {
     "data": {
      "text/plain": [
       "'rames'"
      ]
     },
     "execution_count": 33,
     "metadata": {},
     "output_type": "execute_result"
    }
   ],
   "source": [
    "x=\"ramesh\"\n",
    "x[0:-1]"
   ]
  },
  {
   "cell_type": "code",
   "execution_count": 34,
   "id": "6175ad7a",
   "metadata": {},
   "outputs": [
    {
     "data": {
      "text/plain": [
       "'e'"
      ]
     },
     "execution_count": 34,
     "metadata": {},
     "output_type": "execute_result"
    }
   ],
   "source": [
    "x=\"ramesh\"\n",
    "x[-3]"
   ]
  },
  {
   "cell_type": "code",
   "execution_count": 38,
   "id": "9ceef1fd",
   "metadata": {},
   "outputs": [
    {
     "data": {
      "text/plain": [
       "'h'"
      ]
     },
     "execution_count": 38,
     "metadata": {},
     "output_type": "execute_result"
    }
   ],
   "source": [
    "x = \"ramesh\"\n",
    "x [-1]"
   ]
  },
  {
   "cell_type": "code",
   "execution_count": 39,
   "id": "4367c980",
   "metadata": {},
   "outputs": [
    {
     "data": {
      "text/plain": [
       "['welcome ', ' chennai']"
      ]
     },
     "execution_count": 39,
     "metadata": {},
     "output_type": "execute_result"
    }
   ],
   "source": [
    "x = \"welcome to chennai\"\n",
    "x.split(\"to\")"
   ]
  },
  {
   "cell_type": "code",
   "execution_count": 40,
   "id": "d3699a30",
   "metadata": {},
   "outputs": [
    {
     "data": {
      "text/plain": [
       "['welcome to ', '']"
      ]
     },
     "execution_count": 40,
     "metadata": {},
     "output_type": "execute_result"
    }
   ],
   "source": [
    "x = \"welcome to chennai\"\n",
    "x.split(\"chennai\")"
   ]
  },
  {
   "cell_type": "code",
   "execution_count": 41,
   "id": "e5f099e7",
   "metadata": {},
   "outputs": [
    {
     "data": {
      "text/plain": [
       "['che', 'ai']"
      ]
     },
     "execution_count": 41,
     "metadata": {},
     "output_type": "execute_result"
    }
   ],
   "source": [
    "x = \"chennai\"\n",
    "x.split(\"nn\")"
   ]
  },
  {
   "cell_type": "code",
   "execution_count": 43,
   "id": "4641a5eb",
   "metadata": {},
   "outputs": [
    {
     "data": {
      "text/plain": [
       "'Hello'"
      ]
     },
     "execution_count": 43,
     "metadata": {},
     "output_type": "execute_result"
    }
   ],
   "source": [
    "name=\"hello\"\n",
    "name.capitalize()"
   ]
  },
  {
   "cell_type": "code",
   "execution_count": 44,
   "id": "10b9d524",
   "metadata": {},
   "outputs": [
    {
     "data": {
      "text/plain": [
       "False"
      ]
     },
     "execution_count": 44,
     "metadata": {},
     "output_type": "execute_result"
    }
   ],
   "source": [
    "name=\"hello\"\n",
    "name.isupper()"
   ]
  },
  {
   "cell_type": "code",
   "execution_count": 46,
   "id": "d003e50d",
   "metadata": {},
   "outputs": [
    {
     "data": {
      "text/plain": [
       "False"
      ]
     },
     "execution_count": 46,
     "metadata": {},
     "output_type": "execute_result"
    }
   ],
   "source": [
    "name=\"Hello\"\n",
    "name.islower()"
   ]
  },
  {
   "cell_type": "code",
   "execution_count": 47,
   "id": "89a4a865",
   "metadata": {},
   "outputs": [
    {
     "data": {
      "text/plain": [
       "'Hello'"
      ]
     },
     "execution_count": 47,
     "metadata": {},
     "output_type": "execute_result"
    }
   ],
   "source": [
    "name=\"Hello\"\n",
    "name.()"
   ]
  },
  {
   "cell_type": "code",
   "execution_count": 51,
   "id": "28422bb9",
   "metadata": {},
   "outputs": [
    {
     "data": {
      "text/plain": [
       "True"
      ]
     },
     "execution_count": 51,
     "metadata": {},
     "output_type": "execute_result"
    }
   ],
   "source": [
    "name=\"hello\"\n",
    "name.isalpha()"
   ]
  },
  {
   "cell_type": "code",
   "execution_count": 67,
   "id": "39ed5631",
   "metadata": {},
   "outputs": [
    {
     "data": {
      "text/plain": [
       "39"
      ]
     },
     "execution_count": 67,
     "metadata": {},
     "output_type": "execute_result"
    }
   ],
   "source": [
    "name=\"Heeeeeeeeeeeeeeeeeeeeeeeeeeeeeeeeeeeeeeello\"\n",
    "name.count(\"e\")"
   ]
  },
  {
   "cell_type": "code",
   "execution_count": 62,
   "id": "b1c40249",
   "metadata": {},
   "outputs": [
    {
     "data": {
      "text/plain": [
       "2"
      ]
     },
     "execution_count": 62,
     "metadata": {},
     "output_type": "execute_result"
    }
   ],
   "source": [
    "name=\"Hello\"\n",
    "name.count(\"l\")"
   ]
  },
  {
   "cell_type": "code",
   "execution_count": 76,
   "id": "21074546",
   "metadata": {},
   "outputs": [
    {
     "data": {
      "text/plain": [
       "5"
      ]
     },
     "execution_count": 76,
     "metadata": {},
     "output_type": "execute_result"
    }
   ],
   "source": [
    "x=\"ramesh\"\n",
    "x.find(\"h\")\n",
    "x.index(\"h\")\n"
   ]
  },
  {
   "cell_type": "code",
   "execution_count": 19,
   "id": "b70f9c87",
   "metadata": {},
   "outputs": [
    {
     "data": {
      "text/plain": [
       "1"
      ]
     },
     "execution_count": 19,
     "metadata": {},
     "output_type": "execute_result"
    }
   ],
   "source": [
    "x=\"ramesh\"\n",
    "x.index(\"a\")"
   ]
  },
  {
   "cell_type": "code",
   "execution_count": 78,
   "id": "3bd51e46",
   "metadata": {},
   "outputs": [
    {
     "data": {
      "text/plain": [
       "-1"
      ]
     },
     "execution_count": 78,
     "metadata": {},
     "output_type": "execute_result"
    }
   ],
   "source": [
    "x=\"ramesh\"\n",
    "x.find(\"u\")"
   ]
  },
  {
   "cell_type": "code",
   "execution_count": 79,
   "id": "ee414c2c",
   "metadata": {},
   "outputs": [
    {
     "data": {
      "text/plain": [
       "0"
      ]
     },
     "execution_count": 79,
     "metadata": {},
     "output_type": "execute_result"
    }
   ],
   "source": [
    "x=\"ramesh\"\n",
    "x.index(\"r\")"
   ]
  },
  {
   "cell_type": "code",
   "execution_count": 38,
   "id": "7de598ad",
   "metadata": {},
   "outputs": [
    {
     "data": {
      "text/plain": [
       "'ramesh'"
      ]
     },
     "execution_count": 38,
     "metadata": {},
     "output_type": "execute_result"
    }
   ],
   "source": [
    "x=\"ramesh\"\n",
    "x.translate(\"r\")"
   ]
  },
  {
   "cell_type": "code",
   "execution_count": 26,
   "id": "30fb983d",
   "metadata": {},
   "outputs": [
    {
     "data": {
      "text/plain": [
       "5"
      ]
     },
     "execution_count": 26,
     "metadata": {},
     "output_type": "execute_result"
    }
   ],
   "source": [
    "x=\"ramesh\"\n",
    "x.strip(\"h\")"
   ]
  },
  {
   "cell_type": "code",
   "execution_count": 33,
   "id": "cb588f5f",
   "metadata": {},
   "outputs": [
    {
     "name": "stdout",
     "output_type": "stream",
     "text": [
      "h\n",
      "t\n",
      "o\n",
      "p\n"
     ]
    }
   ],
   "source": [
    "for a in \"htop\":\n",
    "    print(a)"
   ]
  },
  {
   "cell_type": "code",
   "execution_count": 35,
   "id": "623b13ef",
   "metadata": {},
   "outputs": [
    {
     "name": "stdout",
     "output_type": "stream",
     "text": [
      "True\n"
     ]
    }
   ],
   "source": [
    "str2 = \"welcome to python\"\n",
    "print(\"welcome \"in str2)"
   ]
  },
  {
   "cell_type": "code",
   "execution_count": 36,
   "id": "1786b41f",
   "metadata": {},
   "outputs": [
    {
     "name": "stdout",
     "output_type": "stream",
     "text": [
      "False\n"
     ]
    }
   ],
   "source": [
    "str2 = \"welcome to python\"\n",
    "print(\"Welcome \"in str2)"
   ]
  },
  {
   "cell_type": "code",
   "execution_count": 39,
   "id": "d0a73843",
   "metadata": {},
   "outputs": [
    {
     "name": "stdout",
     "output_type": "stream",
     "text": [
      "java script\n",
      "python script\n"
     ]
    }
   ],
   "source": [
    "x=\"java script\"\n",
    "y=x.replace(\"java\",\"python\")\n",
    "print(x)\n",
    "print(y)"
   ]
  },
  {
   "cell_type": "code",
   "execution_count": 40,
   "id": "f9cecb88",
   "metadata": {},
   "outputs": [
    {
     "name": "stdout",
     "output_type": "stream",
     "text": [
      "java script\n"
     ]
    }
   ],
   "source": [
    "print(x)"
   ]
  },
  {
   "cell_type": "code",
   "execution_count": 41,
   "id": "1c1cffef",
   "metadata": {},
   "outputs": [
    {
     "name": "stdout",
     "output_type": "stream",
     "text": [
      "python script\n"
     ]
    }
   ],
   "source": [
    "print(y)"
   ]
  },
  {
   "cell_type": "code",
   "execution_count": 42,
   "id": "c49e67bc",
   "metadata": {},
   "outputs": [
    {
     "data": {
      "text/plain": [
       "'pytho'"
      ]
     },
     "execution_count": 42,
     "metadata": {},
     "output_type": "execute_result"
    }
   ],
   "source": [
    "str = \"python\"\n",
    "str[0:-1]"
   ]
  },
  {
   "cell_type": "code",
   "execution_count": 43,
   "id": "28cfaaef",
   "metadata": {},
   "outputs": [
    {
     "data": {
      "text/plain": [
       "'pyt'"
      ]
     },
     "execution_count": 43,
     "metadata": {},
     "output_type": "execute_result"
    }
   ],
   "source": [
    "str[0:-3]"
   ]
  },
  {
   "cell_type": "code",
   "execution_count": 44,
   "id": "4947f963",
   "metadata": {},
   "outputs": [
    {
     "data": {
      "text/plain": [
       "'py'"
      ]
     },
     "execution_count": 44,
     "metadata": {},
     "output_type": "execute_result"
    }
   ],
   "source": [
    "str[0:-4]"
   ]
  },
  {
   "cell_type": "code",
   "execution_count": 45,
   "id": "bdbe8a71",
   "metadata": {},
   "outputs": [
    {
     "data": {
      "text/plain": [
       "'h'"
      ]
     },
     "execution_count": 45,
     "metadata": {},
     "output_type": "execute_result"
    }
   ],
   "source": [
    "str[-3]"
   ]
  },
  {
   "cell_type": "code",
   "execution_count": 46,
   "id": "8c256f04",
   "metadata": {},
   "outputs": [
    {
     "data": {
      "text/plain": [
       "'ramesh'"
      ]
     },
     "execution_count": 46,
     "metadata": {},
     "output_type": "execute_result"
    }
   ],
   "source": [
    "str1=\"ramesh\"\n",
    "str1[::]"
   ]
  },
  {
   "cell_type": "code",
   "execution_count": 47,
   "id": "ed28fa37",
   "metadata": {},
   "outputs": [
    {
     "data": {
      "text/plain": [
       "'ramesh'"
      ]
     },
     "execution_count": 47,
     "metadata": {},
     "output_type": "execute_result"
    }
   ],
   "source": [
    "str1=\"ramesh\"\n",
    "str1[0::1]"
   ]
  },
  {
   "cell_type": "code",
   "execution_count": 48,
   "id": "038da483",
   "metadata": {},
   "outputs": [
    {
     "data": {
      "text/plain": [
       "'r'"
      ]
     },
     "execution_count": 48,
     "metadata": {},
     "output_type": "execute_result"
    }
   ],
   "source": [
    "str1=\"ramesh\"\n",
    "str1[0:1:]"
   ]
  },
  {
   "cell_type": "code",
   "execution_count": 49,
   "id": "57aea68f",
   "metadata": {},
   "outputs": [
    {
     "data": {
      "text/plain": [
       "'ra'"
      ]
     },
     "execution_count": 49,
     "metadata": {},
     "output_type": "execute_result"
    }
   ],
   "source": [
    "str1=\"ramesh\"\n",
    "str1[0:2:]"
   ]
  },
  {
   "cell_type": "code",
   "execution_count": 50,
   "id": "f7ccec43",
   "metadata": {},
   "outputs": [
    {
     "data": {
      "text/plain": [
       "'ram'"
      ]
     },
     "execution_count": 50,
     "metadata": {},
     "output_type": "execute_result"
    }
   ],
   "source": [
    "str1=\"ramesh\"\n",
    "str1[0:3:1]"
   ]
  },
  {
   "cell_type": "code",
   "execution_count": 51,
   "id": "23feacc7",
   "metadata": {},
   "outputs": [
    {
     "data": {
      "text/plain": [
       "'rm'"
      ]
     },
     "execution_count": 51,
     "metadata": {},
     "output_type": "execute_result"
    }
   ],
   "source": [
    "str1=\"ramesh\"\n",
    "str1[0:3:2]"
   ]
  },
  {
   "cell_type": "code",
   "execution_count": 53,
   "id": "80724728",
   "metadata": {},
   "outputs": [
    {
     "data": {
      "text/plain": [
       "'wel'"
      ]
     },
     "execution_count": 53,
     "metadata": {},
     "output_type": "execute_result"
    }
   ],
   "source": [
    "str2=\"welcometopython\"\n",
    "str2[0:3:1]"
   ]
  },
  {
   "cell_type": "code",
   "execution_count": 54,
   "id": "d2b40045",
   "metadata": {},
   "outputs": [
    {
     "data": {
      "text/plain": [
       "'woo'"
      ]
     },
     "execution_count": 54,
     "metadata": {},
     "output_type": "execute_result"
    }
   ],
   "source": [
    "str2=\"welcometopython\"\n",
    "str2[0:10:4]"
   ]
  },
  {
   "cell_type": "code",
   "execution_count": 12,
   "id": "d25c8783",
   "metadata": {},
   "outputs": [
    {
     "data": {
      "text/plain": [
       "'wmy'"
      ]
     },
     "execution_count": 12,
     "metadata": {},
     "output_type": "execute_result"
    }
   ],
   "source": [
    "str2=\"welcometopython\"\n",
    "str2[0:15:5]"
   ]
  },
  {
   "cell_type": "code",
   "execution_count": 1,
   "id": "f4d50bcc",
   "metadata": {},
   "outputs": [
    {
     "data": {
      "text/plain": [
       "'yp'"
      ]
     },
     "execution_count": 1,
     "metadata": {},
     "output_type": "execute_result"
    }
   ],
   "source": [
    "st = \"py\"\n",
    "st[::-1]"
   ]
  },
  {
   "cell_type": "code",
   "execution_count": 56,
   "id": "065caa4e",
   "metadata": {},
   "outputs": [
    {
     "data": {
      "text/plain": [
       "15"
      ]
     },
     "execution_count": 56,
     "metadata": {},
     "output_type": "execute_result"
    }
   ],
   "source": [
    "len(str2)"
   ]
  },
  {
   "cell_type": "code",
   "execution_count": 57,
   "id": "3e8fb3b2",
   "metadata": {},
   "outputs": [
    {
     "data": {
      "text/plain": [
       "'lth'"
      ]
     },
     "execution_count": 57,
     "metadata": {},
     "output_type": "execute_result"
    }
   ],
   "source": [
    "str2=\"welcometopython\"\n",
    "str2[2:15:5]"
   ]
  },
  {
   "cell_type": "code",
   "execution_count": 58,
   "id": "a38e35a0",
   "metadata": {},
   "outputs": [
    {
     "name": "stdout",
     "output_type": "stream",
     "text": [
      "haihello\n"
     ]
    }
   ],
   "source": [
    "x = \"hai\"\n",
    "y = \"hello\"\n",
    "print(x+y)"
   ]
  },
  {
   "cell_type": "code",
   "execution_count": 59,
   "id": "a7e44a6a",
   "metadata": {},
   "outputs": [
    {
     "name": "stdout",
     "output_type": "stream",
     "text": [
      "haihaihai\n"
     ]
    }
   ],
   "source": [
    "x = \"hai\"\n",
    "y = \"hello\"\n",
    "print(x*3)"
   ]
  },
  {
   "cell_type": "code",
   "execution_count": 61,
   "id": "d43a905b",
   "metadata": {},
   "outputs": [
    {
     "name": "stdout",
     "output_type": "stream",
     "text": [
      "ha\n"
     ]
    }
   ],
   "source": [
    "x = \"hai\"\n",
    "y = \"hello\"\n",
    "z = x[0:2]+y[-2:0]\n",
    "print(z)"
   ]
  },
  {
   "cell_type": "code",
   "execution_count": 1,
   "id": "cd9a988d",
   "metadata": {},
   "outputs": [
    {
     "name": "stdout",
     "output_type": "stream",
     "text": [
      "hahel\n"
     ]
    }
   ],
   "source": [
    "x = \"hai\"\n",
    "y = \"hello\"\n",
    "z = x[0:2]+y[0:-2]\n",
    "print(z)"
   ]
  },
  {
   "cell_type": "code",
   "execution_count": 64,
   "id": "d6acb359",
   "metadata": {},
   "outputs": [
    {
     "name": "stdout",
     "output_type": "stream",
     "text": [
      "hah\n"
     ]
    }
   ],
   "source": [
    "x = \"hai\"\n",
    "y = \"hello\"\n",
    "z = x[0:2]+y[0:-4]\n",
    "print(z)"
   ]
  },
  {
   "cell_type": "code",
   "execution_count": 65,
   "id": "bd812f1c",
   "metadata": {},
   "outputs": [
    {
     "data": {
      "text/plain": [
       "'ome'"
      ]
     },
     "execution_count": 65,
     "metadata": {},
     "output_type": "execute_result"
    }
   ],
   "source": [
    "d=\"homepage\"\n",
    "d[1:4]"
   ]
  },
  {
   "cell_type": "code",
   "execution_count": 68,
   "id": "f1592375",
   "metadata": {},
   "outputs": [
    {
     "data": {
      "text/plain": [
       "'home'"
      ]
     },
     "execution_count": 68,
     "metadata": {},
     "output_type": "execute_result"
    }
   ],
   "source": [
    "d=\"homepage\"\n",
    "d[:-4]"
   ]
  },
  {
   "cell_type": "code",
   "execution_count": 69,
   "id": "4c0affbb",
   "metadata": {},
   "outputs": [
    {
     "data": {
      "text/plain": [
       "'homepa'"
      ]
     },
     "execution_count": 69,
     "metadata": {},
     "output_type": "execute_result"
    }
   ],
   "source": [
    "d=\"homepage\"\n",
    "d[0:-2]"
   ]
  },
  {
   "cell_type": "code",
   "execution_count": 70,
   "id": "3c5df046",
   "metadata": {},
   "outputs": [
    {
     "data": {
      "text/plain": [
       "'hmpg'"
      ]
     },
     "execution_count": 70,
     "metadata": {},
     "output_type": "execute_result"
    }
   ],
   "source": [
    "d=\"homepage\"\n",
    "d[0:8:2]"
   ]
  },
  {
   "cell_type": "code",
   "execution_count": 71,
   "id": "0a3c74ec",
   "metadata": {},
   "outputs": [
    {
     "data": {
      "text/plain": [
       "'homepa'"
      ]
     },
     "execution_count": 71,
     "metadata": {},
     "output_type": "execute_result"
    }
   ],
   "source": [
    "d=\"homepage\"\n",
    "d[0:6:1]"
   ]
  },
  {
   "cell_type": "code",
   "execution_count": 3,
   "id": "55d7ea12",
   "metadata": {},
   "outputs": [
    {
     "data": {
      "text/plain": [
       "'ome'"
      ]
     },
     "execution_count": 3,
     "metadata": {},
     "output_type": "execute_result"
    }
   ],
   "source": [
    "d=\"homepage\"\n",
    "\n",
    "d[1:4]\n",
    "\n",
    "\n",
    "\n"
   ]
  },
  {
   "cell_type": "code",
   "execution_count": 4,
   "id": "d447f009",
   "metadata": {},
   "outputs": [
    {
     "name": "stdout",
     "output_type": "stream",
     "text": [
      "hp\n"
     ]
    }
   ],
   "source": [
    "print(\"hp\")"
   ]
  },
  {
   "cell_type": "code",
   "execution_count": 6,
   "id": "ee7e803f",
   "metadata": {},
   "outputs": [
    {
     "name": "stdout",
     "output_type": "stream",
     "text": [
      "ename\n",
      "eage\n"
     ]
    }
   ],
   "source": [
    "ename=\"ramesh\"\n",
    "eage=34\n",
    "print(\"ename\")\n",
    "print(\"eage\")"
   ]
  },
  {
   "cell_type": "code",
   "execution_count": 7,
   "id": "ddfaaff5",
   "metadata": {},
   "outputs": [
    {
     "name": "stdout",
     "output_type": "stream",
     "text": [
      "daienna pandra\n"
     ]
    }
   ],
   "source": [
    "f=\"dai\"\n",
    "u=\"enna pandra\"\n",
    "print(f+u)"
   ]
  },
  {
   "cell_type": "code",
   "execution_count": 11,
   "id": "ef61160b",
   "metadata": {},
   "outputs": [
    {
     "name": "stdout",
     "output_type": "stream",
     "text": [
      "daidaidai\n"
     ]
    }
   ],
   "source": [
    "f=\"dai\"\n",
    "u=\"enna pandra\"\n",
    "print(f*3)"
   ]
  },
  {
   "cell_type": "code",
   "execution_count": 12,
   "id": "44ed4b00",
   "metadata": {},
   "outputs": [
    {
     "name": "stdout",
     "output_type": "stream",
     "text": [
      "8830.32\n"
     ]
    }
   ],
   "source": [
    "k=34\n",
    "b=8757\n",
    "c=39.32\n",
    "print (k+b+c)"
   ]
  },
  {
   "cell_type": "code",
   "execution_count": 13,
   "id": "6b83bc5e",
   "metadata": {},
   "outputs": [
    {
     "name": "stdout",
     "output_type": "stream",
     "text": [
      "8751.68\n"
     ]
    }
   ],
   "source": [
    "k=34\n",
    "b=8757\n",
    "c=39.32\n",
    "print (k+b-c)"
   ]
  },
  {
   "cell_type": "code",
   "execution_count": 14,
   "id": "0b5d5661",
   "metadata": {},
   "outputs": [
    {
     "name": "stdout",
     "output_type": "stream",
     "text": [
      "8791\n"
     ]
    }
   ],
   "source": [
    "print(k+b)"
   ]
  },
  {
   "cell_type": "code",
   "execution_count": 15,
   "id": "e3f2698e",
   "metadata": {},
   "outputs": [
    {
     "name": "stdout",
     "output_type": "stream",
     "text": [
      "8751.68\n"
     ]
    }
   ],
   "source": [
    "print(k+b-c)"
   ]
  },
  {
   "cell_type": "code",
   "execution_count": 17,
   "id": "8f37d7cf",
   "metadata": {},
   "outputs": [
    {
     "name": "stdout",
     "output_type": "stream",
     "text": [
      "14\n"
     ]
    }
   ],
   "source": [
    "k=3\n",
    "b=8\n",
    "c=3\n",
    "print (k+b+c)"
   ]
  },
  {
   "cell_type": "code",
   "execution_count": 20,
   "id": "8bea1212",
   "metadata": {},
   "outputs": [
    {
     "name": "stdout",
     "output_type": "stream",
     "text": [
      "-8\n"
     ]
    }
   ],
   "source": [
    "k=3\n",
    "b=8\n",
    "c=3\n",
    "print (k-b-c)"
   ]
  },
  {
   "cell_type": "code",
   "execution_count": 21,
   "id": "1479c817",
   "metadata": {},
   "outputs": [
    {
     "name": "stdout",
     "output_type": "stream",
     "text": [
      "5.666666666666666\n"
     ]
    }
   ],
   "source": [
    "k=3\n",
    "b=8\n",
    "c=3\n",
    "print (k+b/c)"
   ]
  },
  {
   "cell_type": "code",
   "execution_count": 22,
   "id": "3f816177",
   "metadata": {},
   "outputs": [
    {
     "name": "stdout",
     "output_type": "stream",
     "text": [
      "5\n"
     ]
    }
   ],
   "source": [
    "k=3\n",
    "b=8\n",
    "c=3\n",
    "print (k+b%c)"
   ]
  },
  {
   "cell_type": "code",
   "execution_count": 23,
   "id": "f2bca7a7",
   "metadata": {},
   "outputs": [
    {
     "name": "stdout",
     "output_type": "stream",
     "text": [
      "3\n"
     ]
    }
   ],
   "source": [
    "k=3\n",
    "b=8\n",
    "c=3\n",
    "print (k+b&c)"
   ]
  },
  {
   "cell_type": "code",
   "execution_count": 28,
   "id": "ce553d93",
   "metadata": {},
   "outputs": [
    {
     "name": "stdout",
     "output_type": "stream",
     "text": [
      "yes\n"
     ]
    }
   ],
   "source": [
    "if \"pulser 150\"in \"bajaj pulser 150 \":\n",
    "  print(\"yes\")\n",
    "else:\n",
    "  print(\"nop\")"
   ]
  },
  {
   "cell_type": "code",
   "execution_count": 30,
   "id": "3f303d1f",
   "metadata": {},
   "outputs": [
    {
     "name": "stdout",
     "output_type": "stream",
     "text": [
      "illa\n"
     ]
    }
   ],
   "source": [
    "if \"Hindustan\"in \"hindustan institute of technology and science\":\n",
    " print(\"ama\")\n",
    "else:\n",
    "    print(\"illa\")"
   ]
  },
  {
   "cell_type": "code",
   "execution_count": 33,
   "id": "39e63cc2",
   "metadata": {},
   "outputs": [
    {
     "name": "stdout",
     "output_type": "stream",
     "text": [
      "r15 nop\n"
     ]
    }
   ],
   "source": [
    "x=20\n",
    "y=30\n",
    "if x==y:\n",
    " print(\"pulser\")\n",
    "else:\n",
    " print(\"r15\",\"nop\")   "
   ]
  },
  {
   "cell_type": "code",
   "execution_count": 34,
   "id": "b9043487",
   "metadata": {},
   "outputs": [
    {
     "name": "stdout",
     "output_type": "stream",
     "text": [
      "pulser true\n"
     ]
    }
   ],
   "source": [
    "x=20\n",
    "y=20\n",
    "if x==y:\n",
    " print(\"pulser\",\"true\")\n",
    "else:\n",
    " print(\"r15\",\"nop\")   "
   ]
  },
  {
   "cell_type": "code",
   "execution_count": 36,
   "id": "4554bdad",
   "metadata": {},
   "outputs": [
    {
     "name": "stdout",
     "output_type": "stream",
     "text": [
      "r15 nop\n"
     ]
    }
   ],
   "source": [
    "x=30\n",
    "y=30\n",
    "if x!=y:\n",
    " print(\"pulser\")\n",
    "else:\n",
    " print(\"r15\",\"nop\")   "
   ]
  },
  {
   "cell_type": "code",
   "execution_count": 41,
   "id": "33fa46ef",
   "metadata": {},
   "outputs": [
    {
     "name": "stdout",
     "output_type": "stream",
     "text": [
      "illa\n"
     ]
    }
   ],
   "source": [
    "if 100 in range (50):\n",
    " print(100)\n",
    "else:\n",
    " print('illa')\n"
   ]
  },
  {
   "cell_type": "code",
   "execution_count": 1,
   "id": "ae174771",
   "metadata": {},
   "outputs": [
    {
     "name": "stdout",
     "output_type": "stream",
     "text": [
      "b grater than c\n"
     ]
    }
   ],
   "source": [
    "a = 1\n",
    "b = 2\n",
    "c = 3\n",
    "if a>b:\n",
    "  print(\"a grater than b\")\n",
    "elif b>c:    \n",
    "  print(\"b grater than c\")\n",
    "else :\n",
    "  print(\"b grater than c\")"
   ]
  },
  {
   "cell_type": "code",
   "execution_count": 25,
   "id": "b14baa05",
   "metadata": {},
   "outputs": [
    {
     "data": {
      "text/plain": [
       "'puls'"
      ]
     },
     "execution_count": 25,
     "metadata": {},
     "output_type": "execute_result"
    }
   ],
   "source": [
    "x=\"pulser 150 \"\n",
    "x[0:4]"
   ]
  },
  {
   "cell_type": "code",
   "execution_count": 65,
   "id": "86905432",
   "metadata": {},
   "outputs": [
    {
     "data": {
      "text/plain": [
       "'ser1'"
      ]
     },
     "execution_count": 65,
     "metadata": {},
     "output_type": "execute_result"
    }
   ],
   "source": [
    "x=\"pulser150\"\n",
    "x[3:7]"
   ]
  },
  {
   "cell_type": "code",
   "execution_count": 66,
   "id": "03c96f44",
   "metadata": {},
   "outputs": [
    {
     "data": {
      "text/plain": [
       "'pulse'"
      ]
     },
     "execution_count": 66,
     "metadata": {},
     "output_type": "execute_result"
    }
   ],
   "source": [
    "x=\"pulser150\"\n",
    "x[0:-4]"
   ]
  },
  {
   "cell_type": "code",
   "execution_count": 67,
   "id": "6f7b4738",
   "metadata": {},
   "outputs": [
    {
     "data": {
      "text/plain": [
       "'Name,Divyabharathi.DateOfBirth,28January1992'"
      ]
     },
     "execution_count": 67,
     "metadata": {},
     "output_type": "execute_result"
    }
   ],
   "source": [
    "x = \"Name,Divyabharathi.DateOfBirth,28January1992.Age,30years.Birthplace,\"\n",
    "x[0:-24]"
   ]
  },
  {
   "cell_type": "code",
   "execution_count": 69,
   "id": "439398db",
   "metadata": {},
   "outputs": [
    {
     "data": {
      "text/plain": [
       "',Divyabharathi.DateOfBirth,28January1992'"
      ]
     },
     "execution_count": 69,
     "metadata": {},
     "output_type": "execute_result"
    }
   ],
   "source": [
    "x = \"Name,Divyabharathi.DateOfBirth,28January1992.Age,30years.Birthplace,\"\n",
    "x[4:-24]"
   ]
  },
  {
   "cell_type": "code",
   "execution_count": 70,
   "id": "38c21ba7",
   "metadata": {},
   "outputs": [
    {
     "data": {
      "text/plain": [
       "'Name,Divyabharathi.DateOfBirth,28January1992'"
      ]
     },
     "execution_count": 70,
     "metadata": {},
     "output_type": "execute_result"
    }
   ],
   "source": [
    "x = \"Name,Divyabharathi.DateOfBirth,28January1992.Age,30years.Birthplace,\"\n",
    "x[0:-24]\n"
   ]
  },
  {
   "cell_type": "code",
   "execution_count": 77,
   "id": "9134211b",
   "metadata": {},
   "outputs": [
    {
     "data": {
      "text/plain": [
       "'hrot'"
      ]
     },
     "execution_count": 77,
     "metadata": {},
     "output_type": "execute_result"
    }
   ],
   "source": [
    "x=\"bachelorofcomputerapplication\"\n",
    "x[3:16:4]"
   ]
  },
  {
   "cell_type": "code",
   "execution_count": 93,
   "id": "5b6868d3",
   "metadata": {},
   "outputs": [
    {
     "data": {
      "text/plain": [
       "3"
      ]
     },
     "execution_count": 93,
     "metadata": {},
     "output_type": "execute_result"
    }
   ],
   "source": [
    "str1=\"bachelorofcomputerapplication\"\n",
    "str1.count(\"p\")"
   ]
  },
  {
   "cell_type": "code",
   "execution_count": 94,
   "id": "38d17649",
   "metadata": {},
   "outputs": [
    {
     "data": {
      "text/plain": [
       "39"
      ]
     },
     "execution_count": 94,
     "metadata": {},
     "output_type": "execute_result"
    }
   ],
   "source": [
    "name=\"Heeeeeeeeeeeeeeeeeeeeeeeeeeeeeeeeeeeeeeello\"\n",
    "name.count(\"e\")"
   ]
  },
  {
   "cell_type": "code",
   "execution_count": 95,
   "id": "ae067e73",
   "metadata": {},
   "outputs": [
    {
     "data": {
      "text/plain": [
       "1"
      ]
     },
     "execution_count": 95,
     "metadata": {},
     "output_type": "execute_result"
    }
   ],
   "source": [
    "name=\"Hello\"\n",
    "name.count(\"e\")"
   ]
  },
  {
   "cell_type": "code",
   "execution_count": 37,
   "id": "9be5697a",
   "metadata": {},
   "outputs": [
    {
     "name": "stdout",
     "output_type": "stream",
     "text": [
      "true\n"
     ]
    }
   ],
   "source": [
    "if 33 in range (50):\n",
    "    \n",
    " print(\"true\")\n",
    "else:\n",
    " print(\"illa\")\n",
    "    "
   ]
  },
  {
   "cell_type": "code",
   "execution_count": 108,
   "id": "b7aae377",
   "metadata": {},
   "outputs": [
    {
     "name": "stdout",
     "output_type": "stream",
     "text": [
      "False\n"
     ]
    }
   ],
   "source": [
    "x=23 in range(20)\n",
    "print(x)\n"
   ]
  },
  {
   "cell_type": "code",
   "execution_count": 111,
   "id": "b94555fe",
   "metadata": {},
   "outputs": [
    {
     "ename": "IndentationError",
     "evalue": "expected an indented block (3336091958.py, line 2)",
     "output_type": "error",
     "traceback": [
      "\u001b[1;36m  Input \u001b[1;32mIn [111]\u001b[1;36m\u001b[0m\n\u001b[1;33m    print(\"a\")\u001b[0m\n\u001b[1;37m    ^\u001b[0m\n\u001b[1;31mIndentationError\u001b[0m\u001b[1;31m:\u001b[0m expected an indented block\n"
     ]
    }
   ],
   "source": [
    "for a in \"ramesh\":\n",
    "print(\"a\")"
   ]
  },
  {
   "cell_type": "code",
   "execution_count": 2,
   "id": "cda23014",
   "metadata": {},
   "outputs": [
    {
     "ename": "TypeError",
     "evalue": "can only concatenate str (not \"int\") to str",
     "output_type": "error",
     "traceback": [
      "\u001b[1;31m---------------------------------------------------------------------------\u001b[0m",
      "\u001b[1;31mTypeError\u001b[0m                                 Traceback (most recent call last)",
      "Input \u001b[1;32mIn [2]\u001b[0m, in \u001b[0;36m<cell line: 2>\u001b[1;34m()\u001b[0m\n\u001b[0;32m      1\u001b[0m b \u001b[38;5;241m=\u001b[39m \u001b[38;5;241m0\u001b[39m\n\u001b[0;32m      2\u001b[0m \u001b[38;5;28;01mfor\u001b[39;00m a \u001b[38;5;129;01min\u001b[39;00m \u001b[38;5;124m\"\u001b[39m\u001b[38;5;124mhtop\u001b[39m\u001b[38;5;124m\"\u001b[39m:\n\u001b[1;32m----> 3\u001b[0m     \u001b[38;5;28mprint\u001b[39m(\u001b[43ma\u001b[49m\u001b[38;5;241;43m+\u001b[39;49m\u001b[43mb\u001b[49m)\n",
      "\u001b[1;31mTypeError\u001b[0m: can only concatenate str (not \"int\") to str"
     ]
    }
   ],
   "source": [
    "for a in \"htop\":\n",
    "    print(a+b)"
   ]
  },
  {
   "cell_type": "code",
   "execution_count": 114,
   "id": "3f671d16",
   "metadata": {},
   "outputs": [
    {
     "name": "stdout",
     "output_type": "stream",
     "text": [
      "r\n",
      "a\n",
      "m\n",
      "e\n",
      "s\n",
      "h\n"
     ]
    }
   ],
   "source": [
    "for a in \"ramesh\":\n",
    "   print(a)"
   ]
  },
  {
   "cell_type": "code",
   "execution_count": 4,
   "id": "a80d545e",
   "metadata": {},
   "outputs": [
    {
     "data": {
      "text/plain": [
       "True"
      ]
     },
     "execution_count": 4,
     "metadata": {},
     "output_type": "execute_result"
    }
   ],
   "source": [
    "x=\"ramesh\"\n",
    "x.islower()"
   ]
  },
  {
   "cell_type": "code",
   "execution_count": 117,
   "id": "b4b475d1",
   "metadata": {},
   "outputs": [
    {
     "data": {
      "text/plain": [
       "False"
      ]
     },
     "execution_count": 117,
     "metadata": {},
     "output_type": "execute_result"
    }
   ],
   "source": [
    "name=\"Hello\"\n",
    "name.islower()"
   ]
  },
  {
   "cell_type": "code",
   "execution_count": 118,
   "id": "55eff5d0",
   "metadata": {},
   "outputs": [
    {
     "data": {
      "text/plain": [
       "False"
      ]
     },
     "execution_count": 118,
     "metadata": {},
     "output_type": "execute_result"
    }
   ],
   "source": [
    "x=\"ramesh\"\n",
    "x.isupper()"
   ]
  },
  {
   "cell_type": "code",
   "execution_count": 121,
   "id": "c9366157",
   "metadata": {},
   "outputs": [
    {
     "data": {
      "text/plain": [
       "1"
      ]
     },
     "execution_count": 121,
     "metadata": {},
     "output_type": "execute_result"
    }
   ],
   "source": [
    "x=\"ramesh\"\n",
    "x.count(a)"
   ]
  },
  {
   "cell_type": "code",
   "execution_count": 122,
   "id": "7c8b595f",
   "metadata": {},
   "outputs": [
    {
     "data": {
      "text/plain": [
       "'ramesh'"
      ]
     },
     "execution_count": 122,
     "metadata": {},
     "output_type": "execute_result"
    }
   ],
   "source": [
    "x=\"ramesh\"\n",
    "x.format()"
   ]
  },
  {
   "cell_type": "code",
   "execution_count": 10,
   "id": "f1211fb1",
   "metadata": {},
   "outputs": [
    {
     "data": {
      "text/plain": [
       "'                                                                                                                          123.4567.895                                                                                                                         '"
      ]
     },
     "execution_count": 10,
     "metadata": {},
     "output_type": "execute_result"
    }
   ],
   "source": [
    "x=\"123.4567.895\"\n",
    "x.center(255)"
   ]
  },
  {
   "cell_type": "code",
   "execution_count": 47,
   "id": "4badfeb3",
   "metadata": {},
   "outputs": [
    {
     "data": {
      "text/plain": [
       "5"
      ]
     },
     "execution_count": 47,
     "metadata": {},
     "output_type": "execute_result"
    }
   ],
   "source": [
    "x=\"ramesh\"\n",
    "x.index(\"h\")"
   ]
  },
  {
   "cell_type": "code",
   "execution_count": 135,
   "id": "96a653d1",
   "metadata": {},
   "outputs": [
    {
     "data": {
      "text/plain": [
       "5"
      ]
     },
     "execution_count": 135,
     "metadata": {},
     "output_type": "execute_result"
    }
   ],
   "source": [
    "x=\"ramesh\"\n",
    "x.find(\"h\")\n",
    "x.index(\"h\")"
   ]
  },
  {
   "cell_type": "code",
   "execution_count": 136,
   "id": "ab8087ef",
   "metadata": {},
   "outputs": [
    {
     "data": {
      "text/plain": [
       "5"
      ]
     },
     "execution_count": 136,
     "metadata": {},
     "output_type": "execute_result"
    }
   ],
   "source": [
    "x=\"ramesh\"\n",
    "x.index(\"h\")"
   ]
  },
  {
   "cell_type": "code",
   "execution_count": 142,
   "id": "53ba6590",
   "metadata": {},
   "outputs": [
    {
     "data": {
      "text/plain": [
       "3"
      ]
     },
     "execution_count": 142,
     "metadata": {},
     "output_type": "execute_result"
    }
   ],
   "source": [
    "x=\"pulser\"\n",
    "x.index(\"s\")"
   ]
  },
  {
   "cell_type": "code",
   "execution_count": 144,
   "id": "a743fddb",
   "metadata": {},
   "outputs": [
    {
     "data": {
      "text/plain": [
       "0"
      ]
     },
     "execution_count": 144,
     "metadata": {},
     "output_type": "execute_result"
    }
   ],
   "source": [
    "x=\"pulser\"\n",
    "x.find(\"p\")"
   ]
  },
  {
   "cell_type": "code",
   "execution_count": 145,
   "id": "b05397e3",
   "metadata": {},
   "outputs": [
    {
     "data": {
      "text/plain": [
       "1"
      ]
     },
     "execution_count": 145,
     "metadata": {},
     "output_type": "execute_result"
    }
   ],
   "source": [
    "x=\"pulser\"\n",
    "x.count(\"s\")"
   ]
  },
  {
   "cell_type": "code",
   "execution_count": 146,
   "id": "ebef7565",
   "metadata": {},
   "outputs": [
    {
     "data": {
      "text/plain": [
       "['pul', 'er']"
      ]
     },
     "execution_count": 146,
     "metadata": {},
     "output_type": "execute_result"
    }
   ],
   "source": [
    "x=\"pulser\"\n",
    "x.split(\"s\")"
   ]
  },
  {
   "cell_type": "code",
   "execution_count": 147,
   "id": "66720009",
   "metadata": {},
   "outputs": [
    {
     "data": {
      "text/plain": [
       "False"
      ]
     },
     "execution_count": 147,
     "metadata": {},
     "output_type": "execute_result"
    }
   ],
   "source": [
    "x=\"pulser\"\n",
    "x.startswith(\"s\")"
   ]
  },
  {
   "cell_type": "code",
   "execution_count": 148,
   "id": "9f8d6903",
   "metadata": {},
   "outputs": [
    {
     "data": {
      "text/plain": [
       "True"
      ]
     },
     "execution_count": 148,
     "metadata": {},
     "output_type": "execute_result"
    }
   ],
   "source": [
    "x=\"pulser\"\n",
    "x.startswith(\"p\")"
   ]
  },
  {
   "cell_type": "code",
   "execution_count": null,
   "id": "df5eaaf0",
   "metadata": {},
   "outputs": [],
   "source": [
    "a = \"ramkumar\"\n",
    "a."
   ]
  },
  {
   "cell_type": "code",
   "execution_count": 3,
   "id": "d2154a93",
   "metadata": {},
   "outputs": [
    {
     "name": "stdout",
     "output_type": "stream",
     "text": [
      "<class 'list'>\n"
     ]
    }
   ],
   "source": [
    "List1 = [\"Geeks\", \"for\", \"Geeks\"]\n",
    "print(type(List1))"
   ]
  },
  {
   "cell_type": "code",
   "execution_count": 154,
   "id": "c1aabfc3",
   "metadata": {},
   "outputs": [
    {
     "name": "stdout",
     "output_type": "stream",
     "text": [
      "enter employe nameramesh\n",
      "ename\n"
     ]
    }
   ],
   "source": [
    "ename = input(\"enter employe name\")\n",
    "print(\"ename\")"
   ]
  },
  {
   "cell_type": "code",
   "execution_count": 8,
   "id": "985bbe96",
   "metadata": {},
   "outputs": [
    {
     "name": "stdout",
     "output_type": "stream",
     "text": [
      "enter name ram\n",
      "enter age 43\n",
      "enter id 34567\n",
      "ram\n",
      "43\n",
      "34567\n"
     ]
    }
   ],
   "source": [
    "empname = input(\"enter name \")\n",
    "empage =input(\"enter age \")\n",
    "empid = input(\"enter id \")\n",
    "print(empname)\n",
    "print (empage)\n",
    "print (empid)\n"
   ]
  },
  {
   "cell_type": "code",
   "execution_count": 4,
   "id": "7afa43fc",
   "metadata": {},
   "outputs": [
    {
     "name": "stdout",
     "output_type": "stream",
     "text": [
      "enter emp name  ram\n",
      "ram\n"
     ]
    }
   ],
   "source": [
    "ename=input(\"enter emp name  \")\n",
    "print(ename)"
   ]
  },
  {
   "cell_type": "code",
   "execution_count": 6,
   "id": "b00f468a",
   "metadata": {},
   "outputs": [
    {
     "name": "stdout",
     "output_type": "stream",
     "text": [
      "enter name ram\n",
      "enter age 43\n",
      "ram\n",
      "43\n"
     ]
    }
   ],
   "source": [
    "name=input(\"enter name \")\n",
    "age=input(\"enter age \")\n",
    "print(name )\n",
    "print(age )"
   ]
  },
  {
   "cell_type": "code",
   "execution_count": 12,
   "id": "b7a42295",
   "metadata": {},
   "outputs": [
    {
     "name": "stdout",
     "output_type": "stream",
     "text": [
      "enter name ram\n",
      "enter age 45\n",
      "ram\n",
      "45\n"
     ]
    }
   ],
   "source": [
    "name=input(\"enter name \")\n",
    "age=input(\"enter age \")\n",
    "print(name)\n",
    "print(age )"
   ]
  },
  {
   "cell_type": "code",
   "execution_count": 164,
   "id": "1c16243f",
   "metadata": {},
   "outputs": [
    {
     "name": "stdout",
     "output_type": "stream",
     "text": [
      "entername: ram \n",
      "enteraddress: trichy,thatingarpet,28 \n",
      "enterphoneno: 9150388374 \n",
      "enterempid: 566555\n"
     ]
    }
   ],
   "source": [
    "name = \"ramesh\"\n",
    "eaddress = \"trichy,thatingarpet,28\"\n",
    "ephoneno = 9150388374\n",
    "eid =\"566555\"\n",
    "print(\"entername:\",ename,\"\\nenteraddress:\",eaddress,\"\\nenterphoneno:\",ephoneno,\"\\nenterempid:\",eid)\n"
   ]
  },
  {
   "cell_type": "code",
   "execution_count": 167,
   "id": "7c04a1e5",
   "metadata": {},
   "outputs": [
    {
     "name": "stdout",
     "output_type": "stream",
     "text": [
      "enter name: ram \n",
      " enter age: 22\n"
     ]
    }
   ],
   "source": [
    "name = \"ram\"\n",
    "age = \"22\"\n",
    "print(\"enter name:\",ename,\"\\n enter age:\",age)"
   ]
  },
  {
   "cell_type": "code",
   "execution_count": 1,
   "id": "cd52a5a3",
   "metadata": {},
   "outputs": [
    {
     "name": "stdout",
     "output_type": "stream",
     "text": [
      "your name what?ram\n"
     ]
    }
   ],
   "source": [
    "name = input( \"your name what?\")"
   ]
  },
  {
   "cell_type": "code",
   "execution_count": 1,
   "id": "1c1a6beb",
   "metadata": {},
   "outputs": [
    {
     "name": "stdout",
     "output_type": "stream",
     "text": [
      "[12345]\n"
     ]
    }
   ],
   "source": [
    "list1 = [12345]\n",
    "print (list1)"
   ]
  },
  {
   "cell_type": "code",
   "execution_count": 39,
   "id": "b7af96db",
   "metadata": {},
   "outputs": [
    {
     "name": "stdout",
     "output_type": "stream",
     "text": [
      "['ramesh']\n"
     ]
    }
   ],
   "source": [
    "List = [\"ramesh\"]\n",
    "print(List)\n"
   ]
  },
  {
   "cell_type": "code",
   "execution_count": 4,
   "id": "0d6f71a6",
   "metadata": {},
   "outputs": [
    {
     "data": {
      "text/plain": [
       "'trac'"
      ]
     },
     "execution_count": 4,
     "metadata": {},
     "output_type": "execute_result"
    }
   ],
   "source": [
    "x=(\"traceback\")\n",
    "x[0:4]"
   ]
  },
  {
   "cell_type": "code",
   "execution_count": 6,
   "id": "45ba3720",
   "metadata": {},
   "outputs": [
    {
     "name": "stdout",
     "output_type": "stream",
     "text": [
      "enter name: jon \n",
      "enter age: 21\n"
     ]
    }
   ],
   "source": [
    "name =\"jon\"\n",
    "age = 21\n",
    "print(\"enter name:\",name,\"\\nenter age:\",age)"
   ]
  },
  {
   "cell_type": "code",
   "execution_count": 8,
   "id": "e6b2543c",
   "metadata": {},
   "outputs": [
    {
     "data": {
      "text/plain": [
       "'ace'"
      ]
     },
     "execution_count": 8,
     "metadata": {},
     "output_type": "execute_result"
    }
   ],
   "source": [
    "x=(\"traceback\")\n",
    "x[2:-4]"
   ]
  },
  {
   "cell_type": "code",
   "execution_count": 11,
   "id": "b3cf281b",
   "metadata": {},
   "outputs": [
    {
     "name": "stdout",
     "output_type": "stream",
     "text": [
      "where are you?trichy\n",
      "your nameram\n",
      "ram\n",
      "trichy\n"
     ]
    }
   ],
   "source": [
    "x = input(\"where are you?\")\n",
    "y = input(\"your name\")\n",
    "print(y)\n",
    "print(x)"
   ]
  },
  {
   "cell_type": "code",
   "execution_count": 13,
   "id": "645f0c83",
   "metadata": {},
   "outputs": [
    {
     "name": "stdout",
     "output_type": "stream",
     "text": [
      "correct\n"
     ]
    }
   ],
   "source": [
    "x = 30\n",
    "y = 30\n",
    "if x==y:\n",
    " print(\"correct\")\n",
    "else:\n",
    " print(\"rong\")"
   ]
  },
  {
   "cell_type": "code",
   "execution_count": 14,
   "id": "ab2452e2",
   "metadata": {},
   "outputs": [
    {
     "name": "stdout",
     "output_type": "stream",
     "text": [
      "rong\n"
     ]
    }
   ],
   "source": [
    "x = 30\n",
    "y = 20\n",
    "if x==y:\n",
    " print(\"correct\")\n",
    "else:\n",
    " print(\"rong\")"
   ]
  },
  {
   "cell_type": "code",
   "execution_count": 15,
   "id": "678ea86e",
   "metadata": {},
   "outputs": [
    {
     "name": "stdout",
     "output_type": "stream",
     "text": [
      "correct\n"
     ]
    }
   ],
   "source": [
    "x = 30\n",
    "y = 30\n",
    "if x==y:\n",
    " print(\"correct\")\n",
    "else:\n",
    " print(\"rong\")"
   ]
  },
  {
   "cell_type": "code",
   "execution_count": 25,
   "id": "731e76f2",
   "metadata": {},
   "outputs": [
    {
     "name": "stdout",
     "output_type": "stream",
     "text": [
      "ok\n"
     ]
    }
   ],
   "source": [
    "if 33 in range (100):\n",
    "  print(\"ok\")\n",
    "else:\n",
    "    print(\"no\")"
   ]
  },
  {
   "cell_type": "code",
   "execution_count": 30,
   "id": "29aacdd9",
   "metadata": {},
   "outputs": [
    {
     "name": "stdout",
     "output_type": "stream",
     "text": [
      "True\n"
     ]
    }
   ],
   "source": [
    "x = 21 in range (100)\n",
    "print(x)"
   ]
  },
  {
   "cell_type": "code",
   "execution_count": 32,
   "id": "d5bdefff",
   "metadata": {},
   "outputs": [
    {
     "data": {
      "text/plain": [
       "0"
      ]
     },
     "execution_count": 32,
     "metadata": {},
     "output_type": "execute_result"
    }
   ],
   "source": [
    "x=\"python\"\n",
    "x.rfind(x)"
   ]
  },
  {
   "cell_type": "code",
   "execution_count": 36,
   "id": "8228a0a3",
   "metadata": {},
   "outputs": [
    {
     "data": {
      "text/plain": [
       "['rock fort ', ' trichrapalli']"
      ]
     },
     "execution_count": 36,
     "metadata": {},
     "output_type": "execute_result"
    }
   ],
   "source": [
    "c = \"rock fort city trichrapalli\"\n",
    "c.split(\"city\")"
   ]
  },
  {
   "cell_type": "code",
   "execution_count": 3,
   "id": "27a403e2",
   "metadata": {},
   "outputs": [
    {
     "name": "stdout",
     "output_type": "stream",
     "text": [
      "[1, 'true', 'hello']\n"
     ]
    }
   ],
   "source": [
    "lst1 = [12345]\n",
    "lst2 = [1,\"true\",\"hello\"]\n",
    "print(lst2)"
   ]
  },
  {
   "cell_type": "code",
   "execution_count": 6,
   "id": "a99044a8",
   "metadata": {},
   "outputs": [
    {
     "name": "stdout",
     "output_type": "stream",
     "text": [
      "[1, 2, ['ramesh', 1, 2.3], 'false']\n"
     ]
    }
   ],
   "source": [
    "lst1 = [12345]\n",
    "lst2 = [1,\"true\",\"hello\"]\n",
    "lst3 = [1,2,[\"ramesh\",1,2.3],\"false\"]\n",
    "print(lst3)"
   ]
  },
  {
   "cell_type": "code",
   "execution_count": 10,
   "id": "58c5a480",
   "metadata": {},
   "outputs": [
    {
     "data": {
      "text/plain": [
       "[1, 'true', 'hello']"
      ]
     },
     "execution_count": 10,
     "metadata": {},
     "output_type": "execute_result"
    }
   ],
   "source": [
    "lst1 = [12345]\n",
    "lst2 = [1,\"true\",\"hello\"]\n",
    "lst3 = [1,2,[\"ramesh\",1,2.3],\"false\"]\n",
    "\n",
    "lst2[0:3]"
   ]
  },
  {
   "cell_type": "code",
   "execution_count": 11,
   "id": "25ba3d2d",
   "metadata": {},
   "outputs": [
    {
     "data": {
      "text/plain": [
       "'true'"
      ]
     },
     "execution_count": 11,
     "metadata": {},
     "output_type": "execute_result"
    }
   ],
   "source": [
    "lst1 = [12345]\n",
    "lst2 = [1,\"true\",\"hello\"]\n",
    "lst3 = [1,2,[\"ramesh\",1,2.3],\"false\"]\n",
    "\n",
    "lst2[1]"
   ]
  },
  {
   "cell_type": "code",
   "execution_count": 13,
   "id": "0886409d",
   "metadata": {},
   "outputs": [
    {
     "data": {
      "text/plain": [
       "[['ramesh', 1, 2.3], 'false']"
      ]
     },
     "execution_count": 13,
     "metadata": {},
     "output_type": "execute_result"
    }
   ],
   "source": [
    "lst1 = [12345]\n",
    "lst2 = [1,\"true\",\"hello\"]\n",
    "lst3 = [1,2,[\"ramesh\",1,2.3],\"false\"]\n",
    "\n",
    "lst3[2:4]"
   ]
  },
  {
   "cell_type": "code",
   "execution_count": 18,
   "id": "ab723439",
   "metadata": {},
   "outputs": [
    {
     "name": "stdout",
     "output_type": "stream",
     "text": [
      "[1, 2, 3, 4, 5, 1, 'true', 'hello']\n"
     ]
    }
   ],
   "source": [
    "lst1 = [1,2,3,4,5]\n",
    "lst2 = [1,\"true\",\"hello\"]\n",
    "lst3 = [1,2,[\"ramesh\",1,2.3],\"false\"]\n",
    "\n",
    "print(lst1+lst2)"
   ]
  },
  {
   "cell_type": "code",
   "execution_count": null,
   "id": "7f2c8ff2",
   "metadata": {},
   "outputs": [],
   "source": [
    "lst1 = [1,2,3,4,5]\n",
    "lst2 = [1,\"true\",\"hello\"]\n",
    "lst3 = [1,2,[\"ramesh\",1,2.3],\"false\"]\n",
    "\n",
    "print(lst1+lst2)"
   ]
  },
  {
   "cell_type": "code",
   "execution_count": 19,
   "id": "2d43c15c",
   "metadata": {},
   "outputs": [
    {
     "name": "stdout",
     "output_type": "stream",
     "text": [
      "[1, 2, 3, 1, 2, 3, 1, 2, 3]\n"
     ]
    }
   ],
   "source": [
    "a = [1,2,3]\n",
    "b=a*3\n",
    "print(b)"
   ]
  },
  {
   "cell_type": "code",
   "execution_count": 20,
   "id": "2374e65b",
   "metadata": {},
   "outputs": [
    {
     "name": "stdout",
     "output_type": "stream",
     "text": [
      "[1, 2, 5]\n"
     ]
    }
   ],
   "source": [
    "a = [1,2,3]\n",
    "a[2] = 5\n",
    "print(a)"
   ]
  },
  {
   "cell_type": "code",
   "execution_count": 22,
   "id": "a3719d92",
   "metadata": {},
   "outputs": [
    {
     "ename": "TypeError",
     "evalue": "'str' object does not support item assignment",
     "output_type": "error",
     "traceback": [
      "\u001b[1;31m---------------------------------------------------------------------------\u001b[0m",
      "\u001b[1;31mTypeError\u001b[0m                                 Traceback (most recent call last)",
      "Input \u001b[1;32mIn [22]\u001b[0m, in \u001b[0;36m<cell line: 2>\u001b[1;34m()\u001b[0m\n\u001b[0;32m      1\u001b[0m str1 \u001b[38;5;241m=\u001b[39m \u001b[38;5;124m\"\u001b[39m\u001b[38;5;124mhello\u001b[39m\u001b[38;5;124m\"\u001b[39m\n\u001b[1;32m----> 2\u001b[0m str1[\u001b[38;5;241m0\u001b[39m] \u001b[38;5;241m=\u001b[39m \u001b[38;5;124m\"\u001b[39m\u001b[38;5;124me\u001b[39m\u001b[38;5;124m\"\u001b[39m\n\u001b[0;32m      3\u001b[0m \u001b[38;5;28mprint\u001b[39m(str1)\n",
      "\u001b[1;31mTypeError\u001b[0m: 'str' object does not support item assignment"
     ]
    }
   ],
   "source": [
    "str1 = \"hello\"\n",
    "str1[0] = \"\"\n",
    "print(str1)"
   ]
  },
  {
   "cell_type": "code",
   "execution_count": 27,
   "id": "c17bc275",
   "metadata": {},
   "outputs": [
    {
     "data": {
      "text/plain": [
       "3"
      ]
     },
     "execution_count": 27,
     "metadata": {},
     "output_type": "execute_result"
    }
   ],
   "source": [
    "a = [1,2,3]\n",
    "a.pop()\n"
   ]
  },
  {
   "cell_type": "code",
   "execution_count": 28,
   "id": "79fb5c82",
   "metadata": {},
   "outputs": [
    {
     "name": "stdout",
     "output_type": "stream",
     "text": [
      "[1, 2]\n"
     ]
    }
   ],
   "source": [
    "print(a)"
   ]
  },
  {
   "cell_type": "code",
   "execution_count": 34,
   "id": "e1dd1031",
   "metadata": {},
   "outputs": [
    {
     "data": {
      "text/plain": [
       "'ramesh'"
      ]
     },
     "execution_count": 34,
     "metadata": {},
     "output_type": "execute_result"
    }
   ],
   "source": [
    "a = [\"ramesh\"]\n",
    "a.pop()\n",
    "\n"
   ]
  },
  {
   "cell_type": "code",
   "execution_count": 36,
   "id": "77bef1ab",
   "metadata": {},
   "outputs": [
    {
     "name": "stdout",
     "output_type": "stream",
     "text": [
      "['ramesh', 'ram']\n"
     ]
    }
   ],
   "source": [
    "a = [\"ramesh\",\"ram\",[1,2,3]]\n",
    "a.pop()\n",
    "print(a)\n"
   ]
  },
  {
   "cell_type": "code",
   "execution_count": 42,
   "id": "8cc1dd4f",
   "metadata": {},
   "outputs": [
    {
     "data": {
      "text/plain": [
       "'ramesh'"
      ]
     },
     "execution_count": 42,
     "metadata": {},
     "output_type": "execute_result"
    }
   ],
   "source": [
    "a = [\"ramesh\",\"ram\",\"print\"]\n",
    "a.pop(0)\n"
   ]
  },
  {
   "cell_type": "code",
   "execution_count": 43,
   "id": "4b75df6b",
   "metadata": {},
   "outputs": [
    {
     "data": {
      "text/plain": [
       "'ram'"
      ]
     },
     "execution_count": 43,
     "metadata": {},
     "output_type": "execute_result"
    }
   ],
   "source": [
    "a = [\"ramesh\",\"ram\",\"print\"]\n",
    "a.pop(1)\n"
   ]
  },
  {
   "cell_type": "code",
   "execution_count": 44,
   "id": "55fd8ec1",
   "metadata": {},
   "outputs": [
    {
     "data": {
      "text/plain": [
       "'print'"
      ]
     },
     "execution_count": 44,
     "metadata": {},
     "output_type": "execute_result"
    }
   ],
   "source": [
    "a = [\"ramesh\",\"ram\",\"print\"]\n",
    "a.pop(2)\n"
   ]
  },
  {
   "cell_type": "code",
   "execution_count": 48,
   "id": "c9df564e",
   "metadata": {},
   "outputs": [
    {
     "name": "stdout",
     "output_type": "stream",
     "text": [
      "[]\n"
     ]
    }
   ],
   "source": [
    "a = [\"ramesh\",\"ram\",\"print\"]\n",
    "a.clear()\n",
    "print(a)\n",
    "\n"
   ]
  },
  {
   "cell_type": "code",
   "execution_count": 50,
   "id": "89c39b59",
   "metadata": {},
   "outputs": [
    {
     "name": "stdout",
     "output_type": "stream",
     "text": [
      "[]\n",
      "['jon', 'don']\n"
     ]
    }
   ],
   "source": [
    "a = [\"ramesh\",\"ram\",\"print\"]\n",
    "b = [\"jon\",\"don\"]\n",
    "a.clear()\n",
    "print(a)\n",
    "print(b)\n",
    "\n"
   ]
  },
  {
   "cell_type": "code",
   "execution_count": 55,
   "id": "10530868",
   "metadata": {},
   "outputs": [
    {
     "name": "stdout",
     "output_type": "stream",
     "text": [
      "['ramesh', 'print']\n"
     ]
    }
   ],
   "source": [
    "a = [\"ramesh\",\"print\"]\n",
    "lst1 = []\n",
    "lst1=a.copy()\n",
    "print(lst1)"
   ]
  },
  {
   "cell_type": "code",
   "execution_count": 75,
   "id": "10d8f970",
   "metadata": {},
   "outputs": [
    {
     "data": {
      "text/plain": [
       "3"
      ]
     },
     "execution_count": 75,
     "metadata": {},
     "output_type": "execute_result"
    }
   ],
   "source": [
    "x = [1,2,3,2,2,4,5,6,7,8]\n",
    "x.count(2)\n"
   ]
  },
  {
   "cell_type": "code",
   "execution_count": 76,
   "id": "9b160de2",
   "metadata": {},
   "outputs": [
    {
     "data": {
      "text/plain": [
       "2"
      ]
     },
     "execution_count": 76,
     "metadata": {},
     "output_type": "execute_result"
    }
   ],
   "source": [
    "y = [\"dai\",\"hai\",\"hai\"]\n",
    "y.count(\"hai\")"
   ]
  },
  {
   "cell_type": "code",
   "execution_count": 78,
   "id": "800bd144",
   "metadata": {},
   "outputs": [
    {
     "name": "stdout",
     "output_type": "stream",
     "text": [
      "['hai', 'sir', 'goodmorning', 'dai']\n"
     ]
    }
   ],
   "source": [
    "a = [\"hai\",\"sir\"]\n",
    "a.insert(2,\"goodmorning\")\n",
    "a.insert(3,\"dai\")\n",
    "print(a)"
   ]
  },
  {
   "cell_type": "code",
   "execution_count": 73,
   "id": "2d3cbd8c",
   "metadata": {},
   "outputs": [],
   "source": [
    "a = [\"hai\",\"sir\"]\n",
    "a.insert(1, \"world\")"
   ]
  },
  {
   "cell_type": "code",
   "execution_count": 90,
   "id": "e66d4d8f",
   "metadata": {},
   "outputs": [
    {
     "data": {
      "text/plain": [
       "['hai', 'world', 'sir']"
      ]
     },
     "execution_count": 90,
     "metadata": {},
     "output_type": "execute_result"
    }
   ],
   "source": [
    "a"
   ]
  },
  {
   "cell_type": "code",
   "execution_count": 93,
   "id": "2495e67f",
   "metadata": {},
   "outputs": [
    {
     "name": "stdout",
     "output_type": "stream",
     "text": [
      "['hai', 'sir', 'goodmorning']\n"
     ]
    }
   ],
   "source": [
    "a = [\"hai\",\"sir\"]\n",
    "a.insert(2,\"goodmorning\")\n",
    "print(a)"
   ]
  },
  {
   "cell_type": "code",
   "execution_count": 94,
   "id": "8281f297",
   "metadata": {},
   "outputs": [],
   "source": [
    "a = [\"hai\",\"sir\"]\n",
    "a.remove(\"sir\")"
   ]
  },
  {
   "cell_type": "code",
   "execution_count": 95,
   "id": "a3c4b11b",
   "metadata": {},
   "outputs": [
    {
     "data": {
      "text/plain": [
       "['hai']"
      ]
     },
     "execution_count": 95,
     "metadata": {},
     "output_type": "execute_result"
    }
   ],
   "source": [
    "a"
   ]
  },
  {
   "cell_type": "code",
   "execution_count": 97,
   "id": "7075abe4",
   "metadata": {},
   "outputs": [
    {
     "data": {
      "text/plain": [
       "'sir'"
      ]
     },
     "execution_count": 97,
     "metadata": {},
     "output_type": "execute_result"
    }
   ],
   "source": [
    "a = [\"hai\",\"sir\"]\n",
    "a.pop(1)"
   ]
  },
  {
   "cell_type": "code",
   "execution_count": 104,
   "id": "2c1a202a",
   "metadata": {},
   "outputs": [
    {
     "name": "stdout",
     "output_type": "stream",
     "text": [
      "None\n"
     ]
    }
   ],
   "source": [
    "x = [1,2,3,4]\n",
    "y = [5,6]\n",
    "y = y.extend(x)\n",
    "print(y)"
   ]
  },
  {
   "cell_type": "code",
   "execution_count": 107,
   "id": "1ff0d316",
   "metadata": {},
   "outputs": [
    {
     "name": "stdout",
     "output_type": "stream",
     "text": [
      "[5, 6, 1, 2, 3, 4, 1, 2, 3, 4, 1, 2, 3, 4]\n"
     ]
    }
   ],
   "source": [
    "x = [1,2,3,4]\n",
    "x = y.extend(x)\n",
    "print(x)"
   ]
  },
  {
   "cell_type": "code",
   "execution_count": 114,
   "id": "364b9e57",
   "metadata": {},
   "outputs": [
    {
     "name": "stdout",
     "output_type": "stream",
     "text": [
      "[1, 2, 3, 4, 5, 6]\n"
     ]
    }
   ],
   "source": [
    "lst1 = [1,2,3,4]\n",
    "lst2 = [5,6]\n",
    "lst1.extend(lst2)\n",
    "print(lst1)"
   ]
  },
  {
   "cell_type": "code",
   "execution_count": 116,
   "id": "8fce4ac5",
   "metadata": {},
   "outputs": [
    {
     "name": "stdout",
     "output_type": "stream",
     "text": [
      "['hai', 'da']\n"
     ]
    }
   ],
   "source": [
    "lst1 = [\"hai\"]\n",
    "lst2 = [\"da\"]\n",
    "lst1.extend(lst2)\n",
    "print(lst1)"
   ]
  },
  {
   "cell_type": "code",
   "execution_count": 117,
   "id": "44aae056",
   "metadata": {},
   "outputs": [],
   "source": [
    "str1 = \"welcome\""
   ]
  },
  {
   "cell_type": "code",
   "execution_count": 118,
   "id": "0f0b1280",
   "metadata": {},
   "outputs": [],
   "source": [
    "lst1 = []"
   ]
  },
  {
   "cell_type": "code",
   "execution_count": 2,
   "id": "c1a121f2",
   "metadata": {},
   "outputs": [
    {
     "name": "stdout",
     "output_type": "stream",
     "text": [
      "['ramesh', 'ram', 'hon', 1, 2, 3, ['htop', 1.5], 'python']\n"
     ]
    }
   ],
   "source": [
    "lst1 = [\"ramesh\",\"ram\",\"hon\"]\n",
    "lst2 = [1,2,3,[\"htop\",1.5],\"python\"]\n",
    "print(lst1+lst2)"
   ]
  },
  {
   "cell_type": "code",
   "execution_count": 7,
   "id": "626b899c",
   "metadata": {},
   "outputs": [
    {
     "name": "stdout",
     "output_type": "stream",
     "text": [
      "['ramesh', 'ram', 'hon', 'ramesh', 'ram', 'hon']\n"
     ]
    }
   ],
   "source": [
    "lst1 = [\"ramesh\",\"ram\",\"hon\"]\n",
    "lst2 = [1,2,3,[\"htop\",1.5],\"python\"]\n",
    "print(lst1*2)"
   ]
  },
  {
   "cell_type": "code",
   "execution_count": 8,
   "id": "9f73b9bb",
   "metadata": {},
   "outputs": [
    {
     "data": {
      "text/plain": [
       "'hon'"
      ]
     },
     "execution_count": 8,
     "metadata": {},
     "output_type": "execute_result"
    }
   ],
   "source": [
    "lst1 = [\"ramesh\",\"ram\",\"hon\"]\n",
    "lst1.pop()"
   ]
  },
  {
   "cell_type": "code",
   "execution_count": 10,
   "id": "99fd222a",
   "metadata": {},
   "outputs": [
    {
     "data": {
      "text/plain": [
       "'ram'"
      ]
     },
     "execution_count": 10,
     "metadata": {},
     "output_type": "execute_result"
    }
   ],
   "source": [
    "lst1 = [\"ramesh\",\"ram\",\"hon\"]\n",
    "lst1.pop(1)"
   ]
  },
  {
   "cell_type": "code",
   "execution_count": 17,
   "id": "b406390b",
   "metadata": {},
   "outputs": [
    {
     "name": "stdout",
     "output_type": "stream",
     "text": [
      "['ramesh', 'hon']\n"
     ]
    }
   ],
   "source": [
    "lst1 = [\"ramesh\",\"ram\",\"hon\"]\n",
    "lst1.remove(\"ram\")\n",
    "print(lst1)"
   ]
  },
  {
   "cell_type": "code",
   "execution_count": 23,
   "id": "44277413",
   "metadata": {},
   "outputs": [
    {
     "name": "stdout",
     "output_type": "stream",
     "text": [
      "['ramesh', 'ram', 'hon', 'ramesh', 'ram', 'hon']\n"
     ]
    }
   ],
   "source": [
    "lst1 = [\"ramesh\",\"ram\",\"hon\"]\n",
    "lst2 = [1,2,3,[\"htop\",1.5],\"python\"]\n",
    "lst1.extend (lst1)\n",
    "print(lst1)\n"
   ]
  },
  {
   "cell_type": "code",
   "execution_count": 2,
   "id": "cba89841",
   "metadata": {},
   "outputs": [
    {
     "name": "stdout",
     "output_type": "stream",
     "text": [
      "['you', [1, 2.4], 'i']\n"
     ]
    }
   ],
   "source": [
    "x = [\"ram\"]\n",
    "y = [\"you\",[1,2.4],\"i\"]\n",
    "x.extend(y)\n",
    "print(y)"
   ]
  },
  {
   "cell_type": "code",
   "execution_count": 3,
   "id": "ed11c89b",
   "metadata": {},
   "outputs": [
    {
     "name": "stdout",
     "output_type": "stream",
     "text": [
      "['ram', 'you', [1, 2.4], 'i']\n"
     ]
    }
   ],
   "source": [
    "print(x)"
   ]
  },
  {
   "cell_type": "code",
   "execution_count": 29,
   "id": "3ea201be",
   "metadata": {},
   "outputs": [
    {
     "name": "stdout",
     "output_type": "stream",
     "text": [
      "['ramesh', 'ram', 'hon', 'python']\n"
     ]
    }
   ],
   "source": [
    "lst1 = [\"ramesh\",\"ram\",\"hon\"]\n",
    "lst1.insert(3,\"python\")\n",
    "print(lst1)"
   ]
  },
  {
   "cell_type": "code",
   "execution_count": 31,
   "id": "7a12529f",
   "metadata": {},
   "outputs": [
    {
     "name": "stdout",
     "output_type": "stream",
     "text": [
      "['ramesh', 'ram']\n"
     ]
    }
   ],
   "source": [
    "lst1 = [\"ramesh\",\"ram\",\"hon\"]\n",
    "lst1.remove(\"hon\")\n",
    "print(lst1)"
   ]
  },
  {
   "cell_type": "code",
   "execution_count": 35,
   "id": "e9a8b4dc",
   "metadata": {},
   "outputs": [
    {
     "data": {
      "text/plain": [
       "2"
      ]
     },
     "execution_count": 35,
     "metadata": {},
     "output_type": "execute_result"
    }
   ],
   "source": [
    "lst1 = [\"ramesh\",\"ram\",\"hon\"]\n",
    "lst1.index(\"hon\")\n"
   ]
  },
  {
   "cell_type": "code",
   "execution_count": 34,
   "id": "a4e962ad",
   "metadata": {},
   "outputs": [
    {
     "data": {
      "text/plain": [
       "1"
      ]
     },
     "execution_count": 34,
     "metadata": {},
     "output_type": "execute_result"
    }
   ],
   "source": [
    "lst1 = [\"ramesh\",\"ram\",\"hon\"]\n",
    "lst1.count(\"hon\")\n"
   ]
  },
  {
   "cell_type": "code",
   "execution_count": 36,
   "id": "401921ad",
   "metadata": {},
   "outputs": [
    {
     "data": {
      "text/plain": [
       "3"
      ]
     },
     "execution_count": 36,
     "metadata": {},
     "output_type": "execute_result"
    }
   ],
   "source": [
    "lst1 = [\"ramesh\",\"ram\",\"hon\",\"hon\",\"hon\"]\n",
    "lst1.count(\"hon\")\n"
   ]
  },
  {
   "cell_type": "code",
   "execution_count": 40,
   "id": "1fefc4c4",
   "metadata": {},
   "outputs": [
    {
     "name": "stdout",
     "output_type": "stream",
     "text": [
      "['ramesh', 'ram', 'hon', 'hon']\n"
     ]
    }
   ],
   "source": [
    "lst1 = [\"ramesh\",\"ram\",\"hon\"]\n",
    "lst1.append(\"hon\")\n",
    "print(lst1)\n"
   ]
  },
  {
   "cell_type": "code",
   "execution_count": 46,
   "id": "2d6de57a",
   "metadata": {},
   "outputs": [
    {
     "name": "stdout",
     "output_type": "stream",
     "text": [
      "[]\n"
     ]
    }
   ],
   "source": [
    "lst1 = [\"ramesh\",\"ram\",\"hon\"]\n",
    "lst1.clear()\n",
    "print(lst1)"
   ]
  },
  {
   "cell_type": "code",
   "execution_count": 66,
   "id": "84806413",
   "metadata": {},
   "outputs": [
    {
     "data": {
      "text/plain": [
       "['ramesh', 'ram', 'hon']"
      ]
     },
     "execution_count": 66,
     "metadata": {},
     "output_type": "execute_result"
    }
   ],
   "source": [
    "lst1 = [\"ramesh\",\"ram\",\"hon\"]\n",
    "\n",
    "lst1.copy ()\n"
   ]
  },
  {
   "cell_type": "code",
   "execution_count": 57,
   "id": "0839eca9",
   "metadata": {},
   "outputs": [
    {
     "name": "stdout",
     "output_type": "stream",
     "text": [
      "['hon', 'ram', 'ramesh']\n"
     ]
    }
   ],
   "source": [
    "lst1 = [\"ramesh\",\"ram\",\"hon\"]\n",
    "lst1.reverse()\n",
    "print(lst1)"
   ]
  },
  {
   "cell_type": "code",
   "execution_count": 58,
   "id": "b4a4177a",
   "metadata": {},
   "outputs": [
    {
     "name": "stdout",
     "output_type": "stream",
     "text": [
      "[1, 2, 3, 4, 5, 6, 7, 8, 9, 0]\n"
     ]
    }
   ],
   "source": [
    "lst1 = [0,9,8,7,6,5,4,3,2,1]\n",
    "lst1.reverse()\n",
    "print(lst1)"
   ]
  },
  {
   "cell_type": "code",
   "execution_count": 65,
   "id": "7aed8b3e",
   "metadata": {},
   "outputs": [
    {
     "data": {
      "text/plain": [
       "['hon', 'ram', 'ramesh']"
      ]
     },
     "execution_count": 65,
     "metadata": {},
     "output_type": "execute_result"
    }
   ],
   "source": [
    "lst1 = [\"ramesh\",\"ram\",\"hon\"]\n",
    "lst1.()\n",
    "lst1\n"
   ]
  },
  {
   "cell_type": "code",
   "execution_count": 79,
   "id": "298502b7",
   "metadata": {},
   "outputs": [
    {
     "name": "stdout",
     "output_type": "stream",
     "text": [
      "['hindustan', 'university ']\n"
     ]
    }
   ],
   "source": [
    "x =[\"hindustan\"]\n",
    "y = [\"university \"]\n",
    "x.extend(y)\n",
    "print(x)"
   ]
  },
  {
   "cell_type": "code",
   "execution_count": 87,
   "id": "012d17d2",
   "metadata": {},
   "outputs": [
    {
     "name": "stdout",
     "output_type": "stream",
     "text": [
      "12\n"
     ]
    }
   ],
   "source": [
    "x= 6\n",
    "y= 6\n",
    "print(x+y)"
   ]
  },
  {
   "cell_type": "code",
   "execution_count": 1,
   "id": "c26dccef",
   "metadata": {},
   "outputs": [
    {
     "data": {
      "text/plain": [
       "'jon'"
      ]
     },
     "execution_count": 1,
     "metadata": {},
     "output_type": "execute_result"
    }
   ],
   "source": [
    "lst1 = [\"ram\",\"dai\",\"jon\"]\n",
    "lst1.pop()"
   ]
  },
  {
   "cell_type": "code",
   "execution_count": 6,
   "id": "461700c5",
   "metadata": {},
   "outputs": [
    {
     "name": "stdout",
     "output_type": "stream",
     "text": [
      "['ram', 'jon']\n"
     ]
    }
   ],
   "source": [
    "lst1 = [\"ram\",\"dai\",\"jon\"]\n",
    "lst1.remove(\"dai\")\n",
    "print(lst1)"
   ]
  },
  {
   "cell_type": "code",
   "execution_count": 8,
   "id": "6723fd2a",
   "metadata": {},
   "outputs": [
    {
     "name": "stdout",
     "output_type": "stream",
     "text": [
      "['ram', 'dai', 'jon', 'ramesh', 'aim', 'jony']\n"
     ]
    }
   ],
   "source": [
    "lst1 = [\"ram\",\"dai\",\"jon\"]\n",
    "lst2 = [\"ramesh\",\"aim\",\"jony\"]\n",
    "lst1.extend(lst2)\n",
    "print(lst1)"
   ]
  },
  {
   "cell_type": "code",
   "execution_count": 10,
   "id": "326628b1",
   "metadata": {},
   "outputs": [
    {
     "name": "stdout",
     "output_type": "stream",
     "text": [
      "['ram', 'dai', 'jon', 'hai']\n"
     ]
    }
   ],
   "source": [
    "lst1 = [\"ram\",\"dai\",\"jon\"]\n",
    "lst1.insert(4,\"hai\")\n",
    "print(lst1)"
   ]
  },
  {
   "cell_type": "code",
   "execution_count": 11,
   "id": "d75e1fb6",
   "metadata": {},
   "outputs": [
    {
     "name": "stdout",
     "output_type": "stream",
     "text": [
      "['jon', 'dai', 'ram']\n"
     ]
    }
   ],
   "source": [
    "lst1 = [\"ram\",\"dai\",\"jon\"]\n",
    "\n",
    "lst1.reverse()\n",
    "print(lst1)"
   ]
  },
  {
   "cell_type": "code",
   "execution_count": 16,
   "id": "3e54d25d",
   "metadata": {},
   "outputs": [
    {
     "data": {
      "text/plain": [
       "5"
      ]
     },
     "execution_count": 16,
     "metadata": {},
     "output_type": "execute_result"
    }
   ],
   "source": [
    "lst1 = [\"ram\",\"dai\",\"jon\",1,1,1,1,1,]\n",
    "\n",
    "lst1.count(1)"
   ]
  },
  {
   "cell_type": "code",
   "execution_count": 17,
   "id": "dfde5cfd",
   "metadata": {},
   "outputs": [
    {
     "name": "stdout",
     "output_type": "stream",
     "text": [
      "{'k1': 'ramesh', 'k2': 132, 'k3': 9.2}\n"
     ]
    }
   ],
   "source": [
    "dict1 = {'k1':\"ramesh\",'k2':132,'k3':9.20}\n",
    "print(dict1)"
   ]
  },
  {
   "cell_type": "code",
   "execution_count": 21,
   "id": "c6e42236",
   "metadata": {},
   "outputs": [
    {
     "data": {
      "text/plain": [
       "dict_keys(['k1', 'k2', 'k3'])"
      ]
     },
     "execution_count": 21,
     "metadata": {},
     "output_type": "execute_result"
    }
   ],
   "source": [
    "dict1 = {'k1':\"ramesh\",'k2':132,'k3':9.20}\n",
    "dict1.keys()"
   ]
  },
  {
   "cell_type": "code",
   "execution_count": 23,
   "id": "b02327c2",
   "metadata": {},
   "outputs": [
    {
     "data": {
      "text/plain": [
       "dict_values(['ramesh', 132, 9.2])"
      ]
     },
     "execution_count": 23,
     "metadata": {},
     "output_type": "execute_result"
    }
   ],
   "source": [
    "dict1 = {'k1':\"ramesh\",'k2':132,'k3':9.20}\n",
    "dict1.values()"
   ]
  },
  {
   "cell_type": "code",
   "execution_count": 26,
   "id": "39fa55ac",
   "metadata": {},
   "outputs": [
    {
     "name": "stdout",
     "output_type": "stream",
     "text": [
      "{'k1': 'ramesh', 'k2': 132, 'k3': 9.2, 'k4': 'python'}\n"
     ]
    }
   ],
   "source": [
    "dict1 = {'k1':\"ramesh\",'k2':132,'k3':9.20}\n",
    "dict1.update({'k4':\"python\"})\n",
    "print(dict1)"
   ]
  },
  {
   "cell_type": "code",
   "execution_count": 28,
   "id": "95d733bc",
   "metadata": {},
   "outputs": [
    {
     "data": {
      "text/plain": [
       "'ramesh'"
      ]
     },
     "execution_count": 28,
     "metadata": {},
     "output_type": "execute_result"
    }
   ],
   "source": [
    "dict1 = {'k1':\"ramesh\",'k2':132,'k3':9.20}\n",
    "dict1.get('k1')\n"
   ]
  },
  {
   "cell_type": "code",
   "execution_count": 29,
   "id": "bac62024",
   "metadata": {},
   "outputs": [
    {
     "data": {
      "text/plain": [
       "'ramesh'"
      ]
     },
     "execution_count": 29,
     "metadata": {},
     "output_type": "execute_result"
    }
   ],
   "source": [
    "dict1['k1']"
   ]
  },
  {
   "cell_type": "code",
   "execution_count": 31,
   "id": "86faa663",
   "metadata": {},
   "outputs": [],
   "source": [
    "dict1['k1'] = \"hai\""
   ]
  },
  {
   "cell_type": "code",
   "execution_count": 32,
   "id": "f8f476a5",
   "metadata": {},
   "outputs": [
    {
     "data": {
      "text/plain": [
       "'hai'"
      ]
     },
     "execution_count": 32,
     "metadata": {},
     "output_type": "execute_result"
    }
   ],
   "source": [
    "dict1['k1']"
   ]
  },
  {
   "cell_type": "code",
   "execution_count": 4,
   "id": "3af11b22",
   "metadata": {},
   "outputs": [
    {
     "name": "stdout",
     "output_type": "stream",
     "text": [
      "{'k1': 'nandhu'}\n"
     ]
    }
   ],
   "source": [
    "dict1 = {'k1':\"nandhu\",'k2':\"hai\"}\n",
    "dict1.pop('k2')\n",
    "print(dict1)"
   ]
  },
  {
   "cell_type": "code",
   "execution_count": 7,
   "id": "09c5da86",
   "metadata": {},
   "outputs": [
    {
     "ename": "IndentationError",
     "evalue": "expected an indented block (1255628405.py, line 1)",
     "output_type": "error",
     "traceback": [
      "\u001b[1;36m  Input \u001b[1;32mIn [7]\u001b[1;36m\u001b[0m\n\u001b[1;33m    for a in dict1:\u001b[0m\n\u001b[1;37m                   ^\u001b[0m\n\u001b[1;31mIndentationError\u001b[0m\u001b[1;31m:\u001b[0m expected an indented block\n"
     ]
    }
   ],
   "source": [
    "for a in dict1:"
   ]
  },
  {
   "cell_type": "code",
   "execution_count": 8,
   "id": "bd24efec",
   "metadata": {},
   "outputs": [
    {
     "name": "stdout",
     "output_type": "stream",
     "text": [
      "k1\n",
      "k2\n"
     ]
    }
   ],
   "source": [
    "\n",
    "dict1 = {'k1':\"nandhu\",'k2':\"hai\"}\n",
    "for x in dict1.keys():\n",
    "    print(x)"
   ]
  },
  {
   "cell_type": "code",
   "execution_count": 9,
   "id": "9be96a69",
   "metadata": {},
   "outputs": [
    {
     "name": "stdout",
     "output_type": "stream",
     "text": [
      "nandhu\n",
      "hai\n"
     ]
    }
   ],
   "source": [
    "dict1 = {'k1':\"nandhu\",'k2':\"hai\"}\n",
    "for x in dict1.values():\n",
    "    print(x)"
   ]
  },
  {
   "cell_type": "code",
   "execution_count": 39,
   "id": "465fbdc7",
   "metadata": {},
   "outputs": [
    {
     "name": "stdout",
     "output_type": "stream",
     "text": [
      "k1 nandhu\n",
      "k2 hai\n"
     ]
    }
   ],
   "source": [
    "dict1 = {'k1':\"nandhu\",'k2':\"hai\"}\n",
    "for k,v in dict1.items():\n",
    "    print(k,v)"
   ]
  },
  {
   "cell_type": "code",
   "execution_count": 40,
   "id": "dcc79c0e",
   "metadata": {},
   "outputs": [
    {
     "data": {
      "text/plain": [
       "2"
      ]
     },
     "execution_count": 40,
     "metadata": {},
     "output_type": "execute_result"
    }
   ],
   "source": [
    "dict1 = {'k1':\"nandhu\",'k2':\"hai\"}\n",
    "len(dict1)"
   ]
  },
  {
   "cell_type": "code",
   "execution_count": 41,
   "id": "f7b28e65",
   "metadata": {},
   "outputs": [
    {
     "data": {
      "text/plain": [
       "dict"
      ]
     },
     "execution_count": 41,
     "metadata": {},
     "output_type": "execute_result"
    }
   ],
   "source": [
    "dict1 = {'k1':\"nandhu\",'k2':\"hai\"}\n",
    "type(dict1)"
   ]
  },
  {
   "cell_type": "code",
   "execution_count": 44,
   "id": "30e217f8",
   "metadata": {},
   "outputs": [
    {
     "data": {
      "text/plain": [
       "dict"
      ]
     },
     "execution_count": 44,
     "metadata": {},
     "output_type": "execute_result"
    }
   ],
   "source": [
    "dict1 = {'k1':\"nandhu\",'k2':\"hai\"}\n",
    "type(dict1)"
   ]
  },
  {
   "cell_type": "code",
   "execution_count": 45,
   "id": "e3c68551",
   "metadata": {},
   "outputs": [],
   "source": [
    "dict1 = {'k1':20,'k2':[1,3,5]}\n"
   ]
  },
  {
   "cell_type": "code",
   "execution_count": 47,
   "id": "ca255894",
   "metadata": {},
   "outputs": [
    {
     "data": {
      "text/plain": [
       "[1, 3, 5]"
      ]
     },
     "execution_count": 47,
     "metadata": {},
     "output_type": "execute_result"
    }
   ],
   "source": [
    "dict1['k2']"
   ]
  },
  {
   "cell_type": "code",
   "execution_count": 48,
   "id": "dfe81ef4",
   "metadata": {},
   "outputs": [
    {
     "data": {
      "text/plain": [
       "3"
      ]
     },
     "execution_count": 48,
     "metadata": {},
     "output_type": "execute_result"
    }
   ],
   "source": [
    "dict1['k2'][1]"
   ]
  },
  {
   "cell_type": "code",
   "execution_count": 54,
   "id": "d149e35b",
   "metadata": {},
   "outputs": [
    {
     "name": "stdout",
     "output_type": "stream",
     "text": [
      "{'k1': 20, 'k2': [1, 'hai', 'hai']}\n"
     ]
    }
   ],
   "source": [
    "dict1['k2'][1] = \"hai\"\n",
    "print(dict1)"
   ]
  },
  {
   "cell_type": "code",
   "execution_count": 55,
   "id": "d20c332d",
   "metadata": {},
   "outputs": [
    {
     "name": "stdout",
     "output_type": "stream",
     "text": [
      "{'k1': 20, 'k2': [1, 'hai', 5]}\n"
     ]
    }
   ],
   "source": [
    "dict1 = {'k1':20,'k2':[1,3,5]}\n",
    "dict1['k2'][1] = \"hai\"\n",
    "print(dict1)"
   ]
  },
  {
   "cell_type": "code",
   "execution_count": 56,
   "id": "c5aed6d6",
   "metadata": {},
   "outputs": [
    {
     "name": "stdout",
     "output_type": "stream",
     "text": [
      "{'k1': 20, 'k2': [1, 3, 'hai']}\n"
     ]
    }
   ],
   "source": [
    "dict1 = {'k1':20,'k2':[1,3,5]}\n",
    "dict1['k2'][2] = \"hai\"\n",
    "print(dict1)"
   ]
  },
  {
   "cell_type": "code",
   "execution_count": 64,
   "id": "19bf5bd4",
   "metadata": {},
   "outputs": [],
   "source": [
    "dict1 = {'k1':\"hello\",'k2':{\"k3\":[2,30,23]}}\n",
    "         "
   ]
  },
  {
   "cell_type": "code",
   "execution_count": 65,
   "id": "17674c4b",
   "metadata": {},
   "outputs": [
    {
     "data": {
      "text/plain": [
       "{'k3': [2, 30, 23]}"
      ]
     },
     "execution_count": 65,
     "metadata": {},
     "output_type": "execute_result"
    }
   ],
   "source": [
    "dict1['k2']"
   ]
  },
  {
   "cell_type": "code",
   "execution_count": 66,
   "id": "72e24834",
   "metadata": {},
   "outputs": [
    {
     "data": {
      "text/plain": [
       "[2, 30, 23]"
      ]
     },
     "execution_count": 66,
     "metadata": {},
     "output_type": "execute_result"
    }
   ],
   "source": [
    "dict1['k2']['k3']"
   ]
  },
  {
   "cell_type": "code",
   "execution_count": 67,
   "id": "435accb1",
   "metadata": {},
   "outputs": [
    {
     "data": {
      "text/plain": [
       "30"
      ]
     },
     "execution_count": 67,
     "metadata": {},
     "output_type": "execute_result"
    }
   ],
   "source": [
    "dict1['k2']['k3'][1]"
   ]
  },
  {
   "cell_type": "code",
   "execution_count": 77,
   "id": "1eb825e3",
   "metadata": {},
   "outputs": [
    {
     "data": {
      "text/plain": [
       "'ram'"
      ]
     },
     "execution_count": 77,
     "metadata": {},
     "output_type": "execute_result"
    }
   ],
   "source": [
    "dict2 = {'x1':\"hai\",'x2':\"bye\",'x3':{'x4':\"ram\"}} \n",
    "dict2['x3']['x4']"
   ]
  },
  {
   "cell_type": "code",
   "execution_count": 9,
   "id": "a1ad2ded",
   "metadata": {},
   "outputs": [
    {
     "data": {
      "text/plain": [
       "6"
      ]
     },
     "execution_count": 9,
     "metadata": {},
     "output_type": "execute_result"
    }
   ],
   "source": [
    "dict2 = {'x1':\"hai\",'x2':\"bye\",'x3':{'x4':[1,2,3,4,5,6,7]}} \n",
    "dict2['x3']['x4'][5]"
   ]
  },
  {
   "cell_type": "code",
   "execution_count": 11,
   "id": "aeb43254",
   "metadata": {},
   "outputs": [
    {
     "data": {
      "text/plain": [
       "'list'"
      ]
     },
     "execution_count": 11,
     "metadata": {},
     "output_type": "execute_result"
    }
   ],
   "source": [
    "dict2 = {'x1':\"hai\",'x2':\"bye\",'x3':{\"x4\":[\"ramesh\",\"list\",\"hello\"]}}\n",
    "dict2['x3']['x4'][1]"
   ]
  },
  {
   "cell_type": "code",
   "execution_count": 20,
   "id": "d05cd019",
   "metadata": {},
   "outputs": [
    {
     "data": {
      "text/plain": [
       "'hello'"
      ]
     },
     "execution_count": 20,
     "metadata": {},
     "output_type": "execute_result"
    }
   ],
   "source": [
    "dict2 = {'x1':\"hai\",'x2':\"bye\",'x3':{'x4':[\"ram\",\"ramesh\",\"list\",\"hello\"]}} \n",
    "dict2['x3']['x4'][3]\n"
   ]
  },
  {
   "cell_type": "code",
   "execution_count": 85,
   "id": "92717688",
   "metadata": {},
   "outputs": [
    {
     "data": {
      "text/plain": [
       "'hello'"
      ]
     },
     "execution_count": 85,
     "metadata": {},
     "output_type": "execute_result"
    }
   ],
   "source": [
    "dict2['x3']['x4'][3]"
   ]
  },
  {
   "cell_type": "code",
   "execution_count": 86,
   "id": "e0c639e7",
   "metadata": {},
   "outputs": [],
   "source": [
    "dict2['x3']['x4'][3] = \"dai\""
   ]
  },
  {
   "cell_type": "code",
   "execution_count": 87,
   "id": "de1793b4",
   "metadata": {},
   "outputs": [
    {
     "data": {
      "text/plain": [
       "'dai'"
      ]
     },
     "execution_count": 87,
     "metadata": {},
     "output_type": "execute_result"
    }
   ],
   "source": [
    "dict2['x3']['x4'][3]"
   ]
  },
  {
   "cell_type": "code",
   "execution_count": 88,
   "id": "8af72baf",
   "metadata": {},
   "outputs": [
    {
     "data": {
      "text/plain": [
       "['ram', 'ramesh', 'list', 'dai']"
      ]
     },
     "execution_count": 88,
     "metadata": {},
     "output_type": "execute_result"
    }
   ],
   "source": [
    "dict2['x3']['x4']"
   ]
  },
  {
   "cell_type": "code",
   "execution_count": 90,
   "id": "a01c97fa",
   "metadata": {},
   "outputs": [
    {
     "data": {
      "text/plain": [
       "['ram', 'ramesh', 'list', 'dai']"
      ]
     },
     "execution_count": 90,
     "metadata": {},
     "output_type": "execute_result"
    }
   ],
   "source": [
    "dict2['x3']['x4']"
   ]
  },
  {
   "cell_type": "code",
   "execution_count": 91,
   "id": "5b36a813",
   "metadata": {},
   "outputs": [
    {
     "data": {
      "text/plain": [
       "{'a4': [1, 2, 3, 4, 5, 6]}"
      ]
     },
     "execution_count": 91,
     "metadata": {},
     "output_type": "execute_result"
    }
   ],
   "source": [
    "dict3 = {'a1':\"dhinesh\",'a2' : \"nandha\",'a3':{'a4':[1,2,3,4,5,6]}}\n",
    "dict3['a3']"
   ]
  },
  {
   "cell_type": "code",
   "execution_count": 92,
   "id": "1d67bf19",
   "metadata": {},
   "outputs": [
    {
     "data": {
      "text/plain": [
       "[1, 2, 3, 4, 5, 6]"
      ]
     },
     "execution_count": 92,
     "metadata": {},
     "output_type": "execute_result"
    }
   ],
   "source": [
    "dict3 = {'a1':\"dhinesh\",'a2' : \"nandha\",'a3':{'a4':[1,2,3,4,5,6]}}\n",
    "dict3['a3']['a4']"
   ]
  },
  {
   "cell_type": "code",
   "execution_count": 103,
   "id": "97f77b1b",
   "metadata": {},
   "outputs": [],
   "source": [
    "dict3 = {'a1':\"dhinesh\",'a2' : \"nandha\",'a3':{'a4':[1,2,3,4,5,6]}}\n",
    "dict3['a3']['a4'][3]  = 66\n",
    "\n"
   ]
  },
  {
   "cell_type": "code",
   "execution_count": 104,
   "id": "0288fa7a",
   "metadata": {},
   "outputs": [
    {
     "data": {
      "text/plain": [
       "[1, 2, 3, 66, 5, 6]"
      ]
     },
     "execution_count": 104,
     "metadata": {},
     "output_type": "execute_result"
    }
   ],
   "source": [
    "dict3['a3']['a4']"
   ]
  },
  {
   "cell_type": "code",
   "execution_count": 106,
   "id": "9448ad03",
   "metadata": {},
   "outputs": [
    {
     "data": {
      "text/plain": [
       "[1, 2, 3, 4, 66, 6]"
      ]
     },
     "execution_count": 106,
     "metadata": {},
     "output_type": "execute_result"
    }
   ],
   "source": [
    "dict3 = {'a1':\"dhinesh\",'a2' : \"nandha\",'a3':{'a4':[1,2,3,4,5,6]}}\n",
    "dict3['a3']['a4'][4]  = 66\n",
    "dict3['a3']['a4']\n"
   ]
  },
  {
   "cell_type": "code",
   "execution_count": 1,
   "id": "a3002165",
   "metadata": {},
   "outputs": [
    {
     "data": {
      "text/plain": [
       "dict_keys(['a1', 'a2', 'a3'])"
      ]
     },
     "execution_count": 1,
     "metadata": {},
     "output_type": "execute_result"
    }
   ],
   "source": [
    "x = {'a1':\"dhinesh\",'a2' : \"nandha\",'a3':{'a4':[1,2,3,4,5]}}\n",
    "x."
   ]
  },
  {
   "cell_type": "code",
   "execution_count": 8,
   "id": "21a1dbdf",
   "metadata": {},
   "outputs": [
    {
     "data": {
      "text/plain": [
       "dict_values(['dhinesh', 'nandha', {'a4': [1, 2, 3, 4, 5]}])"
      ]
     },
     "execution_count": 8,
     "metadata": {},
     "output_type": "execute_result"
    }
   ],
   "source": [
    "x = {'a1':\"dhinesh\",'a2' : \"nandha\",'a3':{'a4':[1,2,3,4,5]}}\n",
    "x.values()"
   ]
  },
  {
   "cell_type": "code",
   "execution_count": 9,
   "id": "aca504ba",
   "metadata": {},
   "outputs": [
    {
     "data": {
      "text/plain": [
       "dict_items([('a1', 'dhinesh'), ('a2', 'nandha'), ('a3', {'a4': [1, 2, 3, 4, 5]})])"
      ]
     },
     "execution_count": 9,
     "metadata": {},
     "output_type": "execute_result"
    }
   ],
   "source": [
    "x = {'a1':\"dhinesh\",'a2' : \"nandha\",'a3':{'a4':[1,2,3,4,5]}}\n",
    "x.items()"
   ]
  },
  {
   "cell_type": "code",
   "execution_count": 14,
   "id": "36516fa9",
   "metadata": {},
   "outputs": [
    {
     "name": "stdout",
     "output_type": "stream",
     "text": [
      "{'a1': 'dhinesh', 'a2': 'nandha', 'a3': {'a4': [1, 2, 3, 4, 5]}, 'a5': 'ramesh'}\n"
     ]
    }
   ],
   "source": [
    "x = {'a1':\"dhinesh\",'a2' : \"nandha\",'a3':{'a4':[1,2,3,4,5]}}\n",
    "x.update({'a5': \"ramesh\"})\n",
    "print(x)"
   ]
  },
  {
   "cell_type": "code",
   "execution_count": 24,
   "id": "198492e7",
   "metadata": {},
   "outputs": [],
   "source": [
    "x = {'a1':\"dhinesh\",'a2' : \"nandha\",'a3':{'a4':[1,2,3,4,5]}}\n",
    "x.clear()"
   ]
  },
  {
   "cell_type": "code",
   "execution_count": 21,
   "id": "c824b96b",
   "metadata": {},
   "outputs": [
    {
     "name": "stdout",
     "output_type": "stream",
     "text": [
      "{'k1': 'nandhu'}\n"
     ]
    }
   ],
   "source": [
    "dict1 = {'k1':\"nandhu\",'k2':\"hai\"}\n",
    "dict1.pop('k2')\n",
    "print(dict1)"
   ]
  },
  {
   "cell_type": "code",
   "execution_count": 24,
   "id": "8341ffe4",
   "metadata": {},
   "outputs": [
    {
     "data": {
      "text/plain": [
       "'dhinesh'"
      ]
     },
     "execution_count": 24,
     "metadata": {},
     "output_type": "execute_result"
    }
   ],
   "source": [
    "x = {'a1':\"dhinesh\",'a2' : \"nandha\",'a3':{'a4':[1,2,3,4,5]}}\n",
    "x.pop('a1')"
   ]
  },
  {
   "cell_type": "code",
   "execution_count": 30,
   "id": "cc8fd6f2",
   "metadata": {},
   "outputs": [
    {
     "data": {
      "text/plain": [
       "'dhinesh'"
      ]
     },
     "execution_count": 30,
     "metadata": {},
     "output_type": "execute_result"
    }
   ],
   "source": [
    "x = {'a1':\"dhinesh\",'a2' : \"nandha\",'a3':{'a4':[1,2,3,4,5]}}\n",
    "x['a1']"
   ]
  },
  {
   "cell_type": "code",
   "execution_count": 31,
   "id": "325b219a",
   "metadata": {},
   "outputs": [
    {
     "data": {
      "text/plain": [
       "[1, 2, 3, 4, 66, 6]"
      ]
     },
     "execution_count": 31,
     "metadata": {},
     "output_type": "execute_result"
    }
   ],
   "source": [
    "dict3 = {'a1':\"dhinesh\",'a2' : \"nandha\",'a3':{'a4':[1,2,3,4,5,6]}}\n",
    "dict3['a3']['a4'][4]  = 66\n",
    "dict3['a3']['a4']\n"
   ]
  },
  {
   "cell_type": "code",
   "execution_count": 36,
   "id": "4191cff8",
   "metadata": {},
   "outputs": [
    {
     "data": {
      "text/plain": [
       "2"
      ]
     },
     "execution_count": 36,
     "metadata": {},
     "output_type": "execute_result"
    }
   ],
   "source": [
    "x = {'a1':\"dhinesh\",'a2' : \"nandha\",'a3':{'a4':[1,2,3,4,5]}}\n",
    "x['a3']['a4'][1]"
   ]
  },
  {
   "cell_type": "code",
   "execution_count": 44,
   "id": "f1b32949",
   "metadata": {},
   "outputs": [
    {
     "data": {
      "text/plain": [
       "[1, 2, 3, 19939848, 5, 6]"
      ]
     },
     "execution_count": 44,
     "metadata": {},
     "output_type": "execute_result"
    }
   ],
   "source": [
    "dict3 = {'a1':\"dhinesh\",'a2' : \"nandha\",'a3':{'a4':[1,2,3,4,5,6]}}\n",
    "dict3['a3']['a4'][3] = 19939848\n",
    "dict3['a3']['a4']"
   ]
  },
  {
   "cell_type": "code",
   "execution_count": 11,
   "id": "937d09ff",
   "metadata": {},
   "outputs": [
    {
     "data": {
      "text/plain": [
       "{'eng': ['b.tech', 'm.tech'], 'arts': ['bca', 'mca']}"
      ]
     },
     "execution_count": 11,
     "metadata": {},
     "output_type": "execute_result"
    }
   ],
   "source": [
    "hindustan = {'roll.no':19351005,'name':\"Ramesh \",'dept':{'eng':[\"b.tech\",\"m.tech\"],'arts':[\"bca\",\"mca\"] } }\n",
    "hindustan['dept']\n"
   ]
  },
  {
   "cell_type": "code",
   "execution_count": 12,
   "id": "c17dce72",
   "metadata": {},
   "outputs": [
    {
     "data": {
      "text/plain": [
       "['b.tech', 'm.tech']"
      ]
     },
     "execution_count": 12,
     "metadata": {},
     "output_type": "execute_result"
    }
   ],
   "source": [
    "hindustan = {'roll.no':19351005,'name':\"Ramesh \",'dept':{'eng':[\"b.tech\",\"m.tech\"],'arts':[\"bca\",\"mca\"] } }\n",
    "hindustan['dept']['eng']\n"
   ]
  },
  {
   "cell_type": "code",
   "execution_count": 14,
   "id": "23cb8483",
   "metadata": {},
   "outputs": [
    {
     "data": {
      "text/plain": [
       "['bca', 'mca']"
      ]
     },
     "execution_count": 14,
     "metadata": {},
     "output_type": "execute_result"
    }
   ],
   "source": [
    "hindustan = {'roll.no':19351005,'name':\"Ramesh \",'dept':{'eng':[\"b.tech\",\"m.tech\"],'arts':[\"bca\",\"mca\"] } }\n",
    "hindustan['dept']['arts']"
   ]
  },
  {
   "cell_type": "code",
   "execution_count": 19,
   "id": "d9558add",
   "metadata": {},
   "outputs": [
    {
     "data": {
      "text/plain": [
       "['bca', 'mca']"
      ]
     },
     "execution_count": 19,
     "metadata": {},
     "output_type": "execute_result"
    }
   ],
   "source": [
    "hindustan = {'roll.no':19351005,'name':\"Ramesh \",'dept':{'eng':[\"b.tech\",\"m.tech\"],'arts':[\"bca\",\"mca\"] } }\n",
    "hindustan['dept']['arts']"
   ]
  },
  {
   "cell_type": "code",
   "execution_count": 20,
   "id": "144e2e80",
   "metadata": {},
   "outputs": [],
   "source": [
    "dict1 = {\n",
    "\t\"id\": \"0001\",\n",
    "\t\"type\": \"donut\",\n",
    "\t\"name\": \"Cake\",\n",
    "\t\"ppu\": 0.55,\n",
    "\t\"batters\":\n",
    "\t\t{\n",
    "\t\t\t\"batter\":\n",
    "\t\t\t\t[\n",
    "\t\t\t\t\t{ \"id\": \"1001\", \"type\": \"Regular\" },\n",
    "\t\t\t\t\t{ \"id\": \"1002\", \"type\": \"Chocolate\" },\n",
    "\t\t\t\t\t{ \"id\": \"1003\", \"type\": \"Blueberry\" },\n",
    "\t\t\t\t\t{ \"id\": \"1004\", \"type\": \"Devil's Food\" }\n",
    "\t\t\t\t]\n",
    "\t\t},\n",
    "\t\"topping\":\n",
    "\t\t[\n",
    "\t\t\t{ \"id\": \"5001\", \"type\": \"None\" },\n",
    "\t\t\t{ \"id\": \"5002\", \"type\": \"Glazed\" },\n",
    "\t\t\t{ \"id\": \"5005\", \"type\": \"Sugar\" },\n",
    "\t\t\t{ \"id\": \"5007\", \"type\": \"Powdered Sugar\" },\n",
    "\t\t\t{ \"id\": \"5006\", \"type\": \"Chocolate with Sprinkles\" },\n",
    "\t\t\t{ \"id\": \"5003\", \"type\": \"Chocolate\" },\n",
    "\t\t\t{ \"id\": \"5004\", \"type\": \"Maple\" }\n",
    "\t\t]\n",
    "}"
   ]
  },
  {
   "cell_type": "code",
   "execution_count": 21,
   "id": "aac111c5",
   "metadata": {},
   "outputs": [
    {
     "data": {
      "text/plain": [
       "{'id': '0001',\n",
       " 'type': 'donut',\n",
       " 'name': 'Cake',\n",
       " 'ppu': 0.55,\n",
       " 'batters': {'batter': [{'id': '1001', 'type': 'Regular'},\n",
       "   {'id': '1002', 'type': 'Chocolate'},\n",
       "   {'id': '1003', 'type': 'Blueberry'},\n",
       "   {'id': '1004', 'type': \"Devil's Food\"}]},\n",
       " 'topping': [{'id': '5001', 'type': 'None'},\n",
       "  {'id': '5002', 'type': 'Glazed'},\n",
       "  {'id': '5005', 'type': 'Sugar'},\n",
       "  {'id': '5007', 'type': 'Powdered Sugar'},\n",
       "  {'id': '5006', 'type': 'Chocolate with Sprinkles'},\n",
       "  {'id': '5003', 'type': 'Chocolate'},\n",
       "  {'id': '5004', 'type': 'Maple'}]}"
      ]
     },
     "execution_count": 21,
     "metadata": {},
     "output_type": "execute_result"
    }
   ],
   "source": [
    "dict1"
   ]
  },
  {
   "cell_type": "code",
   "execution_count": 22,
   "id": "7865f798",
   "metadata": {},
   "outputs": [],
   "source": [
    "hindustan = {'roll.no':19351005,'name':\"Ramesh \",'dept':{'eng':[\"b.tech\",\"m.tech\"],'arts':[\"bca\",\"mca\"] } }\n",
    "hindustan['dept']['arts'].append(\"b.com\")"
   ]
  },
  {
   "cell_type": "code",
   "execution_count": 23,
   "id": "14dd5d71",
   "metadata": {},
   "outputs": [
    {
     "data": {
      "text/plain": [
       "['bca', 'mca']"
      ]
     },
     "execution_count": 23,
     "metadata": {},
     "output_type": "execute_result"
    }
   ],
   "source": [
    "hindustan = {'roll.no':19351005,'name':\"Ramesh \",'dept':{'eng':[\"b.tech\",\"m.tech\"],'arts':[\"bca\",\"mca\"] } }\n",
    "hindustan['dept']['arts']"
   ]
  },
  {
   "cell_type": "code",
   "execution_count": 25,
   "id": "b63f29aa",
   "metadata": {},
   "outputs": [],
   "source": [
    "hindustan = {'roll.no':19351005,'name':\"Ramesh \",'dept':{'eng':[\"b.tech\",\"m.tech\"],'arts':[\"bca\",\"mca\"] } }\n",
    "hindustan['dept']['arts'].insert(2,\"b.com\")"
   ]
  },
  {
   "cell_type": "code",
   "execution_count": 26,
   "id": "fcd07595",
   "metadata": {},
   "outputs": [
    {
     "data": {
      "text/plain": [
       "['bca', 'mca']"
      ]
     },
     "execution_count": 26,
     "metadata": {},
     "output_type": "execute_result"
    }
   ],
   "source": [
    "hindustan = {'roll.no':19351005,'name':\"Ramesh \",'dept':{'eng':[\"b.tech\",\"m.tech\"],'arts':[\"bca\",\"mca\"] } }\n",
    "hindustan['dept']['arts']"
   ]
  },
  {
   "cell_type": "code",
   "execution_count": 27,
   "id": "651ead0b",
   "metadata": {},
   "outputs": [
    {
     "data": {
      "text/plain": [
       "{'id': '0001',\n",
       " 'type': 'donut',\n",
       " 'name': 'Cake',\n",
       " 'ppu': 0.55,\n",
       " 'batters': {'batter': [{'id': '1001', 'type': 'Regular'},\n",
       "   {'id': '1002', 'type': 'Chocolate'},\n",
       "   {'id': '1003', 'type': 'Blueberry'},\n",
       "   {'id': '1004', 'type': \"Devil's Food\"}]},\n",
       " 'topping': [{'id': '5001', 'type': 'None'},\n",
       "  {'id': '5002', 'type': 'Glazed'},\n",
       "  {'id': '5005', 'type': 'Sugar'},\n",
       "  {'id': '5007', 'type': 'Powdered Sugar'},\n",
       "  {'id': '5006', 'type': 'Chocolate with Sprinkles'},\n",
       "  {'id': '5003', 'type': 'Chocolate'},\n",
       "  {'id': '5004', 'type': 'Maple'}]}"
      ]
     },
     "execution_count": 27,
     "metadata": {},
     "output_type": "execute_result"
    }
   ],
   "source": [
    "dict1"
   ]
  },
  {
   "cell_type": "code",
   "execution_count": 29,
   "id": "632b73eb",
   "metadata": {},
   "outputs": [
    {
     "data": {
      "text/plain": [
       "{'batter': [{'id': '1001', 'type': 'Regular'},\n",
       "  {'id': '1002', 'type': 'Chocolate'},\n",
       "  {'id': '1003', 'type': 'Blueberry'},\n",
       "  {'id': '1004', 'type': \"Devil's Food\"}]}"
      ]
     },
     "execution_count": 29,
     "metadata": {},
     "output_type": "execute_result"
    }
   ],
   "source": [
    "dict1['batters'][]"
   ]
  },
  {
   "cell_type": "code",
   "execution_count": 31,
   "id": "a1cc8703",
   "metadata": {},
   "outputs": [
    {
     "data": {
      "text/plain": [
       "[{'id': '1001', 'type': 'Regular'},\n",
       " {'id': '1002', 'type': 'Chocolate'},\n",
       " {'id': '1003', 'type': 'Blueberry'},\n",
       " {'id': '1004', 'type': \"Devil's Food\"}]"
      ]
     },
     "execution_count": 31,
     "metadata": {},
     "output_type": "execute_result"
    }
   ],
   "source": [
    "dict1['batters']['batter']"
   ]
  },
  {
   "cell_type": "code",
   "execution_count": 36,
   "id": "a659d616",
   "metadata": {},
   "outputs": [],
   "source": [
    "dict1['batters']['batter']"
   ]
  },
  {
   "cell_type": "code",
   "execution_count": 37,
   "id": "4a0e4f8b",
   "metadata": {},
   "outputs": [
    {
     "data": {
      "text/plain": [
       "'0001'"
      ]
     },
     "execution_count": 37,
     "metadata": {},
     "output_type": "execute_result"
    }
   ],
   "source": [
    "dict1['id']"
   ]
  },
  {
   "cell_type": "code",
   "execution_count": 42,
   "id": "ab7fed4f",
   "metadata": {},
   "outputs": [
    {
     "data": {
      "text/plain": [
       "'donut'"
      ]
     },
     "execution_count": 42,
     "metadata": {},
     "output_type": "execute_result"
    }
   ],
   "source": [
    "dict1 ['type']"
   ]
  },
  {
   "cell_type": "code",
   "execution_count": 44,
   "id": "9ac3cd09",
   "metadata": {},
   "outputs": [
    {
     "ename": "TypeError",
     "evalue": "list indices must be integers or slices, not str",
     "output_type": "error",
     "traceback": [
      "\u001b[1;31m---------------------------------------------------------------------------\u001b[0m",
      "\u001b[1;31mTypeError\u001b[0m                                 Traceback (most recent call last)",
      "Input \u001b[1;32mIn [44]\u001b[0m, in \u001b[0;36m<cell line: 1>\u001b[1;34m()\u001b[0m\n\u001b[1;32m----> 1\u001b[0m \u001b[43mdict1\u001b[49m\u001b[43m[\u001b[49m\u001b[38;5;124;43m'\u001b[39;49m\u001b[38;5;124;43mbatters\u001b[39;49m\u001b[38;5;124;43m'\u001b[39;49m\u001b[43m]\u001b[49m\u001b[43m[\u001b[49m\u001b[38;5;124;43m'\u001b[39;49m\u001b[38;5;124;43mbatter\u001b[39;49m\u001b[38;5;124;43m'\u001b[39;49m\u001b[43m]\u001b[49m\u001b[43m[\u001b[49m\u001b[38;5;124;43m'\u001b[39;49m\u001b[38;5;124;43mid\u001b[39;49m\u001b[38;5;124;43m'\u001b[39;49m\u001b[43m]\u001b[49m\n",
      "\u001b[1;31mTypeError\u001b[0m: list indices must be integers or slices, not str"
     ]
    }
   ],
   "source": [
    "dict1['batters']['batter']['id']"
   ]
  },
  {
   "cell_type": "code",
   "execution_count": 45,
   "id": "f5e002be",
   "metadata": {},
   "outputs": [
    {
     "data": {
      "text/plain": [
       "'type'"
      ]
     },
     "execution_count": 45,
     "metadata": {},
     "output_type": "execute_result"
    }
   ],
   "source": [
    "dict1['batters']['batter'][0]"
   ]
  },
  {
   "cell_type": "code",
   "execution_count": 46,
   "id": "91873e2b",
   "metadata": {},
   "outputs": [
    {
     "data": {
      "text/plain": [
       "['type']"
      ]
     },
     "execution_count": 46,
     "metadata": {},
     "output_type": "execute_result"
    }
   ],
   "source": [
    "dict1['batters']['batter']"
   ]
  },
  {
   "cell_type": "code",
   "execution_count": 48,
   "id": "ad0394eb",
   "metadata": {},
   "outputs": [
    {
     "data": {
      "text/plain": [
       "{'batter': ['type']}"
      ]
     },
     "execution_count": 48,
     "metadata": {},
     "output_type": "execute_result"
    }
   ],
   "source": [
    "dict1[\"batters\"]"
   ]
  },
  {
   "cell_type": "code",
   "execution_count": 49,
   "id": "e388d67f",
   "metadata": {},
   "outputs": [
    {
     "data": {
      "text/plain": [
       "{'id': '0001',\n",
       " 'type': 'donut',\n",
       " 'name': 'Cake',\n",
       " 'ppu': 0.55,\n",
       " 'batters': {'batter': ['type']},\n",
       " 'topping': [{'id': '5001', 'type': 'None'},\n",
       "  {'id': '5002', 'type': 'Glazed'},\n",
       "  {'id': '5005', 'type': 'Sugar'},\n",
       "  {'id': '5007', 'type': 'Powdered Sugar'},\n",
       "  {'id': '5006', 'type': 'Chocolate with Sprinkles'},\n",
       "  {'id': '5003', 'type': 'Chocolate'},\n",
       "  {'id': '5004', 'type': 'Maple'}]}"
      ]
     },
     "execution_count": 49,
     "metadata": {},
     "output_type": "execute_result"
    }
   ],
   "source": [
    "dict1"
   ]
  },
  {
   "cell_type": "code",
   "execution_count": 50,
   "id": "e794a4ea",
   "metadata": {},
   "outputs": [],
   "source": [
    "dict2 = {\n",
    "\t\"id\": \"0001\",\n",
    "\t\"type\": \"donut\",\n",
    "\t\"name\": \"Cake\",\n",
    "\t\"ppu\": 0.55,\n",
    "\t\"batters\":\n",
    "\t\t{\n",
    "\t\t\t\"batter\":\n",
    "\t\t\t\t[\n",
    "\t\t\t\t\t{ \"id\": \"1001\", \"type\": \"Regular\" },\n",
    "\t\t\t\t\t{ \"id\": \"1002\", \"type\": \"Chocolate\" },\n",
    "\t\t\t\t\t{ \"id\": \"1003\", \"type\": \"Blueberry\" },\n",
    "\t\t\t\t\t{ \"id\": \"1004\", \"type\": \"Devil's Food\" }\n",
    "\t\t\t\t]\n",
    "\t\t},\n",
    "\t\"topping\":\n",
    "\t\t[\n",
    "\t\t\t{ \"id\": \"5001\", \"type\": \"None\" },\n",
    "\t\t\t{ \"id\": \"5002\", \"type\": \"Glazed\" },\n",
    "\t\t\t{ \"id\": \"5005\", \"type\": \"Sugar\" },\n",
    "\t\t\t{ \"id\": \"5007\", \"type\": \"Powdered Sugar\" },\n",
    "\t\t\t{ \"id\": \"5006\", \"type\": \"Chocolate with Sprinkles\" },\n",
    "\t\t\t{ \"id\": \"5003\", \"type\": \"Chocolate\" },\n",
    "\t\t\t{ \"id\": \"5004\", \"type\": \"Maple\" }\n",
    "\t\t]\n",
    "}"
   ]
  },
  {
   "cell_type": "code",
   "execution_count": 51,
   "id": "a0937404",
   "metadata": {},
   "outputs": [
    {
     "data": {
      "text/plain": [
       "{'id': '0001',\n",
       " 'type': 'donut',\n",
       " 'name': 'Cake',\n",
       " 'ppu': 0.55,\n",
       " 'batters': {'batter': [{'id': '1001', 'type': 'Regular'},\n",
       "   {'id': '1002', 'type': 'Chocolate'},\n",
       "   {'id': '1003', 'type': 'Blueberry'},\n",
       "   {'id': '1004', 'type': \"Devil's Food\"}]},\n",
       " 'topping': [{'id': '5001', 'type': 'None'},\n",
       "  {'id': '5002', 'type': 'Glazed'},\n",
       "  {'id': '5005', 'type': 'Sugar'},\n",
       "  {'id': '5007', 'type': 'Powdered Sugar'},\n",
       "  {'id': '5006', 'type': 'Chocolate with Sprinkles'},\n",
       "  {'id': '5003', 'type': 'Chocolate'},\n",
       "  {'id': '5004', 'type': 'Maple'}]}"
      ]
     },
     "execution_count": 51,
     "metadata": {},
     "output_type": "execute_result"
    }
   ],
   "source": [
    "dict2"
   ]
  },
  {
   "cell_type": "code",
   "execution_count": 52,
   "id": "580341c5",
   "metadata": {},
   "outputs": [
    {
     "data": {
      "text/plain": [
       "{'batter': [{'id': '1001', 'type': 'Regular'},\n",
       "  {'id': '1002', 'type': 'Chocolate'},\n",
       "  {'id': '1003', 'type': 'Blueberry'},\n",
       "  {'id': '1004', 'type': \"Devil's Food\"}]}"
      ]
     },
     "execution_count": 52,
     "metadata": {},
     "output_type": "execute_result"
    }
   ],
   "source": [
    "dict2['batters']"
   ]
  },
  {
   "cell_type": "code",
   "execution_count": 53,
   "id": "0a720c46",
   "metadata": {},
   "outputs": [
    {
     "data": {
      "text/plain": [
       "[{'id': '1001', 'type': 'Regular'},\n",
       " {'id': '1002', 'type': 'Chocolate'},\n",
       " {'id': '1003', 'type': 'Blueberry'},\n",
       " {'id': '1004', 'type': \"Devil's Food\"}]"
      ]
     },
     "execution_count": 53,
     "metadata": {},
     "output_type": "execute_result"
    }
   ],
   "source": [
    "dict2['batters']['batter']"
   ]
  },
  {
   "cell_type": "code",
   "execution_count": 54,
   "id": "b937a383",
   "metadata": {},
   "outputs": [
    {
     "data": {
      "text/plain": [
       "{'id': '1001', 'type': 'Regular'}"
      ]
     },
     "execution_count": 54,
     "metadata": {},
     "output_type": "execute_result"
    }
   ],
   "source": [
    "dict2['batters']['batter'][0]"
   ]
  },
  {
   "cell_type": "code",
   "execution_count": 55,
   "id": "3337057f",
   "metadata": {},
   "outputs": [
    {
     "data": {
      "text/plain": [
       "'1001'"
      ]
     },
     "execution_count": 55,
     "metadata": {},
     "output_type": "execute_result"
    }
   ],
   "source": [
    "dict2['batters']['batter'][0]['id']"
   ]
  },
  {
   "cell_type": "code",
   "execution_count": 59,
   "id": "32b51954",
   "metadata": {},
   "outputs": [
    {
     "ename": "TypeError",
     "evalue": "list indices must be integers or slices, not str",
     "output_type": "error",
     "traceback": [
      "\u001b[1;31m---------------------------------------------------------------------------\u001b[0m",
      "\u001b[1;31mTypeError\u001b[0m                                 Traceback (most recent call last)",
      "Input \u001b[1;32mIn [59]\u001b[0m, in \u001b[0;36m<cell line: 1>\u001b[1;34m()\u001b[0m\n\u001b[1;32m----> 1\u001b[0m \u001b[38;5;28;01mfor\u001b[39;00m \u001b[38;5;28mid\u001b[39m \u001b[38;5;129;01min\u001b[39;00m \u001b[43mdict2\u001b[49m\u001b[43m[\u001b[49m\u001b[38;5;124;43m'\u001b[39;49m\u001b[38;5;124;43mbatters\u001b[39;49m\u001b[38;5;124;43m'\u001b[39;49m\u001b[43m]\u001b[49m\u001b[43m[\u001b[49m\u001b[38;5;124;43m'\u001b[39;49m\u001b[38;5;124;43mbatter\u001b[39;49m\u001b[38;5;124;43m'\u001b[39;49m\u001b[43m]\u001b[49m\u001b[43m[\u001b[49m\u001b[38;5;124;43m'\u001b[39;49m\u001b[38;5;124;43mid\u001b[39;49m\u001b[38;5;124;43m'\u001b[39;49m\u001b[43m]\u001b[49m:\n\u001b[0;32m      2\u001b[0m     \u001b[38;5;28mprint\u001b[39m(dict2[\u001b[38;5;124m'\u001b[39m\u001b[38;5;124mbatters\u001b[39m\u001b[38;5;124m'\u001b[39m][\u001b[38;5;124m'\u001b[39m\u001b[38;5;124mbatter\u001b[39m\u001b[38;5;124m'\u001b[39m][\u001b[38;5;124m'\u001b[39m\u001b[38;5;124mid\u001b[39m\u001b[38;5;124m'\u001b[39m][\u001b[38;5;124m'\u001b[39m\u001b[38;5;124mid\u001b[39m\u001b[38;5;124m'\u001b[39m])\n",
      "\u001b[1;31mTypeError\u001b[0m: list indices must be integers or slices, not str"
     ]
    }
   ],
   "source": [
    "for id in dict2['batters']['batter']['id']:\n",
    "    print(dict2['batters']['batter']['id']['id'])"
   ]
  },
  {
   "cell_type": "code",
   "execution_count": 57,
   "id": "b08ccd4d",
   "metadata": {},
   "outputs": [
    {
     "data": {
      "text/plain": [
       "'1001'"
      ]
     },
     "execution_count": 57,
     "metadata": {},
     "output_type": "execute_result"
    }
   ],
   "source": [
    "dict2['batters']['batter'][0]['id']"
   ]
  },
  {
   "cell_type": "code",
   "execution_count": 62,
   "id": "d41c517b",
   "metadata": {},
   "outputs": [
    {
     "data": {
      "text/plain": [
       "1"
      ]
     },
     "execution_count": 62,
     "metadata": {},
     "output_type": "execute_result"
    }
   ],
   "source": [
    "tuple1 = (1,2,3)\n",
    "tuple1[0]"
   ]
  },
  {
   "cell_type": "code",
   "execution_count": 67,
   "id": "b0143ee5",
   "metadata": {},
   "outputs": [
    {
     "data": {
      "text/plain": [
       "(1, 2, 3)"
      ]
     },
     "execution_count": 67,
     "metadata": {},
     "output_type": "execute_result"
    }
   ],
   "source": [
    "tuple1 = (1,2,3)\n",
    "tuple2 = tuple1\n",
    "tuple2"
   ]
  },
  {
   "cell_type": "code",
   "execution_count": 11,
   "id": "5b49414e",
   "metadata": {},
   "outputs": [
    {
     "name": "stdout",
     "output_type": "stream",
     "text": [
      "(1, 2, 3, 4, 5, 6)\n"
     ]
    }
   ],
   "source": [
    "tuple1 = (1,2,3)\n",
    "tuple2 = (4,5,6)\n",
    "tuple3 = tuple1+tuple2\n",
    "print(tuple3)"
   ]
  },
  {
   "cell_type": "code",
   "execution_count": 73,
   "id": "d9815e26",
   "metadata": {},
   "outputs": [
    {
     "data": {
      "text/plain": [
       "(1, 2, 3)"
      ]
     },
     "execution_count": 73,
     "metadata": {},
     "output_type": "execute_result"
    }
   ],
   "source": [
    "tuple1"
   ]
  },
  {
   "cell_type": "code",
   "execution_count": 75,
   "id": "44e96c89",
   "metadata": {},
   "outputs": [
    {
     "data": {
      "text/plain": [
       "'hello'"
      ]
     },
     "execution_count": 75,
     "metadata": {},
     "output_type": "execute_result"
    }
   ],
   "source": [
    "tuple2"
   ]
  },
  {
   "cell_type": "code",
   "execution_count": 76,
   "id": "49022c74",
   "metadata": {},
   "outputs": [],
   "source": [
    "tuple1 = (1,2,3)\n",
    "tuple2 = (\"hello\",)\n"
   ]
  },
  {
   "cell_type": "code",
   "execution_count": 77,
   "id": "00704f0d",
   "metadata": {},
   "outputs": [
    {
     "data": {
      "text/plain": [
       "(1, 2, 3)"
      ]
     },
     "execution_count": 77,
     "metadata": {},
     "output_type": "execute_result"
    }
   ],
   "source": [
    "tuple1"
   ]
  },
  {
   "cell_type": "code",
   "execution_count": 78,
   "id": "646f9329",
   "metadata": {},
   "outputs": [
    {
     "data": {
      "text/plain": [
       "('hello',)"
      ]
     },
     "execution_count": 78,
     "metadata": {},
     "output_type": "execute_result"
    }
   ],
   "source": [
    "tuple2"
   ]
  },
  {
   "cell_type": "code",
   "execution_count": 80,
   "id": "e829f1ac",
   "metadata": {},
   "outputs": [],
   "source": [
    "tuple3 = tuple1+tuple2"
   ]
  },
  {
   "cell_type": "code",
   "execution_count": 81,
   "id": "f6dd26b2",
   "metadata": {},
   "outputs": [
    {
     "data": {
      "text/plain": [
       "(1, 2, 3, 'hello')"
      ]
     },
     "execution_count": 81,
     "metadata": {},
     "output_type": "execute_result"
    }
   ],
   "source": [
    "tuple3"
   ]
  },
  {
   "cell_type": "code",
   "execution_count": 82,
   "id": "c48fb436",
   "metadata": {},
   "outputs": [
    {
     "data": {
      "text/plain": [
       "(1,)"
      ]
     },
     "execution_count": 82,
     "metadata": {},
     "output_type": "execute_result"
    }
   ],
   "source": [
    "tuple1 = (1,2,3)\n",
    "tuple1[0:1]"
   ]
  },
  {
   "cell_type": "code",
   "execution_count": 84,
   "id": "4163ff9a",
   "metadata": {},
   "outputs": [
    {
     "data": {
      "text/plain": [
       "[1, 2, 3, 'solution']"
      ]
     },
     "execution_count": 84,
     "metadata": {},
     "output_type": "execute_result"
    }
   ],
   "source": [
    "tuple3 = (1,2,3,\"solution\")\n",
    "list2 = list(tuple3)\n",
    "list2"
   ]
  },
  {
   "cell_type": "code",
   "execution_count": 86,
   "id": "050a2849",
   "metadata": {},
   "outputs": [
    {
     "data": {
      "text/plain": [
       "[1, 2, ['htop'], 'solution']"
      ]
     },
     "execution_count": 86,
     "metadata": {},
     "output_type": "execute_result"
    }
   ],
   "source": [
    "tuple3 = (1,2,3,\"solution\")\n",
    "list2 = list(tuple3)\n",
    "list2[2] = [\"htop\"]\n",
    "list2"
   ]
  },
  {
   "cell_type": "code",
   "execution_count": 87,
   "id": "334d1a9d",
   "metadata": {},
   "outputs": [
    {
     "data": {
      "text/plain": [
       "(1, 2, ['htop'], 'solution')"
      ]
     },
     "execution_count": 87,
     "metadata": {},
     "output_type": "execute_result"
    }
   ],
   "source": [
    "tuple3 = (1,2,3,\"solution\")\n",
    "list2 = list(tuple3)\n",
    "list2[2] = [\"htop\"]\n",
    "tuple3 = tuple(list2)\n",
    "tuple3"
   ]
  },
  {
   "cell_type": "code",
   "execution_count": 89,
   "id": "95515bdd",
   "metadata": {},
   "outputs": [
    {
     "data": {
      "text/plain": [
       "(1, 2)"
      ]
     },
     "execution_count": 89,
     "metadata": {},
     "output_type": "execute_result"
    }
   ],
   "source": [
    "tuple3 = (1,2,3,\"solution\")\n",
    "tuple3[0:2]"
   ]
  },
  {
   "cell_type": "code",
   "execution_count": 91,
   "id": "0f677d07",
   "metadata": {},
   "outputs": [
    {
     "data": {
      "text/plain": [
       "[1, 2, 3]"
      ]
     },
     "execution_count": 91,
     "metadata": {},
     "output_type": "execute_result"
    }
   ],
   "source": [
    "tuple4  = ([1,2,3],50, \"true\")\n",
    "tuple4[0]"
   ]
  },
  {
   "cell_type": "code",
   "execution_count": 93,
   "id": "778b3595",
   "metadata": {},
   "outputs": [
    {
     "data": {
      "text/plain": [
       "3"
      ]
     },
     "execution_count": 93,
     "metadata": {},
     "output_type": "execute_result"
    }
   ],
   "source": [
    "tuple4  = ([1,2,3],50, \"true\")\n",
    "tuple4[0][2]"
   ]
  },
  {
   "cell_type": "code",
   "execution_count": 96,
   "id": "5771080b",
   "metadata": {},
   "outputs": [
    {
     "data": {
      "text/plain": [
       "([1, 2, 7], 50, 'true')"
      ]
     },
     "execution_count": 96,
     "metadata": {},
     "output_type": "execute_result"
    }
   ],
   "source": [
    "tuple4  = ([1,2,3],50, \"true\")\n",
    "tuple4[0][2]+= 4\n",
    "tuple4"
   ]
  },
  {
   "cell_type": "code",
   "execution_count": 3,
   "id": "0edff8d7",
   "metadata": {},
   "outputs": [
    {
     "name": "stdout",
     "output_type": "stream",
     "text": [
      "{'roll.no': 19351005, 'name': 'Ramesh ', 'dept': {'eng': ['b.tech', 'm.tech'], 'arts': ['bca', 'mca', 'b.com']}}\n"
     ]
    }
   ],
   "source": [
    "hindustan = {'roll.no':19351005,'name':\"Ramesh \",'dept':{'eng':[\"b.tech\",\"m.tech\"],'arts':[\"bca\",\"mca\"] } }\n",
    "hindustan['dept']['arts'].append(\"b.com\")\n",
    "print(hindustan)"
   ]
  },
  {
   "cell_type": "code",
   "execution_count": 6,
   "id": "c4ab6c14",
   "metadata": {},
   "outputs": [
    {
     "name": "stdout",
     "output_type": "stream",
     "text": [
      "{'roll.no': 19351005, 'name': 'Ramesh ', 'dept': {'eng': ['b.tech', 'm.tech'], 'arts': ['bca', 'mca', 'b.com', 'm.com']}}\n"
     ]
    }
   ],
   "source": [
    "hindustan = {'roll.no':19351005,'name':\"Ramesh \",'dept':{'eng':[\"b.tech\",\"m.tech\"],'arts':[\"bca\",\"mca\"] } }\n",
    "hindustan['dept']['arts'].append(\"b.com\")\n",
    "hindustan['dept']['arts'].append(\"m.com\")\n",
    "print(hindustan)"
   ]
  },
  {
   "cell_type": "code",
   "execution_count": 14,
   "id": "254ed0e0",
   "metadata": {},
   "outputs": [
    {
     "data": {
      "text/plain": [
       "[1, 34, 40]"
      ]
     },
     "execution_count": 14,
     "metadata": {},
     "output_type": "execute_result"
    }
   ],
   "source": [
    "tuple5 = ([1,34,34])\n",
    "tuple5[2]+=6\n",
    "tuple5"
   ]
  },
  {
   "cell_type": "code",
   "execution_count": 4,
   "id": "7cafa441",
   "metadata": {},
   "outputs": [
    {
     "data": {
      "text/plain": [
       "{'id': '0001',\n",
       " 'type': 'donut',\n",
       " 'name': 'Cake',\n",
       " 'ppu': 0.55,\n",
       " 'batters': {'batter': [{'id': '1001', 'type': 'Regular'},\n",
       "   {'id': '1002', 'type': 'Chocolate'},\n",
       "   {'id': '1003', 'type': 'Blueberry'},\n",
       "   {'id': '1004', 'type': \"Devil's Food\"}]},\n",
       " 'topping': [{'id': '5001', 'type': 'None'},\n",
       "  {'id': '5002', 'type': 'Glazed'},\n",
       "  {'id': '5005', 'type': 'Sugar'},\n",
       "  {'id': '5007', 'type': 'Powdered Sugar'},\n",
       "  {'id': '5006', 'type': 'Chocolate with Sprinkles'},\n",
       "  {'id': '5003', 'type': 'Chocolate'},\n",
       "  {'id': '5004', 'type': 'Maple'}]}"
      ]
     },
     "execution_count": 4,
     "metadata": {},
     "output_type": "execute_result"
    }
   ],
   "source": [
    "dict2= {'id': '0001',\n",
    " 'type': 'donut',\n",
    " 'name': 'Cake',\n",
    " 'ppu': 0.55,\n",
    " 'batters': {'batter': [{'id': '1001', 'type': 'Regular'},\n",
    "   {'id': '1002', 'type': 'Chocolate'},\n",
    "   {'id': '1003', 'type': 'Blueberry'},\n",
    "   {'id': '1004', 'type': \"Devil's Food\"}]},\n",
    " 'topping': [{'id': '5001', 'type': 'None'},\n",
    "  {'id': '5002', 'type': 'Glazed'},\n",
    "  {'id': '5005', 'type': 'Sugar'},\n",
    "  {'id': '5007', 'type': 'Powdered Sugar'},\n",
    "  {'id': '5006', 'type': 'Chocolate with Sprinkles'},\n",
    "  {'id': '5003', 'type': 'Chocolate'},\n",
    "  {'id': '5004', 'type': 'Maple'}]}\n",
    "dict2"
   ]
  },
  {
   "cell_type": "code",
   "execution_count": 8,
   "id": "09f5e73a",
   "metadata": {},
   "outputs": [
    {
     "data": {
      "text/plain": [
       "{'batter': [{'id': '1001', 'type': 'Regular'},\n",
       "  {'id': '1002', 'type': 'Chocolate'},\n",
       "  {'id': '1003', 'type': 'Blueberry'},\n",
       "  {'id': '1004', 'type': \"Devil's Food\"}]}"
      ]
     },
     "execution_count": 8,
     "metadata": {},
     "output_type": "execute_result"
    }
   ],
   "source": [
    "dict2= {'id': '0001',\n",
    " 'type': 'donut',\n",
    " 'name': 'Cake',\n",
    " 'ppu': 0.55,\n",
    " 'batters': {'batter': [{'id': '1001', 'type': 'Regular'},\n",
    "   {'id': '1002', 'type': 'Chocolate'},\n",
    "   {'id': '1003', 'type': 'Blueberry'},\n",
    "   {'id': '1004', 'type': \"Devil's Food\"}]},\n",
    " 'topping': [{'id': '5001', 'type': 'None'},\n",
    "  {'id': '5002', 'type': 'Glazed'},\n",
    "  {'id': '5005', 'type': 'Sugar'},\n",
    "  {'id': '5007', 'type': 'Powdered Sugar'},\n",
    "  {'id': '5006', 'type': 'Chocolate with Sprinkles'},\n",
    "  {'id': '5003', 'type': 'Chocolate'},\n",
    "  {'id': '5004', 'type': 'Maple'}]}\n",
    "dict2 ['batters']"
   ]
  },
  {
   "cell_type": "code",
   "execution_count": 9,
   "id": "8d29ff80",
   "metadata": {},
   "outputs": [
    {
     "data": {
      "text/plain": [
       "[{'id': '1001', 'type': 'Regular'},\n",
       " {'id': '1002', 'type': 'Chocolate'},\n",
       " {'id': '1003', 'type': 'Blueberry'},\n",
       " {'id': '1004', 'type': \"Devil's Food\"}]"
      ]
     },
     "execution_count": 9,
     "metadata": {},
     "output_type": "execute_result"
    }
   ],
   "source": [
    "dict2= {'id': '0001',\n",
    " 'type': 'donut',\n",
    " 'name': 'Cake',\n",
    " 'ppu': 0.55,\n",
    " 'batters': {'batter': [{'id': '1001', 'type': 'Regular'},\n",
    "   {'id': '1002', 'type': 'Chocolate'},\n",
    "   {'id': '1003', 'type': 'Blueberry'},\n",
    "   {'id': '1004', 'type': \"Devil's Food\"}]},\n",
    " 'topping': [{'id': '5001', 'type': 'None'},\n",
    "  {'id': '5002', 'type': 'Glazed'},\n",
    "  {'id': '5005', 'type': 'Sugar'},\n",
    "  {'id': '5007', 'type': 'Powdered Sugar'},\n",
    "  {'id': '5006', 'type': 'Chocolate with Sprinkles'},\n",
    "  {'id': '5003', 'type': 'Chocolate'},\n",
    "  {'id': '5004', 'type': 'Maple'}]}\n",
    "dict2 ['batters']['batter']"
   ]
  },
  {
   "cell_type": "code",
   "execution_count": 10,
   "id": "bb117773",
   "metadata": {},
   "outputs": [
    {
     "name": "stdout",
     "output_type": "stream",
     "text": [
      "1001\n",
      "1002\n",
      "1003\n",
      "1004\n"
     ]
    }
   ],
   "source": [
    "for x in range(len(dict2['batters']['batter'])):\n",
    "    print(dict2['batters']['batter'][x].get('id'))"
   ]
  },
  {
   "cell_type": "code",
   "execution_count": 11,
   "id": "0c8201d1",
   "metadata": {},
   "outputs": [
    {
     "name": "stdout",
     "output_type": "stream",
     "text": [
      "1001\n",
      "1002\n",
      "1003\n",
      "1004\n"
     ]
    }
   ],
   "source": [
    "dict2= {'id': '0001',\n",
    " 'type': 'donut',\n",
    " 'name': 'Cake',\n",
    " 'ppu': 0.55,\n",
    " 'batters': {'batter': [{'id': '1001', 'type': 'Regular'},\n",
    "   {'id': '1002', 'type': 'Chocolate'},\n",
    "   {'id': '1003', 'type': 'Blueberry'},\n",
    "   {'id': '1004', 'type': \"Devil's Food\"}]},\n",
    " 'topping': [{'id': '5001', 'type': 'None'},\n",
    "  {'id': '5002', 'type': 'Glazed'},\n",
    "  {'id': '5005', 'type': 'Sugar'},\n",
    "  {'id': '5007', 'type': 'Powdered Sugar'},\n",
    "  {'id': '5006', 'type': 'Chocolate with Sprinkles'},\n",
    "  {'id': '5003', 'type': 'Chocolate'},\n",
    "  {'id': '5004', 'type': 'Maple'}]}\n",
    "for x in range(len(dict2['batters']['batter'])):\n",
    "    print(dict2['batters']['batter'][x].get('id'))\n"
   ]
  },
  {
   "cell_type": "code",
   "execution_count": 12,
   "id": "194c1f44",
   "metadata": {},
   "outputs": [
    {
     "name": "stdout",
     "output_type": "stream",
     "text": [
      "Regular\n",
      "Chocolate\n",
      "Blueberry\n",
      "Devil's Food\n"
     ]
    }
   ],
   "source": [
    "dict2= {'id': '0001',\n",
    " 'type': 'donut',\n",
    " 'name': 'Cake',\n",
    " 'ppu': 0.55,\n",
    " 'batters': {'batter': [{'id': '1001', 'type': 'Regular'},\n",
    "   {'id': '1002', 'type': 'Chocolate'},\n",
    "   {'id': '1003', 'type': 'Blueberry'},\n",
    "   {'id': '1004', 'type': \"Devil's Food\"}]},\n",
    " 'topping': [{'id': '5001', 'type': 'None'},\n",
    "  {'id': '5002', 'type': 'Glazed'},\n",
    "  {'id': '5005', 'type': 'Sugar'},\n",
    "  {'id': '5007', 'type': 'Powdered Sugar'},\n",
    "  {'id': '5006', 'type': 'Chocolate with Sprinkles'},\n",
    "  {'id': '5003', 'type': 'Chocolate'},\n",
    "  {'id': '5004', 'type': 'Maple'}]}\n",
    "for x in range(len(dict2['batters']['batter'])):\n",
    "    print(dict2['batters']['batter'][x].get('type'))\n"
   ]
  },
  {
   "cell_type": "code",
   "execution_count": 14,
   "id": "a8f1ca93",
   "metadata": {},
   "outputs": [
    {
     "name": "stdout",
     "output_type": "stream",
     "text": [
      "1001\n",
      "1002\n",
      "1003\n",
      "1004\n"
     ]
    }
   ],
   "source": [
    "dict2= {'id': '0001',\n",
    " 'type': 'donut',\n",
    " 'name': 'Cake',\n",
    " 'ppu': 0.55,\n",
    " 'batters': {'batter': [{'id': '1001', 'type': 'Regular'},\n",
    "   {'id': '1002', 'type': 'Chocolate'},\n",
    "   {'id': '1003', 'type': 'Blueberry'},\n",
    "   {'id': '1004', 'type': \"Devil's Food\"}]},\n",
    " 'topping': [{'id': '5001', 'type': 'None'},\n",
    "  {'id': '5002', 'type': 'Glazed'},\n",
    "  {'id': '5005', 'type': 'Sugar'},\n",
    "  {'id': '5007', 'type': 'Powdered Sugar'},\n",
    "  {'id': '5006', 'type': 'Chocolate with Sprinkles'},\n",
    "  {'id': '5003', 'type': 'Chocolate'},\n",
    "  {'id': '5004', 'type': 'Maple'}]}\n",
    "\n",
    "for x in range(len(dict2['batters']['batter'])):\n",
    "    print(dict2['batters']['batter'][x].get('id'))\n"
   ]
  },
  {
   "cell_type": "code",
   "execution_count": 16,
   "id": "3ea12c25",
   "metadata": {},
   "outputs": [
    {
     "name": "stdout",
     "output_type": "stream",
     "text": [
      "5001\n",
      "5002\n",
      "5005\n",
      "5007\n",
      "5006\n",
      "5003\n",
      "5004\n"
     ]
    }
   ],
   "source": [
    "dict2= {'id': '0001',\n",
    " 'type': 'donut',\n",
    " 'name': 'Cake',\n",
    " 'ppu': 0.55,\n",
    " 'batters': {'batter': [{'id': '1001', 'type': 'Regular'},\n",
    "   {'id': '1002', 'type': 'Chocolate'},\n",
    "   {'id': '1003', 'type': 'Blueberry'},\n",
    "   {'id': '1004', 'type': \"Devil's Food\"}]},\n",
    " 'topping': [{'id': '5001', 'type': 'None'},\n",
    "  {'id': '5002', 'type': 'Glazed'},\n",
    "  {'id': '5005', 'type': 'Sugar'},\n",
    "  {'id': '5007', 'type': 'Powdered Sugar'},\n",
    "  {'id': '5006', 'type': 'Chocolate with Sprinkles'},\n",
    "  {'id': '5003', 'type': 'Chocolate'},\n",
    "  {'id': '5004', 'type': 'Maple'}]}\n",
    "for v in range(len(dict2['topping'])):\n",
    "    print(dict2['topping'][v].get('id'))\n",
    "\n"
   ]
  },
  {
   "cell_type": "code",
   "execution_count": 23,
   "id": "05952c6b",
   "metadata": {},
   "outputs": [
    {
     "name": "stdout",
     "output_type": "stream",
     "text": [
      "5001\n",
      "5002\n",
      "5005\n",
      "5007\n",
      "5006\n",
      "5003\n",
      "5004\n"
     ]
    }
   ],
   "source": [
    "dic= {'id': '0001',\n",
    " 'type': 'donut',\n",
    " 'name': 'Cake',\n",
    " 'ppu': 0.55,\n",
    " 'batters': {'batter': [{'id': '1001', 'type': 'Regular'},\n",
    "   {'id': '1002', 'type': 'Chocolate'},\n",
    "   {'id': '1003', 'type': 'Blueberry'},\n",
    "   {'id': '1004', 'type': \"Devil's Food\"}]},\n",
    " 'topping': [{'id': '5001', 'type': 'None'},\n",
    "  {'id': '5002', 'type': 'Glazed'},\n",
    "  {'id': '5005', 'type': 'Sugar'},\n",
    "  {'id': '5007', 'type': 'Powdered Sugar'},\n",
    "  {'id': '5006', 'type': 'Chocolate with Sprinkles'},\n",
    "  {'id': '5003', 'type': 'Chocolate'},\n",
    "  {'id': '5004', 'type': 'Maple'}]}\n",
    "for v in range(len(dic['topping'])):\n",
    "    print(dic['topping'][v].get('id'))\n",
    "\n",
    "\n",
    "\n"
   ]
  },
  {
   "cell_type": "code",
   "execution_count": 26,
   "id": "04e41f41",
   "metadata": {},
   "outputs": [
    {
     "name": "stdout",
     "output_type": "stream",
     "text": [
      "None\n",
      "Glazed\n",
      "Sugar\n",
      "Powdered Sugar\n",
      "Chocolate with Sprinkles\n",
      "Chocolate\n",
      "Maple\n"
     ]
    }
   ],
   "source": [
    "for x in range(len(dic['topping'])):\n",
    "    print(dic['topping'][x].get('type'))\n"
   ]
  },
  {
   "cell_type": "code",
   "execution_count": 24,
   "id": "850ac8df",
   "metadata": {},
   "outputs": [
    {
     "name": "stdout",
     "output_type": "stream",
     "text": [
      "nok\n"
     ]
    }
   ],
   "source": [
    "a =\"nok\"\n",
    "print(a)"
   ]
  },
  {
   "cell_type": "code",
   "execution_count": null,
   "id": "092fc65b",
   "metadata": {},
   "outputs": [],
   "source": []
  },
  {
   "cell_type": "code",
   "execution_count": 2,
   "id": "3042f0ff",
   "metadata": {},
   "outputs": [
    {
     "data": {
      "text/plain": [
       "list"
      ]
     },
     "execution_count": 2,
     "metadata": {},
     "output_type": "execute_result"
    }
   ],
   "source": [
    "a = [1,2,3]\n",
    "type(a)"
   ]
  },
  {
   "cell_type": "code",
   "execution_count": 6,
   "id": "46f072fd",
   "metadata": {},
   "outputs": [],
   "source": [
    "a.append(4)"
   ]
  },
  {
   "cell_type": "code",
   "execution_count": 7,
   "id": "a1d252cf",
   "metadata": {},
   "outputs": [],
   "source": [
    "a.clear()"
   ]
  },
  {
   "cell_type": "code",
   "execution_count": 8,
   "id": "9f2b93e8",
   "metadata": {},
   "outputs": [
    {
     "data": {
      "text/plain": [
       "[]"
      ]
     },
     "execution_count": 8,
     "metadata": {},
     "output_type": "execute_result"
    }
   ],
   "source": [
    "a"
   ]
  },
  {
   "cell_type": "code",
   "execution_count": 9,
   "id": "560b9e6d",
   "metadata": {},
   "outputs": [
    {
     "data": {
      "text/plain": [
       "[]"
      ]
     },
     "execution_count": 9,
     "metadata": {},
     "output_type": "execute_result"
    }
   ],
   "source": [
    "a"
   ]
  },
  {
   "cell_type": "code",
   "execution_count": 13,
   "id": "687c4790",
   "metadata": {},
   "outputs": [
    {
     "data": {
      "text/plain": [
       "[1, 2, 3]"
      ]
     },
     "execution_count": 13,
     "metadata": {},
     "output_type": "execute_result"
    }
   ],
   "source": [
    "a = [1,2,3]\n",
    "\n",
    "a.copy()"
   ]
  },
  {
   "cell_type": "code",
   "execution_count": 15,
   "id": "cca94cad",
   "metadata": {},
   "outputs": [
    {
     "name": "stdout",
     "output_type": "stream",
     "text": [
      "[1, 2, 3, 4]\n"
     ]
    }
   ],
   "source": [
    "a = [1,2]\n",
    "b = [3,4]\n",
    "a.extend(b)\n",
    "print(a)"
   ]
  },
  {
   "cell_type": "code",
   "execution_count": 22,
   "id": "de21bda4",
   "metadata": {},
   "outputs": [
    {
     "name": "stdout",
     "output_type": "stream",
     "text": [
      "[1, 2, 4, 3]\n"
     ]
    }
   ],
   "source": [
    "a = [1,2,3]\n",
    "a.insert(2,4)\n",
    "print(a)"
   ]
  },
  {
   "cell_type": "code",
   "execution_count": 30,
   "id": "f5f77aca",
   "metadata": {},
   "outputs": [],
   "source": [
    "a.remove(2)"
   ]
  },
  {
   "cell_type": "code",
   "execution_count": 31,
   "id": "8da6f665",
   "metadata": {},
   "outputs": [
    {
     "data": {
      "text/plain": [
       "[4, 3]"
      ]
     },
     "execution_count": 31,
     "metadata": {},
     "output_type": "execute_result"
    }
   ],
   "source": [
    "a"
   ]
  },
  {
   "cell_type": "code",
   "execution_count": 32,
   "id": "db251035",
   "metadata": {},
   "outputs": [],
   "source": [
    "a.reverse()"
   ]
  },
  {
   "cell_type": "code",
   "execution_count": 33,
   "id": "874b1ada",
   "metadata": {},
   "outputs": [
    {
     "data": {
      "text/plain": [
       "[3, 4]"
      ]
     },
     "execution_count": 33,
     "metadata": {},
     "output_type": "execute_result"
    }
   ],
   "source": [
    "a"
   ]
  },
  {
   "cell_type": "code",
   "execution_count": 34,
   "id": "0a3cf85a",
   "metadata": {},
   "outputs": [],
   "source": [
    "a.sort()"
   ]
  },
  {
   "cell_type": "code",
   "execution_count": 35,
   "id": "19010d81",
   "metadata": {},
   "outputs": [
    {
     "data": {
      "text/plain": [
       "[3, 4]"
      ]
     },
     "execution_count": 35,
     "metadata": {},
     "output_type": "execute_result"
    }
   ],
   "source": [
    "a."
   ]
  },
  {
   "cell_type": "code",
   "execution_count": 36,
   "id": "122501a2",
   "metadata": {},
   "outputs": [],
   "source": [
    "s = (2,3,4,5,5)"
   ]
  },
  {
   "cell_type": "code",
   "execution_count": 37,
   "id": "60a73c7d",
   "metadata": {},
   "outputs": [
    {
     "data": {
      "text/plain": [
       "tuple"
      ]
     },
     "execution_count": 37,
     "metadata": {},
     "output_type": "execute_result"
    }
   ],
   "source": [
    "type(s)"
   ]
  },
  {
   "cell_type": "code",
   "execution_count": 38,
   "id": "9b869c10",
   "metadata": {},
   "outputs": [
    {
     "data": {
      "text/plain": [
       "True"
      ]
     },
     "execution_count": 38,
     "metadata": {},
     "output_type": "execute_result"
    }
   ],
   "source": [
    "all(s)"
   ]
  },
  {
   "cell_type": "code",
   "execution_count": null,
   "id": "4fb41281",
   "metadata": {},
   "outputs": [],
   "source": []
  },
  {
   "cell_type": "code",
   "execution_count": 46,
   "id": "10626711",
   "metadata": {},
   "outputs": [
    {
     "data": {
      "text/plain": [
       "True"
      ]
     },
     "execution_count": 46,
     "metadata": {},
     "output_type": "execute_result"
    }
   ],
   "source": [
    "all(s)"
   ]
  },
  {
   "cell_type": "code",
   "execution_count": 50,
   "id": "675df5e6",
   "metadata": {},
   "outputs": [
    {
     "data": {
      "text/plain": [
       "True"
      ]
     },
     "execution_count": 50,
     "metadata": {},
     "output_type": "execute_result"
    }
   ],
   "source": [
    "s2 =(1,\"false\")\n",
    "all(s2)"
   ]
  },
  {
   "cell_type": "code",
   "execution_count": null,
   "id": "1f6193c6",
   "metadata": {},
   "outputs": [],
   "source": []
  },
  {
   "cell_type": "code",
   "execution_count": 39,
   "id": "69cadcaa",
   "metadata": {},
   "outputs": [
    {
     "ename": "NameError",
     "evalue": "name 'pt1' is not defined",
     "output_type": "error",
     "traceback": [
      "\u001b[1;31m---------------------------------------------------------------------------\u001b[0m",
      "\u001b[1;31mNameError\u001b[0m                                 Traceback (most recent call last)",
      "Input \u001b[1;32mIn [39]\u001b[0m, in \u001b[0;36m<cell line: 3>\u001b[1;34m()\u001b[0m\n\u001b[0;32m      1\u001b[0m tp\u001b[38;5;241m=\u001b[39m()\n\u001b[0;32m      2\u001b[0m tp1\u001b[38;5;241m=\u001b[39mtp\u001b[38;5;241m*\u001b[39m\u001b[38;5;241m2\u001b[39m\n\u001b[1;32m----> 3\u001b[0m \u001b[38;5;28mprint\u001b[39m(\u001b[38;5;28mlen\u001b[39m(\u001b[43mpt1\u001b[49m))\n",
      "\u001b[1;31mNameError\u001b[0m: name 'pt1' is not defined"
     ]
    }
   ],
   "source": [
    "tp=()\n",
    "tp1=tp*2\n",
    "print(len(pt1))\n"
   ]
  },
  {
   "cell_type": "code",
   "execution_count": 51,
   "id": "4458fcc1",
   "metadata": {},
   "outputs": [
    {
     "name": "stdout",
     "output_type": "stream",
     "text": [
      "[2.23, 'john', 70.2]\n"
     ]
    }
   ],
   "source": [
    "list = [ 'abcd', 786, 2.23, 'john', 70.2]\n",
    "print (list[2:])\n",
    "\n"
   ]
  },
  {
   "cell_type": "code",
   "execution_count": 56,
   "id": "81fe7b99",
   "metadata": {},
   "outputs": [],
   "source": [
    "A=[10,20,30,40,50]\n",
    "b=[11,12,13,14,15]\n",
    "A.append(b)"
   ]
  },
  {
   "cell_type": "code",
   "execution_count": 58,
   "id": "7ea8fb72",
   "metadata": {},
   "outputs": [
    {
     "data": {
      "text/plain": [
       "[10, 20, 30, 40, 50, [11, 12, 13, 14, 15]]"
      ]
     },
     "execution_count": 58,
     "metadata": {},
     "output_type": "execute_result"
    }
   ],
   "source": [
    "A"
   ]
  },
  {
   "cell_type": "code",
   "execution_count": 1,
   "id": "7d52cc84",
   "metadata": {},
   "outputs": [
    {
     "ename": "ModuleNotFoundError",
     "evalue": "No module named 'pulp'",
     "output_type": "error",
     "traceback": [
      "\u001b[1;31m---------------------------------------------------------------------------\u001b[0m",
      "\u001b[1;31mModuleNotFoundError\u001b[0m                       Traceback (most recent call last)",
      "Input \u001b[1;32mIn [1]\u001b[0m, in \u001b[0;36m<cell line: 2>\u001b[1;34m()\u001b[0m\n\u001b[0;32m      1\u001b[0m \u001b[38;5;28;01mimport\u001b[39;00m \u001b[38;5;21;01mpandas\u001b[39;00m \u001b[38;5;28;01mas\u001b[39;00m \u001b[38;5;21;01mpd\u001b[39;00m\n\u001b[1;32m----> 2\u001b[0m \u001b[38;5;28;01mfrom\u001b[39;00m \u001b[38;5;21;01mpulp\u001b[39;00m \u001b[38;5;28;01mimport\u001b[39;00m \u001b[38;5;241m*\u001b[39m\n",
      "\u001b[1;31mModuleNotFoundError\u001b[0m: No module named 'pulp'"
     ]
    }
   ],
   "source": [
    "import pandas as pd\n",
    "from pulp import *"
   ]
  },
  {
   "cell_type": "code",
   "execution_count": null,
   "id": "a131800a",
   "metadata": {},
   "outputs": [],
   "source": []
  }
 ],
 "metadata": {
  "kernelspec": {
   "display_name": "Python 3 (ipykernel)",
   "language": "python",
   "name": "python3"
  },
  "language_info": {
   "codemirror_mode": {
    "name": "ipython",
    "version": 3
   },
   "file_extension": ".py",
   "mimetype": "text/x-python",
   "name": "python",
   "nbconvert_exporter": "python",
   "pygments_lexer": "ipython3",
   "version": "3.9.12"
  }
 },
 "nbformat": 4,
 "nbformat_minor": 5
}
