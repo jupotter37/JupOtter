{
 "cells": [
  {
   "cell_type": "code",
   "execution_count": 1,
   "metadata": {},
   "outputs": [
    {
     "name": "stdout",
     "output_type": "stream",
     "text": [
      "grace您好:\n",
      "您的BMI值:20.31\n"
     ]
    }
   ],
   "source": [
    "name = input(\"請輸入姓名: \")\n",
    "height_cm = float(input(\"請輸入身高(公分): \"))\n",
    "weight = float(input(\"請輸入體重(kg): \"))\n",
    "height_m = height_cm / 100\n",
    "BMI = round(weight / height_m ** 2, ndigits=2)\n",
    "print(f\"{name}您好:\")\n",
    "print(f\"您的BMI值:{BMI}\" )"
   ]
  },
  {
   "cell_type": "code",
   "execution_count": 1,
   "metadata": {},
   "outputs": [
    {
     "ename": "IndentationError",
     "evalue": "expected an indented block after 'try' statement on line 1 (3566813053.py, line 2)",
     "output_type": "error",
     "traceback": [
      "\u001b[0;36m  Cell \u001b[0;32mIn[1], line 2\u001b[0;36m\u001b[0m\n\u001b[0;31m    name=str(input(\"請輸入姓名\"))\u001b[0m\n\u001b[0m    ^\u001b[0m\n\u001b[0;31mIndentationError\u001b[0m\u001b[0;31m:\u001b[0m expected an indented block after 'try' statement on line 1\n"
     ]
    }
   ],
   "source": [
    "try:\n",
    "name=str(input(\"請輸入姓名\"))\n",
    "height=float(input('請輸入身高'))\n",
    "weight=float(input('請輸入體重'))\n",
    "bmi=weight/(((height*0.01))**2)\n",
    "if bmi<18.5:\n",
    "grade=\"體重過輕\"\n",
    "elif bmi<24:\n",
    "grade=\"正常範圍\"\n",
    "elif bmi<27:\n",
    "grade=\"過重\"\n",
    "elif bmi<30:\n",
    "grade=\"輕度肥胖\"\n",
    "elif bmi<35:\n",
    "grade=\"中度肥胖\"\n",
    "elif bmi>=35:\n",
    "grade=\"重度肥胖\"\n",
    "print(f\"{name}的bmi為{bmi},為{grade}\")\n",
    "except ValueError:\n",
    "print(\"格式錯誤\")\n",
    "else:\n",
    "print(\"應用程式結束\")"
   ]
  }
 ],
 "metadata": {
  "kernelspec": {
   "display_name": "Python 3",
   "language": "python",
   "name": "python3"
  },
  "language_info": {
   "codemirror_mode": {
    "name": "ipython",
    "version": 3
   },
   "file_extension": ".py",
   "mimetype": "text/x-python",
   "name": "python",
   "nbconvert_exporter": "python",
   "pygments_lexer": "ipython3",
   "version": "3.11.9"
  }
 },
 "nbformat": 4,
 "nbformat_minor": 2
}
