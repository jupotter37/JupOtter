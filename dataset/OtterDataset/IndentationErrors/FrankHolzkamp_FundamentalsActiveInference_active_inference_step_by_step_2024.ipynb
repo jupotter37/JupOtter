{
  "nbformat": 4,
  "nbformat_minor": 0,
  "metadata": {
    "colab": {
      "provenance": [],
      "authorship_tag": "ABX9TyN06c0jlRF8bZKy6+/5rF9O",
      "include_colab_link": true
    },
    "kernelspec": {
      "name": "python3",
      "display_name": "Python 3"
    },
    "language_info": {
      "name": "python"
    }
  },
  "cells": [
    {
      "cell_type": "markdown",
      "metadata": {
        "id": "view-in-github",
        "colab_type": "text"
      },
      "source": [
        "<a href=\"https://colab.research.google.com/github/FrankHolzkamp/FundamentalsActiveInference/blob/main/active_inference_step_by_step_2024.ipynb\" target=\"_parent\"><img src=\"https://colab.research.google.com/assets/colab-badge.svg\" alt=\"Open In Colab\"/></a>"
      ]
    },
    {
      "cell_type": "code",
      "execution_count": 34,
      "metadata": {
        "colab": {
          "base_uri": "https://localhost:8080/"
        },
        "id": "Vjk-i3fnNrEU",
        "outputId": "4c1f9fef-b4af-4637-a39b-62cdc5122ea4"
      },
      "outputs": [
        {
          "output_type": "stream",
          "name": "stdout",
          "text": [
            "KL divergence: 0.000006\n"
          ]
        }
      ],
      "source": [
        "import numpy as np\n",
        "\n",
        "def kl_divergence(p, q):\n",
        "    \"\"\"\n",
        "    Calculate the Kullback-Leibler divergence between two discrete probability distributions.\n",
        "\n",
        "    Parameters:\n",
        "    p (list or numpy array): The true probability distribution\n",
        "    q (list or numpy array): The approximating probability distribution\n",
        "\n",
        "    Returns:\n",
        "    float: The KL divergence from p to q\n",
        "    \"\"\"\n",
        "    p = np.asarray(p, dtype=np.float64)\n",
        "    q = np.asarray(q, dtype=np.float64)\n",
        "\n",
        "    # Ensure both distributions sum to 1\n",
        "    p /= p.sum()\n",
        "    q /= q.sum()\n",
        "\n",
        "    # Avoid division by zero\n",
        "    q = np.where(q == 0, 1e-10, q)\n",
        "\n",
        "    return np.sum(p * np.log(p / q))\n",
        "\n",
        "# Example usage\n",
        "p = [0.1, 0.2, 0.3, 0.4]\n",
        "q = [0.101, 0.2, 0.3, 0.399]\n",
        "\n",
        "kl_div = kl_divergence(p, q)\n",
        "print(f\"KL divergence: {kl_div:.6f}\")"
      ]
    },
    {
      "cell_type": "code",
      "source": [],
      "metadata": {
        "id": "acsTXOaWxAxU"
      },
      "execution_count": null,
      "outputs": []
    },
    {
      "cell_type": "code",
      "source": [
        "import numpy as np\n",
        "a = np.array([[1,2] , [2, 3] , [3, 4]])\n",
        "# print(a.sum())\n",
        "\n",
        "\n",
        "def expectation(a):\n",
        "for row in a:\n",
        "  result += (np.multiply.reduce(row))\n",
        "  return result\n",
        "print(expectation(a))\n",
        "\n"
      ],
      "metadata": {
        "colab": {
          "base_uri": "https://localhost:8080/",
          "height": 110
        },
        "id": "IZ47WSdaxBDz",
        "outputId": "f9212d83-6e54-40d5-f4b9-b5baa56689cb"
      },
      "execution_count": 28,
      "outputs": [
        {
          "output_type": "error",
          "ename": "IndentationError",
          "evalue": "expected an indented block after function definition on line 6 (<ipython-input-28-129d3b8d9708>, line 7)",
          "traceback": [
            "\u001b[0;36m  File \u001b[0;32m\"<ipython-input-28-129d3b8d9708>\"\u001b[0;36m, line \u001b[0;32m7\u001b[0m\n\u001b[0;31m    for row in a:\u001b[0m\n\u001b[0m    ^\u001b[0m\n\u001b[0;31mIndentationError\u001b[0m\u001b[0;31m:\u001b[0m expected an indented block after function definition on line 6\n"
          ]
        }
      ]
    },
    {
      "source": [
        "import numpy as np\n",
        "a = np.array([[1,1/12] , [2, 1/12] , [3, 1/6], [4, 1/6], [5, 1/6], [6, 1/3]])\n",
        "# print(a.sum())\n",
        "\n",
        "\n",
        "def expectation(a):\n",
        "    result = 0  # Initialize result to 0 before the loop\n",
        "    for row in a:\n",
        "        result += (np.multiply.reduce(row))\n",
        "    return result  # Return result after the loop completes\n",
        "\n",
        "print(expectation(a))"
      ],
      "cell_type": "code",
      "metadata": {
        "colab": {
          "base_uri": "https://localhost:8080/"
        },
        "id": "HYZOTzhvnvVC",
        "outputId": "4247d81c-89b0-4a43-b95f-9a6766a00d0a"
      },
      "execution_count": 32,
      "outputs": [
        {
          "output_type": "stream",
          "name": "stdout",
          "text": [
            "4.25\n"
          ]
        }
      ]
    },
    {
      "cell_type": "code",
      "source": [],
      "metadata": {
        "id": "iQxs_swZlaF6"
      },
      "execution_count": null,
      "outputs": []
    }
  ]
}