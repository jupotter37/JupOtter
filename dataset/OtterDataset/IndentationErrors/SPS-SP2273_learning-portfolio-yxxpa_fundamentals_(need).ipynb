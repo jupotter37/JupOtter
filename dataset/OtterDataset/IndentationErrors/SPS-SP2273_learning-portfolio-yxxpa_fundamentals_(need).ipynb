{
 "cells": [
  {
   "attachments": {},
   "cell_type": "markdown",
   "id": "123456",
   "metadata": {},
   "source": [
    "<div style=\"text-align:left;font-size:2em\"><span style=\"font-weight:bolder;font-size:1.25em\">SP2273 | Learning Portfolio</span><br><br><span style=\"font-weight:bold;color:darkred\">Fundamentals (Need)</span></div>"
   ]
  },
  {
   "attachments": {},
   "cell_type": "markdown",
   "id": "34b69e36",
   "metadata": {},
   "source": [
    "# 1 Functions"
   ]
  },
  {
   "cell_type": "code",
   "execution_count": 75,
   "id": "4d85dcb9-d280-4fc4-a145-28841736dc86",
   "metadata": {},
   "outputs": [
    {
     "name": "stdout",
     "output_type": "stream",
     "text": [
      "Hello World!\n"
     ]
    }
   ],
   "source": [
    "print(\"Hello World!\")"
   ]
  },
  {
   "attachments": {},
   "cell_type": "markdown",
   "id": "3816d130",
   "metadata": {},
   "source": [
    "# 3 Python is interpreted"
   ]
  },
  {
   "cell_type": "code",
   "execution_count": 76,
   "id": "f8ec2854-5f61-4805-99e9-d2577f6c23b5",
   "metadata": {},
   "outputs": [
    {
     "name": "stdout",
     "output_type": "stream",
     "text": [
      "Hello World 1\n",
      "Hello World a second time\n",
      "Hello World thrice\n"
     ]
    }
   ],
   "source": [
    "print(\"Hello World 1\")\n",
    "print(\"Hello World a second time\")\n",
    "print(\"Hello World thrice\")"
   ]
  },
  {
   "attachments": {},
   "cell_type": "markdown",
   "id": "8eec4751",
   "metadata": {},
   "source": [
    "# 4 Python is sensitive."
   ]
  },
  {
   "cell_type": "code",
   "execution_count": 77,
   "id": "7cc2fe45-ef72-432f-a090-80b7b4424b34",
   "metadata": {},
   "outputs": [
    {
     "name": "stdout",
     "output_type": "stream",
     "text": [
      "Hello World!\n"
     ]
    },
    {
     "ename": "NameError",
     "evalue": "name 'Print' is not defined",
     "output_type": "error",
     "traceback": [
      "\u001b[0;31m---------------------------------------------------------------------------\u001b[0m",
      "\u001b[0;31mNameError\u001b[0m                                 Traceback (most recent call last)",
      "Cell \u001b[0;32mIn[77], line 2\u001b[0m\n\u001b[1;32m      1\u001b[0m \u001b[38;5;28mprint\u001b[39m(\u001b[38;5;124m\"\u001b[39m\u001b[38;5;124mHello World!\u001b[39m\u001b[38;5;124m\"\u001b[39m)\n\u001b[0;32m----> 2\u001b[0m \u001b[43mPrint\u001b[49m(\u001b[38;5;124m\"\u001b[39m\u001b[38;5;124mHello World!\u001b[39m\u001b[38;5;124m\"\u001b[39m)\n",
      "\u001b[0;31mNameError\u001b[0m: name 'Print' is not defined"
     ]
    }
   ],
   "source": [
    "print(\"Hello World!\")\n",
    "Print(\"Hello World!\")"
   ]
  },
  {
   "attachments": {},
   "cell_type": "markdown",
   "id": "431f1383",
   "metadata": {},
   "source": [
    "# 6 Comments"
   ]
  },
  {
   "cell_type": "code",
   "execution_count": 20,
   "id": "30d91846-5759-410a-8235-46a90baf08a5",
   "metadata": {},
   "outputs": [
    {
     "name": "stdout",
     "output_type": "stream",
     "text": [
      "5.0\n"
     ]
    }
   ],
   "source": [
    "# Side lengths of a right triangle\n",
    "a = 3\n",
    "b = 4\n",
    "\n",
    "# Calculating the hypotenuse\n",
    "h = (a**2 + b**2)**(1/2)\n",
    "print(h)"
   ]
  },
  {
   "cell_type": "code",
   "execution_count": null,
   "id": "062466ad-19c5-4e11-a884-5861afc9cd88",
   "metadata": {},
   "outputs": [],
   "source": [
    "\"\"\"\n",
    "\n",
    "Docstring\n",
    "\n",
    "\"\"\""
   ]
  },
  {
   "attachments": {},
   "cell_type": "markdown",
   "id": "ae46f104",
   "metadata": {},
   "source": [
    "# 8 = is not the same as =="
   ]
  },
  {
   "cell_type": "code",
   "execution_count": 16,
   "id": "d29f31a4-2fe4-49d0-9d13-4f1fb98f7a84",
   "metadata": {},
   "outputs": [],
   "source": [
    "name = \"Batman\""
   ]
  },
  {
   "cell_type": "code",
   "execution_count": 17,
   "id": "7754fa73-396c-44bc-99c9-82ade9fff67d",
   "metadata": {},
   "outputs": [
    {
     "data": {
      "text/plain": [
       "'Batman'"
      ]
     },
     "execution_count": 17,
     "metadata": {},
     "output_type": "execute_result"
    }
   ],
   "source": [
    "name"
   ]
  },
  {
   "cell_type": "code",
   "execution_count": 18,
   "id": "250dced3-47c9-416b-8065-e397270ac7e5",
   "metadata": {},
   "outputs": [
    {
     "data": {
      "text/plain": [
       "True"
      ]
     },
     "execution_count": 18,
     "metadata": {},
     "output_type": "execute_result"
    }
   ],
   "source": [
    "name == \"Batman\""
   ]
  },
  {
   "attachments": {},
   "cell_type": "markdown",
   "id": "342d5b30",
   "metadata": {},
   "source": [
    "# 10 Use if to make decisions"
   ]
  },
  {
   "cell_type": "code",
   "execution_count": 30,
   "id": "7547d1fd-3e5e-415b-8ea4-f44ba11d3d08",
   "metadata": {},
   "outputs": [
    {
     "name": "stdout",
     "output_type": "stream",
     "text": [
      "Hello Kitty!\n",
      "Hello Kitty!\n"
     ]
    }
   ],
   "source": [
    "name = \"Kitty\"\n",
    "\n",
    "if name == \"Kitty\":\n",
    "    print(\"Hello Kitty!\")  # Indentation identifies a block of code\n",
    "    print(\"Hello Kitty!\")\n",
    "else:\n",
    "    print(\"Hello World!\")"
   ]
  },
  {
   "attachments": {},
   "cell_type": "markdown",
   "id": "ced25094",
   "metadata": {},
   "source": [
    "# 12 Indentations (spaces) are sooo IMPORTANT!"
   ]
  },
  {
   "cell_type": "code",
   "execution_count": 31,
   "id": "242cb03a-a709-47ad-bed6-50a8ec89c926",
   "metadata": {},
   "outputs": [
    {
     "ename": "IndentationError",
     "evalue": "unexpected indent (3087035115.py, line 3)",
     "output_type": "error",
     "traceback": [
      "\u001b[0;36m  Cell \u001b[0;32mIn[31], line 3\u001b[0;36m\u001b[0m\n\u001b[0;31m    print(x)\u001b[0m\n\u001b[0m    ^\u001b[0m\n\u001b[0;31mIndentationError\u001b[0m\u001b[0;31m:\u001b[0m unexpected indent\n"
     ]
    }
   ],
   "source": [
    "# Does not work\n",
    "x = 5\n",
    "    print(x)"
   ]
  },
  {
   "cell_type": "code",
   "execution_count": 32,
   "id": "73a177d8-73e0-4cab-8f3f-00e50a1f9592",
   "metadata": {},
   "outputs": [
    {
     "name": "stdout",
     "output_type": "stream",
     "text": [
      "5\n"
     ]
    }
   ],
   "source": [
    "x = 5\n",
    "print(x)"
   ]
  },
  {
   "attachments": {},
   "cell_type": "markdown",
   "id": "2dd8d064",
   "metadata": {},
   "source": [
    "# 14 ‘age’ is English, age is a variable."
   ]
  },
  {
   "cell_type": "code",
   "execution_count": 80,
   "id": "9d0529e6-7a8d-41b0-b49d-909232595433",
   "metadata": {},
   "outputs": [
    {
     "name": "stdout",
     "output_type": "stream",
     "text": [
      "20\n",
      "20 years\n"
     ]
    }
   ],
   "source": [
    "student_age = 20\n",
    "print(student_age)\n",
    "print(student_age, \"years\")"
   ]
  },
  {
   "cell_type": "code",
   "execution_count": 79,
   "id": "cac27620-6a60-4be7-b1f3-31046f7a46f8",
   "metadata": {},
   "outputs": [
    {
     "name": "stdout",
     "output_type": "stream",
     "text": [
      "age\n"
     ]
    }
   ],
   "source": [
    "print(\"age\")"
   ]
  },
  {
   "cell_type": "code",
   "execution_count": 33,
   "id": "75f128a3-fa5f-4d66-8b9d-eba3c1d987a4",
   "metadata": {},
   "outputs": [
    {
     "ename": "SyntaxError",
     "evalue": "invalid syntax (1604031882.py, line 2)",
     "output_type": "error",
     "traceback": [
      "\u001b[0;36m  Cell \u001b[0;32mIn[33], line 2\u001b[0;36m\u001b[0m\n\u001b[0;31m    if = 3\u001b[0m\n\u001b[0m       ^\u001b[0m\n\u001b[0;31mSyntaxError\u001b[0m\u001b[0;31m:\u001b[0m invalid syntax\n"
     ]
    }
   ],
   "source": [
    "# Keywords like \"if\" and \"for\" cannot be used as variables\n",
    "if = 3 "
   ]
  },
  {
   "attachments": {},
   "cell_type": "markdown",
   "id": "3c60f743",
   "metadata": {},
   "source": [
    "# 15 Brackets"
   ]
  },
  {
   "cell_type": "code",
   "execution_count": 34,
   "id": "b6834a1b-be91-4e23-9f70-a074ffeb51b5",
   "metadata": {},
   "outputs": [
    {
     "name": "stdout",
     "output_type": "stream",
     "text": [
      "Hmmm\n"
     ]
    }
   ],
   "source": [
    "print(\"Hmmm\")"
   ]
  },
  {
   "cell_type": "code",
   "execution_count": 81,
   "id": "d9eb0933-8858-4e96-ad66-a5dd80617110",
   "metadata": {},
   "outputs": [
    {
     "data": {
      "text/plain": [
       "-3"
      ]
     },
     "execution_count": 81,
     "metadata": {},
     "output_type": "execute_result"
    }
   ],
   "source": [
    "(1 - 2) * 3"
   ]
  },
  {
   "cell_type": "code",
   "execution_count": 82,
   "id": "448385a6-40d2-4394-b1f5-6c8cfdefe71a",
   "metadata": {},
   "outputs": [],
   "source": [
    "# 1D list\n",
    "first_list = [1, 2, 3, 4, 5]  \n",
    "\n",
    "# 2D list\n",
    "second_list = [\n",
    "                [1, \"January\"], \n",
    "                [2, \"February\"], \n",
    "                [3, \"March\"], \n",
    "                [4, \"April\"], \n",
    "                [5, \"May\"]\n",
    "              ]  "
   ]
  },
  {
   "attachments": {},
   "cell_type": "markdown",
   "id": "b0c2c2db-ab0c-4a36-b83b-50de52182591",
   "metadata": {},
   "source": [
    "Dictionary"
   ]
  },
  {
   "cell_type": "code",
   "execution_count": 88,
   "id": "71994496-6d9a-4e05-9486-dc44f192a281",
   "metadata": {},
   "outputs": [],
   "source": [
    "drink_info = {\n",
    "    \"Name\": \"Bubble Tea\",\n",
    "    \"Ice Level\": \"Less Ice\",\n",
    "    \"Sugar Level\": \"50%\",\n",
    "    \"Add-Ons\": [\"Pudding\", \"Coconut Jelly\"]\n",
    "}"
   ]
  },
  {
   "cell_type": "code",
   "execution_count": 90,
   "id": "73b4efbc-e9b8-44e3-ac33-d149959d0d62",
   "metadata": {},
   "outputs": [
    {
     "name": "stdout",
     "output_type": "stream",
     "text": [
      "Coconut Jelly\n",
      "50%\n"
     ]
    }
   ],
   "source": [
    "print(drink_info[\"Add-Ons\"][1])\n",
    "print(drink_info[\"Sugar Level\"])"
   ]
  },
  {
   "attachments": {},
   "cell_type": "markdown",
   "id": "35bc5370",
   "metadata": {},
   "source": [
    "# 16 Giving Python superpowers with Packages"
   ]
  },
  {
   "attachments": {},
   "cell_type": "markdown",
   "id": "0eada457",
   "metadata": {},
   "source": [
    "## 16.1 Some Context"
   ]
  },
  {
   "cell_type": "code",
   "execution_count": 44,
   "id": "2e828700-1a28-4bdd-9e1f-3bc887570086",
   "metadata": {},
   "outputs": [
    {
     "ename": "NameError",
     "evalue": "name 'sqrt' is not defined",
     "output_type": "error",
     "traceback": [
      "\u001b[0;31m---------------------------------------------------------------------------\u001b[0m",
      "\u001b[0;31mNameError\u001b[0m                                 Traceback (most recent call last)",
      "Cell \u001b[0;32mIn[44], line 1\u001b[0m\n\u001b[0;32m----> 1\u001b[0m \u001b[43msqrt\u001b[49m(\u001b[38;5;241m9\u001b[39m)  \u001b[38;5;66;03m# Does not work\u001b[39;00m\n",
      "\u001b[0;31mNameError\u001b[0m: name 'sqrt' is not defined"
     ]
    }
   ],
   "source": [
    "sqrt(9)  # Does not work"
   ]
  },
  {
   "attachments": {},
   "cell_type": "markdown",
   "id": "c1dabe4b",
   "metadata": {},
   "source": [
    "## 16.2 Importing the math package"
   ]
  },
  {
   "cell_type": "code",
   "execution_count": 45,
   "id": "01b228a4-533b-44c8-bdbc-2ae07c93b11f",
   "metadata": {},
   "outputs": [
    {
     "data": {
      "text/plain": [
       "3.0"
      ]
     },
     "execution_count": 45,
     "metadata": {},
     "output_type": "execute_result"
    }
   ],
   "source": [
    "import math\n",
    "\n",
    "math.sqrt(9)"
   ]
  },
  {
   "attachments": {},
   "cell_type": "markdown",
   "id": "7a9cd7b4",
   "metadata": {},
   "source": [
    "## 16.3 Importing the numpy package"
   ]
  },
  {
   "cell_type": "code",
   "execution_count": 46,
   "id": "f846b0de-8404-4689-b722-8c6f82b5dcec",
   "metadata": {},
   "outputs": [
    {
     "data": {
      "text/plain": [
       "3.0"
      ]
     },
     "execution_count": 46,
     "metadata": {},
     "output_type": "execute_result"
    }
   ],
   "source": [
    "import numpy\n",
    "\n",
    "numpy.sqrt(9)"
   ]
  },
  {
   "cell_type": "code",
   "execution_count": 54,
   "id": "81ad197f-b053-4748-8128-abfab35b8b74",
   "metadata": {},
   "outputs": [],
   "source": [
    "import numpy as np  # Alias"
   ]
  },
  {
   "cell_type": "code",
   "execution_count": 55,
   "id": "b2a22714-ac6a-4338-a55e-30cc7ae74971",
   "metadata": {},
   "outputs": [
    {
     "data": {
      "text/plain": [
       "3.0"
      ]
     },
     "execution_count": 55,
     "metadata": {},
     "output_type": "execute_result"
    }
   ],
   "source": [
    "np.sqrt(9)"
   ]
  },
  {
   "attachments": {},
   "cell_type": "markdown",
   "id": "03db6a1e",
   "metadata": {},
   "source": [
    "## 16.4 Why so many packages?"
   ]
  },
  {
   "cell_type": "code",
   "execution_count": 92,
   "id": "54a6921c-c6f5-421f-b813-42a62accd115",
   "metadata": {},
   "outputs": [
    {
     "data": {
      "text/plain": [
       "array([2., 3., 4.])"
      ]
     },
     "execution_count": 92,
     "metadata": {},
     "output_type": "execute_result"
    }
   ],
   "source": [
    "# Functions in different packages have different capabilities and efficiencies\n",
    "np.sqrt([4, 9, 16])"
   ]
  },
  {
   "attachments": {},
   "cell_type": "markdown",
   "id": "44ea045e",
   "metadata": {},
   "source": [
    "# 18 The dot (.)\n"
   ]
  },
  {
   "cell_type": "code",
   "execution_count": 58,
   "id": "04282252-8140-4c9e-a537-d1ed596ee53f",
   "metadata": {},
   "outputs": [
    {
     "data": {
      "text/plain": [
       "'APPLE'"
      ]
     },
     "execution_count": 58,
     "metadata": {},
     "output_type": "execute_result"
    }
   ],
   "source": [
    "\"apple\".upper()"
   ]
  },
  {
   "cell_type": "code",
   "execution_count": 59,
   "id": "b5a40952-090a-43bd-b861-8b4867e33b29",
   "metadata": {},
   "outputs": [
    {
     "data": {
      "text/plain": [
       "['I', 'like', 'ice', 'cream']"
      ]
     },
     "execution_count": 59,
     "metadata": {},
     "output_type": "execute_result"
    }
   ],
   "source": [
    "\"I like ice cream\".split()"
   ]
  },
  {
   "cell_type": "code",
   "execution_count": 60,
   "id": "622eb002-d334-4bf6-a9a4-f9f66fa089d9",
   "metadata": {},
   "outputs": [],
   "source": [
    "x = 1j + 10"
   ]
  },
  {
   "cell_type": "code",
   "execution_count": 63,
   "id": "1b40a613-5ec0-40ef-b2fe-fef2fdfe136a",
   "metadata": {},
   "outputs": [
    {
     "data": {
      "text/plain": [
       "10.0"
      ]
     },
     "execution_count": 63,
     "metadata": {},
     "output_type": "execute_result"
    }
   ],
   "source": [
    "x.real  # property"
   ]
  },
  {
   "cell_type": "code",
   "execution_count": 64,
   "id": "00007273-1876-4231-9965-dda8a6eeee59",
   "metadata": {},
   "outputs": [
    {
     "data": {
      "text/plain": [
       "1.0"
      ]
     },
     "execution_count": 64,
     "metadata": {},
     "output_type": "execute_result"
    }
   ],
   "source": [
    "x.imag  # property"
   ]
  },
  {
   "cell_type": "markdown",
   "id": "67e0c8ba-32d7-48a0-b577-d520768b82e5",
   "metadata": {},
   "source": [
    "## Footnotes"
   ]
  }
 ],
 "metadata": {
  "kernelspec": {
   "display_name": "Python 3 (ipykernel)",
   "language": "python",
   "name": "python3"
  },
  "language_info": {
   "codemirror_mode": {
    "name": "ipython",
    "version": 3
   },
   "file_extension": ".py",
   "mimetype": "text/x-python",
   "name": "python",
   "nbconvert_exporter": "python",
   "pygments_lexer": "ipython3",
   "version": "3.11.5"
  },
  "toc": {
   "base_numbering": 1,
   "nav_menu": {},
   "number_sections": true,
   "sideBar": true,
   "skip_h1_title": false,
   "title_cell": "Table of Contents",
   "title_sidebar": "Contents",
   "toc_cell": false,
   "toc_position": {},
   "toc_section_display": true,
   "toc_window_display": false
  },
  "vscode": {
   "interpreter": {
    "hash": "31f2aee4e71d21fbe5cf8b01ff0e069b9275f58929596ceb00d14d90e3e16cd6"
   }
  }
 },
 "nbformat": 4,
 "nbformat_minor": 5
}
