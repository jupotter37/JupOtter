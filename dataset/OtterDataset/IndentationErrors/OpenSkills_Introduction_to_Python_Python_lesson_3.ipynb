{
  "cells": [
    {
      "cell_type": "markdown",
      "id": "a636881a-379f-443e-98db-534ff9f8f97b",
      "metadata": {},
      "source": [
        "# Python Lesson 3"
      ]
    },
    {
      "cell_type": "markdown",
      "id": "93b319e7",
      "metadata": {},
      "source": [
        "### Recap\n",
        "\n",
        "1) Which of the data types you learned about cannot have duplicate entries?\n",
        "\n",
        "    ชนิดข้อมูลประเภทใดที่คุณเรียนรู้แล้วไม่สามารถมีสมาชิกที่ซ้ำกันได้ ?\n",
        "\n",
        "2) Which of the data types you learned about are immutable (i.e. cannot be changed once created?)\n",
        "\n",
        "    ชนิดข้อมูลประเภทใดที่คุณเรียนรู้แล้วไม่เปลี่ยนรูป (คือ ไม่สามารถเปลี่ยนแปลงได้เมื่อสร้างแล้ว) ?\n",
        "\n",
        "3) How would you access elements \"dad\", \"brother\", \"sister\" from the list below?\n",
        "\n",
        "   myFamily = [\"grandmother\", \"mum\", \"dad\", \"brother\", \"sister\", \"me\", \"grandfather\", \"dog\"]\n",
        "\n",
        "    คุณสามารถเข้าถึงองค์ประกอบของ \"dad\", \"brother\", \"sister\" ในรายการข้างล่างได้อย่างไร ?\n",
        "    \n",
        "    myFamily = [\"grandmother\", \"mum\", \"dad\", \"brother\", \"sister\", \"me\", \"grandfather\", \"dog\"]"
      ]
    },
    {
      "cell_type": "markdown",
      "id": "223e4513",
      "metadata": {},
      "source": [
        "## if"
      ]
    },
    {
      "cell_type": "markdown",
      "id": "ec1779dd",
      "metadata": {},
      "source": [
        "`If...else` statements in Python allow us to control the flow of our program based on conditions. You've learnt about the idea of controlling the flow of your code in Scratch using code blocks, do you remember?\n",
        "\n",
        "\n",
        "คำสั่ง `if...else` ใน Python ช่วยให้คุณควบคุมการทำงานของโปรแกรมตามเงื่อนไขต่างๆ ซึ่งคล้ายกับการควบคุมการไหลของโค้ดใน Scratch โดยใช้บล็อกโค้ด จำได้ไหม?\n",
        "\n",
        "<img src=\"lesson_materials/scratch.png\">\n",
        "\n",
        "Well, in Python it's very similar, let's see how it works!\n",
        "\n",
        "เป็นสิ่งที่ดี, ในภาษา Python นั้น การทำงานมีลักษณะคล้ายคลึงกันมาก มาดูกันดีกว่าว่ามันทำงานอย่างไร!"
      ]
    },
    {
      "cell_type": "code",
      "execution_count": 4,
      "id": "e14030fd",
      "metadata": {},
      "outputs": [
        {
          "name": "stdout",
          "output_type": "stream",
          "text": [
            "a is in my list!\n"
          ]
        }
      ],
      "source": [
        "# A\n",
        "myList = [\"a\", \"b\", \"c\", \"d\"]\n",
        "if \"a\" in myList:\n",
        "    print(\"a is in my list!\")"
      ]
    },
    {
      "cell_type": "markdown",
      "id": "b4e852ff",
      "metadata": {},
      "source": [
        "As you can see the `if` part is a condition - if it is true, the code block within the condition will run. If it is false, it will not run!\n",
        "\n",
        "เห็นได้จากตัวอย่างว่าส่วนของ `if` เป็นเงื่อนไข - ถ้ามันเป็นจริง, บล็อกโค้ดภายในเงื่อนไขจะถูกรัน ถ้ามันเป็นเท็จ มันจะไม่ถูกรัน!"
      ]
    },
    {
      "cell_type": "code",
      "execution_count": 5,
      "id": "a12238d6",
      "metadata": {},
      "outputs": [],
      "source": [
        "# B\n",
        "if \"z\" in myList:\n",
        "    print(\"z is in my list!\")"
      ]
    },
    {
      "cell_type": "markdown",
      "id": "09f1a6af",
      "metadata": {},
      "source": [
        "Notice how we use indentation (white space in the beginning of the line) in Python! We use indentation to separate different scopes of the code! If we don't use it, we'll get `IndentationError`\n",
        "\n",
        "ในภาษา Python สังเกตว่าเราใช้การเยื้องย่อ (ช่องว่างด้านหน้าของบรรทัด) เพื่อกำหนดขอบเขตที่แตกต่างกันของโค้ด! ถ้าเรา ไม่ ใช้การเยื้องย่อ เราจะเจอข้อผิดพลาดที่เรียกว่า IndentationError"
      ]
    },
    {
      "cell_type": "code",
      "execution_count": 6,
      "id": "7780aa1f",
      "metadata": {},
      "outputs": [
        {
          "ename": "IndentationError",
          "evalue": "expected an indented block (<ipython-input-6-4caae13cced5>, line 2)",
          "output_type": "error",
          "traceback": [
            "\u001b[0;36m  File \u001b[0;32m\"<ipython-input-6-4caae13cced5>\"\u001b[0;36m, line \u001b[0;32m2\u001b[0m\n\u001b[0;31m    print(\"a is in my list!\")\u001b[0m\n\u001b[0m        ^\u001b[0m\n\u001b[0;31mIndentationError\u001b[0m\u001b[0;31m:\u001b[0m expected an indented block\n"
          ]
        }
      ],
      "source": [
        "if \"a\" in myList:\n",
        "print(\"a is in my list!\")"
      ]
    },
    {
      "cell_type": "markdown",
      "id": "30e65a8e",
      "metadata": {},
      "source": [
        "### Exercise 3.1\n",
        "\n",
        "Do you remember the comparison operators we talked about in lesson 1?\n",
        "\n",
        "คุณจำตัวดำเนินการเปรียบเทียบ (comparison operators) ที่เราพูดถึงในบทเรียนที่ 1 ได้ไหม?\n",
        "\n",
        "\n",
        "Consider `a = 28`, `b=34`. If `b` is *greater than or equal to* `a`, print \"that's true!\"\n",
        "\n",
        "พิจารณา `a = 28`, `b=34`. ถ้า `b` *มากกว่าหรือเท่ากับ* `a`, พิมพ์ \"that's true!\""
      ]
    },
    {
      "cell_type": "code",
      "execution_count": null,
      "id": "910fe4e5",
      "metadata": {},
      "outputs": [],
      "source": [
        "# Insert your answer here!\n"
      ]
    },
    {
      "cell_type": "markdown",
      "id": "7110e821",
      "metadata": {},
      "source": [
        "## else\n",
        "`else` statement is used together with `if` statement. `else` statement executes for everything that the `if` condition did not satisfy. Consider the example below:\n",
        "\n",
        "คำสั่ง `else` ใช้งานร่วมกับ คำสั่ง `if`. คำสั่ง `else` จะดำเนินการกับทุกสิ่งที่ไม่ตรงตามเงื่อนไขคำสั่ง `if`. ลองพิจารณาจากตัวอย่าง:"
      ]
    },
    {
      "cell_type": "code",
      "execution_count": null,
      "id": "292201d7",
      "metadata": {},
      "outputs": [
        {
          "name": "stdout",
          "output_type": "stream",
          "text": [
            "Congratulations, you passed!\n"
          ]
        }
      ],
      "source": [
        "passing_grade = 70\n",
        "my_grade = 85\n",
        "\n",
        "if my_grade >= passing_grade:\n",
        "    print(\"Congratulations, you passed!\")\n",
        "else:\n",
        "    print(\"I'm sorry, you failed. Try again next time!\")"
      ]
    },
    {
      "cell_type": "markdown",
      "id": "4609dac3",
      "metadata": {},
      "source": [
        "### Exercise 3.2\n",
        "\n",
        "Write a program that prints \"Enjoy the movie\" when the variable `age` is 18+. The program should print \"You're too young for this!\", when the variable `age` is less than 18.\n",
        "\n",
        "เขียนโปรแกรม โดยพิมพ์ \"Enjoy the movie\" เมื่อตัวแปร `age` คือ 18+. โปรแกรมควรพิมพ์ \"You're too young for this!\", เมื่อตัวแปร `age` น้อยกว่า 18."
      ]
    },
    {
      "cell_type": "code",
      "execution_count": 1,
      "id": "aadc7d01",
      "metadata": {},
      "outputs": [],
      "source": [
        "# Insert your answer here!"
      ]
    },
    {
      "cell_type": "markdown",
      "id": "686d0c39-6dfa-464a-8e18-e59529bb6e10",
      "metadata": {},
      "source": [
        "## elif\n",
        "\n",
        "The `elif` keyword is Python's way of saying \"if the previous conditions were not true, then try this condition\". Note that it is not the same as `else`!\n",
        "\n",
        "คีย์เวิร์ด `elif` เป็นวิธีของ Python ในการพูดว่า \"หากเงื่อนไขก่อนหน้านี้ไม่เป็นความจริง ลองเงื่อนไขนี้\". โปรดทราบว่ามันไม่เหมือนกับ `else`!"
      ]
    },
    {
      "cell_type": "code",
      "execution_count": null,
      "id": "6551437c-4681-4d4b-b395-1c2ab03cfc02",
      "metadata": {
        "trusted": true
      },
      "outputs": [
        {
          "name": "stdout",
          "output_type": "stream",
          "text": [
            "a is less than b\n"
          ]
        }
      ],
      "source": [
        "a = 245\n",
        "b = 278\n",
        "if a == b:\n",
        "  print(\"a and b are equal\")\n",
        "elif a < b:\n",
        "  print(\"a is less than b\")\n",
        "else:\n",
        "  print(\"a is greater than b\")"
      ]
    },
    {
      "cell_type": "markdown",
      "id": "faa227a9",
      "metadata": {},
      "source": [
        "### Exercise 3.3\n",
        "\n",
        "Edit your program from Exercise 3.2. When `age` is less than 18, the print should keep saying \"I'm sorry, yore too young for this\". If age is between 18+ and 21, it should say \"You can watch this in some countries\". Otherwise, it should say \"Enjoy the movie!\"\n",
        "\n",
        "แก้ไขโปรแกรมของคุณจากแบบฝึกหัดที่ 3.2. เมื่อ `age` น้อยกว่า 18, ควรที่จะพิมพ์ว่า \"I'm sorry, yore too young for this\". ถ้าหากอายุระหว่าง 18+ ถึง 21 ปี, มันควรพูดว่า \"You can watch this in some countries\". ไม่อย่างงั้นก็ควรพูดว่า \"Enjoy the movie!\"\n",
        "\n",
        "Hint: you can use comparison like so `15 <= b < 20`\n",
        "\n",
        "คำแนะนำ: คุณสามารถใช้การเปรียบเทียบ เช่น `15 <= b < 20`"
      ]
    },
    {
      "cell_type": "code",
      "execution_count": 2,
      "id": "a6863198",
      "metadata": {},
      "outputs": [],
      "source": [
        "# Insert your answer here!"
      ]
    },
    {
      "cell_type": "markdown",
      "id": "cbd24ee0-ea07-4d6f-b71c-831962d52199",
      "metadata": {},
      "source": [
        "# Nested If\n",
        "\n",
        "You can have if statements inside if statements, this is called nested if statements.\n",
        "\n",
        "คุณสามารถมีคำสั่ง if ในคำสั่ง if ได้, ซึ่งเรียกว่าคำสั่ง if แบบซ้อนกันได้."
      ]
    },
    {
      "cell_type": "code",
      "execution_count": null,
      "id": "91fe6c96-1282-4342-baaf-886f4853dcd0",
      "metadata": {
        "trusted": true
      },
      "outputs": [
        {
          "name": "stdout",
          "output_type": "stream",
          "text": [
            "Above a hundred,\n",
            "and also above 200!\n"
          ]
        }
      ],
      "source": [
        "x = 230\n",
        "\n",
        "if x > 100:\n",
        "  print(\"Above a hundred,\")\n",
        "  if x > 200:\n",
        "    print(\"and also above 200!\")\n",
        "  else:\n",
        "    print(\"but not above 200.\")"
      ]
    },
    {
      "cell_type": "markdown",
      "id": "f4c8c590",
      "metadata": {},
      "source": [
        "### Exercise 3.4\n",
        "\n",
        "Rewrite your code from exercise 3.3 to include a nested `if...else` statement.\n",
        "\n",
        "เขียนโค้ดของคุณใหม่จากแบบฝึกหัด 3.3. รวมคำสั่งที่ซ้อนกัน `if...else` เข้าไปด้วย."
      ]
    },
    {
      "cell_type": "code",
      "execution_count": 3,
      "id": "f496b9e4",
      "metadata": {},
      "outputs": [],
      "source": [
        "# Insert your answer here!\n"
      ]
    },
    {
      "cell_type": "markdown",
      "id": "418a8823-5000-4528-85ac-e51231656999",
      "metadata": {},
      "source": [
        "### Logical operators\n",
        "The **and** keyword is a logical operator, which is used to combine conditional statements. **and** operator returns `True` when both conditions under the evaluation are true, otherwise it returns `False`.\n",
        "Let's test if a is greater than b, AND if c is greater than a:.\n",
        "\n",
        "คีย์เวิร์ด **and** เป็นตัวดำเนินการเชิงตรรกะซึ่งใช้ร่วมกับคำสั่งเงื่อนไข ตัวดำเนินการ **and** ส่งคืน \"True\" เมื่อทั้งสองเงื่อนไขภายใต้การประเมินเป็นจริง มิฉะนั้นจะส่งคืน \"False\"\n",
        "ลองทดสอบ ถ้า a มากกว่า b และถ้า c มากกว่า a:"
      ]
    },
    {
      "cell_type": "code",
      "execution_count": null,
      "id": "770bc8cc-0398-476b-8286-76cde077938e",
      "metadata": {
        "trusted": true
      },
      "outputs": [
        {
          "name": "stdout",
          "output_type": "stream",
          "text": [
            "Both conditions are True\n"
          ]
        }
      ],
      "source": [
        "a = 200\n",
        "b = 33\n",
        "c = 500\n",
        "if a > b and c > a:\n",
        "  print(\"Both conditions are True\")"
      ]
    },
    {
      "cell_type": "markdown",
      "id": "19c91e71-e436-47a4-b353-9b3db83da611",
      "metadata": {
        "jp-MarkdownHeadingCollapsed": true
      },
      "source": [
        "**or** operator returns `True` if any one of the given conditions is `True`. **or** operator returns `False` if and only if both conditions under evaluation are `False`.\n",
        "\n",
        "**or** เป็นดำเนินการคืนค่า `True` ถ้าหากเงื่อนไขข้อใดข้อหนึ่งเป็นจริง **or** เป็นตัวดำเนินการคืนค่า `False` ถ้าเงื่อนไขทั้งสองภายใต้การประเมินเป็น `False` "
      ]
    },
    {
      "cell_type": "code",
      "execution_count": null,
      "id": "13de7e0d-6842-4081-8b93-cf1c23e3bcde",
      "metadata": {
        "trusted": true
      },
      "outputs": [
        {
          "name": "stdout",
          "output_type": "stream",
          "text": [
            "Today is off. Rest at home.\n"
          ]
        }
      ],
      "source": [
        "today = \"Sunday\"\n",
        "if today == \"Sunday\" or today == \"Saturday\": \n",
        "    print(\"Today is off. Rest at home.\")\n",
        "else:\n",
        "    print(\"Today is a working day :(\")"
      ]
    },
    {
      "cell_type": "markdown",
      "id": "a8cece0e-9c9f-4585-9dce-9b118d8e4360",
      "metadata": {},
      "source": [
        "**not** operator is used to reverse the result of the conditional statement \n",
        "\n",
        "**not** เป็นตัวดำเนินการที่ใช้ เพื่อสลับผลลัพธ์ของคำสั่งเงื่อนไข"
      ]
    },
    {
      "cell_type": "code",
      "execution_count": null,
      "id": "a47b5673-b92e-4d6c-9a92-1e3da9f1e902",
      "metadata": {
        "trusted": true
      },
      "outputs": [
        {
          "name": "stdout",
          "output_type": "stream",
          "text": [
            "B is not greater than A\n"
          ]
        }
      ],
      "source": [
        "A = 200\n",
        "B = 33\n",
        "if not B > A: \n",
        "    print('B is not greater than A')"
      ]
    },
    {
      "cell_type": "markdown",
      "id": "c490eb01",
      "metadata": {},
      "source": [
        "### Exercise 3.5\n",
        "\n",
        "Write a program which prints `you get a discount!` if variable `age` is either less than 18 or greater than or equal to 65.\n",
        "\n",
        "เขียนโปรแกรมที่พิมพ์ว่า `you get a discount!` ถ้าตัวแปร `age` มีค่าน้อยกว่า 18 หรือมากกว่าเท่ากับ 65"
      ]
    },
    {
      "cell_type": "code",
      "execution_count": 4,
      "id": "e425aca8",
      "metadata": {},
      "outputs": [],
      "source": [
        "# Insert your answer here!\n"
      ]
    },
    {
      "cell_type": "markdown",
      "id": "3cf2943f",
      "metadata": {},
      "source": [
        "### Membership operators (in / not in)"
      ]
    },
    {
      "cell_type": "markdown",
      "id": "0623d89c",
      "metadata": {},
      "source": [
        "Membership operators are used to test if an element is present in a sequence, like a list, tuple or a string. These opertors iterate through a sequence and search for the specified items.\n",
        "\n",
        "ตัวดำเนินการสมาชิก (Membership operators) ใช้ทดสอบว่าองค์ประกอบหนึ่งอยู่ในลำดับข้อมูล เช่น ลิสต์ (list), ทูเพิล (tuple), หรือสตริง (string) ตัวดำเนินการเหล่านี้จะวนลูปผ่านลำดับข้อมูลและค้นหารายการที่ระบุ\n",
        "\n",
        "**in** operator checks whether an element is present in a sequence and returns `True` if it is present.\n",
        "\n",
        "ตัวดำเนินการ **in** ตรวจสอบว่าองค์ประกอบหนึ่งอยู่ในลำดับข้อมูลหรือไม่ และคืนค่า `True` ถ้าอยู่ในลำดับข้อมูล"
      ]
    },
    {
      "cell_type": "code",
      "execution_count": 5,
      "id": "4fa026bc",
      "metadata": {},
      "outputs": [
        {
          "name": "stdout",
          "output_type": "stream",
          "text": [
            "this odd number is in my list!\n"
          ]
        }
      ],
      "source": [
        "myNumbersList = [1, 3, 5, 7, 9, 11]\n",
        "\n",
        "if 3 in myNumbersList:\n",
        "    print(\"this odd number is in my list!\")"
      ]
    },
    {
      "cell_type": "markdown",
      "id": "0b3b8419",
      "metadata": {},
      "source": [
        "**not in** operator is the opposite of **in** operator. It checks if an element is __not__ present in a sequence and returns `True` if it is not present.\n",
        "\n",
        "\n",
        "ตัวดำเนินการ **not in** จะตรงกันข้ามกับตัวดำเนินการ **in** จะตรวจสอบว่าองค์ประกอบนั้นมี __not__ อยู่ในลำดับหรือไม่ และส่งคืนค่า `True` หากไม่มีอยู่"
      ]
    },
    {
      "cell_type": "code",
      "execution_count": null,
      "id": "ddca96b1",
      "metadata": {},
      "outputs": [
        {
          "name": "stdout",
          "output_type": "stream",
          "text": [
            "this even number is not in my list!\n"
          ]
        }
      ],
      "source": [
        "if 2 not in myNumbersList:\n",
        "    print(\"this even number is not in my list!\")"
      ]
    },
    {
      "cell_type": "markdown",
      "id": "cded6150",
      "metadata": {},
      "source": [
        "### Exercise 3.6\n",
        "\n",
        "Take `volunteers_countries = {\"UK\": [\"Tom\", \"James\"], \"USA\": [\"Mark\", \"Peter\"], \"Australia\": [\"Jane\", \"Sarah\"]}`, where we have countries as keys and a list of volunteers' names as values. Check if you have a volunteer from Thailand and if not, print \"I don't have a volunteer from Thailand\"\n",
        "\n",
        "เพิ่ม `volunteers_countries = {\"UK\": [\"Tom\", \"James\"], \"USA\": [\"Mark\", \"Peter\"], \"Australia\": [\"Jane\", \"Sarah\"]}` โดยที่เรามีประเทศเป็น key และมีรายชื่ออาสาสมัครเป็น value ตรวจสอบว่าคุณมีอาสาสมัครจากประเทศไทยหรือไม่ และหากไม่มี ให้พิมพ์ว่า \"I don't have a volunteer from Thailand\"\n"
      ]
    },
    {
      "cell_type": "code",
      "execution_count": 23,
      "id": "828db7b1",
      "metadata": {},
      "outputs": [],
      "source": [
        "# Insert your answer here!\n"
      ]
    },
    {
      "cell_type": "markdown",
      "id": "c82c1953",
      "metadata": {},
      "source": [
        "### For loops"
      ]
    },
    {
      "cell_type": "markdown",
      "id": "8dc21e56",
      "metadata": {},
      "source": [
        "A `for` loop in Python is used to iterate over a sequence. \n",
        "\n",
        "`for` ในไพทอนใช้เพื่อวนซ้ำตามลำดับ\n",
        "\n",
        "The syntax of the `for` loop is as follows:\n",
        "\n",
        "ไวยากรณ์ของลูป `for` เป็นดังนี้:\n",
        "\n",
        "`for`: Keyword initiating the loop.\\\n",
        "`for`: เป็นคีย์เวิร์ดเริ่มต้นใน loop\\\n",
        "`item`: Variable holding the current item in each iteration.\\\n",
        "`item`: ตัวแปรที่เก็บรายการปัจจุบันในแต่ละการทำซ้ำ\\\n",
        "`in`: Keyword indicating the sequence to iterate over.\\\n",
        "`in`: เป็นคีย์เวิร์ดที่ระบุลำดับที่จะวนซ้ำ\\\n",
        "`sequence`: The list, tuple, string, or other iterable object to loop through.\\\n",
        "`sequence`: The list, tuple, string, หรือ วัตถุที่สามารถวนซ้ำได้อื่น ๆ\\\n",
        "`:`: Colon indicating the start of the code block to be repeated.\\\n",
        "`:`: เครื่องหมายโคลอน ที่ระบุจุดเริ่มต้นของบล็อกโค้ดที่จะทำซ้ำ\\\n",
        "Code block: Indentation determines the code to be executed for each item.\\\n",
        "บล็อกโค้ด: การเยื้องจะกำหนดโค้ดที่จะดำเนินการสำหรับแต่ละรายการ"
      ]
    },
    {
      "cell_type": "code",
      "execution_count": null,
      "id": "c1a0b77a",
      "metadata": {},
      "outputs": [],
      "source": [
        "# Example of a for loop\n",
        "for item in sequence:\n",
        "    # write code here!"
      ]
    },
    {
      "cell_type": "code",
      "execution_count": null,
      "id": "66751167",
      "metadata": {},
      "outputs": [
        {
          "name": "stdout",
          "output_type": "stream",
          "text": [
            "I have some bananas\n",
            "I have some apples\n",
            "I have some kiwis\n"
          ]
        }
      ],
      "source": [
        "myFruits = [\"bananas\", \"apples\", \"kiwis\"]\n",
        "\n",
        "for fruit in myFruits:\n",
        "    print(\"I have some \" + fruit)"
      ]
    },
    {
      "cell_type": "markdown",
      "id": "e306b836",
      "metadata": {},
      "source": [
        "### Exercise 3.7\n",
        "\n",
        "Consider a string \"banana\". Iterate through this string and if you find and \"a\", print \"I got an 'a' here\".\n",
        "\n",
        "พิจารณา ตัวอักษร \"banana\" วนลูปผ่านสตริงนี้ และถ้าคุณพบ \"a\" ให้พิมพ์ \"I got an 'a' here\""
      ]
    },
    {
      "cell_type": "code",
      "execution_count": 7,
      "id": "252f0092",
      "metadata": {},
      "outputs": [],
      "source": [
        "# Insert your answer here!\n"
      ]
    },
    {
      "cell_type": "markdown",
      "id": "08f0a36a",
      "metadata": {},
      "source": [
        "#### Break"
      ]
    },
    {
      "cell_type": "markdown",
      "id": "f21923b3",
      "metadata": {},
      "source": [
        "`Break` in a loop means stopping the loop's execution immediately when a specific condition is met and we can stop the loop before it completes the entire loop.\n",
        "\n",
        "`Break` ในลูปหมายถึงการหยุดการทำงานของลูปทันที เมื่อตรงตามเงื่อนไขที่กำหนด และเราสามารถหยุดลูปก่อนที่มันจะวนลูปเสร็จสิ้นทั้งหมด"
      ]
    },
    {
      "cell_type": "code",
      "execution_count": 9,
      "id": "1463cc91",
      "metadata": {},
      "outputs": [
        {
          "name": "stdout",
          "output_type": "stream",
          "text": [
            "Name: Jo\n",
            "Break, if the name equals \"Mark\".\n"
          ]
        }
      ],
      "source": [
        "# Example\n",
        "names = [\"Jo\",\"Mark\",\"Bell\"]\n",
        "\n",
        "for name in names :\n",
        "    if name == \"Mark\":\n",
        "        print('Break, if the name equals \"Mark\".')\n",
        "        break\n",
        "    print(\"Name:\",name)\n"
      ]
    },
    {
      "cell_type": "code",
      "execution_count": 10,
      "id": "f82365f9",
      "metadata": {},
      "outputs": [
        {
          "name": "stdout",
          "output_type": "stream",
          "text": [
            "Checking fruit: apple\n",
            "Checking fruit: banana\n",
            "Checking fruit: orange\n",
            "Found an orange! Stopping the loop.\n",
            "\n",
            "End of loop\n"
          ]
        }
      ],
      "source": [
        "# สร้างรายการของผลไม้\n",
        "fruits = [\"apple\", \"banana\", \"orange\", \"grape\", \"pineapple\"]\n",
        "\n",
        "# วนลูปผ่านรายการผลไม้\n",
        "for fruit in fruits:\n",
        "    print(\"Checking fruit:\", fruit)\n",
        "\n",
        "    # หยุดการวนลูปถ้าเจอผลไม้ชื่อ \"orange\"\n",
        "    if fruit == \"orange\":\n",
        "        print(\"Found an orange! Stopping the loop.\")\n",
        "        break\n",
        "\n",
        "print(\"\\nEnd of loop\")"
      ]
    },
    {
      "cell_type": "markdown",
      "id": "86596583",
      "metadata": {},
      "source": [
        "### Exercise 3.8\n",
        "\n",
        "Consider variable `names = [\"Mike\", \"Lisa\", \"Jane\"]`. Use a `for loop` to search for letter 'a' each name. For each search, print the name every time. If 'a' is found in the name, break and print \"break when it finds 'a' in name\".\n",
        "\n",
        "พิจารณาตัวแปร `names` ใช้ `for loop` ในการค้นหา 'a' ใน list `names` โดยในแต่ละการค้นหาให้พิมพ์ชื่อทุกครั้ง ถ้าเจอ 'a' ให้ทำการ `break` พร้อมกับพิมพ์ \"break when it find 'a' in name\""
      ]
    },
    {
      "cell_type": "code",
      "execution_count": 8,
      "id": "0dd65229",
      "metadata": {},
      "outputs": [],
      "source": [
        "# Insert your answer here!\n"
      ]
    },
    {
      "cell_type": "markdown",
      "id": "5b2fea3f",
      "metadata": {},
      "source": [
        "#### Continue"
      ]
    },
    {
      "cell_type": "markdown",
      "id": "a06aac54",
      "metadata": {},
      "source": [
        "`continue` in a loop means skipping the current iteration of the loop and proceeding to the next iteration without executing the remaining part of the current iteration that contains the \"continue\" statement. It is used to skip unwanted processing and continue immediately to the next loop iteration.\n",
        "\n",
        "\"Continue\" ในลูปคือการข้ามการทำงานในรอบปัจจุบันและไปทำรอบถัดไปโดยไม่ทำงานในส่วนที่เหลือของรอบปัจจุบันที่มี \"continue\" คำสั่งนี้ใช้เพื่อข้ามการประมวลผลที่ไม่ต้องการและดำเนินการต่อในลูปต่อไปโดยทันที"
      ]
    },
    {
      "cell_type": "code",
      "execution_count": 1,
      "id": "53f42cc4",
      "metadata": {},
      "outputs": [
        {
          "name": "stdout",
          "output_type": "stream",
          "text": [
            "Iteration: 2\n",
            "Iteration: 4\n",
            "Iteration: 6\n"
          ]
        }
      ],
      "source": [
        "# ตัวอย่างที่ 1\n",
        "number = [1,2,3,4,5,6]\n",
        "for i in number:\n",
        "    if i % 2 == 1:\n",
        "        continue  # ข้ามการทำงานของรอบที่ 3\n",
        "        print(\"this won't print, since we're continuing out of the code here\")\n",
        "    print(\"Iteration:\", i)"
      ]
    },
    {
      "cell_type": "markdown",
      "id": "e0d9ea4e",
      "metadata": {},
      "source": [
        "### Exercise 3.9\n",
        "\n",
        "Consider the variable `numbers = [1, 2, 3, 4, 5, 6, 7, 8, 9]`. Use a `for loop` to search for `numbers` list. In the body of the statement, If the number modulus 2 equals 1, use `continue` and for every even number, print \"Odd number: x\" ('x' the number from the list).\n",
        "\n",
        "Hint: modulus in Python is \"%\"\n",
        "\n",
        "พิจารณา ตัวแปร `numbers` ใช้ `for loop` ในการค้นหารายการ `numbers` ในเนื้อหาของคำสั่ง ถ้า number % 2 เท่ากับ 1 ให้ใช้ continue และพิมพ์ \"Odd number: x\" ('x' ตัวเลขจากรายการ)"
      ]
    },
    {
      "cell_type": "code",
      "execution_count": 22,
      "id": "e5a4342e",
      "metadata": {},
      "outputs": [],
      "source": [
        "# Insert your answer here!\n"
      ]
    }
  ],
  "metadata": {
    "kernelspec": {
      "display_name": "python_course",
      "language": "python",
      "name": "python3"
    },
    "language_info": {
      "codemirror_mode": {
        "name": "ipython",
        "version": 3
      },
      "file_extension": ".py",
      "mimetype": "text/x-python",
      "name": "python",
      "nbconvert_exporter": "python",
      "pygments_lexer": "ipython3",
      "version": "3.11.7"
    }
  },
  "nbformat": 4,
  "nbformat_minor": 5
}
