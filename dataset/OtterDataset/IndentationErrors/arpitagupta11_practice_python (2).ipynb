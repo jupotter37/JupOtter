{
 "cells": [
  {
   "cell_type": "code",
   "execution_count": 29,
   "id": "acfffabc-ad00-476a-af0c-007c35a04198",
   "metadata": {},
   "outputs": [
    {
     "name": "stdout",
     "output_type": "stream",
     "text": [
      "hello world~7~8009"
     ]
    },
    {
     "name": "stdin",
     "output_type": "stream",
     "text": [
      "wht is your age? 5\n"
     ]
    },
    {
     "name": "stdout",
     "output_type": "stream",
     "text": [
      "yourAGE IS 5\n"
     ]
    }
   ],
   "source": [
    "print(\"hello world\" , 7 ,8,sep=\"~\" ,end=\"009\")\n",
    "num = input(\"wht is your age?\")\n",
    "print(\"yourAGE IS\" , num)"
   ]
  },
  {
   "cell_type": "code",
   "execution_count": 53,
   "id": "c91387d6-75ab-4e43-90f7-a53da66c369b",
   "metadata": {},
   "outputs": [],
   "source": [
    "import math"
   ]
  },
  {
   "cell_type": "code",
   "execution_count": 54,
   "id": "c9a51edc-544a-47d1-98b9-c2b4d3ab5eb0",
   "metadata": {},
   "outputs": [],
   "source": [
    "def add_user(self):\n",
    "    print(\"hello\")\n",
    "    print(input(\"what is your name?\")) \n",
    "    \n"
   ]
  },
  {
   "cell_type": "code",
   "execution_count": 55,
   "id": "aa2a06a1-bd6d-4109-851d-394e6f0b7ad9",
   "metadata": {},
   "outputs": [
    {
     "name": "stdout",
     "output_type": "stream",
     "text": [
      "hello\n"
     ]
    },
    {
     "name": "stdin",
     "output_type": "stream",
     "text": [
      "what is your name? video games project\n"
     ]
    },
    {
     "name": "stdout",
     "output_type": "stream",
     "text": [
      "video games project\n"
     ]
    }
   ],
   "source": [
    "add_user(2)"
   ]
  },
  {
   "cell_type": "code",
   "execution_count": 68,
   "id": "789868ec-423a-4b3c-88a7-41b371cc62fa",
   "metadata": {},
   "outputs": [
    {
     "name": "stdout",
     "output_type": "stream",
     "text": [
      "3\n"
     ]
    }
   ],
   "source": [
    "#explicit typecasting\n",
    "a=\"1\"\n",
    "b=2\n",
    "print(int(a) + b)"
   ]
  },
  {
   "cell_type": "code",
   "execution_count": 69,
   "id": "aff14b77-ec1f-40bd-8db2-4c63fc14fada",
   "metadata": {},
   "outputs": [
    {
     "name": "stdout",
     "output_type": "stream",
     "text": [
      "8.8\n"
     ]
    }
   ],
   "source": [
    "#implicit typecasting\n",
    "c=1.8\n",
    "d=7\n",
    "print(c+d)"
   ]
  },
  {
   "cell_type": "code",
   "execution_count": 76,
   "id": "6ada60dd-79fe-4296-a6eb-b1732bb8183d",
   "metadata": {},
   "outputs": [
    {
     "name": "stdin",
     "output_type": "stream",
     "text": [
      "wghat is your favourite fruit? mango\n"
     ]
    },
    {
     "name": "stdout",
     "output_type": "stream",
     "text": [
      "mango\n"
     ]
    },
    {
     "name": "stdin",
     "output_type": "stream",
     "text": [
      "give your first num ?  5\n",
      "give your second num ? 5\n"
     ]
    },
    {
     "name": "stdout",
     "output_type": "stream",
     "text": [
      "10\n"
     ]
    }
   ],
   "source": [
    "#user input\n",
    "fruit =print( input(\"wghat is your favourite fruit?\"  ))\n",
    "x = input(\"give your first num ? \")\n",
    "y = input(\"give your second num ?\")\n",
    "print(int(x) + int(y))\n"
   ]
  },
  {
   "cell_type": "code",
   "execution_count": 86,
   "id": "0bec68e0-6500-4a0c-9867-13833df62982",
   "metadata": {},
   "outputs": [
    {
     "name": "stdout",
     "output_type": "stream",
     "text": [
      "hello rohan how are you\n",
      " ninjcndncn dchudhcfu dcuhcu \n",
      "uncudnc dcicn jdiedni \n",
      "cnudencu \n",
      "e\n",
      "r\n",
      "o\n",
      "h\n",
      "a\n",
      "n\n",
      " \n",
      "h\n",
      "o\n",
      "w\n",
      " \n",
      "a\n",
      "r\n",
      "e\n",
      " \n",
      "y\n",
      "o\n",
      "u\n"
     ]
    }
   ],
   "source": [
    "#string\n",
    "name = \"rohan how are you\"\n",
    "print(\"hello \" + name)\n",
    "#multiline string\n",
    "freind = ''' ninjcndncn dchudhcfu dcuhcu \n",
    "uncudnc dcicn jdiedni \n",
    "cnudencu ''' \n",
    "print(freind)\n",
    "print(name[-5])\n",
    "for character in name:\n",
    "    print(character)\n",
    "\n",
    "\n",
    "\n"
   ]
  },
  {
   "cell_type": "code",
   "execution_count": 107,
   "id": "8b7e4c86-5afe-4a52-b011-c00dfa5e3698",
   "metadata": {},
   "outputs": [
    {
     "name": "stdout",
     "output_type": "stream",
     "text": [
      "harry gupta!!!!!\n",
      "16\n",
      "ta!!!\n",
      "ar\n"
     ]
    }
   ],
   "source": [
    "#string slicing and operation\n",
    "name = \"harry gupta!!!!!\"\n",
    "print(name[0:])\n",
    "print(len(name))\n",
    "print(name[-7:-2])\n",
    "nm = \"harry\"\n",
    "print(nm[-4:-2])\n",
    "\n"
   ]
  },
  {
   "cell_type": "code",
   "execution_count": 124,
   "id": "f6373ec2-ba1f-4616-a34e-caa9973f684e",
   "metadata": {},
   "outputs": [
    {
     "name": "stdout",
     "output_type": "stream",
     "text": [
      "HARRY GUPTA!!!!!\n",
      "harry gupta!!!!!\n",
      "harry gupta\n",
      "john gupta!!!!!\n",
      "['harry', 'gupta!!!!!']\n",
      "Harry gupta!!!!!\n",
      "  harry gupta!!!!!  \n",
      "True\n",
      "3\n",
      "False\n",
      "True\n",
      "False\n",
      "Harry Gupta!!!!!\n"
     ]
    }
   ],
   "source": [
    "#string methods in python \n",
    "print(name.upper())\n",
    "print(name.lower())\n",
    "print(name.rstrip(\"!\"))\n",
    "print(name.replace(\"harry\" , \"john\"))\n",
    "print(name.split(\" \"))\n",
    "print(name.capitalize())\n",
    "print(name.center(20))\n",
    "print(name.endswith(\"!\"))\n",
    "print(name.find(\"ry\"))\n",
    "print(name.isalpha())\n",
    "print(name.islower())\n",
    "print(name.istitle())\n",
    "print(name.title())\n",
    " \n"
   ]
  },
  {
   "cell_type": "code",
   "execution_count": 129,
   "id": "582d43a5-bb00-4f5a-ac4b-262e3f9ff5c9",
   "metadata": {},
   "outputs": [
    {
     "name": "stdin",
     "output_type": "stream",
     "text": [
      "give me your age?  5\n",
      "give me your age?  4\n"
     ]
    },
    {
     "name": "stdout",
     "output_type": "stream",
     "text": [
      "yayy!\n",
      "a is greater then b \n"
     ]
    }
   ],
   "source": [
    "#ifelse conditional statements\n",
    "a = int(input(\"give me your age? \"))\n",
    "b = int(input(\"give me your age? \"))\n",
    "print(\"yayy!\")\n",
    "if (a>b):\n",
    "    print(\"a is greater then b \")\n",
    "else:\n",
    "    print(\"b is greater then a \")\n"
   ]
  },
  {
   "cell_type": "code",
   "execution_count": 134,
   "id": "c22351c8-94a4-4060-b132-2d767ec1b1d8",
   "metadata": {},
   "outputs": [
    {
     "name": "stdin",
     "output_type": "stream",
     "text": [
      "enter the value of numb ?  5\n"
     ]
    },
    {
     "name": "stdout",
     "output_type": "stream",
     "text": [
      "number is positive\n"
     ]
    }
   ],
   "source": [
    "numb = int(input(\"enter the value of numb ? \"))\n",
    "if(numb < 0):\n",
    "    print(\"number is negatuve\")\n",
    "elif(numb == 0):\n",
    "    print(\"nunmber is zero\")\n",
    "else:\n",
    "    print(\"number is positive\")"
   ]
  },
  {
   "cell_type": "code",
   "execution_count": 106,
   "id": "73393085-6979-4ada-93a2-0cb54572a9bd",
   "metadata": {},
   "outputs": [
    {
     "name": "stdout",
     "output_type": "stream",
     "text": [
      "16\n",
      "good afternoon sir!\n"
     ]
    }
   ],
   "source": [
    "import time\n",
    "t= time.strftime('%H:%M:%S')\n",
    "hour = int(time.strftime('%H'))\n",
    "print(hour)\n",
    "\n",
    "if(hour>0 and hour<12):\n",
    "    print(\"good morning sir!\")\n",
    "elif(hour>12 and hour<17):\n",
    "    print(\"good afternoon sir!\")\n",
    "else:\n",
    "    print(\"good nighgt sir!\")    \n",
    "\n",
    " "
   ]
  },
  {
   "cell_type": "code",
   "execution_count": 2,
   "id": "2daf486c-a06c-4619-ab59-602a4a7c2a1e",
   "metadata": {},
   "outputs": [
    {
     "name": "stdout",
     "output_type": "stream",
     "text": [
      "hello world from .....\n"
     ]
    },
    {
     "data": {
      "text/plain": [
       "0"
      ]
     },
     "execution_count": 2,
     "metadata": {},
     "output_type": "execute_result"
    }
   ],
   "source": [
    "#match\n",
    "#import os\n",
    "\n",
    "#print(\"hello world from .....\")\n",
    "#os.system(\"python --version\")"
   ]
  },
  {
   "cell_type": "code",
   "execution_count": 4,
   "id": "25ec5095-e96b-41b7-8ee2-d7e7f2c3d14b",
   "metadata": {},
   "outputs": [
    {
     "name": "stdin",
     "output_type": "stream",
     "text": [
      " enter the value os x:  5\n"
     ]
    },
    {
     "name": "stdout",
     "output_type": "stream",
     "text": [
      "5\n"
     ]
    }
   ],
   "source": [
    "#match\n",
    "x = int(input(\" enter the value os x: \"))\n",
    "\n",
    "match x:\n",
    "    case 0:\n",
    "        print(\"x is zero\")\n",
    "    case 1:\n",
    "        print(\"x is 4\")\n",
    "    case _:\n",
    "        print(x)\n"
   ]
  },
  {
   "cell_type": "code",
   "execution_count": 21,
   "id": "9831e735-16ac-4918-ac9c-a393d49745a7",
   "metadata": {},
   "outputs": [
    {
     "name": "stdout",
     "output_type": "stream",
     "text": [
      "1\n",
      "6\n",
      "11\n",
      "16\n"
     ]
    },
    {
     "name": "stdin",
     "output_type": "stream",
     "text": [
      "enter your name:  Arpita Gupta\n"
     ]
    },
    {
     "name": "stdout",
     "output_type": "stream",
     "text": [
      "A\n",
      "r\n",
      "p\n",
      "i\n",
      "t\n",
      "a\n",
      " \n",
      "G\n",
      "this is something special\n",
      "u\n",
      "p\n",
      "t\n",
      "a\n",
      "red\n",
      "r\n",
      "e\n",
      "d\n",
      "yellow\n",
      "y\n",
      "e\n",
      "l\n",
      "l\n",
      "o\n",
      "w\n",
      "green\n",
      "g\n",
      "r\n",
      "e\n",
      "e\n",
      "n\n"
     ]
    }
   ],
   "source": [
    "# for loops\n",
    "for i in range(0,20,5):\n",
    "    print(i+1)\n",
    "name=input(\"enter your name: \")\n",
    "for i in name:\n",
    "    print(i)\n",
    "    if (i==\"G\"):\n",
    "        print(\"this is something special\")\n",
    "colors = [\"red\", \"yellow\", \"green\"]\n",
    "for color in colors:\n",
    "    print(color)\n",
    "    for i in color:\n",
    "        print(i)"
   ]
  },
  {
   "cell_type": "code",
   "execution_count": 1,
   "id": "443bca56-cfa6-4a76-8071-3165d212e9d5",
   "metadata": {},
   "outputs": [
    {
     "name": "stdout",
     "output_type": "stream",
     "text": [
      "0\n",
      "1\n",
      "2\n",
      "3\n",
      "done with the loop\n"
     ]
    },
    {
     "name": "stdin",
     "output_type": "stream",
     "text": [
      "enter the number 8\n"
     ]
    },
    {
     "name": "stdout",
     "output_type": "stream",
     "text": [
      "8\n",
      "9\n",
      "it doesnt worked.\n"
     ]
    }
   ],
   "source": [
    "#while loops\n",
    "i = 0\n",
    "while(i<=3):\n",
    "    print(i)\n",
    "    i = i+1\n",
    "print(\"done with the loop\")  \n",
    "im = int(input(\"enter the number\"))\n",
    "while(im<10):\n",
    "    print(im)\n",
    "    im = im+1\n",
    "else:\n",
    "    print(\"it doesnt worked.\")\n",
    "\n",
    "\n",
    "\n",
    "          \n",
    "    \n",
    "    \n"
   ]
  },
  {
   "cell_type": "code",
   "execution_count": null,
   "id": "19603ffb-defa-4db7-b2fd-aceeabfe2fc5",
   "metadata": {},
   "outputs": [],
   "source": [
    "# do while\n",
    "#do {\n",
    "#loop body;\n",
    "#}while(condition)\n",
    "\n"
   ]
  },
  {
   "cell_type": "code",
   "execution_count": 6,
   "id": "b109c5e4-b88d-4c92-a8b8-1efb938dc9e9",
   "metadata": {},
   "outputs": [
    {
     "name": "stdout",
     "output_type": "stream",
     "text": [
      "5 X 1 = 5\n",
      "5 X 2 = 10\n",
      "5 X 3 = 15\n",
      "5 X 4 = 20\n",
      "5 X 5 = 25\n",
      "5 X 6 = 30\n",
      "5 X 7 = 35\n",
      "5 X 8 = 40\n",
      "5 X 9 = 45\n",
      "5 X 10 = 50\n",
      "5 X 12 = 60\n"
     ]
    }
   ],
   "source": [
    "# break and continue\n",
    "for i in range(12):\n",
    "    if(i == 10):\n",
    "        continue\n",
    "    \n",
    "    print(\"5 X\", i+1 , \"=\", 5* (i+1))"
   ]
  },
  {
   "cell_type": "code",
   "execution_count": 21,
   "id": "349c2949-44a7-4ea0-b7b9-91e238be1eb8",
   "metadata": {},
   "outputs": [],
   "source": [
    "#functions in python \n",
    "#built in function & user defined function\n",
    "\n",
    "def mean_of_num(a, b):\n",
    "    mean = (a+b)/2\n",
    "    print(mean)\n",
    "\n",
    "def is_greater(a,b):\n",
    "    if(a>b):\n",
    "        print(\"first num is greater\")\n",
    "    else:\n",
    "        print(\"second num is greater\")\n",
    "\n",
    "def is_lesser(a,b):\n",
    "    pass"
   ]
  },
  {
   "cell_type": "code",
   "execution_count": 22,
   "id": "d71b7d75-444c-4c43-8185-2367bff225d0",
   "metadata": {},
   "outputs": [
    {
     "name": "stdout",
     "output_type": "stream",
     "text": [
      "3.0\n",
      "second num is greater\n"
     ]
    }
   ],
   "source": [
    "mean_of_num(2,4)\n",
    "is_greater(2,4)\n"
   ]
  },
  {
   "cell_type": "code",
   "execution_count": 32,
   "id": "4d59039e-4411-4151-8c08-34854af723c5",
   "metadata": {},
   "outputs": [
    {
     "name": "stdout",
     "output_type": "stream",
     "text": [
      "the average is:  5.0\n",
      "hello priya oijn young\n"
     ]
    }
   ],
   "source": [
    "# function arguments 1 default arguments    2 \n",
    "def average(a,b=3):\n",
    "    print(\"the average is: \", (a+b)/2)\n",
    "average(7)  \n",
    "def names(fname, mname=\"john\", lname=\"watson\"):\n",
    "    print(\"hello\",fname, mname, lname)\n",
    "names(\"priya\", \"oijn\" , \"young\")"
   ]
  },
  {
   "cell_type": "code",
   "execution_count": 34,
   "id": "38e39109-9e58-4a09-848a-de1d4577f53d",
   "metadata": {},
   "outputs": [
    {
     "name": "stdout",
     "output_type": "stream",
     "text": [
      "the average is:  7.5\n"
     ]
    }
   ],
   "source": [
    "#keyword arguments\n",
    "average(b=9, a=6)\n",
    "#required arguments a ki value deni hi pdegiii\n",
    "#"
   ]
  },
  {
   "cell_type": "code",
   "execution_count": 40,
   "id": "b34df18f-c945-422a-bd63-8238708a4525",
   "metadata": {},
   "outputs": [
    {
     "name": "stdout",
     "output_type": "stream",
     "text": [
      "5.0\n"
     ]
    }
   ],
   "source": [
    "def avg(*numbers):\n",
    "    sum=0\n",
    "    for i in numbers:\n",
    "        sum = sum+i\n",
    "    return (sum/len(numbers))\n",
    "\n",
    "c = avg(7,5,4,3,6)\n",
    "print(c)"
   ]
  },
  {
   "cell_type": "code",
   "execution_count": 66,
   "id": "98959830-7d19-4db2-9b5a-16065a89f9d5",
   "metadata": {},
   "outputs": [
    {
     "name": "stdout",
     "output_type": "stream",
     "text": [
      "<class 'list'>\n",
      "[3, 5, 6]\n",
      "6\n",
      "3\n",
      "['mango', 3, 9.8, 'harry']\n",
      "yes\n",
      "yess\n",
      "['mango', 9.8]\n",
      "[0, 1, 4, 9, 16, 25, 36, 49, 64, 81]\n",
      "[0, 4, 16, 36, 64]\n"
     ]
    }
   ],
   "source": [
    "#list ordered collections,, multiple items in a single variable ,, mutable\n",
    "l = [3,5,6]\n",
    "print(type(l))\n",
    "print(l)\n",
    "print(l[2])\n",
    "fruits = [\"mango\", 3 , 9.8, \"harry\"]\n",
    "print(fruits[-3])\n",
    "print(fruits)\n",
    "if 3 in fruits:\n",
    "    print(\"yes\")\n",
    "else:\n",
    "    print(\"no\")\n",
    "if \"arry\" in \"harry\":\n",
    "    print(\"yess\")\n",
    "else:\n",
    "    print(\"no\")\n",
    "print(fruits[0:4:2])\n",
    "# list comprehensions\n",
    "lst = [i*i for i in range(10)]\n",
    "print(lst)\n",
    "lst1 = [i*i for i in range(10) if i%2==0]\n",
    "print(lst1)"
   ]
  },
  {
   "cell_type": "code",
   "execution_count": 79,
   "id": "bb631fd5-42dd-4024-91c4-27d1831e282e",
   "metadata": {},
   "outputs": [
    {
     "name": "stdout",
     "output_type": "stream",
     "text": [
      "[88, 88, 88, 88, 88, 88, 88, 88, 88, 88, 88, 88, 81, 64, 49, 36, 25, 16, 9, 4, 1, 0, 88]\n",
      "[88, 88, 88, 88, 88, 88, 88, 88, 88, 88, 88, 88, 88, 81, 64, 49, 36, 25, 16, 9, 4, 1, 0]\n",
      "13\n",
      "[88, 88, 88, 88, 88, 88, 88, 88, 88, 88, 88, 88, 88, 81, 64, 49, 36, 25, 16, 9, 4, 1, 0]\n",
      "None\n"
     ]
    }
   ],
   "source": [
    "#list methods\n",
    "lst.append(88)\n",
    "print(lst)\n",
    "lst.sort(reverse=True)\n",
    "print(lst)\n",
    "print(lst.count(88))\n",
    "#m=lst\n",
    "#print(m)\n",
    "m= lst.copy()\n",
    "print(m)\n",
    "print(m.insert(5 , 99))"
   ]
  },
  {
   "cell_type": "code",
   "execution_count": 80,
   "id": "15db7381-8eb0-4cd8-9aa2-93ebe8b7dd07",
   "metadata": {},
   "outputs": [
    {
     "name": "stdout",
     "output_type": "stream",
     "text": [
      "[88, 88, 88, 88, 88, 99, 88, 88, 88, 88, 88, 88, 88, 88, 81, 64, 49, 36, 25, 16, 9, 4, 1, 0, 8, 9, 7, 6]\n"
     ]
    }
   ],
   "source": [
    "k=[8,9,7,6]\n",
    "m.extend(k)\n",
    "print(m)"
   ]
  },
  {
   "cell_type": "code",
   "execution_count": 91,
   "id": "0ec4d015-30ff-4da0-bde6-52b206235e38",
   "metadata": {},
   "outputs": [
    {
     "name": "stdout",
     "output_type": "stream",
     "text": [
      "(1, 4, 5)\n",
      "<class 'tuple'>\n",
      "1\n",
      "3\n",
      "it is present\n",
      "(4, 5)\n"
     ]
    }
   ],
   "source": [
    "#tupple    immutable    it isw a constant list     \n",
    "tup = (1,4,5)\n",
    "print(tup)\n",
    "print(type(tup))\n",
    "print(tup[0])\n",
    "print(len(tup))\n",
    "if 4 in tup:\n",
    "    print(\"it is present\")\n",
    "else:\n",
    "    print(\"noooo\")\n",
    "tup2 = tup[1:3]    \n",
    "print(tup2)"
   ]
  },
  {
   "cell_type": "code",
   "execution_count": 94,
   "id": "c538e432-d7b5-440f-901a-8d518f486040",
   "metadata": {},
   "outputs": [
    {
     "name": "stdout",
     "output_type": "stream",
     "text": [
      "['lichi', 'apple', 'soyabean', 'russia']\n",
      "('lichi', 'apple', 'soyabean', 'russia')\n"
     ]
    }
   ],
   "source": [
    "#tupple methods for doing any changes  we can chnage the tupple into the list\n",
    "f = (\"lichi\", \"apple\", \"soyabean\")\n",
    "temp = list(f)\n",
    "temp.append(\"russia\")\n",
    "print(temp)\n",
    "f = tuple(temp)\n",
    "print(f)"
   ]
  },
  {
   "cell_type": "code",
   "execution_count": 103,
   "id": "78bf97f6-f9c4-454c-a1e6-043f435be33d",
   "metadata": {},
   "outputs": [
    {
     "name": "stdout",
     "output_type": "stream",
     "text": [
      "1\n",
      "6\n",
      "11\n"
     ]
    }
   ],
   "source": [
    "tupl=(0,2,4,5,6,7,3,4,9,87,88)\n",
    "c=tupl.count(88)\n",
    "print(c)\n",
    "j=tupl.index(3)\n",
    "print(j)\n",
    "j1= len(tupl)\n",
    "print(j1)"
   ]
  },
  {
   "cell_type": "code",
   "execution_count": 107,
   "id": "bf9d9467-a627-4619-a448-5bd9d34ee1d7",
   "metadata": {},
   "outputs": [],
   "source": [
    "# create a program capable of displaying questions to the  user like kbc\n",
    "questions = []"
   ]
  },
  {
   "cell_type": "code",
   "execution_count": 111,
   "id": "479d2201-7376-43f0-84a3-5c9e0513f1ce",
   "metadata": {},
   "outputs": [
    {
     "name": "stdout",
     "output_type": "stream",
     "text": [
      " hy my name is harry and i am from india\n",
      " hy my name is harry and i am from india\n",
      "<class 'str'>\n"
     ]
    }
   ],
   "source": [
    "#fstring\n",
    "letter = \" hy my name is {} and i am from {}\"\n",
    "country = \"india\"\n",
    "name = \"harry\"\n",
    "print(letter.format(name, country))\n",
    "print(f\" hy my name is {name} and i am from {country}\")\n",
    "print(type(f\"{2 * 30}\"))"
   ]
  },
  {
   "cell_type": "code",
   "execution_count": 113,
   "id": "06458565-3573-4142-8cae-11ba46d21388",
   "metadata": {},
   "outputs": [
    {
     "name": "stdout",
     "output_type": "stream",
     "text": [
      "25\n",
      "takes in a number n , returns the square of n \n"
     ]
    }
   ],
   "source": [
    "#docstring below thw fucntion    pep8 it is guide line python enhancement prPOSALm write import this on cmd\n",
    "def square(n):\n",
    "    '''takes in a number n , returns the square of n '''\n",
    "    print(n**2)\n",
    "square(5)\n",
    "print(square.__doc__)    \n"
   ]
  },
  {
   "cell_type": "code",
   "execution_count": 114,
   "id": "61a19752-5834-4fdc-a95e-43709bfe1e67",
   "metadata": {},
   "outputs": [
    {
     "name": "stdout",
     "output_type": "stream",
     "text": [
      "5040\n"
     ]
    }
   ],
   "source": [
    "#recursion factorial(n) = n*factorial(n-1)\n",
    "def factorial(n):\n",
    "    if(n==0 or n==1):\n",
    "        return 1\n",
    "    else:\n",
    "        return n*factorial(n-1)\n",
    "print(factorial(7))        \n",
    "\n"
   ]
  },
  {
   "cell_type": "code",
   "execution_count": 120,
   "id": "c61b9b5c-5c56-4782-a07d-08e5fad5894a",
   "metadata": {},
   "outputs": [
    {
     "data": {
      "text/plain": [
       "13"
      ]
     },
     "execution_count": 120,
     "metadata": {},
     "output_type": "execute_result"
    }
   ],
   "source": [
    "#f0 = 0\n",
    "#f1 = 1\n",
    "#f2 = f1 + f0\n",
    "#f(n)= f(n-1) + f(n-2)\n",
    "def fibonacci(n):\n",
    "    if(n==0):\n",
    "        return 0\n",
    "    elif(n==1):\n",
    "         return 1\n",
    "    else:\n",
    "        return fibonacci(n-1) +fibonacci(n-2)\n",
    "        \n",
    "fibonacci(7)    \n"
   ]
  },
  {
   "cell_type": "code",
   "execution_count": 129,
   "id": "21e573ae-8edd-4c4c-af8f-35f741ca1907",
   "metadata": {},
   "outputs": [
    {
     "name": "stdout",
     "output_type": "stream",
     "text": [
      "{2, 4, 5, 6, 7}\n",
      "{3, 4, 5, 'carla'}\n",
      "<class 'dict'>\n",
      "<class 'set'>\n",
      "3\n",
      "4\n",
      "5\n",
      "carla\n"
     ]
    }
   ],
   "source": [
    "#sets in python   unorders collection   immutable    no duplicate items       \n",
    "s = {2,4,6,7,5,6}\n",
    "print(s)\n",
    "info = {\"carla\" , 3 , 4, 5 , 5, 5}\n",
    "print(info)\n",
    "you ={}\n",
    "print(type(you))\n",
    "youu = set()\n",
    "print(type(youu))\n",
    "for value in info:\n",
    "    print(value)\n",
    "\n"
   ]
  },
  {
   "cell_type": "code",
   "execution_count": 145,
   "id": "f28bb968-193f-44c2-965d-942d407732c7",
   "metadata": {},
   "outputs": [
    {
     "name": "stdout",
     "output_type": "stream",
     "text": [
      "{1, 2, 3, 4, 5, 6, 7, 8, 9}\n",
      "{1, 2, 3, 4, 5}\n",
      "{4, 5, 6, 7, 8, 9}\n",
      "{4, 5}\n",
      "{1, 2, 3, 4, 5, 6, 7, 8, 9}\n",
      "{4, 5, 6, 7, 8, 9}\n",
      "{1, 2, 3}\n",
      "False\n",
      "True\n",
      "{1, 2, 3, 5, 6, 7, 8, 9}\n"
     ]
    }
   ],
   "source": [
    "#set methods\n",
    "s1 = {1,2,3,4,5}\n",
    "s2 ={4,5,6,7,8,9}\n",
    "print(s1.union(s2))\n",
    "print(s1)\n",
    "print(s2)\n",
    "print(s1.intersection(s2))\n",
    "s1.update(s2)\n",
    "print(s1)\n",
    "print(s2)\n",
    "s3= s1.difference(s2)\n",
    "print(s3)\n",
    "print(s1.isdisjoint(s2))\n",
    "print(s1.issuperset(s2))\n",
    "s1.discard(4)\n",
    "print(s1)\n",
    "del s3\n"
   ]
  },
  {
   "cell_type": "code",
   "execution_count": 172,
   "id": "40c4c3aa-62f7-49ad-9724-fca6314fc726",
   "metadata": {},
   "outputs": [
    {
     "name": "stdout",
     "output_type": "stream",
     "text": [
      "{'harry': '015', 'aryan': '016'}\n",
      "None\n",
      "None\n",
      "015\n",
      "dict_keys(['harry', 'aryan'])\n",
      "dict_values(['015', '016'])\n",
      "015\n",
      "016\n",
      "the value corresponding to the key harry is 015\n",
      "the value corresponding to the key aryan is 016\n",
      "the value corresponding to the key harry is 015\n",
      "the value corresponding to the key aryan is 016\n"
     ]
    }
   ],
   "source": [
    "#dictonaries\n",
    "dic = {\"harry\":\"015\" , \"aryan\":\"016\"}\n",
    "print(dic)\n",
    "print(dic.get(\"name\"))\n",
    "print(dic.get(\"015\"))\n",
    "print(dic.get(\"harry\"))\n",
    "print(dic.keys())\n",
    "print(dic.values())\n",
    "for key in dic.keys():\n",
    "    print(dic[key])\n",
    "for key in dic.keys():\n",
    "    print(f\"the value corresponding to the key {key} is {dic[key]}\")    \n",
    "#print(dic.items())\n",
    "for key, value in dic.items():\n",
    "    print(f\"the value corresponding to the key {key} is {value}\")"
   ]
  },
  {
   "cell_type": "code",
   "execution_count": 178,
   "id": "40cf8eef-eb78-4fce-ae61-b6b18bd3edbd",
   "metadata": {},
   "outputs": [
    {
     "name": "stdout",
     "output_type": "stream",
     "text": [
      "{122: 45, 123: 56, 124: 67, 127: 76, 872: 45, 923: 56, 129: 67, 128: 706}\n",
      "{}\n",
      "{123: 56, 124: 67, 127: 76, 872: 45, 923: 56, 129: 67, 128: 706}\n"
     ]
    }
   ],
   "source": [
    "ep1 = {122: 45, 123: 56 , 124: 67 , 127: 76}\n",
    "ep2 =  {872: 45, 923: 56 , 129: 67 , 128: 706}\n",
    "ep1.update(ep2)\n",
    "print(ep1)\n",
    "empt = {}\n",
    "print(empt)\n",
    "ep1.pop(122)\n",
    "print(ep1)"
   ]
  },
  {
   "cell_type": "code",
   "execution_count": 181,
   "id": "4a28a646-e2c5-4008-88ce-674a8e3035fa",
   "metadata": {},
   "outputs": [
    {
     "name": "stdout",
     "output_type": "stream",
     "text": [
      "0\n",
      "1\n",
      "2\n",
      "3\n",
      "4\n"
     ]
    }
   ],
   "source": [
    "for i in range(5):\n",
    "\n",
    "    print(i)\n",
    "    if i==4:\n",
    "        break\n",
    "else:\n",
    "    print(\"sorry no i \")"
   ]
  },
  {
   "cell_type": "code",
   "execution_count": 10,
   "id": "64aca440-44c9-4f7c-bbd4-d8d276767563",
   "metadata": {},
   "outputs": [
    {
     "name": "stdin",
     "output_type": "stream",
     "text": [
      "enter the number :  3\n"
     ]
    },
    {
     "name": "stdout",
     "output_type": "stream",
     "text": [
      "multiplication table of 3 is:\n",
      "sorry  some error occured\n",
      "some imp lines of code\n",
      "end of program\n"
     ]
    }
   ],
   "source": [
    "a= input(\"enter the number : \")\n",
    "print(f\"multiplication table of {a} is:\")\n",
    "try:\n",
    "    for i in range(1 , 11):\n",
    "        print(f\"int({a}) X {i}=\", a*i+1)\n",
    "except:\n",
    "    print(\"sorry  some error occured\")\n",
    "print(\"some imp lines of code\")\n",
    "print(\"end of program\")"
   ]
  },
  {
   "cell_type": "code",
   "execution_count": 5,
   "id": "e70ab2b3-35e4-4e48-8ea1-7a47e1a0620a",
   "metadata": {},
   "outputs": [
    {
     "name": "stdin",
     "output_type": "stream",
     "text": [
      "enter your age here :  55\n"
     ]
    },
    {
     "name": "stdout",
     "output_type": "stream",
     "text": [
      "55\n",
      "try it again!!!\n"
     ]
    }
   ],
   "source": [
    "#finally keyword\n",
    "try:\n",
    "    age = int(input(\"enter your age here : \"))\n",
    "    print(age)\n",
    "    \n",
    "except ValueError:\n",
    "    print(\"invalid value\")\n",
    "    \n",
    "finally:\n",
    "    print(\"try it again!!!\")\n",
    "    "
   ]
  },
  {
   "cell_type": "code",
   "execution_count": 14,
   "id": "7f19f0ee-463c-4f5a-9d67-15969dc7ad51",
   "metadata": {},
   "outputs": [
    {
     "name": "stdin",
     "output_type": "stream",
     "text": [
      "enter the value between 5 and 9: quit\n"
     ]
    },
    {
     "ename": "ValueError",
     "evalue": "invalid literal for int() with base 10: 'quit'",
     "output_type": "error",
     "traceback": [
      "\u001b[1;31m---------------------------------------------------------------------------\u001b[0m",
      "\u001b[1;31mValueError\u001b[0m                                Traceback (most recent call last)",
      "Cell \u001b[1;32mIn[14], line 2\u001b[0m\n\u001b[0;32m      1\u001b[0m \u001b[38;5;66;03m# raising custom errors     built-in exceptions\u001b[39;00m\n\u001b[1;32m----> 2\u001b[0m a \u001b[38;5;241m=\u001b[39m \u001b[38;5;28;43mint\u001b[39;49m\u001b[43m(\u001b[49m\u001b[38;5;28;43minput\u001b[39;49m\u001b[43m(\u001b[49m\u001b[38;5;124;43m\"\u001b[39;49m\u001b[38;5;124;43menter the value between 5 and 9:\u001b[39;49m\u001b[38;5;124;43m\"\u001b[39;49m\u001b[43m)\u001b[49m\u001b[43m)\u001b[49m\n\u001b[0;32m      4\u001b[0m \u001b[38;5;28;01mif\u001b[39;00m (a\u001b[38;5;241m<\u001b[39m\u001b[38;5;241m5\u001b[39m \u001b[38;5;129;01mor\u001b[39;00m a\u001b[38;5;241m>\u001b[39m\u001b[38;5;241m9\u001b[39m \u001b[38;5;129;01mor\u001b[39;00m \u001b[38;5;28mstr\u001b[39m(a\u001b[38;5;241m!=\u001b[39m\u001b[38;5;124m\"\u001b[39m\u001b[38;5;124mquit\u001b[39m\u001b[38;5;124m\"\u001b[39m)):\n\u001b[0;32m      5\u001b[0m     \u001b[38;5;28;01mraise\u001b[39;00m \u001b[38;5;167;01mValueError\u001b[39;00m(\u001b[38;5;124m\"\u001b[39m\u001b[38;5;124mvalue should be between 5 and 9\u001b[39m\u001b[38;5;124m\"\u001b[39m)\n",
      "\u001b[1;31mValueError\u001b[0m: invalid literal for int() with base 10: 'quit'"
     ]
    }
   ],
   "source": [
    "# raising custom errors     built-in exceptions\n",
    "a = int(input(\"enter the value between 5 and 9:\"))\n",
    "\n",
    "if (a<5 or a>9 or str(a!=\"quit\")):\n",
    "    raise ValueError(\"value should be between 5 and 9\")\n",
    "    \n",
    "\n"
   ]
  },
  {
   "cell_type": "code",
   "execution_count": 23,
   "id": "92444d09-0a3e-4200-a1c8-64398f0058dd",
   "metadata": {},
   "outputs": [
    {
     "name": "stdin",
     "output_type": "stream",
     "text": [
      "Enter a value between 5 and 9 or write 'quit' to exit:  quit\n"
     ]
    },
    {
     "name": "stdout",
     "output_type": "stream",
     "text": [
      "Exiting the program.\n"
     ]
    }
   ],
   "source": [
    "user_input = input(\"Enter a value between 5 and 9 or write 'quit' to exit: \")\n",
    "\n",
    "if user_input.lower() == \"quit\":\n",
    "    print(\"Exiting the program.\")\n",
    "else:\n",
    "    try:\n",
    "        a = int(user_input)\n",
    "        if a < 5 or a > 9:\n",
    "            raise ValueError(\"Value should be between 5 and 9\")\n",
    "        \n",
    "        print(f\"The entered value is: {a}\")\n",
    "    \n",
    "    except ValueError as e:\n",
    "        print(e)\n",
    "    \n",
    "    \n",
    "\n"
   ]
  },
  {
   "cell_type": "code",
   "execution_count": 31,
   "id": "bda32843-56c2-444b-ad99-9c57dac5a82d",
   "metadata": {},
   "outputs": [
    {
     "name": "stdout",
     "output_type": "stream",
     "text": [
      "question for rupees 1000 , 2000 , 3000 , 5000 , 10000 , 20000 , 40000 , 80000 , 160000 , 320000 \n",
      "a. python                         b. french\n",
      "c. javascript                     d. php\n"
     ]
    },
    {
     "name": "stdin",
     "output_type": "stream",
     "text": [
      "enter your answer (1 to 4) 4\n"
     ]
    },
    {
     "name": "stdout",
     "output_type": "stream",
     "text": [
      "correct answer , you have won Rs. 1000 , 2000 , 3000 , 5000 , 10000 , 20000 , 40000 , 80000 , 160000 , 320000 \n"
     ]
    },
    {
     "ename": "IndexError",
     "evalue": "list index out of range",
     "output_type": "error",
     "traceback": [
      "\u001b[1;31m---------------------------------------------------------------------------\u001b[0m",
      "\u001b[1;31mIndexError\u001b[0m                                Traceback (most recent call last)",
      "Cell \u001b[1;32mIn[31], line 13\u001b[0m\n\u001b[0;32m     11\u001b[0m \u001b[38;5;28;01mfor\u001b[39;00m i \u001b[38;5;129;01min\u001b[39;00m \u001b[38;5;28mrange\u001b[39m(\u001b[38;5;241m0\u001b[39m , \u001b[38;5;28mlen\u001b[39m(questions) ):\n\u001b[0;32m     12\u001b[0m     question \u001b[38;5;241m=\u001b[39m questions[i]\n\u001b[1;32m---> 13\u001b[0m     \u001b[38;5;28mprint\u001b[39m(\u001b[38;5;124mf\u001b[39m\u001b[38;5;124m\"\u001b[39m\u001b[38;5;124mquestion for rupees \u001b[39m\u001b[38;5;132;01m{\u001b[39;00m\u001b[43mlevels\u001b[49m\u001b[43m[\u001b[49m\u001b[43mi\u001b[49m\u001b[43m]\u001b[49m\u001b[38;5;132;01m}\u001b[39;00m\u001b[38;5;124m\"\u001b[39m)\n\u001b[0;32m     14\u001b[0m     \u001b[38;5;28mprint\u001b[39m(\u001b[38;5;124mf\u001b[39m\u001b[38;5;124m\"\u001b[39m\u001b[38;5;124ma. \u001b[39m\u001b[38;5;132;01m{\u001b[39;00mquestion[\u001b[38;5;241m1\u001b[39m]\u001b[38;5;132;01m}\u001b[39;00m\u001b[38;5;124m                         b. \u001b[39m\u001b[38;5;132;01m{\u001b[39;00mquestion[\u001b[38;5;241m2\u001b[39m]\u001b[38;5;132;01m}\u001b[39;00m\u001b[38;5;124m\"\u001b[39m)\n\u001b[0;32m     15\u001b[0m     \u001b[38;5;28mprint\u001b[39m(\u001b[38;5;124mf\u001b[39m\u001b[38;5;124m\"\u001b[39m\u001b[38;5;124mc. \u001b[39m\u001b[38;5;132;01m{\u001b[39;00mquestion[\u001b[38;5;241m3\u001b[39m]\u001b[38;5;132;01m}\u001b[39;00m\u001b[38;5;124m                     d. \u001b[39m\u001b[38;5;132;01m{\u001b[39;00mquestion[\u001b[38;5;241m4\u001b[39m]\u001b[38;5;132;01m}\u001b[39;00m\u001b[38;5;124m\"\u001b[39m)\n",
      "\u001b[1;31mIndexError\u001b[0m: list index out of range"
     ]
    }
   ],
   "source": [
    "#kbc question \n",
    "questions = [\n",
    "    [\"which language was used to create fb ?\", \"python\",\"french\" , \"javascript\" , \"php\" , \"none\" , 4],\n",
    "    [\"which language was used to create fb ?\", \"python\",\"french\" , \"javascript\" , \"php\" , \"none\" , 4],\n",
    "    [\"which language was used to create fb ?\", \"python\",\"french\" , \"javascript\" , \"php\" , \"none\" , 4],\n",
    "    [\"which language was used to create fb ?\", \"python\",\"french\" , \"javascript\" , \"php\" , \"none\" , 4]\n",
    "]\n",
    "\n",
    "levels = [\"1000 , 2000 , 3000 , 5000 , 10000 , 20000 , 40000 , 80000 , 160000 , 320000 \"]\n",
    "i = 0\n",
    "for i in range(0 , len(questions) ):\n",
    "    question = questions[i]\n",
    "    print(f\"question for rupees {levels[i]}\")\n",
    "    print(f\"a. {question[1]}                         b. {question[2]}\")\n",
    "    print(f\"c. {question[3]}                     d. {question[4]}\")\n",
    "    reply = int(input(\"enter your answer (1 to 4)\"))\n",
    "    if (reply == question[-1]):\n",
    "        print(f\"correct answer , you have won Rs. {levels[i]}\")\n",
    "        \n",
    "    else:\n",
    "        print(\"wrong answer!\")\n",
    "        break"
   ]
  },
  {
   "cell_type": "code",
   "execution_count": 11,
   "id": "6effea14-04c0-450f-a383-90ac4ecdc43c",
   "metadata": {},
   "outputs": [
    {
     "name": "stdout",
     "output_type": "stream",
     "text": [
      "A\n",
      "9\n"
     ]
    }
   ],
   "source": [
    "#shorthand if else\n",
    "a = 830\n",
    "b = 730\n",
    "print(\"A\") if a>b else print(\"=\") if a == b else print(\"B\")\n",
    "print(9) if a>b else print(\"no\")\n"
   ]
  },
  {
   "cell_type": "code",
   "execution_count": 22,
   "id": "d9abca04-83a3-432b-b1c9-afb12793fb7b",
   "metadata": {},
   "outputs": [
    {
     "name": "stdout",
     "output_type": "stream",
     "text": [
      "1 12\n",
      "2 56\n",
      "3 32\n",
      "harry awesome!\n",
      "4 74\n",
      "5 85\n",
      "6 97\n",
      "7 76\n",
      "8 74\n",
      "9 apple\n",
      "10 banana\n",
      "11 kiwi\n"
     ]
    }
   ],
   "source": [
    "#ennumerate function\n",
    "'''marks= [12 , 56 , 32 , 74 , 85 , 97 , 76, 74]\n",
    "index = 0\n",
    "for mark in marks:\n",
    "    print(mark)\n",
    "    if( index == 3):\n",
    "        print(\"harry awesome!\")\n",
    "    index +=1'''\n",
    "marks= [12 , 56 , 32 , 74 , 85 , 97 , 76, 74]\n",
    "for index, mark in enumerate(marks ,start =1):\n",
    "    print(index ,mark)\n",
    "    if( index == 3):\n",
    "        print(\"harry awesome!\")\n",
    "\n",
    "\n",
    "fruits = [\"apple\" , \"banana\" , \"kiwi\"]\n",
    "for index, fruit in enumerate(fruits , start =9):\n",
    "    print(index , fruit)"
   ]
  },
  {
   "cell_type": "code",
   "execution_count": 1,
   "id": "0b1b9dda-ce4e-4728-b39a-36d7ce1fb4e5",
   "metadata": {},
   "outputs": [],
   "source": [
    "# virtual environment in python \n",
    "#create a virtual environment -- python -m venv myenv\n",
    "# actuvate the virtual environment     myenv\\Scripts\\activate.bat     if you are in powershell then use    myenv\\Scripts\\activate.ps1 \n",
    "\n",
    "\n",
    "\n",
    "# requirement.txt file  pip freeze > requirement.txt    pip freeze basically gives you all the pacages installed in you venv\n",
    "\n",
    "#pip install -r requirement.txt      it is just if you end this to anyone it can be used to download all the reqauirements needed\n",
    "\n",
    "\n",
    "\n",
    " \n"
   ]
  },
  {
   "cell_type": "code",
   "execution_count": 9,
   "id": "6fad45f3-1f62-4d61-983d-90fe2e1c12f6",
   "metadata": {},
   "outputs": [
    {
     "name": "stdout",
     "output_type": "stream",
     "text": [
      "2.2.2\n",
      "9.42477796076938\n"
     ]
    }
   ],
   "source": [
    "import pandas as pd\n",
    "print(pd.__version__)\n",
    "import math\n",
    "math.floor(2.778)\n",
    "math.sqrt(256)\n",
    "from math import sqrt , pi\n",
    "result = sqrt(9)* pi\n",
    "print(result)\n",
    "from math import *   # it importsw all the functions in the math module\n"
   ]
  },
  {
   "cell_type": "code",
   "execution_count": 6,
   "id": "545fedb7-b46d-4116-bf11-4212034f4650",
   "metadata": {},
   "outputs": [
    {
     "name": "stdout",
     "output_type": "stream",
     "text": [
      "9.42477796076938\n",
      "['__doc__', '__loader__', '__name__', '__package__', '__spec__', 'acos', 'acosh', 'asin', 'asinh', 'atan', 'atan2', 'atanh', 'cbrt', 'ceil', 'comb', 'copysign', 'cos', 'cosh', 'degrees', 'dist', 'e', 'erf', 'erfc', 'exp', 'exp2', 'expm1', 'fabs', 'factorial', 'floor', 'fmod', 'frexp', 'fsum', 'gamma', 'gcd', 'hypot', 'inf', 'isclose', 'isfinite', 'isinf', 'isnan', 'isqrt', 'lcm', 'ldexp', 'lgamma', 'log', 'log10', 'log1p', 'log2', 'modf', 'nan', 'nextafter', 'perm', 'pi', 'pow', 'prod', 'radians', 'remainder', 'sin', 'sinh', 'sqrt', 'tan', 'tanh', 'tau', 'trunc', 'ulp']\n",
      "nan <class 'float'>\n"
     ]
    }
   ],
   "source": [
    "import math as m\n",
    "result = m.sqrt(9)* m.pi\n",
    "print(result)\n",
    "\n",
    "\n",
    "# dir is used to define each function in a module \n",
    "print(dir(m))\n",
    "print(m.nan, type(m.nan))"
   ]
  },
  {
   "cell_type": "code",
   "execution_count": 8,
   "id": "feb04b43-08f8-4304-9231-a229c55f8172",
   "metadata": {},
   "outputs": [
    {
     "name": "stdout",
     "output_type": "stream",
     "text": [
      "__main__\n",
      "hey! welcome my freind\n"
     ]
    }
   ],
   "source": [
    "#make one module name it harry  and then export it in another file using import name\n",
    "def welcome():\n",
    "    print(\"hey! welcome my freind\")\n",
    "print(__name__)\n",
    "if __name__==\"__main__\":\n",
    "    welcome()"
   ]
  },
  {
   "cell_type": "code",
   "execution_count": 10,
   "id": "1b434bd4-44c8-4b0f-84e6-185f40790836",
   "metadata": {},
   "outputs": [
    {
     "ename": "AttributeError",
     "evalue": "module 'ntpath' has no attribute 'exist'",
     "output_type": "error",
     "traceback": [
      "\u001b[1;31m---------------------------------------------------------------------------\u001b[0m",
      "\u001b[1;31mAttributeError\u001b[0m                            Traceback (most recent call last)",
      "Cell \u001b[1;32mIn[10], line 2\u001b[0m\n\u001b[0;32m      1\u001b[0m \u001b[38;5;28;01mimport\u001b[39;00m \u001b[38;5;21;01mos\u001b[39;00m\n\u001b[1;32m----> 2\u001b[0m \u001b[38;5;28;01mif\u001b[39;00m(\u001b[43mos\u001b[49m\u001b[38;5;241;43m.\u001b[39;49m\u001b[43mpath\u001b[49m\u001b[38;5;241;43m.\u001b[39;49m\u001b[43mexist\u001b[49m(\u001b[38;5;124m\"\u001b[39m\u001b[38;5;124mdata\u001b[39m\u001b[38;5;124m\"\u001b[39m)):\n\u001b[0;32m      3\u001b[0m     os\u001b[38;5;241m.\u001b[39mmkdir(\u001b[38;5;124m\"\u001b[39m\u001b[38;5;124mdata\u001b[39m\u001b[38;5;124m\"\u001b[39m)\n\u001b[0;32m      4\u001b[0m \u001b[38;5;28;01mfor\u001b[39;00m i \u001b[38;5;129;01min\u001b[39;00m \u001b[38;5;28mrange\u001b[39m(\u001b[38;5;241m0\u001b[39m,\u001b[38;5;241m100\u001b[39m):\n",
      "\u001b[1;31mAttributeError\u001b[0m: module 'ntpath' has no attribute 'exist'"
     ]
    }
   ],
   "source": [
    "import os\n",
    "if(os.path.exist(\"data\")):\n",
    "    os.mkdir(\"data\")\n",
    "for i in range(0,100):\n",
    "    os.mkdir(f\"data/day(i+1)\")\n",
    "    # how to rename\n",
    "os.rename(f\"data/tutorial(i+1)\" , f\"data/tutorial (i+1)\")\n",
    "\n",
    "\n",
    "import os\n",
    "folders = os.listdir(\"data\")\n",
    "print(folder)\n",
    "for folder in folders:\n",
    "    print(folder)\n",
    "    \n",
    "    "
   ]
  },
  {
   "cell_type": "code",
   "execution_count": 11,
   "id": "e7dbe6b2-8880-4f31-a48b-6210942a4efc",
   "metadata": {},
   "outputs": [
    {
     "data": {
      "text/plain": [
       "15"
      ]
     },
     "execution_count": 11,
     "metadata": {},
     "output_type": "execute_result"
    }
   ],
   "source": []
  },
  {
   "cell_type": "code",
   "execution_count": 42,
   "id": "f0acca7c-8f59-4101-a375-99f9b938f7cf",
   "metadata": {},
   "outputs": [
    {
     "name": "stdin",
     "output_type": "stream",
     "text": [
      "enter message:  hi how are you\n"
     ]
    },
    {
     "name": "stdout",
     "output_type": "stream",
     "text": [
      "hi how are you\n"
     ]
    }
   ],
   "source": [
    "words = input(\"enter message: \")\n",
    "coding = True\n",
    "if True:\n",
    "    for word in words:\n",
    "        if len(word)>=3:\n",
    "            r1 = \"dif\"\n",
    "            r2 = \"jkr\"\n",
    "            stnew = r1 + words[1:] + words[0] + r2\n",
    "         \n",
    "            print(stnew)\n",
    "\n",
    "print(words)"
   ]
  },
  {
   "cell_type": "code",
   "execution_count": 44,
   "id": "4c7ec8c0-acb9-4cde-9907-a3cb2fb8c8c9",
   "metadata": {},
   "outputs": [
    {
     "name": "stdin",
     "output_type": "stream",
     "text": [
      "enter message:  hi how are you\n"
     ]
    },
    {
     "name": "stdout",
     "output_type": "stream",
     "text": [
      "i how are youh\n",
      "i how are youh\n",
      "i how are youh\n"
     ]
    }
   ],
   "source": [
    "words = input(\"enter message: \")\n",
    "coding = True\n",
    "if True:\n",
    "    for word in words.s:\n",
    "        if len(word)>=3:\n",
    "            \n",
    "            stnew = words[1:] + words[0] \n",
    "         \n",
    "            print(stnew)\n"
   ]
  },
  {
   "cell_type": "code",
   "execution_count": 46,
   "id": "45fd67c9-fa6c-4441-b711-81f2800bc448",
   "metadata": {},
   "outputs": [
    {
     "ename": "IndentationError",
     "evalue": "unindent does not match any outer indentation level (<tokenize>, line 14)",
     "output_type": "error",
     "traceback": [
      "\u001b[1;36m  File \u001b[1;32m<tokenize>:14\u001b[1;36m\u001b[0m\n\u001b[1;33m    print(\" \".join(nwords))\u001b[0m\n\u001b[1;37m    ^\u001b[0m\n\u001b[1;31mIndentationError\u001b[0m\u001b[1;31m:\u001b[0m unindent does not match any outer indentation level\n"
     ]
    }
   ],
   "source": [
    "stt = input(\"enter message\")\n",
    "words = st.split(\" \")\n",
    "coding = False\n",
    "if(coding):\n",
    "    nwords = []\n",
    "    for word in words:\n",
    "        if(len(word)>=3):\n",
    "            r1 = \"dsf\"\n",
    "            r2 = \"jkr\"\n",
    "            stnew = r1+ word[1:] + word[0] + r2\n",
    "            nwords.append(stnew)\n",
    "        else:\n",
    "            nwords.append(word[::-1])\n",
    "     print(\" \".join(nwords)) \n",
    "else:\n",
    "  nwords = [] \n",
    "  for \n",
    "        \n",
    "    \n"
   ]
  },
  {
   "cell_type": "code",
   "execution_count": 62,
   "id": "64238f42-312c-4486-89e3-fe0f23da5f8d",
   "metadata": {},
   "outputs": [
    {
     "name": "stdout",
     "output_type": "stream",
     "text": [
      " here we are greeting to every entered user\n",
      "    name\n"
     ]
    },
    {
     "data": {
      "text/plain": [
       "'hello,aditya'"
      ]
     },
     "execution_count": 62,
     "metadata": {},
     "output_type": "execute_result"
    }
   ],
   "source": [
    "# local variable and global variable\n",
    "\n",
    "def greet(name, greetings=\"hello\"):\n",
    "    ''' here we are greeting to every entered user\n",
    "    name'''\n",
    "    return f\"{greetings},{name}\"\n",
    "\n",
    "print(greet.__doc__) \n",
    "greet(\"aditya\") "
   ]
  },
  {
   "cell_type": "code",
   "execution_count": 63,
   "id": "a8338d57-be03-4f2c-9f82-7c6109e307a2",
   "metadata": {},
   "outputs": [
    {
     "data": {
      "text/plain": [
       "'division by zero is not allowed'"
      ]
     },
     "execution_count": 63,
     "metadata": {},
     "output_type": "execute_result"
    }
   ],
   "source": [
    "def divide(a , b):\n",
    "    try:\n",
    "        return a/b\n",
    "    except ZeroDivisionError:\n",
    "        return \"division by zero is not allowed\"\n",
    "divide(10,0)        "
   ]
  },
  {
   "cell_type": "code",
   "execution_count": 74,
   "id": "cb72013f-d7ad-4b38-8fd4-cc1728054d15",
   "metadata": {},
   "outputs": [
    {
     "name": "stdout",
     "output_type": "stream",
     "text": [
      "4\n",
      "8\n",
      "5\n",
      "1\n",
      "hello , harry!\n",
      "the local x is 5\n",
      "the global x is 4\n",
      "8\n"
     ]
    }
   ],
   "source": [
    "x = 4\n",
    "y = 8\n",
    "print(x)\n",
    "print(y)\n",
    "def hello():\n",
    "    x=5\n",
    "    y=1\n",
    "    print(x)\n",
    "    print(y)\n",
    "    print(\"hello , harry!\")\n",
    "    print(f\"the local x is {x}\")\n",
    "hello()    \n",
    "print(f\"the global x is {x}\")\n",
    "print(y)"
   ]
  },
  {
   "cell_type": "code",
   "execution_count": 3,
   "id": "3d3acea1-da66-4841-9c0b-94b7bc0edaf4",
   "metadata": {},
   "outputs": [
    {
     "name": "stdout",
     "output_type": "stream",
     "text": [
      "5\n",
      "4\n"
     ]
    }
   ],
   "source": [
    "#global varible\n",
    "x = 10\n",
    "def my_function():\n",
    "    global x\n",
    "    x = 4\n",
    "    y = 5\n",
    "    print(y)\n",
    "\n",
    "my_function()\n",
    "print(x)\n",
    "#print(y)\n",
    "# generally avoid to modifuy the global varible\n"
   ]
  },
  {
   "cell_type": "code",
   "execution_count": 2,
   "id": "9ad7d33a-d619-40df-ae8c-fc088ead027c",
   "metadata": {},
   "outputs": [],
   "source": [
    "#file i/o in python\n",
    "#f = open(myfile.txt , 'r')      r read w write  a append     rb binary file\n",
    "#twxt = f.read()\n",
    "#print(text)\n",
    "#f.close()\n",
    "# if you dont want to use f.close()\n",
    "#with open(myfile.txt , 'r'):\n",
    "#    f.write(\"hey i am inside with\")\n",
    "# seek() tell() and other fucntions\n"
   ]
  },
  {
   "cell_type": "code",
   "execution_count": null,
   "id": "19d3b9fc-2bc7-4b79-8c54-827be9eb6e86",
   "metadata": {},
   "outputs": [],
   "source": [
    "# seek() tell() and other fucntions\n",
    "with open('file.txt' , 'r') as f:\n",
    "    f.seek(10)\n",
    "    f.truncate(5)   # to specyify the size\n",
    "    print(f.tell())  # to track ourselves\n",
    "    data = f.read(5) # for next 5 lines\n",
    "    print(data)"
   ]
  },
  {
   "cell_type": "code",
   "execution_count": 10,
   "id": "983c98f8-5785-4099-80ae-b9e024ef60a9",
   "metadata": {},
   "outputs": [
    {
     "name": "stdout",
     "output_type": "stream",
     "text": [
      "10\n",
      "125\n",
      "2.5\n",
      "3.6666666666666665\n",
      "14\n"
     ]
    }
   ],
   "source": [
    "#lambda function\n",
    "#def double(x):\n",
    "#    return x*2\n",
    "def appl(fx, value):\n",
    "    return 6 + fx(value)\n",
    "\n",
    "\n",
    "#double(5)\n",
    "double = lambda x: x*2\n",
    "cube = lambda x: x*x*x\n",
    "avg = lambda x, y: (x+y)/2\n",
    "avgg = lambda x, y, z: (x+y+z)/3\n",
    "\n",
    "print(double(5))\n",
    "print(cube(5))\n",
    "print(avg(2, 3))\n",
    "print(avgg(2, 3, 6))\n",
    "#print(appl(cube , 2))\n",
    "print(appl(lambda x: x*x*x , 2))"
   ]
  },
  {
   "cell_type": "code",
   "execution_count": 27,
   "id": "119e52a9-409f-4092-b3ea-bb5a61ab347a",
   "metadata": {},
   "outputs": [
    {
     "name": "stdout",
     "output_type": "stream",
     "text": [
      "8\n",
      "[1, 8, 27, 64, 125]\n",
      "[5]\n",
      "21\n"
     ]
    }
   ],
   "source": [
    "# map filter reduce\n",
    "def cube(x):\n",
    "    return x*x*x\n",
    "print(cube(2))\n",
    "\n",
    "l = [1,2,3,4,5]\n",
    "#newl = []\n",
    "#for i in l:\n",
    "#    newl.append(cube(i)) \n",
    "newl = list(map(lambda x: x*x*x, l))   \n",
    "print(newl)    \n",
    "    \n",
    "#FILTER\n",
    "def filter_function(a):\n",
    "    return a>4\n",
    "    \n",
    "newnewl =list( filter(filter_function , l))\n",
    "print(newnewl)\n",
    "\n",
    "\n",
    "\n",
    "#REDUCE\n",
    "from functools import reduce\n",
    "number = [1,2,3,4,5,6]\n",
    "\n",
    "sum = reduce(lambda x, y: x+y , number)\n",
    "print(sum)"
   ]
  },
  {
   "cell_type": "code",
   "execution_count": 34,
   "id": "73d06a7b-c0cf-4e39-98c0-6feb52a95df3",
   "metadata": {},
   "outputs": [
    {
     "name": "stdout",
     "output_type": "stream",
     "text": [
      "True\n",
      "True\n",
      "True\n",
      "False\n"
     ]
    }
   ],
   "source": [
    "#is vs ==\n",
    "a = None\n",
    "b = None\n",
    "c = [1,2,3]\n",
    "d = [1,2,3]\n",
    "print(a == b)# compare the exact location of object in memory\n",
    "print(a is b )# compare the value\n",
    "print(c == d)\n",
    "print(c is d)\n",
    "#THING WHICH ARE IMMUTABLE GOES TO SAME MEMORY"
   ]
  },
  {
   "cell_type": "code",
   "execution_count": null,
   "id": "da2ffd05-ee72-4f0d-af9e-eeda9dc08450",
   "metadata": {},
   "outputs": [],
   "source": [
    "# SNAKE WATER GUN GAME \n"
   ]
  },
  {
   "cell_type": "code",
   "execution_count": 45,
   "id": "c89fd7b0-286f-4f09-af9f-27b1f676e3db",
   "metadata": {},
   "outputs": [
    {
     "name": "stdout",
     "output_type": "stream",
     "text": [
      "shubham is an accountant \n",
      "nitika is an HR \n"
     ]
    }
   ],
   "source": [
    "# oops progaming\n",
    "# classwesz and objects \n",
    "class person:\n",
    "    name = \"harry\"\n",
    "    occupation = \"Software Developer\"\n",
    "    networth = 10\n",
    "    def info(self):\n",
    "        print(f\"{self.name} is an {self.occupation} \")\n",
    "        \n",
    "a = person()\n",
    "a.name = \"shubham\"\n",
    "a.occupation = \"accountant\"\n",
    "b = person()\n",
    "b.name = \"nitika\"\n",
    "b.occupation = \"HR\"\n",
    "a.info()\n",
    "b.info()\n",
    "\n"
   ]
  },
  {
   "cell_type": "code",
   "execution_count": 69,
   "id": "5261901d-aff7-43a2-8a81-033db6c829cf",
   "metadata": {},
   "outputs": [
    {
     "name": "stdout",
     "output_type": "stream",
     "text": [
      "divya is an hr\n",
      "anjali is an developer\n",
      "1 is an 2\n"
     ]
    }
   ],
   "source": [
    "#constructor\n",
    "# default constructor    def __init__(self)    when you dont giuve any argument\n",
    "class person:\n",
    "    def __init__(self, name, occupation):\n",
    "        \n",
    "        self.name = name\n",
    "        self.occ = occupation\n",
    "    \n",
    "\n",
    "    def info(self):\n",
    "        print(f\"{self.name} is an {self.occ}\")\n",
    "\n",
    "a = person(\"divya\" , \"hr\")\n",
    "b = person(\"anjali\" , \"developer\")\n",
    "c = person(1 , 2)\n",
    "\n",
    "a.info()\n",
    "b.info()\n",
    "c.info()"
   ]
  },
  {
   "cell_type": "code",
   "execution_count": 79,
   "id": "4cab4672-cc6a-44f4-8e2c-035ac6e6b987",
   "metadata": {},
   "outputs": [
    {
     "name": "stdout",
     "output_type": "stream",
     "text": [
      "good morning\n",
      "hello world\n",
      "thanks for using this function\n",
      "good morning\n",
      "bubyye!!\n",
      "thanks for using this function\n",
      "decorate\n",
      "good morning\n",
      "thanks for using this function\n"
     ]
    }
   ],
   "source": [
    "#decorators   @ syntax   they modify the function\n",
    "# *args we take arguments as a tuple and **kwargs is way to take the argu,ments as a list\n",
    "def greet(fx):\n",
    "    def mfx(*args , **kwargs):\n",
    "        print(\"good morning\")\n",
    "        fx(*args , **kwargs)\n",
    "        \n",
    "        print(\"thanks for using this function\")\n",
    "    return mfx\n",
    "\n",
    "\n",
    "@greet\n",
    "def hello():\n",
    "    print(\"hello world\")\n",
    "\n",
    "@greet\n",
    "def bye():\n",
    "    print(\"bubyye!!\")\n",
    "\n",
    "@greet\n",
    "def add(a, b):\n",
    "    return a+b\n",
    "\n",
    "hello()\n",
    "bye()\n",
    "print(\"decorate\")\n",
    "add(2, 3)\n",
    "\n",
    "\n",
    "\n",
    "\n"
   ]
  },
  {
   "cell_type": "code",
   "execution_count": 85,
   "id": "5a075d47-0147-4d75-9e2b-c5613628f858",
   "metadata": {},
   "outputs": [
    {
     "name": "stdout",
     "output_type": "stream",
     "text": [
      " vlaue is 10\n",
      "100\n"
     ]
    }
   ],
   "source": [
    "# getters and setters \n",
    "class myclass:\n",
    "    def __init__(self, value):\n",
    "        self._value = value\n",
    "    def show(self):\n",
    "        print(f\" vlaue is {self._value}\")\n",
    "\n",
    "    @property\n",
    "    def ten_value(self):\n",
    "        return 10* self._value\n",
    "\n",
    "obj = myclass(10)\n",
    "obj.show()\n",
    "print(obj.ten_value)\n"
   ]
  },
  {
   "cell_type": "code",
   "execution_count": null,
   "id": "72eeb6f9-80fd-49d4-9b7d-3c961a9ca6d0",
   "metadata": {},
   "outputs": [],
   "source": []
  }
 ],
 "metadata": {
  "kernelspec": {
   "display_name": "Python 3 (ipykernel)",
   "language": "python",
   "name": "python3"
  },
  "language_info": {
   "codemirror_mode": {
    "name": "ipython",
    "version": 3
   },
   "file_extension": ".py",
   "mimetype": "text/x-python",
   "name": "python",
   "nbconvert_exporter": "python",
   "pygments_lexer": "ipython3",
   "version": "3.11.4"
  }
 },
 "nbformat": 4,
 "nbformat_minor": 5
}
