{
 "cells": [
  {
   "cell_type": "code",
   "execution_count": 1,
   "id": "2ccf6420",
   "metadata": {},
   "outputs": [],
   "source": [
    "import re"
   ]
  },
  {
   "cell_type": "code",
   "execution_count": 28,
   "id": "c80cf74d",
   "metadata": {},
   "outputs": [
    {
     "data": {
      "text/plain": [
       "'Python:Exercises::PHP:exercises:'"
      ]
     },
     "execution_count": 28,
     "metadata": {},
     "output_type": "execute_result"
    }
   ],
   "source": [
    "string= 'Python Exercises, PHP exercises.'\n",
    "pattern = r'[ ,.]'\n",
    "replace=':'\n",
    "new_string=re.sub(pattern,replace,string)\n",
    "new_string"
   ]
  },
  {
   "cell_type": "code",
   "execution_count": 51,
   "id": "563e5cc6",
   "metadata": {},
   "outputs": [
    {
     "data": {
      "text/plain": [
       "['Exercises', 'exercises']"
      ]
     },
     "execution_count": 51,
     "metadata": {},
     "output_type": "execute_result"
    }
   ],
   "source": [
    "string= 'Python Exercises, PHP exercises.'\n",
    "pattern= r'\\b[aEe]\\w*\\b'\n",
    "result=re.findall(pattern,string)\n",
    "result"
   ]
  },
  {
   "cell_type": "code",
   "execution_count": 101,
   "id": "a4f5e992",
   "metadata": {},
   "outputs": [
    {
     "data": {
      "text/plain": [
       "['Python', 'Exercises', 'exercises']"
      ]
     },
     "execution_count": 101,
     "metadata": {},
     "output_type": "execute_result"
    }
   ],
   "source": [
    "string = 'Python Exercises, PHP exercises.'\n",
    "pattern = r\"\\b\\w{4,}\\b\"\n",
    "regex_object=re.compile(pattern)\n",
    "match_object=regex_object.findall(string)\n",
    "match_object"
   ]
  },
  {
   "cell_type": "code",
   "execution_count": 110,
   "id": "aefedf46",
   "metadata": {},
   "outputs": [
    {
     "data": {
      "text/plain": [
       "['Python', 'Exercises', 'PHP', 'exercises']"
      ]
     },
     "execution_count": 110,
     "metadata": {},
     "output_type": "execute_result"
    }
   ],
   "source": [
    "string = 'Python Exercises, PHP exercises.'\n",
    "pattern = r\"\\b\\w{3,}\\b\"\n",
    "regex_object=re.compile(pattern)\n",
    "match_object=regex_object.findall(string)\n",
    "match_object"
   ]
  },
  {
   "cell_type": "code",
   "execution_count": 153,
   "id": "59d7e934",
   "metadata": {},
   "outputs": [
    {
     "data": {
      "text/plain": [
       "['example.com',\n",
       " 'hr@fliprobo.com',\n",
       " 'github.com',\n",
       " 'HelloData Science World',\n",
       " 'DataScientist']"
      ]
     },
     "execution_count": 153,
     "metadata": {},
     "output_type": "execute_result"
    }
   ],
   "source": [
    "string = [\"example(.com)\", \"hr@fliprobo(.com)\", \"github(.com)\", \"Hello(Data Science World)\", \"Data(Scientist)\"]\n",
    "pattern = r'\\(|\\)'\n",
    "replace = \"\"\n",
    "regex_object=re.compile(pattern)\n",
    "match_object=[re.sub(regex_object, replace, s) for s in string]\n",
    "match_object"
   ]
  },
  {
   "cell_type": "code",
   "execution_count": 157,
   "id": "d2693f45",
   "metadata": {},
   "outputs": [
    {
     "data": {
      "text/plain": [
       "['example',\n",
       " 'hr@fliprobo',\n",
       " 'github',\n",
       " 'Hello(Data Science World)',\n",
       " 'Data(Scientist)']"
      ]
     },
     "execution_count": 157,
     "metadata": {},
     "output_type": "execute_result"
    }
   ],
   "source": [
    "string = [\"example(.com)\", \"hr@fliprobo(.com)\", \"github(.com)\", \"Hello(Data Science World)\", \"Data(Scientist)\"]\n",
    "pattern = r\"\\(.com\\)\"\n",
    "replace = \"\"\n",
    "regex_object=re.compile(pattern)\n",
    "match_object=[re.sub(regex_object, replace, s) for s in string]\n",
    "match_object"
   ]
  },
  {
   "cell_type": "code",
   "execution_count": 229,
   "id": "837b7546",
   "metadata": {},
   "outputs": [
    {
     "data": {
      "text/plain": [
       "['Importance', 'Of', 'Regular', 'Expressions', 'In', 'Python']"
      ]
     },
     "execution_count": 229,
     "metadata": {},
     "output_type": "execute_result"
    }
   ],
   "source": [
    "string = \"ImportanceOfRegularExpressionsInPython\"\n",
    "pattern = r'(?<!^)(?=[A-Z])'\n",
    "result = re.split(pattern,string)\n",
    "result"
   ]
  },
  {
   "cell_type": "code",
   "execution_count": 227,
   "id": "d43f07c2",
   "metadata": {},
   "outputs": [
    {
     "data": {
      "text/plain": [
       "'RegularExpression 1IsAn 2ImportantTopic 3InPython'"
      ]
     },
     "execution_count": 227,
     "metadata": {},
     "output_type": "execute_result"
    }
   ],
   "source": [
    "string = \"RegularExpression1IsAn2ImportantTopic3InPython\"\n",
    "pattern = r'(?<=\\D)(?=\\d)'\n",
    "replace = r' '\n",
    "regex_object=re.compile(pattern)\n",
    "match_object=re.sub(pattern, replace, string)\n",
    "match_object"
   ]
  },
  {
   "cell_type": "code",
   "execution_count": 234,
   "id": "ff4b0b9a",
   "metadata": {},
   "outputs": [
    {
     "data": {
      "text/plain": [
       "'Regular  Expression1  Is  An2  Important  Topic3  In  Python'"
      ]
     },
     "execution_count": 234,
     "metadata": {},
     "output_type": "execute_result"
    }
   ],
   "source": [
    "string = \"RegularExpression1IsAn2ImportantTopic3InPython\"\n",
    "pattern = r'(?<!^)(?=[A-Z])'\n",
    "replace = \"  \"\n",
    "regex_object=re.compile(pattern)\n",
    "match_object=re.sub(pattern, replace, string)\n",
    "match_object"
   ]
  },
  {
   "cell_type": "code",
   "execution_count": 246,
   "id": "446262ed",
   "metadata": {},
   "outputs": [
    {
     "name": "stdout",
     "output_type": "stream",
     "text": [
      "[]\n",
      "[]\n",
      "['xyz@domain.com']\n",
      "['xyz.abc@sdomain.domain.com']\n",
      "['hr@fliprobo.com']\n"
     ]
    }
   ],
   "source": [
    "with open (\"C:/Users/armaa/OneDrive/Documents/sonikaML/Question 10- Write a python program.txt\") as file:\n",
    "    for line in file:\n",
    "        urls=re.findall(r'[A-Za-z0-9._%+-]+@[A-Za-z0-9.-]+\\.[A-Za-z]{2,}\\b',line)\n",
    "        print(urls)"
   ]
  },
  {
   "cell_type": "code",
   "execution_count": 260,
   "id": "2a036d0e",
   "metadata": {},
   "outputs": [
    {
     "data": {
      "text/plain": [
       "'Python_Exercises, PHP exercises$.'"
      ]
     },
     "execution_count": 260,
     "metadata": {},
     "output_type": "execute_result"
    }
   ],
   "source": [
    "string = 'Python_Exercises, PHP exercises$.'\n",
    "pattern = r'^[A-Za-z0-9]+$'\n",
    "replace = lambda m:m.group().upper()\n",
    "regex_object=re.compile(pattern)\n",
    "match_object=re.sub(regex_object,replace,string)\n",
    "match_object"
   ]
  },
  {
   "cell_type": "code",
   "execution_count": 271,
   "id": "c064b802",
   "metadata": {},
   "outputs": [
    {
     "data": {
      "text/plain": [
       "['Data', 'Science', 'domain', 'sdomain', 'domain']"
      ]
     },
     "execution_count": 271,
     "metadata": {},
     "output_type": "execute_result"
    }
   ],
   "source": [
    "string = 'Hello my name is Data Science and my email address is xyz@domain.com and alternate email address is xyz.abc@sdomain.domain.com.Please contact us at hr@fliprobo.com for further information.'\n",
    "pattern = r'\\b[DS]\\w+\\b'\n",
    "regex_object=re.compile(pattern, re.I)\n",
    "match_object=regex_object.findall(string)\n",
    "match_object"
   ]
  },
  {
   "cell_type": "code",
   "execution_count": 275,
   "id": "e7cece22",
   "metadata": {},
   "outputs": [
    {
     "data": {
      "text/plain": [
       "'195.178..'"
      ]
     },
     "execution_count": 275,
     "metadata": {},
     "output_type": "execute_result"
    }
   ],
   "source": [
    "ip_address = \"195.178.001.001\"\n",
    "pattern = r'\\b0+(\\d+)\\b'\n",
    "replace=''\n",
    "regex_object=re.compile(pattern)\n",
    "match_object=re.sub(regex_object,replace,ip_address)\n",
    "match_object"
   ]
  },
  {
   "cell_type": "code",
   "execution_count": 289,
   "id": "4c7313b2",
   "metadata": {},
   "outputs": [
    {
     "name": "stdout",
     "output_type": "stream",
     "text": [
      "<re.Match object; span=(19, 35), match='August 15th 1947'>\n",
      "None\n"
     ]
    }
   ],
   "source": [
    "with open (\"C:/Users/armaa/OneDrive/Documents/sonikaML/Sample_text.txt\") as file:\n",
    "    for month in file:\n",
    "        month_name=re.search(r'\\b(?:August)\\s+\\d{1,2}(?:st|nd|rd|th)?\\s+\\d{4}\\b',month)\n",
    "        print(month_name)"
   ]
  },
  {
   "cell_type": "code",
   "execution_count": 304,
   "id": "b50afb3f",
   "metadata": {},
   "outputs": [
    {
     "data": {
      "text/plain": [
       "[]"
      ]
     },
     "execution_count": 304,
     "metadata": {},
     "output_type": "execute_result"
    }
   ],
   "source": [
    "string = 'The quick brown fox jumps over the lazy dog.'\n",
    "pattern = r'(\"fox\" \"dog\" \"horse\")'\n",
    "regex_object=re.compile(pattern)\n",
    "match_object=regex_object.findall(string)\n",
    "match_object"
   ]
  },
  {
   "cell_type": "code",
   "execution_count": 295,
   "id": "41176c44",
   "metadata": {},
   "outputs": [
    {
     "data": {
      "text/plain": [
       "['fox']"
      ]
     },
     "execution_count": 295,
     "metadata": {},
     "output_type": "execute_result"
    }
   ],
   "source": [
    "string = 'The quick brown fox jumps over the lazy dog.'\n",
    "pattern = r\"fox\"\n",
    "regex_object=re.compile(pattern)\n",
    "match_object=regex_object.findall(string)\n",
    "match_object"
   ]
  },
  {
   "cell_type": "code",
   "execution_count": 320,
   "id": "382ebe9f",
   "metadata": {},
   "outputs": [
    {
     "data": {
      "text/plain": [
       "-1"
      ]
     },
     "execution_count": 320,
     "metadata": {},
     "output_type": "execute_result"
    }
   ],
   "source": [
    "import pandas as pd\n",
    "string = 'Python exercises, PHP exercises, C# exercises'\n",
    "pattern ='excercises'\n",
    "string_object= str.find(pattern,string)\n",
    "string_object"
   ]
  },
  {
   "cell_type": "code",
   "execution_count": 372,
   "id": "534ff5ec",
   "metadata": {},
   "outputs": [
    {
     "data": {
      "text/plain": [
       "1"
      ]
     },
     "execution_count": 372,
     "metadata": {},
     "output_type": "execute_result"
    }
   ],
   "source": [
    "import pandas as pd\n",
    "string = 'Python exercises, PHP exercises, C# exercises'\n",
    "pattern =r'(^P+ *)'\n",
    "string_object= re.findall(pattern,string)\n",
    "count= len(string_object)\n",
    "count\n",
    "#string_object"
   ]
  },
  {
   "cell_type": "code",
   "execution_count": 375,
   "id": "565bf782",
   "metadata": {},
   "outputs": [
    {
     "data": {
      "text/plain": [
       "'07-08-2023'"
      ]
     },
     "execution_count": 375,
     "metadata": {},
     "output_type": "execute_result"
    }
   ],
   "source": [
    "import pandas as pd\n",
    "from datetime import datetime\n",
    "string ='2023-08-07'\n",
    "pattern = '%Y-%m-%d'\n",
    "replace = '%d-%m-%Y'\n",
    "date_object = datetime.strptime(string,pattern)\n",
    "converted_date_str = date_object.strftime(replace)\n",
    "converted_date_str"
   ]
  },
  {
   "cell_type": "code",
   "execution_count": 379,
   "id": "1a41e1da",
   "metadata": {},
   "outputs": [
    {
     "data": {
      "text/plain": [
       "['20.5', '13.50']"
      ]
     },
     "execution_count": 379,
     "metadata": {},
     "output_type": "execute_result"
    }
   ],
   "source": [
    "string = \"The price is $20.5, and the quantity is 13.50. The discount is 25%.\"\n",
    "pattern = r'\\b\\d+\\.\\d{1,9}\\b'\n",
    "regex_object=re.compile(pattern)\n",
    "match_object=regex_object.findall(string)\n",
    "match_object"
   ]
  },
  {
   "cell_type": "code",
   "execution_count": 395,
   "id": "d8721c2c",
   "metadata": {},
   "outputs": [
    {
     "data": {
      "text/plain": [
       "<re.Match object; span=(0, 6), match='Python'>"
      ]
     },
     "execution_count": 395,
     "metadata": {},
     "output_type": "execute_result"
    }
   ],
   "source": [
    "string = \"Python exercises, PHP exercises, C# exercises. \"\n",
    "\n",
    "match = re.search(\"Python\", string)\n",
    "match"
   ]
  },
  {
   "cell_type": "code",
   "execution_count": 396,
   "id": "aa29c8c1",
   "metadata": {},
   "outputs": [
    {
     "data": {
      "text/plain": [
       "950"
      ]
     },
     "execution_count": 396,
     "metadata": {},
     "output_type": "execute_result"
    }
   ],
   "source": [
    "string = 'My marks in each semester are: 947, 896, 926, 524, 734, 950, 642'\n",
    "\n",
    "numeric_values = re.findall(r'\\d+', string)\n",
    "numeric_values = list(map(int, numeric_values))\n",
    "max_value = max(numeric_values)\n",
    "max_value"
   ]
  },
  {
   "cell_type": "code",
   "execution_count": 398,
   "id": "07fe31c5",
   "metadata": {},
   "outputs": [
    {
     "data": {
      "text/plain": [
       "'Regular Expression Is An Important Topic In Python'"
      ]
     },
     "execution_count": 398,
     "metadata": {},
     "output_type": "execute_result"
    }
   ],
   "source": [
    "string=\"RegularExpressionIsAnImportantTopicInPython\"\n",
    "pattern =r'(?<=[a-z])([A-Z])'\n",
    "replace = r' \\1'\n",
    "match_object=re.sub(pattern,replace,string)\n",
    "match_object"
   ]
  },
  {
   "cell_type": "code",
   "execution_count": 399,
   "id": "c7f0847c",
   "metadata": {},
   "outputs": [
    {
     "data": {
      "text/plain": [
       "['Regular', 'Expression', 'Is', 'An', 'Important', 'Topic', 'In', 'Python']"
      ]
     },
     "execution_count": 399,
     "metadata": {},
     "output_type": "execute_result"
    }
   ],
   "source": [
    "string=\"RegularExpressionIsAnImportantTopicInPython\"\n",
    "pattern = r'[A-Z][a-z]+'\n",
    "match_object=re.findall(pattern,string)\n",
    "match_object"
   ]
  },
  {
   "cell_type": "code",
   "execution_count": 406,
   "id": "3e368c94",
   "metadata": {},
   "outputs": [
    {
     "data": {
      "text/plain": [
       "'Hello hello world'"
      ]
     },
     "execution_count": 406,
     "metadata": {},
     "output_type": "execute_result"
    }
   ],
   "source": [
    "string= \"Hello hello world world\"\n",
    "pattern = r'\\b(\\w+)\\s+\\1\\b'\n",
    "replace = r'\\1'\n",
    "match_object=re.sub(pattern,replace,string)\n",
    "match_object"
   ]
  },
  {
   "cell_type": "code",
   "execution_count": 416,
   "id": "14b1dc6f",
   "metadata": {},
   "outputs": [
    {
     "data": {
      "text/plain": [
       "<re.Match object; span=(0, 8), match='Hello123'>"
      ]
     },
     "execution_count": 416,
     "metadata": {},
     "output_type": "execute_result"
    }
   ],
   "source": [
    "string = \"Hello123\"\n",
    "pattern = r'^.*[a-zA-Z0-9]$'\n",
    "match = re.match(pattern, string)\n",
    "match"
   ]
  },
  {
   "cell_type": "code",
   "execution_count": 425,
   "id": "c16cc553",
   "metadata": {},
   "outputs": [
    {
     "ename": "IndentationError",
     "evalue": "unexpected indent (2439837344.py, line 2)",
     "output_type": "error",
     "traceback": [
      "\u001b[1;36m  File \u001b[1;32m\"C:\\Users\\armaa\\AppData\\Local\\Temp\\ipykernel_18708\\2439837344.py\"\u001b[1;36m, line \u001b[1;32m2\u001b[0m\n\u001b[1;33m    pattern  = r'#\\w+'\u001b[0m\n\u001b[1;37m    ^\u001b[0m\n\u001b[1;31mIndentationError\u001b[0m\u001b[1;31m:\u001b[0m unexpected indent\n"
     ]
    }
   ],
   "source": [
    "string = \"\"\"RT @kapil_kausik: #Doltiwal I mean #xyzabc is \"hurt\" by #Demonetization as the same has rendered USELESS <ed><U+00A0><U+00BD><ed><U+00B1><U+0089>\"acquired funds\" No wo\"\"\"\n",
    "    pattern  = r'#\\w+'\n",
    "    hashtags = re.findall(pattern, string)\n",
    "    result = extract_hashtags(string)\n",
    "    hashtags"
   ]
  },
  {
   "cell_type": "code",
   "execution_count": 428,
   "id": "bb08d962",
   "metadata": {},
   "outputs": [
    {
     "ename": "IndentationError",
     "evalue": "unexpected indent (4130610659.py, line 2)",
     "output_type": "error",
     "traceback": [
      "\u001b[1;36m  File \u001b[1;32m\"C:\\Users\\armaa\\AppData\\Local\\Temp\\ipykernel_18708\\4130610659.py\"\u001b[1;36m, line \u001b[1;32m2\u001b[0m\n\u001b[1;33m    pattern = r'<U\\+[a-zA-Z0-9]+>'\u001b[0m\n\u001b[1;37m    ^\u001b[0m\n\u001b[1;31mIndentationError\u001b[0m\u001b[1;31m:\u001b[0m unexpected indent\n"
     ]
    }
   ],
   "source": [
    "string = \"\"\"RT @kapil_kausik: #Doltiwal I mean #xyzabc is \"hurt\" by #Demonetization as the same has rendered USELESS <ed><U+00A0><U+00BD><ed><U+00B1><U+0089>\"acquired funds\" No wo\"\"\"\n",
    "    pattern = r'<U\\+[a-zA-Z0-9]+>'\n",
    "    replace =''\n",
    "    hashtags = re.sub(pattern, replace,string)\n",
    "    hashtags"
   ]
  },
  {
   "cell_type": "code",
   "execution_count": 439,
   "id": "d85b9431",
   "metadata": {},
   "outputs": [
    {
     "name": "stdout",
     "output_type": "stream",
     "text": [
      "['12-09-1992', '15-12-1999']\n"
     ]
    }
   ],
   "source": [
    "with open (\"C:/Users/armaa/OneDrive/Documents/sonikaML/Sample_date.txt\") as file:\n",
    "    text = file.read()\n",
    "    \n",
    "pattern = r'(\\b\\d{2}-\\d{2}-\\d{4}\\b)'\n",
    "dates = re.findall(pattern, text)\n",
    "print(dates)"
   ]
  },
  {
   "cell_type": "code",
   "execution_count": 440,
   "id": "e584fe1d",
   "metadata": {},
   "outputs": [
    {
     "data": {
      "text/plain": [
       "' following example creates  ArrayList  a capacity   elements. 4 elements   added   ArrayList   ArrayList  trimmed accordingly.'"
      ]
     },
     "execution_count": 440,
     "metadata": {},
     "output_type": "execute_result"
    }
   ],
   "source": [
    "string = \"The following example creates an ArrayList with a capacity of 50 elements. 4 elements are then added to the ArrayList and the ArrayList is trimmed accordingly.\"\n",
    "pattern = r'\\b\\w{2,4}\\b'\n",
    "replace =''\n",
    "regex_object=re.compile(pattern)\n",
    "match_object=re.sub(regex_object,replace,string)\n",
    "match_object"
   ]
  },
  {
   "cell_type": "code",
   "execution_count": null,
   "id": "486b51ae",
   "metadata": {},
   "outputs": [],
   "source": []
  }
 ],
 "metadata": {
  "kernelspec": {
   "display_name": "Python 3 (ipykernel)",
   "language": "python",
   "name": "python3"
  },
  "language_info": {
   "codemirror_mode": {
    "name": "ipython",
    "version": 3
   },
   "file_extension": ".py",
   "mimetype": "text/x-python",
   "name": "python",
   "nbconvert_exporter": "python",
   "pygments_lexer": "ipython3",
   "version": "3.9.13"
  }
 },
 "nbformat": 4,
 "nbformat_minor": 5
}
