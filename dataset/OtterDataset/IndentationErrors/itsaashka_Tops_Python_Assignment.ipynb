{
  "nbformat": 4,
  "nbformat_minor": 0,
  "metadata": {
    "colab": {
      "provenance": []
    },
    "kernelspec": {
      "name": "python3",
      "display_name": "Python 3"
    },
    "language_info": {
      "name": "python"
    }
  },
  "cells": [
    {
      "cell_type": "markdown",
      "source": [
        "Python Assignment:\n",
        "\n",
        "Q1 What are the types of Applications?\n",
        "->1.Web Development.\n",
        "  2.Game Development.\n",
        "  3.Machine Learning and Artificial Intelligence.\n",
        "  4.Data Science and Data Visualization.\n",
        "  5.Desktop GUI.\n",
        "  6.Web Scraping Applications.\n",
        "  7.Business Applications.\n",
        "  8.Audio and Video Applications.\n",
        "\n",
        "Q2  What is programing?\n",
        "-> Python is a high-level, general-purpose programming language.\n",
        "   Its design philosophy emphasizes code readability with the use of\n",
        "   significant indentation. Python. Paradigm. Multi-paradigm:\n",
        "   object-oriented, procedural (imperative), functional, structured,\n",
        "   reflective.\n",
        "\n",
        "Q3 What is Python?\n",
        "-> Python is a high-level, general-purpose programming language.\n",
        "   Its design philosophy emphasizes code readability with the use of\n",
        "   significant indentation. Python is dynamically typed and garbage-collected.\n",
        "   It supports multiple programming paradigms, including structured,\n",
        "   object-oriented and functional programming.\n",
        "\n",
        "Q7 How memory is managed in Python?\n",
        "-> You can classify memory management in Python in one of two ways: dynamic\n",
        "  allocation or static allocation. Dynamic allocation occurs as the program is running. This means that as the program operates, it can dynamically determine where to allocate memory while reusing and releasing it.\n",
        "\n",
        "Q8 What is the purpose continuing statement in python?\n",
        "-> The continue statement in Python is used to skip the remaining code inside a\n",
        "   loop for the current iteration only. Pass: The pass statement in Python is used when a statement or a condition is required to be present in the program, but we don't want any command or code to execute.\n",
        "\n",
        "Q17 What are negative indexes and why are they used?\n",
        "-> Negative indexing allows you to access elements of a sequence from the end, using negative numbers as indexes. This can be useful for getting the last few elements of a sequence, reversing a sequence.\n",
        "\n",
        "Q25 What is List? How will you reverse a list?\n",
        "-> A list in Python is a collection of items which can hold a variety of data types. Lists are ordered, mutable (changeable), and allow duplicate elements. Lists are defined by enclosing elements in square brackets ([]), with each element separated by a comma.\n",
        "\n",
        "1.Using the reverse() Method: The reverse() method reverses the elements of the list in place. This means it modifies the original list and does not return a new list. my_list = [1, 2, 3, 4, 5] my_list.reverse() print(my_list) # Output: [5, 4, 3, 2, 1]\n",
        "2.Using Slicing: Slicing can be used to create a new list that is the reverse of the original list. my_list = [1, 2, 3, 4, 5] reversed_list = my_list[::-1] print(reversed_list) # Output: [5, 4, 3, 2, 1]\n",
        "\n",
        "Q26 How will you remove last object from a list?\n",
        "-> 1: Using the pop() method without an index = my_list = [1, 2, 3, 4, 5] last_element= my_list.pop() print(my_list) print(last_element)\n",
        "\n",
        "2: Using slicing =my_list = [1, 2, 3, 4, 5] my_list = my_list[:-1] print(my_list)\n",
        "\n",
        "3: Using the del statement= my_list = [1, 2, 3, 4, 5] del my_list[-1] print(my_list)\n",
        "\n",
        "Q 28 Differentiate between append () and extend () methods?\n",
        "-> 1:append(another_list) adds the entire another_list as a single element to my_list.\n",
        "\n",
        "my_list = [1, 2, 3]\n",
        "\n",
        "another_list = [4, 5, 6]\n",
        "\n",
        "my_list.append(another_list)\n",
        "\n",
        "print(my_list)\n",
        "\n",
        "Output: [1, 2, 3, [4, 5, 6]]\n",
        "\n",
        "2: extend(another_list) adds each element of another_list individually to my_list.\n",
        "\n",
        "my_list = [1, 2, 3]\n",
        "\n",
        "my_list.extend(another_list)\n",
        "\n",
        "print(my_list)\n",
        "\n",
        "Output: [1, 2, 3, 4, 5, 6]\n",
        "\n",
        "\n",
        "Q 43 What is tuple? Difference between list and tuple\n",
        "-> A tuple is an immutable, ordered collection of elements in Python, defined by parentheses (). The main difference between a list and a tuple is that lists are mutable (can be modified) and are defined with square brackets [], while tuples are immutable (cannot be modified) and are defined with parentheses ().\n",
        "\n",
        "List example\n",
        "my_list = [1, 2, 3]\n",
        "\n",
        "my_list[0] = 10\n",
        "\n",
        "print(my_list)\n",
        "\n",
        "Output: [10, 2, 3]\n",
        "\n",
        "my_tuple = (1, 2, 3)\n",
        "my_tuple[0] = 10\n",
        "\n",
        "This will raise a TypeError\n",
        "\n",
        "print(my_tuple)\n",
        "\n",
        "Output: (1, 2, 3)\n",
        "\n",
        "Q51 How Do You Traverse Through a Dictionary Object in Python?\n",
        "->Traversing through a dictionary in Python can be done in various ways depending on what you need to access (keys, values, or key-value pairs). Here are some common methods to traverse through a dictionary:\n",
        "\n",
        "my_dict = {'a': 1, 'b': 2, 'c': 3}\n",
        "\n",
        "for key in my_dict:\n",
        "\n",
        "    print(\"Key:\", key)\n",
        "\n",
        "for value in my_dict.values():\n",
        "\n",
        "    print(\"Value:\", value)\n",
        "\n",
        "for key, value in my_dict.items():\n",
        "\n",
        "    print(\"Key:\", key, \"Value:\", value)    \n",
        "\n",
        "Output:\n",
        "\n",
        "Key: a\n",
        "Key: b\n",
        "Key: c\n",
        "\n",
        "Value: 1\n",
        "Value: 2\n",
        "Value: 3\n",
        "\n",
        "Key: a Value: 1\n",
        "Key: b Value: 2\n",
        "Key: c Value: 3\n",
        "\n",
        "Q65 How Many Basic Types of Functions Are Available in Python?\n",
        "-> In Python, there are two basic types of functions:\n",
        "\n",
        "Built-in Functions:\n",
        "\n",
        "These are functions that are pre-defined in Python and are available out-of-the-box. You don't need to import any modules to use them. Examples include print(), len(), type(), abs(), and sum().\n"
      ],
      "metadata": {
        "id": "w6F1pCDSv9T9"
      }
    },
    {
      "cell_type": "code",
      "execution_count": null,
      "metadata": {
        "colab": {
          "base_uri": "https://localhost:8080/"
        },
        "id": "9if1LbJkv6Lb",
        "outputId": "6535515a-ba60-40e8-c6c0-686dce5c4901"
      },
      "outputs": [
        {
          "output_type": "stream",
          "name": "stdout",
          "text": [
            "Enter a number:7\n",
            "Positive Number\n"
          ]
        }
      ],
      "source": [
        "#Q4  Write a Python program to check if a number is positive, negative or zero\n",
        "\n",
        "num=int(input(\"Enter a number:\"))\n",
        "if num>0:\n",
        "    print(\"Positive Number\")\n",
        "elif num<0:\n",
        "    print(\"Negative Number\")\n",
        "else:\n",
        "    print(\"Zero\")\n"
      ]
    },
    {
      "cell_type": "code",
      "source": [
        "#Q5 Write a Python program to get the Factorial number of given numbers.\n",
        "\n",
        "num=int(input(\"Enter the number\"))\n",
        "fact=1\n",
        "for i in range(1,num+1):\n",
        "    fact=fact*i\n",
        "    print(fact)\n"
      ],
      "metadata": {
        "colab": {
          "base_uri": "https://localhost:8080/"
        },
        "id": "ErjuwtVHygoC",
        "outputId": "1fdec486-dc7a-44bf-c684-13f04b8eed7e"
      },
      "execution_count": null,
      "outputs": [
        {
          "output_type": "stream",
          "name": "stdout",
          "text": [
            "Enter the number4\n",
            "1\n",
            "2\n",
            "6\n",
            "24\n"
          ]
        }
      ]
    },
    {
      "cell_type": "code",
      "source": [
        "#Q6 Write a Python program to get the Fibonacci series of given range.\n",
        "\n",
        "num=int(input(\"Enter the number\"))\n",
        "a=0\n",
        "b=1\n",
        "sum=0\n",
        "count=1\n",
        "print(\"Fibonacci series:\")\n",
        "while(count<=num):\n",
        "    print(sum)\n",
        "    count=count+1\n",
        "    a=b\n",
        "    b=sum\n",
        "    sum=a+b\n"
      ],
      "metadata": {
        "colab": {
          "base_uri": "https://localhost:8080/"
        },
        "id": "5jOs56Vwy672",
        "outputId": "d6936ba0-0bc4-4b86-80bd-b96dacbbd345"
      },
      "execution_count": null,
      "outputs": [
        {
          "output_type": "stream",
          "name": "stdout",
          "text": [
            "Enter the number5\n",
            "Fibonacci series:\n",
            "0\n",
            "1\n",
            "1\n",
            "2\n",
            "3\n"
          ]
        }
      ]
    },
    {
      "cell_type": "code",
      "source": [
        "#Q9  Write python program that swap two number with temp variable and without temp variable\n",
        "\n",
        "i=100\n",
        "j=200\n",
        "temp=i\n",
        "i=j\n",
        "j=temp\n",
        "print(\"i=\",i)\n",
        "print(\"j=\",j)"
      ],
      "metadata": {
        "colab": {
          "base_uri": "https://localhost:8080/"
        },
        "id": "GMGhw5nRzV1y",
        "outputId": "e8a9791d-8aa9-4bbd-96a1-426298e301ef"
      },
      "execution_count": null,
      "outputs": [
        {
          "output_type": "stream",
          "name": "stdout",
          "text": [
            "i= 200\n",
            "j= 100\n"
          ]
        }
      ]
    },
    {
      "cell_type": "code",
      "source": [
        "#Q10 Write a Python program to find whether a given number is even or odd, print out an appropriate message to the user.\n",
        "\n",
        "num=int(input(\"Enter the number\"))\n",
        "if num%2==0:\n",
        "    print(\" Number Is Even\")\n",
        "else:\n",
        "    print(\"Number Is Odd\")"
      ],
      "metadata": {
        "colab": {
          "base_uri": "https://localhost:8080/"
        },
        "id": "bOsdBVt30bY8",
        "outputId": "365008d1-6389-406c-d6d1-5363f9128e59"
      },
      "execution_count": null,
      "outputs": [
        {
          "output_type": "stream",
          "name": "stdout",
          "text": [
            "Enter the number7\n",
            "Number Is Odd\n"
          ]
        }
      ]
    },
    {
      "cell_type": "code",
      "source": [
        "#Q11  Write a Python program to test whether a passed letter is a vowel or not\n",
        "\n",
        "char=input(\"Enter the character\")\n",
        "if char=='a' or char=='e' or char=='i' or char=='o' or char=='u':\n",
        "    print(\"Vowel\")\n",
        "else:\n",
        "    print(\"Consonant\")\n",
        "\n"
      ],
      "metadata": {
        "colab": {
          "base_uri": "https://localhost:8080/"
        },
        "id": "VpmTVT9E00ZJ",
        "outputId": "74f7ac40-7346-46a0-b93c-a3f60531db9d"
      },
      "execution_count": null,
      "outputs": [
        {
          "output_type": "stream",
          "name": "stdout",
          "text": [
            "Enter the charactere\n",
            "Vowel\n"
          ]
        }
      ]
    },
    {
      "cell_type": "code",
      "source": [
        "#Q12 Write a Python program to sum of three given integers. However, if two values are equal sum will be zero.\n",
        "\n",
        "num1=int(input(\"Enter the first number\"))\n",
        "num2=int(input(\"Enter the second number\"))\n",
        "num3=int(input(\"Enter the third number\"))\n",
        "if num1==num2 or num2==num3 or num1==num3:\n",
        "    sum=0\n",
        "    print(\"sum=\",sum)\n",
        "else:\n",
        "    sum=num1+num2+num3\n",
        "    print(\"sum=\",sum)\n"
      ],
      "metadata": {
        "colab": {
          "base_uri": "https://localhost:8080/"
        },
        "id": "gLRl22gV1MXl",
        "outputId": "dd117bae-7073-429f-c250-df2fd592c7fb"
      },
      "execution_count": null,
      "outputs": [
        {
          "output_type": "stream",
          "name": "stdout",
          "text": [
            "Enter the first number1\n",
            "Enter the second number2\n",
            "Enter the third number3\n",
            "sum= 6\n"
          ]
        }
      ]
    },
    {
      "cell_type": "code",
      "source": [
        "#Q13 Write a Python program that will return true if the two given integer values are equal or their sum or difference is 5.\n",
        "\n",
        "num1=int(input(\"Enter the first number\"))\n",
        "num2=int(input(\"Enter the second number\"))\n",
        "if num1==num2 or num1+num2==5 or num1-num2==5:\n",
        "    print(\"True\")\n",
        "else:\n",
        "    print(\"False\")\n",
        "\n",
        "\n",
        "\n"
      ],
      "metadata": {
        "colab": {
          "base_uri": "https://localhost:8080/"
        },
        "id": "yQz0KRrk1tmP",
        "outputId": "ea436eb7-b3aa-4808-989a-a05857c0070a"
      },
      "execution_count": null,
      "outputs": [
        {
          "output_type": "stream",
          "name": "stdout",
          "text": [
            "Enter the first number2\n",
            "Enter the second number3\n",
            "True\n"
          ]
        }
      ]
    },
    {
      "cell_type": "code",
      "source": [
        "#Q14 Write a python program to sum of the first n positive integers\n",
        "\n",
        "num=int(input(\"Enter the number\"))\n",
        "sum=0\n",
        "for i in range(1,num+1):\n",
        "    sum=sum+i\n",
        "    print(sum)"
      ],
      "metadata": {
        "colab": {
          "base_uri": "https://localhost:8080/"
        },
        "id": "e8tSvOn02lMn",
        "outputId": "d655bc43-07b6-410b-a7c9-9b7ac4e770da"
      },
      "execution_count": null,
      "outputs": [
        {
          "output_type": "stream",
          "name": "stdout",
          "text": [
            "Enter the number3\n",
            "1\n",
            "3\n",
            "6\n"
          ]
        }
      ]
    },
    {
      "cell_type": "code",
      "source": [
        "#Q15 Write a Python program to calculate the length of a string.\n",
        "\n",
        "str=input(\"Enter the string\")\n",
        "print(len(str))\n"
      ],
      "metadata": {
        "colab": {
          "base_uri": "https://localhost:8080/"
        },
        "id": "oZI2BDks3iCq",
        "outputId": "9684b6d6-e82b-4cfd-8701-25f74c726b81"
      },
      "execution_count": null,
      "outputs": [
        {
          "output_type": "stream",
          "name": "stdout",
          "text": [
            "Enter the stringAashka\n",
            "6\n"
          ]
        }
      ]
    },
    {
      "cell_type": "code",
      "source": [
        "#Q16 Write a Python program to count the number of characters (character frequency) in a string.\n",
        "\n",
        "str=input(\"Enter the string\")\n",
        "freq={}\n",
        "for i in str:\n",
        "    if i in freq:\n",
        "        freq[i]+=1\n",
        "    else:\n",
        "        freq[i]=1\n",
        "print(freq)"
      ],
      "metadata": {
        "colab": {
          "base_uri": "https://localhost:8080/"
        },
        "id": "y4ZvAsxCaIly",
        "outputId": "8174372d-3000-45c4-eacb-5b7eb2299413"
      },
      "execution_count": null,
      "outputs": [
        {
          "output_type": "stream",
          "name": "stdout",
          "text": [
            "Enter the stringAashka shah\n",
            "{'A': 1, 'a': 3, 's': 2, 'h': 3, 'k': 1, ' ': 1}\n"
          ]
        }
      ]
    },
    {
      "cell_type": "code",
      "source": [
        "# Q18 Write a Python program to count occurrences of a substring in a string.\n",
        "def count_substring(main_string, sub_string):\n",
        "    count = main_string.count(sub_string)\n",
        "    return count\n",
        "\n",
        "# Example usage\n",
        "main_string = input(\"Enter a main string: \")\n",
        "sub_string = input(\"Enter a sub string: \")\n",
        "\n",
        "result = count_substring(main_string, sub_string)\n",
        "print(f\"The substring '{sub_string}' appears {result} times in the main string.\")\n"
      ],
      "metadata": {
        "colab": {
          "base_uri": "https://localhost:8080/"
        },
        "id": "q0gf78-YeKjh",
        "outputId": "804f4ba1-378f-4c27-e2d4-2f3692b4fa99"
      },
      "execution_count": null,
      "outputs": [
        {
          "output_type": "stream",
          "name": "stdout",
          "text": [
            "Enter a main string: aashka shah\n",
            "Enter a sub string: shah\n",
            "The substring 'shah' appears 1 times in the main string.\n"
          ]
        }
      ]
    },
    {
      "cell_type": "code",
      "source": [
        "# Q19 Write a Python program to count the occurrences of each word in a given sentece\n",
        "sentence = input(\"Enter a sentence: \")\n",
        "words = sentence.split()\n",
        "freq = {}\n",
        "\n",
        "for i in words:\n",
        "    i =i.lower()  # Convert the word to lowercase\n",
        "    if i in freq:\n",
        "        freq[i] += 1\n",
        "    else:\n",
        "        freq[i] = 1\n",
        "\n",
        "print(freq)\n"
      ],
      "metadata": {
        "colab": {
          "base_uri": "https://localhost:8080/"
        },
        "id": "OBZ2DYKPeY9j",
        "outputId": "405a0b03-4348-4c9b-a499-88eee78c60fd"
      },
      "execution_count": null,
      "outputs": [
        {
          "output_type": "stream",
          "name": "stdout",
          "text": [
            "Enter a sentence: I am so tired to complete my assignment\n",
            "{'i': 1, 'am': 1, 'so': 1, 'tired': 1, 'to': 1, 'complete': 1, 'my': 1, 'assignment': 1}\n"
          ]
        }
      ]
    },
    {
      "cell_type": "code",
      "source": [
        "# Q20 Write a Python program to get a single string from two given strings, separated by a space and swap the first two characters of each string.\n",
        "def swap(string1,string2):\n",
        "  combine_string=string1[:2]+string2[2:]+\" \"+string2[:2]+string1[2:]\n",
        "  return combine_string\n",
        "\n",
        "string1=input(\"Enter first string: \")\n",
        "string2=input(\"Enter second string: \")\n",
        "print(swap(string1,string2))"
      ],
      "metadata": {
        "colab": {
          "base_uri": "https://localhost:8080/"
        },
        "id": "z9LXlUPRjO2v",
        "outputId": "033b42de-c039-47c7-8762-72ae3ea7d19a"
      },
      "execution_count": null,
      "outputs": [
        {
          "output_type": "stream",
          "name": "stdout",
          "text": [
            "Enter first string: Aashka\n",
            "Enter second string: Shruti\n",
            "Aaruti Shshka\n"
          ]
        }
      ]
    },
    {
      "cell_type": "code",
      "source": [
        "#  Q21 Write a Python program to add 'in' at the end of a given string (length should be at least 3). If the given string already ends with 'ing' then\n",
        "# add 'ly' instead if the string length of the given string is less than 3, leave it unchanged.\n",
        "def add_in(string):\n",
        "  if len(string)<3:\n",
        "    return string\n",
        "  elif string[-3:]==\"ing\":\n",
        "    return string+\"ly\"\n",
        "  else:\n",
        "    return string+\"in\"\n",
        "\n",
        "string=input(\"Enter a string: \")\n",
        "print(add_in(string))"
      ],
      "metadata": {
        "colab": {
          "base_uri": "https://localhost:8080/"
        },
        "id": "YaT50Z84nCn1",
        "outputId": "eeea9c5e-731b-4f51-e2bc-71b278a8e2e4"
      },
      "execution_count": null,
      "outputs": [
        {
          "output_type": "stream",
          "name": "stdout",
          "text": [
            "Enter a string: hate\n",
            "hatein\n"
          ]
        }
      ]
    },
    {
      "cell_type": "code",
      "source": [
        "# Q22 Write a Python function to reverses a string if its length is a multiple of 4.\n",
        "def reverse(string):\n",
        "  if len(string)%4==0:\n",
        "    return string[::-1]\n",
        "  else:\n",
        "    return string\n",
        "string=input(\"Enter a string: \")\n",
        "print(reverse(string))"
      ],
      "metadata": {
        "colab": {
          "base_uri": "https://localhost:8080/"
        },
        "id": "6VCJTMF_nSa0",
        "outputId": "c3973695-2176-42dd-aeb9-e8fbbd956acc"
      },
      "execution_count": null,
      "outputs": [
        {
          "output_type": "stream",
          "name": "stdout",
          "text": [
            "Enter a string: Abhi\n",
            "ihbA\n"
          ]
        }
      ]
    },
    {
      "cell_type": "code",
      "source": [
        "# Q23 Write a Python program to get a string made of the first 2 and the last 2 chars from a given a string. If the string length is less than 2, return\n",
        "# instead of the empty string.\n",
        "def frist_last(string):\n",
        "  if len(string)<2:\n",
        "    return \"\"\n",
        "  else:\n",
        "    return string[:2]+string[-2:]\n",
        "\n",
        "string=input(\"Enter a string: \")\n",
        "print(frist_last(string))"
      ],
      "metadata": {
        "colab": {
          "base_uri": "https://localhost:8080/"
        },
        "id": "YfFMesqpoiQl",
        "outputId": "f95ae7c2-60ee-42c4-9896-39d5eed21844"
      },
      "execution_count": null,
      "outputs": [
        {
          "output_type": "stream",
          "name": "stdout",
          "text": [
            "Enter a string: hey\n",
            "heey\n"
          ]
        }
      ]
    },
    {
      "cell_type": "code",
      "source": [
        "# Q24 Write a Python function to insert a string in the middle of a string.\n",
        "string1 = input(\"Enter a string: \")\n",
        "string2 = input(\"Enter a string to insert: \")\n",
        "index = int(input(\"Enter the index to insert the string: \"))\n",
        "new_string=string1[:index]+string2+string1[index:]\n",
        "print(new_string)"
      ],
      "metadata": {
        "colab": {
          "base_uri": "https://localhost:8080/"
        },
        "id": "K_Q8FRjiouDa",
        "outputId": "70cd4d1a-3652-4ffe-8b52-e828b1eef7c6"
      },
      "execution_count": null,
      "outputs": [
        {
          "output_type": "stream",
          "name": "stdout",
          "text": [
            "Enter a string: Ashka\n",
            "Enter a string to insert: a\n",
            "Enter the index to insert the string: 1\n",
            "Aashka\n"
          ]
        }
      ]
    },
    {
      "cell_type": "code",
      "source": [
        "# Q27 Suppose list1 is [2, 33, 222, 14, and 25], what is list1 [-1]?\n",
        "list1=[2,33,222,14,25]\n",
        "print(list1[-1])"
      ],
      "metadata": {
        "colab": {
          "base_uri": "https://localhost:8080/"
        },
        "id": "t_WVXPaRqs-6",
        "outputId": "a07d0d83-465f-4fe0-8b03-ddd47c9d3788"
      },
      "execution_count": null,
      "outputs": [
        {
          "output_type": "stream",
          "name": "stdout",
          "text": [
            "25\n"
          ]
        }
      ]
    },
    {
      "cell_type": "code",
      "source": [
        "# Q29 Write a Python function to get the largest number, smallest num and sum of all from a list.\n",
        "def large_small_sum(list):\n",
        "  largest=max(list)\n",
        "  smallest=min(list)\n",
        "  sum=0\n",
        "  for i in list:\n",
        "    sum+=i\n",
        "  print(\"Largest number:\",largest)\n",
        "  print(\"Smallest number:\",smallest)\n",
        "  print(\"Sum of all numbers:\",sum)\n",
        "\n",
        "list=[45,20,90,10]\n",
        "large_small_sum(list)"
      ],
      "metadata": {
        "colab": {
          "base_uri": "https://localhost:8080/"
        },
        "id": "MsHch_DPrUPb",
        "outputId": "95c640ce-f8dc-414d-e84a-94dfb9f4e0a9"
      },
      "execution_count": null,
      "outputs": [
        {
          "output_type": "stream",
          "name": "stdout",
          "text": [
            "Largest number: 90\n",
            "Smallest number: 10\n",
            "Sum of all numbers: 165\n"
          ]
        }
      ]
    },
    {
      "cell_type": "code",
      "source": [
        "# Q30 How will you compare two lists?\n",
        "list1=input(\"Enter first list: \")\n",
        "list2=input(\"Enter second list: \")\n",
        "if list1==list2:\n",
        "  print(\"Equal\")\n",
        "else:\n",
        "  print(\"Not equal\")"
      ],
      "metadata": {
        "colab": {
          "base_uri": "https://localhost:8080/"
        },
        "id": "gHha2zNmr3DK",
        "outputId": "9648a979-6cf3-4571-b946-621f883b2dc4"
      },
      "execution_count": null,
      "outputs": [
        {
          "output_type": "stream",
          "name": "stdout",
          "text": [
            "Enter first list: 1,2,2,4,5,\n",
            "Enter second list: 1,3,5,7,\n",
            "Not equal\n"
          ]
        }
      ]
    },
    {
      "cell_type": "code",
      "source": [
        "# Q31 Write a Python program to count the number of strings where the string length is 2 or more and the first and last character are same from a given list of strings.\n",
        "def count_special_strings(strings):\n",
        "    count = 0\n",
        "    for s in strings:\n",
        "        if len(s) >= 2 and s[0] == s[-1]:\n",
        "            count += 1\n",
        "    return count\n",
        "\n",
        "# Example usage\n",
        "string_list = [\"abc\", \"xyz\", \"aba\", \"1221\", \"a\"]\n",
        "result = count_special_strings(string_list)\n",
        "print(f\"Number of special strings: {result}\")\n"
      ],
      "metadata": {
        "colab": {
          "base_uri": "https://localhost:8080/"
        },
        "id": "gUHsO0v8sB-u",
        "outputId": "1578087f-b13d-43e2-ebbb-a660b2e3e681"
      },
      "execution_count": null,
      "outputs": [
        {
          "output_type": "stream",
          "name": "stdout",
          "text": [
            "Number of special strings: 2\n"
          ]
        }
      ]
    },
    {
      "cell_type": "code",
      "source": [
        "# Q32 Write a Python program to remove duplicates from a list.\n",
        "\n",
        "# list=[1,2,3,4,5,1,2,3,4,5]\n",
        "# new_list=[]\n",
        "# for i in list:\n",
        "#   if i not in new_list:\n",
        "#     new_list.append(i)\n",
        "# print(new_list)\n",
        "\n",
        "def remove_duplicates(lst):\n",
        "  return list(set(lst))\n",
        "\n",
        "my_list=[1,2,3,4,5,1,2,3,4,5]\n",
        "print(remove_duplicates(my_list))"
      ],
      "metadata": {
        "colab": {
          "base_uri": "https://localhost:8080/",
          "height": 297
        },
        "id": "CFU_97U2sqSm",
        "outputId": "58713461-c22f-415d-9b42-134457e3c56a"
      },
      "execution_count": null,
      "outputs": [
        {
          "output_type": "error",
          "ename": "TypeError",
          "evalue": "'list' object is not callable",
          "traceback": [
            "\u001b[0;31m---------------------------------------------------------------------------\u001b[0m",
            "\u001b[0;31mTypeError\u001b[0m                                 Traceback (most recent call last)",
            "\u001b[0;32m<ipython-input-22-5cc2bdbe289d>\u001b[0m in \u001b[0;36m<cell line: 14>\u001b[0;34m()\u001b[0m\n\u001b[1;32m     12\u001b[0m \u001b[0;34m\u001b[0m\u001b[0m\n\u001b[1;32m     13\u001b[0m \u001b[0mmy_list\u001b[0m\u001b[0;34m=\u001b[0m\u001b[0;34m[\u001b[0m\u001b[0;36m1\u001b[0m\u001b[0;34m,\u001b[0m\u001b[0;36m2\u001b[0m\u001b[0;34m,\u001b[0m\u001b[0;36m3\u001b[0m\u001b[0;34m,\u001b[0m\u001b[0;36m4\u001b[0m\u001b[0;34m,\u001b[0m\u001b[0;36m5\u001b[0m\u001b[0;34m,\u001b[0m\u001b[0;36m1\u001b[0m\u001b[0;34m,\u001b[0m\u001b[0;36m2\u001b[0m\u001b[0;34m,\u001b[0m\u001b[0;36m3\u001b[0m\u001b[0;34m,\u001b[0m\u001b[0;36m4\u001b[0m\u001b[0;34m,\u001b[0m\u001b[0;36m5\u001b[0m\u001b[0;34m]\u001b[0m\u001b[0;34m\u001b[0m\u001b[0;34m\u001b[0m\u001b[0m\n\u001b[0;32m---> 14\u001b[0;31m \u001b[0mprint\u001b[0m\u001b[0;34m(\u001b[0m\u001b[0mremove_duplicates\u001b[0m\u001b[0;34m(\u001b[0m\u001b[0mmy_list\u001b[0m\u001b[0;34m)\u001b[0m\u001b[0;34m)\u001b[0m\u001b[0;34m\u001b[0m\u001b[0;34m\u001b[0m\u001b[0m\n\u001b[0m",
            "\u001b[0;32m<ipython-input-22-5cc2bdbe289d>\u001b[0m in \u001b[0;36mremove_duplicates\u001b[0;34m(lst)\u001b[0m\n\u001b[1;32m      9\u001b[0m \u001b[0;34m\u001b[0m\u001b[0m\n\u001b[1;32m     10\u001b[0m \u001b[0;32mdef\u001b[0m \u001b[0mremove_duplicates\u001b[0m\u001b[0;34m(\u001b[0m\u001b[0mlst\u001b[0m\u001b[0;34m)\u001b[0m\u001b[0;34m:\u001b[0m\u001b[0;34m\u001b[0m\u001b[0;34m\u001b[0m\u001b[0m\n\u001b[0;32m---> 11\u001b[0;31m   \u001b[0;32mreturn\u001b[0m \u001b[0mlist\u001b[0m\u001b[0;34m(\u001b[0m\u001b[0mset\u001b[0m\u001b[0;34m(\u001b[0m\u001b[0mlst\u001b[0m\u001b[0;34m)\u001b[0m\u001b[0;34m)\u001b[0m\u001b[0;34m\u001b[0m\u001b[0;34m\u001b[0m\u001b[0m\n\u001b[0m\u001b[1;32m     12\u001b[0m \u001b[0;34m\u001b[0m\u001b[0m\n\u001b[1;32m     13\u001b[0m \u001b[0mmy_list\u001b[0m\u001b[0;34m=\u001b[0m\u001b[0;34m[\u001b[0m\u001b[0;36m1\u001b[0m\u001b[0;34m,\u001b[0m\u001b[0;36m2\u001b[0m\u001b[0;34m,\u001b[0m\u001b[0;36m3\u001b[0m\u001b[0;34m,\u001b[0m\u001b[0;36m4\u001b[0m\u001b[0;34m,\u001b[0m\u001b[0;36m5\u001b[0m\u001b[0;34m,\u001b[0m\u001b[0;36m1\u001b[0m\u001b[0;34m,\u001b[0m\u001b[0;36m2\u001b[0m\u001b[0;34m,\u001b[0m\u001b[0;36m3\u001b[0m\u001b[0;34m,\u001b[0m\u001b[0;36m4\u001b[0m\u001b[0;34m,\u001b[0m\u001b[0;36m5\u001b[0m\u001b[0;34m]\u001b[0m\u001b[0;34m\u001b[0m\u001b[0;34m\u001b[0m\u001b[0m\n",
            "\u001b[0;31mTypeError\u001b[0m: 'list' object is not callable"
          ]
        }
      ]
    },
    {
      "cell_type": "code",
      "source": [
        "# Q33 Write a Python program to check a list is empty or not.\n",
        "List=[1]\n",
        "if len(List)==0:\n",
        "  print(\"List is empty\")\n",
        "else:\n",
        "  print(\"List is not empty\")"
      ],
      "metadata": {
        "colab": {
          "base_uri": "https://localhost:8080/"
        },
        "id": "KPyi0EIHs4qN",
        "outputId": "5c0b5bce-3b70-4360-825c-a63c236a2f39"
      },
      "execution_count": null,
      "outputs": [
        {
          "output_type": "stream",
          "name": "stdout",
          "text": [
            "List is not empty\n"
          ]
        }
      ]
    },
    {
      "cell_type": "code",
      "source": [
        "# Q34 Write a Python function that takes two lists and returns true if they have at least one common member.\n",
        "def common_member(list1, list2):\n",
        "    for i in list1:\n",
        "        if i in list2:\n",
        "            return True\n",
        "    return False\n",
        "\n",
        "# Example usage\n",
        "result = common_member([1, 2, 3, 4, 5], [5, 6, 7, 8, 9])\n",
        "print(result)\n",
        "\n",
        "result = common_member([1, 2, 3, 4, 5], [6, 7, 8, 9])\n",
        "print(result)\n"
      ],
      "metadata": {
        "colab": {
          "base_uri": "https://localhost:8080/"
        },
        "id": "I6yeSsiss-1I",
        "outputId": "1b476634-2c47-44ca-f550-ee1841734d13"
      },
      "execution_count": null,
      "outputs": [
        {
          "output_type": "stream",
          "name": "stdout",
          "text": [
            "True\n",
            "False\n"
          ]
        }
      ]
    },
    {
      "cell_type": "code",
      "source": [
        "# Q35 Write a Python program to generate and print a list of first and last 5 elements where the values are square of numbers between 1 and 30.\n",
        "list=[]\n",
        "for i in range(1,31):\n",
        "  list.append(i**2)\n",
        "print(list[:5])\n",
        "print(list[-5:])\n",
        "# squares = [i**2 for i in range(1, 31)]\n",
        "# first_five = squares[:5]\n",
        "# last_five = squares[-5:]\n",
        "# print(\"First 5 elements:\", first_five)\n",
        "# print(\"Last 5 elements:\", last_five)\n"
      ],
      "metadata": {
        "colab": {
          "base_uri": "https://localhost:8080/"
        },
        "id": "IAW72O6htFNT",
        "outputId": "08cdcb3d-d44c-409f-fcfc-1e1f427f1430"
      },
      "execution_count": null,
      "outputs": [
        {
          "output_type": "stream",
          "name": "stdout",
          "text": [
            "[1, 4, 9, 16, 25]\n",
            "[676, 729, 784, 841, 900]\n"
          ]
        }
      ]
    },
    {
      "cell_type": "code",
      "source": [
        "# Q36 Write a Python function that takes a list and returns a new list with unique elements of the first list.\n",
        "def get_unique_elements(input_list):\n",
        "unique_elements = list(set(input_list))\n",
        "return unique_elements\n",
        "\n",
        "# Example usage\n",
        "example_list = [1, 2, 2, 3, 4, 4, 5, 6, 6, 7, 8, 9, 9, 10]\n",
        "unique_list = get_unique_elements(example_list)\n",
        "\n",
        "print(\"Original list:\", example_list)\n",
        "print(\"Unique elements list:\", unique_list)\n",
        "\n"
      ],
      "metadata": {
        "colab": {
          "base_uri": "https://localhost:8080/",
          "height": 106
        },
        "id": "snlJhlR1tLiK",
        "outputId": "6b52fcbe-7755-4b2d-fb39-a8f6a48a700f"
      },
      "execution_count": null,
      "outputs": [
        {
          "output_type": "error",
          "ename": "IndentationError",
          "evalue": "expected an indented block after function definition on line 2 (<ipython-input-27-9e70d46d0a72>, line 3)",
          "traceback": [
            "\u001b[0;36m  File \u001b[0;32m\"<ipython-input-27-9e70d46d0a72>\"\u001b[0;36m, line \u001b[0;32m3\u001b[0m\n\u001b[0;31m    unique_elements = list(set(input_list))\u001b[0m\n\u001b[0m    ^\u001b[0m\n\u001b[0;31mIndentationError\u001b[0m\u001b[0;31m:\u001b[0m expected an indented block after function definition on line 2\n"
          ]
        }
      ]
    },
    {
      "cell_type": "code",
      "source": [
        "# Q37 Write a Python program to convert a list of characters into a string.\n",
        "List=['x','y','z',\"Aashka\"]\n",
        "string=\" \"\n",
        "for i in List:\n",
        "  string+=i\n",
        "print(string)"
      ],
      "metadata": {
        "colab": {
          "base_uri": "https://localhost:8080/"
        },
        "id": "XW1Q1rk0tqVp",
        "outputId": "f6f31997-c2f1-461c-9bfa-c802212190f1"
      },
      "execution_count": null,
      "outputs": [
        {
          "output_type": "stream",
          "name": "stdout",
          "text": [
            " xyzAashka\n"
          ]
        }
      ]
    },
    {
      "cell_type": "code",
      "source": [
        "# Q38 Write a Python program to select an item randomly from a list.\n",
        "import random\n",
        "list=[1,2,3,4,5,6,7,8,9,10]\n",
        "print(random.choice(list))"
      ],
      "metadata": {
        "colab": {
          "base_uri": "https://localhost:8080/"
        },
        "id": "CUwmi0n1t3QV",
        "outputId": "d9c77a6c-0681-430f-c7ce-948995875f75"
      },
      "execution_count": null,
      "outputs": [
        {
          "output_type": "stream",
          "name": "stdout",
          "text": [
            "2\n"
          ]
        }
      ]
    },
    {
      "cell_type": "code",
      "source": [
        "# Q39 Write a Python program to find the second smallest number in a list.\n",
        "list=[1,12,3,4,5,6,7,8,9,10]\n",
        "list.sort()\n",
        "print(list[1])"
      ],
      "metadata": {
        "colab": {
          "base_uri": "https://localhost:8080/"
        },
        "id": "ubdDLkuBt9Rf",
        "outputId": "57c3104e-5664-4448-fe81-4ecca49c9d1c"
      },
      "execution_count": null,
      "outputs": [
        {
          "output_type": "stream",
          "name": "stdout",
          "text": [
            "3\n"
          ]
        }
      ]
    },
    {
      "cell_type": "code",
      "source": [
        "# Q40 Write a Python program to get unique values from a list\n",
        "List=[1,2,3,4,5,1,2,3,4,5]\n",
        "new_list=[]\n",
        "for i in List:\n",
        "  if i not in new_list:\n",
        "    new_list.append(i)\n",
        "print(\"My list:\",List)\n",
        "print(\"Unique list:\",new_list)\n",
        "\n",
        "# def get_unique_elements(input_list):\n",
        "#   unique_elements=list(set(input_list))\n",
        "#   return unique_elements\n",
        "\n",
        "# my_list = [1, 2, 2, 3, 4, 4, 5, 6, 6, 7, 8, 9, 9, 10]\n",
        "# unique_list = get_unique_elements(my_list)\n",
        "\n",
        "# print(my_list)\n",
        "# print(unique_list)"
      ],
      "metadata": {
        "id": "Sg41NeRhuDvD",
        "outputId": "158ca43f-cce7-4db2-9486-c2120e5c748f",
        "colab": {
          "base_uri": "https://localhost:8080/"
        }
      },
      "execution_count": null,
      "outputs": [
        {
          "output_type": "stream",
          "name": "stdout",
          "text": [
            "My list: [1, 2, 3, 4, 5, 1, 2, 3, 4, 5]\n",
            "Unique list: [1, 2, 3, 4, 5]\n"
          ]
        }
      ]
    },
    {
      "cell_type": "code",
      "source": [
        "# Q41 Write a Python program to check whether a list contains a sub list.\n",
        "list1=[1,2,3,4,5]\n",
        "list2=[2,3]\n",
        "if list2 in list1:\n",
        "  print(\"True\")\n",
        "else:\n",
        "  print(\"False\")"
      ],
      "metadata": {
        "colab": {
          "base_uri": "https://localhost:8080/"
        },
        "id": "R8DFBwUvj5DY",
        "outputId": "bec995fe-5160-42e7-9271-883f8070bb32"
      },
      "execution_count": null,
      "outputs": [
        {
          "output_type": "stream",
          "name": "stdout",
          "text": [
            "False\n"
          ]
        }
      ]
    },
    {
      "cell_type": "code",
      "source": [
        "# Q42 Write a Python program to split a list into different variables.\n",
        "list=[1,2,3,4,5]\n",
        "a,b,c,d,e=list\n",
        "print(\"a:\",a,\"b:\",b,\"c:\",c,\"d:\",d,\"e:\",e)"
      ],
      "metadata": {
        "colab": {
          "base_uri": "https://localhost:8080/"
        },
        "id": "5whifRWDkJKJ",
        "outputId": "64f1413f-98b1-4c94-f32d-85410870e7a0"
      },
      "execution_count": null,
      "outputs": [
        {
          "output_type": "stream",
          "name": "stdout",
          "text": [
            "a: 1 b: 2 c: 3 d: 4 e: 5\n"
          ]
        }
      ]
    },
    {
      "cell_type": "code",
      "source": [
        "# Q44 Write a Python program to create a tuple with different data types.\n",
        "my_tuple = (1, \"hello\", 3.14, True, [1, 2, 3], {'key': 'value'}, (5, 6))\n",
        "for i in my_tuple:\n",
        "  print(\"Elelment\",i,type(i))"
      ],
      "metadata": {
        "colab": {
          "base_uri": "https://localhost:8080/"
        },
        "id": "Gv1lo0NlkbiU",
        "outputId": "62983428-e597-46e9-d9ec-7781896c4e16"
      },
      "execution_count": null,
      "outputs": [
        {
          "output_type": "stream",
          "name": "stdout",
          "text": [
            "Elelment 1 <class 'int'>\n",
            "Elelment hello <class 'str'>\n",
            "Elelment 3.14 <class 'float'>\n",
            "Elelment True <class 'bool'>\n",
            "Elelment [1, 2, 3] <class 'list'>\n",
            "Elelment {'key': 'value'} <class 'dict'>\n",
            "Elelment (5, 6) <class 'tuple'>\n"
          ]
        }
      ]
    },
    {
      "cell_type": "code",
      "source": [
        "# Q45 Write a Python program to unzip a list of tuples into individual lists.\n",
        "\n",
        "my_list = [(1, 'A'), (2, 'B'), (3, 'C')]\n",
        "keys, values = zip(*my_list)\n",
        "print(\"Keys:\", keys)\n",
        "print(\"Values:\", values)"
      ],
      "metadata": {
        "colab": {
          "base_uri": "https://localhost:8080/"
        },
        "id": "y26kun0pksva",
        "outputId": "3c03924a-e2c2-4032-ac14-9232dd53d80e"
      },
      "execution_count": null,
      "outputs": [
        {
          "output_type": "stream",
          "name": "stdout",
          "text": [
            "Keys: (1, 2, 3)\n",
            "Values: ('A', 'B', 'C')\n"
          ]
        }
      ]
    },
    {
      "cell_type": "code",
      "source": [
        "# Q46 Write a Python program to convert a list of tuples into a dictionary.\n",
        "list_of_tuple = [(1,'a'),(2,'b'),(3,'c'),(4,'d')]\n",
        "new_dict = {}\n",
        "for key,value in list_of_tuple:\n",
        "  new_dict[key] = value\n",
        "print(\"Dictionary\",new_dict)\n",
        "\n",
        "# list_of_typle = [(1,'a'),(2,'b'),(3,'c'),(4,'d')]\n",
        "# dictionary = dict(list_of_typle)\n",
        "# print(dictionary)"
      ],
      "metadata": {
        "colab": {
          "base_uri": "https://localhost:8080/"
        },
        "id": "rW4NSsvnlIG-",
        "outputId": "f0dbc889-b8e3-4677-8ae7-415cf60d490a"
      },
      "execution_count": null,
      "outputs": [
        {
          "output_type": "stream",
          "name": "stdout",
          "text": [
            "Dictionary {1: 'a', 2: 'b', 3: 'c', 4: 'd'}\n"
          ]
        }
      ]
    },
    {
      "cell_type": "code",
      "source": [
        "# Q47 How will you create a dictionary using tuples in python?\n",
        "# Using a list of tuples and dictionary comprehension You can create a dictionary from a list of tuples using dictionary comprehension:\n",
        "list_of_tuple = [(1,'a'),(2,'b'),(3,'c'),(4,'d')]\n",
        "new_dict = {}\n",
        "for key,value in list_of_tuple:\n",
        "  new_dict[key] = value\n",
        "print(\"Dictionary\",new_dict)\n",
        "\n",
        "# Using the dict() constructor\n",
        "list_of_typle = [(1,'a'),(2,'b'),(3,'c'),(4,'d')]\n",
        "dictionary = dict(list_of_typle)\n",
        "print(dictionary)\n",
        "\n"
      ],
      "metadata": {
        "colab": {
          "base_uri": "https://localhost:8080/"
        },
        "id": "dffOPjjqlVxn",
        "outputId": "2870a80b-1a06-4c8e-8f79-ebac9577fce3"
      },
      "execution_count": null,
      "outputs": [
        {
          "output_type": "stream",
          "name": "stdout",
          "text": [
            "Dictionary {1: 'a', 2: 'b', 3: 'c', 4: 'd'}\n",
            "{1: 'a', 2: 'b', 3: 'c', 4: 'd'}\n"
          ]
        }
      ]
    },
    {
      "cell_type": "code",
      "source": [
        "# Q48 Write a Python script to sort (ascending and descending) a dictionary by value.\n",
        "my_dict = {'apple': 10, 'orange': 5, 'banana': 8, 'grapes': 3}\n",
        "sorted_dict = dict(sorted(my_dict.items()))\n",
        "print(\"Dictionary sorted by keys:\", sorted_dict)\n"
      ],
      "metadata": {
        "colab": {
          "base_uri": "https://localhost:8080/"
        },
        "id": "evtmkw78lp4s",
        "outputId": "b8a9aec2-2375-41af-a889-f76b8750129d"
      },
      "execution_count": null,
      "outputs": [
        {
          "output_type": "stream",
          "name": "stdout",
          "text": [
            "Dictionary sorted by keys: {'apple': 10, 'banana': 8, 'grapes': 3, 'orange': 5}\n"
          ]
        }
      ]
    },
    {
      "cell_type": "code",
      "source": [
        "# Q49 Write a Python script to concatenate following dictionaries to createa new one.\n",
        "dic1={1:10, 2:20}\n",
        "dic2={3:30, 4:40}\n",
        "dic3={5:50,6:60}\n",
        "dic4 = {}\n",
        "for i in (dic1, dic2, dic3):\n",
        "    dic4.update(i)\n",
        "print(dic4)\n"
      ],
      "metadata": {
        "colab": {
          "base_uri": "https://localhost:8080/"
        },
        "id": "PWTnG-YZmLQl",
        "outputId": "a658e8c7-08db-4665-822d-eda8fd0d0438"
      },
      "execution_count": null,
      "outputs": [
        {
          "output_type": "stream",
          "name": "stdout",
          "text": [
            "{1: 10, 2: 20, 3: 30, 4: 40, 5: 50, 6: 60}\n"
          ]
        }
      ]
    },
    {
      "cell_type": "code",
      "source": [
        "# Q50 Write a Python script to check if a given key already exists in a dictionary\n",
        "dic = {'a': 1, 'b': 2, 'c': 3,}\n",
        "key = 'f'\n",
        "if key in dic:\n",
        "    print(f\"Key '{key}' exists in the dictionary.\")\n",
        "else:\n",
        "    print(\"Key not exists in dictionary\")"
      ],
      "metadata": {
        "colab": {
          "base_uri": "https://localhost:8080/"
        },
        "id": "F4eYujHZmT5B",
        "outputId": "831ef3f7-6f76-4666-cf89-de8affe4fa5a"
      },
      "execution_count": null,
      "outputs": [
        {
          "output_type": "stream",
          "name": "stdout",
          "text": [
            "Key not exists in dictionary\n"
          ]
        }
      ]
    },
    {
      "cell_type": "code",
      "source": [
        "# Q52 How Do You Check the Presence of a Key in A Dictionary?\n",
        "my_dict = {'a': 1, 'b': 2, 'c': 3}\n",
        "key = 'd'\n",
        "if key in my_dict:\n",
        "    print(f\"Key '{key}' exists in the dictionary.\")\n",
        "else:\n",
        "    print(\"Key not exists in dictionary\")"
      ],
      "metadata": {
        "colab": {
          "base_uri": "https://localhost:8080/"
        },
        "id": "g1jMLyrdmwuw",
        "outputId": "2d9cde6f-8043-4e7a-a58a-4a739b09c3fc"
      },
      "execution_count": null,
      "outputs": [
        {
          "output_type": "stream",
          "name": "stdout",
          "text": [
            "Key not exists in dictionary\n"
          ]
        }
      ]
    },
    {
      "cell_type": "code",
      "source": [
        "# Q53 Write a Python script to print a dictionary where the keys are numbers between 1 and 15.\n",
        "my_dict = {}\n",
        "for i in range(1, 16):\n",
        "    my_dict[i] = i**1\n",
        "print(my_dict)"
      ],
      "metadata": {
        "colab": {
          "base_uri": "https://localhost:8080/"
        },
        "id": "TCpL1TU8njTx",
        "outputId": "325903f4-8142-46c3-be39-3b222702c7c8"
      },
      "execution_count": null,
      "outputs": [
        {
          "output_type": "stream",
          "name": "stdout",
          "text": [
            "{1: 1, 2: 2, 3: 3, 4: 4, 5: 5, 6: 6, 7: 7, 8: 8, 9: 9, 10: 10, 11: 11, 12: 12, 13: 13, 14: 14, 15: 15}\n"
          ]
        }
      ]
    },
    {
      "cell_type": "code",
      "source": [
        "# Q54 Write a Python program to check multiple keys exists in a dictionary.\n",
        "my_dict = {'a':1,'b':2,'c':3}\n",
        "keys = ['a','d']\n",
        "for key in keys:\n",
        "    if key in my_dict:\n",
        "        print(f\"Key '{key}' exists in the dictionary.\")\n",
        "    else:\n",
        "        print(f\"Key '{key}' not exists in dictionary\")"
      ],
      "metadata": {
        "colab": {
          "base_uri": "https://localhost:8080/"
        },
        "id": "0z7gfyIPnsBo",
        "outputId": "0243f8d0-53b9-4def-fbb0-0300005fa991"
      },
      "execution_count": null,
      "outputs": [
        {
          "output_type": "stream",
          "name": "stdout",
          "text": [
            "Key 'a' exists in the dictionary.\n",
            "Key 'd' not exists in dictionary\n"
          ]
        }
      ]
    },
    {
      "cell_type": "code",
      "source": [
        "# Q55 Write a Python script to merge two Python dictionaries\n",
        "def merge_dictionaries(dict1, dict2):\n",
        "  merged_dict = {**dict1, **dict2}\n",
        "  return merged_dict\n",
        "\n",
        "dic1 = {'a':1,'b':2}\n",
        "dic2={'c':3,'d':4}\n",
        "\n",
        "print(\"Merged_Dictionary\",merge_dictionaries(dic1,dic2))"
      ],
      "metadata": {
        "colab": {
          "base_uri": "https://localhost:8080/"
        },
        "id": "--oEbcs0n9PU",
        "outputId": "61f7a473-e981-40f9-d879-5a77129df325"
      },
      "execution_count": null,
      "outputs": [
        {
          "output_type": "stream",
          "name": "stdout",
          "text": [
            "Merged_Dictionary {'a': 1, 'b': 2, 'c': 3, 'd': 4}\n"
          ]
        }
      ]
    },
    {
      "cell_type": "code",
      "source": [
        "# Q56 Write a Python program to map two lists into a dictionary.\n",
        "keys = ['Name','b','c','d']\n",
        "values = ['AASHKA',2,3,4]\n",
        "my_dict = dict(zip(keys,values))\n",
        "print(my_dict)"
      ],
      "metadata": {
        "colab": {
          "base_uri": "https://localhost:8080/"
        },
        "id": "dlSTFv8xoG75",
        "outputId": "ef47304a-0c36-449c-c996-9a45cc4d7922"
      },
      "execution_count": null,
      "outputs": [
        {
          "output_type": "stream",
          "name": "stdout",
          "text": [
            "{'Name': 'AASHKA', 'b': 2, 'c': 3, 'd': 4}\n"
          ]
        }
      ]
    },
    {
      "cell_type": "code",
      "source": [
        "# Q57 Write a Python program to find the highest 3 values in a dictionary.\n",
        "my_dict = {'apple': 10, 'orange': 5, 'banana': 8, 'grapes': 3}\n",
        "sorted_dict = sorted(my_dict.values(),reverse=True)\n",
        "top_three = sorted_dict[:3]\n",
        "print(my_dict)\n",
        "print(top_three)"
      ],
      "metadata": {
        "colab": {
          "base_uri": "https://localhost:8080/"
        },
        "id": "yvUFm6ZnoQQr",
        "outputId": "595dcf31-c832-4151-a436-d85d8e224ce2"
      },
      "execution_count": null,
      "outputs": [
        {
          "output_type": "stream",
          "name": "stdout",
          "text": [
            "{'apple': 10, 'orange': 5, 'banana': 8, 'grapes': 3}\n",
            "[10, 8, 5]\n"
          ]
        }
      ]
    },
    {
      "cell_type": "code",
      "source": [
        "# Q58 Write a Python program to combine values in python list of dictionaries.\n",
        "# Sample data: [{'item': 'item1', 'amount': 400}, {'item': 'item2', 'amount':\n",
        "# 300}, o {'item': 'item1', 'amount': 750}]\n",
        "# Sample data\n",
        "data = [{'item': 'item1', 'amount': 400},\n",
        "        {'item': 'item2', 'amount': 300},\n",
        "        {'item': 'item1', 'amount': 750}]\n",
        "\n",
        "# Initialize an empty dictionary to store combined values\n",
        "combined_dict = {}\n",
        "\n",
        "# Iterate through each dictionary in the list\n",
        "for d in data:\n",
        "    item = d['item']\n",
        "    amount = d['amount']\n",
        "\n",
        "    # If item already exists in combined_dict, add the amount to existing value\n",
        "    if item in combined_dict:\n",
        "        combined_dict[item] += amount\n",
        "    else:\n",
        "        combined_dict[item] = amount\n",
        "\n",
        "# Print the combined dictionary\n",
        "print(\"Combined values:\", combined_dict)\n"
      ],
      "metadata": {
        "id": "6u_uSW7rodOB",
        "outputId": "7004d67b-a7fe-4b40-a761-1af3e783353f",
        "colab": {
          "base_uri": "https://localhost:8080/"
        }
      },
      "execution_count": null,
      "outputs": [
        {
          "output_type": "stream",
          "name": "stdout",
          "text": [
            "Combined values: {'item1': 1150, 'item2': 300}\n"
          ]
        }
      ]
    },
    {
      "cell_type": "code",
      "source": [
        "# Q59 Write a Python program to create a dictionary from a string. Note: Track the count of the letters from the string.\n",
        "string = \"Hello,world\"\n",
        "my_dict = {}\n",
        "for i in string:\n",
        "  if i in my_dict:\n",
        "    my_dict[i]+=1\n",
        "  else:\n",
        "    my_dict[i]=1\n",
        "print(my_dict)"
      ],
      "metadata": {
        "colab": {
          "base_uri": "https://localhost:8080/"
        },
        "id": "jvvcDphhjfTi",
        "outputId": "08618445-35ea-4891-ff27-4dc147a791cc"
      },
      "execution_count": null,
      "outputs": [
        {
          "output_type": "stream",
          "name": "stdout",
          "text": [
            "{'H': 1, 'e': 1, 'l': 3, 'o': 2, ',': 1, 'w': 1, 'r': 1, 'd': 1}\n"
          ]
        }
      ]
    },
    {
      "cell_type": "code",
      "source": [
        "# Q61 Write a Python function to calculate the factorial of a number (anonnegative integer)\n",
        "def factorial(n):\n",
        "    if n < 0:\n",
        "        return \"Factorial is not defined for negative numbers.\"\n",
        "    elif n == 0 or n == 1:\n",
        "        return 1\n",
        "    else:\n",
        "        result = 1\n",
        "        for i in range(2, n + 1):\n",
        "            result *= i\n",
        "        return result\n",
        "\n",
        "# Example usage\n",
        "number = 4\n",
        "print(\"The factorial of\", number, \"is\", factorial(number))\n"
      ],
      "metadata": {
        "colab": {
          "base_uri": "https://localhost:8080/"
        },
        "id": "5Y1qP5aCjubE",
        "outputId": "bf8130a4-f7db-4636-add4-679066326f9a"
      },
      "execution_count": null,
      "outputs": [
        {
          "output_type": "stream",
          "name": "stdout",
          "text": [
            "The factorial of 4 is 24\n"
          ]
        }
      ]
    },
    {
      "cell_type": "code",
      "source": [
        "# Q62 Write a Python function to check whether a number is in a given range\n",
        "def in_range(number,range_start,range_end):\n",
        "  return range_start <= number <= range_end\n",
        "\n",
        "num = 5\n",
        "start = 1\n",
        "end = 10\n",
        "if in_range(num,start,end):\n",
        "  print(f\"{num} is in the range {start}-{end}.\")\n",
        "else:\n",
        "    print(f\"{num} is not in the range {start}-{end}.\")"
      ],
      "metadata": {
        "colab": {
          "base_uri": "https://localhost:8080/"
        },
        "id": "ELJjZwRWj-cA",
        "outputId": "5b9a38d1-3b98-4dce-b143-e00ec77abc1e"
      },
      "execution_count": null,
      "outputs": [
        {
          "output_type": "stream",
          "name": "stdout",
          "text": [
            "5 is in the range 1-10.\n"
          ]
        }
      ]
    },
    {
      "cell_type": "code",
      "source": [
        "# Q63 Write a Python function to check whether a number is perfect or not.\n",
        "def is_perfect(number):\n",
        "  if number < 1:\n",
        "    return False\n",
        "  sum_of_div = 0\n",
        "  for i in range(1,number):\n",
        "    if number % i == 0:\n",
        "      sum_of_div += i\n",
        "  return sum_of_div == number\n",
        "\n",
        "num = 13\n",
        "if is_perfect(num):\n",
        "  print(num,'is perfect number')\n",
        "else:\n",
        "  print(num,'is not perfect number')\n",
        "\n"
      ],
      "metadata": {
        "colab": {
          "base_uri": "https://localhost:8080/"
        },
        "id": "YoXN4S4ckKx-",
        "outputId": "9e9ea863-909b-4297-c98d-afce71712579"
      },
      "execution_count": null,
      "outputs": [
        {
          "output_type": "stream",
          "name": "stdout",
          "text": [
            "13 is not perfect number\n"
          ]
        }
      ]
    },
    {
      "cell_type": "code",
      "source": [
        "# Q64 Write a Python function that checks whether a passed string is palindrome or not\n",
        "def is_palindrome(s):\n",
        "  clean_string = s.replace(\" \",\"\").lower()\n",
        "  return clean_string == clean_string[::-1]\n",
        "\n",
        "string = \"DAD\"\n",
        "if is_palindrome(string):\n",
        "  print(string,'is palindrome')\n",
        "else:\n",
        "  print(string,'is not palindrome')"
      ],
      "metadata": {
        "colab": {
          "base_uri": "https://localhost:8080/"
        },
        "id": "D96AfoeKkwXl",
        "outputId": "0c478658-d21a-4485-bf5d-188e07a2d0ad"
      },
      "execution_count": null,
      "outputs": [
        {
          "output_type": "stream",
          "name": "stdout",
          "text": [
            "DAD is palindrome\n"
          ]
        }
      ]
    },
    {
      "cell_type": "code",
      "source": [
        "# Q66 How can you pick a random item from a list or tuple?\n",
        "import random\n",
        "\n",
        "my_list = [1, 2, 3, 4, 5]\n",
        "random_item_from_list = random.choice(my_list)\n",
        "print(f\"Random item from list: {random_item_from_list}\")\n",
        "\n",
        "my_tuple = ('apple', 'orange', 'banana', 'grape')\n",
        "random_item_from_tuple = random.choice(my_tuple)\n",
        "print(f\"Random item from tuple: {random_item_from_tuple}\")\n"
      ],
      "metadata": {
        "colab": {
          "base_uri": "https://localhost:8080/"
        },
        "id": "Ud-DYMJDk8p4",
        "outputId": "b2857476-fff5-4796-b5c2-1fa57bde8276"
      },
      "execution_count": null,
      "outputs": [
        {
          "output_type": "stream",
          "name": "stdout",
          "text": [
            "Random item from list: 1\n",
            "Random item from tuple: banana\n"
          ]
        }
      ]
    },
    {
      "cell_type": "code",
      "source": [
        "# Q67 How can you pick a random item from a range?\n",
        "import random\n",
        "random_int = random.randint(1, 10)\n",
        "print('random numnber',random_int)\n"
      ],
      "metadata": {
        "colab": {
          "base_uri": "https://localhost:8080/"
        },
        "id": "aX_dXczZnew-",
        "outputId": "4408fea9-6cbe-4757-f8ce-df0551aa49d1"
      },
      "execution_count": null,
      "outputs": [
        {
          "output_type": "stream",
          "name": "stdout",
          "text": [
            "random numnber 2\n"
          ]
        }
      ]
    },
    {
      "cell_type": "code",
      "source": [
        "# Q68 How can you get a random number in python?\n",
        "import random\n",
        "random_int = random.randint(1, 10)\n",
        "print('random numnber',random_int)"
      ],
      "metadata": {
        "colab": {
          "base_uri": "https://localhost:8080/"
        },
        "id": "DkPQVdNZnk-O",
        "outputId": "cde6ab02-330e-4f53-d4cb-b263db715b2d"
      },
      "execution_count": null,
      "outputs": [
        {
          "output_type": "stream",
          "name": "stdout",
          "text": [
            "random numnber 2\n"
          ]
        }
      ]
    },
    {
      "cell_type": "code",
      "source": [
        "# Q69 How will you set the starting value in generating random numbers?\n",
        "import random\n",
        "\n",
        "print(random.random())\n",
        "print(random.randint(1, 10))\n",
        "print(random.uniform(1.5, 10.5))\n"
      ],
      "metadata": {
        "colab": {
          "base_uri": "https://localhost:8080/"
        },
        "id": "TWMze1wynyqg",
        "outputId": "5344b7bf-64f5-4394-9c82-5b3621af9ec0"
      },
      "execution_count": null,
      "outputs": [
        {
          "output_type": "stream",
          "name": "stdout",
          "text": [
            "0.48519435376133824\n",
            "10\n",
            "1.6643819327719382\n"
          ]
        }
      ]
    }
  ]
}