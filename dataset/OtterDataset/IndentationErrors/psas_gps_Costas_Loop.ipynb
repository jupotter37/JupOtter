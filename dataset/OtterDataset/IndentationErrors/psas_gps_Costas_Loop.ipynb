{
 "cells": [
  {
   "cell_type": "markdown",
   "metadata": {
    "deletable": true,
    "editable": true
   },
   "source": [
    "# Costas Loop\n",
    "\n",
    "This PLL is based on [this SDR PLL](http://liquidsdr.org/blog/pll-howto/) coded in C. Once this is working we will expand it to a more complex Costas Loop.\n",
    "\n",
    "## Initialization of variables"
   ]
  },
  {
   "cell_type": "code",
   "execution_count": 1,
   "metadata": {
    "collapsed": true,
    "deletable": true,
    "editable": true
   },
   "outputs": [],
   "source": [
    "import numpy as np\n",
    "import matplotlib.pyplot as plt\n",
    "import string\n",
    "#Store the shift registers as a deque, so that deque.rotate{} can be used.\n",
    "from collections import deque  \n",
    "\n",
    "# Initializations\n",
    "\n",
    "phi_hat = 0.3      # phi_hat is the output phase - I channel\n",
    "phi_hat_Q = phi_hat + np.pi/2    # phi_hat_Q is the output phase - Q channel\n",
    "freq_offset = 0.3\n",
    "delta_phi = 0.0    # delta_phi is the phase difference between the incomming signal and the VCO\n",
    "wn = 0.01          # wn is omega_n, pll bandwidth\n",
    "zeta = 0.707       # Damping factor of the loop\n",
    "K = 1000           # K = loop gain, which I assume can be chosen, but this is a sample value\n",
    "N = 300            # Number of samples\n",
    "\n",
    "# Set tap for a particular satellite\n",
    "tap = (1, 5)\n",
    "\n",
    "# These are just initializing some vectors for plotting\n",
    "ref = np.linspace(0, N, N, dtype=int)\n",
    "\n"
   ]
  },
  {
   "cell_type": "markdown",
   "metadata": {
    "deletable": true,
    "editable": true
   },
   "source": [
    "# GoldCode class"
   ]
  },
  {
   "cell_type": "code",
   "execution_count": 2,
   "metadata": {
    "collapsed": true,
    "deletable": true,
    "editable": true
   },
   "outputs": [],
   "source": [
    "class GoldCode:\n",
    "      \n",
    "    \n",
    "    #Feedback taps as defined in GPS spec\n",
    "    g1tap = [2,9]\n",
    "    g2tap = [1,2,5,7,8,9]\n",
    "\n",
    "    \n",
    "    def __init__(self, taps):\n",
    "        \n",
    "        self.reset()\n",
    "        self.tap = taps\n",
    "        \n",
    "        # Current index of the last returned code\n",
    "        self.index = 0\n",
    "        \n",
    "    # Shift SRs\n",
    "    def _shift(self):\n",
    "        #Shift g1\n",
    "        self.g1[9] = sum([self.g1[i] for i in self.g1tap]) % 2 \n",
    "        self.g1.rotate()\n",
    "\n",
    "        #Shift g2\n",
    "        self.g2[9] = sum([self.g2[i] for i in self.g2tap]) % 2 \n",
    "        self.g2.rotate()\n",
    "        \n",
    "        self.index = (self.index % 1023) + 1\n",
    "        \n",
    "    def reset(self):\n",
    "        # Inititialize SRs as all 1's\n",
    "        self.g1 = deque(1 for i in range(10))\n",
    "        self.g2 = deque(1 for i in range(10))\n",
    "        self.index = 0\n",
    "\n",
    "    def getCode(self, num):\n",
    "        #Returns a list of bits that form the Gold Code PRN of the designated satellite\n",
    "        g = []\n",
    "\n",
    "        for i in range(num):\n",
    "            val = (self.g1[9] + self.g2[tap[0]] + self.g2[tap[1]]) % 2\n",
    "            if val == 0:\n",
    "                val = -1\n",
    "        \n",
    "            g.append(val)\n",
    "            self._shift()\n",
    "\n",
    "        return g"
   ]
  },
  {
   "cell_type": "markdown",
   "metadata": {
    "deletable": true,
    "editable": true
   },
   "source": [
    "## Generate a sine wave to test with\n",
    "\n",
    "This block generates a simple sine wave which is set by the phi and freq_offset parameters. "
   ]
  },
  {
   "cell_type": "code",
   "execution_count": 3,
   "metadata": {
    "collapsed": true,
    "deletable": true,
    "editable": true
   },
   "outputs": [],
   "source": [
    "phi = 0.0              # Original signal phase\n",
    "def tstSignalGen(ref, phi, freq_offset):\n",
    "    signal = []       # Save the signal_in for plotting\n",
    "    \n",
    "    # Retrieving Gold Code for first multiplication in block diagram on pg 94 of Borre\n",
    "    PRN = GoldCode(tap)\n",
    "    g = PRN.getCode(1023)\n",
    "    \n",
    "    for i in ref:\n",
    "\n",
    "        # Complex input signal\n",
    "        signal_in = np.cos(phi) + 1j*np.sin(phi)\n",
    "        phi += freq_offset\n",
    "\n",
    "        signal.append(signal_in) # Saved for plotting\n",
    "    return signal"
   ]
  },
  {
   "cell_type": "markdown",
   "metadata": {
    "deletable": true,
    "editable": true
   },
   "source": [
    "## Phase lock to input signal\n",
    "\n",
    "This function takes a complex signal, and attempts to lock to it. It is currently only useful for example purposes.\n",
    "\n",
    "The ax, tx, and bx variables are for the loop parameters. Using feedback theory I derived (ok, I stole) an equation in the form \n",
    "\n",
    "$\\frac{b_0 z^{-1} + b_1 z^{-1} + b_2 z^{-1}}{a_0 z^{-1} + a_1 z^{-1} + a_2 z^{-1}}$\n",
    "\n",
    "tx are just other ways of expressing the variables wn, zeta, and K. In standard form ${a_0 z^{-1} = 1}$, but here it was left in variable form and the variable assigned to be 1."
   ]
  },
  {
   "cell_type": "code",
   "execution_count": 4,
   "metadata": {
    "collapsed": false,
    "deletable": true,
    "editable": true
   },
   "outputs": [
    {
     "ename": "IndentationError",
     "evalue": "unexpected indent (<ipython-input-4-a5dd92853fb1>, line 21)",
     "output_type": "error",
     "traceback": [
      "\u001b[0;36m  File \u001b[0;32m\"<ipython-input-4-a5dd92853fb1>\"\u001b[0;36m, line \u001b[0;32m21\u001b[0m\n\u001b[0;31m    vcoI = np.cos(phi_hat) + 1j*np.sin(phi_hat)\u001b[0m\n\u001b[0m    ^\u001b[0m\n\u001b[0;31mIndentationError\u001b[0m\u001b[0;31m:\u001b[0m unexpected indent\n"
     ]
    }
   ],
   "source": [
    "def phaseLock(signal, phi_hat, delta_phi):\n",
    "    # Input should be a complex signal\n",
    "    \n",
    "    \n",
    "    output = []            # Save the signal_out for plotting\n",
    "    \n",
    "    # Clear buffers\n",
    "    v0 = 0.0           \n",
    "    v1 = 0.0           \n",
    "    v2 = 0.0      \n",
    "    \n",
    "    #Set parameters for feedback equation above\n",
    "    a0 = 1.0\n",
    "    a1 = -2.0\n",
    "    a2 = 1.0\n",
    "\n",
    "    t1 = K/(wn*wn)     # tau_1\n",
    "    t2 = 2*zeta/wn     # tau_2for sample in signal:\n",
    "\n",
    "        # Complex oscillator signal - I channel\n",
    "        vcoI = np.cos(phi_hat) + 1j*np.sin(phi_hat)\n",
    "        # Complex oscillator signal - Q channel\n",
    "        vcoQ = np.cos(phi_hat_Q) + 1j*np.sin(phi_hat_Q)\n",
    "\n",
    "        delta_phi = np.angle(sample * np.conj(vcoI))\n",
    "        output.append(vcoI)\n",
    "\n",
    "        # vx varibles are a buffer to store output changes on transfer function variables ax and bx\n",
    "        v2 =  v1\n",
    "        v1 =  v0\n",
    "        v0 =  delta_phi - v1 * a1 - v2 * a2\n",
    "        phi_hat =  v0 * b0 + v1 * b1 + v2* b2\n",
    "    return output\n",
    "\n",
    "\n",
    "    b0 = (4*K/t1) * (1.0+t2/2.0)\n",
    "    b1 = 8*K/t1\n",
    "    b2 = (4*K/t1) * (1.0-t2/2.0)\n",
    "\n",
    "    \n"
   ]
  },
  {
   "cell_type": "code",
   "execution_count": 5,
   "metadata": {
    "collapsed": false,
    "deletable": true,
    "editable": true
   },
   "outputs": [
    {
     "ename": "NameError",
     "evalue": "name 'phaseLock' is not defined",
     "output_type": "error",
     "traceback": [
      "\u001b[0;31m---------------------------------------------------------------------------\u001b[0m",
      "\u001b[0;31mNameError\u001b[0m                                 Traceback (most recent call last)",
      "\u001b[0;32m<ipython-input-5-d7cdddffc733>\u001b[0m in \u001b[0;36m<module>\u001b[0;34m()\u001b[0m\n\u001b[1;32m      1\u001b[0m \u001b[0minputsignal\u001b[0m \u001b[0;34m=\u001b[0m \u001b[0mtstSignalGen\u001b[0m\u001b[0;34m(\u001b[0m\u001b[0mref\u001b[0m\u001b[0;34m,\u001b[0m \u001b[0mphi\u001b[0m\u001b[0;34m,\u001b[0m \u001b[0mfreq_offset\u001b[0m\u001b[0;34m)\u001b[0m\u001b[0;34m\u001b[0m\u001b[0m\n\u001b[0;32m----> 2\u001b[0;31m \u001b[0mlockedsig\u001b[0m \u001b[0;34m=\u001b[0m \u001b[0mphaseLock\u001b[0m\u001b[0;34m(\u001b[0m\u001b[0minputsignal\u001b[0m\u001b[0;34m,\u001b[0m \u001b[0mphi_hat\u001b[0m\u001b[0;34m,\u001b[0m \u001b[0mdelta_phi\u001b[0m\u001b[0;34m)\u001b[0m\u001b[0;34m\u001b[0m\u001b[0m\n\u001b[0m",
      "\u001b[0;31mNameError\u001b[0m: name 'phaseLock' is not defined"
     ]
    }
   ],
   "source": [
    "inputsignal = tstSignalGen(ref, phi, freq_offset)\n",
    "lockedsig = phaseLock(inputsignal, phi_hat, delta_phi)"
   ]
  },
  {
   "cell_type": "markdown",
   "metadata": {
    "deletable": true,
    "editable": true
   },
   "source": [
    "# Plot real & imaginary outputs"
   ]
  },
  {
   "cell_type": "code",
   "execution_count": 6,
   "metadata": {
    "collapsed": false,
    "deletable": true,
    "editable": true
   },
   "outputs": [
    {
     "ename": "NameError",
     "evalue": "name 'lockedsig' is not defined",
     "output_type": "error",
     "traceback": [
      "\u001b[0;31m---------------------------------------------------------------------------\u001b[0m",
      "\u001b[0;31mNameError\u001b[0m                                 Traceback (most recent call last)",
      "\u001b[0;32m<ipython-input-6-210311ad52f9>\u001b[0m in \u001b[0;36m<module>\u001b[0;34m()\u001b[0m\n\u001b[1;32m      2\u001b[0m \u001b[0mplt\u001b[0m\u001b[0;34m.\u001b[0m\u001b[0msubplot\u001b[0m\u001b[0;34m(\u001b[0m\u001b[0;36m2\u001b[0m\u001b[0;34m,\u001b[0m \u001b[0;36m1\u001b[0m\u001b[0;34m,\u001b[0m \u001b[0;36m1\u001b[0m\u001b[0;34m)\u001b[0m\u001b[0;34m\u001b[0m\u001b[0m\n\u001b[1;32m      3\u001b[0m \u001b[0mplt\u001b[0m\u001b[0;34m.\u001b[0m\u001b[0mplot\u001b[0m\u001b[0;34m(\u001b[0m\u001b[0mref\u001b[0m\u001b[0;34m,\u001b[0m \u001b[0mnp\u001b[0m\u001b[0;34m.\u001b[0m\u001b[0mreal\u001b[0m\u001b[0;34m(\u001b[0m\u001b[0minputsignal\u001b[0m\u001b[0;34m)\u001b[0m\u001b[0;34m,\u001b[0m \u001b[0mcolor\u001b[0m \u001b[0;34m=\u001b[0m \u001b[0;34m'lightblue'\u001b[0m\u001b[0;34m)\u001b[0m\u001b[0;34m\u001b[0m\u001b[0m\n\u001b[0;32m----> 4\u001b[0;31m \u001b[0mplt\u001b[0m\u001b[0;34m.\u001b[0m\u001b[0mplot\u001b[0m\u001b[0;34m(\u001b[0m\u001b[0mref\u001b[0m\u001b[0;34m,\u001b[0m \u001b[0mnp\u001b[0m\u001b[0;34m.\u001b[0m\u001b[0mreal\u001b[0m\u001b[0;34m(\u001b[0m\u001b[0mlockedsig\u001b[0m\u001b[0;34m)\u001b[0m\u001b[0;34m,\u001b[0m \u001b[0mcolor\u001b[0m \u001b[0;34m=\u001b[0m \u001b[0;34m'firebrick'\u001b[0m\u001b[0;34m)\u001b[0m\u001b[0;34m\u001b[0m\u001b[0m\n\u001b[0m\u001b[1;32m      5\u001b[0m \u001b[0;34m\u001b[0m\u001b[0m\n\u001b[1;32m      6\u001b[0m \u001b[0;34m\u001b[0m\u001b[0m\n",
      "\u001b[0;31mNameError\u001b[0m: name 'lockedsig' is not defined"
     ]
    }
   ],
   "source": [
    "\n",
    "plt.subplot(2, 1, 1)\n",
    "plt.plot(ref, np.real(inputsignal), color = 'lightblue')\n",
    "plt.plot(ref, np.real(lockedsig), color = 'firebrick')\n",
    "\n",
    "\n",
    "\n",
    "plt.subplot(2, 1, 2)\n",
    "plt.plot(ref, np.imag(lockedsig))\n",
    "plt.xlabel(\"Samples\")\n",
    "\n",
    "#plt.ylabel(\"Amplitude\")\n",
    "plt.show()"
   ]
  },
  {
   "cell_type": "markdown",
   "metadata": {
    "deletable": true,
    "editable": true
   },
   "source": [
    "## 2 signal comparison\n",
    "\n",
    "Tested 2 different signals for direct comparison"
   ]
  },
  {
   "cell_type": "code",
   "execution_count": 7,
   "metadata": {
    "collapsed": false,
    "deletable": true,
    "editable": true
   },
   "outputs": [
    {
     "ename": "NameError",
     "evalue": "name 'phaseLock' is not defined",
     "output_type": "error",
     "traceback": [
      "\u001b[0;31m---------------------------------------------------------------------------\u001b[0m",
      "\u001b[0;31mNameError\u001b[0m                                 Traceback (most recent call last)",
      "\u001b[0;32m<ipython-input-7-05faf6916e4d>\u001b[0m in \u001b[0;36m<module>\u001b[0;34m()\u001b[0m\n\u001b[1;32m      2\u001b[0m \u001b[0min2\u001b[0m \u001b[0;34m=\u001b[0m \u001b[0mtstSignalGen\u001b[0m\u001b[0;34m(\u001b[0m\u001b[0mref\u001b[0m\u001b[0;34m,\u001b[0m \u001b[0;36m0.0\u001b[0m\u001b[0;34m,\u001b[0m \u001b[0;36m0.09\u001b[0m\u001b[0;34m)\u001b[0m\u001b[0;34m\u001b[0m\u001b[0m\n\u001b[1;32m      3\u001b[0m \u001b[0;34m\u001b[0m\u001b[0m\n\u001b[0;32m----> 4\u001b[0;31m \u001b[0mlock1\u001b[0m \u001b[0;34m=\u001b[0m \u001b[0mphaseLock\u001b[0m\u001b[0;34m(\u001b[0m\u001b[0min1\u001b[0m\u001b[0;34m,\u001b[0m \u001b[0mphi_hat\u001b[0m\u001b[0;34m,\u001b[0m \u001b[0mdelta_phi\u001b[0m\u001b[0;34m)\u001b[0m\u001b[0;34m\u001b[0m\u001b[0m\n\u001b[0m\u001b[1;32m      5\u001b[0m \u001b[0mlock2\u001b[0m \u001b[0;34m=\u001b[0m \u001b[0mphaseLock\u001b[0m\u001b[0;34m(\u001b[0m\u001b[0min2\u001b[0m\u001b[0;34m,\u001b[0m \u001b[0mphi_hat\u001b[0m\u001b[0;34m,\u001b[0m \u001b[0mdelta_phi\u001b[0m\u001b[0;34m)\u001b[0m\u001b[0;34m\u001b[0m\u001b[0m\n",
      "\u001b[0;31mNameError\u001b[0m: name 'phaseLock' is not defined"
     ]
    }
   ],
   "source": [
    "in1 = tstSignalGen(ref, 0.0, 0.3)\n",
    "in2 = tstSignalGen(ref, 0.0, 0.09)\n",
    "\n",
    "lock1 = phaseLock(in1, phi_hat, delta_phi)\n",
    "lock2 = phaseLock(in2, phi_hat, delta_phi)"
   ]
  },
  {
   "cell_type": "code",
   "execution_count": 8,
   "metadata": {
    "collapsed": false,
    "deletable": true,
    "editable": true
   },
   "outputs": [
    {
     "ename": "NameError",
     "evalue": "name 'lock1' is not defined",
     "output_type": "error",
     "traceback": [
      "\u001b[0;31m---------------------------------------------------------------------------\u001b[0m",
      "\u001b[0;31mNameError\u001b[0m                                 Traceback (most recent call last)",
      "\u001b[0;32m<ipython-input-8-502caff99bd3>\u001b[0m in \u001b[0;36m<module>\u001b[0;34m()\u001b[0m\n\u001b[1;32m      1\u001b[0m \u001b[0mplt\u001b[0m\u001b[0;34m.\u001b[0m\u001b[0mplot\u001b[0m\u001b[0;34m(\u001b[0m\u001b[0mnp\u001b[0m\u001b[0;34m.\u001b[0m\u001b[0mreal\u001b[0m\u001b[0;34m(\u001b[0m\u001b[0min1\u001b[0m\u001b[0;34m)\u001b[0m\u001b[0;34m)\u001b[0m\u001b[0;34m\u001b[0m\u001b[0m\n\u001b[0;32m----> 2\u001b[0;31m \u001b[0mplt\u001b[0m\u001b[0;34m.\u001b[0m\u001b[0mplot\u001b[0m\u001b[0;34m(\u001b[0m\u001b[0mnp\u001b[0m\u001b[0;34m.\u001b[0m\u001b[0mreal\u001b[0m\u001b[0;34m(\u001b[0m\u001b[0mlock1\u001b[0m\u001b[0;34m)\u001b[0m\u001b[0;34m)\u001b[0m\u001b[0;34m\u001b[0m\u001b[0m\n\u001b[0m\u001b[1;32m      3\u001b[0m \u001b[0mplt\u001b[0m\u001b[0;34m.\u001b[0m\u001b[0mshow\u001b[0m\u001b[0;34m(\u001b[0m\u001b[0;34m)\u001b[0m\u001b[0;34m\u001b[0m\u001b[0m\n\u001b[1;32m      4\u001b[0m \u001b[0mplt\u001b[0m\u001b[0;34m.\u001b[0m\u001b[0mplot\u001b[0m\u001b[0;34m(\u001b[0m\u001b[0mnp\u001b[0m\u001b[0;34m.\u001b[0m\u001b[0mreal\u001b[0m\u001b[0;34m(\u001b[0m\u001b[0min2\u001b[0m\u001b[0;34m)\u001b[0m\u001b[0;34m)\u001b[0m\u001b[0;34m\u001b[0m\u001b[0m\n\u001b[1;32m      5\u001b[0m \u001b[0mplt\u001b[0m\u001b[0;34m.\u001b[0m\u001b[0mplot\u001b[0m\u001b[0;34m(\u001b[0m\u001b[0mref\u001b[0m\u001b[0;34m,\u001b[0m \u001b[0mnp\u001b[0m\u001b[0;34m.\u001b[0m\u001b[0mreal\u001b[0m\u001b[0;34m(\u001b[0m\u001b[0mlock2\u001b[0m\u001b[0;34m)\u001b[0m\u001b[0;34m)\u001b[0m\u001b[0;34m\u001b[0m\u001b[0m\n",
      "\u001b[0;31mNameError\u001b[0m: name 'lock1' is not defined"
     ]
    }
   ],
   "source": [
    "plt.plot(np.real(in1))\n",
    "plt.plot(np.real(lock1))\n",
    "plt.show()\n",
    "plt.plot(np.real(in2))\n",
    "plt.plot(ref, np.real(lock2))\n",
    "plt.show()\n",
    "\n"
   ]
  },
  {
   "cell_type": "code",
   "execution_count": null,
   "metadata": {
    "collapsed": true,
    "deletable": true,
    "editable": true
   },
   "outputs": [],
   "source": []
  }
 ],
 "metadata": {
  "kernelspec": {
   "display_name": "Python 3",
   "language": "python",
   "name": "python3"
  },
  "language_info": {
   "codemirror_mode": {
    "name": "ipython",
    "version": 3
   },
   "file_extension": ".py",
   "mimetype": "text/x-python",
   "name": "python",
   "nbconvert_exporter": "python",
   "pygments_lexer": "ipython3",
   "version": "3.5.2"
  }
 },
 "nbformat": 4,
 "nbformat_minor": 2
}
