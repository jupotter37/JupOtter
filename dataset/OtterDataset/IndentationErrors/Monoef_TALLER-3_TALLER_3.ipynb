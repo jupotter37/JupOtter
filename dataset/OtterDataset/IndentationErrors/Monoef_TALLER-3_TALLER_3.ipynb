{
  "nbformat": 4,
  "nbformat_minor": 0,
  "metadata": {
    "colab": {
      "provenance": [],
      "authorship_tag": "ABX9TyOVz5QaxeM43NytPoDHMHC0",
      "include_colab_link": true
    },
    "kernelspec": {
      "name": "python3",
      "display_name": "Python 3"
    },
    "language_info": {
      "name": "python"
    }
  },
  "cells": [
    {
      "cell_type": "markdown",
      "metadata": {
        "id": "view-in-github",
        "colab_type": "text"
      },
      "source": [
        "<a href=\"https://colab.research.google.com/github/Monoef/TALLER-3/blob/main/TALLER_3.ipynb\" target=\"_parent\"><img src=\"https://colab.research.google.com/assets/colab-badge.svg\" alt=\"Open In Colab\"/></a>"
      ]
    },
    {
      "cell_type": "markdown",
      "source": [
        "TALLER #2\n",
        "NOMBRES:\n",
        "1. ISAAC VILORIA ARGEL - 000523573\n",
        "2. ERICK FLOREZ SALGADO - 000415292"
      ],
      "metadata": {
        "id": "srls85XtDu1y"
      }
    },
    {
      "cell_type": "markdown",
      "source": [
        "Pseudocodigo"
      ],
      "metadata": {
        "id": "K3Z84AVLHEBr"
      }
    },
    {
      "cell_type": "code",
      "source": [
        "## Inicio con la tarifa_base = 600\n",
        "\n",
        "if <= 5:\n",
        " costo_km = distancia * 1500\n",
        "if > 5 y <= 15:\n",
        " Costo_km = (5 * 1500) + ((Distancia - 5)* 1200)\n",
        "\n",
        "Tarifa_km = (5 * 1500) + (10 * 1200) + ((distancia - 15) * 1000)\n",
        "Tarifa_detencion = tiempo_detencion * 400\n",
        "Subtotal = tarif_base + costo_km + tarifa_detencion\n",
        "Recargo_nocturno = Subtotal * 0.20\n",
        "\n",
        "\n",
        "if >= 22 or < 6:\n",
        "  print = total * 1.2"
      ],
      "metadata": {
        "id": "lL0kfLDYHQXk"
      },
      "execution_count": null,
      "outputs": []
    },
    {
      "cell_type": "markdown",
      "source": [
        "ALGORITMO.\n",
        "1. ENTRADA\n",
        "2. Tarifa base $6,000\n",
        "\n",
        "3. Comparamos las distancias recorrida\n",
        "\n",
        "4. Tarifa por tiempo de detencion $400 COP por minuto\n",
        "5. Recargo nocturno si el viaje comienza en caso\n",
        "6. Suma de los costos\n",
        "7. End\n"
      ],
      "metadata": {
        "id": "kQ_R1WCxEOW6"
      }
    },
    {
      "cell_type": "code",
      "source": [
        "def calcular_tarifa_taxi(distancia, tiempo_detencion, hora_inicio):\n",
        "  tarifa_base = 6000\n",
        "\n",
        "# Calcular el costo por kilómetros recorridos\n",
        "if distancia <= 5:\n",
        "  costo_km = distancia * 1500\n",
        "elif distancia <= 15:\n",
        " costo_km = (5 * 1500) + ((distancia - 5) * 1200)\n",
        "else:\n",
        "  costo_km = (5 * 1500) + (10 * 1200) + ((distancia - 15) * 1000)\n",
        "\n",
        "# Calcular el costo por tiempo de detención\n",
        " print = (tiempo_detencion * 400)\n",
        "\n",
        "# Sumar todos los costos\n",
        " print = (tarifa_base + costo_km + costo_detencion)\n",
        "\n",
        " # Verificar si hay recargo nocturno\n",
        " if hora_inicio >= 22 or hora_inicio < 6: total *= 1.2\n",
        "\n",
        "return total\n",
        "\n",
        " # Ejemplo de uso\n",
        " distancia = input 8\n",
        " tiempo_detencion = input 5\n",
        " hora_inicio = input 21\n",
        " total = calcular_tarifa_taxi(distancia, tiempo_detencion, hora_inicio)\n",
        "print(f\"Total a pagar: [total] COP\")\n"
      ],
      "metadata": {
        "colab": {
          "base_uri": "https://localhost:8080/",
          "height": 106
        },
        "collapsed": true,
        "id": "kjpONSBaN3FF",
        "outputId": "93df5144-7d26-4273-a22e-31dcb151c608"
      },
      "execution_count": null,
      "outputs": [
        {
          "output_type": "error",
          "ename": "IndentationError",
          "evalue": "unexpected indent (<ipython-input-19-9d1255c2377b>, line 12)",
          "traceback": [
            "\u001b[0;36m  File \u001b[0;32m\"<ipython-input-19-9d1255c2377b>\"\u001b[0;36m, line \u001b[0;32m12\u001b[0m\n\u001b[0;31m    print = (tiempo_detencion * 400)\u001b[0m\n\u001b[0m    ^\u001b[0m\n\u001b[0;31mIndentationError\u001b[0m\u001b[0;31m:\u001b[0m unexpected indent\n"
          ]
        }
      ]
    },
    {
      "cell_type": "code",
      "source": [],
      "metadata": {
        "id": "wWcsoL1TTFi_"
      },
      "execution_count": null,
      "outputs": []
    }
  ]
}