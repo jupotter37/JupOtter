{
 "cells": [
  {
   "cell_type": "code",
   "execution_count": 4,
   "id": "ad0785cf-151c-4656-a103-1905b7bb1d57",
   "metadata": {},
   "outputs": [
    {
     "name": "stdout",
     "output_type": "stream",
     "text": [
      "apple\n",
      "banana\n",
      "cherry\n"
     ]
    }
   ],
   "source": [
    "fruits=[\"apple\", \"banana\", \"cherry\"]\n",
    "for fruit in fruits:\n",
    "     print(fruit)"
   ]
  },
  {
   "cell_type": "code",
   "execution_count": 40,
   "id": "e05c2b2b-3499-4c45-bc14-b24ca501a6d2",
   "metadata": {},
   "outputs": [
    {
     "name": "stdout",
     "output_type": "stream",
     "text": [
      "madhav\n",
      "gaurav\n",
      "kakul\n",
      "mayank\n"
     ]
    }
   ],
   "source": [
    "#for loop extracting list values\n",
    "names=[\"madhav\",\"gaurav\",\"kakul\",\"mayank\"]\n",
    "for x in names:\n",
    "    print(x)"
   ]
  },
  {
   "cell_type": "code",
   "execution_count": 41,
   "id": "fb434541-5b07-480b-b6d6-258d95fc9aa3",
   "metadata": {},
   "outputs": [
    {
     "name": "stdout",
     "output_type": "stream",
     "text": [
      "0\n",
      "1\n",
      "2\n",
      "3\n",
      "4\n"
     ]
    }
   ],
   "source": [
    "#for loop\n",
    "for i in range(5):\n",
    "    print(i)"
   ]
  },
  {
   "cell_type": "code",
   "execution_count": 42,
   "id": "404ddf8e-db67-43dc-8326-024ccd53b563",
   "metadata": {},
   "outputs": [
    {
     "name": "stdout",
     "output_type": "stream",
     "text": [
      "0\n",
      "1\n",
      "2\n",
      "3\n",
      "4\n",
      "5\n",
      "6\n",
      "7\n",
      "8\n",
      "9\n"
     ]
    }
   ],
   "source": [
    "#for loop\n",
    "for i in range(10):\n",
    "    print(i)"
   ]
  },
  {
   "cell_type": "code",
   "execution_count": 43,
   "id": "c02c42c2-1cfa-4d30-b65d-bc8fa6b09ce7",
   "metadata": {},
   "outputs": [
    {
     "name": "stdout",
     "output_type": "stream",
     "text": [
      "G\n",
      "a\n",
      "u\n",
      "r\n",
      "a\n",
      "v\n"
     ]
    }
   ],
   "source": [
    "#for loop in strings\n",
    "for letter in \"Gaurav\":\n",
    "    print(letter)"
   ]
  },
  {
   "cell_type": "code",
   "execution_count": 44,
   "id": "47bf7b91-bb3f-45db-8c16-064a3f2979e9",
   "metadata": {},
   "outputs": [
    {
     "name": "stdout",
     "output_type": "stream",
     "text": [
      "m\n",
      " \n",
      "a\n",
      " \n",
      "d\n",
      " \n",
      "h\n",
      " \n",
      "a\n",
      " \n",
      "v\n",
      " \n"
     ]
    }
   ],
   "source": [
    "#for loop for strings\n",
    "for letter in \"m a d h a v \":\n",
    "     print(letter)"
   ]
  },
  {
   "cell_type": "code",
   "execution_count": 45,
   "id": "a5db0d18-051f-4d99-a8e8-b7f87ed6e653",
   "metadata": {},
   "outputs": [
    {
     "name": "stdout",
     "output_type": "stream",
     "text": [
      "0\n",
      "1\n",
      "2\n",
      "3\n",
      "4\n",
      "5\n"
     ]
    }
   ],
   "source": [
    "#while loop\n",
    "count=0\n",
    "while count <6:\n",
    "    print(count)\n",
    "    count+=1"
   ]
  },
  {
   "cell_type": "code",
   "execution_count": 3,
   "id": "e18c9a54-9935-4879-9eb2-c54a0309c2e1",
   "metadata": {},
   "outputs": [
    {
     "name": "stdout",
     "output_type": "stream",
     "text": [
      "0\n",
      "0.3\n",
      "0.6\n",
      "0.8999999999999999\n",
      "1.2\n",
      "1.5\n",
      "1.8\n"
     ]
    }
   ],
   "source": [
    "#while loop\n",
    "count=0\n",
    "while count<=2:\n",
    "      print(count)\n",
    "      count+=.3"
   ]
  },
  {
   "cell_type": "code",
   "execution_count": 2,
   "id": "6fe1c47b-655e-46c7-8cd3-32d5e6d5ec72",
   "metadata": {},
   "outputs": [
    {
     "name": "stdout",
     "output_type": "stream",
     "text": [
      "ur string is hello\n",
      "ur string is exit\n"
     ]
    }
   ],
   "source": [
    "inpt=' '\n",
    "while inpt!=\"exit\":\n",
    "    inpt=input(\"enter ur string\")\n",
    "    print(\"ur string is\",inpt)"
   ]
  },
  {
   "cell_type": "code",
   "execution_count": 44,
   "id": "728704f6-82f4-4ca5-a18c-82c992081ec9",
   "metadata": {},
   "outputs": [
    {
     "name": "stdout",
     "output_type": "stream",
     "text": [
      "10\n",
      "23\n",
      "45\n",
      "3\n",
      "2\n",
      "56\n",
      "2\n",
      "13\n"
     ]
    }
   ],
   "source": [
    "list=[10,23,45,3,2,56,2,13]\n",
    "sum=0\n",
    "for i in list:\n",
    "    print(i)\n",
    "    "
   ]
  },
  {
   "cell_type": "code",
   "execution_count": 14,
   "id": "bc7e926d-22ca-4be8-b864-81b659d1c32a",
   "metadata": {},
   "outputs": [
    {
     "ename": "IndentationError",
     "evalue": "unindent does not match any outer indentation level (<string>, line 5)",
     "output_type": "error",
     "traceback": [
      "\u001b[1;36m  File \u001b[1;32m<string>:5\u001b[1;36m\u001b[0m\n\u001b[1;33m    while i<list:\u001b[0m\n\u001b[1;37m                 ^\u001b[0m\n\u001b[1;31mIndentationError\u001b[0m\u001b[1;31m:\u001b[0m unindent does not match any outer indentation level\n"
     ]
    }
   ],
   "source": [
    "list=[10,23,45,3,2,56,2,13]\n",
    "for lists in list:\n",
    "   i=lists\n",
    "   sum=0\n",
    " while i<list:\n",
    "    sum=sum+i\n",
    "    i=i+1\n",
    "   print(sum)\n"
   ]
  },
  {
   "cell_type": "code",
   "execution_count": 4,
   "id": "f75559ea",
   "metadata": {},
   "outputs": [
    {
     "name": "stdout",
     "output_type": "stream",
     "text": [
      "0\n",
      "2\n",
      "4\n",
      "6\n",
      "8\n",
      "10\n"
     ]
    }
   ],
   "source": [
    "i=0\n",
    "while i<=10:\n",
    "   print(i)\n",
    "   i=i+2"
   ]
  },
  {
   "cell_type": "code",
   "execution_count": 8,
   "id": "4f36c021",
   "metadata": {},
   "outputs": [
    {
     "name": "stdout",
     "output_type": "stream",
     "text": [
      "1\n",
      "3\n",
      "5\n",
      "7\n",
      "9\n"
     ]
    }
   ],
   "source": [
    "i=1\n",
    "while i<=10:\n",
    "   print(i)\n",
    "   i=i+2\n",
    "   "
   ]
  },
  {
   "cell_type": "code",
   "execution_count": 2,
   "id": "3b83e339",
   "metadata": {},
   "outputs": [
    {
     "name": "stdout",
     "output_type": "stream",
     "text": [
      "1\n",
      "2\n",
      "3\n",
      "4\n",
      "5\n",
      "6\n",
      "7\n",
      "8\n",
      "9\n"
     ]
    }
   ],
   "source": [
    "i=1\n",
    "while i<10:\n",
    "     print(i)\n",
    "     i=i+1"
   ]
  },
  {
   "cell_type": "code",
   "execution_count": 21,
   "id": "cecd0ef7",
   "metadata": {},
   "outputs": [
    {
     "name": "stdout",
     "output_type": "stream",
     "text": [
      "1\n"
     ]
    }
   ],
   "source": [
    "N=int(input(\"no.\"))\n",
    "i=1\n",
    "sum=0\n",
    "while i<N:\n",
    "     sum=sum+i\n",
    "     i=i+1\n",
    "print(sum)"
   ]
  },
  {
   "cell_type": "code",
   "execution_count": 22,
   "id": "64b15f55",
   "metadata": {},
   "outputs": [
    {
     "name": "stdout",
     "output_type": "stream",
     "text": [
      "12\n"
     ]
    }
   ],
   "source": [
    "N=int(input(\"no.\"))\n",
    "i=1\n",
    "sum=0\n",
    "while i<N*N:\n",
    "     sum=sum*sum+i\n",
    "     i=i+1\n",
    "print(sum)"
   ]
  },
  {
   "cell_type": "code",
   "execution_count": 7,
   "id": "6a702e24",
   "metadata": {},
   "outputs": [
    {
     "name": "stdout",
     "output_type": "stream",
     "text": [
      "0\n",
      "1\n",
      "2\n",
      "3\n",
      "4\n"
     ]
    }
   ],
   "source": [
    "count=0\n",
    "while count<5:\n",
    "    print(count)\n",
    "    count+=1\n"
   ]
  },
  {
   "cell_type": "code",
   "execution_count": 16,
   "id": "76b04515",
   "metadata": {},
   "outputs": [
    {
     "name": "stdout",
     "output_type": "stream",
     "text": [
      "1\n",
      "3\n",
      "5\n",
      "7\n",
      "9\n",
      "11\n",
      "13\n",
      "15\n"
     ]
    }
   ],
   "source": [
    "#printing odd numbers b/w 1to15number=1\n",
    "while number<16:\n",
    "    print(number)\n",
    "    number+=2\n"
   ]
  },
  {
   "cell_type": "code",
   "execution_count": 18,
   "id": "ab118082",
   "metadata": {},
   "outputs": [
    {
     "name": "stdout",
     "output_type": "stream",
     "text": [
      "1\n",
      "3\n",
      "5\n",
      "7\n",
      "9\n",
      "11\n",
      "13\n"
     ]
    }
   ],
   "source": [
    "#printing odd numbers b/w 1to15\n",
    "for i in range(1,15,2):\n",
    "    print(i)"
   ]
  },
  {
   "cell_type": "code",
   "execution_count": 20,
   "id": "4b01eb88",
   "metadata": {},
   "outputs": [
    {
     "name": "stdout",
     "output_type": "stream",
     "text": [
      "0\n",
      "2\n",
      "4\n",
      "6\n",
      "8\n",
      "10\n",
      "12\n",
      "14\n"
     ]
    }
   ],
   "source": [
    "#for printing even numbers b/w 1 to 15\n",
    "for i in range(0,15,2):\n",
    "    print(i)"
   ]
  },
  {
   "cell_type": "code",
   "execution_count": 21,
   "id": "e79175fc",
   "metadata": {},
   "outputs": [],
   "source": [
    "#printing sum for odd\n"
   ]
  },
  {
   "cell_type": "code",
   "execution_count": 30,
   "id": "7dd0827b",
   "metadata": {},
   "outputs": [
    {
     "name": "stdout",
     "output_type": "stream",
     "text": [
      "e\n",
      "o\n",
      "no. of vowels 2\n"
     ]
    }
   ],
   "source": [
    "#printing no. of vowels and vowels preset in string\n",
    "a=[\"a\",\"e\",\"i\",\"o\",\"u\"]\n",
    "b=input(\"Enter ur strings\")\n",
    "z=0\n",
    "for i in b:\n",
    "    if i in a:\n",
    "        print(i)\n",
    "        z+=1\n",
    "print(\"no. of vowels\",z)"
   ]
  },
  {
   "cell_type": "code",
   "execution_count": 55,
   "id": "2555da21",
   "metadata": {},
   "outputs": [
    {
     "name": "stdout",
     "output_type": "stream",
     "text": [
      "0\n",
      "15\n",
      "30\n",
      "45\n"
     ]
    }
   ],
   "source": [
    "#print numbers divisible by 3 to 5 b/w 1 to 50\n",
    "for i in range(51):\n",
    "    if i%3==0 and i%5==0:\n",
    "        print(i)\n",
    " "
   ]
  },
  {
   "cell_type": "code",
   "execution_count": 67,
   "id": "35c420aa",
   "metadata": {},
   "outputs": [
    {
     "name": "stdout",
     "output_type": "stream",
     "text": [
      "2346\n"
     ]
    }
   ],
   "source": [
    "#find largest no. in the list\n",
    "list=[2,23,45,2345,1233,23]\n",
    "for i in list:\n",
    "     y=list.sort()\n",
    "     i+=1\n",
    "print(i)"
   ]
  },
  {
   "cell_type": "code",
   "execution_count": null,
   "id": "6609b217",
   "metadata": {},
   "outputs": [],
   "source": []
  }
 ],
 "metadata": {
  "kernelspec": {
   "display_name": "Python 3",
   "language": "python",
   "name": "python3"
  },
  "language_info": {
   "codemirror_mode": {
    "name": "ipython",
    "version": 3
   },
   "file_extension": ".py",
   "mimetype": "text/x-python",
   "name": "python",
   "nbconvert_exporter": "python",
   "pygments_lexer": "ipython3",
   "version": "3.12.1"
  }
 },
 "nbformat": 4,
 "nbformat_minor": 5
}
