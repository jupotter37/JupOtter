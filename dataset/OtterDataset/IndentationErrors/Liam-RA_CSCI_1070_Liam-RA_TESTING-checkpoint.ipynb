{
 "cells": [
  {
   "cell_type": "code",
   "execution_count": 3,
   "id": "851c3667-f62b-4408-a739-d0ffb98f7555",
   "metadata": {},
   "outputs": [],
   "source": [
    "def double_function(a):\n",
    "    a = int(input())\n",
    "\n",
    "    a*2"
   ]
  },
  {
   "cell_type": "code",
   "execution_count": 4,
   "id": "0daead9c-983c-4c43-b8d2-371b0b0d54db",
   "metadata": {},
   "outputs": [
    {
     "name": "stdin",
     "output_type": "stream",
     "text": [
      " 2\n"
     ]
    },
    {
     "data": {
      "text/plain": [
       "4"
      ]
     },
     "execution_count": 4,
     "metadata": {},
     "output_type": "execute_result"
    }
   ],
   "source": [
    "a = int(input())\n",
    "\n",
    "a*2"
   ]
  },
  {
   "cell_type": "code",
   "execution_count": 5,
   "id": "a405e8a5-afe2-43cc-9b03-15e9f228e86b",
   "metadata": {},
   "outputs": [],
   "source": [
    "def double_function(a):\n",
    "    a = int(input())\n",
    "\n",
    "    a*2"
   ]
  },
  {
   "cell_type": "code",
   "execution_count": 17,
   "id": "56856caf-c72f-45ad-a70a-200713c4ef07",
   "metadata": {},
   "outputs": [
    {
     "name": "stdout",
     "output_type": "stream",
     "text": [
      "bad\n"
     ]
    }
   ],
   "source": [
    "some_list = ()\n",
    "\n",
    "if some_list:\n",
    "    print('good')\n",
    "else:\n",
    "    print('bad')"
   ]
  },
  {
   "cell_type": "code",
   "execution_count": 27,
   "id": "83ab28cc-205c-4bbb-b590-b60ec46fa702",
   "metadata": {},
   "outputs": [
    {
     "name": "stdout",
     "output_type": "stream",
     "text": [
      "84\n",
      "749\n",
      "203\n",
      "84\n",
      "574\n",
      "168\n"
     ]
    }
   ],
   "source": [
    "import random\n",
    "integers_list = [random.randint(0,1000) for i in range(50)]\n",
    "\n",
    "for i in integers_list:\n",
    "    if i % 7 == 0:\n",
    "        print(i)"
   ]
  },
  {
   "cell_type": "code",
   "execution_count": 22,
   "id": "7c8010c7-0406-48a6-a217-fd8bf2f93c09",
   "metadata": {},
   "outputs": [
    {
     "name": "stdout",
     "output_type": "stream",
     "text": [
      "Help on method randint in module random:\n",
      "\n",
      "randint(a, b) method of random.Random instance\n",
      "    Return random integer in range [a, b], including both end points.\n",
      "\n"
     ]
    }
   ],
   "source": [
    "help(random.randint)"
   ]
  },
  {
   "cell_type": "code",
   "execution_count": 2,
   "id": "5850f880-719a-4a0f-9bd1-c1d7b25e5779",
   "metadata": {},
   "outputs": [
    {
     "name": "stdout",
     "output_type": "stream",
     "text": [
      "bar\n"
     ]
    }
   ],
   "source": [
    "foo = 'bar'\n",
    "\n",
    "print(foo)"
   ]
  },
  {
   "cell_type": "code",
   "execution_count": 10,
   "id": "92715094-3b79-4be7-9846-972646fff039",
   "metadata": {},
   "outputs": [
    {
     "name": "stdout",
     "output_type": "stream",
     "text": [
      "name1 = 314-977-4000, name2 = 314-977-3000\n"
     ]
    }
   ],
   "source": [
    "contact_book = 'name1 = {0}, name2 = {1}'.format('314-977-4000', '314-977-3000')\n",
    "\n",
    "print(contact_book)"
   ]
  },
  {
   "cell_type": "code",
   "execution_count": 12,
   "id": "d86fe689-d0c4-463f-b080-9acfd223dff2",
   "metadata": {},
   "outputs": [
    {
     "name": "stdout",
     "output_type": "stream",
     "text": [
      ",\n"
     ]
    }
   ],
   "source": [
    "print(contact_book[20])"
   ]
  },
  {
   "cell_type": "code",
   "execution_count": 6,
   "id": "b100ea21-c5b7-4220-b1a2-cb768d272761",
   "metadata": {},
   "outputs": [
    {
     "name": "stdout",
     "output_type": "stream",
     "text": [
      "[-14, 10, 8, -5, -4, -2, 2]\n"
     ]
    }
   ],
   "source": [
    "x = sorted([-14,-4,-2,-5,2,10,8],key=abs ,reverse=True)\n",
    "\n",
    "print(x)"
   ]
  },
  {
   "cell_type": "code",
   "execution_count": 10,
   "id": "cab62667-4301-4438-898b-c9edc9e1ce89",
   "metadata": {},
   "outputs": [
    {
     "name": "stdout",
     "output_type": "stream",
     "text": [
      "['txt', 'test', 'arrow', 'abc']\n"
     ]
    }
   ],
   "source": [
    "wc = sorted(['abc', 'txt', 'test', 'arrow'])\n",
    "\n",
    "print(wc)"
   ]
  },
  {
   "cell_type": "code",
   "execution_count": 20,
   "id": "c97abc0d-b66d-400d-9f8a-7142b41914cb",
   "metadata": {},
   "outputs": [
    {
     "name": "stdout",
     "output_type": "stream",
     "text": [
      "[1, 4, 5, 45, 98, 122]\n"
     ]
    }
   ],
   "source": [
    "sect = sorted({1,1,4,5,98,45,122},key=abs)\n",
    "\n",
    "print(sect)"
   ]
  },
  {
   "cell_type": "code",
   "execution_count": 18,
   "id": "32804fb6-485a-4052-a11e-2243ee86d1da",
   "metadata": {},
   "outputs": [
    {
     "data": {
      "text/plain": [
       "set"
      ]
     },
     "execution_count": 18,
     "metadata": {},
     "output_type": "execute_result"
    }
   ],
   "source": [
    "s = {1,2,6,54,12,888,124}\n",
    "\n",
    "type(s)"
   ]
  },
  {
   "cell_type": "code",
   "execution_count": 21,
   "id": "857e3b95-4638-4980-8b82-83f2255cf6e1",
   "metadata": {},
   "outputs": [
    {
     "ename": "SyntaxError",
     "evalue": "invalid syntax (670488139.py, line 1)",
     "output_type": "error",
     "traceback": [
      "\u001b[1;36m  Cell \u001b[1;32mIn[21], line 1\u001b[1;36m\u001b[0m\n\u001b[1;33m    help(lambda)\u001b[0m\n\u001b[1;37m               ^\u001b[0m\n\u001b[1;31mSyntaxError\u001b[0m\u001b[1;31m:\u001b[0m invalid syntax\n"
     ]
    }
   ],
   "source": []
  },
  {
   "cell_type": "code",
   "execution_count": 84,
   "id": "cb8e6fec-584a-469e-bcc5-7da69a6157c3",
   "metadata": {},
   "outputs": [
    {
     "name": "stdout",
     "output_type": "stream",
     "text": [
      "M\n",
      "y\n",
      " \n",
      "c\n",
      "o\n",
      "m\n",
      "p\n",
      "u\n",
      "t\n",
      "e\n",
      "r\n",
      " \n",
      "h\n",
      "a\n",
      "s\n",
      " \n",
      "g\n",
      "o\n",
      "n\n",
      "e\n",
      " \n",
      "c\n",
      "r\n",
      "a\n",
      "z\n",
      "y\n",
      " \n",
      "a\n",
      "n\n",
      "d\n",
      " \n",
      "a\n",
      "d\n",
      "d\n",
      "e\n",
      "d\n",
      " \n",
      "e\n",
      "x\n",
      "t\n",
      "r\n",
      "a\n",
      " \n",
      "s\n",
      "y\n",
      "m\n",
      "b\n",
      "o\n",
      "l\n",
      "s\n",
      ".\n"
     ]
    }
   ],
   "source": [
    "asterisk = 'My *compu*ter has go*ne craz***y an*d add*ed extra *symbols.*'\n",
    "\n",
    "for i in asterisk:\n",
    "    if '*' not in i:\n",
    "        print(i)\n",
    "        "
   ]
  },
  {
   "cell_type": "code",
   "execution_count": 10,
   "id": "9e3fb95a-ac38-4ba4-b327-18318ea5f487",
   "metadata": {},
   "outputs": [
    {
     "name": "stdout",
     "output_type": "stream",
     "text": [
      "My computer has gone crazy and added extra symbols.\n"
     ]
    }
   ],
   "source": [
    "asterisk = 'My *compu*ter has go*ne craz***y an*d add*ed extra *symbols.*'\n",
    "\n",
    "while '*' in asterisk:\n",
    "    for i in asterisk:\n",
    "        if '*' in i:\n",
    "            asterisk = asterisk.replace(i,'')\n",
    "\n",
    "print(asterisk)\n"
   ]
  },
  {
   "cell_type": "code",
   "execution_count": 2,
   "id": "4a41f799-c274-4217-9a99-66cf9bc1988e",
   "metadata": {},
   "outputs": [
    {
     "name": "stdout",
     "output_type": "stream",
     "text": [
      "true\n"
     ]
    }
   ],
   "source": [
    "asterisk = 'My *compu*ter has go*ne craz***y an*d add*ed extra *symbols.*'\n",
    "\n",
    "if '*' in asterisk:\n",
    "    "
   ]
  },
  {
   "cell_type": "code",
   "execution_count": 8,
   "id": "8c587048-b11d-48c2-8b12-5a496103b1cb",
   "metadata": {},
   "outputs": [
    {
     "name": "stdout",
     "output_type": "stream",
     "text": [
      "My computer has gone crazy and added extra symbols.\n"
     ]
    }
   ],
   "source": [
    "asterisk = 'My *compu*ter has go*ne craz***y an*d add*ed extra *symbols.*'\n",
    "\n",
    "asterisk = asterisk.replace('*','')\n",
    "\n",
    "print(asterisk)"
   ]
  },
  {
   "cell_type": "code",
   "execution_count": 37,
   "id": "be521031-9c1a-4f80-aaf1-647614875118",
   "metadata": {},
   "outputs": [
    {
     "ename": "NameError",
     "evalue": "name 'append' is not defined",
     "output_type": "error",
     "traceback": [
      "\u001b[1;31m---------------------------------------------------------------------------\u001b[0m",
      "\u001b[1;31mNameError\u001b[0m                                 Traceback (most recent call last)",
      "Cell \u001b[1;32mIn[37], line 1\u001b[0m\n\u001b[1;32m----> 1\u001b[0m help(\u001b[43mappend\u001b[49m)\n",
      "\u001b[1;31mNameError\u001b[0m: name 'append' is not defined"
     ]
    }
   ],
   "source": [
    "help(append)"
   ]
  },
  {
   "cell_type": "code",
   "execution_count": 52,
   "id": "3c32dd3d-5a96-4185-9c32-f526569ac518",
   "metadata": {},
   "outputs": [
    {
     "ename": "AttributeError",
     "evalue": "'a_sample_class' object has no attribute 'print'",
     "output_type": "error",
     "traceback": [
      "\u001b[1;31m---------------------------------------------------------------------------\u001b[0m",
      "\u001b[1;31mAttributeError\u001b[0m                            Traceback (most recent call last)",
      "Cell \u001b[1;32mIn[52], line 11\u001b[0m\n\u001b[0;32m      7\u001b[0m         Print(\u001b[38;5;28mself\u001b[39m\u001b[38;5;241m.\u001b[39mvar)\n\u001b[0;32m      9\u001b[0m obj \u001b[38;5;241m=\u001b[39m a_sample_class(\u001b[38;5;241m12\u001b[39m,\u001b[38;5;241m45\u001b[39m)\n\u001b[1;32m---> 11\u001b[0m \u001b[43mobj\u001b[49m\u001b[38;5;241;43m.\u001b[39;49m\u001b[43mprint\u001b[49m\u001b[38;5;241m.\u001b[39mvars()\n",
      "\u001b[1;31mAttributeError\u001b[0m: 'a_sample_class' object has no attribute 'print'"
     ]
    }
   ],
   "source": [
    "class a_sample_class:\n",
    "\n",
    "    def __init__(self,one,two):\n",
    "        self.first = one\n",
    "\n",
    "    def print_vars(self):\n",
    "        Print(self.var)\n",
    "\n",
    "obj = a_sample_class(12,45)\n",
    "\n",
    "obj.print.vars()"
   ]
  },
  {
   "cell_type": "code",
   "execution_count": 64,
   "id": "b61a207c-f588-4c4f-92bd-5b44362b7893",
   "metadata": {},
   "outputs": [
    {
     "ename": "AttributeError",
     "evalue": "'a_sample_class' object has no attribute 'vars'",
     "output_type": "error",
     "traceback": [
      "\u001b[1;31m---------------------------------------------------------------------------\u001b[0m",
      "\u001b[1;31mAttributeError\u001b[0m                            Traceback (most recent call last)",
      "Cell \u001b[1;32mIn[64], line 11\u001b[0m\n\u001b[0;32m      7\u001b[0m         \u001b[38;5;28mprint\u001b[39m(\u001b[38;5;28mself\u001b[39m\u001b[38;5;241m.\u001b[39mvars)\n\u001b[0;32m      9\u001b[0m obj \u001b[38;5;241m=\u001b[39m a_sample_class()\n\u001b[1;32m---> 11\u001b[0m \u001b[43mobj\u001b[49m\u001b[38;5;241;43m.\u001b[39;49m\u001b[43mprint_vars\u001b[49m\u001b[43m(\u001b[49m\u001b[43m)\u001b[49m\n",
      "Cell \u001b[1;32mIn[64], line 7\u001b[0m, in \u001b[0;36ma_sample_class.print_vars\u001b[1;34m(self)\u001b[0m\n\u001b[0;32m      6\u001b[0m \u001b[38;5;28;01mdef\u001b[39;00m \u001b[38;5;21mprint_vars\u001b[39m(\u001b[38;5;28mself\u001b[39m):\n\u001b[1;32m----> 7\u001b[0m     \u001b[38;5;28mprint\u001b[39m(\u001b[38;5;28;43mself\u001b[39;49m\u001b[38;5;241;43m.\u001b[39;49m\u001b[43mvars\u001b[49m)\n",
      "\u001b[1;31mAttributeError\u001b[0m: 'a_sample_class' object has no attribute 'vars'"
     ]
    }
   ],
   "source": [
    "class a_sample_class:\n",
    "\n",
    "    def __init__(self):\n",
    "        self.var = 0\n",
    "\n",
    "    def print_vars(self):\n",
    "        print(self.vars)\n",
    "\n",
    "obj = a_sample_class()\n",
    "\n",
    "obj.print_vars()"
   ]
  },
  {
   "cell_type": "code",
   "execution_count": 56,
   "id": "5ca69e65-d8b6-417a-bfe2-b6b44ded2ba4",
   "metadata": {},
   "outputs": [],
   "source": [
    "class a_sample_class:\n",
    "    class_attr = 5\n",
    "\n",
    "    def __init__(self,one,two):\n",
    "        self.first = one\n",
    "        self.second = two\n",
    "\n",
    "obj = a_sample_class(17,42)"
   ]
  },
  {
   "cell_type": "code",
   "execution_count": 57,
   "id": "f7eeaa6e-c59e-4138-96e9-edbbc62b5fc0",
   "metadata": {},
   "outputs": [
    {
     "name": "stdout",
     "output_type": "stream",
     "text": [
      "17\n"
     ]
    }
   ],
   "source": [
    "print(obj.first)"
   ]
  },
  {
   "cell_type": "code",
   "execution_count": 58,
   "id": "ef066784-19e2-4228-8b2f-22216da51056",
   "metadata": {},
   "outputs": [
    {
     "name": "stdout",
     "output_type": "stream",
     "text": [
      "42\n"
     ]
    }
   ],
   "source": [
    "print(obj.second)"
   ]
  },
  {
   "cell_type": "code",
   "execution_count": 61,
   "id": "0ce49fed-933d-406f-bd9d-a5d167710c22",
   "metadata": {},
   "outputs": [
    {
     "name": "stdout",
     "output_type": "stream",
     "text": [
      "5\n"
     ]
    }
   ],
   "source": [
    "print(a_sample_class.class_attr)"
   ]
  },
  {
   "cell_type": "code",
   "execution_count": 63,
   "id": "15bea260-2c19-4395-a2a1-1e6cfc7cf25b",
   "metadata": {},
   "outputs": [
    {
     "name": "stdout",
     "output_type": "stream",
     "text": [
      "47\n"
     ]
    }
   ],
   "source": [
    "print(obj.second+obj.class_attr)"
   ]
  },
  {
   "cell_type": "code",
   "execution_count": 77,
   "id": "6f97a7b2-06d3-4299-9337-f9f1efc8d777",
   "metadata": {},
   "outputs": [],
   "source": [
    "class candy:\n",
    "    def __init__(self,\n",
    "                 _brand,\n",
    "                _is_caramel=False,\n",
    "                 _has_nuts=False,\n",
    "                 _calories=1300,\n",
    "                 _type='Sour',\n",
    "                 _size='large'):\n",
    "        self.type=_type\n",
    "        self.brand=_brand\n",
    "        self.is_caramel = is_caramel\n",
    "        self.type = _type\n",
    "\n",
    "    def display(self):\n",
    "        print(f'my favorite candy is {self.brand}{self.type}')"
   ]
  },
  {
   "cell_type": "code",
   "execution_count": 78,
   "id": "91a9230f-9907-42b3-81d5-97fc3411da56",
   "metadata": {},
   "outputs": [
    {
     "ename": "NameError",
     "evalue": "name 'is_caramel' is not defined",
     "output_type": "error",
     "traceback": [
      "\u001b[1;31m---------------------------------------------------------------------------\u001b[0m",
      "\u001b[1;31mNameError\u001b[0m                                 Traceback (most recent call last)",
      "Cell \u001b[1;32mIn[78], line 1\u001b[0m\n\u001b[1;32m----> 1\u001b[0m favorite_candy \u001b[38;5;241m=\u001b[39m \u001b[43mcandy\u001b[49m\u001b[43m(\u001b[49m\u001b[43m_brand\u001b[49m\u001b[38;5;241;43m=\u001b[39;49m\u001b[38;5;124;43m'\u001b[39;49m\u001b[38;5;124;43mnone\u001b[39;49m\u001b[38;5;124;43m'\u001b[39;49m\u001b[43m)\u001b[49m\n\u001b[0;32m      2\u001b[0m favorite_candy\u001b[38;5;241m.\u001b[39mdisplay()\n",
      "Cell \u001b[1;32mIn[77], line 11\u001b[0m, in \u001b[0;36mcandy.__init__\u001b[1;34m(self, _brand, _is_caramel, _has_nuts, _calories, _type, _size)\u001b[0m\n\u001b[0;32m      9\u001b[0m \u001b[38;5;28mself\u001b[39m\u001b[38;5;241m.\u001b[39mtype\u001b[38;5;241m=\u001b[39m_type\n\u001b[0;32m     10\u001b[0m \u001b[38;5;28mself\u001b[39m\u001b[38;5;241m.\u001b[39mbrand\u001b[38;5;241m=\u001b[39m_brand\n\u001b[1;32m---> 11\u001b[0m \u001b[38;5;28mself\u001b[39m\u001b[38;5;241m.\u001b[39mis_caramel \u001b[38;5;241m=\u001b[39m \u001b[43mis_caramel\u001b[49m\n\u001b[0;32m     12\u001b[0m \u001b[38;5;28mself\u001b[39m\u001b[38;5;241m.\u001b[39mtype \u001b[38;5;241m=\u001b[39m _type\n",
      "\u001b[1;31mNameError\u001b[0m: name 'is_caramel' is not defined"
     ]
    }
   ],
   "source": [
    "favorite_candy = candy(_brand='none')\n",
    "favorite_candy.display()"
   ]
  },
  {
   "cell_type": "code",
   "execution_count": 79,
   "id": "db11aa98-1e75-4708-a1d3-089c4391bf03",
   "metadata": {},
   "outputs": [],
   "source": [
    "@classmethod\n",
    "def snicker(cls):\n",
    "    return cls('Snicker',_is_caramel=True,_has_nuts=True)"
   ]
  },
  {
   "cell_type": "code",
   "execution_count": 65,
   "id": "8e4b25c0-78ec-4ee8-9b0e-91e3bba949dc",
   "metadata": {},
   "outputs": [],
   "source": [
    "@staticmethod\n",
    "def calories(size,n):\n",
    "    if size == 'Large':\n",
    "        calories = 500\n",
    "    elif size == 'regular':\n",
    "        calories = 750\n",
    "    elif size == 'fun':\n",
    "        calories = 1250\n",
    "    else:\n",
    "        calories = 0\n",
    "    calories=calories*n\n",
    "    return calories"
   ]
  },
  {
   "cell_type": "code",
   "execution_count": 63,
   "id": "8f133f02-db2c-40c1-897a-04d39b1368af",
   "metadata": {},
   "outputs": [
    {
     "ename": "NameError",
     "evalue": "name 'candy' is not defined",
     "output_type": "error",
     "traceback": [
      "\u001b[1;31m---------------------------------------------------------------------------\u001b[0m",
      "\u001b[1;31mNameError\u001b[0m                                 Traceback (most recent call last)",
      "Cell \u001b[1;32mIn[63], line 1\u001b[0m\n\u001b[1;32m----> 1\u001b[0m \u001b[43mcandy\u001b[49m\u001b[38;5;241m.\u001b[39mcalories()\n",
      "\u001b[1;31mNameError\u001b[0m: name 'candy' is not defined"
     ]
    }
   ],
   "source": [
    "candy.calories()"
   ]
  },
  {
   "cell_type": "code",
   "execution_count": 26,
   "id": "8eb830b6-4427-4f75-8dfd-285d3cc493ab",
   "metadata": {},
   "outputs": [
    {
     "name": "stdout",
     "output_type": "stream",
     "text": [
      "['cat', 'dog', ['mouse', 'bat'], ['elephant', 'dog', 'whale', 'lion', 32], 'bird', []]\n"
     ]
    }
   ],
   "source": [
    "double_trouble = ['cat','dog', ['mouse','mosquito','bat','mosquito'],['elephant','dog','whale','lion',32,'mosquito'],'bird',[],'mosquito']\n",
    "\n",
    "for i in double_trouble:\n",
    "    if type(i) == list:\n",
    "        for j in i:\n",
    "            if j == 'mosquito':\n",
    "                i.remove(j)\n",
    "    else:\n",
    "        if i == 'mosquito':\n",
    "            double_trouble.remove(i)\n",
    "print(double_trouble)"
   ]
  },
  {
   "cell_type": "code",
   "execution_count": 4,
   "id": "5f605ca4-a815-4e56-876e-929dabcde449",
   "metadata": {},
   "outputs": [
    {
     "name": "stdout",
     "output_type": "stream",
     "text": [
      "Help on built-in function isinstance in module builtins:\n",
      "\n",
      "isinstance(obj, class_or_tuple, /)\n",
      "    Return whether an object is an instance of a class or of a subclass thereof.\n",
      "    \n",
      "    A tuple, as in ``isinstance(x, (A, B, ...))``, may be given as the target to\n",
      "    check against. This is equivalent to ``isinstance(x, A) or isinstance(x, B)\n",
      "    or ...`` etc.\n",
      "\n"
     ]
    }
   ],
   "source": [
    "help(isinstance)"
   ]
  },
  {
   "cell_type": "code",
   "execution_count": 11,
   "id": "a2383ad5-b29a-40ec-a2d9-a107e90a8bcf",
   "metadata": {},
   "outputs": [],
   "source": [
    "def double_evens():\n",
    "    try:\n",
    "        x = int(input())\n",
    "        y = int(input())\n",
    "    \n",
    "        if type(x) == int and type(y) == int:\n",
    "            if x % 2 == 1 and y % 2 == 1:\n",
    "                print(x-y)\n",
    "            elif x % 2 == 0 and y % 2 == 0:\n",
    "                print(x+y)\n",
    "            else:\n",
    "                print('please input two even or odd integers')\n",
    "        else:\n",
    "            print('please input an integer')\n",
    "    except ValueError:\n",
    "        print('please input an integer')\n",
    "    return()"
   ]
  },
  {
   "cell_type": "code",
   "execution_count": 12,
   "id": "0f128990-5911-4253-b0c3-778831797b77",
   "metadata": {},
   "outputs": [
    {
     "name": "stdin",
     "output_type": "stream",
     "text": [
      " 3\n",
      " 9\n"
     ]
    },
    {
     "name": "stdout",
     "output_type": "stream",
     "text": [
      "-6\n"
     ]
    },
    {
     "data": {
      "text/plain": [
       "()"
      ]
     },
     "execution_count": 12,
     "metadata": {},
     "output_type": "execute_result"
    }
   ],
   "source": [
    "double_evens()"
   ]
  },
  {
   "cell_type": "code",
   "execution_count": 43,
   "id": "17e6e7b7-1606-44de-8e8c-abb582ebe479",
   "metadata": {},
   "outputs": [],
   "source": [
    "def triangles(n,direction):\n",
    "    try:\n",
    "        if direction == 'Base-down triangle':\n",
    "\n",
    "            triangle_size = '* '\n",
    "            \n",
    "            while not n == 0:\n",
    "                print(triangle_size*n)\n",
    "                n -= 1\n",
    "            \n",
    "        elif direction == 'Base-up triangle':\n",
    "            triangle_size = '* '\n",
    "            _ = 0\n",
    "    \n",
    "            while _ <= n:\n",
    "                _ += 1\n",
    "                print(triangle_size*_)\n",
    "        else:\n",
    "            print('please choose either \"Base-up triange\" or \"Base-down triangle\"')\n",
    "            \n",
    "    except SyntaxError:\n",
    "        print(' please enter either, \"Base-down triangle\" or \"Base-up triangle\"')"
   ]
  },
  {
   "cell_type": "code",
   "execution_count": 14,
   "id": "078c32ee-648e-4b02-b984-4e15c5891e51",
   "metadata": {},
   "outputs": [
    {
     "name": "stdout",
     "output_type": "stream",
     "text": [
      "strstrstr\n"
     ]
    }
   ],
   "source": [
    "a = 'str'\n",
    "\n",
    "b = a*3\n",
    "\n",
    "print(b)"
   ]
  },
  {
   "cell_type": "code",
   "execution_count": 20,
   "id": "99b1f1c2-47f2-4668-86aa-85e09297a14e",
   "metadata": {},
   "outputs": [
    {
     "name": "stdout",
     "output_type": "stream",
     "text": [
      "* * * * \n",
      "* * * \n",
      "* * \n",
      "* \n"
     ]
    }
   ],
   "source": [
    "n = 4\n",
    "\n",
    "triangle_size = '* '\n",
    "\n",
    "while not n == 0:\n",
    "    print(triangle_size*n)\n",
    "    n -=1\n"
   ]
  },
  {
   "cell_type": "code",
   "execution_count": 34,
   "id": "f1a16a71-5bfb-42df-ae29-9124d85870a5",
   "metadata": {},
   "outputs": [
    {
     "name": "stdout",
     "output_type": "stream",
     "text": [
      "* * * * * \n",
      "* * * * \n",
      "* * * \n",
      "* * \n",
      "* \n"
     ]
    }
   ],
   "source": [
    "triangles(5,'Base-down triangle')"
   ]
  },
  {
   "cell_type": "code",
   "execution_count": 44,
   "id": "df5d95b5-1df1-4f32-8f99-8204a55cbcc2",
   "metadata": {},
   "outputs": [
    {
     "name": "stdout",
     "output_type": "stream",
     "text": [
      "* \n",
      "* * \n",
      "* * * \n",
      "* * * * \n",
      "* * * * * \n",
      "* * * * * * \n",
      "* * * * * * * \n",
      "* * * * * * * * \n"
     ]
    }
   ],
   "source": [
    "triangles(7,'Base-up triangle')"
   ]
  },
  {
   "cell_type": "code",
   "execution_count": 52,
   "id": "7599830c-f619-4afe-881f-774400e0093a",
   "metadata": {},
   "outputs": [
    {
     "name": "stdout",
     "output_type": "stream",
     "text": [
      "29\n"
     ]
    }
   ],
   "source": [
    "class Person():\n",
    "    \n",
    "    def __init__(self, name, occupation, country, age):\n",
    "        self.name = name\n",
    "        self.occupation = occupation\n",
    "        self.country = country\n",
    "        self.age = age\n",
    "\n",
    "Andi = Person('Andi', 'Pilot', 'American', 29)\n",
    "print(Andi.age)"
   ]
  },
  {
   "cell_type": "code",
   "execution_count": 46,
   "id": "633b90d3-e431-4a7e-883c-e70459f2d3e4",
   "metadata": {},
   "outputs": [
    {
     "name": "stdout",
     "output_type": "stream",
     "text": [
      "* * * * * * * * * \n",
      "* * * * * * * * \n",
      "* * * * * * * \n",
      "* * * * * * \n",
      "* * * * * \n",
      "* * * * \n",
      "* * * \n",
      "* * \n",
      "* \n"
     ]
    }
   ],
   "source": [
    "triangles(9,'Base-down triangle')"
   ]
  },
  {
   "cell_type": "code",
   "execution_count": 60,
   "id": "2dc97b2c-df12-4c19-baa2-a27469042387",
   "metadata": {},
   "outputs": [],
   "source": [
    "def double_evens(x,y):\n",
    "    try:\n",
    "        if type(x) == int and type(y) == int:\n",
    "            if x % 2 == 1 and y % 2 == 1:\n",
    "                print(x-y)\n",
    "            elif x % 2 == 0 and y % 2 == 0:\n",
    "                print(x+y)\n",
    "            else:\n",
    "                print('please input two even or odd integers')\n",
    "    except ValueError:\n",
    "        print('please input an integer')"
   ]
  },
  {
   "cell_type": "code",
   "execution_count": 62,
   "id": "d21adf8f-6b09-4e29-8efd-ca8a6c865661",
   "metadata": {},
   "outputs": [
    {
     "name": "stdout",
     "output_type": "stream",
     "text": [
      "10\n"
     ]
    }
   ],
   "source": [
    "double_evens(4,6)"
   ]
  },
  {
   "cell_type": "code",
   "execution_count": 64,
   "id": "78ead02d-ab03-4232-91f5-a75ca0c8f17a",
   "metadata": {},
   "outputs": [
    {
     "name": "stdout",
     "output_type": "stream",
     "text": [
      "Meryl Streep: This is my line...\n"
     ]
    }
   ],
   "source": [
    "class actress():\n",
    "    def __init__(self, name = 'Meryl Streep'):\n",
    "        self.name = name\n",
    "        \n",
    "    def act(self, line):\n",
    "        print(f'{self.name}: {line}')\n",
    "        \n",
    "    # your static method goes here.\n",
    "        \n",
    "meryl = actress()\n",
    "meryl.act('This is my line...')"
   ]
  },
  {
   "cell_type": "code",
   "execution_count": 66,
   "id": "b179a307-6f74-444b-8df3-b5dc16f8a7b7",
   "metadata": {},
   "outputs": [
    {
     "ename": "SyntaxError",
     "evalue": "invalid syntax (3222114164.py, line 9)",
     "output_type": "error",
     "traceback": [
      "\u001b[1;36m  Cell \u001b[1;32mIn[66], line 9\u001b[1;36m\u001b[0m\n\u001b[1;33m    def\u001b[0m\n\u001b[1;37m        ^\u001b[0m\n\u001b[1;31mSyntaxError\u001b[0m\u001b[1;31m:\u001b[0m invalid syntax\n"
     ]
    }
   ],
   "source": [
    "class actress():\n",
    "    def __init__(self, name = 'Meryl Streep'):\n",
    "        self.name = name\n",
    "        \n",
    "    def act(self, line):\n",
    "        print(f'{self.name}: {line}')\n",
    "        \n",
    "    @staticmethod\n",
    "    def \n",
    "        \n",
    "meryl = actress()\n",
    "meryl.act('This is my line...')"
   ]
  },
  {
   "cell_type": "code",
   "execution_count": 74,
   "id": "954a1080-4d86-4abd-b29e-3080977262bc",
   "metadata": {},
   "outputs": [
    {
     "ename": "IndentationError",
     "evalue": "unexpected unindent (1442601809.py, line 18)",
     "output_type": "error",
     "traceback": [
      "\u001b[1;36m  Cell \u001b[1;32mIn[74], line 18\u001b[1;36m\u001b[0m\n\u001b[1;33m    def calories(size,n):\u001b[0m\n\u001b[1;37m                         ^\u001b[0m\n\u001b[1;31mIndentationError\u001b[0m\u001b[1;31m:\u001b[0m unexpected unindent\n"
     ]
    }
   ],
   "source": [
    "class candy:\n",
    "    def __init__(self,\n",
    "                 _brand,\n",
    "                _is_caramel=False,\n",
    "                 _has_nuts=False,\n",
    "                 _calories=1300,\n",
    "                 _type='Sour',\n",
    "                 _size='large'):\n",
    "        self.type=_type\n",
    "        self.brand=_brand\n",
    "        self.is_caramel = is_caramel\n",
    "        self.type = _type\n",
    "\n",
    "    def display(self):\n",
    "        print(f'my favorite candy is {self.brand}{self.type}')\n",
    "\n",
    "    @staticmethod\n",
    "def calories(size,n):\n",
    "if size == 'Large':\n",
    "calories = 500\n",
    "elif size == 'regular':\n",
    "calories = 750\n",
    "elif size == 'fun':\n",
    " calories = 1250\n",
    "else:\n",
    "calories = 0\n",
    "calories=calories*n\n",
    "return calories"
   ]
  },
  {
   "cell_type": "code",
   "execution_count": null,
   "id": "879632e1-14aa-4847-bd8a-429651f41f0d",
   "metadata": {},
   "outputs": [],
   "source": []
  }
 ],
 "metadata": {
  "kernelspec": {
   "display_name": "Python 3 (ipykernel)",
   "language": "python",
   "name": "python3"
  },
  "language_info": {
   "codemirror_mode": {
    "name": "ipython",
    "version": 3
   },
   "file_extension": ".py",
   "mimetype": "text/x-python",
   "name": "python",
   "nbconvert_exporter": "python",
   "pygments_lexer": "ipython3",
   "version": "3.9.1rc1"
  }
 },
 "nbformat": 4,
 "nbformat_minor": 5
}
