{
 "cells": [
  {
   "cell_type": "markdown",
   "id": "faa615cc-96fd-454d-81f5-6ce2b639cd77",
   "metadata": {},
   "source": [
    "# Closure/Decorator Note\n",
    "\n",
    "- inital: 2022.Dec.22"
   ]
  },
  {
   "cell_type": "markdown",
   "id": "e0638fd0",
   "metadata": {},
   "source": [
    "**Table of Content**\n",
    "- [Part1 Variable Scope](#Part1-Variable-Scope): different types of variable Scope\n",
    "- [Part 2 Closure](#Part-2-Closure): understanding closure and example\n",
    "- [Part3 Decorators](#Part3-Decorators):Basic and understand Decorators \n",
    "- [Example of decorators](#Example-of-decorators): Examples of decorator\n",
    "- [Reference](#Reference): reference link "
   ]
  },
  {
   "cell_type": "markdown",
   "id": "e056a663",
   "metadata": {},
   "source": [
    "## Part1 Variable Scope"
   ]
  },
  {
   "cell_type": "markdown",
   "id": "d20468ae-ccf8-4633-94ed-7155098ecdc0",
   "metadata": {},
   "source": [
    "- [1. Local scope](#1.-Local-scope): contain name define inside the current function\n",
    "- [2. global scope](#2.-Global-Scope): contain name which are define at the top beginning of the script or module\n",
    "- [3. Enclose Scope or nonlocal scope](#3.-Enclose-Scope-or-nonlocal-scope): contains name define inside function or called nested function\n",
    "- [4. Build-in](#4.-Build-in): contain name build in to python language such as print()\n",
    "- [summary and recap](#summary-and-recap): summary of global and enclose\n"
   ]
  },
  {
   "cell_type": "code",
   "execution_count": 94,
   "id": "c63db2ac-62d0-437a-aa44-350d0f029e60",
   "metadata": {},
   "outputs": [
    {
     "name": "stdout",
     "output_type": "stream",
     "text": [
      "inside function:  ['name']\n"
     ]
    }
   ],
   "source": [
    "def function():\n",
    "    name='hello'\n",
    "    print('inside function: ' , dir())\n",
    "function()"
   ]
  },
  {
   "cell_type": "markdown",
   "id": "c660cb8e-5aeb-4b2f-b85f-6678bb0a16aa",
   "metadata": {},
   "source": [
    "### 1. Local scope"
   ]
  },
  {
   "cell_type": "markdown",
   "id": "dff887f2-77a5-48bb-b218-52280d058787",
   "metadata": {},
   "source": [
    "def inner():\n",
    "    x=4\n",
    "    print(x)\n",
    "inner()\n"
   ]
  },
  {
   "cell_type": "markdown",
   "id": "f8b11b86-dc2b-4b5b-a855-e3c5c740c160",
   "metadata": {},
   "source": [
    "### 2. Global Scope"
   ]
  },
  {
   "cell_type": "markdown",
   "id": "1305b3c7-5d2b-4bf2-82f7-0a63b7602c3f",
   "metadata": {},
   "source": [
    "- example of what's Global Scope"
   ]
  },
  {
   "cell_type": "code",
   "execution_count": 6,
   "id": "b212aa75-df87-4c37-8f7f-a7b199b27b78",
   "metadata": {},
   "outputs": [
    {
     "name": "stdout",
     "output_type": "stream",
     "text": [
      "100\n",
      "4\n",
      "inside the function  100\n"
     ]
    }
   ],
   "source": [
    "y=100\n",
    "def inner():\n",
    "    x=4\n",
    "    print(x)\n",
    "    print(f\"inside the function  {y}\")\n",
    "print(y)\n",
    "inner()\n"
   ]
  },
  {
   "cell_type": "markdown",
   "id": "d1605cf9-44a8-4320-acba-1bec5f479c9b",
   "metadata": {},
   "source": [
    "- inside and outside the function example"
   ]
  },
  {
   "cell_type": "code",
   "execution_count": 8,
   "id": "84028e39-67de-4603-9d69-4e19f60d3fc3",
   "metadata": {},
   "outputs": [
    {
     "name": "stdout",
     "output_type": "stream",
     "text": [
      "outside the function  100\n",
      "inside the function  4\n",
      "inside the function  5\n",
      "outside the function  100\n"
     ]
    }
   ],
   "source": [
    "y=100\n",
    "def inner():\n",
    "    x=4\n",
    "    y=5\n",
    "    print(f\"inside the function  {x}\")\n",
    "    print(f\"inside the function  {y}\")\n",
    "print(f\"outside the function  {y}\")\n",
    "inner()\n",
    "print(f\"outside the function  {y}\")\n"
   ]
  },
  {
   "cell_type": "markdown",
   "id": "c95a3aa4-311c-4da7-addb-0c2ac89a3c5c",
   "metadata": {},
   "source": [
    "- modify the global scope inside function"
   ]
  },
  {
   "cell_type": "code",
   "execution_count": 11,
   "id": "a8609bc5-8f40-41b6-ac20-c7d50a7377b9",
   "metadata": {},
   "outputs": [
    {
     "name": "stdout",
     "output_type": "stream",
     "text": [
      "outside the function  100\n"
     ]
    },
    {
     "ename": "UnboundLocalError",
     "evalue": "local variable 'y' referenced before assignment",
     "output_type": "error",
     "traceback": [
      "\u001b[1;31m---------------------------------------------------------------------------\u001b[0m",
      "\u001b[1;31mUnboundLocalError\u001b[0m                         Traceback (most recent call last)",
      "Cell \u001b[1;32mIn[11], line 8\u001b[0m\n\u001b[0;32m      6\u001b[0m     \u001b[38;5;28mprint\u001b[39m(\u001b[38;5;124mf\u001b[39m\u001b[38;5;124m\"\u001b[39m\u001b[38;5;124minside the function  \u001b[39m\u001b[38;5;132;01m{\u001b[39;00my\u001b[38;5;132;01m}\u001b[39;00m\u001b[38;5;124m\"\u001b[39m)\n\u001b[0;32m      7\u001b[0m \u001b[38;5;28mprint\u001b[39m(\u001b[38;5;124mf\u001b[39m\u001b[38;5;124m\"\u001b[39m\u001b[38;5;124moutside the function  \u001b[39m\u001b[38;5;132;01m{\u001b[39;00my\u001b[38;5;132;01m}\u001b[39;00m\u001b[38;5;124m\"\u001b[39m)\n\u001b[1;32m----> 8\u001b[0m \u001b[43minner\u001b[49m\u001b[43m(\u001b[49m\u001b[43m)\u001b[49m\n",
      "Cell \u001b[1;32mIn[11], line 4\u001b[0m, in \u001b[0;36minner\u001b[1;34m()\u001b[0m\n\u001b[0;32m      2\u001b[0m \u001b[38;5;28;01mdef\u001b[39;00m \u001b[38;5;21minner\u001b[39m():\n\u001b[0;32m      3\u001b[0m     x\u001b[38;5;241m=\u001b[39m\u001b[38;5;241m4\u001b[39m\n\u001b[1;32m----> 4\u001b[0m     y\u001b[38;5;241m=\u001b[39m\u001b[43my\u001b[49m\u001b[38;5;241m+\u001b[39m\u001b[38;5;241m10\u001b[39m\n\u001b[0;32m      5\u001b[0m     \u001b[38;5;28mprint\u001b[39m(\u001b[38;5;124mf\u001b[39m\u001b[38;5;124m\"\u001b[39m\u001b[38;5;124minside the function  \u001b[39m\u001b[38;5;132;01m{\u001b[39;00mx\u001b[38;5;132;01m}\u001b[39;00m\u001b[38;5;124m\"\u001b[39m)\n\u001b[0;32m      6\u001b[0m     \u001b[38;5;28mprint\u001b[39m(\u001b[38;5;124mf\u001b[39m\u001b[38;5;124m\"\u001b[39m\u001b[38;5;124minside the function  \u001b[39m\u001b[38;5;132;01m{\u001b[39;00my\u001b[38;5;132;01m}\u001b[39;00m\u001b[38;5;124m\"\u001b[39m)\n",
      "\u001b[1;31mUnboundLocalError\u001b[0m: local variable 'y' referenced before assignment"
     ]
    }
   ],
   "source": [
    "y=100\n",
    "def inner():\n",
    "    x=4\n",
    "    y=y+10\n",
    "    print(f\"inside the function  {x}\")\n",
    "    print(f\"inside the function  {y}\")\n",
    "print(f\"outside the function  {y}\")\n",
    "inner()"
   ]
  },
  {
   "cell_type": "markdown",
   "id": "336acbc5-493e-439f-b742-a79ba7c3d181",
   "metadata": {},
   "source": [
    "- use global keyword to solve solution "
   ]
  },
  {
   "cell_type": "code",
   "execution_count": 12,
   "id": "32461372-4944-430d-85ef-4f013c326521",
   "metadata": {},
   "outputs": [
    {
     "name": "stdout",
     "output_type": "stream",
     "text": [
      "outside the function  of y:  100\n",
      "inside the function of x:  4\n",
      "inside the function y: 110\n",
      "===================================\n",
      "outside the function  of y:  110\n"
     ]
    }
   ],
   "source": [
    "y=100\n",
    "def inner():\n",
    "    x=4\n",
    "    global y\n",
    "    y=y+10\n",
    "    print(f\"inside the function of x:  {x}\")\n",
    "    print(f\"inside the function y: {y}\")\n",
    "print(f\"outside the function  of y:  {y}\")\n",
    "inner()\n",
    "print(\"=\"*35)\n",
    "print(f\"outside the function  of y:  {y}\")\n"
   ]
  },
  {
   "cell_type": "markdown",
   "id": "0897d7ae-bf5b-45b6-84bf-bcd1a94f370d",
   "metadata": {},
   "source": [
    "### 3. Enclose Scope or nonlocal scope"
   ]
  },
  {
   "cell_type": "code",
   "execution_count": 13,
   "id": "4ddaa058-ec63-412a-afd1-b8911c6d3461",
   "metadata": {},
   "outputs": [
    {
     "name": "stdout",
     "output_type": "stream",
     "text": [
      "inside the inner of x:  4\n",
      "inside the inner z: 4\n",
      "4\n"
     ]
    }
   ],
   "source": [
    "y=10\n",
    "def outer():\n",
    "    z=4\n",
    "    def inner():\n",
    "        x=4\n",
    "        print(f\"inside the inner of x:  {x}\")\n",
    "        print(f\"inside the inner z: {z}\")\n",
    "    inner()\n",
    "    print(z)\n",
    "outer()\n"
   ]
  },
  {
   "cell_type": "markdown",
   "id": "8f193688-919d-40b2-a920-80963b36e564",
   "metadata": {},
   "source": [
    "- modify enclose variable and nonlocal keyword"
   ]
  },
  {
   "cell_type": "code",
   "execution_count": 14,
   "id": "d6b41ffe-0ba1-4bfe-a536-45ea9736288c",
   "metadata": {},
   "outputs": [
    {
     "ename": "UnboundLocalError",
     "evalue": "local variable 'z' referenced before assignment",
     "output_type": "error",
     "traceback": [
      "\u001b[1;31m---------------------------------------------------------------------------\u001b[0m",
      "\u001b[1;31mUnboundLocalError\u001b[0m                         Traceback (most recent call last)",
      "Cell \u001b[1;32mIn[14], line 11\u001b[0m\n\u001b[0;32m      9\u001b[0m     inner()\n\u001b[0;32m     10\u001b[0m     \u001b[38;5;28mprint\u001b[39m(z)\n\u001b[1;32m---> 11\u001b[0m \u001b[43mouter\u001b[49m\u001b[43m(\u001b[49m\u001b[43m)\u001b[49m\n",
      "Cell \u001b[1;32mIn[14], line 9\u001b[0m, in \u001b[0;36mouter\u001b[1;34m()\u001b[0m\n\u001b[0;32m      7\u001b[0m     \u001b[38;5;28mprint\u001b[39m(\u001b[38;5;124mf\u001b[39m\u001b[38;5;124m\"\u001b[39m\u001b[38;5;124minside the inner of x:  \u001b[39m\u001b[38;5;132;01m{\u001b[39;00mx\u001b[38;5;132;01m}\u001b[39;00m\u001b[38;5;124m\"\u001b[39m)\n\u001b[0;32m      8\u001b[0m     \u001b[38;5;28mprint\u001b[39m(\u001b[38;5;124mf\u001b[39m\u001b[38;5;124m\"\u001b[39m\u001b[38;5;124minside the inner z: \u001b[39m\u001b[38;5;132;01m{\u001b[39;00mz\u001b[38;5;132;01m}\u001b[39;00m\u001b[38;5;124m\"\u001b[39m)\n\u001b[1;32m----> 9\u001b[0m \u001b[43minner\u001b[49m\u001b[43m(\u001b[49m\u001b[43m)\u001b[49m\n\u001b[0;32m     10\u001b[0m \u001b[38;5;28mprint\u001b[39m(z)\n",
      "Cell \u001b[1;32mIn[14], line 6\u001b[0m, in \u001b[0;36mouter.<locals>.inner\u001b[1;34m()\u001b[0m\n\u001b[0;32m      4\u001b[0m \u001b[38;5;28;01mdef\u001b[39;00m \u001b[38;5;21minner\u001b[39m():\n\u001b[0;32m      5\u001b[0m     x\u001b[38;5;241m=\u001b[39m\u001b[38;5;241m4\u001b[39m\n\u001b[1;32m----> 6\u001b[0m     z\u001b[38;5;241m=\u001b[39m\u001b[43mz\u001b[49m\u001b[38;5;241m+\u001b[39m\u001b[38;5;241m1\u001b[39m\n\u001b[0;32m      7\u001b[0m     \u001b[38;5;28mprint\u001b[39m(\u001b[38;5;124mf\u001b[39m\u001b[38;5;124m\"\u001b[39m\u001b[38;5;124minside the inner of x:  \u001b[39m\u001b[38;5;132;01m{\u001b[39;00mx\u001b[38;5;132;01m}\u001b[39;00m\u001b[38;5;124m\"\u001b[39m)\n\u001b[0;32m      8\u001b[0m     \u001b[38;5;28mprint\u001b[39m(\u001b[38;5;124mf\u001b[39m\u001b[38;5;124m\"\u001b[39m\u001b[38;5;124minside the inner z: \u001b[39m\u001b[38;5;132;01m{\u001b[39;00mz\u001b[38;5;132;01m}\u001b[39;00m\u001b[38;5;124m\"\u001b[39m)\n",
      "\u001b[1;31mUnboundLocalError\u001b[0m: local variable 'z' referenced before assignment"
     ]
    }
   ],
   "source": [
    "y=10\n",
    "def outer():\n",
    "    z=4\n",
    "    def inner():\n",
    "        x=4\n",
    "        z=z+1\n",
    "        print(f\"inside the inner of x:  {x}\")\n",
    "        print(f\"inside the inner z: {z}\")\n",
    "    inner()\n",
    "    print(z)\n",
    "outer()\n"
   ]
  },
  {
   "cell_type": "markdown",
   "id": "1f732a7c-f443-4b65-921c-da18715b4a56",
   "metadata": {},
   "source": [
    "- Using nonlocal keyword to modify enclosing variable"
   ]
  },
  {
   "cell_type": "code",
   "execution_count": 15,
   "id": "0d9b7f11-7bf2-4033-8353-6fbb71e707c1",
   "metadata": {},
   "outputs": [
    {
     "name": "stdout",
     "output_type": "stream",
     "text": [
      "inside the inner of x:  4\n",
      "inside the inner z: 5\n",
      "5\n"
     ]
    }
   ],
   "source": [
    "y=10\n",
    "def outer():\n",
    "    z=4\n",
    "    def inner():\n",
    "        x=4\n",
    "        nonlocal z\n",
    "        z=z+1\n",
    "        print(f\"inside the inner of x:  {x}\")\n",
    "        print(f\"inside the inner z: {z}\")\n",
    "    inner()\n",
    "    print(z)\n",
    "outer()\n"
   ]
  },
  {
   "cell_type": "markdown",
   "id": "b885876e-e510-4b52-a2f2-ced3fb813769",
   "metadata": {},
   "source": [
    "### 4. Build-in"
   ]
  },
  {
   "cell_type": "code",
   "execution_count": 17,
   "id": "9f4b8423-c0aa-4ad5-8343-6199ad3cf6f0",
   "metadata": {},
   "outputs": [
    {
     "name": "stdout",
     "output_type": "stream",
     "text": [
      "['ArithmeticError', 'AssertionError', 'AttributeError', 'BaseException', 'BlockingIOError', 'BrokenPipeError', 'BufferError', 'BytesWarning', 'ChildProcessError', 'ConnectionAbortedError', 'ConnectionError', 'ConnectionRefusedError', 'ConnectionResetError', 'DeprecationWarning', 'EOFError', 'Ellipsis', 'EncodingWarning', 'EnvironmentError', 'Exception', 'False', 'FileExistsError', 'FileNotFoundError', 'FloatingPointError', 'FutureWarning', 'GeneratorExit', 'IOError', 'ImportError', 'ImportWarning', 'IndentationError', 'IndexError', 'InterruptedError', 'IsADirectoryError', 'KeyError', 'KeyboardInterrupt', 'LookupError', 'MemoryError', 'ModuleNotFoundError', 'NameError', 'None', 'NotADirectoryError', 'NotImplemented', 'NotImplementedError', 'OSError', 'OverflowError', 'PendingDeprecationWarning', 'PermissionError', 'ProcessLookupError', 'RecursionError', 'ReferenceError', 'ResourceWarning', 'RuntimeError', 'RuntimeWarning', 'StopAsyncIteration', 'StopIteration', 'SyntaxError', 'SyntaxWarning', 'SystemError', 'SystemExit', 'TabError', 'TimeoutError', 'True', 'TypeError', 'UnboundLocalError', 'UnicodeDecodeError', 'UnicodeEncodeError', 'UnicodeError', 'UnicodeTranslateError', 'UnicodeWarning', 'UserWarning', 'ValueError', 'Warning', 'WindowsError', 'ZeroDivisionError', '__IPYTHON__', '__build_class__', '__debug__', '__doc__', '__import__', '__loader__', '__name__', '__package__', '__spec__', 'abs', 'aiter', 'all', 'anext', 'any', 'ascii', 'bin', 'bool', 'breakpoint', 'bytearray', 'bytes', 'callable', 'chr', 'classmethod', 'compile', 'complex', 'copyright', 'credits', 'delattr', 'dict', 'dir', 'display', 'divmod', 'enumerate', 'eval', 'exec', 'execfile', 'filter', 'float', 'format', 'frozenset', 'get_ipython', 'getattr', 'globals', 'hasattr', 'hash', 'help', 'hex', 'id', 'input', 'int', 'isinstance', 'issubclass', 'iter', 'len', 'license', 'list', 'locals', 'map', 'max', 'memoryview', 'min', 'next', 'object', 'oct', 'open', 'ord', 'pow', 'print', 'property', 'range', 'repr', 'reversed', 'round', 'runfile', 'set', 'setattr', 'slice', 'sorted', 'staticmethod', 'str', 'sum', 'super', 'tuple', 'type', 'vars', 'zip']\n"
     ]
    }
   ],
   "source": [
    "import builtins\n",
    "print(dir(builtins))\n"
   ]
  },
  {
   "cell_type": "markdown",
   "id": "3bc2c1c5-cb9c-4d12-be8c-aa009c64fa1d",
   "metadata": {},
   "source": [
    "### summary and recap\n",
    "> - `Nonlocal`: to modify the enclose variable inside the local scope need to use nonlocal variable \n",
    "> - `Global`: to modify the global variable inside the local scope need to use global variable. \n"
   ]
  },
  {
   "cell_type": "markdown",
   "id": "08cd829c-0263-463b-a81a-31488d4f95f2",
   "metadata": {},
   "source": [
    "## Part 2 Closure\n",
    "- [Closure Vs nested function](#Closure-Vs-nested-function): \n",
    "- [Remembering values/ Persistent Memory](#Remembering-values/-Persistent-Memory): \n",
    "- [Variable Backpack](#Variable-Backpack):\n",
    "- [Understanding Reference and return function](#Understanding-Reference-and-return-function): \n",
    "\t- [1. Single Function Example](#1.-Single-Function-Example) \n",
    "\t- [2. Nested Function Example](#2.-Nested-Function-Example)\n",
    "- [Some recaping examples](#Some-recaping-examples): \n",
    "- [Summary of Closure](#Summary-of-Closure): "
   ]
  },
  {
   "cell_type": "markdown",
   "id": "7f08f85d",
   "metadata": {},
   "source": [
    "### Closure Vs nested function"
   ]
  },
  {
   "cell_type": "markdown",
   "id": "3e454046",
   "metadata": {},
   "source": [
    "- Nested Function"
   ]
  },
  {
   "cell_type": "code",
   "execution_count": 2,
   "id": "71fb6860",
   "metadata": {},
   "outputs": [
    {
     "name": "stdout",
     "output_type": "stream",
     "text": [
      "Hello Jenny today is an awesome day!!!\n"
     ]
    }
   ],
   "source": [
    "def printing(msg):\n",
    "    greet= 'Hello'\n",
    "    def name():\n",
    "        print(greet, msg)\n",
    "    name()\n",
    "    \n",
    "printing(\"Jenny today is an awesome day!!!\")"
   ]
  },
  {
   "cell_type": "code",
   "execution_count": 15,
   "id": "c49b368d",
   "metadata": {},
   "outputs": [
    {
     "name": "stdout",
     "output_type": "stream",
     "text": [
      "Hello Jenny today is an awesome day!!!\n",
      "None\n"
     ]
    }
   ],
   "source": [
    "# Return another \"function as a value\n",
    "def printing(msg):\n",
    "    greet= 'Hello'\n",
    "    def name():\n",
    "        print(greet, msg)\n",
    "        #return ''\n",
    "    #name()\n",
    "    return name\n",
    "    \n",
    "welcome=printing(\"Jenny today is an awesome day!!!\")\n",
    "print(welcome())"
   ]
  },
  {
   "cell_type": "markdown",
   "id": "00e34022",
   "metadata": {},
   "source": [
    "- Closure \n"
   ]
  },
  {
   "cell_type": "code",
   "execution_count": 4,
   "id": "e7e7172b",
   "metadata": {},
   "outputs": [
    {
     "name": "stdout",
     "output_type": "stream",
     "text": [
      "15\n"
     ]
    }
   ],
   "source": [
    "def outer_function(x):\n",
    "    def inner_function():\n",
    "        return x + 10\n",
    "    return inner_function\n",
    "\n",
    "closure = outer_function(5)\n",
    "result = closure()\n",
    "print(result) # Output: 15\n"
   ]
  },
  {
   "cell_type": "markdown",
   "id": "43043d11",
   "metadata": {},
   "source": [
    "### Remembering values/ Persistent Memory"
   ]
  },
  {
   "cell_type": "markdown",
   "id": "db44b942",
   "metadata": {},
   "source": [
    "- Ex1. without passing parameter example"
   ]
  },
  {
   "cell_type": "code",
   "execution_count": 18,
   "id": "e5740f9e",
   "metadata": {},
   "outputs": [
    {
     "name": "stdout",
     "output_type": "stream",
     "text": [
      "hi\n",
      "hi\n"
     ]
    }
   ],
   "source": [
    "def outer_func():  # Step 2\n",
    "    message = \"hi\"  # Step 2.1\n",
    "    def inner():  # Step 3\n",
    "        print(message)  # Step 3.1, Step 7, and Step 9\n",
    "    return inner  # Step 4\n",
    "\n",
    "my_func = outer_func()  # Step 1: Call outer_func(), creating a closure, and assign the inner function to my_func \n",
    "                        #Step 5: Assign the result to my_func\n",
    "my_func()  # Step 6: Call my_func\n",
    "my_func()  # Step 8: Call my_func again\n"
   ]
  },
  {
   "cell_type": "markdown",
   "id": "bb722fce",
   "metadata": {},
   "source": [
    "### Variable Backpack"
   ]
  },
  {
   "cell_type": "markdown",
   "id": "aa7f1609",
   "metadata": {},
   "source": [
    "- Ex2-1 creating a closure and calling the function"
   ]
  },
  {
   "cell_type": "code",
   "execution_count": 7,
   "id": "1f3a06b8",
   "metadata": {},
   "outputs": [
    {
     "name": "stdout",
     "output_type": "stream",
     "text": [
      "5\n"
     ]
    }
   ],
   "source": [
    "def outer_function(x):\n",
    "    def inner_function():\n",
    "        print(x)  # Doesn't explicitly return x\n",
    "    return inner_function\n",
    "\n",
    "closure = outer_function(5)\n",
    "closure()  # Output: 5\n"
   ]
  },
  {
   "cell_type": "markdown",
   "id": "d84a70a2",
   "metadata": {},
   "source": [
    "- Ex2 -2 showing passing value"
   ]
  },
  {
   "cell_type": "code",
   "execution_count": 12,
   "id": "1087cbec",
   "metadata": {},
   "outputs": [
    {
     "data": {
      "text/plain": [
       "15"
      ]
     },
     "execution_count": 12,
     "metadata": {},
     "output_type": "execute_result"
    }
   ],
   "source": [
    "def outer_function(x):\n",
    "    def inner_function(y):\n",
    "        return x+y\n",
    "    return inner_function\n",
    "\n",
    "closure_instance = outer_function(10)\n",
    "result=closure_instance(5)  # Output: 15\n",
    "result"
   ]
  },
  {
   "cell_type": "markdown",
   "id": "2bea25f5",
   "metadata": {},
   "source": [
    "### Understanding Reference and return function \n",
    "\n",
    "In this \n",
    "\n",
    "Note:\n",
    "- Function with (): calling function. You can refer as **basic call function**\n",
    "- Function without (): saving function as object and function memory location. You can refer as **closure**"
   ]
  },
  {
   "cell_type": "markdown",
   "id": "6581a273",
   "metadata": {},
   "source": [
    "#### 1. Single Function Example"
   ]
  },
  {
   "cell_type": "markdown",
   "id": "cc6dae62",
   "metadata": {},
   "source": [
    "- Function with reference memory location"
   ]
  },
  {
   "cell_type": "code",
   "execution_count": 21,
   "id": "2162af72",
   "metadata": {},
   "outputs": [
    {
     "name": "stdout",
     "output_type": "stream",
     "text": [
      "<function hello at 0x00000255F7DF95A0>\n"
     ]
    }
   ],
   "source": [
    "#function are object \n",
    "def hello():\n",
    "    print('hi')\n",
    "print(hello)"
   ]
  },
  {
   "cell_type": "markdown",
   "id": "0f5a3b2b",
   "metadata": {},
   "source": [
    "- Function "
   ]
  },
  {
   "cell_type": "code",
   "execution_count": 22,
   "id": "ba77b36b",
   "metadata": {},
   "outputs": [
    {
     "name": "stdout",
     "output_type": "stream",
     "text": [
      "hi\n"
     ]
    }
   ],
   "source": [
    "#function are object \n",
    "def hello():\n",
    "    print('hi')\n",
    "hello()\n"
   ]
  },
  {
   "cell_type": "markdown",
   "id": "c80681f9",
   "metadata": {},
   "source": [
    "#### 2. Nested Function Example"
   ]
  },
  {
   "cell_type": "markdown",
   "id": "fcf13ca9",
   "metadata": {},
   "source": [
    "- Case1 closure: immediately call inner function `without ()` "
   ]
  },
  {
   "cell_type": "code",
   "execution_count": 25,
   "id": "b1bb8c3b",
   "metadata": {},
   "outputs": [
    {
     "name": "stdout",
     "output_type": "stream",
     "text": [
      "<function outer at 0x00000255F7DF8E50>\n",
      "hello\n",
      "None\n"
     ]
    }
   ],
   "source": [
    "def outer():\n",
    "    msg = \"hello\"\n",
    "    def inner():\n",
    "        print(msg)\n",
    "    return inner()\n",
    "a = outer\n",
    "print(a)\n",
    "print(a())\n"
   ]
  },
  {
   "cell_type": "markdown",
   "id": "37472797",
   "metadata": {},
   "source": [
    "- Case2 basic function: reference inner function `with ()`"
   ]
  },
  {
   "cell_type": "code",
   "execution_count": 26,
   "id": "edc2243f",
   "metadata": {},
   "outputs": [
    {
     "name": "stdout",
     "output_type": "stream",
     "text": [
      "<function outer.<locals>.inner at 0x00000255F7DF9630>\n",
      "hello\n",
      "None\n"
     ]
    }
   ],
   "source": [
    "def outer():\n",
    "    msg = \"hello\"\n",
    "    def inner():\n",
    "        print(msg)\n",
    "    return inner\n",
    "\n",
    "a = outer()\n",
    "print(a)\n",
    "print(a()) \n"
   ]
  },
  {
   "cell_type": "markdown",
   "id": "52953b52",
   "metadata": {},
   "source": [
    "### Some recaping examples"
   ]
  },
  {
   "cell_type": "markdown",
   "id": "72e9fbb4",
   "metadata": {},
   "source": [
    "- EX1: without passing parameter with calling function\n",
    "\n",
    "same example i mention in Remembering values/ Persistent Memory"
   ]
  },
  {
   "cell_type": "code",
   "execution_count": 28,
   "id": "2709dcf0",
   "metadata": {},
   "outputs": [
    {
     "name": "stdout",
     "output_type": "stream",
     "text": [
      "hi\n"
     ]
    }
   ],
   "source": [
    "def outer_func():  # Step 2 goes into outer_func, and assigning message variable\n",
    "    message = \"hi\"  \n",
    "    def inner():  # Step 3 create a inner() function, and print() variable which it’s a free variable, will not execute it\n",
    "        print(message)  \n",
    "    return inner()  #  Step 4 return and execute inner () function \n",
    "\n",
    "outer_func()  # Step 1: Call outer_func(), creating a closure"
   ]
  },
  {
   "cell_type": "markdown",
   "id": "2d893661",
   "metadata": {},
   "source": [
    "- EX2 without passing parameter with referencing function"
   ]
  },
  {
   "cell_type": "code",
   "execution_count": 29,
   "id": "5fa12eff",
   "metadata": {},
   "outputs": [
    {
     "name": "stdout",
     "output_type": "stream",
     "text": [
      "hi\n",
      "hi\n"
     ]
    }
   ],
   "source": [
    "def outer_func():  # Step 2\n",
    "    message = \"hi\"  # Step 2.1\n",
    "    def inner():  # Step 3\n",
    "        print(message)  # Step 3.1, Step 7, and Step 9\n",
    "    return inner  # Step 4\n",
    "\n",
    "my_func = outer_func()  # Step 1: Call outer_func(), creating a closure, and assign the inner function to my_func \n",
    "                        #Step 5: Assign the result to my_func\n",
    "my_func()  # Step 6: Call my_func\n",
    "my_func()  # Step 8: Call my_func again"
   ]
  },
  {
   "cell_type": "markdown",
   "id": "6a5e9559",
   "metadata": {},
   "source": [
    "- Ex3 passing parameter with referencing function\n",
    "\n",
    "This example is related to ` Backpack ex2` but this example pritn the object\n"
   ]
  },
  {
   "cell_type": "code",
   "execution_count": 33,
   "id": "3e5046c9",
   "metadata": {},
   "outputs": [
    {
     "name": "stdout",
     "output_type": "stream",
     "text": [
      "<function outer_function.<locals>.inner_function at 0x00000255F7DF8550>\n"
     ]
    }
   ],
   "source": [
    "def outer_function(x):\n",
    "    def inner_function(y):\n",
    "        return x+y\n",
    "    return inner_function\n",
    "\n",
    "closure_instance = outer_function(10)\n",
    "print(closure_instance)  # Output: 15\n"
   ]
  },
  {
   "cell_type": "markdown",
   "id": "de4c6456",
   "metadata": {},
   "source": [
    "### Summary of Closure"
   ]
  },
  {
   "cell_type": "code",
   "execution_count": 35,
   "id": "02fbdf29",
   "metadata": {},
   "outputs": [
    {
     "data": {
      "text/plain": [
       "<function __main__.outerfunction.<locals>.innerfunction()>"
      ]
     },
     "execution_count": 35,
     "metadata": {},
     "output_type": "execute_result"
    }
   ],
   "source": [
    "def outerfunction(text):\n",
    "    def innerfunction():\n",
    "        print(text)\n",
    "    return  innerfunction\n",
    "outerfunction('Hello')\n"
   ]
  },
  {
   "cell_type": "markdown",
   "id": "095fc43a-48a8-483b-8e09-36e20d319422",
   "metadata": {},
   "source": [
    "## Part3 Decorators \n",
    "\n",
    "To understand what and how to use decorator, need to fist understand the basic of fundction which include:\n",
    "\n",
    "**What is it used for?**\n",
    "> - A function that takes another function as argument to add functionality to it or extend new feature and return another function. \n",
    "> - A function wraps another function to decorate original function. \n",
    "> - In some case we don’t want to modify our original function, so then we would instead use the decorator to modify it. \n",
    "\n",
    "    Function Decorators\n",
    "\n",
    "- [Function Decorators](#Function-Decorators)\n",
    "    - [function as argument](#function-as-argument)\n",
    "    - [traditional decorator function](#traditional-decorator-function)\n",
    "    - [Create decorator](#Create-decorator) :Create Decorators\n",
    "        - [compare using traditonal decorator or with the `@`](#compare-using-traditonal-decorator-or-with-the-@)\n",
    "        - [Passing argument using args and kywargs](#Passing-argument-using-args-and-kywargs)\n",
    "    - [Wrap built-in](#Wrap-built-in): Understand wraps built-in module\n",
    "- [Class Decorators](#Class-Decorators) : \n",
    "- [Example of decorators](#Example-of-decorators)\n",
    "    - [Basic Example](#Basic-Example)\n",
    "    - [Real Time Example](#Real-Time-Example)\n",
    "\n",
    "\n",
    "\n"
   ]
  },
  {
   "cell_type": "markdown",
   "id": "9b9c1cb6-1213-41b3-a171-d73d284f0ebc",
   "metadata": {},
   "source": [
    "### Function Decorators"
   ]
  },
  {
   "cell_type": "markdown",
   "id": "c106505b",
   "metadata": {
    "tags": []
   },
   "source": [
    "#### function as argument  "
   ]
  },
  {
   "cell_type": "code",
   "execution_count": 95,
   "id": "c14b8ac3",
   "metadata": {},
   "outputs": [
    {
     "name": "stdout",
     "output_type": "stream",
     "text": [
      "hello\n",
      "None\n"
     ]
    }
   ],
   "source": [
    "#calling function\n",
    "def function1():\n",
    "    print('hello')\n",
    "print(function1())"
   ]
  },
  {
   "cell_type": "code",
   "execution_count": 96,
   "id": "da2900a2",
   "metadata": {},
   "outputs": [
    {
     "name": "stdout",
     "output_type": "stream",
     "text": [
      "<function function1 at 0x00000219F4DB4A60>\n"
     ]
    }
   ],
   "source": [
    "#function as object\n",
    "def function1():\n",
    "    print('hello')\n",
    "print(function1)"
   ]
  },
  {
   "cell_type": "code",
   "execution_count": 99,
   "id": "c57595ed",
   "metadata": {},
   "outputs": [
    {
     "name": "stdout",
     "output_type": "stream",
     "text": [
      "<function function1 at 0x00000219F4DB60E0>\n",
      "I am function 2\n",
      "I am function 1\n",
      "None\n"
     ]
    }
   ],
   "source": [
    "#function as argument \n",
    "def function1():\n",
    "    print('I am function 1')\n",
    "def function2(funct):\n",
    "    print('I am function 2')\n",
    "    funct()\n",
    "#call function1, will print object\n",
    "print(function1)\n",
    "\n",
    "#passing function1 as argument \n",
    "print(function2(function1))"
   ]
  },
  {
   "cell_type": "markdown",
   "id": "ab3c3014",
   "metadata": {},
   "source": [
    "#### traditional decorator function "
   ]
  },
  {
   "cell_type": "code",
   "execution_count": 110,
   "id": "4148d5b2",
   "metadata": {},
   "outputs": [
    {
     "name": "stdout",
     "output_type": "stream",
     "text": [
      "started\n",
      "hello\n",
      "ended\n"
     ]
    }
   ],
   "source": [
    "def func(string):\n",
    "    def wrapper():\n",
    "        print('started')\n",
    "        print(string)\n",
    "        print('ended')\n",
    "    return wrapper()\n",
    "func('hello')\n",
    "#started\n",
    "#hello\n",
    "#ended"
   ]
  },
  {
   "cell_type": "code",
   "execution_count": 111,
   "id": "dbcd3cf6",
   "metadata": {},
   "outputs": [
    {
     "name": "stdout",
     "output_type": "stream",
     "text": [
      "<function func.<locals>.wrapper at 0x00000219F4DB4C10>\n",
      "started\n",
      "hello\n",
      "ended\n",
      "None\n"
     ]
    }
   ],
   "source": [
    "def func(string):\n",
    "    def wrapper():\n",
    "        print('started')\n",
    "        print(string)\n",
    "        print('ended')\n",
    "    return wrapper\n",
    "x =func('hello')\n",
    "print(x)\n",
    "print(x())\n"
   ]
  },
  {
   "cell_type": "code",
   "execution_count": 116,
   "id": "617f0db9",
   "metadata": {},
   "outputs": [
    {
     "name": "stdout",
     "output_type": "stream",
     "text": [
      "start\n",
      "Hello\n",
      "end\n"
     ]
    }
   ],
   "source": [
    "def function(func):  # Step2\n",
    "    def wrapper():    # Step2.1 and Step4\n",
    "        print('start') # Step4.1\n",
    "        func()         # Step4.2\n",
    "        print('end')   # Step4.4\n",
    "    return wrapper    # Step2.2\n",
    "\n",
    "def test():           # Function to be wrapped step4.3\n",
    "    print('Hello')\n",
    "\n",
    "# Step1: Call function and assign the result (wrapper function) to f\n",
    "f = function(test) # Step2: f now holds a reference to the wrapper function\n",
    "f()  # Step3: Call the wrapper function using f\n"
   ]
  },
  {
   "cell_type": "markdown",
   "id": "e24c6486",
   "metadata": {},
   "source": [
    "#### Create decorator"
   ]
  },
  {
   "cell_type": "markdown",
   "id": "cd8d2267",
   "metadata": {},
   "source": [
    "- using a traditonal way "
   ]
  },
  {
   "cell_type": "code",
   "execution_count": 117,
   "id": "b12ae92f",
   "metadata": {},
   "outputs": [
    {
     "name": "stdout",
     "output_type": "stream",
     "text": [
      "<function func.<locals>.wrapper at 0x00000219F4D44D30>\n",
      "started\n",
      "i am func2\n",
      "ended\n",
      "started\n",
      "i am func3\n",
      "ended\n"
     ]
    }
   ],
   "source": [
    "def func(f):\n",
    "    def wrapper():\n",
    "        print('started')\n",
    "        f()\n",
    "        print('ended')\n",
    "    return wrapper\n",
    "\n",
    "def func2():\n",
    "    print('i am func2')\n",
    "    \n",
    "def func3():\n",
    "    print('i am func3')\n",
    "    \n",
    "x=func(func2)\n",
    "y=func(func3)\n",
    "print(x)\n",
    "x()\n",
    "y()"
   ]
  },
  {
   "cell_type": "markdown",
   "id": "1e0248a4",
   "metadata": {},
   "source": [
    "- using `@` keyword "
   ]
  },
  {
   "cell_type": "code",
   "execution_count": 122,
   "id": "270f2ed5",
   "metadata": {},
   "outputs": [
    {
     "name": "stdout",
     "output_type": "stream",
     "text": [
      "started\n",
      "i am func2\n",
      "ended\n",
      "=============\n",
      "started\n",
      "i am func3\n",
      "ended\n"
     ]
    }
   ],
   "source": [
    "def func(f):\n",
    "    def wrapper():\n",
    "        print('started')\n",
    "        f()\n",
    "        print('ended')\n",
    "    return wrapper\n",
    "@func\n",
    "def func2():\n",
    "    print('i am func2')\n",
    "@func    \n",
    "def func3():\n",
    "    print('i am func3')\n",
    "    \n",
    "#x=func(func2)\n",
    "#y=func(func3)\n",
    "func2()\n",
    "print('=============')\n",
    "func3()"
   ]
  },
  {
   "cell_type": "markdown",
   "id": "37f2414c",
   "metadata": {},
   "source": [
    "##### compare using traditonal decorator or with the `@`\n"
   ]
  },
  {
   "cell_type": "markdown",
   "id": "dd88317e",
   "metadata": {},
   "source": [
    "- traditional "
   ]
  },
  {
   "cell_type": "code",
   "execution_count": 123,
   "id": "6eb49b83",
   "metadata": {},
   "outputs": [
    {
     "name": "stdout",
     "output_type": "stream",
     "text": [
      "This is Decorator\n",
      "This is Function\n"
     ]
    }
   ],
   "source": [
    "def my_decorator(func):\n",
    "    print('This is Decorator')\n",
    "    return func\n",
    "def my_func():\n",
    "    print('This is Function')\n",
    "#initialize \n",
    "my_func = my_decorator(my_func)\n",
    "my_func()\n"
   ]
  },
  {
   "cell_type": "markdown",
   "id": "ef768552",
   "metadata": {},
   "source": [
    "- @decorator"
   ]
  },
  {
   "cell_type": "code",
   "execution_count": 124,
   "id": "87924c14",
   "metadata": {},
   "outputs": [
    {
     "name": "stdout",
     "output_type": "stream",
     "text": [
      "This is Decorator\n",
      "This is Function\n"
     ]
    }
   ],
   "source": [
    "def my_decorator(func):\n",
    "    print('This is Decorator')\n",
    "    return func\n",
    "\n",
    "@my_decorator\n",
    "def my_func():\n",
    "    print('This is Function')\n",
    "\n",
    "#initialize \n",
    "#my_func = my_decorator(my_func)\n",
    "my_func()\n"
   ]
  },
  {
   "cell_type": "markdown",
   "id": "c3f7891b",
   "metadata": {},
   "source": [
    "##### Passing argument using args and kywargs"
   ]
  },
  {
   "cell_type": "code",
   "execution_count": 128,
   "id": "26b08cbb",
   "metadata": {},
   "outputs": [
    {
     "ename": "TypeError",
     "evalue": "func() takes 0 positional arguments but 1 was given",
     "output_type": "error",
     "traceback": [
      "\u001b[1;31m---------------------------------------------------------------------------\u001b[0m",
      "\u001b[1;31mTypeError\u001b[0m                                 Traceback (most recent call last)",
      "Cell \u001b[1;32mIn[128], line 9\u001b[0m\n\u001b[0;32m      5\u001b[0m         \u001b[38;5;28mprint\u001b[39m(\u001b[38;5;124m'\u001b[39m\u001b[38;5;124mended\u001b[39m\u001b[38;5;124m'\u001b[39m)\n\u001b[0;32m      6\u001b[0m     \u001b[38;5;28;01mreturn\u001b[39;00m wrapper\n\u001b[0;32m      8\u001b[0m \u001b[38;5;129;43m@func\u001b[39;49m\n\u001b[1;32m----> 9\u001b[0m \u001b[38;5;28;43;01mdef\u001b[39;49;00m\u001b[43m \u001b[49m\u001b[38;5;21;43mfunc2\u001b[39;49m\u001b[43m(\u001b[49m\u001b[43m)\u001b[49m\u001b[43m:\u001b[49m\n\u001b[0;32m     10\u001b[0m \u001b[43m    \u001b[49m\u001b[38;5;28;43mprint\u001b[39;49m\u001b[43m(\u001b[49m\u001b[38;5;124;43m'\u001b[39;49m\u001b[38;5;124;43mI am fun2\u001b[39;49m\u001b[38;5;124;43m'\u001b[39;49m\u001b[43m)\u001b[49m\n\u001b[0;32m     11\u001b[0m \u001b[38;5;129m@func\u001b[39m \n\u001b[0;32m     12\u001b[0m \u001b[38;5;28;01mdef\u001b[39;00m \u001b[38;5;21mfunc3\u001b[39m():\n",
      "\u001b[1;31mTypeError\u001b[0m: func() takes 0 positional arguments but 1 was given"
     ]
    }
   ],
   "source": [
    "def func():\n",
    "    def wrapper():\n",
    "        print('started')\n",
    "        f()\n",
    "        print('ended')\n",
    "    return wrapper\n",
    "\n",
    "@func\n",
    "def func2():\n",
    "    print('I am fun2')\n",
    "@func \n",
    "def func3():\n",
    "    print('I am fun3')\n",
    "\n",
    "func3(33)"
   ]
  },
  {
   "cell_type": "code",
   "execution_count": 132,
   "id": "18823f0b",
   "metadata": {},
   "outputs": [
    {
     "name": "stdout",
     "output_type": "stream",
     "text": [
      "started\n",
      "33\n",
      "ended\n"
     ]
    }
   ],
   "source": [
    "def func(f):\n",
    "    def wrapper(x):\n",
    "        print('started')\n",
    "        f(x)\n",
    "        print('ended')\n",
    "    return wrapper\n",
    "\n",
    "@func\n",
    "def func2():\n",
    "    print('I am fun2')\n",
    "@func \n",
    "def func3(x):\n",
    "    print(x)\n",
    "\n",
    "func3(33)\n",
    "#func2()"
   ]
  },
  {
   "cell_type": "code",
   "execution_count": 134,
   "id": "836463bb",
   "metadata": {},
   "outputs": [
    {
     "name": "stdout",
     "output_type": "stream",
     "text": [
      "started\n",
      "33\n",
      "ended\n",
      "started\n",
      "I am fun2\n",
      "ended\n"
     ]
    }
   ],
   "source": [
    "def func(f):\n",
    "    def wrapper(*args, **kwargs):\n",
    "        print('started')\n",
    "        f(*args, **kwargs)\n",
    "        print('ended')\n",
    "    return wrapper\n",
    "\n",
    "@func\n",
    "def func2():\n",
    "    print('I am fun2')\n",
    "@func \n",
    "def func3(x):\n",
    "    print(x)\n",
    "\n",
    "func3(33)\n",
    "func2()"
   ]
  },
  {
   "cell_type": "code",
   "execution_count": 135,
   "id": "b4336e4a",
   "metadata": {},
   "outputs": [
    {
     "name": "stdout",
     "output_type": "stream",
     "text": [
      "started\n",
      "ended\n",
      "11\n",
      "started\n",
      "ended\n",
      "15\n"
     ]
    }
   ],
   "source": [
    "#adding return \n",
    "def func(f):\n",
    "    def wrapper(*args, **kwargs):\n",
    "        print('started')\n",
    "        result=f(*args, **kwargs)\n",
    "        print('ended')\n",
    "        return result\n",
    "    return wrapper\n",
    "\n",
    "@func\n",
    "def func2(x,y):\n",
    "    return x+y\n",
    "@func \n",
    "def func3():\n",
    "    print('i am fun3')\n",
    "\n",
    "@func \n",
    "def test(a, b=10):\n",
    "    return a+b\n",
    "\n",
    "x=func2(5,6)\n",
    "print(x)\n",
    "y=test(5)\n",
    "print(y)"
   ]
  },
  {
   "cell_type": "markdown",
   "id": "becb3362",
   "metadata": {},
   "source": [
    "- example"
   ]
  },
  {
   "cell_type": "code",
   "execution_count": 136,
   "id": "ede991b4",
   "metadata": {},
   "outputs": [
    {
     "name": "stdout",
     "output_type": "stream",
     "text": [
      "wrapper execute this before display_info\n",
      "hello run argument : CC 30\n",
      "wrapper execute this before display\n",
      "hello world run\n"
     ]
    }
   ],
   "source": [
    "def decorator_Function(orginal_function):\n",
    "    def wrapper(*args, **kwargs):\n",
    "        print('wrapper execute this before {}'.format(orginal_function.__name__))\n",
    "        return orginal_function(*args, **kwargs)\n",
    "    return wrapper\n",
    "\n",
    "\n",
    "@decorator_Function\n",
    "def display_info(name, age):\n",
    "    print(f'hello run argument : {name} {age}')\n",
    "    \n",
    "@decorator_Function\n",
    "def display():\n",
    "    print('hello world run')    \n",
    "    \n",
    "#decoratorFunction=decorator_Function(display)\n",
    "display_info('CC', 30)\n",
    "display()\n"
   ]
  },
  {
   "cell_type": "markdown",
   "id": "f7f9d34d",
   "metadata": {},
   "source": [
    "##### Wrap built-in"
   ]
  },
  {
   "cell_type": "code",
   "execution_count": 138,
   "id": "06817074",
   "metadata": {},
   "outputs": [
    {
     "name": "stdout",
     "output_type": "stream",
     "text": [
      "GOOD MORNING\n",
      "greet\n",
      "None\n"
     ]
    }
   ],
   "source": [
    "import functools \n",
    "def decorator(func):\n",
    "    @functools.wraps(func)\n",
    "    def inner():\n",
    "        str1=func()\n",
    "        return str1.upper()\n",
    "    return inner\n",
    "\n",
    "@decorator\n",
    "def greet():\n",
    "    return 'good morning'\n",
    "\n",
    "print(greet())\n",
    "print(greet.__name__)\n",
    "print(greet.__doc__)\n"
   ]
  },
  {
   "cell_type": "markdown",
   "id": "96ef5d76",
   "metadata": {},
   "source": [
    "- compare with wrap and without"
   ]
  },
  {
   "cell_type": "code",
   "execution_count": 140,
   "id": "144038f6",
   "metadata": {},
   "outputs": [
    {
     "name": "stdout",
     "output_type": "stream",
     "text": [
      "GOOD MORNING\n",
      "greet\n",
      "Hello this is greet() function\n"
     ]
    }
   ],
   "source": [
    "#without wrap\n",
    "import functools \n",
    "def decorator(func):\n",
    "    @functools.wraps(func)\n",
    "    def inner():\n",
    "        str1=func()\n",
    "        return str1.upper()\n",
    "    return inner\n",
    "\n",
    "@decorator\n",
    "def greet():\n",
    "    '''Hello this is greet() function'''\n",
    "    return 'good morning'\n",
    "\n",
    "print(greet())\n",
    "print(greet.__name__)\n",
    "print(greet.__doc__)\n"
   ]
  },
  {
   "cell_type": "code",
   "execution_count": 141,
   "id": "62d199dc",
   "metadata": {},
   "outputs": [
    {
     "name": "stdout",
     "output_type": "stream",
     "text": [
      "GOOD MORNING\n",
      "inner\n",
      "None\n"
     ]
    }
   ],
   "source": [
    "#with wrap\n",
    "import functools \n",
    "def decorator(func):\n",
    "   #@functools.wraps(func)\n",
    "    def inner():\n",
    "        str1=func()\n",
    "        return str1.upper()\n",
    "    return inner\n",
    "\n",
    "@decorator\n",
    "def greet():\n",
    "    '''Hello this is greet() function'''\n",
    "    return 'good morning'\n",
    "\n",
    "print(greet())\n",
    "print(greet.__name__)\n",
    "print(greet.__doc__)\n"
   ]
  },
  {
   "cell_type": "markdown",
   "id": "25091a99",
   "metadata": {},
   "source": [
    "##### Decorator contain parameter\n",
    " - single parameter"
   ]
  },
  {
   "cell_type": "code",
   "execution_count": 152,
   "id": "00634304",
   "metadata": {},
   "outputs": [
    {
     "name": "stdout",
     "output_type": "stream",
     "text": [
      "hello chenchih\n"
     ]
    }
   ],
   "source": [
    "def outer(exp):#step3.1\n",
    "    def decoratorfunction(func): #step4\n",
    "        def wrapper(): #step6\n",
    "            return func()+exp #step7\n",
    "        return wrapper #step5\n",
    "    return decoratorfunction #step3.2\n",
    "@outer(' chenchih') #step2\n",
    "def ordinary(): #step7.1\n",
    "    return 'hello' #step7.2\n",
    "print(ordinary()) #step1, 7.3"
   ]
  },
  {
   "cell_type": "markdown",
   "id": "e2024b66",
   "metadata": {},
   "source": [
    "- Create multiple Decorator"
   ]
  },
  {
   "cell_type": "code",
   "execution_count": 1,
   "id": "6a948c25",
   "metadata": {},
   "outputs": [
    {
     "name": "stdout",
     "output_type": "stream",
     "text": [
      "['GOOD', 'MORNING']\n"
     ]
    }
   ],
   "source": [
    "def upper_string(func):\n",
    "    def inner():\n",
    "        str1=func()\n",
    "        return str1.upper()\n",
    "    return inner\n",
    "#split string into list\n",
    "def str_split(func):\n",
    "    def wrapper():\n",
    "        str2=func()\n",
    "        return str2.split()\n",
    "    return wrapper\n",
    "@str_split\n",
    "@upper_string\n",
    "def ordinary():\n",
    "    return \"good morning\"\n",
    "print(ordinary())"
   ]
  },
  {
   "cell_type": "markdown",
   "id": "d995dcfa-d29a-4e40-a075-83ca65281ad1",
   "metadata": {},
   "source": [
    "### Class Decorators "
   ]
  },
  {
   "cell_type": "markdown",
   "id": "87a57549",
   "metadata": {},
   "source": [
    "#### Ex1: no parameter function"
   ]
  },
  {
   "cell_type": "code",
   "execution_count": 36,
   "id": "8f58d203",
   "metadata": {},
   "outputs": [
    {
     "name": "stdout",
     "output_type": "stream",
     "text": [
      "GOOD MORNING\n"
     ]
    }
   ],
   "source": [
    "class Decorator:\n",
    "    def __init__(self,func):\n",
    "        self.func=func\n",
    "    def __call__(self):\n",
    "        str1=self.func()\n",
    "        return str1.upper()\n",
    "\n",
    "@Decorator\n",
    "def greet():\n",
    "    return 'good morning'\n",
    "print(greet())\n"
   ]
  },
  {
   "cell_type": "code",
   "execution_count": 2,
   "id": "57f8f97a-648c-4e2e-a235-87b1cde3ae4a",
   "metadata": {},
   "outputs": [
    {
     "name": "stdout",
     "output_type": "stream",
     "text": [
      "This is Decorator\n",
      "This is Function\n"
     ]
    }
   ],
   "source": [
    "class MyDecorator:\n",
    "    def __init__(self, func):\n",
    "        self.func = func\n",
    "\n",
    "    def __call__(self):\n",
    "        print('This is Decorator')\n",
    "        return self.func()\n",
    "        \n",
    "@MyDecorator\n",
    "def my_func():\n",
    "    print('This is Function')\n",
    "\n",
    "# initialize\n",
    "my_func()"
   ]
  },
  {
   "cell_type": "markdown",
   "id": "501ba9c5",
   "metadata": {},
   "source": [
    "#### Ex2: passing argument `**args` and `**kargs`"
   ]
  },
  {
   "cell_type": "code",
   "execution_count": 37,
   "id": "1e283e1e",
   "metadata": {},
   "outputs": [
    {
     "name": "stdout",
     "output_type": "stream",
     "text": [
      "call methid execute this before display_info\n",
      "hello run argument : CC 30\n",
      "call methid execute this before display\n",
      "hello world run\n"
     ]
    }
   ],
   "source": [
    "class decorator_class(object):\n",
    "    def __init__(self, orginal_function ):\n",
    "        self.orginal_function=orginal_function\n",
    "    def __call__(self,*args, **kwargs ):\n",
    "        print('call methid execute this before {}'.format(self.orginal_function.__name__))\n",
    "        return self.orginal_function(*args, **kwargs)\n",
    "    \n",
    "@decorator_class\n",
    "def display_info(name, age):\n",
    "    print(f'hello run argument : {name} {age}')\n",
    "    \n",
    "@decorator_class\n",
    "def display():\n",
    "    print('hello world run')  \n",
    "display_info('CC', 30)\n",
    "display()\n"
   ]
  },
  {
   "cell_type": "markdown",
   "id": "e400f3ca-ac9b-41c5-a08c-543e4605d1cb",
   "metadata": {},
   "source": [
    "## Example of decorators\n",
    "\n",
    "- Basic Example \n",
    "    - [Ex1:Division two number](#Ex1:Division-two-number\n",
    "):\n",
    "- Real Time Example\n",
    "    - [EX1: Calculate time for looping](#EX1:-Calculate-time-for-looping\n",
    "):\n",
    "   - [Ex2: Calculate time to square](#Ex2:-Calculate-time-to-square\n",
    "):\n",
    "   - [Ex3 write to log file](#Ex3-write-to-log-file\n",
    "):\n",
    "   - [Ex4: change word in list and remove -](#Ex4:-change-word-in-list-and-remove--\n",
    "):\n"
   ]
  },
  {
   "cell_type": "markdown",
   "id": "817269cb-e406-4b20-8752-37a1a67a7ac5",
   "metadata": {},
   "source": [
    "### Basic Example"
   ]
  },
  {
   "cell_type": "markdown",
   "id": "1c858394-58f4-4528-b1f5-60c9b3cca3a9",
   "metadata": {
    "tags": []
   },
   "source": [
    "#### Ex1:Division two number"
   ]
  },
  {
   "cell_type": "code",
   "execution_count": 26,
   "id": "ba51405c-cf56-4b9c-92d0-954421734108",
   "metadata": {},
   "outputs": [
    {
     "name": "stdout",
     "output_type": "stream",
     "text": [
      "Dividing 5 by 10\n",
      "[Note:]a less than b, swap value\n",
      "2.0\n"
     ]
    }
   ],
   "source": [
    "def checing_divide(func):\n",
    "    def inner(a,b):\n",
    "        print(\"Dividing\", a, \"by\", b)\n",
    "        if b==0:\n",
    "            print('Error, cannot divide by 0')\n",
    "            #a,b=b,a\n",
    "            return exit(2)\n",
    "        elif a<b:\n",
    "            a,b=b,a\n",
    "            print(\"[Note:]a less than b, swap value\")\n",
    "        return func(a,b)\n",
    "    return inner\n",
    "\n",
    "@checing_divide\n",
    "def divide(a,b):\n",
    "    return a/b\n",
    "number1= divide(5,10)\n",
    "print(number1)\n"
   ]
  },
  {
   "cell_type": "markdown",
   "id": "48d7417c-3d95-48f4-b4b5-62a48e9d4305",
   "metadata": {},
   "source": [
    "### Real Time Example"
   ]
  },
  {
   "cell_type": "markdown",
   "id": "de1587be-a652-470e-b303-266565ea2bc7",
   "metadata": {},
   "source": [
    "#### EX1: Calculate time for looping "
   ]
  },
  {
   "cell_type": "code",
   "execution_count": 20,
   "id": "d911f052-2236-45eb-aef8-c73b45a75ca5",
   "metadata": {},
   "outputs": [
    {
     "name": "stdout",
     "output_type": "stream",
     "text": [
      "time: 0.004994630813598633\n",
      "time: 3.011268377304077\n"
     ]
    }
   ],
   "source": [
    "import time\n",
    "def timer(func):\n",
    "    def wrapper(*args, **kwargs):\n",
    "        start=time.time()\n",
    "        rv=func()\n",
    "        total=time.time()-start\n",
    "        print('time:', total)\n",
    "        return rv\n",
    "    return wrapper\n",
    "\n",
    "@timer\n",
    "def test():\n",
    "    for i in range(100000):\n",
    "        pass\n",
    "@timer\n",
    "def test2():\n",
    "    time.sleep(3)\n",
    "test()\n",
    "test2()\n"
   ]
  },
  {
   "cell_type": "markdown",
   "id": "e7efd498-83f2-414b-abb2-6eb4eb8c9ef6",
   "metadata": {},
   "source": [
    "#### Ex2: Calculate time to square "
   ]
  },
  {
   "cell_type": "code",
   "execution_count": 21,
   "id": "b20a78ae-c60c-420d-b98c-cf88352eaa7d",
   "metadata": {},
   "outputs": [
    {
     "name": "stdout",
     "output_type": "stream",
     "text": [
      "square  took: 0.0milsecond\n"
     ]
    }
   ],
   "source": [
    "#without decorator\n",
    "import time\n",
    "def calc_square(x):\n",
    "    start=time.time()\n",
    "    result=[]\n",
    "    for i in x:\n",
    "        result.append(i*i)\n",
    "    end=time.time()\n",
    "    print('square ' +' took: '+ str((end-start)*1000)+'milsecond')\n",
    "    return result\n",
    "\n",
    "array=range(1,100)\n",
    "square=calc_square(array)\n"
   ]
  },
  {
   "cell_type": "code",
   "execution_count": 22,
   "id": "8ddca86a-a04a-4165-b165-93abadf7e85b",
   "metadata": {},
   "outputs": [
    {
     "name": "stdout",
     "output_type": "stream",
     "text": [
      "calc_square took: 0.0milsecond\n"
     ]
    }
   ],
   "source": [
    "#with decorator\n",
    "import time\n",
    "def time_it(func):\n",
    "    def wrapper(*args, **kwargs):\n",
    "        start=time.time()\n",
    "        result=func(*args, **kwargs)\n",
    "        end=time.time()\n",
    "        print(func.__name__ +' took: '+ str((end-start)*1000)+'milsecond')\n",
    "        return result\n",
    "    return wrapper\n",
    "@time_it\n",
    "def calc_square(x):\n",
    "    result=[]\n",
    "    for i in x:\n",
    "        result.append(i*i)\n",
    "    return result\n",
    "\n",
    "array=range(1,100)\n",
    "square=calc_square(array)\n"
   ]
  },
  {
   "cell_type": "markdown",
   "id": "322acee6-2f73-4bb3-8144-d26d006bf424",
   "metadata": {},
   "source": [
    "#### Ex3 write to log file"
   ]
  },
  {
   "cell_type": "code",
   "execution_count": 23,
   "id": "b8490a8d-a172-4e22-8b9e-85e9b00c5f58",
   "metadata": {},
   "outputs": [
    {
     "name": "stdout",
     "output_type": "stream",
     "text": [
      "func return valued 120\n",
      "120\n"
     ]
    }
   ],
   "source": [
    "#write log to a file\n",
    "def logged(func):\n",
    "    def wrapper(*args, **kwargs):\n",
    "        value=func(*args, **kwargs)\n",
    "        with open('loggile.txt','a+') as fwrite:\n",
    "            functionanme=func.__name__\n",
    "            print(f\"{functionanme} return valued {value}\")\n",
    "            fwrite.write(f\"{functionanme} returned value {value}\")\n",
    "        return value\n",
    "    return wrapper\n",
    "@logged\n",
    "def func(a,b):\n",
    "    return a+b\n",
    "print(func(100,20))\n",
    "        \n"
   ]
  },
  {
   "cell_type": "markdown",
   "id": "24d39c4d-732b-4ddb-aa8a-460df57e93cb",
   "metadata": {},
   "source": [
    "#### Ex4: change word in list and remove -"
   ]
  },
  {
   "cell_type": "code",
   "execution_count": 24,
   "id": "cefe756b-bca8-4b72-a225-46df8e6deb86",
   "metadata": {},
   "outputs": [],
   "source": [
    "def mapper(fnc):\n",
    "    def inner(list_of_values):\n",
    "        \"\"\"This is the inner()\"\"\"\n",
    "        #return [fnc(value) for value in list_of_values]\n",
    "        processed_values = []\n",
    "        \n",
    "        \n",
    "        for value in list_of_values:\n",
    "            processed_value = fnc(value)\n",
    "            processed_values.append(processed_value)\n",
    "        return processed_values\n",
    "    return inner\n",
    "@mapper\n",
    "def camelcase(s):\n",
    "    \"\"\"Turn strings_like_this into StringsLikeThis\"\"\"\n",
    "    #return ''.join([word.capitalize() for word in s.split('_')])\n",
    "    camelcased_words = []\n",
    "    for word in s.split('_'):\n",
    "        camelcased_word = word.capitalize()\n",
    "        camelcased_words.append(camelcased_word)\n",
    "    return ''.join(camelcased_words)\n",
    "    \n",
    "names = [\n",
    "    'rick_ross',\n",
    "    'a$ap_rocky',\n",
    "    'snoop_dogg'\n",
    "]\n"
   ]
  },
  {
   "cell_type": "markdown",
   "id": "4714edb6-204a-44b7-94ad-9f2a0db36d88",
   "metadata": {},
   "source": [
    "## Reference\n",
    "- https://www.programiz.com/python-programming/decorator\n",
    "- https://www.freecodecamp.org/news/python-decorators-explained-with-examples/\n",
    "- https://osf.io/szwhk\n",
    "- https://www.pythontutorial.net/advanced-python/python-closures/\n",
    "- https://www.youtube.com/watch?v=FsAPt_9Bf3U\n",
    "- https://www.youtube.com/playlist?list=PLzgPDYo_3xukWUakgF-OJvDOChq6drPG2\n",
    "- https://www.youtube.com/watch?v=8hWIWyBfdQE&t=334s \n",
    "- https://www.youtube.com/watch?v=yNzxXZfkLUA&t=320s\n",
    "- https://www.youtube.com/watch?v=3XRSULw-HlE \n",
    "- https://www.youtube.com/watch?v=iZZtEJjQLjQ&t=305s\n",
    "- https://www.youtube.com/watch?v=nYDKH9fvlBY"
   ]
  },
  {
   "cell_type": "code",
   "execution_count": null,
   "id": "8dec94a4-880c-414b-af1a-ba526fe0ea87",
   "metadata": {},
   "outputs": [],
   "source": []
  }
 ],
 "metadata": {
  "kernelspec": {
   "display_name": "Python 3 (ipykernel)",
   "language": "python",
   "name": "python3"
  },
  "language_info": {
   "codemirror_mode": {
    "name": "ipython",
    "version": 3
   },
   "file_extension": ".py",
   "mimetype": "text/x-python",
   "name": "python",
   "nbconvert_exporter": "python",
   "pygments_lexer": "ipython3",
   "version": "3.10.9"
  }
 },
 "nbformat": 4,
 "nbformat_minor": 5
}
