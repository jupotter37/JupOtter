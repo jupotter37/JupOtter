{
  "nbformat": 4,
  "nbformat_minor": 0,
  "metadata": {
    "colab": {
      "provenance": []
    },
    "kernelspec": {
      "name": "python3",
      "display_name": "Python 3"
    },
    "language_info": {
      "name": "python"
    }
  },
  "cells": [
    {
      "cell_type": "code",
      "execution_count": null,
      "metadata": {
        "id": "BtEJQzG9aW75"
      },
      "outputs": [],
      "source": [
        "######################################\n",
        "# Importando as libraries\n",
        "######################################\n",
        "\n",
        "import numpy as np\n",
        "import pandas as pd\n",
        "import sklearn.model_selection as ms\n",
        "import sklearn.linear_model as lm\n",
        "import matplotlib.pyplot as plt"
      ]
    },
    {
      "cell_type": "markdown",
      "source": [
        "# Nova seção"
      ],
      "metadata": {
        "id": "KeU1AZHs9mk3"
      }
    },
    {
      "cell_type": "code",
      "source": [
        "######################################\n",
        "# Importa o dataset\n",
        "######################################\n",
        "dataset =pd.read_csv(\"/content/sample_data/dba_sql_us_salary_experience.csv\")\n",
        "\n",
        "dataset = dataset.dropna()\n",
        "x = dataset.iloc[:, :-1]\n",
        "y = dataset.iloc[:, -1]"
      ],
      "metadata": {
        "id": "igjx5iMBaiMh"
      },
      "execution_count": null,
      "outputs": []
    },
    {
      "cell_type": "code",
      "source": [
        "######################################\n",
        "# Separar dados em Treino e Teste\n",
        "######################################\n",
        "\n",
        "x_train, x_test, y_train, y_test = ms.train_test_split(x, y, random_state = 0)"
      ],
      "metadata": {
        "id": "ahjtN3BzakEI"
      },
      "execution_count": null,
      "outputs": []
    },
    {
      "cell_type": "code",
      "source": [
        "######################################\n",
        "# Treinando o modelo\n",
        "######################################\n",
        "\n",
        "regressor = lm.LinearRegression()\n",
        "regressor.fit(x_train, y_train)"
      ],
      "metadata": {
        "id": "uQ3ljCTyapA3",
        "colab": {
          "base_uri": "https://localhost:8080/"
        },
        "outputId": "2d5b7b69-7280-4547-9885-4d2939afb3f5"
      },
      "execution_count": null,
      "outputs": [
        {
          "output_type": "execute_result",
          "data": {
            "text/plain": [
              "LinearRegression()"
            ]
          },
          "metadata": {},
          "execution_count": 17
        }
      ]
    },
    {
      "cell_type": "code",
      "source": [
        "######################################\n",
        "# Previsao\n",
        "######################################\n",
        "\n",
        "y_pred = regressor.predict(x_test)"
      ],
      "metadata": {
        "id": "U5xVGJ33arnA"
      },
      "execution_count": null,
      "outputs": []
    },
    {
      "cell_type": "code",
      "source": [
        "######################################\n",
        "# Visualizando o treino\n",
        "######################################\n",
        "\n",
        "plt.scatter(x_train, y_train, color = 'red')\n",
        "plt.plot(x_train, regressor.predict(x_train), color = 'blue', scaley=False)\n",
        "plt.title('Treino')\n",
        "plt.show()\n"
      ],
      "metadata": {
        "id": "33hVuEsYatuq",
        "colab": {
          "base_uri": "https://localhost:8080/",
          "height": 281
        },
        "outputId": "906d845f-614e-4adf-e1c1-31e9c22c2c8c"
      },
      "execution_count": null,
      "outputs": [
        {
          "output_type": "display_data",
          "data": {
            "text/plain": [
              "<Figure size 432x288 with 1 Axes>"
            ],
            "image/png": "[encoded data removed]"
          },
          "metadata": {
            "needs_background": "light"
          }
        }
      ]
    },
    {
      "cell_type": "code",
      "source": [
        "\n",
        "######################################\n",
        "# Visualizando o teste\n",
        "######################################\n",
        "\n",
        "plt.scatter(x_test, y_test, color = 'red')\n",
        "plt.plot(x_train, regressor.predict(x_train), color = 'blue', scaley=False)\n",
        "plt.title('Teste')\n",
        "plt.show()"
      ],
      "metadata": {
        "id": "xg2zkFfWaxZn",
        "colab": {
          "base_uri": "https://localhost:8080/",
          "height": 281
        },
        "outputId": "5eccd20f-f770-4a90-d329-6d79b3fb9947"
      },
      "execution_count": null,
      "outputs": [
        {
          "output_type": "display_data",
          "data": {
            "text/plain": [
              "<Figure size 432x288 with 1 Axes>"
            ],
            "image/png": "[encoded data removed]"
          },
          "metadata": {
            "needs_background": "light"
          }
        }
      ]
    },
    {
      "cell_type": "code",
      "source": [
        "a = int(input('Escolha os anos de experiencia: '))\n",
        "pred = regressor.predict([[a]])\n",
        "print(regressor.predict([[a]]))"
      ],
      "metadata": {
        "colab": {
          "base_uri": "https://localhost:8080/",
          "height": 133
        },
        "id": "Czjf7oxxHRoC",
        "outputId": "cafb1d5c-02bf-4e3a-acd3-9da0aa46e665"
      },
      "execution_count": null,
      "outputs": [
        {
          "output_type": "error",
          "ename": "IndentationError",
          "evalue": "ignored",
          "traceback": [
            "\u001b[0;36m  File \u001b[0;32m\"<ipython-input-1-5d4d42f62cc8>\"\u001b[0;36m, line \u001b[0;32m2\u001b[0m\n\u001b[0;31m    np.unique= regressor.predict([[a]])\u001b[0m\n\u001b[0m    ^\u001b[0m\n\u001b[0;31mIndentationError\u001b[0m\u001b[0;31m:\u001b[0m unexpected indent\n"
          ]
        }
      ]
    },
    {
      "cell_type": "code",
      "source": [
        "import pickle\n",
        "pickle.dump(regressor, open('model.pkl','wb')) #salvando o modelo de machine learning"
      ],
      "metadata": {
        "id": "MSxGpxsIWD7T"
      },
      "execution_count": null,
      "outputs": []
    }
  ]
}