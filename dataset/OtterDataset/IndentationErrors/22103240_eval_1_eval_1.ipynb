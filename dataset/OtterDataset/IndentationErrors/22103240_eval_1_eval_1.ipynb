{
 "cells": [
  {
   "cell_type": "code",
   "execution_count": 19,
   "metadata": {},
   "outputs": [
    {
     "name": "stdout",
     "output_type": "stream",
     "text": [
      "enter the title of bookq\n",
      "enter the author of book2w\n",
      "enter the isbn code of booke\n",
      "enter the gener of bookr\n",
      "enter the avalibility of bookt\n"
     ]
    },
    {
     "ename": "AttributeError",
     "evalue": "'dict' object has no attribute 'key'",
     "output_type": "error",
     "traceback": [
      "\u001b[1;31m---------------------------------------------------------------------------\u001b[0m",
      "\u001b[1;31mAttributeError\u001b[0m                            Traceback (most recent call last)",
      "\u001b[1;32m<ipython-input-19-8cbf030cbe00>\u001b[0m in \u001b[0;36m<module>\u001b[1;34m\u001b[0m\n\u001b[0;32m     15\u001b[0m \u001b[0mbook2\u001b[0m\u001b[1;33m=\u001b[0m\u001b[1;34m\"xyz\"\u001b[0m\u001b[1;33m\u001b[0m\u001b[1;33m\u001b[0m\u001b[0m\n\u001b[0;32m     16\u001b[0m \u001b[0mnew_dic\u001b[0m\u001b[1;33m=\u001b[0m\u001b[0madd_book\u001b[0m\u001b[1;33m(\u001b[0m\u001b[0mbook\u001b[0m\u001b[1;33m,\u001b[0m\u001b[0mbook2\u001b[0m\u001b[1;33m)\u001b[0m\u001b[1;33m\u001b[0m\u001b[1;33m\u001b[0m\u001b[0m\n\u001b[1;32m---> 17\u001b[1;33m \u001b[0mbook\u001b[0m\u001b[1;33m=\u001b[0m\u001b[1;33m{\u001b[0m\u001b[0mnew_dic\u001b[0m\u001b[1;33m.\u001b[0m\u001b[0mkey\u001b[0m\u001b[1;33m(\u001b[0m\u001b[1;33m)\u001b[0m\u001b[1;33m:\u001b[0m\u001b[0mnew_dic\u001b[0m\u001b[1;33m.\u001b[0m\u001b[0mvalue\u001b[0m\u001b[1;33m(\u001b[0m\u001b[1;33m)\u001b[0m\u001b[1;33m}\u001b[0m\u001b[1;33m\u001b[0m\u001b[1;33m\u001b[0m\u001b[0m\n\u001b[0m\u001b[0;32m     18\u001b[0m \u001b[0mprint\u001b[0m\u001b[1;33m(\u001b[0m\u001b[0mbook\u001b[0m\u001b[1;33m)\u001b[0m\u001b[1;33m\u001b[0m\u001b[1;33m\u001b[0m\u001b[0m\n",
      "\u001b[1;31mAttributeError\u001b[0m: 'dict' object has no attribute 'key'"
     ]
    }
   ],
   "source": [
    "def add_book(book,book2):\n",
    "    t=input(\"enter the title of book\")\n",
    "    a=input(\"enter the author of book2\")\n",
    "    i=input(\"enter the isbn code of book\")\n",
    "    g=input(\"enter the gener of book\")\n",
    "    ava=input(\"enter the avalibility of book\")\n",
    "    key=book2\n",
    "    value={\"title\": t,\"author\":a,\"isbn\":i,\"gener\":g,\"availibilty\":ava}\n",
    "    book={key:value};\n",
    "    return book\n",
    "\n",
    "\n",
    "\n",
    "book={\"book1\":{\"title\":\"xyz\",\"author\":\"prashant\",\"isbn\":\"abc\",\"gener\":\"action\",\"availibilty\":\"yes\"}}\n",
    "book2=\"xyz\"\n",
    "new_dic=add_book(book,book2)\n",
    "book={new_dic.key():new_dic.value()}\n",
    "print(book)\n"
   ]
  },
  {
   "cell_type": "code",
   "execution_count": 44,
   "metadata": {},
   "outputs": [
    {
     "ename": "IndentationError",
     "evalue": "expected an indented block (<ipython-input-44-53de67d39563>, line 21)",
     "output_type": "error",
     "traceback": [
      "\u001b[1;36m  File \u001b[1;32m\"<ipython-input-44-53de67d39563>\"\u001b[1;36m, line \u001b[1;32m21\u001b[0m\n\u001b[1;33m    return lis[isbn]\u001b[0m\n\u001b[1;37m         ^\u001b[0m\n\u001b[1;31mIndentationError\u001b[0m\u001b[1;31m:\u001b[0m expected an indented block\n"
     ]
    }
   ],
   "source": [
    "def add_book(book2):\n",
    "    t=input(\"enter the title of book\")\n",
    "    a=input(\"enter the author of book2\")\n",
    "    i=input(\"enter the isbn code of book\")\n",
    "    g=input(\"enter the gener of book\")\n",
    "    ava=input(\"enter the avalibility of book\")\n",
    "    key=book2\n",
    "    value={\"title\": t,\"author\":a,\"isbn\":i,\"gener\":g,\"availibilty\":ava}\n",
    "    book={}\n",
    "    book={key:value};\n",
    "    return book\n",
    "\n",
    "def update_book_detalis(book,book_no,change_item,changed_data):\n",
    "    book[book_no][change_item]=changed_data;\n",
    "    return book;\n",
    "    \n",
    "def search_by_isbn(book,isbn_):\n",
    "    lis=book.values()\n",
    "    for i in lis:\n",
    "        if(lis[isbn]==isbn_):\n",
    "    \n",
    "    \n",
    "\n",
    "book={\"book1\":{\"title\":\"xyz\",\"author\":\"prashant\",\"isbn\":\"abc\",\"gener\":\"action\",\"availibilty\":\"yes\"}}\n",
    "book2=\"xyz\"\n",
    "new_dic=add_book(book2)\n",
    "key=new_dic.keys()\n",
    "value=new_dic.values()\n",
    "book[key]=value\n",
    "print(book)"
   ]
  },
  {
   "cell_type": "code",
   "execution_count": 35,
   "metadata": {},
   "outputs": [
    {
     "ename": "SyntaxError",
     "evalue": "invalid syntax (<ipython-input-35-d1b508ff8093>, line 2)",
     "output_type": "error",
     "traceback": [
      "\u001b[1;36m  File \u001b[1;32m\"<ipython-input-35-d1b508ff8093>\"\u001b[1;36m, line \u001b[1;32m2\u001b[0m\n\u001b[1;33m    print(book[][\"title\"])\u001b[0m\n\u001b[1;37m               ^\u001b[0m\n\u001b[1;31mSyntaxError\u001b[0m\u001b[1;31m:\u001b[0m invalid syntax\n"
     ]
    }
   ],
   "source": [
    "book={\"book1\":{\"title\":\"xyz\",\"author\":\"prashant\",\"isbn\":\"abc\",\"gener\":\"action\",\"availibilty\":\"yes\"}}\n",
    "print(book[][\"title\"])\n"
   ]
  },
  {
   "cell_type": "code",
   "execution_count": 40,
   "metadata": {},
   "outputs": [
    {
     "name": "stdout",
     "output_type": "stream",
     "text": [
      "{1: 2, 2: 4}\n"
     ]
    }
   ],
   "source": [
    "dic={1:2}\n",
    "dic[2]=4\n",
    "print(dic)"
   ]
  },
  {
   "cell_type": "code",
   "execution_count": null,
   "metadata": {},
   "outputs": [],
   "source": []
  }
 ],
 "metadata": {
  "kernelspec": {
   "display_name": "Python 3",
   "language": "python",
   "name": "python3"
  },
  "language_info": {
   "codemirror_mode": {
    "name": "ipython",
    "version": 3
   },
   "file_extension": ".py",
   "mimetype": "text/x-python",
   "name": "python",
   "nbconvert_exporter": "python",
   "pygments_lexer": "ipython3",
   "version": "3.7.3"
  }
 },
 "nbformat": 4,
 "nbformat_minor": 2
}
