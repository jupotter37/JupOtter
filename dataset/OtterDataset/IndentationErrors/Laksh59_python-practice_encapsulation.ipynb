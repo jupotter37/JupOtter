{
 "cells": [
  {
   "cell_type": "code",
   "execution_count": 9,
   "id": "6f01159d-a7bc-46b5-bb21-43db2d4efb06",
   "metadata": {},
   "outputs": [
    {
     "name": "stdin",
     "output_type": "stream",
     "text": [
      " 45\n"
     ]
    },
    {
     "name": "stdout",
     "output_type": "stream",
     "text": [
      "23\n"
     ]
    }
   ],
   "source": [
    "#encapsulation\n",
    "#prgm tp find the sum of odd nums between 1 and n range\n",
    "class sum_odd:\n",
    "    def calc(self):\n",
    "        __n=int(input())\n",
    "        x=0\n",
    "        for i in range(1,__n+1,2):\n",
    "          x+=1\n",
    "        print(x)\n",
    "m=sum_odd()\n",
    "m.calc()       "
   ]
  },
  {
   "cell_type": "code",
   "execution_count": 11,
   "id": "4b7331c5-dc1c-4326-a8ea-eaaa9ecb74d7",
   "metadata": {},
   "outputs": [
    {
     "name": "stdin",
     "output_type": "stream",
     "text": [
      " 2\n"
     ]
    },
    {
     "name": "stdout",
     "output_type": "stream",
     "text": [
      "EVEN\n"
     ]
    }
   ],
   "source": [
    "#prgm to find given num is odd or even using class.if the num is odd print\"ODD\",else print \"EVEN\"\n",
    "class check:\n",
    "    def odd_even(self):\n",
    "        _n=int(input())\n",
    "        if _n%2==0:\n",
    "            print(\"EVEN\")\n",
    "        else:\n",
    "            print(\"ODD\")\n",
    "ob=check()\n",
    "ob.odd_even()"
   ]
  },
  {
   "cell_type": "code",
   "execution_count": 17,
   "id": "f25d2dc8-ce4b-4cb2-91a4-b3c866c2342f",
   "metadata": {},
   "outputs": [
    {
     "ename": "IndentationError",
     "evalue": "unindent does not match any outer indentation level (<string>, line 4)",
     "output_type": "error",
     "traceback": [
      "\u001b[1;36m  File \u001b[1;32m<string>:4\u001b[1;36m\u001b[0m\n\u001b[1;33m    get_bal():  #public\u001b[0m\n\u001b[1;37m                       ^\u001b[0m\n\u001b[1;31mIndentationError\u001b[0m\u001b[1;31m:\u001b[0m unindent does not match any outer indentation level\n"
     ]
    }
   ],
   "source": [
    "class bank a/c:\n",
    "__init__(self,owner,bal=0):\n",
    "  __bal #private attribute\n",
    " get_bal():  #public\n",
    "\n",
    " deposit(self,amt):\n",
    "  if amt>0:\n",
    "      self.__bal+=amt\n",
    "      print(bal)\n",
    "  else:\n",
    "      print(\"deposit amt should be greater than zero\")\n",
    "withdrawal(self,amt):\n",
    "   if 0<amt<=self._bal:\n",
    "       self.__bal-=amt\n",
    "       print(bal)\n",
    "   else:\n",
    "      print('insufficient amt')\n",
    "account=bank_account(\"lakshmi\",500)\n",
    "account.deposit(400)\n",
    "account.withdraw(200)\n",
    "#account.__balance()   #it will throw erroe,because its a private ATTRIBUTE\n",
    "account.get_bal()"
   ]
  }
 ],
 "metadata": {
  "kernelspec": {
   "display_name": "Python 3 (ipykernel)",
   "language": "python",
   "name": "python3"
  },
  "language_info": {
   "codemirror_mode": {
    "name": "ipython",
    "version": 3
   },
   "file_extension": ".py",
   "mimetype": "text/x-python",
   "name": "python",
   "nbconvert_exporter": "python",
   "pygments_lexer": "ipython3",
   "version": "3.12.4"
  }
 },
 "nbformat": 4,
 "nbformat_minor": 5
}
