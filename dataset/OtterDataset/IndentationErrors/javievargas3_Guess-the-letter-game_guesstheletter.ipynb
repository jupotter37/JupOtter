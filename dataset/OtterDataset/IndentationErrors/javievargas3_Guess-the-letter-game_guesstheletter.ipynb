{
 "cells": [
  {
   "cell_type": "markdown",
   "metadata": {},
   "source": [
    "**Create a Letter Guessing Game**\n",
    "\n",
    "Create a program that allows a user 7 chances to guess the correct word. If they do not guess the word after 7 tries, the player loses and the program will print the correct word. Otherwise, the play wins and the game.\n",
    "\n",
    "**How to build the program**\n",
    "* When you start the game, you will need to select a random word from a list of at least 10 words (You have full control over which words you want to use for you program). This will be your secret word. Your secret word will be represented in the program as a group of underscores. For as long as the word is, you should also have that many underscores. \n",
    "\n",
    "* Once the word is selected, your game will commence. Perform a Google search to figure out how to select a random word from a list using Python.<br>\n",
    "**Hint** There's package you can import into your application that does this for you.\n",
    "\n",
    "* The end user will have a total of 7 chances to guess the correct letter from the secret word. If the end user makes 7 incorrect guesses, the game will end.\n",
    "\n",
    "* As you guess the correct letters, the letters you have guess will then take place of the underscores that letter represents. <br>\n",
    "**For Example**: If your secret word is 'watermelon' and  so far you have guessed the letters 'a' and 'e', the word you're trying to guess will appear as follows: _ a _ e _ _ e _ _ _.<br>\n",
    "**Keep in mind** that if you guess a letter that appears more than once in your secret word, make sure that the letter is populated anywhere that letter would be."
   ]
  },
  {
   "cell_type": "code",
   "execution_count": 9,
   "metadata": {},
   "outputs": [
    {
     "ename": "IndentationError",
     "evalue": "expected an indented block (Temp/ipykernel_12408/1774033300.py, line 16)",
     "output_type": "error",
     "traceback": [
      "\u001b[1;36m  File \u001b[1;32m\"C:\\Users\\javie\\AppData\\Local\\Temp/ipykernel_12408/1774033300.py\"\u001b[1;36m, line \u001b[1;32m16\u001b[0m\n\u001b[1;33m    failed = 0\u001b[0m\n\u001b[1;37m    ^\u001b[0m\n\u001b[1;31mIndentationError\u001b[0m\u001b[1;31m:\u001b[0m expected an indented block\n"
     ]
    }
   ],
   "source": [
    "import random\n",
    "\n",
    "words = ['dallas', 'suns', 'jazz', 'bulls',\n",
    "'phyton', 'lakers', 'pacers', 'condition',\n",
    "'birds', 'avatar']\n",
    "\n",
    "word = random.choice(words)\n",
    "\n",
    "print(\"guess the letters friend\")\n",
    "\n",
    "guesses = ''\n",
    "turns = 10\n",
    "\n",
    "\n",
    "while turns > 0:\n",
    "failed = 0\n",
    "\n",
    "for char in word:\n",
    "\n",
    "if char in guesses:\n",
    "print(char, end=\" \")\n",
    "\n",
    "else:\n",
    "print(\"_\")\n",
    "print(char, end=\" \")\n",
    "failed += 1\n",
    "\n",
    "\n",
    "if failed == 0:\n",
    "print(\"you won\")\n",
    "print(\"correct word is: \", word)\n",
    "break\n",
    "\n",
    "print()\n",
    "guess = input(\"guess a letter\")\n",
    "guesses += guess\n",
    "if guess not in word:\n",
    "\n",
    "turns -= 1\n",
    "\n",
    "print(\"wrong letter\")\n",
    "\n",
    "\n",
    "print(\"You have\", + turns, 'remaining guesses')\n",
    "if turns == 0:\n",
    "print(\"game over\")\n"
   ]
  },
  {
   "cell_type": "code",
   "execution_count": null,
   "metadata": {},
   "outputs": [],
   "source": []
  },
  {
   "cell_type": "code",
   "execution_count": null,
   "metadata": {},
   "outputs": [],
   "source": []
  },
  {
   "cell_type": "code",
   "execution_count": null,
   "metadata": {},
   "outputs": [],
   "source": []
  },
  {
   "cell_type": "code",
   "execution_count": null,
   "metadata": {},
   "outputs": [],
   "source": []
  }
 ],
 "metadata": {
  "kernelspec": {
   "display_name": "Python 3 (ipykernel)",
   "language": "python",
   "name": "python3"
  },
  "language_info": {
   "codemirror_mode": {
    "name": "ipython",
    "version": 3
   },
   "file_extension": ".py",
   "mimetype": "text/x-python",
   "name": "python",
   "nbconvert_exporter": "python",
   "pygments_lexer": "ipython3",
   "version": "3.9.7"
  }
 },
 "nbformat": 4,
 "nbformat_minor": 2
}
