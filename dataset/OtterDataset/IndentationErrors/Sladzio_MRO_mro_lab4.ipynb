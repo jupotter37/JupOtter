{
 "cells": [
  {
   "cell_type": "code",
   "execution_count": 20,
   "metadata": {
    "collapsed": true
   },
   "outputs": [],
   "source": [
    "from sklearn.datasets import fetch_lfw_people\n",
    "from sklearn.metrics import accuracy_score\n",
    "from collections import defaultdict\n",
    "from sklearn.model_selection import train_test_split\n",
    "from sklearn.decomposition import PCA\n",
    "import numpy as np\n",
    "from matplotlib import pyplot as plt\n",
    "from sklearn.ensemble import AdaBoostClassifier,VotingClassifier\n",
    "from sklearn.tree import DecisionTreeClassifier\n",
    "from sklearn.neighbors import KNeighborsClassifier\n",
    "from sklearn.svm import SVC"
   ]
  },
  {
   "cell_type": "code",
   "execution_count": null,
   "metadata": {
    "collapsed": true
   },
   "outputs": [],
   "source": [
    "lfw = fetch_lfw_people(min_faces_per_person=70)\n",
    "lfw_data,lfw_target = lfw.data,lfw.target\n",
    "X_train, X_test, y_train, y_test = train_test_split(lfw_data, lfw_target, test_size=.25)\n",
    "n_components = 150\n",
    "pca = PCA(n_components=n_components,svd_solver='randomized',whiten=True).fit(X_train)\n",
    "pca_x_train = pca.transform(X_train)\n",
    "pca_x_test = pca.transform(X_test)"
   ]
  },
  {
   "cell_type": "code",
   "execution_count": 22,
   "metadata": {},
   "outputs": [
    {
     "ename": "IndentationError",
     "evalue": "unexpected indent (<ipython-input-22-a2046d5e6ffe>, line 15)",
     "output_type": "error",
     "traceback": [
      "\u001b[0;36m  File \u001b[0;32m\"<ipython-input-22-a2046d5e6ffe>\"\u001b[0;36m, line \u001b[0;32m15\u001b[0m\n\u001b[0;31m    name = lfw.target_names[person]\u001b[0m\n\u001b[0m    ^\u001b[0m\n\u001b[0;31mIndentationError\u001b[0m\u001b[0;31m:\u001b[0m unexpected indent\n"
     ]
    }
   ],
   "source": [
    "accuracies = defaultdict(list)\n",
    "k_values = range(1, 100, 5)\n",
    "for k in k_values:\n",
    "    clf = AdaBoostClassifier(n_estimators=k)\n",
    "    clf.fit(pca_x_train,y_train)\n",
    "    pred = clf.predict(pca_x_test)\n",
    "    for person in set(lfw_target):2\n",
    "            name = lfw.target_names[person]\n",
    "            accuracy = accuracy_score(y_test == person, pred == person)\n",
    "            accuracies[name].append(accuracy)\n",
    "for name, acc in accuracies.items():\n",
    "    plt.plot(k_values, acc, '-', label=name)\n",
    "plt.legend(ncol=2, loc=3)\n",
    "plt.ylabel('accuracy')\n",
    "plt.xlabel('k')\n",
    "plt.ylim(0, 1)\n",
    "plt.show()"
   ]
  },
  {
   "cell_type": "code",
   "execution_count": null,
   "metadata": {
    "collapsed": true
   },
   "outputs": [],
   "source": [
    "accuracies = defaultdict(list)\n",
    "k_values = range(1, 100, 5)\n",
    "neighbours_clf = KNeighborsClassifier(n_neighbors=3)\n",
    "svc_clf = SVC(kernel='rbf')\n",
    "decision_tree_clf = DecisionTreeClassifier(max_depth=5)\n",
    "voting_clf = VotingClassifier(estimators=[('3nn',neighbours_clf),('svc',svc_clf),('decision',decision_tree_clf)])\n",
    "\n"
   ]
  }
 ],
 "metadata": {
  "kernelspec": {
   "display_name": "Python 3",
   "language": "python",
   "name": "python3"
  },
  "language_info": {
   "codemirror_mode": {
    "name": "ipython",
    "version": 3
   },
   "file_extension": ".py",
   "mimetype": "text/x-python",
   "name": "python",
   "nbconvert_exporter": "python",
   "pygments_lexer": "ipython3",
   "version": "3.6.2"
  }
 },
 "nbformat": 4,
 "nbformat_minor": 2
}
