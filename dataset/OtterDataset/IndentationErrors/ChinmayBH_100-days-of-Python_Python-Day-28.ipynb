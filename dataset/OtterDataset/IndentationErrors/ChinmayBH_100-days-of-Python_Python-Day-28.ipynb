{
 "cells": [
  {
   "cell_type": "code",
   "execution_count": 1,
   "id": "1dcbc522-929f-4c93-a1c5-fc0606071665",
   "metadata": {},
   "outputs": [
    {
     "data": {
      "text/plain": [
       "'\\n(a) Right-Angled Triangle\\n'"
      ]
     },
     "execution_count": 1,
     "metadata": {},
     "output_type": "execute_result"
    }
   ],
   "source": [
    "\"\"\"\n",
    "(a) Right-Angled Triangle\n",
    "\"\"\"\n",
    "1\n",
    "12\n",
    "123\n",
    "1234\n",
    "12345"
   ]
  },
  {
   "cell_type": "code",
   "execution_count": 23,
   "id": "1fb041db-769a-4cde-a145-e0e05f6c7eae",
   "metadata": {},
   "outputs": [
    {
     "name": "stdout",
     "output_type": "stream",
     "text": [
      "\n",
      "1\n",
      "12\n",
      "123\n",
      "1234\n",
      "12345"
     ]
    }
   ],
   "source": [
    "num = 5\n",
    "for i in range(1,num+1):\n",
    "    print()\n",
    "    for j in range(1,i+1):\n",
    "        print(j,end = \"\")\n"
   ]
  },
  {
   "cell_type": "code",
   "execution_count": 24,
   "id": "c717d109-6e7f-43f1-98b8-df5a952d1e10",
   "metadata": {},
   "outputs": [
    {
     "data": {
      "text/plain": [
       "1"
      ]
     },
     "execution_count": 24,
     "metadata": {},
     "output_type": "execute_result"
    }
   ],
   "source": [
    "\"\"\"\n",
    "(b) Inverted Right-Angled Triangle\n",
    "\"\"\"\n",
    "12345\n",
    "1234\n",
    "123\n",
    "12\n",
    "1"
   ]
  },
  {
   "cell_type": "code",
   "execution_count": 28,
   "id": "9e998317-0186-446f-8d77-7509b872f35c",
   "metadata": {},
   "outputs": [],
   "source": [
    "num = 5\n",
    "for i in range(1,num+1,-1):\n",
    "    print()\n",
    "    for j in range(1,i+1):\n",
    "        print(j,end = \"\")"
   ]
  },
  {
   "cell_type": "code",
   "execution_count": 51,
   "id": "5630fca4-b1f3-46d4-9557-0ca2036be396",
   "metadata": {},
   "outputs": [
    {
     "name": "stdout",
     "output_type": "stream",
     "text": [
      "\n",
      "12345\n",
      "1234\n",
      "123\n",
      "12\n",
      "1"
     ]
    }
   ],
   "source": [
    "num = 5\n",
    "start = 1\n",
    "for i in range(num+1,start,-1):\n",
    "    print()\n",
    "    for j in range(1,i):\n",
    "        print(j,end = \"\")\n",
    "    \n"
   ]
  },
  {
   "cell_type": "code",
   "execution_count": 53,
   "id": "61382cea-4f58-49fd-8a60-fb19c6e01eb8",
   "metadata": {},
   "outputs": [
    {
     "ename": "IndentationError",
     "evalue": "unindent does not match any outer indentation level (<tokenize>, line 5)",
     "output_type": "error",
     "traceback": [
      "\u001b[1;36m  File \u001b[1;32m<tokenize>:5\u001b[1;36m\u001b[0m\n\u001b[1;33m    123\u001b[0m\n\u001b[1;37m    ^\u001b[0m\n\u001b[1;31mIndentationError\u001b[0m\u001b[1;31m:\u001b[0m unindent does not match any outer indentation level\n"
     ]
    }
   ],
   "source": [
    "\"\"\"\n",
    "(c) Pyramid\n",
    "\"\"\"\n",
    "    1\n",
    "   123\n",
    "  12345\n",
    " 1234567\n",
    "123456789\n"
   ]
  },
  {
   "cell_type": "code",
   "execution_count": 64,
   "id": "03e7f151-f2a3-42ba-a76b-195708de8767",
   "metadata": {},
   "outputs": [
    {
     "name": "stdout",
     "output_type": "stream",
     "text": [
      "     1\n",
      "    123\n",
      "   12345\n",
      "  1234567\n",
      " 123456789\n"
     ]
    }
   ],
   "source": [
    "num = 5\n",
    "for i in range(1,num+1):\n",
    "    print(\" \" * (num-i),end = \" \")\n",
    "    print(\"\".join(str(j) for j in range(1,2*i)))"
   ]
  },
  {
   "cell_type": "code",
   "execution_count": null,
   "id": "1df01852-5912-429e-8a40-48dbb9cd4dbd",
   "metadata": {},
   "outputs": [],
   "source": []
  },
  {
   "cell_type": "code",
   "execution_count": null,
   "id": "2ecb5d5d-8439-4bd7-9577-b2fd13331c99",
   "metadata": {},
   "outputs": [],
   "source": []
  }
 ],
 "metadata": {
  "kernelspec": {
   "display_name": "Python 3 (ipykernel)",
   "language": "python",
   "name": "python3"
  },
  "language_info": {
   "codemirror_mode": {
    "name": "ipython",
    "version": 3
   },
   "file_extension": ".py",
   "mimetype": "text/x-python",
   "name": "python",
   "nbconvert_exporter": "python",
   "pygments_lexer": "ipython3",
   "version": "3.11.9"
  }
 },
 "nbformat": 4,
 "nbformat_minor": 5
}
