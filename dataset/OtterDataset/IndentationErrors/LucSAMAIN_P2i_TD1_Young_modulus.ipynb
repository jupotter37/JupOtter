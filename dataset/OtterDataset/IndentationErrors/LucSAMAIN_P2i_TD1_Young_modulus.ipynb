{
 "cells": [
  {
   "cell_type": "markdown",
   "id": "2b75df64",
   "metadata": {},
   "source": [
    "# Young Modulus"
   ]
  },
  {
   "cell_type": "markdown",
   "id": "9b02fa07",
   "metadata": {},
   "source": [
    "<div class='alert alert-info'>\n",
    "    <p>The students will try, via an atomistic interpretation, to find Young's relation between stress and strain applied to a material in the elastic regime</p>\n",
    "</div>"
   ]
  },
  {
   "cell_type": "markdown",
   "id": "947f3e0d",
   "metadata": {},
   "source": [
    "## Un peu d'histoire"
   ]
  },
  {
   "cell_type": "markdown",
   "id": "285e1d61",
   "metadata": {},
   "source": [
    "En 1638, Galilée (1564-1642), mathématicien, géomètre, physicien et astronome italien, publie et finit *Discorsi delle due nuove scienze*, ouvrage dans lequel il développe une nouvelle vision des sciences : l'expérience n'est plus dictée par la logique antique mais par des hypothèses mathématiques et géométriques, que l'expérience même peut confirmer. Galilée énonce explicitement l'autonomie de la science sur la théologie et la philosophie, ce qui lui vaudra bien des soucis ... Dans *Discorsi ...* Galilée donne naissance au concept de la \"résistance mécanique des matériaux\", cf. figure 1 où on peut voir les dessins réalisés par Galilée pour son étude de la traction et de la flexion d'une poutre.\n",
    "<p>\n",
    "<img src=\"./Images/Young_modulus/FlexionTractionGalilee.png\" alt width=450 heigth=350>\n",
    "<center>Fig. 1 Dessin de Galilee pour l’étude des poutres en flexion et en traction</center>\n",
    "<p>\n",
    "A la mort de Galilée, Isaac Newton (1642-1727) nait pour développer quelques années plus tard en 1687 les bien célèbres \"Loi de Newton\" dans son ouvrage *Philosophiae naturalis principia mathematica*. Dans ces travaux I. Newton discute des forces macroscopiques que subissent les matériaux sous contraintes, comme par exemple le principe des actions réciproques, mais il ne développe aucune information sur les forces au sein même des matériaux.\n",
    "\n",
    "C'est Robert Hooke (1635-1703) qui en 1679 établit une première réponse avec la loi de l'élasticité, qui avec les travaux de Augustin Cauchy (1789-1857), cent ans plus tard, donne naissance au concept de proportionnalité entre contrainte apliquée aux matériaux et déformation résultante.\n",
    "<p>\n",
    "<img src=\"./Images/Young_modulus/Chercheurs.png\" alt width=250 heigth=250>\n",
    "<center>Fig. 2 De gauche à droite et de bas en haut : Galilée, I. Newton, R. Hooke et A. Cauchy</center>\n",
    "<p>"
   ]
  },
  {
   "cell_type": "markdown",
   "id": "014f2e11",
   "metadata": {},
   "source": [
    "## Deformation of a solid: case of the elastic regime"
   ]
  },
  {
   "cell_type": "markdown",
   "id": "f298080f",
   "metadata": {},
   "source": [
    "### La loi de Hooke"
   ]
  },
  {
   "cell_type": "markdown",
   "id": "c0d42a27",
   "metadata": {},
   "source": [
    "Lorsqu'on soumet un matériaux à un effort, celui-ci stocke et dissipe l'énergie emmagasinée en se déformant. Pour de faibles contraintes, le matériaux a un comportement élastique, il retrouve sa forme d'origine si on relâche les efforts appliqués. Il y a réversibilité. D'aprés la loi de Hooke la contrainte appliquée $\\sigma$ (en *Pa*) est alors proportionnelle à la déformation (ou allongement relatif) $\\epsilon$ (sans dimension) soit :\n",
    "\n",
    "\\begin{equation}\n",
    "\t\\sigma=E\\epsilon,\n",
    "\t\\label{equ_Def_Solide_100} \\tag{1}\n",
    "\\end{equation}\n",
    "où $E$, donné en *Pa*, est le coefficient de proportionnalité est appelé le module de Young.\n",
    "\n",
    "Essayons de retrouver ce résultat !!!\n",
    "\n",
    "La déformation des matériaux sous contraintes se traduit par la variation des distances interatomiques. Hors les atomes sont liés entre eux par des liaisons qui déterminent la cohésion de la matière."
   ]
  },
  {
   "cell_type": "markdown",
   "id": "47c50686",
   "metadata": {},
   "source": [
    "<div class='alert alert-success'><strong>Question 1</strong>\n",
    "    \n",
    "Quelles sont les interactions atomiques que l'on peut retrouver au sein des matériaux ?\n",
    "</div>"
   ]
  },
  {
   "cell_type": "markdown",
   "id": "a488c292",
   "metadata": {},
   "source": [
    "MA REPONSE: Van der Waals, Coulombiennes, liaison covalente/ioniques, etc..."
   ]
  },
  {
   "cell_type": "markdown",
   "id": "354c13a1",
   "metadata": {},
   "source": [
    "Le potentiel de paire Lennard-Jones est un modèle mathématique simple qui permet de décrire les interactions entre deux atomes. La forme de ce potentiel a été proposée par John Lennard-Jones en 1924,\n",
    "\n",
    "\\begin{equation}\n",
    "\tU_{LJ}(r)=4\\kappa\\left[\\left(\\frac{d}{r}\\right)^{12}-\\left(\\frac{d}{r}\\right)^{6}\\right],\n",
    "\t\\label{equ_Def_Solide_200}\n",
    "\\end{equation}\n",
    "où $r$ est la distance entre deux atomes en interaction, $\\kappa$ est la profondeur du puit du potentiel et $d$ la distance où le potentiel s'annule. Le premier terme en $1/r^{12}$ est un terme répulsif décrivant les interactions de Pauli à courte distance liées au recouvrement des orbitales des électrons. Le second terme en $-1/r^{6}$ est un terme attractif à longue portée décrivant entre autre les interactions Van der Waals."
   ]
  },
  {
   "cell_type": "markdown",
   "id": "9506cf14",
   "metadata": {},
   "source": [
    "<div class='alert alert-success'><strong>Question 2</strong>\n",
    "    \n",
    "Tracer l'évolution du potentiel $U_{LJ}(r)$ et de la force $F_{LJ}(r)$ Lennard Jones entre deux atomes. Identifiez les paramètres du potentiel Lennard-Jones $\\kappa$ et $d$, la partie répulsive et attractive du potentiel et calculer la distance d'équilibre $r_{0}$ où la force s'annule.\n",
    "</div>"
   ]
  },
  {
   "cell_type": "code",
   "execution_count": 45,
   "id": "d50ac6ee",
   "metadata": {
    "scrolled": true
   },
   "outputs": [
    {
     "data": {
      "image/png": "[encoded data removed]",
      "text/plain": [
       "<Figure size 1080x360 with 1 Axes>"
      ]
     },
     "metadata": {
      "needs_background": "light"
     },
     "output_type": "display_data"
    }
   ],
   "source": [
    "### MOI/\n",
    "import math\n",
    "import matplotlib.pyplot as plt\n",
    "import numpy as np\n",
    "import matplotlib as mpl\n",
    "from matplotlib.pyplot import figure, gca, xlim, ylim\n",
    "\n",
    "kappa = 1\n",
    "d = 1\n",
    "r = np.linspace(1, 4, 1000)\n",
    "U_LJ = 4*kappa*((d/r)**12 - (d/r)**6)\n",
    "F = 24*kappa*(2*d**12/r**13 - d**6/r**7)\n",
    "\n",
    "fig = figure(figsize=(15,5))\n",
    "ax = gca()\n",
    "xlim(1, 3)\n",
    "ylim(-3,3)\n",
    "ax.plot(r, U_LJ, color='blue', label='Potentiel U_LJ(r)')# Trace la fonction.\n",
    "ax.plot(r, F, color='red', label='Force F(r)')# Trace la fonction.\n",
    "ax.set_xlabel(\"Distance au rayon de l'atome(SI)\")\n",
    "ax.set_ylabel(\"U_LJ(r) et F(r)(SI)\")  # Axe des ordonnées centré.\n",
    "ax.spines['right'].set_color('none')  # Pas d’axe à gauche.\n",
    "ax.spines['bottom'].set_position('zero')  # Axe des abscisses centré.\n",
    "ax.spines['top'].set_color('none')  # Pas d’axe  en haut.\n",
    "plt.legend(['Potentiel U_LJ(r)', 'Force F(r)'])\n",
    "plt.grid()\n"
   ]
  },
  {
   "cell_type": "markdown",
   "id": "0a507bcf",
   "metadata": {},
   "source": [
    "Rqe: On atteint le minimum de potentiel en r=1.10 donc stabilité atteinte alors force appliqué est nulle ! Image du skieur qui n'avance plus car pente nulle...\n",
    "Le potentiel(zoomé à l'équilibre) à la forme d'une parabole... Donc a une sorte de force de ressort entre les atomes(pour les ressorts le potentiel a la même gueule...)."
   ]
  },
  {
   "cell_type": "markdown",
   "id": "935154c3",
   "metadata": {},
   "source": [
    "<div class='alert alert-success'><strong>Question 3</strong>\n",
    "    \n",
    "Comment peut-on trouver la raideur $k$ de la liaison entre deux atomes ? Que vaut-elle à l'équilibre et comment évolue t-elle lorsqu'on comprime ou étire deux atomes à partir de leur position d'équilibre ?\n",
    "</div>"
   ]
  },
  {
   "cell_type": "markdown",
   "id": "3a718246",
   "metadata": {},
   "source": [
    "Calcul de dérivée de F en équilibre... Si on comprime ou étire les deux tendent à revenir à l'équilibre."
   ]
  },
  {
   "cell_type": "markdown",
   "id": "6aabe55f",
   "metadata": {},
   "source": [
    "<div class='alert alert-success'><strong>Question 4</strong>\n",
    "    \n",
    "Pour de faible déformation autour de la position d'équilibre, i.e. $r \\approx r_{0}$, on peut approximer la force par un développement limité au premier ordre. Evaluer alors la raideur entre deux atomes.\n",
    "</div>"
   ]
  },
  {
   "cell_type": "markdown",
   "id": "0f78dfcb",
   "metadata": {},
   "source": [
    "Pour le ressort: F = -raideur * $\\Delta_x$\n",
    "or potentiel = primitive de la force... Donc raideur = derivée seconde du potentiel\n",
    "si on utilise le dvp limité: F(r) = F(r0) + (r-r0) * dF(r0) à l'équilibre F(r0) = 0\n",
    "donc on peut trouvé dF(r0) = raideur..."
   ]
  },
  {
   "cell_type": "markdown",
   "id": "4d637895",
   "metadata": {},
   "source": [
    "Tentons maintenant de passer de la raideur entre deux atomes à la raideur d'un matériaux massif. On va considérer le cas simple où tous les atomes sont organisés sur un réseau cubique simple et reliés par un ressort de raideur $k_{0}$, cf. figure suivante.\n",
    "<p>\n",
    "<img src=\"./Images/Young_modulus/ReseauCubique.png\" alt width=250 heigth=250>\n",
    "<center>Fig. 3 Réseau Cubique</center>\n",
    "<p>"
   ]
  },
  {
   "cell_type": "markdown",
   "id": "7faab68a",
   "metadata": {},
   "source": [
    "<div class='alert alert-success'><strong>Question 5</strong>\n",
    "    \n",
    "A l'équilibre, quel est le nombre $N$ de liaisons traversant une section de surface $S$ ?\n",
    "</div>"
   ]
  },
  {
   "cell_type": "markdown",
   "id": "df0518f0",
   "metadata": {},
   "source": [
    "N = S/(r0^2)"
   ]
  },
  {
   "cell_type": "markdown",
   "id": "f1a0dd53",
   "metadata": {},
   "source": [
    "<div class='alert alert-success'><strong>Question 6</strong>\n",
    "    \n",
    "Quelle est alors la force la force $f$ que l'on doit appliquer au matériaux pour le déformer suivant une direction ?\n",
    "</div>"
   ]
  },
  {
   "cell_type": "markdown",
   "id": "fd1d6fec",
   "metadata": {},
   "source": [
    "$$ N = \\frac {S}{r_o^2} $$\n",
    "$$ f = Nk_o(r-r_o) $$\n",
    "$$ \\sigma = \\frac{f}{S} = \\frac{S}{r_o^2S}k_o(r-r_o) $$\n",
    "$$ \\sigma = \\frac{k_o}{r_o^2}(r-r_o) = \\frac{k_o}{r_o}\\frac{r-r_o}{r_o} = E\\frac{r-r_o}{r_o} $$\n",
    "\n",
    "Donc:  $$E = \\frac{k_o}{r_o}$$ \n"
   ]
  },
  {
   "cell_type": "markdown",
   "id": "6772736e",
   "metadata": {},
   "source": [
    "<div class='alert alert-success'><strong>Question 7</strong>\n",
    "    \n",
    "En déduire la loi de Hooke.\n",
    "</div>"
   ]
  },
  {
   "cell_type": "markdown",
   "id": "59597e68",
   "metadata": {},
   "source": [
    "cf plus haut"
   ]
  },
  {
   "cell_type": "markdown",
   "id": "0b2a8268",
   "metadata": {},
   "source": [
    "### Vérification numérique de la loi de Hooke"
   ]
  },
  {
   "cell_type": "markdown",
   "id": "537fcafe",
   "metadata": {},
   "source": [
    "Pour vérifier la loi de Hooke il faudrait simuler tout le réseau cubique d'atomes liés par des ressort comme illustrer sur la figure ci-dessous. Pour simplifier nous allons juste vérifier la justesse de la loi de Hooke dans le cas d'une seule chaine de ressorts."
   ]
  },
  {
   "cell_type": "markdown",
   "id": "f8f9e450",
   "metadata": {},
   "source": [
    "<div class='alert alert-success'><strong>Question 8</strong>\n",
    "    \n",
    "Soit $N$ atomes formant un chaine infinie de masse reliée par des ressorts de raideur $k_{0}$. Quelles sont les équations du mouvement de chacun des atomes ? On notera $m$ la masse d'un atome. \n",
    "</div>"
   ]
  },
  {
   "cell_type": "markdown",
   "id": "4aa8bbc9",
   "metadata": {},
   "source": [
    "<div class='alert alert-success'><strong>Question 9</strong>\n",
    "    \n",
    "On va considérer une chaine linéaire de $N$ atomes reliés par des ressorts de raideur $k_{0}$ et tous distants de $x_{0}$ à $t=0$. Un des bouts de la chaine est fixé, et l'autre se déplace à une vitesse de $1mm.s^{-1}$ pour simuler un essai de traction, cf. figure ci-dessous. Intégrer numériquement les équations du mouvement des $N$ atomes afin de retrouver la loi de Hooke.\n",
    "<p>\n",
    "<img src=\"./Images/Young_modulus/ChainAtome4.png\" alt width=450 heigth=450>\n",
    "<center>Fig. 7 Une chaine d'atomes en traction</center>\n",
    "<p>\n",
    "</div>"
   ]
  },
  {
   "cell_type": "code",
   "execution_count": 3,
   "id": "7663139b",
   "metadata": {},
   "outputs": [
    {
     "ename": "IndentationError",
     "evalue": "expected an indented block (567761907.py, line 10)",
     "output_type": "error",
     "traceback": [
      "\u001b[1;36m  Input \u001b[1;32mIn [3]\u001b[1;36m\u001b[0m\n\u001b[1;33m    \u001b[0m\n\u001b[1;37m    ^\u001b[0m\n\u001b[1;31mIndentationError\u001b[0m\u001b[1;31m:\u001b[0m expected an indented block\n"
     ]
    }
   ],
   "source": [
    "import numpy as np\n",
    "K = 10 ; uma= 1.66*10**-27 ; n = 55.55 ; a = 156*10**-12 ; X0 = 2.3*a ; V_trac = 10**-3 ; N = 10 ; \n",
    "N_iter = 10**5 ; dt = 10**-15; dx = V_trac*dt ; l0 = V_trac*dt; l0=(N+1)*X0 ; X = np.zeros(N+1, N_iter+1) ;\n",
    "\n",
    "for loop in range(N_iter):\n",
    "    for atome in range(N):\n",
    "\n",
    "\n",
    "\n",
    "        \n"
   ]
  },
  {
   "cell_type": "code",
   "execution_count": null,
   "id": "74e86dc1",
   "metadata": {},
   "outputs": [],
   "source": []
  }
 ],
 "metadata": {
  "kernelspec": {
   "display_name": "Python 3 (ipykernel)",
   "language": "python",
   "name": "python3"
  },
  "language_info": {
   "codemirror_mode": {
    "name": "ipython",
    "version": 3
   },
   "file_extension": ".py",
   "mimetype": "text/x-python",
   "name": "python",
   "nbconvert_exporter": "python",
   "pygments_lexer": "ipython3",
   "version": "3.9.12"
  },
  "toc": {
   "base_numbering": 1,
   "nav_menu": {},
   "number_sections": true,
   "sideBar": true,
   "skip_h1_title": true,
   "title_cell": "Table des matières",
   "title_sidebar": "Contenu",
   "toc_cell": true,
   "toc_position": {
    "height": "calc(100% - 180px)",
    "left": "10px",
    "top": "150px",
    "width": "225.2px"
   },
   "toc_section_display": true,
   "toc_window_display": true
  }
 },
 "nbformat": 4,
 "nbformat_minor": 5
}
