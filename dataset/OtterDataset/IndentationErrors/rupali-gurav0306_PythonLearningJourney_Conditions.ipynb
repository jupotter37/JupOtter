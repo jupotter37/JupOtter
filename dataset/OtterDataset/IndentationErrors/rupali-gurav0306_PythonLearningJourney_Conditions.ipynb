{
 "cells": [
  {
   "cell_type": "markdown",
   "id": "fc10519b-89c5-4251-92fb-ec2cb224924d",
   "metadata": {},
   "source": [
    "# Conditions in python\n",
    "- **less than (<)**\n",
    "- **less than or equal to(<=)**\n",
    "- **Greater than(>)**\n",
    "- **Greater than or equal to(>=)**\n",
    "- **Equal to(==)**\n",
    "- **Not equal to(!=)**"
   ]
  },
  {
   "cell_type": "markdown",
   "id": "9b4fa37f-1dfd-4dd5-8786-3f7a192db17f",
   "metadata": {},
   "source": [
    "- **Branching (if,elif,else)**\n",
    "- **Decision-making is required when we want to execute a code only if a certain condition is satisfied.**\n",
    "- **The if/elif/else statement is used in Python for decision-making.**\n",
    "- **An else statement can be combined with an if statement.**\n",
    "- **An else statement contains the block of code that executes if the conditional expression in the if statement resolves to 0 or a False value.**\n",
    "- **The else statement is optional and there could be at most only one else statement following the if.**\n",
    "- **The elif statement allows you to check multiple expressions for True and Execute a block of code as soon as one of the conditions evaluates to True.**\n",
    "- **Similar to the else, the elif statement is optional.\n",
    "However, unlike else, for which there can be at most one statement, there can be an arbitrary number of elif statements following an if.**"
   ]
  },
  {
   "cell_type": "code",
   "execution_count": 3,
   "id": "eda7cc9f-6e9f-4035-ae07-8d81a147867d",
   "metadata": {},
   "outputs": [
    {
     "name": "stdin",
     "output_type": "stream",
     "text": [
      "Enter your age: 67\n"
     ]
    },
    {
     "name": "stdout",
     "output_type": "stream",
     "text": [
      "You are a senior citizen.\n"
     ]
    }
   ],
   "source": [
    " # Take input from the user as age and display as follows:\n",
    "#senior citizen >40 \n",
    "#adult 12 to 40\n",
    "#child 0 to 12 \n",
    "\n",
    "age = int(input(\"Enter your age:\"))\n",
    "\n",
    "if age <= 12:\n",
    "    print(\"Your are a child.\")\n",
    "elif 12 < age <=40: \n",
    "    print(\"You are an adult.\")\n",
    "else:\n",
    "    print(\"You are a senior citizen.\")\n"
   ]
  },
  {
   "cell_type": "code",
   "execution_count": 8,
   "id": "117a2fdb-09e6-4912-8037-ca7a9626f8af",
   "metadata": {},
   "outputs": [
    {
     "name": "stdin",
     "output_type": "stream",
     "text": [
      "Enter your age: 49\n"
     ]
    },
    {
     "name": "stdout",
     "output_type": "stream",
     "text": [
      "The number is divisible by 7 and not by 2,5,8\n"
     ]
    }
   ],
   "source": [
    "# Write a program to find the number is divisible by 2,5,8,10.\n",
    "\n",
    "num = int(input(\"Enter your age:\"))\n",
    " \n",
    "if num % 2 == 0 and num % 4 == 0 and num % 8 == 0 and num % 7 == 0: \n",
    "    print(\"The number is divisible by 2,5,7,8\")\n",
    "elif num % 2 == 0 and num % 5 != 0 and num % 8 != 0 and num % 7 != 0:\n",
    "    print(\"The number is divisible by 2 and not by 5,8,7\")\n",
    "elif num % 2 != 0 and num % 5 == 0 and num % 8 != 0 and num % 7 != 0:\n",
    "    print(\"The number is divisible by 5 and not by 2,8,7\")\n",
    "elif num % 2 != 0 and num % 5 != 0 and num % 8 == 0 and num % 7 != 0:\n",
    "    print(\"The number is divisible by 8 and not by 2,5,7\")\n",
    "elif num % 2 != 0 and num % 5 != 0 and num % 8 != 0 and num % 7 == 0:\n",
    "    print(\"The number is divisible by 7 and not by 2,5,8\")\n",
    "elif num % 2 == 0 and num % 5 == 0 and num % 8 != 0 and num % 7 != 0:\n",
    "    print(\"The number is divisible by 2 and 5 not by 8,7\")\n",
    "elif num % 2 != 0 and num % 5 == 0 and num % 8 == 0 and num % 7 != 0:\n",
    "    print(\"The number is divisible by 5 and 8 not by 2,7\")\n",
    "elif num % 2 != 0 and num % 5 != 0 and num % 8 == 0 and num % 7 == 0:\n",
    "    print(\"The number is divisible by 8 and 7 not by 2,5\")\n",
    "elif num % 2 != 0 and num % 5 == 0 and num % 8 != 0 and num % 7 == 0:\n",
    "    print(\"The number is divisible by 5 and 7 not by 2,8\")\n",
    "elif num % 2 == 0 and num % 5 != 0 and num % 8 != 0 and num % 7 == 0:\n",
    "    print(\"The number is divisible by 2 and 7 not by 5,8\")\n",
    "elif num % 2 == 0 and num % 5 != 0 and num % 8 == 0 and num % 7 != 0:\n",
    "    print(\"The number is divisible by 2 and 8 not by 5,7\")\n",
    "elif num % 2 == 0 and num % 5 == 0 and num % 8 == 0 and num % 7 != 0:\n",
    "    print(\"The number is divisible by 2, 5, 8 not by 7\")\n",
    "elif num % 2 != 0 and num % 5 == 0 and num % 8 == 0 and num % 7 == 0:\n",
    "    print(\"The number is divisible by 5, 8, 7 not by 2\")\n",
    "elif num % 2 == 0 and num % 5 != 0 and num % 8 == 0 and num % 7 == 0:\n",
    "    print(\"The number is divisible by 2, 8, 7 not by 5\")\n",
    "elif num % 2 == 0 and num % 5 == 0 and num % 8 != 0 and num % 7 == 0:\n",
    "    print(\"The number is divisible by 2, 5, 7 not by 8\")\n",
    "else:\n",
    "    print(\"The number is not divisible by any number\")"
   ]
  },
  {
   "cell_type": "code",
   "execution_count": 12,
   "id": "3b8afc8e-a3f4-4cd6-9538-700fb1575812",
   "metadata": {},
   "outputs": [
    {
     "name": "stdin",
     "output_type": "stream",
     "text": [
      "Enter total number of working days:  500\n",
      "Enter total number of days absent:  400\n"
     ]
    },
    {
     "name": "stdout",
     "output_type": "stream",
     "text": [
      "Your attendance is: 20.0\n",
      "As your attendace is less than 75% you are not able to sit in exam\n"
     ]
    }
   ],
   "source": [
    "# Accept the following from the user and calculate the percentage of class attended: \n",
    "# Total number of working days\n",
    "# Total number of days absent\n",
    "# After calculating the percentage show that if it is less than 75%, you are not able to sit in the exam\n",
    "\n",
    "working = int(input(\"Enter total number of working days: \"))\n",
    "absent = int(input(\"Enter total number of days absent: \"))\n",
    "present = working - absent\n",
    "\n",
    "attendance = present/working*100\n",
    "print(\"Your attendance is:\",attendance)\n",
    "\n",
    "if attendance < 75:\n",
    "    print(\"As your attendace is less than 75% you are not able to sit in exam\")\n",
    "else:\n",
    "    print(\"As your attendance is above than 75% you are able to sit in exam\")\n",
    "    "
   ]
  },
  {
   "cell_type": "code",
   "execution_count": 14,
   "id": "054990ab-dfe7-42ed-9350-921cdaa3ac68",
   "metadata": {},
   "outputs": [
    {
     "name": "stdin",
     "output_type": "stream",
     "text": [
      "Enter the marked price: 400\n",
      "Eneter discount 10\n"
     ]
    },
    {
     "name": "stdout",
     "output_type": "stream",
     "text": [
      "Your marked price is:400\n",
      "Your discount is:10\n",
      "Your net price is:360.0\n"
     ]
    }
   ],
   "source": [
    "# Accept the marked price from the user and calculate the net amount (marked price)\n",
    "# marked price---------------------> discount\n",
    "# >10000 --------------------------> 20%\n",
    "# >7000 and <=10000----------------> 15%\n",
    "# <=7000---------------------------> 10%\n",
    "\n",
    "price = int(input(\"Enter the marked price:\"))\n",
    "discount = int(input(\"Enter discount\"))\n",
    "\n",
    "net_price = price - (price*discount/100)\n",
    "print(f\"Your marked price is:{price}\\nYour discount is : {discount} \\n Your net price is:{net_price}\")"
   ]
  },
  {
   "cell_type": "code",
   "execution_count": 20,
   "id": "d7f98e30-04de-4fa6-857d-3bbb04d19af9",
   "metadata": {},
   "outputs": [
    {
     "name": "stdin",
     "output_type": "stream",
     "text": [
      "Enter the marked price: 5000\n"
     ]
    },
    {
     "name": "stdout",
     "output_type": "stream",
     "text": [
      "Your marked price is:5000\n",
      "Your discount is:10\n",
      "Your net price is:4250.0\n"
     ]
    }
   ],
   "source": [
    "# Accept the marked price from the user and calculate the net amount (marked price)\n",
    "# marked price---------------------> discount\n",
    "# >10000 --------------------------> 20%\n",
    "# >7000 and <=10000----------------> 15%\n",
    "# <=7000---------------------------> 10%\n",
    "\n",
    "price = int(input(\"Enter the marked price:\"))\n",
    "\n",
    "if price > 10000:\n",
    "    net_price = price - (price*20/100)\n",
    "    print(f\"Your marked price is:{price}\\nYour discount is:{discount}\\nYour net price is:{net_price}\")\n",
    "elif 7000 > price <= 10000:\n",
    "    net_price = price - (price*15/100)\n",
    "    print(f\"Your marked price is:{price}\\nYour discount is:{discount}\\nYour net price is:{net_price}\")\n",
    "else:\n",
    "    net_price = price - (price*10/100)\n",
    "    print(f\"Your marked price is:{price}\\nYour discount is:{discount}\\nYour net price is:{net_price}\")\n"
   ]
  },
  {
   "cell_type": "code",
   "execution_count": 16,
   "id": "75a33fbb-a6e6-47b2-bfc0-9553f0902d86",
   "metadata": {},
   "outputs": [
    {
     "name": "stdin",
     "output_type": "stream",
     "text": [
      "Enter your service period: 34\n",
      "Enter your salary: 34666\n"
     ]
    },
    {
     "name": "stdout",
     "output_type": "stream",
     "text": [
      "Salary: 34666 \n",
      "Bonus: 20%: 6933.2 \n",
      "Total Salary 41599.2\n"
     ]
    }
   ],
   "source": [
    "#Salary and service period question bonus depends on the service period of the employee:\n",
    "# Period of service----------Bonus\n",
    "#period >20:----------------20% of your salary\n",
    "#15 > period <=20:----------------15% of your salary\n",
    "#10 <= period <15:----------------10% of your salary\n",
    "#5 <= period < 10:----------------5% of your salary\n",
    "#period < 5:--------------------- 3%of your salary\n",
    "\n",
    "years=int(input(\"Enter your service period:\"))\n",
    "sal=int(input(\"Enter your salary:\"))\n",
    "if years>0 and sal>0:\n",
    "    if years>20:\n",
    "        a=sal*20/100\n",
    "        print(\"Salary:\",sal,\"\\nBonus: 20%:\",a,\"\\nTotal Salary\",sal+a)\n",
    "    elif years>=15 and years<=20:\n",
    "        b=sal*15/100\n",
    "        print(\"Salary:\",sal,\"\\nBonus: 15%:\",b,\"\\nTotal Salary\",sal+b)\n",
    "    elif years>=10 and years<15:\n",
    "        c=sal*10/100\n",
    "        print(\"Salary:\",sal,\"\\nBonus: 10%:\",c,\"\\nTotal Salary\",sal+c)\n",
    "    elif years>=5 and years<10:\n",
    "        d=sal*5/100\n",
    "        print(\"Salary:\",sal,\"\\nBonus: 5%:\",d,\"\\nTotal Salary\",sal+d)\n",
    "    else:\n",
    "        e=sal*3/100\n",
    "        print(\"Salary:\",sal,\"\\nBonus: 3%:\",e,\"\\nTotal Salary\",sal+e)\n",
    "else:\n",
    "    print(\"Error: Invalid Years or Salary Entered by user.\")"
   ]
  },
  {
   "cell_type": "code",
   "execution_count": 32,
   "id": "a4636b91-caf5-485b-b3db-1ee74ab6da60",
   "metadata": {},
   "outputs": [
    {
     "name": "stdin",
     "output_type": "stream",
     "text": [
      "Enter your gender as M or F: F\n",
      "Enter your age: 78\n",
      "Enter your marital status as Y or N: N\n"
     ]
    },
    {
     "name": "stdout",
     "output_type": "stream",
     "text": [
      "You have to work in urban areas only.\n"
     ]
    }
   ],
   "source": [
    "# Q. Ask the user to enter age, gender(M or F), and marital status (Y or N) and then \n",
    "# using the following rules to print their places of service.\n",
    "# If an employee is female, then she will work only in urban areas.\n",
    "# If an employee is male and their age is between 20- 40 then he may work anywhere.\n",
    "# If the employee is male and age is between 40-60 then he will work in urban areas only.\n",
    "# And any other input of age should print \"Error.\"\n",
    "\n",
    "gen = str(input(\"Enter your gender as M or F:\"))\n",
    "age = int(input(\"Enter your age:\"))\n",
    "marry = str(input(\"Enter your marital status as Y or N:\"))\n",
    "\n",
    "if gen == \"M\" and 40 <= age <=60: \n",
    "    print(\"You will work In urban area only.\")\n",
    "elif gen == \"M\" and 20 <= age <= 40:\n",
    "    "
   ]
  },
  {
   "cell_type": "code",
   "execution_count": 22,
   "id": "08afb0ee-b214-4b06-a89e-3c5cfc4571ee",
   "metadata": {},
   "outputs": [
    {
     "name": "stdout",
     "output_type": "stream",
     "text": [
      "I dont know\n"
     ]
    }
   ],
   "source": [
    "def condition(data):\n",
    "    if all(data):\n",
    "        return \"yes\"\n",
    "    elif not any(data):\n",
    "        return \"no\" \n",
    "    else:\n",
    "        return \"I don't know\" \n",
    "values = [True, False, True, False]\n",
    "print(condition(values))"
   ]
  },
  {
   "cell_type": "code",
   "execution_count": 34,
   "id": "3ac1859d-d208-48ff-83be-6f96b1f879f6",
   "metadata": {},
   "outputs": [
    {
     "name": "stdout",
     "output_type": "stream",
     "text": [
      "Input lengths of triangle\n"
     ]
    },
    {
     "name": "stdin",
     "output_type": "stream",
     "text": [
      "Enter the side1: 20\n",
      "Enter the side2: 20\n",
      "Enter the side3: 20\n"
     ]
    },
    {
     "name": "stdout",
     "output_type": "stream",
     "text": [
      "It is equilateral triangle\n"
     ]
    }
   ],
   "source": [
    "#display the message prompting the user to input lengths of sides of the triangle\n",
    "print(\"Input lengths of triangle\")\n",
    "side1 =  int(input(\"Enter the side1:\"))\n",
    "side2 =  int(input(\"Enter the side2:\"))\n",
    "side3 =  int(input(\"Enter the side3:\"))\n",
    "\n",
    "if side1==side2==side3:\n",
    "    print(\"It is equilateral triangle\")\n",
    "elif side1==side2 or side2==side3 or side3==side1:\n",
    "    print(\"Isosceles triangle\")\n",
    "else:\n",
    "    print(\"scalene traiangle\")"
   ]
  },
  {
   "cell_type": "code",
   "execution_count": 45,
   "id": "d6c26c7e-942b-48d0-8995-6bb9ec589a5a",
   "metadata": {},
   "outputs": [
    {
     "name": "stdin",
     "output_type": "stream",
     "text": [
      "Enter any number 7890\n"
     ]
    },
    {
     "name": "stdout",
     "output_type": "stream",
     "text": [
      "Not three-digit\n"
     ]
    }
   ],
   "source": [
    "#Write a program to check whether a number entered by the user is three-digit or not\n",
    "\n",
    "user = int(input(\"Enter any number\"))\n",
    "if user>99 and user<=999:\n",
    "    print(\"three digit\")\n",
    "else:\n",
    "    print(\"Not three-digit\")\n",
    "\n"
   ]
  },
  {
   "cell_type": "code",
   "execution_count": 41,
   "id": "033c617b-6d0b-4b52-8062-7d57050734a3",
   "metadata": {},
   "outputs": [
    {
     "name": "stdin",
     "output_type": "stream",
     "text": [
      "Enter any character: a\n"
     ]
    },
    {
     "name": "stdout",
     "output_type": "stream",
     "text": [
      "Vowel\n"
     ]
    }
   ],
   "source": [
    "char = str(input(\"Enter any character:\"))\n",
    "\n",
    "if char==\"a\" or char==\"e\" or char==\"i\" or char==\"o\" or char==\"u\": \n",
    "    print(\"Vowel\")\n",
    "else:\n",
    "    print(\"consonant\")"
   ]
  },
  {
   "cell_type": "code",
   "execution_count": 42,
   "id": "08d8ba8f-76ce-4a0d-883f-4de34cbd7523",
   "metadata": {},
   "outputs": [
    {
     "name": "stdin",
     "output_type": "stream",
     "text": [
      "Enter any character: A\n"
     ]
    },
    {
     "name": "stdout",
     "output_type": "stream",
     "text": [
      "vowel\n"
     ]
    }
   ],
   "source": [
    "char = str(input(\"Enter any character:\"))\n",
    "vow=\"AEIOUaeiou\"\n",
    "if char in vow: \n",
    "    print(\"vowel\")\n",
    "else:\n",
    "    print(\"consonant\")\n"
   ]
  },
  {
   "cell_type": "code",
   "execution_count": 2,
   "id": "85ac0bfe-3de5-46b2-9d34-d59f64ae3c53",
   "metadata": {},
   "outputs": [
    {
     "name": "stdin",
     "output_type": "stream",
     "text": [
      "Enter Movie rating -3\n"
     ]
    },
    {
     "name": "stdout",
     "output_type": "stream",
     "text": [
      "Only positive rating and withing range 0 to 10\n"
     ]
    }
   ],
   "source": [
    "#Write a program to take input from users and display movie rating criteria:\n",
    "#movie criteria 9.0 ---------watch in theater\n",
    "#movie criteria 5.0----------watch at home\n",
    "#movie criteria below 5.0---------do not watch \n",
    "\n",
    "# Input from the user\n",
    "rating = int(input(\"Enter Movie rating\"))\n",
    "\n",
    "# Condition defined input to be positive and below or equal to 10.\n",
    "if 10.0 >= rating > 0:\n",
    "    #Nested condition\n",
    "    if rating >= 9.0:\n",
    "        print(\"You can watch this movie in theater\")\n",
    "    elif 9.0 > rating > 5.0:\n",
    "        print(\"You can watch this movie at home\")\n",
    "    else:\n",
    "        print(\"Do not watch this movie\")\n",
    "#else of the first condition\n",
    "else:\n",
    "    print(\"Only positive rating and withing range 0 to 10\")"
   ]
  },
  {
   "cell_type": "code",
   "execution_count": 1,
   "id": "4b246eee-bb01-42c3-835d-721f0e9e5904",
   "metadata": {},
   "outputs": [
    {
     "name": "stdin",
     "output_type": "stream",
     "text": [
      "Input the temperature you like to convert? (e.g., 45F or 45C) :  0c\n"
     ]
    },
    {
     "name": "stdout",
     "output_type": "stream",
     "text": [
      "The temperature in Fahrenheit is 32 degrees.\n"
     ]
    }
   ],
   "source": [
    "#Write a Python program to convert temperature to and from Celsius and Fahrenheit.\n",
    "\n",
    "\n",
    "# Prompt the user to input a temperature in the format (45F,102C).\n",
    "temp = input(\"Input the temperature you like to convert? (e.g., 45F or 45C) : \")\n",
    "\n",
    "# Extract the temperature's numerical part and convert it to an integer.\n",
    "degree = int(temp[:-1])\n",
    "\n",
    "#Extracting the convention part of temperature input (either C or F)\n",
    "i_convention = temp[-1]\n",
    "\n",
    "#Checking if the input convention is uppercase 'C' (Celcius).\n",
    "if i_convention.upper() == \"C\":\n",
    "    #Converting celsius into Fahrenheit\n",
    "    result = int(round(9 * degree) / 5 + 32)\n",
    "    o_convention = \"Fahrenheit\"  #Setting output convention as Fahrenheit.\n",
    "##Checking if the input convention is uppercase 'F' (Fahrenheit).\n",
    "elif i_convention.upper() == \"F\":\n",
    "    ##Converting Fahrenheit into Celsius.\n",
    "    result = int(round((degree - 32) * 5 / 9))\n",
    "    o_convention = \"Celsius\"  #setting output convention as Celsius.\n",
    "else:\n",
    "    #If the input convention is not C or F print an error message.\n",
    "    print(\"Print Proper convention as F or C\")\n",
    "    quit()\n",
    "#Displaing converted temperature in specified output.\n",
    "print(\"The temperature in\",o_convention,\"is\",result,\"degrees.\")\n"
   ]
  },
  {
   "cell_type": "code",
   "execution_count": 1,
   "id": "a750a641-eec6-4183-85cb-c332db669006",
   "metadata": {},
   "outputs": [
    {
     "name": "stdin",
     "output_type": "stream",
     "text": [
      "Input the temperature you like to convert? (e.g., 45F, 102C etc.) :  0c\n"
     ]
    },
    {
     "name": "stdout",
     "output_type": "stream",
     "text": [
      "The temperature in Fahrenheit is 32 degrees.\n"
     ]
    }
   ],
   "source": [
    "# Prompt the user to input a temperature in the format (e.g., 45F, 102C, etc.)\n",
    "temp = input(\"Input the temperature you like to convert? (e.g., 45F, 102C etc.) : \")\n",
    "\n",
    "# Extract the numerical part of the temperature and convert it to an integer\n",
    "degree = int(temp[:-1])\n",
    "\n",
    "# Extract the convention part of the temperature input (either 'C' or 'F')\n",
    "i_convention = temp[-1]\n",
    "\n",
    "# Check if the input convention is in uppercase 'C' (Celsius)\n",
    "if i_convention.upper() == \"C\":\n",
    "    # Convert the Celsius temperature to Fahrenheit\n",
    "    result = int(round((9 * degree) / 5 + 32))\n",
    "    o_convention = \"Fahrenheit\"  # Set the output convention as Fahrenheit\n",
    "# Check if the input convention is in uppercase 'F' (Fahrenheit)\n",
    "elif i_convention.upper() == \"F\":\n",
    "    # Convert the Fahrenheit temperature to Celsius\n",
    "    result = int(round((degree - 32) * 5 / 9))\n",
    "    o_convention = \"Celsius\"  # Set the output convention as Celsius\n",
    "else:\n",
    "    # If the input convention is neither 'C' nor 'F', print an error message and exit the program\n",
    "    print(\"Input proper convention.\")\n",
    "    quit()\n",
    "\n",
    "# Display the converted temperature in the specified output convention\n",
    "print(\"The temperature in\", o_convention, \"is\", result, \"degrees.\") "
   ]
  },
  {
   "cell_type": "code",
   "execution_count": 1,
   "id": "3bad1d88-a17e-4672-8cca-323c7eebed9b",
   "metadata": {},
   "outputs": [
    {
     "name": "stdin",
     "output_type": "stream",
     "text": [
      "Enter temp 78c\n"
     ]
    },
    {
     "name": "stdout",
     "output_type": "stream",
     "text": [
      "Not valid input.\n"
     ]
    },
    {
     "ename": "NameError",
     "evalue": "name 'o_convention' is not defined",
     "output_type": "error",
     "traceback": [
      "\u001b[1;31m----------------------------------------------------------------\u001b[0m",
      "\u001b[1;31mNameError\u001b[0m                      Traceback (most recent call last)",
      "Cell \u001b[1;32mIn[1], line 13\u001b[0m\n\u001b[0;32m     11\u001b[0m     \u001b[38;5;28mprint\u001b[39m(\u001b[38;5;124m\"\u001b[39m\u001b[38;5;124mNot valid input.\u001b[39m\u001b[38;5;124m\"\u001b[39m)\n\u001b[0;32m     12\u001b[0m     quit()\n\u001b[1;32m---> 13\u001b[0m \u001b[38;5;28mprint\u001b[39m(\u001b[38;5;124m\"\u001b[39m\u001b[38;5;124mThe temp in\u001b[39m\u001b[38;5;124m\"\u001b[39m, \u001b[43mo_convention\u001b[49m,\u001b[38;5;124m\"\u001b[39m\u001b[38;5;124mis\u001b[39m\u001b[38;5;124m\"\u001b[39m,result,\u001b[38;5;124m\"\u001b[39m\u001b[38;5;124mdegrees.\u001b[39m\u001b[38;5;124m\"\u001b[39m)\n",
      "\u001b[1;31mNameError\u001b[0m: name 'o_convention' is not defined"
     ]
    }
   ],
   "source": [
    "temp = input( \"Enter temp\" )\n",
    "degree = int(temp[:-1])\n",
    "i_convention = (temp[-1])\n",
    "if i_convention.upper == \"C\":\n",
    "    result(int(round(9*degree)/5+32))\n",
    "    o_convention = \"Fahrenheit\"\n",
    "elif i_convention.upper == \"F\":\n",
    "    result = (int(round(degree_32)*5/9))\n",
    "    o_convention = \"Celsius\"\n",
    "else:\n",
    "    print(\"Not valid input.\")\n",
    "    quit()\n",
    "print(\"The temp in\", o_convention, \"is\", result, \"degrees.\")"
   ]
  },
  {
   "cell_type": "code",
   "execution_count": 1,
   "id": "18dc8e78-3574-40ae-8319-100b12625eb6",
   "metadata": {},
   "outputs": [
    {
     "name": "stdin",
     "output_type": "stream",
     "text": [
      "Input the temperature you like to convert? (e.g., 45F, 102C etc.) :  67c\n"
     ]
    },
    {
     "name": "stdout",
     "output_type": "stream",
     "text": [
      "The temperature in Fahrenheit is 153 degrees.\n"
     ]
    }
   ],
   "source": [
    "temp = input(\"Input the temperature you like to convert? (e.g., 45F, 102C etc.) : \")\n",
    "degree = int(temp[:-1])\n",
    "i_convention = temp[-1]\n",
    "if i_convention.upper() == \"C\":\n",
    "    result = int(round((9 * degree) / 5 + 32))\n",
    "    o_convention = \"Fahrenheit\"\n",
    "elif i_convention.upper() == \"F\":\n",
    "    result = (int(round(degree - 32) * 5 / 9))\n",
    "    o_convention = \"Celsius\"\n",
    "else:\n",
    "    print(\"Input proper convention.\")\n",
    "    quit()\n",
    "print(\"The temperature in\", o_convention, \"is\", result, \"degrees.\")\n",
    "\n",
    "    \n",
    "    "
   ]
  },
  {
   "cell_type": "code",
   "execution_count": 27,
   "id": "d1d854e2-6c30-4748-98dd-5d997c5a0044",
   "metadata": {},
   "outputs": [
    {
     "name": "stdin",
     "output_type": "stream",
     "text": [
      "Guess next number from 1 to 9 : \n",
      " 4\n"
     ]
    },
    {
     "name": "stdout",
     "output_type": "stream",
     "text": [
      "Wellguessed\n"
     ]
    }
   ],
   "source": [
    "#. Write a Python program to guess a number between 1 and 9.\n",
    "#Note: The user is prompted to enter a guess. \n",
    "#If the user guesses wrong then the prompt appears again until the guess is correct, \n",
    "#on a successful guess, the user will get a \"Well guessed!\" message, and the program will exit.\n",
    "\n",
    "user = int(input(\"Guess next number from 1 to 9 : \\n\"))\n",
    "list =[1,2,3,4,5,6,7,8,9]\n",
    "for i in list:\n",
    "    if i == user:\n",
    "        print(\"Wellguessed\")\n",
    "        break\n",
    "    else:\n",
    "        continue\n",
    "        \n",
    "\n"
   ]
  },
  {
   "cell_type": "code",
   "execution_count": 6,
   "id": "26cb93ae-2383-4c3e-819f-6d626039a958",
   "metadata": {},
   "outputs": [
    {
     "name": "stdin",
     "output_type": "stream",
     "text": [
      "Enter First age :  109\n",
      "Enter second age :  90\n",
      "Enter third age :  87\n"
     ]
    },
    {
     "name": "stdout",
     "output_type": "stream",
     "text": [
      "Age must be 100 or within 100 years\n"
     ]
    }
   ],
   "source": [
    "a = int(input(\"Enter First age : \"))\n",
    "b = int(input(\"Enter second age : \"))\n",
    "c = int(input(\"Enter third age : \"))\n",
    "\n",
    "if a<=100 and b<=100 and c<=100:\n",
    "    if a > 0 and b > 0 and c > 0:\n",
    "        if a < b and a < c:\n",
    "            print(\"The youngest one is : \",a)\n",
    "        elif b < c and c < a:\n",
    "            print(\"Thr youngest one is : \",b)\n",
    "        else:\n",
    "            print(\"Thr youngest one is : \",c)\n",
    "    else:\n",
    "        print(\"Age must be in positive number\")\n",
    "else:\n",
    "    print(\"Age must be 100 or within 100 years\")"
   ]
  },
  {
   "cell_type": "code",
   "execution_count": 26,
   "id": "27b8aca6-d375-4ab6-a806-e025e2ab0d4c",
   "metadata": {},
   "outputs": [
    {
     "name": "stdin",
     "output_type": "stream",
     "text": [
      "Guess a number:  4\n"
     ]
    },
    {
     "name": "stdout",
     "output_type": "stream",
     "text": [
      "Incorrect!\n",
      "\n"
     ]
    },
    {
     "name": "stdin",
     "output_type": "stream",
     "text": [
      "Guess a number:  6\n"
     ]
    },
    {
     "name": "stdout",
     "output_type": "stream",
     "text": [
      "Incorrect!\n",
      "\n"
     ]
    },
    {
     "name": "stdin",
     "output_type": "stream",
     "text": [
      "Guess a number:  7\n"
     ]
    },
    {
     "name": "stdout",
     "output_type": "stream",
     "text": [
      "Incorrect!\n",
      "\n"
     ]
    },
    {
     "name": "stdin",
     "output_type": "stream",
     "text": [
      "Guess a number:  8\n"
     ]
    },
    {
     "name": "stdout",
     "output_type": "stream",
     "text": [
      "Incorrect!\n",
      "\n"
     ]
    },
    {
     "name": "stdin",
     "output_type": "stream",
     "text": [
      "Guess a number:  9\n"
     ]
    },
    {
     "name": "stdout",
     "output_type": "stream",
     "text": [
      "Incorrect!\n",
      "\n"
     ]
    },
    {
     "name": "stdin",
     "output_type": "stream",
     "text": [
      "Guess a number:  2\n"
     ]
    },
    {
     "name": "stdout",
     "output_type": "stream",
     "text": [
      "Well guessed!\n"
     ]
    }
   ],
   "source": [
    "from random import randint as rt\n",
    "g= rt(1,9)\n",
    "\n",
    "while True:\n",
    "    ug = int(input(\"Guess a number: \"))\n",
    "    if g==ug:\n",
    "        print(\"Well guessed!\")\n",
    "        break\n",
    "    else:\n",
    "        print(\"Incorrect!\\n\")\n"
   ]
  },
  {
   "cell_type": "code",
   "execution_count": 52,
   "id": "21626b0d-25fb-4c2e-9293-529bf93725e4",
   "metadata": {},
   "outputs": [
    {
     "ename": "IndentationError",
     "evalue": "expected an indented block after 'for' statement on line 9 (1086023059.py, line 10)",
     "output_type": "error",
     "traceback": [
      "\u001b[1;36m  Cell \u001b[1;32mIn[52], line 10\u001b[1;36m\u001b[0m\n\u001b[1;33m    if user == list:\u001b[0m\n\u001b[1;37m    ^\u001b[0m\n\u001b[1;31mIndentationError\u001b[0m\u001b[1;31m:\u001b[0m expected an indented block after 'for' statement on line 9\n"
     ]
    }
   ],
   "source": [
    "list = []\n",
    "def num_game(x):\n",
    "    n = int(input(\"Enter the elements you want : \"))\n",
    "    for i in range(1,n+1):\n",
    "        x = int(input(f'Enter your {i} number : '))\n",
    "        list.append(x)\n",
    "    print(list)\n",
    "    user = int(input(\"Guess the number of first user\"))\n",
    "    for user in list:\n",
    "        if user == list:\n",
    "            print(\"Well guessed\")\n",
    "        else:\n",
    "            print(\"try later\")\n",
    "        \n",
    "\n",
    "num_game(\"rupali\")\n",
    "    "
   ]
  },
  {
   "cell_type": "code",
   "execution_count": 57,
   "id": "249e75c1-d4ea-4e35-a4a7-4597615c0375",
   "metadata": {},
   "outputs": [
    {
     "name": "stdin",
     "output_type": "stream",
     "text": [
      "Enter First number :  33\n",
      "Enter second number :  34\n",
      "Enter third number :  35\n"
     ]
    },
    {
     "name": "stdout",
     "output_type": "stream",
     "text": [
      "Multiplication of numbers is :  39270\n"
     ]
    }
   ],
   "source": [
    "#take input three numbers\n",
    "# find sum if numbers are less than 20\n",
    "#find subtract if numbers greater than 20 subtract \n",
    "#ind subtract if numbers greater than 30 multiply \n",
    "\n",
    "a = int(input(\"Enter First number : \"))\n",
    "b = int(input(\"Enter second number : \"))\n",
    "c = int(input(\"Enter third number : \"))\n",
    "\n",
    "if a < 20 and b < 20 and c < 20:\n",
    "    print(\"Sum of numbers is : \",a+b+c)\n",
    "elif a > 20 and a < 30 and b > 20 and b <30 and c > 20 and c < 30:\n",
    "    print(\"Subtraction of numbers is : \",a-b-c)\n",
    "elif a >30 and b >30 and c > 30:\n",
    "        print(\"Multiplication of numbers is : \",a*b*c)"
   ]
  },
  {
   "cell_type": "code",
   "execution_count": 23,
   "id": "c3bb5abd-9e1f-4a0e-be28-9f34a42c8689",
   "metadata": {},
   "outputs": [
    {
     "name": "stdout",
     "output_type": "stream",
     "text": [
      "Reversed list is :  [100, 90, 80, 70, 60, 50, 40, 30, 20, 10]\n",
      "From 80 to 40 reverse is :  [80, 70, 60, 50, 40]\n"
     ]
    }
   ],
   "source": [
    "# Reverse the following list\n",
    "# list = [10,20,30,40,50,60,70,80,90,100]\n",
    "# Reverse from 80 to 40\n",
    "\n",
    "\n",
    "list = [10,20,30,40,50,60,70,80,90,100]\n",
    "\n",
    "list.reverse()\n",
    "print(\"Reversed list is : \",list)\n",
    "\n",
    "list1= [10,20,30,40,50,60,70,80,90,100]\n",
    "\n",
    "list2 = list1[3:8]\n",
    "list2.reverse()\n",
    "print(\"From 80 to 40 reverse is : \",list2)\n"
   ]
  },
  {
   "cell_type": "code",
   "execution_count": 6,
   "id": "6b470def-e6dc-4b82-b00c-7d66430b2802",
   "metadata": {},
   "outputs": [
    {
     "name": "stdout",
     "output_type": "stream",
     "text": [
      "['January', 'February', 'March', 'April', 'May', 'June', 'July', 'August', 'September', 'October', 'November', 'December']\n"
     ]
    },
    {
     "name": "stdin",
     "output_type": "stream",
     "text": [
      "Enter any month from list to know days december\n"
     ]
    },
    {
     "name": "stdout",
     "output_type": "stream",
     "text": [
      "31 days.\n"
     ]
    }
   ],
   "source": [
    "#Write a program to convert the month name to the number of days. using for loop. Ex january has 31 days. february has 28/29 days.\n",
    "list = [\"January\", \"February\", \"March\", \"April\", \"May\", \"June\", \"July\", \"August\", \"September\", \"October\", \"November\", \"December\"]\n",
    "print(list)\n",
    "\n",
    "month = input(\"Enter any month from list to know days\")\n",
    "if month.title() == \"February\":\n",
    "        print(\"The month of February has 28/29 days\")\n",
    "elif month.title() == \"April\" or month.title() == \"June\" or month.title() == \"September\"or month.title() == \"November\":\n",
    "        print(\" 30 days.\")\n",
    "elif month.title() == \"January\" or month.title() == \"March\" or month.title() == \"May\" or month.title() == \"July\"or month.title() == \"August\" or month.title() == \"October\" or month.title() == \"December\":\n",
    "        print(\"31 days.\")\n",
    "else:\n",
    "        print(\"Month is not a valid\")"
   ]
  },
  {
   "cell_type": "code",
   "execution_count": null,
   "id": "020d68e5-f0d4-4a27-9089-c95427fdfa78",
   "metadata": {},
   "outputs": [],
   "source": []
  }
 ],
 "metadata": {
  "kernelspec": {
   "display_name": "Python 3 (ipykernel)",
   "language": "python",
   "name": "python3"
  },
  "language_info": {
   "codemirror_mode": {
    "name": "ipython",
    "version": 3
   },
   "file_extension": ".py",
   "mimetype": "text/x-python",
   "name": "python",
   "nbconvert_exporter": "python",
   "pygments_lexer": "ipython3",
   "version": "3.12.3"
  }
 },
 "nbformat": 4,
 "nbformat_minor": 5
}
