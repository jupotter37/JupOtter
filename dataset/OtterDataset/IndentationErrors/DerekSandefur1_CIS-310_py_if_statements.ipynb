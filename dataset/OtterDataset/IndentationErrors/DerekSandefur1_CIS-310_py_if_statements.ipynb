{
 "cells": [
  {
   "cell_type": "markdown",
   "metadata": {},
   "source": [
    "# Derek Sandefur\n",
    "## wk5 02/15/2024 - 02/20/2024\n",
    "### Python Statements [if,else,elif]"
   ]
  },
  {
   "cell_type": "markdown",
   "metadata": {},
   "source": [
    "**the format of the if-statement**\n",
    "'''\n",
    "if condition1:\n",
    "   perform action1\n",
    "elif condition2\n",
    "     perform action2\n",
    "else:\n",
    "    perform action3\n",
    "'''    "
   ]
  },
  {
   "cell_type": "code",
   "execution_count": 1,
   "metadata": {},
   "outputs": [
    {
     "name": "stdout",
     "output_type": "stream",
     "text": [
      "Hi Five\n"
     ]
    }
   ],
   "source": [
    "value = 5\n",
    "\n",
    "if value == 5:\n",
    "    print(\"Hi Five\")"
   ]
  },
  {
   "cell_type": "code",
   "execution_count": 2,
   "metadata": {},
   "outputs": [
    {
     "ename": "IndentationError",
     "evalue": "expected an indented block (<ipython-input-2-06b08f31b0bf>, line 3)",
     "output_type": "error",
     "traceback": [
      "\u001b[1;36m  File \u001b[1;32m\"<ipython-input-2-06b08f31b0bf>\"\u001b[1;36m, line \u001b[1;32m3\u001b[0m\n\u001b[1;33m    print(\"Hi Five\")\u001b[0m\n\u001b[1;37m        ^\u001b[0m\n\u001b[1;31mIndentationError\u001b[0m\u001b[1;31m:\u001b[0m expected an indented block\n"
     ]
    }
   ],
   "source": [
    "value = 5\n",
    "if value == 5:\n",
    "print(\"Hi Five\")"
   ]
  },
  {
   "cell_type": "code",
   "execution_count": 3,
   "metadata": {},
   "outputs": [
    {
     "name": "stdout",
     "output_type": "stream",
     "text": [
      "Let's try again!\n"
     ]
    }
   ],
   "source": [
    "value = 6\n",
    "\n",
    "if value == 5:\n",
    "    print(\"Hi Five\")\n",
    "else:\n",
    "    print(\"Let's try again!\")"
   ]
  },
  {
   "cell_type": "code",
   "execution_count": 4,
   "metadata": {},
   "outputs": [
    {
     "name": "stdout",
     "output_type": "stream",
     "text": [
      "You may redoredo test2 87\n"
     ]
    }
   ],
   "source": [
    "test1 = 98\n",
    "test2 = 87\n",
    "\n",
    "if test1 < test2:\n",
    "    print(f\"You may redoredo test1 {test1}\")\n",
    "else:\n",
    "    print(f\"You may redoredo test2 {test2}\")"
   ]
  },
  {
   "cell_type": "code",
   "execution_count": 5,
   "metadata": {},
   "outputs": [
    {
     "name": "stdout",
     "output_type": "stream",
     "text": [
      "You may redoredo test2 87\n"
     ]
    }
   ],
   "source": [
    "if test1 < test2:\n",
    "    print(f\"You may redoredo test1 {test1}\")\n",
    "elif test2 < test1:\n",
    "    print(f\"You may redoredo test2 {test2}\")\n",
    "else:\n",
    "    print(f\"test1 {test1} and test2 {test2} scores are equal!\")"
   ]
  },
  {
   "cell_type": "code",
   "execution_count": 6,
   "metadata": {},
   "outputs": [
    {
     "name": "stdout",
     "output_type": "stream",
     "text": [
      "test1 81 and test2 81 scores are equal!\n"
     ]
    }
   ],
   "source": [
    "test1 = 81\n",
    "test2 = 81\n",
    "\n",
    "if test1 < test2:\n",
    "    print(f\"You may redoredo test1 {test1}\")\n",
    "elif test2 < test1:\n",
    "    print(f\"You may redoredo test2 {test2}\")\n",
    "else:\n",
    "    print(f\"test1 {test1} and test2 {test2} scores are equal!\")"
   ]
  },
  {
   "cell_type": "code",
   "execution_count": 7,
   "metadata": {},
   "outputs": [
    {
     "name": "stdout",
     "output_type": "stream",
     "text": [
      "Welcome to Colorado!\n"
     ]
    }
   ],
   "source": [
    "s = \"Colorado\"\n",
    "\n",
    "if s == \"Colorado\":\n",
    "    print(\"Welcome to Colorado!\")\n",
    "elif s == \"Florida\":\n",
    "    print(\"Welcome to Florida!\")\n",
    "elif s == \"Alaska\":\n",
    "    print(\"Welcome to Alaska!\")\n",
    "elif s == \"Utah\":\n",
    "    print(\"Welcome to Utah!\")\n",
    "else:\n",
    "    print(\"Where are you now?\")\n"
   ]
  },
  {
   "cell_type": "code",
   "execution_count": 8,
   "metadata": {},
   "outputs": [],
   "source": [
    "welcome = {'Colorado':'Welcome to Colorado!', \n",
    "           'Florida': 'Welcome to Florida!',\n",
    "           'Alaska': 'Welcome to Alaska!',\n",
    "           'Utah':'Welcome to Utah!'}"
   ]
  },
  {
   "cell_type": "code",
   "execution_count": 9,
   "metadata": {},
   "outputs": [
    {
     "data": {
      "text/plain": [
       "{'Colorado': 'Welcome to Colorado!',\n",
       " 'Florida': 'Welcome to Florida!',\n",
       " 'Alaska': 'Welcome to Alaska!',\n",
       " 'Utah': 'Welcome to Utah!'}"
      ]
     },
     "execution_count": 9,
     "metadata": {},
     "output_type": "execute_result"
    }
   ],
   "source": [
    "welcome"
   ]
  },
  {
   "cell_type": "code",
   "execution_count": 10,
   "metadata": {},
   "outputs": [
    {
     "data": {
      "text/plain": [
       "'Welcome to Colorado!'"
      ]
     },
     "execution_count": 10,
     "metadata": {},
     "output_type": "execute_result"
    }
   ],
   "source": [
    "welcome[s]"
   ]
  },
  {
   "cell_type": "code",
   "execution_count": 11,
   "metadata": {},
   "outputs": [
    {
     "data": {
      "text/plain": [
       "'Welcome to Utah!'"
      ]
     },
     "execution_count": 11,
     "metadata": {},
     "output_type": "execute_result"
    }
   ],
   "source": [
    "s = 'Utah'\n",
    "welcome[s]"
   ]
  },
  {
   "cell_type": "code",
   "execution_count": 12,
   "metadata": {},
   "outputs": [
    {
     "data": {
      "text/plain": [
       "'Welcome to Utah!'"
      ]
     },
     "execution_count": 12,
     "metadata": {},
     "output_type": "execute_result"
    }
   ],
   "source": [
    "s = 'Utah'\n",
    "welcome.get(s, \"Where are you now?\")"
   ]
  },
  {
   "cell_type": "code",
   "execution_count": 13,
   "metadata": {},
   "outputs": [
    {
     "data": {
      "text/plain": [
       "'Where are you now?'"
      ]
     },
     "execution_count": 13,
     "metadata": {},
     "output_type": "execute_result"
    }
   ],
   "source": [
    "s = 'Somewhere'\n",
    "welcome.get(s, \"Where are you now?\")"
   ]
  },
  {
   "cell_type": "code",
   "execution_count": 1,
   "metadata": {},
   "outputs": [
    {
     "name": "stdout",
     "output_type": "stream",
     "text": [
      "Redo test2\n"
     ]
    }
   ],
   "source": [
    "# shortcut one-line if-statement\n",
    "test1, test2 = 81, 79\n",
    "if test1 > test2 : print(\"Redo test2\") "
   ]
  },
  {
   "cell_type": "code",
   "execution_count": 3,
   "metadata": {},
   "outputs": [
    {
     "name": "stdout",
     "output_type": "stream",
     "text": [
      "Redo test2\n"
     ]
    }
   ],
   "source": [
    "print(\"Redo test2\") if test1 > test2 else print(\"Redo test1\")"
   ]
  },
  {
   "cell_type": "code",
   "execution_count": 4,
   "metadata": {},
   "outputs": [
    {
     "data": {
      "text/plain": [
       "True"
      ]
     },
     "execution_count": 4,
     "metadata": {},
     "output_type": "execute_result"
    }
   ],
   "source": [
    "'c' in 'cis310'"
   ]
  },
  {
   "cell_type": "code",
   "execution_count": 5,
   "metadata": {},
   "outputs": [
    {
     "data": {
      "text/plain": [
       "True"
      ]
     },
     "execution_count": 5,
     "metadata": {},
     "output_type": "execute_result"
    }
   ],
   "source": [
    "5 in [1,4,5,6,7,8]"
   ]
  },
  {
   "cell_type": "code",
   "execution_count": 6,
   "metadata": {},
   "outputs": [
    {
     "name": "stdout",
     "output_type": "stream",
     "text": [
      "3\n",
      "2\n",
      "1\n"
     ]
    }
   ],
   "source": [
    "if 'c' in 'cis310': print(3); print(2); print(1)"
   ]
  },
  {
   "cell_type": "code",
   "execution_count": null,
   "metadata": {},
   "outputs": [],
   "source": []
  },
  {
   "cell_type": "code",
   "execution_count": 8,
   "metadata": {},
   "outputs": [
    {
     "name": "stdout",
     "output_type": "stream",
     "text": [
      "Lets go  running\n"
     ]
    }
   ],
   "source": [
    "# using if inside print statement\n",
    "raining=True\n",
    "print(\"Lets go \", 'swimming' if not raining else 'running')\n"
   ]
  },
  {
   "cell_type": "code",
   "execution_count": 9,
   "metadata": {},
   "outputs": [],
   "source": [
    "age = 12\n",
    "s = 'minor' if age < 18 else 'adult'"
   ]
  },
  {
   "cell_type": "code",
   "execution_count": 10,
   "metadata": {},
   "outputs": [
    {
     "data": {
      "text/plain": [
       "'minor'"
      ]
     },
     "execution_count": 10,
     "metadata": {},
     "output_type": "execute_result"
    }
   ],
   "source": [
    "s"
   ]
  },
  {
   "cell_type": "code",
   "execution_count": 11,
   "metadata": {},
   "outputs": [
    {
     "name": "stdout",
     "output_type": "stream",
     "text": [
      "minor\n"
     ]
    }
   ],
   "source": [
    "if age < 18:\n",
    "    s = 'minor'\n",
    "else:\n",
    "    s = 'adult'\n",
    "print(s)    "
   ]
  },
  {
   "cell_type": "code",
   "execution_count": 12,
   "metadata": {},
   "outputs": [
    {
     "name": "stdout",
     "output_type": "stream",
     "text": [
      "Both conditions are evaulated to True!\n"
     ]
    }
   ],
   "source": [
    "#and/or logical operator\n",
    "s1,s2,s3 = 89, 75, 92\n",
    "\n",
    "if (s1 > s2) and (s3 > s2): print(\"Both conditions are evaulated to True!\")"
   ]
  },
  {
   "cell_type": "code",
   "execution_count": 15,
   "metadata": {},
   "outputs": [
    {
     "name": "stdout",
     "output_type": "stream",
     "text": [
      "At least one of the conditions is evaluated to True!\n"
     ]
    }
   ],
   "source": [
    "if (s1 < s2) or (s3 > s2): print(\"At least one of the conditions is evaluated to True!\")"
   ]
  },
  {
   "cell_type": "code",
   "execution_count": null,
   "metadata": {},
   "outputs": [],
   "source": []
  }
 ],
 "metadata": {
  "kernelspec": {
   "display_name": "Python 3.7 - default",
   "language": "python",
   "name": "py37_default"
  },
  "language_info": {
   "codemirror_mode": {
    "name": "ipython",
    "version": 3
   },
   "file_extension": ".py",
   "mimetype": "text/x-python",
   "name": "python",
   "nbconvert_exporter": "python",
   "pygments_lexer": "ipython3",
   "version": "3.7.7"
  }
 },
 "nbformat": 4,
 "nbformat_minor": 4
}
