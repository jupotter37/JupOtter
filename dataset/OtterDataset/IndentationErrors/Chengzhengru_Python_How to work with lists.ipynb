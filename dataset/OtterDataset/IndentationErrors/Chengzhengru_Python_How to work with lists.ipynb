{
 "cells": [
  {
   "cell_type": "markdown",
   "id": "1cb48a6a-faeb-4f1e-93d1-8822cdd3e940",
   "metadata": {},
   "source": [
    "# How to work with lists "
   ]
  },
  {
   "cell_type": "code",
   "execution_count": 6,
   "id": "6b3856f4-d7fc-4b6b-af8e-40d2793cc4c3",
   "metadata": {},
   "outputs": [
    {
     "name": "stdout",
     "output_type": "stream",
     "text": [
      "alice\n",
      "dacid\n",
      "carolina\n"
     ]
    }
   ],
   "source": [
    "magicians = ['alice', 'dacid', 'carolina']\n",
    "for magician in magicians:\n",
    "    print(magician)"
   ]
  },
  {
   "cell_type": "code",
   "execution_count": 7,
   "id": "57ea9899-71bb-47b2-8d0b-4eb7dd5bea2e",
   "metadata": {},
   "outputs": [
    {
     "ename": "IndentationError",
     "evalue": "expected an indented block after 'for' statement on line 1 (755754773.py, line 2)",
     "output_type": "error",
     "traceback": [
      "\u001b[0;36m  Cell \u001b[0;32mIn[7], line 2\u001b[0;36m\u001b[0m\n\u001b[0;31m    for dog in dogs:\u001b[0m\n\u001b[0m    ^\u001b[0m\n\u001b[0;31mIndentationError\u001b[0m\u001b[0;31m:\u001b[0m expected an indented block after 'for' statement on line 1\n"
     ]
    }
   ],
   "source": [
    "for cat in cats:\n",
    "for dog in dogs:\n",
    "for item in items: "
   ]
  },
  {
   "cell_type": "code",
   "execution_count": 13,
   "id": "36a13eb9-59be-41d5-9219-fdf3b32fb34e",
   "metadata": {},
   "outputs": [
    {
     "name": "stdout",
     "output_type": "stream",
     "text": [
      "Alice, that was a great trick!\n",
      "Dacid, that was a great trick!\n",
      "Carolina, that was a great trick!\n"
     ]
    }
   ],
   "source": [
    "magicians = ['alice', 'dacid', 'carolina']\n",
    "for magician in magicians:\n",
    "    print(f\"{magician.title()}, that was a great trick!\")"
   ]
  },
  {
   "cell_type": "code",
   "execution_count": 12,
   "id": "9f105634-285a-44ef-84b0-be0238d29b11",
   "metadata": {},
   "outputs": [
    {
     "name": "stdout",
     "output_type": "stream",
     "text": [
      "Alice, that was a great trick!\n",
      "I can't wati to see your next trick, Alice.\n",
      "\n",
      "Dacid, that was a great trick!\n",
      "I can't wati to see your next trick, Dacid.\n",
      "\n",
      "Carolina, that was a great trick!\n",
      "I can't wati to see your next trick, Carolina.\n",
      "\n"
     ]
    }
   ],
   "source": [
    "magicians = ['alice', 'dacid', 'carolina']\n",
    "for magician in magicians:\n",
    "    print(f\"{magician.title()}, that was a great trick!\")\n",
    "    print(f\"I can't wati to see your next trick, {magician.title()}.\\n\")"
   ]
  },
  {
   "cell_type": "code",
   "execution_count": 14,
   "id": "3ffcab2d-3dc0-4327-bffb-a4269e3459ae",
   "metadata": {},
   "outputs": [
    {
     "name": "stdout",
     "output_type": "stream",
     "text": [
      "Alice, that was a great trick!\n",
      "I can't wati to see your next trick, Alice.\n",
      "\n",
      "Dacid, that was a great trick!\n",
      "I can't wati to see your next trick, Dacid.\n",
      "\n",
      "Carolina, that was a great trick!\n",
      "I can't wati to see your next trick, Carolina.\n",
      "\n",
      "Thank you, everyone. That was a great magic show!\n"
     ]
    }
   ],
   "source": [
    "magicians = ['alice', 'dacid', 'carolina']\n",
    "for magician in magicians:\n",
    "    print(f\"{magician.title()}, that was a great trick!\")\n",
    "    print(f\"I can't wati to see your next trick, {magician.title()}.\\n\")\n",
    "\n",
    "print(\"Thank you, everyone. That was a great magic show!\")"
   ]
  },
  {
   "cell_type": "code",
   "execution_count": 15,
   "id": "ebb809e1-dd4c-430c-8e1e-9e3de2306011",
   "metadata": {},
   "outputs": [
    {
     "ename": "IndentationError",
     "evalue": "expected an indented block after 'for' statement on line 2 (1014895341.py, line 3)",
     "output_type": "error",
     "traceback": [
      "\u001b[0;36m  Cell \u001b[0;32mIn[15], line 3\u001b[0;36m\u001b[0m\n\u001b[0;31m    print(magician)\u001b[0m\n\u001b[0m    ^\u001b[0m\n\u001b[0;31mIndentationError\u001b[0m\u001b[0;31m:\u001b[0m expected an indented block after 'for' statement on line 2\n"
     ]
    }
   ],
   "source": [
    "magicians = ['alice', 'dacid', 'carolina']\n",
    "for magician in magicians:\n",
    "print(magician)"
   ]
  },
  {
   "cell_type": "code",
   "execution_count": 16,
   "id": "647f6f4a-2271-41bb-b6b4-1deaa2b90770",
   "metadata": {},
   "outputs": [
    {
     "name": "stdout",
     "output_type": "stream",
     "text": [
      "Alice, that was a great trick!\n",
      "Dacid, that was a great trick!\n",
      "Carolina, that was a great trick!\n",
      "I can't wati to see your next trick, Carolina.\n",
      "\n"
     ]
    }
   ],
   "source": [
    "magicians = ['alice', 'dacid', 'carolina']\n",
    "for magician in magicians:\n",
    "    print(f\"{magician.title()}, that was a great trick!\")\n",
    "print(f\"I can't wati to see your next trick, {magician.title()}.\\n\")"
   ]
  },
  {
   "cell_type": "code",
   "execution_count": 17,
   "id": "08000bce-4342-4355-bdb4-47118c3fe884",
   "metadata": {},
   "outputs": [
    {
     "name": "stdout",
     "output_type": "stream",
     "text": [
      "Alice, that was a great trick!\n",
      "I can't wati to see your next trick, Alice.\n",
      "\n",
      "Thank you, everyone. That was a great magic show!\n",
      "Dacid, that was a great trick!\n",
      "I can't wati to see your next trick, Dacid.\n",
      "\n",
      "Thank you, everyone. That was a great magic show!\n",
      "Carolina, that was a great trick!\n",
      "I can't wati to see your next trick, Carolina.\n",
      "\n",
      "Thank you, everyone. That was a great magic show!\n"
     ]
    }
   ],
   "source": [
    "magicians = ['alice', 'dacid', 'carolina']\n",
    "for magician in magicians:\n",
    "    print(f\"{magician.title()}, that was a great trick!\")\n",
    "    print(f\"I can't wati to see your next trick, {magician.title()}.\\n\")\n",
    "    print(\"Thank you, everyone. That was a great magic show!\")"
   ]
  },
  {
   "cell_type": "code",
   "execution_count": 20,
   "id": "faf8c666-fb2d-4dd8-91f3-94101efa6a0b",
   "metadata": {},
   "outputs": [
    {
     "name": "stdout",
     "output_type": "stream",
     "text": [
      "I like Weilong.\n",
      "I like Malaxiaowangzi.\n",
      "I like Lixiaopong.\n",
      "I really love pizza\n"
     ]
    }
   ],
   "source": [
    "latiaos = [\"weilong\", \"malaxiaowangzi\", \"lixiaopong\"]\n",
    "for latiao in latiaos:\n",
    "    print(f\"I like {latiao.title()}.\")\n",
    "print(\"I really love pizza\")"
   ]
  },
  {
   "cell_type": "code",
   "execution_count": 1,
   "id": "86cc3d57-9f5f-46c1-911c-bc7159b1f668",
   "metadata": {},
   "outputs": [
    {
     "name": "stdout",
     "output_type": "stream",
     "text": [
      "A dog would make a great pet.\n",
      "A cat would make a great pet.\n",
      "A fish would make a great pet.\n",
      "Any of these animals would make a great pet!\n"
     ]
    }
   ],
   "source": [
    "animals = ['dog', 'cat', 'fish']\n",
    "for animal in animals:\n",
    "    print(f\"A {animal} would make a great pet.\")\n",
    "print(\"Any of these animals would make a great pet!\")"
   ]
  },
  {
   "cell_type": "code",
   "execution_count": 5,
   "id": "02606eec-7082-4c5d-b5c3-b347b25e388e",
   "metadata": {},
   "outputs": [
    {
     "name": "stdout",
     "output_type": "stream",
     "text": [
      "1\n",
      "2\n",
      "3\n",
      "4\n"
     ]
    }
   ],
   "source": [
    "for value in range(1, 5):\n",
    "    print(value)"
   ]
  },
  {
   "cell_type": "code",
   "execution_count": 7,
   "id": "69fdc1dd-1603-4e50-bd43-6641f81eb466",
   "metadata": {},
   "outputs": [
    {
     "name": "stdout",
     "output_type": "stream",
     "text": [
      "1\n",
      "2\n",
      "3\n",
      "4\n",
      "5\n"
     ]
    }
   ],
   "source": [
    "for value in range(1, 6):\n",
    "    print(value)"
   ]
  },
  {
   "cell_type": "code",
   "execution_count": 9,
   "id": "e9e768ae-ebf3-46c9-8fd2-a6dfc0a40eba",
   "metadata": {},
   "outputs": [
    {
     "name": "stdout",
     "output_type": "stream",
     "text": [
      "[1, 2, 3, 4, 5]\n"
     ]
    }
   ],
   "source": [
    "numbers = list(range(1 ,6))\n",
    "print(numbers)"
   ]
  },
  {
   "cell_type": "code",
   "execution_count": 10,
   "id": "b64f0343-014d-4d0c-b44d-a7c600f76f53",
   "metadata": {},
   "outputs": [
    {
     "name": "stdout",
     "output_type": "stream",
     "text": [
      "[2, 4, 6, 8, 10, 12, 14]\n"
     ]
    }
   ],
   "source": [
    "even_numbers = list(range(2, 16, 2))\n",
    "print(even_numbers)"
   ]
  },
  {
   "cell_type": "code",
   "execution_count": 12,
   "id": "c70bcf75-0e9f-4de5-ba41-207fbeec6e6f",
   "metadata": {},
   "outputs": [
    {
     "name": "stdout",
     "output_type": "stream",
     "text": [
      "[1, 4, 9, 16, 25, 36, 49, 64, 81, 100]\n"
     ]
    }
   ],
   "source": [
    "squares = []\n",
    "for value in range(1, 11):\n",
    "    square = value ** 2\n",
    "    squares.append(square)\n",
    "\n",
    "print(squares)"
   ]
  },
  {
   "cell_type": "code",
   "execution_count": 15,
   "id": "ea2114a7-cde4-4fce-b30c-72d758b8d7d9",
   "metadata": {},
   "outputs": [
    {
     "name": "stdout",
     "output_type": "stream",
     "text": [
      "[1, 4, 9, 16, 25, 36, 49, 64, 81, 100, 121, 144, 169, 196, 225, 256]\n"
     ]
    }
   ],
   "source": [
    "squares = []\n",
    "for values in range(1, 17):\n",
    "    squares.append(values ** 2)\n",
    "print(squares)"
   ]
  },
  {
   "cell_type": "code",
   "execution_count": 17,
   "id": "ebcb37cb-28a8-44cb-98d5-4616fc99c801",
   "metadata": {},
   "outputs": [
    {
     "name": "stdout",
     "output_type": "stream",
     "text": [
      "1\n",
      "9\n",
      "45\n"
     ]
    }
   ],
   "source": [
    "digits = [1, 2, 3, 4, 5, 6, 7, 8, 9]\n",
    "print(min(digits))\n",
    "print(max(digits))\n",
    "print(sum(digits))"
   ]
  },
  {
   "cell_type": "code",
   "execution_count": 18,
   "id": "af8a3d46-353e-4e28-9fc2-d573542f1369",
   "metadata": {},
   "outputs": [
    {
     "name": "stdout",
     "output_type": "stream",
     "text": [
      "[1, 4, 9, 16, 25, 36, 49, 64, 81, 100]\n"
     ]
    }
   ],
   "source": [
    "squares = [value ** 2 for value in range(1, 11)]\n",
    "print(squares)"
   ]
  },
  {
   "cell_type": "code",
   "execution_count": 19,
   "id": "34f63d18-d7a9-4350-8b6a-6207b3e1cd8c",
   "metadata": {},
   "outputs": [
    {
     "name": "stdout",
     "output_type": "stream",
     "text": [
      "1\n",
      "2\n",
      "3\n",
      "4\n",
      "5\n",
      "6\n",
      "7\n",
      "8\n",
      "9\n",
      "10\n",
      "11\n",
      "12\n",
      "13\n",
      "14\n",
      "15\n",
      "16\n",
      "17\n",
      "18\n",
      "19\n",
      "20\n"
     ]
    }
   ],
   "source": [
    "for value in range(1, 21):\n",
    "    print(value)"
   ]
  },
  {
   "cell_type": "code",
   "execution_count": 5,
   "id": "a92c9b06-6ea9-4a56-b98a-9496bba97342",
   "metadata": {},
   "outputs": [
    {
     "name": "stdout",
     "output_type": "stream",
     "text": [
      "1\n",
      "2\n",
      "3\n",
      "4\n",
      "5\n",
      "6\n",
      "7\n",
      "8\n",
      "9\n",
      "10\n",
      "11\n",
      "12\n",
      "13\n",
      "14\n",
      "15\n",
      "16\n",
      "17\n",
      "18\n",
      "19\n",
      "20\n"
     ]
    }
   ],
   "source": [
    "for values in range(1, 21):\n",
    "    print(values)"
   ]
  },
  {
   "cell_type": "code",
   "execution_count": 6,
   "id": "446fb99b-23cf-497b-8ac6-ede94c95dbc6",
   "metadata": {},
   "outputs": [
    {
     "name": "stdout",
     "output_type": "stream",
     "text": [
      "1\n",
      "2\n",
      "3\n",
      "4\n",
      "5\n",
      "6\n",
      "7\n",
      "8\n",
      "9\n",
      "10\n",
      "11\n",
      "12\n",
      "13\n",
      "14\n"
     ]
    }
   ],
   "source": [
    "numbers = list(range(1, 15))\n",
    "for number in numbers:\n",
    "    print(number)"
   ]
  },
  {
   "cell_type": "code",
   "execution_count": 11,
   "id": "711a0927-e24f-4085-acfb-df154a9999c0",
   "metadata": {},
   "outputs": [
    {
     "name": "stdout",
     "output_type": "stream",
     "text": [
      "max: 9999999\n",
      "min: 1\n",
      "sum: 49999995000000\n"
     ]
    }
   ],
   "source": [
    "numbers = list(range(1, 10000000))\n",
    "print(\"max:\",max(numbers))\n",
    "print(\"min:\",min(numbers))\n",
    "print(\"sum:\",sum(numbers))\n",
    "\n"
   ]
  },
  {
   "cell_type": "code",
   "execution_count": 15,
   "id": "494c8346-06be-463d-accf-645a4d43f592",
   "metadata": {},
   "outputs": [
    {
     "name": "stdout",
     "output_type": "stream",
     "text": [
      "1\n",
      "3\n",
      "5\n",
      "7\n",
      "9\n",
      "11\n",
      "13\n",
      "15\n",
      "17\n",
      "19\n"
     ]
    }
   ],
   "source": [
    "odd_numbers = list(range(1, 21, 2))\n",
    "for number in odd_numbers:\n",
    "    print(number)"
   ]
  },
  {
   "cell_type": "code",
   "execution_count": 16,
   "id": "c7d9bc4b-335e-4bad-90d5-a9c1c4663869",
   "metadata": {},
   "outputs": [
    {
     "name": "stdout",
     "output_type": "stream",
     "text": [
      "3\n",
      "6\n",
      "9\n",
      "12\n",
      "15\n",
      "18\n",
      "21\n",
      "24\n",
      "27\n"
     ]
    }
   ],
   "source": [
    "numbers = list(range(3, 30, 3))\n",
    "for number in numbers:\n",
    "    print(number)"
   ]
  },
  {
   "cell_type": "code",
   "execution_count": 20,
   "id": "9eb8ebbc-3bf7-4c08-90ad-1f3ba0bf3c72",
   "metadata": {},
   "outputs": [
    {
     "name": "stdout",
     "output_type": "stream",
     "text": [
      "1\n",
      "8\n",
      "27\n",
      "64\n",
      "125\n",
      "216\n",
      "343\n",
      "512\n",
      "729\n",
      "1000\n"
     ]
    }
   ],
   "source": [
    "cubes = []\n",
    "for value in range(1, 11):\n",
    "    cubes.append(value ** 3)\n",
    "\n",
    "for cube in cubes:\n",
    "    print(cube)"
   ]
  },
  {
   "cell_type": "code",
   "execution_count": 22,
   "id": "948ba93e-86c3-45be-8254-a10a22c9d9fa",
   "metadata": {},
   "outputs": [
    {
     "name": "stdout",
     "output_type": "stream",
     "text": [
      "[1, 8, 27, 64, 125, 216, 343, 512, 729, 1000]\n"
     ]
    }
   ],
   "source": [
    "cubes = [value ** 3 for value in range(1, 11)]\n",
    "print(cubes)"
   ]
  },
  {
   "cell_type": "code",
   "execution_count": 24,
   "id": "05950188-0f5f-474e-948b-d2831f994771",
   "metadata": {},
   "outputs": [
    {
     "name": "stdout",
     "output_type": "stream",
     "text": [
      "['charles', 'martina', 'michael']\n"
     ]
    }
   ],
   "source": [
    "players = ['charles', 'martina', 'michael', 'florence', 'eli']\n",
    "print(players[0:3])"
   ]
  },
  {
   "cell_type": "code",
   "execution_count": 25,
   "id": "438168dd-da09-435d-84e8-7be1336e99c7",
   "metadata": {},
   "outputs": [
    {
     "name": "stdout",
     "output_type": "stream",
     "text": [
      "['martina', 'michael', 'florence']\n"
     ]
    }
   ],
   "source": [
    "players = ['charles', 'martina', 'michael', 'florence', 'eli']\n",
    "print(players[1: 4])"
   ]
  },
  {
   "cell_type": "code",
   "execution_count": 26,
   "id": "009fbdb8-eb3c-4eae-9f2f-7dd902c7efd0",
   "metadata": {},
   "outputs": [
    {
     "name": "stdout",
     "output_type": "stream",
     "text": [
      "['charles', 'martina', 'michael', 'florence']\n"
     ]
    }
   ],
   "source": [
    "players = ['charles', 'martina', 'michael', 'florence', 'eli']\n",
    "print(players[:4])"
   ]
  },
  {
   "cell_type": "code",
   "execution_count": 27,
   "id": "437e9c2c-6124-43e0-abad-e4be97b2c641",
   "metadata": {},
   "outputs": [
    {
     "name": "stdout",
     "output_type": "stream",
     "text": [
      "['michael', 'florence', 'eli']\n"
     ]
    }
   ],
   "source": [
    "players = ['charles', 'martina', 'michael', 'florence', 'eli']\n",
    "print(players[2:])"
   ]
  },
  {
   "cell_type": "code",
   "execution_count": 30,
   "id": "09273e7a-8489-4017-b7a7-70a776201a27",
   "metadata": {},
   "outputs": [
    {
     "name": "stdout",
     "output_type": "stream",
     "text": [
      "['michael', 'floence', 'eli']\n"
     ]
    }
   ],
   "source": [
    "players = ['charles', 'martina', 'michael', 'floence', 'eli']\n",
    "print(players[-3:])"
   ]
  },
  {
   "cell_type": "code",
   "execution_count": 32,
   "id": "2bc66983-69f6-401c-ae59-910757668ad6",
   "metadata": {},
   "outputs": [
    {
     "name": "stdout",
     "output_type": "stream",
     "text": [
      "My favorite foods are:\n",
      "['pizza', 'falafel', 'carrot cake']\n",
      "\n",
      "My friend's favorite foods are:\n",
      "['pizza', 'falafel', 'carrot cake']\n"
     ]
    }
   ],
   "source": [
    "my_foods = ['pizza', 'falafel', 'carrot cake']\n",
    "friend_foods = my_foods[:]\n",
    "\n",
    "print(\"My favorite foods are:\")\n",
    "print(my_foods)\n",
    "\n",
    "print(\"\\nMy friend's favorite foods are:\")\n",
    "print(friend_foods)\n"
   ]
  },
  {
   "cell_type": "code",
   "execution_count": 39,
   "id": "830671d2-e834-49c7-8d4b-f77875e4e4e5",
   "metadata": {},
   "outputs": [
    {
     "name": "stdout",
     "output_type": "stream",
     "text": [
      "My favorite foods are:\n",
      "['pizza', 'falefel', 'carrot cake', 'hotpot']\n",
      "My friend's favorite foods are:\n",
      "['pizza', 'falefel', 'carrot cake', 'ice_cream']\n"
     ]
    }
   ],
   "source": [
    "my_foods = ['pizza', 'falefel', 'carrot cake']\n",
    "friend_foods = my_foods[:]\n",
    "\n",
    "my_foods.append('hotpot')\n",
    "friend_foods.append('ice_cream')\n",
    "\n",
    "print(\"My favorite foods are:\")\n",
    "print(my_foods)\n",
    "\n",
    "print(\"My friend's favorite foods are:\")\n",
    "print(friend_foods)\n"
   ]
  },
  {
   "cell_type": "code",
   "execution_count": 37,
   "id": "4d541140-aa6d-4a3b-a4c2-5f38f2a95371",
   "metadata": {},
   "outputs": [
    {
     "name": "stdout",
     "output_type": "stream",
     "text": [
      "My favorite foods are:\n",
      "['pizza', 'falefel', 'carrot cake', 'hotpot', 'ice_cream']\n",
      "My friend's favorite foods are:\n",
      "['pizza', 'falefel', 'carrot cake', 'hotpot', 'ice_cream']\n"
     ]
    }
   ],
   "source": [
    "my_foods = ['pizza', 'falefel', 'carrot cake']\n",
    "\n",
    "# it will not work\n",
    "friend_foods = my_foods \n",
    "\n",
    "my_foods.append('hotpot')\n",
    "friend_foods.append('ice_cream')\n",
    "\n",
    "print(\"My favorite foods are:\")\n",
    "print(my_foods)\n",
    "\n",
    "print(\"My friend's favorite foods are:\")\n",
    "print(friend_foods)"
   ]
  },
  {
   "cell_type": "code",
   "execution_count": 42,
   "id": "87a77ef9-a1db-4590-a200-4fb583a91502",
   "metadata": {},
   "outputs": [
    {
     "name": "stdout",
     "output_type": "stream",
     "text": [
      "The first three items in the list are: ['apple', 'banana', 'orange', 'pineapple']\n",
      "Three items from the middle of the list are: ['orange', 'pineapple', 'blueberry']\n",
      "The last three items in the list are: ['blueberry', 'strawberry', 'grape']\n"
     ]
    }
   ],
   "source": [
    "my_list = ['apple', 'banana', 'orange', 'pineapple', 'blueberry', 'strawberry', 'grape']\n",
    "print(\"The first three items in the list are:\", my_list[0: 4])\n",
    "print(\"Three items from the middle of the list are:\", my_list[2: 5])\n",
    "print(\"The last three items in the list are:\", my_list[-3:])\n",
    "    "
   ]
  },
  {
   "cell_type": "code",
   "execution_count": 48,
   "id": "742157f4-410e-41ca-ade1-f3f23eeb8960",
   "metadata": {},
   "outputs": [
    {
     "name": "stdout",
     "output_type": "stream",
     "text": [
      "My favorite foods are:\n",
      "latiao\n",
      "hotpot\n",
      "jiaozi\n",
      "carrot\n",
      "\n",
      "her_foods are:\n",
      "latiao\n",
      "hotpot\n",
      "jiaozi\n",
      "cabaage\n"
     ]
    }
   ],
   "source": [
    "my_foods = ['latiao', 'hotpot', 'jiaozi']\n",
    "\n",
    "her_foods = my_foods[:]\n",
    "\n",
    "my_foods.append('carrot')\n",
    "her_foods.append('cabaage')\n",
    "\n",
    "print(\"My favorite foods are:\")\n",
    "for food in my_foods:\n",
    "    print(food)\n",
    "\n",
    "print(\"\\nher_foods are:\")\n",
    "for her_food in her_foods:\n",
    "    print(her_food)"
   ]
  },
  {
   "cell_type": "code",
   "execution_count": 44,
   "id": "b1f97b6b-d8af-484b-8a42-d25ad3cf2744",
   "metadata": {},
   "outputs": [
    {
     "name": "stdout",
     "output_type": "stream",
     "text": [
      "My favorite pizzas are:\n",
      "芝士比萨\n",
      "培根比萨\n",
      "海鲜比萨\n",
      "夏威夷比萨\n",
      "\n",
      "My friend's favorite pizzas are:\n",
      "芝士比萨\n",
      "培根比萨\n",
      "海鲜比萨\n",
      "意大利香肠比萨\n"
     ]
    }
   ],
   "source": [
    "# 定义一个 pizza 列表\n",
    "my_pizzas = ['芝士比萨', '培根比萨', '海鲜比萨']\n",
    "\n",
    "# 复制列表\n",
    "friend_pizzas = my_pizzas[:]\n",
    "\n",
    "# 各自添加一种新的比萨\n",
    "my_pizzas.append('夏威夷比萨')\n",
    "friend_pizzas.append('意大利香肠比萨')\n",
    "\n",
    "# 打印我的比萨列表\n",
    "print(\"My favorite pizzas are:\")\n",
    "for pizza in my_pizzas:\n",
    "    print(pizza)\n",
    "\n",
    "# 打印朋友的比萨列表\n",
    "print(\"\\nMy friend's favorite pizzas are:\")\n",
    "for pizza in friend_pizzas:\n",
    "    print(pizza)"
   ]
  },
  {
   "cell_type": "code",
   "execution_count": 50,
   "id": "f2ee11b2-78ed-4188-90f5-b3b641ca35ea",
   "metadata": {},
   "outputs": [
    {
     "name": "stdout",
     "output_type": "stream",
     "text": [
      "200\n",
      "50\n"
     ]
    }
   ],
   "source": [
    "dimensions = (200, 50)\n",
    "for dimension in dimensions:\n",
    "    print(dimension)"
   ]
  },
  {
   "cell_type": "code",
   "execution_count": 52,
   "id": "e15ad453-ff87-4cfc-be26-e08b35c820a4",
   "metadata": {},
   "outputs": [
    {
     "name": "stdout",
     "output_type": "stream",
     "text": [
      "Original dimensions:\n",
      "200\n",
      "50\n",
      "\n",
      "Modified dimensions:\n",
      "50\n",
      "50\n"
     ]
    }
   ],
   "source": [
    "dimensions = (200, 50)\n",
    "print(\"Original dimensions:\")\n",
    "for dimension in dimensions:\n",
    "    print(dimension)\n",
    "\n",
    "dimensions = (400, 100)\n",
    "print(\"\\nModified dimensions:\")\n",
    "for dimensions in dimensions:\n",
    "    print(dimension)"
   ]
  },
  {
   "cell_type": "code",
   "execution_count": null,
   "id": "892a09dd-bba9-4978-8f3b-7cb4ebc2a459",
   "metadata": {},
   "outputs": [],
   "source": []
  }
 ],
 "metadata": {
  "kernelspec": {
   "display_name": "Python 3 (ipykernel)",
   "language": "python",
   "name": "python3"
  },
  "language_info": {
   "codemirror_mode": {
    "name": "ipython",
    "version": 3
   },
   "file_extension": ".py",
   "mimetype": "text/x-python",
   "name": "python",
   "nbconvert_exporter": "python",
   "pygments_lexer": "ipython3",
   "version": "3.12.7"
  }
 },
 "nbformat": 4,
 "nbformat_minor": 5
}
