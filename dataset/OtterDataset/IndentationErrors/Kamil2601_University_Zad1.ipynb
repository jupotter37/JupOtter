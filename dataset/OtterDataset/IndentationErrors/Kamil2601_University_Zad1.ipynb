{
 "cells": [
  {
   "cell_type": "code",
   "execution_count": null,
   "metadata": {},
   "outputs": [],
   "source": [
    "import random\n",
    "import numpy as np\n",
    "import matplotlib.pyplot as plt\n",
    "from numba import jit"
   ]
  },
  {
   "cell_type": "code",
   "execution_count": null,
   "metadata": {},
   "outputs": [],
   "source": [
    "def one_max(p):\n",
    "    return sum(p)\n",
    "\n",
    "def deceptive_one_max(p):\n",
    "    if sum(p) == 0: return len(p)+1\n",
    "    else: return sum(p)\n",
    "\n",
    "def k_deceptive_one_max(breaks, p):\n",
    "    breaks = [0] + breaks + [len(p)]\n",
    "\n",
    "    res = 0\n",
    "\n",
    "    for i in range(1,len(breaks)):\n",
    "        res += deceptive_one_max(p[breaks[i-1]: breaks[i]])\n",
    "\n",
    "    return res"
   ]
  },
  {
   "cell_type": "code",
   "execution_count": null,
   "metadata": {},
   "outputs": [],
   "source": [
    "def binary_random(p):\n",
    "    if np.random.rand() < p:\n",
    "        return 1\n",
    "    else:\n",
    "        return 0\n",
    "\n",
    "def initial_probability_vector(length):\n",
    "    return np.array([0] + [0.5 for i in range(length)])\n",
    "\n",
    "def random_individual(p):\n",
    "    return np.array([0] + [binary_random(x) for x in p[1:]])\n",
    "\n",
    "def random_population(p, N):\n",
    "    return np.array([random_individual(p) for _ in range(N)])\n",
    "\n",
    "def individual_evaluation(p, F):\n",
    "    c[0] = F(c[1:])\n",
    "\n",
    "def population_evaluation(P, F):\n",
    "    for c in P:\n",
    "        c[0] = F(c[1:])\n",
    "\n",
    "def best_individual(P):\n",
    "    index = np.argmax(list(map((lambda x: x[0]), P)))\n",
    "    return P[index]"
   ]
  },
  {
   "cell_type": "code",
   "execution_count": 1,
   "metadata": {},
   "outputs": [
    {
     "ename": "IndentationError",
     "evalue": "expected an indented block (368727865.py, line 10)",
     "output_type": "error",
     "traceback": [
      "\u001b[0;36m  File \u001b[0;32m\"/tmp/ipykernel_28243/368727865.py\"\u001b[0;36m, line \u001b[0;32m10\u001b[0m\n\u001b[0;31m    \u001b[0m\n\u001b[0m    ^\u001b[0m\n\u001b[0;31mIndentationError\u001b[0m\u001b[0;31m:\u001b[0m expected an indented block\n"
     ]
    }
   ],
   "source": [
    "def compact_genetic_algorithm(F, length, iterations, theta):\n",
    "    p = initial_probability_vector(length)\n",
    "    best = random_individual(p)\n",
    "    worst = random_individual(p)\n",
    "\n",
    "    individual_evaluation(best, F)\n",
    "    individual_evaluation(worst, F)\n",
    "\n",
    "    for _ in range(iterations):\n",
    "        if best[0] < worst[0]:\n",
    "            best, worst = worst, best\n",
    "\n",
    "            for k in range(1, length+1):\n",
    "                if best[k] == \n",
    "    "
   ]
  },
  {
   "cell_type": "code",
   "execution_count": null,
   "metadata": {},
   "outputs": [],
   "source": [
    "def population_based_incremental_learning(F, N, length, iterations, learning_ratio, mutation_prob, disturbance_factor):\n",
    "    p = initial_probability_vector(length)\n",
    "    P = random_population(p, N)\n",
    "    populations = []\n",
    "    population_evaluation(P, F)\n",
    "\n",
    "    for _ in range(iterations):\n",
    "        best = best_individual(P)\n",
    "\n",
    "        for k in range(1, length+1):\n",
    "            p[k] = p[k] * (1-learning_ratio) + best[k] * learning_ratio\n",
    "\n",
    "        for k in range(1, length+1):\n",
    "            if (random.random() < mutation_prob):\n",
    "                p[k] = p[k] * (1 - disturbance_factor) + binary_random(0.5) * disturbance_factor\n",
    "\n",
    "        populations.append(P)\n",
    "\n",
    "        P = random_population(p, N)\n",
    "        population_evaluation(P, F)\n",
    "\n",
    "\n",
    "\n",
    "    return populations\n"
   ]
  },
  {
   "cell_type": "code",
   "execution_count": null,
   "metadata": {},
   "outputs": [],
   "source": [
    "def best_score(P):\n",
    "    return np.max(list(map((lambda x: x[0]), P)))\n",
    "\n",
    "def worst_score(P):\n",
    "    return np.min(list(map((lambda x: x[0]), P)))\n",
    "\n",
    "def mean_score(P):\n",
    "    return np.mean(list(map((lambda x: x[0]), P)))"
   ]
  },
  {
   "cell_type": "code",
   "execution_count": null,
   "metadata": {},
   "outputs": [],
   "source": [
    "oneMax_1 = population_based_incremental_learning(F=one_max, N=100, length=100, iterations=1000, learning_ratio=0.01, mutation_prob=0.05, disturbance_factor=0.01)"
   ]
  }
 ],
 "metadata": {
  "interpreter": {
   "hash": "bcfc2da72d46777fb187a4f09b828ce9b97647fb15768d90a5e53a664d58994c"
  },
  "kernelspec": {
   "display_name": "Python 3.9.7 ('base')",
   "language": "python",
   "name": "python3"
  },
  "language_info": {
   "codemirror_mode": {
    "name": "ipython",
    "version": 3
   },
   "file_extension": ".py",
   "mimetype": "text/x-python",
   "name": "python",
   "nbconvert_exporter": "python",
   "pygments_lexer": "ipython3",
   "version": "3.9.7"
  },
  "orig_nbformat": 4
 },
 "nbformat": 4,
 "nbformat_minor": 2
}
