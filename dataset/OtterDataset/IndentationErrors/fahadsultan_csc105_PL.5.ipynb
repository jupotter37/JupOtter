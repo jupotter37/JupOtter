{
 "cells": [
  {
   "cell_type": "markdown",
   "id": "0ffb6721",
   "metadata": {
    "slideshow": {
     "slide_type": "slide"
    }
   },
   "source": [
    "<center>\n",
    "    <h1> PYTHON LECTURE 5</h1>\n",
    "</center>"
   ]
  },
  {
   "cell_type": "markdown",
   "id": "53c2ce3f",
   "metadata": {
    "slideshow": {
     "slide_type": "slide"
    }
   },
   "source": [
    "# Flow Chart\n",
    "\n",
    "![If Else](https://upload.wikimedia.org/wikipedia/commons/c/c5/If-Then-Else-diagram.svg)"
   ]
  },
  {
   "cell_type": "markdown",
   "id": "f10d99c7",
   "metadata": {
    "slideshow": {
     "slide_type": "slide"
    }
   },
   "source": [
    "# Syntax of if ... else \n",
    "\n",
    "`if` _boolean condition_ `:` \n",
    "\n",
    "    True statement 1\n",
    "    .\n",
    "    .\n",
    "    .\n",
    "    True statement n \n",
    "    \n",
    "`else` `:` \n",
    "\n",
    "    False statement 1 \n",
    "    . \n",
    "    . \n",
    "    . \n",
    "    False statement m \n",
    "    "
   ]
  },
  {
   "cell_type": "code",
   "execution_count": null,
   "id": "e53aff02",
   "metadata": {
    "slideshow": {
     "slide_type": "slide"
    }
   },
   "outputs": [],
   "source": [
    "a = 3\n",
    "if a > 2:\n",
    "    print('Greater than 2')\n",
    "else:\n",
    "    print(\"Less than or equal to 2\")  \n",
    "    print('Second else statement')\n",
    "print('Regardless of condition')"
   ]
  },
  {
   "cell_type": "markdown",
   "id": "35a7ecaa",
   "metadata": {
    "slideshow": {
     "slide_type": "slide"
    }
   },
   "source": [
    "# Boolean Operators \n",
    "\n",
    "* These operators return `True` or `False` (i.e. boolean data type). \n",
    "\n",
    "* **We will use these for conditions in `if` statements:**\n",
    "\n",
    "\n",
    "| Operator      | Description   |Example.      |\n",
    "| :-----------  | :-----------: |:-----------: |\n",
    "| ==  |  Returns `True` if left hand operand is equal to right hand operand. Otherwise, returns `False`  | `a+b == b+a` |\n",
    "| != |  Returns `True` if left hand operand is _NOT_ equal to  right hand operand. Otherwise, returns `False`.  | `a*b != b/a`|\n",
    "| < |  Returns `True` if left hand operand is less than right hand operand. Otherwise, returns `False`.  | `b/a < b`|\n",
    "| > |  Returns `True` if left hand operand is greater than right hand operand. Otherwise, returns `False`.  | `a*b > b`|\n",
    "| <= |  Returns `True` if left hand operand is less than or equal to right hand operand. Otherwise, returns `False`.  | `a-b <= a`|\n",
    "| >= |  Returns `True` if left hand operand is greater than or equal to right hand operand. Otherwise, returns `False`.  | `a*b >= b*a`|"
   ]
  },
  {
   "cell_type": "markdown",
   "id": "927aa5a4",
   "metadata": {
    "slideshow": {
     "slide_type": "slide"
    }
   },
   "source": [
    "#  Logical Operators "
   ]
  },
  {
   "cell_type": "markdown",
   "id": "ce86ec60",
   "metadata": {},
   "source": [
    "**We will use these for conditions in `if` statements:**"
   ]
  },
  {
   "cell_type": "markdown",
   "id": "1f0629e6",
   "metadata": {},
   "source": [
    "| Operator      | Description   |\n",
    "|:------        | ------:|\n",
    "|`not`            |  Inverts the existing boolean value i.e. `not` True = False; `not` False = True |\n",
    "|`and`            | True iff **all** boolean expressions are True, False otherwise |\n",
    "|`or`\t\t| True iff **any** boolean expression is True, False iff **all** are False | "
   ]
  },
  {
   "cell_type": "code",
   "execution_count": null,
   "id": "ed5e78cb",
   "metadata": {},
   "outputs": [],
   "source": [
    "a = 0\n",
    "b = 3\n",
    "\n",
    "if not (((b != 3) or (a < 1)) and (b !=0)):\n",
    "    print('South')\n",
    "else:\n",
    "    print('Carolina')"
   ]
  },
  {
   "cell_type": "markdown",
   "id": "1047de34",
   "metadata": {
    "slideshow": {
     "slide_type": "slide"
    }
   },
   "source": [
    "# Indentation"
   ]
  },
  {
   "cell_type": "markdown",
   "id": "1364f78f",
   "metadata": {},
   "source": [
    "* The **body** of the `if` and `else` statements start with an **indentation** (whitespace at the beginning of a line) and the first unindented line marks the end. \n",
    "\n",
    "* If the statements in the body are not *indented* OR the intendentation is **not consistent**, `IndentationError` would result"
   ]
  },
  {
   "cell_type": "code",
   "execution_count": null,
   "id": "4e33fb8b",
   "metadata": {},
   "outputs": [],
   "source": [
    "a = 1\n",
    "if a > 2:\n",
    "    print('Greater than 2')\n",
    "else:\n",
    "    print(\"Less than 2\")  \n",
    "    print('Today is Friday')\n",
    "    print(\"Abc\")\n",
    "    \n",
    "print(\"we have a long weekend coming up\")"
   ]
  },
  {
   "cell_type": "markdown",
   "id": "e466cd24",
   "metadata": {},
   "source": [
    "# If ... else vs. booleans"
   ]
  },
  {
   "cell_type": "code",
   "execution_count": null,
   "id": "565989ce",
   "metadata": {
    "slideshow": {
     "slide_type": "slide"
    }
   },
   "outputs": [],
   "source": [
    "college = 4\n",
    "experience = 0\n",
    "gpa = 3.7\n",
    "already_employee = False\n",
    "\n",
    "good_candidate = (college >= 4 and (experience >= 5 or gpa > 3.5) and not already_employee)\n",
    "bad_candidate = not good_candidate\n",
    "\n",
    "## A. \n",
    "answer = (good_candidate*\"Hired!\") + (bad_candidate*\"We regret to inform you...\")\n",
    "print(answer)\n",
    "\n",
    "## B. \n",
    "if good_candidate: \n",
    "    answer = \"Hired!\"\n",
    "else:\n",
    "    answer = \"We regret to inform you... \"\n",
    "print(answer)\n",
    "\n",
    "## A. == B. "
   ]
  },
  {
   "cell_type": "markdown",
   "id": "578f6f7d",
   "metadata": {
    "slideshow": {
     "slide_type": "slide"
    }
   },
   "source": [
    "# Nested if else "
   ]
  },
  {
   "cell_type": "code",
   "execution_count": null,
   "id": "a91010d8",
   "metadata": {},
   "outputs": [],
   "source": [
    "#C.\n",
    "\n",
    "if (college >= 4):\n",
    "    if (experience >= 5 or gpa > 3.5):\n",
    "        if not already_employee:\n",
    "            print(\"Hired\")\n",
    "else:\n",
    "    print(\"We regret to inform you...\")\n",
    "    \n",
    "#A. == B. == C."
   ]
  },
  {
   "cell_type": "markdown",
   "id": "d937c2c2",
   "metadata": {
    "slideshow": {
     "slide_type": "slide"
    }
   },
   "source": [
    "|Criteria | Letter Grade |\n",
    "|--------------|-|\n",
    "| Total points ≥ 90% | A | \n",
    "| 80% ≤ Total points < 90% |B |  \n",
    "| 70% ≤ Total points < 80% |C | \n",
    "| 60% ≤ Total points < 70% |D | \n",
    "| Total points < 60% |F | "
   ]
  },
  {
   "cell_type": "code",
   "execution_count": 65,
   "id": "40a857c6",
   "metadata": {},
   "outputs": [
    {
     "name": "stdout",
     "output_type": "stream",
     "text": [
      "C\n"
     ]
    }
   ],
   "source": [
    "\"\"\"Implement the letter grade \n",
    "table above, using if-else\n",
    "\"\"\"\n",
    "\n",
    "#Inputs, assume percentage \n",
    "total_points = 75\n",
    "\n",
    "letter_grade = \"TBD\"\n",
    "\n",
    "if total_points <60:\n",
    "    letter_grade = \"F\"\n",
    "else:\n",
    "    if (total_points < 70) and (total_points >= 60):\n",
    "        letter_grade = \"D\"    \n",
    "    else:\n",
    "        if (total_points < 80) and (total_points >= 70):\n",
    "            letter_grade = \"C\"    \n",
    "        else:   \n",
    "            if total_points < 90 and total_points >= 80:\n",
    "                letter_grade = \"B\"\n",
    "            else: \n",
    "                letter_grade = \"A\"\n",
    "#                 if totals_points < 100 and total_points >= 90:\n",
    "#                 else:\n",
    "#                     letter_grade = \"A+\"\n",
    "\n",
    "#Output(s)\n",
    "print(letter_grade)\n"
   ]
  },
  {
   "cell_type": "markdown",
   "id": "074f8afe",
   "metadata": {
    "slideshow": {
     "slide_type": "slide"
    }
   },
   "source": [
    "#  `if` ... _`elif`_ ... `else`"
   ]
  },
  {
   "cell_type": "markdown",
   "id": "939f74f3",
   "metadata": {},
   "source": [
    "* The `elif` keyword allow additional (boolean) conditions, in case the condition for `if` was `False`\n",
    "* You can have as many `elif`s as you want\n",
    "* Generally, a more **readable** alternative to nested `if`.. `else` statements"
   ]
  },
  {
   "cell_type": "markdown",
   "id": "4b1406f8",
   "metadata": {},
   "source": [
    "**Syntax**: \n",
    "\n",
    "`if` test expression`:` \n",
    "\n",
    "    Body of if \n",
    "   \n",
    "**`elif`** test expression`:` \n",
    "\n",
    "    Body of elif\n",
    "       \n",
    "`else` `:`  \n",
    "\n",
    "    Body of else "
   ]
  },
  {
   "cell_type": "markdown",
   "id": "01c44008",
   "metadata": {
    "slideshow": {
     "slide_type": "slide"
    }
   },
   "source": [
    "## `elif` flowchart\n",
    "![Elif](https://cdn.programiz.com/sites/tutorial2program/files/Python_if_elif_else_statement.jpg)"
   ]
  },
  {
   "cell_type": "code",
   "execution_count": 69,
   "id": "74a6ebca",
   "metadata": {
    "slideshow": {
     "slide_type": "slide"
    }
   },
   "outputs": [
    {
     "name": "stdout",
     "output_type": "stream",
     "text": [
      "A == B\n"
     ]
    }
   ],
   "source": [
    "\"\"\"Elif example\"\"\"\n",
    "\n",
    "a = 33\n",
    "b = 33\n",
    "\n",
    "\"\"\"A\"\"\"\n",
    "if b > a:\n",
    "    print(\"Block A - b is greater than a\")\n",
    "elif b < a:\n",
    "    print(\"Block A - b is less than a\")\n",
    "else:\n",
    "    print(\"A == B\") \n",
    "    \n",
    "\"\"\"B\"\"\"\n",
    "if b > a:\n",
    "    print(\"Block A - b is greater than a\")\n",
    "else:\n",
    "    if b < a:\n",
    "        print(\"Block A - b is less than a\")\n",
    "    else:\n",
    "        print(\"A == B\")\n",
    "        "
   ]
  },
  {
   "cell_type": "markdown",
   "id": "a65e5591",
   "metadata": {
    "slideshow": {
     "slide_type": "slide"
    }
   },
   "source": [
    "|Criteria | Letter Grade |\n",
    "|--------------|-|\n",
    "| Total points ≥ 90% | A | \n",
    "| 80% ≤ Total points < 90% |B |  \n",
    "| 70% ≤ Total points < 80% |C | \n",
    "| 60% ≤ Total points < 70% |D | \n",
    "| Total points < 60% |F | "
   ]
  },
  {
   "cell_type": "code",
   "execution_count": 74,
   "id": "b16c4697",
   "metadata": {},
   "outputs": [
    {
     "name": "stdout",
     "output_type": "stream",
     "text": [
      "A\n"
     ]
    }
   ],
   "source": [
    "\"\"\"Implement the letter grade \n",
    "table above, using if-else\n",
    "\"\"\"\n",
    "\n",
    "#Inputs, assume percentage \n",
    "total_points = 85\n",
    "\n",
    "if total_points >= 90 and total_points <= 100:\n",
    "    letter_grade = \"A\"\n",
    "elif total_points >= 80:# and total_points <= 89:\n",
    "    letter_grade = \"B\"\n",
    "elif total_points >= 70:# and total_points <= 79:\n",
    "    letter_grade = \"C\"\n",
    "elif total_points >= 60:# and total_points <= 69:\n",
    "    letter_grade = \"D\"\n",
    "else:\n",
    "    letter_grade = \"F\"\n",
    "\n",
    "print(letter_grade)\n"
   ]
  },
  {
   "cell_type": "markdown",
   "id": "08c875e0",
   "metadata": {
    "slideshow": {
     "slide_type": "slide"
    }
   },
   "source": [
    "# Week 2 - Practice Problems (implement using if-else)"
   ]
  },
  {
   "cell_type": "markdown",
   "id": "8d61bb47",
   "metadata": {},
   "source": [
    "<span style=\"color:red\">Please **re-implement** solutions to the following problems from previous classes, labs and assignments, **now using if ... else statements**</span>"
   ]
  },
  {
   "cell_type": "markdown",
   "id": "34c98f08",
   "metadata": {
    "slideshow": {
     "slide_type": "slide"
    }
   },
   "source": [
    "\n",
    "## Q1. Tip 20% for good service, tip 10% otherwise (from Lecture 1.3.)"
   ]
  },
  {
   "cell_type": "code",
   "execution_count": null,
   "id": "a40e7930",
   "metadata": {},
   "outputs": [],
   "source": [
    "cheque_amount = 100\n",
    "\n",
    "service_quality = input(\"Our bill is $\"+str(cheque_amount)+\". How much should we tip? Was the service good? \")\n",
    "\n",
    "# #True if input is \"Yes\"\n",
    "good_service = service_quality == \"Yes\"\n",
    "\n",
    "bad_service  = not good_service\n",
    "\n",
    "twenty_percent_tip = 0.2 * cheque_amount\n",
    "ten_percent_tip    = 0.1 * cheque_amount\n",
    "\n",
    "tip = (good_service * twenty_percent_tip) + (bad_service * ten_percent_tip)\n",
    "\n",
    "print(\"Let's tip $\", tip)"
   ]
  },
  {
   "cell_type": "markdown",
   "id": "af3d3733",
   "metadata": {
    "slideshow": {
     "slide_type": "slide"
    }
   },
   "source": [
    "## Q2. Round a floating point number, without using `round()` (from Week-1 lab)\n",
    "\n",
    "* Assume inputs are always positive and you are to only round to the nearest integer (no digit precision).\n",
    "\n",
    "* Round up (ceil) for .5"
   ]
  },
  {
   "cell_type": "code",
   "execution_count": null,
   "id": "443b2458",
   "metadata": {},
   "outputs": [],
   "source": [
    "#Input\n",
    "float_number = 7.6\n",
    "\n",
    "#Insert your line(s) of code here\n",
    "\n",
    "#Output\n",
    "rounded = "
   ]
  },
  {
   "cell_type": "markdown",
   "id": "e13287ce",
   "metadata": {},
   "source": [
    "## Q3. Convert time from 12-hr. format to 24-hr. format (Q2 from Assignment 1)\n",
    "\n",
    "Given three _**integers**_ `clock_12hrs_hrs`, `clock_12hrs_mins` and `pm` representing hours, minutes and AM/PM respectively in 12-hour time format, set integers `clock_24hrs_hrs` and `clock_24hrs_mins` to corresponding hours and minutes in 24-hour format time. \n",
    "\n",
    "`pm` $=0$ indicates input time is AM and `pm` $= 1$ means otherwise.\n",
    "\n",
    "Feel free to introduce new variables, as needed.\n",
    "\n",
    "_Constraints on input:_ \\\n",
    "$0 \\leq $ `pm` $ \\leq 1$ \\\n",
    "$1 \\leq $ `clock_12hrs_hrs` $\\leq 12$ \\\n",
    "$ 0 \\leq $ `clock_12hrs_mins` $ \\lt 60 $\n",
    "\n",
    "\n",
    "**Example 1** \\\n",
    "_Input : 7:30 PM_ \\\n",
    "`clock_12hrs_hrs  = 7` \\\n",
    "`clock_12hrs_mins = 30` \\\n",
    "`pm = 1`\n",
    "\n",
    "_Outputs: 19:30_ \\\n",
    "`clock_24hrs_hrs = 19`\\\n",
    "`clock_24hrs_mins = 30` \n",
    "\n",
    "**Example 2** \\\n",
    "_Input : 3:14 AM_ \\\n",
    "`clock_12hrs_hrs  = 3` \\\n",
    "`clock_12hrs_mins = 14`\\\n",
    "`pm = 0`\n",
    "\n",
    "_Outputs: 3:14_ \\\n",
    "`clock_24hrs_hrs = 3` \\\n",
    "`clock_24hrs_mins = 14`\n",
    "\n",
    "**Example 3** \\\n",
    "_Input : 12:00 PM_ \\\n",
    "`clock_12hrs_hrs  = 12` \\\n",
    "`clock_12hrs_mins = 0`\\\n",
    "`pm = 1`\n",
    "\n",
    "_Outputs: 12:00_ \\\n",
    "`clock_24hrs_hrs = 12` \\\n",
    "`clock_24hrs_mins = 0`\n",
    "\n",
    "**Example 4** \\\n",
    "_Input : 12:00 AM_ \\\n",
    "`clock_12hrs_hrs  = 12` \\\n",
    "`clock_12hrs_mins = 0`\\\n",
    "`pm = 0`\n",
    "\n",
    "_Outputs: 0:00_ \\\n",
    "`clock_24hrs_hrs = 0` \\\n",
    "`clock_24hrs_mins = 0`\n",
    "\n",
    "_**Make sure you test your code for inputs other than the ones provided above**_"
   ]
  },
  {
   "cell_type": "code",
   "execution_count": null,
   "id": "6d515357",
   "metadata": {},
   "outputs": [],
   "source": [
    "\"\"\" Inputs \"\"\"\n",
    "clock_12hrs_hrs   = 12  # Test for values: 1, 2, 3,...., 10, 11, 12\n",
    "clock_12hrs_mins  = 0 # Test for values: 0, 1, 2, 3,...., 57, 58, 59 \n",
    "pm                = 0  # Test for values: 0, 1\n",
    "\n",
    "\"\"\"Insert your lines of code here\n",
    "\n",
    "Outputs\n",
    "------- \n",
    "\"\"\"\n",
    "\n",
    "\n",
    "clock_24hrs_hrs  = clock_12hrs_hrs % 12 + 12*pm\n",
    "clock_24hrs_mins = clock_12hrs_mins\n",
    "\n",
    "print(\"Inputs: \", clock_12hrs_hrs, clock_12hrs_mins, pm)\n",
    "print(\"Outputs: \",  clock_24hrs_hrs, clock_24hrs_mins)"
   ]
  },
  {
   "cell_type": "code",
   "execution_count": null,
   "id": "f2ba7658",
   "metadata": {},
   "outputs": [],
   "source": []
  }
 ],
 "metadata": {
  "celltoolbar": "Slideshow",
  "kernelspec": {
   "display_name": "Python 3 (ipykernel)",
   "language": "python",
   "name": "python3"
  },
  "language_info": {
   "codemirror_mode": {
    "name": "ipython",
    "version": 3
   },
   "file_extension": ".py",
   "mimetype": "text/x-python",
   "name": "python",
   "nbconvert_exporter": "python",
   "pygments_lexer": "ipython3",
   "version": "3.9.12"
  }
 },
 "nbformat": 4,
 "nbformat_minor": 5
}
