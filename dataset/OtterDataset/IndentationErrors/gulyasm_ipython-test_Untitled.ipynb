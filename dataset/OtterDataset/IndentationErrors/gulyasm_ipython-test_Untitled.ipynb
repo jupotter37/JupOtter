{
 "cells": [
  {
   "cell_type": "code",
   "execution_count": 1,
   "metadata": {
    "collapsed": false
   },
   "outputs": [
    {
     "data": {
      "text/plain": [
       "5"
      ]
     },
     "execution_count": 1,
     "metadata": {},
     "output_type": "execute_result"
    }
   ],
   "source": [
    "def split(x):\n",
    "    return s.split(\" \")\n",
    "\n",
    "add(2,3)"
   ]
  },
  {
   "cell_type": "code",
   "execution_count": 2,
   "metadata": {
    "collapsed": false
   },
   "outputs": [
    {
     "name": "stdout",
     "output_type": "stream",
     "text": [
      "assf\n"
     ]
    }
   ],
   "source": [
    "print(\"assf\")"
   ]
  },
  {
   "cell_type": "code",
   "execution_count": 3,
   "metadata": {
    "collapsed": false
   },
   "outputs": [
    {
     "data": {
      "text/plain": [
       "<pyspark.context.SparkContext at 0x1107ffda0>"
      ]
     },
     "execution_count": 3,
     "metadata": {},
     "output_type": "execute_result"
    }
   ],
   "source": [
    "sc"
   ]
  },
  {
   "cell_type": "code",
   "execution_count": 10,
   "metadata": {
    "collapsed": true
   },
   "outputs": [],
   "source": [
    "line = sc.textFile(\"/Users/gulyasmate/war_peace_text\")"
   ]
  },
  {
   "cell_type": "code",
   "execution_count": 11,
   "metadata": {
    "collapsed": false
   },
   "outputs": [
    {
     "data": {
      "text/plain": [
       "/Users/gulyasmate/war_peace_text MapPartitionsRDD[14] at textFile at NativeMethodAccessorImpl.java:-2"
      ]
     },
     "execution_count": 11,
     "metadata": {},
     "output_type": "execute_result"
    }
   ],
   "source": [
    "line"
   ]
  },
  {
   "cell_type": "code",
   "execution_count": 13,
   "metadata": {
    "collapsed": false
   },
   "outputs": [
    {
     "ename": "IndentationError",
     "evalue": "unexpected indent (<ipython-input-13-0efdbd7bdd95>, line 2)",
     "output_type": "error",
     "traceback": [
      "\u001b[0;36m  File \u001b[0;32m\"<ipython-input-13-0efdbd7bdd95>\"\u001b[0;36m, line \u001b[0;32m2\u001b[0m\n\u001b[0;31m    .flatMap(lambda x: x.split(\" \"))\u001b[0m\n\u001b[0m    ^\u001b[0m\n\u001b[0;31mIndentationError\u001b[0m\u001b[0;31m:\u001b[0m unexpected indent\n"
     ]
    }
   ],
   "source": [
    "count = line\n",
    "            .flatMap(lambda x: x.split(\" \"))\n",
    "            .map(lambda x: (x,1))\n",
    "            .reduceByKey(lambda x,y: x+y)"
   ]
  },
  {
   "cell_type": "code",
   "execution_count": 14,
   "metadata": {
    "collapsed": false
   },
   "outputs": [
    {
     "data": {
      "text/plain": [
       "PythonRDD[6] at collect at <ipython-input-6-f2af87b9e568>:1"
      ]
     },
     "execution_count": 14,
     "metadata": {},
     "output_type": "execute_result"
    }
   ],
   "source": [
    "count"
   ]
  },
  {
   "cell_type": "code",
   "execution_count": 6,
   "metadata": {
    "collapsed": true
   },
   "outputs": [
    {
     "data": {
      "text/plain": [
       "[('', 25834),\n",
       " ('century)', 1),\n",
       " ('reminiscence', 1),\n",
       " ('matrimonial', 1),\n",
       " ('Empereur.', 1),\n",
       " ('sea.', 1),\n",
       " ('circle', 34),\n",
       " ('detail:', 1),\n",
       " ('Helena.', 1),\n",
       " ('wings', 2),\n",
       " ('rustle,', 1),\n",
       " ('Moscow?\"', 8),\n",
       " ('birth-', 1),\n",
       " ('kiss,', 3),\n",
       " ('Whole,\"', 1),\n",
       " ('immortally', 1),\n",
       " ('something?\"', 1),\n",
       " ('neighing', 1),\n",
       " ('year-', 1),\n",
       " ('belt', 4),\n",
       " ('twice,', 2),\n",
       " ('escape,', 3),\n",
       " ('prepare,', 1),\n",
       " ('outright.', 1),\n",
       " ('bantering', 2),\n",
       " ('embarrassment', 10),\n",
       " ('whole?', 1),\n",
       " ('rusty', 1),\n",
       " ('attack.\"', 2),\n",
       " ('accordingly.\"', 1),\n",
       " ('why', 220),\n",
       " ('shallow', 2),\n",
       " ('re-enter', 2),\n",
       " ('Bolkonski,', 38),\n",
       " ('Just', 74),\n",
       " ('preceding', 10),\n",
       " ('cookers.', 1),\n",
       " ('French),', 1),\n",
       " ('passe', 1),\n",
       " ('Aunt...\"', 2),\n",
       " (\"XIV's\", 1),\n",
       " ('intense.', 1),\n",
       " ('frightfully', 1),\n",
       " ('Fedeshon!...', 1),\n",
       " ('spectators.', 1),\n",
       " ('grapeshot?\"', 1),\n",
       " ('Antonovna', 1),\n",
       " ('alert,', 3),\n",
       " ('bench', 16),\n",
       " ('staining', 1),\n",
       " ('Everywhere,', 1),\n",
       " ('cavities', 1),\n",
       " ('richer.\"', 1),\n",
       " (\"there's\", 51),\n",
       " ('Lanfrey,', 1),\n",
       " ('quick,\"', 1),\n",
       " ('swift,', 1),\n",
       " ('plumed', 1),\n",
       " ('convincing.', 2),\n",
       " ('burned!', 1),\n",
       " ('apologize.\"', 1),\n",
       " ('frock,', 1),\n",
       " ('humility.', 1),\n",
       " ('inactive?', 1),\n",
       " ('world?\"', 2),\n",
       " ('armies.', 2),\n",
       " ('inward', 5),\n",
       " (\"son's.\", 1),\n",
       " ('scheme,', 2),\n",
       " ('inquiry,', 5),\n",
       " ('baseless,', 1),\n",
       " ('reception', 39),\n",
       " ('listener,', 1),\n",
       " ('dread', 8),\n",
       " ('angelically', 1),\n",
       " ('flocked', 2),\n",
       " ('Matvevna,', 1),\n",
       " ('stencil.', 1),\n",
       " ('smite', 2),\n",
       " ('award', 1),\n",
       " ('her', 3890),\n",
       " ('senses', 2),\n",
       " ('impossible...\"', 2),\n",
       " ('jingle.', 1),\n",
       " ('inscription', 1),\n",
       " ('now\"', 1),\n",
       " ('kitchen,\"', 1),\n",
       " ('descry', 1),\n",
       " ('enjoyable', 1),\n",
       " ('\"L\\'Urope', 1),\n",
       " ('about-', 2),\n",
       " ('endorsed', 1),\n",
       " ('characteristic,', 1),\n",
       " ('knives,', 1),\n",
       " ('peu', 1),\n",
       " ('stalk', 1),\n",
       " ('lopped', 1),\n",
       " ('influences,', 2),\n",
       " (\"Bykov's,\", 1),\n",
       " ('\"Adele', 1),\n",
       " ('supper.', 11),\n",
       " ('\"What', 285),\n",
       " ('went.\"', 1),\n",
       " ('gentleman,', 5),\n",
       " ('Hills-', 2),\n",
       " ('herb', 3),\n",
       " ('standing?', 1),\n",
       " ('cameo', 1),\n",
       " ('formed', 65),\n",
       " ('refute', 1),\n",
       " ('intimate.', 1),\n",
       " ('preferred.', 1),\n",
       " ('ha-ve', 1),\n",
       " ('plea', 4),\n",
       " ('meanwhile,', 3),\n",
       " ('Shapovalov,', 1),\n",
       " (\"lover's\", 2),\n",
       " ('bluish', 4),\n",
       " ('ponds', 3),\n",
       " ('machine', 8),\n",
       " ('Living', 1),\n",
       " ('elevated', 1),\n",
       " ('smoked,', 3),\n",
       " ('\"Crazy?\"', 1),\n",
       " ('unfold,', 1),\n",
       " ('ghost', 2),\n",
       " ('\"Glad', 2),\n",
       " ('instant', 38),\n",
       " ('unexpectedness', 2),\n",
       " ('consigne,*', 1),\n",
       " ('staff,\"', 2),\n",
       " ('BK12|CH7', 1),\n",
       " ('carpets', 6),\n",
       " ('befitted', 1),\n",
       " ('news?', 2),\n",
       " ('colored', 2),\n",
       " ('\"Very.\"', 1),\n",
       " ('sake...!\"', 1),\n",
       " ('customs,', 1),\n",
       " ('incendiary', 2),\n",
       " ('looks', 63),\n",
       " ('\"This', 37),\n",
       " ('casement', 2),\n",
       " ('especially,', 1),\n",
       " ('foreboding', 4),\n",
       " ('heard', 412),\n",
       " (\"England's\", 2),\n",
       " ('formation,', 2),\n",
       " (\"ladies'\", 8),\n",
       " ('Redoubt', 10),\n",
       " ('smock,', 3),\n",
       " ('Alliance', 1),\n",
       " ('characteristic', 16),\n",
       " ('Agitated', 2),\n",
       " ('Naples.', 1),\n",
       " ('marauders', 2),\n",
       " ('foreigners,', 3),\n",
       " ('Napoleons,', 2),\n",
       " ('helter-skelter', 1),\n",
       " ('covers', 4),\n",
       " ('steal;', 1),\n",
       " ('attendant', 4),\n",
       " ('planets,', 1),\n",
       " ('inflammable', 3),\n",
       " (\"martyr's\", 1),\n",
       " ('ideas,', 7),\n",
       " ('Peronskaya.', 2),\n",
       " ('deemed', 2),\n",
       " ('dying,', 10),\n",
       " ('raided', 1),\n",
       " ('understand,\"', 12),\n",
       " ('publican', 6),\n",
       " ('Montmorencys', 1),\n",
       " ('being,', 3),\n",
       " ('wotten', 1),\n",
       " ('on,', 113),\n",
       " ('permitted', 3),\n",
       " ('southeast.', 1),\n",
       " ('riverbanks', 1),\n",
       " ('generously', 1),\n",
       " ('grazing,', 1),\n",
       " ('piety', 2),\n",
       " ('intervened', 2),\n",
       " ('\"what', 5),\n",
       " (\"'Hurrah!'-\", 1),\n",
       " ('mamma.\"', 1),\n",
       " ('design.', 1),\n",
       " ('obedient,', 1),\n",
       " ('prince', 204),\n",
       " ('sincere.', 1),\n",
       " ('correspondence...', 1),\n",
       " ('jolly', 3),\n",
       " ('queen.', 1),\n",
       " ('stirrup', 4),\n",
       " ('starring', 1),\n",
       " ('stuff!\"', 1),\n",
       " ('house:', 1),\n",
       " ('futility', 1),\n",
       " ('slumber.', 1),\n",
       " ('combs,', 2),\n",
       " ('plans-', 2),\n",
       " ('bones', 1),\n",
       " ('sarcastic,', 2),\n",
       " ('gnarled', 3),\n",
       " ('angelic', 2),\n",
       " ('Highness-', 2),\n",
       " ('\"Vasili', 4),\n",
       " ('raw', 2),\n",
       " ('Bagration,', 30),\n",
       " ('Plat-\"', 1),\n",
       " ('weariness', 9),\n",
       " ('can\\'t!\"', 2),\n",
       " ('here:', 2),\n",
       " ('rampart,', 3),\n",
       " ('hospital,', 3),\n",
       " ('implying', 4),\n",
       " ('equipage.', 1),\n",
       " ('overtaking', 6),\n",
       " ('captured.\"', 1),\n",
       " ('excellency!', 9),\n",
       " ('suspicions', 1),\n",
       " ('stampede', 2),\n",
       " ('caleche', 15),\n",
       " ('tips', 5),\n",
       " ('unhindered.', 1),\n",
       " ('manners.', 1),\n",
       " ('unsatisfactory', 2),\n",
       " ('gullies', 2),\n",
       " ('limitations,', 2),\n",
       " ('friends...\"', 1),\n",
       " ('lashes', 3),\n",
       " ('life...', 1),\n",
       " ('lady', 48),\n",
       " ('\"arrange', 1),\n",
       " ('lungs,', 2),\n",
       " ('studied,', 1),\n",
       " ('Marshal,', 4),\n",
       " ('lofty', 17),\n",
       " ('Friedland.', 1),\n",
       " ('correspondent', 1),\n",
       " ('statesman', 2),\n",
       " ('expound', 2),\n",
       " ('when,', 20),\n",
       " ('bliss.', 4),\n",
       " ('nationalism,', 1),\n",
       " ('rubbed', 12),\n",
       " ('Nizhni', 5),\n",
       " ('\"Denisov,', 2),\n",
       " ('experienced...', 1),\n",
       " ('resembles', 3),\n",
       " ('spoiling', 7),\n",
       " ('battles.', 2),\n",
       " ('believe.\"', 1),\n",
       " ('Thirdly', 1),\n",
       " ('personal,', 3),\n",
       " ('independence.', 1),\n",
       " ('silenced', 2),\n",
       " ('Brunn...\"', 1),\n",
       " ('luckily', 1),\n",
       " ('transports', 1),\n",
       " ('No...\"', 1),\n",
       " ('considerable,', 1),\n",
       " ('intensity,', 2),\n",
       " ('advance.', 12),\n",
       " ('shame,', 7),\n",
       " ('time?\"', 5),\n",
       " ('good-', 1),\n",
       " ('Timofeevich', 1),\n",
       " ('turned,', 2),\n",
       " ('along...\"', 1),\n",
       " ('untimely', 2),\n",
       " ('so;', 4),\n",
       " ('killing', 19),\n",
       " ('stocking,', 1),\n",
       " ('Grenadiers,', 1),\n",
       " (\"Rousseau's\", 1),\n",
       " ('stiffen', 1),\n",
       " ('injunctions', 1),\n",
       " ('rim.', 1),\n",
       " ('side.', 30),\n",
       " ('chances,', 1),\n",
       " ('an', 1568),\n",
       " ('Ulm).\"', 1),\n",
       " ('mutter:', 1),\n",
       " ('liver,', 1),\n",
       " ('proposition', 4),\n",
       " ('column.', 3),\n",
       " ('Count,', 19),\n",
       " ('And,\"', 1),\n",
       " ('attained.', 1),\n",
       " ('furniture', 5),\n",
       " ('heaving,', 1),\n",
       " ('sounding', 1),\n",
       " ('Anferovs?', 1),\n",
       " ('implanted', 4),\n",
       " ('Braunau,', 1),\n",
       " ('Zubovski', 2),\n",
       " ('restoring', 1),\n",
       " ('point.\"', 1),\n",
       " ('throbbing', 3),\n",
       " ('coronet)', 1),\n",
       " ('argued', 4),\n",
       " ('neffer', 1),\n",
       " ('statue,', 2),\n",
       " ('me?\"', 43),\n",
       " ('forage', 4),\n",
       " ('\"Grounds', 1),\n",
       " ('prominent', 16),\n",
       " ('forthcoming', 3),\n",
       " ('gave-', 1),\n",
       " ('Andreevich-', 1),\n",
       " ('monument', 2),\n",
       " ('friend-\"', 1),\n",
       " ('appeased', 1),\n",
       " ('sealed,', 1),\n",
       " ('snort,', 1),\n",
       " ('negotiate,', 1),\n",
       " ('leaving.', 3),\n",
       " ('grief,', 8),\n",
       " ('deliberately', 10),\n",
       " ('Dunyasha,', 7),\n",
       " ('trustfulness,', 1),\n",
       " ('lunches,', 2),\n",
       " ('interrogative', 1),\n",
       " ('slobbering', 1),\n",
       " ('cold!', 2),\n",
       " ('killed...', 2),\n",
       " ('\"without', 1),\n",
       " ('climbing', 1),\n",
       " ('forest.\"', 1),\n",
       " ('censers,', 1),\n",
       " ('ni', 1),\n",
       " ('pleased,', 6),\n",
       " ('wit,\"', 1),\n",
       " ('tearful.', 1),\n",
       " ('meekly,', 1),\n",
       " ('type.', 1),\n",
       " ('waist', 8),\n",
       " ('satisfying', 4),\n",
       " ('distorted', 14),\n",
       " ('for-', 4),\n",
       " ('usually,', 1),\n",
       " ('fox,', 1),\n",
       " ('somehow,', 1),\n",
       " ('conscious', 48),\n",
       " ('wait...', 1),\n",
       " ('pronunciation', 1),\n",
       " ('...', 1),\n",
       " ('romance,\"', 1),\n",
       " ('costume', 5),\n",
       " ('mounds,', 1),\n",
       " ('father-', 4),\n",
       " ('bosom', 13),\n",
       " ('only?', 1),\n",
       " ('innumerable,', 1),\n",
       " ('us?', 2),\n",
       " ('BK9|CH4', 1),\n",
       " ('snub', 2),\n",
       " ('dwagging', 1),\n",
       " ('looked', 645),\n",
       " ('proximity', 7),\n",
       " ('women.\"', 2),\n",
       " ('explanations', 3),\n",
       " ('phrases,', 1),\n",
       " ('delightedly.', 1),\n",
       " ('languages,', 1),\n",
       " ('galling', 1),\n",
       " ('therefrom.', 1),\n",
       " ('Fatherland.', 1),\n",
       " ('late...\"', 2),\n",
       " ('mathematically.', 1),\n",
       " ('blackguard,', 1),\n",
       " (\"keeper's\", 1),\n",
       " ('Jacquot.\"', 1),\n",
       " ('circular', 3),\n",
       " ('crowd?', 1),\n",
       " ('cripple,', 1),\n",
       " ('characters.', 1),\n",
       " ('Russians!', 2),\n",
       " ('War,', 4),\n",
       " ('change', 69),\n",
       " ('Sasha!\"', 1),\n",
       " ('Wait...\"', 1),\n",
       " ('\"Compassion,', 1),\n",
       " ('conflagrations.', 1),\n",
       " ('Salzeneck.', 1),\n",
       " ('overwhelm', 3),\n",
       " ('noise?\"', 1),\n",
       " ('\"King', 1),\n",
       " ('attitude.', 7),\n",
       " ('gouvernement', 1),\n",
       " ('favor,', 4),\n",
       " ('\"shelter\"', 2),\n",
       " ('However,\"', 1),\n",
       " ('songstress,\"', 1),\n",
       " ('coverlet', 1),\n",
       " ('\"position\"', 1),\n",
       " ('Weyrother', 13),\n",
       " ('bridge?', 1),\n",
       " ('cantata,', 1),\n",
       " ('officials.', 1),\n",
       " ('afterglow', 1),\n",
       " ('Hippolyte.', 2),\n",
       " ('tres', 4),\n",
       " ('still-existing', 1),\n",
       " ('passports', 1),\n",
       " ('Princess?', 1),\n",
       " ('zat.', 1),\n",
       " ('indigestion?...', 1),\n",
       " ('wished.', 1),\n",
       " ('death!', 5),\n",
       " ('diminutive', 2),\n",
       " ('empty;', 1),\n",
       " ('distinctly.', 7),\n",
       " ('rough,', 2),\n",
       " ('Guards,', 23),\n",
       " ('dead-', 5),\n",
       " ('puckered', 11),\n",
       " ('Israel!', 1),\n",
       " ('walk,', 8),\n",
       " ('significantly', 6),\n",
       " ('own.', 23),\n",
       " ('consistent', 3),\n",
       " ('labors,', 1),\n",
       " ('minister;', 2),\n",
       " ('nymphe', 1),\n",
       " ('suppliant,', 1),\n",
       " ('plumes', 8),\n",
       " ('meadows.', 1),\n",
       " ('steel,', 1),\n",
       " ('*\"Forty', 1),\n",
       " ('waddling', 4),\n",
       " ('upon', 94),\n",
       " ('\"answered', 1),\n",
       " (\"Kutaysov's\", 1),\n",
       " ('disengaged.', 1),\n",
       " ('altogether', 11),\n",
       " ('Shcherbinin,', 3),\n",
       " ('turned', 382),\n",
       " ('example,', 10),\n",
       " ('pineapples', 1),\n",
       " ('unevoked', 1),\n",
       " ('frown,', 5),\n",
       " ('utter', 26),\n",
       " ('glances', 19),\n",
       " ('enjoying...\"', 1),\n",
       " ('circle:', 1),\n",
       " ('Pernetti,', 1),\n",
       " ('Saying', 1),\n",
       " ('ring.', 2),\n",
       " ('tomb', 1),\n",
       " ('violently,', 1),\n",
       " ('litter', 1),\n",
       " ('coffin,', 4),\n",
       " ('un-Russian', 2),\n",
       " ('incontestable.', 2),\n",
       " ('I;', 1),\n",
       " ('6th', 2),\n",
       " ('appearing?\"', 1),\n",
       " ('confused)', 1),\n",
       " ('leave', 168),\n",
       " ('hind', 9),\n",
       " ('fencing.', 1),\n",
       " ('\\x00\\x00\\x00\\x00\\x00\\x00\\x00\\x00\\x00\\x00\\x00\\x00\\x001\\x1a�', 1),\n",
       " ('swamps,\"', 1),\n",
       " ('unloaded.\"', 1),\n",
       " ('widespread', 1),\n",
       " ('use', 62),\n",
       " ('letter.\"', 1),\n",
       " ('very', 750),\n",
       " ('critical,', 1),\n",
       " ('faith', 18),\n",
       " (\"pwiests'\", 1),\n",
       " ('surprise:', 1),\n",
       " ('proceeded.', 1),\n",
       " ('Mouton,', 1),\n",
       " ('Chigirin,', 1),\n",
       " (\"l'as\", 1),\n",
       " ('courage,', 9),\n",
       " ('Unfathomable,', 1),\n",
       " ('emancipation', 1),\n",
       " ('Aubert-Chalme', 1),\n",
       " ('ledge.', 1),\n",
       " ('shade,', 3),\n",
       " ('self', 4),\n",
       " ('Vyazma.', 1),\n",
       " ('divested', 1),\n",
       " ('catching', 15),\n",
       " ('Russians', 103),\n",
       " ('Nicholas', 380),\n",
       " ('rumors', 14),\n",
       " ('Julner,', 1),\n",
       " ('lawlessness', 1),\n",
       " ('twenty-first', 1),\n",
       " ('villains!', 1),\n",
       " ('burden.', 1),\n",
       " ('noon.', 2),\n",
       " ('uplifted,', 1),\n",
       " (\"revealed.'\", 1),\n",
       " ('ourselves,\"', 1),\n",
       " ('mention', 26),\n",
       " ('At', 291),\n",
       " ('Countess?\"', 1),\n",
       " ('row', 13),\n",
       " ('Petersburg.', 36),\n",
       " ('\"she', 4),\n",
       " ('desecrate', 2),\n",
       " ('captain,', 19),\n",
       " ('Discussions', 1),\n",
       " ('midnight.', 2),\n",
       " ('unreasoning,', 3),\n",
       " ('overlooked', 1),\n",
       " ('Miwonov!', 1),\n",
       " ('*Fruhstuck:', 1),\n",
       " ('enfeebled.', 1),\n",
       " ('Kremlin.', 4),\n",
       " ('crops,', 1),\n",
       " ('idleness.', 2),\n",
       " ('worthier,', 1),\n",
       " ('embankments', 1),\n",
       " ('developed', 3),\n",
       " ('displayed', 5),\n",
       " ('moaned', 5),\n",
       " ('news:', 1),\n",
       " ('apart.', 2),\n",
       " ('sang,', 5),\n",
       " ('Davout', 23),\n",
       " ('depressed,', 1),\n",
       " ('campfires-', 1),\n",
       " ('\"Buonaparte?\"', 2),\n",
       " ('cried.', 16),\n",
       " ('Kaluga.', 1),\n",
       " ('27,', 1),\n",
       " ('think...', 1),\n",
       " ('bustlingly', 1),\n",
       " ('failed', 17),\n",
       " ('praise,', 1),\n",
       " ('\"Charmee', 1),\n",
       " ('tranquility', 2),\n",
       " ('sharpening', 3),\n",
       " ('caustique?\"', 1),\n",
       " ('deals', 1),\n",
       " ('hunting.', 1),\n",
       " ('perspiration.', 2),\n",
       " ('promotion', 3),\n",
       " ('ourselves.\"', 1),\n",
       " ('*\"That\\'s', 1),\n",
       " ('\"Having', 1),\n",
       " ('confidence.', 1),\n",
       " ('radiantly', 4),\n",
       " ('cakes', 2),\n",
       " ('calf', 5),\n",
       " ('gently?\"', 1),\n",
       " ('circumspectly', 1),\n",
       " ('world-', 6),\n",
       " ('anarchy,', 1),\n",
       " ('wound?', 1),\n",
       " ('him?\"', 31),\n",
       " ('exercise,', 1),\n",
       " ('Gorki', 2),\n",
       " ('pocketbooks,', 1),\n",
       " ('mistrustfully,', 1),\n",
       " ('request.', 1),\n",
       " (\"mother's,\", 1),\n",
       " ('above', 130),\n",
       " ('cattle', 10),\n",
       " ('Similarly', 2),\n",
       " ('frost,', 5),\n",
       " ('worked', 11),\n",
       " ('review.', 2),\n",
       " ('others?', 1),\n",
       " ('mystical', 4),\n",
       " ('stumbled', 9),\n",
       " ('Lazarev!', 1),\n",
       " ('lower', 34),\n",
       " ('disproving', 2),\n",
       " ('Muddles,', 1),\n",
       " ('possession', 14),\n",
       " ('\"Isn\\'t', 7),\n",
       " ('Hosjeradek', 1),\n",
       " ('line;', 1),\n",
       " ('thirteen.\"', 1),\n",
       " ('trickles', 1),\n",
       " ('course-\"', 1),\n",
       " ('avoiding', 16),\n",
       " ('awoke.', 3),\n",
       " ('enlightenment.', 1),\n",
       " ('rising', 50),\n",
       " ('opponent\")', 1),\n",
       " ('plums', 3),\n",
       " ('unfortunate,\"', 1),\n",
       " ('soon,\"', 3),\n",
       " ('profit', 3),\n",
       " ('\"tongue.\"', 1),\n",
       " ('friend!\"', 7),\n",
       " ('centre,', 1),\n",
       " ('Alexanders,', 1),\n",
       " ('briskness', 3),\n",
       " ('doubting', 3),\n",
       " ('to,\"', 10),\n",
       " ('scarf,', 1),\n",
       " ('superiority', 8),\n",
       " ('*\"Quarters,', 1),\n",
       " ('circumspection', 1),\n",
       " ('badge,', 1),\n",
       " ('rivet', 2),\n",
       " ('cart', 25),\n",
       " ('vividness,', 1),\n",
       " ('book.', 8),\n",
       " ('shortly', 1),\n",
       " ('Dolokhov.\"', 1),\n",
       " ('artist', 2),\n",
       " ('virile,', 1),\n",
       " ('rendered,', 1),\n",
       " ('mo-o-st', 1),\n",
       " ('hit....\"', 1),\n",
       " ('souls.', 2),\n",
       " ('samovar,', 5),\n",
       " ('straining', 13),\n",
       " ('perceiving', 1),\n",
       " ('\"July,', 1),\n",
       " ('trifies', 1),\n",
       " ('Minnesingers', 2),\n",
       " ('bristling,', 1),\n",
       " ('effort...', 1),\n",
       " ('secretive,', 1),\n",
       " ('hospitals', 8),\n",
       " ('suffering!\"', 1),\n",
       " ('teaching,', 1),\n",
       " ('bag.', 1),\n",
       " ('refrain', 16),\n",
       " ('glory', 27),\n",
       " ('safe', 7),\n",
       " ('mother:', 1),\n",
       " ('philanthropy', 3),\n",
       " ('flame', 7),\n",
       " ('stirring', 6),\n",
       " ('inseparable', 1),\n",
       " ('elapsed.', 1),\n",
       " ('interspersed', 1),\n",
       " ('(2)', 17),\n",
       " ('Drissa,', 5),\n",
       " ('rabbit,', 1),\n",
       " (\"commander's,\", 1),\n",
       " ('salary,\"', 1),\n",
       " ('who,\\'\"', 1),\n",
       " ('independent;', 1),\n",
       " ('watering', 3),\n",
       " ('took),', 1),\n",
       " ('rehearsing,', 1),\n",
       " ('pounce', 1),\n",
       " ('supposed,', 8),\n",
       " ('walking?\"', 1),\n",
       " ('parties,', 8),\n",
       " ('Bold', 1),\n",
       " ('chapter', 1),\n",
       " (\"Ferapontov's\", 7),\n",
       " ('apportioned', 2),\n",
       " ('intentional', 1),\n",
       " ('improbable,', 1),\n",
       " (\"horse's\", 15),\n",
       " ('horses', 150),\n",
       " ('cards', 26),\n",
       " ('implicitly.', 1),\n",
       " ('\"Bind', 2),\n",
       " ('tomorrow?\"', 4),\n",
       " ('improve', 6),\n",
       " ('occur-', 2),\n",
       " ('Rostovs\\'?\"', 1),\n",
       " ('Guards,\"', 1),\n",
       " ('furnished', 4),\n",
       " ('maliciously', 1),\n",
       " ('oppress', 2),\n",
       " ('associations,', 1),\n",
       " ('draft', 1),\n",
       " ('savior', 2),\n",
       " ('chalk', 3),\n",
       " ('piteously,', 1),\n",
       " ('blasphemies,\"', 1),\n",
       " ('he,', 157),\n",
       " ('shabby', 6),\n",
       " ('coins', 1),\n",
       " ('imbecile', 2),\n",
       " ('Cossacks.', 7),\n",
       " ('darkness....\"', 1),\n",
       " ('declared,\"', 1),\n",
       " ('thought!\"', 1),\n",
       " ('jury', 1),\n",
       " ('front?', 1),\n",
       " ('duc', 3),\n",
       " (\"antagonist's\", 1),\n",
       " ('aroma', 1),\n",
       " ('Deity-', 1),\n",
       " ('combinations', 4),\n",
       " ('cried,', 24),\n",
       " ('smoked', 2),\n",
       " ('Vaska,\"', 1),\n",
       " ('joking!', 1),\n",
       " ('Dron.', 7),\n",
       " ('flaccid,', 1),\n",
       " ('sooner?\"', 1),\n",
       " ('III', 19),\n",
       " ('treetops', 1),\n",
       " ('camping', 1),\n",
       " ('roof,', 2),\n",
       " ('marshals,', 11),\n",
       " ('terrible', 122),\n",
       " ('Ilyin.', 3),\n",
       " ('attaches', 1),\n",
       " ('punishing', 1),\n",
       " ('Similar', 1),\n",
       " ('heads.\"', 1),\n",
       " ('lived,', 5),\n",
       " ('concealment,', 1),\n",
       " ('petitioners', 2),\n",
       " ('moves,', 1),\n",
       " ('settled?', 2),\n",
       " ('estrangement,', 1),\n",
       " ('feet,', 19),\n",
       " ('socially', 1),\n",
       " ('much.', 17),\n",
       " ('empty,\"', 2),\n",
       " ('himself!', 4),\n",
       " ('grapeshot,', 1),\n",
       " (\"ship's\", 1),\n",
       " ('job', 3),\n",
       " ('Drones,', 1),\n",
       " ('(he,', 1),\n",
       " ('communion:', 1),\n",
       " ('Nearly', 3),\n",
       " ('begging,\"', 1),\n",
       " ('spaces', 2),\n",
       " ('heritage', 1),\n",
       " ('floor', 25),\n",
       " ('mails', 1),\n",
       " ('none', 34),\n",
       " ('further', 45),\n",
       " ('BK15|CH9', 1),\n",
       " ('heir-', 1),\n",
       " ('sole', 19),\n",
       " ('indulge', 2),\n",
       " ('rules', 23),\n",
       " ('inscrutable', 1),\n",
       " ('unendurable', 1),\n",
       " ('BK5|CH5', 1),\n",
       " ('Tatawinova?\"', 1),\n",
       " ('soothe', 4),\n",
       " (\"year's\", 5),\n",
       " ('useless.\"', 1),\n",
       " ('ultimately', 1),\n",
       " ('round!', 1),\n",
       " ('delicately', 1),\n",
       " ('where...', 1),\n",
       " ('digest', 1),\n",
       " ('Mann', 1),\n",
       " ('barcarolle.', 1),\n",
       " ('pining', 2),\n",
       " ('fetched', 5),\n",
       " ('travelers', 3),\n",
       " (\"Bolkonskis'\", 1),\n",
       " ('continued:', 4),\n",
       " ('shimmering', 1),\n",
       " ('weep', 12),\n",
       " ('responsibility,', 2),\n",
       " ('dying.', 1),\n",
       " ('distracted', 7),\n",
       " ('slippers', 4),\n",
       " ('deep.', 2),\n",
       " ('idioms,', 1),\n",
       " (\"Father's\", 3),\n",
       " ('position.', 38),\n",
       " ('glee,', 1),\n",
       " ('crushing,', 1),\n",
       " ('bladder.', 1),\n",
       " ('grain.', 2),\n",
       " ('seem.', 1),\n",
       " ('inconvenience-', 1),\n",
       " ('bonfire.', 1),\n",
       " ('hundred?\"', 1),\n",
       " ('sable!\"', 1),\n",
       " ('plunderers', 2),\n",
       " ('roguish', 1),\n",
       " ('choosing', 7),\n",
       " ('eagerness,', 1),\n",
       " ('\"First', 2),\n",
       " ('compassionate', 2),\n",
       " ('\"Baron', 1),\n",
       " ('Emperors', 20),\n",
       " ('us,\"', 7),\n",
       " ('rejoicing', 7),\n",
       " ('Clearly', 1),\n",
       " ('doctors?\"', 1),\n",
       " ('limping.', 1),\n",
       " ('Highness,\"', 5),\n",
       " ('height.', 1),\n",
       " ('kitchens.', 1),\n",
       " ('sacrifice,', 1),\n",
       " ('pointed', 59),\n",
       " ('sunflower', 1),\n",
       " ('stocking,\"', 1),\n",
       " ('stories)', 1),\n",
       " ('First-rate!\"', 1),\n",
       " ('better?', 1),\n",
       " ('BK11|CH9', 1),\n",
       " ('\"Ah', 5),\n",
       " ('canteenkeeper', 1),\n",
       " ('glistened', 1),\n",
       " ('fitful', 1),\n",
       " ('seclusion', 3),\n",
       " ('understand...', 3),\n",
       " (\"Rostov's\", 56),\n",
       " ('recaptured', 2),\n",
       " ('whips,', 3),\n",
       " ('suppress', 4),\n",
       " ('considerations.', 2),\n",
       " ('cornfields', 1),\n",
       " ('pe', 1),\n",
       " ('unfair.', 2),\n",
       " ('attained,\"', 1),\n",
       " ('manures,', 1),\n",
       " ('name?', 2),\n",
       " ('Bourienne....\"', 1),\n",
       " ('wearily', 5),\n",
       " ('foe.', 4),\n",
       " ('executions,', 2),\n",
       " ('maid.\"', 1),\n",
       " ('letters', 46),\n",
       " ('forbidden?\"', 1),\n",
       " ('hurry,', 4),\n",
       " ('effective', 1),\n",
       " ('hare', 14),\n",
       " ('devised,', 2),\n",
       " ('clothes?', 1),\n",
       " ('Tushin?\"', 1),\n",
       " ('dependence,', 1),\n",
       " ('unnatural,', 3),\n",
       " ('rather', 87),\n",
       " ('vanquished,', 1),\n",
       " ('\"What?', 16),\n",
       " ('Cossack,', 13),\n",
       " ('urging', 10),\n",
       " ('proposing.\"', 1),\n",
       " ('\"I\\'ll', 37),\n",
       " ('differently.', 9),\n",
       " ('party.\"', 1),\n",
       " ('Lord!\"', 6),\n",
       " ('blended,', 2),\n",
       " ('nowadays.', 1),\n",
       " ('animal,', 3),\n",
       " ('that?...\"', 2),\n",
       " ('regiment.', 24),\n",
       " ('workmen', 4),\n",
       " ('Rostov),', 1),\n",
       " ('Rampart', 1),\n",
       " ('partisans', 1),\n",
       " ('craft.', 1),\n",
       " ('rebukes', 1),\n",
       " ('letters,', 8),\n",
       " ('princesses....', 1),\n",
       " ('what!', 3),\n",
       " ('surrounded.', 1),\n",
       " ('signify', 2),\n",
       " ('unnoticed', 8),\n",
       " ('deadly', 1),\n",
       " ('insignificance', 9),\n",
       " ('fitting', 1),\n",
       " (\"weeks'\", 1),\n",
       " ('drives', 6),\n",
       " ('intuition.', 1),\n",
       " ('far.', 3),\n",
       " ('much.\"', 4),\n",
       " ('Archives', 1),\n",
       " ('oak.', 1),\n",
       " ('grandfather.', 1),\n",
       " ('\"Know', 3),\n",
       " ('building?\"', 1),\n",
       " ('groaned', 7),\n",
       " ('might,', 15),\n",
       " ('win', 15),\n",
       " ('incitement', 1),\n",
       " ('warming;', 1),\n",
       " ('zides,', 1),\n",
       " ('furrows', 1),\n",
       " ('understand\"', 1),\n",
       " ('orders.\"', 4),\n",
       " ('why!', 1),\n",
       " ('genius,', 12),\n",
       " ('grandeur,', 1),\n",
       " ('exertions-', 1),\n",
       " ('Danube.', 1),\n",
       " ('\"ulyulyu!\"', 1),\n",
       " ('uphold', 1),\n",
       " ('works,', 1),\n",
       " ('thousand-ruble', 3),\n",
       " ('sin,', 6),\n",
       " ('separately,', 1),\n",
       " ('crotchety!', 1),\n",
       " ('dear-', 2),\n",
       " ('ripened', 2),\n",
       " ('looked,', 2),\n",
       " ('ruled', 6),\n",
       " ('calm,', 18),\n",
       " ('prone', 1),\n",
       " ('flour!', 1),\n",
       " ('alone;', 2),\n",
       " ('bay.', 1),\n",
       " ('can!', 1),\n",
       " ('bows.', 1),\n",
       " ('\"Puff!\"-', 1),\n",
       " ('pawns', 1),\n",
       " ('beforehand,', 2),\n",
       " ('campfires.', 4),\n",
       " ('Vasilchikov', 1),\n",
       " ('impedes', 1),\n",
       " ('cahd,', 1),\n",
       " ('tickets', 1),\n",
       " ('helpful', 1),\n",
       " ('comprehensible', 12),\n",
       " ('affectionately.', 4),\n",
       " ('anteroom,', 9),\n",
       " ('overturned', 2),\n",
       " ('Zdrzhinski.', 1),\n",
       " ('embassy', 2),\n",
       " ('connection.)', 1),\n",
       " ('heart?...', 1),\n",
       " ('prince?\"', 2),\n",
       " ('haul', 2),\n",
       " ('Shinshin,', 10),\n",
       " ('tradespeople,', 1),\n",
       " ('patting', 6),\n",
       " ('Moscow.\"', 9),\n",
       " ('flanking', 1),\n",
       " ('o\\'clock.\"', 1),\n",
       " ('manifesto', 5),\n",
       " ('vessels,', 1),\n",
       " ('arrow,', 1),\n",
       " ('rings', 6),\n",
       " ('softened', 10),\n",
       " ('hay', 17),\n",
       " ('imbibed', 1),\n",
       " ('everything...', 2),\n",
       " ('chamberlain', 2),\n",
       " ('there.', 77),\n",
       " ('Tolly', 8),\n",
       " ('boldly', 16),\n",
       " ('prettiest', 1),\n",
       " ('twirling', 2),\n",
       " ('coherence', 2),\n",
       " ('mustaches.', 1),\n",
       " ('afford', 1),\n",
       " ('book,', 7),\n",
       " ('swallow-tail', 6),\n",
       " ('Mr.', 6),\n",
       " ('Buxhowden.', 3),\n",
       " ('\"Stretchers!\"', 2),\n",
       " ('grades,', 1),\n",
       " ('Deity.', 1),\n",
       " ('exactitude.', 1),\n",
       " ('obsessed', 1),\n",
       " ('souls!', 1),\n",
       " ('=', 2),\n",
       " ('Mamma', 22),\n",
       " ('weeks,', 3),\n",
       " ('blossoms.', 1),\n",
       " ('seeing,', 2),\n",
       " ('politics-', 1),\n",
       " ('money?\"', 2),\n",
       " ('want.', 2),\n",
       " ('straw.', 3),\n",
       " ('mislead', 1),\n",
       " ('thud', 7),\n",
       " ('Tatarinova,', 2),\n",
       " ('creaks', 1),\n",
       " ('cramped', 2),\n",
       " ('liveried', 1),\n",
       " ('rejoinder.', 2),\n",
       " ('exultation,', 1),\n",
       " ('dangers', 2),\n",
       " ('frowned', 20),\n",
       " (\"children,'\", 1),\n",
       " ('Meeting', 5),\n",
       " ('Dressed', 1),\n",
       " ('spy.', 2),\n",
       " ('out', 1040),\n",
       " ('properly,\"', 1),\n",
       " ('Kutuzov!\"', 1),\n",
       " ('displeasure.', 1),\n",
       " ('savory', 4),\n",
       " ('plashed', 1),\n",
       " ('tidy', 2),\n",
       " ('thought...\"', 2),\n",
       " ('weapons', 5),\n",
       " ('exhales', 1),\n",
       " ('uprightness', 1),\n",
       " ('ample', 2),\n",
       " ('Straits', 1),\n",
       " ('recall.', 1),\n",
       " ('everything!...\"', 1),\n",
       " ('Stores', 1),\n",
       " ('boats,', 2),\n",
       " ...]"
      ]
     },
     "execution_count": 6,
     "metadata": {},
     "output_type": "execute_result"
    }
   ],
   "source": [
    "count.collect()"
   ]
  },
  {
   "cell_type": "code",
   "execution_count": 7,
   "metadata": {
    "collapsed": false
   },
   "outputs": [
    {
     "data": {
      "text/plain": [
       "<pyspark.sql.context.HiveContext at 0x112513550>"
      ]
     },
     "execution_count": 7,
     "metadata": {},
     "output_type": "execute_result"
    }
   ],
   "source": [
    "sqlContext"
   ]
  },
  {
   "cell_type": "code",
   "execution_count": 19,
   "metadata": {
    "collapsed": true
   },
   "outputs": [],
   "source": [
    "p = sqlContext.read.json(\"people2.json\")"
   ]
  },
  {
   "cell_type": "code",
   "execution_count": 20,
   "metadata": {
    "collapsed": false
   },
   "outputs": [
    {
     "data": {
      "text/plain": [
       "DataFrame[age: bigint, name: string, temperature: bigint]"
      ]
     },
     "execution_count": 20,
     "metadata": {},
     "output_type": "execute_result"
    }
   ],
   "source": [
    "p"
   ]
  },
  {
   "cell_type": "code",
   "execution_count": 21,
   "metadata": {
    "collapsed": false
   },
   "outputs": [
    {
     "name": "stdout",
     "output_type": "stream",
     "text": [
      "+---+--------+-----------+\n",
      "|age|    name|temperature|\n",
      "+---+--------+-----------+\n",
      "| 62| Michael|         12|\n",
      "| 30|    Andy|         45|\n",
      "| 45|  Justin|         12|\n",
      "| 12|    Mate|         12|\n",
      "| 14|  Andrew|         12|\n",
      "| 72|    Mike|         12|\n",
      "| 53|  Justin|         12|\n",
      "| 25|Michelle|         12|\n",
      "| 19|    Adam|         12|\n",
      "| 51|   Jessy|         12|\n",
      "| 35|   Jonas|         12|\n",
      "|  7|    Borg|         12|\n",
      "| 62|  Daniel|         12|\n",
      "| 48| Gabriel|         12|\n",
      "| 39|   Nivea|         12|\n",
      "| 29|  Robert|         12|\n",
      "| 38|Theodore|         12|\n",
      "+---+--------+-----------+\n",
      "\n"
     ]
    }
   ],
   "source": [
    "p.show()"
   ]
  },
  {
   "cell_type": "code",
   "execution_count": 22,
   "metadata": {
    "collapsed": false
   },
   "outputs": [
    {
     "name": "stdout",
     "output_type": "stream",
     "text": [
      "+-------+------------------+------------------+\n",
      "|summary|               age|       temperature|\n",
      "+-------+------------------+------------------+\n",
      "|  count|                17|                17|\n",
      "|   mean|37.705882352941174|13.941176470588236|\n",
      "| stddev| 18.95311552846376| 8.003675626198989|\n",
      "|    min|                 7|                12|\n",
      "|    max|                72|                45|\n",
      "+-------+------------------+------------------+\n",
      "\n"
     ]
    }
   ],
   "source": [
    "p.describe().show()"
   ]
  },
  {
   "cell_type": "code",
   "execution_count": 27,
   "metadata": {
    "collapsed": false
   },
   "outputs": [
    {
     "data": {
      "text/plain": [
       "['age', 'name', 'temperature']"
      ]
     },
     "execution_count": 27,
     "metadata": {},
     "output_type": "execute_result"
    }
   ],
   "source": [
    "p.columns"
   ]
  },
  {
   "cell_type": "code",
   "execution_count": 29,
   "metadata": {
    "collapsed": false
   },
   "outputs": [],
   "source": [
    "p.registerTempTable(\"People\")"
   ]
  },
  {
   "cell_type": "code",
   "execution_count": 31,
   "metadata": {
    "collapsed": false
   },
   "outputs": [
    {
     "name": "stdout",
     "output_type": "stream",
     "text": [
      "+---+--------+-----------+\n",
      "|age|    name|temperature|\n",
      "+---+--------+-----------+\n",
      "| 62| Michael|         12|\n",
      "| 30|    Andy|         45|\n",
      "| 45|  Justin|         12|\n",
      "| 12|    Mate|         12|\n",
      "| 14|  Andrew|         12|\n",
      "| 72|    Mike|         12|\n",
      "| 53|  Justin|         12|\n",
      "| 25|Michelle|         12|\n",
      "| 19|    Adam|         12|\n",
      "| 51|   Jessy|         12|\n",
      "| 35|   Jonas|         12|\n",
      "|  7|    Borg|         12|\n",
      "| 62|  Daniel|         12|\n",
      "| 48| Gabriel|         12|\n",
      "| 39|   Nivea|         12|\n",
      "| 29|  Robert|         12|\n",
      "| 38|Theodore|         12|\n",
      "+---+--------+-----------+\n",
      "\n"
     ]
    }
   ],
   "source": [
    "sqlContext.sql(\"SELECT * FROM People\").show()"
   ]
  },
  {
   "cell_type": "code",
   "execution_count": 33,
   "metadata": {
    "collapsed": false
   },
   "outputs": [
    {
     "name": "stdout",
     "output_type": "stream",
     "text": [
      "+---+---+\n",
      "|age|_c1|\n",
      "+---+---+\n",
      "| 35|  1|\n",
      "| 38|  1|\n",
      "| 39|  1|\n",
      "| 45|  1|\n",
      "| 48|  1|\n",
      "| 51|  1|\n",
      "| 53|  1|\n",
      "| 62|  2|\n",
      "| 72|  1|\n",
      "+---+---+\n",
      "\n"
     ]
    }
   ],
   "source": [
    "sqlContext.sql(\"SELECT age, count(*) FROM People WHERE age > 30 GROUP BY age\").show()"
   ]
  },
  {
   "cell_type": "code",
   "execution_count": 34,
   "metadata": {
    "collapsed": true
   },
   "outputs": [],
   "source": [
    "from pyspark.sql.functions import udf\n",
    "from pyspark.sql.types import IntegerType\n",
    "\n",
    "\n",
    "def toBin(x):\n",
    "    return (x // 10) * 10\n",
    "\n",
    "\n",
    "toBinUDF = udf(toBin, IntegerType())\n",
    "ageWithBin = p.withColumn(\"ageBin\", toBinUDF(\"age\"))"
   ]
  },
  {
   "cell_type": "code",
   "execution_count": 35,
   "metadata": {
    "collapsed": false
   },
   "outputs": [
    {
     "name": "stdout",
     "output_type": "stream",
     "text": [
      "+---+--------+-----------+------+\n",
      "|age|    name|temperature|ageBin|\n",
      "+---+--------+-----------+------+\n",
      "| 62| Michael|         12|    60|\n",
      "| 30|    Andy|         45|    30|\n",
      "| 45|  Justin|         12|    40|\n",
      "| 12|    Mate|         12|    10|\n",
      "| 14|  Andrew|         12|    10|\n",
      "| 72|    Mike|         12|    70|\n",
      "| 53|  Justin|         12|    50|\n",
      "| 25|Michelle|         12|    20|\n",
      "| 19|    Adam|         12|    10|\n",
      "| 51|   Jessy|         12|    50|\n",
      "| 35|   Jonas|         12|    30|\n",
      "|  7|    Borg|         12|     0|\n",
      "| 62|  Daniel|         12|    60|\n",
      "| 48| Gabriel|         12|    40|\n",
      "| 39|   Nivea|         12|    30|\n",
      "| 29|  Robert|         12|    20|\n",
      "| 38|Theodore|         12|    30|\n",
      "+---+--------+-----------+------+\n",
      "\n"
     ]
    }
   ],
   "source": [
    "ageWithBin.show()"
   ]
  },
  {
   "cell_type": "code",
   "execution_count": 37,
   "metadata": {
    "collapsed": false
   },
   "outputs": [],
   "source": [
    "ageWithBin.registerTempTable(\"People2\")"
   ]
  },
  {
   "cell_type": "code",
   "execution_count": 40,
   "metadata": {
    "collapsed": false
   },
   "outputs": [
    {
     "name": "stdout",
     "output_type": "stream",
     "text": [
      "+------+---+\n",
      "|ageBin|_c1|\n",
      "+------+---+\n",
      "|    40|  2|\n",
      "|    50|  2|\n",
      "|    60|  2|\n",
      "|    70|  1|\n",
      "|     0|  1|\n",
      "|    10|  3|\n",
      "|    20|  2|\n",
      "|    30|  4|\n",
      "+------+---+\n",
      "\n"
     ]
    }
   ],
   "source": [
    "sqlContext.sql(\"SELECT ageBin, count(*) FROM People2 GROUP BY ageBin\").show()"
   ]
  },
  {
   "cell_type": "code",
   "execution_count": 44,
   "metadata": {
    "collapsed": false
   },
   "outputs": [
    {
     "name": "stdout",
     "output_type": "stream",
     "text": [
      "+------+-----+\n",
      "|ageBin|count|\n",
      "+------+-----+\n",
      "|     0|    1|\n",
      "|    10|    3|\n",
      "|    20|    2|\n",
      "|    30|    4|\n",
      "|    40|    2|\n",
      "|    50|    2|\n",
      "|    60|    2|\n",
      "|    70|    1|\n",
      "+------+-----+\n",
      "\n"
     ]
    }
   ],
   "source": [
    "ageWithBin.groupBy(\"ageBin\").count().sort(\"ageBin\").show()"
   ]
  },
  {
   "cell_type": "code",
   "execution_count": 45,
   "metadata": {
    "collapsed": true
   },
   "outputs": [],
   "source": [
    "resultAge = ageWithBin.groupBy(\"ageBin\").count().sort(\"ageBin\")"
   ]
  },
  {
   "cell_type": "code",
   "execution_count": 46,
   "metadata": {
    "collapsed": false
   },
   "outputs": [
    {
     "data": {
      "text/plain": [
       "DataFrame[ageBin: int, count: bigint]"
      ]
     },
     "execution_count": 46,
     "metadata": {},
     "output_type": "execute_result"
    }
   ],
   "source": [
    "resultAge"
   ]
  },
  {
   "cell_type": "code",
   "execution_count": 52,
   "metadata": {
    "collapsed": true
   },
   "outputs": [],
   "source": [
    "part = resultAge.write.partitionBy(\"ageBin\")"
   ]
  },
  {
   "cell_type": "code",
   "execution_count": 50,
   "metadata": {
    "collapsed": false
   },
   "outputs": [
    {
     "data": {
      "text/plain": [
       "<pyspark.sql.readwriter.DataFrameWriter at 0x112b32898>"
      ]
     },
     "execution_count": 50,
     "metadata": {},
     "output_type": "execute_result"
    }
   ],
   "source": [
    "part"
   ]
  },
  {
   "cell_type": "code",
   "execution_count": 53,
   "metadata": {
    "collapsed": false
   },
   "outputs": [],
   "source": [
    "part.parquet(\"result_part\")"
   ]
  },
  {
   "cell_type": "code",
   "execution_count": 54,
   "metadata": {
    "collapsed": false
   },
   "outputs": [
    {
     "data": {
      "text/plain": [
       "DataFrame[age: bigint, name: string, temperature: bigint]"
      ]
     },
     "execution_count": 54,
     "metadata": {},
     "output_type": "execute_result"
    }
   ],
   "source": [
    "p"
   ]
  },
  {
   "cell_type": "code",
   "execution_count": 55,
   "metadata": {
    "collapsed": false
   },
   "outputs": [
    {
     "data": {
      "text/plain": [
       "[Row(age=62, name='Michael', temperature=12),\n",
       " Row(age=30, name='Andy', temperature=45),\n",
       " Row(age=45, name='Justin', temperature=12),\n",
       " Row(age=12, name='Mate', temperature=12),\n",
       " Row(age=14, name='Andrew', temperature=12),\n",
       " Row(age=72, name='Mike', temperature=12),\n",
       " Row(age=53, name='Justin', temperature=12),\n",
       " Row(age=25, name='Michelle', temperature=12),\n",
       " Row(age=19, name='Adam', temperature=12),\n",
       " Row(age=51, name='Jessy', temperature=12),\n",
       " Row(age=35, name='Jonas', temperature=12),\n",
       " Row(age=7, name='Borg', temperature=12),\n",
       " Row(age=62, name='Daniel', temperature=12),\n",
       " Row(age=48, name='Gabriel', temperature=12),\n",
       " Row(age=39, name='Nivea', temperature=12),\n",
       " Row(age=29, name='Robert', temperature=12),\n",
       " Row(age=38, name='Theodore', temperature=12)]"
      ]
     },
     "execution_count": 55,
     "metadata": {},
     "output_type": "execute_result"
    }
   ],
   "source": [
    "p.collect()"
   ]
  },
  {
   "cell_type": "code",
   "execution_count": null,
   "metadata": {
    "collapsed": true
   },
   "outputs": [],
   "source": []
  }
 ],
 "metadata": {
  "kernelspec": {
   "display_name": "Python 3",
   "language": "python",
   "name": "python3"
  },
  "language_info": {
   "codemirror_mode": {
    "name": "ipython",
    "version": 3
   },
   "file_extension": ".py",
   "mimetype": "text/x-python",
   "name": "python",
   "nbconvert_exporter": "python",
   "pygments_lexer": "ipython3",
   "version": "3.5.1"
  }
 },
 "nbformat": 4,
 "nbformat_minor": 1
}
