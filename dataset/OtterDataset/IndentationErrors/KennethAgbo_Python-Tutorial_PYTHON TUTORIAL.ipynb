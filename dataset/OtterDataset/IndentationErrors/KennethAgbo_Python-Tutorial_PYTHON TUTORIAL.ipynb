{
 "cells": [
  {
   "cell_type": "code",
   "execution_count": null,
   "id": "837035c7",
   "metadata": {},
   "outputs": [],
   "source": [
    "1 #INTRODUCTION TO JUPITER NOTEBOOK\n",
    "\n",
    "3## Python is fun\n",
    "\n",
    "\n",
    "\n",
    "\n"
   ]
  },
  {
   "cell_type": "code",
   "execution_count": 1,
   "id": "eeac574d",
   "metadata": {},
   "outputs": [
    {
     "ename": "SyntaxError",
     "evalue": "invalid syntax (327246578.py, line 2)",
     "output_type": "error",
     "traceback": [
      "\u001b[1;36m  File \u001b[1;32m\"C:\\Users\\KENNETH\\AppData\\Local\\Temp\\ipykernel_10164\\327246578.py\"\u001b[1;36m, line \u001b[1;32m2\u001b[0m\n\u001b[1;33m    you don't have to stress yourself in **creating** body, just write what you want `write`\u001b[0m\n\u001b[1;37m        ^\u001b[0m\n\u001b[1;31mSyntaxError\u001b[0m\u001b[1;31m:\u001b[0m invalid syntax\n"
     ]
    }
   ],
   "source": [
    " # INTRODUCTION TO JUPITER NOTEBOOK\n",
    "you don't have to stress yourself in **creating** body, just write what you want `write`\n",
    "## python is fun\n",
    "\n",
    "##### smallest header\n",
    "\n",
    "\n",
    "\n",
    "## Order list\n",
    "1. Point one\n",
    "2. Point two\n",
    "3. Point three\n",
    "\n",
    "## Unorder List\n",
    "- Point one\n",
    "- point two\n",
    "- point three![Screenshot%2012-06-2023%2005.57.32.png](attachment:Screenshot%2012-06-2023%2005.57.32.png)\n",
    "\n",
    "\n",
    "\n"
   ]
  },
  {
   "cell_type": "code",
   "execution_count": null,
   "id": "1c30b6ce",
   "metadata": {},
   "outputs": [],
   "source": []
  },
  {
   "cell_type": "code",
   "execution_count": 1,
   "id": "e53428de",
   "metadata": {},
   "outputs": [
    {
     "name": "stdout",
     "output_type": "stream",
     "text": [
      "Collecting jupyterthemes\n",
      "  Downloading jupyterthemes-0.20.0-py2.py3-none-any.whl (7.0 MB)\n",
      "     ---------------------------------------- 7.0/7.0 MB 3.2 MB/s eta 0:00:00\n",
      "Requirement already satisfied: notebook>=5.6.0 in c:\\users\\kenneth\\anaconda3\\lib\\site-packages (from jupyterthemes) (6.4.12)\n",
      "Requirement already satisfied: jupyter-core in c:\\users\\kenneth\\anaconda3\\lib\\site-packages (from jupyterthemes) (4.11.1)\n",
      "Collecting lesscpy>=0.11.2\n",
      "  Downloading lesscpy-0.15.1-py2.py3-none-any.whl (46 kB)\n",
      "     ---------------------------------------- 46.7/46.7 kB 2.3 MB/s eta 0:00:00\n",
      "Requirement already satisfied: matplotlib>=1.4.3 in c:\\users\\kenneth\\anaconda3\\lib\\site-packages (from jupyterthemes) (3.5.2)\n",
      "Requirement already satisfied: ipython>=5.4.1 in c:\\users\\kenneth\\anaconda3\\lib\\site-packages (from jupyterthemes) (7.31.1)\n",
      "Requirement already satisfied: pickleshare in c:\\users\\kenneth\\anaconda3\\lib\\site-packages (from ipython>=5.4.1->jupyterthemes) (0.7.5)\n",
      "Requirement already satisfied: colorama in c:\\users\\kenneth\\anaconda3\\lib\\site-packages (from ipython>=5.4.1->jupyterthemes) (0.4.5)\n",
      "Requirement already satisfied: pygments in c:\\users\\kenneth\\anaconda3\\lib\\site-packages (from ipython>=5.4.1->jupyterthemes) (2.11.2)\n",
      "Requirement already satisfied: backcall in c:\\users\\kenneth\\anaconda3\\lib\\site-packages (from ipython>=5.4.1->jupyterthemes) (0.2.0)\n",
      "Requirement already satisfied: jedi>=0.16 in c:\\users\\kenneth\\anaconda3\\lib\\site-packages (from ipython>=5.4.1->jupyterthemes) (0.18.1)\n",
      "Requirement already satisfied: traitlets>=4.2 in c:\\users\\kenneth\\anaconda3\\lib\\site-packages (from ipython>=5.4.1->jupyterthemes) (5.1.1)\n",
      "Requirement already satisfied: matplotlib-inline in c:\\users\\kenneth\\anaconda3\\lib\\site-packages (from ipython>=5.4.1->jupyterthemes) (0.1.6)\n",
      "Requirement already satisfied: prompt-toolkit!=3.0.0,!=3.0.1,<3.1.0,>=2.0.0 in c:\\users\\kenneth\\anaconda3\\lib\\site-packages (from ipython>=5.4.1->jupyterthemes) (3.0.20)\n",
      "Requirement already satisfied: setuptools>=18.5 in c:\\users\\kenneth\\anaconda3\\lib\\site-packages (from ipython>=5.4.1->jupyterthemes) (63.4.1)\n",
      "Requirement already satisfied: decorator in c:\\users\\kenneth\\anaconda3\\lib\\site-packages (from ipython>=5.4.1->jupyterthemes) (5.1.1)\n",
      "Collecting ply\n",
      "  Downloading ply-3.11-py2.py3-none-any.whl (49 kB)\n",
      "     ---------------------------------------- 49.6/49.6 kB 2.5 MB/s eta 0:00:00\n",
      "Requirement already satisfied: pillow>=6.2.0 in c:\\users\\kenneth\\anaconda3\\lib\\site-packages (from matplotlib>=1.4.3->jupyterthemes) (9.2.0)\n",
      "Requirement already satisfied: packaging>=20.0 in c:\\users\\kenneth\\anaconda3\\lib\\site-packages (from matplotlib>=1.4.3->jupyterthemes) (21.3)\n",
      "Requirement already satisfied: cycler>=0.10 in c:\\users\\kenneth\\anaconda3\\lib\\site-packages (from matplotlib>=1.4.3->jupyterthemes) (0.11.0)\n",
      "Requirement already satisfied: python-dateutil>=2.7 in c:\\users\\kenneth\\anaconda3\\lib\\site-packages (from matplotlib>=1.4.3->jupyterthemes) (2.8.2)\n",
      "Requirement already satisfied: pyparsing>=2.2.1 in c:\\users\\kenneth\\anaconda3\\lib\\site-packages (from matplotlib>=1.4.3->jupyterthemes) (3.0.9)\n",
      "Requirement already satisfied: numpy>=1.17 in c:\\users\\kenneth\\anaconda3\\lib\\site-packages (from matplotlib>=1.4.3->jupyterthemes) (1.21.5)\n",
      "Requirement already satisfied: fonttools>=4.22.0 in c:\\users\\kenneth\\anaconda3\\lib\\site-packages (from matplotlib>=1.4.3->jupyterthemes) (4.25.0)\n",
      "Requirement already satisfied: kiwisolver>=1.0.1 in c:\\users\\kenneth\\anaconda3\\lib\\site-packages (from matplotlib>=1.4.3->jupyterthemes) (1.4.2)\n",
      "Requirement already satisfied: prometheus-client in c:\\users\\kenneth\\anaconda3\\lib\\site-packages (from notebook>=5.6.0->jupyterthemes) (0.14.1)\n",
      "Requirement already satisfied: ipykernel in c:\\users\\kenneth\\anaconda3\\lib\\site-packages (from notebook>=5.6.0->jupyterthemes) (6.15.2)\n",
      "Requirement already satisfied: Send2Trash>=1.8.0 in c:\\users\\kenneth\\anaconda3\\lib\\site-packages (from notebook>=5.6.0->jupyterthemes) (1.8.0)\n",
      "Requirement already satisfied: argon2-cffi in c:\\users\\kenneth\\anaconda3\\lib\\site-packages (from notebook>=5.6.0->jupyterthemes) (21.3.0)\n",
      "Requirement already satisfied: terminado>=0.8.3 in c:\\users\\kenneth\\anaconda3\\lib\\site-packages (from notebook>=5.6.0->jupyterthemes) (0.13.1)\n",
      "Requirement already satisfied: pyzmq>=17 in c:\\users\\kenneth\\anaconda3\\lib\\site-packages (from notebook>=5.6.0->jupyterthemes) (23.2.0)\n",
      "Requirement already satisfied: jinja2 in c:\\users\\kenneth\\anaconda3\\lib\\site-packages (from notebook>=5.6.0->jupyterthemes) (2.11.3)\n",
      "Requirement already satisfied: ipython-genutils in c:\\users\\kenneth\\anaconda3\\lib\\site-packages (from notebook>=5.6.0->jupyterthemes) (0.2.0)\n",
      "Requirement already satisfied: jupyter-client>=5.3.4 in c:\\users\\kenneth\\anaconda3\\lib\\site-packages (from notebook>=5.6.0->jupyterthemes) (7.3.4)\n",
      "Requirement already satisfied: nbformat in c:\\users\\kenneth\\anaconda3\\lib\\site-packages (from notebook>=5.6.0->jupyterthemes) (5.5.0)\n",
      "Requirement already satisfied: nbconvert>=5 in c:\\users\\kenneth\\anaconda3\\lib\\site-packages (from notebook>=5.6.0->jupyterthemes) (6.4.4)\n",
      "Requirement already satisfied: tornado>=6.1 in c:\\users\\kenneth\\anaconda3\\lib\\site-packages (from notebook>=5.6.0->jupyterthemes) (6.1)\n",
      "Requirement already satisfied: nest-asyncio>=1.5 in c:\\users\\kenneth\\anaconda3\\lib\\site-packages (from notebook>=5.6.0->jupyterthemes) (1.5.5)\n",
      "Requirement already satisfied: pywin32>=1.0 in c:\\users\\kenneth\\anaconda3\\lib\\site-packages (from jupyter-core->jupyterthemes) (302)\n",
      "Requirement already satisfied: parso<0.9.0,>=0.8.0 in c:\\users\\kenneth\\anaconda3\\lib\\site-packages (from jedi>=0.16->ipython>=5.4.1->jupyterthemes) (0.8.3)\n",
      "Requirement already satisfied: entrypoints in c:\\users\\kenneth\\anaconda3\\lib\\site-packages (from jupyter-client>=5.3.4->notebook>=5.6.0->jupyterthemes) (0.4)\n",
      "Requirement already satisfied: mistune<2,>=0.8.1 in c:\\users\\kenneth\\anaconda3\\lib\\site-packages (from nbconvert>=5->notebook>=5.6.0->jupyterthemes) (0.8.4)\n",
      "Requirement already satisfied: testpath in c:\\users\\kenneth\\anaconda3\\lib\\site-packages (from nbconvert>=5->notebook>=5.6.0->jupyterthemes) (0.6.0)\n",
      "Requirement already satisfied: jupyterlab-pygments in c:\\users\\kenneth\\anaconda3\\lib\\site-packages (from nbconvert>=5->notebook>=5.6.0->jupyterthemes) (0.1.2)\n",
      "Requirement already satisfied: defusedxml in c:\\users\\kenneth\\anaconda3\\lib\\site-packages (from nbconvert>=5->notebook>=5.6.0->jupyterthemes) (0.7.1)\n",
      "Requirement already satisfied: pandocfilters>=1.4.1 in c:\\users\\kenneth\\anaconda3\\lib\\site-packages (from nbconvert>=5->notebook>=5.6.0->jupyterthemes) (1.5.0)\n",
      "Requirement already satisfied: beautifulsoup4 in c:\\users\\kenneth\\anaconda3\\lib\\site-packages (from nbconvert>=5->notebook>=5.6.0->jupyterthemes) (4.11.1)\n",
      "Requirement already satisfied: nbclient<0.6.0,>=0.5.0 in c:\\users\\kenneth\\anaconda3\\lib\\site-packages (from nbconvert>=5->notebook>=5.6.0->jupyterthemes) (0.5.13)\n",
      "Requirement already satisfied: bleach in c:\\users\\kenneth\\anaconda3\\lib\\site-packages (from nbconvert>=5->notebook>=5.6.0->jupyterthemes) (4.1.0)\n",
      "Requirement already satisfied: MarkupSafe>=0.23 in c:\\users\\kenneth\\anaconda3\\lib\\site-packages (from jinja2->notebook>=5.6.0->jupyterthemes) (2.0.1)\n",
      "Requirement already satisfied: jsonschema>=2.6 in c:\\users\\kenneth\\anaconda3\\lib\\site-packages (from nbformat->notebook>=5.6.0->jupyterthemes) (4.16.0)\n",
      "Requirement already satisfied: fastjsonschema in c:\\users\\kenneth\\anaconda3\\lib\\site-packages (from nbformat->notebook>=5.6.0->jupyterthemes) (2.16.2)\n",
      "Requirement already satisfied: wcwidth in c:\\users\\kenneth\\anaconda3\\lib\\site-packages (from prompt-toolkit!=3.0.0,!=3.0.1,<3.1.0,>=2.0.0->ipython>=5.4.1->jupyterthemes) (0.2.5)\n",
      "Requirement already satisfied: six>=1.5 in c:\\users\\kenneth\\anaconda3\\lib\\site-packages (from python-dateutil>=2.7->matplotlib>=1.4.3->jupyterthemes) (1.16.0)\n",
      "Requirement already satisfied: pywinpty>=1.1.0 in c:\\users\\kenneth\\anaconda3\\lib\\site-packages (from terminado>=0.8.3->notebook>=5.6.0->jupyterthemes) (2.0.2)\n",
      "Requirement already satisfied: argon2-cffi-bindings in c:\\users\\kenneth\\anaconda3\\lib\\site-packages (from argon2-cffi->notebook>=5.6.0->jupyterthemes) (21.2.0)\n",
      "Requirement already satisfied: debugpy>=1.0 in c:\\users\\kenneth\\anaconda3\\lib\\site-packages (from ipykernel->notebook>=5.6.0->jupyterthemes) (1.5.1)\n",
      "Requirement already satisfied: psutil in c:\\users\\kenneth\\anaconda3\\lib\\site-packages (from ipykernel->notebook>=5.6.0->jupyterthemes) (5.9.0)\n",
      "Requirement already satisfied: pyrsistent!=0.17.0,!=0.17.1,!=0.17.2,>=0.14.0 in c:\\users\\kenneth\\anaconda3\\lib\\site-packages (from jsonschema>=2.6->nbformat->notebook>=5.6.0->jupyterthemes) (0.18.0)\n",
      "Requirement already satisfied: attrs>=17.4.0 in c:\\users\\kenneth\\anaconda3\\lib\\site-packages (from jsonschema>=2.6->nbformat->notebook>=5.6.0->jupyterthemes) (21.4.0)\n",
      "Requirement already satisfied: cffi>=1.0.1 in c:\\users\\kenneth\\anaconda3\\lib\\site-packages (from argon2-cffi-bindings->argon2-cffi->notebook>=5.6.0->jupyterthemes) (1.15.1)\n",
      "Requirement already satisfied: soupsieve>1.2 in c:\\users\\kenneth\\anaconda3\\lib\\site-packages (from beautifulsoup4->nbconvert>=5->notebook>=5.6.0->jupyterthemes) (2.3.1)\n",
      "Requirement already satisfied: webencodings in c:\\users\\kenneth\\anaconda3\\lib\\site-packages (from bleach->nbconvert>=5->notebook>=5.6.0->jupyterthemes) (0.5.1)\n",
      "Requirement already satisfied: pycparser in c:\\users\\kenneth\\anaconda3\\lib\\site-packages (from cffi>=1.0.1->argon2-cffi-bindings->argon2-cffi->notebook>=5.6.0->jupyterthemes) (2.21)\n",
      "Installing collected packages: ply, lesscpy, jupyterthemes\n",
      "Successfully installed jupyterthemes-0.20.0 lesscpy-0.15.1 ply-3.11\n",
      "Note: you may need to restart the kernel to use updated packages.\n"
     ]
    }
   ],
   "source": [
    "pip install jupyterthemes "
   ]
  },
  {
   "cell_type": "code",
   "execution_count": 2,
   "id": "24184bb2",
   "metadata": {},
   "outputs": [
    {
     "name": "stdout",
     "output_type": "stream",
     "text": [
      "Available Themes: \n",
      "   chesterish\n",
      "   grade3\n",
      "   gruvboxd\n",
      "   gruvboxl\n",
      "   monokai\n",
      "   oceans16\n",
      "   onedork\n",
      "   solarizedd\n",
      "   solarizedl\n"
     ]
    }
   ],
   "source": [
    "!jt -l"
   ]
  },
  {
   "cell_type": "code",
   "execution_count": null,
   "id": "92cc81b2",
   "metadata": {},
   "outputs": [],
   "source": [
    "!jt -t onedork "
   ]
  },
  {
   "cell_type": "code",
   "execution_count": 2,
   "id": "4146bfef",
   "metadata": {},
   "outputs": [
    {
     "name": "stdout",
     "output_type": "stream",
     "text": [
      "Hello World, python is awesome\n"
     ]
    }
   ],
   "source": [
    "# I'm about to write my first python code\n",
    "print (\"Hello World, python is awesome\")"
   ]
  },
  {
   "cell_type": "code",
   "execution_count": 9,
   "id": "49336c8c",
   "metadata": {},
   "outputs": [
    {
     "name": "stdout",
     "output_type": "stream",
     "text": [
      "Hello everyone my name is Kenneth Agbo . My job is Data Scientist and the name of my school is LASOP\n"
     ]
    }
   ],
   "source": [
    "# introduce yourself, and say your fullname, occupation, and school name\n",
    "Firstname =\"Kenneth\"\n",
    "lastname = \"Agbo\"\n",
    "occupation = \"Data Scientist\"\n",
    "school_name = \"LASOP\"\n",
    "print(\"Hello everyone my name is\",Firstname, lastname,\".\",\"My job is\", occupation, \"and the name of my school is\", school_name)"
   ]
  },
  {
   "cell_type": "code",
   "execution_count": 10,
   "id": "1aec2ec9",
   "metadata": {},
   "outputs": [
    {
     "name": "stdout",
     "output_type": "stream",
     "text": [
      "Hello dear, the sum is 70\n"
     ]
    }
   ],
   "source": [
    "a = 30\n",
    "b = 40\n",
    "output = a+b\n",
    "print(\"Hello dear, the sum is\",output)"
   ]
  },
  {
   "cell_type": "code",
   "execution_count": 14,
   "id": "27f3c2c9",
   "metadata": {},
   "outputs": [
    {
     "name": "stdout",
     "output_type": "stream",
     "text": [
      "Enter your year of birth1998\n",
      "Your age is 26 years old\n"
     ]
    }
   ],
   "source": [
    "bornyear = int(input(\"Enter your year of birth\"))\n",
    "presentyear = 2024\n",
    "age = presentyear - bornyear\n",
    "print(\"Your age is\", age,\"years old\")"
   ]
  },
  {
   "cell_type": "code",
   "execution_count": null,
   "id": "0f048d98",
   "metadata": {},
   "outputs": [],
   "source": []
  },
  {
   "cell_type": "markdown",
   "id": "38c2ea55",
   "metadata": {},
   "source": [
    "# Variable and Identifier\n",
    "- A variable is an object that occupies space on the computer memory\n",
    "- Identifier is used to identify variable\n",
    "\n",
    "\n",
    "## Rules For Naming Variable\n",
    "\n",
    "- A variable name can not start with a number, though it can be find anywhere else\n",
    "- A variable name can not contain any special character except underscore\n",
    "- A variable name can not be joined with space, Use underscore instead\n",
    "- A variable can not be named with Python reserved key words eg print, def\n",
    "- note that Python is case sensitive\n"
   ]
  },
  {
   "cell_type": "code",
   "execution_count": null,
   "id": "c581409c",
   "metadata": {},
   "outputs": [],
   "source": [
    "# state your fullname, age, and your name of your school, then introduce yourself to the screen"
   ]
  },
  {
   "cell_type": "code",
   "execution_count": 15,
   "id": "f92a423c",
   "metadata": {},
   "outputs": [
    {
     "name": "stdout",
     "output_type": "stream",
     "text": [
      "Enter the reg number: 5666\n",
      "Enter the admission ID: 76890\n",
      "The sum is 82556.0\n"
     ]
    }
   ],
   "source": [
    "num1 = input(\"Enter the reg number: \")\n",
    "num2 = input(\"Enter the admission ID: \")\n",
    "\n",
    "num1 = float(num1)\n",
    "num2 = float(num2)\n",
    "\n",
    "result = num1 + num2 \n",
    "\n",
    "print(\"The sum is\", result)"
   ]
  },
  {
   "cell_type": "code",
   "execution_count": 16,
   "id": "c8da621b",
   "metadata": {},
   "outputs": [
    {
     "name": "stdout",
     "output_type": "stream",
     "text": [
      "Enter any number: 500\n",
      "Enter another number of choice: 10007\n",
      "The output is 10507.0\n"
     ]
    }
   ],
   "source": [
    "num1 = float(input(\"Enter any number: \"))\n",
    "num2 = float(input(\"Enter another number of choice: \"))\n",
    "result = num1 + num2\n",
    "print(\"The output is\",result)"
   ]
  },
  {
   "cell_type": "code",
   "execution_count": 17,
   "id": "ea48b731",
   "metadata": {},
   "outputs": [
    {
     "data": {
      "text/plain": [
       "float"
      ]
     },
     "execution_count": 17,
     "metadata": {},
     "output_type": "execute_result"
    }
   ],
   "source": [
    "type(result)"
   ]
  },
  {
   "cell_type": "code",
   "execution_count": 1,
   "id": "a4595784",
   "metadata": {},
   "outputs": [
    {
     "name": "stdout",
     "output_type": "stream",
     "text": [
      "Hello everyone, my fullname is Olaitan Kazeem I am 12 year olds and the name of my school is LASOP\n"
     ]
    }
   ],
   "source": [
    "First_name = \"Olaitan\"\n",
    "Last_name = \"Kazeem\"\n",
    "age = 12\n",
    "school = \"LASOP\"\n",
    "\n",
    "print(\"Hello everyone, my fullname is\", First_name,Last_name, \"I am\", age, \"year olds and the name of my school is\",school)"
   ]
  },
  {
   "cell_type": "code",
   "execution_count": 11,
   "id": "cb2c7008",
   "metadata": {},
   "outputs": [
    {
     "name": "stdout",
     "output_type": "stream",
     "text": [
      "please enter your first name: Steven\n",
      "please enter your last name: Agbo\n",
      "please enter your age: 20\n",
      "please what is the name of your school: LASOP\n",
      "Hello everyone, my fullname is Steven Agbo I am 20 years old and the name of my school is LASOP\n"
     ]
    }
   ],
   "source": [
    "\n",
    "First_name = input(\"please enter your first name: \")\n",
    "Last_name = input(\"please enter your last name: \")\n",
    "age = input(\"please enter your age: \")\n",
    "school = input(\"please what is the name of your school: \")\n",
    "print(\"Hello everyone, my fullname is\", First_name,Last_name, \"I am\", age, \"years old and the name of my school is\",school)"
   ]
  },
  {
   "cell_type": "code",
   "execution_count": null,
   "id": "87589e43",
   "metadata": {},
   "outputs": [],
   "source": [
    "# Note the following ; To create new cell, use \"A and B\" which stands for after and before. While to delete cell, use \"X\". Finally, to run a command, use shift key + enter"
   ]
  },
  {
   "cell_type": "code",
   "execution_count": null,
   "id": "e804499f",
   "metadata": {},
   "outputs": [],
   "source": []
  },
  {
   "cell_type": "code",
   "execution_count": 1,
   "id": "122e1ec1",
   "metadata": {},
   "outputs": [
    {
     "name": "stdout",
     "output_type": "stream",
     "text": [
      "Hello World\n"
     ]
    }
   ],
   "source": [
    "# print \"Hello world\"\n",
    "print(\"Hello World\")"
   ]
  },
  {
   "cell_type": "code",
   "execution_count": null,
   "id": "05f737e6",
   "metadata": {},
   "outputs": [],
   "source": []
  },
  {
   "cell_type": "code",
   "execution_count": 4,
   "id": "a45502a1",
   "metadata": {},
   "outputs": [
    {
     "name": "stdout",
     "output_type": "stream",
     "text": [
      "enter your marital statusmarried\n",
      "enter your spouse's namekenneth\n",
      "enter your date of marriage3rd December 2021\n",
      "please enter your first nameChinenye\n",
      "enter your surnameAgbo\n",
      "Hello Friends, My fullname is Chinenye Agbo and I'm married My partner is kenneth\n"
     ]
    }
   ],
   "source": [
    "marital_status = input(\"enter your marital status\")\n",
    "spouse_name = input(\"enter your spouse's name\")\n",
    "date_of_marriage = input(\"enter your date of marriage\")\n",
    "first_name = input(\"please enter your first name\")\n",
    "Surname = input(\"enter your surname\")\n",
    "print(\"Hello Friends, My fullname is\",first_name, Surname,\"and I'm\",marital_status, \"My partner is\", spouse_name,)"
   ]
  },
  {
   "cell_type": "code",
   "execution_count": 20,
   "id": "284e32f6",
   "metadata": {},
   "outputs": [],
   "source": [
    "a = 3"
   ]
  },
  {
   "cell_type": "code",
   "execution_count": 4,
   "id": "0f77f181",
   "metadata": {},
   "outputs": [
    {
     "name": "stdout",
     "output_type": "stream",
     "text": [
      "3\n"
     ]
    }
   ],
   "source": [
    "print (a)"
   ]
  },
  {
   "cell_type": "code",
   "execution_count": 6,
   "id": "6de2a2a7",
   "metadata": {},
   "outputs": [],
   "source": [
    "name1 = \"Olaitan\""
   ]
  },
  {
   "cell_type": "code",
   "execution_count": 7,
   "id": "02f3358a",
   "metadata": {},
   "outputs": [
    {
     "name": "stdout",
     "output_type": "stream",
     "text": [
      "Olaitan\n"
     ]
    }
   ],
   "source": [
    "print(name1)"
   ]
  },
  {
   "cell_type": "code",
   "execution_count": null,
   "id": "294922db",
   "metadata": {},
   "outputs": [],
   "source": [
    "first_name = \"olaitan\""
   ]
  },
  {
   "cell_type": "code",
   "execution_count": null,
   "id": "d1f5b693",
   "metadata": {},
   "outputs": [],
   "source": [
    "age = 15"
   ]
  },
  {
   "cell_type": "code",
   "execution_count": 14,
   "id": "b43252ef",
   "metadata": {},
   "outputs": [
    {
     "name": "stdout",
     "output_type": "stream",
     "text": [
      "enter the first number3\n",
      "enter the second number4\n",
      "the summation of the number entered is 7\n"
     ]
    }
   ],
   "source": [
    "num1 = int(input(\"enter the first number\")) \n",
    "num2 = int(input(\"enter the second number\"))\n",
    "total = num1 + num2\n",
    "print(\"the summation of the number entered is\",total)\n"
   ]
  },
  {
   "cell_type": "markdown",
   "id": "e3e1564c",
   "metadata": {},
   "source": [
    "# Data types in Python "
   ]
  },
  {
   "cell_type": "code",
   "execution_count": null,
   "id": "d21d30f4",
   "metadata": {},
   "outputs": [],
   "source": [
    "# Python supports various data types, including\n",
    "1.Numeric data types:\n",
    "    int: integer types(e.g 5,-7)\n",
    "    float: floating point types (e.g 2.3, -1.5)\n",
    "\n",
    "2. Sequence types:\n",
    "    str: string type(e.g \"Hello, Tomorrow\")\n",
    "    list: list type(e.g [1,2,3])\n",
    "        \n",
    "3. Set types:\n",
    "    set: Unordered collection with no duplicate elements (e.g {2,7,9,})\n",
    "4. Mapping type:\n",
    "    dict: Dictionary type (e.g {'key': 'value'})\n",
    "    \n",
    "5. Boolean types:\n",
    "    bool: Boolean type with values True or False"
   ]
  },
  {
   "cell_type": "markdown",
   "id": "bd5e2a3f",
   "metadata": {},
   "source": []
  },
  {
   "cell_type": "code",
   "execution_count": null,
   "id": "300487cc",
   "metadata": {},
   "outputs": [],
   "source": [
    "data type\n",
    "1. int \n",
    "2. float\n",
    "3. Str\n",
    "4. complex\n",
    "\n",
    "to check data type--- use type(the variable)\n",
    "e.g; W = 12   --- type(w) -- it will show that it has a str\n",
    "\n",
    "-- to convert str to int\n",
    "Use int(the variable) e.g int(w)\n",
    "\n"
   ]
  },
  {
   "cell_type": "code",
   "execution_count": null,
   "id": "037f7287",
   "metadata": {},
   "outputs": [],
   "source": [
    "#write python script that can ask users for their born year, then return the current age of such user"
   ]
  },
  {
   "cell_type": "code",
   "execution_count": 6,
   "id": "cc4cc2db",
   "metadata": {},
   "outputs": [
    {
     "name": "stdout",
     "output_type": "stream",
     "text": [
      "Enter your birth year1989\n",
      "Your current age is 35 years old\n"
     ]
    }
   ],
   "source": [
    "Born_year = int (input(\"Enter your birth year\"))\n",
    "current_year = 2024\n",
    "user_age = int(current_year - Born_year)\n",
    "print( \"Your current age is\", user_age, \"years old\")"
   ]
  },
  {
   "cell_type": "code",
   "execution_count": 24,
   "id": "e7686306",
   "metadata": {},
   "outputs": [
    {
     "name": "stdout",
     "output_type": "stream",
     "text": [
      "please enter your born year2001\n",
      "Your current Age is 22\n"
     ]
    }
   ],
   "source": [
    "born_year = int (input(\"please enter your born year\"))\n",
    "age = 2023- born_year\n",
    "print(\"Your current Age is\", age)"
   ]
  },
  {
   "cell_type": "markdown",
   "id": "8a964d61",
   "metadata": {},
   "source": [
    "#Operators In Python.\n",
    "In Python, Operators are used to manipulate Operand\n",
    "\n",
    "1. Arithmatics\n",
    "2. Assignment\n",
    "3. Comparision\n",
    "4. Membership\n",
    "5. Identity\n",
    "6. Logical\n",
    "7. bitwise\n",
    "\n"
   ]
  },
  {
   "cell_type": "code",
   "execution_count": 6,
   "id": "7fc2e8d0",
   "metadata": {},
   "outputs": [
    {
     "name": "stdout",
     "output_type": "stream",
     "text": [
      "10\n"
     ]
    }
   ],
   "source": [
    "# Addition\n",
    "a =3\n",
    "b = 7\n",
    "total = a+b\n",
    "print(total)"
   ]
  },
  {
   "cell_type": "code",
   "execution_count": 5,
   "id": "2875e2b4",
   "metadata": {},
   "outputs": [
    {
     "name": "stdout",
     "output_type": "stream",
     "text": [
      "-4\n"
     ]
    }
   ],
   "source": [
    "#Subtraction\n",
    "a =3\n",
    "b = 7\n",
    "total = a-b\n",
    "print(total)"
   ]
  },
  {
   "cell_type": "code",
   "execution_count": 4,
   "id": "d1412dff",
   "metadata": {},
   "outputs": [
    {
     "name": "stdout",
     "output_type": "stream",
     "text": [
      "3.3333333333333335\n"
     ]
    }
   ],
   "source": [
    "# Division\n",
    "a =10\n",
    "b = 3\n",
    "total = a/b\n",
    "print(total)"
   ]
  },
  {
   "cell_type": "code",
   "execution_count": 7,
   "id": "9db993e8",
   "metadata": {},
   "outputs": [
    {
     "name": "stdout",
     "output_type": "stream",
     "text": [
      "21\n"
     ]
    }
   ],
   "source": [
    "# multiplication\n",
    "a =3\n",
    "b = 7\n",
    "total = a*b\n",
    "print(total)"
   ]
  },
  {
   "cell_type": "code",
   "execution_count": 8,
   "id": "6c540841",
   "metadata": {},
   "outputs": [
    {
     "name": "stdout",
     "output_type": "stream",
     "text": [
      "2187\n"
     ]
    }
   ],
   "source": [
    "# power\n",
    "a =3\n",
    "b = 7\n",
    "total = a**b\n",
    "print(total)"
   ]
  },
  {
   "cell_type": "code",
   "execution_count": 9,
   "id": "b575a8dc",
   "metadata": {},
   "outputs": [
    {
     "name": "stdout",
     "output_type": "stream",
     "text": [
      "1\n"
     ]
    }
   ],
   "source": [
    "# modulus\n",
    "a =10\n",
    "b = 3\n",
    "total = a%b\n",
    "print(total)"
   ]
  },
  {
   "cell_type": "code",
   "execution_count": 20,
   "id": "871ff545",
   "metadata": {},
   "outputs": [
    {
     "name": "stdout",
     "output_type": "stream",
     "text": [
      "4\n"
     ]
    }
   ],
   "source": [
    "ken = 21\n",
    "Mario = 5\n",
    "total = ken // Mario\n",
    "print(total)"
   ]
  },
  {
   "cell_type": "code",
   "execution_count": null,
   "id": "63106122",
   "metadata": {},
   "outputs": [],
   "source": [
    "# note; Modulus returns only the remainder after division. Whenever there is no remainder, it will return zero"
   ]
  },
  {
   "cell_type": "code",
   "execution_count": 25,
   "id": "23f5c08e",
   "metadata": {},
   "outputs": [
    {
     "name": "stdout",
     "output_type": "stream",
     "text": [
      "6\n"
     ]
    }
   ],
   "source": [
    "# Assignment Operator\n",
    "#equal sign\n",
    "name = \"Olaitan\"\n",
    "\n",
    "#Increament\n",
    "a=4\n",
    "a +=2  #increase the values of \"a\" with 2\n",
    "print(a)\n",
    "\n",
    "# decreament\n",
    "\n",
    "a=4\n",
    "a -=2  #decrease the values of \"a\" with 2"
   ]
  },
  {
   "cell_type": "code",
   "execution_count": 15,
   "id": "42b8324a",
   "metadata": {},
   "outputs": [
    {
     "data": {
      "text/plain": [
       "False"
      ]
     },
     "execution_count": 15,
     "metadata": {},
     "output_type": "execute_result"
    }
   ],
   "source": [
    "# Comparision Operator  returns a boolean result i.e True/false\n",
    "\n",
    "#>\n",
    "a = 10\n",
    "b = 15\n",
    "a >b"
   ]
  },
  {
   "cell_type": "code",
   "execution_count": 16,
   "id": "cdc5549c",
   "metadata": {},
   "outputs": [
    {
     "data": {
      "text/plain": [
       "True"
      ]
     },
     "execution_count": 16,
     "metadata": {},
     "output_type": "execute_result"
    }
   ],
   "source": [
    "#>=\n",
    "a = 10\n",
    "b = 10\n",
    "a >=b"
   ]
  },
  {
   "cell_type": "code",
   "execution_count": 17,
   "id": "7b2f36b8",
   "metadata": {},
   "outputs": [
    {
     "data": {
      "text/plain": [
       "True"
      ]
     },
     "execution_count": 17,
     "metadata": {},
     "output_type": "execute_result"
    }
   ],
   "source": [
    "# <=\n",
    "a = 10\n",
    "b = 15\n",
    "a <= b"
   ]
  },
  {
   "cell_type": "code",
   "execution_count": 18,
   "id": "62d7b121",
   "metadata": {},
   "outputs": [
    {
     "data": {
      "text/plain": [
       "True"
      ]
     },
     "execution_count": 18,
     "metadata": {},
     "output_type": "execute_result"
    }
   ],
   "source": [
    "# ==\n",
    "a = 15\n",
    "b = 15\n",
    "a ==b"
   ]
  },
  {
   "cell_type": "code",
   "execution_count": 25,
   "id": "73e64230",
   "metadata": {},
   "outputs": [
    {
     "data": {
      "text/plain": [
       "False"
      ]
     },
     "execution_count": 25,
     "metadata": {},
     "output_type": "execute_result"
    }
   ],
   "source": [
    " # !=\n",
    "    \n",
    "a = 15\n",
    "b = 15\n",
    "a !=b\n",
    "    "
   ]
  },
  {
   "cell_type": "markdown",
   "id": "dc1117db",
   "metadata": {},
   "source": [
    "# Membership   \n",
    "(it returns a boolean result, is or is not)\n",
    "\n",
    "\n",
    "\n"
   ]
  },
  {
   "cell_type": "code",
   "execution_count": 29,
   "id": "88ce106b",
   "metadata": {},
   "outputs": [
    {
     "data": {
      "text/plain": [
       "False"
      ]
     },
     "execution_count": 29,
     "metadata": {},
     "output_type": "execute_result"
    }
   ],
   "source": [
    "name = \"Olaitan\"\n",
    "name2 = \"olaitan\"\n",
    "name in name2"
   ]
  },
  {
   "cell_type": "code",
   "execution_count": 22,
   "id": "229bf2e2",
   "metadata": {},
   "outputs": [
    {
     "data": {
      "text/plain": [
       "True"
      ]
     },
     "execution_count": 22,
     "metadata": {},
     "output_type": "execute_result"
    }
   ],
   "source": [
    "name is not name2"
   ]
  },
  {
   "cell_type": "markdown",
   "id": "bc3b4e06",
   "metadata": {},
   "source": [
    "# Identity\n",
    "it also returns boolean result in, not in\n"
   ]
  },
  {
   "cell_type": "code",
   "execution_count": 23,
   "id": "c32a3cb8",
   "metadata": {},
   "outputs": [
    {
     "data": {
      "text/plain": [
       "True"
      ]
     },
     "execution_count": 23,
     "metadata": {},
     "output_type": "execute_result"
    }
   ],
   "source": [
    "name = \"Olaitan\"\n",
    "\"O\" in name"
   ]
  },
  {
   "cell_type": "code",
   "execution_count": 24,
   "id": "0a648c9a",
   "metadata": {},
   "outputs": [
    {
     "data": {
      "text/plain": [
       "False"
      ]
     },
     "execution_count": 24,
     "metadata": {},
     "output_type": "execute_result"
    }
   ],
   "source": [
    "name = \"Olaitan\"\n",
    "\"O\" not in name"
   ]
  },
  {
   "cell_type": "markdown",
   "id": "b74370cb",
   "metadata": {},
   "source": [
    "# Logical Operator returns boolean result\n",
    "\n",
    "-- and or \n",
    "-- for \"and\", once any of the variable is false, it will return a false result(everything must be true)\n",
    "-- For \"or\", once any of the variable is true, it will return a true result\n",
    "\n"
   ]
  },
  {
   "cell_type": "code",
   "execution_count": 26,
   "id": "1d38fe05",
   "metadata": {},
   "outputs": [
    {
     "data": {
      "text/plain": [
       "False"
      ]
     },
     "execution_count": 26,
     "metadata": {},
     "output_type": "execute_result"
    }
   ],
   "source": [
    "a = 6\n",
    "b = 8\n",
    "c = 19\n",
    "(a> b) and (a<b)"
   ]
  },
  {
   "cell_type": "code",
   "execution_count": 28,
   "id": "475c8420",
   "metadata": {},
   "outputs": [
    {
     "data": {
      "text/plain": [
       "True"
      ]
     },
     "execution_count": 28,
     "metadata": {},
     "output_type": "execute_result"
    }
   ],
   "source": [
    "a = 6\n",
    "b = 8\n",
    "c = 19\n",
    "(a> b) or (a<b)"
   ]
  },
  {
   "cell_type": "code",
   "execution_count": null,
   "id": "f690303f",
   "metadata": {},
   "outputs": [],
   "source": [
    "# Bitwise\n",
    "| and &\n"
   ]
  },
  {
   "cell_type": "code",
   "execution_count": 32,
   "id": "f1a7822d",
   "metadata": {},
   "outputs": [
    {
     "name": "stdout",
     "output_type": "stream",
     "text": [
      "14\n"
     ]
    }
   ],
   "source": [
    "a = 10\n",
    "b = 4\n",
    "print(a|b)"
   ]
  },
  {
   "cell_type": "code",
   "execution_count": null,
   "id": "581d4821",
   "metadata": {},
   "outputs": [],
   "source": []
  },
  {
   "cell_type": "code",
   "execution_count": 28,
   "id": "604647fe",
   "metadata": {},
   "outputs": [
    {
     "data": {
      "text/plain": [
       "False"
      ]
     },
     "execution_count": 28,
     "metadata": {},
     "output_type": "execute_result"
    }
   ],
   "source": [
    "a = 6\n",
    "b = 8\n",
    "c = 19\n",
    "(a> b) & (a<b)"
   ]
  },
  {
   "cell_type": "code",
   "execution_count": 29,
   "id": "eca34d4a",
   "metadata": {},
   "outputs": [
    {
     "data": {
      "text/plain": [
       "True"
      ]
     },
     "execution_count": 29,
     "metadata": {},
     "output_type": "execute_result"
    }
   ],
   "source": [
    "a = 6\n",
    "b = 8\n",
    "c = 19\n",
    "(a> b) | (a<b)"
   ]
  },
  {
   "cell_type": "markdown",
   "id": "04488781",
   "metadata": {},
   "source": [
    "# // returns only the whole number"
   ]
  },
  {
   "cell_type": "code",
   "execution_count": 30,
   "id": "370ff458",
   "metadata": {},
   "outputs": [
    {
     "data": {
      "text/plain": [
       "2.5"
      ]
     },
     "execution_count": 30,
     "metadata": {},
     "output_type": "execute_result"
    }
   ],
   "source": [
    "a = 5\n",
    "b = 2\n",
    "a/b"
   ]
  },
  {
   "cell_type": "code",
   "execution_count": 31,
   "id": "239349d8",
   "metadata": {},
   "outputs": [
    {
     "data": {
      "text/plain": [
       "2"
      ]
     },
     "execution_count": 31,
     "metadata": {},
     "output_type": "execute_result"
    }
   ],
   "source": [
    "a = 5\n",
    "b = 2\n",
    "a//b"
   ]
  },
  {
   "cell_type": "code",
   "execution_count": null,
   "id": "2c56a1a3",
   "metadata": {},
   "outputs": [],
   "source": []
  },
  {
   "cell_type": "code",
   "execution_count": null,
   "id": "90c4dafc",
   "metadata": {},
   "outputs": [],
   "source": []
  },
  {
   "cell_type": "markdown",
   "id": "9a4bf17b",
   "metadata": {},
   "source": [
    "# Data type in Python\n",
    "\n",
    "1.Mutable ; they are kind of data type that can be modified after declaration e.g\n",
    "a. List (sequence type)\n",
    "b. dictionary(mapping type)\n",
    "\n",
    "2. Immutable data type; they are kind of data type that can not be modified after declaration e.g\n",
    "a. number; float, int\n",
    "b. str (sequence type)\n",
    "c. tuple (sequence type)\n",
    "d. set (set type)"
   ]
  },
  {
   "cell_type": "markdown",
   "id": "5cd67942",
   "metadata": {},
   "source": [
    "#Number"
   ]
  },
  {
   "cell_type": "code",
   "execution_count": null,
   "id": "b9c1ce3a",
   "metadata": {},
   "outputs": [],
   "source": [
    "a = 12 #int\n",
    "b = 12.5 #float"
   ]
  },
  {
   "cell_type": "markdown",
   "id": "549024bc",
   "metadata": {},
   "source": [
    "# Str is a sequence of character joined together\n"
   ]
  },
  {
   "cell_type": "code",
   "execution_count": null,
   "id": "b626331a",
   "metadata": {},
   "outputs": [],
   "source": [
    "name = \"olaitan\"\n",
    "name1 = \"olaitan\"\n",
    "introduction = \"\"\"this is introduction to python\"\"\"\n",
    "\n",
    "-- Note for long sequence, use triple quote just like in the example above."
   ]
  },
  {
   "cell_type": "markdown",
   "id": "bad33ddc",
   "metadata": {},
   "source": [
    "# Indexing and Slicing\n",
    "Indexing is the process of fetching out a character from str or any other datatype in a position\n",
    "While Slicing is a process of fetching a character(s) from str or any other datatype within range of positions\n",
    "\n",
    "## note that datatype in python has zero base index"
   ]
  },
  {
   "cell_type": "code",
   "execution_count": 5,
   "id": "b076d396",
   "metadata": {},
   "outputs": [
    {
     "data": {
      "text/plain": [
       "'o'"
      ]
     },
     "execution_count": 5,
     "metadata": {},
     "output_type": "execute_result"
    }
   ],
   "source": [
    "introduction = \"\"\"this is introduction to python\"\"\"\n",
    "# Return the second o from the variables above using forward indexing\n",
    "introduction[18]"
   ]
  },
  {
   "cell_type": "code",
   "execution_count": 1,
   "id": "cf16a132",
   "metadata": {},
   "outputs": [
    {
     "data": {
      "text/plain": [
       "'s'"
      ]
     },
     "execution_count": 1,
     "metadata": {},
     "output_type": "execute_result"
    }
   ],
   "source": [
    "school = \"Lasop\"\n",
    "# Return \"s\"\n",
    "school[2]"
   ]
  },
  {
   "cell_type": "code",
   "execution_count": 7,
   "id": "4b8ad6bf",
   "metadata": {},
   "outputs": [
    {
     "data": {
      "text/plain": [
       "'i'"
      ]
     },
     "execution_count": 7,
     "metadata": {},
     "output_type": "execute_result"
    }
   ],
   "source": [
    "introduction = \"\"\"this is introduction to python\"\"\"\n",
    "# Return the first third i from the variables above using backward indexing\n",
    "introduction[-22]"
   ]
  },
  {
   "cell_type": "code",
   "execution_count": 8,
   "id": "51a82d66",
   "metadata": {},
   "outputs": [
    {
     "data": {
      "text/plain": [
       "'introduction'"
      ]
     },
     "execution_count": 8,
     "metadata": {},
     "output_type": "execute_result"
    }
   ],
   "source": [
    "introduction[8:20]"
   ]
  },
  {
   "cell_type": "code",
   "execution_count": 7,
   "id": "d58af90d",
   "metadata": {},
   "outputs": [
    {
     "data": {
      "text/plain": [
       "'y'"
      ]
     },
     "execution_count": 7,
     "metadata": {},
     "output_type": "execute_result"
    }
   ],
   "source": [
    "# using backward indexing return y from the variable above\n",
    "introduction[-5]"
   ]
  },
  {
   "cell_type": "code",
   "execution_count": null,
   "id": "82797b05",
   "metadata": {},
   "outputs": [],
   "source": [
    "# Note, in forward indexing, get the index number of the given value and subtract 1 \n",
    "# while in backward indexing, count from the last word and don't subtract 1 from the index number"
   ]
  },
  {
   "cell_type": "code",
   "execution_count": 8,
   "id": "5f8bd432",
   "metadata": {
    "scrolled": true
   },
   "outputs": [
    {
     "data": {
      "text/plain": [
       "'natialO'"
      ]
     },
     "execution_count": 8,
     "metadata": {},
     "output_type": "execute_result"
    }
   ],
   "source": [
    "# Reverse str\n",
    "name = \"Olaitan\"\n",
    "name[::-1]"
   ]
  },
  {
   "cell_type": "code",
   "execution_count": 8,
   "id": "0f84f5b8",
   "metadata": {},
   "outputs": [
    {
     "data": {
      "text/plain": [
       "'htenneK'"
      ]
     },
     "execution_count": 8,
     "metadata": {},
     "output_type": "execute_result"
    }
   ],
   "source": [
    "name = \"Kenneth\"\n",
    "name[::-1]"
   ]
  },
  {
   "cell_type": "code",
   "execution_count": 2,
   "id": "bf3efcfe",
   "metadata": {},
   "outputs": [
    {
     "data": {
      "text/plain": [
       "'rats'"
      ]
     },
     "execution_count": 2,
     "metadata": {},
     "output_type": "execute_result"
    }
   ],
   "source": [
    "name = \"star\"\n",
    "name[::-1]"
   ]
  },
  {
   "cell_type": "markdown",
   "id": "918599a3",
   "metadata": {},
   "source": [
    "variablename[startpoint:endpoint:numberofsteps]\n",
    "\n",
    "startpoint: index no (index no starts from zero)\n",
    "endpoint: position no (position no starts from 1)\n",
    "number of steps: (starts by adding 1 to the difference existing in the characters under consideration)\n",
    "    \n",
    "    \n",
    "    "
   ]
  },
  {
   "cell_type": "code",
   "execution_count": 10,
   "id": "b7c32f28",
   "metadata": {},
   "outputs": [
    {
     "data": {
      "text/plain": [
       "'is intro'"
      ]
     },
     "execution_count": 10,
     "metadata": {},
     "output_type": "execute_result"
    }
   ],
   "source": [
    "introduction = \"\"\"this is introduction to python\"\"\"\n",
    "# return 'is intro' from  the variable above\n",
    "\n",
    "introduction[5:13]"
   ]
  },
  {
   "cell_type": "code",
   "execution_count": 12,
   "id": "22df4cb7",
   "metadata": {},
   "outputs": [
    {
     "data": {
      "text/plain": [
       "'ction to'"
      ]
     },
     "execution_count": 12,
     "metadata": {},
     "output_type": "execute_result"
    }
   ],
   "source": [
    "# return 'ction to' from  the variable above\n",
    "introduction[15:23]"
   ]
  },
  {
   "cell_type": "code",
   "execution_count": 13,
   "id": "568baa07",
   "metadata": {},
   "outputs": [
    {
     "data": {
      "text/plain": [
       "'itouto'"
      ]
     },
     "execution_count": 13,
     "metadata": {},
     "output_type": "execute_result"
    }
   ],
   "source": [
    "introduction = \"\"\"this is introduction to python\"\"\"\n",
    "# return 'itouto' from  the variable above\n",
    "introduction[8:19:2]"
   ]
  },
  {
   "cell_type": "code",
   "execution_count": null,
   "id": "7c957193",
   "metadata": {},
   "outputs": [],
   "source": [
    "# note; since the above character, they were consistently skipping 1 character, use no of steps 2"
   ]
  },
  {
   "cell_type": "code",
   "execution_count": 18,
   "id": "2d08991e",
   "metadata": {},
   "outputs": [
    {
     "data": {
      "text/plain": [
       "'s rcn h'"
      ]
     },
     "execution_count": 18,
     "metadata": {},
     "output_type": "execute_result"
    }
   ],
   "source": [
    "introduction = \"\"\"this is introduction to python\"\"\"\n",
    "# return 's rcn h' from  the variable above\n",
    "\n",
    "introduction[3::4]"
   ]
  },
  {
   "cell_type": "code",
   "execution_count": null,
   "id": "e9068a77",
   "metadata": {},
   "outputs": [],
   "source": [
    "# Note: just get the index no and no of steps required"
   ]
  },
  {
   "cell_type": "markdown",
   "id": "6953b748",
   "metadata": {},
   "source": [
    "# Str Method in Python\n",
    "Str method is a function that is associated with str object"
   ]
  },
  {
   "cell_type": "code",
   "execution_count": 13,
   "id": "adaae21d",
   "metadata": {},
   "outputs": [
    {
     "data": {
      "text/plain": [
       "'tolu'"
      ]
     },
     "execution_count": 13,
     "metadata": {},
     "output_type": "execute_result"
    }
   ],
   "source": [
    "# strip().. remove excessive white space before and after str\n",
    "#To use it, variablename then dot followed by the name of the method\n",
    "\n",
    "name = \"    tolu   \"\n",
    "name.strip()"
   ]
  },
  {
   "cell_type": "code",
   "execution_count": 14,
   "id": "09ac0823",
   "metadata": {},
   "outputs": [
    {
     "data": {
      "text/plain": [
       "'Mikel'"
      ]
     },
     "execution_count": 14,
     "metadata": {},
     "output_type": "execute_result"
    }
   ],
   "source": [
    "name = \"   Mikel    \"\n",
    "name.strip()"
   ]
  },
  {
   "cell_type": "code",
   "execution_count": 2,
   "id": "6cb6a662",
   "metadata": {},
   "outputs": [
    {
     "data": {
      "text/plain": [
       "'<<<tolu???////'"
      ]
     },
     "execution_count": 2,
     "metadata": {},
     "output_type": "execute_result"
    }
   ],
   "source": [
    "name= \"<<<tolu???////\"\n",
    "name"
   ]
  },
  {
   "cell_type": "code",
   "execution_count": 4,
   "id": "6d5f80f2",
   "metadata": {},
   "outputs": [
    {
     "data": {
      "text/plain": [
       "'tolu'"
      ]
     },
     "execution_count": 4,
     "metadata": {},
     "output_type": "execute_result"
    }
   ],
   "source": [
    "name.strip(\"<\").strip(\"/\").strip(\"?\")"
   ]
  },
  {
   "cell_type": "code",
   "execution_count": 21,
   "id": "64737c80",
   "metadata": {},
   "outputs": [
    {
     "data": {
      "text/plain": [
       "'tolu'"
      ]
     },
     "execution_count": 21,
     "metadata": {},
     "output_type": "execute_result"
    }
   ],
   "source": [
    "# note;start by removing the starting characters or ending characters first\n",
    "\n",
    "name.strip(\"/\").strip(\"<\").strip(\"?\")"
   ]
  },
  {
   "cell_type": "code",
   "execution_count": 30,
   "id": "95072304",
   "metadata": {},
   "outputs": [
    {
     "name": "stdout",
     "output_type": "stream",
     "text": [
      "please enter your first name Ejike\n",
      "please enter your last name Agbo\n",
      "please enter your age 25\n",
      "please what is the name of your school LASOP\n",
      "Hello everyone, my fullname is  Ejike  Agbo I am  25 year olds and the name of my school is  LASOP\n"
     ]
    }
   ],
   "source": [
    "# Format\n",
    "\n",
    "\n",
    "First_name = input(\"please enter your first name\")\n",
    "Last_name = input(\"please enter your last name\")\n",
    "age = input(\"please enter your age\")\n",
    "school = input(\"please what is the name of your school\")\n",
    "print(\"Hello everyone, my fullname is {} {} I am {} year olds and the name of my school is {}\".format(First_name,Last_name,age,school))\n",
    "\n"
   ]
  },
  {
   "cell_type": "code",
   "execution_count": 15,
   "id": "648fc3af",
   "metadata": {},
   "outputs": [
    {
     "data": {
      "text/plain": [
       "2"
      ]
     },
     "execution_count": 15,
     "metadata": {},
     "output_type": "execute_result"
    }
   ],
   "source": [
    "# Find \n",
    "#note when it didn't find it, it will return -1\n",
    "\n",
    "name = \"kola\"\n",
    "\n",
    "name.find(\"l\")"
   ]
  },
  {
   "cell_type": "code",
   "execution_count": 26,
   "id": "196aa064",
   "metadata": {},
   "outputs": [
    {
     "data": {
      "text/plain": [
       "True"
      ]
     },
     "execution_count": 26,
     "metadata": {},
     "output_type": "execute_result"
    }
   ],
   "source": [
    "introduction = \"This is introduction to python\"\n",
    "\n",
    "introduction.endswith(\"n\")\n",
    "\n"
   ]
  },
  {
   "cell_type": "code",
   "execution_count": 32,
   "id": "1cad297a",
   "metadata": {},
   "outputs": [
    {
     "data": {
      "text/plain": [
       "True"
      ]
     },
     "execution_count": 32,
     "metadata": {},
     "output_type": "execute_result"
    }
   ],
   "source": [
    "# Endswith :: it will return boolean result\n",
    "name = \"Damilare\"\n",
    "name.endswith(\"e\")"
   ]
  },
  {
   "cell_type": "code",
   "execution_count": 2,
   "id": "30f4be26",
   "metadata": {},
   "outputs": [
    {
     "data": {
      "text/plain": [
       "'I love python because I can build cool artificial intelligent with it'"
      ]
     },
     "execution_count": 2,
     "metadata": {},
     "output_type": "execute_result"
    }
   ],
   "source": [
    "# Replace\n",
    "var = \"I love python because I can build cool AI with it\"\n",
    "var.replace(\"AI\",\"artificial intelligent\")"
   ]
  },
  {
   "cell_type": "code",
   "execution_count": 28,
   "id": "e405fa3c",
   "metadata": {},
   "outputs": [
    {
     "data": {
      "text/plain": [
       "['people', 'from', 'Africa', 'are', 'black', 'like', 'tolu']"
      ]
     },
     "execution_count": 28,
     "metadata": {},
     "output_type": "execute_result"
    }
   ],
   "source": [
    "# Split method : it will convert the type to list and you can spacify any character that you want to split with\n",
    "\n",
    "u = \"people>from>Africa>are>black>like>tolu\"\n",
    "u.split(\">\")\n",
    "\n"
   ]
  },
  {
   "cell_type": "code",
   "execution_count": 40,
   "id": "a195e144",
   "metadata": {},
   "outputs": [
    {
     "data": {
      "text/plain": [
       "list"
      ]
     },
     "execution_count": 40,
     "metadata": {},
     "output_type": "execute_result"
    }
   ],
   "source": [
    "# to check the data type, rename the function to any name\n",
    "\n",
    "d = u.split(\">\")\n",
    "\n",
    "type(d)"
   ]
  },
  {
   "cell_type": "markdown",
   "id": "d52fc29f",
   "metadata": {},
   "source": [
    "# List datatype\n",
    "mutable sequence datatype\n"
   ]
  },
  {
   "cell_type": "code",
   "execution_count": null,
   "id": "ce9d4296",
   "metadata": {},
   "outputs": [],
   "source": [
    "# list\n",
    "list1 = [] # an empty list\n"
   ]
  },
  {
   "cell_type": "code",
   "execution_count": null,
   "id": "a6b55cd2",
   "metadata": {},
   "outputs": [],
   "source": [
    "# list with elements\n",
    "list2 = [23, \"Kola\", 23.7, 3 + 7] # one dimensional list\n"
   ]
  },
  {
   "cell_type": "code",
   "execution_count": null,
   "id": "490fb3f4",
   "metadata": {},
   "outputs": [],
   "source": [
    "List3 = [[2,3,4,5,7,8]]\n"
   ]
  },
  {
   "cell_type": "code",
   "execution_count": null,
   "id": "70f9509f",
   "metadata": {},
   "outputs": [],
   "source": [
    "# Nested list \n",
    "list4 = [2,5,[\"goat\",\"cow\", 'rat\"'], \"Ada\", \"Begger\", 77]"
   ]
  },
  {
   "cell_type": "code",
   "execution_count": 33,
   "id": "ba289674",
   "metadata": {},
   "outputs": [
    {
     "data": {
      "text/plain": [
       "'Kola'"
      ]
     },
     "execution_count": 33,
     "metadata": {},
     "output_type": "execute_result"
    }
   ],
   "source": [
    "list2 = [23, \"Kola\", 23.7, 3, 7]\n",
    "# Return \"Kola\" in list2\n",
    "list2[1]"
   ]
  },
  {
   "cell_type": "code",
   "execution_count": 15,
   "id": "8cc1c390",
   "metadata": {},
   "outputs": [
    {
     "data": {
      "text/plain": [
       "[2, 'goat', 'rat', 'Begger']"
      ]
     },
     "execution_count": 15,
     "metadata": {},
     "output_type": "execute_result"
    }
   ],
   "source": [
    "list4 = [2, 5, \"goat\",\"cow\", \"rat\", \"Ada\", \"Begger\", 77]\n",
    "# return 2, \"goat\", \"rat\", \"beggar\"\n",
    "list4[0:7:2]"
   ]
  },
  {
   "cell_type": "code",
   "execution_count": 35,
   "id": "a84bc0a1",
   "metadata": {},
   "outputs": [
    {
     "data": {
      "text/plain": [
       "'cow'"
      ]
     },
     "execution_count": 35,
     "metadata": {},
     "output_type": "execute_result"
    }
   ],
   "source": [
    "list5 = [2, 5, [\"goat\",\"cow\", 'rat\"'], \"Ada\", \"Begger\", 77]\n",
    "list5[2][1]"
   ]
  },
  {
   "cell_type": "code",
   "execution_count": 16,
   "id": "6ac9dec3",
   "metadata": {},
   "outputs": [
    {
     "data": {
      "text/plain": [
       "[77, 8]"
      ]
     },
     "execution_count": 16,
     "metadata": {},
     "output_type": "execute_result"
    }
   ],
   "source": [
    "list7 = [2,77,8,4,[\"A\", \"B\", \"C\",\"D\"], \"Z\", \"Y\", \"X\"]\n",
    "#Return 77, 8\n",
    "list7[1:3]"
   ]
  },
  {
   "cell_type": "code",
   "execution_count": 42,
   "id": "2938ac86",
   "metadata": {},
   "outputs": [
    {
     "data": {
      "text/plain": [
       "[2, 8]"
      ]
     },
     "execution_count": 42,
     "metadata": {},
     "output_type": "execute_result"
    }
   ],
   "source": [
    "list7 = [2,77,8,4,[\"A\", \"B\", \"C\",\"D\"], \"Z\", \"Y\", \"X\"]\n",
    "#Return 2, 8\n",
    "list7[0:3:2]"
   ]
  },
  {
   "cell_type": "code",
   "execution_count": 10,
   "id": "a6d14271",
   "metadata": {},
   "outputs": [
    {
     "data": {
      "text/plain": [
       "['A', 'C']"
      ]
     },
     "execution_count": 10,
     "metadata": {},
     "output_type": "execute_result"
    }
   ],
   "source": [
    "list7 = [2,77,8,4,[\"A\", \"B\", \"C\",\"D\"], \"Z\", \"Y\", \"X\"]\n",
    "# Return \"A\", \"C\"\n",
    "list7[4][0::2]"
   ]
  },
  {
   "cell_type": "code",
   "execution_count": 21,
   "id": "e2b9e555",
   "metadata": {},
   "outputs": [
    {
     "data": {
      "text/plain": [
       "['Y', 'X']"
      ]
     },
     "execution_count": 21,
     "metadata": {},
     "output_type": "execute_result"
    }
   ],
   "source": [
    "list7 = [2,77,8,4,[\"A\", \"B\", \"C\",\"D\"], \"Z\", \"Y\", \"X\"]\n",
    "#return \"Y\", \"X\"\n",
    "list7[6:8]"
   ]
  },
  {
   "cell_type": "code",
   "execution_count": null,
   "id": "9f02beea",
   "metadata": {},
   "outputs": [],
   "source": [
    "# List method\n"
   ]
  },
  {
   "cell_type": "code",
   "execution_count": 29,
   "id": "3c3a9916",
   "metadata": {},
   "outputs": [
    {
     "name": "stdout",
     "output_type": "stream",
     "text": [
      "[1, 2, 3, 4]\n"
     ]
    }
   ],
   "source": [
    "# append : is used to add new element to the end of the list\n",
    "w = [1,2,3]\n",
    "w.append(4)\n",
    "print(w)"
   ]
  },
  {
   "cell_type": "code",
   "execution_count": 11,
   "id": "3198b90a",
   "metadata": {},
   "outputs": [
    {
     "name": "stdout",
     "output_type": "stream",
     "text": [
      "['Ken', 'Abel', 'Bona', 'Solomon', 'Gideon']\n"
     ]
    }
   ],
   "source": [
    "my_list = [\"Abel\", \"Bona\", \"Solomon\", \"Gideon\"]\n",
    "my_list.insert(0,\"Ken\")\n",
    "print(my_list)"
   ]
  },
  {
   "cell_type": "code",
   "execution_count": 30,
   "id": "f8b99a26",
   "metadata": {},
   "outputs": [
    {
     "name": "stdout",
     "output_type": "stream",
     "text": [
      "['Ada', 'Ojo', 'Ade', 'Kemi']\n"
     ]
    }
   ],
   "source": [
    "# Insert : is used to add new element at specified index number\n",
    "e = [\"Ada\", \"Ade\", \"Kemi\"]\n",
    "e.insert(1,\"Ojo\")\n",
    "print(e)"
   ]
  },
  {
   "cell_type": "code",
   "execution_count": 31,
   "id": "a20597a6",
   "metadata": {},
   "outputs": [
    {
     "name": "stdout",
     "output_type": "stream",
     "text": [
      "['Ada', 'Ade', 'Kemi', 1, 2, 3]\n"
     ]
    }
   ],
   "source": [
    "# extend: is use to add list of new elemnts to list\n",
    "w = [1,2,3]\n",
    "e = [\"Ada\",\"Ade\", \"Kemi\"]\n",
    "e.extend(w)\n",
    "print(e)"
   ]
  },
  {
   "cell_type": "code",
   "execution_count": null,
   "id": "a14e28b4",
   "metadata": {},
   "outputs": [],
   "source": [
    "Note; append will join the whole set as an element unlike extend that will list the individual elements"
   ]
  },
  {
   "cell_type": "code",
   "execution_count": 29,
   "id": "29c3fa7e",
   "metadata": {},
   "outputs": [
    {
     "name": "stdout",
     "output_type": "stream",
     "text": [
      "['Ada', 'Kemi']\n"
     ]
    }
   ],
   "source": [
    "# Remove\n",
    "e = [\"Ada\",\"Ade\", \"Kemi\"]\n",
    "e.remove(\"Ade\")\n",
    "print(e)"
   ]
  },
  {
   "cell_type": "code",
   "execution_count": 30,
   "id": "445bb86d",
   "metadata": {},
   "outputs": [
    {
     "name": "stdout",
     "output_type": "stream",
     "text": [
      "['Ada', 'Ade']\n"
     ]
    }
   ],
   "source": [
    "# Pop : is use to remove last element or element at specified index no\n",
    "e = [\"Ada\",\"Ade\", \"Kemi\"]\n",
    "e.pop()  # remove element at the end of the list\n",
    "print(e)"
   ]
  },
  {
   "cell_type": "code",
   "execution_count": 32,
   "id": "b29eb7e4",
   "metadata": {},
   "outputs": [
    {
     "name": "stdout",
     "output_type": "stream",
     "text": [
      "['Ada', 'Ade']\n"
     ]
    }
   ],
   "source": [
    "e = [\"Ada\",\"Ade\", \"Kemi\"]\n",
    "e.pop(0) # remove element at index zero\n",
    "print(e)"
   ]
  },
  {
   "cell_type": "markdown",
   "id": "30c2cc38",
   "metadata": {},
   "source": [
    "## Clear : remove all the elements of the list\n",
    "e.clear()\n",
    "print(e)"
   ]
  },
  {
   "cell_type": "code",
   "execution_count": 6,
   "id": "c029c9e6",
   "metadata": {},
   "outputs": [
    {
     "ename": "NameError",
     "evalue": "name 'e' is not defined",
     "output_type": "error",
     "traceback": [
      "\u001b[1;31m---------------------------------------------------------------------------\u001b[0m",
      "\u001b[1;31mNameError\u001b[0m                                 Traceback (most recent call last)",
      "\u001b[1;32m~\\AppData\\Local\\Temp\\ipykernel_10164\\1254831782.py\u001b[0m in \u001b[0;36m<module>\u001b[1;34m\u001b[0m\n\u001b[0;32m      1\u001b[0m \u001b[1;31m# del: is use to delete list or any other datatype\u001b[0m\u001b[1;33m\u001b[0m\u001b[1;33m\u001b[0m\u001b[0m\n\u001b[0;32m      2\u001b[0m \u001b[1;32mdel\u001b[0m \u001b[0me\u001b[0m\u001b[1;33m\u001b[0m\u001b[1;33m\u001b[0m\u001b[0m\n\u001b[1;32m----> 3\u001b[1;33m \u001b[0mprint\u001b[0m\u001b[1;33m(\u001b[0m\u001b[0me\u001b[0m\u001b[1;33m)\u001b[0m\u001b[1;33m\u001b[0m\u001b[1;33m\u001b[0m\u001b[0m\n\u001b[0m",
      "\u001b[1;31mNameError\u001b[0m: name 'e' is not defined"
     ]
    }
   ],
   "source": [
    "# del: is use to delete list or any other datatype\n",
    "del e\n",
    "print(e)"
   ]
  },
  {
   "cell_type": "code",
   "execution_count": null,
   "id": "ad2b4455",
   "metadata": {},
   "outputs": [],
   "source": [
    "# Join: is use to convert a list to str\n"
   ]
  },
  {
   "cell_type": "code",
   "execution_count": 38,
   "id": "7126506d",
   "metadata": {},
   "outputs": [
    {
     "data": {
      "text/plain": [
       "'I love Python'"
      ]
     },
     "execution_count": 38,
     "metadata": {},
     "output_type": "execute_result"
    }
   ],
   "source": [
    "u = ['I', 'love', 'Python']\n",
    "\" \".join(u)"
   ]
  },
  {
   "cell_type": "code",
   "execution_count": null,
   "id": "9fbea4b9",
   "metadata": {},
   "outputs": [],
   "source": [
    "# Data Modifying in List Datatype\n",
    "\n",
    "# Call the index of the number that you wants to modify either backward/forward then = the new number"
   ]
  },
  {
   "cell_type": "code",
   "execution_count": 2,
   "id": "0a048d24",
   "metadata": {},
   "outputs": [
    {
     "name": "stdout",
     "output_type": "stream",
     "text": [
      "[1, 2, 3, 4, 'five']\n"
     ]
    }
   ],
   "source": [
    "# Change the element 5 from the list below to five\n",
    "y = [1,2,3,4,5]\n",
    "y[-1] = \"five\"\n",
    "print(y)"
   ]
  },
  {
   "cell_type": "code",
   "execution_count": 3,
   "id": "c3456807",
   "metadata": {},
   "outputs": [
    {
     "name": "stdout",
     "output_type": "stream",
     "text": [
      "[2, 'five', 'elephant', 'Horse', 'rat', 'Ada', 'Begger', 77]\n"
     ]
    }
   ],
   "source": [
    "# from the list below modify 5, goat and cow to five, elephant, and horse respectively\n",
    "list4 = [2, 5, \"goat\",\"cow\", \"rat\", \"Ada\", \"Begger\", 77]\n",
    "list4[1:4]=[\"five\", \"elephant\", \"Horse\"]\n",
    "print(list4)"
   ]
  },
  {
   "cell_type": "code",
   "execution_count": 11,
   "id": "c180145a",
   "metadata": {},
   "outputs": [
    {
     "name": "stdout",
     "output_type": "stream",
     "text": [
      "[2, 5, ['goat', 'cow', 'rabbit'], 'Ada', 'Begger', 77]\n"
     ]
    }
   ],
   "source": [
    "# Modify rat from the list below to rabbit\n",
    "list5 = [2, 5, [\"goat\",\"cow\", 'rat\"'], \"Ada\", \"Begger\", 77]\n",
    "\n",
    "list5[2][2]= \"rabbit\"\n",
    "print(list5)"
   ]
  },
  {
   "cell_type": "code",
   "execution_count": 12,
   "id": "b0d35e02",
   "metadata": {},
   "outputs": [
    {
     "name": "stdout",
     "output_type": "stream",
     "text": [
      "[2, 77, 8, 4, ['A', 'B', 'C', 'D'], 'M', 'N', 'X']\n"
     ]
    }
   ],
   "source": [
    "# Modify the Z and Y to M and N\n",
    "list7 = [2,77,8,4,[\"A\", \"B\", \"C\",\"D\"], \"Z\", \"Y\", \"X\"]\n",
    "list7[5:7]=\"M\", \"N\"\n",
    "print(list7)"
   ]
  },
  {
   "cell_type": "code",
   "execution_count": null,
   "id": "68c5e06d",
   "metadata": {},
   "outputs": [],
   "source": [
    "# Tuple is a immutable datatype\n",
    "But elements can be added"
   ]
  },
  {
   "cell_type": "code",
   "execution_count": 16,
   "id": "5c81aa27",
   "metadata": {},
   "outputs": [
    {
     "data": {
      "text/plain": [
       "[3]"
      ]
     },
     "execution_count": 16,
     "metadata": {},
     "output_type": "execute_result"
    }
   ],
   "source": [
    "tup1 = () # this is an empty tuple\n",
    "tup2 =([1,2,3],5,\"Olaitan\", (8,7,9)) # tuple with different datatype\n",
    "# from the tuple return 3 and as well as return 8\n",
    "tup2[0][2]"
   ]
  },
  {
   "cell_type": "code",
   "execution_count": 18,
   "id": "1174da44",
   "metadata": {},
   "outputs": [
    {
     "data": {
      "text/plain": [
       "8"
      ]
     },
     "execution_count": 18,
     "metadata": {},
     "output_type": "execute_result"
    }
   ],
   "source": [
    "tup2 =([1,2,3],5,\"Olaitan\", (8,7,9))\n",
    "tup2[3][0]"
   ]
  },
  {
   "cell_type": "code",
   "execution_count": 20,
   "id": "c43ba1d8",
   "metadata": {},
   "outputs": [
    {
     "name": "stdout",
     "output_type": "stream",
     "text": [
      "([1, 2, 3], 5, 'Olaitan', (8, 7, 9), 'Ola', 'James', 'Smith')\n"
     ]
    }
   ],
   "source": [
    "tup3 = (\"Ola\", \"James\", \"Smith\")\n",
    "y=tup2 + tup3\n",
    "print(y)"
   ]
  },
  {
   "cell_type": "markdown",
   "id": "fe56d324",
   "metadata": {},
   "source": [
    "# Set\n",
    "it is not sequencial and it does not store a duplicate entry"
   ]
  },
  {
   "cell_type": "code",
   "execution_count": 23,
   "id": "99a0554a",
   "metadata": {},
   "outputs": [
    {
     "name": "stdout",
     "output_type": "stream",
     "text": [
      "{1, 2, 3, 4, 5}\n"
     ]
    }
   ],
   "source": [
    "set1 ={1,2,1,2,3,4,5}\n",
    "print(set1)"
   ]
  },
  {
   "cell_type": "markdown",
   "id": "2719269a",
   "metadata": {},
   "source": [
    "# Dictionary\n",
    "It has a key and value pair relationship"
   ]
  },
  {
   "cell_type": "code",
   "execution_count": 25,
   "id": "f3d08e13",
   "metadata": {},
   "outputs": [],
   "source": [
    "dict1 = {\"name\":\"Olaitan\",\"Age\":12, \"address\":\"New York\"}"
   ]
  },
  {
   "cell_type": "code",
   "execution_count": 26,
   "id": "9d09c301",
   "metadata": {},
   "outputs": [
    {
     "data": {
      "text/plain": [
       "dict"
      ]
     },
     "execution_count": 26,
     "metadata": {},
     "output_type": "execute_result"
    }
   ],
   "source": [
    "type(dict1)"
   ]
  },
  {
   "cell_type": "code",
   "execution_count": 27,
   "id": "58109f76",
   "metadata": {},
   "outputs": [
    {
     "data": {
      "text/plain": [
       "'Olaitan'"
      ]
     },
     "execution_count": 27,
     "metadata": {},
     "output_type": "execute_result"
    }
   ],
   "source": [
    "# Fetch out Olaitan from the dict above\n",
    "dict1[\"name\"]"
   ]
  },
  {
   "cell_type": "code",
   "execution_count": 28,
   "id": "82d504bf",
   "metadata": {},
   "outputs": [
    {
     "data": {
      "text/plain": [
       "12"
      ]
     },
     "execution_count": 28,
     "metadata": {},
     "output_type": "execute_result"
    }
   ],
   "source": [
    "dict1[\"Age\"]"
   ]
  },
  {
   "cell_type": "code",
   "execution_count": null,
   "id": "5d181750",
   "metadata": {},
   "outputs": [],
   "source": [
    "# Note in dict1, name is a 'key' pointing to Olaitan likewise Age and Address. To fetch it out, call the key"
   ]
  },
  {
   "cell_type": "code",
   "execution_count": 1,
   "id": "08a440d1",
   "metadata": {},
   "outputs": [],
   "source": [
    "dict1 = {\"name\":[\"Olaitan\", \"Sancho\", \"Ada\", \"james\"],\"Age\":[12,34,56,23], \"address\":[\"New York\", \"Olowera\", \"Lekki\", \"Begger\"]}"
   ]
  },
  {
   "cell_type": "code",
   "execution_count": 2,
   "id": "2fa7605d",
   "metadata": {},
   "outputs": [
    {
     "data": {
      "text/plain": [
       "['New York', 'Olowera', 'Lekki', 'Begger']"
      ]
     },
     "execution_count": 2,
     "metadata": {},
     "output_type": "execute_result"
    }
   ],
   "source": [
    "# Return all the address from the dicts above\n",
    "dict1[\"address\"]"
   ]
  },
  {
   "cell_type": "code",
   "execution_count": 3,
   "id": "0d0131a0",
   "metadata": {},
   "outputs": [
    {
     "data": {
      "text/plain": [
       "'Olowera'"
      ]
     },
     "execution_count": 3,
     "metadata": {},
     "output_type": "execute_result"
    }
   ],
   "source": [
    "# Return OLowera from the dicts above\n",
    "dict1[\"address\"][1]"
   ]
  },
  {
   "cell_type": "code",
   "execution_count": 41,
   "id": "45f5d2cc",
   "metadata": {},
   "outputs": [
    {
     "data": {
      "text/plain": [
       "'Olaitan'"
      ]
     },
     "execution_count": 41,
     "metadata": {},
     "output_type": "execute_result"
    }
   ],
   "source": [
    "dict1 = {\"name\":[\"Olaitan\", \"Sancho\", \"Ada\", \"james\"],\"Age\":[12,34,56,23], \"address\":[\"New York\", \"Olowera\", \"Lekki\", \"Begger\"]}\n",
    "\n",
    "# Return Olaitan from the dicts above\n",
    "\n",
    "dict1[\"name\"][0]"
   ]
  },
  {
   "cell_type": "code",
   "execution_count": 43,
   "id": "69bb880f",
   "metadata": {},
   "outputs": [
    {
     "name": "stdout",
     "output_type": "stream",
     "text": [
      "{'name': ['Olaitan', 'Sancho', 'Ada', 'james'], 'Age': [12, 34, 56, 23], 'address': ['New York', 'Olowera', 'Lekki', 'Begger'], 'salary': [2500, 3500, 6000, 8000]}\n"
     ]
    }
   ],
   "source": [
    "# updating existing dictionary\n",
    "\n",
    "dict1[\"salary\"]= [2500,3500,6000,8000]\n",
    "print(dict1)"
   ]
  },
  {
   "cell_type": "code",
   "execution_count": 44,
   "id": "abfc0e3e",
   "metadata": {},
   "outputs": [
    {
     "name": "stdout",
     "output_type": "stream",
     "text": [
      "{'Age': [12, 34, 56, 23], 'address': ['New York', 'Olowera', 'Lekki', 'Begger'], 'salary': [2500, 3500, 6000, 8000]}\n"
     ]
    }
   ],
   "source": [
    "# To remove a key\n",
    "dict1.pop(\"name\") \n",
    "print(dict1)"
   ]
  },
  {
   "cell_type": "code",
   "execution_count": 46,
   "id": "66bb2605",
   "metadata": {},
   "outputs": [
    {
     "data": {
      "text/plain": [
       "'Lekki'"
      ]
     },
     "execution_count": 46,
     "metadata": {},
     "output_type": "execute_result"
    }
   ],
   "source": [
    "# To remove an element of a key\n",
    "dict1[\"address\"].pop(2)"
   ]
  },
  {
   "cell_type": "markdown",
   "id": "bf2da506",
   "metadata": {},
   "source": [
    "# CLASS EXERCISE"
   ]
  },
  {
   "cell_type": "code",
   "execution_count": null,
   "id": "ab4e3c91",
   "metadata": {},
   "outputs": [],
   "source": [
    "Create a Dictionary of list\n",
    "*fruit as key with the following values(apple,banana, orange)\n",
    "*colour as key wih the following values(red,yellow, orange)\n",
    "*number as key with the following values (1,2,3,4,5)\n",
    "*cities as key with the following values (\"New York\", \"California\", \"New Jersey\")"
   ]
  },
  {
   "cell_type": "code",
   "execution_count": 4,
   "id": "9ac131d0",
   "metadata": {},
   "outputs": [],
   "source": [
    "dict4 ={'fruit': [\"apple\",\"banana\",\"orange\"],'colour': [\"red\",\"yellow\", \"orange\"],'number': [1,2,3,4,5], 'cities': [\"New York\",\"California\", \"New Jersey\"]}"
   ]
  },
  {
   "cell_type": "code",
   "execution_count": 5,
   "id": "f4ee7527",
   "metadata": {},
   "outputs": [
    {
     "data": {
      "text/plain": [
       "'banana'"
      ]
     },
     "execution_count": 5,
     "metadata": {},
     "output_type": "execute_result"
    }
   ],
   "source": [
    "# Access the second element in the \"fruits\" list\n",
    "dict4[\"fruit\"][1]"
   ]
  },
  {
   "cell_type": "code",
   "execution_count": 6,
   "id": "b36617dc",
   "metadata": {},
   "outputs": [
    {
     "data": {
      "text/plain": [
       "['red', 'yellow', 'orange']"
      ]
     },
     "execution_count": 6,
     "metadata": {},
     "output_type": "execute_result"
    }
   ],
   "source": [
    "# Retrieve the list of 'colour' from the dictionary\n",
    "dict4[\"colour\"]"
   ]
  },
  {
   "cell_type": "code",
   "execution_count": 7,
   "id": "c962e0bb",
   "metadata": {},
   "outputs": [
    {
     "data": {
      "text/plain": [
       "5"
      ]
     },
     "execution_count": 7,
     "metadata": {},
     "output_type": "execute_result"
    }
   ],
   "source": [
    "# Get the last number from the 'numbers' list\n",
    "dict4[\"number\"][4]"
   ]
  },
  {
   "cell_type": "code",
   "execution_count": 8,
   "id": "5b2c44da",
   "metadata": {},
   "outputs": [
    {
     "data": {
      "text/plain": [
       "'New Jersey'"
      ]
     },
     "execution_count": 8,
     "metadata": {},
     "output_type": "execute_result"
    }
   ],
   "source": [
    "# Access the third city from the \"cities\" list\n",
    "dict4[\"cities\"][2]"
   ]
  },
  {
   "cell_type": "code",
   "execution_count": 9,
   "id": "ca2ad904",
   "metadata": {},
   "outputs": [
    {
     "name": "stdout",
     "output_type": "stream",
     "text": [
      "{'fruit': ['grape', 'banana', 'orange'], 'colour': ['red', 'yellow', 'orange'], 'number': [1, 2, 3, 4, 5], 'cities': ['New York', 'California', 'New Jersey']}\n"
     ]
    }
   ],
   "source": [
    "# Change the first element in the \"fruits\" list to grape\n",
    "dict4[\"fruit\"][0]= \"grape\"\n",
    "print(dict4)"
   ]
  },
  {
   "cell_type": "code",
   "execution_count": 10,
   "id": "73facf59",
   "metadata": {},
   "outputs": [
    {
     "name": "stdout",
     "output_type": "stream",
     "text": [
      "{'fruit': ['grape', 'banana', 'orange'], 'colour': ['red', 'yellow', 'orange', 'green'], 'number': [1, 2, 3, 4, 5], 'cities': ['New York', 'California', 'New Jersey']}\n"
     ]
    }
   ],
   "source": [
    "# Add a new colour \"green\" to the list of colours\n",
    "dict4[\"colour\"].append(\"green\")\n",
    "print(dict4)"
   ]
  },
  {
   "cell_type": "code",
   "execution_count": 121,
   "id": "5d3b03b6",
   "metadata": {},
   "outputs": [
    {
     "name": "stdout",
     "output_type": "stream",
     "text": [
      "{'fruit': ['grape', 'banana', 'orange'], 'colour': ['red', 'yellow', 'orange', 'green'], 'number': [1, 3, 4, 5], 'cities': ['New York', 'California', 'New Jersey']}\n"
     ]
    }
   ],
   "source": [
    "# Remove the second element from the \"numbers\" list\n",
    "dict4[\"number\"].pop(1)\n",
    "print(dict4)"
   ]
  },
  {
   "cell_type": "code",
   "execution_count": 122,
   "id": "bb03d8a1",
   "metadata": {},
   "outputs": [
    {
     "ename": "NameError",
     "evalue": "name 'animal' is not defined",
     "output_type": "error",
     "traceback": [
      "\u001b[1;31m---------------------------------------------------------------------------\u001b[0m",
      "\u001b[1;31mNameError\u001b[0m                                 Traceback (most recent call last)",
      "\u001b[1;32m~\\AppData\\Local\\Temp\\ipykernel_6200\\432036682.py\u001b[0m in \u001b[0;36m<module>\u001b[1;34m\u001b[0m\n\u001b[0;32m      1\u001b[0m \u001b[1;31m# Check if the key 'animal' is present in the dictionary\u001b[0m\u001b[1;33m\u001b[0m\u001b[1;33m\u001b[0m\u001b[0m\n\u001b[1;32m----> 2\u001b[1;33m \u001b[0mdict4\u001b[0m\u001b[1;33m[\u001b[0m\u001b[0manimal\u001b[0m\u001b[1;33m]\u001b[0m\u001b[1;33m\u001b[0m\u001b[1;33m\u001b[0m\u001b[0m\n\u001b[0m\u001b[0;32m      3\u001b[0m \u001b[0mprint\u001b[0m\u001b[1;33m(\u001b[0m\u001b[0mdict4\u001b[0m\u001b[1;33m)\u001b[0m\u001b[1;33m\u001b[0m\u001b[1;33m\u001b[0m\u001b[0m\n",
      "\u001b[1;31mNameError\u001b[0m: name 'animal' is not defined"
     ]
    }
   ],
   "source": [
    "# Check if the key 'animal' is present in the dictionary\n",
    "dict4[animal]\n",
    "print(dict4)"
   ]
  },
  {
   "cell_type": "code",
   "execution_count": 123,
   "id": "8fbb0e1b",
   "metadata": {},
   "outputs": [
    {
     "name": "stdout",
     "output_type": "stream",
     "text": [
      "{'fruit': ['grape', 'banana', 'orange'], 'colour': ['red', 'yellow', 'orange', 'green'], 'number': [1, 3, 4, 5], 'cities': ['New York', 'California', 'New Jersey']}\n"
     ]
    }
   ],
   "source": [
    "# Print all keys in the dictionary\n",
    "dict4[\"fruit\"],[\"colour\"], [\"number\"], [\"cities\"]\n",
    "print(dict4)"
   ]
  },
  {
   "cell_type": "code",
   "execution_count": 124,
   "id": "c573f3fc",
   "metadata": {},
   "outputs": [
    {
     "data": {
      "text/plain": [
       "['banana', 'orange']"
      ]
     },
     "execution_count": 124,
     "metadata": {},
     "output_type": "execute_result"
    }
   ],
   "source": [
    "# Slice the \"fruits\" list to get the elements from index 1 to 2\n",
    "dict4[\"fruit\"][1:3]\n"
   ]
  },
  {
   "cell_type": "code",
   "execution_count": 125,
   "id": "d238b4ed",
   "metadata": {},
   "outputs": [
    {
     "name": "stdout",
     "output_type": "stream",
     "text": [
      "{'fruit': ['grape', 'banana', 'orange', 'grape', 'watermelon'], 'colour': ['red', 'yellow', 'orange', 'green'], 'number': [1, 3, 4, 5], 'cities': ['New York', 'California', 'New Jersey']}\n"
     ]
    }
   ],
   "source": [
    "# Extend the \"fruits\" list by adding [\"grape\", \"watermelon\"] to it\n",
    "dict4[\"fruit\"].extend([\"grape\",\"watermelon\"])\n",
    "print(dict4)"
   ]
  },
  {
   "cell_type": "code",
   "execution_count": 126,
   "id": "86f1d934",
   "metadata": {},
   "outputs": [
    {
     "name": "stdout",
     "output_type": "stream",
     "text": [
      "3\n"
     ]
    }
   ],
   "source": [
    "# Check the length of the \"cities\" list\n",
    "cities_length =len(dict4[\"cities\"])\n",
    "print(cities_length)"
   ]
  },
  {
   "cell_type": "code",
   "execution_count": 127,
   "id": "4d865738",
   "metadata": {},
   "outputs": [
    {
     "name": "stdout",
     "output_type": "stream",
     "text": [
      "4\n"
     ]
    }
   ],
   "source": [
    "# Check the length of the \"number\" list\n",
    "\n",
    "number_length =len(dict4[\"number\"])\n",
    "print(number_length)"
   ]
  },
  {
   "cell_type": "code",
   "execution_count": 128,
   "id": "6ebeb69b",
   "metadata": {},
   "outputs": [
    {
     "name": "stdout",
     "output_type": "stream",
     "text": [
      "{'fruit': ['grape', 'banana', 'orange', 'grape', 'watermelon'], 'number': [1, 3, 4, 5], 'cities': ['New York', 'California', 'New Jersey']}\n"
     ]
    }
   ],
   "source": [
    "# Remove the 'colour' key and its associated list from the dictionary\n",
    "dict4.pop(\"colour\")\n",
    "print(dict4)"
   ]
  },
  {
   "cell_type": "code",
   "execution_count": 129,
   "id": "ee61e510",
   "metadata": {},
   "outputs": [
    {
     "name": "stdout",
     "output_type": "stream",
     "text": [
      "{'fruit': ['grape', 'banana', 'orange', 'grape', 'watermelon'], 'number': [1, 3, 4, 5], 'cities': ['New York', 'California', 'New Jersey'], 'animals': ['lion', 'elephant', 'Zebra']}\n"
     ]
    }
   ],
   "source": [
    "# Create a new key 'animals' and assign it a list containing [\"lion\",\"elephant\",\"Zebra\"]\n",
    "dict4[\"animals\"] = [\"lion\",\"elephant\",\"Zebra\"]\n",
    "print(dict4)\n"
   ]
  },
  {
   "cell_type": "code",
   "execution_count": 130,
   "id": "9186af9f",
   "metadata": {},
   "outputs": [
    {
     "name": "stdout",
     "output_type": "stream",
     "text": [
      "{'fruit': ['grape', 'banana', 'orange', 'grape', 'watermelon'], 'number': [5, 4, 3, 1], 'cities': ['New York', 'California', 'New Jersey'], 'animals': ['lion', 'elephant', 'Zebra']}\n"
     ]
    }
   ],
   "source": [
    "# Reverse the order of elements in the \"numbers\" list\n",
    "dict4[\"number\"].reverse()\n",
    "print(dict4)\n"
   ]
  },
  {
   "cell_type": "markdown",
   "id": "0ed9bac1",
   "metadata": {},
   "source": [
    "#### Control Flow in Python refers to order at which python code is been execute\n",
    "\n",
    "1. Conditional statement\n",
    "a. If\n",
    "b. elif\n",
    "c. else\n",
    "\n",
    "2. Loop Statement\n",
    "a. for\n",
    "b. while\n",
    "\n",
    "\n",
    "3. Loop control statement\n",
    "a. break\n",
    "b. continue\n",
    "\n",
    "4. Error handling statement\n",
    "a. try\n",
    "b. except\n",
    "c. finally\n"
   ]
  },
  {
   "cell_type": "code",
   "execution_count": null,
   "id": "64c7af73",
   "metadata": {},
   "outputs": [],
   "source": []
  },
  {
   "cell_type": "code",
   "execution_count": 1,
   "id": "9f4809ab",
   "metadata": {},
   "outputs": [
    {
     "name": "stdout",
     "output_type": "stream",
     "text": [
      "merry christmas\n"
     ]
    }
   ],
   "source": [
    "# If \n",
    "day = 25\n",
    "if day == 25:\n",
    "    print(\"merry christmas\")"
   ]
  },
  {
   "cell_type": "code",
   "execution_count": 2,
   "id": "54c05b2f",
   "metadata": {},
   "outputs": [
    {
     "name": "stdout",
     "output_type": "stream",
     "text": [
      "we need to wait til 25th of the month\n"
     ]
    }
   ],
   "source": [
    "day = 2\n",
    "if day == 25:\n",
    "    print(\"merry christmas\")\n",
    "    \n",
    "else:\n",
    "    print(\"we need to wait til 25th of the month\")"
   ]
  },
  {
   "cell_type": "code",
   "execution_count": 4,
   "id": "8843eb76",
   "metadata": {},
   "outputs": [
    {
     "name": "stdout",
     "output_type": "stream",
     "text": [
      "Merry Christmas Mr lagbaja\n"
     ]
    }
   ],
   "source": [
    "\n",
    "day = 25\n",
    "gender = \"male\"\n",
    "if (day == 25) and (gender == \"female\"):\n",
    "    print(\"Merry Christmas miss lagbaja\")\n",
    "    \n",
    "elif (day == 25) and (gender == \"male\"):\n",
    "    print(\"Merry Christmas Mr lagbaja\")\n",
    "    \n",
    "elif (day <25) and (gender == \"male\"):\n",
    "    print(\"Mr lagbaja, you may have to wait til 25th of the month\")\n",
    "    \n",
    "elif (day <25) and (gender == \"female\"):\n",
    "    print(\"Miss lagbaja, you may have to wait til 25th of the month\")\n",
    "else: \n",
    "    print(\"I need more data\")"
   ]
  },
  {
   "cell_type": "code",
   "execution_count": 3,
   "id": "692d82ae",
   "metadata": {},
   "outputs": [
    {
     "name": "stdout",
     "output_type": "stream",
     "text": [
      "Merry Christmas Mr lagbaja\n",
      "I need more data\n"
     ]
    }
   ],
   "source": [
    "day = 25\n",
    "gender = \"male\"\n",
    "if (day == 25) and (gender == \"female\"):\n",
    "    print(\"Merry Christmas miss lagbaja\")\n",
    "if (day == 25) and (gender == \"male\"):\n",
    "    print(\"Merry Christmas Mr lagbaja\")\n",
    "    \n",
    "if (day <25) and (gender == \"male\"):\n",
    "    print(\"Mr lagbaja, you may have to wait til 25th of the month\")\n",
    "    \n",
    "if (day <25) and (gender == \"female\"):\n",
    "    print(\"Miss lagbaja, you may have to wait til 25th of the month\")\n",
    "else: \n",
    "    print(\"I need more data\")"
   ]
  },
  {
   "cell_type": "code",
   "execution_count": null,
   "id": "714d8188",
   "metadata": {},
   "outputs": [],
   "source": [
    "# note: If works as a single entity while the elif works as a paragraph. it sees the command as being in a single paragraph"
   ]
  },
  {
   "cell_type": "code",
   "execution_count": 1,
   "id": "6e0f07a7",
   "metadata": {},
   "outputs": [
    {
     "name": "stdout",
     "output_type": "stream",
     "text": [
      "please enter your age14\n",
      "You are a minor\n"
     ]
    }
   ],
   "source": [
    "age = int(input(\"please enter your age\"))\n",
    "if (age >= 18):\n",
    "    print(\"You are an adult\")\n",
    "else:\n",
    "    print(\"You are a minor\")"
   ]
  },
  {
   "cell_type": "code",
   "execution_count": 5,
   "id": "a122162e",
   "metadata": {},
   "outputs": [
    {
     "name": "stdout",
     "output_type": "stream",
     "text": [
      "insert a number6\n",
      "positive\n"
     ]
    }
   ],
   "source": [
    "num =int(input(\"insert a number\"))\n",
    "if (num == 0):\n",
    "    print(\"zero\")\n",
    "elif (num > 0):\n",
    "    print(\"positive\")\n",
    "else:\n",
    "    print(\"negative\")"
   ]
  },
  {
   "cell_type": "code",
   "execution_count": 12,
   "id": "c94269ac",
   "metadata": {},
   "outputs": [
    {
     "name": "stdout",
     "output_type": "stream",
     "text": [
      "Please enter your exam score40\n",
      "f\n"
     ]
    }
   ],
   "source": [
    "\n",
    "exam_score = int(input(\"Please enter your exam score\"))\n",
    "if (exam_score > 90):\n",
    "    print(\"A\")\n",
    "elif (exam_score > 80) and (exam_score <90):\n",
    "    print(\"B\")\n",
    "    \n",
    "elif (exam_score > 70) and (exam_score  <80):\n",
    "    print(\"C\")\n",
    "elif (exam_score >60) and (exam_score  <70):\n",
    "    print(\"D\")\n",
    "else: \n",
    "    print(\"f\")"
   ]
  },
  {
   "cell_type": "code",
   "execution_count": 11,
   "id": "00dd44f9",
   "metadata": {},
   "outputs": [],
   "source": [
    "# Nested If\n",
    "# Ensure each of the if has their own else and it will under it"
   ]
  },
  {
   "cell_type": "code",
   "execution_count": 9,
   "id": "24458841",
   "metadata": {},
   "outputs": [
    {
     "name": "stdout",
     "output_type": "stream",
     "text": [
      "please enter your age to continue34\n",
      "Do you have pvc?yes\n",
      "enter the year number on your pvc2020\n",
      "please enter inside to cast your vote\n"
     ]
    }
   ],
   "source": [
    "age = int(input(\"please enter your age to continue\"))\n",
    "\n",
    "if age >=18:\n",
    "    pvc = input(\"Do you have pvc?\").upper()\n",
    "    if pvc==\"YES\":\n",
    "        pvc_year_no= int(input(\"enter the year number on your pvc\"))\n",
    "        if pvc_year_no <2010:\n",
    "            print(\"Pvc expired, please visit the nearest office to redo\")\n",
    "        else:\n",
    "            print(\"please enter inside to cast your vote\")\n",
    "    else:\n",
    "        print(\"Oh, why, even though you are more than 18?. Please go and register for pvc\")\n",
    "else: \n",
    "    print(\"come back when you are 18\")\n",
    "\n"
   ]
  },
  {
   "cell_type": "code",
   "execution_count": null,
   "id": "6a93370a",
   "metadata": {},
   "outputs": [],
   "source": []
  },
  {
   "cell_type": "code",
   "execution_count": 23,
   "id": "e0ff3e85",
   "metadata": {},
   "outputs": [
    {
     "name": "stdout",
     "output_type": "stream",
     "text": [
      "o\n",
      "l\n",
      "a\n",
      "i\n",
      "t\n",
      "a\n",
      "n\n"
     ]
    }
   ],
   "source": [
    "# For \n",
    "name = \"olaitan\"\n",
    "for char in name:\n",
    "    print(char)"
   ]
  },
  {
   "cell_type": "code",
   "execution_count": 29,
   "id": "9e849809",
   "metadata": {},
   "outputs": [
    {
     "name": "stdout",
     "output_type": "stream",
     "text": [
      "[]\n"
     ]
    }
   ],
   "source": [
    "all_names = [\"olaitan\", \"James\", \"smith\",\"Ada\",\"Ade\", \"Lukma\", \"Richael\", \"Moji\", \"Kazeem\"]\n",
    "name_with_less_char = []\n",
    "name_with_more_char = []\n",
    "print(name_with_less_char)"
   ]
  },
  {
   "cell_type": "code",
   "execution_count": 32,
   "id": "99ddfa5e",
   "metadata": {},
   "outputs": [
    {
     "name": "stdout",
     "output_type": "stream",
     "text": [
      "[]\n"
     ]
    }
   ],
   "source": [
    "print(name_with_more_char) "
   ]
  },
  {
   "cell_type": "code",
   "execution_count": 33,
   "id": "a1cff180",
   "metadata": {},
   "outputs": [],
   "source": [
    "for name in all_names:\n",
    "    if len(name)>5:\n",
    "        name_with_more_char.append(name)\n",
    "    else:\n",
    "        name_with_less_char.append(name)\n",
    "        \n",
    "        "
   ]
  },
  {
   "cell_type": "code",
   "execution_count": 34,
   "id": "c1b3da17",
   "metadata": {},
   "outputs": [
    {
     "name": "stdout",
     "output_type": "stream",
     "text": [
      "['James', 'smith', 'Ada', 'Ade', 'Lukma', 'Moji', 'James', 'smith', 'Ada', 'Ade', 'Lukma', 'Moji']\n"
     ]
    }
   ],
   "source": [
    "print( name_with_less_char)"
   ]
  },
  {
   "cell_type": "code",
   "execution_count": 40,
   "id": "7e87045d",
   "metadata": {},
   "outputs": [
    {
     "name": "stdout",
     "output_type": "stream",
     "text": [
      "['olaitan', 'Richael', 'Kazeem']\n"
     ]
    }
   ],
   "source": [
    "print( name_with_more_char)"
   ]
  },
  {
   "cell_type": "code",
   "execution_count": 21,
   "id": "154d90d7",
   "metadata": {},
   "outputs": [
    {
     "name": "stdout",
     "output_type": "stream",
     "text": [
      "0\n",
      "1\n",
      "2\n",
      "3\n",
      "4\n"
     ]
    }
   ],
   "source": [
    "for i in range(5):\n",
    "    print(i)"
   ]
  },
  {
   "cell_type": "code",
   "execution_count": 22,
   "id": "f8114bff",
   "metadata": {},
   "outputs": [
    {
     "name": "stdout",
     "output_type": "stream",
     "text": [
      "3\n",
      "4\n",
      "5\n",
      "6\n",
      "7\n",
      "8\n"
     ]
    }
   ],
   "source": [
    "for i in range(3,9):\n",
    "    print(i)"
   ]
  },
  {
   "cell_type": "code",
   "execution_count": 23,
   "id": "6e24a26f",
   "metadata": {},
   "outputs": [
    {
     "name": "stdout",
     "output_type": "stream",
     "text": [
      "1\n",
      "4\n",
      "7\n"
     ]
    }
   ],
   "source": [
    "for i in range(1,10,3):\n",
    "    print(i)"
   ]
  },
  {
   "cell_type": "code",
   "execution_count": 1,
   "id": "03416181",
   "metadata": {},
   "outputs": [
    {
     "name": "stdout",
     "output_type": "stream",
     "text": [
      "0\n",
      "1\n",
      "2\n",
      "3\n",
      "4\n"
     ]
    }
   ],
   "source": [
    "for i in range(5):\n",
    "    print(i)"
   ]
  },
  {
   "cell_type": "code",
   "execution_count": null,
   "id": "4b9de643",
   "metadata": {},
   "outputs": [],
   "source": [
    "range(start,stop,step)\n",
    "starting = index no\n",
    "stop = position no\n",
    "step = the difference i.e adding 1 to the diff"
   ]
  },
  {
   "cell_type": "code",
   "execution_count": 39,
   "id": "7495eb27",
   "metadata": {},
   "outputs": [
    {
     "name": "stdout",
     "output_type": "stream",
     "text": [
      "0\n",
      "3\n",
      "6\n",
      "9\n",
      "12\n",
      "15\n",
      "18\n"
     ]
    }
   ],
   "source": [
    "for i in range(0, 20, 3):\n",
    "    print(i)"
   ]
  },
  {
   "cell_type": "code",
   "execution_count": 20,
   "id": "7586df5e",
   "metadata": {},
   "outputs": [
    {
     "name": "stdout",
     "output_type": "stream",
     "text": [
      "1\n",
      "3\n",
      "5\n",
      "7\n",
      "9\n",
      "11\n",
      "13\n",
      "15\n",
      "17\n",
      "19\n"
     ]
    }
   ],
   "source": [
    "for i in range(1,20,2):\n",
    "    print(i)"
   ]
  },
  {
   "cell_type": "code",
   "execution_count": 25,
   "id": "a5ea168a",
   "metadata": {},
   "outputs": [
    {
     "name": "stdout",
     "output_type": "stream",
     "text": [
      "[]\n"
     ]
    }
   ],
   "source": [
    "ages = range(1,21)\n",
    "odd_age =[]\n",
    "even_age = []\n",
    "print(odd_age)"
   ]
  },
  {
   "cell_type": "code",
   "execution_count": 26,
   "id": "861fe884",
   "metadata": {
    "scrolled": true
   },
   "outputs": [
    {
     "name": "stdout",
     "output_type": "stream",
     "text": [
      "1\n",
      "2\n",
      "3\n",
      "4\n",
      "5\n",
      "6\n",
      "7\n",
      "8\n",
      "9\n",
      "10\n",
      "11\n",
      "12\n",
      "13\n",
      "14\n",
      "15\n",
      "16\n",
      "17\n",
      "18\n",
      "19\n",
      "20\n"
     ]
    }
   ],
   "source": [
    "for age in ages:\n",
    "    print(age)\n",
    "    "
   ]
  },
  {
   "cell_type": "code",
   "execution_count": 27,
   "id": "c8ec1f7c",
   "metadata": {},
   "outputs": [],
   "source": [
    "for age in ages:\n",
    "    if age%2 == 0:\n",
    "        even_age.append(age)\n",
    "    else:\n",
    "        odd_age.append(age)"
   ]
  },
  {
   "cell_type": "code",
   "execution_count": 28,
   "id": "0e81e342",
   "metadata": {},
   "outputs": [
    {
     "data": {
      "text/plain": [
       "[2, 4, 6, 8, 10, 12, 14, 16, 18, 20]"
      ]
     },
     "execution_count": 28,
     "metadata": {},
     "output_type": "execute_result"
    }
   ],
   "source": [
    "even_age"
   ]
  },
  {
   "cell_type": "code",
   "execution_count": 29,
   "id": "f0380663",
   "metadata": {},
   "outputs": [
    {
     "data": {
      "text/plain": [
       "[1, 3, 5, 7, 9, 11, 13, 15, 17, 19]"
      ]
     },
     "execution_count": 29,
     "metadata": {},
     "output_type": "execute_result"
    }
   ],
   "source": [
    "odd_age"
   ]
  },
  {
   "cell_type": "code",
   "execution_count": 71,
   "id": "d4d40229",
   "metadata": {},
   "outputs": [
    {
     "name": "stdout",
     "output_type": "stream",
     "text": [
      " we are inside while loop 5\n",
      " we are inside while loop 6\n",
      " we are inside while loop 7\n",
      " we are inside while loop 8\n",
      " we are inside while loop 9\n",
      " we are inside while loop 10\n"
     ]
    }
   ],
   "source": [
    "# while\n",
    "\n",
    "a= 5\n",
    "while a<=10:\n",
    "    print(f\" we are inside while loop {a}\")\n",
    "    a+=1"
   ]
  },
  {
   "cell_type": "code",
   "execution_count": 1,
   "id": "15576e17",
   "metadata": {},
   "outputs": [
    {
     "name": "stdout",
     "output_type": "stream",
     "text": [
      "count is: 0\n",
      "count is: 1\n",
      "count is: 2\n",
      "count is: 3\n",
      "count is: 4\n"
     ]
    }
   ],
   "source": [
    "count = 0\n",
    "while count < 5:\n",
    "    print(\"count is:\",count)\n",
    "    count += 1"
   ]
  },
  {
   "cell_type": "code",
   "execution_count": null,
   "id": "fb319222",
   "metadata": {},
   "outputs": [],
   "source": [
    "#ramdom.seed() will make any number generated to be constant"
   ]
  },
  {
   "cell_type": "code",
   "execution_count": 2,
   "id": "479826ad",
   "metadata": {},
   "outputs": [],
   "source": [
    "import random\n",
    "random.seed(42)\n",
    "secret_number = random.randint(1,100)"
   ]
  },
  {
   "cell_type": "code",
   "execution_count": 31,
   "id": "9d6b7c2b",
   "metadata": {},
   "outputs": [
    {
     "data": {
      "text/plain": [
       "82"
      ]
     },
     "execution_count": 31,
     "metadata": {},
     "output_type": "execute_result"
    }
   ],
   "source": [
    "secret_number"
   ]
  },
  {
   "cell_type": "code",
   "execution_count": 3,
   "id": "d863937a",
   "metadata": {},
   "outputs": [
    {
     "name": "stdout",
     "output_type": "stream",
     "text": [
      "guess any number to win xmas chicken20\n",
      "try again next December\n",
      "guess any number to win xmas chicken56\n",
      "try again next December\n",
      "guess any number to win xmas chicken82\n",
      "Congratulation, you just won yourself a Nigeria chicken\n"
     ]
    }
   ],
   "source": [
    "while True:\n",
    "    guess_num =int(input(\"guess any number to win xmas chicken\"))\n",
    "    if guess_num==secret_number:\n",
    "        print(\"Congratulation, you just won yourself a Nigeria chicken\")\n",
    "        break\n",
    "    else:\n",
    "        print(\"try again next December\")\n",
    "    "
   ]
  },
  {
   "cell_type": "code",
   "execution_count": null,
   "id": "a9ef2be6",
   "metadata": {},
   "outputs": [],
   "source": [
    "# TO add limit the number of trial, use counter"
   ]
  },
  {
   "cell_type": "code",
   "execution_count": 33,
   "id": "cf81b87a",
   "metadata": {},
   "outputs": [
    {
     "name": "stdout",
     "output_type": "stream",
     "text": [
      "guess any number to win xmas chicken67\n",
      "guess any number to win xmas chicken667\n",
      "guess any number to win xmas chicken78\n",
      "try again some othertime\n"
     ]
    }
   ],
   "source": [
    "counter =1\n",
    "while True:\n",
    "    if counter<=3:\n",
    "        guess_num =int(input(\"guess any number to win xmas chicken\"))\n",
    "        if guess_num==secret_number:\n",
    "                print(\"Congratulation, you just won yourself a Nigeria chicken\")\n",
    "                break\n",
    "    else:\n",
    "        print(\"try again some othertime\")\n",
    "        break\n",
    "    counter+=1"
   ]
  },
  {
   "cell_type": "code",
   "execution_count": 9,
   "id": "75e5476d",
   "metadata": {},
   "outputs": [
    {
     "name": "stdout",
     "output_type": "stream",
     "text": [
      "guess any number to win xmas chicken66\n",
      "the guess number is less than the secret number\n",
      "guess any number to win xmas chicken90\n",
      "the guess is greater than the secret number\n",
      "guess any number to win xmas chicken84\n",
      "the guess is greater than the secret number\n",
      "guess any number to win xmas chicken82\n",
      "Congratulation, you just won yourself a Nigeria chicken\n"
     ]
    }
   ],
   "source": [
    " counter =1\n",
    "while True:\n",
    "    guess_num =int(input(\"guess any number to win xmas chicken\"))\n",
    "    if guess_num==secret_number:\n",
    "                print(\"Congratulation, you just won yourself a Nigeria chicken\")\n",
    "                break\n",
    "    elif guess_num>secret_number:\n",
    "                print(\"the guess is greater than the secret number\")\n",
    "    elif guess_num<secret_number:\n",
    "                print(\"the guess number is less than the secret number\")"
   ]
  },
  {
   "cell_type": "markdown",
   "id": "64c6c9af",
   "metadata": {},
   "source": [
    "# try & except:\n",
    "    \n",
    "# It is used together to catch the error. If there is no error, the except won't work"
   ]
  },
  {
   "cell_type": "code",
   "execution_count": 24,
   "id": "d89fa845",
   "metadata": {},
   "outputs": [
    {
     "name": "stdout",
     "output_type": "stream",
     "text": [
      "guess any number to win xmas chicken55\n",
      "please  check your try block to fix the error\n",
      "we are trying our best\n"
     ]
    }
   ],
   "source": [
    "try:\n",
    "    while True:\n",
    "        guess_num =(input(\"guess any number to win xmas chicken\"))\n",
    "        if guess_num==secret_number:\n",
    "            print(\"Congratulation, you just won yourself a Nigeria chicken\")\n",
    "            break\n",
    "        elif guess_num>secret_number:\n",
    "            print(\"the guess is greater than the secret number\")\n",
    "        elif guess_num<secret_number:\n",
    "            print(\"the guess number is less than the secret number\")\n",
    "except:\n",
    "    print(\"please  check your try block to fix the error\")\n",
    "    \n",
    "print(\"we are trying our best\")"
   ]
  },
  {
   "cell_type": "code",
   "execution_count": 23,
   "id": "72aea47d",
   "metadata": {},
   "outputs": [
    {
     "name": "stdout",
     "output_type": "stream",
     "text": [
      "guess any number to win xmas chicken55\n",
      "please  check your try block to fix the error\n",
      "we are trying our best\n"
     ]
    }
   ],
   "source": [
    "try:\n",
    "    while True:\n",
    "        guess_num =(input(\"guess any number to win xmas chicken\"))\n",
    "        if guess_num==secret_number:\n",
    "            print(\"Congratulation, you just won yourself a Nigeria chicken\")\n",
    "            break\n",
    "        elif guess_num>secret_number:\n",
    "            print(\"the guess is greater than the secret number\")\n",
    "        elif guess_num<secret_number:\n",
    "            print(\"the guess number is less than the secret number\")\n",
    "except:\n",
    "    print(\"please  check your try block to fix the error\")\n",
    "    \n",
    "finally:\n",
    "    print(\"we are trying our best\")"
   ]
  },
  {
   "cell_type": "markdown",
   "id": "7a1b252a",
   "metadata": {},
   "source": [
    "# Finally is used when connecting SQL and Python and it will run whether there is error or not.\n",
    "## NB: even the closing code of the database will be inside the finally command"
   ]
  },
  {
   "cell_type": "markdown",
   "id": "e7aa1cf1",
   "metadata": {},
   "source": [
    "# Continue"
   ]
  },
  {
   "cell_type": "code",
   "execution_count": 18,
   "id": "00f1d6a2",
   "metadata": {},
   "outputs": [],
   "source": [
    "all_names = [\"olaitan\", \"Ken\", \"Ayo\", \"James\", \"smith\",\"Ada\",\"Ade\", \"Lukma\", \"Richael\", \"Moji\", \"Kazeem\"]\n",
    "name_with_less_char = []\n",
    "name_with_more_char = []\n",
    "\n",
    "for name in all_names:\n",
    "    if len(name)==3:\n",
    "        continue\n",
    "    if len(name)>5:\n",
    "        name_with_more_char.append(name)\n",
    "    else:\n",
    "         name_with_less_char.append(name)\n",
    "        "
   ]
  },
  {
   "cell_type": "code",
   "execution_count": 19,
   "id": "c2910cd4",
   "metadata": {},
   "outputs": [
    {
     "data": {
      "text/plain": [
       "['James', 'smith', 'Lukma', 'Moji']"
      ]
     },
     "execution_count": 19,
     "metadata": {},
     "output_type": "execute_result"
    }
   ],
   "source": [
    "name_with_less_char"
   ]
  },
  {
   "cell_type": "code",
   "execution_count": 20,
   "id": "616bef91",
   "metadata": {},
   "outputs": [
    {
     "data": {
      "text/plain": [
       "['olaitan', 'Richael', 'Kazeem']"
      ]
     },
     "execution_count": 20,
     "metadata": {},
     "output_type": "execute_result"
    }
   ],
   "source": [
    "name_with_more_char"
   ]
  },
  {
   "cell_type": "markdown",
   "id": "3af0f6e5",
   "metadata": {},
   "source": [
    "# Function is a group of python synthax under a specific name use to perform a specific task\n",
    "TYPES:\n",
    "1. User defined function eg: (DRY(don't repeat yourself)\n",
    "2. Python defined function\n",
    "important stages-- creating and calling of function stage"
   ]
  },
  {
   "cell_type": "code",
   "execution_count": 25,
   "id": "c0613a79",
   "metadata": {},
   "outputs": [],
   "source": [
    "# Creating non parameters function\n",
    "\n",
    "def greeting():\n",
    "    print(\"welcome to LASOP\")"
   ]
  },
  {
   "cell_type": "code",
   "execution_count": 26,
   "id": "3f90e411",
   "metadata": {},
   "outputs": [
    {
     "name": "stdout",
     "output_type": "stream",
     "text": [
      "welcome to LASOP\n"
     ]
    }
   ],
   "source": [
    "greeting()"
   ]
  },
  {
   "cell_type": "code",
   "execution_count": 27,
   "id": "4193bd54",
   "metadata": {},
   "outputs": [],
   "source": [
    "# Creating a parameter function\n",
    "\n",
    "def add_two_number(t,o):\n",
    "    total = t + o\n",
    "    return total"
   ]
  },
  {
   "cell_type": "code",
   "execution_count": 28,
   "id": "f460adc8",
   "metadata": {},
   "outputs": [
    {
     "data": {
      "text/plain": [
       "66"
      ]
     },
     "execution_count": 28,
     "metadata": {},
     "output_type": "execute_result"
    }
   ],
   "source": [
    "add_two_number(26,40)"
   ]
  },
  {
   "cell_type": "code",
   "execution_count": 94,
   "id": "abb2016d",
   "metadata": {},
   "outputs": [
    {
     "ename": "IndentationError",
     "evalue": "expected an indented block (2013907056.py, line 10)",
     "output_type": "error",
     "traceback": [
      "\u001b[1;36m  File \u001b[1;32m\"C:\\Users\\KENNETH\\AppData\\Local\\Temp\\ipykernel_1716\\2013907056.py\"\u001b[1;36m, line \u001b[1;32m10\u001b[0m\n\u001b[1;33m    print(\"try again some othertime\")\u001b[0m\n\u001b[1;37m    ^\u001b[0m\n\u001b[1;31mIndentationError\u001b[0m\u001b[1;31m:\u001b[0m expected an indented block\n"
     ]
    }
   ],
   "source": [
    "def olaitan():\n",
    "    counter =1\n",
    "    while True:\n",
    "        if counter<=3:\n",
    "            guess_num =int(input(\"guess any number to win xmas chicken\"))\n",
    "        if guess_num==secret_number:\n",
    "            print(\"Congratulation, you just won yourself a Nigeria chicken\")\n",
    "            break\n",
    "    else:\n",
    "        print(\"try again some othertime\")\n",
    "        break\n",
    "    counter+=1"
   ]
  },
  {
   "cell_type": "code",
   "execution_count": 54,
   "id": "c0fccef7",
   "metadata": {},
   "outputs": [
    {
     "name": "stdout",
     "output_type": "stream",
     "text": [
      "What are you ordering today?rice\n",
      "How many plate of rice do you want?5\n",
      "You are buying 5000 Naira for this order\n"
     ]
    }
   ],
   "source": [
    "type_of_food =input(\"What are you ordering today?\")\n",
    "if type_of_food==\"rice\":\n",
    "    plate= int(input(\"How many plate of rice do you want?\"))\n",
    "    price=1000\n",
    "    total = plate*price\n",
    "    print(f\"You are buying {total} Naira for this order\")\n",
    "          \n",
    "elif type_of_food==\"oha soup\":\n",
    "        plate= int(input(\"How many plate of ohara do you want?\"))\n",
    "        price=800\n",
    "        total = plate*price\n",
    "        print(f\"You are buying {total} Naira for this order\")\n",
    "elif type_of_food==\"swallow\":\n",
    "        plate= int(input(\"How many plate of swallow do you want?\"))\n",
    "        price=1200\n",
    "        total = plate*price\n",
    "        print(f\"You are buying {total} Naira for this order\")\n",
    "else:\n",
    "    print(\"out of stock\")"
   ]
  },
  {
   "cell_type": "code",
   "execution_count": 74,
   "id": "0ef8c8d3",
   "metadata": {},
   "outputs": [
    {
     "name": "stdout",
     "output_type": "stream",
     "text": [
      "How many plate of rice do you want?rice\n"
     ]
    },
    {
     "ename": "ValueError",
     "evalue": "invalid literal for int() with base 10: 'rice'",
     "output_type": "error",
     "traceback": [
      "\u001b[1;31m---------------------------------------------------------------------------\u001b[0m",
      "\u001b[1;31mValueError\u001b[0m                                Traceback (most recent call last)",
      "\u001b[1;32m~\\AppData\\Local\\Temp\\ipykernel_1716\\310344635.py\u001b[0m in \u001b[0;36m<module>\u001b[1;34m\u001b[0m\n\u001b[0;32m      2\u001b[0m     \u001b[0mtype_of_food\u001b[0m \u001b[1;33m=\u001b[0m\u001b[0minput\u001b[0m\u001b[1;33m(\u001b[0m\u001b[1;34m\"What are you ordering today?\"\u001b[0m\u001b[1;33m)\u001b[0m\u001b[1;33m\u001b[0m\u001b[1;33m\u001b[0m\u001b[0m\n\u001b[0;32m      3\u001b[0m \u001b[1;32mif\u001b[0m \u001b[0mtype_of_food\u001b[0m\u001b[1;33m==\u001b[0m\u001b[1;34m\"rice\"\u001b[0m\u001b[1;33m:\u001b[0m\u001b[1;33m\u001b[0m\u001b[1;33m\u001b[0m\u001b[0m\n\u001b[1;32m----> 4\u001b[1;33m     \u001b[0mplate\u001b[0m\u001b[1;33m=\u001b[0m \u001b[0mint\u001b[0m\u001b[1;33m(\u001b[0m\u001b[0minput\u001b[0m\u001b[1;33m(\u001b[0m\u001b[1;34m\"How many plate of rice do you want?\"\u001b[0m\u001b[1;33m)\u001b[0m\u001b[1;33m)\u001b[0m\u001b[1;33m\u001b[0m\u001b[1;33m\u001b[0m\u001b[0m\n\u001b[0m\u001b[0;32m      5\u001b[0m     \u001b[0mprice\u001b[0m\u001b[1;33m=\u001b[0m\u001b[1;36m1000\u001b[0m\u001b[1;33m\u001b[0m\u001b[1;33m\u001b[0m\u001b[0m\n\u001b[0;32m      6\u001b[0m     \u001b[0mtotal\u001b[0m \u001b[1;33m=\u001b[0m \u001b[0mplate\u001b[0m\u001b[1;33m*\u001b[0m\u001b[0mprice\u001b[0m\u001b[1;33m\u001b[0m\u001b[1;33m\u001b[0m\u001b[0m\n",
      "\u001b[1;31mValueError\u001b[0m: invalid literal for int() with base 10: 'rice'"
     ]
    }
   ],
   "source": [
    "def  C_restaurant():\n",
    "    type_of_food =input(\"What are you ordering today?\")\n",
    "if type_of_food==\"rice\":\n",
    "    plate= int(input(\"How many plate of rice do you want?\"))\n",
    "    price=1000\n",
    "    total = plate*price\n",
    "    print(f\"You are buying {total} Naira for this order\")\n",
    "          \n",
    "elif type_of_food==\"oha soup\":\n",
    "        plate= int(input(\"How many plate of ohara do you want?\"))\n",
    "        price=800\n",
    "        total = plate*price\n",
    "        print(f\"You are buying {total} Naira for this order\")\n",
    "elif type_of_food==\"swallow\":\n",
    "        plate= int(input(\"How many plate of swallow do you want?\"))\n",
    "        price=1200\n",
    "        total = plate*price\n",
    "        print(f\"You are buying {total} Naira for this order\")\n",
    "else:\n",
    "    print(\"out of stock\")"
   ]
  },
  {
   "cell_type": "code",
   "execution_count": 90,
   "id": "470e70b9",
   "metadata": {},
   "outputs": [],
   "source": [
    "def min_to_sec(min_):\n",
    "    sec=min_*60\n",
    "    return sec\n"
   ]
  },
  {
   "cell_type": "code",
   "execution_count": 93,
   "id": "b58dc96a",
   "metadata": {},
   "outputs": [
    {
     "data": {
      "text/plain": [
       "2700"
      ]
     },
     "execution_count": 93,
     "metadata": {},
     "output_type": "execute_result"
    }
   ],
   "source": [
    "min_to_sec(45)"
   ]
  },
  {
   "cell_type": "code",
   "execution_count": null,
   "id": "5fd8e850",
   "metadata": {},
   "outputs": [],
   "source": [
    "# Note for parameter function, to run it, you need to provide the parameter defined"
   ]
  },
  {
   "cell_type": "markdown",
   "id": "e2545850",
   "metadata": {},
   "source": [
    "# OOP (object Oriented Program)\n",
    "It is a practice that allows us to organize our code into classes and objects for easy retrieval and reuse.\n",
    "A class is a group object"
   ]
  },
  {
   "cell_type": "code",
   "execution_count": 98,
   "id": "286b84ef",
   "metadata": {},
   "outputs": [],
   "source": [
    "class Human:\n",
    "    def __init__(self, name, age):\n",
    "        self.name = name\n",
    "        self.age =age\n",
    "        \n",
    "    def greet(self):\n",
    "        print(f\"my name is {self.name} I am {self.age} years old, I hereby welcome you all\")\n",
    "        \n",
    "    def nation(self):\n",
    "        print(\"I am from Nigeria\")"
   ]
  },
  {
   "cell_type": "code",
   "execution_count": 99,
   "id": "db0fba55",
   "metadata": {},
   "outputs": [],
   "source": [
    "# create first object from the class above\n",
    "first_person = Human(\"olaitan\", 12)"
   ]
  },
  {
   "cell_type": "code",
   "execution_count": 100,
   "id": "7732ee44",
   "metadata": {},
   "outputs": [
    {
     "name": "stdout",
     "output_type": "stream",
     "text": [
      "my name is olaitan I am 12 years old, I hereby welcome you all\n"
     ]
    }
   ],
   "source": [
    "# first_person greet person\n",
    "first_person.greet()"
   ]
  },
  {
   "cell_type": "code",
   "execution_count": 112,
   "id": "62de2bb8",
   "metadata": {},
   "outputs": [],
   "source": [
    "class Car:\n",
    "    def __init__(self, maker, model, year):\n",
    "        self.maker = maker\n",
    "        self.model = model\n",
    "        self.year = year\n",
    "        self.engine = False\n",
    "        self.speed = 0\n",
    "        \n",
    "    def start_engine(self):\n",
    "        if self.engine == False:\n",
    "            print(f\"the {self.maker} {self.model}{self.year} engine started!!!\")\n",
    "            self.engine= True\n",
    "        else:\n",
    "            print(f\"the {self.maker} {self.model} {self.year} engine already on start mode!!!\")\n",
    "            \n",
    "    def off_engine(self):\n",
    "        if self.engine==True:\n",
    "            print(f\"the {self.maker} {self.model}{self.year} engine is off!!!\")\n",
    "            self.engine= False\n",
    "        else:\n",
    "             print(f\"the {self.maker} {self.model}{self.year} engine is already on off mode!!!\")\n",
    "                \n",
    "    def accelerate(self, speed):\n",
    "        if self.engine==True:\n",
    "            self.speed+=speed\n",
    "            print(f\"the {self.maker} {self.model}{self.year} is {self.speed} km/h\")\n",
    "            if self.speed>80:\n",
    "                print(\"You may need to slow down a bit\")\n",
    "        else:\n",
    "            print(\"please start the engine first!!!\")\n",
    "            \n",
    "    def brake(self, brake):\n",
    "        if self.speed>0:\n",
    "            self.speed=brake\n",
    "            print(f\"the {self.maker} {self.model}{self.year} decelerated to {self.speed}\")\n",
    "            \n",
    "    def current_speed(self):\n",
    "        print(f\"the current speed of {self.maker} {self.model}{self.year} {self.speed} km/h\")\n",
    "            \n",
    "       "
   ]
  },
  {
   "cell_type": "code",
   "execution_count": 113,
   "id": "1712f64a",
   "metadata": {},
   "outputs": [],
   "source": [
    "first_car = Car(\"Toyota\",\"Camry\", \"2012\")"
   ]
  },
  {
   "cell_type": "code",
   "execution_count": 116,
   "id": "76b7e2f4",
   "metadata": {},
   "outputs": [
    {
     "name": "stdout",
     "output_type": "stream",
     "text": [
      "the Toyota Camry2012 engine started!!!\n"
     ]
    }
   ],
   "source": [
    "first_car.start_engine() "
   ]
  },
  {
   "cell_type": "code",
   "execution_count": 117,
   "id": "90fb9a6a",
   "metadata": {},
   "outputs": [
    {
     "name": "stdout",
     "output_type": "stream",
     "text": [
      "the Toyota Camry2012 engine is off!!!\n"
     ]
    }
   ],
   "source": [
    "first_car.off_engine()"
   ]
  },
  {
   "cell_type": "code",
   "execution_count": null,
   "id": "1a06b179",
   "metadata": {},
   "outputs": [],
   "source": []
  },
  {
   "cell_type": "code",
   "execution_count": null,
   "id": "f814ec72",
   "metadata": {},
   "outputs": [],
   "source": [
    "class Human:\n",
    "    def __init__(self, name, age,salary):\n",
    "        self.name = name\n",
    "        self.age =age\n",
    "        self.salary =salary\n",
    "        \n",
    "    def greet(self):\n",
    "        print(f\"my name is {self.name} I am {self.age} years old, I earn {self.salary}\")\n",
    "        \n",
    "        "
   ]
  }
 ],
 "metadata": {
  "kernelspec": {
   "display_name": "Python 3 (ipykernel)",
   "language": "python",
   "name": "python3"
  },
  "language_info": {
   "codemirror_mode": {
    "name": "ipython",
    "version": 3
   },
   "file_extension": ".py",
   "mimetype": "text/x-python",
   "name": "python",
   "nbconvert_exporter": "python",
   "pygments_lexer": "ipython3",
   "version": "3.9.13"
  }
 },
 "nbformat": 4,
 "nbformat_minor": 5
}
