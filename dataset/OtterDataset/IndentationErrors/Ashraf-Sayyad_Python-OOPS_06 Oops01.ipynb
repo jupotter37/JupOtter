{
 "cells": [
  {
   "cell_type": "markdown",
   "id": "213bf21e",
   "metadata": {},
   "source": [
    "#OOPS- Object Oriented Programming System"
   ]
  },
  {
   "cell_type": "code",
   "execution_count": 1,
   "id": "efbfeb69",
   "metadata": {},
   "outputs": [
    {
     "name": "stdout",
     "output_type": "stream",
     "text": [
      "<class 'int'>\n"
     ]
    }
   ],
   "source": [
    "a = 1\n",
    "print(type(a))"
   ]
  },
  {
   "cell_type": "code",
   "execution_count": 2,
   "id": "a663fdaa",
   "metadata": {},
   "outputs": [
    {
     "name": "stdout",
     "output_type": "stream",
     "text": [
      "<class 'str'>\n"
     ]
    }
   ],
   "source": [
    "print(type(\"ashraf bhai\"))"
   ]
  },
  {
   "cell_type": "code",
   "execution_count": 3,
   "id": "f900f7aa",
   "metadata": {},
   "outputs": [],
   "source": [
    "#what is classes"
   ]
  },
  {
   "cell_type": "code",
   "execution_count": 4,
   "id": "2cb84e94",
   "metadata": {},
   "outputs": [],
   "source": [
    "#sol- classification of real world intity \n",
    "#blue print but not a real world intity"
   ]
  },
  {
   "cell_type": "code",
   "execution_count": 5,
   "id": "24f71bd5",
   "metadata": {},
   "outputs": [
    {
     "data": {
      "text/plain": [
       "1"
      ]
     },
     "execution_count": 5,
     "metadata": {},
     "output_type": "execute_result"
    }
   ],
   "source": [
    "a"
   ]
  },
  {
   "cell_type": "code",
   "execution_count": 6,
   "id": "de793606",
   "metadata": {},
   "outputs": [
    {
     "ename": "IndentationError",
     "evalue": "expected an indented block (Temp/ipykernel_15988/3527747674.py, line 1)",
     "output_type": "error",
     "traceback": [
      "\u001b[1;36m  File \u001b[1;32m\"C:\\Users\\ashra\\AppData\\Local\\Temp/ipykernel_15988/3527747674.py\"\u001b[1;36m, line \u001b[1;32m1\u001b[0m\n\u001b[1;33m    class test:\u001b[0m\n\u001b[1;37m               ^\u001b[0m\n\u001b[1;31mIndentationError\u001b[0m\u001b[1;31m:\u001b[0m expected an indented block\n"
     ]
    }
   ],
   "source": [
    "class test:"
   ]
  },
  {
   "cell_type": "code",
   "execution_count": 7,
   "id": "f62171c9",
   "metadata": {},
   "outputs": [],
   "source": [
    "class test :\n",
    "    pass"
   ]
  },
  {
   "cell_type": "code",
   "execution_count": 8,
   "id": "4e5e6e70",
   "metadata": {},
   "outputs": [],
   "source": [
    "a = test()"
   ]
  },
  {
   "cell_type": "code",
   "execution_count": 9,
   "id": "aa62728e",
   "metadata": {},
   "outputs": [
    {
     "data": {
      "text/plain": [
       "__main__.test"
      ]
     },
     "execution_count": 9,
     "metadata": {},
     "output_type": "execute_result"
    }
   ],
   "source": [
    "type(a)"
   ]
  },
  {
   "cell_type": "code",
   "execution_count": 10,
   "id": "ac87de7d",
   "metadata": {},
   "outputs": [
    {
     "name": "stdout",
     "output_type": "stream",
     "text": [
      "<class '__main__.test'>\n"
     ]
    }
   ],
   "source": [
    "print(type(a))"
   ]
  },
  {
   "cell_type": "code",
   "execution_count": 11,
   "id": "948ab0ec",
   "metadata": {},
   "outputs": [],
   "source": [
    "class modelling :\n",
    "    def welcome_msg():\n",
    "        print(\"welcome to DIAT\")"
   ]
  },
  {
   "cell_type": "code",
   "execution_count": 12,
   "id": "4ed97dd9",
   "metadata": {},
   "outputs": [],
   "source": [
    "ashraf = modelling()"
   ]
  },
  {
   "cell_type": "code",
   "execution_count": 13,
   "id": "bffce6b7",
   "metadata": {},
   "outputs": [
    {
     "name": "stdout",
     "output_type": "stream",
     "text": [
      "<class '__main__.modelling'>\n"
     ]
    }
   ],
   "source": [
    "print(type(ashraf))"
   ]
  },
  {
   "cell_type": "code",
   "execution_count": 17,
   "id": "a4ce8bb0",
   "metadata": {},
   "outputs": [
    {
     "name": "stdout",
     "output_type": "stream",
     "text": [
      "welcome to modelling\n"
     ]
    }
   ],
   "source": [
    "ashraf.welcome_msg()"
   ]
  },
  {
   "cell_type": "code",
   "execution_count": 18,
   "id": "6dfc843b",
   "metadata": {},
   "outputs": [],
   "source": [
    "class modelling :\n",
    "    def welcome_msg(self):\n",
    "        print(\"welcome to modelling\")"
   ]
  },
  {
   "cell_type": "code",
   "execution_count": 19,
   "id": "a88b4fee",
   "metadata": {},
   "outputs": [],
   "source": [
    "ashraf = modelling()"
   ]
  },
  {
   "cell_type": "code",
   "execution_count": 20,
   "id": "0653f2ed",
   "metadata": {},
   "outputs": [
    {
     "name": "stdout",
     "output_type": "stream",
     "text": [
      "<class '__main__.modelling'>\n"
     ]
    }
   ],
   "source": [
    "print(type(ashraf))"
   ]
  },
  {
   "cell_type": "code",
   "execution_count": 21,
   "id": "cb349e83",
   "metadata": {},
   "outputs": [
    {
     "name": "stdout",
     "output_type": "stream",
     "text": [
      "welcome to modelling\n"
     ]
    }
   ],
   "source": [
    "ashraf.welcome_msg()"
   ]
  },
  {
   "cell_type": "code",
   "execution_count": 22,
   "id": "49abda55",
   "metadata": {},
   "outputs": [],
   "source": [
    "ashu = modelling()"
   ]
  },
  {
   "cell_type": "code",
   "execution_count": 23,
   "id": "21ea6d30",
   "metadata": {},
   "outputs": [
    {
     "name": "stdout",
     "output_type": "stream",
     "text": [
      "welcome to modelling\n"
     ]
    }
   ],
   "source": [
    "ashu.welcome_msg()"
   ]
  },
  {
   "cell_type": "code",
   "execution_count": 49,
   "id": "5f914c35",
   "metadata": {},
   "outputs": [],
   "source": [
    "class diatmilit :\n",
    "    \n",
    "    def __init__(self, phone_number, email_id, student_id):\n",
    "        self.phone_number = phone_number\n",
    "        self.email_id = email_id\n",
    "        self.student_id = student_id\n",
    "        \n",
    "    def return_student_details(self):\n",
    "        return self.student_id, self.phone_number, self.email_id"
   ]
  },
  {
   "cell_type": "code",
   "execution_count": 50,
   "id": "0cee75ee",
   "metadata": {},
   "outputs": [],
   "source": [
    "ashu = diatmilit(7249828384,\"ashraf@gmail.com\",7)"
   ]
  },
  {
   "cell_type": "code",
   "execution_count": 51,
   "id": "9518b14a",
   "metadata": {},
   "outputs": [
    {
     "data": {
      "text/plain": [
       "7249828384"
      ]
     },
     "execution_count": 51,
     "metadata": {},
     "output_type": "execute_result"
    }
   ],
   "source": [
    "ashu.phone_number"
   ]
  },
  {
   "cell_type": "code",
   "execution_count": 52,
   "id": "dad4b8d6",
   "metadata": {},
   "outputs": [
    {
     "data": {
      "text/plain": [
       "'ashraf@gmail.com'"
      ]
     },
     "execution_count": 52,
     "metadata": {},
     "output_type": "execute_result"
    }
   ],
   "source": [
    "ashu.email_id"
   ]
  },
  {
   "cell_type": "code",
   "execution_count": 31,
   "id": "7f1b7001",
   "metadata": {},
   "outputs": [
    {
     "ename": "TypeError",
     "evalue": "__init__() missing 3 required positional arguments: 'phone_number', 'email_id', and 'student_id'",
     "output_type": "error",
     "traceback": [
      "\u001b[1;31m---------------------------------------------------------------------------\u001b[0m",
      "\u001b[1;31mTypeError\u001b[0m                                 Traceback (most recent call last)",
      "\u001b[1;32m~\\AppData\\Local\\Temp/ipykernel_15988/73917946.py\u001b[0m in \u001b[0;36m<module>\u001b[1;34m\u001b[0m\n\u001b[1;32m----> 1\u001b[1;33m \u001b[0mashu\u001b[0m \u001b[1;33m=\u001b[0m \u001b[0mdiatmilit\u001b[0m\u001b[1;33m(\u001b[0m\u001b[1;33m)\u001b[0m\u001b[1;33m\u001b[0m\u001b[1;33m\u001b[0m\u001b[0m\n\u001b[0m",
      "\u001b[1;31mTypeError\u001b[0m: __init__() missing 3 required positional arguments: 'phone_number', 'email_id', and 'student_id'"
     ]
    }
   ],
   "source": [
    "ashu = diatmilit()"
   ]
  },
  {
   "cell_type": "code",
   "execution_count": 36,
   "id": "9e0ca431",
   "metadata": {},
   "outputs": [
    {
     "data": {
      "text/plain": [
       "(1, 7249828384, 'ashraf@gmail.com')"
      ]
     },
     "execution_count": 36,
     "metadata": {},
     "output_type": "execute_result"
    }
   ],
   "source": [
    "ashu.return_student_details()"
   ]
  },
  {
   "cell_type": "code",
   "execution_count": 39,
   "id": "388236b3",
   "metadata": {},
   "outputs": [
    {
     "data": {
      "text/plain": [
       "(7, 7249828384, 'ashraf@gmail.com')"
      ]
     },
     "execution_count": 39,
     "metadata": {},
     "output_type": "execute_result"
    }
   ],
   "source": [
    "ashu.return_student_details()"
   ]
  },
  {
   "cell_type": "code",
   "execution_count": 40,
   "id": "959ff3e8",
   "metadata": {},
   "outputs": [],
   "source": [
    "ashraf_bhai = diatmilit(7249444440, \"ashrafa@gmail.com\",2)"
   ]
  },
  {
   "cell_type": "code",
   "execution_count": 41,
   "id": "1e1352d4",
   "metadata": {},
   "outputs": [
    {
     "data": {
      "text/plain": [
       "(2, 7249444440, 'ashrafa@gmail.com')"
      ]
     },
     "execution_count": 41,
     "metadata": {},
     "output_type": "execute_result"
    }
   ],
   "source": [
    "ashraf_bhai.return_student_details()"
   ]
  },
  {
   "cell_type": "code",
   "execution_count": 53,
   "id": "9bac610d",
   "metadata": {},
   "outputs": [],
   "source": [
    "class diatmilit1 :\n",
    "    \n",
    "    def __init__(self, phone_number, email_id, student_id):\n",
    "        self.phone_number1 = phone_number\n",
    "        self.email_id1 = email_id\n",
    "        self.student_id1 = student_id\n",
    "        \n",
    "    def return_student_details(self):\n",
    "        return self.student_id, self.phone_number, self.email_id"
   ]
  },
  {
   "cell_type": "code",
   "execution_count": 65,
   "id": "b88a84b1",
   "metadata": {},
   "outputs": [],
   "source": [
    "sayyad = diatmilit1(221407,\"diat@gmail.com\",5)"
   ]
  },
  {
   "cell_type": "code",
   "execution_count": 58,
   "id": "b5c6581f",
   "metadata": {},
   "outputs": [
    {
     "data": {
      "text/plain": [
       "<__main__.diatmilit1 at 0x2cdc0ae2d00>"
      ]
     },
     "execution_count": 58,
     "metadata": {},
     "output_type": "execute_result"
    }
   ],
   "source": [
    "sayyad"
   ]
  },
  {
   "cell_type": "code",
   "execution_count": 59,
   "id": "f391ce51",
   "metadata": {},
   "outputs": [
    {
     "ename": "AttributeError",
     "evalue": "'diatmilit1' object has no attribute 'phone_number'",
     "output_type": "error",
     "traceback": [
      "\u001b[1;31m---------------------------------------------------------------------------\u001b[0m",
      "\u001b[1;31mAttributeError\u001b[0m                            Traceback (most recent call last)",
      "\u001b[1;32m~\\AppData\\Local\\Temp/ipykernel_15988/4088709635.py\u001b[0m in \u001b[0;36m<module>\u001b[1;34m\u001b[0m\n\u001b[1;32m----> 1\u001b[1;33m \u001b[0msayyad\u001b[0m\u001b[1;33m.\u001b[0m\u001b[0mphone_number\u001b[0m\u001b[1;33m\u001b[0m\u001b[1;33m\u001b[0m\u001b[0m\n\u001b[0m",
      "\u001b[1;31mAttributeError\u001b[0m: 'diatmilit1' object has no attribute 'phone_number'"
     ]
    }
   ],
   "source": [
    "sayyad.phone_number"
   ]
  },
  {
   "cell_type": "code",
   "execution_count": 60,
   "id": "390c2ac0",
   "metadata": {},
   "outputs": [
    {
     "data": {
      "text/plain": [
       "221407"
      ]
     },
     "execution_count": 60,
     "metadata": {},
     "output_type": "execute_result"
    }
   ],
   "source": [
    "\n",
    "sayyad.phone_number1"
   ]
  },
  {
   "cell_type": "code",
   "execution_count": 61,
   "id": "600361d8",
   "metadata": {},
   "outputs": [
    {
     "ename": "AttributeError",
     "evalue": "'diatmilit1' object has no attribute 'student_id'",
     "output_type": "error",
     "traceback": [
      "\u001b[1;31m---------------------------------------------------------------------------\u001b[0m",
      "\u001b[1;31mAttributeError\u001b[0m                            Traceback (most recent call last)",
      "\u001b[1;32m~\\AppData\\Local\\Temp/ipykernel_15988/1320776377.py\u001b[0m in \u001b[0;36m<module>\u001b[1;34m\u001b[0m\n\u001b[1;32m----> 1\u001b[1;33m \u001b[0msayyad\u001b[0m\u001b[1;33m.\u001b[0m\u001b[0mreturn_student_details\u001b[0m\u001b[1;33m(\u001b[0m\u001b[1;33m)\u001b[0m\u001b[1;33m\u001b[0m\u001b[1;33m\u001b[0m\u001b[0m\n\u001b[0m",
      "\u001b[1;32m~\\AppData\\Local\\Temp/ipykernel_15988/450090167.py\u001b[0m in \u001b[0;36mreturn_student_details\u001b[1;34m(self)\u001b[0m\n\u001b[0;32m      7\u001b[0m \u001b[1;33m\u001b[0m\u001b[0m\n\u001b[0;32m      8\u001b[0m     \u001b[1;32mdef\u001b[0m \u001b[0mreturn_student_details\u001b[0m\u001b[1;33m(\u001b[0m\u001b[0mself\u001b[0m\u001b[1;33m)\u001b[0m\u001b[1;33m:\u001b[0m\u001b[1;33m\u001b[0m\u001b[1;33m\u001b[0m\u001b[0m\n\u001b[1;32m----> 9\u001b[1;33m         \u001b[1;32mreturn\u001b[0m \u001b[0mself\u001b[0m\u001b[1;33m.\u001b[0m\u001b[0mstudent_id\u001b[0m\u001b[1;33m,\u001b[0m \u001b[0mself\u001b[0m\u001b[1;33m.\u001b[0m\u001b[0mphone_number\u001b[0m\u001b[1;33m,\u001b[0m \u001b[0mself\u001b[0m\u001b[1;33m.\u001b[0m\u001b[0memail_id\u001b[0m\u001b[1;33m\u001b[0m\u001b[1;33m\u001b[0m\u001b[0m\n\u001b[0m",
      "\u001b[1;31mAttributeError\u001b[0m: 'diatmilit1' object has no attribute 'student_id'"
     ]
    }
   ],
   "source": [
    "sayyad.return_student_details()"
   ]
  },
  {
   "cell_type": "code",
   "execution_count": 64,
   "id": "4246dd46",
   "metadata": {},
   "outputs": [],
   "source": [
    "class diatmilit1 :\n",
    "    \n",
    "    def __init__(self, phone_number, email_id, student_id):\n",
    "        self.phone_number1 = phone_number\n",
    "        self.email_id1 = email_id\n",
    "        self.student_id1 = student_id\n",
    "        \n",
    "    def return_student_details(self):\n",
    "        return self.student_id1, self.phone_number1, self.email_id1"
   ]
  },
  {
   "cell_type": "code",
   "execution_count": 66,
   "id": "5e4d1379",
   "metadata": {},
   "outputs": [
    {
     "data": {
      "text/plain": [
       "(5, 221407, 'diat@gmail.com')"
      ]
     },
     "execution_count": 66,
     "metadata": {},
     "output_type": "execute_result"
    }
   ],
   "source": [
    "sayyad.return_student_details()"
   ]
  },
  {
   "cell_type": "code",
   "execution_count": 74,
   "id": "58e27c59",
   "metadata": {},
   "outputs": [],
   "source": [
    "class diatmilit1 :\n",
    "    \n",
    "    def __init__(sayyad, phone_number, email_id, student_id):\n",
    "        sayyad.phone_number1 = phone_number\n",
    "        sayyad.email_id1 = email_id\n",
    "        sayyad.student_id1 = student_id\n",
    "        \n",
    "    def return_student_details(sayyad):\n",
    "        return sayyad.student_id1, sayyad.phone_number1, sayyad.email_id1"
   ]
  },
  {
   "cell_type": "code",
   "execution_count": 75,
   "id": "db0923d5",
   "metadata": {},
   "outputs": [],
   "source": [
    "ASHRAF = diatmilit1(22140722,\"diatwbe@mail\",325 )"
   ]
  },
  {
   "cell_type": "code",
   "execution_count": 76,
   "id": "b232801a",
   "metadata": {},
   "outputs": [
    {
     "data": {
      "text/plain": [
       "22140722"
      ]
     },
     "execution_count": 76,
     "metadata": {},
     "output_type": "execute_result"
    }
   ],
   "source": [
    "ASHRAF.phone_number1"
   ]
  },
  {
   "cell_type": "code",
   "execution_count": null,
   "id": "c37be142",
   "metadata": {},
   "outputs": [],
   "source": []
  }
 ],
 "metadata": {
  "kernelspec": {
   "display_name": "Python 3 (ipykernel)",
   "language": "python",
   "name": "python3"
  },
  "language_info": {
   "codemirror_mode": {
    "name": "ipython",
    "version": 3
   },
   "file_extension": ".py",
   "mimetype": "text/x-python",
   "name": "python",
   "nbconvert_exporter": "python",
   "pygments_lexer": "ipython3",
   "version": "3.9.7"
  }
 },
 "nbformat": 4,
 "nbformat_minor": 5
}
