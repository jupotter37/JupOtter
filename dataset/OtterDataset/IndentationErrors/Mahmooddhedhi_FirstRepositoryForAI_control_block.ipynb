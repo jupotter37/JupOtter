{
 "cells": [
  {
   "cell_type": "markdown",
   "id": "3f8dcd1f",
   "metadata": {},
   "source": [
    "# Programming Paradigm\n",
    "## Linear Programming\n",
    "## Structual/Controls Programming\n",
    "## Object Orientated Programming"
   ]
  },
  {
   "cell_type": "markdown",
   "id": "8e29ad5a",
   "metadata": {},
   "source": [
    "# Linear Programming"
   ]
  },
  {
   "cell_type": "code",
   "execution_count": 63,
   "id": "62fbc752",
   "metadata": {},
   "outputs": [
    {
     "name": "stdout",
     "output_type": "stream",
     "text": [
      "Pakistan Zinda Bad!\n",
      "Pakistan Zinda Bad!\n",
      "Pakistan Zinda Bad!\n",
      "Pakistan Zinda Bad!\n",
      "Pakistan Zinda Bad!\n",
      "Pakistan Zinda Bad!\n",
      "Pakistan Zinda Bad!\n",
      "Pakistan Zinda Bad!\n",
      "Pakistan Zinda Bad!\n",
      "Pakistan Zinda Bad!\n"
     ]
    }
   ],
   "source": [
    "print(\"Pakistan Zinda Bad!\")\n",
    "print(\"Pakistan Zinda Bad!\")\n",
    "print(\"Pakistan Zinda Bad!\")\n",
    "print(\"Pakistan Zinda Bad!\")\n",
    "print(\"Pakistan Zinda Bad!\")\n",
    "print(\"Pakistan Zinda Bad!\")\n",
    "print(\"Pakistan Zinda Bad!\")\n",
    "print(\"Pakistan Zinda Bad!\")\n",
    "print(\"Pakistan Zinda Bad!\")\n",
    "print(\"Pakistan Zinda Bad!\")\n"
   ]
  },
  {
   "cell_type": "markdown",
   "id": "1e09ce19",
   "metadata": {},
   "source": [
    "# Structual Programming"
   ]
  },
  {
   "cell_type": "code",
   "execution_count": 64,
   "id": "2ed6d44f",
   "metadata": {},
   "outputs": [
    {
     "name": "stdout",
     "output_type": "stream",
     "text": [
      "Pakistan Zinda bad!\n",
      "\tSaylani Mass IT Traning\n",
      "Pakistan Zinda bad!\n",
      "\tSaylani Mass IT Traning\n",
      "Pakistan Zinda bad!\n",
      "\tSaylani Mass IT Traning\n",
      "Pakistan Zinda bad!\n",
      "\tSaylani Mass IT Traning\n",
      "Pakistan Zinda bad!\n",
      "\tSaylani Mass IT Traning\n",
      "Pakistan Zinda bad!\n",
      "\tSaylani Mass IT Traning\n",
      "Pakistan Zinda bad!\n",
      "\tSaylani Mass IT Traning\n",
      "Pakistan Zinda bad!\n",
      "\tSaylani Mass IT Traning\n",
      "Pakistan Zinda bad!\n",
      "\tSaylani Mass IT Traning\n",
      "Pakistan Zinda bad!\n",
      "\tSaylani Mass IT Traning\n"
     ]
    }
   ],
   "source": [
    "for num in range(1,11):\n",
    "    print(\"Pakistan Zinda bad!\")\n",
    "    print(\"\\tSaylani Mass IT Traning\")"
   ]
  },
  {
   "cell_type": "markdown",
   "id": "de0d6a94",
   "metadata": {},
   "source": [
    "# Controls\n",
    "* If\n",
    "  * Else\n",
    "  * Elif\n",
    "* For/While\n",
    "  * Break\n",
    "  * continue\n",
    "  * pass\n",
    "  * else\n",
    "* def\n",
    "* try\n",
    "  * except\n",
    "  * else\n",
    "  * finally\n",
    "* class\n",
    "\n",
    "https://flexiple.com/python/python-reserved-words/"
   ]
  },
  {
   "cell_type": "markdown",
   "id": "a3a2763d",
   "metadata": {},
   "source": [
    "# if\n",
    "* else\n",
    "* elif\n",
    "```\n",
    "if logic:\n",
    "   True _block_body\n",
    "else:\n",
    "   false_block_body```\n",
    "\n",
    "if logic:\n",
    "   True _block_body\n",
    "else:\n",
    "   false_block_body```\n"
   ]
  },
  {
   "cell_type": "markdown",
   "id": "1f263043",
   "metadata": {},
   "source": [
    "# comprehensive Style\n",
    "\n",
    "```True_block_body if True/False else False_block_body```"
   ]
  },
  {
   "cell_type": "code",
   "execution_count": 65,
   "id": "35b38c56",
   "metadata": {},
   "outputs": [
    {
     "name": "stdout",
     "output_type": "stream",
     "text": [
      "Pakistan!\n",
      "America\n"
     ]
    }
   ],
   "source": [
    "print(\"Pakistan!\")\n",
    "\n",
    "print(\"America\")"
   ]
  },
  {
   "cell_type": "code",
   "execution_count": 66,
   "id": "13f93c17",
   "metadata": {},
   "outputs": [
    {
     "name": "stdout",
     "output_type": "stream",
     "text": [
      "Pakistan\n"
     ]
    }
   ],
   "source": [
    "if True:\n",
    "    print(\"Pakistan\")\n",
    "else:\n",
    "    print(\"America\")"
   ]
  },
  {
   "cell_type": "code",
   "execution_count": 67,
   "id": "f1109e29",
   "metadata": {},
   "outputs": [
    {
     "name": "stdout",
     "output_type": "stream",
     "text": [
      "America\n"
     ]
    }
   ],
   "source": [
    "if False:\n",
    "    print(\"Pakistan\")\n",
    "else:\n",
    "    print(\"America\")"
   ]
  },
  {
   "cell_type": "code",
   "execution_count": 68,
   "id": "9372f9a4",
   "metadata": {},
   "outputs": [
    {
     "name": "stdout",
     "output_type": "stream",
     "text": [
      "enter any number:8\n",
      "8 <class 'int'>\n"
     ]
    }
   ],
   "source": [
    "num= int(input(\"enter any number:\"))\n",
    "print(num, type(num))"
   ]
  },
  {
   "cell_type": "code",
   "execution_count": 69,
   "id": "0ff752eb",
   "metadata": {
    "scrolled": true
   },
   "outputs": [
    {
     "name": "stdout",
     "output_type": "stream",
     "text": [
      "enter any number:8\n",
      "8 <class 'int'>\n",
      "0\n",
      "True\n"
     ]
    }
   ],
   "source": [
    "num= int(input(\"enter any number:\"))\n",
    "print(num, type(num))\n",
    "\n",
    "print(num % 2)\n",
    "print(num % 2 == 0)"
   ]
  },
  {
   "cell_type": "code",
   "execution_count": 77,
   "id": "c75cf378",
   "metadata": {},
   "outputs": [
    {
     "name": "stdout",
     "output_type": "stream",
     "text": [
      "enter any number:8\n",
      "the 8 is Even\n"
     ]
    }
   ],
   "source": [
    "num= int(input(\"enter any number:\"))\n",
    "\n",
    "if num % 2 == 0:\n",
    "    print(f\"the {num} is Even\")\n",
    "else:\n",
    "    print(f\"the {num} is odd\")"
   ]
  },
  {
   "cell_type": "code",
   "execution_count": 71,
   "id": "b41ea99a",
   "metadata": {},
   "outputs": [
    {
     "name": "stdout",
     "output_type": "stream",
     "text": [
      "enter any number:8\n",
      "the 8 is Even\n"
     ]
    }
   ],
   "source": [
    "num= int(input(\"enter any number:\"))\n",
    "\n",
    "if num % 2 == 0:\n",
    "    print(f\"the {num} is Even\")\n",
    "else:\n",
    "    print(f\"the {num} is odd\")"
   ]
  },
  {
   "cell_type": "code",
   "execution_count": 78,
   "id": "73ae46a7",
   "metadata": {},
   "outputs": [
    {
     "ename": "IndentationError",
     "evalue": "unexpected indent (435121980.py, line 5)",
     "output_type": "error",
     "traceback": [
      "\u001b[1;36m  File \u001b[1;32m\"C:\\Users\\Dell\\AppData\\Local\\Temp\\ipykernel_17672\\435121980.py\"\u001b[1;36m, line \u001b[1;32m5\u001b[0m\n\u001b[1;33m    print(\"A+\")\u001b[0m\n\u001b[1;37m    ^\u001b[0m\n\u001b[1;31mIndentationError\u001b[0m\u001b[1;31m:\u001b[0m unexpected indent\n"
     ]
    }
   ],
   "source": [
    "per = int(input(\"Enter your percentage: \"))\n",
    "\n",
    "if per >= 80:95\n",
    "    \n",
    "    print(\"A+\")\n",
    "elif per >= 70:\n",
    "    print(\"A\")\n",
    "elif per >= 60:\n",
    "    print(\"B\")\n",
    "elif per >= 50:\n",
    "    print(\"c\")\n",
    "elif per >= 40:\n",
    "    print(\"d\")\n",
    "elif per >= 33:\n",
    "    print(\"E\")\n",
    "else:\n",
    "    print(\"Fail\")\n",
    "    \n",
    "print(\"Pakistan ZInda bad\")"
   ]
  },
  {
   "cell_type": "code",
   "execution_count": 82,
   "id": "71f3af2e",
   "metadata": {},
   "outputs": [
    {
     "name": "stdout",
     "output_type": "stream",
     "text": [
      "B\n"
     ]
    }
   ],
   "source": [
    "per = 66 \n",
    "\n",
    "if False:\n",
    "    print(\"A+\")\n",
    "elif False:\n",
    "    print(\"A\")\n",
    "elif True:\n",
    "    print(\"B\")\n",
    "elif 66>=50:\n",
    "    print(\"C\")\n",
    "elif 66>=40:\n",
    "    print(\"D\")\n",
    "elif 66>=33:\n",
    "    print(\"E\")\n",
    "else:\n",
    "    print(\"fail\")"
   ]
  },
  {
   "cell_type": "code",
   "execution_count": 83,
   "id": "6261c3b1",
   "metadata": {},
   "outputs": [
    {
     "name": "stdout",
     "output_type": "stream",
     "text": [
      "Enter your percentage: 95\n",
      "Fail\n"
     ]
    }
   ],
   "source": [
    "per = int(input(\"Enter your percentage: \"))\n",
    "\n",
    "if per >= 0:\n",
    "    print(\"Fail\")\n",
    "elif per >= 33:\n",
    "    print(\"E\")\n",
    "elif per >= 40:\n",
    "    print(\"D\")\n",
    "elif per >= 50:\n",
    "    print(\"C\")\n",
    "elif per >= 60:\n",
    "    print(\"B\")\n",
    "elif per >= 70:\n",
    "    print(\"A\")\n",
    "elif per >= 80:\n",
    "    print(\"A+\")\n",
    "elif per >= 90:\n",
    "    print(\"A++\")"
   ]
  },
  {
   "cell_type": "code",
   "execution_count": 84,
   "id": "adae1800",
   "metadata": {},
   "outputs": [
    {
     "data": {
      "text/plain": [
       "True"
      ]
     },
     "execution_count": 84,
     "metadata": {},
     "output_type": "execute_result"
    }
   ],
   "source": [
    "True and True and True"
   ]
  },
  {
   "cell_type": "code",
   "execution_count": 85,
   "id": "17785b78",
   "metadata": {},
   "outputs": [
    {
     "data": {
      "text/plain": [
       "False"
      ]
     },
     "execution_count": 85,
     "metadata": {},
     "output_type": "execute_result"
    }
   ],
   "source": [
    "True and False and True "
   ]
  },
  {
   "cell_type": "code",
   "execution_count": 86,
   "id": "e801df32",
   "metadata": {},
   "outputs": [
    {
     "name": "stdout",
     "output_type": "stream",
     "text": [
      "Enter your percentage: 95\n",
      "A++\n"
     ]
    }
   ],
   "source": [
    "per = int(input(\"Enter your percentage: \"))\n",
    "\n",
    "if per >= 0 and per < 33 :\n",
    "    print(\"Fail\")\n",
    "elif per >= 33 and per < 40:\n",
    "    print(\"E\")\n",
    "elif per >= 40 and per < 50:\n",
    "    print(\"D\")\n",
    "elif per >= 50 and per < 60:\n",
    "    print(\"C\")\n",
    "elif per >= 60 and per < 70:\n",
    "    print(\"B\")\n",
    "elif per >= 70 and per < 80:\n",
    "    print(\"A\")\n",
    "elif per >= 80 and per < 60:\n",
    "    print(\"A+\")\n",
    "elif per >= 90 and per < 100:\n",
    "    print(\"A++\")"
   ]
  },
  {
   "cell_type": "code",
   "execution_count": 87,
   "id": "57fd2b26",
   "metadata": {},
   "outputs": [
    {
     "name": "stdout",
     "output_type": "stream",
     "text": [
      "Enter User name: Admin\n",
      "Enter your password: Admin\n",
      "Valid User\n"
     ]
    }
   ],
   "source": [
    "user_name = input(\"Enter User name: \")\n",
    "password = input(\"Enter your password: \")\n",
    "\n",
    "if user_name == \"Admin\" and password == \"Admin\":\n",
    "    print(\"Valid User\")\n",
    "else:\n",
    "    print(\"Invalid user\")"
   ]
  },
  {
   "cell_type": "code",
   "execution_count": 88,
   "id": "b75e2446",
   "metadata": {},
   "outputs": [
    {
     "name": "stdout",
     "output_type": "stream",
     "text": [
      "Enter User name: Admin\n",
      "Enter your password: Admin\n",
      "Valid User\n"
     ]
    }
   ],
   "source": [
    "user_name = input(\"Enter User name: \")\n",
    "password = input(\"Enter your password: \")\n",
    "\n",
    "if user_name == \"Admin\" and password == \"Admin\":\n",
    "    print(\"Valid User\")\n",
    "else:\n",
    "    print(\"Invalid user\")"
   ]
  },
  {
   "cell_type": "code",
   "execution_count": 89,
   "id": "001d1cf2",
   "metadata": {},
   "outputs": [
    {
     "name": "stdout",
     "output_type": "stream",
     "text": [
      "Enter User name: admin\n",
      "Enter your password: Admin\n",
      "Valid User\n"
     ]
    }
   ],
   "source": [
    "user_name = input(\"Enter User name: \")\n",
    "password = input(\"Enter your password: \")\n",
    "\n",
    "if user_name == \"Admin\"  or user_name == \"admin\" and password == \"Admin\":\n",
    "    print(\"Valid User\")\n",
    "else:\n",
    "    print(\"Invalid user\")"
   ]
  },
  {
   "cell_type": "code",
   "execution_count": 90,
   "id": "36ae59d8",
   "metadata": {},
   "outputs": [
    {
     "name": "stdout",
     "output_type": "stream",
     "text": [
      "Enter User name: Admin\n",
      "Enter your password: Admin\n",
      "Valid User\n"
     ]
    }
   ],
   "source": [
    "user_name = input(\"Enter User name: \")\n",
    "password = input(\"Enter your password: \")\n",
    "\n",
    "if user_name.lower() == \"admin\" and password == \"Admin\":\n",
    "    print(\"Valid User\")\n",
    "else:\n",
    "    print(\"Invalid user\")"
   ]
  },
  {
   "cell_type": "code",
   "execution_count": 91,
   "id": "3bd6f7ae",
   "metadata": {},
   "outputs": [
    {
     "name": "stdout",
     "output_type": "stream",
     "text": [
      "Enter User name: admin\n",
      "Enter your password: Admin\n",
      "Valid User\n"
     ]
    }
   ],
   "source": [
    "user_name = input(\"Enter User name: \")\n",
    "password = input(\"Enter your password: \")\n",
    "\n",
    "print(\"Valid User\") if user_name.lower() == \"admin\" and password == \"Admin\" else print(\"Invalid User\") "
   ]
  },
  {
   "cell_type": "code",
   "execution_count": 92,
   "id": "76da722f",
   "metadata": {},
   "outputs": [
    {
     "name": "stdout",
     "output_type": "stream",
     "text": [
      "Enter User name: Admin\n",
      "Enter your password: Admin\n",
      "Valid User\n"
     ]
    }
   ],
   "source": [
    "user_name = input(\"Enter User name: \")\n",
    "password = input(\"Enter your password: \")\n",
    "\n",
    "if user_name.lower() == \"admin\":\n",
    "    if password == \"Admin\":\n",
    "        print(\"Valid User\")\n",
    "    else:\n",
    "        print(\"Invalid user\")"
   ]
  },
  {
   "cell_type": "markdown",
   "id": "ff36bac5",
   "metadata": {},
   "source": [
    "# Loop"
   ]
  },
  {
   "cell_type": "code",
   "execution_count": 93,
   "id": "652209ea",
   "metadata": {},
   "outputs": [
    {
     "name": "stdout",
     "output_type": "stream",
     "text": [
      "P\n",
      "a\n",
      "k\n",
      "i\n",
      "s\n",
      "t\n",
      "a\n",
      "n\n"
     ]
    }
   ],
   "source": [
    "abc = \"Pakistan\"\n",
    "\n",
    "for c in abc:\n",
    "    print(c)"
   ]
  },
  {
   "cell_type": "code",
   "execution_count": 94,
   "id": "c82810f2",
   "metadata": {},
   "outputs": [
    {
     "name": "stdout",
     "output_type": "stream",
     "text": [
      "a\n",
      "b\n",
      "c\n",
      "d\n",
      "1\n",
      "2\n",
      "3\n",
      "abc\n",
      "xyz\n"
     ]
    }
   ],
   "source": [
    "for i in ['a','b','c','d',1,2,3, 'abc', 'xyz']:\n",
    "    print(i)"
   ]
  },
  {
   "cell_type": "code",
   "execution_count": 95,
   "id": "4a9f94de",
   "metadata": {},
   "outputs": [
    {
     "data": {
      "text/plain": [
       "[(0, 'a'),\n",
       " (1, 'b'),\n",
       " (2, 'c'),\n",
       " (3, 'd'),\n",
       " (4, 1),\n",
       " (5, 2),\n",
       " (6, 3),\n",
       " (7, 'abc'),\n",
       " (8, 'xyz')]"
      ]
     },
     "execution_count": 95,
     "metadata": {},
     "output_type": "execute_result"
    }
   ],
   "source": [
    "list(enumerate(['a','b','c','d',1,2,3, 'abc', 'xyz']))"
   ]
  },
  {
   "cell_type": "code",
   "execution_count": 96,
   "id": "9f386275",
   "metadata": {},
   "outputs": [
    {
     "name": "stdout",
     "output_type": "stream",
     "text": [
      "abc 0\n",
      "def 1\n",
      "ghi 2\n",
      "mehmood 3\n"
     ]
    }
   ],
   "source": [
    "for index, value in enumerate(['abc', 'def','ghi', 'mehmood']):\n",
    "    print(value, index)"
   ]
  },
  {
   "cell_type": "code",
   "execution_count": 97,
   "id": "57ce4356",
   "metadata": {},
   "outputs": [
    {
     "data": {
      "text/plain": [
       "['P', 'a', 'k', 'i', 's', 't', 'a', 'n']"
      ]
     },
     "execution_count": 97,
     "metadata": {},
     "output_type": "execute_result"
    }
   ],
   "source": [
    "list(\"Pakistan\")"
   ]
  },
  {
   "cell_type": "markdown",
   "id": "df750380",
   "metadata": {},
   "source": [
    "# ASCII\n",
    "* 0-9= 48-57\n",
    "* A-Z= 65-90\n",
    "* a-z = 97-122"
   ]
  },
  {
   "cell_type": "markdown",
   "id": "a8fe4852",
   "metadata": {},
   "source": [
    "# Dealing With ASCII\n",
    "* ord\n",
    "* chr"
   ]
  },
  {
   "cell_type": "code",
   "execution_count": 98,
   "id": "e8b8409d",
   "metadata": {},
   "outputs": [
    {
     "name": "stdout",
     "output_type": "stream",
     "text": [
      "65\n",
      "97\n",
      "48\n"
     ]
    }
   ],
   "source": [
    "print(ord(\"A\"))\n",
    "print(ord(\"a\"))\n",
    "print(ord(\"0\"))"
   ]
  },
  {
   "cell_type": "code",
   "execution_count": 99,
   "id": "8603668f",
   "metadata": {},
   "outputs": [
    {
     "name": "stdout",
     "output_type": "stream",
     "text": [
      "A\n",
      "a\n",
      "0\n"
     ]
    }
   ],
   "source": [
    "print(chr(65))\n",
    "print(chr(97))\n",
    "print(chr(48))"
   ]
  },
  {
   "cell_type": "code",
   "execution_count": 100,
   "id": "919aa137",
   "metadata": {},
   "outputs": [
    {
     "name": "stdout",
     "output_type": "stream",
     "text": [
      "A\n",
      "B\n",
      "C\n",
      "D\n",
      "E\n",
      "F\n",
      "G\n",
      "H\n",
      "I\n",
      "J\n",
      "K\n",
      "L\n",
      "M\n",
      "N\n",
      "O\n",
      "P\n",
      "Q\n",
      "R\n",
      "S\n",
      "T\n",
      "U\n",
      "V\n",
      "W\n",
      "X\n",
      "Y\n"
     ]
    }
   ],
   "source": [
    "for i in range(65,90):\n",
    "    print(chr(i))"
   ]
  },
  {
   "cell_type": "code",
   "execution_count": 101,
   "id": "ef97584d",
   "metadata": {},
   "outputs": [
    {
     "data": {
      "text/plain": [
       "['A',\n",
       " 'B',\n",
       " 'C',\n",
       " 'D',\n",
       " 'E',\n",
       " 'F',\n",
       " 'G',\n",
       " 'H',\n",
       " 'I',\n",
       " 'J',\n",
       " 'K',\n",
       " 'L',\n",
       " 'M',\n",
       " 'N',\n",
       " 'O',\n",
       " 'P',\n",
       " 'Q',\n",
       " 'R',\n",
       " 'S',\n",
       " 'T',\n",
       " 'U',\n",
       " 'V',\n",
       " 'W',\n",
       " 'X',\n",
       " 'Y',\n",
       " 'Z']"
      ]
     },
     "execution_count": 101,
     "metadata": {},
     "output_type": "execute_result"
    }
   ],
   "source": [
    "[chr(i)for i in range(65,91)]"
   ]
  },
  {
   "cell_type": "code",
   "execution_count": 103,
   "id": "fca1d03a",
   "metadata": {},
   "outputs": [
    {
     "ename": "SyntaxError",
     "evalue": "invalid syntax (691210766.py, line 1)",
     "output_type": "error",
     "traceback": [
      "\u001b[1;36m  File \u001b[1;32m\"C:\\Users\\Dell\\AppData\\Local\\Temp\\ipykernel_17672\\691210766.py\"\u001b[1;36m, line \u001b[1;32m1\u001b[0m\n\u001b[1;33m    [chr(i)for i in range(65,91)] +\u001b[0m\n\u001b[1;37m                                   ^\u001b[0m\n\u001b[1;31mSyntaxError\u001b[0m\u001b[1;31m:\u001b[0m invalid syntax\n"
     ]
    }
   ],
   "source": [
    "[chr(i)for i in range(65,91)] +\n",
    "[chr(i) for i in range(97,123)] +\n",
    "[chr(i) for i in range(48,58)]"
   ]
  },
  {
   "cell_type": "code",
   "execution_count": 104,
   "id": "6d62a141",
   "metadata": {},
   "outputs": [
    {
     "data": {
      "text/plain": [
       "['A',\n",
       " 'B',\n",
       " 'C',\n",
       " 'D',\n",
       " 'E',\n",
       " 'F',\n",
       " 'G',\n",
       " 'H',\n",
       " 'I',\n",
       " 'J',\n",
       " 'K',\n",
       " 'L',\n",
       " 'M',\n",
       " 'N',\n",
       " 'O',\n",
       " 'P',\n",
       " 'Q',\n",
       " 'R',\n",
       " 'S',\n",
       " 'T',\n",
       " 'U',\n",
       " 'V',\n",
       " 'W',\n",
       " 'X',\n",
       " 'Y',\n",
       " 'Z',\n",
       " 'a',\n",
       " 'b',\n",
       " 'c',\n",
       " 'd',\n",
       " 'e',\n",
       " 'f',\n",
       " 'g',\n",
       " 'h',\n",
       " 'i',\n",
       " 'j',\n",
       " 'k',\n",
       " 'l',\n",
       " 'm',\n",
       " 'n',\n",
       " 'o',\n",
       " 'p',\n",
       " 'q',\n",
       " 'r',\n",
       " 's',\n",
       " 't',\n",
       " 'u',\n",
       " 'v',\n",
       " 'w',\n",
       " 'x',\n",
       " 'y',\n",
       " 'z',\n",
       " '0',\n",
       " '1',\n",
       " '2',\n",
       " '3',\n",
       " '4',\n",
       " '5',\n",
       " '6',\n",
       " '7',\n",
       " '8',\n",
       " '9']"
      ]
     },
     "execution_count": 104,
     "metadata": {},
     "output_type": "execute_result"
    }
   ],
   "source": [
    "[chr(i)for i in range(65,91)] +\\\n",
    "[chr(i) for i in range(97,123)] +\\\n",
    "[chr(i) for i in range(48,58)]"
   ]
  },
  {
   "cell_type": "code",
   "execution_count": 105,
   "id": "517eb0fd",
   "metadata": {},
   "outputs": [
    {
     "data": {
      "text/plain": [
       "[65,\n",
       " 66,\n",
       " 67,\n",
       " 68,\n",
       " 69,\n",
       " 70,\n",
       " 71,\n",
       " 72,\n",
       " 73,\n",
       " 74,\n",
       " 75,\n",
       " 76,\n",
       " 77,\n",
       " 78,\n",
       " 79,\n",
       " 80,\n",
       " 81,\n",
       " 82,\n",
       " 83,\n",
       " 84,\n",
       " 85,\n",
       " 86,\n",
       " 87,\n",
       " 88,\n",
       " 89,\n",
       " 90]"
      ]
     },
     "execution_count": 105,
     "metadata": {},
     "output_type": "execute_result"
    }
   ],
   "source": [
    "[i for i in range(65,91)]"
   ]
  },
  {
   "cell_type": "code",
   "execution_count": 106,
   "id": "b991a165",
   "metadata": {},
   "outputs": [
    {
     "data": {
      "text/plain": [
       "[66, 68, 70, 72, 74, 76, 78, 80, 82, 84, 86, 88, 90]"
      ]
     },
     "execution_count": 106,
     "metadata": {},
     "output_type": "execute_result"
    }
   ],
   "source": [
    "[i for i in range(65,91) if i % 2 == 0]"
   ]
  },
  {
   "cell_type": "code",
   "execution_count": 107,
   "id": "50d58759",
   "metadata": {},
   "outputs": [
    {
     "data": {
      "text/plain": [
       "['B', 'D', 'F', 'H', 'J', 'L', 'N', 'P', 'R', 'T', 'V', 'X', 'Z']"
      ]
     },
     "execution_count": 107,
     "metadata": {},
     "output_type": "execute_result"
    }
   ],
   "source": [
    "[chr(i) for i in range(65,91) if i % 2 == 0]"
   ]
  },
  {
   "cell_type": "code",
   "execution_count": 108,
   "id": "f57d3a31",
   "metadata": {},
   "outputs": [
    {
     "data": {
      "text/plain": [
       "['A', 'C', 'E', 'G', 'I', 'K', 'M', 'O', 'Q', 'S', 'U', 'W', 'Y']"
      ]
     },
     "execution_count": 108,
     "metadata": {},
     "output_type": "execute_result"
    }
   ],
   "source": [
    "[chr(i) for i in range(65,91) if i % 2 != 0]"
   ]
  },
  {
   "cell_type": "markdown",
   "id": "88fb453c",
   "metadata": {},
   "source": [
    "# Loop Controls"
   ]
  },
  {
   "cell_type": "code",
   "execution_count": 109,
   "id": "d31a1b52",
   "metadata": {},
   "outputs": [
    {
     "name": "stdout",
     "output_type": "stream",
     "text": [
      "1\n",
      "2\n",
      "3\n",
      "4\n",
      "5\n",
      "6\n",
      "7\n",
      "8\n",
      "9\n",
      "10\n"
     ]
    }
   ],
   "source": [
    "for i in range(1,11):\n",
    "    print(i)"
   ]
  },
  {
   "cell_type": "code",
   "execution_count": 110,
   "id": "9d1f81ea",
   "metadata": {},
   "outputs": [
    {
     "name": "stdout",
     "output_type": "stream",
     "text": [
      "1\n",
      "2\n",
      "3\n",
      "4\n",
      "5\n"
     ]
    }
   ],
   "source": [
    "for i in range(1,11):\n",
    "    print(i)\n",
    "    if i == 5:\n",
    "        break"
   ]
  },
  {
   "cell_type": "code",
   "execution_count": 111,
   "id": "2630fc08",
   "metadata": {},
   "outputs": [
    {
     "name": "stdout",
     "output_type": "stream",
     "text": [
      "\n",
      "    Saylani Mass IT Training\n",
      "    Roll: 1\n",
      "    Name: Mehmood\n",
      "    \n",
      "\n",
      "    Saylani Mass IT Training\n",
      "    Roll: 2\n",
      "    Name: Umar\n",
      "    \n",
      "\n",
      "    Saylani Mass IT Training\n",
      "    Roll: 3\n",
      "    Name: Hunain\n",
      "    \n"
     ]
    }
   ],
   "source": [
    "data = [{'id' :1, 'name': 'Mehmood'},\n",
    "       {'id' :2, 'name': 'Umar'},\n",
    "       {'id' :3, 'name': 'Hunain'},]\n",
    "for recod in data:\n",
    "    card = \"\"\"\n",
    "    Saylani Mass IT Training\n",
    "    Roll: {id}\n",
    "    Name: {name}\n",
    "    \"\"\".format_map(recod)\n",
    "    print(card)"
   ]
  },
  {
   "cell_type": "code",
   "execution_count": 112,
   "id": "60869aa7",
   "metadata": {},
   "outputs": [
    {
     "name": "stdout",
     "output_type": "stream",
     "text": [
      "Enter User nameMood\n",
      "password279\n",
      "{'id': 1, 'name': 'Muhammad Mehmood', 'u': 'Mood', 'p': '279'}\n"
     ]
    }
   ],
   "source": [
    "data = [{'id' :1, 'name': 'Muhammad Mehmood', 'u': 'Mood', 'p': '279'},\n",
    "       {'id' :2, 'name': 'Umar','u':'Asif','p':'abc123'},\n",
    "       {'id' :3, 'name': 'Hunain','u':'Hamza','p':'123xyz'}]\n",
    "\n",
    "user = input(\"Enter User name\")\n",
    "pas = input(\"password\")\n",
    "\n",
    "for d in data:\n",
    "    if d['u'] == user and d['p'] == pas:\n",
    "        print(d)\n",
    "        break"
   ]
  },
  {
   "cell_type": "code",
   "execution_count": 113,
   "id": "56b55cfd",
   "metadata": {},
   "outputs": [
    {
     "name": "stdout",
     "output_type": "stream",
     "text": [
      "Enter User namemood\n",
      "password279\n",
      "Invalid user or Password\n",
      "Invalid user or Password\n",
      "Invalid user or Password\n"
     ]
    }
   ],
   "source": [
    "data = [{'id' :1, 'name': 'Muhammad Mehmood', 'u': 'Mood', 'p': '279'},\n",
    "       {'id' :2, 'name': 'Umar','u':'Asif','p':'abc123'},\n",
    "       {'id' :3, 'name': 'Hunain','u':'Hamza','p':'123xyz'}]\n",
    "\n",
    "user = input(\"Enter User name\")\n",
    "pas = input(\"password\")\n",
    "\n",
    "for d in data:\n",
    "    if d['u'] == user and d['p'] == pas:\n",
    "        print(d)\n",
    "        break\n",
    "    else:\n",
    "        print(\"Invalid user or Password\")"
   ]
  },
  {
   "cell_type": "code",
   "execution_count": 114,
   "id": "76eb30db",
   "metadata": {},
   "outputs": [
    {
     "name": "stdout",
     "output_type": "stream",
     "text": [
      "Enter user NameAsif\n",
      "Passwordabc123\n",
      "Invalid User or Password\n",
      "{'id': 2, 'name': 'Umar', 'u': 'Asif', 'p': 'abc123'}\n"
     ]
    }
   ],
   "source": [
    "data = [{'id' :1, 'name': 'Muhammad Mehmood', 'u': 'Mood', 'p': '279'},\n",
    "       {'id' :2, 'name': 'Umar','u':'Asif','p':'abc123'},\n",
    "       {'id' :3, 'name': 'Hunain','u':'Hamza','p':'123xyz'}]\n",
    "\n",
    "user = input(\"Enter user Name\")\n",
    "pas = input(\"Password\")\n",
    "\n",
    "for d in data:\n",
    "    if d['u'] == user and d['p'] == pas:\n",
    "        print(d)\n",
    "        break\n",
    "    else:\n",
    "        print(\"Invalid User or Password\")"
   ]
  },
  {
   "cell_type": "code",
   "execution_count": 115,
   "id": "3849306d",
   "metadata": {},
   "outputs": [
    {
     "name": "stdout",
     "output_type": "stream",
     "text": [
      "Enter user NameAsif\n",
      "Passwordabc123\n",
      "{'id': 2, 'name': 'Umar', 'u': 'Asif', 'p': 'abc123'}\n"
     ]
    }
   ],
   "source": [
    "data = [{'id' :1, 'name': 'Muhammad Mehmood', 'u': 'Mood', 'p': '279'},\n",
    "       {'id' :2, 'name': 'Umar','u':'Asif','p':'abc123'},\n",
    "       {'id' :3, 'name': 'Hunain','u':'Hamza','p':'123xyz'}]\n",
    "\n",
    "user = input(\"Enter user Name\")\n",
    "pas = input(\"Password\")\n",
    "\n",
    "for d in data:\n",
    "    if d['u'] == user and d['p'] == pas:\n",
    "        print(d)\n",
    "        break\n",
    "else:\n",
    "    print(\"Invalid User or Password\")"
   ]
  },
  {
   "cell_type": "code",
   "execution_count": 117,
   "id": "b990b520",
   "metadata": {},
   "outputs": [
    {
     "name": "stdout",
     "output_type": "stream",
     "text": [
      "Enter user NameAsif\n",
      "Passwordabc123\n",
      "{'id': 2, 'name': 'Umar', 'u': 'Asif', 'p': 'abc123'}\n",
      "Invalid User or Password\n"
     ]
    }
   ],
   "source": [
    "data = [{'id' :1, 'name': 'Muhammad Mehmood', 'u': 'Mood', 'p': '279'},\n",
    "       {'id' :2, 'name': 'Umar','u':'Asif','p':'abc123'},\n",
    "       {'id' :3, 'name': 'Hunain','u':'Hamza','p':'123xyz'}]\n",
    "\n",
    "user = input(\"Enter user Name\")\n",
    "pas = input(\"Password\")\n",
    "\n",
    "for d in data:\n",
    "    if d['u'] == user and d['p'] == pas:\n",
    "        print(d)\n",
    "        break\n",
    "        \n",
    "print(\"Invalid User or Password\")"
   ]
  },
  {
   "cell_type": "code",
   "execution_count": 120,
   "id": "7f53336e",
   "metadata": {},
   "outputs": [
    {
     "name": "stdout",
     "output_type": "stream",
     "text": [
      "1\n",
      "2\n",
      "3\n",
      "4\n",
      "6\n",
      "7\n",
      "8\n",
      "9\n",
      "10\n"
     ]
    }
   ],
   "source": [
    "for i in range(1,11):\n",
    "    if i ==5:\n",
    "        continue\n",
    "    print(i)"
   ]
  },
  {
   "cell_type": "code",
   "execution_count": 121,
   "id": "998836dd",
   "metadata": {},
   "outputs": [],
   "source": [
    "for i in range(1,1000):\n",
    "    pass"
   ]
  },
  {
   "cell_type": "code",
   "execution_count": 122,
   "id": "ff687182",
   "metadata": {},
   "outputs": [],
   "source": [
    "for i in range(1,1000):\n",
    "    pass"
   ]
  },
  {
   "cell_type": "code",
   "execution_count": 123,
   "id": "d6da3686",
   "metadata": {},
   "outputs": [],
   "source": [
    "if True:\n",
    "    pass\n",
    "else:\n",
    "    pass"
   ]
  },
  {
   "cell_type": "markdown",
   "id": "1d4c8e80",
   "metadata": {},
   "source": [
    "# While\n",
    "* Counter\n",
    "* Logic\n",
    "* Loop Body\n",
    "* increment/decrement"
   ]
  },
  {
   "cell_type": "code",
   "execution_count": 126,
   "id": "9682e4bd",
   "metadata": {},
   "outputs": [
    {
     "name": "stdout",
     "output_type": "stream",
     "text": [
      "0 line\n",
      "1 line\n",
      "2 line\n",
      "3 line\n",
      "4 line\n",
      "5 line\n",
      "6 line\n",
      "7 line\n",
      "8 line\n",
      "9 line\n",
      "10 line\n"
     ]
    }
   ],
   "source": [
    "counter = 0\n",
    "\n",
    "while counter <=10:\n",
    "    print(counter,'line')\n",
    "    counter += 1"
   ]
  },
  {
   "cell_type": "code",
   "execution_count": 129,
   "id": "967e394d",
   "metadata": {},
   "outputs": [
    {
     "name": "stdout",
     "output_type": "stream",
     "text": [
      "100 line\n",
      "99 line\n",
      "98 line\n",
      "97 line\n",
      "96 line\n",
      "95 line\n",
      "94 line\n",
      "93 line\n",
      "92 line\n",
      "91 line\n",
      "90 line\n"
     ]
    }
   ],
   "source": [
    "counter = 100\n",
    "while counter >=90:\n",
    "    print(counter,'line')\n",
    "    counter -=1"
   ]
  },
  {
   "cell_type": "code",
   "execution_count": 130,
   "id": "38947f0d",
   "metadata": {},
   "outputs": [
    {
     "name": "stdout",
     "output_type": "stream",
     "text": [
      "2023 Year\n",
      "2022 Year\n",
      "2021 Year\n",
      "2020 Year\n",
      "2019 Year\n",
      "2018 Year\n",
      "2017 Year\n",
      "2016 Year\n",
      "2015 Year\n",
      "2014 Year\n",
      "2013 Year\n",
      "2012 Year\n",
      "2011 Year\n",
      "2010 Year\n",
      "2009 Year\n",
      "2008 Year\n",
      "2007 Year\n",
      "2006 Year\n",
      "2005 Year\n",
      "2004 Year\n",
      "2003 Year\n",
      "2002 Year\n",
      "2001 Year\n",
      "2000 Year\n",
      "1999 Year\n",
      "1998 Year\n",
      "1997 Year\n",
      "1996 Year\n",
      "1995 Year\n",
      "1994 Year\n",
      "1993 Year\n",
      "1992 Year\n",
      "1991 Year\n",
      "1990 Year\n",
      "1989 Year\n",
      "1988 Year\n",
      "1987 Year\n",
      "1986 Year\n",
      "1985 Year\n",
      "1984 Year\n",
      "1983 Year\n",
      "1982 Year\n",
      "1981 Year\n",
      "1980 Year\n",
      "1979 Year\n",
      "1978 Year\n",
      "1977 Year\n",
      "1976 Year\n",
      "1975 Year\n",
      "1974 Year\n",
      "1973 Year\n",
      "1972 Year\n",
      "1971 Year\n",
      "1970 Year\n",
      "1969 Year\n",
      "1968 Year\n",
      "1967 Year\n",
      "1966 Year\n",
      "1965 Year\n",
      "1964 Year\n",
      "1963 Year\n",
      "1962 Year\n",
      "1961 Year\n",
      "1960 Year\n",
      "1959 Year\n",
      "1958 Year\n",
      "1957 Year\n",
      "1956 Year\n",
      "1955 Year\n",
      "1954 Year\n",
      "1953 Year\n",
      "1952 Year\n",
      "1951 Year\n",
      "1950 Year\n",
      "1949 Year\n",
      "1948 Year\n",
      "1947 Year\n",
      "1946 Year\n",
      "1945 Year\n",
      "1944 Year\n",
      "1943 Year\n",
      "1942 Year\n",
      "1941 Year\n",
      "1940 Year\n",
      "1939 Year\n",
      "1938 Year\n",
      "1937 Year\n",
      "1936 Year\n",
      "1935 Year\n",
      "1934 Year\n",
      "1933 Year\n",
      "1932 Year\n",
      "1931 Year\n",
      "1930 Year\n",
      "1929 Year\n",
      "1928 Year\n",
      "1927 Year\n",
      "1926 Year\n",
      "1925 Year\n",
      "1924 Year\n",
      "1923 Year\n",
      "1922 Year\n",
      "1921 Year\n",
      "1920 Year\n",
      "1919 Year\n",
      "1918 Year\n",
      "1917 Year\n",
      "1916 Year\n",
      "1915 Year\n",
      "1914 Year\n",
      "1913 Year\n",
      "1912 Year\n",
      "1911 Year\n",
      "1910 Year\n"
     ]
    }
   ],
   "source": [
    "counter = 2023\n",
    "while counter >=1910:\n",
    "    print(counter, 'Year')\n",
    "    counter -=1"
   ]
  },
  {
   "cell_type": "code",
   "execution_count": null,
   "id": "1d5f9e60",
   "metadata": {},
   "outputs": [],
   "source": []
  }
 ],
 "metadata": {
  "kernelspec": {
   "display_name": "Python 3 (ipykernel)",
   "language": "python",
   "name": "python3"
  },
  "language_info": {
   "codemirror_mode": {
    "name": "ipython",
    "version": 3
   },
   "file_extension": ".py",
   "mimetype": "text/x-python",
   "name": "python",
   "nbconvert_exporter": "python",
   "pygments_lexer": "ipython3",
   "version": "3.9.13"
  }
 },
 "nbformat": 4,
 "nbformat_minor": 5
}
