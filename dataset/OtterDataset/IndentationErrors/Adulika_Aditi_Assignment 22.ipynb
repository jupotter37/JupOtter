{
 "cells": [
  {
   "cell_type": "markdown",
   "id": "9c5827aa",
   "metadata": {},
   "source": [
    "Q1. What is the result of the code, and explain?\n",
    "\n",
    "\n",
    "X = 'iNeuron'\n",
    "def func():\n",
    "print(X)\n",
    "\n",
    "\n",
    "func()"
   ]
  },
  {
   "cell_type": "markdown",
   "id": "736f604f",
   "metadata": {},
   "source": [
    "#explaination:\n",
    "X = 'iNeuron': This line assigns the string 'iNeuron' to the variable X.\n",
    "\n",
    "def func():: This line defines a function named func().\n",
    "\n",
    "print(X): This line is intended to print the value of the variable X within the function. However, there's an indentation issue. Python relies on proper indentation to determine the structure of code blocks. In this case, the print(X) line should be indented to be inside the function definition.\n",
    "\n",
    "func(): This line calls the function func()."
   ]
  },
  {
   "cell_type": "code",
   "execution_count": 1,
   "id": "bb59fb5b",
   "metadata": {},
   "outputs": [
    {
     "ename": "IndentationError",
     "evalue": "expected an indented block (165529225.py, line 3)",
     "output_type": "error",
     "traceback": [
      "\u001b[1;36m  File \u001b[1;32m\"C:\\Users\\Admin\\AppData\\Local\\Temp\\ipykernel_4956\\165529225.py\"\u001b[1;36m, line \u001b[1;32m3\u001b[0m\n\u001b[1;33m    print(X)\u001b[0m\n\u001b[1;37m    ^\u001b[0m\n\u001b[1;31mIndentationError\u001b[0m\u001b[1;31m:\u001b[0m expected an indented block\n"
     ]
    }
   ],
   "source": [
    "X = 'iNeuron'\n",
    "def func():\n",
    "print(X)"
   ]
  },
  {
   "cell_type": "code",
   "execution_count": null,
   "id": "e2701167",
   "metadata": {},
   "outputs": [],
   "source": [
    "To fix this error we should properly indent the print(X) line under the func() function definition"
   ]
  },
  {
   "cell_type": "code",
   "execution_count": 2,
   "id": "9b29448a",
   "metadata": {},
   "outputs": [
    {
     "name": "stdout",
     "output_type": "stream",
     "text": [
      "iNeuron\n"
     ]
    }
   ],
   "source": [
    "X = 'iNeuron'\n",
    "def func():\n",
    "    print(X)\n",
    "\n",
    "func()"
   ]
  },
  {
   "cell_type": "markdown",
   "id": "cc93b1f2",
   "metadata": {},
   "source": [
    "Q2. What is the result of the code, and explain?\n",
    "\n",
    "\n",
    ">>> X = 'iNeuron'\n",
    ">>> def func():\n",
    "X = 'NI!'\n",
    "\n",
    "\n",
    ">>> func()\n",
    ">>> print(X)"
   ]
  },
  {
   "cell_type": "markdown",
   "id": "951b5278",
   "metadata": {},
   "source": [
    "explanation:\n",
    "When the function func() is called, it creates a local variable X with the value 'NI!'. However, this local variable X is separate from the global variable X. The global variable X remains unchanged with the value 'iNeuron'. Therefore, when print(X) is executed outside the function, it prints the value of the global variable X, which is 'iNeuron'. The local variable X created within the function does not affect the value of the global variable X."
   ]
  },
  {
   "cell_type": "code",
   "execution_count": 7,
   "id": "a1f6471d",
   "metadata": {},
   "outputs": [
    {
     "name": "stdout",
     "output_type": "stream",
     "text": [
      "iNeuron\n"
     ]
    }
   ],
   "source": [
    "X = 'iNeuron'\n",
    "\n",
    "def func():\n",
    "    X = 'NI!'\n",
    "\n",
    "func()\n",
    "\n",
    "print(X)"
   ]
  },
  {
   "cell_type": "markdown",
   "id": "b491f0cb",
   "metadata": {},
   "source": [
    "Q3. What does this code print, and why?\n",
    "\n",
    "\n",
    "X = 'iNeuron'\n",
    "def func():\n",
    "X = 'NI'\n",
    "print(X)\n",
    "\n",
    "\n",
    "func()\n",
    "print(X)"
   ]
  },
  {
   "cell_type": "code",
   "execution_count": 4,
   "id": "b9fbd462",
   "metadata": {},
   "outputs": [
    {
     "name": "stdout",
     "output_type": "stream",
     "text": [
      "NI\n",
      "iNeuron\n"
     ]
    }
   ],
   "source": [
    "X = 'iNeuron'\n",
    "\n",
    "def func():\n",
    "    X = 'NI'\n",
    "    print(X)\n",
    "\n",
    "func()\n",
    "print(X)"
   ]
  },
  {
   "cell_type": "raw",
   "id": "48eed774",
   "metadata": {},
   "source": [
    "explaination:X variable inside the function func() is local to the function and doesn't affect the outer X variable defined outside of the function. As a result, even though they have the same name, they are distinct variables with different scopes."
   ]
  },
  {
   "cell_type": "markdown",
   "id": "0053b63f",
   "metadata": {},
   "source": [
    "Q4. What output does this code produce? Why?\n",
    "\n",
    "X = 'iNeuron'\n",
    "def func():\n",
    "    global X\n",
    "    X = 'NI'\n",
    "\n",
    "\n",
    "func()\n",
    "print(X)"
   ]
  },
  {
   "cell_type": "code",
   "execution_count": 5,
   "id": "e47dfdcc",
   "metadata": {},
   "outputs": [
    {
     "name": "stdout",
     "output_type": "stream",
     "text": [
      "NI\n"
     ]
    }
   ],
   "source": [
    "X = 'iNeuron'\n",
    "def func():\n",
    "    global X\n",
    "    X = 'NI'\n",
    "\n",
    "\n",
    "func()\n",
    "print(X)"
   ]
  },
  {
   "cell_type": "markdown",
   "id": "adbdb66a",
   "metadata": {},
   "source": [
    "explaination: the global keyword inside the func() function allows you to modify the value of the global variable X from within the function. When you call func(), it changes the value of the global X to 'NI'. Consequently, when you print the value of X after calling the function, it will show the updated value 'NI'."
   ]
  },
  {
   "cell_type": "markdown",
   "id": "0c313df2",
   "metadata": {},
   "source": [
    "Q5. What about this code—what’s the output, and why?\n",
    "\n",
    "\n",
    "X = 'iNeuron'\n",
    "def func():\n",
    "    X = 'NI'\n",
    "def nested():\n",
    "    print(X)\n",
    "    nested()\n",
    "\n",
    "\n",
    "func()\n",
    "X"
   ]
  },
  {
   "cell_type": "code",
   "execution_count": 2,
   "id": "50e5e608",
   "metadata": {},
   "outputs": [
    {
     "name": "stdout",
     "output_type": "stream",
     "text": [
      "NI\n"
     ]
    },
    {
     "data": {
      "text/plain": [
       "'iNeuron'"
      ]
     },
     "execution_count": 2,
     "metadata": {},
     "output_type": "execute_result"
    }
   ],
   "source": [
    "X = 'iNeuron'\n",
    "\n",
    "def func():\n",
    "    X = 'NI'\n",
    "    \n",
    "    def nested():\n",
    "        print(X)\n",
    "    \n",
    "    nested()\n",
    "\n",
    "func()\n",
    "X"
   ]
  },
  {
   "cell_type": "code",
   "execution_count": null,
   "id": "45c0f9f7",
   "metadata": {},
   "outputs": [],
   "source": [
    "Q6. How about this code: what is its output in Python 3, and explain?\n",
    "\n",
    "\n",
    "def func():\n",
    "    X = 'NI'\n",
    "def nested():\n",
    "    nonlocal X\n",
    "X = 'Spam'\n",
    "nested()\n",
    "print(X)\n",
    "\n",
    "\n",
    "func()"
   ]
  },
  {
   "cell_type": "code",
   "execution_count": 5,
   "id": "ba38c99d",
   "metadata": {},
   "outputs": [
    {
     "name": "stdout",
     "output_type": "stream",
     "text": [
      "Spam\n"
     ]
    }
   ],
   "source": [
    "def func():\n",
    "    X = 'NI'\n",
    "    \n",
    "    def nested():\n",
    "        nonlocal X\n",
    "        X = 'Spam'\n",
    "    \n",
    "    nested()\n",
    "    print(X)\n",
    "\n",
    "func()"
   ]
  },
  {
   "cell_type": "raw",
   "id": "2b1ac4bf",
   "metadata": {},
   "source": [
    "The nonlocal keyword is used to indicate that a variable refers to a variable in an outer scope. In the given code, when nonlocal X is used in the nested function, it refers to the X defined in the func function's scope. Therefore, when X is assigned the value 'Spam' inside the nested function, it modifies the same variable X declared in the func function, leading to the output 'Spam' when it's printed."
   ]
  },
  {
   "cell_type": "code",
   "execution_count": null,
   "id": "b12c1567",
   "metadata": {},
   "outputs": [],
   "source": []
  },
  {
   "cell_type": "code",
   "execution_count": null,
   "id": "4f11a186",
   "metadata": {},
   "outputs": [],
   "source": []
  }
 ],
 "metadata": {
  "kernelspec": {
   "display_name": "Python 3 (ipykernel)",
   "language": "python",
   "name": "python3"
  },
  "language_info": {
   "codemirror_mode": {
    "name": "ipython",
    "version": 3
   },
   "file_extension": ".py",
   "mimetype": "text/x-python",
   "name": "python",
   "nbconvert_exporter": "python",
   "pygments_lexer": "ipython3",
   "version": "3.9.13"
  }
 },
 "nbformat": 4,
 "nbformat_minor": 5
}
