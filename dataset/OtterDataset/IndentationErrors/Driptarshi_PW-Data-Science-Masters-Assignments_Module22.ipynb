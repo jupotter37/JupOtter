{
 "cells": [
  {
   "cell_type": "markdown",
   "id": "4b0b634b-a244-4b6a-a8fb-fb2b67ab0e76",
   "metadata": {},
   "source": [
    "## Q1.\n",
    "An exception in Python is an event that occurs during the execution of a program that disrupts the normal flow of the program's instructions. Examples include attempting to divide by zero or trying to access an element outside the bounds of a list.\n",
    "\n",
    "*Difference between Exceptions and Syntax Errors:*\n",
    "- *Syntax Errors:* These are detected by the Python parser before the program is executed and are the result of incorrect syntax. Example: print \"hello\" (missing parentheses in Python 3).\n",
    "- *Exceptions:* These are errors detected during execution. Example: 1 / 0 (division by zero)."
   ]
  },
  {
   "cell_type": "code",
   "execution_count": 5,
   "id": "22d0e44d-86ce-4c8e-84a8-4141910f4f46",
   "metadata": {},
   "outputs": [
    {
     "ename": "ZeroDivisionError",
     "evalue": "division by zero",
     "output_type": "error",
     "traceback": [
      "\u001b[0;31m---------------------------------------------------------------------------\u001b[0m",
      "\u001b[0;31mZeroDivisionError\u001b[0m                         Traceback (most recent call last)",
      "Cell \u001b[0;32mIn[5], line 6\u001b[0m\n\u001b[1;32m      1\u001b[0m \u001b[38;5;66;03m# Q2.\u001b[39;00m\n\u001b[1;32m      2\u001b[0m \u001b[38;5;66;03m# When an exception is not handled, it causes the program to terminate abruptly and an error message is displayed to the user.\u001b[39;00m\n\u001b[1;32m      3\u001b[0m \n\u001b[1;32m      4\u001b[0m \u001b[38;5;66;03m# Example:\u001b[39;00m\n\u001b[0;32m----> 6\u001b[0m \u001b[38;5;28mprint\u001b[39m(\u001b[38;5;241;43m1\u001b[39;49m\u001b[43m \u001b[49m\u001b[38;5;241;43m/\u001b[39;49m\u001b[43m \u001b[49m\u001b[38;5;241;43m0\u001b[39;49m)  \u001b[38;5;66;03m# This will raise a ZeroDivisionError\u001b[39;00m\n",
      "\u001b[0;31mZeroDivisionError\u001b[0m: division by zero"
     ]
    }
   ],
   "source": [
    "# Q2.\n",
    "# When an exception is not handled, it causes the program to terminate abruptly and an error message is displayed to the user.\n",
    "\n",
    "# Example:\n",
    "\n",
    "print(1 / 0)  # This will raise a ZeroDivisionError\n",
    "\n"
   ]
  },
  {
   "cell_type": "code",
   "execution_count": 6,
   "id": "4dd77e50-a8d8-4185-a124-ef179c382b08",
   "metadata": {},
   "outputs": [
    {
     "name": "stdout",
     "output_type": "stream",
     "text": [
      "Cannot divide by zero!\n"
     ]
    }
   ],
   "source": [
    "# Q3.\n",
    "# The try and except statements are used to catch and handle exceptions.\n",
    "\n",
    "# Example:\n",
    "\n",
    "try:\n",
    "    result = 1 / 0\n",
    "except ZeroDivisionError:\n",
    "    print(\"Cannot divide by zero!\")"
   ]
  },
  {
   "cell_type": "code",
   "execution_count": 8,
   "id": "90b575f2-1881-4361-96ba-bce8da98b1a6",
   "metadata": {},
   "outputs": [
    {
     "ename": "IndentationError",
     "evalue": "unindent does not match any outer indentation level (<tokenize>, line 8)",
     "output_type": "error",
     "traceback": [
      "\u001b[0;36m  File \u001b[0;32m<tokenize>:8\u001b[0;36m\u001b[0m\n\u001b[0;31m    except ZeroDivisionError:\u001b[0m\n\u001b[0m    ^\u001b[0m\n\u001b[0;31mIndentationError\u001b[0m\u001b[0;31m:\u001b[0m unindent does not match any outer indentation level\n"
     ]
    }
   ],
   "source": [
    "# Q4.\n",
    "a. # try and else*\n",
    "   # The else block is executed only if no exceptions were raised in the try block.\n",
    "\n",
    "  \n",
    "           try:\n",
    "               result = 1 / 1\n",
    "            except ZeroDivisionError:\n",
    "                print(\"Cannot divide by zero!\")\n",
    "            else:\n",
    "                print(\"Division successful!\")\n",
    "\n",
    "\n",
    "b. # finally\n",
    "   # The finally block is executed no matter what, whether an exception was raised or not.\n",
    "\n",
    "   # Example\n",
    "   \n",
    "    try:\n",
    "        result = 1 / 0\n",
    "    except ZeroDivisionError:\n",
    "        print(\"Cannot divide by zero!\")\n",
    "    finally:\n",
    "        print(\"This will always execute.\")\n",
    "   \n",
    "\n",
    " # c. raise\n",
    "  # The raise statement allows the programmer to force a specific exception to occur.\n",
    "   \n",
    " # Example\n",
    "\n",
    "try:\n",
    "       raise ValueError(\"An error occurred!\")\n",
    "    except ValueError as e:\n",
    "        print(e)\n",
    "   "
   ]
  },
  {
   "cell_type": "code",
   "execution_count": 9,
   "id": "c1e4ec7a-cd4c-4ea2-8540-960d2f3d638f",
   "metadata": {},
   "outputs": [
    {
     "name": "stdout",
     "output_type": "stream",
     "text": [
      "This is a custom error\n"
     ]
    }
   ],
   "source": [
    "# Q5.\n",
    "# Custom exceptions allow you to create user-defined exceptions that can provide more specific error information than the built-in exceptions. They are useful for handling specific situations that the built-in exceptions may not cover.\n",
    "\n",
    "# Example:\n",
    "\n",
    "class MyCustomError(Exception):\n",
    "    pass\n",
    "\n",
    "try:\n",
    "    raise MyCustomError(\"This is a custom error\")\n",
    "except MyCustomError as e:\n",
    "    print(e)\n"
   ]
  },
  {
   "cell_type": "code",
   "execution_count": 10,
   "id": "140e53ee-db43-42a2-8801-b66bb10d0ee2",
   "metadata": {},
   "outputs": [
    {
     "name": "stdout",
     "output_type": "stream",
     "text": [
      "InvalidAgeError: 150 - Age must be between 0 and 120\n"
     ]
    }
   ],
   "source": [
    "# Q6.\n",
    "class InvalidAgeError(Exception):\n",
    "    \"\"\"Exception raised for errors in the input age.\"\"\"\n",
    "    def __init__(self, age, message=\"Age must be between 0 and 120\"):\n",
    "        self.age = age\n",
    "        self.message = message\n",
    "        super().__init__(self.message)\n",
    "\n",
    "def set_age(age):\n",
    "    if not (0 <= age <= 120):\n",
    "        raise InvalidAgeError(age)\n",
    "    return f\"Age is set to {age}\"\n",
    "\n",
    "try:\n",
    "    print(set_age(150))\n",
    "except InvalidAgeError as e:\n",
    "    print(f\"InvalidAgeError: {e.age} - {e.message}\")"
   ]
  },
  {
   "cell_type": "code",
   "execution_count": null,
   "id": "6bd72625-d85f-4896-a0e0-fff301784d63",
   "metadata": {},
   "outputs": [],
   "source": []
  }
 ],
 "metadata": {
  "kernelspec": {
   "display_name": "Python 3 (ipykernel)",
   "language": "python",
   "name": "python3"
  },
  "language_info": {
   "codemirror_mode": {
    "name": "ipython",
    "version": 3
   },
   "file_extension": ".py",
   "mimetype": "text/x-python",
   "name": "python",
   "nbconvert_exporter": "python",
   "pygments_lexer": "ipython3",
   "version": "3.10.8"
  }
 },
 "nbformat": 4,
 "nbformat_minor": 5
}
