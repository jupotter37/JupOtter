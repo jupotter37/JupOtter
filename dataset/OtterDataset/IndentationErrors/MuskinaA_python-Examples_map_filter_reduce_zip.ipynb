{
 "cells": [
  {
   "cell_type": "code",
   "execution_count": 2,
   "id": "219243df-4777-4eca-85a2-d519daca7b90",
   "metadata": {},
   "outputs": [],
   "source": [
    "def eve_odd(*args):\n",
    "    list1=[]\n",
    "    list2=[]\n",
    "    for i in args:\n",
    "        if i%2==0:\n",
    "            list1.append(i)\n",
    "        else:\n",
    "            list2.append(i)\n",
    "    return list1,list2"
   ]
  },
  {
   "cell_type": "code",
   "execution_count": 4,
   "id": "af421903-6d41-42f0-aa66-9b6c0dc74daf",
   "metadata": {},
   "outputs": [
    {
     "data": {
      "text/plain": [
       "([2, 2, 2, 2, 2, 534, -234, -24, -42], [3, 1, 3, 1, 53, -23])"
      ]
     },
     "execution_count": 4,
     "metadata": {},
     "output_type": "execute_result"
    }
   ],
   "source": [
    "eve_odd(2,3,1,2,3,2,2,2,1,534,53,-234,-24,-23,-42)"
   ]
  },
  {
   "cell_type": "code",
   "execution_count": 5,
   "id": "73d55c14-1ee1-4feb-99e6-5d1f9b9e111e",
   "metadata": {},
   "outputs": [
    {
     "data": {
      "text/plain": [
       "([2, 4, 6, 22, 442, 6454], [])"
      ]
     },
     "execution_count": 5,
     "metadata": {},
     "output_type": "execute_result"
    }
   ],
   "source": [
    "eve_odd(2,4,6,22,442,6454)"
   ]
  },
  {
   "cell_type": "code",
   "execution_count": 6,
   "id": "ea34f8ed-2170-47ca-9aad-c1b1ae26d3a6",
   "metadata": {},
   "outputs": [
    {
     "data": {
      "text/plain": [
       "([332, 0, 56, 80, 56, 350], [1, 23, 43, 45, 87])"
      ]
     },
     "execution_count": 6,
     "metadata": {},
     "output_type": "execute_result"
    }
   ],
   "source": [
    "eve_odd(1,23,43,45,332,0,56,80,56,87,350)"
   ]
  },
  {
   "cell_type": "code",
   "execution_count": 20,
   "id": "00b81ea1-a806-4382-8b77-1fd7998eb37b",
   "metadata": {},
   "outputs": [],
   "source": [
    "def print1(**kwargs):\n",
    "    for a,b in kwargs.items():\n",
    "       print(a,\":\",b)"
   ]
  },
  {
   "cell_type": "code",
   "execution_count": 21,
   "id": "b1ec9f00-379a-4f25-a5c1-c9d01bddf432",
   "metadata": {},
   "outputs": [
    {
     "name": "stdout",
     "output_type": "stream",
     "text": [
      "eng1 : 12\n",
      "eng2 : 24\n",
      "eng3 : 36\n"
     ]
    }
   ],
   "source": [
    "print1(eng1=12,eng2=24,eng3=36)"
   ]
  },
  {
   "cell_type": "code",
   "execution_count": null,
   "id": "197f24c9-8839-4b22-ac11-4caa15df0d54",
   "metadata": {},
   "outputs": [],
   "source": [
    "def print2(*args):\n",
    "    for value in args:\n",
    "        print(\"eng1\":value)"
   ]
  },
  {
   "cell_type": "code",
   "execution_count": 22,
   "id": "139a0a37-777b-4c3f-b067-0dd30551cf11",
   "metadata": {},
   "outputs": [
    {
     "name": "stdout",
     "output_type": "stream",
     "text": [
      "maths1 : 12\n",
      "maths2 : 24\n",
      "maths3 : 36\n"
     ]
    }
   ],
   "source": [
    "print1(maths1=12,maths2=24,maths3=36)"
   ]
  },
  {
   "cell_type": "code",
   "execution_count": 23,
   "id": "7b78b209-0203-4c3f-ad7a-b1413edffe9e",
   "metadata": {},
   "outputs": [],
   "source": [
    "def sum1(a,b):\n",
    "    return a+b"
   ]
  },
  {
   "cell_type": "code",
   "execution_count": 24,
   "id": "ca71f377-3c03-4ce4-a64b-5f86e16e30a3",
   "metadata": {},
   "outputs": [
    {
     "data": {
      "text/plain": [
       "123"
      ]
     },
     "execution_count": 24,
     "metadata": {},
     "output_type": "execute_result"
    }
   ],
   "source": [
    "sum1(a=78,b=45)"
   ]
  },
  {
   "cell_type": "code",
   "execution_count": 25,
   "id": "1011621c-468a-4a57-8176-4ace4b5cc295",
   "metadata": {},
   "outputs": [
    {
     "data": {
      "text/plain": [
       "123"
      ]
     },
     "execution_count": 25,
     "metadata": {},
     "output_type": "execute_result"
    }
   ],
   "source": [
    "sum1(78,45)"
   ]
  },
  {
   "cell_type": "code",
   "execution_count": 27,
   "id": "dbe7b285-6195-4514-9d54-e94bb1bae381",
   "metadata": {},
   "outputs": [],
   "source": [
    "def print3(**kwargs):\n",
    "    for a,b in kwargs.items():\n",
    "        print(a,'=',b)"
   ]
  },
  {
   "cell_type": "code",
   "execution_count": 29,
   "id": "7ed065c2-b20e-4de6-802d-57e745d135b5",
   "metadata": {},
   "outputs": [
    {
     "name": "stdout",
     "output_type": "stream",
     "text": [
      "A = 10\n",
      "B = 11\n",
      "C = 12\n",
      "D = 13\n",
      "E = 14\n",
      "F = 15\n"
     ]
    }
   ],
   "source": [
    "print3(A=10,B=11,C=12,D=13,E=14,F=15)"
   ]
  },
  {
   "cell_type": "code",
   "execution_count": 34,
   "id": "7afb99a6-d637-48a2-adb7-0606e9f75d0d",
   "metadata": {},
   "outputs": [
    {
     "name": "stdout",
     "output_type": "stream",
     "text": [
      "A = 10\n",
      "B = 11\n",
      "C = 12\n",
      "D = 13\n",
      "E = 14\n",
      "F = 15\n",
      "a = 0\n",
      "b = 1\n"
     ]
    }
   ],
   "source": [
    "print3(A=10,B=11,C=12,D=13,E=14,F=15,a=0,b=1)"
   ]
  },
  {
   "cell_type": "code",
   "execution_count": 35,
   "id": "3128e342-d64d-4c16-8771-e669f20b2d2b",
   "metadata": {},
   "outputs": [
    {
     "name": "stdout",
     "output_type": "stream",
     "text": [
      "calculus1 = 44\n",
      "calculus2 = 46\n"
     ]
    }
   ],
   "source": [
    "print3(calculus1=44,calculus2=46)"
   ]
  },
  {
   "cell_type": "code",
   "execution_count": 56,
   "id": "b105c752-0729-4bb2-91ce-120d070def15",
   "metadata": {},
   "outputs": [
    {
     "data": {
      "text/plain": [
       "[1, 4, 9, 16, 25]"
      ]
     },
     "execution_count": 56,
     "metadata": {},
     "output_type": "execute_result"
    }
   ],
   "source": [
    "list1=[1,2,3,4,5]\n",
    "list2=[]\n",
    "for i in list1:\n",
    "    list2.append(i**2)\n",
    "list2"
   ]
  },
  {
   "cell_type": "code",
   "execution_count": 40,
   "id": "fa3dcd46-afa0-4125-8f04-24f014966afd",
   "metadata": {},
   "outputs": [],
   "source": [
    "def squar1(*args):\n",
    "    for i in args:\n",
    "        print(i**2)"
   ]
  },
  {
   "cell_type": "code",
   "execution_count": 41,
   "id": "469d23ae-4a88-45fb-8883-f86ee4b41301",
   "metadata": {},
   "outputs": [
    {
     "name": "stdout",
     "output_type": "stream",
     "text": [
      "529\n",
      "400\n",
      "1089\n",
      "900\n"
     ]
    }
   ],
   "source": [
    "squar1(23,20,33,30)"
   ]
  },
  {
   "cell_type": "code",
   "execution_count": 42,
   "id": "81c4ff76-a85e-478b-8175-97fd78887419",
   "metadata": {},
   "outputs": [
    {
     "name": "stdout",
     "output_type": "stream",
     "text": [
      "529\n",
      "400\n",
      "1089\n",
      "900\n",
      "144\n",
      "576\n",
      "0\n"
     ]
    }
   ],
   "source": [
    "squar1(23,20,33,30,-12,-24,0)"
   ]
  },
  {
   "cell_type": "code",
   "execution_count": 54,
   "id": "7b87c28b-44b8-46ba-8aba-40e18f7c7f50",
   "metadata": {},
   "outputs": [],
   "source": [
    "def squar2(**kwargs):\n",
    "    for a in kwargs.values():\n",
    "        print(a,':',a**2)"
   ]
  },
  {
   "cell_type": "code",
   "execution_count": 55,
   "id": "af0a4c43-5dd0-413e-856a-0bd4e5e27897",
   "metadata": {},
   "outputs": [
    {
     "name": "stdout",
     "output_type": "stream",
     "text": [
      "4 : 16\n"
     ]
    }
   ],
   "source": [
    "squar2(a=4)"
   ]
  },
  {
   "cell_type": "code",
   "execution_count": 57,
   "id": "0a3961d8-0761-42e5-8816-dc15c306b5a9",
   "metadata": {},
   "outputs": [
    {
     "data": {
      "text/plain": [
       "[1, 4, 9, 16, 25]"
      ]
     },
     "execution_count": 57,
     "metadata": {},
     "output_type": "execute_result"
    }
   ],
   "source": [
    "list1=[1,2,3,4,5]\n",
    "list2=[]\n",
    "for i in list1:\n",
    "    list2.append(i**2)\n",
    "list2"
   ]
  },
  {
   "cell_type": "code",
   "execution_count": 58,
   "id": "efe324e8-26d2-485c-a90d-97045a7217e1",
   "metadata": {},
   "outputs": [],
   "source": [
    "def square1(a):\n",
    "    return a**2"
   ]
  },
  {
   "cell_type": "code",
   "execution_count": 103,
   "id": "b51c6895-2a0b-4b87-a019-c30ab6abdfa3",
   "metadata": {},
   "outputs": [
    {
     "name": "stdout",
     "output_type": "stream",
     "text": [
      "1\n",
      "4\n",
      "9\n",
      "16\n",
      "25\n"
     ]
    }
   ],
   "source": [
    "list1=[1,2,3,4,5]\n",
    "for i in list1:\n",
    "    print(square1(i))"
   ]
  },
  {
   "cell_type": "code",
   "execution_count": 104,
   "id": "6217b597-0cdd-461d-81a4-4730f2840b13",
   "metadata": {},
   "outputs": [
    {
     "data": {
      "text/plain": [
       "[1, 4, 9, 16, 25]"
      ]
     },
     "execution_count": 104,
     "metadata": {},
     "output_type": "execute_result"
    }
   ],
   "source": [
    "list(map(square1,list1))"
   ]
  },
  {
   "cell_type": "code",
   "execution_count": 64,
   "id": "58fc33da-1e54-4edc-99be-6993fb71cff8",
   "metadata": {},
   "outputs": [
    {
     "data": {
      "text/plain": [
       "[1, 4, 9, 16, 25]"
      ]
     },
     "execution_count": 64,
     "metadata": {},
     "output_type": "execute_result"
    }
   ],
   "source": [
    "list(map(lambda a:a**2,list1))"
   ]
  },
  {
   "cell_type": "code",
   "execution_count": 66,
   "id": "76300941-c80b-4b65-a6c8-8175aeb69ac8",
   "metadata": {},
   "outputs": [
    {
     "name": "stdout",
     "output_type": "stream",
     "text": [
      "maths\n",
      "eng\n",
      "phy\n",
      "chem\n"
     ]
    }
   ],
   "source": [
    "list1=['maths','eng','phy','chem']\n",
    "for value in list1:\n",
    "    print(value)"
   ]
  },
  {
   "cell_type": "code",
   "execution_count": 70,
   "id": "9dd08fe2-5243-4fd9-ae17-989b270d780e",
   "metadata": {},
   "outputs": [
    {
     "name": "stdout",
     "output_type": "stream",
     "text": [
      "ma\n",
      "en\n",
      "ph\n",
      "ch\n"
     ]
    }
   ],
   "source": [
    "list1=['maths','eng','phy','chem']\n",
    "for value in list1:\n",
    "    print(value[:2])"
   ]
  },
  {
   "cell_type": "code",
   "execution_count": 72,
   "id": "14153ec0-ce25-4b5a-a804-b6303d597423",
   "metadata": {},
   "outputs": [
    {
     "data": {
      "text/plain": [
       "['ma', 'en', 'ph', 'ch']"
      ]
     },
     "execution_count": 72,
     "metadata": {},
     "output_type": "execute_result"
    }
   ],
   "source": [
    "list1=['maths','eng','phy','chem']\n",
    "list(map(lambda a:a[:2],list1))"
   ]
  },
  {
   "cell_type": "code",
   "execution_count": 73,
   "id": "fc903015-d93f-4f9b-a0b1-eba981a7eb65",
   "metadata": {},
   "outputs": [],
   "source": [
    "def sum1(a,b):\n",
    "    return a+b"
   ]
  },
  {
   "cell_type": "code",
   "execution_count": 84,
   "id": "3f886f6e-466a-4104-ad01-ddf0adb52b67",
   "metadata": {},
   "outputs": [
    {
     "name": "stdout",
     "output_type": "stream",
     "text": [
      "15\n"
     ]
    }
   ],
   "source": [
    "list1=[1,2,3,4,5]\n",
    "from functools import reduce\n",
    "print(reduce(sum1,list1))"
   ]
  },
  {
   "cell_type": "code",
   "execution_count": 77,
   "id": "fcac7800-89fc-438d-9d7f-7beabf683ef9",
   "metadata": {},
   "outputs": [
    {
     "name": "stdout",
     "output_type": "stream",
     "text": [
      "15\n"
     ]
    }
   ],
   "source": [
    "print(reduce(lambda a,b:a+b,list1))"
   ]
  },
  {
   "cell_type": "code",
   "execution_count": 78,
   "id": "aa27ec99-99a2-46e5-832c-4709e6477c80",
   "metadata": {},
   "outputs": [
    {
     "name": "stdout",
     "output_type": "stream",
     "text": [
      "15\n"
     ]
    }
   ],
   "source": [
    "import functools\n",
    "print(functools.reduce(lambda a,b:a+b,list1))"
   ]
  },
  {
   "cell_type": "code",
   "execution_count": 79,
   "id": "c9a14da9-ba55-4ea0-aa57-9f9b4e851914",
   "metadata": {},
   "outputs": [
    {
     "data": {
      "text/plain": [
       "['GenericAlias',\n",
       " 'RLock',\n",
       " 'WRAPPER_ASSIGNMENTS',\n",
       " 'WRAPPER_UPDATES',\n",
       " '_CacheInfo',\n",
       " '_HashedSeq',\n",
       " '_NOT_FOUND',\n",
       " '__all__',\n",
       " '__builtins__',\n",
       " '__cached__',\n",
       " '__doc__',\n",
       " '__file__',\n",
       " '__loader__',\n",
       " '__name__',\n",
       " '__package__',\n",
       " '__spec__',\n",
       " '_c3_merge',\n",
       " '_c3_mro',\n",
       " '_compose_mro',\n",
       " '_convert',\n",
       " '_find_impl',\n",
       " '_ge_from_gt',\n",
       " '_ge_from_le',\n",
       " '_ge_from_lt',\n",
       " '_gt_from_ge',\n",
       " '_gt_from_le',\n",
       " '_gt_from_lt',\n",
       " '_initial_missing',\n",
       " '_le_from_ge',\n",
       " '_le_from_gt',\n",
       " '_le_from_lt',\n",
       " '_lru_cache_wrapper',\n",
       " '_lt_from_ge',\n",
       " '_lt_from_gt',\n",
       " '_lt_from_le',\n",
       " '_make_key',\n",
       " '_unwrap_partial',\n",
       " 'cache',\n",
       " 'cached_property',\n",
       " 'cmp_to_key',\n",
       " 'get_cache_token',\n",
       " 'lru_cache',\n",
       " 'namedtuple',\n",
       " 'partial',\n",
       " 'partialmethod',\n",
       " 'recursive_repr',\n",
       " 'reduce',\n",
       " 'singledispatch',\n",
       " 'singledispatchmethod',\n",
       " 'total_ordering',\n",
       " 'update_wrapper',\n",
       " 'wraps']"
      ]
     },
     "execution_count": 79,
     "metadata": {},
     "output_type": "execute_result"
    }
   ],
   "source": [
    "dir(functools)"
   ]
  },
  {
   "cell_type": "code",
   "execution_count": 80,
   "id": "108102fc-4fa1-412f-99ce-7f44e8ffbfd4",
   "metadata": {},
   "outputs": [
    {
     "name": "stdout",
     "output_type": "stream",
     "text": [
      "-786\n"
     ]
    }
   ],
   "source": [
    "list3=[12,4,0,-65,35,-786,4657]\n",
    "print(functools.reduce(lambda a,b:a if a<b else b,list3))"
   ]
  },
  {
   "cell_type": "code",
   "execution_count": 81,
   "id": "992f770c-6353-4bb4-b94c-3780eda17047",
   "metadata": {},
   "outputs": [
    {
     "name": "stdout",
     "output_type": "stream",
     "text": [
      "4657\n"
     ]
    }
   ],
   "source": [
    "list3=[12,4,0,-65,35,-786,4657]\n",
    "print(functools.reduce(lambda a,b:a if a>b else b,list3))"
   ]
  },
  {
   "cell_type": "code",
   "execution_count": 83,
   "id": "148845da-22d8-4259-b4f3-4b6cab0e7c30",
   "metadata": {},
   "outputs": [
    {
     "name": "stdout",
     "output_type": "stream",
     "text": [
      "57697\n"
     ]
    }
   ],
   "source": [
    "list3=[12,4,0,-65,35,57697,-786,4657]\n",
    "print(functools.reduce(lambda a,b:a if a>b else b,list3))"
   ]
  },
  {
   "cell_type": "code",
   "execution_count": 85,
   "id": "a86565ba-dcaf-4776-b27d-b8a7b9c6ee49",
   "metadata": {},
   "outputs": [],
   "source": [
    "def filter1(a):\n",
    "    return a%2==0"
   ]
  },
  {
   "cell_type": "code",
   "execution_count": 87,
   "id": "76c5f81c-ab87-4344-958d-9c1d194f54a2",
   "metadata": {},
   "outputs": [
    {
     "data": {
      "text/plain": [
       "False"
      ]
     },
     "execution_count": 87,
     "metadata": {},
     "output_type": "execute_result"
    }
   ],
   "source": [
    "filter1(11)"
   ]
  },
  {
   "cell_type": "code",
   "execution_count": 88,
   "id": "86a74edf-ec03-4340-ab57-838b2e44d74f",
   "metadata": {},
   "outputs": [],
   "source": [
    "def filter12(a):\n",
    "    if a%2==0:\n",
    "        return True\n",
    "    else:\n",
    "        return False"
   ]
  },
  {
   "cell_type": "code",
   "execution_count": 90,
   "id": "3f65e116-ae7b-4736-8434-82edcb671d4e",
   "metadata": {},
   "outputs": [
    {
     "data": {
      "text/plain": [
       "[12, 4, 0, -786]"
      ]
     },
     "execution_count": 90,
     "metadata": {},
     "output_type": "execute_result"
    }
   ],
   "source": [
    "list3=[12,4,0,-65,35,-786,4657]\n",
    "list(filter(filter1,list3))"
   ]
  },
  {
   "cell_type": "code",
   "execution_count": 91,
   "id": "9227f24c-2f4d-4100-8cbe-887544f4327f",
   "metadata": {},
   "outputs": [
    {
     "data": {
      "text/plain": [
       "[12, 4, 0, -786]"
      ]
     },
     "execution_count": 91,
     "metadata": {},
     "output_type": "execute_result"
    }
   ],
   "source": [
    "list(filter(filter12,list3))"
   ]
  },
  {
   "cell_type": "code",
   "execution_count": 93,
   "id": "051d0f95-fa65-4db3-b6cc-571a7cab3b70",
   "metadata": {},
   "outputs": [
    {
     "data": {
      "text/plain": [
       "[12, 4, 0, -786]"
      ]
     },
     "execution_count": 93,
     "metadata": {},
     "output_type": "execute_result"
    }
   ],
   "source": [
    "list(filter(lambda a:True if a%2==0 else False,list3))"
   ]
  },
  {
   "cell_type": "code",
   "execution_count": 99,
   "id": "29204dd7-8ee7-41f7-9fd9-766752018145",
   "metadata": {},
   "outputs": [
    {
     "name": "stdout",
     "output_type": "stream",
     "text": [
      "[1, 3, 7, 9, 11, 33, 55, 77, 99, 23, 45, 67, 89]\n",
      "99\n",
      "[11, 12, 13, 14, 16, 17, 18, 19, 10, 21, 32, 43, 54, 65, 76, 87, 98, 109, 20, 30, 33, 44, 55, 66, 77, 88, 99, 100]\n"
     ]
    }
   ],
   "source": [
    "list2=[1,2,3,4,6,7,8,9,0,11,22,33,44,55,66,77,88,99,10,20,23,34,45,56,67,78,89,90]\n",
    "print(list(filter(lambda a:True if a%2==1 else False,list2)))\n",
    "print(functools.reduce(lambda a,b:a if a>b else b,list2))\n",
    "print(list(map(lambda a:a+10,list2)))"
   ]
  },
  {
   "cell_type": "code",
   "execution_count": 97,
   "id": "367aaa63-f005-4f67-ae2c-64953bb99841",
   "metadata": {},
   "outputs": [
    {
     "data": {
      "text/plain": [
       "[1, 3, 7, 9, 11, 33, 55, 77, 99, 23, 45, 67, 89]"
      ]
     },
     "execution_count": 97,
     "metadata": {},
     "output_type": "execute_result"
    }
   ],
   "source": [
    "list2=[1,2,3,4,6,7,8,9,0,11,22,33,44,55,66,77,88,99,10,20,23,34,45,56,67,78,89,90]\n",
    "list(filter(lambda a:True if a%2==1 else False,list2))"
   ]
  },
  {
   "cell_type": "code",
   "execution_count": 102,
   "id": "ab87bd9e-ebc6-441c-a19e-49922f045001",
   "metadata": {},
   "outputs": [
    {
     "name": "stdout",
     "output_type": "stream",
     "text": [
      "['ArithmeticError', 'AssertionError', 'AttributeError', 'BaseException', 'BaseExceptionGroup', 'BlockingIOError', 'BrokenPipeError', 'BufferError', 'BytesWarning', 'ChildProcessError', 'ConnectionAbortedError', 'ConnectionError', 'ConnectionRefusedError', 'ConnectionResetError', 'DeprecationWarning', 'EOFError', 'Ellipsis', 'EncodingWarning', 'EnvironmentError', 'Exception', 'ExceptionGroup', 'False', 'FileExistsError', 'FileNotFoundError', 'FloatingPointError', 'FutureWarning', 'GeneratorExit', 'IOError', 'ImportError', 'ImportWarning', 'IndentationError', 'IndexError', 'InterruptedError', 'IsADirectoryError', 'KeyError', 'KeyboardInterrupt', 'LookupError', 'MemoryError', 'ModuleNotFoundError', 'NameError', 'None', 'NotADirectoryError', 'NotImplemented', 'NotImplementedError', 'OSError', 'OverflowError', 'PendingDeprecationWarning', 'PermissionError', 'ProcessLookupError', 'RecursionError', 'ReferenceError', 'ResourceWarning', 'RuntimeError', 'RuntimeWarning', 'StopAsyncIteration', 'StopIteration', 'SyntaxError', 'SyntaxWarning', 'SystemError', 'SystemExit', 'TabError', 'TimeoutError', 'True', 'TypeError', 'UnboundLocalError', 'UnicodeDecodeError', 'UnicodeEncodeError', 'UnicodeError', 'UnicodeTranslateError', 'UnicodeWarning', 'UserWarning', 'ValueError', 'Warning', 'WindowsError', 'ZeroDivisionError', '__IPYTHON__', '__build_class__', '__debug__', '__doc__', '__import__', '__loader__', '__name__', '__package__', '__spec__', 'abs', 'aiter', 'all', 'anext', 'any', 'ascii', 'bin', 'bool', 'breakpoint', 'bytearray', 'bytes', 'callable', 'chr', 'classmethod', 'compile', 'complex', 'copyright', 'credits', 'delattr', 'dict', 'dir', 'display', 'divmod', 'enumerate', 'eval', 'exec', 'execfile', 'filter', 'float', 'format', 'frozenset', 'get_ipython', 'getattr', 'globals', 'hasattr', 'hash', 'help', 'hex', 'id', 'input', 'int', 'isinstance', 'issubclass', 'iter', 'len', 'license', 'list', 'locals', 'map', 'max', 'memoryview', 'min', 'next', 'object', 'oct', 'open', 'ord', 'pow', 'print', 'property', 'range', 'repr', 'reversed', 'round', 'runfile', 'set', 'setattr', 'slice', 'sorted', 'staticmethod', 'str', 'sum', 'super', 'tuple', 'type', 'vars', 'zip']\n"
     ]
    }
   ],
   "source": [
    "print(dir(__builtins__))"
   ]
  },
  {
   "cell_type": "code",
   "execution_count": 2,
   "id": "f2d22bf8-200a-4b56-aee1-d136b29f040b",
   "metadata": {},
   "outputs": [
    {
     "data": {
      "text/plain": [
       "[(1, 11),\n",
       " (2, 12),\n",
       " (3, 13),\n",
       " (4, 14),\n",
       " (5, 15),\n",
       " (6, 16),\n",
       " (7, 17),\n",
       " (8, 18),\n",
       " (9, 19),\n",
       " (10, 20)]"
      ]
     },
     "execution_count": 2,
     "metadata": {},
     "output_type": "execute_result"
    }
   ],
   "source": [
    "list1=[1,2,3,4,5,6,7,8,9,10]\n",
    "list2=[11,12,13,14,15,16,17,18,19,20]\n",
    "list(zip(list1,list2))"
   ]
  },
  {
   "cell_type": "code",
   "execution_count": null,
   "id": "e3821aa1-568f-45ba-9b5c-8123c5fd9c8c",
   "metadata": {},
   "outputs": [],
   "source": []
  }
 ],
 "metadata": {
  "kernelspec": {
   "display_name": "Python 3 (ipykernel)",
   "language": "python",
   "name": "python3"
  },
  "language_info": {
   "codemirror_mode": {
    "name": "ipython",
    "version": 3
   },
   "file_extension": ".py",
   "mimetype": "text/x-python",
   "name": "python",
   "nbconvert_exporter": "python",
   "pygments_lexer": "ipython3",
   "version": "3.11.7"
  }
 },
 "nbformat": 4,
 "nbformat_minor": 5
}
