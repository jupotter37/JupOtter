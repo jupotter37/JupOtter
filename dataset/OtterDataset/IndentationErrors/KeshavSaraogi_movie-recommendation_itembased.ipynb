{
 "cells": [
  {
   "cell_type": "code",
   "execution_count": 1,
   "id": "1073abf7-3254-4c88-af9e-1bf9d1c140c1",
   "metadata": {},
   "outputs": [],
   "source": [
    "import pickle\n",
    "import numpy as np\n",
    "import pandas as pd\n",
    "import matplotlib.pyplot as plt\n",
    "from sklearn.utils import shuffle\n",
    "from datetime import datetime\n",
    "from sortedcontainers import SortedList\n",
    "\n",
    "# load in the data\n",
    "import os\n",
    "if not os.path.exists('user2movie.json') or \\\n",
    "   not os.path.exists('movie2user.json') or \\\n",
    "   not os.path.exists('usermovie2rating.json') or \\\n",
    "   not os.path.exists('usermovie2rating_test.json'):\n",
    "   import preprocess2dict\n",
    "\n",
    "\n",
    "with open('user2movie.json', 'rb') as f:\n",
    "  user2movie = pickle.load(f)\n",
    "\n",
    "with open('movie2user.json', 'rb') as f:\n",
    "  movie2user = pickle.load(f)\n",
    "\n",
    "with open('usermovie2rating.json', 'rb') as f:\n",
    "  usermovie2rating = pickle.load(f)\n",
    "\n",
    "with open('usermovie2rating_test.json', 'rb') as f:\n",
    "  usermovie2rating_test = pickle.load(f)"
   ]
  },
  {
   "cell_type": "code",
   "execution_count": 2,
   "id": "ea4ba7f4-c9bd-48fd-9a96-d86bb0eff963",
   "metadata": {},
   "outputs": [
    {
     "name": "stdout",
     "output_type": "stream",
     "text": [
      "N: 10000 M: 2000\n"
     ]
    }
   ],
   "source": [
    "N = np.max(list(user2movie.keys())) + 1\n",
    "# the test set may contain movies the train set doesn't have data on\n",
    "m1 = np.max(list(movie2user.keys()))\n",
    "m2 = np.max([m for (u, m), r in usermovie2rating_test.items()])\n",
    "M = max(m1, m2) + 1\n",
    "print(\"N:\", N, \"M:\", M)\n",
    "\n",
    "if M > 2000:\n",
    "  print(\"N =\", N, \"are you sure you want to continue?\")\n",
    "  print(\"Comment out these lines if so...\")\n",
    "  exit()"
   ]
  },
  {
   "cell_type": "code",
   "execution_count": 3,
   "id": "53f9ee42-0618-44d1-a3c5-7a8f8c3fb843",
   "metadata": {},
   "outputs": [],
   "source": [
    "K = 20 # number of neighbors we'd like to consider\n",
    "limit = 5 # number of common movies users must have in common in order to consider\n",
    "neighbors = [] # store neighbors in this list\n",
    "averages = [] # each item's average rating for later use\n",
    "deviations = [] # each item's deviation for later use\n",
    "\n",
    "for i in range(M):\n",
    "  # find the K closest items to item i\n",
    "  users_i = movie2user[i]\n",
    "  users_i_set = set(users_i)\n",
    "\n",
    "  # calculate avg and deviation\n",
    "  ratings_i = { user:usermovie2rating[(user, i)] for user in users_i }\n",
    "  avg_i = np.mean(list(ratings_i.values()))\n",
    "  dev_i = { user:(rating - avg_i) for user, rating in ratings_i.items() }\n",
    "  dev_i_values = np.array(list(dev_i.values()))\n",
    "  sigma_i = np.sqrt(dev_i_values.dot(dev_i_values))\n",
    "\n",
    "  # save these for later use\n",
    "  averages.append(avg_i)\n",
    "  deviations.append(dev_i)"
   ]
  },
  {
   "cell_type": "code",
   "execution_count": 6,
   "id": "8fd8efed-7d97-415f-a631-e15117dd993a",
   "metadata": {},
   "outputs": [
    {
     "ename": "IndentationError",
     "evalue": "expected an indented block after 'for' statement on line 2 (2997978880.py, line 4)",
     "output_type": "error",
     "traceback": [
      "\u001b[0;36m  Cell \u001b[0;32mIn[6], line 4\u001b[0;36m\u001b[0m\n\u001b[0;31m    if j != i:\u001b[0m\n\u001b[0m    ^\u001b[0m\n\u001b[0;31mIndentationError\u001b[0m\u001b[0;31m:\u001b[0m expected an indented block after 'for' statement on line 2\n"
     ]
    }
   ],
   "source": [
    "sl = SortedList()\n",
    "for j in range(M):\n",
    "# don't include yourself\n",
    "if j != i:\n",
    "  users_j = movie2user[j]\n",
    "  users_j_set = set(users_j)\n",
    "  common_users = (users_i_set & users_j_set) # intersection\n",
    "  if len(common_users) > limit:\n",
    "    # calculate avg and deviation\n",
    "    ratings_j = { user:usermovie2rating[(user, j)] for user in users_j }\n",
    "    avg_j = np.mean(list(ratings_j.values()))\n",
    "    dev_j = { user:(rating - avg_j) for user, rating in ratings_j.items() }\n",
    "    dev_j_values = np.array(list(dev_j.values()))\n",
    "    sigma_j = np.sqrt(dev_j_values.dot(dev_j_values))\n",
    "\n",
    "    # calculate correlation coefficient\n",
    "    numerator = sum(dev_i[m]*dev_j[m] for m in common_users)\n",
    "    w_ij = numerator / (sigma_i * sigma_j)\n",
    "\n",
    "    # insert into sorted list and truncate\n",
    "    # negate weight, because list is sorted ascending\n",
    "    # maximum value (1) is \"closest\"\n",
    "    sl.add((-w_ij, j))\n",
    "    if len(sl) > K:\n",
    "      del sl[-1]\n",
    "\n",
    "# store the neighbors\n",
    "neighbors.append(sl)\n",
    "\n",
    "# print out useful things\n",
    "if i % 1 == 0:\n",
    "print(i)\n"
   ]
  },
  {
   "cell_type": "code",
   "execution_count": 7,
   "id": "186f372c-5c48-4b9a-b414-76a4dadc095e",
   "metadata": {},
   "outputs": [],
   "source": [
    "def predict(i, u):\n",
    "  # calculate the weighted sum of deviations\n",
    "  numerator = 0\n",
    "  denominator = 0\n",
    "  for neg_w, j in neighbors[i]:\n",
    "    # remember, the weight is stored as its negative\n",
    "    # so the negative of the negative weight is the positive weight\n",
    "    try:\n",
    "      numerator += -neg_w * deviations[j][u]\n",
    "      denominator += abs(neg_w)\n",
    "    except KeyError:\n",
    "      # neighbor may not have been rated by the same user\n",
    "      # don't want to do dictionary lookup twice\n",
    "      # so just throw exception\n",
    "      pass\n",
    "\n",
    "  if denominator == 0:\n",
    "    prediction = averages[i]\n",
    "  else:\n",
    "    prediction = numerator / denominator + averages[i]\n",
    "  prediction = min(5, prediction)\n",
    "  prediction = max(0.5, prediction) # min rating is 0.5\n",
    "  return prediction\n"
   ]
  },
  {
   "cell_type": "code",
   "execution_count": 8,
   "id": "e0eac47a-639f-45d8-a71c-d824188a195d",
   "metadata": {},
   "outputs": [
    {
     "ename": "IndexError",
     "evalue": "list index out of range",
     "output_type": "error",
     "traceback": [
      "\u001b[0;31m---------------------------------------------------------------------------\u001b[0m",
      "\u001b[0;31mIndexError\u001b[0m                                Traceback (most recent call last)",
      "Cell \u001b[0;32mIn[8], line 5\u001b[0m\n\u001b[1;32m      2\u001b[0m train_targets \u001b[38;5;241m=\u001b[39m []\n\u001b[1;32m      3\u001b[0m \u001b[38;5;28;01mfor\u001b[39;00m (u, m), target \u001b[38;5;129;01min\u001b[39;00m usermovie2rating\u001b[38;5;241m.\u001b[39mitems():\n\u001b[1;32m      4\u001b[0m   \u001b[38;5;66;03m# calculate the prediction for this movie\u001b[39;00m\n\u001b[0;32m----> 5\u001b[0m   prediction \u001b[38;5;241m=\u001b[39m predict(m, u)\n\u001b[1;32m      7\u001b[0m   \u001b[38;5;66;03m# save the prediction and target\u001b[39;00m\n\u001b[1;32m      8\u001b[0m   train_predictions\u001b[38;5;241m.\u001b[39mappend(prediction)\n",
      "Cell \u001b[0;32mIn[7], line 5\u001b[0m, in \u001b[0;36mpredict\u001b[0;34m(i, u)\u001b[0m\n\u001b[1;32m      3\u001b[0m numerator \u001b[38;5;241m=\u001b[39m \u001b[38;5;241m0\u001b[39m\n\u001b[1;32m      4\u001b[0m denominator \u001b[38;5;241m=\u001b[39m \u001b[38;5;241m0\u001b[39m\n\u001b[0;32m----> 5\u001b[0m \u001b[38;5;28;01mfor\u001b[39;00m neg_w, j \u001b[38;5;129;01min\u001b[39;00m neighbors[i]:\n\u001b[1;32m      6\u001b[0m   \u001b[38;5;66;03m# remember, the weight is stored as its negative\u001b[39;00m\n\u001b[1;32m      7\u001b[0m   \u001b[38;5;66;03m# so the negative of the negative weight is the positive weight\u001b[39;00m\n\u001b[1;32m      8\u001b[0m   \u001b[38;5;28;01mtry\u001b[39;00m:\n\u001b[1;32m      9\u001b[0m     numerator \u001b[38;5;241m+\u001b[39m\u001b[38;5;241m=\u001b[39m \u001b[38;5;241m-\u001b[39mneg_w \u001b[38;5;241m*\u001b[39m deviations[j][u]\n",
      "\u001b[0;31mIndexError\u001b[0m: list index out of range"
     ]
    }
   ],
   "source": [
    "train_predictions = []\n",
    "train_targets = []\n",
    "for (u, m), target in usermovie2rating.items():\n",
    "  # calculate the prediction for this movie\n",
    "  prediction = predict(m, u)\n",
    "\n",
    "  # save the prediction and target\n",
    "  train_predictions.append(prediction)\n",
    "  train_targets.append(target)\n",
    "\n",
    "test_predictions = []\n",
    "test_targets = []\n",
    "# same thing for test set\n",
    "for (u, m), target in usermovie2rating_test.items():\n",
    "  # calculate the prediction for this movie\n",
    "  prediction = predict(m, u)\n",
    "\n",
    "  # save the prediction and target\n",
    "  test_predictions.append(prediction)\n",
    "  test_targets.append(target)"
   ]
  },
  {
   "cell_type": "code",
   "execution_count": null,
   "id": "c0e07507-c5ad-4780-b097-6a79d8407657",
   "metadata": {},
   "outputs": [],
   "source": [
    "# calculate accuracy\n",
    "def mse(p, t):\n",
    "  p = np.array(p)\n",
    "  t = np.array(t)\n",
    "  return np.mean((p - t)**2)\n",
    "\n",
    "print('train mse:', mse(train_predictions, train_targets))\n",
    "print('test mse:', mse(test_predictions, test_targets))"
   ]
  }
 ],
 "metadata": {
  "kernelspec": {
   "display_name": "Python 3 (ipykernel)",
   "language": "python",
   "name": "python3"
  },
  "language_info": {
   "codemirror_mode": {
    "name": "ipython",
    "version": 3
   },
   "file_extension": ".py",
   "mimetype": "text/x-python",
   "name": "python",
   "nbconvert_exporter": "python",
   "pygments_lexer": "ipython3",
   "version": "3.11.7"
  }
 },
 "nbformat": 4,
 "nbformat_minor": 5
}
