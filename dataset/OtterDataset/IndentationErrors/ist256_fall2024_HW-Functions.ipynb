{
 "cells": [
  {
   "cell_type": "markdown",
   "metadata": {
    "editable": true,
    "slideshow": {
     "slide_type": ""
    },
    "tags": []
   },
   "source": [
    "# Homework: Paint Estimator 2.0\n",
    "\n",
    "## The Problem\n",
    "\n",
    "\n",
    "The big-box hardware store *House Depot* is back. They want you to improve upon the App you wrote previously that estimates the amount of paint required to paint a room.\n",
    "\n",
    "Some of the program from the previous assignment will be the same but with the following two improvements:\n",
    "\n",
    "**Improvement 1** House depot sells 3 different qualities of paint:\n",
    "\n",
    "- 1 Gallon of **Everyday** paint costs 19.95 and covers 320 square feet  \n",
    "- 1 Gallon of **Premium** paint costs 29.95 and covers 400 square feet  \n",
    "- 1 Gallon of **Professional** paint costs 34.95 as covers 425 square feet  \n",
    "    \n",
    "**Improvement 2** You will write a user-friendly version of the program using IPywidgets and the `@interact_manual` decorator.\n",
    "- **length** of the room is a slider from 1 to 40 feet\n",
    "- **width** of the room is a slider from 1 to 40 feet\n",
    "- **height** of walls is a slider from 6 to 10 feet in 0.5 ft increments\n",
    "- **coats** is the number of coats of paint on the walls a sliders from 1 to 3\n",
    "- **paint** is a drop-down of the 3 qualities of paint `['Everyday','Premium','Professional']`\n",
    "\n",
    "Ultimately your program allows the user to input the dimensions of a room, number of coats, and select a paint quality. The program then outputs the square footage to be painted, gallons of paint (in whole gallons), and total cost of the paint.\n",
    "\n",
    "## Approach\n",
    "\n",
    "You will write this program in several phases.\n",
    "\n",
    "- **You Code 2.1** write a function return the cost and coverage based on the type of paint input, `get_paint_info`\n",
    "- **You Code 2.2** rewrite the House Depot assignment as a function, `calculate_paint_area`\n",
    "- **You Code 2.3** write the final program to solve the problem, using your functions and regular `input` and `print` statements.\n",
    "- **You Code 2.4** re-write the final program to use `@interact_manual` and the IPywidgets in place of `input` and `print` statements.\n",
    "\n",
    "HINTS:\n",
    "\n",
    "- Take a \"bottom up\" approach. Write each function first, test the function, then once you know it's right use the functions in your main program.\n",
    "- The code exercise from small group demonstrates how to create drop-downs and sliders with ipython widgets\n",
    "- If you use several code cells (which you probably will) make sure a copy  of all relevant code is in the code solution cell.\n",
    "- The lab has functions you can re-use to print  out the big title. and display text. "
   ]
  },
  {
   "cell_type": "markdown",
   "metadata": {
    "editable": true,
    "label": "problem_analysis_cell",
    "slideshow": {
     "slide_type": ""
    },
    "tags": []
   },
   "source": [
    "## Part 1: Problem Analysis\n",
    "\n",
    "This time there should be multiple inputs / outputs / algos based on each function you will write.\n",
    "\n",
    "### 1.1 Program Outputs\n",
    "\n",
    "Describe your program outputs in the cell below. \n"
   ]
  },
  {
   "cell_type": "markdown",
   "metadata": {
    "editable": true,
    "label": "analysis_output_cell",
    "slideshow": {
     "slide_type": ""
    },
    "tags": []
   },
   "source": [
    "    outputs for get_paint_info function:\n",
    "\n",
    "    outputs for calculate_paint_area function:\n",
    "    \n",
    "    outputs for main program:\n",
    "    "
   ]
  },
  {
   "cell_type": "markdown",
   "metadata": {},
   "source": [
    "### 1.2 Program Inputs\n",
    "\n",
    "List out the program inputs in the cell below.\n"
   ]
  },
  {
   "cell_type": "markdown",
   "metadata": {
    "editable": true,
    "label": "analysis_input_cell",
    "slideshow": {
     "slide_type": ""
    },
    "tags": []
   },
   "source": [
    "    inputs for get_paint_info function:\n",
    "\n",
    "    inputs for calculate_paint_area function:\n",
    "\n",
    "    inputs for main program:\n",
    "    "
   ]
  },
  {
   "cell_type": "markdown",
   "metadata": {},
   "source": [
    "### 1.3 The Plan (Algorithm)\n",
    "\n",
    "Explain, as specifically as you can, without writing code, how the program works from input to output. Be detailed with your plan as you will need to turn it into code. \n"
   ]
  },
  {
   "cell_type": "markdown",
   "metadata": {
    "label": "analysis_plan_cell"
   },
   "source": [
    "    steps for get_paint_info function:\n",
    "\n",
    "    steps for calculate_paint_area function:\n",
    "       \n",
    "    steps for main program:\n"
   ]
  },
  {
   "cell_type": "markdown",
   "metadata": {},
   "source": [
    "## Part 2: Code Solution\n",
    "\n",
    "You may write your code in several cells, but place the complete, final working copy of your code solution within  each cell labeled `# SOLUTION CELL` everything required to make the code work should be in this cell, as this is the cell that will get evaluated. "
   ]
  },
  {
   "cell_type": "code",
   "execution_count": null,
   "metadata": {},
   "outputs": [],
   "source": []
  },
  {
   "cell_type": "code",
   "execution_count": null,
   "metadata": {},
   "outputs": [],
   "source": []
  },
  {
   "cell_type": "code",
   "execution_count": null,
   "metadata": {},
   "outputs": [],
   "source": []
  },
  {
   "cell_type": "markdown",
   "metadata": {},
   "source": [
    "### 2.1 You Code: write the `get_paint_info` function\n",
    "\n",
    "Here you will implement **Improvement 1** and write the `get_paint_info` function. You are provided with a code skeleton to work from. DO NOT change the code skeleton, think about writing a program where the input is `paint_quality` (one of \"Everyday\", \"Premium\" or \"Professional\") and at the end you output `paint` and `coverage`, only the inputs are the arguments on the `def` line and the outputs are on the `return` line. This makes up the body of your function.\n",
    "\n",
    "**ADVICE:** Consider this first part as two steps. Writing the `get_paint_info` function and testing it. For example if you look over the tests in the next cell, and what is *expected* that will  will help you understand how to write the function. You can try to get the first test to pass, then re-write the function to pass the next test, etc."
   ]
  },
  {
   "cell_type": "code",
   "execution_count": null,
   "metadata": {
    "code_cell_type": "write_code",
    "editable": true,
    "label": "2.1",
    "slideshow": {
     "slide_type": ""
    },
    "solution": [],
    "tags": [],
    "tests": [
     {
      "code": "assert get_paint_info('Everyday')==(19.95,320)",
      "include-code": true,
      "kind": "assertion"
     },
     {
      "code": "assert get_paint_info('Premium')==(29.95,400)",
      "include-code": true,
      "kind": "assertion"
     },
     {
      "code": "assert get_paint_info('Professional')==(34.95,425)",
      "include-code": true,
      "kind": "assertion"
     },
     {
      "code": "assert get_paint_info('Anything Else')==(0,0)\n",
      "include-code": true,
      "kind": "assertion"
     }
    ]
   },
   "outputs": [],
   "source": [
    "# SOLUTION CELL 2.1\n",
    "def get_paint_info(paint_quality):\n",
    "    '''\n",
    "    Given the paint_quality as input, this function returns\n",
    "    the price per gallon, and coverage in square footage for the paint\n",
    "    '''\n",
    "    #TODO: write your code here in the function body\n",
    "\n",
    "    return price, coverage"
   ]
  },
  {
   "cell_type": "markdown",
   "metadata": {},
   "source": [
    "### Test cases for `get_paint_info`\n",
    "\n",
    "Just like the only way to know for sure your program is correct is to run the code, the only way you know your function is correct is to call it! \n",
    "\n",
    "Below are 4 test cases written for you.  Make sure the function you write satisfies each test case. If **your code does not pass a test**, you will see miss-matched output to help you understand what you are doing wrong. Also an `AssertionError` will be thrown so that additional tests will not run.\n",
    "\n",
    "NOTE: It might make sense to run this each time you change code in your function so that you are confident it still works. \n"
   ]
  },
  {
   "cell_type": "code",
   "execution_count": null,
   "metadata": {
    "tags": []
   },
   "outputs": [],
   "source": [
    "def test_get_paint_info(quality, expected_price, expected_coverage):\n",
    "    actual_price, actual_coverage = get_paint_info(quality)  # call the function and get actuals!\n",
    "    print(f'get_paint_info(\"{quality}\") should return ({expected_price}, {expected_coverage}) ACTUAL: ({actual_price}, {actual_coverage})')\n",
    "    assert expected_price == actual_price and expected_coverage==actual_coverage \n",
    "\n",
    "\n",
    "test_get_paint_info(quality=\"Everyday\", expected_price=19.95, expected_coverage=320) # TEST Everyday\n",
    "test_get_paint_info(quality=\"Premium\", expected_price=29.95, expected_coverage=400) # TEST Premium\n",
    "test_get_paint_info(quality=\"Professional\", expected_price=34.95, expected_coverage=425) # TEST Professional\n",
    "test_get_paint_info(quality=\"Anything Else\", expected_price=0, expected_coverage=0) # TEST Anything Else"
   ]
  },
  {
   "cell_type": "markdown",
   "metadata": {},
   "source": [
    "### 2.2 You Code: write the `calculate_paint_area` function\n",
    "\n",
    "Here you will rewrite the House Depot assignment as a function, `calculate_paint_area`. You are provided with a code skeleton below so you can just fill in the function body similar to 2.1\n"
   ]
  },
  {
   "cell_type": "code",
   "execution_count": null,
   "metadata": {
    "code_cell_type": "write_code",
    "editable": true,
    "label": "2.2",
    "slideshow": {
     "slide_type": ""
    },
    "solution": [],
    "tags": [],
    "tests": [
     {
      "code": "assert calculate_paint_area(12,14,8,2,400)==(416,832,3)",
      "include-code": true,
      "kind": "assertion"
     },
     {
      "code": "assert calculate_paint_area(1,1,1,1,1)==(4,4,4)",
      "include-code": true,
      "kind": "assertion"
     }
    ]
   },
   "outputs": [],
   "source": [
    "# SOLUTION CELL 2.2\n",
    "def calculate_paint_area(length, width, height, coats, paint_coverage):\n",
    "    '''\n",
    "        This function inputs :\n",
    "        - the room dimension (length, width, height) in feet\n",
    "        - the number of coats of paint on the room\n",
    "        - the paint_coverage in sqft for the can of paint\n",
    "        It outputs the `area_to_paint` of the room, `total_paint` based on number of coats \n",
    "        and `number_of_cans` required to complete the job.\n",
    "    '''\n",
    "    import math\n",
    "    # TODO write your code here in the function body\n",
    "\n",
    "    return area_to_paint, total_paint, number_of_cans"
   ]
  },
  {
   "cell_type": "markdown",
   "metadata": {},
   "source": [
    "### Test cases for `calculate_paint_area`\n",
    "\n",
    "The test cases for `calulate_paint_area` were chosen based on the `HW-Variables` Example runs. Again use these tests to have confidence your code is correct."
   ]
  },
  {
   "cell_type": "code",
   "execution_count": null,
   "metadata": {
    "tags": []
   },
   "outputs": [],
   "source": [
    "def test_calculate_paint_area(length, width, height, coats, paint_coverage, expected_area, expected_total_paint, expected_cans):\n",
    "    actual_area, actual_total_paint, actual_cans = calculate_paint_area(length, width, height, coats, paint_coverage)\n",
    "    print(f'''calculate_paint_area(length, width, height, coats, paint_coverage) \n",
    "    should return ({expected_area}, {expected_total_paint}, {expected_cans})\n",
    "    ACTUAL: ({actual_area}, {actual_total_paint}, {actual_cans})''')\n",
    "    assert expected_area == actual_area \\\n",
    "        and expected_total_paint==actual_total_paint \\\n",
    "        and expected_cans == actual_cans\n",
    "\n",
    "test_calculate_paint_area(length=12, width=14, height=8, coats=2, paint_coverage=400, \n",
    "                          expected_area=416, expected_total_paint=832, expected_cans=3) # HW-Variables.ipynb Example 1\n",
    "test_calculate_paint_area(length=2, width=4, height=10, coats=3, paint_coverage=400, \n",
    "                          expected_area=120, expected_total_paint=360, expected_cans=1) # HW-Variables.ipynb Example 2"
   ]
  },
  {
   "cell_type": "markdown",
   "metadata": {},
   "source": [
    "### 2.3 You Code- Entire Program\n",
    "\n",
    "Write the final program to solve the problem, by calling your `get_paint_info` and `calculate_paint_area` functions. Use regular `input` and `print` statements. \n",
    "\n",
    "NOTES: \n",
    " - Do not worry about handling bad inputs. You will get this for \"Free\" by using `@interact_manual` in 2.4\n",
    " - If you want the checker to work in this cell, 1) make sure your inputs are in the same order as the example run and 2) you need to copy your function definitions into this cell.\n",
    "\n",
    "\n",
    "Example Run:\n",
    "\n",
    "```\n",
    "Enter length of room:  12\n",
    "Enter width of room:  14\n",
    "Enter height of room:  8\n",
    "Enter number of coats:  2\n",
    "Enter paint quality: Premium\n",
    "Total area to be painted: 416.0 sqft\n",
    "2.0 Coats requires: 832.0 sqft\n",
    "1 Can of Premium paint covers 400 sqft\n",
    "Total gallons of paint requried for 2.0 coats is : 3 cans of paint\n",
    "```\n"
   ]
  },
  {
   "cell_type": "code",
   "execution_count": null,
   "metadata": {
    "code_cell_type": "write_code",
    "editable": true,
    "label": "2.3",
    "slideshow": {
     "slide_type": ""
    },
    "solution": [],
    "tags": [],
    "tests": [
     {
      "input-stream": "12\n14\n8\n2\nPremium\n",
      "kind": "runcode",
      "search-output": [
       "416",
       "832",
       "3 can",
       "400"
      ]
     },
     {
      "input-stream": "2\n4\n10\n3\nEveryday\n",
      "kind": "runcode",
      "search-output": [
       "120",
       "360",
       "2 can",
       "320"
      ]
     }
    ]
   },
   "outputs": [],
   "source": [
    "# SOLUTION CELL 2.3 \n",
    "\n",
    "# Copy your function defintion for get_paint_info here\n",
    "\n",
    "# Copy your function definition for calculate_paint_area here\n",
    "\n",
    "# On with the MAIN PROGRAM\n",
    "# INPUTS (nothing but input() statements here)\n",
    "\n",
    "# PROCESS (nothing but youy 2 function calls here)\n",
    "\n",
    "# OUTPUTS (nothing but print() statements here)\n"
   ]
  },
  {
   "cell_type": "markdown",
   "metadata": {},
   "source": [
    "### 2.4 You Code - Ipywidgets\n",
    "\n",
    "Complete the program by re-writing 2.3 using `@interact_manual`, which replaces your inputs with widgets.\n",
    "\n",
    "**Improvement 2** You will write a user-friendly version of the program using IPywidgets and the `@interact_manual` decorator.\n",
    "- **length** of the room is a slider from 1 to 40 feet\n",
    "- **width** of the room is a slider from 1 to 40 feet\n",
    "- **height** of walls is a slider from 6 to 10 feet in 0.5 ft increments\n",
    "- **coats** is the number of coats of paint on the walls a sliders from 1 to 3\n",
    "- **paint** is a drop-down of the 3 qualities of paint `['Everyday','Premium','Professional']`\n",
    "\n",
    "Here's an example of the code running: https://imgur.com/a/MvKbw2u\n",
    "\n",
    "NOTE: There is no automated code check for this cell. It will be graded manually."
   ]
  },
  {
   "cell_type": "code",
   "execution_count": null,
   "metadata": {
    "code_cell_type": "write_code",
    "label": "2.4",
    "solution": [],
    "tags": []
   },
   "outputs": [],
   "source": [
    "# SOLUTION CELL 2.4\n",
    "from IPython.display import display, HTML\n",
    "from ipywidgets import interact_manual\n",
    "\n",
    "@interact_manual(WIDGETS)\n",
    "def onclick(INPUTS):\n",
    "    #TODO call functions and use display to output inside this function\n"
   ]
  },
  {
   "cell_type": "markdown",
   "metadata": {
    "label": "homework_questions_cell"
   },
   "source": [
    "## Part 3: Metacognition\n",
    "\n",
    "These questions are designed to prompt you to reflect on your learning. Reflection is part of the assignment grade so please take time to answer the questions thoughtfully.\n",
    "\n",
    "#### 3.1 List at least 3 things you learned this week and/or throughout the process of completing this assignment?"
   ]
  },
  {
   "cell_type": "markdown",
   "metadata": {
    "label": "learned_cell"
   },
   "source": []
  },
  {
   "cell_type": "markdown",
   "metadata": {},
   "source": [
    "#### 3.2 What were the challenges or roadblocks (if any) you encountered on the way to completing it?"
   ]
  },
  {
   "cell_type": "markdown",
   "metadata": {
    "label": "challenges_cell"
   },
   "source": []
  },
  {
   "cell_type": "markdown",
   "metadata": {},
   "source": [
    "#### 3.3 Were you prepared for this assignment? What can you do to be better prepared?"
   ]
  },
  {
   "cell_type": "markdown",
   "metadata": {
    "label": "prepared_cell"
   },
   "source": []
  },
  {
   "cell_type": "markdown",
   "metadata": {},
   "source": [
    "#### 3.4 Did someone (or something such as AI) help you? Did You help someone? Provide details. "
   ]
  },
  {
   "cell_type": "markdown",
   "metadata": {
    "label": "help_cell"
   },
   "source": []
  },
  {
   "cell_type": "markdown",
   "metadata": {},
   "source": [
    "#### 3.5  Now that you have completed the assignment rate your comfort level with this week’s material. This should be an honest assessment of your ability: \n",
    "\n",
    "**1** ==> I don't understand this at all yet and need extra help. If you choose this please try to articulate that which you do not understand to the best of your ability in the questions and comments section below.  \n",
    "**2** ==> I can do this with help or guidance from other people or resources. If you choose this level, please indicate HOW this person helped you in the questions and comments section below.   \n",
    "**3** ==> I can do this on my own without any help.   \n",
    "**4** ==> I can do this on my own and can explain/teach how to do it to others.\n",
    "\n",
    "`ENTER A NUMBER 1-4 IN THE CELL BELOW`"
   ]
  },
  {
   "cell_type": "markdown",
   "metadata": {
    "label": "comfort_cell"
   },
   "source": []
  },
  {
   "cell_type": "markdown",
   "metadata": {
    "label": ""
   },
   "source": [
    "## Part 4: Turning it in\n",
    "\n",
    "FIRST AND FOREMOST: **Save Your work!** Yes, it auto-saves, but you should get in the habit of saving before submitting. From the menu, choose File --> Save Notebook. Or you can use the shortcut keys `CTRL+S`\n",
    "\n",
    "### Homework Check\n",
    "\n",
    "Check your homework before submitting. Look for errors and incomplete parts which might cost you a better grade."
   ]
  },
  {
   "cell_type": "code",
   "execution_count": 1,
   "metadata": {},
   "outputs": [
    {
     "name": "stdout",
     "output_type": "stream",
     "text": [
      "❌ Metacognition 3.1 cell is blank. Thoughtful completion of this section factors into your grade.\n",
      "❌ Metacognition 3.2 cell is blank. Thoughtful completion of this section factors into your grade.\n",
      "❌ Metacognition 3.3 cell is blank. Thoughtful completion of this section factors into your grade.\n",
      "❌ Metacognition 3.4 cell is blank. Thoughtful completion of this section factors into your grade.\n",
      "❌ Metacognition 3.5 Comfort level is blank.\n",
      "❌ 2.1 Failed Test: Code: assert get_paint_info('Everyday')==(19.95,320) Results: Traceback (most recent call last):\n",
      "  File \"<string>\", line 9, in <module>\n",
      "  File \"<string>\", line 7, in get_paint_info\n",
      "NameError: name 'price' is not defined. Did you mean: 'print'?\n",
      "\n",
      "❌ 2.1 Failed Test: Code: assert get_paint_info('Premium')==(29.95,400) Results: Traceback (most recent call last):\n",
      "  File \"<string>\", line 9, in <module>\n",
      "  File \"<string>\", line 7, in get_paint_info\n",
      "NameError: name 'price' is not defined. Did you mean: 'print'?\n",
      "\n",
      "❌ 2.1 Failed Test: Code: assert get_paint_info('Professional')==(34.95,425) Results: Traceback (most recent call last):\n",
      "  File \"<string>\", line 9, in <module>\n",
      "  File \"<string>\", line 7, in get_paint_info\n",
      "NameError: name 'price' is not defined. Did you mean: 'print'?\n",
      "\n",
      "❌ 2.1 Failed Test: Code: assert get_paint_info('Anything Else')==(0,0)\n",
      " Results: Traceback (most recent call last):\n",
      "  File \"<string>\", line 9, in <module>\n",
      "  File \"<string>\", line 7, in get_paint_info\n",
      "NameError: name 'price' is not defined. Did you mean: 'print'?\n",
      "\n",
      "❌ 2.2 Failed Test: Code: assert calculate_paint_area(12,14,8,2,400)==(416,832,3) Results: Traceback (most recent call last):\n",
      "  File \"<string>\", line 14, in <module>\n",
      "  File \"<string>\", line 12, in calculate_paint_area\n",
      "NameError: name 'area_to_paint' is not defined\n",
      "\n",
      "❌ 2.2 Failed Test: Code: assert calculate_paint_area(1,1,1,1,1)==(4,4,4) Results: Traceback (most recent call last):\n",
      "  File \"<string>\", line 14, in <module>\n",
      "  File \"<string>\", line 12, in calculate_paint_area\n",
      "NameError: name 'area_to_paint' is not defined\n",
      "\n",
      "❌ 2.3 does not have a code solution.\n",
      "❌ 2.4 code has syntax error: Sorry: IndentationError: expected an indented block after function definition on line 5 (_tmp_.py, line 5). Fix errors for a better grade.\n"
     ]
    }
   ],
   "source": [
    "from casstools.notebook_tools import NotebookFile\n",
    "NotebookFile().check_homework()"
   ]
  },
  {
   "cell_type": "markdown",
   "metadata": {
    "label": ""
   },
   "source": [
    "### Homework Submission\n",
    "\n",
    "Run this code and follow the instructions to turn in your homework."
   ]
  },
  {
   "cell_type": "code",
   "execution_count": null,
   "metadata": {},
   "outputs": [],
   "source": [
    "from casstools.assignment import Assignment\n",
    "Assignment().submit()"
   ]
  },
  {
   "cell_type": "code",
   "execution_count": null,
   "metadata": {},
   "outputs": [],
   "source": []
  }
 ],
 "metadata": {
  "anaconda-cloud": {},
  "celltoolbar": "Edit Metadata",
  "kernelspec": {
   "display_name": "Python 3 (ipykernel)",
   "language": "python",
   "name": "python3"
  },
  "language_info": {
   "codemirror_mode": {
    "name": "ipython",
    "version": 3
   },
   "file_extension": ".py",
   "mimetype": "text/x-python",
   "name": "python",
   "nbconvert_exporter": "python",
   "pygments_lexer": "ipython3",
   "version": "3.11.7"
  },
  "toc": {
   "base_numbering": 1,
   "nav_menu": {},
   "number_sections": false,
   "sideBar": false,
   "skip_h1_title": false,
   "title_cell": "Table of Contents",
   "title_sidebar": "Contents",
   "toc_cell": false,
   "toc_position": {},
   "toc_section_display": false,
   "toc_window_display": false
  },
  "varInspector": {
   "cols": {
    "lenName": 16,
    "lenType": 16,
    "lenVar": 40
   },
   "kernels_config": {
    "python": {
     "delete_cmd_postfix": "",
     "delete_cmd_prefix": "del ",
     "library": "var_list.py",
     "varRefreshCmd": "print(var_dic_list())"
    },
    "r": {
     "delete_cmd_postfix": ") ",
     "delete_cmd_prefix": "rm(",
     "library": "var_list.r",
     "varRefreshCmd": "cat(var_dic_list()) "
    }
   },
   "types_to_exclude": [
    "module",
    "function",
    "builtin_function_or_method",
    "instance",
    "_Feature"
   ],
   "window_display": false
  }
 },
 "nbformat": 4,
 "nbformat_minor": 4
}
