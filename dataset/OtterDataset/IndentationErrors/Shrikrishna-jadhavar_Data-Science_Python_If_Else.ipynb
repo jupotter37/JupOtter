{
  "nbformat": 4,
  "nbformat_minor": 0,
  "metadata": {
    "colab": {
      "provenance": []
    },
    "kernelspec": {
      "name": "python3",
      "display_name": "Python 3"
    },
    "language_info": {
      "name": "python"
    }
  },
  "cells": [
    {
      "cell_type": "markdown",
      "source": [
        "# **Python Conditions and If statements**\n",
        "\n",
        "Python supports the usual logical conditions from mathematics:\n",
        "\n",
        "    Equals: a == b\n",
        "    Not Equals: a != b\n",
        "    Less than: a < b\n",
        "    Less than or equal to: a <= b\n",
        "    Greater than: a > b\n",
        "    Greater than or equal to: a >= b\n",
        "\n",
        "These conditions can be used in several ways, most commonly in \"if statements\" and loops.\n",
        "\n",
        "An \"if statement\" is written by using the if keyword."
      ],
      "metadata": {
        "id": "SRHbjqJqZ7-Q"
      }
    },
    {
      "cell_type": "code",
      "execution_count": 4,
      "metadata": {
        "id": "iGZyNrGB_na8",
        "colab": {
          "base_uri": "https://localhost:8080/"
        },
        "outputId": "23ce9791-d8cb-41fc-8942-5cdff1f5b1f5"
      },
      "outputs": [
        {
          "output_type": "stream",
          "name": "stdout",
          "text": [
            "a is Equals b\n"
          ]
        }
      ],
      "source": [
        "# If statement:\n",
        "\n",
        "a = 50\n",
        "b = 50\n",
        "if a == b:\n",
        "  print(\"a is Equals b\")\n",
        "else:\n",
        "  print(\" a is not Equals to b\")"
      ]
    },
    {
      "cell_type": "code",
      "source": [
        "a = 50\n",
        "b = 100\n",
        "if a != b:\n",
        "  print(\"a is not Equals b\")\n",
        "else:\n",
        "  print(\" a is Equals to b\")"
      ],
      "metadata": {
        "colab": {
          "base_uri": "https://localhost:8080/"
        },
        "id": "2_QYIJmjeWTP",
        "outputId": "c64f8dea-7b8e-448a-976d-1e5129332660"
      },
      "execution_count": 16,
      "outputs": [
        {
          "output_type": "stream",
          "name": "stdout",
          "text": [
            "a is not Equals b\n"
          ]
        }
      ]
    },
    {
      "cell_type": "code",
      "source": [
        "a = 50\n",
        "b = 100\n",
        "if a > b:\n",
        "  print(\"a is greater than b\")\n",
        "elif a == b:\n",
        "  print(\"a and b are equal\")\n",
        "else:\n",
        "  print(\"a is not greater than b\")"
      ],
      "metadata": {
        "colab": {
          "base_uri": "https://localhost:8080/"
        },
        "id": "-uufmTwWay3H",
        "outputId": "ceaefc13-9c5a-4e95-e10a-1e3816055aab"
      },
      "execution_count": 6,
      "outputs": [
        {
          "output_type": "stream",
          "name": "stdout",
          "text": [
            "a is not greater than b\n"
          ]
        }
      ]
    },
    {
      "cell_type": "code",
      "source": [
        "a = 500\n",
        "b = 100\n",
        "if a > b:\n",
        "  print(\"a is greater than b\")\n",
        "else:\n",
        "  print(\"a is not greater than b\")"
      ],
      "metadata": {
        "colab": {
          "base_uri": "https://localhost:8080/"
        },
        "id": "e3Ug2AvHbUPf",
        "outputId": "f1929f2c-1891-491a-bdfc-726a387c8d3b"
      },
      "execution_count": 7,
      "outputs": [
        {
          "output_type": "stream",
          "name": "stdout",
          "text": [
            "a is greater than b\n"
          ]
        }
      ]
    },
    {
      "cell_type": "code",
      "source": [
        "a = 100\n",
        "b = 500\n",
        "if a >= b:\n",
        "  print(\"a is greater than or equal to b\")\n",
        "else:\n",
        "  print(\"a is not greater than or equal to b\")"
      ],
      "metadata": {
        "colab": {
          "base_uri": "https://localhost:8080/"
        },
        "id": "7JFhTOHNcch6",
        "outputId": "615fc530-ca1c-41c3-ef6f-3adc963bd822"
      },
      "execution_count": 9,
      "outputs": [
        {
          "output_type": "stream",
          "name": "stdout",
          "text": [
            "a is not greater than or equal to b\n"
          ]
        }
      ]
    },
    {
      "cell_type": "code",
      "source": [
        "a = 500\n",
        "b = 500\n",
        "if a >= b:\n",
        "  print(\"a is greater than or equal to b\")\n",
        "else:\n",
        "  print(\"a is not greater than or equal to b\")"
      ],
      "metadata": {
        "colab": {
          "base_uri": "https://localhost:8080/"
        },
        "id": "C530bPnWc_jW",
        "outputId": "b30fb0ad-fa67-4afd-dc3e-372cedc4f1be"
      },
      "execution_count": 10,
      "outputs": [
        {
          "output_type": "stream",
          "name": "stdout",
          "text": [
            "a is greater than or equal to b\n"
          ]
        }
      ]
    },
    {
      "cell_type": "code",
      "source": [
        "a = 200\n",
        "b = 400\n",
        "if a < b:\n",
        "  print(\"a is less than b\")\n",
        "elif a > b:\n",
        "  print(\"a is greater than b\")\n",
        "else:\n",
        "  print(\"a and b are equal\")"
      ],
      "metadata": {
        "colab": {
          "base_uri": "https://localhost:8080/"
        },
        "id": "NQe9K9w6dQSS",
        "outputId": "74d14de1-199d-46a4-c310-76296fb868b1"
      },
      "execution_count": 13,
      "outputs": [
        {
          "output_type": "stream",
          "name": "stdout",
          "text": [
            "a is less than b\n"
          ]
        }
      ]
    },
    {
      "cell_type": "code",
      "source": [
        "a = 100\n",
        "b = 500\n",
        "if a <= b:\n",
        "  print(\"a is less than or equal to b\")\n",
        "else:\n",
        "  print(\"a is not less than or equal to b\")"
      ],
      "metadata": {
        "colab": {
          "base_uri": "https://localhost:8080/"
        },
        "id": "rKVjc8QCdoV5",
        "outputId": "2c86e469-851a-4e40-dbdb-7f31f9496aab"
      },
      "execution_count": 15,
      "outputs": [
        {
          "output_type": "stream",
          "name": "stdout",
          "text": [
            "a is less than or equal to b\n"
          ]
        }
      ]
    },
    {
      "cell_type": "markdown",
      "source": [
        "# **Indentation**\n",
        "\n",
        "Python relies on indentation (whitespace at the beginning of a line) to define scope in the code. Other programming languages often use curly-brackets for this purpose."
      ],
      "metadata": {
        "id": "JjoxA59Ne_RX"
      }
    },
    {
      "cell_type": "code",
      "source": [
        "# If statement, without indentation (will raise an error):\n",
        "\n",
        "a = 100\n",
        "b = 200\n",
        "if b > a:\n",
        "print(\"b is greater than a\") # you will get an error"
      ],
      "metadata": {
        "colab": {
          "base_uri": "https://localhost:8080/",
          "height": 108
        },
        "id": "wdaLRU7weBBu",
        "outputId": "1298a851-6062-4438-c8a9-ad179e3aa97b"
      },
      "execution_count": 17,
      "outputs": [
        {
          "output_type": "error",
          "ename": "IndentationError",
          "evalue": "expected an indented block after 'if' statement on line 5 (<ipython-input-17-3d2ccd8a4e0a>, line 6)",
          "traceback": [
            "\u001b[0;36m  File \u001b[0;32m\"<ipython-input-17-3d2ccd8a4e0a>\"\u001b[0;36m, line \u001b[0;32m6\u001b[0m\n\u001b[0;31m    print(\"b is greater than a\") # you will get an error\u001b[0m\n\u001b[0m    ^\u001b[0m\n\u001b[0;31mIndentationError\u001b[0m\u001b[0;31m:\u001b[0m expected an indented block after 'if' statement on line 5\n"
          ]
        }
      ]
    },
    {
      "cell_type": "code",
      "source": [
        "a = 100\n",
        "b = 200\n",
        "if b > a:\n",
        " print(\"b is greater than a\")"
      ],
      "metadata": {
        "colab": {
          "base_uri": "https://localhost:8080/"
        },
        "id": "pQ6Dxu8efPyJ",
        "outputId": "c86b15a5-7a5b-4f99-aa02-5fdb38d35d58"
      },
      "execution_count": 18,
      "outputs": [
        {
          "output_type": "stream",
          "name": "stdout",
          "text": [
            "b is greater than a\n"
          ]
        }
      ]
    },
    {
      "cell_type": "markdown",
      "source": [
        "# **Elif**\n",
        "\n",
        "The elif keyword is Python's way of saying \"if the previous conditions were not true, then try this condition\"."
      ],
      "metadata": {
        "id": "ddYMvMpMfm-Z"
      }
    },
    {
      "cell_type": "code",
      "source": [
        "a = 33\n",
        "b = 33\n",
        "if b > a:\n",
        "  print(\"b is greater than a\")\n",
        "elif a == b:\n",
        "  print(\"a and b are equal\")"
      ],
      "metadata": {
        "colab": {
          "base_uri": "https://localhost:8080/"
        },
        "id": "QIxoo09if2X8",
        "outputId": "c5504499-062f-4f5e-e30a-ad6e0154a4cd"
      },
      "execution_count": 19,
      "outputs": [
        {
          "output_type": "stream",
          "name": "stdout",
          "text": [
            "a and b are equal\n"
          ]
        }
      ]
    },
    {
      "cell_type": "markdown",
      "source": [
        "# **Else**\n",
        "\n",
        "The else keyword catches anything which isn't caught by the preceding conditions."
      ],
      "metadata": {
        "id": "j2J_Da9LgOaR"
      }
    },
    {
      "cell_type": "code",
      "source": [
        "a = 200\n",
        "b = 100\n",
        "if b > a:\n",
        "  print(\"b is greater than a\")\n",
        "elif a == b:\n",
        "  print(\"a and b are equal\")\n",
        "else:\n",
        "  print(\"a is greater than b\")\n",
        "\n",
        "# In this example a is greater than b, so the first condition is not true,\n",
        "# also the elif condition is not true, so we go to the else condition and print to screen that \"a is greater than b\"."
      ],
      "metadata": {
        "colab": {
          "base_uri": "https://localhost:8080/"
        },
        "id": "IJ4fGMnZf_Ic",
        "outputId": "68788bed-bae9-49aa-ce49-a61e2cf0ebcc"
      },
      "execution_count": 20,
      "outputs": [
        {
          "output_type": "stream",
          "name": "stdout",
          "text": [
            "a is greater than b\n"
          ]
        }
      ]
    },
    {
      "cell_type": "code",
      "source": [
        "# You can also have an else without the elif:\n",
        "\n",
        "a = 200\n",
        "b = 100\n",
        "if b > a:\n",
        "  print(\"b is greater than a\")\n",
        "else:\n",
        "  print(\"b is not greater than a\")"
      ],
      "metadata": {
        "colab": {
          "base_uri": "https://localhost:8080/"
        },
        "id": "-Q_W1aiFgbG2",
        "outputId": "c26cd0ee-3d85-4457-fd77-32a7df8bea85"
      },
      "execution_count": 21,
      "outputs": [
        {
          "output_type": "stream",
          "name": "stdout",
          "text": [
            "b is not greater than a\n"
          ]
        }
      ]
    },
    {
      "cell_type": "markdown",
      "source": [
        "# **Short Hand If**\n",
        "\n",
        "If you have only one statement to execute, you can put it on the same line as the if statement."
      ],
      "metadata": {
        "id": "Wj1hrkRhhTMI"
      }
    },
    {
      "cell_type": "code",
      "source": [
        "if a > b: print(\"a is greater than b\")"
      ],
      "metadata": {
        "colab": {
          "base_uri": "https://localhost:8080/"
        },
        "id": "vtZqIIuzhLmR",
        "outputId": "215e0a12-0dde-4991-f5a8-ce8895bee8d9"
      },
      "execution_count": 23,
      "outputs": [
        {
          "output_type": "stream",
          "name": "stdout",
          "text": [
            "a is greater than b\n"
          ]
        }
      ]
    },
    {
      "cell_type": "markdown",
      "source": [
        "# **Short Hand If ... Else**\n",
        "\n",
        "If you have only one statement to execute, one for if, and one for else, you can put it all on the same line:"
      ],
      "metadata": {
        "id": "5WShGmBAhugj"
      }
    },
    {
      "cell_type": "code",
      "source": [
        "a = 30\n",
        "b = 20\n",
        "print(\"A\") if a > b else print(\"B\")"
      ],
      "metadata": {
        "colab": {
          "base_uri": "https://localhost:8080/"
        },
        "id": "Y9-Hf9oChfMl",
        "outputId": "766401f9-4700-4870-aeec-157c5e2497c5"
      },
      "execution_count": 24,
      "outputs": [
        {
          "output_type": "stream",
          "name": "stdout",
          "text": [
            "A\n"
          ]
        }
      ]
    },
    {
      "cell_type": "markdown",
      "source": [
        "\n",
        "\n",
        "This technique is known as Ternary Operators, or Conditional Expressions.\n",
        "\n",
        "You can also have multiple else statements on the same line:"
      ],
      "metadata": {
        "id": "Lxhfb7EFisXv"
      }
    },
    {
      "cell_type": "code",
      "source": [
        "# One line if else statement, with 3 conditions:\n",
        "\n",
        "a = 300\n",
        "b = 400\n",
        "print(\"A\") if a > b else print(\"=\") if a == b else print(\"B\")"
      ],
      "metadata": {
        "colab": {
          "base_uri": "https://localhost:8080/"
        },
        "id": "sA_1fKwBiYtv",
        "outputId": "c7064628-bf8f-4aca-9616-6a8f10b899d3"
      },
      "execution_count": 27,
      "outputs": [
        {
          "output_type": "stream",
          "name": "stdout",
          "text": [
            "B\n"
          ]
        }
      ]
    },
    {
      "cell_type": "markdown",
      "source": [
        "# **And**\n",
        "\n",
        "The and keyword is a logical operator, and is used to combine conditional statements:"
      ],
      "metadata": {
        "id": "4Miah5lUkAil"
      }
    },
    {
      "cell_type": "code",
      "source": [
        "# Test if a is greater than b, AND if c is greater than a:\n",
        "\n",
        "a = 200\n",
        "b = 33\n",
        "c = 500\n",
        "if a > b and c > a:\n",
        "  print(\"Both conditions are True\")"
      ],
      "metadata": {
        "colab": {
          "base_uri": "https://localhost:8080/"
        },
        "id": "5fr8sSCYjj1T",
        "outputId": "a7c1cbe3-70f9-4bed-83fc-2f2d2d50096f"
      },
      "execution_count": 28,
      "outputs": [
        {
          "output_type": "stream",
          "name": "stdout",
          "text": [
            "Both conditions are True\n"
          ]
        }
      ]
    },
    {
      "cell_type": "markdown",
      "source": [
        "# **Or**\n",
        "\n",
        "The or keyword is a logical operator, and is used to combine conditional statements:"
      ],
      "metadata": {
        "id": "D51O8sQHkixp"
      }
    },
    {
      "cell_type": "code",
      "source": [
        "# Test if a is greater than b, OR if a is greater than c:\n",
        "\n",
        "a = 200\n",
        "b = 33\n",
        "c = 500\n",
        "if a > b or a > c:\n",
        "  print(\"At least one of the conditions is True\")"
      ],
      "metadata": {
        "colab": {
          "base_uri": "https://localhost:8080/"
        },
        "id": "b23sdZghk_F-",
        "outputId": "56db064c-cee1-46c9-90fb-a20d418b7989"
      },
      "execution_count": 29,
      "outputs": [
        {
          "output_type": "stream",
          "name": "stdout",
          "text": [
            "At least one of the conditions is True\n"
          ]
        }
      ]
    },
    {
      "cell_type": "markdown",
      "source": [
        "# **Not**\n",
        "\n",
        "The not keyword is a logical operator, and is used to reverse the result of the conditional statement:"
      ],
      "metadata": {
        "id": "1l6_0LgRlIB1"
      }
    },
    {
      "cell_type": "code",
      "source": [
        "# Test if a is NOT greater than b:\n",
        "\n",
        "a = 100\n",
        "b = 200\n",
        "if not a > b:\n",
        "  print(\"a is NOT greater than b\")"
      ],
      "metadata": {
        "colab": {
          "base_uri": "https://localhost:8080/"
        },
        "id": "xmwkOpJ6lAPm",
        "outputId": "12dcf5dc-af99-434d-c291-47e1f585f0b9"
      },
      "execution_count": 30,
      "outputs": [
        {
          "output_type": "stream",
          "name": "stdout",
          "text": [
            "a is NOT greater than b\n"
          ]
        }
      ]
    },
    {
      "cell_type": "markdown",
      "source": [
        "# **Nested If**\n",
        "\n",
        "You can have if statements inside if statements, this is called nested if statements."
      ],
      "metadata": {
        "id": "4X4G6wGJlrV3"
      }
    },
    {
      "cell_type": "code",
      "source": [
        "x = 50\n",
        "\n",
        "if x > 10:\n",
        "  print(\"Above ten,\")\n",
        "  if x > 20:\n",
        "    print(\"also above 20\")\n",
        "  else:\n",
        "    print(\"but not above 20.\")"
      ],
      "metadata": {
        "colab": {
          "base_uri": "https://localhost:8080/"
        },
        "id": "npv6FBsEmYZr",
        "outputId": "9020a544-606d-435e-c4e5-151bef4e9343"
      },
      "execution_count": 31,
      "outputs": [
        {
          "output_type": "stream",
          "name": "stdout",
          "text": [
            "Above ten,\n",
            "also above 20\n"
          ]
        }
      ]
    },
    {
      "cell_type": "markdown",
      "source": [
        "# **The pass Statement**\n",
        "\n",
        "if statements cannot be empty, but if you for some reason have an if statement with no content, put in the pass statement to avoid getting an error."
      ],
      "metadata": {
        "id": "HjClX6KCm9Pa"
      }
    },
    {
      "cell_type": "code",
      "source": [
        "a = 100\n",
        "b = 200\n",
        "if b > a:"
      ],
      "metadata": {
        "colab": {
          "base_uri": "https://localhost:8080/",
          "height": 108
        },
        "id": "9KxvlPtknPJi",
        "outputId": "35081ef7-7c32-402f-fbbb-5acf13a8adbe"
      },
      "execution_count": 33,
      "outputs": [
        {
          "output_type": "error",
          "ename": "SyntaxError",
          "evalue": "incomplete input (<ipython-input-33-2834a5dfcbf0>, line 3)",
          "traceback": [
            "\u001b[0;36m  File \u001b[0;32m\"<ipython-input-33-2834a5dfcbf0>\"\u001b[0;36m, line \u001b[0;32m3\u001b[0m\n\u001b[0;31m    if b > a:\u001b[0m\n\u001b[0m             ^\u001b[0m\n\u001b[0;31mSyntaxError\u001b[0m\u001b[0;31m:\u001b[0m incomplete input\n"
          ]
        }
      ]
    },
    {
      "cell_type": "code",
      "source": [
        "a = 100\n",
        "b = 200\n",
        "if b > a:\n",
        "  pass"
      ],
      "metadata": {
        "id": "U5GADjTRmaKj"
      },
      "execution_count": 34,
      "outputs": []
    }
  ]
}