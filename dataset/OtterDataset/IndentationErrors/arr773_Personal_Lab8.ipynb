{
 "cells": [
  {
   "cell_type": "code",
   "execution_count": 1,
   "id": "95c9743b",
   "metadata": {},
   "outputs": [
    {
     "ename": "IndentationError",
     "evalue": "expected an indented block (4154143249.py, line 10)",
     "output_type": "error",
     "traceback": [
      "\u001b[1;36m  Input \u001b[1;32mIn [1]\u001b[1;36m\u001b[0m\n\u001b[1;33m    def get_max():\u001b[0m\n\u001b[1;37m    ^\u001b[0m\n\u001b[1;31mIndentationError\u001b[0m\u001b[1;31m:\u001b[0m expected an indented block\n"
     ]
    }
   ],
   "source": [
    "class PriorityQueue():\n",
    "    def __init__():\n",
    "        self.pq=[]\n",
    "    def insert(element):\n",
    "        key=element[0]\n",
    "        if self.pq==[]:\n",
    "            pq.append(element)\n",
    "        for i in range(len(self.pq)):\n",
    "            \n",
    "    def get_max():\n",
    "        \n",
    "    def print():\n",
    "    \n",
    "    "
   ]
  },
  {
   "cell_type": "code",
   "execution_count": 3,
   "id": "a3147bf7",
   "metadata": {},
   "outputs": [],
   "source": [
    "pq = []                        \n",
    "\n",
    "def push(pq,task,priority=0):\n",
    "    'Add a new task'\n",
    "    count = count+1\n",
    "    entry = [priority, count, task]\n",
    "    entry_finder[task] = entry\n",
    "    heappush(pq, entry)\n",
    "\n",
    "\n",
    "\n",
    "def IsEmpty(pq):\n",
    "    if not pq:\n",
    "        print(\"List is empty\")"
   ]
  },
  {
   "cell_type": "code",
   "execution_count": 4,
   "id": "0a7b52ff",
   "metadata": {},
   "outputs": [],
   "source": [
    "# def update(pq,task, priority=0):\n",
    "#     'Add a new task or update the priority of an existing task'\n",
    "#     if task in entry_finder:\n",
    "#         remove_task(task)\n",
    "#     count = count+1\n",
    "#     entry = [priority, count, task]\n",
    "#     entry_finder[task] = entry\n",
    "#     heappush(pq, entry)\n",
    "\n",
    "# def remove_task(task):\n",
    "#     'Mark an existing task as REMOVED.  Raise KeyError if not found.'\n",
    "#     entry = entry_finder.pop(task)\n",
    "#     entry[-1] = REMOVED\n",
    "\n",
    "# def pop(pq):\n",
    "#     'Remove and return the lowest priority task. Raise KeyError if empty.'\n",
    "#     while pq:\n",
    "#         priority, count, task = heappop(pq)\n",
    "#         if task is not REMOVED:\n",
    "#             del entry_finder[task]\n",
    "#             return task\n",
    "#     raise KeyError('pop from an empty priority queue')"
   ]
  },
  {
   "cell_type": "code",
   "execution_count": 29,
   "id": "ae23c258",
   "metadata": {},
   "outputs": [
    {
     "name": "stdout",
     "output_type": "stream",
     "text": [
      "[[1, 'Database'], [4, 'Applied'], [2, 'Data Science']]\n",
      "[4, 'Applied']\n"
     ]
    }
   ],
   "source": [
    "from heapq import heappush\n",
    "\n",
    "\n",
    "class PQ:\n",
    "    def __init__(self):\n",
    "        self.pq = []\n",
    "        self.entry_finder = {}\n",
    "\n",
    "    def insert(self, element):\n",
    "        entry = [element[0], element[1]]\n",
    "        heappush(self.pq, entry)\n",
    "    def get_max(self):\n",
    "        print(max(self.pq))\n",
    "    def print(self):\n",
    "        print(self.pq)\n",
    "    \n",
    "    \n",
    "pq=PQ()\n",
    "pq.insert((4,\"Applied\"))\n",
    "pq.insert((1,\"Database\"))\n",
    "pq.insert((2,\"Data Science\"))\n",
    "pq.print()\n",
    "pq.get_max()"
   ]
  },
  {
   "cell_type": "code",
   "execution_count": null,
   "id": "583a609a",
   "metadata": {},
   "outputs": [],
   "source": []
  }
 ],
 "metadata": {
  "kernelspec": {
   "display_name": "Python 3 (ipykernel)",
   "language": "python",
   "name": "python3"
  },
  "language_info": {
   "codemirror_mode": {
    "name": "ipython",
    "version": 3
   },
   "file_extension": ".py",
   "mimetype": "text/x-python",
   "name": "python",
   "nbconvert_exporter": "python",
   "pygments_lexer": "ipython3",
   "version": "3.9.13"
  }
 },
 "nbformat": 4,
 "nbformat_minor": 5
}
