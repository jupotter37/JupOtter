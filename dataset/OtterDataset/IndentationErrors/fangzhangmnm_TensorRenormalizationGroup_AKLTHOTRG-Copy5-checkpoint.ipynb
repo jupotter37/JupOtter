{
 "cells": [
  {
   "cell_type": "code",
   "execution_count": 32,
   "id": "499853ac",
   "metadata": {},
   "outputs": [],
   "source": [
    "%reset -sf"
   ]
  },
  {
   "cell_type": "code",
   "execution_count": 33,
   "id": "75350d3c",
   "metadata": {},
   "outputs": [],
   "source": [
    "import torch\n",
    "from torch.utils.checkpoint import checkpoint\n",
    "import numpy as np\n",
    "import matplotlib.pyplot as plt\n",
    "import pandas as pd\n",
    "from tqdm.auto import tqdm\n",
    "from opt_einsum import contract\n",
    "from torch.profiler import profile, record_function, ProfilerActivity\n",
    "def _toN(t):\n",
    "    return t.detach().cpu().numpy()\n",
    "def printDiff(name,value,ref):\n",
    "    if ref is not None:\n",
    "        print(name+':',value,'diff(abs):',value-ref)\n",
    "    else:\n",
    "        print(name+':',value)\n",
    "    \n",
    "import ast\n",
    "def eval_np_array_literal(array_string):\n",
    "    array_string = ','.join(array_string.replace('[ ', '[').split())\n",
    "    return np.array(ast.literal_eval(array_string))\n"
   ]
  },
  {
   "cell_type": "markdown",
   "id": "2a36b32a",
   "metadata": {},
   "source": [
    "# SRG BaseClass"
   ]
  },
  {
   "cell_type": "code",
   "execution_count": 42,
   "id": "3a5e2c55",
   "metadata": {
    "scrolled": true
   },
   "outputs": [],
   "source": [
    "class SRG(torch.nn.Module):\n",
    "    def __init__(self,params,options):\n",
    "        super(SRG,self).__init__()\n",
    "        self.dtype={'float64':torch.float64,'float32':torch.float32}[options.get('dtype','float64')]\n",
    "        self.device=options.get('device','cpu')\n",
    "        self.max_dim=options.get('max_dim',16)\n",
    "        self.nLayers=options.get('nLayers',10)\n",
    "        self.use_checkpoint=options.get('use_checkpoint',True)\n",
    "        self.observable_checkerboard=False\n",
    "        \n",
    "        self.params=torch.nn.ParameterDict({\n",
    "            k:torch.nn.Parameter(torch.tensor(v,dtype=self.dtype,device=self.device)) for k,v in params.items()\n",
    "        })\n",
    "        self.logZ=0\n",
    "        \n",
    "    def __str__(self):\n",
    "        rtval=\"\"\n",
    "        for k,v in self.params.items():\n",
    "            rtval+=k+':'+v+'\\n'\n",
    "        rtval+='dtype:'+self.dtype+'\\n'\n",
    "        rtval+='device:'+self.device+'\\n'\n",
    "        rtval+='max_dim:'+self.max_dim+'\\n'\n",
    "        rtval+='nLayers:'+self.nLayers+'\\n'\n",
    "        rtval+='nSite:'+2**nLayers+'\\n'\n",
    "        \n",
    "    def set_params(self,params):\n",
    "        self.params=torch.nn.ParameterDict({\n",
    "            k:torch.nn.Parameter(torch.tensor(v,dtype=self.dtype,device=self.device)) for k,v in params.items()\n",
    "        })\n",
    "        \n",
    "    def toT(self,t):\n",
    "        return torch.tensor(t,dtype=self.dtype,device=self.device)\n",
    "    \n",
    "    def generate_random_Isometry(self,dim1,dim2):\n",
    "        dim=max(dim1,dim2)\n",
    "        A=torch.randn(dim,dim,dtype=self.dtype,device=self.device)\n",
    "        U=torch.matrix_exp(A-A.t())\n",
    "        U=U[:dim1,:dim2]\n",
    "        return U\n",
    "    \n",
    "    def TRG_same_T(self,T,*w):\n",
    "        return self.TRG(T,T,*w)\n",
    "    \n",
    "    def forward_tensor(self):\n",
    "        logTotal=0\n",
    "        T=self.get_T0()\n",
    "        for i in range(self.nLayers):\n",
    "            w=self.ws[(i*self.w_per_layer):((i+1)*self.w_per_layer)]\n",
    "            if self.use_checkpoint:\n",
    "                T=torch.utils.checkpoint.checkpoint(self.TRG_same_T,T,*w)\n",
    "            else:\n",
    "                T=self.TRG_same_T(T,*w)\n",
    "                \n",
    "            norm=torch.linalg.norm(T)\n",
    "            T=T/norm\n",
    "            logTotal=2*logTotal+torch.log(norm)\n",
    "        return T,logTotal\n",
    "    \n",
    "    def forward_tensor_with_observable(self,T_op,contract_method=None):\n",
    "        logTotal=0\n",
    "        T=self.get_T0()\n",
    "        contracted=torch.zeros(self.nLayers,dtype=self.dtype,device=self.device)\n",
    "        for i in range(self.nLayers):\n",
    "            w=self.ws[(i*self.w_per_layer):((i+1)*self.w_per_layer)]\n",
    "            if self.use_checkpoint:\n",
    "                T1=torch.utils.checkpoint.checkpoint(self.TRG_same_T,T,*w)\n",
    "                T2=torch.utils.checkpoint.checkpoint(self.TRG,T,T_op,*w)\n",
    "                T3=torch.utils.checkpoint.checkpoint(self.TRG,T_op,T,*w)\n",
    "            else:\n",
    "                T1=self.TRG_same_T(T,*w)\n",
    "                T2=self.TRG(T,T_op,*w)\n",
    "                T3=self.TRG(T_op,T,*w)\n",
    "            if self.observable_checkerboard and i<self.spacial_dim:\n",
    "                T3=-T3\n",
    "\n",
    "            T,T_op=T1,(T2+T3)/2\n",
    "            norm=torch.linalg.norm(T)\n",
    "            T,T_op=T/norm,T_op/norm\n",
    "            logTotal=2*logTotal+torch.log(norm)\n",
    "            \n",
    "            if contract_method is not None:\n",
    "                Z=contract(T,contract_method)\n",
    "                Z_op=contract(T_op,contract_method)\n",
    "                contracted[i]=Z_op/Z\n",
    "            \n",
    "        return T,T_op,logTotal,contracted\n",
    "    \n",
    "    \n",
    "    def dlogZ(self,param):\n",
    "        self.requires_grad_(False)\n",
    "        self.params[param].requires_grad_(True)\n",
    "        self.zero_grad()\n",
    "        logZ=self.forward()\n",
    "        logZ.backward()\n",
    "        result=_toN(self.params[param].grad)\n",
    "        self.params[param].requires_grad_(False)\n",
    "        return result\n",
    "    \n",
    "    def update_single_layer(self,layer):\n",
    "        self.requires_grad_(False)\n",
    "        \n",
    "        for i in range(layer*self.w_per_layer,(layer+1)*self.w_per_layer):\n",
    "            self.ws[i].requires_grad_(True)\n",
    "        self.zero_grad()\n",
    "        \n",
    "        logZ=self.forward()\n",
    "        logZ.backward()\n",
    "        \n",
    "        with torch.no_grad():\n",
    "            for i in range(layer*self.w_per_layer,(layer+1)*self.w_per_layer):\n",
    "                E=self.ws[i].grad\n",
    "                dim1,dim2=E.shape[0],E.shape[2]\n",
    "                E=E.reshape(dim1*dim1,dim2)\n",
    "                U,S,Vh=torch.linalg.svd(E,full_matrices=False)\n",
    "                UVh=U@Vh\n",
    "                #UVh=svd2UVh(E)\n",
    "                del U,S,Vh,E\n",
    "                \n",
    "                #calculate diff\n",
    "                UVh_old=self.ws[i].reshape(dim1*dim1,dim2)\n",
    "                self.ws_diff[i]=_toN(torch.norm(UVh_old.t()@UVh@UVh.t()@UVh_old-torch.eye(dim2,device=UVh.device)))\n",
    "                del UVh_old\n",
    "                    \n",
    "                self.ws[i].data=UVh.reshape(dim1,dim1,dim2)\n",
    "                del UVh\n",
    "                torch.cuda.empty_cache()\n",
    "        return _toN(logZ)\n",
    "        \n",
    "    def optimize(self,nIter):\n",
    "        self.ws_diff=np.zeros(len(self.ws))\n",
    "        \n",
    "        torch.cuda.empty_cache()\n",
    "        if nIter>1:\n",
    "            pbar2=tqdm(range(nIter), leave=False)\n",
    "            pbar2.set_postfix({k:_toN(v) for k,v in self.params.items()})\n",
    "        else:\n",
    "            pbar2=range(nIter)\n",
    "        for i in pbar2:\n",
    "            pbar=tqdm([*range(self.nLayers-1,-1,-1)]+[*range(self.nLayers)], leave=False)\n",
    "            for j in pbar:\n",
    "                new_logZ=self.update_single_layer(j)\n",
    "        #lock all grads\n",
    "        for param in self.params.values(): \n",
    "            param.requires_grad_(False)\n",
    "        for i in range(self.nLayers): #slightly faster\n",
    "            self.ws[i].requires_grad_(False)\n",
    "        \n",
    "        self.logZ_diff=np.abs(self.logZ-new_logZ)\n",
    "        self.logZ=new_logZ\n",
    "        # normalized by layer weight, number of elements in tensor\n",
    "        # NOT USED but multiply by number of elements in last tensor to better match the effects in output\n",
    "        self.ws_diff_normalized=np.zeros(len(self.ws))\n",
    "        for i in range(self.nLayers):\n",
    "            for j in range(self.w_per_layer):\n",
    "                ij=i*self.w_per_layer+j\n",
    "                self.ws_diff_normalized[ij]=self.ws_diff[ij]/2**i#/torch.numel(self.ws[ij])*torch.numel(self.ws[-1])\n",
    "        # ignore the last layers we take trace directly\n",
    "        # use 10-norm so layers of large error has beter contribution       \n",
    "        self.ws_diff_total=np.average(self.ws_diff_normalized[:-self.w_per_layer*self.spacial_dim])\n",
    "        \n"
   ]
  },
  {
   "cell_type": "code",
   "execution_count": 43,
   "id": "80b0e9b2",
   "metadata": {},
   "outputs": [],
   "source": [
    "class HOTRG(SRG):\n",
    "    def __init__(self,params,options):\n",
    "        super(HOTRG,self).__init__(params,options)\n",
    "    \n",
    "    def create_isometries(self,start_dim,spacial_dim):\n",
    "        ws=[]\n",
    "        bond_dim=[start_dim]*spacial_dim\n",
    "        for i in range(self.nLayers):\n",
    "            for j in range(1,spacial_dim):\n",
    "                old_dim=bond_dim[j]\n",
    "                new_dim=min(old_dim**2,self.max_dim)\n",
    "                U=self.generate_random_Isometry(old_dim**2,new_dim).view(old_dim,old_dim,new_dim)\n",
    "                ws.append(U.detach())\n",
    "                bond_dim[j]=new_dim\n",
    "            bond_dim=bond_dim[1:]+[bond_dim[0]]\n",
    "        self.ws=torch.nn.ParameterList([\n",
    "            torch.nn.Parameter(v) for v in ws\n",
    "        ])\n",
    "        self.w_per_layer=spacial_dim-1\n",
    "        self.spacial_dim=spacial_dim\n",
    "        \n",
    "    def HOTRG2D(self,T1,T2,w):\n",
    "        return contract('ijkl,jmno,kna,lob->abim',T1,T2,w,w)#contract and rotate\n",
    "    \n",
    "    def HOTRG3D(self,T1,T2,w1,w2):\n",
    "        return contract('ijklmn,jopqrs,kpa,lqb,mrc,nsd->abcdio',T1,T2,w1,w1,w2,w2)#contract and rotate\n",
    "    \n",
    "    def forward(self):\n",
    "        T,logTotal=self.forward_tensor()\n",
    "        contract_all=[i for i in range(len(T.shape)//2) for j in range(2)]\n",
    "        Z=contract(T,contract_all)\n",
    "        return (torch.log(Z)+logTotal)/2**self.nLayers\n",
    "    \n",
    "    def forward_with_observable(self,T_op):\n",
    "        contract_method=[i for i in range(len(T_op.shape)//2) for j in range(2)]\n",
    "        _,_,_,contracted=self.forward_tensor_with_observable(T_op,contract_method=contract_method)\n",
    "        return contracted\n"
   ]
  },
  {
   "cell_type": "markdown",
   "id": "e5382206",
   "metadata": {},
   "source": [
    "# AKLT Public"
   ]
  },
  {
   "cell_type": "code",
   "execution_count": 44,
   "id": "e632eb86",
   "metadata": {},
   "outputs": [],
   "source": [
    "from scipy.special import comb\n",
    "def get_CG_no_normalization(n):\n",
    "    if n==0:\n",
    "        return np.eye(1)\n",
    "    CG=np.zeros((n+1,)+(2,)*n)\n",
    "    for i in range(2**n):\n",
    "        indices=tuple(map(int,bin(i)[2:].zfill(n)))\n",
    "        m=np.sum(indices)\n",
    "        CG[(m,)+indices]=1\n",
    "    return CG\n",
    "def get_CG(n):\n",
    "    if n==0:\n",
    "        return np.eye(1)\n",
    "    CG=np.zeros((n+1,)+(2,)*n)\n",
    "    for i in range(2**n):\n",
    "        indices=tuple(map(int,bin(i)[2:].zfill(n)))\n",
    "        m=np.sum(indices)\n",
    "        CG[(m,)+indices]=1/np.sqrt(comb(n,m))\n",
    "    return CG\n",
    "def get_Singlet():\n",
    "    return np.array([[0,1.],[-1.,0]])\n"
   ]
  },
  {
   "cell_type": "markdown",
   "id": "fe90f8ca",
   "metadata": {},
   "source": [
    "# AKLT 2D"
   ]
  },
  {
   "cell_type": "code",
   "execution_count": 45,
   "id": "bb57eeba",
   "metadata": {},
   "outputs": [],
   "source": [
    "class AKLT2D(HOTRG):\n",
    "    default_params={'a1':np.sqrt(6)/2,'a2':np.sqrt(6)}\n",
    "    def __init__(self,params,options):\n",
    "        super(AKLT2D,self).__init__(params,options)\n",
    "        self.create_isometries(start_dim=4,spacial_dim=2)\n",
    "        self.TRG=self.HOTRG2D\n",
    "        self.observable_checkerboard=True\n",
    "        self.magnetization=0\n",
    "        self.magnetization_diff=0\n",
    "        \n",
    "        \n",
    "    def get_T0(self):\n",
    "        projector=self.toT(get_CG_no_normalization(4))\n",
    "        singlet=self.toT([[0,-1],[1,0]])\n",
    "        ac0,ac1,ac2=self.toT(1),self.params['a1'],self.params['a2']\n",
    "        deform=torch.stack([ac2,ac1,ac0,ac1,ac2])\n",
    "        node=contract('aijkl,im,kn,a->amjnl',projector,singlet,singlet,deform)\n",
    "        return contract('aijkl,amnop->imjnkolp',node,node).reshape(4,4,4,4)#UDLR\n",
    "\n",
    "    def get_SZT0(self):\n",
    "        projector=self.toT(get_CG_no_normalization(4))\n",
    "        singlet=self.toT([[0,-1],[1,0]])\n",
    "        ac0,ac1,ac2=self.toT(1),self.params['a1'],self.params['a2']\n",
    "        deform=torch.stack([ac2,ac1,ac0,ac1,ac2])\n",
    "        node=contract('aijkl,im,kn,a->amjnl',projector,singlet,singlet,deform)\n",
    "        op=self.toT([2,1,0,-1,-2])\n",
    "        return contract('aijkl,amnop,a->imjnkolp',node,node,op).reshape(4,4,4,4)#UDLR\n",
    "    \n",
    "    def calc_magnetization(self):\n",
    "        with torch.no_grad():\n",
    "            self.magnetization_per_layer=_toN(torch.abs(self.forward_with_observable(self.get_SZT0())))\n",
    "            new_magnetization=self.magnetization_per_layer[-1]\n",
    "            self.magnetization_diff=np.abs(self.magnetization-new_magnetization)\n",
    "            self.magnetization=new_magnetization\n"
   ]
  },
  {
   "cell_type": "markdown",
   "id": "ce635712",
   "metadata": {},
   "source": [
    "Training"
   ]
  },
  {
   "cell_type": "code",
   "execution_count": 38,
   "id": "160d49fd",
   "metadata": {},
   "outputs": [],
   "source": [
    "import os\n",
    "import pickle\n",
    "script_name=os.path.splitext(os.path.basename(__file__))[0] if '__file__' in globals() else 'notebook'\n",
    "\n",
    "def CreateDataPoint(name,params,options):\n",
    "    pickle.save(name+'.datapoint',{'params':params,'options':options})\n"
   ]
  },
  {
   "cell_type": "code",
   "execution_count": 39,
   "id": "9fbe587a",
   "metadata": {},
   "outputs": [
    {
     "ename": "IndentationError",
     "evalue": "expected an indented block (2603096518.py, line 1)",
     "output_type": "error",
     "traceback": [
      "\u001b[0;36m  File \u001b[0;32m\"/tmp/ipykernel_9315/2603096518.py\"\u001b[0;36m, line \u001b[0;32m1\u001b[0m\n\u001b[0;31m    def Train(name,model):\u001b[0m\n\u001b[0m                          ^\u001b[0m\n\u001b[0;31mIndentationError\u001b[0m\u001b[0;31m:\u001b[0m expected an indented block\n"
     ]
    }
   ],
   "source": [
    "def Train(name,model):\n",
    "    pass"
   ]
  },
  {
   "cell_type": "code",
   "execution_count": 46,
   "id": "983bccea",
   "metadata": {},
   "outputs": [
    {
     "ename": "AttributeError",
     "evalue": "module 'pickle' has no attribute 'save'",
     "output_type": "error",
     "traceback": [
      "\u001b[0;31m---------------------------------------------------------------------------\u001b[0m",
      "\u001b[0;31mAttributeError\u001b[0m                            Traceback (most recent call last)",
      "\u001b[0;32m/tmp/ipykernel_9315/4106485380.py\u001b[0m in \u001b[0;36m<module>\u001b[0;34m\u001b[0m\n\u001b[1;32m      9\u001b[0m     \u001b[0mparams\u001b[0m\u001b[0;34m=\u001b[0m\u001b[0;34m{\u001b[0m\u001b[0;34m'a1'\u001b[0m\u001b[0;34m:\u001b[0m\u001b[0;36m0\u001b[0m\u001b[0;34m,\u001b[0m\u001b[0;34m'a2'\u001b[0m\u001b[0;34m:\u001b[0m\u001b[0ma\u001b[0m\u001b[0;34m}\u001b[0m\u001b[0;34m\u001b[0m\u001b[0;34m\u001b[0m\u001b[0m\n\u001b[1;32m     10\u001b[0m     \u001b[0mdatapoint_name\u001b[0m\u001b[0;34m=\u001b[0m\u001b[0;34mf'script_name[{a}]'\u001b[0m\u001b[0;34m\u001b[0m\u001b[0;34m\u001b[0m\u001b[0m\n\u001b[0;32m---> 11\u001b[0;31m     \u001b[0mCreateDataPoint\u001b[0m\u001b[0;34m(\u001b[0m\u001b[0mdatapoint_name\u001b[0m\u001b[0;34m,\u001b[0m\u001b[0mparams\u001b[0m\u001b[0;34m,\u001b[0m\u001b[0moptions\u001b[0m\u001b[0;34m)\u001b[0m\u001b[0;34m\u001b[0m\u001b[0;34m\u001b[0m\u001b[0m\n\u001b[0m",
      "\u001b[0;32m/tmp/ipykernel_9315/910864072.py\u001b[0m in \u001b[0;36mCreateDataPoint\u001b[0;34m(name, params, options)\u001b[0m\n\u001b[1;32m      4\u001b[0m \u001b[0;34m\u001b[0m\u001b[0m\n\u001b[1;32m      5\u001b[0m \u001b[0;32mdef\u001b[0m \u001b[0mCreateDataPoint\u001b[0m\u001b[0;34m(\u001b[0m\u001b[0mname\u001b[0m\u001b[0;34m,\u001b[0m\u001b[0mparams\u001b[0m\u001b[0;34m,\u001b[0m\u001b[0moptions\u001b[0m\u001b[0;34m)\u001b[0m\u001b[0;34m:\u001b[0m\u001b[0;34m\u001b[0m\u001b[0;34m\u001b[0m\u001b[0m\n\u001b[0;32m----> 6\u001b[0;31m     \u001b[0mpickle\u001b[0m\u001b[0;34m.\u001b[0m\u001b[0msave\u001b[0m\u001b[0;34m(\u001b[0m\u001b[0mname\u001b[0m\u001b[0;34m+\u001b[0m\u001b[0;34m'.datapoint'\u001b[0m\u001b[0;34m,\u001b[0m\u001b[0;34m{\u001b[0m\u001b[0;34m'params'\u001b[0m\u001b[0;34m:\u001b[0m\u001b[0mparams\u001b[0m\u001b[0;34m,\u001b[0m\u001b[0;34m'options'\u001b[0m\u001b[0;34m:\u001b[0m\u001b[0moptions\u001b[0m\u001b[0;34m}\u001b[0m\u001b[0;34m)\u001b[0m\u001b[0;34m\u001b[0m\u001b[0;34m\u001b[0m\u001b[0m\n\u001b[0m",
      "\u001b[0;31mAttributeError\u001b[0m: module 'pickle' has no attribute 'save'"
     ]
    }
   ],
   "source": [
    "options={\n",
    "    'dtype':'float64',\n",
    "    'device':'cuda:0',\n",
    "    'max_dim':15, # 50 for float32\n",
    "    'nLayers':20,\n",
    "    'use_checkpoint':True\n",
    "}\n",
    "for a in np.linspace(1.779,1.781,5):\n",
    "    params={'a1':0,'a2':a}\n",
    "    datapoint_name=f'script_name[{a}]'\n",
    "    CreateDataPoint(datapoint_name,params,options)"
   ]
  },
  {
   "cell_type": "code",
   "execution_count": null,
   "id": "c72e1a48",
   "metadata": {},
   "outputs": [],
   "source": []
  },
  {
   "cell_type": "code",
   "execution_count": 20,
   "id": "18e4c3a3",
   "metadata": {
    "scrolled": false
   },
   "outputs": [
    {
     "name": "stdout",
     "output_type": "stream",
     "text": [
      "{'dtype': torch.float64, 'device': 'cuda:0', 'max_dim': 15, 'nLayers': 20, 'use_checkpoint': True}\n"
     ]
    },
    {
     "data": {
      "application/vnd.jupyter.widget-view+json": {
       "model_id": "b66ba7d05b724cfbab874736750b7296",
       "version_major": 2,
       "version_minor": 0
      },
      "text/plain": [
       "  0%|          | 0/100 [00:00<?, ?it/s]"
      ]
     },
     "metadata": {},
     "output_type": "display_data"
    },
    {
     "data": {
      "application/vnd.jupyter.widget-view+json": {
       "model_id": "",
       "version_major": 2,
       "version_minor": 0
      },
      "text/plain": [
       "  0%|          | 0/40 [00:00<?, ?it/s]"
      ]
     },
     "metadata": {},
     "output_type": "display_data"
    },
    {
     "name": "stdout",
     "output_type": "stream",
     "text": [
      "00:11\n"
     ]
    },
    {
     "data": {
      "application/vnd.jupyter.widget-view+json": {
       "model_id": "",
       "version_major": 2,
       "version_minor": 0
      },
      "text/plain": [
       "  0%|          | 0/40 [00:00<?, ?it/s]"
      ]
     },
     "metadata": {},
     "output_type": "display_data"
    },
    {
     "name": "stdout",
     "output_type": "stream",
     "text": [
      "00:23\n"
     ]
    },
    {
     "data": {
      "application/vnd.jupyter.widget-view+json": {
       "model_id": "cdeca29f635d45479bdf0b408059d498",
       "version_major": 2,
       "version_minor": 0
      },
      "text/plain": [
       "  0%|          | 0/40 [00:00<?, ?it/s]"
      ]
     },
     "metadata": {},
     "output_type": "display_data"
    },
    {
     "ename": "KeyboardInterrupt",
     "evalue": "",
     "output_type": "error",
     "traceback": [
      "\u001b[0;31m---------------------------------------------------------------------------\u001b[0m",
      "\u001b[0;31mKeyboardInterrupt\u001b[0m                         Traceback (most recent call last)",
      "\u001b[0;32m/tmp/ipykernel_9315/1330258882.py\u001b[0m in \u001b[0;36m<module>\u001b[0;34m\u001b[0m\n\u001b[1;32m     32\u001b[0m     \u001b[0;32mfor\u001b[0m \u001b[0m_iter\u001b[0m \u001b[0;32min\u001b[0m \u001b[0mpbar\u001b[0m\u001b[0;34m:\u001b[0m\u001b[0;34m\u001b[0m\u001b[0;34m\u001b[0m\u001b[0m\n\u001b[1;32m     33\u001b[0m \u001b[0;34m\u001b[0m\u001b[0m\n\u001b[0;32m---> 34\u001b[0;31m         \u001b[0msrg\u001b[0m\u001b[0;34m.\u001b[0m\u001b[0moptimize\u001b[0m\u001b[0;34m(\u001b[0m\u001b[0;36m1\u001b[0m\u001b[0;34m)\u001b[0m\u001b[0;34m\u001b[0m\u001b[0;34m\u001b[0m\u001b[0m\n\u001b[0m\u001b[1;32m     35\u001b[0m         \u001b[0msrg\u001b[0m\u001b[0;34m.\u001b[0m\u001b[0mcalc_magnetization\u001b[0m\u001b[0;34m(\u001b[0m\u001b[0;34m)\u001b[0m\u001b[0;34m\u001b[0m\u001b[0;34m\u001b[0m\u001b[0m\n\u001b[1;32m     36\u001b[0m \u001b[0;34m\u001b[0m\u001b[0m\n",
      "\u001b[0;32m/tmp/ipykernel_9315/4256995438.py\u001b[0m in \u001b[0;36moptimize\u001b[0;34m(self, nIter)\u001b[0m\n\u001b[1;32m    139\u001b[0m             \u001b[0mpbar\u001b[0m\u001b[0;34m=\u001b[0m\u001b[0mtqdm\u001b[0m\u001b[0;34m(\u001b[0m\u001b[0;34m[\u001b[0m\u001b[0;34m*\u001b[0m\u001b[0mrange\u001b[0m\u001b[0;34m(\u001b[0m\u001b[0mself\u001b[0m\u001b[0;34m.\u001b[0m\u001b[0mnLayers\u001b[0m\u001b[0;34m-\u001b[0m\u001b[0;36m1\u001b[0m\u001b[0;34m,\u001b[0m\u001b[0;34m-\u001b[0m\u001b[0;36m1\u001b[0m\u001b[0;34m,\u001b[0m\u001b[0;34m-\u001b[0m\u001b[0;36m1\u001b[0m\u001b[0;34m)\u001b[0m\u001b[0;34m]\u001b[0m\u001b[0;34m+\u001b[0m\u001b[0;34m[\u001b[0m\u001b[0;34m*\u001b[0m\u001b[0mrange\u001b[0m\u001b[0;34m(\u001b[0m\u001b[0mself\u001b[0m\u001b[0;34m.\u001b[0m\u001b[0mnLayers\u001b[0m\u001b[0;34m)\u001b[0m\u001b[0;34m]\u001b[0m\u001b[0;34m,\u001b[0m \u001b[0mleave\u001b[0m\u001b[0;34m=\u001b[0m\u001b[0;32mFalse\u001b[0m\u001b[0;34m)\u001b[0m\u001b[0;34m\u001b[0m\u001b[0;34m\u001b[0m\u001b[0m\n\u001b[1;32m    140\u001b[0m             \u001b[0;32mfor\u001b[0m \u001b[0mj\u001b[0m \u001b[0;32min\u001b[0m \u001b[0mpbar\u001b[0m\u001b[0;34m:\u001b[0m\u001b[0;34m\u001b[0m\u001b[0;34m\u001b[0m\u001b[0m\n\u001b[0;32m--> 141\u001b[0;31m                 \u001b[0mnew_logZ\u001b[0m\u001b[0;34m=\u001b[0m\u001b[0mself\u001b[0m\u001b[0;34m.\u001b[0m\u001b[0mupdate_single_layer\u001b[0m\u001b[0;34m(\u001b[0m\u001b[0mj\u001b[0m\u001b[0;34m)\u001b[0m\u001b[0;34m\u001b[0m\u001b[0;34m\u001b[0m\u001b[0m\n\u001b[0m\u001b[1;32m    142\u001b[0m         \u001b[0;31m#lock all grads\u001b[0m\u001b[0;34m\u001b[0m\u001b[0;34m\u001b[0m\u001b[0m\n\u001b[1;32m    143\u001b[0m         \u001b[0;32mfor\u001b[0m \u001b[0mparam\u001b[0m \u001b[0;32min\u001b[0m \u001b[0mself\u001b[0m\u001b[0;34m.\u001b[0m\u001b[0mparams\u001b[0m\u001b[0;34m.\u001b[0m\u001b[0mvalues\u001b[0m\u001b[0;34m(\u001b[0m\u001b[0;34m)\u001b[0m\u001b[0;34m:\u001b[0m\u001b[0;34m\u001b[0m\u001b[0;34m\u001b[0m\u001b[0m\n",
      "\u001b[0;32m/tmp/ipykernel_9315/4256995438.py\u001b[0m in \u001b[0;36mupdate_single_layer\u001b[0;34m(self, layer)\u001b[0m\n\u001b[1;32m    112\u001b[0m                 \u001b[0mdim1\u001b[0m\u001b[0;34m,\u001b[0m\u001b[0mdim2\u001b[0m\u001b[0;34m=\u001b[0m\u001b[0mE\u001b[0m\u001b[0;34m.\u001b[0m\u001b[0mshape\u001b[0m\u001b[0;34m[\u001b[0m\u001b[0;36m0\u001b[0m\u001b[0;34m]\u001b[0m\u001b[0;34m,\u001b[0m\u001b[0mE\u001b[0m\u001b[0;34m.\u001b[0m\u001b[0mshape\u001b[0m\u001b[0;34m[\u001b[0m\u001b[0;36m2\u001b[0m\u001b[0;34m]\u001b[0m\u001b[0;34m\u001b[0m\u001b[0;34m\u001b[0m\u001b[0m\n\u001b[1;32m    113\u001b[0m                 \u001b[0mE\u001b[0m\u001b[0;34m=\u001b[0m\u001b[0mE\u001b[0m\u001b[0;34m.\u001b[0m\u001b[0mreshape\u001b[0m\u001b[0;34m(\u001b[0m\u001b[0mdim1\u001b[0m\u001b[0;34m*\u001b[0m\u001b[0mdim1\u001b[0m\u001b[0;34m,\u001b[0m\u001b[0mdim2\u001b[0m\u001b[0;34m)\u001b[0m\u001b[0;34m\u001b[0m\u001b[0;34m\u001b[0m\u001b[0m\n\u001b[0;32m--> 114\u001b[0;31m                 \u001b[0mU\u001b[0m\u001b[0;34m,\u001b[0m\u001b[0mS\u001b[0m\u001b[0;34m,\u001b[0m\u001b[0mVh\u001b[0m\u001b[0;34m=\u001b[0m\u001b[0mtorch\u001b[0m\u001b[0;34m.\u001b[0m\u001b[0mlinalg\u001b[0m\u001b[0;34m.\u001b[0m\u001b[0msvd\u001b[0m\u001b[0;34m(\u001b[0m\u001b[0mE\u001b[0m\u001b[0;34m,\u001b[0m\u001b[0mfull_matrices\u001b[0m\u001b[0;34m=\u001b[0m\u001b[0;32mFalse\u001b[0m\u001b[0;34m)\u001b[0m\u001b[0;34m\u001b[0m\u001b[0;34m\u001b[0m\u001b[0m\n\u001b[0m\u001b[1;32m    115\u001b[0m                 \u001b[0mUVh\u001b[0m\u001b[0;34m=\u001b[0m\u001b[0mU\u001b[0m\u001b[0;34m@\u001b[0m\u001b[0mVh\u001b[0m\u001b[0;34m\u001b[0m\u001b[0;34m\u001b[0m\u001b[0m\n\u001b[1;32m    116\u001b[0m                 \u001b[0;31m#UVh=svd2UVh(E)\u001b[0m\u001b[0;34m\u001b[0m\u001b[0;34m\u001b[0m\u001b[0m\n",
      "\u001b[0;31mKeyboardInterrupt\u001b[0m: "
     ]
    }
   ],
   "source": [
    "options={\n",
    "    'dtype':'float64',\n",
    "    'device':'cuda:0',\n",
    "    'max_dim':15, # 50 for float32\n",
    "    'nLayers':20,\n",
    "    'use_checkpoint':True\n",
    "}\n",
    "print(options)\n",
    "\n",
    "MAX_ITER=100\n",
    "EARLY_TIME_ITER=10\n",
    "THRESHOLD_AVERAGE_WINDOW=10\n",
    "THRESHOLD=1e-7\n",
    "\n",
    "REUSE_W=False\n",
    "\n",
    "sweep=(np.linspace(1.779,1.781,5))\n",
    "\n",
    "data=pd.DataFrame()\n",
    "model=AKLT2D\n",
    "srg=model(model.default_params,options)\n",
    "\n",
    "for a in sweep:\n",
    "    params={'a1':0,'a2':a}\n",
    "    if not REUSE_W:\n",
    "        srg=model(params,options)\n",
    "    srg.set_params(params)\n",
    "    \n",
    "    loss_curve=[]\n",
    "    pbar=tqdm(range(MAX_ITER))\n",
    "    \n",
    "    for _iter in pbar:\n",
    "        \n",
    "        srg.optimize(1)\n",
    "        srg.calc_magnetization()\n",
    "        \n",
    "        loss_curve.append(srg.ws_diff_total)\n",
    "        average_loss=np.average(np.array(loss_curve[-THRESHOLD_AVERAGE_WINDOW:]))\n",
    "        \n",
    "        pbar.set_postfix({'ΔlogZ':srg.logZ_diff,'Δm':srg.magnetization_diff,'Δw':srg.ws_diff_total})\n",
    "        \n",
    "        newRow={**params,'iter':_iter+1,\n",
    "                'logZ':srg.logZ,'magnetization':srg.magnetization,\n",
    "                'logZ_diff':srg.logZ_diff,'magnetization_diff':srg.magnetization_diff,\n",
    "                'magnetization_per_layer':srg.magnetization_per_layer.copy(),\n",
    "                'ws_diff_total':srg.ws_diff_total,\n",
    "                'ws_diff':srg.ws_diff.copy(),\n",
    "                'ws_diff_normalized':srg.ws_diff_normalized.copy(),\n",
    "                'elapsed':pbar.format_dict['elapsed'],\n",
    "               }\n",
    "        \n",
    "        data=data.append(newRow,ignore_index=True)\n",
    "        data.to_csv(script_name+'.csv')\n",
    "        \n",
    "        torch.save({'model':srg.state_dict(),'options':options,'params':params},script_name+f'[{a}]'+'.pth')\n",
    "        saved=torch.load(script_name+f'[{a}]'+'.pth')\n",
    "        #srg=model(saved['params'],saved['options'])\n",
    "        #srg.load_state_dict(saved['model'])\n",
    "        \n",
    "        \n",
    "        if _iter>=EARLY_TIME_ITER and average_loss<THRESHOLD:\n",
    "            print('converged!')\n",
    "            break\n",
    "        \n",
    "    for k,v in newRow.items():\n",
    "        print(k,':',v,end=' ')\n",
    "    print()\n"
   ]
  },
  {
   "cell_type": "markdown",
   "id": "c7e34402",
   "metadata": {},
   "source": [
    "# AKLT 3D"
   ]
  },
  {
   "cell_type": "code",
   "execution_count": 235,
   "id": "af828d3a",
   "metadata": {},
   "outputs": [],
   "source": [
    "class AKLT3D(HOTRG):\n",
    "    default_params={'a1':np.sqrt(20/15),'a2':np.sqrt(20/6),'a3':np.sqrt(20/1)}\n",
    "    def __init__(self,params,options):\n",
    "        super(AKLT3D,self).__init__(params,options)\n",
    "        self.create_isometries(start_dim=4,spacial_dim=3)\n",
    "        self.TRG=self.HOTRG3D\n",
    "        self.observable_checkerboard=True\n",
    "        self.magnetization=0\n",
    "        self.magnetization_diff=0\n",
    "        \n",
    "    def get_T0(self):\n",
    "        projector=self.toT(get_CG_no_normalization(6))\n",
    "        singlet=self.toT([[0,-1],[1,0]])\n",
    "        ac0,ac1,ac2,ac3=self.toT(1),self.params['a1'],self.params['a2'],self.params['a3']\n",
    "        deform=torch.stack([ac3,ac2,ac1,ac0,ac1,ac2,ac3])\n",
    "        node=contract('aijklmn,io,kp,mq,a->aojplqn',projector,singlet,singlet,singlet,deform)\n",
    "        return contract('aijklmn,aopqrst->iojpkqlrmsnt',node,node).reshape(4,4,4,4,4,4)#UDLRFB\n",
    "\n",
    "    def get_SZT0(self):\n",
    "        projector=self.toT(get_CG_no_normalization(6))\n",
    "        singlet=self.toT([[0,-1],[1,0]])\n",
    "        ac0,ac1,ac2,ac3=self.toT(1),self.params['a1'],self.params['a2'],self.params['a3']\n",
    "        deform=torch.stack([ac3,ac2,ac1,ac0,ac1,ac2,ac3])\n",
    "        node=contract('aijklmn,io,kp,mq,a->aojplqn',projector,singlet,singlet,singlet,deform)\n",
    "        op=self.toT([3,2,1,0,-1,-2,-3])\n",
    "        return contract('aijklmn,aopqrst,a->iojpkqlrmsnt',node,node,op).reshape(4,4,4,4,4,4)#UDLRFB\n",
    "    \n",
    "    def calc_magnetization(self):\n",
    "        with torch.no_grad():\n",
    "            self.magnetization_per_layer=_toN(torch.abs(self.forward_with_observable(self.get_SZT0())))\n",
    "            new_magnetization=self.magnetization_per_layer[-1]\n",
    "            self.magnetization_diff=np.abs(self.magnetization-new_magnetization)\n",
    "            self.magnetization=new_magnetization\n"
   ]
  },
  {
   "cell_type": "markdown",
   "id": "511ea9b4",
   "metadata": {},
   "source": [
    "# Determine Convergence"
   ]
  },
  {
   "cell_type": "code",
   "execution_count": null,
   "id": "b0efd59d",
   "metadata": {},
   "outputs": [
    {
     "name": "stdout",
     "output_type": "stream",
     "text": [
      "{'dtype': torch.float64, 'device': 'cuda:0', 'max_dim': 8, 'nLayers': 21, 'use_checkpoint': True}\n"
     ]
    },
    {
     "data": {
      "application/vnd.jupyter.widget-view+json": {
       "model_id": "f6b05e10b48d49c797bb9390e3eb743b",
       "version_major": 2,
       "version_minor": 0
      },
      "text/plain": [
       "  0%|          | 0/100 [00:00<?, ?it/s]"
      ]
     },
     "metadata": {},
     "output_type": "display_data"
    },
    {
     "data": {
      "application/vnd.jupyter.widget-view+json": {
       "model_id": "",
       "version_major": 2,
       "version_minor": 0
      },
      "text/plain": [
       "  0%|          | 0/42 [00:00<?, ?it/s]"
      ]
     },
     "metadata": {},
     "output_type": "display_data"
    },
    {
     "data": {
      "application/vnd.jupyter.widget-view+json": {
       "model_id": "",
       "version_major": 2,
       "version_minor": 0
      },
      "text/plain": [
       "  0%|          | 0/42 [00:00<?, ?it/s]"
      ]
     },
     "metadata": {},
     "output_type": "display_data"
    },
    {
     "data": {
      "application/vnd.jupyter.widget-view+json": {
       "model_id": "",
       "version_major": 2,
       "version_minor": 0
      },
      "text/plain": [
       "  0%|          | 0/42 [00:00<?, ?it/s]"
      ]
     },
     "metadata": {},
     "output_type": "display_data"
    },
    {
     "data": {
      "application/vnd.jupyter.widget-view+json": {
       "model_id": "",
       "version_major": 2,
       "version_minor": 0
      },
      "text/plain": [
       "  0%|          | 0/42 [00:00<?, ?it/s]"
      ]
     },
     "metadata": {},
     "output_type": "display_data"
    },
    {
     "data": {
      "application/vnd.jupyter.widget-view+json": {
       "model_id": "",
       "version_major": 2,
       "version_minor": 0
      },
      "text/plain": [
       "  0%|          | 0/42 [00:00<?, ?it/s]"
      ]
     },
     "metadata": {},
     "output_type": "display_data"
    },
    {
     "data": {
      "application/vnd.jupyter.widget-view+json": {
       "model_id": "",
       "version_major": 2,
       "version_minor": 0
      },
      "text/plain": [
       "  0%|          | 0/42 [00:00<?, ?it/s]"
      ]
     },
     "metadata": {},
     "output_type": "display_data"
    },
    {
     "data": {
      "application/vnd.jupyter.widget-view+json": {
       "model_id": "",
       "version_major": 2,
       "version_minor": 0
      },
      "text/plain": [
       "  0%|          | 0/42 [00:00<?, ?it/s]"
      ]
     },
     "metadata": {},
     "output_type": "display_data"
    },
    {
     "data": {
      "application/vnd.jupyter.widget-view+json": {
       "model_id": "",
       "version_major": 2,
       "version_minor": 0
      },
      "text/plain": [
       "  0%|          | 0/42 [00:00<?, ?it/s]"
      ]
     },
     "metadata": {},
     "output_type": "display_data"
    },
    {
     "data": {
      "application/vnd.jupyter.widget-view+json": {
       "model_id": "",
       "version_major": 2,
       "version_minor": 0
      },
      "text/plain": [
       "  0%|          | 0/42 [00:00<?, ?it/s]"
      ]
     },
     "metadata": {},
     "output_type": "display_data"
    },
    {
     "data": {
      "application/vnd.jupyter.widget-view+json": {
       "model_id": "",
       "version_major": 2,
       "version_minor": 0
      },
      "text/plain": [
       "  0%|          | 0/42 [00:00<?, ?it/s]"
      ]
     },
     "metadata": {},
     "output_type": "display_data"
    },
    {
     "data": {
      "application/vnd.jupyter.widget-view+json": {
       "model_id": "",
       "version_major": 2,
       "version_minor": 0
      },
      "text/plain": [
       "  0%|          | 0/42 [00:00<?, ?it/s]"
      ]
     },
     "metadata": {},
     "output_type": "display_data"
    },
    {
     "data": {
      "application/vnd.jupyter.widget-view+json": {
       "model_id": "",
       "version_major": 2,
       "version_minor": 0
      },
      "text/plain": [
       "  0%|          | 0/42 [00:00<?, ?it/s]"
      ]
     },
     "metadata": {},
     "output_type": "display_data"
    },
    {
     "data": {
      "application/vnd.jupyter.widget-view+json": {
       "model_id": "",
       "version_major": 2,
       "version_minor": 0
      },
      "text/plain": [
       "  0%|          | 0/42 [00:00<?, ?it/s]"
      ]
     },
     "metadata": {},
     "output_type": "display_data"
    },
    {
     "data": {
      "application/vnd.jupyter.widget-view+json": {
       "model_id": "",
       "version_major": 2,
       "version_minor": 0
      },
      "text/plain": [
       "  0%|          | 0/42 [00:00<?, ?it/s]"
      ]
     },
     "metadata": {},
     "output_type": "display_data"
    },
    {
     "data": {
      "application/vnd.jupyter.widget-view+json": {
       "model_id": "",
       "version_major": 2,
       "version_minor": 0
      },
      "text/plain": [
       "  0%|          | 0/42 [00:00<?, ?it/s]"
      ]
     },
     "metadata": {},
     "output_type": "display_data"
    },
    {
     "data": {
      "application/vnd.jupyter.widget-view+json": {
       "model_id": "",
       "version_major": 2,
       "version_minor": 0
      },
      "text/plain": [
       "  0%|          | 0/42 [00:00<?, ?it/s]"
      ]
     },
     "metadata": {},
     "output_type": "display_data"
    },
    {
     "data": {
      "application/vnd.jupyter.widget-view+json": {
       "model_id": "",
       "version_major": 2,
       "version_minor": 0
      },
      "text/plain": [
       "  0%|          | 0/42 [00:00<?, ?it/s]"
      ]
     },
     "metadata": {},
     "output_type": "display_data"
    },
    {
     "data": {
      "application/vnd.jupyter.widget-view+json": {
       "model_id": "",
       "version_major": 2,
       "version_minor": 0
      },
      "text/plain": [
       "  0%|          | 0/42 [00:00<?, ?it/s]"
      ]
     },
     "metadata": {},
     "output_type": "display_data"
    },
    {
     "data": {
      "application/vnd.jupyter.widget-view+json": {
       "model_id": "",
       "version_major": 2,
       "version_minor": 0
      },
      "text/plain": [
       "  0%|          | 0/42 [00:00<?, ?it/s]"
      ]
     },
     "metadata": {},
     "output_type": "display_data"
    },
    {
     "data": {
      "application/vnd.jupyter.widget-view+json": {
       "model_id": "",
       "version_major": 2,
       "version_minor": 0
      },
      "text/plain": [
       "  0%|          | 0/42 [00:00<?, ?it/s]"
      ]
     },
     "metadata": {},
     "output_type": "display_data"
    },
    {
     "data": {
      "application/vnd.jupyter.widget-view+json": {
       "model_id": "",
       "version_major": 2,
       "version_minor": 0
      },
      "text/plain": [
       "  0%|          | 0/42 [00:00<?, ?it/s]"
      ]
     },
     "metadata": {},
     "output_type": "display_data"
    },
    {
     "data": {
      "application/vnd.jupyter.widget-view+json": {
       "model_id": "",
       "version_major": 2,
       "version_minor": 0
      },
      "text/plain": [
       "  0%|          | 0/42 [00:00<?, ?it/s]"
      ]
     },
     "metadata": {},
     "output_type": "display_data"
    },
    {
     "data": {
      "application/vnd.jupyter.widget-view+json": {
       "model_id": "",
       "version_major": 2,
       "version_minor": 0
      },
      "text/plain": [
       "  0%|          | 0/42 [00:00<?, ?it/s]"
      ]
     },
     "metadata": {},
     "output_type": "display_data"
    },
    {
     "data": {
      "application/vnd.jupyter.widget-view+json": {
       "model_id": "",
       "version_major": 2,
       "version_minor": 0
      },
      "text/plain": [
       "  0%|          | 0/42 [00:00<?, ?it/s]"
      ]
     },
     "metadata": {},
     "output_type": "display_data"
    },
    {
     "data": {
      "application/vnd.jupyter.widget-view+json": {
       "model_id": "",
       "version_major": 2,
       "version_minor": 0
      },
      "text/plain": [
       "  0%|          | 0/42 [00:00<?, ?it/s]"
      ]
     },
     "metadata": {},
     "output_type": "display_data"
    },
    {
     "data": {
      "application/vnd.jupyter.widget-view+json": {
       "model_id": "",
       "version_major": 2,
       "version_minor": 0
      },
      "text/plain": [
       "  0%|          | 0/42 [00:00<?, ?it/s]"
      ]
     },
     "metadata": {},
     "output_type": "display_data"
    },
    {
     "data": {
      "application/vnd.jupyter.widget-view+json": {
       "model_id": "",
       "version_major": 2,
       "version_minor": 0
      },
      "text/plain": [
       "  0%|          | 0/42 [00:00<?, ?it/s]"
      ]
     },
     "metadata": {},
     "output_type": "display_data"
    },
    {
     "data": {
      "application/vnd.jupyter.widget-view+json": {
       "model_id": "",
       "version_major": 2,
       "version_minor": 0
      },
      "text/plain": [
       "  0%|          | 0/42 [00:00<?, ?it/s]"
      ]
     },
     "metadata": {},
     "output_type": "display_data"
    },
    {
     "data": {
      "application/vnd.jupyter.widget-view+json": {
       "model_id": "",
       "version_major": 2,
       "version_minor": 0
      },
      "text/plain": [
       "  0%|          | 0/42 [00:00<?, ?it/s]"
      ]
     },
     "metadata": {},
     "output_type": "display_data"
    },
    {
     "data": {
      "application/vnd.jupyter.widget-view+json": {
       "model_id": "",
       "version_major": 2,
       "version_minor": 0
      },
      "text/plain": [
       "  0%|          | 0/42 [00:00<?, ?it/s]"
      ]
     },
     "metadata": {},
     "output_type": "display_data"
    },
    {
     "data": {
      "application/vnd.jupyter.widget-view+json": {
       "model_id": "",
       "version_major": 2,
       "version_minor": 0
      },
      "text/plain": [
       "  0%|          | 0/42 [00:00<?, ?it/s]"
      ]
     },
     "metadata": {},
     "output_type": "display_data"
    },
    {
     "data": {
      "application/vnd.jupyter.widget-view+json": {
       "model_id": "",
       "version_major": 2,
       "version_minor": 0
      },
      "text/plain": [
       "  0%|          | 0/42 [00:00<?, ?it/s]"
      ]
     },
     "metadata": {},
     "output_type": "display_data"
    },
    {
     "data": {
      "application/vnd.jupyter.widget-view+json": {
       "model_id": "",
       "version_major": 2,
       "version_minor": 0
      },
      "text/plain": [
       "  0%|          | 0/42 [00:00<?, ?it/s]"
      ]
     },
     "metadata": {},
     "output_type": "display_data"
    },
    {
     "data": {
      "application/vnd.jupyter.widget-view+json": {
       "model_id": "",
       "version_major": 2,
       "version_minor": 0
      },
      "text/plain": [
       "  0%|          | 0/42 [00:00<?, ?it/s]"
      ]
     },
     "metadata": {},
     "output_type": "display_data"
    },
    {
     "data": {
      "application/vnd.jupyter.widget-view+json": {
       "model_id": "",
       "version_major": 2,
       "version_minor": 0
      },
      "text/plain": [
       "  0%|          | 0/42 [00:00<?, ?it/s]"
      ]
     },
     "metadata": {},
     "output_type": "display_data"
    },
    {
     "data": {
      "application/vnd.jupyter.widget-view+json": {
       "model_id": "",
       "version_major": 2,
       "version_minor": 0
      },
      "text/plain": [
       "  0%|          | 0/42 [00:00<?, ?it/s]"
      ]
     },
     "metadata": {},
     "output_type": "display_data"
    },
    {
     "data": {
      "application/vnd.jupyter.widget-view+json": {
       "model_id": "",
       "version_major": 2,
       "version_minor": 0
      },
      "text/plain": [
       "  0%|          | 0/42 [00:00<?, ?it/s]"
      ]
     },
     "metadata": {},
     "output_type": "display_data"
    },
    {
     "data": {
      "application/vnd.jupyter.widget-view+json": {
       "model_id": "",
       "version_major": 2,
       "version_minor": 0
      },
      "text/plain": [
       "  0%|          | 0/42 [00:00<?, ?it/s]"
      ]
     },
     "metadata": {},
     "output_type": "display_data"
    },
    {
     "data": {
      "application/vnd.jupyter.widget-view+json": {
       "model_id": "",
       "version_major": 2,
       "version_minor": 0
      },
      "text/plain": [
       "  0%|          | 0/42 [00:00<?, ?it/s]"
      ]
     },
     "metadata": {},
     "output_type": "display_data"
    },
    {
     "data": {
      "application/vnd.jupyter.widget-view+json": {
       "model_id": "",
       "version_major": 2,
       "version_minor": 0
      },
      "text/plain": [
       "  0%|          | 0/42 [00:00<?, ?it/s]"
      ]
     },
     "metadata": {},
     "output_type": "display_data"
    },
    {
     "data": {
      "application/vnd.jupyter.widget-view+json": {
       "model_id": "",
       "version_major": 2,
       "version_minor": 0
      },
      "text/plain": [
       "  0%|          | 0/42 [00:00<?, ?it/s]"
      ]
     },
     "metadata": {},
     "output_type": "display_data"
    },
    {
     "data": {
      "application/vnd.jupyter.widget-view+json": {
       "model_id": "",
       "version_major": 2,
       "version_minor": 0
      },
      "text/plain": [
       "  0%|          | 0/42 [00:00<?, ?it/s]"
      ]
     },
     "metadata": {},
     "output_type": "display_data"
    },
    {
     "data": {
      "application/vnd.jupyter.widget-view+json": {
       "model_id": "",
       "version_major": 2,
       "version_minor": 0
      },
      "text/plain": [
       "  0%|          | 0/42 [00:00<?, ?it/s]"
      ]
     },
     "metadata": {},
     "output_type": "display_data"
    },
    {
     "data": {
      "application/vnd.jupyter.widget-view+json": {
       "model_id": "",
       "version_major": 2,
       "version_minor": 0
      },
      "text/plain": [
       "  0%|          | 0/42 [00:00<?, ?it/s]"
      ]
     },
     "metadata": {},
     "output_type": "display_data"
    },
    {
     "data": {
      "application/vnd.jupyter.widget-view+json": {
       "model_id": "4550cb41b5c1444d9077649a1e15c297",
       "version_major": 2,
       "version_minor": 0
      },
      "text/plain": [
       "  0%|          | 0/42 [00:00<?, ?it/s]"
      ]
     },
     "metadata": {},
     "output_type": "display_data"
    }
   ],
   "source": [
    "options={\n",
    "    'dtype':'float64',\n",
    "    'device':'cuda:0',\n",
    "    'max_dim':8, # 12 for float32 # 10 discussed with wei\n",
    "    'nLayers':21, # 30\n",
    "    'use_checkpoint':True\n",
    "}\n",
    "print(options)\n",
    "\n",
    "MAX_ITER=100\n",
    "EARLY_TIME_ITER=10\n",
    "THRESHOLD_AVERAGE_WINDOW=10\n",
    "THRESHOLD=1e-7\n",
    "\n",
    "REUSE_W=False\n",
    "\n",
    "sweep=[1,2,3,4]\n",
    "\n",
    "data=pd.DataFrame()\n",
    "model=AKLT3D\n",
    "srg=model(model.default_params,options)\n",
    "\n",
    "for a in sweep:\n",
    "    params={'a1':0,'a2':0,'a3':a}\n",
    "    if not REUSE_W:\n",
    "        srg=model(params,options)\n",
    "    srg.set_params(params)\n",
    "    \n",
    "    loss_curve=[]\n",
    "    pbar=tqdm(range(MAX_ITER))\n",
    "    \n",
    "    for _iter in pbar:\n",
    "        \n",
    "        srg.optimize(1)\n",
    "        srg.calc_magnetization()\n",
    "        \n",
    "        loss_curve.append(srg.ws_diff_total)\n",
    "        average_loss=np.average(np.array(loss_curve[-THRESHOLD_AVERAGE_WINDOW:]))\n",
    "        \n",
    "        pbar.set_postfix({'ΔlogZ':srg.logZ_diff,'Δm':srg.magnetization_diff,'Δw':srg.ws_diff_total})\n",
    "        \n",
    "        newRow={**params,'iter':_iter+1,\n",
    "                'logZ':srg.logZ,'magnetization':srg.magnetization,\n",
    "                'logZ_diff':srg.logZ_diff,'magnetization_diff':srg.magnetization_diff,\n",
    "                'magnetization_per_layer':srg.magnetization_per_layer.copy(),\n",
    "                'ws_diff_total':srg.ws_diff_total,\n",
    "                'ws_diff':srg.ws_diff.copy(),\n",
    "                'ws_diff_normalized':srg.ws_diff_normalized.copy(),\n",
    "                'elapsed':pbar.format_dict['elapsed'],\n",
    "               }\n",
    "        data=data.append(newRow,ignore_index=True)\n",
    "        data.to_csv(script_name+'.csv')\n",
    "        \n",
    "        torch.save({'model':srg.state_dict(),'options':options,'params':params},script_name+f'[{a}]'+'.pth')\n",
    "        saved=torch.load(script_name+f'[{a}]'+'.pth')\n",
    "        #srg=model(saved['params'],saved['options'])\n",
    "        #srg.load_state_dict(saved['model'])\n",
    "        \n",
    "        if _iter>=EARLY_TIME_ITER and average_loss<THRESHOLD:\n",
    "            print('converged!')\n",
    "            break\n",
    "        \n",
    "    for k,v in newRow.items():\n",
    "        print(k,':',v,end=' ')\n",
    "    print()\n"
   ]
  },
  {
   "cell_type": "code",
   "execution_count": null,
   "id": "0fae7741",
   "metadata": {},
   "outputs": [],
   "source": []
  }
 ],
 "metadata": {
  "kernelspec": {
   "display_name": "firstEnv",
   "language": "python",
   "name": "firstenv"
  },
  "language_info": {
   "codemirror_mode": {
    "name": "ipython",
    "version": 3
   },
   "file_extension": ".py",
   "mimetype": "text/x-python",
   "name": "python",
   "nbconvert_exporter": "python",
   "pygments_lexer": "ipython3",
   "version": "3.9.7"
  }
 },
 "nbformat": 4,
 "nbformat_minor": 5
}
