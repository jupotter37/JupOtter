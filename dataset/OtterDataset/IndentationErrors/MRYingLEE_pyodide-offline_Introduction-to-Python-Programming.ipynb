{
  "metadata": {
    "kernelspec": {
      "name": "xeus-python",
      "display_name": "Python (XPython)",
      "language": "python"
    },
    "language_info": {
      "file_extension": ".py",
      "mimetype": "text/x-python",
      "name": "python",
      "version": "3.10.2"
    }
  },
  "nbformat_minor": 4,
  "nbformat": 4,
  "cells": [
    {
      "cell_type": "markdown",
      "source": "# Introduction to Python programming",
      "metadata": {}
    },
    {
      "cell_type": "markdown",
      "source": " * The Python Language Reference: http://docs.python.org/2/reference/index.html\n * The Python Standard Library: http://docs.python.org/2/library/\n\nTo use a module in a Python program it first has to be imported. A module can be imported using the `import` statement. For example, to import the module `math`, which contains many standard mathematical functions, we can do:",
      "metadata": {}
    },
    {
      "cell_type": "code",
      "source": "import math",
      "metadata": {
        "collapsed": false,
        "jupyter": {
          "outputs_hidden": false
        },
        "trusted": true
      },
      "outputs": [],
      "execution_count": 7
    },
    {
      "cell_type": "markdown",
      "source": "This includes the whole module and makes it available for use later in the program. For example, we can do:",
      "metadata": {}
    },
    {
      "cell_type": "code",
      "source": "import math\n\nx = math.cos(2 * math.pi)\n\nprint(x)",
      "metadata": {
        "collapsed": false,
        "jupyter": {
          "outputs_hidden": false
        },
        "trusted": true
      },
      "outputs": [
        {
          "name": "stdout",
          "text": "1.0\n",
          "output_type": "stream"
        }
      ],
      "execution_count": 8
    },
    {
      "cell_type": "markdown",
      "source": "Alternatively, we can choose to import all symbols (functions and variables) in a module to the current namespace so that we don't need to use the prefix \"`math.`\" every time we use something from the `math` module:",
      "metadata": {}
    },
    {
      "cell_type": "code",
      "source": "from math import *\n\nx = cos(2 * pi)\n\nprint(x)",
      "metadata": {
        "collapsed": false,
        "jupyter": {
          "outputs_hidden": false
        },
        "trusted": true
      },
      "outputs": [
        {
          "name": "stdout",
          "text": "1.0\n",
          "output_type": "stream"
        }
      ],
      "execution_count": 9
    },
    {
      "cell_type": "markdown",
      "source": "This pattern can be very convenient, but in large programs that include many modules it is often a good idea to keep the symbols from each module in their own namespaces, by using the `import math` pattern. This would eliminate potentially confusing problems with name space collisions.\n\nAs a third alternative, we can choose to import only a few selected symbols from a module by explicitly listing which ones we want to import instead of using the wildcard character `*`:",
      "metadata": {}
    },
    {
      "cell_type": "code",
      "source": "from math import cos, pi\n\nx = cos(2 * pi)\n\nprint(x)",
      "metadata": {
        "collapsed": false,
        "jupyter": {
          "outputs_hidden": false
        },
        "trusted": true
      },
      "outputs": [
        {
          "name": "stdout",
          "text": "1.0\n",
          "output_type": "stream"
        }
      ],
      "execution_count": 10
    },
    {
      "cell_type": "markdown",
      "source": "### Looking at what a module contains, and its documentation",
      "metadata": {}
    },
    {
      "cell_type": "markdown",
      "source": "Once a module is imported, we can list the symbols it provides using the `dir` function:",
      "metadata": {}
    },
    {
      "cell_type": "code",
      "source": "import math\n\nprint(dir(math))",
      "metadata": {
        "collapsed": false,
        "jupyter": {
          "outputs_hidden": false
        },
        "trusted": true
      },
      "outputs": [
        {
          "name": "stdout",
          "text": "['__doc__', '__loader__', '__name__', '__package__', '__spec__', 'acos', 'acosh', 'asin', 'asinh', 'atan', 'atan2', 'atanh', 'ceil', 'comb', 'copysign', 'cos', 'cosh', 'degrees', 'dist', 'e', 'erf', 'erfc', 'exp', 'expm1', 'fabs', 'factorial', 'floor', 'fmod', 'frexp', 'fsum', 'gamma', 'gcd', 'hypot', 'inf', 'isclose', 'isfinite', 'isinf', 'isnan', 'isqrt', 'lcm', 'ldexp', 'lgamma', 'log', 'log10', 'log1p', 'log2', 'modf', 'nan', 'nextafter', 'perm', 'pi', 'pow', 'prod', 'radians', 'remainder', 'sin', 'sinh', 'sqrt', 'tan', 'tanh', 'tau', 'trunc', 'ulp']\n",
          "output_type": "stream"
        }
      ],
      "execution_count": 11
    },
    {
      "cell_type": "markdown",
      "source": "And using the function `help` we can get a description of each function (almost .. not all functions have docstrings, as they are technically called, but the vast majority of functions are documented this way). ",
      "metadata": {}
    },
    {
      "cell_type": "code",
      "source": "help(math.log)",
      "metadata": {
        "collapsed": false,
        "jupyter": {
          "outputs_hidden": false
        },
        "trusted": true
      },
      "outputs": [
        {
          "name": "stdout",
          "text": "Help on built-in function log in module math:\n\nlog(...)\n    log(x, [base=math.e])\n    Return the logarithm of x to the given base.\n    \n    If the base not specified, returns the natural logarithm (base e) of x.\n\n",
          "output_type": "stream"
        }
      ],
      "execution_count": 12
    },
    {
      "cell_type": "code",
      "source": "log(10)",
      "metadata": {
        "collapsed": false,
        "jupyter": {
          "outputs_hidden": false
        },
        "trusted": true
      },
      "outputs": [
        {
          "execution_count": 12,
          "output_type": "execute_result",
          "data": {
            "text/plain": "2.302585092994046"
          },
          "metadata": {}
        }
      ],
      "execution_count": 13
    },
    {
      "cell_type": "code",
      "source": "log(10, 2)",
      "metadata": {
        "collapsed": false,
        "jupyter": {
          "outputs_hidden": false
        },
        "trusted": true
      },
      "outputs": [
        {
          "execution_count": 13,
          "output_type": "execute_result",
          "data": {
            "text/plain": "3.3219280948873626"
          },
          "metadata": {}
        }
      ],
      "execution_count": 14
    },
    {
      "cell_type": "markdown",
      "source": "We can also use the `help` function directly on modules: Try\n\n    help(math) \n\nSome very useful modules form the Python standard library are `os`, `sys`, `math`, `shutil`, `re`, `subprocess`, `multiprocessing`, `threading`. \n\nA complete lists of standard modules for Python 2 and Python 3 are available at http://docs.python.org/2/library/ and http://docs.python.org/3/library/, respectively.",
      "metadata": {}
    },
    {
      "cell_type": "markdown",
      "source": "## Variables and types",
      "metadata": {}
    },
    {
      "cell_type": "markdown",
      "source": "### Symbol names ",
      "metadata": {}
    },
    {
      "cell_type": "markdown",
      "source": "Variable names in Python can contain alphanumerical characters `a-z`, `A-Z`, `0-9` and some special characters such as `_`. Normal variable names must start with a letter. \n\nBy convention, variable names start with a lower-case letter, and Class names start with a capital letter. \n\nIn addition, there are a number of Python keywords that cannot be used as variable names. These keywords are:\n\n    and, as, assert, break, class, continue, def, del, elif, else, except, \n    exec, finally, for, from, global, if, import, in, is, lambda, not, or,\n    pass, print, raise, return, try, while, with, yield\n\nNote: Be aware of the keyword `lambda`, which could easily be a natural variable name in a scientific program. But being a keyword, it cannot be used as a variable name.",
      "metadata": {}
    },
    {
      "cell_type": "markdown",
      "source": "### Assignment",
      "metadata": {}
    },
    {
      "cell_type": "markdown",
      "source": "\n\nThe assignment operator in Python is `=`. Python is a dynamically typed language, so we do not need to specify the type of a variable when we create one.\n\nAssigning a value to a new variable creates the variable:",
      "metadata": {}
    },
    {
      "cell_type": "code",
      "source": "# variable assignments\nx = 1.0\nmy_variable = 12.2",
      "metadata": {
        "collapsed": false,
        "jupyter": {
          "outputs_hidden": false
        },
        "trusted": true
      },
      "outputs": [],
      "execution_count": 15
    },
    {
      "cell_type": "markdown",
      "source": "Although not explicitly specified, a variable does have a type associated with it. The type is derived from the value that was assigned to it.",
      "metadata": {}
    },
    {
      "cell_type": "code",
      "source": "type(x)",
      "metadata": {
        "collapsed": false,
        "jupyter": {
          "outputs_hidden": false
        },
        "trusted": true
      },
      "outputs": [
        {
          "execution_count": 15,
          "output_type": "execute_result",
          "data": {
            "text/plain": "float"
          },
          "metadata": {}
        }
      ],
      "execution_count": 16
    },
    {
      "cell_type": "markdown",
      "source": "If we assign a new value to a variable, its type can change.",
      "metadata": {}
    },
    {
      "cell_type": "code",
      "source": "x = 1",
      "metadata": {
        "collapsed": false,
        "jupyter": {
          "outputs_hidden": false
        },
        "trusted": true
      },
      "outputs": [],
      "execution_count": 17
    },
    {
      "cell_type": "code",
      "source": "type(x)",
      "metadata": {
        "collapsed": false,
        "jupyter": {
          "outputs_hidden": false
        },
        "trusted": true
      },
      "outputs": [
        {
          "execution_count": 17,
          "output_type": "execute_result",
          "data": {
            "text/plain": "int"
          },
          "metadata": {}
        }
      ],
      "execution_count": 18
    },
    {
      "cell_type": "markdown",
      "source": "If we try to use a variable that has not yet been defined we get an `NameError`:",
      "metadata": {}
    },
    {
      "cell_type": "code",
      "source": "print(y)",
      "metadata": {
        "collapsed": false,
        "jupyter": {
          "outputs_hidden": false
        },
        "trusted": true
      },
      "outputs": [
        {
          "ename": "<class 'NameError'>",
          "evalue": "name 'y' is not defined",
          "traceback": [
            "\u001b[0;31m---------------------------------------------------------------------------\u001b[0m",
            "\u001b[0;31mNameError\u001b[0m                                 Traceback (most recent call last)",
            "Cell \u001b[0;32mIn[18], line 1\u001b[0m\n\u001b[0;32m----> 1\u001b[0m \u001b[38;5;28mprint\u001b[39m(\u001b[43my\u001b[49m)\n",
            "\u001b[0;31mNameError\u001b[0m: name 'y' is not defined"
          ],
          "output_type": "error"
        }
      ],
      "execution_count": 19
    },
    {
      "cell_type": "markdown",
      "source": "### Fundamental types",
      "metadata": {}
    },
    {
      "cell_type": "code",
      "source": "# integers\nx = 1\ntype(x)",
      "metadata": {
        "collapsed": false,
        "jupyter": {
          "outputs_hidden": false
        },
        "trusted": true
      },
      "outputs": [
        {
          "execution_count": 19,
          "output_type": "execute_result",
          "data": {
            "text/plain": "int"
          },
          "metadata": {}
        }
      ],
      "execution_count": 20
    },
    {
      "cell_type": "code",
      "source": "# float\nx = 1.0\ntype(x)",
      "metadata": {
        "collapsed": false,
        "jupyter": {
          "outputs_hidden": false
        },
        "trusted": true
      },
      "outputs": [
        {
          "execution_count": 20,
          "output_type": "execute_result",
          "data": {
            "text/plain": "float"
          },
          "metadata": {}
        }
      ],
      "execution_count": 21
    },
    {
      "cell_type": "code",
      "source": "# boolean\nb1 = True\nb2 = False\n\ntype(b1)",
      "metadata": {
        "collapsed": false,
        "jupyter": {
          "outputs_hidden": false
        },
        "trusted": true
      },
      "outputs": [
        {
          "execution_count": 21,
          "output_type": "execute_result",
          "data": {
            "text/plain": "bool"
          },
          "metadata": {}
        }
      ],
      "execution_count": 22
    },
    {
      "cell_type": "code",
      "source": "# complex numbers: note the use of `j` to specify the imaginary part\nx = 1.0 - 1.0j\ntype(x)",
      "metadata": {
        "collapsed": false,
        "jupyter": {
          "outputs_hidden": false
        },
        "trusted": true
      },
      "outputs": [
        {
          "execution_count": 22,
          "output_type": "execute_result",
          "data": {
            "text/plain": "complex"
          },
          "metadata": {}
        }
      ],
      "execution_count": 23
    },
    {
      "cell_type": "code",
      "source": "print(x)",
      "metadata": {
        "collapsed": false,
        "jupyter": {
          "outputs_hidden": false
        },
        "trusted": true
      },
      "outputs": [
        {
          "name": "stdout",
          "text": "(1-1j)\n",
          "output_type": "stream"
        }
      ],
      "execution_count": 24
    },
    {
      "cell_type": "code",
      "source": "print(x.real, x.imag)",
      "metadata": {
        "collapsed": false,
        "jupyter": {
          "outputs_hidden": false
        },
        "trusted": true
      },
      "outputs": [
        {
          "name": "stdout",
          "text": "1.0 -1.0\n",
          "output_type": "stream"
        }
      ],
      "execution_count": 25
    },
    {
      "cell_type": "markdown",
      "source": "### Type utility functions",
      "metadata": {}
    },
    {
      "cell_type": "markdown",
      "source": "\nThe module `types` contains a number of type name definitions that can be used to test if variables are of certain types:",
      "metadata": {}
    },
    {
      "cell_type": "code",
      "source": "import types\n\n# print all types defined in the `types` module\nprint(dir(types))",
      "metadata": {
        "collapsed": false,
        "jupyter": {
          "outputs_hidden": false
        },
        "trusted": true
      },
      "outputs": [
        {
          "name": "stdout",
          "text": "['AsyncGeneratorType', 'BuiltinFunctionType', 'BuiltinMethodType', 'CellType', 'ClassMethodDescriptorType', 'CodeType', 'CoroutineType', 'DynamicClassAttribute', 'EllipsisType', 'FrameType', 'FunctionType', 'GeneratorType', 'GenericAlias', 'GetSetDescriptorType', 'LambdaType', 'MappingProxyType', 'MemberDescriptorType', 'MethodDescriptorType', 'MethodType', 'MethodWrapperType', 'ModuleType', 'NoneType', 'NotImplementedType', 'SimpleNamespace', 'TracebackType', 'UnionType', 'WrapperDescriptorType', '_GeneratorWrapper', '__all__', '__builtins__', '__cached__', '__doc__', '__file__', '__loader__', '__name__', '__package__', '__spec__', '_calculate_meta', '_cell_factory', 'coroutine', 'new_class', 'prepare_class', 'resolve_bases']\n",
          "output_type": "stream"
        }
      ],
      "execution_count": 26
    },
    {
      "cell_type": "code",
      "source": "x = 1.0\n\n# check if the variable x is a float\ntype(x) is float",
      "metadata": {
        "collapsed": false,
        "jupyter": {
          "outputs_hidden": false
        },
        "trusted": true
      },
      "outputs": [
        {
          "execution_count": 26,
          "output_type": "execute_result",
          "data": {
            "text/plain": "True"
          },
          "metadata": {}
        }
      ],
      "execution_count": 27
    },
    {
      "cell_type": "code",
      "source": "# check if the variable x is an int\ntype(x) is int",
      "metadata": {
        "collapsed": false,
        "jupyter": {
          "outputs_hidden": false
        },
        "trusted": true
      },
      "outputs": [
        {
          "execution_count": 27,
          "output_type": "execute_result",
          "data": {
            "text/plain": "False"
          },
          "metadata": {}
        }
      ],
      "execution_count": 28
    },
    {
      "cell_type": "markdown",
      "source": "We can also use the `isinstance` method for testing types of variables:",
      "metadata": {}
    },
    {
      "cell_type": "code",
      "source": "isinstance(x, float)",
      "metadata": {
        "collapsed": false,
        "jupyter": {
          "outputs_hidden": false
        },
        "trusted": true
      },
      "outputs": [
        {
          "execution_count": 28,
          "output_type": "execute_result",
          "data": {
            "text/plain": "True"
          },
          "metadata": {}
        }
      ],
      "execution_count": 29
    },
    {
      "cell_type": "markdown",
      "source": "### Type casting",
      "metadata": {}
    },
    {
      "cell_type": "code",
      "source": "x = 1.5\n\nprint(x, type(x))",
      "metadata": {
        "collapsed": false,
        "jupyter": {
          "outputs_hidden": false
        },
        "trusted": true
      },
      "outputs": [
        {
          "name": "stdout",
          "text": "1.5 <class 'float'>\n",
          "output_type": "stream"
        }
      ],
      "execution_count": 30
    },
    {
      "cell_type": "code",
      "source": "x = int(x)\n\nprint(x, type(x))",
      "metadata": {
        "collapsed": false,
        "jupyter": {
          "outputs_hidden": false
        },
        "trusted": true
      },
      "outputs": [
        {
          "name": "stdout",
          "text": "1 <class 'int'>\n",
          "output_type": "stream"
        }
      ],
      "execution_count": 31
    },
    {
      "cell_type": "code",
      "source": "z = complex(x)\n\nprint(z, type(z))",
      "metadata": {
        "collapsed": false,
        "jupyter": {
          "outputs_hidden": false
        },
        "trusted": true
      },
      "outputs": [
        {
          "name": "stdout",
          "text": "(1+0j) <class 'complex'>\n",
          "output_type": "stream"
        }
      ],
      "execution_count": 32
    },
    {
      "cell_type": "code",
      "source": "x = float(z)",
      "metadata": {
        "collapsed": false,
        "jupyter": {
          "outputs_hidden": false
        },
        "trusted": true
      },
      "outputs": [
        {
          "ename": "<class 'TypeError'>",
          "evalue": "float() argument must be a string or a real number, not 'complex'",
          "traceback": [
            "\u001b[0;31m---------------------------------------------------------------------------\u001b[0m",
            "\u001b[0;31mTypeError\u001b[0m                                 Traceback (most recent call last)",
            "Cell \u001b[0;32mIn[32], line 1\u001b[0m\n\u001b[0;32m----> 1\u001b[0m x \u001b[38;5;241m=\u001b[39m \u001b[38;5;28;43mfloat\u001b[39;49m\u001b[43m(\u001b[49m\u001b[43mz\u001b[49m\u001b[43m)\u001b[49m\n",
            "\u001b[0;31mTypeError\u001b[0m: float() argument must be a string or a real number, not 'complex'"
          ],
          "output_type": "error"
        }
      ],
      "execution_count": 33
    },
    {
      "cell_type": "markdown",
      "source": "Complex variables cannot be cast to floats or integers. We need to use `z.real` or `z.imag` to extract the part of the complex number we want:",
      "metadata": {}
    },
    {
      "cell_type": "code",
      "source": "y = bool(z.real)\n\nprint(z.real, \" -> \", y, type(y))\n\ny = bool(z.imag)\n\nprint(z.imag, \" -> \", y, type(y))",
      "metadata": {
        "collapsed": false,
        "jupyter": {
          "outputs_hidden": false
        },
        "trusted": true
      },
      "outputs": [
        {
          "name": "stdout",
          "text": "1.0  ->  True <class 'bool'>\n0.0  ->  False <class 'bool'>\n",
          "output_type": "stream"
        }
      ],
      "execution_count": 34
    },
    {
      "cell_type": "markdown",
      "source": "## Operators and comparisons",
      "metadata": {}
    },
    {
      "cell_type": "markdown",
      "source": "Most operators and comparisons in Python work as one would expect:\n\n* Arithmetic operators `+`, `-`, `*`, `/`, `//` (integer division), '**' power\n",
      "metadata": {}
    },
    {
      "cell_type": "code",
      "source": "1 + 2, 1 - 2, 1 * 2, 1 / 2",
      "metadata": {
        "collapsed": false,
        "jupyter": {
          "outputs_hidden": false
        },
        "trusted": true
      },
      "outputs": [
        {
          "execution_count": 34,
          "output_type": "execute_result",
          "data": {
            "text/plain": "(3, -1, 2, 0.5)"
          },
          "metadata": {}
        }
      ],
      "execution_count": 35
    },
    {
      "cell_type": "code",
      "source": "1.0 + 2.0, 1.0 - 2.0, 1.0 * 2.0, 1.0 / 2.0",
      "metadata": {
        "collapsed": false,
        "jupyter": {
          "outputs_hidden": false
        },
        "trusted": true
      },
      "outputs": [
        {
          "execution_count": 35,
          "output_type": "execute_result",
          "data": {
            "text/plain": "(3.0, -1.0, 2.0, 0.5)"
          },
          "metadata": {}
        }
      ],
      "execution_count": 36
    },
    {
      "cell_type": "code",
      "source": "# Integer division of float numbers\n3.0 // 2.0",
      "metadata": {
        "collapsed": false,
        "jupyter": {
          "outputs_hidden": false
        },
        "trusted": true
      },
      "outputs": [
        {
          "execution_count": 36,
          "output_type": "execute_result",
          "data": {
            "text/plain": "1.0"
          },
          "metadata": {}
        }
      ],
      "execution_count": 37
    },
    {
      "cell_type": "code",
      "source": "# Note! The power operators in python isn't ^, but **\n2 ** 2",
      "metadata": {
        "collapsed": false,
        "jupyter": {
          "outputs_hidden": false
        },
        "trusted": true
      },
      "outputs": [
        {
          "execution_count": 37,
          "output_type": "execute_result",
          "data": {
            "text/plain": "4"
          },
          "metadata": {}
        }
      ],
      "execution_count": 38
    },
    {
      "cell_type": "markdown",
      "source": "Note: The `/` operator always performs a floating point division in Python 3.x.\nThis is not true in Python 2.x, where the result of `/` is always an integer if the operands are integers.\nto be more specific, `1/2 = 0.5` (`float`) in Python 3.x, and `1/2 = 0` (`int`) in Python 2.x (but `1.0/2 = 0.5` in Python 2.x).",
      "metadata": {}
    },
    {
      "cell_type": "markdown",
      "source": "* The boolean operators are spelled out as the words `and`, `not`, `or`. ",
      "metadata": {}
    },
    {
      "cell_type": "code",
      "source": "True and False",
      "metadata": {
        "collapsed": false,
        "jupyter": {
          "outputs_hidden": false
        },
        "trusted": true
      },
      "outputs": [
        {
          "execution_count": 38,
          "output_type": "execute_result",
          "data": {
            "text/plain": "False"
          },
          "metadata": {}
        }
      ],
      "execution_count": 39
    },
    {
      "cell_type": "code",
      "source": "not False",
      "metadata": {
        "collapsed": false,
        "jupyter": {
          "outputs_hidden": false
        },
        "trusted": true
      },
      "outputs": [
        {
          "execution_count": 39,
          "output_type": "execute_result",
          "data": {
            "text/plain": "True"
          },
          "metadata": {}
        }
      ],
      "execution_count": 40
    },
    {
      "cell_type": "code",
      "source": "True or False",
      "metadata": {
        "collapsed": false,
        "jupyter": {
          "outputs_hidden": false
        },
        "trusted": true
      },
      "outputs": [
        {
          "execution_count": 40,
          "output_type": "execute_result",
          "data": {
            "text/plain": "True"
          },
          "metadata": {}
        }
      ],
      "execution_count": 41
    },
    {
      "cell_type": "markdown",
      "source": "* Comparison operators `>`, `<`, `>=` (greater or equal), `<=` (less or equal), `==` equality, `is` identical.",
      "metadata": {}
    },
    {
      "cell_type": "code",
      "source": "2 > 1, 2 < 1",
      "metadata": {
        "collapsed": false,
        "jupyter": {
          "outputs_hidden": false
        },
        "trusted": true
      },
      "outputs": [
        {
          "execution_count": 41,
          "output_type": "execute_result",
          "data": {
            "text/plain": "(True, False)"
          },
          "metadata": {}
        }
      ],
      "execution_count": 42
    },
    {
      "cell_type": "code",
      "source": "2 > 2, 2 < 2",
      "metadata": {
        "collapsed": false,
        "jupyter": {
          "outputs_hidden": false
        },
        "trusted": true
      },
      "outputs": [
        {
          "execution_count": 42,
          "output_type": "execute_result",
          "data": {
            "text/plain": "(False, False)"
          },
          "metadata": {}
        }
      ],
      "execution_count": 43
    },
    {
      "cell_type": "code",
      "source": "2 >= 2, 2 <= 2",
      "metadata": {
        "collapsed": false,
        "jupyter": {
          "outputs_hidden": false
        },
        "trusted": true
      },
      "outputs": [
        {
          "execution_count": 43,
          "output_type": "execute_result",
          "data": {
            "text/plain": "(True, True)"
          },
          "metadata": {}
        }
      ],
      "execution_count": 44
    },
    {
      "cell_type": "code",
      "source": "# equality\n[1,2] == [1,2]",
      "metadata": {
        "collapsed": false,
        "jupyter": {
          "outputs_hidden": false
        },
        "trusted": true
      },
      "outputs": [
        {
          "execution_count": 44,
          "output_type": "execute_result",
          "data": {
            "text/plain": "True"
          },
          "metadata": {}
        }
      ],
      "execution_count": 45
    },
    {
      "cell_type": "code",
      "source": "# objects identical?\nl1 = l2 = [1,2]\n\nl1 is l2",
      "metadata": {
        "collapsed": false,
        "jupyter": {
          "outputs_hidden": false
        },
        "trusted": true
      },
      "outputs": [
        {
          "execution_count": 45,
          "output_type": "execute_result",
          "data": {
            "text/plain": "True"
          },
          "metadata": {}
        }
      ],
      "execution_count": 46
    },
    {
      "cell_type": "markdown",
      "source": "## Compound types: Strings, List and dictionaries",
      "metadata": {}
    },
    {
      "cell_type": "markdown",
      "source": "### Strings",
      "metadata": {}
    },
    {
      "cell_type": "markdown",
      "source": "Strings are the variable type that is used for storing text messages. ",
      "metadata": {}
    },
    {
      "cell_type": "code",
      "source": "s = \"Hello world\"\ntype(s)",
      "metadata": {
        "collapsed": false,
        "jupyter": {
          "outputs_hidden": false
        },
        "trusted": true
      },
      "outputs": [
        {
          "execution_count": 46,
          "output_type": "execute_result",
          "data": {
            "text/plain": "str"
          },
          "metadata": {}
        }
      ],
      "execution_count": 47
    },
    {
      "cell_type": "code",
      "source": "# length of the string: the number of characters\nlen(s)",
      "metadata": {
        "collapsed": false,
        "jupyter": {
          "outputs_hidden": false
        },
        "trusted": true
      },
      "outputs": [
        {
          "execution_count": 47,
          "output_type": "execute_result",
          "data": {
            "text/plain": "11"
          },
          "metadata": {}
        }
      ],
      "execution_count": 48
    },
    {
      "cell_type": "code",
      "source": "# replace a substring in a string with something else\ns2 = s.replace(\"world\", \"test\")\nprint(s2)",
      "metadata": {
        "collapsed": false,
        "jupyter": {
          "outputs_hidden": false
        },
        "trusted": true
      },
      "outputs": [
        {
          "name": "stdout",
          "text": "Hello test\n",
          "output_type": "stream"
        }
      ],
      "execution_count": 49
    },
    {
      "cell_type": "markdown",
      "source": "We can index a character in a string using `[]`:",
      "metadata": {}
    },
    {
      "cell_type": "code",
      "source": "s[0]",
      "metadata": {
        "collapsed": false,
        "jupyter": {
          "outputs_hidden": false
        },
        "trusted": true
      },
      "outputs": [
        {
          "execution_count": 49,
          "output_type": "execute_result",
          "data": {
            "text/plain": "'H'"
          },
          "metadata": {}
        }
      ],
      "execution_count": 50
    },
    {
      "cell_type": "markdown",
      "source": "**Heads up MATLAB users:** Indexing start at 0!\n\nWe can extract a part of a string using the syntax `[start:stop]`, which extracts characters between index `start` and `stop` -1 (the character at index `stop` is not included):",
      "metadata": {}
    },
    {
      "cell_type": "code",
      "source": "s[0:5]",
      "metadata": {
        "collapsed": false,
        "jupyter": {
          "outputs_hidden": false
        },
        "trusted": true
      },
      "outputs": [
        {
          "execution_count": 50,
          "output_type": "execute_result",
          "data": {
            "text/plain": "'Hello'"
          },
          "metadata": {}
        }
      ],
      "execution_count": 51
    },
    {
      "cell_type": "code",
      "source": "s[4:5]",
      "metadata": {
        "collapsed": false,
        "jupyter": {
          "outputs_hidden": false
        },
        "trusted": true
      },
      "outputs": [
        {
          "execution_count": 51,
          "output_type": "execute_result",
          "data": {
            "text/plain": "'o'"
          },
          "metadata": {}
        }
      ],
      "execution_count": 52
    },
    {
      "cell_type": "markdown",
      "source": "If we omit either (or both) of `start` or `stop` from `[start:stop]`, the default is the beginning and the end of the string, respectively:",
      "metadata": {}
    },
    {
      "cell_type": "code",
      "source": "s[:5]",
      "metadata": {
        "collapsed": false,
        "jupyter": {
          "outputs_hidden": false
        },
        "trusted": true
      },
      "outputs": [
        {
          "execution_count": 52,
          "output_type": "execute_result",
          "data": {
            "text/plain": "'Hello'"
          },
          "metadata": {}
        }
      ],
      "execution_count": 53
    },
    {
      "cell_type": "code",
      "source": "s[6:]",
      "metadata": {
        "collapsed": false,
        "jupyter": {
          "outputs_hidden": false
        },
        "trusted": true
      },
      "outputs": [
        {
          "execution_count": 53,
          "output_type": "execute_result",
          "data": {
            "text/plain": "'world'"
          },
          "metadata": {}
        }
      ],
      "execution_count": 54
    },
    {
      "cell_type": "code",
      "source": "s[:]",
      "metadata": {
        "collapsed": false,
        "jupyter": {
          "outputs_hidden": false
        },
        "trusted": true
      },
      "outputs": [
        {
          "execution_count": 54,
          "output_type": "execute_result",
          "data": {
            "text/plain": "'Hello world'"
          },
          "metadata": {}
        }
      ],
      "execution_count": 55
    },
    {
      "cell_type": "markdown",
      "source": "We can also define the step size using the syntax `[start:end:step]` (the default value for `step` is 1, as we saw above):",
      "metadata": {}
    },
    {
      "cell_type": "code",
      "source": "s[::1]",
      "metadata": {
        "collapsed": false,
        "jupyter": {
          "outputs_hidden": false
        },
        "trusted": true
      },
      "outputs": [
        {
          "execution_count": 55,
          "output_type": "execute_result",
          "data": {
            "text/plain": "'Hello world'"
          },
          "metadata": {}
        }
      ],
      "execution_count": 56
    },
    {
      "cell_type": "code",
      "source": "s[::2]",
      "metadata": {
        "collapsed": false,
        "jupyter": {
          "outputs_hidden": false
        },
        "trusted": true
      },
      "outputs": [
        {
          "execution_count": 56,
          "output_type": "execute_result",
          "data": {
            "text/plain": "'Hlowrd'"
          },
          "metadata": {}
        }
      ],
      "execution_count": 57
    },
    {
      "cell_type": "markdown",
      "source": "This technique is called *slicing*. Read more about the syntax here: http://docs.python.org/release/2.7.3/library/functions.html?highlight=slice#slice",
      "metadata": {}
    },
    {
      "cell_type": "markdown",
      "source": "Python has a very rich set of functions for text processing. See for example http://docs.python.org/2/library/string.html for more information.",
      "metadata": {}
    },
    {
      "cell_type": "markdown",
      "source": "#### String formatting examples",
      "metadata": {}
    },
    {
      "cell_type": "code",
      "source": "print(\"str1\", \"str2\", \"str3\")  # The print statement concatenates strings with a space",
      "metadata": {
        "collapsed": false,
        "jupyter": {
          "outputs_hidden": false
        },
        "trusted": true
      },
      "outputs": [
        {
          "name": "stdout",
          "text": "str1 str2 str3\n",
          "output_type": "stream"
        }
      ],
      "execution_count": 58
    },
    {
      "cell_type": "code",
      "source": "print(\"str1\", 1.0, False, -1j)  # The print statements converts all arguments to strings",
      "metadata": {
        "collapsed": false,
        "jupyter": {
          "outputs_hidden": false
        },
        "trusted": true
      },
      "outputs": [
        {
          "name": "stdout",
          "text": "str1 1.0 False (-0-1j)\n",
          "output_type": "stream"
        }
      ],
      "execution_count": 59
    },
    {
      "cell_type": "code",
      "source": "print(\"str1\" + \"str2\" + \"str3\") # strings added with + are concatenated without space",
      "metadata": {
        "collapsed": false,
        "jupyter": {
          "outputs_hidden": false
        },
        "trusted": true
      },
      "outputs": [
        {
          "name": "stdout",
          "text": "str1str2str3\n",
          "output_type": "stream"
        }
      ],
      "execution_count": 60
    },
    {
      "cell_type": "code",
      "source": "print(\"value = %f\" % 1.0)       # we can use C-style string formatting",
      "metadata": {
        "collapsed": false,
        "jupyter": {
          "outputs_hidden": false
        },
        "trusted": true
      },
      "outputs": [
        {
          "name": "stdout",
          "text": "value = 1.000000\n",
          "output_type": "stream"
        }
      ],
      "execution_count": 61
    },
    {
      "cell_type": "code",
      "source": "# this formatting creates a string\ns2 = \"value1 = %.2f. value2 = %d\" % (3.1415, 1.5)\n\nprint(s2)",
      "metadata": {
        "collapsed": false,
        "jupyter": {
          "outputs_hidden": false
        },
        "trusted": true
      },
      "outputs": [
        {
          "name": "stdout",
          "text": "value1 = 3.14. value2 = 1\n",
          "output_type": "stream"
        }
      ],
      "execution_count": 62
    },
    {
      "cell_type": "code",
      "source": "# alternative, more intuitive way of formatting a string \ns3 = 'value1 = {0}, value2 = {1}'.format(3.1415, 1.5)\n\nprint(s3)",
      "metadata": {
        "collapsed": false,
        "jupyter": {
          "outputs_hidden": false
        },
        "trusted": true
      },
      "outputs": [
        {
          "name": "stdout",
          "text": "value1 = 3.1415, value2 = 1.5\n",
          "output_type": "stream"
        }
      ],
      "execution_count": 63
    },
    {
      "cell_type": "markdown",
      "source": "### List",
      "metadata": {}
    },
    {
      "cell_type": "markdown",
      "source": "Lists are very similar to strings, except that each element can be of any type.\n\nThe syntax for creating lists in Python is `[...]`:",
      "metadata": {}
    },
    {
      "cell_type": "code",
      "source": "l = [1,2,3,4]\n\nprint(type(l))\nprint(l)",
      "metadata": {
        "collapsed": false,
        "jupyter": {
          "outputs_hidden": false
        },
        "trusted": true
      },
      "outputs": [
        {
          "name": "stdout",
          "text": "<class 'list'>\n[1, 2, 3, 4]\n",
          "output_type": "stream"
        }
      ],
      "execution_count": 64
    },
    {
      "cell_type": "markdown",
      "source": "We can use the same slicing techniques to manipulate lists as we could use on strings:",
      "metadata": {}
    },
    {
      "cell_type": "code",
      "source": "print(l)\n\nprint(l[1:3])\n\nprint(l[::2])",
      "metadata": {
        "collapsed": false,
        "jupyter": {
          "outputs_hidden": false
        },
        "trusted": true
      },
      "outputs": [
        {
          "name": "stdout",
          "text": "[1, 2, 3, 4]\n[2, 3]\n[1, 3]\n",
          "output_type": "stream"
        }
      ],
      "execution_count": 65
    },
    {
      "cell_type": "markdown",
      "source": "**Heads up MATLAB users:** Indexing starts at 0!",
      "metadata": {}
    },
    {
      "cell_type": "code",
      "source": "l[0]",
      "metadata": {
        "collapsed": false,
        "jupyter": {
          "outputs_hidden": false
        },
        "trusted": true
      },
      "outputs": [
        {
          "execution_count": 65,
          "output_type": "execute_result",
          "data": {
            "text/plain": "1"
          },
          "metadata": {}
        }
      ],
      "execution_count": 66
    },
    {
      "cell_type": "markdown",
      "source": "Elements in a list do not all have to be of the same type:",
      "metadata": {}
    },
    {
      "cell_type": "code",
      "source": "l = [1, 'a', 1.0, 1-1j]\n\nprint(l)",
      "metadata": {
        "collapsed": false,
        "jupyter": {
          "outputs_hidden": false
        },
        "trusted": true
      },
      "outputs": [
        {
          "name": "stdout",
          "text": "[1, 'a', 1.0, (1-1j)]\n",
          "output_type": "stream"
        }
      ],
      "execution_count": 67
    },
    {
      "cell_type": "markdown",
      "source": "Python lists can be inhomogeneous and arbitrarily nested:",
      "metadata": {}
    },
    {
      "cell_type": "code",
      "source": "nested_list = [1, [2, [3, [4, [5]]]]]\n\nnested_list",
      "metadata": {
        "collapsed": false,
        "jupyter": {
          "outputs_hidden": false
        },
        "trusted": true
      },
      "outputs": [
        {
          "execution_count": 67,
          "output_type": "execute_result",
          "data": {
            "text/plain": "[1, [2, [3, [4, [5]]]]]"
          },
          "metadata": {}
        }
      ],
      "execution_count": 68
    },
    {
      "cell_type": "markdown",
      "source": "Lists play a very important role in Python. For example they are used in loops and other flow control structures (discussed below). There are a number of convenient functions for generating lists of various types, for example the `range` function:",
      "metadata": {}
    },
    {
      "cell_type": "code",
      "source": "start = 10\nstop = 30\nstep = 2\n\nrange(start, stop, step)",
      "metadata": {
        "collapsed": false,
        "jupyter": {
          "outputs_hidden": false
        },
        "trusted": true
      },
      "outputs": [
        {
          "execution_count": 68,
          "output_type": "execute_result",
          "data": {
            "text/plain": "range(10, 30, 2)"
          },
          "metadata": {}
        }
      ],
      "execution_count": 69
    },
    {
      "cell_type": "code",
      "source": "# in python 3 range generates an iterator, which can be converted to a list using 'list(...)'.\n# It has no effect in python 2\nlist(range(start, stop, step))",
      "metadata": {
        "collapsed": false,
        "jupyter": {
          "outputs_hidden": false
        },
        "trusted": true
      },
      "outputs": [
        {
          "execution_count": 69,
          "output_type": "execute_result",
          "data": {
            "text/plain": "[10, 12, 14, 16, 18, 20, 22, 24, 26, 28]"
          },
          "metadata": {}
        }
      ],
      "execution_count": 70
    },
    {
      "cell_type": "code",
      "source": "list(range(-10, 10))",
      "metadata": {
        "collapsed": false,
        "jupyter": {
          "outputs_hidden": false
        },
        "trusted": true
      },
      "outputs": [
        {
          "execution_count": 70,
          "output_type": "execute_result",
          "data": {
            "text/plain": "[-10, -9, -8, -7, -6, -5, -4, -3, -2, -1, 0, 1, 2, 3, 4, 5, 6, 7, 8, 9]"
          },
          "metadata": {}
        }
      ],
      "execution_count": 71
    },
    {
      "cell_type": "code",
      "source": "s",
      "metadata": {
        "collapsed": false,
        "jupyter": {
          "outputs_hidden": false
        },
        "trusted": true
      },
      "outputs": [
        {
          "execution_count": 71,
          "output_type": "execute_result",
          "data": {
            "text/plain": "'Hello world'"
          },
          "metadata": {}
        }
      ],
      "execution_count": 72
    },
    {
      "cell_type": "code",
      "source": "# convert a string to a list by type casting:\ns2 = list(s)\n\ns2",
      "metadata": {
        "collapsed": false,
        "jupyter": {
          "outputs_hidden": false
        },
        "trusted": true
      },
      "outputs": [
        {
          "execution_count": 72,
          "output_type": "execute_result",
          "data": {
            "text/plain": "['H', 'e', 'l', 'l', 'o', ' ', 'w', 'o', 'r', 'l', 'd']"
          },
          "metadata": {}
        }
      ],
      "execution_count": 73
    },
    {
      "cell_type": "code",
      "source": "# sorting lists\ns2.sort()\n\nprint(s2)",
      "metadata": {
        "collapsed": false,
        "jupyter": {
          "outputs_hidden": false
        },
        "trusted": true
      },
      "outputs": [
        {
          "name": "stdout",
          "text": "[' ', 'H', 'd', 'e', 'l', 'l', 'l', 'o', 'o', 'r', 'w']\n",
          "output_type": "stream"
        }
      ],
      "execution_count": 74
    },
    {
      "cell_type": "markdown",
      "source": "#### Adding, inserting, modifying, and removing elements from lists",
      "metadata": {}
    },
    {
      "cell_type": "code",
      "source": "# create a new empty list\nl = []\n\n# add an elements using `append`\nl.append(\"A\")\nl.append(\"d\")\nl.append(\"d\")\n\nprint(l)",
      "metadata": {
        "collapsed": false,
        "jupyter": {
          "outputs_hidden": false
        },
        "trusted": true
      },
      "outputs": [
        {
          "name": "stdout",
          "text": "['A', 'd', 'd']\n",
          "output_type": "stream"
        }
      ],
      "execution_count": 75
    },
    {
      "cell_type": "markdown",
      "source": "We can modify lists by assigning new values to elements in the list. In technical jargon, lists are *mutable*.",
      "metadata": {}
    },
    {
      "cell_type": "code",
      "source": "l[1] = \"p\"\nl[2] = \"p\"\n\nprint(l)",
      "metadata": {
        "collapsed": false,
        "jupyter": {
          "outputs_hidden": false
        },
        "trusted": true
      },
      "outputs": [
        {
          "name": "stdout",
          "text": "['A', 'p', 'p']\n",
          "output_type": "stream"
        }
      ],
      "execution_count": 76
    },
    {
      "cell_type": "code",
      "source": "l[1:3] = [\"d\", \"d\"]\n\nprint(l)",
      "metadata": {
        "collapsed": false,
        "jupyter": {
          "outputs_hidden": false
        },
        "trusted": true
      },
      "outputs": [
        {
          "name": "stdout",
          "text": "['A', 'd', 'd']\n",
          "output_type": "stream"
        }
      ],
      "execution_count": 77
    },
    {
      "cell_type": "markdown",
      "source": "Insert an element at an specific index using `insert`",
      "metadata": {}
    },
    {
      "cell_type": "code",
      "source": "l.insert(0, \"i\")\nl.insert(1, \"n\")\nl.insert(2, \"s\")\nl.insert(3, \"e\")\nl.insert(4, \"r\")\nl.insert(5, \"t\")\n\nprint(l)",
      "metadata": {
        "collapsed": false,
        "jupyter": {
          "outputs_hidden": false
        },
        "trusted": true
      },
      "outputs": [
        {
          "name": "stdout",
          "text": "['i', 'n', 's', 'e', 'r', 't', 'A', 'd', 'd']\n",
          "output_type": "stream"
        }
      ],
      "execution_count": 78
    },
    {
      "cell_type": "markdown",
      "source": "Remove first element with specific value using 'remove'",
      "metadata": {}
    },
    {
      "cell_type": "code",
      "source": "l.remove(\"A\")\n\nprint(l)",
      "metadata": {
        "collapsed": false,
        "jupyter": {
          "outputs_hidden": false
        },
        "trusted": true
      },
      "outputs": [
        {
          "name": "stdout",
          "text": "['i', 'n', 's', 'e', 'r', 't', 'd', 'd']\n",
          "output_type": "stream"
        }
      ],
      "execution_count": 79
    },
    {
      "cell_type": "markdown",
      "source": "Remove an element at a specific location using `del`:",
      "metadata": {}
    },
    {
      "cell_type": "code",
      "source": "del l[7]\ndel l[6]\n\nprint(l)",
      "metadata": {
        "collapsed": false,
        "jupyter": {
          "outputs_hidden": false
        },
        "trusted": true
      },
      "outputs": [
        {
          "name": "stdout",
          "text": "['i', 'n', 's', 'e', 'r', 't']\n",
          "output_type": "stream"
        }
      ],
      "execution_count": 80
    },
    {
      "cell_type": "markdown",
      "source": "See `help(list)` for more details, or read the online documentation ",
      "metadata": {}
    },
    {
      "cell_type": "markdown",
      "source": "### Tuples",
      "metadata": {}
    },
    {
      "cell_type": "markdown",
      "source": "Tuples are like lists, except that they cannot be modified once created, that is they are *immutable*. \n\nIn Python, tuples are created using the syntax `(..., ..., ...)`, or even `..., ...`:",
      "metadata": {}
    },
    {
      "cell_type": "code",
      "source": "point = (10, 20)\n\nprint(point, type(point))",
      "metadata": {
        "collapsed": false,
        "jupyter": {
          "outputs_hidden": false
        },
        "trusted": true
      },
      "outputs": [
        {
          "name": "stdout",
          "text": "(10, 20) <class 'tuple'>\n",
          "output_type": "stream"
        }
      ],
      "execution_count": 81
    },
    {
      "cell_type": "code",
      "source": "point = 10, 20\n\nprint(point, type(point))",
      "metadata": {
        "collapsed": false,
        "jupyter": {
          "outputs_hidden": false
        },
        "trusted": true
      },
      "outputs": [
        {
          "name": "stdout",
          "text": "(10, 20) <class 'tuple'>\n",
          "output_type": "stream"
        }
      ],
      "execution_count": 82
    },
    {
      "cell_type": "markdown",
      "source": "We can unpack a tuple by assigning it to a comma-separated list of variables:",
      "metadata": {}
    },
    {
      "cell_type": "code",
      "source": "x, y = point\n\nprint(\"x =\", x)\nprint(\"y =\", y)",
      "metadata": {
        "collapsed": false,
        "jupyter": {
          "outputs_hidden": false
        },
        "trusted": true
      },
      "outputs": [
        {
          "name": "stdout",
          "text": "x = 10\ny = 20\n",
          "output_type": "stream"
        }
      ],
      "execution_count": 83
    },
    {
      "cell_type": "markdown",
      "source": "If we try to assign a new value to an element in a tuple we get an error:",
      "metadata": {}
    },
    {
      "cell_type": "code",
      "source": "point[0] = 20",
      "metadata": {
        "collapsed": false,
        "jupyter": {
          "outputs_hidden": false
        },
        "trusted": true
      },
      "outputs": [
        {
          "ename": "<class 'TypeError'>",
          "evalue": "'tuple' object does not support item assignment",
          "traceback": [
            "\u001b[0;31m---------------------------------------------------------------------------\u001b[0m",
            "\u001b[0;31mTypeError\u001b[0m                                 Traceback (most recent call last)",
            "Cell \u001b[0;32mIn[83], line 1\u001b[0m\n\u001b[0;32m----> 1\u001b[0m \u001b[43mpoint\u001b[49m\u001b[43m[\u001b[49m\u001b[38;5;241;43m0\u001b[39;49m\u001b[43m]\u001b[49m \u001b[38;5;241m=\u001b[39m \u001b[38;5;241m20\u001b[39m\n",
            "\u001b[0;31mTypeError\u001b[0m: 'tuple' object does not support item assignment"
          ],
          "output_type": "error"
        }
      ],
      "execution_count": 84
    },
    {
      "cell_type": "markdown",
      "source": "### Dictionaries",
      "metadata": {}
    },
    {
      "cell_type": "markdown",
      "source": "Dictionaries are also like lists, except that each element is a key-value pair. The syntax for dictionaries is `{key1 : value1, ...}`:",
      "metadata": {}
    },
    {
      "cell_type": "code",
      "source": "params = {\"parameter1\" : 1.0,\n          \"parameter2\" : 2.0,\n          \"parameter3\" : 3.0,}\n\nprint(type(params))\nprint(params)",
      "metadata": {
        "collapsed": false,
        "jupyter": {
          "outputs_hidden": false
        },
        "trusted": true
      },
      "outputs": [
        {
          "name": "stdout",
          "text": "<class 'dict'>\n{'parameter1': 1.0, 'parameter2': 2.0, 'parameter3': 3.0}\n",
          "output_type": "stream"
        }
      ],
      "execution_count": 85
    },
    {
      "cell_type": "code",
      "source": "print(\"parameter1 = \" + str(params[\"parameter1\"]))\nprint(\"parameter2 = \" + str(params[\"parameter2\"]))\nprint(\"parameter3 = \" + str(params[\"parameter3\"]))",
      "metadata": {
        "collapsed": false,
        "jupyter": {
          "outputs_hidden": false
        },
        "trusted": true
      },
      "outputs": [
        {
          "name": "stdout",
          "text": "parameter1 = 1.0\nparameter2 = 2.0\nparameter3 = 3.0\n",
          "output_type": "stream"
        }
      ],
      "execution_count": 86
    },
    {
      "cell_type": "code",
      "source": "params[\"parameter1\"] = \"A\"\nparams[\"parameter2\"] = \"B\"\n\n# add a new entry\nparams[\"parameter4\"] = \"D\"\n\nprint(\"parameter1 = \" + str(params[\"parameter1\"]))\nprint(\"parameter2 = \" + str(params[\"parameter2\"]))\nprint(\"parameter3 = \" + str(params[\"parameter3\"]))\nprint(\"parameter4 = \" + str(params[\"parameter4\"]))",
      "metadata": {
        "collapsed": false,
        "jupyter": {
          "outputs_hidden": false
        },
        "trusted": true
      },
      "outputs": [
        {
          "name": "stdout",
          "text": "parameter1 = A\nparameter2 = B\nparameter3 = 3.0\nparameter4 = D\n",
          "output_type": "stream"
        }
      ],
      "execution_count": 87
    },
    {
      "cell_type": "markdown",
      "source": "## Control Flow",
      "metadata": {}
    },
    {
      "cell_type": "markdown",
      "source": "### Conditional statements: if, elif, else",
      "metadata": {}
    },
    {
      "cell_type": "markdown",
      "source": "The Python syntax for conditional execution of code uses the keywords `if`, `elif` (else if), `else`:",
      "metadata": {}
    },
    {
      "cell_type": "code",
      "source": "statement1 = False\nstatement2 = False\n\nif statement1:\n    print(\"statement1 is True\")\n    \nelif statement2:\n    print(\"statement2 is True\")\n    \nelse:\n    print(\"statement1 and statement2 are False\")",
      "metadata": {
        "collapsed": false,
        "jupyter": {
          "outputs_hidden": false
        },
        "trusted": true
      },
      "outputs": [
        {
          "name": "stdout",
          "text": "statement1 and statement2 are False\n",
          "output_type": "stream"
        }
      ],
      "execution_count": 88
    },
    {
      "cell_type": "markdown",
      "source": "For the first time, here we encounter a peculiar and unusual aspect of the Python programming language: Program blocks are defined by their indentation level. \n\nCompare to the equivalent C code:\n\n    if (statement1)\n    {\n        printf(\"statement1 is True\\n\");\n    }\n    else if (statement2)\n    {\n        printf(\"statement2 is True\\n\");\n    }\n    else\n    {\n        printf(\"statement1 and statement2 are False\\n\");\n    }\n\nIn C blocks are defined by the enclosing curly brackets `{` and `}`. And the level of indentation (white space before the code statements) does not matter (completely optional). \n\nBut in Python, the extent of a code block is defined by the indentation level (usually a tab or say four white spaces). This means that we have to be careful to indent our code correctly, or else we will get syntax errors. ",
      "metadata": {}
    },
    {
      "cell_type": "markdown",
      "source": "#### Examples:",
      "metadata": {}
    },
    {
      "cell_type": "code",
      "source": "statement1 = statement2 = True\n\nif statement1:\n    if statement2:\n        print(\"both statement1 and statement2 are True\")",
      "metadata": {
        "collapsed": false,
        "jupyter": {
          "outputs_hidden": false
        },
        "trusted": true
      },
      "outputs": [
        {
          "name": "stdout",
          "text": "both statement1 and statement2 are True\n",
          "output_type": "stream"
        }
      ],
      "execution_count": 89
    },
    {
      "cell_type": "code",
      "source": "# Bad indentation!\nif statement1:\n    if statement2:\n    print(\"both statement1 and statement2 are True\")  # this line is not properly indented",
      "metadata": {
        "collapsed": false,
        "jupyter": {
          "outputs_hidden": false
        },
        "trusted": true
      },
      "outputs": [
        {
          "ename": "<class 'IndentationError'>",
          "evalue": "expected an indented block after 'if' statement on line 3 (3545621536.py, line 4)",
          "traceback": [
            "\u001b[0;36m  Cell \u001b[0;32mIn[89], line 4\u001b[0;36m\u001b[0m\n\u001b[0;31m    print(\"both statement1 and statement2 are True\")  # this line is not properly indented\u001b[0m\n\u001b[0m    ^\u001b[0m\n\u001b[0;31mIndentationError\u001b[0m\u001b[0;31m:\u001b[0m expected an indented block after 'if' statement on line 3\n"
          ],
          "output_type": "error"
        }
      ],
      "execution_count": 90
    },
    {
      "cell_type": "code",
      "source": "statement1 = False \n\nif statement1:\n    print(\"printed if statement1 is True\")\n    \n    print(\"still inside the if block\")",
      "metadata": {
        "collapsed": false,
        "jupyter": {
          "outputs_hidden": false
        },
        "trusted": true
      },
      "outputs": [],
      "execution_count": 91
    },
    {
      "cell_type": "code",
      "source": "if statement1:\n    print(\"printed if statement1 is True\")\n    \nprint(\"now outside the if block\")",
      "metadata": {
        "collapsed": false,
        "jupyter": {
          "outputs_hidden": false
        },
        "trusted": true
      },
      "outputs": [
        {
          "name": "stdout",
          "text": "now outside the if block\n",
          "output_type": "stream"
        }
      ],
      "execution_count": 92
    },
    {
      "cell_type": "markdown",
      "source": "## Loops",
      "metadata": {}
    },
    {
      "cell_type": "markdown",
      "source": "In Python, loops can be programmed in a number of different ways. The most common is the `for` loop, which is used together with iterable objects, such as lists. The basic syntax is:",
      "metadata": {}
    },
    {
      "cell_type": "markdown",
      "source": "### **`for` loops**:",
      "metadata": {}
    },
    {
      "cell_type": "code",
      "source": "for x in [1,2,3]:\n    print(x)",
      "metadata": {
        "collapsed": false,
        "jupyter": {
          "outputs_hidden": false
        },
        "trusted": true
      },
      "outputs": [
        {
          "name": "stdout",
          "text": "1\n2\n3\n",
          "output_type": "stream"
        }
      ],
      "execution_count": 93
    },
    {
      "cell_type": "markdown",
      "source": "The `for` loop iterates over the elements of the supplied list, and executes the containing block once for each element. Any kind of list can be used in the `for` loop. For example:",
      "metadata": {}
    },
    {
      "cell_type": "code",
      "source": "for x in range(4): # by default range start at 0\n    print(x)",
      "metadata": {
        "collapsed": false,
        "jupyter": {
          "outputs_hidden": false
        },
        "trusted": true
      },
      "outputs": [
        {
          "name": "stdout",
          "text": "0\n1\n2\n3\n",
          "output_type": "stream"
        }
      ],
      "execution_count": 94
    },
    {
      "cell_type": "markdown",
      "source": "Note: `range(4)` does not include 4 !",
      "metadata": {}
    },
    {
      "cell_type": "code",
      "source": "for x in range(-3,3):\n    print(x)",
      "metadata": {
        "collapsed": false,
        "jupyter": {
          "outputs_hidden": false
        },
        "trusted": true
      },
      "outputs": [
        {
          "name": "stdout",
          "text": "-3\n-2\n-1\n0\n1\n2\n",
          "output_type": "stream"
        }
      ],
      "execution_count": 95
    },
    {
      "cell_type": "code",
      "source": "for word in [\"scientific\", \"computing\", \"with\", \"python\"]:\n    print(word)",
      "metadata": {
        "collapsed": false,
        "jupyter": {
          "outputs_hidden": false
        },
        "trusted": true
      },
      "outputs": [
        {
          "name": "stdout",
          "text": "scientific\ncomputing\nwith\npython\n",
          "output_type": "stream"
        }
      ],
      "execution_count": 96
    },
    {
      "cell_type": "markdown",
      "source": "To iterate over key-value pairs of a dictionary:",
      "metadata": {}
    },
    {
      "cell_type": "code",
      "source": "for key, value in params.items():\n    print(key + \" = \" + str(value))",
      "metadata": {
        "collapsed": false,
        "jupyter": {
          "outputs_hidden": false
        },
        "trusted": true
      },
      "outputs": [
        {
          "name": "stdout",
          "text": "parameter1 = A\nparameter2 = B\nparameter3 = 3.0\nparameter4 = D\n",
          "output_type": "stream"
        }
      ],
      "execution_count": 97
    },
    {
      "cell_type": "markdown",
      "source": "Sometimes it is useful to have access to the indices of the values when iterating over a list. We can use the `enumerate` function for this:",
      "metadata": {}
    },
    {
      "cell_type": "code",
      "source": "for idx, x in enumerate(range(-3,3)):\n    print(idx, x)",
      "metadata": {
        "collapsed": false,
        "jupyter": {
          "outputs_hidden": false
        },
        "trusted": true
      },
      "outputs": [
        {
          "name": "stdout",
          "text": "0 -3\n1 -2\n2 -1\n3 0\n4 1\n5 2\n",
          "output_type": "stream"
        }
      ],
      "execution_count": 98
    },
    {
      "cell_type": "markdown",
      "source": "### List comprehensions: Creating lists using `for` loops:",
      "metadata": {}
    },
    {
      "cell_type": "markdown",
      "source": "A convenient and compact way to initialize lists:",
      "metadata": {}
    },
    {
      "cell_type": "code",
      "source": "l1 = [x**2 for x in range(0,5)]\n\nprint(l1)",
      "metadata": {
        "collapsed": false,
        "jupyter": {
          "outputs_hidden": false
        },
        "trusted": true
      },
      "outputs": [
        {
          "name": "stdout",
          "text": "[0, 1, 4, 9, 16]\n",
          "output_type": "stream"
        }
      ],
      "execution_count": 99
    },
    {
      "cell_type": "markdown",
      "source": "### `while` loops:",
      "metadata": {}
    },
    {
      "cell_type": "code",
      "source": "i = 0\n\nwhile i < 5:\n    print(i)\n    \n    i = i + 1\n    \nprint(\"done\")",
      "metadata": {
        "collapsed": false,
        "jupyter": {
          "outputs_hidden": false
        },
        "trusted": true
      },
      "outputs": [
        {
          "name": "stdout",
          "text": "0\n1\n2\n3\n4\ndone\n",
          "output_type": "stream"
        }
      ],
      "execution_count": 100
    },
    {
      "cell_type": "markdown",
      "source": "Note that the `print(\"done\")` statement is not part of the `while` loop body because of the difference in indentation.",
      "metadata": {}
    },
    {
      "cell_type": "markdown",
      "source": "## Functions",
      "metadata": {}
    },
    {
      "cell_type": "markdown",
      "source": "A function in Python is defined using the keyword `def`, followed by a function name, a signature within parentheses `()`, and a colon `:`. The following code, with one additional level of indentation, is the function body.",
      "metadata": {}
    },
    {
      "cell_type": "code",
      "source": "def func0():   \n    print(\"test\")",
      "metadata": {
        "collapsed": false,
        "jupyter": {
          "outputs_hidden": false
        },
        "trusted": true
      },
      "outputs": [],
      "execution_count": 101
    },
    {
      "cell_type": "code",
      "source": "func0()",
      "metadata": {
        "collapsed": false,
        "jupyter": {
          "outputs_hidden": false
        },
        "trusted": true
      },
      "outputs": [
        {
          "name": "stdout",
          "text": "test\n",
          "output_type": "stream"
        }
      ],
      "execution_count": 102
    },
    {
      "cell_type": "markdown",
      "source": "Optionally, but highly recommended, we can define a so called \"docstring\", which is a description of the functions purpose and behavior. The docstring should follow directly after the function definition, before the code in the function body.",
      "metadata": {}
    },
    {
      "cell_type": "code",
      "source": "def func1(s):\n    \"\"\"\n    Print a string 's' and tell how many characters it has    \n    \"\"\"\n    \n    print(s + \" has \" + str(len(s)) + \" characters\")",
      "metadata": {
        "collapsed": false,
        "jupyter": {
          "outputs_hidden": false
        },
        "trusted": true
      },
      "outputs": [],
      "execution_count": 103
    },
    {
      "cell_type": "code",
      "source": "help(func1)",
      "metadata": {
        "collapsed": false,
        "jupyter": {
          "outputs_hidden": false
        },
        "trusted": true
      },
      "outputs": [
        {
          "name": "stdout",
          "text": "Help on function func1 in module __main__:\n\nfunc1(s)\n    Print a string 's' and tell how many characters it has\n\n",
          "output_type": "stream"
        }
      ],
      "execution_count": 104
    },
    {
      "cell_type": "code",
      "source": "func1(\"test\")",
      "metadata": {
        "collapsed": false,
        "jupyter": {
          "outputs_hidden": false
        },
        "trusted": true
      },
      "outputs": [
        {
          "name": "stdout",
          "text": "test has 4 characters\n",
          "output_type": "stream"
        }
      ],
      "execution_count": 105
    },
    {
      "cell_type": "markdown",
      "source": "Functions that returns a value use the `return` keyword:",
      "metadata": {}
    },
    {
      "cell_type": "code",
      "source": "def square(x):\n    \"\"\"\n    Return the square of x.\n    \"\"\"\n    return x ** 2",
      "metadata": {
        "collapsed": false,
        "jupyter": {
          "outputs_hidden": false
        },
        "trusted": true
      },
      "outputs": [],
      "execution_count": 106
    },
    {
      "cell_type": "code",
      "source": "square(4)",
      "metadata": {
        "collapsed": false,
        "jupyter": {
          "outputs_hidden": false
        },
        "trusted": true
      },
      "outputs": [
        {
          "execution_count": 106,
          "output_type": "execute_result",
          "data": {
            "text/plain": "16"
          },
          "metadata": {}
        }
      ],
      "execution_count": 107
    },
    {
      "cell_type": "markdown",
      "source": "We can return multiple values from a function using tuples (see above):",
      "metadata": {}
    },
    {
      "cell_type": "code",
      "source": "def powers(x):\n    \"\"\"\n    Return a few powers of x.\n    \"\"\"\n    return x ** 2, x ** 3, x ** 4",
      "metadata": {
        "collapsed": false,
        "jupyter": {
          "outputs_hidden": false
        },
        "trusted": true
      },
      "outputs": [],
      "execution_count": 108
    },
    {
      "cell_type": "code",
      "source": "powers(3)",
      "metadata": {
        "collapsed": false,
        "jupyter": {
          "outputs_hidden": false
        },
        "trusted": true
      },
      "outputs": [
        {
          "execution_count": 108,
          "output_type": "execute_result",
          "data": {
            "text/plain": "(9, 27, 81)"
          },
          "metadata": {}
        }
      ],
      "execution_count": 109
    },
    {
      "cell_type": "code",
      "source": "x2, x3, x4 = powers(3)\n\nprint(x3)",
      "metadata": {
        "collapsed": false,
        "jupyter": {
          "outputs_hidden": false
        },
        "trusted": true
      },
      "outputs": [
        {
          "name": "stdout",
          "text": "27\n",
          "output_type": "stream"
        }
      ],
      "execution_count": 110
    },
    {
      "cell_type": "markdown",
      "source": "### Default argument and keyword arguments",
      "metadata": {}
    },
    {
      "cell_type": "markdown",
      "source": "In a definition of a function, we can give default values to the arguments the function takes:",
      "metadata": {}
    },
    {
      "cell_type": "code",
      "source": "def myfunc(x, p=2, debug=False):\n    if debug:\n        print(\"evaluating myfunc for x = \" + str(x) + \" using exponent p = \" + str(p))\n    return x**p",
      "metadata": {
        "collapsed": false,
        "jupyter": {
          "outputs_hidden": false
        },
        "trusted": true
      },
      "outputs": [],
      "execution_count": 111
    },
    {
      "cell_type": "markdown",
      "source": "If we don't provide a value of the `debug` argument when calling the the function `myfunc` it defaults to the value provided in the function definition:",
      "metadata": {}
    },
    {
      "cell_type": "code",
      "source": "myfunc(5)",
      "metadata": {
        "collapsed": false,
        "jupyter": {
          "outputs_hidden": false
        },
        "trusted": true
      },
      "outputs": [
        {
          "execution_count": 111,
          "output_type": "execute_result",
          "data": {
            "text/plain": "25"
          },
          "metadata": {}
        }
      ],
      "execution_count": 112
    },
    {
      "cell_type": "code",
      "source": "myfunc(5, debug=True)",
      "metadata": {
        "collapsed": false,
        "jupyter": {
          "outputs_hidden": false
        },
        "trusted": true
      },
      "outputs": [
        {
          "name": "stdout",
          "text": "evaluating myfunc for x = 5 using exponent p = 2\n",
          "output_type": "stream"
        },
        {
          "execution_count": 112,
          "output_type": "execute_result",
          "data": {
            "text/plain": "25"
          },
          "metadata": {}
        }
      ],
      "execution_count": 113
    },
    {
      "cell_type": "markdown",
      "source": "If we explicitly list the name of the arguments in the function calls, they do not need to come in the same order as in the function definition. This is called *keyword* arguments, and is often very useful in functions that takes a lot of optional arguments.",
      "metadata": {}
    },
    {
      "cell_type": "code",
      "source": "myfunc(p=3, debug=True, x=7)",
      "metadata": {
        "collapsed": false,
        "jupyter": {
          "outputs_hidden": false
        },
        "trusted": true
      },
      "outputs": [
        {
          "name": "stdout",
          "text": "evaluating myfunc for x = 7 using exponent p = 3\n",
          "output_type": "stream"
        },
        {
          "execution_count": 113,
          "output_type": "execute_result",
          "data": {
            "text/plain": "343"
          },
          "metadata": {}
        }
      ],
      "execution_count": 114
    },
    {
      "cell_type": "markdown",
      "source": "### Unnamed functions (lambda function)",
      "metadata": {}
    },
    {
      "cell_type": "markdown",
      "source": "In Python we can also create unnamed functions, using the `lambda` keyword:",
      "metadata": {}
    },
    {
      "cell_type": "code",
      "source": "f1 = lambda x: x**2\n    \n# is equivalent to \n\ndef f2(x):\n    return x**2",
      "metadata": {
        "collapsed": false,
        "jupyter": {
          "outputs_hidden": false
        },
        "trusted": true
      },
      "outputs": [],
      "execution_count": 115
    },
    {
      "cell_type": "code",
      "source": "f1(2), f2(2)",
      "metadata": {
        "collapsed": false,
        "jupyter": {
          "outputs_hidden": false
        },
        "trusted": true
      },
      "outputs": [
        {
          "execution_count": 115,
          "output_type": "execute_result",
          "data": {
            "text/plain": "(4, 4)"
          },
          "metadata": {}
        }
      ],
      "execution_count": 116
    },
    {
      "cell_type": "markdown",
      "source": "This technique is useful for example when we want to pass a simple function as an argument to another function, like this:",
      "metadata": {}
    },
    {
      "cell_type": "code",
      "source": "# map is a built-in python function\nmap(lambda x: x**2, range(-3,4))",
      "metadata": {
        "collapsed": false,
        "jupyter": {
          "outputs_hidden": false
        },
        "trusted": true
      },
      "outputs": [
        {
          "execution_count": 116,
          "output_type": "execute_result",
          "data": {
            "text/plain": "<map at 0x3d73050>"
          },
          "metadata": {}
        }
      ],
      "execution_count": 117
    },
    {
      "cell_type": "code",
      "source": "# in python 3 we can use `list(...)` to convert the iterator to an explicit list\nlist(map(lambda x: x**2, range(-3,4)))",
      "metadata": {
        "collapsed": false,
        "jupyter": {
          "outputs_hidden": false
        },
        "trusted": true
      },
      "outputs": [
        {
          "execution_count": 117,
          "output_type": "execute_result",
          "data": {
            "text/plain": "[9, 4, 1, 0, 1, 4, 9]"
          },
          "metadata": {}
        }
      ],
      "execution_count": 118
    },
    {
      "cell_type": "markdown",
      "source": "## Classes",
      "metadata": {}
    },
    {
      "cell_type": "markdown",
      "source": "Classes are the key features of object-oriented programming. A class is a structure for representing an object and the operations that can be performed on the object. \n\nIn Python a class can contain *attributes* (variables) and *methods* (functions).\n\nA class is defined almost like a function, but using the `class` keyword, and the class definition usually contains a number of class method definitions (a function in a class).\n\n* Each class method should have an argument `self` as its first argument. This object is a self-reference.\n\n* Some class method names have special meaning, for example:\n\n    * `__init__`: The name of the method that is invoked when the object is first created.\n    * `__str__` : A method that is invoked when a simple string representation of the class is needed, as for example when printed.\n    * There are many more, see http://docs.python.org/2/reference/datamodel.html#special-method-names",
      "metadata": {}
    },
    {
      "cell_type": "code",
      "source": "class Point:\n    \"\"\"\n    Simple class for representing a point in a Cartesian coordinate system.\n    \"\"\"\n    \n    def __init__(self, x, y):\n        \"\"\"\n        Create a new Point at x, y.\n        \"\"\"\n        self.x = x\n        self.y = y\n        \n    def translate(self, dx, dy):\n        \"\"\"\n        Translate the point by dx and dy in the x and y direction.\n        \"\"\"\n        self.x += dx\n        self.y += dy\n        \n    def __str__(self):\n        return(\"Point at [%f, %f]\" % (self.x, self.y))",
      "metadata": {
        "collapsed": false,
        "jupyter": {
          "outputs_hidden": false
        },
        "trusted": true
      },
      "outputs": [],
      "execution_count": 119
    },
    {
      "cell_type": "markdown",
      "source": "To create a new instance of a class:",
      "metadata": {}
    },
    {
      "cell_type": "code",
      "source": "p1 = Point(0, 0) # this will invoke the __init__ method in the Point class\n\nprint(p1)         # this will invoke the __str__ method",
      "metadata": {
        "collapsed": false,
        "jupyter": {
          "outputs_hidden": false
        },
        "trusted": true
      },
      "outputs": [
        {
          "name": "stdout",
          "text": "Point at [0.000000, 0.000000]\n",
          "output_type": "stream"
        }
      ],
      "execution_count": 120
    },
    {
      "cell_type": "markdown",
      "source": "To invoke a class method in the class instance `p`:",
      "metadata": {}
    },
    {
      "cell_type": "code",
      "source": "p2 = Point(1, 1)\n\np1.translate(0.25, 1.5)\n\nprint(p1)\nprint(p2)",
      "metadata": {
        "collapsed": false,
        "jupyter": {
          "outputs_hidden": false
        },
        "trusted": true
      },
      "outputs": [
        {
          "name": "stdout",
          "text": "Point at [0.250000, 1.500000]\nPoint at [1.000000, 1.000000]\n",
          "output_type": "stream"
        }
      ],
      "execution_count": 121
    },
    {
      "cell_type": "markdown",
      "source": "Note that calling class methods can modify the state of that particular class instance, but does not effect other class instances or any global variables.\n\nThat is one of the nice things about object-oriented design: code such as functions and related variables are grouped in separate and independent entities. ",
      "metadata": {}
    },
    {
      "cell_type": "markdown",
      "source": "## Modules",
      "metadata": {}
    },
    {
      "cell_type": "markdown",
      "source": "One of the most important concepts in good programming is to reuse code and avoid repetitions.\n\nThe idea is to write functions and classes with a well-defined purpose and scope, and reuse these instead of repeating similar code in different part of a program (modular programming). The result is usually that readability and maintainability of a program is greatly improved. What this means in practice is that our programs have fewer bugs, are easier to extend and debug/troubleshoot. \n\nPython supports modular programming at different levels. Functions and classes are examples of tools for low-level modular programming. Python modules are a higher-level modular programming construct, where we can collect related variables, functions and classes in a module. A python module is defined in a python file (with file-ending `.py`), and it can be made accessible to other Python modules and programs using the `import` statement. \n\nConsider the following example: the file `mymodule.py` contains simple example implementations of a variable, function and a class:",
      "metadata": {}
    },
    {
      "cell_type": "code",
      "source": "%%file mymodule.py\n\"\"\"\nExample of a python module. Contains a variable called my_variable,\na function called my_function, and a class called MyClass.\n\"\"\"\n\nmy_variable = 0\n\ndef my_function():\n    \"\"\"\n    Example function\n    \"\"\"\n    return my_variable\n    \nclass MyClass:\n    \"\"\"\n    Example class.\n    \"\"\"\n\n    def __init__(self):\n        self.variable = my_variable\n        \n    def set_variable(self, new_value):\n        \"\"\"\n        Set self.variable to a new value\n        \"\"\"\n        self.variable = new_value\n        \n    def get_variable(self):\n        return self.variable",
      "metadata": {
        "collapsed": false,
        "jupyter": {
          "outputs_hidden": false
        },
        "trusted": true
      },
      "outputs": [
        {
          "name": "stdout",
          "text": "Writing mymodule.py\n",
          "output_type": "stream"
        }
      ],
      "execution_count": null
    },
    {
      "cell_type": "markdown",
      "source": "We can import the module `mymodule` into our Python program using `import`:",
      "metadata": {}
    },
    {
      "cell_type": "code",
      "source": "import mymodule",
      "metadata": {
        "collapsed": false,
        "jupyter": {
          "outputs_hidden": false
        },
        "trusted": true
      },
      "outputs": [
        {
          "ename": "<class 'ModuleNotFoundError'>",
          "evalue": "No module named 'mymodule'",
          "traceback": [
            "\u001b[0;31m---------------------------------------------------------------------------\u001b[0m",
            "\u001b[0;31mModuleNotFoundError\u001b[0m                       Traceback (most recent call last)",
            "Cell \u001b[0;32mIn[121], line 1\u001b[0m\n\u001b[0;32m----> 1\u001b[0m \u001b[38;5;28;01mimport\u001b[39;00m \u001b[38;5;21;01mmymodule\u001b[39;00m\n",
            "\u001b[0;31mModuleNotFoundError\u001b[0m: No module named 'mymodule'"
          ],
          "output_type": "error"
        }
      ],
      "execution_count": 123
    },
    {
      "cell_type": "markdown",
      "source": "Use `help(module)` to get a summary of what the module provides:",
      "metadata": {}
    },
    {
      "cell_type": "code",
      "source": "help(mymodule)",
      "metadata": {
        "collapsed": false,
        "jupyter": {
          "outputs_hidden": false
        },
        "trusted": true
      },
      "outputs": [
        {
          "ename": "<class 'NameError'>",
          "evalue": "name 'mymodule' is not defined",
          "traceback": [
            "\u001b[0;31m---------------------------------------------------------------------------\u001b[0m",
            "\u001b[0;31mNameError\u001b[0m                                 Traceback (most recent call last)",
            "Cell \u001b[0;32mIn[122], line 1\u001b[0m\n\u001b[0;32m----> 1\u001b[0m help(\u001b[43mmymodule\u001b[49m)\n",
            "\u001b[0;31mNameError\u001b[0m: name 'mymodule' is not defined"
          ],
          "output_type": "error"
        }
      ],
      "execution_count": 124
    },
    {
      "cell_type": "code",
      "source": "mymodule.my_variable",
      "metadata": {
        "collapsed": false,
        "jupyter": {
          "outputs_hidden": false
        },
        "trusted": true
      },
      "outputs": [
        {
          "ename": "<class 'NameError'>",
          "evalue": "name 'mymodule' is not defined",
          "traceback": [
            "\u001b[0;31m---------------------------------------------------------------------------\u001b[0m",
            "\u001b[0;31mNameError\u001b[0m                                 Traceback (most recent call last)",
            "Cell \u001b[0;32mIn[123], line 1\u001b[0m\n\u001b[0;32m----> 1\u001b[0m \u001b[43mmymodule\u001b[49m\u001b[38;5;241m.\u001b[39mmy_variable\n",
            "\u001b[0;31mNameError\u001b[0m: name 'mymodule' is not defined"
          ],
          "output_type": "error"
        }
      ],
      "execution_count": 125
    },
    {
      "cell_type": "code",
      "source": "mymodule.my_function() ",
      "metadata": {
        "collapsed": false,
        "jupyter": {
          "outputs_hidden": false
        },
        "trusted": true
      },
      "outputs": [
        {
          "ename": "<class 'NameError'>",
          "evalue": "name 'mymodule' is not defined",
          "traceback": [
            "\u001b[0;31m---------------------------------------------------------------------------\u001b[0m",
            "\u001b[0;31mNameError\u001b[0m                                 Traceback (most recent call last)",
            "Cell \u001b[0;32mIn[124], line 1\u001b[0m\n\u001b[0;32m----> 1\u001b[0m \u001b[43mmymodule\u001b[49m\u001b[38;5;241m.\u001b[39mmy_function() \n",
            "\u001b[0;31mNameError\u001b[0m: name 'mymodule' is not defined"
          ],
          "output_type": "error"
        }
      ],
      "execution_count": 126
    },
    {
      "cell_type": "code",
      "source": "my_class = mymodule.MyClass() \nmy_class.set_variable(10)\nmy_class.get_variable()",
      "metadata": {
        "collapsed": false,
        "jupyter": {
          "outputs_hidden": false
        },
        "trusted": true
      },
      "outputs": [
        {
          "ename": "<class 'NameError'>",
          "evalue": "name 'mymodule' is not defined",
          "traceback": [
            "\u001b[0;31m---------------------------------------------------------------------------\u001b[0m",
            "\u001b[0;31mNameError\u001b[0m                                 Traceback (most recent call last)",
            "Cell \u001b[0;32mIn[125], line 1\u001b[0m\n\u001b[0;32m----> 1\u001b[0m my_class \u001b[38;5;241m=\u001b[39m mymodule\u001b[38;5;241m.\u001b[39mMyClass() \n\u001b[1;32m      2\u001b[0m my_class\u001b[38;5;241m.\u001b[39mset_variable(\u001b[38;5;241m10\u001b[39m)\n\u001b[1;32m      3\u001b[0m my_class\u001b[38;5;241m.\u001b[39mget_variable()\n",
            "\u001b[0;31mNameError\u001b[0m: name 'mymodule' is not defined"
          ],
          "output_type": "error"
        }
      ],
      "execution_count": 127
    },
    {
      "cell_type": "markdown",
      "source": "If we make changes to the code in `mymodule.py`, we need to reload it using `reload`:",
      "metadata": {}
    },
    {
      "cell_type": "code",
      "source": "reload(mymodule)  # works only in python 2",
      "metadata": {
        "collapsed": false,
        "jupyter": {
          "outputs_hidden": false
        },
        "trusted": true
      },
      "outputs": [
        {
          "ename": "<class 'NameError'>",
          "evalue": "name 'reload' is not defined",
          "traceback": [
            "\u001b[0;31m---------------------------------------------------------------------------\u001b[0m",
            "\u001b[0;31mNameError\u001b[0m                                 Traceback (most recent call last)",
            "Cell \u001b[0;32mIn[126], line 1\u001b[0m\n\u001b[0;32m----> 1\u001b[0m \u001b[43mreload\u001b[49m(mymodule)  \u001b[38;5;66;03m# works only in python 2\u001b[39;00m\n",
            "\u001b[0;31mNameError\u001b[0m: name 'reload' is not defined"
          ],
          "output_type": "error"
        }
      ],
      "execution_count": 128
    },
    {
      "cell_type": "markdown",
      "source": "## Exceptions",
      "metadata": {}
    },
    {
      "cell_type": "markdown",
      "source": "In Python errors are managed with a special language construct called \"Exceptions\". When errors occur exceptions can be raised, which interrupts the normal program flow and fallback to somewhere else in the code where the closest try-except statement is defined.",
      "metadata": {}
    },
    {
      "cell_type": "markdown",
      "source": "To generate an exception we can use the `raise` statement, which takes an argument that must be an instance of the class `BaseException` or a class derived from it. ",
      "metadata": {}
    },
    {
      "cell_type": "code",
      "source": "raise Exception(\"description of the error\")",
      "metadata": {
        "collapsed": false,
        "jupyter": {
          "outputs_hidden": false
        },
        "trusted": true
      },
      "outputs": [
        {
          "ename": "<class 'Exception'>",
          "evalue": "description of the error",
          "traceback": [
            "\u001b[0;31m---------------------------------------------------------------------------\u001b[0m",
            "\u001b[0;31mException\u001b[0m                                 Traceback (most recent call last)",
            "Cell \u001b[0;32mIn[127], line 1\u001b[0m\n\u001b[0;32m----> 1\u001b[0m \u001b[38;5;28;01mraise\u001b[39;00m \u001b[38;5;167;01mException\u001b[39;00m(\u001b[38;5;124m\"\u001b[39m\u001b[38;5;124mdescription of the error\u001b[39m\u001b[38;5;124m\"\u001b[39m)\n",
            "\u001b[0;31mException\u001b[0m: description of the error"
          ],
          "output_type": "error"
        }
      ],
      "execution_count": 129
    },
    {
      "cell_type": "markdown",
      "source": "A typical use of exceptions is to abort functions when some error condition occurs, for example:\n\n    def my_function(arguments):\n    \n        if not verify(arguments):\n            raise Exception(\"Invalid arguments\")\n        \n        # rest of the code goes here",
      "metadata": {}
    },
    {
      "cell_type": "markdown",
      "source": "To gracefully catch errors that are generated by functions and class methods, or by the Python interpreter itself, use the `try` and  `except` statements:\n\n    try:\n        # normal code goes here\n    except:\n        # code for error handling goes here\n        # this code is not executed unless the code\n        # above generated an error\n\nFor example:",
      "metadata": {}
    },
    {
      "cell_type": "code",
      "source": "try:\n    print(\"test\")\n    # generate an error: the variable test is not defined\n    print(test)\nexcept:\n    print(\"Caught an exception\")",
      "metadata": {
        "collapsed": false,
        "jupyter": {
          "outputs_hidden": false
        },
        "trusted": true
      },
      "outputs": [
        {
          "name": "stdout",
          "text": "test\nCaught an exception\n",
          "output_type": "stream"
        }
      ],
      "execution_count": 130
    },
    {
      "cell_type": "markdown",
      "source": "To get information about the error, we can access the `Exception` class instance that describes the exception by using for example:\n\n    except Exception as e:",
      "metadata": {}
    },
    {
      "cell_type": "code",
      "source": "try:\n    print(\"test\")\n    # generate an error: the variable test is not defined\n    print(test)\nexcept Exception as e:\n    print(\"Caught an exception:\" + str(e))",
      "metadata": {
        "collapsed": false,
        "jupyter": {
          "outputs_hidden": false
        },
        "trusted": true
      },
      "outputs": [
        {
          "name": "stdout",
          "text": "test\nCaught an exception:name 'test' is not defined\n",
          "output_type": "stream"
        }
      ],
      "execution_count": 131
    },
    {
      "cell_type": "markdown",
      "source": "## Further reading",
      "metadata": {}
    },
    {
      "cell_type": "markdown",
      "source": "* http://www.python.org - The official web page of the Python programming language.\n* http://www.python.org/dev/peps/pep-0008 - Style guide for Python programming. Highly recommended. \n* http://www.greenteapress.com/thinkpython/ - A free book on Python programming.\n* [Python Essential Reference](http://www.amazon.com/Python-Essential-Reference-4th-Edition/dp/0672329786) - A good reference book on Python programming.",
      "metadata": {}
    }
  ]
}