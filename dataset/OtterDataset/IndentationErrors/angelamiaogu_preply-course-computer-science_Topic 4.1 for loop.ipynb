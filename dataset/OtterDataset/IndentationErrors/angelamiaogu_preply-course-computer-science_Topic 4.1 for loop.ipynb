{
 "cells": [
  {
   "cell_type": "code",
   "execution_count": 66,
   "metadata": {},
   "outputs": [
    {
     "name": "stdout",
     "output_type": "stream",
     "text": [
      "angela loves Apple\n",
      "angela loves Banana\n",
      "angela loves Kiwi\n",
      "angela loves Andy\n"
     ]
    }
   ],
   "source": [
    "x = [\"apple\", \"Banana\", \"Kiwi\",\"andy\"]\n",
    "for abc in x:\n",
    "    print (\"angela loves\",abc.title())"
   ]
  },
  {
   "cell_type": "code",
   "execution_count": 67,
   "metadata": {},
   "outputs": [
    {
     "name": "stdout",
     "output_type": "stream",
     "text": [
      "I chose 208974\n",
      "I chose 31\n",
      "I chose 42\n",
      "I chose 55\n",
      "I chose 26\n"
     ]
    }
   ],
   "source": [
    "x = ( 208974, 31, 42, 55, 26)\n",
    "for h in x:\n",
    "    print (\"I chose\", h)"
   ]
  },
  {
   "cell_type": "code",
   "execution_count": 68,
   "metadata": {},
   "outputs": [
    {
     "name": "stdout",
     "output_type": "stream",
     "text": [
      "large numbers are [8384, 845955, 43848, 9950, 9384, 43435, 8374] and small numbers are [3, 4, 3344, 3734, 733, 4383, 103, 45, 438, 374, 3838]\n"
     ]
    }
   ],
   "source": [
    "y = {103,45,43435,3,4,9384,4383,3,8384,438,733,374,3344,8374,3734,8384,3838,43848,845955,9950}\n",
    "small = []\n",
    "large = []\n",
    "for i in y:\n",
    "    if i > 8000: \n",
    "        large.append(i)\n",
    "    else:\n",
    "        small.append(i)\n",
    "print (\"large numbers are\",large,\"and small numbers are\",small)"
   ]
  },
  {
   "cell_type": "code",
   "execution_count": 69,
   "metadata": {},
   "outputs": [
    {
     "name": "stdout",
     "output_type": "stream",
     "text": [
      "Even numbers are [8384, 4, 43848, 3344, 3734, 9950, 9384, 438, 374, 8374, 3838]\n",
      "Odd numbers are [3, 845955, 733, 4383, 103, 43435, 45]\n"
     ]
    }
   ],
   "source": [
    "#from y differentiate even and odd numbers\n",
    "y = {103,45,43435,3,4,9384,4383,3,8384,438,733,374,3344,8374,3734,8384,3838,43848,845955,9950}\n",
    "even = []\n",
    "odd = []\n",
    "for w in y:\n",
    "    if w%2 == 0:\n",
    "        even.append(w)\n",
    "    else:\n",
    "        odd.append(w)\n",
    "print (\"Even numbers are\",even)\n",
    "print (\"Odd numbers are\",odd)"
   ]
  },
  {
   "cell_type": "code",
   "execution_count": 70,
   "metadata": {},
   "outputs": [
    {
     "name": "stdout",
     "output_type": "stream",
     "text": [
      "all the red foods are ['apple', 'cherry', 'strawberry', 'tomato']\n",
      "all the yellow foods are ['mango', 'orange_expired']\n",
      "all the green foods are ['kiwi', 'melon']\n"
     ]
    }
   ],
   "source": [
    "x =  {\"apple\": \"red\", \"cherry\": \"red\", \"strawberry\": \"red\", \"mango\": \"yellow\", \"tomato\": \"red\", \"kiwi\": \"green\", \"orange_expired\": \"yellow\", \"melon\": \"green\"}\n",
    "red = []\n",
    "yellow = []\n",
    "green = []\n",
    "for a,b in x.items():\n",
    "    if b == \"red\":\n",
    "        red.append(a)\n",
    "    if b == \"yellow\":\n",
    "        yellow.append(a)\n",
    "    if b == \"green\": \n",
    "        green.append(a)\n",
    "\n",
    "print (\"all the red foods are\",red)\n",
    "print (\"all the yellow foods are\",yellow)\n",
    "print (\"all the green foods are\",green)\n"
   ]
  },
  {
   "cell_type": "code",
   "execution_count": 71,
   "metadata": {},
   "outputs": [
    {
     "name": "stdout",
     "output_type": "stream",
     "text": [
      "all the curved fruits are ['banana']\n",
      "all the round fruits are ['apple', 'orange', 'grape']\n"
     ]
    }
   ],
   "source": [
    "fruit_shapes = {'apple': 'round','banana': 'curved','orange': 'round','strawberry': 'heart-shaped','kiwi': 'oval','watermelon': 'oblong','grape': 'round','pineapple': 'oval','pear': 'bell-shaped','mango': 'oval'}\n",
    "round = []\n",
    "curved = []\n",
    "for a,b in fruit_shapes.items():\n",
    "    if b == \"round\":\n",
    "        round.append(a)\n",
    "    if b == \"curved\":\n",
    "        curved.append(a)\n",
    "print (\"all the curved fruits are\",curved)\n",
    "print (\"all the round fruits are\",round)\n"
   ]
  },
  {
   "cell_type": "code",
   "execution_count": 72,
   "metadata": {},
   "outputs": [
    {
     "name": "stdout",
     "output_type": "stream",
     "text": [
      "all the poor countries are ['Democratic Republic of the Congo', 'Mozambique', 'Malawi', 'Burundi', 'Niger', 'Liberia', 'Madagascar', 'Central African Republic', 'Zimbabwe', 'Eritrea']\n",
      "all the wealthy countries are ['United States', 'Switzerland', 'Singapore', 'Luxembourg', 'Norway', 'Qatar', 'Ireland', 'Denmark', 'Australia', 'Sweden']\n"
     ]
    }
   ],
   "source": [
    "###\n",
    "countries = {\n",
    "    \"United States\": \"Wealthy\",\n",
    "    \"Switzerland\": \"Wealthy\",\n",
    "    \"Singapore\": \"Wealthy\",\n",
    "    \"Luxembourg\": \"Wealthy\",\n",
    "    \"Norway\": \"Wealthy\",\n",
    "    \"Qatar\": \"Wealthy\",\n",
    "    \"Ireland\": \"Wealthy\",\n",
    "    \"Denmark\": \"Wealthy\",\n",
    "    \"Australia\": \"Wealthy\",\n",
    "    \"Sweden\": \"Wealthy\",\n",
    "    \"Democratic Republic of the Congo\": \"Poor\",\n",
    "    \"Mozambique\": \"Poor\", \"Malawi\": \"Poor\",\"Burundi\": \"Poor\",\"Niger\": \"Poor\",\"Liberia\": \"Poor\",\"Madagascar\": \"Poor\",\"Central African Republic\": \"Poor\",\"Zimbabwe\": \"Poor\",\"Eritrea\": \"Poor\"}\n",
    "poor = []\n",
    "wealthy = []\n",
    "for a,b in countries.items():\n",
    "    if b == \"Poor\":\n",
    "        poor.append(a)\n",
    "    if b == \"Wealthy\":\n",
    "        wealthy.append(a)\n",
    "print (\"all the poor countries are\",poor)\n",
    "print (\"all the wealthy countries are\",wealthy)\n"
   ]
  },
  {
   "cell_type": "code",
   "execution_count": 73,
   "metadata": {},
   "outputs": [
    {
     "name": "stdout",
     "output_type": "stream",
     "text": [
      "the low boold presure are [(103, 68), (112, 71), (118, 77), (97, 63), (99, 67), (119, 76), (115, 75), (105, 67), (92, 66), (96, 61), (108, 68)]\n",
      "the high boold presure are [(124, 76), (130, 86), (138, 73), (132, 82), (137, 84), (124, 67), (128, 79), (133, 78), (126, 85), (10000000000, 0)]\n"
     ]
    }
   ],
   "source": [
    "blood_pressure = [(124, 76), (103, 68), (112, 71), (130, 86), (138, 73), (118, 77), (97, 63), (132, 82), (99, 67), (119, 76), (137, 84), (124, 67), (115, 75), (105, 67), (128, 79), (92, 66), (133, 78), (96, 61), (126, 85), (108, 68), (10000000000, 0)]\n",
    "\n",
    "\n",
    "\n",
    "# find those people who has blood pressure more than 120\n",
    "# find those people who have no blood pressure less than \n",
    "high_people = []\n",
    "low_people = []\n",
    "for a,b in blood_pressure:\n",
    "    if a > 120:\n",
    "        high_people.append((a,b))\n",
    "    elif b < 80:\n",
    "        low_people.append((a,b))\n",
    "print (\"the low boold presure are\",low_people)\n",
    "print (\"the high boold presure are\",high_people)\n"
   ]
  },
  {
   "cell_type": "code",
   "execution_count": 74,
   "metadata": {},
   "outputs": [
    {
     "name": "stdout",
     "output_type": "stream",
     "text": [
      "Mikey\n",
      "Sarah\n",
      "Mrandy\n"
     ]
    }
   ],
   "source": [
    "aaaa={'Johnny': 102, 'Alice': 100, 'Mikey': 104, 'Emily': 101, 'Sarah': 103, 'Mrandy': 103, 'Angelathethird' : 101, }\n",
    "whyyyyyyyy=[]\n",
    "# Those people who has temperature more than 102\n",
    "for each in aaaa:\n",
    "    if aaaa[each]>102:\n",
    "        whyyyyyyyy.append(each)\n",
    "        print(each)\n",
    "    else:\n",
    "        pass"
   ]
  },
  {
   "cell_type": "code",
   "execution_count": 75,
   "metadata": {},
   "outputs": [
    {
     "name": "stdout",
     "output_type": "stream",
     "text": [
      "eat bananas in python\n"
     ]
    }
   ],
   "source": [
    "### eat bananas in python\n",
    "eat_bananas_in_python=print\n",
    "eat_bananas_in_python(\"eat bananas in python\")"
   ]
  },
  {
   "cell_type": "code",
   "execution_count": 76,
   "metadata": {},
   "outputs": [
    {
     "name": "stdout",
     "output_type": "stream",
     "text": [
      "It's divisible by 3 12121212121212111\n",
      "It's divisible by 3 1233\n",
      "It's divisible by 3 111111111\n",
      "It's divisible by 3 333333333333\n"
     ]
    }
   ],
   "source": [
    "x = (12121212121212111,1233,111111111,333333333333)\n",
    "for each in x:\n",
    "    if each%3 == 0:\n",
    "        print (\"It's divisible by 3\",each)"
   ]
  },
  {
   "cell_type": "code",
   "execution_count": 77,
   "metadata": {},
   "outputs": [
    {
     "name": "stdout",
     "output_type": "stream",
     "text": [
      "numbers that are positive are [432, 40, 2134, 23465, 32543576, 123243546, 24356765432, 1, 2, 3, 1, 2, 1, 1, 2]\n",
      "numbers that are negative are [-1, -324, -2314, -1243564, -132546, -324365476586, -123245287468764786565354565463549782346]\n",
      "numbers that are not positive and not negative are [0]\n"
     ]
    }
   ],
   "source": [
    "##Make a list of negative and positive numbers and differentiate negative and positive numbers in different container \n",
    "x = [-1,0,432,-324,52-12,2134,-2314,23465,-1243564,32543576,-132546,123243546,-324365476586,24356765432,-123245287468764786565354565463549782346,1,2,3,1,2,1,1,2]\n",
    "pos=[]\n",
    "neg=[]\n",
    "zer=[]\n",
    "for each in x:\n",
    "    if each >0:\n",
    "        pos.append(each)\n",
    "    elif each <0:\n",
    "        neg.append(each)\n",
    "    else:\n",
    "        zer.append(each)\n",
    "print (\"numbers that are positive are\", pos)\n",
    "print (\"numbers that are negative are\", neg)\n",
    "print (\"numbers that are not positive and not negative are\", zer)\n"
   ]
  },
  {
   "cell_type": "code",
   "execution_count": 78,
   "metadata": {},
   "outputs": [],
   "source": [
    "#### 1. Make a list of random number from 1 to 20\n",
    "### 2. Make a list of those numbers which are less than 5\n",
    "## 3. Make a list of those numbers which are between 5 and 15\n",
    "## 4. Make a list of numbers which are more than 15\n",
    "# Print all of them\n",
    "x = [11, 14, 19, 8, 10, 4, 9, 6, 5, 12, 18, 16, 1, 17, 15, 7, 20, 2, 13, 3]\n",
    "\n",
    "\n"
   ]
  },
  {
   "cell_type": "code",
   "execution_count": 79,
   "metadata": {},
   "outputs": [
    {
     "name": "stdout",
     "output_type": "stream",
     "text": [
      "10\n"
     ]
    }
   ],
   "source": [
    "x =  10\n",
    "y = 20\n",
    "z = 2*y - 3*x\n",
    "print (z)"
   ]
  },
  {
   "cell_type": "code",
   "execution_count": 80,
   "metadata": {},
   "outputs": [
    {
     "name": "stdout",
     "output_type": "stream",
     "text": [
      "0\n"
     ]
    }
   ],
   "source": [
    "x =  20\n",
    "y = 30\n",
    "z = 2 * y - 3 * x\n",
    "print (z)"
   ]
  },
  {
   "cell_type": "code",
   "execution_count": 81,
   "metadata": {},
   "outputs": [
    {
     "name": "stdout",
     "output_type": "stream",
     "text": [
      "-20\n"
     ]
    }
   ],
   "source": [
    "x =  40\n",
    "y = 50\n",
    "z = 2 * y - 3 * x\n",
    "print (z)"
   ]
  },
  {
   "cell_type": "code",
   "execution_count": 82,
   "metadata": {},
   "outputs": [],
   "source": [
    "# how to make a function\n",
    "def angelafunction(andy,andy2):\n",
    "    z = 2 * andy2 - 3 * andy \n",
    "    return z"
   ]
  },
  {
   "cell_type": "code",
   "execution_count": 83,
   "metadata": {},
   "outputs": [
    {
     "data": {
      "text/plain": [
       "10"
      ]
     },
     "execution_count": 83,
     "metadata": {},
     "output_type": "execute_result"
    }
   ],
   "source": [
    "angelafunction (10,20)"
   ]
  },
  {
   "cell_type": "code",
   "execution_count": 84,
   "metadata": {},
   "outputs": [
    {
     "data": {
      "text/plain": [
       "0"
      ]
     },
     "execution_count": 84,
     "metadata": {},
     "output_type": "execute_result"
    }
   ],
   "source": [
    "angelafunction (20,30)"
   ]
  },
  {
   "cell_type": "code",
   "execution_count": 85,
   "metadata": {},
   "outputs": [],
   "source": [
    "# Make a function that will take a list as input ... List of numbers \n",
    "## And the function will return only even numbers\n",
    "def asdfghjkl (x):\n",
    "    alleven = []\n",
    "    for each in x:\n",
    "        if each%2 == 0:\n",
    "            alleven.append(each)\n",
    "    return alleven"
   ]
  },
  {
   "cell_type": "code",
   "execution_count": 86,
   "metadata": {},
   "outputs": [
    {
     "data": {
      "text/plain": [
       "[2,\n",
       " 4,\n",
       " 6,\n",
       " 8,\n",
       " 0,\n",
       " 111111112,\n",
       " 2,\n",
       " 4,\n",
       " 8,\n",
       " 8,\n",
       " 4,\n",
       " 666775234542134567765432,\n",
       " 3534665874535124]"
      ]
     },
     "execution_count": 86,
     "metadata": {},
     "output_type": "execute_result"
    }
   ],
   "source": [
    "asdfghjkl([1,2,3,4,5,6,7,8,9,0,1,1,1,111111112,2,3,4,5,7,7,8,8,5,3,1,4,5,666775234542134567765432,3534665874535124])"
   ]
  },
  {
   "cell_type": "code",
   "execution_count": 87,
   "metadata": {},
   "outputs": [],
   "source": [
    "# to find the sum, devision, and product and difference.\n",
    "def qwertyuiop (x, y):\n",
    "    a = x + y\n",
    "    b = x - y\n",
    "    c = x * y\n",
    "    d = x / y\n",
    "    return a,b,c,d  "
   ]
  },
  {
   "cell_type": "code",
   "execution_count": 88,
   "metadata": {},
   "outputs": [
    {
     "data": {
      "text/plain": [
       "(22, -18, 40, 0.1)"
      ]
     },
     "execution_count": 88,
     "metadata": {},
     "output_type": "execute_result"
    }
   ],
   "source": [
    "qwertyuiop (2, 20)"
   ]
  },
  {
   "cell_type": "code",
   "execution_count": null,
   "metadata": {},
   "outputs": [],
   "source": []
  },
  {
   "cell_type": "code",
   "execution_count": 89,
   "metadata": {},
   "outputs": [],
   "source": [
    "def power (f,d,t):\n",
    "    w = f * d\n",
    "    p = w / t\n",
    "    return w,p"
   ]
  },
  {
   "cell_type": "code",
   "execution_count": 90,
   "metadata": {},
   "outputs": [
    {
     "data": {
      "text/plain": [
       "(218934654060, 109467327030.0)"
      ]
     },
     "execution_count": 90,
     "metadata": {},
     "output_type": "execute_result"
    }
   ],
   "source": [
    "power (10,21893465406,2)"
   ]
  },
  {
   "cell_type": "code",
   "execution_count": 91,
   "metadata": {},
   "outputs": [
    {
     "data": {
      "text/plain": [
       "(100000, 10000.0)"
      ]
     },
     "execution_count": 91,
     "metadata": {},
     "output_type": "execute_result"
    }
   ],
   "source": [
    "power (100,1000,10)"
   ]
  },
  {
   "cell_type": "code",
   "execution_count": 92,
   "metadata": {},
   "outputs": [
    {
     "data": {
      "text/plain": [
       "[41,\n",
       " 65,\n",
       " 153,\n",
       " 235,\n",
       " 239,\n",
       " 265,\n",
       " 526,\n",
       " 651,\n",
       " 5176,\n",
       " 5719,\n",
       " 6941,\n",
       " 167853,\n",
       " 327856,\n",
       " 1634635,\n",
       " 24674259,\n",
       " 417603465750784683]"
      ]
     },
     "execution_count": 92,
     "metadata": {},
     "output_type": "execute_result"
    }
   ],
   "source": [
    "# Make function which will take a list as input It will sort the list And finally it will remove 1st element\n",
    "def maaaaa(number):\n",
    "    number.sort()\n",
    "    del(number[0])\n",
    "    return(number)\n",
    "maaaaa([1634635,235,153,6941,651,24674259,41,65,265,167853,2,5176,526,239,5719,327856,417603465750784683])"
   ]
  },
  {
   "cell_type": "code",
   "execution_count": 93,
   "metadata": {},
   "outputs": [
    {
     "ename": "IndentationError",
     "evalue": "expected an indented block (4038094325.py, line 3)",
     "output_type": "error",
     "traceback": [
      "\u001b[0;36m  File \u001b[0;32m\"/var/folders/l_/j699flmx6dbc1vlb90jx_hyw0000gn/T/ipykernel_30205/4038094325.py\"\u001b[0;36m, line \u001b[0;32m3\u001b[0m\n\u001b[0;31m    def maaaaa(number):\u001b[0m\n\u001b[0m                       ^\u001b[0m\n\u001b[0;31mIndentationError\u001b[0m\u001b[0;31m:\u001b[0m expected an indented block\n"
     ]
    }
   ],
   "source": [
    "# make list of food, remove the first 2 elements from the list.append\n",
    "\n",
    "def maaaaa(number):\n"
   ]
  },
  {
   "cell_type": "code",
   "execution_count": null,
   "metadata": {},
   "outputs": [],
   "source": []
  },
  {
   "cell_type": "code",
   "execution_count": null,
   "metadata": {},
   "outputs": [
    {
     "ename": "NameError",
     "evalue": "name 'number' is not defined",
     "output_type": "error",
     "traceback": [
      "\u001b[0;31m---------------------------------------------------------------------------\u001b[0m",
      "\u001b[0;31mNameError\u001b[0m                                 Traceback (most recent call last)",
      "\u001b[0;32m/var/folders/l_/j699flmx6dbc1vlb90jx_hyw0000gn/T/ipykernel_18154/2244185206.py\u001b[0m in \u001b[0;36m<module>\u001b[0;34m\u001b[0m\n\u001b[0;32m----> 1\u001b[0;31m \u001b[0mnumber\u001b[0m\u001b[0;34m.\u001b[0m\u001b[0md\u001b[0m\u001b[0;34m(\u001b[0m\u001b[0;34m)\u001b[0m\u001b[0;34m\u001b[0m\u001b[0;34m\u001b[0m\u001b[0m\n\u001b[0m\u001b[1;32m      2\u001b[0m \u001b[0;32mdel\u001b[0m\u001b[0;34m(\u001b[0m\u001b[0mnumber\u001b[0m\u001b[0;34m[\u001b[0m\u001b[0;36m0\u001b[0m\u001b[0;34m]\u001b[0m\u001b[0;34m)\u001b[0m\u001b[0;34m\u001b[0m\u001b[0;34m\u001b[0m\u001b[0m\n\u001b[1;32m      3\u001b[0m \u001b[0;32mreturn\u001b[0m\u001b[0;34m(\u001b[0m\u001b[0mnumber\u001b[0m\u001b[0;34m)\u001b[0m\u001b[0;34m\u001b[0m\u001b[0;34m\u001b[0m\u001b[0m\n\u001b[1;32m      4\u001b[0m \u001b[0mmaaaaa\u001b[0m\u001b[0;34m(\u001b[0m\u001b[0;34m[\u001b[0m\u001b[0;36m1634635\u001b[0m\u001b[0;34m,\u001b[0m\u001b[0;36m235\u001b[0m\u001b[0;34m,\u001b[0m\u001b[0;36m153\u001b[0m\u001b[0;34m,\u001b[0m\u001b[0;36m6941\u001b[0m\u001b[0;34m,\u001b[0m\u001b[0;36m651\u001b[0m\u001b[0;34m,\u001b[0m\u001b[0;36m24674259\u001b[0m\u001b[0;34m,\u001b[0m\u001b[0;36m41\u001b[0m\u001b[0;34m,\u001b[0m\u001b[0;36m65\u001b[0m\u001b[0;34m,\u001b[0m\u001b[0;36m265\u001b[0m\u001b[0;34m,\u001b[0m\u001b[0;36m167853\u001b[0m\u001b[0;34m,\u001b[0m\u001b[0;36m2\u001b[0m\u001b[0;34m,\u001b[0m\u001b[0;36m5176\u001b[0m\u001b[0;34m,\u001b[0m\u001b[0;36m526\u001b[0m\u001b[0;34m,\u001b[0m\u001b[0;36m239\u001b[0m\u001b[0;34m,\u001b[0m\u001b[0;36m5719\u001b[0m\u001b[0;34m,\u001b[0m\u001b[0;36m327856\u001b[0m\u001b[0;34m,\u001b[0m\u001b[0;36m417603465750784683\u001b[0m\u001b[0;34m]\u001b[0m\u001b[0;34m)\u001b[0m\u001b[0;34m\u001b[0m\u001b[0;34m\u001b[0m\u001b[0m\n",
      "\u001b[0;31mNameError\u001b[0m: name 'number' is not defined"
     ]
    }
   ],
   "source": [
    "    number.d()\n",
    "    del(number[0])\n",
    "    return(number)\n",
    "maaaaa([1634635,235,153,6941,651,24674259,41,65,265,167853,2,5176,526,239,5719,327856,417603465750784683])"
   ]
  },
  {
   "cell_type": "code",
   "execution_count": null,
   "metadata": {},
   "outputs": [],
   "source": [
    "### add two numbers and return using a funcction\n",
    "def sss (a,b):\n",
    "    return a + b"
   ]
  },
  {
   "cell_type": "code",
   "execution_count": null,
   "metadata": {},
   "outputs": [
    {
     "data": {
      "text/plain": [
       "5"
      ]
     },
     "execution_count": 93,
     "metadata": {},
     "output_type": "execute_result"
    }
   ],
   "source": [
    "sss (2,3)"
   ]
  },
  {
   "cell_type": "code",
   "execution_count": null,
   "metadata": {},
   "outputs": [],
   "source": [
    "def aaa (a,b,c):\n",
    "    return a * b * c"
   ]
  },
  {
   "cell_type": "code",
   "execution_count": null,
   "metadata": {},
   "outputs": [
    {
     "data": {
      "text/plain": [
       "6"
      ]
     },
     "execution_count": 95,
     "metadata": {},
     "output_type": "execute_result"
    }
   ],
   "source": [
    "aaa (1,2,3)"
   ]
  },
  {
   "cell_type": "code",
   "execution_count": null,
   "metadata": {},
   "outputs": [
    {
     "name": "stdout",
     "output_type": "stream",
     "text": [
      "['duck', 'chicken', 'fish']\n"
     ]
    }
   ],
   "source": [
    "## from list remove first two element\n",
    "bbb = [\"cat\", \"dog\", \"duck\", \"chicken\", \"fish\"]\n",
    "del bbb[0:2]\n",
    "print(bbb)"
   ]
  },
  {
   "cell_type": "code",
   "execution_count": null,
   "metadata": {},
   "outputs": [],
   "source": [
    "### we have 10kg 20kg and 40kg weight,,,,\n",
    "### equal force of 10 newton is being applied\n",
    "### if F = m * a.... then can you find accelration\n",
    "\n",
    "def asdfghjkl(f,m):\n",
    "    a = f / m\n",
    "    return a\n",
    "\n"
   ]
  },
  {
   "cell_type": "code",
   "execution_count": null,
   "metadata": {},
   "outputs": [
    {
     "data": {
      "text/plain": [
       "1.0"
      ]
     },
     "execution_count": 105,
     "metadata": {},
     "output_type": "execute_result"
    }
   ],
   "source": [
    "asdfghjkl (10,10)"
   ]
  },
  {
   "cell_type": "code",
   "execution_count": null,
   "metadata": {},
   "outputs": [
    {
     "data": {
      "text/plain": [
       "0.5"
      ]
     },
     "execution_count": 106,
     "metadata": {},
     "output_type": "execute_result"
    }
   ],
   "source": [
    "asdfghjkl (10,20)"
   ]
  },
  {
   "cell_type": "code",
   "execution_count": null,
   "metadata": {},
   "outputs": [
    {
     "data": {
      "text/plain": [
       "0.25"
      ]
     },
     "execution_count": 107,
     "metadata": {},
     "output_type": "execute_result"
    }
   ],
   "source": [
    "asdfghjkl (10,40)"
   ]
  },
  {
   "cell_type": "code",
   "execution_count": null,
   "metadata": {},
   "outputs": [
    {
     "name": "stdout",
     "output_type": "stream",
     "text": [
      "['bananapancake', 'bananacupcake']\n"
     ]
    }
   ],
   "source": [
    "banana = {\"banana\", \"bananasplit\", \"bananapancake\", \"bananamilkshake\", \"bananacupcake\"}\n",
    "banana = list(banana)\n",
    "print (banana[-3:-1])"
   ]
  },
  {
   "cell_type": "code",
   "execution_count": null,
   "metadata": {},
   "outputs": [
    {
     "name": "stdout",
     "output_type": "stream",
     "text": [
      "andy has 2 hand\n",
      "andy has 2 eyes\n",
      "andy has 1 nose\n",
      "andy has 2 leg\n",
      "andy has 4 butt\n",
      "andy has 0 hair\n",
      "andy has 3 ear\n",
      "andy has 5 mouth\n",
      "andy has 123456789012345678901234567890123456789012345678901234567890123456789012345678901234567890 brain\n"
     ]
    }
   ],
   "source": [
    "# make a dictionary of andy \n",
    "asdfghjkl = {\"hand\":2,\n",
    "\"eyes\":2,\n",
    "\"nose\":1,\n",
    "\"leg\":2,\n",
    "\"butt\":4,\n",
    "\"hair\":0,\n",
    "\"ear\":3,\n",
    "\"mouth\":5,\n",
    "\"brain\":123456789012345678901234567890123456789012345678901234567890123456789012345678901234567890}\n",
    "\n",
    "for each in asdfghjkl:\n",
    "    print (\"andy has\",asdfghjkl[each],each)\n",
    "\n"
   ]
  },
  {
   "cell_type": "code",
   "execution_count": null,
   "metadata": {},
   "outputs": [
    {
     "name": "stdout",
     "output_type": "stream",
     "text": [
      "i have 21 pages in my Science book\n",
      "i have 2 pages in my Math book\n",
      "i have 213 pages in my English book\n",
      "i have 0 pages in my PE book\n"
     ]
    }
   ],
   "source": [
    "### make dictionary of your books and pages....\n",
    "### my englsh book has 200 pages\n",
    "## \n",
    "baaa = {\"Science\": 21, \"Math\":2, \"English\":213, \"PE\":0}\n",
    "for each in baaa:\n",
    "    print (\"i have\",baaa[each],\"pages\",\"in my\",each,\"book\")\n"
   ]
  },
  {
   "cell_type": "code",
   "execution_count": null,
   "metadata": {},
   "outputs": [
    {
     "name": "stdout",
     "output_type": "stream",
     "text": [
      "['hehehehehe', 1000, 2000, 2, 3, 4, 5, 6, 7, 8, 9, 10]\n"
     ]
    }
   ],
   "source": [
    "y = [1000,2000,2,3,4,5,6,7,8,9,10]\n",
    "z = [\"hehehehehe\"]\n",
    "for each in y:\n",
    "    z.append(each)\n",
    "print(z)"
   ]
  },
  {
   "cell_type": "code",
   "execution_count": 96,
   "metadata": {},
   "outputs": [
    {
     "data": {
      "text/plain": [
       "[20, 30, 53, 33]"
      ]
     },
     "execution_count": 96,
     "metadata": {},
     "output_type": "execute_result"
    }
   ],
   "source": [
    "x = [5,10,20,30,53,4,33]\n",
    "# runa for loop and print all value of x\n",
    "angela = []\n",
    "for each in x:\n",
    "    if each >12:\n",
    "        angela.append(each)\n",
    "angela"
   ]
  },
  {
   "cell_type": "code",
   "execution_count": 98,
   "metadata": {},
   "outputs": [
    {
     "name": "stdout",
     "output_type": "stream",
     "text": [
      "Normal\n",
      "Oh no, Fever!\n",
      "Oh no, Fever!\n",
      "Oh no, Fever!\n"
     ]
    }
   ],
   "source": [
    "temps = [100,102,102.5,101.2]\n",
    "for temp in temps:\n",
    "    if temp > 100:\n",
    "        print(\"Oh no, Fever!\")\n",
    "    elif temp < 95:\n",
    "        print(\"Oh no, cold!\")\n",
    "    else:\n",
    "        print(\"Normal\")"
   ]
  },
  {
   "cell_type": "code",
   "execution_count": 106,
   "metadata": {},
   "outputs": [
    {
     "name": "stdout",
     "output_type": "stream",
     "text": [
      "the tempreture of John is 98.6\n",
      "the tempreture of Emily is 99.1\n",
      "the tempreture of Michael is 97.9\n",
      "the tempreture of Sarah is 98.2\n",
      "the tempreture of David is 99.5\n",
      "the tempreture of Jessica is 98.7\n",
      "the tempreture of Christopher is 98.9\n",
      "the tempreture of Amanda is 98.4\n",
      "the tempreture of Daniel is 99.3\n",
      "the tempreture of Rachel is 98.8\n"
     ]
    }
   ],
   "source": [
    "temperature_dict = {\n",
    "    \"John\": 98.6,\n",
    "    \"Emily\": 99.1,\n",
    "    \"Michael\": 97.9,\n",
    "    \"Sarah\": 98.2,\n",
    "    \"David\": 99.5,\n",
    "    \"Jessica\": 98.7,\n",
    "    \"Christopher\": 98.9,\n",
    "    \"Amanda\": 98.4,\n",
    "    \"Daniel\": 99.3,\n",
    "    \"Rachel\": 98.8\n",
    "}\n",
    "### generate a code which will tell,,, each name and it will tell \n",
    "for each in temperature_dict:\n",
    "    print(\"the tempreture of\", each,\"is\", temperature_dict[each])\n"
   ]
  },
  {
   "cell_type": "code",
   "execution_count": 107,
   "metadata": {},
   "outputs": [
    {
     "name": "stdout",
     "output_type": "stream",
     "text": [
      "John needs medicine _drandy_1\n",
      "Emily needs medicine _drandy_2\n",
      "Michael needs medicine _drandy_3\n",
      "Sarah needs medicine _drandy_4\n",
      "David needs medicine _drandy_6\n",
      "Jessica needs to meat with drandy\n",
      "Christopher needs medicine _drandy_2\n",
      "Amanda needs medicine _drandy_3\n",
      "Daniel needs medicine _drandy_4\n",
      "Rachel needs to meat with drandy\n"
     ]
    }
   ],
   "source": [
    "baa = {\n",
    "    \"John\": 99,\n",
    "    \"Emily\": 100,\n",
    "    \"Michael\": 101,\n",
    "    \"Sarah\": 102,\n",
    "    \"David\": 103,\n",
    "    \"Jessica\": 104,\n",
    "    \"Christopher\": 100,\n",
    "    \"Amanda\": 101,\n",
    "    \"Daniel\": 102,\n",
    "    \"Rachel\": 105\n",
    "}\n",
    "# if temper is 99 then medicine _drandy_1\n",
    "# if temper is 100 then medicine _drandy_2\n",
    "# if temper is 101 then medicine _drandy_3\n",
    "# if temper is 102 then medicine _drandy_4\n",
    "# if temper is 103 then medicine _drandy_5\n",
    "# if temper is 104 then medicine _drandy_6\n",
    "# if temper is 105 then meet with dr andy urgently\n",
    "\n",
    "\n",
    "for each in baa:\n",
    "    temperature = baa[each]\n",
    "    if temperature == 99:\n",
    "        print(each,\"needs\",\"medicine _drandy_1\")\n",
    "    elif temperature == 100:\n",
    "        print(each,\"needs\",\"medicine _drandy_2\")\n",
    "    elif temperature == 101:\n",
    "        print(each,\"needs\",\"medicine _drandy_3\")\n",
    "    elif temperature == 102:\n",
    "        print(each,\"needs\",\"medicine _drandy_4\")\n",
    "    elif temperature == 103:\n",
    "        print(each,\"needs\",\"medicine _drandy_6\")\n",
    "    else:\n",
    "        print(each,\"needs to eat meat with drandy\")"
   ]
  },
  {
   "cell_type": "code",
   "execution_count": null,
   "metadata": {},
   "outputs": [],
   "source": []
  }
 ],
 "metadata": {
  "kernelspec": {
   "display_name": "base",
   "language": "python",
   "name": "python3"
  },
  "language_info": {
   "codemirror_mode": {
    "name": "ipython",
    "version": 3
   },
   "file_extension": ".py",
   "mimetype": "text/x-python",
   "name": "python",
   "nbconvert_exporter": "python",
   "pygments_lexer": "ipython3",
   "version": "3.9.13"
  },
  "orig_nbformat": 4
 },
 "nbformat": 4,
 "nbformat_minor": 2
}
