{
 "cells": [
  {
   "cell_type": "code",
   "execution_count": 1,
   "metadata": {},
   "outputs": [],
   "source": [
    "from bs4 import BeautifulSoup\n",
    "from urllib.parse import urljoin\n",
    "from tqdm import tqdm_notebook\n",
    "import urllib.request\n",
    "import pandas as pd\n",
    "import requests"
   ]
  },
  {
   "cell_type": "code",
   "execution_count": 32,
   "metadata": {},
   "outputs": [],
   "source": [
    "headers = {'User-Agent':'Mozilla/5.0 (Windows NT 6.3; Win64; x64) AppleWebKit/537.36 (KHTML, like Gecko) Chrome/63.0.3239.132 Safari/537.36'}\n",
    "baseurl = 'https://www.ssfshop.com'\n",
    "url ='https://www.ssfshop.com/special/49203/view?&utag=ref_tpl:11108$ref_cnr:10772$ref_br:ECBVF$set:1$dpos:1'\n",
    "html = requests.get(url, headers = headers).text"
   ]
  },
  {
   "cell_type": "code",
   "execution_count": 3,
   "metadata": {},
   "outputs": [
    {
     "data": {
      "text/plain": [
       "121"
      ]
     },
     "execution_count": 3,
     "metadata": {},
     "output_type": "execute_result"
    }
   ],
   "source": [
    "soup =  BeautifulSoup(html, 'html.parser')\n",
    "info = soup.select('.info')\n",
    "len(info)"
   ]
  },
  {
   "cell_type": "code",
   "execution_count": 4,
   "metadata": {},
   "outputs": [
    {
     "data": {
      "text/plain": [
       "<div class=\"info\">\n",
       "<span class=\"brand\">\n",
       "<em>\n",
       "                        20FW</em>\n",
       "                LEBEIGE</span>\n",
       "<span class=\"name\">Cashmere Blended A Silhouette Coat - Green</span>\n",
       "<span class=\"price\">\n",
       "<span class=\"wa_hidden\">판매가</span>\n",
       "                        2,090,000<span class=\"wa_hidden\">원</span><del>\n",
       "<span class=\"wa_hidden\">원가</span>\n",
       "                                2,200,000<span class=\"wa_hidden\">원</span></del>\n",
       "<em class=\"sale\"><span class=\"wa_hidden\">할인율</span>5%</em>\n",
       "</span>\n",
       "<span class=\"score\"><span class=\"heart\"><i>♡</i><em>51</em></span>\n",
       "<span class=\"review\">리뷰<em>5</em></span>\n",
       "</span>\n",
       "</div>"
      ]
     },
     "execution_count": 4,
     "metadata": {},
     "output_type": "execute_result"
    }
   ],
   "source": [
    "info[0]"
   ]
  },
  {
   "cell_type": "code",
   "execution_count": 5,
   "metadata": {},
   "outputs": [
    {
     "ename": "NameError",
     "evalue": "name 'list_goods' is not defined",
     "output_type": "error",
     "traceback": [
      "\u001b[1;31m---------------------------------------------------------------------------\u001b[0m",
      "\u001b[1;31mNameError\u001b[0m                                 Traceback (most recent call last)",
      "\u001b[1;32m<ipython-input-5-84c3123726c9>\u001b[0m in \u001b[0;36m<module>\u001b[1;34m\u001b[0m\n\u001b[1;32m----> 1\u001b[1;33m \u001b[0mgarment\u001b[0m \u001b[1;33m=\u001b[0m \u001b[0mlist_goods\u001b[0m\u001b[1;33m[\u001b[0m\u001b[1;36m0\u001b[0m\u001b[1;33m]\u001b[0m\u001b[1;33m.\u001b[0m\u001b[0mselect_one\u001b[0m\u001b[1;33m(\u001b[0m\u001b[1;34m'.name'\u001b[0m\u001b[1;33m)\u001b[0m\u001b[1;33m.\u001b[0m\u001b[0mstring\u001b[0m\u001b[1;33m.\u001b[0m\u001b[0msplit\u001b[0m\u001b[1;33m(\u001b[0m\u001b[1;34m' - '\u001b[0m\u001b[1;33m)\u001b[0m\u001b[1;33m\u001b[0m\u001b[1;33m\u001b[0m\u001b[0m\n\u001b[0m\u001b[0;32m      2\u001b[0m \u001b[0mgarment\u001b[0m\u001b[1;33m\u001b[0m\u001b[1;33m\u001b[0m\u001b[0m\n",
      "\u001b[1;31mNameError\u001b[0m: name 'list_goods' is not defined"
     ]
    }
   ],
   "source": [
    "garment = list_goods[0].select_one('.name').string.split(' - ')\n",
    "garment"
   ]
  },
  {
   "cell_type": "code",
   "execution_count": 182,
   "metadata": {},
   "outputs": [
    {
     "data": {
      "text/plain": [
       "'Cashmere Blended A Silhouette Coat'"
      ]
     },
     "execution_count": 182,
     "metadata": {},
     "output_type": "execute_result"
    }
   ],
   "source": [
    "clothes = garment[0]  #의상이름\n",
    "clothes"
   ]
  },
  {
   "cell_type": "code",
   "execution_count": 183,
   "metadata": {},
   "outputs": [
    {
     "data": {
      "text/plain": [
       "'Green'"
      ]
     },
     "execution_count": 183,
     "metadata": {},
     "output_type": "execute_result"
    }
   ],
   "source": [
    "color = garment[1] #색상\n",
    "color"
   ]
  },
  {
   "cell_type": "code",
   "execution_count": 184,
   "metadata": {},
   "outputs": [
    {
     "data": {
      "text/plain": [
       "<span class=\"price\">\n",
       "<span class=\"wa_hidden\">판매가</span>\n",
       "                        2,090,000<span class=\"wa_hidden\">원</span><del>\n",
       "<span class=\"wa_hidden\">원가</span>\n",
       "                                2,200,000<span class=\"wa_hidden\">원</span></del>\n",
       "<em class=\"sale\"><span class=\"wa_hidden\">할인율</span>5%</em>\n",
       "</span>"
      ]
     },
     "execution_count": 184,
     "metadata": {},
     "output_type": "execute_result"
    }
   ],
   "source": [
    "price_list =soup.select('.price')\n",
    "price_list[0]"
   ]
  },
  {
   "cell_type": "code",
   "execution_count": 185,
   "metadata": {},
   "outputs": [
    {
     "data": {
      "text/plain": [
       "['',\n",
       " '판매가\\r',\n",
       " '                        2,090,000원',\n",
       " '원가\\r',\n",
       " '                                2,200,000원',\n",
       " '할인율5%',\n",
       " '']"
      ]
     },
     "execution_count": 185,
     "metadata": {},
     "output_type": "execute_result"
    }
   ],
   "source": [
    "pl = price_list[0].get_text().split('\\n')\n",
    "pl"
   ]
  },
  {
   "cell_type": "code",
   "execution_count": 186,
   "metadata": {},
   "outputs": [
    {
     "data": {
      "text/plain": [
       "2090000"
      ]
     },
     "execution_count": 186,
     "metadata": {},
     "output_type": "execute_result"
    }
   ],
   "source": [
    "sales_price = int(pl[2].strip()[:-1].replace(',', ''))\n",
    "sales_price             #판매가"
   ]
  },
  {
   "cell_type": "code",
   "execution_count": 187,
   "metadata": {},
   "outputs": [
    {
     "data": {
      "text/plain": [
       "2200000"
      ]
     },
     "execution_count": 187,
     "metadata": {},
     "output_type": "execute_result"
    }
   ],
   "source": [
    "price = int(pl[4].strip()[:-1].replace(',', ''))\n",
    "price                   #원가"
   ]
  },
  {
   "cell_type": "code",
   "execution_count": 188,
   "metadata": {},
   "outputs": [
    {
     "data": {
      "text/plain": [
       "'5%'"
      ]
     },
     "execution_count": 188,
     "metadata": {},
     "output_type": "execute_result"
    }
   ],
   "source": [
    "rate = pl[5][3:]\n",
    "rate                   #할인율"
   ]
  },
  {
   "cell_type": "code",
   "execution_count": 189,
   "metadata": {},
   "outputs": [
    {
     "data": {
      "text/plain": [
       "[<h3 id=\"list7\">\n",
       "                     ★Coat★</h3>,\n",
       " <h3 id=\"list4\">\n",
       "                     Outer</h3>,\n",
       " <h3 id=\"list2\">\n",
       "                     Knit</h3>,\n",
       " <h3 id=\"list8\">\n",
       "                     Shirts/Blouse</h3>,\n",
       " <h3 id=\"list5\">\n",
       "                     Skirt/One-piece</h3>,\n",
       " <h3 id=\"list1\">\n",
       "                     Pants</h3>,\n",
       " <h3 id=\"list3\">\n",
       "                     Bag</h3>,\n",
       " <h3 id=\"list6\">\n",
       "                     Acc</h3>]"
      ]
     },
     "execution_count": 189,
     "metadata": {},
     "output_type": "execute_result"
    }
   ],
   "source": [
    "list_goods = soup.select('.list_goods')\n",
    "h3s = list_goods[0].find_all('h3')\n",
    "h3s"
   ]
  },
  {
   "cell_type": "code",
   "execution_count": 190,
   "metadata": {},
   "outputs": [
    {
     "data": {
      "text/plain": [
       "['\\r', '                    ★Coat★']"
      ]
     },
     "execution_count": 190,
     "metadata": {},
     "output_type": "execute_result"
    }
   ],
   "source": [
    "items = h3s[0].get_text().split('\\n') #한번에하려고뒤에.strip().replace('★','') 붙이면 또 안되네ㅠ\n",
    "items"
   ]
  },
  {
   "cell_type": "code",
   "execution_count": 191,
   "metadata": {},
   "outputs": [
    {
     "data": {
      "text/plain": [
       "'Coat'"
      ]
     },
     "execution_count": 191,
     "metadata": {},
     "output_type": "execute_result"
    }
   ],
   "source": [
    "item = items[1].strip().replace('★','')\n",
    "item\n"
   ]
  },
  {
   "cell_type": "code",
   "execution_count": 192,
   "metadata": {},
   "outputs": [
    {
     "data": {
      "text/plain": [
       "<h3 id=\"list4\">\n",
       "                    Outer</h3>"
      ]
     },
     "execution_count": 192,
     "metadata": {},
     "output_type": "execute_result"
    }
   ],
   "source": [
    "h3s[1]"
   ]
  },
  {
   "cell_type": "code",
   "execution_count": 193,
   "metadata": {},
   "outputs": [
    {
     "data": {
      "text/plain": [
       "'Outer'"
      ]
     },
     "execution_count": 193,
     "metadata": {},
     "output_type": "execute_result"
    }
   ],
   "source": [
    "h3s[1].get_text().strip().replace('★','')"
   ]
  },
  {
   "cell_type": "code",
   "execution_count": 194,
   "metadata": {},
   "outputs": [
    {
     "data": {
      "text/plain": [
       "'51'"
      ]
     },
     "execution_count": 194,
     "metadata": {},
     "output_type": "execute_result"
    }
   ],
   "source": [
    "#좋아요카운트_string도 안되고 get_text도 안되더니 ㅜㅜㅜ\n",
    "# heart_list[0]부터 시작해야 됨!!( [0]은 달랑1개만나와서..안했었는데;ㅁ; 꼭 해야되는거였구나) \n",
    "heart_list = list_goods[0].select('.heart')\n",
    "heart = heart_list[1].find('em').get_text()\n",
    "heart\n"
   ]
  },
  {
   "cell_type": "code",
   "execution_count": 195,
   "metadata": {},
   "outputs": [
    {
     "name": "stdout",
     "output_type": "stream",
     "text": [
      "Coat / Cashmere Blended A Silhouette Coat / Green / 2090000 / 2200000 / 5% / 51\n"
     ]
    }
   ],
   "source": [
    "print(item,'/', clothes,'/', color,'/', sales_price,'/', price,'/', rate, '/', heart)"
   ]
  },
  {
   "cell_type": "code",
   "execution_count": 9,
   "metadata": {},
   "outputs": [
    {
     "data": {
      "text/plain": [
       "(9, 8)"
      ]
     },
     "execution_count": 9,
     "metadata": {},
     "output_type": "execute_result"
    }
   ],
   "source": [
    "#교수님께서 좋은걸 알려주셨는데.. 써먹지를 못하네ㅠㅠㅠㅠㅠㅠㅠㅠㅠㅠ\n",
    "uls = soup.select_one('.list_goods').find_all('ul')\n",
    "h3s = soup.select_one('.list_goods').find_all('h3')\n",
    "len(uls), len(h3s)"
   ]
  },
  {
   "cell_type": "code",
   "execution_count": 10,
   "metadata": {},
   "outputs": [
    {
     "data": {
      "text/plain": [
       "'Coat'"
      ]
     },
     "execution_count": 10,
     "metadata": {},
     "output_type": "execute_result"
    }
   ],
   "source": [
    "item = h3s[0].get_text().strip().replace('★','')\n",
    "item"
   ]
  },
  {
   "cell_type": "code",
   "execution_count": 19,
   "metadata": {
    "tags": []
   },
   "outputs": [
    {
     "name": "stdout",
     "output_type": "stream",
     "text": [
      "Coat _ Cashmere Blended A Silhouette Coat _ Green _ 2090000 _ 2200000 _ 51\n",
      "Coat _ [COLLECTION] Premium Cashmere Belted Coat _ Yellowish Brown _ 3990000 _ 4200000 _ 25\n",
      "Coat _ [COLLECTION] Premium Cashmere Belted Coat _ Black _ 3990000 _ 4200000 _ 11\n",
      "Coat _ Padding Liner Long Hoodie Coat _ Ash _ 1710000 _ 1800000 _ 23\n",
      "Coat _ Padding Liner Long Hoodie Coat _ Yellowish Brown _ 1710000 _ 1800000 _ 11\n",
      "Coat _ Wool Blended Tailored Coat _ Brown _ 1520000 _ 1600000 _ 8\n",
      "Coat _ Wool Blended Tailored Coat _ Ash _ 1520000 _ 1600000 _ 3\n",
      "Coat _ Hoody Zip-up Coat _ Black _ 1140000 _ 1200000 _ 10\n",
      "Coat _ Cashmere H Silhouette Coat _ Yellowish Brown _ 2280000 _ 2400000 _ 28\n",
      "Coat _ Cashmere Collarless Coat _ Wine _ 2090000 _ 2200000 _ 14\n",
      "Coat _ Cashmere H Silhouette Coat _ Grey _ 2280000 _ 2400000 _ 20\n",
      "Coat _ Cashmere H Silhouette Coat _ Sky Blue _ 2280000 _ 2400000 _ 9\n",
      "Coat _ Cashmere Collarless Coat _ Sky Blue _ 2090000 _ 2200000 _ 13\n",
      "Coat _ Hoody Zip-up Coat _ Yellowish Brown _ 1140000 _ 1200000 _ 3\n",
      "Coat _ Eco Leather Long Coat _ Brown _ 1330000 _ 1400000 _ 10\n",
      "Coat _ Leather Layered Trench Coat _ Beige _ 1710000 _ 1800000 _ 5\n",
      "Coat _ Eco Leather Long Coat _ Ivory _ 1330000 _ 1400000 _ 3\n",
      "Coat _ Leather Layered Trench Coat _ Black _ 1710000 _ 1800000 _ 2\n",
      "Coat _ Collarless Embroidery Coat _ Brown _ 1520000 _ 1600000 _ 3\n"
     ]
    },
    {
     "ename": "IndexError",
     "evalue": "list index out of range",
     "output_type": "error",
     "traceback": [
      "\u001b[1;31m---------------------------------------------------------------------------\u001b[0m",
      "\u001b[1;31mIndexError\u001b[0m                                Traceback (most recent call last)",
      "\u001b[1;32m<ipython-input-19-17490322be7c>\u001b[0m in \u001b[0;36m<module>\u001b[1;34m\u001b[0m\n\u001b[0;32m     10\u001b[0m         \u001b[0mprice_list\u001b[0m \u001b[1;33m=\u001b[0m \u001b[0mli\u001b[0m\u001b[1;33m.\u001b[0m\u001b[0mselect\u001b[0m\u001b[1;33m(\u001b[0m\u001b[1;34m'.price'\u001b[0m\u001b[1;33m)\u001b[0m\u001b[1;33m\u001b[0m\u001b[1;33m\u001b[0m\u001b[0m\n\u001b[0;32m     11\u001b[0m         \u001b[0mpl\u001b[0m \u001b[1;33m=\u001b[0m \u001b[0mprice_list\u001b[0m\u001b[1;33m[\u001b[0m\u001b[1;36m0\u001b[0m\u001b[1;33m]\u001b[0m\u001b[1;33m.\u001b[0m\u001b[0mget_text\u001b[0m\u001b[1;33m(\u001b[0m\u001b[1;33m)\u001b[0m\u001b[1;33m.\u001b[0m\u001b[0msplit\u001b[0m\u001b[1;33m(\u001b[0m\u001b[1;34m'\\n'\u001b[0m\u001b[1;33m)\u001b[0m\u001b[1;33m\u001b[0m\u001b[1;33m\u001b[0m\u001b[0m\n\u001b[1;32m---> 12\u001b[1;33m         \u001b[0msales_price\u001b[0m \u001b[1;33m=\u001b[0m \u001b[0mint\u001b[0m\u001b[1;33m(\u001b[0m\u001b[0mpl\u001b[0m\u001b[1;33m[\u001b[0m\u001b[1;36m2\u001b[0m\u001b[1;33m]\u001b[0m\u001b[1;33m.\u001b[0m\u001b[0mstrip\u001b[0m\u001b[1;33m(\u001b[0m\u001b[1;33m)\u001b[0m\u001b[1;33m[\u001b[0m\u001b[1;33m:\u001b[0m\u001b[1;33m-\u001b[0m\u001b[1;36m1\u001b[0m\u001b[1;33m]\u001b[0m\u001b[1;33m.\u001b[0m\u001b[0mreplace\u001b[0m\u001b[1;33m(\u001b[0m\u001b[1;34m','\u001b[0m\u001b[1;33m,\u001b[0m \u001b[1;34m''\u001b[0m\u001b[1;33m)\u001b[0m\u001b[1;33m)\u001b[0m\u001b[1;33m\u001b[0m\u001b[1;33m\u001b[0m\u001b[0m\n\u001b[0m\u001b[0;32m     13\u001b[0m         \u001b[0mprice\u001b[0m \u001b[1;33m=\u001b[0m \u001b[0mint\u001b[0m\u001b[1;33m(\u001b[0m\u001b[0mpl\u001b[0m\u001b[1;33m[\u001b[0m\u001b[1;36m4\u001b[0m\u001b[1;33m]\u001b[0m\u001b[1;33m.\u001b[0m\u001b[0mstrip\u001b[0m\u001b[1;33m(\u001b[0m\u001b[1;33m)\u001b[0m\u001b[1;33m[\u001b[0m\u001b[1;33m:\u001b[0m\u001b[1;33m-\u001b[0m\u001b[1;36m1\u001b[0m\u001b[1;33m]\u001b[0m\u001b[1;33m.\u001b[0m\u001b[0mreplace\u001b[0m\u001b[1;33m(\u001b[0m\u001b[1;34m','\u001b[0m\u001b[1;33m,\u001b[0m \u001b[1;34m''\u001b[0m\u001b[1;33m)\u001b[0m\u001b[1;33m)\u001b[0m\u001b[1;33m\u001b[0m\u001b[1;33m\u001b[0m\u001b[0m\n\u001b[0;32m     14\u001b[0m         \u001b[0mheart_list\u001b[0m \u001b[1;33m=\u001b[0m \u001b[0mli\u001b[0m\u001b[1;33m.\u001b[0m\u001b[0mselect\u001b[0m\u001b[1;33m(\u001b[0m\u001b[1;34m'.heart'\u001b[0m\u001b[1;33m)\u001b[0m\u001b[1;33m\u001b[0m\u001b[1;33m\u001b[0m\u001b[0m\n",
      "\u001b[1;31mIndexError\u001b[0m: list index out of range"
     ]
    }
   ],
   "source": [
    "#와하하하하하핳! 우리 교수님 천재쓰!!!!!!!!!!..내가망가트렸나봄ㅠㅠㅠㅠㅠㅠ\n",
    "for i in range(8):\n",
    "    category_name = h3s[i].get_text().strip().replace('★','')\n",
    "    #print(category_name)\n",
    "    lis = uls[i+1].find_all('li')  #코트끝자락에 soldout ...........\n",
    "    for li in lis:\n",
    "        garment = li.select_one('.name').get_text().strip().split(' - ')\n",
    "        clothes = garment[0] \n",
    "        color = garment[1]\n",
    "        price_list = li.select('.price')\n",
    "        # if .price에 .soldout이 있다면 .. \n",
    "        #category_name찍고,clothes찍고,color찍고, sales_price'SoldOut', price,'0', heart찍고\n",
    "        if li.select('.soldout') == 1:\n",
    "\n",
    "        pl = price_list[0].get_text().split('\\n')\n",
    "        sales_price = int(pl[2].strip()[:-1].replace(',', ''))\n",
    "        price = int(pl[4].strip()[:-1].replace(',', ''))\n",
    "        heart_list = li.select('.heart')\n",
    "        heart = heart_list[1].find('em').get_text()\n",
    "        print(category_name,'_', clothes,'_', color,'_', sales_price,'_', price,'_',  heart)"
   ]
  },
  {
   "cell_type": "code",
   "execution_count": 29,
   "metadata": {},
   "outputs": [
    {
     "data": {
      "text/plain": [
       "True"
      ]
     },
     "execution_count": 29,
     "metadata": {},
     "output_type": "execute_result"
    }
   ],
   "source": [
    "li.select('.soldout')[0].string == 'Sold Out'"
   ]
  },
  {
   "cell_type": "code",
   "execution_count": 30,
   "metadata": {},
   "outputs": [
    {
     "data": {
      "text/plain": [
       "'/LEBEIGE/GM0020101327254/good?dspCtgryNo=&brandShopNo=&brndShopId=&leftBrandNM=&utag=ref_tpl:11108$ref_cnr:10772$ref_br:ECBVF$ref_evt:special*49203$set:7$dpos:20'"
      ]
     },
     "execution_count": 30,
     "metadata": {},
     "output_type": "execute_result"
    }
   ],
   "source": [
    "li.find('a').attrs['href']"
   ]
  },
  {
   "cell_type": "code",
   "execution_count": 20,
   "metadata": {
    "tags": []
   },
   "outputs": [
    {
     "ename": "IndentationError",
     "evalue": "expected an indented block (<ipython-input-20-9464e772bd0f>, line 14)",
     "output_type": "error",
     "traceback": [
      "\u001b[1;36m  File \u001b[1;32m\"<ipython-input-20-9464e772bd0f>\"\u001b[1;36m, line \u001b[1;32m14\u001b[0m\n\u001b[1;33m    pl = price_list[0].get_text().split('\\n')\u001b[0m\n\u001b[1;37m    ^\u001b[0m\n\u001b[1;31mIndentationError\u001b[0m\u001b[1;31m:\u001b[0m expected an indented block\n"
     ]
    }
   ],
   "source": [
    "#for\n",
    "#       category_name찍고,\n",
    "#   if .price에 .soldout일때 \n",
    "#       해당아이템페이지로 이동!\n",
    "#       클릭해서 들어가서 있는 정보로 찍기 \n",
    "#       h1 id=goodDtlTitle에서 clothes찍고,color찍고, \n",
    "#       sales_price찍고,  price찍고 \n",
    "#       id=wishLabel에서 heart찍고\n",
    "#   else:\n",
    "#       원래페이지로 4줄\n",
    "soldout_url = lis[0].find('a').attrs['href']\n",
    "if li.select('.soldout')[0].string == 'Sold Out':  \n",
    "    soldout_url = li.find('a').attrs['href']\n",
    "    with urllib.request.urlopen(baseurl+soldout_url) as response:\n",
    "        html = response.read()\n",
    "        soup = BeautifulSoup(html, 'html.parser')\n",
    "    garment = li.select_one('.name').get_text().strip().split(' - ')\n",
    "    clothes = garment[0] \n",
    "    color = garment[1]\n",
    "\n",
    "    price_list = li.select('.price')\n",
    "    pl = price_list[0].get_text().split('\\n')\n",
    "    sales_price = int(pl[2].strip()[:-1].replace(',', ''))\n",
    "    price = int(pl[4].strip()[:-1].replace(',', ''))\n",
    "    heart_list = li.select('.heart')\n",
    "    heart = heart_list[1].find('em').get_text()\n",
    "\n",
    "for i in range(8):\n",
    "    category_name = h3s[i].get_text().strip().replace('★','')\n",
    "    #print(category_name)\n",
    "    lis = uls[i+1].find_all('li')  #코트끝자락에 soldout ...........\n",
    "    for li in lis:\n",
    "        garment = li.select_one('.name').get_text().strip().split(' - ')\n",
    "        clothes = garment[0] \n",
    "        color = garment[1]\n",
    "        price_list = li.select('.price')\n",
    "        pl = price_list[0].get_text().split('\\n')\n",
    "        sales_price = int(pl[2].strip()[:-1].replace(',', ''))\n",
    "        price = int(pl[4].strip()[:-1].replace(',', ''))\n",
    "        heart_list = li.select('.heart')\n",
    "        heart = heart_list[1].find('em').get_text()\n",
    "        print(category_name,'_', clothes,'_', color,'_', sales_price,'_', price,'_',  heart)"
   ]
  },
  {
   "cell_type": "code",
   "execution_count": 200,
   "metadata": {},
   "outputs": [
    {
     "data": {
      "text/plain": [
       "['\\r', '                    Outer']"
      ]
     },
     "execution_count": 200,
     "metadata": {},
     "output_type": "execute_result"
    }
   ],
   "source": [
    "list_goods[0].find_all('h3')[1].get_text().split('\\n')"
   ]
  },
  {
   "cell_type": "code",
   "execution_count": 201,
   "metadata": {},
   "outputs": [
    {
     "data": {
      "text/plain": [
       "['[COLLECTION] Premium Cashmere Belted Coat', 'Yellowish Brown']"
      ]
     },
     "execution_count": 201,
     "metadata": {},
     "output_type": "execute_result"
    }
   ],
   "source": [
    "list_goods[0].select('.name')[1].string.split(' - ')"
   ]
  },
  {
   "cell_type": "code",
   "execution_count": 13,
   "metadata": {},
   "outputs": [
    {
     "ename": "NameError",
     "evalue": "name 'list_goods' is not defined",
     "output_type": "error",
     "traceback": [
      "\u001b[1;31m---------------------------------------------------------------------------\u001b[0m",
      "\u001b[1;31mNameError\u001b[0m                                 Traceback (most recent call last)",
      "\u001b[1;32m<ipython-input-13-73e65a98e012>\u001b[0m in \u001b[0;36m<module>\u001b[1;34m\u001b[0m\n\u001b[0;32m      4\u001b[0m \u001b[1;33m\u001b[0m\u001b[0m\n\u001b[0;32m      5\u001b[0m \u001b[1;32mfor\u001b[0m \u001b[0mi\u001b[0m \u001b[1;32min\u001b[0m \u001b[0mrange\u001b[0m\u001b[1;33m(\u001b[0m\u001b[1;36m8\u001b[0m\u001b[1;33m)\u001b[0m\u001b[1;33m:\u001b[0m\u001b[1;33m\u001b[0m\u001b[1;33m\u001b[0m\u001b[0m\n\u001b[1;32m----> 6\u001b[1;33m     \u001b[0mh3s\u001b[0m \u001b[1;33m=\u001b[0m \u001b[0mlist_goods\u001b[0m\u001b[1;33m[\u001b[0m\u001b[1;36m0\u001b[0m\u001b[1;33m]\u001b[0m\u001b[1;33m.\u001b[0m\u001b[0mfind_all\u001b[0m\u001b[1;33m(\u001b[0m\u001b[1;34m'h3'\u001b[0m\u001b[1;33m)\u001b[0m\u001b[1;33m\u001b[0m\u001b[1;33m\u001b[0m\u001b[0m\n\u001b[0m\u001b[0;32m      7\u001b[0m     \u001b[0mitems\u001b[0m \u001b[1;33m=\u001b[0m \u001b[0mh3s\u001b[0m\u001b[1;33m[\u001b[0m\u001b[0mi\u001b[0m\u001b[1;33m]\u001b[0m\u001b[1;33m.\u001b[0m\u001b[0mget_text\u001b[0m\u001b[1;33m(\u001b[0m\u001b[1;33m)\u001b[0m\u001b[1;33m.\u001b[0m\u001b[0msplit\u001b[0m\u001b[1;33m(\u001b[0m\u001b[1;34m'\\n'\u001b[0m\u001b[1;33m)\u001b[0m\u001b[1;33m\u001b[0m\u001b[1;33m\u001b[0m\u001b[0m\n\u001b[0;32m      8\u001b[0m     \u001b[0mitem\u001b[0m \u001b[1;33m=\u001b[0m \u001b[0mitems\u001b[0m\u001b[1;33m[\u001b[0m\u001b[1;36m1\u001b[0m\u001b[1;33m]\u001b[0m\u001b[1;33m.\u001b[0m\u001b[0mstrip\u001b[0m\u001b[1;33m(\u001b[0m\u001b[1;33m)\u001b[0m\u001b[1;33m.\u001b[0m\u001b[0mreplace\u001b[0m\u001b[1;33m(\u001b[0m\u001b[1;34m'★'\u001b[0m\u001b[1;33m,\u001b[0m\u001b[1;34m''\u001b[0m\u001b[1;33m)\u001b[0m\u001b[1;33m\u001b[0m\u001b[1;33m\u001b[0m\u001b[0m\n",
      "\u001b[1;31mNameError\u001b[0m: name 'list_goods' is not defined"
     ]
    }
   ],
   "source": [
    "item_obj = []; clothes_obj = []; color_obj = []\n",
    "sales_price_obj = []; price_obj = []; rate_obj = []\n",
    "heart_obj = []\n",
    "\n",
    "for i in range(8):\n",
    "    h3s = list_goods[0].find_all('h3')\n",
    "    items = h3s[i].get_text().split('\\n')\n",
    "    item = items[1].strip().replace('★','')\n",
    "    garment = list_goods[0].select('.name')[i].string.split(' - ')\n",
    "    clothes = garment[0] \n",
    "    color = garment[1]\n",
    "    price_list = list_goods[0].select('.price')\n",
    "    pl = price_list[i].get_text().split('\\n')\n",
    "    sales_price = int(pl[2].strip()[:-1].replace(',', ''))\n",
    "    price = int(pl[4].strip()[:-1].replace(',', ''))\n",
    "    rate = pl[5][3:]\n",
    "    heart_list = list_goods[0].select('.heart')\n",
    "    heart = heart_list[1].find('em').get_text()\n",
    "\n",
    "    item_obj.append(item)\n",
    "    clothes_obj.append(clothes)\n",
    "    color_obj.append(color)\n",
    "    sales_price_obj.append(sales_price)\n",
    "    price_obj.append(price)\n",
    "    rate_obj.append(rate)\n",
    "    heart_obj.append(heart)"
   ]
  },
  {
   "cell_type": "code",
   "execution_count": 203,
   "metadata": {},
   "outputs": [
    {
     "data": {
      "text/html": [
       "<div>\n",
       "<style scoped>\n",
       "    .dataframe tbody tr th:only-of-type {\n",
       "        vertical-align: middle;\n",
       "    }\n",
       "\n",
       "    .dataframe tbody tr th {\n",
       "        vertical-align: top;\n",
       "    }\n",
       "\n",
       "    .dataframe thead th {\n",
       "        text-align: right;\n",
       "    }\n",
       "</style>\n",
       "<table border=\"1\" class=\"dataframe\">\n",
       "  <thead>\n",
       "    <tr style=\"text-align: right;\">\n",
       "      <th></th>\n",
       "      <th>ITEM</th>\n",
       "      <th>Clothes</th>\n",
       "      <th>Color</th>\n",
       "      <th>Sales_price</th>\n",
       "      <th>Price</th>\n",
       "      <th>Rate</th>\n",
       "      <th>heart</th>\n",
       "    </tr>\n",
       "  </thead>\n",
       "  <tbody>\n",
       "    <tr>\n",
       "      <th>0</th>\n",
       "      <td>Coat</td>\n",
       "      <td>Cashmere Blended A Silhouette Coat</td>\n",
       "      <td>Green</td>\n",
       "      <td>2090000</td>\n",
       "      <td>2200000</td>\n",
       "      <td>5%</td>\n",
       "      <td>51</td>\n",
       "    </tr>\n",
       "    <tr>\n",
       "      <th>1</th>\n",
       "      <td>Outer</td>\n",
       "      <td>[COLLECTION] Premium Cashmere Belted Coat</td>\n",
       "      <td>Yellowish Brown</td>\n",
       "      <td>3990000</td>\n",
       "      <td>4200000</td>\n",
       "      <td>5%</td>\n",
       "      <td>51</td>\n",
       "    </tr>\n",
       "    <tr>\n",
       "      <th>2</th>\n",
       "      <td>Knit</td>\n",
       "      <td>[COLLECTION] Premium Cashmere Belted Coat</td>\n",
       "      <td>Black</td>\n",
       "      <td>3990000</td>\n",
       "      <td>4200000</td>\n",
       "      <td>5%</td>\n",
       "      <td>51</td>\n",
       "    </tr>\n",
       "    <tr>\n",
       "      <th>3</th>\n",
       "      <td>Shirts/Blouse</td>\n",
       "      <td>Padding Liner Long Hoodie Coat</td>\n",
       "      <td>Ash</td>\n",
       "      <td>1710000</td>\n",
       "      <td>1800000</td>\n",
       "      <td>5%</td>\n",
       "      <td>51</td>\n",
       "    </tr>\n",
       "    <tr>\n",
       "      <th>4</th>\n",
       "      <td>Skirt/One-piece</td>\n",
       "      <td>Padding Liner Long Hoodie Coat</td>\n",
       "      <td>Yellowish Brown</td>\n",
       "      <td>1710000</td>\n",
       "      <td>1800000</td>\n",
       "      <td>5%</td>\n",
       "      <td>51</td>\n",
       "    </tr>\n",
       "    <tr>\n",
       "      <th>5</th>\n",
       "      <td>Pants</td>\n",
       "      <td>Wool Blended Tailored Coat</td>\n",
       "      <td>Brown</td>\n",
       "      <td>1520000</td>\n",
       "      <td>1600000</td>\n",
       "      <td>5%</td>\n",
       "      <td>51</td>\n",
       "    </tr>\n",
       "    <tr>\n",
       "      <th>6</th>\n",
       "      <td>Bag</td>\n",
       "      <td>Wool Blended Tailored Coat</td>\n",
       "      <td>Ash</td>\n",
       "      <td>1520000</td>\n",
       "      <td>1600000</td>\n",
       "      <td>5%</td>\n",
       "      <td>51</td>\n",
       "    </tr>\n",
       "    <tr>\n",
       "      <th>7</th>\n",
       "      <td>Acc</td>\n",
       "      <td>Hoody Zip-up Coat</td>\n",
       "      <td>Black</td>\n",
       "      <td>1140000</td>\n",
       "      <td>1200000</td>\n",
       "      <td>5%</td>\n",
       "      <td>51</td>\n",
       "    </tr>\n",
       "  </tbody>\n",
       "</table>\n",
       "</div>"
      ],
      "text/plain": [
       "              ITEM                                    Clothes  \\\n",
       "0             Coat         Cashmere Blended A Silhouette Coat   \n",
       "1            Outer  [COLLECTION] Premium Cashmere Belted Coat   \n",
       "2             Knit  [COLLECTION] Premium Cashmere Belted Coat   \n",
       "3    Shirts/Blouse             Padding Liner Long Hoodie Coat   \n",
       "4  Skirt/One-piece             Padding Liner Long Hoodie Coat   \n",
       "5            Pants                 Wool Blended Tailored Coat   \n",
       "6              Bag                 Wool Blended Tailored Coat   \n",
       "7              Acc                          Hoody Zip-up Coat   \n",
       "\n",
       "             Color  Sales_price    Price Rate heart  \n",
       "0            Green      2090000  2200000   5%    51  \n",
       "1  Yellowish Brown      3990000  4200000   5%    51  \n",
       "2            Black      3990000  4200000   5%    51  \n",
       "3              Ash      1710000  1800000   5%    51  \n",
       "4  Yellowish Brown      1710000  1800000   5%    51  \n",
       "5            Brown      1520000  1600000   5%    51  \n",
       "6              Ash      1520000  1600000   5%    51  \n",
       "7            Black      1140000  1200000   5%    51  "
      ]
     },
     "execution_count": 203,
     "metadata": {},
     "output_type": "execute_result"
    }
   ],
   "source": [
    "import pandas as pd\n",
    "df = pd.DataFrame({\n",
    "    'ITEM': item_obj,\n",
    "    'Clothes': clothes_obj,\n",
    "    'Color': color_obj,\n",
    "    'Sales_price': sales_price_obj,\n",
    "    'Price': price_obj,\n",
    "    'Rate': rate_obj,\n",
    "    'heart': heart_obj\n",
    "})\n",
    "df"
   ]
  },
  {
   "cell_type": "code",
   "execution_count": 93,
   "metadata": {},
   "outputs": [
    {
     "name": "stdout",
     "output_type": "stream",
     "text": [
      "Cocoon Silhouette Cashmere Coat _ Green _ 2850000 _ 3000000 _ 22\n"
     ]
    }
   ],
   "source": [
    "#솔드아웃일때, 부분테스트\n",
    "#       h1 id=goodDtlTitle에서 clothes찍고,color찍고, \n",
    "#       sales_price찍고,  price찍고 \n",
    "#       id=wishLabel에서 heart찍고\n",
    "soldout_url = lis[0].find('a').attrs['href']\n",
    "if li.select('.soldout')[0].string == 'Sold Out':  \n",
    "    soldout_url = li.find('a').attrs['href']\n",
    "    with urllib.request.urlopen(baseurl+soldout_url) as response:\n",
    "        html = response.read()\n",
    "        soup = BeautifulSoup(html, 'html.parser')\n",
    "    garment = li.select_one('.name').get_text().strip().split(' - ')\n",
    "    clothes = garment[0] \n",
    "    color = garment[1]\n",
    "    li.select_one('.name').get_text().split(' - ')\n",
    "    sales_price = soup.select_one('.price').find('em').get_text().split('\\xa0')[0].replace(',','')\n",
    "    price = soup.select_one('.price').find('em').get_text().split('\\xa0')[1].replace(',','')\n",
    "    heart = soup.select_one('#wishLabel').get_text()\n",
    "    print(clothes, '_', color, '_', sales_price, '_', price, '_', heart)"
   ]
  },
  {
   "cell_type": "code",
   "execution_count": 83,
   "metadata": {},
   "outputs": [],
   "source": [
    "#솔드아웃일때, 상세페이지로 진입\n",
    "soldout_url = li.find('a').attrs['href']\n",
    "with urllib.request.urlopen(baseurl+soldout_url) as response:\n",
    "    html = response.read()\n",
    "    soup = BeautifulSoup(html, 'html.parser')"
   ]
  },
  {
   "cell_type": "code",
   "execution_count": 84,
   "metadata": {},
   "outputs": [
    {
     "data": {
      "text/plain": [
       "'2850000'"
      ]
     },
     "execution_count": 84,
     "metadata": {},
     "output_type": "execute_result"
    }
   ],
   "source": [
    "#솔드아웃일때, 상세페이지에서 얻은 금액\n",
    "sales_price = soup.select_one('.price').find('em').get_text().split('\\xa0')[0].replace(',','')\n",
    "sales_price"
   ]
  },
  {
   "cell_type": "code",
   "execution_count": 85,
   "metadata": {},
   "outputs": [
    {
     "data": {
      "text/plain": [
       "'3000000'"
      ]
     },
     "execution_count": 85,
     "metadata": {},
     "output_type": "execute_result"
    }
   ],
   "source": [
    "#솔드아웃일때, 상세페이지에서 얻은 금액\n",
    "price = soup.select_one('.price').find('em').get_text().split('\\xa0')[1].replace(',','')\n",
    "price"
   ]
  },
  {
   "cell_type": "code",
   "execution_count": 92,
   "metadata": {},
   "outputs": [
    {
     "data": {
      "text/plain": [
       "'22'"
      ]
     },
     "execution_count": 92,
     "metadata": {},
     "output_type": "execute_result"
    }
   ],
   "source": [
    "heart = soup.select_one('#wishLabel').get_text()\n",
    "heart"
   ]
  },
  {
   "cell_type": "code",
   "execution_count": null,
   "metadata": {},
   "outputs": [],
   "source": [
    "heart = \n",
    "heart"
   ]
  },
  {
   "cell_type": "code",
   "execution_count": null,
   "metadata": {},
   "outputs": [],
   "source": [
    "pl = price_list[0].get_text().split('\\n')\n",
    "sales_price = int(pl[2].strip()[:-1].replace(',', ''))\n",
    "price = int(pl[4].strip()[:-1].replace(',', ''))"
   ]
  },
  {
   "cell_type": "code",
   "execution_count": null,
   "metadata": {},
   "outputs": [],
   "source": []
  },
  {
   "cell_type": "code",
   "execution_count": null,
   "metadata": {},
   "outputs": [],
   "source": []
  },
  {
   "cell_type": "code",
   "execution_count": null,
   "metadata": {},
   "outputs": [],
   "source": []
  },
  {
   "cell_type": "code",
   "execution_count": null,
   "metadata": {},
   "outputs": [],
   "source": []
  },
  {
   "cell_type": "code",
   "execution_count": null,
   "metadata": {},
   "outputs": [],
   "source": []
  },
  {
   "cell_type": "code",
   "execution_count": null,
   "metadata": {},
   "outputs": [],
   "source": []
  }
 ],
 "metadata": {
  "kernelspec": {
   "display_name": "Python 3",
   "language": "python",
   "name": "python3"
  },
  "language_info": {
   "codemirror_mode": {
    "name": "ipython",
    "version": 3
   },
   "file_extension": ".py",
   "mimetype": "text/x-python",
   "name": "python",
   "nbconvert_exporter": "python",
   "pygments_lexer": "ipython3",
   "version": "3.8.5"
  }
 },
 "nbformat": 4,
 "nbformat_minor": 2
}
