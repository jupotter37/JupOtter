{
 "cells": [
  {
   "cell_type": "code",
   "execution_count": 12,
   "id": "269a3b4f-d73f-4e60-a728-1503e17df31f",
   "metadata": {},
   "outputs": [],
   "source": [
    "a=5\n",
    "b=2\n",
    "c=9\n",
    "d=10\n",
    "\n",
    "if a<b:\n",
    "    # if a <b\n",
    "    if c<d:\n",
    "        print(\"a<b  and c<d\")"
   ]
  },
  {
   "cell_type": "code",
   "execution_count": 13,
   "id": "686610b3-d1f6-4504-875b-0e36a113718b",
   "metadata": {},
   "outputs": [],
   "source": [
    "if a<b and c<d:\n",
    "    print(\"a<b  and c<d\")"
   ]
  },
  {
   "cell_type": "code",
   "execution_count": 14,
   "id": "db3f504d-2ad2-43cb-a7a5-29d2ec95af9d",
   "metadata": {},
   "outputs": [
    {
     "name": "stdout",
     "output_type": "stream",
     "text": [
      "0b110\n",
      "0b100\n"
     ]
    }
   ],
   "source": [
    "a=6\n",
    "b=4\n",
    "print(bin(a))\n",
    "print(bin(b))\n"
   ]
  },
  {
   "cell_type": "code",
   "execution_count": 15,
   "id": "7b45b369-18e6-4d14-919e-f161b1704be6",
   "metadata": {},
   "outputs": [
    {
     "name": "stdout",
     "output_type": "stream",
     "text": [
      "0b110\n"
     ]
    }
   ],
   "source": [
    "print(bin(a | b))"
   ]
  },
  {
   "cell_type": "code",
   "execution_count": 16,
   "id": "df3eca26-6d24-4b18-b96e-41cb5dfd1755",
   "metadata": {},
   "outputs": [
    {
     "name": "stdout",
     "output_type": "stream",
     "text": [
      "0b10000000\n"
     ]
    }
   ],
   "source": [
    "a=128\n",
    "print(bin(a))"
   ]
  },
  {
   "cell_type": "code",
   "execution_count": 17,
   "id": "1ffd55e1-2810-4650-9f47-c6259377999f",
   "metadata": {},
   "outputs": [
    {
     "name": "stdout",
     "output_type": "stream",
     "text": [
      "0b100000\n"
     ]
    }
   ],
   "source": [
    "shifteda=a >> 2\n",
    "print(bin(shifteda))"
   ]
  },
  {
   "cell_type": "code",
   "execution_count": 18,
   "id": "40967455-ad06-4b5c-bf88-0ffd87c4de57",
   "metadata": {},
   "outputs": [
    {
     "data": {
      "text/plain": [
       "32"
      ]
     },
     "execution_count": 18,
     "metadata": {},
     "output_type": "execute_result"
    }
   ],
   "source": [
    "shifteda"
   ]
  },
  {
   "cell_type": "code",
   "execution_count": 19,
   "id": "c61bb678-8bb4-4161-b81f-b593d2839bde",
   "metadata": {},
   "outputs": [
    {
     "name": "stdout",
     "output_type": "stream",
     "text": [
      "2\n",
      "3\n",
      "4\n",
      "5\n",
      "6\n",
      "7\n",
      "8\n",
      "9\n",
      "10\n"
     ]
    }
   ],
   "source": [
    "a=10\n",
    "b=1\n",
    "while b<a:\n",
    "    b=b+1\n",
    "    print(b)\n",
    "    \n",
    "    "
   ]
  },
  {
   "cell_type": "code",
   "execution_count": 20,
   "id": "847fdd6a-6fbf-4f73-81a9-748fbfe56c58",
   "metadata": {},
   "outputs": [
    {
     "name": "stdout",
     "output_type": "stream",
     "text": [
      "1\n",
      "3\n",
      "5\n",
      "7\n",
      "9\n"
     ]
    }
   ],
   "source": [
    "list2=[1,3,5,7,9]\n",
    "\n",
    "\n",
    "\n",
    "for v in list2:\n",
    "    print(v)\n",
    "    "
   ]
  },
  {
   "cell_type": "code",
   "execution_count": 21,
   "id": "9619efa4-79aa-4727-aa69-b50654d8fa3d",
   "metadata": {},
   "outputs": [
    {
     "name": "stdout",
     "output_type": "stream",
     "text": [
      "H\n",
      "e\n",
      "l\n",
      "l\n",
      "o\n",
      " \n",
      "p\n",
      "y\n",
      "t\n",
      "h\n",
      "o\n",
      "n\n"
     ]
    }
   ],
   "source": [
    "str2=\"Hello python\"\n",
    "\n",
    "for i in range(0,len(str2)):\n",
    "    print(str2[i])"
   ]
  },
  {
   "cell_type": "code",
   "execution_count": 22,
   "id": "bfcfc532-4448-4f93-b5f5-e289c3e549b6",
   "metadata": {},
   "outputs": [
    {
     "ename": "IndentationError",
     "evalue": "expected an indented block after 'elif' statement on line 3 (3531014506.py, line 4)",
     "output_type": "error",
     "traceback": [
      "\u001b[0;36m  Cell \u001b[0;32mIn[22], line 4\u001b[0;36m\u001b[0m\n\u001b[0;31m    else:\u001b[0m\n\u001b[0m    ^\u001b[0m\n\u001b[0;31mIndentationError\u001b[0m\u001b[0;31m:\u001b[0m expected an indented block after 'elif' statement on line 3\n"
     ]
    }
   ],
   "source": [
    "if a<b:\n",
    "    pass\n",
    "elif b<a:   \n",
    "else:\n",
    "    pass"
   ]
  }
 ],
 "metadata": {
  "kernelspec": {
   "display_name": "Python 3 (ipykernel)",
   "language": "python",
   "name": "python3"
  },
  "language_info": {
   "codemirror_mode": {
    "name": "ipython",
    "version": 3
   },
   "file_extension": ".py",
   "mimetype": "text/x-python",
   "name": "python",
   "nbconvert_exporter": "python",
   "pygments_lexer": "ipython3",
   "version": "3.12.6"
  }
 },
 "nbformat": 4,
 "nbformat_minor": 5
}
