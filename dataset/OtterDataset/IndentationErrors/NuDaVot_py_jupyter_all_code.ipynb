{
 "cells": [
  {
   "cell_type": "markdown",
   "id": "ea917b70",
   "metadata": {},
   "source": [
    "# numpy"
   ]
  },
  {
   "cell_type": "code",
   "execution_count": 1,
   "id": "8b29c9f9",
   "metadata": {},
   "outputs": [],
   "source": [
    "# Библиотека NumPy лежит в основе стека машинного обучения \n",
    "# на Python и позволяет эффективно работать со структурами данных, \n",
    "# часто используемыми в машинном самообучении: векторами, матрицами. \n",
    "import numpy as np \n",
    "\n",
    "# Создать вектор-строку\n",
    "vector = np.array([1, 2, 3, 4, 5, 6])\n",
    "\n",
    "# Создать матрицу\n",
    "matrix = np.array([[1, 2, 3], \n",
    "                   [4, 5, 6],\n",
    "                   [7, 8, 9]])"
   ]
  },
  {
   "cell_type": "code",
   "execution_count": 2,
   "id": "a12cb1fa",
   "metadata": {},
   "outputs": [
    {
     "data": {
      "text/plain": [
       "3"
      ]
     },
     "execution_count": 2,
     "metadata": {},
     "output_type": "execute_result"
    }
   ],
   "source": [
    "# Выбрать третий элемент вектора \n",
    "vector[2]"
   ]
  },
  {
   "cell_type": "code",
   "execution_count": 3,
   "id": "365437e6",
   "metadata": {},
   "outputs": [
    {
     "data": {
      "text/plain": [
       "5"
      ]
     },
     "execution_count": 3,
     "metadata": {},
     "output_type": "execute_result"
    }
   ],
   "source": [
    "# Выбрать элемент на второй строке, во втором столбце \n",
    "matrix[1, 1]"
   ]
  },
  {
   "cell_type": "code",
   "execution_count": 4,
   "id": "26e20f6c",
   "metadata": {},
   "outputs": [
    {
     "data": {
      "text/plain": [
       "array([4, 5, 6])"
      ]
     },
     "execution_count": 4,
     "metadata": {},
     "output_type": "execute_result"
    }
   ],
   "source": [
    "# Выбрать все после третьего элемента \n",
    "vector[3:]"
   ]
  },
  {
   "cell_type": "code",
   "execution_count": 5,
   "id": "44541da6",
   "metadata": {},
   "outputs": [
    {
     "data": {
      "text/plain": [
       "array([[2],\n",
       "       [5],\n",
       "       [8]])"
      ]
     },
     "execution_count": 5,
     "metadata": {},
     "output_type": "execute_result"
    }
   ],
   "source": [
    "# Выбрать все строки и второй столбец \n",
    "matrix[:,1:2]"
   ]
  },
  {
   "cell_type": "code",
   "execution_count": 6,
   "id": "dbd2721c",
   "metadata": {},
   "outputs": [
    {
     "data": {
      "text/plain": [
       "(3, 3)"
      ]
     },
     "execution_count": 6,
     "metadata": {},
     "output_type": "execute_result"
    }
   ],
   "source": [
    "# Взглянуть на количество строк и столбцов \n",
    "matrix.shape"
   ]
  },
  {
   "cell_type": "code",
   "execution_count": 7,
   "id": "e7cb2a9f",
   "metadata": {},
   "outputs": [
    {
     "data": {
      "text/plain": [
       "9"
      ]
     },
     "execution_count": 7,
     "metadata": {},
     "output_type": "execute_result"
    }
   ],
   "source": [
    "# Взглянуть на количество элементов (строки * столбцы) \n",
    "matrix.size"
   ]
  },
  {
   "cell_type": "code",
   "execution_count": 8,
   "id": "41ca9537",
   "metadata": {},
   "outputs": [
    {
     "data": {
      "text/plain": [
       "array([7, 8, 9])"
      ]
     },
     "execution_count": 8,
     "metadata": {},
     "output_type": "execute_result"
    }
   ],
   "source": [
    "# Найти максимальный элемент в каждом столбце \n",
    "np.max(matrix, axis=0)"
   ]
  },
  {
   "cell_type": "code",
   "execution_count": 10,
   "id": "b9826c41",
   "metadata": {},
   "outputs": [
    {
     "data": {
      "text/plain": [
       "array([[0, 0, 1, 9, 5],\n",
       "       [6, 6, 8, 0, 7],\n",
       "       [4, 2, 1, 2, 4],\n",
       "       [8, 6, 9, 3, 9]])"
      ]
     },
     "execution_count": 10,
     "metadata": {},
     "output_type": "execute_result"
    }
   ],
   "source": [
    "rand_arr = np.random.randint(0,10,20)\n",
    "matrix = rand_arr.reshape(4,5)\n",
    "matrix"
   ]
  },
  {
   "cell_type": "code",
   "execution_count": 11,
   "id": "9d040a92",
   "metadata": {},
   "outputs": [
    {
     "data": {
      "text/plain": [
       "array([0, 0, 1, 9, 5, 6, 6, 8, 0, 7, 4, 2, 1, 2, 4, 8, 6, 9, 3, 9])"
      ]
     },
     "execution_count": 11,
     "metadata": {},
     "output_type": "execute_result"
    }
   ],
   "source": [
    "# Сгладить матрицу \n",
    "matrix.flatten()"
   ]
  },
  {
   "cell_type": "code",
   "execution_count": null,
   "id": "e1988531",
   "metadata": {},
   "outputs": [],
   "source": []
  },
  {
   "cell_type": "code",
   "execution_count": 13,
   "id": "0211853a",
   "metadata": {},
   "outputs": [],
   "source": [
    "# Ядром pandas являются две структуры данных, в которых происходят все операции: Series и DataFrames.\n",
    "# Series — это объект библиотеки pandas, спроектированный для представления одномерных структур данных, \n",
    "# похожих на массивы, но с дополнительными возможностями. Его структура проста, \n",
    "# ведь он состоит из двух связанных между собой массивов. Основной содержит данные (данные любого типа NumPy), \n",
    "# а в дополнительном, index, хранятся метки\n",
    "import numpy as np\n",
    "import pandas as pd"
   ]
  },
  {
   "cell_type": "code",
   "execution_count": 14,
   "id": "b4af8826",
   "metadata": {},
   "outputs": [],
   "source": [
    "letters = ['a', 'b', 'c']\n",
    "numbers = [1, 2, 3]\n",
    "arr = np.array(numbers)\n",
    "dict = {'a':1, 'b':2, 'c':3}"
   ]
  },
  {
   "cell_type": "code",
   "execution_count": 15,
   "id": "501afa9c",
   "metadata": {},
   "outputs": [
    {
     "data": {
      "text/plain": [
       "0    1\n",
       "1    2\n",
       "2    3\n",
       "dtype: int64"
      ]
     },
     "execution_count": 15,
     "metadata": {},
     "output_type": "execute_result"
    }
   ],
   "source": [
    "pd.Series(numbers)"
   ]
  },
  {
   "cell_type": "code",
   "execution_count": 16,
   "id": "3a77da8c",
   "metadata": {},
   "outputs": [
    {
     "data": {
      "text/html": [
       "<div>\n",
       "<style scoped>\n",
       "    .dataframe tbody tr th:only-of-type {\n",
       "        vertical-align: middle;\n",
       "    }\n",
       "\n",
       "    .dataframe tbody tr th {\n",
       "        vertical-align: top;\n",
       "    }\n",
       "\n",
       "    .dataframe thead th {\n",
       "        text-align: right;\n",
       "    }\n",
       "</style>\n",
       "<table border=\"1\" class=\"dataframe\">\n",
       "  <thead>\n",
       "    <tr style=\"text-align: right;\">\n",
       "      <th></th>\n",
       "      <th>red</th>\n",
       "      <th>orange</th>\n",
       "      <th>yellow</th>\n",
       "      <th>green</th>\n",
       "      <th>blue</th>\n",
       "    </tr>\n",
       "  </thead>\n",
       "  <tbody>\n",
       "    <tr>\n",
       "      <th>1</th>\n",
       "      <td>-1.160288</td>\n",
       "      <td>-0.797237</td>\n",
       "      <td>-0.139284</td>\n",
       "      <td>-0.701054</td>\n",
       "      <td>-0.386539</td>\n",
       "    </tr>\n",
       "    <tr>\n",
       "      <th>2</th>\n",
       "      <td>0.798670</td>\n",
       "      <td>-0.226445</td>\n",
       "      <td>0.084134</td>\n",
       "      <td>-0.839858</td>\n",
       "      <td>0.987074</td>\n",
       "    </tr>\n",
       "    <tr>\n",
       "      <th>3</th>\n",
       "      <td>-1.259188</td>\n",
       "      <td>-1.059014</td>\n",
       "      <td>-0.276281</td>\n",
       "      <td>-0.321966</td>\n",
       "      <td>-0.181098</td>\n",
       "    </tr>\n",
       "    <tr>\n",
       "      <th>4</th>\n",
       "      <td>0.607434</td>\n",
       "      <td>0.109061</td>\n",
       "      <td>1.802028</td>\n",
       "      <td>1.144683</td>\n",
       "      <td>1.372585</td>\n",
       "    </tr>\n",
       "  </tbody>\n",
       "</table>\n",
       "</div>"
      ],
      "text/plain": [
       "        red    orange    yellow     green      blue\n",
       "1 -1.160288 -0.797237 -0.139284 -0.701054 -0.386539\n",
       "2  0.798670 -0.226445  0.084134 -0.839858  0.987074\n",
       "3 -1.259188 -1.059014 -0.276281 -0.321966 -0.181098\n",
       "4  0.607434  0.109061  1.802028  1.144683  1.372585"
      ]
     },
     "execution_count": 16,
     "metadata": {},
     "output_type": "execute_result"
    }
   ],
   "source": [
    "df = pd.DataFrame(np.random.randn(4, 5), [1, 2, 3, 4], ['red', 'orange', 'yellow', 'green', 'blue'])\n",
    "df"
   ]
  },
  {
   "cell_type": "code",
   "execution_count": 17,
   "id": "0e944bf7",
   "metadata": {},
   "outputs": [
    {
     "data": {
      "text/plain": [
       "Index(['red', 'orange', 'yellow', 'green', 'blue'], dtype='object')"
      ]
     },
     "execution_count": 17,
     "metadata": {},
     "output_type": "execute_result"
    }
   ],
   "source": [
    "df.columns"
   ]
  },
  {
   "cell_type": "code",
   "execution_count": 18,
   "id": "ca6120cc",
   "metadata": {},
   "outputs": [
    {
     "data": {
      "text/plain": [
       "Int64Index([1, 2, 3, 4], dtype='int64')"
      ]
     },
     "execution_count": 18,
     "metadata": {},
     "output_type": "execute_result"
    }
   ],
   "source": [
    "df.index"
   ]
  },
  {
   "cell_type": "code",
   "execution_count": 19,
   "id": "e0828865",
   "metadata": {},
   "outputs": [
    {
     "data": {
      "text/plain": [
       "1   -0.797237\n",
       "2   -0.226445\n",
       "3   -1.059014\n",
       "4    0.109061\n",
       "Name: orange, dtype: float64"
      ]
     },
     "execution_count": 19,
     "metadata": {},
     "output_type": "execute_result"
    }
   ],
   "source": [
    "df['orange']"
   ]
  },
  {
   "cell_type": "code",
   "execution_count": 20,
   "id": "fd8b2012",
   "metadata": {},
   "outputs": [
    {
     "data": {
      "text/plain": [
       "pandas.core.series.Series"
      ]
     },
     "execution_count": 20,
     "metadata": {},
     "output_type": "execute_result"
    }
   ],
   "source": [
    "type(df['orange'])"
   ]
  },
  {
   "cell_type": "code",
   "execution_count": 21,
   "id": "b3c14943",
   "metadata": {},
   "outputs": [
    {
     "data": {
      "text/html": [
       "<div>\n",
       "<style scoped>\n",
       "    .dataframe tbody tr th:only-of-type {\n",
       "        vertical-align: middle;\n",
       "    }\n",
       "\n",
       "    .dataframe tbody tr th {\n",
       "        vertical-align: top;\n",
       "    }\n",
       "\n",
       "    .dataframe thead th {\n",
       "        text-align: right;\n",
       "    }\n",
       "</style>\n",
       "<table border=\"1\" class=\"dataframe\">\n",
       "  <thead>\n",
       "    <tr style=\"text-align: right;\">\n",
       "      <th></th>\n",
       "      <th>yellow</th>\n",
       "      <th>blue</th>\n",
       "    </tr>\n",
       "  </thead>\n",
       "  <tbody>\n",
       "    <tr>\n",
       "      <th>1</th>\n",
       "      <td>-0.139284</td>\n",
       "      <td>-0.386539</td>\n",
       "    </tr>\n",
       "    <tr>\n",
       "      <th>2</th>\n",
       "      <td>0.084134</td>\n",
       "      <td>0.987074</td>\n",
       "    </tr>\n",
       "    <tr>\n",
       "      <th>3</th>\n",
       "      <td>-0.276281</td>\n",
       "      <td>-0.181098</td>\n",
       "    </tr>\n",
       "    <tr>\n",
       "      <th>4</th>\n",
       "      <td>1.802028</td>\n",
       "      <td>1.372585</td>\n",
       "    </tr>\n",
       "  </tbody>\n",
       "</table>\n",
       "</div>"
      ],
      "text/plain": [
       "     yellow      blue\n",
       "1 -0.139284 -0.386539\n",
       "2  0.084134  0.987074\n",
       "3 -0.276281 -0.181098\n",
       "4  1.802028  1.372585"
      ]
     },
     "execution_count": 21,
     "metadata": {},
     "output_type": "execute_result"
    }
   ],
   "source": [
    "df[['yellow', 'blue']]"
   ]
  },
  {
   "cell_type": "code",
   "execution_count": 22,
   "id": "4ee97aac",
   "metadata": {},
   "outputs": [
    {
     "data": {
      "text/html": [
       "<div>\n",
       "<style scoped>\n",
       "    .dataframe tbody tr th:only-of-type {\n",
       "        vertical-align: middle;\n",
       "    }\n",
       "\n",
       "    .dataframe tbody tr th {\n",
       "        vertical-align: top;\n",
       "    }\n",
       "\n",
       "    .dataframe thead th {\n",
       "        text-align: right;\n",
       "    }\n",
       "</style>\n",
       "<table border=\"1\" class=\"dataframe\">\n",
       "  <thead>\n",
       "    <tr style=\"text-align: right;\">\n",
       "      <th></th>\n",
       "      <th>red</th>\n",
       "      <th>orange</th>\n",
       "      <th>yellow</th>\n",
       "      <th>green</th>\n",
       "      <th>blue</th>\n",
       "      <th>indigo</th>\n",
       "    </tr>\n",
       "  </thead>\n",
       "  <tbody>\n",
       "    <tr>\n",
       "      <th>1</th>\n",
       "      <td>-1.160288</td>\n",
       "      <td>-0.797237</td>\n",
       "      <td>-0.139284</td>\n",
       "      <td>-0.701054</td>\n",
       "      <td>-0.386539</td>\n",
       "      <td>-0.386539</td>\n",
       "    </tr>\n",
       "    <tr>\n",
       "      <th>2</th>\n",
       "      <td>0.798670</td>\n",
       "      <td>-0.226445</td>\n",
       "      <td>0.084134</td>\n",
       "      <td>-0.839858</td>\n",
       "      <td>0.987074</td>\n",
       "      <td>0.987074</td>\n",
       "    </tr>\n",
       "    <tr>\n",
       "      <th>3</th>\n",
       "      <td>-1.259188</td>\n",
       "      <td>-1.059014</td>\n",
       "      <td>-0.276281</td>\n",
       "      <td>-0.321966</td>\n",
       "      <td>-0.181098</td>\n",
       "      <td>-0.181098</td>\n",
       "    </tr>\n",
       "    <tr>\n",
       "      <th>4</th>\n",
       "      <td>0.607434</td>\n",
       "      <td>0.109061</td>\n",
       "      <td>1.802028</td>\n",
       "      <td>1.144683</td>\n",
       "      <td>1.372585</td>\n",
       "      <td>1.372585</td>\n",
       "    </tr>\n",
       "  </tbody>\n",
       "</table>\n",
       "</div>"
      ],
      "text/plain": [
       "        red    orange    yellow     green      blue    indigo\n",
       "1 -1.160288 -0.797237 -0.139284 -0.701054 -0.386539 -0.386539\n",
       "2  0.798670 -0.226445  0.084134 -0.839858  0.987074  0.987074\n",
       "3 -1.259188 -1.059014 -0.276281 -0.321966 -0.181098 -0.181098\n",
       "4  0.607434  0.109061  1.802028  1.144683  1.372585  1.372585"
      ]
     },
     "execution_count": 22,
     "metadata": {},
     "output_type": "execute_result"
    }
   ],
   "source": [
    "df['indigo'] = df['blue']\n",
    "df"
   ]
  },
  {
   "cell_type": "code",
   "execution_count": 24,
   "id": "ab415c8f",
   "metadata": {},
   "outputs": [
    {
     "data": {
      "text/html": [
       "<div>\n",
       "<style scoped>\n",
       "    .dataframe tbody tr th:only-of-type {\n",
       "        vertical-align: middle;\n",
       "    }\n",
       "\n",
       "    .dataframe tbody tr th {\n",
       "        vertical-align: top;\n",
       "    }\n",
       "\n",
       "    .dataframe thead th {\n",
       "        text-align: right;\n",
       "    }\n",
       "</style>\n",
       "<table border=\"1\" class=\"dataframe\">\n",
       "  <thead>\n",
       "    <tr style=\"text-align: right;\">\n",
       "      <th></th>\n",
       "      <th>red</th>\n",
       "      <th>orange</th>\n",
       "      <th>yellow</th>\n",
       "      <th>green</th>\n",
       "      <th>blue</th>\n",
       "      <th>indigo</th>\n",
       "      <th>violet</th>\n",
       "    </tr>\n",
       "  </thead>\n",
       "  <tbody>\n",
       "    <tr>\n",
       "      <th>1</th>\n",
       "      <td>-1.160288</td>\n",
       "      <td>-0.797237</td>\n",
       "      <td>-0.139284</td>\n",
       "      <td>-0.701054</td>\n",
       "      <td>-0.386539</td>\n",
       "      <td>-0.386539</td>\n",
       "      <td>-0.773079</td>\n",
       "    </tr>\n",
       "    <tr>\n",
       "      <th>2</th>\n",
       "      <td>0.798670</td>\n",
       "      <td>-0.226445</td>\n",
       "      <td>0.084134</td>\n",
       "      <td>-0.839858</td>\n",
       "      <td>0.987074</td>\n",
       "      <td>0.987074</td>\n",
       "      <td>1.974148</td>\n",
       "    </tr>\n",
       "    <tr>\n",
       "      <th>3</th>\n",
       "      <td>-1.259188</td>\n",
       "      <td>-1.059014</td>\n",
       "      <td>-0.276281</td>\n",
       "      <td>-0.321966</td>\n",
       "      <td>-0.181098</td>\n",
       "      <td>-0.181098</td>\n",
       "      <td>-0.362197</td>\n",
       "    </tr>\n",
       "    <tr>\n",
       "      <th>4</th>\n",
       "      <td>0.607434</td>\n",
       "      <td>0.109061</td>\n",
       "      <td>1.802028</td>\n",
       "      <td>1.144683</td>\n",
       "      <td>1.372585</td>\n",
       "      <td>1.372585</td>\n",
       "      <td>2.745171</td>\n",
       "    </tr>\n",
       "  </tbody>\n",
       "</table>\n",
       "</div>"
      ],
      "text/plain": [
       "        red    orange    yellow     green      blue    indigo    violet\n",
       "1 -1.160288 -0.797237 -0.139284 -0.701054 -0.386539 -0.386539 -0.773079\n",
       "2  0.798670 -0.226445  0.084134 -0.839858  0.987074  0.987074  1.974148\n",
       "3 -1.259188 -1.059014 -0.276281 -0.321966 -0.181098 -0.181098 -0.362197\n",
       "4  0.607434  0.109061  1.802028  1.144683  1.372585  1.372585  2.745171"
      ]
     },
     "execution_count": 24,
     "metadata": {},
     "output_type": "execute_result"
    }
   ],
   "source": [
    "df['violet'] = df['blue'] + df['indigo']\n",
    "df"
   ]
  },
  {
   "cell_type": "markdown",
   "id": "264c29ed",
   "metadata": {},
   "source": [
    "#### Навигация по фреймам данных"
   ]
  },
  {
   "cell_type": "markdown",
   "id": "371a753c",
   "metadata": {},
   "source": [
    "Для выбора одной или нескольких строк либо значений использовать методы lос или iloc. Все строки во фрейме данных pandas имеют уникальное индексное значение. По умолчанию этот индекс является целым числом, указывающим на положение строки во фрейме данных; однако это не обязательно. Метод lос полезен, когда индекс фрейма является меткой (например, строковым значением). Метод iloc работает, отыскивая позицию во фрейме данных (по номеру индекса)."
   ]
  },
  {
   "cell_type": "code",
   "execution_count": 25,
   "id": "67be2fa3",
   "metadata": {},
   "outputs": [
    {
     "data": {
      "text/plain": [
       "red       0.798670\n",
       "orange   -0.226445\n",
       "yellow    0.084134\n",
       "green    -0.839858\n",
       "blue      0.987074\n",
       "indigo    0.987074\n",
       "violet    1.974148\n",
       "Name: 2, dtype: float64"
      ]
     },
     "execution_count": 25,
     "metadata": {},
     "output_type": "execute_result"
    }
   ],
   "source": [
    "df.loc[2]"
   ]
  },
  {
   "cell_type": "code",
   "execution_count": 27,
   "id": "3bb6dd08",
   "metadata": {},
   "outputs": [
    {
     "data": {
      "text/html": [
       "<div>\n",
       "<style scoped>\n",
       "    .dataframe tbody tr th:only-of-type {\n",
       "        vertical-align: middle;\n",
       "    }\n",
       "\n",
       "    .dataframe tbody tr th {\n",
       "        vertical-align: top;\n",
       "    }\n",
       "\n",
       "    .dataframe thead th {\n",
       "        text-align: right;\n",
       "    }\n",
       "</style>\n",
       "<table border=\"1\" class=\"dataframe\">\n",
       "  <thead>\n",
       "    <tr style=\"text-align: right;\">\n",
       "      <th></th>\n",
       "      <th>red</th>\n",
       "      <th>orange</th>\n",
       "      <th>yellow</th>\n",
       "      <th>green</th>\n",
       "      <th>blue</th>\n",
       "      <th>indigo</th>\n",
       "      <th>violet</th>\n",
       "    </tr>\n",
       "  </thead>\n",
       "  <tbody>\n",
       "    <tr>\n",
       "      <th>1</th>\n",
       "      <td>-1.160288</td>\n",
       "      <td>-0.797237</td>\n",
       "      <td>-0.139284</td>\n",
       "      <td>-0.701054</td>\n",
       "      <td>-0.386539</td>\n",
       "      <td>-0.386539</td>\n",
       "      <td>-0.773079</td>\n",
       "    </tr>\n",
       "    <tr>\n",
       "      <th>2</th>\n",
       "      <td>0.798670</td>\n",
       "      <td>-0.226445</td>\n",
       "      <td>0.084134</td>\n",
       "      <td>-0.839858</td>\n",
       "      <td>0.987074</td>\n",
       "      <td>0.987074</td>\n",
       "      <td>1.974148</td>\n",
       "    </tr>\n",
       "    <tr>\n",
       "      <th>3</th>\n",
       "      <td>0.798670</td>\n",
       "      <td>-0.226445</td>\n",
       "      <td>0.084134</td>\n",
       "      <td>-0.839858</td>\n",
       "      <td>0.987074</td>\n",
       "      <td>0.987074</td>\n",
       "      <td>1.974148</td>\n",
       "    </tr>\n",
       "    <tr>\n",
       "      <th>4</th>\n",
       "      <td>0.607434</td>\n",
       "      <td>0.109061</td>\n",
       "      <td>1.802028</td>\n",
       "      <td>1.144683</td>\n",
       "      <td>1.372585</td>\n",
       "      <td>1.372585</td>\n",
       "      <td>2.745171</td>\n",
       "    </tr>\n",
       "  </tbody>\n",
       "</table>\n",
       "</div>"
      ],
      "text/plain": [
       "        red    orange    yellow     green      blue    indigo    violet\n",
       "1 -1.160288 -0.797237 -0.139284 -0.701054 -0.386539 -0.386539 -0.773079\n",
       "2  0.798670 -0.226445  0.084134 -0.839858  0.987074  0.987074  1.974148\n",
       "3  0.798670 -0.226445  0.084134 -0.839858  0.987074  0.987074  1.974148\n",
       "4  0.607434  0.109061  1.802028  1.144683  1.372585  1.372585  2.745171"
      ]
     },
     "execution_count": 27,
     "metadata": {},
     "output_type": "execute_result"
    }
   ],
   "source": [
    "df.iloc[2] = df.iloc[1]\n",
    "df"
   ]
  },
  {
   "cell_type": "code",
   "execution_count": 28,
   "id": "707d60c7",
   "metadata": {},
   "outputs": [
    {
     "data": {
      "text/plain": [
       "-0.2264451610856134"
      ]
     },
     "execution_count": 28,
     "metadata": {},
     "output_type": "execute_result"
    }
   ],
   "source": [
    "df.loc[3, 'orange']"
   ]
  },
  {
   "cell_type": "code",
   "execution_count": 29,
   "id": "6983b5a0",
   "metadata": {},
   "outputs": [
    {
     "data": {
      "text/plain": [
       "-0.2264451610856134"
      ]
     },
     "execution_count": 29,
     "metadata": {},
     "output_type": "execute_result"
    }
   ],
   "source": [
    "df.iloc[2, 1]"
   ]
  },
  {
   "cell_type": "code",
   "execution_count": 30,
   "id": "e5315bd8",
   "metadata": {},
   "outputs": [
    {
     "data": {
      "text/html": [
       "<div>\n",
       "<style scoped>\n",
       "    .dataframe tbody tr th:only-of-type {\n",
       "        vertical-align: middle;\n",
       "    }\n",
       "\n",
       "    .dataframe tbody tr th {\n",
       "        vertical-align: top;\n",
       "    }\n",
       "\n",
       "    .dataframe thead th {\n",
       "        text-align: right;\n",
       "    }\n",
       "</style>\n",
       "<table border=\"1\" class=\"dataframe\">\n",
       "  <thead>\n",
       "    <tr style=\"text-align: right;\">\n",
       "      <th></th>\n",
       "      <th>blue</th>\n",
       "      <th>violet</th>\n",
       "    </tr>\n",
       "  </thead>\n",
       "  <tbody>\n",
       "    <tr>\n",
       "      <th>1</th>\n",
       "      <td>-0.386539</td>\n",
       "      <td>-0.773079</td>\n",
       "    </tr>\n",
       "    <tr>\n",
       "      <th>3</th>\n",
       "      <td>0.987074</td>\n",
       "      <td>1.974148</td>\n",
       "    </tr>\n",
       "  </tbody>\n",
       "</table>\n",
       "</div>"
      ],
      "text/plain": [
       "       blue    violet\n",
       "1 -0.386539 -0.773079\n",
       "3  0.987074  1.974148"
      ]
     },
     "execution_count": 30,
     "metadata": {},
     "output_type": "execute_result"
    }
   ],
   "source": [
    "df.loc[[1,3], ['blue', 'violet']]"
   ]
  },
  {
   "cell_type": "markdown",
   "id": "6117bc62",
   "metadata": {},
   "source": [
    "#### Выбор строк на основе условных конструкций"
   ]
  },
  {
   "cell_type": "code",
   "execution_count": 31,
   "id": "d40b0d63",
   "metadata": {},
   "outputs": [
    {
     "data": {
      "text/html": [
       "<div>\n",
       "<style scoped>\n",
       "    .dataframe tbody tr th:only-of-type {\n",
       "        vertical-align: middle;\n",
       "    }\n",
       "\n",
       "    .dataframe tbody tr th {\n",
       "        vertical-align: top;\n",
       "    }\n",
       "\n",
       "    .dataframe thead th {\n",
       "        text-align: right;\n",
       "    }\n",
       "</style>\n",
       "<table border=\"1\" class=\"dataframe\">\n",
       "  <thead>\n",
       "    <tr style=\"text-align: right;\">\n",
       "      <th></th>\n",
       "      <th>red</th>\n",
       "      <th>orange</th>\n",
       "      <th>yellow</th>\n",
       "      <th>green</th>\n",
       "      <th>blue</th>\n",
       "      <th>indigo</th>\n",
       "      <th>violet</th>\n",
       "    </tr>\n",
       "  </thead>\n",
       "  <tbody>\n",
       "    <tr>\n",
       "      <th>1</th>\n",
       "      <td>NaN</td>\n",
       "      <td>NaN</td>\n",
       "      <td>NaN</td>\n",
       "      <td>NaN</td>\n",
       "      <td>NaN</td>\n",
       "      <td>NaN</td>\n",
       "      <td>NaN</td>\n",
       "    </tr>\n",
       "    <tr>\n",
       "      <th>2</th>\n",
       "      <td>0.798670</td>\n",
       "      <td>NaN</td>\n",
       "      <td>0.084134</td>\n",
       "      <td>NaN</td>\n",
       "      <td>0.987074</td>\n",
       "      <td>0.987074</td>\n",
       "      <td>1.974148</td>\n",
       "    </tr>\n",
       "    <tr>\n",
       "      <th>3</th>\n",
       "      <td>0.798670</td>\n",
       "      <td>NaN</td>\n",
       "      <td>0.084134</td>\n",
       "      <td>NaN</td>\n",
       "      <td>0.987074</td>\n",
       "      <td>0.987074</td>\n",
       "      <td>1.974148</td>\n",
       "    </tr>\n",
       "    <tr>\n",
       "      <th>4</th>\n",
       "      <td>0.607434</td>\n",
       "      <td>0.109061</td>\n",
       "      <td>1.802028</td>\n",
       "      <td>1.144683</td>\n",
       "      <td>1.372585</td>\n",
       "      <td>1.372585</td>\n",
       "      <td>2.745171</td>\n",
       "    </tr>\n",
       "  </tbody>\n",
       "</table>\n",
       "</div>"
      ],
      "text/plain": [
       "        red    orange    yellow     green      blue    indigo    violet\n",
       "1       NaN       NaN       NaN       NaN       NaN       NaN       NaN\n",
       "2  0.798670       NaN  0.084134       NaN  0.987074  0.987074  1.974148\n",
       "3  0.798670       NaN  0.084134       NaN  0.987074  0.987074  1.974148\n",
       "4  0.607434  0.109061  1.802028  1.144683  1.372585  1.372585  2.745171"
      ]
     },
     "execution_count": 31,
     "metadata": {},
     "output_type": "execute_result"
    }
   ],
   "source": [
    "df[df > 0]"
   ]
  },
  {
   "cell_type": "code",
   "execution_count": 32,
   "id": "f8c7e5c5",
   "metadata": {},
   "outputs": [
    {
     "data": {
      "text/plain": [
       "1    False\n",
       "2     True\n",
       "3     True\n",
       "4     True\n",
       "Name: yellow, dtype: bool"
      ]
     },
     "execution_count": 32,
     "metadata": {},
     "output_type": "execute_result"
    }
   ],
   "source": [
    "df['yellow'] > 0"
   ]
  },
  {
   "cell_type": "code",
   "execution_count": 33,
   "id": "5b6a5921",
   "metadata": {},
   "outputs": [
    {
     "data": {
      "text/html": [
       "<div>\n",
       "<style scoped>\n",
       "    .dataframe tbody tr th:only-of-type {\n",
       "        vertical-align: middle;\n",
       "    }\n",
       "\n",
       "    .dataframe tbody tr th {\n",
       "        vertical-align: top;\n",
       "    }\n",
       "\n",
       "    .dataframe thead th {\n",
       "        text-align: right;\n",
       "    }\n",
       "</style>\n",
       "<table border=\"1\" class=\"dataframe\">\n",
       "  <thead>\n",
       "    <tr style=\"text-align: right;\">\n",
       "      <th></th>\n",
       "      <th>red</th>\n",
       "      <th>orange</th>\n",
       "      <th>yellow</th>\n",
       "      <th>green</th>\n",
       "      <th>blue</th>\n",
       "      <th>indigo</th>\n",
       "      <th>violet</th>\n",
       "    </tr>\n",
       "  </thead>\n",
       "  <tbody>\n",
       "    <tr>\n",
       "      <th>2</th>\n",
       "      <td>0.798670</td>\n",
       "      <td>-0.226445</td>\n",
       "      <td>0.084134</td>\n",
       "      <td>-0.839858</td>\n",
       "      <td>0.987074</td>\n",
       "      <td>0.987074</td>\n",
       "      <td>1.974148</td>\n",
       "    </tr>\n",
       "    <tr>\n",
       "      <th>3</th>\n",
       "      <td>0.798670</td>\n",
       "      <td>-0.226445</td>\n",
       "      <td>0.084134</td>\n",
       "      <td>-0.839858</td>\n",
       "      <td>0.987074</td>\n",
       "      <td>0.987074</td>\n",
       "      <td>1.974148</td>\n",
       "    </tr>\n",
       "    <tr>\n",
       "      <th>4</th>\n",
       "      <td>0.607434</td>\n",
       "      <td>0.109061</td>\n",
       "      <td>1.802028</td>\n",
       "      <td>1.144683</td>\n",
       "      <td>1.372585</td>\n",
       "      <td>1.372585</td>\n",
       "      <td>2.745171</td>\n",
       "    </tr>\n",
       "  </tbody>\n",
       "</table>\n",
       "</div>"
      ],
      "text/plain": [
       "        red    orange    yellow     green      blue    indigo    violet\n",
       "2  0.798670 -0.226445  0.084134 -0.839858  0.987074  0.987074  1.974148\n",
       "3  0.798670 -0.226445  0.084134 -0.839858  0.987074  0.987074  1.974148\n",
       "4  0.607434  0.109061  1.802028  1.144683  1.372585  1.372585  2.745171"
      ]
     },
     "execution_count": 33,
     "metadata": {},
     "output_type": "execute_result"
    }
   ],
   "source": [
    "df[df['yellow']>0]"
   ]
  },
  {
   "cell_type": "code",
   "execution_count": 35,
   "id": "87198ead",
   "metadata": {},
   "outputs": [
    {
     "data": {
      "text/plain": [
       "4    1.144683\n",
       "Name: green, dtype: float64"
      ]
     },
     "execution_count": 35,
     "metadata": {},
     "output_type": "execute_result"
    }
   ],
   "source": [
    "df[df['yellow']>1]['green']"
   ]
  },
  {
   "cell_type": "code",
   "execution_count": 36,
   "id": "dfe7d5ea",
   "metadata": {},
   "outputs": [
    {
     "data": {
      "text/html": [
       "<div>\n",
       "<style scoped>\n",
       "    .dataframe tbody tr th:only-of-type {\n",
       "        vertical-align: middle;\n",
       "    }\n",
       "\n",
       "    .dataframe tbody tr th {\n",
       "        vertical-align: top;\n",
       "    }\n",
       "\n",
       "    .dataframe thead th {\n",
       "        text-align: right;\n",
       "    }\n",
       "</style>\n",
       "<table border=\"1\" class=\"dataframe\">\n",
       "  <thead>\n",
       "    <tr style=\"text-align: right;\">\n",
       "      <th></th>\n",
       "      <th>green</th>\n",
       "      <th>blue</th>\n",
       "    </tr>\n",
       "  </thead>\n",
       "  <tbody>\n",
       "    <tr>\n",
       "      <th>2</th>\n",
       "      <td>-0.839858</td>\n",
       "      <td>0.987074</td>\n",
       "    </tr>\n",
       "    <tr>\n",
       "      <th>3</th>\n",
       "      <td>-0.839858</td>\n",
       "      <td>0.987074</td>\n",
       "    </tr>\n",
       "    <tr>\n",
       "      <th>4</th>\n",
       "      <td>1.144683</td>\n",
       "      <td>1.372585</td>\n",
       "    </tr>\n",
       "  </tbody>\n",
       "</table>\n",
       "</div>"
      ],
      "text/plain": [
       "      green      blue\n",
       "2 -0.839858  0.987074\n",
       "3 -0.839858  0.987074\n",
       "4  1.144683  1.372585"
      ]
     },
     "execution_count": 36,
     "metadata": {},
     "output_type": "execute_result"
    }
   ],
   "source": [
    "df[df['yellow']>0][['green','blue']]"
   ]
  },
  {
   "cell_type": "code",
   "execution_count": 38,
   "id": "567ef730",
   "metadata": {},
   "outputs": [
    {
     "data": {
      "text/html": [
       "<div>\n",
       "<style scoped>\n",
       "    .dataframe tbody tr th:only-of-type {\n",
       "        vertical-align: middle;\n",
       "    }\n",
       "\n",
       "    .dataframe tbody tr th {\n",
       "        vertical-align: top;\n",
       "    }\n",
       "\n",
       "    .dataframe thead th {\n",
       "        text-align: right;\n",
       "    }\n",
       "</style>\n",
       "<table border=\"1\" class=\"dataframe\">\n",
       "  <thead>\n",
       "    <tr style=\"text-align: right;\">\n",
       "      <th></th>\n",
       "      <th>red</th>\n",
       "      <th>orange</th>\n",
       "      <th>yellow</th>\n",
       "      <th>green</th>\n",
       "      <th>blue</th>\n",
       "      <th>indigo</th>\n",
       "      <th>violet</th>\n",
       "    </tr>\n",
       "  </thead>\n",
       "  <tbody>\n",
       "    <tr>\n",
       "      <th>1</th>\n",
       "      <td>-1.160288</td>\n",
       "      <td>-0.797237</td>\n",
       "      <td>-0.139284</td>\n",
       "      <td>-0.701054</td>\n",
       "      <td>-0.386539</td>\n",
       "      <td>-0.386539</td>\n",
       "      <td>-0.773079</td>\n",
       "    </tr>\n",
       "  </tbody>\n",
       "</table>\n",
       "</div>"
      ],
      "text/plain": [
       "        red    orange    yellow     green      blue    indigo    violet\n",
       "1 -1.160288 -0.797237 -0.139284 -0.701054 -0.386539 -0.386539 -0.773079"
      ]
     },
     "execution_count": 38,
     "metadata": {},
     "output_type": "execute_result"
    }
   ],
   "source": [
    "df[(df['red']<0) | (df['yellow']<0)]"
   ]
  },
  {
   "cell_type": "code",
   "execution_count": 41,
   "id": "651bf6de",
   "metadata": {},
   "outputs": [],
   "source": [
    "# удаление строк axis = 0 строку axis = 1 столбец inplace=False без удаления из датафрейма, inplace=True с удалением\n",
    "df.drop(3, inplace = True)"
   ]
  },
  {
   "cell_type": "code",
   "execution_count": 42,
   "id": "5fdbdc9f",
   "metadata": {},
   "outputs": [
    {
     "data": {
      "text/html": [
       "<div>\n",
       "<style scoped>\n",
       "    .dataframe tbody tr th:only-of-type {\n",
       "        vertical-align: middle;\n",
       "    }\n",
       "\n",
       "    .dataframe tbody tr th {\n",
       "        vertical-align: top;\n",
       "    }\n",
       "\n",
       "    .dataframe thead th {\n",
       "        text-align: right;\n",
       "    }\n",
       "</style>\n",
       "<table border=\"1\" class=\"dataframe\">\n",
       "  <thead>\n",
       "    <tr style=\"text-align: right;\">\n",
       "      <th></th>\n",
       "      <th>red</th>\n",
       "      <th>orange</th>\n",
       "      <th>yellow</th>\n",
       "      <th>green</th>\n",
       "      <th>blue</th>\n",
       "      <th>indigo</th>\n",
       "      <th>violet</th>\n",
       "    </tr>\n",
       "  </thead>\n",
       "  <tbody>\n",
       "    <tr>\n",
       "      <th>1</th>\n",
       "      <td>-1.160288</td>\n",
       "      <td>-0.797237</td>\n",
       "      <td>-0.139284</td>\n",
       "      <td>-0.701054</td>\n",
       "      <td>-0.386539</td>\n",
       "      <td>-0.386539</td>\n",
       "      <td>-0.773079</td>\n",
       "    </tr>\n",
       "    <tr>\n",
       "      <th>2</th>\n",
       "      <td>0.798670</td>\n",
       "      <td>-0.226445</td>\n",
       "      <td>0.084134</td>\n",
       "      <td>-0.839858</td>\n",
       "      <td>0.987074</td>\n",
       "      <td>0.987074</td>\n",
       "      <td>1.974148</td>\n",
       "    </tr>\n",
       "    <tr>\n",
       "      <th>4</th>\n",
       "      <td>0.607434</td>\n",
       "      <td>0.109061</td>\n",
       "      <td>1.802028</td>\n",
       "      <td>1.144683</td>\n",
       "      <td>1.372585</td>\n",
       "      <td>1.372585</td>\n",
       "      <td>2.745171</td>\n",
       "    </tr>\n",
       "  </tbody>\n",
       "</table>\n",
       "</div>"
      ],
      "text/plain": [
       "        red    orange    yellow     green      blue    indigo    violet\n",
       "1 -1.160288 -0.797237 -0.139284 -0.701054 -0.386539 -0.386539 -0.773079\n",
       "2  0.798670 -0.226445  0.084134 -0.839858  0.987074  0.987074  1.974148\n",
       "4  0.607434  0.109061  1.802028  1.144683  1.372585  1.372585  2.745171"
      ]
     },
     "execution_count": 42,
     "metadata": {},
     "output_type": "execute_result"
    }
   ],
   "source": [
    "df"
   ]
  },
  {
   "cell_type": "code",
   "execution_count": 43,
   "id": "956fcfa2",
   "metadata": {},
   "outputs": [],
   "source": [
    "df.drop('indigo', axis = 1, inplace = True)"
   ]
  },
  {
   "cell_type": "code",
   "execution_count": 44,
   "id": "ffc5c0b7",
   "metadata": {},
   "outputs": [
    {
     "data": {
      "text/html": [
       "<div>\n",
       "<style scoped>\n",
       "    .dataframe tbody tr th:only-of-type {\n",
       "        vertical-align: middle;\n",
       "    }\n",
       "\n",
       "    .dataframe tbody tr th {\n",
       "        vertical-align: top;\n",
       "    }\n",
       "\n",
       "    .dataframe thead th {\n",
       "        text-align: right;\n",
       "    }\n",
       "</style>\n",
       "<table border=\"1\" class=\"dataframe\">\n",
       "  <thead>\n",
       "    <tr style=\"text-align: right;\">\n",
       "      <th></th>\n",
       "      <th>red</th>\n",
       "      <th>orange</th>\n",
       "      <th>yellow</th>\n",
       "      <th>green</th>\n",
       "      <th>blue</th>\n",
       "      <th>violet</th>\n",
       "    </tr>\n",
       "  </thead>\n",
       "  <tbody>\n",
       "    <tr>\n",
       "      <th>1</th>\n",
       "      <td>-1.160288</td>\n",
       "      <td>-0.797237</td>\n",
       "      <td>-0.139284</td>\n",
       "      <td>-0.701054</td>\n",
       "      <td>-0.386539</td>\n",
       "      <td>-0.773079</td>\n",
       "    </tr>\n",
       "    <tr>\n",
       "      <th>2</th>\n",
       "      <td>0.798670</td>\n",
       "      <td>-0.226445</td>\n",
       "      <td>0.084134</td>\n",
       "      <td>-0.839858</td>\n",
       "      <td>0.987074</td>\n",
       "      <td>1.974148</td>\n",
       "    </tr>\n",
       "    <tr>\n",
       "      <th>4</th>\n",
       "      <td>0.607434</td>\n",
       "      <td>0.109061</td>\n",
       "      <td>1.802028</td>\n",
       "      <td>1.144683</td>\n",
       "      <td>1.372585</td>\n",
       "      <td>2.745171</td>\n",
       "    </tr>\n",
       "  </tbody>\n",
       "</table>\n",
       "</div>"
      ],
      "text/plain": [
       "        red    orange    yellow     green      blue    violet\n",
       "1 -1.160288 -0.797237 -0.139284 -0.701054 -0.386539 -0.773079\n",
       "2  0.798670 -0.226445  0.084134 -0.839858  0.987074  1.974148\n",
       "4  0.607434  0.109061  1.802028  1.144683  1.372585  2.745171"
      ]
     },
     "execution_count": 44,
     "metadata": {},
     "output_type": "execute_result"
    }
   ],
   "source": [
    "df"
   ]
  },
  {
   "cell_type": "code",
   "execution_count": 45,
   "id": "1157c562",
   "metadata": {},
   "outputs": [
    {
     "data": {
      "text/html": [
       "<div>\n",
       "<style scoped>\n",
       "    .dataframe tbody tr th:only-of-type {\n",
       "        vertical-align: middle;\n",
       "    }\n",
       "\n",
       "    .dataframe tbody tr th {\n",
       "        vertical-align: top;\n",
       "    }\n",
       "\n",
       "    .dataframe thead th {\n",
       "        text-align: right;\n",
       "    }\n",
       "</style>\n",
       "<table border=\"1\" class=\"dataframe\">\n",
       "  <thead>\n",
       "    <tr style=\"text-align: right;\">\n",
       "      <th></th>\n",
       "      <th>red</th>\n",
       "      <th>orange</th>\n",
       "      <th>yellow</th>\n",
       "      <th>green</th>\n",
       "      <th>blue</th>\n",
       "      <th>violet</th>\n",
       "    </tr>\n",
       "  </thead>\n",
       "  <tbody>\n",
       "    <tr>\n",
       "      <th>1</th>\n",
       "      <td>-1.160288</td>\n",
       "      <td>-0.797237</td>\n",
       "      <td>-0.139284</td>\n",
       "      <td>-0.701054</td>\n",
       "      <td>-0.386539</td>\n",
       "      <td>-0.773079</td>\n",
       "    </tr>\n",
       "    <tr>\n",
       "      <th>2</th>\n",
       "      <td>0.798670</td>\n",
       "      <td>-0.226445</td>\n",
       "      <td>0.084134</td>\n",
       "      <td>-0.839858</td>\n",
       "      <td>0.987074</td>\n",
       "      <td>1.974148</td>\n",
       "    </tr>\n",
       "    <tr>\n",
       "      <th>4</th>\n",
       "      <td>0.607434</td>\n",
       "      <td>0.109061</td>\n",
       "      <td>1.802028</td>\n",
       "      <td>1.144683</td>\n",
       "      <td>1.372585</td>\n",
       "      <td>2.745171</td>\n",
       "    </tr>\n",
       "  </tbody>\n",
       "</table>\n",
       "</div>"
      ],
      "text/plain": [
       "        red    orange    yellow     green      blue    violet\n",
       "1 -1.160288 -0.797237 -0.139284 -0.701054 -0.386539 -0.773079\n",
       "2  0.798670 -0.226445  0.084134 -0.839858  0.987074  1.974148\n",
       "4  0.607434  0.109061  1.802028  1.144683  1.372585  2.745171"
      ]
     },
     "execution_count": 45,
     "metadata": {},
     "output_type": "execute_result"
    }
   ],
   "source": [
    "# Удалить дубликаты, показать строки  \n",
    "df.drop_duplicates().head()"
   ]
  },
  {
   "cell_type": "code",
   "execution_count": 53,
   "id": "06d699f6",
   "metadata": {},
   "outputs": [
    {
     "data": {
      "text/html": [
       "<div>\n",
       "<style scoped>\n",
       "    .dataframe tbody tr th:only-of-type {\n",
       "        vertical-align: middle;\n",
       "    }\n",
       "\n",
       "    .dataframe tbody tr th {\n",
       "        vertical-align: top;\n",
       "    }\n",
       "\n",
       "    .dataframe thead th {\n",
       "        text-align: right;\n",
       "    }\n",
       "</style>\n",
       "<table border=\"1\" class=\"dataframe\">\n",
       "  <thead>\n",
       "    <tr style=\"text-align: right;\">\n",
       "      <th></th>\n",
       "      <th>index</th>\n",
       "      <th>red</th>\n",
       "      <th>orange</th>\n",
       "      <th>yellow</th>\n",
       "      <th>green</th>\n",
       "      <th>blue</th>\n",
       "      <th>violet</th>\n",
       "    </tr>\n",
       "  </thead>\n",
       "  <tbody>\n",
       "    <tr>\n",
       "      <th>0</th>\n",
       "      <td>1</td>\n",
       "      <td>-1.160288</td>\n",
       "      <td>-0.797237</td>\n",
       "      <td>-0.139284</td>\n",
       "      <td>-0.701054</td>\n",
       "      <td>-0.386539</td>\n",
       "      <td>-0.773079</td>\n",
       "    </tr>\n",
       "    <tr>\n",
       "      <th>1</th>\n",
       "      <td>2</td>\n",
       "      <td>0.798670</td>\n",
       "      <td>-0.226445</td>\n",
       "      <td>0.084134</td>\n",
       "      <td>-0.839858</td>\n",
       "      <td>0.987074</td>\n",
       "      <td>1.974148</td>\n",
       "    </tr>\n",
       "    <tr>\n",
       "      <th>2</th>\n",
       "      <td>4</td>\n",
       "      <td>0.607434</td>\n",
       "      <td>0.109061</td>\n",
       "      <td>1.802028</td>\n",
       "      <td>1.144683</td>\n",
       "      <td>1.372585</td>\n",
       "      <td>2.745171</td>\n",
       "    </tr>\n",
       "  </tbody>\n",
       "</table>\n",
       "</div>"
      ],
      "text/plain": [
       "   index       red    orange    yellow     green      blue    violet\n",
       "0      1 -1.160288 -0.797237 -0.139284 -0.701054 -0.386539 -0.773079\n",
       "1      2  0.798670 -0.226445  0.084134 -0.839858  0.987074  1.974148\n",
       "2      4  0.607434  0.109061  1.802028  1.144683  1.372585  2.745171"
      ]
     },
     "execution_count": 53,
     "metadata": {},
     "output_type": "execute_result"
    }
   ],
   "source": [
    "df.reset_index()\n",
    "# inplace = True"
   ]
  },
  {
   "cell_type": "code",
   "execution_count": 54,
   "id": "3460d7ce",
   "metadata": {},
   "outputs": [
    {
     "data": {
      "text/html": [
       "<div>\n",
       "<style scoped>\n",
       "    .dataframe tbody tr th:only-of-type {\n",
       "        vertical-align: middle;\n",
       "    }\n",
       "\n",
       "    .dataframe tbody tr th {\n",
       "        vertical-align: top;\n",
       "    }\n",
       "\n",
       "    .dataframe thead th {\n",
       "        text-align: right;\n",
       "    }\n",
       "</style>\n",
       "<table border=\"1\" class=\"dataframe\">\n",
       "  <thead>\n",
       "    <tr style=\"text-align: right;\">\n",
       "      <th></th>\n",
       "      <th>red</th>\n",
       "      <th>orange</th>\n",
       "      <th>yellow</th>\n",
       "      <th>green</th>\n",
       "      <th>blue</th>\n",
       "      <th>violet</th>\n",
       "    </tr>\n",
       "  </thead>\n",
       "  <tbody>\n",
       "    <tr>\n",
       "      <th>1</th>\n",
       "      <td>-1.160288</td>\n",
       "      <td>-0.797237</td>\n",
       "      <td>-0.139284</td>\n",
       "      <td>-0.701054</td>\n",
       "      <td>-0.386539</td>\n",
       "      <td>-0.773079</td>\n",
       "    </tr>\n",
       "    <tr>\n",
       "      <th>2</th>\n",
       "      <td>0.798670</td>\n",
       "      <td>-0.226445</td>\n",
       "      <td>0.084134</td>\n",
       "      <td>-0.839858</td>\n",
       "      <td>0.987074</td>\n",
       "      <td>1.974148</td>\n",
       "    </tr>\n",
       "    <tr>\n",
       "      <th>4</th>\n",
       "      <td>0.607434</td>\n",
       "      <td>0.109061</td>\n",
       "      <td>1.802028</td>\n",
       "      <td>1.144683</td>\n",
       "      <td>1.372585</td>\n",
       "      <td>2.745171</td>\n",
       "    </tr>\n",
       "  </tbody>\n",
       "</table>\n",
       "</div>"
      ],
      "text/plain": [
       "        red    orange    yellow     green      blue    violet\n",
       "1 -1.160288 -0.797237 -0.139284 -0.701054 -0.386539 -0.773079\n",
       "2  0.798670 -0.226445  0.084134 -0.839858  0.987074  1.974148\n",
       "4  0.607434  0.109061  1.802028  1.144683  1.372585  2.745171"
      ]
     },
     "execution_count": 54,
     "metadata": {},
     "output_type": "execute_result"
    }
   ],
   "source": [
    "df"
   ]
  },
  {
   "cell_type": "code",
   "execution_count": null,
   "id": "fb25b0aa",
   "metadata": {},
   "outputs": [],
   "source": []
  },
  {
   "cell_type": "code",
   "execution_count": 68,
   "id": "8af5aa32",
   "metadata": {},
   "outputs": [],
   "source": [
    "df = pd.DataFrame(np.random.randint(1, 101, 35).reshape(7, 5), ['a', 'b', 'c', 'd', 'e', 'f', 'g'], \n",
    "                  ['France', 'Spain', 'Italy', 'Germany', 'Great Britain'])"
   ]
  },
  {
   "cell_type": "code",
   "execution_count": 56,
   "id": "dbf4f0c2",
   "metadata": {},
   "outputs": [
    {
     "data": {
      "text/html": [
       "<div>\n",
       "<style scoped>\n",
       "    .dataframe tbody tr th:only-of-type {\n",
       "        vertical-align: middle;\n",
       "    }\n",
       "\n",
       "    .dataframe tbody tr th {\n",
       "        vertical-align: top;\n",
       "    }\n",
       "\n",
       "    .dataframe thead th {\n",
       "        text-align: right;\n",
       "    }\n",
       "</style>\n",
       "<table border=\"1\" class=\"dataframe\">\n",
       "  <thead>\n",
       "    <tr style=\"text-align: right;\">\n",
       "      <th></th>\n",
       "      <th>France</th>\n",
       "      <th>Spain</th>\n",
       "      <th>Italy</th>\n",
       "      <th>Germany</th>\n",
       "      <th>Great Britain</th>\n",
       "    </tr>\n",
       "  </thead>\n",
       "  <tbody>\n",
       "    <tr>\n",
       "      <th>a</th>\n",
       "      <td>45</td>\n",
       "      <td>78</td>\n",
       "      <td>42</td>\n",
       "      <td>38</td>\n",
       "      <td>86</td>\n",
       "    </tr>\n",
       "    <tr>\n",
       "      <th>b</th>\n",
       "      <td>9</td>\n",
       "      <td>29</td>\n",
       "      <td>73</td>\n",
       "      <td>87</td>\n",
       "      <td>59</td>\n",
       "    </tr>\n",
       "    <tr>\n",
       "      <th>c</th>\n",
       "      <td>34</td>\n",
       "      <td>57</td>\n",
       "      <td>62</td>\n",
       "      <td>100</td>\n",
       "      <td>26</td>\n",
       "    </tr>\n",
       "    <tr>\n",
       "      <th>d</th>\n",
       "      <td>65</td>\n",
       "      <td>85</td>\n",
       "      <td>29</td>\n",
       "      <td>51</td>\n",
       "      <td>3</td>\n",
       "    </tr>\n",
       "    <tr>\n",
       "      <th>e</th>\n",
       "      <td>24</td>\n",
       "      <td>74</td>\n",
       "      <td>9</td>\n",
       "      <td>62</td>\n",
       "      <td>10</td>\n",
       "    </tr>\n",
       "    <tr>\n",
       "      <th>f</th>\n",
       "      <td>59</td>\n",
       "      <td>72</td>\n",
       "      <td>90</td>\n",
       "      <td>32</td>\n",
       "      <td>36</td>\n",
       "    </tr>\n",
       "    <tr>\n",
       "      <th>g</th>\n",
       "      <td>27</td>\n",
       "      <td>62</td>\n",
       "      <td>52</td>\n",
       "      <td>5</td>\n",
       "      <td>15</td>\n",
       "    </tr>\n",
       "  </tbody>\n",
       "</table>\n",
       "</div>"
      ],
      "text/plain": [
       "   France  Spain  Italy  Germany  Great Britain\n",
       "a      45     78     42       38             86\n",
       "b       9     29     73       87             59\n",
       "c      34     57     62      100             26\n",
       "d      65     85     29       51              3\n",
       "e      24     74      9       62             10\n",
       "f      59     72     90       32             36\n",
       "g      27     62     52        5             15"
      ]
     },
     "execution_count": 56,
     "metadata": {},
     "output_type": "execute_result"
    }
   ],
   "source": [
    "df"
   ]
  },
  {
   "cell_type": "code",
   "execution_count": 57,
   "id": "8d58e202",
   "metadata": {},
   "outputs": [
    {
     "data": {
      "text/plain": [
       "65"
      ]
     },
     "execution_count": 57,
     "metadata": {},
     "output_type": "execute_result"
    }
   ],
   "source": [
    "df['France'].max()"
   ]
  },
  {
   "cell_type": "code",
   "execution_count": 58,
   "id": "c525ab46",
   "metadata": {},
   "outputs": [
    {
     "data": {
      "text/plain": [
       "7"
      ]
     },
     "execution_count": 58,
     "metadata": {},
     "output_type": "execute_result"
    }
   ],
   "source": [
    "df['France'].count()"
   ]
  },
  {
   "cell_type": "code",
   "execution_count": 59,
   "id": "3fceced9",
   "metadata": {},
   "outputs": [
    {
     "data": {
      "text/plain": [
       "France            65\n",
       "Spain             85\n",
       "Italy             90\n",
       "Germany          100\n",
       "Great Britain     86\n",
       "dtype: int32"
      ]
     },
     "execution_count": 59,
     "metadata": {},
     "output_type": "execute_result"
    }
   ],
   "source": [
    "df.max()"
   ]
  },
  {
   "cell_type": "code",
   "execution_count": 60,
   "id": "c1c278f2",
   "metadata": {},
   "outputs": [
    {
     "data": {
      "text/html": [
       "<div>\n",
       "<style scoped>\n",
       "    .dataframe tbody tr th:only-of-type {\n",
       "        vertical-align: middle;\n",
       "    }\n",
       "\n",
       "    .dataframe tbody tr th {\n",
       "        vertical-align: top;\n",
       "    }\n",
       "\n",
       "    .dataframe thead th {\n",
       "        text-align: right;\n",
       "    }\n",
       "</style>\n",
       "<table border=\"1\" class=\"dataframe\">\n",
       "  <thead>\n",
       "    <tr style=\"text-align: right;\">\n",
       "      <th></th>\n",
       "      <th>France</th>\n",
       "      <th>Spain</th>\n",
       "      <th>Italy</th>\n",
       "      <th>Germany</th>\n",
       "      <th>Great Britain</th>\n",
       "    </tr>\n",
       "  </thead>\n",
       "  <tbody>\n",
       "    <tr>\n",
       "      <th>count</th>\n",
       "      <td>7.000000</td>\n",
       "      <td>7.000000</td>\n",
       "      <td>7.000000</td>\n",
       "      <td>7.000000</td>\n",
       "      <td>7.000000</td>\n",
       "    </tr>\n",
       "    <tr>\n",
       "      <th>mean</th>\n",
       "      <td>37.571429</td>\n",
       "      <td>65.285714</td>\n",
       "      <td>51.000000</td>\n",
       "      <td>53.571429</td>\n",
       "      <td>33.571429</td>\n",
       "    </tr>\n",
       "    <tr>\n",
       "      <th>std</th>\n",
       "      <td>19.965446</td>\n",
       "      <td>18.562635</td>\n",
       "      <td>27.251911</td>\n",
       "      <td>32.705031</td>\n",
       "      <td>29.703295</td>\n",
       "    </tr>\n",
       "    <tr>\n",
       "      <th>min</th>\n",
       "      <td>9.000000</td>\n",
       "      <td>29.000000</td>\n",
       "      <td>9.000000</td>\n",
       "      <td>5.000000</td>\n",
       "      <td>3.000000</td>\n",
       "    </tr>\n",
       "    <tr>\n",
       "      <th>25%</th>\n",
       "      <td>25.500000</td>\n",
       "      <td>59.500000</td>\n",
       "      <td>35.500000</td>\n",
       "      <td>35.000000</td>\n",
       "      <td>12.500000</td>\n",
       "    </tr>\n",
       "    <tr>\n",
       "      <th>50%</th>\n",
       "      <td>34.000000</td>\n",
       "      <td>72.000000</td>\n",
       "      <td>52.000000</td>\n",
       "      <td>51.000000</td>\n",
       "      <td>26.000000</td>\n",
       "    </tr>\n",
       "    <tr>\n",
       "      <th>75%</th>\n",
       "      <td>52.000000</td>\n",
       "      <td>76.000000</td>\n",
       "      <td>67.500000</td>\n",
       "      <td>74.500000</td>\n",
       "      <td>47.500000</td>\n",
       "    </tr>\n",
       "    <tr>\n",
       "      <th>max</th>\n",
       "      <td>65.000000</td>\n",
       "      <td>85.000000</td>\n",
       "      <td>90.000000</td>\n",
       "      <td>100.000000</td>\n",
       "      <td>86.000000</td>\n",
       "    </tr>\n",
       "  </tbody>\n",
       "</table>\n",
       "</div>"
      ],
      "text/plain": [
       "          France      Spain      Italy     Germany  Great Britain\n",
       "count   7.000000   7.000000   7.000000    7.000000       7.000000\n",
       "mean   37.571429  65.285714  51.000000   53.571429      33.571429\n",
       "std    19.965446  18.562635  27.251911   32.705031      29.703295\n",
       "min     9.000000  29.000000   9.000000    5.000000       3.000000\n",
       "25%    25.500000  59.500000  35.500000   35.000000      12.500000\n",
       "50%    34.000000  72.000000  52.000000   51.000000      26.000000\n",
       "75%    52.000000  76.000000  67.500000   74.500000      47.500000\n",
       "max    65.000000  85.000000  90.000000  100.000000      86.000000"
      ]
     },
     "execution_count": 60,
     "metadata": {},
     "output_type": "execute_result"
    }
   ],
   "source": [
    "df.describe()"
   ]
  },
  {
   "cell_type": "code",
   "execution_count": 61,
   "id": "19c98a43",
   "metadata": {},
   "outputs": [
    {
     "data": {
      "text/plain": [
       "7"
      ]
     },
     "execution_count": 61,
     "metadata": {},
     "output_type": "execute_result"
    }
   ],
   "source": [
    "# Количество уникальных значений\n",
    "df['France'].nunique()"
   ]
  },
  {
   "cell_type": "code",
   "execution_count": 62,
   "id": "fa140b33",
   "metadata": {},
   "outputs": [
    {
     "data": {
      "text/plain": [
       "45    1\n",
       "9     1\n",
       "34    1\n",
       "65    1\n",
       "24    1\n",
       "59    1\n",
       "27    1\n",
       "Name: France, dtype: int64"
      ]
     },
     "execution_count": 62,
     "metadata": {},
     "output_type": "execute_result"
    }
   ],
   "source": [
    "# Показать количества появлений \n",
    "df['France'].value_counts()"
   ]
  },
  {
   "cell_type": "code",
   "execution_count": 70,
   "id": "46a366a5",
   "metadata": {},
   "outputs": [
    {
     "data": {
      "text/html": [
       "<div>\n",
       "<style scoped>\n",
       "    .dataframe tbody tr th:only-of-type {\n",
       "        vertical-align: middle;\n",
       "    }\n",
       "\n",
       "    .dataframe tbody tr th {\n",
       "        vertical-align: top;\n",
       "    }\n",
       "\n",
       "    .dataframe thead th {\n",
       "        text-align: right;\n",
       "    }\n",
       "</style>\n",
       "<table border=\"1\" class=\"dataframe\">\n",
       "  <thead>\n",
       "    <tr style=\"text-align: right;\">\n",
       "      <th></th>\n",
       "      <th>France</th>\n",
       "      <th>Spain</th>\n",
       "      <th>Italy</th>\n",
       "      <th>Germany</th>\n",
       "      <th>Great Britain</th>\n",
       "    </tr>\n",
       "  </thead>\n",
       "  <tbody>\n",
       "    <tr>\n",
       "      <th>a</th>\n",
       "      <td>NaN</td>\n",
       "      <td>35</td>\n",
       "      <td>63</td>\n",
       "      <td>30</td>\n",
       "      <td>24</td>\n",
       "    </tr>\n",
       "    <tr>\n",
       "      <th>b</th>\n",
       "      <td>95.0</td>\n",
       "      <td>97</td>\n",
       "      <td>9</td>\n",
       "      <td>97</td>\n",
       "      <td>87</td>\n",
       "    </tr>\n",
       "    <tr>\n",
       "      <th>c</th>\n",
       "      <td>35.0</td>\n",
       "      <td>46</td>\n",
       "      <td>14</td>\n",
       "      <td>72</td>\n",
       "      <td>32</td>\n",
       "    </tr>\n",
       "    <tr>\n",
       "      <th>d</th>\n",
       "      <td>94.0</td>\n",
       "      <td>53</td>\n",
       "      <td>33</td>\n",
       "      <td>62</td>\n",
       "      <td>70</td>\n",
       "    </tr>\n",
       "    <tr>\n",
       "      <th>e</th>\n",
       "      <td>50.0</td>\n",
       "      <td>88</td>\n",
       "      <td>2</td>\n",
       "      <td>80</td>\n",
       "      <td>83</td>\n",
       "    </tr>\n",
       "    <tr>\n",
       "      <th>f</th>\n",
       "      <td>57.0</td>\n",
       "      <td>16</td>\n",
       "      <td>59</td>\n",
       "      <td>43</td>\n",
       "      <td>15</td>\n",
       "    </tr>\n",
       "    <tr>\n",
       "      <th>g</th>\n",
       "      <td>54.0</td>\n",
       "      <td>73</td>\n",
       "      <td>34</td>\n",
       "      <td>8</td>\n",
       "      <td>67</td>\n",
       "    </tr>\n",
       "  </tbody>\n",
       "</table>\n",
       "</div>"
      ],
      "text/plain": [
       "   France  Spain  Italy  Germany  Great Britain\n",
       "a     NaN     35     63       30             24\n",
       "b    95.0     97      9       97             87\n",
       "c    35.0     46     14       72             32\n",
       "d    94.0     53     33       62             70\n",
       "e    50.0     88      2       80             83\n",
       "f    57.0     16     59       43             15\n",
       "g    54.0     73     34        8             67"
      ]
     },
     "execution_count": 70,
     "metadata": {},
     "output_type": "execute_result"
    }
   ],
   "source": [
    "df['France'].loc['a'] = np.NaN\n",
    "df"
   ]
  },
  {
   "cell_type": "code",
   "execution_count": 71,
   "id": "d97cb101",
   "metadata": {},
   "outputs": [
    {
     "data": {
      "text/html": [
       "<div>\n",
       "<style scoped>\n",
       "    .dataframe tbody tr th:only-of-type {\n",
       "        vertical-align: middle;\n",
       "    }\n",
       "\n",
       "    .dataframe tbody tr th {\n",
       "        vertical-align: top;\n",
       "    }\n",
       "\n",
       "    .dataframe thead th {\n",
       "        text-align: right;\n",
       "    }\n",
       "</style>\n",
       "<table border=\"1\" class=\"dataframe\">\n",
       "  <thead>\n",
       "    <tr style=\"text-align: right;\">\n",
       "      <th></th>\n",
       "      <th>France</th>\n",
       "      <th>Spain</th>\n",
       "      <th>Italy</th>\n",
       "      <th>Germany</th>\n",
       "      <th>Great Britain</th>\n",
       "    </tr>\n",
       "  </thead>\n",
       "  <tbody>\n",
       "    <tr>\n",
       "      <th>a</th>\n",
       "      <td>NaN</td>\n",
       "      <td>35</td>\n",
       "      <td>63</td>\n",
       "      <td>30</td>\n",
       "      <td>24</td>\n",
       "    </tr>\n",
       "  </tbody>\n",
       "</table>\n",
       "</div>"
      ],
      "text/plain": [
       "   France  Spain  Italy  Germany  Great Britain\n",
       "a     NaN     35     63       30             24"
      ]
     },
     "execution_count": 71,
     "metadata": {},
     "output_type": "execute_result"
    }
   ],
   "source": [
    "# Выбрать пропущенные значения\n",
    "df[df['France'].isnull()].head()"
   ]
  },
  {
   "cell_type": "code",
   "execution_count": 66,
   "id": "3bd3b0df",
   "metadata": {},
   "outputs": [],
   "source": [
    "# df.dropna( inplace = True)\n",
    "df.dropna()"
   ]
  },
  {
   "cell_type": "code",
   "execution_count": 67,
   "id": "8760e29c",
   "metadata": {},
   "outputs": [
    {
     "data": {
      "text/html": [
       "<div>\n",
       "<style scoped>\n",
       "    .dataframe tbody tr th:only-of-type {\n",
       "        vertical-align: middle;\n",
       "    }\n",
       "\n",
       "    .dataframe tbody tr th {\n",
       "        vertical-align: top;\n",
       "    }\n",
       "\n",
       "    .dataframe thead th {\n",
       "        text-align: right;\n",
       "    }\n",
       "</style>\n",
       "<table border=\"1\" class=\"dataframe\">\n",
       "  <thead>\n",
       "    <tr style=\"text-align: right;\">\n",
       "      <th></th>\n",
       "      <th>France</th>\n",
       "      <th>Spain</th>\n",
       "      <th>Italy</th>\n",
       "      <th>Germany</th>\n",
       "      <th>Great Britain</th>\n",
       "    </tr>\n",
       "  </thead>\n",
       "  <tbody>\n",
       "    <tr>\n",
       "      <th>b</th>\n",
       "      <td>9.0</td>\n",
       "      <td>29</td>\n",
       "      <td>73</td>\n",
       "      <td>87</td>\n",
       "      <td>59</td>\n",
       "    </tr>\n",
       "    <tr>\n",
       "      <th>c</th>\n",
       "      <td>34.0</td>\n",
       "      <td>57</td>\n",
       "      <td>62</td>\n",
       "      <td>100</td>\n",
       "      <td>26</td>\n",
       "    </tr>\n",
       "    <tr>\n",
       "      <th>d</th>\n",
       "      <td>65.0</td>\n",
       "      <td>85</td>\n",
       "      <td>29</td>\n",
       "      <td>51</td>\n",
       "      <td>3</td>\n",
       "    </tr>\n",
       "    <tr>\n",
       "      <th>e</th>\n",
       "      <td>24.0</td>\n",
       "      <td>74</td>\n",
       "      <td>9</td>\n",
       "      <td>62</td>\n",
       "      <td>10</td>\n",
       "    </tr>\n",
       "    <tr>\n",
       "      <th>f</th>\n",
       "      <td>59.0</td>\n",
       "      <td>72</td>\n",
       "      <td>90</td>\n",
       "      <td>32</td>\n",
       "      <td>36</td>\n",
       "    </tr>\n",
       "    <tr>\n",
       "      <th>g</th>\n",
       "      <td>27.0</td>\n",
       "      <td>62</td>\n",
       "      <td>52</td>\n",
       "      <td>5</td>\n",
       "      <td>15</td>\n",
       "    </tr>\n",
       "  </tbody>\n",
       "</table>\n",
       "</div>"
      ],
      "text/plain": [
       "   France  Spain  Italy  Germany  Great Britain\n",
       "b     9.0     29     73       87             59\n",
       "c    34.0     57     62      100             26\n",
       "d    65.0     85     29       51              3\n",
       "e    24.0     74      9       62             10\n",
       "f    59.0     72     90       32             36\n",
       "g    27.0     62     52        5             15"
      ]
     },
     "execution_count": 67,
     "metadata": {},
     "output_type": "execute_result"
    }
   ],
   "source": [
    "df"
   ]
  },
  {
   "cell_type": "code",
   "execution_count": 72,
   "id": "0f508e41",
   "metadata": {},
   "outputs": [
    {
     "data": {
      "text/html": [
       "<div>\n",
       "<style scoped>\n",
       "    .dataframe tbody tr th:only-of-type {\n",
       "        vertical-align: middle;\n",
       "    }\n",
       "\n",
       "    .dataframe tbody tr th {\n",
       "        vertical-align: top;\n",
       "    }\n",
       "\n",
       "    .dataframe thead th {\n",
       "        text-align: right;\n",
       "    }\n",
       "</style>\n",
       "<table border=\"1\" class=\"dataframe\">\n",
       "  <thead>\n",
       "    <tr style=\"text-align: right;\">\n",
       "      <th></th>\n",
       "      <th>France</th>\n",
       "      <th>Spain</th>\n",
       "      <th>Italy</th>\n",
       "      <th>Germany</th>\n",
       "      <th>Great Britain</th>\n",
       "    </tr>\n",
       "  </thead>\n",
       "  <tbody>\n",
       "    <tr>\n",
       "      <th>a</th>\n",
       "      <td>Something</td>\n",
       "      <td>35</td>\n",
       "      <td>63</td>\n",
       "      <td>30</td>\n",
       "      <td>24</td>\n",
       "    </tr>\n",
       "    <tr>\n",
       "      <th>b</th>\n",
       "      <td>95.0</td>\n",
       "      <td>97</td>\n",
       "      <td>9</td>\n",
       "      <td>97</td>\n",
       "      <td>87</td>\n",
       "    </tr>\n",
       "    <tr>\n",
       "      <th>c</th>\n",
       "      <td>35.0</td>\n",
       "      <td>46</td>\n",
       "      <td>14</td>\n",
       "      <td>72</td>\n",
       "      <td>32</td>\n",
       "    </tr>\n",
       "    <tr>\n",
       "      <th>d</th>\n",
       "      <td>94.0</td>\n",
       "      <td>53</td>\n",
       "      <td>33</td>\n",
       "      <td>62</td>\n",
       "      <td>70</td>\n",
       "    </tr>\n",
       "    <tr>\n",
       "      <th>e</th>\n",
       "      <td>50.0</td>\n",
       "      <td>88</td>\n",
       "      <td>2</td>\n",
       "      <td>80</td>\n",
       "      <td>83</td>\n",
       "    </tr>\n",
       "    <tr>\n",
       "      <th>f</th>\n",
       "      <td>57.0</td>\n",
       "      <td>16</td>\n",
       "      <td>59</td>\n",
       "      <td>43</td>\n",
       "      <td>15</td>\n",
       "    </tr>\n",
       "    <tr>\n",
       "      <th>g</th>\n",
       "      <td>54.0</td>\n",
       "      <td>73</td>\n",
       "      <td>34</td>\n",
       "      <td>8</td>\n",
       "      <td>67</td>\n",
       "    </tr>\n",
       "  </tbody>\n",
       "</table>\n",
       "</div>"
      ],
      "text/plain": [
       "      France  Spain  Italy  Germany  Great Britain\n",
       "a  Something     35     63       30             24\n",
       "b       95.0     97      9       97             87\n",
       "c       35.0     46     14       72             32\n",
       "d       94.0     53     33       62             70\n",
       "e       50.0     88      2       80             83\n",
       "f       57.0     16     59       43             15\n",
       "g       54.0     73     34        8             67"
      ]
     },
     "execution_count": 72,
     "metadata": {},
     "output_type": "execute_result"
    }
   ],
   "source": [
    "df.fillna(value='Something')"
   ]
  },
  {
   "cell_type": "code",
   "execution_count": 73,
   "id": "c039fb42",
   "metadata": {},
   "outputs": [
    {
     "ename": "IndentationError",
     "evalue": "unexpected indent (2574032692.py, line 2)",
     "output_type": "error",
     "traceback": [
      "\u001b[1;36m  Cell \u001b[1;32mIn[73], line 2\u001b[1;36m\u001b[0m\n\u001b[1;33m    df.groupby('Company').apply(lambda x : x.count())\u001b[0m\n\u001b[1;37m    ^\u001b[0m\n\u001b[1;31mIndentationError\u001b[0m\u001b[1;31m:\u001b[0m unexpected indent\n"
     ]
    }
   ],
   "source": [
    "# Сгруппировать строки, применить функцию к группам \n",
    " df.groupby('Company').apply(lambda x : x.count())\n",
    "df['Salary'].apply(lambda x: x * 3)\n",
    "def times3(x):\n",
    "    return x * 3\n",
    "df['Salary'].apply(times3).sum()\n"
   ]
  },
  {
   "cell_type": "code",
   "execution_count": null,
   "id": "29d0f9c0",
   "metadata": {},
   "outputs": [],
   "source": [
    " names[names['Count'].median() == names['Count']]"
   ]
  },
  {
   "cell_type": "code",
   "execution_count": null,
   "id": "13f20f85",
   "metadata": {},
   "outputs": [],
   "source": [
    "bn.drop(\"Unnamed: 0\", axis = 1).drop(\"Id\", axis = 1)"
   ]
  },
  {
   "cell_type": "code",
   "execution_count": null,
   "id": "eff0ab50",
   "metadata": {},
   "outputs": [],
   "source": [
    "iris[\"petal_length\"].iloc[10:29] = np.NaN\n",
    "iris.head(30)"
   ]
  },
  {
   "cell_type": "code",
   "execution_count": 75,
   "id": "1fef6982",
   "metadata": {},
   "outputs": [],
   "source": [
    "import pandas as pd\n",
    "import numpy as np\n",
    "import seaborn as sns\n",
    "import matplotlib.pyplot as plt\n",
    "%matplotlib inline"
   ]
  },
  {
   "cell_type": "code",
   "execution_count": 76,
   "id": "15433d5f",
   "metadata": {},
   "outputs": [
    {
     "ename": "KeyError",
     "evalue": "'Outcome'",
     "output_type": "error",
     "traceback": [
      "\u001b[1;31m---------------------------------------------------------------------------\u001b[0m",
      "\u001b[1;31mKeyError\u001b[0m                                  Traceback (most recent call last)",
      "File \u001b[1;32m~\\anaconda3\\lib\\site-packages\\pandas\\core\\indexes\\base.py:3802\u001b[0m, in \u001b[0;36mIndex.get_loc\u001b[1;34m(self, key, method, tolerance)\u001b[0m\n\u001b[0;32m   3801\u001b[0m \u001b[38;5;28;01mtry\u001b[39;00m:\n\u001b[1;32m-> 3802\u001b[0m     \u001b[38;5;28;01mreturn\u001b[39;00m \u001b[38;5;28;43mself\u001b[39;49m\u001b[38;5;241;43m.\u001b[39;49m\u001b[43m_engine\u001b[49m\u001b[38;5;241;43m.\u001b[39;49m\u001b[43mget_loc\u001b[49m\u001b[43m(\u001b[49m\u001b[43mcasted_key\u001b[49m\u001b[43m)\u001b[49m\n\u001b[0;32m   3803\u001b[0m \u001b[38;5;28;01mexcept\u001b[39;00m \u001b[38;5;167;01mKeyError\u001b[39;00m \u001b[38;5;28;01mas\u001b[39;00m err:\n",
      "File \u001b[1;32m~\\anaconda3\\lib\\site-packages\\pandas\\_libs\\index.pyx:138\u001b[0m, in \u001b[0;36mpandas._libs.index.IndexEngine.get_loc\u001b[1;34m()\u001b[0m\n",
      "File \u001b[1;32m~\\anaconda3\\lib\\site-packages\\pandas\\_libs\\index.pyx:165\u001b[0m, in \u001b[0;36mpandas._libs.index.IndexEngine.get_loc\u001b[1;34m()\u001b[0m\n",
      "File \u001b[1;32mpandas\\_libs\\hashtable_class_helper.pxi:5745\u001b[0m, in \u001b[0;36mpandas._libs.hashtable.PyObjectHashTable.get_item\u001b[1;34m()\u001b[0m\n",
      "File \u001b[1;32mpandas\\_libs\\hashtable_class_helper.pxi:5753\u001b[0m, in \u001b[0;36mpandas._libs.hashtable.PyObjectHashTable.get_item\u001b[1;34m()\u001b[0m\n",
      "\u001b[1;31mKeyError\u001b[0m: 'Outcome'",
      "\nThe above exception was the direct cause of the following exception:\n",
      "\u001b[1;31mKeyError\u001b[0m                                  Traceback (most recent call last)",
      "Cell \u001b[1;32mIn[76], line 2\u001b[0m\n\u001b[0;32m      1\u001b[0m plt\u001b[38;5;241m.\u001b[39mfigure(figsize\u001b[38;5;241m=\u001b[39m(\u001b[38;5;241m30\u001b[39m,\u001b[38;5;241m30\u001b[39m))\n\u001b[1;32m----> 2\u001b[0m \u001b[43msns\u001b[49m\u001b[38;5;241;43m.\u001b[39;49m\u001b[43mpairplot\u001b[49m\u001b[43m(\u001b[49m\u001b[43mdata\u001b[49m\u001b[38;5;241;43m=\u001b[39;49m\u001b[43mdf\u001b[49m\u001b[43m,\u001b[49m\u001b[43m \u001b[49m\u001b[43mhue\u001b[49m\u001b[38;5;241;43m=\u001b[39;49m\u001b[38;5;124;43m\"\u001b[39;49m\u001b[38;5;124;43mOutcome\u001b[39;49m\u001b[38;5;124;43m\"\u001b[39;49m\u001b[43m,\u001b[49m\u001b[43m \u001b[49m\u001b[43mcorner\u001b[49m\u001b[38;5;241;43m=\u001b[39;49m\u001b[38;5;28;43;01mTrue\u001b[39;49;00m\u001b[43m)\u001b[49m\n",
      "File \u001b[1;32m~\\anaconda3\\lib\\site-packages\\seaborn\\axisgrid.py:2114\u001b[0m, in \u001b[0;36mpairplot\u001b[1;34m(data, hue, hue_order, palette, vars, x_vars, y_vars, kind, diag_kind, markers, height, aspect, corner, dropna, plot_kws, diag_kws, grid_kws, size)\u001b[0m\n\u001b[0;32m   2112\u001b[0m \u001b[38;5;66;03m# Set up the PairGrid\u001b[39;00m\n\u001b[0;32m   2113\u001b[0m grid_kws\u001b[38;5;241m.\u001b[39msetdefault(\u001b[38;5;124m\"\u001b[39m\u001b[38;5;124mdiag_sharey\u001b[39m\u001b[38;5;124m\"\u001b[39m, diag_kind \u001b[38;5;241m==\u001b[39m \u001b[38;5;124m\"\u001b[39m\u001b[38;5;124mhist\u001b[39m\u001b[38;5;124m\"\u001b[39m)\n\u001b[1;32m-> 2114\u001b[0m grid \u001b[38;5;241m=\u001b[39m PairGrid(data, \u001b[38;5;28mvars\u001b[39m\u001b[38;5;241m=\u001b[39m\u001b[38;5;28mvars\u001b[39m, x_vars\u001b[38;5;241m=\u001b[39mx_vars, y_vars\u001b[38;5;241m=\u001b[39my_vars, hue\u001b[38;5;241m=\u001b[39mhue,\n\u001b[0;32m   2115\u001b[0m                 hue_order\u001b[38;5;241m=\u001b[39mhue_order, palette\u001b[38;5;241m=\u001b[39mpalette, corner\u001b[38;5;241m=\u001b[39mcorner,\n\u001b[0;32m   2116\u001b[0m                 height\u001b[38;5;241m=\u001b[39mheight, aspect\u001b[38;5;241m=\u001b[39maspect, dropna\u001b[38;5;241m=\u001b[39mdropna, \u001b[38;5;241m*\u001b[39m\u001b[38;5;241m*\u001b[39mgrid_kws)\n\u001b[0;32m   2118\u001b[0m \u001b[38;5;66;03m# Add the markers here as PairGrid has figured out how many levels of the\u001b[39;00m\n\u001b[0;32m   2119\u001b[0m \u001b[38;5;66;03m# hue variable are needed and we don't want to duplicate that process\u001b[39;00m\n\u001b[0;32m   2120\u001b[0m \u001b[38;5;28;01mif\u001b[39;00m markers \u001b[38;5;129;01mis\u001b[39;00m \u001b[38;5;129;01mnot\u001b[39;00m \u001b[38;5;28;01mNone\u001b[39;00m:\n",
      "File \u001b[1;32m~\\anaconda3\\lib\\site-packages\\seaborn\\axisgrid.py:1321\u001b[0m, in \u001b[0;36mPairGrid.__init__\u001b[1;34m(self, data, hue, vars, x_vars, y_vars, hue_order, palette, hue_kws, corner, diag_sharey, height, aspect, layout_pad, despine, dropna)\u001b[0m\n\u001b[0;32m   1310\u001b[0m     \u001b[38;5;28mself\u001b[39m\u001b[38;5;241m.\u001b[39mhue_vals \u001b[38;5;241m=\u001b[39m pd\u001b[38;5;241m.\u001b[39mSeries([\u001b[38;5;124m\"\u001b[39m\u001b[38;5;124m_nolegend_\u001b[39m\u001b[38;5;124m\"\u001b[39m] \u001b[38;5;241m*\u001b[39m \u001b[38;5;28mlen\u001b[39m(data),\n\u001b[0;32m   1311\u001b[0m                               index\u001b[38;5;241m=\u001b[39mdata\u001b[38;5;241m.\u001b[39mindex)\n\u001b[0;32m   1312\u001b[0m \u001b[38;5;28;01melse\u001b[39;00m:\n\u001b[0;32m   1313\u001b[0m     \u001b[38;5;66;03m# We need hue_order and hue_names because the former is used to control\u001b[39;00m\n\u001b[0;32m   1314\u001b[0m     \u001b[38;5;66;03m# the order of drawing and the latter is used to control the order of\u001b[39;00m\n\u001b[1;32m   (...)\u001b[0m\n\u001b[0;32m   1319\u001b[0m     \u001b[38;5;66;03m# to the axes-level functions, while always handling legend creation.\u001b[39;00m\n\u001b[0;32m   1320\u001b[0m     \u001b[38;5;66;03m# See GH2307\u001b[39;00m\n\u001b[1;32m-> 1321\u001b[0m     hue_names \u001b[38;5;241m=\u001b[39m hue_order \u001b[38;5;241m=\u001b[39m categorical_order(\u001b[43mdata\u001b[49m\u001b[43m[\u001b[49m\u001b[43mhue\u001b[49m\u001b[43m]\u001b[49m, hue_order)\n\u001b[0;32m   1322\u001b[0m     \u001b[38;5;28;01mif\u001b[39;00m dropna:\n\u001b[0;32m   1323\u001b[0m         \u001b[38;5;66;03m# Filter NA from the list of unique hue names\u001b[39;00m\n\u001b[0;32m   1324\u001b[0m         hue_names \u001b[38;5;241m=\u001b[39m \u001b[38;5;28mlist\u001b[39m(\u001b[38;5;28mfilter\u001b[39m(pd\u001b[38;5;241m.\u001b[39mnotnull, hue_names))\n",
      "File \u001b[1;32m~\\anaconda3\\lib\\site-packages\\pandas\\core\\frame.py:3807\u001b[0m, in \u001b[0;36mDataFrame.__getitem__\u001b[1;34m(self, key)\u001b[0m\n\u001b[0;32m   3805\u001b[0m \u001b[38;5;28;01mif\u001b[39;00m \u001b[38;5;28mself\u001b[39m\u001b[38;5;241m.\u001b[39mcolumns\u001b[38;5;241m.\u001b[39mnlevels \u001b[38;5;241m>\u001b[39m \u001b[38;5;241m1\u001b[39m:\n\u001b[0;32m   3806\u001b[0m     \u001b[38;5;28;01mreturn\u001b[39;00m \u001b[38;5;28mself\u001b[39m\u001b[38;5;241m.\u001b[39m_getitem_multilevel(key)\n\u001b[1;32m-> 3807\u001b[0m indexer \u001b[38;5;241m=\u001b[39m \u001b[38;5;28;43mself\u001b[39;49m\u001b[38;5;241;43m.\u001b[39;49m\u001b[43mcolumns\u001b[49m\u001b[38;5;241;43m.\u001b[39;49m\u001b[43mget_loc\u001b[49m\u001b[43m(\u001b[49m\u001b[43mkey\u001b[49m\u001b[43m)\u001b[49m\n\u001b[0;32m   3808\u001b[0m \u001b[38;5;28;01mif\u001b[39;00m is_integer(indexer):\n\u001b[0;32m   3809\u001b[0m     indexer \u001b[38;5;241m=\u001b[39m [indexer]\n",
      "File \u001b[1;32m~\\anaconda3\\lib\\site-packages\\pandas\\core\\indexes\\base.py:3804\u001b[0m, in \u001b[0;36mIndex.get_loc\u001b[1;34m(self, key, method, tolerance)\u001b[0m\n\u001b[0;32m   3802\u001b[0m     \u001b[38;5;28;01mreturn\u001b[39;00m \u001b[38;5;28mself\u001b[39m\u001b[38;5;241m.\u001b[39m_engine\u001b[38;5;241m.\u001b[39mget_loc(casted_key)\n\u001b[0;32m   3803\u001b[0m \u001b[38;5;28;01mexcept\u001b[39;00m \u001b[38;5;167;01mKeyError\u001b[39;00m \u001b[38;5;28;01mas\u001b[39;00m err:\n\u001b[1;32m-> 3804\u001b[0m     \u001b[38;5;28;01mraise\u001b[39;00m \u001b[38;5;167;01mKeyError\u001b[39;00m(key) \u001b[38;5;28;01mfrom\u001b[39;00m \u001b[38;5;21;01merr\u001b[39;00m\n\u001b[0;32m   3805\u001b[0m \u001b[38;5;28;01mexcept\u001b[39;00m \u001b[38;5;167;01mTypeError\u001b[39;00m:\n\u001b[0;32m   3806\u001b[0m     \u001b[38;5;66;03m# If we have a listlike key, _check_indexing_error will raise\u001b[39;00m\n\u001b[0;32m   3807\u001b[0m     \u001b[38;5;66;03m#  InvalidIndexError. Otherwise we fall through and re-raise\u001b[39;00m\n\u001b[0;32m   3808\u001b[0m     \u001b[38;5;66;03m#  the TypeError.\u001b[39;00m\n\u001b[0;32m   3809\u001b[0m     \u001b[38;5;28mself\u001b[39m\u001b[38;5;241m.\u001b[39m_check_indexing_error(key)\n",
      "\u001b[1;31mKeyError\u001b[0m: 'Outcome'"
     ]
    },
    {
     "data": {
      "text/plain": [
       "<Figure size 3000x3000 with 0 Axes>"
      ]
     },
     "metadata": {},
     "output_type": "display_data"
    },
    {
     "data": {
      "image/png": "[encoded data removed]",
      "text/plain": [
       "<Figure size 1250x1250 with 15 Axes>"
      ]
     },
     "metadata": {},
     "output_type": "display_data"
    }
   ],
   "source": [
    "plt.figure(figsize=(30,30))\n",
    "sns.pairplot(data=df, hue=\"Outcome\", corner=True)"
   ]
  },
  {
   "cell_type": "code",
   "execution_count": null,
   "id": "f8c57420",
   "metadata": {},
   "outputs": [],
   "source": [
    "diabetes1.isnull().sum()"
   ]
  },
  {
   "cell_type": "code",
   "execution_count": null,
   "id": "b575a36b",
   "metadata": {},
   "outputs": [],
   "source": [
    "diabetes1.info()"
   ]
  },
  {
   "cell_type": "code",
   "execution_count": 77,
   "id": "105d359f",
   "metadata": {},
   "outputs": [],
   "source": [
    "from sklearn.model_selection import KFold\n",
    "from sklearn.model_selection import cross_val_score\n",
    "from sklearn.linear_model import LogisticRegression\n",
    "from sklearn.tree import DecisionTreeClassifier\n",
    "from sklearn.discriminant_analysis import LinearDiscriminantAnalysis\n",
    "from sklearn.naive_bayes import GaussianNB\n",
    "from sklearn.svm import SVC\n",
    "from sklearn.model_selection import train_test_split\n",
    "from sklearn.preprocessing import StandardScaler\n",
    "from sklearn.metrics import accuracy_score"
   ]
  },
  {
   "cell_type": "code",
   "execution_count": null,
   "id": "575bd96c",
   "metadata": {},
   "outputs": [],
   "source": [
    "X = diabetes1.iloc[:, :8]\n",
    "y = diabetes1[\"Outcome\"]\n",
    "X_train, X_test, y_train, y_test = train_test_split(X, y, test_size=0.33, random_state=3, stratify=y)"
   ]
  },
  {
   "cell_type": "code",
   "execution_count": 78,
   "id": "0b42fdd9",
   "metadata": {},
   "outputs": [
    {
     "ename": "NameError",
     "evalue": "name 'values' is not defined",
     "output_type": "error",
     "traceback": [
      "\u001b[1;31m---------------------------------------------------------------------------\u001b[0m",
      "\u001b[1;31mNameError\u001b[0m                                 Traceback (most recent call last)",
      "Cell \u001b[1;32mIn[78], line 3\u001b[0m\n\u001b[0;32m      1\u001b[0m \u001b[38;5;66;03m# Plot silhouette scores\u001b[39;00m\n\u001b[0;32m      2\u001b[0m plt\u001b[38;5;241m.\u001b[39mfigure()\n\u001b[1;32m----> 3\u001b[0m plt\u001b[38;5;241m.\u001b[39mbar(\u001b[43mvalues\u001b[49m, scores, width\u001b[38;5;241m=\u001b[39m\u001b[38;5;241m0.7\u001b[39m, color\u001b[38;5;241m=\u001b[39m\u001b[38;5;124m'\u001b[39m\u001b[38;5;124mblue\u001b[39m\u001b[38;5;124m'\u001b[39m, align\u001b[38;5;241m=\u001b[39m\u001b[38;5;124m'\u001b[39m\u001b[38;5;124mcenter\u001b[39m\u001b[38;5;124m'\u001b[39m)\n\u001b[0;32m      4\u001b[0m plt\u001b[38;5;241m.\u001b[39mtitle(\u001b[38;5;124m'\u001b[39m\u001b[38;5;124mSilhouette score vs number of clusters\u001b[39m\u001b[38;5;124m'\u001b[39m)\n\u001b[0;32m      6\u001b[0m \u001b[38;5;66;03m# Extract best score and optimal number of clusters\u001b[39;00m\n",
      "\u001b[1;31mNameError\u001b[0m: name 'values' is not defined"
     ]
    },
    {
     "data": {
      "text/plain": [
       "<Figure size 640x480 with 0 Axes>"
      ]
     },
     "metadata": {},
     "output_type": "display_data"
    }
   ],
   "source": [
    "# Plot silhouette scores\n",
    "plt.figure()\n",
    "plt.bar(values, scores, width=0.7, color='blue', align='center')\n",
    "plt.title('Silhouette score vs number of clusters')\n",
    "\n",
    "# Extract best score and optimal number of clusters\n",
    "num_clusters = np.argmax(scores) + values[0]\n",
    "print('\\nOptimal number of clusters =', num_clusters)\n",
    "\n",
    "plt.show()"
   ]
  },
  {
   "cell_type": "code",
   "execution_count": null,
   "id": "fb4e7f19",
   "metadata": {},
   "outputs": [],
   "source": []
  },
  {
   "cell_type": "code",
   "execution_count": null,
   "id": "fb8e6f3f",
   "metadata": {},
   "outputs": [],
   "source": [
    "df_coumt_null = pd.DataFrame(data=df.isnull().sum(), columns=[\"count\"])"
   ]
  },
  {
   "cell_type": "code",
   "execution_count": null,
   "id": "7c013771",
   "metadata": {},
   "outputs": [],
   "source": [
    "name_columns = df_coumt_null.index[df_coumt_null[\"count\"] < df.count()/2].tolist()"
   ]
  },
  {
   "cell_type": "code",
   "execution_count": null,
   "id": "533ec703",
   "metadata": {},
   "outputs": [],
   "source": [
    "new_df = df[name_columns]"
   ]
  }
 ],
 "metadata": {
  "kernelspec": {
   "display_name": "Python 3 (ipykernel)",
   "language": "python",
   "name": "python3"
  },
  "language_info": {
   "codemirror_mode": {
    "name": "ipython",
    "version": 3
   },
   "file_extension": ".py",
   "mimetype": "text/x-python",
   "name": "python",
   "nbconvert_exporter": "python",
   "pygments_lexer": "ipython3",
   "version": "3.10.10"
  }
 },
 "nbformat": 4,
 "nbformat_minor": 5
}
