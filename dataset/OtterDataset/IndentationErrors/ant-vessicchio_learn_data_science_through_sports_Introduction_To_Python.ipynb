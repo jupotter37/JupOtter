{
 "cells": [
  {
   "cell_type": "markdown",
   "id": "8cc2464f",
   "metadata": {},
   "source": [
    "# Your first Python Script"
   ]
  },
  {
   "cell_type": "markdown",
   "id": "abb003ad",
   "metadata": {},
   "source": [
    "Your first line of code, will involve the Python \"print\" statement. This simply is a function that returns what is entered in its function. For practice, write in your favorite team on the following line (In a Jupyter Notebook, shift+enter runs the cell)."
   ]
  },
  {
   "cell_type": "code",
   "execution_count": 1,
   "id": "86e0ecd0",
   "metadata": {},
   "outputs": [
    {
     "name": "stdout",
     "output_type": "stream",
     "text": [
      "My favorite sports team is the New England Patriots\n"
     ]
    }
   ],
   "source": [
    "print(\"My favorite sports team is the New England Patriots\")"
   ]
  },
  {
   "cell_type": "markdown",
   "id": "9022d320",
   "metadata": {},
   "source": [
    "Unlike many other program languages, the indentation in Python is key for functionality. I will show a quick example of the correct form of indentation on an \"if\" statement (You do not need to know what this is yet, but just remember the importance of indentation moving forward)"
   ]
  },
  {
   "cell_type": "code",
   "execution_count": 7,
   "id": "91e25131",
   "metadata": {},
   "outputs": [
    {
     "ename": "IndentationError",
     "evalue": "expected an indented block (1269564005.py, line 4)",
     "output_type": "error",
     "traceback": [
      "\u001b[1;36m  File \u001b[1;32m\"C:\\Users\\antve\\AppData\\Local\\Temp\\ipykernel_5196\\1269564005.py\"\u001b[1;36m, line \u001b[1;32m4\u001b[0m\n\u001b[1;33m    print(\"Zion scored more than 35!\")\u001b[0m\n\u001b[1;37m    ^\u001b[0m\n\u001b[1;31mIndentationError\u001b[0m\u001b[1;31m:\u001b[0m expected an indented block\n"
     ]
    }
   ],
   "source": [
    "zion_points = 50\n",
    "\n",
    "if zion_points > 35:\n",
    "print(\"Zion scored more than 35!\")"
   ]
  },
  {
   "cell_type": "markdown",
   "id": "53cda0f9",
   "metadata": {},
   "source": [
    "Now with the correct indentation"
   ]
  },
  {
   "cell_type": "code",
   "execution_count": 6,
   "id": "d2a419e9",
   "metadata": {},
   "outputs": [
    {
     "name": "stdout",
     "output_type": "stream",
     "text": [
      "Zion scored more than 35!\n"
     ]
    }
   ],
   "source": [
    "zion_points = 50\n",
    "\n",
    "if zion_points > 35:\n",
    "    print(\"Zion scored more than 35!\")"
   ]
  },
  {
   "cell_type": "markdown",
   "id": "b50196ae",
   "metadata": {},
   "source": [
    "Instead of creating non-code cells to write descriptions, you can simply write comments in a code cell using \"#\""
   ]
  },
  {
   "cell_type": "code",
   "execution_count": 8,
   "id": "8621b8ae",
   "metadata": {},
   "outputs": [],
   "source": [
    "#This is the amount of points Zion scored last night\n",
    "zion_points = 50"
   ]
  },
  {
   "cell_type": "markdown",
   "id": "c431814e",
   "metadata": {},
   "source": [
    "A comment can also be used to ensure a part of a script does not run! This is useful when testing code, troubleshooting, or just trying something new!"
   ]
  },
  {
   "cell_type": "code",
   "execution_count": 9,
   "id": "229dbda7",
   "metadata": {},
   "outputs": [
    {
     "name": "stdout",
     "output_type": "stream",
     "text": [
      "Jokic should win MVP\n"
     ]
    }
   ],
   "source": [
    "#print(\"Lebron should win MVP\")\n",
    "print(\"Jokic should win MVP\")"
   ]
  },
  {
   "cell_type": "markdown",
   "id": "f04df035",
   "metadata": {},
   "source": [
    "Additionally, you can write multi-line comments in a specific way in Python. This can be done when you have a lot to say!"
   ]
  },
  {
   "cell_type": "code",
   "execution_count": 11,
   "id": "7419de9c",
   "metadata": {},
   "outputs": [
    {
     "name": "stdout",
     "output_type": "stream",
     "text": [
      "We have more to do!\n"
     ]
    }
   ],
   "source": [
    "\"\"\"\n",
    "We have to do a lot more analysis to determine who should win MVP this year.\n",
    "As we continue learning Python, we will develop \n",
    "more techniques and skills\n",
    "\"\"\"\n",
    "print(\"We have more to do!\")"
   ]
  },
  {
   "cell_type": "code",
   "execution_count": null,
   "id": "d25e652e",
   "metadata": {},
   "outputs": [],
   "source": []
  }
 ],
 "metadata": {
  "kernelspec": {
   "display_name": "Python 3 (ipykernel)",
   "language": "python",
   "name": "python3"
  },
  "language_info": {
   "codemirror_mode": {
    "name": "ipython",
    "version": 3
   },
   "file_extension": ".py",
   "mimetype": "text/x-python",
   "name": "python",
   "nbconvert_exporter": "python",
   "pygments_lexer": "ipython3",
   "version": "3.9.13"
  }
 },
 "nbformat": 4,
 "nbformat_minor": 5
}
