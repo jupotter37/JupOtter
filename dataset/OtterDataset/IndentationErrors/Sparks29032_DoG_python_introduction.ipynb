{
  "cells": [
    {
      "cell_type": "markdown",
      "metadata": {
        "id": "XDjisVYffo6E"
      },
      "source": [
        "# <span style=\"color:#91D9EC\"> Python Introduction </span>\n",
        "\n",
        "To let Python note that we want to write or execute a block of code, we have to use <b>indentation</b>.\n",
        "The number of spaces is arbitrary, but there has to be at least one space.\n",
        "\n",
        "### Example 1"
      ]
    },
    {
      "cell_type": "code",
      "execution_count": null,
      "metadata": {
        "id": "utWE5X9Yfo6F",
        "outputId": "7d5bd184-420f-4550-cb37-503842aa0478",
        "colab": {
          "base_uri": "https://localhost:8080/"
        }
      },
      "outputs": [
        {
          "output_type": "stream",
          "name": "stdout",
          "text": [
            "10 is bigger than 2\n"
          ]
        }
      ],
      "source": [
        "if 10 > 2:\n",
        "    print(\"10 is bigger than 2\")"
      ]
    },
    {
      "cell_type": "markdown",
      "metadata": {
        "id": "K1rD7JmKfo6H"
      },
      "source": [
        "### Example 2\n",
        "Try it without indentation"
      ]
    },
    {
      "cell_type": "code",
      "execution_count": null,
      "metadata": {
        "id": "lsBMFFzcfo6H",
        "outputId": "e2818e9e-15cd-4a11-c4c5-aa7a8e7dc9af",
        "colab": {
          "base_uri": "https://localhost:8080/",
          "height": 133
        }
      },
      "outputs": [
        {
          "output_type": "error",
          "ename": "IndentationError",
          "evalue": "ignored",
          "traceback": [
            "\u001b[0;36m  File \u001b[0;32m\"<ipython-input-2-88644a57e9d9>\"\u001b[0;36m, line \u001b[0;32m2\u001b[0m\n\u001b[0;31m    print(\"10 is bigger than 2\")\u001b[0m\n\u001b[0m    ^\u001b[0m\n\u001b[0;31mIndentationError\u001b[0m\u001b[0;31m:\u001b[0m expected an indented block after 'if' statement on line 1\n"
          ]
        }
      ],
      "source": [
        "if 10 > 2:\n",
        "print(\"10 is bigger than 2\")"
      ]
    },
    {
      "cell_type": "markdown",
      "metadata": {
        "id": "y8FrUbOWfo6H"
      },
      "source": [
        "### Example 3\n",
        "Not the same number of indentation in a same block of code"
      ]
    },
    {
      "cell_type": "code",
      "execution_count": null,
      "metadata": {
        "id": "eH7PPUmpfo6H",
        "outputId": "5d72fa3e-851f-47ef-f44e-b84792acd051",
        "colab": {
          "base_uri": "https://localhost:8080/",
          "height": 133
        }
      },
      "outputs": [
        {
          "output_type": "error",
          "ename": "IndentationError",
          "evalue": "ignored",
          "traceback": [
            "\u001b[0;36m  File \u001b[0;32m\"<ipython-input-3-39d07a64d584>\"\u001b[0;36m, line \u001b[0;32m3\u001b[0m\n\u001b[0;31m    print(\"10 is bigger than 1\")\u001b[0m\n\u001b[0m    ^\u001b[0m\n\u001b[0;31mIndentationError\u001b[0m\u001b[0;31m:\u001b[0m unexpected indent\n"
          ]
        }
      ],
      "source": [
        "if 10 > 2:\n",
        "    print(\"10 is bigger than 2\")\n",
        "            print(\"10 is bigger than 1\")"
      ]
    },
    {
      "cell_type": "markdown",
      "metadata": {
        "id": "2RjvykTXfo6I"
      },
      "source": [
        "## <span style=\"color:#91D9EC\"> Variables </span>\n",
        "\n",
        "A variable is created when you assign a value to it.\n",
        "\n",
        "* A variable name has to start with a letter or an _\n",
        "* It can only have numbers, letters and underscores"
      ]
    },
    {
      "cell_type": "markdown",
      "metadata": {
        "id": "WW7tP4Dnfo6J"
      },
      "source": [
        "### Example 1"
      ]
    },
    {
      "cell_type": "code",
      "execution_count": null,
      "metadata": {
        "id": "y4MwTc5xfo6J"
      },
      "outputs": [],
      "source": [
        "x = 5              #This is of data type integer\n",
        "y = \"Python\"       #This is of data type string"
      ]
    },
    {
      "cell_type": "markdown",
      "metadata": {
        "id": "RGeOwCQOfo6J"
      },
      "source": [
        "### Example 2\n",
        "What happens if we put \"\" around 5 and not around Python?"
      ]
    },
    {
      "cell_type": "code",
      "execution_count": null,
      "metadata": {
        "id": "QfmspyaWfo6J",
        "outputId": "9e153977-0037-42e4-e86c-ecd44d965d01",
        "colab": {
          "base_uri": "https://localhost:8080/",
          "height": 187
        }
      },
      "outputs": [
        {
          "output_type": "error",
          "ename": "NameError",
          "evalue": "ignored",
          "traceback": [
            "\u001b[0;31m---------------------------------------------------------------------------\u001b[0m",
            "\u001b[0;31mNameError\u001b[0m                                 Traceback (most recent call last)",
            "\u001b[0;32m<ipython-input-5-04835b3004c8>\u001b[0m in \u001b[0;36m<cell line: 2>\u001b[0;34m()\u001b[0m\n\u001b[1;32m      1\u001b[0m \u001b[0mx\u001b[0m \u001b[0;34m=\u001b[0m \u001b[0;34m\"5\"\u001b[0m\u001b[0;34m\u001b[0m\u001b[0;34m\u001b[0m\u001b[0m\n\u001b[0;32m----> 2\u001b[0;31m \u001b[0my\u001b[0m \u001b[0;34m=\u001b[0m \u001b[0mPython\u001b[0m\u001b[0;34m\u001b[0m\u001b[0;34m\u001b[0m\u001b[0m\n\u001b[0m",
            "\u001b[0;31mNameError\u001b[0m: name 'Python' is not defined"
          ]
        }
      ],
      "source": [
        "x = \"5\"\n",
        "y = Python"
      ]
    },
    {
      "cell_type": "markdown",
      "metadata": {
        "id": "wwE-IcYzfo6K"
      },
      "source": [
        "### Example 3\n",
        "If you want to specify what data type a variable is, you can do it by something called casting.\n",
        "It is done as shown below:"
      ]
    },
    {
      "cell_type": "code",
      "execution_count": null,
      "metadata": {
        "id": "vqQPkq40fo6K"
      },
      "outputs": [],
      "source": [
        "x = int(5)\n",
        "y = str(5)\n",
        "z = float(5)"
      ]
    },
    {
      "cell_type": "markdown",
      "metadata": {
        "id": "Vfq5oPIpfo6K"
      },
      "source": [
        "### Example 4\n",
        "If we want to know what data type a variable is, we find out by using type()"
      ]
    },
    {
      "cell_type": "code",
      "execution_count": null,
      "metadata": {
        "id": "qm_DjHXHfo6L"
      },
      "outputs": [],
      "source": [
        "x = 5\n",
        "y = \"Python\"\n",
        "\n",
        "print(type(x))\n",
        "print(type(y))"
      ]
    },
    {
      "cell_type": "markdown",
      "metadata": {
        "id": "aE0LwKUXfo6L"
      },
      "source": [
        "### Example 5\n",
        "What happens if you assign a different value for the same variable?\n",
        "Try it yourself!"
      ]
    },
    {
      "cell_type": "code",
      "execution_count": null,
      "metadata": {
        "id": "TCVIdb2Wfo6L"
      },
      "outputs": [],
      "source": [
        "#your code here"
      ]
    },
    {
      "cell_type": "markdown",
      "metadata": {
        "id": "_OMnTKV2fo6L"
      },
      "source": [
        "Is Python case sensitive?  <b>Yes!</b>"
      ]
    },
    {
      "cell_type": "markdown",
      "metadata": {
        "id": "r2YwplUyfo6M"
      },
      "source": [
        "## <span style=\"color:#91D9EC\"> Data Types </span>\n",
        "\n",
        "* Text Type: str\n",
        "* Numberic Type: int, float, complex\n",
        "* Boolean Types: bool\n",
        "* Sequence Types: list, tuple\n",
        "* Mapping Types: dict\n",
        "* Set Types: set\n",
        "* Binary Types: bytes"
      ]
    },
    {
      "cell_type": "markdown",
      "metadata": {
        "id": "o5XCZKtFfo6M"
      },
      "source": [
        "### Example 1\n",
        "Get the different data types"
      ]
    },
    {
      "cell_type": "code",
      "execution_count": null,
      "metadata": {
        "id": "iI6nyvhLfo6M"
      },
      "outputs": [],
      "source": [
        "a = \"Python\"\n",
        "b = 5\n",
        "c = 5.0\n",
        "d = 1j\n",
        "e = [\"ab\", \"bc\", \"cd\"]\n",
        "f = (\"ab\", \"bc\", \"cd\")\n",
        "g = {\"food\": \"salsa\", \"color\": \"red\"}\n",
        "h = {\"ab\", \"bc\", \"cd\"}\n",
        "i = True\n",
        "j = b\"Python\"\n",
        "k = bytearray(5)"
      ]
    },
    {
      "cell_type": "code",
      "execution_count": null,
      "metadata": {
        "id": "kS07kQrIfo6M"
      },
      "outputs": [],
      "source": [
        "# Exercise: Use the type function to determine the types of the variables above!\n",
        "# Hint: Look at Example 4 of Variables"
      ]
    },
    {
      "cell_type": "markdown",
      "metadata": {
        "id": "TF1zAWczfo6N"
      },
      "source": [
        "In the same way you can get the type of the variables, you can also set it by casting (Look at Variables)"
      ]
    },
    {
      "cell_type": "markdown",
      "metadata": {
        "id": "yFKGs93hfo6O"
      },
      "source": [
        "## <span style=\"color:#91D9EC\"> Booleans </span>\n",
        "\n",
        "* Booleans evaluate to True or False\n",
        "* Any string is True ( with the exception of empty ones )\n",
        "* The same is for numbers  ( with the exception of 0 )"
      ]
    },
    {
      "cell_type": "markdown",
      "metadata": {
        "id": "CG8ugSasfo6P"
      },
      "source": [
        "### Example 1"
      ]
    },
    {
      "cell_type": "code",
      "execution_count": null,
      "metadata": {
        "id": "CfIn0Ngqfo6P"
      },
      "outputs": [],
      "source": [
        "print(10 < 2)\n",
        "print(10 > 2)\n",
        "print(10 == 2)    #Note here the difference of the use of the equal sign. What does a double == mean?"
      ]
    },
    {
      "cell_type": "markdown",
      "metadata": {
        "id": "aNgROniufo6P"
      },
      "source": [
        "### Example 2"
      ]
    },
    {
      "cell_type": "code",
      "execution_count": null,
      "metadata": {
        "id": "1WQmx18Ffo6Q"
      },
      "outputs": [],
      "source": [
        "print(bool(\"\"))\n",
        "print(bool(\"Python\"))\n",
        "print(bool(67))\n",
        "print(bool(0))"
      ]
    },
    {
      "cell_type": "markdown",
      "metadata": {
        "id": "iZR4hcN1fo6Q"
      },
      "source": [
        "## <span style=\"color:#91D9EC\"> Operators </span>\n",
        "\n",
        "There are several operators divided in different groups\n",
        "* Arithmetic operators\n",
        "* Assignment operators\n",
        "* Comparison operators\n",
        "* Logical operators\n",
        "* Membership operators"
      ]
    },
    {
      "cell_type": "markdown",
      "metadata": {
        "id": "fZqdIbVkfo6Q"
      },
      "source": [
        "### <span style=\"color:#1D639B\"> Arithmetic Operators</span>\n",
        "\n",
        "* Used with numeric values\n",
        "* Useful for mathematical operations\n",
        "\n",
        "1. Addition --> +\n",
        "2. Substraction --> -\n",
        "3. Multiplication --> *\n",
        "4. Division --> /\n",
        "5. Modulus --> %\n",
        "6. Exponential --> **\n",
        "\n",
        "#### Example"
      ]
    },
    {
      "cell_type": "code",
      "execution_count": null,
      "metadata": {
        "id": "P3f6-dPffo6Q"
      },
      "outputs": [],
      "source": [
        "x = 10\n",
        "y = 2\n",
        "\n",
        "print(x/y)\n",
        "print(x%y)"
      ]
    },
    {
      "cell_type": "markdown",
      "metadata": {
        "id": "DYw3dzIOfo6R"
      },
      "source": [
        "### <span style=\"color:#1D639B\"> Assignment Operators</span>\n",
        "* Used to assign a value to a variable\n",
        "\n",
        "1. =\n",
        "2. += --> x += 10 -->        x = x + 10\n",
        "3. -= -->        x -= 10 -->        x = x - 10\n",
        "4. *= -->        x *= 10 -->        x = x * 10\n",
        "5. /= -->        x /= 10 -->        x = x / 10\n",
        "6. %= -->        x %= 10 -->        x = x % 10\n",
        "\n",
        "#### Example"
      ]
    },
    {
      "cell_type": "code",
      "execution_count": null,
      "metadata": {
        "id": "C15vBxT3fo6R"
      },
      "outputs": [],
      "source": [
        "x = 10\n",
        "x/=2\n",
        "print(x)"
      ]
    },
    {
      "cell_type": "markdown",
      "metadata": {
        "id": "4V0oUlbCfo6R"
      },
      "source": [
        "### <span style=\"color:#1D639B\"> Comparison Operators</span>\n",
        "* Used to compare values\n",
        "\n",
        "1. Equal --> ==\n",
        "2. Not Equal --> !=\n",
        "3. Less than --> <\n",
        "4. Greater than  --> >\n",
        "5. Less than or equal to --> <=\n",
        "6. Greater than or equal to --> >=\n",
        "\n",
        "#### Example"
      ]
    },
    {
      "cell_type": "code",
      "execution_count": null,
      "metadata": {
        "id": "edY6ZbEpfo6R"
      },
      "outputs": [],
      "source": [
        "x = 10\n",
        "y = 2\n",
        "\n",
        "print(x==y)\n",
        "print(x!=y)\n",
        "print(x<=y)\n",
        "print(x>=y)"
      ]
    },
    {
      "cell_type": "markdown",
      "metadata": {
        "id": "0QmSv85Afo6R"
      },
      "source": [
        "### <span style=\"color:#1D639B\"> Logical Operators</span>\n",
        "* Used to combine conditional statements\n",
        "\n",
        "1. and --> Will be True if all the statements are true\n",
        "2. or --> Will be True if either one of the statements is true\n",
        "3. not --> Will be False if the result is True\n",
        "\n",
        "\n",
        "#### Example"
      ]
    },
    {
      "cell_type": "code",
      "execution_count": null,
      "metadata": {
        "id": "MIJOnj3Qfo6S"
      },
      "outputs": [],
      "source": [
        "x = 10\n",
        "y = 2\n",
        "\n",
        "print(x < 11 and y < 3)\n",
        "print(x < 11 or y < 1)\n",
        "print(not(x < 11 and y < 3))"
      ]
    },
    {
      "cell_type": "markdown",
      "metadata": {
        "id": "Hjo8tojVfo6S"
      },
      "source": [
        "## <span style=\"color:#91D9EC\"> If/ Else </span>\n",
        "\n",
        "* IF --> If something is true, execute the next code\n",
        "* ELIF --> (else if) if the previous if or elif is not true, then do this\n",
        "* ELSE --> if nothing was true previously, try this"
      ]
    },
    {
      "cell_type": "markdown",
      "metadata": {
        "id": "roimuPXufo6S"
      },
      "source": [
        "### Example"
      ]
    },
    {
      "cell_type": "code",
      "execution_count": null,
      "metadata": {
        "id": "95XZsVWrfo6T"
      },
      "outputs": [],
      "source": [
        "x = 10\n",
        "y = 2\n",
        "\n",
        "if x < 2:\n",
        "    print(\"x is smaller than 2\")\n",
        "elif x > 2:\n",
        "    print(\"x is bigger than 2\")\n",
        "else:\n",
        "    print(\"x\")"
      ]
    },
    {
      "cell_type": "markdown",
      "metadata": {
        "id": "4DRrPpkDfo6T"
      },
      "source": [
        "## <span style=\"color:#91D9EC\"> Loops </span>\n",
        "\n",
        "1. For Loop\n",
        "2. While Loop\n",
        "\n",
        "* If we want to break out of a loop, we use <b>break</b>\n",
        "* If we want to continue to the next iteration and stop the current one, we use <b>continue</b>"
      ]
    },
    {
      "cell_type": "markdown",
      "metadata": {
        "id": "TvdbIKuffo6T"
      },
      "source": [
        "### <span style=\"color:#1D639B\"> For Loop</span>\n",
        "\n",
        "* Used to iterate over a sequence\n",
        "\n",
        "#### Example"
      ]
    },
    {
      "cell_type": "code",
      "execution_count": null,
      "metadata": {
        "id": "J9bF1DuYfo6T"
      },
      "outputs": [],
      "source": [
        "for x in \"Python\":\n",
        "    print(x)"
      ]
    },
    {
      "cell_type": "markdown",
      "metadata": {
        "id": "XQmT4WNgfo6T"
      },
      "source": [
        "### <span style=\"color:#1D639B\"> Comparison Operators</span>\n",
        "\n",
        "* Used to perform a statement while the condition is true\n",
        "\n",
        "#### Example\n",
        "Why do we need that last statement?"
      ]
    },
    {
      "cell_type": "code",
      "execution_count": null,
      "metadata": {
        "id": "8Te3qbZSfo6U"
      },
      "outputs": [],
      "source": [
        "x = 10\n",
        "\n",
        "while x < 20:\n",
        "    print(x)\n",
        "    x += 4"
      ]
    },
    {
      "cell_type": "markdown",
      "metadata": {
        "id": "wNG3ORnufo6U"
      },
      "source": [
        "### <span style=\"color:#91D9EC\"> Functions </span>\n",
        "\n",
        "* It is a block of code which will only be executed when called\n",
        "* You can pass arguments into a function, these arguments are known as function parameters"
      ]
    },
    {
      "cell_type": "code",
      "execution_count": null,
      "metadata": {
        "id": "8HhjmXyCfo6U"
      },
      "outputs": [],
      "source": [
        "def function1(name, age):\n",
        "    print(\"Happy \" + str(age) + \"th Birthday \" + name + \"!\")\n",
        "\n",
        "function1(\"Anna\", 18)"
      ]
    },
    {
      "cell_type": "markdown",
      "source": [
        "# Lists\n",
        "Lists are a data structure that enable us to store multiple items in a single variable. Unlike other programming languages, in Python we can store different types of data in the same list."
      ],
      "metadata": {
        "id": "PiCliUnjM5P5"
      }
    },
    {
      "cell_type": "code",
      "source": [
        "# list of strings\n",
        "strings = [\"hello\", \"how\", \"are\", \"you\", \"doing\"]\n",
        "\n",
        "# list of integers\n",
        "integers = [1, 2, 3, 4, 5, 6, 7, 8, 9, 10]\n",
        "\n",
        "# mixed lists of integers, floats, booleans, strings\n",
        "mixed = [2, 3.14159, 4, True, \"hello\"]\n",
        "\n",
        "# we can also have lists of lists, with multiple levels\n",
        "lists = [[\"Anna\", 3], [\"Jacob\", 7], [\"Caleb\", 11]]"
      ],
      "metadata": {
        "id": "cmGKcfKhN34N"
      },
      "execution_count": null,
      "outputs": []
    },
    {
      "cell_type": "markdown",
      "source": [
        "We can access different elements of a list by indexing by position. The first element of the list is in position 0, the second element is in position 1, etc. Additionally, we can use negative indexes to start counting from the last element of the list, which has index -1."
      ],
      "metadata": {
        "id": "-ngyJ4WLOvrF"
      }
    },
    {
      "cell_type": "code",
      "source": [
        "# this will print the word \"hello\"\n",
        "print(strings[0])\n",
        "\n",
        "# this will print the number 5\n",
        "print(integers[-1])\n",
        "\n",
        "# this will change the value of 3.14159\n",
        "mixed[1] = 2.718\n",
        "print(mixed)\n",
        "\n",
        "# for nested lists, you can index multiple times to retrieve values within the inner list\n",
        "# this will print the name \"Jacob\"\n",
        "print(lists[1][0])"
      ],
      "metadata": {
        "colab": {
          "base_uri": "https://localhost:8080/"
        },
        "id": "6lvLp7D0PG2h",
        "outputId": "3ca23907-784e-4412-b40d-8a4e171744e3"
      },
      "execution_count": null,
      "outputs": [
        {
          "output_type": "stream",
          "name": "stdout",
          "text": [
            "hello\n",
            "10\n",
            "[2, 2.718, 4, True, 'hello']\n",
            "Jacob\n"
          ]
        }
      ]
    },
    {
      "cell_type": "markdown",
      "source": [
        "Use your knowledge of lists and indexing to complete the following exercises"
      ],
      "metadata": {
        "id": "SRgw99CzUeS8"
      }
    },
    {
      "cell_type": "code",
      "source": [
        "# Exercise: use both positive and negative indices to print the boolean True\n",
        "\n",
        "# Exercise: use both positive and negative indices to print [\"Anna, 3\"]\n",
        "\n",
        "# Exercise: use multiple indices (positive, negative, either) to print the number 11 from the variable lists"
      ],
      "metadata": {
        "id": "iLAUVR35Ucwu"
      },
      "execution_count": null,
      "outputs": []
    },
    {
      "cell_type": "markdown",
      "source": [
        "We can retrieve a section of the list by slicing. Slicing allows us to retrieve all the entries of the list between two indices. When we slice between two indices, first index is inclusive, but the second index is not included. Additionally, we have the option of adding a \"step\" while slicing. The default value for step is 1, which includes every element of the list, but a step of 2 would return every other item of the list.\n",
        "\n"
      ],
      "metadata": {
        "id": "uvoZHBdqRfe-"
      }
    },
    {
      "cell_type": "markdown",
      "source": [
        "The following format is used for slicing a list: <br>\n",
        "list[start : end : step] <br>\n",
        "where the end index is noninclusive\n",
        "<br> <br>\n",
        "The default value for the start index is 0, the default value for the end index is the length of the list (1 greater than the index of the last position), and the default value for the step size is 1. Any of these indices can be omitted to use the default values."
      ],
      "metadata": {
        "id": "8gj2GJeITAJx"
      }
    },
    {
      "cell_type": "code",
      "source": [
        "# both of these will print a list with the words \"hello\", \"how\", \"are\"\n",
        "print(strings[0:3])\n",
        "print(strings[:3])\n",
        "\n",
        "# to print every other word, we can use a step size of 2\n",
        "print(strings[0: len(strings): 2])\n",
        "print(strings[::2])\n",
        "\n",
        "# to print the words backwards, we can use a step size of -1\n",
        "print(strings[::-1])"
      ],
      "metadata": {
        "colab": {
          "base_uri": "https://localhost:8080/"
        },
        "id": "9ENY03EkR-t6",
        "outputId": "2626b7e9-9d36-4e6f-c2a9-e95586a735ea"
      },
      "execution_count": null,
      "outputs": [
        {
          "output_type": "stream",
          "name": "stdout",
          "text": [
            "['hello', 'how', 'are']\n",
            "['hello', 'how', 'are']\n",
            "['hello', 'are', 'doing']\n",
            "['hello', 'are', 'doing']\n",
            "['doing', 'you', 'are', 'how', 'hello']\n"
          ]
        }
      ]
    },
    {
      "cell_type": "markdown",
      "source": [
        "Use your knowledge of indexing, slicing, and step sizes to complete the following exercises"
      ],
      "metadata": {
        "id": "KAVOdBy-UylJ"
      }
    },
    {
      "cell_type": "code",
      "source": [
        "# Exercise: print only odd numbers from the integers list\n",
        "\n",
        "# Exercise: print only the integers (2, 4) from the mixed list\n"
      ],
      "metadata": {
        "id": "8Ka5QpwQU5_r"
      },
      "execution_count": null,
      "outputs": []
    },
    {
      "cell_type": "markdown",
      "source": [
        "We can add and remove items from the list using some of Python's in-built methods."
      ],
      "metadata": {
        "id": "hvE-8MXLW7Nl"
      }
    },
    {
      "cell_type": "code",
      "source": [
        "# add an item to the end of the list\n",
        "integers.append(11)\n",
        "print(integers)\n",
        "\n",
        "# insert an item at a given index\n",
        "mixed.insert(3, False)\n",
        "print(mixed)\n",
        "\n",
        "# remove an item by value\n",
        "mixed.remove(True)\n",
        "print(mixed)\n",
        "\n",
        "# remove an item by index, if no index is specified then pop() will remove the last value\n",
        "strings.pop(0)\n",
        "print(strings)"
      ],
      "metadata": {
        "colab": {
          "base_uri": "https://localhost:8080/"
        },
        "id": "ku_p5jGMXdWZ",
        "outputId": "8f424ae5-abc6-4dc5-91ab-c6ff5c503f74"
      },
      "execution_count": null,
      "outputs": [
        {
          "output_type": "stream",
          "name": "stdout",
          "text": [
            "[1, 2, 3, 4, 5, 6, 7, 8, 9, 10, 11]\n",
            "[2, 2.718, 4, False, True, 'hello']\n",
            "[2, 2.718, 4, False, 'hello']\n",
            "['how', 'are', 'you', 'doing']\n"
          ]
        }
      ]
    },
    {
      "cell_type": "markdown",
      "source": [
        "Use your knowledge of list methods to alter the following lists:"
      ],
      "metadata": {
        "id": "GyjhjT4zY2WP"
      }
    },
    {
      "cell_type": "code",
      "source": [
        "# Exercise: write a function to remove all odd numbers from the integers list\n",
        "\n",
        "# Exercise: use the append() and insert() functions to insert some names and numbers to the lists variable\n"
      ],
      "metadata": {
        "id": "GdNHM2eaY9xJ"
      },
      "execution_count": null,
      "outputs": []
    },
    {
      "cell_type": "markdown",
      "source": [
        "List comprehension allows us to create lists from other lists, containing values that satisfy a given condition. Instead of manually populating a list or adding values one by one, list comprehension combines functions and if/else conditions to populate lists more easily."
      ],
      "metadata": {
        "id": "e9nKnXknZot4"
      }
    },
    {
      "cell_type": "code",
      "source": [
        "# this will create a new list of strings of length 3\n",
        "three_letter_words = [word for word in strings if len(word) == 3]\n",
        "print(three_letter_words)\n",
        "\n",
        "# this will isolate the booleans from the list of mixed data types\n",
        "booleans = [x for x in mixed if type(x) == bool]\n",
        "print(booleans)\n",
        "\n",
        "# this uses an if-else condition, if the word contains an 'o' then the word is capitalized\n",
        "# otherwise, the word is not capitalized\n",
        "capitals = [x.upper() if \"o\" in x else x for x in strings]\n",
        "print(capitals)\n",
        "\n",
        "# we can use the \"range\" function and a step size of 3 to create a list of numbers divisible by 3\n",
        "# the parameters of the range function are the same of those used when you slice a list\n",
        "multiples_of_three = [num for num in range(3,50,3)]\n",
        "print(multiples_of_three)\n",
        "\n",
        "# we can modify the contents of the list when transferring over entries\n",
        "# this will add 2 letters to the end of every word in the list\n",
        "new_list = [word + 2*word[-1] for word in strings]\n",
        "print(new_list)"
      ],
      "metadata": {
        "colab": {
          "base_uri": "https://localhost:8080/"
        },
        "id": "2E-jvrlIaDxh",
        "outputId": "be43f7bf-2f95-4bef-9f1a-47fc13475e64"
      },
      "execution_count": null,
      "outputs": [
        {
          "output_type": "stream",
          "name": "stdout",
          "text": [
            "['how', 'are', 'you']\n",
            "[False]\n",
            "['HOW', 'are', 'YOU', 'DOING']\n",
            "[3, 6, 9, 12, 15, 18, 21, 24, 27, 30, 33, 36, 39, 42, 45, 48]\n",
            "['howww', 'areee', 'youuu', 'doinggg']\n"
          ]
        }
      ]
    },
    {
      "cell_type": "markdown",
      "source": [
        "Apply the information about list comprehension to the following exercises:"
      ],
      "metadata": {
        "id": "06bGGf24btMS"
      }
    },
    {
      "cell_type": "code",
      "source": [
        "# Exercise: use slicing to create a list containing only the first names of the entires in the lists variable\n",
        "\n",
        "# Exercise: use an if-else statement to add 100 to the items that are integers, but do not modify the other items\n",
        "\n",
        "# Exercise: add 5 to the numbers in the lists variable"
      ],
      "metadata": {
        "id": "e6VT012ZbsfT"
      },
      "execution_count": null,
      "outputs": []
    },
    {
      "cell_type": "markdown",
      "metadata": {
        "id": "V5E7qJI_fo6N"
      },
      "source": [
        "### <span style=\"color:#91D9EC\"> Strings </span>\n",
        "\n",
        "Strings can also be treated as lists of characters\n",
        "* This means you can access characters of the string by using [] and the position of the letter in the string\n",
        "* Get the length of the string by using the len() function\n",
        "* Check if a word or character is in the string by using the keyword \"in\"\n"
      ]
    },
    {
      "cell_type": "code",
      "execution_count": null,
      "metadata": {
        "id": "3uzL0x0ofo6N",
        "outputId": "c012c08f-374a-4d2e-91b3-a43a354f67cc",
        "colab": {
          "base_uri": "https://localhost:8080/"
        }
      },
      "outputs": [
        {
          "output_type": "stream",
          "name": "stdout",
          "text": [
            "h\n",
            "6\n",
            "False\n"
          ]
        }
      ],
      "source": [
        "x = \"Python\"\n",
        "print(x[3])\n",
        "print(len(x))\n",
        "print(\"is\" in x)"
      ]
    },
    {
      "cell_type": "code",
      "source": [
        "# Exercise: print the string \"Python\" backwards\n",
        "\n",
        "# Exercise: isolate the letters \"yth\" by slicing the string\n"
      ],
      "metadata": {
        "id": "W-fjItOWhTQB"
      },
      "execution_count": null,
      "outputs": []
    },
    {
      "cell_type": "markdown",
      "source": [
        "# <font color=#24C892>SymPy</font>\n",
        "\n",
        "\n",
        "SymPy is a Python library for symbolic mathematics. This means that if a variable is not exact, it will remain in a symbolic form. SymPy can simplify expressions, compute derivatives, integrals, and limits, solve equations, work with matrices, etc."
      ],
      "metadata": {
        "id": "6DjADgbWO7Yy"
      }
    },
    {
      "cell_type": "code",
      "source": [
        "## What is the difference between these two?\n",
        "import math\n",
        "import sympy\n",
        "from sympy import *\n",
        "init_printing(use_unicode=True)\n",
        "\n",
        "print(math.sqrt(8))\n",
        "sympy.sqrt(8)"
      ],
      "metadata": {
        "colab": {
          "base_uri": "https://localhost:8080/",
          "height": 57
        },
        "id": "r1AQHX9hMizl",
        "outputId": "550ba856-0fb6-413a-fbbb-bc86e3c22ae1"
      },
      "execution_count": null,
      "outputs": [
        {
          "output_type": "stream",
          "name": "stdout",
          "text": [
            "2.8284271247461903\n"
          ]
        },
        {
          "output_type": "execute_result",
          "data": {
            "text/plain": [
              "2⋅√2"
            ],
            "image/png": "[encoded data removed]",
            "text/latex": "$\\displaystyle 2 \\sqrt{2}$"
          },
          "metadata": {},
          "execution_count": 28
        }
      ]
    },
    {
      "cell_type": "markdown",
      "source": [
        "### <font color=green>Variables</font>"
      ],
      "metadata": {
        "id": "RNh5H_MkOx6C"
      }
    },
    {
      "cell_type": "code",
      "source": [
        "## A variable is defined using symbols\n",
        "\n",
        "x, y = symbols('x y')\n",
        "equation = x**2 + 2*y\n",
        "equation"
      ],
      "metadata": {
        "colab": {
          "base_uri": "https://localhost:8080/",
          "height": 38
        },
        "id": "fLrCF_fhN2DG",
        "outputId": "e6c13d7c-687a-4d0f-f11d-8f184ab78c63"
      },
      "execution_count": null,
      "outputs": [
        {
          "output_type": "execute_result",
          "data": {
            "text/plain": [
              " 2      \n",
              "x  + 2⋅y"
            ],
            "image/png": "[encoded data removed]",
            "text/latex": "$\\displaystyle x^{2} + 2 y$"
          },
          "metadata": {},
          "execution_count": 29
        }
      ]
    },
    {
      "cell_type": "markdown",
      "source": [
        "### <font color=green>Equations</font>"
      ],
      "metadata": {
        "id": "zhGa7yocO4xq"
      }
    },
    {
      "cell_type": "code",
      "source": [
        "## We can also explicitly generate a SymPy equation\n",
        "equation = sympy.Eq(x**2 + 2*y, 0)\n",
        "equation"
      ],
      "metadata": {
        "colab": {
          "base_uri": "https://localhost:8080/",
          "height": 38
        },
        "id": "1QpE7leDPMJ6",
        "outputId": "9b7589e4-7106-41ba-a10f-894c27fdd76c"
      },
      "execution_count": null,
      "outputs": [
        {
          "output_type": "execute_result",
          "data": {
            "text/plain": [
              " 2          \n",
              "x  + 2⋅y = 0"
            ],
            "image/png": "[encoded data removed]",
            "text/latex": "$\\displaystyle x^{2} + 2 y = 0$"
          },
          "metadata": {},
          "execution_count": 30
        }
      ]
    },
    {
      "cell_type": "markdown",
      "source": [
        "### <font color=green>Matrices</font>"
      ],
      "metadata": {
        "id": "zNLs3nk1PMVI"
      }
    },
    {
      "cell_type": "code",
      "source": [
        "## We can use matrices\n",
        "Matrix([[1, 2, 3], [4, 5, 6]])"
      ],
      "metadata": {
        "colab": {
          "base_uri": "https://localhost:8080/",
          "height": 58
        },
        "id": "5SnCGmvRQOC3",
        "outputId": "63e178bd-5738-4990-93cd-9b06014155cd"
      },
      "execution_count": null,
      "outputs": [
        {
          "output_type": "execute_result",
          "data": {
            "text/plain": [
              "⎡1  2  3⎤\n",
              "⎢       ⎥\n",
              "⎣4  5  6⎦"
            ],
            "text/latex": "$\\displaystyle \\left[\\begin{matrix}1 & 2 & 3\\\\4 & 5 & 6\\end{matrix}\\right]$"
          },
          "metadata": {},
          "execution_count": 31
        }
      ]
    }
  ],
  "metadata": {
    "colab": {
      "collapsed_sections": [
        "XDjisVYffo6E",
        "2RjvykTXfo6I",
        "wNG3ORnufo6U",
        "PiCliUnjM5P5",
        "6DjADgbWO7Yy"
      ],
      "provenance": []
    },
    "kernelspec": {
      "display_name": "Python 3",
      "language": "python",
      "name": "python3"
    },
    "language_info": {
      "codemirror_mode": {
        "name": "ipython",
        "version": 3
      },
      "file_extension": ".py",
      "mimetype": "text/x-python",
      "name": "python",
      "nbconvert_exporter": "python",
      "pygments_lexer": "ipython3",
      "version": "3.7.11"
    },
    "latex_envs": {
      "bibliofile": "biblio.bib",
      "cite_by": "apalike",
      "current_citInitial": 1,
      "eqLabelWithNumbers": true,
      "eqNumInitial": 0
    }
  },
  "nbformat": 4,
  "nbformat_minor": 0
}