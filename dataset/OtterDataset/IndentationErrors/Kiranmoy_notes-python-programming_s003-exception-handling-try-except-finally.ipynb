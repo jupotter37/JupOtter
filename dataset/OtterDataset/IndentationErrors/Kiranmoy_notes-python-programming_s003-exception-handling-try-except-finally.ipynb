{
 "cells": [
  {
   "cell_type": "markdown",
   "id": "f69224fa-d3cc-4faa-b894-531f44e64b0d",
   "metadata": {},
   "source": [
    "# “finally” block"
   ]
  },
  {
   "attachments": {
    "7227aec1-9397-404c-b9e0-315a063aff0c.png": {
     "image/png": "[encoded data removed]"
    }
   },
   "cell_type": "markdown",
   "id": "8ca731c3-98e8-457e-ac63-07fa60d21762",
   "metadata": {},
   "source": [
    "* It is not recommended to maintain clean-up code (**resource deallocating code** OR **resource releasing code**) inside the `try` block because there is no guarantee for the execution of every statement inside the `try` block always.\n",
    "* It is not recommended to maintain clean-up code inside `except` block, because if there is no exception then `except` block won't be executed.\n",
    "* Hence we required someplace to maintain clean-up code which should be executed- always irrespective of whether an exception was raised or not raised and whether the exception was handled or not handled. Such type of best place is nothing but `finally` block.\n",
    "* Hence the main purpose of the **“`finally`”** block is to maintain clean-up code.\n",
    "* The specialty of the **“`finally`”** block is it will be executed always whether the exception is raised or not raised and whether the exception is handled or not handled.\n",
    "\n",
    "![image.png](attachment:7227aec1-9397-404c-b9e0-315a063aff0c.png)"
   ]
  },
  {
   "cell_type": "markdown",
   "id": "83976b78-f129-4f7c-8008-6ced30ffba79",
   "metadata": {},
   "source": [
    "**Case-1:** If there is no exception"
   ]
  },
  {
   "cell_type": "code",
   "execution_count": 1,
   "id": "80cb2c4b-6f24-499f-bf59-ba6a458a6c5a",
   "metadata": {},
   "outputs": [
    {
     "name": "stdout",
     "output_type": "stream",
     "text": [
      "try\n",
      "finally\n"
     ]
    }
   ],
   "source": [
    "try:\n",
    "  print(\"try\")\n",
    "except:\n",
    "  print(\"except\")\n",
    "finally:\n",
    "  print(\"finally\")"
   ]
  },
  {
   "cell_type": "markdown",
   "id": "c708b37e-8642-4da5-a8d6-b829bba4b7c0",
   "metadata": {},
   "source": [
    "**Case-2:** If there is an exception raised but handled"
   ]
  },
  {
   "cell_type": "code",
   "execution_count": 2,
   "id": "dd436ea0-ecbf-47d3-b8b7-6d1c2bd0b12b",
   "metadata": {},
   "outputs": [
    {
     "name": "stdout",
     "output_type": "stream",
     "text": [
      "try\n",
      "except\n",
      "finally\n"
     ]
    }
   ],
   "source": [
    "try:\n",
    "  print(\"try\")\n",
    "  print(10/0)\n",
    "except ZeroDivisionError:\n",
    "  print(\"except\")\n",
    "finally:\n",
    "  print(\"finally\")"
   ]
  },
  {
   "cell_type": "markdown",
   "id": "172b41dd-1ff4-42e6-b811-c081e209752f",
   "metadata": {},
   "source": [
    "**Case-3:** If there is an exception raised but not handled"
   ]
  },
  {
   "cell_type": "code",
   "execution_count": 3,
   "id": "ff26f742-6afd-4be6-8440-f624fade1c66",
   "metadata": {},
   "outputs": [
    {
     "name": "stdout",
     "output_type": "stream",
     "text": [
      "try\n",
      "finally\n"
     ]
    },
    {
     "ename": "ZeroDivisionError",
     "evalue": "division by zero",
     "output_type": "error",
     "traceback": [
      "\u001b[1;31m---------------------------------------------------------------------------\u001b[0m",
      "\u001b[1;31mZeroDivisionError\u001b[0m                         Traceback (most recent call last)",
      "Cell \u001b[1;32mIn[3], line 3\u001b[0m\n\u001b[0;32m      1\u001b[0m \u001b[38;5;28;01mtry\u001b[39;00m:\n\u001b[0;32m      2\u001b[0m   \u001b[38;5;28mprint\u001b[39m(\u001b[38;5;124m\"\u001b[39m\u001b[38;5;124mtry\u001b[39m\u001b[38;5;124m\"\u001b[39m)\n\u001b[1;32m----> 3\u001b[0m   \u001b[38;5;28mprint\u001b[39m(\u001b[38;5;241;43m10\u001b[39;49m\u001b[38;5;241;43m/\u001b[39;49m\u001b[38;5;241;43m0\u001b[39;49m)\n\u001b[0;32m      4\u001b[0m \u001b[38;5;28;01mexcept\u001b[39;00m \u001b[38;5;167;01mNameError\u001b[39;00m:\n\u001b[0;32m      5\u001b[0m   \u001b[38;5;28mprint\u001b[39m(\u001b[38;5;124m\"\u001b[39m\u001b[38;5;124mexcept\u001b[39m\u001b[38;5;124m\"\u001b[39m)\n",
      "\u001b[1;31mZeroDivisionError\u001b[0m: division by zero"
     ]
    }
   ],
   "source": [
    "try:\n",
    "  print(\"try\")\n",
    "  print(10/0)\n",
    "except NameError:\n",
    "  print(\"except\")\n",
    "finally:\n",
    "  print(\"finally\")"
   ]
  },
  {
   "cell_type": "markdown",
   "id": "3a4eb553-c7f3-4a1e-99c2-3dea245ed2b1",
   "metadata": {},
   "source": [
    "Whenever we are using **`os._exit( 0 )`** function then Python Virtual Machine itself will be shut down.\n",
    "\n",
    "In this particular case **finally** won't be executed.\n",
    "\n",
    "**Note:**\n",
    "* There is only one situation where finally block won't be executed ie whenever we are using the **`os._exit(0)`** function. \n",
    "* **`os._exit(0)`** where\n",
    "    * `0` represents the status code and it indicates **normal termination**.\n",
    "    * `non-zero` represents **abnormal termination**.\n",
    "* This status code is used internally by PVM."
   ]
  },
  {
   "cell_type": "markdown",
   "id": "2941260f-d2a9-492e-881c-476eb9293011",
   "metadata": {},
   "source": [
    "```\n",
    "imports os\n",
    "\n",
    "try:\n",
    "  print(\"try\")\n",
    "  os._exit(0)\n",
    "except NameError:\n",
    "  print(\"except\")\n",
    "finally:\n",
    "  print(\"finally\")\n",
    "```\n",
    "\n",
    "**Output:** try "
   ]
  },
  {
   "cell_type": "markdown",
   "id": "6f2dc94c-c65a-474d-8f1a-fb12d4fa34d2",
   "metadata": {},
   "source": [
    "# finally block vs. destructor"
   ]
  },
  {
   "cell_type": "markdown",
   "id": "9fa3f75f-a108-4a7a-bc82-25ff7983f152",
   "metadata": {},
   "source": [
    "Both **“`finally`”** block & destructor is meant for maintaining cleanup code. **What is the difference?**\n",
    "\n",
    "* The **“`finally`”** block is meant for cleanup activities related to the try block resources. \n",
    "* That is, whatever resources are opened as part of the try block will be closed inside the **“`finally`”** block.\n",
    "* Destructor meant for cleanup activities related to objects.\n",
    "* Whatever resources are associated with the object should be deallocated inside the destructor, which will be executed before destroying the object."
   ]
  },
  {
   "cell_type": "markdown",
   "id": "8268fb7c-cf2e-4943-8121-6dadd5c796cc",
   "metadata": {},
   "source": [
    "# Control Flow in try-except-finally"
   ]
  },
  {
   "attachments": {
    "f8a0e24a-15e7-4a51-b1fe-cef35332f340.png": {
     "image/png": "[encoded data removed]"
    }
   },
   "cell_type": "markdown",
   "id": "1f227c54-e0cf-46cd-9e6c-c5198dfbea84",
   "metadata": {},
   "source": [
    "![image.png](attachment:f8a0e24a-15e7-4a51-b1fe-cef35332f340.png)\n",
    "\n",
    "* **`Case-1:`** If there is no exception → `1`,`2`,`3`,`5`,`6` **Normal Termination**\n",
    "* **`Case-2:`** If an exception is raised at `stmt-2` and the corresponding except block matched → `1`,`4`,`5`,`6` **Normal Termination**\n",
    "* **`Case-3:`** If an exception is raised at `stmt-2` but the corresponding except block is not matched → `1`,`5` **Abnormal Termination**\n",
    "* **`Case-4:`** If an exception is raised at `stmt-4` then it is always **abnormal termination** but before that `finally` block will be executed.\n",
    "* **`Case-5:`** If an exception is raised at `stmt-5` or at `stmt-6` then it is always **abnormal termination**."
   ]
  },
  {
   "cell_type": "markdown",
   "id": "94ae919a-0917-4c6e-b453-0d496c7afade",
   "metadata": {},
   "source": [
    "# Nested try-except-finally blocks"
   ]
  },
  {
   "cell_type": "markdown",
   "id": "210f80b0-ea23-44e0-abaa-be52c674cc23",
   "metadata": {},
   "source": [
    "* We can take `try-except-finally` blocks inside `try` or `except` or `finally` blocks\n",
    "* That is, nesting of `try-except-finally` is possible. \n",
    "* General **Risky code** we have to take inside the **outer `try`** block and too much risky code we have to take inside the **inner `try`** block. \n",
    "* Inside the **Inner `try`** block if an exception is raised then the **inner `except`** block is responsible to handle. \n",
    "* If it is unable to handle then the **outer `except`** block is responsible to handle. "
   ]
  },
  {
   "cell_type": "code",
   "execution_count": 5,
   "id": "cbbad403-38c1-43f3-94be-624bb3e546f4",
   "metadata": {},
   "outputs": [
    {
     "name": "stdout",
     "output_type": "stream",
     "text": [
      "outer try block\n",
      "Inner try block\n",
      "Inner except block\n",
      "Inner finally block\n",
      "outer finally block\n"
     ]
    }
   ],
   "source": [
    "try:\n",
    "  print(\"outer try block\")\n",
    "  try:\n",
    "    print(\"Inner try block\")\n",
    "    print(10/0)\n",
    "  except ZeroDivisionError:\n",
    "    print(\"Inner except block\")\n",
    "  finally:\n",
    "    print(\"Inner finally block\")\n",
    "except:\n",
    "  print(\"outer except block\")\n",
    "finally:\n",
    "  print(\"outer finally block\")"
   ]
  },
  {
   "cell_type": "code",
   "execution_count": 6,
   "id": "996d69e8-2a51-496a-9745-ef072cf0cfb2",
   "metadata": {},
   "outputs": [
    {
     "name": "stdout",
     "output_type": "stream",
     "text": [
      "outer try block\n",
      "outer except block\n",
      "outer finally block\n"
     ]
    }
   ],
   "source": [
    "try:\n",
    "  print(\"outer try block\")\n",
    "  print(10/0) # Exception Occur, Control goes to Outer except block.\n",
    "  try:\n",
    "    print(\"Inner try block\")    \n",
    "  except ZeroDivisionError:\n",
    "    print(\"Inner except block\")\n",
    "  finally:\n",
    "    print(\"Inner finally block\")\n",
    "except:                           # Control comes here!!.\n",
    "  print(\"outer except block\")\n",
    "finally:\n",
    "  print(\"outer finally block\")"
   ]
  },
  {
   "cell_type": "markdown",
   "id": "350a97a8-d1a7-4527-b099-fbbf3ebe6c8b",
   "metadata": {},
   "source": [
    "In this scenario, the **inner “`finally`”** block won’t get executed, because the **inner “`finally`”** block is responsible for the cleanup of resources associated with the **inner `try`** block. \n",
    "\n",
    "Since the **inner `try`** block didn’t get executed - no resource gets opened or used. \n",
    "\n",
    "Hence, there are no resources for cleanup, so the “`finally`” block is not required to be executed."
   ]
  },
  {
   "cell_type": "markdown",
   "id": "34a83bfe-c515-4c45-86c2-89d6a0292ca0",
   "metadata": {},
   "source": [
    "**NOTE:**\n",
    "* In a **`try-except-finally`** block, if the control does not enter into the `try` block then the corresponding **“`finally`”** block won’t be executed.\n",
    "* Once control is entered in the `try` block then compulsory the **“`finally`”** block will be executed."
   ]
  },
  {
   "cell_type": "markdown",
   "id": "9db3232d-41ff-4fdc-9e2c-632b0782a61c",
   "metadata": {},
   "source": [
    "# Control Flow in nested try-except-finally"
   ]
  },
  {
   "cell_type": "markdown",
   "id": "848f8fe4-d142-4013-b6ce-34868d6556cc",
   "metadata": {},
   "source": [
    "```\n",
    "try:\n",
    "  stmt-1\n",
    "  stmt-2\n",
    "  stmt-3\n",
    "  try:\n",
    "    stmt-4\n",
    "    stmt-5\n",
    "    stmt-6\n",
    "  except X:\n",
    "    stmt-7\n",
    "  finally:\n",
    "    stmt-8\n",
    "  stmt-9\n",
    "except Y:\n",
    "  stmt-10\n",
    "finally:\n",
    "  stmt-11\n",
    "stmt-12\n",
    "```\n",
    "\n",
    "* **Case-1:** If there is no exception → `1`, `2`, `3`, `4`, `5`, `6`, `8`, `9`, `11`, `12` (**Normal Termination**)\n",
    "* **Case-2:** If an exception is raised at `stmt-2` and the corresponding except block matched `1`, `10`, `11`, `12` (**Normal Termination**)\n",
    "* **Case-3:** If an exception is raised at `stmt-2` and the corresponding except block is not matched `1`, `11` (**Abnormal Termination**)\n",
    "* **Case-4:** If an exception is raised at `stmt-5` and inner except block matched `1`, `2`, `3`, `4`, `7`, `8`, `9`, `11`, `12` (**Normal Termination**)\n",
    "* **Case-5:** If an exception is raised at `stmt-5` and the inner except block is not matched but the outer except block matched `1`, `2`, `3`, `4`, `8`, `10`, `11`, `12` (**Normal Termination**)\n",
    "* **Case-6:** If an exception is raised at `stmt-5` and both inner and outer except blocks are not matched `1`, `2`, `3`, `4`, `8`, `11` (**Abnormal Termination**)\n",
    "* **Case-7:** If an exception is raised at `stmt-7` and corresponding except block matched `1`, `2`, `3`, (`4`/`5`/`6` - exception), `8`, `10`,`11`,`12` (**Normal Termination**)\n",
    "* **Case-8:** If an exception is raised at `stmt-7` and corresponding except block not matched `1`, `2`, `3`, (`4`/`5`/`6` - exception), `8`, `11` (**Abnormal Termination**)\n",
    "* **Case-9:** If an exception is raised at `stmt-8` and corresponding except block matched `1`, `2`, `3`, (`4`/`5`/`6`/`7` - may or may not execute), `10`, `11`, `12` (**Normal Termination**)\n",
    "* **Case-10:** If an exception is raised at `stmt-8` and corresponding except block, not matched `1`, `2`, `3`, (`4`/`5`/`6`/`7` - may or may not execute), `11` (**Abnormal Termination**)\n",
    "* **Case-11:** If an exception is raised at `stmt-9` and corresponding except block matched `1`, `2`, `3`, (`4`/`5`/`6`/`7` - may or may not execute), `8`, `10`, `11`, `12` (**Normal Termination**)\n",
    "* **Case-12:** If an exception is raised at `stmt-9` and corresponding except block, not matched `1`, `2`, `3`, (`4`/`5`/`6`/`7` - may or may not execute), `8`, `11` (**Abnormal Termination**)\n",
    "* **Case-13:** If an exception is raised at `stmt-10` then it is always **abnormal termination** but before abnormal termination **`finally`** block `stmt-11` will be executed.\n",
    "* **Case-14:** If an exception is raised at `stmt-11` or `stmt-12` then it is always **abnormal termination**.\n",
    "\n",
    "\n",
    "> **Note:**\n",
    "> * *If the control entered into the `try` block then compulsory the **“`finally`”** block will be executed.*\n",
    "> * *If the control is not entered into the `try` block then `finally` block won't be executed.*"
   ]
  },
  {
   "cell_type": "markdown",
   "id": "b5134174-c4ef-4b48-a56c-04fcb8c35c15",
   "metadata": {},
   "source": [
    "# else Block with try-except-finally"
   ]
  },
  {
   "cell_type": "markdown",
   "id": "7b761752-d804-4b3c-8921-c3b2b26e1a8a",
   "metadata": {},
   "source": [
    "* We can use the `else` block with `ry-except-finally` blocks.\n",
    "* The else block will be executed if and only if there are no exceptions inside the `try` block."
   ]
  },
  {
   "cell_type": "code",
   "execution_count": 8,
   "id": "dc38efe3-db2f-4468-ac32-4a66e1dc14cb",
   "metadata": {},
   "outputs": [],
   "source": [
    "try:\n",
    "  # Risky Code\n",
    "    pass\n",
    "except:\n",
    "  # will be executed if exception inside try\n",
    "    pass\n",
    "else:\n",
    "  # will be executed if there is no exception inside try\n",
    "    pass\n",
    "finally:\n",
    "    pass\n",
    "  # will be executed whether exception \n",
    "  # raised or not raised \n",
    "  # handled or not handled"
   ]
  },
  {
   "cell_type": "code",
   "execution_count": 9,
   "id": "aef5da6e-3e5c-48f6-b11e-809daa1a3505",
   "metadata": {},
   "outputs": [
    {
     "name": "stdout",
     "output_type": "stream",
     "text": [
      "try\n",
      "except\n",
      "finally\n"
     ]
    }
   ],
   "source": [
    "try:\n",
    "  print(\"try\")\n",
    "  print(10/0) # line-1\n",
    "except:\n",
    "  print(\"except\")\n",
    "else:\n",
    "  print(\"else\")\n",
    "finally:\n",
    "  print(\"finally\")"
   ]
  },
  {
   "cell_type": "markdown",
   "id": "b678c049-5522-4b2c-a2cd-cc58000e0c4c",
   "metadata": {},
   "source": [
    "If we comment **line-1** then the `else` block will be executed because there is no exception inside try. \n",
    "\n",
    "In this case, the output is:\n",
    "* `try`\n",
    "* `else`\n",
    "* `finally`\n",
    "\n",
    "If we are not commenting on **line-1** then the else block won't be executed because there is an exception inside the `try` block. \n",
    "\n",
    "In this case, the output is:\n",
    "* `try`\n",
    "* `except`\n",
    "* `finally`"
   ]
  },
  {
   "cell_type": "markdown",
   "id": "a36089ed-d5b0-47d3-8aab-557b6b8b373d",
   "metadata": {},
   "source": [
    "**else block use case**"
   ]
  },
  {
   "cell_type": "code",
   "execution_count": 10,
   "id": "ae65c66b-2284-4ad8-98e3-e5f798bf2ca7",
   "metadata": {},
   "outputs": [
    {
     "name": "stdout",
     "output_type": "stream",
     "text": [
      "some problem while locating and opening the file\n"
     ]
    }
   ],
   "source": [
    "f = None\n",
    "try:\n",
    "  f = open(\"abc.txt\", \"r\")\n",
    "except:\n",
    "  print(\"some problem while locating and opening the file\")\n",
    "else:\n",
    "  print(\"file opened successfully\")\n",
    "  print(\"data present in file is:\")\n",
    "  print(\"#\"*30)\n",
    "  print(f.read())\n",
    "finally:\n",
    "  if f is not None:\n",
    "    f.close()"
   ]
  },
  {
   "cell_type": "markdown",
   "id": "e715de67-eaaf-4f4a-9728-68737b3fcb20",
   "metadata": {},
   "source": [
    "**Which of the following statement is true for the else block?**"
   ]
  },
  {
   "attachments": {
    "08bedc9f-08aa-4e8f-9bb8-d28e66d2cab5.png": {
     "image/png": "[encoded data removed]"
    }
   },
   "cell_type": "markdown",
   "id": "26dfe5f0-c345-401e-ae8b-02c6143f0bcd",
   "metadata": {},
   "source": [
    "![image.png](attachment:08bedc9f-08aa-4e8f-9bb8-d28e66d2cab5.png)"
   ]
  },
  {
   "cell_type": "markdown",
   "id": "91f57417-f654-410f-aac8-8e4cdb69e470",
   "metadata": {},
   "source": [
    "# Various possible combinations of try-except-else-finally"
   ]
  },
  {
   "cell_type": "markdown",
   "id": "bd1bdb00-e5f3-402b-8795-0c0330b2c42b",
   "metadata": {},
   "source": [
    "* Whenever we are writing **`try` block**, it is **compulsory** that we should write **`except` or `finally` block**. That is, **without `except` or `finally` block** we cannot write **`try` block**.\n",
    "\n",
    "* Whenever we are writing **`except` block**, **compulsory** we should write **`try` block**. That is, **`except` without `try`** is always **invalid**.\n",
    "\n",
    "* Whenever we are writing the **“`finally`” block**, **compulsory** we should write **`try` block**. That is, **`finally` without a `try` block** is always **invalid**.\n",
    "\n",
    "* We can write **multiple `except` blocks** for the **same `try` block**, but we cannot write **multiple “`finally`” blocks** for the **same `try` block**.\n",
    "\n",
    "* Whenever we are writing **`else` block** is **compulsory `except` block** should be there. That is, **without `except` block**, we cannot write **`else` block**.\n",
    "\n",
    "* In **`try-except-else-finally`** order is important.\n",
    "\n",
    "* We can define **`try-except-else-finally`** inside `try`, `except`, `else`, and `finally` blocks. That is, nesting of **`try-except-else-finally`** is always possible."
   ]
  },
  {
   "cell_type": "markdown",
   "id": "a827a7cb-61c7-4ec6-8b73-eb3ccb49685a",
   "metadata": {},
   "source": [
    "# Examples of Valid & Invalid Combinations"
   ]
  },
  {
   "cell_type": "code",
   "execution_count": 12,
   "id": "6b136487-d0bc-46e1-9186-578b05375da7",
   "metadata": {},
   "outputs": [
    {
     "ename": "SyntaxError",
     "evalue": "incomplete input (2074812769.py, line 2)",
     "output_type": "error",
     "traceback": [
      "\u001b[1;36m  Cell \u001b[1;32mIn[12], line 2\u001b[1;36m\u001b[0m\n\u001b[1;33m    print(\"try\")\u001b[0m\n\u001b[1;37m                 ^\u001b[0m\n\u001b[1;31mSyntaxError\u001b[0m\u001b[1;31m:\u001b[0m incomplete input\n"
     ]
    }
   ],
   "source": [
    "try:\n",
    "    print(\"try\") "
   ]
  },
  {
   "cell_type": "code",
   "execution_count": 14,
   "id": "34a08264-2197-4dc1-a54b-835eeab21459",
   "metadata": {},
   "outputs": [
    {
     "ename": "SyntaxError",
     "evalue": "invalid syntax (2081928219.py, line 1)",
     "output_type": "error",
     "traceback": [
      "\u001b[1;36m  Cell \u001b[1;32mIn[14], line 1\u001b[1;36m\u001b[0m\n\u001b[1;33m    except:\u001b[0m\n\u001b[1;37m    ^\u001b[0m\n\u001b[1;31mSyntaxError\u001b[0m\u001b[1;31m:\u001b[0m invalid syntax\n"
     ]
    }
   ],
   "source": [
    "except:\n",
    "  print(\"Hello\")"
   ]
  },
  {
   "cell_type": "code",
   "execution_count": 15,
   "id": "9621acdd-429a-4d11-8c81-11cca73f486e",
   "metadata": {},
   "outputs": [
    {
     "ename": "SyntaxError",
     "evalue": "invalid syntax (1136236041.py, line 1)",
     "output_type": "error",
     "traceback": [
      "\u001b[1;36m  Cell \u001b[1;32mIn[15], line 1\u001b[1;36m\u001b[0m\n\u001b[1;33m    else:\u001b[0m\n\u001b[1;37m    ^\u001b[0m\n\u001b[1;31mSyntaxError\u001b[0m\u001b[1;31m:\u001b[0m invalid syntax\n"
     ]
    }
   ],
   "source": [
    "else:\n",
    "  print(\"Hello\")"
   ]
  },
  {
   "cell_type": "code",
   "execution_count": 16,
   "id": "ce44f52d-8784-4871-b231-63a894264f19",
   "metadata": {},
   "outputs": [
    {
     "ename": "SyntaxError",
     "evalue": "invalid syntax (1816030731.py, line 1)",
     "output_type": "error",
     "traceback": [
      "\u001b[1;36m  Cell \u001b[1;32mIn[16], line 1\u001b[1;36m\u001b[0m\n\u001b[1;33m    finally:\u001b[0m\n\u001b[1;37m    ^\u001b[0m\n\u001b[1;31mSyntaxError\u001b[0m\u001b[1;31m:\u001b[0m invalid syntax\n"
     ]
    }
   ],
   "source": [
    "finally:\n",
    "  print(\"Hello\") "
   ]
  },
  {
   "cell_type": "code",
   "execution_count": 17,
   "id": "79005021-5a8a-40ce-8430-85726b6f0cbf",
   "metadata": {},
   "outputs": [
    {
     "name": "stdout",
     "output_type": "stream",
     "text": [
      "try\n"
     ]
    }
   ],
   "source": [
    "try:\n",
    "  print(\"try\")\n",
    "except:\n",
    "  print(\"except\")"
   ]
  },
  {
   "cell_type": "code",
   "execution_count": 18,
   "id": "97063896-6e43-4c8f-b6c8-7d24f53c7e6c",
   "metadata": {},
   "outputs": [
    {
     "name": "stdout",
     "output_type": "stream",
     "text": [
      "try\n",
      "finally\n"
     ]
    }
   ],
   "source": [
    "try:\n",
    "  print(\"try\")\n",
    "finally:\n",
    "  print(\"finally\")"
   ]
  },
  {
   "cell_type": "code",
   "execution_count": 19,
   "id": "a80e7662-1434-42d4-844f-63d9ffb31e06",
   "metadata": {},
   "outputs": [
    {
     "name": "stdout",
     "output_type": "stream",
     "text": [
      "try\n",
      "else\n"
     ]
    }
   ],
   "source": [
    "try:\n",
    "  print(\"try\")\n",
    "except:\n",
    "  print(\"except\")\n",
    "else:\n",
    "  print(\"else\")"
   ]
  },
  {
   "cell_type": "code",
   "execution_count": 20,
   "id": "9c8be4f4-b3d0-46ce-8fb4-4c128f47805f",
   "metadata": {},
   "outputs": [
    {
     "ename": "SyntaxError",
     "evalue": "expected 'except' or 'finally' block (1899627489.py, line 3)",
     "output_type": "error",
     "traceback": [
      "\u001b[1;36m  Cell \u001b[1;32mIn[20], line 3\u001b[1;36m\u001b[0m\n\u001b[1;33m    else:\u001b[0m\n\u001b[1;37m    ^\u001b[0m\n\u001b[1;31mSyntaxError\u001b[0m\u001b[1;31m:\u001b[0m expected 'except' or 'finally' block\n"
     ]
    }
   ],
   "source": [
    "try:\n",
    "  print(\"try\")\n",
    "else:\n",
    "  print(\"else\")"
   ]
  },
  {
   "cell_type": "code",
   "execution_count": 21,
   "id": "547e5739-2f65-442e-8048-b589e7cab2eb",
   "metadata": {},
   "outputs": [
    {
     "ename": "SyntaxError",
     "evalue": "expected 'except' or 'finally' block (2356510954.py, line 3)",
     "output_type": "error",
     "traceback": [
      "\u001b[1;36m  Cell \u001b[1;32mIn[21], line 3\u001b[1;36m\u001b[0m\n\u001b[1;33m    else:\u001b[0m\n\u001b[1;37m    ^\u001b[0m\n\u001b[1;31mSyntaxError\u001b[0m\u001b[1;31m:\u001b[0m expected 'except' or 'finally' block\n"
     ]
    }
   ],
   "source": [
    "try:\n",
    "  print(\"try\")\n",
    "else:\n",
    "  print(\"else\")\n",
    "finally:\n",
    "  print(\"finally\")"
   ]
  },
  {
   "cell_type": "code",
   "execution_count": 22,
   "id": "9ade2130-1964-43b2-ae0d-1fe71411850d",
   "metadata": {},
   "outputs": [
    {
     "name": "stdout",
     "output_type": "stream",
     "text": [
      "try\n"
     ]
    }
   ],
   "source": [
    "try:\n",
    "  print(\"try\")\n",
    "except XXX:\n",
    "  print(\"except-1\")\n",
    "except YYY:\n",
    "  print(\"except-2\")"
   ]
  },
  {
   "cell_type": "code",
   "execution_count": 24,
   "id": "60413d42-dc28-4e9e-8cc8-55c948811ee4",
   "metadata": {},
   "outputs": [
    {
     "ename": "SyntaxError",
     "evalue": "invalid syntax (3187609636.py, line 7)",
     "output_type": "error",
     "traceback": [
      "\u001b[1;36m  Cell \u001b[1;32mIn[24], line 7\u001b[1;36m\u001b[0m\n\u001b[1;33m    else:\u001b[0m\n\u001b[1;37m    ^\u001b[0m\n\u001b[1;31mSyntaxError\u001b[0m\u001b[1;31m:\u001b[0m invalid syntax\n"
     ]
    }
   ],
   "source": [
    "try:\n",
    "  print(\"try\")\n",
    "except :\n",
    "  print(\"except-1\")\n",
    "else:\n",
    "  print(\"else\")\n",
    "else:\n",
    "  print(\"else\")"
   ]
  },
  {
   "cell_type": "code",
   "execution_count": 25,
   "id": "963a5c95-65ad-43aa-8dd1-ceaeb15bdf59",
   "metadata": {},
   "outputs": [
    {
     "ename": "SyntaxError",
     "evalue": "invalid syntax (3481879437.py, line 7)",
     "output_type": "error",
     "traceback": [
      "\u001b[1;36m  Cell \u001b[1;32mIn[25], line 7\u001b[1;36m\u001b[0m\n\u001b[1;33m    finally:\u001b[0m\n\u001b[1;37m    ^\u001b[0m\n\u001b[1;31mSyntaxError\u001b[0m\u001b[1;31m:\u001b[0m invalid syntax\n"
     ]
    }
   ],
   "source": [
    "try:\n",
    "  print(\"try\")\n",
    "except :\n",
    "  print(\"except-1\")\n",
    "finally:\n",
    "  print(\"finally\")\n",
    "finally:\n",
    "  print(\"finally\")"
   ]
  },
  {
   "cell_type": "code",
   "execution_count": 26,
   "id": "66429d26-c043-46eb-99eb-875e03ad7fbc",
   "metadata": {},
   "outputs": [
    {
     "ename": "SyntaxError",
     "evalue": "expected 'except' or 'finally' block (2465159795.py, line 3)",
     "output_type": "error",
     "traceback": [
      "\u001b[1;36m  Cell \u001b[1;32mIn[26], line 3\u001b[1;36m\u001b[0m\n\u001b[1;33m    print(\"Hello\")\u001b[0m\n\u001b[1;37m    ^\u001b[0m\n\u001b[1;31mSyntaxError\u001b[0m\u001b[1;31m:\u001b[0m expected 'except' or 'finally' block\n"
     ]
    }
   ],
   "source": [
    "try:\n",
    "  print(\"try\")\n",
    "print(\"Hello\")\n",
    "except:\n",
    "  print(\"except\")"
   ]
  },
  {
   "cell_type": "code",
   "execution_count": 27,
   "id": "f74ce3e5-3603-4a1a-9d5a-ded889a7a54d",
   "metadata": {},
   "outputs": [
    {
     "ename": "SyntaxError",
     "evalue": "invalid syntax (2313983943.py, line 6)",
     "output_type": "error",
     "traceback": [
      "\u001b[1;36m  Cell \u001b[1;32mIn[27], line 6\u001b[1;36m\u001b[0m\n\u001b[1;33m    except:\u001b[0m\n\u001b[1;37m    ^\u001b[0m\n\u001b[1;31mSyntaxError\u001b[0m\u001b[1;31m:\u001b[0m invalid syntax\n"
     ]
    }
   ],
   "source": [
    "try:\n",
    "  print(\"try\")\n",
    "except:\n",
    "  print(\"except\")\n",
    "print(\"Hello\")\n",
    "except:\n",
    "  print(\"except\")"
   ]
  },
  {
   "cell_type": "code",
   "execution_count": 28,
   "id": "c5c5bd1f-990e-4aa3-9664-5291958cdf1f",
   "metadata": {},
   "outputs": [
    {
     "ename": "SyntaxError",
     "evalue": "invalid syntax (4005463591.py, line 6)",
     "output_type": "error",
     "traceback": [
      "\u001b[1;36m  Cell \u001b[1;32mIn[28], line 6\u001b[1;36m\u001b[0m\n\u001b[1;33m    finally:\u001b[0m\n\u001b[1;37m    ^\u001b[0m\n\u001b[1;31mSyntaxError\u001b[0m\u001b[1;31m:\u001b[0m invalid syntax\n"
     ]
    }
   ],
   "source": [
    "try:\n",
    "  print(\"try\")\n",
    "except:\n",
    "  print(\"except\")\n",
    "print(\"Hello\")\n",
    "finally:\n",
    "  print(\"finally\")"
   ]
  },
  {
   "cell_type": "code",
   "execution_count": 29,
   "id": "eb0f2273-d9c2-4b14-99c0-7cd0f7bc0def",
   "metadata": {},
   "outputs": [
    {
     "ename": "SyntaxError",
     "evalue": "invalid syntax (1721097707.py, line 6)",
     "output_type": "error",
     "traceback": [
      "\u001b[1;36m  Cell \u001b[1;32mIn[29], line 6\u001b[1;36m\u001b[0m\n\u001b[1;33m    else:\u001b[0m\n\u001b[1;37m    ^\u001b[0m\n\u001b[1;31mSyntaxError\u001b[0m\u001b[1;31m:\u001b[0m invalid syntax\n"
     ]
    }
   ],
   "source": [
    "try:\n",
    "  print(\"try\")\n",
    "except:\n",
    "  print(\"except\")\n",
    "print(\"Hello\")\n",
    "else:\n",
    "  print(\"else\")"
   ]
  },
  {
   "cell_type": "code",
   "execution_count": 30,
   "id": "022e876e-6895-4406-82d3-2671c04b2d7d",
   "metadata": {},
   "outputs": [
    {
     "name": "stdout",
     "output_type": "stream",
     "text": [
      "try\n",
      "try\n"
     ]
    }
   ],
   "source": [
    "try:\n",
    "  print(\"try\")\n",
    "except:\n",
    "  print(\"except\")\n",
    "try:\n",
    "  print(\"try\")\n",
    "except:\n",
    "  print(\"except\")"
   ]
  },
  {
   "cell_type": "code",
   "execution_count": 31,
   "id": "579975e9-b243-4cef-8625-8f9115175097",
   "metadata": {},
   "outputs": [
    {
     "name": "stdout",
     "output_type": "stream",
     "text": [
      "try\n",
      "try\n",
      "finally\n"
     ]
    }
   ],
   "source": [
    "try:\n",
    "  print(\"try\")\n",
    "except:\n",
    "  print(\"except\")\n",
    "try:\n",
    "  print(\"try\")\n",
    "finally:\n",
    "  print(\"finally\")"
   ]
  },
  {
   "cell_type": "code",
   "execution_count": 32,
   "id": "d05f89d8-09e0-421a-8999-c2dad59b00bf",
   "metadata": {},
   "outputs": [
    {
     "name": "stdout",
     "output_type": "stream",
     "text": [
      "try\n",
      "else\n"
     ]
    }
   ],
   "source": [
    "try:\n",
    "  print(\"try\")\n",
    "except:\n",
    "  print(\"except\")\n",
    "if 10>20:\n",
    "  print(\"if\")\n",
    "else:\n",
    "  print(\"else\")"
   ]
  },
  {
   "cell_type": "code",
   "execution_count": 33,
   "id": "cbac2ab5-8838-410c-a42d-5d00335f39ea",
   "metadata": {},
   "outputs": [
    {
     "name": "stdout",
     "output_type": "stream",
     "text": [
      "try\n",
      "inner try\n",
      "inner finally block\n"
     ]
    }
   ],
   "source": [
    "try:\n",
    "  print(\"try\")\n",
    "  try:\n",
    "    print(\"inner try\")\n",
    "  except:\n",
    "    print(\"inner except block\")\n",
    "  finally:\n",
    "    print(\"inner finally block\")\n",
    "except:\n",
    "  print(\"except\")"
   ]
  },
  {
   "cell_type": "code",
   "execution_count": 34,
   "id": "fec7b468-8910-48e0-b58f-00c89438fa83",
   "metadata": {},
   "outputs": [
    {
     "name": "stdout",
     "output_type": "stream",
     "text": [
      "try\n"
     ]
    }
   ],
   "source": [
    "try:\n",
    "  print(\"try\")\n",
    "except:\n",
    "  print(\"except\")\n",
    "  try:\n",
    "    print(\"inner try\")\n",
    "  except:\n",
    "    print(\"inner except block\")\n",
    "  finally:\n",
    "    print(\"inner finally block\")"
   ]
  },
  {
   "cell_type": "code",
   "execution_count": 35,
   "id": "d309a835-59bb-428f-b73e-7bad8bc02a2e",
   "metadata": {},
   "outputs": [
    {
     "name": "stdout",
     "output_type": "stream",
     "text": [
      "try\n",
      "inner try\n",
      "inner finally block\n"
     ]
    }
   ],
   "source": [
    "try:\n",
    "  print(\"try\")\n",
    "except:\n",
    "  print(\"except\")\n",
    "finally:\n",
    "  try:\n",
    "    print(\"inner try\")\n",
    "  except:\n",
    "    print(\"inner except block\")\n",
    "  finally:\n",
    "    print(\"inner finally block\")"
   ]
  },
  {
   "cell_type": "code",
   "execution_count": 36,
   "id": "85f7db67-e2e0-4781-ba11-5b9eb340c45c",
   "metadata": {},
   "outputs": [
    {
     "ename": "SyntaxError",
     "evalue": "expected 'except' or 'finally' block (2892657720.py, line 7)",
     "output_type": "error",
     "traceback": [
      "\u001b[1;36m  Cell \u001b[1;32mIn[36], line 7\u001b[1;36m\u001b[0m\n\u001b[1;33m    else:\u001b[0m\n\u001b[1;37m    ^\u001b[0m\n\u001b[1;31mSyntaxError\u001b[0m\u001b[1;31m:\u001b[0m expected 'except' or 'finally' block\n"
     ]
    }
   ],
   "source": [
    "try:\n",
    "  print(\"try\")\n",
    "except:\n",
    "  print(\"except\")\n",
    "try:\n",
    "  print(\"try\")\n",
    "else:\n",
    "  print(\"else\")"
   ]
  },
  {
   "cell_type": "code",
   "execution_count": 37,
   "id": "e4b22f67-44de-43f3-9e4c-2941d2916e10",
   "metadata": {},
   "outputs": [
    {
     "ename": "IndentationError",
     "evalue": "unexpected indent (970003176.py, line 3)",
     "output_type": "error",
     "traceback": [
      "\u001b[1;36m  Cell \u001b[1;32mIn[37], line 3\u001b[1;36m\u001b[0m\n\u001b[1;33m    try:\u001b[0m\n\u001b[1;37m    ^\u001b[0m\n\u001b[1;31mIndentationError\u001b[0m\u001b[1;31m:\u001b[0m unexpected indent\n"
     ]
    }
   ],
   "source": [
    "try:\n",
    "  print(\"try\")\n",
    "    try:\n",
    "      print(\"inner try\")\n",
    "except:\n",
    "  print(\"except\")"
   ]
  },
  {
   "cell_type": "code",
   "execution_count": 38,
   "id": "048bd25c-3cbc-4176-87a0-5b3d94795580",
   "metadata": {},
   "outputs": [
    {
     "ename": "SyntaxError",
     "evalue": "expected 'except' or 'finally' block (3409961243.py, line 3)",
     "output_type": "error",
     "traceback": [
      "\u001b[1;36m  Cell \u001b[1;32mIn[38], line 3\u001b[1;36m\u001b[0m\n\u001b[1;33m    else:\u001b[0m\n\u001b[1;37m    ^\u001b[0m\n\u001b[1;31mSyntaxError\u001b[0m\u001b[1;31m:\u001b[0m expected 'except' or 'finally' block\n"
     ]
    }
   ],
   "source": [
    "try:\n",
    "  print(\"try\")\n",
    "else:\n",
    "  print(\"else\")\n",
    "except:\n",
    "  print(\"except\")\n",
    "finally:\n",
    "  print(\"finally\")"
   ]
  },
  {
   "cell_type": "code",
   "execution_count": null,
   "id": "d2d16758-0380-4135-ab4e-0277bda86ba4",
   "metadata": {},
   "outputs": [],
   "source": []
  }
 ],
 "metadata": {
  "kernelspec": {
   "display_name": "Python 3 (ipykernel)",
   "language": "python",
   "name": "python3"
  },
  "language_info": {
   "codemirror_mode": {
    "name": "ipython",
    "version": 3
   },
   "file_extension": ".py",
   "mimetype": "text/x-python",
   "name": "python",
   "nbconvert_exporter": "python",
   "pygments_lexer": "ipython3",
   "version": "3.12.5"
  }
 },
 "nbformat": 4,
 "nbformat_minor": 5
}
