{
 "cells": [
  {
   "cell_type": "code",
   "execution_count": 8,
   "metadata": {},
   "outputs": [
    {
     "ename": "IndentationError",
     "evalue": "unexpected indent (1429720093.py, line 41)",
     "output_type": "error",
     "traceback": [
      "\u001b[0;36m  Cell \u001b[0;32mIn[8], line 41\u001b[0;36m\u001b[0m\n\u001b[0;31m    addin_재고 = int(input(f'{order_name}의 추가할 개수를 입력하세요.'))\u001b[0m\n\u001b[0m    ^\u001b[0m\n\u001b[0;31mIndentationError\u001b[0m\u001b[0;31m:\u001b[0m unexpected indent\n"
     ]
    }
   ],
   "source": [
    "# 붕어빵 재고를 \"재고\"로 변수 설정\n",
    "재고 = {\n",
    "  \"팥붕어빵\": 10, \n",
    "  \"슈크림붕어빵\": 8, \n",
    "  \"초코붕어빵\": 8\n",
    "}\n",
    "# 초기 가격 설정\n",
    "prices = {\n",
    "  \"팥붕어빵\" : 1000,\n",
    "  \"슈크림붕어빵\" : 1200,\n",
    "  \"초코붕어빵\" : 1500\n",
    "}\n",
    "# 팔린 붕어빵에 대해서 값을 받기 위해 0으로 초기화\n",
    "sales = {\n",
    "  \"팥붕어빵\" : 0,\n",
    "  \"슈크림붕어빵\" : 0,\n",
    "  \"초코붕어빵\" : 0\n",
    "}\n",
    "\n",
    "\n",
    "\n",
    "while True:\n",
    "  mode = input(\"원하는 모드를 선택하세요.(주문, 관리자, 종료)\")\n",
    "\n",
    "  if mode == \"종료\":    # 가장 먼저 작성하는 이유는 break로 실행이 끝나기 때문에 효율성을 위해서 맨 처음에 두는 것이 좋다. 아니면 모든 조건을 확인하고 맨 아래에서 break를 실행하게됨.\n",
    "    break\n",
    "\n",
    "  if mode == \"관리자\":\n",
    "    while True:\n",
    "      print(\"관리자 모드가 실행됩니다.\")\n",
    "      order_name = input('추가할 불어빵 종류를 입력하세요. (팥붕어빵, 슈크림붕어빵, 초코붕어빵), 종료를 원하시면 \"exit\"를 입력해주세요.')\n",
    "      if order_name == \"exit\":\n",
    "        break\n",
    "\n",
    "      \n",
    "\n",
    "  addin_재고 = int(input(f'{order_name}의 추가할 개수를 입력하세요.'))\n",
    "  재고[order_name] += addin_재고\n",
    "  print(f'{order_name}의 재고는 {addin_재고}개 추가되었습니다.')\n",
    "  print(\"현재 남은 재고는 아래와 같습니다.\")\n",
    "  for type, count in 재고.items(): # items메서드를 사용해야 dict의 정확한 키와 밸류값을 반환한다.\n",
    "    print(f\"{order_name} : {order_count}\")\n",
    "\n",
    "  if mode == \"주문\":\n",
    "    order_count = int(input(\"주문할 붕어빵의 갯수를 입력해주세요.(잘못 누르신 경우 exit를 입력해주세요)\"))\n",
    "    order_name == \"exit\"\n",
    "    break\n",
    "\n",
    "  order_count = int(input(\"주문할 붕어빵 갯수를 입력해주세요.\"))\n",
    "  order_name = int(input(\"구매하실 붕어빵의 갯수를 작성해주세요.\"))\n",
    "  if 재고[order_name] >= order[order_name]:\n",
    "    재고[order_name] = 재고[order_values] - order_count\n",
    "    print(f'{order_name} {order_values}개를 판매했습니다.')\n",
    "  else:\n",
    "    print(\"상품의 재고가 부족합니다.\")\n",
    "\n",
    "total_sales = 0\n",
    "for order in sales:\n",
    "  total_sales += sales[order] * prices[order]\n",
    "  print(f\"총 매출: {total_sales}입니다.\")"
   ]
  }
 ],
 "metadata": {
  "kernelspec": {
   "display_name": "Python 3",
   "language": "python",
   "name": "python3"
  },
  "language_info": {
   "codemirror_mode": {
    "name": "ipython",
    "version": 3
   },
   "file_extension": ".py",
   "mimetype": "text/x-python",
   "name": "python",
   "nbconvert_exporter": "python",
   "pygments_lexer": "ipython3",
   "version": "3.9.6"
  }
 },
 "nbformat": 4,
 "nbformat_minor": 2
}
