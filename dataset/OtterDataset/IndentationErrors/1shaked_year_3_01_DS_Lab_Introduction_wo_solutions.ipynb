{
 "cells": [
  {
   "cell_type": "markdown",
   "metadata": {},
   "source": [
    "**כל הזכויות שמורות לי - דר׳ אלכסנדרה ליטינסקי סימנובסקי אין לעתיק ולהשתמש בחומר ללא רשות**"
   ]
  },
  {
   "cell_type": "markdown",
   "metadata": {},
   "source": [
    "# **Lab #1 - Python Introduction**"
   ]
  },
  {
   "cell_type": "markdown",
   "metadata": {},
   "source": [
    "# **0 - Installation and Quick Start**"
   ]
  },
  {
   "cell_type": "markdown",
   "metadata": {},
   "source": [
    "## **Installation**\n",
    "\n",
    "Install Python (but it is probably already installed.\n",
    "\n",
    "\n",
    "In Data Science, it is common to use [Anaconda](https://www.anaconda.com/products/individual-d) to download and install Python and its environment."
   ]
  },
  {
   "cell_type": "markdown",
   "metadata": {},
   "source": [
    "## **Writing Code**\n",
    "\n",
    "Several options exists, more ore less user-friendly."
   ]
  },
  {
   "cell_type": "markdown",
   "metadata": {},
   "source": [
    "### **In the python shell**\n",
    "\n",
    "\n",
    "The python shell can be launched by typing the command `python` in a terminal (this works on Linux, Mac, and Windows with PowerShell). To exit it, type `exit()`.\n",
    "\n",
    "\n",
    "\n",
    "From the shell, you can enter Python code that will be executed on the run as you press Enter. As long as you are in the same shell, you keep your variables, but as soon as you exit it, everything is lost. It might not be the best option...\n",
    "\n"
   ]
  },
  {
   "cell_type": "markdown",
   "metadata": {},
   "source": [
    "### **From a file**\n",
    "\n",
    "\n",
    "You can write your code in a file and then execute it with Python. The extension of Python files is typically `.py`.\n",
    "\n",
    "If you create a file `test.py`  (using any text editor) containing the following code:\n",
    "\n",
    "---\n",
    "~~~\n",
    "a = 10\n",
    "a = a + 7\n",
    "\n",
    "print(a)\n",
    "~~~\n",
    "---\n",
    "\n",
    "Then, you can run it using the command `python test.py` in a terminal from the *same folder* as the file.\n",
    "\n",
    "\n",
    "\n",
    "\n",
    "This is a conveniant solution to run some code but it is probably not the best way to code.\n",
    "\n",
    "------------------------\n",
    "\n",
    "### Using an integrated development environment (IDE)\n",
    "\n",
    "\n",
    "You can edit you Python code files with IDEs that offer debuggers, syntax checking, etc. Two popular exemples are:\n",
    "\n",
    "* [VS Code](https://code.visualstudio.com/) which has a very good Python integration while not being restricted to it. \n",
    "* [Pycharm](https://www.jetbrains.com/pycharm/) \n",
    "\n"
   ]
  },
  {
   "cell_type": "markdown",
   "metadata": {},
   "source": [
    "---\n",
    "### Jupyter notebooks\n",
    "\n",
    "\n",
    "[Jupyter notebooks](https://jupyter.org/) are browser-based notebooks for Julia, Python, and R, they correspond to `.ipynb` files. The main features of jupyter notebooks are:\n",
    "* In-browser editing for code, with automatic syntax highlighting, indentation, and tab completion/introspection.\n",
    "* The ability to execute code from the browser and plot inline.\n",
    "* In-browser editing for rich text using the Markdown markup language.\n",
    "* The ability to include mathematical notation within markdown cells using LaTeX, and rendered natively by MathJax.\n",
    "\n",
    "\n",
    "#### **Installation** \n",
    "\n",
    "In a terminal, enter `python -m pip install notebook` or simply `pip install notebook`\n",
    "\n",
    "*Note :* Anaconda directly comes with notebooks, they can be lauched from the Navigator directly.\n",
    "\n",
    "\n",
    "#### **Use**\n",
    "\n",
    "To lauch Jupyter, enter `jupyter notebook`. \n",
    "\n",
    "This starts a *kernel* (a process that runs and interfaces the notebook content with an (i)Python shell) and opens a tab in the *browser*. The whole interface of Jupyter notebook is *web-based* and can be accessed at the address http://localhost:8888 .\n",
    "\n",
    "Then, you can either create a new notebook or open a notebooks (`.ipynb` file) of the current folder. \n",
    "\n",
    "*Note :* Closing the tab *does not terminate* the notebook, it can still be accessed at the above adress. To terminate it, use the interface (File -> Close and Halt) or in the kernel terminal type `Ctrl+C`.\n",
    "\n",
    "\n",
    "#### **Remote notebook exectution**\n",
    "\n",
    "Without any installation, you can:\n",
    "* *view* notebooks using [NBViewer](https://nbviewer.jupyter.org/)\n",
    "* *fully interact* with notebooks  [Google Colab](https://colab.research.google.com/)"
   ]
  },
  {
   "cell_type": "markdown",
   "metadata": {},
   "source": [
    "---\n",
    "#### **Interface**\n",
    "\n",
    "Notebook documents contains the inputs and outputs of an interactive python shell as well as additional text that accompanies the code but is not meant for execution. In this way, notebook files can serve as a complete computational record of a session, interleaving executable code with explanatory text, mathematics, and representations of resulting objects. These documents are saved with the `.ipynb` extension. \n",
    "\n",
    "Notebooks may be exported to a range of static formats, including HTML (for example, for blog posts), LaTeX, PDF, etc. by `File->Download as`\n",
    "\n",
    "\n",
    "\n",
    "##### **Editing notebooks**\n",
    "You can modify the title (that is the file name) by clicking on it next to the jupyter logo. \n",
    "The notebooks are a succession of *cells*, that can be of four types:\n",
    "* `code` for python code (as in ipython)\n",
    "* `markdown` for text in Markdown formatting (see this [Cheatsheet](https://github.com/adam-p/markdown-here/wiki/Markdown-Cheatsheet)). You may additionally use HTML and Latex math formulas.\n",
    "* `raw` and `heading` are less used for raw text and titles\n",
    "\n",
    "##### **Cells**\n",
    "You can *edit* a cell by double-clicking on it.\n",
    "You can *run* a cell by using the menu or typing `Ctrl+Enter` (You can also run all cells, all cells above a certain point). It if is a text cell, it will be formatted. If it is a code cell it will run as it was entered in a ipython shell, which means all previous actions, functions, variables defined, are persistent. To get a clean slate, your have to *restart the kernel* by using `Kernel->Restart`.\n",
    "\n",
    "##### **Useful commands**\n",
    "\n",
    "* `Tab` autocompletes\n",
    "* `Shift+Tab` gives the docstring of the input function\n",
    "* `?` return the help\n",
    "\n"
   ]
  },
  {
   "cell_type": "markdown",
   "metadata": {},
   "source": [
    "# 1- Numbers and Variables\n",
    "\n",
    "\n",
    "## Variables\n"
   ]
  },
  {
   "cell_type": "code",
   "execution_count": 1,
   "metadata": {},
   "outputs": [
    {
     "data": {
      "text/plain": [
       "5"
      ]
     },
     "execution_count": 1,
     "metadata": {},
     "output_type": "execute_result"
    }
   ],
   "source": [
    "2 + 2 + 1 # comment"
   ]
  },
  {
   "cell_type": "markdown",
   "metadata": {},
   "source": [
    "## Variable Assignment\n",
    "- Binding a variable in Python means setting a name to hold a reference to some object.\n",
    "- Assignment creates references, not copies (like Java)\n",
    "- A variable is created the first time it appears on the left side of an assignment expression:\n",
    "    x = 3\n",
    "- An object is deleted (by the garbage collector) once it becomes unreachable.\n",
    "- Names in Python do not have an intrinsic type. Objects have types.\n",
    "- Python determines the type of the reference automatically based on what data is assigned to it.\n",
    "\n",
    "\n",
    "* when you want to assign a value to a variable you just use =\n",
    "* You can use the function: type to see the type"
   ]
  },
  {
   "cell_type": "code",
   "execution_count": 37,
   "metadata": {},
   "outputs": [],
   "source": [
    "# Can not start with number or special characters\n",
    "name_of_var = 2\n",
    "x = 2\n",
    "y = 3\n",
    "z = x + y"
   ]
  },
  {
   "cell_type": "markdown",
   "metadata": {},
   "source": [
    "Note that the line above doesn't print the value of z. \n",
    "After an assignment, Jupyter doesn't print the result.\n",
    "To view its value, add a line with the variable name:"
   ]
  },
  {
   "cell_type": "code",
   "execution_count": 38,
   "metadata": {},
   "outputs": [
    {
     "data": {
      "text/plain": [
       "5"
      ]
     },
     "execution_count": 38,
     "metadata": {},
     "output_type": "execute_result"
    }
   ],
   "source": [
    "z"
   ]
  },
  {
   "cell_type": "code",
   "execution_count": 1,
   "metadata": {},
   "outputs": [
    {
     "name": "stdout",
     "output_type": "stream",
     "text": [
      "4\n"
     ]
    }
   ],
   "source": [
    "a = 4\n",
    "print(a)\n"
   ]
  },
  {
   "cell_type": "code",
   "execution_count": 3,
   "metadata": {},
   "outputs": [
    {
     "name": "stdout",
     "output_type": "stream",
     "text": [
      "4\n",
      "9000\n"
     ]
    }
   ],
   "source": [
    "a,x = 4, 9000\n",
    "print(a)\n",
    "print(x)"
   ]
  },
  {
   "cell_type": "markdown",
   "metadata": {},
   "source": [
    "* Variables names can contain `a-z`, `A-Z`, `0-9` and some special character as `_` but must always begin by a letter. By convention, variables names are smallcase. \n",
    "\n",
    "\n",
    "## **Types**\n",
    "\n",
    "* Variables are *weakly typed* in python which means that their type is deduced from the context: the initialization or the types of the variables used for its computation. Observe the following example.\n",
    "\n",
    "\n",
    "### **The three types of variables for today**\n",
    "        1. int - integer\n",
    "        2. float - non interger **Number**\n",
    "        3. String - Text variable  "
   ]
  },
  {
   "cell_type": "markdown",
   "metadata": {},
   "source": [
    "* You can use the function: type to see the type"
   ]
  },
  {
   "cell_type": "code",
   "execution_count": 6,
   "metadata": {},
   "outputs": [
    {
     "name": "stdout",
     "output_type": "stream",
     "text": [
      "my_int type is <class 'int'>, my_float type is: <class 'float'>, my_string type is : <class 'str'>\n"
     ]
    }
   ],
   "source": [
    "my_int = 5\n",
    "my_float = 5.0\n",
    "my_string = 'my_string_value'\n",
    "print (f'my_int type is {type(my_int)}, my_float type is: {type(my_float)}, my_string type is : {type(my_string)}')"
   ]
  },
  {
   "cell_type": "code",
   "execution_count": 4,
   "metadata": {},
   "outputs": [
    {
     "name": "stdout",
     "output_type": "stream",
     "text": [
      "Integer\n",
      "3 <class 'int'>\n",
      "\n",
      "Float\n",
      "3.14 <class 'float'>\n",
      "\n",
      "Complex\n",
      "(3.14+2j) <class 'complex'>\n",
      "3.14 <class 'float'>\n",
      "2.0 <class 'float'>\n"
     ]
    }
   ],
   "source": [
    "print(\"Integer\")\n",
    "a = 3\n",
    "print(a,type(a))\n",
    "\n",
    "print(\"\\nFloat\")\n",
    "b = 3.14\n",
    "print(b,type(b))\n",
    "\n",
    "print(\"\\nComplex\")\n",
    "c = 3.14 + 2j\n",
    "print(c,type(c))\n",
    "print(c.real,type(c.real))\n",
    "print(c.imag,type(c.imag))"
   ]
  },
  {
   "cell_type": "markdown",
   "metadata": {},
   "source": [
    "This typing can lead to some variable having unwanted types, which can be resolved by *casting*"
   ]
  },
  {
   "cell_type": "code",
   "execution_count": 5,
   "metadata": {},
   "outputs": [
    {
     "name": "stdout",
     "output_type": "stream",
     "text": [
      "(-1+0j) <class 'complex'>\n",
      "-1.0 <class 'float'>\n",
      "-1 <class 'int'>\n"
     ]
    }
   ],
   "source": [
    "d = 1j*1j\n",
    "print(d,type(d))\n",
    "d = d.real\n",
    "print(d,type(d))\n",
    "d = int(d)\n",
    "print(d,type(d))"
   ]
  },
  {
   "cell_type": "code",
   "execution_count": 6,
   "metadata": {},
   "outputs": [
    {
     "name": "stdout",
     "output_type": "stream",
     "text": [
      "3.3333333333333335 <class 'float'>\n",
      "1.0 <class 'float'>\n",
      "1 <class 'int'>\n"
     ]
    }
   ],
   "source": [
    "e = 10/3\n",
    "print(e,type(e))\n",
    "f = (10/3)/(10/3)\n",
    "print(f,type(f))\n",
    "f = int((10/3)/(10/3))\n",
    "print(f,type(f))"
   ]
  },
  {
   "cell_type": "markdown",
   "metadata": {},
   "source": [
    "**How to assign a value to a function?**\n",
    "- Just put it in the () parentheses\n",
    "How do you call that?\n",
    "That is an **argument**\n",
    "\n"
   ]
  },
  {
   "cell_type": "code",
   "execution_count": 7,
   "metadata": {},
   "outputs": [
    {
     "name": "stdout",
     "output_type": "stream",
     "text": [
      "Hello World!\n"
     ]
    }
   ],
   "source": [
    "print('Hello World!')"
   ]
  },
  {
   "cell_type": "markdown",
   "metadata": {},
   "source": [
    "## **Operation on numbers**\n",
    "\n",
    "The usual operations are \n",
    "* Multiplication and Division with respecively `*` and `/`\n",
    "* Exponent with `**`\n",
    "* Modulo with `%`"
   ]
  },
  {
   "cell_type": "code",
   "execution_count": 7,
   "metadata": {},
   "outputs": [
    {
     "name": "stdout",
     "output_type": "stream",
     "text": [
      "21.0 <class 'float'>\n"
     ]
    }
   ],
   "source": [
    "print(7 * 3., type(7 * 3.))  # int x float -> float"
   ]
  },
  {
   "cell_type": "code",
   "execution_count": 8,
   "metadata": {},
   "outputs": [
    {
     "name": "stdout",
     "output_type": "stream",
     "text": [
      "1.5 <class 'float'>\n",
      "1.5 <class 'float'>\n"
     ]
    }
   ],
   "source": [
    "print(3/2, type(3/2))  #  float in Python 3\n",
    "print(3/2., type(3/2.)) # To be sure"
   ]
  },
  {
   "cell_type": "code",
   "execution_count": 9,
   "metadata": {},
   "outputs": [
    {
     "name": "stdout",
     "output_type": "stream",
     "text": [
      "1024 <class 'int'>\n"
     ]
    }
   ],
   "source": [
    "print(2**10, type(2**10))  "
   ]
  },
  {
   "cell_type": "code",
   "execution_count": 10,
   "metadata": {},
   "outputs": [
    {
     "name": "stdout",
     "output_type": "stream",
     "text": [
      "0 <class 'int'>\n"
     ]
    }
   ],
   "source": [
    "print(8%2, type(8%2))  "
   ]
  },
  {
   "cell_type": "code",
   "execution_count": 8,
   "metadata": {},
   "outputs": [
    {
     "data": {
      "text/plain": [
       "9"
      ]
     },
     "execution_count": 8,
     "metadata": {},
     "output_type": "execute_result"
    }
   ],
   "source": [
    "# int to int --> int\n",
    "5 + 4"
   ]
  },
  {
   "cell_type": "code",
   "execution_count": 9,
   "metadata": {},
   "outputs": [
    {
     "data": {
      "text/plain": [
       "2.0"
      ]
     },
     "execution_count": 9,
     "metadata": {},
     "output_type": "execute_result"
    }
   ],
   "source": [
    "# int / int --> float\n",
    "# float / float --> float\n",
    "6 / 3"
   ]
  },
  {
   "cell_type": "code",
   "execution_count": 10,
   "metadata": {},
   "outputs": [
    {
     "data": {
      "text/plain": [
       "18"
      ]
     },
     "execution_count": 10,
     "metadata": {},
     "output_type": "execute_result"
    }
   ],
   "source": [
    "# int * int --> int\n",
    "6 * 3"
   ]
  },
  {
   "cell_type": "code",
   "execution_count": 11,
   "metadata": {},
   "outputs": [
    {
     "data": {
      "text/plain": [
       "'my_string_valuemy_string_value'"
      ]
     },
     "execution_count": 11,
     "metadata": {},
     "output_type": "execute_result"
    }
   ],
   "source": [
    "my_string + my_string"
   ]
  },
  {
   "cell_type": "code",
   "execution_count": 12,
   "metadata": {},
   "outputs": [
    {
     "ename": "TypeError",
     "evalue": "unsupported operand type(s) for -: 'str' and 'str'",
     "output_type": "error",
     "traceback": [
      "\u001b[0;31m---------------------------------------------------------------------------\u001b[0m",
      "\u001b[0;31mTypeError\u001b[0m                                 Traceback (most recent call last)",
      "\u001b[0;32m<ipython-input-12-46262ea83a9d>\u001b[0m in \u001b[0;36m<module>\u001b[0;34m\u001b[0m\n\u001b[0;32m----> 1\u001b[0;31m \u001b[0mmy_string\u001b[0m \u001b[0;34m-\u001b[0m \u001b[0mmy_string\u001b[0m\u001b[0;34m\u001b[0m\u001b[0;34m\u001b[0m\u001b[0m\n\u001b[0m",
      "\u001b[0;31mTypeError\u001b[0m: unsupported operand type(s) for -: 'str' and 'str'"
     ]
    }
   ],
   "source": [
    "my_string - my_string"
   ]
  },
  {
   "cell_type": "code",
   "execution_count": 13,
   "metadata": {},
   "outputs": [
    {
     "ename": "TypeError",
     "evalue": "unsupported operand type(s) for /: 'str' and 'str'",
     "output_type": "error",
     "traceback": [
      "\u001b[0;31m---------------------------------------------------------------------------\u001b[0m",
      "\u001b[0;31mTypeError\u001b[0m                                 Traceback (most recent call last)",
      "\u001b[0;32m<ipython-input-13-164568a00c39>\u001b[0m in \u001b[0;36m<module>\u001b[0;34m\u001b[0m\n\u001b[0;32m----> 1\u001b[0;31m \u001b[0mmy_string\u001b[0m \u001b[0;34m/\u001b[0m \u001b[0mmy_string\u001b[0m\u001b[0;34m\u001b[0m\u001b[0;34m\u001b[0m\u001b[0m\n\u001b[0m",
      "\u001b[0;31mTypeError\u001b[0m: unsupported operand type(s) for /: 'str' and 'str'"
     ]
    }
   ],
   "source": [
    "my_string / my_string"
   ]
  },
  {
   "cell_type": "code",
   "execution_count": 14,
   "metadata": {},
   "outputs": [
    {
     "ename": "TypeError",
     "evalue": "can't multiply sequence by non-int of type 'str'",
     "output_type": "error",
     "traceback": [
      "\u001b[0;31m---------------------------------------------------------------------------\u001b[0m",
      "\u001b[0;31mTypeError\u001b[0m                                 Traceback (most recent call last)",
      "\u001b[0;32m<ipython-input-14-f4df06c60ca6>\u001b[0m in \u001b[0;36m<module>\u001b[0;34m\u001b[0m\n\u001b[0;32m----> 1\u001b[0;31m \u001b[0mmy_string\u001b[0m \u001b[0;34m*\u001b[0m \u001b[0mmy_string\u001b[0m\u001b[0;34m\u001b[0m\u001b[0;34m\u001b[0m\u001b[0m\n\u001b[0m",
      "\u001b[0;31mTypeError\u001b[0m: can't multiply sequence by non-int of type 'str'"
     ]
    }
   ],
   "source": [
    "my_string * my_string"
   ]
  },
  {
   "cell_type": "code",
   "execution_count": 15,
   "metadata": {},
   "outputs": [
    {
     "data": {
      "text/plain": [
       "'my_string_valuemy_string_valuemy_string_value'"
      ]
     },
     "execution_count": 15,
     "metadata": {},
     "output_type": "execute_result"
    }
   ],
   "source": [
    "my_string * 3"
   ]
  },
  {
   "cell_type": "markdown",
   "metadata": {},
   "source": [
    "## **Booleans** \n",
    "\n",
    "Python  comes with Booleans (with predefined True and False displays that are basically just the integers 1 and 0). \n",
    "\n",
    "It also has a placeholder object called **None**.\n",
    "\n",
    "\n",
    "Boolean is the type of a variable `True` or `False` and thus are extremely useful when coding. \n",
    "* They can be obtained by comparisons  `>`, `>=` (greater, greater or égal), `<`, `<=` (smaller, smaller or equal) or membership `==` , `!=` (equality, different).\n",
    "* They can be manipulated by the logical operations `and`, `not`, `or`. "
   ]
  },
  {
   "cell_type": "markdown",
   "metadata": {},
   "source": [
    "\n",
    "<table class=\"table table-bordered\">\n",
    "<tr>\n",
    "<th style=\"width:10%\">Operator</th><th style=\"width:45%\">Description</th><th>Example</th>\n",
    "</tr>\n",
    "<tr>\n",
    "<td>==</td>\n",
    "<td>If the values of two operands are equal, then the condition becomes true.</td>\n",
    "<td> (a == b) is not true.</td>\n",
    "</tr>\n",
    "<tr>\n",
    "<td>!=</td>\n",
    "<td>If values of two operands are not equal, then condition becomes true.</td>\n",
    "</tr>\n",
    "<tr>\n",
    "<td>&lt;&gt;</td>\n",
    "<td>If values of two operands are not equal, then condition becomes true.</td>\n",
    "<td> (a &lt;&gt; b) is true. This is similar to != operator.</td>\n",
    "</tr>\n",
    "<tr>\n",
    "<td>&gt;</td>\n",
    "<td>If the value of left operand is greater than the value of right operand, then condition becomes true.</td>\n",
    "<td> (a &gt; b) is not true.</td>\n",
    "</tr>\n",
    "<tr>\n",
    "<td>&lt;</td>\n",
    "<td>If the value of left operand is less than the value of right operand, then condition becomes true.</td>\n",
    "<td> (a &lt; b) is true.</td>\n",
    "</tr>\n",
    "<tr>\n",
    "<td>&gt;=</td>\n",
    "<td>If the value of left operand is greater than or equal to the value of right operand, then condition becomes true.</td>\n",
    "<td> (a &gt;= b) is not true. </td>\n",
    "</tr>\n",
    "<tr>\n",
    "<td>&lt;=</td>\n",
    "<td>If the value of left operand is less than or equal to the value of right operand, then condition becomes true.</td>\n",
    "<td> (a &lt;= b) is true. </td>\n",
    "</tr>\n",
    "</table>"
   ]
  },
  {
   "cell_type": "code",
   "execution_count": 78,
   "metadata": {},
   "outputs": [
    {
     "data": {
      "text/plain": [
       "True"
      ]
     },
     "execution_count": 78,
     "metadata": {},
     "output_type": "execute_result"
    }
   ],
   "source": [
    "# Set object to be a boolean\n",
    "a = True\n",
    "#Show\n",
    "a"
   ]
  },
  {
   "cell_type": "code",
   "execution_count": 79,
   "metadata": {},
   "outputs": [
    {
     "data": {
      "text/plain": [
       "False"
      ]
     },
     "execution_count": 79,
     "metadata": {},
     "output_type": "execute_result"
    }
   ],
   "source": [
    "not a"
   ]
  },
  {
   "cell_type": "code",
   "execution_count": 85,
   "metadata": {},
   "outputs": [
    {
     "name": "stdout",
     "output_type": "stream",
     "text": [
      "2 > 1\t True\n",
      "2 > 2\t False\n",
      "2 >= 2\t True\n",
      "2 == 2\t True\n",
      "2 == 2.0 True\n",
      "2 != 1.9 True\n",
      "ho == bey False\n"
     ]
    }
   ],
   "source": [
    "print('2 > 1\\t', 2 > 1)   \n",
    "print('2 > 2\\t', 2 > 2) \n",
    "print('2 >= 2\\t',2 >= 2) \n",
    "print('2 == 2\\t',2 == 2) \n",
    "print('2 == 2.0',2 == 2.0) \n",
    "print('2 != 1.9',2 != 1.9)\n",
    "print ('ho == bey', 'hi' == 'bye') "
   ]
  },
  {
   "cell_type": "code",
   "execution_count": 12,
   "metadata": {},
   "outputs": [
    {
     "name": "stdout",
     "output_type": "stream",
     "text": [
      "False\n",
      "True\n",
      "True\n"
     ]
    }
   ],
   "source": [
    "print(True and False)\n",
    "print(True or True)\n",
    "print(not False)"
   ]
  },
  {
   "cell_type": "markdown",
   "metadata": {},
   "source": [
    "We can use None as a placeholder for an object that we don't want to reassign yet:"
   ]
  },
  {
   "cell_type": "code",
   "execution_count": 80,
   "metadata": {},
   "outputs": [
    {
     "name": "stdout",
     "output_type": "stream",
     "text": [
      "None\n"
     ]
    }
   ],
   "source": [
    "# None placeholder\n",
    "b = None\n",
    "print (b)"
   ]
  },
  {
   "cell_type": "markdown",
   "metadata": {},
   "source": [
    "### **Null values**\n",
    "\n",
    "- Sometimes we represent \"no data\" or \"not applicable\".  \n",
    "\n",
    "- In Python we use the special value `None`.\n",
    "\n",
    "- This corresponds to `Null` in Java or SQL."
   ]
  },
  {
   "cell_type": "code",
   "execution_count": 82,
   "metadata": {},
   "outputs": [],
   "source": [
    "# When we fetch the value `None` in the interactive interpreter, no result is printed out.\n",
    "\n",
    "result = None\n",
    "result"
   ]
  },
  {
   "cell_type": "markdown",
   "metadata": {},
   "source": [
    "- We can check whether there is a result or not using the `is` operator:"
   ]
  },
  {
   "cell_type": "code",
   "execution_count": 83,
   "metadata": {},
   "outputs": [
    {
     "data": {
      "text/plain": [
       "True"
      ]
     },
     "execution_count": 83,
     "metadata": {},
     "output_type": "execute_result"
    }
   ],
   "source": [
    "result is None"
   ]
  },
  {
   "cell_type": "code",
   "execution_count": 84,
   "metadata": {},
   "outputs": [
    {
     "data": {
      "text/plain": [
       "False"
      ]
     },
     "execution_count": 84,
     "metadata": {},
     "output_type": "execute_result"
    }
   ],
   "source": [
    "x = 5\n",
    "x is None"
   ]
  },
  {
   "cell_type": "markdown",
   "metadata": {},
   "source": [
    "- Logic Operators"
   ]
  },
  {
   "cell_type": "code",
   "execution_count": 86,
   "metadata": {},
   "outputs": [
    {
     "data": {
      "text/plain": [
       "False"
      ]
     },
     "execution_count": 86,
     "metadata": {},
     "output_type": "execute_result"
    }
   ],
   "source": [
    "(1 > 2) and (2 < 3)"
   ]
  },
  {
   "cell_type": "code",
   "execution_count": 87,
   "metadata": {},
   "outputs": [
    {
     "data": {
      "text/plain": [
       "True"
      ]
     },
     "execution_count": 87,
     "metadata": {},
     "output_type": "execute_result"
    }
   ],
   "source": [
    "(1 > 2) or (2 < 3)"
   ]
  },
  {
   "cell_type": "code",
   "execution_count": 88,
   "metadata": {},
   "outputs": [
    {
     "data": {
      "text/plain": [
       "True"
      ]
     },
     "execution_count": 88,
     "metadata": {},
     "output_type": "execute_result"
    }
   ],
   "source": [
    "(1 == 2) or (2 == 3) or (4 == 4)"
   ]
  },
  {
   "cell_type": "markdown",
   "metadata": {},
   "source": [
    "## **Lists**\n",
    "\n",
    "Lists are the base element for sequences of variables in python, they are themselves a variable type. \n",
    "* The syntax to write them is `[ ... , ... ]`\n",
    "* The types of the elements may not be all the same\n",
    "* The indices begin at $0$ (`l[0]` is the first element of `l`)\n",
    "* Lists can be nested (lists of lists of ...)\n",
    "* They are mutable, meaning the elements inside a list can be changed.\n",
    "\n",
    "*Warning:* Another type called *tuple* with the syntax `( ... , ... )` exists in Python. It has almost the same structure than list to the notable exceptions that one cannot add or remove elements from a tuple. We will see them briefly later "
   ]
  },
  {
   "cell_type": "code",
   "execution_count": 18,
   "metadata": {},
   "outputs": [
    {
     "name": "stdout",
     "output_type": "stream",
     "text": [
      "[1, 2, 3, [4, 8], True, 2.3] <class 'list'>\n"
     ]
    }
   ],
   "source": [
    "# We just created a list of integers, but lists can actually hold different object types. For example:\n",
    "l = [1, 2, 3, [4,8] , True , 2.3]\n",
    "print(l, type(l))"
   ]
  },
  {
   "cell_type": "code",
   "execution_count": 19,
   "metadata": {},
   "outputs": [
    {
     "name": "stdout",
     "output_type": "stream",
     "text": [
      "1 <class 'int'>\n",
      "[4, 8] <class 'list'>\n",
      "8 <class 'int'>\n"
     ]
    }
   ],
   "source": [
    "print(l[0],type(l[0]))\n",
    "print(l[3],type(l[3]))\n",
    "print(l[3][1],type(l[3][1]))"
   ]
  },
  {
   "cell_type": "code",
   "execution_count": 20,
   "metadata": {},
   "outputs": [
    {
     "name": "stdout",
     "output_type": "stream",
     "text": [
      "[1, 2, 3, [4, 8], True, 2.3]\n",
      "[True, 2.3]\n",
      "[1, 2, 3, [4, 8], True]\n",
      "[True]\n",
      "[2, [4, 8], 2.3]\n",
      "[2.3, True, [4, 8], 3, 2, 1]\n",
      "2.3\n"
     ]
    }
   ],
   "source": [
    "print(l)\n",
    "print(l[4:]) # l[4:] is l from the position 4 (included)\n",
    "print(l[:5]) # l[:5] is l up to position 5 (excluded)\n",
    "print(l[4:5]) # l[4:5] is l between 4 (included) and 5 (excluded) so just 4\n",
    "print(l[1:6:2])  # l[1:6:2] is l between 1 (included) and 6 (excluded) by steps of 2 thus 1,3,5\n",
    "print(l[::-1]) # reversed order\n",
    "print(l[-1]) # last element"
   ]
  },
  {
   "cell_type": "markdown",
   "metadata": {},
   "source": [
    "### **Operations on lists**\n",
    "\n",
    "One can add, insert, remove, count, or test if a element is in a list easily"
   ]
  },
  {
   "cell_type": "code",
   "execution_count": 22,
   "metadata": {},
   "outputs": [
    {
     "name": "stdout",
     "output_type": "stream",
     "text": [
      "[1, 2, 3, [4, 8], True, 2.3, 10]\n"
     ]
    }
   ],
   "source": [
    "l.append(10)   # Add an element to l (the list is not copied, it is actually l that is modified)\n",
    "print(l)"
   ]
  },
  {
   "cell_type": "code",
   "execution_count": 23,
   "metadata": {},
   "outputs": [
    {
     "name": "stdout",
     "output_type": "stream",
     "text": [
      "[1, 'u', 2, 3, [4, 8], True, 2.3, 10]\n"
     ]
    }
   ],
   "source": [
    "l.insert(1,'u')   # Insert an element at position 1 in l (the list is not copied, it is actually l that is modified)\n",
    "print(l)"
   ]
  },
  {
   "cell_type": "code",
   "execution_count": 24,
   "metadata": {},
   "outputs": [
    {
     "name": "stdout",
     "output_type": "stream",
     "text": [
      "[1, 'u', 2, 3, [4, 8], True, 2.3]\n"
     ]
    }
   ],
   "source": [
    "l.remove(10) # Remove the first element 10 of l \n",
    "print(l)"
   ]
  },
  {
   "cell_type": "code",
   "execution_count": 25,
   "metadata": {},
   "outputs": [
    {
     "name": "stdout",
     "output_type": "stream",
     "text": [
      "7\n",
      "True\n"
     ]
    }
   ],
   "source": [
    "print(len(l)) # length of a list\n",
    "print(2 in l)  # test if 2 is in l"
   ]
  },
  {
   "cell_type": "markdown",
   "metadata": {},
   "source": [
    "### **Handling lists**\n",
    "\n",
    "Lists are *pointer*-like types. Meaning that if you write `l2=l`, you *do not copy* `l` to `l2` but rather copy the pointer so modifying one, will modify the other.\n",
    "\n",
    "The proper way to copy list is to use the dedicated `copy` method for list variables. "
   ]
  },
  {
   "cell_type": "code",
   "execution_count": 72,
   "metadata": {},
   "outputs": [
    {
     "name": "stdout",
     "output_type": "stream",
     "text": [
      "['u', 2, 3, [4, 8], True, 2.3, 'Something'] ['u', 2, 3, [4, 8], True, 2.3, 'Something']\n"
     ]
    }
   ],
   "source": [
    "l2 = l \n",
    "l.append('Something')\n",
    "print(l,l2)"
   ]
  },
  {
   "cell_type": "markdown",
   "metadata": {},
   "source": [
    "Use **pop** to \"pop off\" an item from the list. By default pop takes off the last index, but you can also specify which index to pop off. Let's see an example:"
   ]
  },
  {
   "cell_type": "code",
   "execution_count": 73,
   "metadata": {},
   "outputs": [
    {
     "data": {
      "text/plain": [
       "'u'"
      ]
     },
     "execution_count": 73,
     "metadata": {},
     "output_type": "execute_result"
    }
   ],
   "source": [
    "# Pop off the 0 indexed item\n",
    "l.pop(0)"
   ]
  },
  {
   "cell_type": "code",
   "execution_count": 74,
   "metadata": {},
   "outputs": [
    {
     "data": {
      "text/plain": [
       "[2, 3, [4, 8], True, 2.3, 'Something']"
      ]
     },
     "execution_count": 74,
     "metadata": {},
     "output_type": "execute_result"
    }
   ],
   "source": [
    "# show \n",
    "l"
   ]
  },
  {
   "cell_type": "code",
   "execution_count": 75,
   "metadata": {},
   "outputs": [],
   "source": [
    "# Assign the popped element. The default popped index is -1\n",
    "popped_item = l.pop()"
   ]
  },
  {
   "cell_type": "code",
   "execution_count": 76,
   "metadata": {},
   "outputs": [
    {
     "data": {
      "text/plain": [
       "'Something'"
      ]
     },
     "execution_count": 76,
     "metadata": {},
     "output_type": "execute_result"
    }
   ],
   "source": [
    "popped_item"
   ]
  },
  {
   "cell_type": "code",
   "execution_count": 77,
   "metadata": {},
   "outputs": [
    {
     "data": {
      "text/plain": [
       "[2, 3, [4, 8], True, 2.3]"
      ]
     },
     "execution_count": 77,
     "metadata": {},
     "output_type": "execute_result"
    }
   ],
   "source": [
    "# Show remaining list\n",
    "l"
   ]
  },
  {
   "cell_type": "code",
   "execution_count": 27,
   "metadata": {},
   "outputs": [
    {
     "name": "stdout",
     "output_type": "stream",
     "text": [
      "[1, 'u', 2, 3, [4, 8], True, 2.3] [1, 'u', 2, 3, [4, 8], True, 2.3, 'Something']\n"
     ]
    }
   ],
   "source": [
    "#l3 = list(l) # \n",
    "l3= l.copy() \n",
    "l.remove('Something')\n",
    "print(l,l3)"
   ]
  },
  {
   "cell_type": "markdown",
   "metadata": {},
   "source": [
    "You can have void lists and concatenate list by simply using the + operator, or even repeat them with * ."
   ]
  },
  {
   "cell_type": "code",
   "execution_count": 28,
   "metadata": {},
   "outputs": [
    {
     "name": "stdout",
     "output_type": "stream",
     "text": [
      "[1, 'u', 2, 3, [4, 8], True, 2.3, 4, 8, 10.9865]\n",
      "[4, 8, 10.9865, 4, 8, 10.9865, 4, 8, 10.9865]\n"
     ]
    }
   ],
   "source": [
    "l4 = []\n",
    "l5 =[4,8,10.9865]\n",
    "print(l+l4+l5)\n",
    "print(l5*3)"
   ]
  },
  {
   "cell_type": "markdown",
   "metadata": {},
   "source": [
    "#### **Indexing and Slicing**"
   ]
  },
  {
   "cell_type": "code",
   "execution_count": 65,
   "metadata": {},
   "outputs": [
    {
     "data": {
      "text/plain": [
       "'one'"
      ]
     },
     "execution_count": 65,
     "metadata": {},
     "output_type": "execute_result"
    }
   ],
   "source": [
    "my_list = ['one','two','three',4,5]\n",
    "# Grab element at index 0\n",
    "my_list[0]\n"
   ]
  },
  {
   "cell_type": "markdown",
   "metadata": {},
   "source": [
    "We can also use + to concatenate lists, just like we did for strings."
   ]
  },
  {
   "cell_type": "code",
   "execution_count": 66,
   "metadata": {},
   "outputs": [
    {
     "data": {
      "text/plain": [
       "['one', 'two', 'three', 4, 5, 'new item']"
      ]
     },
     "execution_count": 66,
     "metadata": {},
     "output_type": "execute_result"
    }
   ],
   "source": [
    "my_list + ['new item']"
   ]
  },
  {
   "cell_type": "markdown",
   "metadata": {},
   "source": [
    "Note: This doesn't actually change the original list!"
   ]
  },
  {
   "cell_type": "code",
   "execution_count": 67,
   "metadata": {},
   "outputs": [
    {
     "data": {
      "text/plain": [
       "['one', 'two', 'three', 4, 5]"
      ]
     },
     "execution_count": 67,
     "metadata": {},
     "output_type": "execute_result"
    }
   ],
   "source": [
    "my_list"
   ]
  },
  {
   "cell_type": "markdown",
   "metadata": {},
   "source": [
    "You would have to reassign the list to make the change permanent."
   ]
  },
  {
   "cell_type": "code",
   "execution_count": 69,
   "metadata": {},
   "outputs": [],
   "source": [
    "# Reassign\n",
    "my_list = my_list + ['add new item permanently']"
   ]
  },
  {
   "cell_type": "markdown",
   "metadata": {},
   "source": [
    "We can also use the * for a duplication method similar to strings:"
   ]
  },
  {
   "cell_type": "code",
   "execution_count": null,
   "metadata": {},
   "outputs": [],
   "source": [
    "# Make the list double\n",
    "my_list * 2"
   ]
  },
  {
   "cell_type": "markdown",
   "metadata": {},
   "source": [
    "## **Tuples, Dictionaries [*] Sets**\n",
    "\n",
    "### **Tuples**\n",
    "* **Tuples** are similar to list but are created with `(...,...)` or simply comas. They cannot be changed once created.\n",
    "\n",
    "\n",
    "* What is the major difference between tuples and lists?\n",
    "\n",
    "    **Tuples are immutable!**"
   ]
  },
  {
   "cell_type": "code",
   "execution_count": 29,
   "metadata": {},
   "outputs": [
    {
     "name": "stdout",
     "output_type": "stream",
     "text": [
      "(1, 'b', 876876.908) <class 'tuple'>\n",
      "1\n"
     ]
    }
   ],
   "source": [
    "t = (1,'b',876876.908)\n",
    "print(t,type(t))\n",
    "print(t[0])"
   ]
  },
  {
   "cell_type": "code",
   "execution_count": 30,
   "metadata": {},
   "outputs": [
    {
     "name": "stdout",
     "output_type": "stream",
     "text": [
      "12 [987, 98987] (12, [987, 98987])\n"
     ]
    }
   ],
   "source": [
    "a,b = 12,[987,98987]\n",
    "u = a,b\n",
    "print(a,b,u)"
   ]
  },
  {
   "cell_type": "code",
   "execution_count": 31,
   "metadata": {},
   "outputs": [
    {
     "name": "stdout",
     "output_type": "stream",
     "text": [
      "'tuple' object does not support item assignment\n"
     ]
    }
   ],
   "source": [
    "try:\n",
    "    u[1] = 2\n",
    "except Exception as error: \n",
    "    print(error)"
   ]
  },
  {
   "cell_type": "markdown",
   "metadata": {},
   "source": [
    "### **Dictionaries** \n",
    "- **Dictionaries** are aimed at storing values of the form *key-value* with the syntax `{key1 : value1, ...}`\n",
    "\n",
    "This type is often used as a return type in librairies."
   ]
  },
  {
   "cell_type": "code",
   "execution_count": 26,
   "metadata": {},
   "outputs": [
    {
     "name": "stdout",
     "output_type": "stream",
     "text": [
      "{'param1': 1.0, 'param2': True, 'param3': 'red'} <class 'dict'>\n"
     ]
    }
   ],
   "source": [
    "d = {\"param1\" : 1.0, \"param2\" : True, \"param3\" : \"red\"}\n",
    "print(d,type(d))"
   ]
  },
  {
   "cell_type": "code",
   "execution_count": 27,
   "metadata": {},
   "outputs": [
    {
     "name": "stdout",
     "output_type": "stream",
     "text": [
      "1.0\n",
      "{'param1': 2.4, 'param2': True, 'param3': 'red'}\n"
     ]
    }
   ],
   "source": [
    "print(d[\"param1\"])\n",
    "d[\"param1\"] = 2.4\n",
    "print(d)"
   ]
  },
  {
   "cell_type": "code",
   "execution_count": 94,
   "metadata": {},
   "outputs": [
    {
     "data": {
      "text/plain": [
       "'hello all'"
      ]
     },
     "execution_count": 94,
     "metadata": {},
     "output_type": "execute_result"
    }
   ],
   "source": [
    "c = {'x1':{'x2':'hello all'}}\n",
    "c['x1']['x2']"
   ]
  },
  {
   "cell_type": "code",
   "execution_count": 100,
   "metadata": {},
   "outputs": [
    {
     "data": {
      "text/plain": [
       "'hello all'"
      ]
     },
     "execution_count": 100,
     "metadata": {},
     "output_type": "execute_result"
    }
   ],
   "source": [
    "# Getting a little tricker\n",
    "c = {'x1':[{'nest_key':['this is deep',['hello all']]}]}\n",
    "# This was harder than I expected...\n",
    "c['x1'][0]['nest_key'][1][0]"
   ]
  },
  {
   "cell_type": "code",
   "execution_count": 99,
   "metadata": {},
   "outputs": [
    {
     "data": {
      "text/plain": [
       "'hello all'"
      ]
     },
     "execution_count": 99,
     "metadata": {},
     "output_type": "execute_result"
    }
   ],
   "source": [
    "# This will be hard and annoying!\n",
    "c = {'x1':[1,2,{'x2':['this is tricky',{'next_key':[1,2,['hello all']]}]}]}\n",
    "# and..... \n",
    "c['x1'][2]['x2'][1]['next_key'][2][0]"
   ]
  },
  {
   "cell_type": "markdown",
   "metadata": {},
   "source": [
    "**BOOOOOO**\n",
    "\n",
    "Can you sort a dictionary? Why or why not?\n",
    "\n",
    "*****\n",
    "*****\n",
    "*****\n",
    "*****\n",
    "\n",
    "**Answer: No! Because normal dictionaries are *mappings* not a sequence.**"
   ]
  },
  {
   "cell_type": "markdown",
   "metadata": {},
   "source": [
    "### **Sets**\n",
    "\n",
    "**Sets don't allow for duplicate items!**\n",
    "\n",
    "- make unique to list "
   ]
  },
  {
   "cell_type": "code",
   "execution_count": 101,
   "metadata": {},
   "outputs": [
    {
     "data": {
      "text/plain": [
       "{1, 2, 3, 4, 11, 22, 33}"
      ]
     },
     "execution_count": 101,
     "metadata": {},
     "output_type": "execute_result"
    }
   ],
   "source": [
    "l = [1,2,2,33,4,4,11,22,3,3,2]\n",
    "set(l)"
   ]
  },
  {
   "cell_type": "markdown",
   "metadata": {},
   "source": [
    "## **Strings and text formatting**\n",
    "\n",
    "\n",
    "* Strings are delimited with (double) quotes. They can be handled globally the same way as lists (see above).\n",
    "* <tt>print</tt> displays (tuples of) variables (not necessarily strings).\n",
    "* To include variable into string, it is preferable to use the <tt>format</tt> method.\n",
    "\n"
   ]
  },
  {
   "cell_type": "code",
   "execution_count": 39,
   "metadata": {},
   "outputs": [
    {
     "name": "stdout",
     "output_type": "stream",
     "text": [
      "Hello World 1\n",
      "Hello World 2\n",
      "Use \n",
      " to print a new line\n",
      "\n",
      "\n",
      "See what I mean?\n"
     ]
    }
   ],
   "source": [
    "print('Hello World 1')\n",
    "print('Hello World 2')\n",
    "print('Use \\n to print a new line')\n",
    "print('\\n')\n",
    "print('See what I mean?')\n"
   ]
  },
  {
   "cell_type": "markdown",
   "metadata": {},
   "source": [
    "* We can also use a function called **len()** to check the length of a string!"
   ]
  },
  {
   "cell_type": "code",
   "execution_count": 40,
   "metadata": {},
   "outputs": [
    {
     "data": {
      "text/plain": [
       "11"
      ]
     },
     "execution_count": 40,
     "metadata": {},
     "output_type": "execute_result"
    }
   ],
   "source": [
    "len('Hello World')"
   ]
  },
  {
   "cell_type": "code",
   "execution_count": 41,
   "metadata": {},
   "outputs": [
    {
     "name": "stdout",
     "output_type": "stream",
     "text": [
      "test <class 'str'>\n"
     ]
    }
   ],
   "source": [
    "s = \"test\"\n",
    "print(s,type(s))"
   ]
  },
  {
   "cell_type": "markdown",
   "metadata": {},
   "source": [
    "### **String Indexing**\n",
    "We know strings are a sequence, which means Python can use indexes to call parts of the sequence.\n",
    "\n",
    "In Python, we use brackets [] after an object to call its index. We should also note that indexing starts at 0 for Python. Let's create a new object called s and the walk through a few examples of indexing."
   ]
  },
  {
   "cell_type": "code",
   "execution_count": 29,
   "metadata": {},
   "outputs": [
    {
     "name": "stdout",
     "output_type": "stream",
     "text": [
      "t\n",
      "test42\n"
     ]
    }
   ],
   "source": [
    "print(s[0]) # Show first element (in this case a letter)\n",
    "print(s + \"42\")"
   ]
  },
  {
   "cell_type": "code",
   "execution_count": 30,
   "metadata": {},
   "outputs": [
    {
     "name": "stdout",
     "output_type": "stream",
     "text": [
      "test 42\n",
      "test42\n"
     ]
    }
   ],
   "source": [
    "print(s,42)\n",
    "print(s+\"42\")"
   ]
  },
  {
   "cell_type": "markdown",
   "metadata": {},
   "source": [
    "We can use a : to perform *slicing* which grabs everything up to a designated point. For example:"
   ]
  },
  {
   "cell_type": "code",
   "execution_count": 42,
   "metadata": {},
   "outputs": [
    {
     "data": {
      "text/plain": [
       "'est'"
      ]
     },
     "execution_count": 42,
     "metadata": {},
     "output_type": "execute_result"
    }
   ],
   "source": [
    "# Grab everything past the first term all the way to the length of s which is len(s)\n",
    "s[1:]"
   ]
  },
  {
   "cell_type": "code",
   "execution_count": 43,
   "metadata": {},
   "outputs": [
    {
     "data": {
      "text/plain": [
       "'test'"
      ]
     },
     "execution_count": 43,
     "metadata": {},
     "output_type": "execute_result"
    }
   ],
   "source": [
    "# Note that there is no change to the original s\n",
    "s"
   ]
  },
  {
   "cell_type": "code",
   "execution_count": 44,
   "metadata": {},
   "outputs": [
    {
     "data": {
      "text/plain": [
       "'tes'"
      ]
     },
     "execution_count": 44,
     "metadata": {},
     "output_type": "execute_result"
    }
   ],
   "source": [
    "# Grab everything UP TO the 3rd index\n",
    "s[:3]"
   ]
  },
  {
   "cell_type": "markdown",
   "metadata": {},
   "source": [
    "Note the above slicing. Here we're telling Python to grab everything from 0 up to 3. It doesn't include the 3rd index. You'll notice this a lot in Python, where statements and are usually in the context of \"up to, but not including\"."
   ]
  },
  {
   "cell_type": "code",
   "execution_count": 45,
   "metadata": {},
   "outputs": [
    {
     "data": {
      "text/plain": [
       "'test'"
      ]
     },
     "execution_count": 45,
     "metadata": {},
     "output_type": "execute_result"
    }
   ],
   "source": [
    "#Everything\n",
    "s[:]"
   ]
  },
  {
   "cell_type": "markdown",
   "metadata": {},
   "source": [
    "We can also use negative indexing to go backwards."
   ]
  },
  {
   "cell_type": "code",
   "execution_count": 46,
   "metadata": {},
   "outputs": [
    {
     "data": {
      "text/plain": [
       "'t'"
      ]
     },
     "execution_count": 46,
     "metadata": {},
     "output_type": "execute_result"
    }
   ],
   "source": [
    "# Last letter (one index behind 0 so it loops back around)\n",
    "s[-1]"
   ]
  },
  {
   "cell_type": "code",
   "execution_count": 47,
   "metadata": {},
   "outputs": [
    {
     "data": {
      "text/plain": [
       "'tes'"
      ]
     },
     "execution_count": 47,
     "metadata": {},
     "output_type": "execute_result"
    }
   ],
   "source": [
    "# Grab everything but the last letter\n",
    "s[:-1]"
   ]
  },
  {
   "cell_type": "markdown",
   "metadata": {},
   "source": [
    "We can also use index and slice notation to grab elements of a sequence by a specified step size (the default is 1). For instance we can use two colons in a row and then a number specifying the frequency to grab elements. For example:"
   ]
  },
  {
   "cell_type": "code",
   "execution_count": 49,
   "metadata": {},
   "outputs": [
    {
     "data": {
      "text/plain": [
       "'test'"
      ]
     },
     "execution_count": 49,
     "metadata": {},
     "output_type": "execute_result"
    }
   ],
   "source": [
    "# Grab everything, but go in steps size of 1\n",
    "s[::1]"
   ]
  },
  {
   "cell_type": "code",
   "execution_count": 50,
   "metadata": {},
   "outputs": [
    {
     "data": {
      "text/plain": [
       "'ts'"
      ]
     },
     "execution_count": 50,
     "metadata": {},
     "output_type": "execute_result"
    }
   ],
   "source": [
    "# Grab everything, but go in step sizes of 2\n",
    "s[::2]"
   ]
  },
  {
   "cell_type": "code",
   "execution_count": 51,
   "metadata": {},
   "outputs": [
    {
     "data": {
      "text/plain": [
       "'tset'"
      ]
     },
     "execution_count": 51,
     "metadata": {},
     "output_type": "execute_result"
    }
   ],
   "source": [
    "# We can use this to print a string backwards\n",
    "s[::-1]"
   ]
  },
  {
   "cell_type": "markdown",
   "metadata": {},
   "source": [
    "#### **String Properties**\n",
    "Its important to note that strings have an important property known as immutability. This means that once a string is created, the elements within it can not be changed or replaced. For example:"
   ]
  },
  {
   "cell_type": "code",
   "execution_count": 55,
   "metadata": {},
   "outputs": [
    {
     "ename": "TypeError",
     "evalue": "'str' object does not support item assignment",
     "output_type": "error",
     "traceback": [
      "\u001b[0;31m---------------------------------------------------------------------------\u001b[0m",
      "\u001b[0;31mTypeError\u001b[0m                                 Traceback (most recent call last)",
      "\u001b[0;32m<ipython-input-55-976942677f11>\u001b[0m in \u001b[0;36m<module>\u001b[0;34m\u001b[0m\n\u001b[1;32m      1\u001b[0m \u001b[0;31m# Let's try to change the first letter to 'x'\u001b[0m\u001b[0;34m\u001b[0m\u001b[0;34m\u001b[0m\u001b[0;34m\u001b[0m\u001b[0m\n\u001b[0;32m----> 2\u001b[0;31m \u001b[0ms\u001b[0m\u001b[0;34m[\u001b[0m\u001b[0;36m0\u001b[0m\u001b[0;34m]\u001b[0m \u001b[0;34m=\u001b[0m \u001b[0;34m'x'\u001b[0m\u001b[0;34m\u001b[0m\u001b[0;34m\u001b[0m\u001b[0m\n\u001b[0m",
      "\u001b[0;31mTypeError\u001b[0m: 'str' object does not support item assignment"
     ]
    }
   ],
   "source": [
    "# Let's try to change the first letter to 'x'\n",
    "s[0] = 'x'"
   ]
  },
  {
   "cell_type": "code",
   "execution_count": 56,
   "metadata": {},
   "outputs": [],
   "source": [
    "# We can reassign s completely though!\n",
    "s = s + ' concatenate me!'"
   ]
  },
  {
   "cell_type": "markdown",
   "metadata": {},
   "source": [
    "We can use the multiplication symbol to create repetition!"
   ]
  },
  {
   "cell_type": "code",
   "execution_count": 58,
   "metadata": {},
   "outputs": [
    {
     "data": {
      "text/plain": [
       "'zzzzzzzzzz'"
      ]
     },
     "execution_count": 58,
     "metadata": {},
     "output_type": "execute_result"
    }
   ],
   "source": [
    "letter = 'z'\n",
    "letter*10"
   ]
  },
  {
   "cell_type": "markdown",
   "metadata": {},
   "source": [
    "### **Print Formatting**\n",
    "\n",
    "We can use the .format() method to add formatted objects to printed string statements. \n",
    "\n",
    "The easiest way to show this is through an example:"
   ]
  },
  {
   "cell_type": "code",
   "execution_count": 52,
   "metadata": {},
   "outputs": [
    {
     "name": "stdout",
     "output_type": "stream",
     "text": [
      "can only concatenate str (not \"int\") to str\n"
     ]
    }
   ],
   "source": [
    "try:\n",
    "    print(s+42)\n",
    "except Exception as error: \n",
    "    print(error)"
   ]
  },
  {
   "cell_type": "markdown",
   "metadata": {},
   "source": [
    "The `format` method"
   ]
  },
  {
   "cell_type": "code",
   "execution_count": 53,
   "metadata": {},
   "outputs": [
    {
     "name": "stdout",
     "output_type": "stream",
     "text": [
      "test 42\n"
     ]
    }
   ],
   "source": [
    "print( \"test {}\".format(42) )"
   ]
  },
  {
   "cell_type": "code",
   "execution_count": 54,
   "metadata": {},
   "outputs": [
    {
     "name": "stdout",
     "output_type": "stream",
     "text": [
      "test with an int 4, a float 3.141 (or 3.141000e+00 which is roughly 3.1)\n"
     ]
    }
   ],
   "source": [
    "print( \"test with an int {:d}, a float {} (or {:e} which is roughly {:.1f})\".format(4 , 3.141 , 3.141 , 3.141 ))"
   ]
  },
  {
   "cell_type": "markdown",
   "metadata": {},
   "source": [
    "### **Basic Built-in String methods**\n",
    "\n",
    "Objects in Python usually have built-in methods. These methods are functions inside the object (we will learn about these in much more depth later) that can perform actions or commands on the object itself.\n",
    "\n",
    "We call methods with a period and then the method name. Methods are in the form:\n",
    "\n",
    "**object.method(parameters)**\n",
    "\n",
    "Here are some examples of built-in methods in strings:"
   ]
  },
  {
   "cell_type": "code",
   "execution_count": 60,
   "metadata": {},
   "outputs": [
    {
     "data": {
      "text/plain": [
       "'Hello World concatenate me!'"
      ]
     },
     "execution_count": 60,
     "metadata": {},
     "output_type": "execute_result"
    }
   ],
   "source": [
    "# Assign s as a string\n",
    "s = 'Hello World'\n",
    "# We can reassign s completely though!\n",
    "s = s + ' concatenate me!'\n",
    "s"
   ]
  },
  {
   "cell_type": "code",
   "execution_count": 61,
   "metadata": {},
   "outputs": [
    {
     "data": {
      "text/plain": [
       "'HELLO WORLD CONCATENATE ME!'"
      ]
     },
     "execution_count": 61,
     "metadata": {},
     "output_type": "execute_result"
    }
   ],
   "source": [
    "# Upper Case a string\n",
    "s.upper()"
   ]
  },
  {
   "cell_type": "code",
   "execution_count": 62,
   "metadata": {},
   "outputs": [
    {
     "data": {
      "text/plain": [
       "'hello world concatenate me!'"
      ]
     },
     "execution_count": 62,
     "metadata": {},
     "output_type": "execute_result"
    }
   ],
   "source": [
    "# Lower case\n",
    "s.lower()"
   ]
  },
  {
   "cell_type": "code",
   "execution_count": 63,
   "metadata": {},
   "outputs": [
    {
     "data": {
      "text/plain": [
       "['Hello', 'World', 'concatenate', 'me!']"
      ]
     },
     "execution_count": 63,
     "metadata": {},
     "output_type": "execute_result"
    }
   ],
   "source": [
    "# Split a string by blank space (this is the default)\n",
    "s.split()"
   ]
  },
  {
   "cell_type": "code",
   "execution_count": 64,
   "metadata": {},
   "outputs": [
    {
     "data": {
      "text/plain": [
       "['Hello ', 'orld concatenate me!']"
      ]
     },
     "execution_count": 64,
     "metadata": {},
     "output_type": "execute_result"
    }
   ],
   "source": [
    "# Split by a specific element (doesn't include the element that was split on)\n",
    "s.split('W')"
   ]
  },
  {
   "cell_type": "code",
   "execution_count": null,
   "metadata": {},
   "outputs": [],
   "source": []
  },
  {
   "cell_type": "markdown",
   "metadata": {},
   "source": [
    "# **2- Branching and Loops**\n",
    "\n",
    "\n",
    "## **If, Elif, Else**\n",
    "\n",
    "In Python, the formulation for branching is the  `if:` condition (mind the `:`) followed by an indentation of *one tab* that represents what is executed if the condition is true. **The indentation is primordial and at the core of Python.**  \n",
    "\n"
   ]
  },
  {
   "cell_type": "code",
   "execution_count": 34,
   "metadata": {},
   "outputs": [
    {
     "name": "stdout",
     "output_type": "stream",
     "text": [
      "statement1 and statement2 are False\n"
     ]
    }
   ],
   "source": [
    "statement1 = False\n",
    "statement2 = False\n",
    "\n",
    "if statement1:\n",
    "    print(\"statement1 is True\")\n",
    "elif statement2:\n",
    "    print(\"statement2 is True\")\n",
    "else:\n",
    "    print(\"statement1 and statement2 are False\")"
   ]
  },
  {
   "cell_type": "code",
   "execution_count": 35,
   "metadata": {},
   "outputs": [
    {
     "name": "stdout",
     "output_type": "stream",
     "text": [
      "both statement1 and statement2 are True\n"
     ]
    }
   ],
   "source": [
    "statement1 = statement2 = True\n",
    "\n",
    "if statement1:\n",
    "    if statement2:\n",
    "        print(\"both statement1 and statement2 are True\")"
   ]
  },
  {
   "cell_type": "code",
   "execution_count": 36,
   "metadata": {},
   "outputs": [
    {
     "name": "stdout",
     "output_type": "stream",
     "text": [
      "here it is ok\n",
      "after the previous line, here also\n"
     ]
    }
   ],
   "source": [
    "if statement1:\n",
    "    if statement2: # Bad indentation!\n",
    "    #print(\"both statement1 and statement2 are True\") # Uncommenting Would cause an error\n",
    "        print(\"here it is ok\")\n",
    "    print(\"after the previous line, here also\")"
   ]
  },
  {
   "cell_type": "code",
   "execution_count": 37,
   "metadata": {},
   "outputs": [
    {
     "name": "stdout",
     "output_type": "stream",
     "text": [
      "printed if statement1 is True\n",
      "still inside the if block\n"
     ]
    }
   ],
   "source": [
    "statement1 = True \n",
    "\n",
    "if statement1:\n",
    "    print(\"printed if statement1 is True\")\n",
    "    \n",
    "    \n",
    "    \n",
    "    print(\"still inside the if block\")"
   ]
  },
  {
   "cell_type": "code",
   "execution_count": 38,
   "metadata": {},
   "outputs": [
    {
     "name": "stdout",
     "output_type": "stream",
     "text": [
      "outside the if block\n"
     ]
    }
   ],
   "source": [
    "statement1 = False \n",
    "\n",
    "if statement1:\n",
    "    print(\"printed if statement1 is True\")\n",
    "    \n",
    "print(\"outside the if block\")"
   ]
  },
  {
   "cell_type": "markdown",
   "metadata": {},
   "source": [
    "## **For loop**\n",
    "\n",
    "The syntax of `for` loops is `for x in something:` followed by an indentation of one tab which represents what will be executed. \n",
    "\n",
    "The `something` above can be of different nature: list, dictionary, etc."
   ]
  },
  {
   "cell_type": "code",
   "execution_count": 39,
   "metadata": {},
   "outputs": [
    {
     "name": "stdout",
     "output_type": "stream",
     "text": [
      "1\n",
      "2\n",
      "3\n"
     ]
    }
   ],
   "source": [
    "for x in [1, 2, 3]:\n",
    "    print(x)"
   ]
  },
  {
   "cell_type": "code",
   "execution_count": 40,
   "metadata": {},
   "outputs": [
    {
     "name": "stdout",
     "output_type": "stream",
     "text": [
      "Python for data Science \n"
     ]
    }
   ],
   "source": [
    "sentence = \"\"\n",
    "for word in [\"Python\", \"for\", \"data\", \"Science\"]:\n",
    "    sentence = sentence + word + \" \"\n",
    "print(sentence)"
   ]
  },
  {
   "cell_type": "markdown",
   "metadata": {},
   "source": [
    "A useful function is <tt>range</tt> which generated sequences of numbers that can be used in loops."
   ]
  },
  {
   "cell_type": "code",
   "execution_count": 41,
   "metadata": {},
   "outputs": [
    {
     "name": "stdout",
     "output_type": "stream",
     "text": [
      "Range (from 0) to 4 (excluded) \n",
      "0\n",
      "1\n",
      "2\n",
      "3\n",
      "Range from 2 (included) to 6 (excluded) \n",
      "2\n",
      "3\n",
      "4\n",
      "5\n",
      "Range from 1 (included) to 12 (excluded) by steps of 3 \n",
      "1\n",
      "4\n",
      "7\n",
      "10\n"
     ]
    }
   ],
   "source": [
    "print(\"Range (from 0) to 4 (excluded) \")\n",
    "for x in range(4): \n",
    "    print(x)   \n",
    "\n",
    "print(\"Range from 2 (included) to 6 (excluded) \")\n",
    "for x in range(2,6): \n",
    "    print(x)\n",
    "\n",
    "print(\"Range from 1 (included) to 12 (excluded) by steps of 3 \")\n",
    "for x in range(1,12,3): \n",
    "    print(x)"
   ]
  },
  {
   "cell_type": "markdown",
   "metadata": {},
   "source": [
    "If the index is needed along with the value, the function `enumerate` is useful."
   ]
  },
  {
   "cell_type": "code",
   "execution_count": 42,
   "metadata": {},
   "outputs": [
    {
     "name": "stdout",
     "output_type": "stream",
     "text": [
      "0 -3\n",
      "1 -2\n",
      "2 -1\n",
      "3 0\n",
      "4 1\n",
      "5 2\n"
     ]
    }
   ],
   "source": [
    "for idx, x in enumerate(range(-3,3)):\n",
    "    print(idx, x)"
   ]
  },
  {
   "cell_type": "markdown",
   "metadata": {},
   "source": [
    "## **While loop**\n",
    "\n",
    "Similarly to `for` loops, the syntax is`while condition:` followed by an indentation of one tab which represents what will be executed. "
   ]
  },
  {
   "cell_type": "code",
   "execution_count": 43,
   "metadata": {},
   "outputs": [
    {
     "name": "stdout",
     "output_type": "stream",
     "text": [
      "0\n",
      "1\n",
      "2\n",
      "3\n",
      "4\n"
     ]
    }
   ],
   "source": [
    "i = 0\n",
    "\n",
    "while i<5:\n",
    "    print(i)\n",
    "    i+=1"
   ]
  },
  {
   "cell_type": "markdown",
   "metadata": {},
   "source": [
    "## **range**"
   ]
  },
  {
   "cell_type": "code",
   "execution_count": 89,
   "metadata": {},
   "outputs": [
    {
     "data": {
      "text/plain": [
       "range(0, 5)"
      ]
     },
     "execution_count": 89,
     "metadata": {},
     "output_type": "execute_result"
    }
   ],
   "source": [
    "range(5)"
   ]
  },
  {
   "cell_type": "code",
   "execution_count": 90,
   "metadata": {},
   "outputs": [
    {
     "name": "stdout",
     "output_type": "stream",
     "text": [
      "0\n",
      "1\n",
      "2\n",
      "3\n",
      "4\n"
     ]
    }
   ],
   "source": [
    "for i in range(5):\n",
    "    print(i)"
   ]
  },
  {
   "cell_type": "code",
   "execution_count": 91,
   "metadata": {},
   "outputs": [
    {
     "data": {
      "text/plain": [
       "range(0, 20)"
      ]
     },
     "execution_count": 91,
     "metadata": {},
     "output_type": "execute_result"
    }
   ],
   "source": [
    "start = 0 #Default\n",
    "stop = 20 \n",
    "x = range(start,stop)\n",
    "x"
   ]
  },
  {
   "cell_type": "markdown",
   "metadata": {},
   "source": [
    "- Great! Notice how it went *up to* 20, but doesn't actually produce 20. Just like in indexing. What about step size? We can specify that as a third argument:"
   ]
  },
  {
   "cell_type": "code",
   "execution_count": 92,
   "metadata": {},
   "outputs": [
    {
     "data": {
      "text/plain": [
       "range(0, 20, 2)"
      ]
     },
     "execution_count": 92,
     "metadata": {},
     "output_type": "execute_result"
    }
   ],
   "source": [
    "x = range(start,stop,2)\n",
    "#Show\n",
    "x"
   ]
  },
  {
   "cell_type": "code",
   "execution_count": 93,
   "metadata": {},
   "outputs": [
    {
     "data": {
      "text/plain": [
       "[0, 1, 2, 3, 4]"
      ]
     },
     "execution_count": 93,
     "metadata": {},
     "output_type": "execute_result"
    }
   ],
   "source": [
    "list(range(5))"
   ]
  },
  {
   "cell_type": "markdown",
   "metadata": {},
   "source": [
    "## **Try [*]**\n",
    "\n",
    "When a command may fail, you can `try` to execute it and optionally catch the `Exception` (i.e. the error).\n",
    "\n"
   ]
  },
  {
   "cell_type": "code",
   "execution_count": 44,
   "metadata": {},
   "outputs": [
    {
     "name": "stdout",
     "output_type": "stream",
     "text": [
      "[1, 2, 3]\n",
      "command ok\n",
      "[1, 3, 3]\n",
      "list assignment index out of range\n",
      "[1, 3, 3]\n"
     ]
    }
   ],
   "source": [
    "a = [1,2,3]\n",
    "print(a)\n",
    "\n",
    "try:\n",
    "    a[1] = 3\n",
    "    print(\"command ok\")\n",
    "except Exception as error: \n",
    "    print(error)\n",
    "    \n",
    "print(a) # The command went through\n",
    "\n",
    "try:\n",
    "    a[6] = 3\n",
    "    print(\"command ok\")\n",
    "except Exception as error: \n",
    "    print(error)\n",
    "    \n",
    "print(a) # The command failed"
   ]
  },
  {
   "cell_type": "markdown",
   "metadata": {},
   "source": [
    "# **3- Functions**\n",
    "\n",
    "\n",
    "In Python, a function is defined as  \n",
    "`def function_name(function_arguments):` \n",
    "\n",
    "            followed by an indentation representing what is inside the function. \n",
    "(No return arguments are provided a priori)\n",
    "\n"
   ]
  },
  {
   "cell_type": "markdown",
   "metadata": {},
   "source": [
    "#### **What is wrong in this function**"
   ]
  },
  {
   "cell_type": "code",
   "execution_count": 32,
   "metadata": {},
   "outputs": [
    {
     "ename": "SyntaxError",
     "evalue": "invalid syntax (<ipython-input-32-46fa605cb4a4>, line 2)",
     "output_type": "error",
     "traceback": [
      "\u001b[0;36m  File \u001b[0;32m\"<ipython-input-32-46fa605cb4a4>\"\u001b[0;36m, line \u001b[0;32m2\u001b[0m\n\u001b[0;31m    def (my_number):\u001b[0m\n\u001b[0m        ^\u001b[0m\n\u001b[0;31mSyntaxError\u001b[0m\u001b[0;31m:\u001b[0m invalid syntax\n"
     ]
    }
   ],
   "source": [
    "# 1. No name\n",
    "def (my_number):\n",
    "  return my_number"
   ]
  },
  {
   "cell_type": "code",
   "execution_count": 33,
   "metadata": {},
   "outputs": [
    {
     "ename": "SyntaxError",
     "evalue": "'return' outside function (<ipython-input-33-024de9fa9b16>, line 3)",
     "output_type": "error",
     "traceback": [
      "\u001b[0;36m  File \u001b[0;32m\"<ipython-input-33-024de9fa9b16>\"\u001b[0;36m, line \u001b[0;32m3\u001b[0m\n\u001b[0;31m    return my_number\u001b[0m\n\u001b[0m    ^\u001b[0m\n\u001b[0;31mSyntaxError\u001b[0m\u001b[0;31m:\u001b[0m 'return' outside function\n"
     ]
    }
   ],
   "source": [
    "# 2. No parentheses\n",
    "# def my_function:\n",
    "return my_number"
   ]
  },
  {
   "cell_type": "code",
   "execution_count": 34,
   "metadata": {},
   "outputs": [
    {
     "ename": "SyntaxError",
     "evalue": "invalid syntax (<ipython-input-34-f59f7f6ce940>, line 2)",
     "output_type": "error",
     "traceback": [
      "\u001b[0;36m  File \u001b[0;32m\"<ipython-input-34-f59f7f6ce940>\"\u001b[0;36m, line \u001b[0;32m2\u001b[0m\n\u001b[0;31m    def my_function\u001b[0m\n\u001b[0m                   ^\u001b[0m\n\u001b[0;31mSyntaxError\u001b[0m\u001b[0;31m:\u001b[0m invalid syntax\n"
     ]
    }
   ],
   "source": [
    "# 3. No colon\n",
    "def my_function\n",
    "  return my_number"
   ]
  },
  {
   "cell_type": "code",
   "execution_count": 35,
   "metadata": {},
   "outputs": [
    {
     "ename": "IndentationError",
     "evalue": "expected an indented block (<ipython-input-35-4a0c983cb33e>, line 3)",
     "output_type": "error",
     "traceback": [
      "\u001b[0;36m  File \u001b[0;32m\"<ipython-input-35-4a0c983cb33e>\"\u001b[0;36m, line \u001b[0;32m3\u001b[0m\n\u001b[0;31m    return my_number\u001b[0m\n\u001b[0m    ^\u001b[0m\n\u001b[0;31mIndentationError\u001b[0m\u001b[0;31m:\u001b[0m expected an indented block\n"
     ]
    }
   ],
   "source": [
    "# 4. No indentation\n",
    "def my_function():\n",
    "return my_number"
   ]
  },
  {
   "cell_type": "markdown",
   "metadata": {},
   "source": [
    "## **Functions**"
   ]
  },
  {
   "cell_type": "code",
   "execution_count": 45,
   "metadata": {},
   "outputs": [
    {
     "name": "stdout",
     "output_type": "stream",
     "text": [
      "\"fun0\" just prints\n"
     ]
    }
   ],
   "source": [
    "def fun0():\n",
    "    print(\"\\\"fun0\\\" just prints\")\n",
    "\n",
    "fun0()"
   ]
  },
  {
   "cell_type": "markdown",
   "metadata": {},
   "source": [
    "Docstring can be added to document the function, which will appear when calling `help`"
   ]
  },
  {
   "cell_type": "code",
   "execution_count": 46,
   "metadata": {},
   "outputs": [
    {
     "name": "stdout",
     "output_type": "stream",
     "text": [
      "[1, 'iuoiu', True]  is of length  3\n"
     ]
    }
   ],
   "source": [
    "def fun1(l):\n",
    "    \"\"\"\n",
    "    Prints a list and its length\n",
    "    \"\"\"\n",
    "    print(l, \" is of length \", len(l))\n",
    "    \n",
    "fun1([1,'iuoiu',True])"
   ]
  },
  {
   "cell_type": "code",
   "execution_count": 47,
   "metadata": {},
   "outputs": [
    {
     "name": "stdout",
     "output_type": "stream",
     "text": [
      "Help on function fun1 in module __main__:\n",
      "\n",
      "fun1(l)\n",
      "    Prints a list and its length\n",
      "\n"
     ]
    }
   ],
   "source": [
    "help(fun1)"
   ]
  },
  {
   "cell_type": "markdown",
   "metadata": {},
   "source": [
    "* *_ _main_ _* in the name of the environment where top-level code is run"
   ]
  },
  {
   "cell_type": "markdown",
   "metadata": {},
   "source": [
    "## **Outputs**\n",
    "\n",
    "`return` outputs a variable, tuple, dictionary, ..."
   ]
  },
  {
   "cell_type": "code",
   "execution_count": 48,
   "metadata": {},
   "outputs": [
    {
     "name": "stdout",
     "output_type": "stream",
     "text": [
      "Help on function square in module __main__:\n",
      "\n",
      "square(x)\n",
      "    Return x squared.\n",
      "\n",
      "144\n"
     ]
    }
   ],
   "source": [
    "def square(x):\n",
    "    \"\"\"\n",
    "    Return x squared.\n",
    "    \"\"\"\n",
    "    return(x ** 2)\n",
    "\n",
    "help(square)\n",
    "res = square(12)\n",
    "print(res)"
   ]
  },
  {
   "cell_type": "code",
   "execution_count": 49,
   "metadata": {},
   "outputs": [
    {
     "name": "stdout",
     "output_type": "stream",
     "text": [
      "Help on function powers in module __main__:\n",
      "\n",
      "powers(x)\n",
      "    Return the first powers of x.\n",
      "\n"
     ]
    }
   ],
   "source": [
    "def powers(x):\n",
    "    \"\"\"\n",
    "    Return the first powers of x.\n",
    "    \"\"\"\n",
    "    return(x ** 2, x ** 3, x ** 4)\n",
    "\n",
    "help(powers)"
   ]
  },
  {
   "cell_type": "code",
   "execution_count": 50,
   "metadata": {},
   "outputs": [
    {
     "name": "stdout",
     "output_type": "stream",
     "text": [
      "(144, 1728, 20736) <class 'tuple'>\n"
     ]
    }
   ],
   "source": [
    "res = powers(12)\n",
    "print(res, type(res))"
   ]
  },
  {
   "cell_type": "code",
   "execution_count": 51,
   "metadata": {},
   "outputs": [
    {
     "name": "stdout",
     "output_type": "stream",
     "text": [
      "27 <class 'int'>\n"
     ]
    }
   ],
   "source": [
    "two,three,four = powers(3)\n",
    "print(three,type(three))"
   ]
  },
  {
   "cell_type": "code",
   "execution_count": 52,
   "metadata": {},
   "outputs": [
    {
     "name": "stdout",
     "output_type": "stream",
     "text": [
      "{'two': 144, 'three': 1728, 'four': 20736} <class 'dict'>\n",
      "144 <class 'int'>\n"
     ]
    }
   ],
   "source": [
    "def powers_dict(x):\n",
    "    \"\"\"\n",
    "    Return the first powers of x as a dictionary.\n",
    "    \"\"\"\n",
    "    return{\"two\": x ** 2, \"three\": x ** 3,  \"four\": x ** 4}\n",
    "\n",
    "\n",
    "res = powers_dict(12)\n",
    "print(res, type(res))\n",
    "print(res[\"two\"],type(res[\"two\"]))"
   ]
  },
  {
   "cell_type": "markdown",
   "metadata": {},
   "source": [
    "## **Arguments**\n",
    "\n",
    "It is possible to \n",
    "* Give the arguments in any order provided that you write the corresponding argument variable name\n",
    "* Set defaults values to variables so that they become optional"
   ]
  },
  {
   "cell_type": "code",
   "execution_count": 53,
   "metadata": {},
   "outputs": [],
   "source": [
    "def fancy_power(x, p=2, debug=False):\n",
    "    \"\"\"\n",
    "    Here is a fancy version of power that computes the square of the argument or other powers if p is set\n",
    "    \"\"\"\n",
    "    if debug:\n",
    "        print( \"\\\"fancy_power\\\" is called with x =\", x, \" and p =\", p)\n",
    "    return(x**p)"
   ]
  },
  {
   "cell_type": "code",
   "execution_count": 54,
   "metadata": {},
   "outputs": [
    {
     "name": "stdout",
     "output_type": "stream",
     "text": [
      "25\n",
      "125\n"
     ]
    }
   ],
   "source": [
    "print(fancy_power(5))\n",
    "print(fancy_power(5,p=3))"
   ]
  },
  {
   "cell_type": "code",
   "execution_count": 55,
   "metadata": {},
   "outputs": [
    {
     "name": "stdout",
     "output_type": "stream",
     "text": [
      "\"fancy_power\" is called with x = 2  and p = 8\n",
      "256\n"
     ]
    }
   ],
   "source": [
    "res = fancy_power(p=8,x=2,debug=True)\n",
    "print(res)"
   ]
  },
  {
   "cell_type": "markdown",
   "metadata": {},
   "source": [
    "## **Lambda(), Map(), Filter() functions**"
   ]
  },
  {
   "cell_type": "markdown",
   "metadata": {},
   "source": [
    "### **Lambda Expration**\n",
    "\n",
    "\n",
    "Lambda functions are similar to user-defined functions but without a name. They're commonly referred to as anonymous functions.\n",
    "\n",
    "Lambda functions are efficient whenever you want to create a function that will only contain simple expressions – that is, expressions that are usually a single line of a statement. They're also useful when you want to use the function once.\n",
    "\n",
    "> **lambda argument(s) : expression**\n",
    "\n",
    "**lambda** is a keyword in Python for defining the anonymous function.\n",
    "\n",
    "**argument(s)** is a placeholder, that is a variable that will be used to hold the value you want to pass into the function expression. A lambda function can have multiple variables depending on what you want to achieve.\n",
    "\n",
    "**expression** is the code you want to execute in the lambda function.\n",
    "Notice that the anonymous function does not have a return keyword. This is because the anonymous function will automatically return the result of the expression in the function once it is executed.\n",
    "\n",
    "**lambda's body is a single expression, not a block of statements.**\n",
    "\n",
    "\n",
    "Let's look at an example of a lambda function to see how it works. We'll compare it to a regular user-defined function.\n",
    "\n",
    "In Python, iterables include strings, lists, dictionaries, ranges, tuples, and so on. When working with iterables, you can use lambda functions in conjunction with two common functions: `filter()`and `map()`."
   ]
  },
  {
   "cell_type": "code",
   "execution_count": 115,
   "metadata": {},
   "outputs": [
    {
     "data": {
      "text/plain": [
       "6"
      ]
     },
     "execution_count": 115,
     "metadata": {},
     "output_type": "execute_result"
    }
   ],
   "source": [
    "# bed style ! f - must be name of the \"what the function doing\"\n",
    "def f(x): \n",
    "  return x * 2\n",
    "\n",
    "f(3)\n"
   ]
  },
  {
   "cell_type": "code",
   "execution_count": 116,
   "metadata": {},
   "outputs": [
    {
     "data": {
      "text/plain": [
       "<function __main__.<lambda>(x)>"
      ]
     },
     "execution_count": 116,
     "metadata": {},
     "output_type": "execute_result"
    }
   ],
   "source": [
    "# lambda function \n",
    "\n",
    "lambda x: x * 3"
   ]
  },
  {
   "cell_type": "code",
   "execution_count": 117,
   "metadata": {},
   "outputs": [
    {
     "data": {
      "text/plain": [
       "6"
      ]
     },
     "execution_count": 117,
     "metadata": {},
     "output_type": "execute_result"
    }
   ],
   "source": [
    "# how we get back value from lambda?\n",
    "\n",
    "multiply_by_3 = lambda x: x * 3\n",
    "multiply_by_3(2)"
   ]
  },
  {
   "cell_type": "markdown",
   "metadata": {},
   "source": [
    "**Lambda Function with if-else**\n",
    "\n",
    "Here we are using the Max lambda function to find the maximum of two integers."
   ]
  },
  {
   "cell_type": "code",
   "execution_count": null,
   "metadata": {},
   "outputs": [],
   "source": [
    "Max = lambda a, b : a if(a > b) else b\n",
    "print(Max(1, 2))"
   ]
  },
  {
   "cell_type": "markdown",
   "metadata": {},
   "source": [
    "**Lambda with Multiple Statements**\n",
    "\n",
    "Lambda functions do not allow multiple statements, however, we can create two lambda functions and then call the other lambda function as a parameter to the first function. Let’s try to find the second maximum element using lambda.\n",
    "\n",
    "The code defines a list of sublists called ‘List'. It uses lambda functions to sort each sublist and find the second-largest element in each sublist. The result is a list of second-largest elements, which is then printed. The output displays the second-largest element from each sublist in the original list"
   ]
  },
  {
   "cell_type": "code",
   "execution_count": 118,
   "metadata": {},
   "outputs": [
    {
     "name": "stdout",
     "output_type": "stream",
     "text": [
      "[3, 16, 9]\n"
     ]
    }
   ],
   "source": [
    "List = [[2,3,4],[1, 4, 16, 64],[3, 6, 9, 12]]\n",
    "\n",
    "sortList = lambda x: (sorted(i) for i in x)\n",
    "secondLargest = lambda x, f : [y[len(y)-2] for y in f(x)]\n",
    "res = secondLargest(List, sortList)\n",
    "\n",
    "print(res)\n"
   ]
  },
  {
   "cell_type": "markdown",
   "metadata": {},
   "source": [
    "Many function calls need a function passed in, such as map and filter. Often you only need to use the function you are passing in once, so instead of formally defining it, you just use the lambda expression."
   ]
  },
  {
   "cell_type": "markdown",
   "metadata": {},
   "source": [
    "### **Filter()**\n",
    "\n",
    "Filter() is used to create a list of elements for which a function returns “True”.\n",
    "\n",
    "Syntax- filter( function that returns True, list)\n",
    "\n",
    "\n",
    "\n",
    "\"The **`filter()`** function operates on an iterable, such as a list, and applies a given function to each item in the iterable. The function should return either `True` or `False`. \n",
    "\n",
    "**`filter()`** then returns an iterator that yields only those items from the iterable for which the function returns `True`. In other words, it selectively filters out elements based on the evaluation of the given function. When you pass this function (along with your iterable) into **`filter()`**, you will receive back only the elements that would return `True` when passed to the function.\"\n",
    "\n",
    "\n",
    "Filter function requires another function that contains the expression or operations that will be performed on the iterable."
   ]
  },
  {
   "cell_type": "markdown",
   "metadata": {},
   "source": [
    "**Example**\n",
    "Filter all people having age more than 18, using lambda and filter() function\n"
   ]
  },
  {
   "cell_type": "code",
   "execution_count": 119,
   "metadata": {},
   "outputs": [
    {
     "name": "stdout",
     "output_type": "stream",
     "text": [
      "[90, 59, 21, 60]\n"
     ]
    }
   ],
   "source": [
    "ages = [13, 90, 17, 59, 21, 60, 5]\n",
    "adults = list(filter(lambda age: age > 18, ages))\n",
    "\n",
    "print(adults)\n"
   ]
  },
  {
   "cell_type": "markdown",
   "metadata": {},
   "source": [
    "### **map()** \n",
    "\n",
    "The map() function takes a function and a list as input.\n",
    "\n",
    "map() performs an operation on the entire list and return the result in a new list\n",
    "\n",
    "Syntax- map(function/lambda, list)\n",
    "\n",
    "The map() function in Python takes in a function and a list as an argument. The function is \n",
    "called with a lambda function and a list and a new list is returned which contains all the lambda-modified items returned by that function for each item.\n",
    "\n",
    "\n",
    "\n",
    "You use the map() function whenever you want to modify every value in an iterable."
   ]
  },
  {
   "cell_type": "code",
   "execution_count": 120,
   "metadata": {},
   "outputs": [
    {
     "data": {
      "text/plain": [
       "[4, 9, 16, 25]"
      ]
     },
     "execution_count": 120,
     "metadata": {},
     "output_type": "execute_result"
    }
   ],
   "source": [
    "list1 = [2, 3, 4, 5]\n",
    "\n",
    "list(map(lambda x: pow(x, 2), list1))"
   ]
  },
  {
   "cell_type": "markdown",
   "metadata": {},
   "source": [
    "**Example** Multiply all elements of a list by 2 using lambda and map() function"
   ]
  },
  {
   "cell_type": "code",
   "execution_count": 121,
   "metadata": {},
   "outputs": [
    {
     "name": "stdout",
     "output_type": "stream",
     "text": [
      "[10, 14, 44, 194, 108, 124, 154, 46, 146, 122]\n"
     ]
    }
   ],
   "source": [
    "li = [5, 7, 22, 97, 54, 62, 77, 23, 73, 61]\n",
    "\n",
    "final_list = list(map(lambda x: x*2, li))\n",
    "print(final_list)\n"
   ]
  },
  {
   "cell_type": "markdown",
   "metadata": {},
   "source": [
    "**Example** Transform all elements of a list to upper case using lambda and map() function\n",
    "\n",
    "The code converts a list of animal names to uppercase using a lambda function and the ‘map' function. It then prints the list with the animal names in uppercase. The output displays the animal names in all uppercase letters."
   ]
  },
  {
   "cell_type": "code",
   "execution_count": 122,
   "metadata": {},
   "outputs": [
    {
     "name": "stdout",
     "output_type": "stream",
     "text": [
      "['DOG', 'CAT', 'PARROT', 'RABBIT']\n"
     ]
    }
   ],
   "source": [
    "animals = ['dog', 'cat', 'parrot', 'rabbit']\n",
    "uppered_animals = list(map(lambda animal: animal.upper(), animals))\n",
    "\n",
    "print(uppered_animals)\n"
   ]
  },
  {
   "cell_type": "code",
   "execution_count": null,
   "metadata": {},
   "outputs": [],
   "source": []
  },
  {
   "cell_type": "markdown",
   "metadata": {},
   "source": [
    "# **4- Classes [*]** - Read at home - HW\n",
    "\n",
    "\n",
    "Classes are at the core of *object-oriented* programming, they are used to represent an object with related **attribues**(variables) and **methods** (functions). \n",
    "\n",
    "They are defined as functions but with the keyword class `class my_class(object):` followed by an indentation. The definition of a class usually contains some methods:\n",
    "* The first argument of a method must be `self` in auto-reference.\n",
    "* Some method names have a specific meaning: \n",
    "   * `__init__`: method executed at the creation of the object\n",
    "   * `__str__` : method executed to represent the object as a string for instance when the object is passed ot the function `print`\n",
    "\n",
    "a better link will be my video \n",
    "https://www.youtube.com/watch?v=FpoCS-l1QaM&list=PLGGu4X0VPj2QnO-nJ3lTZjFY6sSffHoXj\n",
    "and repo https://github.com/1shaked/year_3\n",
    "\n",
    "https://www.youtube.com/watch?v=boEUcROx1N8\n",
    "\n",
    "https://www.youtube.com/watch?v=mMDFXC-Y2Co\n",
    "\n",
    "https://realpython.com/python3-object-oriented-programming/\n",
    "\n",
    "https://www.datacamp.com/tutorial/python-oop-tutorial\n",
    "\n",
    "https://python.swaroopch.com/oop.html"
   ]
  },
  {
   "cell_type": "markdown",
   "metadata": {},
   "source": []
  },
  {
   "cell_type": "code",
   "execution_count": null,
   "metadata": {},
   "outputs": [],
   "source": []
  },
  {
   "cell_type": "code",
   "execution_count": 125,
   "metadata": {},
   "outputs": [],
   "source": [
    "class Point(object): # This line defines a class named Point that inherits from the base class object\n",
    "    \"\"\"\n",
    "    Class of a point in the 2D plane.\n",
    "    \"\"\"\n",
    "    def __init__(self, x=0.0, y=0.0):\n",
    "#This method is the constructor or initializer for the Point class.\n",
    "# It is called automatically when a new instance of the class is created.        \n",
    "        \"\"\"\n",
    "        Creation of a new point at position (x, y).\n",
    "        \"\"\"\n",
    "        # These lines initialize the instance variables x and y with the values passed as arguments.\n",
    "        # If no values are provided, default values of 0.0 are used.\n",
    "        self.x = x\n",
    "        self.y = y\n",
    "        \n",
    "    def translate(self, dx, dy):\n",
    "        \"\"\"\n",
    "        Translate the point by (dx , dy).\n",
    "        This method allows the point to be \n",
    "        translated (moved) by a specified amount along the x and y axes.\n",
    "        \"\"\"\n",
    "        self.x += dx\n",
    "        self.y += dy\n",
    "        \n",
    "    def __str__(self):\n",
    "        '''\n",
    "        his method defines the string representation of a Point object. \n",
    "        It is invoked when the str() function is called on an instance of the class.\n",
    "        '''\n",
    "        return(\"Point: ({:.2f}, {:.2f})\".format(self.x, self.y))"
   ]
  },
  {
   "cell_type": "code",
   "execution_count": 57,
   "metadata": {},
   "outputs": [
    {
     "name": "stdout",
     "output_type": "stream",
     "text": [
      "Point: (0.00, 0.00)\n",
      "Point: (3.00, 2.00)\n",
      "Point: (1.20, 3.00)\n"
     ]
    }
   ],
   "source": [
    "p1 = Point()\n",
    "print(p1)\n",
    "\n",
    "p1.translate(3,2)\n",
    "print(p1)\n",
    "\n",
    "p2 = Point(1.2,3)\n",
    "print(p2)"
   ]
  },
  {
   "cell_type": "markdown",
   "metadata": {},
   "source": [
    "# **5- Reading and writing files**\n",
    "\n",
    "\n",
    "\n",
    "`open` returns a file object, and is most commonly used with two arguments: `open(filename, mode)`.\n",
    "\n",
    "The first argument is a string containing the filename. The second argument is another string containing a few characters describing the way in which the file will be used (optional, 'r' will be assumed if it’s omitted.):\n",
    "* 'r' when the file will only be read\n",
    "* 'w' for only writing (an existing file with the same name will be erased)\n",
    "* 'a' opens the file for appending; any data written to the file is automatically added to the end"
   ]
  },
  {
   "cell_type": "markdown",
   "metadata": {},
   "source": [
    "`f.write(string)` writes the contents of string to the file."
   ]
  },
  {
   "cell_type": "code",
   "execution_count": 148,
   "metadata": {},
   "outputs": [
    {
     "name": "stdout",
     "output_type": "stream",
     "text": [
      "File 'example.txt' created successfully.\n"
     ]
    }
   ],
   "source": [
    "# Open a file named 'example.txt' in write mode ('w')\n",
    "# If the file doesn't exist, it will be created. If it exists, it will be overwritten.\n",
    "with open('example.txt', 'w') as file:\n",
    "    # Write some text to the file\n",
    "    file.write('Hello, world!\\n')\n",
    "    file.write(\"This is a text file created using Python.\\n\")\n",
    "    file.write('Writing to files in Python is easy!\\n')\n",
    "\n",
    "print(\"File 'example.txt' created successfully.\")\n"
   ]
  },
  {
   "cell_type": "markdown",
   "metadata": {},
   "source": [
    "What is the differance ??? "
   ]
  },
  {
   "cell_type": "code",
   "execution_count": null,
   "metadata": {},
   "outputs": [],
   "source": [
    "# Open the file 'example.txt' in write mode ('w')\n",
    "file = open('example.txt', 'w')\n",
    "\n",
    "# Write some text to the file\n",
    "file.write('Hello, world!\\n')\n",
    "file.write('This is a text file created using Python.\\n')\n",
    "file.write('Writing to files in Python is easy!\\n')\n",
    "\n",
    "# Close the file\n",
    "file.close()\n",
    "\n",
    "print(\"File 'example.txt' created successfully.\")\n"
   ]
  },
  {
   "cell_type": "markdown",
   "metadata": {},
   "source": [
    "We first open the file 'example.txt' in write mode 'w'.\n",
    "We write some text to the file using the write() method.\n",
    "Finally, we explicitly close the file using the close() method.\n",
    "\n",
    "The file is closed after writing to ensure that all the data is properly flushed and saved to the disk.\n",
    "\n",
    "**Remember**, using with open() as file: is preferred as it automatically closes the file when the block is exited, ensuring proper resource management and preventing potential issues with file locks or resource leaks.\n",
    "\n",
    "\n",
    "*Warning:* For the file to be actually written and being able to be opened and modified again without mistakes, it is primordial to close the file handle with `f.close()` \n",
    "or if we use `with` statement is used here to ensure that the file is properly closed after writing.\n",
    "\n",
    "\n",
    "`f.read()` will read an entire file and put the pointer at the end.\n",
    "\n",
    "\n"
   ]
  },
  {
   "cell_type": "code",
   "execution_count": 149,
   "metadata": {},
   "outputs": [
    {
     "data": {
      "text/plain": [
       "'Hello, world!\\nThis is a text file created using Python.\\nWriting to files in Python is easy!\\n'"
      ]
     },
     "execution_count": 149,
     "metadata": {},
     "output_type": "execute_result"
    }
   ],
   "source": [
    "f = open('example.txt', 'r')\n",
    "f.read()"
   ]
  },
  {
   "cell_type": "markdown",
   "metadata": {},
   "source": [
    "`f.readline()` reads a single line from the file; a newline character (\\n) is left at the end of the string"
   ]
  },
  {
   "cell_type": "code",
   "execution_count": 150,
   "metadata": {},
   "outputs": [
    {
     "data": {
      "text/plain": [
       "''"
      ]
     },
     "execution_count": 150,
     "metadata": {},
     "output_type": "execute_result"
    }
   ],
   "source": [
    "f.readline()"
   ]
  },
  {
   "cell_type": "code",
   "execution_count": 65,
   "metadata": {},
   "outputs": [
    {
     "data": {
      "text/plain": [
       "'Made specially for this course\\n'"
      ]
     },
     "execution_count": 65,
     "metadata": {},
     "output_type": "execute_result"
    }
   ],
   "source": [
    "f.readline()"
   ]
  },
  {
   "cell_type": "markdown",
   "metadata": {},
   "source": [
    "For reading lines from a file, you can loop over the file object. This is memory efficient, fast, and leads to simple code:"
   ]
  },
  {
   "cell_type": "markdown",
   "metadata": {},
   "source": [
    "# **6- Exercises**\n"
   ]
  },
  {
   "cell_type": "markdown",
   "metadata": {},
   "source": [
    ">**Ecercises 1**"
   ]
  },
  {
   "cell_type": "markdown",
   "metadata": {},
   "source": [
    ">**A.** Split the string \n",
    ">\n",
    ">name= \"my name is Alexandra\"\n",
    ">\n",
    ">into a list"
   ]
  },
  {
   "cell_type": "code",
   "execution_count": 2,
   "metadata": {},
   "outputs": [
    {
     "data": {
      "text/plain": [
       "['my', 'name', 'is', 'Shaked']"
      ]
     },
     "execution_count": 2,
     "metadata": {},
     "output_type": "execute_result"
    }
   ],
   "source": [
    "'''\n",
    "code\n",
    "'''\n",
    "name = 'my name is Shaked'\n",
    "name.split(' ')"
   ]
  },
  {
   "cell_type": "markdown",
   "metadata": {},
   "source": [
    "> **B.** Print variables\n",
    ">\n",
    ">name  = 'Alexandra'\n",
    ">\n",
    ">age = 35\n",
    ">\n",
    ">use .format() to print the fllowing string\n",
    ">\n",
    "> My name s Alexandra and I am 35 years old."
   ]
  },
  {
   "cell_type": "code",
   "execution_count": 3,
   "metadata": {},
   "outputs": [
    {
     "name": "stdout",
     "output_type": "stream",
     "text": [
      "My name is Shaked and I am 25 years old.\n"
     ]
    }
   ],
   "source": [
    "'''\n",
    "code\n",
    "'''\n",
    "name = \"Shaked\"\n",
    "age = 25\n",
    "print(\"My name is {} and I am {} years old.\".format(name, age))\n"
   ]
  },
  {
   "cell_type": "markdown",
   "metadata": {},
   "source": [
    "> **C.**  **Filtering Words Not Starting with a Specific Letter**\n",
    ">\n",
    ">You're given a list of words, and you want to filter out the words that don't start with a specific letter.\n",
    ">\n",
    ">Write a Python function called filter_words_not_starting_with_letter(words, letter) that takes two parameters:\n",
    ">\n",
    ">words: A list of words.\n",
    ">letter: The letter to filter words by.\n",
    ">The function should return a list containing only the words from the original list that do not start with the specified letter.\n",
    ">\n",
    ">\n",
    ">**Hint:** You can must using lambda expressions and the filter() function to filter out the words.\n",
    ">\n",
    ">**Example:**\n",
    ">\n",
    ">words = ['apple', 'banana', 'cat', 'dog', 'elephant']\n",
    ">\n",
    ">letter = 'b'\n",
    ">\n",
    ">filtered_words = filter_words_not_starting_with_letter(words, letter)\n",
    ">\n",
    ">print(\"Filtered Words:\", filtered_words)\n",
    ">\n",
    ">\n",
    ">**Output:**\n",
    ">\n",
    ">Filtered Words: ['cat', 'dog', 'elephant']\n",
    "\n",
    "\n"
   ]
  },
  {
   "cell_type": "code",
   "execution_count": 4,
   "metadata": {},
   "outputs": [
    {
     "name": "stdout",
     "output_type": "stream",
     "text": [
      "Filtered Words: ['apple', 'cat', 'dog', 'elephant']\n"
     ]
    }
   ],
   "source": [
    "def filter_words_not_starting_with_letter(words, letter):\n",
    "    return [word for word in words if word[0].lower() != letter.lower()]\n",
    "\n",
    "# Example usage:\n",
    "words = ['apple', 'banana', 'cat', 'dog', 'elephant']\n",
    "letter = 'b'\n",
    "filtered_words = filter_words_not_starting_with_letter(words, letter)\n",
    "print(\"Filtered Words:\", filtered_words)\n"
   ]
  },
  {
   "cell_type": "markdown",
   "metadata": {},
   "source": [
    "> **Exercise 2** tuple unpacking\n",
    ">\n",
    ">Tuples have a special quality when it comes to **for** loops. If you are iterating through a >sequence that contains tuples, the item can actually be the tuple itself, this is an example >of *tuple unpacking*. During the **for** loop we will be unpacking the tuple inside of a >sequence and we can access the individual items inside that tuple!"
   ]
  },
  {
   "cell_type": "code",
   "execution_count": 5,
   "metadata": {},
   "outputs": [],
   "source": [
    "l = [(2,4),(6,8),(10,12)]"
   ]
  },
  {
   "cell_type": "code",
   "execution_count": 7,
   "metadata": {},
   "outputs": [
    {
     "name": "stdout",
     "output_type": "stream",
     "text": [
      "(2, 4)\n",
      "(6, 8)\n",
      "(10, 12)\n",
      "2 4\n",
      "6 8\n",
      "10 12\n"
     ]
    }
   ],
   "source": [
    "for tup in l:\n",
    "    print(tup)\n",
    "\n"
   ]
  },
  {
   "cell_type": "code",
   "execution_count": null,
   "metadata": {},
   "outputs": [],
   "source": [
    "# or \n",
    "for (t1,t2) in l:\n",
    "    print(t1, t2)"
   ]
  },
  {
   "cell_type": "markdown",
   "metadata": {},
   "source": [
    "- With tuples in a sequence we can access the items inside of them through unpacking! The reason this is important is because many object will deliver their iterables through tuples."
   ]
  },
  {
   "cell_type": "markdown",
   "metadata": {},
   "source": [
    "\n",
    "\n",
    "> **Exercise 3:** Odd or Even\n",
    "> \n",
    "> The code snippet below enable the user to enter a number. \n",
    "\n",
    "\n",
    "Check if this number is odd or even. Optionnaly, handle bad inputs (character, float, signs, etc)\n"
   ]
  },
  {
   "cell_type": "code",
   "execution_count": 8,
   "metadata": {},
   "outputs": [],
   "source": [
    "def check_even_odd(num):\n",
    "    if (type(num) != int):\n",
    "        raise ValueError(\"The input is not an integer.\")\n",
    "    if num % 2 == 0 :\n",
    "        return \"Even\"\n",
    "    return \"Odd\""
   ]
  },
  {
   "cell_type": "code",
   "execution_count": 12,
   "metadata": {},
   "outputs": [
    {
     "name": "stdout",
     "output_type": "stream",
     "text": [
      "44\n"
     ]
    },
    {
     "data": {
      "text/plain": [
       "'Even'"
      ]
     },
     "execution_count": 12,
     "metadata": {},
     "output_type": "execute_result"
    }
   ],
   "source": [
    "num = input(\"Enter a number: \")\n",
    "print(num)\n",
    "check_even_odd(int(num))\n"
   ]
  },
  {
   "cell_type": "markdown",
   "metadata": {},
   "source": [
    ">**Exercise 4**\n",
    ">\n",
    ">Problem: Calculating Discount\n",
    ">\n",
    ">You're managing a store, and you want to implement a function to calculate the discount for >your customers based on their total purchase amount. \n",
    ">Write a function that returns one of three possible discount levels: \"No Discount\", \"Small >Discount\", or \"Big Discount\".\n",
    ">\n",
    ">The discount rules are as follows:\n",
    ">- If the total purchase amount is less than or equal to $50, there's no discount.\n",
    ">- If the total purchase amount is between $51 and $100 (inclusive), the discount is >considered a \"Small Discount\".\n",
    ">- If the total purchase amount is greater than $100, the discount is considered a \"Big >Discount\".\n",
    ">\n",
    ">However, if it's the customer's birthday (encoded as a boolean value in the parameters of >the function), they are eligible for an additional $10 discount regardless of their total >purchase amount.\n",
    ">\n",
    ">Write a function called `calculate_discount(total_amount, is_birthday)` that takes two >parameters:\n",
    ">- `total_amount`: The total purchase amount.\n",
    ">- `is_birthday`: A boolean indicating if it's the customer's birthday.\n",
    ">\n",
    ">The function should return one of the three possible discount levels based on the rules >described above.\n"
   ]
  },
  {
   "cell_type": "code",
   "execution_count": 13,
   "metadata": {},
   "outputs": [],
   "source": [
    "def calculate_discount(total_amount, is_birthday):\n",
    "    if is_birthday:\n",
    "        total_amount = total_amount - 10\n",
    "    if total_amount < 50:\n",
    "        return 'No discount'\n",
    "    if total_amount < 100:\n",
    "        return 'small discount'\n",
    "    return 'big discount'\n",
    "\n"
   ]
  },
  {
   "cell_type": "code",
   "execution_count": 14,
   "metadata": {},
   "outputs": [
    {
     "name": "stdout",
     "output_type": "stream",
     "text": [
      "Discount Level: No discount\n"
     ]
    }
   ],
   "source": [
    "# Example usage:\n",
    "total_amount = float(input(\"Enter the total purchase amount: \"))\n",
    "is_birthday = input(\"Is it the customer's birthday? (True/False): \").lower() == \"true\"\n",
    "\n",
    "discount_level = calculate_discount(total_amount, is_birthday)\n",
    "print(\"Discount Level:\", discount_level)\n"
   ]
  },
  {
   "cell_type": "markdown",
   "metadata": {},
   "source": [
    "# **Good Job :)**"
   ]
  }
 ],
 "metadata": {
  "kernelspec": {
   "display_name": "Python 3 (ipykernel)",
   "language": "python",
   "name": "python3"
  },
  "language_info": {
   "codemirror_mode": {
    "name": "ipython",
    "version": 3
   },
   "file_extension": ".py",
   "mimetype": "text/x-python",
   "name": "python",
   "nbconvert_exporter": "python",
   "pygments_lexer": "ipython3",
   "version": "3.10.6"
  },
  "varInspector": {
   "cols": {
    "lenName": 16,
    "lenType": 16,
    "lenVar": 40
   },
   "kernels_config": {
    "python": {
     "delete_cmd_postfix": "",
     "delete_cmd_prefix": "del ",
     "library": "var_list.py",
     "varRefreshCmd": "print(var_dic_list())"
    },
    "r": {
     "delete_cmd_postfix": ") ",
     "delete_cmd_prefix": "rm(",
     "library": "var_list.r",
     "varRefreshCmd": "cat(var_dic_list()) "
    }
   },
   "types_to_exclude": [
    "module",
    "function",
    "builtin_function_or_method",
    "instance",
    "_Feature"
   ],
   "window_display": false
  },
  "vscode": {
   "interpreter": {
    "hash": "98e8ddf1456075255bafe88ec8d9f1f1518b51b1022408d6a56800e29cc559b5"
   }
  }
 },
 "nbformat": 4,
 "nbformat_minor": 2
}
