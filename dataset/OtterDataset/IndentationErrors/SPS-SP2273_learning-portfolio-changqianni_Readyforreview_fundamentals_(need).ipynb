{
 "cells": [
  {
   "attachments": {},
   "cell_type": "markdown",
   "id": "123456",
   "metadata": {},
   "source": [
    "<div style=\"text-align:left;font-size:2em\"><span style=\"font-weight:bolder;font-size:1.25em\">SP2273 | Learning Portfolio</span><br><br><span style=\"font-weight:bold;color:darkred\">Fundamentals (Need)</span></div>"
   ]
  },
  {
   "attachments": {},
   "cell_type": "markdown",
   "id": "9cea038f",
   "metadata": {},
   "source": [
    "# What to expect in this chapter"
   ]
  },
  {
   "attachments": {},
   "cell_type": "markdown",
   "id": "83ccec7f",
   "metadata": {},
   "source": [
    "#  1 Functions"
   ]
  },
  {
   "cell_type": "code",
   "execution_count": 1,
   "id": "659bafcd-0061-4a01-a1c7-c5c4fd2f656a",
   "metadata": {},
   "outputs": [
    {
     "name": "stdout",
     "output_type": "stream",
     "text": [
      "Hello World!\n"
     ]
    }
   ],
   "source": [
    "print('Hello World!')"
   ]
  },
  {
   "attachments": {},
   "cell_type": "markdown",
   "id": "36a48707",
   "metadata": {},
   "source": [
    "# 3 Python is interpreted"
   ]
  },
  {
   "cell_type": "code",
   "execution_count": 1,
   "id": "06f7c139-a4fd-4a98-a280-96eadf2d22ba",
   "metadata": {},
   "outputs": [
    {
     "name": "stdout",
     "output_type": "stream",
     "text": [
      "Hello World!\n",
      "Hello World again!\n"
     ]
    }
   ],
   "source": [
    "print('Hello World!')\n",
    "print('Hello World again!')"
   ]
  },
  {
   "attachments": {},
   "cell_type": "markdown",
   "id": "fa2ead29",
   "metadata": {},
   "source": [
    "# 4 Python is sensitive."
   ]
  },
  {
   "cell_type": "code",
   "execution_count": 2,
   "id": "59d157b8-bdd1-4ea2-9af9-afb7b69f93ed",
   "metadata": {},
   "outputs": [
    {
     "name": "stdout",
     "output_type": "stream",
     "text": [
      "Hello World!\n"
     ]
    },
    {
     "ename": "NameError",
     "evalue": "name 'Print' is not defined",
     "output_type": "error",
     "traceback": [
      "\u001b[1;31m---------------------------------------------------------------------------\u001b[0m",
      "\u001b[1;31mNameError\u001b[0m                                 Traceback (most recent call last)",
      "Cell \u001b[1;32mIn[2], line 2\u001b[0m\n\u001b[0;32m      1\u001b[0m \u001b[38;5;28mprint\u001b[39m(\u001b[38;5;124m'\u001b[39m\u001b[38;5;124mHello World!\u001b[39m\u001b[38;5;124m'\u001b[39m)\n\u001b[1;32m----> 2\u001b[0m \u001b[43mPrint\u001b[49m(\u001b[38;5;124m'\u001b[39m\u001b[38;5;124mHello World!\u001b[39m\u001b[38;5;124m'\u001b[39m)\n",
      "\u001b[1;31mNameError\u001b[0m: name 'Print' is not defined"
     ]
    }
   ],
   "source": [
    "print('Hello World!')\n",
    "Print('Hello World!')"
   ]
  },
  {
   "attachments": {},
   "cell_type": "markdown",
   "id": "0077f259",
   "metadata": {},
   "source": [
    "# 5 Remember"
   ]
  },
  {
   "attachments": {},
   "cell_type": "markdown",
   "id": "b4c07d15",
   "metadata": {},
   "source": [
    "# 6 Comments"
   ]
  },
  {
   "cell_type": "code",
   "execution_count": 4,
   "id": "ea0fca3a-045a-44ad-ae30-b8f1ef233164",
   "metadata": {},
   "outputs": [
    {
     "name": "stdout",
     "output_type": "stream",
     "text": [
      "One\n",
      "Three\n"
     ]
    }
   ],
   "source": [
    "#This is a comment.\n",
    "print('One')             #This is a comment.\n",
    "#print('Two')            #The interpreter ignores this line.\n",
    "print('Three')           #This is\n",
    "                         #also a way to\n",
    "                         #write comments"
   ]
  },
  {
   "cell_type": "code",
   "execution_count": 1,
   "id": "a21d0462-4f66-4d47-b008-ed8f534d9369",
   "metadata": {},
   "outputs": [
    {
     "name": "stdout",
     "output_type": "stream",
     "text": [
      "Hello World!\n"
     ]
    }
   ],
   "source": [
    "print('Hello World!')"
   ]
  },
  {
   "attachments": {},
   "cell_type": "markdown",
   "id": "c39e2516",
   "metadata": {},
   "source": [
    "# 8 = is not the same as =="
   ]
  },
  {
   "cell_type": "code",
   "execution_count": 13,
   "id": "84505c21-c8d1-4f1f-b5db-44a4a6928ecf",
   "metadata": {},
   "outputs": [],
   "source": [
    "name='Batman' #make name carry 'Batman'"
   ]
  },
  {
   "cell_type": "code",
   "execution_count": 11,
   "id": "0f6420b4-04b3-4579-b624-a22a90cfd789",
   "metadata": {},
   "outputs": [
    {
     "data": {
      "text/plain": [
       "True"
      ]
     },
     "execution_count": 11,
     "metadata": {},
     "output_type": "execute_result"
    }
   ],
   "source": [
    "name == 'Batman'  # Tell me if name is equal to 'Batman'?\n",
    "                  # Answer:  True or False"
   ]
  },
  {
   "attachments": {},
   "cell_type": "markdown",
   "id": "dcf1949f",
   "metadata": {},
   "source": [
    "# 10 Use if to make decisions"
   ]
  },
  {
   "cell_type": "code",
   "execution_count": 8,
   "id": "be3cd2fc-0214-4ccf-b9a2-3d4c74ccdbd2",
   "metadata": {},
   "outputs": [
    {
     "name": "stdout",
     "output_type": "stream",
     "text": [
      "Hello Batman!\n"
     ]
    }
   ],
   "source": [
    "name='Batman'\n",
    "if name == 'Batman':\n",
    "    print('Hello Batman!')\n",
    "\n",
    "else:\n",
    "    print('Hello World!') #the use of : and indentations define what to do if the answer is true and what to do when the answer is false"
   ]
  },
  {
   "attachments": {},
   "cell_type": "markdown",
   "id": "16a9c1af",
   "metadata": {},
   "source": [
    "# 12 Indentations (spaces) are sooo IMPORTANT!"
   ]
  },
  {
   "cell_type": "code",
   "execution_count": 5,
   "id": "76e78430-115e-4522-829d-9daccafa0643",
   "metadata": {},
   "outputs": [
    {
     "name": "stdout",
     "output_type": "stream",
     "text": [
      "10\n"
     ]
    }
   ],
   "source": [
    "x=10\n",
    "print(x)"
   ]
  },
  {
   "cell_type": "code",
   "execution_count": 6,
   "id": "05b41174-0496-4234-9f4c-d844c80736e5",
   "metadata": {},
   "outputs": [
    {
     "ename": "IndentationError",
     "evalue": "unexpected indent (1719616585.py, line 2)",
     "output_type": "error",
     "traceback": [
      "\u001b[1;36m  Cell \u001b[1;32mIn[6], line 2\u001b[1;36m\u001b[0m\n\u001b[1;33m    print(x)\u001b[0m\n\u001b[1;37m    ^\u001b[0m\n\u001b[1;31mIndentationError\u001b[0m\u001b[1;31m:\u001b[0m unexpected indent\n"
     ]
    }
   ],
   "source": [
    "x=10\n",
    " print(x) "
   ]
  },
  {
   "attachments": {},
   "cell_type": "markdown",
   "id": "5a0e01ef",
   "metadata": {},
   "source": [
    "# 14 ‘age’ is English, age is a variable."
   ]
  },
  {
   "cell_type": "code",
   "execution_count": 7,
   "id": "77eed16f-26d6-46a8-8f2c-302b9f338336",
   "metadata": {},
   "outputs": [
    {
     "ename": "NameError",
     "evalue": "name 'age' is not defined",
     "output_type": "error",
     "traceback": [
      "\u001b[1;31m---------------------------------------------------------------------------\u001b[0m",
      "\u001b[1;31mNameError\u001b[0m                                 Traceback (most recent call last)",
      "Cell \u001b[1;32mIn[7], line 1\u001b[0m\n\u001b[1;32m----> 1\u001b[0m \u001b[38;5;28mprint\u001b[39m(\u001b[43mage\u001b[49m) \u001b[38;5;66;03m#Print the value of the variable age\u001b[39;00m\n\u001b[0;32m      2\u001b[0m \u001b[38;5;28mprint\u001b[39m(\u001b[38;5;124m'\u001b[39m\u001b[38;5;124mage\u001b[39m\u001b[38;5;124m'\u001b[39m) \u001b[38;5;66;03m#Print the English word \"age\"\u001b[39;00m\n",
      "\u001b[1;31mNameError\u001b[0m: name 'age' is not defined"
     ]
    }
   ],
   "source": [
    "print(age) #Print the value of the variable age\n",
    "print('age') #Print the English word \"age\""
   ]
  },
  {
   "cell_type": "code",
   "execution_count": 2,
   "id": "419982b8-10a1-4a55-96f1-56e973ab865e",
   "metadata": {},
   "outputs": [
    {
     "name": "stdout",
     "output_type": "stream",
     "text": [
      "24\n"
     ]
    }
   ],
   "source": [
    "age=24\n",
    "print(age) #note that you can use both ' ' and \" \""
   ]
  },
  {
   "attachments": {},
   "cell_type": "markdown",
   "id": "6ef7aa68",
   "metadata": {},
   "source": [
    "# 15 Brackets"
   ]
  },
  {
   "cell_type": "code",
   "execution_count": 11,
   "id": "088b7195-0ecb-4041-a7af-41fa58adc11d",
   "metadata": {},
   "outputs": [
    {
     "name": "stdout",
     "output_type": "stream",
     "text": [
      "Hello\n"
     ]
    }
   ],
   "source": [
    "print('Hello') #in functions"
   ]
  },
  {
   "cell_type": "code",
   "execution_count": 12,
   "id": "836ca5de-2970-4ca4-8c53-6a34cc14eef0",
   "metadata": {},
   "outputs": [
    {
     "data": {
      "text/plain": [
       "15"
      ]
     },
     "execution_count": 12,
     "metadata": {},
     "output_type": "execute_result"
    }
   ],
   "source": [
    "(1+2)*5 #in maths"
   ]
  },
  {
   "cell_type": "code",
   "execution_count": 13,
   "id": "dd98e564-cc10-4bf8-91cc-096954d5ef88",
   "metadata": {},
   "outputs": [],
   "source": [
    "py_list=[1, 2, 3, 4, 5] #1D list\n",
    "\n",
    "py_list_2=[\n",
    "                [1, \"A\"],\n",
    "                [2, \"B\"],\n",
    "                [3, \"C\"],\n",
    "                [4, \"D\"],\n",
    "                [5, \"E\"]\n",
    "          ]\n",
    "                            #2D list\n",
    "#typed out myself"
   ]
  },
  {
   "cell_type": "code",
   "execution_count": 14,
   "id": "e8184a02-c50d-4312-aefd-5f8b2dc5fad3",
   "metadata": {},
   "outputs": [],
   "source": [
    "py_list = [1, 2, 3, 4, 5]   # A 1D list\n",
    "\n",
    "py_list_2 = [               # A 2D list\n",
    "                [1, \"A\"],      \n",
    "                [2, \"B\"],\n",
    "                [3, \"C\"],\n",
    "                [4, \"D\"],\n",
    "                [5, \"E\"]\n",
    "            ]\n",
    "#copied from website"
   ]
  },
  {
   "cell_type": "code",
   "execution_count": 20,
   "id": "c5232631-2c99-4657-9a31-5ce3c58436de",
   "metadata": {},
   "outputs": [],
   "source": [
    "personal_info={\n",
    "    'Names': 'Batman',\n",
    "    'Real Name': 'Bruce Wayne',\n",
    "    'Age': '55',\n",
    "    'Affiliation': 'Justice League',\n",
    "    'Universe': 'DC'\n",
    "}\n",
    "#it's like storing that as a value attached to that word"
   ]
  },
  {
   "cell_type": "code",
   "execution_count": 19,
   "id": "7eaf6c06-c177-4ea4-841c-a04f5f980706",
   "metadata": {},
   "outputs": [
    {
     "name": "stdout",
     "output_type": "stream",
     "text": [
      "Bruce Wayne\n"
     ]
    }
   ],
   "source": [
    "print(personal_info['Real Name'])"
   ]
  },
  {
   "attachments": {},
   "cell_type": "markdown",
   "id": "ca6b992f",
   "metadata": {},
   "source": [
    "# 16 Giving Python superpowers with Packages"
   ]
  },
  {
   "attachments": {},
   "cell_type": "markdown",
   "id": "a8fdbf09",
   "metadata": {},
   "source": [
    "## 16.1 Some Context"
   ]
  },
  {
   "cell_type": "code",
   "execution_count": 21,
   "id": "599aa176-0b4d-4ffb-80b7-2d76a1297127",
   "metadata": {},
   "outputs": [
    {
     "data": {
      "text/plain": [
       "40.5"
      ]
     },
     "execution_count": 21,
     "metadata": {},
     "output_type": "execute_result"
    }
   ],
   "source": [
    "1*((2-3)+4)**5/6"
   ]
  },
  {
   "cell_type": "code",
   "execution_count": 22,
   "id": "57311b36-64a7-4426-b96c-0575d03fcfe0",
   "metadata": {},
   "outputs": [
    {
     "ename": "NameError",
     "evalue": "name 'sqrt' is not defined",
     "output_type": "error",
     "traceback": [
      "\u001b[1;31m---------------------------------------------------------------------------\u001b[0m",
      "\u001b[1;31mNameError\u001b[0m                                 Traceback (most recent call last)",
      "Cell \u001b[1;32mIn[22], line 1\u001b[0m\n\u001b[1;32m----> 1\u001b[0m \u001b[43msqrt\u001b[49m(\u001b[38;5;241m4\u001b[39m)\n",
      "\u001b[1;31mNameError\u001b[0m: name 'sqrt' is not defined"
     ]
    }
   ],
   "source": [
    "sqrt(4)"
   ]
  },
  {
   "attachments": {},
   "cell_type": "markdown",
   "id": "6df8952d",
   "metadata": {},
   "source": [
    "## 16.2 Importing the math package"
   ]
  },
  {
   "cell_type": "code",
   "execution_count": 23,
   "id": "2bd913ea-16ed-4c8a-9eff-73e510bffbbf",
   "metadata": {},
   "outputs": [],
   "source": [
    "import math"
   ]
  },
  {
   "cell_type": "code",
   "execution_count": 24,
   "id": "d0e37c6a-8d35-4c11-9488-baf51a0567fe",
   "metadata": {},
   "outputs": [
    {
     "data": {
      "text/plain": [
       "2.0"
      ]
     },
     "execution_count": 24,
     "metadata": {},
     "output_type": "execute_result"
    }
   ],
   "source": [
    "math.sqrt(4)"
   ]
  },
  {
   "attachments": {},
   "cell_type": "markdown",
   "id": "65813255",
   "metadata": {},
   "source": [
    "## 16.3 Importing the numpy package"
   ]
  },
  {
   "cell_type": "code",
   "execution_count": 26,
   "id": "fc6c3e31-96ff-4e0c-a777-aa067e329ef2",
   "metadata": {},
   "outputs": [],
   "source": [
    "import numpy as np  #importing numpy and giving\n",
    "                    #it an alias np\n",
    "                    #because I am lazy"
   ]
  },
  {
   "cell_type": "code",
   "execution_count": 27,
   "id": "9cd68c0b-c3c6-4e94-82e6-125c47ada983",
   "metadata": {},
   "outputs": [
    {
     "data": {
      "text/plain": [
       "2.0"
      ]
     },
     "execution_count": 27,
     "metadata": {},
     "output_type": "execute_result"
    }
   ],
   "source": [
    "np.sqrt(4)"
   ]
  },
  {
   "attachments": {},
   "cell_type": "markdown",
   "id": "d6581e19",
   "metadata": {},
   "source": [
    "## 16.4 Why so many packages?"
   ]
  },
  {
   "cell_type": "code",
   "execution_count": 28,
   "id": "d6501c27-903c-441e-8f3c-7b828fd25611",
   "metadata": {},
   "outputs": [
    {
     "data": {
      "text/plain": [
       "array([2., 3., 4.])"
      ]
     },
     "execution_count": 28,
     "metadata": {},
     "output_type": "execute_result"
    }
   ],
   "source": [
    "np.sqrt([4, 9, 16])"
   ]
  },
  {
   "cell_type": "code",
   "execution_count": 29,
   "id": "c4f8095f-af5b-4c21-830a-a3c44c2e6731",
   "metadata": {},
   "outputs": [
    {
     "ename": "TypeError",
     "evalue": "must be real number, not list",
     "output_type": "error",
     "traceback": [
      "\u001b[1;31m---------------------------------------------------------------------------\u001b[0m",
      "\u001b[1;31mTypeError\u001b[0m                                 Traceback (most recent call last)",
      "Cell \u001b[1;32mIn[29], line 1\u001b[0m\n\u001b[1;32m----> 1\u001b[0m \u001b[43mmath\u001b[49m\u001b[38;5;241;43m.\u001b[39;49m\u001b[43msqrt\u001b[49m\u001b[43m(\u001b[49m\u001b[43m[\u001b[49m\u001b[38;5;241;43m4\u001b[39;49m\u001b[43m,\u001b[49m\u001b[43m \u001b[49m\u001b[38;5;241;43m9\u001b[39;49m\u001b[43m,\u001b[49m\u001b[43m \u001b[49m\u001b[38;5;241;43m16\u001b[39;49m\u001b[43m]\u001b[49m\u001b[43m)\u001b[49m\n",
      "\u001b[1;31mTypeError\u001b[0m: must be real number, not list"
     ]
    }
   ],
   "source": [
    "math.sqrt([4, 9, 16])"
   ]
  },
  {
   "attachments": {},
   "cell_type": "markdown",
   "id": "f840a2f8",
   "metadata": {},
   "source": [
    "# 18 The dot (.)"
   ]
  },
  {
   "cell_type": "code",
   "execution_count": 30,
   "id": "34cc57e4-a2c3-448b-8207-cfe80aa3505e",
   "metadata": {},
   "outputs": [
    {
     "data": {
      "text/plain": [
       "2.0"
      ]
     },
     "execution_count": 30,
     "metadata": {},
     "output_type": "execute_result"
    }
   ],
   "source": [
    "math.sqrt(4)\n",
    "np.sqrt(4)"
   ]
  },
  {
   "cell_type": "code",
   "execution_count": 33,
   "id": "ce4d998c-ff05-4288-9667-1b029807b907",
   "metadata": {},
   "outputs": [
    {
     "data": {
      "text/plain": [
       "['I', 'am', 'Batman.']"
      ]
     },
     "execution_count": 33,
     "metadata": {},
     "output_type": "execute_result"
    }
   ],
   "source": [
    "'I am Batman.'.split() #\".\" represents indicates ownership, and what it can access depends on the context\n",
    "                        #which in this case is \"split\""
   ]
  },
  {
   "cell_type": "code",
   "execution_count": 32,
   "id": "83f76bce-64d4-460b-86e6-d171ac61a268",
   "metadata": {},
   "outputs": [
    {
     "data": {
      "text/plain": [
       "['1234']"
      ]
     },
     "execution_count": 32,
     "metadata": {},
     "output_type": "execute_result"
    }
   ],
   "source": [
    "'1234'.split()"
   ]
  }
 ],
 "metadata": {
  "kernelspec": {
   "display_name": "Python 3 (ipykernel)",
   "language": "python",
   "name": "python3"
  },
  "language_info": {
   "codemirror_mode": {
    "name": "ipython",
    "version": 3
   },
   "file_extension": ".py",
   "mimetype": "text/x-python",
   "name": "python",
   "nbconvert_exporter": "python",
   "pygments_lexer": "ipython3",
   "version": "3.11.5"
  },
  "toc": {
   "base_numbering": 1,
   "nav_menu": {},
   "number_sections": true,
   "sideBar": true,
   "skip_h1_title": false,
   "title_cell": "Table of Contents",
   "title_sidebar": "Contents",
   "toc_cell": false,
   "toc_position": {},
   "toc_section_display": true,
   "toc_window_display": false
  },
  "vscode": {
   "interpreter": {
    "hash": "31f2aee4e71d21fbe5cf8b01ff0e069b9275f58929596ceb00d14d90e3e16cd6"
   }
  }
 },
 "nbformat": 4,
 "nbformat_minor": 5
}
