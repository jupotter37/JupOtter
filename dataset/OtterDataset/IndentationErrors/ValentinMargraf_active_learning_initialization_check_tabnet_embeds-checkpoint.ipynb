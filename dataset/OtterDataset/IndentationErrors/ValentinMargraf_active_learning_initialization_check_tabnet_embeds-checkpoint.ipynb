{
 "cells": [
  {
   "cell_type": "code",
   "execution_count": 1,
   "id": "6f758d82",
   "metadata": {},
   "outputs": [
    {
     "ename": "ImportError",
     "evalue": "cannot import name 'SparsePredictDataset' from 'pytorch_tabnet.utils' (/home/valentin/.local/lib/python3.10/site-packages/pytorch_tabnet/utils.py)",
     "output_type": "error",
     "traceback": [
      "\u001b[0;31m---------------------------------------------------------------------------\u001b[0m",
      "\u001b[0;31mImportError\u001b[0m                               Traceback (most recent call last)",
      "Cell \u001b[0;32mIn[1], line 9\u001b[0m\n\u001b[1;32m      6\u001b[0m \u001b[38;5;28;01mimport\u001b[39;00m \u001b[38;5;21;01mtorch\u001b[39;00m\u001b[38;5;21;01m.\u001b[39;00m\u001b[38;5;21;01mnn\u001b[39;00m \u001b[38;5;28;01mas\u001b[39;00m \u001b[38;5;21;01mnn\u001b[39;00m\n\u001b[1;32m      7\u001b[0m \u001b[38;5;28;01mimport\u001b[39;00m \u001b[38;5;21;01mtorch\u001b[39;00m\u001b[38;5;21;01m.\u001b[39;00m\u001b[38;5;21;01mnn\u001b[39;00m\u001b[38;5;21;01m.\u001b[39;00m\u001b[38;5;21;01mfunctional\u001b[39;00m \u001b[38;5;28;01mas\u001b[39;00m \u001b[38;5;21;01mF\u001b[39;00m\n\u001b[0;32m----> 9\u001b[0m \u001b[38;5;28;01mfrom\u001b[39;00m \u001b[38;5;21;01mALP\u001b[39;00m\u001b[38;5;21;01m.\u001b[39;00m\u001b[38;5;21;01mpytorch_tabnet\u001b[39;00m\u001b[38;5;21;01m.\u001b[39;00m\u001b[38;5;21;01mtab_model\u001b[39;00m \u001b[38;5;28;01mimport\u001b[39;00m TabNetClassifier\n",
      "File \u001b[0;32m~/Documents/Projects/2024/24_03_MetaAL/ActiveLearningPipelines/ALP/pytorch_tabnet/tab_model.py:4\u001b[0m\n\u001b[1;32m      2\u001b[0m \u001b[38;5;28;01mimport\u001b[39;00m \u001b[38;5;21;01mnumpy\u001b[39;00m \u001b[38;5;28;01mas\u001b[39;00m \u001b[38;5;21;01mnp\u001b[39;00m\n\u001b[1;32m      3\u001b[0m \u001b[38;5;28;01mfrom\u001b[39;00m \u001b[38;5;21;01mscipy\u001b[39;00m\u001b[38;5;21;01m.\u001b[39;00m\u001b[38;5;21;01mspecial\u001b[39;00m \u001b[38;5;28;01mimport\u001b[39;00m softmax\n\u001b[0;32m----> 4\u001b[0m \u001b[38;5;28;01mfrom\u001b[39;00m \u001b[38;5;21;01mpytorch_tabnet\u001b[39;00m\u001b[38;5;21;01m.\u001b[39;00m\u001b[38;5;21;01mutils\u001b[39;00m \u001b[38;5;28;01mimport\u001b[39;00m SparsePredictDataset, PredictDataset, filter_weights\n\u001b[1;32m      5\u001b[0m \u001b[38;5;28;01mfrom\u001b[39;00m \u001b[38;5;21;01mpytorch_tabnet\u001b[39;00m\u001b[38;5;21;01m.\u001b[39;00m\u001b[38;5;21;01mabstract_model\u001b[39;00m \u001b[38;5;28;01mimport\u001b[39;00m TabModel\n\u001b[1;32m      6\u001b[0m \u001b[38;5;28;01mfrom\u001b[39;00m \u001b[38;5;21;01mpytorch_tabnet\u001b[39;00m\u001b[38;5;21;01m.\u001b[39;00m\u001b[38;5;21;01mmulticlass_utils\u001b[39;00m \u001b[38;5;28;01mimport\u001b[39;00m infer_output_dim, check_output_dim\n",
      "\u001b[0;31mImportError\u001b[0m: cannot import name 'SparsePredictDataset' from 'pytorch_tabnet.utils' (/home/valentin/.local/lib/python3.10/site-packages/pytorch_tabnet/utils.py)"
     ]
    }
   ],
   "source": [
    "import torch\n",
    "import random\n",
    "import pathlib\n",
    "import sys\n",
    "import torch.optim as optim\n",
    "import torch.nn as nn\n",
    "import torch.nn.functional as F\n",
    "\n",
    "from ALP.pytorch_tabnet.tab_model import TabNetClassifier"
   ]
  },
  {
   "cell_type": "code",
   "execution_count": null,
   "id": "4cb221f9",
   "metadata": {},
   "outputs": [],
   "source": []
  },
  {
   "cell_type": "code",
   "execution_count": 16,
   "id": "9c0ad505",
   "metadata": {},
   "outputs": [],
   "source": [
    "from sklearn.datasets import make_blobs\n",
    "from sklearn.model_selection import train_test_split\n",
    "# Build a dataset.\n",
    "X, y = make_blobs(n_samples=150, n_features=2,\n",
    "                    centers=[[0, 1], [-3, .5]],\n",
    "                    cluster_std=.7, random_state=2)\n",
    "\n",
    "X_l, X_u, y_l, y_u = train_test_split(X, y, test_size=.9)"
   ]
  },
  {
   "cell_type": "code",
   "execution_count": 17,
   "id": "13468c2f",
   "metadata": {},
   "outputs": [
    {
     "name": "stdout",
     "output_type": "stream",
     "text": [
      "512\n"
     ]
    }
   ],
   "source": [
    "clf = TabPFNEmbedder(X_l,y_l)"
   ]
  },
  {
   "cell_type": "code",
   "execution_count": 18,
   "id": "188f17df",
   "metadata": {},
   "outputs": [],
   "source": [
    "embeds=clf.forward(X_u, encode=True)"
   ]
  },
  {
   "cell_type": "code",
   "execution_count": 19,
   "id": "6dc5750a",
   "metadata": {},
   "outputs": [
    {
     "name": "stdout",
     "output_type": "stream",
     "text": [
      "(135, 2)\n",
      "(135, 4096)\n"
     ]
    }
   ],
   "source": [
    "print(X_u.shape)\n",
    "print(embeds.shape)"
   ]
  },
  {
   "cell_type": "code",
   "execution_count": 7,
   "id": "456a5c42",
   "metadata": {},
   "outputs": [
    {
     "ename": "IndentationError",
     "evalue": "unindent does not match any outer indentation level (<tokenize>, line 3)",
     "output_type": "error",
     "traceback": [
      "\u001b[0;36m  File \u001b[0;32m<tokenize>:3\u001b[0;36m\u001b[0m\n\u001b[0;31m    cat_dims : list of int\u001b[0m\n\u001b[0m    ^\u001b[0m\n\u001b[0;31mIndentationError\u001b[0m\u001b[0;31m:\u001b[0m unindent does not match any outer indentation level\n"
     ]
    }
   ],
   "source": [
    "      input_dim : int\n",
    "            Number of features coming as input (number of columns)\n",
    "        cat_dims : list of int\n",
    "            Number of modalities for each categorial features\n",
    "            If the list is empty, no embeddings will be done\n",
    "        cat_idxs : list of int\n",
    "            Positional index for each categorical features in inputs\n",
    "        cat_emb_dim : list of int\n",
    "            Embedding dimension for each categorical features\n",
    "            If int, the same embedding dimension will be used for all categorical features"
   ]
  },
  {
   "cell_type": "code",
   "execution_count": 12,
   "id": "91fc8b63",
   "metadata": {},
   "outputs": [
    {
     "ename": "AttributeError",
     "evalue": "'numpy.ndarray' object has no attribute 'long'",
     "output_type": "error",
     "traceback": [
      "\u001b[0;31m---------------------------------------------------------------------------\u001b[0m",
      "\u001b[0;31mAttributeError\u001b[0m                            Traceback (most recent call last)",
      "Cell \u001b[0;32mIn[12], line 3\u001b[0m\n\u001b[1;32m      1\u001b[0m \u001b[38;5;28;01mfrom\u001b[39;00m \u001b[38;5;21;01mpytorch_tabnet\u001b[39;00m\u001b[38;5;21;01m.\u001b[39;00m\u001b[38;5;21;01mtab_network\u001b[39;00m \u001b[38;5;28;01mimport\u001b[39;00m EmbeddingGenerator\n\u001b[1;32m      2\u001b[0m embedding_generator \u001b[38;5;241m=\u001b[39m EmbeddingGenerator(input_dim\u001b[38;5;241m=\u001b[39mX_l\u001b[38;5;241m.\u001b[39mshape[\u001b[38;5;241m1\u001b[39m], cat_dims\u001b[38;5;241m=\u001b[39m[\u001b[38;5;241m0\u001b[39m], cat_idxs\u001b[38;5;241m=\u001b[39m[\u001b[38;5;241m0\u001b[39m], cat_emb_dim\u001b[38;5;241m=\u001b[39m\u001b[38;5;241m1\u001b[39m)\n\u001b[0;32m----> 3\u001b[0m embeddings \u001b[38;5;241m=\u001b[39m \u001b[43membedding_generator\u001b[49m\u001b[43m(\u001b[49m\u001b[43mX_l\u001b[49m\u001b[43m)\u001b[49m\n",
      "File \u001b[0;32m~/mambaforge/envs/alp_saltbench/lib/python3.10/site-packages/torch/nn/modules/module.py:1194\u001b[0m, in \u001b[0;36mModule._call_impl\u001b[0;34m(self, *input, **kwargs)\u001b[0m\n\u001b[1;32m   1190\u001b[0m \u001b[38;5;66;03m# If we don't have any hooks, we want to skip the rest of the logic in\u001b[39;00m\n\u001b[1;32m   1191\u001b[0m \u001b[38;5;66;03m# this function, and just call forward.\u001b[39;00m\n\u001b[1;32m   1192\u001b[0m \u001b[38;5;28;01mif\u001b[39;00m \u001b[38;5;129;01mnot\u001b[39;00m (\u001b[38;5;28mself\u001b[39m\u001b[38;5;241m.\u001b[39m_backward_hooks \u001b[38;5;129;01mor\u001b[39;00m \u001b[38;5;28mself\u001b[39m\u001b[38;5;241m.\u001b[39m_forward_hooks \u001b[38;5;129;01mor\u001b[39;00m \u001b[38;5;28mself\u001b[39m\u001b[38;5;241m.\u001b[39m_forward_pre_hooks \u001b[38;5;129;01mor\u001b[39;00m _global_backward_hooks\n\u001b[1;32m   1193\u001b[0m         \u001b[38;5;129;01mor\u001b[39;00m _global_forward_hooks \u001b[38;5;129;01mor\u001b[39;00m _global_forward_pre_hooks):\n\u001b[0;32m-> 1194\u001b[0m     \u001b[38;5;28;01mreturn\u001b[39;00m \u001b[43mforward_call\u001b[49m\u001b[43m(\u001b[49m\u001b[38;5;241;43m*\u001b[39;49m\u001b[38;5;28;43minput\u001b[39;49m\u001b[43m,\u001b[49m\u001b[43m \u001b[49m\u001b[38;5;241;43m*\u001b[39;49m\u001b[38;5;241;43m*\u001b[39;49m\u001b[43mkwargs\u001b[49m\u001b[43m)\u001b[49m\n\u001b[1;32m   1195\u001b[0m \u001b[38;5;66;03m# Do not call functions when jit is used\u001b[39;00m\n\u001b[1;32m   1196\u001b[0m full_backward_hooks, non_full_backward_hooks \u001b[38;5;241m=\u001b[39m [], []\n",
      "File \u001b[0;32m~/.local/lib/python3.10/site-packages/pytorch_tabnet/tab_network.py:861\u001b[0m, in \u001b[0;36mEmbeddingGenerator.forward\u001b[0;34m(self, x)\u001b[0m\n\u001b[1;32m    858\u001b[0m         cols\u001b[38;5;241m.\u001b[39mappend(x[:, feat_init_idx]\u001b[38;5;241m.\u001b[39mfloat()\u001b[38;5;241m.\u001b[39mview(\u001b[38;5;241m-\u001b[39m\u001b[38;5;241m1\u001b[39m, \u001b[38;5;241m1\u001b[39m))\n\u001b[1;32m    859\u001b[0m     \u001b[38;5;28;01melse\u001b[39;00m:\n\u001b[1;32m    860\u001b[0m         cols\u001b[38;5;241m.\u001b[39mappend(\n\u001b[0;32m--> 861\u001b[0m             \u001b[38;5;28mself\u001b[39m\u001b[38;5;241m.\u001b[39membeddings[cat_feat_counter](\u001b[43mx\u001b[49m\u001b[43m[\u001b[49m\u001b[43m:\u001b[49m\u001b[43m,\u001b[49m\u001b[43m \u001b[49m\u001b[43mfeat_init_idx\u001b[49m\u001b[43m]\u001b[49m\u001b[38;5;241;43m.\u001b[39;49m\u001b[43mlong\u001b[49m())\n\u001b[1;32m    862\u001b[0m         )\n\u001b[1;32m    863\u001b[0m         cat_feat_counter \u001b[38;5;241m+\u001b[39m\u001b[38;5;241m=\u001b[39m \u001b[38;5;241m1\u001b[39m\n\u001b[1;32m    864\u001b[0m \u001b[38;5;66;03m# concat\u001b[39;00m\n",
      "\u001b[0;31mAttributeError\u001b[0m: 'numpy.ndarray' object has no attribute 'long'"
     ]
    }
   ],
   "source": [
    "from pytorch_tabnet.tab_network import EmbeddingGenerator\n",
    "embedding_generator = EmbeddingGenerator(input_dim=X_l.shape[1], cat_dims=[0], cat_idxs=[0], cat_emb_dim=1)\n",
    "embeddings = embedding_generator(X_l)"
   ]
  },
  {
   "cell_type": "code",
   "execution_count": null,
   "id": "49636d37",
   "metadata": {},
   "outputs": [],
   "source": []
  }
 ],
 "metadata": {
  "kernelspec": {
   "display_name": "alp_saltbench",
   "language": "python",
   "name": "alp_saltbench"
  },
  "language_info": {
   "codemirror_mode": {
    "name": "ipython",
    "version": 3
   },
   "file_extension": ".py",
   "mimetype": "text/x-python",
   "name": "python",
   "nbconvert_exporter": "python",
   "pygments_lexer": "ipython3",
   "version": "3.10.14"
  }
 },
 "nbformat": 4,
 "nbformat_minor": 5
}
