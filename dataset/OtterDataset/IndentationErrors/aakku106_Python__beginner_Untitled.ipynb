{
 "cells": [
  {
   "cell_type": "code",
   "execution_count": 120,
   "id": "29c53051-4909-437c-9e3e-bdb8f9ff4fb5",
   "metadata": {},
   "outputs": [
    {
     "name": "stdin",
     "output_type": "stream",
     "text": [
      "What year did you get your passport?  2024\n"
     ]
    },
    {
     "name": "stdout",
     "output_type": "stream",
     "text": [
      "You may use your current passport\n"
     ]
    }
   ],
   "source": [
    "import time\n",
    "current_year = int(time.strftime('%Y'))\n",
    "received_year = int(input('What year did you get your passport? '))\n",
    "if received_year + 10 < current_year:\n",
    "    print('You should go get a new passport') \n",
    "\n",
    "else:\n",
    "    print('You may use your current passport')"
   ]
  },
  {
   "cell_type": "code",
   "execution_count": 100,
   "id": "f901279e-119a-417c-981a-534fd6cbefa9",
   "metadata": {},
   "outputs": [
    {
     "ename": "IndentationError",
     "evalue": "expected an indented block after 'if' statement on line 5 (1149903496.py, line 6)",
     "output_type": "error",
     "traceback": [
      "\u001b[1;36m  Cell \u001b[1;32mIn[100], line 6\u001b[1;36m\u001b[0m\n\u001b[1;33m    print('You should go get a new passport')  # Aligned with the if statement\u001b[0m\n\u001b[1;37m    ^\u001b[0m\n\u001b[1;31mIndentationError\u001b[0m\u001b[1;31m:\u001b[0m expected an indented block after 'if' statement on line 5\n"
     ]
    }
   ],
   "source": [
    "    current_year = 2020\n",
    "    received_year = 2010\n",
    "         if received_year + 10 < current_year :\n",
    "               print('You should go get a new passport')\n",
    "         else\n",
    "               print('You may use your current passport')"
   ]
  },
  {
   "cell_type": "code",
   "execution_count": null,
   "id": "7526d2f9-a1c6-4a55-b5c6-4e179323f25f",
   "metadata": {},
   "outputs": [],
   "source": []
  }
 ],
 "metadata": {
  "kernelspec": {
   "display_name": "Python 3 (ipykernel)",
   "language": "python",
   "name": "python3"
  },
  "language_info": {
   "codemirror_mode": {
    "name": "ipython",
    "version": 3
   },
   "file_extension": ".py",
   "mimetype": "text/x-python",
   "name": "python",
   "nbconvert_exporter": "python",
   "pygments_lexer": "ipython3",
   "version": "3.11.7"
  }
 },
 "nbformat": 4,
 "nbformat_minor": 5
}
