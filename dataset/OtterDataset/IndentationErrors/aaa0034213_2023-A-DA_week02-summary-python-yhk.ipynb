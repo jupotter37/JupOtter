{
 "cells": [
  {
   "cell_type": "code",
   "execution_count": 1,
   "id": "b3e11b89",
   "metadata": {},
   "outputs": [
    {
     "data": {
      "text/plain": [
       "int"
      ]
     },
     "execution_count": 1,
     "metadata": {},
     "output_type": "execute_result"
    }
   ],
   "source": [
    "type(123)"
   ]
  },
  {
   "cell_type": "code",
   "execution_count": 2,
   "id": "0906742d",
   "metadata": {},
   "outputs": [
    {
     "data": {
      "text/plain": [
       "float"
      ]
     },
     "execution_count": 2,
     "metadata": {},
     "output_type": "execute_result"
    }
   ],
   "source": [
    "type(3.15)"
   ]
  },
  {
   "cell_type": "code",
   "execution_count": 3,
   "id": "5c492fe9",
   "metadata": {},
   "outputs": [
    {
     "name": "stdout",
     "output_type": "stream",
     "text": [
      "70\n"
     ]
    }
   ],
   "source": [
    "print(10*7)"
   ]
  },
  {
   "cell_type": "code",
   "execution_count": 4,
   "id": "b1bf3369",
   "metadata": {},
   "outputs": [
    {
     "name": "stdout",
     "output_type": "stream",
     "text": [
      "Hi,anyone\n"
     ]
    }
   ],
   "source": [
    "print('Hi,anyone')"
   ]
  },
  {
   "cell_type": "markdown",
   "id": "dd837d40",
   "metadata": {},
   "source": []
  },
  {
   "cell_type": "code",
   "execution_count": 5,
   "id": "5c5a8136",
   "metadata": {},
   "outputs": [
    {
     "name": "stdout",
     "output_type": "stream",
     "text": [
      "2023\n"
     ]
    }
   ],
   "source": [
    "a= 2023\n",
    "print(a)"
   ]
  },
  {
   "cell_type": "code",
   "execution_count": 6,
   "id": "cbb1c914",
   "metadata": {},
   "outputs": [
    {
     "name": "stdout",
     "output_type": "stream",
     "text": [
      "여러분 안녕하세요\n"
     ]
    }
   ],
   "source": [
    "b='여러분'\n",
    "print(b+' 안녕하세요')"
   ]
  },
  {
   "cell_type": "code",
   "execution_count": 7,
   "id": "4452ae1e",
   "metadata": {},
   "outputs": [
    {
     "name": "stdout",
     "output_type": "stream",
     "text": [
      "2023 년해도새해 복 많이 받으세요!\n"
     ]
    }
   ],
   "source": [
    "c= '새해'\n",
    "print(a,'년해도'+ c +' 복 많이 받으세요!')"
   ]
  },
  {
   "cell_type": "code",
   "execution_count": 8,
   "id": "cc614e0d",
   "metadata": {},
   "outputs": [
    {
     "name": "stdout",
     "output_type": "stream",
     "text": [
      "2023 년해도새해 복 많이 받으세요!\n"
     ]
    }
   ],
   "source": [
    "c= '새해'\n",
    "print(str(a),'년해도'+ c +' 복 많이 받으세요!')"
   ]
  },
  {
   "cell_type": "code",
   "execution_count": 9,
   "id": "caa44c0d",
   "metadata": {},
   "outputs": [
    {
     "name": "stdout",
     "output_type": "stream",
     "text": [
      "2023 년해도새해 복 많이 받으세요!\n"
     ]
    }
   ],
   "source": [
    "c= '새해'\n",
    "print(str(a),'년해도'+ c +' 복 많이 받으세요!')"
   ]
  },
  {
   "cell_type": "markdown",
   "id": "1effe998",
   "metadata": {},
   "source": [
    "# 표준입력"
   ]
  },
  {
   "cell_type": "code",
   "execution_count": 10,
   "id": "987f3dd5",
   "metadata": {},
   "outputs": [
    {
     "name": "stdout",
     "output_type": "stream",
     "text": [
      "이름 입력>김철수\n"
     ]
    }
   ],
   "source": [
    "name = input('이름 입력>')"
   ]
  },
  {
   "cell_type": "code",
   "execution_count": 11,
   "id": "11fb4dc3",
   "metadata": {},
   "outputs": [
    {
     "data": {
      "text/plain": [
       "'김철수'"
      ]
     },
     "execution_count": 11,
     "metadata": {},
     "output_type": "execute_result"
    }
   ],
   "source": [
    "name"
   ]
  },
  {
   "cell_type": "code",
   "execution_count": 12,
   "id": "d433ebbf",
   "metadata": {},
   "outputs": [
    {
     "name": "stdout",
     "output_type": "stream",
     "text": [
      "김철수님 안녕하세요!\n"
     ]
    }
   ],
   "source": [
    "print(name+'님 안녕하세요!')"
   ]
  },
  {
   "cell_type": "code",
   "execution_count": 13,
   "id": "9334da02",
   "metadata": {},
   "outputs": [
    {
     "name": "stdout",
     "output_type": "stream",
     "text": [
      "출생 연도>2001\n"
     ]
    }
   ],
   "source": [
    "birth = input(\"출생 연도>\")"
   ]
  },
  {
   "cell_type": "code",
   "execution_count": 14,
   "id": "d4d017ae",
   "metadata": {},
   "outputs": [
    {
     "ename": "TypeError",
     "evalue": "unsupported operand type(s) for -: 'int' and 'str'",
     "output_type": "error",
     "traceback": [
      "\u001b[1;31m---------------------------------------------------------------------------\u001b[0m",
      "\u001b[1;31mTypeError\u001b[0m                                 Traceback (most recent call last)",
      "\u001b[1;32m~\\AppData\\Local\\Temp\\ipykernel_15328\\4036413933.py\u001b[0m in \u001b[0;36m<module>\u001b[1;34m\u001b[0m\n\u001b[1;32m----> 1\u001b[1;33m \u001b[0mprint\u001b[0m\u001b[1;33m(\u001b[0m\u001b[1;36m2023\u001b[0m\u001b[1;33m-\u001b[0m\u001b[0mbirth\u001b[0m\u001b[1;33m,\u001b[0m\u001b[1;34m'세 입니다.'\u001b[0m\u001b[1;33m)\u001b[0m\u001b[1;33m\u001b[0m\u001b[1;33m\u001b[0m\u001b[0m\n\u001b[0m",
      "\u001b[1;31mTypeError\u001b[0m: unsupported operand type(s) for -: 'int' and 'str'"
     ]
    }
   ],
   "source": [
    "print(2023-birth,'세 입니다.')"
   ]
  },
  {
   "cell_type": "code",
   "execution_count": 15,
   "id": "f74c8117",
   "metadata": {},
   "outputs": [
    {
     "name": "stdout",
     "output_type": "stream",
     "text": [
      "22 세 입니다\n"
     ]
    }
   ],
   "source": [
    "print(2023-int(birth),'세 입니다')"
   ]
  },
  {
   "cell_type": "code",
   "execution_count": 17,
   "id": "6319b1e3",
   "metadata": {},
   "outputs": [
    {
     "name": "stdout",
     "output_type": "stream",
     "text": [
      "이름을 입력해주세요:김철수\n"
     ]
    }
   ],
   "source": [
    "name = input('이름을 입력해주세요:')"
   ]
  },
  {
   "cell_type": "code",
   "execution_count": 18,
   "id": "5d5445fb",
   "metadata": {},
   "outputs": [
    {
     "name": "stdout",
     "output_type": "stream",
     "text": [
      "출생 연도를 입력해주세요:2001\n"
     ]
    }
   ],
   "source": [
    "birth = input('출생 연도를 입력해주세요:')"
   ]
  },
  {
   "cell_type": "code",
   "execution_count": 19,
   "id": "6af64f4a",
   "metadata": {},
   "outputs": [],
   "source": [
    "age = 2023-int(birth)"
   ]
  },
  {
   "cell_type": "code",
   "execution_count": 20,
   "id": "7fe62fd2",
   "metadata": {},
   "outputs": [
    {
     "name": "stdout",
     "output_type": "stream",
     "text": [
      "안녕하세요!김철수님!22세입니다\n"
     ]
    }
   ],
   "source": [
    "print('안녕하세요!' + name + '님!'+ str(age)+ '세입니다')"
   ]
  },
  {
   "cell_type": "markdown",
   "id": "16703ccd",
   "metadata": {},
   "source": [
    "## 내장함수"
   ]
  },
  {
   "cell_type": "code",
   "execution_count": null,
   "id": "e4373273",
   "metadata": {},
   "outputs": [],
   "source": [
    "abs(-2)"
   ]
  },
  {
   "cell_type": "code",
   "execution_count": 1,
   "id": "5bf56cb0",
   "metadata": {},
   "outputs": [
    {
     "data": {
      "text/plain": [
       "True"
      ]
     },
     "execution_count": 1,
     "metadata": {},
     "output_type": "execute_result"
    }
   ],
   "source": [
    "bool('py')"
   ]
  },
  {
   "cell_type": "code",
   "execution_count": 2,
   "id": "4fda54f6",
   "metadata": {},
   "outputs": [
    {
     "ename": "SyntaxError",
     "evalue": "invalid syntax (2868169858.py, line 1)",
     "output_type": "error",
     "traceback": [
      "\u001b[1;36m  File \u001b[1;32m\"C:\\Users\\102\\AppData\\Local\\Temp\\ipykernel_1708\\2868169858.py\"\u001b[1;36m, line \u001b[1;32m1\u001b[0m\n\u001b[1;33m    for num ragne(10):\u001b[0m\n\u001b[1;37m            ^\u001b[0m\n\u001b[1;31mSyntaxError\u001b[0m\u001b[1;31m:\u001b[0m invalid syntax\n"
     ]
    }
   ],
   "source": [
    "for num ragne(10):\n",
    "    print(num)"
   ]
  },
  {
   "cell_type": "code",
   "execution_count": 3,
   "id": "b8b55648",
   "metadata": {},
   "outputs": [
    {
     "name": "stdout",
     "output_type": "stream",
     "text": [
      "0\n",
      "1\n",
      "2\n",
      "3\n",
      "4\n",
      "5\n",
      "6\n",
      "7\n",
      "8\n",
      "9\n"
     ]
    }
   ],
   "source": [
    "for num in range(10):\n",
    "    print(num)"
   ]
  },
  {
   "cell_type": "code",
   "execution_count": 4,
   "id": "d44fdd62",
   "metadata": {},
   "outputs": [
    {
     "ename": "IndentationError",
     "evalue": "expected an indented block (1334445784.py, line 1)",
     "output_type": "error",
     "traceback": [
      "\u001b[1;36m  File \u001b[1;32m\"C:\\Users\\102\\AppData\\Local\\Temp\\ipykernel_1708\\1334445784.py\"\u001b[1;36m, line \u001b[1;32m1\u001b[0m\n\u001b[1;33m    for i in range(1,11):\u001b[0m\n\u001b[1;37m                         ^\u001b[0m\n\u001b[1;31mIndentationError\u001b[0m\u001b[1;31m:\u001b[0m expected an indented block\n"
     ]
    }
   ],
   "source": [
    "for i in range(1,11):"
   ]
  },
  {
   "cell_type": "code",
   "execution_count": 5,
   "id": "bf03176c",
   "metadata": {},
   "outputs": [
    {
     "name": "stdout",
     "output_type": "stream",
     "text": [
      "1\n",
      "2\n",
      "3\n",
      "4\n",
      "5\n",
      "6\n",
      "7\n",
      "8\n",
      "9\n",
      "10\n"
     ]
    }
   ],
   "source": [
    "for i in range(1,11):\n",
    "    print(i)"
   ]
  },
  {
   "cell_type": "code",
   "execution_count": 7,
   "id": "c18dec3d",
   "metadata": {},
   "outputs": [
    {
     "name": "stdout",
     "output_type": "stream",
     "text": [
      "10\n",
      "20\n",
      "30\n"
     ]
    }
   ],
   "source": [
    "for i in {10:'십', 20:'이십',30:'삼십'}:\n",
    "    print(i)"
   ]
  },
  {
   "cell_type": "code",
   "execution_count": 13,
   "id": "16026974",
   "metadata": {},
   "outputs": [
    {
     "name": "stdout",
     "output_type": "stream",
     "text": [
      "1\n",
      "4\n",
      "7\n",
      "10\n"
     ]
    }
   ],
   "source": [
    "for i in range(1,11,3):\n",
    "    print(i)"
   ]
  },
  {
   "cell_type": "code",
   "execution_count": null,
   "id": "0e7eb38d",
   "metadata": {},
   "outputs": [],
   "source": []
  },
  {
   "cell_type": "markdown",
   "id": "c1721169",
   "metadata": {},
   "source": [
    "## 리스트"
   ]
  },
  {
   "cell_type": "code",
   "execution_count": 6,
   "id": "a7e78ce5",
   "metadata": {},
   "outputs": [
    {
     "data": {
      "text/plain": [
       "['월', '화', '수', '목', '금', '토', '일']"
      ]
     },
     "execution_count": 6,
     "metadata": {},
     "output_type": "execute_result"
    }
   ],
   "source": [
    "day = list('월화수목금토일')\n",
    "day"
   ]
  },
  {
   "cell_type": "code",
   "execution_count": 8,
   "id": "fdff547e",
   "metadata": {},
   "outputs": [
    {
     "data": {
      "text/plain": [
       "'금'"
      ]
     },
     "execution_count": 8,
     "metadata": {},
     "output_type": "execute_result"
    }
   ],
   "source": [
    "day[-3]"
   ]
  },
  {
   "cell_type": "markdown",
   "id": "4dc906ef",
   "metadata": {},
   "source": [
    "#### 슬라이싱\n"
   ]
  },
  {
   "cell_type": "code",
   "execution_count": 10,
   "id": "fed58d44",
   "metadata": {},
   "outputs": [
    {
     "data": {
      "text/plain": [
       "['화', '수']"
      ]
     },
     "execution_count": 10,
     "metadata": {},
     "output_type": "execute_result"
    }
   ],
   "source": [
    "day[1:3]"
   ]
  },
  {
   "cell_type": "code",
   "execution_count": 16,
   "id": "12fc3652",
   "metadata": {},
   "outputs": [
    {
     "data": {
      "text/plain": [
       "['목', '금']"
      ]
     },
     "execution_count": 16,
     "metadata": {},
     "output_type": "execute_result"
    }
   ],
   "source": [
    "day[-4:-2]"
   ]
  },
  {
   "cell_type": "code",
   "execution_count": 17,
   "id": "cb605f72",
   "metadata": {},
   "outputs": [
    {
     "data": {
      "text/plain": [
       "['화', '수', '목', '금', '토']"
      ]
     },
     "execution_count": 17,
     "metadata": {},
     "output_type": "execute_result"
    }
   ],
   "source": [
    "day[1:-1]"
   ]
  },
  {
   "cell_type": "code",
   "execution_count": 18,
   "id": "539a6740",
   "metadata": {},
   "outputs": [
    {
     "data": {
      "text/plain": [
       "['화', '목', '토']"
      ]
     },
     "execution_count": 18,
     "metadata": {},
     "output_type": "execute_result"
    }
   ],
   "source": [
    "day[1:6:2]"
   ]
  },
  {
   "cell_type": "code",
   "execution_count": 19,
   "id": "da3414a4",
   "metadata": {},
   "outputs": [
    {
     "data": {
      "text/plain": [
       "[]"
      ]
     },
     "execution_count": 19,
     "metadata": {},
     "output_type": "execute_result"
    }
   ],
   "source": [
    "day[-7:-1:-2]"
   ]
  },
  {
   "cell_type": "code",
   "execution_count": 20,
   "id": "6c8dbffc",
   "metadata": {},
   "outputs": [
    {
     "data": {
      "text/plain": [
       "['월', '화', '수', '목', '금', '토', '일']"
      ]
     },
     "execution_count": 20,
     "metadata": {},
     "output_type": "execute_result"
    }
   ],
   "source": [
    "day[:]"
   ]
  },
  {
   "cell_type": "code",
   "execution_count": 21,
   "id": "593eea4f",
   "metadata": {},
   "outputs": [
    {
     "data": {
      "text/plain": [
       "['일', '토', '금', '목', '수', '화', '월']"
      ]
     },
     "execution_count": 21,
     "metadata": {},
     "output_type": "execute_result"
    }
   ],
   "source": [
    "day[::-1]"
   ]
  },
  {
   "cell_type": "code",
   "execution_count": 22,
   "id": "1c2f27b8",
   "metadata": {},
   "outputs": [
    {
     "data": {
      "text/plain": [
       "['일', '금', '수']"
      ]
     },
     "execution_count": 22,
     "metadata": {},
     "output_type": "execute_result"
    }
   ],
   "source": [
    "day[-1:-7:-2]"
   ]
  },
  {
   "cell_type": "markdown",
   "id": "2092f4d0",
   "metadata": {},
   "source": [
    "### 내장함수"
   ]
  },
  {
   "cell_type": "code",
   "execution_count": 26,
   "id": "0700771e",
   "metadata": {},
   "outputs": [
    {
     "name": "stdout",
     "output_type": "stream",
     "text": [
      "5\n"
     ]
    }
   ],
   "source": [
    "import random\n",
    "dice = random.randint(1,6)\n",
    "print(dice)"
   ]
  },
  {
   "cell_type": "code",
   "execution_count": 27,
   "id": "7ece6d44",
   "metadata": {},
   "outputs": [
    {
     "name": "stdout",
     "output_type": "stream",
     "text": [
      "1.4142135623730951\n",
      "2.0\n"
     ]
    }
   ],
   "source": [
    "import math\n",
    "\n",
    "print(math.sqrt(2))\n",
    "print(math.sqrt(4))"
   ]
  },
  {
   "cell_type": "code",
   "execution_count": 28,
   "id": "82787a1d",
   "metadata": {},
   "outputs": [
    {
     "name": "stdout",
     "output_type": "stream",
     "text": [
      "0\n",
      "1\n",
      "2\n",
      "3\n",
      "4\n",
      "5\n",
      "6\n",
      "7\n",
      "8\n",
      "9\n"
     ]
    }
   ],
   "source": [
    "for num in range(10):\n",
    "    print(num)"
   ]
  },
  {
   "cell_type": "code",
   "execution_count": 30,
   "id": "aefd91a9",
   "metadata": {},
   "outputs": [
    {
     "name": "stdout",
     "output_type": "stream",
     "text": [
      "80\n",
      "60\n",
      "30\n",
      "90\n"
     ]
    }
   ],
   "source": [
    "test_score = [80,60,30,90]\n",
    "for score in test_score:\n",
    "    print(score)"
   ]
  },
  {
   "cell_type": "code",
   "execution_count": 33,
   "id": "d9e84b62",
   "metadata": {},
   "outputs": [
    {
     "name": "stdout",
     "output_type": "stream",
     "text": [
      "국어\n",
      "수학\n",
      "영어\n",
      "과학\n"
     ]
    }
   ],
   "source": [
    "test_name=['국어','수학','영어','과학']\n",
    "for name in test_name:\n",
    "    print(name)"
   ]
  },
  {
   "cell_type": "code",
   "execution_count": 37,
   "id": "c8123946",
   "metadata": {},
   "outputs": [
    {
     "name": "stdout",
     "output_type": "stream",
     "text": [
      "안녕하세요!\n",
      "패스워드를 입력하시요>12345\n",
      "로그인 되었습니다!\n"
     ]
    }
   ],
   "source": [
    "if(10>0):\n",
    "    print('안녕하세요!')\n",
    "password = input('패스워드를 입력하시요>')\n",
    "if (int(password)==12345):\n",
    "    print('로그인 되었습니다!')\n",
    "elif (int(password)==11111):\n",
    "    print('관리자 권한입니다!')\n",
    "else:\n",
    "    print('비밀번호를 잘못 입력하셨습니다.')"
   ]
  },
  {
   "cell_type": "markdown",
   "id": "4f6bbe99",
   "metadata": {},
   "source": [
    "####  순서 있는 리스트"
   ]
  },
  {
   "cell_type": "code",
   "execution_count": 38,
   "id": "ccc3474a",
   "metadata": {},
   "outputs": [
    {
     "name": "stdout",
     "output_type": "stream",
     "text": [
      "<class 'list'>\n"
     ]
    }
   ],
   "source": [
    "arr1 = [1,3,5,7,9]\n",
    "print(type(arr1))"
   ]
  },
  {
   "cell_type": "raw",
   "id": "c24e53cd",
   "metadata": {},
   "source": []
  },
  {
   "cell_type": "code",
   "execution_count": 40,
   "id": "32aad124",
   "metadata": {},
   "outputs": [
    {
     "name": "stdout",
     "output_type": "stream",
     "text": [
      "<class 'list'>\n"
     ]
    }
   ],
   "source": [
    "arr2 = ['월','화','수','목','금']\n",
    "print(type(arr2))"
   ]
  },
  {
   "cell_type": "code",
   "execution_count": 41,
   "id": "fbe0e809",
   "metadata": {},
   "outputs": [
    {
     "name": "stdout",
     "output_type": "stream",
     "text": [
      "['월', '화', '수', '목', '금']\n"
     ]
    }
   ],
   "source": [
    "arr2 = ['월','화','수','목','금']\n",
    "print(arr2)"
   ]
  },
  {
   "cell_type": "code",
   "execution_count": 45,
   "id": "98db542a",
   "metadata": {},
   "outputs": [
    {
     "name": "stdout",
     "output_type": "stream",
     "text": [
      "월\n",
      "화\n",
      "수\n",
      "목\n",
      "금\n",
      "토\n"
     ]
    }
   ],
   "source": [
    "arr2 = ['월','화','수','목','금','토']\n",
    "print(arr2[0])\n",
    "print(arr2[1])\n",
    "print(arr2[2])\n",
    "print(arr2[3])\n",
    "print(arr2[4])\n",
    "print(arr2[5])"
   ]
  },
  {
   "cell_type": "code",
   "execution_count": 47,
   "id": "b4bf2b37",
   "metadata": {},
   "outputs": [
    {
     "name": "stdout",
     "output_type": "stream",
     "text": [
      "월\n",
      "토\n",
      "금\n",
      "목\n",
      "수\n",
      "화\n"
     ]
    }
   ],
   "source": [
    "arr2 = ['월','화','수','목','금','토']\n",
    "print(arr2[-6])\n",
    "print(arr2[-1])\n",
    "print(arr2[-2])\n",
    "print(arr2[-3])\n",
    "print(arr2[-4])\n",
    "print(arr2[-5])"
   ]
  },
  {
   "cell_type": "code",
   "execution_count": 49,
   "id": "38d559ea",
   "metadata": {},
   "outputs": [
    {
     "name": "stdout",
     "output_type": "stream",
     "text": [
      "[1, 2, 3, 4, 5]\n",
      "5\n",
      "[1, 2, 3, 4, 5, 6]\n",
      "6\n"
     ]
    }
   ],
   "source": [
    "arr1 = [1,2,3,4,5]\n",
    "print(arr1)\n",
    "print(len(arr1))\n",
    "arr1.append(6)\n",
    "print(arr1)\n",
    "print(len(arr1))"
   ]
  },
  {
   "cell_type": "code",
   "execution_count": 50,
   "id": "5b4abd7b",
   "metadata": {},
   "outputs": [
    {
     "name": "stdout",
     "output_type": "stream",
     "text": [
      "['월', '화', '수', '목', '금', '토']\n",
      "6\n",
      "['월', '화', '수', '목', '금', '토', '일']\n",
      "7\n"
     ]
    }
   ],
   "source": [
    "arr2 = ['월','화','수','목','금','토']\n",
    "print(arr2)\n",
    "print(len(arr2))\n",
    "arr2.append('일')\n",
    "print(arr2)\n",
    "print(len(arr2))"
   ]
  },
  {
   "cell_type": "code",
   "execution_count": null,
   "id": "328eed51",
   "metadata": {},
   "outputs": [],
   "source": []
  }
 ],
 "metadata": {
  "kernelspec": {
   "display_name": "Python 3 (ipykernel)",
   "language": "python",
   "name": "python3"
  },
  "language_info": {
   "codemirror_mode": {
    "name": "ipython",
    "version": 3
   },
   "file_extension": ".py",
   "mimetype": "text/x-python",
   "name": "python",
   "nbconvert_exporter": "python",
   "pygments_lexer": "ipython3",
   "version": "3.9.13"
  }
 },
 "nbformat": 4,
 "nbformat_minor": 5
}
