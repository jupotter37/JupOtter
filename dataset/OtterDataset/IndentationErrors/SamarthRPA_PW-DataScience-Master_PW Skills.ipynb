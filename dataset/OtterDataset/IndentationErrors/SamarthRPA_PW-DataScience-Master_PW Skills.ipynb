{
 "cells": [
  {
   "cell_type": "markdown",
   "id": "939c4e03",
   "metadata": {},
   "source": [
    "# PW Skills Day 1"
   ]
  },
  {
   "cell_type": "code",
   "execution_count": 1,
   "id": "a799adb8",
   "metadata": {},
   "outputs": [
    {
     "name": "stdout",
     "output_type": "stream",
     "text": [
      "this\n"
     ]
    }
   ],
   "source": [
    "print(\"this\")"
   ]
  },
  {
   "cell_type": "code",
   "execution_count": 3,
   "id": "3885b6d0",
   "metadata": {},
   "outputs": [
    {
     "name": "stdout",
     "output_type": "stream",
     "text": [
      "that\n"
     ]
    }
   ],
   "source": [
    "print('that')"
   ]
  },
  {
   "cell_type": "markdown",
   "id": "641095d6",
   "metadata": {},
   "source": [
    "# heading"
   ]
  },
  {
   "cell_type": "code",
   "execution_count": 2,
   "id": "3e7ede87",
   "metadata": {},
   "outputs": [
    {
     "data": {
      "text/plain": [
       "4"
      ]
     },
     "execution_count": 2,
     "metadata": {},
     "output_type": "execute_result"
    }
   ],
   "source": [
    "1+3"
   ]
  },
  {
   "cell_type": "code",
   "execution_count": 3,
   "id": "554e63c6",
   "metadata": {},
   "outputs": [
    {
     "name": "stdout",
     "output_type": "stream",
     "text": [
      "3\n"
     ]
    }
   ],
   "source": [
    "print(1+2)"
   ]
  },
  {
   "cell_type": "markdown",
   "id": "1c575374",
   "metadata": {},
   "source": [
    "## This is cool"
   ]
  },
  {
   "cell_type": "code",
   "execution_count": 5,
   "id": "1c621797",
   "metadata": {},
   "outputs": [
    {
     "name": "stdout",
     "output_type": "stream",
     "text": [
      "mu name is samarth i live in bngaloire  also in khamgaon\n",
      ",pune and banagleore and buldhaba\n"
     ]
    }
   ],
   "source": [
    "print('''mu name is samarth i live in bngaloire  also in khamgaon\n",
    ",pune and banagleore and buldhaba''')"
   ]
  },
  {
   "cell_type": "code",
   "execution_count": 6,
   "id": "0de24e08",
   "metadata": {},
   "outputs": [
    {
     "name": "stdout",
     "output_type": "stream",
     "text": [
      "123\n"
     ]
    }
   ],
   "source": [
    "print(123)"
   ]
  },
  {
   "cell_type": "code",
   "execution_count": 9,
   "id": "538f55f2",
   "metadata": {},
   "outputs": [
    {
     "name": "stdout",
     "output_type": "stream",
     "text": [
      "hi\n"
     ]
    }
   ],
   "source": [
    "print('hi')"
   ]
  },
  {
   "cell_type": "markdown",
   "id": "15487174",
   "metadata": {},
   "source": [
    "# Formating Techinque - F String"
   ]
  },
  {
   "cell_type": "code",
   "execution_count": 10,
   "id": "41392b25",
   "metadata": {},
   "outputs": [
    {
     "name": "stdout",
     "output_type": "stream",
     "text": [
      "My name is samarth\n"
     ]
    }
   ],
   "source": [
    "name = \"samarth\"\n",
    "print(f'My name is {name}')"
   ]
  },
  {
   "cell_type": "code",
   "execution_count": null,
   "id": "f1abac8e",
   "metadata": {},
   "outputs": [],
   "source": [
    "#Formating Technique .Format Method"
   ]
  },
  {
   "cell_type": "code",
   "execution_count": 11,
   "id": "9e957817",
   "metadata": {},
   "outputs": [
    {
     "name": "stdout",
     "output_type": "stream",
     "text": [
      "My name is samarth and age32\n"
     ]
    }
   ],
   "source": [
    "name = 'samarth'\n",
    "age = 32\n",
    "print('My name is {} and age{}'.format(name,age))"
   ]
  },
  {
   "cell_type": "code",
   "execution_count": 12,
   "id": "dd72f78b",
   "metadata": {},
   "outputs": [
    {
     "name": "stdout",
     "output_type": "stream",
     "text": [
      "My name is samarth and age32\n"
     ]
    }
   ],
   "source": [
    "#Placeholder, here we have mention about the place holder\n",
    "name = 'samarth'\n",
    "age = 32\n",
    "print('My name is {myname} and age{myage}'.format(myname=name,myage=age))"
   ]
  },
  {
   "cell_type": "code",
   "execution_count": 13,
   "id": "20c0951e",
   "metadata": {},
   "outputs": [
    {
     "name": "stdout",
     "output_type": "stream",
     "text": [
      "My name is samarth and age32\n"
     ]
    }
   ],
   "source": [
    "#using Index to map the variable, here it is necesary to mantain the index python index starts with 0\n",
    "name = 'samarth'\n",
    "age = 32\n",
    "print('My name is {0} and age{1}'.format(name,age))"
   ]
  },
  {
   "cell_type": "code",
   "execution_count": 18,
   "id": "09781ac4",
   "metadata": {},
   "outputs": [
    {
     "name": "stdout",
     "output_type": "stream",
     "text": [
      "My age is 32 and I have completed degree in : BE with the name of samarth\n",
      "\n",
      "In Format string method - Using Index Method\n",
      "My age is 32 and I have completed degree in : BE with the name ofsamarth\n",
      "\n",
      "In Format string method - Using Index Method\n",
      "My age is 32 and I have completed degree in : BE with the name ofsamarth\n"
     ]
    }
   ],
   "source": [
    "#practice using F- String method and \n",
    "name = 'samarth'\n",
    "age = 32\n",
    "degree = 'BE'\n",
    "print(f'My age is {age} and I have completed degree in : {degree} with the name of {name}')\n",
    "\n",
    "#Practice with Format String\n",
    "print('\\nIn Format string method - Using Index Method')\n",
    "print('My age is {0} and I have completed degree in : {1} with the name of{2}'.format(age,degree,name))\n",
    "#Practice with Format String - Place Holder Mapping - here you can add one more variable to assign another variable\n",
    "print('\\nIn Format string method - Using Index Method')\n",
    "print('My age is {myage} and I have completed degree in : {edu} with the name of{nam}'.format(myage=age,edu=degree,nam=name))\n"
   ]
  },
  {
   "cell_type": "markdown",
   "id": "0f3cc80d",
   "metadata": {},
   "source": [
    "# Control Flow\n",
    "#Decision Making Statements"
   ]
  },
  {
   "cell_type": "code",
   "execution_count": 21,
   "id": "656d46c4",
   "metadata": {},
   "outputs": [
    {
     "name": "stdout",
     "output_type": "stream",
     "text": [
      "You can vote now\n"
     ]
    }
   ],
   "source": [
    "if 18>=5:\n",
    "    print(\"You can vote now\")"
   ]
  },
  {
   "cell_type": "code",
   "execution_count": 28,
   "id": "66f7e5d6",
   "metadata": {},
   "outputs": [
    {
     "name": "stdout",
     "output_type": "stream",
     "text": [
      "Please Enter a number : 11\n",
      "Number is not divide\n"
     ]
    }
   ],
   "source": [
    "customner_number = int(input(\"Please Enter a number : \"))\n",
    "last_number = str(customner_number).\n",
    "if (int(customner_number)%3) == 0:\n",
    "    print(\"The given number is divided by 3\")\n",
    "else: print(\"Number is not divide\")"
   ]
  },
  {
   "cell_type": "code",
   "execution_count": 30,
   "id": "d84d5d2e",
   "metadata": {},
   "outputs": [
    {
     "name": "stdout",
     "output_type": "stream",
     "text": [
      "Input your agr :2\n"
     ]
    }
   ],
   "source": [
    "age = int(input(\"Input your agr :\")) # Check can be applicable here itself to stop the usage "
   ]
  },
  {
   "cell_type": "code",
   "execution_count": 31,
   "id": "22d8eaf8",
   "metadata": {},
   "outputs": [
    {
     "name": "stdout",
     "output_type": "stream",
     "text": [
      "pleae inset your age : 34\n",
      "You are young blood \n"
     ]
    }
   ],
   "source": [
    "age = int(input('pleae inset your age : '))\n",
    "if age >= 18 and age <=45:\n",
    "    print(\"You are young blood \")"
   ]
  },
  {
   "cell_type": "code",
   "execution_count": 5,
   "id": "28a549bf",
   "metadata": {},
   "outputs": [
    {
     "name": "stdout",
     "output_type": "stream",
     "text": [
      "pls tell the product price122\n",
      "Wow 20 % discount applicable 97.6 is new price\n"
     ]
    }
   ],
   "source": [
    "pro_price = int(input(\"pls tell the product price\"))\n",
    "if pro_price >= 100:\n",
    "    print('Wow 20 % discount applicable',pro_price -pro_price/100 *20 ,\"is new price\")\n",
    "elif pro_price<= 100:\n",
    "    print(\"there is less offer here, your product proce is\",pro_price)\n"
   ]
  },
  {
   "cell_type": "code",
   "execution_count": 1,
   "id": "f18de863",
   "metadata": {},
   "outputs": [
    {
     "name": "stdout",
     "output_type": "stream",
     "text": [
      "ffdd\n"
     ]
    },
    {
     "data": {
      "text/plain": [
       "'dd'"
      ]
     },
     "execution_count": 1,
     "metadata": {},
     "output_type": "execute_result"
    }
   ],
   "source": [
    "input(\"ff\")"
   ]
  },
  {
   "cell_type": "code",
   "execution_count": 8,
   "id": "86ac0eed",
   "metadata": {},
   "outputs": [
    {
     "name": "stdout",
     "output_type": "stream",
     "text": [
      "Pleae insert the producion cost : 23\n",
      "No Discount Avaulbe\n"
     ]
    }
   ],
   "source": [
    "prod_cost = int(input(\"Pleae insert the producion cost : \"))\n",
    "if prod_cost > 3000:\n",
    "    print(\"you are getting discount of 20% your new prod_cost is :\",0.8*prod_cost)\n",
    "elif prod_cost >= 2000 and prod_cost <= 3000:\n",
    "    print('you are getting almost 30% discount',prod_cost*0.7)\n",
    "elif prod_cost >= 1000 and prod_cost < 2000:\n",
    "    print('40% discount')\n",
    "else:\n",
    "    print(\"No Discount Avaulbe\")"
   ]
  },
  {
   "cell_type": "code",
   "execution_count": 9,
   "id": "bd8dc359",
   "metadata": {},
   "outputs": [
    {
     "data": {
      "text/plain": [
       "True"
      ]
     },
     "execution_count": 9,
     "metadata": {},
     "output_type": "execute_result"
    }
   ],
   "source": [
    "'sam'.upper().lower().isalnum()"
   ]
  },
  {
   "cell_type": "code",
   "execution_count": 12,
   "id": "7a26e787",
   "metadata": {},
   "outputs": [
    {
     "ename": "SyntaxError",
     "evalue": "invalid character '‘' (U+2018) (22824629.py, line 1)",
     "output_type": "error",
     "traceback": [
      "\u001b[1;36m  Input \u001b[1;32mIn [12]\u001b[1;36m\u001b[0m\n\u001b[1;33m    Name = ‘pwskills’\u001b[0m\n\u001b[1;37m           ^\u001b[0m\n\u001b[1;31mSyntaxError\u001b[0m\u001b[1;31m:\u001b[0m invalid character '‘' (U+2018)\n"
     ]
    }
   ],
   "source": [
    "Name = ‘pwskills’\n",
    "\n",
    "Name[0] = ‘P’"
   ]
  },
  {
   "cell_type": "code",
   "execution_count": 13,
   "id": "8f113969",
   "metadata": {},
   "outputs": [
    {
     "ename": "ZeroDivisionError",
     "evalue": "division by zero",
     "output_type": "error",
     "traceback": [
      "\u001b[1;31m---------------------------------------------------------------------------\u001b[0m",
      "\u001b[1;31mZeroDivisionError\u001b[0m                         Traceback (most recent call last)",
      "Input \u001b[1;32mIn [13]\u001b[0m, in \u001b[0;36m<cell line: 1>\u001b[1;34m()\u001b[0m\n\u001b[1;32m----> 1\u001b[0m \u001b[38;5;241;43m1\u001b[39;49m\u001b[38;5;241;43m/\u001b[39;49m\u001b[38;5;28;43;01mFalse\u001b[39;49;00m\n",
      "\u001b[1;31mZeroDivisionError\u001b[0m: division by zero"
     ]
    }
   ],
   "source": [
    "1/False"
   ]
  },
  {
   "cell_type": "code",
   "execution_count": 14,
   "id": "a84411b1",
   "metadata": {},
   "outputs": [
    {
     "data": {
      "text/plain": [
       "(-1+3j)"
      ]
     },
     "execution_count": 14,
     "metadata": {},
     "output_type": "execute_result"
    }
   ],
   "source": [
    "num1= 23\n",
    "\n",
    "num2= 44\n",
    "\n",
    "num2= 2+3j\n",
    "\n",
    "num1= num2.imag\n",
    "\n",
    "num2-num1"
   ]
  },
  {
   "cell_type": "code",
   "execution_count": 22,
   "id": "02d02c16",
   "metadata": {},
   "outputs": [],
   "source": [
    "sa= 32"
   ]
  },
  {
   "cell_type": "code",
   "execution_count": 20,
   "id": "fd6f3c76",
   "metadata": {},
   "outputs": [
    {
     "name": "stdout",
     "output_type": "stream",
     "text": [
      "hw\n"
     ]
    }
   ],
   "source": [
    "print('hw')"
   ]
  },
  {
   "cell_type": "code",
   "execution_count": 18,
   "id": "5577a84e",
   "metadata": {},
   "outputs": [
    {
     "name": "stdout",
     "output_type": "stream",
     "text": [
      "yes its working\n"
     ]
    }
   ],
   "source": [
    "#Single Statements - you can write if and else in single line Suites\n",
    "val = 200\n",
    "if(val>10):print(\"yes its working\")\n",
    "else:\n",
    "    print('the number is not greater')"
   ]
  },
  {
   "cell_type": "code",
   "execution_count": 23,
   "id": "77876985",
   "metadata": {},
   "outputs": [
    {
     "name": "stdout",
     "output_type": "stream",
     "text": [
      "hello world this is master\n"
     ]
    }
   ],
   "source": [
    "print(\"hello world this is master\")"
   ]
  },
  {
   "cell_type": "code",
   "execution_count": 25,
   "id": "2113da18",
   "metadata": {},
   "outputs": [],
   "source": [
    "#Loops - inp ython\n",
    "#While Loop\n",
    "#For Loop\n",
    "#nested loop"
   ]
  },
  {
   "cell_type": "code",
   "execution_count": 30,
   "id": "92d78d6f",
   "metadata": {
    "scrolled": true
   },
   "outputs": [
    {
     "name": "stdout",
     "output_type": "stream",
     "text": [
      "Number Matching:  1\n",
      "Number Matching:  2\n",
      "Number Matching:  3\n",
      "Number Matching:  4\n",
      "Number Matching:  5\n",
      "Number Matching:  6\n",
      "Number Matching:  7\n",
      "Number Matching:  8\n",
      "Number Matching:  9\n",
      "Number Matching:  10\n",
      "Now the date is above 10 the value need to be go out of the loop\n"
     ]
    }
   ],
   "source": [
    "#While Loop\n",
    "x =1\n",
    "while x <=10:\n",
    "    print(\"Number Matching: \",x)\n",
    "    x=x+1\n",
    "else:\n",
    "    print(\"Now the date is above 10 the value need to be go out of the loop\")"
   ]
  },
  {
   "cell_type": "code",
   "execution_count": 32,
   "id": "9749f026",
   "metadata": {},
   "outputs": [
    {
     "name": "stdout",
     "output_type": "stream",
     "text": [
      "900\n",
      "800\n",
      "700\n",
      "600\n",
      "500\n",
      "400\n",
      "300\n",
      "200\n",
      "100\n",
      "0\n",
      "Your money is over, find a high paying job ASAP\n"
     ]
    }
   ],
   "source": [
    "#ATM machine 1000 rupee, every transaction 100 rupee what are next steps\n",
    "ATM_Value = 1000\n",
    "while ATM_Value >= 100:\n",
    "    ATM_Value = ATM_Value - 100\n",
    "    print(ATM_Value)\n",
    "else:\n",
    "    print(\"Your money is over, find a high paying job ASAP\")\n"
   ]
  },
  {
   "cell_type": "code",
   "execution_count": 36,
   "id": "cea7360e",
   "metadata": {},
   "outputs": [
    {
     "name": "stdout",
     "output_type": "stream",
     "text": [
      "Apple\n",
      "Banana\n",
      "Chiku\n",
      "['Apple', 'Banana']\n"
     ]
    }
   ],
   "source": [
    "#For Loop\n",
    "fruit = ['Apple','Banana','Chiku']\n",
    "for x in fruit:\n",
    "    print(x)\n",
    "print(fruit[0:2])    "
   ]
  },
  {
   "cell_type": "code",
   "execution_count": 39,
   "id": "8fec77ec",
   "metadata": {},
   "outputs": [
    {
     "name": "stdout",
     "output_type": "stream",
     "text": [
      "123456"
     ]
    }
   ],
   "source": [
    "roll = [1,2,3,4,5,6]\n",
    "for n in roll:\n",
    "    print(n,end='') # here default end is \\n I am redefining that"
   ]
  },
  {
   "cell_type": "code",
   "execution_count": 45,
   "id": "0cbf6af0",
   "metadata": {},
   "outputs": [
    {
     "name": "stdout",
     "output_type": "stream",
     "text": [
      "123456789"
     ]
    }
   ],
   "source": [
    "x = range(1,10)\n",
    "for y in x:\n",
    "    print(y,end='')"
   ]
  },
  {
   "cell_type": "code",
   "execution_count": 47,
   "id": "1ae2b814",
   "metadata": {},
   "outputs": [
    {
     "name": "stdout",
     "output_type": "stream",
     "text": [
      "*\r\n",
      "**\r\n",
      "***\r\n",
      "****\r\n",
      "*****\r\n",
      "******\r\n",
      "*******\r\n"
     ]
    }
   ],
   "source": [
    "n=7\n",
    "for i in range(0,n):\n",
    "    for j in range(0,i+1):\n",
    "        print(\"*\",end='')\n",
    "    print(\"\\r\")"
   ]
  },
  {
   "cell_type": "code",
   "execution_count": 48,
   "id": "666bcbdd",
   "metadata": {},
   "outputs": [
    {
     "name": "stdout",
     "output_type": "stream",
     "text": [
      "\r",
      "samarth\n"
     ]
    }
   ],
   "source": [
    "print(\"\\rsamarth\")"
   ]
  },
  {
   "cell_type": "code",
   "execution_count": 51,
   "id": "25197044",
   "metadata": {},
   "outputs": [
    {
     "ename": "SyntaxError",
     "evalue": "'break' outside loop (2563135510.py, line 2)",
     "output_type": "error",
     "traceback": [
      "\u001b[1;36m  Input \u001b[1;32mIn [51]\u001b[1;36m\u001b[0m\n\u001b[1;33m    break\u001b[0m\n\u001b[1;37m    ^\u001b[0m\n\u001b[1;31mSyntaxError\u001b[0m\u001b[1;31m:\u001b[0m 'break' outside loop\n"
     ]
    }
   ],
   "source": [
    "if 1 > 5 :\n",
    "    break\n",
    "else:\n",
    "    print(\"Hello World\")"
   ]
  },
  {
   "cell_type": "markdown",
   "id": "bb5a9762",
   "metadata": {},
   "source": [
    "# Loop Control System - Break, Pass and Continue"
   ]
  },
  {
   "cell_type": "code",
   "execution_count": 55,
   "id": "50c9acff",
   "metadata": {},
   "outputs": [
    {
     "name": "stdout",
     "output_type": "stream",
     "text": [
      "1\n",
      "2\n",
      "3\n",
      "4\n",
      "I hold the number 5\n"
     ]
    }
   ],
   "source": [
    "x = range(1,10)\n",
    "for i in x:\n",
    "    if i == 5:\n",
    "        print(\"I hold the number 5\")\n",
    "        break\n",
    "    print(i)"
   ]
  },
  {
   "cell_type": "code",
   "execution_count": 59,
   "id": "59adc5d4",
   "metadata": {},
   "outputs": [
    {
     "name": "stdout",
     "output_type": "stream",
     "text": [
      "1\n",
      "2\n",
      "3\n",
      "4\n",
      "I hold the number 5\n",
      "5\n",
      "6\n",
      "7\n",
      "8\n",
      "9\n"
     ]
    }
   ],
   "source": [
    "#Pass Statement\n",
    "x = range(1,10)\n",
    "for i in x:\n",
    "    if i == 5:\n",
    "        print(\"I hold the number 5\")\n",
    "        pass\n",
    "    print(i)"
   ]
  },
  {
   "cell_type": "code",
   "execution_count": 71,
   "id": "156e357d",
   "metadata": {},
   "outputs": [
    {
     "name": "stdout",
     "output_type": "stream",
     "text": [
      "1\n",
      "3\n",
      "5\n",
      "7\n",
      "9\n"
     ]
    }
   ],
   "source": [
    "#Continue Statement\n",
    "for a in range(1,10):\n",
    "    if a%2 ==0:\n",
    "        continue\n",
    "    print(a)"
   ]
  },
  {
   "cell_type": "code",
   "execution_count": 66,
   "id": "78b2da37",
   "metadata": {},
   "outputs": [
    {
     "ename": "IndentationError",
     "evalue": "expected an indented block (927810310.py, line 3)",
     "output_type": "error",
     "traceback": [
      "\u001b[1;36m  Input \u001b[1;32mIn [66]\u001b[1;36m\u001b[0m\n\u001b[1;33m    print(i)\u001b[0m\n\u001b[1;37m            ^\u001b[0m\n\u001b[1;31mIndentationError\u001b[0m\u001b[1;31m:\u001b[0m expected an indented block\n"
     ]
    }
   ],
   "source": []
  },
  {
   "cell_type": "code",
   "execution_count": null,
   "id": "76b5d971",
   "metadata": {},
   "outputs": [],
   "source": []
  }
 ],
 "metadata": {
  "kernelspec": {
   "display_name": "Python 3 (ipykernel)",
   "language": "python",
   "name": "python3"
  },
  "language_info": {
   "codemirror_mode": {
    "name": "ipython",
    "version": 3
   },
   "file_extension": ".py",
   "mimetype": "text/x-python",
   "name": "python",
   "nbconvert_exporter": "python",
   "pygments_lexer": "ipython3",
   "version": "3.9.12"
  }
 },
 "nbformat": 4,
 "nbformat_minor": 5
}
