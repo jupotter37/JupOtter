{
 "cells": [
  {
   "cell_type": "code",
   "execution_count": 1,
   "id": "28ac293e-0793-4886-9a32-f70f6e490acd",
   "metadata": {},
   "outputs": [
    {
     "name": "stdout",
     "output_type": "stream",
     "text": [
      "['ArithmeticError', 'AssertionError', 'AttributeError', 'BaseException', 'BaseExceptionGroup', 'BlockingIOError', 'BrokenPipeError', 'BufferError', 'BytesWarning', 'ChildProcessError', 'ConnectionAbortedError', 'ConnectionError', 'ConnectionRefusedError', 'ConnectionResetError', 'DeprecationWarning', 'EOFError', 'Ellipsis', 'EncodingWarning', 'EnvironmentError', 'Exception', 'ExceptionGroup', 'False', 'FileExistsError', 'FileNotFoundError', 'FloatingPointError', 'FutureWarning', 'GeneratorExit', 'IOError', 'ImportError', 'ImportWarning', 'IndentationError', 'IndexError', 'InterruptedError', 'IsADirectoryError', 'KeyError', 'KeyboardInterrupt', 'LookupError', 'MemoryError', 'ModuleNotFoundError', 'NameError', 'None', 'NotADirectoryError', 'NotImplemented', 'NotImplementedError', 'OSError', 'OverflowError', 'PendingDeprecationWarning', 'PermissionError', 'ProcessLookupError', 'RecursionError', 'ReferenceError', 'ResourceWarning', 'RuntimeError', 'RuntimeWarning', 'StopAsyncIteration', 'StopIteration', 'SyntaxError', 'SyntaxWarning', 'SystemError', 'SystemExit', 'TabError', 'TimeoutError', 'True', 'TypeError', 'UnboundLocalError', 'UnicodeDecodeError', 'UnicodeEncodeError', 'UnicodeError', 'UnicodeTranslateError', 'UnicodeWarning', 'UserWarning', 'ValueError', 'Warning', 'WindowsError', 'ZeroDivisionError', '__IPYTHON__', '__build_class__', '__debug__', '__doc__', '__import__', '__loader__', '__name__', '__package__', '__spec__', 'abs', 'aiter', 'all', 'anext', 'any', 'ascii', 'bin', 'bool', 'breakpoint', 'bytearray', 'bytes', 'callable', 'chr', 'classmethod', 'compile', 'complex', 'copyright', 'credits', 'delattr', 'dict', 'dir', 'display', 'divmod', 'enumerate', 'eval', 'exec', 'execfile', 'filter', 'float', 'format', 'frozenset', 'get_ipython', 'getattr', 'globals', 'hasattr', 'hash', 'help', 'hex', 'id', 'input', 'int', 'isinstance', 'issubclass', 'iter', 'len', 'license', 'list', 'locals', 'map', 'max', 'memoryview', 'min', 'next', 'object', 'oct', 'open', 'ord', 'pow', 'print', 'property', 'range', 'repr', 'reversed', 'round', 'runfile', 'set', 'setattr', 'slice', 'sorted', 'staticmethod', 'str', 'sum', 'super', 'tuple', 'type', 'vars', 'zip']\n"
     ]
    }
   ],
   "source": [
    "print(dir(__builtins__))"
   ]
  },
  {
   "cell_type": "raw",
   "id": "a50eb2d7-9a73-4888-a903-b0e7854006cd",
   "metadata": {},
   "source": [
    "Built-in Functions:\n",
    "abs, aiter, all, anext, any, ascii, bin, bool, breakpoint, bytearray, bytes, callable, chr, classmethod, compile, complex, delattr, dict, dir, divmod, enumerate, eval, exec, filter, float, format, frozenset, getattr, globals, hasattr, hash, help, hex, id, input, int, isinstance, issubclass, iter, len, list, locals, map, max, memoryview, min, next, object, oct, open, ord, pow, print, property, range, repr, reversed, round, set, setattr, slice, sorted, staticmethod, str, sum, super, tuple, type, vars, zip\n"
   ]
  },
  {
   "cell_type": "markdown",
   "id": "9a9ace61-e0a1-48e9-9d83-8a3380144b43",
   "metadata": {},
   "source": [
    "### abs(x): Returns the absolute value of a number. "
   ]
  },
  {
   "cell_type": "code",
   "execution_count": 4,
   "id": "f4f4df57-ccca-4cb2-945d-9f8161ee8561",
   "metadata": {},
   "outputs": [
    {
     "data": {
      "text/plain": [
       "5"
      ]
     },
     "execution_count": 4,
     "metadata": {},
     "output_type": "execute_result"
    }
   ],
   "source": [
    "abs(-5)"
   ]
  },
  {
   "cell_type": "markdown",
   "id": "d1942bf9-2126-4b4f-a9b6-3639e4a8a379",
   "metadata": {},
   "source": [
    "### all(iterable): Checks if all elements in a collection are True (or if the collection is empty(empty is True)). "
   ]
  },
  {
   "cell_type": "code",
   "execution_count": 6,
   "id": "01f58e03-53a8-41ac-88d6-63ed7c22d4a6",
   "metadata": {},
   "outputs": [
    {
     "data": {
      "text/plain": [
       "True"
      ]
     },
     "execution_count": 6,
     "metadata": {},
     "output_type": "execute_result"
    }
   ],
   "source": [
    "all([1,2,3,5])"
   ]
  },
  {
   "cell_type": "markdown",
   "id": "28ac5891-3e9f-4a5e-a0db-2fa42105eb18",
   "metadata": {},
   "source": [
    "### any(iterable): Checks if at least one element in a collection is True. False if empty."
   ]
  },
  {
   "cell_type": "code",
   "execution_count": 8,
   "id": "7d6a95d8-58bd-41a2-bd5e-cf6917eebb5f",
   "metadata": {},
   "outputs": [
    {
     "data": {
      "text/plain": [
       "True"
      ]
     },
     "execution_count": 8,
     "metadata": {},
     "output_type": "execute_result"
    }
   ],
   "source": [
    "any([1,2,3,0])"
   ]
  },
  {
   "cell_type": "markdown",
   "id": "5a2f0b89-47a1-429f-8c9d-18e8f2d26200",
   "metadata": {},
   "source": [
    "### ascii(object): Returns a string containing a printable representation of an object, escaping non-ASCII characters.\n",
    "#This helps you see a \"computer-friendly\" version of text, especially useful for special characters."
   ]
  },
  {
   "cell_type": "code",
   "execution_count": 9,
   "id": "2819daad-1de5-4512-87c1-8b35245971ab",
   "metadata": {},
   "outputs": [
    {
     "data": {
      "text/plain": [
       "\"'caf\\\\xe9'\""
      ]
     },
     "execution_count": 9,
     "metadata": {},
     "output_type": "execute_result"
    }
   ],
   "source": [
    "ascii('café')"
   ]
  },
  {
   "cell_type": "markdown",
   "id": "211d6398-2805-465d-848d-f1637598c1a6",
   "metadata": {},
   "source": [
    "### bin(x): Converts an integer to a binary string prefixed with \"0b\"\n",
    "#number is represented in binary (base-2) format, which is how computers fundamentally store numbers."
   ]
  },
  {
   "cell_type": "code",
   "execution_count": 10,
   "id": "ff88d02e-7653-4e54-a382-f73da0be5d92",
   "metadata": {},
   "outputs": [
    {
     "data": {
      "text/plain": [
       "'0b1010'"
      ]
     },
     "execution_count": 10,
     "metadata": {},
     "output_type": "execute_result"
    }
   ],
   "source": [
    "bin(10)"
   ]
  },
  {
   "cell_type": "markdown",
   "id": "9f251390-08c6-46af-b326-d78b56aa206d",
   "metadata": {},
   "source": [
    "### bool(x): Converts a value to Boolean (True or False).\n",
    "#Most non-zero numbers and non-empty collections are considered True."
   ]
  },
  {
   "cell_type": "code",
   "execution_count": 11,
   "id": "a14dbf2d-cb76-4c92-b588-1b0a8981f138",
   "metadata": {},
   "outputs": [
    {
     "name": "stdout",
     "output_type": "stream",
     "text": [
      "True\n",
      "False\n",
      "False\n"
     ]
    }
   ],
   "source": [
    "print(bool(1))\n",
    "print(bool(0))\n",
    "print(bool())"
   ]
  },
  {
   "cell_type": "markdown",
   "id": "4cd2f9c0-d218-4322-8c9a-6f08af55976d",
   "metadata": {},
   "source": [
    "### callable(object): Checks if an object appears to be callable (like a function)and returns True, otherwise False. \n",
    "#This tells you if something can be \"called\" (used like a function with parentheses)."
   ]
  },
  {
   "cell_type": "code",
   "execution_count": 12,
   "id": "ff7ca257-43b1-449b-831f-e78ce36ee468",
   "metadata": {},
   "outputs": [
    {
     "data": {
      "text/plain": [
       "True"
      ]
     },
     "execution_count": 12,
     "metadata": {},
     "output_type": "execute_result"
    }
   ],
   "source": [
    "callable(print)"
   ]
  },
  {
   "cell_type": "code",
   "execution_count": 14,
   "id": "1f241008-e6b0-4d2c-b168-274c36dbff6d",
   "metadata": {},
   "outputs": [
    {
     "data": {
      "text/plain": [
       "False"
      ]
     },
     "execution_count": 14,
     "metadata": {},
     "output_type": "execute_result"
    }
   ],
   "source": [
    "callable('hello')"
   ]
  },
  {
   "cell_type": "markdown",
   "id": "011ef9bf-ff8e-463d-89dc-de4bec47068e",
   "metadata": {},
   "source": [
    "### chr(i): Converts an integer to its corresponding Unicode character"
   ]
  },
  {
   "cell_type": "code",
   "execution_count": 15,
   "id": "909f7480-ac18-4638-8368-6051e5960aae",
   "metadata": {},
   "outputs": [
    {
     "name": "stdout",
     "output_type": "stream",
     "text": [
      "A\n",
      "a\n"
     ]
    }
   ],
   "source": [
    "print(chr(65))  \n",
    "print(chr(97))  "
   ]
  },
  {
   "cell_type": "markdown",
   "id": "24c2e5bb-23bd-4cf1-b587-3a443188a8ad",
   "metadata": {},
   "source": [
    "### complex: Creates a complex number."
   ]
  },
  {
   "cell_type": "code",
   "execution_count": 16,
   "id": "12a08dae-d389-4162-9d9a-3ec4ceaa51f4",
   "metadata": {},
   "outputs": [
    {
     "name": "stdout",
     "output_type": "stream",
     "text": [
      "(2+3j)\n"
     ]
    }
   ],
   "source": [
    "z = complex(2, 3)\n",
    "print(z)  "
   ]
  },
  {
   "cell_type": "markdown",
   "id": "c762ddac-193a-49da-9fa2-2b8f7efe79e5",
   "metadata": {},
   "source": [
    "### dict: Creates a dictionary"
   ]
  },
  {
   "cell_type": "code",
   "execution_count": 17,
   "id": "807748d9-a002-43e3-8a66-fcdbb44ae7dd",
   "metadata": {},
   "outputs": [
    {
     "name": "stdout",
     "output_type": "stream",
     "text": [
      "{'name': 'John', 'age': 30}\n"
     ]
    }
   ],
   "source": [
    "d = dict(name=\"John\", age=30)\n",
    "print(d)  "
   ]
  },
  {
   "cell_type": "markdown",
   "id": "228cf792-ba97-4f1d-b472-a22523e7bf24",
   "metadata": {},
   "source": [
    "### dir: Returns a list of valid attributes for the object"
   ]
  },
  {
   "cell_type": "code",
   "execution_count": 22,
   "id": "132a546a-c1f1-4593-a98d-b49f478cedd4",
   "metadata": {},
   "outputs": [
    {
     "name": "stdout",
     "output_type": "stream",
     "text": [
      "2\n"
     ]
    }
   ],
   "source": [
    "str='2.5'\n",
    "str=int(float(str))\n",
    "print(str)"
   ]
  },
  {
   "cell_type": "markdown",
   "id": "42cfcef3-7251-445a-922e-feb02eac1579",
   "metadata": {},
   "source": [
    "### zip"
   ]
  },
  {
   "cell_type": "code",
   "execution_count": 46,
   "id": "aa01aab2-dd6e-4bca-87a7-169f999d5c14",
   "metadata": {},
   "outputs": [
    {
     "name": "stdout",
     "output_type": "stream",
     "text": [
      "zipped:  (('a', 'd'), ('b', 'e'), ('c', 'f'))\n"
     ]
    }
   ],
   "source": [
    "a=('a','b','c')\n",
    "b=('d','e','f')\n",
    "print(\"zipped: \",tuple(zip(a,b)))"
   ]
  },
  {
   "cell_type": "code",
   "execution_count": 51,
   "id": "d43e9ff0-854f-4801-bdf8-c15511c9a973",
   "metadata": {},
   "outputs": [
    {
     "name": "stdout",
     "output_type": "stream",
     "text": [
      "d\n",
      "e\n",
      "f\n"
     ]
    }
   ],
   "source": [
    "for i in tuple(zip(a,b)):\n",
    "    print(i[1])\n",
    "    "
   ]
  },
  {
   "cell_type": "code",
   "execution_count": 53,
   "id": "b75ad790-c55f-479f-9e9f-f4d9397d90a5",
   "metadata": {},
   "outputs": [
    {
     "name": "stdout",
     "output_type": "stream",
     "text": [
      "['d', 'e', 'f']\n"
     ]
    }
   ],
   "source": [
    "a=('a','b','c')\n",
    "b=('d','e','f')\n",
    "li = []\n",
    "for i in tuple(zip(a,b)):\n",
    "    li.append(i[1])\n",
    "print(li)"
   ]
  },
  {
   "cell_type": "code",
   "execution_count": 52,
   "id": "bcbcf44e-cc75-4bbf-ba14-359fa265274b",
   "metadata": {},
   "outputs": [
    {
     "name": "stdout",
     "output_type": "stream",
     "text": [
      "zipped:  (('a', 'd'), ('b', 'e'), ('c', 'f'))\n",
      "['d', 'e', 'f']\n"
     ]
    }
   ],
   "source": [
    "a = ('a', 'b', 'c')\n",
    "b = ('d', 'e', 'f')\n",
    "zipped = tuple(zip(a, b))\n",
    "print(\"zipped: \",zipped)\n",
    "\n",
    "second_elements = []\n",
    "for i in zipped:\n",
    "    second_elements.append(i[1])\n",
    "\n",
    "print(second_elements)"
   ]
  },
  {
   "cell_type": "markdown",
   "id": "f89f368f-002b-41ca-a169-431b70c2f842",
   "metadata": {},
   "source": [
    "### enumerate()\n",
    "when dealing with iterators, we also need to keep a count of iterations. The enumerate () method adds a counter to an iterable and returns it in the form of an enumerating object."
   ]
  },
  {
   "cell_type": "raw",
   "id": "098893b5-4ee0-4857-8310-5b2b294d959d",
   "metadata": {},
   "source": [
    "enumerate(iterable, start=0)"
   ]
  },
  {
   "cell_type": "code",
   "execution_count": 56,
   "id": "c079ccd2-d655-4eff-9192-b4379fb65be5",
   "metadata": {},
   "outputs": [
    {
     "name": "stdout",
     "output_type": "stream",
     "text": [
      "[(0, 'bread'), (1, 'milk'), (2, 'butter')]\n",
      "[(10, 'bread'), (11, 'milk'), (12, 'butter')]\n"
     ]
    }
   ],
   "source": [
    "a = ['bread', 'milk', 'butter']\n",
    "enu_a = enumerate(a)\n",
    "print(list(enu_a))\n",
    "\n",
    "enu_a = enumerate(a, 10)\n",
    "print(list(enu_a))"
   ]
  },
  {
   "cell_type": "code",
   "execution_count": 55,
   "id": "f8cda6cc-c782-4a4d-b1a9-aef703fcc88c",
   "metadata": {},
   "outputs": [
    {
     "name": "stdout",
     "output_type": "stream",
     "text": [
      "<enumerate object at 0x00000259BCE970B0>\n",
      "[(3, 'Python'), (4, 'Java'), (5, 'JavaScript')]\n"
     ]
    }
   ],
   "source": [
    "lang = ['Python', 'Java', 'JavaScript']\n",
    "\n",
    "# enumerate the list\n",
    "enumerated = enumerate(lang,3)\n",
    "print(enumerated)\n",
    "\n",
    "# convert enumerate object to list\n",
    "print(list(enumerated))\n"
   ]
  },
  {
   "cell_type": "code",
   "execution_count": 59,
   "id": "15483b06-558b-4494-8e94-d5affb34a1ea",
   "metadata": {},
   "outputs": [
    {
     "name": "stdout",
     "output_type": "stream",
     "text": [
      "(5, 'bread')\n",
      "(6, 'milk')\n",
      "(7, 'butter')\n",
      "\n",
      "0 bread\n",
      "1 milk\n",
      "2 butter\n",
      "\n",
      "100 bread\n",
      "101 milk\n",
      "102 butter\n"
     ]
    }
   ],
   "source": [
    "grocery = ['bread', 'milk', 'butter']\n",
    "\n",
    "for i in enumerate(grocery,5):\n",
    "  print(i)\n",
    "\n",
    "print()\n",
    "for count, i in enumerate(grocery):\n",
    "  print(count, i)\n",
    "\n",
    "print()\n",
    "for count, i in enumerate(grocery, 100):\n",
    "  print(count, i)"
   ]
  },
  {
   "cell_type": "code",
   "execution_count": 66,
   "id": "d2469325-5123-47ff-93b2-1730d7cae714",
   "metadata": {},
   "outputs": [
    {
     "name": "stdout",
     "output_type": "stream",
     "text": [
      "Next Element: (0, 'bread')\n"
     ]
    }
   ],
   "source": [
    "a = ['bread', 'milk', 'butter']\n",
    "\n",
    "enu_a = enumerate(a)\n",
    "\n",
    "next_element = next(enu_a)\n",
    "\n",
    "print(f\"Next Element: {next_element}\")"
   ]
  },
  {
   "cell_type": "code",
   "execution_count": 67,
   "id": "6258c01f-e0e9-43f6-ac4b-cef476613f2b",
   "metadata": {},
   "outputs": [
    {
     "name": "stdout",
     "output_type": "stream",
     "text": [
      "2 cherry\n",
      "1 banana\n",
      "0 apple\n"
     ]
    }
   ],
   "source": [
    "b = ['apple', 'banana', 'cherry']\n",
    "for count, i in enumerate(reversed(b)):\n",
    "    print(len(b) - count - 1, i)"
   ]
  },
  {
   "cell_type": "markdown",
   "id": "035377ce-cfb7-403a-899e-1f3136960bf0",
   "metadata": {},
   "source": [
    "### float\n",
    "float() function converts the specified value into a floating point number."
   ]
  },
  {
   "cell_type": "code",
   "execution_count": 73,
   "id": "fe2af9d9-67ce-4a07-a2f9-806ac776c453",
   "metadata": {},
   "outputs": [
    {
     "name": "stdout",
     "output_type": "stream",
     "text": [
      "25.0\n",
      "nan\n",
      "inf\n"
     ]
    }
   ],
   "source": [
    "num = 25\n",
    "\n",
    "float_number = float(num)\n",
    "print(float_number)\n",
    "\n",
    "print(float(\"nan\"))\n",
    "print(float(\"inf\"))"
   ]
  },
  {
   "cell_type": "code",
   "execution_count": 70,
   "id": "ad392c5d-ff75-498c-82af-afaeb8b12e28",
   "metadata": {},
   "outputs": [],
   "source": [
    "#print(float(\"abc\"))\n",
    "#string cannot be converted into float"
   ]
  },
  {
   "cell_type": "markdown",
   "id": "f9b4bdb8-5a2c-49c4-8a1f-bc04ecc711e3",
   "metadata": {},
   "source": [
    "### help \n",
    "used to execute the built-in help system"
   ]
  },
  {
   "cell_type": "code",
   "execution_count": 76,
   "id": "2d6e7892-26a7-49e8-a1f8-7ffef44e4a14",
   "metadata": {},
   "outputs": [],
   "source": [
    "#help(list)\n",
    "#help(dict)\n",
    "#help(print)\n",
    "#help([1, 2, 3])"
   ]
  },
  {
   "cell_type": "code",
   "execution_count": 77,
   "id": "292f993d-2519-467d-a77d-404519ce3cc3",
   "metadata": {},
   "outputs": [
    {
     "name": "stdout",
     "output_type": "stream",
     "text": [
      "Welcome to Python 3.12's help utility! If this is your first time using\n",
      "Python, you should definitely check out the tutorial at\n",
      "https://docs.python.org/3.12/tutorial/.\n",
      "\n",
      "Enter the name of any module, keyword, or topic to get help on writing\n",
      "Python programs and using Python modules.  To get a list of available\n",
      "modules, keywords, symbols, or topics, enter \"modules\", \"keywords\",\n",
      "\"symbols\", or \"topics\".\n",
      "\n",
      "Each module also comes with a one-line summary of what it does; to list\n",
      "the modules whose name or summary contain a given string such as \"spam\",\n",
      "enter \"modules spam\".\n",
      "\n",
      "To quit this help utility and return to the interpreter,\n",
      "enter \"q\" or \"quit\".\n",
      "\n",
      "\n",
      "You are now leaving help and returning to the Python interpreter.\n",
      "If you want to ask for help on a particular object directly from the\n",
      "interpreter, you can type \"help(object)\".  Executing \"help('string')\"\n",
      "has the same effect as typing a particular string at the help> prompt.\n"
     ]
    }
   ],
   "source": [
    "help()"
   ]
  },
  {
   "cell_type": "markdown",
   "id": "06dd0577-ab1e-4ff9-b0fd-1910ebc208bd",
   "metadata": {},
   "source": [
    "### input()\n",
    "used to derive input from the user"
   ]
  },
  {
   "cell_type": "code",
   "execution_count": 79,
   "id": "bbe9cb05-371a-44da-8fef-bce6fcd72c06",
   "metadata": {},
   "outputs": [
    {
     "name": "stdin",
     "output_type": "stream",
     "text": [
      "Enter your name:  sree\n"
     ]
    },
    {
     "name": "stdout",
     "output_type": "stream",
     "text": [
      "sree\n"
     ]
    }
   ],
   "source": [
    "name = input(\"Enter your name: \")\n",
    "print(name)"
   ]
  },
  {
   "cell_type": "markdown",
   "id": "45c33785-ed95-4498-9295-1e9688c8165b",
   "metadata": {},
   "source": [
    "### int()\n",
    "converts the specified value(string or number) into an integer number"
   ]
  },
  {
   "cell_type": "code",
   "execution_count": 31,
   "id": "3b23ccdc-6411-4a2b-b847-9b5376d7834d",
   "metadata": {},
   "outputs": [
    {
     "name": "stdout",
     "output_type": "stream",
     "text": [
      "123\n",
      "3\n"
     ]
    }
   ],
   "source": [
    "print(int(\"123\"))\n",
    "print(int(3.14))"
   ]
  },
  {
   "cell_type": "markdown",
   "id": "626ea7e1-2e62-4235-a7ad-df5694d0a294",
   "metadata": {},
   "source": [
    "### isinstance \n",
    "Checks if an object is of a specified type."
   ]
  },
  {
   "cell_type": "code",
   "execution_count": 35,
   "id": "bdec1e37-15c7-4a71-8d5b-8d6082abf029",
   "metadata": {},
   "outputs": [
    {
     "name": "stdout",
     "output_type": "stream",
     "text": [
      "True\n",
      "True\n",
      "False\n"
     ]
    }
   ],
   "source": [
    "x = 5\n",
    "print(isinstance(x, int))\n",
    "print(isinstance(\"hello\", str))\n",
    "print(isinstance(\"hello\", int))"
   ]
  },
  {
   "cell_type": "markdown",
   "id": "0d9aea82-7284-4b1b-9342-e879d8a2117a",
   "metadata": {},
   "source": [
    "### len()\n",
    "Returns the number of items in an object"
   ]
  },
  {
   "cell_type": "code",
   "execution_count": 38,
   "id": "d41e0fe4-1003-45ac-99b1-acebecffd9db",
   "metadata": {},
   "outputs": [
    {
     "name": "stdout",
     "output_type": "stream",
     "text": [
      "5\n",
      "5\n"
     ]
    }
   ],
   "source": [
    "my_list = [1, 2, 3, 4, 5]\n",
    "print(len(my_list))\n",
    "print(len(\"hello\"))"
   ]
  },
  {
   "cell_type": "markdown",
   "id": "33d190e4-177b-4a03-ba44-ab5fc919297b",
   "metadata": {},
   "source": [
    "### list()\n",
    "Creates a list object"
   ]
  },
  {
   "cell_type": "code",
   "execution_count": 41,
   "id": "7c0e88b4-4906-4bb5-adb0-4115268fb1ef",
   "metadata": {},
   "outputs": [
    {
     "name": "stdout",
     "output_type": "stream",
     "text": [
      "[0, 1, 2, 3, 4]\n"
     ]
    }
   ],
   "source": [
    "print(list(range(5)))"
   ]
  },
  {
   "cell_type": "markdown",
   "id": "3d8e353a-3a20-41c3-bf15-bd8f37b80b94",
   "metadata": {},
   "source": [
    "### map()\n",
    "Applies a function to all items in an input list"
   ]
  },
  {
   "cell_type": "code",
   "execution_count": 60,
   "id": "4cd13a83-0498-4d27-8b52-863040cf2182",
   "metadata": {},
   "outputs": [
    {
     "name": "stdout",
     "output_type": "stream",
     "text": [
      "[2, 4, 6, 8, 10]\n"
     ]
    }
   ],
   "source": [
    "numbers = [1, 2, 3, 4, 5]\n",
    "print(list(map(lambda x: x * 2, numbers))) #converts all the numbers list to its square using lambda\n",
    "#A lambda function can take any number of arguments, but can only have one expression.\n",
    "#lambda arguments : expressions"
   ]
  },
  {
   "cell_type": "code",
   "execution_count": 48,
   "id": "770b1b52-4751-4a02-8822-e5c74c202167",
   "metadata": {},
   "outputs": [
    {
     "name": "stdout",
     "output_type": "stream",
     "text": [
      "['1', '2', '3']\n"
     ]
    }
   ],
   "source": [
    "print(list(map(str, [1, 2, 3]))) #converts a number to string"
   ]
  },
  {
   "cell_type": "code",
   "execution_count": 78,
   "id": "62e8d2ff-d2ad-4f78-a881-33d519663bc2",
   "metadata": {},
   "outputs": [
    {
     "name": "stdout",
     "output_type": "stream",
     "text": [
      "('1', '2', '3')\n",
      "{'2', '1', '3'}\n",
      "[1, 2, 3]\n"
     ]
    }
   ],
   "source": [
    "print(tuple(map(str, [1, 2, 3])))\n",
    "print(set(map(str, [1, 2, 3])))\n",
    "print(list(map(int, [1,2,3])))"
   ]
  },
  {
   "cell_type": "markdown",
   "id": "f6314725-7f5d-4413-9500-0a898d74e1d2",
   "metadata": {},
   "source": [
    "### max()\n",
    "Returns the largest item from arguments."
   ]
  },
  {
   "cell_type": "code",
   "execution_count": 9,
   "id": "a2e81110-a305-4c9b-b7b9-ffb5cc4f3e5a",
   "metadata": {},
   "outputs": [
    {
     "name": "stdout",
     "output_type": "stream",
     "text": [
      "5\n"
     ]
    }
   ],
   "source": [
    "numbers = [1, 2, 3, 4, 5]\n",
    "print(max(numbers))"
   ]
  },
  {
   "cell_type": "markdown",
   "id": "64db4b76-6a71-440d-bb0d-efec61faf427",
   "metadata": {},
   "source": [
    "### min()\n",
    "Returns the smallest item from arguments."
   ]
  },
  {
   "cell_type": "code",
   "execution_count": 11,
   "id": "9dcbcb2f-17a5-46bd-b0fd-c094078ae82d",
   "metadata": {},
   "outputs": [
    {
     "name": "stdout",
     "output_type": "stream",
     "text": [
      "1\n"
     ]
    }
   ],
   "source": [
    "numbers = [1, 2, 3, 4, 5]\n",
    "print(min(numbers))"
   ]
  },
  {
   "cell_type": "markdown",
   "id": "663f20df-2a86-4a22-9be0-5850fac041b7",
   "metadata": {},
   "source": [
    "### print()\n",
    "Outputs to the console."
   ]
  },
  {
   "cell_type": "code",
   "execution_count": 13,
   "id": "c735e9f2-ebfe-4838-94f7-df1889dc8787",
   "metadata": {},
   "outputs": [
    {
     "name": "stdout",
     "output_type": "stream",
     "text": [
      "Hello, World!\n"
     ]
    }
   ],
   "source": [
    "print(\"Hello, World!\")"
   ]
  },
  {
   "cell_type": "code",
   "execution_count": 80,
   "id": "58d89d8b-8d0c-4edd-91be-7f406fef9e40",
   "metadata": {},
   "outputs": [
    {
     "name": "stdout",
     "output_type": "stream",
     "text": [
      "Hello-World\n",
      "Hello:World\n"
     ]
    }
   ],
   "source": [
    "print(\"Hello\", \"World\", sep=\"-\")  # Uses separator\n",
    "print(\"Hello\", \"World\", sep=\":\")"
   ]
  },
  {
   "cell_type": "markdown",
   "id": "5fd75196-64c6-4078-8108-82dd5d75c4d1",
   "metadata": {},
   "source": [
    "### range()\n",
    "Generates a sequence of numbers."
   ]
  },
  {
   "cell_type": "code",
   "execution_count": 84,
   "id": "0d303e10-bcbb-46ee-8ea4-0154f9e9dd29",
   "metadata": {},
   "outputs": [
    {
     "name": "stdout",
     "output_type": "stream",
     "text": [
      "0\n",
      "2\n",
      "4\n",
      "6\n",
      "8\n"
     ]
    }
   ],
   "source": [
    "for i in range(5):\n",
    "    print(i*2)"
   ]
  },
  {
   "cell_type": "code",
   "execution_count": 86,
   "id": "e44d2d79-afe8-4e84-b7f0-74f6b809e105",
   "metadata": {},
   "outputs": [
    {
     "name": "stdout",
     "output_type": "stream",
     "text": [
      "[2, 4, 6, 8]\n",
      "[1, 5, 9, 13, 17]\n"
     ]
    }
   ],
   "source": [
    "print(list(range(2, 10, 2)))# Creates even numbers from 2 to 8\n",
    "print(list(range(1,20,4)))"
   ]
  },
  {
   "cell_type": "markdown",
   "id": "c12d0a5a-baf6-41bf-bb7b-d1830a96d5f0",
   "metadata": {},
   "source": [
    "### reversed()\n",
    "Reverses a sequence."
   ]
  },
  {
   "cell_type": "code",
   "execution_count": 17,
   "id": "6b34799c-341b-4bef-8fbd-f14a41507235",
   "metadata": {},
   "outputs": [
    {
     "name": "stdout",
     "output_type": "stream",
     "text": [
      "[5, 4, 3, 2, 1]\n"
     ]
    }
   ],
   "source": [
    "numbers = [1, 2, 3, 4, 5]\n",
    "print(list(reversed(numbers)))"
   ]
  },
  {
   "cell_type": "code",
   "execution_count": 92,
   "id": "fa39d8f6-a3cf-48e4-b488-19e263904d95",
   "metadata": {},
   "outputs": [
    {
     "name": "stdout",
     "output_type": "stream",
     "text": [
      "olleh\n"
     ]
    }
   ],
   "source": [
    "print(''.join(reversed(\"hello\")))"
   ]
  },
  {
   "cell_type": "raw",
   "id": "d63f58fd-e81d-4ea7-88ee-6879e9cecdb3",
   "metadata": {},
   "source": [
    "print(reversed(\"hello\")) #use ''.join\n",
    "\n",
    "''.join(...): This is where we construct the reversed string:\n",
    "---> '' is an empty string.\n",
    "---> join() is a string method that concatenates the elements of an iterable.\n",
    "---> The empty string '' is used as the separator between the characters."
   ]
  },
  {
   "cell_type": "markdown",
   "id": "828e5d7d-3665-4ad7-a433-2ecce8c752fa",
   "metadata": {},
   "source": [
    "### round()\n",
    "Rounds to nearest integer"
   ]
  },
  {
   "cell_type": "code",
   "execution_count": 19,
   "id": "4b32a1d9-54a1-4890-a922-9f4e992c119d",
   "metadata": {},
   "outputs": [
    {
     "name": "stdout",
     "output_type": "stream",
     "text": [
      "3.14\n"
     ]
    }
   ],
   "source": [
    "print(round(3.14159, 2))"
   ]
  },
  {
   "cell_type": "markdown",
   "id": "1dfcb633-8100-48d3-82b0-a406b782c6b9",
   "metadata": {},
   "source": [
    "### set()\n",
    "Creates a set of objects"
   ]
  },
  {
   "cell_type": "code",
   "execution_count": 21,
   "id": "c39292b6-c28c-433e-b663-6a2d23550dd6",
   "metadata": {},
   "outputs": [
    {
     "name": "stdout",
     "output_type": "stream",
     "text": [
      "{1, 2, 3, 4, 5}\n"
     ]
    }
   ],
   "source": [
    "my_set = set([1, 2, 2, 3, 4, 4, 5])\n",
    "print(my_set)"
   ]
  },
  {
   "cell_type": "code",
   "execution_count": 96,
   "id": "952609da-5bd9-483f-85f6-19f6995765be",
   "metadata": {},
   "outputs": [
    {
     "name": "stdout",
     "output_type": "stream",
     "text": [
      "{'h', 'o', 'e', 'l'}\n"
     ]
    }
   ],
   "source": [
    "print(set(\"hello\"))  # Creates a set from a string"
   ]
  },
  {
   "cell_type": "markdown",
   "id": "bfd7d29f-8b01-4729-9bd0-cfa5e9ae004f",
   "metadata": {},
   "source": [
    "### sorted()\n",
    "Returns a new sorted list from an iterable"
   ]
  },
  {
   "cell_type": "code",
   "execution_count": 23,
   "id": "cefe0400-3f97-4a65-ac09-4fa4c04d6803",
   "metadata": {},
   "outputs": [
    {
     "name": "stdout",
     "output_type": "stream",
     "text": [
      "[1, 1, 2, 3, 3, 4, 5, 5, 5, 6, 9]\n"
     ]
    }
   ],
   "source": [
    "numbers = [3, 1, 4, 1, 5, 9, 2, 6, 5, 3, 5]\n",
    "print(sorted(numbers))"
   ]
  },
  {
   "cell_type": "code",
   "execution_count": 99,
   "id": "8062b761-a374-44cb-af89-578a8b8764d8",
   "metadata": {},
   "outputs": [
    {
     "name": "stdout",
     "output_type": "stream",
     "text": [
      "['e', 'h', 'l', 'l', 'o']\n"
     ]
    }
   ],
   "source": [
    "print(sorted(\"hello\"))  # Sorts characters of a string"
   ]
  },
  {
   "cell_type": "markdown",
   "id": "f6f9ada6-ac15-445b-990f-35b6d298f440",
   "metadata": {},
   "source": [
    "### str()\n",
    "Converts an object to a string"
   ]
  },
  {
   "cell_type": "code",
   "execution_count": 102,
   "id": "33d97c44-9098-4275-bb94-6a7ae31ab7e5",
   "metadata": {},
   "outputs": [
    {
     "name": "stdout",
     "output_type": "stream",
     "text": [
      "3.14\n"
     ]
    }
   ],
   "source": [
    "print(str(3.14))  # Converts float to string"
   ]
  },
  {
   "cell_type": "code",
   "execution_count": 25,
   "id": "2762af73-e9fb-4c88-85e2-b4635116ead4",
   "metadata": {},
   "outputs": [
    {
     "name": "stdout",
     "output_type": "stream",
     "text": [
      "123\n"
     ]
    }
   ],
   "source": [
    "number = 123\n",
    "print(str(number))"
   ]
  },
  {
   "cell_type": "markdown",
   "id": "083af580-3d9c-4f54-b1e4-b2bac37acc43",
   "metadata": {},
   "source": [
    "### sum()\n",
    "Adds items"
   ]
  },
  {
   "cell_type": "code",
   "execution_count": 105,
   "id": "fa0368d1-b4a6-419d-80e8-18b41eeeb659",
   "metadata": {},
   "outputs": [
    {
     "name": "stdout",
     "output_type": "stream",
     "text": [
      "15\n",
      "16\n"
     ]
    }
   ],
   "source": [
    "numbers = [1, 2, 3, 4, 5]\n",
    "print(sum(numbers))\n",
    "\n",
    "print(sum([1, 2, 3], 10))"
   ]
  },
  {
   "cell_type": "markdown",
   "id": "c7702ead-55ff-41f4-a034-da1d49bb8e44",
   "metadata": {},
   "source": [
    "### type()\n",
    "Returns the type of an object"
   ]
  },
  {
   "cell_type": "code",
   "execution_count": 29,
   "id": "88d57abb-e403-4cf2-af69-4e0eefd2d730",
   "metadata": {},
   "outputs": [
    {
     "name": "stdout",
     "output_type": "stream",
     "text": [
      "<class 'int'>\n",
      "<class 'str'>\n"
     ]
    }
   ],
   "source": [
    "x = 5\n",
    "y=\"string\"\n",
    "print(type(x))\n",
    "print(type(y))"
   ]
  },
  {
   "cell_type": "code",
   "execution_count": 110,
   "id": "3e98273e-5337-46ae-9f0a-dbb6120fe799",
   "metadata": {},
   "outputs": [
    {
     "name": "stdout",
     "output_type": "stream",
     "text": [
      "<class 'list'>\n",
      "<class 'tuple'>\n",
      "<class 'set'>\n"
     ]
    }
   ],
   "source": [
    "print(type([1, 2, 3]))\n",
    "print(type((1, 2, 3)))\n",
    "print(type({1, 2, 3}))"
   ]
  },
  {
   "cell_type": "code",
   "execution_count": null,
   "id": "420d23d1-2df3-429c-9f90-d358f89a7571",
   "metadata": {},
   "outputs": [],
   "source": []
  }
 ],
 "metadata": {
  "kernelspec": {
   "display_name": "Python 3 (ipykernel)",
   "language": "python",
   "name": "python3"
  },
  "language_info": {
   "codemirror_mode": {
    "name": "ipython",
    "version": 3
   },
   "file_extension": ".py",
   "mimetype": "text/x-python",
   "name": "python",
   "nbconvert_exporter": "python",
   "pygments_lexer": "ipython3",
   "version": "3.12.4"
  }
 },
 "nbformat": 4,
 "nbformat_minor": 5
}
