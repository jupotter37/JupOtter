{
 "cells": [
  {
   "cell_type": "code",
   "execution_count": 2,
   "id": "236e1e52-0d00-460a-bd16-9be7d68a5dae",
   "metadata": {},
   "outputs": [
    {
     "name": "stdin",
     "output_type": "stream",
     "text": [
      "enter 5\n"
     ]
    },
    {
     "name": "stdout",
     "output_type": "stream",
     "text": [
      "odd\n"
     ]
    }
   ],
   "source": [
    "n=int(input('enter'))\n",
    "if n%2==0:\n",
    "    print('even')\n",
    "else:\n",
    "    print('odd')"
   ]
  },
  {
   "cell_type": "code",
   "execution_count": 635,
   "id": "bc7f81e8-1a43-4a04-b641-dcfdf69c75ca",
   "metadata": {},
   "outputs": [],
   "source": [
    "def sum(n):\n",
    "    m=0\n",
    "    for i in n:\n",
    "        m=i+m\n",
    "    return m\n",
    "\n",
    "numbers=[1,2,3,4,5,6]\n"
   ]
  },
  {
   "cell_type": "code",
   "execution_count": 636,
   "id": "2192f202-79ae-4c16-a5c6-9a5b8fd34315",
   "metadata": {},
   "outputs": [
    {
     "name": "stdout",
     "output_type": "stream",
     "text": [
      "21\n"
     ]
    }
   ],
   "source": [
    "m1=sum(numbers)\n",
    "print(m1)"
   ]
  },
  {
   "cell_type": "code",
   "execution_count": 637,
   "id": "278bd2d4-8dc8-407c-a7ad-eb2d4b6c1b2f",
   "metadata": {},
   "outputs": [
    {
     "name": "stdin",
     "output_type": "stream",
     "text": [
      "enter 1\n"
     ]
    },
    {
     "name": "stdout",
     "output_type": "stream",
     "text": [
      "pal\n"
     ]
    }
   ],
   "source": [
    "n=int(input('enter'))\n",
    "\n",
    "n=str(n)\n",
    "rn=n[::-1]\n",
    "if n==rn:\n",
    "    \n",
    "    print('pal')\n",
    "else:\n",
    "    print('no')"
   ]
  },
  {
   "cell_type": "code",
   "execution_count": 638,
   "id": "7c844640-909b-4c89-850e-4274be6a0ba4",
   "metadata": {},
   "outputs": [],
   "source": [
    "def roman_to_int(s):\n",
    "    rd = {'I': 1, 'V': 5, 'X': 10, 'L': 50, 'C': 100, 'D': 500, 'M': 1000}\n",
    "    t=0\n",
    "    for i in range(len(s)-1):\n",
    "        if rd[s[i]]<rd[s[i+1]]:\n",
    "            t-=rd[s[i]]\n",
    "        else:\n",
    "            t+=rd[s[i]]\n",
    "    t+=rd[s[-i]]\n",
    "    return t\n",
    "\n"
   ]
  },
  {
   "cell_type": "code",
   "execution_count": 639,
   "id": "54fa744f-a88f-4640-b989-df886a94999d",
   "metadata": {},
   "outputs": [
    {
     "data": {
      "text/plain": [
       "7"
      ]
     },
     "execution_count": 639,
     "metadata": {},
     "output_type": "execute_result"
    }
   ],
   "source": [
    "roman_to_int('VII')"
   ]
  },
  {
   "cell_type": "code",
   "execution_count": 640,
   "id": "acf9b2c7-3313-461b-a2ad-930bed6d2f60",
   "metadata": {},
   "outputs": [],
   "source": [
    "def longestCommonPrefix(a):\n",
    "    prefix = a[0]\n",
    "    for i in a[1:]:\n",
    "        while not i.startswith(prefix):\n",
    "            prefix = prefix[:-1]\n",
    "    return prefix"
   ]
  },
  {
   "cell_type": "code",
   "execution_count": 641,
   "id": "72b3c7d9-2f6f-4958-ba51-855ca26f2044",
   "metadata": {},
   "outputs": [
    {
     "data": {
      "text/plain": [
       "''"
      ]
     },
     "execution_count": 641,
     "metadata": {},
     "output_type": "execute_result"
    }
   ],
   "source": [
    "s=['abhugidgi','bhuh','hjdld']\n",
    "\n",
    "longestCommonPrefix(s)"
   ]
  },
  {
   "cell_type": "code",
   "execution_count": 642,
   "id": "34a8135c-c5fc-4a3b-ac46-496fa6be48f7",
   "metadata": {},
   "outputs": [],
   "source": [
    "def pre(s):\n",
    "    s=sorted(s)\n",
    "    prefix=s[0]\n",
    "    for i in s[1:]:\n",
    "        while not i.startswith(prefix):\n",
    "            prefix=prefix[:-1]\n",
    "        return prefix\n",
    "        "
   ]
  },
  {
   "cell_type": "code",
   "execution_count": 643,
   "id": "4cc9f839-068f-4d6a-b29f-0261fbbc0bef",
   "metadata": {},
   "outputs": [],
   "source": [
    "def b(a):\n",
    "    l1=len(a.replace('()','').replace('[]','').replace('{}',''))\n",
    "    if l1==0:\n",
    "        return True\n",
    "    return False"
   ]
  },
  {
   "cell_type": "code",
   "execution_count": 644,
   "id": "e39d89e0-9b34-4485-8227-5bc9f21b1459",
   "metadata": {},
   "outputs": [
    {
     "data": {
      "text/plain": [
       "True"
      ]
     },
     "execution_count": 644,
     "metadata": {},
     "output_type": "execute_result"
    }
   ],
   "source": [
    "a='()[]{}()'\n",
    "b(a)"
   ]
  },
  {
   "cell_type": "code",
   "execution_count": 645,
   "id": "88ec089d-b259-404e-a1b9-48e1a0e73149",
   "metadata": {},
   "outputs": [],
   "source": [
    "def sort_array(a,b):\n",
    "    #a=sorted(a)\n",
    "    #b=sorted(b)#\n",
    "    c=a+b;c=sorted(c)\n",
    "    return c"
   ]
  },
  {
   "cell_type": "code",
   "execution_count": 646,
   "id": "1b1c2cb8-8ab0-44ae-b0cb-3f2b5425e584",
   "metadata": {},
   "outputs": [
    {
     "data": {
      "text/plain": [
       "[1, 1, 2, 3, 4, 4]"
      ]
     },
     "execution_count": 646,
     "metadata": {},
     "output_type": "execute_result"
    }
   ],
   "source": [
    "a=[1,2,4]\n",
    "b=[1,3,4]\n",
    "sort_array(a,b)"
   ]
  },
  {
   "cell_type": "code",
   "execution_count": 647,
   "id": "83b91ea4-eae7-4d78-8ab7-44a798791084",
   "metadata": {},
   "outputs": [],
   "source": [
    "\n",
    "def dupli(a):\n",
    "    n=[]\n",
    "    for i in a[:]:\n",
    "        if i not in n:\n",
    "            n.append(i)\n",
    "    l=len(a)\n",
    "    n1=len(n)\n",
    "    n=sorted(n)\n",
    "    for i in range(l-n1):\n",
    "        n.append('_')\n",
    "    #n=sorted(n)        \n",
    "    return n"
   ]
  },
  {
   "cell_type": "code",
   "execution_count": 648,
   "id": "43586df5-5533-4048-8241-6d77ed5f46e2",
   "metadata": {},
   "outputs": [
    {
     "data": {
      "text/plain": [
       "[0, 1, 2, 3, 4, '_', '_', '_', '_', '_']"
      ]
     },
     "execution_count": 648,
     "metadata": {},
     "output_type": "execute_result"
    }
   ],
   "source": [
    "a=[0,0,1,1,1,2,2,3,3,4]\n",
    "dupli(a)"
   ]
  },
  {
   "cell_type": "code",
   "execution_count": 649,
   "id": "9fcffc5e-3be0-41ac-bb51-d78830a9ada4",
   "metadata": {},
   "outputs": [],
   "source": [
    "def new(nums, val):\n",
    "    c=0\n",
    "    for i in nums[:]:  # Iterate over a copy of the list to avoid modifying it during iteration\n",
    "        if i == val:\n",
    "            nums.remove(i)\n",
    "            c=c+1\n",
    "    for i in range(c):\n",
    "        nums.append('_')\n",
    "    return nums\n",
    "           "
   ]
  },
  {
   "cell_type": "code",
   "execution_count": 650,
   "id": "0054d85b-0364-4455-986f-ea92059d1f8f",
   "metadata": {},
   "outputs": [
    {
     "data": {
      "text/plain": [
       "[0, 1, 3, 0, 4, '_', '_', '_']"
      ]
     },
     "execution_count": 650,
     "metadata": {},
     "output_type": "execute_result"
    }
   ],
   "source": [
    "nums=[0,1,2,2,3,0,4,2]\n",
    "val=2\n",
    "new(nums,val)"
   ]
  },
  {
   "cell_type": "code",
   "execution_count": 651,
   "id": "f3fa041c-122d-40e6-a49c-c4e6c42353b6",
   "metadata": {},
   "outputs": [],
   "source": [
    "def good(ip,b):\n",
    "    if b in ip:\n",
    "        print(0)\n",
    "    else:\n",
    "        print(-1)"
   ]
  },
  {
   "cell_type": "code",
   "execution_count": 652,
   "id": "e719bfe9-1eb0-451e-8936-6191f2828254",
   "metadata": {},
   "outputs": [
    {
     "name": "stdout",
     "output_type": "stream",
     "text": [
      "-1\n"
     ]
    }
   ],
   "source": [
    "good('abhishek','ij')\n"
   ]
  },
  {
   "cell_type": "code",
   "execution_count": 653,
   "id": "56c02ffc-c982-4fd4-b70e-b86fbd3bb9bb",
   "metadata": {},
   "outputs": [],
   "source": [
    "def sor(a,b):\n",
    "   # for i in range(len(a)):\n",
    "    if b in a:\n",
    "       return a.index(b)\n",
    "    else:\n",
    "        a.append(b)\n",
    "        #a=sorted(a)\n",
    "        return a.index(b)"
   ]
  },
  {
   "cell_type": "code",
   "execution_count": 654,
   "id": "89e170af-2865-4333-8f7e-0dbf7c84280e",
   "metadata": {},
   "outputs": [
    {
     "data": {
      "text/plain": [
       "0"
      ]
     },
     "execution_count": 654,
     "metadata": {},
     "output_type": "execute_result"
    }
   ],
   "source": [
    "a=[1,3,5,6,1,2]\n",
    "b=1\n",
    "sor(a,b)"
   ]
  },
  {
   "cell_type": "code",
   "execution_count": 655,
   "id": "e3c6130e-3988-4e8c-a539-f9fe6b6c1e82",
   "metadata": {},
   "outputs": [],
   "source": [
    "def word(ip):\n",
    "    ip=ip.split(' ')\n",
    "    l=len(ip)\n",
    "    if l%2!=0:\n",
    "        i=int(l/2)\n",
    "        print(ip[i])\n",
    "    else:\n",
    "        i2=int(l/2)\n",
    "        i1=int(l/2)-1\n",
    "        print(ip[i2],ip[i1])\n",
    "       \n",
    "    "
   ]
  },
  {
   "cell_type": "code",
   "execution_count": 656,
   "id": "44933278-f12f-4026-bc44-e74e2cd37749",
   "metadata": {},
   "outputs": [
    {
     "name": "stdout",
     "output_type": "stream",
     "text": [
      "ed abhi\n"
     ]
    }
   ],
   "source": [
    "word('hi hello abhi ed naanu abhi')"
   ]
  },
  {
   "cell_type": "code",
   "execution_count": 657,
   "id": "b4c1bf29-5fd4-4766-b893-08f125cf0d6b",
   "metadata": {},
   "outputs": [],
   "source": [
    "def new(a):\n",
    "    a=int(a)\n",
    "    a1=a+1\n",
    "    #a1=str(a1);print(a1)\n",
    "    b=[]\n",
    "    for i in str(a1):\n",
    "        #print(i)\n",
    "        b1= b.append(int(i))\n",
    "    print(b)"
   ]
  },
  {
   "cell_type": "code",
   "execution_count": 658,
   "id": "ec54d178-ad1a-448a-a62f-132ef64fb2b5",
   "metadata": {},
   "outputs": [
    {
     "name": "stdout",
     "output_type": "stream",
     "text": [
      "[1, 2, 4]\n"
     ]
    }
   ],
   "source": [
    "new(123)"
   ]
  },
  {
   "cell_type": "code",
   "execution_count": 659,
   "id": "33ff87d6-6b32-41c4-9944-082e8c8502d7",
   "metadata": {},
   "outputs": [],
   "source": [
    "import math\n",
    "def sq(a):\n",
    "    a1=int(math.sqrt(a))\n",
    "    print(a1)"
   ]
  },
  {
   "cell_type": "code",
   "execution_count": 660,
   "id": "d1b5a480-b941-4f1b-bda9-eb7d373f9f87",
   "metadata": {},
   "outputs": [
    {
     "name": "stdout",
     "output_type": "stream",
     "text": [
      "2\n"
     ]
    }
   ],
   "source": [
    "sq(8)"
   ]
  },
  {
   "cell_type": "code",
   "execution_count": 661,
   "id": "9678ade3-11eb-4aea-9ac6-2ea3ee9e2276",
   "metadata": {},
   "outputs": [],
   "source": [
    "def climb_stairs(n):\n",
    "    if n <= 2:\n",
    "        return n\n",
    "\n",
    "    # Initialize an array to store the number of ways to reach each step\n",
    "    ways_to_reach = [0] * (n + 1)\n",
    "    print(ways_to_reach)\n",
    "    # Base cases\n",
    "    ways_to_reach[1] = 1\n",
    "    ways_to_reach[2] = 2\n",
    "    print(ways_to_reach)\n",
    "    # Fill in the array using dynamic programming\n",
    "    for i in range(3, n + 1):\n",
    "        ways_to_reach[i] = ways_to_reach[i - 1] + ways_to_reach[i - 2]\n",
    "        print(ways_to_reach)\n",
    "    return ways_to_reach[n]\n",
    "\n",
    "# Example usage:\n",
    "#num_steps = 5\n",
    "#ways = climb_stairs(num_steps)"
   ]
  },
  {
   "cell_type": "code",
   "execution_count": 662,
   "id": "cd73f88e-b79b-4c59-93b8-f0d454d362cd",
   "metadata": {},
   "outputs": [
    {
     "name": "stdout",
     "output_type": "stream",
     "text": [
      "[0, 0, 0, 0, 0]\n",
      "[0, 1, 2, 0, 0]\n",
      "[0, 1, 2, 3, 0]\n",
      "[0, 1, 2, 3, 5]\n"
     ]
    },
    {
     "data": {
      "text/plain": [
       "5"
      ]
     },
     "execution_count": 662,
     "metadata": {},
     "output_type": "execute_result"
    }
   ],
   "source": [
    "climb_stairs(4)"
   ]
  },
  {
   "cell_type": "code",
   "execution_count": 663,
   "id": "f8f8bb7d-807b-408f-97e7-b39709b5b6a9",
   "metadata": {},
   "outputs": [],
   "source": [
    "def fib_num1(n):\n",
    "    if n<=2:\n",
    "        return n\n",
    "    ar=[0]*(n+1)\n",
    "    ar[1]=1;ar[2]=2\n",
    "    for i in range(3,(n+1)):\n",
    "        ar[i]=ar[i-1]+ar[i-2]\n",
    "    b=ar[n]\n",
    "    return ar[n],ar.index(b)"
   ]
  },
  {
   "cell_type": "code",
   "execution_count": 664,
   "id": "051788d0-a3c8-4268-ac31-37a5375f359b",
   "metadata": {},
   "outputs": [
    {
     "data": {
      "text/plain": [
       "(89, 10)"
      ]
     },
     "execution_count": 664,
     "metadata": {},
     "output_type": "execute_result"
    }
   ],
   "source": [
    "fib_num1(10)"
   ]
  },
  {
   "cell_type": "code",
   "execution_count": 665,
   "id": "02898c7f-5a89-4413-ab25-eacb9a96e984",
   "metadata": {},
   "outputs": [],
   "source": [
    "def so(a):\n",
    "    a=list(set(a))\n",
    "    return a"
   ]
  },
  {
   "cell_type": "code",
   "execution_count": 666,
   "id": "70727ab7-4f4b-4897-ba16-73908eed2629",
   "metadata": {},
   "outputs": [
    {
     "data": {
      "text/plain": [
       "[1, 2, 3]"
      ]
     },
     "execution_count": 666,
     "metadata": {},
     "output_type": "execute_result"
    }
   ],
   "source": [
    "a=[1,1,2,3,3]\n",
    "so(a)"
   ]
  },
  {
   "cell_type": "code",
   "execution_count": 670,
   "id": "fb74565e-b8c0-46c3-a4ca-4354501833a0",
   "metadata": {},
   "outputs": [
    {
     "data": {
      "text/plain": [
       "'def inorder_traversal(root):\\n    result = []\\n    if root:\\n        # Traverse the left subtree\\n        result.extend(inorder_traversal(root.left))\\n        \\n        # Visit the current node\\n        result.append(root.val)\\n        \\n        # Traverse the right subtree\\n        result.extend(inorder_traversal(root.right))\\n    return result###'"
      ]
     },
     "execution_count": 670,
     "metadata": {},
     "output_type": "execute_result"
    }
   ],
   "source": [
    "'''def inorder_traversal(root):\n",
    "    result = []\n",
    "    if root:\n",
    "        # Traverse the left subtree\n",
    "        result.extend(inorder_traversal(root.left))\n",
    "        \n",
    "        # Visit the current node\n",
    "        result.append(root.val)\n",
    "        \n",
    "        # Traverse the right subtree\n",
    "        result.extend(inorder_traversal(root.right))\n",
    "    return result###'''"
   ]
  },
  {
   "cell_type": "code",
   "execution_count": 671,
   "id": "550e4d54-d6f2-492e-a25f-59a7d6f53ac0",
   "metadata": {},
   "outputs": [
    {
     "ename": "AttributeError",
     "evalue": "'list' object has no attribute 'left'",
     "output_type": "error",
     "traceback": [
      "\u001b[1;31m---------------------------------------------------------------------------\u001b[0m",
      "\u001b[1;31mAttributeError\u001b[0m                            Traceback (most recent call last)",
      "Cell \u001b[1;32mIn[671], line 1\u001b[0m\n\u001b[1;32m----> 1\u001b[0m \u001b[43minorder_traversal\u001b[49m\u001b[43m(\u001b[49m\u001b[43m[\u001b[49m\u001b[38;5;241;43m1\u001b[39;49m\u001b[43m]\u001b[49m\u001b[43m)\u001b[49m\n",
      "Cell \u001b[1;32mIn[667], line 5\u001b[0m, in \u001b[0;36minorder_traversal\u001b[1;34m(root)\u001b[0m\n\u001b[0;32m      2\u001b[0m result \u001b[38;5;241m=\u001b[39m []\n\u001b[0;32m      3\u001b[0m \u001b[38;5;28;01mif\u001b[39;00m root:\n\u001b[0;32m      4\u001b[0m     \u001b[38;5;66;03m# Traverse the left subtree\u001b[39;00m\n\u001b[1;32m----> 5\u001b[0m     result\u001b[38;5;241m.\u001b[39mextend(inorder_traversal(\u001b[43mroot\u001b[49m\u001b[38;5;241;43m.\u001b[39;49m\u001b[43mleft\u001b[49m))\n\u001b[0;32m      7\u001b[0m     \u001b[38;5;66;03m# Visit the current node\u001b[39;00m\n\u001b[0;32m      8\u001b[0m     result\u001b[38;5;241m.\u001b[39mappend(root\u001b[38;5;241m.\u001b[39mval)\n",
      "\u001b[1;31mAttributeError\u001b[0m: 'list' object has no attribute 'left'"
     ]
    }
   ],
   "source": [
    "inorder_traversal([1])"
   ]
  },
  {
   "cell_type": "code",
   "execution_count": 672,
   "id": "fcb6ca93-82f1-431b-8280-cb8565a8aca5",
   "metadata": {},
   "outputs": [],
   "source": [
    "class TreeNode:\n",
    "    def tn(self,value):\n",
    "        self.val=value\n",
    "        self.left=None\n",
    "        self.right=None\n",
    "        root=TreeNode(1)\n",
    "        root.left=TreeNode(2)\n",
    "        root.right=TreeNode(3)\n",
    "        root.left.left=TreeNode(4)\n",
    "        root.right.right=TreeNode(5)"
   ]
  },
  {
   "cell_type": "code",
   "execution_count": 673,
   "id": "a513ff5c-7594-4e28-be4c-80cd48cb8723",
   "metadata": {},
   "outputs": [],
   "source": [
    "\n",
    "def inorder(a):\n",
    "    a=[]\n",
    "    if not root:\n",
    "        return sorry\n",
    "    inorder(root.left)\n",
    "    a.append(root.val)\n",
    "    inorder(root.right)\n",
    "    \n",
    "    return a"
   ]
  },
  {
   "cell_type": "code",
   "execution_count": 674,
   "id": "2d993b9f-9e02-43a3-8817-072962ddf22f",
   "metadata": {},
   "outputs": [
    {
     "name": "stdin",
     "output_type": "stream",
     "text": [
      "Enter the value for the root:  1\n",
      "Do you want to add a node on the left of 1? (yes/no):  1\n",
      "Do you want to add a node on the right of 1? (yes/no):  1\n"
     ]
    },
    {
     "name": "stdout",
     "output_type": "stream",
     "text": [
      "\n",
      "Binary Tree:\n",
      "Root: 1\n"
     ]
    }
   ],
   "source": [
    "class TreeNode:\n",
    "    def __init__(self, value):\n",
    "        self.val = value\n",
    "        self.left = None\n",
    "        self.right = None\n",
    "\n",
    "def build_binary_tree():\n",
    "    # Get the root value from the user\n",
    "    root_value = int(input(\"Enter the value for the root: \"))\n",
    "    root = TreeNode(root_value)\n",
    "\n",
    "    # Recursively build the left and right subtrees\n",
    "    root.left = build_binary_tree_helper(\"left\", root_value)\n",
    "    root.right = build_binary_tree_helper(\"right\", root_value)\n",
    "\n",
    "    return root\n",
    "\n",
    "def build_binary_tree_helper(side, parent_value):\n",
    "    # Ask the user if they want to add a node on the specified side\n",
    "    response = input(f\"Do you want to add a node on the {side} of {parent_value}? (yes/no): \").lower()\n",
    "\n",
    "    if response == \"yes\":\n",
    "        # Get the value for the new node\n",
    "        value = int(input(f\"Enter the value for the {side} node of {parent_value}: \"))\n",
    "        node = TreeNode(value)\n",
    "\n",
    "        # Recursively build the left and right subtrees\n",
    "        node.left = build_binary_tree_helper(\"left\", value)\n",
    "        node.right = build_binary_tree_helper(\"right\", value)\n",
    "\n",
    "        return node\n",
    "    else:\n",
    "        return None\n",
    "\n",
    "def print_binary_tree(root, level=0, prefix=\"Root: \"):\n",
    "    if root is not None:\n",
    "        print(\" \" * (level * 4) + prefix + str(root.val))\n",
    "        if root.left or root.right:\n",
    "            print_binary_tree(root.left, level + 1, \"L--- \")\n",
    "            print_binary_tree(root.right, level + 1, \"R--- \")\n",
    "\n",
    "# Example usage\n",
    "root_node = build_binary_tree()\n",
    "print(\"\\nBinary Tree:\")\n",
    "print_binary_tree(root_node)\n"
   ]
  },
  {
   "cell_type": "code",
   "execution_count": 675,
   "id": "7df1879e-800f-4c73-a158-1dcaeb3e8f6d",
   "metadata": {},
   "outputs": [
    {
     "ename": "ModuleNotFoundError",
     "evalue": "No module named 'networkx'",
     "output_type": "error",
     "traceback": [
      "\u001b[1;31m---------------------------------------------------------------------------\u001b[0m",
      "\u001b[1;31mModuleNotFoundError\u001b[0m                       Traceback (most recent call last)",
      "Cell \u001b[1;32mIn[675], line 1\u001b[0m\n\u001b[1;32m----> 1\u001b[0m \u001b[38;5;28;01mimport\u001b[39;00m \u001b[38;5;21;01mnetworkx\u001b[39;00m \u001b[38;5;28;01mas\u001b[39;00m \u001b[38;5;21;01mnx\u001b[39;00m\n\u001b[0;32m      2\u001b[0m \u001b[38;5;28;01mimport\u001b[39;00m \u001b[38;5;21;01mmatplotlib\u001b[39;00m\u001b[38;5;21;01m.\u001b[39;00m\u001b[38;5;21;01mpyplot\u001b[39;00m \u001b[38;5;28;01mas\u001b[39;00m \u001b[38;5;21;01mplt\u001b[39;00m\n\u001b[0;32m      4\u001b[0m \u001b[38;5;28;01mclass\u001b[39;00m \u001b[38;5;21;01mTreeNode\u001b[39;00m:\n",
      "\u001b[1;31mModuleNotFoundError\u001b[0m: No module named 'networkx'"
     ]
    }
   ],
   "source": [
    "import networkx as nx\n",
    "import matplotlib.pyplot as plt\n",
    "\n",
    "class TreeNode:\n",
    "    def __init__(self, value):\n",
    "        self.val = value\n",
    "        self.left = None\n",
    "        self.right = None\n",
    "\n",
    "def build_binary_tree():\n",
    "    root_value = int(input(\"Enter the value for the root: \"))\n",
    "    root = TreeNode(root_value)\n",
    "    root.left = build_binary_tree_helper(\"left\", root_value)\n",
    "    root.right = build_binary_tree_helper(\"right\", root_value)\n",
    "    return root\n",
    "\n",
    "def build_binary_tree_helper(side, parent_value):\n",
    "    response = input(f\"Do you want to add a node on the {side} of {parent_value}? (yes/no): \").lower()\n",
    "\n",
    "    if response == \"yes\":\n",
    "        value = int(input(f\"Enter the value for the {side} node of {parent_value}: \"))\n",
    "        node = TreeNode(value)\n",
    "        node.left = build_binary_tree_helper(\"left\", value)\n",
    "        node.right = build_binary_tree_helper(\"right\", value)\n",
    "        return node\n",
    "    else:\n",
    "        return None\n",
    "\n",
    "def visualize_binary_tree(root, pos=None, ax=None):\n",
    "    if pos is None:\n",
    "        pos = graphviz_layout(root)\n",
    "\n",
    "    if ax is None:\n",
    "        fig, ax = plt.subplots(figsize=(8, 6))\n",
    "\n",
    "    tree_graph = nx.DiGraph()\n",
    "\n",
    "    def add_edges(node, parent_pos):\n",
    "        if node is not None:\n",
    "            tree_graph.add_node(node.val, pos=(pos[node.val][0], -pos[node.val][1]))\n",
    "            if parent_pos is not None:\n",
    "                tree_graph.add_edge(parent_pos, node.val)\n",
    "            add_edges(node.left, node.val)\n",
    "            add_edges(node.right, node.val)\n",
    "\n",
    "    add_edges(root, None)\n",
    "\n",
    "    nx.draw(tree_graph, tree_graph.nodes(data=True), ax=ax, with_labels=True, font_weight='bold')\n",
    "\n",
    "    plt.show()\n",
    "\n",
    "# Example usage\n",
    "root_node = build_binary_tree()\n",
    "print(\"\\nBinary Tree Visualization:\")\n",
    "visualize_binary_tree(root_node)\n"
   ]
  },
  {
   "cell_type": "code",
   "execution_count": 676,
   "id": "0295f297-9697-41b5-a71b-f7a58c73b3fd",
   "metadata": {},
   "outputs": [],
   "source": [
    "def cs(a):\n",
    "    e=[]\n",
    "    for i in range(len(a)):\n",
    "        for j in range(1,len(a)):\n",
    "            \n",
    "            w=int(a[i]-a[j+1])\n",
    "            e.append(w)\n",
    "    f=e.index(max(e))\n",
    "    print(f)\n",
    "            \n",
    "            "
   ]
  },
  {
   "cell_type": "code",
   "execution_count": 677,
   "id": "b5dcb21d-9c16-4139-a072-51c5b210c573",
   "metadata": {},
   "outputs": [
    {
     "ename": "IndexError",
     "evalue": "list index out of range",
     "output_type": "error",
     "traceback": [
      "\u001b[1;31m---------------------------------------------------------------------------\u001b[0m",
      "\u001b[1;31mIndexError\u001b[0m                                Traceback (most recent call last)",
      "Cell \u001b[1;32mIn[677], line 1\u001b[0m\n\u001b[1;32m----> 1\u001b[0m \u001b[43mcs\u001b[49m\u001b[43m(\u001b[49m\u001b[43m[\u001b[49m\u001b[38;5;241;43m7\u001b[39;49m\u001b[43m,\u001b[49m\u001b[38;5;241;43m1\u001b[39;49m\u001b[43m,\u001b[49m\u001b[38;5;241;43m5\u001b[39;49m\u001b[43m,\u001b[49m\u001b[38;5;241;43m3\u001b[39;49m\u001b[43m,\u001b[49m\u001b[38;5;241;43m6\u001b[39;49m\u001b[43m,\u001b[49m\u001b[38;5;241;43m4\u001b[39;49m\u001b[43m]\u001b[49m\u001b[43m)\u001b[49m\n",
      "Cell \u001b[1;32mIn[676], line 6\u001b[0m, in \u001b[0;36mcs\u001b[1;34m(a)\u001b[0m\n\u001b[0;32m      3\u001b[0m \u001b[38;5;28;01mfor\u001b[39;00m i \u001b[38;5;129;01min\u001b[39;00m \u001b[38;5;28mrange\u001b[39m(\u001b[38;5;28mlen\u001b[39m(a)):\n\u001b[0;32m      4\u001b[0m     \u001b[38;5;28;01mfor\u001b[39;00m j \u001b[38;5;129;01min\u001b[39;00m \u001b[38;5;28mrange\u001b[39m(\u001b[38;5;241m1\u001b[39m,\u001b[38;5;28mlen\u001b[39m(a)):\n\u001b[1;32m----> 6\u001b[0m         w\u001b[38;5;241m=\u001b[39m\u001b[38;5;28mint\u001b[39m(a[i]\u001b[38;5;241m-\u001b[39m\u001b[43ma\u001b[49m\u001b[43m[\u001b[49m\u001b[43mj\u001b[49m\u001b[38;5;241;43m+\u001b[39;49m\u001b[38;5;241;43m1\u001b[39;49m\u001b[43m]\u001b[49m)\n\u001b[0;32m      7\u001b[0m         e\u001b[38;5;241m.\u001b[39mappend(w)\n\u001b[0;32m      8\u001b[0m f\u001b[38;5;241m=\u001b[39me\u001b[38;5;241m.\u001b[39mindex(\u001b[38;5;28mmax\u001b[39m(e))\n",
      "\u001b[1;31mIndexError\u001b[0m: list index out of range"
     ]
    }
   ],
   "source": [
    "cs([7,1,5,3,6,4])\n",
    "    "
   ]
  },
  {
   "cell_type": "code",
   "execution_count": null,
   "id": "6b61d447-abb4-482d-954b-dc9e885dd4d8",
   "metadata": {},
   "outputs": [],
   "source": [
    "def cs(a):\n",
    "    e = []\n",
    "    for i in range(len(a)):\n",
    "        for j in range(len(a)-i):\n",
    "            w = int(a[i] - a[(i+j)])\n",
    "            e.append(w)\n",
    "        i+=1\n",
    "    f = (e.index(max(e)))\n",
    "    #f1=e.split('0')\n",
    "    print(e)\n",
    "    print(f)\n",
    "    print(len(e))"
   ]
  },
  {
   "cell_type": "code",
   "execution_count": null,
   "id": "195187eb-6f1f-4194-975f-4fce9fcaa233",
   "metadata": {},
   "outputs": [],
   "source": [
    "cs([7,1,5,3,6,4])"
   ]
  },
  {
   "cell_type": "code",
   "execution_count": null,
   "id": "9e53cbbf-0e27-428f-838f-ba40d8161848",
   "metadata": {},
   "outputs": [],
   "source": [
    "def cs1(a):\n",
    "    e = []\n",
    "    for i in range(len(a)):\n",
    "        for j in range(i,len(a)):\n",
    "            if a[i]<a[j]:\n",
    "                w=a[i]-a[j]\n",
    "                #e.append(w)\n",
    "            else:\n",
    "                continue\n",
    "            e.append(w)\n",
    "    print(e)         \n",
    "           "
   ]
  },
  {
   "cell_type": "code",
   "execution_count": null,
   "id": "bde2bc2a-096d-4dcf-9e26-6e79d50d81bb",
   "metadata": {},
   "outputs": [],
   "source": [
    "cs1([7,1,5,3,6,4])"
   ]
  },
  {
   "cell_type": "code",
   "execution_count": null,
   "id": "680d0522-f72b-4d35-9e70-05f7cd34cb99",
   "metadata": {},
   "outputs": [],
   "source": [
    "#e=[]\n",
    "def cs2(a):\n",
    "    e = []\n",
    "    #for i in range(len(a)):\n",
    "    q=a.index(min(a))\n",
    "    #print(q)\n",
    "    for i in range(q,len(a)):\n",
    "        w=a[i]-a[q]\n",
    "        #print(w)\n",
    "        e.append(w)\n",
    "    q1=e.index(max(e))\n",
    "    o=a[q+q1]\n",
    "    #print(o)\n",
    "    #print(e)\n",
    "    print(q1)\n",
    "    print(w)\n",
    "    op=max(e)\n",
    "    print(op)"
   ]
  },
  {
   "cell_type": "code",
   "execution_count": null,
   "id": "f82da98b-a79b-48a9-b0c0-28879947d485",
   "metadata": {},
   "outputs": [],
   "source": [
    "cs2([7,1,1,3,1])"
   ]
  },
  {
   "cell_type": "code",
   "execution_count": null,
   "id": "e63df62a-500c-475b-b5d3-116eca4ca655",
   "metadata": {},
   "outputs": [],
   "source": [
    "input_string = \"H3e@llo5, W!or2ld\"\n",
    "\n",
    "filtered_string = ''.join(filter(str.isalpha, input_string))\n",
    "\n",
    "print(\"Original String:\", input_string)\n",
    "print(\"Filtered String:\", filtered_string)\n"
   ]
  },
  {
   "cell_type": "code",
   "execution_count": null,
   "id": "b646968e-b423-42d8-9a39-e15a74a82fe6",
   "metadata": {},
   "outputs": [],
   "source": [
    "ips =\"abh0 i3sh5 ek-eh1 s44i= =hba\"\n",
    "fs = ''.join(filter(str.isalpha, ips))\n",
    "fs=fs.lower()\n",
    "if fs==fs[::-1]:\n",
    "    print('pal')\n",
    "else:\n",
    "    print('not pal')\n",
    "#print(fs[:\n",
    "print(\"Original String:\", ips)\n",
    "print(\"Filtered String:\", fs)\n"
   ]
  },
  {
   "cell_type": "code",
   "execution_count": null,
   "id": "34442c0d-e7c5-4e50-8640-d930a6471902",
   "metadata": {},
   "outputs": [],
   "source": [
    "a='abhishek'\n",
    "b=a[::-4]\n",
    "print(b)"
   ]
  },
  {
   "cell_type": "code",
   "execution_count": null,
   "id": "71ec5d81-704a-4472-b237-467c60aa4e0a",
   "metadata": {},
   "outputs": [],
   "source": [
    "a=[1,2,3,4,5,6,7,8,9]\n",
    "def is_odd(a):\n",
    "    return a%2!=0\n",
    "b=list(filter(is_odd,a))\n",
    "print(b)\n"
   ]
  },
  {
   "cell_type": "code",
   "execution_count": null,
   "id": "e1be99ea-acd3-4285-b4f8-5f16e0dfd0b1",
   "metadata": {},
   "outputs": [],
   "source": [
    "def ent(a):\n",
    "    b=''.join(filter(str.isalpha , a)).lower()\n",
    "    if b==b[::-1]:\n",
    "        print('pal')\n",
    "    else:\n",
    "        print('not')\n",
    "print(b)   "
   ]
  },
  {
   "cell_type": "code",
   "execution_count": null,
   "id": "9582f485-7d8e-492d-ae2b-27e4504851fb",
   "metadata": {},
   "outputs": [],
   "source": [
    "ent('A21ssgssa')"
   ]
  },
  {
   "cell_type": "code",
   "execution_count": 678,
   "id": "8b6a4d4d-462c-47f8-9181-52ef568814a9",
   "metadata": {},
   "outputs": [],
   "source": [
    "def ip(a):#\n",
    "    for i in a:\n",
    "        a1=a.count(i)\n",
    "        if a1==1:\n",
    "            return i\n",
    "    \n",
    "            "
   ]
  },
  {
   "cell_type": "code",
   "execution_count": 713,
   "id": "38ed13e4-f07b-4cde-b768-bc9dfb7d8ce1",
   "metadata": {},
   "outputs": [
    {
     "data": {
      "text/plain": [
       "4"
      ]
     },
     "execution_count": 713,
     "metadata": {},
     "output_type": "execute_result"
    }
   ],
   "source": [
    "ip([4,1,2,1,2])"
   ]
  },
  {
   "cell_type": "code",
   "execution_count": 719,
   "id": "1e5ba8e3-338d-41ba-8389-affb3af4a0e6",
   "metadata": {},
   "outputs": [],
   "source": [
    "def pop(a,b):\n",
    "    if 0 in a:\n",
    "        a1=a[(a.index(0))-1]\n",
    "        print(a1);print('true')\n",
    "    else:\n",
    "        return false\n",
    "        \n",
    "        "
   ]
  },
  {
   "cell_type": "code",
   "execution_count": 720,
   "id": "cca1973d-3f1a-44b3-a354-03ed1565fa36",
   "metadata": {},
   "outputs": [
    {
     "name": "stdout",
     "output_type": "stream",
     "text": [
      "1\n",
      "true\n"
     ]
    }
   ],
   "source": [
    "pop([1,0,2,3,42],2)"
   ]
  },
  {
   "cell_type": "code",
   "execution_count": 1,
   "id": "da2d353e-f247-4ed5-b96a-eaa2b015860c",
   "metadata": {},
   "outputs": [
    {
     "name": "stdout",
     "output_type": "stream",
     "text": [
      "2\n"
     ]
    }
   ],
   "source": [
    "a=[1,2,0,3,41,5]\n",
    "print(a[1])"
   ]
  },
  {
   "cell_type": "code",
   "execution_count": 7,
   "id": "2a969d19-ceae-467b-8801-36ca4665745d",
   "metadata": {},
   "outputs": [],
   "source": [
    "#print(a)\n",
    "'''class ListNode:\n",
    "    def __init__(self, value):\n",
    "        self.val = value\n",
    "        self.next = None'''\n",
    "def n(a):\n",
    "    l=len(a)\n",
    "    while a:\n",
    "        a1=a.next\n",
    "        print(a1)\n",
    "        l-=1\n",
    "    "
   ]
  },
  {
   "cell_type": "code",
   "execution_count": 10,
   "id": "50bf6589-59af-4da6-a342-dbc7c26e3a9f",
   "metadata": {},
   "outputs": [],
   "source": [
    "def gt(heada, headb):\n",
    "    if heada==None or headb==None:\n",
    "        return None\n",
    "    a=heada;b=headb\n",
    "    while a!=b:\n",
    "            a = headB if a==None else a.next\n",
    "            b = headA if b==None else b.next\n",
    "    return a"
   ]
  },
  {
   "cell_type": "code",
   "execution_count": 40,
   "id": "620d40b2-ac63-4e06-938d-7935a685fefc",
   "metadata": {},
   "outputs": [],
   "source": [
    "class Node:\n",
    "    def __init__(self, value):\n",
    "        self.val = value\n",
    "        self.next = None\n",
    "def get_intersection_node(headA,headB):\n",
    "    l1,l2=headA,headB\n",
    "    while l1:\n",
    "        l1=l1.next if l1 else headB\n",
    "        l2=l2.next if l2 else headA\n",
    "\n",
    "\n",
    "\n",
    "# Linked list 1: 4 -> 1 -> 8 -> 4 -> 5\n",
    "headA = Node(4)\n",
    "headA.next = Node(1)\n",
    "headA.next.next = Node(8)\n",
    "headA.next.next.next = Node(4)\n",
    "headA.next.next.next.next = Node(5)\n",
    "\n",
    "# Linked list 2: 5 -> 0 -> 1 -> 8 -> 4 -> 5 (intersection at 8)\n",
    "headB = Node(5)\n",
    "headB.next = Node(0)\n",
    "headB.next.next = Node(1)\n",
    "headB.next.next.next = headA.next.next  # point to the common node\n",
    "\n",
    "#result = list[get_intersection_node(headA, headB)]\n",
    "get_intersection_node(headA,headB)  # Output: 8 (the value of the common node)\n"
   ]
  },
  {
   "cell_type": "code",
   "execution_count": 17,
   "id": "aa9b1b65-2583-4ce7-a863-bc81ae9081d4",
   "metadata": {},
   "outputs": [
    {
     "name": "stdout",
     "output_type": "stream",
     "text": [
      "<__main__.node object at 0x000002EC54711E90>\n"
     ]
    }
   ],
   "source": [
    "class node:\n",
    "    def __init__(self, value):\n",
    "        self.val = value\n",
    "        self.next = None\n",
    "heada=node(1)\n",
    "heada.next=node(2)\n",
    "heada.next.next=node(3)\n",
    "print(str(heada))\n",
    "\n"
   ]
  },
  {
   "cell_type": "code",
   "execution_count": 47,
   "id": "d82cc9d8-ae51-4fbe-80cd-6ba52e625572",
   "metadata": {},
   "outputs": [
    {
     "name": "stdin",
     "output_type": "stream",
     "text": [
      "e: 1\n",
      "e: 2\n",
      "e: 3\n",
      "e: 4\n"
     ]
    },
    {
     "name": "stdout",
     "output_type": "stream",
     "text": [
      "1 -> 2 -> 3 -> 4 -> None\n",
      "<class '__main__.Node'>\n"
     ]
    }
   ],
   "source": [
    "\n",
    "'''class node:\n",
    "    def __init__(self,a):\n",
    "        self.val=a\n",
    "        self.next=None'''\n",
    "\n",
    "def print_linked_list(head):\n",
    "    current = head\n",
    "    while current:\n",
    "        print(current.val, end=\" -> \")\n",
    "        current = current.next\n",
    "    print(\"None\")\n",
    "\n",
    "for i in range(int(input('enter range:')):\n",
    "    heada=node(int(input('e:')))\n",
    "    heada.next=\n",
    "\n",
    "nodea.next=node(1)\n",
    "\n",
    "'''heada=node(int(input('e:')))\n",
    "heada.next=node(int(input('e:')))\n",
    "heada.next.next=node(int(input('e:')))\n",
    "heada.next.next.next=node(int(input('e:')))\n",
    "\n",
    "print_linked_list(head)\n",
    "print(type(head))"
   ]
  },
  {
   "cell_type": "code",
   "execution_count": 41,
   "id": "ce52cb0d-8883-4110-afeb-b89bb3bb2d52",
   "metadata": {},
   "outputs": [
    {
     "name": "stdout",
     "output_type": "stream",
     "text": [
      "<__main__.com object at 0x000002EC540BCAD0>\n"
     ]
    }
   ],
   "source": [
    "a1=com(1,2)\n",
    "print(a1)"
   ]
  },
  {
   "cell_type": "code",
   "execution_count": 51,
   "id": "cc930e9d-b620-4e96-894f-d79f39b61463",
   "metadata": {},
   "outputs": [
    {
     "ename": "TypeError",
     "evalue": "'Node' object cannot be interpreted as an integer",
     "output_type": "error",
     "traceback": [
      "\u001b[1;31m---------------------------------------------------------------------------\u001b[0m",
      "\u001b[1;31mTypeError\u001b[0m                                 Traceback (most recent call last)",
      "Cell \u001b[1;32mIn[51], line 31\u001b[0m\n\u001b[0;32m     28\u001b[0m headb\u001b[38;5;241m.\u001b[39mnext\u001b[38;5;241m.\u001b[39mnext \u001b[38;5;241m=\u001b[39m Node(\u001b[38;5;241m1\u001b[39m)\n\u001b[0;32m     29\u001b[0m headb\u001b[38;5;241m.\u001b[39mnext\u001b[38;5;241m.\u001b[39mnext\u001b[38;5;241m.\u001b[39mnext \u001b[38;5;241m=\u001b[39m heada\u001b[38;5;241m.\u001b[39mnext\u001b[38;5;241m.\u001b[39mnext \n\u001b[1;32m---> 31\u001b[0m \u001b[38;5;28mprint\u001b[39m(\u001b[38;5;28;43mhex\u001b[39;49m\u001b[43m(\u001b[49m\u001b[43mgetinter\u001b[49m\u001b[43m(\u001b[49m\u001b[43mheada\u001b[49m\u001b[43m,\u001b[49m\u001b[43mheadb\u001b[49m\u001b[43m)\u001b[49m\u001b[43m)\u001b[49m)\n",
      "\u001b[1;31mTypeError\u001b[0m: 'Node' object cannot be interpreted as an integer"
     ]
    }
   ],
   "source": [
    "class Node:\n",
    "    def __init__(self, value):\n",
    "        self.val = value\n",
    "        self.next = None\n",
    "\n",
    "def getinter(heada,headb):\n",
    "    l1,l2=heada,headb\n",
    "    while l1!=l2:\n",
    "        l1=l1.next if l1 else headb\n",
    "        l2=l2.next if l2 else heada\n",
    "    return l1\n",
    "    '''current = head\n",
    "    while current:\n",
    "        print(current.val, end=\" -> \")\n",
    "        current = current.next\n",
    "    print(\"None\")'''\n",
    "\n",
    "# Example usage:\n",
    "# Linked list: 1 -> 2 -> 3 -> 4 -> None\n",
    "heada = Node(4)\n",
    "heada.next = Node(1)\n",
    "heada.next.next = Node(8)\n",
    "heada.next.next.next = Node(4)\n",
    "heada.next.next.next.next = Node(5)\n",
    "\n",
    "headb = Node(5)\n",
    "headb.next = Node(0)\n",
    "headb.next.next = Node(1)\n",
    "headb.next.next.next = heada.next.next \n",
    "\n",
    "print(hex(getinter(heada,headb)))\n"
   ]
  },
  {
   "cell_type": "code",
   "execution_count": 61,
   "id": "2c708703-c54e-42ab-946b-3eefba7256d5",
   "metadata": {},
   "outputs": [
    {
     "name": "stdout",
     "output_type": "stream",
     "text": [
      "abhisgeh\n"
     ]
    }
   ],
   "source": [
    "a='abhisgeh'\n",
    "a1=a.strip()\n",
    "print(a1)"
   ]
  },
  {
   "cell_type": "code",
   "execution_count": 6,
   "id": "8c61dbef-7f39-439d-97f5-ba7ed18d74aa",
   "metadata": {},
   "outputs": [
    {
     "name": "stdout",
     "output_type": "stream",
     "text": [
      "4\n"
     ]
    }
   ],
   "source": [
    "t=(1,(2,(3,4)),1,2,4)\n",
    "print(t[1][1][1])"
   ]
  },
  {
   "cell_type": "code",
   "execution_count": 10,
   "id": "c7ff3f25-6674-4ae5-a1f4-70839c350724",
   "metadata": {},
   "outputs": [
    {
     "name": "stdout",
     "output_type": "stream",
     "text": [
      "[1, 2, 3, 1, 1, 1]\n"
     ]
    }
   ],
   "source": [
    "l=[1,2,3]+[1,1,1]\n",
    "#l.append([4,5])\n",
    "print(l)"
   ]
  },
  {
   "cell_type": "code",
   "execution_count": 13,
   "id": "3597c017-37f7-41ca-a315-2613a5675b15",
   "metadata": {},
   "outputs": [
    {
     "name": "stdout",
     "output_type": "stream",
     "text": [
      "b\n",
      "Help on list object:\n",
      "\n",
      "class list(object)\n",
      " |  list(iterable=(), /)\n",
      " |  \n",
      " |  Built-in mutable sequence.\n",
      " |  \n",
      " |  If no argument is given, the constructor creates a new empty list.\n",
      " |  The argument must be an iterable if specified.\n",
      " |  \n",
      " |  Methods defined here:\n",
      " |  \n",
      " |  __add__(self, value, /)\n",
      " |      Return self+value.\n",
      " |  \n",
      " |  __contains__(self, key, /)\n",
      " |      Return key in self.\n",
      " |  \n",
      " |  __delitem__(self, key, /)\n",
      " |      Delete self[key].\n",
      " |  \n",
      " |  __eq__(self, value, /)\n",
      " |      Return self==value.\n",
      " |  \n",
      " |  __ge__(self, value, /)\n",
      " |      Return self>=value.\n",
      " |  \n",
      " |  __getattribute__(self, name, /)\n",
      " |      Return getattr(self, name).\n",
      " |  \n",
      " |  __getitem__(...)\n",
      " |      x.__getitem__(y) <==> x[y]\n",
      " |  \n",
      " |  __gt__(self, value, /)\n",
      " |      Return self>value.\n",
      " |  \n",
      " |  __iadd__(self, value, /)\n",
      " |      Implement self+=value.\n",
      " |  \n",
      " |  __imul__(self, value, /)\n",
      " |      Implement self*=value.\n",
      " |  \n",
      " |  __init__(self, /, *args, **kwargs)\n",
      " |      Initialize self.  See help(type(self)) for accurate signature.\n",
      " |  \n",
      " |  __iter__(self, /)\n",
      " |      Implement iter(self).\n",
      " |  \n",
      " |  __le__(self, value, /)\n",
      " |      Return self<=value.\n",
      " |  \n",
      " |  __len__(self, /)\n",
      " |      Return len(self).\n",
      " |  \n",
      " |  __lt__(self, value, /)\n",
      " |      Return self<value.\n",
      " |  \n",
      " |  __mul__(self, value, /)\n",
      " |      Return self*value.\n",
      " |  \n",
      " |  __ne__(self, value, /)\n",
      " |      Return self!=value.\n",
      " |  \n",
      " |  __repr__(self, /)\n",
      " |      Return repr(self).\n",
      " |  \n",
      " |  __reversed__(self, /)\n",
      " |      Return a reverse iterator over the list.\n",
      " |  \n",
      " |  __rmul__(self, value, /)\n",
      " |      Return value*self.\n",
      " |  \n",
      " |  __setitem__(self, key, value, /)\n",
      " |      Set self[key] to value.\n",
      " |  \n",
      " |  __sizeof__(self, /)\n",
      " |      Return the size of the list in memory, in bytes.\n",
      " |  \n",
      " |  append(self, object, /)\n",
      " |      Append object to the end of the list.\n",
      " |  \n",
      " |  clear(self, /)\n",
      " |      Remove all items from list.\n",
      " |  \n",
      " |  copy(self, /)\n",
      " |      Return a shallow copy of the list.\n",
      " |  \n",
      " |  count(self, value, /)\n",
      " |      Return number of occurrences of value.\n",
      " |  \n",
      " |  extend(self, iterable, /)\n",
      " |      Extend list by appending elements from the iterable.\n",
      " |  \n",
      " |  index(self, value, start=0, stop=9223372036854775807, /)\n",
      " |      Return first index of value.\n",
      " |      \n",
      " |      Raises ValueError if the value is not present.\n",
      " |  \n",
      " |  insert(self, index, object, /)\n",
      " |      Insert object before index.\n",
      " |  \n",
      " |  pop(self, index=-1, /)\n",
      " |      Remove and return item at index (default last).\n",
      " |      \n",
      " |      Raises IndexError if list is empty or index is out of range.\n",
      " |  \n",
      " |  remove(self, value, /)\n",
      " |      Remove first occurrence of value.\n",
      " |      \n",
      " |      Raises ValueError if the value is not present.\n",
      " |  \n",
      " |  reverse(self, /)\n",
      " |      Reverse *IN PLACE*.\n",
      " |  \n",
      " |  sort(self, /, *, key=None, reverse=False)\n",
      " |      Sort the list in ascending order and return None.\n",
      " |      \n",
      " |      The sort is in-place (i.e. the list itself is modified) and stable (i.e. the\n",
      " |      order of two equal elements is maintained).\n",
      " |      \n",
      " |      If a key function is given, apply it once to each list item and sort them,\n",
      " |      ascending or descending, according to their function values.\n",
      " |      \n",
      " |      The reverse flag can be set to sort in descending order.\n",
      " |  \n",
      " |  ----------------------------------------------------------------------\n",
      " |  Class methods defined here:\n",
      " |  \n",
      " |  __class_getitem__(...) from builtins.type\n",
      " |      See PEP 585\n",
      " |  \n",
      " |  ----------------------------------------------------------------------\n",
      " |  Static methods defined here:\n",
      " |  \n",
      " |  __new__(*args, **kwargs) from builtins.type\n",
      " |      Create and return a new object.  See help(type) for accurate signature.\n",
      " |  \n",
      " |  ----------------------------------------------------------------------\n",
      " |  Data and other attributes defined here:\n",
      " |  \n",
      " |  __hash__ = None\n",
      "\n"
     ]
    }
   ],
   "source": [
    "B=[1,2,[3,'a'],[4,'b']]\n",
    "print(B[3][1])\n",
    "help(B)"
   ]
  },
  {
   "cell_type": "code",
   "execution_count": 44,
   "id": "d17dabbe-78d9-4de5-b57b-0d32a9e65c20",
   "metadata": {},
   "outputs": [
    {
     "name": "stdout",
     "output_type": "stream",
     "text": [
      "['Watch', 'Laptop', 'Shoes', 'Pen', 'Clothes', 'Football']\n"
     ]
    }
   ],
   "source": [
    "Shopping_list=[\"Watch\",\"Laptop\",\"Shoes\",\"Pen\",\"Clothes\"]\n",
    "Shopping_list.append('Football')\n",
    "#Shopping_list.remove(['Fo'])\n",
    "s=Shopping_list[:]\n",
    "print(s)"
   ]
  },
  {
   "cell_type": "code",
   "execution_count": 34,
   "id": "bf53ba1d-6055-4441-a71c-5f9fa5da1a02",
   "metadata": {},
   "outputs": [
    {
     "name": "stdout",
     "output_type": "stream",
     "text": [
      "['Watch', 'Laptop', 'Shoes', 'Pen', 'Clothes', 'Football']\n"
     ]
    }
   ],
   "source": [
    "print(Shopping_list)"
   ]
  },
  {
   "cell_type": "code",
   "execution_count": 46,
   "id": "4ae3c9ab-ded5-49ec-bf31-f4306b43dcd1",
   "metadata": {},
   "outputs": [
    {
     "name": "stdout",
     "output_type": "stream",
     "text": [
      "['Watch', 'Laptop', 'Shoes', 'Pen', 'Clothes', 'Football']\n"
     ]
    }
   ],
   "source": [
    "print(s)"
   ]
  },
  {
   "cell_type": "code",
   "execution_count": 51,
   "id": "bd9fb9b5-a66f-4b30-a1e8-25dfb728127f",
   "metadata": {},
   "outputs": [
    {
     "data": {
      "text/plain": [
       "['Watch', 'Laptop', 'Shoes', 'Notebook', 'Clothes', 'Football']"
      ]
     },
     "execution_count": 51,
     "metadata": {},
     "output_type": "execute_result"
    }
   ],
   "source": [
    "s[3]='Notebook'\n",
    "s"
   ]
  },
  {
   "cell_type": "code",
   "execution_count": 73,
   "id": "879233a9-7889-4cf2-8208-fbe1bf386c1d",
   "metadata": {},
   "outputs": [],
   "source": [
    "'''Product1_name='Mobile_phone'\n",
    "Product1_quality=5\n",
    "Product1_price=20000\n",
    "Product1_release_year=2020'''\n",
    "dic={}"
   ]
  },
  {
   "cell_type": "code",
   "execution_count": 76,
   "id": "c88595fa-1077-4b87-9497-07ece220c0ce",
   "metadata": {},
   "outputs": [],
   "source": [
    "dic['Product1_name']='Mobile_phone'\n",
    "dic['Product1_quality']=5\n",
    "dic['Product1_price']=20000\n",
    "dic['Product1_release_year']=2020"
   ]
  },
  {
   "cell_type": "code",
   "execution_count": 71,
   "id": "ab928f56-1ab2-4d64-88ab-b2799ec064c6",
   "metadata": {},
   "outputs": [
    {
     "data": {
      "text/plain": [
       "{'Product1_name': 'Mobile_phone',\n",
       " 'Product1_quality': 5,\n",
       " 'Product1_price': 20000,\n",
       " 'Product1_release_year': 2020}"
      ]
     },
     "execution_count": 71,
     "metadata": {},
     "output_type": "execute_result"
    }
   ],
   "source": [
    "dic"
   ]
  },
  {
   "cell_type": "code",
   "execution_count": 77,
   "id": "9fef97ad-6fc4-4937-a0af-41b082db7a56",
   "metadata": {},
   "outputs": [],
   "source": [
    "dic['Product2_name']='Laptop'\n",
    "dic['Product2_quality']=10\n",
    "dic['Product2_price']=50000\n",
    "dic['Product2_release_year']=2023"
   ]
  },
  {
   "cell_type": "code",
   "execution_count": 79,
   "id": "19190953-6185-4cb8-ab07-b2032e073de8",
   "metadata": {},
   "outputs": [
    {
     "data": {
      "text/plain": [
       "{'Product1_name': 'Mobile_phone',\n",
       " 'Product1_quality': 5,\n",
       " 'Product1_price': 20000,\n",
       " 'Product1_release_year': 2020,\n",
       " 'Product2_name': 'Laptop',\n",
       " 'Product2_quality': 10,\n",
       " 'Product2_price': 50000,\n",
       " 'Product2_release_year': 2023}"
      ]
     },
     "execution_count": 79,
     "metadata": {},
     "output_type": "execute_result"
    }
   ],
   "source": [
    "dic"
   ]
  },
  {
   "cell_type": "code",
   "execution_count": 84,
   "id": "fcf69cb3-963e-4a2e-8d7e-740e011c9ecc",
   "metadata": {},
   "outputs": [
    {
     "data": {
      "text/plain": [
       "True"
      ]
     },
     "execution_count": 84,
     "metadata": {},
     "output_type": "execute_result"
    }
   ],
   "source": [
    "'Product1_release_year' and 'Product2_release_year' in dic"
   ]
  },
  {
   "cell_type": "code",
   "execution_count": 90,
   "id": "ccebebb1-5c12-4db1-80c4-eac9987b84a1",
   "metadata": {},
   "outputs": [
    {
     "ename": "KeyError",
     "evalue": "'Product1_release_year'",
     "output_type": "error",
     "traceback": [
      "\u001b[1;31m---------------------------------------------------------------------------\u001b[0m",
      "\u001b[1;31mKeyError\u001b[0m                                  Traceback (most recent call last)",
      "Cell \u001b[1;32mIn[90], line 1\u001b[0m\n\u001b[1;32m----> 1\u001b[0m \u001b[38;5;28;01mdel\u001b[39;00m(\u001b[43mdic\u001b[49m\u001b[43m[\u001b[49m\u001b[38;5;124;43m'\u001b[39;49m\u001b[38;5;124;43mProduct1_release_year\u001b[39;49m\u001b[38;5;124;43m'\u001b[39;49m\u001b[43m]\u001b[49m)\n\u001b[0;32m      2\u001b[0m \u001b[38;5;28;01mdel\u001b[39;00m(dic[\u001b[38;5;124m'\u001b[39m\u001b[38;5;124mProduct2_release_year\u001b[39m\u001b[38;5;124m'\u001b[39m])\n\u001b[0;32m      3\u001b[0m dic\n",
      "\u001b[1;31mKeyError\u001b[0m: 'Product1_release_year'"
     ]
    }
   ],
   "source": [
    "del(dic['Product1_release_year'])\n",
    "del(dic['Product2_release_year'])\n"
   ]
  },
  {
   "cell_type": "code",
   "execution_count": 91,
   "id": "a2010e67-43fd-459c-ad62-4e42d49f4003",
   "metadata": {},
   "outputs": [
    {
     "data": {
      "text/plain": [
       "{'Product1_name': 'Mobile_phone',\n",
       " 'Product1_quality': 5,\n",
       " 'Product1_price': 20000,\n",
       " 'Product2_name': 'Laptop',\n",
       " 'Product2_quality': 10,\n",
       " 'Product2_price': 50000}"
      ]
     },
     "execution_count": 91,
     "metadata": {},
     "output_type": "execute_result"
    }
   ],
   "source": [
    "dic\n"
   ]
  },
  {
   "cell_type": "code",
   "execution_count": 92,
   "id": "dfd3fc07-d7f7-4bf7-b43f-857a52dc8db0",
   "metadata": {},
   "outputs": [
    {
     "data": {
      "text/plain": [
       "set"
      ]
     },
     "execution_count": 92,
     "metadata": {},
     "output_type": "execute_result"
    }
   ],
   "source": [
    " type(set([1,2,3]))"
   ]
  },
  {
   "cell_type": "code",
   "execution_count": 93,
   "id": "aaafc44d-993e-4b1b-8fd0-7df712b72abc",
   "metadata": {},
   "outputs": [],
   "source": [
    "dic['Product2_name']='Laptop'"
   ]
  },
  {
   "cell_type": "code",
   "execution_count": 94,
   "id": "1647f7db-5e68-4e93-bb3b-de61bd2ac2e1",
   "metadata": {},
   "outputs": [
    {
     "data": {
      "text/plain": [
       "{'Product1_name': 'Mobile_phone',\n",
       " 'Product1_quality': 5,\n",
       " 'Product1_price': 20000,\n",
       " 'Product2_name': 'Laptop',\n",
       " 'Product2_quality': 10,\n",
       " 'Product2_price': 50000}"
      ]
     },
     "execution_count": 94,
     "metadata": {},
     "output_type": "execute_result"
    }
   ],
   "source": [
    "dic"
   ]
  },
  {
   "cell_type": "code",
   "execution_count": 95,
   "id": "1a3b5942-c3f6-4fef-b640-09b640306ab5",
   "metadata": {},
   "outputs": [],
   "source": [
    "dic['Product1_name']='Mobile_phone'"
   ]
  },
  {
   "cell_type": "code",
   "execution_count": 96,
   "id": "a1e549c0-b490-4a5c-ad81-40c3af77958c",
   "metadata": {},
   "outputs": [
    {
     "data": {
      "text/plain": [
       "{'Product1_name': 'Mobile_phone',\n",
       " 'Product1_quality': 5,\n",
       " 'Product1_price': 20000,\n",
       " 'Product2_name': 'Laptop',\n",
       " 'Product2_quality': 10,\n",
       " 'Product2_price': 50000}"
      ]
     },
     "execution_count": 96,
     "metadata": {},
     "output_type": "execute_result"
    }
   ],
   "source": [
    "dic"
   ]
  },
  {
   "cell_type": "code",
   "execution_count": 97,
   "id": "6a713b41-aea9-405d-9136-a4fc415dc37b",
   "metadata": {},
   "outputs": [
    {
     "ename": "AttributeError",
     "evalue": "'dict' object has no attribute 'add'",
     "output_type": "error",
     "traceback": [
      "\u001b[1;31m---------------------------------------------------------------------------\u001b[0m",
      "\u001b[1;31mAttributeError\u001b[0m                            Traceback (most recent call last)",
      "Cell \u001b[1;32mIn[97], line 1\u001b[0m\n\u001b[1;32m----> 1\u001b[0m \u001b[43mdic\u001b[49m\u001b[38;5;241;43m.\u001b[39;49m\u001b[43madd\u001b[49m(\u001b[38;5;124m'\u001b[39m\u001b[38;5;124md\u001b[39m\u001b[38;5;124m'\u001b[39m)\n",
      "\u001b[1;31mAttributeError\u001b[0m: 'dict' object has no attribute 'add'"
     ]
    }
   ],
   "source": [
    "dic.add('d')"
   ]
  },
  {
   "cell_type": "code",
   "execution_count": 115,
   "id": "e05a2e0e-bc8c-459c-8e99-893e76c24ebc",
   "metadata": {},
   "outputs": [
    {
     "data": {
      "text/plain": [
       "{1, 2, 3, 4, 5, 6, 7, 8, 9, 'a', 'b', 'c', 'q'}"
      ]
     },
     "execution_count": 115,
     "metadata": {},
     "output_type": "execute_result"
    }
   ],
   "source": [
    "set1={1,2,3,4,5,6,7,8,9,'a','b','c'}\n",
    "set1.add('q')\n",
    "set1\n"
   ]
  },
  {
   "cell_type": "code",
   "execution_count": 116,
   "id": "e66508f6-30ef-40e1-8e40-e8d6c816f4ee",
   "metadata": {},
   "outputs": [],
   "source": [
    "set1.remove(2)"
   ]
  },
  {
   "cell_type": "code",
   "execution_count": 117,
   "id": "eaf4902c-decb-4c2c-99df-d4e4cabb56da",
   "metadata": {},
   "outputs": [
    {
     "data": {
      "text/plain": [
       "{1, 3, 4, 5, 6, 7, 8, 9, 'a', 'b', 'c', 'q'}"
      ]
     },
     "execution_count": 117,
     "metadata": {},
     "output_type": "execute_result"
    }
   ],
   "source": [
    "set1"
   ]
  },
  {
   "cell_type": "code",
   "execution_count": 39,
   "id": "d1620fe2-02f6-49f8-b55c-e92aa56d3a57",
   "metadata": {},
   "outputs": [
    {
     "name": "stdout",
     "output_type": "stream",
     "text": [
      "{'rap', 'electronic_music', 'house'}\n"
     ]
    }
   ],
   "source": [
    "#l=['rap','house','electronic music', 'rap']\n",
    "s=set(['rap','house','electronic_music','rap'])\n",
    "print(s)"
   ]
  },
  {
   "cell_type": "code",
   "execution_count": 135,
   "id": "3f8c471b-cfa5-4869-a310-b8500ae4a3a2",
   "metadata": {},
   "outputs": [
    {
     "data": {
      "text/plain": [
       "[1, 2, 3, 3, 4, 5, 5, 6, 7, 8, 9, 11, 22, 33, 44, 55, 55, 66]"
      ]
     },
     "execution_count": 135,
     "metadata": {},
     "output_type": "execute_result"
    }
   ],
   "source": [
    "L=[1,3,2,4,7,8,9,6,3,55,22,44,11,55,66,33,5,5]\n",
    "L.sort()\n",
    "#print(L1)\n",
    "L"
   ]
  },
  {
   "cell_type": "code",
   "execution_count": 146,
   "id": "e3ee555d-b8f1-437b-8155-8fa4d5f0bdd2",
   "metadata": {},
   "outputs": [
    {
     "name": "stdout",
     "output_type": "stream",
     "text": [
      "Index 0: apple\n",
      "Index 1: banana\n",
      "Index 2: orange\n"
     ]
    }
   ],
   "source": [
    "my_list = ['apple', 'banana', 'orange']\n",
    "\n",
    "for i, value in enumerate(my_list):\n",
    "    print(f\"Index {i}: {value}\")\n"
   ]
  },
  {
   "cell_type": "code",
   "execution_count": 147,
   "id": "892ee652-b71b-44b3-8feb-690255b1607f",
   "metadata": {},
   "outputs": [],
   "source": [
    "class circle():\n",
    "    def __init__(self,radius,color):\n",
    "        self.radius=radius\n",
    "        self.color=color"
   ]
  },
  {
   "cell_type": "code",
   "execution_count": 148,
   "id": "aba78f78-25e2-4667-80aa-8e1829c5651c",
   "metadata": {},
   "outputs": [],
   "source": [
    "c1=circle(2,'red')"
   ]
  },
  {
   "cell_type": "code",
   "execution_count": 149,
   "id": "2064e515-89d1-4018-a790-865a3c7b0868",
   "metadata": {},
   "outputs": [
    {
     "data": {
      "text/plain": [
       "2"
      ]
     },
     "execution_count": 149,
     "metadata": {},
     "output_type": "execute_result"
    }
   ],
   "source": [
    "c1.radius"
   ]
  },
  {
   "cell_type": "code",
   "execution_count": 150,
   "id": "5b7ab5b6-b929-4788-8ade-0566eae5a287",
   "metadata": {},
   "outputs": [
    {
     "data": {
      "text/plain": [
       "'red'"
      ]
     },
     "execution_count": 150,
     "metadata": {},
     "output_type": "execute_result"
    }
   ],
   "source": [
    "c1.color"
   ]
  },
  {
   "cell_type": "code",
   "execution_count": null,
   "id": "f4dc6fdb-191c-4d7f-b63a-efe14e09ed4c",
   "metadata": {},
   "outputs": [],
   "source": [
    "#Type your code here\n",
    "class car():\n",
    "    color='white'\n",
    "    def __init__(self,speed,mileage):\n",
    "        self.speed=speed\n",
    "        self.mileage=mileage\n",
    "\n",
    "    def seating(self,seat):\n",
    "        self.seat=seat\n",
    "\n",
    "    def prope(self):\n",
    "        print('properties of a car')\n",
    "        print(self.speed)\n",
    "        print(self.mileage)\n",
    "        print(self.seat)\n",
    "\n",
    "c1=car(100,20)\n",
    "\n",
    "c2=car(200,40)\n",
    "c2.seating(19)\n",
    "c1.seating(5)\n",
    "c1.prope()\n",
    "c2.prope()      "
   ]
  },
  {
   "cell_type": "code",
   "execution_count": null,
   "id": "61190862-4a8e-47d8-9168-cb74e67edb52",
   "metadata": {},
   "outputs": [],
   "source": [
    "pip install pandas\n"
   ]
  },
  {
   "cell_type": "code",
   "execution_count": 38,
   "id": "bd5c8f5c-a47a-4478-9474-9d2c7036b992",
   "metadata": {},
   "outputs": [
    {
     "name": "stdout",
     "output_type": "stream",
     "text": [
      "  Student  Age Country            Course  Marks\n",
      "0   David   27      UK            Python     85\n",
      "1  Samuel   24  Canada   Data Structures     72\n",
      "2   Terry   22   China  Machine Learning     89\n",
      "3    Evan   32     USA   Web Development     76\n"
     ]
    }
   ],
   "source": [
    "import pandas as pd\n",
    "df={'Student':['David','Samuel','Terry','Evan'],'Age':[27,24,22,32],'Country':['UK','Canada','China','USA'],'Course':['Python','Data Structures','Machine Learning','Web Development'],'Marks':[85,72,89,76]} \n",
    "df1=pd.DataFrame(df)\n",
    "print(df1)"
   ]
  },
  {
   "cell_type": "code",
   "execution_count": 29,
   "id": "8593fcb9-a342-414e-977a-8e5c96a9749a",
   "metadata": {},
   "outputs": [
    {
     "data": {
      "text/html": [
       "<div>\n",
       "<style scoped>\n",
       "    .dataframe tbody tr th:only-of-type {\n",
       "        vertical-align: middle;\n",
       "    }\n",
       "\n",
       "    .dataframe tbody tr th {\n",
       "        vertical-align: top;\n",
       "    }\n",
       "\n",
       "    .dataframe thead th {\n",
       "        text-align: right;\n",
       "    }\n",
       "</style>\n",
       "<table border=\"1\" class=\"dataframe\">\n",
       "  <thead>\n",
       "    <tr style=\"text-align: right;\">\n",
       "      <th></th>\n",
       "      <th>Unnamed: 0</th>\n",
       "      <th>rating</th>\n",
       "      <th>header</th>\n",
       "      <th>author</th>\n",
       "      <th>date</th>\n",
       "      <th>place</th>\n",
       "      <th>content</th>\n",
       "      <th>aircraft</th>\n",
       "      <th>traveller_type</th>\n",
       "      <th>seat_type</th>\n",
       "      <th>route</th>\n",
       "      <th>date_flown</th>\n",
       "      <th>seat_comfort</th>\n",
       "      <th>cabin_staff_service</th>\n",
       "      <th>food_beverages</th>\n",
       "      <th>ground_service</th>\n",
       "      <th>value_for_money</th>\n",
       "      <th>recommended</th>\n",
       "      <th>entertainment</th>\n",
       "      <th>trip_verified</th>\n",
       "    </tr>\n",
       "  </thead>\n",
       "  <tbody>\n",
       "    <tr>\n",
       "      <th>0</th>\n",
       "      <td>0</td>\n",
       "      <td>2</td>\n",
       "      <td>service was mediocre at best</td>\n",
       "      <td>Gary Storer</td>\n",
       "      <td>2023-10-03</td>\n",
       "      <td>United Kingdom</td>\n",
       "      <td>Just returned from Chicago, flew out 10 days ...</td>\n",
       "      <td>A380</td>\n",
       "      <td>Couple Leisure</td>\n",
       "      <td>Economy Class</td>\n",
       "      <td>Chicago to Manchester via Heathrow</td>\n",
       "      <td>2023-10-01</td>\n",
       "      <td>2</td>\n",
       "      <td>3</td>\n",
       "      <td>1</td>\n",
       "      <td>2</td>\n",
       "      <td>2</td>\n",
       "      <td>no</td>\n",
       "      <td>-1</td>\n",
       "      <td>Not Verified</td>\n",
       "    </tr>\n",
       "  </tbody>\n",
       "</table>\n",
       "</div>"
      ],
      "text/plain": [
       "   Unnamed: 0  rating                        header       author        date  \\\n",
       "0           0       2  service was mediocre at best  Gary Storer  2023-10-03   \n",
       "\n",
       "            place                                            content aircraft  \\\n",
       "0  United Kingdom   Just returned from Chicago, flew out 10 days ...     A380   \n",
       "\n",
       "   traveller_type      seat_type                               route  \\\n",
       "0  Couple Leisure  Economy Class  Chicago to Manchester via Heathrow   \n",
       "\n",
       "   date_flown  seat_comfort  cabin_staff_service  food_beverages  \\\n",
       "0  2023-10-01             2                    3               1   \n",
       "\n",
       "   ground_service  value_for_money recommended  entertainment trip_verified  \n",
       "0               2                2          no             -1  Not Verified  "
      ]
     },
     "execution_count": 29,
     "metadata": {},
     "output_type": "execute_result"
    }
   ],
   "source": [
    "df = pd.read_csv('C:\\\\Users\\\\SLL1068\\\\Desktop\\\\python\\\\airline_review.csv')\n",
    "df.head(1)"
   ]
  },
  {
   "cell_type": "code",
   "execution_count": 30,
   "id": "c438ddc5-e9f1-4e22-86ad-7788c007338e",
   "metadata": {},
   "outputs": [
    {
     "data": {
      "text/html": [
       "<div>\n",
       "<style scoped>\n",
       "    .dataframe tbody tr th:only-of-type {\n",
       "        vertical-align: middle;\n",
       "    }\n",
       "\n",
       "    .dataframe tbody tr th {\n",
       "        vertical-align: top;\n",
       "    }\n",
       "\n",
       "    .dataframe thead th {\n",
       "        text-align: right;\n",
       "    }\n",
       "</style>\n",
       "<table border=\"1\" class=\"dataframe\">\n",
       "  <thead>\n",
       "    <tr style=\"text-align: right;\">\n",
       "      <th></th>\n",
       "      <th>Marks</th>\n",
       "    </tr>\n",
       "  </thead>\n",
       "  <tbody>\n",
       "    <tr>\n",
       "      <th>0</th>\n",
       "      <td>85</td>\n",
       "    </tr>\n",
       "    <tr>\n",
       "      <th>1</th>\n",
       "      <td>72</td>\n",
       "    </tr>\n",
       "    <tr>\n",
       "      <th>2</th>\n",
       "      <td>89</td>\n",
       "    </tr>\n",
       "    <tr>\n",
       "      <th>3</th>\n",
       "      <td>76</td>\n",
       "    </tr>\n",
       "  </tbody>\n",
       "</table>\n",
       "</div>"
      ],
      "text/plain": [
       "   Marks\n",
       "0     85\n",
       "1     72\n",
       "2     89\n",
       "3     76"
      ]
     },
     "execution_count": 30,
     "metadata": {},
     "output_type": "execute_result"
    }
   ],
   "source": [
    "b=df1[['Marks']]\n",
    "b"
   ]
  },
  {
   "cell_type": "code",
   "execution_count": null,
   "id": "22b2229b-f407-4346-95db-f9f80ab99b2a",
   "metadata": {},
   "outputs": [],
   "source": []
  },
  {
   "cell_type": "code",
   "execution_count": 39,
   "id": "7b5120df-4ac4-4a60-849c-121f94f977a7",
   "metadata": {},
   "outputs": [
    {
     "data": {
      "text/html": [
       "<div>\n",
       "<style scoped>\n",
       "    .dataframe tbody tr th:only-of-type {\n",
       "        vertical-align: middle;\n",
       "    }\n",
       "\n",
       "    .dataframe tbody tr th {\n",
       "        vertical-align: top;\n",
       "    }\n",
       "\n",
       "    .dataframe thead th {\n",
       "        text-align: right;\n",
       "    }\n",
       "</style>\n",
       "<table border=\"1\" class=\"dataframe\">\n",
       "  <thead>\n",
       "    <tr style=\"text-align: right;\">\n",
       "      <th></th>\n",
       "      <th>Student</th>\n",
       "      <th>Age</th>\n",
       "      <th>Country</th>\n",
       "      <th>Course</th>\n",
       "      <th>Marks</th>\n",
       "    </tr>\n",
       "  </thead>\n",
       "  <tbody>\n",
       "    <tr>\n",
       "      <th>0</th>\n",
       "      <td>David</td>\n",
       "      <td>27</td>\n",
       "      <td>UK</td>\n",
       "      <td>Python</td>\n",
       "      <td>85</td>\n",
       "    </tr>\n",
       "    <tr>\n",
       "      <th>1</th>\n",
       "      <td>Samuel</td>\n",
       "      <td>24</td>\n",
       "      <td>Canada</td>\n",
       "      <td>Data Structures</td>\n",
       "      <td>72</td>\n",
       "    </tr>\n",
       "    <tr>\n",
       "      <th>2</th>\n",
       "      <td>Terry</td>\n",
       "      <td>22</td>\n",
       "      <td>China</td>\n",
       "      <td>Machine Learning</td>\n",
       "      <td>89</td>\n",
       "    </tr>\n",
       "    <tr>\n",
       "      <th>3</th>\n",
       "      <td>Evan</td>\n",
       "      <td>32</td>\n",
       "      <td>USA</td>\n",
       "      <td>Web Development</td>\n",
       "      <td>76</td>\n",
       "    </tr>\n",
       "  </tbody>\n",
       "</table>\n",
       "</div>"
      ],
      "text/plain": [
       "  Student  Age Country            Course  Marks\n",
       "0   David   27      UK            Python     85\n",
       "1  Samuel   24  Canada   Data Structures     72\n",
       "2   Terry   22   China  Machine Learning     89\n",
       "3    Evan   32     USA   Web Development     76"
      ]
     },
     "execution_count": 39,
     "metadata": {},
     "output_type": "execute_result"
    }
   ],
   "source": [
    "df1.head()"
   ]
  },
  {
   "cell_type": "code",
   "execution_count": 68,
   "id": "9854fad9-d30c-4c0c-8551-e1fd302a5a4f",
   "metadata": {},
   "outputs": [
    {
     "data": {
      "text/plain": [
       "2    22\n",
       "3    32\n",
       "Name: Age, dtype: int64"
      ]
     },
     "execution_count": 68,
     "metadata": {},
     "output_type": "execute_result"
    }
   ],
   "source": [
    "df1.loc[2:4,'Age']"
   ]
  },
  {
   "cell_type": "code",
   "execution_count": null,
   "id": "7d9ca6f0-e043-498a-bb68-d2c36723b408",
   "metadata": {},
   "outputs": [],
   "source": []
  },
  {
   "cell_type": "code",
   "execution_count": 88,
   "id": "729f307f-633e-4036-b658-badaf0c961b9",
   "metadata": {},
   "outputs": [
    {
     "name": "stdout",
     "output_type": "stream",
     "text": [
      "[8, 10, 12, 14, 16, 18]\n"
     ]
    }
   ],
   "source": [
    "a=[1,2,3,4,5,6]\n",
    "b=[7,8,9,10,11,12]\n",
    "c=[]\n",
    "for i,j in zip(a,b):\n",
    "    c.append(i+j)\n",
    "    #c.append(j)\n",
    "print(c)"
   ]
  },
  {
   "cell_type": "code",
   "execution_count": 89,
   "id": "14c9e15c-a933-44a4-9c7a-ad07f09cab10",
   "metadata": {},
   "outputs": [
    {
     "name": "stdout",
     "output_type": "stream",
     "text": [
      "[8, 10, 12, 14, 16, 18]\n"
     ]
    }
   ],
   "source": [
    "import numpy as np\n",
    "u=np.array(a)\n",
    "v=np.array(b)\n",
    "z=list(u+v)\n",
    "print(z)"
   ]
  },
  {
   "cell_type": "code",
   "execution_count": 95,
   "id": "1f46603c-5431-46da-b9c8-d14d2d8c7dac",
   "metadata": {},
   "outputs": [
    {
     "name": "stdout",
     "output_type": "stream",
     "text": [
      "[ 7 16 27 40 55 72]\n"
     ]
    }
   ],
   "source": [
    "z=(v*u);print(z)"
   ]
  },
  {
   "cell_type": "code",
   "execution_count": 97,
   "id": "9f8c649a-2452-41a6-8ec4-8bf7d5cb089d",
   "metadata": {},
   "outputs": [
    {
     "name": "stdout",
     "output_type": "stream",
     "text": [
      "217\n"
     ]
    }
   ],
   "source": [
    "a=np.dot(u,v)\n",
    "print(a)"
   ]
  },
  {
   "cell_type": "code",
   "execution_count": 102,
   "id": "55a3e78e-d7aa-4964-aa68-88a4941629b5",
   "metadata": {},
   "outputs": [
    {
     "name": "stdout",
     "output_type": "stream",
     "text": [
      "3.141592653589793\n",
      "1.2246467991473532e-16\n"
     ]
    }
   ],
   "source": [
    "print(np.pi);print(np.sin(np.pi))"
   ]
  },
  {
   "cell_type": "code",
   "execution_count": 104,
   "id": "b1b5fc4e-7ae0-43ee-84fa-1987db76ae5a",
   "metadata": {},
   "outputs": [
    {
     "name": "stdout",
     "output_type": "stream",
     "text": [
      "[ 0.6569866   0.98935825  0.41211849 -0.54402111 -0.99999021 -0.53657292]\n"
     ]
    }
   ],
   "source": [
    "a=np.sin(v)\n",
    "print(a)"
   ]
  },
  {
   "cell_type": "code",
   "execution_count": 109,
   "id": "08662ced-87be-41c9-8398-ef17aa3693b9",
   "metadata": {},
   "outputs": [
    {
     "name": "stdout",
     "output_type": "stream",
     "text": [
      "[-4.         -3.11111111 -2.22222222 -1.33333333 -0.44444444  0.44444444\n",
      "  1.33333333  2.22222222  3.11111111  4.        ]\n"
     ]
    }
   ],
   "source": [
    "a=np.linspace(-4,4,10);print(a)"
   ]
  },
  {
   "cell_type": "code",
   "execution_count": 112,
   "id": "dae65e59-380f-4338-bc78-92fad817aefd",
   "metadata": {},
   "outputs": [
    {
     "name": "stdout",
     "output_type": "stream",
     "text": [
      "[0.         0.34906585 0.6981317  1.04719755 1.3962634  1.74532925\n",
      " 2.0943951  2.44346095 2.7925268  3.14159265]\n"
     ]
    }
   ],
   "source": [
    "a=np.linspace(0,np.pi,10);print(a)"
   ]
  },
  {
   "cell_type": "code",
   "execution_count": 117,
   "id": "0ab45370-f9e0-426e-8f11-04de5d1a737c",
   "metadata": {},
   "outputs": [
    {
     "name": "stdout",
     "output_type": "stream",
     "text": [
      "          0\n",
      "0  0.000000\n",
      "1  0.349066\n",
      "2  0.698132\n",
      "3  1.047198\n",
      "4  1.396263\n",
      "5  1.745329\n",
      "6  2.094395\n",
      "7  2.443461\n",
      "8  2.792527\n",
      "9  3.141593\n"
     ]
    }
   ],
   "source": [
    "a=pd.DataFrame(a);print(a)\n",
    "#a.index(a,inplace=True);print(a)"
   ]
  },
  {
   "cell_type": "code",
   "execution_count": 26,
   "id": "3f8eb712-7823-4680-b3c1-256297bcd2db",
   "metadata": {},
   "outputs": [
    {
     "name": "stdout",
     "output_type": "stream",
     "text": [
      "               0\n",
      "0   1.224647e-16\n",
      "1   9.505604e-02\n",
      "2   1.892512e-01\n",
      "3   2.817326e-01\n",
      "4   3.716625e-01\n",
      "..           ...\n",
      "95  3.716625e-01\n",
      "96  2.817326e-01\n",
      "97  1.892512e-01\n",
      "98  9.505604e-02\n",
      "99  2.449294e-16\n",
      "\n",
      "[100 rows x 1 columns]\n"
     ]
    },
    {
     "data": {
      "text/plain": [
       "[<matplotlib.lines.Line2D at 0x19cc78c5050>]"
      ]
     },
     "execution_count": 26,
     "metadata": {},
     "output_type": "execute_result"
    },
    {
     "data": {
      "image/png": "[encoded data removed]",
      "text/plain": [
       "<Figure size 640x480 with 1 Axes>"
      ]
     },
     "metadata": {},
     "output_type": "display_data"
    }
   ],
   "source": [
    "import numpy as np\n",
    "import pandas as pd\n",
    "x=np.linspace(np.pi,-2*np.pi,100);#print(x)\n",
    "y=np.sin(x)\n",
    "print(pd.DataFrame(y))\n",
    "import matplotlib.pyplot as plt\n",
    "#%matplotlib inline\n",
    "plt.plot(x,y)"
   ]
  },
  {
   "cell_type": "code",
   "execution_count": 15,
   "id": "85cfb022-73b1-4eb4-9973-538c0830edcb",
   "metadata": {},
   "outputs": [
    {
     "name": "stdout",
     "output_type": "stream",
     "text": [
      "[1 3 5 7]\n"
     ]
    }
   ],
   "source": [
    "arr = np.array([1, 2, 3, 4, 5, 6, 7, 8])\n",
    "print(arr[1:8:2])\n",
    "    "
   ]
  },
  {
   "cell_type": "code",
   "execution_count": 17,
   "id": "ea79a50b-0604-4259-b93e-ffaa1d786ea5",
   "metadata": {},
   "outputs": [
    {
     "name": "stdout",
     "output_type": "stream",
     "text": [
      "492\n"
     ]
    }
   ],
   "source": [
    "c = np.array([-10, 201, 43, 94, 502])\n",
    "\n",
    "# Enter your code here\n",
    "c1=c.min()\n",
    "c2=c.max()\n",
    "print(c1+c2)"
   ]
  },
  {
   "cell_type": "code",
   "execution_count": 45,
   "id": "31e54673-9177-4f25-ade1-db10ea64a276",
   "metadata": {},
   "outputs": [
    {
     "name": "stdout",
     "output_type": "stream",
     "text": [
      "The dot product is 0\n"
     ]
    },
    {
     "data": {
      "image/png": "[encoded data removed]",
      "text/plain": [
       "<Figure size 640x480 with 1 Axes>"
      ]
     },
     "metadata": {},
     "output_type": "display_data"
    }
   ],
   "source": [
    "import time \n",
    "import sys\n",
    "import numpy as np \n",
    "\n",
    "import matplotlib.pyplot as plt\n",
    "%matplotlib inline  \n",
    "\n",
    "def Plotvec2(a,b):\n",
    "    ax = plt.axes()# to generate the full window axes\n",
    "    ax.arrow(0, 0, *a, head_width=0.05, color ='r', head_length=0.1)#Add an arrow to the  a Axes with arrow head width 0.05, color red and arrow head length 0.1\n",
    "    plt.text(*(a + 0.1), 'a')\n",
    "    ax.arrow(0, 0, *b, head_width=0.05, color ='b', head_length=0.1)#Add an arrow to the  b Axes with arrow head width 0.05, color blue and arrow head length 0.1\n",
    "    plt.text(*(b + 0.1), 'b')\n",
    "    plt.ylim(-2, 2)#set the ylim to bottom(-2), top(2)\n",
    "    plt.xlim(-2, 2)#set the xlim to left(-2), right(2)\n",
    "\n",
    "\n",
    "\n",
    "a = np.array([1, 0])\n",
    "b = np.array([0, 1])\n",
    "Plotvec2(a, b)\n",
    "print(\"The dot product is\", np.dot(a,b))"
   ]
  },
  {
   "cell_type": "code",
   "execution_count": 47,
   "id": "6d64f3d3-618b-472a-9d42-72656cc8ec8e",
   "metadata": {},
   "outputs": [
    {
     "data": {
      "image/png": "[encoded data removed]",
      "text/plain": [
       "<Figure size 640x480 with 1 Axes>"
      ]
     },
     "metadata": {},
     "output_type": "display_data"
    }
   ],
   "source": [
    "a = np.array([-1,0])\n",
    "b = np.array([0,-1])\n",
    "Plotvec2(a, b)"
   ]
  },
  {
   "cell_type": "code",
   "execution_count": 32,
   "id": "b5c45d07-09f5-4973-9c9f-a08289745207",
   "metadata": {},
   "outputs": [
    {
     "data": {
      "text/html": [
       "<div>\n",
       "<style scoped>\n",
       "    .dataframe tbody tr th:only-of-type {\n",
       "        vertical-align: middle;\n",
       "    }\n",
       "\n",
       "    .dataframe tbody tr th {\n",
       "        vertical-align: top;\n",
       "    }\n",
       "\n",
       "    .dataframe thead th {\n",
       "        text-align: right;\n",
       "    }\n",
       "</style>\n",
       "<table border=\"1\" class=\"dataframe\">\n",
       "  <thead>\n",
       "    <tr style=\"text-align: right;\">\n",
       "      <th></th>\n",
       "      <th>Unnamed: 0</th>\n",
       "      <th>rating</th>\n",
       "      <th>header</th>\n",
       "      <th>author</th>\n",
       "      <th>date</th>\n",
       "      <th>place</th>\n",
       "      <th>content</th>\n",
       "      <th>aircraft</th>\n",
       "      <th>traveller_type</th>\n",
       "      <th>seat_type</th>\n",
       "      <th>route</th>\n",
       "      <th>date_flown</th>\n",
       "      <th>seat_comfort</th>\n",
       "      <th>cabin_staff_service</th>\n",
       "      <th>food_beverages</th>\n",
       "      <th>ground_service</th>\n",
       "      <th>value_for_money</th>\n",
       "      <th>recommended</th>\n",
       "      <th>entertainment</th>\n",
       "      <th>trip_verified</th>\n",
       "    </tr>\n",
       "  </thead>\n",
       "  <tbody>\n",
       "    <tr>\n",
       "      <th>0</th>\n",
       "      <td>0</td>\n",
       "      <td>2</td>\n",
       "      <td>service was mediocre at best</td>\n",
       "      <td>Gary Storer</td>\n",
       "      <td>2023-10-03</td>\n",
       "      <td>United Kingdom</td>\n",
       "      <td>Just returned from Chicago, flew out 10 days ...</td>\n",
       "      <td>A380</td>\n",
       "      <td>Couple Leisure</td>\n",
       "      <td>Economy Class</td>\n",
       "      <td>Chicago to Manchester via Heathrow</td>\n",
       "      <td>2023-10-01</td>\n",
       "      <td>2</td>\n",
       "      <td>3</td>\n",
       "      <td>1</td>\n",
       "      <td>2</td>\n",
       "      <td>2</td>\n",
       "      <td>no</td>\n",
       "      <td>-1</td>\n",
       "      <td>Not Verified</td>\n",
       "    </tr>\n",
       "  </tbody>\n",
       "</table>\n",
       "</div>"
      ],
      "text/plain": [
       "   Unnamed: 0  rating                        header       author        date  \\\n",
       "0           0       2  service was mediocre at best  Gary Storer  2023-10-03   \n",
       "\n",
       "            place                                            content aircraft  \\\n",
       "0  United Kingdom   Just returned from Chicago, flew out 10 days ...     A380   \n",
       "\n",
       "   traveller_type      seat_type                               route  \\\n",
       "0  Couple Leisure  Economy Class  Chicago to Manchester via Heathrow   \n",
       "\n",
       "   date_flown  seat_comfort  cabin_staff_service  food_beverages  \\\n",
       "0  2023-10-01             2                    3               1   \n",
       "\n",
       "   ground_service  value_for_money recommended  entertainment trip_verified  \n",
       "0               2                2          no             -1  Not Verified  "
      ]
     },
     "execution_count": 32,
     "metadata": {},
     "output_type": "execute_result"
    }
   ],
   "source": [
    "BR_df = pd.read_csv('C:\\\\Users\\\\SLL1068\\\\Desktop\\\\python\\\\airline_review.csv')\n",
    "BR_df.head(1)"
   ]
  },
  {
   "cell_type": "code",
   "execution_count": 38,
   "id": "7a4d2c04-17d0-423a-8fe6-f4c9dabfdcdd",
   "metadata": {},
   "outputs": [
    {
     "data": {
      "text/html": [
       "<div>\n",
       "<style scoped>\n",
       "    .dataframe tbody tr th:only-of-type {\n",
       "        vertical-align: middle;\n",
       "    }\n",
       "\n",
       "    .dataframe tbody tr th {\n",
       "        vertical-align: top;\n",
       "    }\n",
       "\n",
       "    .dataframe thead th {\n",
       "        text-align: right;\n",
       "    }\n",
       "</style>\n",
       "<table border=\"1\" class=\"dataframe\">\n",
       "  <thead>\n",
       "    <tr style=\"text-align: right;\">\n",
       "      <th></th>\n",
       "      <th>route</th>\n",
       "    </tr>\n",
       "  </thead>\n",
       "  <tbody>\n",
       "    <tr>\n",
       "      <th>0</th>\n",
       "      <td>Chicago to Manchester via Heathrow</td>\n",
       "    </tr>\n",
       "    <tr>\n",
       "      <th>1</th>\n",
       "      <td>London Heathrow to Munich</td>\n",
       "    </tr>\n",
       "    <tr>\n",
       "      <th>2</th>\n",
       "      <td>Heathrow to Istanbul</td>\n",
       "    </tr>\n",
       "    <tr>\n",
       "      <th>3</th>\n",
       "      <td>London to Geneva</td>\n",
       "    </tr>\n",
       "    <tr>\n",
       "      <th>4</th>\n",
       "      <td>Athens to London</td>\n",
       "    </tr>\n",
       "  </tbody>\n",
       "</table>\n",
       "</div>"
      ],
      "text/plain": [
       "                                route\n",
       "0  Chicago to Manchester via Heathrow\n",
       "1           London Heathrow to Munich\n",
       "2                Heathrow to Istanbul\n",
       "3                    London to Geneva\n",
       "4                    Athens to London"
      ]
     },
     "execution_count": 38,
     "metadata": {},
     "output_type": "execute_result"
    }
   ],
   "source": [
    "df=BR_df\n",
    "df=df[['route']]\n",
    "df.head()"
   ]
  },
  {
   "cell_type": "code",
   "execution_count": 49,
   "id": "0ca34d71-bffb-4eb3-8916-5b1df8e87917",
   "metadata": {},
   "outputs": [
    {
     "ename": "IndentationError",
     "evalue": "unindent does not match any outer indentation level (<tokenize>, line 4)",
     "output_type": "error",
     "traceback": [
      "\u001b[1;36m  File \u001b[1;32m<tokenize>:4\u001b[1;36m\u001b[0m\n\u001b[1;33m    a = headA\u001b[0m\n\u001b[1;37m    ^\u001b[0m\n\u001b[1;31mIndentationError\u001b[0m\u001b[1;31m:\u001b[0m unindent does not match any outer indentation level\n"
     ]
    }
   ],
   "source": [
    "if headA==None or headB==None:\n",
    "            return None\n",
    "\n",
    "        a = headA\n",
    "        b = headB\n",
    "\n",
    "        while a!=b:\n",
    "            a = headB if a==None else a.next\n",
    "            b = headA if b==None else b.next\n",
    "        return a\n",
    "        "
   ]
  },
  {
   "cell_type": "code",
   "execution_count": null,
   "id": "e3daed49-34c2-460d-9f89-5ea58219f44b",
   "metadata": {},
   "outputs": [],
   "source": [
    "class Node:\n",
    "    def __init__(self,data):\n",
    "        self.data=data\n",
    "        self.next=None\n",
    "def pro(a):\n",
    "    c=a\n",
    "    while c:\n",
    "        print(c.data)\n",
    "        c.next=c\n",
    "    print('None')\n",
    "\n",
    "a=Node(1)\n",
    "a.next=Node(2)\n",
    "\n",
    "pro(a)"
   ]
  },
  {
   "cell_type": "code",
   "execution_count": 29,
   "id": "9e2039b8-098e-448b-aba0-3a318af13f08",
   "metadata": {},
   "outputs": [
    {
     "name": "stdout",
     "output_type": "stream",
     "text": [
      "0.(3)\n"
     ]
    }
   ],
   "source": [
    "def fraction_to_recurring_decimal(numerator, denominator):\n",
    "    if numerator == 0:\n",
    "        return \"0\"\n",
    "\n",
    "    result = []\n",
    "    \n",
    "    # Determine the sign\n",
    "    sign = \"-\" if numerator * denominator < 0 else \"\"\n",
    "    \n",
    "    numerator, denominator = abs(numerator), abs(denominator)\n",
    "\n",
    "    # Integer part\n",
    "    result.append(sign + str(numerator // denominator))\n",
    "    \n",
    "    remainder = numerator % denominator\n",
    "    if remainder == 0:\n",
    "        return \"\".join(result)\n",
    "\n",
    "    result.append(\".\")\n",
    "    \n",
    "    seen = {}  # To keep track of the remainder and its index\n",
    "    while remainder != 0:\n",
    "        if remainder in seen:\n",
    "            # Insert \"(\" at the index where the remainder was first seen\n",
    "            result.insert(seen[remainder], \"(\")\n",
    "            result.append(\")\")\n",
    "            break\n",
    "        \n",
    "        seen[remainder] = len(result)\n",
    "        \n",
    "        remainder *= 10\n",
    "        result.append(str(remainder // denominator))\n",
    "        remainder %= denominator\n",
    "\n",
    "    return \"\".join(result)\n",
    "\n",
    "# Example usage:\n",
    "numerator = 1\n",
    "denominator = 3\n",
    "result = fraction_to_recurring_decimal(numerator, denominator)\n",
    "print(result)\n"
   ]
  },
  {
   "cell_type": "code",
   "execution_count": 30,
   "id": "5048a47e-62ae-48f0-807a-dc4072a590fb",
   "metadata": {},
   "outputs": [
    {
     "ename": "TypeError",
     "evalue": "bad operand type for unary +: 'str'",
     "output_type": "error",
     "traceback": [
      "\u001b[1;31m---------------------------------------------------------------------------\u001b[0m",
      "\u001b[1;31mTypeError\u001b[0m                                 Traceback (most recent call last)",
      "Cell \u001b[1;32mIn[30], line 1\u001b[0m\n\u001b[1;32m----> 1\u001b[0m \u001b[43mnum\u001b[49m\u001b[43m(\u001b[49m\u001b[38;5;241;43m4\u001b[39;49m\u001b[43m,\u001b[49m\u001b[38;5;241;43m333\u001b[39;49m\u001b[43m)\u001b[49m\n",
      "Cell \u001b[1;32mIn[25], line 5\u001b[0m, in \u001b[0;36mnum\u001b[1;34m(a, b)\u001b[0m\n\u001b[0;32m      3\u001b[0m c\u001b[38;5;241m=\u001b[39m\u001b[38;5;28mstr\u001b[39m(\u001b[38;5;28mfloat\u001b[39m(\u001b[38;5;28mround\u001b[39m(c,\u001b[38;5;241m3\u001b[39m)))\n\u001b[0;32m      4\u001b[0m c1\u001b[38;5;241m=\u001b[39mc\u001b[38;5;241m.\u001b[39msplit(\u001b[38;5;124m'\u001b[39m\u001b[38;5;124m.\u001b[39m\u001b[38;5;124m'\u001b[39m)\n\u001b[1;32m----> 5\u001b[0m c2\u001b[38;5;241m=\u001b[39m\u001b[38;5;124m'\u001b[39m\u001b[38;5;124m(\u001b[39m\u001b[38;5;124m'\u001b[39m\u001b[38;5;241m+\u001b[39mc1[\u001b[38;5;241m1\u001b[39m],\u001b[38;5;241;43m+\u001b[39;49m\u001b[38;5;124;43m'\u001b[39;49m\u001b[38;5;124;43m)\u001b[39;49m\u001b[38;5;124;43m'\u001b[39;49m\n\u001b[0;32m      6\u001b[0m c3\u001b[38;5;241m=\u001b[39mc1\u001b[38;5;241m.\u001b[39mappend(c2)\n\u001b[0;32m      7\u001b[0m \u001b[38;5;28;01mreturn\u001b[39;00m c3\n",
      "\u001b[1;31mTypeError\u001b[0m: bad operand type for unary +: 'str'"
     ]
    }
   ],
   "source": [
    "num(4,333)"
   ]
  },
  {
   "cell_type": "code",
   "execution_count": 35,
   "id": "764dae54-87f2-426a-bec3-943068eb1254",
   "metadata": {},
   "outputs": [
    {
     "name": "stdout",
     "output_type": "stream",
     "text": [
      "[1.0, 5.0]\n",
      "[1.0, 10.0]\n",
      "51.0\n"
     ]
    }
   ],
   "source": [
    "import numpy as np\n",
    "a=list(np.linspace(1,5,2));print(a)\n",
    "b=list(np.linspace(1,10,2));print(b)\n",
    "c=np.dot(a,b);print(c)"
   ]
  },
  {
   "cell_type": "code",
   "execution_count": 41,
   "id": "59f983ff-7068-4121-b432-d84626e4afc2",
   "metadata": {},
   "outputs": [
    {
     "data": {
      "text/plain": [
       "1150.0"
      ]
     },
     "execution_count": 41,
     "metadata": {},
     "output_type": "execute_result"
    }
   ],
   "source": [
    "import pandas as pd\n",
    "b=[300,2000]\n",
    "a=np.mean(b)\n",
    "a"
   ]
  },
  {
   "cell_type": "code",
   "execution_count": 85,
   "id": "497a390b-0c31-4f2a-a2b4-315c02dac133",
   "metadata": {},
   "outputs": [],
   "source": [
    "def fun(l,t):    \n",
    "    #l=[2,7,11,15];t=9\n",
    "    for i in l:\n",
    "        a=t-i\n",
    "        if a+i==t:\n",
    "            b=l.index(i)\n",
    "            c=l.index(a)\n",
    "            break\n",
    "    return b+1,c+1\n",
    "         "
   ]
  },
  {
   "cell_type": "code",
   "execution_count": 86,
   "id": "e088dc50-a408-4460-a968-8e9ec1066928",
   "metadata": {},
   "outputs": [
    {
     "ename": "ValueError",
     "evalue": "24 is not in list",
     "output_type": "error",
     "traceback": [
      "\u001b[1;31m---------------------------------------------------------------------------\u001b[0m",
      "\u001b[1;31mValueError\u001b[0m                                Traceback (most recent call last)",
      "Cell \u001b[1;32mIn[86], line 1\u001b[0m\n\u001b[1;32m----> 1\u001b[0m \u001b[43mfun\u001b[49m\u001b[43m(\u001b[49m\u001b[43m[\u001b[49m\u001b[38;5;241;43m2\u001b[39;49m\u001b[43m,\u001b[49m\u001b[38;5;241;43m7\u001b[39;49m\u001b[43m,\u001b[49m\u001b[38;5;241;43m11\u001b[39;49m\u001b[43m,\u001b[49m\u001b[38;5;241;43m15\u001b[39;49m\u001b[43m]\u001b[49m\u001b[43m,\u001b[49m\u001b[38;5;241;43m26\u001b[39;49m\u001b[43m)\u001b[49m\n",
      "Cell \u001b[1;32mIn[85], line 7\u001b[0m, in \u001b[0;36mfun\u001b[1;34m(l, t)\u001b[0m\n\u001b[0;32m      5\u001b[0m     \u001b[38;5;28;01mif\u001b[39;00m a\u001b[38;5;241m+\u001b[39mi\u001b[38;5;241m==\u001b[39mt:\n\u001b[0;32m      6\u001b[0m         b\u001b[38;5;241m=\u001b[39ml\u001b[38;5;241m.\u001b[39mindex(i)\n\u001b[1;32m----> 7\u001b[0m         c\u001b[38;5;241m=\u001b[39m\u001b[43ml\u001b[49m\u001b[38;5;241;43m.\u001b[39;49m\u001b[43mindex\u001b[49m\u001b[43m(\u001b[49m\u001b[43ma\u001b[49m\u001b[43m)\u001b[49m\n\u001b[0;32m      8\u001b[0m         \u001b[38;5;28;01mbreak\u001b[39;00m\n\u001b[0;32m      9\u001b[0m \u001b[38;5;28;01mreturn\u001b[39;00m b\u001b[38;5;241m+\u001b[39m\u001b[38;5;241m1\u001b[39m,c\u001b[38;5;241m+\u001b[39m\u001b[38;5;241m1\u001b[39m\n",
      "\u001b[1;31mValueError\u001b[0m: 24 is not in list"
     ]
    }
   ],
   "source": [
    "fun([2,7,11,15],26)"
   ]
  },
  {
   "cell_type": "code",
   "execution_count": 93,
   "id": "d8f1c443-4f63-4354-a31e-d50364249b2f",
   "metadata": {},
   "outputs": [],
   "source": [
    "def f1(num,target):\n",
    "    i=0;j=len(num)-1\n",
    "    while i!=j:\n",
    "        if num[i]+num[j]==target:\n",
    "            return [i+1,j+1]\n",
    "        elif num[i]+num[j]>target:\n",
    "            j-=1\n",
    "        elif num[i]+num[j]<target:\n",
    "            i+=1"
   ]
  },
  {
   "cell_type": "code",
   "execution_count": 94,
   "id": "bfaa899b-627c-41b2-882f-5277c942d3e3",
   "metadata": {},
   "outputs": [
    {
     "data": {
      "text/plain": [
       "[1, 2]"
      ]
     },
     "execution_count": 94,
     "metadata": {},
     "output_type": "execute_result"
    }
   ],
   "source": [
    "fun1([0,0,5,7],0)"
   ]
  },
  {
   "cell_type": "code",
   "execution_count": 145,
   "id": "519e3f87-9611-4cdc-a3ef-9e455064e262",
   "metadata": {},
   "outputs": [
    {
     "name": "stdout",
     "output_type": "stream",
     "text": [
      "{'A': 1, 'B': 2, 'C': 3, 'D': 4, 'E': 5, 'F': 6, 'G': 7, 'H': 8, 'I': 9, 'J': 10, 'K': 11, 'L': 12, 'M': 13, 'N': 14, 'O': 15, 'P': 16, 'Q': 17, 'R': 18, 'S': 19, 'T': 20, 'U': 21, 'V': 22, 'W': 23, 'X': 24, 'Y': 25, 'Z': 26}\n"
     ]
    }
   ],
   "source": [
    "a=[]\n",
    "for i in range(1,27):\n",
    "    a.append(i)\n",
    "#print(a)\n",
    "b=['A','B','C','D','E','F','G','H','I','J','K','L','M','N','O','P','Q','R','S','T','U','V','W','X','Y','Z']\n",
    "c=dict(zip(b,a))\n",
    "print(c)\n",
    "d=0\n",
    "def pair(a):\n",
    "    a=a.upper()\n",
    "    for i in a:\n",
    "        d=c[i]\n",
    "        d=d+26\n",
    "    return d"
   ]
  },
  {
   "cell_type": "code",
   "execution_count": 148,
   "id": "fffdd2a9-bdff-4780-a3a9-878ca9a42975",
   "metadata": {},
   "outputs": [
    {
     "data": {
      "text/plain": [
       "27"
      ]
     },
     "execution_count": 148,
     "metadata": {},
     "output_type": "execute_result"
    }
   ],
   "source": [
    "pair('a')"
   ]
  },
  {
   "cell_type": "code",
   "execution_count": 149,
   "id": "ebb72441-64fa-4d71-ae1b-d4471c220931",
   "metadata": {},
   "outputs": [],
   "source": [
    "def convertToTitle(num) -> str:\n",
    "    ans=\"\"\n",
    "    whilechar num > 0:\n",
    "        num -= 1\n",
    "        ans = chr(num % 26 + 65) + ans\n",
    "        num //= 26\n",
    "    return ans"
   ]
  },
  {
   "cell_type": "code",
   "execution_count": 150,
   "id": "ea65bed7-cc83-4b95-a722-7069b1952d2f",
   "metadata": {},
   "outputs": [
    {
     "data": {
      "text/plain": [
       "'A'"
      ]
     },
     "execution_count": 150,
     "metadata": {},
     "output_type": "execute_result"
    }
   ],
   "source": [
    "convertToTitle(1)"
   ]
  },
  {
   "cell_type": "code",
   "execution_count": 207,
   "id": "ec886f13-776b-42ec-a434-7f532ddd8f23",
   "metadata": {},
   "outputs": [],
   "source": [
    "d1=[]\n",
    "def ans(a):\n",
    "    a1=set(a);print(a1)\n",
    "    for i in a1:\n",
    "        d=a.count(i)\n",
    "        d1.append(d)\n",
    "        d2=max(d1)\n",
    "    return d2"
   ]
  },
  {
   "cell_type": "code",
   "execution_count": 208,
   "id": "f6ae5f09-833c-45d4-a8fd-9af93faf49d9",
   "metadata": {},
   "outputs": [
    {
     "name": "stdout",
     "output_type": "stream",
     "text": [
      "{1, 2}\n"
     ]
    },
    {
     "data": {
      "text/plain": [
       "4"
      ]
     },
     "execution_count": 208,
     "metadata": {},
     "output_type": "execute_result"
    }
   ],
   "source": [
    "ans([2,2,1,1,1,2,2])"
   ]
  },
  {
   "cell_type": "code",
   "execution_count": 198,
   "id": "7e9cb856-fa94-43c4-afc0-e6e1ce90ead8",
   "metadata": {},
   "outputs": [
    {
     "name": "stdout",
     "output_type": "stream",
     "text": [
      "4\n",
      "[1, 1, 1, 2, 2, 2, 2]\n"
     ]
    }
   ],
   "source": [
    "a=[2,2,1,1,1,2,2]\n",
    "a1=sorted(a)\n",
    "b=a1.count(2);print(b)\n",
    "print(a1)"
   ]
  },
  {
   "cell_type": "code",
   "execution_count": 17,
   "id": "63e380d5-4426-430f-aa8e-3f0b6089bbeb",
   "metadata": {},
   "outputs": [
    {
     "name": "stdout",
     "output_type": "stream",
     "text": [
      "Value(s) with maximum count: [4]\n"
     ]
    }
   ],
   "source": [
    "from collections import Counter\n",
    "\n",
    "def find_most_common(a):\n",
    "    # Create a Counter object to count occurrences of elements in the list\n",
    "    counter = Counter(a)\n",
    "    \n",
    "    # Use most_common() to get a list of (element, count) tuples sorted by count\n",
    "    most_common_items = counter.most_common()\n",
    "    \n",
    "    # Get the maximum count (count of the most common item/items)\n",
    "    max_count = most_common_items[0][1]\n",
    "    \n",
    "    # Get a list of elements with the maximum count\n",
    "    most_common_values = [item[0] for item in most_common_items if item[1] == max_count]\n",
    "    \n",
    "    return most_common_values\n",
    "\n",
    "# Example usage:\n",
    "a = [1, 2, 2, 3, 3, 3, 4, 4, 4, 4]\n",
    "result = find_most_common(a)\n",
    "print(\"Value(s) with maximum count:\", result)\n"
   ]
  },
  {
   "cell_type": "code",
   "execution_count": 16,
   "id": "60ee4c2c-90c4-4aa8-b920-d47dc3be8c37",
   "metadata": {},
   "outputs": [
    {
     "ename": "NameError",
     "evalue": "name 'Counter' is not defined",
     "output_type": "error",
     "traceback": [
      "\u001b[1;31m---------------------------------------------------------------------------\u001b[0m",
      "\u001b[1;31mNameError\u001b[0m                                 Traceback (most recent call last)",
      "Cell \u001b[1;32mIn[16], line 2\u001b[0m\n\u001b[0;32m      1\u001b[0m a\u001b[38;5;241m=\u001b[39m[\u001b[38;5;241m2\u001b[39m,\u001b[38;5;241m2\u001b[39m,\u001b[38;5;241m1\u001b[39m,\u001b[38;5;241m1\u001b[39m,\u001b[38;5;241m1\u001b[39m,\u001b[38;5;241m2\u001b[39m,\u001b[38;5;241m2\u001b[39m,\u001b[38;5;241m5\u001b[39m,\u001b[38;5;241m5\u001b[39m,\u001b[38;5;241m54\u001b[39m,\u001b[38;5;241m54\u001b[39m,\u001b[38;5;241m54\u001b[39m,\u001b[38;5;241m54\u001b[39m]\n\u001b[1;32m----> 2\u001b[0m c\u001b[38;5;241m=\u001b[39m\u001b[43mCounter\u001b[49m(a)\u001b[38;5;66;03m#;print(type(c))\u001b[39;00m\n\u001b[0;32m      3\u001b[0m c1\u001b[38;5;241m=\u001b[39m\u001b[38;5;28mdict\u001b[39m(c\u001b[38;5;241m.\u001b[39mmost_common())\n\u001b[0;32m      4\u001b[0m \u001b[38;5;66;03m#print(type(c1))\u001b[39;00m\n",
      "\u001b[1;31mNameError\u001b[0m: name 'Counter' is not defined"
     ]
    }
   ],
   "source": [
    "a=[2,2,1,1,1,2,2,5,5,54,54,54,54]\n",
    "c=Counter(a)#;print(type(c))\n",
    "c1=dict(c.most_common())\n",
    "#print(type(c1))\n",
    "c1=dict(c.most_common())\n",
    "print(type(c1))\n",
    "#for values in \n",
    "#print(c1[0][0])"
   ]
  },
  {
   "cell_type": "code",
   "execution_count": 251,
   "id": "7c2b1cf6-5c64-4eea-bf45-bdf08cdef204",
   "metadata": {},
   "outputs": [],
   "source": [
    "def maj(a):\n",
    "    b=set(a)\n",
    "    max=0\n",
    "    for i in b:\n",
    "        if max<a.count(i):\n",
    "            res=i\n",
    "            max=a.count(i)\n",
    "    return res"
   ]
  },
  {
   "cell_type": "code",
   "execution_count": 243,
   "id": "db30b281-e053-441b-b849-54780b395c61",
   "metadata": {},
   "outputs": [
    {
     "data": {
      "text/plain": [
       "2"
      ]
     },
     "execution_count": 243,
     "metadata": {},
     "output_type": "execute_result"
    }
   ],
   "source": [
    "maj([2,2,1,1,1,2,2,5,5,54,54,54,54])"
   ]
  },
  {
   "cell_type": "code",
   "execution_count": 265,
   "id": "849a7937-fd11-4590-bd57-e92ef8b3e6c4",
   "metadata": {},
   "outputs": [
    {
     "data": {
      "text/plain": [
       "int"
      ]
     },
     "execution_count": 265,
     "metadata": {},
     "output_type": "execute_result"
    }
   ],
   "source": [
    "a=2\n",
    "type(a)"
   ]
  },
  {
   "cell_type": "code",
   "execution_count": 4,
   "id": "96efaecd-d46e-4f81-83ba-753bf990d8c4",
   "metadata": {},
   "outputs": [],
   "source": [
    "def majorityElement(nums):\n",
    "    s={}\n",
    "    for i in nums:\n",
    "        if i in s.keys():\n",
    "            s[i]+=1\n",
    "        else:\n",
    "            s[i]=1\n",
    "    majority_key = max(s, key=s.get)\n",
    "    return majority_key"
   ]
  },
  {
   "cell_type": "code",
   "execution_count": 24,
   "id": "97c968fc-d97b-4236-a87d-afa2a8772dd2",
   "metadata": {},
   "outputs": [],
   "source": [
    "def maj(a):\n",
    "    return Counter(a).most_common()[0][0]\n",
    "    #c=b.most_common()\n",
    "    #return b"
   ]
  },
  {
   "cell_type": "code",
   "execution_count": 25,
   "id": "fb9c427c-7043-44b5-9b2f-a15c65da759e",
   "metadata": {},
   "outputs": [
    {
     "data": {
      "text/plain": [
       "2"
      ]
     },
     "execution_count": 25,
     "metadata": {},
     "output_type": "execute_result"
    }
   ],
   "source": [
    "maj([2,2,1,1,1,2,2,5,5,54,54,54,54])"
   ]
  },
  {
   "cell_type": "code",
   "execution_count": 47,
   "id": "771a9a1f-1ff8-4212-9062-837cdacd6226",
   "metadata": {},
   "outputs": [
    {
     "name": "stdout",
     "output_type": "stream",
     "text": [
      "{'a': 1, 'b': 2, 'c': 3, 'd': 4, 'e': 5, 'f': 6, 'g': 7, 'h': 8, 'i': 9, 'j': 10, 'k': 11, 'l': 12, 'm': 13, 'n': 14, 'o': 15, 'p': 16, 'q': 17, 'r': 18, 's': 19, 't': 20, 'u': 21, 'v': 22, 'w': 23, 'x': 24, 'y': 25, 'z': 26}\n"
     ]
    }
   ],
   "source": [
    "num=[]\n",
    "for i in range(1,27):\n",
    "    num.append(i)\n",
    "alp=['a','b','c','d','e','f','g','h','i','j','k','l','m','n','o','p','q','r','s','t','u','v','w','x','y','z']\n",
    "di=dict(zip(alp,num));print(di)\n",
    "def exsheet(a):\n",
    "    a=a[::-1]\n",
    "    a=str(a).lower()\n",
    "    d=0\n",
    "    for i in a:\n",
    "        w=\n",
    "    return w\n",
    "        \n",
    "        "
   ]
  },
  {
   "cell_type": "code",
   "execution_count": 60,
   "id": "46964198-ac72-4b53-be4e-c2cbd780552e",
   "metadata": {},
   "outputs": [
    {
     "name": "stdout",
     "output_type": "stream",
     "text": [
      "113\n"
     ]
    }
   ],
   "source": [
    "print(ord('q'))"
   ]
  },
  {
   "cell_type": "code",
   "execution_count": 56,
   "id": "0635c526-f6ca-4917-852a-4751d09304a8",
   "metadata": {},
   "outputs": [
    {
     "data": {
      "text/plain": [
       "891"
      ]
     },
     "execution_count": 56,
     "metadata": {},
     "output_type": "execute_result"
    }
   ],
   "source": [
    "titleToNumber('aa')"
   ]
  },
  {
   "cell_type": "code",
   "execution_count": 66,
   "id": "2b86f882-4209-4036-910c-6bf93a356d63",
   "metadata": {},
   "outputs": [],
   "source": [
    "def title_to_number(columnTitle: str) -> int:\n",
    "    n = len(columnTitle)\n",
    "    column_number = 0\n",
    "    \n",
    "    for i in range(n):\n",
    "        column_number += 26 ** (n - i - 1) * (ord(columnTitle[i]) - 64)\n",
    "    \n",
    "    return column_number\n"
   ]
  },
  {
   "cell_type": "code",
   "execution_count": 67,
   "id": "4073e47f-0ad8-4a13-8c41-5f91899ffdf1",
   "metadata": {},
   "outputs": [
    {
     "data": {
      "text/plain": [
       "33"
      ]
     },
     "execution_count": 67,
     "metadata": {},
     "output_type": "execute_result"
    }
   ],
   "source": [
    "title_to_number('a')"
   ]
  },
  {
   "cell_type": "code",
   "execution_count": 73,
   "id": "1f321552-33fe-499d-be98-828de37e7ae6",
   "metadata": {},
   "outputs": [],
   "source": [
    "def titleToNumber(columnTitle):\n",
    "    result = 0\n",
    "    for i in range(len(columnTitle)):\n",
    "        result += (ord(columnTitle[len(columnTitle) - 1 - i]) - ord('A') + 1) * (26 ** i)\n",
    "    return result"
   ]
  },
  {
   "cell_type": "code",
   "execution_count": 75,
   "id": "28af92ca-1914-4e59-9b55-bb53fe28c716",
   "metadata": {},
   "outputs": [
    {
     "data": {
      "text/plain": [
       "33"
      ]
     },
     "execution_count": 75,
     "metadata": {},
     "output_type": "execute_result"
    }
   ],
   "source": [
    "titleToNumber('a')"
   ]
  },
  {
   "cell_type": "code",
   "execution_count": 7,
   "id": "ac03fc0a-1a47-4dea-9ee6-b93698ef0d6a",
   "metadata": {},
   "outputs": [
    {
     "name": "stdout",
     "output_type": "stream",
     "text": [
      "2432902008176640000\n",
      "7 is the available zeros\n"
     ]
    }
   ],
   "source": [
    "import math\n",
    "a=20\n",
    "'''#s=1\n",
    "for i in range(2,a+1):\n",
    "    s=s*i+1;print(s)\n",
    "print(s)'''\n",
    "    \n",
    "\n",
    "b=math.factorial(a)\n",
    "c=[int(i) for i in str(b)];c1=''.join(map(str,c));\n",
    "print(c1)\n",
    "res=c.count(0)#;print(res)\n",
    "print('{} is the available zeros'.format(res))\n",
    "    \n",
    "   "
   ]
  },
  {
   "cell_type": "code",
   "execution_count": 157,
   "id": "55957da1-8b7c-401c-b4a7-1a2ba47810a7",
   "metadata": {},
   "outputs": [],
   "source": [
    "def trailingZeroes(n):\n",
    "    count=0\n",
    "    while n>=5:\n",
    "        n//=5\n",
    "        print(n)\n",
    "        count+=n\n",
    "    return count"
   ]
  },
  {
   "cell_type": "code",
   "execution_count": 158,
   "id": "ebb8edc2-55d6-4419-ad05-73d49dad837e",
   "metadata": {},
   "outputs": [
    {
     "name": "stdout",
     "output_type": "stream",
     "text": [
      "4\n"
     ]
    },
    {
     "data": {
      "text/plain": [
       "4"
      ]
     },
     "execution_count": 158,
     "metadata": {},
     "output_type": "execute_result"
    }
   ],
   "source": [
    "trailingZeroes(20)"
   ]
  },
  {
   "cell_type": "code",
   "execution_count": 7,
   "id": "7abae11c-bc9b-418b-9b76-8c40c7e2d062",
   "metadata": {},
   "outputs": [],
   "source": [
    "import math\n",
    "def fact(a):\n",
    "    fv=math.factorial(a);print(fv)\n",
    "    l=[int(i) for i in str(fv)];print(l)\n",
    "    c=0\n",
    "    for i in l[::-1]:\n",
    "        if i!=0:\n",
    "            break\n",
    "        else:\n",
    "            c=c+1\n",
    "    return c"
   ]
  },
  {
   "cell_type": "code",
   "execution_count": 8,
   "id": "34bcd565-b445-4762-863c-b85684c5d535",
   "metadata": {},
   "outputs": [
    {
     "name": "stdout",
     "output_type": "stream",
     "text": [
      "2432902008176640000\n",
      "[2, 4, 3, 2, 9, 0, 2, 0, 0, 8, 1, 7, 6, 6, 4, 0, 0, 0, 0]\n"
     ]
    },
    {
     "data": {
      "text/plain": [
       "4"
      ]
     },
     "execution_count": 8,
     "metadata": {},
     "output_type": "execute_result"
    }
   ],
   "source": [
    "fact(20)"
   ]
  },
  {
   "cell_type": "code",
   "execution_count": 133,
   "id": "155c58c4-0146-48a3-8efc-a67bbef0ac22",
   "metadata": {},
   "outputs": [],
   "source": [
    "def val(a,k):\n",
    "    l=[a.count(i) for i in a];print(l)\n",
    "    l=sorted(l);print(l)\n",
    "    for i in l[:k]:\n",
    "        l.remove(i)\n",
    "    res=set(l)\n",
    "    return(len(res))    \n",
    "        \n",
    "    #return l"
   ]
  },
  {
   "cell_type": "code",
   "execution_count": 136,
   "id": "bb701fb9-d75e-4d36-9441-d2241581abee",
   "metadata": {},
   "outputs": [
    {
     "name": "stdout",
     "output_type": "stream",
     "text": [
      "[1, 1, 2, 1, 2, 1, 2, 2]\n",
      "[1, 1, 1, 1, 2, 2, 2, 2]\n"
     ]
    },
    {
     "data": {
      "text/plain": [
       "2"
      ]
     },
     "execution_count": 136,
     "metadata": {},
     "output_type": "execute_result"
    }
   ],
   "source": [
    "val([2,4,1,8,3,5,1,3],3)"
   ]
  },
  {
   "cell_type": "code",
   "execution_count": 74,
   "id": "d9a7e042-22cd-4d6d-a641-5e139fd36f75",
   "metadata": {},
   "outputs": [
    {
     "name": "stdout",
     "output_type": "stream",
     "text": [
      "[1, 2, 2, 3, 3, 3]\n"
     ]
    }
   ],
   "source": [
    "print(l.remove(min(sorted([3, 2, 2, 3, 3, 1]))"
   ]
  },
  {
   "cell_type": "code",
   "execution_count": 156,
   "id": "6e054961-42ab-42d3-b5b6-14cee8e2d76b",
   "metadata": {},
   "outputs": [],
   "source": [
    "from collections import Counter\n",
    "def fac1(arr,k):\n",
    "        c = Counter(arr)\n",
    "        s = sorted(arr,key = lambda x:(c[x],x));print(s)\n",
    "        return len(set(s[k:]))"
   ]
  },
  {
   "cell_type": "code",
   "execution_count": 157,
   "id": "6313fc2c-a64d-479f-b10d-db701ea1a831",
   "metadata": {},
   "outputs": [
    {
     "name": "stdout",
     "output_type": "stream",
     "text": [
      "[2, 4, 1, 1, 3, 3, 3]\n"
     ]
    },
    {
     "data": {
      "text/plain": [
       "2"
      ]
     },
     "execution_count": 157,
     "metadata": {},
     "output_type": "execute_result"
    }
   ],
   "source": [
    "fac1([4,3,1,1,3,3,2],3)"
   ]
  },
  {
   "cell_type": "code",
   "execution_count": 176,
   "id": "33916291-0179-4300-92dd-b9343f5735a2",
   "metadata": {},
   "outputs": [
    {
     "name": "stdout",
     "output_type": "stream",
     "text": [
      "Counter({3: 3, 1: 2, 4: 1, 2: 1})\n"
     ]
    }
   ],
   "source": [
    "a=[4,3,1,1,3,3,2]\n",
    "c=Counter(a);print(c)"
   ]
  },
  {
   "cell_type": "code",
   "execution_count": 179,
   "id": "79cd2a68-09d4-4a91-a077-d041277ee600",
   "metadata": {},
   "outputs": [],
   "source": [
    "a=[1,1,4,2,3];k=5;v=0;i=0;j=len(a)-1\n",
    "if k<a[i] and k<a[j]:\n",
    "    v=k-max(a[i],a[j])\n",
    "    print(v)\n",
    "        "
   ]
  },
  {
   "cell_type": "code",
   "execution_count": 160,
   "id": "7153c22e-f6d5-4c52-baa2-5f2cbb3e5fa3",
   "metadata": {},
   "outputs": [
    {
     "name": "stdout",
     "output_type": "stream",
     "text": [
      "1\n",
      "5\n",
      "2\n",
      "4\n",
      "3\n",
      "3\n"
     ]
    }
   ],
   "source": [
    "def read_from_both_sides(lst):\n",
    "    left = 0  # Left pointer starting from the beginning of the list\n",
    "    right = len(lst) - 1  # Right pointer starting from the end of the list\n",
    "\n",
    "    while left <= right:\n",
    "        # Read elements from both ends of the list simultaneously\n",
    "        print(lst[left])  # Read element using left pointer\n",
    "        print(lst[right])  # Read element using right pointer\n",
    "        \n",
    "        # Move the pointers towards each other\n",
    "        left += 1\n",
    "        right -= 1\n",
    "\n",
    "# Example list\n",
    "my_list = [1, 2, 3, 4, 5]\n",
    "\n",
    "# Read elements from both ends of the list simultaneously\n",
    "read_from_both_sides(my_list)\n"
   ]
  },
  {
   "cell_type": "code",
   "execution_count": 208,
   "id": "d21fe1d1-986c-445c-8292-e4f7896ff5dd",
   "metadata": {},
   "outputs": [
    {
     "name": "stdout",
     "output_type": "stream",
     "text": [
      "3\n",
      "[2, 20, 1, 1, 3]\n",
      "3\n",
      "[2, 20, 1, 1]\n",
      "1\n",
      "[2, 20, 1]\n"
     ]
    },
    {
     "ename": "IndexError",
     "evalue": "list index out of range",
     "output_type": "error",
     "traceback": [
      "\u001b[1;31m---------------------------------------------------------------------------\u001b[0m",
      "\u001b[1;31mIndexError\u001b[0m                                Traceback (most recent call last)",
      "Cell \u001b[1;32mIn[208], line 5\u001b[0m\n\u001b[0;32m      3\u001b[0m c\u001b[38;5;241m=\u001b[39mb\u001b[38;5;241m-\u001b[39m\u001b[38;5;241m10\u001b[39m\u001b[38;5;66;03m#;print(c)\u001b[39;00m\n\u001b[0;32m      4\u001b[0m \u001b[38;5;28;01mfor\u001b[39;00m i \u001b[38;5;129;01min\u001b[39;00m \u001b[38;5;28mrange\u001b[39m(\u001b[38;5;28mlen\u001b[39m(a)\u001b[38;5;241m-\u001b[39m\u001b[38;5;241m1\u001b[39m):\n\u001b[1;32m----> 5\u001b[0m     \u001b[38;5;28;01mif\u001b[39;00m \u001b[43ma\u001b[49m\u001b[43m[\u001b[49m\u001b[43mi\u001b[49m\u001b[43m]\u001b[49m\u001b[38;5;241m+\u001b[39ma[\u001b[38;5;241m-\u001b[39mi]\u001b[38;5;241m!=\u001b[39mc:\n\u001b[0;32m      6\u001b[0m         s\u001b[38;5;241m=\u001b[39m\u001b[38;5;28mmin\u001b[39m(a[i],a[\u001b[38;5;241m-\u001b[39mi]);\u001b[38;5;28mprint\u001b[39m(s)\n\u001b[0;32m      7\u001b[0m         a\u001b[38;5;241m.\u001b[39mremove(s);\u001b[38;5;28mprint\u001b[39m(a)\n",
      "\u001b[1;31mIndexError\u001b[0m: list index out of range"
     ]
    }
   ],
   "source": [
    "a = [3,2,20,1,1,3]\n",
    "b=sum(a);co=0\n",
    "c=b-10#;print(c)\n",
    "for i in range(len(a)-1):\n",
    "    if a[i]+a[-i]!=c:\n",
    "        s=min(a[i],a[-i]);print(s)\n",
    "        a.remove(s);print(a)\n",
    "        co=co+1#;print(co)\n",
    "        i=i-1\n",
    "#print(co)"
   ]
  },
  {
   "cell_type": "code",
   "execution_count": 210,
   "id": "cc85f246-6761-43fb-bc6e-9b611853a574",
   "metadata": {},
   "outputs": [
    {
     "name": "stderr",
     "output_type": "stream",
     "text": [
      "\n",
      "KeyboardInterrupt\n",
      "\n"
     ]
    }
   ],
   "source": [
    "l=['abhi','shek']\n",
    "for i in l:\n",
    "    l.append(i.upper())\n",
    "print(l)"
   ]
  },
  {
   "cell_type": "code",
   "execution_count": null,
   "id": "babd104b-ea81-4e55-b259-7f60714e5811",
   "metadata": {},
   "outputs": [],
   "source": []
  },
  {
   "cell_type": "code",
   "execution_count": null,
   "id": "2fa48036-42e4-48c8-a267-91d9e1def974",
   "metadata": {},
   "outputs": [],
   "source": []
  }
 ],
 "metadata": {
  "kernelspec": {
   "display_name": "Python 3 (ipykernel)",
   "language": "python",
   "name": "python3"
  },
  "language_info": {
   "codemirror_mode": {
    "name": "ipython",
    "version": 3
   },
   "file_extension": ".py",
   "mimetype": "text/x-python",
   "name": "python",
   "nbconvert_exporter": "python",
   "pygments_lexer": "ipython3",
   "version": "3.11.5"
  }
 },
 "nbformat": 4,
 "nbformat_minor": 5
}
