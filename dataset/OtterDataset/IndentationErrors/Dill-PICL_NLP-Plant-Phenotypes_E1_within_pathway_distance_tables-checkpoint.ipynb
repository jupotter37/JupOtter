{
 "cells": [
  {
   "cell_type": "code",
   "execution_count": 1,
   "metadata": {},
   "outputs": [],
   "source": [
    "#!/usr/bin/env python\n",
    "# coding: utf-8"
   ]
  },
  {
   "cell_type": "code",
   "execution_count": 2,
   "metadata": {},
   "outputs": [],
   "source": [
    "from pathlib import Path\n",
    "import pandas as pd\n",
    "import random\n",
    "import os\n",
    "import sys\n",
    "import datetime\n",
    "import glob\n",
    "import subprocess\n",
    "import math"
   ]
  },
  {
   "cell_type": "markdown",
   "metadata": {},
   "source": [
    "Read in the file that maps names used internally to names used in figures."
   ]
  },
  {
   "cell_type": "code",
   "execution_count": 3,
   "metadata": {},
   "outputs": [],
   "source": [
    "naming_dataframe_path = \"/work/triffid/prasanth/reorganizing-irb-scripts/plant-phenotypes-nlp/names.tsv\"\n",
    "name_df = pd.read_csv(naming_dataframe_path, sep=\"\\t\")\n",
    "name_to_display_name = dict(zip(name_df[\"name_in_notebook\"].values, name_df[\"name\"]))\n",
    "name_to_order = dict(zip(name_df[\"name_in_notebook\"].values, name_df[\"order\"]))\n",
    "name_to_class = dict(zip(name_df[\"name_in_notebook\"].values, name_df[\"class\"]))"
   ]
  },
  {
   "cell_type": "markdown",
   "metadata": {},
   "source": [
    "Input paths from a specific output directory from running the analysis pipeline.<br>\n",
    "input_paths = [<br>\n",
    "\t\"/Users/irbraun/phenologs-with-oats/outputs/stacked_01_19_2021_h13m44s23_5388_plants/stacked_all_pmn_only_within_distances_melted.csv\",<br>\n",
    "\t\"/Users/irbraun/phenologs-with-oats/outputs/stacked_01_19_2021_h13m44s23_5388_plants/stacked_all_kegg_only_within_distances_melted.csv\",<br>\n",
    "\t\"/Users/irbraun/phenologs-with-oats/outputs/stacked_01_19_2021_h13m44s23_5388_plants/stacked_all_subsets_within_distances_melted.csv\",<br>\n",
    "\t\"/Users/irbraun/phenologs-with-oats/outputs/stacked_01_19_2021_h13m44s23_5388_plants/stacked_curated_pmn_only_within_distances_melted.csv\",<br>\n",
    "\t\"/Users/irbraun/phenologs-with-oats/outputs/stacked_01_19_2021_h13m44s23_5388_plants/stacked_curated_kegg_only_within_distances_melted.csv\",<br>\n",
    "\t\"/Users/irbraun/phenologs-with-oats/outputs/stacked_01_19_2021_h13m44s23_5388_plants/stacked_curated_subsets_within_distances_melted.csv\",<br>\n",
    "] "
   ]
  },
  {
   "cell_type": "code",
   "execution_count": 4,
   "metadata": {},
   "outputs": [],
   "source": [
    "input_paths = [\n",
    "\t\"/work/triffid/prasanth/reorganizing-irb-scripts/plant-phenotypes-nlp/outputs/stacked_03_21_2023_h06m41s18_2929/stacked_all_pmn_only_within_distances_melted.csv\",\n",
    "\t\"/work/triffid/prasanth/reorganizing-irb-scripts/plant-phenotypes-nlp/outputs/stacked_03_21_2023_h06m41s18_2929/stacked_all_kegg_only_within_distances_melted.csv\",\n",
    "\t\"/work/triffid/prasanth/reorganizing-irb-scripts/plant-phenotypes-nlp/outputs/stacked_03_21_2023_h06m41s18_2929/stacked_all_subsets_within_distances_melted.csv\",\n",
    "\t\"/work/triffid/prasanth/reorganizing-irb-scripts/plant-phenotypes-nlp/outputs/stacked_03_21_2023_h06m41s18_2929/stacked_curated_pmn_only_within_distances_melted.csv\",\n",
    "\t\"/work/triffid/prasanth/reorganizing-irb-scripts/plant-phenotypes-nlp/outputs/stacked_03_21_2023_h06m41s18_2929/stacked_curated_kegg_only_within_distances_melted.csv\",\n",
    "\t\"/work/triffid/prasanth/reorganizing-irb-scripts/plant-phenotypes-nlp/outputs/stacked_03_21_2023_h06m41s18_2929/stacked_curated_subsets_within_distances_melted.csv\",\n",
    "]"
   ]
  },
  {
   "cell_type": "markdown",
   "metadata": {},
   "source": [
    "Input paths from a specific output directory from running the analysis pipeline.<br>\n",
    "lantcyc_pathways_cohesion_path = \"/Users/irbraun/phenologs-with-oats/outputs/stacked_10_31_2020_h23m05s45_6169_plants/stacked_pmn_only_within_distances_melted.csv\"<br>\n",
    "henotype_subsets_cohesion_path = \"/Users/irbraun/phenologs-with-oats/outputs/stacked_10_31_2020_h23m05s45_6169_plants/stacked_subsets_within_distances_melted.csv\""
   ]
  },
  {
   "cell_type": "markdown",
   "metadata": {},
   "source": [
    "Output paths, figure out where to put these.<br>\n",
    "utput_path_plantcyc_pathways = \"/Users/irbraun/phenologs-with-oats/outputs/plantcyc_pathways_cohesion_info.csv\"<br>\n",
    "utput_path_phenotype_subsets = \"/Users/irbraun/phenologs-with-oats/outputs/phenotype_subsets_cohesion_info.csv\""
   ]
  },
  {
   "cell_type": "markdown",
   "metadata": {},
   "source": [
    "Create and name an output directory according to when the notebooks was run and then create the paths for output files to put there.<br>\n",
    "UTPUT_NAME = \"within\"<br>\n",
    "UTPUT_DIR = os.path.join(\"../outputs\",\"{}_{}_{}\".format(OUTPUT_NAME,datetime.datetime.now().strftime('%m_%d_%Y_h%Hm%Ms%S'),random.randrange(1000,9999)))<br>\n",
    "s.mkdir(OUTPUT_DIR)<br>\n",
    "utput_path_plantcyc_pathways = os.path.join(OUTPUT_DIR,\"plantcyc_pathways_cohesion_info.csv\")<br>\n",
    "utput_path_phenotype_subsets = os.path.join(OUTPUT_DIR,\"phenotype_subsets_cohesion_info.csv\")"
   ]
  },
  {
   "cell_type": "code",
   "execution_count": 8,
   "metadata": {},
   "outputs": [
    {
     "ename": "IndentationError",
     "evalue": "unindent does not match any outer indentation level (<tokenize>, line 17)",
     "output_type": "error",
     "traceback": [
      "\u001b[0;36m  File \u001b[0;32m\"<tokenize>\"\u001b[0;36m, line \u001b[0;32m17\u001b[0m\n\u001b[0;31m    print(output_path)\u001b[0m\n\u001b[0m    ^\u001b[0m\n\u001b[0;31mIndentationError\u001b[0m\u001b[0;31m:\u001b[0m unindent does not match any outer indentation level\n"
     ]
    }
   ],
   "source": [
    "for input_path in input_paths:\n",
    "\t# Produce a table indicating how many of the biochemical pathways had significant cohesion values.\n",
    "\t# Working with the path.\n",
    "\tbasename_without_extension = os.path.basename(input_path).split(\".\")[0]\n",
    "\tdirname = os.path.dirname(input_path)\n",
    "\toutput_path = os.path.join(dirname, \"{}_renamed.csv\".format(basename_without_extension))\n",
    "\t# Working with the column subsets.\n",
    "\tdf = pd.read_csv(input_path)\n",
    "\tdf[\"name\"] = df[\"approach\"].map(name_to_display_name)\n",
    "\tdf[\"order\"] = df[\"approach\"].map(name_to_order)\n",
    "\tdf[\"class\"] = df[\"approach\"].map(name_to_class)\n",
    "\tdf.drop_duplicates(subset=[\"order\"], keep=\"first\", inplace=True)\n",
    "\tdf = df[[\"order\",\"name\",\"class\",\"number_of_groups\",\"fraction_significant\"]]\n",
    "\tdf[\"fraction_significant\"] = df[\"fraction_significant\"].map(lambda x:round(x,3))\n",
    "\tdf.sort_values(by=\"order\", inplace=True)\n",
    "\tdf.to_csv(output_path, index=False)\n",
    "    print(output_path)"
   ]
  },
  {
   "cell_type": "code",
   "execution_count": 6,
   "metadata": {},
   "outputs": [
    {
     "name": "stdout",
     "output_type": "stream",
     "text": [
      "done\n"
     ]
    }
   ],
   "source": [
    "print(\"done\")"
   ]
  },
  {
   "cell_type": "code",
   "execution_count": null,
   "metadata": {},
   "outputs": [],
   "source": []
  }
 ],
 "metadata": {
  "kernelspec": {
   "display_name": "Python 3",
   "language": "python",
   "name": "python3"
  },
  "language_info": {
   "codemirror_mode": {
    "name": "ipython",
    "version": 3
   },
   "file_extension": ".py",
   "mimetype": "text/x-python",
   "name": "python",
   "nbconvert_exporter": "python",
   "pygments_lexer": "ipython3",
   "version": "3.6.13"
  }
 },
 "nbformat": 4,
 "nbformat_minor": 2
}
