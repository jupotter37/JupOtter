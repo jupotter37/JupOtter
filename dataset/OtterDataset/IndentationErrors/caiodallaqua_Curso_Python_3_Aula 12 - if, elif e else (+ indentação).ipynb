{
 "cells": [
  {
   "cell_type": "markdown",
   "metadata": {},
   "source": [
    "# Curso Python 3 | Aula 12 - if, elif e else (+ indentação) - Caio na Aula"
   ]
  },
  {
   "cell_type": "markdown",
   "metadata": {
    "collapsed": true
   },
   "source": [
    "Antes de tudo, [inscreva-se](https://www.youtube.com/channel/UCLEQMN2aaUD9VfBVPxG0IOg)!\n",
    "\n",
    "Sumário:\n",
    "- 0 - [Introdução](#0---Introdução)\n",
    "- 1 - [Decisão com if](#1---Decisão-com-if)\n",
    "- 2 - [Elif](#2---Elif)\n",
    "- 3 - [Else](#3---Else)\n",
    "- 4 - [If dentro de if](#4---If-dentro-de-if)\n",
    "- 5 - [Indentação](#5---Indentação)"
   ]
  },
  {
   "cell_type": "markdown",
   "metadata": {},
   "source": [
    "## 0 - Introdução"
   ]
  },
  {
   "cell_type": "markdown",
   "metadata": {},
   "source": [
    "As estruturas de decisão são extremamente importantes em computação.\n",
    "\n",
    "Elas permitem que seu código se adeque a situações previstas.\n",
    "\n",
    "<pre><b>Se</b> isso acontecer, execute esse código.\n",
    "\n",
    "<b>Senão</b>, execute aquele.</pre>\n",
    "\n",
    "Em Python, fazemos essas coisas com o if e sua extensão (elif, else)."
   ]
  },
  {
   "cell_type": "markdown",
   "metadata": {},
   "source": [
    "## 1 - Decisão com if"
   ]
  },
  {
   "cell_type": "markdown",
   "metadata": {},
   "source": [
    "A sintaxe do if é a seguinte:\n",
    "\n",
    "if <b>condição</b>:\n",
    "\n",
    "    instruções\n",
    "    \n",
    "Condição é uma expressão que retorna verdadeiro ou falso.\n",
    "\n",
    "Agora vamos a alguns exemplos, passando por números e Strings."
   ]
  },
  {
   "cell_type": "code",
   "execution_count": 1,
   "metadata": {
    "collapsed": false
   },
   "outputs": [
    {
     "name": "stdout",
     "output_type": "stream",
     "text": [
      "entrou!\n"
     ]
    }
   ],
   "source": [
    "n = 10\n",
    "if n == 10:\n",
    "    print('entrou!')"
   ]
  },
  {
   "cell_type": "markdown",
   "metadata": {},
   "source": [
    "Usando a conversão de int para String:"
   ]
  },
  {
   "cell_type": "code",
   "execution_count": 4,
   "metadata": {
    "collapsed": false
   },
   "outputs": [
    {
     "name": "stdout",
     "output_type": "stream",
     "text": [
      "entrou!\n"
     ]
    }
   ],
   "source": [
    "if str(n) == '10':\n",
    "    print('entrou!')"
   ]
  },
  {
   "cell_type": "markdown",
   "metadata": {},
   "source": [
    "Também podemos testar !=, <, >, <= e >=. \n",
    "\n",
    "Já aproveitamos pra revisar os operadores lógicos."
   ]
  },
  {
   "cell_type": "code",
   "execution_count": 7,
   "metadata": {
    "collapsed": false
   },
   "outputs": [
    {
     "name": "stdout",
     "output_type": "stream",
     "text": [
      "entrou!\n"
     ]
    }
   ],
   "source": [
    "if n != 11 or n < 10 or n > 14:\n",
    "    print('entrou!')"
   ]
  },
  {
   "cell_type": "code",
   "execution_count": 11,
   "metadata": {
    "collapsed": false,
    "scrolled": true
   },
   "outputs": [
    {
     "name": "stdout",
     "output_type": "stream",
     "text": [
      "entrou!\n"
     ]
    }
   ],
   "source": [
    "if n >= 10 and n <= 11:\n",
    "    print('entrou!')"
   ]
  },
  {
   "cell_type": "markdown",
   "metadata": {},
   "source": [
    "## 2 - Elif"
   ]
  },
  {
   "cell_type": "markdown",
   "metadata": {},
   "source": [
    "Se não entrar no if, você pode fazer outros testes com elif."
   ]
  },
  {
   "cell_type": "code",
   "execution_count": 1,
   "metadata": {
    "collapsed": false
   },
   "outputs": [
    {
     "name": "stdout",
     "output_type": "stream",
     "text": [
      "n == 2\n"
     ]
    }
   ],
   "source": [
    "n = 2\n",
    "if n > 3:\n",
    "    print('n > 3')\n",
    "elif n == 2:\n",
    "    print('n == 2')"
   ]
  },
  {
   "cell_type": "markdown",
   "metadata": {},
   "source": [
    "Além de não entrar no if, tem que passar no teste do elif pra entrar nele.\n",
    "\n",
    "Você pode por quantos elifs quiser..."
   ]
  },
  {
   "cell_type": "code",
   "execution_count": 2,
   "metadata": {
    "collapsed": false
   },
   "outputs": [
    {
     "name": "stdout",
     "output_type": "stream",
     "text": [
      "n == 3\n"
     ]
    }
   ],
   "source": [
    "n = 3\n",
    "if n == 1:\n",
    "    print('n == 1')\n",
    "elif n == 2:\n",
    "    print('n == 2')\n",
    "elif n == 3:\n",
    "    print('n == 3')\n",
    "elif n == 4:\n",
    "    print('n == 4')"
   ]
  },
  {
   "cell_type": "markdown",
   "metadata": {},
   "source": [
    "## 3 - Else"
   ]
  },
  {
   "cell_type": "markdown",
   "metadata": {},
   "source": [
    "Pra executar um código quando ele não satisfaz o if e os elifs, usamos o else."
   ]
  },
  {
   "cell_type": "code",
   "execution_count": 4,
   "metadata": {
    "collapsed": false
   },
   "outputs": [
    {
     "name": "stdout",
     "output_type": "stream",
     "text": [
      "n não é 1, 2, 3 ou 4...\n"
     ]
    }
   ],
   "source": [
    "n = 0\n",
    "if n == 1:\n",
    "    print('n == 1')\n",
    "elif n == 2:\n",
    "    print('n == 2')\n",
    "elif n == 3:\n",
    "    print('n == 3')\n",
    "elif n == 4:\n",
    "    print('n == 4')\n",
    "else:\n",
    "    print('n não é 1, 2, 3 ou 4...')"
   ]
  },
  {
   "cell_type": "markdown",
   "metadata": {},
   "source": [
    "Em situações binárias, o elif pode ser omitido, só ficando if e else."
   ]
  },
  {
   "cell_type": "code",
   "execution_count": 6,
   "metadata": {
    "collapsed": false
   },
   "outputs": [
    {
     "name": "stdout",
     "output_type": "stream",
     "text": [
      "n < 0\n"
     ]
    }
   ],
   "source": [
    "n = -3\n",
    "if n >= 0:\n",
    "    print('n >= 0')\n",
    "else:\n",
    "    print('n < 0')"
   ]
  },
  {
   "cell_type": "markdown",
   "metadata": {},
   "source": [
    "## 4 - If dentro de if"
   ]
  },
  {
   "cell_type": "markdown",
   "metadata": {},
   "source": [
    "Você pode por quantos comandos quiser dentro do if, do elif ou do else.\n",
    "\n",
    "Inclusive, podemos por outros ifs."
   ]
  },
  {
   "cell_type": "code",
   "execution_count": 10,
   "metadata": {
    "collapsed": false
   },
   "outputs": [
    {
     "name": "stdout",
     "output_type": "stream",
     "text": [
      "idade > 21\n",
      "Bem vinda!\n"
     ]
    }
   ],
   "source": [
    "idade = 25\n",
    "sexo = 'f'\n",
    "if idade > 21:\n",
    "    print('idade > 21')\n",
    "    if sexo == 'f':\n",
    "        print('Bem vinda!')\n",
    "    else:\n",
    "        print('Bem vindo!')"
   ]
  },
  {
   "cell_type": "markdown",
   "metadata": {},
   "source": [
    "O else (ou elif) sempra vai estar ligado ao primeiro if acima.\n",
    "\n",
    "Regra simples pra evitar ambiguidade."
   ]
  },
  {
   "cell_type": "markdown",
   "metadata": {},
   "source": [
    "## 5 - Indentação"
   ]
  },
  {
   "cell_type": "code",
   "execution_count": 12,
   "metadata": {
    "collapsed": false
   },
   "outputs": [
    {
     "name": "stdout",
     "output_type": "stream",
     "text": [
      "1 == 1\n"
     ]
    }
   ],
   "source": [
    "if 1 == 1:\n",
    "    print('1 == 1')"
   ]
  },
  {
   "cell_type": "markdown",
   "metadata": {},
   "source": [
    "Repare que no código acima o print não está alinhado com o if.\n",
    "\n",
    "Isso significa, em Python, que o print está dentro da estrutura if.\n",
    "\n",
    "Chamamos de indentação o espaço que diz ao Python qual estrutura está dentro de qual.\n",
    "\n",
    "<pre><pre><pre>Indentação: <b>espaço entre a margem e o início do texto num parágrafo.</b></pre></pre></pre>"
   ]
  },
  {
   "cell_type": "markdown",
   "metadata": {},
   "source": [
    "A indentação torna o código mais legível e é uma boa prática de programação.\n",
    "\n",
    "Python força que ela seja usada em comandos dentro de estruturas.\n",
    "\n",
    "Se você não usar, ele aponta um erro."
   ]
  },
  {
   "cell_type": "code",
   "execution_count": 13,
   "metadata": {
    "collapsed": false
   },
   "outputs": [
    {
     "ename": "IndentationError",
     "evalue": "expected an indented block (<ipython-input-13-2344b755a570>, line 2)",
     "output_type": "error",
     "traceback": [
      "\u001b[1;36m  File \u001b[1;32m\"<ipython-input-13-2344b755a570>\"\u001b[1;36m, line \u001b[1;32m2\u001b[0m\n\u001b[1;33m    print('1 == 1')\u001b[0m\n\u001b[1;37m        ^\u001b[0m\n\u001b[1;31mIndentationError\u001b[0m\u001b[1;31m:\u001b[0m expected an indented block\n"
     ]
    }
   ],
   "source": [
    "if 1 == 1:\n",
    "print('1 == 1')"
   ]
  },
  {
   "cell_type": "markdown",
   "metadata": {},
   "source": [
    "No Jupyter a indentação não é um problema, pois ela é automática.\n",
    "\n",
    "É bom saber que Python se preocupa com isso pra quando for escrever códigos em outros editores."
   ]
  },
  {
   "cell_type": "markdown",
   "metadata": {},
   "source": [
    " "
   ]
  },
  {
   "cell_type": "markdown",
   "metadata": {},
   "source": [
    " "
   ]
  },
  {
   "cell_type": "markdown",
   "metadata": {},
   "source": [
    " "
   ]
  },
  {
   "cell_type": "markdown",
   "metadata": {},
   "source": [
    "Se esse material te ajudou, retribua compartilhando com seus amigos!\n",
    "\n",
    "Nos vemos na [próxima aula](https://www.youtube.com/playlist?list=PLnHC9X5I2m1_BHFb8rS950nCZXpua3Dj3)!"
   ]
  }
 ],
 "metadata": {
  "kernelspec": {
   "display_name": "Python 3",
   "language": "python",
   "name": "python3"
  },
  "language_info": {
   "codemirror_mode": {
    "name": "ipython",
    "version": 3
   },
   "file_extension": ".py",
   "mimetype": "text/x-python",
   "name": "python",
   "nbconvert_exporter": "python",
   "pygments_lexer": "ipython3",
   "version": "3.5.1"
  }
 },
 "nbformat": 4,
 "nbformat_minor": 0
}
