{
 "cells": [
  {
   "cell_type": "markdown",
   "metadata": {},
   "source": [
    "# Smile Detection\n",
    "\n",
    "My intentions for this notebook is to use it as a starting point for future computer vision projects.  \n",
    "\n",
    "In fact, the purpose of this notebook isn't to use 10 lines of code to get some good results. Simply throwing blindly images to a convNet and get 90% accuracy. What I want to do is really understand the data, understand the model and avoir making mistakes.   \n",
    "\n",
    "If you are looking for an interesting read, I suggest to look at [this link](https://karpathy.github.io/2019/04/25/recipe/).\n",
    "\n",
    "# Get to know the data\n",
    "\n",
    "The goal wil be to classify images for detecting if the person is smiling or not (binary classification).  \n",
    "\n",
    "The data comes from LFWcrop and is available [here](http://conradsanderson.id.au/lfwcrop/).\n",
    "\n",
    "Lets take a look at them."
   ]
  },
  {
   "cell_type": "code",
   "execution_count": 113,
   "metadata": {},
   "outputs": [],
   "source": [
    "from keras.preprocessing import image\n",
    "import matplotlib.pyplot as plt\n",
    "import numpy as np"
   ]
  },
  {
   "cell_type": "code",
   "execution_count": 114,
   "metadata": {},
   "outputs": [],
   "source": [
    "from sklearn.model_selection import train_test_split, StratifiedKFold\n",
    "import keras\n",
    "from keras.models import Sequential, Model\n",
    "from keras.layers import Input, Flatten, Dense, Dropout, Convolution2D, Conv2D, MaxPooling2D, Lambda, GlobalMaxPooling2D, GlobalAveragePooling2D, BatchNormalization, Activation, AveragePooling2D, Concatenate\n",
    "from keras.preprocessing.image import ImageDataGenerator\n",
    "from keras.callbacks import EarlyStopping, ModelCheckpoint, ReduceLROnPlateau\n",
    "from keras.utils import np_utils"
   ]
  },
  {
   "cell_type": "code",
   "execution_count": 144,
   "metadata": {},
   "outputs": [],
   "source": [
    "import os\n",
    "\n",
    "smile_names = os.listdir('./SMILE_Dataset/train/smile')\n",
    "non_smile_names = os.listdir('./SMILE_Dataset/train/no_smile')"
   ]
  },
  {
   "cell_type": "code",
   "execution_count": 163,
   "metadata": {},
   "outputs": [],
   "source": [
    "labels = pd.read_csv('./SMILE_Dataset/annotations.csv', header=None, names=['fname','label'])"
   ]
  },
  {
   "cell_type": "code",
   "execution_count": 221,
   "metadata": {},
   "outputs": [],
   "source": [
    "?Image.open"
   ]
  },
  {
   "cell_type": "code",
   "execution_count": 223,
   "metadata": {},
   "outputs": [],
   "source": [
    "from PIL import Image\n",
    "\n",
    "x = np.array([np.array(Image.open('./SMILE_Dataset/all/'+fname)) for fname in labels['fname']])"
   ]
  },
  {
   "cell_type": "code",
   "execution_count": 227,
   "metadata": {},
   "outputs": [],
   "source": [
    "x2 = np.array([image.img_to_array(image.load_img('./SMILE_Dataset/all/'+fname, target_size=(64, 64))) for fname in labels['fname']])\n",
    "#x2 = image.img_to_array(image.load_img(img_src_name, target_size=(64, 64)))\n"
   ]
  },
  {
   "cell_type": "code",
   "execution_count": 234,
   "metadata": {},
   "outputs": [],
   "source": [
    "X_train, X_val, y_train, y_val = train_test_split(x2, labels, test_size=0.10, random_state = 10)"
   ]
  },
  {
   "cell_type": "code",
   "execution_count": 236,
   "metadata": {},
   "outputs": [
    {
     "data": {
      "text/plain": [
       "(360, 64, 64, 3)"
      ]
     },
     "execution_count": 236,
     "metadata": {},
     "output_type": "execute_result"
    }
   ],
   "source": [
    "#X_train = X_train.reshape(360, 193, 162, 1)\n",
    "\n",
    "#train_features = np.reshape(train_features, (320, 2 * 2 * 512))\n",
    "#X_train.shape"
   ]
  },
  {
   "cell_type": "code",
   "execution_count": 237,
   "metadata": {},
   "outputs": [],
   "source": [
    "datagen = ImageDataGenerator(\n",
    "        rescale=1./255,\n",
    "        featurewise_center=False,  # set input mean to 0 over the dataset\n",
    "        samplewise_center=False,  # set each sample mean to 0\n",
    "        featurewise_std_normalization=False,  # divide inputs by std of the dataset\n",
    "        samplewise_std_normalization=False,  # divide each input by its std\n",
    "        zca_whitening=False,  # apply ZCA whitening\n",
    "        rotation_range=10,  # randomly rotate images in the range (degrees, 0 to 180)\n",
    "        zoom_range = 0.1, # Randomly zoom image \n",
    "        width_shift_range=0.1,  # randomly shift images horizontally (fraction of total width)\n",
    "        height_shift_range=0.1,  # randomly shift images vertically (fraction of total height)\n",
    "        horizontal_flip=False,  # randomly flip images\n",
    "        vertical_flip=False)  # randomly flip images\n",
    "\n",
    "\n",
    "datagen.fit(X_train)"
   ]
  },
  {
   "cell_type": "code",
   "execution_count": 240,
   "metadata": {},
   "outputs": [],
   "source": [
    "from sklearn.preprocessing import OneHotEncoder, LabelEncoder\n",
    "\n",
    "label_encoder = LabelEncoder()\n",
    "integer_encoded = label_encoder.fit_transform(labels['label'][0:360])\n",
    "Y_train = integer_encoded\n",
    "#onehot_encoder = OneHotEncoder(sparse=False)\n",
    "#integer_encoded = integer_encoded.reshape(len(integer_encoded), 1)\n",
    "#Y_train = onehot_encoder.fit_transform(integer_encoded)"
   ]
  },
  {
   "cell_type": "code",
   "execution_count": 242,
   "metadata": {},
   "outputs": [
    {
     "name": "stdout",
     "output_type": "stream",
     "text": [
      "Epoch 1/5\n",
      " - 34s - loss: 0.7244 - acc: 0.5210 - val_loss: 32.7203 - val_acc: 0.5389\n",
      "Epoch 2/5\n",
      " - 34s - loss: 0.6923 - acc: 0.5443 - val_loss: 26.0783 - val_acc: 0.5556\n",
      "Epoch 3/5\n",
      " - 33s - loss: 0.6882 - acc: 0.5542 - val_loss: 25.5406 - val_acc: 0.5556\n",
      "Epoch 4/5\n",
      " - 33s - loss: 0.6879 - acc: 0.5574 - val_loss: 24.4233 - val_acc: 0.5556\n",
      "Epoch 5/5\n",
      " - 33s - loss: 0.6873 - acc: 0.5535 - val_loss: 24.3929 - val_acc: 0.5556\n"
     ]
    }
   ],
   "source": [
    "history = model.fit_generator(datagen.flow(X_train,Y_train, batch_size=20),\n",
    "                              epochs = 5, validation_data = (X_train,Y_train),\n",
    "                              verbose = 2, steps_per_epoch=X_train.shape[0]\n",
    "                              , callbacks=[learning_rate_reduction])"
   ]
  },
  {
   "cell_type": "code",
   "execution_count": null,
   "metadata": {},
   "outputs": [],
   "source": []
  },
  {
   "cell_type": "code",
   "execution_count": null,
   "metadata": {},
   "outputs": [],
   "source": []
  },
  {
   "cell_type": "code",
   "execution_count": null,
   "metadata": {},
   "outputs": [],
   "source": [
    "for i in range(10):\n",
    "    train = dummy[0+i*10:20+i*10]"
   ]
  },
  {
   "cell_type": "code",
   "execution_count": 14,
   "metadata": {},
   "outputs": [
    {
     "ename": "IndentationError",
     "evalue": "expected an indented block (<ipython-input-14-97655bbf667f>, line 6)",
     "output_type": "error",
     "traceback": [
      "\u001b[1;36m  File \u001b[1;32m\"<ipython-input-14-97655bbf667f>\"\u001b[1;36m, line \u001b[1;32m6\u001b[0m\n\u001b[1;33m    def create model():\u001b[0m\n\u001b[1;37m      ^\u001b[0m\n\u001b[1;31mIndentationError\u001b[0m\u001b[1;31m:\u001b[0m expected an indented block\n"
     ]
    }
   ],
   "source": [
    "from sklearn.model_selection import StratifiedKFold\n",
    "\n",
    "def load_data():\n",
    "    # load your data using this function\n",
    "\n",
    "def create model():\n",
    "    # create your model using this function\n",
    "    model = models.Sequential()\n",
    "    model.add(layers.Conv2D(32, (3, 3), activation='relu', input_shape=(64, 64, 3)))\n",
    "    model.add(layers.MaxPooling2D((2, 2)))\n",
    "    model.add(layers.Conv2D(64, (3, 3), activation='relu'))\n",
    "    model.add(layers.MaxPooling2D((2, 2)))\n",
    "    model.add(layers.Conv2D(64, (3, 3), activation='relu'))\n",
    "\n",
    "    # Feed to a densily connected layer for prediction\n",
    "    model.add(layers.Flatten())\n",
    "    model.add(layers.Dense(64, activation='relu'))\n",
    "    model.add(layers.Dense(1, activation='sigmoid'))\n",
    "    \n",
    "    model.compile(loss='binary_crossentropy',\n",
    "                  optimizer=optimizers.RMSprop(lr=1e-4),\n",
    "                  metrics=['acc'])\n",
    "\n",
    "    return model\n",
    "   \n",
    "def train_and_evaluate__model(model, data_train, labels_train, data_test, labels_test):\n",
    "    model.fit...\n",
    "    # fit and evaluate here."
   ]
  },
  {
   "cell_type": "code",
   "execution_count": null,
   "metadata": {},
   "outputs": [],
   "source": [
    "n_folds = 10\n",
    "data, labels, header_info = load_data()\n",
    "skf = StratifiedKFold(labels, n_folds=n_folds, shuffle=True)\n",
    "\n",
    "for i, (train, test) in enumerate(skf):\n",
    "        print \"Running Fold\", i+1, \"/\", n_folds\n",
    "        model = None # Clearing the NN.\n",
    "        model = create_model()\n",
    "        train_and_evaluate_model(model, data[train], labels[train], data[test], labels[test])"
   ]
  },
  {
   "cell_type": "code",
   "execution_count": null,
   "metadata": {},
   "outputs": [],
   "source": []
  },
  {
   "cell_type": "code",
   "execution_count": null,
   "metadata": {},
   "outputs": [],
   "source": [
    "X_train, X_val, y_train, y_val = train_test_split(X, y, test_size=0.10, random_state = 10)"
   ]
  },
  {
   "cell_type": "code",
   "execution_count": null,
   "metadata": {},
   "outputs": [],
   "source": []
  },
  {
   "cell_type": "code",
   "execution_count": 15,
   "metadata": {},
   "outputs": [
    {
     "data": {
      "text/plain": [
       "20.0"
      ]
     },
     "execution_count": 15,
     "metadata": {},
     "output_type": "execute_result"
    }
   ],
   "source": [
    "200/10"
   ]
  },
  {
   "cell_type": "code",
   "execution_count": null,
   "metadata": {},
   "outputs": [],
   "source": []
  },
  {
   "cell_type": "code",
   "execution_count": null,
   "metadata": {},
   "outputs": [],
   "source": []
  },
  {
   "cell_type": "code",
   "execution_count": null,
   "metadata": {},
   "outputs": [],
   "source": []
  },
  {
   "cell_type": "code",
   "execution_count": null,
   "metadata": {},
   "outputs": [],
   "source": []
  },
  {
   "cell_type": "code",
   "execution_count": 3,
   "metadata": {},
   "outputs": [
    {
     "data": {
      "image/png": "[encoded data removed]",
      "text/plain": [
       "<Figure size 432x288 with 1 Axes>"
      ]
     },
     "metadata": {
      "needs_background": "light"
     },
     "output_type": "display_data"
    },
    {
     "data": {
      "image/png": "[encoded data removed]",
      "text/plain": [
       "<Figure size 432x288 with 1 Axes>"
      ]
     },
     "metadata": {
      "needs_background": "light"
     },
     "output_type": "display_data"
    },
    {
     "data": {
      "image/png": "[encoded data removed]",
      "text/plain": [
       "<Figure size 432x288 with 1 Axes>"
      ]
     },
     "metadata": {
      "needs_background": "light"
     },
     "output_type": "display_data"
    },
    {
     "data": {
      "image/png": "[encoded data removed]",
      "text/plain": [
       "<Figure size 432x288 with 1 Axes>"
      ]
     },
     "metadata": {
      "needs_background": "light"
     },
     "output_type": "display_data"
    },
    {
     "data": {
      "image/png": "[encoded data removed]",
      "text/plain": [
       "<Figure size 432x288 with 1 Axes>"
      ]
     },
     "metadata": {
      "needs_background": "light"
     },
     "output_type": "display_data"
    },
    {
     "data": {
      "image/png": "[encoded data removed]",
      "text/plain": [
       "<Figure size 432x288 with 1 Axes>"
      ]
     },
     "metadata": {
      "needs_background": "light"
     },
     "output_type": "display_data"
    },
    {
     "data": {
      "image/png": "[encoded data removed]",
      "text/plain": [
       "<Figure size 432x288 with 1 Axes>"
      ]
     },
     "metadata": {
      "needs_background": "light"
     },
     "output_type": "display_data"
    },
    {
     "data": {
      "image/png": "[encoded data removed]",
      "text/plain": [
       "<Figure size 432x288 with 1 Axes>"
      ]
     },
     "metadata": {
      "needs_background": "light"
     },
     "output_type": "display_data"
    },
    {
     "data": {
      "image/png": "[encoded data removed]",
      "text/plain": [
       "<Figure size 432x288 with 1 Axes>"
      ]
     },
     "metadata": {
      "needs_background": "light"
     },
     "output_type": "display_data"
    },
    {
     "data": {
      "image/png": "[encoded data removed]",
      "text/plain": [
       "<Figure size 432x288 with 1 Axes>"
      ]
     },
     "metadata": {
      "needs_background": "light"
     },
     "output_type": "display_data"
    }
   ],
   "source": [
    "import time\n",
    "\n",
    "for i in range(10):\n",
    "    \n",
    "    img = image.load_img('images/training/non_smile/' + non_smile_names[i], target_size=(64, 64))\n",
    "    x = image.img_to_array(img)\n",
    "    x = np.expand_dims(x, axis=0)\n",
    "    x /= 255.\n",
    "\n",
    "    plt.imshow(x[0])                           \n",
    "    plt.axis('off')\n",
    "    plt.title(non_smile_names[i])\n",
    "    plt.show()\n"
   ]
  },
  {
   "cell_type": "markdown",
   "metadata": {},
   "source": [
    "One thing that I notice here, is that the faces are croped from the background. And what seems to define a smile is if we see teeths. That means that someone who is surprised and has the mouth open with the shape of an 'O' would probably be classified as smiling. \n",
    "\n",
    "Furthermore, here we need very localized features maps, as we don't need filters for the context of the image. \n",
    "\n",
    "The next step is going to build a very simplistic toy example to see if I can look at my network and wrong predictions and understand where they might be coming from.\n",
    "\n",
    "In addition, this will allow us to have a full training + evaluation skeleton.\n",
    "\n",
    "- Fix a random seed\n",
    "- Keep it simple"
   ]
  },
  {
   "cell_type": "code",
   "execution_count": 18,
   "metadata": {},
   "outputs": [],
   "source": [
    "#overfit one batch."
   ]
  },
  {
   "cell_type": "code",
   "execution_count": 45,
   "metadata": {},
   "outputs": [
    {
     "name": "stdout",
     "output_type": "stream",
     "text": [
      "Training: there are 160 of smiling images and 160 non smiling images.\n",
      "Testing: there are 40 of smiling images and 40 non smiling images.\n"
     ]
    }
   ],
   "source": [
    "training_dir = 'SMILE_Dataset/train/'\n",
    "testing_dir = 'SMILE_Dataset/test/'\n",
    "\n",
    "#smile_names = os.listdir('./SMILE_Dataset/train/smile')\n",
    "#non_smile_names = os.listdir('./SMILE_Dataset/train/no_smile')\n",
    "\n",
    "print('Training: there are {} of smiling images and {} non smiling images.'.format(len(os.listdir('SMILE_Dataset/train/smile')),len(os.listdir('SMILE_Dataset/train/no_smile'))))\n",
    "print('Testing: there are {} of smiling images and {} non smiling images.'.format(len(os.listdir('SMILE_Dataset/test/smile')),len(os.listdir('SMILE_Dataset/test/no_smile'))))"
   ]
  },
  {
   "cell_type": "code",
   "execution_count": 46,
   "metadata": {},
   "outputs": [],
   "source": [
    "from keras import models\n",
    "from keras import layers"
   ]
  },
  {
   "cell_type": "code",
   "execution_count": 47,
   "metadata": {},
   "outputs": [
    {
     "name": "stdout",
     "output_type": "stream",
     "text": [
      "WARNING:tensorflow:From c:\\users\\justin\\appdata\\local\\programs\\python\\python37\\lib\\site-packages\\keras\\backend\\tensorflow_backend.py:4070: The name tf.nn.max_pool is deprecated. Please use tf.nn.max_pool2d instead.\n",
      "\n"
     ]
    }
   ],
   "source": [
    "model = models.Sequential()\n",
    "model.add(layers.Conv2D(32, (3, 3), activation='relu', input_shape=(64, 64, 3)))\n",
    "model.add(layers.MaxPooling2D((2, 2)))\n",
    "model.add(layers.Conv2D(64, (3, 3), activation='relu'))\n",
    "model.add(layers.MaxPooling2D((2, 2)))\n",
    "model.add(layers.Conv2D(64, (3, 3), activation='relu'))\n",
    "\n",
    "# Feed to a densily connected layer for prediction\n",
    "model.add(layers.Flatten())\n",
    "model.add(layers.Dense(64, activation='relu'))\n",
    "model.add(layers.Dense(1, activation='sigmoid'))"
   ]
  },
  {
   "cell_type": "code",
   "execution_count": 48,
   "metadata": {},
   "outputs": [
    {
     "name": "stdout",
     "output_type": "stream",
     "text": [
      "Model: \"sequential_1\"\n",
      "_________________________________________________________________\n",
      "Layer (type)                 Output Shape              Param #   \n",
      "=================================================================\n",
      "conv2d_1 (Conv2D)            (None, 62, 62, 32)        896       \n",
      "_________________________________________________________________\n",
      "max_pooling2d_1 (MaxPooling2 (None, 31, 31, 32)        0         \n",
      "_________________________________________________________________\n",
      "conv2d_2 (Conv2D)            (None, 29, 29, 64)        18496     \n",
      "_________________________________________________________________\n",
      "max_pooling2d_2 (MaxPooling2 (None, 14, 14, 64)        0         \n",
      "_________________________________________________________________\n",
      "conv2d_3 (Conv2D)            (None, 12, 12, 64)        36928     \n",
      "_________________________________________________________________\n",
      "flatten_1 (Flatten)          (None, 9216)              0         \n",
      "_________________________________________________________________\n",
      "dense_1 (Dense)              (None, 64)                589888    \n",
      "_________________________________________________________________\n",
      "dense_2 (Dense)              (None, 1)                 65        \n",
      "=================================================================\n",
      "Total params: 646,273\n",
      "Trainable params: 646,273\n",
      "Non-trainable params: 0\n",
      "_________________________________________________________________\n"
     ]
    }
   ],
   "source": [
    "model.summary()"
   ]
  },
  {
   "cell_type": "code",
   "execution_count": 81,
   "metadata": {},
   "outputs": [],
   "source": [
    "from keras import optimizers\n",
    "\n",
    "model.compile(loss='binary_crossentropy',\n",
    "               optimizer=optimizers.RMSprop(lr=2e-5),\n",
    "              metrics=['acc'])"
   ]
  },
  {
   "cell_type": "code",
   "execution_count": 50,
   "metadata": {},
   "outputs": [],
   "source": [
    "from keras.preprocessing.image import ImageDataGenerator"
   ]
  },
  {
   "cell_type": "code",
   "execution_count": 51,
   "metadata": {},
   "outputs": [
    {
     "name": "stdout",
     "output_type": "stream",
     "text": [
      "Found 320 images belonging to 2 classes.\n",
      "Found 80 images belonging to 2 classes.\n"
     ]
    }
   ],
   "source": [
    "train_datagen = ImageDataGenerator(rescale=1./255)\n",
    "\n",
    "test_datagen = ImageDataGenerator(rescale=1./255)\n",
    "\n",
    "train_generator = train_datagen.flow_from_directory(\n",
    "    training_dir,\n",
    "    target_size=(64,64),\n",
    "    batch_size=20,\n",
    "    class_mode='binary')\n",
    "\n",
    "test_generator = test_datagen.flow_from_directory(\n",
    "    testing_dir,\n",
    "    target_size=(64,64),\n",
    "    batch_size=20,\n",
    "    class_mode='binary')"
   ]
  },
  {
   "cell_type": "code",
   "execution_count": 52,
   "metadata": {},
   "outputs": [
    {
     "name": "stdout",
     "output_type": "stream",
     "text": [
      "WARNING:tensorflow:From c:\\users\\justin\\appdata\\local\\programs\\python\\python37\\lib\\site-packages\\keras\\backend\\tensorflow_backend.py:422: The name tf.global_variables is deprecated. Please use tf.compat.v1.global_variables instead.\n",
      "\n",
      "Epoch 1/30\n",
      "100/100 [==============================] - 16s 159ms/step - loss: 0.3209 - acc: 0.8805 - val_loss: 0.2681 - val_acc: 0.9010\n",
      "Epoch 2/30\n",
      "100/100 [==============================] - 14s 139ms/step - loss: 0.1172 - acc: 0.9575 - val_loss: 0.1521 - val_acc: 0.9500\n",
      "Epoch 3/30\n",
      "100/100 [==============================] - 14s 138ms/step - loss: 0.0851 - acc: 0.9690 - val_loss: 0.1485 - val_acc: 0.9390\n",
      "Epoch 4/30\n",
      "100/100 [==============================] - 14s 138ms/step - loss: 0.0655 - acc: 0.9805 - val_loss: 0.1746 - val_acc: 0.9360\n",
      "Epoch 5/30\n",
      "100/100 [==============================] - 14s 138ms/step - loss: 0.0501 - acc: 0.9840 - val_loss: 0.2317 - val_acc: 0.9370\n",
      "Epoch 6/30\n",
      "100/100 [==============================] - 14s 139ms/step - loss: 0.0336 - acc: 0.9910 - val_loss: 0.1059 - val_acc: 0.9120\n",
      "Epoch 7/30\n",
      "100/100 [==============================] - 14s 142ms/step - loss: 0.0242 - acc: 0.9935 - val_loss: 0.4300 - val_acc: 0.9130\n",
      "Epoch 8/30\n",
      " 25/100 [======>.......................] - ETA: 9s - loss: 0.0128 - acc: 0.9980"
     ]
    },
    {
     "ename": "KeyboardInterrupt",
     "evalue": "",
     "output_type": "error",
     "traceback": [
      "\u001b[1;31m---------------------------------------------------------------------------\u001b[0m",
      "\u001b[1;31mKeyboardInterrupt\u001b[0m                         Traceback (most recent call last)",
      "\u001b[1;32m<ipython-input-52-8723cc9983ce>\u001b[0m in \u001b[0;36m<module>\u001b[1;34m\u001b[0m\n\u001b[0;32m      4\u001b[0m     \u001b[0mepochs\u001b[0m\u001b[1;33m=\u001b[0m\u001b[1;36m30\u001b[0m\u001b[1;33m,\u001b[0m\u001b[1;33m\u001b[0m\u001b[1;33m\u001b[0m\u001b[0m\n\u001b[0;32m      5\u001b[0m     \u001b[0mvalidation_data\u001b[0m\u001b[1;33m=\u001b[0m\u001b[0mtest_generator\u001b[0m\u001b[1;33m,\u001b[0m\u001b[1;33m\u001b[0m\u001b[1;33m\u001b[0m\u001b[0m\n\u001b[1;32m----> 6\u001b[1;33m     validation_steps=50)\n\u001b[0m",
      "\u001b[1;32mc:\\users\\justin\\appdata\\local\\programs\\python\\python37\\lib\\site-packages\\keras\\legacy\\interfaces.py\u001b[0m in \u001b[0;36mwrapper\u001b[1;34m(*args, **kwargs)\u001b[0m\n\u001b[0;32m     89\u001b[0m                 warnings.warn('Update your `' + object_name + '` call to the ' +\n\u001b[0;32m     90\u001b[0m                               'Keras 2 API: ' + signature, stacklevel=2)\n\u001b[1;32m---> 91\u001b[1;33m             \u001b[1;32mreturn\u001b[0m \u001b[0mfunc\u001b[0m\u001b[1;33m(\u001b[0m\u001b[1;33m*\u001b[0m\u001b[0margs\u001b[0m\u001b[1;33m,\u001b[0m \u001b[1;33m**\u001b[0m\u001b[0mkwargs\u001b[0m\u001b[1;33m)\u001b[0m\u001b[1;33m\u001b[0m\u001b[1;33m\u001b[0m\u001b[0m\n\u001b[0m\u001b[0;32m     92\u001b[0m         \u001b[0mwrapper\u001b[0m\u001b[1;33m.\u001b[0m\u001b[0m_original_function\u001b[0m \u001b[1;33m=\u001b[0m \u001b[0mfunc\u001b[0m\u001b[1;33m\u001b[0m\u001b[1;33m\u001b[0m\u001b[0m\n\u001b[0;32m     93\u001b[0m         \u001b[1;32mreturn\u001b[0m \u001b[0mwrapper\u001b[0m\u001b[1;33m\u001b[0m\u001b[1;33m\u001b[0m\u001b[0m\n",
      "\u001b[1;32mc:\\users\\justin\\appdata\\local\\programs\\python\\python37\\lib\\site-packages\\keras\\engine\\training.py\u001b[0m in \u001b[0;36mfit_generator\u001b[1;34m(self, generator, steps_per_epoch, epochs, verbose, callbacks, validation_data, validation_steps, validation_freq, class_weight, max_queue_size, workers, use_multiprocessing, shuffle, initial_epoch)\u001b[0m\n\u001b[0;32m   1730\u001b[0m             \u001b[0muse_multiprocessing\u001b[0m\u001b[1;33m=\u001b[0m\u001b[0muse_multiprocessing\u001b[0m\u001b[1;33m,\u001b[0m\u001b[1;33m\u001b[0m\u001b[1;33m\u001b[0m\u001b[0m\n\u001b[0;32m   1731\u001b[0m             \u001b[0mshuffle\u001b[0m\u001b[1;33m=\u001b[0m\u001b[0mshuffle\u001b[0m\u001b[1;33m,\u001b[0m\u001b[1;33m\u001b[0m\u001b[1;33m\u001b[0m\u001b[0m\n\u001b[1;32m-> 1732\u001b[1;33m             initial_epoch=initial_epoch)\n\u001b[0m\u001b[0;32m   1733\u001b[0m \u001b[1;33m\u001b[0m\u001b[0m\n\u001b[0;32m   1734\u001b[0m     \u001b[1;33m@\u001b[0m\u001b[0minterfaces\u001b[0m\u001b[1;33m.\u001b[0m\u001b[0mlegacy_generator_methods_support\u001b[0m\u001b[1;33m\u001b[0m\u001b[1;33m\u001b[0m\u001b[0m\n",
      "\u001b[1;32mc:\\users\\justin\\appdata\\local\\programs\\python\\python37\\lib\\site-packages\\keras\\engine\\training_generator.py\u001b[0m in \u001b[0;36mfit_generator\u001b[1;34m(model, generator, steps_per_epoch, epochs, verbose, callbacks, validation_data, validation_steps, validation_freq, class_weight, max_queue_size, workers, use_multiprocessing, shuffle, initial_epoch)\u001b[0m\n\u001b[0;32m    218\u001b[0m                                             \u001b[0msample_weight\u001b[0m\u001b[1;33m=\u001b[0m\u001b[0msample_weight\u001b[0m\u001b[1;33m,\u001b[0m\u001b[1;33m\u001b[0m\u001b[1;33m\u001b[0m\u001b[0m\n\u001b[0;32m    219\u001b[0m                                             \u001b[0mclass_weight\u001b[0m\u001b[1;33m=\u001b[0m\u001b[0mclass_weight\u001b[0m\u001b[1;33m,\u001b[0m\u001b[1;33m\u001b[0m\u001b[1;33m\u001b[0m\u001b[0m\n\u001b[1;32m--> 220\u001b[1;33m                                             reset_metrics=False)\n\u001b[0m\u001b[0;32m    221\u001b[0m \u001b[1;33m\u001b[0m\u001b[0m\n\u001b[0;32m    222\u001b[0m                 \u001b[0mouts\u001b[0m \u001b[1;33m=\u001b[0m \u001b[0mto_list\u001b[0m\u001b[1;33m(\u001b[0m\u001b[0mouts\u001b[0m\u001b[1;33m)\u001b[0m\u001b[1;33m\u001b[0m\u001b[1;33m\u001b[0m\u001b[0m\n",
      "\u001b[1;32mc:\\users\\justin\\appdata\\local\\programs\\python\\python37\\lib\\site-packages\\keras\\engine\\training.py\u001b[0m in \u001b[0;36mtrain_on_batch\u001b[1;34m(self, x, y, sample_weight, class_weight, reset_metrics)\u001b[0m\n\u001b[0;32m   1512\u001b[0m             \u001b[0mins\u001b[0m \u001b[1;33m=\u001b[0m \u001b[0mx\u001b[0m \u001b[1;33m+\u001b[0m \u001b[0my\u001b[0m \u001b[1;33m+\u001b[0m \u001b[0msample_weights\u001b[0m\u001b[1;33m\u001b[0m\u001b[1;33m\u001b[0m\u001b[0m\n\u001b[0;32m   1513\u001b[0m         \u001b[0mself\u001b[0m\u001b[1;33m.\u001b[0m\u001b[0m_make_train_function\u001b[0m\u001b[1;33m(\u001b[0m\u001b[1;33m)\u001b[0m\u001b[1;33m\u001b[0m\u001b[1;33m\u001b[0m\u001b[0m\n\u001b[1;32m-> 1514\u001b[1;33m         \u001b[0moutputs\u001b[0m \u001b[1;33m=\u001b[0m \u001b[0mself\u001b[0m\u001b[1;33m.\u001b[0m\u001b[0mtrain_function\u001b[0m\u001b[1;33m(\u001b[0m\u001b[0mins\u001b[0m\u001b[1;33m)\u001b[0m\u001b[1;33m\u001b[0m\u001b[1;33m\u001b[0m\u001b[0m\n\u001b[0m\u001b[0;32m   1515\u001b[0m \u001b[1;33m\u001b[0m\u001b[0m\n\u001b[0;32m   1516\u001b[0m         \u001b[1;32mif\u001b[0m \u001b[0mreset_metrics\u001b[0m\u001b[1;33m:\u001b[0m\u001b[1;33m\u001b[0m\u001b[1;33m\u001b[0m\u001b[0m\n",
      "\u001b[1;32mc:\\users\\justin\\appdata\\local\\programs\\python\\python37\\lib\\site-packages\\tensorflow\\python\\keras\\backend.py\u001b[0m in \u001b[0;36m__call__\u001b[1;34m(self, inputs)\u001b[0m\n\u001b[0;32m   3290\u001b[0m \u001b[1;33m\u001b[0m\u001b[0m\n\u001b[0;32m   3291\u001b[0m     fetched = self._callable_fn(*array_vals,\n\u001b[1;32m-> 3292\u001b[1;33m                                 run_metadata=self.run_metadata)\n\u001b[0m\u001b[0;32m   3293\u001b[0m     \u001b[0mself\u001b[0m\u001b[1;33m.\u001b[0m\u001b[0m_call_fetch_callbacks\u001b[0m\u001b[1;33m(\u001b[0m\u001b[0mfetched\u001b[0m\u001b[1;33m[\u001b[0m\u001b[1;33m-\u001b[0m\u001b[0mlen\u001b[0m\u001b[1;33m(\u001b[0m\u001b[0mself\u001b[0m\u001b[1;33m.\u001b[0m\u001b[0m_fetches\u001b[0m\u001b[1;33m)\u001b[0m\u001b[1;33m:\u001b[0m\u001b[1;33m]\u001b[0m\u001b[1;33m)\u001b[0m\u001b[1;33m\u001b[0m\u001b[1;33m\u001b[0m\u001b[0m\n\u001b[0;32m   3294\u001b[0m     output_structure = nest.pack_sequence_as(\n",
      "\u001b[1;32mc:\\users\\justin\\appdata\\local\\programs\\python\\python37\\lib\\site-packages\\tensorflow\\python\\client\\session.py\u001b[0m in \u001b[0;36m__call__\u001b[1;34m(self, *args, **kwargs)\u001b[0m\n\u001b[0;32m   1456\u001b[0m         ret = tf_session.TF_SessionRunCallable(self._session._session,\n\u001b[0;32m   1457\u001b[0m                                                \u001b[0mself\u001b[0m\u001b[1;33m.\u001b[0m\u001b[0m_handle\u001b[0m\u001b[1;33m,\u001b[0m \u001b[0margs\u001b[0m\u001b[1;33m,\u001b[0m\u001b[1;33m\u001b[0m\u001b[1;33m\u001b[0m\u001b[0m\n\u001b[1;32m-> 1458\u001b[1;33m                                                run_metadata_ptr)\n\u001b[0m\u001b[0;32m   1459\u001b[0m         \u001b[1;32mif\u001b[0m \u001b[0mrun_metadata\u001b[0m\u001b[1;33m:\u001b[0m\u001b[1;33m\u001b[0m\u001b[1;33m\u001b[0m\u001b[0m\n\u001b[0;32m   1460\u001b[0m           \u001b[0mproto_data\u001b[0m \u001b[1;33m=\u001b[0m \u001b[0mtf_session\u001b[0m\u001b[1;33m.\u001b[0m\u001b[0mTF_GetBuffer\u001b[0m\u001b[1;33m(\u001b[0m\u001b[0mrun_metadata_ptr\u001b[0m\u001b[1;33m)\u001b[0m\u001b[1;33m\u001b[0m\u001b[1;33m\u001b[0m\u001b[0m\n",
      "\u001b[1;31mKeyboardInterrupt\u001b[0m: "
     ]
    }
   ],
   "source": [
    "history = model.fit_generator(\n",
    "    train_generator,\n",
    "    steps_per_epoch=100,\n",
    "    epochs=30,\n",
    "    validation_data=test_generator,\n",
    "    validation_steps=50)"
   ]
  },
  {
   "cell_type": "code",
   "execution_count": 68,
   "metadata": {},
   "outputs": [],
   "source": [
    "# Good practice to save the model after training!\n",
    "\n",
    "model.save('smile-detection.h5')"
   ]
  },
  {
   "cell_type": "markdown",
   "metadata": {},
   "source": [
    "Wow, we reached ~ 96% ! This is even better than using transfer learning.\n",
    "\n",
    "Lets quickly try with image augmentation."
   ]
  },
  {
   "cell_type": "code",
   "execution_count": 87,
   "metadata": {},
   "outputs": [
    {
     "name": "stdout",
     "output_type": "stream",
     "text": [
      "Found 320 images belonging to 2 classes.\n",
      "Found 80 images belonging to 2 classes.\n"
     ]
    }
   ],
   "source": [
    "train_datagen = ImageDataGenerator(rescale=1./255,\n",
    "                                  rotation_range=10,\n",
    "                                  width_shift_range=0.1,\n",
    "                                  shear_range=0.1,\n",
    "                                  zoom_range=0.1,\n",
    "                                  horizontal_flip=True,\n",
    "                                  fill_mode='nearest')\n",
    "\n",
    "test_datagen = ImageDataGenerator(rescale=1./255)\n",
    "\n",
    "train_generator = train_datagen.flow_from_directory(\n",
    "    training_dir,\n",
    "    target_size=(64,64),\n",
    "    batch_size=20,\n",
    "    class_mode='binary')\n",
    "\n",
    "test_generator = test_datagen.flow_from_directory(\n",
    "    testing_dir,\n",
    "    target_size=(64,64),\n",
    "    batch_size=20,\n",
    "    class_mode='binary')"
   ]
  },
  {
   "cell_type": "code",
   "execution_count": 92,
   "metadata": {},
   "outputs": [],
   "source": [
    "# online archi\n",
    "model = Sequential()\n",
    "model.add(layers.Conv2D(32, (3, 3), activation='relu', input_shape=(64, 64, 3)))\n",
    "model.add(Activation('relu'))\n",
    "model.add(MaxPooling2D(pool_size=(2, 2)))\n",
    "\n",
    "model.add(Conv2D(32, (3, 3)))\n",
    "model.add(Activation('relu'))\n",
    "model.add(MaxPooling2D(pool_size=(2, 2)))\n",
    "\n",
    "model.add(Conv2D(64, (3, 3)))\n",
    "model.add(Activation('relu'))\n",
    "model.add(MaxPooling2D(pool_size=(2, 2)))\n",
    "\n",
    "# Feed to a densily connected layer for prediction\n",
    "model.add(layers.Flatten())\n",
    "model.add(layers.Dropout(0.2))\n",
    "model.add(layers.Dense(64, activation='relu'))\n",
    "model.add(layers.Dense(1, activation='sigmoid'))"
   ]
  },
  {
   "cell_type": "code",
   "execution_count": 84,
   "metadata": {},
   "outputs": [],
   "source": [
    "model = models.Sequential()\n",
    "model.add(layers.Conv2D(32, (3, 3), activation='relu', input_shape=(64, 64, 3)))\n",
    "model.add(layers.MaxPooling2D((2, 2)))\n",
    "model.add(layers.Conv2D(64, (3, 3), activation='relu'))\n",
    "model.add(layers.MaxPooling2D((2, 2)))\n",
    "model.add(layers.Conv2D(64, (3, 3), activation='relu'))\n",
    "model.add(layers.MaxPooling2D((2, 2)))\n",
    "model.add(layers.Conv2D(128, (3, 3), activation='relu'))\n",
    "model.add(layers.MaxPooling2D((2, 2)))\n",
    "\n",
    "\n",
    "# Feed to a densily connected layer for prediction\n",
    "model.add(layers.Flatten())\n",
    "model.add(layers.Dropout(0.2))\n",
    "model.add(layers.Dense(64, activation='relu'))\n",
    "model.add(layers.Dense(1, activation='sigmoid'))"
   ]
  },
  {
   "cell_type": "code",
   "execution_count": 97,
   "metadata": {},
   "outputs": [],
   "source": [
    "learning_rate_reduction = ReduceLROnPlateau(monitor='val_acc', \n",
    "                                            patience=3, \n",
    "                                            verbose=1, \n",
    "                                            factor=0.5, \n",
    "                                            min_lr=0.00001)"
   ]
  },
  {
   "cell_type": "code",
   "execution_count": null,
   "metadata": {},
   "outputs": [],
   "source": [
    "history = model.fit_generator(datagen.flow(X_train,Y_train, batch_size=batch_size),\n",
    "                              epochs = epochs, validation_data = (X_val,Y_val),\n",
    "                              verbose = 2, steps_per_epoch=X_train.shape[0] // batch_size\n",
    "                              , callbacks=[learning_rate_reduction])"
   ]
  },
  {
   "cell_type": "code",
   "execution_count": 98,
   "metadata": {},
   "outputs": [],
   "source": [
    "model.compile(loss='binary_crossentropy',\n",
    "              optimizer=optimizers.RMSprop(lr=0.001, rho=0.9, epsilon=1e-08, decay=0.0),\n",
    "             metrics=['acc'])"
   ]
  },
  {
   "cell_type": "code",
   "execution_count": 99,
   "metadata": {},
   "outputs": [
    {
     "name": "stdout",
     "output_type": "stream",
     "text": [
      "Epoch 1/50\n",
      "20/20 [==============================] - 8s 396ms/step - loss: 0.9161 - acc: 0.8050 - val_loss: 0.1264 - val_acc: 0.9250\n",
      "Epoch 2/50\n",
      "20/20 [==============================] - 6s 318ms/step - loss: 0.1906 - acc: 0.9375 - val_loss: 0.2278 - val_acc: 0.8880\n",
      "Epoch 3/50\n",
      "20/20 [==============================] - 8s 377ms/step - loss: 0.2358 - acc: 0.9025 - val_loss: 0.2710 - val_acc: 0.8750\n",
      "Epoch 4/50\n",
      "20/20 [==============================] - 7s 336ms/step - loss: 0.1466 - acc: 0.9475 - val_loss: 0.2854 - val_acc: 0.8750\n",
      "\n",
      "Epoch 00004: ReduceLROnPlateau reducing learning rate to 0.0005000000237487257.\n",
      "Epoch 5/50\n",
      "20/20 [==============================] - 7s 341ms/step - loss: 0.1117 - acc: 0.9500 - val_loss: 0.0566 - val_acc: 0.9380\n",
      "Epoch 6/50\n",
      "20/20 [==============================] - 7s 357ms/step - loss: 0.1165 - acc: 0.9600 - val_loss: 0.7828 - val_acc: 0.8370\n",
      "Epoch 7/50\n",
      "20/20 [==============================] - 6s 314ms/step - loss: 0.0981 - acc: 0.9725 - val_loss: 0.0993 - val_acc: 0.9140\n",
      "Epoch 8/50\n",
      "20/20 [==============================] - 7s 354ms/step - loss: 0.1364 - acc: 0.9425 - val_loss: 0.1620 - val_acc: 0.9380\n",
      "\n",
      "Epoch 00008: ReduceLROnPlateau reducing learning rate to 0.0002500000118743628.\n",
      "Epoch 9/50\n",
      "20/20 [==============================] - 7s 326ms/step - loss: 0.1051 - acc: 0.9600 - val_loss: 0.2130 - val_acc: 0.9120\n",
      "Epoch 10/50\n",
      "20/20 [==============================] - 7s 343ms/step - loss: 0.0847 - acc: 0.9600 - val_loss: 0.2901 - val_acc: 0.9620\n",
      "Epoch 11/50\n",
      "20/20 [==============================] - 8s 376ms/step - loss: 0.0821 - acc: 0.9775 - val_loss: 0.0950 - val_acc: 0.9510\n",
      "Epoch 12/50\n",
      "20/20 [==============================] - 7s 355ms/step - loss: 0.0783 - acc: 0.9725 - val_loss: 0.3924 - val_acc: 0.9250\n",
      "Epoch 13/50\n",
      "20/20 [==============================] - 6s 323ms/step - loss: 0.0781 - acc: 0.9700 - val_loss: 0.1163 - val_acc: 0.9260\n",
      "\n",
      "Epoch 00013: ReduceLROnPlateau reducing learning rate to 0.0001250000059371814.\n",
      "Epoch 14/50\n",
      "20/20 [==============================] - 8s 394ms/step - loss: 0.0736 - acc: 0.9750 - val_loss: 0.3218 - val_acc: 0.9500\n",
      "Epoch 15/50\n",
      "20/20 [==============================] - 7s 336ms/step - loss: 0.0512 - acc: 0.9850 - val_loss: 0.1639 - val_acc: 0.9250\n",
      "Epoch 16/50\n",
      "20/20 [==============================] - 7s 365ms/step - loss: 0.0563 - acc: 0.9700 - val_loss: 0.0961 - val_acc: 0.9250\n",
      "\n",
      "Epoch 00016: ReduceLROnPlateau reducing learning rate to 6.25000029685907e-05.\n",
      "Epoch 17/50\n",
      "20/20 [==============================] - 7s 356ms/step - loss: 0.0714 - acc: 0.9775 - val_loss: 0.0949 - val_acc: 0.9260\n",
      "Epoch 18/50\n",
      "20/20 [==============================] - 7s 342ms/step - loss: 0.0498 - acc: 0.9875 - val_loss: 0.0013 - val_acc: 0.9480\n",
      "Epoch 19/50\n",
      "20/20 [==============================] - 7s 332ms/step - loss: 0.0899 - acc: 0.9675 - val_loss: 0.0347 - val_acc: 0.9380\n",
      "\n",
      "Epoch 00019: ReduceLROnPlateau reducing learning rate to 3.125000148429535e-05.\n",
      "Epoch 20/50\n",
      "20/20 [==============================] - 7s 358ms/step - loss: 0.0608 - acc: 0.9775 - val_loss: 0.2242 - val_acc: 0.9240\n",
      "Epoch 21/50\n",
      "20/20 [==============================] - 8s 389ms/step - loss: 0.0798 - acc: 0.9725 - val_loss: 0.0959 - val_acc: 0.9510\n",
      "Epoch 22/50\n",
      "20/20 [==============================] - 7s 354ms/step - loss: 0.0518 - acc: 0.9850 - val_loss: 0.3616 - val_acc: 0.9620\n",
      "\n",
      "Epoch 00022: ReduceLROnPlateau reducing learning rate to 1.5625000742147677e-05.\n",
      "Epoch 23/50\n",
      "20/20 [==============================] - 6s 311ms/step - loss: 0.0557 - acc: 0.9800 - val_loss: 0.3536 - val_acc: 0.9490\n",
      "Epoch 24/50\n",
      "20/20 [==============================] - 7s 332ms/step - loss: 0.0556 - acc: 0.9825 - val_loss: 0.3032 - val_acc: 0.9760\n",
      "Epoch 25/50\n",
      "20/20 [==============================] - 7s 334ms/step - loss: 0.0638 - acc: 0.9650 - val_loss: 0.1301 - val_acc: 0.9500\n",
      "Epoch 26/50\n",
      "20/20 [==============================] - 6s 324ms/step - loss: 0.0729 - acc: 0.9750 - val_loss: 0.3380 - val_acc: 0.9500\n",
      "Epoch 27/50\n",
      "20/20 [==============================] - 6s 324ms/step - loss: 0.0535 - acc: 0.9800 - val_loss: 0.1126 - val_acc: 0.9510\n",
      "\n",
      "Epoch 00027: ReduceLROnPlateau reducing learning rate to 1e-05.\n",
      "Epoch 28/50\n",
      "20/20 [==============================] - 7s 356ms/step - loss: 0.0555 - acc: 0.9850 - val_loss: 0.1448 - val_acc: 0.9490\n",
      "Epoch 29/50\n",
      "20/20 [==============================] - 6s 323ms/step - loss: 0.0529 - acc: 0.9875 - val_loss: 0.3884 - val_acc: 0.9750\n",
      "Epoch 30/50\n",
      "20/20 [==============================] - 6s 321ms/step - loss: 0.0487 - acc: 0.9850 - val_loss: 0.0161 - val_acc: 0.9500\n",
      "Epoch 31/50\n",
      "20/20 [==============================] - 6s 319ms/step - loss: 0.0662 - acc: 0.9850 - val_loss: 0.3468 - val_acc: 0.9750\n",
      "Epoch 32/50\n",
      "20/20 [==============================] - 7s 350ms/step - loss: 0.0827 - acc: 0.9750 - val_loss: 0.0639 - val_acc: 0.9490\n",
      "Epoch 33/50\n",
      "20/20 [==============================] - 7s 361ms/step - loss: 0.0537 - acc: 0.9825 - val_loss: 0.0568 - val_acc: 0.9630\n",
      "Epoch 34/50\n",
      "20/20 [==============================] - 8s 403ms/step - loss: 0.0475 - acc: 0.9825 - val_loss: 0.1487 - val_acc: 0.9490\n",
      "Epoch 35/50\n",
      "20/20 [==============================] - 6s 319ms/step - loss: 0.0619 - acc: 0.9750 - val_loss: 0.0652 - val_acc: 0.9260\n",
      "Epoch 36/50\n",
      "20/20 [==============================] - 7s 348ms/step - loss: 0.0574 - acc: 0.9825 - val_loss: 0.0765 - val_acc: 0.9490\n",
      "Epoch 37/50\n",
      "20/20 [==============================] - 7s 359ms/step - loss: 0.0548 - acc: 0.9800 - val_loss: 0.1361 - val_acc: 0.9360\n",
      "Epoch 38/50\n",
      "20/20 [==============================] - 7s 339ms/step - loss: 0.0485 - acc: 0.9800 - val_loss: 0.1294 - val_acc: 0.9270\n",
      "Epoch 39/50\n",
      "20/20 [==============================] - 7s 375ms/step - loss: 0.0631 - acc: 0.9775 - val_loss: 0.0354 - val_acc: 0.9250\n",
      "Epoch 40/50\n",
      "20/20 [==============================] - 7s 332ms/step - loss: 0.0682 - acc: 0.9800 - val_loss: 0.1332 - val_acc: 0.9380\n",
      "Epoch 41/50\n",
      "20/20 [==============================] - 7s 362ms/step - loss: 0.0485 - acc: 0.9850 - val_loss: 0.0598 - val_acc: 0.9520\n",
      "Epoch 42/50\n",
      "20/20 [==============================] - 7s 346ms/step - loss: 0.0410 - acc: 0.9825 - val_loss: 0.3772 - val_acc: 0.9480\n",
      "Epoch 43/50\n",
      "20/20 [==============================] - 6s 324ms/step - loss: 0.0527 - acc: 0.9875 - val_loss: 0.1860 - val_acc: 0.9610\n",
      "Epoch 44/50\n",
      "20/20 [==============================] - 8s 386ms/step - loss: 0.0750 - acc: 0.9675 - val_loss: 0.1057 - val_acc: 0.9390\n",
      "Epoch 45/50\n",
      "20/20 [==============================] - 6s 325ms/step - loss: 0.0539 - acc: 0.9850 - val_loss: 0.1378 - val_acc: 0.9500\n",
      "Epoch 46/50\n",
      "20/20 [==============================] - 7s 337ms/step - loss: 0.0515 - acc: 0.9775 - val_loss: 0.0430 - val_acc: 0.9620\n",
      "Epoch 47/50\n",
      "20/20 [==============================] - 7s 341ms/step - loss: 0.0440 - acc: 0.9800 - val_loss: 0.1181 - val_acc: 0.9630\n",
      "Epoch 48/50\n",
      "20/20 [==============================] - 7s 370ms/step - loss: 0.0806 - acc: 0.9700 - val_loss: 0.1158 - val_acc: 0.9380\n",
      "Epoch 49/50\n",
      "20/20 [==============================] - 7s 349ms/step - loss: 0.0764 - acc: 0.9775 - val_loss: 0.0960 - val_acc: 0.9760\n",
      "Epoch 50/50\n",
      "20/20 [==============================] - 7s 370ms/step - loss: 0.0535 - acc: 0.9800 - val_loss: 0.1044 - val_acc: 0.9500\n"
     ]
    }
   ],
   "source": [
    "history = model.fit_generator(\n",
    "    train_generator,\n",
    "    steps_per_epoch=20,\n",
    "    epochs=50,\n",
    "    validation_data=test_generator,\n",
    "    validation_steps=50,\n",
    "    callbacks=[learning_rate_reduction])"
   ]
  },
  {
   "cell_type": "code",
   "execution_count": 79,
   "metadata": {},
   "outputs": [],
   "source": [
    "model.save('smile-detection-97.h5')"
   ]
  },
  {
   "cell_type": "markdown",
   "metadata": {},
   "source": [
    "Training was slow. A recent advancement in convnets are the use of depth convolutions which speend up training. This is the basis of the xception architecture that won in 2015."
   ]
  },
  {
   "cell_type": "code",
   "execution_count": 50,
   "metadata": {},
   "outputs": [],
   "source": [
    "model.compile(loss='binary_crossentropy',\n",
    "              optimizer=optimizers.RMSprop(lr=1e-4),\n",
    "              metrics=['acc'])"
   ]
  },
  {
   "cell_type": "code",
   "execution_count": 55,
   "metadata": {},
   "outputs": [
    {
     "name": "stdout",
     "output_type": "stream",
     "text": [
      "Epoch 1/20\n",
      "25/25 [==============================] - 8s 315ms/step - loss: 0.0849 - acc: 0.9800 - val_loss: 0.0432 - val_acc: 0.9850\n",
      "Epoch 2/20\n",
      "25/25 [==============================] - 8s 318ms/step - loss: 0.0908 - acc: 0.9700 - val_loss: 0.3055 - val_acc: 0.9850\n",
      "Epoch 3/20\n",
      "25/25 [==============================] - 8s 315ms/step - loss: 0.0884 - acc: 0.9700 - val_loss: 0.1836 - val_acc: 0.9850\n",
      "Epoch 4/20\n",
      "25/25 [==============================] - 8s 308ms/step - loss: 0.1069 - acc: 0.9680 - val_loss: 0.0205 - val_acc: 0.9800\n",
      "Epoch 5/20\n",
      "25/25 [==============================] - 8s 330ms/step - loss: 0.0856 - acc: 0.9620 - val_loss: 0.0783 - val_acc: 0.9800\n",
      "Epoch 6/20\n",
      "25/25 [==============================] - 8s 324ms/step - loss: 0.0764 - acc: 0.9720 - val_loss: 0.0326 - val_acc: 0.9900\n",
      "Epoch 7/20\n",
      "25/25 [==============================] - 7s 296ms/step - loss: 0.1078 - acc: 0.9600 - val_loss: 0.0140 - val_acc: 0.9850\n",
      "Epoch 8/20\n",
      "25/25 [==============================] - 7s 297ms/step - loss: 0.0742 - acc: 0.9760 - val_loss: 0.0046 - val_acc: 0.9850\n",
      "Epoch 9/20\n",
      "25/25 [==============================] - 8s 305ms/step - loss: 0.0987 - acc: 0.9680 - val_loss: 0.0258 - val_acc: 0.9850\n",
      "Epoch 10/20\n",
      "25/25 [==============================] - 7s 295ms/step - loss: 0.0831 - acc: 0.9740 - val_loss: 0.0110 - val_acc: 0.9850\n",
      "Epoch 11/20\n",
      "25/25 [==============================] - 7s 298ms/step - loss: 0.0870 - acc: 0.9700 - val_loss: 0.1789 - val_acc: 0.9850\n",
      "Epoch 12/20\n",
      "25/25 [==============================] - 7s 293ms/step - loss: 0.0823 - acc: 0.9800 - val_loss: 0.0082 - val_acc: 0.9800\n",
      "Epoch 13/20\n",
      "25/25 [==============================] - 8s 303ms/step - loss: 0.0899 - acc: 0.9640 - val_loss: 0.0388 - val_acc: 0.9650\n",
      "Epoch 14/20\n",
      "25/25 [==============================] - 7s 295ms/step - loss: 0.0682 - acc: 0.9800 - val_loss: 0.2336 - val_acc: 0.9750\n",
      "Epoch 15/20\n",
      "25/25 [==============================] - 8s 306ms/step - loss: 0.0909 - acc: 0.9740 - val_loss: 0.0076 - val_acc: 0.9800\n",
      "Epoch 16/20\n",
      "25/25 [==============================] - 7s 294ms/step - loss: 0.0635 - acc: 0.9760 - val_loss: 0.0078 - val_acc: 0.9800\n",
      "Epoch 17/20\n",
      "25/25 [==============================] - 8s 302ms/step - loss: 0.0948 - acc: 0.9740 - val_loss: 0.0163 - val_acc: 0.9800\n",
      "Epoch 18/20\n",
      "25/25 [==============================] - 7s 295ms/step - loss: 0.0576 - acc: 0.9840 - val_loss: 0.0137 - val_acc: 0.9800\n",
      "Epoch 19/20\n",
      "25/25 [==============================] - 7s 297ms/step - loss: 0.0804 - acc: 0.9720 - val_loss: 0.0153 - val_acc: 0.9600\n",
      "Epoch 20/20\n",
      "25/25 [==============================] - 8s 302ms/step - loss: 0.0785 - acc: 0.9620 - val_loss: 0.2206 - val_acc: 0.9800\n"
     ]
    }
   ],
   "source": [
    "history = model.fit_generator(\n",
    "    train_generator,\n",
    "    steps_per_epoch=25,\n",
    "    epochs=20,\n",
    "    validation_data=test_generator,\n",
    "    validation_steps=50)"
   ]
  },
  {
   "cell_type": "code",
   "execution_count": 95,
   "metadata": {},
   "outputs": [],
   "source": [
    "model.save('smile-detection-91.h5')"
   ]
  },
  {
   "cell_type": "code",
   "execution_count": null,
   "metadata": {},
   "outputs": [],
   "source": [
    "datagen = ImageDataGenerator(\n",
    "        rotation_range=40,\n",
    "        width_shift_range=0.2,\n",
    "        height_shift_range=0.2,\n",
    "        rescale=1./255,\n",
    "        shear_range=0.2,\n",
    "        zoom_range=0.2,\n",
    "        horizontal_flip=True,\n",
    "        fill_mode='nearest')"
   ]
  }
 ],
 "metadata": {
  "kernelspec": {
   "display_name": "Python 3",
   "language": "python",
   "name": "python3"
  },
  "language_info": {
   "codemirror_mode": {
    "name": "ipython",
    "version": 3
   },
   "file_extension": ".py",
   "mimetype": "text/x-python",
   "name": "python",
   "nbconvert_exporter": "python",
   "pygments_lexer": "ipython3",
   "version": "3.7.4"
  }
 },
 "nbformat": 4,
 "nbformat_minor": 2
}
