{
 "cells": [
  {
   "cell_type": "code",
   "execution_count": 1,
   "id": "8555f0f7",
   "metadata": {},
   "outputs": [],
   "source": [
    "accumulation = []\n",
    "mylist = []\n",
    "\n",
    "addition_str = \"2+5+10+20\"\n",
    "str_nums = (addition_str.split(\"+\"))\n",
    "for i in str_nums:\n",
    "    mylist.append(int(i))\n",
    "    accumulation.append(sum(mylist))"
   ]
  },
  {
   "cell_type": "code",
   "execution_count": 2,
   "id": "12ce273f",
   "metadata": {},
   "outputs": [],
   "source": [
    "accumulation = []\n",
    "mylist = []\n",
    "\n",
    "addition_str = \"2+5+10+20\"\n",
    "str_nums = (addition_str.split(\"+\"))\n",
    "for i in str_nums:\n",
    "    mylist.append(int(i))\n",
    "    accumulation.append(sum(mylist))\n",
    "print(acculation)\n",
    "print(mylist)"
   ]
  },
  {
   "cell_type": "code",
   "execution_count": 3,
   "id": "e3bdff23",
   "metadata": {},
   "outputs": [
    {
     "ename": "NameError",
     "evalue": "name 'acculation' is not defined",
     "output_type": "error",
     "traceback": [
      "\u001b[1;31m---------------------------------------------------------------------------\u001b[0m",
      "\u001b[1;31mNameError\u001b[0m                                 Traceback (most recent call last)",
      "\u001b[1;32m<ipython-input-3-e595e0b76f45>\u001b[0m in \u001b[0;36m<module>\u001b[1;34m\u001b[0m\n\u001b[0;32m      7\u001b[0m     \u001b[0mmylist\u001b[0m\u001b[1;33m.\u001b[0m\u001b[0mappend\u001b[0m\u001b[1;33m(\u001b[0m\u001b[0mint\u001b[0m\u001b[1;33m(\u001b[0m\u001b[0mi\u001b[0m\u001b[1;33m)\u001b[0m\u001b[1;33m)\u001b[0m\u001b[1;33m\u001b[0m\u001b[1;33m\u001b[0m\u001b[0m\n\u001b[0;32m      8\u001b[0m     \u001b[0maccumulation\u001b[0m\u001b[1;33m.\u001b[0m\u001b[0mappend\u001b[0m\u001b[1;33m(\u001b[0m\u001b[0msum\u001b[0m\u001b[1;33m(\u001b[0m\u001b[0mmylist\u001b[0m\u001b[1;33m)\u001b[0m\u001b[1;33m)\u001b[0m\u001b[1;33m\u001b[0m\u001b[1;33m\u001b[0m\u001b[0m\n\u001b[1;32m----> 9\u001b[1;33m \u001b[0mprint\u001b[0m\u001b[1;33m(\u001b[0m\u001b[0macculation\u001b[0m\u001b[1;33m)\u001b[0m\u001b[1;33m\u001b[0m\u001b[1;33m\u001b[0m\u001b[0m\n\u001b[0m\u001b[0;32m     10\u001b[0m \u001b[0mprint\u001b[0m\u001b[1;33m(\u001b[0m\u001b[0mmylist\u001b[0m\u001b[1;33m)\u001b[0m\u001b[1;33m\u001b[0m\u001b[1;33m\u001b[0m\u001b[0m\n",
      "\u001b[1;31mNameError\u001b[0m: name 'acculation' is not defined"
     ]
    }
   ],
   "source": [
    "accumulation = []\n",
    "mylist = []\n",
    "\n",
    "addition_str = \"2+5+10+20\"\n",
    "str_nums = (addition_str.split(\"+\"))\n",
    "for i in str_nums:\n",
    "    mylist.append(int(i))\n",
    "    accumulation.append(sum(mylist))\n",
    "print(accumulation)\n",
    "print(mylist)"
   ]
  },
  {
   "cell_type": "code",
   "execution_count": 4,
   "id": "f7403c58",
   "metadata": {},
   "outputs": [
    {
     "name": "stdout",
     "output_type": "stream",
     "text": [
      "[2, 7, 17, 37]\n",
      "[2, 5, 10, 20]\n"
     ]
    }
   ],
   "source": [
    "accumulation = []\n",
    "mylist = []\n",
    "\n",
    "addition_str = \"2+5+10+20\"\n",
    "str_nums = (addition_str.split(\"+\"))\n",
    "for i in str_nums:\n",
    "    mylist.append(int(i))\n",
    "    accumulation.append(sum(mylist))\n",
    "\n",
    "print(mylist)"
   ]
  },
  {
   "cell_type": "code",
   "execution_count": null,
   "id": "8a52ffbe",
   "metadata": {},
   "outputs": [],
   "source": [
    "addition_str = \"2+5+10+20\"\n",
    "print(addition_str.split(\"+\"))\n",
    "\n",
    "print (int(\"2\"))\n",
    "print (int(\"5\"))\n",
    "print (int(\"10\"))\n",
    "print (int(\"20\"))\n",
    "\n",
    "accum = 0\n",
    "for i in num_chars:\n",
    "    accum = accum + i\n",
    "print(accum)"
   ]
  },
  {
   "cell_type": "code",
   "execution_count": 7,
   "id": "46da40bb",
   "metadata": {},
   "outputs": [
    {
     "name": "stdout",
     "output_type": "stream",
     "text": [
      "['2', '5', '10', '20']\n",
      "2\n",
      "5\n",
      "10\n",
      "20\n"
     ]
    },
    {
     "ename": "TypeError",
     "evalue": "unsupported operand type(s) for +: 'int' and 'str'",
     "output_type": "error",
     "traceback": [
      "\u001b[1;31m---------------------------------------------------------------------------\u001b[0m",
      "\u001b[1;31mTypeError\u001b[0m                                 Traceback (most recent call last)",
      "\u001b[1;32m<ipython-input-7-db91b7d2449d>\u001b[0m in \u001b[0;36m<module>\u001b[1;34m\u001b[0m\n\u001b[0;32m      9\u001b[0m \u001b[0maccum\u001b[0m \u001b[1;33m=\u001b[0m \u001b[1;36m0\u001b[0m\u001b[1;33m\u001b[0m\u001b[1;33m\u001b[0m\u001b[0m\n\u001b[0;32m     10\u001b[0m \u001b[1;32mfor\u001b[0m \u001b[0mi\u001b[0m \u001b[1;32min\u001b[0m \u001b[0maddition_str\u001b[0m\u001b[1;33m:\u001b[0m\u001b[1;33m\u001b[0m\u001b[1;33m\u001b[0m\u001b[0m\n\u001b[1;32m---> 11\u001b[1;33m     \u001b[0maccum\u001b[0m \u001b[1;33m=\u001b[0m \u001b[0mint\u001b[0m\u001b[1;33m(\u001b[0m\u001b[0maccum\u001b[0m \u001b[1;33m+\u001b[0m \u001b[0mi\u001b[0m\u001b[1;33m)\u001b[0m\u001b[1;33m\u001b[0m\u001b[1;33m\u001b[0m\u001b[0m\n\u001b[0m\u001b[0;32m     12\u001b[0m \u001b[0mprint\u001b[0m\u001b[1;33m(\u001b[0m\u001b[0maccum\u001b[0m\u001b[1;33m)\u001b[0m\u001b[1;33m\u001b[0m\u001b[1;33m\u001b[0m\u001b[0m\n",
      "\u001b[1;31mTypeError\u001b[0m: unsupported operand type(s) for +: 'int' and 'str'"
     ]
    }
   ],
   "source": [
    "addition_str = \"2+5+10+20\"\n",
    "print(addition_str.split(\"+\"))\n",
    "\n",
    "print (int(\"2\"))\n",
    "print (int(\"5\"))\n",
    "print (int(\"10\"))\n",
    "print (int(\"20\"))\n",
    "\n",
    "accum = 0\n",
    "for i in addition_str:\n",
    "    accum = int(accum + i)\n",
    "print(accum)"
   ]
  },
  {
   "cell_type": "code",
   "execution_count": 8,
   "id": "34bcddad",
   "metadata": {},
   "outputs": [
    {
     "name": "stdout",
     "output_type": "stream",
     "text": [
      "37\n"
     ]
    }
   ],
   "source": [
    "addition_str = \"2+5+10+20\"\n",
    "su = addition_str.split('+')\n",
    "\n",
    "sum_val = 0\n",
    "for i in su:\n",
    "    sum_val = sum_val + int(i)\n",
    "\n",
    "print(sum_val)\n"
   ]
  },
  {
   "cell_type": "code",
   "execution_count": 9,
   "id": "cbb4adf2",
   "metadata": {},
   "outputs": [
    {
     "ename": "IndentationError",
     "evalue": "expected an indented block (<ipython-input-9-5c1fb3958199>, line 6)",
     "output_type": "error",
     "traceback": [
      "\u001b[1;36m  File \u001b[1;32m\"<ipython-input-9-5c1fb3958199>\"\u001b[1;36m, line \u001b[1;32m6\u001b[0m\n\u001b[1;33m    d[key] = 1\u001b[0m\n\u001b[1;37m    ^\u001b[0m\n\u001b[1;31mIndentationError\u001b[0m\u001b[1;31m:\u001b[0m expected an indented block\n"
     ]
    }
   ],
   "source": [
    "W = input('Please enter a string ')\n",
    "def most_frequent(string):\n",
    "   d = dict()\n",
    "for key in string:\n",
    "   if key not in d:\n",
    "    d[key] = 1\n",
    "else :\n",
    "   d[key] += 1\n",
    "return d\n",
    "\n",
    "print(most_frequent(W))"
   ]
  },
  {
   "cell_type": "code",
   "execution_count": 10,
   "id": "07473940",
   "metadata": {},
   "outputs": [
    {
     "name": "stdout",
     "output_type": "stream",
     "text": [
      "Please enter a string the food is very tasty\n"
     ]
    },
    {
     "ename": "NameError",
     "evalue": "name 'string' is not defined",
     "output_type": "error",
     "traceback": [
      "\u001b[1;31m---------------------------------------------------------------------------\u001b[0m",
      "\u001b[1;31mNameError\u001b[0m                                 Traceback (most recent call last)",
      "\u001b[1;32m<ipython-input-10-d173156ecc2f>\u001b[0m in \u001b[0;36m<module>\u001b[1;34m\u001b[0m\n\u001b[0;32m      2\u001b[0m \u001b[1;32mdef\u001b[0m \u001b[0mmost_frequent\u001b[0m\u001b[1;33m(\u001b[0m\u001b[0mstring\u001b[0m\u001b[1;33m)\u001b[0m\u001b[1;33m:\u001b[0m\u001b[1;33m\u001b[0m\u001b[1;33m\u001b[0m\u001b[0m\n\u001b[0;32m      3\u001b[0m    \u001b[0md\u001b[0m \u001b[1;33m=\u001b[0m \u001b[0mdict\u001b[0m\u001b[1;33m(\u001b[0m\u001b[1;33m)\u001b[0m\u001b[1;33m\u001b[0m\u001b[1;33m\u001b[0m\u001b[0m\n\u001b[1;32m----> 4\u001b[1;33m \u001b[1;32mfor\u001b[0m \u001b[0mkey\u001b[0m \u001b[1;32min\u001b[0m \u001b[0mstring\u001b[0m\u001b[1;33m:\u001b[0m\u001b[1;33m\u001b[0m\u001b[1;33m\u001b[0m\u001b[0m\n\u001b[0m\u001b[0;32m      5\u001b[0m    \u001b[1;32mif\u001b[0m \u001b[0mkey\u001b[0m \u001b[1;32mnot\u001b[0m \u001b[1;32min\u001b[0m \u001b[0md\u001b[0m\u001b[1;33m:\u001b[0m\u001b[1;33m\u001b[0m\u001b[1;33m\u001b[0m\u001b[0m\n\u001b[0;32m      6\u001b[0m     \u001b[0md\u001b[0m\u001b[1;33m[\u001b[0m\u001b[0mkey\u001b[0m\u001b[1;33m]\u001b[0m \u001b[1;33m=\u001b[0m \u001b[1;36m1\u001b[0m\u001b[1;33m\u001b[0m\u001b[1;33m\u001b[0m\u001b[0m\n",
      "\u001b[1;31mNameError\u001b[0m: name 'string' is not defined"
     ]
    }
   ],
   "source": [
    "W = input('Please enter a string ')\n",
    "def most_frequent(string):\n",
    "   d = dict()\n",
    "for key in string:\n",
    "   if key not in d:\n",
    "    d[key] = 1\n",
    "else :\n",
    "   d[key] += 1\n",
    "return d\n",
    "de = most_frequent(string)\n",
    "\n",
    "print(most_frequent(W))"
   ]
  },
  {
   "cell_type": "code",
   "execution_count": 11,
   "id": "a125d58c",
   "metadata": {},
   "outputs": [
    {
     "name": "stdout",
     "output_type": "stream",
     "text": [
      "Please enter a string the food\n"
     ]
    },
    {
     "ename": "NameError",
     "evalue": "name 'string' is not defined",
     "output_type": "error",
     "traceback": [
      "\u001b[1;31m---------------------------------------------------------------------------\u001b[0m",
      "\u001b[1;31mNameError\u001b[0m                                 Traceback (most recent call last)",
      "\u001b[1;32m<ipython-input-11-4f07d27c5b92>\u001b[0m in \u001b[0;36m<module>\u001b[1;34m\u001b[0m\n\u001b[0;32m      2\u001b[0m \u001b[1;32mdef\u001b[0m \u001b[0mmost_frequent\u001b[0m\u001b[1;33m(\u001b[0m\u001b[0mstring\u001b[0m\u001b[1;33m)\u001b[0m\u001b[1;33m:\u001b[0m\u001b[1;33m\u001b[0m\u001b[1;33m\u001b[0m\u001b[0m\n\u001b[0;32m      3\u001b[0m    \u001b[0md\u001b[0m \u001b[1;33m=\u001b[0m \u001b[0mdict\u001b[0m\u001b[1;33m(\u001b[0m\u001b[1;33m)\u001b[0m\u001b[1;33m\u001b[0m\u001b[1;33m\u001b[0m\u001b[0m\n\u001b[1;32m----> 4\u001b[1;33m \u001b[1;32mfor\u001b[0m \u001b[0mkey\u001b[0m \u001b[1;32min\u001b[0m \u001b[0mstring\u001b[0m\u001b[1;33m:\u001b[0m\u001b[1;33m\u001b[0m\u001b[1;33m\u001b[0m\u001b[0m\n\u001b[0m\u001b[0;32m      5\u001b[0m    \u001b[1;32mif\u001b[0m \u001b[0mkey\u001b[0m \u001b[1;32mnot\u001b[0m \u001b[1;32min\u001b[0m \u001b[0md\u001b[0m\u001b[1;33m:\u001b[0m\u001b[1;33m\u001b[0m\u001b[1;33m\u001b[0m\u001b[0m\n\u001b[0;32m      6\u001b[0m     \u001b[0md\u001b[0m\u001b[1;33m[\u001b[0m\u001b[0mkey\u001b[0m\u001b[1;33m]\u001b[0m \u001b[1;33m=\u001b[0m \u001b[1;36m1\u001b[0m\u001b[1;33m\u001b[0m\u001b[1;33m\u001b[0m\u001b[0m\n",
      "\u001b[1;31mNameError\u001b[0m: name 'string' is not defined"
     ]
    }
   ],
   "source": [
    "w = input('Please enter a string ')\n",
    "def most_frequent(w):\n",
    "   d = dict()\n",
    "for key in w:\n",
    "   if key not in d:\n",
    "    d[key] = 1\n",
    "else :\n",
    "   d[key] += 1\n",
    "return d\n",
    "de = most_frequent(w)\n",
    "\n",
    "print(most_frequent(w))"
   ]
  },
  {
   "cell_type": "code",
   "execution_count": 12,
   "id": "b1c4b2d1",
   "metadata": {},
   "outputs": [
    {
     "name": "stdout",
     "output_type": "stream",
     "text": [
      "Please enter a string tge fiid\n"
     ]
    },
    {
     "ename": "NameError",
     "evalue": "name 'd' is not defined",
     "output_type": "error",
     "traceback": [
      "\u001b[1;31m---------------------------------------------------------------------------\u001b[0m",
      "\u001b[1;31mNameError\u001b[0m                                 Traceback (most recent call last)",
      "\u001b[1;32m<ipython-input-12-281862c166ad>\u001b[0m in \u001b[0;36m<module>\u001b[1;34m\u001b[0m\n\u001b[0;32m      3\u001b[0m    \u001b[0md\u001b[0m \u001b[1;33m=\u001b[0m \u001b[0mdict\u001b[0m\u001b[1;33m(\u001b[0m\u001b[1;33m)\u001b[0m\u001b[1;33m\u001b[0m\u001b[1;33m\u001b[0m\u001b[0m\n\u001b[0;32m      4\u001b[0m \u001b[1;32mfor\u001b[0m \u001b[0mkey\u001b[0m \u001b[1;32min\u001b[0m \u001b[0mw\u001b[0m\u001b[1;33m:\u001b[0m\u001b[1;33m\u001b[0m\u001b[1;33m\u001b[0m\u001b[0m\n\u001b[1;32m----> 5\u001b[1;33m    \u001b[1;32mif\u001b[0m \u001b[0mkey\u001b[0m \u001b[1;32mnot\u001b[0m \u001b[1;32min\u001b[0m \u001b[0md\u001b[0m\u001b[1;33m:\u001b[0m\u001b[1;33m\u001b[0m\u001b[1;33m\u001b[0m\u001b[0m\n\u001b[0m\u001b[0;32m      6\u001b[0m     \u001b[0md\u001b[0m\u001b[1;33m[\u001b[0m\u001b[0mkey\u001b[0m\u001b[1;33m]\u001b[0m \u001b[1;33m=\u001b[0m \u001b[1;36m1\u001b[0m\u001b[1;33m\u001b[0m\u001b[1;33m\u001b[0m\u001b[0m\n\u001b[0;32m      7\u001b[0m \u001b[1;32melse\u001b[0m \u001b[1;33m:\u001b[0m\u001b[1;33m\u001b[0m\u001b[1;33m\u001b[0m\u001b[0m\n",
      "\u001b[1;31mNameError\u001b[0m: name 'd' is not defined"
     ]
    }
   ],
   "source": [
    "w = input('Please enter a string ')\n",
    "d = \"\"\n",
    "def most_frequent(w):\n",
    "   d = dict()\n",
    "for key in w:\n",
    "   if key not in d:\n",
    "    d[key] = 1\n",
    "else :\n",
    "   d[key] += 1\n",
    "return d\n",
    "de = most_frequent(w)\n",
    "\n",
    "print(most_frequent(w))"
   ]
  },
  {
   "cell_type": "code",
   "execution_count": 13,
   "id": "6518dfd2",
   "metadata": {},
   "outputs": [
    {
     "name": "stdout",
     "output_type": "stream",
     "text": [
      "Please enter a string ihhhg\n"
     ]
    },
    {
     "ename": "TypeError",
     "evalue": "'str' object does not support item assignment",
     "output_type": "error",
     "traceback": [
      "\u001b[1;31m---------------------------------------------------------------------------\u001b[0m",
      "\u001b[1;31mTypeError\u001b[0m                                 Traceback (most recent call last)",
      "\u001b[1;32m<ipython-input-13-6be3daf9530e>\u001b[0m in \u001b[0;36m<module>\u001b[1;34m\u001b[0m\n\u001b[0;32m      5\u001b[0m \u001b[1;32mfor\u001b[0m \u001b[0mkey\u001b[0m \u001b[1;32min\u001b[0m \u001b[0mw\u001b[0m\u001b[1;33m:\u001b[0m\u001b[1;33m\u001b[0m\u001b[1;33m\u001b[0m\u001b[0m\n\u001b[0;32m      6\u001b[0m    \u001b[1;32mif\u001b[0m \u001b[0mkey\u001b[0m \u001b[1;32mnot\u001b[0m \u001b[1;32min\u001b[0m \u001b[0md\u001b[0m\u001b[1;33m:\u001b[0m\u001b[1;33m\u001b[0m\u001b[1;33m\u001b[0m\u001b[0m\n\u001b[1;32m----> 7\u001b[1;33m     \u001b[0md\u001b[0m\u001b[1;33m[\u001b[0m\u001b[0mkey\u001b[0m\u001b[1;33m]\u001b[0m \u001b[1;33m=\u001b[0m \u001b[1;36m1\u001b[0m\u001b[1;33m\u001b[0m\u001b[1;33m\u001b[0m\u001b[0m\n\u001b[0m\u001b[0;32m      8\u001b[0m \u001b[1;32melse\u001b[0m \u001b[1;33m:\u001b[0m\u001b[1;33m\u001b[0m\u001b[1;33m\u001b[0m\u001b[0m\n\u001b[0;32m      9\u001b[0m    \u001b[0md\u001b[0m\u001b[1;33m[\u001b[0m\u001b[0mkey\u001b[0m\u001b[1;33m]\u001b[0m \u001b[1;33m+=\u001b[0m \u001b[1;36m1\u001b[0m\u001b[1;33m\u001b[0m\u001b[1;33m\u001b[0m\u001b[0m\n",
      "\u001b[1;31mTypeError\u001b[0m: 'str' object does not support item assignment"
     ]
    }
   ],
   "source": [
    "w = input('Please enter a string ')\n",
    "d = \"\"\n",
    "def most_frequent(w):\n",
    "   d = dict()\n",
    "for key in w:\n",
    "   if key not in d:\n",
    "    d[key] = 1\n",
    "else :\n",
    "   d[key] += 1\n",
    "return d\n",
    "de = most_frequent(w)\n",
    "\n",
    "print(most_frequent(w))"
   ]
  },
  {
   "cell_type": "code",
   "execution_count": 14,
   "id": "6d36a3b6",
   "metadata": {},
   "outputs": [
    {
     "ename": "NameError",
     "evalue": "name 'str1' is not defined",
     "output_type": "error",
     "traceback": [
      "\u001b[1;31m---------------------------------------------------------------------------\u001b[0m",
      "\u001b[1;31mNameError\u001b[0m                                 Traceback (most recent call last)",
      "\u001b[1;32m<ipython-input-14-7422d7189463>\u001b[0m in \u001b[0;36m<module>\u001b[1;34m\u001b[0m\n\u001b[0;32m      1\u001b[0m \u001b[1;32mdef\u001b[0m \u001b[0mchar_frequency\u001b[0m\u001b[1;33m(\u001b[0m\u001b[0mstr1\u001b[0m\u001b[1;33m)\u001b[0m\u001b[1;33m:\u001b[0m\u001b[1;33m\u001b[0m\u001b[1;33m\u001b[0m\u001b[0m\n\u001b[0;32m      2\u001b[0m    \u001b[0mdict\u001b[0m \u001b[1;33m=\u001b[0m \u001b[1;33m{\u001b[0m\u001b[1;33m}\u001b[0m\u001b[1;33m\u001b[0m\u001b[1;33m\u001b[0m\u001b[0m\n\u001b[1;32m----> 3\u001b[1;33m \u001b[1;32mfor\u001b[0m \u001b[0mn\u001b[0m \u001b[1;32min\u001b[0m \u001b[0mstr1\u001b[0m\u001b[1;33m:\u001b[0m\u001b[1;33m\u001b[0m\u001b[1;33m\u001b[0m\u001b[0m\n\u001b[0m\u001b[0;32m      4\u001b[0m    \u001b[0mkeys\u001b[0m \u001b[1;33m=\u001b[0m \u001b[0mdict\u001b[0m\u001b[1;33m.\u001b[0m\u001b[0mkeys\u001b[0m\u001b[1;33m(\u001b[0m\u001b[1;33m)\u001b[0m\u001b[1;33m\u001b[0m\u001b[1;33m\u001b[0m\u001b[0m\n\u001b[0;32m      5\u001b[0m \u001b[1;32mif\u001b[0m \u001b[0mn\u001b[0m \u001b[1;32min\u001b[0m \u001b[0mkeys\u001b[0m\u001b[1;33m:\u001b[0m\u001b[1;33m\u001b[0m\u001b[1;33m\u001b[0m\u001b[0m\n",
      "\u001b[1;31mNameError\u001b[0m: name 'str1' is not defined"
     ]
    }
   ],
   "source": [
    "def char_frequency(str1):\n",
    "   dict = {}\n",
    "for n in str1:\n",
    "   keys = dict.keys()\n",
    "if n in keys:\n",
    "   dict[n] += 1\n",
    "else :\n",
    "   dict[n] = 1\n",
    "return dict\n",
    "print(char_frequency(\"aabbbccde\"))"
   ]
  },
  {
   "cell_type": "code",
   "execution_count": 15,
   "id": "9250b2e9",
   "metadata": {},
   "outputs": [
    {
     "name": "stdout",
     "output_type": "stream",
     "text": [
      "Enter the string:aabbbbccde\n"
     ]
    },
    {
     "ename": "NameError",
     "evalue": "name 'sort' is not defined",
     "output_type": "error",
     "traceback": [
      "\u001b[1;31m---------------------------------------------------------------------------\u001b[0m",
      "\u001b[1;31mNameError\u001b[0m                                 Traceback (most recent call last)",
      "\u001b[1;32m<ipython-input-15-91dcfb35c355>\u001b[0m in \u001b[0;36m<module>\u001b[1;34m\u001b[0m\n\u001b[0;32m      8\u001b[0m             \u001b[0md\u001b[0m\u001b[1;33m[\u001b[0m\u001b[0mi\u001b[0m\u001b[1;33m]\u001b[0m\u001b[1;33m+=\u001b[0m\u001b[1;36m1\u001b[0m\u001b[1;33m\u001b[0m\u001b[1;33m\u001b[0m\u001b[0m\n\u001b[0;32m      9\u001b[0m     \u001b[0mprint\u001b[0m\u001b[1;33m(\u001b[0m\u001b[0msort\u001b[0m\u001b[1;33m(\u001b[0m\u001b[0md\u001b[0m\u001b[1;33m,\u001b[0m \u001b[0mkey\u001b[0m \u001b[1;33m=\u001b[0m \u001b[0mreverse\u001b[0m\u001b[1;33m)\u001b[0m\u001b[1;33m)\u001b[0m\u001b[1;33m\u001b[0m\u001b[1;33m\u001b[0m\u001b[0m\n\u001b[1;32m---> 10\u001b[1;33m \u001b[0mfreq_words\u001b[0m\u001b[1;33m(\u001b[0m\u001b[1;33m)\u001b[0m\u001b[1;33m\u001b[0m\u001b[1;33m\u001b[0m\u001b[0m\n\u001b[0m",
      "\u001b[1;32m<ipython-input-15-91dcfb35c355>\u001b[0m in \u001b[0;36mfreq_words\u001b[1;34m()\u001b[0m\n\u001b[0;32m      7\u001b[0m             \u001b[0md\u001b[0m\u001b[1;33m[\u001b[0m\u001b[0mi\u001b[0m\u001b[1;33m]\u001b[0m \u001b[1;33m=\u001b[0m \u001b[1;36m0\u001b[0m\u001b[1;33m\u001b[0m\u001b[1;33m\u001b[0m\u001b[0m\n\u001b[0;32m      8\u001b[0m             \u001b[0md\u001b[0m\u001b[1;33m[\u001b[0m\u001b[0mi\u001b[0m\u001b[1;33m]\u001b[0m\u001b[1;33m+=\u001b[0m\u001b[1;36m1\u001b[0m\u001b[1;33m\u001b[0m\u001b[1;33m\u001b[0m\u001b[0m\n\u001b[1;32m----> 9\u001b[1;33m     \u001b[0mprint\u001b[0m\u001b[1;33m(\u001b[0m\u001b[0msort\u001b[0m\u001b[1;33m(\u001b[0m\u001b[0md\u001b[0m\u001b[1;33m,\u001b[0m \u001b[0mkey\u001b[0m \u001b[1;33m=\u001b[0m \u001b[0mreverse\u001b[0m\u001b[1;33m)\u001b[0m\u001b[1;33m)\u001b[0m\u001b[1;33m\u001b[0m\u001b[1;33m\u001b[0m\u001b[0m\n\u001b[0m\u001b[0;32m     10\u001b[0m \u001b[0mfreq_words\u001b[0m\u001b[1;33m(\u001b[0m\u001b[1;33m)\u001b[0m\u001b[1;33m\u001b[0m\u001b[1;33m\u001b[0m\u001b[0m\n",
      "\u001b[1;31mNameError\u001b[0m: name 'sort' is not defined"
     ]
    }
   ],
   "source": [
    "def freq_words():\n",
    "    str = input(\"Enter the string:\")\n",
    "    li = str.split()\n",
    "    d = {}\n",
    "    for i in li:\n",
    "        if i not in d.keys():\n",
    "            d[i] = 0\n",
    "            d[i]+=1\n",
    "    print(sort(d, key = reverse))\n",
    "freq_words()"
   ]
  },
  {
   "cell_type": "code",
   "execution_count": 16,
   "id": "e7b78515",
   "metadata": {},
   "outputs": [
    {
     "ename": "IndentationError",
     "evalue": "expected an indented block (<ipython-input-16-5431ac22cbbb>, line 9)",
     "output_type": "error",
     "traceback": [
      "\u001b[1;36m  File \u001b[1;32m\"<ipython-input-16-5431ac22cbbb>\"\u001b[1;36m, line \u001b[1;32m9\u001b[0m\n\u001b[1;33m    print('%s %d' % (c, d[c]))\u001b[0m\n\u001b[1;37m    ^\u001b[0m\n\u001b[1;31mIndentationError\u001b[0m\u001b[1;31m:\u001b[0m expected an indented block\n"
     ]
    }
   ],
   "source": [
    "import collections\n",
    "str1 = 'aabbbccde'\n",
    "d = collections.defaultdict(int)\n",
    "for c in str1:\n",
    "   d[c] += 1\n",
    "\n",
    "for c in sorted(d, key = d.get, reverse = True):\n",
    "   if d[c] > 1:\n",
    "   print('%s %d'%(c, d[c]))"
   ]
  },
  {
   "cell_type": "code",
   "execution_count": 17,
   "id": "f7c16fd7",
   "metadata": {},
   "outputs": [
    {
     "ename": "IndentationError",
     "evalue": "expected an indented block (<ipython-input-17-49635aa548b9>, line 9)",
     "output_type": "error",
     "traceback": [
      "\u001b[1;36m  File \u001b[1;32m\"<ipython-input-17-49635aa548b9>\"\u001b[1;36m, line \u001b[1;32m9\u001b[0m\n\u001b[1;33m    print('%s %d'%(c, d[c]))\u001b[0m\n\u001b[1;37m    ^\u001b[0m\n\u001b[1;31mIndentationError\u001b[0m\u001b[1;31m:\u001b[0m expected an indented block\n"
     ]
    }
   ],
   "source": [
    "import collections\n",
    "str1 = 'aabbbccde'\n",
    "d = collections.defaultdict(int)\n",
    "for c in str1:\n",
    "   d[c] += 1\n",
    "\n",
    "for c in sorted(d, key = d.get, reverse = True):\n",
    "   if d[c] > 1:\n",
    "    print('%s %d'%(c, d[c]))"
   ]
  },
  {
   "cell_type": "code",
   "execution_count": 18,
   "id": "6b94b3c5",
   "metadata": {},
   "outputs": [
    {
     "name": "stdout",
     "output_type": "stream",
     "text": [
      "b 3\n",
      "a 2\n",
      "c 2\n"
     ]
    }
   ],
   "source": [
    "import collections\n",
    "str1 = 'aabbbccde'\n",
    "d = collections.defaultdict(int)\n",
    "for c in str1:\n",
    "   d[c] += 1\n",
    "\n",
    "for c in sorted(d, key = d.get, reverse = True):\n",
    "   if d[c] >= 1:\n",
    "    print('%s %d'%(c, d[c]))"
   ]
  },
  {
   "cell_type": "code",
   "execution_count": 19,
   "id": "807af595",
   "metadata": {},
   "outputs": [
    {
     "name": "stdout",
     "output_type": "stream",
     "text": [
      "b 3\n",
      "a 2\n",
      "c 2\n",
      "d 1\n",
      "e 1\n"
     ]
    }
   ],
   "source": [
    "import collections\n",
    "str1 = 'aabbbccde'\n",
    "d = collections.defaultdict(int)\n",
    "for c in str1:\n",
    "   d[c] += 1\n",
    "\n",
    "for c in sorted(d, key = d.get, reverse = True):\n",
    "   if d[c] >= 1:\n",
    "    print('%s %d'%(c, d[c],end=\"\"))"
   ]
  },
  {
   "cell_type": "code",
   "execution_count": 20,
   "id": "5a5a2b23",
   "metadata": {},
   "outputs": [
    {
     "ename": "SyntaxError",
     "evalue": "invalid syntax (<ipython-input-20-a3666ead3498>, line 9)",
     "output_type": "error",
     "traceback": [
      "\u001b[1;36m  File \u001b[1;32m\"<ipython-input-20-a3666ead3498>\"\u001b[1;36m, line \u001b[1;32m9\u001b[0m\n\u001b[1;33m    print('%s %d'%(c, d[c],end=\"\"))\u001b[0m\n\u001b[1;37m                              ^\u001b[0m\n\u001b[1;31mSyntaxError\u001b[0m\u001b[1;31m:\u001b[0m invalid syntax\n"
     ]
    }
   ],
   "source": [
    "import collections\n",
    "str1 = 'aabbbccde'\n",
    "d = collections.defaultdict(int)\n",
    "for c in str1:\n",
    "   d[c] += 1\n",
    "\n",
    "for c in sorted(d, key = d.get, reverse = True):\n",
    "   if d[c] >= 1:\n",
    "    print('%s %d'%(c, d[c]),end = \"\")"
   ]
  },
  {
   "cell_type": "code",
   "execution_count": 21,
   "id": "bea94c3f",
   "metadata": {},
   "outputs": [
    {
     "name": "stdout",
     "output_type": "stream",
     "text": [
      "b 3a 2c 2d 1e 1"
     ]
    }
   ],
   "source": [
    "import collections\n",
    "str1 = 'aabbbccde'\n",
    "d = collections.defaultdict(int)\n",
    "for c in str1:\n",
    "   d[c] += 1\n",
    "\n",
    "for c in sorted(d, key = d.get, reverse = True):\n",
    "   if d[c] >= 1:\n",
    "    print('%s %d'%(c, d[c]),end=\" \")"
   ]
  },
  {
   "cell_type": "code",
   "execution_count": 22,
   "id": "20b977bf",
   "metadata": {},
   "outputs": [
    {
     "name": "stdout",
     "output_type": "stream",
     "text": [
      "b 3 a 2 c 2 d 1 e 1 "
     ]
    }
   ],
   "source": [
    "import collections\n",
    "str1 = 'aabbbccde'\n",
    "d = collections.defaultdict(int)\n",
    "for c in str1:\n",
    "   d[c] += 1\n",
    "\n",
    "for c in sorted(d, key = d.get, reverse = True):\n",
    "   if d[c] >= 1:\n",
    "    print('%s %d'%(c, d[c]),end=\" \")"
   ]
  },
  {
   "cell_type": "code",
   "execution_count": 23,
   "id": "9d979a70",
   "metadata": {},
   "outputs": [
    {
     "name": "stdout",
     "output_type": "stream",
     "text": [
      "key1: 1 is present in both x and y\n"
     ]
    }
   ],
   "source": [
    "x = {'key1': 1, 'key2': 3, 'key3': 2}\n",
    "y = {'key1': 1, 'key2': 2}\n",
    "for (key, value) in set(x.items()) & set(y.items()):\n",
    "    print('%s: %s is present in both x and y' % (key, value))"
   ]
  },
  {
   "cell_type": "code",
   "execution_count": 24,
   "id": "ff32f2b1",
   "metadata": {},
   "outputs": [
    {
     "name": "stdout",
     "output_type": "stream",
     "text": [
      "4\n",
      "['e', 'o', 'u', 'e']\n"
     ]
    }
   ],
   "source": [
    "def vowel(text):\n",
    "    vowels = \"aeiuoAEIOU\"\n",
    "    print(len([letter for letter in text if letter in vowels]))\n",
    "    print([letter for letter in text if letter in vowels])\n",
    "vowel('w3resource')"
   ]
  },
  {
   "cell_type": "code",
   "execution_count": 25,
   "id": "af70435a",
   "metadata": {},
   "outputs": [
    {
     "name": "stdout",
     "output_type": "stream",
     "text": [
      "Original String :  Hello, Welcome to World of PYTHON\n",
      "No. of Upper case characters :  9\n",
      "No. of Lower case Characters :  18\n"
     ]
    }
   ],
   "source": [
    "def string_test(s):\n",
    "    d={\"UPPER_CASE\":0, \"LOWER_CASE\":0}\n",
    "    for c in s:\n",
    "        if c.isupper():\n",
    "           d[\"UPPER_CASE\"]+=1\n",
    "        elif c.islower():\n",
    "           d[\"LOWER_CASE\"]+=1\n",
    "        else:\n",
    "           pass\n",
    "    print (\"Original String : \", s)\n",
    "    print (\"No. of Upper case characters : \", d[\"UPPER_CASE\"])\n",
    "    print (\"No. of Lower case Characters : \", d[\"LOWER_CASE\"])\n",
    "\n",
    "string_test('Hello, Welcome to World of PYTHON')"
   ]
  },
  {
   "cell_type": "code",
   "execution_count": 26,
   "id": "b2e61ea3",
   "metadata": {},
   "outputs": [
    {
     "name": "stdout",
     "output_type": "stream",
     "text": [
      "True\n"
     ]
    }
   ],
   "source": [
    "def isPalindrome(string):\n",
    "\tleft_pos = 0\n",
    "\tright_pos = len(string) - 1\n",
    "\t\n",
    "\twhile right_pos >= left_pos:\n",
    "\t\tif not string[left_pos] == string[right_pos]:\n",
    "\t\t\treturn False\n",
    "\t\tleft_pos += 1\n",
    "\t\tright_pos -= 1\n",
    "\treturn True\n",
    "print(isPalindrome('madam'))"
   ]
  },
  {
   "cell_type": "code",
   "execution_count": 27,
   "id": "6e3db1b2",
   "metadata": {},
   "outputs": [
    {
     "ename": "SyntaxError",
     "evalue": "invalid syntax (<ipython-input-27-b299234de2dd>, line 2)",
     "output_type": "error",
     "traceback": [
      "\u001b[1;36m  File \u001b[1;32m\"<ipython-input-27-b299234de2dd>\"\u001b[1;36m, line \u001b[1;32m2\u001b[0m\n\u001b[1;33m    print(sorted(a, key = lambda x = float(x[1]),reverse = True))\u001b[0m\n\u001b[1;37m                                                               ^\u001b[0m\n\u001b[1;31mSyntaxError\u001b[0m\u001b[1;31m:\u001b[0m invalid syntax\n"
     ]
    }
   ],
   "source": [
    "a = [(\"item1\",\"12.20\"),(\"item2\",\"15.10\"),(\"item3\",\"24.5\")]\n",
    "print(sorted(a, key = lambda x = float(x[1]),reverse = True))"
   ]
  },
  {
   "cell_type": "code",
   "execution_count": null,
   "id": "362a179e",
   "metadata": {},
   "outputs": [],
   "source": [
    "\n",
    "class Solution:\n",
    "    def romanToInt(self, s: str) -> int:\n",
    "        romantoint ={\n",
    "'I'      :       1,\n",
    "'V'      :       5,\n",
    "'X'      :       10,\n",
    "'L'      :       50,\n",
    "'C'      :      100,\n",
    "'D'      :     500,\n",
    "'M'      :    1000}\n",
    "        i = 0\n",
    "        ans=0\n",
    "        greater = 0\n",
    "        while i< len(s):\n",
    "            \n",
    "            if i < len(s)-1:\n",
    "                if romantoint.get(s[i+1]) >romantoint.get(s[i]):\n",
    "                    \n",
    "                    greater = romantoint.get(s[i+1])-romantoint.get(s[i])\n",
    "                    ans = ans+ans1+greater\n",
    "                    \n",
    "                    \n",
    "                    \n",
    "                    \n",
    "                    i+=1\n",
    "                    \n",
    "                \n",
    "                else:    \n",
    "                    ans1 = romantoint.get(s[i])\n",
    "                    ans = ans+ans1\n",
    "                    print(ans)\n",
    "                    i+=1\n",
    "            \n",
    "        return (ans)\n",
    "d1 = Solution()\n",
    "d1.romanToInt(\"MCMXCIV\")\n",
    "                \n",
    "        \n",
    "                "
   ]
  },
  {
   "cell_type": "code",
   "execution_count": null,
   "id": "100116f6",
   "metadata": {},
   "outputs": [],
   "source": []
  },
  {
   "cell_type": "code",
   "execution_count": null,
   "id": "b5bd8743",
   "metadata": {},
   "outputs": [],
   "source": []
  }
 ],
 "metadata": {
  "kernelspec": {
   "display_name": "Python 3 (ipykernel)",
   "language": "python",
   "name": "python3"
  },
  "language_info": {
   "codemirror_mode": {
    "name": "ipython",
    "version": 3
   },
   "file_extension": ".py",
   "mimetype": "text/x-python",
   "name": "python",
   "nbconvert_exporter": "python",
   "pygments_lexer": "ipython3",
   "version": "3.9.12"
  }
 },
 "nbformat": 4,
 "nbformat_minor": 5
}
