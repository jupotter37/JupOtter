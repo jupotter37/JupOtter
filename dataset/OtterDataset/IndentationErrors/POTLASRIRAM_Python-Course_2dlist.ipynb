{
 "cells": [
  {
   "cell_type": "code",
   "execution_count": 41,
   "metadata": {},
   "outputs": [
    {
     "data": {
      "text/plain": [
       "[[7, 4, 1], [8, 5, 2], [9, 6, 3]]"
      ]
     },
     "execution_count": 41,
     "metadata": {},
     "output_type": "execute_result"
    }
   ],
   "source": [
    "## Rotate image\n",
    "\n",
    "matrix = [[1, 2, 3], [4, 5, 6], [7, 8, 9]]\n",
    "\n",
    "\n",
    "def rotate(m):\n",
    "    lst1= []\n",
    "    j_range = 0\n",
    "    for j in range(len(matrix)):\n",
    "        lst2=[]\n",
    "        for i  in range(len(m)-1,-1,-1):\n",
    "           lst2.append(m[i][j_range])\n",
    "        j_range = j_range+1\n",
    "        lst1.append(lst2)\n",
    "    return lst1\n",
    "\n",
    "rotate(matrix)\n"
   ]
  },
  {
   "cell_type": "code",
   "execution_count": 51,
   "metadata": {},
   "outputs": [
    {
     "data": {
      "text/plain": [
       "False"
      ]
     },
     "execution_count": 51,
     "metadata": {},
     "output_type": "execute_result"
    }
   ],
   "source": [
    "## Matrix obtained by Rotation or not?\n",
    "\n",
    "mat = [[0, 1], [1, 1]]\n",
    "target = [[1, 0], [0, 1]]\n",
    "\n",
    "\n",
    "def can_be_rotated(mat, target):\n",
    "    lst = []\n",
    "    for i in range(len(mat)-1,-1,-1):\n",
    "        lst1 =[]\n",
    "        for j in range(len(mat)):\n",
    "            lst1.append(mat[i][j])\n",
    "            ##print(mat[i][j])\n",
    "        lst.append(lst1)\n",
    "    if lst == target:\n",
    "        return True\n",
    "    else:\n",
    "        return False\n",
    "\n",
    "can_be_rotated(mat,target)"
   ]
  },
  {
   "cell_type": "code",
   "execution_count": 53,
   "metadata": {},
   "outputs": [
    {
     "data": {
      "text/plain": [
       "True"
      ]
     },
     "execution_count": 53,
     "metadata": {},
     "output_type": "execute_result"
    }
   ],
   "source": [
    "# Search a 2D matrix\n",
    "\n",
    "matrix = [[1, 3, 5, 7], \n",
    "                 [10, 11, 16, 20], \n",
    "                 [23, 30, 34, 60]]\n",
    "target = 1\n",
    "\n",
    "def search_matrix(matrix, target):\n",
    "    for i in range(len(matrix)):\n",
    "        for j in range(len(matrix)):\n",
    "            if matrix[i][j] == target:\n",
    "                return True\n",
    "    return False\n",
    "            \n",
    "\n",
    "\n",
    "search_matrix(matrix, target)"
   ]
  },
  {
   "cell_type": "code",
   "execution_count": null,
   "metadata": {},
   "outputs": [
    {
     "data": {
      "text/plain": [
       "11"
      ]
     },
     "execution_count": 2,
     "metadata": {},
     "output_type": "execute_result"
    }
   ],
   "source": [
    "## Minimum in sorted array\n",
    "\n",
    "nums = [11, 13, 15, 17] \n",
    "\n",
    "def findMin(nums):\n",
    "    return min(nums)\n",
    "\n",
    "findMin(nums)"
   ]
  },
  {
   "cell_type": "code",
   "execution_count": 1,
   "metadata": {},
   "outputs": [],
   "source": [
    "## Search in rotated sorted array\n",
    "\n",
    "nums = [4, 5, 6, 7, 0, 1, 2]\n",
    "target = 0\n",
    "\n"
   ]
  },
  {
   "cell_type": "code",
   "execution_count": 26,
   "metadata": {},
   "outputs": [
    {
     "name": "stdout",
     "output_type": "stream",
     "text": [
      "Checking\n",
      "4\n"
     ]
    },
    {
     "ename": "TypeError",
     "evalue": "'int' object is not subscriptable",
     "output_type": "error",
     "traceback": [
      "\u001b[1;31m---------------------------------------------------------------------------\u001b[0m",
      "\u001b[1;31mTypeError\u001b[0m                                 Traceback (most recent call last)",
      "Cell \u001b[1;32mIn[26], line 23\u001b[0m\n\u001b[0;32m     20\u001b[0m                    lst1\u001b[38;5;241m.\u001b[39mappend(lst[i][j])\n\u001b[0;32m     21\u001b[0m          \u001b[38;5;28;01mreturn\u001b[39;00m lst1\n\u001b[1;32m---> 23\u001b[0m \u001b[43mmatrix_reshape\u001b[49m\u001b[43m(\u001b[49m\u001b[43mmat\u001b[49m\u001b[43m,\u001b[49m\u001b[43mr\u001b[49m\u001b[43m,\u001b[49m\u001b[43mc\u001b[49m\u001b[43m)\u001b[49m\n",
      "Cell \u001b[1;32mIn[26], line 20\u001b[0m, in \u001b[0;36mmatrix_reshape\u001b[1;34m(mat, r, c)\u001b[0m\n\u001b[0;32m     18\u001b[0m \u001b[38;5;28;01mfor\u001b[39;00m i \u001b[38;5;129;01min\u001b[39;00m \u001b[38;5;28mrange\u001b[39m(r):\n\u001b[0;32m     19\u001b[0m      \u001b[38;5;28;01mfor\u001b[39;00m j \u001b[38;5;129;01min\u001b[39;00m \u001b[38;5;28mrange\u001b[39m(c):\n\u001b[1;32m---> 20\u001b[0m           lst1\u001b[38;5;241m.\u001b[39mappend(\u001b[43mlst\u001b[49m\u001b[43m[\u001b[49m\u001b[43mi\u001b[49m\u001b[43m]\u001b[49m\u001b[43m[\u001b[49m\u001b[43mj\u001b[49m\u001b[43m]\u001b[49m)\n\u001b[0;32m     21\u001b[0m \u001b[38;5;28;01mreturn\u001b[39;00m lst1\n",
      "\u001b[1;31mTypeError\u001b[0m: 'int' object is not subscriptable"
     ]
    }
   ],
   "source": [
    "## Reshape matrix\n",
    "\n",
    "mat = [[1, 2], [3, 4]]\n",
    "r=1\n",
    "c=4\n",
    "\n",
    "def matrix_reshape(mat, r, c):\n",
    "    print(\"Checking\")\n",
    "    s1 = len(mat)\n",
    "    s2 = r*c\n",
    "    print(r*c)\n",
    "    lst = []\n",
    "    for i in range(len(mat)):\n",
    "            for j in range(len(mat)):\n",
    "                lst.append(mat[i][j])\n",
    "    if s2 == len(lst):\n",
    "         lst1=[]\n",
    "         for i in range(r):\n",
    "              for j in range(c):\n",
    "                   lst1.append(lst[i][j])\n",
    "         return lst1\n",
    "\n",
    "matrix_reshape(mat,r,c)"
   ]
  },
  {
   "cell_type": "code",
   "execution_count": 1,
   "metadata": {},
   "outputs": [
    {
     "ename": "IndentationError",
     "evalue": "unexpected indent (2580688874.py, line 2)",
     "output_type": "error",
     "traceback": [
      "\u001b[1;36m  Cell \u001b[1;32mIn[1], line 2\u001b[1;36m\u001b[0m\n\u001b[1;33m    n = len(mat[0])\u001b[0m\n\u001b[1;37m    ^\u001b[0m\n\u001b[1;31mIndentationError\u001b[0m\u001b[1;31m:\u001b[0m unexpected indent\n"
     ]
    }
   ],
   "source": [
    "m = len(mat)\n",
    "    n = len(mat[0])\n",
    "    \n",
    "    # Check if reshaping is possible by comparing total elements\n",
    "    if m * n != r * c:\n",
    "        return mat\n",
    " \n",
    "    # Flatten the matrix into a 1D list\n",
    "    flat_list = []\n",
    "    for row in mat:\n",
    "        for num in row:\n",
    "            flat_list.append(num)\n",
    "    \n",
    "    # Create a new reshaped matrix\n",
    "    reshaped_matrix = []\n",
    "    for i in range(r):\n",
    "        reshaped_matrix.append(flat_list[i * c:(i + 1) * c])\n",
    "    \n",
    "    return reshaped_matrix\n",
    " \n",
    "# Helper function for debugging (can be removed for production)\n",
    "def display_reshaped_matrix(mat, r, c):\n",
    "    result = matrix_reshape(mat, r, c)\n",
    "    for row in result:\n",
    "        print(row)"
   ]
  },
  {
   "cell_type": "code",
   "execution_count": null,
   "metadata": {},
   "outputs": [
    {
     "name": "stdout",
     "output_type": "stream",
     "text": [
      "[1, 3, 3, 1]\n",
      "[1, 3, 3, 1]\n",
      "[1, 3, 3, 1]\n",
      "[1, 3, 3, 1]\n"
     ]
    }
   ],
   "source": [
    "lst = [1,2,1]\n",
    "k=0\n",
    "for i in range(4):\n",
    "    print([lst[k]])"
   ]
  },
  {
   "cell_type": "code",
   "execution_count": 1,
   "metadata": {},
   "outputs": [
    {
     "name": "stdout",
     "output_type": "stream",
     "text": [
      "[[1], [1, 1], [1, 2, 1], [1, 3, 3, 1], [1, 4, 6, 4, 1]]\n"
     ]
    }
   ],
   "source": [
    "## Pascals triangle\n",
    "n = int(input(\"Enter no of rows\"))\n",
    "\n",
    "\n",
    "def generate(n):\n",
    "    lst = []\n",
    "    lst_final=[]\n",
    "    for i in range(n):\n",
    "        if i==0:\n",
    "            lst.append(1)\n",
    "            lst_final.append(lst.copy())\n",
    "            lst.clear()\n",
    "    \n",
    "        else:\n",
    "            for j in range(i+1):\n",
    "                if j==0 or j==(i):\n",
    "                    lst.append(1)\n",
    "                else:\n",
    "                    lst.append(lst_final[i-1][j-1]+lst_final[i-1][j])\n",
    "            lst_final.append(lst.copy())\n",
    "            lst.clear()          \n",
    "    return lst_final\n",
    "\n",
    "result = generate(n)\n",
    "print(result)"
   ]
  },
  {
   "cell_type": "code",
   "execution_count": null,
   "metadata": {},
   "outputs": [
    {
     "data": {
      "text/plain": [
       "[1, 2, 3, 4, 8, 12, 11, 10, 9, 5, 6, 7]"
      ]
     },
     "execution_count": 15,
     "metadata": {},
     "output_type": "execute_result"
    }
   ],
   "source": [
    "## Spiral Matrix\n",
    "\n",
    "matrix = [[1, 2, 3, 4],\n",
    "          [5, 6, 7, 8],\n",
    "          [9, 10, 11, 12]]\n",
    "def spiral_order(matrix):\n",
    "    lst =[]\n",
    "    rb = 0\n",
    "    re = len(matrix)\n",
    "    cb = 0\n",
    "    ce = len(matrix[0])\n",
    "    while rb<=re and cb <=ce:\n",
    "        ## Traverse right\n",
    "        for i in range(cb,ce):\n",
    "            lst.append(matrix[rb][i])\n",
    "        rb=rb+1\n",
    "        ## Traverse down\n",
    "        for j in range(rb,re):\n",
    "            lst.append(matrix[j][ce-1])\n",
    "        ce = ce-1\n",
    "        ## Traverse left\n",
    "        if rb < re:\n",
    "            for i in range(ce - 1, cb - 1, -1):\n",
    "                lst.append(matrix[re - 1][i])\n",
    "        re -= 1\n",
    "        ## Traverse up\n",
    "        if cb < ce:\n",
    "            for j in range(re - 1, rb - 1, -1):\n",
    "                lst.append(matrix[j][cb])\n",
    "        cb += 1\n",
    "        \n",
    "    return lst\n",
    "spiral_order(matrix)"
   ]
  },
  {
   "cell_type": "code",
   "execution_count": null,
   "metadata": {},
   "outputs": [],
   "source": []
  }
 ],
 "metadata": {
  "kernelspec": {
   "display_name": "Python 3",
   "language": "python",
   "name": "python3"
  },
  "language_info": {
   "codemirror_mode": {
    "name": "ipython",
    "version": 3
   },
   "file_extension": ".py",
   "mimetype": "text/x-python",
   "name": "python",
   "nbconvert_exporter": "python",
   "pygments_lexer": "ipython3",
   "version": "3.13.0"
  }
 },
 "nbformat": 4,
 "nbformat_minor": 2
}
