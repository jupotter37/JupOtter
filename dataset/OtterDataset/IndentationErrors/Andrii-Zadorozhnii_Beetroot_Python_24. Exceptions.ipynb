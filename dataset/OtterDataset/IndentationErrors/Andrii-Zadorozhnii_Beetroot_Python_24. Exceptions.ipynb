{
 "cells": [
  {
   "metadata": {},
   "cell_type": "markdown",
   "source": "## Errors and Exceptions"
  },
  {
   "metadata": {},
   "cell_type": "markdown",
   "source": "There are (at least) two distinguishable kinds of errors: syntax errors and exceptions"
  },
  {
   "metadata": {},
   "cell_type": "code",
   "outputs": [],
   "execution_count": null,
   "source": "while True print('Hello world')"
  },
  {
   "metadata": {},
   "cell_type": "markdown",
   "source": "Даже если оператор или выражение синтаксически корректны, при попытке их выполнения они могут привести к ошибке. Ошибки, обнаруженные во время выполнения, называются `исключениями` и не являются безусловно фатальными: вскоре вы узнаете, как их обрабатывать в программах на Python. Однако большинство исключений не обрабатываются программами и приводят к появлению сообщений об ошибках, как показано здесь.\n"
  },
  {
   "metadata": {},
   "cell_type": "code",
   "outputs": [],
   "execution_count": null,
   "source": "1 / 0"
  },
  {
   "metadata": {},
   "cell_type": "code",
   "outputs": [],
   "execution_count": null,
   "source": "'2' + 2"
  },
  {
   "metadata": {},
   "cell_type": "code",
   "outputs": [],
   "execution_count": null,
   "source": [
    "x = [1,2,3]\n",
    "x[4]"
   ]
  },
  {
   "metadata": {},
   "cell_type": "markdown",
   "source": "### Handling exceptions"
  },
  {
   "metadata": {},
   "cell_type": "code",
   "outputs": [],
   "execution_count": null,
   "source": [
    "try:\n",
    "    1 / 0\n",
    "except ZeroDivisionError:\n",
    "    print('imposible operation')"
   ]
  },
  {
   "metadata": {},
   "cell_type": "markdown",
   "source": [
    "Оператор `try` работает следующим образом.\n",
    "\n",
    "- Сначала выполняется предложение `try` (оператор(ы) между ключевыми словами `try` и `except`).\n",
    "- Если исключение не возникает, то клаузула except пропускается и выполнение оператора `try` завершается.\n",
    "- Если во время выполнения утверждения `try` возникает исключение, то остальная часть утверждения пропускается. Затем, если его тип совпадает с типом исключения, названного после ключевого слова except, выполняется предложение except, а затем продолжается выполнение после оператора `try`.\n",
    "- Если исключение возникает, но не совпадает с исключением, названным в предложении except, оно передается во внешние операторы `try`; если обработчик не найден, это необработанное исключение, и выполнение останавливается с сообщением, как показано выше.\n"
   ]
  },
  {
   "metadata": {},
   "cell_type": "markdown",
   "source": "An except clause may name multiple exceptions as a parenthesized tuple, for example"
  },
  {
   "metadata": {},
   "cell_type": "code",
   "outputs": [],
   "execution_count": null,
   "source": [
    "try:\n",
    "    pass\n",
    "except (RuntimeError, TypeError, NameError):\n",
    "    pass"
   ]
  },
  {
   "metadata": {},
   "cell_type": "code",
   "outputs": [],
   "execution_count": null,
   "source": [
    "try:\n",
    "    [1,2,3][4]\n",
    "except TypeError:\n",
    "    print(\"oops ham\")\n",
    "except ZeroDivisionError:\n",
    "    print(\"oops spam\")\n",
    "except:\n",
    "    print(\"Unexpected error!\")\n",
    "    raise"
   ]
  },
  {
   "metadata": {},
   "cell_type": "markdown",
   "source": [
    "Оператор `try ... except` имеет необязательное предложение else, которое, если оно присутствует, должно следовать за всеми предложениями except. Он полезен для кода, который должен быть выполнен, если предложение try не вызывает исключения.\n",
    "Например:"
   ]
  },
  {
   "metadata": {},
   "cell_type": "code",
   "outputs": [],
   "execution_count": null,
   "source": [
    "x = [1,2,3,4,0]\n",
    "for i in x:\n",
    "    try:\n",
    "        print(10 / i)\n",
    "    except ZeroDivisionError:\n",
    "        print('wrong operations')\n",
    "    else:\n",
    "        print('good operation')"
   ]
  },
  {
   "metadata": {},
   "cell_type": "code",
   "outputs": [],
   "execution_count": null,
   "source": [
    "try:\n",
    "    1 / 0\n",
    "except ZeroDivisionError:\n",
    "    print(1)\n",
    "except ZeroDivisionError:\n",
    "    print(2)"
   ]
  },
  {
   "metadata": {},
   "cell_type": "markdown",
   "source": "В предложении except после имени исключения может быть указана переменная. Переменная привязывается к экземпляру исключения с аргументами, хранящимися в instance.args."
  },
  {
   "metadata": {},
   "cell_type": "code",
   "outputs": [],
   "execution_count": null,
   "source": [
    "try:\n",
    "    raise Exception('spam', 'eggs')\n",
    "except Exception as inst:\n",
    "    print(type(inst))    # the exception instance\n",
    "    print(inst.args)     # arguments stored in .args\n",
    "    print(inst)          # __str__ allows args to be printed directly,\n",
    "                         # but may be overridden in exception subclasses\n",
    "    x, y = inst.args     # unpack args\n",
    "    print('x =', x)\n",
    "    print('y =', y)"
   ]
  },
  {
   "metadata": {},
   "cell_type": "markdown",
   "source": "## Raise errors"
  },
  {
   "metadata": {},
   "cell_type": "code",
   "outputs": [],
   "execution_count": null,
   "source": "raise NameError('HiThere')"
  },
  {
   "metadata": {},
   "cell_type": "code",
   "outputs": [],
   "execution_count": null,
   "source": [
    "try:\n",
    "    raise NameError\n",
    "except NameError:\n",
    "    print('oops')\n",
    "    raise"
   ]
  },
  {
   "metadata": {},
   "cell_type": "code",
   "outputs": [],
   "execution_count": null,
   "source": [
    "x = 0 # 1\n",
    "\n",
    "try:\n",
    "#     1/x\n",
    "    raise ValueError()\n",
    "except ZeroDivisionError:\n",
    "    print('handle')\n",
    "finally:\n",
    "    print('run anyway')"
   ]
  },
  {
   "metadata": {},
   "cell_type": "markdown",
   "source": [
    "Если присутствует предложение finally, то оно будет выполнено в качестве последней задачи перед завершением оператора try. Предложение finally проверяет, не приводит ли оператор try к возникновению исключения. Ниже описаны некоторые более сложные случаи, когда возникает исключение:\n",
    "\n",
    "- Если исключение возникает во время выполнения оператора `try`, оно может быть обработано предложением `except`. Если исключение не обработано предложением `except`, то оно будет повторно поднято после выполнения предложения `finally`.\n",
    "- Исключение может возникнуть во время выполнения клаузы `except` или `else`. Опять же, исключение будет повторно поднято после выполнения предложения `finally`.\n",
    "- Если оператор `try` достигает оператора `break`, `continue` или `return`, то предложение `finally` будет выполнено непосредственно перед выполнением оператора `break`, `continue` или `return`.\n",
    "- Если предложение `finally` содержит оператор возврата, то оператор возврата в предложении `finally` будет выполнен до и вместо оператора возврата в предложении try."
   ]
  },
  {
   "metadata": {},
   "cell_type": "code",
   "outputs": [],
   "execution_count": null,
   "source": [
    "def test():\n",
    "    try:\n",
    "        1/0\n",
    "    except ZeroDivisionError:\n",
    "        return 1\n",
    "    finally:\n",
    "        return 0"
   ]
  },
  {
   "metadata": {},
   "cell_type": "code",
   "outputs": [],
   "execution_count": null,
   "source": "test()"
  },
  {
   "metadata": {},
   "cell_type": "code",
   "outputs": [],
   "execution_count": null,
   "source": ""
  },
  {
   "metadata": {},
   "cell_type": "markdown",
   "source": ""
  },
  {
   "metadata": {},
   "cell_type": "markdown",
   "source": [
    "Вот описание каждого исключения и его подклассов, которые находятся в иерархии BaseException в Python. Эти исключения могут возникать при различных ситуациях в программе, и их можно перехватывать и обрабатывать с помощью блоков try-except.\n",
    "\n",
    "1. BaseException\n",
    "\n",
    "Это базовый класс всех исключений в Python. Все исключения, за исключением системных (например, SystemExit), наследуются от него.\n",
    "\n",
    "2. SystemExit\n",
    "\n",
    "Возникает, когда вызывается функция sys.exit(). Это исключение сигнализирует о завершении программы. Оно не является ошибкой, и, если не перехватывается, программа завершится.\n",
    "\t•\tПример:\n",
    "\n",
    "import sys\n",
    "sys.exit(\"Goodbye!\")\n",
    "\n",
    "3. KeyboardInterrupt\n",
    "\n",
    "Возникает, когда пользователь нажимает клавишу прерывания (обычно это Ctrl+C), чтобы остановить выполнение программы. Это исключение позволяет программе завершиться, но его можно перехватить, если нужно.\n",
    "\t•\tПример:\n",
    "\n",
    "try:\n",
    "    while True:\n",
    "        pass\n",
    "except KeyboardInterrupt:\n",
    "    print(\"Программа прервана пользователем!\")\n",
    "\n",
    "4. GeneratorExit\n",
    "\n",
    "Этот тип исключения возникает, когда генератор завершает выполнение с помощью метода close().\n",
    "\t•\tПример:\n",
    "\n",
    "def my_gen():\n",
    "    yield 1\n",
    "    yield 2\n",
    "g = my_gen()\n",
    "next(g)\n",
    "g.close()  # Это вызовет GeneratorExit\n",
    "\n",
    "5. Exception\n",
    "\n",
    "Основной класс для большинства исключений, которые не являются системными ошибками. Он является родителем для большинства стандартных ошибок в Python.\n",
    "\n",
    "6. StopIteration\n",
    "\n",
    "Возникает, когда генератор или итератор завершается. Это исключение используется в итераторах для индикации, что последовательность данных закончена.\n",
    "\t•\tПример:\n",
    "\n",
    "it = iter([1, 2, 3])\n",
    "next(it)  # Возвращает 1\n",
    "next(it)  # Возвращает 2\n",
    "next(it)  # Возвращает 3\n",
    "next(it)  # Генерирует StopIteration\n",
    "\n",
    "7. StopAsyncIteration\n",
    "\n",
    "Это исключение аналогично StopIteration, но для асинхронных итераторов (например, в асинхронных генераторах).\n",
    "\t•\tПример:\n",
    "\n",
    "async def async_gen():\n",
    "    yield 1\n",
    "    yield 2\n",
    "\n",
    "async for val in async_gen():\n",
    "    print(val)\n",
    "\n",
    "8. ArithmeticError\n",
    "\n",
    "Базовый класс для исключений, связанных с арифметическими операциями.\n",
    "\t•\tПодклассы:\n",
    "\t•\tFloatingPointError: Ошибка при операциях с плавающей точкой.\n",
    "\t•\tOverflowError: Возникает, когда результат операции выходит за пределы диапазона.\n",
    "\t•\tZeroDivisionError: Возникает, когда происходит деление на ноль.\n",
    "\t•\tПример:\n",
    "\n",
    "result = 1 / 0  # Возникает ZeroDivisionError\n",
    "\n",
    "9. AssertionError\n",
    "\n",
    "Возникает, когда проверка утверждения (assert) не проходит.\n",
    "\t•\tПример:\n",
    "\n",
    "assert 1 == 2  # Возникает AssertionError\n",
    "\n",
    "10. AttributeError\n",
    "\n",
    "Происходит, когда объект не имеет атрибута, к которому пытаются обратиться.\n",
    "\t•\tПример:\n",
    "\n",
    "x = 10\n",
    "x.foo  # Возникает AttributeError\n",
    "\n",
    "11. BufferError\n",
    "\n",
    "Возникает при ошибках, связанных с буферами (например, если неправильно взаимодействуешь с объектами, поддерживающими буферы).\n",
    "\n",
    "12. EOFError\n",
    "\n",
    "Происходит, когда достигается конец файла, а операция ввода-вывода требует дополнительных данных.\n",
    "\t•\tПример:\n",
    "\n",
    "input()  # Возникает EOFError, если файл пуст или достигнут конец\n",
    "\n",
    "13. ImportError\n",
    "\n",
    "Возникает, если модуль не может быть импортирован.\n",
    "\t•\tПодкласс:\n",
    "\t•\tModuleNotFoundError: Более конкретное исключение, если модуль не найден.\n",
    "\t•\tПример:\n",
    "\n",
    "import non_existent_module  # Возникает ImportError\n",
    "\n",
    "14. LookupError\n",
    "\n",
    "Базовый класс для исключений, связанных с поиском (например, индексация или поиск в словарях).\n",
    "\t•\tПодклассы:\n",
    "\t•\tIndexError: Возникает, когда индекс выходит за пределы.\n",
    "\t•\tKeyError: Возникает, когда ключ не найден в словаре.\n",
    "\t•\tПример:\n",
    "\n",
    "my_list = [1, 2, 3]\n",
    "my_list[5]  # Возникает IndexError\n",
    "\n",
    "15. MemoryError\n",
    "\n",
    "Возникает, когда программа исчерпывает память.\n",
    "\n",
    "16. NameError\n",
    "\n",
    "Происходит, когда обращаются к переменной, которая не была определена.\n",
    "\t•\tПодкласс:\n",
    "\t•\tUnboundLocalError: Возникает, когда переменная используется до её присваивания в локальной области видимости.\n",
    "\t•\tПример:\n",
    "\n",
    "print(x)  # Возникает NameError\n",
    "\n",
    "17. OSError\n",
    "\n",
    "Происходит при ошибках операционной системы, таких как проблемы с файловой системой или доступом к устройствам.\n",
    "\t•\tПодклассы:\n",
    "\t•\tBlockingIOError: Ошибка при блокирующем ввода/вывода.\n",
    "\t•\tFileExistsError: Ошибка при попытке создать файл, который уже существует.\n",
    "\t•\tFileNotFoundError: Ошибка, если файл не найден.\n",
    "\t•\tPermissionError: Ошибка из-за отсутствия прав доступа.\n",
    "\t•\tTimeoutError: Ошибка из-за тайм-аута.\n",
    "\t•\tИ другие…\n",
    "\n",
    "18. ReferenceError\n",
    "\n",
    "Происходит, когда выполняется операция с слабыми ссылками (например, объект был уничтожен в процессе работы программы).\n",
    "\n",
    "19. RuntimeError\n",
    "\n",
    "Возникает при ошибках, которые происходят во время выполнения программы.\n",
    "\t•\tПодклассы:\n",
    "\t•\tNotImplementedError: Ошибка, если метод не реализован.\n",
    "\t•\tRecursionError: Ошибка, если рекурсия зашла слишком глубоко.\n",
    "\n",
    "20. SyntaxError\n",
    "\n",
    "Происходит при ошибке в синтаксисе Python.\n",
    "\t•\tПодкласс:\n",
    "\t•\tIndentationError: Ошибка неправильного отступа.\n",
    "\t•\tTabError: Ошибка, когда используются смешанные табуляции и пробелы.\n",
    "\n",
    "21. SystemError\n",
    "\n",
    "Возникает при ошибках системы или внутренних ошибок Python.\n",
    "\n",
    "22. TypeError\n",
    "\n",
    "Происходит, когда операция применяется к объекту неподходящего типа.\n",
    "\n",
    "23. ValueError\n",
    "\n",
    "Происходит, когда функция получает аргумент, который имеет правильный тип, но неверное значение.\n",
    "\t•\tПодкласс:\n",
    "\t•\tUnicodeError: Ошибка при работе с кодировками Unicode.\n",
    "\t•\tUnicodeDecodeError: Ошибка при декодировании строки.\n",
    "\t•\tUnicodeEncodeError: Ошибка при кодировании строки.\n",
    "\t•\tUnicodeTranslateError: Ошибка при трансляции строки.\n",
    "\n",
    "24. Warning\n",
    "\n",
    "Базовый класс для всех предупреждений в Python.\n",
    "\t•\tПодклассы:\n",
    "\t•\tDeprecationWarning: Предупреждает о устаревших функциях.\n",
    "\t•\tSyntaxWarning: Предупреждает о возможных синтаксических ошибках.\n",
    "\t•\tUserWarning: Общие предупреждения, предназначенные для пользователя.\n",
    "\t•\tResourceWarning: Предупреждает о потенциальных проблемах с ресурсами.\n",
    "\t•\tИ другие…\n",
    "\n",
    "Это основные исключения и их подклассы в Python, которые помогают обрабатывать различные типы ошибок."
   ]
  }
 ],
 "metadata": {
  "kernelspec": {
   "display_name": "Python 3",
   "language": "python",
   "name": "python3"
  },
  "language_info": {
   "codemirror_mode": {
    "name": "ipython",
    "version": 3
   },
   "file_extension": ".py",
   "mimetype": "text/x-python",
   "name": "python",
   "nbconvert_exporter": "python",
   "pygments_lexer": "ipython3",
   "version": "3.7.4"
  }
 },
 "nbformat": 4,
 "nbformat_minor": 2
}
