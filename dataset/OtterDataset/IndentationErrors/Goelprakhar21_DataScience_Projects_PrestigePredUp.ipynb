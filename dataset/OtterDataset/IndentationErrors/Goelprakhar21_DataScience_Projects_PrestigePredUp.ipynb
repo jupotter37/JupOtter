{
 "cells": [
  {
   "cell_type": "code",
   "execution_count": 1,
   "id": "c619f1d8",
   "metadata": {},
   "outputs": [
    {
     "name": "stdout",
     "output_type": "stream",
     "text": [
      "Defaulting to user installation because normal site-packages is not writeable\n",
      "Requirement already satisfied: yfinance==0.2.28 in c:\\users\\patha\\appdata\\roaming\\python\\python310\\site-packages (0.2.28)\n",
      "Requirement already satisfied: pandas>=1.3.0 in c:\\users\\patha\\appdata\\roaming\\python\\python310\\site-packages (from yfinance==0.2.28) (2.0.3)\n",
      "Requirement already satisfied: numpy>=1.16.5 in c:\\users\\patha\\appdata\\roaming\\python\\python310\\site-packages (from yfinance==0.2.28) (1.24.3)\n",
      "Requirement already satisfied: requests>=2.31 in c:\\users\\patha\\appdata\\roaming\\python\\python310\\site-packages (from yfinance==0.2.28) (2.31.0)\n",
      "Requirement already satisfied: multitasking>=0.0.7 in c:\\users\\patha\\appdata\\roaming\\python\\python310\\site-packages (from yfinance==0.2.28) (0.0.11)\n",
      "Requirement already satisfied: lxml>=4.9.1 in c:\\dsda_software\\lib\\site-packages (from yfinance==0.2.28) (4.9.1)\n",
      "Requirement already satisfied: appdirs>=1.4.4 in c:\\dsda_software\\lib\\site-packages (from yfinance==0.2.28) (1.4.4)\n",
      "Requirement already satisfied: pytz>=2022.5 in c:\\dsda_software\\lib\\site-packages (from yfinance==0.2.28) (2022.7)\n",
      "Requirement already satisfied: frozendict>=2.3.4 in c:\\users\\patha\\appdata\\roaming\\python\\python310\\site-packages (from yfinance==0.2.28) (2.3.8)\n",
      "Requirement already satisfied: beautifulsoup4>=4.11.1 in c:\\dsda_software\\lib\\site-packages (from yfinance==0.2.28) (4.11.1)\n",
      "Requirement already satisfied: html5lib>=1.1 in c:\\users\\patha\\appdata\\roaming\\python\\python310\\site-packages (from yfinance==0.2.28) (1.1)\n",
      "Requirement already satisfied: soupsieve>1.2 in c:\\dsda_software\\lib\\site-packages (from beautifulsoup4>=4.11.1->yfinance==0.2.28) (2.3.2.post1)\n",
      "Requirement already satisfied: six>=1.9 in c:\\dsda_software\\lib\\site-packages (from html5lib>=1.1->yfinance==0.2.28) (1.16.0)\n",
      "Requirement already satisfied: webencodings in c:\\dsda_software\\lib\\site-packages (from html5lib>=1.1->yfinance==0.2.28) (0.5.1)\n",
      "Requirement already satisfied: python-dateutil>=2.8.2 in c:\\dsda_software\\lib\\site-packages (from pandas>=1.3.0->yfinance==0.2.28) (2.8.2)\n",
      "Requirement already satisfied: tzdata>=2022.1 in c:\\users\\patha\\appdata\\roaming\\python\\python310\\site-packages (from pandas>=1.3.0->yfinance==0.2.28) (2023.3)\n",
      "Requirement already satisfied: charset-normalizer<4,>=2 in c:\\dsda_software\\lib\\site-packages (from requests>=2.31->yfinance==0.2.28) (2.0.4)\n",
      "Requirement already satisfied: idna<4,>=2.5 in c:\\dsda_software\\lib\\site-packages (from requests>=2.31->yfinance==0.2.28) (3.4)\n",
      "Requirement already satisfied: urllib3<3,>=1.21.1 in c:\\dsda_software\\lib\\site-packages (from requests>=2.31->yfinance==0.2.28) (1.26.14)\n",
      "Requirement already satisfied: certifi>=2017.4.17 in c:\\dsda_software\\lib\\site-packages (from requests>=2.31->yfinance==0.2.28) (2023.5.7)\n"
     ]
    },
    {
     "name": "stderr",
     "output_type": "stream",
     "text": [
      "\n",
      "[notice] A new release of pip is available: 23.1.2 -> 23.2.1\n",
      "[notice] To update, run: python.exe -m pip install --upgrade pip\n"
     ]
    }
   ],
   "source": [
    "!pip3 install yfinance==0.2.28"
   ]
  },
  {
   "cell_type": "code",
   "execution_count": 2,
   "id": "29c1e30d",
   "metadata": {},
   "outputs": [
    {
     "name": "stdout",
     "output_type": "stream",
     "text": [
      "[*********************100%%**********************]  1 of 1 completed\n"
     ]
    },
    {
     "name": "stderr",
     "output_type": "stream",
     "text": [
      "C:\\Users\\patha\\AppData\\Roaming\\Python\\Python310\\site-packages\\gspread\\worksheet.py:1069: UserWarning: [Deprecated][in version 6.0.0]: method signature will change to: 'Worksheet.update(value = [[]], range_name=)' arguments 'range_name' and 'values' will swap, values will be mandatory of type: 'list(list(...))'\n",
      "  warnings.warn(\n"
     ]
    },
    {
     "name": "stdout",
     "output_type": "stream",
     "text": [
      "Market Closed; Data Upto Last Trade Furnished for PRESTIGE.NS.\n"
     ]
    }
   ],
   "source": [
    "import gspread\n",
    "import yfinance as yf\n",
    "import datetime\n",
    "import time\n",
    "import pandas as pd\n",
    "\n",
    "# Load the Google Sheets service account credentials\n",
    "gc = gspread.service_account(filename=r\"C:\\Users\\patha\\Downloads\\finance-dash-399912-857b62e41da9.json\")\n",
    "\n",
    "# Open the Google Sheets document by its key\n",
    "spreadsheet_key = \"10XBdK7L0C8pTyu5lHF6HVe1SH4InzgRDAtqM0dDuWQM\"\n",
    "worksheet_name = \"Sheet1\"\n",
    "worksheet = gc.open_by_key(spreadsheet_key).worksheet(worksheet_name)\n",
    "\n",
    "# Define the stock symbol you want to fetch data for\n",
    "symbol = \"PRESTIGE.NS\"\n",
    "\n",
    "# Initialize variables\n",
    "i = 0\n",
    "secs = 0\n",
    "\n",
    "# Check if the market is open on a weekday between 9 AM and 4 PM\n",
    "now = datetime.datetime.now()\n",
    "if now.weekday() in range(0, 5) and 9 <= now.hour < 16:\n",
    "    # If market is open, get the data and update the worksheet every 5 minutes\n",
    "    timetorun_sec = int(input(\"Enter the number of seconds to run (e.g., 3600 for 1 hour): \"))\n",
    "    while secs < timetorun_sec:\n",
    "        data = yf.download(symbol, period=\"1d\", interval=\"5m\")\n",
    "        if not data.empty:\n",
    "            #data[\"Datetime\"] = data.index.strftime(\"%Y-%m-%d %H:%M:%S\")\n",
    "            data = data.reset_index()\n",
    "            values = data.values.tolist()\n",
    "            worksheet.update(\"A1\", values)\n",
    "            print(f\"{i+1}th iteration done, waiting for 5 minutes\")\n",
    "        time.sleep(300)  # 300 seconds = 5 minutes\n",
    "        secs += 300\n",
    "        i += 1\n",
    "    print(\"Time Exhausted.\")\n",
    "else:\n",
    "    # If market is closed, get the data for the day and update the worksheet\n",
    "    data = yf.download(symbol, period=\"1d\", interval=\"5m\")\n",
    "    if not data.empty:\n",
    "        #data[\"Datetime\"] = data.index.strftime(\"%Y-%m-%d %H:%M:%S\")\n",
    "        data = data.reset_index()\n",
    "        data['Datetime']=data['Datetime'].astype(str)\n",
    "        values = data.values.tolist()\n",
    "        worksheet.update(\"A1\", values)\n",
    "        print(f\"Market Closed; Data Upto Last Trade Furnished for {symbol}.\")"
   ]
  },
  {
   "cell_type": "code",
   "execution_count": 3,
   "id": "cb858ae0",
   "metadata": {},
   "outputs": [
    {
     "data": {
      "text/html": [
       "<div>\n",
       "<style scoped>\n",
       "    .dataframe tbody tr th:only-of-type {\n",
       "        vertical-align: middle;\n",
       "    }\n",
       "\n",
       "    .dataframe tbody tr th {\n",
       "        vertical-align: top;\n",
       "    }\n",
       "\n",
       "    .dataframe thead th {\n",
       "        text-align: right;\n",
       "    }\n",
       "</style>\n",
       "<table border=\"1\" class=\"dataframe\">\n",
       "  <thead>\n",
       "    <tr style=\"text-align: right;\">\n",
       "      <th></th>\n",
       "      <th>Datetime</th>\n",
       "      <th>Open</th>\n",
       "      <th>High</th>\n",
       "      <th>Low</th>\n",
       "      <th>Close</th>\n",
       "      <th>Adj Close</th>\n",
       "      <th>Volume</th>\n",
       "    </tr>\n",
       "  </thead>\n",
       "  <tbody>\n",
       "    <tr>\n",
       "      <th>0</th>\n",
       "      <td>2023-09-22 09:15:00+05:30</td>\n",
       "      <td>607.799988</td>\n",
       "      <td>608.400024</td>\n",
       "      <td>606.000000</td>\n",
       "      <td>608.250000</td>\n",
       "      <td>608.250000</td>\n",
       "      <td>0</td>\n",
       "    </tr>\n",
       "    <tr>\n",
       "      <th>1</th>\n",
       "      <td>2023-09-22 09:20:00+05:30</td>\n",
       "      <td>608.549988</td>\n",
       "      <td>610.849976</td>\n",
       "      <td>608.549988</td>\n",
       "      <td>610.849976</td>\n",
       "      <td>610.849976</td>\n",
       "      <td>3465</td>\n",
       "    </tr>\n",
       "    <tr>\n",
       "      <th>2</th>\n",
       "      <td>2023-09-22 09:25:00+05:30</td>\n",
       "      <td>610.700012</td>\n",
       "      <td>610.900024</td>\n",
       "      <td>603.150024</td>\n",
       "      <td>604.900024</td>\n",
       "      <td>604.900024</td>\n",
       "      <td>5063</td>\n",
       "    </tr>\n",
       "    <tr>\n",
       "      <th>3</th>\n",
       "      <td>2023-09-22 09:30:00+05:30</td>\n",
       "      <td>602.000000</td>\n",
       "      <td>602.750000</td>\n",
       "      <td>598.000000</td>\n",
       "      <td>601.400024</td>\n",
       "      <td>601.400024</td>\n",
       "      <td>30848</td>\n",
       "    </tr>\n",
       "    <tr>\n",
       "      <th>4</th>\n",
       "      <td>2023-09-22 09:35:00+05:30</td>\n",
       "      <td>601.349976</td>\n",
       "      <td>602.750000</td>\n",
       "      <td>599.950012</td>\n",
       "      <td>600.799988</td>\n",
       "      <td>600.799988</td>\n",
       "      <td>8783</td>\n",
       "    </tr>\n",
       "    <tr>\n",
       "      <th>...</th>\n",
       "      <td>...</td>\n",
       "      <td>...</td>\n",
       "      <td>...</td>\n",
       "      <td>...</td>\n",
       "      <td>...</td>\n",
       "      <td>...</td>\n",
       "      <td>...</td>\n",
       "    </tr>\n",
       "    <tr>\n",
       "      <th>70</th>\n",
       "      <td>2023-09-22 15:05:00+05:30</td>\n",
       "      <td>594.049988</td>\n",
       "      <td>595.000000</td>\n",
       "      <td>593.500000</td>\n",
       "      <td>595.000000</td>\n",
       "      <td>595.000000</td>\n",
       "      <td>3302</td>\n",
       "    </tr>\n",
       "    <tr>\n",
       "      <th>71</th>\n",
       "      <td>2023-09-22 15:10:00+05:30</td>\n",
       "      <td>594.299988</td>\n",
       "      <td>599.799988</td>\n",
       "      <td>594.150024</td>\n",
       "      <td>599.000000</td>\n",
       "      <td>599.000000</td>\n",
       "      <td>10680</td>\n",
       "    </tr>\n",
       "    <tr>\n",
       "      <th>72</th>\n",
       "      <td>2023-09-22 15:15:00+05:30</td>\n",
       "      <td>599.250000</td>\n",
       "      <td>602.750000</td>\n",
       "      <td>594.250000</td>\n",
       "      <td>594.700012</td>\n",
       "      <td>594.700012</td>\n",
       "      <td>57535</td>\n",
       "    </tr>\n",
       "    <tr>\n",
       "      <th>73</th>\n",
       "      <td>2023-09-22 15:20:00+05:30</td>\n",
       "      <td>594.299988</td>\n",
       "      <td>595.000000</td>\n",
       "      <td>593.099976</td>\n",
       "      <td>594.950012</td>\n",
       "      <td>594.950012</td>\n",
       "      <td>5460</td>\n",
       "    </tr>\n",
       "    <tr>\n",
       "      <th>74</th>\n",
       "      <td>2023-09-22 15:25:00+05:30</td>\n",
       "      <td>594.049988</td>\n",
       "      <td>595.000000</td>\n",
       "      <td>593.599976</td>\n",
       "      <td>594.400024</td>\n",
       "      <td>594.400024</td>\n",
       "      <td>3788</td>\n",
       "    </tr>\n",
       "  </tbody>\n",
       "</table>\n",
       "<p>75 rows × 7 columns</p>\n",
       "</div>"
      ],
      "text/plain": [
       "                     Datetime        Open        High         Low       Close  \\\n",
       "0   2023-09-22 09:15:00+05:30  607.799988  608.400024  606.000000  608.250000   \n",
       "1   2023-09-22 09:20:00+05:30  608.549988  610.849976  608.549988  610.849976   \n",
       "2   2023-09-22 09:25:00+05:30  610.700012  610.900024  603.150024  604.900024   \n",
       "3   2023-09-22 09:30:00+05:30  602.000000  602.750000  598.000000  601.400024   \n",
       "4   2023-09-22 09:35:00+05:30  601.349976  602.750000  599.950012  600.799988   \n",
       "..                        ...         ...         ...         ...         ...   \n",
       "70  2023-09-22 15:05:00+05:30  594.049988  595.000000  593.500000  595.000000   \n",
       "71  2023-09-22 15:10:00+05:30  594.299988  599.799988  594.150024  599.000000   \n",
       "72  2023-09-22 15:15:00+05:30  599.250000  602.750000  594.250000  594.700012   \n",
       "73  2023-09-22 15:20:00+05:30  594.299988  595.000000  593.099976  594.950012   \n",
       "74  2023-09-22 15:25:00+05:30  594.049988  595.000000  593.599976  594.400024   \n",
       "\n",
       "     Adj Close  Volume  \n",
       "0   608.250000       0  \n",
       "1   610.849976    3465  \n",
       "2   604.900024    5063  \n",
       "3   601.400024   30848  \n",
       "4   600.799988    8783  \n",
       "..         ...     ...  \n",
       "70  595.000000    3302  \n",
       "71  599.000000   10680  \n",
       "72  594.700012   57535  \n",
       "73  594.950012    5460  \n",
       "74  594.400024    3788  \n",
       "\n",
       "[75 rows x 7 columns]"
      ]
     },
     "execution_count": 3,
     "metadata": {},
     "output_type": "execute_result"
    }
   ],
   "source": [
    "data"
   ]
  },
  {
   "cell_type": "code",
   "execution_count": 4,
   "id": "ec853812",
   "metadata": {},
   "outputs": [],
   "source": [
    "# # Predict stock prices (replace this with your actual prediction code)\n",
    "# # For demonstration, we'll just use random data as predictions\n",
    "# import random\n",
    "\n",
    "# # Generate random predictions as an example\n",
    "# prediction_dates = pd.date_range(start=\"2023-10-01\", periods=10, freq=\"D\")\n",
    "# predictions = [random.uniform(150, 170) for _ in range(10)]  # Replace with your actual predictions\n",
    "\n",
    "# # Create a DataFrame for the predictions\n",
    "# prediction_df = pd.DataFrame({\"Date\": prediction_dates, \"Predicted Price\": predictions})\n"
   ]
  },
  {
   "cell_type": "code",
   "execution_count": 5,
   "id": "791f7a81",
   "metadata": {},
   "outputs": [],
   "source": [
    "# Dummy Dataframe for test\n",
    "import numpy as np\n",
    "# Create a NumPy array\n",
    "data = np.array([\n",
    "    [28,30],\n",
    "    [24,26],\n",
    "    [22,23],\n",
    "])\n",
    "\n",
    "# Create a DataFrame from the NumPy array with column names\n",
    "df = pd.DataFrame(data, columns=[ \"Actual\", \"Pridict\"])"
   ]
  },
  {
   "cell_type": "code",
   "execution_count": 10,
   "id": "09d738e2",
   "metadata": {},
   "outputs": [
    {
     "ename": "IndentationError",
     "evalue": "unexpected indent (1270492145.py, line 2)",
     "output_type": "error",
     "traceback": [
      "\u001b[1;36m  Cell \u001b[1;32mIn[10], line 2\u001b[1;36m\u001b[0m\n\u001b[1;33m    worksheet.update(cell_range, [df.values.tolist()[0]])\u001b[0m\n\u001b[1;37m    ^\u001b[0m\n\u001b[1;31mIndentationError\u001b[0m\u001b[1;31m:\u001b[0m unexpected indent\n"
     ]
    }
   ],
   "source": [
    "cell_range = f\"I6:J6\"  # Assuming you want to update columns A and B\n",
    "    worksheet.update(cell_range, [df.values.tolist()[0]])\n",
    "\n",
    "    print(f\"Data updated in Google Sheets for row {row_to_update}. Waiting for 60 seconds...\")\n",
    "    time.sleep(60)  # Sleep for 60 seconds (1 minute)"
   ]
  },
  {
   "cell_type": "code",
   "execution_count": 8,
   "id": "97f59c8a",
   "metadata": {},
   "outputs": [
    {
     "name": "stdout",
     "output_type": "stream",
     "text": [
      "Predicted stock prices updated in Google Sheets from cell I5.\n"
     ]
    }
   ],
   "source": [
    "# Update the Google Sheets worksheet with the predicted data\n",
    "# Convert the DataFrame to a list of lists for updating\n",
    "#update_data = [prediction_df.columns.tolist()] + prediction_df.values.tolist()\n",
    "update_data=[df.columns.tolist()]+df.values.tolist()\n",
    "# Update the Google Sheets starting from the specified cell\n",
    "start_cell=\"I5\"\n",
    "\n",
    "time.sleep(60)\n",
    "worksheet.update(\"I1\", update_data)\n",
    "\n",
    "print(f\"Predicted stock prices updated in Google Sheets from cell {start_cell}.\")\n",
    " "
   ]
  },
  {
   "cell_type": "code",
   "execution_count": null,
   "id": "49ac2968",
   "metadata": {},
   "outputs": [],
   "source": []
  }
 ],
 "metadata": {
  "kernelspec": {
   "display_name": "Python 3 (ipykernel)",
   "language": "python",
   "name": "python3"
  },
  "language_info": {
   "codemirror_mode": {
    "name": "ipython",
    "version": 3
   },
   "file_extension": ".py",
   "mimetype": "text/x-python",
   "name": "python",
   "nbconvert_exporter": "python",
   "pygments_lexer": "ipython3",
   "version": "3.10.9"
  }
 },
 "nbformat": 4,
 "nbformat_minor": 5
}
