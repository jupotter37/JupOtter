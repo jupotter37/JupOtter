{
 "cells": [
  {
   "cell_type": "code",
   "execution_count": 1,
   "id": "c2656b02-ab1a-440c-a740-470ae9a23ea3",
   "metadata": {},
   "outputs": [],
   "source": [
    "import numpy as np\n",
    "import pandas as pd\n",
    "import matplotlib.pyplot as plt\n",
    "import copy"
   ]
  },
  {
   "cell_type": "code",
   "execution_count": 2,
   "id": "ae1c0246-b4ed-40ee-b4bd-d3bb1f8f5845",
   "metadata": {},
   "outputs": [],
   "source": [
    "from pyomo.environ import *\n",
    "from pyomo.environ import RangeSet\n",
    "from pyomo.environ import value"
   ]
  },
  {
   "cell_type": "markdown",
   "id": "dc5a70a7-d5f2-47f8-9d62-178e3e5da0e9",
   "metadata": {
    "jp-MarkdownHeadingCollapsed": true,
    "tags": []
   },
   "source": [
    "# Ecoinvent (background) + Literature (foreground)"
   ]
  },
  {
   "cell_type": "markdown",
   "id": "af4ea4ad-d795-43ee-9aab-3c9111e5bf59",
   "metadata": {
    "jp-MarkdownHeadingCollapsed": true,
    "tags": []
   },
   "source": [
    "# 1. Base Case (BAU)"
   ]
  },
  {
   "cell_type": "code",
   "execution_count": 3,
   "id": "77107d6a-cc15-4759-9201-dcfaaa4cc2d6",
   "metadata": {},
   "outputs": [],
   "source": [
    "A_BAU_url = \"https://raw.githubusercontent.com/FarshidNazemi/Plastic-Packaging/main/csv-files/Technology%20Matrix%20(A)%20-%20BAU.csv\"\n",
    "B_BAU_url = \"https://raw.githubusercontent.com/FarshidNazemi/Plastic-Packaging/main/csv-files/Environmental%20Matrix%20(B)%20-%20BAU.csv\"\n",
    "C_BAU_url = \"https://raw.githubusercontent.com/FarshidNazemi/Plastic-Packaging/main/csv-files/Characterization%20Matrix%20(C)%20-%20BAU.csv\""
   ]
  },
  {
   "cell_type": "code",
   "execution_count": 4,
   "id": "43e57e16-3d43-40a6-adb1-95902f39ed59",
   "metadata": {},
   "outputs": [],
   "source": [
    "A_BAU_df = pd.read_csv(A_BAU_url,header=None)\n",
    "B_BAU_df = pd.read_csv(B_BAU_url,header=None)\n",
    "C_BAU_df = pd.read_csv(C_BAU_url,header=None)"
   ]
  },
  {
   "cell_type": "code",
   "execution_count": 5,
   "id": "85c49d7d-077e-4a0f-b1ba-e5ab3c9208c1",
   "metadata": {},
   "outputs": [],
   "source": [
    "A_BAU_df_org = A_BAU_df\n",
    "B_BAU_df_org = B_BAU_df\n",
    "C_BAU_df_org = C_BAU_df"
   ]
  },
  {
   "cell_type": "code",
   "execution_count": 6,
   "id": "05226d4e-f939-48c8-9eb8-d6a6d1615991",
   "metadata": {},
   "outputs": [],
   "source": [
    "#Building A matrix\n",
    "# Step 1: Delete the first 10 columns\n",
    "A_BAU_df = A_BAU_df.drop(A_BAU_df.columns[:10], axis=1)\n",
    "\n",
    "# Step 2: Delete the first 10 rows (first row is heading, so put 3)\n",
    "A_BAU_df = A_BAU_df.iloc[10:]\n",
    "\n",
    "#Replacing empty values with zero and getting the final A matrix\n",
    "A_BAU=A_BAU_df\n",
    "A_BAU=A_BAU.replace(np.nan, 0)\n",
    "A_BAU=np.array(A_BAU,dtype='float64')"
   ]
  },
  {
   "cell_type": "code",
   "execution_count": 7,
   "id": "c62da4ae-5041-4f33-835e-0e827a1df3eb",
   "metadata": {},
   "outputs": [],
   "source": [
    "# Building B matrix\n",
    "# Step 1: Delete the first 7 columns\n",
    "B_BAU_df = B_BAU_df.drop(B_BAU_df.columns[:7], axis=1)\n",
    "\n",
    "# Step 2: Delete the first 10 rows (first row is heading, so put 3)\n",
    "B_BAU_df = B_BAU_df.iloc[10:]\n",
    "\n",
    "# Replacing empty values with zero\n",
    "B_BAU_df = B_BAU_df.replace(np.nan, 0)\n",
    "\n",
    "# Converting all elements to float, handling empty strings and stripping whitespace\n",
    "def convert_to_float(x):\n",
    "    if isinstance(x, str):\n",
    "        x = x.strip()  # Remove any leading/trailing whitespace\n",
    "        if x == '':  # Handle empty strings\n",
    "            return 0.0\n",
    "        try:\n",
    "            return float(x)\n",
    "        except ValueError:\n",
    "            return 0.0  # Or raise an error if you want to catch non-numeric strings\n",
    "    return x\n",
    "\n",
    "B_BAU_df = B_BAU_df.applymap(convert_to_float)\n",
    "\n",
    "# Converting to a NumPy array\n",
    "B_BAU = np.array(B_BAU_df, dtype=float)"
   ]
  },
  {
   "cell_type": "code",
   "execution_count": 8,
   "id": "be736f53-5786-4caa-bb66-4b87871fe638",
   "metadata": {},
   "outputs": [],
   "source": [
    "#Building C matrix\n",
    "# Step 1: Delete the first 7 columns\n",
    "C_BAU_df = C_BAU_df.drop(C_BAU_df.columns[:7], axis=1)\n",
    "\n",
    "# Step 2: Delete the first 5 rows (first row is heading, so put 3)\n",
    "C_BAU_df = C_BAU_df.iloc[5:]\n",
    "\n",
    "#Replacing empty values with zero and getting the final B matrix\n",
    "C_BAU=C_BAU_df\n",
    "C_BAU=C_BAU.replace(np.nan, 0)\n",
    "C_BAU=np.array(C_BAU,dtype='float64')"
   ]
  },
  {
   "cell_type": "code",
   "execution_count": 9,
   "id": "adf916a4-7fae-4a28-8253-059f86916084",
   "metadata": {},
   "outputs": [],
   "source": [
    "#Functional Unit\n",
    "# F = 168.450 million metric tons = 168,450,000 metric tons = 168,450,000,000 kg\n",
    "F=168450000000\n",
    "F=int(F)\n",
    "#defining f matrix\n",
    "f=np.zeros(len(A_BAU))\n",
    "f[0]=F"
   ]
  },
  {
   "cell_type": "code",
   "execution_count": 10,
   "id": "087c050e-e6a8-4647-abf0-c5d70d0b79a7",
   "metadata": {},
   "outputs": [],
   "source": [
    "#Scaling factor\n",
    "s_BAU=np.linalg.inv(A_BAU)@np.transpose(f)"
   ]
  },
  {
   "cell_type": "code",
   "execution_count": 11,
   "id": "e0683823-2c41-4117-9ed9-e002cc47f2b5",
   "metadata": {},
   "outputs": [],
   "source": [
    "#Emissions\n",
    "g_BAU=B_BAU@s_BAU"
   ]
  },
  {
   "cell_type": "code",
   "execution_count": 12,
   "id": "1c1265f8-a390-4648-adf7-4fa25c793491",
   "metadata": {},
   "outputs": [],
   "source": [
    "#Impacts\n",
    "TI_BAU=np.transpose(C_BAU)@g_BAU"
   ]
  },
  {
   "cell_type": "code",
   "execution_count": 13,
   "id": "7178073d-0cce-47ff-8d04-30d6b20e67ac",
   "metadata": {},
   "outputs": [
    {
     "ename": "NameError",
     "evalue": "name 'TI' is not defined",
     "output_type": "error",
     "traceback": [
      "\u001b[0;31m---------------------------------------------------------------------------\u001b[0m",
      "\u001b[0;31mNameError\u001b[0m                                 Traceback (most recent call last)",
      "\u001b[0;32m/var/folders/q1/dbyqy0pj3lv2d5259l03mn_00000gn/T/ipykernel_9760/507957114.py\u001b[0m in \u001b[0;36m<module>\u001b[0;34m\u001b[0m\n\u001b[0;32m----> 1\u001b[0;31m \u001b[0mGWP_BAU\u001b[0m \u001b[0;34m=\u001b[0m \u001b[0mTI\u001b[0m\u001b[0;34m[\u001b[0m\u001b[0;36m3\u001b[0m\u001b[0;34m]\u001b[0m\u001b[0;34m\u001b[0m\u001b[0;34m\u001b[0m\u001b[0m\n\u001b[0m",
      "\u001b[0;31mNameError\u001b[0m: name 'TI' is not defined"
     ]
    }
   ],
   "source": [
    "GWP_BAU = TI[3]"
   ]
  },
  {
   "cell_type": "code",
   "execution_count": 14,
   "id": "5cc8c46f-ecb5-4219-921f-5f96d990f8c7",
   "metadata": {},
   "outputs": [
    {
     "ename": "NameError",
     "evalue": "name 'GWP_BAU' is not defined",
     "output_type": "error",
     "traceback": [
      "\u001b[0;31m---------------------------------------------------------------------------\u001b[0m",
      "\u001b[0;31mNameError\u001b[0m                                 Traceback (most recent call last)",
      "\u001b[0;32m/var/folders/q1/dbyqy0pj3lv2d5259l03mn_00000gn/T/ipykernel_9760/3082282695.py\u001b[0m in \u001b[0;36m<module>\u001b[0;34m\u001b[0m\n\u001b[0;32m----> 1\u001b[0;31m \u001b[0mGWP_BAU_per_kg\u001b[0m \u001b[0;34m=\u001b[0m \u001b[0mGWP_BAU\u001b[0m\u001b[0;34m/\u001b[0m\u001b[0mF\u001b[0m\u001b[0;34m\u001b[0m\u001b[0;34m\u001b[0m\u001b[0m\n\u001b[0m",
      "\u001b[0;31mNameError\u001b[0m: name 'GWP_BAU' is not defined"
     ]
    }
   ],
   "source": [
    "GWP_BAU_per_kg = GWP_BAU/F"
   ]
  },
  {
   "cell_type": "markdown",
   "id": "39a45785-8676-4b6e-894e-cecc7e91e0db",
   "metadata": {
    "jp-MarkdownHeadingCollapsed": true,
    "tags": []
   },
   "source": [
    "# 2. Min GWP"
   ]
  },
  {
   "cell_type": "code",
   "execution_count": 97,
   "id": "7a861f89-67d8-4819-b42e-e6583d1493cc",
   "metadata": {},
   "outputs": [],
   "source": [
    "A_url = \"https://raw.githubusercontent.com/FarshidNazemi/Plastic-Packaging/main/csv-files/Technology%20Matrix%20(A)%20-%20Design.csv\"\n",
    "B_url = \"https://raw.githubusercontent.com/FarshidNazemi/Plastic-Packaging/main/csv-files/Environmental%20Matrix%20(B)%20-%20Design.csv\"\n",
    "C_url = \"https://raw.githubusercontent.com/FarshidNazemi/Plastic-Packaging/main/csv-files/Characterization%20Matrix%20(C)%20-%20Design.csv\""
   ]
  },
  {
   "cell_type": "code",
   "execution_count": 98,
   "id": "43f2c423-d1c6-479d-aec2-145f4fcf03cd",
   "metadata": {},
   "outputs": [],
   "source": [
    "A_df = pd.read_csv(A_url,header=None)\n",
    "B_df = pd.read_csv(B_url,header=None)\n",
    "C_df = pd.read_csv(C_url,header=None)"
   ]
  },
  {
   "cell_type": "code",
   "execution_count": 99,
   "id": "115f5c61-9b71-49b0-9e24-42e21ea68cea",
   "metadata": {},
   "outputs": [],
   "source": [
    "A_df_org = A_df\n",
    "B_df_org = B_df\n",
    "C_df_org = C_df"
   ]
  },
  {
   "cell_type": "code",
   "execution_count": 100,
   "id": "7d1f1a8e-2fe8-4fc9-8104-1f50f7451fc8",
   "metadata": {},
   "outputs": [],
   "source": [
    "#Building A matrix\n",
    "# Step 1: Delete the first 4 columns\n",
    "A_df = A_df.drop(A_df.columns[:4], axis=1)\n",
    "\n",
    "# Step 2: Delete the first 4 rows (first row is heading, so put 3)\n",
    "A_df = A_df.iloc[4:]\n",
    "\n",
    "#Replacing empty values with zero and getting the final A matrix\n",
    "A=A_df\n",
    "A=A.replace(np.nan, 0)\n",
    "A=np.array(A,dtype='float64')"
   ]
  },
  {
   "cell_type": "code",
   "execution_count": 101,
   "id": "a25fe091-cad0-45d0-83cd-525ea26240e8",
   "metadata": {},
   "outputs": [],
   "source": [
    "# Building B matrix\n",
    "# Step 1: Delete the first 6 columns\n",
    "B_df = B_df.drop(B_df.columns[:6], axis=1)\n",
    "\n",
    "# Step 2: Delete the first 4 rows (first row is heading, so put 3)\n",
    "B_df = B_df.iloc[4:]\n",
    "\n",
    "# Replacing empty values with zero\n",
    "B_df = B_df.replace(np.nan, 0)\n",
    "\n",
    "# Converting all elements to float, handling empty strings and stripping whitespace\n",
    "def convert_to_float(x):\n",
    "    if isinstance(x, str):\n",
    "        x = x.strip()  # Remove any leading/trailing whitespace\n",
    "        if x == '':  # Handle empty strings\n",
    "            return 0.0\n",
    "        try:\n",
    "            return float(x)\n",
    "        except ValueError:\n",
    "            return 0.0  # Or raise an error if you want to catch non-numeric strings\n",
    "    return x\n",
    "\n",
    "B_df = B_df.applymap(convert_to_float)\n",
    "\n",
    "# Converting to a NumPy array\n",
    "B = np.array(B_df, dtype=float)"
   ]
  },
  {
   "cell_type": "code",
   "execution_count": 102,
   "id": "4cdd908a-7d69-4dd6-8d77-abe32416e4bc",
   "metadata": {},
   "outputs": [],
   "source": [
    "#Building C matrix\n",
    "# Step 1: Delete the first 6 columns\n",
    "C_df = C_df.drop(C_df.columns[:6], axis=1)\n",
    "\n",
    "# Step 2: Delete the first 5 rows (first row is heading, so put 3)\n",
    "C_df = C_df.iloc[5:]\n",
    "\n",
    "#Replacing empty values with zero and getting the final B matrix\n",
    "C=C_df\n",
    "C=C.replace(np.nan, 0)\n",
    "C=np.array(C,dtype='float64')"
   ]
  },
  {
   "cell_type": "code",
   "execution_count": 103,
   "id": "76dc7b6b-923b-4388-8244-fa8e32e7b316",
   "metadata": {},
   "outputs": [],
   "source": [
    "#Functional Unit\n",
    "# F = 168.450 million metric tons = 168,450,000 metric tons = 168,450,000,000 kg\n",
    "F=168450000000\n",
    "F=int(F)\n",
    "#defining f matrix\n",
    "f=np.zeros(len(A))\n",
    "f[0]=F"
   ]
  },
  {
   "cell_type": "markdown",
   "id": "fcf08a09-50a3-445f-b1c2-7fdf154453fa",
   "metadata": {},
   "source": [
    "# 2.1. Without carbon sequestration"
   ]
  },
  {
   "cell_type": "code",
   "execution_count": 104,
   "id": "b71c00eb-2a6d-4950-bcc9-b32a29f47220",
   "metadata": {},
   "outputs": [],
   "source": [
    "C_gwp_wo_seq= np.transpose(C)[[0]]\n",
    "coef_GWP_wo_seq=C_gwp_wo_seq@B\n",
    "coef_GWP_wo_seq=np.array(coef_GWP_wo_seq)\n",
    "coef_GWP_wo_seq = coef_GWP_wo_seq.reshape(-1)"
   ]
  },
  {
   "cell_type": "code",
   "execution_count": 105,
   "id": "d756d2b5-7523-4d96-a8bc-301f7625999a",
   "metadata": {},
   "outputs": [
    {
     "data": {
      "text/plain": [
       "{'Problem': [{'Name': 'x144', 'Lower bound': 207945704446.84888, 'Upper bound': 207945704446.84888, 'Number of objectives': 1, 'Number of constraints': 259, 'Number of variables': 144, 'Number of binary variables': 0, 'Number of integer variables': 0, 'Number of continuous variables': 144, 'Number of nonzeros': 613, 'Sense': 'minimize'}], 'Solver': [{'Status': 'ok', 'Return code': '0', 'Message': 'Model was solved to optimality (subject to tolerances), and an optimal solution is available.', 'Termination condition': 'optimal', 'Termination message': 'Model was solved to optimality (subject to tolerances), and an optimal solution is available.', 'Wall time': '0.009699106216430664', 'Error rc': 0, 'Time': 0.2440190315246582}], 'Solution': [OrderedDict([('number of solutions', 0), ('number of solutions displayed', 0)])]}"
      ]
     },
     "execution_count": 105,
     "metadata": {},
     "output_type": "execute_result"
    }
   ],
   "source": [
    "#Model Formulation\n",
    "# Create the model\n",
    "model = ConcreteModel()\n",
    "# List of processes with negative scaling factor due to open loop recovery and substitution approach\n",
    "negative_s_indices = []\n",
    "positive_s_indices = []\n",
    "all_s_indices = []\n",
    "search_elements_zero_or_negative = [\n",
    "    'polyester fibre production, finished | fibre, polyester | APOS, S',\n",
    "    'market for sawlog and veneer log, softwood, debarked, measured as solid wood | sawlog and veneer log, softwood, debarked, measured as solid wood | APOS, S',\n",
    "    'pitch production, petroleum refinery operation | pitch | APOS, S',\n",
    "    'lignite mine operation | lignite | APOS, S',\n",
    "    'naphtha production, petroleum refinery operation | naphtha | APOS, S',\n",
    "    'sodium sulfate production, from natural sources | sodium sulfate, anhydrite | APOS, S',\n",
    "    'methanol production | methanol | APOS, S',\n",
    "    'petroleum production, onshore | petroleum | APOS, S'\n",
    "]\n",
    "\n",
    "search_elements_zero_or_negative_or_positive = [\n",
    "    'polyester fibre production, finished | fibre, polyester | APOS, S',\n",
    "    'market for sawlog and veneer log, softwood, debarked, measured as solid wood | sawlog and veneer log, softwood, debarked, measured as solid wood | APOS, S',\n",
    "    'pitch production, petroleum refinery operation | pitch | APOS, S',\n",
    "    'lignite mine operation | lignite | APOS, S',\n",
    "    'market group for electricity, medium voltage | electricity, medium voltage | APOS, S',\n",
    "    'heat production, natural gas, at industrial furnace low-NOx >100kW | heat, district or industrial, natural gas | APOS, S',\n",
    "    'naphtha production, petroleum refinery operation | naphtha | APOS, S',\n",
    "    'sodium sulfate production, from natural sources | sodium sulfate, anhydrite | APOS, S',\n",
    "    'methanol production | methanol | APOS, S',\n",
    "    'petroleum production, onshore | petroleum | APOS, S'\n",
    "]\n",
    "\n",
    "# Search for elements in the first row of the DataFrame\n",
    "negative_s_indices = [A_df_org.iloc[0,:].tolist().index(elem) for elem in search_elements_zero_or_negative]\n",
    "negative_s_indices = [i-3 for i in negative_s_indices]\n",
    "negative_or_positive_s_indices = [A_df_org.iloc[0,:].tolist().index(elem) for elem in search_elements_zero_or_negative_or_positive]\n",
    "negative_or_positive_s_indices = [i-3 for i in negative_or_positive_s_indices]\n",
    "all_s_indices = list(range(1, len(np.transpose(A))+1))\n",
    "positive_s_indices = [index for index in all_s_indices if index not in negative_or_positive_s_indices]\n",
    "\n",
    "# Define the decision variable\n",
    "model.set_s = RangeSet(len(np.transpose(A)))\n",
    "model.s = Var(model.set_s)\n",
    "model.set_negative_scale = Set(initialize=negative_s_indices)\n",
    "model.set_positive_scale = Set(initialize=positive_s_indices)\n",
    "\n",
    "e = 0\n",
    "#model constraint: As = f and s>=0\n",
    "model.set_balance = RangeSet(len(f))\n",
    "def balance(model, p): # As = f\n",
    "    return sum(A[p-1,i-1]*model.s[i] for i in model.set_s) == f[p-1]\n",
    "def negative_scale(model, i):\n",
    "    return (model.s[i]<=0)\n",
    "def positive_scale(model, i):\n",
    "    return (model.s[i]>=e)\n",
    "\n",
    "model.balance_constraints = Constraint(model.set_balance, rule=balance)\n",
    "model.negative_scale_constraints = Constraint(model.set_negative_scale, rule=negative_scale)\n",
    "model.positive_scale_constraints = Constraint(model.set_positive_scale, rule=positive_scale)\n",
    "\n",
    "model.obj = Objective(expr = sum(coef_GWP_wo_seq[i-1]*model.s[i] for i in model.set_s), sense=minimize)\n",
    "#Solver\n",
    "solver = SolverFactory('gurobi')\n",
    "solver.solve(model) # solves and updates instance"
   ]
  },
  {
   "cell_type": "code",
   "execution_count": 106,
   "id": "2cd9c1c2-e0af-49dd-b69b-8f0f6bf3ff77",
   "metadata": {},
   "outputs": [],
   "source": [
    "#total CO2 emission (kg CO2eq)\n",
    "GWP_best_wo_seq = value(model.obj)"
   ]
  },
  {
   "cell_type": "code",
   "execution_count": 107,
   "id": "4edea4a0-48f3-432b-9a06-0936c59f1447",
   "metadata": {},
   "outputs": [],
   "source": [
    "#kg CO2 eq per kg of packaging product\n",
    "GWP_best_wo_seq_per_kg = value(model.obj)/168450000000 "
   ]
  },
  {
   "cell_type": "code",
   "execution_count": 108,
   "id": "9d0adeb5-c3a5-400c-b1c1-fc639714fe3d",
   "metadata": {},
   "outputs": [],
   "source": [
    "scaling_factors_wo_seq = []\n",
    "for j in model.s:\n",
    "    scaling_factors_wo_seq.append(model.s[j].value)  "
   ]
  },
  {
   "cell_type": "code",
   "execution_count": 110,
   "id": "a352124c-1b29-46a8-83ad-f96797a69401",
   "metadata": {},
   "outputs": [
    {
     "data": {
      "text/plain": [
       "[0.0, 33098060713.931583, 0.0, 0.0]"
      ]
     },
     "execution_count": 110,
     "metadata": {},
     "output_type": "execute_result"
    }
   ],
   "source": [
    "#1. monomer production\n",
    "#ethylene\n",
    "ethylene_s_indices = []\n",
    "scaling_factors_ethylene = []\n",
    "search_elements_ethylene = [\n",
    "    'Bio-ethylene production (monomer)',\n",
    "    'Fossil-ethylene production',\n",
    "    'pyrolysis (monomer production), HDPE sorted',\n",
    "    'pyrolysis (monomer production), LDPE sorted'\n",
    "]\n",
    "ethylene_s_indices = [A_df_org.iloc[0,:].tolist().index(elem) for elem in search_elements_ethylene]\n",
    "ethylene_s_indices = [i-3 for i in ethylene_s_indices]\n",
    "for j in ethylene_s_indices:\n",
    "    scaling_factors_ethylene.append(model.s[j].value)\n",
    "scaling_factors_ethylene"
   ]
  },
  {
   "cell_type": "code",
   "execution_count": 111,
   "id": "a07bae0f-f736-4dfe-a846-6574167d4578",
   "metadata": {},
   "outputs": [
    {
     "data": {
      "text/plain": [
       "[0.0, 22019756923.577263, 0.0]"
      ]
     },
     "execution_count": 111,
     "metadata": {},
     "output_type": "execute_result"
    }
   ],
   "source": [
    "#propylene\n",
    "propylene_s_indices = []\n",
    "scaling_factors_propylene = []\n",
    "search_elements_propylene = [\n",
    "    'Bio-propylene production (monomer)',\n",
    "    'Fossil-propylene production',\n",
    "    'pyrolysis (monomer production), PP sorted',\n",
    "]\n",
    "propylene_s_indices = [A_df_org.iloc[0,:].tolist().index(elem) for elem in search_elements_propylene]\n",
    "propylene_s_indices = [i-3 for i in propylene_s_indices]\n",
    "for j in propylene_s_indices:\n",
    "    scaling_factors_propylene.append(model.s[j].value)\n",
    "scaling_factors_propylene   "
   ]
  },
  {
   "cell_type": "code",
   "execution_count": 112,
   "id": "f6eecdd3-86a7-4bb6-9173-78f4a5e2f278",
   "metadata": {},
   "outputs": [
    {
     "data": {
      "text/plain": [
       "[12986265878.469458, 0.0, 0.0, 0.0]"
      ]
     },
     "execution_count": 112,
     "metadata": {},
     "output_type": "execute_result"
    }
   ],
   "source": [
    "#MEG\n",
    "MEG_s_indices = []\n",
    "scaling_factors_MEG = []\n",
    "search_elements_MEG = [\n",
    "    'Bio-MEG production (monomer)',\n",
    "    'Fossil-MEG production',\n",
    "    'depolymerization, enzymatic hydrolysis, PET sorted',\n",
    "    'depolymerization, glycolysis, PET sorted'\n",
    "]\n",
    "MEG_s_indices = [A_df_org.iloc[0,:].tolist().index(elem) for elem in search_elements_MEG]\n",
    "MEG_s_indices = [i-3 for i in MEG_s_indices]\n",
    "for j in MEG_s_indices:\n",
    "    scaling_factors_MEG.append(model.s[j].value)\n",
    "scaling_factors_MEG   "
   ]
  },
  {
   "cell_type": "code",
   "execution_count": 113,
   "id": "f9a73b00-e21d-496e-bd9e-10d588f45ff4",
   "metadata": {},
   "outputs": [
    {
     "data": {
      "text/plain": [
       "[0.0, 3826492573.634829, 0.0]"
      ]
     },
     "execution_count": 113,
     "metadata": {},
     "output_type": "execute_result"
    }
   ],
   "source": [
    "#styrene\n",
    "styrene_s_indices = []\n",
    "scaling_factors_styrene = []\n",
    "search_elements_styrene = [\n",
    "    'Bio-styrene production',\n",
    "    'Fossil-styrene production',\n",
    "    'chemical recycling with metal oxide, PS sorted',\n",
    "]\n",
    "styrene_s_indices = [A_df_org.iloc[0,:].tolist().index(elem) for elem in search_elements_styrene]\n",
    "styrene_s_indices = [i-3 for i in styrene_s_indices]\n",
    "for j in styrene_s_indices:\n",
    "    scaling_factors_styrene.append(model.s[j].value)\n",
    "scaling_factors_styrene "
   ]
  },
  {
   "cell_type": "code",
   "execution_count": 114,
   "id": "caa8e73d-0619-431a-b9b6-3089ee42284d",
   "metadata": {},
   "outputs": [
    {
     "data": {
      "text/plain": [
       "[0.0, 1550461025.7619388]"
      ]
     },
     "execution_count": 114,
     "metadata": {},
     "output_type": "execute_result"
    }
   ],
   "source": [
    "#vinyl chloride\n",
    "vinyl_chloride_s_indices = []\n",
    "scaling_factors_vinyl_chloride = []\n",
    "search_elements_vinyl_chloride = [\n",
    "    'Bio-vinyl chloride production',\n",
    "    'Fossil-vinyl chloride production',\n",
    "]\n",
    "vinyl_chloride_s_indices = [A_df_org.iloc[0,:].tolist().index(elem) for elem in search_elements_vinyl_chloride]\n",
    "vinyl_chloride_s_indices = [i-3 for i in vinyl_chloride_s_indices]\n",
    "for j in vinyl_chloride_s_indices:\n",
    "    scaling_factors_vinyl_chloride.append(model.s[j].value)\n",
    "scaling_factors_vinyl_chloride  "
   ]
  },
  {
   "cell_type": "code",
   "execution_count": 115,
   "id": "80fb7b7f-23c3-40b7-9a3d-b944e2b6cff9",
   "metadata": {},
   "outputs": [
    {
     "data": {
      "text/plain": [
       "[0.0, 0.0, 15167211066.286575, 21419440097.623497]"
      ]
     },
     "execution_count": 115,
     "metadata": {},
     "output_type": "execute_result"
    }
   ],
   "source": [
    "# 2. polymers\n",
    "#polyethylene\n",
    "scaling_factors_polyethylene = []\n",
    "polyethylene_s_indices = []\n",
    "search_elements_polyethylene = [\n",
    "    'advanced recycling, delamination, multi-layer plastic packaging',\n",
    "    'advanced recycling, STRAP, multi-layer plastic packaging',\n",
    "    'LDPE production',\n",
    "    'mechanical recycling, LDPE sorted'\n",
    "]\n",
    "polyethylene_s_indices = [A_df_org.iloc[0,:].tolist().index(elem) for elem in search_elements_polyethylene]\n",
    "polyethylene_s_indices = [i-3 for i in polyethylene_s_indices]\n",
    "for j in polyethylene_s_indices:\n",
    "    scaling_factors_polyethylene.append(model.s[j].value)\n",
    "scaling_factors_polyethylene"
   ]
  },
  {
   "cell_type": "code",
   "execution_count": 116,
   "id": "64bfbc18-26ae-4ea1-aaf5-b165dfa7eae5",
   "metadata": {},
   "outputs": [
    {
     "data": {
      "text/plain": [
       "[0.0, 0.0, 16399839159.200356, 22546548474.0855]"
      ]
     },
     "execution_count": 116,
     "metadata": {},
     "output_type": "execute_result"
    }
   ],
   "source": [
    "#polyethylene\n",
    "scaling_factors_polyethylene = []\n",
    "polyethylene_s_indices = []\n",
    "search_elements_polyethylene = [\n",
    "    'advanced recycling, delamination, multi-layer plastic packaging',\n",
    "    'advanced recycling, STRAP, multi-layer plastic packaging',\n",
    "    'HDPE production',\n",
    "    'mechanical recycling, HDPE sorted'\n",
    "]\n",
    "polyethylene_s_indices = [A_df_org.iloc[0,:].tolist().index(elem) for elem in search_elements_polyethylene]\n",
    "polyethylene_s_indices = [i-3 for i in polyethylene_s_indices]\n",
    "for j in polyethylene_s_indices:\n",
    "    scaling_factors_polyethylene.append(model.s[j].value)\n",
    "scaling_factors_polyethylene"
   ]
  },
  {
   "cell_type": "code",
   "execution_count": 117,
   "id": "513f3fd5-42f6-4b61-98ed-eb9536018029",
   "metadata": {},
   "outputs": [
    {
     "data": {
      "text/plain": [
       "[0.0, 0.0, 22303908720.678707, 30663481156.149002]"
      ]
     },
     "execution_count": 117,
     "metadata": {},
     "output_type": "execute_result"
    }
   ],
   "source": [
    "#polypropylene\n",
    "scaling_factors_polypropylene = []\n",
    "polypropylene_s_indices = []\n",
    "search_elements_polypropylene = [\n",
    "    'advanced recycling, delamination, multi-layer plastic packaging',\n",
    "    'advanced recycling, STRAP, multi-layer plastic packaging',\n",
    "    'PP production',\n",
    "    'mechanical recycling, PP sorted'\n",
    "]\n",
    "polypropylene_s_indices = [A_df_org.iloc[0,:].tolist().index(elem) for elem in search_elements_polypropylene]\n",
    "polypropylene_s_indices = [i-3 for i in polypropylene_s_indices]\n",
    "for j in polypropylene_s_indices:\n",
    "    scaling_factors_polypropylene.append(model.s[j].value)\n",
    "scaling_factors_polypropylene"
   ]
  },
  {
   "cell_type": "code",
   "execution_count": 118,
   "id": "5ae2005f-f3e1-4c3c-92e1-99bc0ad65059",
   "metadata": {},
   "outputs": [
    {
     "data": {
      "text/plain": [
       "[0.0, 0.0, 37641350.37237524, 0.0]"
      ]
     },
     "execution_count": 118,
     "metadata": {},
     "output_type": "execute_result"
    }
   ],
   "source": [
    "#polyethylene terephthalate\n",
    "scaling_factors_PET = []\n",
    "PET_s_indices = []\n",
    "search_elements_PET = [\n",
    "    'advanced recycling, delamination, multi-layer plastic packaging',\n",
    "    'advanced recycling, STRAP, multi-layer plastic packaging',\n",
    "    'PET production',\n",
    "    'mechanical recycling, PET sorted'\n",
    "]\n",
    "PET_s_indices = [A_df_org.iloc[0,:].tolist().index(elem) for elem in search_elements_PET]\n",
    "PET_s_indices = [i-3 for i in PET_s_indices]\n",
    "for j in PET_s_indices:\n",
    "    scaling_factors_PET.append(model.s[j].value)\n",
    "scaling_factors_PET"
   ]
  },
  {
   "cell_type": "code",
   "execution_count": 119,
   "id": "34d0590e-5b00-4a6d-b630-362b6eadcbe2",
   "metadata": {},
   "outputs": [
    {
     "data": {
      "text/plain": [
       "[0.0, 0.0, 3826492573.634829, 5260673565.2901]"
      ]
     },
     "execution_count": 119,
     "metadata": {},
     "output_type": "execute_result"
    }
   ],
   "source": [
    "#polystyrene terephthalate\n",
    "scaling_factors_PS = []\n",
    "PS_s_indices = []\n",
    "search_elements_PS = [\n",
    "    'advanced recycling, delamination, multi-layer plastic packaging',\n",
    "    'advanced recycling, STRAP, multi-layer plastic packaging',\n",
    "    'PS production',\n",
    "    'mechanical recycling, PS sorted'\n",
    "]\n",
    "PS_s_indices = [A_df_org.iloc[0,:].tolist().index(elem) for elem in search_elements_PS]\n",
    "PS_s_indices = [i-3 for i in PS_s_indices]\n",
    "for j in PS_s_indices:\n",
    "    scaling_factors_PS.append(model.s[j].value)\n",
    "scaling_factors_PS"
   ]
  },
  {
   "cell_type": "code",
   "execution_count": 120,
   "id": "6c0d0cb0-2093-4748-b9a5-8526c9681a1d",
   "metadata": {},
   "outputs": [
    {
     "data": {
      "text/plain": [
       "[0.0, 0.0, 1547937887.0061188, 2004342.4575233862]"
      ]
     },
     "execution_count": 120,
     "metadata": {},
     "output_type": "execute_result"
    }
   ],
   "source": [
    "#polyvinyl chloride\n",
    "scaling_factors_PVC = []\n",
    "PVC_s_indices = []\n",
    "search_elements_PVC = [\n",
    "    'advanced recycling, delamination, multi-layer plastic packaging',\n",
    "    'advanced recycling, STRAP, multi-layer plastic packaging',\n",
    "    'PVC production',\n",
    "    'mechanical recycling, PVC sorted'\n",
    "]\n",
    "PVC_s_indices = [A_df_org.iloc[0,:].tolist().index(elem) for elem in search_elements_PVC]\n",
    "PVC_s_indices = [i-3 for i in PVC_s_indices]\n",
    "for j in PVC_s_indices:\n",
    "    scaling_factors_PVC.append(model.s[j].value)\n",
    "scaling_factors_PVC"
   ]
  },
  {
   "cell_type": "code",
   "execution_count": 121,
   "id": "82218728-f53a-4217-b578-c27a246bcd9a",
   "metadata": {},
   "outputs": [
    {
     "data": {
      "text/plain": [
       "[0.0, 0.0, 0.0, 0.0, 0.0, 160027500000.0, 0.0]"
      ]
     },
     "execution_count": 121,
     "metadata": {},
     "output_type": "execute_result"
    }
   ],
   "source": [
    "#3. mixed plastic collected waste (sorting, energy recovery, landfill, mismanaged)\n",
    "\n",
    "scaling_factors_mixed = []\n",
    "mixed_s_indices = []\n",
    "search_elements_mixed = [\n",
    "    'incineration, electricity recovery, plastic packaging waste',\n",
    "    'landfill, plastic packaging waste',\n",
    "    'Mismanaged waste treatment, uncontrolled landfill, plastic packaging waste',\n",
    "    'sorting, non-optical manual and automatic sorter (commercial)',\n",
    "    'sorting, optiacl sorter (commercial)',\n",
    "    'sorting, optical with film sorter (commercial)',\n",
    "    'sorting, optical with film, multilayer, and AI sorter (emerging)'\n",
    "]\n",
    "mixed_s_indices = [A_df_org.iloc[0,:].tolist().index(elem) for elem in search_elements_mixed]\n",
    "mixed_s_indices = [i-3 for i in mixed_s_indices]\n",
    "for j in mixed_s_indices:\n",
    "    scaling_factors_mixed.append(model.s[j].value)\n",
    "scaling_factors_mixed"
   ]
  },
  {
   "cell_type": "code",
   "execution_count": 122,
   "id": "15eccb21-62a3-47b7-b5be-a241323b4cde",
   "metadata": {},
   "outputs": [
    {
     "data": {
      "text/plain": [
       "[0.0, 0.0, 0.0, 0.0, 17954731.037239607, 17683038750.0]"
      ]
     },
     "execution_count": 122,
     "metadata": {},
     "output_type": "execute_result"
    }
   ],
   "source": [
    "#4. mixed plastic waste, sorted (sorting, energy recovery, landfill, mismanaged)\n",
    "\n",
    "scaling_factors_mixed = []\n",
    "mixed_s_indices = []\n",
    "search_elements_mixed = [\n",
    "    'cement clinker, mixed plastic packaging,sorted',\n",
    "    'gasification to methanol, mixed plastic waste sorted',\n",
    "    'plastic lumber production, mixed plastic waste, sorted',\n",
    "    'pyrolysis, feedstock recycling, mixed plastic waste, sorted',\n",
    "    'PET fiber production, PET sorted',\n",
    "    'road pavement production, mixed plastic waste, sorted'\n",
    "]\n",
    "mixed_s_indices = [A_df_org.iloc[0,:].tolist().index(elem) for elem in search_elements_mixed]\n",
    "mixed_s_indices = [i-3 for i in mixed_s_indices]\n",
    "for j in mixed_s_indices:\n",
    "    scaling_factors_mixed.append(model.s[j].value)\n",
    "scaling_factors_mixed"
   ]
  },
  {
   "cell_type": "markdown",
   "id": "8e648ccd-b421-4f3f-a5a2-70ea9bff65a7",
   "metadata": {},
   "source": [
    "# 2.2. With carbon sequestration"
   ]
  },
  {
   "cell_type": "code",
   "execution_count": 124,
   "id": "3afe7c83-75fc-4bee-a490-2ae17b1fb967",
   "metadata": {},
   "outputs": [],
   "source": [
    "C_gwp_with_seq= np.transpose(C)[[1]]\n",
    "coef_GWP_with_seq=C_gwp_with_seq@B\n",
    "coef_GWP_with_seq=np.array(coef_GWP_with_seq)\n",
    "coef_GWP_with_seq = coef_GWP_with_seq.reshape(-1)"
   ]
  },
  {
   "cell_type": "code",
   "execution_count": 125,
   "id": "5bade741-d3c1-4303-af58-8395e7289b95",
   "metadata": {},
   "outputs": [
    {
     "data": {
      "text/plain": [
       "{'Problem': [{'Name': 'x144', 'Lower bound': -469127077764.38354, 'Upper bound': -469127077764.38354, 'Number of objectives': 1, 'Number of constraints': 259, 'Number of variables': 144, 'Number of binary variables': 0, 'Number of integer variables': 0, 'Number of continuous variables': 144, 'Number of nonzeros': 613, 'Sense': 'minimize'}], 'Solver': [{'Status': 'ok', 'Return code': '0', 'Message': 'Model was solved to optimality (subject to tolerances), and an optimal solution is available.', 'Termination condition': 'optimal', 'Termination message': 'Model was solved to optimality (subject to tolerances), and an optimal solution is available.', 'Wall time': '0.0006959438323974609', 'Error rc': 0, 'Time': 0.10356807708740234}], 'Solution': [OrderedDict([('number of solutions', 0), ('number of solutions displayed', 0)])]}"
      ]
     },
     "execution_count": 125,
     "metadata": {},
     "output_type": "execute_result"
    }
   ],
   "source": [
    "#Model Formulation\n",
    "# Create the model\n",
    "model = ConcreteModel()\n",
    "# List of processes with negative scaling factor due to open loop recovery and substitution approach\n",
    "negative_s_indices = []\n",
    "positive_s_indices = []\n",
    "all_s_indices = []\n",
    "search_elements_zero_or_negative = [\n",
    "    'polyester fibre production, finished | fibre, polyester | APOS, S',\n",
    "    'market for sawlog and veneer log, softwood, debarked, measured as solid wood | sawlog and veneer log, softwood, debarked, measured as solid wood | APOS, S',\n",
    "    'pitch production, petroleum refinery operation | pitch | APOS, S',\n",
    "    'lignite mine operation | lignite | APOS, S',\n",
    "    'naphtha production, petroleum refinery operation | naphtha | APOS, S',\n",
    "    'sodium sulfate production, from natural sources | sodium sulfate, anhydrite | APOS, S',\n",
    "    'methanol production | methanol | APOS, S',\n",
    "    'petroleum production, onshore | petroleum | APOS, S'\n",
    "]\n",
    "\n",
    "search_elements_zero_or_negative_or_positive = [\n",
    "    'polyester fibre production, finished | fibre, polyester | APOS, S',\n",
    "    'market for sawlog and veneer log, softwood, debarked, measured as solid wood | sawlog and veneer log, softwood, debarked, measured as solid wood | APOS, S',\n",
    "    'pitch production, petroleum refinery operation | pitch | APOS, S',\n",
    "    'lignite mine operation | lignite | APOS, S',\n",
    "    'market group for electricity, medium voltage | electricity, medium voltage | APOS, S',\n",
    "    'heat production, natural gas, at industrial furnace low-NOx >100kW | heat, district or industrial, natural gas | APOS, S',\n",
    "    'naphtha production, petroleum refinery operation | naphtha | APOS, S',\n",
    "    'sodium sulfate production, from natural sources | sodium sulfate, anhydrite | APOS, S',\n",
    "    'methanol production | methanol | APOS, S',\n",
    "    'petroleum production, onshore | petroleum | APOS, S'\n",
    "]\n",
    "\n",
    "# Search for elements in the first row of the DataFrame\n",
    "negative_s_indices = [A_df_org.iloc[0,:].tolist().index(elem) for elem in search_elements_zero_or_negative]\n",
    "negative_s_indices = [i-3 for i in negative_s_indices]\n",
    "negative_or_positive_s_indices = [A_df_org.iloc[0,:].tolist().index(elem) for elem in search_elements_zero_or_negative_or_positive]\n",
    "negative_or_positive_s_indices = [i-3 for i in negative_or_positive_s_indices]\n",
    "all_s_indices = list(range(1, len(np.transpose(A))+1))\n",
    "positive_s_indices = [index for index in all_s_indices if index not in negative_or_positive_s_indices]\n",
    "\n",
    "# Define the decision variable\n",
    "model.set_s = RangeSet(len(np.transpose(A)))\n",
    "model.s = Var(model.set_s)\n",
    "model.set_negative_scale = Set(initialize=negative_s_indices)\n",
    "model.set_positive_scale = Set(initialize=positive_s_indices)\n",
    "\n",
    "e = 0\n",
    "#model constraint: As = f and s>=0\n",
    "model.set_balance = RangeSet(len(f))\n",
    "def balance(model, p): # As = f\n",
    "    return sum(A[p-1,i-1]*model.s[i] for i in model.set_s) == f[p-1]\n",
    "def negative_scale(model, i):\n",
    "    return (model.s[i]<=0)\n",
    "def positive_scale(model, i):\n",
    "    return (model.s[i]>=e)\n",
    "\n",
    "model.balance_constraints = Constraint(model.set_balance, rule=balance)\n",
    "model.negative_scale_constraints = Constraint(model.set_negative_scale, rule=negative_scale)\n",
    "model.positive_scale_constraints = Constraint(model.set_positive_scale, rule=positive_scale)\n",
    "\n",
    "model.obj = Objective(expr = sum(coef_GWP_with_seq[i-1]*model.s[i] for i in model.set_s), sense=minimize)\n",
    "#Solver\n",
    "solver = SolverFactory('gurobi')\n",
    "solver.solve(model) # solves and updates instance"
   ]
  },
  {
   "cell_type": "code",
   "execution_count": 126,
   "id": "ce815d4b-5c33-46f9-8663-76761cf76cf7",
   "metadata": {},
   "outputs": [],
   "source": [
    "#total CO2 emission (kg CO2eq)\n",
    "GWP_best_with_seq = value(model.obj)"
   ]
  },
  {
   "cell_type": "code",
   "execution_count": 127,
   "id": "b04dab5a-c62e-4163-bec2-92f54c8e552e",
   "metadata": {},
   "outputs": [],
   "source": [
    "#kg CO2 eq per kg of packaging product\n",
    "GWP_best_with_seq_per_kg = value(model.obj)/168450000000 "
   ]
  },
  {
   "cell_type": "code",
   "execution_count": 128,
   "id": "51bbb0bb-b4f2-4996-9db1-53ce133aefd0",
   "metadata": {},
   "outputs": [],
   "source": [
    "scaling_factors_with_seq = []\n",
    "for j in model.s:\n",
    "    scaling_factors_with_seq.append(model.s[j].value)  "
   ]
  },
  {
   "cell_type": "code",
   "execution_count": 129,
   "id": "30eccdde-5047-4349-958d-918e87c5617b",
   "metadata": {},
   "outputs": [
    {
     "data": {
      "text/plain": [
       "[74362954650.72348, 0.0, 0.0, 0.0]"
      ]
     },
     "execution_count": 129,
     "metadata": {},
     "output_type": "execute_result"
    }
   ],
   "source": [
    "#1. monomer production\n",
    "#ethylene\n",
    "ethylene_s_indices = []\n",
    "scaling_factors_ethylene = []\n",
    "search_elements_ethylene = [\n",
    "    'Bio-ethylene production (monomer)',\n",
    "    'Fossil-ethylene production',\n",
    "    'pyrolysis (monomer production), HDPE sorted',\n",
    "    'pyrolysis (monomer production), LDPE sorted'\n",
    "]\n",
    "ethylene_s_indices = [A_df_org.iloc[0,:].tolist().index(elem) for elem in search_elements_ethylene]\n",
    "ethylene_s_indices = [i-3 for i in ethylene_s_indices]\n",
    "for j in ethylene_s_indices:\n",
    "    scaling_factors_ethylene.append(model.s[j].value)\n",
    "scaling_factors_ethylene"
   ]
  },
  {
   "cell_type": "code",
   "execution_count": 130,
   "id": "b4b6ecfb-995a-4a06-9e2e-de809d61d70b",
   "metadata": {},
   "outputs": [
    {
     "data": {
      "text/plain": [
       "[770621074.548914, 0.0, 0.0]"
      ]
     },
     "execution_count": 130,
     "metadata": {},
     "output_type": "execute_result"
    }
   ],
   "source": [
    "#propylene\n",
    "propylene_s_indices = []\n",
    "scaling_factors_propylene = []\n",
    "search_elements_propylene = [\n",
    "    'Bio-propylene production (monomer)',\n",
    "    'Fossil-propylene production',\n",
    "    'pyrolysis (monomer production), PP sorted',\n",
    "]\n",
    "propylene_s_indices = [A_df_org.iloc[0,:].tolist().index(elem) for elem in search_elements_propylene]\n",
    "propylene_s_indices = [i-3 for i in propylene_s_indices]\n",
    "for j in propylene_s_indices:\n",
    "    scaling_factors_propylene.append(model.s[j].value)\n",
    "scaling_factors_propylene   "
   ]
  },
  {
   "cell_type": "code",
   "execution_count": 131,
   "id": "f9b4a849-b43b-4a57-bc2f-7f063cc02f9c",
   "metadata": {},
   "outputs": [
    {
     "data": {
      "text/plain": [
       "[12986265878.469458, 0.0, 0.0, 0.0]"
      ]
     },
     "execution_count": 131,
     "metadata": {},
     "output_type": "execute_result"
    }
   ],
   "source": [
    "#MEG\n",
    "MEG_s_indices = []\n",
    "scaling_factors_MEG = []\n",
    "search_elements_MEG = [\n",
    "    'Bio-MEG production (monomer)',\n",
    "    'Fossil-MEG production',\n",
    "    'depolymerization, enzymatic hydrolysis, PET sorted',\n",
    "    'depolymerization, glycolysis, PET sorted'\n",
    "]\n",
    "MEG_s_indices = [A_df_org.iloc[0,:].tolist().index(elem) for elem in search_elements_MEG]\n",
    "MEG_s_indices = [i-3 for i in MEG_s_indices]\n",
    "for j in MEG_s_indices:\n",
    "    scaling_factors_MEG.append(model.s[j].value)\n",
    "scaling_factors_MEG   "
   ]
  },
  {
   "cell_type": "code",
   "execution_count": 132,
   "id": "0ea2269f-600b-4a77-b4bc-02636376e8e3",
   "metadata": {},
   "outputs": [
    {
     "data": {
      "text/plain": [
       "[8490211206.103636, 0.0, 0.0]"
      ]
     },
     "execution_count": 132,
     "metadata": {},
     "output_type": "execute_result"
    }
   ],
   "source": [
    "#styrene\n",
    "styrene_s_indices = []\n",
    "scaling_factors_styrene = []\n",
    "search_elements_styrene = [\n",
    "    'Bio-styrene production',\n",
    "    'Fossil-styrene production',\n",
    "    'chemical recycling with metal oxide, PS sorted',\n",
    "]\n",
    "styrene_s_indices = [A_df_org.iloc[0,:].tolist().index(elem) for elem in search_elements_styrene]\n",
    "styrene_s_indices = [i-3 for i in styrene_s_indices]\n",
    "for j in styrene_s_indices:\n",
    "    scaling_factors_styrene.append(model.s[j].value)\n",
    "scaling_factors_styrene "
   ]
  },
  {
   "cell_type": "code",
   "execution_count": 133,
   "id": "02df5eb6-1682-4142-9c22-dd0cd1b46bb5",
   "metadata": {},
   "outputs": [
    {
     "data": {
      "text/plain": [
       "[3564093390.0982757, 0.0]"
      ]
     },
     "execution_count": 133,
     "metadata": {},
     "output_type": "execute_result"
    }
   ],
   "source": [
    "#vinyl chloride\n",
    "vinyl_chloride_s_indices = []\n",
    "scaling_factors_vinyl_chloride = []\n",
    "search_elements_vinyl_chloride = [\n",
    "    'Bio-vinyl chloride production',\n",
    "    'Fossil-vinyl chloride production',\n",
    "]\n",
    "vinyl_chloride_s_indices = [A_df_org.iloc[0,:].tolist().index(elem) for elem in search_elements_vinyl_chloride]\n",
    "vinyl_chloride_s_indices = [i-3 for i in vinyl_chloride_s_indices]\n",
    "for j in vinyl_chloride_s_indices:\n",
    "    scaling_factors_vinyl_chloride.append(model.s[j].value)\n",
    "scaling_factors_vinyl_chloride  "
   ]
  },
  {
   "cell_type": "code",
   "execution_count": 134,
   "id": "1d520c3a-430b-4a05-a230-3d9c74f093d6",
   "metadata": {},
   "outputs": [
    {
     "data": {
      "text/plain": [
       "[0.0, 0.0, 34568875648.39365, 0.0]"
      ]
     },
     "execution_count": 134,
     "metadata": {},
     "output_type": "execute_result"
    }
   ],
   "source": [
    "# 2. polymers\n",
    "#polyethylene\n",
    "scaling_factors_polyethylene = []\n",
    "polyethylene_s_indices = []\n",
    "search_elements_polyethylene = [\n",
    "    'advanced recycling, delamination, multi-layer plastic packaging',\n",
    "    'advanced recycling, STRAP, multi-layer plastic packaging',\n",
    "    'LDPE production',\n",
    "    'mechanical recycling, LDPE sorted'\n",
    "]\n",
    "polyethylene_s_indices = [A_df_org.iloc[0,:].tolist().index(elem) for elem in search_elements_polyethylene]\n",
    "polyethylene_s_indices = [i-3 for i in polyethylene_s_indices]\n",
    "for j in polyethylene_s_indices:\n",
    "    scaling_factors_polyethylene.append(model.s[j].value)\n",
    "scaling_factors_polyethylene"
   ]
  },
  {
   "cell_type": "code",
   "execution_count": 135,
   "id": "5555f8b1-d0a5-4628-9608-ea274fec55a2",
   "metadata": {},
   "outputs": [
    {
     "data": {
      "text/plain": [
       "[0.0, 0.0, 36387918045.189, 0.0]"
      ]
     },
     "execution_count": 135,
     "metadata": {},
     "output_type": "execute_result"
    }
   ],
   "source": [
    "#polyethylene\n",
    "scaling_factors_polyethylene = []\n",
    "polyethylene_s_indices = []\n",
    "search_elements_polyethylene = [\n",
    "    'advanced recycling, delamination, multi-layer plastic packaging',\n",
    "    'advanced recycling, STRAP, multi-layer plastic packaging',\n",
    "    'HDPE production',\n",
    "    'mechanical recycling, HDPE sorted'\n",
    "]\n",
    "polyethylene_s_indices = [A_df_org.iloc[0,:].tolist().index(elem) for elem in search_elements_polyethylene]\n",
    "polyethylene_s_indices = [i-3 for i in polyethylene_s_indices]\n",
    "for j in polyethylene_s_indices:\n",
    "    scaling_factors_polyethylene.append(model.s[j].value)\n",
    "scaling_factors_polyethylene"
   ]
  },
  {
   "cell_type": "code",
   "execution_count": 136,
   "id": "7bdc1e00-aa13-4147-83ad-48d811f9f1d2",
   "metadata": {},
   "outputs": [
    {
     "data": {
      "text/plain": [
       "[0.0, 0.0, 49487851352.6337, 0.0]"
      ]
     },
     "execution_count": 136,
     "metadata": {},
     "output_type": "execute_result"
    }
   ],
   "source": [
    "#polypropylene\n",
    "scaling_factors_polypropylene = []\n",
    "polypropylene_s_indices = []\n",
    "search_elements_polypropylene = [\n",
    "    'advanced recycling, delamination, multi-layer plastic packaging',\n",
    "    'advanced recycling, STRAP, multi-layer plastic packaging',\n",
    "    'PP production',\n",
    "    'mechanical recycling, PP sorted'\n",
    "]\n",
    "polypropylene_s_indices = [A_df_org.iloc[0,:].tolist().index(elem) for elem in search_elements_polypropylene]\n",
    "polypropylene_s_indices = [i-3 for i in polypropylene_s_indices]\n",
    "for j in polypropylene_s_indices:\n",
    "    scaling_factors_polypropylene.append(model.s[j].value)\n",
    "scaling_factors_polypropylene"
   ]
  },
  {
   "cell_type": "code",
   "execution_count": 137,
   "id": "b2f7edba-a7e9-4161-ae45-fdf4ef34febc",
   "metadata": {},
   "outputs": [
    {
     "data": {
      "text/plain": [
       "[0.0, 0.0, 37641350.37237524, 0.0]"
      ]
     },
     "execution_count": 137,
     "metadata": {},
     "output_type": "execute_result"
    }
   ],
   "source": [
    "#polyethylene terephthalate\n",
    "scaling_factors_PET = []\n",
    "PET_s_indices = []\n",
    "search_elements_PET = [\n",
    "    'advanced recycling, delamination, multi-layer plastic packaging',\n",
    "    'advanced recycling, STRAP, multi-layer plastic packaging',\n",
    "    'PET production',\n",
    "    'mechanical recycling, PET sorted'\n",
    "]\n",
    "PET_s_indices = [A_df_org.iloc[0,:].tolist().index(elem) for elem in search_elements_PET]\n",
    "PET_s_indices = [i-3 for i in PET_s_indices]\n",
    "for j in PET_s_indices:\n",
    "    scaling_factors_PET.append(model.s[j].value)\n",
    "scaling_factors_PET"
   ]
  },
  {
   "cell_type": "code",
   "execution_count": 138,
   "id": "56ac0fa3-f45a-477a-84a5-087a5e4929f7",
   "metadata": {},
   "outputs": [
    {
     "data": {
      "text/plain": [
       "[0.0, 0.0, 8490211206.103636, 0.0]"
      ]
     },
     "execution_count": 138,
     "metadata": {},
     "output_type": "execute_result"
    }
   ],
   "source": [
    "#polystyrene terephthalate\n",
    "scaling_factors_PS = []\n",
    "PS_s_indices = []\n",
    "search_elements_PS = [\n",
    "    'advanced recycling, delamination, multi-layer plastic packaging',\n",
    "    'advanced recycling, STRAP, multi-layer plastic packaging',\n",
    "    'PS production',\n",
    "    'mechanical recycling, PS sorted'\n",
    "]\n",
    "PS_s_indices = [A_df_org.iloc[0,:].tolist().index(elem) for elem in search_elements_PS]\n",
    "PS_s_indices = [i-3 for i in PS_s_indices]\n",
    "for j in PS_s_indices:\n",
    "    scaling_factors_PS.append(model.s[j].value)\n",
    "scaling_factors_PS"
   ]
  },
  {
   "cell_type": "code",
   "execution_count": 139,
   "id": "34d55267-9bcc-4db2-94e1-c4de0317655f",
   "metadata": {},
   "outputs": [
    {
     "data": {
      "text/plain": [
       "[0.0, 0.0, 3558293371.9020753, 0.0]"
      ]
     },
     "execution_count": 139,
     "metadata": {},
     "output_type": "execute_result"
    }
   ],
   "source": [
    "#polyvinyl chloride\n",
    "scaling_factors_PVC = []\n",
    "PVC_s_indices = []\n",
    "search_elements_PVC = [\n",
    "    'advanced recycling, delamination, multi-layer plastic packaging',\n",
    "    'advanced recycling, STRAP, multi-layer plastic packaging',\n",
    "    'PVC production',\n",
    "    'mechanical recycling, PVC sorted'\n",
    "]\n",
    "PVC_s_indices = [A_df_org.iloc[0,:].tolist().index(elem) for elem in search_elements_PVC]\n",
    "PVC_s_indices = [i-3 for i in PVC_s_indices]\n",
    "for j in PVC_s_indices:\n",
    "    scaling_factors_PVC.append(model.s[j].value)\n",
    "scaling_factors_PVC"
   ]
  },
  {
   "cell_type": "code",
   "execution_count": 140,
   "id": "769796cd-e45a-4d99-b7b7-2c5e7d4514d1",
   "metadata": {},
   "outputs": [
    {
     "data": {
      "text/plain": [
       "[0.0, 0.0, 0.0, 160027500000.0, 0.0, 0.0, 0.0]"
      ]
     },
     "execution_count": 140,
     "metadata": {},
     "output_type": "execute_result"
    }
   ],
   "source": [
    "#3. mixed plastic collected waste (sorting, energy recovery, landfill, mismanaged)\n",
    "\n",
    "scaling_factors_mixed = []\n",
    "mixed_s_indices = []\n",
    "search_elements_mixed = [\n",
    "    'incineration, electricity recovery, plastic packaging waste',\n",
    "    'landfill, plastic packaging waste',\n",
    "    'Mismanaged waste treatment, uncontrolled landfill, plastic packaging waste',\n",
    "    'sorting, non-optical manual and automatic sorter (commercial)',\n",
    "    'sorting, optiacl sorter (commercial)',\n",
    "    'sorting, optical with film sorter (commercial)',\n",
    "    'sorting, optical with film, multilayer, and AI sorter (emerging)'\n",
    "]\n",
    "mixed_s_indices = [A_df_org.iloc[0,:].tolist().index(elem) for elem in search_elements_mixed]\n",
    "mixed_s_indices = [i-3 for i in mixed_s_indices]\n",
    "for j in mixed_s_indices:\n",
    "    scaling_factors_mixed.append(model.s[j].value)\n",
    "scaling_factors_mixed"
   ]
  },
  {
   "cell_type": "code",
   "execution_count": 141,
   "id": "787109a8-b0e7-46a4-b17e-657fe9a3aa99",
   "metadata": {},
   "outputs": [
    {
     "data": {
      "text/plain": [
       "[0.0, 0.0, 0.0, 0.0, 0.0, 70732155000.0]"
      ]
     },
     "execution_count": 141,
     "metadata": {},
     "output_type": "execute_result"
    }
   ],
   "source": [
    "#4. mixed plastic waste, sorted (sorting, energy recovery, landfill, mismanaged)\n",
    "\n",
    "scaling_factors_mixed = []\n",
    "mixed_s_indices = []\n",
    "search_elements_mixed = [\n",
    "    'cement clinker, mixed plastic packaging,sorted',\n",
    "    'gasification to methanol, mixed plastic waste sorted',\n",
    "    'plastic lumber production, mixed plastic waste, sorted',\n",
    "    'pyrolysis, feedstock recycling, mixed plastic waste, sorted',\n",
    "    'PET fiber production, PET sorted',\n",
    "    'road pavement production, mixed plastic waste, sorted'\n",
    "]\n",
    "mixed_s_indices = [A_df_org.iloc[0,:].tolist().index(elem) for elem in search_elements_mixed]\n",
    "mixed_s_indices = [i-3 for i in mixed_s_indices]\n",
    "for j in mixed_s_indices:\n",
    "    scaling_factors_mixed.append(model.s[j].value)\n",
    "scaling_factors_mixed"
   ]
  },
  {
   "cell_type": "markdown",
   "id": "abe55674-d00a-490f-b872-86a5f4469f01",
   "metadata": {},
   "source": [
    "# 3. Data Visualization"
   ]
  },
  {
   "cell_type": "markdown",
   "id": "c6eb671b-318e-4103-a108-1769d2fe0155",
   "metadata": {},
   "source": [
    "# 3.1. GWP Comparison b/w scenarios"
   ]
  },
  {
   "cell_type": "code",
   "execution_count": 146,
   "id": "75ea8dfc-f5be-4bbe-ae06-f8e576a1196e",
   "metadata": {},
   "outputs": [
    {
     "data": {
      "image/png": "[encoded data removed]",
      "text/plain": [
       "<Figure size 640x480 with 1 Axes>"
      ]
     },
     "metadata": {},
     "output_type": "display_data"
    }
   ],
   "source": [
    "labels = ['BAU', 'without sequestration', 'with sequestration']\n",
    "values = [round(GWP_BAU_per_kg,2), round(GWP_best_wo_seq_per_kg,2), round(GWP_best_with_seq_per_kg,2)]  # Example values for GWP_BAU_per_kg, GWP_with_seq, GWP_wo_seq\n",
    "y_label = 'Global Warming Potential (kg CO2-eq / kg of plastic)'\n",
    "\n",
    "# Plot\n",
    "fig, ax = plt.subplots()\n",
    "bars = ax.bar(labels, values, color=['blue', 'green', 'orange'])\n",
    "\n",
    "# Adding labels and title\n",
    "ax.set_ylabel(y_label)\n",
    "ax.set_title('Comparison of Global Warming Potential (kg CO2-eq / kg of plastic)')\n",
    "ax.set_ylim(-5, 5)\n",
    "\n",
    "# Adding value labels on top of the bars\n",
    "for bar in bars:\n",
    "    height = bar.get_height()\n",
    "    ax.annotate(f'{height}',\n",
    "                xy=(bar.get_x() + bar.get_width() / 2, height),\n",
    "                xytext=(0, 3),  # 3 points vertical offset\n",
    "                textcoords=\"offset points\",\n",
    "                ha='center', va='bottom')\n",
    "# Show the plot\n",
    "plt.tight_layout()\n",
    "plt.show()"
   ]
  },
  {
   "cell_type": "markdown",
   "id": "05f30244-e4d4-4ce4-85df-322fc615df81",
   "metadata": {},
   "source": [
    "# 3.2. Sankey Diagrams"
   ]
  },
  {
   "cell_type": "markdown",
   "id": "bca74c40-4f22-4216-8a6f-a249aa60aa5d",
   "metadata": {},
   "source": [
    "# 3.2.1. BAU"
   ]
  },
  {
   "cell_type": "code",
   "execution_count": null,
   "id": "9f211b88-f130-4e5a-b749-f9273ea8d723",
   "metadata": {},
   "outputs": [],
   "source": [
    "# Sankey Diagram\n",
    "#data\n",
    "label = [\"Resources\",\"Feedstocks\",\"Fossil-based monomers\",\"Bio-based monomers\",\"Monomers\",\n",
    "        \"Polymers\",\"Products\",\"Use & collection\",\"Sorting\",\"Advanced Recycling\", \"Mechanical Recycling\",\n",
    "        \"Chemical Recycling\", \"Downcycling\", \"Energy Recovery\", \"Landfill\", \"Mismanaged Waste\",\n",
    "        \"Macroplastics\", \"Microplastics\"]\n",
    "\n",
    "#1: Fossil-based Monomers\n",
    "#2: Polymers\n",
    "#3: Products\n",
    "#4: Use & collection\n",
    "#5: Sorting\n",
    "#6: Mechanical Recycling\n",
    "#7: Energy Recovery\n",
    "#8: Landfill\n",
    "#9: Open burning\n",
    "#10: Macroplastics\n",
    "#11: Microplastics\n",
    "\n",
    "source = [1,2,3,4,4,4,4, 4,5,5,5,5, 5,6,10]\n",
    "target = [2,3,4,5,7,8,9,10,6,7,8,9,10,3,11]\n",
    "value = [\n",
    "    abs(A[A_BAU_df_org.index[A_BAU_df_org.iloc[:, 0] == 'market for maleic anhydride | maleic anhydride | APOS, S'].tolist()[0] - 10,\n",
    "                   A_BAU_df_org.index[A_BAU_df_org.iloc[:, 0] == 'market for maleic anhydride | maleic anhydride | APOS, S'].tolist()[0] - 10])\n",
    "                      * abs(s_BAU[A_BAU_df_org.index[A_BAU_df_org.iloc[:, 0] == 'market for maleic anhydride | maleic anhydride | APOS, S'].tolist()[0] - 10])\n",
    "                      \n"
   ]
  },
  {
   "cell_type": "markdown",
   "id": "40cb5b1b-52b7-4f7c-81e3-fcb7480aa774",
   "metadata": {},
   "source": [
    "# 3.2. Without carbon sequestration"
   ]
  },
  {
   "cell_type": "code",
   "execution_count": null,
   "id": "cd26c8c8-d159-4936-ad1c-3fd580bcd943",
   "metadata": {},
   "outputs": [],
   "source": [
    "# Sankey Diagram\n",
    "#data\n",
    "label = [\"Resources\",\"Feedstocks\",\"Fossil-based monomers\",\"Bio-based monomers\",\"Monomers\",\n",
    "        \"Polymers\",\"Products\",\"Use & collection\",\"Sorting\",\"Advanced Recycling\", \"Mechanical Recycling\",\n",
    "        \"Chemical Recycling\", \"Downcycling\", \"Energy Recovery\", \"Landfill\", \"Mismanaged Waste\",\n",
    "        \"Macroplastics\", \"Microplastics\"]\n",
    "\n",
    "#1: Resources\n",
    "#2: Feedstocks\n",
    "#3: Fossil-based monomers\n",
    "#4: Bio-based monomers\n",
    "#5: Monomers\n",
    "#6: Polymers\n",
    "#7: Products\n",
    "#8: Use & collection\n",
    "#9: Sorting\n",
    "#10: Advanced Recycling\n",
    "#11: Mechanical Recycling\n",
    "#12: Chemical Recycling\n",
    "#13: Downcycling\n",
    "#14: Energy Recovery\n",
    "#15: Landfill\n",
    "#16: Mismanaged Waste\n",
    "#17: Macroplastics\n",
    "#18: Microplastics\n",
    "\n",
    "source = [1,2,2,3,4,5,6,7,8, 8, 8, 8, 8, 9, 9, 9, 9, 9, 9, 9,10,10,10,10,11,11,11,11,12,12,12,12,12,13,13,13,16,17]\n",
    "target = [2,3,4,5,5,6,7,8,9,14,15,16,17,10,11,12,13,14,15,16, 7,14,15,16, 7,14,15,16, 5, 2,14,15,16,14,15,16,17,18]\n",
    "value = [\n",
    "    round(abs(A[A_df_org.index[A_df_org.iloc[:, 0] == 'market for maleic anhydride | maleic anhydride | APOS, S'].tolist()[0] - 10,\n",
    "                   A_df_org.index[A_df_org.iloc[:, 0] == 'market for maleic anhydride | maleic anhydride | APOS, S'].tolist()[0] - 10])\n",
    "                      * abs(s[A_df_org.index[A_df_org.iloc[:, 0] == 'market for maleic anhydride | maleic anhydride | APOS, S'].tolist()[0] - 10])/1000\n",
    "                      + abs(A_modified[A_df_org.index[A_df_org.iloc[:, 0] == 'market for nylon 6 | nylon 6 | APOS, S'].tolist()[0] - 10,\n",
    "                                        A_df_org.index[A_df_org.iloc[:, 0] == 'market for nylon 6 | nylon 6 | APOS, S'].tolist()[0] - 10])\n",
    "                      * abs(s[A_df_org.index[A_df_org.iloc[:, 0] == 'market for nylon 6 | nylon 6 | APOS, S'].tolist()[0] - 10])/1000\n"
   ]
  },
  {
   "cell_type": "markdown",
   "id": "281b95c5-0a3c-42ad-9bff-fb384c497282",
   "metadata": {},
   "source": [
    "# 3.3. With carbon sequestration"
   ]
  },
  {
   "cell_type": "code",
   "execution_count": null,
   "id": "b9550898-ce7e-40f6-bd77-ca308ac4bbad",
   "metadata": {},
   "outputs": [],
   "source": [
    "# Sankey Diagram\n",
    "#data\n",
    "label = [\"Resources\",\"Feedstocks\",\"Fossil-based monomers\",\"Bio-based monomers\",\"Monomers\",\n",
    "        \"Polymers\",\"Products\",\"Use & collection\",\"Sorting\",\"Advanced Recycling\", \"Mechanical Recycling\",\n",
    "        \"Chemical Recycling\", \"Downcycling\", \"Energy Recovery\", \"Landfill\", \"Mismanaged Waste\",\n",
    "        \"Macroplastics\", \"Microplastics\"]\n",
    "\n",
    "#1: Resources\n",
    "#2: Feedstocks\n",
    "#3: Fossil-based monomers\n",
    "#4: Bio-based monomers\n",
    "#5: Monomers\n",
    "#6: Polymers\n",
    "#7: Products\n",
    "#8: Use & collection\n",
    "#9: Sorting\n",
    "#10: Advanced Recycling\n",
    "#11: Mechanical Recycling\n",
    "#12: Chemical Recycling\n",
    "#13: Downcycling\n",
    "#14: Energy Recovery\n",
    "#15: Landfill\n",
    "#16: Mismanaged Waste\n",
    "#17: Macroplastics\n",
    "#18: Microplastics\n",
    "\n",
    "source = [1,2,2,3,4,5,6,7,8, 8, 8, 8, 8, 9, 9, 9, 9, 9, 9, 9,10,10,10,10,11,11,11,11,12,12,12,12,12,13,13,13,16,17]\n",
    "target = [2,3,4,5,5,6,7,8,9,14,15,16,17,10,11,12,13,14,15,16, 7,14,15,16, 7,14,15,16, 5, 2,14,15,16,14,15,16,17,18]\n",
    "value = [\n",
    "    round(abs(A[A_df_org.index[A_df_org.iloc[:, 0] == 'market for maleic anhydride | maleic anhydride | APOS, S'].tolist()[0] - 10,\n",
    "                   A_df_org.index[A_df_org.iloc[:, 0] == 'market for maleic anhydride | maleic anhydride | APOS, S'].tolist()[0] - 10])\n",
    "                      * abs(s[A_df_org.index[A_df_org.iloc[:, 0] == 'market for maleic anhydride | maleic anhydride | APOS, S'].tolist()[0] - 10])/1000\n",
    "                      + abs(A_modified[A_df_org.index[A_df_org.iloc[:, 0] == 'market for nylon 6 | nylon 6 | APOS, S'].tolist()[0] - 10,\n",
    "                                        A_df_org.index[A_df_org.iloc[:, 0] == 'market for nylon 6 | nylon 6 | APOS, S'].tolist()[0] - 10])\n",
    "                      * abs(s[A_df_org.index[A_df_org.iloc[:, 0] == 'market for nylon 6 | nylon 6 | APOS, S'].tolist()[0] - 10])/1000\n"
   ]
  },
  {
   "cell_type": "markdown",
   "id": "9e6bae4f-16df-485d-8a9b-fd7ac8db41de",
   "metadata": {},
   "source": [
    "# USLCI + CMI (background), literature (foreground)"
   ]
  },
  {
   "cell_type": "markdown",
   "id": "a97a3dfb-c413-4ce9-83ec-d9d9d13825a8",
   "metadata": {},
   "source": [
    "# 2. Min GWP"
   ]
  },
  {
   "cell_type": "code",
   "execution_count": 1,
   "id": "d501b9e9-28d4-4871-b70a-bce222db5b45",
   "metadata": {},
   "outputs": [],
   "source": [
    "import numpy as np\n",
    "import pandas as pd\n",
    "import matplotlib.pyplot as plt\n",
    "import copy\n",
    "from pyomo.environ import *\n",
    "from pyomo.environ import RangeSet\n",
    "from pyomo.environ import value"
   ]
  },
  {
   "cell_type": "code",
   "execution_count": 2,
   "id": "9ebe9b66-d389-4ee9-9cb2-92b01c1ff887",
   "metadata": {},
   "outputs": [],
   "source": [
    "A_url = \"https://raw.githubusercontent.com/FarshidNazemi/Plastic-Packaging/refs/heads/main/csv-files/A%20(USLCI)-Design.csv\"\n",
    "B_url = \"https://raw.githubusercontent.com/FarshidNazemi/Plastic-Packaging/refs/heads/main/csv-files/B%20(USLCI)-Design.csv\"\n",
    "C_url = \"https://raw.githubusercontent.com/FarshidNazemi/Plastic-Packaging/refs/heads/main/csv-files/C%20(USLCI)-Design.csv\""
   ]
  },
  {
   "cell_type": "code",
   "execution_count": 3,
   "id": "3b047f23-dbb3-4972-8f1e-129b6fc71754",
   "metadata": {},
   "outputs": [],
   "source": [
    "A_df_org = pd.read_csv(A_url,header=None)\n",
    "B_df_org = pd.read_csv(B_url,header=None)\n",
    "C_df_org = pd.read_csv(C_url,header=None)"
   ]
  },
  {
   "cell_type": "code",
   "execution_count": 4,
   "id": "2d482fa7-e18b-4586-80ce-54825f4ddc8c",
   "metadata": {},
   "outputs": [],
   "source": [
    "C_df = C_df_org"
   ]
  },
  {
   "cell_type": "code",
   "execution_count": 5,
   "id": "0017652e-6ef7-48d9-9d71-1c41f63e7aad",
   "metadata": {},
   "outputs": [],
   "source": [
    "A_df_org.to_csv('A_df_org.csv', index=False)\n",
    "B_df_org.to_csv('A_df_org.csv', index=False)"
   ]
  },
  {
   "cell_type": "markdown",
   "id": "a32a029e-3719-45d5-90c1-d08208cc7269",
   "metadata": {},
   "source": [
    "## a: Removing Transportation from A and B"
   ]
  },
  {
   "cell_type": "code",
   "execution_count": 6,
   "id": "bd88ca09-55cc-41e7-b510-de35521a3006",
   "metadata": {},
   "outputs": [],
   "source": [
    "transport_processes = ['Transport, barge, average fuel mix',\n",
    "                            'Transport, barge, diesel powered',\n",
    "                            'Transport, barge, residual fuel oil powered',\n",
    "                            'Transport, combination truck, average fuel mix',\n",
    "                            'Transport, combination truck, diesel powered',\n",
    "                            'Transport, ocean freighter, average fuel mix',\n",
    "                            'Transport, ocean freighter, diesel powered',\n",
    "                            'Transport, ocean freighter, residual fuel oil powered',\n",
    "                            'Transport, pipeline, natural gas',\n",
    "                            'Transport, pipeline, unspecified petroleum products',\n",
    "                            'Transport, single unit truck, diesel powered',\n",
    "                            'Transport, train, diesel powered'\n",
    "                           ]"
   ]
  },
  {
   "cell_type": "code",
   "execution_count": 7,
   "id": "f5f38df5-502a-4186-9faf-d79b9c1cbb7d",
   "metadata": {},
   "outputs": [],
   "source": [
    "#finding columns in A with transportation \n",
    "store_index_transport_A_col = []\n",
    "stored_index_A = 0\n",
    "for i in range(len(A_df_org.T)):\n",
    "    if str(A_df_org.iloc[0, i]) in transport_processes:\n",
    "        stored_index_A = i\n",
    "        store_index_transport_A_col.append(stored_index_A)"
   ]
  },
  {
   "cell_type": "code",
   "execution_count": 8,
   "id": "519f6ccd-e630-45be-a637-8c5583b44717",
   "metadata": {},
   "outputs": [],
   "source": [
    "#finding columns in B with transportation\n",
    "store_index_transport_B = []\n",
    "stored_index_B = 0\n",
    "for i in range(len(B_df_org.T)):\n",
    "    if str(B_df_org.iloc[0, i]) in transport_processes:\n",
    "        stored_index_B = i\n",
    "        store_index_transport_B.append(stored_index_B)"
   ]
  },
  {
   "cell_type": "code",
   "execution_count": 9,
   "id": "493de98f-8757-4e5e-abfd-662802fcbf83",
   "metadata": {},
   "outputs": [],
   "source": [
    "A_df_org = A_df_org.drop(A_df_org.columns[store_index_transport_A_col], axis=1)\n",
    "B_df_org = B_df_org.drop(B_df_org.columns[store_index_transport_B], axis=1)"
   ]
  },
  {
   "cell_type": "code",
   "execution_count": 10,
   "id": "05833b04-6b2a-48fa-bd0f-e10bc7240cb3",
   "metadata": {},
   "outputs": [],
   "source": [
    "#Finding Transportation rows\n",
    "store_index_transport_A_row = []\n",
    "stored_index_A = 0\n",
    "for i in range(len(A_df_org)):\n",
    "    if str(A_df_org.iloc[i, 0]) in transport_processes:\n",
    "        stored_index_A = i\n",
    "        store_index_transport_A_row.append(stored_index_A)"
   ]
  },
  {
   "cell_type": "code",
   "execution_count": 11,
   "id": "63130528-3e51-49a0-803d-9ec7a43f8fa7",
   "metadata": {},
   "outputs": [],
   "source": [
    "#removing transportation rows from A\n",
    "A_df_org = A_df_org.drop(A_df_org.columns[store_index_transport_A_row], axis=0)"
   ]
  },
  {
   "cell_type": "code",
   "execution_count": 12,
   "id": "897674e9-0152-43f1-9cd9-b53c88bbdc89",
   "metadata": {},
   "outputs": [],
   "source": [
    "A_df_org.to_csv('A_df_org_transport.csv', index=False)"
   ]
  },
  {
   "cell_type": "markdown",
   "id": "6a9dfc52-5053-407a-9518-21d38bbf4aa4",
   "metadata": {},
   "source": [
    "## b:  Electricity generation UUIDs in USLCI"
   ]
  },
  {
   "cell_type": "code",
   "execution_count": 13,
   "id": "665e8a4d-d951-4638-accc-c712d5a38d99",
   "metadata": {},
   "outputs": [],
   "source": [
    "electricity_processes = ['Electrcity, solar photovoltatic',\n",
    "                         'Electricity',\n",
    "                         'Electricity, at cogen, for natural gas turbine',\n",
    "                         'Electricity, at Grid, US, 2010',\n",
    "                         'Electricity, biomass, at power plant',\n",
    "                         'Electricity, bituminous coal, at power plant',\n",
    "                         'Electricity, concentrated solar power (CSP)',\n",
    "                         'Electricity, diesel, at power plant',\n",
    "                         'Electricity, Eastern US, 2014',\n",
    "                         'Electricity, lignite coal, at power plant',\n",
    "                         'Electricity, natural gas, at power plant',\n",
    "                         'Electricity, nuclear, at power plant',\n",
    "                         'Electricity, residual fuel oil, at power plant',\n",
    "                         'Electricity, solar'\n",
    "                            ]"
   ]
  },
  {
   "cell_type": "code",
   "execution_count": 14,
   "id": "2a7a9c17-9294-4a4f-abe0-4c6db63918d0",
   "metadata": {},
   "outputs": [],
   "source": [
    "#finding columns in A with electricity generation\n",
    "store_index_electricity_A_col = []\n",
    "stored_index_A = 0\n",
    "for i in range(len(A_df_org.T)):\n",
    "    if str(A_df_org.iloc[0, i]) in electricity_processes:\n",
    "        stored_index_A = i\n",
    "        store_index_electricity_A_col.append(stored_index_A)"
   ]
  },
  {
   "cell_type": "code",
   "execution_count": 15,
   "id": "71a0cca3-fed6-4be0-9baa-b03d9ff85859",
   "metadata": {},
   "outputs": [],
   "source": [
    "#finding rows in A with electricity generation\n",
    "store_index_electricity_A_row = []\n",
    "stored_index_A = 0\n",
    "for i in range(len(A_df_org)):\n",
    "    if str(A_df_org.iloc[i, 0]) in electricity_processes:\n",
    "        stored_index_A = i\n",
    "        store_index_electricity_A_row.append(stored_index_A)"
   ]
  },
  {
   "cell_type": "code",
   "execution_count": 16,
   "id": "d7031747-24a7-4fe2-ab20-1db54afc5090",
   "metadata": {},
   "outputs": [],
   "source": [
    "#finding columns in B with electricity generation\n",
    "store_index_electricity_B = []\n",
    "stored_index_B = 0\n",
    "for i in range(len(B_df_org.T)):\n",
    "    if str(B_df_org.iloc[0, i]) in electricity_processes:\n",
    "        stored_index_B = i\n",
    "        store_index_electricity_B.append(stored_index_B)"
   ]
  },
  {
   "cell_type": "markdown",
   "id": "b1a62d9e-012f-4bda-9656-e381a9c607c7",
   "metadata": {},
   "source": [
    "### Removing corresponding electricity columns from A and B"
   ]
  },
  {
   "cell_type": "code",
   "execution_count": 17,
   "id": "6be599a9-be0a-4ed9-9ca4-195572f26494",
   "metadata": {},
   "outputs": [],
   "source": [
    "A_df_org = A_df_org.drop(A_df_org.columns[store_index_electricity_A_col], axis=1)\n",
    "B_df_org = B_df_org.drop(B_df_org.columns[store_index_electricity_B], axis=1)"
   ]
  },
  {
   "cell_type": "markdown",
   "id": "538dd053-daa9-4ce9-bdfc-6e5965257521",
   "metadata": {},
   "source": [
    "### Aggregating all electricity flows in each process"
   ]
  },
  {
   "cell_type": "code",
   "execution_count": 18,
   "id": "0bf726c3-0860-4727-a1a4-b894c8e2364f",
   "metadata": {},
   "outputs": [],
   "source": [
    "electricity_sums = np.sum(np.array(A_df_org.loc[store_index_electricity_A_row].iloc[:, 10:].replace(np.nan, 0), dtype=float), axis=0)"
   ]
  },
  {
   "cell_type": "code",
   "execution_count": 19,
   "id": "0e6a17ed-a66a-4363-9fc0-4631699dcfe1",
   "metadata": {},
   "outputs": [],
   "source": [
    "# Reset index and drop the old index\n",
    "A_df_org_tr = A_df_org.T.reset_index(drop=True)"
   ]
  },
  {
   "cell_type": "code",
   "execution_count": 20,
   "id": "6c621687-1451-43b2-9789-e85ed9350e49",
   "metadata": {
    "tags": []
   },
   "outputs": [],
   "source": [
    "A_df_org = A_df_org_tr.T"
   ]
  },
  {
   "cell_type": "code",
   "execution_count": 21,
   "id": "fbc6a002-c46b-4fc7-89d7-310b3cc4d821",
   "metadata": {},
   "outputs": [],
   "source": [
    "# Reset index and drop the old index\n",
    "B_df_org_tr = B_df_org.T.reset_index(drop=True)"
   ]
  },
  {
   "cell_type": "code",
   "execution_count": 22,
   "id": "fca6055c-1f3d-46a2-9523-80fb6fa9cb71",
   "metadata": {
    "tags": []
   },
   "outputs": [],
   "source": [
    "B_df_org = B_df_org_tr.T"
   ]
  },
  {
   "cell_type": "markdown",
   "id": "7ba8c258-b3f0-4d7f-b340-9b6d9b4dfba3",
   "metadata": {},
   "source": [
    "### Removing electricity rows from A"
   ]
  },
  {
   "cell_type": "code",
   "execution_count": 23,
   "id": "b7d94ce0-a99c-4729-8ee7-eff1c4b2510d",
   "metadata": {},
   "outputs": [],
   "source": [
    "A_df_org = A_df_org.drop(A_df_org.columns[store_index_electricity_A_row], axis=0)"
   ]
  },
  {
   "cell_type": "markdown",
   "id": "9a550aed-ecf3-4f0d-bc13-1050563865ed",
   "metadata": {
    "tags": []
   },
   "source": [
    "### Add new electricity rows and columns"
   ]
  },
  {
   "cell_type": "code",
   "execution_count": 24,
   "id": "1458e5c4-fc36-4f35-8a7a-9791602dc74f",
   "metadata": {},
   "outputs": [],
   "source": [
    "new_elec = [\n",
    "        'Electrcity, natural gas ',\n",
    "        'Electrcity, coal',\n",
    "        'Electrcity, oil',\n",
    "        'Electrcity, nuclear',\n",
    "        'Electrcity, wind',\n",
    "        'Electricity, solar',\n",
    "        'Electricity, hydropower',\n",
    "        'Electrcity, biopower',\n",
    "        'Electrcity, geothermal',\n",
    "        'Electrcity, ocean energy']\n",
    "\n",
    "new_elec_row = ['Electricity']"
   ]
  },
  {
   "cell_type": "code",
   "execution_count": 25,
   "id": "05232d97-c879-4027-baa6-925ee3348486",
   "metadata": {},
   "outputs": [],
   "source": [
    "# Append new rows in A\n",
    "\n",
    "# Convert new_elec to a DataFrame\n",
    "new_elec_df = pd.DataFrame(new_elec_row) \n",
    "\n",
    "# Append new_elec to the first row\n",
    "A_df_org = pd.concat([A_df_org, new_elec_df], ignore_index=True)"
   ]
  },
  {
   "cell_type": "code",
   "execution_count": 26,
   "id": "c18e777f-9129-44b2-b6b3-56130ce6272e",
   "metadata": {},
   "outputs": [],
   "source": [
    "# Append new columns in A\n",
    "for elec in new_elec:\n",
    "    A_df_org[elec] = None  # Create a new column with None values\n",
    "\n",
    "# Set the first row of each new column to the corresponding value\n",
    "for idx, elec in enumerate(new_elec):\n",
    "    A_df_org.at[0, elec] = elec  # Set the value in the first row"
   ]
  },
  {
   "cell_type": "code",
   "execution_count": 27,
   "id": "ef805076-3f1e-480c-b5c3-5e515b334591",
   "metadata": {},
   "outputs": [],
   "source": [
    "# Append new columns in B\n",
    "for elec in new_elec:\n",
    "    B_df_org[elec] = None  # Create a new column with None values\n",
    "\n",
    "# Set the first row of each new column to the corresponding value\n",
    "for idx, elec in enumerate(new_elec):\n",
    "    B_df_org.at[0, elec] = elec  # Set the value in the first row"
   ]
  },
  {
   "cell_type": "code",
   "execution_count": 28,
   "id": "49d46ad3-6d9d-4218-b9ea-41d5e0b68cbc",
   "metadata": {},
   "outputs": [],
   "source": [
    "# Reset index and drop the old index\n",
    "A_df_org_tr = A_df_org.T.reset_index(drop=True)"
   ]
  },
  {
   "cell_type": "code",
   "execution_count": 29,
   "id": "d24d926e-634d-4056-af3e-0720370dd8a5",
   "metadata": {
    "tags": []
   },
   "outputs": [],
   "source": [
    "A_df_org = A_df_org_tr.T"
   ]
  },
  {
   "cell_type": "code",
   "execution_count": 30,
   "id": "2fd0ff94-aa6f-4432-a5cc-3300df217bd1",
   "metadata": {},
   "outputs": [],
   "source": [
    "# Reset index and drop the old index\n",
    "B_df_org_tr = B_df_org.T.reset_index(drop=True)"
   ]
  },
  {
   "cell_type": "code",
   "execution_count": 31,
   "id": "3e94d03f-3445-49fb-9841-e726f0b70185",
   "metadata": {
    "tags": []
   },
   "outputs": [],
   "source": [
    "B_df_org = B_df_org_tr.T"
   ]
  },
  {
   "cell_type": "code",
   "execution_count": 32,
   "id": "32de1171-dd34-4010-9604-f64cefe9db08",
   "metadata": {},
   "outputs": [],
   "source": [
    "A_df_org.reset_index(drop=True, inplace=True)"
   ]
  },
  {
   "cell_type": "code",
   "execution_count": 33,
   "id": "ff9090ad-7809-466a-b028-fad380f5ce83",
   "metadata": {},
   "outputs": [],
   "source": [
    "A_df_org.to_csv('A_df_org_electricity.csv', index=False)\n",
    "B_df_org.to_csv('B_df_org_electricity.csv', index=False)"
   ]
  },
  {
   "cell_type": "markdown",
   "id": "95233540-4d67-463a-a335-bd77d1c45f3e",
   "metadata": {},
   "source": [
    "## c: Electrification (skip this for optimization w/o electrification)"
   ]
  },
  {
   "cell_type": "code",
   "execution_count": 34,
   "id": "170580a6-2aae-468a-bca5-108175db31e9",
   "metadata": {},
   "outputs": [],
   "source": [
    "heat_processes = [\n",
    "    'Bituminous coal, combusted in industrial boiler',\n",
    "    'Diesel, combusted in industrial boiler',\n",
    "    'Heat',\n",
    "    'Heat, onsite boiler, hardwood mill, average, SE',\n",
    "    'Heat, onsite boiler, hardwood mill, average, SE',\n",
    "    'Lignite coal, combusted in industrial boiler',\n",
    "    'Liquefied petroleum gas, combusted in industrial boiler',\n",
    "    'Residual fuel oil, combusted in industrial boiler',\n",
    "    'Wood fuel, hardwood, generated at lumber mill, combusted in industrial boiler, SE',\n",
    "    'Wood fuel, hardwood, purchased, combusted in industrial boiler, SE',\n",
    "    'Wood waste, unspecified, combusted in industrial boiler'\n",
    "]"
   ]
  },
  {
   "cell_type": "code",
   "execution_count": 35,
   "id": "a5be8bb5-77eb-44f5-9f86-1c3900ad4aff",
   "metadata": {},
   "outputs": [],
   "source": [
    "Mj_per_unit = [23.9, 37.4, 1, 1, 1, 23.9, 26, 37, 16, 16, 16]"
   ]
  },
  {
   "cell_type": "code",
   "execution_count": 36,
   "id": "12cf81a8-eaf4-491c-b9b1-e585795ec300",
   "metadata": {},
   "outputs": [],
   "source": [
    "boiler_efficiency = [0.81, 0.83, 1, 0.7, 0.7, 0.81, 0.82, 0.83, 0.7, 0.7, 0.7]"
   ]
  },
  {
   "cell_type": "code",
   "execution_count": 37,
   "id": "187b83dd-52aa-4565-bc53-1a57302691e9",
   "metadata": {},
   "outputs": [],
   "source": [
    "#step 1: identify all heat columns in A and B\n",
    "#finding columns in A with electricity generation\n",
    "store_index_heat_A_col = []\n",
    "stored_index_A = 0\n",
    "for i in range(len(A_df_org.T)):\n",
    "    if str(A_df_org.iloc[0, i]) in heat_processes:\n",
    "        stored_index_A = i\n",
    "        store_index_heat_A_col.append(stored_index_A)"
   ]
  },
  {
   "cell_type": "code",
   "execution_count": 38,
   "id": "e9760b02-4608-4764-90d6-55ac22d4feab",
   "metadata": {},
   "outputs": [],
   "source": [
    "#finding rows in A with electricity generation\n",
    "store_index_heat_A_row = []\n",
    "stored_index_A = 0\n",
    "for i in range(len(A_df_org)):\n",
    "    if str(A_df_org.iloc[i, 0]) in heat_processes:\n",
    "        stored_index_A = i\n",
    "        store_index_heat_A_row.append(stored_index_A)"
   ]
  },
  {
   "cell_type": "code",
   "execution_count": 39,
   "id": "c525e05a-22a4-49fd-ba55-3f8c4cc94216",
   "metadata": {},
   "outputs": [],
   "source": [
    "#finding columns in B with electricity generation\n",
    "#finding columns in B with electricity generation\n",
    "store_index_heat_B = []\n",
    "stored_index_B = 0\n",
    "for i in range(len(B_df_org.T)):\n",
    "    if str(B_df_org.iloc[0, i]) in heat_processes:\n",
    "        stored_index_B = i\n",
    "        store_index_heat_B.append(stored_index_B)"
   ]
  },
  {
   "cell_type": "code",
   "execution_count": 40,
   "id": "0d0e951b-8df3-4609-a3da-ee0c897f8af7",
   "metadata": {},
   "outputs": [],
   "source": [
    "#Step 2: Remove heat columns from A and B\n",
    "A_df_org = A_df_org.drop(A_df_org.columns[store_index_heat_A_col], axis=1)\n",
    "B_df_org = B_df_org.drop(B_df_org.columns[store_index_heat_B], axis=1)"
   ]
  },
  {
   "cell_type": "code",
   "execution_count": 41,
   "id": "a389f011-c24a-48f0-bb75-6a99145952a6",
   "metadata": {},
   "outputs": [],
   "source": [
    "X = np.array(Mj_per_unit) * np.array(boiler_efficiency)\n",
    "Y = np.array(A_df_org.loc[store_index_heat_A_row].iloc[:, 10:].replace(np.nan, 0), dtype=float)"
   ]
  },
  {
   "cell_type": "code",
   "execution_count": 42,
   "id": "b01935cd-d809-4298-b923-adac54d64390",
   "metadata": {},
   "outputs": [],
   "source": [
    "#Step 3: aggregate heat rows from A and B and convert them to absolute heat needed\n",
    "heat_sums = []\n",
    "heat_sums = np.transpose(Y)@X"
   ]
  },
  {
   "cell_type": "code",
   "execution_count": 43,
   "id": "a1a4126d-f954-4bef-8ae6-bbb4dec761a3",
   "metadata": {},
   "outputs": [],
   "source": [
    "# Reset index and drop the old index\n",
    "A_df_org_tr = A_df_org.T.reset_index(drop=True)"
   ]
  },
  {
   "cell_type": "code",
   "execution_count": 44,
   "id": "2e070c01-529c-49f4-ae95-c4b7e2a9386d",
   "metadata": {},
   "outputs": [],
   "source": [
    "A_df_org = A_df_org_tr.T"
   ]
  },
  {
   "cell_type": "code",
   "execution_count": 45,
   "id": "7a9358de-7988-436a-b7f4-8a70eb43f0b3",
   "metadata": {},
   "outputs": [],
   "source": [
    "# Reset index and drop the old index\n",
    "B_df_org_tr = B_df_org.T.reset_index(drop=True)"
   ]
  },
  {
   "cell_type": "code",
   "execution_count": 46,
   "id": "403009c6-10d1-4bbf-a8db-853e8029ddfe",
   "metadata": {},
   "outputs": [],
   "source": [
    "B_df_org = B_df_org_tr.T"
   ]
  },
  {
   "cell_type": "code",
   "execution_count": 47,
   "id": "e37d04b1-0937-440b-a99b-0a37028ccb55",
   "metadata": {},
   "outputs": [],
   "source": [
    "A_df_org = A_df_org.drop(A_df_org.columns[store_index_heat_A_row], axis=0)"
   ]
  },
  {
   "cell_type": "code",
   "execution_count": 48,
   "id": "159520a2-beb6-4046-8241-27356ae752ed",
   "metadata": {},
   "outputs": [],
   "source": [
    "# Reset index and drop the old index\n",
    "A_df_org_tr = A_df_org.T.reset_index(drop=True)"
   ]
  },
  {
   "cell_type": "code",
   "execution_count": 49,
   "id": "9db99f63-675a-4b7e-803d-01e67c9e6280",
   "metadata": {},
   "outputs": [],
   "source": [
    "A_df_org = A_df_org_tr.T"
   ]
  },
  {
   "cell_type": "code",
   "execution_count": 50,
   "id": "6de30ba4-4d6c-42f6-b408-08b017cc84d7",
   "metadata": {},
   "outputs": [],
   "source": [
    "# Reset index and drop the old index\n",
    "B_df_org_tr = B_df_org.T.reset_index(drop=True)"
   ]
  },
  {
   "cell_type": "code",
   "execution_count": 51,
   "id": "abe3f2be-c6ce-4945-9902-6052c6641ebc",
   "metadata": {},
   "outputs": [],
   "source": [
    "B_df_org = B_df_org_tr.T"
   ]
  },
  {
   "cell_type": "code",
   "execution_count": 52,
   "id": "97bcf513-c2f9-4d7c-a30c-2ef8d0238071",
   "metadata": {},
   "outputs": [],
   "source": [
    "A_df_org.reset_index(drop=True, inplace=True)"
   ]
  },
  {
   "cell_type": "code",
   "execution_count": 53,
   "id": "7a43c037-baa4-4195-bc28-b856afaa1a66",
   "metadata": {},
   "outputs": [],
   "source": [
    "update_store_index_heat_A_row = [x-10 for x in store_index_heat_A_row]"
   ]
  },
  {
   "cell_type": "code",
   "execution_count": 54,
   "id": "f424ab0d-916c-422a-99ba-5b64c51da9fe",
   "metadata": {},
   "outputs": [],
   "source": [
    "electricity_sums = np.delete(electricity_sums,update_store_index_heat_A_row)"
   ]
  },
  {
   "cell_type": "code",
   "execution_count": 55,
   "id": "2be61dad-aed7-4f06-a038-c957075915eb",
   "metadata": {},
   "outputs": [],
   "source": [
    "for i in range(len(heat_sums)-len(electricity_sums)):\n",
    "    electricity_sums = np.append(electricity_sums, 0)"
   ]
  },
  {
   "cell_type": "code",
   "execution_count": 56,
   "id": "b3933dfe-df58-4096-923d-feb23e5274cc",
   "metadata": {},
   "outputs": [],
   "source": [
    "A_df_org.to_csv('A_df_org_heat.csv', index=False)\n",
    "B_df_org.to_csv('B_df_org_heat.csv', index=False)"
   ]
  },
  {
   "cell_type": "code",
   "execution_count": 57,
   "id": "a568e0c2-0a3f-43bd-bcfd-1b0233e555c2",
   "metadata": {},
   "outputs": [],
   "source": [
    "A_df = copy.copy(A_df_org)\n",
    "B_df = copy.copy(B_df_org)"
   ]
  },
  {
   "cell_type": "code",
   "execution_count": 58,
   "id": "db9ffc3e-d136-40ba-87b0-72e52a550962",
   "metadata": {},
   "outputs": [],
   "source": [
    "#Building A matrix\n",
    "# Step 1: Delete the first 10 columns\n",
    "A_df = A_df.drop(A_df.columns[:10], axis=1)\n",
    "\n",
    "# Step 2: Delete the first 10 rows (first row is heading, so put 3)\n",
    "A_df = A_df.iloc[10:]\n",
    "\n",
    "#Replacing empty values with zero and getting the final A matrix\n",
    "A=A_df\n",
    "A=A.replace(np.nan, 0)\n",
    "A=np.array(A,dtype='float64')"
   ]
  },
  {
   "cell_type": "code",
   "execution_count": 59,
   "id": "51aae846-4a6c-47a3-963d-25a32feac342",
   "metadata": {},
   "outputs": [],
   "source": [
    "# Building B matrix\n",
    "# Step 1: Delete the first 7 columns\n",
    "B_df = B_df.drop(B_df.columns[:7], axis=1)\n",
    "\n",
    "# Step 2: Delete the first 10 rows (first row is heading, so put 3)\n",
    "B_df = B_df.iloc[10:]\n",
    "\n",
    "# Replacing empty values with zero\n",
    "B_df = B_df.replace(np.nan, 0)\n",
    "\n",
    "# Converting all elements to float, handling empty strings and stripping whitespace\n",
    "def convert_to_float(x):\n",
    "    if isinstance(x, str):\n",
    "        x = x.strip()  # Remove any leading/trailing whitespace\n",
    "        if x == '':  # Handle empty strings\n",
    "            return 0.0\n",
    "        try:\n",
    "            return float(x)\n",
    "        except ValueError:\n",
    "            return 0.0  # Or raise an error if you want to catch non-numeric strings\n",
    "    return x\n",
    "\n",
    "B_df = B_df.applymap(convert_to_float)\n",
    "\n",
    "# Converting to a NumPy array\n",
    "B = np.array(B_df, dtype=float)"
   ]
  },
  {
   "cell_type": "code",
   "execution_count": 60,
   "id": "4a438d8e-6854-4a53-97c7-24fb2d06b97d",
   "metadata": {},
   "outputs": [],
   "source": [
    "#Building C matrix\n",
    "# Step 1: Delete the first 7 columns\n",
    "C_df = C_df.drop(C_df.columns[:7], axis=1)\n",
    "\n",
    "# Step 2: Delete the first 5 rows (first row is heading, so put 3)\n",
    "C_df = C_df.iloc[5:]\n",
    "\n",
    "#Replacing empty values with zero and getting the final B matrix\n",
    "C=C_df\n",
    "C=C.replace(np.nan, 0)\n",
    "C=np.array(C,dtype='float64')"
   ]
  },
  {
   "cell_type": "code",
   "execution_count": 61,
   "id": "733bf188-7be7-4d19-a46d-affb18d6c5e2",
   "metadata": {},
   "outputs": [],
   "source": [
    "#Functional Unit\n",
    "# F = 168.450 million metric tons = 168,450,000 metric tons = 168,450,000,000 kg\n",
    "F=168450000000\n",
    "F=int(F)\n",
    "#defining f matrix\n",
    "f=np.zeros(len(A))\n",
    "f[0]=F"
   ]
  },
  {
   "cell_type": "markdown",
   "id": "b59d955e-e59d-4a5e-9e9b-f6d2de9544e8",
   "metadata": {},
   "source": [
    "## Implementing values in A and B"
   ]
  },
  {
   "cell_type": "markdown",
   "id": "4e73b15d-e973-4169-b7e2-10329936c9e1",
   "metadata": {},
   "source": [
    "#### Electricity"
   ]
  },
  {
   "cell_type": "code",
   "execution_count": null,
   "id": "092e3e98-edb3-4c95-baf5-ac67e684fd00",
   "metadata": {},
   "outputs": [],
   "source": [
    "for i in range(len(electricity_sums)):\n",
    "    A [A_df_org.index[A_df_org.iloc[:, 0] == 'Electricity'].tolist()[0] - 10,i] = electricity_sums[i]"
   ]
  },
  {
   "cell_type": "code",
   "execution_count": null,
   "id": "500dd208-5626-40c8-8d48-82e5ca180768",
   "metadata": {},
   "outputs": [],
   "source": [
    "A [A_df_org.index[A_df_org.iloc[:, 0] == 'Electricity, grid (US Mix)'].tolist()[0] - 10,\n",
    "  A_df_org.index[A_df_org.iloc[:, 0] == 'Electricity, grid (US Mix)'].tolist()[0] - 10] = 1\n",
    "\n",
    "A [A_df_org.index[A_df_org.iloc[:, 0] == 'Electrcity, natural gas '].tolist()[0] - 10,\n",
    "  A_df_org.index[A_df_org.iloc[:, 0] == 'Electricity, grid (US Mix)'].tolist()[0] - 10] = - 0.23\n",
    "\n",
    "A[A_df_org.index[A_df_org.iloc[:, 0] == 'Electrcity, coal'].tolist()[0] - 10,\n",
    "  A_df_org.index[A_df_org.iloc[:, 0] == 'Electricity, grid (US Mix)'].tolist()[0] - 10] = - 0.36\n",
    "\n",
    "A [A_df_org.index[A_df_org.iloc[:, 0] == 'Electrcity, oil'].tolist()[0] - 10,\n",
    "  A_df_org.index[A_df_org.iloc[:, 0] == 'Electricity, grid (US Mix)'].tolist()[0] - 10] = - 0.03\n",
    "\n",
    "A [A_df_org.index[A_df_org.iloc[:, 0] == 'Electrcity, nuclear'].tolist()[0] - 10,\n",
    "  A_df_org.index[A_df_org.iloc[:, 0] == 'Electricity, grid (US Mix)'].tolist()[0] - 10] = - 0.09\n",
    "\n",
    "A [A_df_org.index[A_df_org.iloc[:, 0] == 'Electrcity, wind'].tolist()[0] - 10,\n",
    "  A_df_org.index[A_df_org.iloc[:, 0] == 'Electricity, grid (US Mix)'].tolist()[0] - 10] = - 0.08\n",
    "\n",
    "A [A_df_org.index[A_df_org.iloc[:, 0] == 'Electricity, solar'].tolist()[0] - 10,\n",
    "  A_df_org.index[A_df_org.iloc[:, 0] == 'Electricity, grid (US Mix)'].tolist()[0] - 10] = - 0.06\n",
    "\n",
    "A [A_df_org.index[A_df_org.iloc[:, 0] == 'Electricity, hydropower'].tolist()[0] - 10,\n",
    "  A_df_org.index[A_df_org.iloc[:, 0] == 'Electricity, grid (US Mix)'].tolist()[0] - 10] = - 0.14\n",
    "\n",
    "A [A_df_org.index[A_df_org.iloc[:, 0] == 'Electrcity, biopower'].tolist()[0] - 10,\n",
    "  A_df_org.index[A_df_org.iloc[:, 0] == 'Electricity, grid (US Mix)'].tolist()[0] - 10] = - 0.02\n",
    "\n",
    "A [A_df_org.index[A_df_org.iloc[:, 0] == 'Electrcity, geothermal'].tolist()[0] - 10,\n",
    "  A_df_org.index[A_df_org.iloc[:, 0] == 'Electricity, grid (US Mix)'].tolist()[0] - 10] = 0\n",
    "\n",
    "A [A_df_org.index[A_df_org.iloc[:, 0] == 'Electrcity, ocean energy'].tolist()[0] - 10,\n",
    "  A_df_org.index[A_df_org.iloc[:, 0] == 'Electricity, grid (US Mix)'].tolist()[0] - 10] = 0\n",
    "\n",
    "#rest of the matrix\n",
    "A [A_df_org.index[A_df_org.iloc[:, 0] == 'Electrcity, natural gas '].tolist()[0] - 10,\n",
    "  A_df_org.index[A_df_org.iloc[:, 0] == 'Electrcity, natural gas '].tolist()[0] - 10] = 1\n",
    "\n",
    "A [A_df_org.index[A_df_org.iloc[:, 0] == 'Electrcity, coal'].tolist()[0] - 10,\n",
    "  A_df_org.index[A_df_org.iloc[:, 0] == 'Electrcity, coal'].tolist()[0] - 10] = 1\n",
    "\n",
    "A [A_df_org.index[A_df_org.iloc[:, 0] == 'Electrcity, oil'].tolist()[0] - 10,\n",
    "  A_df_org.index[A_df_org.iloc[:, 0] == 'Electrcity, oil'].tolist()[0] - 10] = 1\n",
    "\n",
    "A [A_df_org.index[A_df_org.iloc[:, 0] == 'Electrcity, nuclear'].tolist()[0] - 10,\n",
    "  A_df_org.index[A_df_org.iloc[:, 0] == 'Electrcity, nuclear'].tolist()[0] - 10] = 1\n",
    "\n",
    "A [A_df_org.index[A_df_org.iloc[:, 0] == 'Electrcity, wind'].tolist()[0] - 10,\n",
    "  A_df_org.index[A_df_org.iloc[:, 0] == 'Electrcity, wind'].tolist()[0] - 10] = 1\n",
    "\n",
    "A [A_df_org.index[A_df_org.iloc[:, 0] == 'Electricity, solar'].tolist()[0] - 10,\n",
    "  A_df_org.index[A_df_org.iloc[:, 0] == 'Electricity, solar'].tolist()[0] - 10] = 1\n",
    "\n",
    "A [A_df_org.index[A_df_org.iloc[:, 0] == 'Electricity, hydropower'].tolist()[0] - 10,\n",
    "  A_df_org.index[A_df_org.iloc[:, 0] == 'Electricity, hydropower'].tolist()[0] - 10] = 1\n",
    "\n",
    "A [A_df_org.index[A_df_org.iloc[:, 0] == 'Electrcity, biopower'].tolist()[0] - 10,\n",
    "  A_df_org.index[A_df_org.iloc[:, 0] == 'Electrcity, biopower'].tolist()[0] - 10] = 1\n",
    "\n",
    "A [A_df_org.index[A_df_org.iloc[:, 0] == 'Electrcity, geothermal'].tolist()[0] - 10,\n",
    "  A_df_org.index[A_df_org.iloc[:, 0] == 'Electrcity, geothermal'].tolist()[0] - 10] = 1\n",
    "\n",
    "A [A_df_org.index[A_df_org.iloc[:, 0] == 'Electrcity, ocean energy'].tolist()[0] - 10,\n",
    "  A_df_org.index[A_df_org.iloc[:, 0] == 'Electrcity, ocean energy'].tolist()[0] - 10] = 1"
   ]
  },
  {
   "cell_type": "code",
   "execution_count": 77,
   "id": "c8e47e43-f764-4f62-97d4-5322989b56a6",
   "metadata": {},
   "outputs": [],
   "source": [
    "B [B_df_org.index[B_df_org.iloc[:, 0] == 'b6f010fb-a764-3063-af2d-bcb8309a97b7'].tolist()[0] - 10,\n",
    "  B_df_org.T.index[B_df_org.iloc[0, :] == 'Electrcity, natural gas '].tolist()[0] - 7] = 0.460/3.6\n",
    "\n",
    "B [B_df_org.index[B_df_org.iloc[:, 0] == 'b6f010fb-a764-3063-af2d-bcb8309a97b7'].tolist()[0] - 10,\n",
    "  B_df_org.T.index[B_df_org.iloc[0, :] == 'Electrcity, coal'].tolist()[0] - 7] = 1/3.6\n",
    "\n",
    "B [B_df_org.index[B_df_org.iloc[:, 0] == 'b6f010fb-a764-3063-af2d-bcb8309a97b7'].tolist()[0] - 10,\n",
    "  B_df_org.T.index[B_df_org.iloc[0, :] == 'Electrcity, oil'].tolist()[0] - 7] = 0.841/3.6\n",
    "\n",
    "B [B_df_org.index[B_df_org.iloc[:, 0] == 'b6f010fb-a764-3063-af2d-bcb8309a97b7'].tolist()[0] - 10,\n",
    "  B_df_org.T.index[B_df_org.iloc[0, :] == 'Electrcity, nuclear'].tolist()[0] - 7] = 0.016/3.6\n",
    "\n",
    "B [B_df_org.index[B_df_org.iloc[:, 0] == 'b6f010fb-a764-3063-af2d-bcb8309a97b7'].tolist()[0] - 10,\n",
    "  B_df_org.T.index[B_df_org.iloc[0, :] == 'Electrcity, wind'].tolist()[0] - 7] = 0.011/3.6\n",
    "\n",
    "B [B_df_org.index[B_df_org.iloc[:, 0] == 'b6f010fb-a764-3063-af2d-bcb8309a97b7'].tolist()[0] - 10,\n",
    "  B_df_org.T.index[B_df_org.iloc[0, :] == 'Electricity, solar'].tolist()[0] - 7] = 0.045/3.6\n",
    "\n",
    "B [B_df_org.index[B_df_org.iloc[:, 0] == 'b6f010fb-a764-3063-af2d-bcb8309a97b7'].tolist()[0] - 10,\n",
    "  B_df_org.T.index[B_df_org.iloc[0, :] == 'Electricity, hydropower'].tolist()[0] - 7] = 0.0065/3.6\n",
    "\n",
    "B [B_df_org.index[B_df_org.iloc[:, 0] == 'b6f010fb-a764-3063-af2d-bcb8309a97b7'].tolist()[0] - 10,\n",
    "  B_df_org.T.index[B_df_org.iloc[0, :] == 'Electrcity, biopower'].tolist()[0] - 7] = 0.039/3.6\n",
    "\n",
    "B [B_df_org.index[B_df_org.iloc[:, 0] == 'b6f010fb-a764-3063-af2d-bcb8309a97b7'].tolist()[0] - 10,\n",
    "  B_df_org.T.index[B_df_org.iloc[0, :] == 'Electrcity, geothermal'].tolist()[0] - 7] = 0.045/3.6\n",
    "\n",
    "B [B_df_org.index[B_df_org.iloc[:, 0] == 'b6f010fb-a764-3063-af2d-bcb8309a97b7'].tolist()[0] - 10,\n",
    "  B_df_org.T.index[B_df_org.iloc[0, :] == 'Electrcity, ocean energy'].tolist()[0] - 7] = 0.008/3.6"
   ]
  },
  {
   "cell_type": "markdown",
   "id": "f23818fd-04a1-4277-a2ff-53287f232461",
   "metadata": {},
   "source": [
    "#### Heat"
   ]
  },
  {
   "cell_type": "code",
   "execution_count": null,
   "id": "fb4638e0-2704-4279-86d6-b29d8424daf7",
   "metadata": {},
   "outputs": [],
   "source": [
    "for i in range(len(heat_sums)):\n",
    "    A [A_df_org.index[A_df_org.iloc[:, 0] == 'Heat'].tolist()[0] - 10,i] = heat_sums[i]"
   ]
  },
  {
   "cell_type": "code",
   "execution_count": null,
   "id": "4aab2e7f-df66-4e94-a0aa-092ee42e78b7",
   "metadata": {},
   "outputs": [],
   "source": []
  },
  {
   "cell_type": "markdown",
   "id": "b96b75ff-93bf-4157-a224-a64d978a3e39",
   "metadata": {},
   "source": [
    "# 2.1. Without carbon sequestration"
   ]
  },
  {
   "cell_type": "code",
   "execution_count": 78,
   "id": "189839d2-5868-46ad-a06f-f4dbbc0072dd",
   "metadata": {},
   "outputs": [],
   "source": [
    "C_gwp_wo_seq= np.transpose(C)[[0]]\n",
    "coef_GWP_wo_seq=C_gwp_wo_seq@B\n",
    "coef_GWP_wo_seq=np.array(coef_GWP_wo_seq)\n",
    "coef_GWP_wo_seq = coef_GWP_wo_seq.reshape(-1)"
   ]
  },
  {
   "cell_type": "code",
   "execution_count": 79,
   "id": "b6a8dc24-ef2e-48e9-9798-05b96f3be0e0",
   "metadata": {},
   "outputs": [
    {
     "data": {
      "text/plain": [
       "array([0.00000000e+00, 1.76000000e-03, 0.00000000e+00, 0.00000000e+00,\n",
       "       9.25089339e-01, 0.00000000e+00, 4.52100000e-02, 0.00000000e+00,\n",
       "       9.24500000e-02, 2.52600000e+00, 2.10000000e-01, 3.27000000e-01,\n",
       "       7.23000000e-01, 0.00000000e+00, 0.00000000e+00, 0.00000000e+00,\n",
       "       2.00420500e-02, 3.39150000e-01, 2.11196648e+00, 2.54900000e+00,\n",
       "       0.00000000e+00, 1.07362425e-03, 3.48000000e-06, 1.38864000e-01,\n",
       "       4.51600000e-01, 0.00000000e+00, 0.00000000e+00, 2.73028920e+00,\n",
       "       1.20000000e+00, 7.01300000e-01, 3.21114030e-01, 3.21114030e-01,\n",
       "       7.01300000e-01, 7.01300000e-01, 7.01300000e-01, 3.23509000e-01,\n",
       "       3.30111400e-01, 2.00420500e-02, 2.94000000e+01, 2.17938900e+00,\n",
       "       0.00000000e+00, 9.14084480e-02, 0.00000000e+00, 3.10876771e-02,\n",
       "       1.95495266e+00, 0.00000000e+00, 8.00000000e+00, 2.54900000e+00,\n",
       "       2.54900000e+00, 0.00000000e+00, 0.00000000e+00, 0.00000000e+00,\n",
       "       0.00000000e+00, 0.00000000e+00, 0.00000000e+00, 2.72890000e-02,\n",
       "       9.60500000e-02, 0.00000000e+00, 0.00000000e+00, 0.00000000e+00,\n",
       "       0.00000000e+00, 0.00000000e+00, 0.00000000e+00, 0.00000000e+00,\n",
       "       0.00000000e+00, 0.00000000e+00, 7.80150000e-01, 1.94277720e-01,\n",
       "       2.44627720e-01, 1.42161960e-01, 3.27093824e-01, 2.42093824e-01,\n",
       "       1.94277720e-01, 0.00000000e+00, 1.17630000e-01, 0.00000000e+00,\n",
       "       1.22950000e-01, 1.97256400e+00, 4.58101700e+00, 6.86943800e+00,\n",
       "       1.97381500e+00, 0.00000000e+00, 0.00000000e+00, 1.36767500e+00,\n",
       "       0.00000000e+00, 1.85100090e-01, 1.85100090e-01, 0.00000000e+00,\n",
       "       0.00000000e+00, 0.00000000e+00, 0.00000000e+00, 7.95680040e-04,\n",
       "       1.53405952e-03, 9.66929760e-05, 1.86852296e-04, 1.78044768e-04,\n",
       "       0.00000000e+00, 0.00000000e+00, 4.05000000e+00, 1.01114000e-02,\n",
       "       5.38349000e-03, 5.85000000e-05, 0.00000000e+00, 0.00000000e+00,\n",
       "       0.00000000e+00, 9.02800000e-05, 0.00000000e+00, 0.00000000e+00,\n",
       "       4.52100000e-02, 3.21114030e-01, 7.01300000e-01, 7.01300000e-01,\n",
       "       7.01300000e-01, 3.23509000e-01, 3.30111400e-01, 2.00420500e-02,\n",
       "       7.68000000e-01, 0.00000000e+00, 0.00000000e+00, 0.00000000e+00,\n",
       "       0.00000000e+00, 0.00000000e+00, 0.00000000e+00, 0.00000000e+00,\n",
       "       0.00000000e+00, 0.00000000e+00, 0.00000000e+00, 0.00000000e+00,\n",
       "       0.00000000e+00, 0.00000000e+00, 0.00000000e+00, 4.15000000e-01,\n",
       "       0.00000000e+00, 0.00000000e+00, 2.00000000e-01, 0.00000000e+00,\n",
       "       7.52900000e-01, 0.00000000e+00, 0.00000000e+00, 0.00000000e+00,\n",
       "       0.00000000e+00, 0.00000000e+00, 1.50000000e-01, 1.27777778e-01,\n",
       "       2.77777778e-01, 2.33611111e-01, 4.44444444e-03, 3.05555556e-03,\n",
       "       1.25000000e-02, 1.80555556e-03, 1.08333333e-02, 1.25000000e-02,\n",
       "       2.22222222e-03])"
      ]
     },
     "execution_count": 79,
     "metadata": {},
     "output_type": "execute_result"
    }
   ],
   "source": [
    "coef_GWP_wo_seq"
   ]
  },
  {
   "cell_type": "code",
   "execution_count": 108,
   "id": "f58a8306-acc7-4755-bc9e-28352d3184cf",
   "metadata": {},
   "outputs": [
    {
     "data": {
      "text/plain": [
       "{'Problem': [{'Name': 'x139', 'Lower bound': 106088340051.14389, 'Upper bound': 106088340051.14389, 'Number of objectives': 1, 'Number of constraints': 176, 'Number of variables': 139, 'Number of binary variables': 0, 'Number of integer variables': 0, 'Number of continuous variables': 139, 'Number of nonzeros': 559, 'Sense': 'minimize'}], 'Solver': [{'Status': 'ok', 'Return code': '0', 'Message': 'Model was solved to optimality (subject to tolerances), and an optimal solution is available.', 'Termination condition': 'optimal', 'Termination message': 'Model was solved to optimality (subject to tolerances), and an optimal solution is available.', 'Wall time': '0.007471799850463867', 'Error rc': 0, 'Time': 0.07941603660583496}], 'Solution': [OrderedDict([('number of solutions', 0), ('number of solutions displayed', 0)])]}"
      ]
     },
     "execution_count": 108,
     "metadata": {},
     "output_type": "execute_result"
    }
   ],
   "source": [
    "#Model Formulation\n",
    "# Create the model\n",
    "model = ConcreteModel()\n",
    "# List of processes with negative scaling factor due to open loop recovery and substitution approach\n",
    "negative_s_indices = []\n",
    "positive_s_indices = []\n",
    "all_s_indices = []\n",
    "\n",
    "search_elements_zero_or_negative = [\n",
    "'PET fiber production from sorted PET waste',\n",
    "'Sawn lumber, hardwood, planed, kiln dried, at planer mill, SE',\n",
    "'Asphalt binder, 3.5% styrene-butadiene-styrene (SBS), consumption mix, at terminal, from crude oil, 3.5% styrene-butadiene-styrene',\n",
    "'sodium sulfate (carbon footprint process)',\n",
    "'Bark, hardwood, average, at forest road, NE-NC',\n",
    "'Lignite coal, at surface mine']\n",
    "\n",
    "search_elements_zero_or_positive = [\n",
    "'use & collection',\n",
    "'large, flexible, mono-layer plastic packaging production',\n",
    "'large, flexible, multi-layer plastic packaging production',\n",
    "'large, rigid, mono-layer plastic packaging production',\n",
    "'large, rigid, multi-layer plastic packaging production',\n",
    "'small format plastic packaging production',\n",
    "'HDPE production',\n",
    "'LDPE production',\n",
    "'PP production',\n",
    "'PET production',\n",
    "'PS production',\n",
    "'PVC production',\n",
    "'Electrcity, natural gas ',\n",
    "'Electrcity, coal',\n",
    "'Electrcity, oil',\n",
    "'Electrcity, nuclear',\n",
    "'Electrcity, wind',\n",
    "'Electricity, solar',\n",
    "'Electricity, hydropower',\n",
    "'Electrcity, biopower',\n",
    "'Electrcity, geothermal',\n",
    "'Electrcity, ocean energy',\n",
    "'Acetic acid, at plant',\n",
    "'bio-cyclohexa-2,5-diene-1,4-dicarboxylate production',\n",
    "'advanced recycling, delamination, multi-layer plastic packaging',\n",
    "'advanced recycling, STRAP, multi-layer plastic packaging',\n",
    "'Benzene, at plant',\n",
    "'bio-EG production (monomer)',\n",
    "'bio-ethanol production from corn',\n",
    "'bio-ethylene oxide production',\n",
    "'bio-ethylene production (monomer)',\n",
    "'bio-muconic acid production',\n",
    "'bio-propylene production (monomer)',\n",
    "'bio-PTA production (monomer)',\n",
    "'bio-styrene production (monomer)',\n",
    "'bio-vinyl chloride production (monomer)',\n",
    "'Bituminous coal, at mine',\n",
    "'Carbon monoxide, at plant',\n",
    "'High-tech MRF',\n",
    "'Low-tech MRF',\n",
    "'Med-tech MRF',\n",
    "'chemical recycling with metal oxide, PS sorted',\n",
    "'depolymerization, enzymatic hyrdrolysis, PET sorted',\n",
    "'depolymerization, glycolysis, PET sorted',\n",
    "'pyrolysis (monomer production), HDPE sorted',\n",
    "'pyrolysis (monomer production), LDPE sorted',\n",
    "'pyrolysis (monomer production), PP sorted',\n",
    "'pyrolysis, feedstock recycling, mixed plastic waste, sorted',\n",
    "'PET fiber production from sorted PET waste',\n",
    "'plastic lumber production from sorted mixed plastic waste',\n",
    "'road pavement production from sorted mixed plastic waste',\n",
    "'cement clinker, mixed plastic packaging, sorted',\n",
    "'incineration, electricity recovery, plastic packaging waste',\n",
    "'incineration, electricity recovery, plastic residues',\n",
    "'landfill, plastic packaging waste',\n",
    "'landfill, plastic residues',\n",
    "'mechanical recycling, HDPE sorted',\n",
    "'mechanical recycling, LDPE sorted',\n",
    "'mechanical recycling, PET sorted',\n",
    "'mechanical recycling, PP sorted',\n",
    "'mechanical recycling, PS sorted',\n",
    "'mechanical recycling, PVC sorted',\n",
    "'fossil-EG production (monomer)',\n",
    "'fossil-PTA production (monomer)',\n",
    "'fossil-ethylene production (monomer)',\n",
    "'fossil-propylene production (monomer)',\n",
    "'fossil-styrene production (monomer)',\n",
    "'fossil-vinyl chloride production (monomer)'\n",
    "]\n",
    "\n",
    "#Search for elements in the first row of the DataFrame\n",
    "negative_s_indices = [A_df_org.iloc[0,:].tolist().index(elem) for elem in search_elements_zero_or_negative]\n",
    "negative_s_indices = [i-9 for i in negative_s_indices]\n",
    "positive_s_indices = [A_df_org.iloc[0,:].tolist().index(elem) for elem in search_elements_zero_or_positive]\n",
    "positive_s_indices = [i-9 for i in positive_s_indices]\n",
    "\n",
    "\n",
    "# Define the decision variable\n",
    "model.set_s = RangeSet(len(np.transpose(A)))\n",
    "model.s = Var(model.set_s)\n",
    "#model.set_negative_scale = Set(initialize=negative_s_indices)\n",
    "model.set_positive_scale = Set(initialize=positive_s_indices)\n",
    "\n",
    "e = 0.0000001\n",
    "#model constraint: As = f and s>=0\n",
    "model.set_balance = RangeSet(len(f))\n",
    "def balance(model, p): # As = f\n",
    "    return sum(A[p-1,i-1]*model.s[i] for i in model.set_s) == f[p-1]\n",
    "def negative_scale(model, i):\n",
    "    return (model.s[i]<=0)\n",
    "def positive_scale(model, i):\n",
    "    return (model.s[i]>=e)\n",
    "\n",
    "model.balance_constraints = Constraint(model.set_balance, rule=balance)\n",
    "#model.negative_scale_constraints = Constraint(model.set_negative_scale, rule=negative_scale)\n",
    "model.positive_scale_constraints = Constraint(model.set_positive_scale, rule=positive_scale)\n",
    "\n",
    "model.obj = Objective(expr = sum(coef_GWP_wo_seq[i-1]*model.s[i] for i in model.set_s), sense=minimize)\n",
    "#Solver\n",
    "solver = SolverFactory('gurobi')\n",
    "solver.solve(model) # solves and updates instance"
   ]
  },
  {
   "cell_type": "code",
   "execution_count": 82,
   "id": "4ff71e16-ab92-40c5-bce2-66b988e7a643",
   "metadata": {},
   "outputs": [],
   "source": [
    "#total CO2 emission (kg CO2eq)\n",
    "GWP_best_wo_seq = value(model.obj)"
   ]
  },
  {
   "cell_type": "code",
   "execution_count": 83,
   "id": "31f6a297-5026-4cfa-8bf3-2e91b761804c",
   "metadata": {},
   "outputs": [
    {
     "data": {
      "text/plain": [
       "106088340051.14389"
      ]
     },
     "execution_count": 83,
     "metadata": {},
     "output_type": "execute_result"
    }
   ],
   "source": [
    "GWP_best_wo_seq"
   ]
  },
  {
   "cell_type": "code",
   "execution_count": 84,
   "id": "25736806-976c-40ab-9d25-7c320ba46445",
   "metadata": {},
   "outputs": [],
   "source": [
    "#kg CO2 eq per kg of packaging product\n",
    "GWP_best_wo_seq_per_kg = value(model.obj)/168450000000 "
   ]
  },
  {
   "cell_type": "code",
   "execution_count": 85,
   "id": "46089797-60fe-44f1-86a5-90863b1e845e",
   "metadata": {},
   "outputs": [
    {
     "data": {
      "text/plain": [
       "0.6297912736785034"
      ]
     },
     "execution_count": 85,
     "metadata": {},
     "output_type": "execute_result"
    }
   ],
   "source": [
    "GWP_best_wo_seq_per_kg"
   ]
  },
  {
   "cell_type": "code",
   "execution_count": 86,
   "id": "8e66c510-b344-4f49-b6d8-37d0c985dbab",
   "metadata": {},
   "outputs": [],
   "source": [
    "scaling_factors_wo_seq = []\n",
    "for j in model.s:\n",
    "    scaling_factors_wo_seq.append(model.s[j].value)  "
   ]
  },
  {
   "cell_type": "code",
   "execution_count": 87,
   "id": "98589029-c5d5-49d7-b29a-6c97f03601eb",
   "metadata": {},
   "outputs": [
    {
     "data": {
      "text/plain": [
       "[1e-07, 13975300538.592825, 1e-07, 1e-07]"
      ]
     },
     "execution_count": 87,
     "metadata": {},
     "output_type": "execute_result"
    }
   ],
   "source": [
    "#1. monomer production\n",
    "#ethylene\n",
    "ethylene_s_indices = []\n",
    "scaling_factors_ethylene = []\n",
    "search_elements_ethylene = [\n",
    "    'bio-ethylene production (monomer)',\n",
    "    'fossil-ethylene production (monomer)',\n",
    "    'pyrolysis (monomer production), HDPE sorted',\n",
    "    'pyrolysis (monomer production), LDPE sorted'\n",
    "]\n",
    "ethylene_s_indices = [A_df_org.iloc[0,:].tolist().index(elem) for elem in search_elements_ethylene]\n",
    "ethylene_s_indices = [i-9 for i in ethylene_s_indices]\n",
    "for j in ethylene_s_indices:\n",
    "    scaling_factors_ethylene.append(model.s[j].value)\n",
    "scaling_factors_ethylene"
   ]
  },
  {
   "cell_type": "code",
   "execution_count": 88,
   "id": "0ff46b4d-568b-4c8d-9c9c-d76c69a77839",
   "metadata": {},
   "outputs": [
    {
     "data": {
      "text/plain": [
       "[1e-07, 617816677.582713, 1e-07]"
      ]
     },
     "execution_count": 88,
     "metadata": {},
     "output_type": "execute_result"
    }
   ],
   "source": [
    "#propylene\n",
    "propylene_s_indices = []\n",
    "scaling_factors_propylene = []\n",
    "search_elements_propylene = [\n",
    "    'bio-propylene production (monomer)',\n",
    "    'fossil-propylene production (monomer)',\n",
    "    'pyrolysis (monomer production), PP sorted',\n",
    "]\n",
    "propylene_s_indices = [A_df_org.iloc[0,:].tolist().index(elem) for elem in search_elements_propylene]\n",
    "propylene_s_indices = [i-9 for i in propylene_s_indices]\n",
    "for j in propylene_s_indices:\n",
    "    scaling_factors_propylene.append(model.s[j].value)\n",
    "scaling_factors_propylene   "
   ]
  },
  {
   "cell_type": "code",
   "execution_count": 89,
   "id": "b2c2b808-7a45-4466-aea8-0a7686c0997f",
   "metadata": {},
   "outputs": [
    {
     "data": {
      "text/plain": [
       "[2985904507.0878606, 1e-07, 1e-07, 1e-07]"
      ]
     },
     "execution_count": 89,
     "metadata": {},
     "output_type": "execute_result"
    }
   ],
   "source": [
    "#MEG\n",
    "MEG_s_indices = []\n",
    "scaling_factors_MEG = []\n",
    "search_elements_MEG = [\n",
    "    'bio-EG production (monomer)',\n",
    "    'fossil-EG production (monomer)',\n",
    "    'depolymerization, enzymatic hyrdrolysis, PET sorted',\n",
    "    'depolymerization, glycolysis, PET sorted'\n",
    "]\n",
    "MEG_s_indices = [A_df_org.iloc[0,:].tolist().index(elem) for elem in search_elements_MEG]\n",
    "MEG_s_indices = [i-9 for i in MEG_s_indices]\n",
    "for j in MEG_s_indices:\n",
    "    scaling_factors_MEG.append(model.s[j].value)\n",
    "scaling_factors_MEG   "
   ]
  },
  {
   "cell_type": "code",
   "execution_count": 90,
   "id": "57ec662a-89e9-4ab4-8b51-d9e03f4a1088",
   "metadata": {},
   "outputs": [
    {
     "data": {
      "text/plain": [
       "[1688756840.8414583, 1.2804097311139564e-07, 1e-07]"
      ]
     },
     "execution_count": 90,
     "metadata": {},
     "output_type": "execute_result"
    }
   ],
   "source": [
    "#styrene\n",
    "styrene_s_indices = []\n",
    "scaling_factors_styrene = []\n",
    "search_elements_styrene = [\n",
    "    'bio-styrene production (monomer)',\n",
    "    'fossil-styrene production (monomer)',\n",
    "    'chemical recycling with metal oxide, PS sorted',\n",
    "]\n",
    "styrene_s_indices = [A_df_org.iloc[0,:].tolist().index(elem) for elem in search_elements_styrene]\n",
    "styrene_s_indices = [i-9 for i in styrene_s_indices]\n",
    "for j in styrene_s_indices:\n",
    "    scaling_factors_styrene.append(model.s[j].value)\n",
    "scaling_factors_styrene "
   ]
  },
  {
   "cell_type": "code",
   "execution_count": 91,
   "id": "ad786f65-1c20-4169-9155-6cb59029883a",
   "metadata": {},
   "outputs": [
    {
     "data": {
      "text/plain": [
       "[578502596.1822492, 1e-07]"
      ]
     },
     "execution_count": 91,
     "metadata": {},
     "output_type": "execute_result"
    }
   ],
   "source": [
    "#vinyl chloride\n",
    "vinyl_chloride_s_indices = []\n",
    "scaling_factors_vinyl_chloride = []\n",
    "search_elements_vinyl_chloride = [\n",
    "    'bio-vinyl chloride production (monomer)',\n",
    "    'fossil-vinyl chloride production (monomer)',\n",
    "]\n",
    "vinyl_chloride_s_indices = [A_df_org.iloc[0,:].tolist().index(elem) for elem in search_elements_vinyl_chloride]\n",
    "vinyl_chloride_s_indices = [i-9 for i in vinyl_chloride_s_indices]\n",
    "for j in vinyl_chloride_s_indices:\n",
    "    scaling_factors_vinyl_chloride.append(model.s[j].value)\n",
    "scaling_factors_vinyl_chloride  "
   ]
  },
  {
   "cell_type": "code",
   "execution_count": 92,
   "id": "9254c427-a833-45bf-b846-c7288c89bdee",
   "metadata": {},
   "outputs": [
    {
     "data": {
      "text/plain": [
       "[188192339.99999902, 1e-07, 6456698222.681562, 26814375192.7485]"
      ]
     },
     "execution_count": 92,
     "metadata": {},
     "output_type": "execute_result"
    }
   ],
   "source": [
    "# 2. polymers\n",
    "#polyethylene\n",
    "scaling_factors_polyethylene = []\n",
    "polyethylene_s_indices = []\n",
    "search_elements_polyethylene = [\n",
    "    'advanced recycling, STRAP, multi-layer plastic packaging',\n",
    "    'advanced recycling, delamination, multi-layer plastic packaging',\n",
    "    'LDPE production',\n",
    "    'mechanical recycling, LDPE sorted'\n",
    "]\n",
    "polyethylene_s_indices = [A_df_org.iloc[0,:].tolist().index(elem) for elem in search_elements_polyethylene]\n",
    "polyethylene_s_indices = [i-9 for i in polyethylene_s_indices]\n",
    "for j in polyethylene_s_indices:\n",
    "    scaling_factors_polyethylene.append(model.s[j].value)\n",
    "scaling_factors_polyethylene"
   ]
  },
  {
   "cell_type": "code",
   "execution_count": 93,
   "id": "6d141c65-8304-44f7-9645-8e3800c1a89e",
   "metadata": {},
   "outputs": [
    {
     "data": {
      "text/plain": [
       "[2985904507.0878606, 1733181707.709448, 1e-07, 1e-07]"
      ]
     },
     "execution_count": 93,
     "metadata": {},
     "output_type": "execute_result"
    }
   ],
   "source": [
    "#polyethylene\n",
    "scaling_factors_polyethylene = []\n",
    "polyethylene_s_indices = []\n",
    "search_elements_polyethylene = [\n",
    "    'advanced recycling, delamination, multi-layer plastic packaging',\n",
    "    'advanced recycling, STRAP, multi-layer plastic packaging',\n",
    "    'HDPE production',\n",
    "    'mechanical recycling, HDPE sorted'\n",
    "]\n",
    "polyethylene_s_indices = [A_df_org.iloc[0,:].tolist().index(elem) for elem in search_elements_polyethylene]\n",
    "polyethylene_s_indices = [i-3 for i in polyethylene_s_indices]\n",
    "for j in polyethylene_s_indices:\n",
    "    scaling_factors_polyethylene.append(model.s[j].value)\n",
    "scaling_factors_polyethylene"
   ]
  },
  {
   "cell_type": "code",
   "execution_count": 94,
   "id": "bf6f1de6-89f0-4b34-ad12-fc4352956141",
   "metadata": {},
   "outputs": [
    {
     "data": {
      "text/plain": [
       "[1e-07, 188192339.99999902, 9983212384.287064, 38386721832.027]"
      ]
     },
     "execution_count": 94,
     "metadata": {},
     "output_type": "execute_result"
    }
   ],
   "source": [
    "#polypropylene\n",
    "scaling_factors_polypropylene = []\n",
    "polypropylene_s_indices = []\n",
    "search_elements_polypropylene = [\n",
    "    'advanced recycling, delamination, multi-layer plastic packaging',\n",
    "    'advanced recycling, STRAP, multi-layer plastic packaging',\n",
    "    'PP production',\n",
    "    'mechanical recycling, PP sorted'\n",
    "]\n",
    "polypropylene_s_indices = [A_df_org.iloc[0,:].tolist().index(elem) for elem in search_elements_polypropylene]\n",
    "polypropylene_s_indices = [i-9 for i in polypropylene_s_indices]\n",
    "for j in polypropylene_s_indices:\n",
    "    scaling_factors_polypropylene.append(model.s[j].value)\n",
    "scaling_factors_polypropylene"
   ]
  },
  {
   "cell_type": "code",
   "execution_count": 95,
   "id": "5d25222d-1bb2-4bf5-883d-c19304631c4f",
   "metadata": {},
   "outputs": [
    {
     "data": {
      "text/plain": [
       "[1e-07, 188192339.99999902, 8649781306.743553, 29197631480.53097]"
      ]
     },
     "execution_count": 95,
     "metadata": {},
     "output_type": "execute_result"
    }
   ],
   "source": [
    "#polyethylene terephthalate\n",
    "scaling_factors_PET = []\n",
    "PET_s_indices = []\n",
    "search_elements_PET = [\n",
    "    'advanced recycling, delamination, multi-layer plastic packaging',\n",
    "    'advanced recycling, STRAP, multi-layer plastic packaging',\n",
    "    'PET production',\n",
    "    'mechanical recycling, PET sorted'\n",
    "]\n",
    "PET_s_indices = [A_df_org.iloc[0,:].tolist().index(elem) for elem in search_elements_PET]\n",
    "PET_s_indices = [i-9 for i in PET_s_indices]\n",
    "for j in PET_s_indices:\n",
    "    scaling_factors_PET.append(model.s[j].value)\n",
    "scaling_factors_PET"
   ]
  },
  {
   "cell_type": "code",
   "execution_count": 96,
   "id": "4e9261f5-61c2-4471-a53f-b4acf66dcb8f",
   "metadata": {},
   "outputs": [
    {
     "data": {
      "text/plain": [
       "[1e-07, 188192339.99999902, 1712735132.699248, 6585684505.610024]"
      ]
     },
     "execution_count": 96,
     "metadata": {},
     "output_type": "execute_result"
    }
   ],
   "source": [
    "#polystyrene terephthalate\n",
    "scaling_factors_PS = []\n",
    "PS_s_indices = []\n",
    "search_elements_PS = [\n",
    "    'advanced recycling, delamination, multi-layer plastic packaging',\n",
    "    'advanced recycling, STRAP, multi-layer plastic packaging',\n",
    "    'PS production',\n",
    "    'mechanical recycling, PS sorted'\n",
    "]\n",
    "PS_s_indices = [A_df_org.iloc[0,:].tolist().index(elem) for elem in search_elements_PS]\n",
    "PS_s_indices = [i-9 for i in PS_s_indices]\n",
    "for j in PS_s_indices:\n",
    "    scaling_factors_PS.append(model.s[j].value)\n",
    "scaling_factors_PS"
   ]
  },
  {
   "cell_type": "code",
   "execution_count": 97,
   "id": "a89a43fe-40c9-483d-8f89-ab9afec90903",
   "metadata": {},
   "outputs": [
    {
     "data": {
      "text/plain": [
       "[1e-07, 188192339.99999902, 580243326.1607316, 2509178.1319714095]"
      ]
     },
     "execution_count": 97,
     "metadata": {},
     "output_type": "execute_result"
    }
   ],
   "source": [
    "#polyvinyl chloride\n",
    "scaling_factors_PVC = []\n",
    "PVC_s_indices = []\n",
    "search_elements_PVC = [\n",
    "    'advanced recycling, delamination, multi-layer plastic packaging',\n",
    "    'advanced recycling, STRAP, multi-layer plastic packaging',\n",
    "    'PVC production',\n",
    "    'mechanical recycling, PVC sorted'\n",
    "]\n",
    "PVC_s_indices = [A_df_org.iloc[0,:].tolist().index(elem) for elem in search_elements_PVC]\n",
    "PVC_s_indices = [i-9 for i in PVC_s_indices]\n",
    "for j in PVC_s_indices:\n",
    "    scaling_factors_PVC.append(model.s[j].value)\n",
    "scaling_factors_PVC"
   ]
  },
  {
   "cell_type": "code",
   "execution_count": 98,
   "id": "592292f2-89cc-4d4b-b197-6c397c313e62",
   "metadata": {},
   "outputs": [
    {
     "data": {
      "text/plain": [
       "[1e-07, 1e-07, 160027500000.0, 1e-07, 1e-07]"
      ]
     },
     "execution_count": 98,
     "metadata": {},
     "output_type": "execute_result"
    }
   ],
   "source": [
    "#3. mixed plastic collected waste (sorting, energy recovery, landfill, mismanaged)\n",
    "\n",
    "scaling_factors_mixed = []\n",
    "mixed_s_indices = []\n",
    "search_elements_mixed = [\n",
    "    'incineration, electricity recovery, plastic packaging waste',\n",
    "    'landfill, plastic packaging waste',\n",
    "    'High-tech MRF',\n",
    "    'Med-tech MRF',\n",
    "    'Low-tech MRF',\n",
    "]\n",
    "mixed_s_indices = [A_df_org.iloc[0,:].tolist().index(elem) for elem in search_elements_mixed]\n",
    "mixed_s_indices = [i-9 for i in mixed_s_indices]\n",
    "for j in mixed_s_indices:\n",
    "    scaling_factors_mixed.append(model.s[j].value)\n",
    "scaling_factors_mixed"
   ]
  },
  {
   "cell_type": "code",
   "execution_count": 99,
   "id": "e23d860b-ed37-4685-8720-1246569adc12",
   "metadata": {},
   "outputs": [
    {
     "data": {
      "text/plain": [
       "[1e-07, 1e-07, 1e-07, 1e-07, -1.8874893912999998e-07]"
      ]
     },
     "execution_count": 99,
     "metadata": {},
     "output_type": "execute_result"
    }
   ],
   "source": [
    "#4. mixed plastic waste, sorted (sorting, energy recovery, landfill, mismanaged)\n",
    "\n",
    "scaling_factors_mixed = []\n",
    "mixed_s_indices = []\n",
    "search_elements_mixed = [\n",
    "    'cement clinker, mixed plastic packaging, sorted',\n",
    "    'plastic lumber production from sorted mixed plastic waste',\n",
    "    'pyrolysis, feedstock recycling, mixed plastic waste, sorted',\n",
    "    'PET fiber production from sorted PET waste',\n",
    "    'road pavement production from sorted mixed plastic waste'\n",
    "]\n",
    "mixed_s_indices = [A_df_org.iloc[0,:].tolist().index(elem) for elem in search_elements_mixed]\n",
    "mixed_s_indices = [i-9 for i in mixed_s_indices]\n",
    "for j in mixed_s_indices:\n",
    "    scaling_factors_mixed.append(model.s[j].value)\n",
    "scaling_factors_mixed"
   ]
  },
  {
   "cell_type": "code",
   "execution_count": 100,
   "id": "007be644-fa8a-481e-ba9b-be60252863b0",
   "metadata": {},
   "outputs": [
    {
     "data": {
      "text/plain": [
       "[24017538114.78965, 1e-07]"
      ]
     },
     "execution_count": 100,
     "metadata": {},
     "output_type": "execute_result"
    }
   ],
   "source": [
    "#5. Plastic residues\n",
    "scaling_factors_mixed = []\n",
    "mixed_s_indices = []\n",
    "search_elements_mixed = [\n",
    "    'landfill, plastic residues',\n",
    "    'incineration, electricity recovery, plastic residues'\n",
    "]\n",
    "mixed_s_indices = [A_df_org.iloc[0,:].tolist().index(elem) for elem in search_elements_mixed]\n",
    "mixed_s_indices = [i-9 for i in mixed_s_indices]\n",
    "for j in mixed_s_indices:\n",
    "    scaling_factors_mixed.append(model.s[j].value)\n",
    "scaling_factors_mixed"
   ]
  },
  {
   "cell_type": "code",
   "execution_count": 109,
   "id": "51e7dd8b-c557-44d2-8c6e-d23c41ecb0c8",
   "metadata": {},
   "outputs": [
    {
     "data": {
      "text/plain": [
       "[8925539158.362116,\n",
       " 1e-07,\n",
       " 1e-07,\n",
       " 1e-07,\n",
       " 1e-07,\n",
       " 1e-07,\n",
       " 1e-07,\n",
       " 1e-07,\n",
       " 1e-07,\n",
       " 1e-07]"
      ]
     },
     "execution_count": 109,
     "metadata": {},
     "output_type": "execute_result"
    }
   ],
   "source": [
    "#6. Energy Grid\n",
    "scaling_factors_mixed = []\n",
    "mixed_s_indices = []\n",
    "search_elements_mixed = [\n",
    "        'Electrcity, natural gas ',\n",
    "        'Electrcity, coal',\n",
    "        'Electrcity, oil',\n",
    "        'Electrcity, nuclear',\n",
    "        'Electrcity, wind',\n",
    "        'Electricity, solar',\n",
    "        'Electricity, hydropower',\n",
    "        'Electrcity, biopower',\n",
    "        'Electrcity, geothermal',\n",
    "        'Electrcity, ocean energy']\n",
    "mixed_s_indices = [A_df_org.iloc[0,:].tolist().index(elem) for elem in search_elements_mixed]\n",
    "mixed_s_indices = [i-9 for i in mixed_s_indices]\n",
    "for j in mixed_s_indices:\n",
    "    scaling_factors_mixed.append(model.s[j].value)\n",
    "scaling_factors_mixed"
   ]
  },
  {
   "cell_type": "code",
   "execution_count": null,
   "id": "00448e27-1389-4fbf-8a1a-76e8482fa2c1",
   "metadata": {},
   "outputs": [],
   "source": [
    "new_elec = ['Electricity',\n",
    "        'Electrcity, natural gas ',\n",
    "        'Electrcity, coal',\n",
    "        'Electrcity, oil',\n",
    "        'Electrcity, nuclear',\n",
    "        'Electrcity, wind',\n",
    "        'Electricity, solar',\n",
    "        'Electricity, hydropower',\n",
    "        'Electrcity, biopower',\n",
    "        'Electrcity, geothermal',\n",
    "        'Electrcity, ocean energy']"
   ]
  },
  {
   "cell_type": "markdown",
   "id": "8efe4e11-c17b-4320-9641-675055809ade",
   "metadata": {},
   "source": [
    "# 2.2. With carbon sequestration"
   ]
  },
  {
   "cell_type": "code",
   "execution_count": 124,
   "id": "ea0e75ae-e41d-4561-ba30-2881c4e36364",
   "metadata": {},
   "outputs": [],
   "source": [
    "C_gwp_with_seq= np.transpose(C)[[1]]\n",
    "coef_GWP_with_seq=C_gwp_with_seq@B\n",
    "coef_GWP_with_seq=np.array(coef_GWP_with_seq)\n",
    "coef_GWP_with_seq = coef_GWP_with_seq.reshape(-1)"
   ]
  },
  {
   "cell_type": "code",
   "execution_count": 125,
   "id": "ace29fa4-e1a6-4a0e-ba1c-25b192ecaefa",
   "metadata": {},
   "outputs": [
    {
     "data": {
      "text/plain": [
       "{'Problem': [{'Name': 'x144', 'Lower bound': -469127077764.38354, 'Upper bound': -469127077764.38354, 'Number of objectives': 1, 'Number of constraints': 259, 'Number of variables': 144, 'Number of binary variables': 0, 'Number of integer variables': 0, 'Number of continuous variables': 144, 'Number of nonzeros': 613, 'Sense': 'minimize'}], 'Solver': [{'Status': 'ok', 'Return code': '0', 'Message': 'Model was solved to optimality (subject to tolerances), and an optimal solution is available.', 'Termination condition': 'optimal', 'Termination message': 'Model was solved to optimality (subject to tolerances), and an optimal solution is available.', 'Wall time': '0.0006959438323974609', 'Error rc': 0, 'Time': 0.10356807708740234}], 'Solution': [OrderedDict([('number of solutions', 0), ('number of solutions displayed', 0)])]}"
      ]
     },
     "execution_count": 125,
     "metadata": {},
     "output_type": "execute_result"
    }
   ],
   "source": [
    "#Model Formulation\n",
    "# Create the model\n",
    "model = ConcreteModel()\n",
    "# List of processes with negative scaling factor due to open loop recovery and substitution approach\n",
    "negative_s_indices = []\n",
    "positive_s_indices = []\n",
    "all_s_indices = []\n",
    "search_elements_zero_or_negative = [\n",
    "    'polyester fibre production, finished | fibre, polyester | APOS, S',\n",
    "    'market for sawlog and veneer log, softwood, debarked, measured as solid wood | sawlog and veneer log, softwood, debarked, measured as solid wood | APOS, S',\n",
    "    'pitch production, petroleum refinery operation | pitch | APOS, S',\n",
    "    'lignite mine operation | lignite | APOS, S',\n",
    "    'naphtha production, petroleum refinery operation | naphtha | APOS, S',\n",
    "    'sodium sulfate production, from natural sources | sodium sulfate, anhydrite | APOS, S',\n",
    "    'methanol production | methanol | APOS, S',\n",
    "    'petroleum production, onshore | petroleum | APOS, S'\n",
    "]\n",
    "\n",
    "search_elements_zero_or_negative_or_positive = [\n",
    "    'polyester fibre production, finished | fibre, polyester | APOS, S',\n",
    "    'market for sawlog and veneer log, softwood, debarked, measured as solid wood | sawlog and veneer log, softwood, debarked, measured as solid wood | APOS, S',\n",
    "    'pitch production, petroleum refinery operation | pitch | APOS, S',\n",
    "    'lignite mine operation | lignite | APOS, S',\n",
    "    'market group for electricity, medium voltage | electricity, medium voltage | APOS, S',\n",
    "    'heat production, natural gas, at industrial furnace low-NOx >100kW | heat, district or industrial, natural gas | APOS, S',\n",
    "    'naphtha production, petroleum refinery operation | naphtha | APOS, S',\n",
    "    'sodium sulfate production, from natural sources | sodium sulfate, anhydrite | APOS, S',\n",
    "    'methanol production | methanol | APOS, S',\n",
    "    'petroleum production, onshore | petroleum | APOS, S'\n",
    "]\n",
    "\n",
    "# Search for elements in the first row of the DataFrame\n",
    "negative_s_indices = [A_df_org.iloc[0,:].tolist().index(elem) for elem in search_elements_zero_or_negative]\n",
    "negative_s_indices = [i-3 for i in negative_s_indices]\n",
    "negative_or_positive_s_indices = [A_df_org.iloc[0,:].tolist().index(elem) for elem in search_elements_zero_or_negative_or_positive]\n",
    "negative_or_positive_s_indices = [i-3 for i in negative_or_positive_s_indices]\n",
    "all_s_indices = list(range(1, len(np.transpose(A))+1))\n",
    "positive_s_indices = [index for index in all_s_indices if index not in negative_or_positive_s_indices]\n",
    "\n",
    "# Define the decision variable\n",
    "model.set_s = RangeSet(len(np.transpose(A)))\n",
    "model.s = Var(model.set_s)\n",
    "model.set_negative_scale = Set(initialize=negative_s_indices)\n",
    "model.set_positive_scale = Set(initialize=positive_s_indices)\n",
    "\n",
    "e = 0\n",
    "#model constraint: As = f and s>=0\n",
    "model.set_balance = RangeSet(len(f))\n",
    "def balance(model, p): # As = f\n",
    "    return sum(A[p-1,i-1]*model.s[i] for i in model.set_s) == f[p-1]\n",
    "def negative_scale(model, i):\n",
    "    return (model.s[i]<=0)\n",
    "def positive_scale(model, i):\n",
    "    return (model.s[i]>=e)\n",
    "\n",
    "model.balance_constraints = Constraint(model.set_balance, rule=balance)\n",
    "model.negative_scale_constraints = Constraint(model.set_negative_scale, rule=negative_scale)\n",
    "model.positive_scale_constraints = Constraint(model.set_positive_scale, rule=positive_scale)\n",
    "\n",
    "model.obj = Objective(expr = sum(coef_GWP_with_seq[i-1]*model.s[i] for i in model.set_s), sense=minimize)\n",
    "#Solver\n",
    "solver = SolverFactory('gurobi')\n",
    "solver.solve(model) # solves and updates instance"
   ]
  },
  {
   "cell_type": "code",
   "execution_count": 126,
   "id": "a016e067-b2bc-4e71-8133-b629f414cfe6",
   "metadata": {},
   "outputs": [],
   "source": [
    "#total CO2 emission (kg CO2eq)\n",
    "GWP_best_with_seq = value(model.obj)"
   ]
  },
  {
   "cell_type": "code",
   "execution_count": 127,
   "id": "9fea592a-7719-4bf8-bd78-edde9bb8ca90",
   "metadata": {},
   "outputs": [],
   "source": [
    "#kg CO2 eq per kg of packaging product\n",
    "GWP_best_with_seq_per_kg = value(model.obj)/168450000000 "
   ]
  },
  {
   "cell_type": "code",
   "execution_count": 128,
   "id": "7db1c74b-8be5-4a60-bf75-17e047b7deeb",
   "metadata": {},
   "outputs": [],
   "source": [
    "scaling_factors_with_seq = []\n",
    "for j in model.s:\n",
    "    scaling_factors_with_seq.append(model.s[j].value)  "
   ]
  },
  {
   "cell_type": "code",
   "execution_count": 129,
   "id": "88c53934-9119-4d8b-90c3-98ebcdbd5171",
   "metadata": {},
   "outputs": [
    {
     "data": {
      "text/plain": [
       "[74362954650.72348, 0.0, 0.0, 0.0]"
      ]
     },
     "execution_count": 129,
     "metadata": {},
     "output_type": "execute_result"
    }
   ],
   "source": [
    "#1. monomer production\n",
    "#ethylene\n",
    "ethylene_s_indices = []\n",
    "scaling_factors_ethylene = []\n",
    "search_elements_ethylene = [\n",
    "    'Bio-ethylene production (monomer)',\n",
    "    'Fossil-ethylene production',\n",
    "    'pyrolysis (monomer production), HDPE sorted',\n",
    "    'pyrolysis (monomer production), LDPE sorted'\n",
    "]\n",
    "ethylene_s_indices = [A_df_org.iloc[0,:].tolist().index(elem) for elem in search_elements_ethylene]\n",
    "ethylene_s_indices = [i-3 for i in ethylene_s_indices]\n",
    "for j in ethylene_s_indices:\n",
    "    scaling_factors_ethylene.append(model.s[j].value)\n",
    "scaling_factors_ethylene"
   ]
  },
  {
   "cell_type": "code",
   "execution_count": 130,
   "id": "27e58b76-c6e9-4031-a9f0-8c66cec195f1",
   "metadata": {},
   "outputs": [
    {
     "data": {
      "text/plain": [
       "[770621074.548914, 0.0, 0.0]"
      ]
     },
     "execution_count": 130,
     "metadata": {},
     "output_type": "execute_result"
    }
   ],
   "source": [
    "#propylene\n",
    "propylene_s_indices = []\n",
    "scaling_factors_propylene = []\n",
    "search_elements_propylene = [\n",
    "    'Bio-propylene production (monomer)',\n",
    "    'Fossil-propylene production',\n",
    "    'pyrolysis (monomer production), PP sorted',\n",
    "]\n",
    "propylene_s_indices = [A_df_org.iloc[0,:].tolist().index(elem) for elem in search_elements_propylene]\n",
    "propylene_s_indices = [i-3 for i in propylene_s_indices]\n",
    "for j in propylene_s_indices:\n",
    "    scaling_factors_propylene.append(model.s[j].value)\n",
    "scaling_factors_propylene   "
   ]
  },
  {
   "cell_type": "code",
   "execution_count": 131,
   "id": "04e9f89d-98a0-4db9-a536-8e18166062af",
   "metadata": {},
   "outputs": [
    {
     "data": {
      "text/plain": [
       "[12986265878.469458, 0.0, 0.0, 0.0]"
      ]
     },
     "execution_count": 131,
     "metadata": {},
     "output_type": "execute_result"
    }
   ],
   "source": [
    "#MEG\n",
    "MEG_s_indices = []\n",
    "scaling_factors_MEG = []\n",
    "search_elements_MEG = [\n",
    "    'Bio-MEG production (monomer)',\n",
    "    'Fossil-MEG production',\n",
    "    'depolymerization, enzymatic hydrolysis, PET sorted',\n",
    "    'depolymerization, glycolysis, PET sorted'\n",
    "]\n",
    "MEG_s_indices = [A_df_org.iloc[0,:].tolist().index(elem) for elem in search_elements_MEG]\n",
    "MEG_s_indices = [i-3 for i in MEG_s_indices]\n",
    "for j in MEG_s_indices:\n",
    "    scaling_factors_MEG.append(model.s[j].value)\n",
    "scaling_factors_MEG   "
   ]
  },
  {
   "cell_type": "code",
   "execution_count": 132,
   "id": "08d5c31a-aa23-4168-b8c2-ee8f52df03a0",
   "metadata": {},
   "outputs": [
    {
     "data": {
      "text/plain": [
       "[8490211206.103636, 0.0, 0.0]"
      ]
     },
     "execution_count": 132,
     "metadata": {},
     "output_type": "execute_result"
    }
   ],
   "source": [
    "#styrene\n",
    "styrene_s_indices = []\n",
    "scaling_factors_styrene = []\n",
    "search_elements_styrene = [\n",
    "    'Bio-styrene production',\n",
    "    'Fossil-styrene production',\n",
    "    'chemical recycling with metal oxide, PS sorted',\n",
    "]\n",
    "styrene_s_indices = [A_df_org.iloc[0,:].tolist().index(elem) for elem in search_elements_styrene]\n",
    "styrene_s_indices = [i-3 for i in styrene_s_indices]\n",
    "for j in styrene_s_indices:\n",
    "    scaling_factors_styrene.append(model.s[j].value)\n",
    "scaling_factors_styrene "
   ]
  },
  {
   "cell_type": "code",
   "execution_count": 133,
   "id": "108fcb55-dba6-47a7-a332-35ac2bbd157d",
   "metadata": {},
   "outputs": [
    {
     "data": {
      "text/plain": [
       "[3564093390.0982757, 0.0]"
      ]
     },
     "execution_count": 133,
     "metadata": {},
     "output_type": "execute_result"
    }
   ],
   "source": [
    "#vinyl chloride\n",
    "vinyl_chloride_s_indices = []\n",
    "scaling_factors_vinyl_chloride = []\n",
    "search_elements_vinyl_chloride = [\n",
    "    'Bio-vinyl chloride production',\n",
    "    'Fossil-vinyl chloride production',\n",
    "]\n",
    "vinyl_chloride_s_indices = [A_df_org.iloc[0,:].tolist().index(elem) for elem in search_elements_vinyl_chloride]\n",
    "vinyl_chloride_s_indices = [i-3 for i in vinyl_chloride_s_indices]\n",
    "for j in vinyl_chloride_s_indices:\n",
    "    scaling_factors_vinyl_chloride.append(model.s[j].value)\n",
    "scaling_factors_vinyl_chloride  "
   ]
  },
  {
   "cell_type": "code",
   "execution_count": 134,
   "id": "dd713d64-f414-4e81-b878-461969b66d44",
   "metadata": {},
   "outputs": [
    {
     "data": {
      "text/plain": [
       "[0.0, 0.0, 34568875648.39365, 0.0]"
      ]
     },
     "execution_count": 134,
     "metadata": {},
     "output_type": "execute_result"
    }
   ],
   "source": [
    "# 2. polymers\n",
    "#polyethylene\n",
    "scaling_factors_polyethylene = []\n",
    "polyethylene_s_indices = []\n",
    "search_elements_polyethylene = [\n",
    "    'advanced recycling, delamination, multi-layer plastic packaging',\n",
    "    'advanced recycling, STRAP, multi-layer plastic packaging',\n",
    "    'LDPE production',\n",
    "    'mechanical recycling, LDPE sorted'\n",
    "]\n",
    "polyethylene_s_indices = [A_df_org.iloc[0,:].tolist().index(elem) for elem in search_elements_polyethylene]\n",
    "polyethylene_s_indices = [i-3 for i in polyethylene_s_indices]\n",
    "for j in polyethylene_s_indices:\n",
    "    scaling_factors_polyethylene.append(model.s[j].value)\n",
    "scaling_factors_polyethylene"
   ]
  },
  {
   "cell_type": "code",
   "execution_count": 135,
   "id": "3d962bd1-8ad6-45fb-b41a-1d641d1bde91",
   "metadata": {},
   "outputs": [
    {
     "data": {
      "text/plain": [
       "[0.0, 0.0, 36387918045.189, 0.0]"
      ]
     },
     "execution_count": 135,
     "metadata": {},
     "output_type": "execute_result"
    }
   ],
   "source": [
    "#polyethylene\n",
    "scaling_factors_polyethylene = []\n",
    "polyethylene_s_indices = []\n",
    "search_elements_polyethylene = [\n",
    "    'advanced recycling, delamination, multi-layer plastic packaging',\n",
    "    'advanced recycling, STRAP, multi-layer plastic packaging',\n",
    "    'HDPE production',\n",
    "    'mechanical recycling, HDPE sorted'\n",
    "]\n",
    "polyethylene_s_indices = [A_df_org.iloc[0,:].tolist().index(elem) for elem in search_elements_polyethylene]\n",
    "polyethylene_s_indices = [i-3 for i in polyethylene_s_indices]\n",
    "for j in polyethylene_s_indices:\n",
    "    scaling_factors_polyethylene.append(model.s[j].value)\n",
    "scaling_factors_polyethylene"
   ]
  },
  {
   "cell_type": "code",
   "execution_count": 136,
   "id": "9a6343bc-74c3-445e-8452-74957c71e297",
   "metadata": {},
   "outputs": [
    {
     "data": {
      "text/plain": [
       "[0.0, 0.0, 49487851352.6337, 0.0]"
      ]
     },
     "execution_count": 136,
     "metadata": {},
     "output_type": "execute_result"
    }
   ],
   "source": [
    "#polypropylene\n",
    "scaling_factors_polypropylene = []\n",
    "polypropylene_s_indices = []\n",
    "search_elements_polypropylene = [\n",
    "    'advanced recycling, delamination, multi-layer plastic packaging',\n",
    "    'advanced recycling, STRAP, multi-layer plastic packaging',\n",
    "    'PP production',\n",
    "    'mechanical recycling, PP sorted'\n",
    "]\n",
    "polypropylene_s_indices = [A_df_org.iloc[0,:].tolist().index(elem) for elem in search_elements_polypropylene]\n",
    "polypropylene_s_indices = [i-3 for i in polypropylene_s_indices]\n",
    "for j in polypropylene_s_indices:\n",
    "    scaling_factors_polypropylene.append(model.s[j].value)\n",
    "scaling_factors_polypropylene"
   ]
  },
  {
   "cell_type": "code",
   "execution_count": 137,
   "id": "5d3d84af-6bc2-48ea-9416-97299005765d",
   "metadata": {},
   "outputs": [
    {
     "data": {
      "text/plain": [
       "[0.0, 0.0, 37641350.37237524, 0.0]"
      ]
     },
     "execution_count": 137,
     "metadata": {},
     "output_type": "execute_result"
    }
   ],
   "source": [
    "#polyethylene terephthalate\n",
    "scaling_factors_PET = []\n",
    "PET_s_indices = []\n",
    "search_elements_PET = [\n",
    "    'advanced recycling, delamination, multi-layer plastic packaging',\n",
    "    'advanced recycling, STRAP, multi-layer plastic packaging',\n",
    "    'PET production',\n",
    "    'mechanical recycling, PET sorted'\n",
    "]\n",
    "PET_s_indices = [A_df_org.iloc[0,:].tolist().index(elem) for elem in search_elements_PET]\n",
    "PET_s_indices = [i-3 for i in PET_s_indices]\n",
    "for j in PET_s_indices:\n",
    "    scaling_factors_PET.append(model.s[j].value)\n",
    "scaling_factors_PET"
   ]
  },
  {
   "cell_type": "code",
   "execution_count": 138,
   "id": "09c54e74-8fb6-4262-83bb-f9773cae7bf4",
   "metadata": {},
   "outputs": [
    {
     "data": {
      "text/plain": [
       "[0.0, 0.0, 8490211206.103636, 0.0]"
      ]
     },
     "execution_count": 138,
     "metadata": {},
     "output_type": "execute_result"
    }
   ],
   "source": [
    "#polystyrene terephthalate\n",
    "scaling_factors_PS = []\n",
    "PS_s_indices = []\n",
    "search_elements_PS = [\n",
    "    'advanced recycling, delamination, multi-layer plastic packaging',\n",
    "    'advanced recycling, STRAP, multi-layer plastic packaging',\n",
    "    'PS production',\n",
    "    'mechanical recycling, PS sorted'\n",
    "]\n",
    "PS_s_indices = [A_df_org.iloc[0,:].tolist().index(elem) for elem in search_elements_PS]\n",
    "PS_s_indices = [i-3 for i in PS_s_indices]\n",
    "for j in PS_s_indices:\n",
    "    scaling_factors_PS.append(model.s[j].value)\n",
    "scaling_factors_PS"
   ]
  },
  {
   "cell_type": "code",
   "execution_count": 139,
   "id": "9718df35-6ac4-4cd5-bea2-f1a08c183f5f",
   "metadata": {},
   "outputs": [
    {
     "data": {
      "text/plain": [
       "[0.0, 0.0, 3558293371.9020753, 0.0]"
      ]
     },
     "execution_count": 139,
     "metadata": {},
     "output_type": "execute_result"
    }
   ],
   "source": [
    "#polyvinyl chloride\n",
    "scaling_factors_PVC = []\n",
    "PVC_s_indices = []\n",
    "search_elements_PVC = [\n",
    "    'advanced recycling, delamination, multi-layer plastic packaging',\n",
    "    'advanced recycling, STRAP, multi-layer plastic packaging',\n",
    "    'PVC production',\n",
    "    'mechanical recycling, PVC sorted'\n",
    "]\n",
    "PVC_s_indices = [A_df_org.iloc[0,:].tolist().index(elem) for elem in search_elements_PVC]\n",
    "PVC_s_indices = [i-3 for i in PVC_s_indices]\n",
    "for j in PVC_s_indices:\n",
    "    scaling_factors_PVC.append(model.s[j].value)\n",
    "scaling_factors_PVC"
   ]
  },
  {
   "cell_type": "code",
   "execution_count": 140,
   "id": "69c39180-d33d-4448-ba3a-a8095052c3f1",
   "metadata": {},
   "outputs": [
    {
     "data": {
      "text/plain": [
       "[0.0, 0.0, 0.0, 160027500000.0, 0.0, 0.0, 0.0]"
      ]
     },
     "execution_count": 140,
     "metadata": {},
     "output_type": "execute_result"
    }
   ],
   "source": [
    "#3. mixed plastic collected waste (sorting, energy recovery, landfill, mismanaged)\n",
    "\n",
    "scaling_factors_mixed = []\n",
    "mixed_s_indices = []\n",
    "search_elements_mixed = [\n",
    "    'incineration, electricity recovery, plastic packaging waste',\n",
    "    'landfill, plastic packaging waste',\n",
    "    'Mismanaged waste treatment, uncontrolled landfill, plastic packaging waste',\n",
    "    'sorting, non-optical manual and automatic sorter (commercial)',\n",
    "    'sorting, optiacl sorter (commercial)',\n",
    "    'sorting, optical with film sorter (commercial)',\n",
    "    'sorting, optical with film, multilayer, and AI sorter (emerging)'\n",
    "]\n",
    "mixed_s_indices = [A_df_org.iloc[0,:].tolist().index(elem) for elem in search_elements_mixed]\n",
    "mixed_s_indices = [i-3 for i in mixed_s_indices]\n",
    "for j in mixed_s_indices:\n",
    "    scaling_factors_mixed.append(model.s[j].value)\n",
    "scaling_factors_mixed"
   ]
  },
  {
   "cell_type": "code",
   "execution_count": 141,
   "id": "f34e60db-5495-494b-9574-f19c7988934a",
   "metadata": {},
   "outputs": [
    {
     "data": {
      "text/plain": [
       "[0.0, 0.0, 0.0, 0.0, 0.0, 70732155000.0]"
      ]
     },
     "execution_count": 141,
     "metadata": {},
     "output_type": "execute_result"
    }
   ],
   "source": [
    "#4. mixed plastic waste, sorted (sorting, energy recovery, landfill, mismanaged)\n",
    "\n",
    "scaling_factors_mixed = []\n",
    "mixed_s_indices = []\n",
    "search_elements_mixed = [\n",
    "    'cement clinker, mixed plastic packaging,sorted',\n",
    "    'gasification to methanol, mixed plastic waste sorted',\n",
    "    'plastic lumber production, mixed plastic waste, sorted',\n",
    "    'pyrolysis, feedstock recycling, mixed plastic waste, sorted',\n",
    "    'PET fiber production, PET sorted',\n",
    "    'road pavement production, mixed plastic waste, sorted'\n",
    "]\n",
    "mixed_s_indices = [A_df_org.iloc[0,:].tolist().index(elem) for elem in search_elements_mixed]\n",
    "mixed_s_indices = [i-3 for i in mixed_s_indices]\n",
    "for j in mixed_s_indices:\n",
    "    scaling_factors_mixed.append(model.s[j].value)\n",
    "scaling_factors_mixed"
   ]
  },
  {
   "cell_type": "code",
   "execution_count": null,
   "id": "4f5bd1ed-4411-423c-9587-04b184e8b7b0",
   "metadata": {},
   "outputs": [],
   "source": []
  },
  {
   "cell_type": "code",
   "execution_count": null,
   "id": "73f660d8-2730-44d6-9c4c-1df7f881a70b",
   "metadata": {},
   "outputs": [],
   "source": []
  },
  {
   "cell_type": "code",
   "execution_count": null,
   "id": "a78e0d51-227c-4d6c-8662-7febe315cf39",
   "metadata": {},
   "outputs": [],
   "source": []
  },
  {
   "cell_type": "code",
   "execution_count": null,
   "id": "6ce94d1d-0561-49ae-822c-2b4e02e2df84",
   "metadata": {},
   "outputs": [],
   "source": []
  },
  {
   "cell_type": "code",
   "execution_count": null,
   "id": "32452b20-fabb-4a9c-88ea-f662395b691a",
   "metadata": {},
   "outputs": [],
   "source": []
  },
  {
   "cell_type": "code",
   "execution_count": null,
   "id": "430f5fe5-a99f-478a-a479-07292161043c",
   "metadata": {},
   "outputs": [],
   "source": []
  },
  {
   "cell_type": "code",
   "execution_count": null,
   "id": "a1e075c2-b947-48c4-9a96-b0701b6bf5d4",
   "metadata": {},
   "outputs": [],
   "source": []
  },
  {
   "cell_type": "markdown",
   "id": "02295266-bae1-4e86-bf4f-2e8c98d57969",
   "metadata": {},
   "source": [
    "# Electricity generation UUIDs in USLCI"
   ]
  },
  {
   "cell_type": "code",
   "execution_count": 1,
   "id": "234c03e6-93bc-4832-bd61-17d3b41ba7f9",
   "metadata": {},
   "outputs": [],
   "source": [
    "import requests\n",
    "import os\n",
    "import numpy as np\n",
    "\n",
    "# GitHub repository details\n",
    "repo_owner = \"FarshidNazemi\"\n",
    "repo_name = \"Plastic-Packaging\"\n",
    "folder_path = \"electricity-UUID\"  # folder within the repo\n",
    "\n",
    "# GitHub API URL for the repository contents\n",
    "url = f\"https://api.github.com/repos/{repo_owner}/{repo_name}/contents/{folder_path}\"\n",
    "\n",
    "# Send a request to the GitHub API\n",
    "response = requests.get(url)\n",
    "files = response.json()\n",
    "\n",
    "# List to store the Excel filenames\n",
    "electricity_UUID = []\n",
    "\n",
    "# Loop through the files and filter out Excel files\n",
    "for file in files:\n",
    "    if file['name'].endswith('.xlsx') or file['name'].endswith('.xls'):\n",
    "        # Remove the file extension before storing\n",
    "        file_name_without_extension = os.path.splitext(file['name'])[0]\n",
    "        # Remove the text after the last underscore if present\n",
    "        file_name_final = file_name_without_extension.split('_')[0]\n",
    "        electricity_UUID.append(file_name_final)"
   ]
  },
  {
   "cell_type": "code",
   "execution_count": 2,
   "id": "671bdb82-af52-4304-96d7-9d6962bd79a3",
   "metadata": {},
   "outputs": [
    {
     "ename": "NameError",
     "evalue": "name 'A' is not defined",
     "output_type": "error",
     "traceback": [
      "\u001b[0;31m---------------------------------------------------------------------------\u001b[0m",
      "\u001b[0;31mNameError\u001b[0m                                 Traceback (most recent call last)",
      "\u001b[0;32m/var/folders/q1/dbyqy0pj3lv2d5259l03mn_00000gn/T/ipykernel_53943/2076860843.py\u001b[0m in \u001b[0;36m<module>\u001b[0;34m\u001b[0m\n\u001b[1;32m      2\u001b[0m \u001b[0mstore_index_electricity\u001b[0m \u001b[0;34m=\u001b[0m \u001b[0;34m[\u001b[0m\u001b[0;34m]\u001b[0m\u001b[0;34m\u001b[0m\u001b[0;34m\u001b[0m\u001b[0m\n\u001b[1;32m      3\u001b[0m \u001b[0mstored_index\u001b[0m \u001b[0;34m=\u001b[0m \u001b[0;36m0\u001b[0m\u001b[0;34m\u001b[0m\u001b[0;34m\u001b[0m\u001b[0m\n\u001b[0;32m----> 4\u001b[0;31m \u001b[0;32mfor\u001b[0m \u001b[0mi\u001b[0m \u001b[0;32min\u001b[0m \u001b[0mrange\u001b[0m\u001b[0;34m(\u001b[0m\u001b[0mlen\u001b[0m\u001b[0;34m(\u001b[0m\u001b[0mA\u001b[0m\u001b[0;34m)\u001b[0m\u001b[0;34m)\u001b[0m\u001b[0;34m:\u001b[0m\u001b[0;34m\u001b[0m\u001b[0;34m\u001b[0m\u001b[0m\n\u001b[0m\u001b[1;32m      5\u001b[0m     \u001b[0;32mif\u001b[0m \u001b[0mstr\u001b[0m\u001b[0;34m(\u001b[0m\u001b[0mA_df_org\u001b[0m\u001b[0;34m.\u001b[0m\u001b[0miloc\u001b[0m\u001b[0;34m[\u001b[0m\u001b[0;36m3\u001b[0m\u001b[0;34m,\u001b[0m \u001b[0mi\u001b[0m\u001b[0;34m]\u001b[0m\u001b[0;34m)\u001b[0m \u001b[0;32min\u001b[0m \u001b[0melectricity_UUID\u001b[0m\u001b[0;34m[\u001b[0m\u001b[0;36m16\u001b[0m\u001b[0;34m]\u001b[0m\u001b[0;34m:\u001b[0m\u001b[0;34m\u001b[0m\u001b[0;34m\u001b[0m\u001b[0m\n\u001b[1;32m      6\u001b[0m         \u001b[0mstored_index\u001b[0m \u001b[0;34m=\u001b[0m \u001b[0mi\u001b[0m\u001b[0;34m-\u001b[0m\u001b[0;36m10\u001b[0m\u001b[0;34m\u001b[0m\u001b[0;34m\u001b[0m\u001b[0m\n",
      "\u001b[0;31mNameError\u001b[0m: name 'A' is not defined"
     ]
    }
   ],
   "source": [
    "#finding columns in A and B with electricity generation\n",
    "store_index_electricity = []\n",
    "stored_index = 0\n",
    "for i in range(len(A)):\n",
    "    if str(A_df_org.iloc[3, i]) in electricity_UUID[16]:\n",
    "        stored_index = i-10\n",
    "    store_A_index_electricity.append(stored_index)"
   ]
  },
  {
   "cell_type": "markdown",
   "id": "a4a6cb87-4e2b-4e21-a727-a3d58b2814fd",
   "metadata": {},
   "source": [
    "# Heat generation in boilers UUIDs in USLCI"
   ]
  },
  {
   "cell_type": "code",
   "execution_count": 5,
   "id": "856462f5-5280-4a1c-8520-d6f0070a25ee",
   "metadata": {},
   "outputs": [
    {
     "ename": "IndentationError",
     "evalue": "expected an indented block (4193560886.py, line 27)",
     "output_type": "error",
     "traceback": [
      "\u001b[0;36m  File \u001b[0;32m\"/var/folders/q1/dbyqy0pj3lv2d5259l03mn_00000gn/T/ipykernel_63240/4193560886.py\"\u001b[0;36m, line \u001b[0;32m27\u001b[0m\n\u001b[0;31m    if file_name_final != 'd6ad7035-5498-3237-8abd-50e93b1eef89':\u001b[0m\n\u001b[0m    ^\u001b[0m\n\u001b[0;31mIndentationError\u001b[0m\u001b[0;31m:\u001b[0m expected an indented block\n"
     ]
    }
   ],
   "source": [
    "import requests\n",
    "\n",
    "# GitHub repository details\n",
    "repo_owner = \"FarshidNazemi\"\n",
    "repo_name = \"Plastic-Packaging\"\n",
    "folder_path = \"heat-UUID\"  # folder within the repo\n",
    "\n",
    "# GitHub API URL for the repository contents\n",
    "url = f\"https://api.github.com/repos/{repo_owner}/{repo_name}/contents/{folder_path}\"\n",
    "\n",
    "# Send a request to the GitHub API\n",
    "response = requests.get(url)\n",
    "files = response.json()\n",
    "\n",
    "# List to store the Excel filenames\n",
    "heat_UUID = []\n",
    "\n",
    "# Loop through the files and filter out Excel files\n",
    "for file in files:\n",
    "    if file['name'].endswith('.xlsx') or file['name'].endswith('.xls'):\n",
    "        # Remove the file extension before storing\n",
    "        file_name_without_extension = os.path.splitext(file['name'])[0]\n",
    "        # Remove the text after the last underscore if present\n",
    "        file_name_final = file_name_without_extension.split('_')[0]\n",
    "        # Exclude UUID of steam: '1e4fd434-9cd2-402a-8ebf-43891d0dd591'\n",
    "        if file_name_final != '1e4fd434-9cd2-402a-8ebf-43891d0dd591':\n",
    "        if file_name_final != 'd6ad7035-5498-3237-8abd-50e93b1eef89':\n",
    "        if file_name_final != 'd3e13675-1455-375f-a557-bb8234de75ff':\n",
    "            heat_UUID.append(file_name_final)"
   ]
  },
  {
   "cell_type": "code",
   "execution_count": 4,
   "id": "7919c93e-fe07-495c-9248-de95e1649676",
   "metadata": {},
   "outputs": [
    {
     "ename": "NameError",
     "evalue": "name 'np' is not defined",
     "output_type": "error",
     "traceback": [
      "\u001b[0;31m---------------------------------------------------------------------------\u001b[0m",
      "\u001b[0;31mNameError\u001b[0m                                 Traceback (most recent call last)",
      "\u001b[0;32m/var/folders/q1/dbyqy0pj3lv2d5259l03mn_00000gn/T/ipykernel_63240/197118335.py\u001b[0m in \u001b[0;36m<module>\u001b[0;34m\u001b[0m\n\u001b[0;32m----> 1\u001b[0;31m \u001b[0mnp\u001b[0m\u001b[0;34m.\u001b[0m\u001b[0msize\u001b[0m\u001b[0;34m(\u001b[0m\u001b[0melectricity_UUID\u001b[0m\u001b[0;34m)\u001b[0m\u001b[0;34m\u001b[0m\u001b[0;34m\u001b[0m\u001b[0m\n\u001b[0m",
      "\u001b[0;31mNameError\u001b[0m: name 'np' is not defined"
     ]
    }
   ],
   "source": [
    "np.size(electricity_UUID)"
   ]
  },
  {
   "cell_type": "markdown",
   "id": "14f6109a-5166-4dcd-a245-19226db4051e",
   "metadata": {},
   "source": [
    "# Transportation UUIDs in USLCI"
   ]
  },
  {
   "cell_type": "code",
   "execution_count": 25,
   "id": "94c1d18d-695b-4c83-b62c-5a4d51300eda",
   "metadata": {},
   "outputs": [],
   "source": [
    "import requests\n",
    "\n",
    "# GitHub repository details\n",
    "repo_owner = \"FarshidNazemi\"\n",
    "repo_name = \"Plastic-Packaging\"\n",
    "folder_path = \"transportation-UUID\"  # folder within the repo\n",
    "\n",
    "# GitHub API URL for the repository contents\n",
    "url = f\"https://api.github.com/repos/{repo_owner}/{repo_name}/contents/{folder_path}\"\n",
    "\n",
    "# Send a request to the GitHub API\n",
    "response = requests.get(url)\n",
    "files = response.json()\n",
    "\n",
    "# List to store the Excel filenames\n",
    "transportation_UUID = []\n",
    "\n",
    "# Loop through the files and filter out Excel files\n",
    "for file in files:\n",
    "    if file['name'].endswith('.xlsx') or file['name'].endswith('.xls'):\n",
    "        # Remove the file extension before storing\n",
    "        file_name_without_extension = os.path.splitext(file['name'])[0]\n",
    "        # Remove the text after the last underscore if present\n",
    "        file_name_final = file_name_without_extension.split('_')[0]\n",
    "        transportation_UUID.append(file_name_final)"
   ]
  }
 ],
 "metadata": {
  "kernelspec": {
   "display_name": "Python 3 (ipykernel)",
   "language": "python",
   "name": "python3"
  },
  "language_info": {
   "codemirror_mode": {
    "name": "ipython",
    "version": 3
   },
   "file_extension": ".py",
   "mimetype": "text/x-python",
   "name": "python",
   "nbconvert_exporter": "python",
   "pygments_lexer": "ipython3",
   "version": "3.9.13"
  }
 },
 "nbformat": 4,
 "nbformat_minor": 5
}
