{
  "nbformat": 4,
  "nbformat_minor": 0,
  "metadata": {
    "colab": {
      "provenance": [],
      "authorship_tag": "ABX9TyMK0I5+gnw1tjbSfSDCyCG+",
      "include_colab_link": true
    },
    "kernelspec": {
      "name": "python3",
      "display_name": "Python 3"
    },
    "language_info": {
      "name": "python"
    }
  },
  "cells": [
    {
      "cell_type": "markdown",
      "metadata": {
        "id": "view-in-github",
        "colab_type": "text"
      },
      "source": [
        "<a href=\"https://colab.research.google.com/github/BarisReal/Collab-uyg/blob/main/sf137_uyg5.ipynb\" target=\"_parent\"><img src=\"https://colab.research.google.com/assets/colab-badge.svg\" alt=\"Open In Colab\"/></a>"
      ]
    },
    {
      "cell_type": "code",
      "execution_count": 1,
      "metadata": {
        "id": "49ueSnuzGNIw"
      },
      "outputs": [],
      "source": [
        "import numpy as np # Lineer cebir kütüphanesi.\n",
        "import pandas as pd # Veri işleme."
      ]
    },
    {
      "cell_type": "code",
      "source": [
        "%matplotlib inline\n",
        "from matplotlib import pyplot as plt\n",
        "from matplotlib import style\n",
        "from sklearn.model_selection import train_test_split\n",
        "from sklearn.linear_model import LogisticRegression\n",
        "from sklearn.metrics import classification_report\n",
        "from sklearn.metrics import confusion_matrix\n",
        "from sklearn.metrics import accuracy_score\n",
        "from random import randrange\n",
        "import warnings\n",
        "warnings.filterwarnings(\"ignore\")"
      ],
      "metadata": {
        "id": "cLauDlltGSw_"
      },
      "execution_count": 2,
      "outputs": []
    },
    {
      "cell_type": "code",
      "source": [
        "diyabet_df= pd.read_csv(\"../content/sample_data/diabetes.csv\")\n",
        "diyabet_df.head()"
      ],
      "metadata": {
        "colab": {
          "base_uri": "https://localhost:8080/",
          "height": 106
        },
        "id": "zQ7sItFxGdV1",
        "outputId": "6a6d3bdb-d586-4de8-9b19-5f203712111c"
      },
      "execution_count": 3,
      "outputs": [
        {
          "output_type": "error",
          "ename": "IndentationError",
          "evalue": "unexpected indent (<ipython-input-3-7d1eea938d89>, line 2)",
          "traceback": [
            "\u001b[0;36m  File \u001b[0;32m\"<ipython-input-3-7d1eea938d89>\"\u001b[0;36m, line \u001b[0;32m2\u001b[0m\n\u001b[0;31m    diyabet_df.head()\u001b[0m\n\u001b[0m    ^\u001b[0m\n\u001b[0;31mIndentationError\u001b[0m\u001b[0;31m:\u001b[0m unexpected indent\n"
          ]
        }
      ]
    },
    {
      "cell_type": "code",
      "source": [
        "diyabet_df.rename(columns = {'Pregnancies':'gebelik',\n",
        "'Glucose':'glikoz', 'BloodPressure':'kan_basinci',\n",
        "'SkinThickness':'cilt_kalinligi', 'Insulin':'insulin',\n",
        "'BMI':'vki', 'DiabetesPedigreeFunction':'diyabet_fonk',\n",
        "'Age':'yas', 'Outcome':'sonuc'}, inplace = True)\n",
        "diyabet_df.head()"
      ],
      "metadata": {
        "colab": {
          "base_uri": "https://localhost:8080/",
          "height": 211
        },
        "id": "JsU-iGAMGgb1",
        "outputId": "5e6e10b0-9a18-45d2-ce09-35422e425611"
      },
      "execution_count": 5,
      "outputs": [
        {
          "output_type": "error",
          "ename": "NameError",
          "evalue": "name 'diyabet_df' is not defined",
          "traceback": [
            "\u001b[0;31m---------------------------------------------------------------------------\u001b[0m",
            "\u001b[0;31mNameError\u001b[0m                                 Traceback (most recent call last)",
            "\u001b[0;32m<ipython-input-5-66cc91ccc462>\u001b[0m in \u001b[0;36m<cell line: 1>\u001b[0;34m()\u001b[0m\n\u001b[0;32m----> 1\u001b[0;31m diyabet_df.rename(columns = {'Pregnancies':'gebelik', \n\u001b[0m\u001b[1;32m      2\u001b[0m \u001b[0;34m'Glucose'\u001b[0m\u001b[0;34m:\u001b[0m\u001b[0;34m'glikoz'\u001b[0m\u001b[0;34m,\u001b[0m \u001b[0;34m'BloodPressure'\u001b[0m\u001b[0;34m:\u001b[0m\u001b[0;34m'kan_basinci'\u001b[0m\u001b[0;34m,\u001b[0m\u001b[0;34m\u001b[0m\u001b[0;34m\u001b[0m\u001b[0m\n\u001b[1;32m      3\u001b[0m \u001b[0;34m'SkinThickness'\u001b[0m\u001b[0;34m:\u001b[0m\u001b[0;34m'cilt_kalinligi'\u001b[0m\u001b[0;34m,\u001b[0m \u001b[0;34m'Insulin'\u001b[0m\u001b[0;34m:\u001b[0m\u001b[0;34m'insulin'\u001b[0m\u001b[0;34m,\u001b[0m\u001b[0;34m\u001b[0m\u001b[0;34m\u001b[0m\u001b[0m\n\u001b[1;32m      4\u001b[0m \u001b[0;34m'BMI'\u001b[0m\u001b[0;34m:\u001b[0m\u001b[0;34m'vki'\u001b[0m\u001b[0;34m,\u001b[0m \u001b[0;34m'DiabetesPedigreeFunction'\u001b[0m\u001b[0;34m:\u001b[0m\u001b[0;34m'diyabet_fonk'\u001b[0m\u001b[0;34m,\u001b[0m\u001b[0;34m\u001b[0m\u001b[0;34m\u001b[0m\u001b[0m\n\u001b[1;32m      5\u001b[0m 'Age':'yas', 'Outcome':'sonuc'}, inplace = True)\n",
            "\u001b[0;31mNameError\u001b[0m: name 'diyabet_df' is not defined"
          ]
        }
      ]
    },
    {
      "cell_type": "code",
      "source": [
        "diyabet_df.info()"
      ],
      "metadata": {
        "id": "Gf3FI4xJGdPp"
      },
      "execution_count": null,
      "outputs": []
    },
    {
      "cell_type": "code",
      "source": [
        "X = diyabet_df[['gebelik', 'glikoz', 'kan_basinci', '\n",
        "'cilt_kalinligi', 'insulin', 'vki', 'diyabet_fonk',\n",
        "'yas' ]]\n",
        "y = diyabet_df[['sonuc']]\n",
        "X_train,X_test,y_train,y_test = train_test_\n",
        "split(X,y,test_size = 0.3, random_state = 0)\n",
        "diyabet_df = diyabet_df.values\n",
        "diyabet_df"
      ],
      "metadata": {
        "colab": {
          "base_uri": "https://localhost:8080/",
          "height": 106
        },
        "id": "2YcVZeXPHVG-",
        "outputId": "dbac32e4-95f4-4034-88fe-2c06c5bf51d2"
      },
      "execution_count": 6,
      "outputs": [
        {
          "output_type": "error",
          "ename": "IndentationError",
          "evalue": "unexpected indent (<ipython-input-6-5b12461eec1b>, line 4)",
          "traceback": [
            "\u001b[0;36m  File \u001b[0;32m\"<ipython-input-6-5b12461eec1b>\"\u001b[0;36m, line \u001b[0;32m4\u001b[0m\n\u001b[0;31m    y = diyabet_df[['sonuc']] # bağımlı değişken.\u001b[0m\n\u001b[0m    ^\u001b[0m\n\u001b[0;31mIndentationError\u001b[0m\u001b[0;31m:\u001b[0m unexpected indent\n"
          ]
        }
      ]
    },
    {
      "cell_type": "code",
      "source": [
        "logistic_model = LogisticRegression()\n",
        "logistic_model.fit(X_train,y_train)"
      ],
      "metadata": {
        "colab": {
          "base_uri": "https://localhost:8080/",
          "height": 106
        },
        "id": "yBJ_RMwsHbxt",
        "outputId": "7741bac7-6796-443b-c3a1-8e24aab547da"
      },
      "execution_count": 7,
      "outputs": [
        {
          "output_type": "error",
          "ename": "IndentationError",
          "evalue": "unexpected indent (<ipython-input-7-94d93bddfa31>, line 2)",
          "traceback": [
            "\u001b[0;36m  File \u001b[0;32m\"<ipython-input-7-94d93bddfa31>\"\u001b[0;36m, line \u001b[0;32m2\u001b[0m\n\u001b[0;31m    logistic_model.fit(X_train,y_train)\u001b[0m\n\u001b[0m    ^\u001b[0m\n\u001b[0;31mIndentationError\u001b[0m\u001b[0;31m:\u001b[0m unexpected indent\n"
          ]
        }
      ]
    },
    {
      "cell_type": "code",
      "source": [
        "tahminler = logistic_model.predict(X_test)\n",
        "print(\"Hata Matrisi\")\n",
        "matris = confusion_matrix(y_test,tahminler)\n",
        "print(matris)\n",
        "print(\"\\nSınıflandırma Raporu\")\n",
        "rapor = classification_report(y_test,tahminler)\n",
        "print(rapor)\n",
        "lr_accuracy = accuracy_score(y_test, tahminler)\n",
        "print('Lojistik Regresyon model doğruluğu: {:.2f}%'.format(lr_\n",
        "accuracy*100))"
      ],
      "metadata": {
        "id": "469ECU_sHfRd"
      },
      "execution_count": null,
      "outputs": []
    }
  ]
}