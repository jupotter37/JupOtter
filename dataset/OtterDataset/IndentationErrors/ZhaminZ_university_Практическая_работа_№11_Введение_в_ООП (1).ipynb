{
  "nbformat": 4,
  "nbformat_minor": 0,
  "metadata": {
    "colab": {
      "provenance": []
    },
    "kernelspec": {
      "name": "python3",
      "display_name": "Python 3"
    },
    "language_info": {
      "name": "python"
    }
  },
  "cells": [
    {
      "cell_type": "markdown",
      "source": [
        "# **Практическая работа №11. Введение в ООП**\n",
        "\n",
        "\n"
      ],
      "metadata": {
        "id": "s-EuQCpnWXCn"
      }
    },
    {
      "cell_type": "markdown",
      "source": [
        "## **Задание 1. Напишите программу с классом Car**\n",
        "* Создайте конструктор класса Car.\n",
        "* Создайте атрибуты класса Car — color (цвет), type (тип), year (год).\n",
        "* Напишите пять методов:\n",
        "> 1. Запуск автомобиля (при его вызове выводится сообщение «Автомобиль заведен»)\n",
        "> 2. Отключение автомобиля (выводит сообщение «Автомобиль заглушен»)\n",
        "> 3. Присвоение автомобилю года выпуска\n",
        "> 4. Присвоение автомобилю типа\n",
        "> 5. Присвоение автомобилю цвета"
      ],
      "metadata": {
        "id": "OvDnozzI-g-6"
      }
    },
    {
      "cell_type": "code",
      "source": [
        "class Car:\n",
        "    def __init__(self, color, car_type, year):\n",
        "        self.color = color\n",
        "        self.car_type = car_type\n",
        "        self.year = year\n",
        "        self.engine_status = False\n",
        "\n",
        "    def start_engine(self):\n",
        "        if not self.engine_status:\n",
        "            print(\"Автомобиль заведен\")\n",
        "            self.engine_status = True\n",
        "        else:\n",
        "            print(\"Автомобиль уже заведен\")\n",
        "\n",
        "    def stop_engine(self):\n",
        "        if self.engine_status:\n",
        "            print(\"Автомобиль заглушен\")\n",
        "            self.engine_status = False\n",
        "        else:\n",
        "            print(\"Автомобиль уже заглушен\")\n",
        "\n",
        "    def set_year(self, new_year):\n",
        "        self.year = new_year\n",
        "        print(f\"Год выпуска установлен на {new_year}\")\n",
        "\n",
        "    def set_type(self, new_type):\n",
        "        self.car_type = new_type\n",
        "        print(f\"Тип автомобиля установлен на {new_type}\")\n",
        "\n",
        "    def set_color(self, new_color):\n",
        "        self.color = new_color\n",
        "        print(f\"Цвет автомобиля установлен на {new_color}\")\n",
        "\n",
        "# Пример использования класса\n",
        "if __name__ == \"__main__\":\n",
        "    car1 = Car(color=\"Red\", car_type=\"Sedan\", year=2022)\n",
        "\n",
        "    car1.start_engine()\n",
        "    car1.stop_engine()\n",
        "    car1.start_engine()\n",
        "\n",
        "    car1.set_year(2023)\n",
        "    car1.set_type(\"SUV\")\n",
        "    car1.set_color(\"Blue\")\n"
      ],
      "metadata": {
        "id": "xMYBjxjy-hIE"
      },
      "execution_count": null,
      "outputs": []
    },
    {
      "cell_type": "markdown",
      "source": [
        "## **Задание 2. Создайте класс Sphere для представления сферы в трехмерном пространстве**\n"
      ],
      "metadata": {
        "id": "TQ5SpdjdbD4D"
      }
    },
    {
      "cell_type": "markdown",
      "source": [
        "Обеспечьте следующие методы класса:\n",
        "\n",
        "1. Конструктор, принимающий 4 действительных числа: радиус, и 3 координаты центра шара. Если конструктор вызывается без аргументов, создать объект сферы с единичным радиусом и центром в начале координат. Если конструктор вызывается с аргументом, создать объект сферы с соответствующим радиусом и центром в начале координат.\n",
        "\n",
        "2. Метод get_volume (), который возвращает действительное число — объем шара, ограниченной текущей сферой.\n",
        "\n",
        "3. Метод get_square (), который возвращает действительное число — площадь внешней поверхности сферы.\n",
        "\n",
        "4. Метод get_radius (), который возвращает действительное число — радиус сферы.\n",
        "\n",
        "5. Метод get_center (), который возвращает тьюпл с 3 действительными числами — координатами центра сферы в том же порядке, в каком они задаются в конструкторе.\n",
        "\n",
        "6. Метод set_radius (r), который принимает 1 аргумент — действительное число, и меняет радиус текущей сферы, ничего не возвращая.\n",
        "\n",
        "7. Метод set_center (x, y, z), который принимает 3 аргумента — действительных числа, и меняет координаты центра сферы, ничего не возвращая. Координаты задаются в том же порядке, что и в конструкторе.\n",
        "\n",
        "8. Метод is_point_inside (x, y, z), который принимает 3 аргумента — действительных числа — координаты некоторой точки в пространстве (в том же порядке, что и в конструкторе), и возвращает логическое значение True или False в зависимости от того, находится эта точка внутри сферы."
      ],
      "metadata": {
        "id": "Q5Ow51wfASZH"
      }
    },
    {
      "cell_type": "code",
      "source": [
        "# Тесты\n",
        "\n",
        "s0 = Sphere(0.5) # test sphere creation with radius and default center\n",
        "print(s0.get_center()) # (0.0, 0.0, 0.0)\n",
        "print(s0.get_volume()) # 0.523598775598\n",
        "print(s0.is_point_inside(0 , -1.5, 0)) # False\n",
        "s0.set_radius(1.6)\n",
        "print(s0.is_point_inside(0, -1.5, 0)) # True\n",
        "print(s0.get_radius()) # 1.6"
      ],
      "metadata": {
        "id": "xYx3bR2Lbv42"
      },
      "execution_count": null,
      "outputs": []
    },
    {
      "cell_type": "code",
      "source": [
        "import math\n",
        "\n",
        "class Sphere:\n",
        "    def __init__(self, radius=1.0, x=0.0, y=0.0, z=0.0):\n",
        "        self.radius = radius\n",
        "        self.center = (x, y, z)\n",
        "\n",
        "    def get_volume(self):\n",
        "        volume = (4/3) * math.pi * self.radius**3\n",
        "        return volume\n",
        "\n",
        "    def get_square(self):\n",
        "        square = 4 * math.pi * self.radius**2\n",
        "        return square\n",
        "\n",
        "    def get_radius(self):\n",
        "        return self.radius\n",
        "\n",
        "    def get_center(self):\n",
        "        return self.center\n",
        "\n",
        "    def set_radius(self, r):\n",
        "        self.radius = r\n",
        "\n",
        "    def set_center(self, x, y, z):\n",
        "        self.center = (x, y, z)\n",
        "\n",
        "    def is_point_inside(self, x, y, z):\n",
        "        distance = math.sqrt((x - self.center[0])**2 + (y - self.center[1])**2 + (z - self.center[2])**2)\n",
        "        return distance <= self.radius\n",
        "\n",
        "\n",
        "s0 = Sphere(0.5) # test sphere creation with radius and default center\n",
        "print(s0.get_center()) # (0.0, 0.0, 0.0)\n",
        "print(s0.get_volume()) # 0.523598775598\n",
        "print(s0.is_point_inside(0 , -1.5, 0)) # False\n",
        "s0.set_radius(1.6)\n",
        "print(s0.is_point_inside(0, -1.5, 0)) # True\n",
        "print(s0.get_radius()) # 1.6"
      ],
      "metadata": {
        "id": "d-vd-AYRdBId",
        "colab": {
          "base_uri": "https://localhost:8080/"
        },
        "outputId": "c904a93f-c53e-489c-f6d3-b0ae7f75b8b4"
      },
      "execution_count": 2,
      "outputs": [
        {
          "output_type": "stream",
          "name": "stdout",
          "text": [
            "(0.0, 0.0, 0.0)\n",
            "0.5235987755982988\n",
            "False\n",
            "True\n",
            "1.6\n"
          ]
        }
      ]
    },
    {
      "cell_type": "markdown",
      "source": [
        "## **Задание 3. Создайте класс SuperStr, который наследует функциональность стандартного типа str и содержит 2 новых метода:**"
      ],
      "metadata": {
        "id": "UuJ9K_zAcaY_"
      }
    },
    {
      "cell_type": "markdown",
      "source": [
        "1. Метод is_repeatance (s), который принимает 1 аргумент s и возвращает True или False в зависимости от того, может ли текущая строку быть получена целым количеством повторов строки s. Вернуть False, если s не является строкой. Считать, что пустая строка не содержит повторов.\n",
        "\n",
        "2. Метод is_palindrom (), который возвращает True или False в зависимости от того, является ли строка палиндромом. Регистрами символов пренебрегать. Пустую строку считать палиндромом."
      ],
      "metadata": {
        "id": "GX99X81VchPW"
      }
    },
    {
      "cell_type": "code",
      "source": [
        "# Ваш код"
      ],
      "metadata": {
        "id": "LtIAKDWFdEcr"
      },
      "execution_count": null,
      "outputs": []
    },
    {
      "cell_type": "code",
      "source": [
        "class SuperStr(str):\n",
        "    def is_repeatance(self, s):\n",
        "        if not isinstance(s, str):\n",
        "            return False\n",
        "\n",
        "        if s == \"\":\n",
        "            return False\n",
        "\n",
        "        repeat_count = len(self) // len(s)\n",
        "        repeated_string = s * repeat_count\n",
        "        return self == repeated_string\n",
        "\n",
        "    def is_palindrom(self):\n",
        "        normalized_str = self.lower()\n",
        "        return normalized_str == normalized_str[::-1]\n",
        "\n",
        "\n",
        "\n",
        "s = SuperStr(\"123123123123\")\n",
        "print(s.is_repeatance(\"123\")) # True\n",
        "print(s.is_repeatance(\"123123\")) # True\n",
        "print(s.is_repeatance(\"123123123123\")) # True\n",
        "print(s.is_repeatance(\"12312\")) # False\n",
        "print(s.is_repeatance(123)) # False\n",
        "print(s.is_palindrom()) # False\n",
        "print(s) # 123123123123 (строка)\n",
        "print(int(s)) # 123123123123 (целое число)\n",
        "print(s + \"qwe\") # 123123123123qwe\n",
        "p = SuperStr(\"123_321\")\n",
        "print(p.is_palindrom()) # True"
      ],
      "metadata": {
        "id": "oRO3alwicoNp",
        "colab": {
          "base_uri": "https://localhost:8080/"
        },
        "outputId": "d632870c-39c9-4cb3-ac61-d05bdb3983a5"
      },
      "execution_count": 3,
      "outputs": [
        {
          "output_type": "stream",
          "name": "stdout",
          "text": [
            "True\n",
            "True\n",
            "True\n",
            "False\n",
            "False\n",
            "False\n",
            "123123123123\n",
            "123123123123\n",
            "123123123123qwe\n",
            "True\n"
          ]
        }
      ]
    },
    {
      "cell_type": "markdown",
      "source": [
        "## **Задание 4. В коде ниже представлен класс преподавателей и класс студентов (вы можете взять этот код за основу или написать свой).**"
      ],
      "metadata": {
        "id": "m9EGwLY9jZbw"
      }
    },
    {
      "cell_type": "code",
      "source": [
        "class Student:\n",
        "    def __init__(self, name, surname, gender):\n",
        "        self.name = name\n",
        "        self.surname = surname\n",
        "        self.gender = gender\n",
        "        self.finished_courses = []\n",
        "        self.courses_in_progress = []\n",
        "        self.grades = {}\n",
        "\n",
        "    def add_courses(self, course_name):\n",
        "        self.finished_courses.append(course_name)\n",
        "\n",
        "\n",
        "class Mentor:\n",
        "    def __init__(self, name, surname):\n",
        "        self.name = name\n",
        "        self.surname = surname\n",
        "        self.courses_attached = []\n",
        "\n",
        "    def rate_hw(self, student, course, grade):\n",
        "        student.grades[course] = [grade]"
      ],
      "metadata": {
        "id": "PlqK9m7KrT6e"
      },
      "execution_count": 4,
      "outputs": []
    },
    {
      "cell_type": "code",
      "source": [
        "best_student = Student('Ruoy', 'Eman', 'your_gender')\n",
        "cool_mentor = Mentor('Some', 'Buddy')\n",
        "cool_mentor.rate_hw(best_student, 'Python', 10)\n",
        "\n",
        "print(\"Имя студента: \", best_student.name)\n",
        "print(\"Имя преподавателя: \", cool_mentor.name)\n",
        "print(\"Оценки студента по курсам: \", best_student.grades)"
      ],
      "metadata": {
        "colab": {
          "base_uri": "https://localhost:8080/"
        },
        "id": "oNc1-dVaw3ee",
        "outputId": "7621e159-5ac4-48a7-8318-886013ba7692"
      },
      "execution_count": null,
      "outputs": [
        {
          "output_type": "stream",
          "name": "stdout",
          "text": [
            "Имя студента:  Ruoy\n",
            "Имя преподавателя:  Some\n",
            "Оценки студента по курсам:  {'Python': [10]}\n"
          ]
        }
      ]
    },
    {
      "cell_type": "markdown",
      "source": [
        "### **4.1. Наследование**"
      ],
      "metadata": {
        "id": "08FkYxULrxE-"
      }
    },
    {
      "cell_type": "markdown",
      "source": [
        "* Класс Mentor должен стать родительским классом для преподавателей. От него нужно реализовать наследование классов Lecturer (лекторы) и Reviewer (эксперты, проверяющие домашние задания).\n",
        "\n",
        "> Имя, фамилю и список закрепленных курсов логично реализовать на уровне родительского класса."
      ],
      "metadata": {
        "id": "YNjsCv5ItOii"
      }
    },
    {
      "cell_type": "code",
      "source": [
        "class Mentor:\n",
        "    def __init__(self, name, surname):\n",
        "        self.name = name\n",
        "        self.surname = surname\n",
        "        self.courses_attached = []\n",
        "\n",
        "    def rate_hw(self, student, course, grade):\n",
        "        student.grades[course] = [grade]\n",
        "\n",
        "\n",
        "class Lecturer(Mentor):\n",
        "    def __init__(self, name, surname):\n",
        "        super().__init__(name, surname)\n",
        "        self.courses_taught = []\n",
        "\n",
        "    def add_courses_taught(self, course_name):\n",
        "        self.courses_taught.append(course_name)\n",
        "\n",
        "    def __str__(self):\n",
        "        return f\"Lecturer {self.name} {self.surname}\"\n",
        "\n",
        "\n",
        "class Reviewer(Mentor):\n",
        "    def __str__(self):\n",
        "        return f\"Reviewer {self.name} {self.surname}\"\n",
        "\n",
        "\n",
        "\n",
        "\n",
        "lecturer1 = Lecturer(\"Alice\", \"Smith\")\n",
        "reviewer1 = Reviewer(\"Bob\", \"Johnson\")\n",
        "\n",
        "lecturer1.add_courses_taught(\"Physics\")\n",
        "reviewer1.courses_attached.append(\"Chemistry\")\n",
        "\n",
        "print(lecturer1.courses_taught)   # ['Physics']\n",
        "print(reviewer1.courses_attached) # ['Chemistry']"
      ],
      "metadata": {
        "id": "1quZPRZKtIoc",
        "colab": {
          "base_uri": "https://localhost:8080/"
        },
        "outputId": "e4a98c56-4b1a-4a86-e3d9-99df395b103b"
      },
      "execution_count": 5,
      "outputs": [
        {
          "output_type": "stream",
          "name": "stdout",
          "text": [
            "['Physics']\n",
            "['Chemistry']\n"
          ]
        }
      ]
    },
    {
      "cell_type": "markdown",
      "source": [
        "### **4.2. Атрибуты и взаимодействие классов**"
      ],
      "metadata": {
        "id": "oL8kB-uUtH5K"
      }
    },
    {
      "cell_type": "markdown",
      "source": [
        "* Реализуйте возможность проставления оценок студентам только Reviewer-ам (реализуйте такой метод).\n",
        "\n",
        "* Реализуйте метод выставления оценок лекторам у класса Student (оценки по 10-балльной шкале, хранятся в атрибуте-словаре у Lecturer, в котором ключи – названия курсов, а значения – списки оценок). Лектор при этом должен быть закреплен за тем курсом, на который записан студент (реализовать проверку)."
      ],
      "metadata": {
        "id": "ddcuJFCksWsY"
      }
    },
    {
      "cell_type": "code",
      "source": [
        "class Student:\n",
        "    def __init__(self, name, surname, gender):\n",
        "        self.name = name\n",
        "        self.surname = surname\n",
        "        self.gender = gender\n",
        "        self.finished_courses = []\n",
        "        self.courses_in_progress = []\n",
        "        self.grades = {}\n",
        "\n",
        "    def add_courses(self, course_name):\n",
        "        self.finished_courses.append(course_name)\n",
        "\n",
        "    def rate_hw(self, lecturer, course, grade):\n",
        "        if course in self.courses_in_progress and course in lecturer.courses_taught:\n",
        "            lecturer.rate_student(self, course, grade)\n",
        "        else:\n",
        "            print(\"Invalid operation. Check if the course is taught by the lecturer and if the student is enrolled in the course.\")\n",
        "\n",
        "class Mentor:\n",
        "    def __init__(self, name, surname):\n",
        "        self.name = name\n",
        "        self.surname = surname\n",
        "        self.courses_attached = []\n",
        "\n",
        "    def rate_hw(self, student, course, grade):\n",
        "        student.grades[course] = [grade]\n",
        "\n",
        "\n",
        "class Lecturer(Mentor):\n",
        "    def __init__(self, name, surname):\n",
        "        super().__init__(name, surname)\n",
        "        self.courses_taught = {}\n",
        "\n",
        "    def add_courses_taught(self, course_name):\n",
        "        self.courses_taught[course_name] = []\n",
        "\n",
        "    def rate_student(self, student, course, grade):\n",
        "        if course in self.courses_taught and isinstance(student, Student) and course in student.courses_in_progress:\n",
        "            student.grades[course].append(grade)\n",
        "            self.courses_taught[course].append(grade)\n",
        "        else:\n",
        "            print(\"Invalid operation. Check if the course is taught by the lecturer and if the student is enrolled in the course.\")\n",
        "\n",
        "    def __str__(self):\n",
        "        return f\"Lecturer {self.name} {self.surname}\"\n",
        "\n",
        "\n",
        "class Reviewer(Mentor):\n",
        "    def rate_hw(self, student, course, grade):\n",
        "        if isinstance(student, Student) and course in student.courses_in_progress:\n",
        "            student.grades[course] = [grade]\n",
        "        else:\n",
        "            print(\"Invalid operation. Check if the student is enrolled in the course.\")\n",
        "\n",
        "    def __str__(self):\n",
        "        return f\"Reviewer {self.name} {self.surname}\"\n",
        "\n",
        "\n",
        "\n",
        "\n",
        "\n",
        "\n",
        "\n",
        "student1 = Student(\"John\", \"Doe\", \"Male\")\n",
        "lecturer1 = Lecturer(\"Alice\", \"Smith\")\n",
        "reviewer1 = Reviewer(\"Bob\", \"Johnson\")\n",
        "\n",
        "student1.courses_in_progress.append(\"Math\")\n",
        "lecturer1.add_courses_taught(\"Math\")\n",
        "reviewer1.courses_attached.append(\"Math\")\n",
        "\n",
        "# Выставление оценки студенту Reviewer-ом\n",
        "reviewer1.rate_hw(student1, \"Math\", 8)\n",
        "print(student1.grades)  # {'Math': [8]}\n",
        "\n",
        "# Выставление оценки лектору студентом\n",
        "student1.rate_hw(lecturer1, \"Math\", 9)\n",
        "print(lecturer1.courses_taught)  # {'Math': [9]}\n",
        "print(student1.grades)  # {'Math': [8, 9]}"
      ],
      "metadata": {
        "id": "U30yyvuirv6H",
        "colab": {
          "base_uri": "https://localhost:8080/"
        },
        "outputId": "4fc69b51-92d3-4d94-f789-bcfd643c1fd7"
      },
      "execution_count": 11,
      "outputs": [
        {
          "output_type": "stream",
          "name": "stdout",
          "text": [
            "{'Math': [8]}\n",
            "{'Math': [9]}\n",
            "{'Math': [8, 9]}\n"
          ]
        }
      ]
    },
    {
      "cell_type": "markdown",
      "source": [
        "### **4.3. Полиморфизм и магические методы**"
      ],
      "metadata": {
        "id": "i6PrwEBSu39u"
      }
    },
    {
      "cell_type": "markdown",
      "source": [
        "Перегрузите магический метод \\_\\_str__ у всех классов.\n",
        "У проверяющих он должен выводить информацию в следующем виде:\n",
        "\n",
        "\n",
        "\n",
        "```\n",
        "print(some_reviewer)\n",
        "Имя: Some\n",
        "Фамилия: Buddy\n",
        "```\n",
        "\n",
        "У лекторов:\n",
        "\n",
        "\n",
        "\n",
        "```\n",
        "print(some_lecturer)\n",
        "Имя: Some\n",
        "Фамилия: Buddy\n",
        "Средняя оценка за лекции: 9.9\n",
        "```\n",
        "\n",
        "А у студентов так:\n",
        "\n",
        "\n",
        "\n",
        "```\n",
        "print(some_student)\n",
        "Имя: Ruoy\n",
        "Фамилия: Eman\n",
        "Средняя оценка за домашние задания: 9.9\n",
        "Курсы в процессе изучения: Python, Git\n",
        "Завершенные курсы: Введение в программирование\n",
        "```\n",
        "\n",
        "\n",
        "\n"
      ],
      "metadata": {
        "id": "GvmtjlnmvF8b"
      }
    },
    {
      "cell_type": "code",
      "source": [
        "# Ваш кодclass Student:\n",
        "    def __init__(self, name, surname, gender):\n",
        "        self.name = name\n",
        "        self.surname = surname\n",
        "        self.gender = gender\n",
        "        self.finished_courses = []\n",
        "        self.courses_in_progress = []\n",
        "        self.grades = {}\n",
        "\n",
        "    def add_courses(self, course_name):\n",
        "        self.finished_courses.append(course_name)\n",
        "\n",
        "    def rate_hw(self, lecturer, course, grade):\n",
        "        if course in self.courses_in_progress and course in lecturer.courses_taught:\n",
        "            lecturer.rate_student(self, course, grade)\n",
        "        else:\n",
        "            print(\"Invalid operation. Check if the course is taught by the lecturer and if the student is enrolled in the course.\")\n",
        "\n",
        "    def __str__(self):\n",
        "        total_grades = sum([sum(grades) for grades in self.grades.values()])\n",
        "        total_courses = sum([len(grades) for grades in self.grades.values()])\n",
        "        avg_grade = total_grades / total_courses if total_courses > 0 else 0\n",
        "        courses_in_progress_str = ', '.join(self.courses_in_progress)\n",
        "        finished_courses_str = ', '.join(self.finished_courses)\n",
        "        return f\"Имя: {self.name}\\nФамилия: {self.surname}\\nСредняя оценка за домашние задания: {avg_grade:.1f}\\n\" \\\n",
        "               f\"Курсы в процессе изучения: {courses_in_progress_str}\\n\" \\\n",
        "               f\"Завершенные курсы: {finished_courses_str}\"\n",
        "\n",
        "\n",
        "class Mentor:\n",
        "    def __init__(self, name, surname):\n",
        "        self.name = name\n",
        "        self.surname = surname\n",
        "        self.courses_attached = []\n",
        "\n",
        "    def rate_hw(self, student, course, grade):\n",
        "        student.grades[course] = [grade]\n",
        "\n",
        "    def __str__(self):\n",
        "        return f\"Имя: {self.name}\\nФамилия: {self.surname}\"\n",
        "\n",
        "\n",
        "class Lecturer(Mentor):\n",
        "    def __init__(self, name, surname):\n",
        "        super().__init__(name, surname)\n",
        "        self.courses_taught = {}\n",
        "\n",
        "    def add_courses_taught(self, course_name):\n",
        "        self.courses_taught[course_name] = []\n",
        "\n",
        "    def rate_student(self, student, course, grade):\n",
        "        if course in self.courses_taught and isinstance(student, Student) and course in student.courses_in_progress:\n",
        "            student.grades[course].append(grade)\n",
        "            self.courses_taught[course].append(grade)\n",
        "        else:\n",
        "            print(\"Invalid operation. Check if the course is taught by the lecturer and if the student is enrolled in the course.\")\n",
        "\n",
        "    def __str__(self):\n",
        "        total_grades = sum([sum(grades) for grades in self.courses_taught.values()])\n",
        "        total_courses = sum([len(grades) for grades in self.courses_taught.values()])\n",
        "        avg_grade = total_grades / total_courses if total_courses > 0 else 0\n",
        "        return f\"Имя: {self.name}\\nФамилия: {self.surname}\\nСредняя оценка за лекции: {avg_grade:.1f}\"\n",
        "\n",
        "\n",
        "class Reviewer(Mentor):\n",
        "    def __str__(self):\n",
        "        return f\"Имя: {self.name}\\nФамилия: {self.surname}\"\n",
        "\n",
        "# Пример использования метода __str__\n",
        "student1 = Student(\"John\", \"Doe\", \"Male\")\n",
        "lecturer1 = Lecturer(\"Alice\", \"Smith\")\n",
        "reviewer1 = Reviewer(\"Bob\", \"Johnson\")\n",
        "\n",
        "print(reviewer1)\n",
        "print(lecturer1)\n",
        "print(student1)"
      ],
      "metadata": {
        "id": "gCJAL_EmwU0b",
        "colab": {
          "base_uri": "https://localhost:8080/",
          "height": 140
        },
        "outputId": "5e72e358-269c-448c-80b5-0712be8ccab5"
      },
      "execution_count": 7,
      "outputs": [
        {
          "output_type": "error",
          "ename": "IndentationError",
          "evalue": "unexpected indent (<ipython-input-7-da5be01add22>, line 2)",
          "traceback": [
            "\u001b[0;36m  File \u001b[0;32m\"<ipython-input-7-da5be01add22>\"\u001b[0;36m, line \u001b[0;32m2\u001b[0m\n\u001b[0;31m    def __init__(self, name, surname, gender):\u001b[0m\n\u001b[0m    ^\u001b[0m\n\u001b[0;31mIndentationError\u001b[0m\u001b[0;31m:\u001b[0m unexpected indent\n"
          ]
        }
      ]
    },
    {
      "cell_type": "markdown",
      "source": [
        "**Реализуйте перегрузку других магических методов на Ваш выбор (не менее трёх), из тех, что были изучены на паре, руководствуясь по смыслу контекстом представленных классов (студенты, преподаватели, оценки и т.д.)**"
      ],
      "metadata": {
        "id": "1DNE4TE3vfYI"
      }
    },
    {
      "cell_type": "code",
      "source": [
        "class Student:\n",
        "    def __init__(self, name, surname, gender):\n",
        "        self.name = name\n",
        "        self.surname = surname\n",
        "        self.gender = gender\n",
        "        self.finished_courses = []\n",
        "        self.courses_in_progress = []\n",
        "        self.grades = {}\n",
        "\n",
        "    def add_courses(self, course_name):\n",
        "        self.finished_courses.append(course_name)\n",
        "\n",
        "    def rate_hw(self, lecturer, course, grade):\n",
        "        if course in self.courses_in_progress and course in lecturer.courses_taught:\n",
        "            lecturer.rate_student(self, course, grade)\n",
        "        else:\n",
        "            print(\"Неверная операция. Проверьте, преподавает ли лектор данный курс, и записан ли студент на этот курс.\")\n",
        "\n",
        "    def __eq__(self, other):\n",
        "        if isinstance(other, Student):\n",
        "            return self.name == other.name and self.surname == other.surname\n",
        "        return False\n",
        "\n",
        "    def __len__(self):\n",
        "        return len(self.courses_in_progress)\n",
        "\n",
        "    def __bool__(self):\n",
        "        return bool(self.courses_in_progress)\n",
        "\n",
        "    def __str__(self):\n",
        "        total_grades = sum([sum(grades) for grades in self.grades.values()])\n",
        "        total_courses = sum([len(grades) for grades in self.grades.values()])\n",
        "        avg_grade = total_grades / total_courses if total_courses > 0 else 0\n",
        "        courses_in_progress_str = ', '.join(self.courses_in_progress)\n",
        "        finished_courses_str = ', '.join(self.finished_courses)\n",
        "        return f\"Имя: {self.name}\\nФамилия: {self.surname}\\nСредняя оценка за домашние задания: {avg_grade:.1f}\\n\" \\\n",
        "               f\"Курсы в процессе изучения: {courses_in_progress_str}\\n\" \\\n",
        "               f\"Завершенные курсы: {finished_courses_str}\"\n",
        "\n",
        "\n",
        "class Mentor:\n",
        "    def __init__(self, name, surname):\n",
        "        self.name = name\n",
        "        self.surname = surname\n",
        "        self.courses_attached = []\n",
        "\n",
        "    def rate_hw(self, student, course, grade):\n",
        "        student.grades[course] = [grade]\n",
        "\n",
        "    def __eq__(self, other):\n",
        "        if isinstance(other, Mentor):\n",
        "            return self.name == other.name and self.surname == other.surname\n",
        "        return False\n",
        "\n",
        "    def __len__(self):\n",
        "        return len(self.courses_attached)\n",
        "\n",
        "    def __bool__(self):\n",
        "        return bool(self.courses_attached)\n",
        "\n",
        "    def __str__(self):\n",
        "        return f\"Имя: {self.name}\\nФамилия: {self.surname}\"\n",
        "\n",
        "\n",
        "class Lecturer(Mentor):\n",
        "    def __init__(self, name, surname):\n",
        "        super().__init__(name, surname)\n",
        "        self.courses_taught = {}\n",
        "\n",
        "    def add_courses_taught(self, course_name):\n",
        "        self.courses_taught[course_name] = []\n",
        "\n",
        "    def rate_student(self, student, course, grade):\n",
        "        if course in self.courses_taught and isinstance(student, Student) and course in student.courses_in_progress:\n",
        "            student.grades[course].append(grade)\n",
        "            self.courses_taught[course].append(grade)\n",
        "        else:\n",
        "            print(\"Неверная операция. Проверьте, преподавает ли лектор данный курс, и записан ли студент на этот курс.\")\n",
        "\n",
        "    def __eq__(self, other):\n",
        "        if isinstance(other, Lecturer):\n",
        "            return self.name == other.name and self.surname == other.surname\n",
        "        return False\n",
        "\n",
        "    def __len__(self):\n",
        "        return len(self.courses_taught)\n",
        "\n",
        "    def __bool__(self):\n",
        "        return bool(self.courses_taught)\n",
        "\n",
        "    def __str__(self):\n",
        "        total_grades = sum([sum(grades) for grades in self.courses_taught.values()])\n",
        "        total_courses = sum([len(grades) for grades in self.courses_taught.values()])\n",
        "        avg_grade = total_grades / total_courses if total_courses > 0 else 0\n",
        "        return f\"Имя: {self.name}\\nФамилия: {self.surname}\\nСредняя оценка за лекции: {avg_grade:.1f}\"\n",
        "\n",
        "\n",
        "class Reviewer(Mentor):\n",
        "    def rate_student(self, student, course, grade):\n",
        "        if course in student.courses_in_progress:\n",
        "            student.grades[course] = [grade]\n",
        "        else:\n",
        "            print(\"Неверная операция. Проверьте, записан ли студент на этот курс.\")\n",
        "\n",
        "    def __str__(self):\n",
        "        return f\"Имя: {self.name}\\nФамилия: {self.surname}\"\n",
        "\n",
        "\n",
        "\n",
        "\n",
        "\n",
        "\n",
        "\n",
        "\n",
        "# Пример использования новых магических методов\n",
        "student1 = Student(\"Иван\", \"Петров\", \"Мужской\")\n",
        "student2 = Student(\"Ольга\", \"Иванова\", \"Женский\")\n",
        "\n",
        "reviewer1 = Reviewer(\"Андрей\", \"Смирнов\")\n",
        "reviewer2 = Reviewer('Мария', 'Козлова')\n",
        "\n",
        "lecturer1 = Lecturer(\"Артём\", \"Беспечалов\")\n",
        "\n",
        "# Добавление курсов и оценок\n",
        "student1.add_courses('Физика')\n",
        "student1.courses_in_progress.append(\"Математика\")\n",
        "\n",
        "student2.add_courses('Химия')  # Новый студент и новый курс\n",
        "student2.courses_in_progress.append(\"Математика\")\n",
        "\n",
        "reviewer1.courses_attached.append(\"Математика\")\n",
        "reviewer2.courses_attached.append('Физика')\n",
        "lecturer1.courses_attached.extend([\"Химия\", \"Математика\"])  # Изменено на добавление двух курсов\n",
        "\n",
        "# Оценки от рецензентов\n",
        "reviewer2.rate_student(student1, 'Физика', 9)\n",
        "reviewer1.rate_student(student1, \"Математика\", 7)\n",
        "reviewer1.rate_student(student2, 'Математика', 8)\n",
        "\n",
        "# Оценка от лектора\n",
        "lecturer1.rate_student(student1, \"Математика\", 10)\n",
        "\n",
        "# Вывод информации\n",
        "print(str(student1))\n",
        "print(f\"Курсов окончено + Курсы в процессе обучения: {len(student1)}\")\n",
        "print(f\"Является ли студент отличником: {bool(student1)}\")\n",
        "print()\n",
        "\n",
        "print(str(student2))\n",
        "print(f\"Курсов окончено + Курсы в процессе обучения: {len(student2)}\")\n",
        "print(f\"Является ли студент отличником: {bool(student2)}\")\n",
        "print()\n",
        "\n",
        "print(str(lecturer1))\n",
        "print(f\"Прикреплено предметов: {len(lecturer1)}\")\n",
        "print(f\"Лектор красавчик?: {bool(lecturer1)}\")\n",
        "print()\n",
        "\n",
        "print(str(reviewer1))\n",
        "print(f\"Прикреплено предметов: {len(reviewer1)}\")\n",
        "print()\n",
        "\n",
        "print(str(reviewer2))\n",
        "print(f\"Прикреплено предметов: {len(reviewer2)}\")"
      ],
      "metadata": {
        "id": "WNCf9PPMu4Gv",
        "colab": {
          "base_uri": "https://localhost:8080/"
        },
        "outputId": "47c0bb43-ef63-476d-8cf0-6f6504e31f05"
      },
      "execution_count": 10,
      "outputs": [
        {
          "output_type": "stream",
          "name": "stdout",
          "text": [
            "Неверная операция. Проверьте, записан ли студент на этот курс.\n",
            "Неверная операция. Проверьте, преподавает ли лектор данный курс, и записан ли студент на этот курс.\n",
            "Имя: Иван\n",
            "Фамилия: Петров\n",
            "Средняя оценка за домашние задания: 7.0\n",
            "Курсы в процессе изучения: Математика\n",
            "Завершенные курсы: Физика\n",
            "Курсов окончено + Курсы в процессе обучения: 1\n",
            "Является ли студент отличником: True\n",
            "\n",
            "Имя: Ольга\n",
            "Фамилия: Иванова\n",
            "Средняя оценка за домашние задания: 8.0\n",
            "Курсы в процессе изучения: Математика\n",
            "Завершенные курсы: Химия\n",
            "Курсов окончено + Курсы в процессе обучения: 1\n",
            "Является ли студент отличником: True\n",
            "\n",
            "Имя: Артём\n",
            "Фамилия: Беспечалов\n",
            "Средняя оценка за лекции: 0.0\n",
            "Прикреплено предметов: 0\n",
            "Лектор красавчик?: False\n",
            "\n",
            "Имя: Андрей\n",
            "Фамилия: Смирнов\n",
            "Прикреплено предметов: 1\n",
            "\n",
            "Имя: Мария\n",
            "Фамилия: Козлова\n",
            "Прикреплено предметов: 1\n"
          ]
        }
      ]
    },
    {
      "cell_type": "markdown",
      "source": [
        "### **4.4. Тестирование**\n",
        "\n",
        "Создайте по 2 экземпляра каждого класса, вызовите все созданные методы, а также реализуйте две функции:\n",
        "\n",
        "* для подсчета средней оценки за домашние задания по всем студентам в рамках конкретного курса (в качестве аргументов принимаем список студентов и название курса);\n",
        "* для подсчета средней оценки за лекции всех лекторов в рамках курса (в качестве аргумента принимаем список лекторов и название курса)."
      ],
      "metadata": {
        "id": "X8xvLNT6u4Nn"
      }
    },
    {
      "cell_type": "code",
      "source": [
        "class Student:\n",
        "    def __init__(self, name, surname, gender):\n",
        "        self.name = name\n",
        "        self.surname = surname\n",
        "        self.gender = gender\n",
        "        self.finished_courses = []\n",
        "        self.courses_in_progress = []\n",
        "        self.grades = {}\n",
        "\n",
        "    def add_courses(self, course_name):\n",
        "        self.finished_courses.append(course_name)\n",
        "\n",
        "    def rate_lecturer(self, lecturer, course, grade):\n",
        "        if course in lecturer.courses_taught and course in self.courses_in_progress:\n",
        "            if course not in self.grades:\n",
        "                self.grades[course] = []\n",
        "            self.grades[course].append(grade)\n",
        "            lecturer.rate_student(self, course, grade)\n",
        "\n",
        "    def rate_hw(self, lecturer, course, grade):\n",
        "        if course in self.courses_in_progress:\n",
        "            if course not in self.grades:\n",
        "                self.grades[course] = []\n",
        "            self.grades[course].append(grade)\n",
        "            lecturer.rate_student(self, course, grade)\n",
        "\n",
        "    def __str__(self):\n",
        "        avg_grade = sum([sum(grades) for grades in self.grades.values()]) / sum(\n",
        "            [len(grades) for grades in self.grades.values()] or [1]\n",
        "        )\n",
        "        courses_in_progress_str = \", \".join(self.courses_in_progress)\n",
        "        finished_courses_str = \", \".join(self.finished_courses)\n",
        "        return f\"Имя: {self.name}\\nФамилия: {self.surname}\\nСредняя оценка за домашние задания: {avg_grade:.1f}\\n\" \\\n",
        "               f\"Курсы в процессе изучения: {courses_in_progress_str}\\n\" \\\n",
        "               f\"Завершенные курсы: {finished_courses_str}\"\n",
        "\n",
        "class Mentor:\n",
        "    def __init__(self, name, surname):\n",
        "        self.name = name\n",
        "        self.surname = surname\n",
        "        self.courses_taught = {}\n",
        "\n",
        "    def rate_student(self, student, course, grade):\n",
        "        if course in self.courses_taught:\n",
        "            if course not in student.grades:\n",
        "                student.grades[course] = []\n",
        "            student.grades[course].append(grade)\n",
        "\n",
        "    def __str__(self):\n",
        "        total_grades = [grades for grades in self.courses_taught.values() if grades]\n",
        "        total_courses = [course for course in self.courses_taught if self.courses_taught[course]]\n",
        "\n",
        "        avg_grade = sum([sum(grades) for grades in total_grades]) / sum(\n",
        "            [len(grades) for grades in total_grades] or [1]\n",
        "        ) if total_grades else 0\n",
        "\n",
        "        return f\"Имя: {self.name}\\nФамилия: {self.surname}\\nСредняя оценка за лекции: {avg_grade:.1f}\\n\" \\\n",
        "               f\"Прикреплено предметов: {len(total_courses)}\"\n",
        "\n",
        "class Lecturer(Mentor):\n",
        "    pass\n",
        "\n",
        "class Reviewer(Mentor):\n",
        "    def __str__(self):\n",
        "        return f\"Имя: {self.name}\\nФамилия: {self.surname}\\nПрикреплено предметов: {len(self.courses_taught)}\"\n",
        "\n",
        "def average_hw_grade(students, course):\n",
        "    grades_sum = 0\n",
        "    students_count = 0\n",
        "    for student in students:\n",
        "        if course in student.grades:\n",
        "            grades_sum += sum(student.grades[course])\n",
        "            students_count += len(student.grades[course])\n",
        "    return grades_sum / students_count if students_count > 0 else 0\n",
        "\n",
        "def average_lecture_grade(lecturers, course):\n",
        "    grades_sum = 0\n",
        "    lecturers_count = 0\n",
        "    for lecturer in lecturers:\n",
        "        if course in lecturer.courses_taught:\n",
        "            grades_sum += sum(lecturer.courses_taught[course])\n",
        "            lecturers_count += len(lecturer.courses_taught[course])\n",
        "    return grades_sum / lecturers_count if lecturers_count > 0 else 0\n",
        "\n",
        "# Пример использования новых магических методов\n",
        "student1 = Student(\"Иван\", \"Петров\", \"Мужской\")\n",
        "student2 = Student(\"Ольга\", \"Иванова\", \"Женский\")\n",
        "\n",
        "reviewer1 = Reviewer(\"Андрей\", \"Смирнов\")\n",
        "reviewer2 = Reviewer('Мария', 'Козлова')\n",
        "\n",
        "lecturer1 = Lecturer(\"Артём\", \"Беспечалов\")\n",
        "lecturer2 = Lecturer(\"Екатерина\", \"Куликова\")\n",
        "\n",
        "# Добавление курсов и оценок\n",
        "student1.add_courses('Физика')\n",
        "student1.courses_in_progress.append(\"Математика\")\n",
        "\n",
        "student2.add_courses('Химия')\n",
        "student2.courses_in_progress.append(\"Математика\")\n",
        "\n",
        "reviewer1.courses_taught[\"Математика\"] = []\n",
        "reviewer2.courses_taught[\"Физика\"] = []\n",
        "\n",
        "lecturer1.courses_taught[\"Математика\"] = []\n",
        "lecturer2.courses_taught[\"Физика\"] = []\n",
        "\n",
        "# Оценки от рецензентов\n",
        "reviewer2.rate_student(student1, 'Физика', 9)\n",
        "reviewer1.rate_student(student1, \"Математика\", 7)\n",
        "reviewer1.rate_student(student2, 'Математика', 8)\n",
        "\n",
        "# Оценка от лекторов\n",
        "lecturer1.rate_student(student1, \"Математика\", 10)\n",
        "lecturer2.rate_student(student1, 'Физика', 8)\n",
        "lecturer1.rate_student(student2, 'Математика', 9)\n",
        "lecturer2.rate_student(student2, 'Химия', 7)\n",
        "\n",
        "# Вывод информации\n",
        "print(str(student1))\n",
        "print(str(student2))\n",
        "print(str(lecturer1))\n",
        "print(str(lecturer2))\n",
        "print(str(reviewer1))\n",
        "print(str(reviewer2))\n",
        "\n",
        "# Реализация функций\n",
        "course_for_average_hw = \"Математика\"\n",
        "course_for_average_lecture = \"Физика\"\n",
        "\n",
        "average_hw = average_hw_grade([student1, student2], course_for_average_hw)\n",
        "average_lecture = average_lecture_grade([lecturer1, lecturer2], course_for_average_lecture)\n",
        "\n",
        "print(f\"\\nСредняя оценка за домашние задания по курсу '{course_for_average_hw}': {average_hw:.1f}\")\n",
        "print(f\"Средняя оценка за лекции по курсу '{course_for_average_lecture}': {average_lecture:.1f}\")"
      ],
      "metadata": {
        "id": "uh8n08fdu4V_",
        "colab": {
          "base_uri": "https://localhost:8080/"
        },
        "outputId": "48f3fb74-8dc5-4fb7-f67f-16b94ac55205"
      },
      "execution_count": 9,
      "outputs": [
        {
          "output_type": "stream",
          "name": "stdout",
          "text": [
            "Имя: Иван\n",
            "Фамилия: Петров\n",
            "Средняя оценка за домашние задания: 8.5\n",
            "Курсы в процессе изучения: Математика\n",
            "Завершенные курсы: Физика\n",
            "Имя: Ольга\n",
            "Фамилия: Иванова\n",
            "Средняя оценка за домашние задания: 8.5\n",
            "Курсы в процессе изучения: Математика\n",
            "Завершенные курсы: Химия\n",
            "Имя: Артём\n",
            "Фамилия: Беспечалов\n",
            "Средняя оценка за лекции: 0.0\n",
            "Прикреплено предметов: 0\n",
            "Имя: Екатерина\n",
            "Фамилия: Куликова\n",
            "Средняя оценка за лекции: 0.0\n",
            "Прикреплено предметов: 0\n",
            "Имя: Андрей\n",
            "Фамилия: Смирнов\n",
            "Прикреплено предметов: 1\n",
            "Имя: Мария\n",
            "Фамилия: Козлова\n",
            "Прикреплено предметов: 1\n",
            "\n",
            "Средняя оценка за домашние задания по курсу 'Математика': 8.5\n",
            "Средняя оценка за лекции по курсу 'Физика': 0.0\n"
          ]
        }
      ]
    }
  ]
}