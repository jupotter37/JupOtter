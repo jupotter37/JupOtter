{
 "cells": [
  {
   "cell_type": "code",
   "execution_count": 7,
   "metadata": {},
   "outputs": [
    {
     "ename": "IndentationError",
     "evalue": "expected an indented block after 'if' statement on line 3 (3562181171.py, line 4)",
     "output_type": "error",
     "traceback": [
      "\u001b[1;36m  Cell \u001b[1;32mIn[7], line 4\u001b[1;36m\u001b[0m\n\u001b[1;33m    print('if é verdadeiro')\u001b[0m\n\u001b[1;37m    ^\u001b[0m\n\u001b[1;31mIndentationError\u001b[0m\u001b[1;31m:\u001b[0m expected an indented block after 'if' statement on line 3\n"
     ]
    }
   ],
   "source": [
    "programador = True\n",
    "\n",
    "if programador :\n",
    "print('if é verdadeiro')\n",
    "\n",
    "\n",
    "else:\n",
    "print('if verdadeiro')\n",
    "\n",
    "print('finalizou o codigo')"
   ]
  },
  {
   "cell_type": "code",
   "execution_count": 8,
   "metadata": {},
   "outputs": [
    {
     "name": "stdout",
     "output_type": "stream",
     "text": [
      "menor de idade\n"
     ]
    }
   ],
   "source": [
    "jovem = 15\n",
    "\n",
    "if jovem >=18:\n",
    "    print(\"Maior de idade\")\n",
    "\n",
    "else:\n",
    "    print(\"menor de idade\")"
   ]
  },
  {
   "cell_type": "code",
   "execution_count": 24,
   "metadata": {},
   "outputs": [
    {
     "name": "stdout",
     "output_type": "stream",
     "text": [
      "Está de recuperação\n"
     ]
    }
   ],
   "source": [
    "nota = 6.9\n",
    "\n",
    "if nota >= 7:\n",
    "    print(\"aluno aprovado\")\n",
    "\n",
    "elif nota >=5:\n",
    "    print(\"Está de recuperação\")\n",
    "\n",
    "else:\n",
    "    print(\"Reprovado\")"
   ]
  },
  {
   "cell_type": "code",
   "execution_count": 39,
   "metadata": {},
   "outputs": [
    {
     "name": "stdout",
     "output_type": "stream",
     "text": [
      "O número 78 é part!\n"
     ]
    }
   ],
   "source": [
    "#Desafio 1\n",
    "\n",
    "\n",
    "num = input(\"Digite um número:\")\n",
    "num = int(num)\n",
    "\n",
    "if num % 2 == 0:\n",
    "    print(f\"O número {num} é part!\")\n",
    "else:\n",
    "    print(f\"O número {num} é impar!\")\n",
    "\n"
   ]
  },
  {
   "cell_type": "markdown",
   "metadata": {},
   "source": [
    "print(10*\"-\", verifica se par ou impar\",10*\"-\")"
   ]
  },
  {
   "cell_type": "code",
   "execution_count": 33,
   "metadata": {},
   "outputs": [
    {
     "name": "stdout",
     "output_type": "stream",
     "text": [
      "Não pode usar o elevador\n"
     ]
    }
   ],
   "source": [
    "# Desafio 2\n",
    "\n",
    "\n",
    "usuario = input(\"digite seu peso: \")\n",
    "carga = input(\"Digite o peso da carga: \")\n",
    "\n",
    "usuario = int(usuario)\n",
    "carga = int(carga)\n",
    "\n",
    "peso_total = usuario + carga\n",
    "capacidade = 200\n",
    "\n",
    "if peso_total <=200:\n",
    "    print(\"Pode usar o elevador\")\n",
    "else:\n",
    "    print(\"Não pode usar o elevador\")\n"
   ]
  },
  {
   "cell_type": "code",
   "execution_count": null,
   "metadata": {},
   "outputs": [],
   "source": [
    "# Desafio 3\n",
    "\n",
    "\n",
    "\n"
   ]
  },
  {
   "cell_type": "markdown",
   "metadata": {},
   "source": [
    "##Desafio 3\n",
    "\n"
   ]
  },
  {
   "cell_type": "code",
   "execution_count": 48,
   "metadata": {},
   "outputs": [
    {
     "ename": "IndentationError",
     "evalue": "expected an indented block after 'if' statement on line 20 (3639652977.py, line 21)",
     "output_type": "error",
     "traceback": [
      "\u001b[1;36m  Cell \u001b[1;32mIn[48], line 21\u001b[1;36m\u001b[0m\n\u001b[1;33m    print(\"Recuperação\")\u001b[0m\n\u001b[1;37m    ^\u001b[0m\n\u001b[1;31mIndentationError\u001b[0m\u001b[1;31m:\u001b[0m expected an indented block after 'if' statement on line 20\n"
     ]
    }
   ],
   "source": [
    "# Desafio 3\n",
    "\n",
    "nome = input(\"Digite o nome do aluno: \").upper()\n",
    "cpf = input(\"Digite o seu CPF:\")\n",
    "idade = input(\"Digite a idade do aluno: \")\n",
    "idade = int(idade)\n",
    "\n",
    "\n",
    "nota01=float(input(\"Digite a nota do PRIMEIRO bimestre: \"))\n",
    "nota02=float(input(\"Digite a nota do SEGUNDO bimestre: \"))\n",
    "nota03=float(input(\"Digite a nota do TERCEIRO bimestre: \"))\n",
    "nota04=float(input(\"Digite a nota do QUARTO bimestre: \"))\n",
    "\n",
    "media = (nota01 + nota02 + nota03 + nota04)/4\n",
    "\n",
    "\n",
    "print(\"A nota do 1º Bimestre é: \",nota01)\n",
    "print(\"A nota do 2º Bimestre é: \",nota02)\n",
    "print(\"A nota do 3º Bimestre é: \",nota03)\n",
    "print(\"A nota do 4º Bimestre é: \",nota04)\n",
    "print(\"A média final é: \",media)\n",
    "\n",
    "\n",
    "\n",
    "if media >= 7:\n",
    "    \n",
    "    \n",
    "    \n",
    "    print(\"Aprovado\")\n",
    "\n",
    "    if media >= 7:\n",
    "    print(\"Recuperação\")\n",
    "\n",
    "    if media <= 5:\n",
    "    print(\"Reprovado\")\n",
    "else:\n",
    "  print(\"Não Aprovado\")\n",
    "\n",
    "\n",
    "\n",
    "\n"
   ]
  }
 ],
 "metadata": {
  "kernelspec": {
   "display_name": ".venv",
   "language": "python",
   "name": "python3"
  },
  "language_info": {
   "codemirror_mode": {
    "name": "ipython",
    "version": 3
   },
   "file_extension": ".py",
   "mimetype": "text/x-python",
   "name": "python",
   "nbconvert_exporter": "python",
   "pygments_lexer": "ipython3",
   "version": "3.12.4"
  }
 },
 "nbformat": 4,
 "nbformat_minor": 2
}
