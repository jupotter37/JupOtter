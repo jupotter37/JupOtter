{
 "cells": [
  {
   "cell_type": "markdown",
   "metadata": {},
   "source": [
    "# Condicionais\n",
    "aula baseada no capítulos 5 do livro base desse curso: http://openbookproject.net/thinkcs/python/english3e/index.html\n",
    "\n",
    "\n",
    "Os programas ficam realmente interessantes quando podemos testar as condições e alterar o comportamento do programa, dependendo do resultado dos testes. É disso que trata este capítulo."
   ]
  },
  {
   "cell_type": "markdown",
   "metadata": {},
   "source": [
    "## Valores booleanos e expressões\n",
    "\n",
    "Um valor **booleano** é um valor verdadeiro ou falso e é a base de toda a computação moderna.\n",
    "\n",
    "Em Python, os dois valores booleanos são True e False (a capitalização deve ser exatamente como mostrado) e o tipo de  Python é **bool**.\n",
    "\n"
   ]
  },
  {
   "cell_type": "code",
   "execution_count": 1,
   "metadata": {},
   "outputs": [
    {
     "data": {
      "text/plain": [
       "bool"
      ]
     },
     "execution_count": 1,
     "metadata": {},
     "output_type": "execute_result"
    }
   ],
   "source": [
    "type(True)"
   ]
  },
  {
   "cell_type": "markdown",
   "metadata": {},
   "source": [
    "* **Expressão booleana**: é uma expressão que avalia produzir um resultado que é um valor **booleano**. \n",
    "\n",
    "Por exemplo, o ***operador*** == avalia se dois valores são iguais:"
   ]
  },
  {
   "cell_type": "code",
   "execution_count": 3,
   "metadata": {},
   "outputs": [
    {
     "data": {
      "text/plain": [
       "True"
      ]
     },
     "execution_count": 3,
     "metadata": {},
     "output_type": "execute_result"
    }
   ],
   "source": [
    "5 == (2 + 3)"
   ]
  },
  {
   "cell_type": "code",
   "execution_count": 4,
   "metadata": {},
   "outputs": [
    {
     "data": {
      "text/plain": [
       "False"
      ]
     },
     "execution_count": 4,
     "metadata": {},
     "output_type": "execute_result"
    }
   ],
   "source": [
    "5 == 6"
   ]
  },
  {
   "cell_type": "code",
   "execution_count": 5,
   "metadata": {},
   "outputs": [
    {
     "data": {
      "text/plain": [
       "True"
      ]
     },
     "execution_count": 5,
     "metadata": {},
     "output_type": "execute_result"
    }
   ],
   "source": [
    "j = 'hel'\n",
    "j + 'lo' == 'hello'"
   ]
  },
  {
   "cell_type": "markdown",
   "metadata": {},
   "source": [
    "O operador == é um dos seis **operadores de comparação** comuns que produzem um resultado do tipo **bool**; aqui estão todos os seis:\n",
    "\n",
    "* x == y               : Produz ***True*** se x for ***igual*** a y\n",
    "* x != y               : Produz ***True*** se x ***não for igual*** a y\n",
    "* x > y                : Produz ***True*** se x for ***maior*** que y\n",
    "* x < y                : Produz ***True*** se x for ***menor*** y\n",
    "* x >= y               : Produz ***True*** se x for ***maior ou igual*** a y\n",
    "* x <= y               : Produz ***True*** se x for ***menor ou igual*** a y\n",
    "\n",
    "\n",
    "Obs.: o operador == é um **operador de comparação**. O operador = é um **operador de atribuição**.\n"
   ]
  },
  {
   "cell_type": "markdown",
   "metadata": {},
   "source": [
    "## Operadores lógicos\n",
    "\n",
    "* ***and***\n",
    "* ***or***\n",
    "* ***not***\n",
    "\n",
    "Com eles, podemos construir operações booleanas complexas a partir de expressões simples.\n",
    "\n"
   ]
  },
  {
   "cell_type": "code",
   "execution_count": 2,
   "metadata": {},
   "outputs": [
    {
     "data": {
      "text/plain": [
       "True"
      ]
     },
     "execution_count": 2,
     "metadata": {},
     "output_type": "execute_result"
    }
   ],
   "source": [
    "x = 0\n",
    "y = 10\n",
    "x == 0 and y <= 10"
   ]
  },
  {
   "cell_type": "code",
   "execution_count": 3,
   "metadata": {},
   "outputs": [
    {
     "data": {
      "text/plain": [
       "True"
      ]
     },
     "execution_count": 3,
     "metadata": {},
     "output_type": "execute_result"
    }
   ],
   "source": [
    "y % 2 == 0 or y % 3 == 0"
   ]
  },
  {
   "cell_type": "code",
   "execution_count": 4,
   "metadata": {},
   "outputs": [
    {
     "data": {
      "text/plain": [
       "False"
      ]
     },
     "execution_count": 4,
     "metadata": {},
     "output_type": "execute_result"
    }
   ],
   "source": [
    "not (y % 2 == 0)"
   ]
  },
  {
   "cell_type": "code",
   "execution_count": 5,
   "metadata": {},
   "outputs": [
    {
     "data": {
      "text/plain": [
       "True"
      ]
     },
     "execution_count": 5,
     "metadata": {},
     "output_type": "execute_result"
    }
   ],
   "source": [
    "not (x > 0)"
   ]
  },
  {
   "cell_type": "markdown",
   "metadata": {},
   "source": [
    "**Avaliação de curto-circuito**: \n",
    "   * em uma expressão com ***or***, o interpretador de Python avalia primeiro a expressão da esquerda. Se for igual a ***True***, on interpretador não avalia a expressão da direita\n",
    "   \n",
    "   \n",
    "   * em uma expressão com ***and***, se a expressão da esquerda for ***False***, o interpretador não avalia a expressão da direita.\n",
    "   \n",
    "   \n",
    "## Execução condicional\n",
    "\n",
    "Para escrever programas úteis, quase sempre precisamos ter a habilidade de **verificar condições** e adaptar o comportamento do programa de acordo com o resultado dessas verificações.     \n",
    "\n",
    "==> **Declarações condicionais** \n",
    "\n",
    "\n",
    "A forma mais simples é a declaração ***if***:"
   ]
  },
  {
   "cell_type": "code",
   "execution_count": 6,
   "metadata": {},
   "outputs": [
    {
     "name": "stdout",
     "output_type": "stream",
     "text": [
      "0  é par.\n",
      "Você sabia que 2 é o único número par que é também número primo?\n"
     ]
    }
   ],
   "source": [
    "# Exemplo de execução condicional:\n",
    "if x % 2 == 0:\n",
    "    print(x, \" é par.\")\n",
    "    print(\"Você sabia que 2 é o único número par que é também número primo?\")\n",
    "else:\n",
    "    print(x, \" é impar.\")\n",
    "    print(\"Você sabia que a multiplicação de dois números ímpares \" +\n",
    "                                         \"sempre gera um resultado ímpar?\")"
   ]
  },
  {
   "cell_type": "markdown",
   "metadata": {},
   "source": [
    "A expressão booleana após a declaração ***if*** é chamada de **condição**. \n",
    "* Se for verdade, todas as instruções indentadas serão executadas. \n",
    "* Se não, então todas as declarações indentadas sob a **cláusula** ***else*** serão executadas.\n",
    "\n",
    "\n",
    "A sintaxe de uma declaração ***if*** é a seguinte:\n",
    "\n"
   ]
  },
  {
   "cell_type": "code",
   "execution_count": 7,
   "metadata": {},
   "outputs": [
    {
     "ename": "IndentationError",
     "evalue": "unindent does not match any outer indentation level (<tokenize>, line 3)",
     "output_type": "error",
     "traceback": [
      "\u001b[0;36m  File \u001b[0;32m\"<tokenize>\"\u001b[0;36m, line \u001b[0;32m3\u001b[0m\n\u001b[0;31m    else:\u001b[0m\n\u001b[0m    ^\u001b[0m\n\u001b[0;31mIndentationError\u001b[0m\u001b[0;31m:\u001b[0m unindent does not match any outer indentation level\n"
     ]
    }
   ],
   "source": [
    "if BOOLEAN EXPRESSION:     # cabeçalho da declaração condicional\n",
    "       STATEMENTS_1        # Executado se o resultado da condição booleana for True. Esse é o **bloco** da declaração condicional\n",
    "   else:\n",
    "       STATEMENTS_2        # Executado se o resultado da condição booleana for False. **bloco** da cláusula ***else***"
   ]
  },
  {
   "cell_type": "markdown",
   "metadata": {},
   "source": [
    "### Também é possível fazer uma declaração condicional, omitindo a cláusula ***else***"
   ]
  },
  {
   "cell_type": "code",
   "execution_count": 8,
   "metadata": {},
   "outputs": [
    {
     "name": "stdout",
     "output_type": "stream",
     "text": [
      "A raiz quadrada de  0 é 0.0\n"
     ]
    }
   ],
   "source": [
    "import math\n",
    "if x < 0:\n",
    "    print(\"O número negativo \",  x, \" não é válido.\")\n",
    "    x = 42\n",
    "    print(\"Decidi usar o número 42.\")\n",
    "\n",
    "print(\"A raiz quadrada de \", x, \"é\", math.sqrt(x))\n"
   ]
  },
  {
   "cell_type": "markdown",
   "metadata": {},
   "source": [
    "No exemplo acima a última expressão de print não faz parte do bloco da declaração condicional pois não está indentada. Será sempre executada."
   ]
  },
  {
   "cell_type": "markdown",
   "metadata": {},
   "source": [
    "## A declaração de retorno\n",
    "\n",
    "Já vimos anteriormente que uma função retornar um valor ou ser vazia (*void*).\n",
    "\n",
    "Algumas funções podem terminar antes de chegar ao fim e retornar (ou não) um valor, caso uma dada condição seja cumprida"
   ]
  },
  {
   "cell_type": "code",
   "execution_count": 9,
   "metadata": {},
   "outputs": [
    {
     "name": "stdout",
     "output_type": "stream",
     "text": [
      "Somente valores positivos, por favor.\n",
      "A raiz de  9 é 3.0\n"
     ]
    }
   ],
   "source": [
    "def print_raiz_quadrada(x):\n",
    "    if x <= 0:\n",
    "        print(\"Somente valores positivos, por favor.\")\n",
    "        return\n",
    "\n",
    "    result = x**0.5\n",
    "    print(\"A raiz de \", x, \"é\", result)\n",
    "    \n",
    "print_raiz_quadrada(-8)\n",
    "print_raiz_quadrada(9)"
   ]
  },
  {
   "cell_type": "markdown",
   "metadata": {},
   "source": [
    "### Exercícios\n",
    "\n",
    "1. Considere o seguinte script:"
   ]
  },
  {
   "cell_type": "code",
   "execution_count": null,
   "metadata": {},
   "outputs": [],
   "source": [
    "import turtle\n",
    "def draw_bar(t, height):\n",
    "    \"\"\" Get turtle t to draw one bar, of height. \"\"\"\n",
    "    t.begin_fill()           # Added this line\n",
    "    t.left(90)\n",
    "    t.forward(height)\n",
    "    t.write(\"  \"+ str(height))\n",
    "    t.right(90)\n",
    "    t.forward(40)\n",
    "    t.right(90)\n",
    "    t.forward(height)\n",
    "    t.left(90)\n",
    "    t.end_fill()             # Added this line\n",
    "    t.forward(10)\n",
    "\n",
    "wn = turtle.Screen()         # Set up the window and its attributes\n",
    "wn.bgcolor(\"lightgreen\")\n",
    "\n",
    "tess = turtle.Turtle()       # Create tess and set some attributes\n",
    "tess.color(\"blue\", \"red\")\n",
    "tess.pensize(3)\n",
    "\n",
    "xs = [48,117,200,240,160,260,220]\n",
    "\n",
    "for a in xs:\n",
    "    draw_bar(tess, a)\n",
    "\n",
    "wn.mainloop()"
   ]
  },
  {
   "cell_type": "markdown",
   "metadata": {},
   "source": [
    "1) Modifique-o para que o resultado seja um **histograma**, como o mostrado na figura abaixo.\n",
    "Amplie seu script para que seja possível passar ao programa dados (frequência), com o valor do bin (classe de frequência) e cores determinados pelo usuário.\n",
    "\n",
    "\n",
    "Adicione declarações condicionais à função para casos passíveis de gerar erros, como por exemplo, se alguma variável do argumento da \n",
    "função não for definida.\n",
    "\n",
    "***Exemplo***: amplie sua função para tomar como argumento uma lista que contenha as frequências do histograma e verifique que o argumento realmente é uma lista. Caso não seja, imprima uma mensagem de erro.\n",
    "\n",
    "\n",
    "![histograma](pics/histo.png)\n",
    "\n",
    "\n",
    "2) Repita o exercício 1) usando **Manipulação de exceção em Python** (pesquisem!!!!), com as cláusulas ```try``` e ```except```.  <=== **A ser apresentado em sala de aula**.\n",
    "\n",
    "2) **Desafio**: Faça um programa equivalente ao do item 1., utilizando ***matplotlib*** e ***numpy*** ao invés de ***turtle***"
   ]
  },
  {
   "cell_type": "markdown",
   "metadata": {},
   "source": [
    "## Condicionais encadeadas\n",
    "\n",
    "Às vezes há mais de duas possibilidades e precisamos de mais de dois ramos. Uma maneira de expressar uma computação assim é uma condicional encadeada:"
   ]
  },
  {
   "cell_type": "code",
   "execution_count": null,
   "metadata": {},
   "outputs": [],
   "source": [
    "x = 0\n",
    "y = 10"
   ]
  },
  {
   "cell_type": "code",
   "execution_count": null,
   "metadata": {},
   "outputs": [],
   "source": [
    "if x < y:\n",
    "    print('x is less than y')\n",
    "elif x > y:\n",
    "    print('x is greater than y')\n",
    "else:\n",
    "    print('x and y are equal')"
   ]
  },
  {
   "cell_type": "code",
   "execution_count": null,
   "metadata": {},
   "outputs": [],
   "source": [
    "x+y"
   ]
  },
  {
   "cell_type": "code",
   "execution_count": null,
   "metadata": {},
   "outputs": [],
   "source": []
  }
 ],
 "metadata": {
  "kernelspec": {
   "display_name": "Python 3",
   "language": "python",
   "name": "python3"
  },
  "language_info": {
   "codemirror_mode": {
    "name": "ipython",
    "version": 3
   },
   "file_extension": ".py",
   "mimetype": "text/x-python",
   "name": "python",
   "nbconvert_exporter": "python",
   "pygments_lexer": "ipython3",
   "version": "3.6.4"
  }
 },
 "nbformat": 4,
 "nbformat_minor": 2
}
