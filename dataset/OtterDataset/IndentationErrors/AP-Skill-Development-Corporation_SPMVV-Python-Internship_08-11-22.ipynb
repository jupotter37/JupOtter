{
 "cells": [
  {
   "cell_type": "markdown",
   "metadata": {},
   "source": [
    "### package and module\n",
    "    - package:it is a collection of modules\n",
    "    - module:\n",
    "        - it is a python file\n",
    "        - it contains no of classes and no of functions\n",
    "    - for accessing a module we have few different ways\n",
    "            - import modulename\n",
    "            - from modulename import classname,function name\n",
    "            - from modulename import *"
   ]
  },
  {
   "cell_type": "code",
   "execution_count": 2,
   "metadata": {},
   "outputs": [
    {
     "name": "stdout",
     "output_type": "stream",
     "text": [
      "15\n",
      "42\n"
     ]
    }
   ],
   "source": [
    "### 1st way\n",
    "import sample\n",
    "ob=sample.Calsi\n",
    "print(ob.add(7,8))\n",
    "print(ob.mul(6,7))"
   ]
  },
  {
   "cell_type": "code",
   "execution_count": 6,
   "metadata": {},
   "outputs": [
    {
     "name": "stdout",
     "output_type": "stream",
     "text": [
      "81\n",
      "True\n"
     ]
    }
   ],
   "source": [
    "ob=sample.Math\n",
    "print(ob.power(3,4))\n",
    "print(ob.isEven(8))"
   ]
  },
  {
   "cell_type": "code",
   "execution_count": 7,
   "metadata": {},
   "outputs": [
    {
     "name": "stdout",
     "output_type": "stream",
     "text": [
      "True\n"
     ]
    }
   ],
   "source": [
    "obj=sample.isOdd(5)\n",
    "print(obj)"
   ]
  },
  {
   "cell_type": "code",
   "execution_count": 9,
   "metadata": {},
   "outputs": [
    {
     "name": "stdout",
     "output_type": "stream",
     "text": [
      "False\n",
      "243\n"
     ]
    }
   ],
   "source": [
    "### 2nd way\n",
    "#### from modulename import classname\n",
    "from sample import Math\n",
    "ob=Math\n",
    "print(ob.isEven(9))\n",
    "print(ob.power(3,5))"
   ]
  },
  {
   "cell_type": "code",
   "execution_count": 11,
   "metadata": {},
   "outputs": [
    {
     "name": "stdout",
     "output_type": "stream",
     "text": [
      "9\n",
      "20\n"
     ]
    }
   ],
   "source": [
    "from sample import Calsi\n",
    "obj=Calsi\n",
    "print(obj.add(4,5))\n",
    "print(obj.mul(4,5))"
   ]
  },
  {
   "cell_type": "code",
   "execution_count": 12,
   "metadata": {},
   "outputs": [
    {
     "name": "stdout",
     "output_type": "stream",
     "text": [
      "True\n"
     ]
    }
   ],
   "source": [
    "### from module import fn name\n",
    "from sample import isOdd\n",
    "obj=isOdd(5)\n",
    "print(obj)"
   ]
  },
  {
   "cell_type": "code",
   "execution_count": 14,
   "metadata": {},
   "outputs": [
    {
     "name": "stdout",
     "output_type": "stream",
     "text": [
      "5764801\n",
      "True\n"
     ]
    }
   ],
   "source": [
    "#### from modulename import *\n",
    "from sample import *\n",
    "ob=Math\n",
    "print(ob.power(7,8))\n",
    "print(ob.isEven(6))"
   ]
  },
  {
   "cell_type": "code",
   "execution_count": 16,
   "metadata": {},
   "outputs": [
    {
     "name": "stdout",
     "output_type": "stream",
     "text": [
      "16\n",
      "30\n"
     ]
    }
   ],
   "source": [
    "ob=Calsi\n",
    "print(ob.add(7,9))\n",
    "print(ob.mul(5,6))"
   ]
  },
  {
   "cell_type": "code",
   "execution_count": 17,
   "metadata": {},
   "outputs": [
    {
     "name": "stdout",
     "output_type": "stream",
     "text": [
      "True\n"
     ]
    }
   ],
   "source": [
    "obj=isOdd(7)\n",
    "print(obj)"
   ]
  },
  {
   "cell_type": "code",
   "execution_count": null,
   "metadata": {},
   "outputs": [],
   "source": [
    "### module types:\n",
    "    - userdefined module\n",
    "    - builtin module"
   ]
  },
  {
   "cell_type": "code",
   "execution_count": 18,
   "metadata": {
    "collapsed": true
   },
   "outputs": [
    {
     "name": "stdout",
     "output_type": "stream",
     "text": [
      "['ArithmeticError', 'AssertionError', 'AttributeError', 'BaseException', 'BlockingIOError', 'BrokenPipeError', 'BufferError', 'BytesWarning', 'ChildProcessError', 'ConnectionAbortedError', 'ConnectionError', 'ConnectionRefusedError', 'ConnectionResetError', 'DeprecationWarning', 'EOFError', 'Ellipsis', 'EnvironmentError', 'Exception', 'False', 'FileExistsError', 'FileNotFoundError', 'FloatingPointError', 'FutureWarning', 'GeneratorExit', 'IOError', 'ImportError', 'ImportWarning', 'IndentationError', 'IndexError', 'InterruptedError', 'IsADirectoryError', 'KeyError', 'KeyboardInterrupt', 'LookupError', 'MemoryError', 'ModuleNotFoundError', 'NameError', 'None', 'NotADirectoryError', 'NotImplemented', 'NotImplementedError', 'OSError', 'OverflowError', 'PendingDeprecationWarning', 'PermissionError', 'ProcessLookupError', 'RecursionError', 'ReferenceError', 'ResourceWarning', 'RuntimeError', 'RuntimeWarning', 'StopAsyncIteration', 'StopIteration', 'SyntaxError', 'SyntaxWarning', 'SystemError', 'SystemExit', 'TabError', 'TimeoutError', 'True', 'TypeError', 'UnboundLocalError', 'UnicodeDecodeError', 'UnicodeEncodeError', 'UnicodeError', 'UnicodeTranslateError', 'UnicodeWarning', 'UserWarning', 'ValueError', 'Warning', 'WindowsError', 'ZeroDivisionError', '__IPYTHON__', '__build_class__', '__debug__', '__doc__', '__import__', '__loader__', '__name__', '__package__', '__spec__', 'abs', 'all', 'any', 'ascii', 'bin', 'bool', 'breakpoint', 'bytearray', 'bytes', 'callable', 'chr', 'classmethod', 'compile', 'complex', 'copyright', 'credits', 'delattr', 'dict', 'dir', 'display', 'divmod', 'enumerate', 'eval', 'exec', 'filter', 'float', 'format', 'frozenset', 'get_ipython', 'getattr', 'globals', 'hasattr', 'hash', 'help', 'hex', 'id', 'input', 'int', 'isinstance', 'issubclass', 'iter', 'len', 'license', 'list', 'locals', 'map', 'max', 'memoryview', 'min', 'next', 'object', 'oct', 'open', 'ord', 'pow', 'print', 'property', 'range', 'repr', 'reversed', 'round', 'set', 'setattr', 'slice', 'sorted', 'staticmethod', 'str', 'sum', 'super', 'tuple', 'type', 'vars', 'zip']\n"
     ]
    }
   ],
   "source": [
    "print(dir(__builtins__))"
   ]
  },
  {
   "cell_type": "code",
   "execution_count": 28,
   "metadata": {},
   "outputs": [
    {
     "name": "stdout",
     "output_type": "stream",
     "text": [
      "8.0\n",
      "720\n",
      "3.141592653589793\n",
      "6\n",
      "4\n",
      "5\n",
      "7.0\n"
     ]
    }
   ],
   "source": [
    "import math\n",
    "print(math.pow(2,3))\n",
    "print(math.factorial(6))\n",
    "print(math.pi)\n",
    "print(math.gcd(6,24))\n",
    "print(math.floor(4.5))\n",
    "print(math.ceil(4.4))\n",
    "print(math.fabs(7))"
   ]
  },
  {
   "cell_type": "code",
   "execution_count": 37,
   "metadata": {},
   "outputs": [
    {
     "name": "stdout",
     "output_type": "stream",
     "text": [
      "54.598150033144236\n",
      "2.718281828459045\n",
      "0.6309297535714574\n",
      "4.643856189774724\n",
      "3.0\n"
     ]
    }
   ],
   "source": [
    "print(math.exp(4))\n",
    "print(math.exp(1))\n",
    "print(math.log(2,3))\n",
    "print(math.log2(25))\n",
    "print(math.log10(1000))"
   ]
  },
  {
   "cell_type": "code",
   "execution_count": 43,
   "metadata": {},
   "outputs": [
    {
     "name": "stdout",
     "output_type": "stream",
     "text": [
      "0.644217687237691\n",
      "0.7648421872844885\n",
      "0.8422883804630794\n"
     ]
    }
   ],
   "source": [
    "x=0.7\n",
    "print(math.sin(x))\n",
    "print(math.cos(x))\n",
    "print(math.tan(x))"
   ]
  },
  {
   "cell_type": "code",
   "execution_count": 51,
   "metadata": {},
   "outputs": [
    {
     "name": "stdout",
     "output_type": "stream",
     "text": [
      "3.4444444444444446\n",
      "4\n",
      "4\n"
     ]
    }
   ],
   "source": [
    "import statistics\n",
    "s1=[1,2,3,3,4,4,4,5,5]\n",
    "print(statistics.mean(s1))\n",
    "print(statistics.mode(s1))\n",
    "print(statistics.median(s1))\n"
   ]
  },
  {
   "cell_type": "code",
   "execution_count": 52,
   "metadata": {},
   "outputs": [
    {
     "name": "stdout",
     "output_type": "stream",
     "text": [
      "['C:\\\\Users\\\\win10\\\\Desktop\\\\Padmavathi University-Python', 'C:\\\\Users\\\\win10\\\\Anaconda3\\\\python37.zip', 'C:\\\\Users\\\\win10\\\\Anaconda3\\\\DLLs', 'C:\\\\Users\\\\win10\\\\Anaconda3\\\\lib', 'C:\\\\Users\\\\win10\\\\Anaconda3', '', 'C:\\\\Users\\\\win10\\\\Anaconda3\\\\lib\\\\site-packages', 'C:\\\\Users\\\\win10\\\\Anaconda3\\\\lib\\\\site-packages\\\\win32', 'C:\\\\Users\\\\win10\\\\Anaconda3\\\\lib\\\\site-packages\\\\win32\\\\lib', 'C:\\\\Users\\\\win10\\\\Anaconda3\\\\lib\\\\site-packages\\\\Pythonwin', 'C:\\\\Users\\\\win10\\\\Anaconda3\\\\lib\\\\site-packages\\\\IPython\\\\extensions', 'C:\\\\Users\\\\win10\\\\.ipython']\n"
     ]
    }
   ],
   "source": [
    "import sys\n",
    "print(sys.path)"
   ]
  },
  {
   "cell_type": "code",
   "execution_count": 54,
   "metadata": {},
   "outputs": [
    {
     "name": "stdout",
     "output_type": "stream",
     "text": [
      "2022-11-08\n"
     ]
    }
   ],
   "source": [
    "import datetime\n",
    "print(datetime.date.today())"
   ]
  },
  {
   "cell_type": "code",
   "execution_count": null,
   "metadata": {},
   "outputs": [],
   "source": [
    "### problem solving on oops"
   ]
  },
  {
   "cell_type": "markdown",
   "metadata": {},
   "source": [
    "### write a program create a bank account class\n",
    "    - deposit\n",
    "    - withdraw\n",
    "    - get balance\n",
    "    - pinchange"
   ]
  },
  {
   "cell_type": "code",
   "execution_count": 64,
   "metadata": {},
   "outputs": [
    {
     "name": "stdout",
     "output_type": "stream",
     "text": [
      "you had deposited + 100 to your account\n",
      "you had deposited + 200 to your account\n",
      "you had deposited + 400 to your account\n",
      "insuffiencient balance in your account\n",
      "withdrwal is :- 100\n",
      "your main blance is:300\n",
      "you had deposited + 800 to your account\n",
      "withdrwal is :- 200\n",
      "your main blance is:600\n"
     ]
    }
   ],
   "source": [
    "class BankAccount:\n",
    "    def __init__(self):\n",
    "        self.amount=0\n",
    "    \n",
    "    def deposit(self,dep):\n",
    "        self.amount=self.amount+dep\n",
    "        print(\"you had deposited + {} to your account\".format(self.amount))\n",
    "        \n",
    "    def withdrwal(self,wt):\n",
    "        if wt > self.amount:\n",
    "            print(\"insuffiencient balance in your account\")\n",
    "        else:\n",
    "            self.amount=self.amount-wt\n",
    "            print(\"withdrwal is :- {}\".format(wt))\n",
    "        \n",
    "    def getbalance(self):\n",
    "        print(\"your main blance is:{}\".format(self.amount))\n",
    "        \n",
    "        \n",
    "        \n",
    "g=BankAccount()\n",
    "g.deposit(100)\n",
    "g.deposit(100)\n",
    "g.deposit(200)\n",
    "g.withdrwal(500)\n",
    "g.withdrwal(100)\n",
    "g.getbalance()\n",
    "g.deposit(500)\n",
    "g.withdrwal(200)\n",
    "g.getbalance()\n"
   ]
  },
  {
   "cell_type": "code",
   "execution_count": null,
   "metadata": {},
   "outputs": [],
   "source": []
  }
 ],
 "metadata": {
  "kernelspec": {
   "display_name": "Python 3",
   "language": "python",
   "name": "python3"
  },
  "language_info": {
   "codemirror_mode": {
    "name": "ipython",
    "version": 3
   },
   "file_extension": ".py",
   "mimetype": "text/x-python",
   "name": "python",
   "nbconvert_exporter": "python",
   "pygments_lexer": "ipython3",
   "version": "3.7.3"
  }
 },
 "nbformat": 4,
 "nbformat_minor": 2
}
