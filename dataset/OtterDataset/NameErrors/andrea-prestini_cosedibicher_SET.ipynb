{
 "cells": [
  {
   "cell_type": "markdown",
   "metadata": {},
   "source": [
    "# SET in python"
   ]
  },
  {
   "cell_type": "code",
   "execution_count": 1,
   "metadata": {},
   "outputs": [
    {
     "data": {
      "text/plain": [
       "{1, 2, 3, 4, 5, 6, 8}"
      ]
     },
     "execution_count": 1,
     "metadata": {},
     "output_type": "execute_result"
    }
   ],
   "source": [
    "lista = [1, 2, 3, 1, 4, 5, 2, 6, 5, 8]\n",
    "\n",
    "set1 = set(lista) #!  Elimina i duplicati dalla lista, no ordinamento\n",
    "set1 "
   ]
  },
  {
   "cell_type": "markdown",
   "metadata": {},
   "source": [
    "## Sottrazione"
   ]
  },
  {
   "cell_type": "markdown",
   "metadata": {},
   "source": [
    "> Toglie dal primo gli elementi del secondo"
   ]
  },
  {
   "cell_type": "code",
   "execution_count": 2,
   "metadata": {},
   "outputs": [
    {
     "name": "stdout",
     "output_type": "stream",
     "text": [
      "Set sottrazione\n",
      "{'andrea', 'davide'}\n",
      "------------------------------\n",
      "{'andrea', 'davide'}\n"
     ]
    }
   ],
   "source": [
    "set1 = {\"andrea\", \"mario\", \"simone\", \"davide\"}\n",
    "set2 = {\"mario\", \"roberto\", \"simone\"}\n",
    "\n",
    "print(\"Set sottrazione\")\n",
    "print(set1 - set2)\n",
    "print(\"-\" * 30)\n",
    "\n",
    "print(set1.difference(set2))"
   ]
  },
  {
   "cell_type": "markdown",
   "metadata": {},
   "source": [
    "## Unione"
   ]
  },
  {
   "cell_type": "markdown",
   "metadata": {},
   "source": [
    "> Aggiunge al primo gli elementi del secondo, tutti presi una volta sola"
   ]
  },
  {
   "cell_type": "code",
   "execution_count": 3,
   "metadata": {},
   "outputs": [
    {
     "name": "stdout",
     "output_type": "stream",
     "text": [
      "Set unione\n",
      "{'mario', 'simone', 'andrea', 'davide', 'roberto'}\n",
      "------------------------------\n",
      "{'mario', 'simone', 'andrea', 'davide', 'roberto'}\n"
     ]
    }
   ],
   "source": [
    "set1 = {\"andrea\", \"mario\", \"simone\", \"davide\"}\n",
    "set2 = {\"mario\", \"roberto\", \"simone\"}\n",
    "\n",
    "print(\"Set unione\")\n",
    "print(set1 | set2)\n",
    "print(\"-\" * 30)\n",
    "\n",
    "print(set1.union(set2))"
   ]
  },
  {
   "cell_type": "markdown",
   "metadata": {},
   "source": [
    "## Intersezione"
   ]
  },
  {
   "cell_type": "markdown",
   "metadata": {},
   "source": [
    "> Formato dagli elementi presenti in entrambi i sets"
   ]
  },
  {
   "cell_type": "code",
   "execution_count": 4,
   "metadata": {},
   "outputs": [
    {
     "name": "stdout",
     "output_type": "stream",
     "text": [
      "Set intersezione\n",
      "{'mario', 'simone'}\n",
      "------------------------------\n",
      "{'mario', 'simone'}\n"
     ]
    }
   ],
   "source": [
    "set1 = {\"andrea\", \"mario\", \"simone\", \"davide\"}\n",
    "set2 = {\"mario\", \"roberto\", \"simone\"}\n",
    "\n",
    "print(\"Set intersezione\")\n",
    "print(set1 & set2)\n",
    "print(\"-\" * 30)\n",
    "\n",
    "print(set1.intersection(set2))"
   ]
  },
  {
   "cell_type": "markdown",
   "metadata": {},
   "source": [
    "## Esclusione (Differenza Simmetrica)"
   ]
  },
  {
   "cell_type": "markdown",
   "metadata": {},
   "source": [
    "> Elementi non presenti in entrambi i sets"
   ]
  },
  {
   "cell_type": "code",
   "execution_count": 5,
   "metadata": {},
   "outputs": [
    {
     "name": "stdout",
     "output_type": "stream",
     "text": [
      "Set esclusione\n",
      "{'davide', 'andrea', 'roberto'}\n",
      "------------------------------\n",
      "{'davide', 'andrea', 'roberto'}\n"
     ]
    }
   ],
   "source": [
    "set1 = {\"andrea\", \"mario\", \"simone\", \"davide\"}\n",
    "set2 = {\"mario\", \"roberto\", \"simone\"}\n",
    "\n",
    "print(\"Set esclusione\")\n",
    "print(set1 ^ set2)\n",
    "print(\"-\" * 30)\n",
    "\n",
    "print(set1.symmetric_difference(set2))"
   ]
  },
  {
   "cell_type": "code",
   "execution_count": 6,
   "metadata": {},
   "outputs": [],
   "source": [
    "mioSet = {\"uno\", \"due\", \"tre\", \"quattro\", \"cinque\"}"
   ]
  },
  {
   "cell_type": "code",
   "execution_count": 7,
   "metadata": {},
   "outputs": [
    {
     "data": {
      "text/plain": [
       "{'Francesco', 'cinque', 'due', 'quattro', 'tre', 'uno'}"
      ]
     },
     "execution_count": 7,
     "metadata": {},
     "output_type": "execute_result"
    }
   ],
   "source": [
    "mioSet.add(\"Francesco\")\n",
    "mioSet"
   ]
  },
  {
   "cell_type": "code",
   "execution_count": 8,
   "metadata": {},
   "outputs": [
    {
     "data": {
      "text/plain": [
       "{'Francesco', 'cinque', 'due', 'quattro', 'tre'}"
      ]
     },
     "execution_count": 8,
     "metadata": {},
     "output_type": "execute_result"
    }
   ],
   "source": [
    "mioSet.remove(\"uno\")\n",
    "mioSet"
   ]
  },
  {
   "cell_type": "code",
   "execution_count": 9,
   "metadata": {},
   "outputs": [
    {
     "data": {
      "text/plain": [
       "set()"
      ]
     },
     "execution_count": 9,
     "metadata": {},
     "output_type": "execute_result"
    }
   ],
   "source": [
    "mioSet.clear()\n",
    "mioSet"
   ]
  },
  {
   "cell_type": "code",
   "execution_count": 10,
   "metadata": {},
   "outputs": [
    {
     "ename": "NameError",
     "evalue": "name 'mioset' is not defined",
     "output_type": "error",
     "traceback": [
      "\u001b[0;31m---------------------------------------------------------------------------\u001b[0m",
      "\u001b[0;31mNameError\u001b[0m                                 Traceback (most recent call last)",
      "\u001b[1;32m/home/andrea/Dropbox/PythonBicherWorld/SET.ipynb Cell 19\u001b[0m line \u001b[0;36m2\n\u001b[1;32m      <a href='vscode-notebook-cell:/home/andrea/Dropbox/PythonBicherWorld/SET.ipynb#X24sZmlsZQ%3D%3D?line=0'>1</a>\u001b[0m \u001b[39mdel\u001b[39;00m mioSet\n\u001b[0;32m----> <a href='vscode-notebook-cell:/home/andrea/Dropbox/PythonBicherWorld/SET.ipynb#X24sZmlsZQ%3D%3D?line=1'>2</a>\u001b[0m mioset\n",
      "\u001b[0;31mNameError\u001b[0m: name 'mioset' is not defined"
     ]
    }
   ],
   "source": [
    "del mioSet\n",
    "mioset"
   ]
  }
 ],
 "metadata": {
  "kernelspec": {
   "display_name": "Python 3.9.12 ('base')",
   "language": "python",
   "name": "python3"
  },
  "language_info": {
   "codemirror_mode": {
    "name": "ipython",
    "version": 3
   },
   "file_extension": ".py",
   "mimetype": "text/x-python",
   "name": "python",
   "nbconvert_exporter": "python",
   "pygments_lexer": "ipython3",
   "version": "3.11.5"
  },
  "orig_nbformat": 4,
  "vscode": {
   "interpreter": {
    "hash": "7473d73b0517ab6f64aa731f2cb80c0acf19c95420055020da77d830c23b4531"
   }
  }
 },
 "nbformat": 4,
 "nbformat_minor": 2
}
