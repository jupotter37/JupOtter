{
 "metadata": {
  "name": ""
 },
 "nbformat": 3,
 "nbformat_minor": 0,
 "worksheets": [
  {
   "cells": [
    {
     "cell_type": "code",
     "collapsed": false,
     "input": [
      "import urllib\n",
      "import json\n",
      "from pprint import pprint\n",
      "\n",
      "#Traffic CSV\n",
      "#url = 'http://data.kk.dk/api/action/datastore_search?resource_id=50f7a383-653a-4860-bb4e-306f221a2d2a&limit=5'\n",
      "#Parking CSV\n",
      "#url = 'http://data.kk.dk/api/action/datastore_search?resource_id=660e19fa-8838-4a5c-9495-0d7f94fab51e&limit=5'\n",
      "#Parkometer locations CSV\n",
      "urlPL = 'http://data.kk.dk/api/action/datastore_search?resource_id=f51463ac-d6ef-434e-bd40-b398c11fdc1d&limit=2000'\n",
      "\n",
      "PLobj = urllib.urlopen(urlPL)\n",
      "\n",
      "urlPU = 'http://data.kk.dk/api/action/datastore_search?resource_id=660e19fa-8838-4a5c-9495-0d7f94fab51e&limit=50000'\n",
      "\n",
      "PUobj = urllib.urlopen(urlPU)\n"
     ],
     "language": "python",
     "metadata": {},
     "outputs": [],
     "prompt_number": 3
    },
    {
     "cell_type": "code",
     "collapsed": false,
     "input": [
      "dataPL = json.load(PLobj)\n",
      "dataPU = json.load(PUobj)\n",
      "\n",
      "#pprint(data)\n",
      "\n",
      "#print data.keys()\n",
      "\n",
      "#pprint(dataPL['result']['fields'])\n",
      "\n",
      "\n",
      "\n",
      "# for i in range(num_records):\n",
      "\n",
      "#     print dataPL['result']['records'][i]['parkomat_id']\n",
      "#     print dataPL['result']['records'][i]['wkb_geometry']\n",
      "    \n",
      "#pprint(dataPU['result']['fields'])\n",
      "#print dataPU['result']['records'][1]['tlPDM'] #This is the parkometer id\n",
      "\n",
      "import pandas as pd\n",
      "\n",
      "df_PL = pd.DataFrame(dataPL['result']['records'])\n",
      "df_PU = pd.DataFrame(dataPU['result']['records'])\n"
     ],
     "language": "python",
     "metadata": {},
     "outputs": [],
     "prompt_number": 4
    },
    {
     "cell_type": "code",
     "collapsed": false,
     "input": [
      "df_PU.tlPDM = df_PU.tlPDM.astype(int)\n",
      "df_PL.parkomat_id = df_PL.parkomat_id.astype(int)"
     ],
     "language": "python",
     "metadata": {},
     "outputs": [],
     "prompt_number": 5
    },
    {
     "cell_type": "code",
     "collapsed": false,
     "input": [
      "#print df_PL.parkomat_id.values\n",
      "#print df_PU.tlPDM.values"
     ],
     "language": "python",
     "metadata": {},
     "outputs": [
      {
       "output_type": "stream",
       "stream": "stdout",
       "text": [
        "[4406 4407 4408 ..., 2188 9517 9516]\n",
        "[4299 3981 5960 ..., 4073 9518 2736]\n"
       ]
      }
     ],
     "prompt_number": 247
    },
    {
     "cell_type": "code",
     "collapsed": false,
     "input": [
      "import numpy as np\n",
      "\n",
      "#print df_PU\n",
      "print df_PU.groupby('tlPDM').size()\n",
      "\n",
      "simp_PL = df_PL.loc[:,['parkomat_id','wkb_geometry']]\n",
      "#print simp_PL\n",
      "#print simp_PL.wkb_geometry[simp_PL.parkomat_id == 4216].values\n",
      "\n",
      "num_records = len(df_PU.index)\n",
      "\n",
      "print \"Number of records\"\n",
      "print num_records\n",
      "\n",
      "df_PU['LOC'] = pd.Series(np.zeros(num_records), index=df_PU.index)\n",
      "\n",
      "#print df_PU.tlPDM.iloc[0]\n",
      "\n",
      "print num_records\n",
      "\n",
      "#print simp_PL.wkb_geometry[simp_PL.parkomat_id == 4607].values\n",
      "\n",
      "for i in range(0,num_records):\n",
      "    item = df_PU.tlPDM.iloc[i]\n",
      "    #print item\n",
      "    #print simp_PL.wkb_geometry[simp_PL.parkomat_id == item].values\n",
      "    try:\n",
      "        df_PU['LOC'].iloc[i]=simp_PL.wkb_geometry[simp_PL.parkomat_id == item].values[0]\n",
      "    except:\n",
      "        df_PU['LOC'].iloc[i]=''\n",
      "\n",
      "result = df_PU.groupby('tlPDM').size()"
     ],
     "language": "python",
     "metadata": {},
     "outputs": [
      {
       "output_type": "stream",
       "stream": "stdout",
       "text": [
        "tlPDM\n",
        "152      179\n",
        "153      143\n",
        "156      234\n",
        "157      134\n",
        "158       64\n",
        "159       54\n",
        "160       37\n",
        "1002      15\n",
        "1003      25\n",
        "1004      33\n",
        "1005      35\n",
        "1006      38\n",
        "1007      72\n",
        "1008      25\n",
        "1009      23\n",
        "...\n",
        "9613      4\n",
        "9614      5\n",
        "9615     10\n",
        "9616      2\n",
        "9617      5\n",
        "9618     54\n",
        "9619      6\n",
        "9620      9\n",
        "9621     10\n",
        "9622      3\n",
        "9623     11\n",
        "9624     18\n",
        "9625      7\n",
        "69691     2\n",
        "69692    32\n",
        "Length: 1504, dtype: int64\n",
        "Number of records\n",
        "50000\n",
        "50000\n"
       ]
      }
     ],
     "prompt_number": 6
    },
    {
     "cell_type": "code",
     "collapsed": false,
     "input": [
      "print result.head()\n",
      "print df_PU.head()\n",
      "\n",
      "toG = pd.concat([df_PU.tlPDM,df_PU.LOC,result], axis=1)\n",
      "\n",
      "print 'final'\n",
      "print toG.head()"
     ],
     "language": "python",
     "metadata": {},
     "outputs": [
      {
       "output_type": "stream",
       "stream": "stdout",
       "text": [
        "tlPDM\n",
        "152      179\n",
        "153      143\n",
        "156      234\n",
        "157      134\n",
        "158       64\n",
        "dtype: int64\n",
        "        _id        tlExpDateTime  tlPDM        tlPayDateTime  tlRecordID  \\\n",
        "0  21648612  2014-07-07T13:07:00   4299  2014-07-07T12:34:00    67348856   \n",
        "1  21648613  2014-07-07T13:22:00   3981  2014-07-07T12:33:00    67348857   \n",
        "2  21648614  2014-07-07T15:03:00   5960  2014-07-07T12:34:00    67348861   \n",
        "3  21648615  2014-07-07T14:23:00   2540  2014-07-07T12:34:00    67348862   \n",
        "4  21648616  2014-07-07T12:56:00   3060  2014-07-07T12:34:00    67348863   \n",
        "\n",
        "                                             LOC  \n",
        "0  POINT (12.572058839543947 55.687899348854046)  \n",
        "1   POINT (12.582053484301088 55.67922051891793)  \n",
        "2  POINT (12.589509327787182 55.696012958292265)  \n",
        "3    POINT (12.58213831372281 55.70621897861154)  \n",
        "4    POINT (12.549258806737488 55.6675206928224)  \n",
        "\n",
        "[5 rows x 6 columns]\n",
        "final\n",
        "      0                                              1   2\n",
        "0  4299  POINT (12.572058839543947 55.687899348854046) NaN\n",
        "1  3981   POINT (12.582053484301088 55.67922051891793) NaN\n",
        "2  5960  POINT (12.589509327787182 55.696012958292265) NaN\n",
        "3  2540    POINT (12.58213831372281 55.70621897861154) NaN\n",
        "4  3060    POINT (12.549258806737488 55.6675206928224) NaN\n",
        "\n",
        "[5 rows x 3 columns]\n"
       ]
      }
     ],
     "prompt_number": 26
    },
    {
     "cell_type": "code",
     "collapsed": false,
     "input": [
      "resultLOC = df_PU.groupby('LOC').size()"
     ],
     "language": "python",
     "metadata": {},
     "outputs": [],
     "prompt_number": 7
    },
    {
     "cell_type": "code",
     "collapsed": false,
     "input": [
      "resultLOC.to_csv(\"lat_long_count.csv\")"
     ],
     "language": "python",
     "metadata": {},
     "outputs": [
      {
       "ename": "NameError",
       "evalue": "name 'resultLOC' is not defined",
       "output_type": "pyerr",
       "traceback": [
        "\u001b[0;31m---------------------------------------------------------------------------\u001b[0m\n\u001b[0;31mNameError\u001b[0m                                 Traceback (most recent call last)",
        "\u001b[0;32m<ipython-input-2-a15f5bf233a6>\u001b[0m in \u001b[0;36m<module>\u001b[0;34m()\u001b[0m\n\u001b[0;32m----> 1\u001b[0;31m \u001b[0mresultLOC\u001b[0m\u001b[0;34m.\u001b[0m\u001b[0mto_csv\u001b[0m\u001b[0;34m(\u001b[0m\u001b[0;34m\"lat_long_count.csv\"\u001b[0m\u001b[0;34m)\u001b[0m\u001b[0;34m\u001b[0m\u001b[0m\n\u001b[0m",
        "\u001b[0;31mNameError\u001b[0m: name 'resultLOC' is not defined"
       ]
      }
     ],
     "prompt_number": 2
    },
    {
     "cell_type": "code",
     "collapsed": false,
     "input": [
      "!git pull\n",
      "!git commit -am \"New Parking dataset\"\n",
      "!git push"
     ],
     "language": "python",
     "metadata": {},
     "outputs": [],
     "prompt_number": "*"
    },
    {
     "cell_type": "code",
     "collapsed": false,
     "input": [
      "#print resultLOC.index\n",
      "\n",
      "import string\n",
      "from ast import literal_eval\n",
      "\n",
      "print resultLOC.size\n",
      "\n",
      "latlong = np.zeros(resultLOC.size-1,dtype=(float,2))\n",
      "count = np.zeros(resultLOC.size-1)\n",
      "\n",
      "print resultLOC.head()\n",
      "\n",
      "for i in range(1,resultLOC.size):\n",
      "\n",
      "    latlong[i-1] = literal_eval(resultLOC.index[i].replace(\"POINT \",\"\").replace(\" \",\",\"))\n",
      "    count[i-1] = resultLOC.iloc[i]\n",
      "    "
     ],
     "language": "python",
     "metadata": {},
     "outputs": [
      {
       "output_type": "stream",
       "stream": "stdout",
       "text": [
        "1447\n",
        "LOC\n",
        "                                                1709\n",
        "POINT (12.537129456130142 55.66836766796213)       7\n",
        "POINT (12.537704638403325 55.66675232438362)       6\n",
        "POINT (12.537787879682218 55.6676925517532)        5\n",
        "POINT (12.538289406346948 55.66442253977783)      10\n",
        "dtype: int64\n"
       ]
      }
     ],
     "prompt_number": 45
    },
    {
     "cell_type": "code",
     "collapsed": false,
     "input": [
      "parkingdata = [{'coords': latlong[m].tolist(), 'count': count[m]} for m in np.arange(0, len(count))]"
     ],
     "language": "python",
     "metadata": {},
     "outputs": [],
     "prompt_number": 73
    },
    {
     "cell_type": "code",
     "collapsed": false,
     "input": [
      "print parkingdata[0]"
     ],
     "language": "python",
     "metadata": {},
     "outputs": [
      {
       "output_type": "stream",
       "stream": "stdout",
       "text": [
        "{'count': 7.0, 'coords': [12.537129456130142, 55.66836766796213]}\n"
       ]
      }
     ],
     "prompt_number": 74
    },
    {
     "cell_type": "code",
     "collapsed": false,
     "input": [
      "import json\n",
      "with open('parkingdata.json', 'w') as outfile:\n",
      "  json.dump(parkingdata, outfile)"
     ],
     "language": "python",
     "metadata": {},
     "outputs": [],
     "prompt_number": 75
    },
    {
     "cell_type": "code",
     "collapsed": false,
     "input": [
      "import matplotlib.pyplot as plt\n",
      "print latlong[:,0].size\n",
      "\n",
      "plt.scatter(latlong[:,0],latlong[:,1])\n",
      "plt.show()"
     ],
     "language": "python",
     "metadata": {},
     "outputs": [
      {
       "output_type": "stream",
       "stream": "stdout",
       "text": [
        "1446\n"
       ]
      }
     ],
     "prompt_number": 56
    },
    {
     "cell_type": "code",
     "collapsed": false,
     "input": [
      "heatmap, xedges, yedges = np.histogram2d(latlong[:,0], latlong[:,1], bins=40)\n",
      "extent = [xedges[0], xedges[-1], yedges[0], yedges[-1]]\n",
      "\n",
      "plt.clf()\n",
      "plt.imshow(heatmap, extent=extent)\n",
      "plt.show()"
     ],
     "language": "python",
     "metadata": {},
     "outputs": [],
     "prompt_number": 60
    },
    {
     "cell_type": "code",
     "collapsed": false,
     "input": [],
     "language": "python",
     "metadata": {},
     "outputs": []
    }
   ],
   "metadata": {}
  }
 ]
}