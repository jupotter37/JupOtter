{
 "cells": [
  {
   "cell_type": "markdown",
   "id": "e3a47f64-3c6c-46f2-8ca4-816601e51865",
   "metadata": {},
   "source": [
    "# Register plate to database"
   ]
  },
  {
   "cell_type": "code",
   "execution_count": 1,
   "id": "172bc184-ceb7-4d91-8d19-9716fdfc84f2",
   "metadata": {},
   "outputs": [],
   "source": [
    "import sys\n",
    "sys.path.append('/home/apaulson/repos/data-proc/')\n",
    "import mysql_cnx as mc\n",
    "%config Completer.use_jedi=False\n",
    "\n",
    "import pandas as pd\n",
    "import numpy as np\n",
    "from sqlalchemy import text"
   ]
  },
  {
   "cell_type": "code",
   "execution_count": 2,
   "id": "18f92cf7-9310-4217-9366-fc3ac495cadf",
   "metadata": {},
   "outputs": [
    {
     "ename": "NameError",
     "evalue": "name 'engine' is not defined",
     "output_type": "error",
     "traceback": [
      "\u001b[0;31m---------------------------------------------------------------------------\u001b[0m",
      "\u001b[0;31mNameError\u001b[0m                                 Traceback (most recent call last)",
      "Cell \u001b[0;32mIn[2], line 1\u001b[0m\n\u001b[0;32m----> 1\u001b[0m \u001b[43mengine\u001b[49m\u001b[38;5;241m.\u001b[39mdispose()\n",
      "\u001b[0;31mNameError\u001b[0m: name 'engine' is not defined"
     ]
    }
   ],
   "source": [
    "engine.dispose()"
   ]
  },
  {
   "cell_type": "code",
   "execution_count": 3,
   "id": "a58620e0-963e-4238-b2c5-cf4b12b34baf",
   "metadata": {},
   "outputs": [
    {
     "name": "stdout",
     "output_type": "stream",
     "text": [
      "[('hello world',)]\n"
     ]
    }
   ],
   "source": [
    "# engine=mc.create_mysql_cnx(db='QB3_HiTS_nightly')\n",
    "\n",
    "engine=mc.create_mysql_cnx(db='QB3_HiTS')\n",
    "with engine.connect() as conn:\n",
    "    result=conn.execute(text(\"select 'hello world'\"))\n",
    "    print(result.all())"
   ]
  },
  {
   "cell_type": "code",
   "execution_count": 4,
   "id": "94c248d5-f7f5-407b-ac2b-ce72fb98ca0f",
   "metadata": {},
   "outputs": [],
   "source": [
    "# MetaData stores a collection of tables we want to work with\n",
    "from sqlalchemy import MetaData\n",
    "metadata = MetaData()"
   ]
  },
  {
   "cell_type": "code",
   "execution_count": 5,
   "id": "928b2d53-e0f7-4022-842b-f10ba811931e",
   "metadata": {},
   "outputs": [],
   "source": [
    "# reflection gets an existing table from the db\n",
    "from sqlalchemy import Table\n",
    "\n",
    "inv_plate=Table(\"INV_PLATE\", metadata, autoload_with=engine)\n",
    "inv_well=Table(\"INV_WELL\", metadata, autoload_with=engine)\n",
    "inv_comp_lot=Table(\"INV_COMP_LOT\", metadata, autoload_with=engine)"
   ]
  },
  {
   "cell_type": "code",
   "execution_count": 6,
   "id": "93de1202-6007-4fd2-bda0-ca90d851be38",
   "metadata": {},
   "outputs": [],
   "source": [
    "inv_plate_cols=[x.name for x in inv_plate.columns]\n",
    "inv_plate_cols=[x for x in inv_plate_cols if x != inv_plate.primary_key.columns[0].name]\n",
    "\n",
    "inv_well_cols=[x.name for x in inv_well.columns]\n",
    "inv_well_cols=[x for x in inv_well_cols if x != inv_well.primary_key.columns[0].name]"
   ]
  },
  {
   "cell_type": "code",
   "execution_count": 7,
   "id": "285d1049-b433-49f6-bf96-10eaa780ad87",
   "metadata": {},
   "outputs": [],
   "source": [
    "# insert\n",
    "from sqlalchemy import insert\n",
    "from datetime import datetime"
   ]
  },
  {
   "cell_type": "code",
   "execution_count": 8,
   "id": "5a8d4f8c-8837-4f46-876d-8044a1a362a1",
   "metadata": {},
   "outputs": [
    {
     "data": {
      "text/plain": [
       "'2023-10-05 16:02:09'"
      ]
     },
     "execution_count": 8,
     "metadata": {},
     "output_type": "execute_result"
    }
   ],
   "source": [
    "datetime.now().strftime('%Y-%m-%d %H:%M:%S')"
   ]
  },
  {
   "cell_type": "code",
   "execution_count": 9,
   "id": "604407ed-43cd-44f2-b8e9-9a3269d13e13",
   "metadata": {},
   "outputs": [
    {
     "data": {
      "text/plain": [
       "'IP_ID'"
      ]
     },
     "execution_count": 9,
     "metadata": {},
     "output_type": "execute_result"
    }
   ],
   "source": [
    "inv_plate.primary_key.columns[0].name"
   ]
  },
  {
   "cell_type": "markdown",
   "id": "83a08a83-856a-4ba3-8a80-b86da9b83231",
   "metadata": {},
   "source": [
    "## edit plate info here"
   ]
  },
  {
   "cell_type": "code",
   "execution_count": 10,
   "id": "a8aa1a27-cc58-4c44-a47c-e1246c1a83d2",
   "metadata": {},
   "outputs": [
    {
     "name": "stdout",
     "output_type": "stream",
     "text": [
      "/Users/apaulson/Downloads/TARG1 Hits2 Plate Map.xlsx\n"
     ]
    }
   ],
   "source": [
    "platefile=\"/Users/apaulson/Downloads/TARG1 Hits2 Plate Map.xlsx\"\n",
    "platefile=platefile.replace(\"\\\\\",\"/\").replace('Z:','/mnt/z')\n",
    "print(platefile)"
   ]
  },
  {
   "cell_type": "code",
   "execution_count": 11,
   "id": "e22bbe77-d0e2-408b-bc58-fdf72656ef88",
   "metadata": {},
   "outputs": [
    {
     "data": {
      "text/html": [
       "<div>\n",
       "<style scoped>\n",
       "    .dataframe tbody tr th:only-of-type {\n",
       "        vertical-align: middle;\n",
       "    }\n",
       "\n",
       "    .dataframe tbody tr th {\n",
       "        vertical-align: top;\n",
       "    }\n",
       "\n",
       "    .dataframe thead th {\n",
       "        text-align: right;\n",
       "    }\n",
       "</style>\n",
       "<table border=\"1\" class=\"dataframe\">\n",
       "  <thead>\n",
       "    <tr style=\"text-align: right;\">\n",
       "      <th></th>\n",
       "      <th>row</th>\n",
       "      <th>col</th>\n",
       "      <th>smdc</th>\n",
       "    </tr>\n",
       "  </thead>\n",
       "  <tbody>\n",
       "    <tr>\n",
       "      <th>0</th>\n",
       "      <td>A</td>\n",
       "      <td>1</td>\n",
       "      <td>701977.0</td>\n",
       "    </tr>\n",
       "    <tr>\n",
       "      <th>1</th>\n",
       "      <td>B</td>\n",
       "      <td>1</td>\n",
       "      <td>704905.0</td>\n",
       "    </tr>\n",
       "    <tr>\n",
       "      <th>2</th>\n",
       "      <td>C</td>\n",
       "      <td>1</td>\n",
       "      <td>708324.0</td>\n",
       "    </tr>\n",
       "    <tr>\n",
       "      <th>3</th>\n",
       "      <td>D</td>\n",
       "      <td>1</td>\n",
       "      <td>714200.0</td>\n",
       "    </tr>\n",
       "    <tr>\n",
       "      <th>4</th>\n",
       "      <td>E</td>\n",
       "      <td>1</td>\n",
       "      <td>718787.0</td>\n",
       "    </tr>\n",
       "    <tr>\n",
       "      <th>...</th>\n",
       "      <td>...</td>\n",
       "      <td>...</td>\n",
       "      <td>...</td>\n",
       "    </tr>\n",
       "    <tr>\n",
       "      <th>379</th>\n",
       "      <td>L</td>\n",
       "      <td>24</td>\n",
       "      <td>NaN</td>\n",
       "    </tr>\n",
       "    <tr>\n",
       "      <th>380</th>\n",
       "      <td>M</td>\n",
       "      <td>24</td>\n",
       "      <td>NaN</td>\n",
       "    </tr>\n",
       "    <tr>\n",
       "      <th>381</th>\n",
       "      <td>N</td>\n",
       "      <td>24</td>\n",
       "      <td>NaN</td>\n",
       "    </tr>\n",
       "    <tr>\n",
       "      <th>382</th>\n",
       "      <td>O</td>\n",
       "      <td>24</td>\n",
       "      <td>NaN</td>\n",
       "    </tr>\n",
       "    <tr>\n",
       "      <th>383</th>\n",
       "      <td>P</td>\n",
       "      <td>24</td>\n",
       "      <td>NaN</td>\n",
       "    </tr>\n",
       "  </tbody>\n",
       "</table>\n",
       "<p>384 rows × 3 columns</p>\n",
       "</div>"
      ],
      "text/plain": [
       "    row  col      smdc\n",
       "0     A    1  701977.0\n",
       "1     B    1  704905.0\n",
       "2     C    1  708324.0\n",
       "3     D    1  714200.0\n",
       "4     E    1  718787.0\n",
       "..   ..  ...       ...\n",
       "379   L   24       NaN\n",
       "380   M   24       NaN\n",
       "381   N   24       NaN\n",
       "382   O   24       NaN\n",
       "383   P   24       NaN\n",
       "\n",
       "[384 rows x 3 columns]"
      ]
     },
     "execution_count": 11,
     "metadata": {},
     "output_type": "execute_result"
    }
   ],
   "source": [
    "wells=pd.read_excel(platefile, index_col=0)\n",
    "wells=wells.melt(id_vars=None, ignore_index=False)\n",
    "wells=wells.reset_index()\n",
    "wells.columns=['row','col','smdc']\n",
    "wells"
   ]
  },
  {
   "cell_type": "code",
   "execution_count": 12,
   "id": "5ec5e7ef-d24c-4f3d-ae4c-4faabea6cadf",
   "metadata": {},
   "outputs": [],
   "source": [
    "# wells=wells.sort_values('Plate_ID')"
   ]
  },
  {
   "cell_type": "code",
   "execution_count": 13,
   "id": "34280bc4-398d-4bd9-aafc-44ee43802396",
   "metadata": {},
   "outputs": [],
   "source": [
    "# barcodes=['EnamCov'+str(x).zfill(2)+'-MA01' for x in np.arange(1,24)]\n",
    "# barcode_dict=dict(zip(wells.Plate_ID.unique(), barcodes))\n",
    "barcode_dict={np.nan:'TARG1 2nd Hits'}"
   ]
  },
  {
   "cell_type": "code",
   "execution_count": 14,
   "id": "a65d5e25-5db1-4a6a-90bf-4afb9777d518",
   "metadata": {},
   "outputs": [],
   "source": [
    "platelist=[]\n",
    "for plid, barcode in barcode_dict.items():\n",
    "    platedict={\n",
    "     'IP_SOURCE_ID':None,\n",
    "     'IP_GRID_NUM':None,\n",
    "     'IP_IPT_ID': 8, # master plate\n",
    "     'IP_IPF_ID':2, # 384w\n",
    "     'IP_DESC':None,\n",
    "     'IP_BARCODE':None,\n",
    "     'IP_STATUS_ID':1,\n",
    "     'IP_IV_ID':22, \n",
    "     'IP_VEN_PLID':None,\n",
    "     'IP_ICO_ID':243, \n",
    "     'IP_COLLECTION':'Targ1 Cherry Pick', #name; not keyed so can be different but shouldn't be\n",
    "     'IP_NOTES': None, #optional\n",
    "     'IP_INS_BY': 569,\n",
    "     'IP_INS_DATE':datetime.now().strftime('%Y-%m-%d %H:%M:%S'),\n",
    "     'IP_SCREENING_CENTER':'SMDC'\n",
    "    }\n",
    "    platedict['IP_GRID_NUM']=barcode.replace('-MA01','')\n",
    "    platedict['IP_BARCODE']=barcode\n",
    "    platedict['IP_VEN_PLID']=plid\n",
    "    platelist.append(platedict)"
   ]
  },
  {
   "cell_type": "code",
   "execution_count": 15,
   "id": "06eff432-2e1e-4bfc-adc6-315423f6ad3d",
   "metadata": {},
   "outputs": [
    {
     "data": {
      "text/html": [
       "<div>\n",
       "<style scoped>\n",
       "    .dataframe tbody tr th:only-of-type {\n",
       "        vertical-align: middle;\n",
       "    }\n",
       "\n",
       "    .dataframe tbody tr th {\n",
       "        vertical-align: top;\n",
       "    }\n",
       "\n",
       "    .dataframe thead th {\n",
       "        text-align: right;\n",
       "    }\n",
       "</style>\n",
       "<table border=\"1\" class=\"dataframe\">\n",
       "  <thead>\n",
       "    <tr style=\"text-align: right;\">\n",
       "      <th></th>\n",
       "      <th>IP_SOURCE_ID</th>\n",
       "      <th>IP_GRID_NUM</th>\n",
       "      <th>IP_IPT_ID</th>\n",
       "      <th>IP_IPF_ID</th>\n",
       "      <th>IP_DESC</th>\n",
       "      <th>IP_BARCODE</th>\n",
       "      <th>IP_STATUS_ID</th>\n",
       "      <th>IP_IV_ID</th>\n",
       "      <th>IP_VEN_PLID</th>\n",
       "      <th>IP_ICO_ID</th>\n",
       "      <th>IP_COLLECTION</th>\n",
       "      <th>IP_NOTES</th>\n",
       "      <th>IP_INS_BY</th>\n",
       "      <th>IP_INS_DATE</th>\n",
       "      <th>IP_SCREENING_CENTER</th>\n",
       "    </tr>\n",
       "  </thead>\n",
       "  <tbody>\n",
       "    <tr>\n",
       "      <th>0</th>\n",
       "      <td>None</td>\n",
       "      <td>TARG1 2nd Hits</td>\n",
       "      <td>8</td>\n",
       "      <td>2</td>\n",
       "      <td>None</td>\n",
       "      <td>TARG1 2nd Hits</td>\n",
       "      <td>1</td>\n",
       "      <td>22</td>\n",
       "      <td>NaN</td>\n",
       "      <td>243</td>\n",
       "      <td>Targ1 Cherry Pick</td>\n",
       "      <td>None</td>\n",
       "      <td>569</td>\n",
       "      <td>2023-10-05 16:03:37</td>\n",
       "      <td>SMDC</td>\n",
       "    </tr>\n",
       "  </tbody>\n",
       "</table>\n",
       "</div>"
      ],
      "text/plain": [
       "  IP_SOURCE_ID     IP_GRID_NUM  IP_IPT_ID  IP_IPF_ID IP_DESC      IP_BARCODE  \\\n",
       "0         None  TARG1 2nd Hits          8          2    None  TARG1 2nd Hits   \n",
       "\n",
       "   IP_STATUS_ID  IP_IV_ID  IP_VEN_PLID  IP_ICO_ID      IP_COLLECTION IP_NOTES  \\\n",
       "0             1        22          NaN        243  Targ1 Cherry Pick     None   \n",
       "\n",
       "   IP_INS_BY          IP_INS_DATE IP_SCREENING_CENTER  \n",
       "0        569  2023-10-05 16:03:37                SMDC  "
      ]
     },
     "execution_count": 15,
     "metadata": {},
     "output_type": "execute_result"
    }
   ],
   "source": [
    "plates=pd.DataFrame(platelist)\n",
    "plates"
   ]
  },
  {
   "cell_type": "code",
   "execution_count": 16,
   "id": "4294d64c-a396-4529-8316-6d5a5057e921",
   "metadata": {},
   "outputs": [],
   "source": [
    "# check for important plate cols\n",
    "assert set(plates.columns)==set(inv_plate_cols), \"Missing info for INV_PLATE table\"\n",
    "assert len(plates[plates.IP_GRID_NUM.isna()])==0, \"Missing GridNum\"\n",
    "assert len(plates[plates.IP_BARCODE.isna()])==0, \"Missing Barcode\"\n",
    "assert len(plates[plates.IP_GRID_NUM.duplicated()])==0, \"Duplicate gridnums\"\n",
    "assert len(plates[plates.IP_BARCODE.duplicated()])==0, \"Duplicate barcodes\""
   ]
  },
  {
   "cell_type": "code",
   "execution_count": 17,
   "id": "6a9cb038-bbef-4d25-b016-3126313dad9d",
   "metadata": {},
   "outputs": [
    {
     "name": "stdout",
     "output_type": "stream",
     "text": [
      "OK\n"
     ]
    }
   ],
   "source": [
    "# check existing IP_BARCODES\n",
    "from sqlalchemy import select\n",
    "\n",
    "stmt=select(inv_plate).where(inv_plate.c.IP_BARCODE.in_(tuple(plates.IP_BARCODE.tolist())))\n",
    "with engine.connect() as conn:\n",
    "    result=conn.execute(stmt)\n",
    "    exists=result.rowcount>0\n",
    "\n",
    "if exists:\n",
    "    for i, row in enumerate(result):\n",
    "        print(row)\n",
    "        ip_id=row[0]\n",
    "        assert i<0, \"Warning: this barcode already exists\"\n",
    "else:\n",
    "    # stmt=insert(inv_plate).values(plate)    \n",
    "    # compiled=stmt.compile()\n",
    "    # with engine.connect() as conn:\n",
    "    #     result=conn.execute(stmt)\n",
    "    #     conn.commit()\n",
    "    # ip_id=result.inserted_primary_key\n",
    "    ip_id=np.nan\n",
    "    print('OK')"
   ]
  },
  {
   "cell_type": "code",
   "execution_count": 18,
   "id": "fae3ebea-d747-4060-95cc-a5ef54e7f80a",
   "metadata": {},
   "outputs": [
    {
     "data": {
      "text/plain": [
       "nan"
      ]
     },
     "execution_count": 18,
     "metadata": {},
     "output_type": "execute_result"
    }
   ],
   "source": [
    "import sqlalchemy\n",
    "if isinstance(ip_id,sqlalchemy.engine.row.Row):\n",
    "    ip_id=ip_id[0]\n",
    "ip_id"
   ]
  },
  {
   "cell_type": "code",
   "execution_count": 19,
   "id": "d97d8de1-c1d6-4e21-81d0-9374b2d89bb5",
   "metadata": {},
   "outputs": [
    {
     "data": {
      "text/plain": [
       "1"
      ]
     },
     "execution_count": 19,
     "metadata": {},
     "output_type": "execute_result"
    }
   ],
   "source": [
    "# # insert.. careful!!\n",
    "# plates.to_sql(name='INV_PLATE', con=engine, if_exists = 'append', index=False)"
   ]
  },
  {
   "cell_type": "code",
   "execution_count": 20,
   "id": "28b94b53-a019-4a50-807a-81532846b76b",
   "metadata": {},
   "outputs": [
    {
     "data": {
      "text/html": [
       "<div>\n",
       "<style scoped>\n",
       "    .dataframe tbody tr th:only-of-type {\n",
       "        vertical-align: middle;\n",
       "    }\n",
       "\n",
       "    .dataframe tbody tr th {\n",
       "        vertical-align: top;\n",
       "    }\n",
       "\n",
       "    .dataframe thead th {\n",
       "        text-align: right;\n",
       "    }\n",
       "</style>\n",
       "<table border=\"1\" class=\"dataframe\">\n",
       "  <thead>\n",
       "    <tr style=\"text-align: right;\">\n",
       "      <th></th>\n",
       "      <th>IP_ID</th>\n",
       "      <th>IP_SOURCE_ID</th>\n",
       "      <th>IP_GRID_NUM</th>\n",
       "      <th>IP_IPT_ID</th>\n",
       "      <th>IP_IPF_ID</th>\n",
       "      <th>IP_DESC</th>\n",
       "      <th>IP_BARCODE</th>\n",
       "      <th>IP_STATUS_ID</th>\n",
       "      <th>IP_IV_ID</th>\n",
       "      <th>IP_VEN_PLID</th>\n",
       "      <th>IP_ICO_ID</th>\n",
       "      <th>IP_COLLECTION</th>\n",
       "      <th>IP_NOTES</th>\n",
       "      <th>IP_INS_BY</th>\n",
       "      <th>IP_INS_DATE</th>\n",
       "      <th>IP_SCREENING_CENTER</th>\n",
       "    </tr>\n",
       "  </thead>\n",
       "  <tbody>\n",
       "    <tr>\n",
       "      <th>0</th>\n",
       "      <td>27861</td>\n",
       "      <td>None</td>\n",
       "      <td>TARG1 2nd Hits</td>\n",
       "      <td>8</td>\n",
       "      <td>2</td>\n",
       "      <td>None</td>\n",
       "      <td>TARG1 2nd Hits</td>\n",
       "      <td>1</td>\n",
       "      <td>22</td>\n",
       "      <td>None</td>\n",
       "      <td>243</td>\n",
       "      <td>Targ1 Cherry Pick</td>\n",
       "      <td>None</td>\n",
       "      <td>569</td>\n",
       "      <td>2023-10-05 16:03:37</td>\n",
       "      <td>SMDC</td>\n",
       "    </tr>\n",
       "  </tbody>\n",
       "</table>\n",
       "</div>"
      ],
      "text/plain": [
       "   IP_ID IP_SOURCE_ID     IP_GRID_NUM  IP_IPT_ID  IP_IPF_ID IP_DESC  \\\n",
       "0  27861         None  TARG1 2nd Hits          8          2    None   \n",
       "\n",
       "       IP_BARCODE  IP_STATUS_ID  IP_IV_ID IP_VEN_PLID  IP_ICO_ID  \\\n",
       "0  TARG1 2nd Hits             1        22        None        243   \n",
       "\n",
       "       IP_COLLECTION IP_NOTES  IP_INS_BY         IP_INS_DATE  \\\n",
       "0  Targ1 Cherry Pick     None        569 2023-10-05 16:03:37   \n",
       "\n",
       "  IP_SCREENING_CENTER  \n",
       "0                SMDC  "
      ]
     },
     "execution_count": 20,
     "metadata": {},
     "output_type": "execute_result"
    }
   ],
   "source": [
    "# get IP_IDs\n",
    "stmt=select(inv_plate).where(inv_plate.c.IP_BARCODE.in_(tuple(plates.IP_BARCODE.tolist())))\n",
    "ip_ids=pd.read_sql(stmt, con=engine)\n",
    "ip_ids"
   ]
  },
  {
   "cell_type": "markdown",
   "id": "58cfa70a-a9e3-4f89-b228-957cf8754fe4",
   "metadata": {},
   "source": [
    "## edit well info here via plate map file"
   ]
  },
  {
   "cell_type": "code",
   "execution_count": 21,
   "id": "41688855-d133-4a52-bd90-a61c73d30ff5",
   "metadata": {},
   "outputs": [],
   "source": [
    "import plate_maps as pm"
   ]
  },
  {
   "cell_type": "code",
   "execution_count": 22,
   "id": "233ea9c4-05a9-473b-8b1b-6d803f5c7cbb",
   "metadata": {},
   "outputs": [
    {
     "data": {
      "text/plain": [
       "['IW_SOURCE_ID',\n",
       " 'IW_IP_ID',\n",
       " 'IW_BARCODE',\n",
       " 'IW_WELL_INDEX',\n",
       " 'IW_COORDINATES',\n",
       " 'IW_ICL_ID',\n",
       " 'IW_VOL_UL',\n",
       " 'IW_CONC_UM',\n",
       " 'IW_FINAL_CONC_NM',\n",
       " 'IW_DILUTION_FACTOR',\n",
       " 'IW_FREEZETHAW',\n",
       " 'IW_INS_BY',\n",
       " 'IW_INS_DATE',\n",
       " 'IW_CONTAM',\n",
       " 'IW_NOTES']"
      ]
     },
     "execution_count": 22,
     "metadata": {},
     "output_type": "execute_result"
    }
   ],
   "source": [
    "# wells\n",
    "inv_well_cols"
   ]
  },
  {
   "cell_type": "code",
   "execution_count": 391,
   "id": "d0fba183-7b97-4ea4-ae39-050d83e824d0",
   "metadata": {},
   "outputs": [],
   "source": [
    "pf=pd.read_excel(\"/Users/apaulson/Downloads/Targ1_CP_dm.xlsx\", sheet_name=None)"
   ]
  },
  {
   "cell_type": "code",
   "execution_count": 392,
   "id": "7830798c-4627-4435-88f7-c601e7bdb73b",
   "metadata": {},
   "outputs": [
    {
     "name": "stdout",
     "output_type": "stream",
     "text": [
      "TARG1HitCB\n"
     ]
    }
   ],
   "source": [
    "for i, row in pf['Info'].iterrows():\n",
    "    wells=pm.make_dr_platemaps(pf, row, [(\"Amanda\",\"Paulson\"), (\"Zain\",\"Alam\")], None)"
   ]
  },
  {
   "cell_type": "code",
   "execution_count": 393,
   "id": "46b64a80-cfb7-4c0b-8af0-2f8daf938d91",
   "metadata": {},
   "outputs": [
    {
     "data": {
      "text/plain": [
       "Index(['SMDC_ID', 'Lot', 'Source plate', 'Source well', 'Destination plate',\n",
       "       'Destination well', '[compound] uM', 'Assay ID', 'Plate_ID', 'IW_IP_ID',\n",
       "       'IW_BARCODE', 'IW_VOL_UL', 'IW_CONC_UM'],\n",
       "      dtype='object')"
      ]
     },
     "execution_count": 393,
     "metadata": {},
     "output_type": "execute_result"
    }
   ],
   "source": [
    "# wells=pd.read_excel(platefile)\n",
    "wells['Plate_ID']=None\n",
    "wells['IW_IP_ID']=wells.Plate_ID.map(dict(zip(ip_ids.IP_VEN_PLID, ip_ids.IP_ID)))\n",
    "wells['IW_BARCODE']=wells.Plate_ID.map(dict(zip(ip_ids.IP_VEN_PLID, ip_ids.IP_BARCODE)))\n",
    "\n",
    "# 40µL at 20mM in DMSO\n",
    "wells['IW_VOL_UL']=5\n",
    "wells['IW_CONC_UM']=10000 # this is storage conc not final conc in assay plate\n",
    "\n",
    "wells.columns"
   ]
  },
  {
   "cell_type": "code",
   "execution_count": 394,
   "id": "3c10c993-3b4d-4040-ad9c-542be63b60a8",
   "metadata": {},
   "outputs": [],
   "source": [
    "wells.columns=['ICL_IC_ID', 'ICL_LOT_NUM', 'Source_plate', 'Source_well', 'IP_BARCODE',\n",
    "       'IW_COORDINATES', '[compound] uM', 'Assay ID', 'Plate_ID', 'IW_IP_ID',\n",
    "       'IW_BARCODE', 'IW_VOL_UL', 'IW_CONC_UM']\n",
    "wells=wells.replace('NA', np.nan)"
   ]
  },
  {
   "cell_type": "code",
   "execution_count": 396,
   "id": "d5310b8e-b986-4525-8efe-476182f1cd8a",
   "metadata": {},
   "outputs": [],
   "source": [
    "# plate_map.columns=['Row','Col','ICL_IC_ID']\n",
    "# plate_map['IW_COORDINATES']=plate_map.Row+plate_map.Col.astype(int).astype(str).str.zfill(2)\n",
    "# plate_map['IW_IP_ID']=ip_id\n",
    "# plate_map[['ICL_IC_ID','ICL_LOT_NUM']]=plate_map.ICL_IC_ID.str.split('-', expand=True)\n",
    "\n",
    "# select lots by ic_id, lot tuple\n",
    "tuplelist=wells[~wells.ICL_IC_ID.isna()][['ICL_IC_ID','ICL_LOT_NUM']].to_records(index=False)\n",
    "ids=[]\n",
    "with engine.connect() as conn:\n",
    "    for x,y in tuplelist:\n",
    "        stmt=select(inv_comp_lot.c.ICL_IC_ID, inv_comp_lot.c.ICL_LOT_NUM, inv_comp_lot.c.ICL_ID).where(inv_comp_lot.c.ICL_IC_ID==x, inv_comp_lot.c.ICL_LOT_NUM==y)\n",
    "        for row in conn.execute(stmt):\n",
    "           ids.append(row)\n",
    "\n",
    "assert len(wells[~wells.ICL_IC_ID.isna()])==len(ids), \"Num lot ID's does not match num SMDC ID's\"\n",
    "\n",
    "ids=pd.DataFrame(ids, columns=['ICL_IC_ID', 'ICL_LOT_NUM','ICL_ID'])\n",
    "ids=ids.astype(int)\n",
    "wells[['ICL_IC_ID','ICL_LOT_NUM']]=wells[['ICL_IC_ID','ICL_LOT_NUM']].astype(float)\n",
    "wells=wells.merge(ids, how='left')\n",
    "wells=wells.rename(columns={'ICL_ID':'IW_ICL_ID'})"
   ]
  },
  {
   "cell_type": "code",
   "execution_count": 397,
   "id": "b4fead0e-3bdd-4b1f-97c4-e636777fd2e8",
   "metadata": {},
   "outputs": [
    {
     "data": {
      "text/plain": [
       "384"
      ]
     },
     "execution_count": 397,
     "metadata": {},
     "output_type": "execute_result"
    }
   ],
   "source": [
    "len(wells.IW_COORDINATES.unique())"
   ]
  },
  {
   "cell_type": "code",
   "execution_count": 398,
   "id": "693427ce-8d5f-49fa-9fa3-13ef60fd08df",
   "metadata": {},
   "outputs": [],
   "source": [
    "import string\n",
    "rows=list(string.ascii_uppercase)[0:16]\n",
    "cols=list(np.arange(1,25))"
   ]
  },
  {
   "cell_type": "code",
   "execution_count": 399,
   "id": "ba00032f-06e6-4002-9986-d29c960ca1c8",
   "metadata": {},
   "outputs": [
    {
     "name": "stdout",
     "output_type": "stream",
     "text": [
      "CPU times: user 4 µs, sys: 0 ns, total: 4 µs\n",
      "Wall time: 8.58 µs\n"
     ]
    },
    {
     "data": {
      "text/plain": [
       "384"
      ]
     },
     "execution_count": 399,
     "metadata": {},
     "output_type": "execute_result"
    }
   ],
   "source": [
    "%time\n",
    "allwells=[]\n",
    "for row in rows:\n",
    "    for col in cols:\n",
    "        allwells.append(row+str(col).zfill(2))\n",
    "len(allwells)"
   ]
  },
  {
   "cell_type": "code",
   "execution_count": 400,
   "id": "a0921324-38d7-4e73-9a47-96f0f2a1f84c",
   "metadata": {},
   "outputs": [],
   "source": [
    "wellidx=dict(zip(allwells, np.arange(1,385)))"
   ]
  },
  {
   "cell_type": "code",
   "execution_count": 401,
   "id": "0c2d170d-9f76-40cb-a25c-dcc7a01662f3",
   "metadata": {},
   "outputs": [
    {
     "data": {
      "text/plain": [
       "0"
      ]
     },
     "execution_count": 401,
     "metadata": {},
     "output_type": "execute_result"
    }
   ],
   "source": [
    "missingwells=list(set(allwells)-set(wells.IW_COORDINATES))\n",
    "len(missingwells)"
   ]
  },
  {
   "cell_type": "code",
   "execution_count": 402,
   "id": "11114bfa-fb5e-4686-9e12-e10154ad1fdd",
   "metadata": {},
   "outputs": [],
   "source": [
    "# # add missing wells back to each plate\n",
    "# print(wells.shape)\n",
    "# for plate, barcode in dict(zip(wells.IW_IP_ID,wells.IW_BARCODE)).items():\n",
    "#     df=pd.DataFrame({'IW_IP_ID':plate, 'IW_BARCODE':barcode, 'IW_COORDINATES':missingwells})\n",
    "#     wells=pd.concat([wells, df])\n",
    "#     print(wells.shape)"
   ]
  },
  {
   "cell_type": "code",
   "execution_count": 403,
   "id": "6f02829b-6936-493f-9694-d3dbb005b143",
   "metadata": {},
   "outputs": [
    {
     "data": {
      "text/html": [
       "<div>\n",
       "<style scoped>\n",
       "    .dataframe tbody tr th:only-of-type {\n",
       "        vertical-align: middle;\n",
       "    }\n",
       "\n",
       "    .dataframe tbody tr th {\n",
       "        vertical-align: top;\n",
       "    }\n",
       "\n",
       "    .dataframe thead th {\n",
       "        text-align: right;\n",
       "    }\n",
       "</style>\n",
       "<table border=\"1\" class=\"dataframe\">\n",
       "  <thead>\n",
       "    <tr style=\"text-align: right;\">\n",
       "      <th></th>\n",
       "      <th>ICL_IC_ID</th>\n",
       "      <th>ICL_LOT_NUM</th>\n",
       "      <th>Source_plate</th>\n",
       "      <th>Source_well</th>\n",
       "      <th>IP_BARCODE</th>\n",
       "      <th>IW_COORDINATES</th>\n",
       "      <th>[compound] uM</th>\n",
       "      <th>Assay ID</th>\n",
       "      <th>Plate_ID</th>\n",
       "      <th>IW_IP_ID</th>\n",
       "      <th>IW_BARCODE</th>\n",
       "      <th>IW_VOL_UL</th>\n",
       "      <th>IW_CONC_UM</th>\n",
       "      <th>IW_ICL_ID</th>\n",
       "      <th>Source_IW_IP_ID</th>\n",
       "      <th>IW_SOURCE_ID</th>\n",
       "    </tr>\n",
       "  </thead>\n",
       "  <tbody>\n",
       "    <tr>\n",
       "      <th>32</th>\n",
       "      <td>706120.0</td>\n",
       "      <td>1.0</td>\n",
       "      <td>04916CB-Eco1</td>\n",
       "      <td>P21</td>\n",
       "      <td>TARG1HitCB</td>\n",
       "      <td>A03</td>\n",
       "      <td>NaN</td>\n",
       "      <td>2439</td>\n",
       "      <td>None</td>\n",
       "      <td>27852</td>\n",
       "      <td>TARG1HitCB</td>\n",
       "      <td>5</td>\n",
       "      <td>10000</td>\n",
       "      <td>674482.0</td>\n",
       "      <td>27534.0</td>\n",
       "      <td>8485433.0</td>\n",
       "    </tr>\n",
       "    <tr>\n",
       "      <th>33</th>\n",
       "      <td>707527.0</td>\n",
       "      <td>1.0</td>\n",
       "      <td>04921CB-Eco1</td>\n",
       "      <td>L05</td>\n",
       "      <td>TARG1HitCB</td>\n",
       "      <td>B03</td>\n",
       "      <td>NaN</td>\n",
       "      <td>2439</td>\n",
       "      <td>None</td>\n",
       "      <td>27852</td>\n",
       "      <td>TARG1HitCB</td>\n",
       "      <td>5</td>\n",
       "      <td>10000</td>\n",
       "      <td>676054.0</td>\n",
       "      <td>27539.0</td>\n",
       "      <td>8487876.0</td>\n",
       "    </tr>\n",
       "    <tr>\n",
       "      <th>34</th>\n",
       "      <td>708792.0</td>\n",
       "      <td>1.0</td>\n",
       "      <td>04925CB-Eco1</td>\n",
       "      <td>H17</td>\n",
       "      <td>TARG1HitCB</td>\n",
       "      <td>C03</td>\n",
       "      <td>NaN</td>\n",
       "      <td>2439</td>\n",
       "      <td>None</td>\n",
       "      <td>27852</td>\n",
       "      <td>TARG1HitCB</td>\n",
       "      <td>5</td>\n",
       "      <td>10000</td>\n",
       "      <td>677320.0</td>\n",
       "      <td>27543.0</td>\n",
       "      <td>8489836.0</td>\n",
       "    </tr>\n",
       "    <tr>\n",
       "      <th>35</th>\n",
       "      <td>709573.0</td>\n",
       "      <td>1.0</td>\n",
       "      <td>04928CB-Eco1</td>\n",
       "      <td>C19</td>\n",
       "      <td>TARG1HitCB</td>\n",
       "      <td>D03</td>\n",
       "      <td>NaN</td>\n",
       "      <td>2439</td>\n",
       "      <td>None</td>\n",
       "      <td>27852</td>\n",
       "      <td>TARG1HitCB</td>\n",
       "      <td>5</td>\n",
       "      <td>10000</td>\n",
       "      <td>678101.0</td>\n",
       "      <td>27546.0</td>\n",
       "      <td>8491251.0</td>\n",
       "    </tr>\n",
       "    <tr>\n",
       "      <th>36</th>\n",
       "      <td>710556.0</td>\n",
       "      <td>1.0</td>\n",
       "      <td>04931CB-Eco1</td>\n",
       "      <td>I05</td>\n",
       "      <td>TARG1HitCB</td>\n",
       "      <td>E03</td>\n",
       "      <td>NaN</td>\n",
       "      <td>2439</td>\n",
       "      <td>None</td>\n",
       "      <td>27852</td>\n",
       "      <td>TARG1HitCB</td>\n",
       "      <td>5</td>\n",
       "      <td>10000</td>\n",
       "      <td>679084.0</td>\n",
       "      <td>27549.0</td>\n",
       "      <td>8492914.0</td>\n",
       "    </tr>\n",
       "    <tr>\n",
       "      <th>48</th>\n",
       "      <td>711055.0</td>\n",
       "      <td>1.0</td>\n",
       "      <td>04932CB-Eco1</td>\n",
       "      <td>N03</td>\n",
       "      <td>TARG1HitCB</td>\n",
       "      <td>A04</td>\n",
       "      <td>NaN</td>\n",
       "      <td>2439</td>\n",
       "      <td>None</td>\n",
       "      <td>27852</td>\n",
       "      <td>TARG1HitCB</td>\n",
       "      <td>5</td>\n",
       "      <td>10000</td>\n",
       "      <td>679583.0</td>\n",
       "      <td>27550.0</td>\n",
       "      <td>8493543.0</td>\n",
       "    </tr>\n",
       "    <tr>\n",
       "      <th>49</th>\n",
       "      <td>711218.0</td>\n",
       "      <td>1.0</td>\n",
       "      <td>04933CB-Eco1</td>\n",
       "      <td>M09</td>\n",
       "      <td>TARG1HitCB</td>\n",
       "      <td>B04</td>\n",
       "      <td>NaN</td>\n",
       "      <td>2439</td>\n",
       "      <td>None</td>\n",
       "      <td>27852</td>\n",
       "      <td>TARG1HitCB</td>\n",
       "      <td>5</td>\n",
       "      <td>10000</td>\n",
       "      <td>679746.0</td>\n",
       "      <td>27551.0</td>\n",
       "      <td>8494036.0</td>\n",
       "    </tr>\n",
       "    <tr>\n",
       "      <th>50</th>\n",
       "      <td>711258.0</td>\n",
       "      <td>1.0</td>\n",
       "      <td>04933CB-Eco1</td>\n",
       "      <td>E10</td>\n",
       "      <td>TARG1HitCB</td>\n",
       "      <td>C04</td>\n",
       "      <td>NaN</td>\n",
       "      <td>2439</td>\n",
       "      <td>None</td>\n",
       "      <td>27852</td>\n",
       "      <td>TARG1HitCB</td>\n",
       "      <td>5</td>\n",
       "      <td>10000</td>\n",
       "      <td>679786.0</td>\n",
       "      <td>27551.0</td>\n",
       "      <td>8493845.0</td>\n",
       "    </tr>\n",
       "    <tr>\n",
       "      <th>51</th>\n",
       "      <td>713617.0</td>\n",
       "      <td>1.0</td>\n",
       "      <td>04940CB-Eco1</td>\n",
       "      <td>N07</td>\n",
       "      <td>TARG1HitCB</td>\n",
       "      <td>D04</td>\n",
       "      <td>NaN</td>\n",
       "      <td>2439</td>\n",
       "      <td>None</td>\n",
       "      <td>27852</td>\n",
       "      <td>TARG1HitCB</td>\n",
       "      <td>5</td>\n",
       "      <td>10000</td>\n",
       "      <td>682145.0</td>\n",
       "      <td>27558.0</td>\n",
       "      <td>8497635.0</td>\n",
       "    </tr>\n",
       "    <tr>\n",
       "      <th>52</th>\n",
       "      <td>713945.0</td>\n",
       "      <td>1.0</td>\n",
       "      <td>04941CB-Eco1</td>\n",
       "      <td>P05</td>\n",
       "      <td>TARG1HitCB</td>\n",
       "      <td>E04</td>\n",
       "      <td>NaN</td>\n",
       "      <td>2439</td>\n",
       "      <td>None</td>\n",
       "      <td>27852</td>\n",
       "      <td>TARG1HitCB</td>\n",
       "      <td>5</td>\n",
       "      <td>10000</td>\n",
       "      <td>682474.0</td>\n",
       "      <td>27559.0</td>\n",
       "      <td>8498192.0</td>\n",
       "    </tr>\n",
       "    <tr>\n",
       "      <th>64</th>\n",
       "      <td>715116.0</td>\n",
       "      <td>1.0</td>\n",
       "      <td>04945CB-Eco1</td>\n",
       "      <td>I08</td>\n",
       "      <td>TARG1HitCB</td>\n",
       "      <td>A05</td>\n",
       "      <td>NaN</td>\n",
       "      <td>2439</td>\n",
       "      <td>None</td>\n",
       "      <td>27852</td>\n",
       "      <td>TARG1HitCB</td>\n",
       "      <td>5</td>\n",
       "      <td>10000</td>\n",
       "      <td>683645.0</td>\n",
       "      <td>27563.0</td>\n",
       "      <td>8500071.0</td>\n",
       "    </tr>\n",
       "    <tr>\n",
       "      <th>65</th>\n",
       "      <td>717108.0</td>\n",
       "      <td>1.0</td>\n",
       "      <td>04951CB-Eco1</td>\n",
       "      <td>H11</td>\n",
       "      <td>TARG1HitCB</td>\n",
       "      <td>B05</td>\n",
       "      <td>NaN</td>\n",
       "      <td>2439</td>\n",
       "      <td>None</td>\n",
       "      <td>27852</td>\n",
       "      <td>TARG1HitCB</td>\n",
       "      <td>5</td>\n",
       "      <td>10000</td>\n",
       "      <td>685637.0</td>\n",
       "      <td>27569.0</td>\n",
       "      <td>8503116.0</td>\n",
       "    </tr>\n",
       "    <tr>\n",
       "      <th>66</th>\n",
       "      <td>727228.0</td>\n",
       "      <td>1.0</td>\n",
       "      <td>04983CB-Eco1</td>\n",
       "      <td>A04</td>\n",
       "      <td>TARG1HitCB</td>\n",
       "      <td>C05</td>\n",
       "      <td>NaN</td>\n",
       "      <td>2439</td>\n",
       "      <td>None</td>\n",
       "      <td>27852</td>\n",
       "      <td>TARG1HitCB</td>\n",
       "      <td>5</td>\n",
       "      <td>10000</td>\n",
       "      <td>695763.0</td>\n",
       "      <td>27704.0</td>\n",
       "      <td>8528796.0</td>\n",
       "    </tr>\n",
       "    <tr>\n",
       "      <th>67</th>\n",
       "      <td>727590.0</td>\n",
       "      <td>1.0</td>\n",
       "      <td>04984CB-Eco1</td>\n",
       "      <td>I08</td>\n",
       "      <td>TARG1HitCB</td>\n",
       "      <td>D05</td>\n",
       "      <td>NaN</td>\n",
       "      <td>2439</td>\n",
       "      <td>None</td>\n",
       "      <td>27852</td>\n",
       "      <td>TARG1HitCB</td>\n",
       "      <td>5</td>\n",
       "      <td>10000</td>\n",
       "      <td>696125.0</td>\n",
       "      <td>27705.0</td>\n",
       "      <td>8529287.0</td>\n",
       "    </tr>\n",
       "    <tr>\n",
       "      <th>68</th>\n",
       "      <td>727599.0</td>\n",
       "      <td>1.0</td>\n",
       "      <td>04984CB-Eco1</td>\n",
       "      <td>K06</td>\n",
       "      <td>TARG1HitCB</td>\n",
       "      <td>E05</td>\n",
       "      <td>NaN</td>\n",
       "      <td>2439</td>\n",
       "      <td>None</td>\n",
       "      <td>27852</td>\n",
       "      <td>TARG1HitCB</td>\n",
       "      <td>5</td>\n",
       "      <td>10000</td>\n",
       "      <td>696134.0</td>\n",
       "      <td>27705.0</td>\n",
       "      <td>8529333.0</td>\n",
       "    </tr>\n",
       "    <tr>\n",
       "      <th>80</th>\n",
       "      <td>997831.0</td>\n",
       "      <td>1.0</td>\n",
       "      <td>05067CB-Eco1</td>\n",
       "      <td>P17</td>\n",
       "      <td>TARG1HitCB</td>\n",
       "      <td>A06</td>\n",
       "      <td>NaN</td>\n",
       "      <td>2439</td>\n",
       "      <td>None</td>\n",
       "      <td>27852</td>\n",
       "      <td>TARG1HitCB</td>\n",
       "      <td>5</td>\n",
       "      <td>10000</td>\n",
       "      <td>1094541.0</td>\n",
       "      <td>27732.0</td>\n",
       "      <td>8539832.0</td>\n",
       "    </tr>\n",
       "    <tr>\n",
       "      <th>81</th>\n",
       "      <td>999539.0</td>\n",
       "      <td>1.0</td>\n",
       "      <td>05073CB-Eco1</td>\n",
       "      <td>G09</td>\n",
       "      <td>TARG1HitCB</td>\n",
       "      <td>B06</td>\n",
       "      <td>NaN</td>\n",
       "      <td>2439</td>\n",
       "      <td>None</td>\n",
       "      <td>27852</td>\n",
       "      <td>TARG1HitCB</td>\n",
       "      <td>5</td>\n",
       "      <td>10000</td>\n",
       "      <td>1096342.0</td>\n",
       "      <td>27780.0</td>\n",
       "      <td>8558040.0</td>\n",
       "    </tr>\n",
       "    <tr>\n",
       "      <th>82</th>\n",
       "      <td>1001067.0</td>\n",
       "      <td>1.0</td>\n",
       "      <td>05078CB-Eco1</td>\n",
       "      <td>O17</td>\n",
       "      <td>TARG1HitCB</td>\n",
       "      <td>C06</td>\n",
       "      <td>NaN</td>\n",
       "      <td>2439</td>\n",
       "      <td>None</td>\n",
       "      <td>27852</td>\n",
       "      <td>TARG1HitCB</td>\n",
       "      <td>5</td>\n",
       "      <td>10000</td>\n",
       "      <td>1097933.0</td>\n",
       "      <td>27785.0</td>\n",
       "      <td>8560160.0</td>\n",
       "    </tr>\n",
       "    <tr>\n",
       "      <th>83</th>\n",
       "      <td>1004921.0</td>\n",
       "      <td>1.0</td>\n",
       "      <td>05090CB-Eco1</td>\n",
       "      <td>H15</td>\n",
       "      <td>TARG1HitCB</td>\n",
       "      <td>D06</td>\n",
       "      <td>NaN</td>\n",
       "      <td>2439</td>\n",
       "      <td>None</td>\n",
       "      <td>27852</td>\n",
       "      <td>TARG1HitCB</td>\n",
       "      <td>5</td>\n",
       "      <td>10000</td>\n",
       "      <td>1101940.0</td>\n",
       "      <td>27718.0</td>\n",
       "      <td>8534262.0</td>\n",
       "    </tr>\n",
       "    <tr>\n",
       "      <th>84</th>\n",
       "      <td>1009438.0</td>\n",
       "      <td>1.0</td>\n",
       "      <td>05104CB-Eco1</td>\n",
       "      <td>L08</td>\n",
       "      <td>TARG1HitCB</td>\n",
       "      <td>E06</td>\n",
       "      <td>NaN</td>\n",
       "      <td>2439</td>\n",
       "      <td>None</td>\n",
       "      <td>27852</td>\n",
       "      <td>TARG1HitCB</td>\n",
       "      <td>5</td>\n",
       "      <td>10000</td>\n",
       "      <td>1106457.0</td>\n",
       "      <td>27733.0</td>\n",
       "      <td>8540111.0</td>\n",
       "    </tr>\n",
       "    <tr>\n",
       "      <th>96</th>\n",
       "      <td>1012335.0</td>\n",
       "      <td>1.0</td>\n",
       "      <td>05113CB-Eco1</td>\n",
       "      <td>N08</td>\n",
       "      <td>TARG1HitCB</td>\n",
       "      <td>A07</td>\n",
       "      <td>NaN</td>\n",
       "      <td>2439</td>\n",
       "      <td>None</td>\n",
       "      <td>27852</td>\n",
       "      <td>TARG1HitCB</td>\n",
       "      <td>5</td>\n",
       "      <td>10000</td>\n",
       "      <td>1109354.0</td>\n",
       "      <td>27742.0</td>\n",
       "      <td>8543615.0</td>\n",
       "    </tr>\n",
       "  </tbody>\n",
       "</table>\n",
       "</div>"
      ],
      "text/plain": [
       "    ICL_IC_ID  ICL_LOT_NUM  Source_plate Source_well  IP_BARCODE  \\\n",
       "32   706120.0          1.0  04916CB-Eco1         P21  TARG1HitCB   \n",
       "33   707527.0          1.0  04921CB-Eco1         L05  TARG1HitCB   \n",
       "34   708792.0          1.0  04925CB-Eco1         H17  TARG1HitCB   \n",
       "35   709573.0          1.0  04928CB-Eco1         C19  TARG1HitCB   \n",
       "36   710556.0          1.0  04931CB-Eco1         I05  TARG1HitCB   \n",
       "48   711055.0          1.0  04932CB-Eco1         N03  TARG1HitCB   \n",
       "49   711218.0          1.0  04933CB-Eco1         M09  TARG1HitCB   \n",
       "50   711258.0          1.0  04933CB-Eco1         E10  TARG1HitCB   \n",
       "51   713617.0          1.0  04940CB-Eco1         N07  TARG1HitCB   \n",
       "52   713945.0          1.0  04941CB-Eco1         P05  TARG1HitCB   \n",
       "64   715116.0          1.0  04945CB-Eco1         I08  TARG1HitCB   \n",
       "65   717108.0          1.0  04951CB-Eco1         H11  TARG1HitCB   \n",
       "66   727228.0          1.0  04983CB-Eco1         A04  TARG1HitCB   \n",
       "67   727590.0          1.0  04984CB-Eco1         I08  TARG1HitCB   \n",
       "68   727599.0          1.0  04984CB-Eco1         K06  TARG1HitCB   \n",
       "80   997831.0          1.0  05067CB-Eco1         P17  TARG1HitCB   \n",
       "81   999539.0          1.0  05073CB-Eco1         G09  TARG1HitCB   \n",
       "82  1001067.0          1.0  05078CB-Eco1         O17  TARG1HitCB   \n",
       "83  1004921.0          1.0  05090CB-Eco1         H15  TARG1HitCB   \n",
       "84  1009438.0          1.0  05104CB-Eco1         L08  TARG1HitCB   \n",
       "96  1012335.0          1.0  05113CB-Eco1         N08  TARG1HitCB   \n",
       "\n",
       "   IW_COORDINATES  [compound] uM  Assay ID Plate_ID  IW_IP_ID  IW_BARCODE  \\\n",
       "32            A03            NaN      2439     None     27852  TARG1HitCB   \n",
       "33            B03            NaN      2439     None     27852  TARG1HitCB   \n",
       "34            C03            NaN      2439     None     27852  TARG1HitCB   \n",
       "35            D03            NaN      2439     None     27852  TARG1HitCB   \n",
       "36            E03            NaN      2439     None     27852  TARG1HitCB   \n",
       "48            A04            NaN      2439     None     27852  TARG1HitCB   \n",
       "49            B04            NaN      2439     None     27852  TARG1HitCB   \n",
       "50            C04            NaN      2439     None     27852  TARG1HitCB   \n",
       "51            D04            NaN      2439     None     27852  TARG1HitCB   \n",
       "52            E04            NaN      2439     None     27852  TARG1HitCB   \n",
       "64            A05            NaN      2439     None     27852  TARG1HitCB   \n",
       "65            B05            NaN      2439     None     27852  TARG1HitCB   \n",
       "66            C05            NaN      2439     None     27852  TARG1HitCB   \n",
       "67            D05            NaN      2439     None     27852  TARG1HitCB   \n",
       "68            E05            NaN      2439     None     27852  TARG1HitCB   \n",
       "80            A06            NaN      2439     None     27852  TARG1HitCB   \n",
       "81            B06            NaN      2439     None     27852  TARG1HitCB   \n",
       "82            C06            NaN      2439     None     27852  TARG1HitCB   \n",
       "83            D06            NaN      2439     None     27852  TARG1HitCB   \n",
       "84            E06            NaN      2439     None     27852  TARG1HitCB   \n",
       "96            A07            NaN      2439     None     27852  TARG1HitCB   \n",
       "\n",
       "    IW_VOL_UL  IW_CONC_UM  IW_ICL_ID  Source_IW_IP_ID  IW_SOURCE_ID  \n",
       "32          5       10000   674482.0          27534.0     8485433.0  \n",
       "33          5       10000   676054.0          27539.0     8487876.0  \n",
       "34          5       10000   677320.0          27543.0     8489836.0  \n",
       "35          5       10000   678101.0          27546.0     8491251.0  \n",
       "36          5       10000   679084.0          27549.0     8492914.0  \n",
       "48          5       10000   679583.0          27550.0     8493543.0  \n",
       "49          5       10000   679746.0          27551.0     8494036.0  \n",
       "50          5       10000   679786.0          27551.0     8493845.0  \n",
       "51          5       10000   682145.0          27558.0     8497635.0  \n",
       "52          5       10000   682474.0          27559.0     8498192.0  \n",
       "64          5       10000   683645.0          27563.0     8500071.0  \n",
       "65          5       10000   685637.0          27569.0     8503116.0  \n",
       "66          5       10000   695763.0          27704.0     8528796.0  \n",
       "67          5       10000   696125.0          27705.0     8529287.0  \n",
       "68          5       10000   696134.0          27705.0     8529333.0  \n",
       "80          5       10000  1094541.0          27732.0     8539832.0  \n",
       "81          5       10000  1096342.0          27780.0     8558040.0  \n",
       "82          5       10000  1097933.0          27785.0     8560160.0  \n",
       "83          5       10000  1101940.0          27718.0     8534262.0  \n",
       "84          5       10000  1106457.0          27733.0     8540111.0  \n",
       "96          5       10000  1109354.0          27742.0     8543615.0  "
      ]
     },
     "execution_count": 403,
     "metadata": {},
     "output_type": "execute_result"
    }
   ],
   "source": [
    "# get source wells\n",
    "tuplelist=wells[~wells.ICL_IC_ID.isna()][['Source_plate','Source_well']].to_records(index=False)\n",
    "ids=[]\n",
    "plates=[]\n",
    "with engine.connect() as conn:\n",
    "    for x,y in tuplelist:\n",
    "        stmt=select(inv_plate.c.IP_ID).where(inv_plate.c.IP_BARCODE==x)\n",
    "        ip_ids=[]\n",
    "        for row in conn.execute(stmt):\n",
    "            ip_ids.append(row)\n",
    "        stmt=select(inv_well.c.IW_IP_ID, inv_well.c.IW_COORDINATES, inv_well.c.IW_ID).where(inv_well.c.IW_IP_ID==ip_ids[0][0], inv_well.c.IW_COORDINATES==y)\n",
    "        for row in conn.execute(stmt):\n",
    "           ids.append(row)\n",
    "        plates.append((ip_ids[0][0], x))\n",
    "assert len(wells[~wells.ICL_IC_ID.isna()])==len(ids)\n",
    "\n",
    "ids=pd.DataFrame(ids, columns=['Source_IW_IP_ID', 'Source_well','IW_SOURCE_ID'])\n",
    "\n",
    "# ids=ids.astype(int)\n",
    "ids['Source_plate']=ids.Source_IW_IP_ID.map(dict(plates))\n",
    "\n",
    "wells=wells.merge(ids, how=\"left\")\n",
    "wells[~wells.ICL_IC_ID.isna()]"
   ]
  },
  {
   "cell_type": "code",
   "execution_count": 404,
   "id": "0ece0c40-da70-4fc6-b873-e3d297849989",
   "metadata": {},
   "outputs": [
    {
     "data": {
      "text/plain": [
       "['IW_SOURCE_ID',\n",
       " 'IW_IP_ID',\n",
       " 'IW_BARCODE',\n",
       " 'IW_WELL_INDEX',\n",
       " 'IW_COORDINATES',\n",
       " 'IW_ICL_ID',\n",
       " 'IW_VOL_UL',\n",
       " 'IW_CONC_UM',\n",
       " 'IW_FINAL_CONC_NM',\n",
       " 'IW_DILUTION_FACTOR',\n",
       " 'IW_FREEZETHAW',\n",
       " 'IW_INS_BY',\n",
       " 'IW_INS_DATE',\n",
       " 'IW_CONTAM',\n",
       " 'IW_NOTES']"
      ]
     },
     "execution_count": 404,
     "metadata": {},
     "output_type": "execute_result"
    }
   ],
   "source": [
    "inv_well_cols"
   ]
  },
  {
   "cell_type": "code",
   "execution_count": 405,
   "id": "1e0bba39-0e86-49cd-97c0-e47ee36df7a1",
   "metadata": {},
   "outputs": [
    {
     "data": {
      "text/html": [
       "<div>\n",
       "<style scoped>\n",
       "    .dataframe tbody tr th:only-of-type {\n",
       "        vertical-align: middle;\n",
       "    }\n",
       "\n",
       "    .dataframe tbody tr th {\n",
       "        vertical-align: top;\n",
       "    }\n",
       "\n",
       "    .dataframe thead th {\n",
       "        text-align: right;\n",
       "    }\n",
       "</style>\n",
       "<table border=\"1\" class=\"dataframe\">\n",
       "  <thead>\n",
       "    <tr style=\"text-align: right;\">\n",
       "      <th></th>\n",
       "      <th>IW_COORDINATES</th>\n",
       "      <th>IW_IP_ID</th>\n",
       "      <th>IW_BARCODE</th>\n",
       "      <th>IW_VOL_UL</th>\n",
       "      <th>IW_CONC_UM</th>\n",
       "      <th>IW_ICL_ID</th>\n",
       "      <th>IW_SOURCE_ID</th>\n",
       "      <th>IW_WELL_INDEX</th>\n",
       "      <th>IW_INS_BY</th>\n",
       "      <th>IW_INS_DATE</th>\n",
       "      <th>IW_CONTAM</th>\n",
       "    </tr>\n",
       "  </thead>\n",
       "  <tbody>\n",
       "    <tr>\n",
       "      <th>0</th>\n",
       "      <td>A01</td>\n",
       "      <td>27852</td>\n",
       "      <td>TARG1HitCB</td>\n",
       "      <td>5</td>\n",
       "      <td>10000</td>\n",
       "      <td>NaN</td>\n",
       "      <td>NaN</td>\n",
       "      <td>1</td>\n",
       "      <td>569</td>\n",
       "      <td>2023-09-26 18:04:14</td>\n",
       "      <td>0</td>\n",
       "    </tr>\n",
       "    <tr>\n",
       "      <th>16</th>\n",
       "      <td>A02</td>\n",
       "      <td>27852</td>\n",
       "      <td>TARG1HitCB</td>\n",
       "      <td>5</td>\n",
       "      <td>10000</td>\n",
       "      <td>NaN</td>\n",
       "      <td>NaN</td>\n",
       "      <td>2</td>\n",
       "      <td>569</td>\n",
       "      <td>2023-09-26 18:04:14</td>\n",
       "      <td>0</td>\n",
       "    </tr>\n",
       "    <tr>\n",
       "      <th>32</th>\n",
       "      <td>A03</td>\n",
       "      <td>27852</td>\n",
       "      <td>TARG1HitCB</td>\n",
       "      <td>5</td>\n",
       "      <td>10000</td>\n",
       "      <td>674482.0</td>\n",
       "      <td>8485433.0</td>\n",
       "      <td>3</td>\n",
       "      <td>569</td>\n",
       "      <td>2023-09-26 18:04:14</td>\n",
       "      <td>0</td>\n",
       "    </tr>\n",
       "    <tr>\n",
       "      <th>48</th>\n",
       "      <td>A04</td>\n",
       "      <td>27852</td>\n",
       "      <td>TARG1HitCB</td>\n",
       "      <td>5</td>\n",
       "      <td>10000</td>\n",
       "      <td>679583.0</td>\n",
       "      <td>8493543.0</td>\n",
       "      <td>4</td>\n",
       "      <td>569</td>\n",
       "      <td>2023-09-26 18:04:14</td>\n",
       "      <td>0</td>\n",
       "    </tr>\n",
       "    <tr>\n",
       "      <th>64</th>\n",
       "      <td>A05</td>\n",
       "      <td>27852</td>\n",
       "      <td>TARG1HitCB</td>\n",
       "      <td>5</td>\n",
       "      <td>10000</td>\n",
       "      <td>683645.0</td>\n",
       "      <td>8500071.0</td>\n",
       "      <td>5</td>\n",
       "      <td>569</td>\n",
       "      <td>2023-09-26 18:04:14</td>\n",
       "      <td>0</td>\n",
       "    </tr>\n",
       "  </tbody>\n",
       "</table>\n",
       "</div>"
      ],
      "text/plain": [
       "   IW_COORDINATES  IW_IP_ID  IW_BARCODE  IW_VOL_UL  IW_CONC_UM  IW_ICL_ID  \\\n",
       "0             A01     27852  TARG1HitCB          5       10000        NaN   \n",
       "16            A02     27852  TARG1HitCB          5       10000        NaN   \n",
       "32            A03     27852  TARG1HitCB          5       10000   674482.0   \n",
       "48            A04     27852  TARG1HitCB          5       10000   679583.0   \n",
       "64            A05     27852  TARG1HitCB          5       10000   683645.0   \n",
       "\n",
       "    IW_SOURCE_ID  IW_WELL_INDEX  IW_INS_BY          IW_INS_DATE  IW_CONTAM  \n",
       "0            NaN              1        569  2023-09-26 18:04:14          0  \n",
       "16           NaN              2        569  2023-09-26 18:04:14          0  \n",
       "32     8485433.0              3        569  2023-09-26 18:04:14          0  \n",
       "48     8493543.0              4        569  2023-09-26 18:04:14          0  \n",
       "64     8500071.0              5        569  2023-09-26 18:04:14          0  "
      ]
     },
     "execution_count": 405,
     "metadata": {},
     "output_type": "execute_result"
    }
   ],
   "source": [
    "plate_map=wells[[x for x in wells.columns if x.startswith('IW_')]].copy()\n",
    "\n",
    "plate_map['IW_WELL_INDEX']=plate_map.IW_COORDINATES.map(wellidx)\n",
    "\n",
    "plate_map['IW_INS_BY']=569\n",
    "plate_map['IW_INS_DATE']=datetime.now().strftime('%Y-%m-%d %H:%M:%S')\n",
    "plate_map['IW_CONTAM']=0\n",
    "\n",
    "plate_map=plate_map.sort_values(['IW_IP_ID', 'IW_COORDINATES'])\n",
    "plate_map.head()"
   ]
  },
  {
   "cell_type": "code",
   "execution_count": 406,
   "id": "1a3560b2-9b6d-4310-8a49-2afb4cc181ed",
   "metadata": {},
   "outputs": [
    {
     "data": {
      "text/plain": [
       "(384, 11)"
      ]
     },
     "execution_count": 406,
     "metadata": {},
     "output_type": "execute_result"
    }
   ],
   "source": [
    "plate_map.shape"
   ]
  },
  {
   "cell_type": "code",
   "execution_count": 407,
   "id": "7fafbe08-b656-46b4-aa03-9676fcd49086",
   "metadata": {},
   "outputs": [],
   "source": [
    "# check IP_ID doesn't exist in INV_WELL yet\n",
    "stmt=select(inv_well).where(inv_well.c.IW_IP_ID.in_(tuple(wells.IW_IP_ID.unique())))\n",
    "with engine.connect() as conn:\n",
    "    result=conn.execute(stmt)\n",
    "    assert result.rowcount==0, \"Wells exist for these plates\""
   ]
  },
  {
   "cell_type": "code",
   "execution_count": 408,
   "id": "1065ab97-6205-4dc2-85e9-842c9adb3c88",
   "metadata": {},
   "outputs": [
    {
     "data": {
      "text/plain": [
       "(384, 11)"
      ]
     },
     "execution_count": 408,
     "metadata": {},
     "output_type": "execute_result"
    }
   ],
   "source": [
    "plate_map.shape"
   ]
  },
  {
   "cell_type": "code",
   "execution_count": 409,
   "id": "b64f014e-627b-4220-b9aa-452c9a335239",
   "metadata": {},
   "outputs": [
    {
     "data": {
      "text/plain": [
       "384"
      ]
     },
     "execution_count": 409,
     "metadata": {},
     "output_type": "execute_result"
    }
   ],
   "source": [
    "# # insert... careful here\n",
    "# plate_map.to_sql(name='INV_WELL', con=engine, if_exists = 'append', index=False)"
   ]
  },
  {
   "cell_type": "code",
   "execution_count": 410,
   "id": "fc1ac050-1c46-4167-8778-d8182e841dfd",
   "metadata": {},
   "outputs": [],
   "source": [
    "engine.dispose()"
   ]
  },
  {
   "cell_type": "code",
   "execution_count": 499,
   "id": "0e6bbee9-7342-4810-b838-ffc6a4a929f5",
   "metadata": {},
   "outputs": [],
   "source": [
    "# plate_map.to_csv('EnamCov_wells.csv')"
   ]
  },
  {
   "cell_type": "code",
   "execution_count": null,
   "id": "bb08e229-9bc9-4fba-9363-6c96146fc6f7",
   "metadata": {},
   "outputs": [],
   "source": []
  }
 ],
 "metadata": {
  "kernelspec": {
   "display_name": "smdc",
   "language": "python",
   "name": "smdc"
  },
  "language_info": {
   "codemirror_mode": {
    "name": "ipython",
    "version": 3
   },
   "file_extension": ".py",
   "mimetype": "text/x-python",
   "name": "python",
   "nbconvert_exporter": "python",
   "pygments_lexer": "ipython3",
   "version": "3.11.4"
  }
 },
 "nbformat": 4,
 "nbformat_minor": 5
}
