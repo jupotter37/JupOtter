{
 "cells": [
  {
   "cell_type": "code",
   "execution_count": 1,
   "metadata": {},
   "outputs": [],
   "source": [
    "\n",
    "from accelerate import FullyShardedDataParallelPlugin, Accelerator\n",
    "from torch.distributed.fsdp.fully_sharded_data_parallel import FullOptimStateDictConfig, FullStateDictConfig\n",
    "fsdp_plugin = FullyShardedDataParallelPlugin(\n",
    "    state_dict_config=FullStateDictConfig(offload_to_cpu=True, rank0_only=False),\n",
    "    optim_state_dict_config=FullOptimStateDictConfig(offload_to_cpu=True, rank0_only=False),\n",
    ")\n",
    "accelerator = Accelerator(fsdp_plugin=fsdp_plugin)"
   ]
  },
  {
   "cell_type": "markdown",
   "metadata": {},
   "source": [
    "#Loading the dataset from hugging face repository\n",
    "1. train set: used for training the model\n",
    "2. validation: used for validation set\n",
    "3. test_dataset = used for testing the dataset and checking the perfomance\n",
    "the data splitted into 70% trainingset 30% for testing and validation and further the 30% splitted into 50% test_set and 50%  validation_set\n"
   ]
  },
  {
   "cell_type": "code",
   "execution_count": 7,
   "metadata": {},
   "outputs": [
    {
     "name": "stdout",
     "output_type": "stream",
     "text": [
      "\n",
      "Training Dataset:\n",
      "{'text': ['ADVERTISMENT አፊያ ሙሀመድ ከፍተኛ የባህል ሕክምና እና ዘመናዊ የዋግምት አገልግሎት የምንሰጣቸው የባህል ህክምናዎች ➢ ለውጭና ለውስጥ ኪንታሮት ➢ ለማድያት ➢ ለሱኳር በሽታ ➢ለጉበት(ለወፍ በሽታ) ➢ለጨጎራ ህመም ➢ለስፈተወሲብ ➢ለደም ግፊት ➢ለአስም ወይም ሳይነስ ➢ለሚጥል በሺታ ➢ ለእሪህና ቁርጥማት ➢ለራስ ህመም (ማይግሪን) ➢ለቺፌ ና ለጭርት ➢ለቋቁቻና ፎረፎር ➢ለእጢና ለእባጭ ➢ለወገብ ህመም ➢ለመካንነት ለወድም ለሴትም ➢ለጆሮና ለአይን ህመም ➢ለሆድ ህመም ➢ዘመናዊ የዋግምት አገልግሎት በተቋማችን እንሰጣለን። 👉ከኢትዮጵያ ባህላዊ ህክምና አዋቂዎች ማህበር በዘርፉ ህጋዊ የባህል ህክምና ፍቃድ ያለን ነን። አድራሻ:አዲስ አበባ አየር ጤና ስልክ ቁጥር 📲0927506650 📲0987133734 📲0939605455 ቴሌግራም ቻናላችን ntvE5NmM0', 'ከአዝናኝ ጨዋታዎች እና ሽልማቶች ጋር በያላችሁበት እየደረስን ነው፡፡ ዕድሉ አያምልጣችሁ፤ አረንጓዴው የሳፋሪኮም አውቶብሳችን ባለበት በኩል ስታልፉ ተቀላቀሉን በአብሮነት ቆንጆ ጊዜ እናሳልፍ!\\n\\n#Gursha\\n#SafaricomEthiopia #FurtherAheadTogether', 'ይነበብ! ቴዲ አፍሮ ከአሜሪካ መልክት ለኢትዮጵያውያን አስተላላፊ። ዶክተር አብይን ሀገር ውስጥ ሆኜ ባለመደገፌ በተሰምቶኛል።', 'በሳፋሪኮም ምቹ የድምጽ ፣ የፅሁፍ መልዕክት እና ፈጣን 4G የኢንተርኔት ድህረ ክፍያ ጥቅሎች ያለሃሳብ እንስራ ፤ ንግዳችንን እናሳድግ!\\n\\nለአገልግሎቱ ለመመዝገብ የሳፋሪኮምን ድህረ - ገፅ እንጎብኝ፣ ወደ 0700 755 755 or 0700 700 755 እንደውል ወይም ወደ enterprisesupport@safaricom.et ኢሜይል እንላክ።\\n\\n#SafaricomBusiness #FurtherAheadTogether', 'News Alert ‼️ የሀዋሳ ከተማ እና አካባቢዋ ፀጥታ በመከላከያ እና በፌደራል ፓሊስ እዝ ሥር እንደሆነ ተውስኗል የሚል ከመሸ በመሰራጨት ላይ ይገኛል የዚህ ዜና እውነታ ለማጣራት ሙከራ አድርገና የደረስንበት ከእውነት የራቀ መሆኑን ለመረዳት ችለናል። በዚህ ጉዳይ ላይ መረጃው አለኝ የምትሉ መረጃ በ ላይ መላክ ትችላላችሁ።'], 'Human_Label': ['healthcare &pharma', 'Telecom', 'Media', 'Telecom', 'Media']}\n",
      "\n",
      "Validation Dataset:\n",
      "{'text': ['ADVERTISMENT አፊያ ሙሀመድ ከፍተኛ የባህል ሕክምና እና ዘመናዊ የዋግምት አገልግሎት የምንሰጣቸው የባህል ህክምናዎች ➢ ለውጭና ለውስጥ ኪንታሮት ➢ ለማድያት ➢ ለሱኳር በሽታ ➢ለጉበት(ለወፍ በሽታ) ➢ለጨጎራ ህመም ➢ለስፈተወሲብ ➢ለደም ግፊት ➢ለአስም ወይም ሳይነስ ➢ለሚጥል በሺታ ➢ ለእሪህና ቁርጥማት ➢ለራስ ህመም (ማይግሪን) ➢ለቺፌ ና ለጭርት ➢ለቋቁቻና ፎረፎር ➢ለእጢና ለእባጭ ➢ለወገብ ህመም ➢ለመካንነት ለወድም ለሴትም ➢ለጆሮና ለአይን ህመም ➢ለሆድ ህመም ➢ዘመናዊ የዋግምት አገልግሎት በተቋማችን እንሰጣለን። 👉ከኢትዮጵያ ባህላዊ ህክምና አዋቂዎች ማህበር በዘርፉ ህጋዊ የባህል ህክምና ፍቃድ ያለን ነን። አድራሻ:አዲስ አበባ አየር ጤና ስልክ ቁጥር 📲0927506650 📲0987133734 📲0939605455 ቴሌግራም ቻናላችን ntvE5NmM0', 'ADVERTISMENT መልካም ነገር ከሉሲ የአጥንትና የመገጣጠሚያ ቀዶ ሕክምና ማእከል ለአጥንትና ለመገጣጠሚያ ችግሮችና ህመሞች አይነተኛ መፍትሄ የምንሰጣቸው የህክምና አገልግሎቶች ✔ማንኛውም ስብራትና ውልቃት ሕክምና ✔የጉልበትና ዳሌ መገጣጠሚያ ችግር ✔ውስብስብ ከባድ ስብራቶችና ውልቃቶች ✔የጡንቻና የጅማት ጉዳት ህመሞችን ማከም ✔የሕፃናት እና አዋቂዎች እጅና እግር መጣመም ማስተካከል ✔ስብራቶችንና ውልቃቶችን ያለ ቀዶ ሕክምና ማከም ✔በቀዶ ሕክምና የገቡ የተለያዩ ብረቶችን ማውጣት ✔የፕላስቲክ ሰርጀሪ ሕክምና ✔በዳሌና ዳሌ ገንዳ ስብራቶችን በፍሎሮስኮፒ የታገዘ ሕክምና ማድረግ 📌ልምድና ብቃት ባላቸው ስፔሻሊስት እና ሰብ ስፔሻሊስት ሀኪሞች እጅግ ዘመናዊ በሆኑ የህክምና መሳሪያወች በመታገዝ ሁሉንም የህክምና አገልግሎቶች በተመጣጣኝ ዋጋ ያገኛሉ‼ አድራሻ : አየር ጤና ጅማበር ፖሊስ ጣቢያ ጎን 📲 0913468103 0953912229', 'ADVERTISMENT ሰለሞን ጌታቸው የተመሰከረለት የሂሳብ አዋቂና የንግድ አማካሪ ድርጅት የምንሰጣቸው አገልግሎቶች ✔ ለድርጅትዎ በIFRS የታገዘ ዘመናዊ የሂሳብ አያያዝ ስርኣትን መዘርጋት ✔የሂሳብ መዝገብ አያያዝ ስልጠና መስጠት ✔ በማንኛውም የቢዝነስ ጉዳይ የማማከር አገልግሎት ✔ለሁሉም ዘርፍ የፕሮጀክት ቢዝነስ ፕላን ማዘጋጀትና ስለ ስራው በዝርዝር ማማከር ✔ በፒኤችትሪ አካውንቲግ ስልጠና በግልም ሆነ በቡድን መስጠት ከብዙ አገልግሎቶቻችን ይጠቀሳሉ።በአገልግሎቶቻችን ይረካሉ። አድራሻ:—ደሴ ከተማ ምንትዋብ አዳራሽ ፊት ለፊት ኪራይ ቤቶች ህንፃ 2ኛ ፎቅ ቢሮ ቁጥር S 6 ስልክ:— 📲 0911839966 0913018399 0908001616 ሰለሞን ጌታቸው የተመሰከረለት የሂሳብ አዋቂና የንግድ አማካሪ ድርጅት', 'Samsung A04 በመግዛት ህይወታችንን እናዘምን! ዛሬውኑ አቅራቢያችን ወዳለ የሳፋሪኮም ሱቅ ጎራ በማለት የግላችን እናድርገዉ።\\n\\n#SafaricomEthiopia \\n#FurtherAheadTogether', 'እንኳን ደስ አለህ ፋሂም!\\xa0\\nፋሂም ዚያድ ከድሬዳዋ በእጣ ቁጥር S026160222\\xa0 \\u200b\\u200bየተረክ በጉርሻ ሞተርሳይክል አሸናፊ ሆኗል።\\n\\nየሳፋሪኮም አገልግሎቶችን በመጠቀም ፣ ቀሪዎቹን ሽልማቶች እናሸንፍ!\\n\\n#FurtherAheadTogether'], 'Human_Label': ['healthcare &pharma', 'healthcare &pharma', 'financial service', 'Telecom', 'Telecom']}\n",
      "\n",
      "Test Dataset:\n",
      "{'text': ['ADVERTISMENT አፊያ ሙሀመድ ከፍተኛ የባህል ሕክምና እና ዘመናዊ የዋግምት አገልግሎት የምንሰጣቸው የባህል ህክምናዎች ➢ ለውጭና ለውስጥ ኪንታሮት ➢ ለማድያት ➢ ለሱኳር በሽታ ➢ለጉበት(ለወፍ በሽታ) ➢ለጨጎራ ህመም ➢ለስፈተወሲብ ➢ለደም ግፊት ➢ለአስም ወይም ሳይነስ ➢ለሚጥል በሺታ ➢ ለእሪህና ቁርጥማት ➢ለራስ ህመም (ማይግሪን) ➢ለቺፌ ና ለጭርት ➢ለቋቁቻና ፎረፎር ➢ለእጢና ለእባጭ ➢ለወገብ ህመም ➢ለመካንነት ለወድም ለሴትም ➢ለጆሮና ለአይን ህመም ➢ለሆድ ህመም ➢ዘመናዊ የዋግምት አገልግሎት በተቋማችን እንሰጣለን። 👉ከኢትዮጵያ ባህላዊ ህክምና አዋቂዎች ማህበር በዘርፉ ህጋዊ የባህል ህክምና ፍቃድ ያለን ነን። አድራሻ:አዲስ አበባ አየር ጤና ስልክ ቁጥር 📲0927506650 📲0987133734 📲0939605455 ቴሌግራም ቻናላችን ntvE5NmM0', 'Bulk SMS ለሁሉም ቢዝነሶቻችን የሚመቹ ጥቅሎች ይዞ መቷል። ከሁለቱ አማራጮች በመምረጥ ዛሬውኑ ለደንበኞቻችን እንደውል፤ ቢዝነሳችንን እናጣጡፍ።\\n\\nለአገልግሎቱ ለመመዝገብ ድህረ - ገጻችንን ይጎብኙ፣ ወደ 0700 755 755 or  0700 700 755 ይደውሉ ወይም ወደ enterprisesupport@safaricom.et ኢሜይል ይላኩ\\n\\n#SafaricomBusiness #FurtherAheadTogether', '⬆️⬆️ስለ ደብረ ማርቆስ ዩኒቨርሲቲ አጭር መረጃ! ዩኒቨርሲቲው ውስጥ ከሚገኙ ሰዎች ያገኘሁት መረጃ: አንድ የዩኒቨርሲቲው የተማሪዎች ህብረት አባል የሆነ ተማሪ ትናንት ጠዋት 4 ሰአት አካባቢ በደረሰበት ድብደባ ህይወቱ አልፏል። የግጭቱ መነሻ እስካሁን አልታወቀም፣ ግን ሟቹ ሲረብሹ የነበሩ ተማሪዎችን ቪድዮ ሲቀርፅ ነበር ሲባል ሰምተናል። ምናልባት ፀቡ በዚህ የተነሳ ሊሆን ይችላል። አሁን ላይ ትምህርት ሙሉ ለሙሉ ተቋርጧል። ትናንት ህይወቱ ያለፈው ተማሪ የትግራይ ተወላጅ ነው። በዚህ ምክንያት ትናንት ምሽት የትግራይ ተማሪዎች አንድ አዳራሽ ውስጥ አድረዋል። ይህም ደህንነታቸውን ለመጠበቅ ታስቦ ይመስለናል። Via Elias Meseret', 'ADVERTISMENT ወሎ ሀይቅ ቤት ከፈለጉ ይደውሉ 👇 ዶ/ር አብዱ፣ ዶ/ር ሙሀመድ እና ጓደኞቻቸው ሪልስቴት የማልማትና የማከፋፈል ህ/ሽ/ማ በወሎ ሀይቅ ከተማ የአፖርታማ እጣ ሽያጭ ጀምሯል፡፡ ① የቦታው መገኛ ሀይቅ ከተማ ከፒያሳ 250ሜ ወደ ሀይቁ አቅጣጫ አዲሱ አስፓልት ዳር ② የቦታው አገልግሎት ቅይጥ ③ አንድ እጣ 60 ካሜ የመኖሪያ አፓርታማ እና 10 ካሬ የሱቅ ቦታ ከፓርኪንግ ጋር ④ ግንባታ በጋራ ወጪ ነው፡፡ ⑤ ቦታው በሪልስቴቱ ባለቤትነት የተመዘገበ ነው። ለበለጠ መረጃ:— 0937411111 0938411111 ታማኝነት መገለጫችን ነው። ዶ/ር አብዱ፣ ዶ/ር ሙሀመድ እና ጓደኞቻቸው ሪልስቴት የማልማትና የማከፋፈል ህ/ሽ/ማ', 'ADVERTISMENT ሰላም👋 እንኳን ወደ Writer’s Desk Consultancy በሰላም መጡ‼ስራችን ማማከር ነው።ለውጤት የሚያበቃ ምክር እንሰጣለን‼ ① ቪዛ ማማከር አገልግሎት ✔እንደ ካናዳ፣ አውስትራሊያ፣ ጃፓን፣ ቻይና እና ሌሎች ላሉ ታዋቂ መዳረሻዎች የስራ እና የጉብኝት ቪዛ እንዲያገኙ ማማከር ✔አስፈላጊ ሰነዶችን ከማዘጋጀት ጀምሮ ለኢንተርቪው እስክማሰልጠን እና ከፍተኛ የቪዛ ማረጋገጫ ተመኖችን ተጠቅሞ ደንበኞችን ማዘጋጀት ②ተማሪዎች ማማከር አገልግሎት ✔ተማሪዎች ተስማሚ የሆነ የውጪ ሀገር ኮሌጆችን እንዲያገኙ ማማክር ✔እንደ IELTS ላሉ ፈተናዎች ተማሪዎችን ብቁ ማድረግ እና ተማሪዎችን ለቪዛ ኢንተርቪው የማዘጋጀት ስራ እንሰራለን፡፡ ③የፅሁፍ አገልግሎቶች፡ ✔ይህ ከፍተኛ ዲግሪ ያላቸው እና ከተለያዩ ዲፓርትመንት የመጡ ለአካዳሚክ ፀሀፊዎች እና የላቀ ችሎታ ላላቸው የፈጠራ ፀሃፊዎች ነው፡፡ ✔ድርጅታችን ተማሪዎችን፣ ኩባንያዎችን ወይም ግለሰቦችን 24/7 ከሚገኙ የአካዳሚክ ፀሃፊዎች ጋር ያገናኛል:: ለእርስዎ የቲሲስ ወረቀቶች፣ blog ፅሁፎች፣ website content፣ ወይም ማንኛውም የፅሁፍ ፕሮጀክቶች ላይም ያማክሩዎታል። 👉ለማንኛውም የቪዛ አገልግሎቶች የማመልከቻ ክፍያ አለማስክፈላችንም ልዩ ያረገናል‼ Writer’s Desk Consultancy ዛሬውኑ ያግኙን👇 ስልክ ቁጥር፡—0944096500 ቴሌግራም ቻናል: ስራችን ማማከር ነው።ለውጤት የሚያበቃ ምክር እንሰጣለን‼'], 'Human_Label': ['healthcare &pharma', 'Telecom', 'Media', 'financial service', 'financial service']}\n"
     ]
    }
   ],
   "source": [
    "from datasets import load_dataset\n",
    "\n",
    "# Load the 'Tvsybkzkmapab/Amharic_ad_generation' dataset\n",
    "dataset = load_dataset('Tvsybkzkmapab/Amharic_ad_generation')\n",
    "\n",
    "# Access the 'train', 'validation', and 'test' splits\n",
    "train_dataset = dataset['train']\n",
    "validation_dataset = dataset['validation']\n",
    "test_dataset = dataset['test']\n",
    "\n",
    "# Print the first few samples from each split\n",
    "print(\"\\nTraining Dataset:\")\n",
    "print(train_dataset[:5])\n",
    "\n",
    "print(\"\\nValidation Dataset:\")\n",
    "print(validation_dataset[:5])\n",
    "\n",
    "print(\"\\nTest Dataset:\")\n",
    "print(test_dataset[:5])"
   ]
  },
  {
   "cell_type": "code",
   "execution_count": 4,
   "metadata": {},
   "outputs": [],
   "source": [
    "import sentencepiece as spm\n",
    "import torch\n",
    "\n",
    "# Load your SentencePiece tokenizer\n",
    "sp = spm.SentencePieceProcessor(model_file=\"tokenizer.model\")\n",
    "\n",
    "def tokenize(prompt):\n",
    "    # Tokenize the text using SentencePiece\n",
    "    tokenized_sequence = sp.EncodeAsIds(prompt)\n",
    "\n",
    "    # Padding and attention mask handling (adjust based on your tokenizer output)\n",
    "    if len(tokenized_sequence) < 512:\n",
    "        padding_length = 512 - len(tokenized_sequence)\n",
    "        padded_sequence = tokenized_sequence + [0] * padding_length\n",
    "        attention_mask = [1] * len(tokenized_sequence) + [0] * padding_length\n",
    "    else:\n",
    "        padded_sequence = tokenized_sequence[:512]\n",
    "        attention_mask = [1] * 512\n",
    "\n",
    "    # Create labels (adjust if needed)\n",
    "    labels = padded_sequence.copy()\n",
    "\n",
    "    # Convert lists to PyTorch tensors\n",
    "    input_ids = torch.tensor(padded_sequence)\n",
    "    attention_mask = torch.tensor(attention_mask)\n",
    "    labels = torch.tensor(labels)\n",
    "\n",
    "    # Combine data into result dict\n",
    "    return {\n",
    "        \"input_ids\": input_ids,\n",
    "        \"attention_mask\": attention_mask,\n",
    "        \"labels\": labels\n",
    "    }"
   ]
  },
  {
   "cell_type": "code",
   "execution_count": 12,
   "metadata": {},
   "outputs": [
    {
     "ename": "NameError",
     "evalue": "name 'eval_prompt' is not defined",
     "output_type": "error",
     "traceback": [
      "\u001b[0;31m---------------------------------------------------------------------------\u001b[0m",
      "\u001b[0;31mNameError\u001b[0m                                 Traceback (most recent call last)",
      "Cell \u001b[0;32mIn[12], line 2\u001b[0m\n\u001b[1;32m      1\u001b[0m \u001b[38;5;66;03m# Model preparation and text generation\u001b[39;00m\n\u001b[0;32m----> 2\u001b[0m model_input \u001b[38;5;241m=\u001b[39m tokenize(\u001b[43meval_prompt\u001b[49m)  \u001b[38;5;66;03m# Tokenize and create tensors\u001b[39;00m\n\u001b[1;32m      3\u001b[0m model_input \u001b[38;5;241m=\u001b[39m model_input\u001b[38;5;241m.\u001b[39mto(\u001b[38;5;124m\"\u001b[39m\u001b[38;5;124mcuda\u001b[39m\u001b[38;5;124m\"\u001b[39m)  \u001b[38;5;66;03m# Move tensors to GPU if available\u001b[39;00m\n\u001b[1;32m      5\u001b[0m model\u001b[38;5;241m.\u001b[39meval()  \u001b[38;5;66;03m# Set model to evaluation mode\u001b[39;00m\n",
      "\u001b[0;31mNameError\u001b[0m: name 'eval_prompt' is not defined"
     ]
    }
   ],
   "source": [
    "# Model preparation and text generation\n",
    "eval_prompt = \"This is a sample evaluationprompt for the model.\"\n",
    "model_input = tokenize(eval_prompt)  # Tokenize and create tensors\n",
    "model_input = model_input.to(\"cuda\")  # Move tensors to GPU if available\n",
    "\n",
    "model.eval()  # Set model to evaluation mode\n",
    "\n",
    "with torch.no_grad():\n",
    "    generated_text = model.generate(**model_input, max_new_tokens=256, pad_token_id=2)[0]\n",
    "    decoded_text = tokenize.decode(generated_text, skip_special_tokens=True)\n",
    "    print(decoded_text)  # Print the generated text"
   ]
  }
 ],
 "metadata": {
  "kernelspec": {
   "display_name": "Python 3",
   "language": "python",
   "name": "python3"
  },
  "language_info": {
   "codemirror_mode": {
    "name": "ipython",
    "version": 3
   },
   "file_extension": ".py",
   "mimetype": "text/x-python",
   "name": "python",
   "nbconvert_exporter": "python",
   "pygments_lexer": "ipython3",
   "version": "3.8.10"
  }
 },
 "nbformat": 4,
 "nbformat_minor": 2
}
