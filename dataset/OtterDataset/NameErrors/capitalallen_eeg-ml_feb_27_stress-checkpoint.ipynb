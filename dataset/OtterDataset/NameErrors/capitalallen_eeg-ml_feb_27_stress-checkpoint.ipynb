{
 "cells": [
  {
   "cell_type": "code",
   "execution_count": 1,
   "metadata": {},
   "outputs": [],
   "source": [
    "import mat73\n",
    "import numpy as np\n",
    "import matplotlib.pyplot as plt\n",
    "from sklearn.linear_model import LogisticRegression\n",
    "from sklearn.metrics import r2_score\n",
    "from sklearn.metrics import mean_squared_error\n",
    "from IPython.display import display\n",
    "from sklearn.metrics import accuracy_score\n",
    "from sklearn.utils import shuffle\n",
    "from sklearn.ensemble import RandomForestClassifier\n",
    "from sklearn.model_selection import GridSearchCV\n",
    "import pandas as pd \n",
    "import json "
   ]
  },
  {
   "cell_type": "code",
   "execution_count": 14,
   "metadata": {},
   "outputs": [
    {
     "data": {
      "text/plain": [
       "(23, 4, 4)"
      ]
     },
     "execution_count": 14,
     "metadata": {},
     "output_type": "execute_result"
    }
   ],
   "source": []
  },
  {
   "cell_type": "code",
   "execution_count": 30,
   "metadata": {},
   "outputs": [],
   "source": [
    "def convert_mat_np(gender=None):\n",
    "#     f_file = \"./raw_data/Emotrans1_girl_data_preprocessed_42.mat\"\n",
    "#     m_file = \"./raw_data/Emotrans1_Boy_data_preprocessed_42.mat\"\n",
    "    m_file = \"./raw_data/Emotrans1_Boy_data_raw.mat\" \n",
    "    f_file = \"./raw_data/Emotrans1_girl_data_raw.mat\"\n",
    "    # m_file = \"../raw_data/Emotrans1_Boy_data_preprocessed_33.mat\"\n",
    "    # f_file = \"../raw_data/Emotrans1_girl_data_preprocessed_33.mat\"\n",
    "    if gender == \"f\":\n",
    "        data_dict_female = mat73.loadmat(f_file, use_attrdict=True)\n",
    "        return np.array(data_dict_female[\"All_Feature\"])\n",
    "    elif gender == 'm':\n",
    "        data_dict_female = mat73.loadmat(m_file, use_attrdict=True)\n",
    "        return np.array(data_dict_female[\"All_Feature\"])  \n",
    "    else: \n",
    "        raise Exception(\"gender not defined\")"
   ]
  },
  {
   "cell_type": "code",
   "execution_count": 31,
   "metadata": {},
   "outputs": [],
   "source": [
    "m = convert_mat_np(\"m\")\n",
    "f = convert_mat_np(\"f\")"
   ]
  },
  {
   "cell_type": "code",
   "execution_count": 32,
   "metadata": {},
   "outputs": [
    {
     "name": "stdout",
     "output_type": "stream",
     "text": [
      "(23, 4, 4)\n",
      "(23, 4, 4)\n"
     ]
    }
   ],
   "source": [
    "print(m.shape)\n",
    "print(f.shape)\n",
    "# # boy 18, 19, 21\n",
    "# # delete and put to the end of firl \n",
    "# new_f = [] \n",
    "# for i in range(f.shape[0]):\n",
    "#     new_f.append(f[i])\n",
    "# for i in [17,18,20]:\n",
    "#     new_f.append(m[i])\n",
    "# f = np.array(new_f)\n",
    "# # new_arr = []\n",
    "# m = np.delete(m,[17,18,20],axis=0)\n",
    "# print(f.shape)\n",
    "# print(m.shape)\n",
    "# # deleted.shape"
   ]
  },
  {
   "cell_type": "code",
   "execution_count": 4,
   "metadata": {},
   "outputs": [],
   "source": [
    "# type: 0 --> average 3+4 and 1+2; 1--> use only 3 and 2  \n",
    "def get_pos_or_neg(data,position,type=0):\n",
    "    arr = []\n",
    "    index = 0\n",
    "    for i in range(data.shape[0]):\n",
    "#         print(data[i].shape)\n",
    "        if type == 0:\n",
    "            diff = (data[i][position[0][0]][position[0][1]]+data[i][position[1][0]][position[1][1]])/2 - (data[i][position[3][0]][position[3][1]]+data[i][position[2][0]][position[2][1]])/2\n",
    "        elif type == 1:\n",
    "             diff = (data[i][position[1][0]][position[1][1]] - data[i][position[2][0]][position[2][1]])/2\n",
    "        arr.append(diff)\n",
    "    return np.array(arr)"
   ]
  },
  {
   "cell_type": "code",
   "execution_count": 5,
   "metadata": {},
   "outputs": [],
   "source": [
    "# select frequenceis and (0-4s -> 0 or 0.5-4.5s -> 1)\n",
    "# output: x \n",
    "def choose_freq(data=None,freq = None, sec=None):\n",
    "    if freq:\n",
    "        data = np.delete(data,freq,axis=3)\n",
    "    if sec == 0:\n",
    "        for i in range(data.shape[0]):\n",
    "            data[i] = np.delete(data[i], 1, axis=3)\n",
    "        return data\n",
    "    elif sec == 1:\n",
    "        for i in range(data.shape[0]):\n",
    "            data[i] = np.delete(data[i], 0, axis=3) \n",
    "        return data\n",
    "    else:\n",
    "        print('sec not specified')\n",
    "        return data "
   ]
  },
  {
   "cell_type": "code",
   "execution_count": 6,
   "metadata": {},
   "outputs": [],
   "source": [
    "# reshape to 128*8*2 = 2048\n",
    "# return x \n",
    "def squeeze_feature_size(data):\n",
    "    new_data = []\n",
    "    for d in range(data.shape[0]):\n",
    "#         for i in range(df[d].shape[0]):\n",
    "        size = data[d].shape\n",
    "        new_data.append(data[d].reshape(size[0], size[1]*size[2]*size[3]))  \n",
    "    return np.array(new_data)"
   ]
  },
  {
   "cell_type": "code",
   "execution_count": 7,
   "metadata": {},
   "outputs": [],
   "source": [
    "# generate labels for x \n",
    "# input: data and label_type (0:zeros, 1: ones )\n",
    "def generate_labels(df,type=None):\n",
    "    arr = []\n",
    "    label = []\n",
    "    label_type = -1\n",
    "    if type == 0:\n",
    "        label_type = 0\n",
    "    elif type == 1:\n",
    "        label_type = 1\n",
    "    else:\n",
    "        print(\"Wrong type - get_pos_or_neg()\")\n",
    "        return \n",
    "    for d in range(df.shape[0]):\n",
    "#         for i in range(df[d].shape[0]):\n",
    "        size = df[d].shape\n",
    "#         print(size)\n",
    "        if label_type == 1:\n",
    "            label.append(np.ones((size[0],1)))\n",
    "        else:\n",
    "            label.append(np.zeros((size[0],1)))\n",
    "    return np.array(label)"
   ]
  },
  {
   "cell_type": "code",
   "execution_count": 8,
   "metadata": {},
   "outputs": [],
   "source": [
    "# combine neg and postive for boys and girls separately\n",
    "def combine_net_neg(netX,netY,negX,negY):\n",
    "    new_x, new_y = [],[]\n",
    "    for i in range(netX.shape[0]):\n",
    "        new_x.append(np.concatenate((netX[i],negX[i]),axis=0))\n",
    "        new_y.append(np.concatenate((netY[i],negY[i]),axis=0))\n",
    "    return np.array(new_x),np.array(new_y)"
   ]
  },
  {
   "cell_type": "code",
   "execution_count": 9,
   "metadata": {},
   "outputs": [],
   "source": [
    "# get x and y training set for leave one out \n",
    "def get_x_y_train(x,y):\n",
    "    new_x = x[0]\n",
    "    new_y = y[0]\n",
    "    for i in range(1,len(x)):\n",
    "        new_x=np.append(new_x,x[i],axis=0)\n",
    "        new_y=np.append(new_y,y[i],axis=0)\n",
    "    return new_x,new_y"
   ]
  },
  {
   "cell_type": "code",
   "execution_count": 68,
   "metadata": {},
   "outputs": [],
   "source": [
    "# define model \n",
    "model = RandomForestClassifier(n_estimators=150) "
   ]
  },
  {
   "cell_type": "code",
   "execution_count": 11,
   "metadata": {},
   "outputs": [],
   "source": [
    "pos = [[0,3],[0,2],[0,1],[0,0]]\n",
    "neg = [[1,3],[1,2],[1,1],[1,0]]\n",
    "pos_df_m = get_pos_or_neg(m,pos,1)\n",
    "neg_df_m = get_pos_or_neg(m,neg,1)\n",
    "pos_df_f = get_pos_or_neg(f,pos,1)\n",
    "neg_df_f = get_pos_or_neg(f,neg,1)\n"
   ]
  },
  {
   "cell_type": "code",
   "execution_count": 12,
   "metadata": {},
   "outputs": [
    {
     "data": {
      "text/plain": [
       "(18, 128, 8, 2)"
      ]
     },
     "execution_count": 12,
     "metadata": {},
     "output_type": "execute_result"
    }
   ],
   "source": [
    "pos_df_m[0].shape"
   ]
  },
  {
   "cell_type": "code",
   "execution_count": 56,
   "metadata": {},
   "outputs": [],
   "source": [
    "def model_train(x_train,x_test,y_train,y_test,model):\n",
    "    model.fit(x_train,y_train.ravel())\n",
    "    y_pred = model.predict(x_test)\n",
    "    return y_test, y_pred"
   ]
  },
  {
   "cell_type": "code",
   "execution_count": 57,
   "metadata": {},
   "outputs": [],
   "source": [
    "# get x train and test set for witin CV \n",
    "def get_x_train_test(data,index):\n",
    "    x_test = data[index]\n",
    "    x_train = np.delete(data,index,axis=0)\n",
    "    return x_train,x_test.reshape(1,-1)\n",
    "\n",
    "# get y train and test set for witin CV \n",
    "def get_y_train_test(data,index):\n",
    "    y_test = data[index]\n",
    "    y_train = np.delete(data,index,axis=0)\n",
    "    return y_train.astype(int).ravel(),y_test.astype(int)"
   ]
  },
  {
   "cell_type": "code",
   "execution_count": 58,
   "metadata": {},
   "outputs": [],
   "source": [
    "pos_sequeezed_m = squeeze_feature_size(pos_df_m)\n",
    "neg_sequeezed_m = squeeze_feature_size(neg_df_m)\n",
    "pos_sequeezed_f = squeeze_feature_size(pos_df_f)\n",
    "neg_sequeezed_f = squeeze_feature_size(neg_df_f)"
   ]
  },
  {
   "cell_type": "code",
   "execution_count": 59,
   "metadata": {},
   "outputs": [],
   "source": [
    "pos_labels_m = generate_labels(pos_sequeezed_m,1)\n",
    "neg_labels_m = generate_labels(neg_sequeezed_m,0)\n",
    "pos_labels_f = generate_labels(pos_sequeezed_f,1)\n",
    "neg_labels_f = generate_labels(neg_sequeezed_f,0)"
   ]
  },
  {
   "cell_type": "code",
   "execution_count": 60,
   "metadata": {},
   "outputs": [],
   "source": [
    "boy_x,boy_y = combine_net_neg(pos_sequeezed_m,pos_labels_m,neg_sequeezed_m,neg_labels_m)\n",
    "girl_x,girl_y = combine_net_neg(pos_sequeezed_f,pos_labels_f,neg_sequeezed_f,neg_labels_f)"
   ]
  },
  {
   "cell_type": "code",
   "execution_count": 61,
   "metadata": {},
   "outputs": [
    {
     "data": {
      "text/plain": [
       "(23,)"
      ]
     },
     "execution_count": 61,
     "metadata": {},
     "output_type": "execute_result"
    }
   ],
   "source": [
    "boy_x.shape"
   ]
  },
  {
   "cell_type": "code",
   "execution_count": 65,
   "metadata": {},
   "outputs": [],
   "source": [
    "# combine boys and girls \n",
    "x = np.concatenate((boy_x,girl_x),axis=0)\n",
    "y = np.concatenate((boy_y,girl_y),axis=0)"
   ]
  },
  {
   "cell_type": "code",
   "execution_count": 63,
   "metadata": {},
   "outputs": [
    {
     "data": {
      "text/plain": [
       "(14,)"
      ]
     },
     "execution_count": 63,
     "metadata": {},
     "output_type": "execute_result"
    }
   ],
   "source": [
    "new_x = []\n",
    "new_y = []\n",
    "# l,m,h\n",
    "for i in l:\n",
    "    new_x.append(x[i])\n",
    "    new_y.append(y[i])\n",
    "x = np.array(new_x)\n",
    "y = np.array(new_y)\n",
    "x.shape"
   ]
  },
  {
   "cell_type": "code",
   "execution_count": 66,
   "metadata": {},
   "outputs": [
    {
     "name": "stdout",
     "output_type": "stream",
     "text": [
      "leave one out # person: 0\n",
      "0.7777777777777778\n",
      "leave one out # person: 1\n",
      "0.6111111111111112\n",
      "leave one out # person: 2\n",
      "0.75\n",
      "leave one out # person: 3\n",
      "0.6111111111111112\n",
      "leave one out # person: 4\n",
      "0.6944444444444444\n",
      "leave one out # person: 5\n",
      "0.7777777777777778\n",
      "leave one out # person: 6\n",
      "0.8333333333333334\n",
      "leave one out # person: 7\n",
      "0.6111111111111112\n",
      "leave one out # person: 8\n",
      "0.5555555555555556\n",
      "leave one out # person: 9\n",
      "0.7222222222222222\n",
      "leave one out # person: 10\n",
      "0.6333333333333333\n",
      "leave one out # person: 11\n",
      "0.4666666666666667\n",
      "leave one out # person: 12\n",
      "0.5833333333333334\n",
      "leave one out # person: 13\n",
      "0.5666666666666667\n",
      "leave one out # person: 14\n",
      "0.6944444444444444\n",
      "leave one out # person: 15\n",
      "0.6388888888888888\n",
      "leave one out # person: 16\n",
      "0.75\n",
      "leave one out # person: 17\n",
      "0.5833333333333334\n",
      "leave one out # person: 18\n",
      "0.625\n",
      "leave one out # person: 19\n",
      "0.5\n",
      "leave one out # person: 20\n",
      "0.7222222222222222\n",
      "leave one out # person: 21\n",
      "0.6111111111111112\n",
      "leave one out # person: 22\n",
      "0.5833333333333334\n",
      "leave one out # person: 23\n",
      "0.7222222222222222\n",
      "leave one out # person: 24\n",
      "0.6111111111111112\n",
      "leave one out # person: 25\n",
      "0.6944444444444444\n",
      "leave one out # person: 26\n",
      "0.75\n",
      "leave one out # person: 27\n",
      "0.6111111111111112\n",
      "leave one out # person: 28\n",
      "0.6388888888888888\n",
      "leave one out # person: 29\n",
      "0.5833333333333334\n",
      "leave one out # person: 30\n",
      "0.7777777777777778\n",
      "leave one out # person: 31\n",
      "0.8055555555555556\n",
      "leave one out # person: 32\n",
      "0.6388888888888888\n",
      "leave one out # person: 33\n",
      "0.6944444444444444\n",
      "leave one out # person: 34\n",
      "0.6944444444444444\n",
      "leave one out # person: 35\n",
      "0.7777777777777778\n",
      "leave one out # person: 36\n",
      "0.6666666666666666\n",
      "leave one out # person: 37\n",
      "0.6111111111111112\n",
      "leave one out # person: 38\n",
      "0.8611111111111112\n",
      "leave one out # person: 39\n",
      "0.6666666666666666\n",
      "leave one out # person: 40\n",
      "0.6666666666666666\n",
      "leave one out # person: 41\n",
      "0.5666666666666667\n",
      "[0.7777777777777778, 0.6111111111111112, 0.75, 0.6111111111111112, 0.6944444444444444, 0.7777777777777778, 0.8333333333333334, 0.6111111111111112, 0.5555555555555556, 0.7222222222222222, 0.6333333333333333, 0.4666666666666667, 0.5833333333333334, 0.5666666666666667, 0.6944444444444444, 0.6388888888888888, 0.75, 0.5833333333333334, 0.625, 0.5, 0.7222222222222222, 0.6111111111111112, 0.5833333333333334, 0.7222222222222222, 0.6111111111111112, 0.6944444444444444, 0.75, 0.6111111111111112, 0.6388888888888888, 0.5833333333333334, 0.7777777777777778, 0.8055555555555556, 0.6388888888888888, 0.6944444444444444, 0.6944444444444444, 0.7777777777777778, 0.6666666666666666, 0.6111111111111112, 0.8611111111111112, 0.6666666666666666, 0.6666666666666666, 0.5666666666666667]\n"
     ]
    }
   ],
   "source": [
    "all_accuracy=[]\n",
    "for d in range(x.shape[0]):\n",
    "    print(\"leave one out # person:\",d)\n",
    "    if d == 0:\n",
    "        x_train,y_train = get_x_y_train(x[d+1:],y[d+1:])\n",
    "        x_test,y_test =x[d],y[d]\n",
    "    elif d == x.shape[0]-1:\n",
    "        x_train,y_train = get_x_y_train(x[:d],y[:d])\n",
    "        x_test,y_test = x[d],y[d]\n",
    "    else:\n",
    "        x_train,y_train = get_x_y_train(np.append(x[:d],x[d+1:],axis=0),np.append(y[:d],y[d+1:],axis=0))\n",
    "        x_test,y_test = x[d],y[d]\n",
    "    # print(x_train.shape,x_test.shape)\n",
    "    # print(y_train.shape,y_test.shape)\n",
    "    # return\n",
    "    y_test,y_pred=model_train(x_train,x_test,y_train,y_test,model)\n",
    "    accuracy = accuracy_score(y_test,y_pred)\n",
    "    print(accuracy)\n",
    "    all_accuracy.append(accuracy)\n",
    "print(all_accuracy)"
   ]
  },
  {
   "cell_type": "code",
   "execution_count": 67,
   "metadata": {},
   "outputs": [
    {
     "data": {
      "text/plain": [
       "0.6652777777777777"
      ]
     },
     "execution_count": 67,
     "metadata": {},
     "output_type": "execute_result"
    }
   ],
   "source": [
    "sum(all_accuracy)/len(all_accuracy)"
   ]
  },
  {
   "cell_type": "code",
   "execution_count": 45,
   "metadata": {},
   "outputs": [],
   "source": [
    "l_val = [[0, 0.6111111111111112],\n",
    " [1, 0.8333333333333334],\n",
    " [2, 0.6388888888888888],\n",
    " [3, 0.6333333333333333],\n",
    " [4, 0.5555555555555556],\n",
    " [5, 0.6944444444444444],\n",
    " [6, 0.4722222222222222],\n",
    " [7, 0.6666666666666666],\n",
    " [8, 0.6666666666666666],\n",
    " [9, 0.5555555555555556],\n",
    " [10, 0.7777777777777778],\n",
    " [11, 0.6944444444444444],\n",
    " [12, 0.6111111111111112],\n",
    " [13, 0.6333333333333333]]\n",
    "for i in range(len(l)):\n",
    "    l_val[i][0] = l[i]"
   ]
  },
  {
   "cell_type": "code",
   "execution_count": 46,
   "metadata": {},
   "outputs": [],
   "source": [
    "# m_val = [] \n",
    "for i in range(len(m)):\n",
    "    m_val[i][0] = m[i]"
   ]
  },
  {
   "cell_type": "code",
   "execution_count": 47,
   "metadata": {},
   "outputs": [],
   "source": [
    "# h_val = [] \n",
    "for i in range(len(h)):\n",
    "    h_val[i][0] = h[i]"
   ]
  },
  {
   "cell_type": "code",
   "execution_count": 51,
   "metadata": {},
   "outputs": [
    {
     "data": {
      "text/plain": [
       "[0.75,\n",
       " 0.6111111111111112,\n",
       " 0.75,\n",
       " 0.4722222222222222,\n",
       " 0.7222222222222222,\n",
       " 0.75,\n",
       " 0.8333333333333334,\n",
       " 0.6111111111111112,\n",
       " 0.6388888888888888,\n",
       " 0.6388888888888888,\n",
       " 0.6333333333333333,\n",
       " 0.6,\n",
       " 0.5555555555555556,\n",
       " 0.6666666666666666,\n",
       " 0.6111111111111112,\n",
       " 0.6944444444444444,\n",
       " 0.6944444444444444,\n",
       " 0.5555555555555556,\n",
       " 0.625,\n",
       " 0.4722222222222222,\n",
       " 0.6111111111111112,\n",
       " 0.5833333333333334,\n",
       " 0.5277777777777778,\n",
       " 0.6666666666666666,\n",
       " 0.6388888888888888,\n",
       " 0.5555555555555556,\n",
       " 0.6666666666666666,\n",
       " 0.6666666666666666,\n",
       " 0.6388888888888888,\n",
       " 0.5555555555555556,\n",
       " 0.8055555555555556,\n",
       " 0.7777777777777778,\n",
       " 0.6944444444444444,\n",
       " 0.6111111111111112,\n",
       " 0.7222222222222222,\n",
       " 0.6944444444444444,\n",
       " 0.6388888888888888,\n",
       " 0.6944444444444444,\n",
       " 0.8055555555555556,\n",
       " 0.6333333333333333]"
      ]
     },
     "execution_count": 51,
     "metadata": {},
     "output_type": "execute_result"
    }
   ],
   "source": [
    "vals = l_val + m_val + h_val\n",
    "vals.sort(key=lambda x:x[0])\n",
    "final = [i[1] for i in vals]\n",
    "final"
   ]
  },
  {
   "cell_type": "code",
   "execution_count": 78,
   "metadata": {},
   "outputs": [
    {
     "name": "stdout",
     "output_type": "stream",
     "text": [
      "within # person: 0\n",
      "within # person: 1\n",
      "within # person: 2\n",
      "within # person: 3\n",
      "within # person: 4\n",
      "within # person: 5\n",
      "within # person: 6\n",
      "within # person: 7\n",
      "within # person: 8\n",
      "within # person: 9\n",
      "within # person: 10\n",
      "within # person: 11\n",
      "within # person: 12\n",
      "within # person: 13\n",
      "within # person: 14\n",
      "within # person: 15\n",
      "within # person: 16\n",
      "within # person: 17\n",
      "within # person: 18\n",
      "within # person: 19\n",
      "within # person: 20\n",
      "within # person: 21\n",
      "within # person: 22\n",
      "within # person: 23\n",
      "within # person: 24\n",
      "within # person: 25\n",
      "within # person: 26\n",
      "within # person: 27\n",
      "within # person: 28\n",
      "within # person: 29\n",
      "within # person: 30\n",
      "within # person: 31\n",
      "within # person: 32\n",
      "within # person: 33\n",
      "within # person: 34\n",
      "within # person: 35\n",
      "within # person: 36\n",
      "within # person: 37\n",
      "within # person: 38\n",
      "within # person: 39\n",
      "within # person: 40\n",
      "within # person: 41\n"
     ]
    }
   ],
   "source": [
    "\"\"\"\n",
    "Within \n",
    "\"\"\"\n",
    "all_accuracy = []\n",
    "# train a model \n",
    "# return y_test, y_pred \n",
    "avg_accuracy = []\n",
    "for d in range(x.shape[0]):\n",
    "    # training set and test set\n",
    "    accuracy =[]\n",
    "    print(\"within # person:\",d)\n",
    "    for i in range(x[d].shape[0]):\n",
    "        x_train,x_test = get_x_train_test(x[d],i)\n",
    "        y_train,y_test = get_y_train_test(y[d],i)\n",
    "        y_test,y_pred = model_train(x_train,x_test,y_train,y_test,model)\n",
    "        accuracy.append(accuracy_score(y_test,y_pred))\n",
    "    avg_accuracy.append(sum(accuracy)/len(accuracy))\n",
    "    all_accuracy.append(accuracy)"
   ]
  },
  {
   "cell_type": "code",
   "execution_count": 79,
   "metadata": {},
   "outputs": [],
   "source": [
    "for i in range(len(avg_accuracy)):\n",
    "    avg_accuracy[i] = round(avg_accuracy[i],3)"
   ]
  },
  {
   "cell_type": "code",
   "execution_count": 12,
   "metadata": {},
   "outputs": [],
   "source": [
    "df = pd.read_csv('feb_27.csv')"
   ]
  },
  {
   "cell_type": "code",
   "execution_count": 13,
   "metadata": {},
   "outputs": [
    {
     "data": {
      "text/plain": [
       "Index(['Unnamed: 0', 'Exp_ID', 'exp_time', 'trais no.', 'note',\n",
       "       'signal_condition', 'gender', 'age', 'race', 'handiness',\n",
       "       'sleep condition', 'Q11', 'Q12', 'Q13', 'Q14', 'ID', 'ID_boy',\n",
       "       'ID_girl', 'within_classification', 'within_Feature_asymmtry', 'stress',\n",
       "       'stressGroup', '42set_ID', 'between_classification_all',\n",
       "       'between_Feature_asymmtry', 'between_stressGroup', 'between_gender',\n",
       "       '39set_ID', 'between_classification', 'between_stressGroup.1',\n",
       "       '33set_ID', 'between_classification.1', 'between_stressGroup.2',\n",
       "       'Unnamed: 32', 'Unnamed: 33', 'new_1', 'new_2',\n",
       "       'raw_between_stressGroup', 'raw_within', 'with_logistic',\n",
       "       'with_logistic_preprocessed',\n",
       "       'between_stressGroup_netural_vs_negative'],\n",
       "      dtype='object')"
      ]
     },
     "execution_count": 13,
     "metadata": {},
     "output_type": "execute_result"
    }
   ],
   "source": [
    "df.columns"
   ]
  },
  {
   "cell_type": "code",
   "execution_count": 5,
   "metadata": {},
   "outputs": [],
   "source": [
    "stress = df['stress'].values\n",
    "l,m,h = [],[],[]\n",
    "for i in range(len(stress)):\n",
    "    if stress[i] <=12:\n",
    "        l.append(i)\n",
    "    elif stress[i] <= 18:\n",
    "        m.append(i)\n",
    "    elif stress[i]>18:\n",
    "        h.append(i)\n",
    "l = [1, 6, 9, 10, 12, 16, 19, 23, 26, 29, 31, 32, 33, 39]\n",
    "m = [3, 5, 7, 11, 15, 18, 20, 21, 22, 24, 28, 30, 34, 37] \n",
    "h = [0, 2, 4, 8, 13, 14, 17, 25, 27, 35, 36, 38]"
   ]
  },
  {
   "cell_type": "code",
   "execution_count": 6,
   "metadata": {},
   "outputs": [],
   "source": [
    "h_val = [0.6458333333333334, 0.4375, 0.5989583333333334, 0.5208333333333334, 0.5512820512820513, 0.4739583333333333, 0.5416666666666666, 0.4895833333333333, 0.53125, 0.515625, 0.6458333333333334, 0.609375]\n",
    "m_val = [0.515625, 0.5052083333333334, 0.5416666666666666, 0.5256410256410257, 0.5260416666666666, 0.5078125, 0.578125, 0.6354166666666666, 0.5260416666666666, 0.5572916666666666, 0.5520833333333334, 0.6041666666666666, 0.5572916666666666, 0.5989583333333334]\n",
    "l_val = [0.6302083333333334, 0.5729166666666666, 0.625, 0.5064102564102564, 0.5989583333333334, 0.5416666666666666, 0.53125, 0.671875, 0.5572916666666666, 0.5833333333333334, 0.59375, 0.4635416666666667, 0.546875, 0.5897435897435898]"
   ]
  },
  {
   "cell_type": "code",
   "execution_count": 18,
   "metadata": {},
   "outputs": [
    {
     "data": {
      "text/plain": [
       "42"
      ]
     },
     "execution_count": 18,
     "metadata": {},
     "output_type": "execute_result"
    }
   ],
   "source": [
    "accs = [0.71875, 0.6770833333333334, 0.6927083333333334, 0.5625, 0.6458333333333334, 0.671875, 0.6875, 0.5520833333333334, 0.6354166666666666, 0.6302083333333334, 0.6858974358974359, 0.7371794871794872, 0.65625, 0.717948717948718, 0.5, 0.6458333333333334, 0.6145833333333334, 0.5729166666666666, 0.640625, 0.5833333333333334, 0.6302083333333334, 0.5885416666666666, 0.5572916666666666, 0.7395833333333334, 0.71875, 0.5989583333333334, 0.6145833333333334, 0.5729166666666666, 0.5677083333333334, 0.65625, 0.75, 0.6458333333333334, 0.640625, 0.6770833333333334, 0.5625, 0.640625, 0.6458333333333334, 0.5677083333333334, 0.7552083333333334, 0.7115384615384616, 0.6089743589743589, 0.6217948717948718]\n",
    "len(accs)"
   ]
  },
  {
   "cell_type": "code",
   "execution_count": 7,
   "metadata": {},
   "outputs": [
    {
     "name": "stdout",
     "output_type": "stream",
     "text": [
      "14 14 12\n",
      "14 14 12\n"
     ]
    }
   ],
   "source": [
    "print(len(l),len(m),len(h))\n",
    "print(len(l_val),len(m_val),len(h_val))"
   ]
  },
  {
   "cell_type": "code",
   "execution_count": 8,
   "metadata": {},
   "outputs": [
    {
     "name": "stdout",
     "output_type": "stream",
     "text": [
      "[[0, 0.6458333333333334], [1, 0.6302083333333334], [2, 0.4375], [3, 0.515625], [4, 0.5989583333333334], [5, 0.5052083333333334], [6, 0.5729166666666666], [7, 0.5416666666666666], [8, 0.5208333333333334], [9, 0.625], [10, 0.5064102564102564], [11, 0.5256410256410257], [12, 0.5989583333333334], [13, 0.5512820512820513], [14, 0.4739583333333333], [15, 0.5260416666666666], [16, 0.5416666666666666], [17, 0.5416666666666666], [18, 0.5078125], [19, 0.53125], [20, 0.578125], [21, 0.6354166666666666], [22, 0.5260416666666666], [23, 0.671875], [24, 0.5572916666666666], [25, 0.4895833333333333], [26, 0.5572916666666666], [27, 0.53125], [28, 0.5520833333333334], [29, 0.5833333333333334], [30, 0.6041666666666666], [31, 0.59375], [32, 0.4635416666666667], [33, 0.546875], [34, 0.5572916666666666], [35, 0.515625], [36, 0.6458333333333334], [37, 0.5989583333333334], [38, 0.609375], [39, 0.5897435897435898]]\n",
      "[0.6458333333333334, 0.6302083333333334, 0.4375, 0.515625, 0.5989583333333334, 0.5052083333333334, 0.5729166666666666, 0.5416666666666666, 0.5208333333333334, 0.625, 0.5064102564102564, 0.5256410256410257, 0.5989583333333334, 0.5512820512820513, 0.4739583333333333, 0.5260416666666666, 0.5416666666666666, 0.5416666666666666, 0.5078125, 0.53125, 0.578125, 0.6354166666666666, 0.5260416666666666, 0.671875, 0.5572916666666666, 0.4895833333333333, 0.5572916666666666, 0.53125, 0.5520833333333334, 0.5833333333333334, 0.6041666666666666, 0.59375, 0.4635416666666667, 0.546875, 0.5572916666666666, 0.515625, 0.6458333333333334, 0.5989583333333334, 0.609375, 0.5897435897435898]\n"
     ]
    }
   ],
   "source": [
    "def combines(arr,vals):\n",
    "    for i in range(len(arr)):\n",
    "        arr[i] = [arr[i],vals[i]]\n",
    "    return arr \n",
    "temp = []\n",
    "temp = combines(l,l_val) + combines(m,m_val) + combines(h,h_val)\n",
    "temp.sort(key=lambda x:x[0])\n",
    "final = []\n",
    "print(temp)\n",
    "for i in temp:\n",
    "    final.append(i[1])\n",
    "print(final)\n"
   ]
  },
  {
   "cell_type": "code",
   "execution_count": 20,
   "metadata": {},
   "outputs": [],
   "source": [
    "for i in range(6):\n",
    "    accs.append(-1)\n",
    "df[\"with_netVSneg\"] = accs[:46]"
   ]
  },
  {
   "cell_type": "code",
   "execution_count": 21,
   "metadata": {},
   "outputs": [],
   "source": [
    "df.to_csv('feb_27.csv')"
   ]
  },
  {
   "cell_type": "code",
   "execution_count": 97,
   "metadata": {},
   "outputs": [
    {
     "data": {
      "text/plain": [
       "0.6708571428571426"
      ]
     },
     "execution_count": 97,
     "metadata": {},
     "output_type": "execute_result"
    }
   ],
   "source": [
    "sum(accs[:42])/len(accs[:42])"
   ]
  },
  {
   "cell_type": "code",
   "execution_count": 11,
   "metadata": {},
   "outputs": [
    {
     "name": "stdout",
     "output_type": "stream",
     "text": [
      "0.5723443223443223\n",
      "0.552240728021978\n",
      "0.5468082264957265\n"
     ]
    }
   ],
   "source": [
    "def avg(arr):\n",
    "    print(sum(arr)/len(arr))\n",
    "avg(l_val)\n",
    "avg(m_val)\n",
    "avg(h_val)"
   ]
  },
  {
   "cell_type": "code",
   "execution_count": 5,
   "metadata": {},
   "outputs": [],
   "source": [
    "temp1=[0.8333333333333334, 0.8888888888888888, 0.6388888888888888, 0.6, 0.9166666666666666, 0.7777777777777778, 0.5, 0.75, 0.7777777777777778, 0.6666666666666666, 0.8888888888888888, 0.6944444444444444, 0.8055555555555556, 0.7666666666666667]\n",
    "temp2=[0.8333333333333334, 0.8611111111111112, 0.6666666666666666, 0.6333333333333333, 0.9166666666666666, 0.7777777777777778, 0.5277777777777778, 0.75, 0.8611111111111112, 0.6388888888888888, 0.9166666666666666, 0.7222222222222222, 0.7222222222222222, 0.7333333333333333]"
   ]
  },
  {
   "cell_type": "code",
   "execution_count": 6,
   "metadata": {},
   "outputs": [],
   "source": [
    "for _ in range(50):\n",
    "    temp1.append(-1)\n",
    "    temp2.append(-1)\n",
    "df['new_1']=temp1[:46]\n",
    "df['new_2']=temp2[:46]"
   ]
  },
  {
   "cell_type": "code",
   "execution_count": 7,
   "metadata": {},
   "outputs": [],
   "source": [
    "df.to_csv('feb_27.csv')"
   ]
  },
  {
   "cell_type": "code",
   "execution_count": 3,
   "metadata": {},
   "outputs": [],
   "source": [
    "def write_json(file_name):\n",
    "    data = None \n",
    "    with open(file_name) as f:\n",
    "        data = json.load(f)\n",
    "    return data"
   ]
  },
  {
   "cell_type": "code",
   "execution_count": 7,
   "metadata": {},
   "outputs": [
    {
     "name": "stdout",
     "output_type": "stream",
     "text": [
      "[0.8055555555555556, 0.8888888888888888, 0.6388888888888888, 0.75, 0.5555555555555556, 0.7222222222222222, 0.75, 0.9444444444444444, 0.8888888888888888, 0.6944444444444444, 0.75, 0.7777777777777778, 0.8055555555555556, 0.75, 0.6666666666666666, 0.75, 0.9, 0.6666666666666666, 0.6333333333333333, 0.8888888888888888, 0.8333333333333334, 0.7222222222222222, 0.6944444444444444, 0.8611111111111112, 0.75, 0.8055555555555556, 0.5277777777777778, 0.75, 0.8333333333333334, 0.8666666666666667, 0.7, 0.7777777777777778, 0.7333333333333333, 0.4166666666666667, 0.6944444444444444, 0.6666666666666666, 0.5, 0.7916666666666666, 0.4444444444444444, 0.7222222222222222, 0.4166666666666667, 0.6666666666666666]\n"
     ]
    },
    {
     "ename": "NameError",
     "evalue": "name 'avg' is not defined",
     "output_type": "error",
     "traceback": [
      "\u001b[0;31m---------------------------------------------------------------------------\u001b[0m",
      "\u001b[0;31mNameError\u001b[0m                                 Traceback (most recent call last)",
      "\u001b[0;32m<ipython-input-7-b6d8cd101bd9>\u001b[0m in \u001b[0;36m<module>\u001b[0;34m\u001b[0m\n\u001b[1;32m      4\u001b[0m     \u001b[0md\u001b[0m \u001b[0;34m=\u001b[0m \u001b[0mwrite_json\u001b[0m\u001b[0;34m(\u001b[0m\u001b[0mf\u001b[0m\u001b[0;34m)\u001b[0m\u001b[0;34m[\u001b[0m\u001b[0;34m'avg_acc'\u001b[0m\u001b[0;34m]\u001b[0m\u001b[0;34m\u001b[0m\u001b[0;34m\u001b[0m\u001b[0m\n\u001b[1;32m      5\u001b[0m     \u001b[0mprint\u001b[0m\u001b[0;34m(\u001b[0m\u001b[0md\u001b[0m\u001b[0;34m)\u001b[0m\u001b[0;34m\u001b[0m\u001b[0;34m\u001b[0m\u001b[0m\n\u001b[0;32m----> 6\u001b[0;31m     \u001b[0mavg\u001b[0m\u001b[0;34m(\u001b[0m\u001b[0md\u001b[0m\u001b[0;34m)\u001b[0m\u001b[0;34m\u001b[0m\u001b[0;34m\u001b[0m\u001b[0m\n\u001b[0m\u001b[1;32m      7\u001b[0m \u001b[0;31m# df[\"raw_within\"] = d['avg_acc']\u001b[0m\u001b[0;34m\u001b[0m\u001b[0;34m\u001b[0m\u001b[0;34m\u001b[0m\u001b[0m\n\u001b[1;32m      8\u001b[0m \u001b[0;31m# df.to_csv('feb_27.csv')\u001b[0m\u001b[0;34m\u001b[0m\u001b[0;34m\u001b[0m\u001b[0;34m\u001b[0m\u001b[0m\n",
      "\u001b[0;31mNameError\u001b[0m: name 'avg' is not defined"
     ]
    }
   ],
   "source": [
    "# files = [\"./results/leave_one_with_bad_h.json\",\"./results/leave_one_with_bad_l.json\",\"./results/leave_one_with_bad_m.json\"]\n",
    "files = ['./results/past/within_with_bad.json']\n",
    "for f in files:\n",
    "    d = write_json(f)['avg_acc']\n",
    "    print(d)\n",
    "    avg(d)\n",
    "df[\"raw_within\"] = d['avg_acc']\n",
    "df.to_csv('feb_27.csv')"
   ]
  },
  {
   "cell_type": "code",
   "execution_count": 15,
   "metadata": {},
   "outputs": [],
   "source": [
    "files = ['./results/past/within_netVSneg_preprocessed.json']\n",
    "d = write_json(files[0])['avg_acc']\n",
    "for _ in range(10):\n",
    "    d.append(-1)\n",
    "df[\"within_classification\"] = d[:46]\n",
    "df.to_csv('feb_27.csv')"
   ]
  },
  {
   "cell_type": "code",
   "execution_count": 10,
   "metadata": {},
   "outputs": [],
   "source": [
    "d = write_json(\"./results/within_rf_preprocessed.json.json\")\n",
    "d.keys()\n",
    "arr = d['avg_acc']\n",
    "for _ in range(10):\n",
    "    arr.append(-1)\n",
    "df[\"within_classification\"] = arr[:46]\n",
    "df.to_csv('feb_27.csv')"
   ]
  },
  {
   "cell_type": "code",
   "execution_count": null,
   "metadata": {},
   "outputs": [],
   "source": []
  }
 ],
 "metadata": {
  "kernelspec": {
   "display_name": "Python 3",
   "language": "python",
   "name": "python3"
  },
  "language_info": {
   "codemirror_mode": {
    "name": "ipython",
    "version": 3
   },
   "file_extension": ".py",
   "mimetype": "text/x-python",
   "name": "python",
   "nbconvert_exporter": "python",
   "pygments_lexer": "ipython3",
   "version": "3.8.3"
  }
 },
 "nbformat": 4,
 "nbformat_minor": 4
}
