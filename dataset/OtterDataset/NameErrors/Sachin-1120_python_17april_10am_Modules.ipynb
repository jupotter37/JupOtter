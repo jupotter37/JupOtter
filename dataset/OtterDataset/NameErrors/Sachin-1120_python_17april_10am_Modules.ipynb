{
 "cells": [
  {
   "cell_type": "code",
   "execution_count": 1,
   "id": "f8be2f78",
   "metadata": {},
   "outputs": [],
   "source": [
    "x"
   ]
  },
  {
   "cell_type": "code",
   "execution_count": 2,
   "id": "6f5627f6",
   "metadata": {},
   "outputs": [
    {
     "name": "stdout",
     "output_type": "stream",
     "text": [
      "['__doc__', '__loader__', '__name__', '__package__', '__spec__', 'acos', 'acosh', 'asin', 'asinh', 'atan', 'atan2', 'atanh', 'cbrt', 'ceil', 'comb', 'copysign', 'cos', 'cosh', 'degrees', 'dist', 'e', 'erf', 'erfc', 'exp', 'exp2', 'expm1', 'fabs', 'factorial', 'floor', 'fmod', 'frexp', 'fsum', 'gamma', 'gcd', 'hypot', 'inf', 'isclose', 'isfinite', 'isinf', 'isnan', 'isqrt', 'lcm', 'ldexp', 'lgamma', 'log', 'log10', 'log1p', 'log2', 'modf', 'nan', 'nextafter', 'perm', 'pi', 'pow', 'prod', 'radians', 'remainder', 'sin', 'sinh', 'sqrt', 'tan', 'tanh', 'tau', 'trunc', 'ulp']\n"
     ]
    }
   ],
   "source": [
    "print(dir(math))"
   ]
  },
  {
   "cell_type": "code",
   "execution_count": 4,
   "id": "fcd7d21c",
   "metadata": {},
   "outputs": [
    {
     "data": {
      "text/plain": [
       "2086.2274564390145"
      ]
     },
     "execution_count": 4,
     "metadata": {},
     "output_type": "execute_result"
    }
   ],
   "source": [
    "math.sqrt(4352345)"
   ]
  },
  {
   "cell_type": "code",
   "execution_count": 5,
   "id": "8f8a1647",
   "metadata": {},
   "outputs": [
    {
     "data": {
      "text/plain": [
       "0.44275741673271624"
      ]
     },
     "execution_count": 5,
     "metadata": {},
     "output_type": "execute_result"
    }
   ],
   "source": [
    "math.tan(6.7)"
   ]
  },
  {
   "cell_type": "code",
   "execution_count": null,
   "id": "6f71474f",
   "metadata": {},
   "outputs": [],
   "source": [
    "# save it in a  module \n",
    "def div(a,b):\n",
    "    return a/b\n",
    "\n",
    "\n",
    "\n",
    "# Script  and   Module "
   ]
  },
  {
   "cell_type": "code",
   "execution_count": 30,
   "id": "8f3b1052",
   "metadata": {},
   "outputs": [
    {
     "name": "stdout",
     "output_type": "stream",
     "text": [
      "Overwriting random_code.py\n"
     ]
    }
   ],
   "source": [
    "%%writefile random_code.py\n",
    "def print_alpha():\n",
    "    print(__name__)\n",
    "    print('Hi')\n",
    "def add(a,b):\n",
    "    print('addition :',a+b)\n",
    "if __name__=='__main__':\n",
    "    print_alpha()\n",
    "    add(4,5)"
   ]
  },
  {
   "cell_type": "code",
   "execution_count": 23,
   "id": "063ec699",
   "metadata": {},
   "outputs": [
    {
     "name": "stdout",
     "output_type": "stream",
     "text": [
      "def print_alpha():\n",
      "    print('Hi')\n",
      "def add(a,b):\n",
      "    print('addition :',a+b)\n",
      "print(__name__)\n",
      "if __name__=='__main__':\n",
      "    print_alpha()\n",
      "    add(4,5)\n"
     ]
    }
   ],
   "source": [
    "!type random_code.py"
   ]
  },
  {
   "cell_type": "code",
   "execution_count": 33,
   "id": "7adc3f80",
   "metadata": {},
   "outputs": [
    {
     "name": "stdout",
     "output_type": "stream",
     "text": [
      "__main__\n",
      "Hi\n",
      "addition : 9\n"
     ]
    }
   ],
   "source": [
    "!python random_code.py"
   ]
  },
  {
   "cell_type": "code",
   "execution_count": 36,
   "id": "cb33392a",
   "metadata": {},
   "outputs": [
    {
     "data": {
      "text/plain": [
       "<module 'random_code' from 'C:\\\\Python\\\\Python 10AM\\\\random_code.py'>"
      ]
     },
     "execution_count": 36,
     "metadata": {},
     "output_type": "execute_result"
    }
   ],
   "source": [
    "from importlib import reload\n",
    "reload(random_code)"
   ]
  },
  {
   "cell_type": "code",
   "execution_count": 29,
   "id": "b7f6a597",
   "metadata": {},
   "outputs": [],
   "source": [
    "import random_code"
   ]
  },
  {
   "cell_type": "code",
   "execution_count": 32,
   "id": "9a40ee3b",
   "metadata": {},
   "outputs": [
    {
     "name": "stdout",
     "output_type": "stream",
     "text": [
      "random_code\n",
      "Hi\n"
     ]
    }
   ],
   "source": [
    "random_code.print_alpha()"
   ]
  },
  {
   "cell_type": "code",
   "execution_count": 21,
   "id": "6ea87301",
   "metadata": {},
   "outputs": [
    {
     "name": "stdout",
     "output_type": "stream",
     "text": [
      "addition : 13\n"
     ]
    }
   ],
   "source": [
    "random_code.add(6,7)"
   ]
  },
  {
   "cell_type": "code",
   "execution_count": 34,
   "id": "48771ee3",
   "metadata": {},
   "outputs": [],
   "source": [
    "import sys"
   ]
  },
  {
   "cell_type": "code",
   "execution_count": 35,
   "id": "953b2453",
   "metadata": {},
   "outputs": [
    {
     "name": "stdout",
     "output_type": "stream",
     "text": [
      "['C:\\\\Python\\\\Python 10AM', 'C:\\\\Users\\\\hello\\\\anaconda3\\\\python311.zip', 'C:\\\\Users\\\\hello\\\\anaconda3\\\\DLLs', 'C:\\\\Users\\\\hello\\\\anaconda3\\\\Lib', 'C:\\\\Users\\\\hello\\\\anaconda3', '', 'C:\\\\Users\\\\hello\\\\anaconda3\\\\Lib\\\\site-packages', 'C:\\\\Users\\\\hello\\\\anaconda3\\\\Lib\\\\site-packages\\\\win32', 'C:\\\\Users\\\\hello\\\\anaconda3\\\\Lib\\\\site-packages\\\\win32\\\\lib', 'C:\\\\Users\\\\hello\\\\anaconda3\\\\Lib\\\\site-packages\\\\Pythonwin']\n"
     ]
    }
   ],
   "source": [
    "print(sys.path)"
   ]
  },
  {
   "cell_type": "code",
   "execution_count": 40,
   "id": "dc9f002b",
   "metadata": {},
   "outputs": [],
   "source": [
    "from time import ctime"
   ]
  },
  {
   "cell_type": "code",
   "execution_count": 41,
   "id": "a8e5b979",
   "metadata": {},
   "outputs": [
    {
     "data": {
      "text/plain": [
       "'Thu Jun 27 10:54:07 2024'"
      ]
     },
     "execution_count": 41,
     "metadata": {},
     "output_type": "execute_result"
    }
   ],
   "source": [
    "ctime()"
   ]
  },
  {
   "cell_type": "code",
   "execution_count": 1,
   "id": "7f0f095d",
   "metadata": {},
   "outputs": [],
   "source": [
    "import time"
   ]
  },
  {
   "cell_type": "code",
   "execution_count": 2,
   "id": "0c7ab5bc",
   "metadata": {},
   "outputs": [
    {
     "ename": "NameError",
     "evalue": "name 'ctime' is not defined",
     "output_type": "error",
     "traceback": [
      "\u001b[1;31m---------------------------------------------------------------------------\u001b[0m",
      "\u001b[1;31mNameError\u001b[0m                                 Traceback (most recent call last)",
      "Cell \u001b[1;32mIn[2], line 1\u001b[0m\n\u001b[1;32m----> 1\u001b[0m ctime()\n",
      "\u001b[1;31mNameError\u001b[0m: name 'ctime' is not defined"
     ]
    }
   ],
   "source": [
    "ctime()"
   ]
  },
  {
   "cell_type": "code",
   "execution_count": 7,
   "id": "8cd771ef",
   "metadata": {},
   "outputs": [
    {
     "name": "stdout",
     "output_type": "stream",
     "text": [
      "Overwriting calculator.py\n"
     ]
    }
   ],
   "source": [
    "%%writefile calculator.py\n",
    "def add(a,b):\n",
    "    return a+b\n",
    "def sub(a,b):\n",
    "    return a-b\n",
    "def mul(a,b):\n",
    "    return a*b\n",
    "def div(a,b):\n",
    "    return a/b\n",
    "\n"
   ]
  },
  {
   "cell_type": "code",
   "execution_count": 8,
   "id": "c7e3778d",
   "metadata": {},
   "outputs": [],
   "source": [
    "import calculator"
   ]
  },
  {
   "cell_type": "code",
   "execution_count": 6,
   "id": "a57bf903",
   "metadata": {},
   "outputs": [
    {
     "data": {
      "text/plain": [
       "5"
      ]
     },
     "execution_count": 6,
     "metadata": {},
     "output_type": "execute_result"
    }
   ],
   "source": [
    "calculator.add(2,3)"
   ]
  },
  {
   "cell_type": "code",
   "execution_count": 9,
   "id": "73ad2987",
   "metadata": {},
   "outputs": [],
   "source": [
    "import tqdm"
   ]
  },
  {
   "cell_type": "code",
   "execution_count": 10,
   "id": "39a09558",
   "metadata": {},
   "outputs": [],
   "source": [
    "import time"
   ]
  },
  {
   "cell_type": "code",
   "execution_count": 11,
   "id": "f4966078",
   "metadata": {},
   "outputs": [
    {
     "name": "stdout",
     "output_type": "stream",
     "text": [
      "0\n",
      "1\n",
      "2\n",
      "3\n",
      "4\n",
      "5\n",
      "6\n",
      "7\n",
      "8\n",
      "9\n"
     ]
    }
   ],
   "source": [
    "for i in range(10):\n",
    "    print(i)\n",
    "    time.sleep(2)"
   ]
  },
  {
   "cell_type": "code",
   "execution_count": 13,
   "id": "255547c1",
   "metadata": {},
   "outputs": [
    {
     "name": "stderr",
     "output_type": "stream",
     "text": [
      "100%|███████████████████████████████████████████████████████████████████████████████████████████████| 10/10 [00:20<00:00,  2.00s/it]\n"
     ]
    }
   ],
   "source": [
    "for i in tqdm.tqdm(range(10)):\n",
    "        time.sleep(2)"
   ]
  },
  {
   "cell_type": "code",
   "execution_count": 16,
   "id": "0177367c",
   "metadata": {},
   "outputs": [],
   "source": [
    "import numpy"
   ]
  },
  {
   "cell_type": "code",
   "execution_count": 36,
   "id": "d96f2202",
   "metadata": {},
   "outputs": [
    {
     "name": "stdout",
     "output_type": "stream",
     "text": [
      "Overwriting ./sachin/alpha.py\n"
     ]
    }
   ],
   "source": [
    "%%writefile ./sachin/alpha.py\n",
    "def print_alpha():\n",
    "    print('hello from alpha')"
   ]
  },
  {
   "cell_type": "code",
   "execution_count": 37,
   "id": "393d2988",
   "metadata": {},
   "outputs": [
    {
     "name": "stdout",
     "output_type": "stream",
     "text": [
      "Overwriting ./sachin/beta.py\n"
     ]
    }
   ],
   "source": [
    "%%writefile ./sachin/beta.py\n",
    "def print_beta():\n",
    "    print('hello from beta')\n"
   ]
  },
  {
   "cell_type": "code",
   "execution_count": 38,
   "id": "d7e8b30c",
   "metadata": {},
   "outputs": [
    {
     "name": "stdout",
     "output_type": "stream",
     "text": [
      "Overwriting ./sachin/gamma.py\n"
     ]
    }
   ],
   "source": [
    "%%writefile ./sachin/gamma.py\n",
    "def print_gamma():\n",
    "    print('hello from gamma')\n"
   ]
  },
  {
   "cell_type": "code",
   "execution_count": 47,
   "id": "b18315ed",
   "metadata": {},
   "outputs": [
    {
     "name": "stdout",
     "output_type": "stream",
     "text": [
      "Overwriting ./sachin/__init__.py\n"
     ]
    }
   ],
   "source": [
    "%%writefile ./sachin/__init__.py\n",
    "import ./alpha\n",
    "import beta\n",
    "import gamma"
   ]
  },
  {
   "cell_type": "code",
   "execution_count": 48,
   "id": "4bd86b52",
   "metadata": {
    "scrolled": true
   },
   "outputs": [],
   "source": [
    "import sachin"
   ]
  },
  {
   "cell_type": "code",
   "execution_count": 51,
   "id": "8318999a",
   "metadata": {},
   "outputs": [
    {
     "name": "stdout",
     "output_type": "stream",
     "text": [
      "hello from alpha\n"
     ]
    }
   ],
   "source": [
    "sachin.alpha.print_alpha()"
   ]
  },
  {
   "cell_type": "code",
   "execution_count": 44,
   "id": "c160de75",
   "metadata": {},
   "outputs": [],
   "source": [
    "from sachin import alpha"
   ]
  },
  {
   "cell_type": "code",
   "execution_count": 46,
   "id": "c291ae36",
   "metadata": {},
   "outputs": [
    {
     "name": "stdout",
     "output_type": "stream",
     "text": [
      "hello from alpha\n"
     ]
    }
   ],
   "source": [
    "sachin.alpha.print_alpha()"
   ]
  },
  {
   "cell_type": "code",
   "execution_count": null,
   "id": "20790c99",
   "metadata": {},
   "outputs": [],
   "source": [
    "sound/                          Top-level package\n",
    "      __init__.py               Initialize the sound package\n",
    "      formats/                  Subpackage for file format conversions\n",
    "              __init__.py\n",
    "              wavread.py\n",
    "              wavwrite.py\n",
    "              aiffread.py\n",
    "              aiffwrite.py\n",
    "              auread.py\n",
    "              auwrite.py\n",
    "              ...\n",
    "      effects/                  Subpackage for sound effects\n",
    "              __init__.py\n",
    "              echo.py\n",
    "              surround.py\n",
    "              reverse.py\n",
    "              ...\n",
    "      filters/                  Subpackage for filters\n",
    "              __init__.py\n",
    "              equalizer.py\n",
    "              vocoder.py\n",
    "              karaoke.py\n",
    "              ...\n",
    "When importing the pac"
   ]
  },
  {
   "cell_type": "code",
   "execution_count": 1,
   "id": "c94458e5",
   "metadata": {},
   "outputs": [],
   "source": [
    "import sys"
   ]
  },
  {
   "cell_type": "code",
   "execution_count": 2,
   "id": "5c469c9a",
   "metadata": {},
   "outputs": [
    {
     "data": {
      "text/plain": [
       "['C:\\\\Python\\\\Python 10AM',\n",
       " 'C:\\\\Users\\\\hello\\\\anaconda3\\\\python311.zip',\n",
       " 'C:\\\\Users\\\\hello\\\\anaconda3\\\\DLLs',\n",
       " 'C:\\\\Users\\\\hello\\\\anaconda3\\\\Lib',\n",
       " 'C:\\\\Users\\\\hello\\\\anaconda3',\n",
       " '',\n",
       " 'C:\\\\Users\\\\hello\\\\anaconda3\\\\Lib\\\\site-packages',\n",
       " 'C:\\\\Users\\\\hello\\\\anaconda3\\\\Lib\\\\site-packages\\\\win32',\n",
       " 'C:\\\\Users\\\\hello\\\\anaconda3\\\\Lib\\\\site-packages\\\\win32\\\\lib',\n",
       " 'C:\\\\Users\\\\hello\\\\anaconda3\\\\Lib\\\\site-packages\\\\Pythonwin']"
      ]
     },
     "execution_count": 2,
     "metadata": {},
     "output_type": "execute_result"
    }
   ],
   "source": [
    "sys.path"
   ]
  },
  {
   "cell_type": "code",
   "execution_count": 4,
   "id": "ccefde62",
   "metadata": {},
   "outputs": [],
   "source": [
    "import os"
   ]
  },
  {
   "cell_type": "code",
   "execution_count": 6,
   "id": "d74401f7",
   "metadata": {},
   "outputs": [
    {
     "data": {
      "text/plain": [
       "True"
      ]
     },
     "execution_count": 6,
     "metadata": {},
     "output_type": "execute_result"
    }
   ],
   "source": [
    "os.path.exists('C:\\\\Users\\\\hello\\\\anaconda3\\\\DLLs')"
   ]
  },
  {
   "cell_type": "code",
   "execution_count": 7,
   "id": "055f0129",
   "metadata": {},
   "outputs": [],
   "source": [
    "mkdir g1\n"
   ]
  },
  {
   "cell_type": "code",
   "execution_count": 9,
   "id": "db759155",
   "metadata": {},
   "outputs": [
    {
     "name": "stdout",
     "output_type": "stream",
     "text": [
      "Writing ./g1/alpha.py\n"
     ]
    }
   ],
   "source": [
    "%%writefile ./g1/alpha.py\n",
    "def print_alpha():\n",
    "    print('hello')\n",
    "    "
   ]
  },
  {
   "cell_type": "code",
   "execution_count": 33,
   "id": "99f426b1",
   "metadata": {},
   "outputs": [
    {
     "name": "stdout",
     "output_type": "stream",
     "text": [
      "Overwriting ./g1/__init__.py\n"
     ]
    }
   ],
   "source": [
    "%%writefile ./g1/__init__.py\n",
    "print('hello')\n",
    "import beta\n",
    "import alpha"
   ]
  },
  {
   "cell_type": "code",
   "execution_count": 14,
   "id": "253e2223",
   "metadata": {},
   "outputs": [
    {
     "name": "stdout",
     "output_type": "stream",
     "text": [
      "C:\\Python\\Python 10AM\\g1\n"
     ]
    }
   ],
   "source": [
    "cd ./g1/\n"
   ]
  },
  {
   "cell_type": "code",
   "execution_count": 15,
   "id": "abcfe21f",
   "metadata": {},
   "outputs": [],
   "source": [
    "mkdir beta\n"
   ]
  },
  {
   "cell_type": "code",
   "execution_count": 40,
   "id": "3a616130",
   "metadata": {},
   "outputs": [
    {
     "name": "stdout",
     "output_type": "stream",
     "text": [
      "Writing ./beta.py\n"
     ]
    }
   ],
   "source": [
    "%%writefile ./beta.py\n",
    "def print_beta():\n",
    "    print('hello')"
   ]
  },
  {
   "cell_type": "code",
   "execution_count": 42,
   "id": "0e10b31c",
   "metadata": {},
   "outputs": [
    {
     "name": "stdout",
     "output_type": "stream",
     "text": [
      "Overwriting ./beta/__init__.py\n"
     ]
    }
   ],
   "source": [
    "%%writefile ./beta/__init__.py\n",
    "import beta.beta"
   ]
  },
  {
   "cell_type": "code",
   "execution_count": 18,
   "id": "06a1104c",
   "metadata": {},
   "outputs": [
    {
     "name": "stdout",
     "output_type": "stream",
     "text": [
      "C:\\Python\\Python 10AM\n"
     ]
    }
   ],
   "source": [
    "cd ../"
   ]
  },
  {
   "cell_type": "code",
   "execution_count": 29,
   "id": "03c29821",
   "metadata": {},
   "outputs": [
    {
     "name": "stdout",
     "output_type": "stream",
     "text": [
      "hello\n"
     ]
    }
   ],
   "source": [
    "import g1"
   ]
  },
  {
   "cell_type": "code",
   "execution_count": 43,
   "id": "646de83a",
   "metadata": {},
   "outputs": [
    {
     "name": "stdout",
     "output_type": "stream",
     "text": [
      "hello\n"
     ]
    },
    {
     "data": {
      "text/plain": [
       "<module 'g1' from 'C:\\\\Python\\\\Python 10AM\\\\g1\\\\__init__.py'>"
      ]
     },
     "execution_count": 43,
     "metadata": {},
     "output_type": "execute_result"
    }
   ],
   "source": [
    "from importlib import reload\n",
    "reload(g1)"
   ]
  },
  {
   "cell_type": "code",
   "execution_count": 36,
   "id": "bdd8ae8e",
   "metadata": {},
   "outputs": [
    {
     "name": "stdout",
     "output_type": "stream",
     "text": [
      "hello\n"
     ]
    }
   ],
   "source": [
    "g1.alpha.print_alpha()"
   ]
  },
  {
   "cell_type": "code",
   "execution_count": 44,
   "id": "12b76d0f",
   "metadata": {},
   "outputs": [
    {
     "name": "stdout",
     "output_type": "stream",
     "text": [
      "hello\n"
     ]
    }
   ],
   "source": [
    "g1.beta.beta.print_beta()"
   ]
  },
  {
   "cell_type": "code",
   "execution_count": null,
   "id": "7a0b049a",
   "metadata": {},
   "outputs": [],
   "source": []
  }
 ],
 "metadata": {
  "kernelspec": {
   "display_name": "Python 3 (ipykernel)",
   "language": "python",
   "name": "python3"
  },
  "language_info": {
   "codemirror_mode": {
    "name": "ipython",
    "version": 3
   },
   "file_extension": ".py",
   "mimetype": "text/x-python",
   "name": "python",
   "nbconvert_exporter": "python",
   "pygments_lexer": "ipython3",
   "version": "3.11.5"
  }
 },
 "nbformat": 4,
 "nbformat_minor": 5
}
