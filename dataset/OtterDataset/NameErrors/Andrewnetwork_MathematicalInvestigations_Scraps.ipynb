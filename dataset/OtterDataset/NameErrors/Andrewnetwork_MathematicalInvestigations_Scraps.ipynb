{
 "cells": [
  {
   "cell_type": "code",
   "execution_count": 1,
   "metadata": {},
   "outputs": [
    {
     "ename": "ZeroDivisionError",
     "evalue": "integer division or modulo by zero",
     "output_type": "error",
     "traceback": [
      "\u001b[1;31m---------------------------------------------------------------------------\u001b[0m",
      "\u001b[1;31mZeroDivisionError\u001b[0m                         Traceback (most recent call last)",
      "\u001b[1;32m<ipython-input-1-d9cf668b880f>\u001b[0m in \u001b[0;36m<module>\u001b[1;34m()\u001b[0m\n\u001b[0;32m      6\u001b[0m             \u001b[1;32mreturn\u001b[0m \u001b[0mgcd\u001b[0m\u001b[1;33m(\u001b[0m\u001b[0ma\u001b[0m\u001b[1;33m/\u001b[0m\u001b[0mi\u001b[0m\u001b[1;33m)\u001b[0m \u001b[1;33m+\u001b[0m \u001b[0ma\u001b[0m\u001b[1;33m/\u001b[0m\u001b[0mi\u001b[0m\u001b[1;33m\u001b[0m\u001b[0m\n\u001b[0;32m      7\u001b[0m \u001b[1;33m\u001b[0m\u001b[0m\n\u001b[1;32m----> 8\u001b[1;33m \u001b[0mgcd\u001b[0m\u001b[1;33m(\u001b[0m\u001b[1;36m32\u001b[0m\u001b[1;33m)\u001b[0m\u001b[1;33m\u001b[0m\u001b[0m\n\u001b[0m",
      "\u001b[1;32m<ipython-input-1-d9cf668b880f>\u001b[0m in \u001b[0;36mgcd\u001b[1;34m(a)\u001b[0m\n\u001b[0;32m      3\u001b[0m         \u001b[1;32mif\u001b[0m \u001b[0ma\u001b[0m \u001b[1;33m==\u001b[0m \u001b[1;36m0\u001b[0m\u001b[1;33m:\u001b[0m\u001b[1;33m\u001b[0m\u001b[0m\n\u001b[0;32m      4\u001b[0m             \u001b[1;32mreturn\u001b[0m \u001b[1;36m0\u001b[0m\u001b[1;33m\u001b[0m\u001b[0m\n\u001b[1;32m----> 5\u001b[1;33m         \u001b[1;32melif\u001b[0m \u001b[0ma\u001b[0m \u001b[1;33m%\u001b[0m \u001b[0mi\u001b[0m \u001b[1;33m==\u001b[0m \u001b[1;36m0\u001b[0m\u001b[1;33m:\u001b[0m\u001b[1;33m\u001b[0m\u001b[0m\n\u001b[0m\u001b[0;32m      6\u001b[0m             \u001b[1;32mreturn\u001b[0m \u001b[0mgcd\u001b[0m\u001b[1;33m(\u001b[0m\u001b[0ma\u001b[0m\u001b[1;33m/\u001b[0m\u001b[0mi\u001b[0m\u001b[1;33m)\u001b[0m \u001b[1;33m+\u001b[0m \u001b[0ma\u001b[0m\u001b[1;33m/\u001b[0m\u001b[0mi\u001b[0m\u001b[1;33m\u001b[0m\u001b[0m\n\u001b[0;32m      7\u001b[0m \u001b[1;33m\u001b[0m\u001b[0m\n",
      "\u001b[1;31mZeroDivisionError\u001b[0m: integer division or modulo by zero"
     ]
    }
   ],
   "source": [
    "def gcd(a):\n",
    "    for i in range(a):\n",
    "        if a == 0:\n",
    "            return 0\n",
    "        elif a % i == 0:\n",
    "            return gcd(a/i) + a/i\n",
    "\n",
    "gcd(32)"
   ]
  },
  {
   "cell_type": "code",
   "execution_count": 88,
   "metadata": {},
   "outputs": [
    {
     "data": {
      "text/plain": [
       "matrix([[120000,   6000,   1500],\n",
       "        [  8000,    400,    100],\n",
       "        [  1200,     60,     15]])"
      ]
     },
     "execution_count": 88,
     "metadata": {},
     "output_type": "execute_result"
    }
   ],
   "source": [
    "import numpy as np\n",
    "\n",
    "#a = np.matrix([[2,3,4],[4,5,2],[2,4,6]])\n",
    "\n",
    "a = np.matrix([400,20,5])\n",
    "b = np.matrix([300,20,3])\n",
    "\n",
    "b.T*a"
   ]
  },
  {
   "cell_type": "code",
   "execution_count": 100,
   "metadata": {},
   "outputs": [
    {
     "data": {
      "text/plain": [
       "matrix([[129200,   6460,   1615]])"
      ]
     },
     "execution_count": 100,
     "metadata": {},
     "output_type": "execute_result"
    }
   ],
   "source": [
    "sum(sum(b.T*a)[0])"
   ]
  },
  {
   "cell_type": "code",
   "execution_count": 99,
   "metadata": {},
   "outputs": [
    {
     "data": {
      "text/plain": [
       "matrix([[120000,   6000,   1500,   8000,    400,    100,   1200,     60,\n",
       "             15]])"
      ]
     },
     "execution_count": 99,
     "metadata": {},
     "output_type": "execute_result"
    }
   ],
   "source": [
    "(b.T*a).flatten()"
   ]
  },
  {
   "cell_type": "code",
   "execution_count": 105,
   "metadata": {},
   "outputs": [
    {
     "ename": "NameError",
     "evalue": "name 'math' is not defined",
     "output_type": "error",
     "traceback": [
      "\u001b[1;31m---------------------------------------------------------------------------\u001b[0m",
      "\u001b[1;31mNameError\u001b[0m                                 Traceback (most recent call last)",
      "\u001b[1;32m<ipython-input-105-6c0fd5ee05e7>\u001b[0m in \u001b[0;36m<module>\u001b[1;34m()\u001b[0m\n\u001b[1;32m----> 1\u001b[1;33m \u001b[0mmath\u001b[0m\u001b[1;33m.\u001b[0m\u001b[0mlog\u001b[0m\u001b[1;33m(\u001b[0m\u001b[1;36m1000\u001b[0m\u001b[1;33m,\u001b[0m\u001b[1;36m10\u001b[0m\u001b[1;33m)\u001b[0m\u001b[1;33m\u001b[0m\u001b[0m\n\u001b[0m",
      "\u001b[1;31mNameError\u001b[0m: name 'math' is not defined"
     ]
    }
   ],
   "source": []
  },
  {
   "cell_type": "code",
   "execution_count": 104,
   "metadata": {},
   "outputs": [
    {
     "ename": "ValueError",
     "evalue": "Bases greater than 36 not handled in base_repr.",
     "output_type": "error",
     "traceback": [
      "\u001b[1;31m---------------------------------------------------------------------------\u001b[0m",
      "\u001b[1;31mValueError\u001b[0m                                Traceback (most recent call last)",
      "\u001b[1;32m<ipython-input-104-6527cda05291>\u001b[0m in \u001b[0;36m<module>\u001b[1;34m()\u001b[0m\n\u001b[1;32m----> 1\u001b[1;33m \u001b[0mnp\u001b[0m\u001b[1;33m.\u001b[0m\u001b[0mbase_repr\u001b[0m\u001b[1;33m(\u001b[0m\u001b[1;36m52432423439204032948039284092384092384\u001b[0m\u001b[1;33m,\u001b[0m\u001b[1;36m4994\u001b[0m\u001b[1;33m)\u001b[0m\u001b[1;33m\u001b[0m\u001b[0m\n\u001b[0m",
      "\u001b[1;32mC:\\Users\\Andre\\Anaconda3\\envs\\TF_GPU\\lib\\site-packages\\numpy\\core\\numeric.py\u001b[0m in \u001b[0;36mbase_repr\u001b[1;34m(number, base, padding)\u001b[0m\n\u001b[0;32m   2332\u001b[0m     \u001b[0mdigits\u001b[0m \u001b[1;33m=\u001b[0m \u001b[1;34m'0123456789ABCDEFGHIJKLMNOPQRSTUVWXYZ'\u001b[0m\u001b[1;33m\u001b[0m\u001b[0m\n\u001b[0;32m   2333\u001b[0m     \u001b[1;32mif\u001b[0m \u001b[0mbase\u001b[0m \u001b[1;33m>\u001b[0m \u001b[0mlen\u001b[0m\u001b[1;33m(\u001b[0m\u001b[0mdigits\u001b[0m\u001b[1;33m)\u001b[0m\u001b[1;33m:\u001b[0m\u001b[1;33m\u001b[0m\u001b[0m\n\u001b[1;32m-> 2334\u001b[1;33m         \u001b[1;32mraise\u001b[0m \u001b[0mValueError\u001b[0m\u001b[1;33m(\u001b[0m\u001b[1;34m\"Bases greater than 36 not handled in base_repr.\"\u001b[0m\u001b[1;33m)\u001b[0m\u001b[1;33m\u001b[0m\u001b[0m\n\u001b[0m\u001b[0;32m   2335\u001b[0m     \u001b[1;32melif\u001b[0m \u001b[0mbase\u001b[0m \u001b[1;33m<\u001b[0m \u001b[1;36m2\u001b[0m\u001b[1;33m:\u001b[0m\u001b[1;33m\u001b[0m\u001b[0m\n\u001b[0;32m   2336\u001b[0m         \u001b[1;32mraise\u001b[0m \u001b[0mValueError\u001b[0m\u001b[1;33m(\u001b[0m\u001b[1;34m\"Bases less than 2 not handled in base_repr.\"\u001b[0m\u001b[1;33m)\u001b[0m\u001b[1;33m\u001b[0m\u001b[0m\n",
      "\u001b[1;31mValueError\u001b[0m: Bases greater than 36 not handled in base_repr."
     ]
    }
   ],
   "source": [
    "np.base_repr(52432423439204032948039284092384092384,4994)"
   ]
  },
  {
   "cell_type": "code",
   "execution_count": 38,
   "metadata": {},
   "outputs": [
    {
     "data": {
      "text/plain": [
       "matrix([[1, 2, 3]])"
      ]
     },
     "execution_count": 38,
     "metadata": {},
     "output_type": "execute_result"
    }
   ],
   "source": [
    "import numpy as np\n",
    "from numpy.linalg import inv\n",
    "\n",
    "a = np.matrix([1,2,3])\n",
    "b = np.matrix([100,10,1])\n",
    "\n",
    "b_prime = np.matrix([[64,32,16,8,4,2,1]])\n",
    "\n",
    "a"
   ]
  },
  {
   "cell_type": "code",
   "execution_count": 53,
   "metadata": {},
   "outputs": [
    {
     "data": {
      "text/plain": [
       "matrix([[2, 3]])"
      ]
     },
     "execution_count": 53,
     "metadata": {},
     "output_type": "execute_result"
    }
   ],
   "source": [
    "a = np.matrix([2,3])\n",
    "b = np.matrix([10,1])\n",
    "\n",
    "c_prime = np.matrix([1,0,1,1,1])\n",
    "b_prime = np.matrix([16,8,4,2,1])\n",
    "\n",
    "\n",
    "\n",
    "#print(a*b.T == c_prime*b_prime.T)\n",
    "a[0]"
   ]
  },
  {
   "cell_type": "code",
   "execution_count": 80,
   "metadata": {},
   "outputs": [
    {
     "data": {
      "text/plain": [
       "23"
      ]
     },
     "execution_count": 80,
     "metadata": {},
     "output_type": "execute_result"
    }
   ],
   "source": [
    "1*10+2*5+3*1"
   ]
  },
  {
   "cell_type": "code",
   "execution_count": 25,
   "metadata": {},
   "outputs": [
    {
     "data": {
      "text/plain": [
       "24"
      ]
     },
     "execution_count": 25,
     "metadata": {},
     "output_type": "execute_result"
    }
   ],
   "source": [
    "#4*2+3*4+2*2\n",
    "2*2 + 4*4 +2*2"
   ]
  },
  {
   "cell_type": "code",
   "execution_count": 9,
   "metadata": {},
   "outputs": [
    {
     "ename": "NameError",
     "evalue": "name 'sp' is not defined",
     "output_type": "error",
     "traceback": [
      "\u001b[1;31m---------------------------------------------------------------------------\u001b[0m",
      "\u001b[1;31mNameError\u001b[0m                                 Traceback (most recent call last)",
      "\u001b[1;32m<ipython-input-9-aad4f5d708dc>\u001b[0m in \u001b[0;36m<module>\u001b[1;34m()\u001b[0m\n\u001b[0;32m      1\u001b[0m \u001b[1;31m# A is a column vector.\u001b[0m\u001b[1;33m\u001b[0m\u001b[1;33m\u001b[0m\u001b[0m\n\u001b[1;32m----> 2\u001b[1;33m \u001b[0ma\u001b[0m \u001b[1;33m=\u001b[0m \u001b[0msp\u001b[0m\u001b[1;33m.\u001b[0m\u001b[0mMatrix\u001b[0m\u001b[1;33m(\u001b[0m\u001b[1;33m[\u001b[0m\u001b[0msp\u001b[0m\u001b[1;33m.\u001b[0m\u001b[0mSymbol\u001b[0m\u001b[1;33m(\u001b[0m\u001b[1;34m\"YIntercept\"\u001b[0m\u001b[1;33m)\u001b[0m\u001b[1;33m,\u001b[0m\u001b[0msp\u001b[0m\u001b[1;33m.\u001b[0m\u001b[0mSymbol\u001b[0m\u001b[1;33m(\u001b[0m\u001b[1;34m\"Slope\"\u001b[0m\u001b[1;33m)\u001b[0m\u001b[1;33m]\u001b[0m\u001b[1;33m)\u001b[0m\u001b[1;33m.\u001b[0m\u001b[0mT\u001b[0m\u001b[1;33m\u001b[0m\u001b[0m\n\u001b[0m\u001b[0;32m      3\u001b[0m \u001b[1;31m# x is a row vector\u001b[0m\u001b[1;33m\u001b[0m\u001b[1;33m\u001b[0m\u001b[0m\n\u001b[0;32m      4\u001b[0m \u001b[0mxData\u001b[0m \u001b[1;33m=\u001b[0m \u001b[0msp\u001b[0m\u001b[1;33m.\u001b[0m\u001b[0mMatrix\u001b[0m\u001b[1;33m(\u001b[0m\u001b[1;33m[\u001b[0m\u001b[1;36m1\u001b[0m\u001b[1;33m,\u001b[0m\u001b[0msp\u001b[0m\u001b[1;33m.\u001b[0m\u001b[0mSymbol\u001b[0m\u001b[1;33m(\u001b[0m\u001b[1;34m\"X\"\u001b[0m\u001b[1;33m)\u001b[0m\u001b[1;33m]\u001b[0m\u001b[1;33m)\u001b[0m\u001b[1;33m\u001b[0m\u001b[0m\n\u001b[0;32m      5\u001b[0m \u001b[1;33m(\u001b[0m\u001b[0ma\u001b[0m \u001b[1;33m*\u001b[0m \u001b[0mxData\u001b[0m\u001b[1;33m)\u001b[0m\u001b[1;33m\u001b[0m\u001b[0m\n",
      "\u001b[1;31mNameError\u001b[0m: name 'sp' is not defined"
     ]
    }
   ],
   "source": [
    "# A is a column vector. \n",
    "a = sp.Matrix([sp.Symbol(\"YIntercept\"),sp.Symbol(\"Slope\")]).T\n",
    "# x is a row vector\n",
    "xData = sp.Matrix([1,sp.Symbol(\"X\")])\n",
    "(a * xData)"
   ]
  },
  {
   "cell_type": "code",
   "execution_count": null,
   "metadata": {
    "collapsed": true
   },
   "outputs": [],
   "source": [
    "\n",
    "# A A | 2 0 0 0 | 3 0 0 0 | A A A\n",
    "# A B | 1 1 0 0 | 2 1 0 0 | A A B\n",
    "# A C | 1 0 1 0 | 2 0 1 0 | A A C\n",
    "# A D | 1 0 0 1 | 2 0 0 1 | A A D\n",
    "# B B | 0 2 0 0 | 1 2 0 0 | A B B\n",
    "# B C | 0 1 1 0 | 1 1 1 0 | A B C\n",
    "# B D | 0 1 0 1 | 1 1 0 1 | A B D\n",
    "# C C | 0 0 2 0           | A C C\n",
    "# C D | 0 0 1 1             A C D\n",
    "#                           A D D\n",
    "# D D | 0 0 0 2             B B B \n",
    "\n",
    "def fkn(arry):\n",
    "    out = []\n",
    "    while len(arry) > 0:\n",
    "        ls = []\n",
    "        for a in arry:\n",
    "            ls.append(a)\n",
    "        out.append(ls)\n",
    "        arry.pop(0)\n",
    "    return out\n",
    "\n",
    "def asn(prim,fst):\n",
    "    out = []\n",
    "    for elm in fst:\n",
    "        ls = []\n",
    "        for fsti in range(len(elm)):\n",
    "            ls.append(prim[0])\n",
    "        out.append(list(zip(ls,elm)))\n",
    "        prim.pop(0)\n",
    "    return out\n",
    "\n",
    "def tz(r):\n",
    "    out = []\n",
    "    for i in r[:]:\n",
    "        out.append((i,r))\n",
    "    return out\n",
    "\n",
    "    \n",
    "a = [\"A\",\"B\",\"C\",\"D\"]\n",
    "l = list(a)\n",
    "#asn(list(a),fkn(asn(list(a),fkn(list(a)))))\n",
    "asn(list(a),fkn(list(a)))\n",
    "#uniqueX(combX(3,['A',\"B\",\"C\",\"D\"]))"
   ]
  },
  {
   "cell_type": "code",
   "execution_count": null,
   "metadata": {
    "collapsed": true
   },
   "outputs": [],
   "source": [
    "# First we start with a dot product of a row vector * a column vector. \n",
    "htm = sp.Matrix([\"H\",\"T\"])\n",
    "r = htm * htm.T\n",
    "display(r)\n",
    "\n",
    "# Now we will flatten this matrix and repeat.\n",
    "r = sp.Matrix(sp.flatten(r)) * htm.T\n",
    "display(r)\n",
    "\n",
    "# One more to show what's going on. 2^4 = 16\n",
    "r = sp.Matrix(sp.flatten(r)) * htm.T\n",
    "display(r)"
   ]
  },
  {
   "cell_type": "markdown",
   "metadata": {},
   "source": [
    "Let's consider factorizing 1 into 3 factors. We can start with the uniform factor 1/3:\n",
    "$$ 1 = \\frac{1}{3}+\\frac{1}{3}+\\frac{1}{3} $$\n",
    "Now let's define our precision value to be 0.1 = 1/10. In order to get another valid factorization of 1 with respect to our precision value, we can deduct the precision value from one factor and add it to another. \n",
    "$$ 1 = \\frac{1}{3}+(\\frac{1}{3}-\\frac{1}{10})+(\\frac{1}{3}+\\frac{1}{10}) $$\n",
    "We can keep doing this untill we get:\n",
    "$$ 1 = \\frac{1}{3}+(\\frac{1}{3}-\\frac{2}{10})+(\\frac{1}{3}+\\frac{2}{10}) $$\n",
    "Because deducting 3/10 from our middle term would give us less than 1/10 ( violating our precision ). The problem isn't as simple as it seems, because the following is also a valid fractional factorization: \n",
    "$$ 1 = (\\frac{1}{3}+\\frac{1}{10})+(\\frac{1}{3}-\\frac{2}{10})+(\\frac{1}{3}+\\frac{1}{10}) $$\n",
    "\n",
    "It actually occurs to me that we are defining a type of geometric object. I.e. a circle is defined as such: \n",
    "$$ x^2 * y^2 = 1 $$\n",
    "We can calculate points on this circle with the parametric equations: \n",
    "$$ x = cx + r * cos(a)\\\\y = cy + r * sin(a) $$\n",
    "Where cx,cy is the orgin point, r being the radius, and a is the angle in radians ( which we adjust to calculate points along the curcumfrence )"
   ]
  },
  {
   "cell_type": "code",
   "execution_count": null,
   "metadata": {
    "collapsed": true
   },
   "outputs": [],
   "source": [
    "# For a circle in the origin, with a radius of 1.\n",
    "points = []\n",
    "for i in range(361):\n",
    "    points.append([np.cos(np.radians(i)),np.sin(np.radians(i))])\n",
    "\n",
    "# Does every point satisfy the equation above? Yes\n",
    "for i in points:\n",
    "    #print(i[0]**2+i[1]**2)\n",
    "    pass"
   ]
  },
  {
   "cell_type": "code",
   "execution_count": null,
   "metadata": {
    "collapsed": true
   },
   "outputs": [],
   "source": [
    " for i in idx:\n",
    "        ys.append(t)\n",
    "        zs.append(val - t )\n",
    "        \n",
    "    #for i in zip(ys,idx):\n",
    "       # zs.append(val - (i[0]+i[1]))\n",
    "    \n",
    "    return list(zip(idx,ys,zs))\n",
    "\n",
    "\n",
    "for i in summandsPermute(1,3):\n",
    "    print(\"{0:8f} + {1:8f} + {2:8f} = {3}\".format(i[0],i[1],i[2],i[0]+i[1]+i[2]))"
   ]
  },
  {
   "cell_type": "code",
   "execution_count": null,
   "metadata": {
    "collapsed": true
   },
   "outputs": [],
   "source": [
    "def summandsPermute(val,nTerms,precision=10):\n",
    "    \n",
    "    outLs = []\n",
    "    idx = np.linspace(0,val,precision)\n",
    "    \n",
    "    # Remove edge cases. \n",
    "    idx = idx[1:-1]\n",
    "    \n",
    "    cycleVal = nTerms\n",
    "    cycleCounter = 0\n",
    "    for i in range(nTerms):\n",
    "        outLs.append(list(cycleDown(idx,cycleCounter)))\n",
    "        cycleCounter+=cycleVal\n",
    "        \n",
    "    \n",
    "    return list(zip(*outLs))\n",
    "\n",
    "result = summandsPermute(1,3)\n",
    "for i in result:\n",
    "    print(i)\n",
    "    \n",
    "print(len(result))"
   ]
  },
  {
   "cell_type": "code",
   "execution_count": null,
   "metadata": {
    "collapsed": true
   },
   "outputs": [],
   "source": [
    "    for i in range(nTerms):\n",
    "        cycleGroup.append(list(idx))\n",
    "    \n",
    "    cycleIndex = nTerms - 1\n",
    "    \n",
    "    for i in range(200):\n",
    "        grp = list(zip(*cycleGroup))\n",
    "        res = sum(grp[0])\n",
    "        if(str(res) == \"1.0\"):\n",
    "            print(grp[0])\n",
    "            cycleColumn(cycleGroup,cycleIndex)\n",
    "            cycleIndex = roundDec(cycleIndex,nTerms)\n",
    "            \n",
    "        cycleColumn(cycleGroup,cycleIndex)\n",
    "        \n",
    "    "
   ]
  }
 ],
 "metadata": {
  "kernelspec": {
   "display_name": "Python 3",
   "language": "python",
   "name": "python3"
  },
  "language_info": {
   "codemirror_mode": {
    "name": "ipython",
    "version": 3
   },
   "file_extension": ".py",
   "mimetype": "text/x-python",
   "name": "python",
   "nbconvert_exporter": "python",
   "pygments_lexer": "ipython3",
   "version": "3.5.3"
  }
 },
 "nbformat": 4,
 "nbformat_minor": 2
}
