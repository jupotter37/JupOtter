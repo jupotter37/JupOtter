{
 "cells": [
  {
   "cell_type": "markdown",
   "metadata": {},
   "source": [
    "## Measures of dispersion in data science\n",
    "\n",
    "**Population variance and standard deviation**\n",
    "- Frequently used in data science to deal with big data\n",
    "- For example, sampling of 1000 people to predict presidential election of >100,000,000 people\n",
    "- Variability should be presented together with mean (But you don't see from news.)"
   ]
  },
  {
   "cell_type": "code",
   "execution_count": null,
   "metadata": {},
   "outputs": [],
   "source": [
    "# variance measurement: each data minors the population average, and take square. Then divide the resultant by the sample size.\n",
    "# it tones down the effect of the outliers. The smaller standard deviation means loess overal dispersion\n",
    "\n",
    "samples = [1, 3, 4, 2, 6, 5, 3, 4, 5, 2]\n",
    "import statistics as stats\n",
    "stats.pvariance(samples)"
   ]
  },
  {
   "cell_type": "code",
   "execution_count": null,
   "metadata": {},
   "outputs": [],
   "source": [
    "# What is the difference between variance and standard deviation?\n",
    "# standard deviation is the square root of the variance.\n",
    "\n",
    "stats.pstdev(samples)  # calculate standard deviation \n",
    "#alternatively, import math, and use math.sqrt()"
   ]
  },
  {
   "cell_type": "markdown",
   "metadata": {},
   "source": [
    "## Learn a program of rolling 6-side dice"
   ]
  },
  {
   "cell_type": "code",
   "execution_count": 1,
   "metadata": {},
   "outputs": [
    {
     "name": "stdout",
     "output_type": "stream",
     "text": [
      "3, 1, 4, 1, 3, 4, 3, 4, 4, 5, "
     ]
    }
   ],
   "source": [
    "# Must use random module (library) to generate random number to simulate rolling dice\n",
    "import random\n",
    "for roll in range(10):    # generate random number 10 times\n",
    "    print(random.randrange(1,7), end=\", \")   # every time, the random number is between 1 and 6"
   ]
  },
  {
   "cell_type": "code",
   "execution_count": 2,
   "metadata": {},
   "outputs": [
    {
     "data": {
      "text/plain": [
       "['BPF',\n",
       " 'LOG4',\n",
       " 'NV_MAGICCONST',\n",
       " 'RECIP_BPF',\n",
       " 'Random',\n",
       " 'SG_MAGICCONST',\n",
       " 'SystemRandom',\n",
       " 'TWOPI',\n",
       " '_ONE',\n",
       " '_Sequence',\n",
       " '_Set',\n",
       " '__all__',\n",
       " '__builtins__',\n",
       " '__cached__',\n",
       " '__doc__',\n",
       " '__file__',\n",
       " '__loader__',\n",
       " '__name__',\n",
       " '__package__',\n",
       " '__spec__',\n",
       " '_accumulate',\n",
       " '_acos',\n",
       " '_bisect',\n",
       " '_ceil',\n",
       " '_cos',\n",
       " '_e',\n",
       " '_exp',\n",
       " '_floor',\n",
       " '_index',\n",
       " '_inst',\n",
       " '_isfinite',\n",
       " '_log',\n",
       " '_os',\n",
       " '_pi',\n",
       " '_random',\n",
       " '_repeat',\n",
       " '_sha512',\n",
       " '_sin',\n",
       " '_sqrt',\n",
       " '_test',\n",
       " '_test_generator',\n",
       " '_urandom',\n",
       " '_warn',\n",
       " 'betavariate',\n",
       " 'choice',\n",
       " 'choices',\n",
       " 'expovariate',\n",
       " 'gammavariate',\n",
       " 'gauss',\n",
       " 'getrandbits',\n",
       " 'getstate',\n",
       " 'lognormvariate',\n",
       " 'normalvariate',\n",
       " 'paretovariate',\n",
       " 'randbytes',\n",
       " 'randint',\n",
       " 'random',\n",
       " 'randrange',\n",
       " 'sample',\n",
       " 'seed',\n",
       " 'setstate',\n",
       " 'shuffle',\n",
       " 'triangular',\n",
       " 'uniform',\n",
       " 'vonmisesvariate',\n",
       " 'weibullvariate']"
      ]
     },
     "execution_count": 2,
     "metadata": {},
     "output_type": "execute_result"
    }
   ],
   "source": [
    "dir(random)"
   ]
  },
  {
   "cell_type": "code",
   "execution_count": 3,
   "metadata": {},
   "outputs": [
    {
     "ename": "NameError",
     "evalue": "name 'ran' is not defined",
     "output_type": "error",
     "traceback": [
      "\u001b[1;31m---------------------------------------------------------------------------\u001b[0m",
      "\u001b[1;31mNameError\u001b[0m                                 Traceback (most recent call last)",
      "Cell \u001b[1;32mIn[3], line 2\u001b[0m\n\u001b[0;32m      1\u001b[0m \u001b[38;5;66;03m# use tab to see what is available\u001b[39;00m\n\u001b[1;32m----> 2\u001b[0m ran\n",
      "\u001b[1;31mNameError\u001b[0m: name 'ran' is not defined"
     ]
    }
   ],
   "source": [
    "# use tab to see what is available\n",
    "random."
   ]
  },
  {
   "cell_type": "code",
   "execution_count": null,
   "metadata": {},
   "outputs": [],
   "source": [
    "random.randint(0,69)  # the last item is also considered for randint. But not for randrange\n",
    "# but randrange can have steps as the 3rd input."
   ]
  },
  {
   "cell_type": "code",
   "execution_count": null,
   "metadata": {},
   "outputs": [],
   "source": [
    "random.choice(range(0,20))  # this permits the random selection from a list of items"
   ]
  },
  {
   "cell_type": "markdown",
   "metadata": {},
   "source": [
    "**Now, if rolling a six-sided dice for 1,000,000 times** \\\n",
    "check if all the numbers are generated with equal probability"
   ]
  },
  {
   "cell_type": "code",
   "execution_count": null,
   "metadata": {
    "scrolled": false
   },
   "outputs": [],
   "source": [
    "#Now, if rolling a six-sided dice for 1,000,000 times.\n",
    "#Check if all the numbers are generated with equal probability.\n",
    "import random\n",
    "\n",
    "#face frequency counters. Initiate the values\n",
    "frequency1 = 0\n",
    "frequency2 = 0\n",
    "frequency3 = 0\n",
    "frequency4 = 0\n",
    "frequency5 = 0\n",
    "frequency6 = 0\n",
    "\n",
    "# roll 1,000,000 times\n",
    "for roll in range(1000000):  # alternatively using underscore, 10_000_000\n",
    "    face = random.randrange(1, 6)\n",
    "    \n",
    "    # increment appropriate face counter\n",
    "    if face == 1:\n",
    "        frequency1 +=1\n",
    "    elif face == 2:\n",
    "        frequency2 +=1\n",
    "    elif face == 3:\n",
    "        frequency3 +=1\n",
    "    elif face == 4:\n",
    "        frequency4 +=1\n",
    "    elif face == 5:\n",
    "        frequency5 +=1\n",
    "    elif face == 6:\n",
    "        frequency6 +=1\n",
    "        \n",
    "print(f'Face{\"Frequency\": >13}') \n",
    "      # > means right aligned, 13 means 13 digit reserved\n",
    "      # don't use \"\" outside/inside of \"\"\n",
    "print(f\"{1: >4}{frequency1: >13}\")\n",
    "print(f\"{2: >4}{frequency2: >13}\")\n",
    "print(f\"{3: >4}{frequency3: >13}\")\n",
    "print(f\"{4: >4}{frequency4: >13}\")\n",
    "print(f\"{5: >4}{frequency5: >13}\")\n",
    "print(f\"{6: >4}{frequency6: >13}\")"
   ]
  },
  {
   "cell_type": "markdown",
   "metadata": {},
   "source": [
    "**Question: What is wrong?**"
   ]
  },
  {
   "cell_type": "markdown",
   "metadata": {},
   "source": [
    "### make random not random. \n",
    "Function randrange generates pseudorandom numbers, based on internal calculation that begins with a numeric value known as seed. Repeatedly calling randrange produces a sequence of numbers that appear to be random, because each time you start a new interadtive session or execute a script that uses the random module's functions, Python internally uses a different seed value. When you  are debugging logic errors in  programs that use randomly generated data, it can be helpful to use the same sequence of random numbers until you have eliminated the logic errors, before testing the program with other values. To do this, you can use the random module's seed function to seed the random-numbers generator yourself- this forces randrange to begin calculating its pseudorandom number sequence from the seed you specify."
   ]
  },
  {
   "cell_type": "code",
   "execution_count": null,
   "metadata": {},
   "outputs": [],
   "source": [
    "random.seed(4124587242422452)\n",
    "for roll in range(10):\n",
    "    print(random.randrange(1,7), end=' ')"
   ]
  },
  {
   "cell_type": "code",
   "execution_count": null,
   "metadata": {},
   "outputs": [],
   "source": [
    "for roll in range(10):\n",
    "    print(random.randrange(1,7), end=' ')"
   ]
  },
  {
   "cell_type": "code",
   "execution_count": null,
   "metadata": {},
   "outputs": [],
   "source": [
    "random.seed(4124587242422452)\n",
    "for roll in range(10):\n",
    "    print(random.randrange(1,7), end=' ')"
   ]
  },
  {
   "cell_type": "code",
   "execution_count": null,
   "metadata": {},
   "outputs": [],
   "source": [
    "#random.seed(15)\n",
    "for roll in range(10):\n",
    "    print(random.randrange(1,7), end=' ')"
   ]
  },
  {
   "cell_type": "code",
   "execution_count": null,
   "metadata": {},
   "outputs": [],
   "source": [
    "#random.seed(15)\n",
    "for roll in range(10):\n",
    "    print(random.randrange(1,7), end=' ')"
   ]
  },
  {
   "cell_type": "markdown",
   "metadata": {},
   "source": [
    "## List - the basics"
   ]
  },
  {
   "cell_type": "markdown",
   "metadata": {},
   "source": [
    "**Creating a List** \\\n",
    "Lists typically store homogeneous data, but may store heterogeneous data."
   ]
  },
  {
   "cell_type": "code",
   "execution_count": 8,
   "metadata": {},
   "outputs": [
    {
     "name": "stdout",
     "output_type": "stream",
     "text": [
      "[-45, 6, 0, 72, 1543]\n"
     ]
    }
   ],
   "source": [
    "c = [-45, 6, 0, 72, 1543]\n",
    "print(c)"
   ]
  },
  {
   "cell_type": "markdown",
   "metadata": {},
   "source": [
    "Try index c[1], c[-5]"
   ]
  },
  {
   "cell_type": "code",
   "execution_count": 9,
   "metadata": {},
   "outputs": [
    {
     "data": {
      "text/plain": [
       "51"
      ]
     },
     "execution_count": 9,
     "metadata": {},
     "output_type": "execute_result"
    }
   ],
   "source": [
    "c[1] + c[2] - c[0]   # note: it happens only when all those elements are digits"
   ]
  },
  {
   "cell_type": "code",
   "execution_count": 10,
   "metadata": {},
   "outputs": [
    {
     "data": {
      "text/plain": [
       "['__add__',\n",
       " '__class__',\n",
       " '__class_getitem__',\n",
       " '__contains__',\n",
       " '__delattr__',\n",
       " '__delitem__',\n",
       " '__dir__',\n",
       " '__doc__',\n",
       " '__eq__',\n",
       " '__format__',\n",
       " '__ge__',\n",
       " '__getattribute__',\n",
       " '__getitem__',\n",
       " '__getstate__',\n",
       " '__gt__',\n",
       " '__hash__',\n",
       " '__iadd__',\n",
       " '__imul__',\n",
       " '__init__',\n",
       " '__init_subclass__',\n",
       " '__iter__',\n",
       " '__le__',\n",
       " '__len__',\n",
       " '__lt__',\n",
       " '__mul__',\n",
       " '__ne__',\n",
       " '__new__',\n",
       " '__reduce__',\n",
       " '__reduce_ex__',\n",
       " '__repr__',\n",
       " '__reversed__',\n",
       " '__rmul__',\n",
       " '__setattr__',\n",
       " '__setitem__',\n",
       " '__sizeof__',\n",
       " '__str__',\n",
       " '__subclasshook__',\n",
       " 'append',\n",
       " 'clear',\n",
       " 'copy',\n",
       " 'count',\n",
       " 'extend',\n",
       " 'index',\n",
       " 'insert',\n",
       " 'pop',\n",
       " 'remove',\n",
       " 'reverse',\n",
       " 'sort']"
      ]
     },
     "execution_count": 10,
     "metadata": {},
     "output_type": "execute_result"
    }
   ],
   "source": [
    "dir(c)"
   ]
  },
  {
   "cell_type": "code",
   "execution_count": 11,
   "metadata": {},
   "outputs": [
    {
     "data": {
      "text/plain": [
       "5"
      ]
     },
     "execution_count": 11,
     "metadata": {},
     "output_type": "execute_result"
    }
   ],
   "source": [
    "len(c)"
   ]
  },
  {
   "cell_type": "code",
   "execution_count": 12,
   "metadata": {},
   "outputs": [
    {
     "data": {
      "text/plain": [
       "-45"
      ]
     },
     "execution_count": 12,
     "metadata": {},
     "output_type": "execute_result"
    }
   ],
   "source": [
    "min(c)"
   ]
  },
  {
   "cell_type": "markdown",
   "metadata": {},
   "source": [
    " **What do you expect to see below?**"
   ]
  },
  {
   "cell_type": "code",
   "execution_count": 13,
   "metadata": {},
   "outputs": [
    {
     "data": {
      "text/plain": [
       "[34, 99, 5, 34, 23, -45, 6, 0, 72, 1543]"
      ]
     },
     "execution_count": 13,
     "metadata": {},
     "output_type": "execute_result"
    }
   ],
   "source": [
    "a=[34, 99, 5, 34, 23]\n",
    "a+c"
   ]
  },
  {
   "cell_type": "markdown",
   "metadata": {},
   "source": [
    "**Lists are mutable**"
   ]
  },
  {
   "cell_type": "code",
   "execution_count": null,
   "metadata": {},
   "outputs": [],
   "source": [
    "print(c)\n",
    "c[3] = \"stapler\"\n",
    "print(c)"
   ]
  },
  {
   "cell_type": "markdown",
   "metadata": {},
   "source": [
    "**a single string is natually \"like\" a list**"
   ]
  },
  {
   "cell_type": "code",
   "execution_count": null,
   "metadata": {},
   "outputs": [],
   "source": [
    "s = \"Hi You\"  #each letter is an element in a list, including space\n",
    "print(s[0])\n",
    "print(s[2])"
   ]
  },
  {
   "cell_type": "markdown",
   "metadata": {},
   "source": [
    "**strings in a list is still a list. List can include list of list of list of list...**"
   ]
  },
  {
   "cell_type": "code",
   "execution_count": null,
   "metadata": {},
   "outputs": [],
   "source": [
    "string_list = [\"I\", \"want\", \"coffee\"]\n",
    "print(string_list[0])\n",
    "print(string_list[1])"
   ]
  },
  {
   "cell_type": "code",
   "execution_count": null,
   "metadata": {},
   "outputs": [],
   "source": [
    "string_list[1][1]  #first [1] achieve the element \"want\", and the second[1] achieve letter a"
   ]
  },
  {
   "cell_type": "markdown",
   "metadata": {},
   "source": [
    "**Appending to a List with .apend, .insert and +=** \\\n",
    "Lists can grow dynamically to accommodate new items."
   ]
  },
  {
   "cell_type": "code",
   "execution_count": null,
   "metadata": {},
   "outputs": [],
   "source": [
    "string_list = [\"I\", \"want\", \"coffee\"]\n",
    "string_list.append(\"for you\")\n",
    "string_list"
   ]
  },
  {
   "cell_type": "code",
   "execution_count": null,
   "metadata": {},
   "outputs": [],
   "source": [
    "string_list.insert(-2, 'good')\n",
    "string_list"
   ]
  },
  {
   "cell_type": "code",
   "execution_count": null,
   "metadata": {},
   "outputs": [],
   "source": [
    "# Either way, we can use .insert method to place the item to the desired location\n",
    "string_list.insert(2, \"to buy a cup of\")\n",
    "string_list"
   ]
  },
  {
   "cell_type": "code",
   "execution_count": null,
   "metadata": {},
   "outputs": [],
   "source": [
    "# The above .append and .insert only add one item. What if we add many items?\n",
    "string_list = [\"I\", \"wants\", \"coffee\"]\n",
    "string_list.extend([\"purchased\", \"from\", \"this\", \"store\"])\n",
    "string_list"
   ]
  },
  {
   "cell_type": "code",
   "execution_count": null,
   "metadata": {},
   "outputs": [],
   "source": [
    "# Now, I found a grammar error. string has a replace method to replace any sign with another sign.\n",
    "string_list[1].replace('s','')\n",
    "string_list"
   ]
  },
  {
   "cell_type": "markdown",
   "metadata": {},
   "source": [
    "#### See it is not changed. What should we do?"
   ]
  },
  {
   "cell_type": "code",
   "execution_count": null,
   "metadata": {},
   "outputs": [],
   "source": [
    "a_list = []  #initiate the variable\n",
    "for number in range(1,6):\n",
    "    a_list += [number]\n",
    "\n",
    "a_list"
   ]
  },
  {
   "cell_type": "code",
   "execution_count": null,
   "metadata": {},
   "outputs": [],
   "source": [
    "letters = []\n",
    "letters += \"Python\"   #Note here that the string \"Python\" is regarded as iterable operand, sth like a list\n",
    "letters"
   ]
  },
  {
   "cell_type": "markdown",
   "metadata": {},
   "source": [
    "**Using for and range to Access List Indices and Values**"
   ]
  },
  {
   "cell_type": "code",
   "execution_count": null,
   "metadata": {},
   "outputs": [],
   "source": [
    "for i in range(len(letters)):\n",
    "    print(f'{i}:  {letters[i]}')"
   ]
  },
  {
   "cell_type": "markdown",
   "metadata": {},
   "source": [
    "**Comparison Operators:** compare entire lists element-by-element."
   ]
  },
  {
   "cell_type": "code",
   "execution_count": 4,
   "metadata": {},
   "outputs": [],
   "source": [
    "a = [1,2,3]\n",
    "b = [2,3,4]\n",
    "c = [1,2,3,4]"
   ]
  },
  {
   "cell_type": "code",
   "execution_count": 5,
   "metadata": {},
   "outputs": [
    {
     "data": {
      "text/plain": [
       "True"
      ]
     },
     "execution_count": 5,
     "metadata": {},
     "output_type": "execute_result"
    }
   ],
   "source": [
    "a<b"
   ]
  },
  {
   "cell_type": "code",
   "execution_count": 6,
   "metadata": {
    "scrolled": true
   },
   "outputs": [
    {
     "data": {
      "text/plain": [
       "True"
      ]
     },
     "execution_count": 6,
     "metadata": {},
     "output_type": "execute_result"
    }
   ],
   "source": [
    "a<c"
   ]
  },
  {
   "cell_type": "code",
   "execution_count": 7,
   "metadata": {},
   "outputs": [
    {
     "data": {
      "text/plain": [
       "True"
      ]
     },
     "execution_count": 7,
     "metadata": {},
     "output_type": "execute_result"
    }
   ],
   "source": [
    "b!=c"
   ]
  },
  {
   "cell_type": "markdown",
   "metadata": {},
   "source": [
    "**Slicing can slice sequence to create subsets**\n",
    "- it works differently for list, tuple and string"
   ]
  },
  {
   "cell_type": "code",
   "execution_count": null,
   "metadata": {},
   "outputs": [],
   "source": [
    "numbers = [12, 3, 5, 7, 11, 13, 17, 19]\n",
    "numbers[2:5]   # The simpliest way is to slice the index"
   ]
  },
  {
   "cell_type": "code",
   "execution_count": null,
   "metadata": {},
   "outputs": [],
   "source": [
    "# slicing the starting items\n",
    "numbers[:5]  # default starting from 0\n",
    "# it is the same as numbers[0:5]"
   ]
  },
  {
   "cell_type": "code",
   "execution_count": null,
   "metadata": {},
   "outputs": [],
   "source": [
    "# slicing the ending items\n",
    "numbers[2:len(numbers)]"
   ]
  },
  {
   "cell_type": "code",
   "execution_count": null,
   "metadata": {},
   "outputs": [],
   "source": [
    "# slicing with steps\n",
    "numbers[::2]"
   ]
  },
  {
   "cell_type": "code",
   "execution_count": null,
   "metadata": {},
   "outputs": [],
   "source": [
    "# slicing with negative indices - reverse the sequence!\n",
    "numbers[::-1]\n",
    "# either way, use numbers.reverse()"
   ]
  },
  {
   "cell_type": "markdown",
   "metadata": {},
   "source": [
    "**Delete a specific item with a list index**"
   ]
  },
  {
   "cell_type": "code",
   "execution_count": null,
   "metadata": {},
   "outputs": [],
   "source": [
    "numbers = list(range(0, 10))\n",
    "del numbers[-1] # it removes the last item in the list\n",
    "numbers\n",
    "# the same method is numbers.pop() "
   ]
  },
  {
   "cell_type": "code",
   "execution_count": null,
   "metadata": {},
   "outputs": [],
   "source": [
    "del numbers[0:2] # delete items of specific indices"
   ]
  },
  {
   "cell_type": "code",
   "execution_count": null,
   "metadata": {},
   "outputs": [],
   "source": [
    "del numbers[::2] # delete every other items in the list"
   ]
  },
  {
   "cell_type": "code",
   "execution_count": null,
   "metadata": {},
   "outputs": [],
   "source": [
    "numbers.pop()  # remove the last item, one at a time\n",
    "numbers"
   ]
  },
  {
   "cell_type": "code",
   "execution_count": null,
   "metadata": {},
   "outputs": [],
   "source": [
    "numbers.pop?\n",
    "#compare it with numbers.remove()"
   ]
  },
  {
   "cell_type": "code",
   "execution_count": null,
   "metadata": {},
   "outputs": [],
   "source": [
    "# This might be very useful. If you don't want a specific item, delete it in the list.\n",
    "numbers = list(range(0, 10))\n",
    "numbers.remove(2)  \n",
    "numbers"
   ]
  },
  {
   "cell_type": "markdown",
   "metadata": {},
   "source": [
    "**sorting a list in ascending order** -  sort function"
   ]
  },
  {
   "cell_type": "code",
   "execution_count": null,
   "metadata": {},
   "outputs": [],
   "source": [
    "numbers = [10, 3, 7, 1, 9, 4, 2, 8, 5, 6]\n",
    "numbers.sort()\n",
    "numbers"
   ]
  },
  {
   "cell_type": "code",
   "execution_count": null,
   "metadata": {},
   "outputs": [],
   "source": [
    "numbers.sort(reverse=True) # sorting in descending order\n",
    "numbers"
   ]
  },
  {
   "cell_type": "code",
   "execution_count": null,
   "metadata": {},
   "outputs": [],
   "source": [
    "# using \"sorted\" returns a new list without changing the original sequence\n",
    "# This if a function, not a method!\n",
    "numbers = [10, 3, 7, 1, 9, 4, 2, 8, 5, 6]\n",
    "ascending_numbers = sorted(numbers)\n",
    "# for reversing, descending_numbers = sorted(numbers, reverse=True)\n",
    "ascending_numbers"
   ]
  },
  {
   "cell_type": "markdown",
   "metadata": {},
   "source": [
    "**For a big list/tuple, how do we know if a specific item is there?** do **searching**"
   ]
  },
  {
   "cell_type": "code",
   "execution_count": null,
   "metadata": {},
   "outputs": [],
   "source": [
    "numbers = [10, 3, 7, 1, 9, 4, 2, 8, 5, 6]\n",
    "numbers.index(10)  # the method .index return the index of specific item"
   ]
  },
  {
   "cell_type": "code",
   "execution_count": null,
   "metadata": {
    "scrolled": true
   },
   "outputs": [],
   "source": [
    "numbers.index(12)  # if the item is not in the list, return error"
   ]
  },
  {
   "cell_type": "code",
   "execution_count": null,
   "metadata": {},
   "outputs": [],
   "source": [
    "# another simple way to examine the inclusion is\n",
    "4 in numbers"
   ]
  },
  {
   "cell_type": "code",
   "execution_count": null,
   "metadata": {
    "scrolled": true
   },
   "outputs": [],
   "source": [
    "67 not in numbers  "
   ]
  },
  {
   "cell_type": "code",
   "execution_count": null,
   "metadata": {},
   "outputs": [],
   "source": [
    "# to count the copies of certain item in a list, use .count method\n",
    "numbers.count(10)"
   ]
  }
 ],
 "metadata": {
  "kernelspec": {
   "display_name": "Python 3 (ipykernel)",
   "language": "python",
   "name": "python3"
  },
  "language_info": {
   "codemirror_mode": {
    "name": "ipython",
    "version": 3
   },
   "file_extension": ".py",
   "mimetype": "text/x-python",
   "name": "python",
   "nbconvert_exporter": "python",
   "pygments_lexer": "ipython3",
   "version": "3.11.5"
  }
 },
 "nbformat": 4,
 "nbformat_minor": 4
}
