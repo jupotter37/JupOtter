{
 "cells": [
  {
   "cell_type": "markdown",
   "id": "23589c8a-6cb3-46ef-97ca-68a187be3c2f",
   "metadata": {},
   "source": [
    "![](../storage/banners/40_assumptions.png)"
   ]
  },
  {
   "cell_type": "markdown",
   "id": "0f745e69-2780-4310-9d3f-a03cbbdb13b9",
   "metadata": {},
   "source": [
    "##### Нечто, не напрямую связанное с НИР"
   ]
  },
  {
   "cell_type": "code",
   "execution_count": 8,
   "id": "434d75a3-fde6-4f2b-8fe6-c1e3c48cfadc",
   "metadata": {},
   "outputs": [
    {
     "name": "stdout",
     "output_type": "stream",
     "text": [
      "Сингулярные числа: [1. 1.]\n",
      "Собственные числа: [0.+1.j 0.-1.j]\n"
     ]
    }
   ],
   "source": [
    "import numpy as np\n",
    "\n",
    "a = np.array([[0, 1],\n",
    "              [-1, 0]])\n",
    "\n",
    "_, v, _ = np.linalg.svd(a)\n",
    "print(f\"Сингулярные числа: {v}\")\n",
    "\n",
    "w, v = np.linalg.eig(a)\n",
    "print(f\"Собственные числа: {w}\")"
   ]
  },
  {
   "cell_type": "markdown",
   "id": "041c7fef-bf5e-47dd-bef8-f44b380a851e",
   "metadata": {
    "jp-MarkdownHeadingCollapsed": true
   },
   "source": [
    "##### Быстродействие"
   ]
  },
  {
   "cell_type": "markdown",
   "id": "ce35b96e-edea-4da9-b423-07657473a623",
   "metadata": {},
   "source": [
    "`clip`: своё лучше для обычных чисел"
   ]
  },
  {
   "cell_type": "code",
   "execution_count": 43,
   "id": "d813faf4-6706-40fc-b76b-c23bc526583d",
   "metadata": {},
   "outputs": [
    {
     "name": "stdout",
     "output_type": "stream",
     "text": [
      "my-clip: 0.14356112480163574 секунд\n",
      "np.clip: 3.1530544757843018 секунд\n"
     ]
    }
   ],
   "source": [
    "from __init__ import *\n",
    "import numpy as np\n",
    "import time\n",
    "\n",
    "n = int(1e6)\n",
    "\n",
    "# Моя функция\n",
    "def clip(a: float, bot: float, top: float) -> float:\n",
    "    if a < bot:\n",
    "        return bot\n",
    "    if a > top:\n",
    "        return top\n",
    "    return a\n",
    "\n",
    "t0 = time.time()\n",
    "for _ in range(n):\n",
    "    tmp = clip(-1, 0, 2)\n",
    "print(f\"my-clip: {time.time() - t0} секунд\")\n",
    "\n",
    "t0 = time.time()\n",
    "for _ in range(n):\n",
    "    tmp = np.clip(-1, 0, 2)\n",
    "print(f\"np.clip: {time.time() - t0} секунд\")"
   ]
  },
  {
   "cell_type": "code",
   "execution_count": null,
   "id": "b23d1f64-f31a-47bf-968d-6dd4fce20eb8",
   "metadata": {},
   "outputs": [],
   "source": [
    "# import numpy as np\n",
    "# s0 = dir(np)"
   ]
  },
  {
   "cell_type": "code",
   "execution_count": null,
   "id": "192b5569-a66d-4b74-8bbc-9ab5a352e870",
   "metadata": {},
   "outputs": [],
   "source": [
    "# s = dir(quaternion.np)\n",
    "# for i in s0:\n",
    "#     s.remove(i)\n",
    "# s"
   ]
  },
  {
   "cell_type": "markdown",
   "id": "315db081-e4bd-493e-b67a-c5ba29ed8572",
   "metadata": {},
   "source": [
    "**Инициализация**"
   ]
  },
  {
   "cell_type": "code",
   "execution_count": 18,
   "id": "5793777f-eb14-46e9-b950-e7d15d63319e",
   "metadata": {},
   "outputs": [
    {
     "name": "stdout",
     "output_type": "stream",
     "text": [
      "q = quaternion(1, 0, 0, 0)\n",
      "q = quaternion(1, 2, 3, 4)\n",
      "q = quaternion(0, 5, 0, 0)\n",
      "q = quaternion(5, 0, 0, 0)\n",
      "q = quaternion(0, 0, 0, 0)\n"
     ]
    }
   ],
   "source": [
    "import numpy as np\n",
    "import quaternion\n",
    "\n",
    "for q in [np.quaternion(1, 0, 0, 0),\n",
    "          np.quaternion(1, 2, 3, 4),\n",
    "          np.quaternion(5, 0, 0),\n",
    "          np.quaternion(5),\n",
    "          np.quaternion()]:\n",
    "    print(f\"q = {q}\")\n",
    "\n",
    "q = np.quaternion(1, 2, 3, 4)"
   ]
  },
  {
   "cell_type": "code",
   "execution_count": 28,
   "id": "ded77db5-9e2f-4e00-b789-be8cbd3a9ac7",
   "metadata": {},
   "outputs": [
    {
     "name": "stdout",
     "output_type": "stream",
     "text": [
      "Кватернион из вектора: quaternion(0, 0, 0, 0.5)\n",
      "Кватернион единичный из вектора: quaternion(0.866025403784439, 0, 0, 0.5)\n",
      "Кватернион из углов Эйлера: quaternion(0.968912421710645, 0, 0, 0.247403959254523)\n"
     ]
    }
   ],
   "source": [
    "a = np.array([0, 0, 0.5])\n",
    "\n",
    "q1 = quaternion.from_vector_part(a)\n",
    "q2 = quaternion.from_euler_angles(a)\n",
    "\n",
    "q3 = np.quaternion(np.sqrt(1 - np.linalg.norm(a)**2), *a)\n",
    "\n",
    "print(f\"Кватернион из вектора: {q1}\")\n",
    "print(f\"Кватернион единичный из вектора: {q3}\")\n",
    "print(f\"Кватернион из углов Эйлера: {q2}\")"
   ]
  },
  {
   "cell_type": "markdown",
   "id": "5abca95a-1d86-4033-a4a4-018d27d424fd",
   "metadata": {},
   "source": [
    "**Преобразования типов**"
   ]
  },
  {
   "cell_type": "code",
   "execution_count": 66,
   "id": "59ec8b4c-3689-4abb-bf96-49c2e2794379",
   "metadata": {},
   "outputs": [
    {
     "name": "stdout",
     "output_type": "stream",
     "text": [
      "Как numpy-массив: [1. 2. 3. 4.]\n",
      "<class 'numpy.ndarray'>\n",
      "Как numpy-массив: quaternion(1, 2, 3, 4)\n",
      "<class 'numpy.ndarray'>\n",
      "Как numpy-массив: quaternion(1, 2, 3, 4)\n",
      "<class 'numpy.ndarray'>\n",
      "Как numpy-массив: [1. 2. 3. 4.]\n",
      "<class 'numpy.ndarray'>\n"
     ]
    }
   ],
   "source": [
    "a = quaternion.as_float_array(q)\n",
    "b = quaternion.np.array(q)\n",
    "c = quaternion.np.asarray(q)\n",
    "d = q.components\n",
    "\n",
    "print(f\"Как numpy-массив: {a}\")\n",
    "print(type(a))\n",
    "print(f\"Как numpy-массив: {b}\")\n",
    "print(type(b))\n",
    "print(f\"Как numpy-массив: {c}\")\n",
    "print(type(c))\n",
    "print(f\"Как numpy-массив: {d}\")\n",
    "print(type(d))"
   ]
  },
  {
   "cell_type": "code",
   "execution_count": 132,
   "id": "c65a3718-2558-4f07-bd5e-74a469b0e4e5",
   "metadata": {},
   "outputs": [
    {
     "name": "stdout",
     "output_type": "stream",
     "text": [
      "Плохой пример: [quaternion(4, 0, 0, 0) quaternion(5, 0, 0, 0) quaternion(6, 0, 0, 0)\n",
      " quaternion(7, 0, 0, 0) quaternion(1, 2, 3, 4)]\n",
      "Хороший пример: [4. 5. 6. 7. 1. 2. 3. 4.]\n"
     ]
    }
   ],
   "source": [
    "a = np.array([4, 5, 6, 7])\n",
    "\n",
    "anw1 = np.append(a, q)\n",
    "anw2 = np.append(a, q.components)\n",
    "\n",
    "print(f\"Плохой пример: {anw1}\")\n",
    "print(f\"Хороший пример: {anw2}\")"
   ]
  },
  {
   "cell_type": "markdown",
   "id": "57317e4a-6a95-4e94-b18e-fc39ad3d7289",
   "metadata": {},
   "source": [
    "**Преобразовани математические**"
   ]
  },
  {
   "cell_type": "code",
   "execution_count": 101,
   "id": "aa2ec75f-1bd4-45e0-bd19-cef6d84c42f6",
   "metadata": {},
   "outputs": [
    {
     "name": "stdout",
     "output_type": "stream",
     "text": [
      "Скалярная часть: 1.0\n",
      "<class 'float'>\n",
      "Векторная часть: [2. 3. 4.]\n",
      "<class 'numpy.ndarray'>\n",
      "Составлющие: 1.0 2.0 3.0 4.0\n",
      "<class 'float'> <class 'float'> <class 'float'> <class 'float'>\n"
     ]
    }
   ],
   "source": [
    "a = q.real\n",
    "b = q.vec\n",
    "w = q.w\n",
    "x = q.x\n",
    "y = q.y\n",
    "z = q.z\n",
    "\n",
    "print(f\"Скалярная часть: {a}\")\n",
    "print(type(a))\n",
    "print(f\"Векторная часть: {b}\")\n",
    "print(type(b))\n",
    "print(f\"Составлющие: {w} {x} {y} {z}\")\n",
    "print(type(w), type(x), type(y), type(z))"
   ]
  },
  {
   "cell_type": "code",
   "execution_count": 103,
   "id": "f7d65945-8800-463b-b3c6-1b6f486018f1",
   "metadata": {},
   "outputs": [
    {
     "name": "stdout",
     "output_type": "stream",
     "text": [
      "Нормированный кватернион: quaternion(0.182574185835055, 0.365148371670111, 0.547722557505166, 0.730296743340221) | quaternion(0.182574185835055, 0.365148371670111, 0.547722557505166, 0.730296743340221)\n",
      "<class 'quaternion.quaternion'> <class 'quaternion.quaternion'>\n"
     ]
    }
   ],
   "source": [
    "a = quaternion.np.normalized(q)\n",
    "b = q.normalized()\n",
    "\n",
    "print(f\"Нормированный кватернион: {a} | {b}\")\n",
    "print(type(a), type(b))"
   ]
  },
  {
   "cell_type": "code",
   "execution_count": 99,
   "id": "71d87cae-8cf2-47eb-9f20-5d5c01344189",
   "metadata": {},
   "outputs": [
    {
     "name": "stdout",
     "output_type": "stream",
     "text": [
      "Модуль: 5.477225575051661 | 5.477225575051661 | 5.477225575051661\n",
      "<class 'numpy.float64'> <class 'numpy.float64'> <class 'float'> \n",
      "\n",
      "Норма: 30.0 (√c = 5.477225575051661)\n",
      "<class 'numpy.float64'>\n"
     ]
    }
   ],
   "source": [
    "a = quaternion.np.abs(q)\n",
    "b = quaternion.np.absolute(q)\n",
    "d = q.abs()\n",
    "\n",
    "c = quaternion.np.norm(q)\n",
    "\n",
    "print(f\"Модуль: {a} | {b} | {d}\")\n",
    "print(type(a), type(b), type(d), '\\n')\n",
    "\n",
    "print(f\"Норма: {c} (√c = {np.sqrt(c)})\")\n",
    "print(type(c))"
   ]
  },
  {
   "cell_type": "code",
   "execution_count": 27,
   "id": "449d68e3-3290-4587-b393-2c5ee3b58daa",
   "metadata": {},
   "outputs": [
    {
     "name": "stdout",
     "output_type": "stream",
     "text": [
      "Угол поворота: 4.389231563842282 | 4.389231563842282\n",
      "<class 'numpy.float64'> <class 'float'>\n"
     ]
    }
   ],
   "source": [
    "a = quaternion.np.angle_of_rotor(q)\n",
    "b = q.angle()\n",
    "\n",
    "print(f\"Угол поворота: {a} | {b}\")\n",
    "print(type(a), type(b))"
   ]
  },
  {
   "cell_type": "code",
   "execution_count": 96,
   "id": "d08d6c8e-88d0-48c6-a477-321797846134",
   "metadata": {},
   "outputs": [
    {
     "name": "stdout",
     "output_type": "stream",
     "text": [
      "Сопряженный: quaternion(1, -2, -3, -4) | quaternion(1, -2, -3, -4)\n",
      "<class 'quaternion.quaternion'> <class 'quaternion.quaternion'> \n",
      "\n",
      "Обратный: quaternion(0.0333333333333333, -0.0666666666666667, -0.1, -0.133333333333333) | quaternion(0.0333333333333333, -0.0666666666666667, -0.1, -0.133333333333333)\n",
      "<class 'quaternion.quaternion'> <class 'quaternion.quaternion'>\n"
     ]
    }
   ],
   "source": [
    "a = q.conj()\n",
    "b = q.conjugate()\n",
    "\n",
    "с = q.inverse()\n",
    "d = q.reciprocal()\n",
    "\n",
    "print(f\"Сопряженный: {a} | {b}\")\n",
    "print(type(a), type(b), '\\n')\n",
    "\n",
    "print(f\"Обратный: {с} | {d}\")\n",
    "print(type(с), type(d))"
   ]
  },
  {
   "cell_type": "code",
   "execution_count": 125,
   "id": "46679771-8116-44eb-ab05-755324dce575",
   "metadata": {
    "scrolled": true
   },
   "outputs": [
    {
     "name": "stdout",
     "output_type": "stream",
     "text": [
      "Матрица поворота из кватерниона A: \n",
      "[[-0.66666667  0.13333333  0.73333333]\n",
      " [ 0.66666667 -0.33333333  0.66666667]\n",
      " [ 0.33333333  0.93333333  0.13333333]]\n",
      "Матрица поворота из кватерниона B: \n",
      "[[-0.66666667  0.13333333  0.73333333]\n",
      " [ 0.66666667 -0.33333333  0.66666667]\n",
      " [ 0.33333333  0.93333333  0.13333333]]\n"
     ]
    }
   ],
   "source": [
    "A = quaternion.as_rotation_matrix(q)\n",
    "B = quaternion.as_rotation_matrix(q.normalized())\n",
    "\n",
    "print(f\"Матрица поворота из кватерниона A: \\n{A}\")\n",
    "print(f\"Матрица поворота из кватерниона B: \\n{B}\")"
   ]
  },
  {
   "cell_type": "markdown",
   "id": "716431e5-7c48-4acf-9e62-9ec375fa4110",
   "metadata": {
    "jp-MarkdownHeadingCollapsed": true
   },
   "source": [
    "##### Проверка <u>элементарных функций</u>"
   ]
  },
  {
   "cell_type": "code",
   "execution_count": 5,
   "id": "c0577022-0d17-40ac-a3b0-99aa284b0b47",
   "metadata": {},
   "outputs": [
    {
     "data": {
      "text/latex": [
       "$\\displaystyle \\left[\\begin{matrix}0 & - a_{z} & a_{y}\\\\a_{z} & 0 & - a_{x}\\\\- a_{y} & a_{x} & 0\\end{matrix}\\right]$"
      ],
      "text/plain": [
       "Matrix([\n",
       "[   0, -a_z,  a_y],\n",
       "[ a_z,    0, -a_x],\n",
       "[-a_y,  a_x,    0]])"
      ]
     },
     "execution_count": 5,
     "metadata": {},
     "output_type": "execute_result"
    }
   ],
   "source": [
    "from __init__ import *\n",
    "a = kf.get_vars(\"a\", 3, numb=False)\n",
    "kf.get_antisymmetric_matrix(a)"
   ]
  },
  {
   "cell_type": "markdown",
   "id": "35235e93-ff1e-4fa8-8b32-b70f943cc9ae",
   "metadata": {
    "jp-MarkdownHeadingCollapsed": true
   },
   "source": [
    "##### Проверка математики <u>вращения</u>"
   ]
  },
  {
   "cell_type": "markdown",
   "id": "dfcd8789-94d2-4c38-b6e4-cd488b6580b1",
   "metadata": {
    "jp-MarkdownHeadingCollapsed": true
   },
   "source": [
    "###### Умножение кватернионов"
   ]
  },
  {
   "cell_type": "code",
   "execution_count": 3,
   "id": "086b91d4-7bff-4e56-ac65-e73d426544f0",
   "metadata": {},
   "outputs": [
    {
     "name": "stdout",
     "output_type": "stream",
     "text": [
      "Скалярная часть:\n"
     ]
    },
    {
     "data": {
      "text/latex": [
       "$\\displaystyle q^{1}_{0} q^{2}_{0} - q^{1}_{x} q^{2}_{x} - q^{1}_{y} q^{2}_{y} - q^{1}_{z} q^{2}_{z}$"
      ],
      "text/plain": [
       "q^1_0*q^2_0 - q^1_x*q^2_x - q^1_y*q^2_y - q^1_z*q^2_z"
      ]
     },
     "execution_count": 3,
     "metadata": {},
     "output_type": "execute_result"
    }
   ],
   "source": [
    "from __init__ import *\n",
    "from sympy import *\n",
    "\n",
    "q1 = kf.get_vars(\"q^1\", 4, numb=False)\n",
    "q2 = kf.get_vars(\"q^2\", 4, numb=False)\n",
    "q1v = Matrix(q1[1:4])\n",
    "q2v = Matrix(q2[1:4])\n",
    "\n",
    "print(\"Скалярная часть:\")\n",
    "q1[0]*q2[0] - q1v.dot(q2v)"
   ]
  },
  {
   "cell_type": "code",
   "execution_count": 4,
   "id": "8ee4b422-4743-4d9f-9362-6f268133aa2b",
   "metadata": {},
   "outputs": [
    {
     "name": "stdout",
     "output_type": "stream",
     "text": [
      "Векторная часть:\n"
     ]
    },
    {
     "data": {
      "text/latex": [
       "$\\displaystyle \\left[\\begin{matrix}q^{1}_{0} q^{2}_{x} + q^{1}_{x} q^{2}_{0} + q^{1}_{y} q^{2}_{z} - q^{1}_{z} q^{2}_{y}\\\\q^{1}_{0} q^{2}_{y} - q^{1}_{x} q^{2}_{z} + q^{1}_{y} q^{2}_{0} + q^{1}_{z} q^{2}_{x}\\\\q^{1}_{0} q^{2}_{z} + q^{1}_{x} q^{2}_{y} - q^{1}_{y} q^{2}_{x} + q^{1}_{z} q^{2}_{0}\\end{matrix}\\right]$"
      ],
      "text/plain": [
       "Matrix([\n",
       "[q^1_0*q^2_x + q^1_x*q^2_0 + q^1_y*q^2_z - q^1_z*q^2_y],\n",
       "[q^1_0*q^2_y - q^1_x*q^2_z + q^1_y*q^2_0 + q^1_z*q^2_x],\n",
       "[q^1_0*q^2_z + q^1_x*q^2_y - q^1_y*q^2_x + q^1_z*q^2_0]])"
      ]
     },
     "execution_count": 4,
     "metadata": {},
     "output_type": "execute_result"
    }
   ],
   "source": [
    "print(\"Векторная часть:\")\n",
    "q1v*q2[0] + q2v*q1[0] + q1v.cross(q2v)"
   ]
  },
  {
   "cell_type": "markdown",
   "id": "9523db4d-88f7-4282-9294-7afbbfbb7406",
   "metadata": {
    "jp-MarkdownHeadingCollapsed": true
   },
   "source": [
    "###### Проверка угла поворота"
   ]
  },
  {
   "cell_type": "markdown",
   "id": "4fef19b9-2ed8-4bdc-b643-d30acf2d01f4",
   "metadata": {},
   "source": [
    "$$\\cos\\alpha = \\frac{1}{2} [ tr(S) - 1]$$ "
   ]
  },
  {
   "cell_type": "code",
   "execution_count": 2,
   "id": "1b40e62f-2297-440b-82c6-75fa44695223",
   "metadata": {},
   "outputs": [
    {
     "name": "stdout",
     "output_type": "stream",
     "text": [
      "Косинус по формуле: 0.5884554447041483\n",
      "Косинус из модуля: 0.5884554447041487\n"
     ]
    }
   ],
   "source": [
    "from __init__ import *\n",
    "import numpy as np\n",
    "import quaternion\n",
    "\n",
    "q = np.quaternion(*np.random.uniform(-1, 1, 4)).normalized()\n",
    "S = quaternion.as_rotation_matrix(q)\n",
    "\n",
    "cos_alpha = kf.clip((np.trace(S) - 1) / 2, -1, 1)\n",
    "print(f\"Косинус по формуле: {cos_alpha}\")\n",
    "print(f\"Косинус из модуля: {np.cos(quaternion.np.angle_of_rotor(quaternion.from_rotation_matrix(S)))}\")"
   ]
  },
  {
   "cell_type": "code",
   "execution_count": 9,
   "id": "a5a3fb13-b1d2-4f2a-8803-c48649631ae4",
   "metadata": {},
   "outputs": [
    {
     "name": "stdout",
     "output_type": "stream",
     "text": [
      "При кватернионе\n"
     ]
    },
    {
     "data": {
      "text/latex": [
       "$\\displaystyle \\left[\\begin{matrix}\\sqrt{- q_{x}^{2} - q_{y}^{2} - q_{z}^{2} + 1} & q_{x} & q_{y} & q_{z}\\end{matrix}\\right]$"
      ],
      "text/plain": [
       "Matrix([[sqrt(-q_x**2 - q_y**2 - q_z**2 + 1), q_x, q_y, q_z]])"
      ]
     },
     "metadata": {},
     "output_type": "display_data"
    },
    {
     "name": "stdout",
     "output_type": "stream",
     "text": [
      "косинус:\n"
     ]
    },
    {
     "data": {
      "text/latex": [
       "$\\displaystyle - 2 q_{x}^{2} - 2 q_{y}^{2} - 2 q_{z}^{2} + 1$"
      ],
      "text/plain": [
       "-2*q_x**2 - 2*q_y**2 - 2*q_z**2 + 1"
      ]
     },
     "metadata": {},
     "output_type": "display_data"
    },
    {
     "name": "stdout",
     "output_type": "stream",
     "text": [
      "При кватернионе\n"
     ]
    },
    {
     "data": {
      "text/latex": [
       "$\\displaystyle \\left[\\begin{matrix}\\cos{\\left(\\frac{\\varphi}{2} \\right)} & \\frac{r_{x} \\sin{\\left(\\frac{\\varphi}{2} \\right)}}{\\sqrt{r_{x}^{2} + r_{y}^{2} + r_{z}^{2}}} & \\frac{r_{y} \\sin{\\left(\\frac{\\varphi}{2} \\right)}}{\\sqrt{r_{x}^{2} + r_{y}^{2} + r_{z}^{2}}} & \\frac{r_{z} \\sin{\\left(\\frac{\\varphi}{2} \\right)}}{\\sqrt{r_{x}^{2} + r_{y}^{2} + r_{z}^{2}}}\\end{matrix}\\right]$"
      ],
      "text/plain": [
       "Matrix([[cos(varphi/2), r_x*sin(varphi/2)/sqrt(r_x**2 + r_y**2 + r_z**2), r_y*sin(varphi/2)/sqrt(r_x**2 + r_y**2 + r_z**2), r_z*sin(varphi/2)/sqrt(r_x**2 + r_y**2 + r_z**2)]])"
      ]
     },
     "metadata": {},
     "output_type": "display_data"
    },
    {
     "name": "stdout",
     "output_type": "stream",
     "text": [
      "косинус:\n"
     ]
    },
    {
     "data": {
      "text/latex": [
       "$\\displaystyle \\cos{\\left(\\varphi \\right)}$"
      ],
      "text/plain": [
       "cos(varphi)"
      ]
     },
     "metadata": {},
     "output_type": "display_data"
    }
   ],
   "source": [
    "phi = var('varphi')\n",
    "r = kf.get_vars(name='r', n=3, numb=False)\n",
    "\n",
    "for q in [kf.vec2quat(kf.get_vars(name='q', n=3, numb=False)),\n",
    "          kf.get_q_Rodrigue_Hamilton(phi=phi, r=r, symbol=True)]:\n",
    "    print(f\"При кватернионе\")\n",
    "    display(q.T)\n",
    "    M = kf.quart2dcm(q)\n",
    "    cos_s = kf.matrix2angle(M)\n",
    "    print(f\"косинус:\")\n",
    "    display(cos_s.simplify())"
   ]
  },
  {
   "cell_type": "markdown",
   "id": "8f0434c7-1d51-4259-9165-8f54a56a2d77",
   "metadata": {
    "jp-MarkdownHeadingCollapsed": true
   },
   "source": [
    "###### Сравнение старого и нового кода"
   ]
  },
  {
   "cell_type": "markdown",
   "id": "6c93cd93-94c8-4693-82f7-9d0f4863be4f",
   "metadata": {},
   "source": [
    "<u>Старый код</u>"
   ]
  },
  {
   "cell_type": "code",
   "execution_count": 3,
   "id": "89ed0641-85fb-493e-b612-511436740716",
   "metadata": {},
   "outputs": [
    {
     "name": "stdout",
     "output_type": "stream",
     "text": [
      "λ₁ = [0.59379408 0.54259116 0.42124688 0.41899223]\n",
      "q3->q4: [0.5937940769627631, 0.5425911603820692, 0.4212468812216982, 0.4189922336991132]\n",
      "модуль [0.5937940769627631, 0.5425911603820692, 0.4212468812216982, 0.4189922336991132] = 1.0)\n",
      "λ₂ = [0.14235516 0.08436462 0.80418151 0.57088503]\n",
      "λ₁∘λ₂ = [-0.53920119  0.03087359  0.26307584  0.7994373 ]\n",
      "\n",
      "A(λ₁) = \n",
      "[[ 0.29399315  0.95471988 -0.04558484]\n",
      " [-0.04046055  0.06008068  0.99737318]\n",
      " [ 0.95495077 -0.29137649  0.0562918 ]] (type(A)=<class 'numpy.ndarray'>) \n",
      "Детерминант 1.0000000000000007, \n",
      "AA.T=\n",
      "[[1 0 0]\n",
      " [0 1 0]\n",
      " [0 0 1]]\n"
     ]
    }
   ],
   "source": [
    "from __init__ import *\n",
    "import numpy as np\n",
    "import quaternion\n",
    "\n",
    "def vec2quat_old(v) -> list:\n",
    "    if len(v) != 3:\n",
    "        raise ValueError(f\"Подаётся вектор длинны {len(v)}, требуется длинна 3!\")\n",
    "    if np.linalg.norm(v) > 1:\n",
    "        return [0] + list(np.array(v)/np.linalg.norm(v))\n",
    "    else:\n",
    "        return [np.sqrt(1 - np.linalg.norm(v)**2), v[0], v[1], v[2]]\n",
    "\n",
    "def q_dot_old(L1, L2):\n",
    "    return np.array([L1[0] * L2[0] - L1[1] * L2[1] - L1[2] * L2[2] - L1[3] * L2[3],\n",
    "                     L1[0] * L2[1] + L1[1] * L2[0] + L1[2] * L2[3] - L1[3] * L2[2],\n",
    "                     L1[0] * L2[2] + L1[2] * L2[0] + L1[3] * L2[1] - L1[1] * L2[3],\n",
    "                     L1[0] * L2[3] + L1[3] * L2[0] + L1[1] * L2[2] - L1[2] * L2[1]])\n",
    "\n",
    "def quart2dcm_old(L) -> np.ndarray:\n",
    "    w, x, y, z = L\n",
    "    A = np.eye(3)\n",
    "    A[0][0] = 1 - 2 * y ** 2 - 2 * z ** 2\n",
    "    A[0][1] = 2 * x * y + 2 * z * w\n",
    "    A[0][2] = 2 * x * z - 2 * y * w\n",
    "    A[1][0] = 2 * x * y - 2 * z * w\n",
    "    A[1][1] = 1 - 2 * x ** 2 - 2 * z ** 2\n",
    "    A[1][2] = 2 * y * z + 2 * x * w\n",
    "    A[2][0] = 2 * x * z + 2 * y * w\n",
    "    A[2][1] = 2 * y * z - 2 * x * w\n",
    "    A[2][2] = 1 - 2 * x ** 2 - 2 * y ** 2\n",
    "    return A\n",
    "\n",
    "def check_quat(q1, q2, q_dot, quart2dcm, vec2quat):\n",
    "    print(f\"λ₁ = {q1}\")\n",
    "    if isinstance(q1, list | np.ndarray):\n",
    "        print(f\"q3->q4: {vec2quat(q1[1:4])}\")\n",
    "        if isinstance(vec2quat(q1[1:4]), list | np.ndarray):\n",
    "            print(f\"модуль {vec2quat(q1[1:4])} = {np.linalg.norm(vec2quat(q1[1:4]))})\")\n",
    "    if isinstance(q1, quaternion.quaternion):\n",
    "        q_new = vec2quat(q1.vec)\n",
    "        print(f\"q3->q4: {q_new}\")\n",
    "        print(f\"модуль {q_new} = {q_new.abs()})\")\n",
    "    print(f\"λ₂ = {q2}\")\n",
    "    print(f\"λ₁∘λ₂ = {q_dot(q1, q2)}\\n\")\n",
    "\n",
    "    A = quart2dcm(q1)\n",
    "    print(f\"A(λ₁) = \\n{A} (type(A)={type(A)}) \\nДетерминант {np.linalg.det(A)}, \\nAA.T=\\n{np.round(A @ A.T).astype(np.int64)}\")\n",
    "\n",
    "qs = [np.random.rand(4) for _ in range(2)]\n",
    "for i in range(2):\n",
    "    qs[i] /= np.linalg.norm(qs[i])\n",
    "\n",
    "check_quat(qs[0], qs[1], q_dot_old, quart2dcm_old, vec2quat_old)"
   ]
  },
  {
   "cell_type": "markdown",
   "id": "18859a1d-0545-42b0-8730-b039ed338927",
   "metadata": {},
   "source": [
    "<u>Новый код</u>"
   ]
  },
  {
   "cell_type": "code",
   "execution_count": 4,
   "id": "e5ec18b0-0209-4931-bccf-a95b7752f670",
   "metadata": {},
   "outputs": [],
   "source": [
    "for i in range(2):\n",
    "    qs[i] = np.quaternion(*qs[i])"
   ]
  },
  {
   "cell_type": "code",
   "execution_count": 5,
   "id": "4fde252d-6578-49a1-9eb0-d3671e1ddfe2",
   "metadata": {},
   "outputs": [
    {
     "name": "stdout",
     "output_type": "stream",
     "text": [
      "λ₁ = quaternion(0.593794076962763, 0.542591160382069, 0.421246881221698, 0.418992233699113)\n",
      "q3->q4: quaternion(0.593794076962763, 0.542591160382069, 0.421246881221698, 0.418992233699113)\n",
      "модуль quaternion(0.593794076962763, 0.542591160382069, 0.421246881221698, 0.418992233699113) = 1.0)\n",
      "λ₂ = quaternion(0.142355162244286, 0.0843646240423645, 0.804181513135995, 0.570885025134566)\n",
      "λ₁∘λ₂ = quaternion(-0.539201193299804, 0.0308735946157745, 0.263075841464506, 0.799437299565957)\n",
      "\n",
      "A(λ₁) = \n",
      "[[ 0.29399315 -0.04046055  0.95495077]\n",
      " [ 0.95471988  0.06008068 -0.29137649]\n",
      " [-0.04558484  0.99737318  0.0562918 ]] (type(A)=<class 'numpy.ndarray'>) \n",
      "Детерминант 1.0000000000000007, \n",
      "AA.T=\n",
      "[[1 0 0]\n",
      " [0 1 0]\n",
      " [0 0 1]]\n"
     ]
    }
   ],
   "source": [
    "import numpy as np\n",
    "import quaternion\n",
    "\n",
    "def vec2quat(v):\n",
    "    \"\"\"Перевод вектора кватерниона в кватернион\"\"\"\n",
    "    if isinstance(v, np.ndarray):\n",
    "        return np.quaternion(np.sqrt(1 - np.linalg.norm(v)**2), *v)\n",
    "    else:\n",
    "        from sympy import Matrix, sqrt\n",
    "        return Matrix([sqrt(1 - v.dot(v)), v[0], v[1], v[2]])\n",
    "\n",
    "def q_dot(q1, q2):\n",
    "    \"\"\"Умножение кватернионов длины 4\"\"\"\n",
    "    if isinstance(q1, quaternion.quaternion):\n",
    "        return q1 * q2\n",
    "    else:\n",
    "        from sympy import Matrix\n",
    "        q1v = Matrix(q1[1:4])\n",
    "        q2v = Matrix(q2[1:4])\n",
    "        scalar = q1[0]*q2[0] - q1v.dot(q2v)\n",
    "        vector = q1v*q2[0] + q2v*q1[0] + q1v.cross(q2v)\n",
    "        return Matrix([scalar, vector[0], vector[1], vector[2]])\n",
    "\n",
    "def quart2dcm(q):\n",
    "    \"\"\"Матрицу поворота из кватерниона поворота\"\"\"\n",
    "    if isinstance(q, quaternion.quaternion):\n",
    "        return quaternion.as_rotation_matrix(q)\n",
    "    else:\n",
    "        from sympy import Matrix, sqrt\n",
    "        w, x, y, z = q\n",
    "        return Matrix([[1 - 2*y**2 - 2*z**2, 2*x*y + 2*z*w, 2*x*z - 2*y*w],\n",
    "                       [2*x*y - 2*z*w, 1 - 2*x**2 - 2*z**2, 2*y*z + 2*x*w],\n",
    "                       [2*x*z + 2*y*w, 2*y*z - 2*x*w, 1 - 2*x**2 - 2*y**2]]).T\n",
    "\n",
    "check_quat(qs[0], qs[1], q_dot, quart2dcm, vec2quat)"
   ]
  },
  {
   "cell_type": "code",
   "execution_count": null,
   "id": "006c858c-b457-4fe6-af44-0d5237794eea",
   "metadata": {},
   "outputs": [],
   "source": [
    "# Копия старых результатов\n",
    "\"\"\"\n",
    "λ₁ = [0.59379408 0.54259116 0.42124688 0.41899223]\n",
    "q3->q4: [0.5937940769627631, 0.5425911603820692, 0.4212468812216982, 0.4189922336991132]\n",
    "модуль [0.5937940769627631, 0.5425911603820692, 0.4212468812216982, 0.4189922336991132] = 1.0)\n",
    "λ₂ = [0.14235516 0.08436462 0.80418151 0.57088503]\n",
    "λ₁∘λ₂ = [-0.53920119  0.03087359  0.26307584  0.7994373 ]\n",
    "\n",
    "A(λ₁) = \n",
    "[[ 0.29399315  0.95471988 -0.04558484]\n",
    " [-0.04046055  0.06008068  0.99737318]\n",
    " [ 0.95495077 -0.29137649  0.0562918 ]] (type(A)=<class 'numpy.ndarray'>) \n",
    "Детерминант 1.0000000000000007, \n",
    "AA.T=\n",
    "[[1 0 0]\n",
    " [0 1 0]\n",
    " [0 0 1]]\n",
    "\"\"\"\n",
    "None"
   ]
  },
  {
   "cell_type": "markdown",
   "id": "a393cc77-94aa-4017-903d-1216d280fc20",
   "metadata": {},
   "source": [
    "*ТАК а почему матрица транспонированная-то была?*\n",
    "\n",
    "<u>Проверка матрицы из кватернионов</u><br>\n",
    "Поворот на $90^\\circ$ вокруг оси $Oz$: \n",
    "$$\\lambda = [\\cos\\frac{\\varphi}{2}, 0, 0, \\sin\\frac{\\varphi}{2}]$$\n",
    "$$x\\to y, \\hskip20px y \\to -x$$"
   ]
  },
  {
   "cell_type": "code",
   "execution_count": 39,
   "id": "ecee28b7-6377-4974-91ff-f984c3d3db38",
   "metadata": {},
   "outputs": [
    {
     "name": "stdout",
     "output_type": "stream",
     "text": [
      "A: \n",
      "[[ 0 -1  0]\n",
      " [ 1  0  0]\n",
      " [ 0  0  1]]\n",
      "\n",
      "x->y: [1 0 0] -> [0 1 0]\n",
      "y->-x: [0 1 0] -> [-1  0  0]\n"
     ]
    }
   ],
   "source": [
    "import numpy as np\n",
    "import quaternion\n",
    "\n",
    "q1 = np.quaternion(1, 0, 0, 1).normalized()\n",
    "A = quart2dcm(q1)\n",
    "A = np.round(A).astype(np.int64)\n",
    "print(f\"A: \\n{A}\\n\")\n",
    "\n",
    "a = np.array([1, 0, 0])\n",
    "print(f\"x->y: {a} -> {A @ a}\")\n",
    "\n",
    "a = np.array([0, 1, 0])\n",
    "print(f\"y->-x: {a} -> {A @ a}\")"
   ]
  },
  {
   "cell_type": "markdown",
   "id": "3295afc4-eee2-4e82-942e-fbfb284c76d3",
   "metadata": {},
   "source": [
    "##### Проверка работоспособности <u>символьного полиморфизма</u>"
   ]
  },
  {
   "cell_type": "code",
   "execution_count": 12,
   "id": "0d15f3e1-1cec-4dbb-badc-d8f42592101d",
   "metadata": {},
   "outputs": [
    {
     "name": "stdout",
     "output_type": "stream",
     "text": [
      "\u001b[31mПараметры не могут быть загружены! Нет файла: kiamformation/data/config_choose.csv\u001b[0m\n",
      "Численные параметры: r=[-90.27996318  69.30782261 -26.11009638], v=[-0.07727089 -0.04603508  0.07598842], t=0\n",
      "Символьные параметры:\n"
     ]
    },
    {
     "data": {
      "text/latex": [
       "$\\displaystyle \\left[\\begin{matrix}r_{x} & r_{y} & r_{z}\\end{matrix}\\right]$"
      ],
      "text/plain": [
       "Matrix([[r_x, r_y, r_z]])"
      ]
     },
     "metadata": {},
     "output_type": "display_data"
    },
    {
     "data": {
      "text/latex": [
       "$\\displaystyle \\left[\\begin{matrix}v_{x} & v_{y} & v_{z}\\end{matrix}\\right]$"
      ],
      "text/plain": [
       "Matrix([[v_x, v_y, v_z]])"
      ]
     },
     "metadata": {},
     "output_type": "display_data"
    }
   ],
   "source": [
    "from __init__ import *\n",
    "from sympy import *\n",
    "import numpy as np\n",
    "import quaternion\n",
    "\n",
    "vrs = kf.Variables()\n",
    "kf.IF_TEST_PRINT = False\n",
    "\n",
    "r_n = vrs.spread('r', 'FemtoSat')\n",
    "v_n = vrs.spread('v', 'FemtoSat')\n",
    "w_n, mu_n, t_n = vrs.W_ORB, vrs.MU, 0\n",
    "print(f\"Численные параметры: r={r_n}, v={v_n}, t={t_n}\")\n",
    "\n",
    "r_s = kf.get_vars(name='r', n=3, numb=False)\n",
    "v_s = kf.get_vars(name='v', n=3, numb=False)\n",
    "J = kf.get_vars(\"J\", 3, numb=False)\n",
    "w1 = [kf.get_vars(name='w', n=3, numb=False)]\n",
    "q_s = kf.vec2quat(kf.get_vars(name='q', n=3, numb=False))\n",
    "w_s, mu_s, rho, t_s = symbols(\"omega_0 mu rho t\")\n",
    "print(f\"Символьные параметры:\")\n",
    "display(r_s.T, v_s.T)"
   ]
  },
  {
   "cell_type": "markdown",
   "id": "0af5e1c2-ca81-4b77-8ec4-58262fc73ce5",
   "metadata": {
    "jp-MarkdownHeadingCollapsed": true
   },
   "source": [
    "###### Движение ХКУ"
   ]
  },
  {
   "cell_type": "code",
   "execution_count": 3,
   "id": "93a79433-3efc-493c-aefe-e9fe9765a41e",
   "metadata": {},
   "outputs": [
    {
     "name": "stdout",
     "output_type": "stream",
     "text": [
      "\u001b[0m\u001b[1mКонстанты С движения ХКУ:\u001b[0m\u001b[0m\n",
      "[-216.93427702360907, 10.285586992149572, 347.72737356096366, 47.433847399923856, 30.995302724983866, -76.6593313002907]\n"
     ]
    },
    {
     "data": {
      "text/latex": [
       "$\\displaystyle \\left[\\begin{matrix}2 r_{z} + \\frac{v_{x}}{\\omega_{0}}\\\\\\frac{v_{z}}{\\omega_{0}}\\\\- 3 r_{z} - \\frac{2 v_{x}}{\\omega_{0}}\\\\r_{x} - \\frac{2 v_{z}}{\\omega_{0}}\\\\\\frac{v_{y}}{\\omega_{0}}\\\\r_{y}\\end{matrix}\\right]$"
      ],
      "text/plain": [
       "Matrix([\n",
       "[   2*r_z + v_x/omega_0],\n",
       "[           v_z/omega_0],\n",
       "[-3*r_z - 2*v_x/omega_0],\n",
       "[   r_x - 2*v_z/omega_0],\n",
       "[           v_y/omega_0],\n",
       "[                   r_y]])"
      ]
     },
     "metadata": {},
     "output_type": "display_data"
    },
    {
     "name": "stdout",
     "output_type": "stream",
     "text": [
      "\u001b[0m\u001b[1m\n",
      "Радиус-вектор из констант C: (для t=t / для t=0)\u001b[0m\u001b[0m\n",
      "[ 68.00502138 -76.6593313  -86.14118049]\n"
     ]
    },
    {
     "data": {
      "text/latex": [
       "$\\displaystyle \\left[\\begin{matrix}\\omega_{0} t \\left(- 6 r_{z} - \\frac{3 v_{x}}{\\omega_{0}}\\right) + r_{x} - \\left(- 6 r_{z} - \\frac{4 v_{x}}{\\omega_{0}}\\right) \\sin{\\left(\\omega_{0} t \\right)} + \\frac{2 v_{z} \\cos{\\left(\\omega_{0} t \\right)}}{\\omega_{0}} - \\frac{2 v_{z}}{\\omega_{0}}\\\\r_{y} \\cos{\\left(\\omega_{0} t \\right)} + \\frac{v_{y} \\sin{\\left(\\omega_{0} t \\right)}}{\\omega_{0}}\\\\4 r_{z} + \\left(- 3 r_{z} - \\frac{2 v_{x}}{\\omega_{0}}\\right) \\cos{\\left(\\omega_{0} t \\right)} + \\frac{2 v_{x}}{\\omega_{0}} + \\frac{v_{z} \\sin{\\left(\\omega_{0} t \\right)}}{\\omega_{0}}\\end{matrix}\\right]$"
      ],
      "text/plain": [
       "Matrix([\n",
       "[omega_0*t*(-6*r_z - 3*v_x/omega_0) + r_x - (-6*r_z - 4*v_x/omega_0)*sin(omega_0*t) + 2*v_z*cos(omega_0*t)/omega_0 - 2*v_z/omega_0],\n",
       "[                                                                                  r_y*cos(omega_0*t) + v_y*sin(omega_0*t)/omega_0],\n",
       "[                                     4*r_z + (-3*r_z - 2*v_x/omega_0)*cos(omega_0*t) + 2*v_x/omega_0 + v_z*sin(omega_0*t)/omega_0]])"
      ]
     },
     "metadata": {},
     "output_type": "display_data"
    },
    {
     "data": {
      "text/latex": [
       "$\\displaystyle \\left[\\begin{matrix}r_{x}\\\\r_{y}\\\\r_{z}\\end{matrix}\\right]$"
      ],
      "text/plain": [
       "Matrix([\n",
       "[r_x],\n",
       "[r_y],\n",
       "[r_z]])"
      ]
     },
     "metadata": {},
     "output_type": "display_data"
    },
    {
     "name": "stdout",
     "output_type": "stream",
     "text": [
      "\u001b[0m\u001b[1m\n",
      "Скорость-вектор из констант C: (для t=t / для t=0)\u001b[0m\u001b[0m\n",
      "[-0.05059594  0.03512137  0.0116548 ]\n"
     ]
    },
    {
     "data": {
      "text/latex": [
       "$\\displaystyle \\left[\\begin{matrix}\\omega_{0} \\left(- 6 r_{z} - \\frac{3 v_{x}}{\\omega_{0}}\\right) - 2 \\omega_{0} \\left(- 3 r_{z} - \\frac{2 v_{x}}{\\omega_{0}}\\right) \\cos{\\left(\\omega_{0} t \\right)} - 2 v_{z} \\sin{\\left(\\omega_{0} t \\right)}\\\\- \\omega_{0} r_{y} \\sin{\\left(\\omega_{0} t \\right)} + v_{y} \\cos{\\left(\\omega_{0} t \\right)}\\\\\\omega_{0} \\left(- 3 r_{z} - \\frac{2 v_{x}}{\\omega_{0}}\\right) \\sin{\\left(\\omega_{0} t \\right)} + v_{z} \\cos{\\left(\\omega_{0} t \\right)}\\end{matrix}\\right]$"
      ],
      "text/plain": [
       "Matrix([\n",
       "[omega_0*(-6*r_z - 3*v_x/omega_0) - 2*omega_0*(-3*r_z - 2*v_x/omega_0)*cos(omega_0*t) - 2*v_z*sin(omega_0*t)],\n",
       "[                                                           -omega_0*r_y*sin(omega_0*t) + v_y*cos(omega_0*t)],\n",
       "[                                       omega_0*(-3*r_z - 2*v_x/omega_0)*sin(omega_0*t) + v_z*cos(omega_0*t)]])"
      ]
     },
     "metadata": {},
     "output_type": "display_data"
    },
    {
     "data": {
      "text/latex": [
       "$\\displaystyle \\left[\\begin{matrix}v_{x}\\\\v_{y}\\\\v_{z}\\end{matrix}\\right]$"
      ],
      "text/plain": [
       "Matrix([\n",
       "[v_x],\n",
       "[v_y],\n",
       "[v_z]])"
      ]
     },
     "metadata": {},
     "output_type": "display_data"
    }
   ],
   "source": [
    "kf.my_print(f\"Константы С движения ХКУ:\", bold=True)\n",
    "C_n = kf.get_c_hkw(r=r_n, v=v_n, w=w_n)\n",
    "C_s = kf.get_c_hkw(r=r_s, v=v_s, w=w_s)\n",
    "print(C_n)\n",
    "display(C_s)\n",
    "\n",
    "kf.my_print(f\"\\nРадиус-вектор из констант C: (для t=t / для t=0)\", bold=True)\n",
    "print(kf.r_hkw(C=C_n, w=w_n, t=t_n))\n",
    "r_anw = kf.r_hkw(C=C_s, w=w_s, t=t_s)\n",
    "display(r_anw)\n",
    "display(r_anw.subs(t_s, 0))\n",
    "\n",
    "kf.my_print(f\"\\nСкорость-вектор из констант C: (для t=t / для t=0)\", bold=True)\n",
    "print(kf.v_hkw(C=C_n, w=w_n, t=t_n))\n",
    "v_anw = kf.v_hkw(C=C_s, w=w_s, t=t_s)\n",
    "display(v_anw)\n",
    "tmp = v_anw.subs(t_s, 0)\n",
    "tmp.simplify()\n",
    "display(tmp)"
   ]
  },
  {
   "cell_type": "markdown",
   "id": "ce6ff8cf-77a8-438c-9d45-f6c6a3258bdf",
   "metadata": {
    "jp-MarkdownHeadingCollapsed": true
   },
   "source": [
    "###### Поступательное движение"
   ]
  },
  {
   "cell_type": "code",
   "execution_count": 1,
   "id": "9d301695-3845-4718-98ee-371dffb2b2d1",
   "metadata": {},
   "outputs": [
    {
     "ename": "NameError",
     "evalue": "name 'kf' is not defined",
     "output_type": "error",
     "traceback": [
      "\u001b[0;31m---------------------------------------------------------------------------\u001b[0m",
      "\u001b[0;31mNameError\u001b[0m                                 Traceback (most recent call last)",
      "Cell \u001b[0;32mIn[1], line 1\u001b[0m\n\u001b[0;32m----> 1\u001b[0m vrs \u001b[38;5;241m=\u001b[39m \u001b[43mkf\u001b[49m\u001b[38;5;241m.\u001b[39mVariables()\n\u001b[1;32m      2\u001b[0m o \u001b[38;5;241m=\u001b[39m kf\u001b[38;5;241m.\u001b[39mObjects(vrs)\n\u001b[1;32m      4\u001b[0m \u001b[38;5;28mprint\u001b[39m(\u001b[38;5;124mf\u001b[39m\u001b[38;5;124m\"\u001b[39m\u001b[38;5;124mНа высоте \u001b[39m\u001b[38;5;132;01m{\u001b[39;00m\u001b[38;5;28mround\u001b[39m(vrs\u001b[38;5;241m.\u001b[39mHEIGHT\u001b[38;5;250m \u001b[39m\u001b[38;5;241m/\u001b[39m\u001b[38;5;241m/\u001b[39m\u001b[38;5;250m \u001b[39m\u001b[38;5;241m1e3\u001b[39m)\u001b[38;5;132;01m}\u001b[39;00m\u001b[38;5;124m км плотность ρ=\u001b[39m\u001b[38;5;132;01m{\u001b[39;00mkf\u001b[38;5;241m.\u001b[39mget_atm_params(v\u001b[38;5;241m=\u001b[39mvrs,\u001b[38;5;250m \u001b[39mh\u001b[38;5;241m=\u001b[39mvrs\u001b[38;5;241m.\u001b[39mHEIGHT)[\u001b[38;5;241m0\u001b[39m]\u001b[38;5;132;01m}\u001b[39;00m\u001b[38;5;124m кг/м³\u001b[39m\u001b[38;5;124m\"\u001b[39m)\n",
      "\u001b[0;31mNameError\u001b[0m: name 'kf' is not defined"
     ]
    }
   ],
   "source": [
    "vrs = kf.Variables()\n",
    "o = kf.Objects(vrs)\n",
    "\n",
    "print(f\"На высоте {round(vrs.HEIGHT // 1e3)} км плотность ρ={kf.get_atm_params(v=vrs, h=vrs.HEIGHT)[0]} кг/м³\")\n",
    "for drag in [False, True]:\n",
    "    vrs.DYNAMIC_MODEL['aero drag'] = drag\n",
    "    tmp = kf.translate_rhs(vrs=vrs, obj=o.f, i=0, rv=np.append(r_n, v_n), w=w_n, mu=mu_n)\n",
    "    v_g_n, a_g_n = tmp[[0, 1, 2]], tmp[[3, 4, 5]]\n",
    "    kf.my_print(f\"Скорость в ОСК {'с торможением' if drag else 'без торможения'}:\", bold=True, end='')\n",
    "    print(v_g_n)\n",
    "    kf.my_print(f\"Ускорение в ОСК {'с торможением' if drag else 'без торможения'}:\", bold=True, end='')\n",
    "    print(a_g_n)\n",
    "\n",
    "o.f.c_resist, vrs.V_ORB, o.f.mass = var('C v_0 m')\n",
    "o.f.size = kf.get_vars(name='s', n=2)\n",
    "o.f.q = [q_s]\n",
    "o.f.r = [r_n]\n",
    "o.f.v = [v_n]\n",
    "\n",
    "for drag in [False, True]:\n",
    "    vrs.DYNAMIC_MODEL['aero drag'] = drag\n",
    "    v_g_s, a_g_s = kf.translate_rhs(vrs=vrs, obj=o.f, i=0, rv=(r_s, v_s), w=w_s, mu=mu_s, rho=rho)\n",
    "    kf.my_print(f\"Скорость в ОСК {'с торможением' if drag else 'без торможения'}:\", bold=True, end='')\n",
    "    display(v_g_s)\n",
    "    kf.my_print(f\"Ускорение в ОСК {'с торможением' if drag else 'без торможения'}:\", bold=True)\n",
    "    display(a_g_s)"
   ]
  },
  {
   "cell_type": "markdown",
   "id": "5a99b891-638f-45f0-b0de-f74c9ce411f9",
   "metadata": {
    "jp-MarkdownHeadingCollapsed": true
   },
   "source": [
    "###### Вращательное движение"
   ]
  },
  {
   "cell_type": "code",
   "execution_count": 4,
   "id": "69dc7358-2240-4eb2-88c2-2036bad47760",
   "metadata": {},
   "outputs": [
    {
     "name": "stdout",
     "output_type": "stream",
     "text": [
      "\u001b[31mПараметры не могут быть загружены! Нет файла: kiamformation/data/config_choose.csv\u001b[0m\n",
      "\u001b[32mМатрицы Ф:(6, 6), Q:(3, 3), P:(6, 6), D:(6, 3)\u001b[0m\n",
      "\u001b[0m\u001b[1mУгловое ускорение:\u001b[0m\u001b[0m\n",
      "[4.00703393e-09 6.19202035e-08 0.00000000e+00]\n"
     ]
    }
   ],
   "source": [
    "vrs = kf.Variables()\n",
    "o = kf.Objects(vrs)\n",
    "\n",
    "obj = o.f\n",
    "\n",
    "tmp = kf.attitude_rhs(v=vrs, obj=obj, t=0, i=0, qw=np.append(quaternion.as_float_array(obj.q[0]), obj.w_irf[0]))  # attitude_rhs(v: Variables, obj: Apparatus, t: float, i: int, qw)\n",
    "dq_n, dw_n = tmp[[0, 1, 2, 3]], tmp[[4, 5, 6]]\n",
    "kf.my_print(f\"Угловое ускорение:\", bold=True)\n",
    "print(dw_n)\n"
   ]
  },
  {
   "cell_type": "markdown",
   "id": "5d898f43-1834-4a1b-baa8-3cc0f1c9a36d",
   "metadata": {
    "jp-MarkdownHeadingCollapsed": true
   },
   "source": [
    "###### Математика"
   ]
  },
  {
   "cell_type": "code",
   "execution_count": 4,
   "id": "99d95e8e-b7cd-463b-abed-c0263f225c08",
   "metadata": {},
   "outputs": [
    {
     "name": "stdout",
     "output_type": "stream",
     "text": [
      "Минор матрицы: -6.0 = -6\n"
     ]
    }
   ],
   "source": [
    "a = np.arange(1, 10).reshape(3, 3)\n",
    "m = Matrix(a)\n",
    "\n",
    "i, j = 1, 2\n",
    "\n",
    "print(f\"Минор матрицы: {kf.matrix_minor(a, i, j)} = {kf.matrix_minor(m, i, j)}\")"
   ]
  },
  {
   "cell_type": "markdown",
   "id": "1d048a1f-ebfb-42cb-a534-b7f261ec6418",
   "metadata": {
    "jp-MarkdownHeadingCollapsed": true
   },
   "source": [
    "###### Измерения"
   ]
  },
  {
   "cell_type": "code",
   "execution_count": null,
   "id": "69741201-ff63-4201-b6ad-2d8efc6a05e7",
   "metadata": {},
   "outputs": [],
   "source": [
    "from common_func import *\n",
    "o, num_params, t, ω, μ, ρ, r_orb, v_orb = init_symbol_params()\n",
    "\n",
    "o.v.NAVIGATION_ANGLES = True\n",
    "r_c, v_c, q_c, ω_c = get_state_vector(func=kf.get_func, obj='c')\n",
    "o.c.r_orf, o.c.v_orf, o.c.q, o.c.w_irf = r_c, v_c, q_c, ω_c\n",
    "\n",
    "r = kf.get_vars(name='r', n=3, numb=False)\n",
    "v = kf.get_vars(name='v', n=3, numb=False)\n",
    "q3 = kf.get_vars(name='q', n=3, numb=False) \n",
    "q4 = kf.vec2quat(q3)\n",
    "w = kf.get_vars(name='w', n=3, numb=False)\n",
    "\n",
    "kf.my_print(f\"Полуволновой диполь:\")\n",
    "display(kf.local_dipole(v=o.v, r=r, ind='x'))\n",
    "\n",
    "o.v.GAIN_MODEL_C_N = 2\n",
    "o.v.GAIN_MODEL_F_N = 2\n",
    "o.v.init_choice_params()\n",
    "o.c.gain_mode = o.v.GAIN_MODEL_C\n",
    "o.f.gain_mode = o.v.GAIN_MODEL_F\n",
    "o.v.MULTI_ANTENNA_TAKE = True\n",
    "o.v.MULTI_ANTENNA_SEND = True\n",
    "\n",
    "x_m = kf.sympy_append(r, q3, v, w)\n",
    "z_model, notes = kf.measure_antennas_power(c=o.c, f=o.f, v=o.v, p=o.p, j=len(x_m), estimated_params=x_m, t=t_s)\n",
    "print(f\"Модельные измерения:\")\n",
    "display(z_model)"
   ]
  },
  {
   "cell_type": "code",
   "execution_count": 4,
   "id": "3ae05ea7-7526-4da9-a4c9-058fb3775cd3",
   "metadata": {},
   "outputs": [
    {
     "data": {
      "text/plain": [
       "'2 antennas'"
      ]
     },
     "execution_count": 4,
     "metadata": {},
     "output_type": "execute_result"
    }
   ],
   "source": [
    "o.v.GAIN_MODEL_F"
   ]
  },
  {
   "cell_type": "code",
   "execution_count": null,
   "id": "adaded7a-f1e9-4b7f-b93a-49b1dda0bea1",
   "metadata": {},
   "outputs": [],
   "source": []
  },
  {
   "cell_type": "code",
   "execution_count": 5,
   "id": "56357c66-28cd-4698-9ee7-2ed1480649ed",
   "metadata": {},
   "outputs": [
    {
     "data": {
      "text/latex": [
       "$\\displaystyle \\sqrt{r_{x}^{2} + r_{y}^{2} + r_{z}^{2}}$"
      ],
      "text/plain": [
       "sqrt(r_x**2 + r_y**2 + r_z**2)"
      ]
     },
     "execution_count": 5,
     "metadata": {},
     "output_type": "execute_result"
    }
   ],
   "source": [
    "kf.sympy_norm(r)"
   ]
  },
  {
   "cell_type": "markdown",
   "id": "050d4091-1974-4cde-820b-60c191091c41",
   "metadata": {},
   "source": [
    "###### Навигация"
   ]
  },
  {
   "cell_type": "code",
   "execution_count": 15,
   "id": "1aff40cd-c40d-487f-9f66-ed67efad23c4",
   "metadata": {},
   "outputs": [
    {
     "name": "stdout",
     "output_type": "stream",
     "text": [
      "\u001b[31mПараметры не могут быть загружены! Нет файла: kiamformation/data/config_choose.csv\u001b[0m\n",
      "\u001b[32mМатрицы Ф:(6, 6), Q:(3, 3), P:(6, 6), D:(6, 3)\u001b[0m\n"
     ]
    },
    {
     "data": {
      "text/latex": [
       "$\\displaystyle \\left[\\begin{matrix}J_{x} & 0 & 0\\\\0 & J_{y} & 0\\\\0 & 0 & J_{z}\\end{matrix}\\right]$"
      ],
      "text/plain": [
       "Matrix([\n",
       "[J_x,   0,   0],\n",
       "[  0, J_y,   0],\n",
       "[  0,   0, J_z]])"
      ]
     },
     "metadata": {},
     "output_type": "display_data"
    },
    {
     "name": "stdout",
     "output_type": "stream",
     "text": [
      "\u001b[35m\u001b[1m['Оценка орбитального движения']\u001b[0m\u001b[0m\n",
      "\u001b[0m\u001b[1mМатрица линеаризованной динамики Ф:\u001b[0m\u001b[0m\n"
     ]
    },
    {
     "data": {
      "text/latex": [
       "$\\displaystyle \\left[\\begin{matrix}1.0 & 0 & 0 & dt & 0 & 0\\\\0 & 1.0 & 0 & 0 & dt & 0\\\\0 & 0 & 1.0 & 0 & 0 & dt\\\\0 & 0 & 0 & 1.0 & 0 & - 2 dt \\omega_{0}\\\\0 & - dt \\omega_{0}^{2} & 0 & 0 & 1.0 & 0\\\\0 & 0 & 3 dt \\omega_{0}^{2} & 2 dt \\omega_{0} & 0 & 1.0\\end{matrix}\\right]$"
      ],
      "text/plain": [
       "Matrix([\n",
       "[1.0,              0,               0,           dt,   0,             0],\n",
       "[  0,            1.0,               0,            0,  dt,             0],\n",
       "[  0,              0,             1.0,            0,   0,            dt],\n",
       "[  0,              0,               0,          1.0,   0, -2*dt*omega_0],\n",
       "[  0, -dt*omega_0**2,               0,            0, 1.0,             0],\n",
       "[  0,              0, 3*dt*omega_0**2, 2*dt*omega_0,   0,           1.0]])"
      ]
     },
     "metadata": {},
     "output_type": "display_data"
    },
    {
     "name": "stdout",
     "output_type": "stream",
     "text": [
      "\u001b[32mМатрицы Ф:(12, 12), Q:(6, 6), P:(12, 12), D:(12, 6)\u001b[0m\n"
     ]
    },
    {
     "data": {
      "text/latex": [
       "$\\displaystyle \\left[\\begin{matrix}J_{x} & 0 & 0\\\\0 & J_{y} & 0\\\\0 & 0 & J_{z}\\end{matrix}\\right]$"
      ],
      "text/plain": [
       "Matrix([\n",
       "[J_x,   0,   0],\n",
       "[  0, J_y,   0],\n",
       "[  0,   0, J_z]])"
      ]
     },
     "metadata": {},
     "output_type": "display_data"
    },
    {
     "name": "stdout",
     "output_type": "stream",
     "text": [
      "\u001b[35m\u001b[1m['Оценка орбитального и углового движения']\u001b[0m\u001b[0m\n",
      "\u001b[0m\u001b[1mМатрица линеаризованной динамики Ф:\u001b[0m\u001b[0m\n"
     ]
    },
    {
     "data": {
      "text/latex": [
       "$\\displaystyle \\left[\\begin{array}{cccccccccccc}1.0 & 0 & 0 & 0 & 0 & 0 & dt & 0 & 0 & 0 & 0 & 0\\\\0 & 1.0 & 0 & 0 & 0 & 0 & 0 & dt & 0 & 0 & 0 & 0\\\\0 & 0 & 1.0 & 0 & 0 & 0 & 0 & 0 & dt & 0 & 0 & 0\\\\0 & 0 & 0 & 1.0 & 0 & 0 & 0 & 0 & 0 & 0.5 dt & 0 & 0\\\\0 & 0 & 0 & 0 & 1.0 & 0 & 0 & 0 & 0 & 0 & 0.5 dt & 0\\\\0 & 0 & 0 & 0 & 0 & 1.0 & 0 & 0 & 0 & 0 & 0 & 0.5 dt\\\\0 & 0 & 0 & 0 & 0 & 0 & 1.0 & 0 & - 2 dt \\omega_{0} & 0 & 0 & 0\\\\0 & - dt \\omega_{0}^{2} & 0 & 0 & 0 & 0 & 0 & 1.0 & 0 & 0 & 0 & 0\\\\0 & 0 & 3 dt \\omega_{0}^{2} & 0 & 0 & 0 & 2 dt \\omega_{0} & 0 & 1.0 & 0 & 0 & 0\\\\0 & 0 & 0 & 0 & 0 & 0 & 0 & 0 & 0 & 1.0 & \\frac{J_{y} w_{z} - J_{z} w_{z}}{J_{x}} & \\frac{J_{y} w_{y} - J_{z} w_{y}}{J_{x}}\\\\0 & 0 & 0 & 0 & 0 & 0 & 0 & 0 & 0 & \\frac{- J_{x} w_{z} + J_{z} w_{z}}{J_{y}} & 1.0 & \\frac{- J_{x} w_{x} + J_{z} w_{x}}{J_{y}}\\\\0 & 0 & 0 & 0 & 0 & 0 & 0 & 0 & 0 & \\frac{J_{x} w_{y} - J_{y} w_{y}}{J_{z}} & \\frac{J_{x} w_{x} - J_{y} w_{x}}{J_{z}} & 1.0\\end{array}\\right]$"
      ],
      "text/plain": [
       "Matrix([\n",
       "[1.0,              0,               0,   0,   0,   0,           dt,   0,             0,                        0,                       0,                        0],\n",
       "[  0,            1.0,               0,   0,   0,   0,            0,  dt,             0,                        0,                       0,                        0],\n",
       "[  0,              0,             1.0,   0,   0,   0,            0,   0,            dt,                        0,                       0,                        0],\n",
       "[  0,              0,               0, 1.0,   0,   0,            0,   0,             0,                   0.5*dt,                       0,                        0],\n",
       "[  0,              0,               0,   0, 1.0,   0,            0,   0,             0,                        0,                  0.5*dt,                        0],\n",
       "[  0,              0,               0,   0,   0, 1.0,            0,   0,             0,                        0,                       0,                   0.5*dt],\n",
       "[  0,              0,               0,   0,   0,   0,          1.0,   0, -2*dt*omega_0,                        0,                       0,                        0],\n",
       "[  0, -dt*omega_0**2,               0,   0,   0,   0,            0, 1.0,             0,                        0,                       0,                        0],\n",
       "[  0,              0, 3*dt*omega_0**2,   0,   0,   0, 2*dt*omega_0,   0,           1.0,                        0,                       0,                        0],\n",
       "[  0,              0,               0,   0,   0,   0,            0,   0,             0,                      1.0, (J_y*w_z - J_z*w_z)/J_x,  (J_y*w_y - J_z*w_y)/J_x],\n",
       "[  0,              0,               0,   0,   0,   0,            0,   0,             0, (-J_x*w_z + J_z*w_z)/J_y,                     1.0, (-J_x*w_x + J_z*w_x)/J_y],\n",
       "[  0,              0,               0,   0,   0,   0,            0,   0,             0,  (J_x*w_y - J_y*w_y)/J_z, (J_x*w_x - J_y*w_x)/J_z,                      1.0]])"
      ]
     },
     "metadata": {},
     "output_type": "display_data"
    },
    {
     "name": "stdout",
     "output_type": "stream",
     "text": [
      "\u001b[32mМатрицы Ф:(12, 12), Q:(6, 6), P:(12, 12), D:(12, 6)\u001b[0m\n"
     ]
    }
   ],
   "source": [
    "o = kf.init()\n",
    "\n",
    "for i in range(2):\n",
    "    o.v.dT = var('dt')\n",
    "    o.f.J = diag(J[0], J[1], J[2])\n",
    "    display(o.f.J)\n",
    "    \n",
    "    kf.my_print([f\"Оценка орбитального{['', ' и углового'][i]} движения\"], color='m', bold=True)\n",
    "\n",
    "    kf.my_print(f\"Матрица линеаризованной динамики Ф:\", bold=True)\n",
    "    display(o.p.k.get_Phi(w=w1, w0=w_s))\n",
    "\n",
    "    # Поправки на угловое движение\n",
    "    o.v.NAVIGATION_ANGLES = True\n",
    "    o.init_classes()"
   ]
  },
  {
   "cell_type": "markdown",
   "id": "d5e70341-6b1d-48bd-a497-dda3628f2608",
   "metadata": {
    "jp-MarkdownHeadingCollapsed": true
   },
   "source": [
    "##### Проверка соответствия <u>символьного и численного</u> матана"
   ]
  },
  {
   "cell_type": "code",
   "execution_count": 11,
   "id": "6e67da25-52c0-4857-b623-e9c3ed2c1f37",
   "metadata": {},
   "outputs": [
    {
     "name": "stdout",
     "output_type": "stream",
     "text": [
      "Численные кватернионы:\n",
      "q1 = quaternion(0.182574185835055, 0.365148371670111, 0.547722557505166, 0.730296743340221)\n",
      "q2 = quaternion(0.182574185835055, 0.365148371670111, 0.547722557505166, 0.730296743340221)\n",
      "\n",
      "Символьные кватернионы:\n",
      "q1 = Matrix([[0.182574185835055], [0.365148371670111], [0.547722557505166], [0.730296743340221]])\n",
      "q2 = Matrix([[0.182574185835055], [0.365148371670111], [0.547722557505166], [0.730296743340221]])\n"
     ]
    }
   ],
   "source": [
    "from sympy import *\n",
    "import numpy as np\n",
    "import quaternion\n",
    "\n",
    "q1 = np.array([1, 2, 3, 4])\n",
    "q2 = np.array([1, 2, 3, 4])\n",
    "\n",
    "q1_n = np.quaternion(*q1).normalized()\n",
    "q2_n = np.quaternion(*q2).normalized()\n",
    "print(f\"Численные кватернионы:\\nq1 = {q1_n}\\nq2 = {q2_n}\\n\")\n",
    "\n",
    "q1_s = Matrix(q1 / np.linalg.norm(q1))\n",
    "q2_s = Matrix(q2 / np.linalg.norm(q2))\n",
    "print(f\"Символьные кватернионы:\\nq1 = {q1_s}\\nq2 = {q2_s}\")\n",
    "\n"
   ]
  },
  {
   "cell_type": "markdown",
   "id": "d10fb305-fa3a-4d69-979b-4a6f7e73ae3e",
   "metadata": {
    "jp-MarkdownHeadingCollapsed": true
   },
   "source": [
    "##### Проверка <u>динамики</u>"
   ]
  },
  {
   "cell_type": "markdown",
   "id": "d946ae5d-e262-4c88-9a67-838ae56f5c9f",
   "metadata": {},
   "source": [
    "###### Тензор инерции"
   ]
  },
  {
   "cell_type": "code",
   "execution_count": 6,
   "id": "6c26b2e7-4f89-486c-96c4-3efe7fd121f9",
   "metadata": {},
   "outputs": [
    {
     "name": "stdout",
     "output_type": "stream",
     "text": [
      "По нормали к поверхности чипсата:\n"
     ]
    },
    {
     "data": {
      "text/latex": [
       "$\\displaystyle \\frac{m \\left(xx^{2} + yy^{2}\\right)}{12}$"
      ],
      "text/plain": [
       "m*(xx**2 + yy**2)/12"
      ]
     },
     "metadata": {},
     "output_type": "display_data"
    },
    {
     "name": "stdout",
     "output_type": "stream",
     "text": [
      "В плоскости поверхности чипсата:\n"
     ]
    },
    {
     "data": {
      "text/latex": [
       "$\\displaystyle \\frac{m xx^{2}}{12}$"
      ],
      "text/plain": [
       "m*xx**2/12"
      ]
     },
     "metadata": {},
     "output_type": "display_data"
    }
   ],
   "source": [
    "# Предположение - тело равномерно распределено ... а потом смещение ЦМ ... потом ...\n",
    "# Новое предположение - тензор инерции ДИАНОГАЛЬНЫЙ!\n",
    "m, xx, yy, zz = var(\"m xx yy zz\", real=True, constant=True)  # Масса и размеры\n",
    "J_3d = m*(xx**2 + yy**2)/12\n",
    "J_2d = m*(xx**2)/12\n",
    "\n",
    "print(f\"По нормали к поверхности чипсата:\")\n",
    "display(J_3d)\n",
    "print(f\"В плоскости поверхности чипсата:\")\n",
    "display(J_2d)"
   ]
  },
  {
   "cell_type": "markdown",
   "id": "9e18ee17-2be9-4dcc-8eb1-3841fb8c1be4",
   "metadata": {},
   "source": [
    "###### Направление угловой скорости поворота ОСК в ИСК"
   ]
  },
  {
   "cell_type": "code",
   "execution_count": 8,
   "id": "1c96f5f4-4434-4de0-942b-b99e3f525cf6",
   "metadata": {},
   "outputs": [
    {
     "ename": "NameError",
     "evalue": "name 'A' is not defined",
     "output_type": "error",
     "traceback": [
      "\u001b[0;31m---------------------------------------------------------------------------\u001b[0m",
      "\u001b[0;31mNameError\u001b[0m                                 Traceback (most recent call last)",
      "Cell \u001b[0;32mIn[8], line 3\u001b[0m\n\u001b[1;32m      1\u001b[0m \u001b[38;5;28;01mfrom\u001b[39;00m \u001b[38;5;21;01mcommon_func\u001b[39;00m \u001b[38;5;28;01mimport\u001b[39;00m \u001b[38;5;241m*\u001b[39m\n\u001b[1;32m      2\u001b[0m e, i \u001b[38;5;241m=\u001b[39m var(\u001b[38;5;124m\"\u001b[39m\u001b[38;5;124me i\u001b[39m\u001b[38;5;124m\"\u001b[39m)\n\u001b[0;32m----> 3\u001b[0m U_1, S_1 \u001b[38;5;241m=\u001b[39m get_U_S(A\u001b[38;5;241m=\u001b[39m\u001b[43mA\u001b[49m, w_0\u001b[38;5;241m=\u001b[39mw_0, t\u001b[38;5;241m=\u001b[39mt, ECCENTRICITY\u001b[38;5;241m=\u001b[39me, INCLINATION\u001b[38;5;241m=\u001b[39mi)\n\u001b[1;32m      4\u001b[0m w_0_vec_irf \u001b[38;5;241m=\u001b[39m U_1\u001b[38;5;241m.\u001b[39mT \u001b[38;5;241m@\u001b[39m Matrix([\u001b[38;5;241m0\u001b[39m, \u001b[38;5;241m1\u001b[39m, \u001b[38;5;241m0\u001b[39m])\n\u001b[1;32m      6\u001b[0m \u001b[38;5;28mprint\u001b[39m(\u001b[38;5;124mf\u001b[39m\u001b[38;5;124m\"\u001b[39m\u001b[38;5;124mПри наклонении \u001b[39m\u001b[38;5;132;01m{\u001b[39;00mi\u001b[38;5;132;01m}\u001b[39;00m\u001b[38;5;124m и эксцентриситете \u001b[39m\u001b[38;5;132;01m{\u001b[39;00me\u001b[38;5;132;01m}\u001b[39;00m\u001b[38;5;124m будет следующий вид матрицы U:\u001b[39m\u001b[38;5;124m\"\u001b[39m)\n",
      "\u001b[0;31mNameError\u001b[0m: name 'A' is not defined"
     ]
    }
   ],
   "source": [
    "from common_func import *\n",
    "e, i = var(\"e i\")\n",
    "U_1, S_1 = get_U_S(A=A, w_0=w_0, t=t, ECCENTRICITY=e, INCLINATION=i)\n",
    "w_0_vec_irf = U_1.T @ Matrix([0, 1, 0])\n",
    "\n",
    "print(f\"При наклонении {i} и эксцентриситете {e} будет следующий вид матрицы U:\")\n",
    "display(U_1)\n",
    "print(f\"При этом, направление угловой скорости вращения в ИСК:\")\n",
    "display(w_0_vec_irf)"
   ]
  },
  {
   "cell_type": "code",
   "execution_count": null,
   "id": "106d6298-04d2-4777-be0f-a80e01319589",
   "metadata": {},
   "outputs": [],
   "source": []
  }
 ],
 "metadata": {
  "kernelspec": {
   "display_name": "Python 3 (ipykernel)",
   "language": "python",
   "name": "python3"
  },
  "language_info": {
   "codemirror_mode": {
    "name": "ipython",
    "version": 3
   },
   "file_extension": ".py",
   "mimetype": "text/x-python",
   "name": "python",
   "nbconvert_exporter": "python",
   "pygments_lexer": "ipython3",
   "version": "3.10.12"
  }
 },
 "nbformat": 4,
 "nbformat_minor": 5
}
