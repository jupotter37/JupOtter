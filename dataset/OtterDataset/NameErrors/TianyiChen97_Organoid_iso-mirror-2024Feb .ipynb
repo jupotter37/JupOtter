{
 "cells": [
  {
   "cell_type": "code",
   "execution_count": 6,
   "id": "ecb404e5",
   "metadata": {},
   "outputs": [
    {
     "ename": "ModuleNotFoundError",
     "evalue": "No module named 'numpy'",
     "output_type": "error",
     "traceback": [
      "\u001b[0;31m---------------------------------------------------------------------------\u001b[0m",
      "\u001b[0;31mModuleNotFoundError\u001b[0m                       Traceback (most recent call last)",
      "Cell \u001b[0;32mIn[6], line 1\u001b[0m\n\u001b[0;32m----> 1\u001b[0m \u001b[38;5;28;01mimport\u001b[39;00m \u001b[38;5;21;01mnumpy\u001b[39;00m \u001b[38;5;28;01mas\u001b[39;00m \u001b[38;5;21;01mnp\u001b[39;00m\n\u001b[1;32m      2\u001b[0m \u001b[38;5;28;01mimport\u001b[39;00m \u001b[38;5;21;01mpickle\u001b[39;00m \u001b[38;5;28;01mas\u001b[39;00m \u001b[38;5;21;01mpkl\u001b[39;00m\n\u001b[1;32m      3\u001b[0m \u001b[38;5;28;01mfrom\u001b[39;00m \u001b[38;5;21;01mpprint\u001b[39;00m \u001b[38;5;28;01mimport\u001b[39;00m pprint\n",
      "\u001b[0;31mModuleNotFoundError\u001b[0m: No module named 'numpy'"
     ]
    }
   ],
   "source": [
    "import numpy as np\n",
    "import pickle as pkl\n",
    "from pprint import pprint\n",
    "import os\n",
    "import matplotlib\n",
    "import matplotlib.pyplot as plt\n",
    "from datetime import datetime\n",
    "plt.ion()"
   ]
  },
  {
   "cell_type": "code",
   "execution_count": 2,
   "id": "f8905c6e",
   "metadata": {},
   "outputs": [],
   "source": [
    "dr='/Users/tianyichen/Desktop/Research /PhDresearch/Hopkins_Organoid/ecr_ss_20240116/preliminary_ephys_data_ecr_results/chemical_and_electrical_stimulation'\n",
    "os.chdir(dr)"
   ]
  },
  {
   "cell_type": "code",
   "execution_count": 3,
   "id": "64456c68",
   "metadata": {},
   "outputs": [],
   "source": [
    "filenames=os.listdir(dr)"
   ]
  },
  {
   "cell_type": "code",
   "execution_count": 4,
   "id": "6c57c625",
   "metadata": {},
   "outputs": [],
   "source": [
    "filenames\n",
    "m=len(filenames)"
   ]
  },
  {
   "cell_type": "code",
   "execution_count": 5,
   "id": "3b5fcafc",
   "metadata": {},
   "outputs": [],
   "source": [
    "d=list()\n",
    "for i in range(0,len(filenames)):\n",
    "    time=filenames[i].split('_')[0]\n",
    "    di=datetime.strptime(time, '%y%m%d')\n",
    "    d.append(di)"
   ]
  },
  {
   "cell_type": "code",
   "execution_count": 6,
   "id": "2a3581f9",
   "metadata": {},
   "outputs": [
    {
     "data": {
      "text/plain": [
       "array([datetime.datetime(2022, 12, 15, 0, 0),\n",
       "       datetime.datetime(2022, 12, 18, 0, 0),\n",
       "       datetime.datetime(2022, 12, 18, 0, 0),\n",
       "       datetime.datetime(2022, 12, 20, 0, 0),\n",
       "       datetime.datetime(2023, 1, 10, 0, 0),\n",
       "       datetime.datetime(2023, 1, 12, 0, 0),\n",
       "       datetime.datetime(2023, 1, 12, 0, 0),\n",
       "       datetime.datetime(2023, 1, 12, 0, 0),\n",
       "       datetime.datetime(2023, 1, 26, 0, 0),\n",
       "       datetime.datetime(2023, 1, 26, 0, 0)], dtype=object)"
      ]
     },
     "execution_count": 6,
     "metadata": {},
     "output_type": "execute_result"
    }
   ],
   "source": [
    "np.sort(d) #6 unique time points in total "
   ]
  },
  {
   "cell_type": "code",
   "execution_count": 7,
   "id": "be9f87ff",
   "metadata": {},
   "outputs": [],
   "source": [
    "sort_filename=np.empty([len(filenames), 4], dtype=object)\n",
    "sort_filename[:,0]=d\n",
    "sort_filename[:,1]=filenames\n",
    "sort_filename=sort_filename[np.argsort(sort_filename[:,0]),:]"
   ]
  },
  {
   "cell_type": "code",
   "execution_count": 8,
   "id": "001d63f3",
   "metadata": {},
   "outputs": [],
   "source": [
    "def filter_matrix(src_filename, well, win):\n",
    "    # Load data from the specified source file\n",
    "    with open(src_filename, 'rb') as f:\n",
    "        data = pkl.load(f)\n",
    "\n",
    "    # Extract necessary data from the loaded data structure\n",
    "    adj_matrix = data[well][win]['adj_matrix_predicted']\n",
    "    votes = data[well][win]['votes']  # This variable is loaded but not used in the snippet you provided\n",
    "    corr_peaks = data[well][win]['corr_peaks']\n",
    "    fs = data['config']['data']['fs']  # Sampling frequency\n",
    "\n",
    "    # Initialize a matrix to track synchronization based on correlation peaks\n",
    "    synced_matrix = np.full(adj_matrix.shape, False)\n",
    "    for key in corr_peaks.keys():\n",
    "        if np.all(np.abs(np.array(corr_peaks[key]['delays'])) < 1/fs):\n",
    "            synced_matrix[key[0], key[1]] = True\n",
    "            synced_matrix[key[1], key[0]] = True\n",
    "\n",
    "    # Create the filtered matrix as per the given logic\n",
    "    filtered_matrix = np.logical_and(adj_matrix, np.logical_not(synced_matrix))\n",
    "\n",
    "    return filtered_matrix"
   ]
  },
  {
   "cell_type": "code",
   "execution_count": 9,
   "id": "7b9428bb",
   "metadata": {},
   "outputs": [],
   "source": [
    "well_choosen='well005' #well 0/1/2 can't run through filter_matrix function since they don't have votes \n",
    "all_adj = [filter_matrix(sort_filename[i, 1], well_choosen, 'win_0') for i in range(m)]"
   ]
  },
  {
   "cell_type": "code",
   "execution_count": null,
   "id": "514d1899",
   "metadata": {},
   "outputs": [],
   "source": []
  },
  {
   "cell_type": "code",
   "execution_count": 10,
   "id": "6e8df25c",
   "metadata": {},
   "outputs": [],
   "source": [
    "for i in range(0,m):\n",
    "    mat_data = all_adj[i]\n",
    "    sort_filename[i,2]=(mat_data.shape[0])\n",
    "    sort_filename[i,3]=(sum(sum(mat_data>0)))"
   ]
  },
  {
   "cell_type": "code",
   "execution_count": 11,
   "id": "5d77e0a7",
   "metadata": {},
   "outputs": [
    {
     "data": {
      "text/plain": [
       "array([['221215_CHD8Samples_DA_20240113_16h06m.pkl', 760, 58],\n",
       "       ['221218_CHD8Samples_Network_Baseline_b4_Chemicals_DA_20240113_16h06m.pkl',\n",
       "        223, 10],\n",
       "       ['221218_CHD8Samples_4AP_and_BiccExposure_DA_20240113_16h06m.pkl',\n",
       "        253, 67],\n",
       "       ['221220_CHD8Samples_4AP_and_BiccExposure_2DaysAfter_DA_20240113_16h06m.pkl',\n",
       "        330, 72],\n",
       "       ['230110_CHD8Samples_4AP_and_BiccExposure_3weeksAfter_DA_20240113_16h06m.pkl',\n",
       "        1001, 89649],\n",
       "       ['230112_CHD8Samples_4AP_and_BiccExposure_3weeksAfter_Post_HFStimulation_DA_20240113_16h06m.pkl',\n",
       "        1015, 114784],\n",
       "       ['230112_CHD8Samples_4AP_and_BiccExposure_3weeksAfter_DA_20240113_16h06m.pkl',\n",
       "        1019, 130887],\n",
       "       ['230112_CHD8Samples_4AP_and_BiccExposure_3weeksAfter_HFStimulation_DA_20240113_16h06m.pkl',\n",
       "        1019, 2718],\n",
       "       ['230126_CHD8Samples_4AP_and_BiccExposure_6weeksAfter_HF_and_LWStimulation_DA_20240113_16h06m.pkl',\n",
       "        1020, 11],\n",
       "       ['230126_CHD8Samples_4AP_and_BiccExposure_6weeksAfter_DA_20240113_16h06m.pkl',\n",
       "        1018, 110258]], dtype=object)"
      ]
     },
     "execution_count": 11,
     "metadata": {},
     "output_type": "execute_result"
    }
   ],
   "source": [
    "sort_filename[:,[1,2,3]]"
   ]
  },
  {
   "cell_type": "code",
   "execution_count": 67,
   "id": "0ca75c4e",
   "metadata": {},
   "outputs": [
    {
     "data": {
      "text/plain": [
       "array([[datetime.datetime(2023, 1, 12, 0, 0),\n",
       "        '230112_CHD8Samples_4AP_and_BiccExposure_3weeksAfter_Post_HFStimulation_DA_20240113_16h06m.pkl',\n",
       "        1015, 114784],\n",
       "       [datetime.datetime(2023, 1, 12, 0, 0),\n",
       "        '230112_CHD8Samples_4AP_and_BiccExposure_3weeksAfter_DA_20240113_16h06m.pkl',\n",
       "        1019, 130887]], dtype=object)"
      ]
     },
     "execution_count": 67,
     "metadata": {},
     "output_type": "execute_result"
    }
   ],
   "source": [
    "sort_filename[[5,6],]"
   ]
  },
  {
   "cell_type": "code",
   "execution_count": 73,
   "id": "dea67cb2",
   "metadata": {},
   "outputs": [
    {
     "data": {
      "text/plain": [
       "1015"
      ]
     },
     "execution_count": 73,
     "metadata": {},
     "output_type": "execute_result"
    }
   ],
   "source": [
    "all_adj[5].shape[0]"
   ]
  },
  {
   "cell_type": "code",
   "execution_count": 84,
   "id": "7c7f0551",
   "metadata": {},
   "outputs": [
    {
     "data": {
      "text/plain": [
       "<matplotlib.collections.PathCollection at 0x7ff5ca365ca0>"
      ]
     },
     "execution_count": 84,
     "metadata": {},
     "output_type": "execute_result"
    },
    {
     "data": {
      "image/png": "[encoded data removed]",
      "text/plain": [
       "<Figure size 640x480 with 1 Axes>"
      ]
     },
     "metadata": {},
     "output_type": "display_data"
    }
   ],
   "source": [
    "s,u=np.linalg.eig(all_adj[5])\n",
    "plt.scatter(range(all_adj[5].shape[0]),s)"
   ]
  },
  {
   "cell_type": "code",
   "execution_count": 88,
   "id": "35e12daa",
   "metadata": {},
   "outputs": [],
   "source": [
    "s,u=np.linalg.eig(all_adj[5])"
   ]
  },
  {
   "cell_type": "code",
   "execution_count": 91,
   "id": "85e868d6",
   "metadata": {},
   "outputs": [
    {
     "ename": "NameError",
     "evalue": "name 'sort' is not defined",
     "output_type": "error",
     "traceback": [
      "\u001b[0;31m---------------------------------------------------------------------------\u001b[0m",
      "\u001b[0;31mNameError\u001b[0m                                 Traceback (most recent call last)",
      "\u001b[0;32m/var/folders/rl/pr6f4j2d1_5913_lglcbwszc0000gn/T/ipykernel_94563/510147370.py\u001b[0m in \u001b[0;36m<module>\u001b[0;34m\u001b[0m\n\u001b[0;32m----> 1\u001b[0;31m \u001b[0msort\u001b[0m\u001b[0;34m(\u001b[0m\u001b[0ms\u001b[0m\u001b[0;34m)\u001b[0m\u001b[0;34m\u001b[0m\u001b[0;34m\u001b[0m\u001b[0m\n\u001b[0m",
      "\u001b[0;31mNameError\u001b[0m: name 'sort' is not defined"
     ]
    }
   ],
   "source": []
  },
  {
   "cell_type": "code",
   "execution_count": 79,
   "id": "c1c4d7ed",
   "metadata": {},
   "outputs": [
    {
     "data": {
      "text/plain": [
       "array([264.99229758,  63.54446214,  47.76699223,  34.16528046,\n",
       "        31.32745876,  29.17768009,  27.52475949,  25.82734335,\n",
       "        25.28278379,  24.46069817])"
      ]
     },
     "execution_count": 79,
     "metadata": {},
     "output_type": "execute_result"
    }
   ],
   "source": [
    "s[0:10]"
   ]
  },
  {
   "cell_type": "code",
   "execution_count": 68,
   "id": "089f6a47",
   "metadata": {},
   "outputs": [],
   "source": [
    "import csv"
   ]
  },
  {
   "cell_type": "code",
   "execution_count": 70,
   "id": "36e4a8e2",
   "metadata": {},
   "outputs": [],
   "source": [
    "def save_matrix_to_csv(matrix, filename):\n",
    "    with open(f'{filename}.csv', 'w', newline='') as file:\n",
    "        writer = csv.writer(file)\n",
    "        writer.writerows(matrix)\n",
    "\n",
    "# Save each matrix to a separate CSV file\n",
    "save_matrix_to_csv(all_adj[5], '230112_well05_Post_HFStimulatio')\n",
    "save_matrix_to_csv(all_adj[6], '230112_well05_Baseline')"
   ]
  },
  {
   "cell_type": "code",
   "execution_count": 12,
   "id": "e9a5a6e7",
   "metadata": {},
   "outputs": [],
   "source": [
    "## choose the time stamps for further analysis\n",
    "tm=[4,6,9]\n",
    "m=len(tm)"
   ]
  },
  {
   "cell_type": "code",
   "execution_count": 61,
   "id": "12ec17b0",
   "metadata": {},
   "outputs": [
    {
     "data": {
      "text/plain": [
       "array([[datetime.datetime(2023, 1, 10, 0, 0),\n",
       "        '230110_CHD8Samples_4AP_and_BiccExposure_3weeksAfter_DA_20240113_16h06m.pkl',\n",
       "        1001, 89649],\n",
       "       [datetime.datetime(2023, 1, 12, 0, 0),\n",
       "        '230112_CHD8Samples_4AP_and_BiccExposure_3weeksAfter_DA_20240113_16h06m.pkl',\n",
       "        1019, 130887],\n",
       "       [datetime.datetime(2023, 1, 26, 0, 0),\n",
       "        '230126_CHD8Samples_4AP_and_BiccExposure_6weeksAfter_DA_20240113_16h06m.pkl',\n",
       "        1018, 110258]], dtype=object)"
      ]
     },
     "execution_count": 61,
     "metadata": {},
     "output_type": "execute_result"
    }
   ],
   "source": [
    "sort_filename[tm,:]\n",
    "#sort_filename[tm, :][:, [2, 3]]"
   ]
  },
  {
   "cell_type": "code",
   "execution_count": 14,
   "id": "6ac310d3",
   "metadata": {},
   "outputs": [],
   "source": [
    "## add zeros to the adj mat such that they have the same dims \n",
    "dim = max(sort_filename[tm, 2])  # Max number of vertices to determine dimension\n",
    "adj_aug = np.zeros((m, dim, dim))  # Pre-allocate a zero matrix of the desired size\n",
    "\n",
    "for i in range(m):\n",
    "    ma = all_adj[tm[i]]  \n",
    "    l = ma.shape[0]  \n",
    "    adj_aug[i, :l, :l] = ma \n"
   ]
  },
  {
   "cell_type": "code",
   "execution_count": 15,
   "id": "74ea3d56",
   "metadata": {},
   "outputs": [],
   "source": [
    "from scipy.optimize import quadratic_assignment\n",
    "from numpy import linalg as LA\n",
    "adj_gm=np.zeros([m,dim,dim])\n",
    "adj_gm[0]=adj_aug[0] ## use the first graph as baseline"
   ]
  },
  {
   "cell_type": "code",
   "execution_count": 16,
   "id": "581312b5",
   "metadata": {},
   "outputs": [
    {
     "name": "stdout",
     "output_type": "stream",
     "text": [
      "number of vertices: 1019\n"
     ]
    }
   ],
   "source": [
    "print(f\"number of vertices: {dim}\")"
   ]
  },
  {
   "cell_type": "code",
   "execution_count": 29,
   "id": "ffc48124",
   "metadata": {},
   "outputs": [
    {
     "data": {
      "text/plain": [
       "49194.0"
      ]
     },
     "execution_count": 29,
     "metadata": {},
     "output_type": "execute_result"
    }
   ],
   "source": [
    "sum(sum(abs(adj_aug[0]-adj_aug[0].T)))"
   ]
  },
  {
   "cell_type": "code",
   "execution_count": 18,
   "id": "c0f0bacc",
   "metadata": {},
   "outputs": [
    {
     "name": "stdout",
     "output_type": "stream",
     "text": [
      "Frob diff before GM: 442.28497600529005, After GM: 263.9242315514057\n",
      "Frob diff before GM: 459.54216346272295, After GM: 300.8504611929322\n"
     ]
    }
   ],
   "source": [
    "for i in range(1, m):\n",
    "    res = quadratic_assignment(adj_gm[i-1],adj_aug[i],options = {'maximize': True})\n",
    "    perm = res['col_ind']\n",
    "    adj_gm[i]=adj_aug[i][perm][:,perm]\n",
    "    before_norm = LA.norm(adj_aug[i] - adj_gm[i-1], 'fro')\n",
    "    after_norm = LA.norm(adj_gm[i] - adj_gm[i-1], 'fro')\n",
    "\n",
    "     # Printing the before and after norms to see the difference\n",
    "    print(f\"Frob diff before GM: {before_norm}, After GM: {after_norm}\")\n"
   ]
  },
  {
   "cell_type": "code",
   "execution_count": 28,
   "id": "abb32280",
   "metadata": {},
   "outputs": [
    {
     "data": {
      "text/plain": [
       "49194.0"
      ]
     },
     "execution_count": 28,
     "metadata": {},
     "output_type": "execute_result"
    }
   ],
   "source": [
    "sum(sum(abs(adj_gm[0]-adj_gm[0].T)))"
   ]
  },
  {
   "cell_type": "code",
   "execution_count": 20,
   "id": "e363798f",
   "metadata": {},
   "outputs": [],
   "source": [
    "## find largest common connected component \n",
    "prod=adj_gm[0]\n",
    "for i in range(1,m):\n",
    "    prod=prod * adj_gm[i]"
   ]
  },
  {
   "cell_type": "code",
   "execution_count": 21,
   "id": "847cf4dc",
   "metadata": {},
   "outputs": [],
   "source": [
    "from graspologic.datasets import load_drosophila_right\n",
    "from graspologic.plot import heatmap\n",
    "from graspologic.utils import binarize, symmetrize\n",
    "import graspologic.utils as graspologic_utils"
   ]
  },
  {
   "cell_type": "code",
   "execution_count": 22,
   "id": "5ff34ebb",
   "metadata": {},
   "outputs": [
    {
     "data": {
      "text/plain": [
       "692"
      ]
     },
     "execution_count": 22,
     "metadata": {},
     "output_type": "execute_result"
    }
   ],
   "source": [
    "## find the connected component for the common edge subgraph \n",
    "[a,ind]=graspologic_utils.largest_connected_component(prod,return_inds=True)\n",
    "len(ind)"
   ]
  },
  {
   "cell_type": "code",
   "execution_count": 31,
   "id": "df057dd9",
   "metadata": {},
   "outputs": [],
   "source": [
    "n=len(ind)"
   ]
  },
  {
   "cell_type": "code",
   "execution_count": 32,
   "id": "e175b24a",
   "metadata": {},
   "outputs": [
    {
     "name": "stdout",
     "output_type": "stream",
     "text": [
      "True\n",
      "True\n",
      "True\n"
     ]
    }
   ],
   "source": [
    "# double check every adj mat is connected \n",
    "glist=np.zeros([m,len(ind),len(ind)])\n",
    "for i in range(m):\n",
    "    glist[i]=adj_gm[i][ind][:,ind]\n",
    "    print(graspologic_utils.is_fully_connected(glist[i]))"
   ]
  },
  {
   "cell_type": "code",
   "execution_count": 33,
   "id": "759afe55",
   "metadata": {},
   "outputs": [
    {
     "data": {
      "text/plain": [
       "<matplotlib.collections.PathCollection at 0x7ff5ca7f20a0>"
      ]
     },
     "execution_count": 33,
     "metadata": {},
     "output_type": "execute_result"
    },
    {
     "data": {
      "image/png": "[encoded data removed]",
      "text/plain": [
       "<Figure size 640x480 with 1 Axes>"
      ]
     },
     "metadata": {},
     "output_type": "display_data"
    }
   ],
   "source": [
    "## scree plot for one graph \n",
    "u,s,v=np.linalg.svd(glist[0], full_matrices=True)\n",
    "plt.scatter(range(n),s)"
   ]
  },
  {
   "cell_type": "code",
   "execution_count": 35,
   "id": "44eff84e",
   "metadata": {},
   "outputs": [],
   "source": [
    "from graspologic.embed import AdjacencySpectralEmbed"
   ]
  },
  {
   "cell_type": "code",
   "execution_count": 36,
   "id": "dbd153e2",
   "metadata": {},
   "outputs": [],
   "source": [
    "ed=1\n",
    "Xhat_list=np.zeros([len(tm),n,2*ed])\n",
    "for i in range(len(tm)):\n",
    "    ase = AdjacencySpectralEmbed(n_components=ed)\n",
    "    Xhat, Yhat = ase.fit_transform(glist[i])\n",
    "    Xhat_list[i][:,list(np.arange(ed))]=Xhat\n",
    "    Xhat_list[i][:,list(np.arange(ed,2*ed))]=Yhat"
   ]
  },
  {
   "cell_type": "code",
   "execution_count": 37,
   "id": "04fe89cf",
   "metadata": {},
   "outputs": [],
   "source": [
    "from scipy.linalg import orthogonal_procrustes\n",
    "D=np.zeros([len(tm),len(tm)])"
   ]
  },
  {
   "cell_type": "code",
   "execution_count": 38,
   "id": "146e2d54",
   "metadata": {},
   "outputs": [],
   "source": [
    "for i in range(len(tm)):\n",
    "    for j in range(len(tm)):\n",
    "        R, sca = orthogonal_procrustes(Xhat_list[i] , Xhat_list[j] )\n",
    "        D[i,j]=LA.norm(Xhat_list[i] @ R -  Xhat_list[j],2)**2/n  "
   ]
  },
  {
   "cell_type": "code",
   "execution_count": 39,
   "id": "0556d7b0",
   "metadata": {},
   "outputs": [],
   "source": [
    "J=np.ones([len(tm),len(tm)])/len(tm)\n",
    "I=np.eye(len(tm))\n",
    "P=I-J"
   ]
  },
  {
   "cell_type": "code",
   "execution_count": 40,
   "id": "6f7aac5f",
   "metadata": {},
   "outputs": [
    {
     "data": {
      "text/plain": [
       "Text(0, 0.5, 'eigen value')"
      ]
     },
     "execution_count": 40,
     "metadata": {},
     "output_type": "execute_result"
    },
    {
     "data": {
      "image/png": "[encoded data removed]",
      "text/plain": [
       "<Figure size 640x480 with 1 Axes>"
      ]
     },
     "metadata": {},
     "output_type": "display_data"
    }
   ],
   "source": [
    "H=(-1/2)*P@D@P\n",
    "w,v=LA.eig(H)\n",
    "idx = w.argsort()[::-1]   \n",
    "w = w[idx]\n",
    "v = v[:,idx]\n",
    "plt.scatter(range(len(tm)),w) \n",
    "#plt.title('scree plot for MDS')\n",
    "plt.xlabel('dimension',fontsize=15)\n",
    "plt.ylabel('eigen value',fontsize=15)"
   ]
  },
  {
   "cell_type": "code",
   "execution_count": 41,
   "id": "65157fea",
   "metadata": {},
   "outputs": [],
   "source": [
    "d=2\n",
    "MDS=v[:,:d] @ np.diag(np.sqrt(w[:d]))"
   ]
  },
  {
   "cell_type": "code",
   "execution_count": 56,
   "id": "e604be06",
   "metadata": {},
   "outputs": [],
   "source": [
    "## transform date to days from begining\n",
    "day=np.zeros([len(tm)])\n",
    "for i in range(len(tm)):\n",
    "    day[i]=(sort_filename[tm[i],0]-sort_filename[tm[0],0]).days"
   ]
  },
  {
   "cell_type": "code",
   "execution_count": 60,
   "id": "d25b7718",
   "metadata": {},
   "outputs": [
    {
     "data": {
      "text/plain": [
       "Text(0, 0.5, 'dim 2')"
      ]
     },
     "execution_count": 60,
     "metadata": {},
     "output_type": "execute_result"
    },
    {
     "data": {
      "image/png": "[encoded data removed]",
      "text/plain": [
       "<Figure size 640x480 with 1 Axes>"
      ]
     },
     "metadata": {},
     "output_type": "display_data"
    }
   ],
   "source": [
    "plt.scatter(MDS[:,0],MDS[:,1],color='black')\n",
    "for i in range(len(tm)):\n",
    "    plt.text(MDS[i,0],MDS[i,1]+0.01,str(int(day[i])), fontsize=16)\n",
    "plt.xlabel(\"dim 1\",fontsize=15)\n",
    "plt.ylabel(\"dim 2\",fontsize=15)"
   ]
  }
 ],
 "metadata": {
  "kernelspec": {
   "display_name": "Python 3 (ipykernel)",
   "language": "python",
   "name": "python3"
  },
  "language_info": {
   "codemirror_mode": {
    "name": "ipython",
    "version": 3
   },
   "file_extension": ".py",
   "mimetype": "text/x-python",
   "name": "python",
   "nbconvert_exporter": "python",
   "pygments_lexer": "ipython3",
   "version": "3.9.13"
  }
 },
 "nbformat": 4,
 "nbformat_minor": 5
}
