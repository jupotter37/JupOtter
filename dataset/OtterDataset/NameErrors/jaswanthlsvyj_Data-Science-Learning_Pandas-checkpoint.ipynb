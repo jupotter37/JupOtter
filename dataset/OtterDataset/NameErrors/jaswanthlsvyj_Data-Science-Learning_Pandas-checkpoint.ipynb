{
 "cells": [
  {
   "cell_type": "markdown",
   "id": "e8c91ab5",
   "metadata": {
    "heading_collapsed": true
   },
   "source": [
    "# Pandas:\n",
    "Pandas is a python module that makes data science or data analysis easy and effective.\n",
    "\n",
    "The Term \"Pandas\" is derived from \"Panel data system\" which is an ecometric term for multidimensional,structured data set."
   ]
  },
  {
   "cell_type": "markdown",
   "id": "29fd59cf",
   "metadata": {
    "heading_collapsed": true,
    "hidden": true
   },
   "source": [
    "## Features of Pandas\n",
    "1. It can read or write in many different data formats. \n",
    "\n",
    "2. Columns from a Pandas data structure can be deleted or inserted\n",
    "\n",
    "3. It offers good I/P and O/P capabilities as it easily pulls data from MySql database directly into dataframe\n",
    "\n",
    "4. It has functionality to find and fill missing data\n",
    "\n",
    "5. It suppports reshaping of data into different forms."
   ]
  },
  {
   "cell_type": "code",
   "execution_count": 1,
   "id": "0a44fa6e",
   "metadata": {
    "hidden": true
   },
   "outputs": [],
   "source": [
    "import numpy as np\n",
    "import pandas as pd\n",
    "from io import StringIO, BytesIO"
   ]
  },
  {
   "cell_type": "markdown",
   "id": "8174ece3",
   "metadata": {},
   "source": [
    "# Series\n",
    "It is a one-dimensional structure storing homogeneous ,mutable data but immutable size.\n",
    "\n",
    "It contains a sequence of values and an associated position of data labels called its index, which is by default have numeric data labels starting from zero."
   ]
  },
  {
   "cell_type": "markdown",
   "id": "f23d7cf0",
   "metadata": {},
   "source": [
    "## Creation of Series"
   ]
  },
  {
   "cell_type": "code",
   "execution_count": 2,
   "id": "ce6d2b2d",
   "metadata": {},
   "outputs": [
    {
     "name": "stdout",
     "output_type": "stream",
     "text": [
      "Series([], dtype: float64)\n"
     ]
    },
    {
     "name": "stderr",
     "output_type": "stream",
     "text": [
      "/var/folders/99/bpjbh7v565j2_dj9h91d6tmr0000gn/T/ipykernel_746/22783476.py:2: FutureWarning: The default dtype for empty Series will be 'object' instead of 'float64' in a future version. Specify a dtype explicitly to silence this warning.\n",
      "  s = pd.Series()\n"
     ]
    }
   ],
   "source": [
    "# creating empty Series \n",
    "s = pd.Series()\n",
    "print(s)"
   ]
  },
  {
   "cell_type": "markdown",
   "id": "3dbf52ec",
   "metadata": {},
   "source": [
    "### creating series from list"
   ]
  },
  {
   "cell_type": "code",
   "execution_count": 4,
   "id": "67848a7c",
   "metadata": {},
   "outputs": [
    {
     "name": "stdout",
     "output_type": "stream",
     "text": [
      "A     2\n",
      "B     4\n",
      "C     6\n",
      "D     2\n",
      "E     4\n",
      "F    65\n",
      "G    24\n",
      "H    67\n",
      "dtype: int64\n"
     ]
    }
   ],
   "source": [
    "# creating Series by using list\n",
    "l = [2,4,6,2,4,65,24,67]\n",
    "s = pd.Series(l, index=[i for i in 'ABCDEFGH'])\n",
    "print(s)"
   ]
  },
  {
   "cell_type": "code",
   "execution_count": 2,
   "id": "5efc46b6",
   "metadata": {},
   "outputs": [
    {
     "name": "stdout",
     "output_type": "stream",
     "text": [
      "Jan    31\n",
      "Feb    29\n",
      "Mar    31\n",
      "Apr    30\n",
      "May    31\n",
      "dtype: int64\n"
     ]
    }
   ],
   "source": [
    "# creating Series using two different lists\n",
    "l1 = ['Jan','Feb','Mar','Apr','May']\n",
    "l2 = [31,29,31,30,31]\n",
    "s = pd.Series(l2, index=l1)\n",
    "print(s)"
   ]
  },
  {
   "cell_type": "code",
   "execution_count": 5,
   "id": "a440e11a",
   "metadata": {},
   "outputs": [
    {
     "name": "stdout",
     "output_type": "stream",
     "text": [
      "0    4\n",
      "1    6\n",
      "2    8\n",
      "dtype: int64\n"
     ]
    }
   ],
   "source": [
    "# creating Series using range()\n",
    "s = pd.Series(range(4,9,2))\n",
    "print(s)"
   ]
  },
  {
   "cell_type": "code",
   "execution_count": 9,
   "id": "6734913e",
   "metadata": {},
   "outputs": [
    {
     "name": "stdout",
     "output_type": "stream",
     "text": [
      "10     1\n",
      "11     2\n",
      "12     3\n",
      "13     4\n",
      "14     5\n",
      "15     6\n",
      "16     7\n",
      "17     8\n",
      "18     9\n",
      "19    10\n",
      "dtype: int64\n"
     ]
    }
   ],
   "source": [
    "# creating Series using range() and for loop\n",
    "s = pd.Series(range(1,11), index = [x for x in range(10,20)])\n",
    "print(s)"
   ]
  },
  {
   "cell_type": "code",
   "execution_count": 11,
   "id": "47fb9fca",
   "metadata": {},
   "outputs": [
    {
     "name": "stdout",
     "output_type": "stream",
     "text": [
      "0     1.0\n",
      "1    43.0\n",
      "2    23.0\n",
      "3     1.0\n",
      "4     4.0\n",
      "dtype: float64\n"
     ]
    }
   ],
   "source": [
    "# Handling floatig points values in Series\n",
    "s= pd.Series([1,43,23,1.0,4])\n",
    "print(s)"
   ]
  },
  {
   "cell_type": "code",
   "execution_count": 14,
   "id": "c0cf3152",
   "metadata": {},
   "outputs": [
    {
     "name": "stdout",
     "output_type": "stream",
     "text": [
      "0      2.0\n",
      "1      5.0\n",
      "2      9.0\n",
      "3      NaN\n",
      "4    232.0\n",
      "dtype: float64\n"
     ]
    }
   ],
   "source": [
    "# Creating a Series using missing values NaN\n",
    "s = pd.Series([2,5,9,np.NaN,232])\n",
    "print(s)"
   ]
  },
  {
   "cell_type": "markdown",
   "id": "82a38b5f",
   "metadata": {},
   "source": [
    "### Creating Series from Scalar or constant values"
   ]
  },
  {
   "cell_type": "code",
   "execution_count": 7,
   "id": "3daf0aca",
   "metadata": {},
   "outputs": [
    {
     "name": "stdout",
     "output_type": "stream",
     "text": [
      "100    55\n",
      "101    55\n",
      "102    55\n",
      "103    55\n",
      "104    55\n",
      "dtype: int64\n"
     ]
    }
   ],
   "source": [
    "# creating a series from a numerical constant\n",
    "s =pd.Series(55, index=[100,101,102,103,104])\n",
    "print(s)"
   ]
  },
  {
   "cell_type": "code",
   "execution_count": 8,
   "id": "2a32a5a3",
   "metadata": {},
   "outputs": [
    {
     "name": "stdout",
     "output_type": "stream",
     "text": [
      "2    55\n",
      "4    55\n",
      "6    55\n",
      "8    55\n",
      "dtype: int64\n"
     ]
    }
   ],
   "source": [
    "# Series from numerical constant with indexing with range()\n",
    "s = pd.Series(55, index=range(2,10,2))\n",
    "print(s)"
   ]
  },
  {
   "cell_type": "code",
   "execution_count": 16,
   "id": "92991e6d",
   "metadata": {},
   "outputs": [
    {
     "name": "stdout",
     "output_type": "stream",
     "text": [
      "Jaswanth    Welcome to LPU\n",
      "Yaswanth    Welcome to LPU\n",
      "Pavan       Welcome to LPU\n",
      "Praney      Welcome to LPU\n",
      "dtype: object\n"
     ]
    }
   ],
   "source": [
    "# creating Series using string both as index and constant value\n",
    "s = pd.Series(\"Welcome to LPU\" , index=['Jaswanth','Yaswanth','Pavan','Praney'])\n",
    "print(s)"
   ]
  },
  {
   "cell_type": "markdown",
   "id": "be9335ea",
   "metadata": {},
   "source": [
    "### Creating a series from Dictionary\n",
    "A dictionary can be passed as input and, if no index is specified, the dictionary keys are taken in a sorted order to construct index"
   ]
  },
  {
   "cell_type": "code",
   "execution_count": 3,
   "id": "bbecb992",
   "metadata": {},
   "outputs": [
    {
     "name": "stdout",
     "output_type": "stream",
     "text": [
      "Jaswanth    18\n",
      "Yaswanth    19\n",
      "Pavan       17\n",
      "Praney      18\n",
      "dtype: int64\n"
     ]
    }
   ],
   "source": [
    "# creating sereis from dictionary\n",
    "s =pd.Series({'Jaswanth':18, 'Yaswanth':19, 'Pavan':17, 'Praney':18})\n",
    "print(s)"
   ]
  },
  {
   "cell_type": "code",
   "execution_count": 4,
   "id": "7dd1f93f",
   "metadata": {},
   "outputs": [
    {
     "name": "stdout",
     "output_type": "stream",
     "text": [
      "First Name\n",
      "Jaswanth    18\n",
      "Yaswanth    19\n",
      "Pavan       17\n",
      "Praney      18\n",
      "Name: Names, dtype: int64\n"
     ]
    }
   ],
   "source": [
    "# namiong a Series\n",
    "s =pd.Series({'Jaswanth':18, 'Yaswanth':19, 'Pavan':17, 'Praney':18})\n",
    "s.name= 'Names'\n",
    "s.index.name = 'First Name'\n",
    "print(s)"
   ]
  },
  {
   "cell_type": "markdown",
   "id": "6465cd84",
   "metadata": {},
   "source": [
    "### Creating a series using a Mathematical Expression/Function\n",
    "A series of objects can be created by using a Mathematical Expression/Function that determines the value for data sequence using the syntax as follows:\n",
    "\n",
    "< series Object > = pd.Series(index=None, data=< expression[function] >"
   ]
  },
  {
   "cell_type": "code",
   "execution_count": 2,
   "id": "c3cea3a6",
   "metadata": {},
   "outputs": [
    {
     "name": "stdout",
     "output_type": "stream",
     "text": [
      "[10 11 12 13 14]\n",
      "10     80\n",
      "11     88\n",
      "12     96\n",
      "13    104\n",
      "14    112\n",
      "dtype: int64\n"
     ]
    }
   ],
   "source": [
    "# Generate a series using a mathematical expression\n",
    "n1 = np.arange(10,15)\n",
    "print(n1)\n",
    "s = pd.Series( data= n1*8, index=n1)\n",
    "print(s)"
   ]
  },
  {
   "cell_type": "code",
   "execution_count": 19,
   "id": "7e7149de",
   "metadata": {},
   "outputs": [
    {
     "name": "stdout",
     "output_type": "stream",
     "text": [
      "[10 11 12 13 14]\n",
      "10    100\n",
      "11    121\n",
      "12    144\n",
      "13    169\n",
      "14    196\n",
      "dtype: int64\n"
     ]
    }
   ],
   "source": [
    "#Generate a series using a mathematical function( exponentiation )\n",
    "n1 = np.arange(10,15)\n",
    "print(n1)\n",
    "s = pd.Series(index=n1, data= n1**2)\n",
    "print(s)"
   ]
  },
  {
   "cell_type": "markdown",
   "id": "ee68890d",
   "metadata": {},
   "source": [
    "### Creating Series using Numpy ndArray"
   ]
  },
  {
   "cell_type": "code",
   "execution_count": 21,
   "id": "88f9fc99",
   "metadata": {},
   "outputs": [
    {
     "name": "stdout",
     "output_type": "stream",
     "text": [
      "a    10\n",
      "b    11\n",
      "c    12\n",
      "d    13\n",
      "dtype: int64\n"
     ]
    }
   ],
   "source": [
    "# generate a series using a one-dimensional array\n",
    "arr = np.arange(10,14)\n",
    "s = pd.Series(arr, index = ['a','b','c','d'])\n",
    "print(s)"
   ]
  },
  {
   "cell_type": "markdown",
   "id": "266b8a92",
   "metadata": {},
   "source": [
    "## Accessing the data from series"
   ]
  },
  {
   "cell_type": "code",
   "execution_count": 5,
   "id": "53f766ee",
   "metadata": {},
   "outputs": [
    {
     "name": "stdout",
     "output_type": "stream",
     "text": [
      "s[o] =  1\n",
      "s[:3] = \n",
      " a    1\n",
      "b    2\n",
      "c    3\n",
      "dtype: int64\n",
      "s[-3:] = \n",
      " d    4\n",
      "e    5\n",
      "f    6\n",
      "dtype: int64\n"
     ]
    }
   ],
   "source": [
    "s = pd.Series([1,2,3,4,5,6], index=[x for x in 'abcdef'])\n",
    "print('s[o] = ',s[0])\n",
    "print('s[:3] = \\n',s[:3])\n",
    "print('s[-3:] = \\n',s[-3:])"
   ]
  },
  {
   "cell_type": "markdown",
   "id": "90263945",
   "metadata": {},
   "source": [
    "### iloc[] and loc[] indexing function\n",
    "1. iloc[] -> iloc is used for indexing or selecting based on position. It doesn't include the last element in indexing.\n",
    "2. loc[] -> loc is used for indexing or selecting based on names. It include the last element in indexing."
   ]
  },
  {
   "cell_type": "code",
   "execution_count": 6,
   "id": "4887abb2",
   "metadata": {},
   "outputs": [
    {
     "name": "stdout",
     "output_type": "stream",
     "text": [
      "b    2\n",
      "c    3\n",
      "d    4\n",
      "dtype: int64\n",
      "b    2\n",
      "c    3\n",
      "d    4\n",
      "e    5\n",
      "dtype: int64\n"
     ]
    }
   ],
   "source": [
    "s = pd.Series([1,2,3,4,5,6], index=[x for x in 'abcdef'])\n",
    "print(s[1:4]) # by using iloc[]\n",
    "print(s['b':'e']) # by using loc[]"
   ]
  },
  {
   "cell_type": "markdown",
   "id": "d187b7d1",
   "metadata": {},
   "source": [
    "## Sreies object attributes\n",
    "syntax: < series object >.< Attribute>"
   ]
  },
  {
   "cell_type": "code",
   "execution_count": 6,
   "id": "6df55912",
   "metadata": {
    "scrolled": true
   },
   "outputs": [
    {
     "name": "stdout",
     "output_type": "stream",
     "text": [
      "len(s) : 5\n",
      "s.index : Index(['a', 'b', 'c', 'd', 'e'], dtype='object')\n",
      "s.values : [ 1  4  7 10 13]\n",
      "s.dtype : int64\n",
      "s.shape : (5,)\n",
      "s.nbytes : 40\n",
      "s.ndim : 1\n",
      "s.size : 5\n",
      "s.hasnans : False\n",
      "s.empty: False\n",
      "s.head(nuber) : a    1\n",
      "b    4\n",
      "dtype: int64\n",
      "s.tail(number) : d    10\n",
      "e    13\n",
      "dtype: int64\n"
     ]
    }
   ],
   "source": [
    "s = pd.Series(range(1,15,3), index=[x for x in 'abcde'])\n",
    "print('len(s) :',len(s)) # len() gives lenght of the series\n",
    "print('s.index :',s.index) # returns index of the series\n",
    "print('s.values :',s.values) #returns ndarray\n",
    "print('s.dtype :',s.dtype) #returns dtype objects of the underlying data\n",
    "print('s.shape :',s.shape) #return tuple of the shape of underlying data\n",
    "print('s.nbytes :',s.nbytes) #return number of bytes of underlying data\n",
    "print('s.ndim :',s.ndim) #returns the number of dimension\n",
    "print('s.size :',s.size) #return the no.of elements\n",
    "#print('s.itemsize :', s.itemsize) #return the size of the dtype\n",
    "print('s.hasnans :',s.hasnans) #return true if there are any NaN\n",
    "print('s.empty:',s.empty) #return true if series object is empty\n",
    "print('s.head(nuber) :',s.head(2)) #returns the elements from the starting to the number we given in it\n",
    "print('s.tail(number) :',s.tail(2)) #returns the elements from the last to the number we given in it"
   ]
  },
  {
   "cell_type": "markdown",
   "id": "d848987f",
   "metadata": {},
   "source": [
    "## Mathematical Operations on series\n",
    "Mathematical processing can be performed on series using scalar values and functions.All the arithmetic operators such as +,-,*,/ etc. can be successfully performed on series.One thing we have to remember is that index of the two series should be same."
   ]
  },
  {
   "cell_type": "code",
   "execution_count": 4,
   "id": "7f22f27d",
   "metadata": {},
   "outputs": [
    {
     "name": "stdout",
     "output_type": "stream",
     "text": [
      "s+s1\n",
      "0    12\n",
      "1    14\n",
      "2    16\n",
      "3    18\n",
      "4    20\n",
      "5    22\n",
      "6    24\n",
      "7    26\n",
      "8    28\n",
      "dtype: int64\n"
     ]
    }
   ],
   "source": [
    "s = pd.Series(range(1,10))\n",
    "s1 = pd.Series(range(11,20))\n",
    "print('s+s1')\n",
    "print(s+s1)"
   ]
  },
  {
   "cell_type": "code",
   "execution_count": 5,
   "id": "8c00abc6",
   "metadata": {},
   "outputs": [
    {
     "name": "stdout",
     "output_type": "stream",
     "text": [
      "s-s1\n",
      "0   -10\n",
      "1   -10\n",
      "2   -10\n",
      "3   -10\n",
      "4   -10\n",
      "5   -10\n",
      "6   -10\n",
      "7   -10\n",
      "8   -10\n",
      "dtype: int64\n"
     ]
    }
   ],
   "source": [
    "print('s-s1')\n",
    "print(s-s1)"
   ]
  },
  {
   "cell_type": "code",
   "execution_count": 6,
   "id": "9bda9780",
   "metadata": {},
   "outputs": [
    {
     "name": "stdout",
     "output_type": "stream",
     "text": [
      "s*s1\n",
      "0     11\n",
      "1     24\n",
      "2     39\n",
      "3     56\n",
      "4     75\n",
      "5     96\n",
      "6    119\n",
      "7    144\n",
      "8    171\n",
      "dtype: int64\n"
     ]
    }
   ],
   "source": [
    "print('s*s1')\n",
    "print(s*s1)"
   ]
  },
  {
   "cell_type": "code",
   "execution_count": 7,
   "id": "3e377a53",
   "metadata": {},
   "outputs": [
    {
     "name": "stdout",
     "output_type": "stream",
     "text": [
      "s1/s\n",
      "0    11.000000\n",
      "1     6.000000\n",
      "2     4.333333\n",
      "3     3.500000\n",
      "4     3.000000\n",
      "5     2.666667\n",
      "6     2.428571\n",
      "7     2.250000\n",
      "8     2.111111\n",
      "dtype: float64\n"
     ]
    }
   ],
   "source": [
    "print('s1/s')\n",
    "print(s1/s)"
   ]
  },
  {
   "cell_type": "markdown",
   "id": "bd137aae",
   "metadata": {},
   "source": [
    "##  Vector operations on Series\n",
    "Series also supports vector operations. Any operation to be performed on a series gets performed on every single element of it."
   ]
  },
  {
   "cell_type": "code",
   "execution_count": 9,
   "id": "97ea97a3",
   "metadata": {},
   "outputs": [
    {
     "name": "stdout",
     "output_type": "stream",
     "text": [
      "s+2 : \n",
      " 0    3\n",
      "1    4\n",
      "2    5\n",
      "3    6\n",
      "4    7\n",
      "dtype: int64\n",
      "s>3 : \n",
      " 0    False\n",
      "1    False\n",
      "2    False\n",
      "3     True\n",
      "4     True\n",
      "dtype: bool\n"
     ]
    }
   ],
   "source": [
    "s = pd.Series(range(1,6))\n",
    "print('s+2 : \\n',s+2)\n",
    "print('s>3 : \\n',s>3)"
   ]
  },
  {
   "cell_type": "markdown",
   "id": "cdf91ee9",
   "metadata": {},
   "source": [
    "## Retrieving values using conditions"
   ]
  },
  {
   "cell_type": "code",
   "execution_count": 10,
   "id": "0b7aa2ac",
   "metadata": {},
   "outputs": [
    {
     "name": "stdout",
     "output_type": "stream",
     "text": [
      "s : \n",
      " 0    1.000000\n",
      "1    1.414214\n",
      "2    1.732051\n",
      "3    2.000000\n",
      "dtype: float64\n",
      "s<2 : \n",
      " 0     True\n",
      "1     True\n",
      "2     True\n",
      "3    False\n",
      "dtype: bool\n",
      "a[a<2]: \n",
      " 0    1.000000\n",
      "1    1.414214\n",
      "2    1.732051\n",
      "dtype: float64\n"
     ]
    }
   ],
   "source": [
    "s = pd.Series([1.00000,1.414214,1.732051,2.000000])\n",
    "print('s : \\n',s)\n",
    "print('s<2 : \\n',s<2)\n",
    "print('a[a<2]: \\n',s[s<2])"
   ]
  },
  {
   "cell_type": "markdown",
   "id": "b736758f",
   "metadata": {},
   "source": [
    "## Deleting an element in Series\n",
    "We can delete an element from a series using drop() method by passing the index of the element to be deleted as the argument to it."
   ]
  },
  {
   "cell_type": "code",
   "execution_count": 34,
   "id": "6902fec9",
   "metadata": {},
   "outputs": [
    {
     "name": "stdout",
     "output_type": "stream",
     "text": [
      "s : \n",
      " 0    100\n",
      "1    101\n",
      "2    102\n",
      "3    103\n",
      "4    104\n",
      "dtype: int64\n",
      "The droped element is \n",
      " 0    100\n",
      "1    101\n",
      "2    102\n",
      "4    104\n",
      "dtype: int64\n",
      "s : \n",
      " 0    100\n",
      "1    101\n",
      "2    102\n",
      "3    103\n",
      "4    104\n",
      "dtype: int64\n"
     ]
    }
   ],
   "source": [
    "s = pd.Series(range(100,105))\n",
    "print('s : \\n',s)\n",
    "\n",
    "d = s.drop(3)\n",
    "print('The droped element is \\n',d)\n",
    "print('s : \\n',s)"
   ]
  },
  {
   "cell_type": "markdown",
   "id": "e7e4c40e",
   "metadata": {},
   "source": [
    "# Data Frame\n",
    "It is a two-dimensional structure storing heterogeneous ,mutable data\n",
    "\n",
    "It is 2-Dimensional data structure, just like any table(with rows and columns)."
   ]
  },
  {
   "cell_type": "markdown",
   "id": "aac19e83",
   "metadata": {},
   "source": [
    "## Features of dataframe are:\n",
    "1. Columns can be of different datatype\n",
    "2. size of dataframe is mutable\n",
    "3. Its data also mutable\n",
    "4. Labelled axes - rows/columns\n",
    "5. Arithmetic operations on rows and columns\n",
    "6. Indexes may constitue numbers, strings, letters"
   ]
  },
  {
   "cell_type": "markdown",
   "id": "3b4ba663",
   "metadata": {},
   "source": [
    "##  Creation of DataFrame and display"
   ]
  },
  {
   "cell_type": "code",
   "execution_count": 7,
   "id": "1c2b4c94",
   "metadata": {},
   "outputs": [
    {
     "name": "stdout",
     "output_type": "stream",
     "text": [
      "Empty DataFrame\n",
      "Columns: []\n",
      "Index: []\n"
     ]
    }
   ],
   "source": [
    "df = pd.DataFrame() #empty dataframe\n",
    "print(df)"
   ]
  },
  {
   "cell_type": "markdown",
   "id": "2f6feb1a",
   "metadata": {},
   "source": [
    "DataFrames can be created with the following contructs:\n",
    "1. Lists\n",
    "2. Series\n",
    "3. Dictionary\n",
    "4. numpy ndarrays"
   ]
  },
  {
   "cell_type": "markdown",
   "id": "071e7f61",
   "metadata": {},
   "source": [
    "### Creating DataFrame from Lists"
   ]
  },
  {
   "cell_type": "code",
   "execution_count": 20,
   "id": "a6dc198c",
   "metadata": {},
   "outputs": [
    {
     "name": "stdout",
     "output_type": "stream",
     "text": [
      "df:\n",
      "   Numbers\n",
      "0       10\n",
      "1       20\n",
      "2       30\n",
      "3       40\n",
      "4       50\n"
     ]
    }
   ],
   "source": [
    "# creating a dataframe from list\n",
    "l1 = [10,20,30,40,50]\n",
    "df = pd.DataFrame(l1,columns=['Numbers'])\n",
    "print('df:')\n",
    "print(df)"
   ]
  },
  {
   "cell_type": "code",
   "execution_count": 19,
   "id": "1742565e",
   "metadata": {},
   "outputs": [
    {
     "name": "stdout",
     "output_type": "stream",
     "text": [
      "     Name  Marks\n",
      "0  shreya     20\n",
      "1     raj     30\n",
      "2  srijan     50\n"
     ]
    }
   ],
   "source": [
    "# creating from nested list\n",
    "l1 = [['shreya',20],['raj',30],['srijan',50]]\n",
    "df = pd.DataFrame(l1, columns=['Name','Marks'])\n",
    "print(df)"
   ]
  },
  {
   "cell_type": "markdown",
   "id": "7a1a2d36",
   "metadata": {},
   "source": [
    "### Creating DataFrame from Series"
   ]
  },
  {
   "cell_type": "code",
   "execution_count": 21,
   "id": "8e1e668c",
   "metadata": {},
   "outputs": [
    {
     "name": "stdout",
     "output_type": "stream",
     "text": [
      "         Marks  Age\n",
      "vijaya      80   32\n",
      "Rajul       92   28\n",
      "Meghna      67   30\n",
      "Radhika     95   20\n"
     ]
    }
   ],
   "source": [
    "# creating dataframe from two deries of student data\n",
    "student_marks = pd.Series({'vijaya':80,'Rajul':92,'Meghna':67,'Radhika':95})\n",
    "student_age = pd.Series({'vijaya':32,'Rajul': 28,'Meghna':30,'Radhika':20})\n",
    "df = pd.DataFrame({'Marks':student_marks,'Age':student_age})\n",
    "print(df)"
   ]
  },
  {
   "cell_type": "markdown",
   "id": "1ca38be8",
   "metadata": {},
   "source": [
    "### Creating DataFrame from Dictionary\n",
    "The different ways to create a dataframe using dictionary are:\n",
    "1. Dictionary of list\n",
    "2. Dictionary of series\n",
    "3. List of dictionaries"
   ]
  },
  {
   "cell_type": "markdown",
   "id": "f0205a28",
   "metadata": {},
   "source": [
    "#### Dictioanry of list"
   ]
  },
  {
   "cell_type": "code",
   "execution_count": 8,
   "id": "f219c2ee",
   "metadata": {},
   "outputs": [
    {
     "name": "stdout",
     "output_type": "stream",
     "text": [
      "     Name  English  Economics  IP  Accouncts\n",
      "0   Rinku       67         78  98         77\n",
      "1    Ritu       65         59  97         70\n",
      "2    Ajay       98         98  95         80\n",
      "3  Pankaj       45         65  96         57\n"
     ]
    }
   ],
   "source": [
    "stu = {'Name':['Rinku','Ritu','Ajay','Pankaj'],\n",
    "       'English':[67,65,98,45],\n",
    "       'Economics':[78,59,98,65],\n",
    "       'IP':[98,97,95,96],\n",
    "       'Accouncts':[77,70,80,57]}\n",
    "df = pd.DataFrame(stu)\n",
    "print(df)"
   ]
  },
  {
   "cell_type": "code",
   "execution_count": 9,
   "id": "e4d581b1",
   "metadata": {},
   "outputs": [],
   "source": [
    "# to save the file in 'student.csv'\n",
    "df.to_csv('student.csv')"
   ]
  },
  {
   "cell_type": "markdown",
   "id": "e484fd4d",
   "metadata": {},
   "source": [
    "#### Dataframe from dictionary of series"
   ]
  },
  {
   "cell_type": "code",
   "execution_count": 10,
   "id": "aed3f3c1",
   "metadata": {},
   "outputs": [
    {
     "name": "stdout",
     "output_type": "stream",
     "text": [
      "     Name  English  Economics  IP  Accouncts\n",
      "0   Rinku       67         78  98         77\n",
      "1    Ritu       65         59  97         70\n",
      "2    Ajay       98         98  95         80\n",
      "3  Pankaj       45         65  96         57\n"
     ]
    }
   ],
   "source": [
    "n = pd.Series(['Rinku','Ritu','Ajay','Pankaj'])\n",
    "Eng=pd.Series([67,65,98,45])\n",
    "Eco = pd.Series([78,59,98,65])\n",
    "IP = pd.Series([98,97,95,96])\n",
    "Acc = pd.Series([77,70,80,57])\n",
    "# creating a dictonary of series\n",
    "stu = {'Name':n,'English':Eng,'Economics':Eco,'IP':IP,'Accouncts':Acc}\n",
    "df = pd.DataFrame(stu)\n",
    "print(df)"
   ]
  },
  {
   "cell_type": "markdown",
   "id": "0b639ccc",
   "metadata": {},
   "source": [
    "#### List of Dictionaries"
   ]
  },
  {
   "cell_type": "code",
   "execution_count": 11,
   "id": "7b57204a",
   "metadata": {},
   "outputs": [
    {
     "name": "stdout",
     "output_type": "stream",
     "text": [
      "    Name  English  Eco  IP  Acc\n",
      "0  Rinku       67   78  98   77\n",
      "1   Ritu       65   59  97   70\n"
     ]
    }
   ],
   "source": [
    "l1 = [{'Name':'Rinku','English':67,'Eco':78,'IP':98,'Acc':77},\n",
    "      {'Name':'Ritu','English':65,'Eco':59,'IP':97,'Acc':70}]\n",
    "df = pd.DataFrame(l1)\n",
    "print(df)"
   ]
  },
  {
   "cell_type": "markdown",
   "id": "e6c12e3e",
   "metadata": {},
   "source": [
    "### Creating DataFrame using Numpy ndarray"
   ]
  },
  {
   "cell_type": "code",
   "execution_count": 12,
   "id": "b7393f7b",
   "metadata": {},
   "outputs": [
    {
     "name": "stdout",
     "output_type": "stream",
     "text": [
      "   English  Economics  IP  Accounts\n",
      "0       67         78  75        48\n",
      "1       65         98  14        48\n",
      "2       87         14  91        38\n",
      "3       73         79  71        72\n"
     ]
    }
   ],
   "source": [
    "arr = np.array([[67,78,75,48],[65,98,14,48],[87,14,91,38],[73,79,71,72]])\n",
    "col_names = ['English','Economics','IP','Accounts']\n",
    "df = pd.DataFrame(arr , columns = col_names)\n",
    "print(df)"
   ]
  },
  {
   "cell_type": "markdown",
   "id": "48abaefc",
   "metadata": {},
   "source": [
    "## Sorting Data in DataFrames\n",
    "syntex: < dataframe name>.sort_values(). In this function ,two arguments are passed ,1st: sorting field, 2nd : order of sorting"
   ]
  },
  {
   "cell_type": "code",
   "execution_count": 29,
   "id": "afbc8e56",
   "metadata": {},
   "outputs": [
    {
     "name": "stdout",
     "output_type": "stream",
     "text": [
      "         Marks  Age\n",
      "vijaya      80   32\n",
      "Rajul       92   28\n",
      "Meghna      67   30\n",
      "Radhika     95   20\n",
      "Sorting on basis of marks:\n",
      "         Marks  Age\n",
      "Meghna      67   30\n",
      "vijaya      80   32\n",
      "Rajul       92   28\n",
      "Radhika     95   20\n",
      "Sorting in descending order of marks\n",
      "         Marks  Age\n",
      "Radhika     95   20\n",
      "Rajul       92   28\n",
      "vijaya      80   32\n",
      "Meghna      67   30\n"
     ]
    }
   ],
   "source": [
    "student_marks = pd.Series({'vijaya':80,'Rajul':92,'Meghna':67,'Radhika':95})\n",
    "student_age = pd.Series({'vijaya':32,'Rajul': 28,'Meghna':30,'Radhika':20})\n",
    "df = pd.DataFrame({'Marks':student_marks,'Age':student_age})\n",
    "print(df)\n",
    "# print('sorting :')\n",
    "# print(df.sort_values)\n",
    "print('Sorting on basis of marks:')\n",
    "print(df.sort_values(by=['Marks']))\n",
    "\n",
    "print('Sorting in descending order of marks')\n",
    "print(df.sort_values(by=['Marks'],ascending = False))"
   ]
  },
  {
   "cell_type": "markdown",
   "id": "e020e467",
   "metadata": {},
   "source": [
    "## Attributes of DataFrame\n",
    "syntax: < DataFrameObject>.< attrribute_name>"
   ]
  },
  {
   "cell_type": "code",
   "execution_count": 5,
   "id": "c028336b",
   "metadata": {},
   "outputs": [
    {
     "name": "stdout",
     "output_type": "stream",
     "text": [
      "df: \n",
      "              2018  2019  2020\n",
      "Accountancy  85.4  77.9  86.5\n",
      "IP           88.2  80.5  90.0\n",
      "Economics    80.3  78.6  77.5\n",
      "English      79.0  76.2  80.5\n",
      "\n",
      " df.index : Index(['Accountancy', 'IP', 'Economics', 'English'], dtype='object')\n",
      "\n",
      " df.columns : Index(['2018', '2019', '2020'], dtype='object')\n",
      "\n",
      " df.axes : [Index(['Accountancy', 'IP', 'Economics', 'English'], dtype='object'), Index(['2018', '2019', '2020'], dtype='object')]\n",
      "\n",
      " df.dtypes : 2018    float64\n",
      "2019    float64\n",
      "2020    float64\n",
      "dtype: object\n",
      "\n",
      " df.size : 12\n",
      "\n",
      " df.shape : (4, 3)\n",
      "\n",
      " df.ndim: 2\n",
      "\n",
      " df.empty : False\n",
      "\n",
      " df.isna() :               2018   2019   2020\n",
      "Accountancy  False  False  False\n",
      "IP           False  False  False\n",
      "Economics    False  False  False\n",
      "English      False  False  False\n"
     ]
    }
   ],
   "source": [
    "dict = {'2018':[85.4,88.2,80.3,79.0],'2019':[77.9,80.5,78.6,76.2],'2020':[86.5,90.0,77.5,80.5]}\n",
    "df = pd.DataFrame(dict , index=['Accountancy','IP','Economics','English'])\n",
    "print('df: \\n',df)\n",
    "\n",
    "# index: used to fetch the index's names as the index could be 0,1,2,3...\n",
    "print('\\n df.index :',df.index)\n",
    "\n",
    "# columns : used to fetch the column's name\n",
    "print('\\n df.columns :',df.columns)\n",
    "\n",
    "# axes : uesd to fetch both index and column names\n",
    "print('\\n df.axes :',df.axes)\n",
    "\n",
    "# dtypes : fetch the datatype values of the items in the dataframe\n",
    "print('\\n df.dtypes :',df.dtypes)\n",
    "\n",
    "# size : fetch the size of the dataframe\n",
    "print( '\\n df.size :',df.size)\n",
    "\n",
    "#shape : fetch the no.of rows and no.of columns\n",
    "print('\\n df.shape :',df.shape)\n",
    "\n",
    "# ndim : fetch the dimension of the given dataframe\n",
    "print('\\n df.ndim:',df.ndim)\n",
    "\n",
    "# empty : gives boolean o/p i.e True or False\n",
    "print('\\n df.empty :',df.empty)\n",
    "\n",
    "# isna() : checks the presence of NaN(not a number)\n",
    "print('\\n df.isna() :',df.isna())"
   ]
  },
  {
   "cell_type": "code",
   "execution_count": 11,
   "id": "8f4a3b02",
   "metadata": {},
   "outputs": [
    {
     "name": "stdout",
     "output_type": "stream",
     "text": [
      "df.count() :\n",
      "2018    4\n",
      "2019    4\n",
      "2020    4\n",
      "dtype: int64\n",
      "\n",
      "df.count(axis = index )\n",
      "2018    4\n",
      "2019    4\n",
      "2020    4\n",
      "dtype: int64\n",
      "\n",
      "df.count(number)\n",
      "Accountancy    3\n",
      "IP             3\n",
      "Economics      3\n",
      "English        3\n",
      "dtype: int64\n",
      "\n",
      "df.count(axis = columns )\n",
      "Accountancy    3\n",
      "IP             3\n",
      "Economics      3\n",
      "English        3\n",
      "dtype: int64\n"
     ]
    }
   ],
   "source": [
    "# count() : gives the count of the items in dataframe\n",
    "# by default, it gives the count of the rows\n",
    "\n",
    "print('df.count() :')\n",
    "print(df.count())\n",
    "\n",
    "print('\\ndf.count(axis = index )')\n",
    "print(df.count(axis='index'))\n",
    "\n",
    "print('\\ndf.count(number)')\n",
    "print(df.count(1))\n",
    "\n",
    "print('\\ndf.count(axis = columns )')\n",
    "print(df.count(axis='columns'))"
   ]
  },
  {
   "cell_type": "code",
   "execution_count": 12,
   "id": "803b9f6c",
   "metadata": {},
   "outputs": [
    {
     "name": "stdout",
     "output_type": "stream",
     "text": [
      "df :\n",
      "             2018  2019  2020\n",
      "Accountancy  85.4  77.9  86.5\n",
      "IP           88.2  80.5  90.0\n",
      "Economics    80.3  78.6  77.5\n",
      "English      79.0  76.2  80.5\n",
      "df.T\n",
      "      Accountancy    IP  Economics  English\n",
      "2018         85.4  88.2       80.3     79.0\n",
      "2019         77.9  80.5       78.6     76.2\n",
      "2020         86.5  90.0       77.5     80.5\n"
     ]
    }
   ],
   "source": [
    "# Transpose- T\n",
    "# it makes transpose of the dataframe\n",
    "dict = {'2018':[85.4,88.2,80.3,79.0],'2019':[77.9,80.5,78.6,76.2],'2020':[86.5,90.0,77.5,80.5]}\n",
    "df = pd.DataFrame(dict , index=['Accountancy','IP','Economics','English'])\n",
    "print('df :')\n",
    "print(df)\n",
    "\n",
    "print('df.T')\n",
    "print(df.T)"
   ]
  },
  {
   "cell_type": "markdown",
   "id": "929f7d46",
   "metadata": {},
   "source": [
    "## Selecting, Accessing , Modifying Records from DataFrame\n",
    "This can be done by slicing shalls result in the display of retrived records as per the range defined with the dataframe objects."
   ]
  },
  {
   "cell_type": "code",
   "execution_count": 11,
   "id": "2ff829f4",
   "metadata": {},
   "outputs": [
    {
     "name": "stdout",
     "output_type": "stream",
     "text": [
      "        Name  English  Economics  IP  Accouncts\n",
      "Sno1   Rinku       67         78  98         77\n",
      "Sno2    Ritu       65         59  97         70\n",
      "Sno3    Ajay       98         98  95         80\n",
      "Sno4  Pankaj       45         65  96         57\n"
     ]
    }
   ],
   "source": [
    "# indexed dataframe using lists\n",
    "stu = {'Name':['Rinku','Ritu','Ajay','Pankaj'],\n",
    "       'English':[67,65,98,45],\n",
    "       'Economics':[78,59,98,65],\n",
    "       'IP':[98,97,95,96],\n",
    "       'Accouncts':[77,70,80,57]}\n",
    "df = pd.DataFrame(stu, index = ['Sno1','Sno2','Sno3','Sno4'])\n",
    "\n",
    "print(df)"
   ]
  },
  {
   "cell_type": "code",
   "execution_count": 12,
   "id": "79ebbcdb",
   "metadata": {},
   "outputs": [
    {
     "name": "stdout",
     "output_type": "stream",
     "text": [
      "        English  Economics  IP  Accouncts\n",
      "Name                                     \n",
      "Rinku        67         78  98         77\n",
      "Ritu         65         59  97         70\n",
      "Ajay         98         98  95         80\n",
      "Pankaj       45         65  96         57\n"
     ]
    }
   ],
   "source": [
    "# To change the index columns\n",
    "df.set_index('Name',inplace=True)\n",
    "print(df)"
   ]
  },
  {
   "cell_type": "code",
   "execution_count": 13,
   "id": "8a5a5276",
   "metadata": {},
   "outputs": [
    {
     "name": "stdout",
     "output_type": "stream",
     "text": [
      "     Name  English  Economics  IP  Accouncts\n",
      "0   Rinku       67         78  98         77\n",
      "1    Ritu       65         59  97         70\n",
      "2    Ajay       98         98  95         80\n",
      "3  Pankaj       45         65  96         57\n"
     ]
    }
   ],
   "source": [
    "# To reset the index columns\n",
    "df.reset_index(inplace= True)\n",
    "print(df)"
   ]
  },
  {
   "cell_type": "markdown",
   "id": "127d4c71",
   "metadata": {},
   "source": [
    "## Adding/ Modifying a row in DataFrame\n",
    "We add a row by using DataFrame.loc[ ] method.\n",
    "\n",
    "1. if we try to add a row with lesser values than the number of columns int the dataframe, it results in valueerror, with error message:\n",
    "   1. ValueError : Cannot set a row with mismatched columns\n",
    "2. If ew try to add a column with lesser values than the number of rows in dataframe, it results in ValueError, with the error message:\n",
    "   2. ValueError: Length of values does not match length of index"
   ]
  },
  {
   "cell_type": "code",
   "execution_count": 2,
   "id": "170790ad",
   "metadata": {},
   "outputs": [
    {
     "name": "stdout",
     "output_type": "stream",
     "text": [
      "Before modifying the rows\n",
      "     Name  English  Economics  IP  Accouncts\n",
      "0   Rinku       67         78  98         77\n",
      "1    Ritu       65         59  97         70\n",
      "2    Ajay       98         98  95         80\n",
      "3  Pankaj       45         65  96         57\n",
      "After modifying the DataFrame\n",
      "       Name  English  Economics  IP  Accouncts\n",
      "0     Rinku       67         78  98         77\n",
      "1      Ritu       65         59  97         70\n",
      "2      Ajay       98         98  95         80\n",
      "3    Pankaj       45         65  96         57\n",
      "5  Jaswanth       99         98  97         99\n"
     ]
    }
   ],
   "source": [
    "stu = {'Name':['Rinku','Ritu','Ajay','Pankaj'],\n",
    "       'English':[67,65,98,45],\n",
    "       'Economics':[78,59,98,65],\n",
    "       'IP':[98,97,95,96],\n",
    "       'Accouncts':[77,70,80,57]}\n",
    "df = pd.DataFrame(stu)\n",
    "print('Before modifying the rows')\n",
    "print(df)\n",
    "df.loc['5'] = ['Jaswanth',99,98,97,99]\n",
    "print('After modifying the DataFrame')\n",
    "print(df)"
   ]
  },
  {
   "cell_type": "markdown",
   "id": "aee623aa",
   "metadata": {},
   "source": [
    "## Renaming Column Name in DataFrame\n",
    "syntax: df.rename( columns = d, inplace = True )"
   ]
  },
  {
   "cell_type": "code",
   "execution_count": 21,
   "id": "2a8b8a0d",
   "metadata": {},
   "outputs": [
    {
     "name": "stdout",
     "output_type": "stream",
     "text": [
      "Before modifying the rows\n",
      "     Name  English  Economics  IP  Accouncts\n",
      "0   Rinku       67         78  98         77\n",
      "1    Ritu       65         59  97         70\n",
      "2    Ajay       98         98  95         80\n",
      "3  Pankaj       45         65  96         57\n",
      "After modifying the DataFrame\n",
      "    Names  Eng  Eco  IP  Acc\n",
      "0   Rinku   67   78  98   77\n",
      "1    Ritu   65   59  97   70\n",
      "2    Ajay   98   98  95   80\n",
      "3  Pankaj   45   65  96   57\n"
     ]
    }
   ],
   "source": [
    "stu = {'Name':['Rinku','Ritu','Ajay','Pankaj'],\n",
    "       'English':[67,65,98,45],\n",
    "       'Economics':[78,59,98,65],\n",
    "       'IP':[98,97,95,96],\n",
    "       'Accouncts':[77,70,80,57]}\n",
    "df = pd.DataFrame(stu)\n",
    "print('Before modifying the rows')\n",
    "print(df)\n",
    "df.rename(columns={'Name':'Names','English':'Eng','Economics':'Eco','Accouncts':'Acc'},inplace=True)\n",
    "print('After modifying the DataFrame')\n",
    "print(df)"
   ]
  },
  {
   "cell_type": "markdown",
   "id": "0224fbd5",
   "metadata": {},
   "source": [
    "## Adding Columns to a DataFrame\n",
    "While adding a new column to an already created dataframe, the length of values of new column should match and be equal to length of index column.\n",
    "* syntax : < dfobject>.< new_col_name>[< row label>] = < new values(s) >"
   ]
  },
  {
   "cell_type": "code",
   "execution_count": 23,
   "id": "412d6e0c",
   "metadata": {},
   "outputs": [
    {
     "name": "stdout",
     "output_type": "stream",
     "text": [
      "Before modifying the rows\n",
      "     Name  English  Economics  IP  Accouncts\n",
      "0   Rinku       67         78  98         77\n",
      "1    Ritu       65         59  97         70\n",
      "2    Ajay       98         98  95         80\n",
      "3  Pankaj       45         65  96         57\n",
      "After modifying the DataFrame\n",
      "     Name  English  Economics  IP  Accouncts  Total    Avg\n",
      "0   Rinku       67         78  98         77    320  80.00\n",
      "1    Ritu       65         59  97         70    291  72.75\n",
      "2    Ajay       98         98  95         80    371  92.75\n",
      "3  Pankaj       45         65  96         57    263  65.75\n"
     ]
    }
   ],
   "source": [
    "stu = {'Name':['Rinku','Ritu','Ajay','Pankaj'],\n",
    "       'English':[67,65,98,45],\n",
    "       'Economics':[78,59,98,65],\n",
    "       'IP':[98,97,95,96],\n",
    "       'Accouncts':[77,70,80,57]}\n",
    "df = pd.DataFrame(stu)\n",
    "print('Before modifying the rows')\n",
    "print(df)\n",
    "# adding the col\n",
    "df['Total'] = df['English']+df['Economics']+df['IP']+df['Accouncts'] \n",
    "df['Avg']=df['Total']/4\n",
    "print('After modifying the DataFrame')\n",
    "print(df)"
   ]
  },
  {
   "cell_type": "markdown",
   "id": "bff41dcc",
   "metadata": {},
   "source": [
    "### using insert() method\n",
    "By using insert() function, we can add a new column to the existing dataframe ar any position column index.\n",
    "* syntex: < dfobject>.insert(n,< new_col_name>,[data])\n",
    ", where n: the index of the col where the new column is to be inserted"
   ]
  },
  {
   "cell_type": "code",
   "execution_count": 13,
   "id": "3af3b65a",
   "metadata": {},
   "outputs": [
    {
     "name": "stdout",
     "output_type": "stream",
     "text": [
      "Before modifying the rows\n",
      "     Name  English  Economics  IP  Accouncts\n",
      "0   Rinku       67         78  98         77\n",
      "1    Ritu       65         59  97         70\n",
      "2    Ajay       98         98  95         80\n",
      "3  Pankaj       45         65  96         57\n",
      "After modifying the DataFrame\n",
      "     Name  English  Economics  IP Qualify  Accouncts\n",
      "0   Rinku       67         78  98      NO         77\n",
      "1    Ritu       65         59  97     Yes         70\n",
      "2    Ajay       98         98  95      NO         80\n",
      "3  Pankaj       45         65  96     Yes         57\n"
     ]
    }
   ],
   "source": [
    "stu = {'Name':['Rinku','Ritu','Ajay','Pankaj'],\n",
    "       'English':[67,65,98,45],\n",
    "       'Economics':[78,59,98,65],\n",
    "       'IP':[98,97,95,96],\n",
    "       'Accouncts':[77,70,80,57]}\n",
    "df = pd.DataFrame(stu)\n",
    "print('Before modifying the rows')\n",
    "print(df)\n",
    "df.insert(4,'Qualify',['NO','Yes','NO','Yes'])\n",
    "print('After modifying the DataFrame')\n",
    "print(df)"
   ]
  },
  {
   "cell_type": "markdown",
   "id": "78e8cdbb",
   "metadata": {},
   "source": [
    "## Selecting a column from a dataframe\n",
    "Pandas provides three methods to access a dataframe columns\n",
    "1. df-object['column_name']\n",
    "2. df-boject.col_name\n",
    "3. selecting or Accessing rows/columns from dataframe-using loc[ ] and iloc[ ] method\n",
    "    * loc[ ] : label-based indexing\n",
    "    * iloc[ ] : index-based indexing"
   ]
  },
  {
   "cell_type": "markdown",
   "id": "04e34241",
   "metadata": {},
   "source": [
    "###  By using df-object['Column_name']"
   ]
  },
  {
   "cell_type": "code",
   "execution_count": 3,
   "id": "5f272b5b",
   "metadata": {},
   "outputs": [
    {
     "name": "stdout",
     "output_type": "stream",
     "text": [
      "     Name  English  Economics  IP  Accouncts\n",
      "0   Rinku       67         78  98         77\n",
      "1    Ritu       65         59  97         70\n",
      "2    Ajay       98         98  95         80\n",
      "3  Pankaj       45         65  96         57\n",
      "df[\"IP\"]\n",
      "0    98\n",
      "1    97\n",
      "2    95\n",
      "3    96\n",
      "Name: IP, dtype: int64\n"
     ]
    }
   ],
   "source": [
    "stu = {'Name':['Rinku','Ritu','Ajay','Pankaj'],\n",
    "       'English':[67,65,98,45],\n",
    "       'Economics':[78,59,98,65],\n",
    "       'IP':[98,97,95,96],\n",
    "       'Accouncts':[77,70,80,57]}\n",
    "df = pd.DataFrame(stu)\n",
    "print(df)\n",
    "print('df[\"IP\"]')\n",
    "print(df['IP'])"
   ]
  },
  {
   "cell_type": "markdown",
   "id": "92ff6c87",
   "metadata": {},
   "source": [
    "### By using df-object.Column_name"
   ]
  },
  {
   "cell_type": "code",
   "execution_count": 5,
   "id": "14b51405",
   "metadata": {
    "code_folding": []
   },
   "outputs": [
    {
     "name": "stdout",
     "output_type": "stream",
     "text": [
      "     Name  English  Economics  IP  Accouncts\n",
      "0   Rinku       67         78  98         77\n",
      "1    Ritu       65         59  97         70\n",
      "2    Ajay       98         98  95         80\n",
      "3  Pankaj       45         65  96         57\n",
      "df.\"IP\"\n",
      "0    98\n",
      "1    97\n",
      "2    95\n",
      "3    96\n",
      "Name: IP, dtype: int64\n"
     ]
    }
   ],
   "source": [
    "stu = {'Name':['Rinku','Ritu','Ajay','Pankaj'],\n",
    "       'English':[67,65,98,45],\n",
    "       'Economics':[78,59,98,65],\n",
    "       'IP':[98,97,95,96],\n",
    "       'Accouncts':[77,70,80,57]}\n",
    "df = pd.DataFrame(stu)\n",
    "print(df)\n",
    "print('df.\"IP\"')\n",
    "print(df.IP)"
   ]
  },
  {
   "cell_type": "markdown",
   "id": "2e158bf9",
   "metadata": {},
   "source": [
    "### By using loc[ ]  and iloc[ ]"
   ]
  },
  {
   "cell_type": "code",
   "execution_count": 2,
   "id": "9b0a3808",
   "metadata": {},
   "outputs": [
    {
     "name": "stdout",
     "output_type": "stream",
     "text": [
      "     Name  English  Economics  IP  Accouncts\n",
      "0   Rinku       67         78  98         77\n",
      "1    Ritu       65         59  97         70\n",
      "2    Ajay       98         98  95         80\n",
      "3  Pankaj       45         65  96         57\n",
      "\n",
      "df.iloc[:,[1,2]]\n",
      "   English  Economics\n",
      "0       67         78\n",
      "1       65         59\n",
      "2       98         98\n",
      "3       45         65\n"
     ]
    }
   ],
   "source": [
    "stu = {'Name':['Rinku','Ritu','Ajay','Pankaj'],\n",
    "       'English':[67,65,98,45],\n",
    "       'Economics':[78,59,98,65],\n",
    "       'IP':[98,97,95,96],\n",
    "       'Accouncts':[77,70,80,57]}\n",
    "df = pd.DataFrame(stu)\n",
    "print(df)\n",
    "# df.iloc[row-indexes , column-indexes]\n",
    "print('\\ndf.iloc[:,[1,2]]')\n",
    "print(df.iloc[:,[1,2]])"
   ]
  },
  {
   "cell_type": "code",
   "execution_count": 3,
   "id": "8892c15a",
   "metadata": {},
   "outputs": [
    {
     "name": "stdout",
     "output_type": "stream",
     "text": [
      "     Name  English  Economics  IP  Accouncts\n",
      "0   Rinku       67         78  98         77\n",
      "1    Ritu       65         59  97         70\n",
      "2    Ajay       98         98  95         80\n",
      "3  Pankaj       45         65  96         57\n",
      "\n",
      "df.loc[:,[1,2]]\n",
      "     Name  English  Economics  IP  Accouncts\n",
      "1    Ritu       65         59  97         70\n",
      "2    Ajay       98         98  95         80\n",
      "3  Pankaj       45         65  96         57\n"
     ]
    }
   ],
   "source": [
    "stu = {'Name':['Rinku','Ritu','Ajay','Pankaj'],\n",
    "       'English':[67,65,98,45],\n",
    "       'Economics':[78,59,98,65],\n",
    "       'IP':[98,97,95,96],\n",
    "       'Accouncts':[77,70,80,57]}\n",
    "df = pd.DataFrame(stu)\n",
    "print(df)\n",
    "\n",
    "print('\\ndf.loc[:,[1,2]]')\n",
    "print(df.loc[1:3])"
   ]
  },
  {
   "cell_type": "markdown",
   "id": "53ecaa65",
   "metadata": {},
   "source": [
    "## Deleting a Column from DataFrame\n",
    "This can be done by using\n",
    "1. del keyword : It will simply delete the series from the dataframe\n",
    "2. pop() : will delete the series and also return the series as reslut\n",
    "3. drop(): Syntex- drop(labels, axis=1)"
   ]
  },
  {
   "cell_type": "markdown",
   "id": "b931382d",
   "metadata": {},
   "source": [
    "### del keyword"
   ]
  },
  {
   "cell_type": "code",
   "execution_count": 24,
   "id": "e785cfee",
   "metadata": {},
   "outputs": [
    {
     "name": "stdout",
     "output_type": "stream",
     "text": [
      "Before\n",
      "     Name  English  Economics  IP  Accouncts\n",
      "0   Rinku       67         78  98         77\n",
      "1    Ritu       65         59  97         70\n",
      "2    Ajay       98         98  95         80\n",
      "3  Pankaj       45         65  96         57\n",
      "After using del df[\"IP\"]\n",
      "     Name  English  Economics  Accouncts\n",
      "0   Rinku       67         78         77\n",
      "1    Ritu       65         59         70\n",
      "2    Ajay       98         98         80\n",
      "3  Pankaj       45         65         57\n"
     ]
    }
   ],
   "source": [
    "stu = {'Name':['Rinku','Ritu','Ajay','Pankaj'],\n",
    "       'English':[67,65,98,45],\n",
    "       'Economics':[78,59,98,65],\n",
    "       'IP':[98,97,95,96],\n",
    "       'Accouncts':[77,70,80,57]}\n",
    "df = pd.DataFrame(stu)\n",
    "print('Before')\n",
    "print(df)\n",
    "del df['IP']\n",
    "print('After using del df[\"IP\"]')\n",
    "print(df)"
   ]
  },
  {
   "cell_type": "markdown",
   "id": "0be0bc3d",
   "metadata": {},
   "source": [
    "###  pop() method"
   ]
  },
  {
   "cell_type": "code",
   "execution_count": 29,
   "id": "84f3c00b",
   "metadata": {},
   "outputs": [
    {
     "name": "stdout",
     "output_type": "stream",
     "text": [
      "Before\n",
      "     Name  English  Economics  IP  Accouncts\n",
      "0   Rinku       67         78  98         77\n",
      "1    Ritu       65         59  97         70\n",
      "2    Ajay       98         98  95         80\n",
      "3  Pankaj       45         65  96         57\n",
      "\n",
      "Using df.pop(\"IP\")\n",
      "0    98\n",
      "1    97\n",
      "2    95\n",
      "3    96\n",
      "Name: IP, dtype: int64\n",
      "\n",
      "After using del df[\"IP\"]\n",
      "     Name  English  Economics  Accouncts\n",
      "0   Rinku       67         78         77\n",
      "1    Ritu       65         59         70\n",
      "2    Ajay       98         98         80\n",
      "3  Pankaj       45         65         57\n"
     ]
    }
   ],
   "source": [
    "stu = {'Name':['Rinku','Ritu','Ajay','Pankaj'],\n",
    "       'English':[67,65,98,45],\n",
    "       'Economics':[78,59,98,65],\n",
    "       'IP':[98,97,95,96],\n",
    "       'Accouncts':[77,70,80,57]}\n",
    "df = pd.DataFrame(stu)\n",
    "print('Before')\n",
    "print(df)\n",
    "print('\\nUsing df.pop(\"IP\")')\n",
    "print(df.pop('IP'))\n",
    "print('\\nAfter using del df[\"IP\"]')\n",
    "print(df)"
   ]
  },
  {
   "cell_type": "markdown",
   "id": "e35683f2",
   "metadata": {},
   "source": [
    "### drop( )"
   ]
  },
  {
   "cell_type": "code",
   "execution_count": 2,
   "id": "2525425a",
   "metadata": {},
   "outputs": [
    {
     "name": "stdout",
     "output_type": "stream",
     "text": [
      "Before\n",
      "     Name  English  Economics  IP  Accouncts\n",
      "0   Rinku       67         78  98         77\n",
      "1    Ritu       65         59  97         70\n",
      "2    Ajay       98         98  95         80\n",
      "3  Pankaj       45         65  96         57\n",
      "\n",
      "After using df.drop(\"IP\",axis=1)\n",
      "     Name  English  Economics  IP  Accouncts\n",
      "0   Rinku       67         78  98         77\n",
      "1    Ritu       65         59  97         70\n",
      "2    Ajay       98         98  95         80\n",
      "3  Pankaj       45         65  96         57\n"
     ]
    }
   ],
   "source": [
    "stu = {'Name':['Rinku','Ritu','Ajay','Pankaj'],\n",
    "       'English':[67,65,98,45],\n",
    "       'Economics':[78,59,98,65],\n",
    "       'IP':[98,97,95,96],\n",
    "       'Accouncts':[77,70,80,57]}\n",
    "df = pd.DataFrame(stu)\n",
    "print('Before')\n",
    "print(df)\n",
    "df.drop('IP', axis=1)\n",
    "print('\\nAfter using df.drop(\"IP\",axis=1)')\n",
    "print(df)"
   ]
  },
  {
   "cell_type": "markdown",
   "id": "eec967df",
   "metadata": {},
   "source": [
    "##  Iterations in DataFrame - Iterrows\n",
    "Accessing and Retrieving each record one by one in a dataframe. \n",
    "1. < DFOject>.iterrows() - It represents dataframe row-wise, record by record.\n",
    "2. < DFOject>.iteritems() - It represents dataframe column-wise."
   ]
  },
  {
   "cell_type": "markdown",
   "id": "cf01d0db",
   "metadata": {},
   "source": [
    "###   iterrows()"
   ]
  },
  {
   "cell_type": "code",
   "execution_count": 4,
   "id": "0cf888b0",
   "metadata": {},
   "outputs": [
    {
     "name": "stdout",
     "output_type": "stream",
     "text": [
      "Before\n",
      "     Name  English  Economics  IP  Accouncts\n",
      "0   Rinku       67         78  98         77\n",
      "1    Ritu       65         59  97         70\n",
      "2    Ajay       98         98  95         80\n",
      "3  Pankaj       45         65  96         57\n",
      "RowIndex : 0\n",
      "Containing :\n",
      "Name         Rinku\n",
      "English         67\n",
      "Economics       78\n",
      "IP              98\n",
      "Accouncts       77\n",
      "Name: 0, dtype: object\n",
      "RowIndex : 1\n",
      "Containing :\n",
      "Name         Ritu\n",
      "English        65\n",
      "Economics      59\n",
      "IP             97\n",
      "Accouncts      70\n",
      "Name: 1, dtype: object\n",
      "RowIndex : 2\n",
      "Containing :\n",
      "Name         Ajay\n",
      "English        98\n",
      "Economics      98\n",
      "IP             95\n",
      "Accouncts      80\n",
      "Name: 2, dtype: object\n",
      "RowIndex : 3\n",
      "Containing :\n",
      "Name         Pankaj\n",
      "English          45\n",
      "Economics        65\n",
      "IP               96\n",
      "Accouncts        57\n",
      "Name: 3, dtype: object\n"
     ]
    }
   ],
   "source": [
    "stu = {'Name':['Rinku','Ritu','Ajay','Pankaj'],\n",
    "       'English':[67,65,98,45],\n",
    "       'Economics':[78,59,98,65],\n",
    "       'IP':[98,97,95,96],\n",
    "       'Accouncts':[77,70,80,57]}\n",
    "df = pd.DataFrame(stu)\n",
    "print('Before')\n",
    "print(df)\n",
    "\n",
    "for (row,rowSeries) in df.iterrows():\n",
    "    print(\"RowIndex :\",row)\n",
    "    print(\"Containing :\")\n",
    "    print(rowSeries)"
   ]
  },
  {
   "cell_type": "markdown",
   "id": "5c7e378e",
   "metadata": {},
   "source": [
    "### iteritems( )"
   ]
  },
  {
   "cell_type": "code",
   "execution_count": 4,
   "id": "804c1d87",
   "metadata": {},
   "outputs": [
    {
     "name": "stdout",
     "output_type": "stream",
     "text": [
      "Before\n",
      "     Name  English  Economics  IP  Accouncts\n",
      "0   Rinku       67         78  98         77\n",
      "1    Ritu       65         59  97         70\n",
      "2    Ajay       98         98  95         80\n",
      "3  Pankaj       45         65  96         57\n",
      "ColIndex : Name\n",
      "Containing :\n",
      "0     Rinku\n",
      "1      Ritu\n",
      "2      Ajay\n",
      "3    Pankaj\n",
      "Name: Name, dtype: object\n",
      "ColIndex : English\n",
      "Containing :\n",
      "0    67\n",
      "1    65\n",
      "2    98\n",
      "3    45\n",
      "Name: English, dtype: int64\n",
      "ColIndex : Economics\n",
      "Containing :\n",
      "0    78\n",
      "1    59\n",
      "2    98\n",
      "3    65\n",
      "Name: Economics, dtype: int64\n",
      "ColIndex : IP\n",
      "Containing :\n",
      "0    98\n",
      "1    97\n",
      "2    95\n",
      "3    96\n",
      "Name: IP, dtype: int64\n",
      "ColIndex : Accouncts\n",
      "Containing :\n",
      "0    77\n",
      "1    70\n",
      "2    80\n",
      "3    57\n",
      "Name: Accouncts, dtype: int64\n"
     ]
    }
   ],
   "source": [
    "stu = {'Name':['Rinku','Ritu','Ajay','Pankaj'],\n",
    "       'English':[67,65,98,45],\n",
    "       'Economics':[78,59,98,65],\n",
    "       'IP':[98,97,95,96],\n",
    "       'Accouncts':[77,70,80,57]}\n",
    "df = pd.DataFrame(stu)\n",
    "print('Before')\n",
    "print(df)\n",
    "\n",
    "# displaying column-wise data\n",
    "for (col,colSeries) in df.iteritems():\n",
    "    print(\"ColIndex :\",col)\n",
    "    print(\"Containing :\")\n",
    "    print(colSeries)"
   ]
  },
  {
   "cell_type": "markdown",
   "id": "3ba042a3",
   "metadata": {},
   "source": [
    "## 2.12) Binary Operations\n",
    "The methods are like add(), sub(), mul(), div(), and related function radd(), rsub() for carrying out binary operations on dataframe."
   ]
  },
  {
   "cell_type": "code",
   "execution_count": 8,
   "id": "d5f17b3e",
   "metadata": {},
   "outputs": [
    {
     "name": "stdout",
     "output_type": "stream",
     "text": [
      "ds1 :\n",
      "   Unit test 1  Unit test 2\n",
      "0            5            7\n",
      "1            6            8\n",
      "2            8            9\n",
      "3            3            6\n",
      "4           10           15\n",
      "ds2 :\n",
      "   Unit test 1  Unit test 2\n",
      "0            3            5\n",
      "1            3            9\n",
      "2            6            8\n",
      "3            5           10\n",
      "4            8            5\n",
      "Subtraction : ds1.sub(ds2)\n",
      "   Unit test 1  Unit test 2\n",
      "0            2            2\n",
      "1            3           -1\n",
      "2            2            1\n",
      "3           -2           -4\n",
      "4            2           10\n",
      " ds1.rsub(ds2)\n",
      "   Unit test 1  Unit test 2\n",
      "0           -2           -2\n",
      "1           -3            1\n",
      "2           -2           -1\n",
      "3            2            4\n",
      "4           -2          -10\n",
      "Addition : ds1.add(ds2)\n",
      "   Unit test 1  Unit test 2\n",
      "0            8           12\n",
      "1            9           17\n",
      "2           14           17\n",
      "3            8           16\n",
      "4           18           20\n",
      " ds1.radd(ds2)\n",
      "   Unit test 1  Unit test 2\n",
      "0            8           12\n",
      "1            9           17\n",
      "2           14           17\n",
      "3            8           16\n",
      "4           18           20\n",
      "Multiplication : ds1.mul(ds2)\n",
      "   Unit test 1  Unit test 2\n",
      "0           15           35\n",
      "1           18           72\n",
      "2           48           72\n",
      "3           15           60\n",
      "4           80           75\n",
      " Division: ds1.div(ds2)\n",
      "   Unit test 1  Unit test 2\n",
      "0     1.666667     1.400000\n",
      "1     2.000000     0.888889\n",
      "2     1.333333     1.125000\n",
      "3     0.600000     0.600000\n",
      "4     1.250000     3.000000\n"
     ]
    }
   ],
   "source": [
    "# Binary operations on Dataframes\n",
    "std1 = {\"Unit test 1\":[5,6,8,3,10],\"Unit test 2\":[7,8,9,6,15]}\n",
    "std2 = {\"Unit test 1\":[3,3,6,5,8],\"Unit test 2\":[5,9,8,10,5]}\n",
    "ds1 = pd.DataFrame(std1)\n",
    "ds2 = pd.DataFrame(std2)\n",
    "print(\"ds1 :\")\n",
    "print(ds1)\n",
    "print(\"ds2 :\")\n",
    "print(ds2)\n",
    "print(\"Subtraction : ds1.sub(ds2)\")\n",
    "print(ds1.sub(ds2))\n",
    "print(\" ds1.rsub(ds2)\")\n",
    "print(ds1.rsub(ds2))\n",
    "print(\"Addition : ds1.add(ds2)\")\n",
    "print(ds1.add(ds2))\n",
    "print(\" ds1.radd(ds2)\")\n",
    "print(ds1.radd(ds2))\n",
    "print(\"Multiplication : ds1.mul(ds2)\")\n",
    "print(ds1.mul(ds2))\n",
    "print(\" Division: ds1.div(ds2)\")\n",
    "print(ds1.div(ds2))"
   ]
  },
  {
   "cell_type": "markdown",
   "id": "c81c55c8",
   "metadata": {},
   "source": [
    "## 2.13)  Missing Data and Filling Values\n",
    "The values with no computational significance are called missing values. It represented ad NaN i.e Not a Number. This missing values can be filled by using fillna( ) method."
   ]
  },
  {
   "cell_type": "code",
   "execution_count": 18,
   "id": "dc451b77",
   "metadata": {},
   "outputs": [
    {
     "name": "stdout",
     "output_type": "stream",
     "text": [
      "Before\n",
      "     Name  English  Economics  IP  Accouncts\n",
      "0   Rinku     67.0       78.0  98        NaN\n",
      "1    Ritu     65.0        NaN  97       70.0\n",
      "2    Ajay     98.0       98.0  95       80.0\n",
      "3  Pankaj      NaN       65.0  96       57.0\n",
      "After using fillna(0)\n",
      "     Name  English  Economics  IP  Accouncts\n",
      "0   Rinku     67.0       78.0  98        0.0\n",
      "1    Ritu     65.0        0.0  97       70.0\n",
      "2    Ajay     98.0       98.0  95       80.0\n",
      "3  Pankaj      0.0       65.0  96       57.0\n",
      "df.fillna({0:14, 1:5, 2:8}) \n",
      "     Name  English  Economics  IP  Accouncts\n",
      "0   Rinku     67.0       78.0  98        NaN\n",
      "1    Ritu     65.0        8.0  97       70.0\n",
      "2    Ajay     98.0       98.0  95       80.0\n",
      "3  Pankaj     14.0       65.0  96       57.0\n"
     ]
    }
   ],
   "source": [
    "stu = {'Name':['Rinku','Ritu','Ajay','Pankaj'],\n",
    "       'English':[67,65,98,np.NaN],\n",
    "       'Economics':[78,np.NaN,98,65],\n",
    "       'IP':[98,97,95,96],\n",
    "       'Accouncts':[np.NaN,70,80,57]}\n",
    "df = pd.DataFrame(stu)\n",
    "print('Before')\n",
    "print(df)\n",
    "\n",
    "print('After using fillna(0)')\n",
    "print(df.fillna(0))\n",
    "\n",
    "# Replacing constants values with Column-wise\n",
    "print(\"df.fillna({0:14, 1:5, 2:8}) \")\n",
    "print(df.fillna({'English':14, 'IP':5, 'Economics':8}))"
   ]
  },
  {
   "cell_type": "markdown",
   "id": "067c1382",
   "metadata": {},
   "source": [
    "## 2.14) Combining DataFrame\n",
    "Pandas provides the capability to combine or concatenate two or more dataframes on the basis of rows(row-wise) or columns(colun-wise) using concate() method."
   ]
  },
  {
   "cell_type": "markdown",
   "id": "93915e8f",
   "metadata": {},
   "source": [
    "### 2.14.1) Concatenation in DataFrame\n",
    "syn: pd.concat(objs, axis=0, join='outer', join_axes=None, ignore_index=False)\n",
    "* objs - This is a sequence or mapping of Series, Dataframe, or panel objects.\n",
    "* axis - {0,1,2,...}, default 0\n",
    "* join - {'inner','outer'}, default 'outer'\n",
    "* join_axes - This is the list of index objects.Specific indexes to use for the other (n-1) axes instead of performing inner/outer set logic\n",
    "* ignore_index - boolean, default False. If True, do not use the index values on the concatenation axis.The resulting axis will be labelled 0,...,n-1"
   ]
  },
  {
   "cell_type": "code",
   "execution_count": 2,
   "id": "95f621d8",
   "metadata": {},
   "outputs": [
    {
     "name": "stdout",
     "output_type": "stream",
     "text": [
      "df1 :\n",
      "   rollno   Name\n",
      "0      10  Rinku\n",
      "1      11  Ankit\n",
      "2      12    Ram\n",
      "3      13    Joe\n",
      "4      14   Hari\n",
      "5      15   Teja\n",
      "df2 :\n",
      "   rollno    Name\n",
      "0       1     Raj\n",
      "1       2   shiva\n",
      "2       3   Pavan\n",
      "3       4  Pranay\n",
      "4       5    Yash\n",
      "5       6   kumar\n",
      "pd.concat([df1,df2],axis=0) :\n",
      "   rollno    Name\n",
      "0      10   Rinku\n",
      "1      11   Ankit\n",
      "2      12     Ram\n",
      "3      13     Joe\n",
      "4      14    Hari\n",
      "5      15    Teja\n",
      "0       1     Raj\n",
      "1       2   shiva\n",
      "2       3   Pavan\n",
      "3       4  Pranay\n",
      "4       5    Yash\n",
      "5       6   kumar\n",
      "pd.concat([df1,df2],axis=1) :\n",
      "   rollno   Name  rollno    Name\n",
      "0      10  Rinku       1     Raj\n",
      "1      11  Ankit       2   shiva\n",
      "2      12    Ram       3   Pavan\n",
      "3      13    Joe       4  Pranay\n",
      "4      14   Hari       5    Yash\n",
      "5      15   Teja       6   kumar\n"
     ]
    }
   ],
   "source": [
    "d1 = {\"rollno\":[10,11,12,13,14,15],\"Name\":['Rinku','Ankit','Ram','Joe','Hari','Teja']}\n",
    "df1 = pd.DataFrame(d1)\n",
    "d2 = {\"rollno\":[1,2,3,4,5,6],\"Name\":['Raj','shiva','Pavan','Pranay','Yash','kumar']}\n",
    "df2 = pd.DataFrame(d2)\n",
    "\n",
    "print('df1 :')\n",
    "print(df1)\n",
    "print('df2 :')\n",
    "print(df2)\n",
    "# axis = 0 concat along rows\n",
    "print('pd.concat([df1,df2],axis=0) :')\n",
    "print(pd.concat([df1,df2],axis=0))\n",
    "# axis = 1 concat along columns\n",
    "print('pd.concat([df1,df2],axis=1) :')\n",
    "print(pd.concat([df1,df2],axis=1))"
   ]
  },
  {
   "cell_type": "markdown",
   "id": "7db1b1fd",
   "metadata": {},
   "source": [
    "### 2.14.2) Merge operation\n",
    "Pandas provide a single function, merge( ), as the empty point for all standard database join operations between dataframe objects."
   ]
  },
  {
   "cell_type": "code",
   "execution_count": 4,
   "id": "c3be139b",
   "metadata": {},
   "outputs": [
    {
     "name": "stdout",
     "output_type": "stream",
     "text": [
      "df1: \n",
      "    roll_no    name\n",
      "0       10   Ankit\n",
      "1       11    Pihu\n",
      "2       12   Rinku\n",
      "3       13    Yash\n",
      "4       14   Vujay\n",
      "5       15  Nikhil\n",
      "df2: \n",
      "    roll_no     name\n",
      "0       20  Shaurya\n",
      "1       21    Pinky\n",
      "2       22  Anubhav\n",
      "3       23   Khushi\n",
      "4       24    Vinay\n",
      "5       25    Neetu\n",
      "df12: \n",
      "    roll_no     name\n",
      "0       10    Ankit\n",
      "1       11     Pihu\n",
      "2       12    Rinku\n",
      "3       13     Yash\n",
      "4       14    Vujay\n",
      "5       15   Nikhil\n",
      "0       20  Shaurya\n",
      "1       21    Pinky\n",
      "2       22  Anubhav\n",
      "3       23   Khushi\n",
      "4       24    Vinay\n",
      "5       25    Neetu\n",
      "df3: \n",
      "    roll_no    name\n",
      "0       10    Jeet\n",
      "1       21  Ashima\n",
      "2       25  Shivin\n",
      "3       23   Kiran\n",
      "4       20  Tanmay\n",
      "5       13   Rajat\n",
      "df34: \n",
      "    roll_no   name_x  name_y\n",
      "0       10    Ankit    Jeet\n",
      "1       13     Yash   Rajat\n",
      "2       20  Shaurya  Tanmay\n",
      "3       21    Pinky  Ashima\n",
      "4       23   Khushi   Kiran\n",
      "5       25    Neetu  Shivin\n"
     ]
    }
   ],
   "source": [
    "d1 = {'roll_no':[10,11,12,13,14,15],'name':['Ankit','Pihu','Rinku','Yash','Vujay','Nikhil']}\n",
    "d2 = {'roll_no':[20,21,22,23,24,25],'name':['Shaurya','Pinky','Anubhav','Khushi','Vinay','Neetu']}\n",
    "d3 = {'roll_no':[10,21,25,23,20,13],'name':['Jeet','Ashima','Shivin','Kiran','Tanmay','Rajat']}\n",
    "df1 = pd.DataFrame(d1)\n",
    "df2 = pd.DataFrame(d2)\n",
    "df12 = pd.concat([df1,df2])\n",
    "df3 = pd.DataFrame(d3)\n",
    "df34 = pd.merge(df12,df3, on='roll_no')\n",
    "print(\"df1: \\n\",df1)\n",
    "print(\"df2: \\n\",df2)\n",
    "print(\"df12: \\n\",df12)\n",
    "print(\"df3: \\n\",df3)\n",
    "print(\"df34: \\n\",df34)"
   ]
  },
  {
   "cell_type": "markdown",
   "id": "e60f6e91",
   "metadata": {},
   "source": [
    "## 2.15) Converting DataFrame into array"
   ]
  },
  {
   "cell_type": "code",
   "execution_count": 11,
   "id": "12dbcaf4",
   "metadata": {},
   "outputs": [
    {
     "name": "stdout",
     "output_type": "stream",
     "text": [
      "[[67. 78. 98. nan]\n",
      " [65. nan 97. 70.]\n",
      " [98. 98. 95. 80.]\n",
      " [nan 65. 96. 57.]]\n",
      "\n",
      " (4, 4)\n"
     ]
    }
   ],
   "source": [
    "stu = {'Name':['Rinku','Ritu','Ajay','Pankaj'],\n",
    "       'English':[67,65,98,np.NaN],\n",
    "       'Economics':[78,np.NaN,98,65],\n",
    "       'IP':[98,97,95,96],\n",
    "       'Accouncts':[np.NaN,70,80,57]}\n",
    "df = pd.DataFrame(stu)\n",
    "# convert dataframe into array values\n",
    "print(df.iloc[:,1:].values)\n",
    "print('\\n',df.iloc[:,1:].values.shape)"
   ]
  },
  {
   "cell_type": "markdown",
   "id": "911bd705",
   "metadata": {
    "heading_collapsed": true
   },
   "source": [
    "# 3) CSV files and DataFrame\n",
    "CSV: comma separated values, is a simple file format used to store tabular data such as a spreadsheet or database. A CSV file sotres tabular data(number and text) in plain text.\n",
    "\n",
    "In CSV format:\n",
    "* Each row of the table is stored in one row\n",
    "* The field-values of a row are stored together with comma after every field value."
   ]
  },
  {
   "cell_type": "markdown",
   "id": "98b833fe",
   "metadata": {
    "hidden": true
   },
   "source": [
    "## 3.1) Advantages of CSV format:\n",
    "* A simple, compact and ubiquitous format for data storage.\n",
    "* A common format for data interchange.\n",
    "* It can be opened in popular spreadsheet package like MS excel, open office-Calc, etc.\n",
    "* Nearly all spreadsheets and databases support import/export to CSV format."
   ]
  },
  {
   "cell_type": "markdown",
   "id": "ef613b55",
   "metadata": {
    "hidden": true
   },
   "source": [
    "## 3.2) Reading from CSV file to DataFrame\n",
    "By using read_csv() function in pandas can help in load the data in a pandas DataFrame\n",
    "* Note: CSV  treats all the data types as characters only. But Pandas interprets these data types specifically when loading the data.\n",
    "\n",
    "Syntax: < df>=pd.read_csv(< filePath>)"
   ]
  },
  {
   "cell_type": "code",
   "execution_count": 17,
   "id": "826ebe10",
   "metadata": {
    "hidden": true,
    "scrolled": true
   },
   "outputs": [
    {
     "name": "stdout",
     "output_type": "stream",
     "text": [
      "   Empid     Name   Age       City   Salary\n",
      "0  100.0   Ritesh  25.0     Mumbai  15000.0\n",
      "1  101.0   Aakash  26.0        Goa  16000.0\n",
      "2    NaN      NaN   NaN        NaN      NaN\n",
      "3  102.0   Mahima  27.0  Hyderabad  20000.0\n",
      "4  103.0  Lakshay  25.0      Delhi  18000.0\n",
      "5  104.0     Manu  23.0     Mumbai  25000.0\n",
      "6  105.0    Nidhi  26.0      Delhi      NaN\n",
      "7  106.0    Geetu  30.0  Bangalore  28000.0\n",
      "\n",
      "df.shape (8, 5)\n"
     ]
    }
   ],
   "source": [
    "# select the proper path of your file\n",
    "df = pd.read_csv(\"./Employee.csv\")\n",
    "print(df)\n",
    "print(\"\\ndf.shape\",df.shape)"
   ]
  },
  {
   "cell_type": "code",
   "execution_count": 18,
   "id": "200a0398",
   "metadata": {
    "hidden": true
   },
   "outputs": [
    {
     "data": {
      "text/html": [
       "<div>\n",
       "<style scoped>\n",
       "    .dataframe tbody tr th:only-of-type {\n",
       "        vertical-align: middle;\n",
       "    }\n",
       "\n",
       "    .dataframe tbody tr th {\n",
       "        vertical-align: top;\n",
       "    }\n",
       "\n",
       "    .dataframe thead th {\n",
       "        text-align: right;\n",
       "    }\n",
       "</style>\n",
       "<table border=\"1\" class=\"dataframe\">\n",
       "  <thead>\n",
       "    <tr style=\"text-align: right;\">\n",
       "      <th></th>\n",
       "      <th>Empid</th>\n",
       "      <th>Age</th>\n",
       "      <th>Salary</th>\n",
       "    </tr>\n",
       "  </thead>\n",
       "  <tbody>\n",
       "    <tr>\n",
       "      <th>count</th>\n",
       "      <td>7.000000</td>\n",
       "      <td>7.000000</td>\n",
       "      <td>6.000000</td>\n",
       "    </tr>\n",
       "    <tr>\n",
       "      <th>mean</th>\n",
       "      <td>103.000000</td>\n",
       "      <td>26.000000</td>\n",
       "      <td>20333.333333</td>\n",
       "    </tr>\n",
       "    <tr>\n",
       "      <th>std</th>\n",
       "      <td>2.160247</td>\n",
       "      <td>2.160247</td>\n",
       "      <td>5163.977795</td>\n",
       "    </tr>\n",
       "    <tr>\n",
       "      <th>min</th>\n",
       "      <td>100.000000</td>\n",
       "      <td>23.000000</td>\n",
       "      <td>15000.000000</td>\n",
       "    </tr>\n",
       "    <tr>\n",
       "      <th>25%</th>\n",
       "      <td>101.500000</td>\n",
       "      <td>25.000000</td>\n",
       "      <td>16500.000000</td>\n",
       "    </tr>\n",
       "    <tr>\n",
       "      <th>50%</th>\n",
       "      <td>103.000000</td>\n",
       "      <td>26.000000</td>\n",
       "      <td>19000.000000</td>\n",
       "    </tr>\n",
       "    <tr>\n",
       "      <th>75%</th>\n",
       "      <td>104.500000</td>\n",
       "      <td>26.500000</td>\n",
       "      <td>23750.000000</td>\n",
       "    </tr>\n",
       "    <tr>\n",
       "      <th>max</th>\n",
       "      <td>106.000000</td>\n",
       "      <td>30.000000</td>\n",
       "      <td>28000.000000</td>\n",
       "    </tr>\n",
       "  </tbody>\n",
       "</table>\n",
       "</div>"
      ],
      "text/plain": [
       "            Empid        Age        Salary\n",
       "count    7.000000   7.000000      6.000000\n",
       "mean   103.000000  26.000000  20333.333333\n",
       "std      2.160247   2.160247   5163.977795\n",
       "min    100.000000  23.000000  15000.000000\n",
       "25%    101.500000  25.000000  16500.000000\n",
       "50%    103.000000  26.000000  19000.000000\n",
       "75%    104.500000  26.500000  23750.000000\n",
       "max    106.000000  30.000000  28000.000000"
      ]
     },
     "execution_count": 18,
     "metadata": {},
     "output_type": "execute_result"
    }
   ],
   "source": [
    "# shows a describing of the csv file\n",
    "df.describe()"
   ]
  },
  {
   "cell_type": "markdown",
   "id": "bef1e712",
   "metadata": {
    "hidden": true
   },
   "source": [
    "### 3.2.1) Reading CSV file with specific/selected columns\n",
    "Syn: df = pd.read_csv(\"FilePath\" , usecols=[col names])"
   ]
  },
  {
   "cell_type": "code",
   "execution_count": 4,
   "id": "a3ec8eb7",
   "metadata": {
    "hidden": true
   },
   "outputs": [
    {
     "name": "stdout",
     "output_type": "stream",
     "text": [
      "   Empid   Age\n",
      "0  100.0  25.0\n",
      "1  101.0  26.0\n",
      "2    NaN   NaN\n",
      "3  102.0  27.0\n",
      "4  103.0  25.0\n",
      "5  104.0  23.0\n",
      "6  105.0  26.0\n",
      "7  106.0  30.0\n"
     ]
    }
   ],
   "source": [
    "df = pd.read_csv(\"./Employee.csv\", usecols=['Age','Empid'])\n",
    "print(df)"
   ]
  },
  {
   "cell_type": "markdown",
   "id": "a9d33a72",
   "metadata": {
    "hidden": true
   },
   "source": [
    "### 3.2.2) Reading CSV file with specific/selected rows\n",
    "Syn: df=read_csv('FilePath', nrows= < num >)"
   ]
  },
  {
   "cell_type": "code",
   "execution_count": 6,
   "id": "83b93a07",
   "metadata": {
    "hidden": true
   },
   "outputs": [
    {
     "name": "stdout",
     "output_type": "stream",
     "text": [
      "   Empid    Name   Age    City   Salary\n",
      "0  100.0  Ritesh  25.0  Mumbai  15000.0\n",
      "1  101.0  Aakash  26.0     Goa  16000.0\n",
      "2    NaN     NaN   NaN     NaN      NaN\n"
     ]
    }
   ],
   "source": [
    "df = pd.read_csv(\"./Employee.csv\", nrows=3)\n",
    "print(df)"
   ]
  },
  {
   "cell_type": "markdown",
   "id": "16e96d68",
   "metadata": {
    "hidden": true
   },
   "source": [
    "### 3.2.3) Reading CSV file without header\n",
    "If we don't want any headers then we can remove that by using \"header=None\" or skiprows=1 in read_csv() function"
   ]
  },
  {
   "cell_type": "code",
   "execution_count": 7,
   "id": "3ca3d6d7",
   "metadata": {
    "hidden": true
   },
   "outputs": [
    {
     "name": "stdout",
     "output_type": "stream",
     "text": [
      "       0        1    2          3       4\n",
      "0  Empid     Name  Age       City  Salary\n",
      "1    100   Ritesh   25     Mumbai   15000\n",
      "2    101   Aakash   26        Goa   16000\n",
      "3    NaN      NaN  NaN        NaN     NaN\n",
      "4    102   Mahima   27  Hyderabad   20000\n",
      "5    103  Lakshay   25      Delhi   18000\n",
      "6    104     Manu   23     Mumbai   25000\n",
      "7    105    Nidhi   26      Delhi     NaN\n",
      "8    106    Geetu   30  Bangalore   28000\n"
     ]
    }
   ],
   "source": [
    "df = pd.read_csv(\"./Employee.csv\", header = None)\n",
    "print(df)"
   ]
  },
  {
   "cell_type": "markdown",
   "id": "ffc16b1c",
   "metadata": {
    "hidden": true
   },
   "source": [
    "### 3.2.4) Reading CSV file without index\n",
    "This can be done by specifying the attribute \"index_col=0\" in read_csv() function"
   ]
  },
  {
   "cell_type": "code",
   "execution_count": 55,
   "id": "f27f68ff",
   "metadata": {
    "hidden": true
   },
   "outputs": [
    {
     "name": "stdout",
     "output_type": "stream",
     "text": [
      "          Name   Age       City   Salary\n",
      "Empid                                   \n",
      "100.0   Ritesh  25.0     Mumbai  15000.0\n",
      "101.0   Aakash  26.0        Goa  16000.0\n",
      "NaN        NaN   NaN        NaN      NaN\n",
      "102.0   Mahima  27.0  Hyderabad  20000.0\n",
      "103.0  Lakshay  25.0      Delhi  18000.0\n",
      "104.0     Manu  23.0     Mumbai  25000.0\n",
      "105.0    Nidhi  26.0      Delhi      NaN\n",
      "106.0    Geetu  30.0  Bangalore  28000.0\n"
     ]
    }
   ],
   "source": [
    "# making 1st col as row-index\n",
    "df = pd.read_csv(\"./Employee.csv\", index_col=0)\n",
    "print(df)"
   ]
  },
  {
   "cell_type": "markdown",
   "id": "6d140ec2",
   "metadata": {
    "hidden": true
   },
   "source": [
    "### 3.2.5) Reading CSV file with new column names\n",
    "If hearder exists, you have to skip it using \"skiprows=1\" along with \"names\" option for renaming the cols."
   ]
  },
  {
   "cell_type": "code",
   "execution_count": 9,
   "id": "ceb4b125",
   "metadata": {
    "hidden": true
   },
   "outputs": [
    {
     "name": "stdout",
     "output_type": "stream",
     "text": [
      "    E-id   E_Name  E_age     E_City  E_Salary\n",
      "0  100.0   Ritesh   25.0     Mumbai   15000.0\n",
      "1  101.0   Aakash   26.0        Goa   16000.0\n",
      "2    NaN      NaN    NaN        NaN       NaN\n",
      "3  102.0   Mahima   27.0  Hyderabad   20000.0\n",
      "4  103.0  Lakshay   25.0      Delhi   18000.0\n",
      "5  104.0     Manu   23.0     Mumbai   25000.0\n",
      "6  105.0    Nidhi   26.0      Delhi       NaN\n",
      "7  106.0    Geetu   30.0  Bangalore   28000.0\n"
     ]
    }
   ],
   "source": [
    "df = pd.read_csv(\"./Employee.csv\", skiprows=1, \n",
    "                 names=['E-id','E_Name','E_age','E_City','E_Salary'])\n",
    "print(df)"
   ]
  },
  {
   "cell_type": "markdown",
   "id": "90423cff",
   "metadata": {
    "hidden": true
   },
   "source": [
    "### 3.2.6) Get the unique category counts"
   ]
  },
  {
   "cell_type": "code",
   "execution_count": 24,
   "id": "603f8b36",
   "metadata": {
    "hidden": true
   },
   "outputs": [
    {
     "name": "stdout",
     "output_type": "stream",
     "text": [
      "   Empid     Name   Age       City   Salary\n",
      "0  100.0   Ritesh  25.0     Mumbai  15000.0\n",
      "1  101.0   Aakash  26.0        Goa  16000.0\n",
      "2    NaN      NaN   NaN        NaN      NaN\n",
      "3  102.0   Mahima  27.0  Hyderabad  20000.0\n",
      "4  103.0  Lakshay  25.0      Delhi  18000.0\n",
      "5  104.0     Manu  23.0     Mumbai  25000.0\n",
      "6  105.0    Nidhi  26.0      Delhi      NaN\n",
      "7  106.0    Geetu  30.0  Bangalore  28000.0\n",
      "\n",
      " df['Age'].value_counts() : \n",
      " 25.0    2\n",
      "26.0    2\n",
      "27.0    1\n",
      "23.0    1\n",
      "30.0    1\n",
      "Name: Age, dtype: int64\n"
     ]
    }
   ],
   "source": [
    "df = pd.read_csv(\"./Employee.csv\")\n",
    "print(df)\n",
    "print(\"\\n df['Age'].value_counts() : \\n\",df['Age'].value_counts())"
   ]
  },
  {
   "cell_type": "markdown",
   "id": "d872d7a6",
   "metadata": {
    "hidden": true
   },
   "source": [
    "## 3.3) Updating/Modifying contents in a CSV file\n",
    "If we want to replace data of csv file with NaN, This can be done by using \"na_values\" option along with read_csv method where \"na_values=< the value we want to change>\" ."
   ]
  },
  {
   "cell_type": "code",
   "execution_count": 10,
   "id": "d4967f4f",
   "metadata": {
    "hidden": true
   },
   "outputs": [
    {
     "name": "stdout",
     "output_type": "stream",
     "text": [
      "   Empid     Name   Age       City   Salary\n",
      "0  100.0   Ritesh  25.0     Mumbai  15000.0\n",
      "1  101.0   Aakash  26.0        Goa      NaN\n",
      "2    NaN      NaN   NaN        NaN      NaN\n",
      "3  102.0   Mahima  27.0  Hyderabad  20000.0\n",
      "4  103.0  Lakshay  25.0      Delhi  18000.0\n",
      "5  104.0     Manu  23.0     Mumbai  25000.0\n",
      "6  105.0    Nidhi  26.0      Delhi      NaN\n",
      "7  106.0    Geetu  30.0  Bangalore  28000.0\n"
     ]
    }
   ],
   "source": [
    "df = pd.read_csv(\"./Employee.csv\", na_values=[16000])\n",
    "print(df)"
   ]
  },
  {
   "cell_type": "markdown",
   "id": "e45b6894",
   "metadata": {
    "hidden": true
   },
   "source": [
    "## 3.4) Writing a CSV file with default index\n",
    "To create a CSV file from DataFrame, to_csv() method is used."
   ]
  },
  {
   "cell_type": "markdown",
   "id": "e4afacfa",
   "metadata": {
    "hidden": true
   },
   "source": [
    "### 3.4.1) Copying Employee.csv to Empnew.csv\n",
    "BY using to_csv()"
   ]
  },
  {
   "cell_type": "code",
   "execution_count": 4,
   "id": "a4c27dc2",
   "metadata": {
    "hidden": true
   },
   "outputs": [
    {
     "name": "stdout",
     "output_type": "stream",
     "text": [
      "   Empid     Name   Age       City   Salary\n",
      "0  100.0   Ritesh  25.0     Mumbai  15000.0\n",
      "1  101.0   Aakash  26.0        Goa  16000.0\n",
      "2    NaN      NaN   NaN        NaN      NaN\n",
      "3  102.0   Mahima  27.0  Hyderabad  20000.0\n",
      "4  103.0  Lakshay  25.0      Delhi  18000.0\n",
      "5  104.0     Manu  23.0     Mumbai  25000.0\n",
      "6  105.0    Nidhi  26.0      Delhi      NaN\n",
      "7  106.0    Geetu  30.0  Bangalore  28000.0\n"
     ]
    }
   ],
   "source": [
    "# reading csv file\n",
    "df = pd.read_csv(\"./Employee.csv\") \n",
    "# copying df to new csv file\n",
    "df.to_csv(\"./EmpNew.csv\")\n",
    "print(df)"
   ]
  },
  {
   "cell_type": "markdown",
   "id": "9d6d54b3",
   "metadata": {
    "hidden": true
   },
   "source": [
    "### 3.4.2) Saving DataFrame as csv file\n",
    "This can be done by creating dataframe and saving to a location in system"
   ]
  },
  {
   "cell_type": "code",
   "execution_count": 5,
   "id": "5058f91c",
   "metadata": {
    "hidden": true
   },
   "outputs": [
    {
     "name": "stdout",
     "output_type": "stream",
     "text": [
      "     Name  English  Economics  IP  Accouncts\n",
      "0   Rinku     67.0       78.0  98        NaN\n",
      "1    Ritu     65.0        NaN  97       70.0\n",
      "2    Ajay     98.0       98.0  95       80.0\n",
      "3  Pankaj      NaN       65.0  96       57.0\n"
     ]
    }
   ],
   "source": [
    "stu = {'Name':['Rinku','Ritu','Ajay','Pankaj'],\n",
    "       'English':[67,65,98,np.NaN],\n",
    "       'Economics':[78,np.NaN,98,65],\n",
    "       'IP':[98,97,95,96],\n",
    "       'Accouncts':[np.NaN,70,80,57]}\n",
    "df = pd.DataFrame(stu) # creating dataframe\n",
    "print(df)\n",
    "df.to_csv(\"./Student.csv\")"
   ]
  },
  {
   "cell_type": "code",
   "execution_count": 12,
   "id": "adb30569",
   "metadata": {
    "hidden": true
   },
   "outputs": [
    {
     "name": "stdout",
     "output_type": "stream",
     "text": [
      "Before: \n",
      "    Unnamed: 0    Name  IP\n",
      "0           0   Rinku  98\n",
      "1           1    Ritu  97\n",
      "2           2    Ajay  95\n",
      "3           3  Pankaj  96\n",
      "After: \n",
      "      Name  IP\n",
      "0   Rinku  98\n",
      "1    Ritu  97\n",
      "2    Ajay  95\n",
      "3  Pankaj  96\n"
     ]
    }
   ],
   "source": [
    "df = pd.read_csv(\"./Student.csv\")\n",
    "print(\"Before: \\n\",df)\n",
    "# to avoid this \"Unnamed:0\" use index_col=0\n",
    "df = pd.read_csv(\"./Student.csv\", index_col=0)\n",
    "print(\"After: \\n\",df)"
   ]
  },
  {
   "cell_type": "markdown",
   "id": "e56e7479",
   "metadata": {
    "hidden": true
   },
   "source": [
    "### 3.4.3) Copying fileds into a new file"
   ]
  },
  {
   "cell_type": "code",
   "execution_count": 14,
   "id": "e85c8250",
   "metadata": {
    "hidden": true
   },
   "outputs": [
    {
     "name": "stdout",
     "output_type": "stream",
     "text": [
      "     Name  English  Economics  IP  Accouncts\n",
      "0   Rinku     67.0       78.0  98        NaN\n",
      "1    Ritu     65.0        NaN  97       70.0\n",
      "2    Ajay     98.0       98.0  95       80.0\n",
      "3  Pankaj      NaN       65.0  96       57.0\n"
     ]
    }
   ],
   "source": [
    "stu = {'Name':['Rinku','Ritu','Ajay','Pankaj'],\n",
    "       'English':[67,65,98,np.NaN],\n",
    "       'Economics':[78,np.NaN,98,65],\n",
    "       'IP':[98,97,95,96],\n",
    "       'Accouncts':[np.NaN,70,80,57]}\n",
    "df = pd.DataFrame(stu) # creating dataframe\n",
    "print(df)\n",
    "df.to_csv(\".//Student.csv\", columns=[\"Name\",\"IP\"])"
   ]
  },
  {
   "cell_type": "markdown",
   "id": "e9e2466a",
   "metadata": {
    "hidden": true
   },
   "source": [
    "## 3.5) Creating a CSV file by data"
   ]
  },
  {
   "cell_type": "code",
   "execution_count": 25,
   "id": "199d66cc",
   "metadata": {
    "hidden": true
   },
   "outputs": [],
   "source": [
    "from io import StringIO, BytesIO"
   ]
  },
  {
   "cell_type": "code",
   "execution_count": 29,
   "id": "fd1987d1",
   "metadata": {
    "hidden": true
   },
   "outputs": [
    {
     "data": {
      "text/plain": [
       "str"
      ]
     },
     "execution_count": 29,
     "metadata": {},
     "output_type": "execute_result"
    }
   ],
   "source": [
    "data = ('col1,col2,col3\\n'\n",
    "       'x,y,1\\n'\n",
    "       'a,b,2\\n'\n",
    "       'c,d,3')\n",
    "type(data)"
   ]
  },
  {
   "cell_type": "code",
   "execution_count": 30,
   "id": "fd8d0818",
   "metadata": {
    "hidden": true
   },
   "outputs": [
    {
     "data": {
      "text/html": [
       "<div>\n",
       "<style scoped>\n",
       "    .dataframe tbody tr th:only-of-type {\n",
       "        vertical-align: middle;\n",
       "    }\n",
       "\n",
       "    .dataframe tbody tr th {\n",
       "        vertical-align: top;\n",
       "    }\n",
       "\n",
       "    .dataframe thead th {\n",
       "        text-align: right;\n",
       "    }\n",
       "</style>\n",
       "<table border=\"1\" class=\"dataframe\">\n",
       "  <thead>\n",
       "    <tr style=\"text-align: right;\">\n",
       "      <th></th>\n",
       "      <th>col1</th>\n",
       "      <th>col2</th>\n",
       "      <th>col3</th>\n",
       "    </tr>\n",
       "  </thead>\n",
       "  <tbody>\n",
       "    <tr>\n",
       "      <th>0</th>\n",
       "      <td>x</td>\n",
       "      <td>y</td>\n",
       "      <td>1</td>\n",
       "    </tr>\n",
       "    <tr>\n",
       "      <th>1</th>\n",
       "      <td>a</td>\n",
       "      <td>b</td>\n",
       "      <td>2</td>\n",
       "    </tr>\n",
       "    <tr>\n",
       "      <th>2</th>\n",
       "      <td>c</td>\n",
       "      <td>d</td>\n",
       "      <td>3</td>\n",
       "    </tr>\n",
       "  </tbody>\n",
       "</table>\n",
       "</div>"
      ],
      "text/plain": [
       "  col1 col2  col3\n",
       "0    x    y     1\n",
       "1    a    b     2\n",
       "2    c    d     3"
      ]
     },
     "execution_count": 30,
     "metadata": {},
     "output_type": "execute_result"
    }
   ],
   "source": [
    "pd.read_csv(StringIO(data))"
   ]
  },
  {
   "cell_type": "markdown",
   "id": "2c31eb19",
   "metadata": {
    "hidden": true
   },
   "source": [
    "### 3.5.1) Read from specific columns"
   ]
  },
  {
   "cell_type": "code",
   "execution_count": 37,
   "id": "1f65f1e4",
   "metadata": {
    "hidden": true,
    "scrolled": true
   },
   "outputs": [
    {
     "data": {
      "text/html": [
       "<div>\n",
       "<style scoped>\n",
       "    .dataframe tbody tr th:only-of-type {\n",
       "        vertical-align: middle;\n",
       "    }\n",
       "\n",
       "    .dataframe tbody tr th {\n",
       "        vertical-align: top;\n",
       "    }\n",
       "\n",
       "    .dataframe thead th {\n",
       "        text-align: right;\n",
       "    }\n",
       "</style>\n",
       "<table border=\"1\" class=\"dataframe\">\n",
       "  <thead>\n",
       "    <tr style=\"text-align: right;\">\n",
       "      <th></th>\n",
       "      <th>col1</th>\n",
       "      <th>col3</th>\n",
       "    </tr>\n",
       "  </thead>\n",
       "  <tbody>\n",
       "    <tr>\n",
       "      <th>0</th>\n",
       "      <td>x</td>\n",
       "      <td>1</td>\n",
       "    </tr>\n",
       "    <tr>\n",
       "      <th>1</th>\n",
       "      <td>a</td>\n",
       "      <td>2</td>\n",
       "    </tr>\n",
       "    <tr>\n",
       "      <th>2</th>\n",
       "      <td>c</td>\n",
       "      <td>3</td>\n",
       "    </tr>\n",
       "  </tbody>\n",
       "</table>\n",
       "</div>"
      ],
      "text/plain": [
       "  col1  col3\n",
       "0    x     1\n",
       "1    a     2\n",
       "2    c     3"
      ]
     },
     "execution_count": 37,
     "metadata": {},
     "output_type": "execute_result"
    }
   ],
   "source": [
    "data = ('col1,col2,col3\\n'\n",
    "       'x,y,1\\n'\n",
    "       'a,b,2\\n'\n",
    "       'c,d,3')\n",
    "df = pd.read_csv(StringIO(data), usecols=['col1','col3'])\n",
    "# df = pd.read_csv(StringIO(data), usecols=lambda x: x.upper() in ['COL1','COL3'])\n",
    "df"
   ]
  },
  {
   "cell_type": "markdown",
   "id": "6188ff22",
   "metadata": {
    "hidden": true
   },
   "source": [
    "### 3.5.2) Creating CSV by specifying the datatype"
   ]
  },
  {
   "cell_type": "markdown",
   "id": "08e434de",
   "metadata": {
    "hidden": true
   },
   "source": [
    "data = ('a,b,c,d\\n'\n",
    "       '1,2,3,4\\n'\n",
    "       '5,6,7,8\\n'\n",
    "       '9,10,11')\n",
    "df = pd.read_csv(StringIO(data), dtype=object)\n",
    "print(df)\n",
    "print(\"df['a'][1]) :\", df['a'][1])\n",
    "print(type(df['a'][1]))"
   ]
  },
  {
   "cell_type": "code",
   "execution_count": 6,
   "id": "733b0a96",
   "metadata": {
    "hidden": true
   },
   "outputs": [
    {
     "name": "stdout",
     "output_type": "stream",
     "text": [
      "   a   b     c    d\n",
      "0  1   2   3.0  4.0\n",
      "1  5   6   7.0  8.0\n",
      "2  9  10  11.0  NaN\n",
      "df['b'][1]) : 6\n",
      "<class 'numpy.int64'>\n"
     ]
    }
   ],
   "source": [
    "data = ('a,b,c,d\\n'\n",
    "       '1,2,3,4\\n'\n",
    "       '5,6,7,8\\n'\n",
    "       '9,10,11')\n",
    "df = pd.read_csv(StringIO(data), dtype={'a':object, 'b':int, 'c':float})\n",
    "print(df)\n",
    "print(\"df['b'][1]) :\", df['b'][1])\n",
    "print(type(df['b'][1]))"
   ]
  },
  {
   "cell_type": "code",
   "execution_count": 7,
   "id": "423e1036",
   "metadata": {
    "hidden": true
   },
   "outputs": [
    {
     "data": {
      "text/html": [
       "<div>\n",
       "<style scoped>\n",
       "    .dataframe tbody tr th:only-of-type {\n",
       "        vertical-align: middle;\n",
       "    }\n",
       "\n",
       "    .dataframe tbody tr th {\n",
       "        vertical-align: top;\n",
       "    }\n",
       "\n",
       "    .dataframe thead th {\n",
       "        text-align: right;\n",
       "    }\n",
       "</style>\n",
       "<table border=\"1\" class=\"dataframe\">\n",
       "  <thead>\n",
       "    <tr style=\"text-align: right;\">\n",
       "      <th></th>\n",
       "      <th>a</th>\n",
       "      <th>b</th>\n",
       "    </tr>\n",
       "  </thead>\n",
       "  <tbody>\n",
       "    <tr>\n",
       "      <th>0</th>\n",
       "      <td>hello, \"Bob\",nice to see you</td>\n",
       "      <td>5</td>\n",
       "    </tr>\n",
       "  </tbody>\n",
       "</table>\n",
       "</div>"
      ],
      "text/plain": [
       "                              a  b\n",
       "0  hello, \"Bob\",nice to see you  5"
      ]
     },
     "execution_count": 7,
     "metadata": {},
     "output_type": "execute_result"
    }
   ],
   "source": [
    "# Quoting and Escape Characters, very useful in NLP\n",
    "data = 'a,b\\n\"hello, \\\\\"Bob\\\\\",nice to see you\",5'\n",
    "df = pd.read_csv(StringIO(data),escapechar='\\\\')\n",
    "df"
   ]
  },
  {
   "cell_type": "markdown",
   "id": "7108d94a",
   "metadata": {
    "hidden": true
   },
   "source": [
    "### 3.5.3) URL to CSV"
   ]
  },
  {
   "cell_type": "code",
   "execution_count": 12,
   "id": "aa9e520b",
   "metadata": {
    "hidden": true
   },
   "outputs": [
    {
     "data": {
      "text/html": [
       "<div>\n",
       "<style scoped>\n",
       "    .dataframe tbody tr th:only-of-type {\n",
       "        vertical-align: middle;\n",
       "    }\n",
       "\n",
       "    .dataframe tbody tr th {\n",
       "        vertical-align: top;\n",
       "    }\n",
       "\n",
       "    .dataframe thead th {\n",
       "        text-align: right;\n",
       "    }\n",
       "</style>\n",
       "<table border=\"1\" class=\"dataframe\">\n",
       "  <thead>\n",
       "    <tr style=\"text-align: right;\">\n",
       "      <th></th>\n",
       "      <th>item_code</th>\n",
       "      <th>item_name</th>\n",
       "      <th>display_level</th>\n",
       "      <th>selectable</th>\n",
       "      <th>sort_sequence</th>\n",
       "    </tr>\n",
       "  </thead>\n",
       "  <tbody>\n",
       "    <tr>\n",
       "      <th>0</th>\n",
       "      <td>AA0</td>\n",
       "      <td>All items - old base</td>\n",
       "      <td>0</td>\n",
       "      <td>T</td>\n",
       "      <td>2</td>\n",
       "    </tr>\n",
       "    <tr>\n",
       "      <th>1</th>\n",
       "      <td>AA0R</td>\n",
       "      <td>Purchasing power of the consumer dollar - old ...</td>\n",
       "      <td>0</td>\n",
       "      <td>T</td>\n",
       "      <td>400</td>\n",
       "    </tr>\n",
       "    <tr>\n",
       "      <th>2</th>\n",
       "      <td>SA0</td>\n",
       "      <td>All items</td>\n",
       "      <td>0</td>\n",
       "      <td>T</td>\n",
       "      <td>1</td>\n",
       "    </tr>\n",
       "    <tr>\n",
       "      <th>3</th>\n",
       "      <td>SA0E</td>\n",
       "      <td>Energy</td>\n",
       "      <td>1</td>\n",
       "      <td>T</td>\n",
       "      <td>375</td>\n",
       "    </tr>\n",
       "    <tr>\n",
       "      <th>4</th>\n",
       "      <td>SA0L1</td>\n",
       "      <td>All items less food</td>\n",
       "      <td>1</td>\n",
       "      <td>T</td>\n",
       "      <td>359</td>\n",
       "    </tr>\n",
       "  </tbody>\n",
       "</table>\n",
       "</div>"
      ],
      "text/plain": [
       "  item_code                                          item_name  display_level  \\\n",
       "0       AA0                               All items - old base              0   \n",
       "1      AA0R  Purchasing power of the consumer dollar - old ...              0   \n",
       "2       SA0                                          All items              0   \n",
       "3      SA0E                                             Energy              1   \n",
       "4     SA0L1                                All items less food              1   \n",
       "\n",
       "  selectable  sort_sequence  \n",
       "0          T              2  \n",
       "1          T            400  \n",
       "2          T              1  \n",
       "3          T            375  \n",
       "4          T            359  "
      ]
     },
     "execution_count": 12,
     "metadata": {},
     "output_type": "execute_result"
    }
   ],
   "source": [
    "df = pd.read_csv('https://download.bls.gov/pub/time.series/cu/cu.item', sep='\\t')\n",
    "df.head()"
   ]
  },
  {
   "cell_type": "code",
   "execution_count": null,
   "id": "c61fa38f",
   "metadata": {
    "hidden": true
   },
   "outputs": [],
   "source": []
  },
  {
   "cell_type": "markdown",
   "id": "725599ff",
   "metadata": {},
   "source": [
    "# 4) Json with pandas"
   ]
  },
  {
   "cell_type": "markdown",
   "id": "dcd33ae6",
   "metadata": {},
   "source": [
    "## 4.1) Read Json to CSV"
   ]
  },
  {
   "cell_type": "code",
   "execution_count": 10,
   "id": "10a2c5cd",
   "metadata": {},
   "outputs": [
    {
     "data": {
      "text/html": [
       "<div>\n",
       "<style scoped>\n",
       "    .dataframe tbody tr th:only-of-type {\n",
       "        vertical-align: middle;\n",
       "    }\n",
       "\n",
       "    .dataframe tbody tr th {\n",
       "        vertical-align: top;\n",
       "    }\n",
       "\n",
       "    .dataframe thead th {\n",
       "        text-align: right;\n",
       "    }\n",
       "</style>\n",
       "<table border=\"1\" class=\"dataframe\">\n",
       "  <thead>\n",
       "    <tr style=\"text-align: right;\">\n",
       "      <th></th>\n",
       "      <th>employee_name</th>\n",
       "      <th>email</th>\n",
       "      <th>job_profile</th>\n",
       "    </tr>\n",
       "  </thead>\n",
       "  <tbody>\n",
       "    <tr>\n",
       "      <th>0</th>\n",
       "      <td>James</td>\n",
       "      <td>james@gmail.com</td>\n",
       "      <td>{'title1': 'Team Lead', 'title2': 'Sr. Develop...</td>\n",
       "    </tr>\n",
       "  </tbody>\n",
       "</table>\n",
       "</div>"
      ],
      "text/plain": [
       "  employee_name            email  \\\n",
       "0         James  james@gmail.com   \n",
       "\n",
       "                                         job_profile  \n",
       "0  {'title1': 'Team Lead', 'title2': 'Sr. Develop...  "
      ]
     },
     "execution_count": 10,
     "metadata": {},
     "output_type": "execute_result"
    }
   ],
   "source": [
    "data = '{\"employee_name\":\"James\",\"email\":\"james@gmail.com\",\"job_profile\":[{\"title1\":\"Team Lead\",\"title2\":\"Sr. Developer\"}]}'\n",
    "pd.read_json(data)"
   ]
  },
  {
   "cell_type": "code",
   "execution_count": 16,
   "id": "f8c151a9",
   "metadata": {},
   "outputs": [
    {
     "data": {
      "text/html": [
       "<div>\n",
       "<style scoped>\n",
       "    .dataframe tbody tr th:only-of-type {\n",
       "        vertical-align: middle;\n",
       "    }\n",
       "\n",
       "    .dataframe tbody tr th {\n",
       "        vertical-align: top;\n",
       "    }\n",
       "\n",
       "    .dataframe thead th {\n",
       "        text-align: right;\n",
       "    }\n",
       "</style>\n",
       "<table border=\"1\" class=\"dataframe\">\n",
       "  <thead>\n",
       "    <tr style=\"text-align: right;\">\n",
       "      <th></th>\n",
       "      <th>0</th>\n",
       "      <th>1</th>\n",
       "      <th>2</th>\n",
       "      <th>3</th>\n",
       "      <th>4</th>\n",
       "      <th>5</th>\n",
       "      <th>6</th>\n",
       "      <th>7</th>\n",
       "      <th>8</th>\n",
       "      <th>9</th>\n",
       "      <th>10</th>\n",
       "      <th>11</th>\n",
       "      <th>12</th>\n",
       "      <th>13</th>\n",
       "    </tr>\n",
       "  </thead>\n",
       "  <tbody>\n",
       "    <tr>\n",
       "      <th>0</th>\n",
       "      <td>1</td>\n",
       "      <td>14.23</td>\n",
       "      <td>1.71</td>\n",
       "      <td>2.43</td>\n",
       "      <td>15.6</td>\n",
       "      <td>127</td>\n",
       "      <td>2.80</td>\n",
       "      <td>3.06</td>\n",
       "      <td>0.28</td>\n",
       "      <td>2.29</td>\n",
       "      <td>5.64</td>\n",
       "      <td>1.04</td>\n",
       "      <td>3.92</td>\n",
       "      <td>1065</td>\n",
       "    </tr>\n",
       "    <tr>\n",
       "      <th>1</th>\n",
       "      <td>1</td>\n",
       "      <td>13.20</td>\n",
       "      <td>1.78</td>\n",
       "      <td>2.14</td>\n",
       "      <td>11.2</td>\n",
       "      <td>100</td>\n",
       "      <td>2.65</td>\n",
       "      <td>2.76</td>\n",
       "      <td>0.26</td>\n",
       "      <td>1.28</td>\n",
       "      <td>4.38</td>\n",
       "      <td>1.05</td>\n",
       "      <td>3.40</td>\n",
       "      <td>1050</td>\n",
       "    </tr>\n",
       "    <tr>\n",
       "      <th>2</th>\n",
       "      <td>1</td>\n",
       "      <td>13.16</td>\n",
       "      <td>2.36</td>\n",
       "      <td>2.67</td>\n",
       "      <td>18.6</td>\n",
       "      <td>101</td>\n",
       "      <td>2.80</td>\n",
       "      <td>3.24</td>\n",
       "      <td>0.30</td>\n",
       "      <td>2.81</td>\n",
       "      <td>5.68</td>\n",
       "      <td>1.03</td>\n",
       "      <td>3.17</td>\n",
       "      <td>1185</td>\n",
       "    </tr>\n",
       "    <tr>\n",
       "      <th>3</th>\n",
       "      <td>1</td>\n",
       "      <td>14.37</td>\n",
       "      <td>1.95</td>\n",
       "      <td>2.50</td>\n",
       "      <td>16.8</td>\n",
       "      <td>113</td>\n",
       "      <td>3.85</td>\n",
       "      <td>3.49</td>\n",
       "      <td>0.24</td>\n",
       "      <td>2.18</td>\n",
       "      <td>7.80</td>\n",
       "      <td>0.86</td>\n",
       "      <td>3.45</td>\n",
       "      <td>1480</td>\n",
       "    </tr>\n",
       "    <tr>\n",
       "      <th>4</th>\n",
       "      <td>1</td>\n",
       "      <td>13.24</td>\n",
       "      <td>2.59</td>\n",
       "      <td>2.87</td>\n",
       "      <td>21.0</td>\n",
       "      <td>118</td>\n",
       "      <td>2.80</td>\n",
       "      <td>2.69</td>\n",
       "      <td>0.39</td>\n",
       "      <td>1.82</td>\n",
       "      <td>4.32</td>\n",
       "      <td>1.04</td>\n",
       "      <td>2.93</td>\n",
       "      <td>735</td>\n",
       "    </tr>\n",
       "  </tbody>\n",
       "</table>\n",
       "</div>"
      ],
      "text/plain": [
       "   0      1     2     3     4    5     6     7     8     9     10    11    12  \\\n",
       "0   1  14.23  1.71  2.43  15.6  127  2.80  3.06  0.28  2.29  5.64  1.04  3.92   \n",
       "1   1  13.20  1.78  2.14  11.2  100  2.65  2.76  0.26  1.28  4.38  1.05  3.40   \n",
       "2   1  13.16  2.36  2.67  18.6  101  2.80  3.24  0.30  2.81  5.68  1.03  3.17   \n",
       "3   1  14.37  1.95  2.50  16.8  113  3.85  3.49  0.24  2.18  7.80  0.86  3.45   \n",
       "4   1  13.24  2.59  2.87  21.0  118  2.80  2.69  0.39  1.82  4.32  1.04  2.93   \n",
       "\n",
       "     13  \n",
       "0  1065  \n",
       "1  1050  \n",
       "2  1185  \n",
       "3  1480  \n",
       "4   735  "
      ]
     },
     "execution_count": 16,
     "metadata": {},
     "output_type": "execute_result"
    }
   ],
   "source": [
    "# reading json file into csv \n",
    "# note: it can only read nicly if the data is in key:value pair\n",
    "df = pd.read_csv('https://archive.ics.uci.edu/ml/machine-learning-databases/wine/wine.data',header=None)\n",
    "df.head()"
   ]
  },
  {
   "cell_type": "markdown",
   "id": "eb519ff7",
   "metadata": {},
   "source": [
    "## 4.2) convert Json to different formats"
   ]
  },
  {
   "cell_type": "code",
   "execution_count": 17,
   "id": "0d7ce207",
   "metadata": {},
   "outputs": [],
   "source": [
    "# saving the file into wine.csv\n",
    "df.to_csv('wine.csv')"
   ]
  },
  {
   "cell_type": "code",
   "execution_count": 19,
   "id": "e413110d",
   "metadata": {},
   "outputs": [
    {
     "data": {
      "text/plain": [
       "'{\"0\":{\"0\":1,\"1\":14.23,\"2\":1.71,\"3\":2.43,\"4\":15.6,\"5\":127,\"6\":2.8,\"7\":3.06,\"8\":0.28,\"9\":2.29,\"10\":5.64,\"11\":1.04,\"12\":3.92,\"13\":1065},\"1\":{\"0\":1,\"1\":13.2,\"2\":1.78,\"3\":2.14,\"4\":11.2,\"5\":100,\"6\":2.65,\"7\":2.76,\"8\":0.26,\"9\":1.28,\"10\":4.38,\"11\":1.05,\"12\":3.4,\"13\":1050},\"2\":{\"0\":1,\"1\":13.16,\"2\":2.36,\"3\":2.67,\"4\":18.6,\"5\":101,\"6\":2.8,\"7\":3.24,\"8\":0.3,\"9\":2.81,\"10\":5.68,\"11\":1.03,\"12\":3.17,\"13\":1185},\"3\":{\"0\":1,\"1\":14.37,\"2\":1.95,\"3\":2.5,\"4\":16.8,\"5\":113,\"6\":3.85,\"7\":3.49,\"8\":0.24,\"9\":2.18,\"10\":7.8,\"11\":0.86,\"12\":3.45,\"13\":1480},\"4\":{\"0\":1,\"1\":13.24,\"2\":2.59,\"3\":2.87,\"4\":21.0,\"5\":118,\"6\":2.8,\"7\":2.69,\"8\":0.39,\"9\":1.82,\"10\":4.32,\"11\":1.04,\"12\":2.93,\"13\":735},\"5\":{\"0\":1,\"1\":14.2,\"2\":1.76,\"3\":2.45,\"4\":15.2,\"5\":112,\"6\":3.27,\"7\":3.39,\"8\":0.34,\"9\":1.97,\"10\":6.75,\"11\":1.05,\"12\":2.85,\"13\":1450},\"6\":{\"0\":1,\"1\":14.39,\"2\":1.87,\"3\":2.45,\"4\":14.6,\"5\":96,\"6\":2.5,\"7\":2.52,\"8\":0.3,\"9\":1.98,\"10\":5.25,\"11\":1.02,\"12\":3.58,\"13\":1290},\"7\":{\"0\":1,\"1\":14.06,\"2\":2.15,\"3\":2.61,\"4\":17.6,\"5\":121,\"6\":2.6,\"7\":2.51,\"8\":0.31,\"9\":1.25,\"10\":5.05,\"11\":1.06,\"12\":3.58,\"13\":1295},\"8\":{\"0\":1,\"1\":14.83,\"2\":1.64,\"3\":2.17,\"4\":14.0,\"5\":97,\"6\":2.8,\"7\":2.98,\"8\":0.29,\"9\":1.98,\"10\":5.2,\"11\":1.08,\"12\":2.85,\"13\":1045},\"9\":{\"0\":1,\"1\":13.86,\"2\":1.35,\"3\":2.27,\"4\":16.0,\"5\":98,\"6\":2.98,\"7\":3.15,\"8\":0.22,\"9\":1.85,\"10\":7.22,\"11\":1.01,\"12\":3.55,\"13\":1045},\"10\":{\"0\":1,\"1\":14.1,\"2\":2.16,\"3\":2.3,\"4\":18.0,\"5\":105,\"6\":2.95,\"7\":3.32,\"8\":0.22,\"9\":2.38,\"10\":5.75,\"11\":1.25,\"12\":3.17,\"13\":1510},\"11\":{\"0\":1,\"1\":14.12,\"2\":1.48,\"3\":2.32,\"4\":16.8,\"5\":95,\"6\":2.2,\"7\":2.43,\"8\":0.26,\"9\":1.57,\"10\":5.0,\"11\":1.17,\"12\":2.82,\"13\":1280},\"12\":{\"0\":1,\"1\":13.75,\"2\":1.73,\"3\":2.41,\"4\":16.0,\"5\":89,\"6\":2.6,\"7\":2.76,\"8\":0.29,\"9\":1.81,\"10\":5.6,\"11\":1.15,\"12\":2.9,\"13\":1320},\"13\":{\"0\":1,\"1\":14.75,\"2\":1.73,\"3\":2.39,\"4\":11.4,\"5\":91,\"6\":3.1,\"7\":3.69,\"8\":0.43,\"9\":2.81,\"10\":5.4,\"11\":1.25,\"12\":2.73,\"13\":1150},\"14\":{\"0\":1,\"1\":14.38,\"2\":1.87,\"3\":2.38,\"4\":12.0,\"5\":102,\"6\":3.3,\"7\":3.64,\"8\":0.29,\"9\":2.96,\"10\":7.5,\"11\":1.2,\"12\":3.0,\"13\":1547},\"15\":{\"0\":1,\"1\":13.63,\"2\":1.81,\"3\":2.7,\"4\":17.2,\"5\":112,\"6\":2.85,\"7\":2.91,\"8\":0.3,\"9\":1.46,\"10\":7.3,\"11\":1.28,\"12\":2.88,\"13\":1310},\"16\":{\"0\":1,\"1\":14.3,\"2\":1.92,\"3\":2.72,\"4\":20.0,\"5\":120,\"6\":2.8,\"7\":3.14,\"8\":0.33,\"9\":1.97,\"10\":6.2,\"11\":1.07,\"12\":2.65,\"13\":1280},\"17\":{\"0\":1,\"1\":13.83,\"2\":1.57,\"3\":2.62,\"4\":20.0,\"5\":115,\"6\":2.95,\"7\":3.4,\"8\":0.4,\"9\":1.72,\"10\":6.6,\"11\":1.13,\"12\":2.57,\"13\":1130},\"18\":{\"0\":1,\"1\":14.19,\"2\":1.59,\"3\":2.48,\"4\":16.5,\"5\":108,\"6\":3.3,\"7\":3.93,\"8\":0.32,\"9\":1.86,\"10\":8.7,\"11\":1.23,\"12\":2.82,\"13\":1680},\"19\":{\"0\":1,\"1\":13.64,\"2\":3.1,\"3\":2.56,\"4\":15.2,\"5\":116,\"6\":2.7,\"7\":3.03,\"8\":0.17,\"9\":1.66,\"10\":5.1,\"11\":0.96,\"12\":3.36,\"13\":845},\"20\":{\"0\":1,\"1\":14.06,\"2\":1.63,\"3\":2.28,\"4\":16.0,\"5\":126,\"6\":3.0,\"7\":3.17,\"8\":0.24,\"9\":2.1,\"10\":5.65,\"11\":1.09,\"12\":3.71,\"13\":780},\"21\":{\"0\":1,\"1\":12.93,\"2\":3.8,\"3\":2.65,\"4\":18.6,\"5\":102,\"6\":2.41,\"7\":2.41,\"8\":0.25,\"9\":1.98,\"10\":4.5,\"11\":1.03,\"12\":3.52,\"13\":770},\"22\":{\"0\":1,\"1\":13.71,\"2\":1.86,\"3\":2.36,\"4\":16.6,\"5\":101,\"6\":2.61,\"7\":2.88,\"8\":0.27,\"9\":1.69,\"10\":3.8,\"11\":1.11,\"12\":4.0,\"13\":1035},\"23\":{\"0\":1,\"1\":12.85,\"2\":1.6,\"3\":2.52,\"4\":17.8,\"5\":95,\"6\":2.48,\"7\":2.37,\"8\":0.26,\"9\":1.46,\"10\":3.93,\"11\":1.09,\"12\":3.63,\"13\":1015},\"24\":{\"0\":1,\"1\":13.5,\"2\":1.81,\"3\":2.61,\"4\":20.0,\"5\":96,\"6\":2.53,\"7\":2.61,\"8\":0.28,\"9\":1.66,\"10\":3.52,\"11\":1.12,\"12\":3.82,\"13\":845},\"25\":{\"0\":1,\"1\":13.05,\"2\":2.05,\"3\":3.22,\"4\":25.0,\"5\":124,\"6\":2.63,\"7\":2.68,\"8\":0.47,\"9\":1.92,\"10\":3.58,\"11\":1.13,\"12\":3.2,\"13\":830},\"26\":{\"0\":1,\"1\":13.39,\"2\":1.77,\"3\":2.62,\"4\":16.1,\"5\":93,\"6\":2.85,\"7\":2.94,\"8\":0.34,\"9\":1.45,\"10\":4.8,\"11\":0.92,\"12\":3.22,\"13\":1195},\"27\":{\"0\":1,\"1\":13.3,\"2\":1.72,\"3\":2.14,\"4\":17.0,\"5\":94,\"6\":2.4,\"7\":2.19,\"8\":0.27,\"9\":1.35,\"10\":3.95,\"11\":1.02,\"12\":2.77,\"13\":1285},\"28\":{\"0\":1,\"1\":13.87,\"2\":1.9,\"3\":2.8,\"4\":19.4,\"5\":107,\"6\":2.95,\"7\":2.97,\"8\":0.37,\"9\":1.76,\"10\":4.5,\"11\":1.25,\"12\":3.4,\"13\":915},\"29\":{\"0\":1,\"1\":14.02,\"2\":1.68,\"3\":2.21,\"4\":16.0,\"5\":96,\"6\":2.65,\"7\":2.33,\"8\":0.26,\"9\":1.98,\"10\":4.7,\"11\":1.04,\"12\":3.59,\"13\":1035},\"30\":{\"0\":1,\"1\":13.73,\"2\":1.5,\"3\":2.7,\"4\":22.5,\"5\":101,\"6\":3.0,\"7\":3.25,\"8\":0.29,\"9\":2.38,\"10\":5.7,\"11\":1.19,\"12\":2.71,\"13\":1285},\"31\":{\"0\":1,\"1\":13.58,\"2\":1.66,\"3\":2.36,\"4\":19.1,\"5\":106,\"6\":2.86,\"7\":3.19,\"8\":0.22,\"9\":1.95,\"10\":6.9,\"11\":1.09,\"12\":2.88,\"13\":1515},\"32\":{\"0\":1,\"1\":13.68,\"2\":1.83,\"3\":2.36,\"4\":17.2,\"5\":104,\"6\":2.42,\"7\":2.69,\"8\":0.42,\"9\":1.97,\"10\":3.84,\"11\":1.23,\"12\":2.87,\"13\":990},\"33\":{\"0\":1,\"1\":13.76,\"2\":1.53,\"3\":2.7,\"4\":19.5,\"5\":132,\"6\":2.95,\"7\":2.74,\"8\":0.5,\"9\":1.35,\"10\":5.4,\"11\":1.25,\"12\":3.0,\"13\":1235},\"34\":{\"0\":1,\"1\":13.51,\"2\":1.8,\"3\":2.65,\"4\":19.0,\"5\":110,\"6\":2.35,\"7\":2.53,\"8\":0.29,\"9\":1.54,\"10\":4.2,\"11\":1.1,\"12\":2.87,\"13\":1095},\"35\":{\"0\":1,\"1\":13.48,\"2\":1.81,\"3\":2.41,\"4\":20.5,\"5\":100,\"6\":2.7,\"7\":2.98,\"8\":0.26,\"9\":1.86,\"10\":5.1,\"11\":1.04,\"12\":3.47,\"13\":920},\"36\":{\"0\":1,\"1\":13.28,\"2\":1.64,\"3\":2.84,\"4\":15.5,\"5\":110,\"6\":2.6,\"7\":2.68,\"8\":0.34,\"9\":1.36,\"10\":4.6,\"11\":1.09,\"12\":2.78,\"13\":880},\"37\":{\"0\":1,\"1\":13.05,\"2\":1.65,\"3\":2.55,\"4\":18.0,\"5\":98,\"6\":2.45,\"7\":2.43,\"8\":0.29,\"9\":1.44,\"10\":4.25,\"11\":1.12,\"12\":2.51,\"13\":1105},\"38\":{\"0\":1,\"1\":13.07,\"2\":1.5,\"3\":2.1,\"4\":15.5,\"5\":98,\"6\":2.4,\"7\":2.64,\"8\":0.28,\"9\":1.37,\"10\":3.7,\"11\":1.18,\"12\":2.69,\"13\":1020},\"39\":{\"0\":1,\"1\":14.22,\"2\":3.99,\"3\":2.51,\"4\":13.2,\"5\":128,\"6\":3.0,\"7\":3.04,\"8\":0.2,\"9\":2.08,\"10\":5.1,\"11\":0.89,\"12\":3.53,\"13\":760},\"40\":{\"0\":1,\"1\":13.56,\"2\":1.71,\"3\":2.31,\"4\":16.2,\"5\":117,\"6\":3.15,\"7\":3.29,\"8\":0.34,\"9\":2.34,\"10\":6.13,\"11\":0.95,\"12\":3.38,\"13\":795},\"41\":{\"0\":1,\"1\":13.41,\"2\":3.84,\"3\":2.12,\"4\":18.8,\"5\":90,\"6\":2.45,\"7\":2.68,\"8\":0.27,\"9\":1.48,\"10\":4.28,\"11\":0.91,\"12\":3.0,\"13\":1035},\"42\":{\"0\":1,\"1\":13.88,\"2\":1.89,\"3\":2.59,\"4\":15.0,\"5\":101,\"6\":3.25,\"7\":3.56,\"8\":0.17,\"9\":1.7,\"10\":5.43,\"11\":0.88,\"12\":3.56,\"13\":1095},\"43\":{\"0\":1,\"1\":13.24,\"2\":3.98,\"3\":2.29,\"4\":17.5,\"5\":103,\"6\":2.64,\"7\":2.63,\"8\":0.32,\"9\":1.66,\"10\":4.36,\"11\":0.82,\"12\":3.0,\"13\":680},\"44\":{\"0\":1,\"1\":13.05,\"2\":1.77,\"3\":2.1,\"4\":17.0,\"5\":107,\"6\":3.0,\"7\":3.0,\"8\":0.28,\"9\":2.03,\"10\":5.04,\"11\":0.88,\"12\":3.35,\"13\":885},\"45\":{\"0\":1,\"1\":14.21,\"2\":4.04,\"3\":2.44,\"4\":18.9,\"5\":111,\"6\":2.85,\"7\":2.65,\"8\":0.3,\"9\":1.25,\"10\":5.24,\"11\":0.87,\"12\":3.33,\"13\":1080},\"46\":{\"0\":1,\"1\":14.38,\"2\":3.59,\"3\":2.28,\"4\":16.0,\"5\":102,\"6\":3.25,\"7\":3.17,\"8\":0.27,\"9\":2.19,\"10\":4.9,\"11\":1.04,\"12\":3.44,\"13\":1065},\"47\":{\"0\":1,\"1\":13.9,\"2\":1.68,\"3\":2.12,\"4\":16.0,\"5\":101,\"6\":3.1,\"7\":3.39,\"8\":0.21,\"9\":2.14,\"10\":6.1,\"11\":0.91,\"12\":3.33,\"13\":985},\"48\":{\"0\":1,\"1\":14.1,\"2\":2.02,\"3\":2.4,\"4\":18.8,\"5\":103,\"6\":2.75,\"7\":2.92,\"8\":0.32,\"9\":2.38,\"10\":6.2,\"11\":1.07,\"12\":2.75,\"13\":1060},\"49\":{\"0\":1,\"1\":13.94,\"2\":1.73,\"3\":2.27,\"4\":17.4,\"5\":108,\"6\":2.88,\"7\":3.54,\"8\":0.32,\"9\":2.08,\"10\":8.9,\"11\":1.12,\"12\":3.1,\"13\":1260},\"50\":{\"0\":1,\"1\":13.05,\"2\":1.73,\"3\":2.04,\"4\":12.4,\"5\":92,\"6\":2.72,\"7\":3.27,\"8\":0.17,\"9\":2.91,\"10\":7.2,\"11\":1.12,\"12\":2.91,\"13\":1150},\"51\":{\"0\":1,\"1\":13.83,\"2\":1.65,\"3\":2.6,\"4\":17.2,\"5\":94,\"6\":2.45,\"7\":2.99,\"8\":0.22,\"9\":2.29,\"10\":5.6,\"11\":1.24,\"12\":3.37,\"13\":1265},\"52\":{\"0\":1,\"1\":13.82,\"2\":1.75,\"3\":2.42,\"4\":14.0,\"5\":111,\"6\":3.88,\"7\":3.74,\"8\":0.32,\"9\":1.87,\"10\":7.05,\"11\":1.01,\"12\":3.26,\"13\":1190},\"53\":{\"0\":1,\"1\":13.77,\"2\":1.9,\"3\":2.68,\"4\":17.1,\"5\":115,\"6\":3.0,\"7\":2.79,\"8\":0.39,\"9\":1.68,\"10\":6.3,\"11\":1.13,\"12\":2.93,\"13\":1375},\"54\":{\"0\":1,\"1\":13.74,\"2\":1.67,\"3\":2.25,\"4\":16.4,\"5\":118,\"6\":2.6,\"7\":2.9,\"8\":0.21,\"9\":1.62,\"10\":5.85,\"11\":0.92,\"12\":3.2,\"13\":1060},\"55\":{\"0\":1,\"1\":13.56,\"2\":1.73,\"3\":2.46,\"4\":20.5,\"5\":116,\"6\":2.96,\"7\":2.78,\"8\":0.2,\"9\":2.45,\"10\":6.25,\"11\":0.98,\"12\":3.03,\"13\":1120},\"56\":{\"0\":1,\"1\":14.22,\"2\":1.7,\"3\":2.3,\"4\":16.3,\"5\":118,\"6\":3.2,\"7\":3.0,\"8\":0.26,\"9\":2.03,\"10\":6.38,\"11\":0.94,\"12\":3.31,\"13\":970},\"57\":{\"0\":1,\"1\":13.29,\"2\":1.97,\"3\":2.68,\"4\":16.8,\"5\":102,\"6\":3.0,\"7\":3.23,\"8\":0.31,\"9\":1.66,\"10\":6.0,\"11\":1.07,\"12\":2.84,\"13\":1270},\"58\":{\"0\":1,\"1\":13.72,\"2\":1.43,\"3\":2.5,\"4\":16.7,\"5\":108,\"6\":3.4,\"7\":3.67,\"8\":0.19,\"9\":2.04,\"10\":6.8,\"11\":0.89,\"12\":2.87,\"13\":1285},\"59\":{\"0\":2,\"1\":12.37,\"2\":0.94,\"3\":1.36,\"4\":10.6,\"5\":88,\"6\":1.98,\"7\":0.57,\"8\":0.28,\"9\":0.42,\"10\":1.95,\"11\":1.05,\"12\":1.82,\"13\":520},\"60\":{\"0\":2,\"1\":12.33,\"2\":1.1,\"3\":2.28,\"4\":16.0,\"5\":101,\"6\":2.05,\"7\":1.09,\"8\":0.63,\"9\":0.41,\"10\":3.27,\"11\":1.25,\"12\":1.67,\"13\":680},\"61\":{\"0\":2,\"1\":12.64,\"2\":1.36,\"3\":2.02,\"4\":16.8,\"5\":100,\"6\":2.02,\"7\":1.41,\"8\":0.53,\"9\":0.62,\"10\":5.75,\"11\":0.98,\"12\":1.59,\"13\":450},\"62\":{\"0\":2,\"1\":13.67,\"2\":1.25,\"3\":1.92,\"4\":18.0,\"5\":94,\"6\":2.1,\"7\":1.79,\"8\":0.32,\"9\":0.73,\"10\":3.8,\"11\":1.23,\"12\":2.46,\"13\":630},\"63\":{\"0\":2,\"1\":12.37,\"2\":1.13,\"3\":2.16,\"4\":19.0,\"5\":87,\"6\":3.5,\"7\":3.1,\"8\":0.19,\"9\":1.87,\"10\":4.45,\"11\":1.22,\"12\":2.87,\"13\":420},\"64\":{\"0\":2,\"1\":12.17,\"2\":1.45,\"3\":2.53,\"4\":19.0,\"5\":104,\"6\":1.89,\"7\":1.75,\"8\":0.45,\"9\":1.03,\"10\":2.95,\"11\":1.45,\"12\":2.23,\"13\":355},\"65\":{\"0\":2,\"1\":12.37,\"2\":1.21,\"3\":2.56,\"4\":18.1,\"5\":98,\"6\":2.42,\"7\":2.65,\"8\":0.37,\"9\":2.08,\"10\":4.6,\"11\":1.19,\"12\":2.3,\"13\":678},\"66\":{\"0\":2,\"1\":13.11,\"2\":1.01,\"3\":1.7,\"4\":15.0,\"5\":78,\"6\":2.98,\"7\":3.18,\"8\":0.26,\"9\":2.28,\"10\":5.3,\"11\":1.12,\"12\":3.18,\"13\":502},\"67\":{\"0\":2,\"1\":12.37,\"2\":1.17,\"3\":1.92,\"4\":19.6,\"5\":78,\"6\":2.11,\"7\":2.0,\"8\":0.27,\"9\":1.04,\"10\":4.68,\"11\":1.12,\"12\":3.48,\"13\":510},\"68\":{\"0\":2,\"1\":13.34,\"2\":0.94,\"3\":2.36,\"4\":17.0,\"5\":110,\"6\":2.53,\"7\":1.3,\"8\":0.55,\"9\":0.42,\"10\":3.17,\"11\":1.02,\"12\":1.93,\"13\":750},\"69\":{\"0\":2,\"1\":12.21,\"2\":1.19,\"3\":1.75,\"4\":16.8,\"5\":151,\"6\":1.85,\"7\":1.28,\"8\":0.14,\"9\":2.5,\"10\":2.85,\"11\":1.28,\"12\":3.07,\"13\":718},\"70\":{\"0\":2,\"1\":12.29,\"2\":1.61,\"3\":2.21,\"4\":20.4,\"5\":103,\"6\":1.1,\"7\":1.02,\"8\":0.37,\"9\":1.46,\"10\":3.05,\"11\":0.906,\"12\":1.82,\"13\":870},\"71\":{\"0\":2,\"1\":13.86,\"2\":1.51,\"3\":2.67,\"4\":25.0,\"5\":86,\"6\":2.95,\"7\":2.86,\"8\":0.21,\"9\":1.87,\"10\":3.38,\"11\":1.36,\"12\":3.16,\"13\":410},\"72\":{\"0\":2,\"1\":13.49,\"2\":1.66,\"3\":2.24,\"4\":24.0,\"5\":87,\"6\":1.88,\"7\":1.84,\"8\":0.27,\"9\":1.03,\"10\":3.74,\"11\":0.98,\"12\":2.78,\"13\":472},\"73\":{\"0\":2,\"1\":12.99,\"2\":1.67,\"3\":2.6,\"4\":30.0,\"5\":139,\"6\":3.3,\"7\":2.89,\"8\":0.21,\"9\":1.96,\"10\":3.35,\"11\":1.31,\"12\":3.5,\"13\":985},\"74\":{\"0\":2,\"1\":11.96,\"2\":1.09,\"3\":2.3,\"4\":21.0,\"5\":101,\"6\":3.38,\"7\":2.14,\"8\":0.13,\"9\":1.65,\"10\":3.21,\"11\":0.99,\"12\":3.13,\"13\":886},\"75\":{\"0\":2,\"1\":11.66,\"2\":1.88,\"3\":1.92,\"4\":16.0,\"5\":97,\"6\":1.61,\"7\":1.57,\"8\":0.34,\"9\":1.15,\"10\":3.8,\"11\":1.23,\"12\":2.14,\"13\":428},\"76\":{\"0\":2,\"1\":13.03,\"2\":0.9,\"3\":1.71,\"4\":16.0,\"5\":86,\"6\":1.95,\"7\":2.03,\"8\":0.24,\"9\":1.46,\"10\":4.6,\"11\":1.19,\"12\":2.48,\"13\":392},\"77\":{\"0\":2,\"1\":11.84,\"2\":2.89,\"3\":2.23,\"4\":18.0,\"5\":112,\"6\":1.72,\"7\":1.32,\"8\":0.43,\"9\":0.95,\"10\":2.65,\"11\":0.96,\"12\":2.52,\"13\":500},\"78\":{\"0\":2,\"1\":12.33,\"2\":0.99,\"3\":1.95,\"4\":14.8,\"5\":136,\"6\":1.9,\"7\":1.85,\"8\":0.35,\"9\":2.76,\"10\":3.4,\"11\":1.06,\"12\":2.31,\"13\":750},\"79\":{\"0\":2,\"1\":12.7,\"2\":3.87,\"3\":2.4,\"4\":23.0,\"5\":101,\"6\":2.83,\"7\":2.55,\"8\":0.43,\"9\":1.95,\"10\":2.57,\"11\":1.19,\"12\":3.13,\"13\":463},\"80\":{\"0\":2,\"1\":12.0,\"2\":0.92,\"3\":2.0,\"4\":19.0,\"5\":86,\"6\":2.42,\"7\":2.26,\"8\":0.3,\"9\":1.43,\"10\":2.5,\"11\":1.38,\"12\":3.12,\"13\":278},\"81\":{\"0\":2,\"1\":12.72,\"2\":1.81,\"3\":2.2,\"4\":18.8,\"5\":86,\"6\":2.2,\"7\":2.53,\"8\":0.26,\"9\":1.77,\"10\":3.9,\"11\":1.16,\"12\":3.14,\"13\":714},\"82\":{\"0\":2,\"1\":12.08,\"2\":1.13,\"3\":2.51,\"4\":24.0,\"5\":78,\"6\":2.0,\"7\":1.58,\"8\":0.4,\"9\":1.4,\"10\":2.2,\"11\":1.31,\"12\":2.72,\"13\":630},\"83\":{\"0\":2,\"1\":13.05,\"2\":3.86,\"3\":2.32,\"4\":22.5,\"5\":85,\"6\":1.65,\"7\":1.59,\"8\":0.61,\"9\":1.62,\"10\":4.8,\"11\":0.84,\"12\":2.01,\"13\":515},\"84\":{\"0\":2,\"1\":11.84,\"2\":0.89,\"3\":2.58,\"4\":18.0,\"5\":94,\"6\":2.2,\"7\":2.21,\"8\":0.22,\"9\":2.35,\"10\":3.05,\"11\":0.79,\"12\":3.08,\"13\":520},\"85\":{\"0\":2,\"1\":12.67,\"2\":0.98,\"3\":2.24,\"4\":18.0,\"5\":99,\"6\":2.2,\"7\":1.94,\"8\":0.3,\"9\":1.46,\"10\":2.62,\"11\":1.23,\"12\":3.16,\"13\":450},\"86\":{\"0\":2,\"1\":12.16,\"2\":1.61,\"3\":2.31,\"4\":22.8,\"5\":90,\"6\":1.78,\"7\":1.69,\"8\":0.43,\"9\":1.56,\"10\":2.45,\"11\":1.33,\"12\":2.26,\"13\":495},\"87\":{\"0\":2,\"1\":11.65,\"2\":1.67,\"3\":2.62,\"4\":26.0,\"5\":88,\"6\":1.92,\"7\":1.61,\"8\":0.4,\"9\":1.34,\"10\":2.6,\"11\":1.36,\"12\":3.21,\"13\":562},\"88\":{\"0\":2,\"1\":11.64,\"2\":2.06,\"3\":2.46,\"4\":21.6,\"5\":84,\"6\":1.95,\"7\":1.69,\"8\":0.48,\"9\":1.35,\"10\":2.8,\"11\":1.0,\"12\":2.75,\"13\":680},\"89\":{\"0\":2,\"1\":12.08,\"2\":1.33,\"3\":2.3,\"4\":23.6,\"5\":70,\"6\":2.2,\"7\":1.59,\"8\":0.42,\"9\":1.38,\"10\":1.74,\"11\":1.07,\"12\":3.21,\"13\":625},\"90\":{\"0\":2,\"1\":12.08,\"2\":1.83,\"3\":2.32,\"4\":18.5,\"5\":81,\"6\":1.6,\"7\":1.5,\"8\":0.52,\"9\":1.64,\"10\":2.4,\"11\":1.08,\"12\":2.27,\"13\":480},\"91\":{\"0\":2,\"1\":12.0,\"2\":1.51,\"3\":2.42,\"4\":22.0,\"5\":86,\"6\":1.45,\"7\":1.25,\"8\":0.5,\"9\":1.63,\"10\":3.6,\"11\":1.05,\"12\":2.65,\"13\":450},\"92\":{\"0\":2,\"1\":12.69,\"2\":1.53,\"3\":2.26,\"4\":20.7,\"5\":80,\"6\":1.38,\"7\":1.46,\"8\":0.58,\"9\":1.62,\"10\":3.05,\"11\":0.96,\"12\":2.06,\"13\":495},\"93\":{\"0\":2,\"1\":12.29,\"2\":2.83,\"3\":2.22,\"4\":18.0,\"5\":88,\"6\":2.45,\"7\":2.25,\"8\":0.25,\"9\":1.99,\"10\":2.15,\"11\":1.15,\"12\":3.3,\"13\":290},\"94\":{\"0\":2,\"1\":11.62,\"2\":1.99,\"3\":2.28,\"4\":18.0,\"5\":98,\"6\":3.02,\"7\":2.26,\"8\":0.17,\"9\":1.35,\"10\":3.25,\"11\":1.16,\"12\":2.96,\"13\":345},\"95\":{\"0\":2,\"1\":12.47,\"2\":1.52,\"3\":2.2,\"4\":19.0,\"5\":162,\"6\":2.5,\"7\":2.27,\"8\":0.32,\"9\":3.28,\"10\":2.6,\"11\":1.16,\"12\":2.63,\"13\":937},\"96\":{\"0\":2,\"1\":11.81,\"2\":2.12,\"3\":2.74,\"4\":21.5,\"5\":134,\"6\":1.6,\"7\":0.99,\"8\":0.14,\"9\":1.56,\"10\":2.5,\"11\":0.95,\"12\":2.26,\"13\":625},\"97\":{\"0\":2,\"1\":12.29,\"2\":1.41,\"3\":1.98,\"4\":16.0,\"5\":85,\"6\":2.55,\"7\":2.5,\"8\":0.29,\"9\":1.77,\"10\":2.9,\"11\":1.23,\"12\":2.74,\"13\":428},\"98\":{\"0\":2,\"1\":12.37,\"2\":1.07,\"3\":2.1,\"4\":18.5,\"5\":88,\"6\":3.52,\"7\":3.75,\"8\":0.24,\"9\":1.95,\"10\":4.5,\"11\":1.04,\"12\":2.77,\"13\":660},\"99\":{\"0\":2,\"1\":12.29,\"2\":3.17,\"3\":2.21,\"4\":18.0,\"5\":88,\"6\":2.85,\"7\":2.99,\"8\":0.45,\"9\":2.81,\"10\":2.3,\"11\":1.42,\"12\":2.83,\"13\":406},\"100\":{\"0\":2,\"1\":12.08,\"2\":2.08,\"3\":1.7,\"4\":17.5,\"5\":97,\"6\":2.23,\"7\":2.17,\"8\":0.26,\"9\":1.4,\"10\":3.3,\"11\":1.27,\"12\":2.96,\"13\":710},\"101\":{\"0\":2,\"1\":12.6,\"2\":1.34,\"3\":1.9,\"4\":18.5,\"5\":88,\"6\":1.45,\"7\":1.36,\"8\":0.29,\"9\":1.35,\"10\":2.45,\"11\":1.04,\"12\":2.77,\"13\":562},\"102\":{\"0\":2,\"1\":12.34,\"2\":2.45,\"3\":2.46,\"4\":21.0,\"5\":98,\"6\":2.56,\"7\":2.11,\"8\":0.34,\"9\":1.31,\"10\":2.8,\"11\":0.8,\"12\":3.38,\"13\":438},\"103\":{\"0\":2,\"1\":11.82,\"2\":1.72,\"3\":1.88,\"4\":19.5,\"5\":86,\"6\":2.5,\"7\":1.64,\"8\":0.37,\"9\":1.42,\"10\":2.06,\"11\":0.94,\"12\":2.44,\"13\":415},\"104\":{\"0\":2,\"1\":12.51,\"2\":1.73,\"3\":1.98,\"4\":20.5,\"5\":85,\"6\":2.2,\"7\":1.92,\"8\":0.32,\"9\":1.48,\"10\":2.94,\"11\":1.04,\"12\":3.57,\"13\":672},\"105\":{\"0\":2,\"1\":12.42,\"2\":2.55,\"3\":2.27,\"4\":22.0,\"5\":90,\"6\":1.68,\"7\":1.84,\"8\":0.66,\"9\":1.42,\"10\":2.7,\"11\":0.86,\"12\":3.3,\"13\":315},\"106\":{\"0\":2,\"1\":12.25,\"2\":1.73,\"3\":2.12,\"4\":19.0,\"5\":80,\"6\":1.65,\"7\":2.03,\"8\":0.37,\"9\":1.63,\"10\":3.4,\"11\":1.0,\"12\":3.17,\"13\":510},\"107\":{\"0\":2,\"1\":12.72,\"2\":1.75,\"3\":2.28,\"4\":22.5,\"5\":84,\"6\":1.38,\"7\":1.76,\"8\":0.48,\"9\":1.63,\"10\":3.3,\"11\":0.88,\"12\":2.42,\"13\":488},\"108\":{\"0\":2,\"1\":12.22,\"2\":1.29,\"3\":1.94,\"4\":19.0,\"5\":92,\"6\":2.36,\"7\":2.04,\"8\":0.39,\"9\":2.08,\"10\":2.7,\"11\":0.86,\"12\":3.02,\"13\":312},\"109\":{\"0\":2,\"1\":11.61,\"2\":1.35,\"3\":2.7,\"4\":20.0,\"5\":94,\"6\":2.74,\"7\":2.92,\"8\":0.29,\"9\":2.49,\"10\":2.65,\"11\":0.96,\"12\":3.26,\"13\":680},\"110\":{\"0\":2,\"1\":11.46,\"2\":3.74,\"3\":1.82,\"4\":19.5,\"5\":107,\"6\":3.18,\"7\":2.58,\"8\":0.24,\"9\":3.58,\"10\":2.9,\"11\":0.75,\"12\":2.81,\"13\":562},\"111\":{\"0\":2,\"1\":12.52,\"2\":2.43,\"3\":2.17,\"4\":21.0,\"5\":88,\"6\":2.55,\"7\":2.27,\"8\":0.26,\"9\":1.22,\"10\":2.0,\"11\":0.9,\"12\":2.78,\"13\":325},\"112\":{\"0\":2,\"1\":11.76,\"2\":2.68,\"3\":2.92,\"4\":20.0,\"5\":103,\"6\":1.75,\"7\":2.03,\"8\":0.6,\"9\":1.05,\"10\":3.8,\"11\":1.23,\"12\":2.5,\"13\":607},\"113\":{\"0\":2,\"1\":11.41,\"2\":0.74,\"3\":2.5,\"4\":21.0,\"5\":88,\"6\":2.48,\"7\":2.01,\"8\":0.42,\"9\":1.44,\"10\":3.08,\"11\":1.1,\"12\":2.31,\"13\":434},\"114\":{\"0\":2,\"1\":12.08,\"2\":1.39,\"3\":2.5,\"4\":22.5,\"5\":84,\"6\":2.56,\"7\":2.29,\"8\":0.43,\"9\":1.04,\"10\":2.9,\"11\":0.93,\"12\":3.19,\"13\":385},\"115\":{\"0\":2,\"1\":11.03,\"2\":1.51,\"3\":2.2,\"4\":21.5,\"5\":85,\"6\":2.46,\"7\":2.17,\"8\":0.52,\"9\":2.01,\"10\":1.9,\"11\":1.71,\"12\":2.87,\"13\":407},\"116\":{\"0\":2,\"1\":11.82,\"2\":1.47,\"3\":1.99,\"4\":20.8,\"5\":86,\"6\":1.98,\"7\":1.6,\"8\":0.3,\"9\":1.53,\"10\":1.95,\"11\":0.95,\"12\":3.33,\"13\":495},\"117\":{\"0\":2,\"1\":12.42,\"2\":1.61,\"3\":2.19,\"4\":22.5,\"5\":108,\"6\":2.0,\"7\":2.09,\"8\":0.34,\"9\":1.61,\"10\":2.06,\"11\":1.06,\"12\":2.96,\"13\":345},\"118\":{\"0\":2,\"1\":12.77,\"2\":3.43,\"3\":1.98,\"4\":16.0,\"5\":80,\"6\":1.63,\"7\":1.25,\"8\":0.43,\"9\":0.83,\"10\":3.4,\"11\":0.7,\"12\":2.12,\"13\":372},\"119\":{\"0\":2,\"1\":12.0,\"2\":3.43,\"3\":2.0,\"4\":19.0,\"5\":87,\"6\":2.0,\"7\":1.64,\"8\":0.37,\"9\":1.87,\"10\":1.28,\"11\":0.93,\"12\":3.05,\"13\":564},\"120\":{\"0\":2,\"1\":11.45,\"2\":2.4,\"3\":2.42,\"4\":20.0,\"5\":96,\"6\":2.9,\"7\":2.79,\"8\":0.32,\"9\":1.83,\"10\":3.25,\"11\":0.8,\"12\":3.39,\"13\":625},\"121\":{\"0\":2,\"1\":11.56,\"2\":2.05,\"3\":3.23,\"4\":28.5,\"5\":119,\"6\":3.18,\"7\":5.08,\"8\":0.47,\"9\":1.87,\"10\":6.0,\"11\":0.93,\"12\":3.69,\"13\":465},\"122\":{\"0\":2,\"1\":12.42,\"2\":4.43,\"3\":2.73,\"4\":26.5,\"5\":102,\"6\":2.2,\"7\":2.13,\"8\":0.43,\"9\":1.71,\"10\":2.08,\"11\":0.92,\"12\":3.12,\"13\":365},\"123\":{\"0\":2,\"1\":13.05,\"2\":5.8,\"3\":2.13,\"4\":21.5,\"5\":86,\"6\":2.62,\"7\":2.65,\"8\":0.3,\"9\":2.01,\"10\":2.6,\"11\":0.73,\"12\":3.1,\"13\":380},\"124\":{\"0\":2,\"1\":11.87,\"2\":4.31,\"3\":2.39,\"4\":21.0,\"5\":82,\"6\":2.86,\"7\":3.03,\"8\":0.21,\"9\":2.91,\"10\":2.8,\"11\":0.75,\"12\":3.64,\"13\":380},\"125\":{\"0\":2,\"1\":12.07,\"2\":2.16,\"3\":2.17,\"4\":21.0,\"5\":85,\"6\":2.6,\"7\":2.65,\"8\":0.37,\"9\":1.35,\"10\":2.76,\"11\":0.86,\"12\":3.28,\"13\":378},\"126\":{\"0\":2,\"1\":12.43,\"2\":1.53,\"3\":2.29,\"4\":21.5,\"5\":86,\"6\":2.74,\"7\":3.15,\"8\":0.39,\"9\":1.77,\"10\":3.94,\"11\":0.69,\"12\":2.84,\"13\":352},\"127\":{\"0\":2,\"1\":11.79,\"2\":2.13,\"3\":2.78,\"4\":28.5,\"5\":92,\"6\":2.13,\"7\":2.24,\"8\":0.58,\"9\":1.76,\"10\":3.0,\"11\":0.97,\"12\":2.44,\"13\":466},\"128\":{\"0\":2,\"1\":12.37,\"2\":1.63,\"3\":2.3,\"4\":24.5,\"5\":88,\"6\":2.22,\"7\":2.45,\"8\":0.4,\"9\":1.9,\"10\":2.12,\"11\":0.89,\"12\":2.78,\"13\":342},\"129\":{\"0\":2,\"1\":12.04,\"2\":4.3,\"3\":2.38,\"4\":22.0,\"5\":80,\"6\":2.1,\"7\":1.75,\"8\":0.42,\"9\":1.35,\"10\":2.6,\"11\":0.79,\"12\":2.57,\"13\":580},\"130\":{\"0\":3,\"1\":12.86,\"2\":1.35,\"3\":2.32,\"4\":18.0,\"5\":122,\"6\":1.51,\"7\":1.25,\"8\":0.21,\"9\":0.94,\"10\":4.1,\"11\":0.76,\"12\":1.29,\"13\":630},\"131\":{\"0\":3,\"1\":12.88,\"2\":2.99,\"3\":2.4,\"4\":20.0,\"5\":104,\"6\":1.3,\"7\":1.22,\"8\":0.24,\"9\":0.83,\"10\":5.4,\"11\":0.74,\"12\":1.42,\"13\":530},\"132\":{\"0\":3,\"1\":12.81,\"2\":2.31,\"3\":2.4,\"4\":24.0,\"5\":98,\"6\":1.15,\"7\":1.09,\"8\":0.27,\"9\":0.83,\"10\":5.7,\"11\":0.66,\"12\":1.36,\"13\":560},\"133\":{\"0\":3,\"1\":12.7,\"2\":3.55,\"3\":2.36,\"4\":21.5,\"5\":106,\"6\":1.7,\"7\":1.2,\"8\":0.17,\"9\":0.84,\"10\":5.0,\"11\":0.78,\"12\":1.29,\"13\":600},\"134\":{\"0\":3,\"1\":12.51,\"2\":1.24,\"3\":2.25,\"4\":17.5,\"5\":85,\"6\":2.0,\"7\":0.58,\"8\":0.6,\"9\":1.25,\"10\":5.45,\"11\":0.75,\"12\":1.51,\"13\":650},\"135\":{\"0\":3,\"1\":12.6,\"2\":2.46,\"3\":2.2,\"4\":18.5,\"5\":94,\"6\":1.62,\"7\":0.66,\"8\":0.63,\"9\":0.94,\"10\":7.1,\"11\":0.73,\"12\":1.58,\"13\":695},\"136\":{\"0\":3,\"1\":12.25,\"2\":4.72,\"3\":2.54,\"4\":21.0,\"5\":89,\"6\":1.38,\"7\":0.47,\"8\":0.53,\"9\":0.8,\"10\":3.85,\"11\":0.75,\"12\":1.27,\"13\":720},\"137\":{\"0\":3,\"1\":12.53,\"2\":5.51,\"3\":2.64,\"4\":25.0,\"5\":96,\"6\":1.79,\"7\":0.6,\"8\":0.63,\"9\":1.1,\"10\":5.0,\"11\":0.82,\"12\":1.69,\"13\":515},\"138\":{\"0\":3,\"1\":13.49,\"2\":3.59,\"3\":2.19,\"4\":19.5,\"5\":88,\"6\":1.62,\"7\":0.48,\"8\":0.58,\"9\":0.88,\"10\":5.7,\"11\":0.81,\"12\":1.82,\"13\":580},\"139\":{\"0\":3,\"1\":12.84,\"2\":2.96,\"3\":2.61,\"4\":24.0,\"5\":101,\"6\":2.32,\"7\":0.6,\"8\":0.53,\"9\":0.81,\"10\":4.92,\"11\":0.89,\"12\":2.15,\"13\":590},\"140\":{\"0\":3,\"1\":12.93,\"2\":2.81,\"3\":2.7,\"4\":21.0,\"5\":96,\"6\":1.54,\"7\":0.5,\"8\":0.53,\"9\":0.75,\"10\":4.6,\"11\":0.77,\"12\":2.31,\"13\":600},\"141\":{\"0\":3,\"1\":13.36,\"2\":2.56,\"3\":2.35,\"4\":20.0,\"5\":89,\"6\":1.4,\"7\":0.5,\"8\":0.37,\"9\":0.64,\"10\":5.6,\"11\":0.7,\"12\":2.47,\"13\":780},\"142\":{\"0\":3,\"1\":13.52,\"2\":3.17,\"3\":2.72,\"4\":23.5,\"5\":97,\"6\":1.55,\"7\":0.52,\"8\":0.5,\"9\":0.55,\"10\":4.35,\"11\":0.89,\"12\":2.06,\"13\":520},\"143\":{\"0\":3,\"1\":13.62,\"2\":4.95,\"3\":2.35,\"4\":20.0,\"5\":92,\"6\":2.0,\"7\":0.8,\"8\":0.47,\"9\":1.02,\"10\":4.4,\"11\":0.91,\"12\":2.05,\"13\":550},\"144\":{\"0\":3,\"1\":12.25,\"2\":3.88,\"3\":2.2,\"4\":18.5,\"5\":112,\"6\":1.38,\"7\":0.78,\"8\":0.29,\"9\":1.14,\"10\":8.21,\"11\":0.65,\"12\":2.0,\"13\":855},\"145\":{\"0\":3,\"1\":13.16,\"2\":3.57,\"3\":2.15,\"4\":21.0,\"5\":102,\"6\":1.5,\"7\":0.55,\"8\":0.43,\"9\":1.3,\"10\":4.0,\"11\":0.6,\"12\":1.68,\"13\":830},\"146\":{\"0\":3,\"1\":13.88,\"2\":5.04,\"3\":2.23,\"4\":20.0,\"5\":80,\"6\":0.98,\"7\":0.34,\"8\":0.4,\"9\":0.68,\"10\":4.9,\"11\":0.58,\"12\":1.33,\"13\":415},\"147\":{\"0\":3,\"1\":12.87,\"2\":4.61,\"3\":2.48,\"4\":21.5,\"5\":86,\"6\":1.7,\"7\":0.65,\"8\":0.47,\"9\":0.86,\"10\":7.65,\"11\":0.54,\"12\":1.86,\"13\":625},\"148\":{\"0\":3,\"1\":13.32,\"2\":3.24,\"3\":2.38,\"4\":21.5,\"5\":92,\"6\":1.93,\"7\":0.76,\"8\":0.45,\"9\":1.25,\"10\":8.42,\"11\":0.55,\"12\":1.62,\"13\":650},\"149\":{\"0\":3,\"1\":13.08,\"2\":3.9,\"3\":2.36,\"4\":21.5,\"5\":113,\"6\":1.41,\"7\":1.39,\"8\":0.34,\"9\":1.14,\"10\":9.4,\"11\":0.57,\"12\":1.33,\"13\":550},\"150\":{\"0\":3,\"1\":13.5,\"2\":3.12,\"3\":2.62,\"4\":24.0,\"5\":123,\"6\":1.4,\"7\":1.57,\"8\":0.22,\"9\":1.25,\"10\":8.6,\"11\":0.59,\"12\":1.3,\"13\":500},\"151\":{\"0\":3,\"1\":12.79,\"2\":2.67,\"3\":2.48,\"4\":22.0,\"5\":112,\"6\":1.48,\"7\":1.36,\"8\":0.24,\"9\":1.26,\"10\":10.8,\"11\":0.48,\"12\":1.47,\"13\":480},\"152\":{\"0\":3,\"1\":13.11,\"2\":1.9,\"3\":2.75,\"4\":25.5,\"5\":116,\"6\":2.2,\"7\":1.28,\"8\":0.26,\"9\":1.56,\"10\":7.1,\"11\":0.61,\"12\":1.33,\"13\":425},\"153\":{\"0\":3,\"1\":13.23,\"2\":3.3,\"3\":2.28,\"4\":18.5,\"5\":98,\"6\":1.8,\"7\":0.83,\"8\":0.61,\"9\":1.87,\"10\":10.52,\"11\":0.56,\"12\":1.51,\"13\":675},\"154\":{\"0\":3,\"1\":12.58,\"2\":1.29,\"3\":2.1,\"4\":20.0,\"5\":103,\"6\":1.48,\"7\":0.58,\"8\":0.53,\"9\":1.4,\"10\":7.6,\"11\":0.58,\"12\":1.55,\"13\":640},\"155\":{\"0\":3,\"1\":13.17,\"2\":5.19,\"3\":2.32,\"4\":22.0,\"5\":93,\"6\":1.74,\"7\":0.63,\"8\":0.61,\"9\":1.55,\"10\":7.9,\"11\":0.6,\"12\":1.48,\"13\":725},\"156\":{\"0\":3,\"1\":13.84,\"2\":4.12,\"3\":2.38,\"4\":19.5,\"5\":89,\"6\":1.8,\"7\":0.83,\"8\":0.48,\"9\":1.56,\"10\":9.01,\"11\":0.57,\"12\":1.64,\"13\":480},\"157\":{\"0\":3,\"1\":12.45,\"2\":3.03,\"3\":2.64,\"4\":27.0,\"5\":97,\"6\":1.9,\"7\":0.58,\"8\":0.63,\"9\":1.14,\"10\":7.5,\"11\":0.67,\"12\":1.73,\"13\":880},\"158\":{\"0\":3,\"1\":14.34,\"2\":1.68,\"3\":2.7,\"4\":25.0,\"5\":98,\"6\":2.8,\"7\":1.31,\"8\":0.53,\"9\":2.7,\"10\":13.0,\"11\":0.57,\"12\":1.96,\"13\":660},\"159\":{\"0\":3,\"1\":13.48,\"2\":1.67,\"3\":2.64,\"4\":22.5,\"5\":89,\"6\":2.6,\"7\":1.1,\"8\":0.52,\"9\":2.29,\"10\":11.75,\"11\":0.57,\"12\":1.78,\"13\":620},\"160\":{\"0\":3,\"1\":12.36,\"2\":3.83,\"3\":2.38,\"4\":21.0,\"5\":88,\"6\":2.3,\"7\":0.92,\"8\":0.5,\"9\":1.04,\"10\":7.65,\"11\":0.56,\"12\":1.58,\"13\":520},\"161\":{\"0\":3,\"1\":13.69,\"2\":3.26,\"3\":2.54,\"4\":20.0,\"5\":107,\"6\":1.83,\"7\":0.56,\"8\":0.5,\"9\":0.8,\"10\":5.88,\"11\":0.96,\"12\":1.82,\"13\":680},\"162\":{\"0\":3,\"1\":12.85,\"2\":3.27,\"3\":2.58,\"4\":22.0,\"5\":106,\"6\":1.65,\"7\":0.6,\"8\":0.6,\"9\":0.96,\"10\":5.58,\"11\":0.87,\"12\":2.11,\"13\":570},\"163\":{\"0\":3,\"1\":12.96,\"2\":3.45,\"3\":2.35,\"4\":18.5,\"5\":106,\"6\":1.39,\"7\":0.7,\"8\":0.4,\"9\":0.94,\"10\":5.28,\"11\":0.68,\"12\":1.75,\"13\":675},\"164\":{\"0\":3,\"1\":13.78,\"2\":2.76,\"3\":2.3,\"4\":22.0,\"5\":90,\"6\":1.35,\"7\":0.68,\"8\":0.41,\"9\":1.03,\"10\":9.58,\"11\":0.7,\"12\":1.68,\"13\":615},\"165\":{\"0\":3,\"1\":13.73,\"2\":4.36,\"3\":2.26,\"4\":22.5,\"5\":88,\"6\":1.28,\"7\":0.47,\"8\":0.52,\"9\":1.15,\"10\":6.62,\"11\":0.78,\"12\":1.75,\"13\":520},\"166\":{\"0\":3,\"1\":13.45,\"2\":3.7,\"3\":2.6,\"4\":23.0,\"5\":111,\"6\":1.7,\"7\":0.92,\"8\":0.43,\"9\":1.46,\"10\":10.68,\"11\":0.85,\"12\":1.56,\"13\":695},\"167\":{\"0\":3,\"1\":12.82,\"2\":3.37,\"3\":2.3,\"4\":19.5,\"5\":88,\"6\":1.48,\"7\":0.66,\"8\":0.4,\"9\":0.97,\"10\":10.26,\"11\":0.72,\"12\":1.75,\"13\":685},\"168\":{\"0\":3,\"1\":13.58,\"2\":2.58,\"3\":2.69,\"4\":24.5,\"5\":105,\"6\":1.55,\"7\":0.84,\"8\":0.39,\"9\":1.54,\"10\":8.66,\"11\":0.74,\"12\":1.8,\"13\":750},\"169\":{\"0\":3,\"1\":13.4,\"2\":4.6,\"3\":2.86,\"4\":25.0,\"5\":112,\"6\":1.98,\"7\":0.96,\"8\":0.27,\"9\":1.11,\"10\":8.5,\"11\":0.67,\"12\":1.92,\"13\":630},\"170\":{\"0\":3,\"1\":12.2,\"2\":3.03,\"3\":2.32,\"4\":19.0,\"5\":96,\"6\":1.25,\"7\":0.49,\"8\":0.4,\"9\":0.73,\"10\":5.5,\"11\":0.66,\"12\":1.83,\"13\":510},\"171\":{\"0\":3,\"1\":12.77,\"2\":2.39,\"3\":2.28,\"4\":19.5,\"5\":86,\"6\":1.39,\"7\":0.51,\"8\":0.48,\"9\":0.64,\"10\":9.899999,\"11\":0.57,\"12\":1.63,\"13\":470},\"172\":{\"0\":3,\"1\":14.16,\"2\":2.51,\"3\":2.48,\"4\":20.0,\"5\":91,\"6\":1.68,\"7\":0.7,\"8\":0.44,\"9\":1.24,\"10\":9.7,\"11\":0.62,\"12\":1.71,\"13\":660},\"173\":{\"0\":3,\"1\":13.71,\"2\":5.65,\"3\":2.45,\"4\":20.5,\"5\":95,\"6\":1.68,\"7\":0.61,\"8\":0.52,\"9\":1.06,\"10\":7.7,\"11\":0.64,\"12\":1.74,\"13\":740},\"174\":{\"0\":3,\"1\":13.4,\"2\":3.91,\"3\":2.48,\"4\":23.0,\"5\":102,\"6\":1.8,\"7\":0.75,\"8\":0.43,\"9\":1.41,\"10\":7.3,\"11\":0.7,\"12\":1.56,\"13\":750},\"175\":{\"0\":3,\"1\":13.27,\"2\":4.28,\"3\":2.26,\"4\":20.0,\"5\":120,\"6\":1.59,\"7\":0.69,\"8\":0.43,\"9\":1.35,\"10\":10.2,\"11\":0.59,\"12\":1.56,\"13\":835},\"176\":{\"0\":3,\"1\":13.17,\"2\":2.59,\"3\":2.37,\"4\":20.0,\"5\":120,\"6\":1.65,\"7\":0.68,\"8\":0.53,\"9\":1.46,\"10\":9.3,\"11\":0.6,\"12\":1.62,\"13\":840},\"177\":{\"0\":3,\"1\":14.13,\"2\":4.1,\"3\":2.74,\"4\":24.5,\"5\":96,\"6\":2.05,\"7\":0.76,\"8\":0.56,\"9\":1.35,\"10\":9.2,\"11\":0.61,\"12\":1.6,\"13\":560}}'"
      ]
     },
     "execution_count": 19,
     "metadata": {},
     "output_type": "execute_result"
    }
   ],
   "source": [
    "# convert json to different json formats\n",
    "df.to_json(orient='index')"
   ]
  },
  {
   "cell_type": "code",
   "execution_count": null,
   "id": "bdd4f458",
   "metadata": {},
   "outputs": [],
   "source": []
  },
  {
   "cell_type": "markdown",
   "id": "aa3b5fe2",
   "metadata": {},
   "source": [
    "# 5) HTML by pandas"
   ]
  },
  {
   "cell_type": "markdown",
   "id": "aa911975",
   "metadata": {},
   "source": [
    "## 5.1)Reading html content"
   ]
  },
  {
   "cell_type": "code",
   "execution_count": 26,
   "id": "0dd8e68a",
   "metadata": {
    "scrolled": true
   },
   "outputs": [
    {
     "ename": "ImportError",
     "evalue": "html5lib not found, please install it",
     "output_type": "error",
     "traceback": [
      "\u001b[0;31m---------------------------------------------------------------------------\u001b[0m",
      "\u001b[0;31mImportError\u001b[0m                               Traceback (most recent call last)",
      "\u001b[0;32m/var/folders/99/bpjbh7v565j2_dj9h91d6tmr0000gn/T/ipykernel_1216/2600589454.py\u001b[0m in \u001b[0;36m<module>\u001b[0;34m\u001b[0m\n\u001b[1;32m      1\u001b[0m \u001b[0murl\u001b[0m \u001b[0;34m=\u001b[0m \u001b[0;34m'https://www.fdic.gov/bank/individual/failed/banklist.html'\u001b[0m\u001b[0;34m\u001b[0m\u001b[0;34m\u001b[0m\u001b[0m\n\u001b[1;32m      2\u001b[0m \u001b[0;34m\u001b[0m\u001b[0m\n\u001b[0;32m----> 3\u001b[0;31m \u001b[0mdfs\u001b[0m \u001b[0;34m=\u001b[0m \u001b[0mpd\u001b[0m\u001b[0;34m.\u001b[0m\u001b[0mread_html\u001b[0m\u001b[0;34m(\u001b[0m\u001b[0murl\u001b[0m\u001b[0;34m)\u001b[0m\u001b[0;34m\u001b[0m\u001b[0;34m\u001b[0m\u001b[0m\n\u001b[0m",
      "\u001b[0;32m~/opt/anaconda3/lib/python3.9/site-packages/pandas/util/_decorators.py\u001b[0m in \u001b[0;36mwrapper\u001b[0;34m(*args, **kwargs)\u001b[0m\n\u001b[1;32m    309\u001b[0m                     \u001b[0mstacklevel\u001b[0m\u001b[0;34m=\u001b[0m\u001b[0mstacklevel\u001b[0m\u001b[0;34m,\u001b[0m\u001b[0;34m\u001b[0m\u001b[0;34m\u001b[0m\u001b[0m\n\u001b[1;32m    310\u001b[0m                 )\n\u001b[0;32m--> 311\u001b[0;31m             \u001b[0;32mreturn\u001b[0m \u001b[0mfunc\u001b[0m\u001b[0;34m(\u001b[0m\u001b[0;34m*\u001b[0m\u001b[0margs\u001b[0m\u001b[0;34m,\u001b[0m \u001b[0;34m**\u001b[0m\u001b[0mkwargs\u001b[0m\u001b[0;34m)\u001b[0m\u001b[0;34m\u001b[0m\u001b[0;34m\u001b[0m\u001b[0m\n\u001b[0m\u001b[1;32m    312\u001b[0m \u001b[0;34m\u001b[0m\u001b[0m\n\u001b[1;32m    313\u001b[0m         \u001b[0;32mreturn\u001b[0m \u001b[0mwrapper\u001b[0m\u001b[0;34m\u001b[0m\u001b[0;34m\u001b[0m\u001b[0m\n",
      "\u001b[0;32m~/opt/anaconda3/lib/python3.9/site-packages/pandas/io/html.py\u001b[0m in \u001b[0;36mread_html\u001b[0;34m(io, match, flavor, header, index_col, skiprows, attrs, parse_dates, thousands, encoding, decimal, converters, na_values, keep_default_na, displayed_only)\u001b[0m\n\u001b[1;32m   1111\u001b[0m     \u001b[0mio\u001b[0m \u001b[0;34m=\u001b[0m \u001b[0mstringify_path\u001b[0m\u001b[0;34m(\u001b[0m\u001b[0mio\u001b[0m\u001b[0;34m)\u001b[0m\u001b[0;34m\u001b[0m\u001b[0;34m\u001b[0m\u001b[0m\n\u001b[1;32m   1112\u001b[0m \u001b[0;34m\u001b[0m\u001b[0m\n\u001b[0;32m-> 1113\u001b[0;31m     return _parse(\n\u001b[0m\u001b[1;32m   1114\u001b[0m         \u001b[0mflavor\u001b[0m\u001b[0;34m=\u001b[0m\u001b[0mflavor\u001b[0m\u001b[0;34m,\u001b[0m\u001b[0;34m\u001b[0m\u001b[0;34m\u001b[0m\u001b[0m\n\u001b[1;32m   1115\u001b[0m         \u001b[0mio\u001b[0m\u001b[0;34m=\u001b[0m\u001b[0mio\u001b[0m\u001b[0;34m,\u001b[0m\u001b[0;34m\u001b[0m\u001b[0;34m\u001b[0m\u001b[0m\n",
      "\u001b[0;32m~/opt/anaconda3/lib/python3.9/site-packages/pandas/io/html.py\u001b[0m in \u001b[0;36m_parse\u001b[0;34m(flavor, io, match, attrs, encoding, displayed_only, **kwargs)\u001b[0m\n\u001b[1;32m    913\u001b[0m     \u001b[0mretained\u001b[0m \u001b[0;34m=\u001b[0m \u001b[0;32mNone\u001b[0m\u001b[0;34m\u001b[0m\u001b[0;34m\u001b[0m\u001b[0m\n\u001b[1;32m    914\u001b[0m     \u001b[0;32mfor\u001b[0m \u001b[0mflav\u001b[0m \u001b[0;32min\u001b[0m \u001b[0mflavor\u001b[0m\u001b[0;34m:\u001b[0m\u001b[0;34m\u001b[0m\u001b[0;34m\u001b[0m\u001b[0m\n\u001b[0;32m--> 915\u001b[0;31m         \u001b[0mparser\u001b[0m \u001b[0;34m=\u001b[0m \u001b[0m_parser_dispatch\u001b[0m\u001b[0;34m(\u001b[0m\u001b[0mflav\u001b[0m\u001b[0;34m)\u001b[0m\u001b[0;34m\u001b[0m\u001b[0;34m\u001b[0m\u001b[0m\n\u001b[0m\u001b[1;32m    916\u001b[0m         \u001b[0mp\u001b[0m \u001b[0;34m=\u001b[0m \u001b[0mparser\u001b[0m\u001b[0;34m(\u001b[0m\u001b[0mio\u001b[0m\u001b[0;34m,\u001b[0m \u001b[0mcompiled_match\u001b[0m\u001b[0;34m,\u001b[0m \u001b[0mattrs\u001b[0m\u001b[0;34m,\u001b[0m \u001b[0mencoding\u001b[0m\u001b[0;34m,\u001b[0m \u001b[0mdisplayed_only\u001b[0m\u001b[0;34m)\u001b[0m\u001b[0;34m\u001b[0m\u001b[0;34m\u001b[0m\u001b[0m\n\u001b[1;32m    917\u001b[0m \u001b[0;34m\u001b[0m\u001b[0m\n",
      "\u001b[0;32m~/opt/anaconda3/lib/python3.9/site-packages/pandas/io/html.py\u001b[0m in \u001b[0;36m_parser_dispatch\u001b[0;34m(flavor)\u001b[0m\n\u001b[1;32m    862\u001b[0m     \u001b[0;32mif\u001b[0m \u001b[0mflavor\u001b[0m \u001b[0;32min\u001b[0m \u001b[0;34m(\u001b[0m\u001b[0;34m\"bs4\"\u001b[0m\u001b[0;34m,\u001b[0m \u001b[0;34m\"html5lib\"\u001b[0m\u001b[0;34m)\u001b[0m\u001b[0;34m:\u001b[0m\u001b[0;34m\u001b[0m\u001b[0;34m\u001b[0m\u001b[0m\n\u001b[1;32m    863\u001b[0m         \u001b[0;32mif\u001b[0m \u001b[0;32mnot\u001b[0m \u001b[0m_HAS_HTML5LIB\u001b[0m\u001b[0;34m:\u001b[0m\u001b[0;34m\u001b[0m\u001b[0;34m\u001b[0m\u001b[0m\n\u001b[0;32m--> 864\u001b[0;31m             \u001b[0;32mraise\u001b[0m \u001b[0mImportError\u001b[0m\u001b[0;34m(\u001b[0m\u001b[0;34m\"html5lib not found, please install it\"\u001b[0m\u001b[0;34m)\u001b[0m\u001b[0;34m\u001b[0m\u001b[0;34m\u001b[0m\u001b[0m\n\u001b[0m\u001b[1;32m    865\u001b[0m         \u001b[0;32mif\u001b[0m \u001b[0;32mnot\u001b[0m \u001b[0m_HAS_BS4\u001b[0m\u001b[0;34m:\u001b[0m\u001b[0;34m\u001b[0m\u001b[0;34m\u001b[0m\u001b[0m\n\u001b[1;32m    866\u001b[0m             \u001b[0;32mraise\u001b[0m \u001b[0mImportError\u001b[0m\u001b[0;34m(\u001b[0m\u001b[0;34m\"BeautifulSoup4 (bs4) not found, please install it\"\u001b[0m\u001b[0;34m)\u001b[0m\u001b[0;34m\u001b[0m\u001b[0;34m\u001b[0m\u001b[0m\n",
      "\u001b[0;31mImportError\u001b[0m: html5lib not found, please install it"
     ]
    }
   ],
   "source": [
    "url = 'https://www.fdic.gov/bank/individual/failed/banklist.html'\n",
    "\n",
    "dfs = pd.read_html(url)"
   ]
  },
  {
   "cell_type": "code",
   "execution_count": 27,
   "id": "e53c03b2",
   "metadata": {},
   "outputs": [
    {
     "ename": "NameError",
     "evalue": "name 'dfs' is not defined",
     "output_type": "error",
     "traceback": [
      "\u001b[0;31m---------------------------------------------------------------------------\u001b[0m",
      "\u001b[0;31mNameError\u001b[0m                                 Traceback (most recent call last)",
      "\u001b[0;32m/var/folders/99/bpjbh7v565j2_dj9h91d6tmr0000gn/T/ipykernel_1216/2306017439.py\u001b[0m in \u001b[0;36m<module>\u001b[0;34m\u001b[0m\n\u001b[0;32m----> 1\u001b[0;31m \u001b[0mdfs\u001b[0m\u001b[0;34m[\u001b[0m\u001b[0;36m0\u001b[0m\u001b[0;34m]\u001b[0m\u001b[0;34m\u001b[0m\u001b[0;34m\u001b[0m\u001b[0m\n\u001b[0m",
      "\u001b[0;31mNameError\u001b[0m: name 'dfs' is not defined"
     ]
    }
   ],
   "source": [
    "dfs[0]"
   ]
  },
  {
   "cell_type": "code",
   "execution_count": 32,
   "id": "8c0d31f8",
   "metadata": {
    "scrolled": true
   },
   "outputs": [
    {
     "data": {
      "text/html": [
       "<div>\n",
       "<style scoped>\n",
       "    .dataframe tbody tr th:only-of-type {\n",
       "        vertical-align: middle;\n",
       "    }\n",
       "\n",
       "    .dataframe tbody tr th {\n",
       "        vertical-align: top;\n",
       "    }\n",
       "\n",
       "    .dataframe thead th {\n",
       "        text-align: right;\n",
       "    }\n",
       "</style>\n",
       "<table border=\"1\" class=\"dataframe\">\n",
       "  <thead>\n",
       "    <tr style=\"text-align: right;\">\n",
       "      <th></th>\n",
       "      <th>Mobile country code</th>\n",
       "      <th>Country</th>\n",
       "      <th>ISO 3166</th>\n",
       "      <th>Mobile network codes</th>\n",
       "      <th>National MNC authority</th>\n",
       "      <th>Remarks</th>\n",
       "    </tr>\n",
       "  </thead>\n",
       "  <tbody>\n",
       "    <tr>\n",
       "      <th>0</th>\n",
       "      <td>289</td>\n",
       "      <td>A Abkhazia</td>\n",
       "      <td>GE-AB</td>\n",
       "      <td>List of mobile network codes in Abkhazia</td>\n",
       "      <td>NaN</td>\n",
       "      <td>MCC is not listed by ITU</td>\n",
       "    </tr>\n",
       "    <tr>\n",
       "      <th>1</th>\n",
       "      <td>412</td>\n",
       "      <td>Afghanistan</td>\n",
       "      <td>AF</td>\n",
       "      <td>List of mobile network codes in Afghanistan</td>\n",
       "      <td>NaN</td>\n",
       "      <td>NaN</td>\n",
       "    </tr>\n",
       "    <tr>\n",
       "      <th>2</th>\n",
       "      <td>276</td>\n",
       "      <td>Albania</td>\n",
       "      <td>AL</td>\n",
       "      <td>List of mobile network codes in Albania</td>\n",
       "      <td>NaN</td>\n",
       "      <td>NaN</td>\n",
       "    </tr>\n",
       "    <tr>\n",
       "      <th>3</th>\n",
       "      <td>603</td>\n",
       "      <td>Algeria</td>\n",
       "      <td>DZ</td>\n",
       "      <td>List of mobile network codes in Algeria</td>\n",
       "      <td>NaN</td>\n",
       "      <td>NaN</td>\n",
       "    </tr>\n",
       "    <tr>\n",
       "      <th>4</th>\n",
       "      <td>544</td>\n",
       "      <td>American Samoa (United States of America)</td>\n",
       "      <td>AS</td>\n",
       "      <td>List of mobile network codes in American Samoa</td>\n",
       "      <td>NaN</td>\n",
       "      <td>NaN</td>\n",
       "    </tr>\n",
       "    <tr>\n",
       "      <th>...</th>\n",
       "      <td>...</td>\n",
       "      <td>...</td>\n",
       "      <td>...</td>\n",
       "      <td>...</td>\n",
       "      <td>...</td>\n",
       "      <td>...</td>\n",
       "    </tr>\n",
       "    <tr>\n",
       "      <th>247</th>\n",
       "      <td>452</td>\n",
       "      <td>Vietnam</td>\n",
       "      <td>VN</td>\n",
       "      <td>List of mobile network codes in the Vietnam</td>\n",
       "      <td>NaN</td>\n",
       "      <td>NaN</td>\n",
       "    </tr>\n",
       "    <tr>\n",
       "      <th>248</th>\n",
       "      <td>543</td>\n",
       "      <td>W Wallis and Futuna</td>\n",
       "      <td>WF</td>\n",
       "      <td>List of mobile network codes in Wallis and Futuna</td>\n",
       "      <td>NaN</td>\n",
       "      <td>NaN</td>\n",
       "    </tr>\n",
       "    <tr>\n",
       "      <th>249</th>\n",
       "      <td>421</td>\n",
       "      <td>Y Yemen</td>\n",
       "      <td>YE</td>\n",
       "      <td>List of mobile network codes in the Yemen</td>\n",
       "      <td>NaN</td>\n",
       "      <td>NaN</td>\n",
       "    </tr>\n",
       "    <tr>\n",
       "      <th>250</th>\n",
       "      <td>645</td>\n",
       "      <td>Z Zambia</td>\n",
       "      <td>ZM</td>\n",
       "      <td>List of mobile network codes in Zambia</td>\n",
       "      <td>NaN</td>\n",
       "      <td>NaN</td>\n",
       "    </tr>\n",
       "    <tr>\n",
       "      <th>251</th>\n",
       "      <td>648</td>\n",
       "      <td>Zimbabwe</td>\n",
       "      <td>ZW</td>\n",
       "      <td>List of mobile network codes in Zimbabwe</td>\n",
       "      <td>NaN</td>\n",
       "      <td>NaN</td>\n",
       "    </tr>\n",
       "  </tbody>\n",
       "</table>\n",
       "<p>252 rows × 6 columns</p>\n",
       "</div>"
      ],
      "text/plain": [
       "     Mobile country code                                    Country ISO 3166  \\\n",
       "0                    289                                 A Abkhazia    GE-AB   \n",
       "1                    412                                Afghanistan       AF   \n",
       "2                    276                                    Albania       AL   \n",
       "3                    603                                    Algeria       DZ   \n",
       "4                    544  American Samoa (United States of America)       AS   \n",
       "..                   ...                                        ...      ...   \n",
       "247                  452                                    Vietnam       VN   \n",
       "248                  543                        W Wallis and Futuna       WF   \n",
       "249                  421                                    Y Yemen       YE   \n",
       "250                  645                                   Z Zambia       ZM   \n",
       "251                  648                                   Zimbabwe       ZW   \n",
       "\n",
       "                                  Mobile network codes National MNC authority  \\\n",
       "0             List of mobile network codes in Abkhazia                    NaN   \n",
       "1          List of mobile network codes in Afghanistan                    NaN   \n",
       "2              List of mobile network codes in Albania                    NaN   \n",
       "3              List of mobile network codes in Algeria                    NaN   \n",
       "4       List of mobile network codes in American Samoa                    NaN   \n",
       "..                                                 ...                    ...   \n",
       "247        List of mobile network codes in the Vietnam                    NaN   \n",
       "248  List of mobile network codes in Wallis and Futuna                    NaN   \n",
       "249          List of mobile network codes in the Yemen                    NaN   \n",
       "250             List of mobile network codes in Zambia                    NaN   \n",
       "251           List of mobile network codes in Zimbabwe                    NaN   \n",
       "\n",
       "                      Remarks  \n",
       "0    MCC is not listed by ITU  \n",
       "1                         NaN  \n",
       "2                         NaN  \n",
       "3                         NaN  \n",
       "4                         NaN  \n",
       "..                        ...  \n",
       "247                       NaN  \n",
       "248                       NaN  \n",
       "249                       NaN  \n",
       "250                       NaN  \n",
       "251                       NaN  \n",
       "\n",
       "[252 rows x 6 columns]"
      ]
     },
     "execution_count": 32,
     "metadata": {},
     "output_type": "execute_result"
    }
   ],
   "source": [
    "url_mcc = 'https://en.wikipedia.org/wiki/Mobile_country_code'\n",
    "dfs = pd.read_html(url_mcc, match='Mobile network codes',header=0)\n",
    "dfs[0]"
   ]
  },
  {
   "cell_type": "code",
   "execution_count": null,
   "id": "d6d9c10e",
   "metadata": {},
   "outputs": [],
   "source": []
  }
 ],
 "metadata": {
  "kernelspec": {
   "display_name": "Python 3 (ipykernel)",
   "language": "python",
   "name": "python3"
  },
  "language_info": {
   "codemirror_mode": {
    "name": "ipython",
    "version": 3
   },
   "file_extension": ".py",
   "mimetype": "text/x-python",
   "name": "python",
   "nbconvert_exporter": "python",
   "pygments_lexer": "ipython3",
   "version": "3.9.13"
  },
  "toc": {
   "base_numbering": 1,
   "nav_menu": {},
   "number_sections": true,
   "sideBar": true,
   "skip_h1_title": false,
   "title_cell": "Table of Contents",
   "title_sidebar": "Contents",
   "toc_cell": false,
   "toc_position": {},
   "toc_section_display": true,
   "toc_window_display": true
  }
 },
 "nbformat": 4,
 "nbformat_minor": 5
}
