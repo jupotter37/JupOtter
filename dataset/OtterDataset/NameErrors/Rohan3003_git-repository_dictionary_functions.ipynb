{
 "cells": [
  {
   "cell_type": "markdown",
   "metadata": {},
   "source": [
    "dictionary creation\n",
    "\n",
    "dictionary methods\n",
    "1) dict.get()\n",
    "2) dict.items()\n",
    "3) dict.values()\n",
    "4) dict.pop() - to remove an k-v pair based in key\n",
    "5) dict.popitem() \n",
    "6) dict.update(dictionary()) - to extend one dictionary with new dictionary values passed to it.\n",
    "7) dict.copy()\n",
    "8) dict.clear()\n",
    "\n",
    "merging of dictionaries\n",
    "\n",
    "sorting in dictionary\n",
    "\n",
    "dictionary comprehension\n",
    "\n",
    "inversion of key-value to value-key in dictionary\n",
    "\n",
    "Problems in dictionary\n",
    "\n",
    "Dictionary - what is the output of the following code?\n",
    "\n"
   ]
  },
  {
   "cell_type": "code",
   "execution_count": null,
   "metadata": {},
   "outputs": [],
   "source": [
    "# dict.get() method\n",
    "\n",
    "#https://www.programiz.com/python-programming/methods/dictionary/get\n",
    "\n",
    "# dict = {\"key1\":\"value1\",\\\n",
    "#         \"key2\":\"value2\"}"
   ]
  },
  {
   "cell_type": "code",
   "execution_count": 4,
   "metadata": {},
   "outputs": [
    {
     "data": {
      "text/plain": [
       "3"
      ]
     },
     "execution_count": 4,
     "metadata": {},
     "output_type": "execute_result"
    }
   ],
   "source": [
    "data = {\n",
    "    \"conf\": {\n",
    "        \"status\": \"success\",\n",
    "        \"message\": \"Configuration loaded successfully.\",\n",
    "        \"data\": {\n",
    "            \"version\": \"1.0.0\",\n",
    "            \"env\": \"production\",\n",
    "            \"settings\": {\n",
    "                \"debug\": False,\n",
    "                \"log_level\": \"info\"\n",
    "            }\n",
    "        }\n",
    "    },\n",
    "    \"state\": \"FAILED\"\n",
    "}\n",
    "len(data.get('conf',None))"
   ]
  },
  {
   "cell_type": "code",
   "execution_count": 7,
   "metadata": {},
   "outputs": [
    {
     "name": "stdout",
     "output_type": "stream",
     "text": [
      "failed\n"
     ]
    }
   ],
   "source": [
    "status = data.get(\"state\").lower()\n",
    "print(status)"
   ]
  },
  {
   "cell_type": "code",
   "execution_count": null,
   "metadata": {},
   "outputs": [],
   "source": []
  },
  {
   "cell_type": "code",
   "execution_count": 6,
   "metadata": {},
   "outputs": [
    {
     "ename": "NameError",
     "evalue": "name 'null' is not defined",
     "output_type": "error",
     "traceback": [
      "\u001b[1;31m---------------------------------------------------------------------------\u001b[0m",
      "\u001b[1;31mNameError\u001b[0m                                 Traceback (most recent call last)",
      "Cell \u001b[1;32mIn[6], line 7\u001b[0m\n\u001b[0;32m      1\u001b[0m \u001b[38;5;66;03m# dictionary has single quotes in keys and values as defined below and None in case of no value or null values in value\u001b[39;00m\n\u001b[0;32m      2\u001b[0m \u001b[38;5;28;01mimport\u001b[39;00m \u001b[38;5;21;01mnumpy\u001b[39;00m \u001b[38;5;28;01mas\u001b[39;00m \u001b[38;5;21;01mnp\u001b[39;00m\n\u001b[0;32m      3\u001b[0m dict2 \u001b[38;5;241m=\u001b[39m {\u001b[38;5;124m'\u001b[39m\u001b[38;5;124mname\u001b[39m\u001b[38;5;124m'\u001b[39m: \u001b[38;5;124m'\u001b[39m\u001b[38;5;124mAbhilash\u001b[39m\u001b[38;5;124m'\u001b[39m,\n\u001b[0;32m      4\u001b[0m          \u001b[38;5;124m'\u001b[39m\u001b[38;5;124mage\u001b[39m\u001b[38;5;124m'\u001b[39m : \u001b[38;5;124m'\u001b[39m\u001b[38;5;124m \u001b[39m\u001b[38;5;124m'\u001b[39m,\n\u001b[0;32m      5\u001b[0m          \u001b[38;5;124m'\u001b[39m\u001b[38;5;124myear\u001b[39m\u001b[38;5;124m'\u001b[39m : np\u001b[38;5;241m.\u001b[39mnan,\n\u001b[0;32m      6\u001b[0m          \u001b[38;5;124m'\u001b[39m\u001b[38;5;124mstate\u001b[39m\u001b[38;5;124m'\u001b[39m : \u001b[38;5;28;01mNone\u001b[39;00m, \u001b[38;5;66;03m# None keyword used for no value or empty value\u001b[39;00m\n\u001b[1;32m----> 7\u001b[0m          \u001b[38;5;124m'\u001b[39m\u001b[38;5;124mcountry\u001b[39m\u001b[38;5;124m'\u001b[39m : \u001b[43mnull\u001b[49m} \u001b[38;5;66;03m# null is not excepted in python dict value\u001b[39;00m\n\u001b[0;32m      8\u001b[0m \u001b[38;5;28mprint\u001b[39m(dict2)\n",
      "\u001b[1;31mNameError\u001b[0m: name 'null' is not defined"
     ]
    }
   ],
   "source": [
    "# dictionary has single quotes in keys and values as defined below and None in case of no value or null values in value\n",
    "import numpy as np\n",
    "dict2 = {'name': 'Abhilash',\n",
    "         'age' : ' ',\n",
    "         'year' : np.nan,\n",
    "         'state' : None, # None keyword used for no value or empty value\n",
    "         'country' : null} # null is not excepted in python dict value\n",
    "print(dict2)\n"
   ]
  },
  {
   "cell_type": "code",
   "execution_count": 3,
   "metadata": {},
   "outputs": [
    {
     "name": "stdout",
     "output_type": "stream",
     "text": [
      "{'name': 'Rohan', 'age': 28, 'school': 'Loyola High School', 'dob': '2023-04-31'}\n"
     ]
    }
   ],
   "source": [
    "dict1 = {\"name\" : \"Rohan\",\\\n",
    "        \"age\" : 28, \\\n",
    "        \"school\" : \"Loyola High School\",\\\n",
    "        \"dob\" : \"2023-04-31\"}\n",
    "print(dict1)"
   ]
  },
  {
   "cell_type": "code",
   "execution_count": 4,
   "metadata": {},
   "outputs": [
    {
     "name": "stdout",
     "output_type": "stream",
     "text": [
      "['name', 'age', 'school', 'dob']\n"
     ]
    }
   ],
   "source": [
    "# Passing a dictionary to list will give a list of keys of the passed dictionary.\n",
    "list1 = list(dict1)\n",
    "print(list1)"
   ]
  },
  {
   "cell_type": "code",
   "execution_count": 6,
   "metadata": {},
   "outputs": [
    {
     "name": "stdout",
     "output_type": "stream",
     "text": [
      "dict_items([('name', 'Rohan'), ('age', 28), ('school', 'Loyola High School'), ('dob', '2023-04-31')])\n",
      "<class 'dict_items'>\n"
     ]
    }
   ],
   "source": [
    "# dict.items() method - belongs to dict_items class\n",
    "# Returns a list containing a tuple for each key value pair in the dictionary. The first element of each tuple is the key, and the second element is the value.\n",
    "\n",
    "print(dict1.items())\n",
    "print(type(dict1.items()))"
   ]
  },
  {
   "cell_type": "code",
   "execution_count": 9,
   "metadata": {},
   "outputs": [
    {
     "name": "stdout",
     "output_type": "stream",
     "text": [
      "name : Rohan\n",
      "age : 28\n",
      "school : Loyola High School\n",
      "dob : 2023-04-31\n"
     ]
    }
   ],
   "source": [
    "# iterating over a dictionary\n",
    "for key, value in dict1.items():\n",
    "    print(f\"{key} : {value}\")"
   ]
  },
  {
   "cell_type": "code",
   "execution_count": 7,
   "metadata": {},
   "outputs": [
    {
     "name": "stdout",
     "output_type": "stream",
     "text": [
      "dict_keys(['name', 'age', 'school', 'dob'])\n",
      "<class 'dict_keys'>\n"
     ]
    }
   ],
   "source": [
    "# dict.keys() - returns a list of keys in the dictionary\n",
    "print(dict1.keys())\n",
    "print(type(dict1.keys()))"
   ]
  },
  {
   "cell_type": "code",
   "execution_count": null,
   "metadata": {},
   "outputs": [],
   "source": [
    "# dict.fromkeys() method\n"
   ]
  },
  {
   "cell_type": "code",
   "execution_count": 8,
   "metadata": {},
   "outputs": [
    {
     "name": "stdout",
     "output_type": "stream",
     "text": [
      "dict_values(['Rohan', 28, 'Loyola High School', '2023-04-31'])\n",
      "<class 'dict_values'>\n"
     ]
    }
   ],
   "source": [
    "# dict.values() - returns a list of values in the dictionary\n",
    "print(dict1.values())\n",
    "print(type(dict1.values()))"
   ]
  },
  {
   "cell_type": "code",
   "execution_count": 13,
   "metadata": {},
   "outputs": [
    {
     "data": {
      "text/plain": [
       "{'name': 'Rohan', 'age': 28, 'school': 'Loyola High School'}"
      ]
     },
     "execution_count": 13,
     "metadata": {},
     "output_type": "execute_result"
    }
   ],
   "source": [
    "# pop() to remove a key:value when given inside parameter\n",
    "dict1 = {\"name\" : \"Rohan\",\\\n",
    "        \"age\" : 28, \\\n",
    "        \"school\" : \"Loyola High School\",\\\n",
    "        \"dob\" : \"2023-04-31\"}\n",
    "dict1.pop(\"dob\")\n",
    "dict1"
   ]
  },
  {
   "cell_type": "code",
   "execution_count": 16,
   "metadata": {},
   "outputs": [
    {
     "data": {
      "text/plain": [
       "{'name': 'Rohan', 'age': 28}"
      ]
     },
     "execution_count": 16,
     "metadata": {},
     "output_type": "execute_result"
    }
   ],
   "source": [
    "# popitem() behaves similar to pop(\"key\")\n",
    "dict1 = {\"name\" : \"Rohan\",\\\n",
    "        \"age\" : 28, \\\n",
    "        \"school\" : \"Loyola High School\",\\\n",
    "        \"dob\" : \"2023-04-31\"}\n",
    "dict1.popitem()\n",
    "dict1.popitem()\n",
    "dict1"
   ]
  },
  {
   "cell_type": "code",
   "execution_count": 18,
   "metadata": {},
   "outputs": [
    {
     "data": {
      "text/plain": [
       "{'name': 'Rohan',\n",
       " 'age': 28,\n",
       " 'school': 'Loyola High School',\n",
       " 'dob': '2023-04-31',\n",
       " 'company': 'TCS'}"
      ]
     },
     "execution_count": 18,
     "metadata": {},
     "output_type": "execute_result"
    }
   ],
   "source": [
    "# update() method is used to extend one dictionary with another dictionary\n",
    "dict1 = {\"name\" : \"Rohan\",\\\n",
    "        \"age\" : 28, \\\n",
    "        \"school\" : \"Loyola High School\",\\\n",
    "        \"dob\" : \"2023-04-31\"}\n",
    "dict1.update({\"company\":\"TCS\"})\n",
    "dict1"
   ]
  },
  {
   "cell_type": "code",
   "execution_count": 27,
   "metadata": {},
   "outputs": [
    {
     "name": "stdout",
     "output_type": "stream",
     "text": [
      "1304035852096\n",
      "1304056379648\n"
     ]
    },
    {
     "data": {
      "text/plain": [
       "False"
      ]
     },
     "execution_count": 27,
     "metadata": {},
     "output_type": "execute_result"
    }
   ],
   "source": [
    "# copy() method is used to copy one dictionary to a variable\n",
    "x = dict1.copy()\n",
    "x\n",
    "print(id(dict1))\n",
    "print(id(x))\n",
    "\n",
    "x is dict1"
   ]
  },
  {
   "cell_type": "code",
   "execution_count": 29,
   "metadata": {},
   "outputs": [
    {
     "data": {
      "text/plain": [
       "False"
      ]
     },
     "execution_count": 29,
     "metadata": {},
     "output_type": "execute_result"
    }
   ],
   "source": [
    "isinstance(type(x),type(dict1))"
   ]
  },
  {
   "cell_type": "code",
   "execution_count": 32,
   "metadata": {},
   "outputs": [
    {
     "data": {
      "text/plain": [
       "{}"
      ]
     },
     "execution_count": 32,
     "metadata": {},
     "output_type": "execute_result"
    }
   ],
   "source": [
    "# clear() method is used to remove all entries from the dictionary\n",
    "dict1_copy = dict1.copy()\n",
    "dict1_copy.clear()\n",
    "dict1_copy"
   ]
  },
  {
   "cell_type": "code",
   "execution_count": 35,
   "metadata": {},
   "outputs": [
    {
     "data": {
      "text/plain": [
       "{'name': 'Rohan',\n",
       " 'age': 28,\n",
       " 'school': 'Loyola High School',\n",
       " 'dob': '2023-04-31',\n",
       " 'company': 'TCS'}"
      ]
     },
     "execution_count": 35,
     "metadata": {},
     "output_type": "execute_result"
    }
   ],
   "source": [
    "dict1"
   ]
  },
  {
   "cell_type": "code",
   "execution_count": 9,
   "metadata": {},
   "outputs": [
    {
     "name": "stdout",
     "output_type": "stream",
     "text": [
      "{'x': 1, 'y': 10, 'z': 12}\n",
      "{'x': 1, 'y': 10, 'z': 12}\n"
     ]
    }
   ],
   "source": [
    "# How to merge two dictionaries \n",
    "a = {\"x\": 1, \"y\": 2}\n",
    "b = {\"y\": 10, \"z\": 12}\n",
    "\n",
    "#a.update(b)\n",
    "#print(a)\n",
    "\n",
    "# bar | or pipe in dictionary\n",
    "z = a | b\n",
    "print(z)\n",
    "\n",
    "# unpacking in dictionary\n",
    "z1 = {**a, **b}\n",
    "print(z1)\n"
   ]
  },
  {
   "cell_type": "code",
   "execution_count": 3,
   "metadata": {},
   "outputs": [
    {
     "name": "stdout",
     "output_type": "stream",
     "text": [
      "['Charlie', 'Jason', 'Rizwan', 'Sam']\n"
     ]
    },
    {
     "ename": "TypeError",
     "evalue": "list indices must be integers or slices, not str",
     "output_type": "error",
     "traceback": [
      "\u001b[1;31m---------------------------------------------------------------------------\u001b[0m",
      "\u001b[1;31mTypeError\u001b[0m                                 Traceback (most recent call last)",
      "\u001b[1;32m<ipython-input-3-b1ef1cb03575>\u001b[0m in \u001b[0;36m<module>\u001b[1;34m()\u001b[0m\n\u001b[0;32m      6\u001b[0m \u001b[1;33m\u001b[0m\u001b[0m\n\u001b[0;32m      7\u001b[0m \u001b[1;32mfor\u001b[0m \u001b[0mkey\u001b[0m \u001b[1;32min\u001b[0m \u001b[0mdict_sorted_key\u001b[0m\u001b[1;33m:\u001b[0m\u001b[1;33m\u001b[0m\u001b[0m\n\u001b[1;32m----> 8\u001b[1;33m     \u001b[0mprint\u001b[0m\u001b[1;33m(\u001b[0m\u001b[0mkey\u001b[0m\u001b[1;33m,\u001b[0m \u001b[0mdict_sorted_key\u001b[0m\u001b[1;33m[\u001b[0m\u001b[0mkey\u001b[0m\u001b[1;33m]\u001b[0m\u001b[1;33m)\u001b[0m\u001b[1;33m\u001b[0m\u001b[0m\n\u001b[0m\u001b[0;32m      9\u001b[0m \u001b[1;33m\u001b[0m\u001b[0m\n\u001b[0;32m     10\u001b[0m \u001b[1;31m# dict_sorted_values = sorted(dict_sort.values())\u001b[0m\u001b[1;33m\u001b[0m\u001b[1;33m\u001b[0m\u001b[0m\n",
      "\u001b[1;31mTypeError\u001b[0m: list indices must be integers or slices, not str"
     ]
    }
   ],
   "source": [
    "# sorting keys of a dictionary \n",
    "# By default we cannot sort dictionary in python \n",
    "dict_names = {'Charlie': 48, 'Sam':23, 'Rizwan':31, 'Jason':17}\n",
    "dict_sorted_key = sorted(dict_names.keys())\n",
    "print(dict_sorted_key)\n",
    "\n",
    "for key in dict_sorted_key:\n",
    "    print(key, dict_sorted_key[key])\n",
    "\n",
    "# dict_sorted_values = sorted(dict_sort.values())\n",
    "# print(dict_sorted_values)"
   ]
  },
  {
   "cell_type": "code",
   "execution_count": 4,
   "metadata": {},
   "outputs": [
    {
     "name": "stdout",
     "output_type": "stream",
     "text": [
      "{'Rohan': 5, 'Rohit': 5, 'Sanjay kumar': 12, 'alex': 4}\n"
     ]
    }
   ],
   "source": [
    "# dictionary comprehension\n",
    "dict_x = {'name':'Ravi', 'age':32, }\n",
    "name = ['Rohan', 'Rohit', 'Sanjay kumar', 'alex']\n",
    "dict_name = {names : len(names) for names in name}\n",
    "\n",
    "print(dict_name)"
   ]
  },
  {
   "cell_type": "code",
   "execution_count": 13,
   "metadata": {},
   "outputs": [
    {
     "name": "stdout",
     "output_type": "stream",
     "text": [
      "{'sweden': 'stockholm', 'finland': 'helsinki', 'estonia': 'talinn', 'latvia': 'riga', 'lithuania': 'vilnius'}\n",
      "\n",
      "{'stockholm': 'sweden', 'helsinki': 'finland', 'talinn': 'estonia', 'riga': 'latvia', 'vilnius': 'lithuania'}\n"
     ]
    }
   ],
   "source": [
    "# inversion of dictionary -> key : value pair in a dictionary\n",
    "dict_country = {'sweden':'stockholm',\n",
    "                  'finland':'helsinki',\n",
    "                  'estonia':'talinn',\n",
    "                  'latvia':'riga',\n",
    "                  'lithuania':'vilnius'}\n",
    "print(dict_country, end='\\n\\n')\n",
    "dict_inverted = {capital:country for cosuntry,capital in dict_country.items()}\n",
    "\n",
    "print(dict_inverted)"
   ]
  },
  {
   "cell_type": "code",
   "execution_count": 8,
   "metadata": {},
   "outputs": [
    {
     "data": {
      "text/plain": [
       "{'a': 1, 'b': 2}"
      ]
     },
     "execution_count": 8,
     "metadata": {},
     "output_type": "execute_result"
    }
   ],
   "source": [
    "items = (('a',1), ('b',2))\n",
    "dict_values = {k:v for k,v in items}\n",
    "dict_values"
   ]
  },
  {
   "cell_type": "code",
   "execution_count": 2,
   "metadata": {},
   "outputs": [
    {
     "name": "stdout",
     "output_type": "stream",
     "text": [
      "[(1, 'bihar'), (2, 'vaisahali'), (3, 'chirand'), (4, 'patliputra')]\n",
      "{1: 'bihar', 2: 'vaisahali', 3: 'chirand', 4: 'patliputra'}\n"
     ]
    }
   ],
   "source": [
    "# to convert two lists into dictionary\n",
    "list_1 = [1,2,3,4]\n",
    "list_2 = ['bihar', 'vaisahali', 'chirand', 'patliputra']\n",
    "\n",
    "list_3 = list(zip(list_1, list_2))\n",
    "print(list_3)\n",
    "dict_1 = {key:value for key, value in zip(list_1,list_2)}\n",
    "print(dict_1)"
   ]
  },
  {
   "cell_type": "code",
   "execution_count": 11,
   "metadata": {},
   "outputs": [
    {
     "name": "stdout",
     "output_type": "stream",
     "text": [
      "1\n",
      "2\n",
      "None\n",
      "1\n",
      "1\n",
      "300\n",
      "{'mario': 1, 'luigi': 2, 'abs': 300}\n"
     ]
    }
   ],
   "source": [
    "# get()\n",
    "# setdefault()\n",
    "\n",
    "dict_games = {'mario':1, 'luigi':2}\n",
    "\n",
    "# to read any element from dictionary\n",
    "print(dict_games['mario'])\n",
    "\n",
    "# get() can also be used to read the \n",
    "print(dict_games.get('luigi'))\n",
    "\n",
    "print(dict_games.get('abs'))\n",
    "print(dict_games.get('abs',1)) # if the key is not present then it will give default values\n",
    "\n",
    "\n",
    "# setdefault() -> used to read items of a dictionary\n",
    "# This function adds default value to the dictionary\n",
    "\n",
    "print(dict_games.setdefault('mario'))\n",
    "print(dict_games.setdefault('abs',300))\n",
    "print(dict_games)"
   ]
  },
  {
   "cell_type": "code",
   "execution_count": 13,
   "metadata": {},
   "outputs": [
    {
     "data": {
      "text/plain": [
       "4"
      ]
     },
     "execution_count": 13,
     "metadata": {},
     "output_type": "execute_result"
    }
   ],
   "source": [
    "# setting max size for a dictionary\n",
    "\n",
    "dict_test = {\n",
    "    'Python': 3.9,\n",
    "    'Memory':'Memory Manager',\n",
    "    'type' : 'heap',\n",
    "    'subtype1':'raw_allocator'\n",
    "    }\n",
    "\n",
    "len(dict_test)"
   ]
  },
  {
   "cell_type": "code",
   "execution_count": 24,
   "metadata": {},
   "outputs": [],
   "source": [
    "class MaxDictSize(dict):\n",
    "    def __init__(self, max_size):\n",
    "        super().__init__()\n",
    "        self.max_size = max_size\n",
    "    def __setitem__(self, key, value):\n",
    "        if len(self) >= self.max_size:\n",
    "            raise MemoryError('Dictionary reached maximum size limit')\n",
    "        super().__setitem__(key, value)"
   ]
  },
  {
   "cell_type": "code",
   "execution_count": 19,
   "metadata": {},
   "outputs": [],
   "source": [
    "dict_max = MaxDictSize(max_size=1)"
   ]
  },
  {
   "cell_type": "code",
   "execution_count": 22,
   "metadata": {},
   "outputs": [
    {
     "data": {
      "text/plain": [
       "{'module': 'garbage collector'}"
      ]
     },
     "execution_count": 22,
     "metadata": {},
     "output_type": "execute_result"
    }
   ],
   "source": [
    "dict_max.update({'module':'garbage collector'})\n",
    "dict_max"
   ]
  },
  {
   "cell_type": "code",
   "execution_count": 25,
   "metadata": {},
   "outputs": [
    {
     "ename": "MemoryError",
     "evalue": "Dictionary reached maximum size limit",
     "output_type": "error",
     "traceback": [
      "\u001b[1;31m---------------------------------------------------------------------------\u001b[0m",
      "\u001b[1;31mMemoryError\u001b[0m                               Traceback (most recent call last)",
      "\u001b[1;32m<ipython-input-25-407432a16a4d>\u001b[0m in \u001b[0;36m<module>\u001b[1;34m()\u001b[0m\n\u001b[0;32m      7\u001b[0m \u001b[1;33m\u001b[0m\u001b[0m\n\u001b[0;32m      8\u001b[0m \u001b[1;31m# The following line will raise a ValueError since the maximum size limit is 5\u001b[0m\u001b[1;33m\u001b[0m\u001b[1;33m\u001b[0m\u001b[0m\n\u001b[1;32m----> 9\u001b[1;33m \u001b[0mmy_dict\u001b[0m\u001b[1;33m[\u001b[0m\u001b[1;34m\"key6\"\u001b[0m\u001b[1;33m]\u001b[0m \u001b[1;33m=\u001b[0m \u001b[1;34m\"value6\"\u001b[0m\u001b[1;33m\u001b[0m\u001b[0m\n\u001b[0m",
      "\u001b[1;32m<ipython-input-24-ff9b00aa0ea6>\u001b[0m in \u001b[0;36m__setitem__\u001b[1;34m(self, key, value)\u001b[0m\n\u001b[0;32m      5\u001b[0m     \u001b[1;32mdef\u001b[0m \u001b[0m__setitem__\u001b[0m\u001b[1;33m(\u001b[0m\u001b[0mself\u001b[0m\u001b[1;33m,\u001b[0m \u001b[0mkey\u001b[0m\u001b[1;33m,\u001b[0m \u001b[0mvalue\u001b[0m\u001b[1;33m)\u001b[0m\u001b[1;33m:\u001b[0m\u001b[1;33m\u001b[0m\u001b[0m\n\u001b[0;32m      6\u001b[0m         \u001b[1;32mif\u001b[0m \u001b[0mlen\u001b[0m\u001b[1;33m(\u001b[0m\u001b[0mself\u001b[0m\u001b[1;33m)\u001b[0m \u001b[1;33m>=\u001b[0m \u001b[0mself\u001b[0m\u001b[1;33m.\u001b[0m\u001b[0mmax_size\u001b[0m\u001b[1;33m:\u001b[0m\u001b[1;33m\u001b[0m\u001b[0m\n\u001b[1;32m----> 7\u001b[1;33m             \u001b[1;32mraise\u001b[0m \u001b[0mMemoryError\u001b[0m\u001b[1;33m(\u001b[0m\u001b[1;34m'Dictionary reached maximum size limit'\u001b[0m\u001b[1;33m)\u001b[0m\u001b[1;33m\u001b[0m\u001b[0m\n\u001b[0m\u001b[0;32m      8\u001b[0m         \u001b[0msuper\u001b[0m\u001b[1;33m(\u001b[0m\u001b[1;33m)\u001b[0m\u001b[1;33m.\u001b[0m\u001b[0m__setitem__\u001b[0m\u001b[1;33m(\u001b[0m\u001b[0mkey\u001b[0m\u001b[1;33m,\u001b[0m \u001b[0mvalue\u001b[0m\u001b[1;33m)\u001b[0m\u001b[1;33m\u001b[0m\u001b[0m\n",
      "\u001b[1;31mMemoryError\u001b[0m: Dictionary reached maximum size limit"
     ]
    }
   ],
   "source": [
    "my_dict = MaxDictSize(max_size=5)\n",
    "my_dict[\"key1\"] = \"value1\"\n",
    "my_dict[\"key2\"] = \"value2\"\n",
    "my_dict[\"key3\"] = \"value3\"\n",
    "my_dict[\"key4\"] = \"value4\"\n",
    "my_dict[\"key5\"] = \"value5\"\n",
    "\n",
    "# The following line will raise a ValueError since the maximum size limit is 5\n",
    "my_dict[\"key6\"] = \"value6\""
   ]
  },
  {
   "cell_type": "code",
   "execution_count": 1,
   "metadata": {},
   "outputs": [
    {
     "name": "stdout",
     "output_type": "stream",
     "text": [
      "{'a': '1', 'b': '2', 'c': '3'}\n"
     ]
    }
   ],
   "source": [
    "# tuple passed to dictionary\n",
    "values = ('a1','b2','c3')\n",
    "# basically values are converted to following then to dict\n",
    "# (('a','1),('b','2'),('c','3'))\n",
    "print(dict(values))"
   ]
  },
  {
   "cell_type": "code",
   "execution_count": 2,
   "metadata": {},
   "outputs": [
    {
     "name": "stdout",
     "output_type": "stream",
     "text": [
      "{'a': '1', 'b': '2', 'c': '3'}\n"
     ]
    }
   ],
   "source": [
    "list_values = ['a1','b2','c3']\n",
    "print(dict(list_values))"
   ]
  },
  {
   "cell_type": "code",
   "execution_count": 1,
   "metadata": {},
   "outputs": [
    {
     "data": {
      "text/plain": [
       "{'a': 1, 'b': 3}"
      ]
     },
     "execution_count": 1,
     "metadata": {},
     "output_type": "execute_result"
    }
   ],
   "source": [
    "dict_1 = {'a':1,'b':2,'b':3}\n",
    "dict_1"
   ]
  },
  {
   "cell_type": "markdown",
   "metadata": {},
   "source": [
    "### Problems on dictionary"
   ]
  },
  {
   "cell_type": "code",
   "execution_count": 19,
   "metadata": {},
   "outputs": [
    {
     "name": "stdout",
     "output_type": "stream",
     "text": [
      "{'name': 'John', 'age': 23, 'school': 'Yale'}\n"
     ]
    }
   ],
   "source": [
    "# problem 1 ) to make each input as dictionary element\n",
    " \n",
    "name = input('Enter your name: ')\n",
    "age = int(input('Enter your age: '))\n",
    "school = input('Enter your school: ')\n",
    "\n",
    "dict_1 = {'name':name, 'age':age, 'school':school}\n",
    "print(dict_1)"
   ]
  },
  {
   "cell_type": "code",
   "execution_count": 18,
   "metadata": {},
   "outputs": [
    {
     "name": "stdout",
     "output_type": "stream",
     "text": [
      "{'name': 'Rohan', 'age': 28, 'school': 'SIT'}\n"
     ]
    }
   ],
   "source": []
  },
  {
   "cell_type": "markdown",
   "metadata": {},
   "source": [
    "### Dictionay - What is the output of following code?"
   ]
  },
  {
   "cell_type": "code",
   "execution_count": 17,
   "metadata": {},
   "outputs": [],
   "source": [
    "# 1) what is the output of following code?\n",
    "d = {\"dad\":1, \"mom\":2, \"child\":3 }\n",
    "\n",
    "def modify_dict(d):\n",
    "    d = {\"grandma\":4, \"grandpa\": 5}\n",
    "    return d\n",
    "\n",
    "modify_dict(d)\n",
    "print(d)"
   ]
  },
  {
   "cell_type": "code",
   "execution_count": 2,
   "metadata": {},
   "outputs": [
    {
     "name": "stdout",
     "output_type": "stream",
     "text": [
      "{'a': None, 'c': None, 'b': None}\n",
      "['a', 'c', 'b']\n"
     ]
    }
   ],
   "source": [
    "# 2) what is the output of following code?\n",
    "x = ['a','c','c','a','b']\n",
    "y = dict.fromkeys(x)\n",
    "print(y)\n",
    "z = list(y)\n",
    "print(z)\n"
   ]
  },
  {
   "cell_type": "code",
   "execution_count": 1,
   "metadata": {},
   "outputs": [
    {
     "name": "stdout",
     "output_type": "stream",
     "text": [
      "{'name': 'xyz'}\n"
     ]
    }
   ],
   "source": [
    "# 3) what is the output of following code and explain ?\n",
    "dict1 = {'name' : 'abhishek', 'name' : 'xyz'}\n",
    "print(dict1)"
   ]
  },
  {
   "cell_type": "code",
   "execution_count": 5,
   "metadata": {},
   "outputs": [],
   "source": [
    "dict1.update({'name' : 'ravi'})"
   ]
  },
  {
   "cell_type": "code",
   "execution_count": 6,
   "metadata": {},
   "outputs": [
    {
     "data": {
      "text/plain": [
       "{'name': 'ravi'}"
      ]
     },
     "execution_count": 6,
     "metadata": {},
     "output_type": "execute_result"
    }
   ],
   "source": [
    "dict1"
   ]
  },
  {
   "cell_type": "code",
   "execution_count": 8,
   "metadata": {},
   "outputs": [],
   "source": [
    "# dictionaries are unordered.\n",
    "dict2 = {'1': '2', 1 : 4}"
   ]
  },
  {
   "cell_type": "code",
   "execution_count": 9,
   "metadata": {},
   "outputs": [
    {
     "data": {
      "text/plain": [
       "{'1': '2', 1: 4}"
      ]
     },
     "execution_count": 9,
     "metadata": {},
     "output_type": "execute_result"
    }
   ],
   "source": [
    "dict2"
   ]
  },
  {
   "cell_type": "code",
   "execution_count": 10,
   "metadata": {},
   "outputs": [],
   "source": [
    "list1 = [1,2,3,4]"
   ]
  },
  {
   "cell_type": "code",
   "execution_count": 11,
   "metadata": {},
   "outputs": [],
   "source": [
    "list1.append(5)"
   ]
  },
  {
   "cell_type": "code",
   "execution_count": 12,
   "metadata": {},
   "outputs": [
    {
     "data": {
      "text/plain": [
       "[1, 2, 3, 4, 5]"
      ]
     },
     "execution_count": 12,
     "metadata": {},
     "output_type": "execute_result"
    }
   ],
   "source": [
    "list1"
   ]
  },
  {
   "cell_type": "code",
   "execution_count": 16,
   "metadata": {},
   "outputs": [],
   "source": [
    "list1.extend([5,6])"
   ]
  },
  {
   "cell_type": "code",
   "execution_count": 17,
   "metadata": {},
   "outputs": [
    {
     "data": {
      "text/plain": [
       "[1, 2, 3, 4, 5, 5, 5, 6]"
      ]
     },
     "execution_count": 17,
     "metadata": {},
     "output_type": "execute_result"
    }
   ],
   "source": [
    "list1"
   ]
  },
  {
   "cell_type": "code",
   "execution_count": null,
   "metadata": {},
   "outputs": [],
   "source": []
  }
 ],
 "metadata": {
  "kernelspec": {
   "display_name": "Python 3",
   "language": "python",
   "name": "python3"
  },
  "language_info": {
   "codemirror_mode": {
    "name": "ipython",
    "version": 3
   },
   "file_extension": ".py",
   "mimetype": "text/x-python",
   "name": "python",
   "nbconvert_exporter": "python",
   "pygments_lexer": "ipython3",
   "version": "3.11.9"
  },
  "orig_nbformat": 4
 },
 "nbformat": 4,
 "nbformat_minor": 2
}
