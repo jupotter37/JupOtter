{
 "cells": [
  {
   "cell_type": "code",
   "execution_count": 1,
   "id": "e666e914",
   "metadata": {},
   "outputs": [
    {
     "name": "stdout",
     "output_type": "stream",
     "text": [
      "Import done!\n"
     ]
    }
   ],
   "source": [
    "import numpy as np\n",
    "import pandas as pd\n",
    "import matplotlib.pyplot as plt\n",
    "plt.style.use(\"https://raw.githubusercontent.com/LeonidPilyugin/mpl-style/main/simple.mplstyle\")\n",
    "print(\"Import done!\")"
   ]
  },
  {
   "cell_type": "code",
   "execution_count": 2,
   "id": "c38b3e75",
   "metadata": {},
   "outputs": [],
   "source": [
    "def polyfit(x, y):\n",
    "    pp, V = np.polyfit(x, y, 1, cov=True)\n",
    "    k, b = pp\n",
    "    k_err, b_err = np.sqrt(V[0][0]), np.sqrt(V[1][1])\n",
    "    return k, b, k_err, b_err"
   ]
  },
  {
   "cell_type": "code",
   "execution_count": null,
   "id": "f1c51e56",
   "metadata": {},
   "outputs": [],
   "source": [
    "data = pd.read_csv(\"../data/.csv\")\n",
    "data"
   ]
  },
  {
   "cell_type": "code",
   "execution_count": 3,
   "id": "a5a18bd1",
   "metadata": {},
   "outputs": [
    {
     "ename": "NameError",
     "evalue": "name 'xerr' is not defined",
     "output_type": "error",
     "traceback": [
      "\u001b[0;31m---------------------------------------------------------------------------\u001b[0m",
      "\u001b[0;31mNameError\u001b[0m                                 Traceback (most recent call last)",
      "Cell \u001b[0;32mIn[3], line 10\u001b[0m\n\u001b[1;32m      7\u001b[0m k, b, kerr, berr \u001b[38;5;241m=\u001b[39m polyfit(x, y)\n\u001b[1;32m      9\u001b[0m \u001b[38;5;66;03m# plot data\u001b[39;00m\n\u001b[0;32m---> 10\u001b[0m plt\u001b[38;5;241m.\u001b[39merrorbar(x, y, xerr\u001b[38;5;241m=\u001b[39m\u001b[43mxerr\u001b[49m, yerr\u001b[38;5;241m=\u001b[39myerr)\n\u001b[1;32m     11\u001b[0m plt\u001b[38;5;241m.\u001b[39mxlabel(\u001b[38;5;124m\"\u001b[39m\u001b[38;5;124mx\u001b[39m\u001b[38;5;124m\"\u001b[39m)\n\u001b[1;32m     12\u001b[0m plt\u001b[38;5;241m.\u001b[39mylabel(\u001b[38;5;124m\"\u001b[39m\u001b[38;5;124my\u001b[39m\u001b[38;5;124m\"\u001b[39m)\n",
      "\u001b[0;31mNameError\u001b[0m: name 'xerr' is not defined"
     ]
    }
   ],
   "source": [
    "# set data\n",
    "x = np.linspace(-5, 5, 10)\n",
    "y = x ** 2 * ((np.random.rand(10) - 0.5) * 0.1 + 1.0)\n",
    "x = x ** 2\n",
    "\n",
    "# ployfit\n",
    "k, b, kerr, berr = polyfit(x, y)\n",
    "\n",
    "# plot data\n",
    "plt.errorbar(x, y, xerr=xerr, yerr=yerr)\n",
    "plt.xlabel(\"x\")\n",
    "plt.ylabel(\"y\")\n",
    "plt.title(\"Title\")\n",
    "plt.savefig(\"../img/plot.png\")\n",
    "plt.cla()"
   ]
  },
  {
   "cell_type": "code",
   "execution_count": null,
   "id": "ff27ac1c",
   "metadata": {},
   "outputs": [],
   "source": [
    "data = pd.read_csv(\"../data/.csv\")\n",
    "data"
   ]
  }
 ],
 "metadata": {
  "kernelspec": {
   "display_name": "Python 3 (ipykernel)",
   "language": "python",
   "name": "python3"
  },
  "language_info": {
   "codemirror_mode": {
    "name": "ipython",
    "version": 3
   },
   "file_extension": ".py",
   "mimetype": "text/x-python",
   "name": "python",
   "nbconvert_exporter": "python",
   "pygments_lexer": "ipython3",
   "version": "3.11.3"
  }
 },
 "nbformat": 4,
 "nbformat_minor": 5
}
