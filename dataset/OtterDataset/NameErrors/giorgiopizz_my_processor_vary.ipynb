{
 "cells": [
  {
   "cell_type": "code",
   "execution_count": 87,
   "metadata": {},
   "outputs": [],
   "source": [
    "\n",
    "import re\n",
    "from typing import Any, Callable, List, Tuple, Union\n",
    "\n",
    "import awkward\n",
    "import numpy\n",
    "\n",
    "import coffea\n",
    "\n",
    "behavior = {}\n",
    "@awkward.mixin_class(behavior)\n",
    "class Systematic:\n",
    "    \"\"\"A base mixin class to describe and build variations on a feature of an nanoevents object.\"\"\"\n",
    "\n",
    "    _systematic_kinds = set()\n",
    "\n",
    "    @classmethod\n",
    "    def add_kind(cls, kind: str):\n",
    "        \"\"\"\n",
    "        Register a type of systematic variation, it must fulfill the base class interface.\n",
    "        \"\"\"\n",
    "        cls._systematic_kinds.add(kind)\n",
    "\n",
    "    def _ensure_systematics(self):\n",
    "        \"\"\"\n",
    "        Make sure that the parent object always has a field called '__systematics__'.\n",
    "        \"\"\"\n",
    "        if \"__systematics__\" not in awkward.fields(self):\n",
    "            self[\"__systematics__\"] = {}\n",
    "\n",
    "    @property\n",
    "    def systematics(self):\n",
    "        \"\"\"\n",
    "        Return the list of all systematics attached to this object.\n",
    "        \"\"\"\n",
    "        regex = re.compile(r\"\\_{2}.*\\_{2}\")\n",
    "        self._ensure_systematics()\n",
    "        fields = [\n",
    "            f for f in awkward.fields(self[\"__systematics__\"]) if not regex.match(f)\n",
    "        ]\n",
    "        return self[\"__systematics__\"][fields]\n",
    "\n",
    "    def add_systematic(\n",
    "        self,\n",
    "        name: str,\n",
    "    ):\n",
    "        \"\"\"\n",
    "        name: str, name of the systematic variation / uncertainty source\n",
    "        kind: str, the name of the kind of systematic variation\n",
    "        what: Union[str, List[str], Tuple[str]], name what gets varied, this could be a list or tuple of column names\n",
    "        varying_function: Union[function, bound method], a function that describes how 'what' is varied, it must close over all non-event-data arguments.\n",
    "        \"\"\"\n",
    "        self._ensure_systematics()\n",
    "\n",
    "        if name in awkward.fields(self[\"__systematics__\"]):\n",
    "            raise ValueError(f\"{name} already exists as a systematic for this object!\")\n",
    "\n",
    "\n",
    "        # rendered_type = flat.layout.parameters[\"__record__\"]\n",
    "        # as_syst_type = awkward.with_parameter(flat, \"__record__\", kind)\n",
    "        # as_syst_type._build_variations(name, what, varying_function)\n",
    "        # variations = as_syst_type.describe_variations()\n",
    "        self['__systematics__']['name'] = {}\n",
    "        \n",
    "\n",
    "behavior[(\"__typestr__\", \"Systematic\")] = \"Systematic\"\n",
    "\n",
    "Systematic.add_kind('ciao')"
   ]
  },
  {
   "cell_type": "code",
   "execution_count": 99,
   "metadata": {},
   "outputs": [],
   "source": [
    "behavior = {}\n",
    "@awkward.mixin_class(behavior)\n",
    "class Test:\n",
    "    def _ensure_systematics(self):\n",
    "        \"\"\"\n",
    "        Make sure that the parent object always has a field called '__systematics__'.\n",
    "        \"\"\"\n",
    "        if \"__systematics__\" not in awkward.fields(self):\n",
    "            self[\"__systematics__\"] = {}\n",
    "    def add_systematic(self, name):\n",
    "        self._ensure_systematics()\n",
    "        print(type(self['__systematics__']))\n",
    "        self['__systematics__'][name] = {}\n"
   ]
  },
  {
   "cell_type": "code",
   "execution_count": null,
   "metadata": {},
   "outputs": [],
   "source": []
  },
  {
   "cell_type": "code",
   "execution_count": null,
   "metadata": {},
   "outputs": [],
   "source": []
  },
  {
   "cell_type": "code",
   "execution_count": 93,
   "metadata": {},
   "outputs": [
    {
     "data": {
      "text/plain": [
       "{'ciao'}"
      ]
     },
     "execution_count": 93,
     "metadata": {},
     "output_type": "execute_result"
    }
   ],
   "source": [
    "Systematic._systematic_kinds"
   ]
  },
  {
   "cell_type": "code",
   "execution_count": 91,
   "metadata": {},
   "outputs": [
    {
     "data": {
      "text/plain": [
       "{'Systematic': __main__.SystematicRecord,\n",
       " ('*', 'Systematic'): __main__.SystematicArray,\n",
       " ('__typestr__', 'Systematic'): 'Systematic'}"
      ]
     },
     "execution_count": 91,
     "metadata": {},
     "output_type": "execute_result"
    }
   ],
   "source": [
    "behavior"
   ]
  },
  {
   "cell_type": "code",
   "execution_count": 88,
   "metadata": {},
   "outputs": [],
   "source": [
    "import awkward as ak"
   ]
  },
  {
   "cell_type": "code",
   "execution_count": 100,
   "metadata": {},
   "outputs": [],
   "source": [
    "_events = ak.with_name(events, name='Test', behavior=behavior)"
   ]
  },
  {
   "cell_type": "code",
   "execution_count": 101,
   "metadata": {},
   "outputs": [
    {
     "name": "stdout",
     "output_type": "stream",
     "text": [
      "<class 'awkward.highlevel.Array'>\n"
     ]
    }
   ],
   "source": [
    "_events.add_systematic('ciao')"
   ]
  },
  {
   "cell_type": "code",
   "execution_count": 98,
   "metadata": {},
   "outputs": [
    {
     "data": {
      "text/html": [
       "<pre>[{},\n",
       " {},\n",
       " {},\n",
       " {},\n",
       " {},\n",
       " {},\n",
       " {},\n",
       " {},\n",
       " {},\n",
       " {},\n",
       " ...,\n",
       " {},\n",
       " {},\n",
       " {},\n",
       " {},\n",
       " {},\n",
       " {},\n",
       " {},\n",
       " {},\n",
       " {}]\n",
       "---------------\n",
       "type: 10000 * {\n",
       "    \n",
       "}</pre>"
      ],
      "text/plain": [
       "<Array [{}, {}, {}, {}, {}, {}, ..., {}, {}, {}, {}, {}, {}] type='10000 * {}'>"
      ]
     },
     "execution_count": 98,
     "metadata": {},
     "output_type": "execute_result"
    }
   ],
   "source": [
    "_events.__systematics__"
   ]
  },
  {
   "cell_type": "code",
   "execution_count": 86,
   "metadata": {},
   "outputs": [
    {
     "ename": "AttributeError",
     "evalue": "no field named 'systematics'",
     "output_type": "error",
     "traceback": [
      "\u001b[0;31m---------------------------------------------------------------------------\u001b[0m",
      "\u001b[0;31mAttributeError\u001b[0m                            Traceback (most recent call last)",
      "Cell \u001b[0;32mIn[86], line 1\u001b[0m\n\u001b[0;32m----> 1\u001b[0m \u001b[43m_events\u001b[49m\u001b[38;5;241;43m.\u001b[39;49m\u001b[43msystematics\u001b[49m\n",
      "File \u001b[0;32m~/mambaforge/envs/uproot/lib/python3.10/site-packages/awkward/highlevel.py:1236\u001b[0m, in \u001b[0;36mArray.__getattr__\u001b[0;34m(self, where)\u001b[0m\n\u001b[1;32m   1231\u001b[0m         \u001b[38;5;28;01mraise\u001b[39;00m \u001b[38;5;167;01mAttributeError\u001b[39;00m(\n\u001b[1;32m   1232\u001b[0m             \u001b[38;5;124mf\u001b[39m\u001b[38;5;124m\"\u001b[39m\u001b[38;5;124mwhile trying to get field \u001b[39m\u001b[38;5;132;01m{\u001b[39;00mwhere\u001b[38;5;132;01m!r}\u001b[39;00m\u001b[38;5;124m, an exception \u001b[39m\u001b[38;5;124m\"\u001b[39m\n\u001b[1;32m   1233\u001b[0m             \u001b[38;5;124mf\u001b[39m\u001b[38;5;124m\"\u001b[39m\u001b[38;5;124moccurred:\u001b[39m\u001b[38;5;130;01m\\n\u001b[39;00m\u001b[38;5;132;01m{\u001b[39;00m\u001b[38;5;28mtype\u001b[39m(err)\u001b[38;5;132;01m}\u001b[39;00m\u001b[38;5;124m: \u001b[39m\u001b[38;5;132;01m{\u001b[39;00merr\u001b[38;5;132;01m!s}\u001b[39;00m\u001b[38;5;124m\"\u001b[39m\n\u001b[1;32m   1234\u001b[0m         ) \u001b[38;5;28;01mfrom\u001b[39;00m \u001b[38;5;21;01merr\u001b[39;00m\n\u001b[1;32m   1235\u001b[0m \u001b[38;5;28;01melse\u001b[39;00m:\n\u001b[0;32m-> 1236\u001b[0m     \u001b[38;5;28;01mraise\u001b[39;00m \u001b[38;5;167;01mAttributeError\u001b[39;00m(\u001b[38;5;124mf\u001b[39m\u001b[38;5;124m\"\u001b[39m\u001b[38;5;124mno field named \u001b[39m\u001b[38;5;132;01m{\u001b[39;00mwhere\u001b[38;5;132;01m!r}\u001b[39;00m\u001b[38;5;124m\"\u001b[39m)\n",
      "\u001b[0;31mAttributeError\u001b[0m: no field named 'systematics'"
     ]
    }
   ],
   "source": [
    "_events.systematics"
   ]
  },
  {
   "cell_type": "code",
   "execution_count": null,
   "metadata": {},
   "outputs": [],
   "source": []
  },
  {
   "cell_type": "code",
   "execution_count": 79,
   "metadata": {},
   "outputs": [
    {
     "ename": "NameError",
     "evalue": "name 'abstractmethod' is not defined",
     "output_type": "error",
     "traceback": [
      "\u001b[0;31m---------------------------------------------------------------------------\u001b[0m",
      "\u001b[0;31mNameError\u001b[0m                                 Traceback (most recent call last)",
      "Cell \u001b[0;32mIn[79], line 10\u001b[0m\n\u001b[1;32m      5\u001b[0m     \u001b[38;5;28;01mdef\u001b[39;00m \u001b[38;5;21m__call__\u001b[39m(\u001b[38;5;28mself\u001b[39m, coll: awkward\u001b[38;5;241m.\u001b[39mArray, \u001b[38;5;241m*\u001b[39margs: Any, \u001b[38;5;241m*\u001b[39m\u001b[38;5;241m*\u001b[39mkwargs: Any) \u001b[38;5;241m-\u001b[39m\u001b[38;5;241m>\u001b[39m awkward\u001b[38;5;241m.\u001b[39mArray:\n\u001b[1;32m      6\u001b[0m         \u001b[38;5;28;01mreturn\u001b[39;00m \u001b[38;5;28mgetattr\u001b[39m(coll, \u001b[38;5;28mself\u001b[39m\u001b[38;5;241m.\u001b[39mattr)(\u001b[38;5;241m*\u001b[39margs, \u001b[38;5;241m*\u001b[39m\u001b[38;5;241m*\u001b[39mkwargs)\n\u001b[1;32m      9\u001b[0m \u001b[38;5;129m@awkward\u001b[39m\u001b[38;5;241m.\u001b[39mmixin_class(behavior)\n\u001b[0;32m---> 10\u001b[0m \u001b[38;5;28;01mclass\u001b[39;00m \u001b[38;5;21;01mSystematic\u001b[39;00m:\n\u001b[1;32m     11\u001b[0m \u001b[38;5;250m    \u001b[39m\u001b[38;5;124;03m\"\"\"A base mixin class to describe and build variations on a feature of an nanoevents object.\"\"\"\u001b[39;00m\n\u001b[1;32m     13\u001b[0m     _systematic_kinds \u001b[38;5;241m=\u001b[39m \u001b[38;5;28mset\u001b[39m()\n",
      "Cell \u001b[0;32mIn[79], line 41\u001b[0m, in \u001b[0;36mSystematic\u001b[0;34m()\u001b[0m\n\u001b[1;32m     36\u001b[0m     fields \u001b[38;5;241m=\u001b[39m [\n\u001b[1;32m     37\u001b[0m         f \u001b[38;5;28;01mfor\u001b[39;00m f \u001b[38;5;129;01min\u001b[39;00m awkward\u001b[38;5;241m.\u001b[39mfields(\u001b[38;5;28mself\u001b[39m[\u001b[38;5;124m\"\u001b[39m\u001b[38;5;124m__systematics__\u001b[39m\u001b[38;5;124m\"\u001b[39m]) \u001b[38;5;28;01mif\u001b[39;00m \u001b[38;5;129;01mnot\u001b[39;00m regex\u001b[38;5;241m.\u001b[39mmatch(f)\n\u001b[1;32m     38\u001b[0m     ]\n\u001b[1;32m     39\u001b[0m     \u001b[38;5;28;01mreturn\u001b[39;00m \u001b[38;5;28mself\u001b[39m[\u001b[38;5;124m\"\u001b[39m\u001b[38;5;124m__systematics__\u001b[39m\u001b[38;5;124m\"\u001b[39m][fields]\n\u001b[0;32m---> 41\u001b[0m \u001b[38;5;129m@abstractmethod\u001b[39m\n\u001b[1;32m     42\u001b[0m \u001b[38;5;28;01mdef\u001b[39;00m \u001b[38;5;21m_build_variations\u001b[39m(\n\u001b[1;32m     43\u001b[0m     \u001b[38;5;28mself\u001b[39m,\n\u001b[1;32m     44\u001b[0m     name: \u001b[38;5;28mstr\u001b[39m,\n\u001b[1;32m     45\u001b[0m     what: Union[\u001b[38;5;28mstr\u001b[39m, List[\u001b[38;5;28mstr\u001b[39m], Tuple[\u001b[38;5;28mstr\u001b[39m]],\n\u001b[1;32m     46\u001b[0m     varying_function: Callable,\n\u001b[1;32m     47\u001b[0m ):\n\u001b[1;32m     48\u001b[0m \u001b[38;5;250m    \u001b[39m\u001b[38;5;124;03m\"\"\"\u001b[39;00m\n\u001b[1;32m     49\u001b[0m \u001b[38;5;124;03m    name: str, name of the systematic variation / uncertainty source\u001b[39;00m\n\u001b[1;32m     50\u001b[0m \u001b[38;5;124;03m    what: Union[str, List[str], Tuple[str]], name what gets varied,\u001b[39;00m\n\u001b[0;32m   (...)\u001b[0m\n\u001b[1;32m     54\u001b[0m \u001b[38;5;124;03m    must close over all non-event-data arguments.\u001b[39;00m\n\u001b[1;32m     55\u001b[0m \u001b[38;5;124;03m    \"\"\"\u001b[39;00m\n\u001b[1;32m     56\u001b[0m     \u001b[38;5;28;01mpass\u001b[39;00m\n",
      "\u001b[0;31mNameError\u001b[0m: name 'abstractmethod' is not defined"
     ]
    }
   ],
   "source": [
    "\n",
    "\n",
    "class _ClassMethodFn:\n",
    "    def __init__(self, attr: str, **kwargs: Any) -> None:\n",
    "        self.attr = attr\n",
    "\n",
    "    def __call__(self, coll: awkward.Array, *args: Any, **kwargs: Any) -> awkward.Array:\n",
    "        return getattr(coll, self.attr)(*args, **kwargs)\n",
    "\n",
    "\n",
    "@awkward.mixin_class(behavior)\n",
    "class Systematic:\n",
    "    \"\"\"A base mixin class to describe and build variations on a feature of an nanoevents object.\"\"\"\n",
    "\n",
    "    _systematic_kinds = set()\n",
    "\n",
    "    @classmethod\n",
    "    def add_kind(cls, kind: str):\n",
    "        \"\"\"\n",
    "        Register a type of systematic variation, it must fulfill the base class interface.\n",
    "        \"\"\"\n",
    "        cls._systematic_kinds.add(kind)\n",
    "\n",
    "    def _ensure_systematics(self):\n",
    "        \"\"\"\n",
    "        Make sure that the parent object always has a field called '__systematics__'.\n",
    "        \"\"\"\n",
    "        if \"__systematics__\" not in awkward.fields(self):\n",
    "            self[\"__systematics__\"] = {}\n",
    "\n",
    "    @property\n",
    "    def systematics(self):\n",
    "        \"\"\"\n",
    "        Return the list of all systematics attached to this object.\n",
    "        \"\"\"\n",
    "        regex = re.compile(r\"\\_{2}.*\\_{2}\")\n",
    "        self._ensure_systematics()\n",
    "        fields = [\n",
    "            f for f in awkward.fields(self[\"__systematics__\"]) if not regex.match(f)\n",
    "        ]\n",
    "        return self[\"__systematics__\"][fields]\n",
    "\n",
    "    @abstractmethod\n",
    "    def _build_variations(\n",
    "        self,\n",
    "        name: str,\n",
    "        what: Union[str, List[str], Tuple[str]],\n",
    "        varying_function: Callable,\n",
    "    ):\n",
    "        \"\"\"\n",
    "        name: str, name of the systematic variation / uncertainty source\n",
    "        what: Union[str, List[str], Tuple[str]], name what gets varied,\n",
    "              this could be a list or tuple of column names\n",
    "        varying_function: Union[function, bound method, partial], a function that describes how 'what' is varied\n",
    "        define how to manipulate the output of varying_function to produce all systematic variations. Varying function\n",
    "        must close over all non-event-data arguments.\n",
    "        \"\"\"\n",
    "        pass\n",
    "\n",
    "    @abstractmethod\n",
    "    def explodes_how(self):\n",
    "        \"\"\"\n",
    "        This describes how a systematic uncertainty needs to be evaluated in the context of other systematic uncertainties.\n",
    "        i.e. Do you iterate over this keeping all others fixed or do you need to have correlations with other (subsets of) systematics.\n",
    "        \"\"\"\n",
    "        # this function contains decades of thinking about iterate over systematics variations\n",
    "        # your opinions about systematics go here. :D\n",
    "        pass\n",
    "\n",
    "    @abstractmethod\n",
    "    def describe_variations(self):\n",
    "        \"\"\"returns a list of variation names\"\"\"\n",
    "        pass\n",
    "\n",
    "    def add_systematic(\n",
    "        self,\n",
    "        name: str,\n",
    "        kind: str,\n",
    "        what: Union[str, List[str], Tuple[str]],\n",
    "        varying_function: Callable,\n",
    "    ):\n",
    "        \"\"\"\n",
    "        name: str, name of the systematic variation / uncertainty source\n",
    "        kind: str, the name of the kind of systematic variation\n",
    "        what: Union[str, List[str], Tuple[str]], name what gets varied, this could be a list or tuple of column names\n",
    "        varying_function: Union[function, bound method], a function that describes how 'what' is varied, it must close over all non-event-data arguments.\n",
    "        \"\"\"\n",
    "        self._ensure_systematics()\n",
    "\n",
    "        if name in awkward.fields(self[\"__systematics__\"]):\n",
    "            raise ValueError(f\"{name} already exists as a systematic for this object!\")\n",
    "\n",
    "        if kind not in self._systematic_kinds:\n",
    "            raise ValueError(\n",
    "                f\"{kind} is not an available systematics type, please add it and try again!\"\n",
    "            )\n",
    "\n",
    "        wrap = partial(\n",
    "            awkward_rewrap, like_what=self[\"__systematics__\"], gfunc=rewrap_recordarray\n",
    "        )\n",
    "        flat = (\n",
    "            self\n",
    "            if isinstance(self, coffea.nanoevents.methods.base.NanoEvents)\n",
    "            else awkward.flatten(self)\n",
    "        )\n",
    "\n",
    "        if what == \"weight\" and \"__ones__\" not in awkward.fields(\n",
    "            flat[\"__systematics__\"]\n",
    "        ):\n",
    "            flat[\"__systematics__\", \"__ones__\"] = numpy.ones(\n",
    "                len(flat), dtype=numpy.float32\n",
    "            )\n",
    "\n",
    "        rendered_type = flat.layout.parameters[\"__record__\"]\n",
    "        as_syst_type = awkward.with_parameter(flat, \"__record__\", kind)\n",
    "        as_syst_type._build_variations(name, what, varying_function)\n",
    "        variations = as_syst_type.describe_variations()\n",
    "\n",
    "        flat[\"__systematics__\", name] = awkward.zip(\n",
    "            {\n",
    "                v: getattr(as_syst_type, v)(name, what, rendered_type)\n",
    "                for v in variations\n",
    "            },\n",
    "            depth_limit=1,\n",
    "            with_name=f\"{name}Systematics\",\n",
    "        )\n",
    "\n",
    "        self[\"__systematics__\"] = wrap(flat[\"__systematics__\"])\n",
    "        self.behavior[(\"__typestr__\", f\"{name}Systematics\")] = f\"{kind}\"\n",
    "\n",
    "\n",
    "behavior[(\"__typestr__\", \"Systematic\")] = \"Systematic\""
   ]
  },
  {
   "cell_type": "code",
   "execution_count": null,
   "metadata": {},
   "outputs": [],
   "source": []
  },
  {
   "cell_type": "markdown",
   "metadata": {},
   "source": [
    "## Read events"
   ]
  },
  {
   "cell_type": "code",
   "execution_count": 1,
   "metadata": {},
   "outputs": [],
   "source": []
  },
  {
   "cell_type": "code",
   "execution_count": 2,
   "metadata": {},
   "outputs": [
    {
     "data": {
      "text/plain": [
       "'5.3.1'"
      ]
     },
     "execution_count": 2,
     "metadata": {},
     "output_type": "execute_result"
    }
   ],
   "source": [
    "uproot.__version__"
   ]
  },
  {
   "cell_type": "code",
   "execution_count": 3,
   "metadata": {},
   "outputs": [
    {
     "name": "stdout",
     "output_type": "stream",
     "text": [
      "7B930101-EB91-4F4E-9B90-0861460DBD94.root\n",
      "85999D7A-3836-6446-AED2-136D6FC874BA.root\n",
      "BF8F0CF8-4DD5-904E-AD60-2E425E19EC6F.root\n"
     ]
    }
   ],
   "source": [
    "!ls /Users/giorgiopizzati/testcoffea/rootFiles"
   ]
  },
  {
   "cell_type": "code",
   "execution_count": 1,
   "metadata": {},
   "outputs": [
    {
     "name": "stdout",
     "output_type": "stream",
     "text": [
      "start reading\n",
      "created events\n"
     ]
    }
   ],
   "source": [
    "import uproot\n",
    "import awkward as ak\n",
    "import os\n",
    "import sys\n",
    "sys.path.insert(0, os.path.dirname(os.path.abspath('.')))\n",
    "from framework import read_events\n",
    "import json\n",
    "with open('../data/common/forms.json') as file:\n",
    "    forms = json.load(file)\n",
    "events = read_events('/Users/giorgiopizzati/testcoffea/rootFiles/7B930101-EB91-4F4E-9B90-0861460DBD94.root', 0, 10_000, forms['mc'])"
   ]
  },
  {
   "cell_type": "code",
   "execution_count": 9,
   "metadata": {},
   "outputs": [],
   "source": [
    "import importlib"
   ]
  },
  {
   "cell_type": "code",
   "execution_count": 10,
   "metadata": {},
   "outputs": [],
   "source": [
    "import variation as variation_module"
   ]
  },
  {
   "cell_type": "code",
   "execution_count": 11,
   "metadata": {},
   "outputs": [
    {
     "data": {
      "text/plain": [
       "<module 'variation' from '/Users/giorgiopizzati/development/cern/my_processor/variation.py'>"
      ]
     },
     "execution_count": 11,
     "metadata": {},
     "output_type": "execute_result"
    }
   ],
   "source": [
    "importlib.reload(variation_module)"
   ]
  },
  {
   "cell_type": "code",
   "execution_count": 12,
   "metadata": {},
   "outputs": [],
   "source": [
    "from typing import NewType\n",
    "from coffea.lookup_tools.correctionlib_wrapper import correctionlib_wrapper\n",
    "\n",
    "correctionlib_evaluator = NewType('correctionlib_evaluator', any)"
   ]
  },
  {
   "cell_type": "code",
   "execution_count": 14,
   "metadata": {},
   "outputs": [],
   "source": [
    "def format_rule(column, variation_name):\n",
    "        tag = variation_name.split('_')[-1]\n",
    "        if isinstance(column, str):\n",
    "            return f\"{column}_{tag}\"\n",
    "        elif isinstance(column, tuple):\n",
    "            _list = list(column[:-1])\n",
    "            _list.append(f\"{column[-1]}_{tag}\")\n",
    "            return tuple(_list)\n",
    "        else:\n",
    "            print(\n",
    "                \"Cannot format varied column\", column, \"for variation\", variation_name\n",
    "            )\n",
    "            raise Exception\n",
    "\n"
   ]
  },
  {
   "cell_type": "code",
   "execution_count": 15,
   "metadata": {},
   "outputs": [],
   "source": [
    "@variation_module.vary(reads_columns=[('Jet', 'pt'), ('Jet', 'puId'), ('Jet', 'genJetIdx')])\n",
    "def func(events: ak.Array, variations: variation_module.Variation, ceval_puid: correctionlib_evaluator, doVariations:bool=False):\n",
    "    wrap_c = correctionlib_wrapper(ceval_puid[\"PUJetID_eff\"])\n",
    "    puId_shift = 1 << 2\n",
    "    pass_puId = ak.values_astype(events.Jet.puId & puId_shift, bool)\n",
    "\n",
    "    jet_genmatched = (events.Jet.genJetIdx >= 0) & (\n",
    "        events.Jet.genJetIdx < ak.num(events.GenJet)\n",
    "    )\n",
    "    mask = jet_genmatched & pass_puId & (15.0 < events.Jet.pt) & (events.Jet.pt < 50.0)\n",
    "    jets = ak.mask(events.Jet, mask)\n",
    "\n",
    "    if not doVariations:\n",
    "        sf = wrap_c(jets.eta, jets.pt, \"nom\", \"L\")\n",
    "        sf = ak.fill_none(sf, 1.0)\n",
    "        events[(\"Jet\", \"PUID_SF\")] = sf\n",
    "    else:\n",
    "        sf_up = wrap_c(jets.eta, jets.pt, \"up\", \"L\")\n",
    "        sf_down = wrap_c(jets.eta, jets.pt, \"down\", \"L\")\n",
    "\n",
    "        sf_up = ak.fill_none(sf_up, 1.0)\n",
    "        sf_down = ak.fill_none(sf_down, 1.0)\n",
    "\n",
    "        events[(\"Jet\", \"PUID_SF_up\")] = sf_up\n",
    "        events[(\"Jet\", \"PUID_SF_down\")] = sf_down\n",
    "        variations.register_variation(columns=[('Jet', 'PUID_SF')], variation_name='PUID_SF_up', format_rule=format_rule)\n",
    "        variations.register_variation(columns=[('Jet', 'PUID_SF')], variation_name='PUID_SF_down', format_rule=format_rule)\n",
    "\n",
    "    return events, variations"
   ]
  },
  {
   "cell_type": "code",
   "execution_count": 16,
   "metadata": {},
   "outputs": [],
   "source": [
    "def puid_sf(events, variations, ceval_puid):\n",
    "    events, variations = func(events, variations, ceval_puid,  doVariations=False)\n",
    "    # now doing variations\n",
    "\n",
    "    events, variations = func(events, variations, ceval_puid, doVariations=True)\n",
    "\n",
    "    return events, variations"
   ]
  },
  {
   "cell_type": "code",
   "execution_count": 17,
   "metadata": {},
   "outputs": [],
   "source": [
    "import correctionlib"
   ]
  },
  {
   "cell_type": "code",
   "execution_count": 18,
   "metadata": {},
   "outputs": [],
   "source": [
    "ceval_puid = correctionlib.CorrectionSet.from_file(\"/Users/giorgiopizzati/Downloads/jmar.json.gz\")"
   ]
  },
  {
   "cell_type": "code",
   "execution_count": 19,
   "metadata": {},
   "outputs": [],
   "source": [
    "import variation as variation_module\n",
    "variations = variation_module.Variation()"
   ]
  },
  {
   "cell_type": "code",
   "execution_count": 20,
   "metadata": {},
   "outputs": [],
   "source": [
    "import numpy as np"
   ]
  },
  {
   "cell_type": "code",
   "execution_count": 21,
   "metadata": {},
   "outputs": [],
   "source": [
    "for variation in ['JESAbsolute', 'JESTotal']:\n",
    "    for tag in ['up', 'down']:\n",
    "        pt = ak.flatten(events.Jet.pt).to_numpy()\n",
    "        pt = pt * np.random.normal(1.0, 0.1, size=len(pt))\n",
    "        num = ak.num(events.Jet.pt)\n",
    "        vname = f\"{variation}_{tag}\"\n",
    "        events[('Jet', f\"pt_{vname}\")] = ak.unflatten(pt, num)\n",
    "        variations.register_variation([('Jet', 'pt')], variation_name=vname)\n"
   ]
  },
  {
   "cell_type": "code",
   "execution_count": 22,
   "metadata": {},
   "outputs": [
    {
     "name": "stdout",
     "output_type": "stream",
     "text": [
      "[{GenPart: [{pt: 0, eta: ..., ...}, ...], GenJet: [{...}], ...}, ..., {...}]\n",
      "<variation.Variation object at 0x282a35d50>\n",
      "<correctionlib.highlevel.CorrectionSet object at 0x169242920>\n",
      "[('GenPart', 'pt'), ('GenPart', 'eta'), ('GenPart', 'phi'), ('GenPart', 'mass'), ('GenPart', 'pdgId'), ('GenPart', 'status'), ('GenPart', 'genPartIdxMother'), ('GenPart', 'statusFlags'), ('GenJet', 'pt'), ('GenJet', 'eta'), ('GenJet', 'phi'), ('GenJet', 'mass'), ('Electron', 'pt'), ('Electron', 'eta'), ('Electron', 'phi'), ('Electron', 'pdgId'), ('Electron', 'mvaFall17V2Iso_WP90'), ('Electron', 'convVeto'), ('Electron', 'pfRelIso03_all'), ('Electron', 'cutBased'), ('Electron', 'sieie'), ('Electron', 'eInvMinusPInv'), ('Electron', 'dxy'), ('Electron', 'dz'), ('Muon', 'pt'), ('Muon', 'eta'), ('Muon', 'phi'), ('Muon', 'pdgId'), ('Muon', 'tightId'), ('Muon', 'pfRelIso04_all'), ('Muon', 'dxy'), ('Muon', 'dz'), ('Muon', 'genPartIdx'), ('Muon', 'nTrackerLayers'), ('fixedGridRhoFastjetAll',), ('HLT', 'Mu23_TrkIsoVVL_Ele12_CaloIdL_TrackIdL_IsoVL'), ('HLT', 'Mu12_TrkIsoVVL_Ele23_CaloIdL_TrackIdL_IsoVL_DZ'), ('HLT', 'Mu17_TrkIsoVVL_Mu8_TrkIsoVVL_DZ_Mass3p8'), ('HLT', 'IsoMu24'), ('HLT', 'Ele23_Ele12_CaloIdL_TrackIdL_IsoVL'), ('HLT', 'Ele32_WPTight_Gsf'), ('Flag', 'goodVertices'), ('Flag', 'globalSuperTightHalo2016Filter'), ('Flag', 'HBHENoiseFilter'), ('Flag', 'HBHENoiseIsoFilter'), ('Flag', 'EcalDeadCellTriggerPrimitiveFilter'), ('Flag', 'BadPFMuonFilter'), ('Flag', 'BadPFMuonDzFilter'), ('Flag', 'ecalBadCalibFilter'), ('Flag', 'eeBadScFilter'), ('genWeight',), ('LHEScaleWeight',), ('LHEPdfWeight',), ('Pileup', 'nTrueInt'), ('run',), ('luminosityBlock',), ('Jet', 'pt'), ('Jet', 'eta'), ('Jet', 'phi'), ('Jet', 'mass'), ('Jet', 'jetId'), ('Jet', 'puId'), ('Jet', 'genJetIdx'), ('Jet', 'rawFactor'), ('Jet', 'area'), ('Jet', 'btagDeepFlavB'), ('Jet', 'hadronFlavour'), ('Jet', 'pt_JESAbsolute_up'), ('Jet', 'pt_JESAbsolute_down'), ('Jet', 'pt_JESTotal_up'), ('Jet', 'pt_JESTotal_down')]\n",
      "[('GenPart', 'pt'), ('GenPart', 'eta'), ('GenPart', 'phi'), ('GenPart', 'mass'), ('GenPart', 'pdgId'), ('GenPart', 'status'), ('GenPart', 'genPartIdxMother'), ('GenPart', 'statusFlags'), ('GenJet', 'pt'), ('GenJet', 'eta'), ('GenJet', 'phi'), ('GenJet', 'mass'), ('Electron', 'pt'), ('Electron', 'eta'), ('Electron', 'phi'), ('Electron', 'pdgId'), ('Electron', 'mvaFall17V2Iso_WP90'), ('Electron', 'convVeto'), ('Electron', 'pfRelIso03_all'), ('Electron', 'cutBased'), ('Electron', 'sieie'), ('Electron', 'eInvMinusPInv'), ('Electron', 'dxy'), ('Electron', 'dz'), ('Muon', 'pt'), ('Muon', 'eta'), ('Muon', 'phi'), ('Muon', 'pdgId'), ('Muon', 'tightId'), ('Muon', 'pfRelIso04_all'), ('Muon', 'dxy'), ('Muon', 'dz'), ('Muon', 'genPartIdx'), ('Muon', 'nTrackerLayers'), ('fixedGridRhoFastjetAll',), ('HLT', 'Mu23_TrkIsoVVL_Ele12_CaloIdL_TrackIdL_IsoVL'), ('HLT', 'Mu12_TrkIsoVVL_Ele23_CaloIdL_TrackIdL_IsoVL_DZ'), ('HLT', 'Mu17_TrkIsoVVL_Mu8_TrkIsoVVL_DZ_Mass3p8'), ('HLT', 'IsoMu24'), ('HLT', 'Ele23_Ele12_CaloIdL_TrackIdL_IsoVL'), ('HLT', 'Ele32_WPTight_Gsf'), ('Flag', 'goodVertices'), ('Flag', 'globalSuperTightHalo2016Filter'), ('Flag', 'HBHENoiseFilter'), ('Flag', 'HBHENoiseIsoFilter'), ('Flag', 'EcalDeadCellTriggerPrimitiveFilter'), ('Flag', 'BadPFMuonFilter'), ('Flag', 'BadPFMuonDzFilter'), ('Flag', 'ecalBadCalibFilter'), ('Flag', 'eeBadScFilter'), ('genWeight',), ('LHEScaleWeight',), ('LHEPdfWeight',), ('Pileup', 'nTrueInt'), ('run',), ('luminosityBlock',), ('Jet', 'pt'), ('Jet', 'eta'), ('Jet', 'phi'), ('Jet', 'mass'), ('Jet', 'jetId'), ('Jet', 'puId'), ('Jet', 'genJetIdx'), ('Jet', 'rawFactor'), ('Jet', 'area'), ('Jet', 'btagDeepFlavB'), ('Jet', 'hadronFlavour'), ('Jet', 'pt_JESAbsolute_up'), ('Jet', 'pt_JESAbsolute_down'), ('Jet', 'pt_JESTotal_up'), ('Jet', 'pt_JESTotal_down'), ('Jet', 'PUID_SF')]\n",
      "[('Jet', 'PUID_SF')]\n",
      "['JESAbsolute_up', 'JESTotal_up', 'JESAbsolute_down', 'JESTotal_down']\n",
      "(('Jet', 'pt'), ('Jet', 'pt_JESAbsolute_up'))\n",
      "registering new field ('Jet', 'PUID_SF')\n",
      "(('Jet', 'pt'), ('Jet', 'pt_JESTotal_up'))\n",
      "registering new field ('Jet', 'PUID_SF')\n",
      "(('Jet', 'pt'), ('Jet', 'pt_JESAbsolute_down'))\n",
      "registering new field ('Jet', 'PUID_SF')\n",
      "(('Jet', 'pt'), ('Jet', 'pt_JESTotal_down'))\n",
      "registering new field ('Jet', 'PUID_SF')\n",
      "[{GenPart: [{pt: 0, eta: ..., ...}, ...], GenJet: [{...}], ...}, ..., {...}]\n",
      "<variation.Variation object at 0x2829b09d0>\n",
      "<correctionlib.highlevel.CorrectionSet object at 0x169242920>\n"
     ]
    }
   ],
   "source": [
    "events, variations = puid_sf(events, variations, ceval_puid)"
   ]
  },
  {
   "cell_type": "code",
   "execution_count": 23,
   "metadata": {},
   "outputs": [
    {
     "data": {
      "text/plain": [
       "{'JESAbsolute_up': [(('Jet', 'pt'), ('Jet', 'pt_JESAbsolute_up')),\n",
       "  (('Jet', 'PUID_SF'), ('Jet', 'PUID_SF_JESAbsolute_up'))],\n",
       " 'JESAbsolute_down': [(('Jet', 'pt'), ('Jet', 'pt_JESAbsolute_down')),\n",
       "  (('Jet', 'PUID_SF'), ('Jet', 'PUID_SF_JESAbsolute_down'))],\n",
       " 'JESTotal_up': [(('Jet', 'pt'), ('Jet', 'pt_JESTotal_up')),\n",
       "  (('Jet', 'PUID_SF'), ('Jet', 'PUID_SF_JESTotal_up'))],\n",
       " 'JESTotal_down': [(('Jet', 'pt'), ('Jet', 'pt_JESTotal_down')),\n",
       "  (('Jet', 'PUID_SF'), ('Jet', 'PUID_SF_JESTotal_down'))],\n",
       " 'PUID_SF_up': [(('Jet', 'PUID_SF'), ('Jet', 'PUID_SF_up'))],\n",
       " 'PUID_SF_down': [(('Jet', 'PUID_SF'), ('Jet', 'PUID_SF_down'))]}"
      ]
     },
     "execution_count": 23,
     "metadata": {},
     "output_type": "execute_result"
    }
   ],
   "source": [
    "variations.variations_dict"
   ]
  },
  {
   "cell_type": "code",
   "execution_count": null,
   "metadata": {},
   "outputs": [],
   "source": []
  }
 ],
 "metadata": {
  "kernelspec": {
   "display_name": "Python 3",
   "language": "python",
   "name": "python3"
  },
  "language_info": {
   "codemirror_mode": {
    "name": "ipython",
    "version": 3
   },
   "file_extension": ".py",
   "mimetype": "text/x-python",
   "name": "python",
   "nbconvert_exporter": "python",
   "pygments_lexer": "ipython3",
   "version": "3.10.13"
  }
 },
 "nbformat": 4,
 "nbformat_minor": 2
}
