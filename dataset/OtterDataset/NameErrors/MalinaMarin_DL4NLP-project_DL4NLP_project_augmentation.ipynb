{
  "cells": [
    {
      "cell_type": "code",
      "source": [
        "import pandas as pd\n",
        "from sklearn.model_selection import train_test_split\n",
        "from transformers import AutoTokenizer, DistilBertTokenizer, DistilBertForSequenceClassification, Trainer, TrainingArguments, DataCollatorWithPadding\n",
        "import torch\n",
        "from datasets import Dataset, Features, Value, ClassLabel"
      ],
      "metadata": {
        "id": "tEwUTWfTMf0S",
        "colab": {
          "base_uri": "https://localhost:8080/",
          "height": 349
        },
        "outputId": "7f3392be-4115-400c-f02f-476303a86e41"
      },
      "id": "tEwUTWfTMf0S",
      "execution_count": null,
      "outputs": [
        {
          "output_type": "error",
          "ename": "ModuleNotFoundError",
          "evalue": "No module named 'datasets'",
          "traceback": [
            "\u001b[0;31m---------------------------------------------------------------------------\u001b[0m",
            "\u001b[0;31mModuleNotFoundError\u001b[0m                       Traceback (most recent call last)",
            "\u001b[0;32m<ipython-input-1-7b1593c97912>\u001b[0m in \u001b[0;36m<cell line: 5>\u001b[0;34m()\u001b[0m\n\u001b[1;32m      3\u001b[0m \u001b[0;32mfrom\u001b[0m \u001b[0mtransformers\u001b[0m \u001b[0;32mimport\u001b[0m \u001b[0mAutoTokenizer\u001b[0m\u001b[0;34m,\u001b[0m \u001b[0mDistilBertTokenizer\u001b[0m\u001b[0;34m,\u001b[0m \u001b[0mDistilBertForSequenceClassification\u001b[0m\u001b[0;34m,\u001b[0m \u001b[0mTrainer\u001b[0m\u001b[0;34m,\u001b[0m \u001b[0mTrainingArguments\u001b[0m\u001b[0;34m,\u001b[0m \u001b[0mDataCollatorWithPadding\u001b[0m\u001b[0;34m\u001b[0m\u001b[0;34m\u001b[0m\u001b[0m\n\u001b[1;32m      4\u001b[0m \u001b[0;32mimport\u001b[0m \u001b[0mtorch\u001b[0m\u001b[0;34m\u001b[0m\u001b[0;34m\u001b[0m\u001b[0m\n\u001b[0;32m----> 5\u001b[0;31m \u001b[0;32mfrom\u001b[0m \u001b[0mdatasets\u001b[0m \u001b[0;32mimport\u001b[0m \u001b[0mDataset\u001b[0m\u001b[0;34m,\u001b[0m \u001b[0mFeatures\u001b[0m\u001b[0;34m,\u001b[0m \u001b[0mValue\u001b[0m\u001b[0;34m,\u001b[0m \u001b[0mClassLabel\u001b[0m\u001b[0;34m\u001b[0m\u001b[0;34m\u001b[0m\u001b[0m\n\u001b[0m",
            "\u001b[0;31mModuleNotFoundError\u001b[0m: No module named 'datasets'",
            "",
            "\u001b[0;31m---------------------------------------------------------------------------\u001b[0;32m\nNOTE: If your import is failing due to a missing package, you can\nmanually install dependencies using either !pip or !apt.\n\nTo view examples of installing some common dependencies, click the\n\"Open Examples\" button below.\n\u001b[0;31m---------------------------------------------------------------------------\u001b[0m\n"
          ],
          "errorDetails": {
            "actions": [
              {
                "action": "open_url",
                "actionText": "Open Examples",
                "url": "/notebooks/snippets/importing_libraries.ipynb"
              }
            ]
          }
        }
      ]
    },
    {
      "cell_type": "code",
      "source": [
        "! pip install datasets"
      ],
      "metadata": {
        "colab": {
          "base_uri": "https://localhost:8080/"
        },
        "id": "hfw-Kl9xcRWx",
        "outputId": "79fcd5f9-cdfc-40c8-9000-eeb01be742e9"
      },
      "id": "hfw-Kl9xcRWx",
      "execution_count": null,
      "outputs": [
        {
          "output_type": "stream",
          "name": "stdout",
          "text": [
            "Collecting datasets\n",
            "  Downloading datasets-2.16.1-py3-none-any.whl (507 kB)\n",
            "\u001b[2K     \u001b[90m━━━━━━━━━━━━━━━━━━━━━━━━━━━━━━━━━━━━━━━━\u001b[0m \u001b[32m507.1/507.1 kB\u001b[0m \u001b[31m7.3 MB/s\u001b[0m eta \u001b[36m0:00:00\u001b[0m\n",
            "\u001b[?25hRequirement already satisfied: filelock in /usr/local/lib/python3.10/dist-packages (from datasets) (3.13.1)\n",
            "Requirement already satisfied: numpy>=1.17 in /usr/local/lib/python3.10/dist-packages (from datasets) (1.23.5)\n",
            "Requirement already satisfied: pyarrow>=8.0.0 in /usr/local/lib/python3.10/dist-packages (from datasets) (10.0.1)\n",
            "Requirement already satisfied: pyarrow-hotfix in /usr/local/lib/python3.10/dist-packages (from datasets) (0.6)\n",
            "Collecting dill<0.3.8,>=0.3.0 (from datasets)\n",
            "  Downloading dill-0.3.7-py3-none-any.whl (115 kB)\n",
            "\u001b[2K     \u001b[90m━━━━━━━━━━━━━━━━━━━━━━━━━━━━━━━━━━━━━━━━\u001b[0m \u001b[32m115.3/115.3 kB\u001b[0m \u001b[31m13.7 MB/s\u001b[0m eta \u001b[36m0:00:00\u001b[0m\n",
            "\u001b[?25hRequirement already satisfied: pandas in /usr/local/lib/python3.10/dist-packages (from datasets) (1.5.3)\n",
            "Requirement already satisfied: requests>=2.19.0 in /usr/local/lib/python3.10/dist-packages (from datasets) (2.31.0)\n",
            "Requirement already satisfied: tqdm>=4.62.1 in /usr/local/lib/python3.10/dist-packages (from datasets) (4.66.1)\n",
            "Requirement already satisfied: xxhash in /usr/local/lib/python3.10/dist-packages (from datasets) (3.4.1)\n",
            "Collecting multiprocess (from datasets)\n",
            "  Downloading multiprocess-0.70.15-py310-none-any.whl (134 kB)\n",
            "\u001b[2K     \u001b[90m━━━━━━━━━━━━━━━━━━━━━━━━━━━━━━━━━━━━━━━━\u001b[0m \u001b[32m134.8/134.8 kB\u001b[0m \u001b[31m14.9 MB/s\u001b[0m eta \u001b[36m0:00:00\u001b[0m\n",
            "\u001b[?25hRequirement already satisfied: fsspec[http]<=2023.10.0,>=2023.1.0 in /usr/local/lib/python3.10/dist-packages (from datasets) (2023.6.0)\n",
            "Requirement already satisfied: aiohttp in /usr/local/lib/python3.10/dist-packages (from datasets) (3.9.1)\n",
            "Requirement already satisfied: huggingface-hub>=0.19.4 in /usr/local/lib/python3.10/dist-packages (from datasets) (0.20.2)\n",
            "Requirement already satisfied: packaging in /usr/local/lib/python3.10/dist-packages (from datasets) (23.2)\n",
            "Requirement already satisfied: pyyaml>=5.1 in /usr/local/lib/python3.10/dist-packages (from datasets) (6.0.1)\n",
            "Requirement already satisfied: attrs>=17.3.0 in /usr/local/lib/python3.10/dist-packages (from aiohttp->datasets) (23.2.0)\n",
            "Requirement already satisfied: multidict<7.0,>=4.5 in /usr/local/lib/python3.10/dist-packages (from aiohttp->datasets) (6.0.4)\n",
            "Requirement already satisfied: yarl<2.0,>=1.0 in /usr/local/lib/python3.10/dist-packages (from aiohttp->datasets) (1.9.4)\n",
            "Requirement already satisfied: frozenlist>=1.1.1 in /usr/local/lib/python3.10/dist-packages (from aiohttp->datasets) (1.4.1)\n",
            "Requirement already satisfied: aiosignal>=1.1.2 in /usr/local/lib/python3.10/dist-packages (from aiohttp->datasets) (1.3.1)\n",
            "Requirement already satisfied: async-timeout<5.0,>=4.0 in /usr/local/lib/python3.10/dist-packages (from aiohttp->datasets) (4.0.3)\n",
            "Requirement already satisfied: typing-extensions>=3.7.4.3 in /usr/local/lib/python3.10/dist-packages (from huggingface-hub>=0.19.4->datasets) (4.5.0)\n",
            "Requirement already satisfied: charset-normalizer<4,>=2 in /usr/local/lib/python3.10/dist-packages (from requests>=2.19.0->datasets) (3.3.2)\n",
            "Requirement already satisfied: idna<4,>=2.5 in /usr/local/lib/python3.10/dist-packages (from requests>=2.19.0->datasets) (3.6)\n",
            "Requirement already satisfied: urllib3<3,>=1.21.1 in /usr/local/lib/python3.10/dist-packages (from requests>=2.19.0->datasets) (2.0.7)\n",
            "Requirement already satisfied: certifi>=2017.4.17 in /usr/local/lib/python3.10/dist-packages (from requests>=2.19.0->datasets) (2023.11.17)\n",
            "Requirement already satisfied: python-dateutil>=2.8.1 in /usr/local/lib/python3.10/dist-packages (from pandas->datasets) (2.8.2)\n",
            "Requirement already satisfied: pytz>=2020.1 in /usr/local/lib/python3.10/dist-packages (from pandas->datasets) (2023.3.post1)\n",
            "Requirement already satisfied: six>=1.5 in /usr/local/lib/python3.10/dist-packages (from python-dateutil>=2.8.1->pandas->datasets) (1.16.0)\n",
            "Installing collected packages: dill, multiprocess, datasets\n",
            "Successfully installed datasets-2.16.1 dill-0.3.7 multiprocess-0.70.15\n"
          ]
        }
      ]
    },
    {
      "cell_type": "code",
      "source": [
        "import warnings\n",
        "warnings.filterwarnings(\"ignore\")"
      ],
      "metadata": {
        "id": "1LD1bDBgYU7T"
      },
      "id": "1LD1bDBgYU7T",
      "execution_count": null,
      "outputs": []
    },
    {
      "cell_type": "code",
      "source": [
        "from google.colab import drive\n",
        "drive.mount('/content/drive')"
      ],
      "metadata": {
        "colab": {
          "base_uri": "https://localhost:8080/"
        },
        "id": "ZuWaOkm2mbfC",
        "outputId": "01638fe3-fb8a-4efb-a275-c61f9d00f03e"
      },
      "id": "ZuWaOkm2mbfC",
      "execution_count": null,
      "outputs": [
        {
          "output_type": "stream",
          "name": "stdout",
          "text": [
            "Mounted at /content/drive\n"
          ]
        }
      ]
    },
    {
      "cell_type": "code",
      "source": [
        "% cd drive/My\\ Drive/"
      ],
      "metadata": {
        "colab": {
          "base_uri": "https://localhost:8080/"
        },
        "id": "1Qq3yekzmzpi",
        "outputId": "e28a8569-99a8-4c1a-e195-82afc23cd932"
      },
      "id": "1Qq3yekzmzpi",
      "execution_count": null,
      "outputs": [
        {
          "output_type": "stream",
          "name": "stderr",
          "text": [
            "UsageError: Line magic function `%` not found.\n"
          ]
        }
      ]
    },
    {
      "cell_type": "code",
      "source": [
        "from google.colab import files\n",
        "uploaded = files.upload()"
      ],
      "metadata": {
        "colab": {
          "base_uri": "https://localhost:8080/",
          "height": 73
        },
        "id": "865leZB7DieE",
        "outputId": "77fca9e8-6cb7-4dd4-b2c1-5129eeeb99fa"
      },
      "id": "865leZB7DieE",
      "execution_count": null,
      "outputs": [
        {
          "output_type": "display_data",
          "data": {
            "text/plain": [
              "<IPython.core.display.HTML object>"
            ],
            "text/html": [
              "\n",
              "     <input type=\"file\" id=\"files-3a4277ee-3744-43d3-8552-0ea0efad1e6b\" name=\"files[]\" multiple disabled\n",
              "        style=\"border:none\" />\n",
              "     <output id=\"result-3a4277ee-3744-43d3-8552-0ea0efad1e6b\">\n",
              "      Upload widget is only available when the cell has been executed in the\n",
              "      current browser session. Please rerun this cell to enable.\n",
              "      </output>\n",
              "      <script>// Copyright 2017 Google LLC\n",
              "//\n",
              "// Licensed under the Apache License, Version 2.0 (the \"License\");\n",
              "// you may not use this file except in compliance with the License.\n",
              "// You may obtain a copy of the License at\n",
              "//\n",
              "//      http://www.apache.org/licenses/LICENSE-2.0\n",
              "//\n",
              "// Unless required by applicable law or agreed to in writing, software\n",
              "// distributed under the License is distributed on an \"AS IS\" BASIS,\n",
              "// WITHOUT WARRANTIES OR CONDITIONS OF ANY KIND, either express or implied.\n",
              "// See the License for the specific language governing permissions and\n",
              "// limitations under the License.\n",
              "\n",
              "/**\n",
              " * @fileoverview Helpers for google.colab Python module.\n",
              " */\n",
              "(function(scope) {\n",
              "function span(text, styleAttributes = {}) {\n",
              "  const element = document.createElement('span');\n",
              "  element.textContent = text;\n",
              "  for (const key of Object.keys(styleAttributes)) {\n",
              "    element.style[key] = styleAttributes[key];\n",
              "  }\n",
              "  return element;\n",
              "}\n",
              "\n",
              "// Max number of bytes which will be uploaded at a time.\n",
              "const MAX_PAYLOAD_SIZE = 100 * 1024;\n",
              "\n",
              "function _uploadFiles(inputId, outputId) {\n",
              "  const steps = uploadFilesStep(inputId, outputId);\n",
              "  const outputElement = document.getElementById(outputId);\n",
              "  // Cache steps on the outputElement to make it available for the next call\n",
              "  // to uploadFilesContinue from Python.\n",
              "  outputElement.steps = steps;\n",
              "\n",
              "  return _uploadFilesContinue(outputId);\n",
              "}\n",
              "\n",
              "// This is roughly an async generator (not supported in the browser yet),\n",
              "// where there are multiple asynchronous steps and the Python side is going\n",
              "// to poll for completion of each step.\n",
              "// This uses a Promise to block the python side on completion of each step,\n",
              "// then passes the result of the previous step as the input to the next step.\n",
              "function _uploadFilesContinue(outputId) {\n",
              "  const outputElement = document.getElementById(outputId);\n",
              "  const steps = outputElement.steps;\n",
              "\n",
              "  const next = steps.next(outputElement.lastPromiseValue);\n",
              "  return Promise.resolve(next.value.promise).then((value) => {\n",
              "    // Cache the last promise value to make it available to the next\n",
              "    // step of the generator.\n",
              "    outputElement.lastPromiseValue = value;\n",
              "    return next.value.response;\n",
              "  });\n",
              "}\n",
              "\n",
              "/**\n",
              " * Generator function which is called between each async step of the upload\n",
              " * process.\n",
              " * @param {string} inputId Element ID of the input file picker element.\n",
              " * @param {string} outputId Element ID of the output display.\n",
              " * @return {!Iterable<!Object>} Iterable of next steps.\n",
              " */\n",
              "function* uploadFilesStep(inputId, outputId) {\n",
              "  const inputElement = document.getElementById(inputId);\n",
              "  inputElement.disabled = false;\n",
              "\n",
              "  const outputElement = document.getElementById(outputId);\n",
              "  outputElement.innerHTML = '';\n",
              "\n",
              "  const pickedPromise = new Promise((resolve) => {\n",
              "    inputElement.addEventListener('change', (e) => {\n",
              "      resolve(e.target.files);\n",
              "    });\n",
              "  });\n",
              "\n",
              "  const cancel = document.createElement('button');\n",
              "  inputElement.parentElement.appendChild(cancel);\n",
              "  cancel.textContent = 'Cancel upload';\n",
              "  const cancelPromise = new Promise((resolve) => {\n",
              "    cancel.onclick = () => {\n",
              "      resolve(null);\n",
              "    };\n",
              "  });\n",
              "\n",
              "  // Wait for the user to pick the files.\n",
              "  const files = yield {\n",
              "    promise: Promise.race([pickedPromise, cancelPromise]),\n",
              "    response: {\n",
              "      action: 'starting',\n",
              "    }\n",
              "  };\n",
              "\n",
              "  cancel.remove();\n",
              "\n",
              "  // Disable the input element since further picks are not allowed.\n",
              "  inputElement.disabled = true;\n",
              "\n",
              "  if (!files) {\n",
              "    return {\n",
              "      response: {\n",
              "        action: 'complete',\n",
              "      }\n",
              "    };\n",
              "  }\n",
              "\n",
              "  for (const file of files) {\n",
              "    const li = document.createElement('li');\n",
              "    li.append(span(file.name, {fontWeight: 'bold'}));\n",
              "    li.append(span(\n",
              "        `(${file.type || 'n/a'}) - ${file.size} bytes, ` +\n",
              "        `last modified: ${\n",
              "            file.lastModifiedDate ? file.lastModifiedDate.toLocaleDateString() :\n",
              "                                    'n/a'} - `));\n",
              "    const percent = span('0% done');\n",
              "    li.appendChild(percent);\n",
              "\n",
              "    outputElement.appendChild(li);\n",
              "\n",
              "    const fileDataPromise = new Promise((resolve) => {\n",
              "      const reader = new FileReader();\n",
              "      reader.onload = (e) => {\n",
              "        resolve(e.target.result);\n",
              "      };\n",
              "      reader.readAsArrayBuffer(file);\n",
              "    });\n",
              "    // Wait for the data to be ready.\n",
              "    let fileData = yield {\n",
              "      promise: fileDataPromise,\n",
              "      response: {\n",
              "        action: 'continue',\n",
              "      }\n",
              "    };\n",
              "\n",
              "    // Use a chunked sending to avoid message size limits. See b/62115660.\n",
              "    let position = 0;\n",
              "    do {\n",
              "      const length = Math.min(fileData.byteLength - position, MAX_PAYLOAD_SIZE);\n",
              "      const chunk = new Uint8Array(fileData, position, length);\n",
              "      position += length;\n",
              "\n",
              "      const base64 = btoa(String.fromCharCode.apply(null, chunk));\n",
              "      yield {\n",
              "        response: {\n",
              "          action: 'append',\n",
              "          file: file.name,\n",
              "          data: base64,\n",
              "        },\n",
              "      };\n",
              "\n",
              "      let percentDone = fileData.byteLength === 0 ?\n",
              "          100 :\n",
              "          Math.round((position / fileData.byteLength) * 100);\n",
              "      percent.textContent = `${percentDone}% done`;\n",
              "\n",
              "    } while (position < fileData.byteLength);\n",
              "  }\n",
              "\n",
              "  // All done.\n",
              "  yield {\n",
              "    response: {\n",
              "      action: 'complete',\n",
              "    }\n",
              "  };\n",
              "}\n",
              "\n",
              "scope.google = scope.google || {};\n",
              "scope.google.colab = scope.google.colab || {};\n",
              "scope.google.colab._files = {\n",
              "  _uploadFiles,\n",
              "  _uploadFilesContinue,\n",
              "};\n",
              "})(self);\n",
              "</script> "
            ]
          },
          "metadata": {}
        },
        {
          "output_type": "stream",
          "name": "stdout",
          "text": [
            "Saving prefab-breaker-411817-9e17e919dfef.json to prefab-breaker-411817-9e17e919dfef.json\n"
          ]
        }
      ]
    },
    {
      "cell_type": "code",
      "source": [
        "import os\n",
        "os.environ[\"GOOGLE_APPLICATION_CREDENTIALS\"] = \"/content/prefab-breaker-411817-9e17e919dfef.json\""
      ],
      "metadata": {
        "id": "ah0CtYkTDqXt"
      },
      "id": "ah0CtYkTDqXt",
      "execution_count": null,
      "outputs": []
    },
    {
      "cell_type": "code",
      "source": [
        "!pip install google-cloud-translate"
      ],
      "metadata": {
        "colab": {
          "base_uri": "https://localhost:8080/"
        },
        "id": "xhnM4M0aD5lX",
        "outputId": "15794995-9fed-4c5d-d515-ff537fd568ee"
      },
      "id": "xhnM4M0aD5lX",
      "execution_count": null,
      "outputs": [
        {
          "output_type": "stream",
          "name": "stdout",
          "text": [
            "Requirement already satisfied: google-cloud-translate in /usr/local/lib/python3.10/dist-packages (3.11.3)\n",
            "Requirement already satisfied: google-api-core[grpc]!=2.0.*,!=2.1.*,!=2.10.*,!=2.2.*,!=2.3.*,!=2.4.*,!=2.5.*,!=2.6.*,!=2.7.*,!=2.8.*,!=2.9.*,<3.0.0dev,>=1.34.0 in /usr/local/lib/python3.10/dist-packages (from google-cloud-translate) (2.11.1)\n",
            "Requirement already satisfied: google-cloud-core<3.0.0dev,>=1.3.0 in /usr/local/lib/python3.10/dist-packages (from google-cloud-translate) (2.3.3)\n",
            "Requirement already satisfied: proto-plus<2.0.0dev,>=1.22.0 in /usr/local/lib/python3.10/dist-packages (from google-cloud-translate) (1.23.0)\n",
            "Requirement already satisfied: protobuf!=3.20.0,!=3.20.1,!=4.21.0,!=4.21.1,!=4.21.2,!=4.21.3,!=4.21.4,!=4.21.5,<5.0.0dev,>=3.19.5 in /usr/local/lib/python3.10/dist-packages (from google-cloud-translate) (3.20.3)\n",
            "Requirement already satisfied: googleapis-common-protos<2.0.dev0,>=1.56.2 in /usr/local/lib/python3.10/dist-packages (from google-api-core[grpc]!=2.0.*,!=2.1.*,!=2.10.*,!=2.2.*,!=2.3.*,!=2.4.*,!=2.5.*,!=2.6.*,!=2.7.*,!=2.8.*,!=2.9.*,<3.0.0dev,>=1.34.0->google-cloud-translate) (1.62.0)\n",
            "Requirement already satisfied: google-auth<3.0.dev0,>=2.14.1 in /usr/local/lib/python3.10/dist-packages (from google-api-core[grpc]!=2.0.*,!=2.1.*,!=2.10.*,!=2.2.*,!=2.3.*,!=2.4.*,!=2.5.*,!=2.6.*,!=2.7.*,!=2.8.*,!=2.9.*,<3.0.0dev,>=1.34.0->google-cloud-translate) (2.17.3)\n",
            "Requirement already satisfied: requests<3.0.0.dev0,>=2.18.0 in /usr/local/lib/python3.10/dist-packages (from google-api-core[grpc]!=2.0.*,!=2.1.*,!=2.10.*,!=2.2.*,!=2.3.*,!=2.4.*,!=2.5.*,!=2.6.*,!=2.7.*,!=2.8.*,!=2.9.*,<3.0.0dev,>=1.34.0->google-cloud-translate) (2.31.0)\n",
            "Requirement already satisfied: grpcio<2.0dev,>=1.33.2 in /usr/local/lib/python3.10/dist-packages (from google-api-core[grpc]!=2.0.*,!=2.1.*,!=2.10.*,!=2.2.*,!=2.3.*,!=2.4.*,!=2.5.*,!=2.6.*,!=2.7.*,!=2.8.*,!=2.9.*,<3.0.0dev,>=1.34.0->google-cloud-translate) (1.60.0)\n",
            "Requirement already satisfied: grpcio-status<2.0.dev0,>=1.33.2 in /usr/local/lib/python3.10/dist-packages (from google-api-core[grpc]!=2.0.*,!=2.1.*,!=2.10.*,!=2.2.*,!=2.3.*,!=2.4.*,!=2.5.*,!=2.6.*,!=2.7.*,!=2.8.*,!=2.9.*,<3.0.0dev,>=1.34.0->google-cloud-translate) (1.48.2)\n",
            "Requirement already satisfied: cachetools<6.0,>=2.0.0 in /usr/local/lib/python3.10/dist-packages (from google-auth<3.0.dev0,>=2.14.1->google-api-core[grpc]!=2.0.*,!=2.1.*,!=2.10.*,!=2.2.*,!=2.3.*,!=2.4.*,!=2.5.*,!=2.6.*,!=2.7.*,!=2.8.*,!=2.9.*,<3.0.0dev,>=1.34.0->google-cloud-translate) (5.3.2)\n",
            "Requirement already satisfied: pyasn1-modules>=0.2.1 in /usr/local/lib/python3.10/dist-packages (from google-auth<3.0.dev0,>=2.14.1->google-api-core[grpc]!=2.0.*,!=2.1.*,!=2.10.*,!=2.2.*,!=2.3.*,!=2.4.*,!=2.5.*,!=2.6.*,!=2.7.*,!=2.8.*,!=2.9.*,<3.0.0dev,>=1.34.0->google-cloud-translate) (0.3.0)\n",
            "Requirement already satisfied: six>=1.9.0 in /usr/local/lib/python3.10/dist-packages (from google-auth<3.0.dev0,>=2.14.1->google-api-core[grpc]!=2.0.*,!=2.1.*,!=2.10.*,!=2.2.*,!=2.3.*,!=2.4.*,!=2.5.*,!=2.6.*,!=2.7.*,!=2.8.*,!=2.9.*,<3.0.0dev,>=1.34.0->google-cloud-translate) (1.16.0)\n",
            "Requirement already satisfied: rsa<5,>=3.1.4 in /usr/local/lib/python3.10/dist-packages (from google-auth<3.0.dev0,>=2.14.1->google-api-core[grpc]!=2.0.*,!=2.1.*,!=2.10.*,!=2.2.*,!=2.3.*,!=2.4.*,!=2.5.*,!=2.6.*,!=2.7.*,!=2.8.*,!=2.9.*,<3.0.0dev,>=1.34.0->google-cloud-translate) (4.9)\n",
            "Requirement already satisfied: charset-normalizer<4,>=2 in /usr/local/lib/python3.10/dist-packages (from requests<3.0.0.dev0,>=2.18.0->google-api-core[grpc]!=2.0.*,!=2.1.*,!=2.10.*,!=2.2.*,!=2.3.*,!=2.4.*,!=2.5.*,!=2.6.*,!=2.7.*,!=2.8.*,!=2.9.*,<3.0.0dev,>=1.34.0->google-cloud-translate) (3.3.2)\n",
            "Requirement already satisfied: idna<4,>=2.5 in /usr/local/lib/python3.10/dist-packages (from requests<3.0.0.dev0,>=2.18.0->google-api-core[grpc]!=2.0.*,!=2.1.*,!=2.10.*,!=2.2.*,!=2.3.*,!=2.4.*,!=2.5.*,!=2.6.*,!=2.7.*,!=2.8.*,!=2.9.*,<3.0.0dev,>=1.34.0->google-cloud-translate) (3.6)\n",
            "Requirement already satisfied: urllib3<3,>=1.21.1 in /usr/local/lib/python3.10/dist-packages (from requests<3.0.0.dev0,>=2.18.0->google-api-core[grpc]!=2.0.*,!=2.1.*,!=2.10.*,!=2.2.*,!=2.3.*,!=2.4.*,!=2.5.*,!=2.6.*,!=2.7.*,!=2.8.*,!=2.9.*,<3.0.0dev,>=1.34.0->google-cloud-translate) (2.0.7)\n",
            "Requirement already satisfied: certifi>=2017.4.17 in /usr/local/lib/python3.10/dist-packages (from requests<3.0.0.dev0,>=2.18.0->google-api-core[grpc]!=2.0.*,!=2.1.*,!=2.10.*,!=2.2.*,!=2.3.*,!=2.4.*,!=2.5.*,!=2.6.*,!=2.7.*,!=2.8.*,!=2.9.*,<3.0.0dev,>=1.34.0->google-cloud-translate) (2023.11.17)\n",
            "Requirement already satisfied: pyasn1<0.6.0,>=0.4.6 in /usr/local/lib/python3.10/dist-packages (from pyasn1-modules>=0.2.1->google-auth<3.0.dev0,>=2.14.1->google-api-core[grpc]!=2.0.*,!=2.1.*,!=2.10.*,!=2.2.*,!=2.3.*,!=2.4.*,!=2.5.*,!=2.6.*,!=2.7.*,!=2.8.*,!=2.9.*,<3.0.0dev,>=1.34.0->google-cloud-translate) (0.5.1)\n"
          ]
        }
      ]
    },
    {
      "cell_type": "code",
      "source": [
        "! pip install datasets transformers[sentencepiece]"
      ],
      "metadata": {
        "colab": {
          "base_uri": "https://localhost:8080/"
        },
        "id": "A8klUD_2fJrf",
        "outputId": "986ee659-6d38-480b-9103-b7d8b2bd8414"
      },
      "id": "A8klUD_2fJrf",
      "execution_count": null,
      "outputs": [
        {
          "output_type": "stream",
          "name": "stdout",
          "text": [
            "Requirement already satisfied: datasets in /usr/local/lib/python3.10/dist-packages (2.16.1)\n",
            "Requirement already satisfied: transformers[sentencepiece] in /usr/local/lib/python3.10/dist-packages (4.35.2)\n",
            "Requirement already satisfied: filelock in /usr/local/lib/python3.10/dist-packages (from datasets) (3.13.1)\n",
            "Requirement already satisfied: numpy>=1.17 in /usr/local/lib/python3.10/dist-packages (from datasets) (1.23.5)\n",
            "Requirement already satisfied: pyarrow>=8.0.0 in /usr/local/lib/python3.10/dist-packages (from datasets) (10.0.1)\n",
            "Requirement already satisfied: pyarrow-hotfix in /usr/local/lib/python3.10/dist-packages (from datasets) (0.6)\n",
            "Requirement already satisfied: dill<0.3.8,>=0.3.0 in /usr/local/lib/python3.10/dist-packages (from datasets) (0.3.7)\n",
            "Requirement already satisfied: pandas in /usr/local/lib/python3.10/dist-packages (from datasets) (1.5.3)\n",
            "Requirement already satisfied: requests>=2.19.0 in /usr/local/lib/python3.10/dist-packages (from datasets) (2.31.0)\n",
            "Requirement already satisfied: tqdm>=4.62.1 in /usr/local/lib/python3.10/dist-packages (from datasets) (4.66.1)\n",
            "Requirement already satisfied: xxhash in /usr/local/lib/python3.10/dist-packages (from datasets) (3.4.1)\n",
            "Requirement already satisfied: multiprocess in /usr/local/lib/python3.10/dist-packages (from datasets) (0.70.15)\n",
            "Requirement already satisfied: fsspec[http]<=2023.10.0,>=2023.1.0 in /usr/local/lib/python3.10/dist-packages (from datasets) (2023.6.0)\n",
            "Requirement already satisfied: aiohttp in /usr/local/lib/python3.10/dist-packages (from datasets) (3.9.1)\n",
            "Requirement already satisfied: huggingface-hub>=0.19.4 in /usr/local/lib/python3.10/dist-packages (from datasets) (0.20.2)\n",
            "Requirement already satisfied: packaging in /usr/local/lib/python3.10/dist-packages (from datasets) (23.2)\n",
            "Requirement already satisfied: pyyaml>=5.1 in /usr/local/lib/python3.10/dist-packages (from datasets) (6.0.1)\n",
            "Requirement already satisfied: regex!=2019.12.17 in /usr/local/lib/python3.10/dist-packages (from transformers[sentencepiece]) (2023.6.3)\n",
            "Requirement already satisfied: tokenizers<0.19,>=0.14 in /usr/local/lib/python3.10/dist-packages (from transformers[sentencepiece]) (0.15.0)\n",
            "Requirement already satisfied: safetensors>=0.3.1 in /usr/local/lib/python3.10/dist-packages (from transformers[sentencepiece]) (0.4.1)\n",
            "Collecting sentencepiece!=0.1.92,>=0.1.91 (from transformers[sentencepiece])\n",
            "  Downloading sentencepiece-0.1.99-cp310-cp310-manylinux_2_17_x86_64.manylinux2014_x86_64.whl (1.3 MB)\n",
            "\u001b[2K     \u001b[90m━━━━━━━━━━━━━━━━━━━━━━━━━━━━━━━━━━━━━━━━\u001b[0m \u001b[32m1.3/1.3 MB\u001b[0m \u001b[31m7.9 MB/s\u001b[0m eta \u001b[36m0:00:00\u001b[0m\n",
            "\u001b[?25hRequirement already satisfied: protobuf in /usr/local/lib/python3.10/dist-packages (from transformers[sentencepiece]) (3.20.3)\n",
            "Requirement already satisfied: attrs>=17.3.0 in /usr/local/lib/python3.10/dist-packages (from aiohttp->datasets) (23.2.0)\n",
            "Requirement already satisfied: multidict<7.0,>=4.5 in /usr/local/lib/python3.10/dist-packages (from aiohttp->datasets) (6.0.4)\n",
            "Requirement already satisfied: yarl<2.0,>=1.0 in /usr/local/lib/python3.10/dist-packages (from aiohttp->datasets) (1.9.4)\n",
            "Requirement already satisfied: frozenlist>=1.1.1 in /usr/local/lib/python3.10/dist-packages (from aiohttp->datasets) (1.4.1)\n",
            "Requirement already satisfied: aiosignal>=1.1.2 in /usr/local/lib/python3.10/dist-packages (from aiohttp->datasets) (1.3.1)\n",
            "Requirement already satisfied: async-timeout<5.0,>=4.0 in /usr/local/lib/python3.10/dist-packages (from aiohttp->datasets) (4.0.3)\n",
            "Requirement already satisfied: typing-extensions>=3.7.4.3 in /usr/local/lib/python3.10/dist-packages (from huggingface-hub>=0.19.4->datasets) (4.5.0)\n",
            "Requirement already satisfied: charset-normalizer<4,>=2 in /usr/local/lib/python3.10/dist-packages (from requests>=2.19.0->datasets) (3.3.2)\n",
            "Requirement already satisfied: idna<4,>=2.5 in /usr/local/lib/python3.10/dist-packages (from requests>=2.19.0->datasets) (3.6)\n",
            "Requirement already satisfied: urllib3<3,>=1.21.1 in /usr/local/lib/python3.10/dist-packages (from requests>=2.19.0->datasets) (2.0.7)\n",
            "Requirement already satisfied: certifi>=2017.4.17 in /usr/local/lib/python3.10/dist-packages (from requests>=2.19.0->datasets) (2023.11.17)\n",
            "Requirement already satisfied: python-dateutil>=2.8.1 in /usr/local/lib/python3.10/dist-packages (from pandas->datasets) (2.8.2)\n",
            "Requirement already satisfied: pytz>=2020.1 in /usr/local/lib/python3.10/dist-packages (from pandas->datasets) (2023.3.post1)\n",
            "Requirement already satisfied: six>=1.5 in /usr/local/lib/python3.10/dist-packages (from python-dateutil>=2.8.1->pandas->datasets) (1.16.0)\n",
            "Installing collected packages: sentencepiece\n",
            "Successfully installed sentencepiece-0.1.99\n"
          ]
        }
      ]
    },
    {
      "cell_type": "code",
      "source": [
        "def load_data(file_path):\n",
        "    df = pd.read_csv(file_path)\n",
        "    df.rename(columns=lambda x: x.strip(), inplace=True)\n",
        "    df = df[['text', 'category']]\n",
        "    return df"
      ],
      "metadata": {
        "id": "YIqpk7ZKMsG7"
      },
      "id": "YIqpk7ZKMsG7",
      "execution_count": null,
      "outputs": []
    },
    {
      "cell_type": "code",
      "source": [
        "def load_and_print_columns(file_path):\n",
        "    df = pd.read_csv(file_path, nrows=4)\n",
        "    print(f\"Columns in {file_path}: {df.columns.tolist()}\")\n",
        "load_and_print_columns('homo_eng_3_train.csv')"
      ],
      "metadata": {
        "colab": {
          "base_uri": "https://localhost:8080/"
        },
        "id": "LgnRkkNBPHVn",
        "outputId": "2ec9e447-24e6-4d33-98f3-6e3ffbfc28be"
      },
      "id": "LgnRkkNBPHVn",
      "execution_count": null,
      "outputs": [
        {
          "output_type": "stream",
          "name": "stdout",
          "text": [
            "Columns in homo_eng_3_train.csv: ['Unnamed: 0', 'text                ', 'category']\n"
          ]
        }
      ]
    },
    {
      "cell_type": "code",
      "source": [
        "smth = load_data('final_training_set_fully_balanced_shuffled.csv')"
      ],
      "metadata": {
        "id": "aXZLeIspk0WP"
      },
      "id": "aXZLeIspk0WP",
      "execution_count": null,
      "outputs": []
    },
    {
      "cell_type": "code",
      "source": [
        "print(smth)"
      ],
      "metadata": {
        "colab": {
          "base_uri": "https://localhost:8080/"
        },
        "id": "ghOjObJgk6Lo",
        "outputId": "d55bbb94-875c-43d1-c6ad-2cbd222ad7f5"
      },
      "id": "ghOjObJgk6Lo",
      "execution_count": null,
      "outputs": [
        {
          "output_type": "stream",
          "name": "stdout",
          "text": [
            "                                                     text  \\\n",
            "0       #justiciaparasamuel😭💜😭💜😭💜😭💜😭💜💜🏳️‍🌈ILEGALIZACIÓ...   \n",
            "1                    ఆల్‌ ఇండియా సర్వీసుకు హైకోర్టులు నో!   \n",
            "2       ట్రాన్స్‌జెండర్‌లు అస్వాభావికులు, వారు మన సమాజ...   \n",
            "3       उन्होंने कहा, &quot;अगर आप इसके प्रति आकर्षित ...   \n",
            "4                            Who is here after insta ??😁😆   \n",
            "...                                                   ...   \n",
            "120496      ગેનો માર્ગ દુષ્કર્મ છે, તેમ કરવું દુષ્કર્મ છે   \n",
            "120497  Phla insaan jo esi batein bhi bta rha h to bhi...   \n",
            "120498                               రైల్వే శాఖకు విన్నపం   \n",
            "120499  You tried to make a joke about a regular girl,...   \n",
            "120500  ഒന്നുകിൽ പുരുഷനായി ജീവിക്കുകയോ സ്ത്രീയായി ജീവി...   \n",
            "\n",
            "                      category  \n",
            "0                   Homophobia  \n",
            "1       Non-anti-LGBT+ content  \n",
            "2                  Transphobia  \n",
            "3                   Homophobia  \n",
            "4       Non-anti-LGBT+ content  \n",
            "...                        ...  \n",
            "120496              Homophobia  \n",
            "120497  Non-anti-LGBT+ content  \n",
            "120498  Non-anti-LGBT+ content  \n",
            "120499             Transphobia  \n",
            "120500             Transphobia  \n",
            "\n",
            "[120501 rows x 2 columns]\n"
          ]
        }
      ]
    },
    {
      "cell_type": "code",
      "source": [
        "train_tam_data = load_data('homo_tam_3_train.csv')"
      ],
      "metadata": {
        "id": "LoRNKZdPxXKX"
      },
      "id": "LoRNKZdPxXKX",
      "execution_count": null,
      "outputs": []
    },
    {
      "cell_type": "code",
      "source": [
        "train_eng_data = load_data('homo_eng_3_train.csv')\n",
        "dev_eng_data = load_data('homo_eng_3_dev.csv')\n",
        "\n",
        "train_tam_data = load_data('homo_tam_3_train.csv')\n",
        "dev_tam_data = load_data('homo_tam_3_dev.csv')\n",
        "\n",
        "train_mal_data = load_data('homo_mal_3_train.csv')\n",
        "dev_mal_data = load_data('homo_mal_3_dev.csv')\n",
        "\n",
        "train_hin_data = load_data('homo_hin_3_train.csv')\n",
        "dev_hin_data = load_data('homo_hin_3_dev.csv')\n",
        "\n",
        "train_telugu_data = load_data('homo_Telugu_train.csv')\n",
        "dev_telugu_data = load_data('homo_Telugu_dev.csv')\n",
        "\n",
        "train_kannada_data = load_data('homo_Kannada_train.csv')\n",
        "dev_kannada_data = load_data('homo_Kannada_dev.csv')\n",
        "\n",
        "train_gujarati_data = load_data('homo_Gujarati_train.csv')\n",
        "dev_gujarati_data = load_data('homo_Gujarati_dev.csv')\n",
        "\n",
        "train_marathi_data = load_data('Marathi_train.csv')\n",
        "dev_marathi_data = load_data('Marathi_dev.csv')\n",
        "\n",
        "train_spanish_data = load_data('Homo_Spanish_train.csv')\n",
        "dev_spanish_data = load_data('Homo_Spanish_dev.csv')\n"
      ],
      "metadata": {
        "id": "4EaUrHWPMsI9"
      },
      "id": "4EaUrHWPMsI9",
      "execution_count": null,
      "outputs": []
    },
    {
      "cell_type": "code",
      "source": [
        "#train_spanish_data = load_data('Homo_Spanish_train.csv')\n",
        "#dev_spanish_data = load_data('Homo_Spanish_dev.csv')"
      ],
      "metadata": {
        "id": "eKxb_LRRJF2c"
      },
      "id": "eKxb_LRRJF2c",
      "execution_count": null,
      "outputs": []
    },
    {
      "cell_type": "code",
      "source": [
        "print(train_eng_data[100:110])"
      ],
      "metadata": {
        "colab": {
          "base_uri": "https://localhost:8080/"
        },
        "id": "aogh21rojCsx",
        "outputId": "b3e8bf27-6e29-4b2e-9d80-21aca7ef2164"
      },
      "id": "aogh21rojCsx",
      "execution_count": null,
      "outputs": [
        {
          "output_type": "stream",
          "name": "stdout",
          "text": [
            "                                                  text                category\n",
            "100            Fully script story only                  Non-anti-LGBT+ content\n",
            "101                   what an altitude                  Non-anti-LGBT+ content\n",
            "102  Priya S   answer this  if Satan punishes bad g...  Non-anti-LGBT+ content\n",
            "103  Dislike people of this video are non humanityD...              Homophobia\n",
            "104  IN india how many of them folowing our culture...  Non-anti-LGBT+ content\n",
            "105              Bro wating for part 2                  Non-anti-LGBT+ content\n",
            "106  Love is Love And Everyone should be able to Ma...  Non-anti-LGBT+ content\n",
            "107  Hes exposed that place front of public        ...  Non-anti-LGBT+ content\n",
            "108  They are doing making public fully damage     ...              Homophobia\n",
            "109  Best ever hearted one Live long Happy in this ...  Non-anti-LGBT+ content\n"
          ]
        }
      ]
    },
    {
      "cell_type": "code",
      "source": [
        "print(train_eng_data['category'].value_counts())"
      ],
      "metadata": {
        "colab": {
          "base_uri": "https://localhost:8080/"
        },
        "id": "-yKvc9s4wwT2",
        "outputId": "9f9a4492-8088-44c2-b80a-bd0d0087ee75"
      },
      "id": "-yKvc9s4wwT2",
      "execution_count": null,
      "outputs": [
        {
          "output_type": "stream",
          "name": "stdout",
          "text": [
            "Non-anti-LGBT+ content    2978\n",
            "Homophobia                 179\n",
            "Transphobia                  7\n",
            "Name: category, dtype: int64\n"
          ]
        }
      ]
    },
    {
      "cell_type": "code",
      "source": [
        "print(train_tam_data['category'].value_counts())"
      ],
      "metadata": {
        "colab": {
          "base_uri": "https://localhost:8080/"
        },
        "id": "IAr--vzGw0Uq",
        "outputId": "1ae710e1-a234-4abc-91a5-f9c2ff45b308"
      },
      "id": "IAr--vzGw0Uq",
      "execution_count": null,
      "outputs": [
        {
          "output_type": "stream",
          "name": "stdout",
          "text": [
            "Non-anti-LGBT+ content    2064\n",
            "Homophobia                 453\n",
            "Transphobia                145\n",
            "Name: category, dtype: int64\n"
          ]
        }
      ]
    },
    {
      "cell_type": "code",
      "source": [
        "print(train_mal_data['category'].value_counts())"
      ],
      "metadata": {
        "colab": {
          "base_uri": "https://localhost:8080/"
        },
        "id": "arqQpLNdw0XD",
        "outputId": "6daba4c3-aa51-4801-cf1a-5c9d07708a0d"
      },
      "id": "arqQpLNdw0XD",
      "execution_count": null,
      "outputs": [
        {
          "output_type": "stream",
          "name": "stdout",
          "text": [
            "Non-anti-LGBT+ content    2468\n",
            "Homophobia                 476\n",
            "Transphobia                170\n",
            "Name: category, dtype: int64\n"
          ]
        }
      ]
    },
    {
      "cell_type": "code",
      "source": [
        "print(train_hin_data['category'].value_counts())"
      ],
      "metadata": {
        "colab": {
          "base_uri": "https://localhost:8080/"
        },
        "id": "37zU0pNZw0aQ",
        "outputId": "a7bb308d-3b1a-4d65-e22b-b29316ab6b3c"
      },
      "id": "37zU0pNZw0aQ",
      "execution_count": null,
      "outputs": [
        {
          "output_type": "stream",
          "name": "stdout",
          "text": [
            "Non-anti-LGBT+ content    2423\n",
            "Transphobia                 92\n",
            "Homophobia                  45\n",
            "Name: category, dtype: int64\n"
          ]
        }
      ]
    },
    {
      "cell_type": "code",
      "source": [
        "print(train_telugu_data['category'].value_counts())"
      ],
      "metadata": {
        "colab": {
          "base_uri": "https://localhost:8080/"
        },
        "id": "2edfhKo5xSzU",
        "outputId": "ec8f4cb7-9d06-47c0-d0f0-fc3e4b05d5c8"
      },
      "id": "2edfhKo5xSzU",
      "execution_count": null,
      "outputs": [
        {
          "output_type": "stream",
          "name": "stdout",
          "text": [
            "Non-anti-LGBT+ content    3496\n",
            "Homophobia                2907\n",
            "Transphobia               2647\n",
            "Name: category, dtype: int64\n"
          ]
        }
      ]
    },
    {
      "cell_type": "code",
      "source": [
        "print(train_kannada_data['category'].value_counts())"
      ],
      "metadata": {
        "colab": {
          "base_uri": "https://localhost:8080/"
        },
        "id": "_TRq4vdcxS1g",
        "outputId": "04c74376-f990-4b84-ae37-ff60d2fb1b7e"
      },
      "id": "_TRq4vdcxS1g",
      "execution_count": null,
      "outputs": [
        {
          "output_type": "stream",
          "name": "stdout",
          "text": [
            "Non-anti-LGBT+ content    4463\n",
            "Transphobia               2835\n",
            "Homophobia                2765\n",
            "Name: category, dtype: int64\n"
          ]
        }
      ]
    },
    {
      "cell_type": "code",
      "source": [
        "print(train_gujarati_data['category'].value_counts())"
      ],
      "metadata": {
        "colab": {
          "base_uri": "https://localhost:8080/"
        },
        "id": "PUwoqxBVxS3v",
        "outputId": "827812fc-ad14-49a9-9a7e-d59c03e6d336"
      },
      "id": "PUwoqxBVxS3v",
      "execution_count": null,
      "outputs": [
        {
          "output_type": "stream",
          "name": "stdout",
          "text": [
            "Non-anti-LGBT+ content    3848\n",
            "Homophobia                2267\n",
            "Transphobia               2004\n",
            "Name: category, dtype: int64\n"
          ]
        }
      ]
    },
    {
      "cell_type": "code",
      "source": [
        "print(train_marathi_data['category'].value_counts())"
      ],
      "metadata": {
        "colab": {
          "base_uri": "https://localhost:8080/"
        },
        "id": "8q-eiXH6xS54",
        "outputId": "90587cb7-85cb-4826-dcbe-7e4f895378ce"
      },
      "id": "8q-eiXH6xS54",
      "execution_count": null,
      "outputs": [
        {
          "output_type": "stream",
          "name": "stdout",
          "text": [
            "Non-anti-LGBT+ content    2572\n",
            "Homophobia                 551\n",
            "Transphobia                377\n",
            "Name: category, dtype: int64\n"
          ]
        }
      ]
    },
    {
      "cell_type": "code",
      "source": [
        "print(train_spanish_data['category'].value_counts())"
      ],
      "metadata": {
        "colab": {
          "base_uri": "https://localhost:8080/"
        },
        "id": "iYse032SxV0J",
        "outputId": "b5f38c48-1481-475b-e32a-01bed6f7a396"
      },
      "id": "iYse032SxV0J",
      "execution_count": null,
      "outputs": [
        {
          "output_type": "stream",
          "name": "stdout",
          "text": [
            "Non-anti-LGBT+ content    700\n",
            "Transphobia               250\n",
            "Homophobia                250\n",
            "Name: category, dtype: int64\n"
          ]
        }
      ]
    },
    {
      "cell_type": "code",
      "source": [
        "from google.cloud import translate_v2 as translate\n",
        "import random\n",
        "\n",
        "translate_client = translate.Client()\n",
        "\n",
        "def back_translate(text, target_language, intermediate_language):\n",
        "    translated = translate_client.translate(text, source_language=target_language, target_language=intermediate_language)\n",
        "    translated_text = translated['translatedText']\n",
        "\n",
        "    back_translated = translate_client.translate(translated_text, source_language=intermediate_language, target_language=target_language)\n",
        "    back_translated_text = back_translated['translatedText']\n",
        "\n",
        "    return back_translated_text\n",
        "\n",
        "\n",
        "def get_homo_trans_new_df(dataframe, desired_categories):\n",
        "    filtered_df = dataframe[dataframe['category'].isin(desired_categories)]\n",
        "    return filtered_df\n",
        "\n",
        "\n",
        "def translate_and_add_to_df(train_data, target_lg, intermed_lg, desired_categories):\n",
        "    for index, row in get_homo_trans_new_df(train_data, desired_categories).iterrows():\n",
        "        augmented_text = back_translate(row['text'], target_language=target_lg, intermediate_language=intermed_lg)\n",
        "        df2 = {'text': augmented_text, 'category': row['category']}\n",
        "        train_data = train_data.append(df2, ignore_index = True)\n",
        "    return train_data\n",
        "\n",
        "def translate_and_add_to_df_fixed_nr(train_data, target_lg, intermed_lg, desired_categories, limit):\n",
        "    for index, row in get_homo_trans_new_df(train_data, desired_categories).iterrows():\n",
        "        if limit == 0:\n",
        "          return train_data\n",
        "        augmented_text = back_translate(row['text'], target_language=target_lg, intermediate_language=intermed_lg)\n",
        "        df2 = {'text': augmented_text, 'category': row['category']}\n",
        "        train_data = train_data.append(df2, ignore_index = True)\n",
        "        limit -= 1\n",
        "    return train_data"
      ],
      "metadata": {
        "id": "PkR31Org2jLv"
      },
      "id": "PkR31Org2jLv",
      "execution_count": null,
      "outputs": []
    },
    {
      "cell_type": "code",
      "source": [
        "desired_categories = ['Homophobia', 'Transphobia']"
      ],
      "metadata": {
        "id": "8609ZBlz5rDg"
      },
      "id": "8609ZBlz5rDg",
      "execution_count": null,
      "outputs": []
    },
    {
      "cell_type": "code",
      "source": [
        "augmented_train_eng_data = translate_and_add_to_df(train_eng_data, 'en', 'fr', desired_categories)"
      ],
      "metadata": {
        "colab": {
          "base_uri": "https://localhost:8080/",
          "height": 193
        },
        "id": "7IEfl9Is03jl",
        "outputId": "4075cadd-daa7-4fd9-ec31-05557c6c7863"
      },
      "id": "7IEfl9Is03jl",
      "execution_count": null,
      "outputs": [
        {
          "output_type": "error",
          "ename": "NameError",
          "evalue": "name 'train_augmented_train_eng_dataeng_data' is not defined",
          "traceback": [
            "\u001b[0;31m---------------------------------------------------------------------------\u001b[0m",
            "\u001b[0;31mNameError\u001b[0m                                 Traceback (most recent call last)",
            "\u001b[0;32m<ipython-input-33-ea5e39aa3aa5>\u001b[0m in \u001b[0;36m<cell line: 2>\u001b[0;34m()\u001b[0m\n\u001b[1;32m      1\u001b[0m \u001b[0maugmented_train_eng_data\u001b[0m \u001b[0;34m=\u001b[0m \u001b[0mtranslate_and_add_to_df\u001b[0m\u001b[0;34m(\u001b[0m\u001b[0mtrain_eng_data\u001b[0m\u001b[0;34m,\u001b[0m \u001b[0;34m'en'\u001b[0m\u001b[0;34m,\u001b[0m \u001b[0;34m'fr'\u001b[0m\u001b[0;34m)\u001b[0m\u001b[0;34m\u001b[0m\u001b[0;34m\u001b[0m\u001b[0m\n\u001b[0;32m----> 2\u001b[0;31m \u001b[0mprint\u001b[0m\u001b[0;34m(\u001b[0m\u001b[0mtrain_augmented_train_eng_dataeng_data\u001b[0m\u001b[0;34m[\u001b[0m\u001b[0;34m'category'\u001b[0m\u001b[0;34m]\u001b[0m\u001b[0;34m.\u001b[0m\u001b[0mvalue_counts\u001b[0m\u001b[0;34m(\u001b[0m\u001b[0;34m)\u001b[0m\u001b[0;34m)\u001b[0m\u001b[0;34m\u001b[0m\u001b[0;34m\u001b[0m\u001b[0m\n\u001b[0m",
            "\u001b[0;31mNameError\u001b[0m: name 'train_augmented_train_eng_dataeng_data' is not defined"
          ]
        }
      ]
    },
    {
      "cell_type": "code",
      "source": [
        "augmented_train_eng_data = translate_and_add_to_df(augmented_train_eng_data, 'en', 'ro', desired_categories)"
      ],
      "metadata": {
        "id": "Uw6XOSqc2Ii9"
      },
      "id": "Uw6XOSqc2Ii9",
      "execution_count": null,
      "outputs": []
    },
    {
      "cell_type": "code",
      "source": [
        "augmented_train_eng_data = translate_and_add_to_df(augmented_train_eng_data, 'en', 'el', desired_categories)"
      ],
      "metadata": {
        "id": "BFwzFwHK2S9t"
      },
      "id": "BFwzFwHK2S9t",
      "execution_count": null,
      "outputs": []
    },
    {
      "cell_type": "code",
      "source": [
        "augmented_train_eng_data = translate_and_add_to_df(augmented_train_eng_data, 'en', 'ja', desired_categories)"
      ],
      "metadata": {
        "id": "1jlbajta2Vvx"
      },
      "id": "1jlbajta2Vvx",
      "execution_count": null,
      "outputs": []
    },
    {
      "cell_type": "code",
      "source": [
        "print(augmented_train_eng_data['category'].value_counts())"
      ],
      "metadata": {
        "colab": {
          "base_uri": "https://localhost:8080/"
        },
        "id": "TGDkBOvR1p_6",
        "outputId": "906bdefd-5766-43c4-9a1f-dcc45569d09a"
      },
      "id": "TGDkBOvR1p_6",
      "execution_count": null,
      "outputs": [
        {
          "output_type": "stream",
          "name": "stdout",
          "text": [
            "Non-anti-LGBT+ content    2978\n",
            "Homophobia                2864\n",
            "Transphobia                112\n",
            "Name: category, dtype: int64\n"
          ]
        }
      ]
    },
    {
      "cell_type": "code",
      "source": [
        "augmented_train_tam_data = translate_and_add_to_df(train_tam_data, 'ta', 'en', desired_categories)\n",
        "print(augmented_train_tam_data['category'].value_counts())"
      ],
      "metadata": {
        "colab": {
          "base_uri": "https://localhost:8080/"
        },
        "id": "kk3pvirn1fl6",
        "outputId": "4303134e-b1ec-47c1-96c8-5e9ffa1ded51"
      },
      "id": "kk3pvirn1fl6",
      "execution_count": null,
      "outputs": [
        {
          "output_type": "stream",
          "name": "stdout",
          "text": [
            "Non-anti-LGBT+ content    2064\n",
            "Homophobia                 906\n",
            "Transphobia                290\n",
            "Name: category, dtype: int64\n"
          ]
        }
      ]
    },
    {
      "cell_type": "code",
      "source": [
        "augmented_train_tam_data = translate_and_add_to_df(augmented_train_tam_data, 'ta', 'ja', desired_categories)\n",
        "print(augmented_train_tam_data['category'].value_counts())"
      ],
      "metadata": {
        "colab": {
          "base_uri": "https://localhost:8080/"
        },
        "id": "Bepi-F8_1fr8",
        "outputId": "f87924de-8353-4fd1-d9c1-03648989ab35"
      },
      "id": "Bepi-F8_1fr8",
      "execution_count": null,
      "outputs": [
        {
          "output_type": "stream",
          "name": "stdout",
          "text": [
            "Non-anti-LGBT+ content    2064\n",
            "Homophobia                1812\n",
            "Transphobia                580\n",
            "Name: category, dtype: int64\n"
          ]
        }
      ]
    },
    {
      "cell_type": "code",
      "source": [
        "augmented_train_mal_data = translate_and_add_to_df(train_mal_data, 'ml', 'en', desired_categories)\n",
        "print(augmented_train_tam_data['category'].value_counts())"
      ],
      "metadata": {
        "colab": {
          "base_uri": "https://localhost:8080/"
        },
        "id": "d0fGp8bH1fuH",
        "outputId": "aaf19d33-4563-49ed-ab59-09abfdc87df2"
      },
      "id": "d0fGp8bH1fuH",
      "execution_count": null,
      "outputs": [
        {
          "output_type": "stream",
          "name": "stdout",
          "text": [
            "Non-anti-LGBT+ content    2064\n",
            "Homophobia                1812\n",
            "Transphobia                580\n",
            "Name: category, dtype: int64\n"
          ]
        }
      ]
    },
    {
      "cell_type": "code",
      "source": [
        "augmented_train_mal_data = translate_and_add_to_df(augmented_train_mal_data, 'ml', 'ja', desired_categories)\n",
        "print(augmented_train_tam_data['category'].value_counts())"
      ],
      "metadata": {
        "colab": {
          "base_uri": "https://localhost:8080/"
        },
        "id": "ja9DVQw11fwo",
        "outputId": "efca3fe6-ed25-4074-f302-eed3613d20fd"
      },
      "id": "ja9DVQw11fwo",
      "execution_count": null,
      "outputs": [
        {
          "output_type": "stream",
          "name": "stdout",
          "text": [
            "Non-anti-LGBT+ content    2064\n",
            "Homophobia                1812\n",
            "Transphobia                580\n",
            "Name: category, dtype: int64\n"
          ]
        }
      ]
    },
    {
      "cell_type": "code",
      "source": [
        "augmented_train_hin_data = translate_and_add_to_df(train_hin_data, 'hi', 'en', desired_categories)\n",
        "print(augmented_train_hin_data['category'].value_counts())"
      ],
      "metadata": {
        "colab": {
          "base_uri": "https://localhost:8080/"
        },
        "id": "KduIsQ0r1fy4",
        "outputId": "734b60bf-56c8-43ac-c28f-b3f856086e72"
      },
      "id": "KduIsQ0r1fy4",
      "execution_count": null,
      "outputs": [
        {
          "output_type": "stream",
          "name": "stdout",
          "text": [
            "Non-anti-LGBT+ content    2978\n",
            "Homophobia                2864\n",
            "Transphobia                112\n",
            "Name: category, dtype: int64\n"
          ]
        }
      ]
    },
    {
      "cell_type": "code",
      "source": [
        "augmented_train_hin_data = translate_and_add_to_df(augmented_train_hin_data, 'hi', 'ja', desired_categories)"
      ],
      "metadata": {
        "colab": {
          "base_uri": "https://localhost:8080/"
        },
        "id": "t28kRtM41gV7",
        "outputId": "b17d006d-9931-4689-c783-fd78094489b4"
      },
      "id": "t28kRtM41gV7",
      "execution_count": null,
      "outputs": [
        {
          "output_type": "stream",
          "name": "stdout",
          "text": [
            "Non-anti-LGBT+ content    2978\n",
            "Homophobia                2864\n",
            "Transphobia                112\n",
            "Name: category, dtype: int64\n"
          ]
        }
      ]
    },
    {
      "cell_type": "code",
      "source": [
        "augmented_train_hin_data = translate_and_add_to_df(augmented_train_hin_data, 'hi', 'ru', desired_categories)"
      ],
      "metadata": {
        "id": "lYAXOSr_ADHP"
      },
      "id": "lYAXOSr_ADHP",
      "execution_count": null,
      "outputs": []
    },
    {
      "cell_type": "code",
      "source": [
        "augmented_train_hin_data = translate_and_add_to_df(augmented_train_hin_data, 'hi', 'sr', desired_categories)"
      ],
      "metadata": {
        "id": "n-TUAIDzADJq"
      },
      "id": "n-TUAIDzADJq",
      "execution_count": null,
      "outputs": []
    },
    {
      "cell_type": "code",
      "source": [
        "print(augmented_train_hin_data['category'].value_counts())"
      ],
      "metadata": {
        "colab": {
          "base_uri": "https://localhost:8080/"
        },
        "id": "6POVpyjxCIag",
        "outputId": "da6fa6b9-1d54-4645-9773-86905fefbe38"
      },
      "id": "6POVpyjxCIag",
      "execution_count": null,
      "outputs": [
        {
          "output_type": "stream",
          "name": "stdout",
          "text": [
            "Non-anti-LGBT+ content    2423\n",
            "Transphobia               1472\n",
            "Homophobia                 720\n",
            "Name: category, dtype: int64\n"
          ]
        }
      ]
    },
    {
      "cell_type": "code",
      "source": [
        "augmented_train_marathi_data = translate_and_add_to_df(train_marathi_data, 'mr', 'en', desired_categories)"
      ],
      "metadata": {
        "id": "Hdo7OiDnAbY7"
      },
      "id": "Hdo7OiDnAbY7",
      "execution_count": null,
      "outputs": []
    },
    {
      "cell_type": "code",
      "source": [
        "augmented_train_marathi_data = translate_and_add_to_df(augmented_train_marathi_data, 'mr', 'ja', desired_categories)"
      ],
      "metadata": {
        "id": "y5tNYqL6Abb6"
      },
      "id": "y5tNYqL6Abb6",
      "execution_count": null,
      "outputs": []
    },
    {
      "cell_type": "code",
      "source": [
        "print(augmented_train_marathi_data['category'].value_counts())"
      ],
      "metadata": {
        "colab": {
          "base_uri": "https://localhost:8080/"
        },
        "id": "2uUqU7p9CZqR",
        "outputId": "3a4ee7c5-cc52-4cff-f8d2-24b411c5583f"
      },
      "id": "2uUqU7p9CZqR",
      "execution_count": null,
      "outputs": [
        {
          "output_type": "stream",
          "name": "stdout",
          "text": [
            "Non-anti-LGBT+ content    2572\n",
            "Homophobia                2204\n",
            "Transphobia               1508\n",
            "Name: category, dtype: int64\n"
          ]
        }
      ]
    },
    {
      "cell_type": "code",
      "source": [
        "augmented_train_spanish_data = translate_and_add_to_df(train_spanish_data, 'es', 'en', desired_categories)"
      ],
      "metadata": {
        "id": "YN3p4nmaCcwS"
      },
      "id": "YN3p4nmaCcwS",
      "execution_count": null,
      "outputs": []
    },
    {
      "cell_type": "code",
      "source": [
        "print(augmented_train_spanish_data['category'].value_counts())"
      ],
      "metadata": {
        "colab": {
          "base_uri": "https://localhost:8080/"
        },
        "id": "farQv3GJCcy4",
        "outputId": "f26f4a04-2ce2-42a1-8402-601848f15994"
      },
      "id": "farQv3GJCcy4",
      "execution_count": null,
      "outputs": [
        {
          "output_type": "stream",
          "name": "stdout",
          "text": [
            "Non-anti-LGBT+ content    700\n",
            "Transphobia               500\n",
            "Homophobia                500\n",
            "Name: category, dtype: int64\n"
          ]
        }
      ]
    },
    {
      "cell_type": "code",
      "source": [
        "#save augmented ds\n",
        "augmented_train_eng_data.to_csv('aug_translate_train_eng_data.csv', index=False)"
      ],
      "metadata": {
        "id": "uhBGVAMmMZNp"
      },
      "id": "uhBGVAMmMZNp",
      "execution_count": null,
      "outputs": []
    },
    {
      "cell_type": "code",
      "source": [
        "augmented_train_tam_data.to_csv('aug_translate_train_tam_data.csv', index=False)"
      ],
      "metadata": {
        "id": "523YeFmOxyIv"
      },
      "id": "523YeFmOxyIv",
      "execution_count": null,
      "outputs": []
    },
    {
      "cell_type": "code",
      "source": [
        "augmented_train_tam_data.to_csv('aug_translate_train_tam_data.csv', index=False)\n",
        "augmented_train_mal_data.to_csv('aug_translate_train_mal_data.csv', index=False)\n",
        "augmented_train_hin_data.to_csv('aug_translate_train_hin_data.csv', index=False)\n",
        "augmented_train_marathi_data.to_csv('aug_translate_train_marathi_data.csv', index=False)\n",
        "augmented_train_spanish_data.to_csv('aug_translate_train_spanish_data.csv', index=False)"
      ],
      "metadata": {
        "id": "aggjE2F9NJ2U"
      },
      "id": "aggjE2F9NJ2U",
      "execution_count": null,
      "outputs": []
    },
    {
      "cell_type": "code",
      "source": [
        "#new_train_data = translate_and_add_to_df(train_data, target_lg='en', intermed_lg='fr')\n",
        "#print(new_train_data['category'].value_counts())"
      ],
      "metadata": {
        "colab": {
          "base_uri": "https://localhost:8080/"
        },
        "id": "MWxw5-FYFFKP",
        "outputId": "aa021864-e5a8-4953-d0d9-2f789b03d8e9"
      },
      "id": "MWxw5-FYFFKP",
      "execution_count": null,
      "outputs": [
        {
          "output_type": "stream",
          "name": "stdout",
          "text": [
            "Non-anti-LGBT+ content    2978\n",
            "Homophobia                 358\n",
            "Transphobia                 14\n",
            "Name: category, dtype: int64\n"
          ]
        }
      ]
    },
    {
      "cell_type": "code",
      "source": [
        "#new_dev_data = translate_and_add_to_df(dev_data, target_lg='en', intermed_lg='fr')\n",
        "#print(new_dev_data['category'].value_counts())"
      ],
      "metadata": {
        "colab": {
          "base_uri": "https://localhost:8080/",
          "height": 193
        },
        "id": "uDo2DFmbbo26",
        "outputId": "8e49e261-db06-403a-b6b2-712432fca7e5"
      },
      "id": "uDo2DFmbbo26",
      "execution_count": null,
      "outputs": [
        {
          "output_type": "error",
          "ename": "NameError",
          "evalue": "name 'translate_and_add_to_df' is not defined",
          "traceback": [
            "\u001b[0;31m---------------------------------------------------------------------------\u001b[0m",
            "\u001b[0;31mNameError\u001b[0m                                 Traceback (most recent call last)",
            "\u001b[0;32m<ipython-input-1-d34631a5f190>\u001b[0m in \u001b[0;36m<cell line: 1>\u001b[0;34m()\u001b[0m\n\u001b[0;32m----> 1\u001b[0;31m \u001b[0mnew_dev_data\u001b[0m \u001b[0;34m=\u001b[0m \u001b[0mtranslate_and_add_to_df\u001b[0m\u001b[0;34m(\u001b[0m\u001b[0mdev_data\u001b[0m\u001b[0;34m,\u001b[0m \u001b[0mtarget_lg\u001b[0m\u001b[0;34m=\u001b[0m\u001b[0;34m'en'\u001b[0m\u001b[0;34m,\u001b[0m \u001b[0mintermed_lg\u001b[0m\u001b[0;34m=\u001b[0m\u001b[0;34m'fr'\u001b[0m\u001b[0;34m)\u001b[0m\u001b[0;34m\u001b[0m\u001b[0;34m\u001b[0m\u001b[0m\n\u001b[0m\u001b[1;32m      2\u001b[0m \u001b[0mprint\u001b[0m\u001b[0;34m(\u001b[0m\u001b[0mnew_dev_data\u001b[0m\u001b[0;34m[\u001b[0m\u001b[0;34m'category'\u001b[0m\u001b[0;34m]\u001b[0m\u001b[0;34m.\u001b[0m\u001b[0mvalue_counts\u001b[0m\u001b[0;34m(\u001b[0m\u001b[0;34m)\u001b[0m\u001b[0;34m)\u001b[0m\u001b[0;34m\u001b[0m\u001b[0;34m\u001b[0m\u001b[0m\n",
            "\u001b[0;31mNameError\u001b[0m: name 'translate_and_add_to_df' is not defined"
          ]
        }
      ]
    },
    {
      "cell_type": "code",
      "source": [
        "# New day, new idea.. Further translate under represented categories aka Transphobic so that we get a bit more balanced before\n",
        "# the actual oversampling process.\n",
        "\n",
        "\n",
        "# get my saved aug csv's\n",
        "augmented_train_eng_data = load_data('aug_translate_train_eng_data.csv')\n",
        "augmented_train_hin_data = load_data('aug_translate_train_hin_data.csv')\n",
        "augmented_train_mal_data = load_data('aug_translate_train_mal_data.csv')\n",
        "augmented_train_marathi_data = load_data('aug_translate_train_marathi_data.csv')\n",
        "augmented_train_spanish_data = load_data('aug_translate_train_spanish_data.csv')\n",
        "augmented_train_tam_data = load_data('aug_translate_train_tam_data.csv')"
      ],
      "metadata": {
        "id": "mfHo47ef1gSo"
      },
      "id": "mfHo47ef1gSo",
      "execution_count": null,
      "outputs": []
    },
    {
      "cell_type": "code",
      "source": [
        "print(augmented_train_eng_data['category'].value_counts())"
      ],
      "metadata": {
        "colab": {
          "base_uri": "https://localhost:8080/"
        },
        "id": "LQFgOwBS4zFz",
        "outputId": "6f9a9c48-8aee-4736-e55a-247cfbfcbb3a"
      },
      "id": "LQFgOwBS4zFz",
      "execution_count": null,
      "outputs": [
        {
          "output_type": "stream",
          "name": "stdout",
          "text": [
            "Non-anti-LGBT+ content    2978\n",
            "Homophobia                2864\n",
            "Transphobia                112\n",
            "Name: category, dtype: int64\n"
          ]
        }
      ]
    },
    {
      "cell_type": "code",
      "source": [
        "desired_categories = ['Transphobia']\n",
        "augmented_train_eng_data = translate_and_add_to_df(augmented_train_eng_data, 'en', 'fi', desired_categories)"
      ],
      "metadata": {
        "id": "neYPk5746Aze"
      },
      "id": "neYPk5746Aze",
      "execution_count": null,
      "outputs": []
    },
    {
      "cell_type": "code",
      "source": [
        "augmented_train_eng_data = translate_and_add_to_df(augmented_train_eng_data, 'en', 'bg', desired_categories)"
      ],
      "metadata": {
        "id": "zB_Z_mD06nSb"
      },
      "id": "zB_Z_mD06nSb",
      "execution_count": null,
      "outputs": []
    },
    {
      "cell_type": "code",
      "source": [
        "print(augmented_train_eng_data['category'].value_counts())"
      ],
      "metadata": {
        "colab": {
          "base_uri": "https://localhost:8080/"
        },
        "id": "ZUKRKZA-6-Bb",
        "outputId": "47308ad0-0507-4ebe-abf2-673b367665aa"
      },
      "id": "ZUKRKZA-6-Bb",
      "execution_count": null,
      "outputs": [
        {
          "output_type": "stream",
          "name": "stdout",
          "text": [
            "Non-anti-LGBT+ content    2978\n",
            "Homophobia                2864\n",
            "Transphobia                448\n",
            "Name: category, dtype: int64\n"
          ]
        }
      ]
    },
    {
      "cell_type": "code",
      "source": [
        "augmented_train_eng_data = translate_and_add_to_df(augmented_train_eng_data, 'en', 'hr', desired_categories)"
      ],
      "metadata": {
        "id": "DIumfgsv6qUj"
      },
      "id": "DIumfgsv6qUj",
      "execution_count": null,
      "outputs": []
    },
    {
      "cell_type": "code",
      "source": [
        "augmented_train_eng_data = translate_and_add_to_df(augmented_train_eng_data, 'en', 'pl', desired_categories)"
      ],
      "metadata": {
        "id": "F9Yw3JAC6qXt"
      },
      "id": "F9Yw3JAC6qXt",
      "execution_count": null,
      "outputs": []
    },
    {
      "cell_type": "code",
      "source": [
        "print(augmented_train_eng_data['category'].value_counts())"
      ],
      "metadata": {
        "colab": {
          "base_uri": "https://localhost:8080/"
        },
        "id": "tPDBSTyx6qaB",
        "outputId": "59299b65-71ad-4329-f618-c3b08d819f69"
      },
      "id": "tPDBSTyx6qaB",
      "execution_count": null,
      "outputs": [
        {
          "output_type": "stream",
          "name": "stdout",
          "text": [
            "Non-anti-LGBT+ content    2978\n",
            "Homophobia                2864\n",
            "Transphobia               1792\n",
            "Name: category, dtype: int64\n"
          ]
        }
      ]
    },
    {
      "cell_type": "code",
      "source": [
        "# now make it 100% balanced\n",
        "augmented_train_eng_data = translate_and_add_to_df_fixed_nr(augmented_train_eng_data, 'en', 'ru', ['Transphobia'], 1186)"
      ],
      "metadata": {
        "id": "s0-umry1D-UG"
      },
      "id": "s0-umry1D-UG",
      "execution_count": null,
      "outputs": []
    },
    {
      "cell_type": "code",
      "source": [
        "print(augmented_train_eng_data['category'].value_counts())"
      ],
      "metadata": {
        "colab": {
          "base_uri": "https://localhost:8080/"
        },
        "id": "AsaualT-FGta",
        "outputId": "0bf8b073-ed4b-4750-8b6a-6c75644f2d8c"
      },
      "id": "AsaualT-FGta",
      "execution_count": null,
      "outputs": [
        {
          "output_type": "stream",
          "name": "stdout",
          "text": [
            "Non-anti-LGBT+ content    2978\n",
            "Transphobia               2978\n",
            "Homophobia                2864\n",
            "Name: category, dtype: int64\n"
          ]
        }
      ]
    },
    {
      "cell_type": "code",
      "source": [
        "augmented_train_eng_data = translate_and_add_to_df_fixed_nr(augmented_train_eng_data, 'en', 'ru', ['Homophobia'], 114)"
      ],
      "metadata": {
        "id": "e_9WXox6FHTY"
      },
      "id": "e_9WXox6FHTY",
      "execution_count": null,
      "outputs": []
    },
    {
      "cell_type": "code",
      "source": [
        "print(augmented_train_eng_data['category'].value_counts())"
      ],
      "metadata": {
        "colab": {
          "base_uri": "https://localhost:8080/"
        },
        "id": "nZncCr0BEmVs",
        "outputId": "38d499ce-a36a-4c57-e42d-12b6bf38cc05"
      },
      "id": "nZncCr0BEmVs",
      "execution_count": null,
      "outputs": [
        {
          "output_type": "stream",
          "name": "stdout",
          "text": [
            "Non-anti-LGBT+ content    2978\n",
            "Homophobia                2978\n",
            "Transphobia               2978\n",
            "Name: category, dtype: int64\n"
          ]
        }
      ]
    },
    {
      "cell_type": "code",
      "source": [
        "# done with the english dataset"
      ],
      "metadata": {
        "id": "Rj9JOICaEmY8"
      },
      "id": "Rj9JOICaEmY8",
      "execution_count": null,
      "outputs": []
    },
    {
      "cell_type": "code",
      "source": [
        "print(augmented_train_hin_data['category'].value_counts())"
      ],
      "metadata": {
        "colab": {
          "base_uri": "https://localhost:8080/"
        },
        "id": "ckDbP5sH4zKl",
        "outputId": "326c2b97-8335-4c36-e0da-0defae3727d7"
      },
      "id": "ckDbP5sH4zKl",
      "execution_count": null,
      "outputs": [
        {
          "output_type": "stream",
          "name": "stdout",
          "text": [
            "Non-anti-LGBT+ content    2423\n",
            "Transphobia               1472\n",
            "Homophobia                 720\n",
            "Name: category, dtype: int64\n"
          ]
        }
      ]
    },
    {
      "cell_type": "code",
      "source": [
        "augmented_train_hin_data = translate_and_add_to_df(augmented_train_hin_data, 'hi', 'fi', ['Homophobia'])"
      ],
      "metadata": {
        "id": "ZnsUa_b47YqD"
      },
      "id": "ZnsUa_b47YqD",
      "execution_count": null,
      "outputs": []
    },
    {
      "cell_type": "code",
      "source": [
        "print(augmented_train_hin_data['category'].value_counts())"
      ],
      "metadata": {
        "colab": {
          "base_uri": "https://localhost:8080/"
        },
        "id": "bhT4nUWL7YyO",
        "outputId": "1c3e3c65-4429-4590-d588-9b46b8328031"
      },
      "id": "bhT4nUWL7YyO",
      "execution_count": null,
      "outputs": [
        {
          "output_type": "stream",
          "name": "stdout",
          "text": [
            "Non-anti-LGBT+ content    2423\n",
            "Transphobia               1472\n",
            "Homophobia                1440\n",
            "Name: category, dtype: int64\n"
          ]
        }
      ]
    },
    {
      "cell_type": "code",
      "source": [
        "#make it 100% balanced\n",
        "augmented_train_hin_data = translate_and_add_to_df_fixed_nr(augmented_train_hin_data, 'hi', 'sv', ['Homophobia'], 983)"
      ],
      "metadata": {
        "id": "15EBPw7YJ02N"
      },
      "id": "15EBPw7YJ02N",
      "execution_count": null,
      "outputs": []
    },
    {
      "cell_type": "code",
      "source": [
        "augmented_train_hin_data = translate_and_add_to_df_fixed_nr(augmented_train_hin_data, 'hi', 'sv', ['Transphobia'], 951)"
      ],
      "metadata": {
        "id": "cylYpeTMLFWJ"
      },
      "id": "cylYpeTMLFWJ",
      "execution_count": null,
      "outputs": []
    },
    {
      "cell_type": "code",
      "source": [
        "print(augmented_train_hin_data['category'].value_counts())"
      ],
      "metadata": {
        "colab": {
          "base_uri": "https://localhost:8080/"
        },
        "id": "NCSvJ_0ELgTi",
        "outputId": "7ff0dbc4-3a70-4051-f967-76dc6bbfc7c0"
      },
      "id": "NCSvJ_0ELgTi",
      "execution_count": null,
      "outputs": [
        {
          "output_type": "stream",
          "name": "stdout",
          "text": [
            "Non-anti-LGBT+ content    2423\n",
            "Homophobia                2423\n",
            "Transphobia               2423\n",
            "Name: category, dtype: int64\n"
          ]
        }
      ]
    },
    {
      "cell_type": "code",
      "source": [
        "# done with the HIN dataset"
      ],
      "metadata": {
        "id": "URk8vlB6LloD"
      },
      "id": "URk8vlB6LloD",
      "execution_count": null,
      "outputs": []
    },
    {
      "cell_type": "code",
      "source": [
        "print(augmented_train_mal_data['category'].value_counts())"
      ],
      "metadata": {
        "colab": {
          "base_uri": "https://localhost:8080/"
        },
        "id": "udtljmMZ4zN1",
        "outputId": "b8fa85c4-3d3e-4492-cb69-5999e524ef01"
      },
      "id": "udtljmMZ4zN1",
      "execution_count": null,
      "outputs": [
        {
          "output_type": "stream",
          "name": "stdout",
          "text": [
            "Non-anti-LGBT+ content    2468\n",
            "Homophobia                1904\n",
            "Transphobia               1360\n",
            "Name: category, dtype: int64\n"
          ]
        }
      ]
    },
    {
      "cell_type": "code",
      "source": [
        "augmented_train_mal_data = translate_and_add_to_df_fixed_nr(augmented_train_mal_data, 'ml', 'sv', ['Homophobia'], 564)"
      ],
      "metadata": {
        "id": "41DYMzpq736a"
      },
      "id": "41DYMzpq736a",
      "execution_count": null,
      "outputs": []
    },
    {
      "cell_type": "code",
      "source": [
        "augmented_train_mal_data = translate_and_add_to_df_fixed_nr(augmented_train_mal_data, 'ml', 'sv', ['Transphobia'], 1108)"
      ],
      "metadata": {
        "id": "rWWfEf6cOVKY"
      },
      "id": "rWWfEf6cOVKY",
      "execution_count": null,
      "outputs": []
    },
    {
      "cell_type": "code",
      "source": [
        "print(augmented_train_mal_data['category'].value_counts())"
      ],
      "metadata": {
        "colab": {
          "base_uri": "https://localhost:8080/"
        },
        "id": "H1Ua4_JM8HYE",
        "outputId": "dfb39d78-1ea9-4cfa-f7cd-557e83832152"
      },
      "id": "H1Ua4_JM8HYE",
      "execution_count": null,
      "outputs": [
        {
          "output_type": "stream",
          "name": "stdout",
          "text": [
            "Non-anti-LGBT+ content    2468\n",
            "Transphobia               2468\n",
            "Homophobia                2468\n",
            "Name: category, dtype: int64\n"
          ]
        }
      ]
    },
    {
      "cell_type": "code",
      "source": [
        "#done with mal dataset"
      ],
      "metadata": {
        "id": "ZVXq2-wIPC9p"
      },
      "id": "ZVXq2-wIPC9p",
      "execution_count": null,
      "outputs": []
    },
    {
      "cell_type": "code",
      "source": [
        "print(augmented_train_marathi_data['category'].value_counts())"
      ],
      "metadata": {
        "colab": {
          "base_uri": "https://localhost:8080/"
        },
        "id": "FgtNHGJQ4zR7",
        "outputId": "2547c7fd-1be1-4781-f43a-336aba55679c"
      },
      "id": "FgtNHGJQ4zR7",
      "execution_count": null,
      "outputs": [
        {
          "output_type": "stream",
          "name": "stdout",
          "text": [
            "Non-anti-LGBT+ content    2572\n",
            "Homophobia                2204\n",
            "Transphobia               1508\n",
            "Name: category, dtype: int64\n"
          ]
        }
      ]
    },
    {
      "cell_type": "code",
      "source": [
        "augmented_train_marathi_data = translate_and_add_to_df_fixed_nr(augmented_train_marathi_data, 'mr', 'sv', ['Homophobia'], 368)"
      ],
      "metadata": {
        "id": "FXJoVJaBPFzy"
      },
      "id": "FXJoVJaBPFzy",
      "execution_count": null,
      "outputs": []
    },
    {
      "cell_type": "code",
      "source": [
        "augmented_train_marathi_data = translate_and_add_to_df_fixed_nr(augmented_train_marathi_data, 'mr', 'sv', ['Transphobia'], 1064)"
      ],
      "metadata": {
        "id": "RmSk8LoDPF2u"
      },
      "id": "RmSk8LoDPF2u",
      "execution_count": null,
      "outputs": []
    },
    {
      "cell_type": "code",
      "source": [
        "print(augmented_train_marathi_data['category'].value_counts())"
      ],
      "metadata": {
        "colab": {
          "base_uri": "https://localhost:8080/"
        },
        "id": "iYx9sVjOPGGQ",
        "outputId": "0aa30cb9-19f2-4e92-d0d0-325a92186d02"
      },
      "id": "iYx9sVjOPGGQ",
      "execution_count": null,
      "outputs": [
        {
          "output_type": "stream",
          "name": "stdout",
          "text": [
            "Homophobia                2572\n",
            "Non-anti-LGBT+ content    2572\n",
            "Transphobia               2572\n",
            "Name: category, dtype: int64\n"
          ]
        }
      ]
    },
    {
      "cell_type": "code",
      "source": [
        "#done with marathi dataset"
      ],
      "metadata": {
        "id": "zMejfhD8Qpo4"
      },
      "id": "zMejfhD8Qpo4",
      "execution_count": null,
      "outputs": []
    },
    {
      "cell_type": "code",
      "source": [
        "print(augmented_train_spanish_data['category'].value_counts())"
      ],
      "metadata": {
        "colab": {
          "base_uri": "https://localhost:8080/"
        },
        "id": "hIZP0vKr4zVc",
        "outputId": "2ea62bbe-cdf7-4018-beac-8cde2cc7d0a1"
      },
      "id": "hIZP0vKr4zVc",
      "execution_count": null,
      "outputs": [
        {
          "output_type": "stream",
          "name": "stdout",
          "text": [
            "Non-anti-LGBT+ content    700\n",
            "Transphobia               500\n",
            "Homophobia                500\n",
            "Name: category, dtype: int64\n"
          ]
        }
      ]
    },
    {
      "cell_type": "code",
      "source": [
        "augmented_train_spanish_data = translate_and_add_to_df_fixed_nr(augmented_train_spanish_data, 'es', 'sv', ['Homophobia'], 200)"
      ],
      "metadata": {
        "id": "g4zDaoMoPGix"
      },
      "id": "g4zDaoMoPGix",
      "execution_count": null,
      "outputs": []
    },
    {
      "cell_type": "code",
      "source": [
        "augmented_train_spanish_data = translate_and_add_to_df_fixed_nr(augmented_train_spanish_data, 'es', 'sv', ['Transphobia'], 200)"
      ],
      "metadata": {
        "id": "1ToQYqfoPGkr"
      },
      "id": "1ToQYqfoPGkr",
      "execution_count": null,
      "outputs": []
    },
    {
      "cell_type": "code",
      "source": [
        "print(augmented_train_spanish_data['category'].value_counts())"
      ],
      "metadata": {
        "colab": {
          "base_uri": "https://localhost:8080/"
        },
        "id": "mSDkjzgLPGnE",
        "outputId": "e7544172-ab1e-4971-fc77-99b605c82452"
      },
      "id": "mSDkjzgLPGnE",
      "execution_count": null,
      "outputs": [
        {
          "output_type": "stream",
          "name": "stdout",
          "text": [
            "Non-anti-LGBT+ content    700\n",
            "Transphobia               700\n",
            "Homophobia                700\n",
            "Name: category, dtype: int64\n"
          ]
        }
      ]
    },
    {
      "cell_type": "code",
      "source": [
        "#done with spanish dataset"
      ],
      "metadata": {
        "id": "t31BM9pTQvh3"
      },
      "id": "t31BM9pTQvh3",
      "execution_count": null,
      "outputs": []
    },
    {
      "cell_type": "code",
      "source": [
        "print(augmented_train_tam_data['category'].value_counts())"
      ],
      "metadata": {
        "colab": {
          "base_uri": "https://localhost:8080/"
        },
        "id": "BRToaxmK4zaM",
        "outputId": "745a9afc-6b0f-4382-9e1f-60ab8403eaf6"
      },
      "id": "BRToaxmK4zaM",
      "execution_count": null,
      "outputs": [
        {
          "output_type": "stream",
          "name": "stdout",
          "text": [
            "Non-anti-LGBT+ content    2064\n",
            "Homophobia                1812\n",
            "Transphobia                580\n",
            "Name: category, dtype: int64\n"
          ]
        }
      ]
    },
    {
      "cell_type": "code",
      "source": [
        "# first add more samples to transphobia --> we ll have 1160\n",
        "augmented_train_tam_data = translate_and_add_to_df(augmented_train_tam_data, 'ta', 'ar', ['Transphobia'])"
      ],
      "metadata": {
        "id": "sWAtMXoNRypS"
      },
      "id": "sWAtMXoNRypS",
      "execution_count": null,
      "outputs": []
    },
    {
      "cell_type": "code",
      "source": [
        "augmented_train_tam_data = translate_and_add_to_df_fixed_nr(augmented_train_tam_data, 'ta', 'sv', ['Homophobia'], 252)"
      ],
      "metadata": {
        "id": "lYIsyaTkPHI_"
      },
      "id": "lYIsyaTkPHI_",
      "execution_count": null,
      "outputs": []
    },
    {
      "cell_type": "code",
      "source": [
        "augmented_train_tam_data = translate_and_add_to_df_fixed_nr(augmented_train_tam_data, 'ta', 'sv', ['Transphobia'], 904)"
      ],
      "metadata": {
        "id": "sh5qAu6GPHMC"
      },
      "id": "sh5qAu6GPHMC",
      "execution_count": null,
      "outputs": []
    },
    {
      "cell_type": "code",
      "source": [
        "print(augmented_train_tam_data['category'].value_counts())"
      ],
      "metadata": {
        "colab": {
          "base_uri": "https://localhost:8080/"
        },
        "id": "VCVgHQQKPHPd",
        "outputId": "e66c2909-8f22-461f-ed3f-c32daaf63794"
      },
      "id": "VCVgHQQKPHPd",
      "execution_count": null,
      "outputs": [
        {
          "output_type": "stream",
          "name": "stdout",
          "text": [
            "Non-anti-LGBT+ content    2064\n",
            "Transphobia               2064\n",
            "Homophobia                2064\n",
            "Name: category, dtype: int64\n"
          ]
        }
      ]
    },
    {
      "cell_type": "code",
      "source": [
        "#done with tam dataset"
      ],
      "metadata": {
        "id": "qZfsRQHGSSRo"
      },
      "id": "qZfsRQHGSSRo",
      "execution_count": null,
      "outputs": []
    },
    {
      "cell_type": "code",
      "source": [
        "# I did not augment these but I might\n",
        "train_telugu_data = load_data('homo_Telugu_train.csv')\n",
        "train_kannada_data = load_data('homo_Kannada_train.csv')\n",
        "train_gujarati_data = load_data('homo_Gujarati_train.csv')"
      ],
      "metadata": {
        "id": "O1eDnsxQ2x2E"
      },
      "id": "O1eDnsxQ2x2E",
      "execution_count": null,
      "outputs": []
    },
    {
      "cell_type": "code",
      "source": [
        "print(train_telugu_data['category'].value_counts())"
      ],
      "metadata": {
        "colab": {
          "base_uri": "https://localhost:8080/"
        },
        "id": "BOpeuReV4WaK",
        "outputId": "322d5e9b-f184-4e74-be44-01d73fbc475a"
      },
      "id": "BOpeuReV4WaK",
      "execution_count": null,
      "outputs": [
        {
          "output_type": "stream",
          "name": "stdout",
          "text": [
            "Non-anti-LGBT+ content    3496\n",
            "Homophobia                2907\n",
            "Transphobia               2647\n",
            "Name: category, dtype: int64\n"
          ]
        }
      ]
    },
    {
      "cell_type": "code",
      "source": [
        "augmented_train_telugu_data = translate_and_add_to_df_fixed_nr(train_telugu_data, 'te', 'en', ['Homophobia'], 589)"
      ],
      "metadata": {
        "id": "FOrIU_cNPIrw"
      },
      "id": "FOrIU_cNPIrw",
      "execution_count": null,
      "outputs": []
    },
    {
      "cell_type": "code",
      "source": [
        "augmented_train_telugu_data = translate_and_add_to_df_fixed_nr(augmented_train_telugu_data, 'te', 'en', ['Transphobia'], 849)"
      ],
      "metadata": {
        "id": "Acptqdl2PIuZ"
      },
      "id": "Acptqdl2PIuZ",
      "execution_count": null,
      "outputs": []
    },
    {
      "cell_type": "code",
      "source": [
        "print(augmented_train_telugu_data['category'].value_counts())"
      ],
      "metadata": {
        "colab": {
          "base_uri": "https://localhost:8080/"
        },
        "id": "PvhynukOPIxF",
        "outputId": "d7b738cc-c88a-44e1-bbaa-81d83f68c64d"
      },
      "id": "PvhynukOPIxF",
      "execution_count": null,
      "outputs": [
        {
          "output_type": "stream",
          "name": "stdout",
          "text": [
            "Non-anti-LGBT+ content    3496\n",
            "Transphobia               3496\n",
            "Homophobia                3496\n",
            "Name: category, dtype: int64\n"
          ]
        }
      ]
    },
    {
      "cell_type": "code",
      "source": [
        "#done with telugu dataset"
      ],
      "metadata": {
        "id": "0JPb1siwWpDM"
      },
      "id": "0JPb1siwWpDM",
      "execution_count": null,
      "outputs": []
    },
    {
      "cell_type": "code",
      "source": [
        "print(train_kannada_data['category'].value_counts())"
      ],
      "metadata": {
        "colab": {
          "base_uri": "https://localhost:8080/"
        },
        "id": "bdxGI3Pi4Yd0",
        "outputId": "13436ea1-cb07-4b0c-bc7e-71412d53ff1f"
      },
      "id": "bdxGI3Pi4Yd0",
      "execution_count": null,
      "outputs": [
        {
          "output_type": "stream",
          "name": "stdout",
          "text": [
            "Non-anti-LGBT+ content    4463\n",
            "Transphobia               2835\n",
            "Homophobia                2765\n",
            "Name: category, dtype: int64\n"
          ]
        }
      ]
    },
    {
      "cell_type": "code",
      "source": [
        "augmented_train_kannada_data = translate_and_add_to_df_fixed_nr(train_kannada_data, 'kn', 'en', ['Homophobia'], 1698)"
      ],
      "metadata": {
        "id": "gLUrPbY0PJQM"
      },
      "id": "gLUrPbY0PJQM",
      "execution_count": null,
      "outputs": []
    },
    {
      "cell_type": "code",
      "source": [
        "augmented_train_kannada_data = translate_and_add_to_df_fixed_nr(augmented_train_kannada_data, 'kn', 'en', ['Transphobia'], 1628)"
      ],
      "metadata": {
        "id": "dkHKobo9PJTA"
      },
      "id": "dkHKobo9PJTA",
      "execution_count": null,
      "outputs": []
    },
    {
      "cell_type": "code",
      "source": [
        "print(augmented_train_kannada_data['category'].value_counts())"
      ],
      "metadata": {
        "colab": {
          "base_uri": "https://localhost:8080/"
        },
        "id": "RDgSPSgIPJVf",
        "outputId": "b8730b5e-a320-42fe-f5da-bc1a4239c348"
      },
      "id": "RDgSPSgIPJVf",
      "execution_count": null,
      "outputs": [
        {
          "output_type": "stream",
          "name": "stdout",
          "text": [
            "Homophobia                4463\n",
            "Transphobia               4463\n",
            "Non-anti-LGBT+ content    4463\n",
            "Name: category, dtype: int64\n"
          ]
        }
      ]
    },
    {
      "cell_type": "code",
      "source": [
        "#done with kannada dataset"
      ],
      "metadata": {
        "id": "N5tVn_fMWqoF"
      },
      "id": "N5tVn_fMWqoF",
      "execution_count": null,
      "outputs": []
    },
    {
      "cell_type": "code",
      "source": [
        "print(train_gujarati_data['category'].value_counts())"
      ],
      "metadata": {
        "colab": {
          "base_uri": "https://localhost:8080/"
        },
        "id": "2v3NLjth4YiR",
        "outputId": "8df87c1d-dcd9-4f49-a4e7-ae884d7f56d8"
      },
      "id": "2v3NLjth4YiR",
      "execution_count": null,
      "outputs": [
        {
          "output_type": "stream",
          "name": "stdout",
          "text": [
            "Non-anti-LGBT+ content    3848\n",
            "Homophobia                2267\n",
            "Transphobia               2004\n",
            "Name: category, dtype: int64\n"
          ]
        }
      ]
    },
    {
      "cell_type": "code",
      "source": [
        "augmented_train_gujarati_data = translate_and_add_to_df_fixed_nr(train_gujarati_data, 'gu', 'en', ['Homophobia'], 1581)"
      ],
      "metadata": {
        "id": "uktG_Zt9PJ7N"
      },
      "id": "uktG_Zt9PJ7N",
      "execution_count": null,
      "outputs": []
    },
    {
      "cell_type": "code",
      "source": [
        "augmented_train_gujarati_data = translate_and_add_to_df_fixed_nr(augmented_train_gujarati_data, 'gu', 'en', ['Transphobia'], 1844)"
      ],
      "metadata": {
        "id": "m6UXy0iXPJ94"
      },
      "id": "m6UXy0iXPJ94",
      "execution_count": null,
      "outputs": []
    },
    {
      "cell_type": "code",
      "source": [
        "print(augmented_train_gujarati_data['category'].value_counts())"
      ],
      "metadata": {
        "colab": {
          "base_uri": "https://localhost:8080/"
        },
        "id": "fu5JbLzKW7eL",
        "outputId": "d8042317-33af-430d-c3af-24b80eee0002"
      },
      "id": "fu5JbLzKW7eL",
      "execution_count": null,
      "outputs": [
        {
          "output_type": "stream",
          "name": "stdout",
          "text": [
            "Non-anti-LGBT+ content    3848\n",
            "Homophobia                3848\n",
            "Transphobia               3848\n",
            "Name: category, dtype: int64\n"
          ]
        }
      ]
    },
    {
      "cell_type": "code",
      "source": [
        "#done with gujarati dataset"
      ],
      "metadata": {
        "id": "urIs3enpPKCm"
      },
      "id": "urIs3enpPKCm",
      "execution_count": null,
      "outputs": []
    },
    {
      "cell_type": "code",
      "source": [
        "# shuffle all of them?\n",
        "balanced_augmented_train_eng_data = augmented_train_eng_data.sample(frac=1).reset_index(drop=True)\n",
        "balanced_augmented_train_tam_data = augmented_train_tam_data.sample(frac=1).reset_index(drop=True)\n",
        "balanced_augmented_train_mal_data = augmented_train_mal_data.sample(frac=1).reset_index(drop=True)\n",
        "balanced_augmented_train_hin_data = augmented_train_hin_data.sample(frac=1).reset_index(drop=True)\n",
        "balanced_augmented_train_marathi_data = augmented_train_marathi_data.sample(frac=1).reset_index(drop=True)\n",
        "balanced_augmented_train_spanish_data = augmented_train_spanish_data.sample(frac=1).reset_index(drop=True)\n",
        "balanced_augmented_train_telugu_data = augmented_train_telugu_data.sample(frac=1).reset_index(drop=True)\n",
        "balanced_augmented_train_kannada_data = augmented_train_kannada_data.sample(frac=1).reset_index(drop=True)\n",
        "balanced_augmented_train_gujarati_data = augmented_train_gujarati_data.sample(frac=1).reset_index(drop=True)"
      ],
      "metadata": {
        "id": "fDJldB5mXImS"
      },
      "id": "fDJldB5mXImS",
      "execution_count": null,
      "outputs": []
    },
    {
      "cell_type": "code",
      "source": [
        "#now we have 100% balance between classes in all languages. Next --> oversampling so that we have the same amount of comments in all languages\n",
        "#maximum: with a total of samples for all 3 classes\n",
        "dfs = [balanced_augmented_train_eng_data, balanced_augmented_train_tam_data, balanced_augmented_train_mal_data,\n",
        "       balanced_augmented_train_hin_data, balanced_augmented_train_marathi_data, balanced_augmented_train_spanish_data,\n",
        "       balanced_augmented_train_telugu_data, balanced_augmented_train_kannada_data, balanced_augmented_train_gujarati_data]"
      ],
      "metadata": {
        "id": "2qI7hcQkWtZq"
      },
      "id": "2qI7hcQkWtZq",
      "execution_count": null,
      "outputs": []
    },
    {
      "cell_type": "code",
      "source": [
        "balanced_augmented_train_eng_data.to_csv('balanced_augmented_train_eng_data.csv', index=False)\n",
        "balanced_augmented_train_tam_data.to_csv('balanced_augmented_train_tam_data.csv', index=False)\n",
        "balanced_augmented_train_mal_data.to_csv('balanced_augmented_train_mal_data.csv', index=False)\n",
        "balanced_augmented_train_hin_data.to_csv('balanced_augmented_train_hin_data.csv', index=False)\n",
        "balanced_augmented_train_marathi_data.to_csv('balanced_augmented_train_marathi_data.csv', index=False)\n",
        "balanced_augmented_train_spanish_data.to_csv('balanced_augmented_train_spanish_data.csv', index=False)\n",
        "balanced_augmented_train_telugu_data.to_csv('balanced_augmented_train_telugu_data.csv', index=False)\n",
        "balanced_augmented_train_kannada_data.to_csv('balanced_augmented_train_kannada_data.csv', index=False)\n",
        "balanced_augmented_train_gujarati_data.to_csv('balanced_augmented_train_gujarati_data.csv', index=False)\n",
        "\n",
        "final_training_set = pd.concat(dfs, ignore_index=True)"
      ],
      "metadata": {
        "id": "Kh8b6CMPfYsX"
      },
      "id": "Kh8b6CMPfYsX",
      "execution_count": null,
      "outputs": []
    },
    {
      "cell_type": "code",
      "source": [
        "\n",
        "final_training_set = pd.concat(dfs, ignore_index=True)"
      ],
      "metadata": {
        "id": "SWR0uAfNz09c"
      },
      "id": "SWR0uAfNz09c",
      "execution_count": null,
      "outputs": []
    },
    {
      "cell_type": "code",
      "source": [
        "from sklearn.utils import resample\n",
        "max_rows = 4463\n",
        "\n",
        "oversampled_dfs = []\n",
        "for df in dfs:\n",
        "    oversampled_grouped = df.groupby('category', group_keys=False).apply(lambda x: resample(x, replace=True, n_samples=max_rows))\n",
        "    oversampled_dfs.append(oversampled_grouped)\n",
        "\n",
        "for i, oversampled_df in enumerate(oversampled_dfs):\n",
        "    print(len(oversampled_df))"
      ],
      "metadata": {
        "colab": {
          "base_uri": "https://localhost:8080/"
        },
        "id": "7C9rQKMB4g8y",
        "outputId": "819120a2-0afb-4e28-faf2-a15c744dff75"
      },
      "id": "7C9rQKMB4g8y",
      "execution_count": null,
      "outputs": [
        {
          "output_type": "stream",
          "name": "stdout",
          "text": [
            "13389\n",
            "13389\n",
            "13389\n",
            "13389\n",
            "13389\n",
            "13389\n",
            "13389\n",
            "13389\n",
            "13389\n"
          ]
        }
      ]
    },
    {
      "cell_type": "code",
      "source": [
        "#concatenate everything and get one single dataset for training\n",
        "final_training_set = pd.concat(oversampled_dfs, ignore_index=True)"
      ],
      "metadata": {
        "id": "xpx5XjzpgWSi"
      },
      "id": "xpx5XjzpgWSi",
      "execution_count": null,
      "outputs": []
    },
    {
      "cell_type": "code",
      "source": [
        "final_training_set = final_training_set.sample(frac=1).reset_index(drop=True)"
      ],
      "metadata": {
        "id": "qX2FDJkljLlf"
      },
      "id": "qX2FDJkljLlf",
      "execution_count": null,
      "outputs": []
    },
    {
      "cell_type": "code",
      "source": [
        "final_training_set.to_csv('final_training_set_without_OS_shuffled.csv', index=False)"
      ],
      "metadata": {
        "id": "KM-nt1QCi2rZ"
      },
      "id": "KM-nt1QCi2rZ",
      "execution_count": null,
      "outputs": []
    },
    {
      "cell_type": "code",
      "source": [
        "#oversample at category level, independently for each language set\n",
        "\n",
        "# def oversample_to_third(df, target_column='category'):\n",
        "#     # Calculate the new size for each class (count of Non-anti-LGBT+ content)\n",
        "#     new_size_per_class = df['category'].value_counts()['Non-anti-LGBT+ content']\n",
        "#     print(new_size_per_class)\n",
        "\n",
        "#     # Oversample smaller classes to this new size\n",
        "#     resampled_dfs = [resample(df[df[target_column] == cls],\n",
        "#                               replace=True,\n",
        "#                               n_samples=new_size_per_class,\n",
        "#                               random_state=123)\n",
        "#                      if len(df[df[target_column] == cls]) < new_size_per_class\n",
        "#                      else df[df[target_column] == cls]\n",
        "#                      for cls in ['Homophobia', 'Transphobia', 'Non-anti-LGBT+ content']]\n",
        "\n",
        "#     # Combine resampled DataFrames\n",
        "#     balanced_df = pd.concat(resampled_dfs, ignore_index=True)\n",
        "#     return balanced_df\n",
        "\n",
        "# # Balance the classes\n",
        "# balanced_augmented_train_eng_data = oversample_to_third(augmented_train_eng_data)\n",
        "\n",
        "# # Verify the new class distribution\n",
        "# print(balanced_augmented_train_eng_data['category'].value_counts())"
      ],
      "metadata": {
        "colab": {
          "base_uri": "https://localhost:8080/"
        },
        "id": "HltPGEOMUtT9",
        "outputId": "f0f12087-8806-4303-a414-5316ba1a3e8f"
      },
      "id": "HltPGEOMUtT9",
      "execution_count": null,
      "outputs": [
        {
          "output_type": "stream",
          "name": "stdout",
          "text": [
            "2978\n",
            "Homophobia                2978\n",
            "Transphobia               2978\n",
            "Non-anti-LGBT+ content    2978\n",
            "Name: category, dtype: int64\n"
          ]
        }
      ]
    },
    {
      "cell_type": "code",
      "source": [
        "# balanced_augmented_train_tam_data = oversample_to_third(augmented_train_tam_data)\n",
        "# print(balanced_augmented_train_tam_data['category'].value_counts())"
      ],
      "metadata": {
        "colab": {
          "base_uri": "https://localhost:8080/"
        },
        "id": "S0UvhlRWO3KS",
        "outputId": "16ba3653-418c-4186-8190-b04b49fb6669"
      },
      "id": "S0UvhlRWO3KS",
      "execution_count": null,
      "outputs": [
        {
          "output_type": "stream",
          "name": "stdout",
          "text": [
            "2064\n",
            "Homophobia                2064\n",
            "Transphobia               2064\n",
            "Non-anti-LGBT+ content    2064\n",
            "Name: category, dtype: int64\n"
          ]
        }
      ]
    },
    {
      "cell_type": "code",
      "source": [
        "# balanced_augmented_train_mal_data = oversample_to_third(augmented_train_mal_data)\n",
        "# print(balanced_augmented_train_mal_data['category'].value_counts())"
      ],
      "metadata": {
        "colab": {
          "base_uri": "https://localhost:8080/"
        },
        "id": "xp4LxeaSQ3ui",
        "outputId": "2e2acda3-45b2-499a-9102-97e56781d4d9"
      },
      "id": "xp4LxeaSQ3ui",
      "execution_count": null,
      "outputs": [
        {
          "output_type": "stream",
          "name": "stdout",
          "text": [
            "2468\n",
            "Homophobia                2468\n",
            "Transphobia               2468\n",
            "Non-anti-LGBT+ content    2468\n",
            "Name: category, dtype: int64\n"
          ]
        }
      ]
    },
    {
      "cell_type": "code",
      "source": [
        "# balanced_augmented_train_hin_data = oversample_to_third(augmented_train_hin_data)\n",
        "# print(balanced_augmented_train_hin_data['category'].value_counts())"
      ],
      "metadata": {
        "colab": {
          "base_uri": "https://localhost:8080/"
        },
        "id": "oOYgDMBOQ39C",
        "outputId": "8edd70c6-77c6-4b93-cb79-6100c3dbe6e4"
      },
      "id": "oOYgDMBOQ39C",
      "execution_count": null,
      "outputs": [
        {
          "output_type": "stream",
          "name": "stdout",
          "text": [
            "2423\n",
            "Homophobia                2423\n",
            "Transphobia               2423\n",
            "Non-anti-LGBT+ content    2423\n",
            "Name: category, dtype: int64\n"
          ]
        }
      ]
    },
    {
      "cell_type": "code",
      "source": [
        "# balanced_augmented_train_marathi_data = oversample_to_third(augmented_train_marathi_data)\n",
        "# print(balanced_augmented_train_marathi_data['category'].value_counts())"
      ],
      "metadata": {
        "colab": {
          "base_uri": "https://localhost:8080/"
        },
        "id": "0aPYjjOtQ3_b",
        "outputId": "bdd10941-cf13-4e06-85fc-fe5c3353cfa6"
      },
      "id": "0aPYjjOtQ3_b",
      "execution_count": null,
      "outputs": [
        {
          "output_type": "stream",
          "name": "stdout",
          "text": [
            "2572\n",
            "Homophobia                2572\n",
            "Transphobia               2572\n",
            "Non-anti-LGBT+ content    2572\n",
            "Name: category, dtype: int64\n"
          ]
        }
      ]
    },
    {
      "cell_type": "code",
      "source": [
        "# balanced_augmented_train_spanish_data = oversample_to_third(augmented_train_spanish_data)\n",
        "# print(balanced_augmented_train_spanish_data['category'].value_counts())"
      ],
      "metadata": {
        "colab": {
          "base_uri": "https://localhost:8080/"
        },
        "id": "u_lJW5yaQ4Br",
        "outputId": "bc9aadf1-522b-439a-ea5a-dc5202437f03"
      },
      "id": "u_lJW5yaQ4Br",
      "execution_count": null,
      "outputs": [
        {
          "output_type": "stream",
          "name": "stdout",
          "text": [
            "700\n",
            "Homophobia                700\n",
            "Transphobia               700\n",
            "Non-anti-LGBT+ content    700\n",
            "Name: category, dtype: int64\n"
          ]
        }
      ]
    },
    {
      "cell_type": "code",
      "source": [
        "# balanced_augmented_train_telugu_data = oversample_to_third(train_telugu_data)\n",
        "# print(balanced_augmented_train_telugu_data['category'].value_counts())"
      ],
      "metadata": {
        "colab": {
          "base_uri": "https://localhost:8080/"
        },
        "id": "_51MvEq9RXoS",
        "outputId": "d1789ea5-fe69-4110-d2c0-41b9803dc388"
      },
      "id": "_51MvEq9RXoS",
      "execution_count": null,
      "outputs": [
        {
          "output_type": "stream",
          "name": "stdout",
          "text": [
            "3496\n",
            "Homophobia                3496\n",
            "Transphobia               3496\n",
            "Non-anti-LGBT+ content    3496\n",
            "Name: category, dtype: int64\n"
          ]
        }
      ]
    },
    {
      "cell_type": "code",
      "source": [
        "# balanced_augmented_train_kannada_data = oversample_to_third(train_kannada_data)\n",
        "# print(balanced_augmented_train_kannada_data['category'].value_counts())"
      ],
      "metadata": {
        "colab": {
          "base_uri": "https://localhost:8080/"
        },
        "id": "xtLYH0mKRXq1",
        "outputId": "3d2593be-ca67-48c9-da3f-b9d791686f8b"
      },
      "id": "xtLYH0mKRXq1",
      "execution_count": null,
      "outputs": [
        {
          "output_type": "stream",
          "name": "stdout",
          "text": [
            "4463\n",
            "Homophobia                4463\n",
            "Transphobia               4463\n",
            "Non-anti-LGBT+ content    4463\n",
            "Name: category, dtype: int64\n"
          ]
        }
      ]
    },
    {
      "cell_type": "code",
      "source": [
        "# balanced_augmented_train_gujarati_data = oversample_to_third(train_gujarati_data)\n",
        "# print(balanced_augmented_train_gujarati_data['category'].value_counts())"
      ],
      "metadata": {
        "colab": {
          "base_uri": "https://localhost:8080/"
        },
        "id": "59qwrWGKRXs7",
        "outputId": "100d3390-9a1f-429e-b84d-1e0b96e725a9"
      },
      "id": "59qwrWGKRXs7",
      "execution_count": null,
      "outputs": [
        {
          "output_type": "stream",
          "name": "stdout",
          "text": [
            "3848\n",
            "Homophobia                3848\n",
            "Transphobia               3848\n",
            "Non-anti-LGBT+ content    3848\n",
            "Name: category, dtype: int64\n"
          ]
        }
      ]
    },
    {
      "cell_type": "code",
      "source": [
        "balanced_augmented_train_eng_data = balanced_augmented_train_eng_data.sample(frac=1).reset_index(drop=True)\n",
        "balanced_augmented_train_tam_data = balanced_augmented_train_tam_data.sample(frac=1).reset_index(drop=True)\n",
        "balanced_augmented_train_mal_data = balanced_augmented_train_mal_data.sample(frac=1).reset_index(drop=True)\n",
        "balanced_augmented_train_hin_data = balanced_augmented_train_hin_data.sample(frac=1).reset_index(drop=True)\n",
        "balanced_augmented_train_marathi_data = balanced_augmented_train_marathi_data.sample(frac=1).reset_index(drop=True)\n",
        "balanced_augmented_train_spanish_data = balanced_augmented_train_spanish_data.sample(frac=1).reset_index(drop=True)\n",
        "balanced_augmented_train_telugu_data = balanced_augmented_train_telugu_data.sample(frac=1).reset_index(drop=True)\n",
        "balanced_augmented_train_kannada_data = balanced_augmented_train_kannada_data.sample(frac=1).reset_index(drop=True)\n",
        "balanced_augmented_train_gujarati_data = balanced_augmented_train_gujarati_data.sample(frac=1).reset_index(drop=True)"
      ],
      "metadata": {
        "id": "SeOBJOm6UtYs"
      },
      "id": "SeOBJOm6UtYs",
      "execution_count": null,
      "outputs": []
    },
    {
      "cell_type": "code",
      "source": [
        "print(balanced_augmented_train_eng_data)"
      ],
      "metadata": {
        "colab": {
          "base_uri": "https://localhost:8080/"
        },
        "id": "nIVeZBAwTnXM",
        "outputId": "3ee29378-514b-41f5-87dd-0af84eafb3f7"
      },
      "id": "nIVeZBAwTnXM",
      "execution_count": null,
      "outputs": [
        {
          "output_type": "stream",
          "name": "stdout",
          "text": [
            "                                                   text  \\\n",
            "0     Inta mutta pundayinga tola tanga mudira bus la...   \n",
            "1                                        any btm sucker   \n",
            "2     You tried to make a joke with a normal girl, b...   \n",
            "3     Background music is so good I like this movie ...   \n",
            "4     All the transferees say that they are prostitu...   \n",
            "...                                                 ...   \n",
            "8929         Wait is meera really trans                   \n",
            "8930  Brow  I love ur act  Such a natural Act       ...   \n",
            "8931  IN india how many of them folowing our culture...   \n",
            "8932  Im crying more effective emotions                   \n",
            "8933  Hii so called intellectual has nothing to say ...   \n",
            "\n",
            "                    category  \n",
            "0                 Homophobia  \n",
            "1                 Homophobia  \n",
            "2                Transphobia  \n",
            "3     Non-anti-LGBT+ content  \n",
            "4                Transphobia  \n",
            "...                      ...  \n",
            "8929  Non-anti-LGBT+ content  \n",
            "8930  Non-anti-LGBT+ content  \n",
            "8931  Non-anti-LGBT+ content  \n",
            "8932  Non-anti-LGBT+ content  \n",
            "8933  Non-anti-LGBT+ content  \n",
            "\n",
            "[8934 rows x 2 columns]\n"
          ]
        }
      ]
    },
    {
      "cell_type": "code",
      "source": [
        "#concatenate everything and get one single dataset for training\n",
        "pdList = [balanced_augmented_train_eng_data, balanced_augmented_train_tam_data,balanced_augmented_train_mal_data,\n",
        "          balanced_augmented_train_hin_data, balanced_augmented_train_marathi_data, balanced_augmented_train_spanish_data,\n",
        "          balanced_augmented_train_telugu_data, balanced_augmented_train_kannada_data, balanced_augmented_train_gujarati_data]\n",
        "final_training_set = pd.concat(pdList, ignore_index=True)"
      ],
      "metadata": {
        "id": "LcZe4i-UTAeq"
      },
      "id": "LcZe4i-UTAeq",
      "execution_count": null,
      "outputs": []
    },
    {
      "cell_type": "code",
      "source": [
        "final_training_set = final_training_set.sample(frac=1).reset_index(drop=True)"
      ],
      "metadata": {
        "id": "p5AONiwEVr4M"
      },
      "id": "p5AONiwEVr4M",
      "execution_count": null,
      "outputs": []
    },
    {
      "cell_type": "code",
      "source": [
        "print(final_training_set)"
      ],
      "metadata": {
        "colab": {
          "base_uri": "https://localhost:8080/"
        },
        "id": "c_6eqRztVu2p",
        "outputId": "95b0fb27-f32e-4620-ff20-418b2c89dc70"
      },
      "id": "c_6eqRztVu2p",
      "execution_count": null,
      "outputs": [
        {
          "output_type": "stream",
          "name": "stdout",
          "text": [
            "                                                    text  \\\n",
            "0      சுற்றத்தை கெடுத்து gay ahh வாழ்வதை விட  அடுத்த...   \n",
            "1           ટ્રાન્સજેન્ડરો સમાજના મૂલ્યોનો અનાદર કરે છે.   \n",
            "2        તમે ટ્રાન્સજેન્ડર છો? તમને શાને કરવામાં આવે છે?   \n",
            "3                పెళ్లిపై ఆమిర్‌కు సల్మాన్ గట్టి కౌంటర్!   \n",
            "4      તેમની જાતિ કેવી રીતે તેમની જેન્ડર ઓળખને પ્રભાવ...   \n",
            "...                                                  ...   \n",
            "75031  Rajeswari Rajagopalan Sister Last week when I ...   \n",
            "75032  તમે ટ્રાન્સજેન્ડર છો એટલે તમને અસલી માણસ તરીકે...   \n",
            "75033  Venkat Raman போடா மெண்டல்  9 துங்ககிட்ட நீ அசி...   \n",
            "75034  இது வரவேற்கத்தக்க தீர்ப்பு ஏனென்றால் தன்பாலின ...   \n",
            "75035  રસ્તા પર અચાનક નાચવા લાગી ટીવી એકટ્રેસ, 6 લાખ ...   \n",
            "\n",
            "                     category  \n",
            "0                  Homophobia  \n",
            "1                 Transphobia  \n",
            "2                 Transphobia  \n",
            "3      Non-anti-LGBT+ content  \n",
            "4                 Transphobia  \n",
            "...                       ...  \n",
            "75031             Transphobia  \n",
            "75032             Transphobia  \n",
            "75033             Transphobia  \n",
            "75034  Non-anti-LGBT+ content  \n",
            "75035  Non-anti-LGBT+ content  \n",
            "\n",
            "[75036 rows x 2 columns]\n"
          ]
        }
      ]
    },
    {
      "cell_type": "code",
      "source": [
        "#final_training_set = load_data('final_training_set.csv')"
      ],
      "metadata": {
        "id": "v-9TeOYHXoXy"
      },
      "id": "v-9TeOYHXoXy",
      "execution_count": null,
      "outputs": []
    },
    {
      "cell_type": "code",
      "source": [
        "final_training_set.to_csv('final_training_set.csv', index=False)"
      ],
      "metadata": {
        "id": "dy4lOlPJV0-y"
      },
      "id": "dy4lOlPJV0-y",
      "execution_count": null,
      "outputs": []
    }
  ],
  "metadata": {
    "kernelspec": {
      "display_name": "Python 3",
      "name": "python3"
    },
    "language_info": {
      "codemirror_mode": {
        "name": "ipython",
        "version": 3
      },
      "file_extension": ".py",
      "mimetype": "text/x-python",
      "name": "python",
      "nbconvert_exporter": "python",
      "pygments_lexer": "ipython3",
      "version": "3.9.7"
    },
    "colab": {
      "provenance": [],
      "gpuType": "T4"
    }
  },
  "nbformat": 4,
  "nbformat_minor": 5
}