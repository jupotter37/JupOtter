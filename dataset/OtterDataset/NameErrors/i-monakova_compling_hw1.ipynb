{
  "nbformat": 4,
  "nbformat_minor": 0,
  "metadata": {
    "colab": {
      "provenance": [],
      "authorship_tag": "ABX9TyOosw5McOO5S/YXjBZcXZlM",
      "include_colab_link": true
    },
    "kernelspec": {
      "name": "python3",
      "display_name": "Python 3"
    },
    "language_info": {
      "name": "python"
    }
  },
  "cells": [
    {
      "cell_type": "markdown",
      "metadata": {
        "id": "view-in-github",
        "colab_type": "text"
      },
      "source": [
        "<a href=\"https://colab.research.google.com/github/i-monakova/compling/blob/main/hw1.ipynb\" target=\"_parent\"><img src=\"https://colab.research.google.com/assets/colab-badge.svg\" alt=\"Open In Colab\"/></a>"
      ]
    },
    {
      "cell_type": "code",
      "source": [
        "import nltk\n",
        "nltk.download('punkt')\n",
        "nltk.download('wordnet')\n",
        "nltk.download('stopwords')\n",
        "nltk.download('punkt')"
      ],
      "metadata": {
        "id": "TDwsc_yQdqPv",
        "colab": {
          "base_uri": "https://localhost:8080/"
        },
        "outputId": "eefe6cd7-c125-4452-ce97-82c5f2cc1b74"
      },
      "execution_count": 1,
      "outputs": [
        {
          "output_type": "stream",
          "name": "stderr",
          "text": [
            "[nltk_data] Downloading package punkt to /root/nltk_data...\n",
            "[nltk_data]   Unzipping tokenizers/punkt.zip.\n",
            "[nltk_data] Downloading package wordnet to /root/nltk_data...\n",
            "[nltk_data] Downloading package stopwords to /root/nltk_data...\n",
            "[nltk_data]   Unzipping corpora/stopwords.zip.\n",
            "[nltk_data] Downloading package punkt to /root/nltk_data...\n",
            "[nltk_data]   Package punkt is already up-to-date!\n"
          ]
        },
        {
          "output_type": "execute_result",
          "data": {
            "text/plain": [
              "True"
            ]
          },
          "metadata": {},
          "execution_count": 1
        }
      ]
    },
    {
      "cell_type": "code",
      "source": [
        "import re\n",
        "import nltk\n",
        "from nltk.stem import WordNetLemmatizer\n",
        "from nltk.tokenize import word_tokenize\n",
        "from gensim.models import Word2Vec\n",
        "\n",
        "# прописываем путь к файлу\n",
        "file_path = '/content/a tale of two cities.txt'\n",
        "\n",
        "# открываем файл для чтения ('r')\n",
        "with open(file_path, 'r') as file:\n",
        "    # записываем содержимое файла в переменную\n",
        "    text_content = file.read()\n",
        "\n",
        "# выведем на экран часть содержимого\n",
        "text_content[:100]\n"
      ],
      "metadata": {
        "id": "-UGVE1oWdrbO",
        "colab": {
          "base_uri": "https://localhost:8080/",
          "height": 53
        },
        "outputId": "5bf6cd7d-cfca-4428-f147-170207d05da0"
      },
      "execution_count": 2,
      "outputs": [
        {
          "output_type": "execute_result",
          "data": {
            "text/plain": [
              "'The Period\\n\\nIt was the best of times, it was the worst of times, it was the age of wisdom, it was th'"
            ],
            "application/vnd.google.colaboratory.intrinsic+json": {
              "type": "string"
            }
          },
          "metadata": {},
          "execution_count": 2
        }
      ]
    },
    {
      "cell_type": "code",
      "source": [
        "import re\n",
        "import nltk\n",
        "from nltk.stem import WordNetLemmatizer\n",
        "\n",
        "def clean_text(text):\n",
        "    # приводим текст к нижнему регистру\n",
        "    text = text.lower()\n",
        "\n",
        "    # удаляем все символы кроме букв\n",
        "    text = re.sub(r'[^a-z\\s]', '', text)\n",
        "\n",
        "    # удаляем двойные пробелы\n",
        "    text = re.sub(r'\\s+', ' ', text).strip()\n",
        "\n",
        "    return text\n",
        "\n",
        "cleaned_text = clean_text(text_content)\n",
        "\n",
        "# выведем на экран часть обработанного текста\n",
        "cleaned_text[:100]"
      ],
      "metadata": {
        "id": "qTnVMpcrd-D8",
        "colab": {
          "base_uri": "https://localhost:8080/",
          "height": 53
        },
        "outputId": "d9521189-0efe-48a0-b72d-36077135361f"
      },
      "execution_count": 3,
      "outputs": [
        {
          "output_type": "execute_result",
          "data": {
            "text/plain": [
              "'the period it was the best of times it was the worst of times it was the age of wisdom it was the ag'"
            ],
            "application/vnd.google.colaboratory.intrinsic+json": {
              "type": "string"
            }
          },
          "metadata": {},
          "execution_count": 3
        }
      ]
    },
    {
      "cell_type": "code",
      "source": [
        "import re\n",
        "import nltk\n",
        "from nltk.stem import WordNetLemmatizer\n",
        "\n",
        "def clean_text(text):\n",
        "    # приводим текст к нижнему регистру\n",
        "    text = text.lower()\n",
        "\n",
        "    # удаляем все символы кроме букв\n",
        "    text = re.sub(r'[^a-z\\s]', '', text)\n",
        "\n",
        "    # удаляем двойные пробелы\n",
        "    text = re.sub(r'\\s+', ' ', text).strip()\n",
        "\n",
        "    return text\n",
        "\n",
        "cleaned_text = clean_text(text_content)\n",
        "\n",
        "# выведем на экран часть обработанного текста\n",
        "cleaned_text[:100]"
      ],
      "metadata": {
        "id": "ihgQINpaeFJW",
        "colab": {
          "base_uri": "https://localhost:8080/",
          "height": 53
        },
        "outputId": "2ed7beef-cf0f-4397-f7dd-b357402c6fde"
      },
      "execution_count": 4,
      "outputs": [
        {
          "output_type": "execute_result",
          "data": {
            "text/plain": [
              "'the period it was the best of times it was the worst of times it was the age of wisdom it was the ag'"
            ],
            "application/vnd.google.colaboratory.intrinsic+json": {
              "type": "string"
            }
          },
          "metadata": {},
          "execution_count": 4
        }
      ]
    },
    {
      "cell_type": "code",
      "source": [
        "import nltk\n",
        "from nltk.tokenize import word_tokenize\n",
        "from nltk.stem import WordNetLemmatizer\n",
        "from gensim.models import Word2Vec\n",
        "nltk.download('punkt')\n",
        "\n",
        "# токенизация по словам\n",
        "tokens = word_tokenize(cleaned_text)\n",
        "\n",
        "\n",
        "# выведем на экран несколько токенов\n",
        "tokens[:7]\n",
        "\n",
        "# задаем параметры нашей модели\n",
        "model = Word2Vec(sentences=[tokens], vector_size=80, window=5, min_count=1,\n",
        "                 workers=3)\n",
        "\n",
        "# выведем результат обучения модели\n",
        "model.wv['coach']\n",
        "\n",
        "#model.wv.most_similar([\"coach\"])\n",
        "\n",
        "#model.wv.similarity('coach', 'passenger')\n",
        "\n",
        "#model.wv.doesnt_match(['coach', 'passenger', 'guard'])\n"
      ],
      "metadata": {
        "id": "zm9fcLJ6eIfr",
        "colab": {
          "base_uri": "https://localhost:8080/"
        },
        "outputId": "be6f5cb2-2d03-4856-dee5-5e619435e773"
      },
      "execution_count": 5,
      "outputs": [
        {
          "output_type": "stream",
          "name": "stderr",
          "text": [
            "[nltk_data] Downloading package punkt to /root/nltk_data...\n",
            "[nltk_data]   Package punkt is already up-to-date!\n"
          ]
        },
        {
          "output_type": "execute_result",
          "data": {
            "text/plain": [
              "array([ 7.79757416e-03,  4.14209021e-03,  9.51506663e-03, -4.10499563e-03,\n",
              "       -7.83080794e-03, -7.26147043e-03,  1.20349219e-02,  8.36636964e-03,\n",
              "       -1.31319966e-02,  2.15152465e-03,  5.94134536e-03, -1.25310302e-03,\n",
              "        1.90502804e-04, -8.44150782e-03,  1.61770135e-02, -5.41979354e-03,\n",
              "       -1.38350753e-02, -6.18132530e-03, -1.08630704e-02, -7.08850194e-03,\n",
              "       -1.13309072e-02,  2.64371606e-03, -2.89732307e-05, -4.32491442e-03,\n",
              "        7.45128188e-03,  4.47161170e-03,  4.66809934e-03,  2.61107064e-03,\n",
              "        4.20678360e-03, -3.43089388e-03,  1.01576345e-02,  1.19797941e-02,\n",
              "       -6.24115206e-03, -1.73100438e-02,  1.39242215e-02,  8.41693394e-03,\n",
              "        6.23228727e-03,  5.40440204e-03, -1.08384108e-02, -1.14215240e-02,\n",
              "       -1.23681547e-02,  1.45611083e-02, -1.09470896e-02, -7.33115105e-03,\n",
              "       -1.40500220e-03,  7.21526006e-03, -6.67647505e-03, -8.29770695e-04,\n",
              "        9.31184972e-04,  2.89058732e-03, -1.58610521e-03, -1.12272205e-03,\n",
              "        6.90320600e-03,  3.71001166e-04,  1.76714081e-03,  3.44378175e-03,\n",
              "        8.26383941e-03, -1.29537331e-02, -8.98247864e-03,  5.21721877e-03,\n",
              "       -1.31707927e-02, -2.02253438e-03, -1.31737497e-02,  9.94525757e-03,\n",
              "       -9.62285977e-03, -1.29482839e-02, -4.87642176e-03,  6.17042137e-03,\n",
              "        1.24462824e-02,  1.64626203e-02,  2.92539736e-03,  2.26848852e-03,\n",
              "        3.25589697e-03,  2.31478410e-03, -6.35667471e-03, -5.70787408e-04,\n",
              "        7.84862507e-03,  2.13388097e-03, -8.60466994e-03, -1.54593233e-02],\n",
              "      dtype=float32)"
            ]
          },
          "metadata": {},
          "execution_count": 5
        }
      ]
    },
    {
      "cell_type": "code",
      "source": [
        "model.wv.doesnt_match(['coach', 'passenger', 'guard'])"
      ],
      "metadata": {
        "id": "bHnnf59heNfc",
        "colab": {
          "base_uri": "https://localhost:8080/",
          "height": 36
        },
        "outputId": "e421ae32-539f-479b-dbd4-43fd2ccf3ab7"
      },
      "execution_count": 6,
      "outputs": [
        {
          "output_type": "execute_result",
          "data": {
            "text/plain": [
              "'guard'"
            ],
            "application/vnd.google.colaboratory.intrinsic+json": {
              "type": "string"
            }
          },
          "metadata": {},
          "execution_count": 6
        }
      ]
    },
    {
      "cell_type": "code",
      "source": [
        "model.wv.similarity('coach', 'passenger')"
      ],
      "metadata": {
        "id": "qSLv5GTEeRqA",
        "colab": {
          "base_uri": "https://localhost:8080/"
        },
        "outputId": "5bc4d2d4-501e-421a-a838-4171e1609e5d"
      },
      "execution_count": 7,
      "outputs": [
        {
          "output_type": "execute_result",
          "data": {
            "text/plain": [
              "0.28469095"
            ]
          },
          "metadata": {},
          "execution_count": 7
        }
      ]
    },
    {
      "cell_type": "code",
      "source": [
        "model.wv.similarity('coach', 'guard')"
      ],
      "metadata": {
        "id": "FGFDYzwTeV6w",
        "colab": {
          "base_uri": "https://localhost:8080/"
        },
        "outputId": "e46dc6b2-9806-46e3-f51c-7270c62e3529"
      },
      "execution_count": 8,
      "outputs": [
        {
          "output_type": "execute_result",
          "data": {
            "text/plain": [
              "0.26041058"
            ]
          },
          "metadata": {},
          "execution_count": 8
        }
      ]
    },
    {
      "cell_type": "code",
      "source": [
        "nltk.download('wordnet')"
      ],
      "metadata": {
        "id": "rvJIpJbReY91",
        "colab": {
          "base_uri": "https://localhost:8080/"
        },
        "outputId": "d7ca48c5-4ba4-41e5-add7-f9dbae46388f"
      },
      "execution_count": 9,
      "outputs": [
        {
          "output_type": "stream",
          "name": "stderr",
          "text": [
            "[nltk_data] Downloading package wordnet to /root/nltk_data...\n",
            "[nltk_data]   Package wordnet is already up-to-date!\n"
          ]
        },
        {
          "output_type": "execute_result",
          "data": {
            "text/plain": [
              "True"
            ]
          },
          "metadata": {},
          "execution_count": 9
        }
      ]
    },
    {
      "cell_type": "code",
      "source": [
        "import nltk\n",
        "from nltk.tokenize import word_tokenize\n",
        "from nltk.stem import WordNetLemmatizer\n",
        "# Init the Wordnet Lemmatizer\n",
        "lemmatizer = WordNetLemmatizer()\n",
        "\n",
        "nltk.download('punkt')\n",
        "# токенизация по словам\n",
        "tokens = word_tokenize(cleaned_text)\n",
        "\n",
        "# Define the sentence to be lemmatized\n",
        "sentence = cleaned_text\n",
        "\n",
        "# Tokenize: Split the sentence into words\n",
        "word_list = nltk.word_tokenize(sentence)\n",
        "word_list[:10]\n"
      ],
      "metadata": {
        "id": "pi8D3zuVefvf",
        "colab": {
          "base_uri": "https://localhost:8080/"
        },
        "outputId": "77c3bcbd-47f2-45fe-c0a7-6e9a9b1557f7"
      },
      "execution_count": 10,
      "outputs": [
        {
          "output_type": "stream",
          "name": "stderr",
          "text": [
            "[nltk_data] Downloading package punkt to /root/nltk_data...\n",
            "[nltk_data]   Package punkt is already up-to-date!\n"
          ]
        },
        {
          "output_type": "execute_result",
          "data": {
            "text/plain": [
              "['the', 'period', 'it', 'was', 'the', 'best', 'of', 'times', 'it', 'was']"
            ]
          },
          "metadata": {},
          "execution_count": 10
        }
      ]
    },
    {
      "cell_type": "code",
      "source": [
        "!pip install -U spacy"
      ],
      "metadata": {
        "id": "iOrfTYRRkTha",
        "colab": {
          "base_uri": "https://localhost:8080/"
        },
        "outputId": "3b68d835-a85c-4128-9cbd-9f142fc196cb"
      },
      "execution_count": 16,
      "outputs": [
        {
          "output_type": "stream",
          "name": "stdout",
          "text": [
            "Requirement already satisfied: spacy in /usr/local/lib/python3.10/dist-packages (3.7.2)\n",
            "Requirement already satisfied: spacy-legacy<3.1.0,>=3.0.11 in /usr/local/lib/python3.10/dist-packages (from spacy) (3.0.12)\n",
            "Requirement already satisfied: spacy-loggers<2.0.0,>=1.0.0 in /usr/local/lib/python3.10/dist-packages (from spacy) (1.0.5)\n",
            "Requirement already satisfied: murmurhash<1.1.0,>=0.28.0 in /usr/local/lib/python3.10/dist-packages (from spacy) (1.0.10)\n",
            "Requirement already satisfied: cymem<2.1.0,>=2.0.2 in /usr/local/lib/python3.10/dist-packages (from spacy) (2.0.8)\n",
            "Requirement already satisfied: preshed<3.1.0,>=3.0.2 in /usr/local/lib/python3.10/dist-packages (from spacy) (3.0.9)\n",
            "Requirement already satisfied: thinc<8.3.0,>=8.1.8 in /usr/local/lib/python3.10/dist-packages (from spacy) (8.1.12)\n",
            "Requirement already satisfied: wasabi<1.2.0,>=0.9.1 in /usr/local/lib/python3.10/dist-packages (from spacy) (1.1.2)\n",
            "Requirement already satisfied: srsly<3.0.0,>=2.4.3 in /usr/local/lib/python3.10/dist-packages (from spacy) (2.4.8)\n",
            "Requirement already satisfied: catalogue<2.1.0,>=2.0.6 in /usr/local/lib/python3.10/dist-packages (from spacy) (2.0.10)\n",
            "Requirement already satisfied: weasel<0.4.0,>=0.1.0 in /usr/local/lib/python3.10/dist-packages (from spacy) (0.3.4)\n",
            "Requirement already satisfied: typer<0.10.0,>=0.3.0 in /usr/local/lib/python3.10/dist-packages (from spacy) (0.9.0)\n",
            "Requirement already satisfied: smart-open<7.0.0,>=5.2.1 in /usr/local/lib/python3.10/dist-packages (from spacy) (6.4.0)\n",
            "Requirement already satisfied: tqdm<5.0.0,>=4.38.0 in /usr/local/lib/python3.10/dist-packages (from spacy) (4.66.1)\n",
            "Requirement already satisfied: requests<3.0.0,>=2.13.0 in /usr/local/lib/python3.10/dist-packages (from spacy) (2.31.0)\n",
            "Requirement already satisfied: pydantic!=1.8,!=1.8.1,<3.0.0,>=1.7.4 in /usr/local/lib/python3.10/dist-packages (from spacy) (1.10.14)\n",
            "Requirement already satisfied: jinja2 in /usr/local/lib/python3.10/dist-packages (from spacy) (3.1.3)\n",
            "Requirement already satisfied: setuptools in /usr/local/lib/python3.10/dist-packages (from spacy) (67.7.2)\n",
            "Requirement already satisfied: packaging>=20.0 in /usr/local/lib/python3.10/dist-packages (from spacy) (23.2)\n",
            "Requirement already satisfied: langcodes<4.0.0,>=3.2.0 in /usr/local/lib/python3.10/dist-packages (from spacy) (3.3.0)\n",
            "Requirement already satisfied: numpy>=1.19.0 in /usr/local/lib/python3.10/dist-packages (from spacy) (1.23.5)\n",
            "Requirement already satisfied: typing-extensions>=4.2.0 in /usr/local/lib/python3.10/dist-packages (from pydantic!=1.8,!=1.8.1,<3.0.0,>=1.7.4->spacy) (4.5.0)\n",
            "Requirement already satisfied: charset-normalizer<4,>=2 in /usr/local/lib/python3.10/dist-packages (from requests<3.0.0,>=2.13.0->spacy) (3.3.2)\n",
            "Requirement already satisfied: idna<4,>=2.5 in /usr/local/lib/python3.10/dist-packages (from requests<3.0.0,>=2.13.0->spacy) (3.6)\n",
            "Requirement already satisfied: urllib3<3,>=1.21.1 in /usr/local/lib/python3.10/dist-packages (from requests<3.0.0,>=2.13.0->spacy) (2.0.7)\n",
            "Requirement already satisfied: certifi>=2017.4.17 in /usr/local/lib/python3.10/dist-packages (from requests<3.0.0,>=2.13.0->spacy) (2023.11.17)\n",
            "Requirement already satisfied: blis<0.8.0,>=0.7.8 in /usr/local/lib/python3.10/dist-packages (from thinc<8.3.0,>=8.1.8->spacy) (0.7.11)\n",
            "Requirement already satisfied: confection<1.0.0,>=0.0.1 in /usr/local/lib/python3.10/dist-packages (from thinc<8.3.0,>=8.1.8->spacy) (0.1.4)\n",
            "Requirement already satisfied: click<9.0.0,>=7.1.1 in /usr/local/lib/python3.10/dist-packages (from typer<0.10.0,>=0.3.0->spacy) (8.1.7)\n",
            "Requirement already satisfied: cloudpathlib<0.17.0,>=0.7.0 in /usr/local/lib/python3.10/dist-packages (from weasel<0.4.0,>=0.1.0->spacy) (0.16.0)\n",
            "Requirement already satisfied: MarkupSafe>=2.0 in /usr/local/lib/python3.10/dist-packages (from jinja2->spacy) (2.1.4)\n"
          ]
        }
      ]
    },
    {
      "cell_type": "code",
      "source": [
        "import re\n",
        "import spacy\n",
        "import nltk\n",
        "from nltk.tokenize import word_tokenize\n",
        "from nltk.stem import WordNetLemmatizer\n",
        "# Init the Wordnet Lemmatizer\n",
        "lemmatizer = WordNetLemmatizer()\n",
        "\n",
        "nltk.download('punkt')\n",
        "\n",
        "# прописываем путь к файлу\n",
        "file_path = '/content/a tale of two cities.txt.txt'\n",
        "\n",
        "# открываем файл для чтения ('r')\n",
        "with open(file_path, 'r') as file:\n",
        "    # записываем содержимое файла в переменную\n",
        "    text_content = file.read()\n",
        "\n",
        "\n",
        "def clean_text(text):\n",
        "    # приводим текст к нижнему регистру\n",
        "    text = text.lower()\n",
        "\n",
        "    # удаляем все символы кроме букв\n",
        "    text = re.sub(r'[^a-z\\s]', '', text)\n",
        "\n",
        "    # удаляем двойные пробелы\n",
        "    text = re.sub(r'\\s+', ' ', text).strip()\n",
        "\n",
        "    return text\n",
        "\n",
        "cleaned_text = clean_text(text_content)\n",
        "\n",
        "tokens = word_tokenize(cleaned_text)\n",
        "\n",
        "# токенизация по словам\n",
        "tokens = word_tokenize(cleaned_text)\n",
        "\n",
        "# Define the sentence to be lemmatized\n",
        "sentence = cleaned_text\n",
        "\n",
        "# Tokenize: Split the sentence into words\n",
        "word_list = nltk.word_tokenize(sentence)\n",
        "\n",
        "\n",
        "nlp = spacy.load(\"en_core_web_sm\")\n",
        "doc = nlp(sentence)\n",
        "\n",
        "for token in doc:\n",
        "    print(token.text, token.lemma_)\n"
      ],
      "metadata": {
        "id": "dXGlxwDFoLcM",
        "colab": {
          "base_uri": "https://localhost:8080/",
          "height": 298
        },
        "outputId": "6346023f-7322-485f-aac3-d4c1f6f1aabe"
      },
      "execution_count": 17,
      "outputs": [
        {
          "output_type": "stream",
          "name": "stderr",
          "text": [
            "[nltk_data] Downloading package punkt to /root/nltk_data...\n",
            "[nltk_data]   Package punkt is already up-to-date!\n"
          ]
        },
        {
          "output_type": "error",
          "ename": "FileNotFoundError",
          "evalue": "[Errno 2] No such file or directory: '/content/a tale of two cities.txt.txt'",
          "traceback": [
            "\u001b[0;31m---------------------------------------------------------------------------\u001b[0m",
            "\u001b[0;31mFileNotFoundError\u001b[0m                         Traceback (most recent call last)",
            "\u001b[0;32m<ipython-input-17-a44419032f4a>\u001b[0m in \u001b[0;36m<cell line: 15>\u001b[0;34m()\u001b[0m\n\u001b[1;32m     13\u001b[0m \u001b[0;34m\u001b[0m\u001b[0m\n\u001b[1;32m     14\u001b[0m \u001b[0;31m# открываем файл для чтения ('r')\u001b[0m\u001b[0;34m\u001b[0m\u001b[0;34m\u001b[0m\u001b[0m\n\u001b[0;32m---> 15\u001b[0;31m \u001b[0;32mwith\u001b[0m \u001b[0mopen\u001b[0m\u001b[0;34m(\u001b[0m\u001b[0mfile_path\u001b[0m\u001b[0;34m,\u001b[0m \u001b[0;34m'r'\u001b[0m\u001b[0;34m)\u001b[0m \u001b[0;32mas\u001b[0m \u001b[0mfile\u001b[0m\u001b[0;34m:\u001b[0m\u001b[0;34m\u001b[0m\u001b[0;34m\u001b[0m\u001b[0m\n\u001b[0m\u001b[1;32m     16\u001b[0m     \u001b[0;31m# записываем содержимое файла в переменную\u001b[0m\u001b[0;34m\u001b[0m\u001b[0;34m\u001b[0m\u001b[0m\n\u001b[1;32m     17\u001b[0m     \u001b[0mtext_content\u001b[0m \u001b[0;34m=\u001b[0m \u001b[0mfile\u001b[0m\u001b[0;34m.\u001b[0m\u001b[0mread\u001b[0m\u001b[0;34m(\u001b[0m\u001b[0;34m)\u001b[0m\u001b[0;34m\u001b[0m\u001b[0;34m\u001b[0m\u001b[0m\n",
            "\u001b[0;31mFileNotFoundError\u001b[0m: [Errno 2] No such file or directory: '/content/a tale of two cities.txt.txt'"
          ]
        }
      ]
    },
    {
      "cell_type": "code",
      "source": [
        "Визуализация"
      ],
      "metadata": {
        "id": "8TA9Y_oloMLj",
        "colab": {
          "base_uri": "https://localhost:8080/",
          "height": 176
        },
        "outputId": "b30a280c-1c5d-4acf-81b0-9190239fa0f7"
      },
      "execution_count": 18,
      "outputs": [
        {
          "output_type": "error",
          "ename": "NameError",
          "evalue": "name 'Визуализация' is not defined",
          "traceback": [
            "\u001b[0;31m---------------------------------------------------------------------------\u001b[0m",
            "\u001b[0;31mNameError\u001b[0m                                 Traceback (most recent call last)",
            "\u001b[0;32m<ipython-input-18-10bd31453094>\u001b[0m in \u001b[0;36m<cell line: 1>\u001b[0;34m()\u001b[0m\n\u001b[0;32m----> 1\u001b[0;31m \u001b[0mВизуализация\u001b[0m\u001b[0;34m\u001b[0m\u001b[0;34m\u001b[0m\u001b[0m\n\u001b[0m",
            "\u001b[0;31mNameError\u001b[0m: name 'Визуализация' is not defined"
          ]
        }
      ]
    },
    {
      "cell_type": "code",
      "source": [
        "import matplotlib.pyplot as plt\n",
        "plt.style.use('seaborn-v0_8')\n",
        "\n",
        "from sklearn.decomposition import PCA\n",
        "\n",
        "def pca_scatterplot(model, words=None, sample=0):\n",
        "  word_vectors = [model.wv[w] for w in words]\n",
        "  # сократить размерность векторов до 2D\n",
        "  vectors_2d = PCA().fit_transform(word_vectors)\n",
        "  # отрисовка изображения, задаем размер 12 на 10\n",
        "  plt.figure(figsize=(12,10))\n",
        "  # задаем цвет точек и ссылаемся на данные по осям x (0) и y (1)\n",
        "  plt.scatter(vectors_2d[:,0], vectors_2d[:,1], c='c')\n",
        "  # добавляем подписи к данным, проходимся по списку слов\n",
        "  for i, word in enumerate(words):\n",
        "    # соотносим слово с его двухмерным вектором\n",
        "    plt.annotate(word, (vectors_2d[i, 0], vectors_2d[i, 1]))\n",
        "\n",
        "pca_scatterplot(model, ['coach', 'passenger', 'guard', 'horse', 'rider', 'business',\n",
        "                        'stillness', 'history', 'leader', 'year'])"
      ],
      "metadata": {
        "id": "tKuBzpBMoTw_",
        "colab": {
          "base_uri": "https://localhost:8080/",
          "height": 655
        },
        "outputId": "e13f8c21-d9ca-40a2-c81d-80c8940fdac0"
      },
      "execution_count": 21,
      "outputs": [
        {
          "output_type": "display_data",
          "data": {
            "text/plain": [
              "<Figure size 1200x1000 with 1 Axes>"
            ],
            "image/png": "[encoded data removed]"
          },
          "metadata": {}
        }
      ]
    },
    {
      "cell_type": "code",
      "source": [
        "import gensim\n",
        "import os\n",
        "from gensim.utils import simple_preprocess\n",
        "import logging\n",
        "logging.basicConfig(format='%(asctime)s : %(levelname)s : %(message)s',\n",
        "                    level=logging.INFO)\n",
        "from pprint import pprint as print\n",
        "from gensim.models.fasttext import FastText\n",
        "from gensim.test.utils import datapath\n",
        "\n",
        "\n",
        "#  прочитать текстовый файл как объект\n",
        "doc = open('/content/Dickens Charles. A Tale of Two Cities.txt', encoding ='utf-8')\n",
        "\n",
        "# предварительная обработка файла для получения списка токенов\n",
        "tokenized = []\n",
        "for sentence in doc.read().split('.'):\n",
        "    # функция simple_preprocess возвращает список слов каждого предложения\n",
        "    tokenized.append(simple_preprocess(sentence, deacc = True))\n",
        "\n",
        "# Set file names for train and test data\n",
        "corpus_file = datapath('/content/Dickens Charles. A Tale of Two Cities.txt')\n",
        "\n",
        "model = FastText(vector_size=50)\n",
        "\n",
        "# создание словаря\n",
        "model.build_vocab(corpus_file=corpus_file)\n",
        "\n",
        "# обучение модели\n",
        "model.train(\n",
        "    corpus_file=corpus_file, epochs=model.epochs,\n",
        "    total_examples=model.corpus_count, total_words=model.corpus_total_words,\n",
        ")\n",
        "\n",
        "print(model)\n",
        "\n",
        "# поиск ветора слов\n",
        "\n",
        "wv = model.wv\n",
        "print(wv)\n",
        "\n",
        "print('coach' in wv.key_to_index)\n",
        "# выводим ветор слова\n",
        "print(wv['coach'])\n",
        "# выводим подобные слова\n",
        "print(wv.most_similar(\"coach\"))\n"
      ],
      "metadata": {
        "id": "4Na4r6qCoVJE",
        "colab": {
          "base_uri": "https://localhost:8080/",
          "height": 385
        },
        "outputId": "72bb605e-6324-4274-8def-a775534b1ee4"
      },
      "execution_count": 24,
      "outputs": [
        {
          "output_type": "error",
          "ename": "UnicodeDecodeError",
          "evalue": "'utf-8' codec can't decode byte 0xd1 in position 0: invalid continuation byte",
          "traceback": [
            "\u001b[0;31m---------------------------------------------------------------------------\u001b[0m",
            "\u001b[0;31mUnicodeDecodeError\u001b[0m                        Traceback (most recent call last)",
            "\u001b[0;32m<ipython-input-24-057493b02888>\u001b[0m in \u001b[0;36m<cell line: 17>\u001b[0;34m()\u001b[0m\n\u001b[1;32m     15\u001b[0m \u001b[0;31m# предварительная обработка файла для получения списка токенов\u001b[0m\u001b[0;34m\u001b[0m\u001b[0;34m\u001b[0m\u001b[0m\n\u001b[1;32m     16\u001b[0m \u001b[0mtokenized\u001b[0m \u001b[0;34m=\u001b[0m \u001b[0;34m[\u001b[0m\u001b[0;34m]\u001b[0m\u001b[0;34m\u001b[0m\u001b[0;34m\u001b[0m\u001b[0m\n\u001b[0;32m---> 17\u001b[0;31m \u001b[0;32mfor\u001b[0m \u001b[0msentence\u001b[0m \u001b[0;32min\u001b[0m \u001b[0mdoc\u001b[0m\u001b[0;34m.\u001b[0m\u001b[0mread\u001b[0m\u001b[0;34m(\u001b[0m\u001b[0;34m)\u001b[0m\u001b[0;34m.\u001b[0m\u001b[0msplit\u001b[0m\u001b[0;34m(\u001b[0m\u001b[0;34m'.'\u001b[0m\u001b[0;34m)\u001b[0m\u001b[0;34m:\u001b[0m\u001b[0;34m\u001b[0m\u001b[0;34m\u001b[0m\u001b[0m\n\u001b[0m\u001b[1;32m     18\u001b[0m     \u001b[0;31m# функция simple_preprocess возвращает список слов каждого предложения\u001b[0m\u001b[0;34m\u001b[0m\u001b[0;34m\u001b[0m\u001b[0m\n\u001b[1;32m     19\u001b[0m     \u001b[0mtokenized\u001b[0m\u001b[0;34m.\u001b[0m\u001b[0mappend\u001b[0m\u001b[0;34m(\u001b[0m\u001b[0msimple_preprocess\u001b[0m\u001b[0;34m(\u001b[0m\u001b[0msentence\u001b[0m\u001b[0;34m,\u001b[0m \u001b[0mdeacc\u001b[0m \u001b[0;34m=\u001b[0m \u001b[0;32mTrue\u001b[0m\u001b[0;34m)\u001b[0m\u001b[0;34m)\u001b[0m\u001b[0;34m\u001b[0m\u001b[0;34m\u001b[0m\u001b[0m\n",
            "\u001b[0;32m/usr/lib/python3.10/codecs.py\u001b[0m in \u001b[0;36mdecode\u001b[0;34m(self, input, final)\u001b[0m\n\u001b[1;32m    320\u001b[0m         \u001b[0;31m# decode input (taking the buffer into account)\u001b[0m\u001b[0;34m\u001b[0m\u001b[0;34m\u001b[0m\u001b[0m\n\u001b[1;32m    321\u001b[0m         \u001b[0mdata\u001b[0m \u001b[0;34m=\u001b[0m \u001b[0mself\u001b[0m\u001b[0;34m.\u001b[0m\u001b[0mbuffer\u001b[0m \u001b[0;34m+\u001b[0m \u001b[0minput\u001b[0m\u001b[0;34m\u001b[0m\u001b[0;34m\u001b[0m\u001b[0m\n\u001b[0;32m--> 322\u001b[0;31m         \u001b[0;34m(\u001b[0m\u001b[0mresult\u001b[0m\u001b[0;34m,\u001b[0m \u001b[0mconsumed\u001b[0m\u001b[0;34m)\u001b[0m \u001b[0;34m=\u001b[0m \u001b[0mself\u001b[0m\u001b[0;34m.\u001b[0m\u001b[0m_buffer_decode\u001b[0m\u001b[0;34m(\u001b[0m\u001b[0mdata\u001b[0m\u001b[0;34m,\u001b[0m \u001b[0mself\u001b[0m\u001b[0;34m.\u001b[0m\u001b[0merrors\u001b[0m\u001b[0;34m,\u001b[0m \u001b[0mfinal\u001b[0m\u001b[0;34m)\u001b[0m\u001b[0;34m\u001b[0m\u001b[0;34m\u001b[0m\u001b[0m\n\u001b[0m\u001b[1;32m    323\u001b[0m         \u001b[0;31m# keep undecoded input until the next call\u001b[0m\u001b[0;34m\u001b[0m\u001b[0;34m\u001b[0m\u001b[0m\n\u001b[1;32m    324\u001b[0m         \u001b[0mself\u001b[0m\u001b[0;34m.\u001b[0m\u001b[0mbuffer\u001b[0m \u001b[0;34m=\u001b[0m \u001b[0mdata\u001b[0m\u001b[0;34m[\u001b[0m\u001b[0mconsumed\u001b[0m\u001b[0;34m:\u001b[0m\u001b[0;34m]\u001b[0m\u001b[0;34m\u001b[0m\u001b[0;34m\u001b[0m\u001b[0m\n",
            "\u001b[0;31mUnicodeDecodeError\u001b[0m: 'utf-8' codec can't decode byte 0xd1 in position 0: invalid continuation byte"
          ]
        }
      ]
    }
  ]
}