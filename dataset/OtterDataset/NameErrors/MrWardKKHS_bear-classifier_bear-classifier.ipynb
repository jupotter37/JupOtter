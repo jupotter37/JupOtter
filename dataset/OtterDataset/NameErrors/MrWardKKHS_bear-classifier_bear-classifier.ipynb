{
 "cells": [
  {
   "cell_type": "code",
   "execution_count": 9,
   "id": "2841ec3e-8b33-4aa5-96a4-bf16aa2ffe5a",
   "metadata": {},
   "outputs": [],
   "source": [
    "%%capture test\n",
    "!jupyter serverextension enable voila --sys-prefix;\n",
    "!pip install -r requirements.txt;"
   ]
  },
  {
   "cell_type": "code",
   "execution_count": 2,
   "id": "9a649c85-d7c4-4b8d-8293-7d0a8f886b3c",
   "metadata": {},
   "outputs": [],
   "source": [
    "from fastai.vision.all import *\n",
    "from fastai.vision.widgets import *"
   ]
  },
  {
   "cell_type": "markdown",
   "id": "cf13ab9c-0a28-40bc-9f32-37aa09a1c1af",
   "metadata": {},
   "source": [
    "# The Amazing bear classifier!\n",
    "This widget can distinguish between a grizzly bear, a brown bear and a teady bear and absolutely nothing else. Give it a try!"
   ]
  },
  {
   "cell_type": "code",
   "execution_count": 3,
   "id": "e5f1ca22-c4ff-4f47-b10d-54b1b14db2dc",
   "metadata": {},
   "outputs": [
    {
     "ename": "NotImplementedError",
     "evalue": "cannot instantiate 'PosixPath' on your system",
     "output_type": "error",
     "traceback": [
      "\u001b[1;31m---------------------------------------------------------------------------\u001b[0m",
      "\u001b[1;31mNotImplementedError\u001b[0m                       Traceback (most recent call last)",
      "\u001b[1;32mc:\\Users\\award\\dev\\bear-classifier\\bear-classifier.ipynb Cell 4'\u001b[0m in \u001b[0;36m<cell line: 2>\u001b[1;34m()\u001b[0m\n\u001b[0;32m      <a href='vscode-notebook-cell:/c%3A/Users/award/dev/bear-classifier/bear-classifier.ipynb#ch0000003?line=0'>1</a>\u001b[0m path \u001b[39m=\u001b[39m Path()\n\u001b[1;32m----> <a href='vscode-notebook-cell:/c%3A/Users/award/dev/bear-classifier/bear-classifier.ipynb#ch0000003?line=1'>2</a>\u001b[0m learn_inf \u001b[39m=\u001b[39m load_learner(\u001b[39m'\u001b[39;49m\u001b[39mexport.pkl\u001b[39;49m\u001b[39m'\u001b[39;49m, cpu\u001b[39m=\u001b[39;49m\u001b[39mTrue\u001b[39;49;00m)\n\u001b[0;32m      <a href='vscode-notebook-cell:/c%3A/Users/award/dev/bear-classifier/bear-classifier.ipynb#ch0000003?line=2'>3</a>\u001b[0m btn_upload \u001b[39m=\u001b[39m widgets\u001b[39m.\u001b[39mFileUpload()\n\u001b[0;32m      <a href='vscode-notebook-cell:/c%3A/Users/award/dev/bear-classifier/bear-classifier.ipynb#ch0000003?line=3'>4</a>\u001b[0m out_pl \u001b[39m=\u001b[39m widgets\u001b[39m.\u001b[39mOutput()\n",
      "File \u001b[1;32mc:\\Users\\award\\AppData\\Local\\Programs\\Python\\Python310\\lib\\site-packages\\fastai\\learner.py:392\u001b[0m, in \u001b[0;36mload_learner\u001b[1;34m(fname, cpu, pickle_module)\u001b[0m\n\u001b[0;32m    <a href='file:///c%3A/Users/award/AppData/Local/Programs/Python/Python310/lib/site-packages/fastai/learner.py?line=389'>390</a>\u001b[0m \u001b[39m\"\u001b[39m\u001b[39mLoad a `Learner` object in `fname`, optionally putting it on the `cpu`\u001b[39m\u001b[39m\"\u001b[39m\n\u001b[0;32m    <a href='file:///c%3A/Users/award/AppData/Local/Programs/Python/Python310/lib/site-packages/fastai/learner.py?line=390'>391</a>\u001b[0m distrib_barrier()\n\u001b[1;32m--> <a href='file:///c%3A/Users/award/AppData/Local/Programs/Python/Python310/lib/site-packages/fastai/learner.py?line=391'>392</a>\u001b[0m \u001b[39mtry\u001b[39;00m: res \u001b[39m=\u001b[39m torch\u001b[39m.\u001b[39;49mload(fname, map_location\u001b[39m=\u001b[39;49m\u001b[39m'\u001b[39;49m\u001b[39mcpu\u001b[39;49m\u001b[39m'\u001b[39;49m \u001b[39mif\u001b[39;49;00m cpu \u001b[39melse\u001b[39;49;00m \u001b[39mNone\u001b[39;49;00m, pickle_module\u001b[39m=\u001b[39;49mpickle_module)\n\u001b[0;32m    <a href='file:///c%3A/Users/award/AppData/Local/Programs/Python/Python310/lib/site-packages/fastai/learner.py?line=392'>393</a>\u001b[0m \u001b[39mexcept\u001b[39;00m \u001b[39mAttributeError\u001b[39;00m \u001b[39mas\u001b[39;00m e:\n\u001b[0;32m    <a href='file:///c%3A/Users/award/AppData/Local/Programs/Python/Python310/lib/site-packages/fastai/learner.py?line=393'>394</a>\u001b[0m     e\u001b[39m.\u001b[39margs \u001b[39m=\u001b[39m [\u001b[39mf\u001b[39m\u001b[39m\"\u001b[39m\u001b[39mCustom classes or functions exported with your `Learner` are not available in the namespace currently.\u001b[39m\u001b[39m\\n\u001b[39;00m\u001b[39mPlease re-declare or import them before calling `load_learner`:\u001b[39m\u001b[39m\\n\u001b[39;00m\u001b[39m\\t\u001b[39;00m\u001b[39m{\u001b[39;00me\u001b[39m.\u001b[39margs[\u001b[39m0\u001b[39m]\u001b[39m}\u001b[39;00m\u001b[39m\"\u001b[39m]\n",
      "File \u001b[1;32mc:\\Users\\award\\AppData\\Local\\Programs\\Python\\Python310\\lib\\site-packages\\torch\\serialization.py:712\u001b[0m, in \u001b[0;36mload\u001b[1;34m(f, map_location, pickle_module, **pickle_load_args)\u001b[0m\n\u001b[0;32m    <a href='file:///c%3A/Users/award/AppData/Local/Programs/Python/Python310/lib/site-packages/torch/serialization.py?line=709'>710</a>\u001b[0m             opened_file\u001b[39m.\u001b[39mseek(orig_position)\n\u001b[0;32m    <a href='file:///c%3A/Users/award/AppData/Local/Programs/Python/Python310/lib/site-packages/torch/serialization.py?line=710'>711</a>\u001b[0m             \u001b[39mreturn\u001b[39;00m torch\u001b[39m.\u001b[39mjit\u001b[39m.\u001b[39mload(opened_file)\n\u001b[1;32m--> <a href='file:///c%3A/Users/award/AppData/Local/Programs/Python/Python310/lib/site-packages/torch/serialization.py?line=711'>712</a>\u001b[0m         \u001b[39mreturn\u001b[39;00m _load(opened_zipfile, map_location, pickle_module, \u001b[39m*\u001b[39m\u001b[39m*\u001b[39mpickle_load_args)\n\u001b[0;32m    <a href='file:///c%3A/Users/award/AppData/Local/Programs/Python/Python310/lib/site-packages/torch/serialization.py?line=712'>713</a>\u001b[0m \u001b[39mreturn\u001b[39;00m _legacy_load(opened_file, map_location, pickle_module, \u001b[39m*\u001b[39m\u001b[39m*\u001b[39mpickle_load_args)\n",
      "File \u001b[1;32mc:\\Users\\award\\AppData\\Local\\Programs\\Python\\Python310\\lib\\site-packages\\torch\\serialization.py:1046\u001b[0m, in \u001b[0;36m_load\u001b[1;34m(zip_file, map_location, pickle_module, pickle_file, **pickle_load_args)\u001b[0m\n\u001b[0;32m   <a href='file:///c%3A/Users/award/AppData/Local/Programs/Python/Python310/lib/site-packages/torch/serialization.py?line=1043'>1044</a>\u001b[0m unpickler \u001b[39m=\u001b[39m UnpicklerWrapper(data_file, \u001b[39m*\u001b[39m\u001b[39m*\u001b[39mpickle_load_args)\n\u001b[0;32m   <a href='file:///c%3A/Users/award/AppData/Local/Programs/Python/Python310/lib/site-packages/torch/serialization.py?line=1044'>1045</a>\u001b[0m unpickler\u001b[39m.\u001b[39mpersistent_load \u001b[39m=\u001b[39m persistent_load\n\u001b[1;32m-> <a href='file:///c%3A/Users/award/AppData/Local/Programs/Python/Python310/lib/site-packages/torch/serialization.py?line=1045'>1046</a>\u001b[0m result \u001b[39m=\u001b[39m unpickler\u001b[39m.\u001b[39;49mload()\n\u001b[0;32m   <a href='file:///c%3A/Users/award/AppData/Local/Programs/Python/Python310/lib/site-packages/torch/serialization.py?line=1047'>1048</a>\u001b[0m torch\u001b[39m.\u001b[39m_utils\u001b[39m.\u001b[39m_validate_loaded_sparse_tensors()\n\u001b[0;32m   <a href='file:///c%3A/Users/award/AppData/Local/Programs/Python/Python310/lib/site-packages/torch/serialization.py?line=1049'>1050</a>\u001b[0m \u001b[39mreturn\u001b[39;00m result\n",
      "File \u001b[1;32mc:\\Users\\award\\AppData\\Local\\Programs\\Python\\Python310\\lib\\pathlib.py:960\u001b[0m, in \u001b[0;36mPath.__new__\u001b[1;34m(cls, *args, **kwargs)\u001b[0m\n\u001b[0;32m    <a href='file:///c%3A/Users/award/AppData/Local/Programs/Python/Python310/lib/pathlib.py?line=957'>958</a>\u001b[0m \u001b[39mself\u001b[39m \u001b[39m=\u001b[39m \u001b[39mcls\u001b[39m\u001b[39m.\u001b[39m_from_parts(args)\n\u001b[0;32m    <a href='file:///c%3A/Users/award/AppData/Local/Programs/Python/Python310/lib/pathlib.py?line=958'>959</a>\u001b[0m \u001b[39mif\u001b[39;00m \u001b[39mnot\u001b[39;00m \u001b[39mself\u001b[39m\u001b[39m.\u001b[39m_flavour\u001b[39m.\u001b[39mis_supported:\n\u001b[1;32m--> <a href='file:///c%3A/Users/award/AppData/Local/Programs/Python/Python310/lib/pathlib.py?line=959'>960</a>\u001b[0m     \u001b[39mraise\u001b[39;00m \u001b[39mNotImplementedError\u001b[39;00m(\u001b[39m\"\u001b[39m\u001b[39mcannot instantiate \u001b[39m\u001b[39m%r\u001b[39;00m\u001b[39m on your system\u001b[39m\u001b[39m\"\u001b[39m\n\u001b[0;32m    <a href='file:///c%3A/Users/award/AppData/Local/Programs/Python/Python310/lib/pathlib.py?line=960'>961</a>\u001b[0m                               \u001b[39m%\u001b[39m (\u001b[39mcls\u001b[39m\u001b[39m.\u001b[39m\u001b[39m__name__\u001b[39m,))\n\u001b[0;32m    <a href='file:///c%3A/Users/award/AppData/Local/Programs/Python/Python310/lib/pathlib.py?line=961'>962</a>\u001b[0m \u001b[39mreturn\u001b[39;00m \u001b[39mself\u001b[39m\n",
      "\u001b[1;31mNotImplementedError\u001b[0m: cannot instantiate 'PosixPath' on your system"
     ]
    }
   ],
   "source": [
    "path = Path()\n",
    "learn_inf = load_learner('export.pkl', cpu=True)\n",
    "btn_upload = widgets.FileUpload()\n",
    "out_pl = widgets.Output()\n",
    "lbl_pred = widgets.Label()\n"
   ]
  },
  {
   "cell_type": "code",
   "execution_count": 4,
   "id": "90b31921-c381-4f33-bf43-3d7d00913e1f",
   "metadata": {},
   "outputs": [],
   "source": [
    "def on_click_classify(change):\n",
    "    img = PILImage.create(btn_upload.data[-1])\n",
    "    out_pl.clear_output()\n",
    "    with out_pl: display(img.to_thumb(128,128))\n",
    "    pred,pred_idx,probs = learn_inf.predict(img)\n",
    "    lbl_pred.value = f'Prediction: {pred}; Probability: {probs[pred_idx]:.04f}'"
   ]
  },
  {
   "cell_type": "code",
   "execution_count": 6,
   "id": "0fd81c05-126a-405d-9e6a-8da6711c518d",
   "metadata": {},
   "outputs": [
    {
     "ename": "NameError",
     "evalue": "name 'btn_upload' is not defined",
     "output_type": "error",
     "traceback": [
      "\u001b[1;31m---------------------------------------------------------------------------\u001b[0m",
      "\u001b[1;31mNameError\u001b[0m                                 Traceback (most recent call last)",
      "\u001b[1;32mc:\\Users\\award\\dev\\bear-classifier\\bear-classifier.ipynb Cell 6'\u001b[0m in \u001b[0;36m<cell line: 1>\u001b[1;34m()\u001b[0m\n\u001b[1;32m----> <a href='vscode-notebook-cell:/c%3A/Users/award/dev/bear-classifier/bear-classifier.ipynb#ch0000005?line=0'>1</a>\u001b[0m btn_upload\u001b[39m.\u001b[39mobserve(on_click_classify, names\u001b[39m=\u001b[39m[\u001b[39m'\u001b[39m\u001b[39mdata\u001b[39m\u001b[39m'\u001b[39m])\n",
      "\u001b[1;31mNameError\u001b[0m: name 'btn_upload' is not defined"
     ]
    }
   ],
   "source": [
    "btn_upload.observe(on_click_classify, names=['data'])"
   ]
  },
  {
   "cell_type": "code",
   "execution_count": 5,
   "id": "59c6f9ab-262c-4ae1-8b90-bc5682f66667",
   "metadata": {},
   "outputs": [
    {
     "ename": "NameError",
     "evalue": "name 'btn_upload' is not defined",
     "output_type": "error",
     "traceback": [
      "\u001b[1;31m---------------------------------------------------------------------------\u001b[0m",
      "\u001b[1;31mNameError\u001b[0m                                 Traceback (most recent call last)",
      "\u001b[1;32mc:\\Users\\award\\dev\\bear-classifier\\bear-classifier.ipynb Cell 7'\u001b[0m in \u001b[0;36m<cell line: 1>\u001b[1;34m()\u001b[0m\n\u001b[0;32m      <a href='vscode-notebook-cell:/c%3A/Users/award/dev/bear-classifier/bear-classifier.ipynb#ch0000006?line=0'>1</a>\u001b[0m display(VBox([widgets\u001b[39m.\u001b[39mLabel(\u001b[39m'\u001b[39m\u001b[39mSelect your bear!\u001b[39m\u001b[39m'\u001b[39m), \n\u001b[1;32m----> <a href='vscode-notebook-cell:/c%3A/Users/award/dev/bear-classifier/bear-classifier.ipynb#ch0000006?line=1'>2</a>\u001b[0m       btn_upload, out_pl, lbl_pred]))\n",
      "\u001b[1;31mNameError\u001b[0m: name 'btn_upload' is not defined"
     ]
    }
   ],
   "source": [
    "display(VBox([widgets.Label('Select your bear!'), \n",
    "      btn_upload, out_pl, lbl_pred]))"
   ]
  },
  {
   "cell_type": "code",
   "execution_count": null,
   "id": "e8c12e58-6413-4262-915b-bf39fd9d4363",
   "metadata": {},
   "outputs": [],
   "source": []
  }
 ],
 "metadata": {
  "interpreter": {
   "hash": "61470cf8924c6466a9980adc0303385cd5a221c09164624b9ea5ab1675b1f8c0"
  },
  "kernelspec": {
   "display_name": "Python 3.10.4 64-bit",
   "language": "python",
   "name": "python3"
  },
  "language_info": {
   "codemirror_mode": {
    "name": "ipython",
    "version": 3
   },
   "file_extension": ".py",
   "mimetype": "text/x-python",
   "name": "python",
   "nbconvert_exporter": "python",
   "pygments_lexer": "ipython3",
   "version": "3.10.4"
  }
 },
 "nbformat": 4,
 "nbformat_minor": 5
}
