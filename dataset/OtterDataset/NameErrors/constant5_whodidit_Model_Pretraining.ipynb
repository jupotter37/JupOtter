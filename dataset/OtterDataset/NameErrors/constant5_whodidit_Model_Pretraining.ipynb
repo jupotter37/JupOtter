{
 "cells": [
  {
   "cell_type": "markdown",
   "metadata": {},
   "source": [
    "# Fine-tuning BERT on CSI data with MLM"
   ]
  },
  {
   "cell_type": "code",
   "execution_count": 1,
   "metadata": {
    "collapsed": false,
    "pycharm": {
     "name": "#%%\n"
    }
   },
   "outputs": [],
   "source": [
    "import torch\n",
    "from torch.optim import AdamW\n",
    "import pandas as pd\n",
    "from glob import glob\n",
    "import numpy as np\n",
    "from transformers import BertTokenizer, BertForMaskedLM\n",
    "from tqdm.auto import tqdm"
   ]
  },
  {
   "cell_type": "code",
   "execution_count": 2,
   "metadata": {},
   "outputs": [
    {
     "name": "stderr",
     "output_type": "stream",
     "text": [
      "Some weights of the model checkpoint at bert-base-uncased were not used when initializing BertForMaskedLM: ['cls.seq_relationship.bias', 'cls.seq_relationship.weight']\n",
      "- This IS expected if you are initializing BertForMaskedLM from the checkpoint of a model trained on another task or with another architecture (e.g. initializing a BertForSequenceClassification model from a BertForPreTraining model).\n",
      "- This IS NOT expected if you are initializing BertForMaskedLM from the checkpoint of a model that you expect to be exactly identical (initializing a BertForSequenceClassification model from a BertForSequenceClassification model).\n"
     ]
    }
   ],
   "source": [
    "# load BERT tokenizer and model\n",
    "tokenizer = BertTokenizer.from_pretrained(\"bert-base-uncased\")\n",
    "model = BertForMaskedLM.from_pretrained(\"bert-base-uncased\")"
   ]
  },
  {
   "cell_type": "code",
   "execution_count": 3,
   "metadata": {},
   "outputs": [
    {
     "data": {
      "text/plain": [
       "216856"
      ]
     },
     "execution_count": 3,
     "metadata": {},
     "output_type": "execute_result"
    }
   ],
   "source": [
    "# get path to all sub files\n",
    "sub_files = glob('cleaned_subs/*.tsv')\n",
    "\n",
    "# return all subs lines as list\n",
    "def data_loader(files):\n",
    "    'loads texts into a single list'\n",
    "    texts = []\n",
    "    for f in sub_files:\n",
    "        df = pd.read_csv(f, sep='\\t', usecols=['text'])\n",
    "        texts += list(df[\"text\"].values)\n",
    "    return texts\n",
    "\n",
    "data = data_loader(sub_files)\n",
    "len(data)"
   ]
  },
  {
   "cell_type": "code",
   "execution_count": 4,
   "metadata": {},
   "outputs": [
    {
     "name": "stdout",
     "output_type": "stream",
     "text": [
      "My name is Royce Harmon.\n",
      "You should watch it.\n"
     ]
    }
   ],
   "source": [
    "print(data[0])\n",
    "print(data[-1])"
   ]
  },
  {
   "cell_type": "code",
   "execution_count": 5,
   "metadata": {},
   "outputs": [
    {
     "name": "stdout",
     "output_type": "stream",
     "text": [
      "dict_keys(['input_ids', 'token_type_ids', 'attention_mask'])\n",
      "torch.Size([216856, 91])\n"
     ]
    }
   ],
   "source": [
    "# tokenize the data with the BERT tokenizer\n",
    "inputs = tokenizer(data, \n",
    "    max_length=512,\n",
    "    truncation=True,\n",
    "    padding=True,\n",
    "    return_tensors='pt')\n",
    "\n",
    "print(inputs.keys())\n",
    "print(inputs['input_ids'].shape)"
   ]
  },
  {
   "cell_type": "code",
   "execution_count": 6,
   "metadata": {},
   "outputs": [
    {
     "data": {
      "text/plain": [
       "tensor([  101,  2026,  2171,  2003, 14789, 25546,  1012,   102,     0,     0,\n",
       "            0,     0,     0,     0,     0,     0,     0,     0,     0,     0,\n",
       "            0,     0,     0,     0,     0,     0,     0,     0,     0,     0,\n",
       "            0,     0,     0,     0,     0,     0,     0,     0,     0,     0,\n",
       "            0,     0,     0,     0,     0,     0,     0,     0,     0,     0,\n",
       "            0,     0,     0,     0,     0,     0,     0,     0,     0,     0,\n",
       "            0,     0,     0,     0,     0,     0,     0,     0,     0,     0,\n",
       "            0,     0,     0,     0,     0,     0,     0,     0,     0,     0,\n",
       "            0,     0,     0,     0,     0,     0,     0,     0,     0,     0,\n",
       "            0])"
      ]
     },
     "execution_count": 6,
     "metadata": {},
     "output_type": "execute_result"
    }
   ],
   "source": [
    "inputs.input_ids[0]"
   ]
  },
  {
   "cell_type": "code",
   "execution_count": 7,
   "metadata": {},
   "outputs": [
    {
     "data": {
      "text/plain": [
       "dict_keys(['input_ids', 'token_type_ids', 'attention_mask', 'labels'])"
      ]
     },
     "execution_count": 7,
     "metadata": {},
     "output_type": "execute_result"
    }
   ],
   "source": [
    "# deep copy the inputs to labels (because we will mask the inputs)\n",
    "inputs['labels'] = inputs['input_ids'].detach().clone()\n",
    "inputs.keys()"
   ]
  },
  {
   "cell_type": "code",
   "execution_count": 8,
   "metadata": {},
   "outputs": [
    {
     "data": {
      "text/plain": [
       "(torch.Size([216856, 91]), torch.Size([216856, 91]))"
      ]
     },
     "execution_count": 8,
     "metadata": {},
     "output_type": "execute_result"
    }
   ],
   "source": [
    "# mask with 15% probability\n",
    "\n",
    "# create random tensor(0-1) of size inputs\n",
    "random_tensor = torch.rand(inputs['input_ids'].shape)\n",
    "# create a mask with 15% selected while also ingnoring\n",
    "# [cls] == 101, [sep] == 102, and [pad] == 0\n",
    "masked_tensor = (random_tensor < 0.15)*(inputs['input_ids'] != 101)*(inputs['input_ids'] != 102)*(inputs['input_ids'] != 0)\n",
    "\n",
    "# check sizes align\n",
    "masked_tensor.shape, inputs['input_ids'].shape"
   ]
  },
  {
   "cell_type": "code",
   "execution_count": 9,
   "metadata": {},
   "outputs": [
    {
     "name": "stdout",
     "output_type": "stream",
     "text": [
      "[[], [1, 7, 12, 13], [7, 8], [3], [4, 6, 17, 18], [], [4], [], [6, 7, 8], [1, 3, 7], [], [1], [2, 6, 8, 9], [], [], [], [2], [17, 20, 21], [3], [4]]\n"
     ]
    }
   ],
   "source": [
    "# getting indices where masked is True\n",
    "non_zero_indices = []\n",
    "for mask in masked_tensor:\n",
    "    non_zero_indices.append(torch.flatten(mask.nonzero()).tolist())\n",
    "\n",
    "print(non_zero_indices[:20])"
   ]
  },
  {
   "cell_type": "code",
   "execution_count": 10,
   "metadata": {},
   "outputs": [],
   "source": [
    "# replace masked values with 103\n",
    "for i in range(len(inputs['input_ids'])):\n",
    "    inputs['input_ids'][i, non_zero_indices[i]] = 103"
   ]
  },
  {
   "cell_type": "code",
   "execution_count": 11,
   "metadata": {},
   "outputs": [],
   "source": [
    "## pytorch dataset class\n",
    "\n",
    "class CSIDataset(torch.utils.data.Dataset):\n",
    "    def __init__(self, encodings):\n",
    "        self.encodings = encodings\n",
    "    def __len__(self):\n",
    "        return len(self.encodings)\n",
    "\n",
    "    def __getitem__(self, index):\n",
    "        input_ids = self.encodings['input_ids'][index]\n",
    "        attention_mask = self.encodings['attention_mask'][index]\n",
    "        token_type_ids = self.encodings['token_type_ids'][index]\n",
    "        labels = self.encodings['labels'][index]\n",
    "        return {\n",
    "            'input_ids':input_ids, \n",
    "            'attention_mask':attention_mask,\n",
    "            'token_type_ids':token_type_ids,\n",
    "            'labels': labels\n",
    "        }\n"
   ]
  },
  {
   "cell_type": "code",
   "execution_count": 12,
   "metadata": {},
   "outputs": [],
   "source": [
    "# create torch dataset\n",
    "dataset = CSIDataset(inputs)"
   ]
  },
  {
   "cell_type": "code",
   "execution_count": 13,
   "metadata": {},
   "outputs": [],
   "source": [
    "# create torch data loader\n",
    "data_loader = torch.utils.data.DataLoader(\n",
    "    dataset,\n",
    "    batch_size=16,\n",
    "    shuffle=True\n",
    "    )"
   ]
  },
  {
   "cell_type": "code",
   "execution_count": 14,
   "metadata": {},
   "outputs": [
    {
     "data": {
      "text/plain": [
       "device(type='cpu')"
      ]
     },
     "execution_count": 14,
     "metadata": {},
     "output_type": "execute_result"
    }
   ],
   "source": [
    "device = torch.device('cuda') if torch.cuda.is_available() else torch.device('cpu')\n",
    "device"
   ]
  },
  {
   "cell_type": "code",
   "execution_count": 15,
   "metadata": {},
   "outputs": [],
   "source": [
    "model.to(device);"
   ]
  },
  {
   "cell_type": "code",
   "execution_count": 16,
   "metadata": {},
   "outputs": [],
   "source": [
    "epochs = 32\n",
    "optimizer = AdamW(model.parameters(), lr=1e-5)\n",
    "\n",
    "model.train();\n"
   ]
  },
  {
   "cell_type": "code",
   "execution_count": 17,
   "metadata": {},
   "outputs": [
    {
     "name": "stderr",
     "output_type": "stream",
     "text": [
      "Epoch: 0: 100%|██████████| 1/1 [00:10<00:00, 10.13s/it, loss=17.9]\n",
      "Epoch: 1: 100%|██████████| 1/1 [00:08<00:00,  8.86s/it, loss=16.6]\n",
      "Epoch: 2: 100%|██████████| 1/1 [00:10<00:00, 10.13s/it, loss=15.3]\n",
      "Epoch: 3: 100%|██████████| 1/1 [00:09<00:00,  9.10s/it, loss=14.3]\n",
      "Epoch: 4: 100%|██████████| 1/1 [00:09<00:00,  9.23s/it, loss=13.6]\n",
      "Epoch: 5: 100%|██████████| 1/1 [00:07<00:00,  7.91s/it, loss=13.1]\n",
      "Epoch: 6: 100%|██████████| 1/1 [00:09<00:00,  9.12s/it, loss=12.7]\n",
      "Epoch: 7: 100%|██████████| 1/1 [00:08<00:00,  8.36s/it, loss=12.2]\n",
      "Epoch: 8: 100%|██████████| 1/1 [00:08<00:00,  8.50s/it, loss=11.8]\n",
      "Epoch: 9: 100%|██████████| 1/1 [00:06<00:00,  6.51s/it, loss=11.4]\n",
      "Epoch: 10: 100%|██████████| 1/1 [00:05<00:00,  5.89s/it, loss=11]\n",
      "Epoch: 11: 100%|██████████| 1/1 [00:06<00:00,  6.21s/it, loss=10.7]\n",
      "Epoch: 12: 100%|██████████| 1/1 [00:06<00:00,  6.06s/it, loss=10.4]\n",
      "Epoch: 13: 100%|██████████| 1/1 [00:06<00:00,  6.14s/it, loss=9.97]\n",
      "Epoch: 14: 100%|██████████| 1/1 [00:06<00:00,  6.37s/it, loss=9.69]\n",
      "Epoch: 15: 100%|██████████| 1/1 [00:06<00:00,  6.56s/it, loss=9.33]\n",
      "Epoch: 16: 100%|██████████| 1/1 [00:07<00:00,  7.26s/it, loss=8.99]\n",
      "Epoch: 17: 100%|██████████| 1/1 [00:06<00:00,  6.63s/it, loss=8.68]\n",
      "Epoch: 18: 100%|██████████| 1/1 [00:06<00:00,  6.67s/it, loss=8.39]\n",
      "Epoch: 19: 100%|██████████| 1/1 [00:05<00:00,  5.98s/it, loss=8.15]\n",
      "Epoch: 20: 100%|██████████| 1/1 [00:07<00:00,  7.14s/it, loss=7.71]\n",
      "Epoch: 21: 100%|██████████| 1/1 [00:06<00:00,  6.66s/it, loss=7.53]\n",
      "Epoch: 22: 100%|██████████| 1/1 [00:06<00:00,  6.44s/it, loss=7.14]\n",
      "Epoch: 23: 100%|██████████| 1/1 [00:07<00:00,  7.00s/it, loss=6.99]\n",
      "Epoch: 24: 100%|██████████| 1/1 [00:07<00:00,  7.31s/it, loss=6.64]\n",
      "Epoch: 25: 100%|██████████| 1/1 [00:07<00:00,  7.22s/it, loss=6.57]\n",
      "Epoch: 26: 100%|██████████| 1/1 [00:07<00:00,  7.82s/it, loss=6.23]\n",
      "Epoch: 27: 100%|██████████| 1/1 [00:07<00:00,  7.27s/it, loss=6.02]\n",
      "Epoch: 28: 100%|██████████| 1/1 [00:07<00:00,  7.33s/it, loss=5.95]\n",
      "Epoch: 29: 100%|██████████| 1/1 [00:06<00:00,  6.75s/it, loss=5.75]\n",
      "Epoch: 30: 100%|██████████| 1/1 [00:06<00:00,  6.59s/it, loss=5.6]\n",
      "Epoch: 31: 100%|██████████| 1/1 [00:06<00:00,  6.51s/it, loss=5.46]\n"
     ]
    }
   ],
   "source": [
    "\n",
    "# training loop\n",
    "for epoch in range(epochs):\n",
    "    loop = tqdm(data_loader)\n",
    "    for batch in loop:\n",
    "        optimizer.zero_grad()\n",
    "        input_ids = batch['input_ids']\n",
    "        # print(input_ids.shape)\n",
    "        labels = batch['labels']\n",
    "        attention_mask =  batch['attention_mask']\n",
    "        outputs = model(input_ids=input_ids, attention_mask=attention_mask, labels=labels)\n",
    "        loss = outputs.loss\n",
    "        loss.backward()\n",
    "        optimizer.step()\n",
    "\n",
    "        loop.set_description(f'Epoch: {epoch}')\n",
    "        loop.set_postfix(loss=loss.item())\n"
   ]
  },
  {
   "cell_type": "code",
   "execution_count": 18,
   "metadata": {},
   "outputs": [],
   "source": [
    "model.save_pretrained('model/bert-base-uncased-csi-trained');\n"
   ]
  },
  {
   "cell_type": "code",
   "execution_count": 19,
   "metadata": {},
   "outputs": [
    {
     "name": "stdout",
     "output_type": "stream",
     "text": [
      "\t[MASK]: 'do'  | weights: 0.05219556391239166\n",
      "\t[MASK]: 'try'  | weights: 0.049260374158620834\n",
      "\t[MASK]: 'find'  | weights: 0.03673092648386955\n",
      "\t[MASK]: 'take'  | weights: 0.03608653321862221\n",
      "\t[MASK]: 'enjoy'  | weights: 0.0333879292011261\n"
     ]
    }
   ],
   "source": [
    "# model = BertForMaskedLM.from_pretrained(\"bert-base-uncased\");\n",
    "model.from_pretrained('model/bert-base-uncased-csi-trained');\n",
    "\n",
    "\n",
    "def predict_masked_sent(text, top_k=5):\n",
    "    # Tokenize input\n",
    "    text = f\"[CLS] {text} [SEP]\"\n",
    "    tokenized_text = tokenizer.tokenize(text)\n",
    "    masked_index = tokenized_text.index(\"[MASK]\")\n",
    "    indexed_tokens = tokenizer.convert_tokens_to_ids(tokenized_text)\n",
    "    tokens_tensor = torch.tensor([indexed_tokens])\n",
    "    # tokens_tensor = tokens_tensor.to('cuda')    # if you have gpu\n",
    "\n",
    "    # Predict all tokens\n",
    "    with torch.no_grad():\n",
    "        outputs = model(tokens_tensor)\n",
    "        predictions = outputs[0]\n",
    "\n",
    "    probs = torch.nn.functional.softmax(predictions[0, masked_index], dim=-1)\n",
    "    top_k_weights, top_k_indices = torch.topk(probs, top_k, sorted=True)\n",
    "\n",
    "    for i, pred_idx in enumerate(top_k_indices):\n",
    "        predicted_token = tokenizer.convert_ids_to_tokens([pred_idx])[0]\n",
    "        token_weight = top_k_weights[i]\n",
    "        print(\"\\t[MASK]: '%s'\"%predicted_token, \" | weights:\", float(token_weight))\n",
    "\n",
    "        \n",
    "predict_masked_sent(\"You should [MASK] it.\", top_k=5)\n"
   ]
  },
  {
   "cell_type": "code",
   "execution_count": 20,
   "metadata": {},
   "outputs": [
    {
     "name": "stdout",
     "output_type": "stream",
     "text": [
      "Anne-Marie stopped by the lab to discuss a case.\n",
      "Anne-Marie [MASK] by the lab to discuss a case.\n",
      "\t[MASK]: 'stops'  | weights: 0.43644979596138\n",
      "\t[MASK]: 'drops'  | weights: 0.11503851413726807\n",
      "\t[MASK]: 'stopped'  | weights: 0.06933876127004623\n",
      "\t[MASK]: 'arrives'  | weights: 0.06736624240875244\n",
      "\t[MASK]: 'comes'  | weights: 0.02786053903400898\n",
      "Dragged him into the bathroom.\n",
      "[MASK] him into the bathroom.\n",
      "\t[MASK]: 'pushed'  | weights: 0.06020032614469528\n",
      "\t[MASK]: 'shoved'  | weights: 0.04883961379528046\n",
      "\t[MASK]: 'follow'  | weights: 0.04824935272336006\n",
      "\t[MASK]: 'toss'  | weights: 0.04525557905435562\n",
      "\t[MASK]: 'drag'  | weights: 0.03403385356068611\n",
      "That's crazy.\n",
      "[MASK] crazy.\n",
      "\t[MASK]: 'fucking'  | weights: 0.16949908435344696\n",
      "\t[MASK]: 'totally'  | weights: 0.06971689313650131\n",
      "\t[MASK]: 'freaking'  | weights: 0.050160106271505356\n",
      "\t[MASK]: 'completely'  | weights: 0.043558623641729355\n",
      "\t[MASK]: 'like'  | weights: 0.035368070006370544\n",
      "It's from the Latin word for magpie, a bird with a large and indiscriminate appetite.\n",
      "It's from the Latin word for magpie, a bird with a large and indiscriminate [MASK]\n",
      "\t[MASK]: '.'  | weights: 0.8818843364715576\n",
      "\t[MASK]: ';'  | weights: 0.11647952347993851\n",
      "\t[MASK]: '!'  | weights: 0.0004936227342113853\n",
      "\t[MASK]: '|'  | weights: 0.0001872101565822959\n",
      "\t[MASK]: '?'  | weights: 0.00014877079229336232\n",
      "How'd things go with Ecklie?\n",
      "[MASK] things go with Ecklie?\n",
      "\t[MASK]: 'how'  | weights: 0.32658857107162476\n",
      "\t[MASK]: 'did'  | weights: 0.30232372879981995\n",
      "\t[MASK]: 'would'  | weights: 0.1285676211118698\n",
      "\t[MASK]: 'could'  | weights: 0.06824392080307007\n",
      "\t[MASK]: 'will'  | weights: 0.022596610710024834\n"
     ]
    }
   ],
   "source": [
    "import random\n",
    "for sent in random.sample(data, 5):\n",
    "    print(sent)\n",
    "    words = sent.split(' ')\n",
    "    mask_int = np.random.randint(0,len(words),1)\n",
    "    words[mask_int[0]] = '[MASK]'\n",
    "    masked_sent = ' '.join(words)\n",
    "    print(masked_sent)\n",
    "    predict_masked_sent(masked_sent, top_k=5)\n"
   ]
  },
  {
   "cell_type": "markdown",
   "metadata": {},
   "source": [
    "## Getting the sentence embedding"
   ]
  },
  {
   "cell_type": "code",
   "execution_count": 21,
   "metadata": {},
   "outputs": [],
   "source": [
    "import torch\n",
    "import torch.nn.functional as F\n",
    "from transformers import BertTokenizer\n",
    "\n",
    "tokenizer = BertTokenizer.from_pretrained(\"bert-base-uncased\")\n",
    "model.from_pretrained('model/bert-base-uncased-csi-trained');\n",
    "\n",
    "#Mean Pooling - Take attention mask into account for correct averaging\n",
    "def mean_pooling(model_output, attention_mask):\n",
    "    token_embeddings = model_output[0] #First element of model_output contains all token embeddings\n",
    "    input_mask_expanded = attention_mask.unsqueeze(-1).expand(token_embeddings.size()).float()\n",
    "    return torch.sum(token_embeddings * input_mask_expanded, 1) / torch.clamp(input_mask_expanded.sum(1), min=1e-9)\n",
    "\n",
    "def sentence_embedder(sentences):\n",
    "    # Tokenize sentences\n",
    "    encoded_input = tokenizer(sentences, padding=True, truncation=True, return_tensors='pt')\n",
    "\n",
    "    # Compute token embeddings\n",
    "    with torch.no_grad():\n",
    "        model_output = model(**encoded_input)\n",
    "\n",
    "    # Perform pooling\n",
    "    sentence_embeddings = mean_pooling(model_output, encoded_input['attention_mask'])\n",
    "\n",
    "    # Normalize embeddings\n",
    "    sentence_embeddings = F.normalize(sentence_embeddings, p=2, dim=1)\n",
    "\n",
    "    return sentence_embeddings\n",
    "\n",
    "\n",
    "# sentences = data[:5]\n",
    "# sentence_embeddings = sentence_embedder(sentences)\n",
    "# print(data[:5])\n",
    "# print(\"Sentence embeddings:\")\n",
    "# print(sentence_embeddings)\n",
    "\n",
    "\n"
   ]
  },
  {
   "cell_type": "code",
   "execution_count": 22,
   "metadata": {},
   "outputs": [
    {
     "ename": "NameError",
     "evalue": "name 'sentence_embeddings' is not defined",
     "output_type": "error",
     "traceback": [
      "\u001b[1;31m---------------------------------------------------------------------------\u001b[0m",
      "\u001b[1;31mNameError\u001b[0m                                 Traceback (most recent call last)",
      "\u001b[1;32mc:\\Users\\crm0376\\Projects\\whodidit\\Model_Pretraining.ipynb Cell 24'\u001b[0m in \u001b[0;36m<cell line: 1>\u001b[1;34m()\u001b[0m\n\u001b[1;32m----> <a href='vscode-notebook-cell:/c%3A/Users/crm0376/Projects/whodidit/Model_Pretraining.ipynb#ch0000023?line=0'>1</a>\u001b[0m sentence_embeddings[\u001b[39m0\u001b[39m]\u001b[39m.\u001b[39mshape\n",
      "\u001b[1;31mNameError\u001b[0m: name 'sentence_embeddings' is not defined"
     ]
    }
   ],
   "source": [
    "sentence_embeddings[0].shape"
   ]
  },
  {
   "cell_type": "code",
   "execution_count": null,
   "metadata": {},
   "outputs": [],
   "source": [
    "\n",
    "\n",
    "def ls_data__embedder(path):\n",
    "    '''loads labeled sub files, embeds the sentences, and saves\n",
    "    embedded episodes and labels into binary files\n",
    "    '''\n",
    "    # get path to all labels_sub files\n",
    "    sub_files = glob(path + '/*.tsv')\n",
    "    \n",
    "    # loads texts \n",
    "    for f in sub_files:\n",
    "        print(f)\n",
    "        # read with pandas\n",
    "        df = pd.read_csv(f, sep='\\t', usecols=['text', 'label'])\n",
    "        # get sentences as list\n",
    "        data = list(df[\"text\"].values)\n",
    "        # convert labels to 0 and 1\n",
    "        labels = [0 if v == 'N' else 1 for v in df[\"label\"]]\n",
    "\n",
    "        # embed sentences and save episode as numpy array\n",
    "        np.savetxt(f[:-4]+'_emb.bin', sentence_embedder(data).numpy())\n",
    "        # save labels as numpy array\n",
    "        np.savetxt(f[:-4]+'_lab.bin', np.array(labels))\n",
    "\n",
    "ls_data_embedder('labeled_subs')\n",
    "\n",
    "    "
   ]
  }
 ],
 "metadata": {
  "interpreter": {
   "hash": "c0a2902978563c8bcc7f82062c2ad45366e70aba911d3cca21d6ee8298cd12a7"
  },
  "kernelspec": {
   "display_name": "Python 3.8.8 ('venv': venv)",
   "language": "python",
   "name": "python3"
  },
  "language_info": {
   "codemirror_mode": {
    "name": "ipython",
    "version": 3
   },
   "file_extension": ".py",
   "mimetype": "text/x-python",
   "name": "python",
   "nbconvert_exporter": "python",
   "pygments_lexer": "ipython3",
   "version": "3.8.8"
  },
  "orig_nbformat": 4
 },
 "nbformat": 4,
 "nbformat_minor": 2
}
