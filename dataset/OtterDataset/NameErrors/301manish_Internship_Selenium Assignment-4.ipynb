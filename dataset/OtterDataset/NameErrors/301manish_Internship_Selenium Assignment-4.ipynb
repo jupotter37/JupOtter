{
 "cells": [
  {
   "cell_type": "markdown",
   "id": "d177d014",
   "metadata": {},
   "source": [
    "Selenium Assingment-4 "
   ]
  },
  {
   "cell_type": "code",
   "execution_count": 66,
   "id": "7ed434a8",
   "metadata": {},
   "outputs": [],
   "source": [
    "import selenium\n",
    "import pandas as pd\n",
    "import time\n",
    "from bs4 import BeautifulSoup\n",
    "\n",
    "#importing Selenium webdriver\n",
    "\n",
    "from selenium import webdriver\n",
    "\n",
    "#Importing required Exception which needs to handle\n",
    "\n",
    "from selenium.common.exceptions import StaleElementReferenceException, NoSuchElementException\n",
    "\n",
    "#importing requests\n",
    "\n",
    "import requests\n",
    "\n",
    "from selenium.webdriver.common.by import By\n",
    "\n",
    "\n",
    "\n"
   ]
  },
  {
   "cell_type": "markdown",
   "id": "26a9dfd2",
   "metadata": {},
   "source": [
    "#1. Scrape the details of most viewed videos on YouTube from Wikipedia. Url = https://en.wikipedia.org/wiki/List_of_most-viewed_YouTube_videos You need to find following details: A) Rank\n",
    "B) Name\n",
    "C) Artist\n",
    "D) Upload date\n",
    "E) Views"
   ]
  },
  {
   "cell_type": "code",
   "execution_count": 7,
   "id": "3ab9b019",
   "metadata": {},
   "outputs": [],
   "source": [
    "driver=webdriver.Chrome()"
   ]
  },
  {
   "cell_type": "code",
   "execution_count": 9,
   "id": "196067c3",
   "metadata": {},
   "outputs": [],
   "source": [
    "#fetching url\n",
    "driver.get(\"https://en.wikipedia.org/wiki/List_of_most-viewed_YouTube_videos\")"
   ]
  },
  {
   "cell_type": "code",
   "execution_count": 13,
   "id": "aa9eea8f",
   "metadata": {},
   "outputs": [],
   "source": [
    "#Find the details of the most-viewed videos\n",
    "table=driver.find_element(By.XPATH,\"//*[@id='mw-content-text']/div[1]/table[1]\")\n"
   ]
  },
  {
   "cell_type": "code",
   "execution_count": 16,
   "id": "eef920a8",
   "metadata": {},
   "outputs": [],
   "source": [
    "#Get the row from the table\n",
    "rows=driver.find_elements(By.TAG_NAME,\"tr\")"
   ]
  },
  {
   "cell_type": "code",
   "execution_count": 20,
   "id": "e1509974",
   "metadata": {},
   "outputs": [],
   "source": [
    "#rows and extract the details\n",
    "\n",
    "videos =[]\n",
    "\n",
    "for row in rows[1:]: #skip the header row\n",
    "    \n",
    "    cols=row.find_elements(By.TAG_NAME,\"td\")\n",
    "    if len(cols) >=5:\n",
    "        rank =cols[0].text\n",
    "        name =cols[1].text\n",
    "        artist=cols[2].text\n",
    "        upload_date=cols[3].text\n",
    "        views=cols[4].text\n",
    "        videos.append({\"Rank\":rank,\"Name\":name,\"Artist\":artist,\"Upload\":upload_date,\"views\":views})\n",
    "\n"
   ]
  },
  {
   "cell_type": "code",
   "execution_count": 22,
   "id": "65cdec65",
   "metadata": {},
   "outputs": [
    {
     "name": "stdout",
     "output_type": "stream",
     "text": [
      "{'Rank': '\"Baby Shark Dance\"[7]', 'Name': \"Pinkfong Baby Shark - Kids' Songs & Stories\", 'Artist': '14.82', 'Upload': 'June 17, 2016', 'views': '[A]'}\n",
      "{'Rank': '\"Despacito\"[10]', 'Name': 'Luis Fonsi', 'Artist': '8.49', 'Upload': 'January 12, 2017', 'views': '[B]'}\n",
      "{'Rank': '\"Johny Johny Yes Papa\"[18]', 'Name': \"LooLoo Kids - Nursery Rhymes and Children's Songs\", 'Artist': '6.94', 'Upload': 'October 8, 2016', 'views': ''}\n",
      "{'Rank': '\"Bath Song\"[19]', 'Name': 'Cocomelon - Nursery Rhymes', 'Artist': '6.79', 'Upload': 'May 2, 2018', 'views': ''}\n",
      "{'Rank': '\"Wheels on the Bus\"[20]', 'Name': 'Cocomelon - Nursery Rhymes', 'Artist': '6.34', 'Upload': 'May 24, 2018', 'views': ''}\n",
      "{'Rank': '\"See You Again\"[21]', 'Name': 'Wiz Khalifa', 'Artist': '6.33', 'Upload': 'April 6, 2015', 'views': '[C]'}\n",
      "{'Rank': '\"Shape of You\"[26]', 'Name': 'Ed Sheeran', 'Artist': '6.30', 'Upload': 'January 30, 2017', 'views': '[D]'}\n",
      "{'Rank': '\"Phonics Song with Two Words\"[29]', 'Name': 'ChuChu TV Nursery Rhymes & Kids Songs', 'Artist': '5.90', 'Upload': 'March 6, 2014', 'views': ''}\n",
      "{'Rank': '\"Uptown Funk\"[30]', 'Name': 'Mark Ronson', 'Artist': '5.28', 'Upload': 'November 19, 2014', 'views': ''}\n",
      "{'Rank': '\"Gangnam Style\"[31]', 'Name': 'Psy', 'Artist': '5.22', 'Upload': 'July 15, 2012', 'views': '[E]'}\n",
      "{'Rank': '\"Learning Colors – Colorful Eggs on a Farm\"[36]', 'Name': 'Miroshka TV', 'Artist': '5.15', 'Upload': 'February 27, 2018', 'views': ''}\n",
      "{'Rank': '\"Dame Tu Cosita\"[37]', 'Name': 'Ultra Records', 'Artist': '4.72', 'Upload': 'April 5, 2018', 'views': ''}\n",
      "{'Rank': '\"Axel F\"[38]', 'Name': 'Crazy Frog', 'Artist': '4.66', 'Upload': 'June 16, 2009', 'views': ''}\n",
      "{'Rank': '\"Masha and the Bear – Recipe for Disaster\"[39]', 'Name': 'Get Movies', 'Artist': '4.59', 'Upload': 'January 31, 2012', 'views': ''}\n",
      "{'Rank': '\"Baa Baa Black Sheep\"[40]', 'Name': 'Cocomelon - Nursery Rhymes', 'Artist': '4.14', 'Upload': 'June 25, 2018', 'views': ''}\n",
      "{'Rank': '\"Lakdi Ki Kathi\"[41]', 'Name': 'Jingle Toons', 'Artist': '4.11', 'Upload': 'June 14, 2018', 'views': ''}\n",
      "{'Rank': '\"Sugar\"[42]', 'Name': 'Maroon 5', 'Artist': '4.08', 'Upload': 'January 14, 2015', 'views': ''}\n",
      "{'Rank': '\"Counting Stars\"[43]', 'Name': 'OneRepublic', 'Artist': '4.05', 'Upload': 'May 31, 2013', 'views': ''}\n",
      "{'Rank': '\"Roar\"[44]', 'Name': 'Katy Perry', 'Artist': '4.03', 'Upload': 'September 5, 2013', 'views': ''}\n",
      "{'Rank': '\"Waka Waka (This Time for Africa)\"[45]', 'Name': 'Shakira', 'Artist': '3.99', 'Upload': 'June 4, 2010', 'views': ''}\n",
      "{'Rank': '\"Shree Hanuman Chalisa\"[46]', 'Name': 'T-Series Bhakti Sagar', 'Artist': '3.94', 'Upload': 'May 10, 2011', 'views': ''}\n",
      "{'Rank': '\"Humpty the train on a fruits ride\"[47]', 'Name': 'Kiddiestv Hindi - Nursery Rhymes & Kids Songs', 'Artist': '3.87', 'Upload': 'January 26, 2018', 'views': ''}\n",
      "{'Rank': '\"Sorry\"[48]', 'Name': 'Justin Bieber', 'Artist': '3.83', 'Upload': 'October 22, 2015', 'views': ''}\n",
      "{'Rank': '\"Thinking Out Loud\"[49]', 'Name': 'Ed Sheeran', 'Artist': '3.79', 'Upload': 'October 7, 2014', 'views': ''}\n",
      "{'Rank': '\"Perfect\"[50]', 'Name': 'Ed Sheeran', 'Artist': '3.77', 'Upload': 'November 9, 2017', 'views': ''}\n",
      "{'Rank': '\"Dark Horse\"[51]', 'Name': 'Katy Perry', 'Artist': '3.76', 'Upload': 'February 20, 2014', 'views': ''}\n",
      "{'Rank': '\"Let Her Go\"[52]', 'Name': 'Passenger', 'Artist': '3.69', 'Upload': 'July 25, 2012', 'views': ''}\n",
      "{'Rank': '\"Faded\"[53]', 'Name': 'Alan Walker', 'Artist': '3.66', 'Upload': 'December 3, 2015', 'views': ''}\n",
      "{'Rank': '\"Girls Like You\"[54]', 'Name': 'Maroon 5', 'Artist': '3.64', 'Upload': 'May 31, 2018', 'views': ''}\n",
      "{'Rank': '\"Lean On\"[55]', 'Name': 'Major Lazer Official', 'Artist': '3.64', 'Upload': 'March 22, 2015', 'views': ''}\n",
      "{'Rank': '\"Baby Shark Dance\"[7]', 'Name': \"Pinkfong Baby Shark - Kids' Songs & Stories\", 'Artist': '7,046,700,000', 'Upload': 'June 17, 2016', 'views': 'November 2, 2020'}\n",
      "{'Rank': '\"Despacito\"[10]', 'Name': 'Luis Fonsi', 'Artist': '2,993,700,000', 'Upload': 'January 12, 2017', 'views': 'August 4, 2017'}\n",
      "{'Rank': '\"See You Again\"[21]', 'Name': 'Wiz Khalifa', 'Artist': '2,894,000,000', 'Upload': 'April 6, 2015', 'views': 'July 10, 2017'}\n",
      "{'Rank': '\"Gangnam Style\"⁂[31]', 'Name': 'Psy', 'Artist': '803,700,000', 'Upload': 'July 15, 2012', 'views': 'November 24, 2012'}\n",
      "{'Rank': '\"Baby\"*[69]', 'Name': 'Justin Bieber', 'Artist': '245,400,000', 'Upload': 'February 19, 2010', 'views': 'July 16, 2010'}\n",
      "{'Rank': '\"Bad Romance\"[73]', 'Name': 'Lady Gaga', 'Artist': '178,400,000', 'Upload': 'November 24, 2009', 'views': 'April 14, 2010'}\n",
      "{'Rank': '\"Charlie Bit My Finger\"[77]', 'Name': 'HDCYT', 'Artist': '128,900,000', 'Upload': 'May 22, 2007', 'views': 'October 25, 2009'}\n",
      "{'Rank': '\"Evolution of Dance\"[79]', 'Name': 'Judson Laipply', 'Artist': '118,900,000', 'Upload': 'April 6, 2006', 'views': 'May 2, 2009'}\n",
      "{'Rank': '\"Girlfriend\"‡[81][82]', 'Name': 'RCA Records', 'Artist': '92,600,000', 'Upload': 'February 27, 2007', 'views': 'July 17, 2008'}\n",
      "{'Rank': '\"Evolution of Dance\"[79]', 'Name': 'Judson Laipply', 'Artist': '78,400,000', 'Upload': 'April 6, 2006', 'views': 'March 15, 2008'}\n",
      "{'Rank': '\"Music Is My Hot Hot Sex\"‡[87]', 'Name': 'CLARUSBARTEL72', 'Artist': '76,600,000', 'Upload': 'April 9, 2007', 'views': 'March 1, 2008'}\n",
      "{'Rank': '\"Evolution of Dance\"*[79]', 'Name': 'Judson Laipply', 'Artist': '10,600,000', 'Upload': 'April 6, 2006', 'views': 'May 19, 2006'}\n",
      "{'Rank': '\"Pokémon Theme Music Video\"‡[92]', 'Name': 'Smosh', 'Artist': '4,300,000', 'Upload': 'November 28, 2005', 'views': 'March 12, 2006'}\n",
      "{'Rank': '\"Myspace – The Movie\"‡[97][98]', 'Name': 'eggtea', 'Artist': '2,700,000', 'Upload': 'January 31, 2006', 'views': 'February 18, 2006'}\n",
      "{'Rank': '\"Phony Photo Booth\"‡[101]', 'Name': 'mugenized', 'Artist': '3,400,000', 'Upload': 'December 1, 2005', 'views': 'January 21, 2006'}\n",
      "{'Rank': '\"The Chronic of Narnia Rap\"‡[107]', 'Name': 'youtubedude', 'Artist': '2,300,000', 'Upload': 'December 18, 2005', 'views': 'January 9, 2006'}\n",
      "{'Rank': '\"Ronaldinho: Touch of Gold\"‡*[110]', 'Name': 'Nikesoccer', 'Artist': '255,000', 'Upload': 'October 21, 2005', 'views': 'October 31, 2005'}\n",
      "{'Rank': '\"I/O Brush\"‡*[116]', 'Name': 'larfus', 'Artist': '247,000', 'Upload': 'October 5, 2005', 'views': 'October 29, 2005'}\n"
     ]
    }
   ],
   "source": [
    "#print the extract details\n",
    "\n",
    "for video in videos:\n",
    "    print(video)"
   ]
  },
  {
   "cell_type": "code",
   "execution_count": 24,
   "id": "40b69fdd",
   "metadata": {},
   "outputs": [],
   "source": [
    "#close the webdriver\n",
    "driver.quit()"
   ]
  },
  {
   "cell_type": "markdown",
   "id": "5d676735",
   "metadata": {},
   "source": [
    "2. Scrape the details team India’s international fixtures from bcci.tv.\n",
    "Url = https://www.bcci.tv/.\n",
    "You need to find following details:\n",
    "A) Series\n",
    "B) Place\n",
    "C) Date\n",
    "D) Time\n",
    "Note: - From bcci.tv home page you have reach to the international fixture page through code."
   ]
  },
  {
   "cell_type": "code",
   "execution_count": 39,
   "id": "a1dddc8e",
   "metadata": {},
   "outputs": [],
   "source": [
    "driver=webdriver.Chrome()"
   ]
  },
  {
   "cell_type": "code",
   "execution_count": 40,
   "id": "436afb68",
   "metadata": {},
   "outputs": [],
   "source": [
    "#fetching url\n",
    "\n",
    "driver.get(\"https://www.bcci.tv/\")\n",
    "time.sleep(4)"
   ]
  },
  {
   "cell_type": "code",
   "execution_count": 41,
   "id": "8b1e8ee1",
   "metadata": {},
   "outputs": [],
   "source": [
    "#find out following details\n",
    "\n",
    "internation_result_button=driver.find_element(By.XPATH,\"/html/body/div[2]/div/a[2]\")\n",
    "internation_result_button.click()\n",
    "time.sleep(3)"
   ]
  },
  {
   "cell_type": "code",
   "execution_count": 46,
   "id": "6d1570fb",
   "metadata": {},
   "outputs": [],
   "source": [
    "# click on fixtures\n",
    "fixture=driver.find_element(By.XPATH,\"/html/body/header/div[3]/div[2]/ul/div[1]/a[2]\")\n",
    "fixture.click()\n",
    "time.sleep(3)"
   ]
  },
  {
   "cell_type": "code",
   "execution_count": 47,
   "id": "9ae10a6f",
   "metadata": {},
   "outputs": [],
   "source": [
    "#Creating Empty list\n",
    "\n",
    "Match_title=[]\n",
    "Series=[]\n",
    "Place=[]\n",
    "Date=[]\n",
    "Time=[]\n"
   ]
  },
  {
   "cell_type": "code",
   "execution_count": 57,
   "id": "3a554257",
   "metadata": {},
   "outputs": [
    {
     "ename": "SyntaxError",
     "evalue": "':' expected after dictionary key (3882410994.py, line 27)",
     "output_type": "error",
     "traceback": [
      "\u001b[1;36m  Cell \u001b[1;32mIn[57], line 27\u001b[1;36m\u001b[0m\n\u001b[1;33m    Fixture=pd.DataFrame({\"Title\":Match_title,\"series\":Series,\"place\":Place,\"date\":Date,\"time\",Time})\u001b[0m\n\u001b[1;37m                                                                                             ^\u001b[0m\n\u001b[1;31mSyntaxError\u001b[0m\u001b[1;31m:\u001b[0m ':' expected after dictionary key\n"
     ]
    }
   ],
   "source": [
    "#get Match_title\n",
    "match_title=driver.find_elements(By.XPATH,\"//div[@class='tags-wrap tags-wrap-mob']\")\n",
    "for i in match_title:\n",
    "    Match_title.append(i.text)\n",
    "\n",
    "#Scraping Series\n",
    "\n",
    "series=driver.find_elements(By.XPATH,\"//div[@class='match-info']/h5\")\n",
    "for i in series:\n",
    "    Series.append(i.text)\n",
    "    \n",
    "#Scraping Place\n",
    "place=driver.find_elements(By.XPATH,\"//div[@class='match-venue ng-scope']\")\n",
    "for i in place:\n",
    "    Place.append(i.text)\n",
    "    \n",
    "#Scraping Date\n",
    "date=driver.find_elements(By.XPATH,\"//div[@class='match-dates ng-binding']\")\n",
    "for i in date:\n",
    "    Date.append(i.text)\n",
    "    \n",
    "#Scrapping time\n",
    "time=driver.find_elements(By.XPATH,\"//div[@class='match-time no-margin ng-binding']\")\n",
    "for i in time:\n",
    "    Time.append(i.text)\n",
    "    \n",
    "Fixture=pd.DataFrame({\"Title\":Match_title,\"series\":Series,\"place\":Place,\"date\":Date,\"time\",Time})\n",
    "\n",
    "print(Fixture)\n"
   ]
  },
  {
   "cell_type": "code",
   "execution_count": 58,
   "id": "08a356de",
   "metadata": {},
   "outputs": [],
   "source": [
    "driver.quit()"
   ]
  },
  {
   "cell_type": "markdown",
   "id": "59e666b4",
   "metadata": {},
   "source": [
    "3. Scrape the details of State-wise GDP of India from statisticstime.com.\n",
    "Url = http://statisticstimes.com/\n",
    "You have to find following details: A) Rank\n",
    "B) State\n",
    "C) GSDP(18-19)- at current prices\n",
    "D) GSDP(19-20)- at current prices\n",
    "E) Share(18-19)\n",
    "F) GDP($ billion)\n",
    "Note: - From statisticstimes home page you have to reach to economy page through code."
   ]
  },
  {
   "cell_type": "code",
   "execution_count": 73,
   "id": "d7b27a05",
   "metadata": {},
   "outputs": [],
   "source": [
    "driver=webdriver.Chrome()\n",
    "\n",
    "driver.get(\" http://statisticstimes.com/\")\n"
   ]
  },
  {
   "cell_type": "code",
   "execution_count": 70,
   "id": "0ef515e2",
   "metadata": {},
   "outputs": [],
   "source": [
    "#click economy\n",
    "\n",
    "economy=driver.find_element(By.XPATH,\"/html/body/div[2]/div[1]/div[2]/div[2]/button\")\n",
    "economy.click()\n"
   ]
  },
  {
   "cell_type": "code",
   "execution_count": 1,
   "id": "c82f98fb",
   "metadata": {},
   "outputs": [
    {
     "ename": "NameError",
     "evalue": "name 'driver' is not defined",
     "output_type": "error",
     "traceback": [
      "\u001b[1;31m---------------------------------------------------------------------------\u001b[0m",
      "\u001b[1;31mNameError\u001b[0m                                 Traceback (most recent call last)",
      "Cell \u001b[1;32mIn[1], line 2\u001b[0m\n\u001b[0;32m      1\u001b[0m \u001b[38;5;66;03m#click india\u001b[39;00m\n\u001b[1;32m----> 2\u001b[0m India\u001b[38;5;241m=\u001b[39mdriver\u001b[38;5;241m.\u001b[39mfind_element(By\u001b[38;5;241m.\u001b[39mXPATH,\u001b[38;5;124m\"\u001b[39m\u001b[38;5;124m/html/body/div[2]/div[1]/div[2]/div[2]/div/a[3]\u001b[39m\u001b[38;5;124m\"\u001b[39m)\n\u001b[0;32m      3\u001b[0m India\u001b[38;5;241m.\u001b[39mclick()\n",
      "\u001b[1;31mNameError\u001b[0m: name 'driver' is not defined"
     ]
    }
   ],
   "source": [
    "#click india\n",
    "India=driver.find_element(By.XPATH,\"/html/body/div[2]/div[1]/div[2]/div[2]/div/a[3]\")\n",
    "India.click()"
   ]
  },
  {
   "cell_type": "code",
   "execution_count": 3,
   "id": "82217749",
   "metadata": {},
   "outputs": [],
   "source": [
    "import selenium\n",
    "import pandas as pd\n",
    "import time\n",
    "from bs4 import BeautifulSoup\n",
    "\n",
    "#importing Selenium webdriver\n",
    "\n",
    "from selenium import webdriver\n",
    "\n",
    "#Importing required Exception which needs to handle\n",
    "\n",
    "from selenium.common.exceptions import StaleElementReferenceException, NoSuchElementException\n",
    "\n",
    "#importing requests\n",
    "\n",
    "import requests\n",
    "\n",
    "from selenium.webdriver.common.by import By"
   ]
  },
  {
   "cell_type": "markdown",
   "id": "30c8a817",
   "metadata": {},
   "source": [
    "4. Scrape the details of trending repositories on Github.com.\n",
    "Url = https://github.com/\n",
    "You have to find the following details:\n",
    "A) Repository title\n",
    "B) Repository description\n",
    "C) Contributors count\n",
    "D) Language used"
   ]
  },
  {
   "cell_type": "code",
   "execution_count": 6,
   "id": "874cda2e",
   "metadata": {},
   "outputs": [],
   "source": [
    "driver=webdriver.Chrome()"
   ]
  },
  {
   "cell_type": "code",
   "execution_count": 9,
   "id": "1fe6a7a4",
   "metadata": {},
   "outputs": [],
   "source": [
    "driver.get(\"https://github.com/\")\n",
    "time.sleep(5)"
   ]
  },
  {
   "cell_type": "markdown",
   "id": "8b6ed210",
   "metadata": {},
   "source": [
    "5. Scrape the details of top 100 songs on billiboard.com. Url = https:/www.billboard.com/ You have to find the following details:\n",
    "A) Song name\n",
    "B) Artist name\n",
    "C) Last week rank\n",
    "D) Peak rank\n",
    "E) Weeks on board\n",
    "Note: - From the home page you have to click on the charts option then hot 100-page link through code."
   ]
  },
  {
   "cell_type": "code",
   "execution_count": 16,
   "id": "82a33e23",
   "metadata": {},
   "outputs": [],
   "source": [
    "driver=webdriver.Chrome()\n",
    "time.sleep(3)"
   ]
  },
  {
   "cell_type": "code",
   "execution_count": 17,
   "id": "a536441e",
   "metadata": {},
   "outputs": [],
   "source": [
    "driver.get(\"https:/www.billboard.com/\")\n",
    "time.sleep(5)"
   ]
  },
  {
   "cell_type": "code",
   "execution_count": 18,
   "id": "8930cf59",
   "metadata": {},
   "outputs": [
    {
     "ename": "AttributeError",
     "evalue": "'WebDriver' object has no attribute 'find_elemnt'",
     "output_type": "error",
     "traceback": [
      "\u001b[1;31m---------------------------------------------------------------------------\u001b[0m",
      "\u001b[1;31mAttributeError\u001b[0m                            Traceback (most recent call last)",
      "Cell \u001b[1;32mIn[18], line 1\u001b[0m\n\u001b[1;32m----> 1\u001b[0m chart_option\u001b[38;5;241m=\u001b[39mdriver\u001b[38;5;241m.\u001b[39mfind_elemnt(By\u001b[38;5;241m.\u001b[39mXPATH,\u001b[38;5;124m\"\u001b[39m\u001b[38;5;124m\"\u001b[39m)\n",
      "\u001b[1;31mAttributeError\u001b[0m: 'WebDriver' object has no attribute 'find_elemnt'"
     ]
    }
   ],
   "source": []
  },
  {
   "cell_type": "markdown",
   "id": "8cf7dd2f",
   "metadata": {},
   "source": [
    "5.Scrape the details of Highest selling novels.\n",
    "A) Book name\n",
    "B) Author name\n",
    "C) Volumes sold\n",
    "D) Publisher\n",
    "E) Genre\n",
    "Url - https://www.theguardian.com/news/datablog/2012/aug/09/best-selling-books-all-time-fifty-shades-grey-compare"
   ]
  },
  {
   "cell_type": "code",
   "execution_count": 22,
   "id": "b95390ab",
   "metadata": {},
   "outputs": [],
   "source": [
    "driver=webdriver.Chrome()\n",
    "time.sleep(3)"
   ]
  },
  {
   "cell_type": "code",
   "execution_count": 24,
   "id": "a188d883",
   "metadata": {},
   "outputs": [],
   "source": [
    "driver.get(\"https://www.theguardian.com/news/datablog/2012/aug/09/best-selling-books-all-time-fifty-shades-grey-compare\")\n",
    "time.sleep(5)"
   ]
  },
  {
   "cell_type": "code",
   "execution_count": 25,
   "id": "c08823b3",
   "metadata": {},
   "outputs": [],
   "source": [
    "#creating emtply list\n",
    "Book_name=[]\n",
    "Author_name=[]\n",
    "Volumes_sold=[]\n",
    "Publisher=[]\n",
    "Genre=[]"
   ]
  },
  {
   "cell_type": "code",
   "execution_count": 26,
   "id": "f7899922",
   "metadata": {},
   "outputs": [
    {
     "ename": "SyntaxError",
     "evalue": "expected ':' (1167142172.py, line 2)",
     "output_type": "error",
     "traceback": [
      "\u001b[1;36m  Cell \u001b[1;32mIn[26], line 2\u001b[1;36m\u001b[0m\n\u001b[1;33m    for i in driver.find_element(By.XPATH,\"\")\u001b[0m\n\u001b[1;37m                                             ^\u001b[0m\n\u001b[1;31mSyntaxError\u001b[0m\u001b[1;31m:\u001b[0m expected ':'\n"
     ]
    }
   ],
   "source": [
    "#getting Book name data\n",
    "for i in driver.find_element(By.XPATH,\"\")\n"
   ]
  },
  {
   "cell_type": "code",
   "execution_count": null,
   "id": "169a22b4",
   "metadata": {},
   "outputs": [],
   "source": [
    "# I NEED HELP.. I AM UNABLE TO GET RIGHT HTLM PATH..THIS IS MY MAIL PROBLEM"
   ]
  }
 ],
 "metadata": {
  "kernelspec": {
   "display_name": "Python 3 (ipykernel)",
   "language": "python",
   "name": "python3"
  },
  "language_info": {
   "codemirror_mode": {
    "name": "ipython",
    "version": 3
   },
   "file_extension": ".py",
   "mimetype": "text/x-python",
   "name": "python",
   "nbconvert_exporter": "python",
   "pygments_lexer": "ipython3",
   "version": "3.11.5"
  }
 },
 "nbformat": 4,
 "nbformat_minor": 5
}
