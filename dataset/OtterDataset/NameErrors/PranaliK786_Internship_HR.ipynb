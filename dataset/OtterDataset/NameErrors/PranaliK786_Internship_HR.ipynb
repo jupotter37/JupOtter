{
 "cells": [
  {
   "cell_type": "code",
   "execution_count": 8,
   "id": "237a87f5",
   "metadata": {},
   "outputs": [],
   "source": [
    "import pandas as pd\n",
    "import numpy as np\n",
    "import seaborn as sns\n",
    "import matplotlib.pyplot as plt\n",
    "import warnings\n",
    "warnings.filterwarnings(\"ignore\")\n",
    "from sklearn.metrics import mean_absolute_error, mean_squared_error, r2_score\n",
    "from sklearn.model_selection import train_test_split\n",
    "from sklearn.linear_model import LinearRegression\n",
    "from sklearn.tree import DecisionTreeRegressor\n",
    "from sklearn.ensemble import RandomForestRegressor, GradientBoostingRegressor\n",
    "from sklearn.model_selection import GridSearchCV\n",
    "\n",
    "\n",
    "\n"
   ]
  },
  {
   "cell_type": "code",
   "execution_count": null,
   "id": "119bc4e2",
   "metadata": {},
   "outputs": [],
   "source": [
    "# Dataset URL\n",
    "dataset_url = \"https://raw.githubusercontent.com/dsrscientist/IBM_HR_Attrition_Rate_Analytics/main/WA_Fn-UseC_-HR-Employee-Attrition.csv\"\n",
    "\n",
    "# Load the dataset into a DataFrame\n",
    "hr_data = pd.read_csv(dataset_url)\n",
    "\n",
    "# Display the first few rows of the DataFrame\n",
    "hr_data.head()\n"
   ]
  },
  {
   "cell_type": "code",
   "execution_count": 9,
   "id": "1ed0517c",
   "metadata": {},
   "outputs": [
    {
     "ename": "NameError",
     "evalue": "name 'hr_data' is not defined",
     "output_type": "error",
     "traceback": [
      "\u001b[1;31m---------------------------------------------------------------------------\u001b[0m",
      "\u001b[1;31mNameError\u001b[0m                                 Traceback (most recent call last)",
      "Cell \u001b[1;32mIn[9], line 2\u001b[0m\n\u001b[0;32m      1\u001b[0m \u001b[38;5;66;03m# Display information about the dataset\u001b[39;00m\n\u001b[1;32m----> 2\u001b[0m hr_data\u001b[38;5;241m.\u001b[39minfo()\n\u001b[0;32m      4\u001b[0m \u001b[38;5;66;03m# Display summary statistics\u001b[39;00m\n\u001b[0;32m      5\u001b[0m hr_data\u001b[38;5;241m.\u001b[39mdescribe()\n",
      "\u001b[1;31mNameError\u001b[0m: name 'hr_data' is not defined"
     ]
    }
   ],
   "source": [
    "# Display information about the dataset\n",
    "hr_data.info()\n",
    "\n",
    "# Display summary statistics\n",
    "hr_data.describe()\n",
    "\n",
    "# Check for missing values\n",
    "hr_data.isnull().sum()\n"
   ]
  },
  {
   "cell_type": "code",
   "execution_count": null,
   "id": "8ff4b063",
   "metadata": {},
   "outputs": [],
   "source": [
    "# Check for and handle missing values\n",
    "hr_data.dropna(inplace=True)\n",
    "\n",
    "# Encode categorical variables using one-hot encoding\n",
    "hr_data = pd.get_dummies(hr_data, columns=['BusinessTravel', 'Department', 'EducationField', 'Gender', 'JobRole', 'MaritalStatus', 'Over18', 'OverTime'], drop_first=True)\n",
    "\n",
    "# Display the modified DataFrame\n",
    "hr_data.head()\n"
   ]
  },
  {
   "cell_type": "code",
   "execution_count": null,
   "id": "11bf0094",
   "metadata": {},
   "outputs": [],
   "source": [
    "import matplotlib.pyplot as plt\n",
    "import seaborn as sns\n",
    "\n",
    "# Visualize the distribution of the target variable 'Attrition'\n",
    "sns.countplot(x='Attrition', data=hr_data)\n",
    "plt.title('Attrition Distribution')\n",
    "plt.show()\n",
    "\n",
    "# Explore other relevant visualizations to understand the data\n",
    "# For example, correlation heatmap, distribution plots, etc.\n"
   ]
  },
  {
   "cell_type": "code",
   "execution_count": null,
   "id": "2385984a",
   "metadata": {},
   "outputs": [],
   "source": [
    "from sklearn.model_selection import train_test_split\n",
    "from sklearn.ensemble import RandomForestClassifier\n",
    "from sklearn.metrics import accuracy_score, classification_report, confusion_matrix\n",
    "\n",
    "# Select features and target variable\n",
    "X = hr_data.drop('Attrition', axis=1)\n",
    "y = hr_data['Attrition']\n",
    "\n",
    "# Split the data into training and testing sets\n",
    "X_train, X_test, y_train, y_test = train_test_split(X, y, test_size=0.2, random_state=42)\n",
    "\n",
    "# Initialize and train the classifier\n",
    "classifier = RandomForestClassifier(random_state=42)\n",
    "classifier.fit(X_train, y_train)\n",
    "\n",
    "# Make predictions on the test set\n",
    "y_pred = classifier.predict(X_test)\n",
    "\n",
    "# Evaluate the model\n",
    "accuracy = accuracy_score(y_test, y_pred)\n",
    "classification_report_result = classification_report(y_test, y_pred)\n",
    "conf_matrix = confusion_matrix(y_test, y_pred)\n",
    "\n",
    "print(f\"Accuracy: {accuracy}\")\n",
    "print(\"Classification Report:\\n\", classification_report_result)\n",
    "print(\"Confusion Matrix:\\n\", conf_matrix)\n"
   ]
  },
  {
   "cell_type": "code",
   "execution_count": null,
   "id": "adaeeac1",
   "metadata": {},
   "outputs": [],
   "source": []
  },
  {
   "cell_type": "code",
   "execution_count": null,
   "id": "01f9191e",
   "metadata": {},
   "outputs": [],
   "source": []
  }
 ],
 "metadata": {
  "kernelspec": {
   "display_name": "Python 3 (ipykernel)",
   "language": "python",
   "name": "python3"
  },
  "language_info": {
   "codemirror_mode": {
    "name": "ipython",
    "version": 3
   },
   "file_extension": ".py",
   "mimetype": "text/x-python",
   "name": "python",
   "nbconvert_exporter": "python",
   "pygments_lexer": "ipython3",
   "version": "3.11.3"
  }
 },
 "nbformat": 4,
 "nbformat_minor": 5
}
