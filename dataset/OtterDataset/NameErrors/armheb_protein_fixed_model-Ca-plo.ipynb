{
 "cells": [
  {
   "cell_type": "code",
   "execution_count": 1,
   "metadata": {},
   "outputs": [],
   "source": [
    "%matplotlib inline\n",
    "%reload_ext autoreload\n",
    "%autoreload 2"
   ]
  },
  {
   "cell_type": "code",
   "execution_count": 81,
   "metadata": {},
   "outputs": [],
   "source": [
    "from fastai.structured import *\n",
    "from fastai.column_data import *\n",
    "import pandas as pd\n",
    "np.set_printoptions(threshold=50, edgeitems=20)\n",
    "\n",
    "PATH = 'fixed/data/'"
   ]
  },
  {
   "cell_type": "code",
   "execution_count": 82,
   "metadata": {},
   "outputs": [],
   "source": [
    "from fastai.imports import *\n",
    "from fastai.structured import *\n",
    "\n",
    "from pandas_summary import DataFrameSummary\n",
    "from sklearn.ensemble import RandomForestRegressor, RandomForestClassifier\n",
    "from IPython.display import display\n",
    "\n",
    "from sklearn import metrics"
   ]
  },
  {
   "cell_type": "code",
   "execution_count": 83,
   "metadata": {},
   "outputs": [],
   "source": [
    "df=pd.read_pickle('df_fixed_normalized.pkl')"
   ]
  },
  {
   "cell_type": "code",
   "execution_count": 84,
   "metadata": {},
   "outputs": [],
   "source": [
    "from sklearn.utils import shuffle\n",
    "df = shuffle(df)"
   ]
  },
  {
   "cell_type": "code",
   "execution_count": 85,
   "metadata": {},
   "outputs": [
    {
     "data": {
      "text/html": [
       "<div>\n",
       "<style scoped>\n",
       "    .dataframe tbody tr th:only-of-type {\n",
       "        vertical-align: middle;\n",
       "    }\n",
       "\n",
       "    .dataframe tbody tr th {\n",
       "        vertical-align: top;\n",
       "    }\n",
       "\n",
       "    .dataframe thead th {\n",
       "        text-align: right;\n",
       "    }\n",
       "</style>\n",
       "<table border=\"1\" class=\"dataframe\">\n",
       "  <thead>\n",
       "    <tr style=\"text-align: right;\">\n",
       "      <th></th>\n",
       "      <th>atom_number</th>\n",
       "      <th>atom_name</th>\n",
       "      <th>residue_name</th>\n",
       "      <th>chain_id</th>\n",
       "      <th>residue_number</th>\n",
       "      <th>x_coord</th>\n",
       "      <th>y_coord</th>\n",
       "      <th>z_coord</th>\n",
       "      <th>b_factor</th>\n",
       "      <th>element_symbol</th>\n",
       "      <th>x_ca</th>\n",
       "      <th>y_ca</th>\n",
       "      <th>z_ca</th>\n",
       "    </tr>\n",
       "  </thead>\n",
       "  <tbody>\n",
       "    <tr>\n",
       "      <th>522</th>\n",
       "      <td>523</td>\n",
       "      <td>CD2</td>\n",
       "      <td>TYR</td>\n",
       "      <td>213</td>\n",
       "      <td>69</td>\n",
       "      <td>1.224306</td>\n",
       "      <td>-0.602414</td>\n",
       "      <td>1.019632</td>\n",
       "      <td>0.0</td>\n",
       "      <td>C</td>\n",
       "      <td>1.357141</td>\n",
       "      <td>1.357141</td>\n",
       "      <td>1.357141</td>\n",
       "    </tr>\n",
       "    <tr>\n",
       "      <th>826</th>\n",
       "      <td>827</td>\n",
       "      <td>CB</td>\n",
       "      <td>TRP</td>\n",
       "      <td>226</td>\n",
       "      <td>109</td>\n",
       "      <td>0.542446</td>\n",
       "      <td>-0.272088</td>\n",
       "      <td>1.297469</td>\n",
       "      <td>0.0</td>\n",
       "      <td>C</td>\n",
       "      <td>0.626296</td>\n",
       "      <td>0.626296</td>\n",
       "      <td>0.626296</td>\n",
       "    </tr>\n",
       "    <tr>\n",
       "      <th>1347</th>\n",
       "      <td>1348</td>\n",
       "      <td>HA</td>\n",
       "      <td>GLN</td>\n",
       "      <td>258</td>\n",
       "      <td>88</td>\n",
       "      <td>-0.514820</td>\n",
       "      <td>-0.648300</td>\n",
       "      <td>0.822543</td>\n",
       "      <td>0.0</td>\n",
       "      <td>H</td>\n",
       "      <td>0.359035</td>\n",
       "      <td>0.359035</td>\n",
       "      <td>0.359035</td>\n",
       "    </tr>\n",
       "    <tr>\n",
       "      <th>365</th>\n",
       "      <td>366</td>\n",
       "      <td>CB</td>\n",
       "      <td>LEU</td>\n",
       "      <td>44</td>\n",
       "      <td>45</td>\n",
       "      <td>-1.170406</td>\n",
       "      <td>-0.203058</td>\n",
       "      <td>-0.114062</td>\n",
       "      <td>0.0</td>\n",
       "      <td>C</td>\n",
       "      <td>0.603184</td>\n",
       "      <td>0.603184</td>\n",
       "      <td>0.603184</td>\n",
       "    </tr>\n",
       "    <tr>\n",
       "      <th>589</th>\n",
       "      <td>590</td>\n",
       "      <td>C</td>\n",
       "      <td>GLU</td>\n",
       "      <td>168</td>\n",
       "      <td>74</td>\n",
       "      <td>-1.486810</td>\n",
       "      <td>-0.403873</td>\n",
       "      <td>-1.575621</td>\n",
       "      <td>0.0</td>\n",
       "      <td>C</td>\n",
       "      <td>1.853668</td>\n",
       "      <td>1.853668</td>\n",
       "      <td>1.853668</td>\n",
       "    </tr>\n",
       "    <tr>\n",
       "      <th>849</th>\n",
       "      <td>850</td>\n",
       "      <td>CG1</td>\n",
       "      <td>ILE</td>\n",
       "      <td>10</td>\n",
       "      <td>109</td>\n",
       "      <td>0.328344</td>\n",
       "      <td>0.973116</td>\n",
       "      <td>0.428926</td>\n",
       "      <td>0.0</td>\n",
       "      <td>C</td>\n",
       "      <td>0.313406</td>\n",
       "      <td>0.747207</td>\n",
       "      <td>0.363194</td>\n",
       "    </tr>\n",
       "    <tr>\n",
       "      <th>1404</th>\n",
       "      <td>1405</td>\n",
       "      <td>OD2</td>\n",
       "      <td>ASP</td>\n",
       "      <td>241</td>\n",
       "      <td>181</td>\n",
       "      <td>-0.366901</td>\n",
       "      <td>0.302827</td>\n",
       "      <td>-0.961516</td>\n",
       "      <td>0.0</td>\n",
       "      <td>O</td>\n",
       "      <td>-0.613996</td>\n",
       "      <td>-0.613996</td>\n",
       "      <td>-0.613996</td>\n",
       "    </tr>\n",
       "    <tr>\n",
       "      <th>858</th>\n",
       "      <td>859</td>\n",
       "      <td>CD1</td>\n",
       "      <td>LEU</td>\n",
       "      <td>234</td>\n",
       "      <td>100</td>\n",
       "      <td>-0.978469</td>\n",
       "      <td>0.214634</td>\n",
       "      <td>-1.213377</td>\n",
       "      <td>0.0</td>\n",
       "      <td>C</td>\n",
       "      <td>-0.877883</td>\n",
       "      <td>-0.877883</td>\n",
       "      <td>-0.877883</td>\n",
       "    </tr>\n",
       "    <tr>\n",
       "      <th>47</th>\n",
       "      <td>48</td>\n",
       "      <td>O</td>\n",
       "      <td>ASN</td>\n",
       "      <td>168</td>\n",
       "      <td>6</td>\n",
       "      <td>-1.054529</td>\n",
       "      <td>1.465414</td>\n",
       "      <td>0.138000</td>\n",
       "      <td>0.0</td>\n",
       "      <td>O</td>\n",
       "      <td>0.338014</td>\n",
       "      <td>0.338014</td>\n",
       "      <td>0.338014</td>\n",
       "    </tr>\n",
       "    <tr>\n",
       "      <th>7</th>\n",
       "      <td>8</td>\n",
       "      <td>CD2</td>\n",
       "      <td>LEU</td>\n",
       "      <td>92</td>\n",
       "      <td>1</td>\n",
       "      <td>0.733400</td>\n",
       "      <td>1.186181</td>\n",
       "      <td>0.868856</td>\n",
       "      <td>0.0</td>\n",
       "      <td>C</td>\n",
       "      <td>1.944728</td>\n",
       "      <td>1.944728</td>\n",
       "      <td>1.944728</td>\n",
       "    </tr>\n",
       "    <tr>\n",
       "      <th>1320</th>\n",
       "      <td>1321</td>\n",
       "      <td>CA</td>\n",
       "      <td>ASP</td>\n",
       "      <td>179</td>\n",
       "      <td>162</td>\n",
       "      <td>0.418934</td>\n",
       "      <td>1.176708</td>\n",
       "      <td>1.597697</td>\n",
       "      <td>0.0</td>\n",
       "      <td>C</td>\n",
       "      <td>0.405356</td>\n",
       "      <td>0.405356</td>\n",
       "      <td>0.405356</td>\n",
       "    </tr>\n",
       "    <tr>\n",
       "      <th>594</th>\n",
       "      <td>595</td>\n",
       "      <td>CB</td>\n",
       "      <td>THR</td>\n",
       "      <td>219</td>\n",
       "      <td>80</td>\n",
       "      <td>-0.870062</td>\n",
       "      <td>0.008599</td>\n",
       "      <td>-1.170944</td>\n",
       "      <td>0.0</td>\n",
       "      <td>C</td>\n",
       "      <td>0.974292</td>\n",
       "      <td>0.974292</td>\n",
       "      <td>0.974292</td>\n",
       "    </tr>\n",
       "    <tr>\n",
       "      <th>1700</th>\n",
       "      <td>1701</td>\n",
       "      <td>N</td>\n",
       "      <td>THR</td>\n",
       "      <td>126</td>\n",
       "      <td>224</td>\n",
       "      <td>0.417330</td>\n",
       "      <td>1.145080</td>\n",
       "      <td>0.195814</td>\n",
       "      <td>0.0</td>\n",
       "      <td>N</td>\n",
       "      <td>1.113884</td>\n",
       "      <td>1.113884</td>\n",
       "      <td>1.113884</td>\n",
       "    </tr>\n",
       "    <tr>\n",
       "      <th>377</th>\n",
       "      <td>378</td>\n",
       "      <td>CA</td>\n",
       "      <td>VAL</td>\n",
       "      <td>145</td>\n",
       "      <td>47</td>\n",
       "      <td>0.059638</td>\n",
       "      <td>0.047393</td>\n",
       "      <td>1.160992</td>\n",
       "      <td>0.0</td>\n",
       "      <td>C</td>\n",
       "      <td>0.241262</td>\n",
       "      <td>0.241262</td>\n",
       "      <td>0.241262</td>\n",
       "    </tr>\n",
       "    <tr>\n",
       "      <th>2074</th>\n",
       "      <td>2075</td>\n",
       "      <td>N</td>\n",
       "      <td>SER</td>\n",
       "      <td>253</td>\n",
       "      <td>272</td>\n",
       "      <td>0.496505</td>\n",
       "      <td>-1.443952</td>\n",
       "      <td>-0.807816</td>\n",
       "      <td>0.0</td>\n",
       "      <td>N</td>\n",
       "      <td>-0.840976</td>\n",
       "      <td>-0.840976</td>\n",
       "      <td>-0.840976</td>\n",
       "    </tr>\n",
       "    <tr>\n",
       "      <th>415</th>\n",
       "      <td>416</td>\n",
       "      <td>N</td>\n",
       "      <td>PRO</td>\n",
       "      <td>266</td>\n",
       "      <td>55</td>\n",
       "      <td>-0.378446</td>\n",
       "      <td>0.161683</td>\n",
       "      <td>-1.887218</td>\n",
       "      <td>0.0</td>\n",
       "      <td>N</td>\n",
       "      <td>-0.732589</td>\n",
       "      <td>-0.732589</td>\n",
       "      <td>-0.732589</td>\n",
       "    </tr>\n",
       "    <tr>\n",
       "      <th>408</th>\n",
       "      <td>409</td>\n",
       "      <td>C</td>\n",
       "      <td>GLN</td>\n",
       "      <td>19</td>\n",
       "      <td>52</td>\n",
       "      <td>-0.200080</td>\n",
       "      <td>1.609166</td>\n",
       "      <td>-0.052962</td>\n",
       "      <td>0.0</td>\n",
       "      <td>C</td>\n",
       "      <td>-0.303989</td>\n",
       "      <td>1.630966</td>\n",
       "      <td>0.064797</td>\n",
       "    </tr>\n",
       "    <tr>\n",
       "      <th>1654</th>\n",
       "      <td>1655</td>\n",
       "      <td>CD1</td>\n",
       "      <td>PHE</td>\n",
       "      <td>253</td>\n",
       "      <td>217</td>\n",
       "      <td>0.965613</td>\n",
       "      <td>0.232711</td>\n",
       "      <td>-0.688808</td>\n",
       "      <td>0.0</td>\n",
       "      <td>C</td>\n",
       "      <td>-0.121449</td>\n",
       "      <td>-0.121449</td>\n",
       "      <td>-0.121449</td>\n",
       "    </tr>\n",
       "    <tr>\n",
       "      <th>427</th>\n",
       "      <td>428</td>\n",
       "      <td>O</td>\n",
       "      <td>LEU</td>\n",
       "      <td>191</td>\n",
       "      <td>52</td>\n",
       "      <td>-0.829834</td>\n",
       "      <td>-0.480952</td>\n",
       "      <td>-1.826069</td>\n",
       "      <td>0.0</td>\n",
       "      <td>O</td>\n",
       "      <td>-0.607379</td>\n",
       "      <td>-0.607379</td>\n",
       "      <td>-0.607379</td>\n",
       "    </tr>\n",
       "    <tr>\n",
       "      <th>2190</th>\n",
       "      <td>2191</td>\n",
       "      <td>OE2</td>\n",
       "      <td>GLU</td>\n",
       "      <td>52</td>\n",
       "      <td>277</td>\n",
       "      <td>0.247767</td>\n",
       "      <td>-2.143136</td>\n",
       "      <td>-0.438029</td>\n",
       "      <td>0.0</td>\n",
       "      <td>O</td>\n",
       "      <td>-0.382198</td>\n",
       "      <td>-0.382198</td>\n",
       "      <td>-0.382198</td>\n",
       "    </tr>\n",
       "  </tbody>\n",
       "</table>\n",
       "</div>"
      ],
      "text/plain": [
       "      atom_number atom_name residue_name chain_id  residue_number   x_coord  \\\n",
       "522           523       CD2          TYR      213              69  1.224306   \n",
       "826           827        CB          TRP      226             109  0.542446   \n",
       "1347         1348        HA          GLN      258              88 -0.514820   \n",
       "365           366        CB          LEU       44              45 -1.170406   \n",
       "589           590         C          GLU      168              74 -1.486810   \n",
       "849           850       CG1          ILE       10             109  0.328344   \n",
       "1404         1405       OD2          ASP      241             181 -0.366901   \n",
       "858           859       CD1          LEU      234             100 -0.978469   \n",
       "47             48         O          ASN      168               6 -1.054529   \n",
       "7               8       CD2          LEU       92               1  0.733400   \n",
       "1320         1321        CA          ASP      179             162  0.418934   \n",
       "594           595        CB          THR      219              80 -0.870062   \n",
       "1700         1701         N          THR      126             224  0.417330   \n",
       "377           378        CA          VAL      145              47  0.059638   \n",
       "2074         2075         N          SER      253             272  0.496505   \n",
       "415           416         N          PRO      266              55 -0.378446   \n",
       "408           409         C          GLN       19              52 -0.200080   \n",
       "1654         1655       CD1          PHE      253             217  0.965613   \n",
       "427           428         O          LEU      191              52 -0.829834   \n",
       "2190         2191       OE2          GLU       52             277  0.247767   \n",
       "\n",
       "       y_coord   z_coord  b_factor element_symbol      x_ca      y_ca  \\\n",
       "522  -0.602414  1.019632       0.0              C  1.357141  1.357141   \n",
       "826  -0.272088  1.297469       0.0              C  0.626296  0.626296   \n",
       "1347 -0.648300  0.822543       0.0              H  0.359035  0.359035   \n",
       "365  -0.203058 -0.114062       0.0              C  0.603184  0.603184   \n",
       "589  -0.403873 -1.575621       0.0              C  1.853668  1.853668   \n",
       "849   0.973116  0.428926       0.0              C  0.313406  0.747207   \n",
       "1404  0.302827 -0.961516       0.0              O -0.613996 -0.613996   \n",
       "858   0.214634 -1.213377       0.0              C -0.877883 -0.877883   \n",
       "47    1.465414  0.138000       0.0              O  0.338014  0.338014   \n",
       "7     1.186181  0.868856       0.0              C  1.944728  1.944728   \n",
       "1320  1.176708  1.597697       0.0              C  0.405356  0.405356   \n",
       "594   0.008599 -1.170944       0.0              C  0.974292  0.974292   \n",
       "1700  1.145080  0.195814       0.0              N  1.113884  1.113884   \n",
       "377   0.047393  1.160992       0.0              C  0.241262  0.241262   \n",
       "2074 -1.443952 -0.807816       0.0              N -0.840976 -0.840976   \n",
       "415   0.161683 -1.887218       0.0              N -0.732589 -0.732589   \n",
       "408   1.609166 -0.052962       0.0              C -0.303989  1.630966   \n",
       "1654  0.232711 -0.688808       0.0              C -0.121449 -0.121449   \n",
       "427  -0.480952 -1.826069       0.0              O -0.607379 -0.607379   \n",
       "2190 -2.143136 -0.438029       0.0              O -0.382198 -0.382198   \n",
       "\n",
       "          z_ca  \n",
       "522   1.357141  \n",
       "826   0.626296  \n",
       "1347  0.359035  \n",
       "365   0.603184  \n",
       "589   1.853668  \n",
       "849   0.363194  \n",
       "1404 -0.613996  \n",
       "858  -0.877883  \n",
       "47    0.338014  \n",
       "7     1.944728  \n",
       "1320  0.405356  \n",
       "594   0.974292  \n",
       "1700  1.113884  \n",
       "377   0.241262  \n",
       "2074 -0.840976  \n",
       "415  -0.732589  \n",
       "408   0.064797  \n",
       "1654 -0.121449  \n",
       "427  -0.607379  \n",
       "2190 -0.382198  "
      ]
     },
     "execution_count": 85,
     "metadata": {},
     "output_type": "execute_result"
    }
   ],
   "source": [
    "df.head(20)"
   ]
  },
  {
   "cell_type": "code",
   "execution_count": 86,
   "metadata": {},
   "outputs": [
    {
     "data": {
      "text/plain": [
       "Index(['atom_number', 'atom_name', 'residue_name', 'chain_id',\n",
       "       'residue_number', 'x_coord', 'y_coord', 'z_coord', 'b_factor',\n",
       "       'element_symbol', 'x_ca', 'y_ca', 'z_ca'],\n",
       "      dtype='object')"
      ]
     },
     "execution_count": 86,
     "metadata": {},
     "output_type": "execute_result"
    }
   ],
   "source": [
    "df.columns"
   ]
  },
  {
   "cell_type": "code",
   "execution_count": 87,
   "metadata": {},
   "outputs": [],
   "source": [
    "cat_vars = ['atom_name', 'residue_name', 'chain_id',\n",
    "       'residue_number','element_symbol']"
   ]
  },
  {
   "cell_type": "code",
   "execution_count": 88,
   "metadata": {},
   "outputs": [],
   "source": [
    "contin_vars = ['x_coord', 'y_coord', 'z_coord','x_ca', 'y_ca', 'z_ca']"
   ]
  },
  {
   "cell_type": "code",
   "execution_count": 89,
   "metadata": {},
   "outputs": [],
   "source": [
    "for v in cat_vars: df[v] = df[v].astype('category').cat.as_ordered()"
   ]
  },
  {
   "cell_type": "code",
   "execution_count": 90,
   "metadata": {},
   "outputs": [],
   "source": [
    "for v in contin_vars:\n",
    "    df[v] = df[v].fillna(0).astype('float32')"
   ]
  },
  {
   "cell_type": "code",
   "execution_count": 91,
   "metadata": {},
   "outputs": [
    {
     "data": {
      "text/plain": [
       "Index(['atom_number', 'atom_name', 'residue_name', 'chain_id',\n",
       "       'residue_number', 'x_coord', 'y_coord', 'z_coord', 'b_factor',\n",
       "       'element_symbol', 'x_ca', 'y_ca', 'z_ca'],\n",
       "      dtype='object')"
      ]
     },
     "execution_count": 91,
     "metadata": {},
     "output_type": "execute_result"
    }
   ],
   "source": [
    "df.columns"
   ]
  },
  {
   "cell_type": "code",
   "execution_count": 94,
   "metadata": {},
   "outputs": [
    {
     "data": {
      "text/html": [
       "<div>\n",
       "<style scoped>\n",
       "    .dataframe tbody tr th:only-of-type {\n",
       "        vertical-align: middle;\n",
       "    }\n",
       "\n",
       "    .dataframe tbody tr th {\n",
       "        vertical-align: top;\n",
       "    }\n",
       "\n",
       "    .dataframe thead th {\n",
       "        text-align: right;\n",
       "    }\n",
       "</style>\n",
       "<table border=\"1\" class=\"dataframe\">\n",
       "  <thead>\n",
       "    <tr style=\"text-align: right;\">\n",
       "      <th></th>\n",
       "      <th>x_coord</th>\n",
       "      <th>y_coord</th>\n",
       "      <th>z_coord</th>\n",
       "    </tr>\n",
       "  </thead>\n",
       "  <tbody>\n",
       "    <tr>\n",
       "      <th>522</th>\n",
       "      <td>1.224306</td>\n",
       "      <td>-0.602414</td>\n",
       "      <td>1.019632</td>\n",
       "    </tr>\n",
       "    <tr>\n",
       "      <th>826</th>\n",
       "      <td>0.542446</td>\n",
       "      <td>-0.272088</td>\n",
       "      <td>1.297469</td>\n",
       "    </tr>\n",
       "    <tr>\n",
       "      <th>1347</th>\n",
       "      <td>-0.514820</td>\n",
       "      <td>-0.648300</td>\n",
       "      <td>0.822543</td>\n",
       "    </tr>\n",
       "    <tr>\n",
       "      <th>365</th>\n",
       "      <td>-1.170406</td>\n",
       "      <td>-0.203058</td>\n",
       "      <td>-0.114062</td>\n",
       "    </tr>\n",
       "    <tr>\n",
       "      <th>589</th>\n",
       "      <td>-1.486810</td>\n",
       "      <td>-0.403873</td>\n",
       "      <td>-1.575621</td>\n",
       "    </tr>\n",
       "  </tbody>\n",
       "</table>\n",
       "</div>"
      ],
      "text/plain": [
       "       x_coord   y_coord   z_coord\n",
       "522   1.224306 -0.602414  1.019632\n",
       "826   0.542446 -0.272088  1.297469\n",
       "1347 -0.514820 -0.648300  0.822543\n",
       "365  -1.170406 -0.203058 -0.114062\n",
       "589  -1.486810 -0.403873 -1.575621"
      ]
     },
     "execution_count": 94,
     "metadata": {},
     "output_type": "execute_result"
    }
   ],
   "source": [
    "y=df.drop(['atom_name', 'residue_name', 'chain_id', 'residue_number','b_factor', 'atom_number','element_symbol', 'x_ca', 'y_ca', 'z_ca'],axis=1)\n",
    "y.head()"
   ]
  },
  {
   "cell_type": "code",
   "execution_count": 93,
   "metadata": {},
   "outputs": [],
   "source": [
    "y=y.values"
   ]
  },
  {
   "cell_type": "code",
   "execution_count": 14,
   "metadata": {},
   "outputs": [],
   "source": [
    "train_cats(df)"
   ]
  },
  {
   "cell_type": "code",
   "execution_count": 15,
   "metadata": {},
   "outputs": [
    {
     "data": {
      "text/html": [
       "<div>\n",
       "<style scoped>\n",
       "    .dataframe tbody tr th:only-of-type {\n",
       "        vertical-align: middle;\n",
       "    }\n",
       "\n",
       "    .dataframe tbody tr th {\n",
       "        vertical-align: top;\n",
       "    }\n",
       "\n",
       "    .dataframe thead th {\n",
       "        text-align: right;\n",
       "    }\n",
       "</style>\n",
       "<table border=\"1\" class=\"dataframe\">\n",
       "  <thead>\n",
       "    <tr style=\"text-align: right;\">\n",
       "      <th></th>\n",
       "      <th>atom_number</th>\n",
       "      <th>atom_name</th>\n",
       "      <th>residue_name</th>\n",
       "      <th>chain_id</th>\n",
       "      <th>residue_number</th>\n",
       "      <th>x_coord</th>\n",
       "      <th>y_coord</th>\n",
       "      <th>z_coord</th>\n",
       "      <th>b_factor</th>\n",
       "      <th>element_symbol</th>\n",
       "      <th>x_ca</th>\n",
       "      <th>y_ca</th>\n",
       "      <th>z_ca</th>\n",
       "    </tr>\n",
       "  </thead>\n",
       "  <tbody>\n",
       "    <tr>\n",
       "      <th>0</th>\n",
       "      <td>1</td>\n",
       "      <td>N</td>\n",
       "      <td>ALA</td>\n",
       "      <td>1</td>\n",
       "      <td>1</td>\n",
       "      <td>1.907654</td>\n",
       "      <td>0.193423</td>\n",
       "      <td>1.923157</td>\n",
       "      <td>0.0</td>\n",
       "      <td>N</td>\n",
       "      <td>1.965435</td>\n",
       "      <td>0.27522</td>\n",
       "      <td>1.959391</td>\n",
       "    </tr>\n",
       "    <tr>\n",
       "      <th>1</th>\n",
       "      <td>2</td>\n",
       "      <td>CA</td>\n",
       "      <td>ALA</td>\n",
       "      <td>1</td>\n",
       "      <td>1</td>\n",
       "      <td>1.965435</td>\n",
       "      <td>0.275220</td>\n",
       "      <td>1.959391</td>\n",
       "      <td>0.0</td>\n",
       "      <td>C</td>\n",
       "      <td>1.965435</td>\n",
       "      <td>0.27522</td>\n",
       "      <td>1.959391</td>\n",
       "    </tr>\n",
       "    <tr>\n",
       "      <th>2</th>\n",
       "      <td>3</td>\n",
       "      <td>C</td>\n",
       "      <td>ALA</td>\n",
       "      <td>1</td>\n",
       "      <td>1</td>\n",
       "      <td>1.911002</td>\n",
       "      <td>0.365770</td>\n",
       "      <td>1.927624</td>\n",
       "      <td>0.0</td>\n",
       "      <td>C</td>\n",
       "      <td>1.965435</td>\n",
       "      <td>0.27522</td>\n",
       "      <td>1.959391</td>\n",
       "    </tr>\n",
       "    <tr>\n",
       "      <th>3</th>\n",
       "      <td>4</td>\n",
       "      <td>O</td>\n",
       "      <td>ALA</td>\n",
       "      <td>1</td>\n",
       "      <td>1</td>\n",
       "      <td>1.840849</td>\n",
       "      <td>0.364930</td>\n",
       "      <td>1.851682</td>\n",
       "      <td>0.0</td>\n",
       "      <td>O</td>\n",
       "      <td>1.965435</td>\n",
       "      <td>0.27522</td>\n",
       "      <td>1.959391</td>\n",
       "    </tr>\n",
       "    <tr>\n",
       "      <th>4</th>\n",
       "      <td>5</td>\n",
       "      <td>CB</td>\n",
       "      <td>ALA</td>\n",
       "      <td>1</td>\n",
       "      <td>1</td>\n",
       "      <td>2.061931</td>\n",
       "      <td>0.273539</td>\n",
       "      <td>1.885633</td>\n",
       "      <td>0.0</td>\n",
       "      <td>C</td>\n",
       "      <td>1.965435</td>\n",
       "      <td>0.27522</td>\n",
       "      <td>1.959391</td>\n",
       "    </tr>\n",
       "  </tbody>\n",
       "</table>\n",
       "</div>"
      ],
      "text/plain": [
       "   atom_number atom_name residue_name chain_id residue_number   x_coord  \\\n",
       "0            1         N          ALA        1              1  1.907654   \n",
       "1            2        CA          ALA        1              1  1.965435   \n",
       "2            3         C          ALA        1              1  1.911002   \n",
       "3            4         O          ALA        1              1  1.840849   \n",
       "4            5        CB          ALA        1              1  2.061931   \n",
       "\n",
       "    y_coord   z_coord  b_factor element_symbol      x_ca     y_ca      z_ca  \n",
       "0  0.193423  1.923157       0.0              N  1.965435  0.27522  1.959391  \n",
       "1  0.275220  1.959391       0.0              C  1.965435  0.27522  1.959391  \n",
       "2  0.365770  1.927624       0.0              C  1.965435  0.27522  1.959391  \n",
       "3  0.364930  1.851682       0.0              O  1.965435  0.27522  1.959391  \n",
       "4  0.273539  1.885633       0.0              C  1.965435  0.27522  1.959391  "
      ]
     },
     "execution_count": 15,
     "metadata": {},
     "output_type": "execute_result"
    }
   ],
   "source": [
    "df.head()"
   ]
  },
  {
   "cell_type": "code",
   "execution_count": 16,
   "metadata": {},
   "outputs": [
    {
     "data": {
      "text/html": [
       "<div>\n",
       "<style scoped>\n",
       "    .dataframe tbody tr th:only-of-type {\n",
       "        vertical-align: middle;\n",
       "    }\n",
       "\n",
       "    .dataframe tbody tr th {\n",
       "        vertical-align: top;\n",
       "    }\n",
       "\n",
       "    .dataframe thead th {\n",
       "        text-align: right;\n",
       "    }\n",
       "</style>\n",
       "<table border=\"1\" class=\"dataframe\">\n",
       "  <thead>\n",
       "    <tr style=\"text-align: right;\">\n",
       "      <th></th>\n",
       "      <th>atom_number</th>\n",
       "      <th>atom_name</th>\n",
       "      <th>residue_name</th>\n",
       "      <th>chain_id</th>\n",
       "      <th>residue_number</th>\n",
       "      <th>b_factor</th>\n",
       "      <th>element_symbol</th>\n",
       "      <th>x_ca</th>\n",
       "      <th>y_ca</th>\n",
       "      <th>z_ca</th>\n",
       "    </tr>\n",
       "  </thead>\n",
       "  <tbody>\n",
       "    <tr>\n",
       "      <th>0</th>\n",
       "      <td>1</td>\n",
       "      <td>N</td>\n",
       "      <td>ALA</td>\n",
       "      <td>1</td>\n",
       "      <td>1</td>\n",
       "      <td>0.0</td>\n",
       "      <td>N</td>\n",
       "      <td>1.965435</td>\n",
       "      <td>0.275220</td>\n",
       "      <td>1.959391</td>\n",
       "    </tr>\n",
       "    <tr>\n",
       "      <th>1</th>\n",
       "      <td>2</td>\n",
       "      <td>CA</td>\n",
       "      <td>ALA</td>\n",
       "      <td>1</td>\n",
       "      <td>1</td>\n",
       "      <td>0.0</td>\n",
       "      <td>C</td>\n",
       "      <td>1.965435</td>\n",
       "      <td>0.275220</td>\n",
       "      <td>1.959391</td>\n",
       "    </tr>\n",
       "    <tr>\n",
       "      <th>2</th>\n",
       "      <td>3</td>\n",
       "      <td>C</td>\n",
       "      <td>ALA</td>\n",
       "      <td>1</td>\n",
       "      <td>1</td>\n",
       "      <td>0.0</td>\n",
       "      <td>C</td>\n",
       "      <td>1.965435</td>\n",
       "      <td>0.275220</td>\n",
       "      <td>1.959391</td>\n",
       "    </tr>\n",
       "    <tr>\n",
       "      <th>3</th>\n",
       "      <td>4</td>\n",
       "      <td>O</td>\n",
       "      <td>ALA</td>\n",
       "      <td>1</td>\n",
       "      <td>1</td>\n",
       "      <td>0.0</td>\n",
       "      <td>O</td>\n",
       "      <td>1.965435</td>\n",
       "      <td>0.275220</td>\n",
       "      <td>1.959391</td>\n",
       "    </tr>\n",
       "    <tr>\n",
       "      <th>4</th>\n",
       "      <td>5</td>\n",
       "      <td>CB</td>\n",
       "      <td>ALA</td>\n",
       "      <td>1</td>\n",
       "      <td>1</td>\n",
       "      <td>0.0</td>\n",
       "      <td>C</td>\n",
       "      <td>1.965435</td>\n",
       "      <td>0.275220</td>\n",
       "      <td>1.959391</td>\n",
       "    </tr>\n",
       "    <tr>\n",
       "      <th>5</th>\n",
       "      <td>6</td>\n",
       "      <td>N</td>\n",
       "      <td>LYS</td>\n",
       "      <td>1</td>\n",
       "      <td>2</td>\n",
       "      <td>0.0</td>\n",
       "      <td>N</td>\n",
       "      <td>1.907581</td>\n",
       "      <td>0.536296</td>\n",
       "      <td>1.951052</td>\n",
       "    </tr>\n",
       "    <tr>\n",
       "      <th>6</th>\n",
       "      <td>7</td>\n",
       "      <td>CA</td>\n",
       "      <td>LYS</td>\n",
       "      <td>1</td>\n",
       "      <td>2</td>\n",
       "      <td>0.0</td>\n",
       "      <td>C</td>\n",
       "      <td>1.907581</td>\n",
       "      <td>0.536296</td>\n",
       "      <td>1.951052</td>\n",
       "    </tr>\n",
       "    <tr>\n",
       "      <th>7</th>\n",
       "      <td>8</td>\n",
       "      <td>C</td>\n",
       "      <td>LYS</td>\n",
       "      <td>1</td>\n",
       "      <td>2</td>\n",
       "      <td>0.0</td>\n",
       "      <td>C</td>\n",
       "      <td>1.907581</td>\n",
       "      <td>0.536296</td>\n",
       "      <td>1.951052</td>\n",
       "    </tr>\n",
       "    <tr>\n",
       "      <th>8</th>\n",
       "      <td>9</td>\n",
       "      <td>O</td>\n",
       "      <td>LYS</td>\n",
       "      <td>1</td>\n",
       "      <td>2</td>\n",
       "      <td>0.0</td>\n",
       "      <td>O</td>\n",
       "      <td>1.907581</td>\n",
       "      <td>0.536296</td>\n",
       "      <td>1.951052</td>\n",
       "    </tr>\n",
       "    <tr>\n",
       "      <th>9</th>\n",
       "      <td>10</td>\n",
       "      <td>CB</td>\n",
       "      <td>LYS</td>\n",
       "      <td>1</td>\n",
       "      <td>2</td>\n",
       "      <td>0.0</td>\n",
       "      <td>C</td>\n",
       "      <td>1.907581</td>\n",
       "      <td>0.536296</td>\n",
       "      <td>1.951052</td>\n",
       "    </tr>\n",
       "  </tbody>\n",
       "</table>\n",
       "</div>"
      ],
      "text/plain": [
       "   atom_number atom_name residue_name chain_id residue_number  b_factor  \\\n",
       "0            1         N          ALA        1              1       0.0   \n",
       "1            2        CA          ALA        1              1       0.0   \n",
       "2            3         C          ALA        1              1       0.0   \n",
       "3            4         O          ALA        1              1       0.0   \n",
       "4            5        CB          ALA        1              1       0.0   \n",
       "5            6         N          LYS        1              2       0.0   \n",
       "6            7        CA          LYS        1              2       0.0   \n",
       "7            8         C          LYS        1              2       0.0   \n",
       "8            9         O          LYS        1              2       0.0   \n",
       "9           10        CB          LYS        1              2       0.0   \n",
       "\n",
       "  element_symbol      x_ca      y_ca      z_ca  \n",
       "0              N  1.965435  0.275220  1.959391  \n",
       "1              C  1.965435  0.275220  1.959391  \n",
       "2              C  1.965435  0.275220  1.959391  \n",
       "3              O  1.965435  0.275220  1.959391  \n",
       "4              C  1.965435  0.275220  1.959391  \n",
       "5              N  1.907581  0.536296  1.951052  \n",
       "6              C  1.907581  0.536296  1.951052  \n",
       "7              C  1.907581  0.536296  1.951052  \n",
       "8              O  1.907581  0.536296  1.951052  \n",
       "9              C  1.907581  0.536296  1.951052  "
      ]
     },
     "execution_count": 16,
     "metadata": {},
     "output_type": "execute_result"
    }
   ],
   "source": [
    "df=df.drop(['x_coord','y_coord', 'z_coord'],axis=1)\n",
    "df.head(10)"
   ]
  },
  {
   "cell_type": "code",
   "execution_count": 17,
   "metadata": {},
   "outputs": [
    {
     "data": {
      "text/html": [
       "<div>\n",
       "<style scoped>\n",
       "    .dataframe tbody tr th:only-of-type {\n",
       "        vertical-align: middle;\n",
       "    }\n",
       "\n",
       "    .dataframe tbody tr th {\n",
       "        vertical-align: top;\n",
       "    }\n",
       "\n",
       "    .dataframe thead th {\n",
       "        text-align: right;\n",
       "    }\n",
       "</style>\n",
       "<table border=\"1\" class=\"dataframe\">\n",
       "  <thead>\n",
       "    <tr style=\"text-align: right;\">\n",
       "      <th></th>\n",
       "      <th>atom_name</th>\n",
       "      <th>residue_name</th>\n",
       "      <th>chain_id</th>\n",
       "      <th>residue_number</th>\n",
       "      <th>b_factor</th>\n",
       "      <th>element_symbol</th>\n",
       "      <th>x_ca</th>\n",
       "      <th>y_ca</th>\n",
       "      <th>z_ca</th>\n",
       "    </tr>\n",
       "  </thead>\n",
       "  <tbody>\n",
       "    <tr>\n",
       "      <th>0</th>\n",
       "      <td>N</td>\n",
       "      <td>ALA</td>\n",
       "      <td>1</td>\n",
       "      <td>1</td>\n",
       "      <td>0.0</td>\n",
       "      <td>N</td>\n",
       "      <td>1.965435</td>\n",
       "      <td>0.27522</td>\n",
       "      <td>1.959391</td>\n",
       "    </tr>\n",
       "    <tr>\n",
       "      <th>1</th>\n",
       "      <td>CA</td>\n",
       "      <td>ALA</td>\n",
       "      <td>1</td>\n",
       "      <td>1</td>\n",
       "      <td>0.0</td>\n",
       "      <td>C</td>\n",
       "      <td>1.965435</td>\n",
       "      <td>0.27522</td>\n",
       "      <td>1.959391</td>\n",
       "    </tr>\n",
       "    <tr>\n",
       "      <th>2</th>\n",
       "      <td>C</td>\n",
       "      <td>ALA</td>\n",
       "      <td>1</td>\n",
       "      <td>1</td>\n",
       "      <td>0.0</td>\n",
       "      <td>C</td>\n",
       "      <td>1.965435</td>\n",
       "      <td>0.27522</td>\n",
       "      <td>1.959391</td>\n",
       "    </tr>\n",
       "    <tr>\n",
       "      <th>3</th>\n",
       "      <td>O</td>\n",
       "      <td>ALA</td>\n",
       "      <td>1</td>\n",
       "      <td>1</td>\n",
       "      <td>0.0</td>\n",
       "      <td>O</td>\n",
       "      <td>1.965435</td>\n",
       "      <td>0.27522</td>\n",
       "      <td>1.959391</td>\n",
       "    </tr>\n",
       "    <tr>\n",
       "      <th>4</th>\n",
       "      <td>CB</td>\n",
       "      <td>ALA</td>\n",
       "      <td>1</td>\n",
       "      <td>1</td>\n",
       "      <td>0.0</td>\n",
       "      <td>C</td>\n",
       "      <td>1.965435</td>\n",
       "      <td>0.27522</td>\n",
       "      <td>1.959391</td>\n",
       "    </tr>\n",
       "  </tbody>\n",
       "</table>\n",
       "</div>"
      ],
      "text/plain": [
       "  atom_name residue_name chain_id residue_number  b_factor element_symbol  \\\n",
       "0         N          ALA        1              1       0.0              N   \n",
       "1        CA          ALA        1              1       0.0              C   \n",
       "2         C          ALA        1              1       0.0              C   \n",
       "3         O          ALA        1              1       0.0              O   \n",
       "4        CB          ALA        1              1       0.0              C   \n",
       "\n",
       "       x_ca     y_ca      z_ca  \n",
       "0  1.965435  0.27522  1.959391  \n",
       "1  1.965435  0.27522  1.959391  \n",
       "2  1.965435  0.27522  1.959391  \n",
       "3  1.965435  0.27522  1.959391  \n",
       "4  1.965435  0.27522  1.959391  "
      ]
     },
     "execution_count": 17,
     "metadata": {},
     "output_type": "execute_result"
    }
   ],
   "source": [
    "df=df.drop(['atom_number'],axis=1)\n",
    "df.head()"
   ]
  },
  {
   "cell_type": "code",
   "execution_count": 30,
   "metadata": {},
   "outputs": [],
   "source": [
    "df1, d, nas, mapper = proc_df(df, 'b_factor', do_scale=True)"
   ]
  },
  {
   "cell_type": "code",
   "execution_count": 31,
   "metadata": {},
   "outputs": [],
   "source": [
    "# train_ratio = 0.75\n",
    "train_ratio = 0.9\n",
    "train_size = int(len(df1) * train_ratio); train_size\n",
    "val_idx = list(range(train_size, len(df1)))"
   ]
  },
  {
   "cell_type": "code",
   "execution_count": 32,
   "metadata": {},
   "outputs": [],
   "source": [
    "md = ColumnarModelData.from_data_frame(PATH, val_idx, df1, y.astype(np.float32), cat_flds=cat_vars, bs=64)"
   ]
  },
  {
   "cell_type": "code",
   "execution_count": 33,
   "metadata": {},
   "outputs": [],
   "source": [
    "cat_sz = [(c, len(df[c].cat.categories)+1) for c in cat_vars]"
   ]
  },
  {
   "cell_type": "code",
   "execution_count": 34,
   "metadata": {},
   "outputs": [
    {
     "data": {
      "text/plain": [
       "[('atom_name', 83),\n",
       " ('residue_name', 21),\n",
       " ('chain_id', 270),\n",
       " ('residue_number', 558),\n",
       " ('element_symbol', 6)]"
      ]
     },
     "execution_count": 34,
     "metadata": {},
     "output_type": "execute_result"
    }
   ],
   "source": [
    "cat_sz"
   ]
  },
  {
   "cell_type": "code",
   "execution_count": 35,
   "metadata": {},
   "outputs": [],
   "source": [
    "emb_szs = [(c, min(50, (c+1)//2)) for _,c in cat_sz]"
   ]
  },
  {
   "cell_type": "code",
   "execution_count": 36,
   "metadata": {},
   "outputs": [
    {
     "data": {
      "text/plain": [
       "4"
      ]
     },
     "execution_count": 36,
     "metadata": {},
     "output_type": "execute_result"
    }
   ],
   "source": [
    "len(df.columns)-len(cat_vars)"
   ]
  },
  {
   "cell_type": "code",
   "execution_count": 29,
   "metadata": {},
   "outputs": [],
   "source": [
    "class MixedInputModel(nn.Module):\n",
    "    def __init__(self, emb_szs, n_cont, emb_drop, out_sz, szs, drops,\n",
    "                 y_range=None, use_bn=False, is_reg=True, is_multi=False):\n",
    "        super().__init__()\n",
    "        self.embs = nn.ModuleList([nn.Embedding(c, s) for c,s in emb_szs])\n",
    "        for emb in self.embs: emb_init(emb)\n",
    "        n_emb = sum(e.embedding_dim for e in self.embs)\n",
    "        self.n_emb, self.n_cont=n_emb, n_cont\n",
    "        \n",
    "        szs = [n_emb+n_cont] + szs\n",
    "        self.lins = nn.ModuleList([\n",
    "            nn.Linear(szs[i], szs[i+1]) for i in range(len(szs)-1)])\n",
    "        self.bns = nn.ModuleList([\n",
    "            nn.BatchNorm1d(sz) for sz in szs[1:]])\n",
    "        for o in self.lins: kaiming_normal(o.weight.data)\n",
    "        self.outp = nn.Linear(szs[-1], out_sz)\n",
    "        kaiming_normal(self.outp.weight.data)\n",
    "\n",
    "        self.emb_drop = nn.Dropout(emb_drop)\n",
    "        self.drops = nn.ModuleList([nn.Dropout(drop) for drop in drops])\n",
    "        self.bn = nn.BatchNorm1d(n_cont)\n",
    "        self.use_bn,self.y_range = use_bn,y_range\n",
    "        self.is_reg = is_reg\n",
    "        self.is_multi = is_multi\n",
    "\n",
    "    def forward(self, x_cat, x_cont):\n",
    "        x = [e(x_cat[:,i]) for i,e in enumerate(self.embs)]\n",
    "        x = torch.cat(x, 1)\n",
    "        x2 = self.bn(x_cont)\n",
    "        x = self.emb_drop(x)\n",
    "        x = torch.cat([x, x2], 1)\n",
    "        for l,d,b in zip(self.lins, self.drops, self.bns):\n",
    "            x = F.relu(l(x)+x)\n",
    "            if self.use_bn: x = b(x)\n",
    "            x = d(x)\n",
    "        x = self.outp(x)\n",
    "        if self.y_range:\n",
    "            x = F.sigmoid(x)\n",
    "            x = x*(self.y_range[1] - self.y_range[0])\n",
    "            x = x+self.y_range[0]\n",
    "        return x"
   ]
  },
  {
   "cell_type": "code",
   "execution_count": 30,
   "metadata": {},
   "outputs": [],
   "source": [
    "MixedInputModel??"
   ]
  },
  {
   "cell_type": "code",
   "execution_count": 37,
   "metadata": {},
   "outputs": [],
   "source": [
    "m = md.get_learner(emb_szs, 3,0.2, 3, [1000,500], [0.01,0.01],use_bn=True)"
   ]
  },
  {
   "cell_type": "code",
   "execution_count": 32,
   "metadata": {},
   "outputs": [
    {
     "ename": "ModuleNotFoundError",
     "evalue": "No module named '__main__.torch_core'; '__main__' is not a package",
     "output_type": "error",
     "traceback": [
      "\u001b[0;31m---------------------------------------------------------------------------\u001b[0m",
      "\u001b[0;31mModuleNotFoundError\u001b[0m                       Traceback (most recent call last)",
      "\u001b[0;32m<ipython-input-32-223a8ebb657a>\u001b[0m in \u001b[0;36m<module>\u001b[0;34m\u001b[0m\n\u001b[0;32m----> 1\u001b[0;31m \u001b[0;32mfrom\u001b[0m \u001b[0;34m.\u001b[0m\u001b[0mtorch_core\u001b[0m \u001b[0;32mimport\u001b[0m \u001b[0;34m*\u001b[0m\u001b[0;34m\u001b[0m\u001b[0m\n\u001b[0m",
      "\u001b[0;31mModuleNotFoundError\u001b[0m: No module named '__main__.torch_core'; '__main__' is not a package"
     ]
    }
   ],
   "source": [
    "from .torch_core import *"
   ]
  },
  {
   "cell_type": "code",
   "execution_count": 33,
   "metadata": {},
   "outputs": [
    {
     "ename": "NameError",
     "evalue": "name 'Tensor' is not defined",
     "output_type": "error",
     "traceback": [
      "\u001b[0;31m---------------------------------------------------------------------------\u001b[0m",
      "\u001b[0;31mNameError\u001b[0m                                 Traceback (most recent call last)",
      "\u001b[0;32m<ipython-input-33-e0a489c51796>\u001b[0m in \u001b[0;36m<module>\u001b[0;34m\u001b[0m\n\u001b[0;32m----> 1\u001b[0;31m \u001b[0;32mclass\u001b[0m \u001b[0mFlattendLoss\u001b[0m\u001b[0;34m(\u001b[0m\u001b[0;34m)\u001b[0m\u001b[0;34m:\u001b[0m\u001b[0;34m\u001b[0m\u001b[0m\n\u001b[0m\u001b[1;32m      2\u001b[0m     \u001b[0;32mdef\u001b[0m \u001b[0m__init__\u001b[0m\u001b[0;34m(\u001b[0m\u001b[0mself\u001b[0m\u001b[0;34m,\u001b[0m\u001b[0mfunc\u001b[0m\u001b[0;34m,\u001b[0m\u001b[0;34m*\u001b[0m\u001b[0margs\u001b[0m\u001b[0;34m,\u001b[0m\u001b[0maxis\u001b[0m\u001b[0;34m:\u001b[0m\u001b[0mint\u001b[0m\u001b[0;34m=\u001b[0m\u001b[0;34m-\u001b[0m\u001b[0;36m1\u001b[0m \u001b[0;34m,\u001b[0m\u001b[0mfloatify\u001b[0m\u001b[0;34m:\u001b[0m\u001b[0mbool\u001b[0m\u001b[0;34m=\u001b[0m\u001b[0;32mFalse\u001b[0m \u001b[0;34m,\u001b[0m \u001b[0mis_2d\u001b[0m\u001b[0;34m:\u001b[0m\u001b[0mbool\u001b[0m\u001b[0;34m=\u001b[0m\u001b[0;32mTrue\u001b[0m \u001b[0;34m,\u001b[0m\u001b[0;34m**\u001b[0m\u001b[0mkwargs\u001b[0m\u001b[0;34m)\u001b[0m\u001b[0;34m:\u001b[0m\u001b[0;34m\u001b[0m\u001b[0m\n\u001b[1;32m      3\u001b[0m         \u001b[0mself\u001b[0m\u001b[0;34m.\u001b[0m\u001b[0mfunc\u001b[0m\u001b[0;34m,\u001b[0m\u001b[0mself\u001b[0m\u001b[0;34m.\u001b[0m\u001b[0maxis\u001b[0m\u001b[0;34m,\u001b[0m\u001b[0mself\u001b[0m\u001b[0;34m.\u001b[0m\u001b[0mfloatify\u001b[0m\u001b[0;34m,\u001b[0m\u001b[0mself\u001b[0m\u001b[0;34m.\u001b[0m\u001b[0mis_2d\u001b[0m \u001b[0;34m=\u001b[0m \u001b[0mfunc\u001b[0m\u001b[0;34m(\u001b[0m\u001b[0;34m*\u001b[0m\u001b[0margs\u001b[0m\u001b[0;34m,\u001b[0m\u001b[0;34m**\u001b[0m\u001b[0mkwargs\u001b[0m\u001b[0;34m)\u001b[0m\u001b[0;34m,\u001b[0m\u001b[0maxis\u001b[0m\u001b[0;34m,\u001b[0m\u001b[0mfloatify\u001b[0m\u001b[0;34m,\u001b[0m\u001b[0mis_2d\u001b[0m\u001b[0;34m\u001b[0m\u001b[0m\n\u001b[1;32m      4\u001b[0m     \u001b[0;34m@\u001b[0m\u001b[0mproperty\u001b[0m\u001b[0;34m\u001b[0m\u001b[0m\n\u001b[1;32m      5\u001b[0m     \u001b[0;32mdef\u001b[0m \u001b[0mreduction\u001b[0m\u001b[0;34m(\u001b[0m\u001b[0mself\u001b[0m\u001b[0;34m)\u001b[0m\u001b[0;34m:\u001b[0m \u001b[0;32mreturn\u001b[0m \u001b[0mself\u001b[0m\u001b[0;34m.\u001b[0m\u001b[0mfunc\u001b[0m\u001b[0;34m.\u001b[0m\u001b[0mreduction\u001b[0m\u001b[0;34m\u001b[0m\u001b[0m\n",
      "\u001b[0;32m<ipython-input-33-e0a489c51796>\u001b[0m in \u001b[0;36mFlattendLoss\u001b[0;34m()\u001b[0m\n\u001b[1;32m      6\u001b[0m     \u001b[0;34m@\u001b[0m\u001b[0mreduction\u001b[0m\u001b[0;34m.\u001b[0m\u001b[0msetter\u001b[0m\u001b[0;34m\u001b[0m\u001b[0m\n\u001b[1;32m      7\u001b[0m     \u001b[0;32mdef\u001b[0m \u001b[0mreduction\u001b[0m\u001b[0;34m(\u001b[0m\u001b[0mself\u001b[0m\u001b[0;34m,\u001b[0m\u001b[0mv\u001b[0m\u001b[0;34m)\u001b[0m\u001b[0;34m:\u001b[0m \u001b[0mself\u001b[0m\u001b[0;34m.\u001b[0m\u001b[0mfunc\u001b[0m\u001b[0;34m.\u001b[0m\u001b[0mreduction\u001b[0m \u001b[0;34m=\u001b[0m \u001b[0mv\u001b[0m\u001b[0;34m\u001b[0m\u001b[0m\n\u001b[0;32m----> 8\u001b[0;31m     \u001b[0;32mdef\u001b[0m \u001b[0m__call__\u001b[0m\u001b[0;34m(\u001b[0m\u001b[0mself\u001b[0m\u001b[0;34m,\u001b[0m \u001b[0minput\u001b[0m\u001b[0;34m:\u001b[0m\u001b[0mTensor\u001b[0m \u001b[0;34m,\u001b[0m \u001b[0mtarget\u001b[0m\u001b[0;34m:\u001b[0m\u001b[0mTensor\u001b[0m \u001b[0;34m,\u001b[0m \u001b[0;34m**\u001b[0m\u001b[0mkwargs\u001b[0m\u001b[0;34m)\u001b[0m\u001b[0;34m->\u001b[0m\u001b[0mRank0Tensor\u001b[0m \u001b[0;34m:\u001b[0m\u001b[0;34m\u001b[0m\u001b[0m\n\u001b[0m\u001b[1;32m      9\u001b[0m         \u001b[0minput\u001b[0m\u001b[0;34m=\u001b[0m \u001b[0minput\u001b[0m\u001b[0;34m.\u001b[0m\u001b[0mtranspose\u001b[0m\u001b[0;34m(\u001b[0m\u001b[0mself\u001b[0m\u001b[0;34m.\u001b[0m\u001b[0maxis\u001b[0m\u001b[0;34m,\u001b[0m\u001b[0;34m-\u001b[0m\u001b[0;36m1\u001b[0m\u001b[0;34m)\u001b[0m\u001b[0;34m.\u001b[0m\u001b[0mcontiguose\u001b[0m\u001b[0;34m(\u001b[0m\u001b[0;34m)\u001b[0m\u001b[0;34m\u001b[0m\u001b[0m\n\u001b[1;32m     10\u001b[0m         \u001b[0mtarget\u001b[0m\u001b[0;34m=\u001b[0m \u001b[0mtarget\u001b[0m\u001b[0;34m.\u001b[0m\u001b[0mtranspose\u001b[0m\u001b[0;34m(\u001b[0m\u001b[0mself\u001b[0m\u001b[0;34m.\u001b[0m\u001b[0maxis\u001b[0m\u001b[0;34m,\u001b[0m\u001b[0;34m-\u001b[0m\u001b[0;36m1\u001b[0m\u001b[0;34m)\u001b[0m\u001b[0;34m.\u001b[0m\u001b[0mcontiguose\u001b[0m\u001b[0;34m(\u001b[0m\u001b[0;34m)\u001b[0m\u001b[0;34m\u001b[0m\u001b[0m\n",
      "\u001b[0;31mNameError\u001b[0m: name 'Tensor' is not defined"
     ]
    }
   ],
   "source": [
    "class FlattendLoss():\n",
    "    def __init__(self,func,*args,axis:int=-1 ,floatify:bool=False , is_2d:bool=True ,**kwargs):\n",
    "        self.func,self.axis,self.floatify,self.is_2d = func(*args,**kwargs),axis,floatify,is_2d\n",
    "    @property\n",
    "    def reduction(self): return self.func.reduction\n",
    "    @reduction.setter\n",
    "    def reduction(self,v): self.func.reduction = v \n",
    "    def __call__(self, input:Tensor , target:Tensor , **kwargs)->Rank0Tensor :\n",
    "        input= input.transpose(self.axis,-1).contiguose()\n",
    "        target= target.transpose(self.axis,-1).contiguose()\n",
    "        if self.floatify: target = target.float()\n",
    "        input = input.view(-1,input.shape[-1]) if self.is_2d else input.view(-1)\n",
    "        return self.func.__call__(input,target.view(-1),**kwargs)\n",
    "    "
   ]
  },
  {
   "cell_type": "code",
   "execution_count": 46,
   "metadata": {},
   "outputs": [
    {
     "ename": "ModuleNotFoundError",
     "evalue": "No module named 'F'",
     "output_type": "error",
     "traceback": [
      "\u001b[0;31m---------------------------------------------------------------------------\u001b[0m",
      "\u001b[0;31mModuleNotFoundError\u001b[0m                       Traceback (most recent call last)",
      "\u001b[0;32m<ipython-input-46-fa15dbfceff6>\u001b[0m in \u001b[0;36m<module>\u001b[0;34m\u001b[0m\n\u001b[0;32m----> 1\u001b[0;31m \u001b[0;32mfrom\u001b[0m \u001b[0mF\u001b[0m \u001b[0;32mimport\u001b[0m \u001b[0m_pointwise_loss\u001b[0m\u001b[0;34m\u001b[0m\u001b[0m\n\u001b[0m",
      "\u001b[0;31mModuleNotFoundError\u001b[0m: No module named 'F'"
     ]
    }
   ],
   "source": []
  },
  {
   "cell_type": "code",
   "execution_count": 38,
   "metadata": {},
   "outputs": [],
   "source": [
    "def mse_los(input, target, size_average=True, reduce=True):\n",
    "    input = input.view(-1)\n",
    "    target = target.view(-1)\n",
    "    return F._pointwise_loss(lambda a, b: (a - b) ** 2, torch._C._nn.mse_loss,\n",
    "                           input, target, size_average, reduce)"
   ]
  },
  {
   "cell_type": "code",
   "execution_count": 39,
   "metadata": {},
   "outputs": [],
   "source": [
    "m.crit = mse_los"
   ]
  },
  {
   "cell_type": "code",
   "execution_count": 29,
   "metadata": {},
   "outputs": [
    {
     "data": {
      "application/vnd.jupyter.widget-view+json": {
       "model_id": "b9303bca068849fdac05ca80711a5e3b",
       "version_major": 2,
       "version_minor": 0
      },
      "text/plain": [
       "HBox(children=(IntProgress(value=0, description='Epoch', max=1, style=ProgressStyle(description_width='initial…"
      ]
     },
     "metadata": {},
     "output_type": "display_data"
    },
    {
     "name": "stdout",
     "output_type": "stream",
     "text": [
      " 60%|██████    | 2969/4922 [00:22<00:15, 128.47it/s, loss=4.96] "
     ]
    }
   ],
   "source": [
    "m.lr_find()"
   ]
  },
  {
   "cell_type": "code",
   "execution_count": 30,
   "metadata": {},
   "outputs": [
    {
     "data": {
      "image/png": "[encoded data removed]",
      "text/plain": [
       "<Figure size 432x288 with 1 Axes>"
      ]
     },
     "metadata": {
      "needs_background": "light"
     },
     "output_type": "display_data"
    }
   ],
   "source": [
    "m.sched.plot(100)"
   ]
  },
  {
   "cell_type": "code",
   "execution_count": 42,
   "metadata": {},
   "outputs": [],
   "source": [
    "lr = 1e-3\n",
    "wd = 0"
   ]
  },
  {
   "cell_type": "code",
   "execution_count": 43,
   "metadata": {},
   "outputs": [
    {
     "data": {
      "application/vnd.jupyter.widget-view+json": {
       "model_id": "1b97fd5fd8d543ce817ed007ab521ea3",
       "version_major": 2,
       "version_minor": 0
      },
      "text/plain": [
       "HBox(children=(IntProgress(value=0, description='Epoch', max=20, style=ProgressStyle(description_width='initia…"
      ]
     },
     "metadata": {},
     "output_type": "display_data"
    },
    {
     "name": "stdout",
     "output_type": "stream",
     "text": [
      "epoch      trn_loss   val_loss                                   \n",
      "    0      0.083897   0.062493  \n",
      "    1      0.075734   0.064776                                   \n",
      "    2      0.069279   0.060564                                   \n",
      "    3      0.065036   0.059572                                   \n",
      "    4      0.081591   0.097936                                   \n",
      "    5      0.073078   0.098966                                   \n",
      "    6      0.065846   0.096995                                   \n",
      "    7      0.06304    0.095323                                   \n",
      "    8      0.076598   0.137286                                   \n",
      "    9      0.070893   0.137684                                   \n",
      "    10     0.063886   0.136735                                   \n",
      "    11     0.062086   0.134371                                   \n",
      "    12     0.07824    0.174662                                   \n",
      "    13     0.069252   0.177988                                   \n",
      "    14     0.062183   0.171506                                   \n",
      "    15     0.060041   0.171328                                   \n",
      "    16     0.073977   0.208876                                   \n",
      "    17     0.067643   0.207193                                   \n",
      "    18     0.059749   0.201215                                   \n",
      "    19     0.057516   0.201823                                   \n",
      "\n"
     ]
    },
    {
     "data": {
      "text/plain": [
       "[array([0.20182])]"
      ]
     },
     "execution_count": 43,
     "metadata": {},
     "output_type": "execute_result"
    }
   ],
   "source": [
    "m.fit(lr, 5, wds=wd, cycle_len=4)"
   ]
  },
  {
   "cell_type": "code",
   "execution_count": 33,
   "metadata": {},
   "outputs": [],
   "source": [
    "m.save('m_norm_flat')"
   ]
  },
  {
   "cell_type": "code",
   "execution_count": 40,
   "metadata": {},
   "outputs": [],
   "source": [
    "m.load('m_norm_flat')"
   ]
  },
  {
   "cell_type": "code",
   "execution_count": 87,
   "metadata": {},
   "outputs": [],
   "source": [
    "m.save('m_ca_best')"
   ]
  },
  {
   "cell_type": "code",
   "execution_count": 38,
   "metadata": {},
   "outputs": [
    {
     "ename": "RuntimeError",
     "evalue": "While copying the parameter named embs.2.weight, whose dimensions in the model are torch.Size([270, 50]) and whose dimensions in the checkpoint are torch.Size([275, 50]).",
     "output_type": "error",
     "traceback": [
      "\u001b[0;31m---------------------------------------------------------------------------\u001b[0m",
      "\u001b[0;31mRuntimeError\u001b[0m                              Traceback (most recent call last)",
      "\u001b[0;32m~/anaconda3/envs/fastai/lib/python3.6/site-packages/torch/nn/modules/module.py\u001b[0m in \u001b[0;36mload_state_dict\u001b[0;34m(self, state_dict, strict)\u001b[0m\n\u001b[1;32m    513\u001b[0m                 \u001b[0;32mtry\u001b[0m\u001b[0;34m:\u001b[0m\u001b[0;34m\u001b[0m\u001b[0m\n\u001b[0;32m--> 514\u001b[0;31m                     \u001b[0mown_state\u001b[0m\u001b[0;34m[\u001b[0m\u001b[0mname\u001b[0m\u001b[0;34m]\u001b[0m\u001b[0;34m.\u001b[0m\u001b[0mcopy_\u001b[0m\u001b[0;34m(\u001b[0m\u001b[0mparam\u001b[0m\u001b[0;34m)\u001b[0m\u001b[0;34m\u001b[0m\u001b[0m\n\u001b[0m\u001b[1;32m    515\u001b[0m                 \u001b[0;32mexcept\u001b[0m \u001b[0mException\u001b[0m\u001b[0;34m:\u001b[0m\u001b[0;34m\u001b[0m\u001b[0m\n",
      "\u001b[0;31mRuntimeError\u001b[0m: invalid argument 2: sizes do not match at /pytorch/torch/lib/THC/generic/THCTensorCopy.c:51",
      "\nDuring handling of the above exception, another exception occurred:\n",
      "\u001b[0;31mRuntimeError\u001b[0m                              Traceback (most recent call last)",
      "\u001b[0;32m<ipython-input-38-712064b9c5c4>\u001b[0m in \u001b[0;36m<module>\u001b[0;34m\u001b[0m\n\u001b[0;32m----> 1\u001b[0;31m \u001b[0mm\u001b[0m\u001b[0;34m.\u001b[0m\u001b[0mload\u001b[0m\u001b[0;34m(\u001b[0m\u001b[0;34m'm_ca_best'\u001b[0m\u001b[0;34m)\u001b[0m\u001b[0;34m\u001b[0m\u001b[0m\n\u001b[0m",
      "\u001b[0;32m~/anaconda3/envs/fastai/lib/python3.6/site-packages/fastai/learner.py\u001b[0m in \u001b[0;36mload\u001b[0;34m(self, name)\u001b[0m\n\u001b[1;32m     94\u001b[0m \u001b[0;34m\u001b[0m\u001b[0m\n\u001b[1;32m     95\u001b[0m     \u001b[0;32mdef\u001b[0m \u001b[0mload\u001b[0m\u001b[0;34m(\u001b[0m\u001b[0mself\u001b[0m\u001b[0;34m,\u001b[0m \u001b[0mname\u001b[0m\u001b[0;34m)\u001b[0m\u001b[0;34m:\u001b[0m\u001b[0;34m\u001b[0m\u001b[0m\n\u001b[0;32m---> 96\u001b[0;31m         \u001b[0mload_model\u001b[0m\u001b[0;34m(\u001b[0m\u001b[0mself\u001b[0m\u001b[0;34m.\u001b[0m\u001b[0mmodel\u001b[0m\u001b[0;34m,\u001b[0m \u001b[0mself\u001b[0m\u001b[0;34m.\u001b[0m\u001b[0mget_model_path\u001b[0m\u001b[0;34m(\u001b[0m\u001b[0mname\u001b[0m\u001b[0;34m)\u001b[0m\u001b[0;34m)\u001b[0m\u001b[0;34m\u001b[0m\u001b[0m\n\u001b[0m\u001b[1;32m     97\u001b[0m         \u001b[0;32mif\u001b[0m \u001b[0mhasattr\u001b[0m\u001b[0;34m(\u001b[0m\u001b[0mself\u001b[0m\u001b[0;34m,\u001b[0m \u001b[0;34m'swa_model'\u001b[0m\u001b[0;34m)\u001b[0m\u001b[0;34m:\u001b[0m \u001b[0mload_model\u001b[0m\u001b[0;34m(\u001b[0m\u001b[0mself\u001b[0m\u001b[0;34m.\u001b[0m\u001b[0mswa_model\u001b[0m\u001b[0;34m,\u001b[0m \u001b[0mself\u001b[0m\u001b[0;34m.\u001b[0m\u001b[0mget_model_path\u001b[0m\u001b[0;34m(\u001b[0m\u001b[0mname\u001b[0m\u001b[0;34m)\u001b[0m\u001b[0;34m[\u001b[0m\u001b[0;34m:\u001b[0m\u001b[0;34m-\u001b[0m\u001b[0;36m3\u001b[0m\u001b[0;34m]\u001b[0m\u001b[0;34m+\u001b[0m\u001b[0;34m'-swa.h5'\u001b[0m\u001b[0;34m)\u001b[0m\u001b[0;34m\u001b[0m\u001b[0m\n\u001b[1;32m     98\u001b[0m \u001b[0;34m\u001b[0m\u001b[0m\n",
      "\u001b[0;32m~/anaconda3/envs/fastai/lib/python3.6/site-packages/fastai/torch_imports.py\u001b[0m in \u001b[0;36mload_model\u001b[0;34m(m, p)\u001b[0m\n\u001b[1;32m     25\u001b[0m \u001b[0;32mdef\u001b[0m \u001b[0mchildren\u001b[0m\u001b[0;34m(\u001b[0m\u001b[0mm\u001b[0m\u001b[0;34m)\u001b[0m\u001b[0;34m:\u001b[0m \u001b[0;32mreturn\u001b[0m \u001b[0mm\u001b[0m \u001b[0;32mif\u001b[0m \u001b[0misinstance\u001b[0m\u001b[0;34m(\u001b[0m\u001b[0mm\u001b[0m\u001b[0;34m,\u001b[0m \u001b[0;34m(\u001b[0m\u001b[0mlist\u001b[0m\u001b[0;34m,\u001b[0m \u001b[0mtuple\u001b[0m\u001b[0;34m)\u001b[0m\u001b[0;34m)\u001b[0m \u001b[0;32melse\u001b[0m \u001b[0mlist\u001b[0m\u001b[0;34m(\u001b[0m\u001b[0mm\u001b[0m\u001b[0;34m.\u001b[0m\u001b[0mchildren\u001b[0m\u001b[0;34m(\u001b[0m\u001b[0;34m)\u001b[0m\u001b[0;34m)\u001b[0m\u001b[0;34m\u001b[0m\u001b[0m\n\u001b[1;32m     26\u001b[0m \u001b[0;32mdef\u001b[0m \u001b[0msave_model\u001b[0m\u001b[0;34m(\u001b[0m\u001b[0mm\u001b[0m\u001b[0;34m,\u001b[0m \u001b[0mp\u001b[0m\u001b[0;34m)\u001b[0m\u001b[0;34m:\u001b[0m \u001b[0mtorch\u001b[0m\u001b[0;34m.\u001b[0m\u001b[0msave\u001b[0m\u001b[0;34m(\u001b[0m\u001b[0mm\u001b[0m\u001b[0;34m.\u001b[0m\u001b[0mstate_dict\u001b[0m\u001b[0;34m(\u001b[0m\u001b[0;34m)\u001b[0m\u001b[0;34m,\u001b[0m \u001b[0mp\u001b[0m\u001b[0;34m)\u001b[0m\u001b[0;34m\u001b[0m\u001b[0m\n\u001b[0;32m---> 27\u001b[0;31m \u001b[0;32mdef\u001b[0m \u001b[0mload_model\u001b[0m\u001b[0;34m(\u001b[0m\u001b[0mm\u001b[0m\u001b[0;34m,\u001b[0m \u001b[0mp\u001b[0m\u001b[0;34m)\u001b[0m\u001b[0;34m:\u001b[0m \u001b[0mm\u001b[0m\u001b[0;34m.\u001b[0m\u001b[0mload_state_dict\u001b[0m\u001b[0;34m(\u001b[0m\u001b[0mtorch\u001b[0m\u001b[0;34m.\u001b[0m\u001b[0mload\u001b[0m\u001b[0;34m(\u001b[0m\u001b[0mp\u001b[0m\u001b[0;34m,\u001b[0m \u001b[0mmap_location\u001b[0m\u001b[0;34m=\u001b[0m\u001b[0;32mlambda\u001b[0m \u001b[0mstorage\u001b[0m\u001b[0;34m,\u001b[0m \u001b[0mloc\u001b[0m\u001b[0;34m:\u001b[0m \u001b[0mstorage\u001b[0m\u001b[0;34m)\u001b[0m\u001b[0;34m)\u001b[0m\u001b[0;34m\u001b[0m\u001b[0m\n\u001b[0m\u001b[1;32m     28\u001b[0m \u001b[0;34m\u001b[0m\u001b[0m\n\u001b[1;32m     29\u001b[0m \u001b[0;32mdef\u001b[0m \u001b[0mload_pre\u001b[0m\u001b[0;34m(\u001b[0m\u001b[0mpre\u001b[0m\u001b[0;34m,\u001b[0m \u001b[0mf\u001b[0m\u001b[0;34m,\u001b[0m \u001b[0mfn\u001b[0m\u001b[0;34m)\u001b[0m\u001b[0;34m:\u001b[0m\u001b[0;34m\u001b[0m\u001b[0m\n",
      "\u001b[0;32m~/anaconda3/envs/fastai/lib/python3.6/site-packages/torch/nn/modules/module.py\u001b[0m in \u001b[0;36mload_state_dict\u001b[0;34m(self, state_dict, strict)\u001b[0m\n\u001b[1;32m    517\u001b[0m                                        \u001b[0;34m'whose dimensions in the model are {} and '\u001b[0m\u001b[0;34m\u001b[0m\u001b[0m\n\u001b[1;32m    518\u001b[0m                                        \u001b[0;34m'whose dimensions in the checkpoint are {}.'\u001b[0m\u001b[0;34m\u001b[0m\u001b[0m\n\u001b[0;32m--> 519\u001b[0;31m                                        .format(name, own_state[name].size(), param.size()))\n\u001b[0m\u001b[1;32m    520\u001b[0m             \u001b[0;32melif\u001b[0m \u001b[0mstrict\u001b[0m\u001b[0;34m:\u001b[0m\u001b[0;34m\u001b[0m\u001b[0m\n\u001b[1;32m    521\u001b[0m                 raise KeyError('unexpected key \"{}\" in state_dict'\n",
      "\u001b[0;31mRuntimeError\u001b[0m: While copying the parameter named embs.2.weight, whose dimensions in the model are torch.Size([270, 50]) and whose dimensions in the checkpoint are torch.Size([275, 50])."
     ]
    },
    {
     "name": "stdout",
     "output_type": "stream",
     "text": [
      "\r",
      " 61%|██████    | 3006/4922 [00:40<00:12, 155.40it/s, loss=128]"
     ]
    }
   ],
   "source": [
    "m.load('m_ca_best')"
   ]
  },
  {
   "cell_type": "code",
   "execution_count": 191,
   "metadata": {},
   "outputs": [
    {
     "data": {
      "text/plain": [
       "MixedInputModel(\n",
       "  (embs): ModuleList(\n",
       "    (0): Embedding(83, 42)\n",
       "    (1): Embedding(21, 11)\n",
       "    (2): Embedding(270, 50)\n",
       "    (3): Embedding(558, 50)\n",
       "    (4): Embedding(6, 3)\n",
       "  )\n",
       "  (lins): ModuleList(\n",
       "    (0): Linear(in_features=159, out_features=1000, bias=True)\n",
       "    (1): Linear(in_features=1000, out_features=500, bias=True)\n",
       "  )\n",
       "  (bns): ModuleList(\n",
       "    (0): BatchNorm1d(1000, eps=1e-05, momentum=0.1, affine=True)\n",
       "    (1): BatchNorm1d(500, eps=1e-05, momentum=0.1, affine=True)\n",
       "  )\n",
       "  (outp): Linear(in_features=500, out_features=3, bias=True)\n",
       "  (emb_drop): Dropout(p=0.2)\n",
       "  (drops): ModuleList(\n",
       "    (0): Dropout(p=0.01)\n",
       "    (1): Dropout(p=0.01)\n",
       "  )\n",
       "  (bn): BatchNorm1d(3, eps=1e-05, momentum=0.1, affine=True)\n",
       ")"
      ]
     },
     "execution_count": 191,
     "metadata": {},
     "output_type": "execute_result"
    }
   ],
   "source": [
    "e = m.model\n",
    "e.eval()"
   ]
  },
  {
   "cell_type": "code",
   "execution_count": 44,
   "metadata": {},
   "outputs": [],
   "source": [
    "x,y = m.predict_with_targs()"
   ]
  },
  {
   "cell_type": "code",
   "execution_count": 45,
   "metadata": {},
   "outputs": [
    {
     "data": {
      "text/plain": [
       "array([[ 1.21484,  1.25817,  0.09745],\n",
       "       [ 1.20372,  1.23972,  0.11013],\n",
       "       [ 1.20713,  1.21077,  0.12782],\n",
       "       [ 1.22302,  1.25836,  0.11927],\n",
       "       [ 1.1761 ,  1.15885,  0.14238],\n",
       "       [ 1.1992 ,  1.22346,  0.15799],\n",
       "       [ 1.01053,  1.27045, -0.11865],\n",
       "       [ 1.03868,  1.25156, -0.09031],\n",
       "       [ 0.94019,  1.28865, -0.13373],\n",
       "       [ 0.95001,  1.27376, -0.13667],\n",
       "       [ 1.00504,  1.28069, -0.14066],\n",
       "       [ 1.10543,  1.29517, -0.14897],\n",
       "       [ 1.1737 ,  1.34271, -0.19474],\n",
       "       [ 1.13565,  1.39912, -0.21664],\n",
       "       [ 1.132  ,  1.44519, -0.22761],\n",
       "       [ 0.88716,  1.35142,  0.08628],\n",
       "       [ 0.95911,  1.3472 ,  0.16632],\n",
       "       [ 0.98134,  1.33662,  0.18303],\n",
       "       [ 0.97564,  1.32442,  0.21495],\n",
       "       [ 0.96651,  1.35808,  0.16214],\n",
       "       ...,\n",
       "       [-1.1141 , -0.72   , -0.15422],\n",
       "       [-1.14473, -0.75769, -0.18907],\n",
       "       [-1.09498, -0.79884, -0.24147],\n",
       "       [-1.13642, -0.89409, -0.38482],\n",
       "       [-0.88127, -0.49243, -0.60213],\n",
       "       [-0.92204, -0.4653 , -0.59954],\n",
       "       [-0.90404, -0.44361, -0.64435],\n",
       "       [-0.86198, -0.532  , -0.62478],\n",
       "       [-0.99459, -0.43318, -0.56279],\n",
       "       [-1.16647, -0.43017, -0.47319],\n",
       "       [-1.16671, -0.37982, -0.41191],\n",
       "       [-1.30883, -0.33829, -0.41127],\n",
       "       [-1.03395, -0.70081, -0.80701],\n",
       "       [-0.998  , -0.65682, -0.84939],\n",
       "       [-0.94364, -0.59915, -0.84343],\n",
       "       [-0.97498, -0.55712, -0.84429],\n",
       "       [-1.10529, -0.74411, -0.86707],\n",
       "       [-1.21434, -0.82355, -0.89597],\n",
       "       [-1.16464, -0.63203, -0.9335 ],\n",
       "       [-1.23699, -0.72975, -0.89179]], dtype=float32)"
      ]
     },
     "execution_count": 45,
     "metadata": {},
     "output_type": "execute_result"
    }
   ],
   "source": [
    "x"
   ]
  },
  {
   "cell_type": "code",
   "execution_count": 46,
   "metadata": {},
   "outputs": [
    {
     "data": {
      "text/plain": [
       "(35000, 1, 3)"
      ]
     },
     "execution_count": 46,
     "metadata": {},
     "output_type": "execute_result"
    }
   ],
   "source": [
    "y.shape"
   ]
  },
  {
   "cell_type": "code",
   "execution_count": 47,
   "metadata": {},
   "outputs": [],
   "source": [
    "y=y.reshape(35000,3)"
   ]
  },
  {
   "cell_type": "code",
   "execution_count": 48,
   "metadata": {},
   "outputs": [
    {
     "data": {
      "text/plain": [
       "array([[ 1.04989,  1.08441,  0.04691],\n",
       "       [ 1.07579,  1.03179,  0.10127],\n",
       "       [ 0.99628,  0.97699, -0.06202],\n",
       "       [ 1.03011,  0.87156, -0.08994],\n",
       "       [ 1.02405,  0.75607, -0.02966],\n",
       "       [ 1.02533,  0.83499, -0.18858],\n",
       "       [ 1.0622 ,  1.18623, -0.00032],\n",
       "       [ 1.10764,  1.24407,  0.01058],\n",
       "       [ 1.11549,  1.28671,  0.10766],\n",
       "       [ 1.15228,  1.26335,  0.14568],\n",
       "       [ 1.11379,  1.35671, -0.05327],\n",
       "       [ 1.16117,  1.41959, -0.0456 ],\n",
       "       [ 1.16854,  1.52426, -0.1143 ],\n",
       "       [ 1.13461,  1.56263, -0.1585 ],\n",
       "       [ 1.20841,  1.56814, -0.12426],\n",
       "       [ 1.08101,  1.34845,  0.14783],\n",
       "       [ 1.08509,  1.39195,  0.24068],\n",
       "       [ 1.09356,  1.28253,  0.30608],\n",
       "       [ 1.12296,  1.29175,  0.36583],\n",
       "       [ 1.04176,  1.46565,  0.26907],\n",
       "       ...,\n",
       "       [-0.96923, -0.7542 , -0.49805],\n",
       "       [-1.08528, -0.835  , -0.60498],\n",
       "       [-1.20433, -0.72192, -0.64948],\n",
       "       [-1.32298, -0.77139, -0.67603],\n",
       "       [-1.17265, -0.5695 , -0.65724],\n",
       "       [-1.27861, -0.45007, -0.69811],\n",
       "       [-1.3182 , -0.43735, -0.95146],\n",
       "       [-1.23373, -0.46844, -1.10357],\n",
       "       [-1.22875, -0.28823, -0.61774],\n",
       "       [-1.34292, -0.16384, -0.63223],\n",
       "       [-1.45408, -0.20342, -0.45425],\n",
       "       [-1.28433, -0.00071, -0.59222],\n",
       "       [-1.44733, -0.39047, -0.99405],\n",
       "       [-1.49865, -0.3695 , -1.22808],\n",
       "       [-1.56203, -0.20578, -1.25206],\n",
       "       [-1.50468, -0.10307, -1.36933],\n",
       "       [-1.60628, -0.49553, -1.2862 ],\n",
       "       [-1.65916, -0.48646, -1.52834],\n",
       "       [-1.7617 , -0.38293, -1.59508],\n",
       "       [-1.62353, -0.56774, -1.72029]], dtype=float32)"
      ]
     },
     "execution_count": 48,
     "metadata": {},
     "output_type": "execute_result"
    }
   ],
   "source": [
    "y"
   ]
  },
  {
   "cell_type": "code",
   "execution_count": 197,
   "metadata": {},
   "outputs": [],
   "source": [
    "distance = y-x"
   ]
  },
  {
   "cell_type": "code",
   "execution_count": 198,
   "metadata": {},
   "outputs": [],
   "source": [
    "distance_abs = abs(distance)"
   ]
  },
  {
   "cell_type": "code",
   "execution_count": 199,
   "metadata": {},
   "outputs": [
    {
     "data": {
      "text/plain": [
       "0.21051328"
      ]
     },
     "execution_count": 199,
     "metadata": {},
     "output_type": "execute_result"
    }
   ],
   "source": [
    "distance_abs.mean()"
   ]
  },
  {
   "cell_type": "code",
   "execution_count": 170,
   "metadata": {},
   "outputs": [
    {
     "name": "stderr",
     "output_type": "stream",
     "text": [
      "/home/b/anaconda3/envs/fastai/lib/python3.6/site-packages/scipy/stats/stats.py:1713: FutureWarning: Using a non-tuple sequence for multidimensional indexing is deprecated; use `arr[tuple(seq)]` instead of `arr[seq]`. In the future this will be interpreted as an array index, `arr[np.array(seq)]`, which will result either in an error or a different result.\n",
      "  return np.add.reduce(sorted[indexer] * weights, axis=axis) / sumval\n"
     ]
    },
    {
     "data": {
      "image/png": "[encoded data removed]",
      "text/plain": [
       "<Figure size 1080x360 with 1 Axes>"
      ]
     },
     "metadata": {
      "needs_background": "light"
     },
     "output_type": "display_data"
    }
   ],
   "source": [
    "plt.figure(figsize=(15,5))\n",
    "sns.distplot(abs(y[:,0]-x[:,0]), bins=120, color=\"r\")\n",
    "sns.distplot(x[:,0], bins=120, color=\"b\")\n",
    "plt.xlabel('x_coord', fontsize=14);\n",
    "plt.title(\"Distribution of x_coord\", fontsize=14);\n",
    "plt.show();"
   ]
  },
  {
   "cell_type": "code",
   "execution_count": 49,
   "metadata": {},
   "outputs": [
    {
     "name": "stderr",
     "output_type": "stream",
     "text": [
      "/home/b/anaconda3/envs/fastai/lib/python3.6/site-packages/scipy/stats/stats.py:1713: FutureWarning: Using a non-tuple sequence for multidimensional indexing is deprecated; use `arr[tuple(seq)]` instead of `arr[seq]`. In the future this will be interpreted as an array index, `arr[np.array(seq)]`, which will result either in an error or a different result.\n",
      "  return np.add.reduce(sorted[indexer] * weights, axis=axis) / sumval\n"
     ]
    },
    {
     "data": {
      "image/png": "[encoded data removed]",
      "text/plain": [
       "<Figure size 1080x360 with 1 Axes>"
      ]
     },
     "metadata": {
      "needs_background": "light"
     },
     "output_type": "display_data"
    }
   ],
   "source": [
    "plt.figure(figsize=(15,5))\n",
    "sns.distplot(y[:,0], bins=120, color=\"r\")\n",
    "sns.distplot(x[:,0], bins=120, color=\"b\")\n",
    "plt.xlabel('x_coord', fontsize=14);\n",
    "plt.title(\"Distribution of x_coord\", fontsize=14);\n",
    "plt.show();"
   ]
  },
  {
   "cell_type": "code",
   "execution_count": 50,
   "metadata": {},
   "outputs": [
    {
     "data": {
      "text/plain": [
       "['atom_name', 'residue_name', 'chain_id', 'residue_number', 'element_symbol']"
      ]
     },
     "execution_count": 50,
     "metadata": {},
     "output_type": "execute_result"
    }
   ],
   "source": [
    "cat_vars"
   ]
  },
  {
   "cell_type": "code",
   "execution_count": 51,
   "metadata": {},
   "outputs": [
    {
     "data": {
      "text/plain": [
       "Index(['atom_name', 'residue_name', 'chain_id', 'residue_number', 'b_factor',\n",
       "       'element_symbol', 'x_ca', 'y_ca', 'z_ca'],\n",
       "      dtype='object')"
      ]
     },
     "execution_count": 51,
     "metadata": {},
     "output_type": "execute_result"
    }
   ],
   "source": [
    "df.columns"
   ]
  },
  {
   "cell_type": "code",
   "execution_count": 52,
   "metadata": {},
   "outputs": [
    {
     "data": {
      "text/plain": [
       "array(['C', 'CA', 'CB', 'CD', 'CD1', 'CD2', 'CE', 'CE1', 'CE2', 'CE3', 'CG', 'CG1', 'CG2', 'CH2', 'CZ',\n",
       "       'CZ2', 'CZ3', 'H', 'H2', 'H3', ..., 'N', 'ND1', 'ND2', 'NE', 'NE1', 'NE2', 'NH1', 'NH2', 'NZ', 'O',\n",
       "       'OD1', 'OD2', 'OE1', 'OE2', 'OG', 'OG1', 'OH', 'OXT', 'SD', 'SG'], dtype=object)"
      ]
     },
     "execution_count": 52,
     "metadata": {},
     "output_type": "execute_result"
    }
   ],
   "source": [
    "df[df.columns[0]].cat.categories.values"
   ]
  },
  {
   "cell_type": "code",
   "execution_count": 53,
   "metadata": {},
   "outputs": [],
   "source": [
    "# for i,j in enumerate(df[df.columns[0]].cat.categories.values):\n",
    "#     print(i,j)"
   ]
  },
  {
   "cell_type": "code",
   "execution_count": 54,
   "metadata": {},
   "outputs": [],
   "source": [
    "atom_name_dic = dict()\n",
    "Embedding_matrix = to_np(next(m.get_layer_groups()[0][0].parameters()))\n",
    "for id,atom_name in enumerate(df[df.columns[0]].cat.categories.values):\n",
    "    atom_name_dic[atom_name] = Embedding_matrix[id]\n",
    "    \n"
   ]
  },
  {
   "cell_type": "code",
   "execution_count": 55,
   "metadata": {},
   "outputs": [],
   "source": [
    "residue_name_dic = dict()\n",
    "Embedding_matrix = to_np(next(m.get_layer_groups()[0][1].parameters()))\n",
    "for id,residue_name in enumerate(df[df.columns[1]].cat.categories.values):\n",
    "    residue_name_dic[residue_name] = Embedding_matrix[id]"
   ]
  },
  {
   "cell_type": "code",
   "execution_count": 56,
   "metadata": {},
   "outputs": [],
   "source": [
    "chain_id_dic = dict()\n",
    "Embedding_matrix = to_np(next(m.get_layer_groups()[0][2].parameters()))\n",
    "for id,chain_id in enumerate(df[df.columns[2]].cat.categories.values):\n",
    "    chain_id_dic[chain_id] = Embedding_matrix[id]"
   ]
  },
  {
   "cell_type": "code",
   "execution_count": 57,
   "metadata": {},
   "outputs": [],
   "source": [
    "residue_number_dic = dict()\n",
    "Embedding_matrix = to_np(next(m.get_layer_groups()[0][3].parameters()))\n",
    "for id,residue_number in enumerate(df[df.columns[3]].cat.categories.values):\n",
    "    residue_number_dic[residue_number] = Embedding_matrix[id]"
   ]
  },
  {
   "cell_type": "code",
   "execution_count": 58,
   "metadata": {},
   "outputs": [],
   "source": [
    "element_symbol_dic = dict()\n",
    "Embedding_matrix = to_np(next(m.get_layer_groups()[0][4].parameters()))\n",
    "for id,element_symbol in enumerate(df[df.columns[5]].cat.categories.values):\n",
    "   element_symbol_dic[element_symbol] = Embedding_matrix[id]"
   ]
  },
  {
   "cell_type": "code",
   "execution_count": 59,
   "metadata": {},
   "outputs": [],
   "source": [
    "df_emb = df.copy()"
   ]
  },
  {
   "cell_type": "code",
   "execution_count": 64,
   "metadata": {},
   "outputs": [],
   "source": [
    "df_emb.atom_name=df_emb.atom_name.map(atom_name_dic)"
   ]
  },
  {
   "cell_type": "code",
   "execution_count": 66,
   "metadata": {},
   "outputs": [],
   "source": [
    "df_emb.residue_name=df_emb.residue_name.map(residue_name_dic)"
   ]
  },
  {
   "cell_type": "code",
   "execution_count": 67,
   "metadata": {},
   "outputs": [],
   "source": [
    "df_emb.residue_number=df_emb.residue_number.map(residue_number_dic)"
   ]
  },
  {
   "cell_type": "code",
   "execution_count": 68,
   "metadata": {},
   "outputs": [],
   "source": [
    "df_emb.element_symbol=df_emb.element_symbol.map(element_symbol_dic)"
   ]
  },
  {
   "cell_type": "code",
   "execution_count": 69,
   "metadata": {},
   "outputs": [],
   "source": [
    "df_emb.chain_id=df_emb.chain_id.map(chain_id_dic)"
   ]
  },
  {
   "cell_type": "code",
   "execution_count": 71,
   "metadata": {},
   "outputs": [],
   "source": [
    "df_emb = df_emb.drop('b_factor',axis=1)"
   ]
  },
  {
   "cell_type": "code",
   "execution_count": 72,
   "metadata": {},
   "outputs": [
    {
     "data": {
      "text/html": [
       "<div>\n",
       "<style scoped>\n",
       "    .dataframe tbody tr th:only-of-type {\n",
       "        vertical-align: middle;\n",
       "    }\n",
       "\n",
       "    .dataframe tbody tr th {\n",
       "        vertical-align: top;\n",
       "    }\n",
       "\n",
       "    .dataframe thead th {\n",
       "        text-align: right;\n",
       "    }\n",
       "</style>\n",
       "<table border=\"1\" class=\"dataframe\">\n",
       "  <thead>\n",
       "    <tr style=\"text-align: right;\">\n",
       "      <th></th>\n",
       "      <th>atom_name</th>\n",
       "      <th>residue_name</th>\n",
       "      <th>chain_id</th>\n",
       "      <th>residue_number</th>\n",
       "      <th>element_symbol</th>\n",
       "      <th>x_ca</th>\n",
       "      <th>y_ca</th>\n",
       "      <th>z_ca</th>\n",
       "    </tr>\n",
       "  </thead>\n",
       "  <tbody>\n",
       "    <tr>\n",
       "      <th>0</th>\n",
       "      <td>[-0.44631913, -0.016297048, 0.057964608, -0.03...</td>\n",
       "      <td>[0.13174935, 0.04393314, -0.15157786, -0.03139...</td>\n",
       "      <td>[0.0054658055, 0.022072993, 0.023494486, -0.01...</td>\n",
       "      <td>[0.0017315038, -0.00016357377, -0.023701893, 0...</td>\n",
       "      <td>[0.17381132, -0.26806852, 0.17100368]</td>\n",
       "      <td>1.965435</td>\n",
       "      <td>0.27522</td>\n",
       "      <td>1.959391</td>\n",
       "    </tr>\n",
       "    <tr>\n",
       "      <th>1</th>\n",
       "      <td>[0.0036908044, 0.08505838, -0.07933746, -0.008...</td>\n",
       "      <td>[0.13174935, 0.04393314, -0.15157786, -0.03139...</td>\n",
       "      <td>[0.0054658055, 0.022072993, 0.023494486, -0.01...</td>\n",
       "      <td>[0.0017315038, -0.00016357377, -0.023701893, 0...</td>\n",
       "      <td>[-0.38824987, -0.4661128, 0.38692296]</td>\n",
       "      <td>1.965435</td>\n",
       "      <td>0.27522</td>\n",
       "      <td>1.959391</td>\n",
       "    </tr>\n",
       "    <tr>\n",
       "      <th>2</th>\n",
       "      <td>[0.020546645, 0.019395143, 0.011817738, 0.0322...</td>\n",
       "      <td>[0.13174935, 0.04393314, -0.15157786, -0.03139...</td>\n",
       "      <td>[0.0054658055, 0.022072993, 0.023494486, -0.01...</td>\n",
       "      <td>[0.0017315038, -0.00016357377, -0.023701893, 0...</td>\n",
       "      <td>[-0.38824987, -0.4661128, 0.38692296]</td>\n",
       "      <td>1.965435</td>\n",
       "      <td>0.27522</td>\n",
       "      <td>1.959391</td>\n",
       "    </tr>\n",
       "    <tr>\n",
       "      <th>3</th>\n",
       "      <td>[-0.20352036, -0.009803537, -0.051050935, 0.11...</td>\n",
       "      <td>[0.13174935, 0.04393314, -0.15157786, -0.03139...</td>\n",
       "      <td>[0.0054658055, 0.022072993, 0.023494486, -0.01...</td>\n",
       "      <td>[0.0017315038, -0.00016357377, -0.023701893, 0...</td>\n",
       "      <td>[0.060258996, -0.046780318, 0.06330776]</td>\n",
       "      <td>1.965435</td>\n",
       "      <td>0.27522</td>\n",
       "      <td>1.959391</td>\n",
       "    </tr>\n",
       "    <tr>\n",
       "      <th>4</th>\n",
       "      <td>[-0.049599517, 0.077045836, -0.09362581, 0.055...</td>\n",
       "      <td>[0.13174935, 0.04393314, -0.15157786, -0.03139...</td>\n",
       "      <td>[0.0054658055, 0.022072993, 0.023494486, -0.01...</td>\n",
       "      <td>[0.0017315038, -0.00016357377, -0.023701893, 0...</td>\n",
       "      <td>[-0.38824987, -0.4661128, 0.38692296]</td>\n",
       "      <td>1.965435</td>\n",
       "      <td>0.27522</td>\n",
       "      <td>1.959391</td>\n",
       "    </tr>\n",
       "  </tbody>\n",
       "</table>\n",
       "</div>"
      ],
      "text/plain": [
       "                                           atom_name  \\\n",
       "0  [-0.44631913, -0.016297048, 0.057964608, -0.03...   \n",
       "1  [0.0036908044, 0.08505838, -0.07933746, -0.008...   \n",
       "2  [0.020546645, 0.019395143, 0.011817738, 0.0322...   \n",
       "3  [-0.20352036, -0.009803537, -0.051050935, 0.11...   \n",
       "4  [-0.049599517, 0.077045836, -0.09362581, 0.055...   \n",
       "\n",
       "                                        residue_name  \\\n",
       "0  [0.13174935, 0.04393314, -0.15157786, -0.03139...   \n",
       "1  [0.13174935, 0.04393314, -0.15157786, -0.03139...   \n",
       "2  [0.13174935, 0.04393314, -0.15157786, -0.03139...   \n",
       "3  [0.13174935, 0.04393314, -0.15157786, -0.03139...   \n",
       "4  [0.13174935, 0.04393314, -0.15157786, -0.03139...   \n",
       "\n",
       "                                            chain_id  \\\n",
       "0  [0.0054658055, 0.022072993, 0.023494486, -0.01...   \n",
       "1  [0.0054658055, 0.022072993, 0.023494486, -0.01...   \n",
       "2  [0.0054658055, 0.022072993, 0.023494486, -0.01...   \n",
       "3  [0.0054658055, 0.022072993, 0.023494486, -0.01...   \n",
       "4  [0.0054658055, 0.022072993, 0.023494486, -0.01...   \n",
       "\n",
       "                                      residue_number  \\\n",
       "0  [0.0017315038, -0.00016357377, -0.023701893, 0...   \n",
       "1  [0.0017315038, -0.00016357377, -0.023701893, 0...   \n",
       "2  [0.0017315038, -0.00016357377, -0.023701893, 0...   \n",
       "3  [0.0017315038, -0.00016357377, -0.023701893, 0...   \n",
       "4  [0.0017315038, -0.00016357377, -0.023701893, 0...   \n",
       "\n",
       "                            element_symbol      x_ca     y_ca      z_ca  \n",
       "0    [0.17381132, -0.26806852, 0.17100368]  1.965435  0.27522  1.959391  \n",
       "1    [-0.38824987, -0.4661128, 0.38692296]  1.965435  0.27522  1.959391  \n",
       "2    [-0.38824987, -0.4661128, 0.38692296]  1.965435  0.27522  1.959391  \n",
       "3  [0.060258996, -0.046780318, 0.06330776]  1.965435  0.27522  1.959391  \n",
       "4    [-0.38824987, -0.4661128, 0.38692296]  1.965435  0.27522  1.959391  "
      ]
     },
     "execution_count": 72,
     "metadata": {},
     "output_type": "execute_result"
    }
   ],
   "source": [
    "df_emb.head()"
   ]
  },
  {
   "cell_type": "code",
   "execution_count": 79,
   "metadata": {},
   "outputs": [],
   "source": [
    "df_emb.to_pickle('emb.pkl')"
   ]
  },
  {
   "cell_type": "code",
   "execution_count": 95,
   "metadata": {},
   "outputs": [],
   "source": [
    "y_df = pd.DataFrame(y)"
   ]
  },
  {
   "cell_type": "code",
   "execution_count": 96,
   "metadata": {},
   "outputs": [],
   "source": [
    "y_df.to_pickle('y.pkl')"
   ]
  },
  {
   "cell_type": "code",
   "execution_count": 62,
   "metadata": {},
   "outputs": [],
   "source": [
    "Embedding_matrix = to_np(next(m.get_layer_groups()[0][0].parameters()))"
   ]
  },
  {
   "cell_type": "code",
   "execution_count": 63,
   "metadata": {},
   "outputs": [
    {
     "data": {
      "text/plain": [
       "(83, 42)"
      ]
     },
     "execution_count": 63,
     "metadata": {},
     "output_type": "execute_result"
    }
   ],
   "source": [
    "Embedding_matrix.shape"
   ]
  },
  {
   "cell_type": "code",
   "execution_count": null,
   "metadata": {},
   "outputs": [],
   "source": []
  },
  {
   "cell_type": "code",
   "execution_count": 99,
   "metadata": {},
   "outputs": [],
   "source": [
    "def idx2EmbPlot(idx,perplexity=30,early_exaggeration=12.0, learning_rate=200.0,ax=None):\n",
    "    Embedding_matrix = to_np(next(m.get_layer_groups()[0][idx].parameters()))\n",
    "    from sklearn.manifold import TSNE\n",
    "    X_embedded = TSNE(n_components=2, perplexity=perplexity, early_exaggeration=early_exaggeration, \n",
    "                      learning_rate=learning_rate,n_iter=1000, n_iter_without_progress=300, \n",
    "                      min_grad_norm=1e-07,metric='euclidean', init='random', verbose=0, \n",
    "                      random_state=42, method='barnes_hut', angle=0.5).fit_transform(Embedding_matrix)\n",
    "    \n",
    "    annotation = np.append(df[df.columns[idx]].cat.categories.values,\"Other\")\n",
    "    \n",
    "    \n",
    "    ax.scatter(X_embedded[:,0],X_embedded[:,1],c=range(len(annotation)),alpha=0.4)\n",
    "    for xy,target in zip(X_embedded,annotation):\n",
    "        if isinstance(target,np.str_) or isinstance(target,str):\n",
    "            text = target\n",
    "        else:\n",
    "            text = \"%d\" % target\n",
    "        ax.annotate(target,xy=(xy[0],xy[1]))\n",
    "        ax.set_title(df.columns[idx])"
   ]
  },
  {
   "cell_type": "code",
   "execution_count": 100,
   "metadata": {},
   "outputs": [
    {
     "data": {
      "image/png": "[encoded data removed]",
      "text/plain": [
       "<Figure size 1440x360 with 2 Axes>"
      ]
     },
     "metadata": {
      "needs_background": "light"
     },
     "output_type": "display_data"
    }
   ],
   "source": [
    "Perplexities = [2,4]\n",
    "\n",
    "fig, axes = plt.subplots(nrows=1,ncols=len(Perplexities))\n",
    "fig.set_figheight(5)\n",
    "fig.set_figwidth(20)\n",
    "for i,per in enumerate(Perplexities):\n",
    "    idx2EmbPlot(0,per,ax=axes[i])"
   ]
  },
  {
   "cell_type": "code",
   "execution_count": null,
   "metadata": {},
   "outputs": [],
   "source": []
  }
 ],
 "metadata": {
  "kernelspec": {
   "display_name": "py36-fastai",
   "language": "python",
   "name": "fastai"
  },
  "language_info": {
   "codemirror_mode": {
    "name": "ipython",
    "version": 3
   },
   "file_extension": ".py",
   "mimetype": "text/x-python",
   "name": "python",
   "nbconvert_exporter": "python",
   "pygments_lexer": "ipython3",
   "version": "3.6.6"
  }
 },
 "nbformat": 4,
 "nbformat_minor": 2
}
