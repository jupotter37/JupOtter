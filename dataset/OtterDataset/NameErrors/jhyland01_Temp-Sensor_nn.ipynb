{
 "cells": [
  {
   "cell_type": "code",
   "execution_count": 6,
   "metadata": {},
   "outputs": [
    {
     "ename": "KeyError",
     "evalue": "'1_Wind direction (°)'",
     "output_type": "error",
     "traceback": [
      "\u001b[0;31m---------------------------------------------------------------------------\u001b[0m",
      "\u001b[0;31mKeyError\u001b[0m                                  Traceback (most recent call last)",
      "File \u001b[0;32m~/anaconda3/envs/hacakthon/lib/python3.10/site-packages/pandas/core/indexes/base.py:3802\u001b[0m, in \u001b[0;36mIndex.get_loc\u001b[0;34m(self, key, method, tolerance)\u001b[0m\n\u001b[1;32m   3801\u001b[0m \u001b[38;5;28;01mtry\u001b[39;00m:\n\u001b[0;32m-> 3802\u001b[0m     \u001b[38;5;28;01mreturn\u001b[39;00m \u001b[38;5;28;43mself\u001b[39;49m\u001b[38;5;241;43m.\u001b[39;49m\u001b[43m_engine\u001b[49m\u001b[38;5;241;43m.\u001b[39;49m\u001b[43mget_loc\u001b[49m\u001b[43m(\u001b[49m\u001b[43mcasted_key\u001b[49m\u001b[43m)\u001b[49m\n\u001b[1;32m   3803\u001b[0m \u001b[38;5;28;01mexcept\u001b[39;00m \u001b[38;5;167;01mKeyError\u001b[39;00m \u001b[38;5;28;01mas\u001b[39;00m err:\n",
      "File \u001b[0;32m~/anaconda3/envs/hacakthon/lib/python3.10/site-packages/pandas/_libs/index.pyx:138\u001b[0m, in \u001b[0;36mpandas._libs.index.IndexEngine.get_loc\u001b[0;34m()\u001b[0m\n",
      "File \u001b[0;32m~/anaconda3/envs/hacakthon/lib/python3.10/site-packages/pandas/_libs/index.pyx:165\u001b[0m, in \u001b[0;36mpandas._libs.index.IndexEngine.get_loc\u001b[0;34m()\u001b[0m\n",
      "File \u001b[0;32mpandas/_libs/hashtable_class_helper.pxi:5745\u001b[0m, in \u001b[0;36mpandas._libs.hashtable.PyObjectHashTable.get_item\u001b[0;34m()\u001b[0m\n",
      "File \u001b[0;32mpandas/_libs/hashtable_class_helper.pxi:5753\u001b[0m, in \u001b[0;36mpandas._libs.hashtable.PyObjectHashTable.get_item\u001b[0;34m()\u001b[0m\n",
      "\u001b[0;31mKeyError\u001b[0m: '1_Wind direction (°)'",
      "\nThe above exception was the direct cause of the following exception:\n",
      "\u001b[0;31mKeyError\u001b[0m                                  Traceback (most recent call last)",
      "Cell \u001b[0;32mIn[6], line 59\u001b[0m\n\u001b[1;32m     56\u001b[0m y_test\u001b[38;5;241m.\u001b[39mset_index(\u001b[38;5;124m'\u001b[39m\u001b[38;5;124m# Date and time\u001b[39m\u001b[38;5;124m'\u001b[39m, inplace\u001b[38;5;241m=\u001b[39m\u001b[38;5;28;01mTrue\u001b[39;00m)\n\u001b[1;32m     58\u001b[0m processor \u001b[38;5;241m=\u001b[39m DataProcessor(X_train)\n\u001b[0;32m---> 59\u001b[0m \u001b[43mprocessor\u001b[49m\u001b[38;5;241;43m.\u001b[39;49m\u001b[43mprocess_all\u001b[49m\u001b[43m(\u001b[49m\u001b[43m)\u001b[49m\n\u001b[1;32m     60\u001b[0m X_train \u001b[38;5;241m=\u001b[39m processor\u001b[38;5;241m.\u001b[39mdata\n\u001b[1;32m     62\u001b[0m processor \u001b[38;5;241m=\u001b[39m DataProcessor(X_test)\n",
      "File \u001b[0;32m~/Library/CloudStorage/OneDrive-Personal/py/RES_hackathons/Temp Sensor/process_data.py:112\u001b[0m, in \u001b[0;36mDataProcessor.process_all\u001b[0;34m(self)\u001b[0m\n\u001b[1;32m    111\u001b[0m \u001b[38;5;28;01mdef\u001b[39;00m \u001b[38;5;21mprocess_all\u001b[39m(\u001b[38;5;28mself\u001b[39m):\n\u001b[0;32m--> 112\u001b[0m     \u001b[38;5;28;43mself\u001b[39;49m\u001b[38;5;241;43m.\u001b[39;49m\u001b[43madd_change\u001b[49m\u001b[43m(\u001b[49m\u001b[43m)\u001b[49m\n\u001b[1;32m    113\u001b[0m     \u001b[38;5;28mself\u001b[39m\u001b[38;5;241m.\u001b[39madd_curtailed()\n\u001b[1;32m    114\u001b[0m     \u001b[38;5;28mself\u001b[39m\u001b[38;5;241m.\u001b[39madd_offline()\n",
      "File \u001b[0;32m~/Library/CloudStorage/OneDrive-Personal/py/RES_hackathons/Temp Sensor/process_data.py:20\u001b[0m, in \u001b[0;36mDataProcessor.add_change\u001b[0;34m(self)\u001b[0m\n\u001b[1;32m     18\u001b[0m \u001b[38;5;28;01mdef\u001b[39;00m \u001b[38;5;21madd_change\u001b[39m(\u001b[38;5;28mself\u001b[39m):\n\u001b[1;32m     19\u001b[0m     \u001b[38;5;28;01mfor\u001b[39;00m col \u001b[38;5;129;01min\u001b[39;00m \u001b[38;5;28mself\u001b[39m\u001b[38;5;241m.\u001b[39moriginal_cols:\n\u001b[0;32m---> 20\u001b[0m         \u001b[38;5;28mself\u001b[39m\u001b[38;5;241m.\u001b[39mdata[\u001b[38;5;124mf\u001b[39m\u001b[38;5;124m'\u001b[39m\u001b[38;5;132;01m{\u001b[39;00mcol\u001b[38;5;132;01m}\u001b[39;00m\u001b[38;5;124m_change\u001b[39m\u001b[38;5;124m'\u001b[39m] \u001b[38;5;241m=\u001b[39m \u001b[38;5;28;43mself\u001b[39;49m\u001b[38;5;241;43m.\u001b[39;49m\u001b[43mdata\u001b[49m\u001b[43m[\u001b[49m\u001b[43mcol\u001b[49m\u001b[43m]\u001b[49m\u001b[38;5;241m.\u001b[39mdiff()\n",
      "File \u001b[0;32m~/anaconda3/envs/hacakthon/lib/python3.10/site-packages/pandas/core/frame.py:3807\u001b[0m, in \u001b[0;36mDataFrame.__getitem__\u001b[0;34m(self, key)\u001b[0m\n\u001b[1;32m   3805\u001b[0m \u001b[38;5;28;01mif\u001b[39;00m \u001b[38;5;28mself\u001b[39m\u001b[38;5;241m.\u001b[39mcolumns\u001b[38;5;241m.\u001b[39mnlevels \u001b[38;5;241m>\u001b[39m \u001b[38;5;241m1\u001b[39m:\n\u001b[1;32m   3806\u001b[0m     \u001b[38;5;28;01mreturn\u001b[39;00m \u001b[38;5;28mself\u001b[39m\u001b[38;5;241m.\u001b[39m_getitem_multilevel(key)\n\u001b[0;32m-> 3807\u001b[0m indexer \u001b[38;5;241m=\u001b[39m \u001b[38;5;28;43mself\u001b[39;49m\u001b[38;5;241;43m.\u001b[39;49m\u001b[43mcolumns\u001b[49m\u001b[38;5;241;43m.\u001b[39;49m\u001b[43mget_loc\u001b[49m\u001b[43m(\u001b[49m\u001b[43mkey\u001b[49m\u001b[43m)\u001b[49m\n\u001b[1;32m   3808\u001b[0m \u001b[38;5;28;01mif\u001b[39;00m is_integer(indexer):\n\u001b[1;32m   3809\u001b[0m     indexer \u001b[38;5;241m=\u001b[39m [indexer]\n",
      "File \u001b[0;32m~/anaconda3/envs/hacakthon/lib/python3.10/site-packages/pandas/core/indexes/base.py:3804\u001b[0m, in \u001b[0;36mIndex.get_loc\u001b[0;34m(self, key, method, tolerance)\u001b[0m\n\u001b[1;32m   3802\u001b[0m     \u001b[38;5;28;01mreturn\u001b[39;00m \u001b[38;5;28mself\u001b[39m\u001b[38;5;241m.\u001b[39m_engine\u001b[38;5;241m.\u001b[39mget_loc(casted_key)\n\u001b[1;32m   3803\u001b[0m \u001b[38;5;28;01mexcept\u001b[39;00m \u001b[38;5;167;01mKeyError\u001b[39;00m \u001b[38;5;28;01mas\u001b[39;00m err:\n\u001b[0;32m-> 3804\u001b[0m     \u001b[38;5;28;01mraise\u001b[39;00m \u001b[38;5;167;01mKeyError\u001b[39;00m(key) \u001b[38;5;28;01mfrom\u001b[39;00m \u001b[38;5;21;01merr\u001b[39;00m\n\u001b[1;32m   3805\u001b[0m \u001b[38;5;28;01mexcept\u001b[39;00m \u001b[38;5;167;01mTypeError\u001b[39;00m:\n\u001b[1;32m   3806\u001b[0m     \u001b[38;5;66;03m# If we have a listlike key, _check_indexing_error will raise\u001b[39;00m\n\u001b[1;32m   3807\u001b[0m     \u001b[38;5;66;03m#  InvalidIndexError. Otherwise we fall through and re-raise\u001b[39;00m\n\u001b[1;32m   3808\u001b[0m     \u001b[38;5;66;03m#  the TypeError.\u001b[39;00m\n\u001b[1;32m   3809\u001b[0m     \u001b[38;5;28mself\u001b[39m\u001b[38;5;241m.\u001b[39m_check_indexing_error(key)\n",
      "\u001b[0;31mKeyError\u001b[0m: '1_Wind direction (°)'"
     ]
    }
   ],
   "source": [
    "# config\n",
    "config = {\n",
    "    \"data_path\": \"../\",\n",
    "    \"model\": {\n",
    "        \"encoder_name\": \"timm-resnest26d\",\n",
    "        \"loss_smooth\": 1.0,\n",
    "        \"optimizer_params\": {\"lr\": 0.001, \"weight_decay\": 0.0},\n",
    "        \"scheduler\": {\n",
    "            \"name\": \"CosineAnnealingLR\",\n",
    "            \"params\": {\n",
    "                \"CosineAnnealingLR\": {\"T_max\": 50, \"eta_min\": 1e-06, \"last_epoch\": -1},\n",
    "                \"ReduceLROnPlateau\": {\n",
    "                    \"factor\": 0.316,\n",
    "                    \"mode\": \"min\",\n",
    "                    \"patience\": 3,\n",
    "                    \"verbose\": True,\n",
    "                },\n",
    "            },\n",
    "        },\n",
    "        \"seg_model\": \"Unet\",\n",
    "    },\n",
    "    \"output_dir\": \"pytorchmodels\",\n",
    "    \"progress_bar_refresh_rate\": 500,\n",
    "    \"seed\": 42,\n",
    "    \"train_bs\": 128,\n",
    "    \"trainer\": {\n",
    "        \"enable_progress_bar\": True,\n",
    "        \"max_epochs\": 80,\n",
    "        \"min_epochs\": 30,\n",
    "        \"accelerator\": \"mps\",\n",
    "        \"devices\": 1,\n",
    "    },\n",
    "    \"valid_bs\": 128,\n",
    "    \"workers\": 0,\n",
    "    \"device\": \"mps\",\n",
    "    \"folds\": {\n",
    "        \"n_splits\": 4,\n",
    "        \"random_state\": 42,\n",
    "        \"train_folds\": [0, 1, 2, 3]\n",
    "    }\n",
    "}\n",
    "\n",
    "import pandas as pd\n",
    "from process_data import DataProcessor\n",
    "\n",
    "# Loading the data\n",
    "X_train = pd.read_csv('data/single_turbine_data/X_train.csv')\n",
    "X_test = pd.read_csv('data/single_turbine_data/X_test.csv')\n",
    "y_train = pd.read_csv('data/single_turbine_data/y_train.csv')\n",
    "y_test = pd.read_csv('data/single_turbine_data/y_test.csv')\n",
    "\n",
    "y_train['# Date and time'] = pd.to_datetime(y_train['# Date and time'])\n",
    "y_test['# Date and time'] = pd.to_datetime(y_test['# Date and time'])\n",
    "\n",
    "y_train.set_index('# Date and time', inplace=True)\n",
    "y_test.set_index('# Date and time', inplace=True)\n",
    "\n",
    "processor = DataProcessor(X_train)\n",
    "processor.process_all()\n",
    "X_train = processor.data\n",
    "\n",
    "processor = DataProcessor(X_test)\n",
    "processor.process_all()\n",
    "X_test = processor.data\n",
    "\n",
    "original_cols = [\n",
    "    '1_Wind direction (°)',\n",
    "       '1_Nacelle position (°)', '1_Power (kW)',\n",
    "       '1_Front bearing temperature (°C)', \n",
    "       '1_Rear bearing temperature (°C)',\n",
    "       '1_Stator temperature 1 (°C)', \n",
    "       '1_Nacelle ambient temperature (°C)',\n",
    "       '1_Nacelle temperature (°C)', \n",
    "       '1_Transformer temperature (°C)',\n",
    "       '1_Generator bearing rear temperature (°C)',\n",
    "       '1_Generator bearing front temperature (°C)', \n",
    "       '1_Temp. top box (°C)',\n",
    "       '1_Hub temperature (°C)', '1_Ambient temperature (converter) (°C)',\n",
    "       '1_Rotor bearing temp (°C)', \n",
    "       '1_Transformer cell temperature (°C)', \n",
    "       '1_Generator RPM (RPM)',\n",
    "       ]\n",
    "\n",
    "stats = ['1_Wind direction (°)_change',\n",
    " '1_Nacelle position (°)_change',\n",
    " '1_Power (kW)_change',\n",
    " '1_Front bearing temperature (°C)_change',\n",
    " '1_Rear bearing temperature (°C)_change',\n",
    " '1_Stator temperature 1 (°C)_change',\n",
    " '1_Nacelle ambient temperature (°C)_change',\n",
    " '1_Nacelle temperature (°C)_change',\n",
    " '1_Transformer temperature (°C)_change',\n",
    " '1_Generator bearing rear temperature (°C)_change',\n",
    " '1_Generator bearing front temperature (°C)_change',\n",
    " '1_Temp. top box (°C)_change',\n",
    " '1_Hub temperature (°C)_change',\n",
    " '1_Ambient temperature (converter) (°C)_change',\n",
    " '1_Rotor bearing temp (°C)_change',\n",
    " '1_Transformer cell temperature (°C)_change',\n",
    " '1_Generator RPM (RPM)_change',\n",
    " 'curtailed',\n",
    " 'offline',\n",
    " '1_Wind direction (°)_rollmean',\n",
    " '1_Wind direction (°)_rollstd',\n",
    " '1_Wind direction (°)_crest_factor',\n",
    " '1_Wind direction (°)_kurtosis',\n",
    " '1_Nacelle position (°)_rollmean',\n",
    " '1_Nacelle position (°)_rollstd',\n",
    " '1_Nacelle position (°)_crest_factor',\n",
    " '1_Nacelle position (°)_kurtosis',\n",
    " '1_Power (kW)_rollmean',\n",
    " '1_Power (kW)_rollstd',\n",
    " '1_Power (kW)_crest_factor',\n",
    " '1_Power (kW)_kurtosis',\n",
    " '1_Front bearing temperature (°C)_rollmean',\n",
    " '1_Front bearing temperature (°C)_rollstd',\n",
    " '1_Front bearing temperature (°C)_crest_factor',\n",
    " '1_Front bearing temperature (°C)_kurtosis',\n",
    " '1_Rear bearing temperature (°C)_rollmean',\n",
    " '1_Rear bearing temperature (°C)_rollstd',\n",
    " '1_Rear bearing temperature (°C)_crest_factor',\n",
    " '1_Rear bearing temperature (°C)_kurtosis',\n",
    " '1_Stator temperature 1 (°C)_rollmean',\n",
    " '1_Stator temperature 1 (°C)_rollstd',\n",
    " '1_Stator temperature 1 (°C)_crest_factor',\n",
    " '1_Stator temperature 1 (°C)_kurtosis',\n",
    " '1_Nacelle ambient temperature (°C)_rollmean',\n",
    " '1_Nacelle ambient temperature (°C)_rollstd',\n",
    " '1_Nacelle ambient temperature (°C)_crest_factor',\n",
    " '1_Nacelle ambient temperature (°C)_kurtosis',\n",
    " '1_Nacelle temperature (°C)_rollmean',\n",
    " '1_Nacelle temperature (°C)_rollstd',\n",
    " '1_Nacelle temperature (°C)_crest_factor',\n",
    " '1_Nacelle temperature (°C)_kurtosis',\n",
    " '1_Transformer temperature (°C)_rollmean',\n",
    " '1_Transformer temperature (°C)_rollstd',\n",
    " '1_Transformer temperature (°C)_crest_factor',\n",
    " '1_Transformer temperature (°C)_kurtosis',\n",
    " '1_Generator bearing rear temperature (°C)_rollmean',\n",
    " '1_Generator bearing rear temperature (°C)_rollstd',\n",
    " '1_Generator bearing rear temperature (°C)_crest_factor',\n",
    " '1_Generator bearing rear temperature (°C)_kurtosis',\n",
    " '1_Generator bearing front temperature (°C)_rollmean',\n",
    " '1_Generator bearing front temperature (°C)_rollstd',\n",
    " '1_Generator bearing front temperature (°C)_crest_factor',\n",
    " '1_Generator bearing front temperature (°C)_kurtosis',\n",
    " '1_Temp. top box (°C)_rollmean',\n",
    " '1_Temp. top box (°C)_rollstd',\n",
    " '1_Temp. top box (°C)_crest_factor',\n",
    " '1_Temp. top box (°C)_kurtosis',\n",
    " '1_Hub temperature (°C)_rollmean',\n",
    " '1_Hub temperature (°C)_rollstd',\n",
    " '1_Hub temperature (°C)_crest_factor',\n",
    " '1_Hub temperature (°C)_kurtosis',\n",
    " '1_Ambient temperature (converter) (°C)_rollmean',\n",
    " '1_Ambient temperature (converter) (°C)_rollstd',\n",
    " '1_Ambient temperature (converter) (°C)_crest_factor',\n",
    " '1_Ambient temperature (converter) (°C)_kurtosis',\n",
    " '1_Rotor bearing temp (°C)_rollmean',\n",
    " '1_Rotor bearing temp (°C)_rollstd',\n",
    " '1_Rotor bearing temp (°C)_crest_factor',\n",
    " '1_Rotor bearing temp (°C)_kurtosis',\n",
    " '1_Transformer cell temperature (°C)_rollmean',\n",
    " '1_Transformer cell temperature (°C)_rollstd',\n",
    " '1_Transformer cell temperature (°C)_crest_factor',\n",
    " '1_Transformer cell temperature (°C)_kurtosis',\n",
    " '1_Generator RPM (RPM)_rollmean',\n",
    " '1_Generator RPM (RPM)_rollstd',\n",
    " '1_Generator RPM (RPM)_crest_factor',\n",
    " '1_Generator RPM (RPM)_kurtosis']\n",
    "\n",
    "extras = ['month_sin', 'month_cos', 'hour_sin', 'hour_cos', \n",
    "'curtailed', \n",
    "'offline',\n",
    "]\n",
    "leadsnlags = [\n",
    "       '1_Wind direction (°)_lead6', \n",
    "       '1_Nacelle position (°)_lead3',\n",
    "       '1_Power (kW)_lag6', \n",
    "       '1_Stator temperature 1 (°C)_lag1',\n",
    "       '1_Nacelle ambient temperature (°C)_lead6',\n",
    "       '1_Transformer temperature (°C)_lead6',\n",
    "       '1_Generator bearing rear temperature (°C)_lag1',\n",
    "       '1_Temp. top box (°C)_lag1', \n",
    "       '1_Hub temperature (°C)_lead6',\n",
    "       '1_Ambient temperature (converter) (°C)_lead6',\n",
    "       '1_Transformer cell temperature (°C)_lead6',\n",
    "       '1_Generator RPM (RPM)_lead6']\n",
    "\n",
    "mean = [col for col in stats if 'mean' in col]\n",
    "std = [col for col in stats if 'std' in col]\n",
    "crest = [col for col in stats if 'crest' in col]\n",
    "kurt = [col for col in stats if 'kurt' in col]\n",
    "change = [col for col in stats if 'change' in col]\n",
    "cols = original_cols + extras + leadsnlags\n",
    "# cols = original_cols + leadsnlags + mean + std + crest\n",
    "X_test = X_test[cols]\n",
    "X_train = X_train[cols]\n",
    "\n",
    "\n",
    "# scale the data\n",
    "from sklearn.preprocessing import StandardScaler, RobustScaler\n",
    "scalerx = RobustScaler()\n",
    "scalery = RobustScaler()\n",
    "X_train = scalerx.fit_transform(X_train)\n",
    "X_test = scalerx.transform(X_test)\n",
    "y_train = scalery.fit_transform(y_train)\n",
    "y_test = scalery.transform(y_test)"
   ]
  },
  {
   "cell_type": "code",
   "execution_count": null,
   "metadata": {},
   "outputs": [
    {
     "name": "stderr",
     "output_type": "stream",
     "text": [
      "GPU available: True (mps), used: True\n",
      "TPU available: False, using: 0 TPU cores\n",
      "IPU available: False, using: 0 IPUs\n",
      "HPU available: False, using: 0 HPUs\n",
      "/Users/johnny/anaconda3/envs/kaggle/lib/python3.11/site-packages/lightning/pytorch/callbacks/model_checkpoint.py:622: UserWarning: Checkpoint directory /Users/johnny/Library/CloudStorage/OneDrive-Personal/py/RES_hackathons/Temp Sensor/pytorchmodels exists and is not empty.\n",
      "  rank_zero_warn(f\"Checkpoint directory {dirpath} exists and is not empty.\")\n",
      "\n",
      "  | Name   | Type      | Params\n",
      "-------------------------------------\n",
      "0 | layer1 | Linear    | 6.5 K \n",
      "1 | layer2 | Linear    | 6.5 K \n",
      "2 | layer3 | Linear    | 6.5 K \n",
      "3 | layer4 | Linear    | 6.5 K \n",
      "4 | layer5 | Linear    | 81    \n",
      "5 | relu   | LeakyReLU | 0     \n",
      "6 | loss   | MSELoss   | 0     \n",
      "-------------------------------------\n",
      "26.0 K    Trainable params\n",
      "0         Non-trainable params\n",
      "26.0 K    Total params\n",
      "0.104     Total estimated model params size (MB)\n"
     ]
    },
    {
     "data": {
      "application/vnd.jupyter.widget-view+json": {
       "model_id": "6189f837bc524fa9a7ee972614297bb4",
       "version_major": 2,
       "version_minor": 0
      },
      "text/plain": [
       "Sanity Checking: 0it [00:00, ?it/s]"
      ]
     },
     "metadata": {},
     "output_type": "display_data"
    },
    {
     "name": "stderr",
     "output_type": "stream",
     "text": [
      "/Users/johnny/anaconda3/envs/kaggle/lib/python3.11/site-packages/lightning/pytorch/trainer/connectors/data_connector.py:438: PossibleUserWarning: The dataloader, val_dataloader, does not have many workers which may be a bottleneck. Consider increasing the value of the `num_workers` argument` (try 12 which is the number of cpus on this machine) in the `DataLoader` init to improve performance.\n",
      "  rank_zero_warn(\n",
      "/Users/johnny/anaconda3/envs/kaggle/lib/python3.11/site-packages/lightning/pytorch/trainer/connectors/data_connector.py:438: PossibleUserWarning: The dataloader, train_dataloader, does not have many workers which may be a bottleneck. Consider increasing the value of the `num_workers` argument` (try 12 which is the number of cpus on this machine) in the `DataLoader` init to improve performance.\n",
      "  rank_zero_warn(\n"
     ]
    },
    {
     "data": {
      "application/vnd.jupyter.widget-view+json": {
       "model_id": "2ef04a8896aa43879e48086b38e723af",
       "version_major": 2,
       "version_minor": 0
      },
      "text/plain": [
       "Training: 0it [00:00, ?it/s]"
      ]
     },
     "metadata": {},
     "output_type": "display_data"
    },
    {
     "data": {
      "application/vnd.jupyter.widget-view+json": {
       "model_id": "2e3dae97489b471c9eba69a92d289326",
       "version_major": 2,
       "version_minor": 0
      },
      "text/plain": [
       "Validation: 0it [00:00, ?it/s]"
      ]
     },
     "metadata": {},
     "output_type": "display_data"
    },
    {
     "name": "stderr",
     "output_type": "stream",
     "text": [
      "Metric val_loss improved. New best score: 0.045\n",
      "Epoch 0, global step 1241: 'val_loss' reached 0.04457 (best 0.04457), saving model to '/Users/johnny/Library/CloudStorage/OneDrive-Personal/py/RES_hackathons/Temp Sensor/pytorchmodels/best_model-v46.ckpt' as top 1\n"
     ]
    },
    {
     "data": {
      "application/vnd.jupyter.widget-view+json": {
       "model_id": "9f0086033a3c4d13a6d00f41c7c4f05b",
       "version_major": 2,
       "version_minor": 0
      },
      "text/plain": [
       "Validation: 0it [00:00, ?it/s]"
      ]
     },
     "metadata": {},
     "output_type": "display_data"
    },
    {
     "name": "stderr",
     "output_type": "stream",
     "text": [
      "Metric val_loss improved by 0.011 >= min_delta = 0.0. New best score: 0.034\n",
      "Epoch 1, global step 2482: 'val_loss' reached 0.03395 (best 0.03395), saving model to '/Users/johnny/Library/CloudStorage/OneDrive-Personal/py/RES_hackathons/Temp Sensor/pytorchmodels/best_model-v46.ckpt' as top 1\n"
     ]
    },
    {
     "data": {
      "application/vnd.jupyter.widget-view+json": {
       "model_id": "85e1e690bbcc4f4a8d45064867b89182",
       "version_major": 2,
       "version_minor": 0
      },
      "text/plain": [
       "Validation: 0it [00:00, ?it/s]"
      ]
     },
     "metadata": {},
     "output_type": "display_data"
    },
    {
     "name": "stderr",
     "output_type": "stream",
     "text": [
      "Metric val_loss improved by 0.002 >= min_delta = 0.0. New best score: 0.032\n",
      "Epoch 2, global step 3723: 'val_loss' reached 0.03215 (best 0.03215), saving model to '/Users/johnny/Library/CloudStorage/OneDrive-Personal/py/RES_hackathons/Temp Sensor/pytorchmodels/best_model-v46.ckpt' as top 1\n"
     ]
    },
    {
     "data": {
      "application/vnd.jupyter.widget-view+json": {
       "model_id": "7ad81384551646ea9dc6f864faebf9f5",
       "version_major": 2,
       "version_minor": 0
      },
      "text/plain": [
       "Validation: 0it [00:00, ?it/s]"
      ]
     },
     "metadata": {},
     "output_type": "display_data"
    },
    {
     "name": "stderr",
     "output_type": "stream",
     "text": [
      "Metric val_loss improved by 0.004 >= min_delta = 0.0. New best score: 0.028\n",
      "Epoch 3, global step 4964: 'val_loss' reached 0.02776 (best 0.02776), saving model to '/Users/johnny/Library/CloudStorage/OneDrive-Personal/py/RES_hackathons/Temp Sensor/pytorchmodels/best_model-v46.ckpt' as top 1\n"
     ]
    },
    {
     "data": {
      "application/vnd.jupyter.widget-view+json": {
       "model_id": "8f1b2e3b4f7a40fa92fe8c35da609d1d",
       "version_major": 2,
       "version_minor": 0
      },
      "text/plain": [
       "Validation: 0it [00:00, ?it/s]"
      ]
     },
     "metadata": {},
     "output_type": "display_data"
    },
    {
     "name": "stderr",
     "output_type": "stream",
     "text": [
      "Metric val_loss improved by 0.000 >= min_delta = 0.0. New best score: 0.028\n",
      "Epoch 4, global step 6205: 'val_loss' reached 0.02760 (best 0.02760), saving model to '/Users/johnny/Library/CloudStorage/OneDrive-Personal/py/RES_hackathons/Temp Sensor/pytorchmodels/best_model-v46.ckpt' as top 1\n"
     ]
    },
    {
     "data": {
      "application/vnd.jupyter.widget-view+json": {
       "model_id": "4a3fd6c3d1da4c95801383468d527029",
       "version_major": 2,
       "version_minor": 0
      },
      "text/plain": [
       "Validation: 0it [00:00, ?it/s]"
      ]
     },
     "metadata": {},
     "output_type": "display_data"
    },
    {
     "name": "stderr",
     "output_type": "stream",
     "text": [
      "Metric val_loss improved by 0.009 >= min_delta = 0.0. New best score: 0.018\n",
      "Epoch 5, global step 7446: 'val_loss' reached 0.01830 (best 0.01830), saving model to '/Users/johnny/Library/CloudStorage/OneDrive-Personal/py/RES_hackathons/Temp Sensor/pytorchmodels/best_model-v46.ckpt' as top 1\n"
     ]
    },
    {
     "data": {
      "application/vnd.jupyter.widget-view+json": {
       "model_id": "dc3bc972c18c463fb297fe9b6b1b68b4",
       "version_major": 2,
       "version_minor": 0
      },
      "text/plain": [
       "Validation: 0it [00:00, ?it/s]"
      ]
     },
     "metadata": {},
     "output_type": "display_data"
    },
    {
     "name": "stderr",
     "output_type": "stream",
     "text": [
      "Epoch 6, global step 8687: 'val_loss' was not in top 1\n"
     ]
    },
    {
     "data": {
      "application/vnd.jupyter.widget-view+json": {
       "model_id": "034400ab01dd445d94a1154c71e08612",
       "version_major": 2,
       "version_minor": 0
      },
      "text/plain": [
       "Validation: 0it [00:00, ?it/s]"
      ]
     },
     "metadata": {},
     "output_type": "display_data"
    },
    {
     "name": "stderr",
     "output_type": "stream",
     "text": [
      "Epoch 7, global step 9928: 'val_loss' was not in top 1\n"
     ]
    },
    {
     "data": {
      "application/vnd.jupyter.widget-view+json": {
       "model_id": "056ba47825e54ad6bad03f1c096e8c11",
       "version_major": 2,
       "version_minor": 0
      },
      "text/plain": [
       "Validation: 0it [00:00, ?it/s]"
      ]
     },
     "metadata": {},
     "output_type": "display_data"
    },
    {
     "name": "stderr",
     "output_type": "stream",
     "text": [
      "Epoch 8, global step 11169: 'val_loss' was not in top 1\n"
     ]
    },
    {
     "data": {
      "application/vnd.jupyter.widget-view+json": {
       "model_id": "78c94e4aa93d4aa7b6d2214e01e77b3a",
       "version_major": 2,
       "version_minor": 0
      },
      "text/plain": [
       "Validation: 0it [00:00, ?it/s]"
      ]
     },
     "metadata": {},
     "output_type": "display_data"
    },
    {
     "name": "stderr",
     "output_type": "stream",
     "text": [
      "Epoch 9, global step 12410: 'val_loss' was not in top 1\n"
     ]
    },
    {
     "data": {
      "application/vnd.jupyter.widget-view+json": {
       "model_id": "4a80fcb1b73f486fa3ee42b306df4dcb",
       "version_major": 2,
       "version_minor": 0
      },
      "text/plain": [
       "Validation: 0it [00:00, ?it/s]"
      ]
     },
     "metadata": {},
     "output_type": "display_data"
    },
    {
     "name": "stderr",
     "output_type": "stream",
     "text": [
      "Metric val_loss improved by 0.005 >= min_delta = 0.0. New best score: 0.014\n",
      "Epoch 10, global step 13651: 'val_loss' reached 0.01380 (best 0.01380), saving model to '/Users/johnny/Library/CloudStorage/OneDrive-Personal/py/RES_hackathons/Temp Sensor/pytorchmodels/best_model-v46.ckpt' as top 1\n"
     ]
    },
    {
     "data": {
      "application/vnd.jupyter.widget-view+json": {
       "model_id": "e5acedf9164642cf89593c745890bda1",
       "version_major": 2,
       "version_minor": 0
      },
      "text/plain": [
       "Validation: 0it [00:00, ?it/s]"
      ]
     },
     "metadata": {},
     "output_type": "display_data"
    },
    {
     "name": "stderr",
     "output_type": "stream",
     "text": [
      "Epoch 11, global step 14892: 'val_loss' was not in top 1\n"
     ]
    },
    {
     "data": {
      "application/vnd.jupyter.widget-view+json": {
       "model_id": "81915def45604433982d39948a793994",
       "version_major": 2,
       "version_minor": 0
      },
      "text/plain": [
       "Validation: 0it [00:00, ?it/s]"
      ]
     },
     "metadata": {},
     "output_type": "display_data"
    },
    {
     "name": "stderr",
     "output_type": "stream",
     "text": [
      "Epoch 12, global step 16133: 'val_loss' was not in top 1\n"
     ]
    },
    {
     "data": {
      "application/vnd.jupyter.widget-view+json": {
       "model_id": "50bd3857612c41248ba7d0e5eb7e2d94",
       "version_major": 2,
       "version_minor": 0
      },
      "text/plain": [
       "Validation: 0it [00:00, ?it/s]"
      ]
     },
     "metadata": {},
     "output_type": "display_data"
    },
    {
     "name": "stderr",
     "output_type": "stream",
     "text": [
      "Epoch 13, global step 17374: 'val_loss' was not in top 1\n"
     ]
    },
    {
     "data": {
      "application/vnd.jupyter.widget-view+json": {
       "model_id": "901ea401ad7b48b2bc6b062b3cf05380",
       "version_major": 2,
       "version_minor": 0
      },
      "text/plain": [
       "Validation: 0it [00:00, ?it/s]"
      ]
     },
     "metadata": {},
     "output_type": "display_data"
    },
    {
     "name": "stderr",
     "output_type": "stream",
     "text": [
      "Epoch 14, global step 18615: 'val_loss' was not in top 1\n"
     ]
    },
    {
     "data": {
      "application/vnd.jupyter.widget-view+json": {
       "model_id": "1b5ea3104b22485180ce986f691e1c33",
       "version_major": 2,
       "version_minor": 0
      },
      "text/plain": [
       "Validation: 0it [00:00, ?it/s]"
      ]
     },
     "metadata": {},
     "output_type": "display_data"
    },
    {
     "name": "stderr",
     "output_type": "stream",
     "text": [
      "Metric val_loss improved by 0.001 >= min_delta = 0.0. New best score: 0.012\n",
      "Epoch 15, global step 19856: 'val_loss' reached 0.01248 (best 0.01248), saving model to '/Users/johnny/Library/CloudStorage/OneDrive-Personal/py/RES_hackathons/Temp Sensor/pytorchmodels/best_model-v46.ckpt' as top 1\n"
     ]
    },
    {
     "data": {
      "application/vnd.jupyter.widget-view+json": {
       "model_id": "631685aa136246fe9e1c75068ab7d840",
       "version_major": 2,
       "version_minor": 0
      },
      "text/plain": [
       "Validation: 0it [00:00, ?it/s]"
      ]
     },
     "metadata": {},
     "output_type": "display_data"
    },
    {
     "name": "stderr",
     "output_type": "stream",
     "text": [
      "Epoch 16, global step 21097: 'val_loss' was not in top 1\n"
     ]
    },
    {
     "data": {
      "application/vnd.jupyter.widget-view+json": {
       "model_id": "0f95e10426ba45ddbca382e71e5aebd3",
       "version_major": 2,
       "version_minor": 0
      },
      "text/plain": [
       "Validation: 0it [00:00, ?it/s]"
      ]
     },
     "metadata": {},
     "output_type": "display_data"
    },
    {
     "name": "stderr",
     "output_type": "stream",
     "text": [
      "Epoch 17, global step 22338: 'val_loss' was not in top 1\n"
     ]
    },
    {
     "data": {
      "application/vnd.jupyter.widget-view+json": {
       "model_id": "95024b72b1e6462aae5f3bfd0edde487",
       "version_major": 2,
       "version_minor": 0
      },
      "text/plain": [
       "Validation: 0it [00:00, ?it/s]"
      ]
     },
     "metadata": {},
     "output_type": "display_data"
    },
    {
     "name": "stderr",
     "output_type": "stream",
     "text": [
      "Epoch 18, global step 23579: 'val_loss' was not in top 1\n"
     ]
    },
    {
     "data": {
      "application/vnd.jupyter.widget-view+json": {
       "model_id": "a97ee898acc142e68273292274806eaf",
       "version_major": 2,
       "version_minor": 0
      },
      "text/plain": [
       "Validation: 0it [00:00, ?it/s]"
      ]
     },
     "metadata": {},
     "output_type": "display_data"
    },
    {
     "name": "stderr",
     "output_type": "stream",
     "text": [
      "Epoch 19, global step 24820: 'val_loss' was not in top 1\n"
     ]
    },
    {
     "data": {
      "application/vnd.jupyter.widget-view+json": {
       "model_id": "3a3566336a8a487e92cdecc13b182c94",
       "version_major": 2,
       "version_minor": 0
      },
      "text/plain": [
       "Validation: 0it [00:00, ?it/s]"
      ]
     },
     "metadata": {},
     "output_type": "display_data"
    },
    {
     "name": "stderr",
     "output_type": "stream",
     "text": [
      "Epoch 20, global step 26061: 'val_loss' was not in top 1\n"
     ]
    },
    {
     "data": {
      "application/vnd.jupyter.widget-view+json": {
       "model_id": "a2ba62269bb94aa49172da4a5100340a",
       "version_major": 2,
       "version_minor": 0
      },
      "text/plain": [
       "Validation: 0it [00:00, ?it/s]"
      ]
     },
     "metadata": {},
     "output_type": "display_data"
    },
    {
     "name": "stderr",
     "output_type": "stream",
     "text": [
      "Epoch 21, global step 27302: 'val_loss' was not in top 1\n"
     ]
    },
    {
     "data": {
      "application/vnd.jupyter.widget-view+json": {
       "model_id": "3171fbdbb2d34e7cb1dc894cc8430ef8",
       "version_major": 2,
       "version_minor": 0
      },
      "text/plain": [
       "Validation: 0it [00:00, ?it/s]"
      ]
     },
     "metadata": {},
     "output_type": "display_data"
    },
    {
     "name": "stderr",
     "output_type": "stream",
     "text": [
      "Epoch 22, global step 28543: 'val_loss' was not in top 1\n"
     ]
    },
    {
     "data": {
      "application/vnd.jupyter.widget-view+json": {
       "model_id": "16e443a443fc4475ac949b9077f258d9",
       "version_major": 2,
       "version_minor": 0
      },
      "text/plain": [
       "Validation: 0it [00:00, ?it/s]"
      ]
     },
     "metadata": {},
     "output_type": "display_data"
    },
    {
     "name": "stderr",
     "output_type": "stream",
     "text": [
      "Monitored metric val_loss did not improve in the last 8 records. Best score: 0.012. Signaling Trainer to stop.\n",
      "Epoch 23, global step 29784: 'val_loss' was not in top 1\n",
      "Trainer was signaled to stop but the required `min_epochs=30` or `min_steps=None` has not been met. Training will continue...\n"
     ]
    },
    {
     "data": {
      "application/vnd.jupyter.widget-view+json": {
       "model_id": "344e54b6dda2471aa1040dcb5d68b13b",
       "version_major": 2,
       "version_minor": 0
      },
      "text/plain": [
       "Validation: 0it [00:00, ?it/s]"
      ]
     },
     "metadata": {},
     "output_type": "display_data"
    },
    {
     "name": "stderr",
     "output_type": "stream",
     "text": [
      "Monitored metric val_loss did not improve in the last 9 records. Best score: 0.012. Signaling Trainer to stop.\n",
      "Epoch 24, global step 31025: 'val_loss' was not in top 1\n"
     ]
    },
    {
     "data": {
      "application/vnd.jupyter.widget-view+json": {
       "model_id": "d5cf514a9fc847578ba152a866dd7547",
       "version_major": 2,
       "version_minor": 0
      },
      "text/plain": [
       "Validation: 0it [00:00, ?it/s]"
      ]
     },
     "metadata": {},
     "output_type": "display_data"
    },
    {
     "name": "stderr",
     "output_type": "stream",
     "text": [
      "Metric val_loss improved by 0.002 >= min_delta = 0.0. New best score: 0.011\n",
      "Epoch 25, global step 32266: 'val_loss' reached 0.01054 (best 0.01054), saving model to '/Users/johnny/Library/CloudStorage/OneDrive-Personal/py/RES_hackathons/Temp Sensor/pytorchmodels/best_model-v46.ckpt' as top 1\n"
     ]
    },
    {
     "data": {
      "application/vnd.jupyter.widget-view+json": {
       "model_id": "a8c1281c31bc41ab9984fb606b5dd9ac",
       "version_major": 2,
       "version_minor": 0
      },
      "text/plain": [
       "Validation: 0it [00:00, ?it/s]"
      ]
     },
     "metadata": {},
     "output_type": "display_data"
    },
    {
     "name": "stderr",
     "output_type": "stream",
     "text": [
      "Epoch 26, global step 33507: 'val_loss' was not in top 1\n"
     ]
    },
    {
     "data": {
      "application/vnd.jupyter.widget-view+json": {
       "model_id": "8dafe0bc791d4b39a43caffaff134148",
       "version_major": 2,
       "version_minor": 0
      },
      "text/plain": [
       "Validation: 0it [00:00, ?it/s]"
      ]
     },
     "metadata": {},
     "output_type": "display_data"
    },
    {
     "name": "stderr",
     "output_type": "stream",
     "text": [
      "Metric val_loss improved by 0.001 >= min_delta = 0.0. New best score: 0.010\n",
      "Epoch 27, global step 34748: 'val_loss' reached 0.00967 (best 0.00967), saving model to '/Users/johnny/Library/CloudStorage/OneDrive-Personal/py/RES_hackathons/Temp Sensor/pytorchmodels/best_model-v46.ckpt' as top 1\n"
     ]
    },
    {
     "data": {
      "application/vnd.jupyter.widget-view+json": {
       "model_id": "dff293502263465db8e6d992dfb15172",
       "version_major": 2,
       "version_minor": 0
      },
      "text/plain": [
       "Validation: 0it [00:00, ?it/s]"
      ]
     },
     "metadata": {},
     "output_type": "display_data"
    },
    {
     "name": "stderr",
     "output_type": "stream",
     "text": [
      "Epoch 28, global step 35989: 'val_loss' was not in top 1\n"
     ]
    },
    {
     "data": {
      "application/vnd.jupyter.widget-view+json": {
       "model_id": "79b48ff3aaca425686026d5ed82b4175",
       "version_major": 2,
       "version_minor": 0
      },
      "text/plain": [
       "Validation: 0it [00:00, ?it/s]"
      ]
     },
     "metadata": {},
     "output_type": "display_data"
    },
    {
     "name": "stderr",
     "output_type": "stream",
     "text": [
      "Epoch 29, global step 37230: 'val_loss' was not in top 1\n"
     ]
    },
    {
     "name": "stdout",
     "output_type": "stream",
     "text": [
      "Test RMSE: 0.681\n"
     ]
    },
    {
     "data": {
      "image/png": "[encoded data removed]",
      "text/plain": [
       "<Figure size 640x480 with 1 Axes>"
      ]
     },
     "metadata": {},
     "output_type": "display_data"
    }
   ],
   "source": [
    "import torch\n",
    "import torch.nn as nn\n",
    "import torch.optim as optim\n",
    "from torch.utils.data import DataLoader, TensorDataset\n",
    "from lightning.pytorch.callbacks import ModelCheckpoint, EarlyStopping, TQDMProgressBar\n",
    "import lightning.pytorch as pl\n",
    "from torch.optim import AdamW\n",
    "from torch.optim.lr_scheduler import CosineAnnealingLR, ReduceLROnPlateau\n",
    "\n",
    "# Convert Pandas DataFrame to PyTorch Tensor\n",
    "X_train_tensor = torch.FloatTensor(X_train)\n",
    "y_train_tensor = torch.FloatTensor(y_train)\n",
    "X_test_tensor = torch.FloatTensor(X_test)\n",
    "y_test_tensor = torch.FloatTensor(y_test)\n",
    "\n",
    "# Create DataLoader\n",
    "train_dataset = TensorDataset(X_train_tensor, y_train_tensor)\n",
    "train_loader = DataLoader(train_dataset, batch_size=config['train_bs'], shuffle=False)\n",
    "\n",
    "test_dataset = TensorDataset(X_test_tensor, y_test_tensor)\n",
    "test_loader = DataLoader(test_dataset, batch_size=config['valid_bs'], shuffle=False)\n",
    "\n",
    "def quantile_loss(preds, targets, alpha=0.05):\n",
    "    errors = targets - preds\n",
    "    \n",
    "    lower_quantile = torch.max((alpha - 1) * errors, alpha * errors).mean()\n",
    "    upper_quantile = torch.max(((1 - alpha) - 1) * errors, (1 - alpha) * errors).mean()\n",
    "    \n",
    "    return lower_quantile + upper_quantile\n",
    "\n",
    "\n",
    "\n",
    "# Define Neural Network\n",
    "class LightningModule(pl.LightningModule):\n",
    "    def __init__(self, input_dim, output_dim):\n",
    "        super().__init__()\n",
    "        self.config = config\n",
    "        self.layer1 = nn.Linear(input_dim, input_dim*2)\n",
    "        self.layer2 = nn.Linear(input_dim*2, input_dim*2)\n",
    "        # self.layer3 = nn.Linear(input_dim, input_dim)\n",
    "        # self.layer4 = nn.Linear(input_dim, input_dim)\n",
    "        self.layer5 = nn.Linear(input_dim*2, output_dim)\n",
    "        # self.relu = nn.ReLU()\n",
    "        self.relu = nn.LeakyReLU(0.3)\n",
    "        # self.dropout = nn.Dropout(p=0.2)\n",
    "        self.loss = nn.MSELoss()\n",
    "\n",
    "    def forward(self, x):\n",
    "        x = self.relu(self.layer1(x))\n",
    "        # x = self.dropout(x)\n",
    "        x = self.relu(self.layer2(x))\n",
    "        # x = self.dropout(x)\n",
    "        x = self.relu(self.layer3(x))\n",
    "        # x = self.dropout(x)\n",
    "        x = self.relu(self.layer4(x))\n",
    "        # x = self.dropout(x)\n",
    "        x = self.layer5(x)\n",
    "        return x\n",
    "\n",
    "    def configure_optimizers(self):\n",
    "        optimizer = AdamW(self.parameters())\n",
    "\n",
    "        if self.config['model'][\"scheduler\"][\"name\"] == \"CosineAnnealingLR\":\n",
    "            scheduler = CosineAnnealingLR(\n",
    "                optimizer,\n",
    "                **self.config['model'][\"scheduler\"][\"params\"][self.config['model'][\"scheduler\"][\"name\"]],\n",
    "            )\n",
    "            lr_scheduler_dict = {\"scheduler\": scheduler, \"interval\": \"step\"}\n",
    "            return {\"optimizer\": optimizer, \"lr_scheduler\": lr_scheduler_dict}\n",
    "        elif self.config['model'][\"scheduler\"][\"name\"] == \"ReduceLROnPlateau\":\n",
    "            scheduler = ReduceLROnPlateau(\n",
    "                optimizer,\n",
    "                **self.config['model'][\"scheduler\"][\"params\"][self.config['model'][\"scheduler\"][\"name\"]],\n",
    "            )\n",
    "            lr_scheduler = {\"scheduler\": scheduler, \"monitor\": \"val_loss\"}\n",
    "            return {\"optimizer\": optimizer, \"lr_scheduler\": lr_scheduler}\n",
    "\n",
    "    def training_step(self, batch, batch_idx):\n",
    "        x, y = batch\n",
    "        y_hat = self.forward(x)\n",
    "        loss = self.loss(y_hat, y)\n",
    "        self.log(\"train_loss\", loss, on_step=False, on_epoch=True, prog_bar=True)\n",
    "        for param_group in self.trainer.optimizers[0].param_groups:\n",
    "            lr = param_group[\"lr\"]\n",
    "        self.log(\"lr\", lr, on_step=False, on_epoch=True, prog_bar=True)\n",
    "        logs = {\"train_loss\": loss, \"lr\": lr}\n",
    "        return {\"loss\": loss, \"log\": logs}\n",
    "\n",
    "    def validation_step(self, batch, batch_idx):\n",
    "        x, y = batch\n",
    "        y_hat = self.forward(x)\n",
    "        loss = self.loss(y_hat, y)\n",
    "        self.log(\"val_loss\", loss, on_epoch=True, prog_bar=True)\n",
    "        return {\"val_loss\": loss}\n",
    "\n",
    "\n",
    "early_stop_callback = EarlyStopping(monitor=\"val_loss\", mode=\"min\", patience=8, verbose=1)\n",
    "progress_bar_callback = TQDMProgressBar(refresh_rate=config[\"progress_bar_refresh_rate\"])\n",
    "checkpoint_callback = ModelCheckpoint(\n",
    "    monitor=\"val_loss\",\n",
    "    mode=\"min\",\n",
    "    save_top_k=1,\n",
    "    verbose=1,\n",
    "    dirpath=config[\"output_dir\"],\n",
    "    filename=\"best_model\",\n",
    ")\n",
    "\n",
    "from lightning.pytorch.loggers import TensorBoardLogger\n",
    "\n",
    "logger = TensorBoardLogger(\"tb_logs\", name=\"my_model\")\n",
    "\n",
    "trainer = pl.Trainer(\n",
    "        callbacks=[early_stop_callback, progress_bar_callback, checkpoint_callback],\n",
    "         logger=logger, **config[\"trainer\"]\n",
    "    )\n",
    "\n",
    "# Train the model\n",
    "model = LightningModule(X_train.shape[1], y_train.shape[1])\n",
    "trainer.fit(model, train_loader, test_loader)\n",
    "\n",
    "# Test the model\n",
    "model.eval()\n",
    "y_pred = model(X_test_tensor)\n",
    "y_pred = y_pred.detach().numpy()\n",
    "y_pred = scalery.inverse_transform(y_pred)\n",
    "\n",
    "# Evaluate the model\n",
    "from sklearn.metrics import mean_squared_error\n",
    "from math import sqrt\n",
    "\n",
    "# unscale the data\n",
    "y_test = scalery.inverse_transform(y_test)\n",
    "\n",
    "rmse = sqrt(mean_squared_error(y_test, y_pred))\n",
    "print('Test RMSE: %.3f' % rmse)\n",
    "\n",
    "# Plot the results\n",
    "import matplotlib.pyplot as plt\n",
    "\n",
    "plt.plot(y_test, label='Actual')\n",
    "plt.plot(y_pred, label='Predicted')\n",
    "plt.legend()\n",
    "plt.show()\n",
    "\n",
    "\n",
    "from pathlib import Path\n",
    "# Save results\n",
    "results_file = Path('results.csv')\n",
    "results_df = pd.DataFrame(\n",
    "    {\n",
    "        'Model': 'Neural Network',\n",
    "        'Training RMSE': trainer.logged_metrics['train_loss'].item(),\n",
    "        'Validation RMSE': rmse,\n",
    "        'Iterations': trainer.global_step,\n",
    "        'Learning Rate': config['model']['optimizer_params']['lr'],\n",
    "        'Depth': [X_train.shape[1], 64, 64, y_train.shape[1]],\n",
    "        'Loss Function': 'MSE',\n",
    "        'Features': ', '.join(cols),\n",
    "    }\n",
    ")\n",
    "\n",
    "if results_file.exists():\n",
    "    existing_df = pd.read_csv(results_file)\n",
    "    results_df = pd.concat([existing_df, results_df])\n",
    "\n",
    "results_df.to_csv(results_file, index=False)"
   ]
  },
  {
   "cell_type": "code",
   "execution_count": null,
   "metadata": {},
   "outputs": [
    {
     "data": {
      "text/plain": [
       "{'val_loss': tensor(0.0067),\n",
       " 'train_loss': tensor(0.0096),\n",
       " 'lr': tensor(0.0005)}"
      ]
     },
     "execution_count": 5,
     "metadata": {},
     "output_type": "execute_result"
    }
   ],
   "source": [
    "trainer.logged_metrics"
   ]
  },
  {
   "cell_type": "code",
   "execution_count": null,
   "metadata": {},
   "outputs": [
    {
     "data": {
      "text/plain": [
       "<matplotlib.collections.PathCollection at 0x2e5e96690>"
      ]
     },
     "execution_count": 5,
     "metadata": {},
     "output_type": "execute_result"
    },
    {
     "data": {
      "image/png": "[encoded data removed]",
      "text/plain": [
       "<Figure size 640x480 with 1 Axes>"
      ]
     },
     "metadata": {},
     "output_type": "display_data"
    }
   ],
   "source": [
    "plt.scatter(y_test, y_pred)"
   ]
  },
  {
   "cell_type": "code",
   "execution_count": null,
   "metadata": {},
   "outputs": [],
   "source": [
    "# load the best checkpoint\n",
    "state_dict = torch.load(f'{config[\"output_dir\"]}/best_model.ckpt')\n",
    "model = LightningModule(X_train.shape[1], y_train.shape[1])\n",
    "model.load_state_dict(state_dict['state_dict'])\n",
    "\n",
    "# save the model\n",
    "torch.save(model.state_dict(), f'{config[\"output_dir\"]}/nn483.pt')"
   ]
  },
  {
   "cell_type": "code",
   "execution_count": 7,
   "metadata": {},
   "outputs": [
    {
     "ename": "NameError",
     "evalue": "name 'torch' is not defined",
     "output_type": "error",
     "traceback": [
      "\u001b[0;31m---------------------------------------------------------------------------\u001b[0m",
      "\u001b[0;31mNameError\u001b[0m                                 Traceback (most recent call last)",
      "Cell \u001b[0;32mIn[7], line 2\u001b[0m\n\u001b[1;32m      1\u001b[0m \u001b[38;5;66;03m# load the model and make predictions\u001b[39;00m\n\u001b[0;32m----> 2\u001b[0m state_dict \u001b[38;5;241m=\u001b[39m \u001b[43mtorch\u001b[49m\u001b[38;5;241m.\u001b[39mload(\u001b[38;5;124mf\u001b[39m\u001b[38;5;124m'\u001b[39m\u001b[38;5;132;01m{\u001b[39;00mconfig[\u001b[38;5;124m\"\u001b[39m\u001b[38;5;124moutput_dir\u001b[39m\u001b[38;5;124m\"\u001b[39m]\u001b[38;5;132;01m}\u001b[39;00m\u001b[38;5;124m/best_model.ckpt\u001b[39m\u001b[38;5;124m'\u001b[39m)\n\u001b[1;32m      3\u001b[0m model \u001b[38;5;241m=\u001b[39m LightningModule(X_train\u001b[38;5;241m.\u001b[39mshape[\u001b[38;5;241m1\u001b[39m], y_train\u001b[38;5;241m.\u001b[39mshape[\u001b[38;5;241m1\u001b[39m])\n\u001b[1;32m      4\u001b[0m model\u001b[38;5;241m.\u001b[39mload_state_dict(state_dict[\u001b[38;5;124m'\u001b[39m\u001b[38;5;124mstate_dict\u001b[39m\u001b[38;5;124m'\u001b[39m])\n",
      "\u001b[0;31mNameError\u001b[0m: name 'torch' is not defined"
     ]
    }
   ],
   "source": [
    "# load the model and make predictions\n",
    "state_dict = torch.load(f'{config[\"output_dir\"]}/best_model.ckpt')\n",
    "model = LightningModule(X_train.shape[1], y_train.shape[1])\n",
    "model.load_state_dict(state_dict['state_dict'])\n",
    "model.eval()\n",
    "y_pred = model(X_test_tensor)\n",
    "y_pred = y_pred.detach().numpy()\n",
    "y_pred = scaler.inverse_transform(y_pred)\n",
    "rmse = sqrt(mean_squared_error(y_test, y_pred))\n",
    "print('Test RMSE: %.3f' % rmse)"
   ]
  },
  {
   "cell_type": "code",
   "execution_count": null,
   "metadata": {},
   "outputs": [
    {
     "data": {
      "text/plain": [
       "[<matplotlib.lines.Line2D at 0x33093be90>]"
      ]
     },
     "execution_count": 11,
     "metadata": {},
     "output_type": "execute_result"
    },
    {
     "data": {
      "image/png": "[encoded data removed]",
      "text/plain": [
       "<Figure size 640x480 with 1 Axes>"
      ]
     },
     "metadata": {},
     "output_type": "display_data"
    }
   ],
   "source": [
    "plt.plot(y_test, label='Actual')\n",
    "plt.plot(y_pred, label='Predicted')"
   ]
  },
  {
   "cell_type": "code",
   "execution_count": null,
   "metadata": {},
   "outputs": [],
   "source": [
    "class LightningModule(pl.LightningModule):\n",
    "    def __init__(self, input_dim, output_dim):\n",
    "        super().__init__()\n",
    "        self.config = config\n",
    "        self.layer1 = nn.Linear(input_dim, input_dim*2)\n",
    "        self.layer2 = nn.Linear(input_dim*2, input_dim*2)\n",
    "        self.layer3 = nn.Linear(input_dim*2, output_dim)\n",
    "        # self.relu = nn.ReLU()\n",
    "        self.relu = nn.LeakyReLU(0.3)\n",
    "        # self.dropout = nn.Dropout(p=0.2)\n",
    "        self.loss = nn.MSELoss()\n",
    "\n",
    "    def forward(self, x):\n",
    "        x = self.relu(self.layer1(x))\n",
    "        # x = self.dropout(x)\n",
    "        x = self.relu(self.layer2(x))\n",
    "        # x = self.dropout(x)\n",
    "        x = self.layer3(x)\n",
    "        return x\n",
    "\n",
    "    def configure_optimizers(self):\n",
    "        optimizer = AdamW(self.parameters())\n",
    "\n",
    "        if self.config['model'][\"scheduler\"][\"name\"] == \"CosineAnnealingLR\":\n",
    "            scheduler = CosineAnnealingLR(\n",
    "                optimizer,\n",
    "                **self.config['model'][\"scheduler\"][\"params\"][self.config['model'][\"scheduler\"][\"name\"]],\n",
    "            )\n",
    "            lr_scheduler_dict = {\"scheduler\": scheduler, \"interval\": \"step\"}\n",
    "            return {\"optimizer\": optimizer, \"lr_scheduler\": lr_scheduler_dict}\n",
    "        elif self.config['model'][\"scheduler\"][\"name\"] == \"ReduceLROnPlateau\":\n",
    "            scheduler = ReduceLROnPlateau(\n",
    "                optimizer,\n",
    "                **self.config['model'][\"scheduler\"][\"params\"][self.config['model'][\"scheduler\"][\"name\"]],\n",
    "            )\n",
    "            lr_scheduler = {\"scheduler\": scheduler, \"monitor\": \"val_loss\"}\n",
    "            return {\"optimizer\": optimizer, \"lr_scheduler\": lr_scheduler}\n",
    "\n",
    "    def training_step(self, batch, batch_idx):\n",
    "        x, y = batch\n",
    "        y_hat = self.forward(x)\n",
    "        loss = self.loss(y_hat, y)\n",
    "        self.log(\"train_loss\", loss, on_step=False, on_epoch=True, prog_bar=True)\n",
    "        for param_group in self.trainer.optimizers[0].param_groups:\n",
    "            lr = param_group[\"lr\"]\n",
    "        self.log(\"lr\", lr, on_step=False, on_epoch=True, prog_bar=True)\n",
    "        logs = {\"train_loss\": loss, \"lr\": lr}\n",
    "        return {\"loss\": loss, \"log\": logs}\n",
    "\n",
    "    def validation_step(self, batch, batch_idx):\n",
    "        x, y = batch\n",
    "        y_hat = self.forward(x)\n",
    "        loss = self.loss(y_hat, y)\n",
    "        self.log(\"val_loss\", loss, on_epoch=True, prog_bar=True)\n",
    "        return {\"val_loss\": loss}"
   ]
  },
  {
   "cell_type": "code",
   "execution_count": null,
   "metadata": {},
   "outputs": [],
   "source": []
  }
 ],
 "metadata": {
  "kernelspec": {
   "display_name": "hacakthon",
   "language": "python",
   "name": "python3"
  },
  "language_info": {
   "codemirror_mode": {
    "name": "ipython",
    "version": 3
   },
   "file_extension": ".py",
   "mimetype": "text/x-python",
   "name": "python",
   "nbconvert_exporter": "python",
   "pygments_lexer": "ipython3",
   "version": "3.10.12"
  },
  "orig_nbformat": 4
 },
 "nbformat": 4,
 "nbformat_minor": 2
}
