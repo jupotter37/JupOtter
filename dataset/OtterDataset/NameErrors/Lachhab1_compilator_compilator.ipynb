{
 "cells": [
  {
   "cell_type": "markdown",
   "metadata": {},
   "source": [
    "# Analyseur d'expressions mathématiques\n",
    "Implémentation d'un analyseur lexical et syntaxique pour évaluer les expressions mathématiques avec parenthèses"
   ]
  },
  {
   "cell_type": "code",
   "execution_count": 2,
   "metadata": {},
   "outputs": [],
   "source": [
    "import re\n",
    "\n",
    "class MathLexer:\n",
    "    # Règles lexicales adaptées pour les expressions mathématiques\n",
    "    rules = [\n",
    "        (\"NUMBER\", r\"\\d+(\\.\\d+)?\"),        # Nombres entiers ou décimaux\n",
    "        (\"PLUS\", r\"\\+\"),                   # Addition\n",
    "        (\"MINUS\", r\"-\"),                   # Soustraction\n",
    "        (\"MULTIPLY\", r\"\\*\"),               # Multiplication\n",
    "        (\"DIVIDE\", r\"/\"),                  # Division\n",
    "        (\"LPAREN\", r\"\\(\"),                 # Parenthèse ouvrante\n",
    "        (\"RPAREN\", r\"\\)\"),                 # Parenthèse fermante\n",
    "        (\"WHITESPACE\", r\"[ \\t]+\"),         # Espaces (à ignorer)\n",
    "    ]\n",
    "\n",
    "    def __init__(self):\n",
    "        self.tokens = []\n",
    "\n",
    "    def tokenize(self, text):\n",
    "        position = 0\n",
    "        while position < len(text):\n",
    "            match = None\n",
    "            for token_name, token_regex in self.rules:\n",
    "                regex = re.compile(token_regex)\n",
    "                match = regex.match(text, position)\n",
    "                if match:\n",
    "                    value = match.group(0)\n",
    "                    if token_name != \"WHITESPACE\":  # On ignore les espaces\n",
    "                        self.tokens.append((token_name, value))\n",
    "                    position += len(value)\n",
    "                    break\n",
    "            if not match:\n",
    "                raise ValueError(f\"Erreur lexicale : caractère inattendu '{text[position]}'\")\n",
    "        return self.tokens"
   ]
  },
  {
   "cell_type": "code",
   "execution_count": 2,
   "metadata": {},
   "outputs": [],
   "source": [
    "class MathParser:\n",
    "    def __init__(self, tokens):\n",
    "        self.tokens = tokens\n",
    "        self.current_index = 0\n",
    "\n",
    "    def current_token(self):\n",
    "        if self.current_index < len(self.tokens):\n",
    "            return self.tokens[self.current_index]\n",
    "        return None\n",
    "\n",
    "    def advance(self):\n",
    "        self.current_index += 1\n",
    "\n",
    "    def match(self, token_type):\n",
    "        token = self.current_token()\n",
    "        if token and token[0] == token_type:\n",
    "            self.advance()\n",
    "            return token[1]\n",
    "        return None\n",
    "\n",
    "    def parse(self):\n",
    "        return self.parse_expression()\n",
    "\n",
    "    def parse_expression(self):\n",
    "        result = self.parse_term()\n",
    "        \n",
    "        while True:\n",
    "            token = self.current_token()\n",
    "            if not token:\n",
    "                break\n",
    "                \n",
    "            if token[0] == \"PLUS\":\n",
    "                self.advance()\n",
    "                result += self.parse_term()\n",
    "            elif token[0] == \"MINUS\":\n",
    "                self.advance()\n",
    "                result -= self.parse_term()\n",
    "            else:\n",
    "                break\n",
    "                \n",
    "        return result\n",
    "\n",
    "    def parse_term(self):\n",
    "        result = self.parse_factor()\n",
    "        \n",
    "        while True:\n",
    "            token = self.current_token()\n",
    "            if not token:\n",
    "                break\n",
    "                \n",
    "            if token[0] == \"MULTIPLY\":\n",
    "                self.advance()\n",
    "                result *= self.parse_factor()\n",
    "            elif token[0] == \"DIVIDE\":\n",
    "                self.advance()\n",
    "                divisor = self.parse_factor()\n",
    "                if divisor == 0:\n",
    "                    raise ValueError(\"Division par zéro\")\n",
    "                result /= divisor\n",
    "            else:\n",
    "                break\n",
    "                \n",
    "        return result\n",
    "\n",
    "    def parse_factor(self):\n",
    "        token = self.current_token()\n",
    "        \n",
    "        if not token:\n",
    "            raise SyntaxError(\"Expression incomplète\")\n",
    "            \n",
    "        if token[0] == \"NUMBER\":\n",
    "            self.advance()\n",
    "            return float(token[1])\n",
    "        elif token[0] == \"LPAREN\":\n",
    "            self.advance()\n",
    "            result = self.parse_expression()\n",
    "            if not self.match(\"RPAREN\"):\n",
    "                raise SyntaxError(\"Parenthèse fermante manquante\")\n",
    "            return result\n",
    "        else:\n",
    "            raise SyntaxError(f\"Token inattendu : {token[0]}\")"
   ]
  },
  {
   "cell_type": "code",
   "execution_count": 3,
   "metadata": {},
   "outputs": [],
   "source": [
    "def evaluate_expression(expression):\n",
    "    try:\n",
    "        lexer = MathLexer()\n",
    "        tokens = lexer.tokenize(expression)\n",
    "        parser = MathParser(tokens)\n",
    "        result = parser.parse()\n",
    "        return result\n",
    "    except Exception as e:\n",
    "        return f\"Erreur : {str(e)}\""
   ]
  },
  {
   "cell_type": "markdown",
   "metadata": {},
   "source": [
    "## Tests de l'analyseur"
   ]
  },
  {
   "cell_type": "code",
   "execution_count": 3,
   "metadata": {},
   "outputs": [
    {
     "name": "stdout",
     "output_type": "stream",
     "text": [
      "Tests des expressions mathématiques :\n"
     ]
    },
    {
     "ename": "NameError",
     "evalue": "name 'evaluate_expression' is not defined",
     "output_type": "error",
     "traceback": [
      "\u001b[0;31m---------------------------------------------------------------------------\u001b[0m",
      "\u001b[0;31mNameError\u001b[0m                                 Traceback (most recent call last)",
      "Cell \u001b[0;32mIn[3], line 13\u001b[0m\n\u001b[1;32m     11\u001b[0m \u001b[38;5;28mprint\u001b[39m(\u001b[38;5;124m\"\u001b[39m\u001b[38;5;124mTests des expressions mathématiques :\u001b[39m\u001b[38;5;124m\"\u001b[39m)\n\u001b[1;32m     12\u001b[0m \u001b[38;5;28;01mfor\u001b[39;00m expr \u001b[38;5;129;01min\u001b[39;00m test_expressions:\n\u001b[0;32m---> 13\u001b[0m     result \u001b[38;5;241m=\u001b[39m \u001b[43mevaluate_expression\u001b[49m(expr)\n\u001b[1;32m     14\u001b[0m     \u001b[38;5;28mprint\u001b[39m(\u001b[38;5;124mf\u001b[39m\u001b[38;5;124m\"\u001b[39m\u001b[38;5;132;01m{\u001b[39;00mexpr\u001b[38;5;132;01m}\u001b[39;00m\u001b[38;5;124m = \u001b[39m\u001b[38;5;132;01m{\u001b[39;00mresult\u001b[38;5;132;01m}\u001b[39;00m\u001b[38;5;124m\"\u001b[39m)\n",
      "\u001b[0;31mNameError\u001b[0m: name 'evaluate_expression' is not defined"
     ]
    }
   ],
   "source": [
    "# Tests avec différentes expressions\n",
    "test_expressions = [\n",
    "    \"5 + ( 2 * ( 8 - 3 ) )\",\n",
    "    \"10 * (2 + 3)\",\n",
    "    \"((15 / 3) + 2) * 4\",\n",
    "    \"1 + 2 * 3\",\n",
    "    \"5 + (2 * 8 - 3)\",\n",
    "    \"(7 + 3) * (2 + 4)\",\n",
    "]\n",
    "\n",
    "print(\"Tests des expressions mathématiques :\")\n",
    "for expr in test_expressions:\n",
    "    result = evaluate_expression(expr)\n",
    "    print(f\"{expr} = {result}\")"
   ]
  },
  {
   "cell_type": "code",
   "execution_count": null,
   "metadata": {},
   "outputs": [],
   "source": []
  },
  {
   "cell_type": "code",
   "execution_count": 4,
   "metadata": {},
   "outputs": [
    {
     "ename": "NameError",
     "evalue": "name 'evaluate_expression' is not defined",
     "output_type": "error",
     "traceback": [
      "\u001b[0;31m---------------------------------------------------------------------------\u001b[0m",
      "\u001b[0;31mNameError\u001b[0m                                 Traceback (most recent call last)",
      "Cell \u001b[0;32mIn[4], line 1\u001b[0m\n\u001b[0;32m----> 1\u001b[0m result \u001b[38;5;241m=\u001b[39m \u001b[43mevaluate_expression\u001b[49m(\u001b[38;5;124m\"\u001b[39m\u001b[38;5;124m5 + (2 * 3)\u001b[39m\u001b[38;5;124m\"\u001b[39m)\n\u001b[1;32m      2\u001b[0m \u001b[38;5;28mprint\u001b[39m(result)\n",
      "\u001b[0;31mNameError\u001b[0m: name 'evaluate_expression' is not defined"
     ]
    }
   ],
   "source": [
    "result = evaluate_expression(\"5 + (2 * 3)\")\n",
    "print(result)"
   ]
  },
  {
   "cell_type": "code",
   "execution_count": null,
   "metadata": {},
   "outputs": [],
   "source": []
  }
 ],
 "metadata": {
  "kernelspec": {
   "display_name": "Python 3 (ipykernel)",
   "language": "python",
   "name": "python3"
  },
  "language_info": {
   "codemirror_mode": {
    "name": "ipython",
    "version": 3
   },
   "file_extension": ".py",
   "mimetype": "text/x-python",
   "name": "python",
   "nbconvert_exporter": "python",
   "pygments_lexer": "ipython3",
   "version": "3.13.1"
  }
 },
 "nbformat": 4,
 "nbformat_minor": 4
}
