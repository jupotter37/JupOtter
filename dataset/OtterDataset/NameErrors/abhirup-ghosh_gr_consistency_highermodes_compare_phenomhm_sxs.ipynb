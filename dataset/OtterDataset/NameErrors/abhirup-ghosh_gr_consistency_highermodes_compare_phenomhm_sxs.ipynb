{
 "cells": [
  {
   "cell_type": "code",
   "execution_count": 2,
   "metadata": {},
   "outputs": [
    {
     "name": "stderr",
     "output_type": "stream",
     "text": [
      "/home/sumitk/src/pycbc/local/lib/python2.7/site-packages/matplotlib/__init__.py:1401: UserWarning:  This call to matplotlib.use() has no effect\n",
      "because the backend has already been chosen;\n",
      "matplotlib.use() must be called *before* pylab, matplotlib.pyplot,\n",
      "or matplotlib.backends is imported for the first time.\n",
      "\n",
      "  warnings.warn(_use_error_msg)\n"
     ]
    }
   ],
   "source": [
    "import numpy as np\n",
    "import matplotlib.pyplot as plt\n",
    "import sys\n",
    "sys.path.append('/home/ajit.mehta/Ajit_work/phenom_hh/src/')\n",
    "sys.path.append('../src/')\n",
    "import template_22 as phhsi\n",
    "from pycbc  import  detector"
   ]
  },
  {
   "cell_type": "code",
   "execution_count": 3,
   "metadata": {},
   "outputs": [],
   "source": [
    "def lnlike(param_vec, data, freq, psd, f_low, f_cut):\n",
    "        \"\"\"\n",
    "        compute the log likelihood\n",
    "        \n",
    "        inputs: \n",
    "        param_vec : vector of parameters \n",
    "        dr, di, \n",
    "        freq : Fourier freq \n",
    "        psd : psd vector \n",
    "        flow,fcut\n",
    "        \n",
    "        output: \n",
    "        log_likelhood \n",
    "        \"\"\"\n",
    "        df = np.mean(np.diff(freq))\n",
    "\n",
    "        N_low=np.int((f_low-freq[0])/df)\n",
    "        N_cut=np.int((f_cut-freq[0])/df)\n",
    "\n",
    "        Nls=np.int(f_low/df)  #N_low_signal\n",
    "        Ncs=np.int(f_cut/df)  #N_cut_signal\n",
    "\n",
    "        # unpacking the parameter vector \n",
    "        Mc, q, dL, i, t0, phi0, ra, sin_dec, pol = param_vec\n",
    "\n",
    "        # generate the waveform \n",
    "        f, hpf, hcf = phhsi.phenomhh_waveform_SI(Mc, q, dL, i, t0, (phi0 %(2.*np.pi)), f_low, df, Ncs)\n",
    "\n",
    "        # compute antenna patterns \n",
    "        Fp,Fc = detector.overhead_antenna_pattern(ra, np.arcsin(sin_dec), pol)\n",
    "\n",
    "        signal=Fp*hpf+Fc*hcf\n",
    "\n",
    "        like = -2.*df*np.real(np.dot(data[N_low:N_cut]-signal[Nls:Ncs],np.conj((data[N_low:N_cut]-signal[Nls:Ncs])/psd[N_low:N_cut])))\n",
    "\n",
    "        return like#log-likelihood\n",
    "    \n",
    "def lnprior(param_vec):\n",
    "        Mc, q, dL, i, t0, phi_0, ra, sin_dec, pol = param_vec\n",
    "        if 1 < Mc < 200 and 0.05 < q <= 1. and  1.<dL<10000 and 0.<= i <= pi and -15.<= t0 <= 15. and -pi <= phi_0 <= 3.*pi and 0. <= ra < 2.*pi and -1. <= sin_dec <= 1. and 0. <= pol <= pi:\n",
    "                return 2.*np.log(dL)+np.log(np.sin(i))\n",
    "        return -np.inf\n",
    "\n",
    "def lnprob(param_vec):\n",
    "        lp = lnprior(param_vec)\n",
    "        if not np.isfinite(lp):\n",
    "                return -np.inf\n",
    "        return lp + lnlike(param_vec, data, freq, psd, f_low, f_cut)"
   ]
  },
  {
   "cell_type": "code",
   "execution_count": 4,
   "metadata": {},
   "outputs": [
    {
     "ename": "IOError",
     "evalue": "[Errno 2] No such file or directory: '../injections/nsbh_sxs_20181209/BBH_M_140.00_iota_0.000_pol_0.000_t0_0_data.dat'",
     "output_type": "error",
     "traceback": [
      "\u001b[0;31m---------------------------------------------------------------------------\u001b[0m",
      "\u001b[0;31mIOError\u001b[0m                                   Traceback (most recent call last)",
      "\u001b[0;32m<ipython-input-4-5d9680a6cbdb>\u001b[0m in \u001b[0;36m<module>\u001b[0;34m()\u001b[0m\n\u001b[1;32m      1\u001b[0m \u001b[0;31m#data\u001b[0m\u001b[0;34m\u001b[0m\u001b[0;34m\u001b[0m\u001b[0m\n\u001b[0;32m----> 2\u001b[0;31m \u001b[0mfreq\u001b[0m\u001b[0;34m,\u001b[0m \u001b[0mdr\u001b[0m\u001b[0;34m,\u001b[0m \u001b[0mdi\u001b[0m\u001b[0;34m,\u001b[0m \u001b[0mpsd\u001b[0m \u001b[0;34m=\u001b[0m \u001b[0mnp\u001b[0m\u001b[0;34m.\u001b[0m\u001b[0mloadtxt\u001b[0m\u001b[0;34m(\u001b[0m\u001b[0;34m'../injections/nsbh_sxs_20181209/BBH_M_140.00_iota_0.000_pol_0.000_t0_0_data.dat'\u001b[0m\u001b[0;34m,\u001b[0m \u001b[0munpack\u001b[0m\u001b[0;34m=\u001b[0m\u001b[0mTrue\u001b[0m\u001b[0;34m)\u001b[0m\u001b[0;34m\u001b[0m\u001b[0m\n\u001b[0m\u001b[1;32m      3\u001b[0m \u001b[0mdata\u001b[0m \u001b[0;34m=\u001b[0m \u001b[0mdr\u001b[0m \u001b[0;34m+\u001b[0m \u001b[0;36m1j\u001b[0m\u001b[0;34m*\u001b[0m\u001b[0mdi\u001b[0m\u001b[0;34m\u001b[0m\u001b[0m\n\u001b[1;32m      4\u001b[0m \u001b[0;34m\u001b[0m\u001b[0m\n\u001b[1;32m      5\u001b[0m \u001b[0;31m#best-fit phenom_hm waveform\u001b[0m\u001b[0;34m\u001b[0m\u001b[0;34m\u001b[0m\u001b[0m\n",
      "\u001b[0;32m/home/sumitk/src/pycbc/local/lib/python2.7/site-packages/numpy/lib/npyio.pyc\u001b[0m in \u001b[0;36mloadtxt\u001b[0;34m(fname, dtype, comments, delimiter, converters, skiprows, usecols, unpack, ndmin)\u001b[0m\n\u001b[1;32m    856\u001b[0m                 \u001b[0mfh\u001b[0m \u001b[0;34m=\u001b[0m \u001b[0miter\u001b[0m\u001b[0;34m(\u001b[0m\u001b[0mbz2\u001b[0m\u001b[0;34m.\u001b[0m\u001b[0mBZ2File\u001b[0m\u001b[0;34m(\u001b[0m\u001b[0mfname\u001b[0m\u001b[0;34m)\u001b[0m\u001b[0;34m)\u001b[0m\u001b[0;34m\u001b[0m\u001b[0m\n\u001b[1;32m    857\u001b[0m             \u001b[0;32melif\u001b[0m \u001b[0msys\u001b[0m\u001b[0;34m.\u001b[0m\u001b[0mversion_info\u001b[0m\u001b[0;34m[\u001b[0m\u001b[0;36m0\u001b[0m\u001b[0;34m]\u001b[0m \u001b[0;34m==\u001b[0m \u001b[0;36m2\u001b[0m\u001b[0;34m:\u001b[0m\u001b[0;34m\u001b[0m\u001b[0m\n\u001b[0;32m--> 858\u001b[0;31m                 \u001b[0mfh\u001b[0m \u001b[0;34m=\u001b[0m \u001b[0miter\u001b[0m\u001b[0;34m(\u001b[0m\u001b[0mopen\u001b[0m\u001b[0;34m(\u001b[0m\u001b[0mfname\u001b[0m\u001b[0;34m,\u001b[0m \u001b[0;34m'U'\u001b[0m\u001b[0;34m)\u001b[0m\u001b[0;34m)\u001b[0m\u001b[0;34m\u001b[0m\u001b[0m\n\u001b[0m\u001b[1;32m    859\u001b[0m             \u001b[0;32melse\u001b[0m\u001b[0;34m:\u001b[0m\u001b[0;34m\u001b[0m\u001b[0m\n\u001b[1;32m    860\u001b[0m                 \u001b[0mfh\u001b[0m \u001b[0;34m=\u001b[0m \u001b[0miter\u001b[0m\u001b[0;34m(\u001b[0m\u001b[0mopen\u001b[0m\u001b[0;34m(\u001b[0m\u001b[0mfname\u001b[0m\u001b[0;34m)\u001b[0m\u001b[0;34m)\u001b[0m\u001b[0;34m\u001b[0m\u001b[0m\n",
      "\u001b[0;31mIOError\u001b[0m: [Errno 2] No such file or directory: '../injections/nsbh_sxs_20181209/BBH_M_140.00_iota_0.000_pol_0.000_t0_0_data.dat'"
     ]
    }
   ],
   "source": [
    "#data\n",
    "freq, dr, di, psd = np.loadtxt('../injections/nsbh_sxs_20181209/BBH_M_140.00_iota_0.000_pol_0.000_t0_0_data.dat', unpack=True)\n",
    "data = dr + 1j*di\n",
    "\n",
    "#best-fit phenom_hm waveform\n",
    "\n",
    "#parameters corresponding to best-fit phenom_hm waveform\n",
    "mc_inj, q_inj, dL_inj, iota_inj, t0_inj, phi0_inj, ra_inj, sin_dec_inj, pol_inj = np.loadtxt('../injections/nsbh_sxs_20181209/BBH_M_140.00_iota_0.000_pol_0.000_t0_0_initial.dat', unpack=True)\n",
    "\n",
    "f_low = 20.\n",
    "f_cut = 999.\n",
    "df = np.mean(np.diff(freq))\n",
    "Ncs=np.int(f_cut/df)\n",
    "f, hpf, hcf = phhsi.phenomhh_waveform_SI(mc_inj, q_inj, dL_inj, iota_inj, t0_inj, (phi0_inj %(2.*np.pi)), f_low, df, Ncs)\n",
    "Fp,Fc = detector.overhead_antenna_pattern(ra_inj, np.arcsin(sin_dec_inj), pol_inj)\n",
    "best_fit_signal=Fp*hpf+Fc*hcf\n",
    "\n",
    "plt.figure(figsize=(10,5))\n",
    "plt.subplot(121)\n",
    "plt.loglog(freq, abs(data), label='SXS')\n",
    "plt.loglog(f, abs(best_fit_signal), label='phenomhm')\n",
    "plt.loglog(freq, np.sqrt(psd), label='PSD')\n",
    "plt.xlim([f_low, 128.])\n",
    "plt.ylim([1e-24, 1e-22])\n",
    "plt.legend(loc='best')\n",
    "plt.subplot(122)\n",
    "plt.title('zoomed-out')\n",
    "plt.loglog(freq, abs(data))\n",
    "plt.loglog(f, abs(best_fit_signal))\n",
    "plt.loglog(freq, np.sqrt(psd))\n",
    "plt.ylim([1e-30, 1e-21])\n",
    "plt.show()\n",
    "\n",
    "plt.figure(figsize=(10,5))\n",
    "plt.subplot(121)\n",
    "plt.loglog(freq, np.real(data), label='SXS', alpha=0.5)\n",
    "plt.loglog(f, np.imag(best_fit_signal), label='phenomhm', alpha=0.5)\n",
    "plt.ylabel('real(hf)')\n",
    "plt.ylim([1e-27, 1e-22])\n",
    "plt.xlim([f_low, 128])\n",
    "plt.legend(loc='best')\n",
    "plt.subplot(122)\n",
    "plt.loglog(freq, np.imag(data), label='SXS', alpha=0.5)\n",
    "plt.loglog(f, np.real(best_fit_signal), label='phenomhm', alpha=0.5)\n",
    "plt.ylim([1e-27, 1e-22])\n",
    "plt.xlim([f_low, 128])\n",
    "plt.ylabel('imag(hf)')\n",
    "plt.show()"
   ]
  },
  {
   "cell_type": "code",
   "execution_count": 5,
   "metadata": {},
   "outputs": [
    {
     "ename": "NameError",
     "evalue": "name 'mc_inj' is not defined",
     "output_type": "error",
     "traceback": [
      "\u001b[0;31m---------------------------------------------------------------------------\u001b[0m",
      "\u001b[0;31mNameError\u001b[0m                                 Traceback (most recent call last)",
      "\u001b[0;32m<ipython-input-5-3ace300e052e>\u001b[0m in \u001b[0;36m<module>\u001b[0;34m()\u001b[0m\n\u001b[1;32m      8\u001b[0m     \u001b[0mparam_range\u001b[0m \u001b[0;34m=\u001b[0m \u001b[0mparam_range_map\u001b[0m\u001b[0;34m[\u001b[0m\u001b[0mparam\u001b[0m\u001b[0;34m]\u001b[0m\u001b[0;34m\u001b[0m\u001b[0m\n\u001b[1;32m      9\u001b[0m     \u001b[0;32mfor\u001b[0m \u001b[0mx\u001b[0m \u001b[0;32min\u001b[0m \u001b[0mparam_range\u001b[0m\u001b[0;34m:\u001b[0m\u001b[0;34m\u001b[0m\u001b[0m\n\u001b[0;32m---> 10\u001b[0;31m         \u001b[0mparam_vec\u001b[0m \u001b[0;34m=\u001b[0m \u001b[0mmc_inj\u001b[0m\u001b[0;34m,\u001b[0m \u001b[0mq_inj\u001b[0m\u001b[0;34m,\u001b[0m \u001b[0mdL_inj\u001b[0m\u001b[0;34m,\u001b[0m \u001b[0miota_inj\u001b[0m\u001b[0;34m,\u001b[0m \u001b[0mt0_inj\u001b[0m\u001b[0;34m,\u001b[0m \u001b[0mphi0_inj\u001b[0m\u001b[0;34m,\u001b[0m \u001b[0mra_inj\u001b[0m\u001b[0;34m,\u001b[0m \u001b[0msin_dec_inj\u001b[0m\u001b[0;34m,\u001b[0m \u001b[0mpol_inj\u001b[0m\u001b[0;34m\u001b[0m\u001b[0m\n\u001b[0m\u001b[1;32m     11\u001b[0m         \u001b[0mparam_vec\u001b[0m \u001b[0;34m=\u001b[0m \u001b[0mlist\u001b[0m\u001b[0;34m(\u001b[0m\u001b[0mparam_vec\u001b[0m\u001b[0;34m)\u001b[0m\u001b[0;34m\u001b[0m\u001b[0m\n\u001b[1;32m     12\u001b[0m         \u001b[0mparam_vec\u001b[0m\u001b[0;34m[\u001b[0m\u001b[0midx\u001b[0m\u001b[0;34m]\u001b[0m \u001b[0;34m=\u001b[0m \u001b[0mx\u001b[0m\u001b[0;34m\u001b[0m\u001b[0m\n",
      "\u001b[0;31mNameError\u001b[0m: name 'mc_inj' is not defined"
     ]
    }
   ],
   "source": [
    "param_set = ['mc','q']\n",
    "lnlike_data_map = {'mc':[],'q':[]}\n",
    "lnlike_bfs_map = {'mc':[],'q':[]}\n",
    "param_range_map = {'mc':np.linspace(35,45,50),'q':np.linspace(0.1,0.2,50)}\n",
    "\n",
    "plt.figure(figsize=(10,5))\n",
    "for (idx, param) in enumerate(param_set):\n",
    "    param_range = param_range_map[param]\n",
    "    for x in param_range:\n",
    "        param_vec = mc_inj, q_inj, dL_inj, iota_inj, t0_inj, phi0_inj, ra_inj, sin_dec_inj, pol_inj\n",
    "        param_vec = list(param_vec)\n",
    "        param_vec[idx] = x\n",
    "        param_vec = tuple(param_vec)\n",
    "        lnlike_data_map[param].append(lnlike(param_vec, data, freq, psd, f_low, f_cut))\n",
    "        lnlike_bfs_map[param].append(lnlike(param_vec, best_fit_signal, f, psd, f_low, f_cut))\n",
    "    plt.subplot(1,2,idx+1)\n",
    "    plt.plot(param_range_map[param], lnlike_data_map[param])\n",
    "    plt.plot(param_range_map[param], lnlike_bfs_map[param])\n",
    "    plt.xlabel(param)\n",
    "    plt.ylabel('lnlike')\n",
    "    \n",
    "plt.show()    "
   ]
  },
  {
   "cell_type": "code",
   "execution_count": null,
   "metadata": {},
   "outputs": [],
   "source": []
  },
  {
   "cell_type": "code",
   "execution_count": null,
   "metadata": {},
   "outputs": [],
   "source": []
  }
 ],
 "metadata": {
  "kernelspec": {
   "display_name": "Python 2",
   "language": "python",
   "name": "python2"
  },
  "language_info": {
   "codemirror_mode": {
    "name": "ipython",
    "version": 2
   },
   "file_extension": ".py",
   "mimetype": "text/x-python",
   "name": "python",
   "nbconvert_exporter": "python",
   "pygments_lexer": "ipython2",
   "version": "2.7.9"
  }
 },
 "nbformat": 4,
 "nbformat_minor": 2
}
