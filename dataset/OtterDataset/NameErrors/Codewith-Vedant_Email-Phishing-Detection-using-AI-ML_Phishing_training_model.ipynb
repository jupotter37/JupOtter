{
 "cells": [
  {
   "cell_type": "code",
   "execution_count": 1,
   "id": "7617ff7b-e79a-4c18-b333-3c3129f4cfd5",
   "metadata": {},
   "outputs": [],
   "source": [
    "import pandas as pd\n",
    "import numpy as np"
   ]
  },
  {
   "cell_type": "code",
   "execution_count": 2,
   "id": "4cdd75ce-bb2c-4849-a77f-37300d7689bb",
   "metadata": {},
   "outputs": [],
   "source": [
    "df = pd.read_csv(\"data/destination.csv\", usecols = ['subject','body','label'],low_memory=False)"
   ]
  },
  {
   "cell_type": "code",
   "execution_count": 3,
   "id": "b91ebf7c-004d-40fa-b80e-2792720f329d",
   "metadata": {},
   "outputs": [
    {
     "data": {
      "text/html": [
       "<div>\n",
       "<style scoped>\n",
       "    .dataframe tbody tr th:only-of-type {\n",
       "        vertical-align: middle;\n",
       "    }\n",
       "\n",
       "    .dataframe tbody tr th {\n",
       "        vertical-align: top;\n",
       "    }\n",
       "\n",
       "    .dataframe thead th {\n",
       "        text-align: right;\n",
       "    }\n",
       "</style>\n",
       "<table border=\"1\" class=\"dataframe\">\n",
       "  <thead>\n",
       "    <tr style=\"text-align: right;\">\n",
       "      <th></th>\n",
       "      <th>subject</th>\n",
       "      <th>body</th>\n",
       "      <th>label</th>\n",
       "    </tr>\n",
       "  </thead>\n",
       "  <tbody>\n",
       "    <tr>\n",
       "      <th>0</th>\n",
       "      <td>Never agree to be a loser</td>\n",
       "      <td>Buck up, your troubles caused by small dimensi...</td>\n",
       "      <td>1</td>\n",
       "    </tr>\n",
       "    <tr>\n",
       "      <th>1</th>\n",
       "      <td>Befriend Jenna Jameson</td>\n",
       "      <td>\\nUpgrade your sex and pleasures with these te...</td>\n",
       "      <td>1</td>\n",
       "    </tr>\n",
       "    <tr>\n",
       "      <th>2</th>\n",
       "      <td>CNN.com Daily Top 10</td>\n",
       "      <td>&gt;+=+=+=+=+=+=+=+=+=+=+=+=+=+=+=+=+=+=+=+=+=+=+...</td>\n",
       "      <td>1</td>\n",
       "    </tr>\n",
       "    <tr>\n",
       "      <th>3</th>\n",
       "      <td>Re: svn commit: r619753 - in /spamassassin/tru...</td>\n",
       "      <td>Would anyone object to removing .so from this ...</td>\n",
       "      <td>0</td>\n",
       "    </tr>\n",
       "    <tr>\n",
       "      <th>4</th>\n",
       "      <td>SpecialPricesPharmMoreinfo</td>\n",
       "      <td>\\nWelcomeFastShippingCustomerSupport\\nhttp://7...</td>\n",
       "      <td>1</td>\n",
       "    </tr>\n",
       "    <tr>\n",
       "      <th>...</th>\n",
       "      <td>...</td>\n",
       "      <td>...</td>\n",
       "      <td>...</td>\n",
       "    </tr>\n",
       "    <tr>\n",
       "      <th>171180</th>\n",
       "      <td>Job: just for you.</td>\n",
       "      <td>\\n\\n\\n\\nWhile      we  may       have    high ...</td>\n",
       "      <td>1</td>\n",
       "    </tr>\n",
       "    <tr>\n",
       "      <th>171181</th>\n",
       "      <td>the reply for your request for a job place [le...</td>\n",
       "      <td>\\n\\n\\n\\nWhile     we       may    have high   ...</td>\n",
       "      <td>1</td>\n",
       "    </tr>\n",
       "    <tr>\n",
       "      <th>171182</th>\n",
       "      <td>Re: [R] Me again, about the horrible documenta...</td>\n",
       "      <td>For those who are interested, I just cook a li...</td>\n",
       "      <td>0</td>\n",
       "    </tr>\n",
       "    <tr>\n",
       "      <th>171183</th>\n",
       "      <td>Re: [R] RODBC problem</td>\n",
       "      <td>Hello,\\n\\nas I wrote I call\\n\\n  sqlFetch(chan...</td>\n",
       "      <td>0</td>\n",
       "    </tr>\n",
       "    <tr>\n",
       "      <th>171184</th>\n",
       "      <td>I wanted the desk at his own laws: of the.  Bu...</td>\n",
       "      <td>Well, are implicated.  When does not the stage...</td>\n",
       "      <td>1</td>\n",
       "    </tr>\n",
       "  </tbody>\n",
       "</table>\n",
       "<p>171185 rows × 3 columns</p>\n",
       "</div>"
      ],
      "text/plain": [
       "                                                  subject  \\\n",
       "0                               Never agree to be a loser   \n",
       "1                                  Befriend Jenna Jameson   \n",
       "2                                    CNN.com Daily Top 10   \n",
       "3       Re: svn commit: r619753 - in /spamassassin/tru...   \n",
       "4                              SpecialPricesPharmMoreinfo   \n",
       "...                                                   ...   \n",
       "171180                                 Job: just for you.   \n",
       "171181  the reply for your request for a job place [le...   \n",
       "171182  Re: [R] Me again, about the horrible documenta...   \n",
       "171183                              Re: [R] RODBC problem   \n",
       "171184  I wanted the desk at his own laws: of the.  Bu...   \n",
       "\n",
       "                                                     body label  \n",
       "0       Buck up, your troubles caused by small dimensi...     1  \n",
       "1       \\nUpgrade your sex and pleasures with these te...     1  \n",
       "2       >+=+=+=+=+=+=+=+=+=+=+=+=+=+=+=+=+=+=+=+=+=+=+...     1  \n",
       "3       Would anyone object to removing .so from this ...     0  \n",
       "4       \\nWelcomeFastShippingCustomerSupport\\nhttp://7...     1  \n",
       "...                                                   ...   ...  \n",
       "171180  \\n\\n\\n\\nWhile      we  may       have    high ...     1  \n",
       "171181  \\n\\n\\n\\nWhile     we       may    have high   ...     1  \n",
       "171182  For those who are interested, I just cook a li...     0  \n",
       "171183  Hello,\\n\\nas I wrote I call\\n\\n  sqlFetch(chan...     0  \n",
       "171184  Well, are implicated.  When does not the stage...     1  \n",
       "\n",
       "[171185 rows x 3 columns]"
      ]
     },
     "execution_count": 3,
     "metadata": {},
     "output_type": "execute_result"
    }
   ],
   "source": [
    "df"
   ]
  },
  {
   "cell_type": "code",
   "execution_count": 4,
   "id": "9c0065ef-0d7b-440f-8ae0-e2797221512b",
   "metadata": {},
   "outputs": [
    {
     "data": {
      "text/plain": [
       "subject    2780\n",
       "body        634\n",
       "label       786\n",
       "dtype: int64"
      ]
     },
     "execution_count": 4,
     "metadata": {},
     "output_type": "execute_result"
    }
   ],
   "source": [
    "df.isnull().sum()#data empty values"
   ]
  },
  {
   "cell_type": "code",
   "execution_count": 5,
   "id": "7e408f45-b342-4aed-a942-0ff4e9385e58",
   "metadata": {},
   "outputs": [
    {
     "name": "stdout",
     "output_type": "stream",
     "text": [
      "       subject                                               body label\n",
      "1800       NaN  Pattern Recognition Contest (PRC)\\nSender: wbl...     0\n",
      "2104       NaN  \\n\\n\\n\\n\\nGoing beyond the Words: Translations...     1\n",
      "2352       NaN  Hi\\n\\nPlease do Brothers and Sisters for your ...     0\n",
      "3677       NaN  Hmm!! Slight problem!\\n\\nI indicated a whtieli...     0\n",
      "5940       NaN   Be with me and over 2.100.000 gamers playing ...     1\n",
      "...        ...                                                ...   ...\n",
      "170978     NaN  The aristocratic families of course and lighti...     1\n",
      "171001     NaN  for ; Tue, 11 Jul 2006 12:31:06 -0400 Received...     1\n",
      "171023     NaN  When I want us from first, chief name of unive...     1\n",
      "171099     NaN  for ; Tue, 11 Jul 2006 12:31:06 -0400 Received...     1\n",
      "171171     NaN  for ; Tue, 11 Jul 2006 12:31:06 -0400 Received...     1\n",
      "\n",
      "[2937 rows x 3 columns]\n"
     ]
    }
   ],
   "source": [
    "# df is your DataFrame\n",
    "missing_data = df[df.isnull().any(axis=1)]\n",
    "\n",
    "# Display the rows with missing values\n",
    "print(missing_data)"
   ]
  },
  {
   "cell_type": "code",
   "execution_count": 6,
   "id": "a57d5726-864b-45f7-989a-f8cfce11c7b1",
   "metadata": {},
   "outputs": [
    {
     "data": {
      "text/html": [
       "<div>\n",
       "<style scoped>\n",
       "    .dataframe tbody tr th:only-of-type {\n",
       "        vertical-align: middle;\n",
       "    }\n",
       "\n",
       "    .dataframe tbody tr th {\n",
       "        vertical-align: top;\n",
       "    }\n",
       "\n",
       "    .dataframe thead th {\n",
       "        text-align: right;\n",
       "    }\n",
       "</style>\n",
       "<table border=\"1\" class=\"dataframe\">\n",
       "  <thead>\n",
       "    <tr style=\"text-align: right;\">\n",
       "      <th></th>\n",
       "      <th>subject</th>\n",
       "      <th>body</th>\n",
       "      <th>label</th>\n",
       "    </tr>\n",
       "  </thead>\n",
       "  <tbody>\n",
       "    <tr>\n",
       "      <th>0</th>\n",
       "      <td>Never agree to be a loser</td>\n",
       "      <td>Buck up, your troubles caused by small dimensi...</td>\n",
       "      <td>1</td>\n",
       "    </tr>\n",
       "    <tr>\n",
       "      <th>1</th>\n",
       "      <td>Befriend Jenna Jameson</td>\n",
       "      <td>\\nUpgrade your sex and pleasures with these te...</td>\n",
       "      <td>1</td>\n",
       "    </tr>\n",
       "    <tr>\n",
       "      <th>2</th>\n",
       "      <td>CNN.com Daily Top 10</td>\n",
       "      <td>&gt;+=+=+=+=+=+=+=+=+=+=+=+=+=+=+=+=+=+=+=+=+=+=+...</td>\n",
       "      <td>1</td>\n",
       "    </tr>\n",
       "    <tr>\n",
       "      <th>3</th>\n",
       "      <td>Re: svn commit: r619753 - in /spamassassin/tru...</td>\n",
       "      <td>Would anyone object to removing .so from this ...</td>\n",
       "      <td>0</td>\n",
       "    </tr>\n",
       "    <tr>\n",
       "      <th>4</th>\n",
       "      <td>SpecialPricesPharmMoreinfo</td>\n",
       "      <td>\\nWelcomeFastShippingCustomerSupport\\nhttp://7...</td>\n",
       "      <td>1</td>\n",
       "    </tr>\n",
       "    <tr>\n",
       "      <th>...</th>\n",
       "      <td>...</td>\n",
       "      <td>...</td>\n",
       "      <td>...</td>\n",
       "    </tr>\n",
       "    <tr>\n",
       "      <th>171180</th>\n",
       "      <td>Job: just for you.</td>\n",
       "      <td>\\n\\n\\n\\nWhile      we  may       have    high ...</td>\n",
       "      <td>1</td>\n",
       "    </tr>\n",
       "    <tr>\n",
       "      <th>171181</th>\n",
       "      <td>the reply for your request for a job place [le...</td>\n",
       "      <td>\\n\\n\\n\\nWhile     we       may    have high   ...</td>\n",
       "      <td>1</td>\n",
       "    </tr>\n",
       "    <tr>\n",
       "      <th>171182</th>\n",
       "      <td>Re: [R] Me again, about the horrible documenta...</td>\n",
       "      <td>For those who are interested, I just cook a li...</td>\n",
       "      <td>0</td>\n",
       "    </tr>\n",
       "    <tr>\n",
       "      <th>171183</th>\n",
       "      <td>Re: [R] RODBC problem</td>\n",
       "      <td>Hello,\\n\\nas I wrote I call\\n\\n  sqlFetch(chan...</td>\n",
       "      <td>0</td>\n",
       "    </tr>\n",
       "    <tr>\n",
       "      <th>171184</th>\n",
       "      <td>I wanted the desk at his own laws: of the.  Bu...</td>\n",
       "      <td>Well, are implicated.  When does not the stage...</td>\n",
       "      <td>1</td>\n",
       "    </tr>\n",
       "  </tbody>\n",
       "</table>\n",
       "<p>168248 rows × 3 columns</p>\n",
       "</div>"
      ],
      "text/plain": [
       "                                                  subject  \\\n",
       "0                               Never agree to be a loser   \n",
       "1                                  Befriend Jenna Jameson   \n",
       "2                                    CNN.com Daily Top 10   \n",
       "3       Re: svn commit: r619753 - in /spamassassin/tru...   \n",
       "4                              SpecialPricesPharmMoreinfo   \n",
       "...                                                   ...   \n",
       "171180                                 Job: just for you.   \n",
       "171181  the reply for your request for a job place [le...   \n",
       "171182  Re: [R] Me again, about the horrible documenta...   \n",
       "171183                              Re: [R] RODBC problem   \n",
       "171184  I wanted the desk at his own laws: of the.  Bu...   \n",
       "\n",
       "                                                     body label  \n",
       "0       Buck up, your troubles caused by small dimensi...     1  \n",
       "1       \\nUpgrade your sex and pleasures with these te...     1  \n",
       "2       >+=+=+=+=+=+=+=+=+=+=+=+=+=+=+=+=+=+=+=+=+=+=+...     1  \n",
       "3       Would anyone object to removing .so from this ...     0  \n",
       "4       \\nWelcomeFastShippingCustomerSupport\\nhttp://7...     1  \n",
       "...                                                   ...   ...  \n",
       "171180  \\n\\n\\n\\nWhile      we  may       have    high ...     1  \n",
       "171181  \\n\\n\\n\\nWhile     we       may    have high   ...     1  \n",
       "171182  For those who are interested, I just cook a li...     0  \n",
       "171183  Hello,\\n\\nas I wrote I call\\n\\n  sqlFetch(chan...     0  \n",
       "171184  Well, are implicated.  When does not the stage...     1  \n",
       "\n",
       "[168248 rows x 3 columns]"
      ]
     },
     "execution_count": 6,
     "metadata": {},
     "output_type": "execute_result"
    }
   ],
   "source": [
    "df.dropna()"
   ]
  },
  {
   "cell_type": "code",
   "execution_count": 7,
   "id": "be2a3c9a-af88-4f84-8974-6409bb929ae8",
   "metadata": {},
   "outputs": [
    {
     "data": {
      "text/html": [
       "<div>\n",
       "<style scoped>\n",
       "    .dataframe tbody tr th:only-of-type {\n",
       "        vertical-align: middle;\n",
       "    }\n",
       "\n",
       "    .dataframe tbody tr th {\n",
       "        vertical-align: top;\n",
       "    }\n",
       "\n",
       "    .dataframe thead th {\n",
       "        text-align: right;\n",
       "    }\n",
       "</style>\n",
       "<table border=\"1\" class=\"dataframe\">\n",
       "  <thead>\n",
       "    <tr style=\"text-align: right;\">\n",
       "      <th></th>\n",
       "      <th>subject</th>\n",
       "      <th>body</th>\n",
       "      <th>label</th>\n",
       "    </tr>\n",
       "  </thead>\n",
       "  <tbody>\n",
       "    <tr>\n",
       "      <th>0</th>\n",
       "      <td>Never agree to be a loser</td>\n",
       "      <td>Buck up, your troubles caused by small dimensi...</td>\n",
       "      <td>1</td>\n",
       "    </tr>\n",
       "    <tr>\n",
       "      <th>1</th>\n",
       "      <td>Befriend Jenna Jameson</td>\n",
       "      <td>\\nUpgrade your sex and pleasures with these te...</td>\n",
       "      <td>1</td>\n",
       "    </tr>\n",
       "    <tr>\n",
       "      <th>2</th>\n",
       "      <td>CNN.com Daily Top 10</td>\n",
       "      <td>&gt;+=+=+=+=+=+=+=+=+=+=+=+=+=+=+=+=+=+=+=+=+=+=+...</td>\n",
       "      <td>1</td>\n",
       "    </tr>\n",
       "    <tr>\n",
       "      <th>3</th>\n",
       "      <td>Re: svn commit: r619753 - in /spamassassin/tru...</td>\n",
       "      <td>Would anyone object to removing .so from this ...</td>\n",
       "      <td>0</td>\n",
       "    </tr>\n",
       "    <tr>\n",
       "      <th>4</th>\n",
       "      <td>SpecialPricesPharmMoreinfo</td>\n",
       "      <td>\\nWelcomeFastShippingCustomerSupport\\nhttp://7...</td>\n",
       "      <td>1</td>\n",
       "    </tr>\n",
       "    <tr>\n",
       "      <th>...</th>\n",
       "      <td>...</td>\n",
       "      <td>...</td>\n",
       "      <td>...</td>\n",
       "    </tr>\n",
       "    <tr>\n",
       "      <th>171180</th>\n",
       "      <td>Job: just for you.</td>\n",
       "      <td>\\n\\n\\n\\nWhile      we  may       have    high ...</td>\n",
       "      <td>1</td>\n",
       "    </tr>\n",
       "    <tr>\n",
       "      <th>171181</th>\n",
       "      <td>the reply for your request for a job place [le...</td>\n",
       "      <td>\\n\\n\\n\\nWhile     we       may    have high   ...</td>\n",
       "      <td>1</td>\n",
       "    </tr>\n",
       "    <tr>\n",
       "      <th>171182</th>\n",
       "      <td>Re: [R] Me again, about the horrible documenta...</td>\n",
       "      <td>For those who are interested, I just cook a li...</td>\n",
       "      <td>0</td>\n",
       "    </tr>\n",
       "    <tr>\n",
       "      <th>171183</th>\n",
       "      <td>Re: [R] RODBC problem</td>\n",
       "      <td>Hello,\\n\\nas I wrote I call\\n\\n  sqlFetch(chan...</td>\n",
       "      <td>0</td>\n",
       "    </tr>\n",
       "    <tr>\n",
       "      <th>171184</th>\n",
       "      <td>I wanted the desk at his own laws: of the.  Bu...</td>\n",
       "      <td>Well, are implicated.  When does not the stage...</td>\n",
       "      <td>1</td>\n",
       "    </tr>\n",
       "  </tbody>\n",
       "</table>\n",
       "<p>170399 rows × 3 columns</p>\n",
       "</div>"
      ],
      "text/plain": [
       "                                                  subject  \\\n",
       "0                               Never agree to be a loser   \n",
       "1                                  Befriend Jenna Jameson   \n",
       "2                                    CNN.com Daily Top 10   \n",
       "3       Re: svn commit: r619753 - in /spamassassin/tru...   \n",
       "4                              SpecialPricesPharmMoreinfo   \n",
       "...                                                   ...   \n",
       "171180                                 Job: just for you.   \n",
       "171181  the reply for your request for a job place [le...   \n",
       "171182  Re: [R] Me again, about the horrible documenta...   \n",
       "171183                              Re: [R] RODBC problem   \n",
       "171184  I wanted the desk at his own laws: of the.  Bu...   \n",
       "\n",
       "                                                     body label  \n",
       "0       Buck up, your troubles caused by small dimensi...     1  \n",
       "1       \\nUpgrade your sex and pleasures with these te...     1  \n",
       "2       >+=+=+=+=+=+=+=+=+=+=+=+=+=+=+=+=+=+=+=+=+=+=+...     1  \n",
       "3       Would anyone object to removing .so from this ...     0  \n",
       "4       \\nWelcomeFastShippingCustomerSupport\\nhttp://7...     1  \n",
       "...                                                   ...   ...  \n",
       "171180  \\n\\n\\n\\nWhile      we  may       have    high ...     1  \n",
       "171181  \\n\\n\\n\\nWhile     we       may    have high   ...     1  \n",
       "171182  For those who are interested, I just cook a li...     0  \n",
       "171183  Hello,\\n\\nas I wrote I call\\n\\n  sqlFetch(chan...     0  \n",
       "171184  Well, are implicated.  When does not the stage...     1  \n",
       "\n",
       "[170399 rows x 3 columns]"
      ]
     },
     "execution_count": 7,
     "metadata": {},
     "output_type": "execute_result"
    }
   ],
   "source": [
    "df.dropna(subset=['label'])"
   ]
  },
  {
   "cell_type": "code",
   "execution_count": 8,
   "id": "61175b0a-28f5-46cf-b416-926c880a31a3",
   "metadata": {},
   "outputs": [
    {
     "name": "stdout",
     "output_type": "stream",
     "text": [
      "                                                  subject                                               body label\n",
      "0                               Never agree to be a loser  Buck up, your troubles caused by small dimensi...     1\n",
      "1                                  Befriend Jenna Jameson  \\nUpgrade your sex and pleasures with these te...     1\n",
      "2                                    CNN.com Daily Top 10  >+=+=+=+=+=+=+=+=+=+=+=+=+=+=+=+=+=+=+=+=+=+=+...     1\n",
      "3       Re: svn commit: r619753 - in /spamassassin/tru...  Would anyone object to removing .so from this ...     0\n",
      "4                              SpecialPricesPharmMoreinfo  \\nWelcomeFastShippingCustomerSupport\\nhttp://7...     1\n",
      "...                                                   ...                                                ...   ...\n",
      "171180                                 Job: just for you.  \\n\\n\\n\\nWhile      we  may       have    high ...     1\n",
      "171181  the reply for your request for a job place [le...  \\n\\n\\n\\nWhile     we       may    have high   ...     1\n",
      "171182  Re: [R] Me again, about the horrible documenta...  For those who are interested, I just cook a li...     0\n",
      "171183                              Re: [R] RODBC problem  Hello,\\n\\nas I wrote I call\\n\\n  sqlFetch(chan...     0\n",
      "171184  I wanted the desk at his own laws: of the.  Bu...  Well, are implicated.  When does not the stage...     1\n",
      "\n",
      "[170399 rows x 3 columns]\n"
     ]
    }
   ],
   "source": [
    "# Remove all rows where the 'label' column has null values\n",
    "df_cleaned = df.dropna(subset=['label'])\n",
    "\n",
    "# Adjust the display settings to show all columns in one row\n",
    "pd.set_option('display.max_columns', None)  # Display all columns\n",
    "pd.set_option('display.width', 1000)  # Set a wide display width to fit all columns\n",
    "\n",
    "# Display the cleaned DataFrame\n",
    "print(df_cleaned)"
   ]
  },
  {
   "cell_type": "code",
   "execution_count": 9,
   "id": "4a48b438-e485-4a20-a4d4-8d32615471ce",
   "metadata": {},
   "outputs": [
    {
     "name": "stdout",
     "output_type": "stream",
     "text": [
      "                                                  subject                                               body label\n",
      "0                               Never agree to be a loser  Buck up, your troubles caused by small dimensi...     1\n",
      "1                                  Befriend Jenna Jameson  \\nUpgrade your sex and pleasures with these te...     1\n",
      "2                                    CNN.com Daily Top 10  >+=+=+=+=+=+=+=+=+=+=+=+=+=+=+=+=+=+=+=+=+=+=+...     1\n",
      "3       Re: svn commit: r619753 - in /spamassassin/tru...  Would anyone object to removing .so from this ...     0\n",
      "4                              SpecialPricesPharmMoreinfo  \\nWelcomeFastShippingCustomerSupport\\nhttp://7...     1\n",
      "...                                                   ...                                                ...   ...\n",
      "171180                                 Job: just for you.  \\n\\n\\n\\nWhile      we  may       have    high ...     1\n",
      "171181  the reply for your request for a job place [le...  \\n\\n\\n\\nWhile     we       may    have high   ...     1\n",
      "171182  Re: [R] Me again, about the horrible documenta...  For those who are interested, I just cook a li...     0\n",
      "171183                              Re: [R] RODBC problem  Hello,\\n\\nas I wrote I call\\n\\n  sqlFetch(chan...     0\n",
      "171184  I wanted the desk at his own laws: of the.  Bu...  Well, are implicated.  When does not the stage...     1\n",
      "\n",
      "[170399 rows x 3 columns]\n"
     ]
    }
   ],
   "source": [
    "# Adjust the display settings to show all columns in one row\n",
    "pd.set_option('display.max_columns', None)  # Display all columns\n",
    "pd.set_option('display.width', 1000)  # Set a wide display width to fit all columns\n",
    "print(df.dropna(subset=['label']))\n"
   ]
  },
  {
   "cell_type": "code",
   "execution_count": 10,
   "id": "9f480c61-b9f8-4c80-b5fd-5f49328e6a81",
   "metadata": {},
   "outputs": [
    {
     "data": {
      "text/plain": [
       "subject    2148\n",
       "body          3\n",
       "label         0\n",
       "dtype: int64"
      ]
     },
     "execution_count": 10,
     "metadata": {},
     "output_type": "execute_result"
    }
   ],
   "source": [
    "df11 = df.dropna(subset=['label'])\n",
    "df11.isnull().sum()"
   ]
  },
  {
   "cell_type": "code",
   "execution_count": 11,
   "id": "bf0107be-9e05-405e-8ab3-b560d8d1b171",
   "metadata": {},
   "outputs": [
    {
     "data": {
      "text/html": [
       "<div>\n",
       "<style scoped>\n",
       "    .dataframe tbody tr th:only-of-type {\n",
       "        vertical-align: middle;\n",
       "    }\n",
       "\n",
       "    .dataframe tbody tr th {\n",
       "        vertical-align: top;\n",
       "    }\n",
       "\n",
       "    .dataframe thead th {\n",
       "        text-align: right;\n",
       "    }\n",
       "</style>\n",
       "<table border=\"1\" class=\"dataframe\">\n",
       "  <thead>\n",
       "    <tr style=\"text-align: right;\">\n",
       "      <th></th>\n",
       "      <th>subject</th>\n",
       "      <th>body</th>\n",
       "      <th>label</th>\n",
       "    </tr>\n",
       "  </thead>\n",
       "  <tbody>\n",
       "    <tr>\n",
       "      <th>0</th>\n",
       "      <td>Never agree to be a loser</td>\n",
       "      <td>Buck up, your troubles caused by small dimensi...</td>\n",
       "      <td>1</td>\n",
       "    </tr>\n",
       "    <tr>\n",
       "      <th>1</th>\n",
       "      <td>Befriend Jenna Jameson</td>\n",
       "      <td>\\nUpgrade your sex and pleasures with these te...</td>\n",
       "      <td>1</td>\n",
       "    </tr>\n",
       "    <tr>\n",
       "      <th>2</th>\n",
       "      <td>CNN.com Daily Top 10</td>\n",
       "      <td>&gt;+=+=+=+=+=+=+=+=+=+=+=+=+=+=+=+=+=+=+=+=+=+=+...</td>\n",
       "      <td>1</td>\n",
       "    </tr>\n",
       "    <tr>\n",
       "      <th>3</th>\n",
       "      <td>Re: svn commit: r619753 - in /spamassassin/tru...</td>\n",
       "      <td>Would anyone object to removing .so from this ...</td>\n",
       "      <td>0</td>\n",
       "    </tr>\n",
       "    <tr>\n",
       "      <th>4</th>\n",
       "      <td>SpecialPricesPharmMoreinfo</td>\n",
       "      <td>\\nWelcomeFastShippingCustomerSupport\\nhttp://7...</td>\n",
       "      <td>1</td>\n",
       "    </tr>\n",
       "    <tr>\n",
       "      <th>...</th>\n",
       "      <td>...</td>\n",
       "      <td>...</td>\n",
       "      <td>...</td>\n",
       "    </tr>\n",
       "    <tr>\n",
       "      <th>171180</th>\n",
       "      <td>Job: just for you.</td>\n",
       "      <td>\\n\\n\\n\\nWhile      we  may       have    high ...</td>\n",
       "      <td>1</td>\n",
       "    </tr>\n",
       "    <tr>\n",
       "      <th>171181</th>\n",
       "      <td>the reply for your request for a job place [le...</td>\n",
       "      <td>\\n\\n\\n\\nWhile     we       may    have high   ...</td>\n",
       "      <td>1</td>\n",
       "    </tr>\n",
       "    <tr>\n",
       "      <th>171182</th>\n",
       "      <td>Re: [R] Me again, about the horrible documenta...</td>\n",
       "      <td>For those who are interested, I just cook a li...</td>\n",
       "      <td>0</td>\n",
       "    </tr>\n",
       "    <tr>\n",
       "      <th>171183</th>\n",
       "      <td>Re: [R] RODBC problem</td>\n",
       "      <td>Hello,\\n\\nas I wrote I call\\n\\n  sqlFetch(chan...</td>\n",
       "      <td>0</td>\n",
       "    </tr>\n",
       "    <tr>\n",
       "      <th>171184</th>\n",
       "      <td>I wanted the desk at his own laws: of the.  Bu...</td>\n",
       "      <td>Well, are implicated.  When does not the stage...</td>\n",
       "      <td>1</td>\n",
       "    </tr>\n",
       "  </tbody>\n",
       "</table>\n",
       "<p>170399 rows × 3 columns</p>\n",
       "</div>"
      ],
      "text/plain": [
       "                                                  subject                                               body label\n",
       "0                               Never agree to be a loser  Buck up, your troubles caused by small dimensi...     1\n",
       "1                                  Befriend Jenna Jameson  \\nUpgrade your sex and pleasures with these te...     1\n",
       "2                                    CNN.com Daily Top 10  >+=+=+=+=+=+=+=+=+=+=+=+=+=+=+=+=+=+=+=+=+=+=+...     1\n",
       "3       Re: svn commit: r619753 - in /spamassassin/tru...  Would anyone object to removing .so from this ...     0\n",
       "4                              SpecialPricesPharmMoreinfo  \\nWelcomeFastShippingCustomerSupport\\nhttp://7...     1\n",
       "...                                                   ...                                                ...   ...\n",
       "171180                                 Job: just for you.  \\n\\n\\n\\nWhile      we  may       have    high ...     1\n",
       "171181  the reply for your request for a job place [le...  \\n\\n\\n\\nWhile     we       may    have high   ...     1\n",
       "171182  Re: [R] Me again, about the horrible documenta...  For those who are interested, I just cook a li...     0\n",
       "171183                              Re: [R] RODBC problem  Hello,\\n\\nas I wrote I call\\n\\n  sqlFetch(chan...     0\n",
       "171184  I wanted the desk at his own laws: of the.  Bu...  Well, are implicated.  When does not the stage...     1\n",
       "\n",
       "[170399 rows x 3 columns]"
      ]
     },
     "execution_count": 11,
     "metadata": {},
     "output_type": "execute_result"
    }
   ],
   "source": [
    "df11"
   ]
  },
  {
   "cell_type": "code",
   "execution_count": 12,
   "id": "88b4a044-fc9e-4504-9655-453a7d2123b2",
   "metadata": {},
   "outputs": [
    {
     "name": "stdout",
     "output_type": "stream",
     "text": [
      "       subject                                               body label\n",
      "1800       NaN  Pattern Recognition Contest (PRC)\\nSender: wbl...     0\n",
      "2104       NaN  \\n\\n\\n\\n\\nGoing beyond the Words: Translations...     1\n",
      "2352       NaN  Hi\\n\\nPlease do Brothers and Sisters for your ...     0\n",
      "3677       NaN  Hmm!! Slight problem!\\n\\nI indicated a whtieli...     0\n",
      "5940       NaN   Be with me and over 2.100.000 gamers playing ...     1\n",
      "...        ...                                                ...   ...\n",
      "170978     NaN  The aristocratic families of course and lighti...     1\n",
      "171001     NaN  for ; Tue, 11 Jul 2006 12:31:06 -0400 Received...     1\n",
      "171023     NaN  When I want us from first, chief name of unive...     1\n",
      "171099     NaN  for ; Tue, 11 Jul 2006 12:31:06 -0400 Received...     1\n",
      "171171     NaN  for ; Tue, 11 Jul 2006 12:31:06 -0400 Received...     1\n",
      "\n",
      "[2148 rows x 3 columns]\n"
     ]
    }
   ],
   "source": [
    "# Filter the DataFrame to show only rows where the 'subject' column is empty\n",
    "empty_subject_df = df11[df11['subject'].isna() | (df11['subject'] == '')]\n",
    "\n",
    "# Display the filtered DataFrame\n",
    "print(empty_subject_df)\n"
   ]
  },
  {
   "cell_type": "code",
   "execution_count": 13,
   "id": "9b6084ad-4f81-4414-905a-99efcdd4e40a",
   "metadata": {},
   "outputs": [
    {
     "name": "stdout",
     "output_type": "stream",
     "text": [
      "                                                  subject                                               body label\n",
      "0                               Never agree to be a loser  Buck up, your troubles caused by small dimensi...     1\n",
      "1                                  Befriend Jenna Jameson  \\nUpgrade your sex and pleasures with these te...     1\n",
      "2                                    CNN.com Daily Top 10  >+=+=+=+=+=+=+=+=+=+=+=+=+=+=+=+=+=+=+=+=+=+=+...     1\n",
      "3       Re: svn commit: r619753 - in /spamassassin/tru...  Would anyone object to removing .so from this ...     0\n",
      "4                              SpecialPricesPharmMoreinfo  \\nWelcomeFastShippingCustomerSupport\\nhttp://7...     1\n",
      "...                                                   ...                                                ...   ...\n",
      "171180                                 Job: just for you.  \\n\\n\\n\\nWhile      we  may       have    high ...     1\n",
      "171181  the reply for your request for a job place [le...  \\n\\n\\n\\nWhile     we       may    have high   ...     1\n",
      "171182  Re: [R] Me again, about the horrible documenta...  For those who are interested, I just cook a li...     0\n",
      "171183                              Re: [R] RODBC problem  Hello,\\n\\nas I wrote I call\\n\\n  sqlFetch(chan...     0\n",
      "171184  I wanted the desk at his own laws: of the.  Bu...  Well, are implicated.  When does not the stage...     1\n",
      "\n",
      "[168248 rows x 3 columns]\n"
     ]
    }
   ],
   "source": [
    "# Remove rows where 'label' or 'subject' columns are empty or NaN\n",
    "df11_cleaned = df11.dropna(subset=['label', 'subject', 'body'])  # Remove NaN values\n",
    "df11_cleaned = df11_cleaned[(df11_cleaned['label'] != '') & (df11_cleaned['subject'] != '') & (df11_cleaned['body'] != '')]  # Remove empty strings\n",
    "\n",
    "# Display the cleaned DataFrame\n",
    "print(df11_cleaned)"
   ]
  },
  {
   "cell_type": "code",
   "execution_count": 14,
   "id": "22c658a2-a267-4299-ab68-1a6d30263fef",
   "metadata": {},
   "outputs": [
    {
     "data": {
      "text/plain": [
       "subject    0\n",
       "body       0\n",
       "label      0\n",
       "dtype: int64"
      ]
     },
     "execution_count": 14,
     "metadata": {},
     "output_type": "execute_result"
    }
   ],
   "source": [
    "df11_cleaned.isnull().sum()"
   ]
  },
  {
   "cell_type": "code",
   "execution_count": 15,
   "id": "3bb46d0e-0d83-4ca1-993e-d7a810c4780a",
   "metadata": {},
   "outputs": [
    {
     "name": "stdout",
     "output_type": "stream",
     "text": [
      "                                                  subject body label\n",
      "43550                 =?Big5?B?rEKq96SjrE5+fqdPtsykRn5+?=  NaN     1\n",
      "45104   ������ ���� �ʸ����� �鵵�� 12,500���� �帳�ϴ�. (��...  NaN     1\n",
      "101096  ++++++++++++++ ��������? ���� ���� �帮�ڽ��ϴ�. �...  NaN     1\n"
     ]
    }
   ],
   "source": [
    "# Filter the DataFrame to show only rows where the 'subject' column is empty\n",
    "empty_subject_df = df11[df11['body'].isna() | (df11['body'] == '')]\n",
    "\n",
    "# Display the filtered DataFrame\n",
    "print(empty_subject_df)\n"
   ]
  },
  {
   "cell_type": "code",
   "execution_count": 16,
   "id": "7f5ca5b4-f7ad-4891-9f1d-8618c7e1cb41",
   "metadata": {},
   "outputs": [
    {
     "data": {
      "text/html": [
       "<div>\n",
       "<style scoped>\n",
       "    .dataframe tbody tr th:only-of-type {\n",
       "        vertical-align: middle;\n",
       "    }\n",
       "\n",
       "    .dataframe tbody tr th {\n",
       "        vertical-align: top;\n",
       "    }\n",
       "\n",
       "    .dataframe thead th {\n",
       "        text-align: right;\n",
       "    }\n",
       "</style>\n",
       "<table border=\"1\" class=\"dataframe\">\n",
       "  <thead>\n",
       "    <tr style=\"text-align: right;\">\n",
       "      <th></th>\n",
       "      <th>subject</th>\n",
       "      <th>body</th>\n",
       "      <th>label</th>\n",
       "    </tr>\n",
       "  </thead>\n",
       "  <tbody>\n",
       "    <tr>\n",
       "      <th>0</th>\n",
       "      <td>Never agree to be a loser</td>\n",
       "      <td>Buck up, your troubles caused by small dimensi...</td>\n",
       "      <td>1</td>\n",
       "    </tr>\n",
       "    <tr>\n",
       "      <th>1</th>\n",
       "      <td>Befriend Jenna Jameson</td>\n",
       "      <td>\\nUpgrade your sex and pleasures with these te...</td>\n",
       "      <td>1</td>\n",
       "    </tr>\n",
       "    <tr>\n",
       "      <th>2</th>\n",
       "      <td>CNN.com Daily Top 10</td>\n",
       "      <td>&gt;+=+=+=+=+=+=+=+=+=+=+=+=+=+=+=+=+=+=+=+=+=+=+...</td>\n",
       "      <td>1</td>\n",
       "    </tr>\n",
       "    <tr>\n",
       "      <th>3</th>\n",
       "      <td>Re: svn commit: r619753 - in /spamassassin/tru...</td>\n",
       "      <td>Would anyone object to removing .so from this ...</td>\n",
       "      <td>0</td>\n",
       "    </tr>\n",
       "    <tr>\n",
       "      <th>4</th>\n",
       "      <td>SpecialPricesPharmMoreinfo</td>\n",
       "      <td>\\nWelcomeFastShippingCustomerSupport\\nhttp://7...</td>\n",
       "      <td>1</td>\n",
       "    </tr>\n",
       "    <tr>\n",
       "      <th>...</th>\n",
       "      <td>...</td>\n",
       "      <td>...</td>\n",
       "      <td>...</td>\n",
       "    </tr>\n",
       "    <tr>\n",
       "      <th>171180</th>\n",
       "      <td>Job: just for you.</td>\n",
       "      <td>\\n\\n\\n\\nWhile      we  may       have    high ...</td>\n",
       "      <td>1</td>\n",
       "    </tr>\n",
       "    <tr>\n",
       "      <th>171181</th>\n",
       "      <td>the reply for your request for a job place [le...</td>\n",
       "      <td>\\n\\n\\n\\nWhile     we       may    have high   ...</td>\n",
       "      <td>1</td>\n",
       "    </tr>\n",
       "    <tr>\n",
       "      <th>171182</th>\n",
       "      <td>Re: [R] Me again, about the horrible documenta...</td>\n",
       "      <td>For those who are interested, I just cook a li...</td>\n",
       "      <td>0</td>\n",
       "    </tr>\n",
       "    <tr>\n",
       "      <th>171183</th>\n",
       "      <td>Re: [R] RODBC problem</td>\n",
       "      <td>Hello,\\n\\nas I wrote I call\\n\\n  sqlFetch(chan...</td>\n",
       "      <td>0</td>\n",
       "    </tr>\n",
       "    <tr>\n",
       "      <th>171184</th>\n",
       "      <td>I wanted the desk at his own laws: of the.  Bu...</td>\n",
       "      <td>Well, are implicated.  When does not the stage...</td>\n",
       "      <td>1</td>\n",
       "    </tr>\n",
       "  </tbody>\n",
       "</table>\n",
       "<p>168244 rows × 3 columns</p>\n",
       "</div>"
      ],
      "text/plain": [
       "                                                  subject                                               body label\n",
       "0                               Never agree to be a loser  Buck up, your troubles caused by small dimensi...     1\n",
       "1                                  Befriend Jenna Jameson  \\nUpgrade your sex and pleasures with these te...     1\n",
       "2                                    CNN.com Daily Top 10  >+=+=+=+=+=+=+=+=+=+=+=+=+=+=+=+=+=+=+=+=+=+=+...     1\n",
       "3       Re: svn commit: r619753 - in /spamassassin/tru...  Would anyone object to removing .so from this ...     0\n",
       "4                              SpecialPricesPharmMoreinfo  \\nWelcomeFastShippingCustomerSupport\\nhttp://7...     1\n",
       "...                                                   ...                                                ...   ...\n",
       "171180                                 Job: just for you.  \\n\\n\\n\\nWhile      we  may       have    high ...     1\n",
       "171181  the reply for your request for a job place [le...  \\n\\n\\n\\nWhile     we       may    have high   ...     1\n",
       "171182  Re: [R] Me again, about the horrible documenta...  For those who are interested, I just cook a li...     0\n",
       "171183                              Re: [R] RODBC problem  Hello,\\n\\nas I wrote I call\\n\\n  sqlFetch(chan...     0\n",
       "171184  I wanted the desk at his own laws: of the.  Bu...  Well, are implicated.  When does not the stage...     1\n",
       "\n",
       "[168244 rows x 3 columns]"
      ]
     },
     "execution_count": 16,
     "metadata": {},
     "output_type": "execute_result"
    }
   ],
   "source": [
    "finally_df = df11_cleaned.drop_duplicates()\n",
    "finally_df"
   ]
  },
  {
   "cell_type": "code",
   "execution_count": 17,
   "id": "92f1300c-ffcd-4b11-8b75-7fac781f7b39",
   "metadata": {},
   "outputs": [
    {
     "data": {
      "text/html": [
       "<div>\n",
       "<style scoped>\n",
       "    .dataframe tbody tr th:only-of-type {\n",
       "        vertical-align: middle;\n",
       "    }\n",
       "\n",
       "    .dataframe tbody tr th {\n",
       "        vertical-align: top;\n",
       "    }\n",
       "\n",
       "    .dataframe thead th {\n",
       "        text-align: right;\n",
       "    }\n",
       "</style>\n",
       "<table border=\"1\" class=\"dataframe\">\n",
       "  <thead>\n",
       "    <tr style=\"text-align: right;\">\n",
       "      <th></th>\n",
       "      <th>subject</th>\n",
       "      <th>body</th>\n",
       "      <th>label</th>\n",
       "    </tr>\n",
       "  </thead>\n",
       "  <tbody>\n",
       "    <tr>\n",
       "      <th>0</th>\n",
       "      <td>Never agree to be a loser</td>\n",
       "      <td>Buck up, your troubles caused by small dimensi...</td>\n",
       "      <td>1</td>\n",
       "    </tr>\n",
       "    <tr>\n",
       "      <th>1</th>\n",
       "      <td>Befriend Jenna Jameson</td>\n",
       "      <td>\\nUpgrade your sex and pleasures with these te...</td>\n",
       "      <td>1</td>\n",
       "    </tr>\n",
       "    <tr>\n",
       "      <th>2</th>\n",
       "      <td>CNN.com Daily Top 10</td>\n",
       "      <td>&gt;+=+=+=+=+=+=+=+=+=+=+=+=+=+=+=+=+=+=+=+=+=+=+...</td>\n",
       "      <td>1</td>\n",
       "    </tr>\n",
       "    <tr>\n",
       "      <th>3</th>\n",
       "      <td>Re: svn commit: r619753 - in /spamassassin/tru...</td>\n",
       "      <td>Would anyone object to removing .so from this ...</td>\n",
       "      <td>0</td>\n",
       "    </tr>\n",
       "    <tr>\n",
       "      <th>4</th>\n",
       "      <td>SpecialPricesPharmMoreinfo</td>\n",
       "      <td>\\nWelcomeFastShippingCustomerSupport\\nhttp://7...</td>\n",
       "      <td>1</td>\n",
       "    </tr>\n",
       "    <tr>\n",
       "      <th>...</th>\n",
       "      <td>...</td>\n",
       "      <td>...</td>\n",
       "      <td>...</td>\n",
       "    </tr>\n",
       "    <tr>\n",
       "      <th>171180</th>\n",
       "      <td>Job: just for you.</td>\n",
       "      <td>\\n\\n\\n\\nWhile      we  may       have    high ...</td>\n",
       "      <td>1</td>\n",
       "    </tr>\n",
       "    <tr>\n",
       "      <th>171181</th>\n",
       "      <td>the reply for your request for a job place [le...</td>\n",
       "      <td>\\n\\n\\n\\nWhile     we       may    have high   ...</td>\n",
       "      <td>1</td>\n",
       "    </tr>\n",
       "    <tr>\n",
       "      <th>171182</th>\n",
       "      <td>Re: [R] Me again, about the horrible documenta...</td>\n",
       "      <td>For those who are interested, I just cook a li...</td>\n",
       "      <td>0</td>\n",
       "    </tr>\n",
       "    <tr>\n",
       "      <th>171183</th>\n",
       "      <td>Re: [R] RODBC problem</td>\n",
       "      <td>Hello,\\n\\nas I wrote I call\\n\\n  sqlFetch(chan...</td>\n",
       "      <td>0</td>\n",
       "    </tr>\n",
       "    <tr>\n",
       "      <th>171184</th>\n",
       "      <td>I wanted the desk at his own laws: of the.  Bu...</td>\n",
       "      <td>Well, are implicated.  When does not the stage...</td>\n",
       "      <td>1</td>\n",
       "    </tr>\n",
       "  </tbody>\n",
       "</table>\n",
       "<p>168244 rows × 3 columns</p>\n",
       "</div>"
      ],
      "text/plain": [
       "                                                  subject                                               body label\n",
       "0                               Never agree to be a loser  Buck up, your troubles caused by small dimensi...     1\n",
       "1                                  Befriend Jenna Jameson  \\nUpgrade your sex and pleasures with these te...     1\n",
       "2                                    CNN.com Daily Top 10  >+=+=+=+=+=+=+=+=+=+=+=+=+=+=+=+=+=+=+=+=+=+=+...     1\n",
       "3       Re: svn commit: r619753 - in /spamassassin/tru...  Would anyone object to removing .so from this ...     0\n",
       "4                              SpecialPricesPharmMoreinfo  \\nWelcomeFastShippingCustomerSupport\\nhttp://7...     1\n",
       "...                                                   ...                                                ...   ...\n",
       "171180                                 Job: just for you.  \\n\\n\\n\\nWhile      we  may       have    high ...     1\n",
       "171181  the reply for your request for a job place [le...  \\n\\n\\n\\nWhile     we       may    have high   ...     1\n",
       "171182  Re: [R] Me again, about the horrible documenta...  For those who are interested, I just cook a li...     0\n",
       "171183                              Re: [R] RODBC problem  Hello,\\n\\nas I wrote I call\\n\\n  sqlFetch(chan...     0\n",
       "171184  I wanted the desk at his own laws: of the.  Bu...  Well, are implicated.  When does not the stage...     1\n",
       "\n",
       "[168244 rows x 3 columns]"
      ]
     },
     "execution_count": 17,
     "metadata": {},
     "output_type": "execute_result"
    }
   ],
   "source": [
    "final_dataset = finally_df\n",
    "final_dataset"
   ]
  },
  {
   "cell_type": "code",
   "execution_count": 18,
   "id": "56edd017-a1a3-474f-b962-ea2e2a52bc02",
   "metadata": {},
   "outputs": [
    {
     "data": {
      "text/plain": [
       "subject    0\n",
       "body       0\n",
       "label      0\n",
       "dtype: int64"
      ]
     },
     "execution_count": 18,
     "metadata": {},
     "output_type": "execute_result"
    }
   ],
   "source": [
    "final_dataset.isnull().sum()"
   ]
  },
  {
   "cell_type": "code",
   "execution_count": 19,
   "id": "ff018a0a-a9b6-4a95-8cba-43f851215c6d",
   "metadata": {},
   "outputs": [],
   "source": [
    "x = final_dataset[['subject','body']]\n",
    "y = final_dataset['label']"
   ]
  },
  {
   "cell_type": "code",
   "execution_count": 20,
   "id": "aa215047-f5bd-4e1d-83ed-67401d69c58d",
   "metadata": {},
   "outputs": [
    {
     "data": {
      "text/html": [
       "<div>\n",
       "<style scoped>\n",
       "    .dataframe tbody tr th:only-of-type {\n",
       "        vertical-align: middle;\n",
       "    }\n",
       "\n",
       "    .dataframe tbody tr th {\n",
       "        vertical-align: top;\n",
       "    }\n",
       "\n",
       "    .dataframe thead th {\n",
       "        text-align: right;\n",
       "    }\n",
       "</style>\n",
       "<table border=\"1\" class=\"dataframe\">\n",
       "  <thead>\n",
       "    <tr style=\"text-align: right;\">\n",
       "      <th></th>\n",
       "      <th>subject</th>\n",
       "      <th>body</th>\n",
       "    </tr>\n",
       "  </thead>\n",
       "  <tbody>\n",
       "    <tr>\n",
       "      <th>0</th>\n",
       "      <td>Never agree to be a loser</td>\n",
       "      <td>Buck up, your troubles caused by small dimensi...</td>\n",
       "    </tr>\n",
       "    <tr>\n",
       "      <th>1</th>\n",
       "      <td>Befriend Jenna Jameson</td>\n",
       "      <td>\\nUpgrade your sex and pleasures with these te...</td>\n",
       "    </tr>\n",
       "    <tr>\n",
       "      <th>2</th>\n",
       "      <td>CNN.com Daily Top 10</td>\n",
       "      <td>&gt;+=+=+=+=+=+=+=+=+=+=+=+=+=+=+=+=+=+=+=+=+=+=+...</td>\n",
       "    </tr>\n",
       "    <tr>\n",
       "      <th>3</th>\n",
       "      <td>Re: svn commit: r619753 - in /spamassassin/tru...</td>\n",
       "      <td>Would anyone object to removing .so from this ...</td>\n",
       "    </tr>\n",
       "    <tr>\n",
       "      <th>4</th>\n",
       "      <td>SpecialPricesPharmMoreinfo</td>\n",
       "      <td>\\nWelcomeFastShippingCustomerSupport\\nhttp://7...</td>\n",
       "    </tr>\n",
       "    <tr>\n",
       "      <th>...</th>\n",
       "      <td>...</td>\n",
       "      <td>...</td>\n",
       "    </tr>\n",
       "    <tr>\n",
       "      <th>171180</th>\n",
       "      <td>Job: just for you.</td>\n",
       "      <td>\\n\\n\\n\\nWhile      we  may       have    high ...</td>\n",
       "    </tr>\n",
       "    <tr>\n",
       "      <th>171181</th>\n",
       "      <td>the reply for your request for a job place [le...</td>\n",
       "      <td>\\n\\n\\n\\nWhile     we       may    have high   ...</td>\n",
       "    </tr>\n",
       "    <tr>\n",
       "      <th>171182</th>\n",
       "      <td>Re: [R] Me again, about the horrible documenta...</td>\n",
       "      <td>For those who are interested, I just cook a li...</td>\n",
       "    </tr>\n",
       "    <tr>\n",
       "      <th>171183</th>\n",
       "      <td>Re: [R] RODBC problem</td>\n",
       "      <td>Hello,\\n\\nas I wrote I call\\n\\n  sqlFetch(chan...</td>\n",
       "    </tr>\n",
       "    <tr>\n",
       "      <th>171184</th>\n",
       "      <td>I wanted the desk at his own laws: of the.  Bu...</td>\n",
       "      <td>Well, are implicated.  When does not the stage...</td>\n",
       "    </tr>\n",
       "  </tbody>\n",
       "</table>\n",
       "<p>168244 rows × 2 columns</p>\n",
       "</div>"
      ],
      "text/plain": [
       "                                                  subject                                               body\n",
       "0                               Never agree to be a loser  Buck up, your troubles caused by small dimensi...\n",
       "1                                  Befriend Jenna Jameson  \\nUpgrade your sex and pleasures with these te...\n",
       "2                                    CNN.com Daily Top 10  >+=+=+=+=+=+=+=+=+=+=+=+=+=+=+=+=+=+=+=+=+=+=+...\n",
       "3       Re: svn commit: r619753 - in /spamassassin/tru...  Would anyone object to removing .so from this ...\n",
       "4                              SpecialPricesPharmMoreinfo  \\nWelcomeFastShippingCustomerSupport\\nhttp://7...\n",
       "...                                                   ...                                                ...\n",
       "171180                                 Job: just for you.  \\n\\n\\n\\nWhile      we  may       have    high ...\n",
       "171181  the reply for your request for a job place [le...  \\n\\n\\n\\nWhile     we       may    have high   ...\n",
       "171182  Re: [R] Me again, about the horrible documenta...  For those who are interested, I just cook a li...\n",
       "171183                              Re: [R] RODBC problem  Hello,\\n\\nas I wrote I call\\n\\n  sqlFetch(chan...\n",
       "171184  I wanted the desk at his own laws: of the.  Bu...  Well, are implicated.  When does not the stage...\n",
       "\n",
       "[168244 rows x 2 columns]"
      ]
     },
     "execution_count": 20,
     "metadata": {},
     "output_type": "execute_result"
    }
   ],
   "source": [
    "x"
   ]
  },
  {
   "cell_type": "code",
   "execution_count": 21,
   "id": "9093658e-44a1-4894-9058-4ee9ab02ee27",
   "metadata": {},
   "outputs": [
    {
     "data": {
      "text/plain": [
       "0         1\n",
       "1         1\n",
       "2         1\n",
       "3         0\n",
       "4         1\n",
       "         ..\n",
       "171180    1\n",
       "171181    1\n",
       "171182    0\n",
       "171183    0\n",
       "171184    1\n",
       "Name: label, Length: 168244, dtype: object"
      ]
     },
     "execution_count": 21,
     "metadata": {},
     "output_type": "execute_result"
    }
   ],
   "source": [
    "y"
   ]
  },
  {
   "cell_type": "code",
   "execution_count": 22,
   "id": "bd50746a-08d0-41bd-93ad-967ae7307eb8",
   "metadata": {},
   "outputs": [
    {
     "name": "stdout",
     "output_type": "stream",
     "text": [
      "Requirement already satisfied: scikit-learn in c:\\users\\vspil\\anaconda3\\envs\\new_env\\lib\\site-packages (1.3.2)\n",
      "Requirement already satisfied: numpy<2.0,>=1.17.3 in c:\\users\\vspil\\anaconda3\\envs\\new_env\\lib\\site-packages (from scikit-learn) (1.24.4)\n",
      "Requirement already satisfied: scipy>=1.5.0 in c:\\users\\vspil\\anaconda3\\envs\\new_env\\lib\\site-packages (from scikit-learn) (1.10.1)\n",
      "Requirement already satisfied: joblib>=1.1.1 in c:\\users\\vspil\\anaconda3\\envs\\new_env\\lib\\site-packages (from scikit-learn) (1.4.2)\n",
      "Requirement already satisfied: threadpoolctl>=2.0.0 in c:\\users\\vspil\\anaconda3\\envs\\new_env\\lib\\site-packages (from scikit-learn) (3.5.0)\n"
     ]
    }
   ],
   "source": [
    "!pip install scikit-learn\n"
   ]
  },
  {
   "cell_type": "code",
   "execution_count": 23,
   "id": "b7f5d28d-4bc1-49b7-87d1-fbf3544a5617",
   "metadata": {},
   "outputs": [],
   "source": [
    "from sklearn.model_selection import train_test_split"
   ]
  },
  {
   "cell_type": "code",
   "execution_count": 24,
   "id": "695c53f4-3cc0-4ae7-93fa-f74d65ab46e1",
   "metadata": {},
   "outputs": [],
   "source": [
    "X_train, X_test, Y_train, Y_test = train_test_split(x,y,test_size=0.2)"
   ]
  },
  {
   "cell_type": "code",
   "execution_count": 25,
   "id": "7c5b02fd-5b52-43e3-b319-19f3dc1c9a7e",
   "metadata": {},
   "outputs": [
    {
     "data": {
      "text/html": [
       "<div>\n",
       "<style scoped>\n",
       "    .dataframe tbody tr th:only-of-type {\n",
       "        vertical-align: middle;\n",
       "    }\n",
       "\n",
       "    .dataframe tbody tr th {\n",
       "        vertical-align: top;\n",
       "    }\n",
       "\n",
       "    .dataframe thead th {\n",
       "        text-align: right;\n",
       "    }\n",
       "</style>\n",
       "<table border=\"1\" class=\"dataframe\">\n",
       "  <thead>\n",
       "    <tr style=\"text-align: right;\">\n",
       "      <th></th>\n",
       "      <th>subject</th>\n",
       "      <th>body</th>\n",
       "    </tr>\n",
       "  </thead>\n",
       "  <tbody>\n",
       "    <tr>\n",
       "      <th>140466</th>\n",
       "      <td>Re: [R] Fwd: Re: shell.exec() on Windows, unex...</td>\n",
       "      <td>Thanks to Duncan and Gabor.\\n\\nFollowing from ...</td>\n",
       "    </tr>\n",
       "    <tr>\n",
       "      <th>97343</th>\n",
       "      <td>ng0510</td>\n",
       "      <td>CACT NG sheets for Friday\\n\\n</td>\n",
       "    </tr>\n",
       "    <tr>\n",
       "      <th>138451</th>\n",
       "      <td>Cabot Wealth Advisory - It's Not Too Late To E...</td>\n",
       "      <td>May 9, 2007\\n\\nEditors Note:  In investing tim...</td>\n",
       "    </tr>\n",
       "    <tr>\n",
       "      <th>164162</th>\n",
       "      <td>Re: [cc-devel] [Tracker] Extracting Embedded L...</td>\n",
       "      <td>Jason Kivlighn wrote:\\n&gt;&gt; Is this the old msof...</td>\n",
       "    </tr>\n",
       "    <tr>\n",
       "      <th>88514</th>\n",
       "      <td>Do you know how others sav on top-selling tabl...</td>\n",
       "      <td>It is a chemist-site that provides better sele...</td>\n",
       "    </tr>\n",
       "    <tr>\n",
       "      <th>...</th>\n",
       "      <td>...</td>\n",
       "      <td>...</td>\n",
       "    </tr>\n",
       "    <tr>\n",
       "      <th>117381</th>\n",
       "      <td>SUMMARY: March TC Summary - Part 1</td>\n",
       "      <td>MONTHLY GLOBAL TROPICAL CYCLONE SUMMARY       ...</td>\n",
       "    </tr>\n",
       "    <tr>\n",
       "      <th>75181</th>\n",
       "      <td>Ana|yst de|ivers best market p|ay repOrt</td>\n",
       "      <td>Yap Internationa|, Inc.(YPIL)\\n VoIP techno|og...</td>\n",
       "    </tr>\n",
       "    <tr>\n",
       "      <th>4443</th>\n",
       "      <td>Re: relay issue</td>\n",
       "      <td>* Tim Wolak : &gt; maps_rbl_domains = sbl.spamhau...</td>\n",
       "    </tr>\n",
       "    <tr>\n",
       "      <th>147857</th>\n",
       "      <td>Re: Scummvm games: software or data? [from gNe...</td>\n",
       "      <td>On Tue, 22 May 2007 18:03:57 -0400 Joey Hess w...</td>\n",
       "    </tr>\n",
       "    <tr>\n",
       "      <th>167824</th>\n",
       "      <td>Hallo!</td>\n",
       "      <td>\\n\\n\\n\\n\\nHi! I am bored this evening. I am 25...</td>\n",
       "    </tr>\n",
       "  </tbody>\n",
       "</table>\n",
       "<p>134595 rows × 2 columns</p>\n",
       "</div>"
      ],
      "text/plain": [
       "                                                  subject                                               body\n",
       "140466  Re: [R] Fwd: Re: shell.exec() on Windows, unex...  Thanks to Duncan and Gabor.\\n\\nFollowing from ...\n",
       "97343                                              ng0510                      CACT NG sheets for Friday\\n\\n\n",
       "138451  Cabot Wealth Advisory - It's Not Too Late To E...  May 9, 2007\\n\\nEditors Note:  In investing tim...\n",
       "164162  Re: [cc-devel] [Tracker] Extracting Embedded L...  Jason Kivlighn wrote:\\n>> Is this the old msof...\n",
       "88514   Do you know how others sav on top-selling tabl...  It is a chemist-site that provides better sele...\n",
       "...                                                   ...                                                ...\n",
       "117381                 SUMMARY: March TC Summary - Part 1  MONTHLY GLOBAL TROPICAL CYCLONE SUMMARY       ...\n",
       "75181            Ana|yst de|ivers best market p|ay repOrt  Yap Internationa|, Inc.(YPIL)\\n VoIP techno|og...\n",
       "4443                                      Re: relay issue  * Tim Wolak : > maps_rbl_domains = sbl.spamhau...\n",
       "147857  Re: Scummvm games: software or data? [from gNe...  On Tue, 22 May 2007 18:03:57 -0400 Joey Hess w...\n",
       "167824                                             Hallo!  \\n\\n\\n\\n\\nHi! I am bored this evening. I am 25...\n",
       "\n",
       "[134595 rows x 2 columns]"
      ]
     },
     "execution_count": 25,
     "metadata": {},
     "output_type": "execute_result"
    }
   ],
   "source": [
    "X_train"
   ]
  },
  {
   "cell_type": "code",
   "execution_count": 26,
   "id": "82f06ff7-885c-4b8f-980d-0f6b7fc39fc8",
   "metadata": {},
   "outputs": [
    {
     "data": {
      "text/plain": [
       "140466    0\n",
       "97343     0\n",
       "138451    0\n",
       "164162    0\n",
       "88514     1\n",
       "         ..\n",
       "117381    0\n",
       "75181     1\n",
       "4443      0\n",
       "147857    0\n",
       "167824    1\n",
       "Name: label, Length: 134595, dtype: object"
      ]
     },
     "execution_count": 26,
     "metadata": {},
     "output_type": "execute_result"
    }
   ],
   "source": [
    "Y_train"
   ]
  },
  {
   "cell_type": "code",
   "execution_count": 27,
   "id": "027f22df-c8e8-4860-83c5-8eaab581cee9",
   "metadata": {},
   "outputs": [
    {
     "data": {
      "text/html": [
       "<div>\n",
       "<style scoped>\n",
       "    .dataframe tbody tr th:only-of-type {\n",
       "        vertical-align: middle;\n",
       "    }\n",
       "\n",
       "    .dataframe tbody tr th {\n",
       "        vertical-align: top;\n",
       "    }\n",
       "\n",
       "    .dataframe thead th {\n",
       "        text-align: right;\n",
       "    }\n",
       "</style>\n",
       "<table border=\"1\" class=\"dataframe\">\n",
       "  <thead>\n",
       "    <tr style=\"text-align: right;\">\n",
       "      <th></th>\n",
       "      <th>subject</th>\n",
       "      <th>body</th>\n",
       "    </tr>\n",
       "  </thead>\n",
       "  <tbody>\n",
       "    <tr>\n",
       "      <th>50790</th>\n",
       "      <td>Finest online pills here</td>\n",
       "      <td>Locate your prescription immediately!\\nWe have...</td>\n",
       "    </tr>\n",
       "    <tr>\n",
       "      <th>90276</th>\n",
       "      <td>No more penis enlarge ripoffs!</td>\n",
       "      <td>Finally the real thing - no more ripoffs! Enha...</td>\n",
       "    </tr>\n",
       "    <tr>\n",
       "      <th>105410</th>\n",
       "      <td>Re: Serial interface/ RF data link</td>\n",
       "      <td>To properly comunicate with any PC you need to...</td>\n",
       "    </tr>\n",
       "    <tr>\n",
       "      <th>125480</th>\n",
       "      <td>Re: [R] hello</td>\n",
       "      <td>francois.morneau@ifn.fr wrote: &gt; ?as.numeric i...</td>\n",
       "    </tr>\n",
       "    <tr>\n",
       "      <th>19368</th>\n",
       "      <td>patch for lib/Pod/Man.pm for EBCDIC platform</td>\n",
       "      <td>Hi,\\r\\n\\r\\nHere is the patch below. Any questi...</td>\n",
       "    </tr>\n",
       "    <tr>\n",
       "      <th>...</th>\n",
       "      <td>...</td>\n",
       "      <td>...</td>\n",
       "    </tr>\n",
       "    <tr>\n",
       "      <th>39604</th>\n",
       "      <td>Re: Electric car an Edsel...</td>\n",
       "      <td>Ouch.... hooooo.... Cheers, RAH --- begin forw...</td>\n",
       "    </tr>\n",
       "    <tr>\n",
       "      <th>109268</th>\n",
       "      <td>Re: LEGO sensor</td>\n",
       "      <td>oops!  Thanks Dr. Martin for catching my mista...</td>\n",
       "    </tr>\n",
       "    <tr>\n",
       "      <th>103260</th>\n",
       "      <td>Troubles with dallas memory 2.</td>\n",
       "      <td>i have more info to that puzzle. I assembly tw...</td>\n",
       "    </tr>\n",
       "    <tr>\n",
       "      <th>52175</th>\n",
       "      <td>Coral on ExxonKaty 6/01</td>\n",
       "      <td>Darren:\\nENA was invoiced by Coral Energy for ...</td>\n",
       "    </tr>\n",
       "    <tr>\n",
       "      <th>138884</th>\n",
       "      <td>Get out of the obese crowd</td>\n",
       "      <td>Anatrim – The very up-to-date and most excitin...</td>\n",
       "    </tr>\n",
       "  </tbody>\n",
       "</table>\n",
       "<p>33649 rows × 2 columns</p>\n",
       "</div>"
      ],
      "text/plain": [
       "                                             subject                                               body\n",
       "50790                       Finest online pills here  Locate your prescription immediately!\\nWe have...\n",
       "90276                 No more penis enlarge ripoffs!  Finally the real thing - no more ripoffs! Enha...\n",
       "105410            Re: Serial interface/ RF data link  To properly comunicate with any PC you need to...\n",
       "125480                                 Re: [R] hello  francois.morneau@ifn.fr wrote: > ?as.numeric i...\n",
       "19368   patch for lib/Pod/Man.pm for EBCDIC platform  Hi,\\r\\n\\r\\nHere is the patch below. Any questi...\n",
       "...                                              ...                                                ...\n",
       "39604                   Re: Electric car an Edsel...  Ouch.... hooooo.... Cheers, RAH --- begin forw...\n",
       "109268                               Re: LEGO sensor  oops!  Thanks Dr. Martin for catching my mista...\n",
       "103260                Troubles with dallas memory 2.  i have more info to that puzzle. I assembly tw...\n",
       "52175                        Coral on ExxonKaty 6/01  Darren:\\nENA was invoiced by Coral Energy for ...\n",
       "138884                    Get out of the obese crowd  Anatrim – The very up-to-date and most excitin...\n",
       "\n",
       "[33649 rows x 2 columns]"
      ]
     },
     "execution_count": 27,
     "metadata": {},
     "output_type": "execute_result"
    }
   ],
   "source": [
    "X_test"
   ]
  },
  {
   "cell_type": "code",
   "execution_count": 28,
   "id": "64eac398-0dfc-4d27-a5b4-4174831c61ba",
   "metadata": {},
   "outputs": [
    {
     "data": {
      "text/plain": [
       "50790     1\n",
       "90276     1\n",
       "105410    0\n",
       "125480    0\n",
       "19368     0\n",
       "         ..\n",
       "39604     0\n",
       "109268    0\n",
       "103260    0\n",
       "52175     0\n",
       "138884    1\n",
       "Name: label, Length: 33649, dtype: object"
      ]
     },
     "execution_count": 28,
     "metadata": {},
     "output_type": "execute_result"
    }
   ],
   "source": [
    "Y_test"
   ]
  },
  {
   "cell_type": "code",
   "execution_count": 29,
   "id": "671c875d-0565-47d9-9e50-17e1fbf88005",
   "metadata": {},
   "outputs": [],
   "source": [
    "from sklearn.model_selection import train_test_split\n",
    "from sklearn.feature_extraction.text import TfidfVectorizer\n",
    "from sklearn.ensemble import RandomForestClassifier\n",
    "from sklearn.metrics import accuracy_score, classification_report\n"
   ]
  },
  {
   "cell_type": "code",
   "execution_count": 56,
   "id": "72b807b0-b78a-42bd-a875-cb57f38a207d",
   "metadata": {},
   "outputs": [
    {
     "name": "stdout",
     "output_type": "stream",
     "text": [
      "Starting Combining...\n",
      "Combining Completed...\n",
      "Starting TF-IDF vectorization...\n",
      "TF-IDF vectorization completed.\n",
      "Starting Random Forest training...\n"
     ]
    },
    {
     "name": "stderr",
     "output_type": "stream",
     "text": [
      "[Parallel(n_jobs=1)]: Done  49 tasks      | elapsed: 49.9min\n"
     ]
    },
    {
     "name": "stdout",
     "output_type": "stream",
     "text": [
      "Random Forest training completed.\n",
      "Making predictions...\n"
     ]
    },
    {
     "name": "stderr",
     "output_type": "stream",
     "text": [
      "[Parallel(n_jobs=1)]: Done  49 tasks      | elapsed:    3.1s\n"
     ]
    },
    {
     "name": "stdout",
     "output_type": "stream",
     "text": [
      "Predictions completed.\n"
     ]
    },
    {
     "name": "stderr",
     "output_type": "stream",
     "text": [
      "C:\\Users\\vspil\\anaconda3\\envs\\new_env\\lib\\site-packages\\sklearn\\metrics\\_classification.py:1471: UndefinedMetricWarning: Precision and F-score are ill-defined and being set to 0.0 in labels with no predicted samples. Use `zero_division` parameter to control this behavior.\n",
      "  _warn_prf(average, modifier, msg_start, len(result))\n",
      "C:\\Users\\vspil\\anaconda3\\envs\\new_env\\lib\\site-packages\\sklearn\\metrics\\_classification.py:1471: UndefinedMetricWarning: Precision and F-score are ill-defined and being set to 0.0 in labels with no predicted samples. Use `zero_division` parameter to control this behavior.\n",
      "  _warn_prf(average, modifier, msg_start, len(result))\n"
     ]
    },
    {
     "name": "stdout",
     "output_type": "stream",
     "text": [
      "Accuracy: 0.9736099141133466\n",
      "Classification Report:\n",
      "              precision    recall  f1-score   support\n",
      "\n",
      "           0       0.96      0.99      0.98     17878\n",
      "           1       0.99      0.95      0.97     15770\n",
      "       label       0.00      0.00      0.00         1\n",
      "\n",
      "    accuracy                           0.97     33649\n",
      "   macro avg       0.65      0.65      0.65     33649\n",
      "weighted avg       0.97      0.97      0.97     33649\n",
      "\n"
     ]
    },
    {
     "name": "stderr",
     "output_type": "stream",
     "text": [
      "C:\\Users\\vspil\\anaconda3\\envs\\new_env\\lib\\site-packages\\sklearn\\metrics\\_classification.py:1471: UndefinedMetricWarning: Precision and F-score are ill-defined and being set to 0.0 in labels with no predicted samples. Use `zero_division` parameter to control this behavior.\n",
      "  _warn_prf(average, modifier, msg_start, len(result))\n"
     ]
    }
   ],
   "source": [
    "from tqdm import tqdm\n",
    "\n",
    "print(\"Starting Combining...\")\n",
    "X_train_combined = X_train['subject'] + \" \" + X_train['body']\n",
    "X_test_combined = X_test['subject'] + \" \" + X_test['body']\n",
    "print(\"Combining Completed...\")\n",
    "\n",
    "print(\"Starting TF-IDF vectorization...\")\n",
    "X_train_tfidf = vectorizer.fit_transform(X_train_combined)\n",
    "X_test_tfidf = vectorizer.transform(X_test_combined)\n",
    "print(\"TF-IDF vectorization completed.\")\n",
    "\n",
    "print(\"Starting Random Forest training...\")\n",
    "clf = RandomForestClassifier(n_estimators=100, random_state=42, verbose=1)\n",
    "clf.fit(X_train_tfidf, Y_train)\n",
    "print(\"Random Forest training completed.\")\n",
    "\n",
    "print(\"Making predictions...\")\n",
    "y_pred = clf.predict(X_test_tfidf)\n",
    "print(\"Predictions completed.\")\n",
    "\n",
    "accuracy = accuracy_score(Y_test, y_pred)\n",
    "report = classification_report(Y_test, y_pred)\n",
    "\n",
    "print(f\"Accuracy: {accuracy}\")\n",
    "print(\"Classification Report:\")\n",
    "print(report)"
   ]
  },
  {
   "cell_type": "code",
   "execution_count": 57,
   "id": "4531e012-7474-424b-a794-687390192094",
   "metadata": {},
   "outputs": [
    {
     "name": "stdout",
     "output_type": "stream",
     "text": [
      "Accuracy: 0.9736099141133466\n",
      "Classification Report:\n",
      "              precision    recall  f1-score   support\n",
      "\n",
      "           0       0.96      0.99      0.98     17878\n",
      "           1       0.99      0.95      0.97     15770\n",
      "       label       0.00      0.00      0.00         1\n",
      "\n",
      "    accuracy                           0.97     33649\n",
      "   macro avg       0.65      0.65      0.65     33649\n",
      "weighted avg       0.97      0.97      0.97     33649\n",
      "\n"
     ]
    }
   ],
   "source": [
    "accuracy = accuracy_score(Y_test, y_pred)\n",
    "report = classification_report(Y_test, y_pred, zero_division=0)\n",
    "\n",
    "print(f\"Accuracy: {accuracy}\")\n",
    "print(\"Classification Report:\")\n",
    "print(report)"
   ]
  },
  {
   "cell_type": "code",
   "execution_count": 44,
   "id": "7cf99d00-29f1-4648-91ce-f650400d3a63",
   "metadata": {},
   "outputs": [],
   "source": [
    "##The code below is for hyper tuning"
   ]
  },
  {
   "cell_type": "code",
   "execution_count": 46,
   "id": "505b0ed5-f3a3-499e-bc0f-603d4bfb46c6",
   "metadata": {},
   "outputs": [
    {
     "name": "stdout",
     "output_type": "stream",
     "text": [
      "Starting Combining...\n",
      "Combining Completed...\n",
      "Starting TF-IDF vectorization...\n",
      "TF-IDF vectorization completed.\n",
      "Starting Model training...\n",
      "Fitting 2 folds for each of 7 candidates, totalling 14 fits\n",
      "End model training\n"
     ]
    },
    {
     "ename": "NameError",
     "evalue": "name 'y_test' is not defined",
     "output_type": "error",
     "traceback": [
      "\u001b[1;31m---------------------------------------------------------------------------\u001b[0m",
      "\u001b[1;31mNameError\u001b[0m                                 Traceback (most recent call last)",
      "Cell \u001b[1;32mIn[46], line 44\u001b[0m\n\u001b[0;32m     41\u001b[0m \u001b[38;5;28mprint\u001b[39m(\u001b[38;5;124m\"\u001b[39m\u001b[38;5;124mEnd model training\u001b[39m\u001b[38;5;124m\"\u001b[39m)\n\u001b[0;32m     43\u001b[0m \u001b[38;5;66;03m# Evaluate the model on the test set\u001b[39;00m\n\u001b[1;32m---> 44\u001b[0m \u001b[38;5;28mprint\u001b[39m(\u001b[38;5;124mf\u001b[39m\u001b[38;5;124m\"\u001b[39m\u001b[38;5;124mTest set score: \u001b[39m\u001b[38;5;132;01m{\u001b[39;00mrf_gd\u001b[38;5;241m.\u001b[39mscore(X_test_tfidf,\u001b[38;5;250m \u001b[39my_test)\u001b[38;5;132;01m}\u001b[39;00m\u001b[38;5;124m\"\u001b[39m)\n",
      "\u001b[1;31mNameError\u001b[0m: name 'y_test' is not defined"
     ]
    }
   ],
   "source": [
    "import numpy as np\n",
    "from sklearn.model_selection import RandomizedSearchCV\n",
    "from sklearn.ensemble import RandomForestClassifier\n",
    "from sklearn.feature_extraction.text import TfidfVectorizer\n",
    "\n",
    "# Set up random seed\n",
    "np.random.seed(42)\n",
    "\n",
    "# Define a reduced hyperparameter grid for faster model training\n",
    "rf_grid = {\n",
    "    \"n_estimators\": np.arange(10, 150, 50),  # Fewer values to test\n",
    "    \"max_depth\": [None, 5, 10],              # Reduced max depth values\n",
    "    \"min_samples_split\": np.arange(2, 10, 2),# Reduced range\n",
    "    \"min_samples_leaf\": np.arange(1, 10, 2)  # Reduced range\n",
    "}\n",
    "\n",
    "# Set up RandomizedSearchCV with fewer iterations\n",
    "rf_gd = RandomizedSearchCV(RandomForestClassifier(),\n",
    "                           param_distributions=rf_grid,\n",
    "                           cv=2,                 # Reduce cross-validation folds\n",
    "                           n_iter=7,            # Reduce number of iterations\n",
    "                           verbose=2,            # Increase verbosity to track progress\n",
    "                           n_jobs=-1)            # Use all cores for parallel processing\n",
    "\n",
    "# Combine the 'subject' and 'body' columns\n",
    "print(\"Starting Combining...\")\n",
    "X_train_combined = X_train['subject'].fillna('') + \" \" + X_train['body'].fillna('')\n",
    "X_test_combined = X_test['subject'].fillna('') + \" \" + X_test['body'].fillna('')\n",
    "print(\"Combining Completed...\")\n",
    "\n",
    "# Perform TF-IDF vectorization\n",
    "print(\"Starting TF-IDF vectorization...\")\n",
    "vectorizer = TfidfVectorizer(max_features=5000)  # Limit the number of features for faster processing\n",
    "X_train_tfidf = vectorizer.fit_transform(X_train_combined)\n",
    "X_test_tfidf = vectorizer.transform(X_test_combined)\n",
    "print(\"TF-IDF vectorization completed.\")\n",
    "\n",
    "# Train the model\n",
    "print(\"Starting Model training...\")\n",
    "rf_gd.fit(X_train_tfidf, Y_train)\n",
    "print(\"End model training\")\n",
    "\n",
    "# Evaluate the model on the test set\n",
    "print(f\"Test set score: {rf_gd.score(X_test_tfidf, y_test)}\")"
   ]
  },
  {
   "cell_type": "code",
   "execution_count": 47,
   "id": "19bb99bd-9dbd-4270-a2ad-67aa27e8ca30",
   "metadata": {},
   "outputs": [
    {
     "name": "stdout",
     "output_type": "stream",
     "text": [
      "Test set score: 0.9752147166334809\n"
     ]
    }
   ],
   "source": [
    "# Evaluate the model on the test set\n",
    "print(f\"Test set score: {rf_gd.score(X_test_tfidf, Y_test)}\")"
   ]
  },
  {
   "cell_type": "code",
   "execution_count": 54,
   "id": "da2a2dee-57c7-430f-8f9e-1bb8d793d12a",
   "metadata": {},
   "outputs": [
    {
     "name": "stdout",
     "output_type": "stream",
     "text": [
      "Confusion Matrix:\n",
      "[[17560   340     0]\n",
      " [  493 15255     0]\n",
      " [    0     1     0]]\n",
      "Classification Report:\n"
     ]
    },
    {
     "name": "stderr",
     "output_type": "stream",
     "text": [
      "C:\\Users\\vspil\\anaconda3\\envs\\new_env\\lib\\site-packages\\sklearn\\metrics\\_classification.py:1471: UndefinedMetricWarning: Precision and F-score are ill-defined and being set to 0.0 in labels with no predicted samples. Use `zero_division` parameter to control this behavior.\n",
      "  _warn_prf(average, modifier, msg_start, len(result))\n",
      "C:\\Users\\vspil\\anaconda3\\envs\\new_env\\lib\\site-packages\\sklearn\\metrics\\_classification.py:1471: UndefinedMetricWarning: Precision and F-score are ill-defined and being set to 0.0 in labels with no predicted samples. Use `zero_division` parameter to control this behavior.\n",
      "  _warn_prf(average, modifier, msg_start, len(result))\n",
      "C:\\Users\\vspil\\anaconda3\\envs\\new_env\\lib\\site-packages\\sklearn\\metrics\\_classification.py:1471: UndefinedMetricWarning: Precision and F-score are ill-defined and being set to 0.0 in labels with no predicted samples. Use `zero_division` parameter to control this behavior.\n",
      "  _warn_prf(average, modifier, msg_start, len(result))\n"
     ]
    },
    {
     "name": "stdout",
     "output_type": "stream",
     "text": [
      "              precision    recall  f1-score   support\n",
      "\n",
      "           0       0.97      0.98      0.98     17900\n",
      "           1       0.98      0.97      0.97     15748\n",
      "       label       0.00      0.00      0.00         1\n",
      "\n",
      "    accuracy                           0.98     33649\n",
      "   macro avg       0.65      0.65      0.65     33649\n",
      "weighted avg       0.98      0.98      0.98     33649\n",
      "\n",
      "Accuracy: 0.9752\n",
      "Test set score (accuracy): 0.9752\n"
     ]
    }
   ],
   "source": [
    "rf_gd.best_params_\n",
    "from sklearn.metrics import confusion_matrix, classification_report, accuracy_score\n",
    "# Predictions\n",
    "y_pred = rf_gd.predict(X_test_tfidf)\n",
    "\n",
    "# Confusion Matrix\n",
    "conf_matrix = confusion_matrix(Y_test, y_pred)\n",
    "print(\"Confusion Matrix:\")\n",
    "print(conf_matrix)\n",
    "\n",
    "# Classification Report (Precision, Recall, F1-Score)\n",
    "print(\"Classification Report:\")\n",
    "print(classification_report(Y_test, y_pred))\n",
    "\n",
    "# Accuracy Score\n",
    "accuracy = accuracy_score(Y_test, y_pred)\n",
    "print(f\"Accuracy: {accuracy:.4f}\")\n",
    "\n",
    "# Evaluate the model on the test set\n",
    "print(f\"Test set score (accuracy): {rf_gd.score(X_test_tfidf, Y_test):.4f}\")"
   ]
  },
  {
   "cell_type": "code",
   "execution_count": 70,
   "id": "66c1af76-559d-4ad6-b4a4-b5a5a91bcea1",
   "metadata": {},
   "outputs": [
    {
     "name": "stdout",
     "output_type": "stream",
     "text": [
      "Starting Combining...\n",
      "Combining Completed...\n",
      "Starting TF-IDF vectorization...\n",
      "TF-IDF vectorization completed.\n",
      "Starting Extra Trees training...\n",
      "Extra Trees training completed.\n",
      "Making predictions...\n",
      "Predictions completed.\n",
      "Accuracy: 0.9742340039822878\n",
      "Classification Report:\n",
      "              precision    recall  f1-score   support\n",
      "\n",
      "           0       0.96      0.99      0.98     17775\n",
      "           1       0.99      0.95      0.97     15874\n",
      "\n",
      "    accuracy                           0.97     33649\n",
      "   macro avg       0.98      0.97      0.97     33649\n",
      "weighted avg       0.97      0.97      0.97     33649\n",
      "\n"
     ]
    }
   ],
   "source": [
    "from sklearn.ensemble import ExtraTreesClassifier\n",
    "\n",
    "# Combine the 'subject' and 'body' columns\n",
    "print(\"Starting Combining...\")\n",
    "X_train_combined = X_train['subject'].fillna('') + \" \" + X_train['body'].fillna('')\n",
    "X_test_combined = X_test['subject'].fillna('') + \" \" + X_test['body'].fillna('')\n",
    "print(\"Combining Completed...\")\n",
    "\n",
    "# Perform TF-IDF vectorization\n",
    "print(\"Starting TF-IDF vectorization...\")\n",
    "vectorizer = TfidfVectorizer()\n",
    "X_train_tfidf = vectorizer.fit_transform(X_train_combined)\n",
    "X_test_tfidf = vectorizer.transform(X_test_combined)\n",
    "print(\"TF-IDF vectorization completed.\")\n",
    "\n",
    "# Train the Extra Trees Classifier\n",
    "print(\"Starting Extra Trees training...\")\n",
    "clf_etc = ExtraTreesClassifier(n_estimators=100, random_state=42)\n",
    "clf_etc.fit(X_train_tfidf, Y_train)\n",
    "print(\"Extra Trees training completed.\")\n",
    "\n",
    "# Make predictions\n",
    "print(\"Making predictions...\")\n",
    "y_pred = clf_etc.predict(X_test_tfidf)  # Use the correct classifier (clf_etc)\n",
    "print(\"Predictions completed.\")\n",
    "\n",
    "# Evaluate the model\n",
    "accuracy = accuracy_score(Y_test, y_pred)\n",
    "report = classification_report(Y_test, y_pred)\n",
    "\n",
    "print(f\"Accuracy: {accuracy}\")\n",
    "print(\"Classification Report:\")\n",
    "print(report)\n"
   ]
  },
  {
   "cell_type": "code",
   "execution_count": 71,
   "id": "655473ec-c9bc-42fe-beca-61ac6b96f3c0",
   "metadata": {},
   "outputs": [
    {
     "data": {
      "text/plain": [
       "array(['1', '0', '0', ..., '0', '0', '0'], dtype=object)"
      ]
     },
     "execution_count": 71,
     "metadata": {},
     "output_type": "execute_result"
    }
   ],
   "source": [
    "y_pred"
   ]
  },
  {
   "cell_type": "code",
   "execution_count": 72,
   "id": "ee176a1c-8177-421d-85ec-41c930ff82e0",
   "metadata": {},
   "outputs": [
    {
     "data": {
      "text/plain": [
       "117599    1\n",
       "150819    0\n",
       "159863    0\n",
       "125244    1\n",
       "90262     1\n",
       "         ..\n",
       "46210     1\n",
       "61408     0\n",
       "26952     0\n",
       "44907     1\n",
       "117813    0\n",
       "Name: label, Length: 33649, dtype: object"
      ]
     },
     "execution_count": 72,
     "metadata": {},
     "output_type": "execute_result"
    }
   ],
   "source": [
    "Y_test"
   ]
  },
  {
   "cell_type": "code",
   "execution_count": 55,
   "id": "9d6f117f-5f17-4b51-b32d-704a72618aee",
   "metadata": {},
   "outputs": [
    {
     "name": "stdout",
     "output_type": "stream",
     "text": [
      "Model saved to rf_new_model.pkl\n"
     ]
    }
   ],
   "source": [
    "import joblib\n",
    "\n",
    "# Assuming 'et_random' is your trained RandomizedSearchCV model\n",
    "filename = 'rf_new_model.pkl'\n",
    "joblib.dump(rf_gd, filename)\n",
    "\n",
    "print(f\"Model saved to {filename}\")"
   ]
  },
  {
   "cell_type": "code",
   "execution_count": 30,
   "id": "24db6c21-c707-425d-a7f1-896615474854",
   "metadata": {},
   "outputs": [
    {
     "name": "stdout",
     "output_type": "stream",
     "text": [
      "Starting Combining...\n",
      "Combining Completed...\n",
      "Starting TF-IDF vectorization...\n",
      "TF-IDF vectorization completed.\n"
     ]
    }
   ],
   "source": [
    "# Combine the 'subject' and 'body' columns\n",
    "print(\"Starting Combining...\")\n",
    "X_train_combined = X_train['subject'].fillna('') + \" \" + X_train['body'].fillna('')\n",
    "X_test_combined = X_test['subject'].fillna('') + \" \" + X_test['body'].fillna('')\n",
    "print(\"Combining Completed...\")\n",
    "\n",
    "# Perform TF-IDF vectorization\n",
    "print(\"Starting TF-IDF vectorization...\")\n",
    "vectorizer = TfidfVectorizer(max_features=5000)  # Limit the number of features for faster processing\n",
    "X_train_tfidf = vectorizer.fit_transform(X_train_combined)\n",
    "X_test_tfidf = vectorizer.transform(X_test_combined)\n",
    "print(\"TF-IDF vectorization completed.\")"
   ]
  },
  {
   "cell_type": "code",
   "execution_count": 32,
   "id": "0de34658-a3c6-4b05-be1a-82cf9692ec05",
   "metadata": {},
   "outputs": [
    {
     "name": "stdout",
     "output_type": "stream",
     "text": [
      "TF-IDF vectorizer saved successfully.\n"
     ]
    }
   ],
   "source": [
    "import pickle\n",
    "# Save the trained vectorizer to a file\n",
    "with open('tfidf_vectorizer.pkl', 'wb') as file:\n",
    "    pickle.dump(vectorizer, file)\n",
    "\n",
    "print(\"TF-IDF vectorizer saved successfully.\")"
   ]
  },
  {
   "cell_type": "code",
   "execution_count": null,
   "id": "eba22bd8-70ee-4bba-b5b7-e5697a4a6214",
   "metadata": {},
   "outputs": [],
   "source": []
  }
 ],
 "metadata": {
  "kernelspec": {
   "display_name": "Python 3 (ipykernel)",
   "language": "python",
   "name": "python3"
  },
  "language_info": {
   "codemirror_mode": {
    "name": "ipython",
    "version": 3
   },
   "file_extension": ".py",
   "mimetype": "text/x-python",
   "name": "python",
   "nbconvert_exporter": "python",
   "pygments_lexer": "ipython3",
   "version": "3.8.19"
  }
 },
 "nbformat": 4,
 "nbformat_minor": 5
}
