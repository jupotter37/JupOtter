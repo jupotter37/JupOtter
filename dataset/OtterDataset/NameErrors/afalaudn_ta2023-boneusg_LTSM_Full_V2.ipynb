{
 "cells": [
  {
   "cell_type": "markdown",
   "metadata": {},
   "source": [
    "# Init Library"
   ]
  },
  {
   "cell_type": "code",
   "execution_count": 11,
   "metadata": {},
   "outputs": [],
   "source": [
    "import os, glob\n",
    "import numpy as np\n",
    "import pandas as pd\n",
    "import matplotlib.pyplot as plt\n",
    "from difflib import SequenceMatcher\n",
    "\n",
    "from scipy import signal, fftpack\n",
    "from scipy.fft import fft, fftfreq\n",
    "from scipy.signal import butter, filtfilt\n",
    "\n",
    "from sklearn.model_selection import train_test_split\n",
    "from sklearn.preprocessing import LabelEncoder, MinMaxScaler\n",
    "\n",
    "from keras.models import Sequential, load_model\n",
    "from keras.layers import LSTM, Dense, Activation, Dropout\n",
    "from keras import utils\n",
    "utils.to_categorical\n",
    "\n",
    "from tensorflow.keras.utils import to_categorical"
   ]
  },
  {
   "cell_type": "markdown",
   "metadata": {},
   "source": [
    "# Load directory"
   ]
  },
  {
   "cell_type": "code",
   "execution_count": 12,
   "metadata": {},
   "outputs": [],
   "source": [
    "load = \"C:/Users/Afif Alaudin/Documents/GitHub/ta2023-boneusg/Data 6 Juli - Fix/LTSM\"\n",
    "save = \"C:/Users/Afif Alaudin/Documents/GitHub/ta2023-boneusg/Data 6 Juli - Fix/LTSM/Img\"\n",
    "proc_30 = 'C:/Users/Afif Alaudin/Documents/GitHub/ta2023-boneusg/Data 6 Juli - Fix/LTSM/Process/30%/*.csv'\n",
    "proc_50 = 'C:/Users/Afif Alaudin/Documents/GitHub/ta2023-boneusg/Data 6 Juli - Fix/LTSM/Process/50%/*.csv'\n",
    "proc_70 = 'C:/Users/Afif Alaudin/Documents/GitHub/ta2023-boneusg/Data 6 Juli - Fix/LTSM/Process/70%/*.csv'\n",
    "proc_90 = 'C:/Users/Afif Alaudin/Documents/GitHub/ta2023-boneusg/Data 6 Juli - Fix/LTSM/Process/90%/*.csv'\n",
    "combine = 'C:/Users/Afif Alaudin/Documents/GitHub/ta2023-boneusg/Data 6 Juli - Fix/LTSM/Process/Comb/*.csv'"
   ]
  },
  {
   "cell_type": "markdown",
   "metadata": {},
   "source": [
    "# Parameter"
   ]
  },
  {
   "cell_type": "code",
   "execution_count": 13,
   "metadata": {},
   "outputs": [],
   "source": [
    "lowcut = 0.5\n",
    "highcut = 5.0\n",
    "fs = 100.0\n",
    "order = 5"
   ]
  },
  {
   "cell_type": "markdown",
   "metadata": {},
   "source": [
    "# Apply Parameter"
   ]
  },
  {
   "cell_type": "code",
   "execution_count": 20,
   "metadata": {},
   "outputs": [],
   "source": [
    "files_csv =[]\n",
    "for root, dirs, files in os.walk(load):\n",
    "    for file_name in files:\n",
    "        if file_name.endswith(\".csv\"):\n",
    "            file_load = os.path.join(root, file_name)\n",
    "            files_csv.append(file_load)"
   ]
  },
  {
   "cell_type": "code",
   "execution_count": 21,
   "metadata": {},
   "outputs": [],
   "source": [
    "i = 0\n",
    "\n",
    "for file_csv in files_csv:\n",
    "   \n",
    "    df_uncut = pd.read_csv(file_csv)\n",
    "    start_index = 1\n",
    "    end_index = 1551\n",
    "    df = df_uncut[start_index:end_index]\n",
    "    var = df['X'].values\n",
    "    data = df['Y'].values\n",
    "     \n",
    "    nyquist = 0.5 * fs\n",
    "    low = lowcut / nyquist\n",
    "    high = highcut / nyquist\n",
    "    b, a = signal.butter(order, [low, high], btype='band')\n",
    "    \n",
    "    #Filter bandpass\n",
    "    filtered_signal = signal.filtfilt(b, a, data)\n",
    "    \n",
    "    # Rectify signal\n",
    "    rectified_signal = np.abs(filtered_signal)\n",
    "    \n",
    "    # One-sided FFT\n",
    "    signal_fft = np.fft.fft(filtered_signal)\n",
    "    signal_freq = np.fft.fftfreq(len(filtered_signal), 1/fs)\n",
    "    n = len(filtered_signal)\n",
    "    freq = signal_freq[0:int(n/2)]\n",
    "    fft_amp = np.abs(signal_fft)[0:int(n/2)]/n*2\n",
    "    \n",
    "    # One-sided PSD\n",
    "    psd = (1/(fs*n)) * np.square(np.abs(signal_fft[:n//2]))\n",
    "    freq_psd = signal_freq[0:int(n/2)]\n",
    "    psd_one_side = psd[0:int(n/2)]\n",
    "    \n",
    "    processed_csv_file = file_csv.replace(\".csv\", \"_processed.csv\")\n",
    "    df.to_csv(processed_csv_file, index=False)\n",
    "    \n",
    "    # fig, axs = plt.subplots(2, 2, figsize=(10,10))\n",
    "\n",
    "    # axs[0, 0].plot(var, filtered_signal)\n",
    "    # axs[0, 0].set_title(file_csv)\n",
    "    # axs[0, 0].set_xlabel('Time (us)')\n",
    "    # axs[0, 0].set_ylabel('Amplitude (V)')\n",
    "\n",
    "    # axs[0, 1].plot(var, rectified_signal)\n",
    "    # axs[0, 1].set_title(file_csv)\n",
    "    # axs[0, 1].set_xlabel('Time (us)')\n",
    "    # axs[0, 1].set_ylabel('Amplitude (V)')\n",
    "\n",
    "    # axs[1, 0].plot(freq, fft_amp)\n",
    "    # axs[1, 0].set_title(file_csv)\n",
    "    # axs[1, 0].set_xlabel('Frequency (MHz)')\n",
    "    # axs[1, 0].set_ylabel('Amplitude Power/Frequency (dB/Hz)')\n",
    "\n",
    "    # axs[1, 1].plot(freq_psd, psd_one_side)\n",
    "    # axs[1, 1].set_title(file_csv)\n",
    "    # axs[1, 1].set_xlabel('Frequency (MHz)')\n",
    "    # axs[1, 1].set_ylabel('Power/Frequency (dB/Hz)')\n",
    "\n",
    "    # save_img = file_csv+\".png\"\n",
    "    # plt.savefig(save_img)\n"
   ]
  },
  {
   "cell_type": "markdown",
   "metadata": {},
   "source": [
    "# Move PSD to New Folder"
   ]
  },
  {
   "cell_type": "code",
   "execution_count": 22,
   "metadata": {},
   "outputs": [
    {
     "name": "stdout",
     "output_type": "stream",
     "text": [
      "Moved ' C:/Users/Afif Alaudin/Documents/GitHub/ta2023-boneusg/Data 6 Juli - Fix/LTSM\\data_predict_predicted_processed.csv  to  ./Process/data_predict_predicted_processed.csv\n",
      "Moved ' C:/Users/Afif Alaudin/Documents/GitHub/ta2023-boneusg/Data 6 Juli - Fix/LTSM\\30%\\A301_processed.csv  to  ./Process/A301_processed.csv\n",
      "Moved ' C:/Users/Afif Alaudin/Documents/GitHub/ta2023-boneusg/Data 6 Juli - Fix/LTSM\\30%\\A302_processed.csv  to  ./Process/A302_processed.csv\n",
      "Moved ' C:/Users/Afif Alaudin/Documents/GitHub/ta2023-boneusg/Data 6 Juli - Fix/LTSM\\30%\\A303_processed.csv  to  ./Process/A303_processed.csv\n",
      "Moved ' C:/Users/Afif Alaudin/Documents/GitHub/ta2023-boneusg/Data 6 Juli - Fix/LTSM\\30%\\A304_processed.csv  to  ./Process/A304_processed.csv\n",
      "Moved ' C:/Users/Afif Alaudin/Documents/GitHub/ta2023-boneusg/Data 6 Juli - Fix/LTSM\\30%\\A305_processed.csv  to  ./Process/A305_processed.csv\n",
      "Moved ' C:/Users/Afif Alaudin/Documents/GitHub/ta2023-boneusg/Data 6 Juli - Fix/LTSM\\30%\\K301_processed.csv  to  ./Process/K301_processed.csv\n",
      "Moved ' C:/Users/Afif Alaudin/Documents/GitHub/ta2023-boneusg/Data 6 Juli - Fix/LTSM\\30%\\K302_processed.csv  to  ./Process/K302_processed.csv\n",
      "Moved ' C:/Users/Afif Alaudin/Documents/GitHub/ta2023-boneusg/Data 6 Juli - Fix/LTSM\\30%\\S301_processed.csv  to  ./Process/S301_processed.csv\n",
      "Moved ' C:/Users/Afif Alaudin/Documents/GitHub/ta2023-boneusg/Data 6 Juli - Fix/LTSM\\30%\\S302_processed.csv  to  ./Process/S302_processed.csv\n",
      "Moved ' C:/Users/Afif Alaudin/Documents/GitHub/ta2023-boneusg/Data 6 Juli - Fix/LTSM\\30%\\S303_processed.csv  to  ./Process/S303_processed.csv\n",
      "Moved ' C:/Users/Afif Alaudin/Documents/GitHub/ta2023-boneusg/Data 6 Juli - Fix/LTSM\\30%\\S304_processed.csv  to  ./Process/S304_processed.csv\n",
      "Moved ' C:/Users/Afif Alaudin/Documents/GitHub/ta2023-boneusg/Data 6 Juli - Fix/LTSM\\30%\\S305_processed.csv  to  ./Process/S305_processed.csv\n",
      "Moved ' C:/Users/Afif Alaudin/Documents/GitHub/ta2023-boneusg/Data 6 Juli - Fix/LTSM\\50%\\A501_processed.csv  to  ./Process/A501_processed.csv\n",
      "Moved ' C:/Users/Afif Alaudin/Documents/GitHub/ta2023-boneusg/Data 6 Juli - Fix/LTSM\\50%\\A502_processed.csv  to  ./Process/A502_processed.csv\n",
      "Moved ' C:/Users/Afif Alaudin/Documents/GitHub/ta2023-boneusg/Data 6 Juli - Fix/LTSM\\50%\\A503_processed.csv  to  ./Process/A503_processed.csv\n",
      "Moved ' C:/Users/Afif Alaudin/Documents/GitHub/ta2023-boneusg/Data 6 Juli - Fix/LTSM\\50%\\A504_processed.csv  to  ./Process/A504_processed.csv\n",
      "Moved ' C:/Users/Afif Alaudin/Documents/GitHub/ta2023-boneusg/Data 6 Juli - Fix/LTSM\\50%\\A505_processed.csv  to  ./Process/A505_processed.csv\n",
      "Moved ' C:/Users/Afif Alaudin/Documents/GitHub/ta2023-boneusg/Data 6 Juli - Fix/LTSM\\50%\\K501_processed.csv  to  ./Process/K501_processed.csv\n",
      "Moved ' C:/Users/Afif Alaudin/Documents/GitHub/ta2023-boneusg/Data 6 Juli - Fix/LTSM\\50%\\K502_processed.csv  to  ./Process/K502_processed.csv\n",
      "Moved ' C:/Users/Afif Alaudin/Documents/GitHub/ta2023-boneusg/Data 6 Juli - Fix/LTSM\\50%\\S501_processed.csv  to  ./Process/S501_processed.csv\n",
      "Moved ' C:/Users/Afif Alaudin/Documents/GitHub/ta2023-boneusg/Data 6 Juli - Fix/LTSM\\50%\\S502_processed.csv  to  ./Process/S502_processed.csv\n",
      "Moved ' C:/Users/Afif Alaudin/Documents/GitHub/ta2023-boneusg/Data 6 Juli - Fix/LTSM\\50%\\S503_processed.csv  to  ./Process/S503_processed.csv\n",
      "Moved ' C:/Users/Afif Alaudin/Documents/GitHub/ta2023-boneusg/Data 6 Juli - Fix/LTSM\\50%\\S504_processed.csv  to  ./Process/S504_processed.csv\n",
      "Moved ' C:/Users/Afif Alaudin/Documents/GitHub/ta2023-boneusg/Data 6 Juli - Fix/LTSM\\50%\\S505_processed.csv  to  ./Process/S505_processed.csv\n",
      "Moved ' C:/Users/Afif Alaudin/Documents/GitHub/ta2023-boneusg/Data 6 Juli - Fix/LTSM\\70%\\A701_processed.csv  to  ./Process/A701_processed.csv\n",
      "Moved ' C:/Users/Afif Alaudin/Documents/GitHub/ta2023-boneusg/Data 6 Juli - Fix/LTSM\\70%\\A702_processed.csv  to  ./Process/A702_processed.csv\n",
      "Moved ' C:/Users/Afif Alaudin/Documents/GitHub/ta2023-boneusg/Data 6 Juli - Fix/LTSM\\70%\\A703_processed.csv  to  ./Process/A703_processed.csv\n",
      "Moved ' C:/Users/Afif Alaudin/Documents/GitHub/ta2023-boneusg/Data 6 Juli - Fix/LTSM\\70%\\A704_processed.csv  to  ./Process/A704_processed.csv\n",
      "Moved ' C:/Users/Afif Alaudin/Documents/GitHub/ta2023-boneusg/Data 6 Juli - Fix/LTSM\\70%\\A705_processed.csv  to  ./Process/A705_processed.csv\n",
      "Moved ' C:/Users/Afif Alaudin/Documents/GitHub/ta2023-boneusg/Data 6 Juli - Fix/LTSM\\70%\\K701_processed.csv  to  ./Process/K701_processed.csv\n",
      "Moved ' C:/Users/Afif Alaudin/Documents/GitHub/ta2023-boneusg/Data 6 Juli - Fix/LTSM\\70%\\K702_processed.csv  to  ./Process/K702_processed.csv\n",
      "Moved ' C:/Users/Afif Alaudin/Documents/GitHub/ta2023-boneusg/Data 6 Juli - Fix/LTSM\\70%\\S701_processed.csv  to  ./Process/S701_processed.csv\n",
      "Moved ' C:/Users/Afif Alaudin/Documents/GitHub/ta2023-boneusg/Data 6 Juli - Fix/LTSM\\70%\\S702_processed.csv  to  ./Process/S702_processed.csv\n",
      "Moved ' C:/Users/Afif Alaudin/Documents/GitHub/ta2023-boneusg/Data 6 Juli - Fix/LTSM\\70%\\S703_processed.csv  to  ./Process/S703_processed.csv\n",
      "Moved ' C:/Users/Afif Alaudin/Documents/GitHub/ta2023-boneusg/Data 6 Juli - Fix/LTSM\\70%\\S704_processed.csv  to  ./Process/S704_processed.csv\n",
      "Moved ' C:/Users/Afif Alaudin/Documents/GitHub/ta2023-boneusg/Data 6 Juli - Fix/LTSM\\70%\\S705_processed.csv  to  ./Process/S705_processed.csv\n",
      "Moved ' C:/Users/Afif Alaudin/Documents/GitHub/ta2023-boneusg/Data 6 Juli - Fix/LTSM\\90%\\A901_processed.csv  to  ./Process/A901_processed.csv\n",
      "Moved ' C:/Users/Afif Alaudin/Documents/GitHub/ta2023-boneusg/Data 6 Juli - Fix/LTSM\\90%\\A902_processed.csv  to  ./Process/A902_processed.csv\n",
      "Moved ' C:/Users/Afif Alaudin/Documents/GitHub/ta2023-boneusg/Data 6 Juli - Fix/LTSM\\90%\\A903_processed.csv  to  ./Process/A903_processed.csv\n",
      "Moved ' C:/Users/Afif Alaudin/Documents/GitHub/ta2023-boneusg/Data 6 Juli - Fix/LTSM\\90%\\A904_processed.csv  to  ./Process/A904_processed.csv\n",
      "Moved ' C:/Users/Afif Alaudin/Documents/GitHub/ta2023-boneusg/Data 6 Juli - Fix/LTSM\\90%\\A905_processed.csv  to  ./Process/A905_processed.csv\n",
      "Moved ' C:/Users/Afif Alaudin/Documents/GitHub/ta2023-boneusg/Data 6 Juli - Fix/LTSM\\90%\\K901_processed.csv  to  ./Process/K901_processed.csv\n",
      "Moved ' C:/Users/Afif Alaudin/Documents/GitHub/ta2023-boneusg/Data 6 Juli - Fix/LTSM\\90%\\K902_processed.csv  to  ./Process/K902_processed.csv\n",
      "Moved ' C:/Users/Afif Alaudin/Documents/GitHub/ta2023-boneusg/Data 6 Juli - Fix/LTSM\\90%\\S901_processed.csv  to  ./Process/S901_processed.csv\n",
      "Moved ' C:/Users/Afif Alaudin/Documents/GitHub/ta2023-boneusg/Data 6 Juli - Fix/LTSM\\90%\\S902_processed.csv  to  ./Process/S902_processed.csv\n",
      "Moved ' C:/Users/Afif Alaudin/Documents/GitHub/ta2023-boneusg/Data 6 Juli - Fix/LTSM\\90%\\S903_processed.csv  to  ./Process/S903_processed.csv\n",
      "Moved ' C:/Users/Afif Alaudin/Documents/GitHub/ta2023-boneusg/Data 6 Juli - Fix/LTSM\\90%\\S904_processed.csv  to  ./Process/S904_processed.csv\n",
      "Moved ' C:/Users/Afif Alaudin/Documents/GitHub/ta2023-boneusg/Data 6 Juli - Fix/LTSM\\90%\\S905_processed.csv  to  ./Process/S905_processed.csv\n",
      "Moved ' C:/Users/Afif Alaudin/Documents/GitHub/ta2023-boneusg/Data 6 Juli - Fix/LTSM\\Process\\A301_processed.csv  to  ./Process/A301_processed.csv\n",
      "Moved ' C:/Users/Afif Alaudin/Documents/GitHub/ta2023-boneusg/Data 6 Juli - Fix/LTSM\\Process\\A302_processed.csv  to  ./Process/A302_processed.csv\n",
      "Moved ' C:/Users/Afif Alaudin/Documents/GitHub/ta2023-boneusg/Data 6 Juli - Fix/LTSM\\Process\\A303_processed.csv  to  ./Process/A303_processed.csv\n",
      "Moved ' C:/Users/Afif Alaudin/Documents/GitHub/ta2023-boneusg/Data 6 Juli - Fix/LTSM\\Process\\A304_processed.csv  to  ./Process/A304_processed.csv\n",
      "Moved ' C:/Users/Afif Alaudin/Documents/GitHub/ta2023-boneusg/Data 6 Juli - Fix/LTSM\\Process\\A305_processed.csv  to  ./Process/A305_processed.csv\n",
      "Moved ' C:/Users/Afif Alaudin/Documents/GitHub/ta2023-boneusg/Data 6 Juli - Fix/LTSM\\Process\\A501_processed.csv  to  ./Process/A501_processed.csv\n",
      "Moved ' C:/Users/Afif Alaudin/Documents/GitHub/ta2023-boneusg/Data 6 Juli - Fix/LTSM\\Process\\A502_processed.csv  to  ./Process/A502_processed.csv\n",
      "Moved ' C:/Users/Afif Alaudin/Documents/GitHub/ta2023-boneusg/Data 6 Juli - Fix/LTSM\\Process\\A503_processed.csv  to  ./Process/A503_processed.csv\n",
      "Moved ' C:/Users/Afif Alaudin/Documents/GitHub/ta2023-boneusg/Data 6 Juli - Fix/LTSM\\Process\\A504_processed.csv  to  ./Process/A504_processed.csv\n",
      "Moved ' C:/Users/Afif Alaudin/Documents/GitHub/ta2023-boneusg/Data 6 Juli - Fix/LTSM\\Process\\A505_processed.csv  to  ./Process/A505_processed.csv\n",
      "Moved ' C:/Users/Afif Alaudin/Documents/GitHub/ta2023-boneusg/Data 6 Juli - Fix/LTSM\\Process\\A701_processed.csv  to  ./Process/A701_processed.csv\n",
      "Moved ' C:/Users/Afif Alaudin/Documents/GitHub/ta2023-boneusg/Data 6 Juli - Fix/LTSM\\Process\\A702_processed.csv  to  ./Process/A702_processed.csv\n",
      "Moved ' C:/Users/Afif Alaudin/Documents/GitHub/ta2023-boneusg/Data 6 Juli - Fix/LTSM\\Process\\A703_processed.csv  to  ./Process/A703_processed.csv\n",
      "Moved ' C:/Users/Afif Alaudin/Documents/GitHub/ta2023-boneusg/Data 6 Juli - Fix/LTSM\\Process\\A704_processed.csv  to  ./Process/A704_processed.csv\n",
      "Moved ' C:/Users/Afif Alaudin/Documents/GitHub/ta2023-boneusg/Data 6 Juli - Fix/LTSM\\Process\\A705_processed.csv  to  ./Process/A705_processed.csv\n",
      "Moved ' C:/Users/Afif Alaudin/Documents/GitHub/ta2023-boneusg/Data 6 Juli - Fix/LTSM\\Process\\A901_processed.csv  to  ./Process/A901_processed.csv\n",
      "Moved ' C:/Users/Afif Alaudin/Documents/GitHub/ta2023-boneusg/Data 6 Juli - Fix/LTSM\\Process\\A902_processed.csv  to  ./Process/A902_processed.csv\n",
      "Moved ' C:/Users/Afif Alaudin/Documents/GitHub/ta2023-boneusg/Data 6 Juli - Fix/LTSM\\Process\\A903_processed.csv  to  ./Process/A903_processed.csv\n",
      "Moved ' C:/Users/Afif Alaudin/Documents/GitHub/ta2023-boneusg/Data 6 Juli - Fix/LTSM\\Process\\A904_processed.csv  to  ./Process/A904_processed.csv\n",
      "Moved ' C:/Users/Afif Alaudin/Documents/GitHub/ta2023-boneusg/Data 6 Juli - Fix/LTSM\\Process\\A905_processed.csv  to  ./Process/A905_processed.csv\n",
      "Moved ' C:/Users/Afif Alaudin/Documents/GitHub/ta2023-boneusg/Data 6 Juli - Fix/LTSM\\Process\\data_predict_predicted_processed.csv  to  ./Process/data_predict_predicted_processed.csv\n",
      "Moved ' C:/Users/Afif Alaudin/Documents/GitHub/ta2023-boneusg/Data 6 Juli - Fix/LTSM\\Process\\K301_processed.csv  to  ./Process/K301_processed.csv\n",
      "Moved ' C:/Users/Afif Alaudin/Documents/GitHub/ta2023-boneusg/Data 6 Juli - Fix/LTSM\\Process\\K302_processed.csv  to  ./Process/K302_processed.csv\n",
      "Moved ' C:/Users/Afif Alaudin/Documents/GitHub/ta2023-boneusg/Data 6 Juli - Fix/LTSM\\Process\\K501_processed.csv  to  ./Process/K501_processed.csv\n",
      "Moved ' C:/Users/Afif Alaudin/Documents/GitHub/ta2023-boneusg/Data 6 Juli - Fix/LTSM\\Process\\K502_processed.csv  to  ./Process/K502_processed.csv\n",
      "Moved ' C:/Users/Afif Alaudin/Documents/GitHub/ta2023-boneusg/Data 6 Juli - Fix/LTSM\\Process\\K701_processed.csv  to  ./Process/K701_processed.csv\n",
      "Moved ' C:/Users/Afif Alaudin/Documents/GitHub/ta2023-boneusg/Data 6 Juli - Fix/LTSM\\Process\\K702_processed.csv  to  ./Process/K702_processed.csv\n",
      "Moved ' C:/Users/Afif Alaudin/Documents/GitHub/ta2023-boneusg/Data 6 Juli - Fix/LTSM\\Process\\K901_processed.csv  to  ./Process/K901_processed.csv\n",
      "Moved ' C:/Users/Afif Alaudin/Documents/GitHub/ta2023-boneusg/Data 6 Juli - Fix/LTSM\\Process\\K902_processed.csv  to  ./Process/K902_processed.csv\n",
      "Moved ' C:/Users/Afif Alaudin/Documents/GitHub/ta2023-boneusg/Data 6 Juli - Fix/LTSM\\Process\\S301_processed.csv  to  ./Process/S301_processed.csv\n",
      "Moved ' C:/Users/Afif Alaudin/Documents/GitHub/ta2023-boneusg/Data 6 Juli - Fix/LTSM\\Process\\S302_processed.csv  to  ./Process/S302_processed.csv\n",
      "Moved ' C:/Users/Afif Alaudin/Documents/GitHub/ta2023-boneusg/Data 6 Juli - Fix/LTSM\\Process\\S303_processed.csv  to  ./Process/S303_processed.csv\n",
      "Moved ' C:/Users/Afif Alaudin/Documents/GitHub/ta2023-boneusg/Data 6 Juli - Fix/LTSM\\Process\\S304_processed.csv  to  ./Process/S304_processed.csv\n",
      "Moved ' C:/Users/Afif Alaudin/Documents/GitHub/ta2023-boneusg/Data 6 Juli - Fix/LTSM\\Process\\S305_processed.csv  to  ./Process/S305_processed.csv\n",
      "Moved ' C:/Users/Afif Alaudin/Documents/GitHub/ta2023-boneusg/Data 6 Juli - Fix/LTSM\\Process\\S501_processed.csv  to  ./Process/S501_processed.csv\n",
      "Moved ' C:/Users/Afif Alaudin/Documents/GitHub/ta2023-boneusg/Data 6 Juli - Fix/LTSM\\Process\\S502_processed.csv  to  ./Process/S502_processed.csv\n",
      "Moved ' C:/Users/Afif Alaudin/Documents/GitHub/ta2023-boneusg/Data 6 Juli - Fix/LTSM\\Process\\S503_processed.csv  to  ./Process/S503_processed.csv\n",
      "Moved ' C:/Users/Afif Alaudin/Documents/GitHub/ta2023-boneusg/Data 6 Juli - Fix/LTSM\\Process\\S504_processed.csv  to  ./Process/S504_processed.csv\n",
      "Moved ' C:/Users/Afif Alaudin/Documents/GitHub/ta2023-boneusg/Data 6 Juli - Fix/LTSM\\Process\\S505_processed.csv  to  ./Process/S505_processed.csv\n",
      "Moved ' C:/Users/Afif Alaudin/Documents/GitHub/ta2023-boneusg/Data 6 Juli - Fix/LTSM\\Process\\S701_processed.csv  to  ./Process/S701_processed.csv\n",
      "Moved ' C:/Users/Afif Alaudin/Documents/GitHub/ta2023-boneusg/Data 6 Juli - Fix/LTSM\\Process\\S702_processed.csv  to  ./Process/S702_processed.csv\n",
      "Moved ' C:/Users/Afif Alaudin/Documents/GitHub/ta2023-boneusg/Data 6 Juli - Fix/LTSM\\Process\\S703_processed.csv  to  ./Process/S703_processed.csv\n",
      "Moved ' C:/Users/Afif Alaudin/Documents/GitHub/ta2023-boneusg/Data 6 Juli - Fix/LTSM\\Process\\S704_processed.csv  to  ./Process/S704_processed.csv\n",
      "Moved ' C:/Users/Afif Alaudin/Documents/GitHub/ta2023-boneusg/Data 6 Juli - Fix/LTSM\\Process\\S705_processed.csv  to  ./Process/S705_processed.csv\n",
      "Moved ' C:/Users/Afif Alaudin/Documents/GitHub/ta2023-boneusg/Data 6 Juli - Fix/LTSM\\Process\\S901_processed.csv  to  ./Process/S901_processed.csv\n",
      "Moved ' C:/Users/Afif Alaudin/Documents/GitHub/ta2023-boneusg/Data 6 Juli - Fix/LTSM\\Process\\S902_processed.csv  to  ./Process/S902_processed.csv\n",
      "Moved ' C:/Users/Afif Alaudin/Documents/GitHub/ta2023-boneusg/Data 6 Juli - Fix/LTSM\\Process\\S903_processed.csv  to  ./Process/S903_processed.csv\n",
      "Moved ' C:/Users/Afif Alaudin/Documents/GitHub/ta2023-boneusg/Data 6 Juli - Fix/LTSM\\Process\\S904_processed.csv  to  ./Process/S904_processed.csv\n",
      "Moved ' C:/Users/Afif Alaudin/Documents/GitHub/ta2023-boneusg/Data 6 Juli - Fix/LTSM\\Process\\S905_processed.csv  to  ./Process/S905_processed.csv\n"
     ]
    }
   ],
   "source": [
    "os.chdir(load)\n",
    "if not os.path.exists(load+\"Process\"):\n",
    "        os.makedirs(load+\"Process\")\n",
    "        print(\"'data' folder created\")\n",
    "        \n",
    "for root, dirs, files in os.walk(load):\n",
    "        for filename in files:\n",
    "            if filename.endswith(\"_processed.csv\"):\n",
    "                original_file = os.path.join(root, filename)                \n",
    "                if not \"Process/\" in original_file:\n",
    "                    print(\"Moved '\",original_file,\" to \",\"./Process/\"+filename)\n",
    "                    os.rename(original_file, \"./Process/\"+filename)"
   ]
  },
  {
   "cell_type": "markdown",
   "metadata": {},
   "source": [
    "# Gabungkan Dataset menjadi satu"
   ]
  },
  {
   "cell_type": "code",
   "execution_count": 23,
   "metadata": {},
   "outputs": [],
   "source": [
    "# Menggunakan glob untuk mendapatkan daftar file CSV\n",
    "csv_files = glob.glob(proc_30)\n",
    "\n",
    "# Membuat list kosong untuk menyimpan DataFrame dari setiap file CSV\n",
    "dataframes = []\n",
    "\n",
    "# Menggabungkan semua file CSV menjadi satu DataFrame\n",
    "for file in csv_files:\n",
    "    df = pd.read_csv(file)\n",
    "    dataframes.append(df)\n",
    "\n",
    "# Menggabungkan DataFrame dalam list menjadi satu DataFrame utama\n",
    "combined_df = pd.concat(dataframes, ignore_index=True)\n",
    "\n",
    "combined_df.to_csv('C:/Users/Afif Alaudin/Documents/GitHub/ta2023-boneusg/Data 6 Juli - Fix/LTSM/Process/Comb/1.csv', index=True)\n",
    "# combined_df.to_csv('E:/Sekolah/Telkom/TA/LTSM/Process/Comb/1.csv', index=False)"
   ]
  },
  {
   "cell_type": "code",
   "execution_count": 24,
   "metadata": {},
   "outputs": [],
   "source": [
    "# Menggunakan glob untuk mendapatkan daftar file CSV\n",
    "csv_files = glob.glob(proc_50)\n",
    "\n",
    "# Membuat list kosong untuk menyimpan DataFrame dari setiap file CSV\n",
    "dataframes = []\n",
    "\n",
    "# Menggabungkan semua file CSV menjadi satu DataFrame\n",
    "for file in csv_files:\n",
    "    df = pd.read_csv(file)\n",
    "    dataframes.append(df)\n",
    "\n",
    "# Menggabungkan DataFrame dalam list menjadi satu DataFrame utama\n",
    "combined_df = pd.concat(dataframes, ignore_index=True)\n",
    "\n",
    "combined_df.to_csv('C:/Users/Afif Alaudin/Documents/GitHub/ta2023-boneusg/Data 6 Juli - Fix/LTSM/Process/Comb/2.csv', index=True)"
   ]
  },
  {
   "cell_type": "code",
   "execution_count": 25,
   "metadata": {},
   "outputs": [],
   "source": [
    "# Menggunakan glob untuk mendapatkan daftar file CSV\n",
    "csv_files = glob.glob(proc_70)\n",
    "\n",
    "# Membuat list kosong untuk menyimpan DataFrame dari setiap file CSV\n",
    "dataframes = []\n",
    "\n",
    "# Menggabungkan semua file CSV menjadi satu DataFrame\n",
    "for file in csv_files:\n",
    "    df = pd.read_csv(file)\n",
    "    dataframes.append(df)\n",
    "\n",
    "# Menggabungkan DataFrame dalam list menjadi satu DataFrame utama\n",
    "combined_df = pd.concat(dataframes, ignore_index=True)\n",
    "\n",
    "combined_df.to_csv('C:/Users/Afif Alaudin/Documents/GitHub/ta2023-boneusg/Data 6 Juli - Fix/LTSM/Process/Comb/3.csv', index=True)"
   ]
  },
  {
   "cell_type": "code",
   "execution_count": 26,
   "metadata": {},
   "outputs": [],
   "source": [
    "# Menggunakan glob untuk mendapatkan daftar file CSV\n",
    "csv_files = glob.glob(proc_90)\n",
    "\n",
    "# Membuat list kosong untuk menyimpan DataFrame dari setiap file CSV\n",
    "dataframes = []\n",
    "\n",
    "# Menggabungkan semua file CSV menjadi satu DataFrame\n",
    "for file in csv_files:\n",
    "    df = pd.read_csv(file)\n",
    "    dataframes.append(df)\n",
    "\n",
    "# Menggabungkan DataFrame dalam list menjadi satu DataFrame utama\n",
    "combined_df = pd.concat(dataframes, ignore_index=True)\n",
    "\n",
    "combined_df.to_csv('C:/Users/Afif Alaudin/Documents/GitHub/ta2023-boneusg/Data 6 Juli - Fix/LTSM/Process/Comb/4.csv', index=True)"
   ]
  },
  {
   "cell_type": "code",
   "execution_count": 27,
   "metadata": {},
   "outputs": [
    {
     "name": "stdout",
     "output_type": "stream",
     "text": [
      "       Unnamed: 0          X         Y    label\n",
      "0               0   5.015625 -0.035156  label_1\n",
      "1               1   5.031250 -0.039062  label_1\n",
      "2               2   5.046875 -0.007812  label_1\n",
      "3               3   5.062500  0.117188  label_1\n",
      "4               4   5.078125 -0.339844  label_1\n",
      "...           ...        ...       ...      ...\n",
      "74395       18595  29.156250  0.031250  label_4\n",
      "74396       18596  29.171875  0.039062  label_4\n",
      "74397       18597  29.187500  0.035156  label_4\n",
      "74398       18598  29.203125  0.035156  label_4\n",
      "74399       18599  29.218750  0.031250  label_4\n",
      "\n",
      "[74400 rows x 4 columns]\n"
     ]
    }
   ],
   "source": [
    "merge = 'C:/Users/Afif Alaudin/Documents/GitHub/ta2023-boneusg/Data 6 Juli - Fix/LTSM/Process/Comb/All.csv'\n",
    "\n",
    "# Menggunakan glob untuk mendapatkan daftar file CSV\n",
    "csv_files = glob.glob(combine)\n",
    "\n",
    "# Membuat list kosong untuk menyimpan DataFrame dari setiap file CSV\n",
    "dataframes = []\n",
    "\n",
    "# Menggabungkan semua file CSV menjadi satu DataFrame\n",
    "for i, file in enumerate(csv_files):\n",
    "    df = pd.read_csv(file)\n",
    "    df['label'] = f'label_{i+1}'\n",
    "    dataframes.append(df)\n",
    "# Menggabungkan DataFrame dalam list menjadi satu DataFrame utama\n",
    "combined_df = pd.concat(dataframes, ignore_index=True)\n",
    "\n",
    "# Menampilkan hasil gabungan\n",
    "print(combined_df)\n",
    "\n",
    "combined_df.to_csv(merge, index=False)"
   ]
  },
  {
   "cell_type": "markdown",
   "metadata": {},
   "source": [
    "# Rename Label"
   ]
  },
  {
   "cell_type": "code",
   "execution_count": 28,
   "metadata": {},
   "outputs": [],
   "source": [
    "data_df = pd.read_csv(merge)\n",
    "\n",
    "label_mapping = {\n",
    "    'label_1': 'Density 30%',\n",
    "    'label_2': 'Density 50%',\n",
    "    'label_3': 'Density 70%',\n",
    "    'label_4': 'Density 90%'\n",
    "}\n",
    "\n",
    "data_df['label'] = data_df['label'].map(label_mapping)\n",
    "data_df.to_csv(merge, index=False)"
   ]
  },
  {
   "cell_type": "markdown",
   "metadata": {},
   "source": [
    "# Train Dataset"
   ]
  },
  {
   "cell_type": "code",
   "execution_count": 29,
   "metadata": {},
   "outputs": [],
   "source": [
    "# Membaca dataset utama untuk pelatihan\n",
    "data_df = pd.read_csv(merge)\n",
    "X = data_df.iloc[:, :-1].values\n",
    "y = data_df.iloc[:, -1].values"
   ]
  },
  {
   "cell_type": "code",
   "execution_count": 30,
   "metadata": {},
   "outputs": [
    {
     "name": "stdout",
     "output_type": "stream",
     "text": [
      "(74400, 4)\n"
     ]
    }
   ],
   "source": [
    "# Menggunakan LabelEncoder untuk mengubah label menjadi nilai numerik\n",
    "label_encoder = LabelEncoder()\n",
    "y_encoded = label_encoder.fit_transform(y)\n",
    "y_encoded_categorical = utils.to_categorical(y_encoded)\n",
    "print(y_encoded_categorical.shape)"
   ]
  },
  {
   "cell_type": "code",
   "execution_count": 31,
   "metadata": {},
   "outputs": [],
   "source": [
    "# Membagi dataset menjadi data pelatihan dan data validasi\n",
    "X_train, X_test, y_train, y_test = train_test_split(X, y_encoded_categorical, test_size=0.2, random_state=42)\n",
    "\n",
    "X_train = X_train.reshape((X_train.shape[0], X_train.shape[1], 1))\n",
    "X_test = np.reshape(X_test, (X_test.shape[0], X_test.shape[1], 1))"
   ]
  },
  {
   "cell_type": "markdown",
   "metadata": {},
   "source": [
    "## Metode LTSM"
   ]
  },
  {
   "cell_type": "code",
   "execution_count": 32,
   "metadata": {},
   "outputs": [],
   "source": [
    "# Membangun model LSTM\n",
    "model = Sequential()\n",
    "model.add(LSTM(64, input_shape=(X_train.shape[1], X_train.shape[2])))\n",
    "model.add(Dense(y_encoded_categorical.shape[1], activation='softmax'))\n",
    "model.compile(loss='categorical_crossentropy', optimizer='adam', metrics=['accuracy'])"
   ]
  },
  {
   "cell_type": "code",
   "execution_count": 33,
   "metadata": {},
   "outputs": [
    {
     "name": "stdout",
     "output_type": "stream",
     "text": [
      "Epoch 1/100\n",
      "930/930 [==============================] - 12s 7ms/step - loss: 1.3879 - accuracy: 0.2539 - val_loss: 1.3866 - val_accuracy: 0.2479\n",
      "Epoch 2/100\n",
      "930/930 [==============================] - 6s 6ms/step - loss: 1.3830 - accuracy: 0.2769 - val_loss: 1.3764 - val_accuracy: 0.3313\n",
      "Epoch 3/100\n",
      "930/930 [==============================] - 6s 6ms/step - loss: 1.3709 - accuracy: 0.3231 - val_loss: 1.3570 - val_accuracy: 0.4224\n",
      "Epoch 4/100\n",
      "930/930 [==============================] - 5s 5ms/step - loss: 1.3335 - accuracy: 0.3738 - val_loss: 1.3012 - val_accuracy: 0.3829\n",
      "Epoch 5/100\n",
      "930/930 [==============================] - 6s 6ms/step - loss: 1.2744 - accuracy: 0.3954 - val_loss: 1.2427 - val_accuracy: 0.4109\n",
      "Epoch 6/100\n",
      "930/930 [==============================] - 5s 6ms/step - loss: 1.2231 - accuracy: 0.4139 - val_loss: 1.2007 - val_accuracy: 0.4205\n",
      "Epoch 7/100\n",
      "930/930 [==============================] - 5s 5ms/step - loss: 1.1882 - accuracy: 0.4300 - val_loss: 1.1699 - val_accuracy: 0.4261\n",
      "Epoch 8/100\n",
      "930/930 [==============================] - 5s 6ms/step - loss: 1.1662 - accuracy: 0.4327 - val_loss: 1.1746 - val_accuracy: 0.4366\n",
      "Epoch 9/100\n",
      "930/930 [==============================] - 5s 6ms/step - loss: 1.1527 - accuracy: 0.4326 - val_loss: 1.1464 - val_accuracy: 0.4358\n",
      "Epoch 10/100\n",
      "930/930 [==============================] - 5s 5ms/step - loss: 1.1417 - accuracy: 0.4390 - val_loss: 1.1323 - val_accuracy: 0.4441\n",
      "Epoch 11/100\n",
      "930/930 [==============================] - 5s 6ms/step - loss: 1.1351 - accuracy: 0.4403 - val_loss: 1.1318 - val_accuracy: 0.4347\n",
      "Epoch 12/100\n",
      "930/930 [==============================] - 5s 6ms/step - loss: 1.1316 - accuracy: 0.4442 - val_loss: 1.1241 - val_accuracy: 0.4306\n",
      "Epoch 13/100\n",
      "930/930 [==============================] - 5s 6ms/step - loss: 1.1257 - accuracy: 0.4438 - val_loss: 1.1201 - val_accuracy: 0.4405\n",
      "Epoch 14/100\n",
      "930/930 [==============================] - 5s 5ms/step - loss: 1.1235 - accuracy: 0.4431 - val_loss: 1.1348 - val_accuracy: 0.4466\n",
      "Epoch 15/100\n",
      "930/930 [==============================] - 5s 6ms/step - loss: 1.1208 - accuracy: 0.4449 - val_loss: 1.1147 - val_accuracy: 0.4364\n",
      "Epoch 16/100\n",
      "930/930 [==============================] - 5s 6ms/step - loss: 1.1176 - accuracy: 0.4459 - val_loss: 1.1117 - val_accuracy: 0.4503\n",
      "Epoch 17/100\n",
      "930/930 [==============================] - 5s 5ms/step - loss: 1.1164 - accuracy: 0.4489 - val_loss: 1.1152 - val_accuracy: 0.4372\n",
      "Epoch 18/100\n",
      "930/930 [==============================] - 5s 5ms/step - loss: 1.1140 - accuracy: 0.4495 - val_loss: 1.1108 - val_accuracy: 0.4299\n",
      "Epoch 19/100\n",
      "930/930 [==============================] - 5s 6ms/step - loss: 1.1125 - accuracy: 0.4524 - val_loss: 1.1131 - val_accuracy: 0.4569\n",
      "Epoch 20/100\n",
      "930/930 [==============================] - 5s 6ms/step - loss: 1.1112 - accuracy: 0.4503 - val_loss: 1.1064 - val_accuracy: 0.4443\n",
      "Epoch 21/100\n",
      "930/930 [==============================] - 5s 5ms/step - loss: 1.1093 - accuracy: 0.4552 - val_loss: 1.1050 - val_accuracy: 0.4548\n",
      "Epoch 22/100\n",
      "930/930 [==============================] - 5s 5ms/step - loss: 1.1090 - accuracy: 0.4507 - val_loss: 1.1019 - val_accuracy: 0.4656\n",
      "Epoch 23/100\n",
      "930/930 [==============================] - 5s 5ms/step - loss: 1.1072 - accuracy: 0.4523 - val_loss: 1.1048 - val_accuracy: 0.4479\n",
      "Epoch 24/100\n",
      "930/930 [==============================] - 6s 6ms/step - loss: 1.1061 - accuracy: 0.4549 - val_loss: 1.1015 - val_accuracy: 0.4480\n",
      "Epoch 25/100\n",
      "930/930 [==============================] - 5s 6ms/step - loss: 1.1057 - accuracy: 0.4554 - val_loss: 1.1005 - val_accuracy: 0.4482\n",
      "Epoch 26/100\n",
      "930/930 [==============================] - 5s 6ms/step - loss: 1.1054 - accuracy: 0.4557 - val_loss: 1.0999 - val_accuracy: 0.4611\n",
      "Epoch 27/100\n",
      "930/930 [==============================] - 5s 6ms/step - loss: 1.1042 - accuracy: 0.4566 - val_loss: 1.0989 - val_accuracy: 0.4655\n",
      "Epoch 28/100\n",
      "930/930 [==============================] - 5s 6ms/step - loss: 1.1035 - accuracy: 0.4566 - val_loss: 1.1001 - val_accuracy: 0.4589\n",
      "Epoch 29/100\n",
      "930/930 [==============================] - 5s 6ms/step - loss: 1.1023 - accuracy: 0.4586 - val_loss: 1.0985 - val_accuracy: 0.4638\n",
      "Epoch 30/100\n",
      "930/930 [==============================] - 5s 6ms/step - loss: 1.1026 - accuracy: 0.4601 - val_loss: 1.0968 - val_accuracy: 0.4658\n",
      "Epoch 31/100\n",
      "930/930 [==============================] - 5s 6ms/step - loss: 1.1017 - accuracy: 0.4610 - val_loss: 1.0985 - val_accuracy: 0.4530\n",
      "Epoch 32/100\n",
      "930/930 [==============================] - 5s 5ms/step - loss: 1.1012 - accuracy: 0.4608 - val_loss: 1.0958 - val_accuracy: 0.4577\n",
      "Epoch 33/100\n",
      "930/930 [==============================] - 5s 5ms/step - loss: 1.1003 - accuracy: 0.4609 - val_loss: 1.0991 - val_accuracy: 0.4623\n",
      "Epoch 34/100\n",
      "930/930 [==============================] - 5s 6ms/step - loss: 1.0998 - accuracy: 0.4622 - val_loss: 1.0953 - val_accuracy: 0.4660\n",
      "Epoch 35/100\n",
      "930/930 [==============================] - 6s 7ms/step - loss: 1.0996 - accuracy: 0.4636 - val_loss: 1.0949 - val_accuracy: 0.4595\n",
      "Epoch 36/100\n",
      "930/930 [==============================] - 7s 7ms/step - loss: 1.0996 - accuracy: 0.4603 - val_loss: 1.0932 - val_accuracy: 0.4593\n",
      "Epoch 37/100\n",
      "930/930 [==============================] - 6s 6ms/step - loss: 1.0985 - accuracy: 0.4619 - val_loss: 1.0943 - val_accuracy: 0.4628\n",
      "Epoch 38/100\n",
      "930/930 [==============================] - 5s 6ms/step - loss: 1.0982 - accuracy: 0.4631 - val_loss: 1.0921 - val_accuracy: 0.4651\n",
      "Epoch 39/100\n",
      "930/930 [==============================] - 6s 6ms/step - loss: 1.0982 - accuracy: 0.4634 - val_loss: 1.0922 - val_accuracy: 0.4629\n",
      "Epoch 40/100\n",
      "930/930 [==============================] - 5s 5ms/step - loss: 1.0977 - accuracy: 0.4620 - val_loss: 1.0934 - val_accuracy: 0.4720\n",
      "Epoch 41/100\n",
      "930/930 [==============================] - 6s 6ms/step - loss: 1.0969 - accuracy: 0.4657 - val_loss: 1.0916 - val_accuracy: 0.4594\n",
      "Epoch 42/100\n",
      "930/930 [==============================] - 5s 5ms/step - loss: 1.0968 - accuracy: 0.4649 - val_loss: 1.0920 - val_accuracy: 0.4677\n",
      "Epoch 43/100\n",
      "930/930 [==============================] - 5s 5ms/step - loss: 1.0963 - accuracy: 0.4651 - val_loss: 1.0917 - val_accuracy: 0.4642\n",
      "Epoch 44/100\n",
      "930/930 [==============================] - 5s 5ms/step - loss: 1.0959 - accuracy: 0.4655 - val_loss: 1.0908 - val_accuracy: 0.4683\n",
      "Epoch 45/100\n",
      "930/930 [==============================] - 5s 6ms/step - loss: 1.0955 - accuracy: 0.4680 - val_loss: 1.0902 - val_accuracy: 0.4659\n",
      "Epoch 46/100\n",
      "930/930 [==============================] - 5s 5ms/step - loss: 1.0952 - accuracy: 0.4659 - val_loss: 1.0918 - val_accuracy: 0.4660\n",
      "Epoch 47/100\n",
      "930/930 [==============================] - 5s 6ms/step - loss: 1.0947 - accuracy: 0.4656 - val_loss: 1.0960 - val_accuracy: 0.4528\n",
      "Epoch 48/100\n",
      "930/930 [==============================] - 5s 5ms/step - loss: 1.0950 - accuracy: 0.4681 - val_loss: 1.0888 - val_accuracy: 0.4798\n",
      "Epoch 49/100\n",
      "930/930 [==============================] - 5s 5ms/step - loss: 1.0943 - accuracy: 0.4669 - val_loss: 1.0894 - val_accuracy: 0.4771\n",
      "Epoch 50/100\n",
      "930/930 [==============================] - 5s 5ms/step - loss: 1.0935 - accuracy: 0.4664 - val_loss: 1.0950 - val_accuracy: 0.4655\n",
      "Epoch 51/100\n",
      "930/930 [==============================] - 6s 6ms/step - loss: 1.0938 - accuracy: 0.4639 - val_loss: 1.0890 - val_accuracy: 0.4756\n",
      "Epoch 52/100\n",
      "930/930 [==============================] - 5s 6ms/step - loss: 1.0929 - accuracy: 0.4675 - val_loss: 1.0915 - val_accuracy: 0.4747\n",
      "Epoch 53/100\n",
      "930/930 [==============================] - 5s 6ms/step - loss: 1.0941 - accuracy: 0.4664 - val_loss: 1.0989 - val_accuracy: 0.4493\n",
      "Epoch 54/100\n",
      "930/930 [==============================] - 5s 6ms/step - loss: 1.0943 - accuracy: 0.4648 - val_loss: 1.0901 - val_accuracy: 0.4654\n",
      "Epoch 55/100\n",
      "930/930 [==============================] - 5s 6ms/step - loss: 1.0929 - accuracy: 0.4673 - val_loss: 1.0882 - val_accuracy: 0.4658\n",
      "Epoch 56/100\n",
      "930/930 [==============================] - 6s 6ms/step - loss: 1.0926 - accuracy: 0.4657 - val_loss: 1.0919 - val_accuracy: 0.4742\n",
      "Epoch 57/100\n",
      "930/930 [==============================] - 8s 9ms/step - loss: 1.0923 - accuracy: 0.4666 - val_loss: 1.0908 - val_accuracy: 0.4747\n",
      "Epoch 58/100\n",
      "930/930 [==============================] - 6s 7ms/step - loss: 1.0917 - accuracy: 0.4674 - val_loss: 1.0864 - val_accuracy: 0.4783\n",
      "Epoch 59/100\n",
      "930/930 [==============================] - 5s 5ms/step - loss: 1.0914 - accuracy: 0.4685 - val_loss: 1.0877 - val_accuracy: 0.4736\n",
      "Epoch 60/100\n",
      "930/930 [==============================] - 5s 6ms/step - loss: 1.0916 - accuracy: 0.4688 - val_loss: 1.0915 - val_accuracy: 0.4562\n",
      "Epoch 61/100\n",
      "930/930 [==============================] - 5s 6ms/step - loss: 1.0909 - accuracy: 0.4676 - val_loss: 1.0874 - val_accuracy: 0.4679\n",
      "Epoch 62/100\n",
      "930/930 [==============================] - 5s 5ms/step - loss: 1.0907 - accuracy: 0.4690 - val_loss: 1.0883 - val_accuracy: 0.4767\n",
      "Epoch 63/100\n",
      "930/930 [==============================] - 5s 5ms/step - loss: 1.0906 - accuracy: 0.4704 - val_loss: 1.0874 - val_accuracy: 0.4627\n",
      "Epoch 64/100\n",
      "930/930 [==============================] - 5s 5ms/step - loss: 1.0898 - accuracy: 0.4697 - val_loss: 1.0868 - val_accuracy: 0.4750\n",
      "Epoch 65/100\n",
      "930/930 [==============================] - 5s 5ms/step - loss: 1.0897 - accuracy: 0.4682 - val_loss: 1.0874 - val_accuracy: 0.4720\n",
      "Epoch 66/100\n",
      "930/930 [==============================] - 5s 6ms/step - loss: 1.0893 - accuracy: 0.4711 - val_loss: 1.0880 - val_accuracy: 0.4735\n",
      "Epoch 67/100\n",
      "930/930 [==============================] - 5s 6ms/step - loss: 1.0900 - accuracy: 0.4693 - val_loss: 1.0857 - val_accuracy: 0.4757\n",
      "Epoch 68/100\n",
      "930/930 [==============================] - 5s 6ms/step - loss: 1.0893 - accuracy: 0.4693 - val_loss: 1.0863 - val_accuracy: 0.4727\n",
      "Epoch 69/100\n",
      "930/930 [==============================] - 5s 6ms/step - loss: 1.0891 - accuracy: 0.4704 - val_loss: 1.0893 - val_accuracy: 0.4661\n",
      "Epoch 70/100\n",
      "930/930 [==============================] - 5s 6ms/step - loss: 1.0887 - accuracy: 0.4693 - val_loss: 1.0849 - val_accuracy: 0.4765\n",
      "Epoch 71/100\n",
      "930/930 [==============================] - 6s 6ms/step - loss: 1.0882 - accuracy: 0.4729 - val_loss: 1.0845 - val_accuracy: 0.4768\n",
      "Epoch 72/100\n",
      "930/930 [==============================] - 5s 5ms/step - loss: 1.0884 - accuracy: 0.4693 - val_loss: 1.0861 - val_accuracy: 0.4739\n",
      "Epoch 73/100\n",
      "930/930 [==============================] - 6s 7ms/step - loss: 1.0880 - accuracy: 0.4703 - val_loss: 1.0849 - val_accuracy: 0.4840\n",
      "Epoch 74/100\n",
      "930/930 [==============================] - 5s 6ms/step - loss: 1.0884 - accuracy: 0.4711 - val_loss: 1.0840 - val_accuracy: 0.4771\n",
      "Epoch 75/100\n",
      "930/930 [==============================] - 6s 6ms/step - loss: 1.0883 - accuracy: 0.4717 - val_loss: 1.0851 - val_accuracy: 0.4722\n",
      "Epoch 76/100\n",
      "930/930 [==============================] - 5s 6ms/step - loss: 1.0885 - accuracy: 0.4719 - val_loss: 1.0846 - val_accuracy: 0.4766\n",
      "Epoch 77/100\n",
      "930/930 [==============================] - 5s 6ms/step - loss: 1.0875 - accuracy: 0.4693 - val_loss: 1.0861 - val_accuracy: 0.4690\n",
      "Epoch 78/100\n",
      "930/930 [==============================] - 6s 6ms/step - loss: 1.0872 - accuracy: 0.4698 - val_loss: 1.0859 - val_accuracy: 0.4763\n",
      "Epoch 79/100\n",
      "930/930 [==============================] - 5s 6ms/step - loss: 1.0871 - accuracy: 0.4726 - val_loss: 1.0837 - val_accuracy: 0.4767\n",
      "Epoch 80/100\n",
      "930/930 [==============================] - 5s 6ms/step - loss: 1.0871 - accuracy: 0.4705 - val_loss: 1.0822 - val_accuracy: 0.4692\n",
      "Epoch 81/100\n",
      "930/930 [==============================] - 5s 6ms/step - loss: 1.0869 - accuracy: 0.4718 - val_loss: 1.0833 - val_accuracy: 0.4747\n",
      "Epoch 82/100\n",
      "930/930 [==============================] - 5s 6ms/step - loss: 1.0891 - accuracy: 0.4723 - val_loss: 1.0873 - val_accuracy: 0.4622\n",
      "Epoch 83/100\n",
      "930/930 [==============================] - 5s 6ms/step - loss: 1.0868 - accuracy: 0.4736 - val_loss: 1.0822 - val_accuracy: 0.4652\n",
      "Epoch 84/100\n",
      "930/930 [==============================] - 6s 6ms/step - loss: 1.0865 - accuracy: 0.4698 - val_loss: 1.0900 - val_accuracy: 0.4718\n",
      "Epoch 85/100\n",
      "930/930 [==============================] - 5s 5ms/step - loss: 1.0864 - accuracy: 0.4724 - val_loss: 1.0847 - val_accuracy: 0.4653\n",
      "Epoch 86/100\n",
      "930/930 [==============================] - 5s 6ms/step - loss: 1.0860 - accuracy: 0.4732 - val_loss: 1.0843 - val_accuracy: 0.4782\n",
      "Epoch 87/100\n",
      "930/930 [==============================] - 5s 5ms/step - loss: 1.0858 - accuracy: 0.4724 - val_loss: 1.0821 - val_accuracy: 0.4807\n",
      "Epoch 88/100\n",
      "930/930 [==============================] - 5s 5ms/step - loss: 1.0860 - accuracy: 0.4721 - val_loss: 1.0832 - val_accuracy: 0.4760\n",
      "Epoch 89/100\n",
      "930/930 [==============================] - 5s 5ms/step - loss: 1.0859 - accuracy: 0.4717 - val_loss: 1.0851 - val_accuracy: 0.4718\n",
      "Epoch 90/100\n",
      "930/930 [==============================] - 5s 5ms/step - loss: 1.0853 - accuracy: 0.4745 - val_loss: 1.0832 - val_accuracy: 0.4735\n",
      "Epoch 91/100\n",
      "930/930 [==============================] - 5s 5ms/step - loss: 1.0853 - accuracy: 0.4729 - val_loss: 1.0903 - val_accuracy: 0.4738\n",
      "Epoch 92/100\n",
      "930/930 [==============================] - 5s 5ms/step - loss: 1.0850 - accuracy: 0.4738 - val_loss: 1.0830 - val_accuracy: 0.4751\n",
      "Epoch 93/100\n",
      "930/930 [==============================] - 5s 5ms/step - loss: 1.0847 - accuracy: 0.4743 - val_loss: 1.0834 - val_accuracy: 0.4684\n",
      "Epoch 94/100\n",
      "930/930 [==============================] - 5s 5ms/step - loss: 1.0848 - accuracy: 0.4722 - val_loss: 1.0827 - val_accuracy: 0.4735\n",
      "Epoch 95/100\n",
      "930/930 [==============================] - 5s 5ms/step - loss: 1.0845 - accuracy: 0.4740 - val_loss: 1.0809 - val_accuracy: 0.4776\n",
      "Epoch 96/100\n",
      "930/930 [==============================] - 5s 5ms/step - loss: 1.0849 - accuracy: 0.4724 - val_loss: 1.0823 - val_accuracy: 0.4710\n",
      "Epoch 97/100\n",
      "930/930 [==============================] - 5s 5ms/step - loss: 1.0843 - accuracy: 0.4744 - val_loss: 1.0803 - val_accuracy: 0.4765\n",
      "Epoch 98/100\n",
      "930/930 [==============================] - 5s 5ms/step - loss: 1.0844 - accuracy: 0.4735 - val_loss: 1.0797 - val_accuracy: 0.4759\n",
      "Epoch 99/100\n",
      "930/930 [==============================] - 6s 6ms/step - loss: 1.0838 - accuracy: 0.4734 - val_loss: 1.0847 - val_accuracy: 0.4759\n",
      "Epoch 100/100\n",
      "930/930 [==============================] - 5s 5ms/step - loss: 1.0841 - accuracy: 0.4743 - val_loss: 1.0820 - val_accuracy: 0.4761\n"
     ]
    }
   ],
   "source": [
    "# Melatih model dengan dataset utama\n",
    "history = model.fit(X_train, y_train, epochs=100, batch_size=64, validation_data=(X_test, y_test))"
   ]
  },
  {
   "cell_type": "code",
   "execution_count": 104,
   "metadata": {},
   "outputs": [
    {
     "data": {
      "image/png": "[encoded data removed]",
      "text/plain": [
       "<Figure size 800x600 with 1 Axes>"
      ]
     },
     "metadata": {},
     "output_type": "display_data"
    },
    {
     "data": {
      "image/png": "[encoded data removed]",
      "text/plain": [
       "<Figure size 800x600 with 1 Axes>"
      ]
     },
     "metadata": {},
     "output_type": "display_data"
    }
   ],
   "source": [
    "# Ambil histori akurasi dan loss dari proses pelatihan\n",
    "train_accuracy = history.history['accuracy']\n",
    "test_accuracy = history.history['val_accuracy']\n",
    "train_loss = history.history['loss']\n",
    "test_loss = history.history['val_loss']\n",
    "\n",
    "# Buat plot untuk akurasi\n",
    "plt.figure(figsize=(8, 6))\n",
    "plt.plot(range(1, len(train_accuracy) + 1), train_accuracy, label='Training Accuracy')\n",
    "plt.plot(range(1, len(test_accuracy) + 1), test_accuracy, label='Test Accuracy')\n",
    "plt.xlabel('Epoch')\n",
    "plt.ylabel('Accuracy')\n",
    "plt.title('Training and Test Accuracy')\n",
    "plt.legend()\n",
    "plt.show()\n",
    "\n",
    "# Buat plot untuk loss\n",
    "plt.figure(figsize=(8, 6))\n",
    "plt.plot(range(1, len(train_loss) + 1), train_loss, label='Training Loss')\n",
    "plt.plot(range(1, len(test_loss) + 1), test_loss, label='Test Loss')\n",
    "plt.xlabel('Epoch')\n",
    "plt.ylabel('Loss')\n",
    "plt.title('Training and Test Loss')\n",
    "plt.legend()\n",
    "plt.show()"
   ]
  },
  {
   "cell_type": "code",
   "execution_count": 105,
   "metadata": {},
   "outputs": [
    {
     "name": "stdout",
     "output_type": "stream",
     "text": [
      "1860/1860 [==============================] - 5s 3ms/step - loss: 1.0702 - accuracy: 0.4859\n",
      "Performa pada Data Latih:\n",
      "Loss: 1.0701982975006104\n",
      "Akurasi: 0.4859206974506378\n"
     ]
    }
   ],
   "source": [
    "# Evaluasi performa pada data latih\n",
    "training_scores = model.evaluate(X_train, y_train)\n",
    "print(\"Performa pada Data Latih:\")\n",
    "print(\"Loss:\", training_scores[0])\n",
    "print(\"Akurasi:\", training_scores[1])"
   ]
  },
  {
   "cell_type": "code",
   "execution_count": 106,
   "metadata": {},
   "outputs": [
    {
     "name": "stdout",
     "output_type": "stream",
     "text": [
      "465/465 [==============================] - 1s 3ms/step - loss: 1.0839 - accuracy: 0.4780\n",
      "Loss pada Data Uji: 1.0838860273361206\n",
      "Akurasi pada Data Uji: 0.47795698046684265\n"
     ]
    }
   ],
   "source": [
    "# Evaluasi performa pada data uji\n",
    "loss, accuracy = model.evaluate(X_test, y_test)\n",
    "print(\"Loss pada Data Uji:\", loss)\n",
    "print(\"Akurasi pada Data Uji:\", accuracy)"
   ]
  },
  {
   "cell_type": "code",
   "execution_count": 107,
   "metadata": {},
   "outputs": [
    {
     "name": "stdout",
     "output_type": "stream",
     "text": [
      "465/465 [==============================] - 2s 2ms/step\n"
     ]
    }
   ],
   "source": [
    "# Menghitung prediksi pada data uji\n",
    "y_test_pred = model.predict(X_test)"
   ]
  },
  {
   "cell_type": "code",
   "execution_count": 108,
   "metadata": {},
   "outputs": [
    {
     "name": "stdout",
     "output_type": "stream",
     "text": [
      "Mean Squared Error:\n",
      "0.15045133\n",
      "Mean Absolute Error:\n",
      "0.29949903\n"
     ]
    }
   ],
   "source": [
    "from sklearn.metrics import classification_report, confusion_matrix, mean_squared_error, mean_absolute_error\n",
    "\n",
    "# metrik evaluasi untuk masalah regresi\n",
    "print(\"Mean Squared Error:\")\n",
    "print(mean_squared_error(y_test, y_test_pred))\n",
    "\n",
    "print(\"Mean Absolute Error:\")\n",
    "print(mean_absolute_error(y_test, y_test_pred))\n"
   ]
  },
  {
   "cell_type": "code",
   "execution_count": 109,
   "metadata": {},
   "outputs": [],
   "source": [
    "model.save('All.h5')"
   ]
  },
  {
   "cell_type": "markdown",
   "metadata": {},
   "source": [
    "## Load Model"
   ]
  },
  {
   "cell_type": "code",
   "execution_count": 110,
   "metadata": {},
   "outputs": [],
   "source": [
    "model = load_model('All.h5')"
   ]
  },
  {
   "cell_type": "markdown",
   "metadata": {},
   "source": [
    "# Predict Datates"
   ]
  },
  {
   "cell_type": "code",
   "execution_count": 111,
   "metadata": {},
   "outputs": [],
   "source": [
    "# Membaca dataset yang ingin diprediksi\n",
    "predict_df = pd.read_csv('C:/Users/Afif Alaudin/Documents/GitHub/ta2023-boneusg/Data 6 Juli - Fix/LTSM/Process/50%/K502_processed.csv')\n",
    "X_predict = predict_df.iloc[:].values"
   ]
  },
  {
   "cell_type": "code",
   "execution_count": 112,
   "metadata": {},
   "outputs": [
    {
     "ename": "ValueError",
     "evalue": "in user code:\n\n    File \"c:\\Users\\Afif Alaudin\\AppData\\Local\\Programs\\Python\\Python311\\Lib\\site-packages\\keras\\engine\\training.py\", line 2169, in predict_function  *\n        return step_function(self, iterator)\n    File \"c:\\Users\\Afif Alaudin\\AppData\\Local\\Programs\\Python\\Python311\\Lib\\site-packages\\keras\\engine\\training.py\", line 2155, in step_function  **\n        outputs = model.distribute_strategy.run(run_step, args=(data,))\n    File \"c:\\Users\\Afif Alaudin\\AppData\\Local\\Programs\\Python\\Python311\\Lib\\site-packages\\keras\\engine\\training.py\", line 2143, in run_step  **\n        outputs = model.predict_step(data)\n    File \"c:\\Users\\Afif Alaudin\\AppData\\Local\\Programs\\Python\\Python311\\Lib\\site-packages\\keras\\engine\\training.py\", line 2111, in predict_step\n        return self(x, training=False)\n    File \"c:\\Users\\Afif Alaudin\\AppData\\Local\\Programs\\Python\\Python311\\Lib\\site-packages\\keras\\utils\\traceback_utils.py\", line 70, in error_handler\n        raise e.with_traceback(filtered_tb) from None\n    File \"c:\\Users\\Afif Alaudin\\AppData\\Local\\Programs\\Python\\Python311\\Lib\\site-packages\\keras\\engine\\input_spec.py\", line 298, in assert_input_compatibility\n        raise ValueError(\n\n    ValueError: Input 0 of layer \"sequential_5\" is incompatible with the layer: expected shape=(None, 3, 1), found shape=(None, 2)\n",
     "output_type": "error",
     "traceback": [
      "\u001b[1;31m---------------------------------------------------------------------------\u001b[0m",
      "\u001b[1;31mValueError\u001b[0m                                Traceback (most recent call last)",
      "\u001b[1;32mc:\\Users\\Afif Alaudin\\Documents\\GitHub\\ta2023-boneusg\\Data 6 Juli - Fix\\LTSM\\LTSM_Full.ipynb Cell 37\u001b[0m in \u001b[0;36m2\n\u001b[0;32m      <a href='vscode-notebook-cell:/c%3A/Users/Afif%20Alaudin/Documents/GitHub/ta2023-boneusg/Data%206%20Juli%20-%20Fix/LTSM/LTSM_Full.ipynb#X43sZmlsZQ%3D%3D?line=0'>1</a>\u001b[0m \u001b[39m# Memprediksi label menggunakan model yang telah dilatih\u001b[39;00m\n\u001b[1;32m----> <a href='vscode-notebook-cell:/c%3A/Users/Afif%20Alaudin/Documents/GitHub/ta2023-boneusg/Data%206%20Juli%20-%20Fix/LTSM/LTSM_Full.ipynb#X43sZmlsZQ%3D%3D?line=1'>2</a>\u001b[0m y_pred_encoded \u001b[39m=\u001b[39m model\u001b[39m.\u001b[39;49mpredict(X_predict)\n\u001b[0;32m      <a href='vscode-notebook-cell:/c%3A/Users/Afif%20Alaudin/Documents/GitHub/ta2023-boneusg/Data%206%20Juli%20-%20Fix/LTSM/LTSM_Full.ipynb#X43sZmlsZQ%3D%3D?line=2'>3</a>\u001b[0m y_pred \u001b[39m=\u001b[39m np\u001b[39m.\u001b[39margmax(y_pred_encoded, axis\u001b[39m=\u001b[39m\u001b[39m1\u001b[39m)\n\u001b[0;32m      <a href='vscode-notebook-cell:/c%3A/Users/Afif%20Alaudin/Documents/GitHub/ta2023-boneusg/Data%206%20Juli%20-%20Fix/LTSM/LTSM_Full.ipynb#X43sZmlsZQ%3D%3D?line=3'>4</a>\u001b[0m y_pred_label \u001b[39m=\u001b[39m label_encoder\u001b[39m.\u001b[39minverse_transform(y_pred)\n",
      "File \u001b[1;32mc:\\Users\\Afif Alaudin\\AppData\\Local\\Programs\\Python\\Python311\\Lib\\site-packages\\keras\\utils\\traceback_utils.py:70\u001b[0m, in \u001b[0;36mfilter_traceback.<locals>.error_handler\u001b[1;34m(*args, **kwargs)\u001b[0m\n\u001b[0;32m     67\u001b[0m     filtered_tb \u001b[39m=\u001b[39m _process_traceback_frames(e\u001b[39m.\u001b[39m__traceback__)\n\u001b[0;32m     68\u001b[0m     \u001b[39m# To get the full stack trace, call:\u001b[39;00m\n\u001b[0;32m     69\u001b[0m     \u001b[39m# `tf.debugging.disable_traceback_filtering()`\u001b[39;00m\n\u001b[1;32m---> 70\u001b[0m     \u001b[39mraise\u001b[39;00m e\u001b[39m.\u001b[39mwith_traceback(filtered_tb) \u001b[39mfrom\u001b[39;00m \u001b[39mNone\u001b[39m\n\u001b[0;32m     71\u001b[0m \u001b[39mfinally\u001b[39;00m:\n\u001b[0;32m     72\u001b[0m     \u001b[39mdel\u001b[39;00m filtered_tb\n",
      "File \u001b[1;32mC:\\Users\\AFIFAL~1\\AppData\\Local\\Temp\\__autograph_generated_filezrr_vy6y.py:15\u001b[0m, in \u001b[0;36mouter_factory.<locals>.inner_factory.<locals>.tf__predict_function\u001b[1;34m(iterator)\u001b[0m\n\u001b[0;32m     13\u001b[0m \u001b[39mtry\u001b[39;00m:\n\u001b[0;32m     14\u001b[0m     do_return \u001b[39m=\u001b[39m \u001b[39mTrue\u001b[39;00m\n\u001b[1;32m---> 15\u001b[0m     retval_ \u001b[39m=\u001b[39m ag__\u001b[39m.\u001b[39mconverted_call(ag__\u001b[39m.\u001b[39mld(step_function), (ag__\u001b[39m.\u001b[39mld(\u001b[39mself\u001b[39m), ag__\u001b[39m.\u001b[39mld(iterator)), \u001b[39mNone\u001b[39;00m, fscope)\n\u001b[0;32m     16\u001b[0m \u001b[39mexcept\u001b[39;00m:\n\u001b[0;32m     17\u001b[0m     do_return \u001b[39m=\u001b[39m \u001b[39mFalse\u001b[39;00m\n",
      "\u001b[1;31mValueError\u001b[0m: in user code:\n\n    File \"c:\\Users\\Afif Alaudin\\AppData\\Local\\Programs\\Python\\Python311\\Lib\\site-packages\\keras\\engine\\training.py\", line 2169, in predict_function  *\n        return step_function(self, iterator)\n    File \"c:\\Users\\Afif Alaudin\\AppData\\Local\\Programs\\Python\\Python311\\Lib\\site-packages\\keras\\engine\\training.py\", line 2155, in step_function  **\n        outputs = model.distribute_strategy.run(run_step, args=(data,))\n    File \"c:\\Users\\Afif Alaudin\\AppData\\Local\\Programs\\Python\\Python311\\Lib\\site-packages\\keras\\engine\\training.py\", line 2143, in run_step  **\n        outputs = model.predict_step(data)\n    File \"c:\\Users\\Afif Alaudin\\AppData\\Local\\Programs\\Python\\Python311\\Lib\\site-packages\\keras\\engine\\training.py\", line 2111, in predict_step\n        return self(x, training=False)\n    File \"c:\\Users\\Afif Alaudin\\AppData\\Local\\Programs\\Python\\Python311\\Lib\\site-packages\\keras\\utils\\traceback_utils.py\", line 70, in error_handler\n        raise e.with_traceback(filtered_tb) from None\n    File \"c:\\Users\\Afif Alaudin\\AppData\\Local\\Programs\\Python\\Python311\\Lib\\site-packages\\keras\\engine\\input_spec.py\", line 298, in assert_input_compatibility\n        raise ValueError(\n\n    ValueError: Input 0 of layer \"sequential_5\" is incompatible with the layer: expected shape=(None, 3, 1), found shape=(None, 2)\n"
     ]
    }
   ],
   "source": [
    "# Memprediksi label menggunakan model yang telah dilatih\n",
    "y_pred_encoded = model.predict(X_predict)\n",
    "y_pred = np.argmax(y_pred_encoded, axis=1)\n",
    "y_pred_label = label_encoder.inverse_transform(y_pred)"
   ]
  },
  {
   "cell_type": "markdown",
   "metadata": {},
   "source": [
    "# Save Predict"
   ]
  },
  {
   "cell_type": "code",
   "execution_count": null,
   "metadata": {},
   "outputs": [
    {
     "ename": "NameError",
     "evalue": "name 'y_pred_label' is not defined",
     "output_type": "error",
     "traceback": [
      "\u001b[1;31m---------------------------------------------------------------------------\u001b[0m",
      "\u001b[1;31mNameError\u001b[0m                                 Traceback (most recent call last)",
      "\u001b[1;32mc:\\Users\\Afif Alaudin\\Documents\\GitHub\\ta2023-boneusg\\Data 6 Juli - Fix\\LTSM\\LTSM_Full.ipynb Cell 40\u001b[0m in \u001b[0;36m2\n\u001b[0;32m      <a href='vscode-notebook-cell:/c%3A/Users/Afif%20Alaudin/Documents/GitHub/ta2023-boneusg/Data%206%20Juli%20-%20Fix/LTSM/LTSM_Full.ipynb#X45sZmlsZQ%3D%3D?line=0'>1</a>\u001b[0m result_df \u001b[39m=\u001b[39m predict_df\u001b[39m.\u001b[39mcopy()\n\u001b[1;32m----> <a href='vscode-notebook-cell:/c%3A/Users/Afif%20Alaudin/Documents/GitHub/ta2023-boneusg/Data%206%20Juli%20-%20Fix/LTSM/LTSM_Full.ipynb#X45sZmlsZQ%3D%3D?line=1'>2</a>\u001b[0m result_df[\u001b[39m'\u001b[39m\u001b[39mpredicted_label\u001b[39m\u001b[39m'\u001b[39m] \u001b[39m=\u001b[39m y_pred_label\n\u001b[0;32m      <a href='vscode-notebook-cell:/c%3A/Users/Afif%20Alaudin/Documents/GitHub/ta2023-boneusg/Data%206%20Juli%20-%20Fix/LTSM/LTSM_Full.ipynb#X45sZmlsZQ%3D%3D?line=2'>3</a>\u001b[0m result_df\u001b[39m.\u001b[39mto_csv(\u001b[39m'\u001b[39m\u001b[39mdata_predict_predicted.csv\u001b[39m\u001b[39m'\u001b[39m, index\u001b[39m=\u001b[39m\u001b[39mFalse\u001b[39;00m)\n",
      "\u001b[1;31mNameError\u001b[0m: name 'y_pred_label' is not defined"
     ]
    }
   ],
   "source": [
    "result_df = predict_df.copy()\n",
    "result_df['predicted_label'] = y_pred_label\n",
    "result_df.to_csv('data_predict_predicted.csv', index=False)"
   ]
  },
  {
   "cell_type": "markdown",
   "metadata": {},
   "source": [
    "# Result Predict"
   ]
  },
  {
   "cell_type": "code",
   "execution_count": null,
   "metadata": {},
   "outputs": [],
   "source": [
    "print(result_df['predicted_label'].value_counts())"
   ]
  },
  {
   "cell_type": "code",
   "execution_count": null,
   "metadata": {},
   "outputs": [],
   "source": [
    "# Membandingkan kemiripan label dengan dataset utama\n",
    "\n",
    "similar_labels = []\n",
    "for label in result_df['predicted_label'].unique():\n",
    "    similarity = max(SequenceMatcher(None, label, unique_label).ratio() for unique_label in np.unique(y))\n",
    "if similarity > 0.7:\n",
    "    print(\"Data match :\", label)"
   ]
  },
  {
   "cell_type": "code",
   "execution_count": null,
   "metadata": {},
   "outputs": [],
   "source": [
    "Piye carane ben iso muncul 1 dataset tok"
   ]
  }
 ],
 "metadata": {
  "kernelspec": {
   "display_name": "Python 3",
   "language": "python",
   "name": "python3"
  },
  "language_info": {
   "codemirror_mode": {
    "name": "ipython",
    "version": 3
   },
   "file_extension": ".py",
   "mimetype": "text/x-python",
   "name": "python",
   "nbconvert_exporter": "python",
   "pygments_lexer": "ipython3",
   "version": "3.11.0"
  },
  "orig_nbformat": 4
 },
 "nbformat": 4,
 "nbformat_minor": 2
}
