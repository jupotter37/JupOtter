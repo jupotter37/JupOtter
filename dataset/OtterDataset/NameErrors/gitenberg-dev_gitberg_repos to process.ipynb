{
 "cells": [
  {
   "cell_type": "code",
   "execution_count": 10,
   "metadata": {
    "collapsed": false
   },
   "outputs": [
    {
     "name": "stdout",
     "output_type": "stream",
     "text": [
      "5700 are done\n",
      "1353 are missing\n",
      "Inaugural-Address-of-Franklin-Delano-Roosevelt--13-Given-in-Washington-D.C.-March-4th-1933_104\n",
      "Far-from-the-Madding-Crowd_107\n",
      "The-Return-of-Sherlock-Holmes_108\n",
      "Renascence-and-Other-Poems_109\n",
      "Freckles_111\n",
      "Violists_112\n",
      "United-States-Census-Figures-Back-to-1630_115\n",
      "Symphony-No.-5-in-C-minor-Opus-67_117\n",
      "Big-Dummy-s-Guide-to-the-Internet_118\n",
      "A-Tramp-Abroad_119\n",
      "The-Return-of-the-Native_122\n",
      "At-the-Earth-s-Core_123\n",
      "A-Girl-of-the-Limberlost_125\n",
      "The-Poison-Belt_126\n",
      "The-Arabian-Nights-Entertainments_128\n",
      "The-Pilgrim-s-Progress-from-this-world-to-that-which-is-to-come--13-Delivered-under-the-similit__131\n",
      "Maria-or-the-Wrongs-of-Woman_134\n",
      "Daddy-Long-Legs_157\n",
      "American-Hand-Book-of-the-Daguerreotype_167\n",
      "The-1994-CIA-World-Factbook_180\n"
     ]
    },
    {
     "ename": "NameError",
     "evalue": "name 'BookMetadata' is not defined",
     "output_type": "error",
     "traceback": [
      "\u001b[0;31m---------------------------------------------------------------------------\u001b[0m",
      "\u001b[0;31mNameError\u001b[0m                                 Traceback (most recent call last)",
      "\u001b[0;32m<ipython-input-10-406023ba00e1>\u001b[0m in \u001b[0;36m<module>\u001b[0;34m()\u001b[0m\n\u001b[1;32m     27\u001b[0m \u001b[0;32mfor\u001b[0m \u001b[0mpg_id\u001b[0m \u001b[0;32min\u001b[0m \u001b[0mlist\u001b[0m\u001b[0;34m(\u001b[0m\u001b[0mmissing\u001b[0m\u001b[0;34m)\u001b[0m\u001b[0;34m:\u001b[0m\u001b[0;34m\u001b[0m\u001b[0m\n\u001b[1;32m     28\u001b[0m     \u001b[0mpg_book\u001b[0m\u001b[0;34m=\u001b[0m\u001b[0mbook\u001b[0m\u001b[0;34m(\u001b[0m\u001b[0mpg_id\u001b[0m\u001b[0;34m)\u001b[0m\u001b[0;34m\u001b[0m\u001b[0m\n\u001b[0;32m---> 29\u001b[0;31m     \u001b[0mmetadata\u001b[0m\u001b[0;34m=\u001b[0m\u001b[0mBookMetadata\u001b[0m\u001b[0;34m(\u001b[0m\u001b[0mpg_book\u001b[0m\u001b[0;34m,\u001b[0m\u001b[0mrdf_library\u001b[0m\u001b[0;34m=\u001b[0m\u001b[0mrdf_library\u001b[0m\u001b[0;34m,\u001b[0m \u001b[0menrich\u001b[0m\u001b[0;34m=\u001b[0m\u001b[0mFalse\u001b[0m\u001b[0;34m)\u001b[0m\u001b[0;34m\u001b[0m\u001b[0m\n\u001b[0m\u001b[1;32m     30\u001b[0m     \u001b[0;32mtry\u001b[0m\u001b[0;34m:\u001b[0m\u001b[0;34m\u001b[0m\u001b[0m\n\u001b[1;32m     31\u001b[0m         \u001b[0mmetadata\u001b[0m\u001b[0;34m.\u001b[0m\u001b[0mparse_rdf\u001b[0m\u001b[0;34m(\u001b[0m\u001b[0;34m)\u001b[0m\u001b[0;34m\u001b[0m\u001b[0m\n",
      "\u001b[0;31mNameError\u001b[0m: name 'BookMetadata' is not defined"
     ]
    }
   ],
   "source": [
    "import csv\n",
    "import sys\n",
    "sys.path.append(\"..\")\n",
    "from gitenberg.util.catalog import repo_for_pgid\n",
    "\n",
    "class book:\n",
    "    def __init__(self,_id):\n",
    "        self.book_id = _id\n",
    "done_ids=set()\n",
    "with open('/Documents/gitenberg/done.txt','r') as f:\n",
    "    for vals in csv.reader(f,delimiter='\\t', quotechar='\"'):\n",
    "        if len(vals) < 2:\n",
    "            print vals\n",
    "        else:\n",
    "            done_ids.add(int(vals[1]))\n",
    "print \"{} are done\".format(len(done_ids))\n",
    "missing=set()\n",
    "with open('../assets/missing.tsv','r') as f:\n",
    "    for vals in csv.reader(f,delimiter='\\t', quotechar='\"'):\n",
    "        missing.add(int(vals[0]))\n",
    "print \"{} are missing\".format(len(missing))\n",
    "\n",
    "for pg_id in repo_for_pgid.keys()[100:200]:\n",
    "    if pg_id not in done_ids and pg_id not in missing:\n",
    "        print repo_for_pgid[pg_id]\n",
    "\n",
    "for pg_id in list(missing):\n",
    "    pg_book=book(pg_id)\n",
    "    metadata=BookMetadata(pg_book,rdf_library=rdf_library, enrich=False)\n",
    "    try:\n",
    "        metadata.parse_rdf()\n",
    "    except TypeError as e:\n",
    "        print 'Error in {}'.format(pg_id)\n",
    "        print e\n",
    "        break\n",
    "    if metadata.gutenberg_type != u'Text':\n",
    "        missing.remove(pg_id) \n",
    "        print '{}\\t{}'.format(pg_id,metadata.gutenberg_type)\n",
    "    if metadata.gutenberg_issued == None:\n",
    "        missing.remove(pg_id) \n",
    "        print '{}\\tWithdrawn'.format(pg_id)\n",
    "        \n"
   ]
  },
  {
   "cell_type": "code",
   "execution_count": 14,
   "metadata": {
    "collapsed": false
   },
   "outputs": [
    {
     "data": {
      "text/plain": [
       "'23'"
      ]
     },
     "execution_count": 14,
     "metadata": {},
     "output_type": "execute_result"
    }
   ],
   "source": [
    "import re\n",
    "re.match(r'^\\d+$', '23').group(0)"
   ]
  },
  {
   "cell_type": "code",
   "execution_count": null,
   "metadata": {
    "collapsed": true
   },
   "outputs": [],
   "source": []
  }
 ],
 "metadata": {
  "kernelspec": {
   "display_name": "Python 2",
   "language": "python",
   "name": "python2"
  },
  "language_info": {
   "codemirror_mode": {
    "name": "ipython",
    "version": 2
   },
   "file_extension": ".py",
   "mimetype": "text/x-python",
   "name": "python",
   "nbconvert_exporter": "python",
   "pygments_lexer": "ipython2",
   "version": "2.7.9"
  }
 },
 "nbformat": 4,
 "nbformat_minor": 0
}
