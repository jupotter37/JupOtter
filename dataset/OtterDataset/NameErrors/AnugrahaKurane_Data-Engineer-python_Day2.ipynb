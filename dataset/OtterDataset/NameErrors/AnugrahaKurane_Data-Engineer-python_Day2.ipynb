{
 "cells": [
  {
   "cell_type": "code",
   "execution_count": 1,
   "id": "f4277e6f",
   "metadata": {},
   "outputs": [
    {
     "name": "stdout",
     "output_type": "stream",
     "text": [
      "[10, 20, 30, 50]\n",
      "[10, 45, 30, 50]\n"
     ]
    }
   ],
   "source": [
    "n=[10,20,30,50] # list is mutable\n",
    "print(n)\n",
    "n[1] = 45\n",
    "print(n)"
   ]
  },
  {
   "cell_type": "code",
   "execution_count": 3,
   "id": "e29700c4",
   "metadata": {},
   "outputs": [
    {
     "name": "stdout",
     "output_type": "stream",
     "text": [
      "[23, 'rdscx', 67, 'teswz', '2']\n"
     ]
    },
    {
     "ename": "IndexError",
     "evalue": "list assignment index out of range",
     "output_type": "error",
     "traceback": [
      "\u001b[1;31m---------------------------------------------------------------------------\u001b[0m",
      "\u001b[1;31mIndexError\u001b[0m                                Traceback (most recent call last)",
      "Cell \u001b[1;32mIn[3], line 3\u001b[0m\n\u001b[0;32m      1\u001b[0m n\u001b[38;5;241m=\u001b[39m[\u001b[38;5;241m23\u001b[39m, \u001b[38;5;124m'\u001b[39m\u001b[38;5;124mrdscx\u001b[39m\u001b[38;5;124m'\u001b[39m,\u001b[38;5;241m67\u001b[39m,\u001b[38;5;124m\"\u001b[39m\u001b[38;5;124mteswz\u001b[39m\u001b[38;5;124m\"\u001b[39m,\u001b[38;5;124m'\u001b[39m\u001b[38;5;124m2\u001b[39m\u001b[38;5;124m'\u001b[39m]\n\u001b[0;32m      2\u001b[0m \u001b[38;5;28mprint\u001b[39m(n)\n\u001b[1;32m----> 3\u001b[0m n[\u001b[38;5;241m5\u001b[39m]\u001b[38;5;241m=\u001b[39m\u001b[38;5;241m23\u001b[39m\n\u001b[0;32m      4\u001b[0m \u001b[38;5;28mprint\u001b[39m(n)\n",
      "\u001b[1;31mIndexError\u001b[0m: list assignment index out of range"
     ]
    }
   ],
   "source": [
    "n=[23, 'rdscx',67,\"teswz\",'2'] # So to add extra element we cant add it using index, so use append function\n",
    "print(n)\n",
    "n[5]=23\n",
    "print(n)"
   ]
  },
  {
   "cell_type": "code",
   "execution_count": 4,
   "id": "12cc8480",
   "metadata": {},
   "outputs": [
    {
     "name": "stdout",
     "output_type": "stream",
     "text": [
      "[23, 'rdscx', 67, 'teswz', '2']\n",
      "[23, 'rdscx', 67, 'teswz', '2', 1, 'wrdscx']\n"
     ]
    }
   ],
   "source": [
    "##APPEND FUNCTION\n",
    "n=[23, 'rdscx',67,\"teswz\",'2'] \n",
    "print(n)\n",
    "n.append(1)\n",
    "n.append(\"wrdscx\")\n",
    "print(n)"
   ]
  },
  {
   "cell_type": "code",
   "execution_count": 7,
   "id": "15624130",
   "metadata": {},
   "outputs": [
    {
     "name": "stdout",
     "output_type": "stream",
     "text": [
      "[1]\n",
      "[1, 2]\n",
      "[1, 2, 3]\n",
      "[1, 2, 3, 4]\n"
     ]
    }
   ],
   "source": [
    "list=[]\n",
    "for i in range(1,5):\n",
    "    if(i%10):\n",
    "        list.append(i)\n",
    "        print(list)"
   ]
  },
  {
   "cell_type": "code",
   "execution_count": 14,
   "id": "20ef5323",
   "metadata": {},
   "outputs": [
    {
     "name": "stdout",
     "output_type": "stream",
     "text": [
      "[1, 2, 3, 4, 5, 6, 7]\n"
     ]
    }
   ],
   "source": [
    "list=[]\n",
    "for i in range(8):\n",
    "    if(i/10):\n",
    "        list.append(i)\n",
    "print(list)"
   ]
  },
  {
   "cell_type": "code",
   "execution_count": 15,
   "id": "cf35a62d",
   "metadata": {},
   "outputs": [
    {
     "name": "stdout",
     "output_type": "stream",
     "text": [
      "[]\n",
      "[1]\n",
      "[1, 2]\n",
      "[1, 2, 3]\n",
      "[1, 2, 3, 4]\n",
      "[1, 2, 3, 4, 5]\n",
      "[1, 2, 3, 4, 5, 6]\n",
      "[1, 2, 3, 4, 5, 6, 7]\n"
     ]
    }
   ],
   "source": [
    "list=[]\n",
    "for i in range(8):\n",
    "    if(i/10):\n",
    "        list.append(i)\n",
    "    print(list)"
   ]
  },
  {
   "cell_type": "code",
   "execution_count": 18,
   "id": "6bd1f335",
   "metadata": {},
   "outputs": [
    {
     "name": "stdout",
     "output_type": "stream",
     "text": [
      "[1]\n",
      "[1, 2]\n",
      "[1, 2, 3]\n",
      "[1, 2, 3, 4]\n",
      "[1, 2, 3, 4, 5]\n",
      "[1, 2, 3, 4, 5, 6]\n",
      "[1, 2, 3, 4, 5, 6, 7]\n"
     ]
    }
   ],
   "source": [
    "list=[]\n",
    "for i in range(8):\n",
    "    if(i/10):\n",
    "        list.append(i)\n",
    "        print(list)"
   ]
  },
  {
   "cell_type": "code",
   "execution_count": 20,
   "id": "153c902e",
   "metadata": {},
   "outputs": [
    {
     "name": "stdout",
     "output_type": "stream",
     "text": [
      "[0]\n",
      "[0]\n",
      "[0]\n",
      "[0]\n",
      "[0]\n",
      "[0]\n",
      "[0]\n",
      "[0]\n"
     ]
    }
   ],
   "source": [
    "list=[]\n",
    "for i in range(8):\n",
    "    if(i/10==0):\n",
    "        list.append(i)\n",
    "    print(list)"
   ]
  },
  {
   "cell_type": "code",
   "execution_count": 21,
   "id": "f7241d45",
   "metadata": {},
   "outputs": [
    {
     "name": "stdout",
     "output_type": "stream",
     "text": [
      "[0]\n"
     ]
    }
   ],
   "source": [
    "list=[]\n",
    "for i in range(8):\n",
    "    if(i/10==0):\n",
    "        list.append(i)\n",
    "print(list)"
   ]
  },
  {
   "cell_type": "code",
   "execution_count": 22,
   "id": "d072055c",
   "metadata": {},
   "outputs": [
    {
     "name": "stdout",
     "output_type": "stream",
     "text": [
      "[1, 2, 3, 'rt', 7, 'satfz']\n",
      "[1, 2, 3, 'rt', 7, 'satfz', 34]\n"
     ]
    }
   ],
   "source": [
    "##INSERT FUNCTION\n",
    "n=[1,2,3,'rt',7,\"satfz\"]\n",
    "print(n)\n",
    "n.insert (10,34)\n",
    "print(n)"
   ]
  },
  {
   "cell_type": "code",
   "execution_count": 24,
   "id": "c9efe44a",
   "metadata": {},
   "outputs": [
    {
     "name": "stdout",
     "output_type": "stream",
     "text": [
      "[1.2, 34, 'syudg', 34, '45', 'wy']\n",
      "[66, 77, 88]\n",
      "[1.2, 34, 'syudg', 34, '45', 'wy', 66, 77, 88]\n"
     ]
    }
   ],
   "source": [
    "## EXTEND FUNCTION\n",
    "i=[1.2, 34,'syudg',34,\"45\",\"wy\"] // extend function is not concatination\n",
    "print(i)\n",
    "u=[66,77,88]\n",
    "print(u)\n",
    "i.extend(u)\n",
    "print(i)"
   ]
  },
  {
   "cell_type": "code",
   "execution_count": 26,
   "id": "95b6aa23",
   "metadata": {},
   "outputs": [
    {
     "name": "stdout",
     "output_type": "stream",
     "text": [
      "['a,2', 2, 4, 6, 'ysdf', 'b', 1.6]\n",
      "['a,2', 2, 6, 'ysdf', 'b', 1.6]\n"
     ]
    }
   ],
   "source": [
    "##REMOVE FUNCTION\n",
    "r=['a,2',2,4,6,\"ysdf\",'b',1.6]\n",
    "print(r)\n",
    "##r.remove(3) ................gives error as 3 is not there in list \n",
    "r.remove(4)\n",
    "print(r)"
   ]
  },
  {
   "cell_type": "code",
   "execution_count": 28,
   "id": "9fee698f",
   "metadata": {},
   "outputs": [
    {
     "name": "stdout",
     "output_type": "stream",
     "text": [
      "[1, 2, 1, 2]\n",
      "[2, 1, 2]\n"
     ]
    }
   ],
   "source": [
    "y=[1,2,1,2]\n",
    "print(y)\n",
    "y.remove(1)\n",
    "print(y)"
   ]
  },
  {
   "cell_type": "code",
   "execution_count": 33,
   "id": "bb223ca9",
   "metadata": {},
   "outputs": [
    {
     "name": "stdout",
     "output_type": "stream",
     "text": [
      "[1, 2, 3, 4]\n",
      "[1, 2, 3]\n"
     ]
    }
   ],
   "source": [
    "#POP FUNCTION\n",
    "t=[1,2,3,4]\n",
    "print(t)\n",
    "t.pop()  # removes last element\n",
    "print(t)"
   ]
  },
  {
   "cell_type": "code",
   "execution_count": 38,
   "id": "782859f1",
   "metadata": {},
   "outputs": [
    {
     "name": "stdout",
     "output_type": "stream",
     "text": [
      "10\n"
     ]
    },
    {
     "data": {
      "text/plain": [
       "int"
      ]
     },
     "execution_count": 38,
     "metadata": {},
     "output_type": "execute_result"
    }
   ],
   "source": [
    "## TUPLE\n",
    "# its immutable , here value compulsory should end with comma\n",
    "t=(10)\n",
    "print(t)\n",
    "type(t)"
   ]
  },
  {
   "cell_type": "code",
   "execution_count": 39,
   "id": "7a57d179",
   "metadata": {},
   "outputs": [
    {
     "name": "stdout",
     "output_type": "stream",
     "text": [
      "(10,)\n"
     ]
    },
    {
     "data": {
      "text/plain": [
       "tuple"
      ]
     },
     "execution_count": 39,
     "metadata": {},
     "output_type": "execute_result"
    }
   ],
   "source": [
    "t=(10,)\n",
    "print(t)\n",
    "type(t)"
   ]
  },
  {
   "cell_type": "code",
   "execution_count": 41,
   "id": "873288e0",
   "metadata": {},
   "outputs": [
    {
     "name": "stdout",
     "output_type": "stream",
     "text": [
      "[23, 'df', 1.9, 6]\n",
      "(23, 'df', 1.9, 6)\n"
     ]
    },
    {
     "data": {
      "text/plain": [
       "tuple"
      ]
     },
     "execution_count": 41,
     "metadata": {},
     "output_type": "execute_result"
    }
   ],
   "source": [
    "list=[23,\"df\",1.9,6]\n",
    "print(list)\n",
    "type(list)\n",
    "t=tuple(list)\n",
    "print(t)\n",
    "type(t)"
   ]
  },
  {
   "cell_type": "code",
   "execution_count": 46,
   "id": "085b4206",
   "metadata": {},
   "outputs": [
    {
     "name": "stdout",
     "output_type": "stream",
     "text": [
      "(1, 2, 3)\n",
      "(0, 1, 2)\n",
      "(0, 2)\n"
     ]
    }
   ],
   "source": [
    "n=[1,2,3]\n",
    "p=tuple(n)\n",
    "print(p)\n",
    "t=tuple(range(0,3,1))\n",
    "print(t)\n",
    "t=tuple(range(0,3,2))\n",
    "print(t)"
   ]
  },
  {
   "cell_type": "code",
   "execution_count": 47,
   "id": "e5c0cc53",
   "metadata": {},
   "outputs": [
    {
     "name": "stdout",
     "output_type": "stream",
     "text": [
      "(1, 2, 3, 'rt', 'y')\n",
      "[2, 1, 2]\n",
      "(1, 2, 3, 'rt', 'y', 88, 99, 'right')\n"
     ]
    }
   ],
   "source": [
    "t=(1,2,3,\"rt\",'y')\n",
    "print(t)\n",
    "o=(88,99,'right')\n",
    "print(y)\n",
    "c=t+o      ## concatination operator + \n",
    "print(c)"
   ]
  },
  {
   "cell_type": "code",
   "execution_count": 48,
   "id": "c3607803",
   "metadata": {},
   "outputs": [
    {
     "name": "stdout",
     "output_type": "stream",
     "text": [
      "(10, 20, 30, 'y', 10, 20, 30, 'y', 10, 20, 30, 'y')\n"
     ]
    }
   ],
   "source": [
    "t=(10,20,30,'y')\n",
    "r=t*3\n",
    "print(r)"
   ]
  },
  {
   "cell_type": "code",
   "execution_count": 50,
   "id": "1bf697e5",
   "metadata": {},
   "outputs": [
    {
     "name": "stdout",
     "output_type": "stream",
     "text": [
      "9\n"
     ]
    }
   ],
   "source": [
    "t=(1,2,2,3,4,555,5,3,\"rdgf\")\n",
    "print(len(t))\n",
    "#print(count(5))"
   ]
  },
  {
   "cell_type": "code",
   "execution_count": 55,
   "id": "e0f15ec0",
   "metadata": {},
   "outputs": [
    {
     "name": "stdout",
     "output_type": "stream",
     "text": [
      "2\n",
      "1\n"
     ]
    }
   ],
   "source": [
    "t=(1,2,2,3,4,555,5,3,\"rdgf\")\n",
    "print(t.count(2))\n",
    "\n",
    "i=(1,2,2,3,4,555,5,3,)\n",
    "print(i.count(5))"
   ]
  },
  {
   "cell_type": "code",
   "execution_count": 59,
   "id": "27d03008",
   "metadata": {},
   "outputs": [
    {
     "name": "stdout",
     "output_type": "stream",
     "text": [
      "(20, 4, 6, 7, 1, 2)\n",
      "sorted data:\n",
      "[1, 2, 4, 6, 7, 20]\n"
     ]
    },
    {
     "data": {
      "text/plain": [
       "list"
      ]
     },
     "execution_count": 59,
     "metadata": {},
     "output_type": "execute_result"
    }
   ],
   "source": [
    "d=(20,4,6,7,1,2)\n",
    "print(d)\n",
    "d1=sorted(d)  # so while sorting tuple data is converted into list\n",
    "print(\"sorted data:\")\n",
    "print(d1)\n",
    "type(d1)"
   ]
  },
  {
   "cell_type": "code",
   "execution_count": 58,
   "id": "d2398530",
   "metadata": {},
   "outputs": [
    {
     "name": "stdout",
     "output_type": "stream",
     "text": [
      "[20, 7, 6, 4, 2, 1]\n"
     ]
    }
   ],
   "source": [
    "d2=sorted(d1,reverse =True)\n",
    "print(d2)"
   ]
  },
  {
   "cell_type": "code",
   "execution_count": 60,
   "id": "4c6f8ddf",
   "metadata": {},
   "outputs": [
    {
     "ename": "TypeError",
     "evalue": "'<' not supported between instances of 'str' and 'int'",
     "output_type": "error",
     "traceback": [
      "\u001b[1;31m---------------------------------------------------------------------------\u001b[0m",
      "\u001b[1;31mTypeError\u001b[0m                                 Traceback (most recent call last)",
      "Cell \u001b[1;32mIn[60], line 2\u001b[0m\n\u001b[0;32m      1\u001b[0m j\u001b[38;5;241m=\u001b[39m(\u001b[38;5;241m12\u001b[39m,\u001b[38;5;241m25\u001b[39m,\u001b[38;5;241m26\u001b[39m,\u001b[38;5;124m'\u001b[39m\u001b[38;5;124m78,hgsd\u001b[39m\u001b[38;5;124m'\u001b[39m,\u001b[38;5;124m'\u001b[39m\u001b[38;5;124mu\u001b[39m\u001b[38;5;124m'\u001b[39m)\n\u001b[1;32m----> 2\u001b[0m \u001b[38;5;28mprint\u001b[39m(\u001b[38;5;28mmin\u001b[39m(j))\n",
      "\u001b[1;31mTypeError\u001b[0m: '<' not supported between instances of 'str' and 'int'"
     ]
    }
   ],
   "source": [
    "j=(12,25,26,'78,hgsd','u')\n",
    "print(min(j)) #'<' not supported between instances of 'str' and 'int'  .....error"
   ]
  },
  {
   "cell_type": "code",
   "execution_count": 63,
   "id": "42fac998",
   "metadata": {},
   "outputs": [
    {
     "name": "stdout",
     "output_type": "stream",
     "text": [
      "8\n",
      "26\n"
     ]
    }
   ],
   "source": [
    "j=(12,25,26,8)\n",
    "print(min(j))\n",
    "print(max(j))"
   ]
  },
  {
   "cell_type": "code",
   "execution_count": 64,
   "id": "80a2bc7c",
   "metadata": {},
   "outputs": [
    {
     "ename": "NameError",
     "evalue": "name 'cmp' is not defined",
     "output_type": "error",
     "traceback": [
      "\u001b[1;31m---------------------------------------------------------------------------\u001b[0m",
      "\u001b[1;31mNameError\u001b[0m                                 Traceback (most recent call last)",
      "Cell \u001b[1;32mIn[64], line 3\u001b[0m\n\u001b[0;32m      1\u001b[0m g\u001b[38;5;241m=\u001b[39m(\u001b[38;5;124m'\u001b[39m\u001b[38;5;124ma\u001b[39m\u001b[38;5;124m'\u001b[39m,\u001b[38;5;124m'\u001b[39m\u001b[38;5;124mb\u001b[39m\u001b[38;5;124m'\u001b[39m,\u001b[38;5;241m3\u001b[39m,\u001b[38;5;241m5\u001b[39m,)\n\u001b[0;32m      2\u001b[0m t\u001b[38;5;241m=\u001b[39m(\u001b[38;5;241m3\u001b[39m,\u001b[38;5;241m6\u001b[39m,\u001b[38;5;241m7\u001b[39m)\n\u001b[1;32m----> 3\u001b[0m \u001b[38;5;28mprint\u001b[39m(cmp(g,t))\n",
      "\u001b[1;31mNameError\u001b[0m: name 'cmp' is not defined"
     ]
    }
   ],
   "source": [
    "g=('a','b',3,5,)\n",
    "t=(3,6,7)\n",
    "print(cmp(g,t))  \n",
    "# the syntax is correct here , But python 3 is not supporting cmp() function"
   ]
  },
  {
   "cell_type": "code",
   "execution_count": 66,
   "id": "5aae0015",
   "metadata": {},
   "outputs": [
    {
     "name": "stdout",
     "output_type": "stream",
     "text": [
      "{1, 2, 3, 4, 5, 'y', 's'}\n"
     ]
    },
    {
     "data": {
      "text/plain": [
       "set"
      ]
     },
     "execution_count": 66,
     "metadata": {},
     "output_type": "execute_result"
    }
   ],
   "source": [
    "## SET \n",
    "## its mutable , but it wont take duplicate data, it uses curly braces\n",
    "s={1,2,4,5,3,3,4,'s','y'}  # the output will come in different order and not in same order\n",
    "print(s)\n",
    "type(s)"
   ]
  },
  {
   "cell_type": "code",
   "execution_count": 67,
   "id": "f809fefe",
   "metadata": {},
   "outputs": [
    {
     "name": "stdout",
     "output_type": "stream",
     "text": [
      "{0, 1, 2, 3, 4}\n"
     ]
    }
   ],
   "source": [
    "s=set(range(5))\n",
    "print(s)"
   ]
  },
  {
   "cell_type": "code",
   "execution_count": 71,
   "id": "c2348592",
   "metadata": {},
   "outputs": [
    {
     "name": "stdout",
     "output_type": "stream",
     "text": [
      "Enter data :1,2,4,'y',7\n",
      "{',', '2', '1', '4', 'y', \"'\", '7'}\n"
     ]
    }
   ],
   "source": [
    "#This syntax is wrong as we need to use eval() function to take input from user rather than input for data structure\n",
    "##data structure(set, tuple,list, dictionary)\n",
    "s=set(input(\"Enter data :\")) \n",
    "print(s)"
   ]
  },
  {
   "cell_type": "code",
   "execution_count": 75,
   "id": "34bec506",
   "metadata": {},
   "outputs": [
    {
     "name": "stdout",
     "output_type": "stream",
     "text": [
      "Enter data :{1,2,3,4,'y'}\n",
      "{1, 2, 3, 4, 'y'}\n"
     ]
    }
   ],
   "source": [
    "s=eval(input(\"Enter data :\")) \n",
    "print(s)"
   ]
  },
  {
   "cell_type": "code",
   "execution_count": 77,
   "id": "d6278760",
   "metadata": {},
   "outputs": [
    {
     "name": "stdout",
     "output_type": "stream",
     "text": [
      "{0, 1, 2, 3, 4, 40, 25, 90}\n"
     ]
    }
   ],
   "source": [
    "s={1,25,3,4}\n",
    "u={40,90,3}\n",
    "s.update(u,range(5))\n",
    "print(s)"
   ]
  },
  {
   "cell_type": "code",
   "execution_count": 79,
   "id": "a417e18d",
   "metadata": {},
   "outputs": [
    {
     "name": "stdout",
     "output_type": "stream",
     "text": [
      "{'a', 1, 'c', 3, 4}\n",
      "{'a', 1, 'c', 3, 4}\n"
     ]
    }
   ],
   "source": [
    "s={'a','c',1,3,4,3}\n",
    "print(s)\n",
    "d=s.copy()\n",
    "print(d)"
   ]
  },
  {
   "cell_type": "code",
   "execution_count": 85,
   "id": "4d9ba60b",
   "metadata": {},
   "outputs": [
    {
     "name": "stdout",
     "output_type": "stream",
     "text": [
      "{4, 'd', 6, 'y', 78}\n",
      "4\n",
      "{'d', 6, 'y', 78}\n",
      "d\n",
      "{6, 'y', 78}\n",
      "<class 'set'>\n"
     ]
    }
   ],
   "source": [
    "d={4,'y','d',6,78}\n",
    "print(d)\n",
    "print(d.pop())  # pop() function removes first element in set\n",
    "print(d)\n",
    "print(d.pop())\n",
    "print(d)\n",
    "print(type(d))"
   ]
  },
  {
   "cell_type": "code",
   "execution_count": 86,
   "id": "5aa98f04",
   "metadata": {},
   "outputs": [
    {
     "name": "stdout",
     "output_type": "stream",
     "text": [
      "{3, 5, 6, 7, 'rsad'}\n",
      "{3, 5, 6, 'rsad'}\n"
     ]
    }
   ],
   "source": [
    "d={3,5,6,7,'rsad'}\n",
    "print(d)\n",
    "d.remove(7)  # remove() function directly removes the specified value\n",
    "#d.remove(9)  ..........this line gives error as 9 is not there in set\n",
    "print(d)"
   ]
  },
  {
   "cell_type": "code",
   "execution_count": 87,
   "id": "6f2f9ef4",
   "metadata": {},
   "outputs": [
    {
     "name": "stdout",
     "output_type": "stream",
     "text": [
      "{10, 20, 30}\n",
      "{20, 30}\n",
      "{20, 30}\n"
     ]
    }
   ],
   "source": [
    "s={10,20,30}\n",
    "print(s)\n",
    "s.discard(10)\n",
    "print(s)\n",
    "s.discard(100) # even though 100 is not there , it removes without giving an error\n",
    "print(s)"
   ]
  },
  {
   "cell_type": "code",
   "execution_count": 88,
   "id": "bcf37fbe",
   "metadata": {},
   "outputs": [
    {
     "name": "stdout",
     "output_type": "stream",
     "text": [
      "{80, 90, 'dsfx'}\n",
      "clear() function removes all data\n",
      "set()\n"
     ]
    }
   ],
   "source": [
    "s={90,80,'dsfx'}\n",
    "print(s)\n",
    "s.clear()\n",
    "print(\"clear() function removes all data\")\n",
    "print(s)"
   ]
  },
  {
   "cell_type": "code",
   "execution_count": 89,
   "id": "afc00e0b",
   "metadata": {},
   "outputs": [],
   "source": [
    "##DICTIONARY : (Key, value)\n",
    "## its immutable, here key cant be dublicate where value can be dublicated\n",
    "# uses curly braces"
   ]
  },
  {
   "cell_type": "code",
   "execution_count": 91,
   "id": "5cfb1766",
   "metadata": {},
   "outputs": [
    {
     "name": "stdout",
     "output_type": "stream",
     "text": [
      "{1: 'a', 5: 20, 9: 'tds', 2: 2.9}\n",
      "<class 'dict'>\n"
     ]
    }
   ],
   "source": [
    "d={1:'a', 5:20,9:\"tds\",2:2.90}\n",
    "print(d)\n",
    "print(type(d))"
   ]
  },
  {
   "cell_type": "code",
   "execution_count": 94,
   "id": "118a3dbd",
   "metadata": {},
   "outputs": [
    {
     "name": "stdout",
     "output_type": "stream",
     "text": [
      "{1: 'a', 5: 20, 9: 'tds', 2: 'hk', 400: 'ANU'}\n",
      "{1: 'a', 5: 20, 9: 'tds', 2: 'hk', 400: 'ANU'}\n"
     ]
    }
   ],
   "source": [
    "d[400]=\"ANU\"\n",
    "print(d)\n",
    "d[2]='hk'\n",
    "print(d)"
   ]
  },
  {
   "cell_type": "code",
   "execution_count": 95,
   "id": "cf3e8736",
   "metadata": {},
   "outputs": [
    {
     "name": "stdout",
     "output_type": "stream",
     "text": [
      "         A\n",
      "        N N\n",
      "       U U U\n",
      "      G G G G\n",
      "     R R R R R\n",
      "    A A A A A A\n",
      "   H H H H H H H\n",
      "  A A A A A A A A\n"
     ]
    }
   ],
   "source": [
    "list=['A','N','U','G','R','A','H','A']\n",
    "for i in range(len(list)):\n",
    "    m=i\n",
    "    a=''\n",
    "    l=len(list)-i\n",
    "    if l==0:\n",
    "        l=1\n",
    "    for n in range(l):\n",
    "        a=a+' '\n",
    "    for k in range(m):\n",
    "        a=a+' '+list[i]\n",
    "    print(a+' '+list[i])"
   ]
  },
  {
   "cell_type": "code",
   "execution_count": 98,
   "id": "0e0d63c0",
   "metadata": {},
   "outputs": [
    {
     "name": "stdout",
     "output_type": "stream",
     "text": [
      "{1: 30, 7: 'wdr', 6: 'f', 0: 6}\n",
      "{1: 30, 7: 'wdr', 0: 6}\n",
      "{1: 25, 6: 25, 8: 'sfx'}\n"
     ]
    }
   ],
   "source": [
    "# key always comes as string/text\n",
    "## del d[key]\n",
    "\n",
    "d={1:30,7:\"wdr\",6:'f',0:6}\n",
    "print(d)\n",
    "#del d[20]...........this gives rroe as d[20] key doesn't exist in this dictionary\n",
    "#print(d)\n",
    "del d[6]\n",
    "print(d)\n",
    "s = {1:25,6:25,8:\"sfx\"}   # it takes duplicate values but not duplicate keys\n",
    "print(s)"
   ]
  },
  {
   "cell_type": "code",
   "execution_count": 99,
   "id": "a68bee1e",
   "metadata": {},
   "outputs": [
    {
     "name": "stdout",
     "output_type": "stream",
     "text": [
      "{1: 25, 6: 25, 8: 'sfx'}\n"
     ]
    },
    {
     "ename": "NameError",
     "evalue": "name 's' is not defined",
     "output_type": "error",
     "traceback": [
      "\u001b[1;31m---------------------------------------------------------------------------\u001b[0m",
      "\u001b[1;31mNameError\u001b[0m                                 Traceback (most recent call last)",
      "Cell \u001b[1;32mIn[99], line 4\u001b[0m\n\u001b[0;32m      2\u001b[0m \u001b[38;5;28mprint\u001b[39m(s)\n\u001b[0;32m      3\u001b[0m \u001b[38;5;28;01mdel\u001b[39;00m s\n\u001b[1;32m----> 4\u001b[0m \u001b[38;5;28mprint\u001b[39m(s)\n",
      "\u001b[1;31mNameError\u001b[0m: name 's' is not defined"
     ]
    }
   ],
   "source": [
    "s = {1:25,6:25,8:\"sfx\"} \n",
    "print(s)\n",
    "del s   #...this gives error as del cant be used in this way\n",
    "print(s)"
   ]
  },
  {
   "cell_type": "code",
   "execution_count": 112,
   "id": "75713630",
   "metadata": {},
   "outputs": [
    {
     "name": "stdout",
     "output_type": "stream",
     "text": [
      "{'a': 7, 2: 6, 'v': 'hgdv'}\n",
      "hgdv\n",
      "6\n",
      "None\n"
     ]
    }
   ],
   "source": [
    "u={'a':7,2:6, 'v':\"hgdv\"} # key value can be caracter also\n",
    "print(u)\n",
    "print(u.get('v'))\n",
    "print(u.get(2))\n",
    "print(u.get(50))"
   ]
  },
  {
   "cell_type": "code",
   "execution_count": 116,
   "id": "8823298d",
   "metadata": {},
   "outputs": [
    {
     "name": "stdout",
     "output_type": "stream",
     "text": [
      "{1: 2, 'd': 56, 'o': 'sdc', 9: 90}\n",
      "sdc\n",
      "{1: 2, 'd': 56, 9: 90}\n",
      "(9, 90)\n",
      "{1: 2, 'd': 56}\n"
     ]
    }
   ],
   "source": [
    "f={1:2,'d':56,'o':\"sdc\",9:90}\n",
    "print(f)\n",
    "print(f.pop('o'))\n",
    "print(f)\n",
    "#print(f.pop(77))  ............if key specified in pop function doesn;t exist in dict, then will get error\n",
    "print(f.popitem())   # popitem() function removes last key value pair\n",
    "print(f)"
   ]
  },
  {
   "cell_type": "code",
   "execution_count": 123,
   "id": "3b3db150",
   "metadata": {},
   "outputs": [
    {
     "name": "stdout",
     "output_type": "stream",
     "text": [
      "{1: 2, 'd': 56, 'o': 'sdc', 9: 90, 1.2: 67}\n",
      "dict_keys([1, 'd', 'o', 9, 1.2])\n",
      "1\n",
      "d\n",
      "o\n",
      "9\n",
      "1.2\n",
      "1.2\n"
     ]
    }
   ],
   "source": [
    "fd={1:2,'d':56,'o':\"sdc\",9:90,1.2:67}\n",
    "print(fd)\n",
    "print(fd.keys()) # this gives only key value\n",
    "for k in fd.keys():\n",
    "    #print(\"gfwc\")\n",
    "    print(k)\n",
    "s=k\n",
    "print(s)"
   ]
  },
  {
   "cell_type": "code",
   "execution_count": 125,
   "id": "43a882e2",
   "metadata": {},
   "outputs": [
    {
     "name": "stdout",
     "output_type": "stream",
     "text": [
      "1 : 2\n",
      "d : 56\n",
      "o : sdc\n",
      "9 : 90\n",
      "1.2 : 67\n"
     ]
    }
   ],
   "source": [
    "fd={1:2,'d':56,'o':\"sdc\",9:90,1.2:67}\n",
    "for k,v in fd.items():\n",
    "    print(k,\":\",v)"
   ]
  },
  {
   "cell_type": "code",
   "execution_count": 132,
   "id": "4de47c8a",
   "metadata": {},
   "outputs": [
    {
     "name": "stdout",
     "output_type": "stream",
     "text": [
      "{100: 'tywfshag', 9: 78, 90: 'uiui45776'}\n",
      "22\n",
      "{100: 'tywfshag', 9: 78, 90: 'uiui45776', 82: 22}\n",
      "78\n",
      "{100: 'tywfshag', 9: 78, 90: 'uiui45776', 82: 22}\n",
      "{100: 'tywfshag', 9: 56, 90: 'uiui45776'}\n",
      "56\n",
      "{100: 'tywfshag', 9: 56, 90: 'uiui45776'}\n"
     ]
    }
   ],
   "source": [
    "p={100:\"tywfshag\",9:78,90:\"uiui45776\"}\n",
    "print(p)\n",
    "print(p.setdefault(82,22))\n",
    "print(p)\n",
    "print(p.setdefault(9,\"good\"))\n",
    "print(p)\n",
    "\n",
    "r= {100:\"tywfshag\",9:56,90:\"uiui45776\"}\n",
    "print(r)\n",
    "print(r.setdefault(9,44))\n",
    "print(r)"
   ]
  },
  {
   "cell_type": "code",
   "execution_count": 133,
   "id": "85553469",
   "metadata": {},
   "outputs": [
    {
     "name": "stdout",
     "output_type": "stream",
     "text": [
      "Enter data{2:34,\"r\":67,89:8.9}\n",
      "{2: 34, 'r': 67, 89: 8.9}\n"
     ]
    }
   ],
   "source": [
    "d=eval(input(\"Enter data\"))\n",
    "print(d)\n"
   ]
  },
  {
   "cell_type": "code",
   "execution_count": 136,
   "id": "1a4a124c",
   "metadata": {},
   "outputs": [
    {
     "name": "stdout",
     "output_type": "stream",
     "text": [
      "10\n"
     ]
    }
   ],
   "source": [
    "def f():\n",
    "    a=10\n",
    "    print(a)\n",
    "f()"
   ]
  },
  {
   "cell_type": "code",
   "execution_count": 137,
   "id": "a6325906",
   "metadata": {},
   "outputs": [
    {
     "ename": "NameError",
     "evalue": "name 'Invalid' is not defined",
     "output_type": "error",
     "traceback": [
      "\u001b[1;31m---------------------------------------------------------------------------\u001b[0m",
      "\u001b[1;31mNameError\u001b[0m                                 Traceback (most recent call last)",
      "Cell \u001b[1;32mIn[137], line 1\u001b[0m\n\u001b[1;32m----> 1\u001b[0m Invalid\n\u001b[0;32m      2\u001b[0m \u001b[38;5;28;01mdef\u001b[39;00m \u001b[38;5;21mf\u001b[39m():\n\u001b[0;32m      3\u001b[0m     \u001b[38;5;28mprint\u001b[39m(a)\n",
      "\u001b[1;31mNameError\u001b[0m: name 'Invalid' is not defined"
     ]
    }
   ],
   "source": [
    "Invalid : as local variable has to be defined\n",
    "def f():\n",
    "    print(a)\n",
    "f()"
   ]
  },
  {
   "cell_type": "code",
   "execution_count": 140,
   "id": "37571978",
   "metadata": {},
   "outputs": [
    {
     "name": "stdout",
     "output_type": "stream",
     "text": [
      "77\n"
     ]
    }
   ],
   "source": [
    "a=10     # global variable\n",
    "def f1():\n",
    "    a=77    #local variable\n",
    "    print(a)\n",
    "f1()\n",
    "\n",
    "def f2():\n",
    "    print(a)\n",
    "    \n",
    "#def function refers local variable    \n",
    "# Avoid global variables and multiple functions as it not good for performance"
   ]
  },
  {
   "cell_type": "code",
   "execution_count": 142,
   "id": "adaa5a0d",
   "metadata": {},
   "outputs": [],
   "source": [
    "#LAMBDA function \n",
    "\n",
    "#lambda  argument_list :expression\n",
    "# its increases the readiability"
   ]
  },
  {
   "cell_type": "code",
   "execution_count": 146,
   "id": "fec2ce94",
   "metadata": {},
   "outputs": [
    {
     "name": "stdout",
     "output_type": "stream",
     "text": [
      "25\n"
     ]
    },
    {
     "ename": "TypeError",
     "evalue": "'dict' object is not callable",
     "output_type": "error",
     "traceback": [
      "\u001b[1;31m---------------------------------------------------------------------------\u001b[0m",
      "\u001b[1;31mTypeError\u001b[0m                                 Traceback (most recent call last)",
      "Cell \u001b[1;32mIn[146], line 4\u001b[0m\n\u001b[0;32m      2\u001b[0m \u001b[38;5;28mprint\u001b[39m(s(\u001b[38;5;241m5\u001b[39m))\n\u001b[0;32m      3\u001b[0m s \u001b[38;5;241m=\u001b[39m \u001b[38;5;28;01mlambda\u001b[39;00m p : ((P\u001b[38;5;241m+\u001b[39m\u001b[38;5;241m56\u001b[39m)\u001b[38;5;241m/\u001b[39m\u001b[38;5;241m2\u001b[39m)\n\u001b[1;32m----> 4\u001b[0m \u001b[38;5;28mprint\u001b[39m(p(\u001b[38;5;241m2\u001b[39m))\n",
      "\u001b[1;31mTypeError\u001b[0m: 'dict' object is not callable"
     ]
    }
   ],
   "source": [
    "s = lambda n:n*n\n",
    "print(s(5))\n",
    "s = lambda p : ((P+56)/2)\n",
    "print(p(2))"
   ]
  },
  {
   "cell_type": "code",
   "execution_count": 152,
   "id": "4431f2e1",
   "metadata": {},
   "outputs": [
    {
     "name": "stdout",
     "output_type": "stream",
     "text": [
      "10\n"
     ]
    }
   ],
   "source": [
    "s=lambda a,b:a+b\n",
    "print(s(4,6))"
   ]
  },
  {
   "cell_type": "code",
   "execution_count": 156,
   "id": "8285ad18",
   "metadata": {},
   "outputs": [
    {
     "name": "stdout",
     "output_type": "stream",
     "text": [
      "23\n"
     ]
    }
   ],
   "source": [
    "s=lambda a,b,c:a if a>b else c\n",
    "print(s(23,6,4))"
   ]
  },
  {
   "cell_type": "code",
   "execution_count": 158,
   "id": "1d3a8535",
   "metadata": {},
   "outputs": [
    {
     "name": "stdout",
     "output_type": "stream",
     "text": [
      "{0, 8, 6, 7}\n",
      "<class 'set'>\n"
     ]
    }
   ],
   "source": [
    "l={0,6,7,8,6}\n",
    "print(l)\n",
    "print(type(l))"
   ]
  },
  {
   "cell_type": "code",
   "execution_count": 160,
   "id": "62607e71",
   "metadata": {},
   "outputs": [
    {
     "name": "stdout",
     "output_type": "stream",
     "text": [
      "{0, 8, 6, 7}\n",
      "<class 'set'>\n",
      "{0, 8, 6}\n"
     ]
    }
   ],
   "source": [
    "l={0,6,7,8,6}\n",
    "print(l)\n",
    "print(type(l))\n",
    "l1=set(filter(lambda v:v%2==0,l))\n",
    "# l1=list(filter(lambda v:v%2==0,l))\n",
    "# this above line will give error as given data is in set format but not in list format\n",
    "print(l1)"
   ]
  },
  {
   "cell_type": "code",
   "execution_count": 161,
   "id": "5d67e6d0",
   "metadata": {},
   "outputs": [
    {
     "name": "stdout",
     "output_type": "stream",
     "text": [
      "[1, 2, 3, 4, 5]\n"
     ]
    },
    {
     "ename": "TypeError",
     "evalue": "'list' object is not callable",
     "output_type": "error",
     "traceback": [
      "\u001b[1;31m---------------------------------------------------------------------------\u001b[0m",
      "\u001b[1;31mTypeError\u001b[0m                                 Traceback (most recent call last)",
      "Cell \u001b[1;32mIn[161], line 3\u001b[0m\n\u001b[0;32m      1\u001b[0m l\u001b[38;5;241m=\u001b[39m[\u001b[38;5;241m1\u001b[39m,\u001b[38;5;241m2\u001b[39m,\u001b[38;5;241m3\u001b[39m,\u001b[38;5;241m4\u001b[39m,\u001b[38;5;241m5\u001b[39m]\n\u001b[0;32m      2\u001b[0m \u001b[38;5;28mprint\u001b[39m(l)\n\u001b[1;32m----> 3\u001b[0m t\u001b[38;5;241m=\u001b[39m\u001b[38;5;28mlist\u001b[39m(\u001b[38;5;28mmap\u001b[39m(\u001b[38;5;28;01mlambda\u001b[39;00m u:u\u001b[38;5;241m+\u001b[39m\u001b[38;5;241m2\u001b[39m,l))\n\u001b[0;32m      4\u001b[0m \u001b[38;5;28mprint\u001b[39m(t)\n",
      "\u001b[1;31mTypeError\u001b[0m: 'list' object is not callable"
     ]
    }
   ],
   "source": [
    "l=[1,2,3,4,5]\n",
    "print(l)\n",
    "t=list(map(lambda u:u+2,l))\n",
    "print(t)"
   ]
  },
  {
   "cell_type": "code",
   "execution_count": 163,
   "id": "d549051f",
   "metadata": {},
   "outputs": [
    {
     "name": "stdout",
     "output_type": "stream",
     "text": [
      "{1, 2, 3, 4, 5}\n",
      "{3, 4, 5, 6, 7}\n"
     ]
    }
   ],
   "source": [
    "l={1,2,3,4,5}\n",
    "print(l)\n",
    "t=set(map(lambda u:u+2,l))\n",
    "print(t)"
   ]
  },
  {
   "cell_type": "code",
   "execution_count": 164,
   "id": "f77e3478",
   "metadata": {},
   "outputs": [
    {
     "name": "stdout",
     "output_type": "stream",
     "text": [
      "162\n"
     ]
    }
   ],
   "source": [
    "from functools import *\n",
    "l= [1,2,3,67,89]\n",
    "r=reduce(lambda x,y:x+y,l)\n",
    "print(r)"
   ]
  },
  {
   "cell_type": "code",
   "execution_count": 189,
   "id": "264c8150",
   "metadata": {},
   "outputs": [
    {
     "name": "stdout",
     "output_type": "stream",
     "text": [
      "name : Anu\n",
      "Age : 23\n"
     ]
    }
   ],
   "source": [
    "class student:\n",
    "    \"\"\"developed\"\"\"\n",
    "    #self variable and __init__ method is compulsory\n",
    "    def __init__(self,name, age):    # here __init__ methods is inbuild function to initialize object, self is inbuilt variable\n",
    "        self.name=name\n",
    "        self.age=age\n",
    "        \n",
    "    def talk(self):\n",
    "        print(\"name :\",self.name)\n",
    "        print(\"Age :\",self.age)\n",
    "s1= student(\"Anu\",23)    \n",
    "s1.talk()\n"
   ]
  },
  {
   "cell_type": "code",
   "execution_count": null,
   "id": "4b454ad5",
   "metadata": {},
   "outputs": [],
   "source": []
  }
 ],
 "metadata": {
  "kernelspec": {
   "display_name": "Python 3 (ipykernel)",
   "language": "python",
   "name": "python3"
  },
  "language_info": {
   "codemirror_mode": {
    "name": "ipython",
    "version": 3
   },
   "file_extension": ".py",
   "mimetype": "text/x-python",
   "name": "python",
   "nbconvert_exporter": "python",
   "pygments_lexer": "ipython3",
   "version": "3.11.5"
  }
 },
 "nbformat": 4,
 "nbformat_minor": 5
}
