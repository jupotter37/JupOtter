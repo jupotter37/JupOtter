{
 "cells": [
  {
   "cell_type": "code",
   "execution_count": null,
   "id": "9603a47a-1944-4be4-8440-2d11ad843f18",
   "metadata": {},
   "outputs": [],
   "source": [
    "print('hello world')\n",
    "#arthematic\n",
    "a=8\n",
    "b=9.5\n",
    "c=a+b\n",
    "d=a*b\n",
    "e=a/b\n",
    "f=a-b\n",
    "g=a//b\n",
    "h=a%b\n",
    "a,b,c,d,e,f,g,h"
   ]
  },
  {
   "cell_type": "code",
   "execution_count": 7,
   "id": "94c76c6f-ebaa-4241-9676-336a68546ef4",
   "metadata": {},
   "outputs": [
    {
     "data": {
      "text/plain": [
       "(8, 9.5, 17.5, 76.0, 0.8421052631578947, -1.5, 0.0, 8.0)"
      ]
     },
     "execution_count": 7,
     "metadata": {},
     "output_type": "execute_result"
    }
   ],
   "source": [
    "a,b,c,d,e,f,g,h"
   ]
  },
  {
   "cell_type": "code",
   "execution_count": 14,
   "id": "ad7b3de1-8f59-4108-8a6c-50543f8a5f52",
   "metadata": {},
   "outputs": [
    {
     "name": "stdout",
     "output_type": "stream",
     "text": [
      "False\n"
     ]
    }
   ],
   "source": [
    "print(a>b)"
   ]
  },
  {
   "cell_type": "code",
   "execution_count": 15,
   "id": "2b73ff31-339f-4272-9d1b-63977d24a1db",
   "metadata": {},
   "outputs": [
    {
     "name": "stdout",
     "output_type": "stream",
     "text": [
      "True\n"
     ]
    }
   ],
   "source": [
    "print(b>a)"
   ]
  },
  {
   "cell_type": "code",
   "execution_count": 4,
   "id": "30e54b56-0c4b-4c5f-8505-8d3bce33b770",
   "metadata": {},
   "outputs": [
    {
     "name": "stdout",
     "output_type": "stream",
     "text": [
      "13\n"
     ]
    }
   ],
   "source": [
    "a+=b # a= a+b\n",
    "print(a)"
   ]
  },
  {
   "cell_type": "code",
   "execution_count": 3,
   "id": "645c00a7-cea1-4b59-9147-7191b5d8358a",
   "metadata": {},
   "outputs": [],
   "source": [
    "a=8\n",
    "b=5\n"
   ]
  },
  {
   "cell_type": "code",
   "execution_count": 5,
   "id": "49019306-0795-4a42-83d1-e22e6d247e98",
   "metadata": {},
   "outputs": [
    {
     "data": {
      "text/plain": [
       "8"
      ]
     },
     "execution_count": 5,
     "metadata": {},
     "output_type": "execute_result"
    }
   ],
   "source": [
    "a-=b\n",
    "a"
   ]
  },
  {
   "cell_type": "code",
   "execution_count": 6,
   "id": "ea81c9d1-5175-4957-8081-a5a1d39550ca",
   "metadata": {},
   "outputs": [
    {
     "data": {
      "text/plain": [
       "40"
      ]
     },
     "execution_count": 6,
     "metadata": {},
     "output_type": "execute_result"
    }
   ],
   "source": [
    "a*=b\n",
    "a"
   ]
  },
  {
   "cell_type": "code",
   "execution_count": 7,
   "id": "b96e8e03-32cf-4b3c-9013-40de5188e8c7",
   "metadata": {},
   "outputs": [
    {
     "data": {
      "text/plain": [
       "8.0"
      ]
     },
     "execution_count": 7,
     "metadata": {},
     "output_type": "execute_result"
    }
   ],
   "source": [
    "a/=b\n",
    "a"
   ]
  },
  {
   "cell_type": "code",
   "execution_count": 8,
   "id": "ffe2b8f7-eaec-465f-8075-13db46aca138",
   "metadata": {},
   "outputs": [
    {
     "data": {
      "text/plain": [
       "8"
      ]
     },
     "execution_count": 8,
     "metadata": {},
     "output_type": "execute_result"
    }
   ],
   "source": [
    "int(a)"
   ]
  },
  {
   "cell_type": "code",
   "execution_count": null,
   "id": "165b4197-3b57-4f0e-9342-ed6efceeadb1",
   "metadata": {},
   "outputs": [],
   "source": [
    "#DAy 2"
   ]
  },
  {
   "cell_type": "code",
   "execution_count": 1,
   "id": "f8a894db-3478-424c-88ee-0663d705b5f8",
   "metadata": {},
   "outputs": [
    {
     "data": {
      "text/plain": [
       "13"
      ]
     },
     "execution_count": 1,
     "metadata": {},
     "output_type": "execute_result"
    }
   ],
   "source": [
    "#assignment operators\n",
    "a=8\n",
    "b=5\n",
    "a+=b\n",
    "a"
   ]
  },
  {
   "cell_type": "code",
   "execution_count": 2,
   "id": "62a739b7-7069-4457-85a3-a4a5e6a4514b",
   "metadata": {},
   "outputs": [
    {
     "data": {
      "text/plain": [
       "65"
      ]
     },
     "execution_count": 2,
     "metadata": {},
     "output_type": "execute_result"
    }
   ],
   "source": [
    "b*=a\n",
    "b"
   ]
  },
  {
   "cell_type": "code",
   "execution_count": 3,
   "id": "17b9eb06-2c5e-412e-8c5c-56feee5b645f",
   "metadata": {},
   "outputs": [
    {
     "data": {
      "text/plain": [
       "True"
      ]
     },
     "execution_count": 3,
     "metadata": {},
     "output_type": "execute_result"
    }
   ],
   "source": [
    "#comparision operators\n",
    "a!=b\n"
   ]
  },
  {
   "cell_type": "code",
   "execution_count": 4,
   "id": "8cb630df-5481-4cc0-847a-9c9f8e73b792",
   "metadata": {},
   "outputs": [
    {
     "data": {
      "text/plain": [
       "False"
      ]
     },
     "execution_count": 4,
     "metadata": {},
     "output_type": "execute_result"
    }
   ],
   "source": [
    "a>=b"
   ]
  },
  {
   "cell_type": "code",
   "execution_count": 5,
   "id": "8c0bf364-b72e-4ebb-bf0b-fb942304b116",
   "metadata": {},
   "outputs": [
    {
     "data": {
      "text/plain": [
       "False"
      ]
     },
     "execution_count": 5,
     "metadata": {},
     "output_type": "execute_result"
    }
   ],
   "source": [
    "a==b"
   ]
  },
  {
   "cell_type": "code",
   "execution_count": 6,
   "id": "271d2e00-e019-45c1-b96d-04fa41a3d913",
   "metadata": {},
   "outputs": [
    {
     "data": {
      "text/plain": [
       "True"
      ]
     },
     "execution_count": 6,
     "metadata": {},
     "output_type": "execute_result"
    }
   ],
   "source": [
    "a<=b"
   ]
  },
  {
   "cell_type": "code",
   "execution_count": 12,
   "id": "ea46ba16-9eb3-463a-b487-e7f6dfceb46b",
   "metadata": {},
   "outputs": [
    {
     "name": "stdout",
     "output_type": "stream",
     "text": [
      "False\n"
     ]
    }
   ],
   "source": [
    "\n",
    "#logical operators\n",
    "print(a>b and b==a)"
   ]
  },
  {
   "cell_type": "code",
   "execution_count": 15,
   "id": "ef10d5ce-f298-4170-82d9-8d67c5538ba8",
   "metadata": {},
   "outputs": [
    {
     "data": {
      "text/plain": [
       "True"
      ]
     },
     "execution_count": 15,
     "metadata": {},
     "output_type": "execute_result"
    }
   ],
   "source": [
    "a<b and b>a"
   ]
  },
  {
   "cell_type": "code",
   "execution_count": 16,
   "id": "94302fba-1eec-4427-a148-1a71675b330c",
   "metadata": {},
   "outputs": [
    {
     "data": {
      "text/plain": [
       "True"
      ]
     },
     "execution_count": 16,
     "metadata": {},
     "output_type": "execute_result"
    }
   ],
   "source": [
    "a>b or b>a"
   ]
  },
  {
   "cell_type": "code",
   "execution_count": 17,
   "id": "78a09a27-4cdd-459f-9bab-6f7fec8a226f",
   "metadata": {},
   "outputs": [
    {
     "data": {
      "text/plain": [
       "False"
      ]
     },
     "execution_count": 17,
     "metadata": {},
     "output_type": "execute_result"
    }
   ],
   "source": [
    "a>b or b==a"
   ]
  },
  {
   "cell_type": "code",
   "execution_count": 18,
   "id": "2e7f11a3-dced-43ac-96b4-855af523fac7",
   "metadata": {},
   "outputs": [
    {
     "data": {
      "text/plain": [
       "True"
      ]
     },
     "execution_count": 18,
     "metadata": {},
     "output_type": "execute_result"
    }
   ],
   "source": [
    "not(a>b or b==a)"
   ]
  },
  {
   "cell_type": "code",
   "execution_count": 25,
   "id": "e4351e17-5bf3-438d-b577-1080d8df4624",
   "metadata": {},
   "outputs": [
    {
     "data": {
      "text/plain": [
       "True"
      ]
     },
     "execution_count": 25,
     "metadata": {},
     "output_type": "execute_result"
    }
   ],
   "source": [
    "#identity operators\n",
    "x=(1,2,3,4)\n",
    "y=(2,3,4)\n",
    "a=('e','y','z')\n",
    "b=x\n",
    "b is x"
   ]
  },
  {
   "cell_type": "code",
   "execution_count": 22,
   "id": "0f7d4699-9a54-46a2-bdae-206e0d6d27ef",
   "metadata": {},
   "outputs": [
    {
     "data": {
      "text/plain": [
       "False"
      ]
     },
     "execution_count": 22,
     "metadata": {},
     "output_type": "execute_result"
    }
   ],
   "source": [
    "y is x"
   ]
  },
  {
   "cell_type": "code",
   "execution_count": 26,
   "id": "58c243b5-93a7-4925-81a1-1853f0887d13",
   "metadata": {},
   "outputs": [
    {
     "data": {
      "text/plain": [
       "True"
      ]
     },
     "execution_count": 26,
     "metadata": {},
     "output_type": "execute_result"
    }
   ],
   "source": [
    "a is not y"
   ]
  },
  {
   "cell_type": "code",
   "execution_count": 27,
   "id": "f7421b95-3c25-430a-9756-23929923d8fe",
   "metadata": {},
   "outputs": [
    {
     "data": {
      "text/plain": [
       "False"
      ]
     },
     "execution_count": 27,
     "metadata": {},
     "output_type": "execute_result"
    }
   ],
   "source": [
    "b is not x"
   ]
  },
  {
   "cell_type": "code",
   "execution_count": 35,
   "id": "b537a200-ebe4-4383-8c00-fd09d751bcac",
   "metadata": {},
   "outputs": [
    {
     "data": {
      "text/plain": [
       "False"
      ]
     },
     "execution_count": 35,
     "metadata": {},
     "output_type": "execute_result"
    }
   ],
   "source": [
    "#membership operators\n",
    "g = 4\n",
    "g in x\n"
   ]
  },
  {
   "cell_type": "code",
   "execution_count": 29,
   "id": "85159a1c-9fad-43a3-9161-05b68b693adc",
   "metadata": {},
   "outputs": [
    {
     "data": {
      "text/plain": [
       "False"
      ]
     },
     "execution_count": 29,
     "metadata": {},
     "output_type": "execute_result"
    }
   ],
   "source": [
    "b in x"
   ]
  },
  {
   "cell_type": "code",
   "execution_count": 36,
   "id": "74f1e175-7f19-4302-9bc1-5fabd88f5f25",
   "metadata": {},
   "outputs": [
    {
     "data": {
      "text/plain": [
       "True"
      ]
     },
     "execution_count": 36,
     "metadata": {},
     "output_type": "execute_result"
    }
   ],
   "source": [
    "h= 'a'\n",
    "h not in a"
   ]
  },
  {
   "cell_type": "code",
   "execution_count": 40,
   "id": "c64a5267-e794-445b-a00c-cc4bb9a0dc54",
   "metadata": {},
   "outputs": [],
   "source": [
    "#bitwise operators\n",
    "a = 9\n",
    "b= 3"
   ]
  },
  {
   "cell_type": "code",
   "execution_count": 41,
   "id": "42bcbe6b-4f0b-4f88-8224-9937084016df",
   "metadata": {},
   "outputs": [
    {
     "data": {
      "text/plain": [
       "1"
      ]
     },
     "execution_count": 41,
     "metadata": {},
     "output_type": "execute_result"
    }
   ],
   "source": [
    "a&b"
   ]
  },
  {
   "cell_type": "code",
   "execution_count": 42,
   "id": "379028c4-e3e2-4004-bc96-50e8b926c6da",
   "metadata": {},
   "outputs": [
    {
     "data": {
      "text/plain": [
       "11"
      ]
     },
     "execution_count": 42,
     "metadata": {},
     "output_type": "execute_result"
    }
   ],
   "source": [
    "a|b"
   ]
  },
  {
   "cell_type": "code",
   "execution_count": 43,
   "id": "c138c070-2dc6-4b7e-a944-8adcaf5743cb",
   "metadata": {},
   "outputs": [
    {
     "data": {
      "text/plain": [
       "10"
      ]
     },
     "execution_count": 43,
     "metadata": {},
     "output_type": "execute_result"
    }
   ],
   "source": [
    "a^b"
   ]
  },
  {
   "cell_type": "code",
   "execution_count": 45,
   "id": "544ed041-4829-4839-960c-0b3ac1602455",
   "metadata": {},
   "outputs": [
    {
     "data": {
      "text/plain": [
       "-4"
      ]
     },
     "execution_count": 45,
     "metadata": {},
     "output_type": "execute_result"
    }
   ],
   "source": [
    "~b"
   ]
  },
  {
   "cell_type": "code",
   "execution_count": 46,
   "id": "59d71c3c-ab9e-45b3-89d5-831b6bbbfda3",
   "metadata": {},
   "outputs": [
    {
     "data": {
      "text/plain": [
       "-90"
      ]
     },
     "execution_count": 46,
     "metadata": {},
     "output_type": "execute_result"
    }
   ],
   "source": [
    "c=89\n",
    "~c"
   ]
  },
  {
   "cell_type": "code",
   "execution_count": 2,
   "id": "67c7d7fe-285b-4740-b356-c76d755b59df",
   "metadata": {},
   "outputs": [
    {
     "data": {
      "text/plain": [
       "20"
      ]
     },
     "execution_count": 2,
     "metadata": {},
     "output_type": "execute_result"
    }
   ],
   "source": [
    "x=5\n",
    "y=2\n",
    "x<<y"
   ]
  },
  {
   "cell_type": "code",
   "execution_count": 3,
   "id": "9366acd7-3e17-4d39-aacc-f94b1e72151b",
   "metadata": {},
   "outputs": [
    {
     "data": {
      "text/plain": [
       "1"
      ]
     },
     "execution_count": 3,
     "metadata": {},
     "output_type": "execute_result"
    }
   ],
   "source": [
    "x>>y"
   ]
  },
  {
   "cell_type": "code",
   "execution_count": 1,
   "id": "6e85bcb0-b101-4323-b533-2e5822ee850c",
   "metadata": {},
   "outputs": [],
   "source": [
    "#List\n",
    "a=['football','cricket','tennis','badminton','greyhounds','horses']\n",
    "b=['akhilesh','rakesh','laxmi','bhoomanna']"
   ]
  },
  {
   "cell_type": "code",
   "execution_count": 2,
   "id": "04ab92c7-5bda-4360-9c0e-8b043ae626b6",
   "metadata": {},
   "outputs": [
    {
     "data": {
      "text/plain": [
       "['football', 'cricket', 'tennis', 'badminton', 'greyhounds', 'horses']"
      ]
     },
     "execution_count": 2,
     "metadata": {},
     "output_type": "execute_result"
    }
   ],
   "source": [
    "a"
   ]
  },
  {
   "cell_type": "code",
   "execution_count": 7,
   "id": "54cb62bd-2c95-4505-8c01-83b7ee77f0fe",
   "metadata": {},
   "outputs": [
    {
     "data": {
      "text/plain": [
       "['akhilesh', 'rakesh', 'laxmi', 'bhoomanna']"
      ]
     },
     "execution_count": 7,
     "metadata": {},
     "output_type": "execute_result"
    }
   ],
   "source": [
    "b"
   ]
  },
  {
   "cell_type": "code",
   "execution_count": 21,
   "id": "75484253-b79d-417f-b01f-a9dd493164d3",
   "metadata": {},
   "outputs": [
    {
     "data": {
      "text/plain": [
       "['football',\n",
       " 'cricket',\n",
       " 'tennis',\n",
       " 'badminton',\n",
       " 'greyhounds',\n",
       " 'horses',\n",
       " 'akhilesh',\n",
       " 'rakesh',\n",
       " 'laxmi',\n",
       " 'bhoomanna']"
      ]
     },
     "execution_count": 21,
     "metadata": {},
     "output_type": "execute_result"
    }
   ],
   "source": [
    "#concatenation\n",
    "c = a+b\n",
    "c"
   ]
  },
  {
   "cell_type": "code",
   "execution_count": 9,
   "id": "a03d4e2f-30e7-4d84-95a7-f81fc4d2224c",
   "metadata": {},
   "outputs": [
    {
     "data": {
      "text/plain": [
       "'cricket'"
      ]
     },
     "execution_count": 9,
     "metadata": {},
     "output_type": "execute_result"
    }
   ],
   "source": [
    "a[1]"
   ]
  },
  {
   "cell_type": "code",
   "execution_count": 10,
   "id": "056fc2db-9997-4f15-b9e1-8463ae99b2e7",
   "metadata": {},
   "outputs": [
    {
     "data": {
      "text/plain": [
       "'tennis'"
      ]
     },
     "execution_count": 10,
     "metadata": {},
     "output_type": "execute_result"
    }
   ],
   "source": [
    "a[-4]"
   ]
  },
  {
   "cell_type": "code",
   "execution_count": 11,
   "id": "568cde2f-e7b8-4986-8a70-b804e13fac40",
   "metadata": {},
   "outputs": [
    {
     "data": {
      "text/plain": [
       "['cricket', 'tennis', 'badminton', 'greyhounds']"
      ]
     },
     "execution_count": 11,
     "metadata": {},
     "output_type": "execute_result"
    }
   ],
   "source": [
    "a[1:5]"
   ]
  },
  {
   "cell_type": "code",
   "execution_count": 28,
   "id": "4cbe9bbf-7fa0-4835-b506-af660b52d2a3",
   "metadata": {},
   "outputs": [
    {
     "data": {
      "text/plain": [
       "['tennis', 'badminton', 'greyhounds', 'horses']"
      ]
     },
     "execution_count": 28,
     "metadata": {},
     "output_type": "execute_result"
    }
   ],
   "source": [
    "a[2:]"
   ]
  },
  {
   "cell_type": "code",
   "execution_count": 29,
   "id": "b7961e66-c593-467a-b438-e404b4bf9cea",
   "metadata": {},
   "outputs": [
    {
     "data": {
      "text/plain": [
       "['akhilesh',\n",
       " 'rakesh',\n",
       " 'laxmi',\n",
       " 'bhoomanna',\n",
       " 'akhilesh',\n",
       " 'rakesh',\n",
       " 'laxmi',\n",
       " 'bhoomanna',\n",
       " 'akhilesh',\n",
       " 'rakesh',\n",
       " 'laxmi',\n",
       " 'bhoomanna']"
      ]
     },
     "execution_count": 29,
     "metadata": {},
     "output_type": "execute_result"
    }
   ],
   "source": [
    "#repetition\n",
    "d=b*3\n",
    "d"
   ]
  },
  {
   "cell_type": "code",
   "execution_count": 31,
   "id": "f3e16aab-2792-40f8-ad6c-e1a2991cf0c8",
   "metadata": {},
   "outputs": [
    {
     "data": {
      "text/plain": [
       "['akhilesh', 'rakesh', 'laxmi', 'bhoomanna', 'gayathri']"
      ]
     },
     "execution_count": 31,
     "metadata": {},
     "output_type": "execute_result"
    }
   ],
   "source": [
    "#methods\n",
    "b.append('gayathri')\n",
    "b"
   ]
  },
  {
   "cell_type": "code",
   "execution_count": 33,
   "id": "5554663e-0875-469a-9373-ac41de95d6d9",
   "metadata": {},
   "outputs": [
    {
     "data": {
      "text/plain": [
       "['gayathri', 'rakesh', 'laxmi', 'bhoomanna', 'gayathri']"
      ]
     },
     "execution_count": 33,
     "metadata": {},
     "output_type": "execute_result"
    }
   ],
   "source": [
    "\n",
    "b[0]='gayathri'\n",
    "b"
   ]
  },
  {
   "cell_type": "code",
   "execution_count": 34,
   "id": "51d0ed71-3a6f-477f-936c-28ddd3fd3eee",
   "metadata": {},
   "outputs": [
    {
     "data": {
      "text/plain": [
       "['gayathri', 'rakesh', 'laxmi', 'bhoomanna', 'akhilesh']"
      ]
     },
     "execution_count": 34,
     "metadata": {},
     "output_type": "execute_result"
    }
   ],
   "source": [
    "b[4]='akhilesh'\n",
    "b"
   ]
  },
  {
   "cell_type": "code",
   "execution_count": 36,
   "id": "7744ddc0-ac0f-4d9c-bac6-a30e94c60a1c",
   "metadata": {},
   "outputs": [
    {
     "data": {
      "text/plain": [
       "['akhilesh', 'bhoomanna', 'gayathri', 'laxmi', 'rakesh']"
      ]
     },
     "execution_count": 36,
     "metadata": {},
     "output_type": "execute_result"
    }
   ],
   "source": [
    "b.sort()\n",
    "b\n"
   ]
  },
  {
   "cell_type": "code",
   "execution_count": 8,
   "id": "304aa75b-f87c-456f-b670-f7e594105f53",
   "metadata": {},
   "outputs": [
    {
     "data": {
      "text/plain": [
       "['akhilesh', 'rakesh', 'akhilesh', 'laxmi', 'bhoomanna']"
      ]
     },
     "execution_count": 8,
     "metadata": {},
     "output_type": "execute_result"
    }
   ],
   "source": [
    "b.insert(2,'akhilesh')\n",
    "b"
   ]
  },
  {
   "cell_type": "code",
   "execution_count": 2,
   "id": "33cc2e97-f782-41a6-8e33-a564669c80aa",
   "metadata": {},
   "outputs": [
    {
     "ename": "NameError",
     "evalue": "name 'a' is not defined",
     "output_type": "error",
     "traceback": [
      "\u001b[1;31m---------------------------------------------------------------------------\u001b[0m",
      "\u001b[1;31mNameError\u001b[0m                                 Traceback (most recent call last)",
      "Cell \u001b[1;32mIn[2], line 2\u001b[0m\n\u001b[0;32m      1\u001b[0m c\u001b[38;5;241m=\u001b[39m[\u001b[38;5;124m'\u001b[39m\u001b[38;5;124mpool\u001b[39m\u001b[38;5;124m'\u001b[39m,\u001b[38;5;124m'\u001b[39m\u001b[38;5;124mkabaddi\u001b[39m\u001b[38;5;124m'\u001b[39m]\n\u001b[1;32m----> 2\u001b[0m a\u001b[38;5;241m.\u001b[39mextend(c)\n\u001b[0;32m      3\u001b[0m a\n",
      "\u001b[1;31mNameError\u001b[0m: name 'a' is not defined"
     ]
    }
   ],
   "source": [
    "c=['pool','kabaddi']\n",
    "a.extend(c)\n",
    "a"
   ]
  },
  {
   "cell_type": "code",
   "execution_count": 10,
   "id": "0ce7bf87-d825-48e2-b01f-2f07accf4280",
   "metadata": {},
   "outputs": [
    {
     "data": {
      "text/plain": [
       "['rakesh', 'akhilesh', 'laxmi', 'bhoomanna']"
      ]
     },
     "execution_count": 10,
     "metadata": {},
     "output_type": "execute_result"
    }
   ],
   "source": [
    "b.remove('akhilesh')\n",
    "b"
   ]
  },
  {
   "cell_type": "code",
   "execution_count": 50,
   "id": "70a7e94c-0e1e-44bc-a193-9e22fbdfdbc3",
   "metadata": {},
   "outputs": [
    {
     "name": "stdout",
     "output_type": "stream",
     "text": [
      "4\n"
     ]
    }
   ],
   "source": [
    "e =a.index('greyhounds')\n",
    "print(e)\n"
   ]
  },
  {
   "cell_type": "code",
   "execution_count": 3,
   "id": "3eda4f64-1725-4887-84c1-e03ab85eb24b",
   "metadata": {},
   "outputs": [
    {
     "data": {
      "text/plain": [
       "['football', 'cricket', 'tennis', 'badminton', 'horses']"
      ]
     },
     "execution_count": 3,
     "metadata": {},
     "output_type": "execute_result"
    }
   ],
   "source": [
    "a.pop(4)\n",
    "a"
   ]
  },
  {
   "cell_type": "code",
   "execution_count": 52,
   "id": "eed3dead-2eee-4a98-86ee-ede056e28028",
   "metadata": {},
   "outputs": [
    {
     "data": {
      "text/plain": [
       "['kabaddi', 'pool', 'horses', 'badminton', 'tennis', 'cricket', 'football']"
      ]
     },
     "execution_count": 52,
     "metadata": {},
     "output_type": "execute_result"
    }
   ],
   "source": [
    "a.reverse()\n",
    "a"
   ]
  },
  {
   "cell_type": "code",
   "execution_count": 14,
   "id": "827da40c-69b7-4de9-b55b-a8aac0167a20",
   "metadata": {},
   "outputs": [
    {
     "data": {
      "text/plain": [
       "['football', 'cricket', 'tennis', 'badminton', 'greyhounds', 'horses']"
      ]
     },
     "execution_count": 14,
     "metadata": {},
     "output_type": "execute_result"
    }
   ],
   "source": [
    "a=['football','cricket','tennis','badminton','greyhounds','horses']\n",
    "a.count('football')\n",
    "a\n"
   ]
  },
  {
   "cell_type": "code",
   "execution_count": 58,
   "id": "10364c7c-59a9-491a-a504-c3d0a3afba9c",
   "metadata": {},
   "outputs": [
    {
     "data": {
      "text/plain": [
       "7"
      ]
     },
     "execution_count": 58,
     "metadata": {},
     "output_type": "execute_result"
    }
   ],
   "source": [
    "len(a)"
   ]
  },
  {
   "cell_type": "code",
   "execution_count": 59,
   "id": "c8581c49-162b-4594-96ff-43f4076d2e09",
   "metadata": {},
   "outputs": [
    {
     "data": {
      "text/plain": [
       "4"
      ]
     },
     "execution_count": 59,
     "metadata": {},
     "output_type": "execute_result"
    }
   ],
   "source": [
    "len(b)"
   ]
  },
  {
   "cell_type": "code",
   "execution_count": 15,
   "id": "6e0c2267-fe54-4958-88f3-a4032b4b7d53",
   "metadata": {},
   "outputs": [
    {
     "data": {
      "text/plain": [
       "['football', 'cricket', 'tennis', 'badminton', 'greyhounds', 'horses']"
      ]
     },
     "execution_count": 15,
     "metadata": {},
     "output_type": "execute_result"
    }
   ],
   "source": [
    "\n",
    "a=['football','cricket','tennis','badminton','greyhounds','horses']\n",
    "\n",
    "a\n"
   ]
  },
  {
   "cell_type": "code",
   "execution_count": 18,
   "id": "c87984c7-4600-4a8e-85e3-793da8cfc740",
   "metadata": {},
   "outputs": [
    {
     "data": {
      "text/plain": [
       "['jay', 'joy', 'jack', 'joy']"
      ]
     },
     "execution_count": 18,
     "metadata": {},
     "output_type": "execute_result"
    }
   ],
   "source": [
    "t=['jay','joy','jack','joy']\n",
    "t.count(1)\n",
    "t"
   ]
  },
  {
   "cell_type": "code",
   "execution_count": 5,
   "id": "21112f8e-74d6-439c-84d4-3c7b8d95a63c",
   "metadata": {},
   "outputs": [
    {
     "data": {
      "text/plain": [
       "'akhilesh weds gayathri'"
      ]
     },
     "execution_count": 5,
     "metadata": {},
     "output_type": "execute_result"
    }
   ],
   "source": [
    "#string operations\n",
    "#concate\n",
    "s1='akhilesh'\n",
    "s2='weds'\n",
    "s3='gayathri'\n",
    "s=s1+' '+s2+' '+s3\n",
    "s"
   ]
  },
  {
   "cell_type": "code",
   "execution_count": 6,
   "id": "5e877d71-0c6b-423c-8b7a-61dfe189929b",
   "metadata": {},
   "outputs": [
    {
     "data": {
      "text/plain": [
       "'akhilesh weds gayathri'"
      ]
     },
     "execution_count": 6,
     "metadata": {},
     "output_type": "execute_result"
    }
   ],
   "source": [
    "s1='akhilesh '\n",
    "s2='weds '\n",
    "s3='gayathri'\n",
    "s=s1+s2+s3\n",
    "s"
   ]
  },
  {
   "cell_type": "code",
   "execution_count": 9,
   "id": "7d7ce37b-2029-4970-a132-57c69b2b89e8",
   "metadata": {},
   "outputs": [
    {
     "data": {
      "text/plain": [
       "'akhilesh weds gayathriakhilesh weds gayathri loves akhilesh '"
      ]
     },
     "execution_count": 9,
     "metadata": {},
     "output_type": "execute_result"
    }
   ],
   "source": [
    "#repetition\n",
    "l=' loves '\n",
    "ss = s*2+l+s1\n",
    "ss"
   ]
  },
  {
   "cell_type": "code",
   "execution_count": 17,
   "id": "c1e51178-b5eb-453e-b0ee-527c0db3c801",
   "metadata": {},
   "outputs": [
    {
     "data": {
      "text/plain": [
       "'lesh'"
      ]
     },
     "execution_count": 17,
     "metadata": {},
     "output_type": "execute_result"
    }
   ],
   "source": [
    "#indexing and slicing\n",
    "s1[4]\n",
    "\n",
    "\n"
   ]
  },
  {
   "cell_type": "code",
   "execution_count": 18,
   "id": "51644c49-d8cc-49f6-8e7a-b1fb6b108493",
   "metadata": {},
   "outputs": [
    {
     "data": {
      "text/plain": [
       "'lesh'"
      ]
     },
     "execution_count": 18,
     "metadata": {},
     "output_type": "execute_result"
    }
   ],
   "source": [
    "s1[4:8]"
   ]
  },
  {
   "cell_type": "code",
   "execution_count": 19,
   "id": "72b09fe1-071d-4599-bfe2-04adc0d09059",
   "metadata": {},
   "outputs": [
    {
     "data": {
      "text/plain": [
       "'k'"
      ]
     },
     "execution_count": 19,
     "metadata": {},
     "output_type": "execute_result"
    }
   ],
   "source": [
    "s1[-8]\n"
   ]
  },
  {
   "cell_type": "code",
   "execution_count": 1,
   "id": "8e9c8f4a-1ff2-4767-9c51-f45e25b0e355",
   "metadata": {},
   "outputs": [
    {
     "data": {
      "text/plain": [
       "'i finished my masters in university of roehampton ,room no 213 and course msc project managemnt'"
      ]
     },
     "execution_count": 1,
     "metadata": {},
     "output_type": "execute_result"
    }
   ],
   "source": [
    "#formats\n",
    "#old format\n",
    "a= 'university of roehampton'\n",
    "b=213\n",
    "c='msc project managemnt'\n",
    "d='i finished my masters in %s ,room no %d and course %s'%(a,b,c)\n",
    "d"
   ]
  },
  {
   "cell_type": "code",
   "execution_count": 2,
   "id": "d8181b0b-f498-4565-92d9-54a7a91a0f26",
   "metadata": {},
   "outputs": [
    {
     "data": {
      "text/plain": [
       "'i finished my masters in msc project managemnt ,room no 213 and university university of roehampton'"
      ]
     },
     "execution_count": 2,
     "metadata": {},
     "output_type": "execute_result"
    }
   ],
   "source": [
    "d='i finished my masters in %s ,room no %d and university %s'%(c,b,a)\n",
    "d"
   ]
  },
  {
   "cell_type": "code",
   "execution_count": 3,
   "id": "18ebd8a9-63c7-463d-86c4-54f780b90879",
   "metadata": {},
   "outputs": [
    {
     "data": {
      "text/plain": [
       "'i finished my masters in university of roehampton ,room no 213 and course msc project managemnt'"
      ]
     },
     "execution_count": 3,
     "metadata": {},
     "output_type": "execute_result"
    }
   ],
   "source": [
    "#format method\n",
    "a= 'university of roehampton'\n",
    "b=213\n",
    "c='msc project managemnt'\n",
    "d='i finished my masters in {} ,room no {} and course {}'.format(a,b,c)\n",
    "d"
   ]
  },
  {
   "cell_type": "code",
   "execution_count": 4,
   "id": "cb52c9bf-d20d-43ce-806c-08121ca0e6a6",
   "metadata": {},
   "outputs": [
    {
     "data": {
      "text/plain": [
       "'i finished my masters in msc project managemnt ,room no 213 and course university of roehampton'"
      ]
     },
     "execution_count": 4,
     "metadata": {},
     "output_type": "execute_result"
    }
   ],
   "source": [
    "#f string\n",
    "a= 'university of roehampton'\n",
    "b=213\n",
    "c='msc project managemnt'\n",
    "d=f'i finished my masters in {c} ,room no {b} and course {a}'\n",
    "d"
   ]
  },
  {
   "cell_type": "code",
   "execution_count": 5,
   "id": "01eb66bb-b265-4b98-9a71-a2602026843d",
   "metadata": {},
   "outputs": [
    {
     "data": {
      "text/plain": [
       "24"
      ]
     },
     "execution_count": 5,
     "metadata": {},
     "output_type": "execute_result"
    }
   ],
   "source": [
    "#methods\n",
    "len(a)"
   ]
  },
  {
   "cell_type": "code",
   "execution_count": 8,
   "id": "ef69f97e-ef71-492b-a95d-8230514da826",
   "metadata": {},
   "outputs": [
    {
     "data": {
      "text/plain": [
       "21"
      ]
     },
     "execution_count": 8,
     "metadata": {},
     "output_type": "execute_result"
    }
   ],
   "source": [
    "len(c)"
   ]
  },
  {
   "cell_type": "code",
   "execution_count": 9,
   "id": "2c2d031d-fc72-4b92-a07f-8597529bd007",
   "metadata": {},
   "outputs": [
    {
     "data": {
      "text/plain": [
       "95"
      ]
     },
     "execution_count": 9,
     "metadata": {},
     "output_type": "execute_result"
    }
   ],
   "source": [
    "len(d)"
   ]
  },
  {
   "cell_type": "code",
   "execution_count": 10,
   "id": "12682beb-77ab-43c6-8e75-c81c332587cc",
   "metadata": {},
   "outputs": [
    {
     "data": {
      "text/plain": [
       "'UNIVERSITY OF ROEHAMPTON'"
      ]
     },
     "execution_count": 10,
     "metadata": {},
     "output_type": "execute_result"
    }
   ],
   "source": [
    "a.upper()"
   ]
  },
  {
   "cell_type": "code",
   "execution_count": 11,
   "id": "473417ea-b885-49d0-8232-a2fbc290698b",
   "metadata": {},
   "outputs": [
    {
     "data": {
      "text/plain": [
       "'MSC PROJECT MANAGEMNT'"
      ]
     },
     "execution_count": 11,
     "metadata": {},
     "output_type": "execute_result"
    }
   ],
   "source": [
    "c.upper()"
   ]
  },
  {
   "cell_type": "code",
   "execution_count": 12,
   "id": "34da3a21-2f8f-45ed-a701-e74b3b7e3be5",
   "metadata": {},
   "outputs": [
    {
     "data": {
      "text/plain": [
       "'university of roehampton'"
      ]
     },
     "execution_count": 12,
     "metadata": {},
     "output_type": "execute_result"
    }
   ],
   "source": [
    "a.lower()"
   ]
  },
  {
   "cell_type": "code",
   "execution_count": 13,
   "id": "2d258b64-319e-4edd-b61b-249a77ffd568",
   "metadata": {},
   "outputs": [
    {
     "data": {
      "text/plain": [
       "'msc project managemnt'"
      ]
     },
     "execution_count": 13,
     "metadata": {},
     "output_type": "execute_result"
    }
   ],
   "source": [
    "c.lower()"
   ]
  },
  {
   "cell_type": "code",
   "execution_count": 14,
   "id": "9c88d235-e98c-489e-8ebd-f57e04d4e319",
   "metadata": {},
   "outputs": [
    {
     "data": {
      "text/plain": [
       "'djtill2'"
      ]
     },
     "execution_count": 14,
     "metadata": {},
     "output_type": "execute_result"
    }
   ],
   "source": [
    "a='  djtill2 '\n",
    "a.strip()"
   ]
  },
  {
   "cell_type": "code",
   "execution_count": 42,
   "id": "312974ca-8581-4421-82ad-25c2822cc3c9",
   "metadata": {},
   "outputs": [
    {
     "data": {
      "text/plain": [
       "['UNIVERSITY', 'OF', 'ROEHAMPTON']"
      ]
     },
     "execution_count": 42,
     "metadata": {},
     "output_type": "execute_result"
    }
   ],
   "source": [
    "a='UNIVERSITY OF ROEHAMPTON'\n",
    "a =a.split()\n",
    "a"
   ]
  },
  {
   "cell_type": "code",
   "execution_count": 41,
   "id": "849153a6-3dad-4910-bbc7-4eaf16c93390",
   "metadata": {},
   "outputs": [
    {
     "data": {
      "text/plain": [
       "'U N I V E R S I T Y   O F   R O E H A M P T O N'"
      ]
     },
     "execution_count": 41,
     "metadata": {},
     "output_type": "execute_result"
    }
   ],
   "source": [
    "a"
   ]
  },
  {
   "cell_type": "code",
   "execution_count": 44,
   "id": "82551500-e5ce-464a-852a-5fa88fd188eb",
   "metadata": {},
   "outputs": [
    {
     "data": {
      "text/plain": [
       "'UNIVERSITY OF ROEHAMPTON'"
      ]
     },
     "execution_count": 44,
     "metadata": {},
     "output_type": "execute_result"
    }
   ],
   "source": [
    "' '.join(a)"
   ]
  },
  {
   "cell_type": "code",
   "execution_count": null,
   "id": "cc6bfa33-2149-4ea4-8800-5a43266566bc",
   "metadata": {},
   "outputs": [],
   "source": [
    "b=a.replace('ROEHAMPTON','BPP')\n",
    "b"
   ]
  },
  {
   "cell_type": "code",
   "execution_count": 46,
   "id": "3cef60e7-d37c-444a-aa69-2ef405592d8d",
   "metadata": {},
   "outputs": [
    {
     "data": {
      "text/plain": [
       "'U N I V E R S I T Y   O F   R O E H A M P T O N'"
      ]
     },
     "execution_count": 46,
     "metadata": {},
     "output_type": "execute_result"
    }
   ],
   "source": [
    "b"
   ]
  },
  {
   "cell_type": "code",
   "execution_count": null,
   "id": "6844de96-91ad-41da-abc4-6ab8944823a8",
   "metadata": {},
   "outputs": [],
   "source": [
    "a.replace(\"ROEHAMPTON\",\"BPP\")"
   ]
  },
  {
   "cell_type": "code",
   "execution_count": 48,
   "id": "e12b0e3c-208f-459e-9656-c01d932a7dc8",
   "metadata": {},
   "outputs": [
    {
     "data": {
      "text/plain": [
       "['UNIVERSITY', 'OF', 'ROEHAMPTON']"
      ]
     },
     "execution_count": 48,
     "metadata": {},
     "output_type": "execute_result"
    }
   ],
   "source": [
    "a"
   ]
  },
  {
   "cell_type": "code",
   "execution_count": 49,
   "id": "ddd0e66d-bcc9-45d1-a2c6-18d3dd7a563b",
   "metadata": {},
   "outputs": [
    {
     "data": {
      "text/plain": [
       "'UNIVERSITY OF ROEHAMPTON'"
      ]
     },
     "execution_count": 49,
     "metadata": {},
     "output_type": "execute_result"
    }
   ],
   "source": [
    "' '.join(a)"
   ]
  },
  {
   "cell_type": "code",
   "execution_count": 37,
   "id": "73fbed6d-da72-4d2b-9cc0-8397cf83472a",
   "metadata": {},
   "outputs": [
    {
     "data": {
      "text/plain": [
       "'U N I V E R S I T Y   O F   R O E H A M P T O N'"
      ]
     },
     "execution_count": 37,
     "metadata": {},
     "output_type": "execute_result"
    }
   ],
   "source": [
    "b = ''.join(a)\n",
    "b"
   ]
  },
  {
   "cell_type": "code",
   "execution_count": 40,
   "id": "02df9f20-0017-4a45-972e-6a059b68c668",
   "metadata": {},
   "outputs": [
    {
     "data": {
      "text/plain": [
       "'U N I V E R S I T Y   O F   R O E H A M P T O N'"
      ]
     },
     "execution_count": 40,
     "metadata": {},
     "output_type": "execute_result"
    }
   ],
   "source": [
    "''.join(b)\n"
   ]
  },
  {
   "cell_type": "code",
   "execution_count": 54,
   "id": "d7f74bcc-f095-415c-8a95-bbdbfce9830b",
   "metadata": {},
   "outputs": [
    {
     "data": {
      "text/plain": [
       "['my', 'name', 'AK']"
      ]
     },
     "execution_count": 54,
     "metadata": {},
     "output_type": "execute_result"
    }
   ],
   "source": [
    "a = 'my name AK'\n",
    "b=a.split()\n",
    "b"
   ]
  },
  {
   "cell_type": "code",
   "execution_count": 57,
   "id": "091e0c8c-85a8-4d31-bef3-6f9b13b720b3",
   "metadata": {},
   "outputs": [
    {
     "data": {
      "text/plain": [
       "'my name AK'"
      ]
     },
     "execution_count": 57,
     "metadata": {},
     "output_type": "execute_result"
    }
   ],
   "source": [
    "c=' '.join(b)\n",
    "c"
   ]
  },
  {
   "cell_type": "code",
   "execution_count": 61,
   "id": "a7506d6d-df5b-4eb1-b944-3ab7b32bf1a8",
   "metadata": {},
   "outputs": [
    {
     "ename": "TypeError",
     "evalue": "count() takes at least 1 argument (0 given)",
     "output_type": "error",
     "traceback": [
      "\u001b[1;31m---------------------------------------------------------------------------\u001b[0m",
      "\u001b[1;31mTypeError\u001b[0m                                 Traceback (most recent call last)",
      "Cell \u001b[1;32mIn[61], line 1\u001b[0m\n\u001b[1;32m----> 1\u001b[0m c\u001b[38;5;241m.\u001b[39mcount()\n",
      "\u001b[1;31mTypeError\u001b[0m: count() takes at least 1 argument (0 given)"
     ]
    }
   ],
   "source": []
  },
  {
   "cell_type": "code",
   "execution_count": 59,
   "id": "bd89cdf7-ceae-4d5c-8cfd-4714e296a805",
   "metadata": {},
   "outputs": [
    {
     "data": {
      "text/plain": [
       "'my name akhilesh'"
      ]
     },
     "execution_count": 59,
     "metadata": {},
     "output_type": "execute_result"
    }
   ],
   "source": [
    "d=c.replace('AK','akhilesh')\n",
    "d"
   ]
  },
  {
   "cell_type": "code",
   "execution_count": 62,
   "id": "97bb03b0-bd7c-47a7-9d2d-5b21277d0602",
   "metadata": {},
   "outputs": [
    {
     "data": {
      "text/plain": [
       "6.1"
      ]
     },
     "execution_count": 62,
     "metadata": {},
     "output_type": "execute_result"
    }
   ],
   "source": [
    "#tuple\n",
    "a=('ak',26,6.1,'chillout')\n",
    "a[2]\n"
   ]
  },
  {
   "cell_type": "code",
   "execution_count": 63,
   "id": "b425d86b-f8df-4eb4-8548-4589902324e7",
   "metadata": {},
   "outputs": [
    {
     "data": {
      "text/plain": [
       "(26, 6.1, 'chillout')"
      ]
     },
     "execution_count": 63,
     "metadata": {},
     "output_type": "execute_result"
    }
   ],
   "source": [
    "a[1:]"
   ]
  },
  {
   "cell_type": "code",
   "execution_count": 64,
   "id": "6de599be-a250-485a-9927-0e2a88de174f",
   "metadata": {},
   "outputs": [
    {
     "data": {
      "text/plain": [
       "('ak', 26, 6.1, 'chillout')"
      ]
     },
     "execution_count": 64,
     "metadata": {},
     "output_type": "execute_result"
    }
   ],
   "source": [
    "a"
   ]
  },
  {
   "cell_type": "code",
   "execution_count": 65,
   "id": "cc0dcfaa-e467-49cb-bfcf-36acdb3b6080",
   "metadata": {},
   "outputs": [
    {
     "data": {
      "text/plain": [
       "('ak', 26, 6.1, 'chillout', 1, 2, 'hot', 'burger')"
      ]
     },
     "execution_count": 65,
     "metadata": {},
     "output_type": "execute_result"
    }
   ],
   "source": [
    "\n",
    "b=(1,2,'hot','burger')\n",
    "c=a+b\n",
    "c"
   ]
  },
  {
   "cell_type": "code",
   "execution_count": 66,
   "id": "bd89985f-c99c-4ad4-ba52-36f32730683b",
   "metadata": {},
   "outputs": [
    {
     "data": {
      "text/plain": [
       "('ak',\n",
       " 26,\n",
       " 6.1,\n",
       " 'chillout',\n",
       " 1,\n",
       " 2,\n",
       " 'hot',\n",
       " 'burger',\n",
       " 'ak',\n",
       " 26,\n",
       " 6.1,\n",
       " 'chillout',\n",
       " 1,\n",
       " 2,\n",
       " 'hot',\n",
       " 'burger')"
      ]
     },
     "execution_count": 66,
     "metadata": {},
     "output_type": "execute_result"
    }
   ],
   "source": [
    "d=c*2\n",
    "d"
   ]
  },
  {
   "cell_type": "code",
   "execution_count": 67,
   "id": "0bcc401f-6a0b-460e-9f42-20b67982db51",
   "metadata": {},
   "outputs": [
    {
     "data": {
      "text/plain": [
       "('ak', 26, 6.1, 'chillout')"
      ]
     },
     "execution_count": 67,
     "metadata": {},
     "output_type": "execute_result"
    }
   ],
   "source": [
    "a"
   ]
  },
  {
   "cell_type": "code",
   "execution_count": 68,
   "id": "ea142807-88da-4ece-a117-17e30e6093ed",
   "metadata": {},
   "outputs": [
    {
     "data": {
      "text/plain": [
       "1"
      ]
     },
     "execution_count": 68,
     "metadata": {},
     "output_type": "execute_result"
    }
   ],
   "source": [
    "a.index(26)"
   ]
  },
  {
   "cell_type": "code",
   "execution_count": 70,
   "id": "6e128499-b42b-441f-938f-72f5d4dab415",
   "metadata": {},
   "outputs": [
    {
     "data": {
      "text/plain": [
       "1"
      ]
     },
     "execution_count": 70,
     "metadata": {},
     "output_type": "execute_result"
    }
   ],
   "source": [
    "a.count(26)"
   ]
  },
  {
   "cell_type": "code",
   "execution_count": null,
   "id": "5b8a84b6-170b-49dd-90eb-f3a887017768",
   "metadata": {},
   "outputs": [],
   "source": []
  }
 ],
 "metadata": {
  "kernelspec": {
   "display_name": "Python 3 (ipykernel)",
   "language": "python",
   "name": "python3"
  },
  "language_info": {
   "codemirror_mode": {
    "name": "ipython",
    "version": 3
   },
   "file_extension": ".py",
   "mimetype": "text/x-python",
   "name": "python",
   "nbconvert_exporter": "python",
   "pygments_lexer": "ipython3",
   "version": "3.11.7"
  }
 },
 "nbformat": 4,
 "nbformat_minor": 5
}
