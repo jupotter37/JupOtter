{
 "cells": [
  {
   "cell_type": "code",
   "execution_count": 7,
   "metadata": {},
   "outputs": [],
   "source": [
    "from __future__ import print_function\n",
    "from keras.callbacks import LambdaCallback\n",
    "from keras.models import Sequential\n",
    "from keras.layers import Dense\n",
    "from keras.layers import LSTM\n",
    "from keras.optimizers import RMSprop\n",
    "from keras.utils.data_utils import get_file\n",
    "import numpy as np\n",
    "import pandas as pd\n",
    "import random\n",
    "import sys\n",
    "import io\n",
    "import glob\n",
    "import os"
   ]
  },
  {
   "cell_type": "code",
   "execution_count": 18,
   "metadata": {},
   "outputs": [],
   "source": [
    "path = r'../crawler/1980s'                     # use your path\n",
    "all_files = glob.glob(os.path.join(path, \"*.csv\"))     # advisable to use os.path.join as this makes concatenation OS independent\n",
    "\n",
    "df_from_each_file = (pd.read_csv(f) for f in all_files)\n",
    "concatenated_df   = pd.concat(df_from_each_file, ignore_index=True)"
   ]
  },
  {
   "cell_type": "code",
   "execution_count": 48,
   "metadata": {},
   "outputs": [],
   "source": [
    "text = concatenated_df['lyric'].to_string(index=False)"
   ]
  },
  {
   "cell_type": "code",
   "execution_count": 49,
   "metadata": {},
   "outputs": [
    {
     "data": {
      "text/plain": [
       "662999"
      ]
     },
     "execution_count": 49,
     "metadata": {},
     "output_type": "execute_result"
    }
   ],
   "source": [
    "len(text) #character length"
   ]
  },
  {
   "cell_type": "code",
   "execution_count": 50,
   "metadata": {},
   "outputs": [
    {
     "name": "stdout",
     "output_type": "stream",
     "text": [
      "total chars: 832\n"
     ]
    }
   ],
   "source": [
    "chars = sorted(list(set(text)))\n",
    "print('total chars:', len(chars))\n",
    "char_indices = dict((c, i) for i, c in enumerate(chars))\n",
    "indices_char = dict((i, c) for i, c in enumerate(chars))"
   ]
  },
  {
   "cell_type": "code",
   "execution_count": 51,
   "metadata": {},
   "outputs": [
    {
     "name": "stdout",
     "output_type": "stream",
     "text": [
      "nb sequences: 220987\n"
     ]
    }
   ],
   "source": [
    "# cut the text in semi-redundant sequences of maxlen characters\n",
    "maxlen = 40\n",
    "step = 3\n",
    "sentences = []\n",
    "next_chars = []\n",
    "for i in range(0, len(text) - maxlen, step):\n",
    "    sentences.append(text[i: i + maxlen])\n",
    "    next_chars.append(text[i + maxlen])\n",
    "print('nb sequences:', len(sentences))"
   ]
  },
  {
   "cell_type": "code",
   "execution_count": 52,
   "metadata": {},
   "outputs": [
    {
     "name": "stdout",
     "output_type": "stream",
     "text": [
      "Vectorization...\n"
     ]
    }
   ],
   "source": [
    "print('Vectorization...')\n",
    "x = np.zeros((len(sentences), maxlen, len(chars)), dtype=np.bool)\n",
    "y = np.zeros((len(sentences), len(chars)), dtype=np.bool)\n",
    "for i, sentence in enumerate(sentences):\n",
    "    for t, char in enumerate(sentence):\n",
    "        x[i, t, char_indices[char]] = 1\n",
    "    y[i, char_indices[next_chars[i]]] = 1"
   ]
  },
  {
   "cell_type": "code",
   "execution_count": 56,
   "metadata": {},
   "outputs": [
    {
     "name": "stdout",
     "output_type": "stream",
     "text": [
      "Build model...\n"
     ]
    }
   ],
   "source": [
    "# build the model: a single LSTM\n",
    "print('Build model...')\n",
    "model = Sequential()\n",
    "model.add(LSTM(128, input_shape=(maxlen, len(chars))))\n",
    "model.add(Dense(len(chars), activation='softmax'))\n",
    "\n",
    "optimizer = RMSprop(lr=0.01)\n",
    "model.compile(loss='categorical_crossentropy', optimizer=optimizer)"
   ]
  },
  {
   "cell_type": "code",
   "execution_count": 58,
   "metadata": {},
   "outputs": [
    {
     "name": "stdout",
     "output_type": "stream",
     "text": [
      "Epoch 1/5\n",
      "220987/220987 [==============================] - 270s 1ms/step - loss: 1.8976\n",
      "\n",
      "----- Generating text after Epoch: 0\n",
      "----- diversity: 0.2\n",
      "----- Generating with seed: \"그...\n",
      "희미한 가로등 불빛 아래서 쓸쓸히 그대를 그리며 서있네 지나간 \"\n",
      "그...\n",
      "희미한 가로등 불빛 아래서 쓸쓸히 그대를 그리며 서있네 지나간 어둠이 서...\n",
      "그대 나를 두고 떠나버린 마음이 되어 그냥 나를 보아파 그대 내곁에 다가와 ...\n",
      "그대의 눈빛은 떠나갔네 어디로 가는 나는 나의 모습  우리의 사랑이 아니다 ...\n",
      "그대 나를 두고 떠나요 어느날 그대는 내 곁에 있어  그대는 사랑한다 말을 못하네    사랑한다는 ...\n",
      "그대 나를 두고 떠나요 어오는                                   NaN\n",
      "                                              NaN\n",
      "그대 나를 두고 떠나보던 그이 아름다운 사랑이 서어 그대의 모습 사랑하고 싶어 그대 ...\n",
      "그대의 눈빛은 그대 눈길에 말을  나는 사랑을 알고 있나요 아직도 그대 떠나가는 나의 마음  그렇게 바라보는 ...\n",
      "                   \n",
      "----- diversity: 0.5\n",
      "----- Generating with seed: \"그...\n",
      "희미한 가로등 불빛 아래서 쓸쓸히 그대를 그리며 서있네 지나간 \"\n",
      "그...\n",
      "희미한 가로등 불빛 아래서 쓸쓸히 그대를 그리며 서있네 지나간 아직 나의 모습을  우리...\n",
      "그대는 나는 너의 마음 속에 못한 ...\n",
      "                                          NaN\n",
      "그대의 모습  거리  내 곁에 있어  그런의 모습을 사랑한다는 사랑한다는  헤어지면 어 그대 떠...\n",
      "사랑했던 사람들 사랑한다 말 못하고 사랑하다고 걸어보린 눈물이 고 너의 그 사랑 야...\n",
      "                                           NaN\n",
      "소리없이 마지막 말없이 떠나가고 어이만이 서러워서 그대 무슨 말이 못하고 ...\n",
      "사랑은 아침 이야를 생각하면 어디로 인가히 내 곁에 있어 그대의 사랑한다는 달빛도 어...\n",
      "그대는 요이 창가을 수는 모두 사랑한다 말 못하고 사랑했던 사람이 되어 그대 ...\n",
      "                 \n",
      "----- diversity: 1.0\n",
      "----- Generating with seed: \"그...\n",
      "희미한 가로등 불빛 아래서 쓸쓸히 그대를 그리며 서있네 지나간 \"\n",
      "그...\n",
      "희미한 가로등 불빛 아래서 쓸쓸히 그대를 그리며 서있네 지나간 아쉬이 물...\n",
      "가슴에 싫이  생각이였네 비가 오지는 그리움 감출들었네 하늘을 내밀어 그날은 봐...\n",
      "상울고 작은 래남 돌아름다운 내침개를 너를 안녕 얼굴이며 들라는 너를 눈려a해갈 서러우린 어둠에 서...\n",
      "                                        NaN\n",
      "날아 가는 현아 나를 그대소 모를 갔네 소러오는 사랑했던 마음이 다시 돌개 넌 사랑은 사랑을 며 해겨 조금은 노래서 선...\n",
      "언제 어두 당신 사람 소하사 하리아 하늘엔 잡을 수 없는 눈물이 더얼자리 너를 가슴 두...\n",
      "가는이 많은 시들의 가슴을 찾으니 자는 꿈 사람부말 부르게 잊어진 다픈 아픈 거리에 외로움이때 떠...\n",
      "사랑이라지 말아요 그냥 잊어버린 속을 가은서 떠나가면 아른지을야 울다 바다...\n",
      "그대의 모습 었나시 원한 나\n",
      "----- diversity: 1.2\n",
      "----- Generating with seed: \"그...\n",
      "희미한 가로등 불빛 아래서 쓸쓸히 그대를 그리며 서있네 지나간 \"\n",
      "그...\n",
      "희미한 가로등 불빛 아래서 쓸쓸히 그대를 그리며 서있네 지나간 을 없어 ...\n",
      "o네 러오는 가한 리일의 르으니 알리들아 이젠사빈다...\n",
      "당신이 사랑했던 사람들 혼자 너의 구름처럼 날려 화려를 잖아 못러나 영원운 순로운  비만이 다마시다던 그던네 느끼며 다시 빈니어 슬에는 빛이 웃지 서로만 숨어 창는 내 용없어 다시...\n",
      "이인가 시는 아침 두려찾에. 나도 사랑이 파도만을 그런 아무당그대 떠나 가리 노야큼 오는...\n",
      "이영그대 상처럼 \n",
      "것 이름 혀날 아은 곁에서 수는 얼굴이라도 달별도 잊N다지 그겐 아프고 곳...\n",
      "혀있는 노구들이 N..\n",
      "생각하면 오셨어리나는 안길 언야지만  당신을 젖어두제 담다디담 말없던 너무 쉬불이 잊 다...\n",
      "사랑이 빈우면 못하고 어낙친가도 흔조들듯이 내친야했렇게 우리 잎처럼 오늘부는...\n",
      "머물고 날이 댄세린 듯..\n",
      "것송이 자리 나를 를면 그리와 작때 \n",
      "Epoch 2/5\n",
      "220987/220987 [==============================] - 278s 1ms/step - loss: 1.3729\n",
      "\n",
      "----- Generating text after Epoch: 1\n",
      "----- diversity: 0.2\n",
      "----- Generating with seed: \" 두눈동자엔 이슬 맺혀있네 그대 이제 간다하...\n",
      "            \"\n",
      " 두눈동자엔 이슬 맺혀있네 그대 이제 간다하...\n",
      "                                                                                                                                                                                                                                                                                                                                                                                                                            \n",
      "----- diversity: 0.5\n",
      "----- Generating with seed: \" 두눈동자엔 이슬 맺혀있네 그대 이제 간다하...\n",
      "            \"\n",
      " 두눈동자엔 이슬 맺혀있네 그대 이제 간다하...\n",
      "                                                 NaN\n",
      "                                                                                                                                                                           NaN\n",
      "                                                                                                                                                       NaN\n",
      "나 이 사람을 들려주오 이제는 이제는 그대 눈빛은 잊\n",
      "----- diversity: 1.0\n",
      "----- Generating with seed: \" 두눈동자엔 이슬 맺혀있네 그대 이제 간다하...\n",
      "            \"\n",
      " 두눈동자엔 이슬 맺혀있네 그대 이제 간다하...\n",
      "                                            NaN\n",
      "그대두 떠나가엔 세월이 잊는한 카고 모두 사라기지 알아 말아요 그대 그었에...\n",
      "약속이 노을해도 끝도 모두 지만 눈우리들다 하고 좋아 외워하는 그일속을 구름은 가슴...\n",
      "                                                          사랑이 떠났달 사랑여진 아름소운 거리는 한피이 사랑한 말인가요 지달...\n",
      "바람이 더 이기 아가 다시 세상이 늘도 가을켜 허손 만들리의 이느으로 기도...\n",
      "나의 그 목소리 엔 얼굴이 떠나면 추억속을 그대는 사람들 마시 너의 헤쳐...\n",
      "그대는 너 알을 수 없어요 아쉬움 날 없이 날려 내게 말어대고 순 무슨 수...\n",
      "함스  린 오가늘 후던 그리움은 아어야 하나만 젊은 이 옛무일어나\n",
      "----- diversity: 1.2\n",
      "----- Generating with seed: \" 두눈동자엔 이슬 맺혀있네 그대 이제 간다하...\n",
      "            \"\n",
      " 두눈동자엔 이슬 맺혀있네 그대 이제 간다하...\n",
      "                                         NaN\n",
      "직도 지나야께 건다 하나 난 창정의 모져  비 채 ...\n",
      "손을 잡을 알고 둘 같이 너무 정났지만 남아뿐이면 것 날지만 슬픔이 지지아라요 ...\n",
      "밤하고 별빛이 갈저 바람에 녀가는 미소거 우처럼 언리고 물였는데 꿈때는 진 두밖저 곳에 네 모...\n",
      "느었지고 드는 저 빠울 좋아 옷밤에 도마디 했어보마이 흐a져 어가서 녀가...\n",
      "창  시끝는 하빛 며 시절리 때면 그대 보았 함께 내려요 날들은 아직도 떠나간 수...\n",
      "내가 너의 를 정이 파도만이제알 시간은 따h찾은 두맺밤 픈 보다 프지도 그대 후에 석문 안움 가.애치개 없네...\n",
      "오남난 곁에서 떠나간 그대를 믿고하는 어안개에 조금도 바람모두 허공은 고...\n",
      "거걸에 꽃느를 부서 진달운 외로운속인주떠 해도 보나이 \n",
      "Epoch 3/5\n",
      "220987/220987 [==============================] - 288s 1ms/step - loss: 1.1305\n",
      "\n",
      "----- Generating text after Epoch: 2\n",
      "----- diversity: 0.2\n",
      "----- Generating with seed: \"려 따사롭게 들리는 노랫소리도 좋아 그저 앉아만...\n",
      "표정없는 세월을 보\"\n",
      "려 따사롭게 들리는 노랫소리도 좋아 그저 앉아만...\n",
      "표정없는 세월을 보며 내 가슴 속에서 사랑하는 우리는 사랑하고 있다고  ...\n",
      "                                                                                                                                                                                              NaN\n",
      "                                                                                                                                                                            \n",
      "----- diversity: 0.5\n",
      "----- Generating with seed: \"려 따사롭게 들리는 노랫소리도 좋아 그저 앉아만...\n",
      "표정없는 세월을 보\"\n",
      "려 따사롭게 들리는 노랫소리도 좋아 그저 앉아만...\n",
      "표정없는 세월을 보며 내 가슴에 비물 세월\n",
      "그대 마음속에 방울 주고 싶어서 있는지 그...\n",
      "                                             NaN\n",
      "오늘밤 그대 모습이 자리 나를 사랑하는 별한 모르고 그저 두 피고 떠나저 하늘 ...\n",
      "                                         NaN\n",
      "                                                                NaN\n",
      "아무말 날 바라보며 만신다신대 오늘 밤도 내 마음 모두라 나는 내 마음  어제의 ...\n",
      "그대 나를 두고 떠나야했했어  그 사람을 생각하자 미움도 모여채 아는 이유...\n",
      "그대 나를 두고 떠나간 그대 사랑 어느졌는 너에게 아무것도 없이 슬픈 내 말을 하네...\n",
      "     \n",
      "----- diversity: 1.0\n",
      "----- Generating with seed: \"려 따사롭게 들리는 노랫소리도 좋아 그저 앉아만...\n",
      "표정없는 세월을 보\"\n",
      "려 따사롭게 들리는 노랫소리도 좋아 그저 앉아만...\n",
      "표정없는 세월을 보며 당신없는 하얀 미소처럼 지나서 손밤에  저 별아 찾은 작은 쓸쓸가 창...\n",
      "간다 간다 너는 나의 슬픔이 잊고져 그 울에 마는 막로 곳에서 쓸쓸히 멀어져 버린 그대 눈...\n",
      "그대 내가 버리고 그대자 영미의 마음을 그대켜 오늘 난 아직도  불러늘네...\n",
      "눈물이 달아가면 마다생각하니 그 길로 조란에 울고대 여자는 거야지 맘 파을 열...\n",
      "진정 잊어야 하나 그대 떠나 버린없네 이주 무도 없이 게 하여 같이 자처럼 슬픈 노래...\n",
      "어둠이 지만 랑의 왜그대는 너무 혀없던 이 곳에지도 침은 것도 우린 알고 있아 그래 나는린 나...\n",
      "그댈 일란 기들었다 잊혀져는 그대 위해 거리서 비가 내 곁에서 떠나네 사랑...\n",
      "너 적그대는 이가는 곳에서 너는 너의 소리 가슴속에 남아 서 하자늘 오늘엔 너...\n",
      "            \n",
      "----- diversity: 1.2\n",
      "----- Generating with seed: \"려 따사롭게 들리는 노랫소리도 좋아 그저 앉아만...\n",
      "표정없는 세월을 보\"\n",
      "려 따사롭게 들리는 노랫소리도 좋아 그저 앉아만...\n",
      "표정없는 세월을 보며 흔들리는 파랑을 몰라 홀로걷자는 달니라 흘어 어사랑을 ...\n",
      "수녀가 지나가는 지나득 기억인 걸 든다 직도 너람부쳐 올것 알게  오늘도 난 ...\n",
      "한오는 눈물 귀게 게 물고 사랑도잠방을 애고 머려의 대는 대로히 담주안던...\n",
      "이밤이 단그치는 듯이 상처럼 허와이 석문에  알고 있던 도겨 그겨내 언밤로 목저마 해도 당신의 설쳐...\n",
      "속이을 고해 슬픈 내네 사랑이야랑 그대 대람들면 언제보다니대오 바람속을 만...\n",
      "해지는 어잠뜨고 떠나심야  그 거리고 날라진 보다고 사랑의 비처말 한이진 눈물은 고 싫...\n",
      "한송이 속속으로한 이고 하나그 감린 너를 입아 진 곳에 머주고 너는 너를 사랑했고...\n",
      "다시는 이 하늘에 따화게 우린 입간이 들.당마마이 안부었는지 못마  물다고 언란 사랑는 도시...\n",
      "그래 좋은 아니가를 리메\n",
      "Epoch 4/5\n",
      "220987/220987 [==============================] - 302s 1ms/step - loss: 0.9891\n",
      "\n",
      "----- Generating text after Epoch: 3\n",
      "----- diversity: 0.2\n",
      "----- Generating with seed: \" 그대의 모습 아아 이제는 슬프지...\n",
      "쥴리엣  너는 나의 영원한  사랑\"\n",
      " 그대의 모습 아아 이제는 슬프지...\n",
      "쥴리엣  너는 나의 영원한  사랑이야 사랑이야 안개를 같은 밤이 가면 나는 아침 ...\n",
      "                                                                                                                                                                                                                                                                                                                                                                                 \n",
      "----- diversity: 0.5\n",
      "----- Generating with seed: \" 그대의 모습 아아 이제는 슬프지...\n",
      "쥴리엣  너는 나의 영원한  사랑\"\n",
      " 그대의 모습 아아 이제는 슬프지...\n",
      "쥴리엣  너는 나의 영원한  사랑이야  잊어 수 없는 날들 가슴속에  가슴에 남아 가...\n",
      "                                           NaN\n",
      "                                                        NaN\n",
      "                                                                                                                NaN\n",
      "날 이가는 곳 우리 나는 너를 때문에 내 마음 저 멀어서고 흰눈이 내 아직...\n",
      "                                           NaN\n",
      "                                                    \n",
      "----- diversity: 1.0\n",
      "----- Generating with seed: \" 그대의 모습 아아 이제는 슬프지...\n",
      "쥴리엣  너는 나의 영원한  사랑\"\n",
      " 그대의 모습 아아 이제는 슬프지...\n",
      "쥴리엣  너는 나의 영원한  사랑이야 그대는 나도 멀리가야 후마다 시의 저...\n",
      "하늘엔 무슨말을 못하지 못하여  려생각 물지만 오기 지는 길로 속은 가로처럼 조각만은 빛 사랑의 당신을 모두...\n",
      "한 간다 ...\n",
      "어바람이 불고 버두여 나에게 잊혀진 우리의 사랑이 y아속고 생각으로 많은 파...\n",
      "                          세월가고 어쳐는데 희미하게 은차픈 걸어보는 여인 밤..\n",
      "영혼에 기나을 보두있네 모두 가아라 하여 이자지에 슬픔이 오니 창문을 모르...\n",
      "그말을 잊어까면 이마음 그 모습을 뒤돌아 가지만 금 만날 봐도 당신은 당신 흐르게 곳에 새빛 의미가...\n",
      "  피 바람이 들었었네 슬주고 있네  사랑이 흐르고 나고 그무슨 말을 하네...\n",
      "파도가 파만 거슬은 바람 불때면 앉아름다운 곁에 내 우리 처럼 가...\n",
      "손을 기으누나 \n",
      "----- diversity: 1.2\n",
      "----- Generating with seed: \" 그대의 모습 아아 이제는 슬프지...\n",
      "쥴리엣  너는 나의 영원한  사랑\"\n",
      " 그대의 모습 아아 이제는 슬프지...\n",
      "쥴리엣  너는 나의 영원한  사랑이기 잊어요 어내랑이 간이대로 못하지만 계N허공간다고 ...\n",
      "내 모혀에  스쳐가는 다가와은 창제 불 사이오엔 늘난고담 헤어지렸으니 오...\n",
      "도떨어 안별으만 미래는 추새이 함께네 소리아가나  그 간은 잊금은 눈우러요 거금으로 돌아서가 돌아없는 메세함에요  그대 ...\n",
      "너 나의 때문 멀리는 나의 하나 따. 그대 아주 얼굴도 해저 한 도는 시간 속에는 긴 하늘 아픔이었네 여N춤했어와 ...\n",
      "진정 내린아무내 세월을 머주어요 픈 이슬한뒤한 데데  나는 잠을 I  할수 ...\n",
      "난 놓고에 생각하면 애로가 걷으니 제고 들오 사랑이 누고 달빛 그러가던  ...\n",
      "희미해지는데어 리고 커다지 한 봐도도  나는 싫어요고 진못하지 못하면 그 울지르면 전려여 ...\n",
      "원하가 아름다운 사랑이 로치는 마음이 친구들아은 줄 알았어요 아무런 \n",
      "Epoch 5/5\n",
      "220987/220987 [==============================] - 287s 1ms/step - loss: 0.8887\n",
      "\n",
      "----- Generating text after Epoch: 4\n",
      "----- diversity: 0.2\n",
      "----- Generating with seed: \"바보야.  그를 잡고 말을 못하면.  너는 바보야.    사랑한단 한 마\"\n",
      "바보야.  그를 잡고 말을 못하면.  너는 바보야.    사랑한단 한 마...\n",
      "                                                                                                                                                                                                                                                                                                                                                                                                            \n",
      "----- diversity: 0.5\n",
      "----- Generating with seed: \"바보야.  그를 잡고 말을 못하면.  너는 바보야.    사랑한단 한 마\"\n",
      "바보야.  그를 잡고 말을 못하면.  너는 바보야.    사랑한단 한 마...\n",
      "                                                    NaN\n",
      "                                                                                                                                                     NaN\n",
      "세상을 너무나 모른다고 나보고 그대 말라 나를 보이 못잊어 너의 마음  아침 ...\n",
      "                                                          NaN\n",
      "그대 눈에 젖은 하늘을 여기빛 바람 불어오면 난 정말 몰라 가슴만 두근거리 오는 그...\n",
      "비가 내리면 음악이 새을 멀어져  그대는 사랑 무슨\n",
      "----- diversity: 1.0\n",
      "----- Generating with seed: \"바보야.  그를 잡고 말을 못하면.  너는 바보야.    사랑한단 한 마\"\n",
      "바보야.  그를 잡고 말을 못하면.  너는 바보야.    사랑한단 한 마의태좋속에 ...\n",
      "오늘은 어디고 어든을 뜨며 알아 있는 향기를 날...\n",
      "                                            NaN\n",
      "았울려는 내 곁에 속을 가슴에는 찬언남~렇게 내려와  당신 위절 모두 나에 ...\n",
      "정말 두 흘러만 흐르는 싫어요 지나간 날나는 너의 이가 꽃겨속에 픈해를 저...\n",
      "온 자라 내 너를 만나고 생각을 세미울지마 작은 거리서 안녕 입니며 숨다...\n",
      "해가뜨면 찾아차 해가 려가면 날아버아니 남아 있어요 그주거리에토 그래 먼눈...\n",
      "어느날 누가라 지던 오늘엔 꿈 맘구름다고 별이 걸어 얼굴을 잊으려 하나에는 젖은 슬픈 노래...\n",
      "듯 이젠 내 곁에 있지만 내마음 그...\n",
      "눈물로 거리에 주어 오늘 밤을 세가 사람인 줄 알았어요 담정를  걸어도 마....\n",
      "그대  사랑한다 \n",
      "----- diversity: 1.2\n",
      "----- Generating with seed: \"바보야.  그를 잡고 말을 못하면.  너는 바보야.    사랑한단 한 마\"\n",
      "바보야.  그를 잡고 말을 못하면.  너는 바보야.    사랑한단 한 마...\n",
      "바람 속으로 가는데  일비시때는 떠으니 바람아 시작길 알고 있나요 나홀로 디로 다가한...\n",
      "둔 밤  한아라면 흐르는 이제 의미까...\n",
      "면  이 곁에서 난루린 헤어져들 싫어요 그데 내곁에서 날마다 누구도 행복한는 그를 ...\n",
      "걸고와 사랑이 가득한 남아 꿈이면  희미인러 그건  아름 말아요 나의 헤어...\n",
      "눈물이 찬 편하은 찾아 게 말없이 라도 내마음 오들날은 알고 있나요 떠나 나의 안개 운...\n",
      "픔전에 목에고 세면 타는 오마는 대기고 걸어 수 우가 린다정 창문 가만히 수리...\n",
      "아인 아 않를 나 모송이 나 먼저 예쁜 촛불 타는 보작도 소 말없이 매내...\n",
      "언단 ...\n",
      "리워진 내마음은 로먼 다시의 다옛 젖어 기도 찾아 길을 머미처럼 서은 내 꿈속...\n",
      "                             \n"
     ]
    },
    {
     "data": {
      "text/plain": [
       "<keras.callbacks.History at 0x181686a9b0>"
      ]
     },
     "execution_count": 58,
     "metadata": {},
     "output_type": "execute_result"
    }
   ],
   "source": [
    "\n",
    "def sample(preds, temperature=1.0):\n",
    "    # helper function to sample an index from a probability array\n",
    "    preds = np.asarray(preds).astype('float64')\n",
    "    preds = np.log(preds) / temperature\n",
    "    exp_preds = np.exp(preds)\n",
    "    preds = exp_preds / np.sum(exp_preds)\n",
    "    probas = np.random.multinomial(1, preds, 1)\n",
    "    return np.argmax(probas)\n",
    "\n",
    "\n",
    "def on_epoch_end(epoch, _):\n",
    "    # Function invoked at end of each epoch. Prints generated text.\n",
    "    print()\n",
    "    print('----- Generating text after Epoch: %d' % epoch)\n",
    "\n",
    "    start_index = random.randint(0, len(text) - maxlen - 1)\n",
    "    for diversity in [0.2, 0.5, 1.0, 1.2]:\n",
    "        print('----- diversity:', diversity)\n",
    "\n",
    "        generated = ''\n",
    "        sentence = text[start_index: start_index + maxlen]\n",
    "        generated += sentence\n",
    "        print('----- Generating with seed: \"' + sentence + '\"')\n",
    "        sys.stdout.write(generated)\n",
    "\n",
    "        for i in range(400):\n",
    "            x_pred = np.zeros((1, maxlen, len(chars)))\n",
    "            for t, char in enumerate(sentence):\n",
    "                x_pred[0, t, char_indices[char]] = 1.\n",
    "\n",
    "            preds = model.predict(x_pred, verbose=0)[0]\n",
    "            next_index = sample(preds, diversity)\n",
    "            next_char = indices_char[next_index]\n",
    "\n",
    "            generated += next_char\n",
    "            sentence = sentence[1:] + next_char\n",
    "\n",
    "            sys.stdout.write(next_char)\n",
    "            sys.stdout.flush()\n",
    "        print()\n",
    "\n",
    "print_callback = LambdaCallback(on_epoch_end=on_epoch_end)\n",
    "\n",
    "model.fit(x, y,\n",
    "          batch_size=128,\n",
    "          epochs=5,\n",
    "          callbacks=[print_callback])"
   ]
  },
  {
   "cell_type": "code",
   "execution_count": 59,
   "metadata": {},
   "outputs": [
    {
     "name": "stdout",
     "output_type": "stream",
     "text": [
      "Saved model to disk\n"
     ]
    }
   ],
   "source": [
    "# serialize model to JSON\n",
    "model_json = model.to_json()\n",
    "with open(\"model.json\", \"w\") as json_file:\n",
    "    json_file.write(model_json)\n",
    "# serialize weights to HDF5\n",
    "model.save_weights(\"model.h5\")\n",
    "print(\"Saved model to disk\")"
   ]
  },
  {
   "cell_type": "code",
   "execution_count": 60,
   "metadata": {},
   "outputs": [
    {
     "ename": "NameError",
     "evalue": "name 'model_from_json' is not defined",
     "output_type": "error",
     "traceback": [
      "\u001b[0;31m---------------------------------------------------------------------------\u001b[0m",
      "\u001b[0;31mNameError\u001b[0m                                 Traceback (most recent call last)",
      "\u001b[0;32m<ipython-input-60-2fd7e261cf4a>\u001b[0m in \u001b[0;36m<module>\u001b[0;34m()\u001b[0m\n\u001b[1;32m      3\u001b[0m \u001b[0mloaded_model_json\u001b[0m \u001b[0;34m=\u001b[0m \u001b[0mjson_file\u001b[0m\u001b[0;34m.\u001b[0m\u001b[0mread\u001b[0m\u001b[0;34m(\u001b[0m\u001b[0;34m)\u001b[0m\u001b[0;34m\u001b[0m\u001b[0m\n\u001b[1;32m      4\u001b[0m \u001b[0mjson_file\u001b[0m\u001b[0;34m.\u001b[0m\u001b[0mclose\u001b[0m\u001b[0;34m(\u001b[0m\u001b[0;34m)\u001b[0m\u001b[0;34m\u001b[0m\u001b[0m\n\u001b[0;32m----> 5\u001b[0;31m \u001b[0mloaded_model\u001b[0m \u001b[0;34m=\u001b[0m \u001b[0mmodel_from_json\u001b[0m\u001b[0;34m(\u001b[0m\u001b[0mloaded_model_json\u001b[0m\u001b[0;34m)\u001b[0m\u001b[0;34m\u001b[0m\u001b[0m\n\u001b[0m\u001b[1;32m      6\u001b[0m \u001b[0;31m# load weights into new model\u001b[0m\u001b[0;34m\u001b[0m\u001b[0;34m\u001b[0m\u001b[0m\n\u001b[1;32m      7\u001b[0m \u001b[0mloaded_model\u001b[0m\u001b[0;34m.\u001b[0m\u001b[0mload_weights\u001b[0m\u001b[0;34m(\u001b[0m\u001b[0;34m\"model.h5\"\u001b[0m\u001b[0;34m)\u001b[0m\u001b[0;34m\u001b[0m\u001b[0m\n",
      "\u001b[0;31mNameError\u001b[0m: name 'model_from_json' is not defined"
     ]
    }
   ],
   "source": [
    "# load json and create model\n",
    "json_file = open('model.json', 'r')\n",
    "loaded_model_json = json_file.read()\n",
    "json_file.close()\n",
    "loaded_model = model_from_json(loaded_model_json)\n",
    "# load weights into new model\n",
    "loaded_model.load_weights(\"model.h5\")\n",
    "print(\"Loaded model from disk\")"
   ]
  },
  {
   "cell_type": "code",
   "execution_count": null,
   "metadata": {},
   "outputs": [],
   "source": []
  }
 ],
 "metadata": {
  "kernelspec": {
   "display_name": "Python 3",
   "language": "python",
   "name": "python3"
  },
  "language_info": {
   "codemirror_mode": {
    "name": "ipython",
    "version": 3
   },
   "file_extension": ".py",
   "mimetype": "text/x-python",
   "name": "python",
   "nbconvert_exporter": "python",
   "pygments_lexer": "ipython3",
   "version": "3.6.5"
  }
 },
 "nbformat": 4,
 "nbformat_minor": 2
}
