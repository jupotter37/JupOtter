{
 "metadata": {
  "name": ""
 },
 "nbformat": 3,
 "nbformat_minor": 0,
 "worksheets": [
  {
   "cells": [
    {
     "cell_type": "code",
     "collapsed": false,
     "input": [
      "import datetime\n",
      "\"\"\" db_print.py -- a simple demo for ADO database reads.\"\"\"\n",
      "\n",
      "import adodbapi\n",
      "adodbapi.adodbapi.verbose = False # adds details to the sample printout\n",
      "\n",
      "# connection string templates from http://www.connectionstrings.com\n",
      "# Switch test providers by changing the \"if True\" below\n",
      "\n",
      "# connection string for an Access data table:\n",
      "\n",
      "\n",
      "# connection string for an SQL server\n",
      "_computername=\"135.222.212.16\" #or name of computer with SQL Server\n",
      "_databasename=\"wms_kpi\" #or something else\n",
      "_table_name= 'dbo.test'\n",
      "\n",
      "_username=\"slbryson\"\n",
      "_password='marapr222!'\n",
      "        # this set opens a MS-SQL table with SQL authentication \n",
      "constr = r\"Provider=SQLOLEDB.1; Initial Catalog=%s; Data Source=%s; user ID=%s; Password=%s; \" \\\n",
      "% (_databasename, _computername, _username, _password)\n",
      "#-----------------------\n",
      "# Ths would work better with Windows Authentication then you would not need to expose your password.\n",
      "    \n",
      "#tell the server  we are not planning to update...\n",
      "adodbapi.adodbapi.defaultIsolationLevel = adodbapi.adodbapi.adXactBrowse\n",
      "\n",
      "#and we want a local cursor (so that we will have an accurate rowcount)\n",
      "adodbapi.adodbapi.defaultCursorLocation = adodbapi.adodbapi.adUseClient\n",
      "\n",
      "#create the connection\n",
      "con = adodbapi.connect(constr)\n",
      "\n",
      "#make a cursor on the connection\n",
      "c = con.cursor()\n",
      "\n",
      "#run an SQL statement on the cursor\n",
      "sql = 'select * from %s' % _table_name\n",
      "print 'Executing the command: \"%s\"' % sql\n",
      "c.execute(sql)\n",
      "\n",
      "#check the results\n",
      "print 'result rowcount shows as= %d. (Note: -1 means \"not known\")' \\\n",
      "      % (c.rowcount,)\n",
      "print\n",
      "print 'result data description is:'\n",
      "print '            NAME TypeCd DispSize IntrnlSz Prec Scale Null?'\n",
      "for d in c.description:\n",
      "    print ('%16s %6d %8d %8d %4d %5d %5d') % d\n",
      "print\n",
      "\n",
      "\n",
      "#get the results\n",
      "db = c.fetchmany(10)\n",
      "kk = c.fetchall()\n",
      "#Get RRC attempts\n",
      "howmany = int(c.rowcount)\n",
      "psrrc= np.zeros((howmany,1))\n",
      "csrrc= np.zeros((howmany,1))\n",
      "cellid = np.chararray((howmany,1), itemsize=20)\n",
      "for rows in range(len(kk)):\n",
      "    psrrc[rows] = kk[rows][3]\n",
      "    lon[rows]= kk[rows][2]\n",
      "    cellid[rows] = kk[rows][1]\n",
      "#print them\n",
      "if False:\n",
      "    for rec in db:\n",
      "        print repr(rec)\n",
      "if False:\n",
      "    print psrrc\n",
      "psrrc =psrrc.tolist()\n",
      "csrrc = csrrc.tolist()\n",
      "cellid = cellid.tolist()\n",
      "if False:\n",
      "    print psrrc\n",
      "c.close()\n",
      "con.close()\n"
     ],
     "language": "python",
     "metadata": {},
     "outputs": [
      {
       "output_type": "stream",
       "stream": "stdout",
       "text": [
        "Executing the command: \"select * from dbo.test\"\n",
        "result rowcount shows as= 1734. (Note: -1 means \"not known\")"
       ]
      },
      {
       "ename": "NameError",
       "evalue": "name 'np' is not defined",
       "output_type": "pyerr",
       "traceback": [
        "\u001b[1;31m---------------------------------------------------------------------------\u001b[0m\n\u001b[1;31mNameError\u001b[0m                                 Traceback (most recent call last)",
        "\u001b[1;32m<ipython-input-2-16a16e7a1b5f>\u001b[0m in \u001b[0;36m<module>\u001b[1;34m()\u001b[0m\n\u001b[0;32m     55\u001b[0m \u001b[1;31m#Get RRC attempts\u001b[0m\u001b[1;33m\u001b[0m\u001b[1;33m\u001b[0m\u001b[0m\n\u001b[0;32m     56\u001b[0m \u001b[0mhowmany\u001b[0m \u001b[1;33m=\u001b[0m \u001b[0mint\u001b[0m\u001b[1;33m(\u001b[0m\u001b[0mc\u001b[0m\u001b[1;33m.\u001b[0m\u001b[0mrowcount\u001b[0m\u001b[1;33m)\u001b[0m\u001b[1;33m\u001b[0m\u001b[0m\n\u001b[1;32m---> 57\u001b[1;33m \u001b[0mpsrrc\u001b[0m\u001b[1;33m=\u001b[0m \u001b[0mnp\u001b[0m\u001b[1;33m.\u001b[0m\u001b[0mzeros\u001b[0m\u001b[1;33m(\u001b[0m\u001b[1;33m(\u001b[0m\u001b[0mhowmany\u001b[0m\u001b[1;33m,\u001b[0m\u001b[1;36m1\u001b[0m\u001b[1;33m)\u001b[0m\u001b[1;33m)\u001b[0m\u001b[1;33m\u001b[0m\u001b[0m\n\u001b[0m\u001b[0;32m     58\u001b[0m \u001b[0mcsrrc\u001b[0m\u001b[1;33m=\u001b[0m \u001b[0mnp\u001b[0m\u001b[1;33m.\u001b[0m\u001b[0mzeros\u001b[0m\u001b[1;33m(\u001b[0m\u001b[1;33m(\u001b[0m\u001b[0mhowmany\u001b[0m\u001b[1;33m,\u001b[0m\u001b[1;36m1\u001b[0m\u001b[1;33m)\u001b[0m\u001b[1;33m)\u001b[0m\u001b[1;33m\u001b[0m\u001b[0m\n\u001b[0;32m     59\u001b[0m \u001b[0mcellid\u001b[0m \u001b[1;33m=\u001b[0m \u001b[0mnp\u001b[0m\u001b[1;33m.\u001b[0m\u001b[0mchararray\u001b[0m\u001b[1;33m(\u001b[0m\u001b[1;33m(\u001b[0m\u001b[0mhowmany\u001b[0m\u001b[1;33m,\u001b[0m\u001b[1;36m1\u001b[0m\u001b[1;33m)\u001b[0m\u001b[1;33m,\u001b[0m \u001b[0mitemsize\u001b[0m\u001b[1;33m=\u001b[0m\u001b[1;36m20\u001b[0m\u001b[1;33m)\u001b[0m\u001b[1;33m\u001b[0m\u001b[0m\n",
        "\u001b[1;31mNameError\u001b[0m: name 'np' is not defined"
       ]
      },
      {
       "output_type": "stream",
       "stream": "stdout",
       "text": [
        "\n",
        "\n",
        "result data description is:\n",
        "            NAME TypeCd DispSize IntrnlSz Prec Scale Null?\n",
        "   startDateTime    135       16       16   23     3     1\n",
        "            cell    202       20      255  255   255     1\n",
        "    totCSRRCAtts      4        4        4    7   255     1\n",
        "    totPSRRCAtts      4        4        4    7   255     1\n",
        "           kpi16      4        4        4    7   255     1\n",
        "          kpi35p      4        4        4    7   255     1\n",
        "\n"
       ]
      }
     ],
     "prompt_number": 2
    },
    {
     "cell_type": "code",
     "collapsed": false,
     "input": [
      "import datetime\n",
      "import numpy as np\n",
      "\"\"\" db_print.py -- a simple demo for ADO database reads.\"\"\"\n",
      "\n",
      "import adodbapi\n",
      "adodbapi.adodbapi.verbose = True # adds details to the sample printout\n",
      "\n",
      "# connection string templates from http://www.connectionstrings.com\n",
      "# Switch test providers by changing the \"if True\" below\n",
      "\n",
      "# connection string for an Access data table:\n",
      "\n",
      "\n",
      "# connection string for an SQL server\n",
      "_computername=\"135.222.212.16\" #or name of computer with SQL Server\n",
      "_databasename=\"wms_kpi\" #or something else\n",
      "_table_name= 'dbo.location'\n",
      "\n",
      "_username=\"slbryson\"\n",
      "_password='marapr222!'\n",
      "        # this set opens a MS-SQL table with SQL authentication \n",
      "constr = r\"Provider=SQLOLEDB.1; Initial Catalog=%s; Data Source=%s; user ID=%s; Password=%s; \" \\\n",
      "% (_databasename, _computername, _username, _password)\n",
      "#-----------------------\n",
      "# Ths would work better with Windows Authentication then you would not need to expose your password.\n",
      "    \n",
      "#tell the server  we are not planning to update...\n",
      "adodbapi.adodbapi.defaultIsolationLevel = adodbapi.adodbapi.adXactBrowse\n",
      "\n",
      "#and we want a local cursor (so that we will have an accurate rowcount)\n",
      "adodbapi.adodbapi.defaultCursorLocation = adodbapi.adodbapi.adUseClient\n",
      "\n",
      "#create the connection\n",
      "con = adodbapi.connect(constr)\n",
      "\n",
      "#make a cursor on the connection\n",
      "c = con.cursor()\n",
      "\n",
      "#run an SQL statement on the cursor\n",
      "sql = 'select * from %s' % _table_name\n",
      "print 'Executing the command: \"%s\"' % sql\n",
      "c.execute(sql)\n",
      "\n",
      "#check the results\n",
      "print 'result rowcount shows as = %d. (Note: -1 means \"not known\")' \\\n",
      "      % (c.rowcount,)\n",
      "print\n",
      "print 'result data description is:'\n",
      "print '            NAME TypeCd DispSize IntrnlSz Prec Scale Null?'\n",
      "for d in c.description:\n",
      "    print ('%16s %6d %8d %8d %4d %5d %5d') % d\n",
      "print\n",
      "print 'result first ten records are:' \n",
      "\n",
      "#get the results\n",
      "db = c.fetchmany(10)\n",
      "#c.execute(\"select latitude from %s\" % _table_name)\n",
      "kk = c.fetchall()\n",
      "#print \n",
      "if False:\n",
      " for rec in db:\n",
      "    print repr(rec)\n",
      "    \n",
      "howmany = int(c.rowcount)\n",
      "lat= np.zeros((howmany,1))\n",
      "lon= np.zeros((howmany,1))\n",
      "name = np.chararray((howmany,1), itemsize=20)\n",
      "for rows in range(len(kk)):\n",
      "    lat[rows] = kk[rows][0]\n",
      "    lon[rows]= kk[rows][1]\n",
      "    name[rows] = kk[rows][4]\n",
      "\n",
      "\n",
      "    #print  rec.latitude, rec.longitude\n",
      "    #print lat\n",
      "for rows in range(45,50):\n",
      "    print lat[rows], name[rows], len(name)\n",
      "c.close()\n",
      "con.close()\n"
     ],
     "language": "python",
     "metadata": {},
     "outputs": [
      {
       "output_type": "stream",
       "stream": "stdout",
       "text": [
        "adodbapi v2.4.3 attempting: \"Provider=SQLOLEDB.1; Initial Catalog=wms_kpi; Data Source=135.222.212.16; user ID=slbryson; Password=marapr222!; \"\n",
        "adodbapi New connection at 53F45C0"
       ]
      },
      {
       "output_type": "stream",
       "stream": "stdout",
       "text": [
        "\n",
        "adodbapi New cursor at 519ECC0 on conn 53F45C0\n",
        "adodbapi Closed connection at 53F4518"
       ]
      },
      {
       "output_type": "stream",
       "stream": "stdout",
       "text": [
        "\n",
        "Executing the command: \"select * from dbo.location\"\n",
        "Executing command=\"select * from dbo.location\"\n",
        "result rowcount shows as = 1755. (Note: -1 means \"not known\")"
       ]
      },
      {
       "output_type": "stream",
       "stream": "stdout",
       "text": [
        "\n",
        "\n",
        "result data description is:\n",
        "            NAME TypeCd DispSize IntrnlSz Prec Scale Null?\n",
        "        latitude      4        4        4    7   255     1\n",
        "       longitude      4        4        4    7   255     1\n",
        "     utm_easting      4        4        4    7   255     1\n",
        "    utm_northing      4        4        4    7   255     1\n",
        "            name    202       20       50  255   255     1\n",
        "    altitude (m)      4        4        4    7   255     1\n",
        "\n",
        "result first ten records are:\n",
        "[ 40.73713303]"
       ]
      },
      {
       "output_type": "stream",
       "stream": "stdout",
       "text": [
        " ['NYNYU1446X'] 1755\n",
        "[ 40.73894501] ['NYNYU1446Y'] 1755\n",
        "[ 40.73762512] ['NYNYU1446Z'] 1755\n",
        "[ 40.74331284] ['NYSCU0611A'] 1755\n",
        "[ 40.74126434] ['NYSCU0611C'] 1755\n",
        "adodbapi Closed connection at 53F45C0"
       ]
      },
      {
       "output_type": "stream",
       "stream": "stdout",
       "text": [
        "\n"
       ]
      }
     ],
     "prompt_number": 3
    },
    {
     "cell_type": "code",
     "collapsed": false,
     "input": [],
     "language": "python",
     "metadata": {},
     "outputs": []
    }
   ],
   "metadata": {}
  }
 ]
}