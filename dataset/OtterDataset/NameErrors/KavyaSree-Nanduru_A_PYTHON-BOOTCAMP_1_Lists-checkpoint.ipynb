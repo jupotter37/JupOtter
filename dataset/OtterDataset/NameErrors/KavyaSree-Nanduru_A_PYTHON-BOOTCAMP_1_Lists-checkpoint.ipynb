{
 "cells": [
  {
   "cell_type": "markdown",
   "id": "442c6c02",
   "metadata": {},
   "source": [
    "### Built-in datatypes in Python\n",
    "There are four built-in datatypes in Python to represent collection of data. They are:<br>\n",
    "List - Ordered and Changeable. Allows duplicates. Represented in []<br>\n",
    "Tuple - Ordered and Unchangeable. Allows duplicates. Represented in ()<br>\n",
    "Set - Unordered, Unchangeable*, and unindexed. No duplicates. Represented in {}<br>\n",
    "Dictionary - Ordered(from python 3.7) and changeable. No duplicates. Represented in {}<br>"
   ]
  },
  {
   "cell_type": "markdown",
   "id": "f18fd388",
   "metadata": {},
   "source": [
    "## LISTS"
   ]
  },
  {
   "cell_type": "code",
   "execution_count": 1,
   "id": "c873e203",
   "metadata": {},
   "outputs": [
    {
     "name": "stdout",
     "output_type": "stream",
     "text": [
      "<class 'list'>\n"
     ]
    }
   ],
   "source": [
    "# REPRESENTATION OF A LIST\n",
    "a = [1,2,3,4,5,6,7]\n",
    "print(type(a))"
   ]
  },
  {
   "cell_type": "code",
   "execution_count": 2,
   "id": "d182c353",
   "metadata": {},
   "outputs": [
    {
     "name": "stdout",
     "output_type": "stream",
     "text": [
      "[1, 2, 3, 4]\n",
      "<class 'list'>\n"
     ]
    }
   ],
   "source": [
    "# OTHER WAY OF REPRESENTATION OF A LIST\n",
    "# NOTE THE DOUBLE BRACKETS\n",
    "a = list([1,2,3,4])\n",
    "print(a)\n",
    "print(type(a))"
   ]
  },
  {
   "cell_type": "code",
   "execution_count": 4,
   "id": "ee80a095",
   "metadata": {},
   "outputs": [
    {
     "name": "stdout",
     "output_type": "stream",
     "text": [
      "Length of list a: 5\n"
     ]
    }
   ],
   "source": [
    "# LENGTH OF THE LIST\n",
    "a = [1,2,3,4,5]\n",
    "print(\"Length of list a:\",len(a))"
   ]
  },
  {
   "cell_type": "code",
   "execution_count": 5,
   "id": "1eaa0b37",
   "metadata": {},
   "outputs": [
    {
     "name": "stdout",
     "output_type": "stream",
     "text": [
      "Element at index 1: 2\n",
      "Last element: 10\n",
      "Three elements from end: [7, 8, 9]\n",
      "Elements from index 2 to 5: [3, 4, 5, 6]\n",
      "Elements from index 2: [3, 4, 5, 6, 7, 8, 9, 10]\n",
      "Elements till index 8: [1, 2, 3, 4, 5, 6, 7, 8, 9]\n",
      "All the elements: [1, 2, 3, 4, 5, 6, 7, 8, 9, 10]\n"
     ]
    }
   ],
   "source": [
    "#ACCESSING RANGE OF LIST ITEMS\n",
    "a = [1,2,3,4,5,6,7,8,9,10]\n",
    "print(\"Element at index 1:\",a[1])\n",
    "print(\"Last element:\",a[-1])\n",
    "print(\"Three elements from end:\",a[-4:-1])\n",
    "print(\"Elements from index 2 to 5:\",a[2:6])\n",
    "print(\"Elements from index 2:\",a[2:])\n",
    "print(\"Elements till index 8:\",a[:9])\n",
    "print(\"All the elements:\",a[::])"
   ]
  },
  {
   "cell_type": "code",
   "execution_count": 6,
   "id": "5763bbb9",
   "metadata": {},
   "outputs": [
    {
     "name": "stdout",
     "output_type": "stream",
     "text": [
      "1\n",
      "2\n",
      "3\n",
      "4\n",
      "5\n"
     ]
    }
   ],
   "source": [
    "# TRAVERSING THROUGH A LIST\n",
    "a = [1,2,3,4,5]\n",
    "for i in range (len(a)):\n",
    " print(a[i])"
   ]
  },
  {
   "cell_type": "code",
   "execution_count": 7,
   "id": "ae088e15",
   "metadata": {},
   "outputs": [
    {
     "name": "stdout",
     "output_type": "stream",
     "text": [
      "List a: [1, 2, 3, 4, 5, 6]\n",
      "List b: [1, 2, 3, 4, 5, 6]\n"
     ]
    }
   ],
   "source": [
    "# TRAVERSING THROUGH A LIST\n",
    "a = [1,2,3,4,5,6]\n",
    "b = [i for i in a]\n",
    "print(\"List a:\",a)\n",
    "print(\"List b:\",b)"
   ]
  },
  {
   "cell_type": "code",
   "execution_count": 9,
   "id": "30263d51",
   "metadata": {},
   "outputs": [
    {
     "name": "stdout",
     "output_type": "stream",
     "text": [
      "1\n",
      "2\n",
      "3\n",
      "4\n",
      "5\n"
     ]
    },
    {
     "data": {
      "text/plain": [
       "[None, None, None, None, None]"
      ]
     },
     "execution_count": 9,
     "metadata": {},
     "output_type": "execute_result"
    }
   ],
   "source": [
    "# TRAVERSING THROUGH THE LIST\n",
    "a = [1,2,3,4,5]\n",
    "b = [print(x) for x in a]\n",
    "b"
   ]
  },
  {
   "cell_type": "code",
   "execution_count": 10,
   "id": "6930fd23",
   "metadata": {},
   "outputs": [
    {
     "name": "stdout",
     "output_type": "stream",
     "text": [
      "[1, 2.33, 3, 4, 5, 6]\n",
      "[1, 2.33, 3.1, 4.1, 5.1, 6]\n"
     ]
    }
   ],
   "source": [
    "#CHANGING LIST ITEMS - LISTS ARE MUTABLE (can be changed)\n",
    "a = [1,2,3,4,5,6]\n",
    "a[1] = 2.33\n",
    "print(a)\n",
    "\n",
    "a[2:5] = [3.1,4.1,5.1]\n",
    "print(a)"
   ]
  },
  {
   "cell_type": "code",
   "execution_count": 11,
   "id": "84f05eae",
   "metadata": {},
   "outputs": [
    {
     "name": "stdout",
     "output_type": "stream",
     "text": [
      "[1, 2, 4, 5]\n"
     ]
    }
   ],
   "source": [
    "#CHANGING LIST ITEMS - LISTS ARE MUTABLE (can be changed)\n",
    "a = [1,2,3,4,5]\n",
    "a[1:3] = [2]\n",
    "print(a)"
   ]
  },
  {
   "cell_type": "code",
   "execution_count": 12,
   "id": "8696b15b",
   "metadata": {},
   "outputs": [
    {
     "name": "stdout",
     "output_type": "stream",
     "text": [
      "Yes 1 is present\n"
     ]
    }
   ],
   "source": [
    "#Checking if a particular element is present:\n",
    "a = [1,2,3,4,5,6]\n",
    "if 1 in a:\n",
    "    print(\"Yes 1 is present\")\n",
    "else:\n",
    "    print(\"Not present\")"
   ]
  },
  {
   "cell_type": "code",
   "execution_count": 13,
   "id": "c7f97e01",
   "metadata": {},
   "outputs": [
    {
     "name": "stdout",
     "output_type": "stream",
     "text": [
      "[6, 5, 4, 3, 2, 1]\n",
      "After slicing: [1, 2, 3, 4, 5, 6]\n"
     ]
    }
   ],
   "source": [
    "# List Slicing - prints reverse.\n",
    "a = [1,2,3,4,5,6] \n",
    "print(a[::-1])\n",
    "\n",
    "#List Slicing doesn't change the value of list.\n",
    "print(\"After slicing:\",a) "
   ]
  },
  {
   "cell_type": "code",
   "execution_count": 14,
   "id": "3232d49b",
   "metadata": {},
   "outputs": [
    {
     "name": "stdout",
     "output_type": "stream",
     "text": [
      "List a: []\n",
      "List b: [5, 4, 3, 2, 1]\n",
      "List c: [None, None, None, None, None]\n"
     ]
    }
   ],
   "source": [
    "# REVERSE OF A LIST\n",
    "a = [1,2,3,4,5] \n",
    "b=[]\n",
    "c = [b.append(a.pop()) for i in range (len(a))]\n",
    "print(\"List a:\",a)\n",
    "print(\"List b:\",b)\n",
    "print(\"List c:\",c)"
   ]
  },
  {
   "cell_type": "code",
   "execution_count": 3,
   "id": "440e6bd1",
   "metadata": {},
   "outputs": [
    {
     "name": "stdout",
     "output_type": "stream",
     "text": [
      "Reverse of the list is: [5, 4, 3, 2, 1]\n"
     ]
    }
   ],
   "source": [
    "# Reverse funtion - prints list in reverse order\n",
    "a = [1,2,3,4,5]\n",
    "a.reverse()\n",
    "print(\"Reverse of the list is:\",a)"
   ]
  },
  {
   "cell_type": "code",
   "execution_count": 4,
   "id": "1254166c",
   "metadata": {},
   "outputs": [
    {
     "name": "stdout",
     "output_type": "stream",
     "text": [
      "5\n",
      "List after pop: [1, 2, 3, 4]\n"
     ]
    }
   ],
   "source": [
    "# pop() - removes last element from the list. \n",
    "a = [1,2,3,4,5] \n",
    "print(a.pop())\n",
    "print(\"List after pop:\",a)"
   ]
  },
  {
   "cell_type": "code",
   "execution_count": 113,
   "id": "9dfe4efe",
   "metadata": {
    "collapsed": true
   },
   "outputs": [
    {
     "name": "stdout",
     "output_type": "stream",
     "text": [
      "5\n",
      "List after pop: [1, 2, 3, 4]\n"
     ]
    }
   ],
   "source": [
    "# pop(index) - removes value in that index and returns the removed element\n",
    "a = [1,2,3,4,5] \n",
    "print(a.pop(4))\n",
    "print(\"List after pop:\",a)"
   ]
  },
  {
   "cell_type": "code",
   "execution_count": 5,
   "id": "b78022ad",
   "metadata": {},
   "outputs": [
    {
     "data": {
      "text/plain": [
       "[1, 2, 3, 5]"
      ]
     },
     "execution_count": 5,
     "metadata": {},
     "output_type": "execute_result"
    }
   ],
   "source": [
    "# REMOVE - remove(element) - removes particular element\n",
    "a = [1,2,3,4,5]\n",
    "a.remove(4)\n",
    "a"
   ]
  },
  {
   "cell_type": "code",
   "execution_count": 6,
   "id": "6653b8e7",
   "metadata": {},
   "outputs": [
    {
     "name": "stdout",
     "output_type": "stream",
     "text": [
      "List after deleting: [1, 2, 4, 5, 6, 7, 8, 9, 10]\n"
     ]
    }
   ],
   "source": [
    "# DELETE - del[index] - deletes value in that particular index.\n",
    "a = [1,2,3,4,5,6,7,8,9,10]\n",
    "del a[2]\n",
    "print(\"List after deleting:\",a)"
   ]
  },
  {
   "cell_type": "code",
   "execution_count": 7,
   "id": "406aa708",
   "metadata": {
    "collapsed": true
   },
   "outputs": [
    {
     "ename": "NameError",
     "evalue": "name 'a' is not defined",
     "output_type": "error",
     "traceback": [
      "\u001b[1;31m---------------------------------------------------------------------------\u001b[0m",
      "\u001b[1;31mNameError\u001b[0m                                 Traceback (most recent call last)",
      "\u001b[1;32m~\\AppData\\Local\\Temp\\ipykernel_6136\\1134831993.py\u001b[0m in \u001b[0;36m<module>\u001b[1;34m\u001b[0m\n\u001b[0;32m      2\u001b[0m \u001b[0ma\u001b[0m \u001b[1;33m=\u001b[0m \u001b[1;33m[\u001b[0m\u001b[1;36m1\u001b[0m\u001b[1;33m,\u001b[0m\u001b[1;36m2\u001b[0m\u001b[1;33m,\u001b[0m\u001b[1;36m3\u001b[0m\u001b[1;33m,\u001b[0m\u001b[1;36m4\u001b[0m\u001b[1;33m,\u001b[0m\u001b[1;36m5\u001b[0m\u001b[1;33m]\u001b[0m\u001b[1;33m\u001b[0m\u001b[1;33m\u001b[0m\u001b[0m\n\u001b[0;32m      3\u001b[0m \u001b[1;32mdel\u001b[0m \u001b[0ma\u001b[0m\u001b[1;33m\u001b[0m\u001b[1;33m\u001b[0m\u001b[0m\n\u001b[1;32m----> 4\u001b[1;33m \u001b[0ma\u001b[0m\u001b[1;33m\u001b[0m\u001b[1;33m\u001b[0m\u001b[0m\n\u001b[0m",
      "\u001b[1;31mNameError\u001b[0m: name 'a' is not defined"
     ]
    }
   ],
   "source": [
    "#DELETING ENTIRE LIST\n",
    "a = [1,2,3,4,5]\n",
    "del a\n",
    "a"
   ]
  },
  {
   "cell_type": "code",
   "execution_count": 8,
   "id": "c8ecda0f",
   "metadata": {
    "collapsed": true
   },
   "outputs": [
    {
     "data": {
      "text/plain": [
       "[]"
      ]
     },
     "execution_count": 8,
     "metadata": {},
     "output_type": "execute_result"
    }
   ],
   "source": [
    "# CLEAR - clear() = clears complete list\n",
    "a = [1,2,3,4,5]\n",
    "a.clear()\n",
    "a"
   ]
  },
  {
   "cell_type": "code",
   "execution_count": 9,
   "id": "7f5685d1",
   "metadata": {},
   "outputs": [
    {
     "name": "stdout",
     "output_type": "stream",
     "text": [
      "List after appending: [1, 2, 3, 4, 5, 6, 7, 8, 8]\n"
     ]
    }
   ],
   "source": [
    "# APPEND - append(element) - we can also add duplicate values\n",
    "a = [1,2,3,4,5,6,7]\n",
    "a.append(8)\n",
    "a.append(8)\n",
    "print(\"List after appending:\",a)"
   ]
  },
  {
   "cell_type": "code",
   "execution_count": 10,
   "id": "d40e7c88",
   "metadata": {},
   "outputs": [
    {
     "name": "stdout",
     "output_type": "stream",
     "text": [
      "List after extending: [1, 2, 3, 4, 5, 6, 7, 9, 8, 7, 6, 5]\n"
     ]
    }
   ],
   "source": [
    "# EXTEND - extend([list]) - adds new list to the existing list\n",
    "a = [1,2,3,4,5,6,7]\n",
    "a.extend([9,8,7,6,5])\n",
    "print(\"List after extending:\",a)"
   ]
  },
  {
   "cell_type": "code",
   "execution_count": null,
   "id": "376d82dd",
   "metadata": {},
   "outputs": [],
   "source": [
    "#EXTEND - used to extend any iterable objects\n",
    "LIST = [\"apple\", \"banana\", \"cherry\"]\n",
    "TUPLE = (\"kiwi\", \"orange\")\n",
    "LIST.extend(TUPLE)\n",
    "print(LIST)"
   ]
  },
  {
   "cell_type": "code",
   "execution_count": 19,
   "id": "574eb882",
   "metadata": {
    "collapsed": true
   },
   "outputs": [
    {
     "data": {
      "text/plain": [
       "[5, 1, 2, 3, 4, 5, 6, 7]"
      ]
     },
     "execution_count": 19,
     "metadata": {},
     "output_type": "execute_result"
    }
   ],
   "source": [
    "# INSERT - insert(index,element)\n",
    "a = [1,2,3,4,5,6,7]\n",
    "a.insert(0,5)\n",
    "print(\"List after inserting:\",a)"
   ]
  },
  {
   "cell_type": "code",
   "execution_count": 11,
   "id": "dd22e5cd",
   "metadata": {},
   "outputs": [
    {
     "name": "stdout",
     "output_type": "stream",
     "text": [
      "[1, 2, 3, 4, 'apple', 'banana']\n",
      "<class 'list'>\n"
     ]
    }
   ],
   "source": [
    "# JOINING 2 LISTS USING '+'\n",
    "a = [1,2,3,4]\n",
    "b = ['apple','banana']\n",
    "c=a+b\n",
    "print(c)\n",
    "print(type(c))"
   ]
  },
  {
   "cell_type": "code",
   "execution_count": 12,
   "id": "313325de",
   "metadata": {},
   "outputs": [
    {
     "name": "stdout",
     "output_type": "stream",
     "text": [
      "[1, 2, 3, 4, 5, 10, 11, 12]\n"
     ]
    }
   ],
   "source": [
    "# JOINING 2 LISTS USING APPEND\n",
    "a = [1,2,3,4,5]\n",
    "b = [10,11,12]\n",
    "for x in b:\n",
    "  a.append(x)\n",
    "print(a)"
   ]
  },
  {
   "cell_type": "code",
   "execution_count": 13,
   "id": "1c03a61a",
   "metadata": {},
   "outputs": [
    {
     "name": "stdout",
     "output_type": "stream",
     "text": [
      "List a: [1, 2, 3, 4, 5]\n",
      "List b: [1, 2, 3, 4, 5]\n"
     ]
    }
   ],
   "source": [
    "# SHALLOW COPY\n",
    "a = [1,2,3,4,5,6]\n",
    "b = a\n",
    "b.pop()\n",
    "print(\"List a:\",a)\n",
    "print(\"List b:\",b)"
   ]
  },
  {
   "cell_type": "code",
   "execution_count": 14,
   "id": "926b325e",
   "metadata": {},
   "outputs": [
    {
     "name": "stdout",
     "output_type": "stream",
     "text": [
      "List a: [1, 2, 3, 4, 5, 6]\n",
      "List b: [1, 2, 3, 4, 5]\n"
     ]
    }
   ],
   "source": [
    "# DEEP COPY\n",
    "import copy\n",
    "a = [1,2,3,4,5,6]\n",
    "b = copy.deepcopy(a)\n",
    "b.pop()\n",
    "print(\"List a:\",a)\n",
    "print(\"List b:\",b)"
   ]
  },
  {
   "cell_type": "code",
   "execution_count": 15,
   "id": "7b261bd2",
   "metadata": {},
   "outputs": [
    {
     "name": "stdout",
     "output_type": "stream",
     "text": [
      "List a: [1, 2, 3, 4, 5, 6]\n",
      "List b: [1, 2, 3, 4, 5]\n"
     ]
    }
   ],
   "source": [
    "# DEEP COPY\n",
    "a = [1,2,3,4,5,6]\n",
    "b = [i for i in a]\n",
    "b.pop()\n",
    "print(\"List a:\",a)\n",
    "print(\"List b:\",b)"
   ]
  },
  {
   "cell_type": "code",
   "execution_count": 16,
   "id": "8b18a29e",
   "metadata": {},
   "outputs": [
    {
     "name": "stdout",
     "output_type": "stream",
     "text": [
      "List a: [1, 2, 3, 4, 5]\n",
      "List b: [1, 2, 3, 4, 5]\n",
      "List c: [1, 2, 3, 4, 5]\n"
     ]
    }
   ],
   "source": [
    "a = [1,2,3,4,5]\n",
    "b = a.copy()\n",
    "c = list(a)\n",
    "print(\"List a:\",a)\n",
    "print(\"List b:\",b)\n",
    "print(\"List c:\",c)"
   ]
  },
  {
   "cell_type": "code",
   "execution_count": 18,
   "id": "d1605804",
   "metadata": {},
   "outputs": [
    {
     "name": "stdout",
     "output_type": "stream",
     "text": [
      "['APPLE', 'BANANA', 'MANGO', 'ORANGE']\n"
     ]
    }
   ],
   "source": [
    "# CONVERSION TO UPPER CASE\n",
    "a = ['apple', 'banana','mango','orange']\n",
    "print([x.upper() for x in a])"
   ]
  },
  {
   "cell_type": "code",
   "execution_count": 17,
   "id": "ffe6f376",
   "metadata": {},
   "outputs": [
    {
     "name": "stdout",
     "output_type": "stream",
     "text": [
      "['APPLE']\n",
      "['BANANA']\n",
      "['MANGO']\n",
      "['ORANGE']\n"
     ]
    }
   ],
   "source": [
    "a = ['apple', 'banana','mango','orange']\n",
    "for x in a:\n",
    "    print([x.upper()])"
   ]
  },
  {
   "cell_type": "code",
   "execution_count": 19,
   "id": "cffc9315",
   "metadata": {},
   "outputs": [
    {
     "name": "stdout",
     "output_type": "stream",
     "text": [
      "List a after sorting: [1, 3, 4, 5, 6, 7]\n"
     ]
    }
   ],
   "source": [
    "# a.sort() - SORT LIST IN ASCENDING ORDER\n",
    "a = [1,7,6,5,4,3]\n",
    "a.sort()\n",
    "print(\"List a after sorting:\",a)"
   ]
  },
  {
   "cell_type": "code",
   "execution_count": 20,
   "id": "fdc40f40",
   "metadata": {},
   "outputs": [
    {
     "name": "stdout",
     "output_type": "stream",
     "text": [
      "List a in desending order: [6, 5, 4, 3, 2, 1]\n"
     ]
    }
   ],
   "source": [
    "# SORT LIST - DESCENDING ORDER\n",
    "a = [1,2,3,4,5,6]\n",
    "a.sort(reverse = True)\n",
    "print(\"List a in desending order:\",a)"
   ]
  },
  {
   "cell_type": "code",
   "execution_count": 21,
   "id": "d29ffdfa",
   "metadata": {},
   "outputs": [
    {
     "data": {
      "text/plain": [
       "3"
      ]
     },
     "execution_count": 21,
     "metadata": {},
     "output_type": "execute_result"
    }
   ],
   "source": [
    "# a.count(element) - COUNT OF A SPECIFIED VALUE\n",
    "a = [1,2,3,4,5,6,7,8,9,10,2,2]\n",
    "a.count(2)"
   ]
  },
  {
   "cell_type": "code",
   "execution_count": 24,
   "id": "608eaee6",
   "metadata": {},
   "outputs": [
    {
     "data": {
      "text/plain": [
       "0"
      ]
     },
     "execution_count": 24,
     "metadata": {},
     "output_type": "execute_result"
    }
   ],
   "source": [
    "# a.index(element) - FIRST INDEX OF A SPECFIED VALUE\n",
    "a = [3,1,2,3,3,4,5]\n",
    "a.index(3)"
   ]
  },
  {
   "cell_type": "code",
   "execution_count": 85,
   "id": "0b56a616",
   "metadata": {},
   "outputs": [
    {
     "name": "stdout",
     "output_type": "stream",
     "text": [
      "[1, 2, 3, 4]\n"
     ]
    }
   ],
   "source": [
    "#LIST COMPREHENSION\n",
    "a = [1,2,3,4,5,6]\n",
    "b = [x for x in a if x < 5]\n",
    "print(b)"
   ]
  },
  {
   "cell_type": "code",
   "execution_count": 89,
   "id": "59d0dbad",
   "metadata": {
    "collapsed": true
   },
   "outputs": [
    {
     "name": "stdout",
     "output_type": "stream",
     "text": [
      "[50, 65, 23, 82, 100]\n"
     ]
    }
   ],
   "source": [
    "def myfunc(n):\n",
    "  return abs(n - 50)\n",
    "\n",
    "thislist = [100, 50, 65, 82, 23]\n",
    "thislist.sort(key = myfunc)\n",
    "print(thislist)"
   ]
  },
  {
   "cell_type": "code",
   "execution_count": 8,
   "id": "f6d77b89",
   "metadata": {
    "collapsed": true
   },
   "outputs": [
    {
     "name": "stdout",
     "output_type": "stream",
     "text": [
      "['banana', 'cherry', 'Kiwi', 'Orange']\n"
     ]
    }
   ],
   "source": [
    "a = [\"banana\", \"Orange\", \"Kiwi\", \"cherry\"]\n",
    "a.sort(key = str.lower)\n",
    "print(a)"
   ]
  },
  {
   "cell_type": "code",
   "execution_count": 11,
   "id": "b1bf712d",
   "metadata": {
    "collapsed": true
   },
   "outputs": [
    {
     "name": "stdout",
     "output_type": "stream",
     "text": [
      "They are equal\n"
     ]
    }
   ],
   "source": [
    "# Comparing two lists\n",
    "a = [1,2,3]\n",
    "b = [1,2,3]\n",
    "if a==b:\n",
    "    print(\"They are equal\")\n",
    "else:\n",
    "    print(\"They are not equal\")"
   ]
  },
  {
   "cell_type": "markdown",
   "id": "90fc8a4f",
   "metadata": {},
   "source": [
    "## LIST METHODS"
   ]
  },
  {
   "cell_type": "markdown",
   "id": "44215e90",
   "metadata": {},
   "source": [
    "Let a,b be two lists.<br>\n",
    "type(a) - gives type.<br>\n",
    "len(a) - gives length of list.<br><br>\n",
    "Slicing:<br>\n",
    "a[1] - Element at index 1.<br>\n",
    "a[-1] - Last element.<br>\n",
    "a[2:6] - Elements from index 2 to 5.<br>\n",
    "a[2:] - Elements from index 2.<br>\n",
    "a[:9] - Elements till index 8.<br>\n",
    "a[::] -All the elements.<br>\n",
    "a[::-1] - reverse (doesn't change value).<br><br>\n",
    "a.reverse() - reverse of a.<br>\n",
    "a.pop() - removes last element.<br>\n",
    "a.pop(index) - removes element in particular index.<br>\n",
    "a.sort() - sorts in ascending order.<br>\n",
    "a.sort(reverse = True) - sorts in desending order.<br>\n",
    "del a - deletes entire list.<br>\n",
    "del a[index] - deletes value at particular index.<br>\n",
    "a.clear() - clears complete list.<br><br>\n",
    "a.remove(element) - removes particular element.<br>\n",
    "a.append(element) - adds elements to list.<br>\n",
    "a.extend([list]) - adds elements to list.<br>\n",
    "a.extend(tuple_name).<br>\n",
    "a.insert(index,element).<br><br>\n",
    "[x.upper() for x in a] - upper case.<br>\n",
    "\n",
    "a.count(element) - count of particular element.<br>\n",
    "a.index(element) - index of particular element.<br><br>\n",
    "LIST COMPREHENSION:<br>\n",
    "b = [x for x in a if x < 5].<br>\n",
    "print(b)\n"
   ]
  },
  {
   "cell_type": "code",
   "execution_count": null,
   "id": "790f7534",
   "metadata": {},
   "outputs": [],
   "source": []
  }
 ],
 "metadata": {
  "kernelspec": {
   "display_name": "Python 3 (ipykernel)",
   "language": "python",
   "name": "python3"
  },
  "language_info": {
   "codemirror_mode": {
    "name": "ipython",
    "version": 3
   },
   "file_extension": ".py",
   "mimetype": "text/x-python",
   "name": "python",
   "nbconvert_exporter": "python",
   "pygments_lexer": "ipython3",
   "version": "3.9.13"
  }
 },
 "nbformat": 4,
 "nbformat_minor": 5
}
