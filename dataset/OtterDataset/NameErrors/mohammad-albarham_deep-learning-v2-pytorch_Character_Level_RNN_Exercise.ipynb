{
 "cells": [
  {
   "cell_type": "markdown",
   "metadata": {},
   "source": [
    "# Character-Level LSTM in PyTorch\n",
    "\n",
    "In this notebook, I'll construct a character-level LSTM with PyTorch. The network will train character by character on some text, then generate new text character by character. As an example, I will train on Anna Karenina. **This model will be able to generate new text based on the text from the book!**\n",
    "\n",
    "This network is based off of Andrej Karpathy's [post on RNNs](http://karpathy.github.io/2015/05/21/rnn-effectiveness/) and [implementation in Torch](https://github.com/karpathy/char-rnn). Below is the general architecture of the character-wise RNN.\n",
    "\n",
    "<img src=\"assets/charseq.jpeg\" width=\"500\">"
   ]
  },
  {
   "cell_type": "markdown",
   "metadata": {},
   "source": [
    "First let's load in our required resources for data loading and model creation."
   ]
  },
  {
   "cell_type": "code",
   "execution_count": 38,
   "metadata": {},
   "outputs": [],
   "source": [
    "import numpy as np\n",
    "import torch\n",
    "from torch import nn\n",
    "import torch.nn.functional as F"
   ]
  },
  {
   "cell_type": "markdown",
   "metadata": {},
   "source": [
    "## Load in Data\n",
    "\n",
    "Then, we'll load the Anna Karenina text file and convert it into integers for our network to use. "
   ]
  },
  {
   "cell_type": "code",
   "execution_count": 39,
   "metadata": {},
   "outputs": [],
   "source": [
    "import torch "
   ]
  },
  {
   "cell_type": "code",
   "execution_count": 40,
   "metadata": {},
   "outputs": [
    {
     "data": {
      "text/plain": [
       "True"
      ]
     },
     "execution_count": 40,
     "metadata": {},
     "output_type": "execute_result"
    }
   ],
   "source": [
    "torch.cuda.is_available()\n"
   ]
  },
  {
   "cell_type": "code",
   "execution_count": 41,
   "metadata": {},
   "outputs": [],
   "source": [
    "# open text file and read in data as `text`\n",
    "with open('data/anna.txt', 'r') as f:\n",
    "    text = f.read()"
   ]
  },
  {
   "cell_type": "markdown",
   "metadata": {},
   "source": [
    "Let's check out the first 100 characters, make sure everything is peachy. According to the [American Book Review](http://americanbookreview.org/100bestlines.asp), this is the 6th best first line of a book ever."
   ]
  },
  {
   "cell_type": "code",
   "execution_count": 42,
   "metadata": {},
   "outputs": [
    {
     "data": {
      "text/plain": [
       "'Chapter 1\\n\\n\\nHappy families are all alike; every unhappy family is unhappy in its own\\nway.\\n\\nEverythin'"
      ]
     },
     "execution_count": 42,
     "metadata": {},
     "output_type": "execute_result"
    }
   ],
   "source": [
    "text[:100]"
   ]
  },
  {
   "cell_type": "code",
   "execution_count": 43,
   "metadata": {},
   "outputs": [
    {
     "data": {
      "text/plain": [
       "('Ch', 'ap')"
      ]
     },
     "execution_count": 43,
     "metadata": {},
     "output_type": "execute_result"
    }
   ],
   "source": [
    "text[0:2], text[2:4]"
   ]
  },
  {
   "cell_type": "code",
   "execution_count": 44,
   "metadata": {},
   "outputs": [
    {
     "data": {
      "text/plain": [
       "('\\n', '\\n')"
      ]
     },
     "execution_count": 44,
     "metadata": {},
     "output_type": "execute_result"
    }
   ],
   "source": [
    "text[9], text[10]"
   ]
  },
  {
   "cell_type": "code",
   "execution_count": 45,
   "metadata": {},
   "outputs": [
    {
     "name": "stdout",
     "output_type": "stream",
     "text": [
      "13\n",
      " \n",
      "a\n",
      "h\n",
      "y\n",
      "1\n",
      "\n",
      "\n",
      "p\n",
      "f\n",
      "r\n",
      "e\n",
      "t\n",
      "H\n",
      "C\n"
     ]
    }
   ],
   "source": [
    "ter = tuple(set(text[:20]))\n",
    "\n",
    "print(len(ter))\n",
    "for i in ter:\n",
    "    print(i)"
   ]
  },
  {
   "cell_type": "code",
   "execution_count": 46,
   "metadata": {},
   "outputs": [
    {
     "name": "stdout",
     "output_type": "stream",
     "text": [
      "0 i\n",
      "1 a\n",
      "2 w\n",
      "3 p\n",
      "4 e\n",
      "5 ;\n",
      "6 o\n",
      "7 n\n",
      "8 h\n",
      "9 l\n",
      "10 H\n",
      "11 .\n",
      "12 k\n",
      "13 y\n",
      "14 s\n",
      "15 E\n",
      "16 f\n",
      "17 m\n",
      "18 t\n",
      "19  \n",
      "20 u\n",
      "21 1\n",
      "22 \n",
      "\n",
      "23 r\n",
      "24 v\n",
      "25 C\n"
     ]
    },
    {
     "data": {
      "text/plain": [
       "'i'"
      ]
     },
     "execution_count": 46,
     "metadata": {},
     "output_type": "execute_result"
    }
   ],
   "source": [
    "r = dict(enumerate(set(text[:100])))\n",
    "\n",
    "for i,j in r.items():\n",
    "    print(i, j)\n",
    "\n",
    "r[0]"
   ]
  },
  {
   "cell_type": "markdown",
   "metadata": {},
   "source": [
    "### Tokenization\n",
    "\n",
    "In the cells, below, I'm creating a couple **dictionaries** to convert the characters to and from integers. Encoding the characters as integers makes it easier to use as input in the network."
   ]
  },
  {
   "cell_type": "code",
   "execution_count": 47,
   "metadata": {},
   "outputs": [],
   "source": [
    "#encode the text and map each character to an integer and vice versa\n",
    "\n",
    "# we create two dictionaries:\n",
    "# 1. int2char, which maps integers to characters\n",
    "# 2. char2int, which maps characters to unique integers\n",
    "\n",
    "import pdb; \n",
    "\n",
    "\n",
    "chars = tuple(set(text))\n",
    "int2char = dict(enumerate(chars))\n",
    "#pdb.set_trace()\n",
    "\n",
    "char2int = {ch: ii for ii, ch in int2char.items()}\n",
    "\n",
    "# encode the text\n",
    "encoded = np.array([char2int[ch] for ch in text])"
   ]
  },
  {
   "cell_type": "markdown",
   "metadata": {},
   "source": [
    "And we can see those same characters from above, encoded as integers."
   ]
  },
  {
   "cell_type": "code",
   "execution_count": 48,
   "metadata": {},
   "outputs": [
    {
     "data": {
      "text/plain": [
       "array([82,  9, 63, 49, 76, 66, 78, 44, 22, 23, 23, 23, 54, 63, 49, 49, 11,\n",
       "       44, 42, 63, 75,  0, 36,  0, 66, 12, 44, 63, 78, 66, 44, 63, 36, 36,\n",
       "       44, 63, 36,  0, 72, 66, 51, 44, 66, 27, 66, 78, 11, 44, 21, 68,  9,\n",
       "       63, 49, 49, 11, 44, 42, 63, 75,  0, 36, 11, 44,  0, 12, 44, 21, 68,\n",
       "        9, 63, 49, 49, 11, 44,  0, 68, 44,  0, 76, 12, 44,  4,  2, 68, 23,\n",
       "        2, 63, 11, 55, 23, 23, 14, 27, 66, 78, 11, 76,  9,  0, 68])"
      ]
     },
     "execution_count": 48,
     "metadata": {},
     "output_type": "execute_result"
    }
   ],
   "source": [
    "encoded[:100]"
   ]
  },
  {
   "cell_type": "markdown",
   "metadata": {},
   "source": [
    "## Pre-processing the data\n",
    "\n",
    "As you can see in our char-RNN image above, our LSTM expects an input that is **one-hot encoded** meaning that each character is converted into an integer (via our created dictionary) and *then* converted into a column vector where only it's corresponding integer index will have the value of 1 and the rest of the vector will be filled with 0's. Since we're one-hot encoding the data, let's make a function to do that!\n"
   ]
  },
  {
   "cell_type": "code",
   "execution_count": 49,
   "metadata": {},
   "outputs": [
    {
     "data": {
      "text/plain": [
       "(\"'\", 'e', 'r')"
      ]
     },
     "execution_count": 49,
     "metadata": {},
     "output_type": "execute_result"
    }
   ],
   "source": [
    "int2char[33], int2char[66],  int2char[78]"
   ]
  },
  {
   "cell_type": "code",
   "execution_count": 50,
   "metadata": {},
   "outputs": [],
   "source": [
    "import pdb"
   ]
  },
  {
   "cell_type": "code",
   "execution_count": 51,
   "metadata": {},
   "outputs": [],
   "source": [
    "def one_hot_encode(arr, n_labels):\n",
    "    \n",
    "    # Initialize the the encoded array\n",
    "    one_hot = np.zeros((arr.size, n_labels), dtype=np.float32)\n",
    "    \n",
    "    # one_hot = np.zeros((np.multiply(*arr.shape), n_labels), dtype=np.float32)\n",
    "    \n",
    "    #pdb.set_trace()\n",
    "    \n",
    "    # Fill the appropriate elements with ones\n",
    "    one_hot[np.arange(one_hot.shape[0]), arr.flatten()] = 1.\n",
    "    # one_hot.shape[0] > 3\n",
    "    # np.arange(one_hot.shape[0]) > array([0, 1, 2])\n",
    "    # This functions is used to store one in the number position\n",
    "    \n",
    "    #pdb.set_trace()\n",
    "    \n",
    "    # Finally reshape it to get back to the original array\n",
    "    one_hot = one_hot.reshape((*arr.shape, n_labels))\n",
    "    \n",
    "    # arr.shape[0], arr.shape[1] is equivalent to *arr.shape\n",
    "\n",
    "    \n",
    "    return one_hot"
   ]
  },
  {
   "cell_type": "code",
   "execution_count": 52,
   "metadata": {},
   "outputs": [
    {
     "name": "stdout",
     "output_type": "stream",
     "text": [
      "[[[0. 0. 0. 1. 0. 0. 0. 0.]\n",
      "  [0. 0. 0. 0. 0. 1. 0. 0.]\n",
      "  [0. 1. 0. 0. 0. 0. 0. 0.]]]\n"
     ]
    }
   ],
   "source": [
    "# check that the function works as expected\n",
    "test_seq = np.array([[3, 5, 1]])\n",
    "one_hot = one_hot_encode(test_seq, 8)\n",
    "\n",
    "print(one_hot)"
   ]
  },
  {
   "cell_type": "markdown",
   "metadata": {},
   "source": [
    "## Making training mini-batches\n",
    "\n",
    "\n",
    "To train on this data, we also want to create mini-batches for training. Remember that we want our batches to be multiple sequences of some desired number of sequence steps. Considering a simple example, our batches would look like this:\n",
    "\n",
    "<img src=\"assets/sequence_batching@1x.png\" width=500px>\n",
    "\n",
    "\n",
    "<br>\n",
    "\n",
    "In this example, we'll take the encoded characters (passed in as the `arr` parameter) and split them into multiple sequences, given by `batch_size`. Each of our sequences will be `seq_length` long.\n",
    "\n",
    "### Creating Batches\n",
    "\n",
    "**1. The first thing we need to do is discard some of the text so we only have completely full mini-batches. **\n",
    "\n",
    "Each batch contains $N \\times M$ characters, where $N$ is the batch size (the number of sequences in a batch) and $M$ is the seq_length or number of time steps in a sequence. Then, to get the total number of batches, $K$, that we can make from the array `arr`, you divide the length of `arr` by the number of characters per batch. Once you know the number of batches, you can get the total number of characters to keep from `arr`, $N * M * K$.\n",
    "\n",
    "**2. After that, we need to split `arr` into $N$ batches. ** \n",
    "\n",
    "You can do this using `arr.reshape(size)` where `size` is a tuple containing the dimensions sizes of the reshaped array. We know we want $N$ sequences in a batch, so let's make that the size of the first dimension. For the second dimension, you can use `-1` as a placeholder in the size, it'll fill up the array with the appropriate data for you. After this, you should have an array that is $N \\times (M * K)$.\n",
    "\n",
    "**3. Now that we have this array, we can iterate through it to get our mini-batches. **\n",
    "\n",
    "The idea is each batch is a $N \\times M$ window on the $N \\times (M * K)$ array. For each subsequent batch, the window moves over by `seq_length`. We also want to create both the input and target arrays. Remember that the targets are just the inputs shifted over by one character. The way I like to do this window is use `range` to take steps of size `n_steps` from $0$ to `arr.shape[1]`, the total number of tokens in each sequence. That way, the integers you get from `range` always point to the start of a batch, and each window is `seq_length` wide.\n",
    "\n",
    "> **TODO:** Write the code for creating batches in the function below. The exercises in this notebook _will not be easy_. I've provided a notebook with solutions alongside this notebook. If you get stuck, checkout the solutions. The most important thing is that you don't copy and paste the code into here, **type out the solution code yourself.**"
   ]
  },
  {
   "cell_type": "code",
   "execution_count": 53,
   "metadata": {},
   "outputs": [],
   "source": [
    "import pdb"
   ]
  },
  {
   "cell_type": "code",
   "execution_count": 54,
   "metadata": {},
   "outputs": [],
   "source": [
    "def get_batches(arr, batch_size, seq_length):\n",
    "    '''Create a generator that returns batches of size\n",
    "       batch_size x seq_length from arr.\n",
    "       \n",
    "       Arguments\n",
    "       ---------\n",
    "       arr: Array you want to make batches from\n",
    "       batch_size: Batch size, the number of sequences per batch\n",
    "       seq_length: Number of encoded chars in a sequence\n",
    "    '''\n",
    "    \n",
    "    ## TODO: Get the number of batches we can make\n",
    "    n_batches = (arr.size)//(batch_size * seq_length)\n",
    "\n",
    "    \n",
    "    ## TODO: Keep only enough characters to make full batches\n",
    "    arr = arr[:n_batches*batch_size * seq_length]\n",
    "    \n",
    "    ## TODO: Reshape into batch_size rows\n",
    "    arr = arr.reshape((batch_size,-1))\n",
    "    #pdb.set_trace()\n",
    "    \n",
    "    ## TODO: Iterate over the batches using a window of size seq_length\n",
    "    for n in range(0, arr.shape[1], seq_length):\n",
    "        # The features\n",
    "        x = arr[:, n:n+seq_length]\n",
    "        # The targets, shifted by one\n",
    "        y = np.zeros_like(x)\n",
    "        try:\n",
    "            y[:, :-1], y[:, -1] = x[:, 1:], arr[:, n+seq_length]\n",
    "        except IndexError:\n",
    "            y[:, :-1], y[:, -1] = x[:, 1:], arr[:, 0]\n",
    "        yield x, y"
   ]
  },
  {
   "cell_type": "markdown",
   "metadata": {},
   "source": [
    "### Test Your Implementation\n",
    "\n",
    "Now I'll make some data sets and we can check out what's going on as we batch data. Here, as an example, I'm going to use a batch size of 8 and 50 sequence steps."
   ]
  },
  {
   "cell_type": "code",
   "execution_count": 55,
   "metadata": {},
   "outputs": [],
   "source": [
    "batches = get_batches(encoded, 8, 50)\n",
    "x, y = next(batches)"
   ]
  },
  {
   "cell_type": "code",
   "execution_count": 56,
   "metadata": {},
   "outputs": [
    {
     "name": "stdout",
     "output_type": "stream",
     "text": [
      "x\n",
      " [[82  9 63 49 76 66 78 44 22 23]\n",
      " [12  4 68 44 76  9 63 76 44 63]\n",
      " [66 68 13 44  4 78 44 63 44 42]\n",
      " [12 44 76  9 66 44 52  9  0 66]\n",
      " [44 12 63  2 44  9 66 78 44 76]\n",
      " [52 21 12 12  0  4 68 44 63 68]\n",
      " [44 69 68 68 63 44  9 63 13 44]\n",
      " [35 81 36  4 68 12 72 11 55 44]]\n",
      "\n",
      "y\n",
      " [[ 9 63 49 76 66 78 44 22 23 23]\n",
      " [ 4 68 44 76  9 63 76 44 63 76]\n",
      " [68 13 44  4 78 44 63 44 42  4]\n",
      " [44 76  9 66 44 52  9  0 66 42]\n",
      " [12 63  2 44  9 66 78 44 76 66]\n",
      " [21 12 12  0  4 68 44 63 68 13]\n",
      " [69 68 68 63 44  9 63 13 44 12]\n",
      " [81 36  4 68 12 72 11 55 44 53]]\n"
     ]
    }
   ],
   "source": [
    "# printing out the first 10 items in a sequence\n",
    "print('x\\n', x[:10, :10])\n",
    "print('\\ny\\n', y[:10, :10])"
   ]
  },
  {
   "cell_type": "markdown",
   "metadata": {},
   "source": [
    "If you implemented `get_batches` correctly, the above output should look something like \n",
    "```\n",
    "x\n",
    " [[25  8 60 11 45 27 28 73  1  2]\n",
    " [17  7 20 73 45  8 60 45 73 60]\n",
    " [27 20 80 73  7 28 73 60 73 65]\n",
    " [17 73 45  8 27 73 66  8 46 27]\n",
    " [73 17 60 12 73  8 27 28 73 45]\n",
    " [66 64 17 17 46  7 20 73 60 20]\n",
    " [73 76 20 20 60 73  8 60 80 73]\n",
    " [47 35 43  7 20 17 24 50 37 73]]\n",
    "\n",
    "y\n",
    " [[ 8 60 11 45 27 28 73  1  2  2]\n",
    " [ 7 20 73 45  8 60 45 73 60 45]\n",
    " [20 80 73  7 28 73 60 73 65  7]\n",
    " [73 45  8 27 73 66  8 46 27 65]\n",
    " [17 60 12 73  8 27 28 73 45 27]\n",
    " [64 17 17 46  7 20 73 60 20 80]\n",
    " [76 20 20 60 73  8 60 80 73 17]\n",
    " [35 43  7 20 17 24 50 37 73 36]]\n",
    " ```\n",
    " although the exact numbers may be different. Check to make sure the data is shifted over one step for `y`."
   ]
  },
  {
   "cell_type": "markdown",
   "metadata": {},
   "source": [
    "---\n",
    "## Defining the network with PyTorch\n",
    "\n",
    "Below is where you'll define the network.\n",
    "\n",
    "<img src=\"assets/charRNN.png\" width=500px>\n",
    "\n",
    "Next, you'll use PyTorch to define the architecture of the network. We start by defining the layers and operations we want. Then, define a method for the forward pass. You've also been given a method for predicting characters."
   ]
  },
  {
   "cell_type": "markdown",
   "metadata": {},
   "source": [
    "### Model Structure\n",
    "\n",
    "In `__init__` the suggested structure is as follows:\n",
    "* Create and store the necessary dictionaries (this has been done for you)\n",
    "* Define an LSTM layer that takes as params: an input size (the number of characters), a hidden layer size `n_hidden`, a number of layers `n_layers`, a dropout probability `drop_prob`, and a batch_first boolean (True, since we are batching)\n",
    "* Define a dropout layer with `drop_prob`\n",
    "* Define a fully-connected layer with params: input size `n_hidden` and output size (the number of characters)\n",
    "* Finally, initialize the weights (again, this has been given)\n",
    "\n",
    "Note that some parameters have been named and given in the `__init__` function, and we use them and store them by doing something like `self.drop_prob = drop_prob`."
   ]
  },
  {
   "cell_type": "markdown",
   "metadata": {},
   "source": [
    "---\n",
    "### LSTM Inputs/Outputs\n",
    "\n",
    "You can create a basic [LSTM layer](https://pytorch.org/docs/stable/nn.html#lstm) as follows\n",
    "\n",
    "```python\n",
    "self.lstm = nn.LSTM(input_size, n_hidden, n_layers, \n",
    "                            dropout=drop_prob, batch_first=True)\n",
    "```\n",
    "\n",
    "where `input_size` is the number of characters this cell expects to see as sequential input, and `n_hidden` is the number of units in the hidden layers in the cell. And we can add dropout by adding a dropout parameter with a specified probability; this will automatically add dropout to the inputs or outputs. Finally, in the `forward` function, we can stack up the LSTM cells into layers using `.view`. With this, you pass in a list of cells and it will send the output of one cell into the next cell.\n",
    "\n",
    "We also need to create an initial hidden state of all zeros. This is done like so\n",
    "\n",
    "```python\n",
    "self.init_hidden()\n",
    "```"
   ]
  },
  {
   "cell_type": "code",
   "execution_count": 57,
   "metadata": {},
   "outputs": [
    {
     "name": "stdout",
     "output_type": "stream",
     "text": [
      "Training on GPU!\n"
     ]
    }
   ],
   "source": [
    "# check if GPU is available\n",
    "train_on_gpu = torch.cuda.is_available()\n",
    "if(train_on_gpu):\n",
    "    print('Training on GPU!')\n",
    "else: \n",
    "    print('No GPU available, training on CPU; consider making n_epochs very small.')"
   ]
  },
  {
   "cell_type": "code",
   "execution_count": 58,
   "metadata": {},
   "outputs": [
    {
     "data": {
      "text/plain": [
       "True"
      ]
     },
     "execution_count": 58,
     "metadata": {},
     "output_type": "execute_result"
    }
   ],
   "source": [
    "torch.cuda.is_available()"
   ]
  },
  {
   "cell_type": "code",
   "execution_count": 59,
   "metadata": {},
   "outputs": [],
   "source": [
    "class CharRNN(nn.Module):\n",
    "    \n",
    "    def __init__(self, tokens, n_hidden=256, n_layers=2,\n",
    "                               drop_prob=0.5, lr=0.001):\n",
    "        super().__init__()\n",
    "        self.drop_prob = drop_prob\n",
    "        self.n_layers = n_layers\n",
    "        self.n_hidden = n_hidden\n",
    "        self.lr = lr\n",
    "        \n",
    "        # creating character dictionaries\n",
    "        self.chars = tokens\n",
    "        self.int2char = dict(enumerate(self.chars))\n",
    "        self.char2int = {ch: ii for ii, ch in self.int2char.items()}\n",
    "        \n",
    "        ## TODO: define the layers of the model\n",
    "        \n",
    "        self.lstm = nn.LSTM(len(self.chars), self.n_hidden, self.n_layers, dropout= self.drop_prob, batch_first=True)\n",
    "        self.dropout = nn.Dropout(p= self.drop_prob)\n",
    "        self.fc = nn.Linear(n_hidden,len(self.chars))\n",
    "        \n",
    "    \n",
    "    def forward(self, x, hidden):\n",
    "        ''' Forward pass through the network. \n",
    "            These inputs are x, and the hidden/cell state `hidden`. '''\n",
    "                \n",
    "        ## TODO: Get the outputs and the new hidden state from the lstm\n",
    "        \n",
    "        outputs, hidden = self.lstm(x, hidden)\n",
    "        \n",
    "        outputs = self.dropout(outputs)\n",
    "        \n",
    "        # pdb.set_trace()\n",
    "        \n",
    "        out = outputs.contiguous().view(-1, self.n_hidden)\n",
    "        \n",
    "        # pdb.set_trace()\n",
    "        \n",
    "        out = self.fc(out)\n",
    "        \n",
    "        #pdb.set_trace()\n",
    "        # return the final output and the hidden state\n",
    "        return out, hidden\n",
    "    \n",
    "    \n",
    "    def init_hidden(self, batch_size):\n",
    "        ''' Initializes hidden state '''\n",
    "        # Create two new tensors with sizes n_layers x batch_size x n_hidden,\n",
    "        # initialized to zero, for hidden state and cell state of LSTM\n",
    "        weight = next(self.parameters()).data\n",
    "        \n",
    "        \n",
    "        # We need two tuples, one for the hidden state and the second for the cell state.\n",
    "        \n",
    "        if (train_on_gpu):\n",
    "            hidden = (weight.new(self.n_layers, batch_size, self.n_hidden).zero_().cuda(),\n",
    "                  weight.new(self.n_layers, batch_size, self.n_hidden).zero_().cuda())\n",
    "        else:\n",
    "            hidden = (weight.new(self.n_layers, batch_size, self.n_hidden).zero_(),\n",
    "                      weight.new(self.n_layers, batch_size, self.n_hidden).zero_())\n",
    "        \n",
    "        return hidden"
   ]
  },
  {
   "cell_type": "markdown",
   "metadata": {},
   "source": [
    "## Time to train\n",
    "\n",
    "The train function gives us the ability to set the number of epochs, the learning rate, and other parameters.\n",
    "\n",
    "Below we're using an Adam optimizer and cross entropy loss since we are looking at character class scores as output. We calculate the loss and perform backpropagation, as usual!\n",
    "\n",
    "A couple of details about training: \n",
    ">* Within the batch loop, we detach the hidden state from its history; this time setting it equal to a new *tuple* variable because an LSTM has a hidden state that is a tuple of the hidden and cell states.\n",
    "* We use [`clip_grad_norm_`](https://pytorch.org/docs/stable/_modules/torch/nn/utils/clip_grad.html) to help prevent exploding gradients."
   ]
  },
  {
   "cell_type": "code",
   "execution_count": 79,
   "metadata": {},
   "outputs": [],
   "source": [
    "def train(net, data, epochs=10, batch_size=10, seq_length=50, lr=0.001, clip=5, val_frac=0.1, print_every=10):\n",
    "    ''' Training a network \n",
    "    \n",
    "        Arguments\n",
    "        ---------\n",
    "        \n",
    "        net: CharRNN network\n",
    "        data: text data to train the network\n",
    "        epochs: Number of epochs to train\n",
    "        batch_size: Number of mini-sequences per mini-batch, aka batch size\n",
    "        seq_length: Number of character steps per mini-batch\n",
    "        lr: learning rate\n",
    "        clip: gradient clipping\n",
    "        val_frac: Fraction of data to hold out for validation\n",
    "        print_every: Number of steps for printing training and validation loss\n",
    "    \n",
    "    '''\n",
    "    net.train()\n",
    "    \n",
    "    opt = torch.optim.Adam(net.parameters(), lr=lr)\n",
    "    criterion = nn.CrossEntropyLoss()\n",
    "    \n",
    "    # create training and validation data\n",
    "    val_idx = int(len(data)*(1-val_frac))\n",
    "    data, val_data = data[:val_idx], data[val_idx:]\n",
    "    \n",
    "    if(train_on_gpu):\n",
    "        net.cuda()\n",
    "    \n",
    "    counter = 0\n",
    "    n_chars = len(net.chars)\n",
    "    for e in range(epochs):\n",
    "        # initialize hidden state\n",
    "        h = net.init_hidden(batch_size)\n",
    "        \n",
    "        for x, y in get_batches(data, batch_size, seq_length):\n",
    "            counter += 1\n",
    "            \n",
    "            # One-hot encode our data and make them Torch tensors\n",
    "            x = one_hot_encode(x, n_chars)\n",
    "            inputs, targets = torch.from_numpy(x), torch.from_numpy(y)\n",
    "            \n",
    "            if(train_on_gpu):\n",
    "                inputs, targets = inputs.cuda(), targets.cuda()\n",
    "\n",
    "            #pdb.set_trace()\n",
    "            \n",
    "            # Creating new variables for the hidden state, otherwise\n",
    "            # we'd backprop through the entire training history\n",
    "            h = tuple([each.data for each in h])\n",
    "\n",
    "            # zero accumulated gradients\n",
    "            net.zero_grad()\n",
    "            \n",
    "            # get the output from the model\n",
    "            output, h = net(inputs, h)\n",
    "            \n",
    "            #pdb.set_trace()\n",
    "            \n",
    "            # calculate the loss and perform backprop\n",
    "            loss = criterion(output, targets.reshape(batch_size*seq_length).long())\n",
    "            loss.backward()\n",
    "            # `clip_grad_norm` helps prevent the exploding gradient problem in RNNs / LSTMs.\n",
    "            nn.utils.clip_grad_norm_(net.parameters(), clip)\n",
    "            opt.step()\n",
    "            \n",
    "            # loss stats\n",
    "            if counter % print_every == 0:\n",
    "                # Get validation loss\n",
    "                val_h = net.init_hidden(batch_size)\n",
    "                val_losses = []\n",
    "                net.eval()\n",
    "                for x, y in get_batches(val_data, batch_size, seq_length):\n",
    "                    # One-hot encode our data and make them Torch tensors\n",
    "                    x = one_hot_encode(x, n_chars)\n",
    "                    x, y = torch.from_numpy(x), torch.from_numpy(y)\n",
    "                    \n",
    "                    # Creating new variables for the hidden state, otherwise\n",
    "                    # we'd backprop through the entire training history\n",
    "                    val_h = tuple([each.data for each in val_h])\n",
    "                    \n",
    "                    inputs, targets = x, y\n",
    "                    if(train_on_gpu):\n",
    "                        inputs, targets = inputs.cuda(), targets.cuda()\n",
    "\n",
    "                    output, val_h = net(inputs, val_h)\n",
    "                    val_loss = criterion(output, targets.reshape(batch_size*seq_length).long())\n",
    "                \n",
    "                    val_losses.append(val_loss.item())\n",
    "                \n",
    "                net.train() # reset to train mode after iterationg through validation data\n",
    "                \n",
    "                print(\"Epoch: {}/{}...\".format(e+1, epochs),\n",
    "                      \"Step: {}...\".format(counter),\n",
    "                      \"Loss: {:.4f}...\".format(loss.item()),\n",
    "                      \"Val Loss: {:.4f}\".format(np.mean(val_losses)))"
   ]
  },
  {
   "cell_type": "markdown",
   "metadata": {},
   "source": [
    "## Instantiating the model\n",
    "\n",
    "Now we can actually train the network. First we'll create the network itself, with some given hyperparameters. Then, define the mini-batches sizes, and start training!"
   ]
  },
  {
   "cell_type": "code",
   "execution_count": 20,
   "metadata": {},
   "outputs": [
    {
     "name": "stdout",
     "output_type": "stream",
     "text": [
      "CharRNN(\n",
      "  (lstm): LSTM(83, 512, num_layers=2, batch_first=True, dropout=0.5)\n",
      "  (dropout): Dropout(p=0.5, inplace=False)\n",
      "  (fc): Linear(in_features=512, out_features=83, bias=True)\n",
      ")\n"
     ]
    }
   ],
   "source": [
    "# define and print the net\n",
    "n_hidden=512\n",
    "n_layers=2\n",
    "\n",
    "net = CharRNN(chars, n_hidden, n_layers)\n",
    "print(net)"
   ]
  },
  {
   "cell_type": "code",
   "execution_count": 81,
   "metadata": {},
   "outputs": [
    {
     "data": {
      "text/plain": [
       "((1985223,), 83)"
      ]
     },
     "execution_count": 81,
     "metadata": {},
     "output_type": "execute_result"
    }
   ],
   "source": [
    "encoded.shape, len(chars)"
   ]
  },
  {
   "cell_type": "markdown",
   "metadata": {},
   "source": [
    "### Set your training hyperparameters!"
   ]
  },
  {
   "cell_type": "code",
   "execution_count": 82,
   "metadata": {
    "scrolled": true
   },
   "outputs": [
    {
     "name": "stdout",
     "output_type": "stream",
     "text": [
      "Epoch: 1/20... Step: 10... Loss: 3.2610... Val Loss: 3.2072\n",
      "Epoch: 1/20... Step: 20... Loss: 3.1531... Val Loss: 3.1335\n",
      "Epoch: 1/20... Step: 30... Loss: 3.1399... Val Loss: 3.1232\n",
      "Epoch: 1/20... Step: 40... Loss: 3.1166... Val Loss: 3.1199\n",
      "Epoch: 1/20... Step: 50... Loss: 3.1444... Val Loss: 3.1179\n",
      "Epoch: 1/20... Step: 60... Loss: 3.1194... Val Loss: 3.1165\n",
      "Epoch: 1/20... Step: 70... Loss: 3.1113... Val Loss: 3.1158\n",
      "Epoch: 1/20... Step: 80... Loss: 3.1290... Val Loss: 3.1135\n",
      "Epoch: 1/20... Step: 90... Loss: 3.1234... Val Loss: 3.1093\n",
      "Epoch: 1/20... Step: 100... Loss: 3.1069... Val Loss: 3.1005\n",
      "Epoch: 1/20... Step: 110... Loss: 3.0928... Val Loss: 3.0750\n",
      "Epoch: 1/20... Step: 120... Loss: 3.0191... Val Loss: 3.0135\n",
      "Epoch: 1/20... Step: 130... Loss: 2.9599... Val Loss: 2.9203\n",
      "Epoch: 2/20... Step: 140... Loss: 2.8742... Val Loss: 2.8426\n",
      "Epoch: 2/20... Step: 150... Loss: 2.8157... Val Loss: 2.7818\n",
      "Epoch: 2/20... Step: 160... Loss: 2.7155... Val Loss: 2.6820\n",
      "Epoch: 2/20... Step: 170... Loss: 2.6014... Val Loss: 2.5841\n",
      "Epoch: 2/20... Step: 180... Loss: 2.5404... Val Loss: 2.5082\n",
      "Epoch: 2/20... Step: 190... Loss: 2.4727... Val Loss: 2.4556\n",
      "Epoch: 2/20... Step: 200... Loss: 2.4618... Val Loss: 2.4173\n",
      "Epoch: 2/20... Step: 210... Loss: 2.4254... Val Loss: 2.3839\n",
      "Epoch: 2/20... Step: 220... Loss: 2.3743... Val Loss: 2.3536\n",
      "Epoch: 2/20... Step: 230... Loss: 2.3605... Val Loss: 2.3321\n",
      "Epoch: 2/20... Step: 240... Loss: 2.3636... Val Loss: 2.3055\n",
      "Epoch: 2/20... Step: 250... Loss: 2.2974... Val Loss: 2.2755\n",
      "Epoch: 2/20... Step: 260... Loss: 2.2643... Val Loss: 2.2467\n",
      "Epoch: 2/20... Step: 270... Loss: 2.2662... Val Loss: 2.2215\n",
      "Epoch: 3/20... Step: 280... Loss: 2.2545... Val Loss: 2.2037\n",
      "Epoch: 3/20... Step: 290... Loss: 2.2180... Val Loss: 2.1744\n",
      "Epoch: 3/20... Step: 300... Loss: 2.1888... Val Loss: 2.1525\n",
      "Epoch: 3/20... Step: 310... Loss: 2.1689... Val Loss: 2.1337\n",
      "Epoch: 3/20... Step: 320... Loss: 2.1291... Val Loss: 2.1105\n",
      "Epoch: 3/20... Step: 330... Loss: 2.1006... Val Loss: 2.0916\n",
      "Epoch: 3/20... Step: 340... Loss: 2.1144... Val Loss: 2.0704\n",
      "Epoch: 3/20... Step: 350... Loss: 2.1015... Val Loss: 2.0572\n",
      "Epoch: 3/20... Step: 360... Loss: 2.0283... Val Loss: 2.0338\n",
      "Epoch: 3/20... Step: 370... Loss: 2.0585... Val Loss: 2.0163\n",
      "Epoch: 3/20... Step: 380... Loss: 2.0362... Val Loss: 1.9957\n",
      "Epoch: 3/20... Step: 390... Loss: 2.0058... Val Loss: 1.9841\n",
      "Epoch: 3/20... Step: 400... Loss: 1.9799... Val Loss: 1.9693\n",
      "Epoch: 3/20... Step: 410... Loss: 1.9880... Val Loss: 1.9549\n",
      "Epoch: 4/20... Step: 420... Loss: 1.9761... Val Loss: 1.9460\n",
      "Epoch: 4/20... Step: 430... Loss: 1.9628... Val Loss: 1.9256\n",
      "Epoch: 4/20... Step: 440... Loss: 1.9521... Val Loss: 1.9109\n",
      "Epoch: 4/20... Step: 450... Loss: 1.8761... Val Loss: 1.8962\n",
      "Epoch: 4/20... Step: 460... Loss: 1.8762... Val Loss: 1.8832\n",
      "Epoch: 4/20... Step: 470... Loss: 1.9041... Val Loss: 1.8765\n",
      "Epoch: 4/20... Step: 480... Loss: 1.8934... Val Loss: 1.8671\n",
      "Epoch: 4/20... Step: 490... Loss: 1.8858... Val Loss: 1.8494\n",
      "Epoch: 4/20... Step: 500... Loss: 1.8828... Val Loss: 1.8390\n",
      "Epoch: 4/20... Step: 510... Loss: 1.8611... Val Loss: 1.8283\n",
      "Epoch: 4/20... Step: 520... Loss: 1.8679... Val Loss: 1.8185\n",
      "Epoch: 4/20... Step: 530... Loss: 1.8246... Val Loss: 1.8101\n",
      "Epoch: 4/20... Step: 540... Loss: 1.7939... Val Loss: 1.7981\n",
      "Epoch: 4/20... Step: 550... Loss: 1.8412... Val Loss: 1.7856\n",
      "Epoch: 5/20... Step: 560... Loss: 1.7980... Val Loss: 1.7750\n",
      "Epoch: 5/20... Step: 570... Loss: 1.7905... Val Loss: 1.7679\n",
      "Epoch: 5/20... Step: 580... Loss: 1.7698... Val Loss: 1.7593\n",
      "Epoch: 5/20... Step: 590... Loss: 1.7750... Val Loss: 1.7502\n",
      "Epoch: 5/20... Step: 600... Loss: 1.7628... Val Loss: 1.7422\n",
      "Epoch: 5/20... Step: 610... Loss: 1.7541... Val Loss: 1.7381\n",
      "Epoch: 5/20... Step: 620... Loss: 1.7490... Val Loss: 1.7272\n",
      "Epoch: 5/20... Step: 630... Loss: 1.7602... Val Loss: 1.7201\n",
      "Epoch: 5/20... Step: 640... Loss: 1.7332... Val Loss: 1.7091\n",
      "Epoch: 5/20... Step: 650... Loss: 1.7161... Val Loss: 1.7035\n",
      "Epoch: 5/20... Step: 660... Loss: 1.6999... Val Loss: 1.6991\n",
      "Epoch: 5/20... Step: 670... Loss: 1.7231... Val Loss: 1.6888\n",
      "Epoch: 5/20... Step: 680... Loss: 1.7188... Val Loss: 1.6796\n",
      "Epoch: 5/20... Step: 690... Loss: 1.6890... Val Loss: 1.6743\n",
      "Epoch: 6/20... Step: 700... Loss: 1.6855... Val Loss: 1.6708\n",
      "Epoch: 6/20... Step: 710... Loss: 1.6777... Val Loss: 1.6615\n",
      "Epoch: 6/20... Step: 720... Loss: 1.6713... Val Loss: 1.6523\n",
      "Epoch: 6/20... Step: 730... Loss: 1.6837... Val Loss: 1.6491\n",
      "Epoch: 6/20... Step: 740... Loss: 1.6485... Val Loss: 1.6416\n",
      "Epoch: 6/20... Step: 750... Loss: 1.6273... Val Loss: 1.6379\n",
      "Epoch: 6/20... Step: 760... Loss: 1.6701... Val Loss: 1.6317\n",
      "Epoch: 6/20... Step: 770... Loss: 1.6465... Val Loss: 1.6240\n",
      "Epoch: 6/20... Step: 780... Loss: 1.6215... Val Loss: 1.6170\n",
      "Epoch: 6/20... Step: 790... Loss: 1.6153... Val Loss: 1.6123\n",
      "Epoch: 6/20... Step: 800... Loss: 1.6316... Val Loss: 1.6062\n",
      "Epoch: 6/20... Step: 810... Loss: 1.6261... Val Loss: 1.6072\n",
      "Epoch: 6/20... Step: 820... Loss: 1.5850... Val Loss: 1.6003\n",
      "Epoch: 6/20... Step: 830... Loss: 1.6358... Val Loss: 1.5953\n",
      "Epoch: 7/20... Step: 840... Loss: 1.5878... Val Loss: 1.5893\n",
      "Epoch: 7/20... Step: 850... Loss: 1.5997... Val Loss: 1.5868\n",
      "Epoch: 7/20... Step: 860... Loss: 1.5736... Val Loss: 1.5754\n",
      "Epoch: 7/20... Step: 870... Loss: 1.5898... Val Loss: 1.5732\n",
      "Epoch: 7/20... Step: 880... Loss: 1.5960... Val Loss: 1.5710\n",
      "Epoch: 7/20... Step: 890... Loss: 1.5879... Val Loss: 1.5705\n",
      "Epoch: 7/20... Step: 900... Loss: 1.5684... Val Loss: 1.5618\n",
      "Epoch: 7/20... Step: 910... Loss: 1.5432... Val Loss: 1.5584\n",
      "Epoch: 7/20... Step: 920... Loss: 1.5668... Val Loss: 1.5538\n",
      "Epoch: 7/20... Step: 930... Loss: 1.5502... Val Loss: 1.5501\n",
      "Epoch: 7/20... Step: 940... Loss: 1.5538... Val Loss: 1.5476\n",
      "Epoch: 7/20... Step: 950... Loss: 1.5708... Val Loss: 1.5435\n",
      "Epoch: 7/20... Step: 960... Loss: 1.5616... Val Loss: 1.5399\n",
      "Epoch: 7/20... Step: 970... Loss: 1.5723... Val Loss: 1.5381\n",
      "Epoch: 8/20... Step: 980... Loss: 1.5441... Val Loss: 1.5376\n",
      "Epoch: 8/20... Step: 990... Loss: 1.5399... Val Loss: 1.5300\n",
      "Epoch: 8/20... Step: 1000... Loss: 1.5341... Val Loss: 1.5261\n",
      "Epoch: 8/20... Step: 1010... Loss: 1.5719... Val Loss: 1.5184\n",
      "Epoch: 8/20... Step: 1020... Loss: 1.5389... Val Loss: 1.5162\n",
      "Epoch: 8/20... Step: 1030... Loss: 1.5196... Val Loss: 1.5132\n",
      "Epoch: 8/20... Step: 1040... Loss: 1.5223... Val Loss: 1.5096\n",
      "Epoch: 8/20... Step: 1050... Loss: 1.5087... Val Loss: 1.5061\n",
      "Epoch: 8/20... Step: 1060... Loss: 1.5176... Val Loss: 1.5062\n",
      "Epoch: 8/20... Step: 1070... Loss: 1.5198... Val Loss: 1.5044\n",
      "Epoch: 8/20... Step: 1080... Loss: 1.5084... Val Loss: 1.4974\n",
      "Epoch: 8/20... Step: 1090... Loss: 1.5004... Val Loss: 1.4980\n",
      "Epoch: 8/20... Step: 1100... Loss: 1.4902... Val Loss: 1.4927\n",
      "Epoch: 8/20... Step: 1110... Loss: 1.5051... Val Loss: 1.4909\n",
      "Epoch: 9/20... Step: 1120... Loss: 1.5020... Val Loss: 1.4936\n",
      "Epoch: 9/20... Step: 1130... Loss: 1.4929... Val Loss: 1.4830\n",
      "Epoch: 9/20... Step: 1140... Loss: 1.4940... Val Loss: 1.4813\n",
      "Epoch: 9/20... Step: 1150... Loss: 1.5037... Val Loss: 1.4778\n",
      "Epoch: 9/20... Step: 1160... Loss: 1.4682... Val Loss: 1.4772\n",
      "Epoch: 9/20... Step: 1170... Loss: 1.4775... Val Loss: 1.4733\n",
      "Epoch: 9/20... Step: 1180... Loss: 1.4637... Val Loss: 1.4742\n",
      "Epoch: 9/20... Step: 1190... Loss: 1.5138... Val Loss: 1.4689\n",
      "Epoch: 9/20... Step: 1200... Loss: 1.4490... Val Loss: 1.4656\n",
      "Epoch: 9/20... Step: 1210... Loss: 1.4659... Val Loss: 1.4647\n",
      "Epoch: 9/20... Step: 1220... Loss: 1.4586... Val Loss: 1.4594\n",
      "Epoch: 9/20... Step: 1230... Loss: 1.4419... Val Loss: 1.4567\n",
      "Epoch: 9/20... Step: 1240... Loss: 1.4506... Val Loss: 1.4551\n",
      "Epoch: 9/20... Step: 1250... Loss: 1.4610... Val Loss: 1.4559\n",
      "Epoch: 10/20... Step: 1260... Loss: 1.4557... Val Loss: 1.4519\n",
      "Epoch: 10/20... Step: 1270... Loss: 1.4514... Val Loss: 1.4488\n",
      "Epoch: 10/20... Step: 1280... Loss: 1.4644... Val Loss: 1.4445\n",
      "Epoch: 10/20... Step: 1290... Loss: 1.4554... Val Loss: 1.4467\n",
      "Epoch: 10/20... Step: 1300... Loss: 1.4388... Val Loss: 1.4406\n",
      "Epoch: 10/20... Step: 1310... Loss: 1.4527... Val Loss: 1.4398\n",
      "Epoch: 10/20... Step: 1320... Loss: 1.4169... Val Loss: 1.4391\n",
      "Epoch: 10/20... Step: 1330... Loss: 1.4275... Val Loss: 1.4354\n",
      "Epoch: 10/20... Step: 1340... Loss: 1.4114... Val Loss: 1.4368\n",
      "Epoch: 10/20... Step: 1350... Loss: 1.4036... Val Loss: 1.4321\n",
      "Epoch: 10/20... Step: 1360... Loss: 1.4021... Val Loss: 1.4306\n",
      "Epoch: 10/20... Step: 1370... Loss: 1.3987... Val Loss: 1.4283\n",
      "Epoch: 10/20... Step: 1380... Loss: 1.4349... Val Loss: 1.4281\n",
      "Epoch: 10/20... Step: 1390... Loss: 1.4530... Val Loss: 1.4259\n",
      "Epoch: 11/20... Step: 1400... Loss: 1.4536... Val Loss: 1.4218\n",
      "Epoch: 11/20... Step: 1410... Loss: 1.4569... Val Loss: 1.4217\n",
      "Epoch: 11/20... Step: 1420... Loss: 1.4456... Val Loss: 1.4169\n",
      "Epoch: 11/20... Step: 1430... Loss: 1.4082... Val Loss: 1.4196\n",
      "Epoch: 11/20... Step: 1440... Loss: 1.4449... Val Loss: 1.4144\n",
      "Epoch: 11/20... Step: 1450... Loss: 1.3597... Val Loss: 1.4123\n",
      "Epoch: 11/20... Step: 1460... Loss: 1.3920... Val Loss: 1.4125\n",
      "Epoch: 11/20... Step: 1470... Loss: 1.3808... Val Loss: 1.4096\n",
      "Epoch: 11/20... Step: 1480... Loss: 1.4038... Val Loss: 1.4085\n",
      "Epoch: 11/20... Step: 1490... Loss: 1.4026... Val Loss: 1.4082\n",
      "Epoch: 11/20... Step: 1500... Loss: 1.3788... Val Loss: 1.4080\n",
      "Epoch: 11/20... Step: 1510... Loss: 1.3581... Val Loss: 1.4027\n",
      "Epoch: 11/20... Step: 1520... Loss: 1.4083... Val Loss: 1.4008\n",
      "Epoch: 12/20... Step: 1530... Loss: 1.4519... Val Loss: 1.4038\n",
      "Epoch: 12/20... Step: 1540... Loss: 1.4088... Val Loss: 1.3984\n",
      "Epoch: 12/20... Step: 1550... Loss: 1.4133... Val Loss: 1.3988\n",
      "Epoch: 12/20... Step: 1560... Loss: 1.4213... Val Loss: 1.3938\n",
      "Epoch: 12/20... Step: 1570... Loss: 1.3727... Val Loss: 1.3962\n",
      "Epoch: 12/20... Step: 1580... Loss: 1.3448... Val Loss: 1.3888\n",
      "Epoch: 12/20... Step: 1590... Loss: 1.3516... Val Loss: 1.3931\n",
      "Epoch: 12/20... Step: 1600... Loss: 1.3670... Val Loss: 1.3902\n",
      "Epoch: 12/20... Step: 1610... Loss: 1.3631... Val Loss: 1.3890\n",
      "Epoch: 12/20... Step: 1620... Loss: 1.3585... Val Loss: 1.3836\n",
      "Epoch: 12/20... Step: 1630... Loss: 1.3865... Val Loss: 1.3875\n",
      "Epoch: 12/20... Step: 1640... Loss: 1.3609... Val Loss: 1.3862\n",
      "Epoch: 12/20... Step: 1650... Loss: 1.3400... Val Loss: 1.3846\n",
      "Epoch: 12/20... Step: 1660... Loss: 1.3941... Val Loss: 1.3816\n",
      "Epoch: 13/20... Step: 1670... Loss: 1.3529... Val Loss: 1.3851\n",
      "Epoch: 13/20... Step: 1680... Loss: 1.3682... Val Loss: 1.3780\n",
      "Epoch: 13/20... Step: 1690... Loss: 1.3482... Val Loss: 1.3778\n",
      "Epoch: 13/20... Step: 1700... Loss: 1.3522... Val Loss: 1.3745\n",
      "Epoch: 13/20... Step: 1710... Loss: 1.3323... Val Loss: 1.3794\n",
      "Epoch: 13/20... Step: 1720... Loss: 1.3372... Val Loss: 1.3745\n",
      "Epoch: 13/20... Step: 1730... Loss: 1.3802... Val Loss: 1.3749\n",
      "Epoch: 13/20... Step: 1740... Loss: 1.3388... Val Loss: 1.3717\n",
      "Epoch: 13/20... Step: 1750... Loss: 1.3102... Val Loss: 1.3740\n",
      "Epoch: 13/20... Step: 1760... Loss: 1.3443... Val Loss: 1.3686\n",
      "Epoch: 13/20... Step: 1770... Loss: 1.3608... Val Loss: 1.3709\n",
      "Epoch: 13/20... Step: 1780... Loss: 1.3414... Val Loss: 1.3701\n",
      "Epoch: 13/20... Step: 1790... Loss: 1.3264... Val Loss: 1.3659\n",
      "Epoch: 13/20... Step: 1800... Loss: 1.3495... Val Loss: 1.3648\n",
      "Epoch: 14/20... Step: 1810... Loss: 1.3562... Val Loss: 1.3745\n",
      "Epoch: 14/20... Step: 1820... Loss: 1.3273... Val Loss: 1.3630\n",
      "Epoch: 14/20... Step: 1830... Loss: 1.3598... Val Loss: 1.3625\n",
      "Epoch: 14/20... Step: 1840... Loss: 1.3105... Val Loss: 1.3591\n",
      "Epoch: 14/20... Step: 1850... Loss: 1.2821... Val Loss: 1.3629\n",
      "Epoch: 14/20... Step: 1860... Loss: 1.3518... Val Loss: 1.3597\n",
      "Epoch: 14/20... Step: 1870... Loss: 1.3472... Val Loss: 1.3554\n",
      "Epoch: 14/20... Step: 1880... Loss: 1.3332... Val Loss: 1.3563\n",
      "Epoch: 14/20... Step: 1890... Loss: 1.3506... Val Loss: 1.3622\n",
      "Epoch: 14/20... Step: 1900... Loss: 1.3275... Val Loss: 1.3565\n",
      "Epoch: 14/20... Step: 1910... Loss: 1.3384... Val Loss: 1.3545\n",
      "Epoch: 14/20... Step: 1920... Loss: 1.3244... Val Loss: 1.3583\n",
      "Epoch: 14/20... Step: 1930... Loss: 1.2977... Val Loss: 1.3533\n",
      "Epoch: 14/20... Step: 1940... Loss: 1.3479... Val Loss: 1.3506\n",
      "Epoch: 15/20... Step: 1950... Loss: 1.3236... Val Loss: 1.3521\n",
      "Epoch: 15/20... Step: 1960... Loss: 1.3216... Val Loss: 1.3487\n",
      "Epoch: 15/20... Step: 1970... Loss: 1.3110... Val Loss: 1.3458\n",
      "Epoch: 15/20... Step: 1980... Loss: 1.3007... Val Loss: 1.3483\n",
      "Epoch: 15/20... Step: 1990... Loss: 1.3083... Val Loss: 1.3463\n",
      "Epoch: 15/20... Step: 2000... Loss: 1.2880... Val Loss: 1.3446\n",
      "Epoch: 15/20... Step: 2010... Loss: 1.3078... Val Loss: 1.3438\n",
      "Epoch: 15/20... Step: 2020... Loss: 1.3262... Val Loss: 1.3440\n",
      "Epoch: 15/20... Step: 2030... Loss: 1.2980... Val Loss: 1.3453\n",
      "Epoch: 15/20... Step: 2040... Loss: 1.3088... Val Loss: 1.3401\n",
      "Epoch: 15/20... Step: 2050... Loss: 1.2927... Val Loss: 1.3430\n",
      "Epoch: 15/20... Step: 2060... Loss: 1.3099... Val Loss: 1.3440\n",
      "Epoch: 15/20... Step: 2070... Loss: 1.3071... Val Loss: 1.3389\n",
      "Epoch: 15/20... Step: 2080... Loss: 1.3082... Val Loss: 1.3387\n",
      "Epoch: 16/20... Step: 2090... Loss: 1.3099... Val Loss: 1.3415\n",
      "Epoch: 16/20... Step: 2100... Loss: 1.2958... Val Loss: 1.3365\n",
      "Epoch: 16/20... Step: 2110... Loss: 1.2908... Val Loss: 1.3345\n",
      "Epoch: 16/20... Step: 2120... Loss: 1.3021... Val Loss: 1.3382\n",
      "Epoch: 16/20... Step: 2130... Loss: 1.2786... Val Loss: 1.3337\n",
      "Epoch: 16/20... Step: 2140... Loss: 1.2874... Val Loss: 1.3326\n",
      "Epoch: 16/20... Step: 2150... Loss: 1.3068... Val Loss: 1.3348\n",
      "Epoch: 16/20... Step: 2160... Loss: 1.2864... Val Loss: 1.3331\n",
      "Epoch: 16/20... Step: 2170... Loss: 1.2857... Val Loss: 1.3286\n",
      "Epoch: 16/20... Step: 2180... Loss: 1.2896... Val Loss: 1.3312\n",
      "Epoch: 16/20... Step: 2190... Loss: 1.3080... Val Loss: 1.3292\n",
      "Epoch: 16/20... Step: 2200... Loss: 1.2776... Val Loss: 1.3314\n",
      "Epoch: 16/20... Step: 2210... Loss: 1.2420... Val Loss: 1.3291\n",
      "Epoch: 16/20... Step: 2220... Loss: 1.2885... Val Loss: 1.3278\n",
      "Epoch: 17/20... Step: 2230... Loss: 1.2613... Val Loss: 1.3299\n",
      "Epoch: 17/20... Step: 2240... Loss: 1.2907... Val Loss: 1.3239\n",
      "Epoch: 17/20... Step: 2250... Loss: 1.2632... Val Loss: 1.3273\n",
      "Epoch: 17/20... Step: 2260... Loss: 1.2722... Val Loss: 1.3267\n",
      "Epoch: 17/20... Step: 2270... Loss: 1.2734... Val Loss: 1.3251\n",
      "Epoch: 17/20... Step: 2280... Loss: 1.2972... Val Loss: 1.3220\n",
      "Epoch: 17/20... Step: 2290... Loss: 1.2881... Val Loss: 1.3220\n",
      "Epoch: 17/20... Step: 2300... Loss: 1.2551... Val Loss: 1.3201\n",
      "Epoch: 17/20... Step: 2310... Loss: 1.2677... Val Loss: 1.3168\n",
      "Epoch: 17/20... Step: 2320... Loss: 1.2636... Val Loss: 1.3173\n",
      "Epoch: 17/20... Step: 2330... Loss: 1.2620... Val Loss: 1.3208\n",
      "Epoch: 17/20... Step: 2340... Loss: 1.2842... Val Loss: 1.3221\n",
      "Epoch: 17/20... Step: 2350... Loss: 1.2812... Val Loss: 1.3181\n",
      "Epoch: 17/20... Step: 2360... Loss: 1.2895... Val Loss: 1.3180\n",
      "Epoch: 18/20... Step: 2370... Loss: 1.2586... Val Loss: 1.3173\n",
      "Epoch: 18/20... Step: 2380... Loss: 1.2602... Val Loss: 1.3164\n",
      "Epoch: 18/20... Step: 2390... Loss: 1.2679... Val Loss: 1.3164\n",
      "Epoch: 18/20... Step: 2400... Loss: 1.2897... Val Loss: 1.3163\n",
      "Epoch: 18/20... Step: 2410... Loss: 1.2890... Val Loss: 1.3163\n",
      "Epoch: 18/20... Step: 2420... Loss: 1.2613... Val Loss: 1.3149\n",
      "Epoch: 18/20... Step: 2430... Loss: 1.2669... Val Loss: 1.3151\n",
      "Epoch: 18/20... Step: 2440... Loss: 1.2585... Val Loss: 1.3137\n",
      "Epoch: 18/20... Step: 2450... Loss: 1.2434... Val Loss: 1.3125\n",
      "Epoch: 18/20... Step: 2460... Loss: 1.2669... Val Loss: 1.3129\n",
      "Epoch: 18/20... Step: 2470... Loss: 1.2596... Val Loss: 1.3126\n",
      "Epoch: 18/20... Step: 2480... Loss: 1.2487... Val Loss: 1.3106\n",
      "Epoch: 18/20... Step: 2490... Loss: 1.2415... Val Loss: 1.3103\n",
      "Epoch: 18/20... Step: 2500... Loss: 1.2578... Val Loss: 1.3123\n",
      "Epoch: 19/20... Step: 2510... Loss: 1.2530... Val Loss: 1.3136\n",
      "Epoch: 19/20... Step: 2520... Loss: 1.2659... Val Loss: 1.3078\n",
      "Epoch: 19/20... Step: 2530... Loss: 1.2747... Val Loss: 1.3096\n",
      "Epoch: 19/20... Step: 2540... Loss: 1.2805... Val Loss: 1.3071\n",
      "Epoch: 19/20... Step: 2550... Loss: 1.2437... Val Loss: 1.3075\n",
      "Epoch: 19/20... Step: 2560... Loss: 1.2561... Val Loss: 1.3067\n",
      "Epoch: 19/20... Step: 2570... Loss: 1.2435... Val Loss: 1.3052\n",
      "Epoch: 19/20... Step: 2580... Loss: 1.2777... Val Loss: 1.3046\n",
      "Epoch: 19/20... Step: 2590... Loss: 1.2404... Val Loss: 1.3031\n",
      "Epoch: 19/20... Step: 2600... Loss: 1.2397... Val Loss: 1.3042\n",
      "Epoch: 19/20... Step: 2610... Loss: 1.2512... Val Loss: 1.3051\n",
      "Epoch: 19/20... Step: 2620... Loss: 1.2379... Val Loss: 1.3064\n",
      "Epoch: 19/20... Step: 2630... Loss: 1.2333... Val Loss: 1.3027\n"
     ]
    },
    {
     "name": "stdout",
     "output_type": "stream",
     "text": [
      "Epoch: 19/20... Step: 2640... Loss: 1.2492... Val Loss: 1.3025\n",
      "Epoch: 20/20... Step: 2650... Loss: 1.2557... Val Loss: 1.3025\n",
      "Epoch: 20/20... Step: 2660... Loss: 1.2579... Val Loss: 1.2995\n",
      "Epoch: 20/20... Step: 2670... Loss: 1.2682... Val Loss: 1.2992\n",
      "Epoch: 20/20... Step: 2680... Loss: 1.2517... Val Loss: 1.2979\n",
      "Epoch: 20/20... Step: 2690... Loss: 1.2404... Val Loss: 1.2984\n",
      "Epoch: 20/20... Step: 2700... Loss: 1.2499... Val Loss: 1.2989\n",
      "Epoch: 20/20... Step: 2710... Loss: 1.2237... Val Loss: 1.3007\n",
      "Epoch: 20/20... Step: 2720... Loss: 1.2290... Val Loss: 1.2983\n",
      "Epoch: 20/20... Step: 2730... Loss: 1.2209... Val Loss: 1.2966\n",
      "Epoch: 20/20... Step: 2740... Loss: 1.2245... Val Loss: 1.2986\n",
      "Epoch: 20/20... Step: 2750... Loss: 1.2207... Val Loss: 1.2995\n",
      "Epoch: 20/20... Step: 2760... Loss: 1.2187... Val Loss: 1.2982\n",
      "Epoch: 20/20... Step: 2770... Loss: 1.2542... Val Loss: 1.2952\n",
      "Epoch: 20/20... Step: 2780... Loss: 1.2742... Val Loss: 1.2943\n"
     ]
    }
   ],
   "source": [
    "batch_size = 128\n",
    "seq_length = 100\n",
    "n_epochs = 20 # start smaller if you are just testing initial behavior\n",
    "\n",
    "# train the model\n",
    "train(net, encoded, epochs=n_epochs, batch_size=batch_size, seq_length=seq_length, lr=0.001, print_every=10)"
   ]
  },
  {
   "cell_type": "markdown",
   "metadata": {},
   "source": [
    "## Getting the best model\n",
    "\n",
    "To set your hyperparameters to get the best performance, you'll want to watch the training and validation losses. If your training loss is much lower than the validation loss, you're overfitting. Increase regularization (more dropout) or use a smaller network. If the training and validation losses are close, you're underfitting so you can increase the size of the network."
   ]
  },
  {
   "cell_type": "markdown",
   "metadata": {},
   "source": [
    "## Hyperparameters\n",
    "\n",
    "Here are the hyperparameters for the network.\n",
    "\n",
    "In defining the model:\n",
    "* `n_hidden` - The number of units in the hidden layers.\n",
    "* `n_layers` - Number of hidden LSTM layers to use.\n",
    "\n",
    "We assume that dropout probability and learning rate will be kept at the default, in this example.\n",
    "\n",
    "And in training:\n",
    "* `batch_size` - Number of sequences running through the network in one pass.\n",
    "* `seq_length` - Number of characters in the sequence the network is trained on. Larger is better typically, the network will learn more long range dependencies. But it takes longer to train. 100 is typically a good number here.\n",
    "* `lr` - Learning rate for training\n",
    "\n",
    "Here's some good advice from Andrej Karpathy on training the network. I'm going to copy it in here for your benefit, but also link to [where it originally came from](https://github.com/karpathy/char-rnn#tips-and-tricks).\n",
    "\n",
    "> ## Tips and Tricks\n",
    "\n",
    ">### Monitoring Validation Loss vs. Training Loss\n",
    ">If you're somewhat new to Machine Learning or Neural Networks it can take a bit of expertise to get good models. The most important quantity to keep track of is the difference between your training loss (printed during training) and the validation loss (printed once in a while when the RNN is run on the validation data (by default every 1000 iterations)). In particular:\n",
    "\n",
    "> - If your training loss is much lower than validation loss then this means the network might be **overfitting**. Solutions to this are to decrease your network size, or to increase dropout. For example you could try dropout of 0.5 and so on.\n",
    "> - If your training/validation loss are about equal then your model is **underfitting**. Increase the size of your model (either number of layers or the raw number of neurons per layer)\n",
    "\n",
    "> ### Approximate number of parameters\n",
    "\n",
    "> The two most important parameters that control the model are `n_hidden` and `n_layers`. I would advise that you always use `n_layers` of either 2/3. The `n_hidden` can be adjusted based on how much data you have. The two important quantities to keep track of here are:\n",
    "\n",
    "> - The number of parameters in your model. This is printed when you start training.\n",
    "> - The size of your dataset. 1MB file is approximately 1 million characters.\n",
    "\n",
    ">These two should be about the same order of magnitude. It's a little tricky to tell. Here are some examples:\n",
    "\n",
    "> - I have a 100MB dataset and I'm using the default parameter settings (which currently print 150K parameters). My data size is significantly larger (100 mil >> 0.15 mil), so I expect to heavily underfit. I am thinking I can comfortably afford to make `n_hidden` larger.\n",
    "> - I have a 10MB dataset and running a 10 million parameter model. I'm slightly nervous and I'm carefully monitoring my validation loss. If it's larger than my training loss then I may want to try to increase dropout a bit and see if that helps the validation loss.\n",
    "\n",
    "> ### Best models strategy\n",
    "\n",
    ">The winning strategy to obtaining very good models (if you have the compute time) is to always err on making the network larger (as large as you're willing to wait for it to compute) and then try different dropout values (between 0,1). Whatever model has the best validation performance (the loss, written in the checkpoint filename, low is good) is the one you should use in the end.\n",
    "\n",
    ">It is very common in deep learning to run many different models with many different hyperparameter settings, and in the end take whatever checkpoint gave the best validation performance.\n",
    "\n",
    ">By the way, the size of your training and validation splits are also parameters. Make sure you have a decent amount of data in your validation set or otherwise the validation performance will be noisy and not very informative."
   ]
  },
  {
   "cell_type": "markdown",
   "metadata": {},
   "source": [
    "## Checkpoint\n",
    "\n",
    "After training, we'll save the model so we can load it again later if we need too. Here I'm saving the parameters needed to create the same architecture, the hidden layer hyperparameters and the text characters."
   ]
  },
  {
   "cell_type": "code",
   "execution_count": 3,
   "metadata": {
    "jupyter": {
     "outputs_hidden": true
    }
   },
   "outputs": [
    {
     "ename": "NameError",
     "evalue": "name 'net' is not defined",
     "output_type": "error",
     "traceback": [
      "\u001b[0;31m---------------------------------------------------------------------------\u001b[0m\n\u001b[0;31mNameError\u001b[0m                                 Traceback (most recent call last)",
      "File \u001b[0;34mC:\\Users\\moham\\anaconda3\\lib\\site-packages\\IPython\\core\\interactiveshell.py\u001b[0m, in \u001b[0;32mrun_code\u001b[0m:\nLine \u001b[0;34m3437\u001b[0m:  exec(code_obj, \u001b[36mself\u001b[39;49;00m.user_global_ns, \u001b[36mself\u001b[39;49;00m.user_ns)\n",
      "In  \u001b[0;34m[3]\u001b[0m:\nLine \u001b[0;34m7\u001b[0m:     checkpoint = {\u001b[33m'\u001b[39;49;00m\u001b[33mn_hidden\u001b[39;49;00m\u001b[33m'\u001b[39;49;00m: net.n_hidden,\n",
      "\u001b[0;31mNameError\u001b[0m: name 'net' is not defined\n\u001b[0;31m---------------------------------------------------------------------------\u001b[0m"
     ]
    }
   ],
   "source": [
    "# change the name, for saving multiple files\n",
    "model_name = 'rnn_x_epoch.net'\n",
    "\n",
    "# We can save the models with any extenstion we want: https://stackoverflow.com/questions/68177394/why-we-need-to-save-pytorch-models-with-net-extension/68177520#68177520\n",
    "\n",
    "\n",
    "checkpoint = {'n_hidden': net.n_hidden,\n",
    "              'n_layers': net.n_layers,\n",
    "              'state_dict': net.state_dict(),\n",
    "              'tokens': net.chars}\n",
    "\n",
    "with open(model_name, 'wb') as f:\n",
    "    torch.save(checkpoint, f)"
   ]
  },
  {
   "cell_type": "code",
   "execution_count": 92,
   "metadata": {},
   "outputs": [
    {
     "name": "stdout",
     "output_type": "stream",
     "text": [
      "lstm.weight_ih_l0 >>> torch.Size([2048, 83])\n",
      "lstm.weight_hh_l0 >>> torch.Size([2048, 512])\n",
      "lstm.bias_ih_l0 >>> torch.Size([2048])\n",
      "lstm.bias_hh_l0 >>> torch.Size([2048])\n",
      "lstm.weight_ih_l1 >>> torch.Size([2048, 512])\n",
      "lstm.weight_hh_l1 >>> torch.Size([2048, 512])\n",
      "lstm.bias_ih_l1 >>> torch.Size([2048])\n",
      "lstm.bias_hh_l1 >>> torch.Size([2048])\n",
      "fc.weight >>> torch.Size([83, 512])\n",
      "fc.bias >>> torch.Size([83])\n"
     ]
    }
   ],
   "source": [
    "for name in net.state_dict():\n",
    "    print(name, \">>>\" , net.state_dict()[name].size())"
   ]
  },
  {
   "cell_type": "markdown",
   "metadata": {},
   "source": [
    "---\n",
    "## Making Predictions\n",
    "\n",
    "Now that the model is trained, we'll want to sample from it and make predictions about next characters! To sample, we pass in a character and have the network predict the next character. Then we take that character, pass it back in, and get another predicted character. Just keep doing this and you'll generate a bunch of text!\n",
    "\n",
    "### A note on the `predict`  function\n",
    "\n",
    "The output of our RNN is from a fully-connected layer and it outputs a **distribution of next-character scores**.\n",
    "\n",
    "> To actually get the next character, we apply a softmax function, which gives us a *probability* distribution that we can then sample to predict the next character.\n",
    "\n",
    "### Top K sampling\n",
    "\n",
    "Our predictions come from a categorical probability distribution over all the possible characters. We can make the sample text and make it more reasonable to handle (with less variables) by only considering some $K$ most probable characters. This will prevent the network from giving us completely absurd characters while allowing it to introduce some noise and randomness into the sampled text. Read more about [topk, here](https://pytorch.org/docs/stable/torch.html#torch.topk).\n"
   ]
  },
  {
   "cell_type": "code",
   "execution_count": 93,
   "metadata": {},
   "outputs": [],
   "source": [
    "import pdb"
   ]
  },
  {
   "cell_type": "code",
   "execution_count": 89,
   "metadata": {
    "jupyter": {
     "outputs_hidden": true
    }
   },
   "outputs": [],
   "source": [
    "def predict(net, char, h=None, top_k=None):\n",
    "        ''' Given a character, predict the next character.\n",
    "            Returns the predicted character and the hidden state.\n",
    "        \n",
    "        net: is the network \n",
    "        char: input character\n",
    "        h: hidden_state\n",
    "        top_k: the number of character to counted\n",
    "        '''\n",
    "        \n",
    "        # tensor inputs, it should be 2D array\n",
    "        # batch_size, seq_length\n",
    "        \n",
    "        x = np.array([[net.char2int[char]]])\n",
    "        \n",
    "        #pdb.set_trace()\n",
    "        \n",
    "        x = one_hot_encode(x, len(net.chars))\n",
    "        \n",
    "        #pdb.set_trace()\n",
    "        \n",
    "        # convert the input to 'torch.Tensor'\n",
    "        inputs = torch.from_numpy(x)\n",
    "        \n",
    "        if(train_on_gpu):\n",
    "            inputs = inputs.cuda()\n",
    "        \n",
    "        #pdb.set_trace()\n",
    "        \n",
    "        # detach hidden state from history\n",
    "        # size of n_layers x batch_size x n_hidden\n",
    "        # y[0].shape >> torch.Size([2, 1, 512])\n",
    "        # y[1].shape >> torch.Size([2, 1, 512])\n",
    "        \n",
    "        h = tuple([each.data for each in h])\n",
    "        \n",
    "        # y = tuple(t.cpu() for t in h)\n",
    "        \n",
    "        # get the output of the model\n",
    "        out, h = net(inputs, h)\n",
    "        \n",
    "        #pdb.set_trace()\n",
    "\n",
    "        # get the character probabilities\n",
    "        # dim = 1 means across rows\n",
    "        p = F.softmax(out, dim=1).data\n",
    "        \n",
    "        #pdb.set_trace()\n",
    "        \n",
    "        if(train_on_gpu):\n",
    "            p = p.cpu() # move to cpu\n",
    "                \n",
    "        # get top characters\n",
    "        if top_k is None:\n",
    "            top_ch = np.arange(len(net.chars))\n",
    "        else:\n",
    "            # If dim is not given, the last dimension of the input is chosen.\n",
    "            # here the dim is 83, the second dimension\n",
    "            p, top_ch = p.topk(top_k)\n",
    "            # reduce the dimensions, remove 1 dimension from top_ch dimension\n",
    "            top_ch = top_ch.numpy().squeeze()\n",
    "        \n",
    "        # We take the characters with max probability\n",
    "        \n",
    "        # pdb.set_trace()\n",
    "        \n",
    "        # select the likely next character with some element of randomness\n",
    "        p = p.numpy().squeeze()\n",
    "        \n",
    "        # if p isn't given, so the sample assumes a uniform distribution over all entries in a\n",
    "        char = np.random.choice(top_ch, p=p/p.sum())\n",
    "        #char = int(top_ch)\n",
    "        \n",
    "        \n",
    "        # return the encoded value of the predicted char and the hidden state\n",
    "        return net.int2char[char], h"
   ]
  },
  {
   "cell_type": "markdown",
   "metadata": {},
   "source": [
    "### Priming and generating text \n",
    "\n",
    "Typically you'll want to prime the network so you can build up a hidden state. Otherwise the network will start out generating characters at random. In general the first bunch of characters will be a little rough since it hasn't built up a long history of characters to predict from."
   ]
  },
  {
   "cell_type": "code",
   "execution_count": 90,
   "metadata": {
    "jupyter": {
     "outputs_hidden": true
    }
   },
   "outputs": [],
   "source": [
    "def sample(net, size, prime='The', top_k=None):\n",
    "        \n",
    "    if(train_on_gpu):\n",
    "        net.cuda()\n",
    "    else:\n",
    "        net.cpu()\n",
    "    \n",
    "    net.eval() # eval mode\n",
    "    \n",
    "    # First off, run through the prime characters\n",
    "    chars = [ch for ch in prime]\n",
    "    \n",
    "    h = net.init_hidden(1)\n",
    "    \n",
    "    for ch in prime:\n",
    "        char, h = predict(net, ch, h, top_k=top_k)\n",
    "\n",
    "    chars.append(char)\n",
    "    \n",
    "    # Now pass in the previous character and get a new one\n",
    "    for ii in range(size):\n",
    "        char, h = predict(net, chars[-1], h, top_k=top_k)\n",
    "        chars.append(char)\n",
    "\n",
    "    return ''.join(chars)"
   ]
  },
  {
   "cell_type": "code",
   "execution_count": 91,
   "metadata": {
    "jupyter": {
     "outputs_hidden": true
    }
   },
   "outputs": [
    {
     "name": "stdout",
     "output_type": "stream",
     "text": [
      "AnnaPJPsVVJPPsPPVsnVJPPJVsPPsnJnPJnJsssVssnVVJJJVPJnsVsJJsPPVnJVVsJPnsJVsnVJJVsVnVPsJnnJJJJsVJsnnPVVVVsVnVVnsJnnPsPnnVPVPssPVPJPPsnsPPsnsnVVPJPsJPnnsnssPVPsVVsnPVJJJVssJJPVPVJVVsnnsnJPsnVJVJnnnnsVVJsJJnnVnPnPVnPVsnsnssnPVPPJsnnPJnJnJJJssJVVJnPnPJnJPnVnPJVsJVsnnJJsPJJVJPsJsnnPJnnnnPJsnnJPnsJnVnnVnPPnnVVsJsJJPsJPJPsPnnnJPnJJPJPJnPnPPsJPnsPVJsnsVJPnPJVsnnVPsVnPnsPJsVsPsJPsnVPsnnVnnnJnnJnJPJPnJsJPJssPPVPVnsnPJVJPsnnsJsVnVPnPsPsJnnPnVJVPnPJnPsVPsnPPVnVPnnnJJJVVnnnPsVVnsJVPnPPsJJsJsJJssnVVJsVsnPVsPsnVnnVVnJJPsssssJsJJnPsPJsJnnPVsnJnVVPJJVnVPsnVVPssPVPVVnssPVVsVJnssPJnPVPJVsPnJVnsVJPJnJPVVnnVsnVVJPsVJPnJVJPJnPPnVPVJPJPnVJJnsJVVJsnPPJPnJsJsPnnnVsPVnVJPVJPVsJnVJJPJVJsPJPPPnsnPPnPVnssnJJJnsJVVPVVPVsPJJVPPPJsJnnVVnnsJJnJVPVVJPsnVnPJsnsVsJnPsnJJPJPnPPPnVsJnnsVVnVnPJPJsnJPPJnJJVsJPVJPVVnPVVVPVVVsnnssJsssPsPJPJsssPsJJPsVJsPVnPJsVJsVPPVJssPssnnJnnsnJJVnssssPJJPVVsnVPPPsVPVnnnPnssJPnVVVPsPnPsPsnsVPssJnPsPPnsnJPVsnVVPPsPPJVnJVJnJnsVsVnJPJVnJssnVnVVJsJJJsPsVnVnVVsPnVVPJJsVnPsJnJnJsPnPPJPJVPJnPJnJnJnJPsPJnnsV\n"
     ]
    }
   ],
   "source": [
    "print(sample(net, 1000, prime='Anna', top_k=5))"
   ]
  },
  {
   "cell_type": "markdown",
   "metadata": {},
   "source": [
    "## Loading a checkpoint"
   ]
  },
  {
   "cell_type": "code",
   "execution_count": 92,
   "metadata": {
    "jupyter": {
     "outputs_hidden": true
    }
   },
   "outputs": [
    {
     "data": {
      "text/plain": [
       "<All keys matched successfully>"
      ]
     },
     "execution_count": 92,
     "metadata": {},
     "output_type": "execute_result"
    }
   ],
   "source": [
    "# Here we have loaded in a model that trained over 20 epochs `rnn_20_epoch.net`\n",
    "with open('rnn_x_epoch.net', 'rb') as f:\n",
    "    checkpoint = torch.load(f)\n",
    "    \n",
    "loaded = CharRNN(checkpoint['tokens'], n_hidden=checkpoint['n_hidden'], n_layers=checkpoint['n_layers'])\n",
    "loaded.load_state_dict(checkpoint['state_dict'])"
   ]
  },
  {
   "cell_type": "code",
   "execution_count": 93,
   "metadata": {
    "jupyter": {
     "outputs_hidden": true
    }
   },
   "outputs": [
    {
     "name": "stdout",
     "output_type": "stream",
     "text": [
      "And Levin said...\"\n",
      "\n",
      "\"Yes, in secision,\" he asked.\n",
      "\n",
      "\"I've so such a familitic friends?\" said\n",
      "Stepan Arkadyevitch, and his strange services was not\n",
      "been so\n",
      "thanked to the corridor,\n",
      "and was not saying. He\n",
      "had so more herself, but he felt in a midet of the sofficioss, which had\n",
      "been\n",
      "and stopping the sout were completely simplicity.\n",
      "\n",
      "\"Today there's nothing of it.\"\n",
      "\n",
      "\"I am very seed to be any one for the same signifiesc. We must go over there on\n",
      "the\n",
      "position.\"\n",
      "\n",
      "\"That's not for the same thing, but that who didn't say\n",
      "it?\"\n",
      "\n",
      "She went up\n",
      "to the courtens there was a\n",
      "man who had been all the conviction of her eyes. He came out of her\n",
      "hand.\n",
      "\n",
      "The misures in the conversation of those chair. She was as took an answer than ever. And\n",
      "at the most consequence of the parting was not a choll would be as though is so the sight was there without his bare or that. The princess had saying the same time. There was a promise that her feeling were trying to be said, and\n",
      "was that they were not consequently the conversation over the fearful place worded on the direction, that is a suffering. But with\n",
      "a paniffer and strength was a chaid and canged the bottlament. She was not straight a sense of the party and taking their\n",
      "calles of the prepareds which had not been a sign of a laborers about, treating her at an answer to a long, thing in the caures of the sick\n",
      "man, who dropped with all\n",
      "this. He was night.\n",
      "\n",
      "Alexey Alexandrovitch was still his brother, and the convict of seeing her soft to her, while was\n",
      "true that he came to her. She was trying to compryhend him. He was saying, and she\n",
      "went up to the\n",
      "meadows, and the moming who had bould the boots, where he with a smooth\n",
      "friend to be always to despise.\n",
      "\n",
      "\"Why, I shall go\n",
      "besides. And I can't talk of them,\" tait of her husband well, shooting her eyes again. He with a\n",
      "first still dear shame, taking over him sides without alranding her strange an agony, but he had told him to have to discuss of his strick and time that had not alled impressively told\n",
      "to him to be said to\n"
     ]
    }
   ],
   "source": [
    "# Sample using a loaded model\n",
    "print(sample(loaded, 2000, top_k=5, prime=\"And Levin said\"))"
   ]
  },
  {
   "cell_type": "code",
   "execution_count": 84,
   "metadata": {
    "jupyter": {
     "outputs_hidden": true
    }
   },
   "outputs": [],
   "source": [
    "#net.int2char"
   ]
  }
 ],
 "metadata": {
  "kernelspec": {
   "display_name": "Python 3.8 (XPython)",
   "language": "python",
   "name": "xpython"
  },
  "language_info": {
   "file_extension": ".py",
   "mimetype": "text/x-python",
   "name": "python",
   "version": "3.8.10"
  }
 },
 "nbformat": 4,
 "nbformat_minor": 4
}
