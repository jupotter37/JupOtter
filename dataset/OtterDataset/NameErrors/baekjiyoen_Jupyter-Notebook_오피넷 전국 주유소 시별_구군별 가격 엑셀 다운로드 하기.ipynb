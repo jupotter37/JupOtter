{
 "cells": [
  {
   "cell_type": "code",
   "execution_count": 1,
   "id": "2bbc6b30-e387-4027-bf4c-21848e74269a",
   "metadata": {},
   "outputs": [
    {
     "data": {
      "text/plain": [
       "'C:\\\\Users\\\\human\\\\Desktop\\\\수업자료\\\\데이터분석&시각화\\\\07 크롤링03'"
      ]
     },
     "execution_count": 1,
     "metadata": {},
     "output_type": "execute_result"
    }
   ],
   "source": [
    "pwd"
   ]
  },
  {
   "cell_type": "code",
   "execution_count": 2,
   "id": "f8f17133-5963-4dae-bf0e-6b6afc1f4149",
   "metadata": {},
   "outputs": [
    {
     "ename": "NoSuchWindowException",
     "evalue": "Message: no such window: target window already closed\nfrom unknown error: web view not found\n  (Session info: chrome=129.0.6668.90)\nStacktrace:\n\tGetHandleVerifier [0x00585523+24195]\n\t(No symbol) [0x0051AA04]\n\t(No symbol) [0x00412093]\n\t(No symbol) [0x003EE22B]\n\t(No symbol) [0x0048173F]\n\t(No symbol) [0x00494BB9]\n\t(No symbol) [0x0047A8D6]\n\t(No symbol) [0x0044BA27]\n\t(No symbol) [0x0044C43D]\n\tGetHandleVerifier [0x0084CE13+2938739]\n\tGetHandleVerifier [0x0089EC69+3274185]\n\tGetHandleVerifier [0x006109C2+594722]\n\tGetHandleVerifier [0x00617EDC+624700]\n\t(No symbol) [0x005237CD]\n\t(No symbol) [0x00520528]\n\t(No symbol) [0x005206C5]\n\t(No symbol) [0x00512CA6]\n\tBaseThreadInitThunk [0x760BFCC9+25]\n\tRtlGetAppContainerNamedObjectPath [0x77C080CE+286]\n\tRtlGetAppContainerNamedObjectPath [0x77C0809E+238]\n",
     "output_type": "error",
     "traceback": [
      "\u001b[1;31m---------------------------------------------------------------------------\u001b[0m",
      "\u001b[1;31mNoSuchWindowException\u001b[0m                     Traceback (most recent call last)",
      "Cell \u001b[1;32mIn[2], line 52\u001b[0m\n\u001b[0;32m     49\u001b[0m driver\u001b[38;5;241m.\u001b[39mget(url)\n\u001b[0;32m     50\u001b[0m time\u001b[38;5;241m.\u001b[39msleep(\u001b[38;5;241m3\u001b[39m)\n\u001b[1;32m---> 52\u001b[0m sido_names\u001b[38;5;241m=\u001b[39msido_name() \u001b[38;5;66;03m# 전국 시도 이름 가져오기 ['서울', '부산', '대구'.....]\u001b[39;00m\n\u001b[0;32m     54\u001b[0m \u001b[38;5;66;03m# oil_price_down('부산')\u001b[39;00m\n\u001b[0;32m     55\u001b[0m \u001b[38;5;28;01mfor\u001b[39;00m si_name \u001b[38;5;129;01min\u001b[39;00m sido_names:\n",
      "Cell \u001b[1;32mIn[2], line 19\u001b[0m, in \u001b[0;36msido_name\u001b[1;34m()\u001b[0m\n\u001b[0;32m     18\u001b[0m \u001b[38;5;28;01mdef\u001b[39;00m \u001b[38;5;21msido_name\u001b[39m():\n\u001b[1;32m---> 19\u001b[0m     sido_elems\u001b[38;5;241m=\u001b[39mdriver\u001b[38;5;241m.\u001b[39mfind_elements(By\u001b[38;5;241m.\u001b[39mCSS_SELECTOR,\u001b[38;5;124m'\u001b[39m\u001b[38;5;124mselect#SIDO_NM0>option\u001b[39m\u001b[38;5;124m'\u001b[39m)\n\u001b[0;32m     20\u001b[0m     res\u001b[38;5;241m=\u001b[39m[i\u001b[38;5;241m.\u001b[39mtext \u001b[38;5;28;01mfor\u001b[39;00m i \u001b[38;5;129;01min\u001b[39;00m sido_elems[\u001b[38;5;241m1\u001b[39m:]]\n\u001b[0;32m     21\u001b[0m     \u001b[38;5;28;01mreturn\u001b[39;00m res\n",
      "File \u001b[1;32m~\\.conda\\envs\\edu\\Lib\\site-packages\\selenium\\webdriver\\remote\\webdriver.py:778\u001b[0m, in \u001b[0;36mWebDriver.find_elements\u001b[1;34m(self, by, value)\u001b[0m\n\u001b[0;32m    774\u001b[0m     value \u001b[38;5;241m=\u001b[39m \u001b[38;5;124mf\u001b[39m\u001b[38;5;124m'\u001b[39m\u001b[38;5;124m[name=\u001b[39m\u001b[38;5;124m\"\u001b[39m\u001b[38;5;132;01m{\u001b[39;00mvalue\u001b[38;5;132;01m}\u001b[39;00m\u001b[38;5;124m\"\u001b[39m\u001b[38;5;124m]\u001b[39m\u001b[38;5;124m'\u001b[39m\n\u001b[0;32m    776\u001b[0m \u001b[38;5;66;03m# Return empty list if driver returns null\u001b[39;00m\n\u001b[0;32m    777\u001b[0m \u001b[38;5;66;03m# See https://github.com/SeleniumHQ/selenium/issues/4555\u001b[39;00m\n\u001b[1;32m--> 778\u001b[0m \u001b[38;5;28;01mreturn\u001b[39;00m \u001b[38;5;28mself\u001b[39m\u001b[38;5;241m.\u001b[39mexecute(Command\u001b[38;5;241m.\u001b[39mFIND_ELEMENTS, {\u001b[38;5;124m\"\u001b[39m\u001b[38;5;124musing\u001b[39m\u001b[38;5;124m\"\u001b[39m: by, \u001b[38;5;124m\"\u001b[39m\u001b[38;5;124mvalue\u001b[39m\u001b[38;5;124m\"\u001b[39m: value})[\u001b[38;5;124m\"\u001b[39m\u001b[38;5;124mvalue\u001b[39m\u001b[38;5;124m\"\u001b[39m] \u001b[38;5;129;01mor\u001b[39;00m []\n",
      "File \u001b[1;32m~\\.conda\\envs\\edu\\Lib\\site-packages\\selenium\\webdriver\\remote\\webdriver.py:354\u001b[0m, in \u001b[0;36mWebDriver.execute\u001b[1;34m(self, driver_command, params)\u001b[0m\n\u001b[0;32m    352\u001b[0m response \u001b[38;5;241m=\u001b[39m \u001b[38;5;28mself\u001b[39m\u001b[38;5;241m.\u001b[39mcommand_executor\u001b[38;5;241m.\u001b[39mexecute(driver_command, params)\n\u001b[0;32m    353\u001b[0m \u001b[38;5;28;01mif\u001b[39;00m response:\n\u001b[1;32m--> 354\u001b[0m     \u001b[38;5;28mself\u001b[39m\u001b[38;5;241m.\u001b[39merror_handler\u001b[38;5;241m.\u001b[39mcheck_response(response)\n\u001b[0;32m    355\u001b[0m     response[\u001b[38;5;124m\"\u001b[39m\u001b[38;5;124mvalue\u001b[39m\u001b[38;5;124m\"\u001b[39m] \u001b[38;5;241m=\u001b[39m \u001b[38;5;28mself\u001b[39m\u001b[38;5;241m.\u001b[39m_unwrap_value(response\u001b[38;5;241m.\u001b[39mget(\u001b[38;5;124m\"\u001b[39m\u001b[38;5;124mvalue\u001b[39m\u001b[38;5;124m\"\u001b[39m, \u001b[38;5;28;01mNone\u001b[39;00m))\n\u001b[0;32m    356\u001b[0m     \u001b[38;5;28;01mreturn\u001b[39;00m response\n",
      "File \u001b[1;32m~\\.conda\\envs\\edu\\Lib\\site-packages\\selenium\\webdriver\\remote\\errorhandler.py:229\u001b[0m, in \u001b[0;36mErrorHandler.check_response\u001b[1;34m(self, response)\u001b[0m\n\u001b[0;32m    227\u001b[0m         alert_text \u001b[38;5;241m=\u001b[39m value[\u001b[38;5;124m\"\u001b[39m\u001b[38;5;124malert\u001b[39m\u001b[38;5;124m\"\u001b[39m]\u001b[38;5;241m.\u001b[39mget(\u001b[38;5;124m\"\u001b[39m\u001b[38;5;124mtext\u001b[39m\u001b[38;5;124m\"\u001b[39m)\n\u001b[0;32m    228\u001b[0m     \u001b[38;5;28;01mraise\u001b[39;00m exception_class(message, screen, stacktrace, alert_text)  \u001b[38;5;66;03m# type: ignore[call-arg]  # mypy is not smart enough here\u001b[39;00m\n\u001b[1;32m--> 229\u001b[0m \u001b[38;5;28;01mraise\u001b[39;00m exception_class(message, screen, stacktrace)\n",
      "\u001b[1;31mNoSuchWindowException\u001b[0m: Message: no such window: target window already closed\nfrom unknown error: web view not found\n  (Session info: chrome=129.0.6668.90)\nStacktrace:\n\tGetHandleVerifier [0x00585523+24195]\n\t(No symbol) [0x0051AA04]\n\t(No symbol) [0x00412093]\n\t(No symbol) [0x003EE22B]\n\t(No symbol) [0x0048173F]\n\t(No symbol) [0x00494BB9]\n\t(No symbol) [0x0047A8D6]\n\t(No symbol) [0x0044BA27]\n\t(No symbol) [0x0044C43D]\n\tGetHandleVerifier [0x0084CE13+2938739]\n\tGetHandleVerifier [0x0089EC69+3274185]\n\tGetHandleVerifier [0x006109C2+594722]\n\tGetHandleVerifier [0x00617EDC+624700]\n\t(No symbol) [0x005237CD]\n\t(No symbol) [0x00520528]\n\t(No symbol) [0x005206C5]\n\t(No symbol) [0x00512CA6]\n\tBaseThreadInitThunk [0x760BFCC9+25]\n\tRtlGetAppContainerNamedObjectPath [0x77C080CE+286]\n\tRtlGetAppContainerNamedObjectPath [0x77C0809E+238]\n"
     ]
    }
   ],
   "source": [
    "import time\n",
    "from selenium import webdriver\n",
    "from selenium.webdriver.chrome.options import Options\n",
    "from selenium.webdriver.chrome.service import Service\n",
    "from webdriver_manager.chrome import ChromeDriverManager\n",
    "from selenium.webdriver.common.keys import Keys\n",
    "from selenium.webdriver.common.by import By\n",
    "from bs4 import BeautifulSoup as bs\n",
    "import pandas as pd\n",
    "\n",
    "options=Options()\n",
    "options.add_experimental_option('detach',True) #화면이 꺼지지 않고 유지\n",
    "options.add_argument('--start-maximized') # 화면을 최대화\n",
    "service=Service(ChromeDriverManager().install()) #크롬드라이버 자동 설치\n",
    "\n",
    "\n",
    "# 전국 시도명 리스트 얻기\n",
    "def sido_name():\n",
    "    sido_elems=driver.find_elements(By.CSS_SELECTOR,'select#SIDO_NM0>option')\n",
    "    res=[i.text for i in sido_elems[1:]]\n",
    "    return res\n",
    "\n",
    "# 구이름 가져와서 구별 주유소 가격 다운 받기\n",
    "def oil_price_down(si_name):\n",
    "    #해당 시를 입력하고 조회\n",
    "    driver.find_element(By.ID,'SIDO_NM0').send_keys(si_name)\n",
    "    time.sleep(3)\n",
    "    # 해당 시의 구이름 가져오기 \n",
    "    gu_elems=driver.find_elements(By.CSS_SELECTOR,'select#SIGUNGU_NM0>option')\n",
    "    gu_names=[i.text for i in gu_elems[1:]]\n",
    "\n",
    "    for i in gu_names:\n",
    "        driver.find_element(By.XPATH,'//*[@id=\"SIGUNGU_NM0\"]').send_keys(i)\n",
    "        # time.sleep(1)\n",
    "        # driver.find_element(By.XPATH,'//*[@id=\"searRgSelect\"]').click()\n",
    "        time.sleep(3)\n",
    "        driver.find_element(By.XPATH,'//*[@id=\"templ_list0\"]/div[7]/div/a').click()\n",
    "        time.sleep(4)\n",
    "    return\n",
    "    \n",
    "\n",
    "#메인 프로그램\n",
    "driver=webdriver.Chrome(service=service, options=options)\n",
    "\n",
    "#1. url 생성\n",
    "url='https://www.opinet.co.kr/searRgSelect.do'\n",
    "\n",
    "#2. 접속하시고\n",
    "driver.get(url)\n",
    "time.sleep(3)\n",
    "\n",
    "sido_names=sido_name() # 전국 시도 이름 가져오기 ['서울', '부산', '대구'.....]\n",
    "\n",
    "# oil_price_down('부산')\n",
    "for si_name in sido_names:\n",
    "    oil_price_down(si_name)\n",
    "\n",
    "\n",
    "\n",
    "\n"
   ]
  },
  {
   "cell_type": "code",
   "execution_count": 3,
   "id": "edd62d7d-7d76-44b0-ab69-c8af211edd30",
   "metadata": {},
   "outputs": [
    {
     "ename": "NameError",
     "evalue": "name 'sido_names' is not defined",
     "output_type": "error",
     "traceback": [
      "\u001b[1;31m---------------------------------------------------------------------------\u001b[0m",
      "\u001b[1;31mNameError\u001b[0m                                 Traceback (most recent call last)",
      "Cell \u001b[1;32mIn[3], line 1\u001b[0m\n\u001b[1;32m----> 1\u001b[0m sido_names\n",
      "\u001b[1;31mNameError\u001b[0m: name 'sido_names' is not defined"
     ]
    }
   ],
   "source": [
    "sido_names"
   ]
  },
  {
   "cell_type": "code",
   "execution_count": null,
   "id": "7742d16d-680f-4ef8-9aaa-9614aa2fd060",
   "metadata": {},
   "outputs": [],
   "source": []
  }
 ],
 "metadata": {
  "kernelspec": {
   "display_name": "Python 3 (ipykernel)",
   "language": "python",
   "name": "python3"
  },
  "language_info": {
   "codemirror_mode": {
    "name": "ipython",
    "version": 3
   },
   "file_extension": ".py",
   "mimetype": "text/x-python",
   "name": "python",
   "nbconvert_exporter": "python",
   "pygments_lexer": "ipython3",
   "version": "3.12.5"
  }
 },
 "nbformat": 4,
 "nbformat_minor": 5
}
