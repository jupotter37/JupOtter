{
 "cells": [
  {
   "cell_type": "markdown",
   "metadata": {},
   "source": [
    "# 6.1.4 Shell model\n",
    "## Simple Naghdi shell model\n",
    "Geometric model and meshing. Clamped on left boundary."
   ]
  },
  {
   "cell_type": "code",
   "execution_count": 1,
   "metadata": {},
   "outputs": [],
   "source": [
    "from netgen.csg import *\n",
    "from ngsolve import *\n",
    "from ngsolve.internal import visoptions\n",
    "from ngsolve.webgui import Draw\n",
    "\n",
    "order = 3\n",
    "\n",
    "geo = CSGeometry()\n",
    "cyl   = Cylinder(Pnt(0,0,0),Pnt(1,0,0),0.4).bc(\"cyl\")\n",
    "left  = Plane(Pnt(0,0,0), Vec(-1,0,0))\n",
    "right = Plane(Pnt(1,0,0), Vec(1,0,0))\n",
    "finitecyl = cyl * left * right\n",
    "geo.AddSurface(cyl, finitecyl)\n",
    "geo.NameEdge(cyl,left, \"left\")\n",
    "geo.NameEdge(cyl,right, \"right\")\n",
    "\n",
    "mesh = Mesh(geo.GenerateMesh(maxh=0.2))"
   ]
  },
  {
   "cell_type": "code",
   "execution_count": 2,
   "metadata": {},
   "outputs": [
    {
     "data": {
      "text/plain": [
       "84"
      ]
     },
     "execution_count": 2,
     "metadata": {},
     "output_type": "execute_result"
    }
   ],
   "source": [
    "mesh.nv"
   ]
  },
  {
   "cell_type": "code",
   "execution_count": 3,
   "metadata": {},
   "outputs": [
    {
     "data": {
      "application/vnd.jupyter.widget-view+json": {
       "model_id": "66f760e9d2f84d859178d25cdd7f96c3",
       "version_major": 2,
       "version_minor": 0
      },
      "text/plain": [
       "WebGuiWidget(layout=Layout(height='50vh', width='100%'), value={'gui_settings': {}, 'ngsolve_version': '6.2.24…"
      ]
     },
     "metadata": {},
     "output_type": "display_data"
    },
    {
     "data": {
      "text/plain": [
       "BaseWebGuiScene"
      ]
     },
     "execution_count": 3,
     "metadata": {},
     "output_type": "execute_result"
    }
   ],
   "source": [
    "mesh.Curve(order)\n",
    "Draw(mesh)"
   ]
  },
  {
   "cell_type": "markdown",
   "metadata": {},
   "source": [
    "Use Lagrangian elements for displacement $u \\in [H^1(S)]^3$ and the rotation $\\beta \\in [H^1(S)]^3$. It might lock for small thickness $t$."
   ]
  },
  {
   "cell_type": "code",
   "execution_count": 4,
   "metadata": {},
   "outputs": [],
   "source": [
    "fes1 = VectorH1(mesh, order=order, dirichlet_bbnd=\"left\")\n",
    "fes = fes1*fes1\n",
    "u,beta = fes.TrialFunction()\n",
    "\n",
    "nsurf = specialcf.normal(3)\n",
    "\n",
    "thickness = 0.1"
   ]
  },
  {
   "cell_type": "markdown",
   "metadata": {},
   "source": [
    "Membrane energy\n",
    "$$\n",
    "t\\|E_{tt}(u)\\|^2_{L^2(S)} \n",
    "$$\n",
    "Shear energy\n",
    "$$\n",
    "t\\int_S | \\nabla u^\\top n - \\beta |^2 \n",
    "$$\n",
    "Bending energy\n",
    "$$\n",
    "\\frac{t^3}{2}\\|\\boldsymbol{\\varepsilon}(\\beta)-\\text{Sym}(\\nabla u^\\top\\nabla\\nu)\\|^2_{L^2(S)}\n",
    "$$"
   ]
  },
  {
   "cell_type": "code",
   "execution_count": 5,
   "metadata": {},
   "outputs": [],
   "source": [
    "Ptau = Id(3) - OuterProduct(nsurf,nsurf)\n",
    "Ftau = grad(u).Trace() + Ptau\n",
    "Ctautau = Ftau.trans * Ftau\n",
    "Etautau = 0.5*(Ctautau - Ptau)\n",
    "\n",
    "eps_beta = Sym(Ptau*grad(beta).Trace())\n",
    "gradu = grad(u).Trace()\n",
    "ngradu = gradu.trans*nsurf\n",
    "#Average normal vector for affine geometry\n",
    "if order == 1:\n",
    "    gfn = GridFunction(fes1)\n",
    "    gfn.Set(nsurf,definedon=mesh.Boundaries(\".*\"))\n",
    "else:\n",
    "    gfn = nsurf\n",
    "\n",
    "a = BilinearForm(fes, symmetric=True)\n",
    "#membrane energy\n",
    "a += Variation( thickness*InnerProduct(Etautau, Etautau)*ds )\n",
    "#bending energy\n",
    "a += Variation( 0.5*thickness**3*InnerProduct(eps_beta-Sym(gradu.trans*grad(gfn)),eps_beta-Sym(gradu.trans*grad(gfn)))*ds )\n",
    "#shearing energy\n",
    "a += Variation( thickness*(ngradu-beta)*(ngradu-beta)*ds )\n",
    "\n",
    "# external force\n",
    "factor = Parameter(0.0)\n",
    "a += Variation( -thickness*factor*y*u[1]*ds )\n",
    "\n",
    "gfu = GridFunction(fes)"
   ]
  },
  {
   "cell_type": "markdown",
   "metadata": {},
   "source": [
    "Increase the load step-wise, solve the non-linear problem by Newton's method. First and second order derivatives are computed by automatic differentiation."
   ]
  },
  {
   "cell_type": "code",
   "execution_count": 6,
   "metadata": {},
   "outputs": [
    {
     "name": "stdout",
     "output_type": "stream",
     "text": [
      "loadstep  0\n",
      "loadstep  1\n",
      "loadstep  2\n",
      "loadstep  3\n",
      "loadstep  4\n",
      "loadstep  5\n"
     ]
    }
   ],
   "source": [
    "with TaskManager():\n",
    "    for loadstep in range(6):\n",
    "        print(\"loadstep \", loadstep)\n",
    "        factor.Set (1.5*(loadstep+1))\n",
    "        solvers.NewtonMinimization(a, gfu, printing=False)"
   ]
  },
  {
   "cell_type": "code",
   "execution_count": 7,
   "metadata": {},
   "outputs": [
    {
     "data": {
      "application/vnd.jupyter.widget-view+json": {
       "model_id": "fbb7a126c1134e4985c8c81c4a27363c",
       "version_major": 2,
       "version_minor": 0
      },
      "text/plain": [
       "WebGuiWidget(layout=Layout(height='50vh', width='100%'), value={'gui_settings': {}, 'ngsolve_version': '6.2.24…"
      ]
     },
     "metadata": {},
     "output_type": "display_data"
    },
    {
     "data": {
      "application/vnd.jupyter.widget-view+json": {
       "model_id": "391355a7e0c544bd9745155b87855644",
       "version_major": 2,
       "version_minor": 0
      },
      "text/plain": [
       "WebGuiWidget(layout=Layout(height='50vh', width='100%'), value={'gui_settings': {}, 'ngsolve_version': '6.2.24…"
      ]
     },
     "metadata": {},
     "output_type": "display_data"
    },
    {
     "data": {
      "text/plain": [
       "BaseWebGuiScene"
      ]
     },
     "execution_count": 7,
     "metadata": {},
     "output_type": "execute_result"
    }
   ],
   "source": [
    "Draw(gfu.components[1], mesh, \"rotations\", deformation=gfu.components[0])\n",
    "Draw(gfu.components[0], mesh, \"disp\")"
   ]
  },
  {
   "cell_type": "markdown",
   "metadata": {},
   "source": [
    "## Nonlinear Koiter shell model\n",
    "We present the method described in [<a href=\"https://www.sciencedirect.com/science/article/abs/pii/S0045794919304833\">Neunteufel and Schöberl. The Hellan-Herrmann-Johnson method for nonlinear shells. <i>Computers \\& Structures </i>, 225\n",
    "  (2019), 106109</a>]."
   ]
  },
  {
   "cell_type": "code",
   "execution_count": 8,
   "metadata": {},
   "outputs": [
    {
     "data": {
      "application/vnd.jupyter.widget-view+json": {
       "model_id": "3c5fb59932f2471492842ae3a56aa603",
       "version_major": 2,
       "version_minor": 0
      },
      "text/plain": [
       "WebGuiWidget(layout=Layout(height='50vh', width='100%'), value={'gui_settings': {}, 'ngsolve_version': '6.2.24…"
      ]
     },
     "metadata": {},
     "output_type": "display_data"
    },
    {
     "data": {
      "text/plain": [
       "BaseWebGuiScene"
      ]
     },
     "execution_count": 8,
     "metadata": {},
     "output_type": "execute_result"
    }
   ],
   "source": [
    "from math import pi\n",
    "from ngsolve.meshes import MakeStructuredSurfaceMesh\n",
    "thickness = 0.1\n",
    "L = 12\n",
    "W = 1\n",
    "E, nu = 1.2e6, 0\n",
    "moment = IfPos(x-L+1e-6, 1, 0)*50*pi/3\n",
    "\n",
    "mapping = lambda x,y,z : (L*x, W*y,0)\n",
    "mesh = MakeStructuredSurfaceMesh(quads=False, nx=10, ny=1, mapping=mapping)\n",
    "Draw(mesh)"
   ]
  },
  {
   "cell_type": "markdown",
   "metadata": {},
   "source": [
    "To avoid membrane locking Regge interpolation as in [<a href=\"https://arxiv.org/abs/1907.06232\">Neunteufel and Schöberl. Avoiding Membrane Locking with Regge Interpolation</a>] can be used."
   ]
  },
  {
   "cell_type": "code",
   "execution_count": 9,
   "metadata": {
    "scrolled": true
   },
   "outputs": [
    {
     "ename": "NgException",
     "evalue": "Dimensions don't match, op = + dims1 = 0: 3\n1: 3\n, dims2 = 0: 3\n",
     "output_type": "error",
     "traceback": [
      "\u001b[0;31m---------------------------------------------------------------------------\u001b[0m",
      "\u001b[0;31mNgException\u001b[0m                               Traceback (most recent call last)",
      "Cell \u001b[0;32mIn[9], line 44\u001b[0m\n\u001b[1;32m     40\u001b[0m nelphys \u001b[38;5;241m=\u001b[39m Cross(nphys,tphys)\n\u001b[1;32m     42\u001b[0m Hn \u001b[38;5;241m=\u001b[39m CoefficientFunction( (u\u001b[38;5;241m.\u001b[39mOperator(\u001b[38;5;124m\"\u001b[39m\u001b[38;5;124mhesseboundary\u001b[39m\u001b[38;5;124m\"\u001b[39m)\u001b[38;5;241m.\u001b[39mtrans\u001b[38;5;241m*\u001b[39mnphys), dims\u001b[38;5;241m=\u001b[39m(\u001b[38;5;241m3\u001b[39m,\u001b[38;5;241m3\u001b[39m) )\n\u001b[0;32m---> 44\u001b[0m cfnphys \u001b[38;5;241m=\u001b[39m Normalize(Cof(\u001b[43mPtau\u001b[49m\u001b[38;5;241;43m+\u001b[39;49m\u001b[43mgrad\u001b[49m\u001b[43m(\u001b[49m\u001b[43msolution\u001b[49m\u001b[38;5;241;43m.\u001b[39;49m\u001b[43mcomponents\u001b[49m\u001b[43m[\u001b[49m\u001b[38;5;241;43m0\u001b[39;49m\u001b[43m]\u001b[49m\u001b[43m)\u001b[49m)\u001b[38;5;241m*\u001b[39mnsurf)\n\u001b[1;32m     46\u001b[0m cfn  \u001b[38;5;241m=\u001b[39m Normalize(CoefficientFunction( averednv\u001b[38;5;241m.\u001b[39mcomponents ))\n\u001b[1;32m     47\u001b[0m cfnR \u001b[38;5;241m=\u001b[39m Normalize(CoefficientFunction( averednv_start\u001b[38;5;241m.\u001b[39mcomponents ))\n",
      "\u001b[0;31mNgException\u001b[0m: Dimensions don't match, op = + dims1 = 0: 3\n1: 3\n, dims2 = 0: 3\n"
     ]
    }
   ],
   "source": [
    "# False -> membrane locking\n",
    "regge = True\n",
    "order = 2\n",
    "\n",
    "fes1 = HDivDivSurface(mesh, order=order-1, discontinuous=True)\n",
    "fes2 = VectorH1(mesh, order=order, dirichletx_bbnd=\"left\", dirichlety_bbnd=\"left|bottom\", dirichletz_bbnd=\"left\")\n",
    "fes3 = HDivSurface(mesh, order=order-1, orderinner=0, dirichlet_bbnd=\"left\")\n",
    "if regge: \n",
    "    fes4 = HCurlCurl(mesh, order=order-1, discontinuous=True)\n",
    "    fes  = fes2*fes1*fes3*fes4*fes4\n",
    "    u,sigma,hyb,C,R = fes.TrialFunction()\n",
    "    sigma, hyb, C, R = sigma.Trace(), hyb.Trace(), C.Trace(), R.Operator(\"dualbnd\")\n",
    "else:\n",
    "    fes  = fes2*fes1*fes3\n",
    "    u,sigma,hyb = fes.TrialFunction()\n",
    "    sigma, hyb = sigma.Trace(), hyb.Trace()\n",
    "\n",
    "fesVF = VectorFacetSurface(mesh, order=order)\n",
    "b = fesVF.TrialFunction()\n",
    "        \n",
    "gfclamped = GridFunction(FacetSurface(mesh,order=0))\n",
    "gfclamped.Set(1,definedon=mesh.BBoundaries(\"left\"))\n",
    "\n",
    "solution = GridFunction(fesVF, name=\"solution\")\n",
    "averednv = GridFunction(fesVF)\n",
    "averednv_start = GridFunction(fesVF)\n",
    "        \n",
    "\n",
    "nsurf = specialcf.normal(mesh.dim)\n",
    "t     = specialcf.tangential(mesh.dim)\n",
    "nel   = Cross(nsurf, t)\n",
    "    \n",
    "Ptau    = Id(mesh.dim) - OuterProduct(nsurf,nsurf)\n",
    "Ftau    = grad(u).Trace() + Ptau\n",
    "Ctau    = Ftau.trans*Ftau\n",
    "Etautau = 0.5*(Ctau - Ptau)\n",
    "\n",
    "nphys   = Normalize(Cof(Ftau)*nsurf)\n",
    "tphys   = Normalize(Ftau*t)\n",
    "nelphys = Cross(nphys,tphys)\n",
    "\n",
    "Hn = CoefficientFunction( (u.Operator(\"hesseboundary\").trans*nphys), dims=(3,3) )\n",
    "\n",
    "cfnphys = Normalize(Cof(Ptau+grad(solution.components[0]))*nsurf)\n",
    "\n",
    "cfn  = Normalize(CoefficientFunction( averednv.components ))\n",
    "cfnR = Normalize(CoefficientFunction( averednv_start.components ))\n",
    "pnaverage = Normalize( cfn - (tphys*cfn)*tphys )"
   ]
  },
  {
   "cell_type": "markdown",
   "metadata": {},
   "source": [
    "$$ \\sum_{T\\in \\mathcal{T}_h}\\int_{\\partial T} b\\cdot\\delta b\\,ds = \\sum_{T\\in \\mathcal{T}_h}\\int_{\\partial T} \\nu^n\\cdot\\delta b\\,ds,\\qquad \\forall \\delta b$$"
   ]
  },
  {
   "cell_type": "code",
   "execution_count": null,
   "metadata": {},
   "outputs": [],
   "source": [
    "bfF = BilinearForm(fesVF, symmetric=True)\n",
    "bfF += Variation( (0.5*b*b - ((1-gfclamped)*cfnphys+gfclamped*nsurf)*b)*ds(element_boundary=True))\n",
    "rf = averednv.vec.CreateVector()\n",
    "bfF.Apply(averednv.vec, rf)\n",
    "bfF.AssembleLinearization(averednv.vec)\n",
    "invF = bfF.mat.Inverse(fesVF.FreeDofs(), inverse=\"sparsecholesky\")\n",
    "averednv.vec.data -= invF*rf\n",
    "averednv_start.vec.data = averednv.vec"
   ]
  },
  {
   "cell_type": "code",
   "execution_count": null,
   "metadata": {},
   "outputs": [],
   "source": [
    "gradn = specialcf.Weingarten(3) #grad(nsurf)\n",
    "\n",
    "def MaterialNorm(mat, E, nu):\n",
    "    return E/(1-nu**2)*((1-nu)*InnerProduct(mat,mat)+nu*Trace(mat)**2)\n",
    "def MaterialNormInv(mat, E, nu):\n",
    "    return (1+nu)/E*(InnerProduct(mat,mat)-nu/(2*nu+1)*Trace(mat)**2)"
   ]
  },
  {
   "cell_type": "code",
   "execution_count": null,
   "metadata": {},
   "outputs": [],
   "source": [
    "bfA = BilinearForm(fes, symmetric=True, condense=True)\n",
    "bfA += Variation( (-6/thickness**3*MaterialNormInv(sigma, E, nu) \\\n",
    "                   + InnerProduct(sigma, Hn + (1-nphys*nsurf)*gradn))*ds ).Compile()\n",
    "if regge:\n",
    "    bfA += Variation( 0.5*thickness*MaterialNorm(C, E, nu)*ds )\n",
    "    bfA += Variation( InnerProduct(C-Etautau, R)*ds(element_vb=BND) )\n",
    "    bfA += Variation( InnerProduct(C-Etautau, R)*ds(element_vb=VOL) )\n",
    "else:\n",
    "    bfA += Variation( 0.5*thickness*MaterialNorm(Etautau, E, nu)*ds )\n",
    "bfA += Variation( -(acos(nel*cfnR)-acos(nelphys*pnaverage)-hyb*nel)*(sigma*nel)*nel*ds(element_boundary=True) ).Compile()\n",
    "par = Parameter(0.0)\n",
    "bfA += Variation( -par*moment*(hyb*nel)*ds(element_boundary=True) )"
   ]
  },
  {
   "cell_type": "code",
   "execution_count": null,
   "metadata": {},
   "outputs": [],
   "source": [
    "par.Set(0.1)\n",
    "bfF.Apply(averednv.vec, rf)\n",
    "bfF.AssembleLinearization(averednv.vec)\n",
    "invF.Update()\n",
    "averednv.vec.data -= invF*rf\n",
    "with TaskManager():\n",
    "    solvers.Newton(bfA, solution, inverse=\"sparsecholesky\", maxerr=1e-10, maxit=20)"
   ]
  },
  {
   "cell_type": "code",
   "execution_count": null,
   "metadata": {
    "scrolled": true
   },
   "outputs": [],
   "source": [
    "Draw(solution.components[0], mesh, \"disp\", deformation=solution.components[0])"
   ]
  },
  {
   "cell_type": "code",
   "execution_count": null,
   "metadata": {},
   "outputs": [],
   "source": [
    "numsteps=10\n",
    "with TaskManager():\n",
    "    for steps in range(1,numsteps):\n",
    "        par.Set((steps+1)/numsteps)\n",
    "        print(\"Loadstep =\", steps+1, \", F/Fmax =\", (steps+1)/numsteps*100, \"%\")\n",
    "        \n",
    "        bfF.Apply(averednv.vec, rf)\n",
    "        bfF.AssembleLinearization(averednv.vec)\n",
    "        invF.Update()\n",
    "        averednv.vec.data -= invF*rf\n",
    "        \n",
    "        (res,numit) = solvers.Newton(bfA, solution, inverse=\"sparsecholesky\", printing=False, maxerr=2e-10)"
   ]
  },
  {
   "cell_type": "code",
   "execution_count": null,
   "metadata": {},
   "outputs": [],
   "source": [
    "Draw(solution.components[0], mesh, \"disp\", deformation=solution.components[0])"
   ]
  },
  {
   "cell_type": "code",
   "execution_count": null,
   "metadata": {},
   "outputs": [],
   "source": [
    "ei = ElementId(BND,2)\n",
    "print (\"len dofs\", len(fes.GetDofNrs(ei)))\n",
    "\n",
    "el = fes.GetFE(ei)\n",
    "print(el.ndof)"
   ]
  },
  {
   "cell_type": "code",
   "execution_count": null,
   "metadata": {},
   "outputs": [],
   "source": [
    "a.AssembleLinearization(gfu.vec)"
   ]
  },
  {
   "cell_type": "code",
   "execution_count": 14,
   "metadata": {},
   "outputs": [
    {
     "ename": "NameError",
     "evalue": "name 'bfA' is not defined",
     "output_type": "error",
     "traceback": [
      "\u001b[0;31m---------------------------------------------------------------------------\u001b[0m",
      "\u001b[0;31mNameError\u001b[0m                                 Traceback (most recent call last)",
      "Cell \u001b[0;32mIn[14], line 1\u001b[0m\n\u001b[0;32m----> 1\u001b[0m fesA \u001b[38;5;241m=\u001b[39m \u001b[43mbfA\u001b[49m\u001b[38;5;241m.\u001b[39mspace\n",
      "\u001b[0;31mNameError\u001b[0m: name 'bfA' is not defined"
     ]
    }
   ],
   "source": [
    "fesA = bfA.space"
   ]
  },
  {
   "cell_type": "code",
   "execution_count": null,
   "metadata": {},
   "outputs": [],
   "source": [
    "print (\"len dofs\", len(fesA.GetDofNrs(ei)))\n",
    "el = fesA.GetFE(ei)\n",
    "print(el.ndof)"
   ]
  },
  {
   "cell_type": "code",
   "execution_count": 13,
   "metadata": {},
   "outputs": [
    {
     "ename": "NameError",
     "evalue": "name 'fesA' is not defined",
     "output_type": "error",
     "traceback": [
      "\u001b[0;31m---------------------------------------------------------------------------\u001b[0m",
      "\u001b[0;31mNameError\u001b[0m                                 Traceback (most recent call last)",
      "Cell \u001b[0;32mIn[13], line 1\u001b[0m\n\u001b[0;32m----> 1\u001b[0m \u001b[38;5;28mprint\u001b[39m (\u001b[43mfesA\u001b[49m\u001b[38;5;241m.\u001b[39mcomponents)\n\u001b[1;32m      2\u001b[0m \u001b[38;5;28;01mfor\u001b[39;00m cfes \u001b[38;5;129;01min\u001b[39;00m fesA\u001b[38;5;241m.\u001b[39mcomponents:\n\u001b[1;32m      3\u001b[0m     \u001b[38;5;28mprint\u001b[39m (\u001b[38;5;124m\"\u001b[39m\u001b[38;5;124mlen dof\u001b[39m\u001b[38;5;124m\"\u001b[39m, \u001b[38;5;28mlen\u001b[39m(cfes\u001b[38;5;241m.\u001b[39mGetDofNrs(ei)))\n",
      "\u001b[0;31mNameError\u001b[0m: name 'fesA' is not defined"
     ]
    }
   ],
   "source": [
    "print (fesA.components)\n",
    "for cfes in fesA.components:\n",
    "    print (\"len dof\", len(cfes.GetDofNrs(ei)))\n",
    "    el = cfes.GetFE(ei)\n",
    "    print (el.ndof)"
   ]
  },
  {
   "cell_type": "code",
   "execution_count": null,
   "metadata": {},
   "outputs": [],
   "source": [
    "print (fesA.components[-1])"
   ]
  },
  {
   "cell_type": "code",
   "execution_count": 12,
   "metadata": {},
   "outputs": [
    {
     "data": {
      "text/plain": [
       "(('default',), ('bottom', 'right', 'top', 'left'))"
      ]
     },
     "execution_count": 12,
     "metadata": {},
     "output_type": "execute_result"
    }
   ],
   "source": [
    "mesh.GetBoundaries(), mesh.GetBBoundaries()"
   ]
  },
  {
   "cell_type": "code",
   "execution_count": null,
   "metadata": {},
   "outputs": [],
   "source": []
  }
 ],
 "metadata": {
  "kernelspec": {
   "display_name": "Python 3 (ipykernel)",
   "language": "python",
   "name": "python3"
  },
  "language_info": {
   "codemirror_mode": {
    "name": "ipython",
    "version": 3
   },
   "file_extension": ".py",
   "mimetype": "text/x-python",
   "name": "python",
   "nbconvert_exporter": "python",
   "pygments_lexer": "ipython3",
   "version": "3.13.1"
  }
 },
 "nbformat": 4,
 "nbformat_minor": 4
}
