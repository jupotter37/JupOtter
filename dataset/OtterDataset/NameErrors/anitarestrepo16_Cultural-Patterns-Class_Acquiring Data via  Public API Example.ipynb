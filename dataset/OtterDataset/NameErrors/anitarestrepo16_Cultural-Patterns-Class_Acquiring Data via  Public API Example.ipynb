{
 "cells": [
  {
   "cell_type": "markdown",
   "metadata": {},
   "source": [
    "# Acquiring Data via Public API Practice: Using Google Books API\n",
    "\n",
    "APIs can be used to programmatically access data in a standardized way. In this exercise, we will access metadata about books via the Google Books API. We can access book metadata by entering the ISBN number of each book after the \"isbn:\" portion of the Google Books API url. We can do this manually in our search bar (or by clicking the link returned below) and see that we receive JSON data in return. We can also do this programmatically and automate this \"request\" of data via the Python \"Requests\" library."
   ]
  },
  {
   "cell_type": "code",
   "execution_count": 1,
   "metadata": {},
   "outputs": [],
   "source": [
    "import requests #load data from API into python using requests library"
   ]
  },
  {
   "cell_type": "code",
   "execution_count": 3,
   "metadata": {},
   "outputs": [
    {
     "name": "stdout",
     "output_type": "stream",
     "text": [
      "https://www.googleapis.com/books/v1/volumes?q=isbn:9780486202174\n"
     ]
    }
   ],
   "source": [
    "#have base uRL and then have certain options to specify what we want to get from book\n",
    "isbn = '9780486202174'\n",
    "base_url = 'https://www.googleapis.com/books/v1/volumes?q=isbn:'\n",
    "print(base_url+isbn)"
   ]
  },
  {
   "cell_type": "markdown",
   "metadata": {},
   "source": [
    "******"
   ]
  },
  {
   "cell_type": "markdown",
   "metadata": {},
   "source": [
    "Usually need password or key\n",
    "interfaces that a computer can directly interact with data source - dwnload it programatically via python\n",
    "google has googlebooks api where you can query info associated with a book\n",
    "if click on link:\n",
    "    dictionary format (json) so we can query document easily"
   ]
  },
  {
   "cell_type": "code",
   "execution_count": 1,
   "metadata": {},
   "outputs": [
    {
     "ename": "NameError",
     "evalue": "name 'requests' is not defined",
     "output_type": "error",
     "traceback": [
      "\u001b[0;31m---------------------------------------------------------------------------\u001b[0m",
      "\u001b[0;31mNameError\u001b[0m                                 Traceback (most recent call last)",
      "\u001b[0;32m<ipython-input-1-2eebdc879f39>\u001b[0m in \u001b[0;36m<module>\u001b[0;34m\u001b[0m\n\u001b[0;32m----> 1\u001b[0;31m \u001b[0mr\u001b[0m\u001b[0;34m=\u001b[0m \u001b[0mrequests\u001b[0m\u001b[0;34m.\u001b[0m\u001b[0mget\u001b[0m\u001b[0;34m(\u001b[0m\u001b[0murl\u001b[0m \u001b[0;34m=\u001b[0m \u001b[0mbase_url\u001b[0m\u001b[0;34m+\u001b[0m\u001b[0misbn\u001b[0m\u001b[0;34m)\u001b[0m \u001b[0;31m#use request library to get the URL\u001b[0m\u001b[0;34m\u001b[0m\u001b[0;34m\u001b[0m\u001b[0m\n\u001b[0m\u001b[1;32m      2\u001b[0m \u001b[0mdata\u001b[0m \u001b[0;34m=\u001b[0m \u001b[0mr\u001b[0m\u001b[0;34m.\u001b[0m\u001b[0mjson\u001b[0m\u001b[0;34m(\u001b[0m\u001b[0;34m)\u001b[0m \u001b[0;31m#tell computer it is a json file\u001b[0m\u001b[0;34m\u001b[0m\u001b[0;34m\u001b[0m\u001b[0m\n",
      "\u001b[0;31mNameError\u001b[0m: name 'requests' is not defined"
     ]
    }
   ],
   "source": [
    "r= requests.get(url = base_url+isbn) #use request library to get the URL\n",
    "data = r.json() #tell computer it is a json file\n",
    "data['items'][0]['volumeInfo']['title'] #index info in API\n",
    "#other way to do this (more common)\n",
    "api_url = 'https://www.googleapis.com/books/v1/volumes' #address of API\n",
    "parameters = {'q', 'isbn:9780486202174'} #specify what parameters you want to pull out - q for query and then the item\n",
    "r = requests.get(url = api_url, params= parameters) #use same requests package \n",
    "data = r.json()\n",
    "#to get authorization - click button and they send you an email\n",
    "r = requests.get(url=api_url, params = parameters, auth=) #auth allows you to put your password in to access\n",
    "\n"
   ]
  },
  {
   "cell_type": "markdown",
   "metadata": {},
   "source": []
  }
 ],
 "metadata": {
  "kernelspec": {
   "display_name": "Python 3",
   "language": "python",
   "name": "python3"
  },
  "language_info": {
   "codemirror_mode": {
    "name": "ipython",
    "version": 3
   },
   "file_extension": ".py",
   "mimetype": "text/x-python",
   "name": "python",
   "nbconvert_exporter": "python",
   "pygments_lexer": "ipython3",
   "version": "3.7.3"
  }
 },
 "nbformat": 4,
 "nbformat_minor": 2
}
