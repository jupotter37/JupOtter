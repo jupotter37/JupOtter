{
 "cells": [
  {
   "cell_type": "code",
   "execution_count": 2,
   "metadata": {
    "collapsed": true
   },
   "outputs": [],
   "source": [
    "#dependencies\n",
    "import numpy as np\n",
    "import utils\n",
    "import pickle\n",
    "import os\n",
    "import re\n",
    "\n",
    "\n",
    "import tensorflow as tf\n",
    "import vgg16\n",
    "\n",
    "\n",
    "\n",
    "######### constants\n",
    "# required vgg image sizes \n",
    "VGG_SIZE_X = 224\n",
    "VGG_SIZE_Y = 224\n",
    "VGG_SIZE_Z = 3\n",
    "\n",
    "# constants for the images\n",
    "NUM_VIEWS = 40\n",
    "\n",
    "\n"
   ]
  },
  {
   "cell_type": "code",
   "execution_count": 3,
   "metadata": {
    "collapsed": true
   },
   "outputs": [],
   "source": [
    "\n",
    "# to test how the utils.load_image was cutting the image off \n",
    "%matplotlib inline\n",
    "from scipy.misc import imread, imresize\n",
    "import matplotlib.pyplot as plt\n",
    "import matplotlib.image as mpimg\n"
   ]
  },
  {
   "cell_type": "code",
   "execution_count": 34,
   "metadata": {},
   "outputs": [],
   "source": [
    "# parses a foldername to return the relevant info. returns -1 if file is not a png or the filename is ill-formed\n",
    "def parseFileName(filename):\n",
    "    \n",
    "    # ignore DS_Store files \n",
    "    if filename == \".DS_Store\": \n",
    "        return -1\n",
    "    \n",
    "    \n",
    "    fileInfo = filename.split(\"_\")\n",
    "    \n",
    "    [target, fileType] = fileInfo[-1].split(\".\")\n",
    "    \n",
    "    # ignore csv's \n",
    "    if fileType == \"csv\": \n",
    "        return -1 \n",
    "    \n",
    "    if fileType == \"png\":\n",
    "        \n",
    "        subjectID = fileInfo[0] \n",
    "        trial = fileInfo[-2]\n",
    "        \n",
    "        \n",
    "        return (subjectID, trial, target) \n",
    "        \n",
    "    print \"error: filename syntax incorrect\" \n",
    "    return -1\n",
    "        \n",
    "    "
   ]
  },
  {
   "cell_type": "code",
   "execution_count": 59,
   "metadata": {
    "collapsed": true
   },
   "outputs": [],
   "source": [
    "# takes a batch and makes them into manageable 160 rows \n",
    "def splitBatches(full_batch, sz):\n",
    "    num_batches = full_batch.shape[0]/sz; \n",
    "    num_remainder = full_batch.shape[0]%sz\n",
    "\n",
    "    batch = []\n",
    "\n",
    "    for batch_i in xrange(0,num_batches):\n",
    "        batch.append(full_batch[batch_i * sz: (batch_i + 1) * sz])\n",
    "\n",
    "\n",
    "    if num_remainder != 0: \n",
    "        batch.append(full_batch[(-1 * num_remainder):])\n",
    "        \n",
    "        \n",
    "    return batch\n"
   ]
  },
  {
   "cell_type": "code",
   "execution_count": 35,
   "metadata": {},
   "outputs": [
    {
     "name": "stdout",
     "output_type": "stream",
     "text": [
      "Downloading sketches from: ./sketch_data_small\n",
      "Downloading sketches from: ./sketch_data_small/0110171_neurosketch\n",
      "Downloading sketches from: ./sketch_data_small/0110172_neurosketch\n",
      "Downloading sketches from: ./sketch_data_small/0111171_neurosketch\n",
      "Downloading sketches from: ./sketch_data_small/0112171_neurosketch\n",
      "Downloading sketches from: ./sketch_data_small/0112172_neurosketch\n",
      "Downloading sketches from: ./sketch_data_small/0112173_neurosketch\n",
      "Downloading sketches from: ./sketch_data_small/0113171_neurosketch\n",
      "Downloading sketches from: ./sketch_data_small/0115172_neurosketch\n"
     ]
    }
   ],
   "source": [
    "full_batch = np.empty((0, VGG_SIZE_X, VGG_SIZE_Y, VGG_SIZE_Z), float)\n",
    "target = [] \n",
    "sketch_folder = './sketch_data_small'\n",
    "for folderName, subfolders, filenames in os.walk(sketch_folder):\n",
    "    print ('Downloading sketches from: '  + folderName)\n",
    "    \n",
    "    # skip the sketch_data folder. \n",
    "    if folderName == sketch_folder: \n",
    "        continue\n",
    "    \n",
    "    \n",
    "\n",
    "    for filename in filenames: \n",
    "        \n",
    "        \n",
    "        if parseFileName(filename) != -1: \n",
    "            [subjectID_i, trial_i, target_i] = parseFileName(filename)\n",
    "            target.append(target_i)\n",
    "            \n",
    "            img = utils.load_image(folderName + '/' + filename)\n",
    "            \n",
    "            # take out the fourth dimension, alpha, which controls transparency\n",
    "            img = img[:,:,:3]\n",
    "            \n",
    "            img = img.reshape(1, VGG_SIZE_X, VGG_SIZE_Y, VGG_SIZE_Z)\n",
    "            full_batch = np.concatenate((full_batch, img))            \n",
    "        \n",
    "#         print ('FILE INSIDE ' + folderName + ':' + filename) \n"
   ]
  },
  {
   "cell_type": "code",
   "execution_count": 60,
   "metadata": {},
   "outputs": [
    {
     "name": "stdout",
     "output_type": "stream",
     "text": [
      "(301, 224, 224, 3)\n"
     ]
    }
   ],
   "source": [
    "print full_batch.shape\n",
    "batch = splitBatches(full_batch, 160);"
   ]
  },
  {
   "cell_type": "code",
   "execution_count": 63,
   "metadata": {},
   "outputs": [
    {
     "name": "stdout",
     "output_type": "stream",
     "text": [
      "(141, 224, 224, 3)\n",
      "(160, 224, 224, 3)\n",
      "301\n"
     ]
    }
   ],
   "source": []
  },
  {
   "cell_type": "markdown",
   "metadata": {},
   "source": [
    "# for 3D drawings "
   ]
  },
  {
   "cell_type": "code",
   "execution_count": 3,
   "metadata": {},
   "outputs": [
    {
     "name": "stderr",
     "output_type": "stream",
     "text": [
      "/Users/sasha/anaconda/envs/firstve/lib/python2.7/site-packages/skimage/transform/_warps.py:84: UserWarning: The default mode, 'constant', will be changed to 'reflect' in skimage 0.15.\n",
      "  warn(\"The default mode, 'constant', will be changed to 'reflect' in \"\n"
     ]
    },
    {
     "ename": "NameError",
     "evalue": "name 'imgloc' is not defined",
     "output_type": "error",
     "traceback": [
      "\u001b[0;31m---------------------------------------------------------------------------\u001b[0m",
      "\u001b[0;31mNameError\u001b[0m                                 Traceback (most recent call last)",
      "\u001b[0;32m<ipython-input-3-ba2abe9f06d3>\u001b[0m in \u001b[0;36m<module>\u001b[0;34m()\u001b[0m\n\u001b[1;32m      1\u001b[0m \u001b[0mimg1\u001b[0m \u001b[0;34m=\u001b[0m \u001b[0mutils\u001b[0m\u001b[0;34m.\u001b[0m\u001b[0mload_image\u001b[0m\u001b[0;34m(\u001b[0m\u001b[0;34m\"./test_data/limoToSUV_40_15.png.png\"\u001b[0m\u001b[0;34m)\u001b[0m\u001b[0;34m\u001b[0m\u001b[0m\n\u001b[0;32m----> 2\u001b[0;31m \u001b[0mimg1\u001b[0m \u001b[0;34m=\u001b[0m \u001b[0mutils\u001b[0m\u001b[0;34m.\u001b[0m\u001b[0mload_image\u001b[0m\u001b[0;34m(\u001b[0m\u001b[0mimgloc\u001b[0m\u001b[0;34m)\u001b[0m\u001b[0;34m\u001b[0m\u001b[0m\n\u001b[0m\u001b[1;32m      3\u001b[0m \u001b[0;34m\u001b[0m\u001b[0m\n\u001b[1;32m      4\u001b[0m \u001b[0mbatch1\u001b[0m \u001b[0;34m=\u001b[0m \u001b[0mimg1\u001b[0m\u001b[0;34m.\u001b[0m\u001b[0mreshape\u001b[0m\u001b[0;34m(\u001b[0m\u001b[0;34m(\u001b[0m\u001b[0;36m1\u001b[0m\u001b[0;34m,\u001b[0m \u001b[0;36m224\u001b[0m\u001b[0;34m,\u001b[0m \u001b[0;36m224\u001b[0m\u001b[0;34m,\u001b[0m \u001b[0;36m3\u001b[0m\u001b[0;34m)\u001b[0m\u001b[0;34m)\u001b[0m\u001b[0;34m\u001b[0m\u001b[0m\n\u001b[1;32m      5\u001b[0m \u001b[0;34m\u001b[0m\u001b[0m\n",
      "\u001b[0;31mNameError\u001b[0m: name 'imgloc' is not defined"
     ]
    }
   ],
   "source": [
    "img1 = utils.load_image(\"./test_data/limoToSUV_40_15.png.png\")\n",
    "\n",
    "batch1 = img1.reshape((1, 224, 224, 3))\n",
    "\n",
    "\n",
    "imgplot = plt.imshow(img1)"
   ]
  },
  {
   "cell_type": "code",
   "execution_count": 4,
   "metadata": {
    "collapsed": true
   },
   "outputs": [],
   "source": [
    "# to upload multiple images\n",
    "\n",
    "cars = ['limoToSUV_10','limoToSUV_99','smartToSedan_10','smartToSedan_99'];\n",
    "\n",
    "batch = np.empty((0, VGG_SIZE_X, VGG_SIZE_Y, VGG_SIZE_Z), float)\n",
    "for car in cars:  \n",
    "    for view in xrange(0,NUM_VIEWS):\n",
    "        imgloc ='https://s3.amazonaws.com/morphrecog-images-1/' + car + '_' + str(view) + '.png.png'\n",
    "        img = utils.load_image(imgloc)\n",
    "        img = img.reshape(1, VGG_SIZE_X, VGG_SIZE_Y, VGG_SIZE_Z)\n",
    "        batch = np.concatenate((batch, img))\n",
    "        \n",
    "\n",
    "        \n",
    "    \n"
   ]
  },
  {
   "cell_type": "code",
   "execution_count": 5,
   "metadata": {},
   "outputs": [
    {
     "name": "stdout",
     "output_type": "stream",
     "text": [
      "4\n",
      "4\n"
     ]
    }
   ],
   "source": [
    "# smaller batch for testing first\n",
    "print batch.shape[0]\n",
    "batch_mini = batch[:4,:,:,:]\n",
    "print batch_mini.shape[0]\n",
    "\n"
   ]
  },
  {
   "cell_type": "code",
   "execution_count": 38,
   "metadata": {},
   "outputs": [
    {
     "name": "stdout",
     "output_type": "stream",
     "text": [
      "/Users/sasha/Documents/sketchfeat/vgg16.npy\n",
      "npy file loaded\n",
      "build model started\n",
      "build model finished: 0s\n",
      "('Top1: ', 'n06874185 traffic light, traffic signal, stoplight', 0.14844851)\n",
      "('Top5: ', [('n06874185 traffic light, traffic signal, stoplight', 0.14844851), ('n03888257 parachute, chute', 0.11877364), ('n06794110 street sign', 0.063110836), ('n03196217 digital clock', 0.060147222), ('n02692877 airship, dirigible', 0.050069682)])\n",
      "('Top1: ', 'n04372370 switch, electric switch, electrical switch', 0.11865977)\n",
      "('Top5: ', [('n04372370 switch, electric switch, electrical switch', 0.11865977), ('n03908714 pencil sharpener', 0.10766301), ('n03197337 digital watch', 0.044002518), ('n03532672 hook, claw', 0.042642605), ('n03888257 parachute, chute', 0.04160925)])\n",
      "('Top1: ', 'n02769748 backpack, back pack, knapsack, packsack, rucksack, haversack', 0.32263377)\n",
      "('Top5: ', [('n02769748 backpack, back pack, knapsack, packsack, rucksack, haversack', 0.32263377), ('n03709823 mailbag, postbag', 0.18694045), ('n04026417 purse', 0.17736052), ('n04204238 shopping basket', 0.043660901), ('n03803284 muzzle', 0.019701876)])\n",
      "('Top1: ', 'n03908714 pencil sharpener', 0.10086215)\n",
      "('Top5: ', [('n03908714 pencil sharpener', 0.10086215), ('n04037443 racer, race car, racing car', 0.077036969), ('n03888257 parachute, chute', 0.048682895), ('n04285008 sports car, sport car', 0.048086274), ('n04371774 swing', 0.042532496)])\n"
     ]
    }
   ],
   "source": [
    "# with tf.Session(config=tf.ConfigProto(gpu_options=(tf.GPUOptions(per_process_gpu_memory_fraction=0.7)))) as sess:\n",
    "with tf.device('/cpu:0'):\n",
    "#with tf.device('/gpu:0'): # to add this when I use the gpu version \n",
    "    with tf.Session() as sess:\n",
    "        image = tf.placeholder(\"float\", [batch_mini.shape[0], VGG_SIZE_X, VGG_SIZE_Y, VGG_SIZE_Z])\n",
    "        \n",
    "        feed_dict = {image: batch_mini}\n",
    "\n",
    "        vgg = vgg16.Vgg16()\n",
    "        with tf.name_scope(\"content_vgg\"):\n",
    "            vgg.build(image)\n",
    "\n",
    "        act_wanted = [vgg.pool1, vgg.pool2, vgg.prob]\n",
    "        act = sess.run(act_wanted, feed_dict=feed_dict)\n",
    "\n",
    "        for i in xrange(0, batch_mini.shape[0]):\n",
    "            utils.print_prob(act[2][i], './synset.txt')\n",
    "        \n",
    "       \n",
    "\n",
    "    "
   ]
  },
  {
   "cell_type": "code",
   "execution_count": 45,
   "metadata": {
    "collapsed": true
   },
   "outputs": [],
   "source": [
    "act_test = pickle.load(open('act_test.p', 'rb'))"
   ]
  },
  {
   "cell_type": "code",
   "execution_count": null,
   "metadata": {
    "collapsed": true
   },
   "outputs": [],
   "source": []
  }
 ],
 "metadata": {
  "kernelspec": {
   "display_name": "Python 2",
   "language": "python",
   "name": "python2"
  },
  "language_info": {
   "codemirror_mode": {
    "name": "ipython",
    "version": 2
   },
   "file_extension": ".py",
   "mimetype": "text/x-python",
   "name": "python",
   "nbconvert_exporter": "python",
   "pygments_lexer": "ipython2",
   "version": "2.7.13"
  }
 },
 "nbformat": 4,
 "nbformat_minor": 2
}
