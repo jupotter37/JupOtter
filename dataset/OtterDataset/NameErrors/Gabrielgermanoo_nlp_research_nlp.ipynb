{
 "cells": [
  {
   "cell_type": "markdown",
   "metadata": {},
   "source": [
    "# Using NLTK"
   ]
  },
  {
   "cell_type": "code",
   "execution_count": 1,
   "metadata": {},
   "outputs": [],
   "source": [
    "import pandas as pd\n",
    "import re\n",
    "import nltk\n",
    "from nltk.tokenize import word_tokenize\n",
    "from nltk.probability import FreqDist"
   ]
  },
  {
   "cell_type": "markdown",
   "metadata": {},
   "source": [
    "## Filtering for ENEPET"
   ]
  },
  {
   "cell_type": "code",
   "execution_count": 6,
   "metadata": {},
   "outputs": [
    {
     "data": {
      "text/html": [
       "<div>\n",
       "<style scoped>\n",
       "    .dataframe tbody tr th:only-of-type {\n",
       "        vertical-align: middle;\n",
       "    }\n",
       "\n",
       "    .dataframe tbody tr th {\n",
       "        vertical-align: top;\n",
       "    }\n",
       "\n",
       "    .dataframe thead th {\n",
       "        text-align: right;\n",
       "    }\n",
       "</style>\n",
       "<table border=\"1\" class=\"dataframe\">\n",
       "  <thead>\n",
       "    <tr style=\"text-align: right;\">\n",
       "      <th></th>\n",
       "      <th>id</th>\n",
       "      <th>evento</th>\n",
       "      <th>tematicas</th>\n",
       "      <th>responsaveis</th>\n",
       "      <th>descricao</th>\n",
       "    </tr>\n",
       "  </thead>\n",
       "  <tbody>\n",
       "    <tr>\n",
       "      <th>82</th>\n",
       "      <td>94</td>\n",
       "      <td>Grupo de Trabalho (GT) I - ENEPET 2018</td>\n",
       "      <td>deliberacoes.Tematica.None</td>\n",
       "      <td>deliberacoes.Responsavel.None</td>\n",
       "      <td>Que a comissão organizadora dos eventos region...</td>\n",
       "    </tr>\n",
       "    <tr>\n",
       "      <th>166</th>\n",
       "      <td>181</td>\n",
       "      <td>GDT 4 - ENEPET 2020</td>\n",
       "      <td>deliberacoes.Tematica.None</td>\n",
       "      <td>deliberacoes.Responsavel.None</td>\n",
       "      <td>Sugerem-se que os petianos discentes, juntamen...</td>\n",
       "    </tr>\n",
       "    <tr>\n",
       "      <th>167</th>\n",
       "      <td>182</td>\n",
       "      <td>GDT 4 - ENEPET 2020</td>\n",
       "      <td>deliberacoes.Tematica.None</td>\n",
       "      <td>deliberacoes.Responsavel.None</td>\n",
       "      <td>Sugere-se que os grupos PET incluam atividade(...</td>\n",
       "    </tr>\n",
       "    <tr>\n",
       "      <th>168</th>\n",
       "      <td>183</td>\n",
       "      <td>GDT 4 - ENEPET 2020</td>\n",
       "      <td>deliberacoes.Tematica.None</td>\n",
       "      <td>deliberacoes.Responsavel.None</td>\n",
       "      <td>Sugerimos que os grupos PET criem canais de co...</td>\n",
       "    </tr>\n",
       "    <tr>\n",
       "      <th>169</th>\n",
       "      <td>184</td>\n",
       "      <td>GDT 3 - ENEPET 2020</td>\n",
       "      <td>deliberacoes.Tematica.None</td>\n",
       "      <td>deliberacoes.Responsavel.None</td>\n",
       "      <td>Que a partir deste ENEPET 2020, os anais de pu...</td>\n",
       "    </tr>\n",
       "  </tbody>\n",
       "</table>\n",
       "</div>"
      ],
      "text/plain": [
       "      id                                  evento                   tematicas  \\\n",
       "82    94  Grupo de Trabalho (GT) I - ENEPET 2018  deliberacoes.Tematica.None   \n",
       "166  181                     GDT 4 - ENEPET 2020  deliberacoes.Tematica.None   \n",
       "167  182                     GDT 4 - ENEPET 2020  deliberacoes.Tematica.None   \n",
       "168  183                     GDT 4 - ENEPET 2020  deliberacoes.Tematica.None   \n",
       "169  184                     GDT 3 - ENEPET 2020  deliberacoes.Tematica.None   \n",
       "\n",
       "                      responsaveis  \\\n",
       "82   deliberacoes.Responsavel.None   \n",
       "166  deliberacoes.Responsavel.None   \n",
       "167  deliberacoes.Responsavel.None   \n",
       "168  deliberacoes.Responsavel.None   \n",
       "169  deliberacoes.Responsavel.None   \n",
       "\n",
       "                                             descricao  \n",
       "82   Que a comissão organizadora dos eventos region...  \n",
       "166  Sugerem-se que os petianos discentes, juntamen...  \n",
       "167  Sugere-se que os grupos PET incluam atividade(...  \n",
       "168  Sugerimos que os grupos PET criem canais de co...  \n",
       "169  Que a partir deste ENEPET 2020, os anais de pu...  "
      ]
     },
     "execution_count": 6,
     "metadata": {},
     "output_type": "execute_result"
    }
   ],
   "source": [
    "df = pd.read_csv('dados.csv', sep=',')\n",
    "evento_df = df[['evento']]\n",
    "evento_df.head()"
   ]
  },
  {
   "cell_type": "markdown",
   "metadata": {},
   "source": [
    "## Pre processing text\n"
   ]
  },
  {
   "cell_type": "markdown",
   "metadata": {},
   "source": [
    "### Stopwords"
   ]
  },
  {
   "cell_type": "code",
   "execution_count": null,
   "metadata": {},
   "outputs": [],
   "source": [
    "def find_words(text):\n",
    "    for t in text:\n",
    "        t = ''.join(letter for letter in t if letter.isalnum())\n",
    "    return text"
   ]
  },
  {
   "cell_type": "code",
   "execution_count": 15,
   "metadata": {},
   "outputs": [
    {
     "data": {
      "text/plain": [
       "82     que a comissão organizadora dos eventos region...\n",
       "166    sugerem-se que os petianos discentes, juntamen...\n",
       "167    sugere-se que os grupos pet incluam atividade(...\n",
       "168    sugerimos que os grupos pet criem canais de co...\n",
       "169    que a partir deste enepet 2020, os anais de pu...\n",
       "Name: descricao, dtype: object"
      ]
     },
     "execution_count": 15,
     "metadata": {},
     "output_type": "execute_result"
    }
   ],
   "source": [
    "words_lower = evento_df['descricao'].str.lower()\n",
    "words_lower.head()"
   ]
  },
  {
   "cell_type": "code",
   "execution_count": 16,
   "metadata": {},
   "outputs": [
    {
     "name": "stderr",
     "output_type": "stream",
     "text": [
      "[nltk_data] Downloading package stopwords to\n",
      "[nltk_data]     C:\\Users\\Gabriel\\AppData\\Roaming\\nltk_data...\n",
      "[nltk_data]   Package stopwords is already up-to-date!\n"
     ]
    },
    {
     "data": {
      "text/plain": [
       "['5.2-que',\n",
       " 'cada',\n",
       " 'grupo',\n",
       " 'pet',\n",
       " ',',\n",
       " 'a',\n",
       " 'partir',\n",
       " 'desse',\n",
       " 'evento',\n",
       " 'crie',\n",
       " 'uma',\n",
       " 'comissão',\n",
       " 'do',\n",
       " 'mobiliza',\n",
       " 'e',\n",
       " 'uma',\n",
       " 'do',\n",
       " 'diversifica',\n",
       " 'composta',\n",
       " 'por',\n",
       " 'pelo',\n",
       " 'menos',\n",
       " 'dois',\n",
       " 'ou',\n",
       " 'três',\n",
       " 'integrantes',\n",
       " ',',\n",
       " 'compondo',\n",
       " '12',\n",
       " 'assim',\n",
       " 'uma',\n",
       " 'comissão',\n",
       " 'interna',\n",
       " 'que',\n",
       " 'atuará',\n",
       " 'para',\n",
       " 'fortalecer',\n",
       " 'o',\n",
       " 'comitê',\n",
       " 'local',\n",
       " '.',\n",
       " 'votos',\n",
       " 'via',\n",
       " 'assembleia',\n",
       " 'assíncrona',\n",
       " ':',\n",
       " '(',\n",
       " 'aprovação',\n",
       " '37,5',\n",
       " '%',\n",
       " ',',\n",
       " 'alteração',\n",
       " '1,9',\n",
       " '%',\n",
       " ',',\n",
       " 'informação',\n",
       " '1,9',\n",
       " '%',\n",
       " ',',\n",
       " 'discussão',\n",
       " '7,5',\n",
       " '%',\n",
       " ',',\n",
       " 'contrário',\n",
       " '19,7',\n",
       " '%',\n",
       " ',',\n",
       " 'abstenção',\n",
       " '31,6',\n",
       " '%',\n",
       " ')',\n",
       " 'proposta',\n",
       " 'de',\n",
       " 'alteração',\n",
       " ':',\n",
       " 'que',\n",
       " 'os',\n",
       " 'grupos',\n",
       " 'pets',\n",
       " 'do',\n",
       " 'nordeste',\n",
       " ',',\n",
       " 'a',\n",
       " 'partir',\n",
       " 'da',\n",
       " 'aprovação',\n",
       " 'deste',\n",
       " 'encaminhamento',\n",
       " 'na',\n",
       " 'assembleia',\n",
       " 'final',\n",
       " 'do',\n",
       " 'xix',\n",
       " 'enepet',\n",
       " ',',\n",
       " 'e',\n",
       " 'demais',\n",
       " 'regiões',\n",
       " 'do',\n",
       " 'brasil',\n",
       " ',',\n",
       " 'a',\n",
       " 'partir',\n",
       " 'da',\n",
       " 'aprovação',\n",
       " 'na',\n",
       " 'assembleia',\n",
       " 'geral',\n",
       " 'do',\n",
       " 'xxv',\n",
       " 'enapet',\n",
       " ',',\n",
       " 'se',\n",
       " 'articulem',\n",
       " 'de',\n",
       " 'forma',\n",
       " 'a',\n",
       " 'construir',\n",
       " 'comissões',\n",
       " 'para',\n",
       " 'o',\n",
       " 'diversifica',\n",
       " 'pet/comissão',\n",
       " 'de',\n",
       " 'diversidades',\n",
       " 'composta',\n",
       " 'por',\n",
       " 'a',\n",
       " 'partir',\n",
       " 'de',\n",
       " 'dois/duas',\n",
       " 'petianos',\n",
       " '(',\n",
       " 'as',\n",
       " ')',\n",
       " '.',\n",
       " 'sendo',\n",
       " 'um',\n",
       " '(',\n",
       " 'a',\n",
       " ')',\n",
       " 'petiana',\n",
       " '(',\n",
       " 'o',\n",
       " ')',\n",
       " 'efetivo',\n",
       " '(',\n",
       " 'a',\n",
       " ')',\n",
       " 'e',\n",
       " 'um',\n",
       " '(',\n",
       " 'a',\n",
       " ')',\n",
       " 'vice',\n",
       " ',',\n",
       " 'tendo',\n",
       " 'ambos',\n",
       " '(',\n",
       " 'as',\n",
       " ')',\n",
       " 'igual',\n",
       " 'poder',\n",
       " 'de',\n",
       " 'representação',\n",
       " '.',\n",
       " 'deve-se',\n",
       " 'visar',\n",
       " ',',\n",
       " 'com',\n",
       " 'essa',\n",
       " 'estratégia',\n",
       " ',',\n",
       " 'construir',\n",
       " 'uma',\n",
       " 'estrutura',\n",
       " 'de',\n",
       " 'sustentação',\n",
       " 'para',\n",
       " 'uma',\n",
       " 'mobilização',\n",
       " 'que',\n",
       " 'siga',\n",
       " 'a',\n",
       " 'seguinte',\n",
       " 'sequência',\n",
       " ':',\n",
       " 'grupo',\n",
       " 'pet',\n",
       " '>',\n",
       " 'ies',\n",
       " '>',\n",
       " 'estado',\n",
       " '>',\n",
       " 'região',\n",
       " '>',\n",
       " 'nacional',\n",
       " ',',\n",
       " 'tendo',\n",
       " 'cada',\n",
       " 'seção',\n",
       " 'também',\n",
       " 'dois/duas',\n",
       " 'representantes',\n",
       " 'organizados',\n",
       " '(',\n",
       " 'as',\n",
       " ')',\n",
       " 'de',\n",
       " 'forma',\n",
       " 'a',\n",
       " 'não',\n",
       " 'haver',\n",
       " 'acúmulo',\n",
       " 'de',\n",
       " 'funções',\n",
       " 'na',\n",
       " 'instância',\n",
       " 'do',\n",
       " 'diversifica',\n",
       " 'pet',\n",
       " \"''\",\n",
       " '.',\n",
       " '(',\n",
       " 'alteração',\n",
       " 'aprovada',\n",
       " 'por',\n",
       " 'maioria',\n",
       " 'na',\n",
       " 'assembleia',\n",
       " 'síncrona',\n",
       " ')']"
      ]
     },
     "execution_count": 16,
     "metadata": {},
     "output_type": "execute_result"
    }
   ],
   "source": [
    "nltk.download('stopwords')\n",
    "stopwords = nltk.corpus.stopwords.words('portuguese')\n",
    "for w in words_lower:\n",
    "    tokens = word_tokenize(w)\n",
    "wnl = nltk.WordNetLemmatizer()\n",
    "[wnl.lemmatize(t) for t in tokens]\n"
   ]
  },
  {
   "cell_type": "markdown",
   "metadata": {},
   "source": [
    "#### Generating tokens"
   ]
  },
  {
   "cell_type": "code",
   "execution_count": 6,
   "metadata": {},
   "outputs": [
    {
     "name": "stdout",
     "output_type": "stream",
     "text": [
      "['que', 'a', 'comissão', 'organizadora', 'dos', 'eventos', 'regionais', 'reserve', 'um', 'espaço', 'na', 'programação', 'para', 'que', 'haja', 'reunião', 'entre', 'os', 'representantes', 'estaduais', 'e', 'membros', 'da', 'diretoria', 'e', 'conselho', 'da', 'cenapet', '.', '(', 'aprovada', 'por', 'contraste', ')', 'sugerem-se', 'que', 'os', 'petianos', 'discentes', ',', 'juntamente', 'com', 'os', 'seus', 'tutores', ',', 'criem', 'metodologias/programas', 'de', 'acompanhamento', 'permanente', 'das', 'pessoas', 'petianas', 'egressas', 'e', 'desenvolvam', 'estratégias', 'para', 'avaliar', 'o', 'impacto', 'do', 'pet', 'na', 'vida', 'delas', ',', 'de', 'forma', 'qualitativa', 'e/ou', 'quantitativa', '(', 'seja', 'por', 'meio', 'de', 'desenvolvimento', 'de', 'trabalho', 'de', 'conclusão', 'de', 'curso', '-', 'tcc', 'ou', 'em', 'pesquisas', 'internas', 'dos', 'grupos', ')', 'visando', 'a', 'produção', 'de', 'trabalhos', 'científicos', 'a', 'serem', 'publicados', '.', 'tudo', 'isso', 'a', 'fim', 'de', 'fortalecer', 'o', 'programa', 'e', 'demonstrar', 'para', 'a', 'sociedade', 'os', 'resultados', 'positivos', 'que', 'ele', 'gera', 'na', 'vida', 'profissional', 'das', 'pessoas', 'petianas', 'egressas', '.', 'sugere-se', 'que', 'os', 'grupos', 'pet', 'incluam', 'atividade', '(', 's', ')', 'em', 'seu', 'planejamento', 'anual', 'em', 'colaboração', 'com', 'pessoas', 'petianas', 'egressas', ',', 'como', 'forma', 'de', 'aproximação', 'e', 'para', 'mostrar', 'a', 'importância', 'destes/as/es', 'para', 'o', 'programa', '.', 'sugerimos', 'que', 'os', 'grupos', 'pet', 'criem', 'canais', 'de', 'comunicação', 'com', 'as', 'pessoas', 'petianas', 'egressas', ',', '(', 'como', 'grupo', 'de', 'e-mails', ',', 'grupo', 'em', 'aplicativos', 'de', 'mensagens', 'instantâneas', ',', 'etc', ')', ',', 'buscando', 'manter', 'um', 'contato', 'mais', 'próximo', '.', 'sugerimos', 'que', 'os', 'grupos', 'pet', ',', 'dentro', 'das', 'suas', 'especificidades', 'e', 'possibilidades', ',', 'busquem', 'realizar', 'eventos', 'de', 'comemoração', 'de', 'aniversário', 'dos', 'grupos', ',', 'com', 'presença', 'de', 'pessoas', 'petianas', 'egressas', ',', 'visando', 'maior', 'integração', 'entre', 'os', 'discentes', 'ativos', 'e', 'os', 'egressos', '.', 'que', 'a', 'partir', 'deste', 'enepet', '2020', ',', 'os', 'anais', 'de', 'publicação', 'dos', 'trabalhos', 'acadêmicos', 'apresentados', 'no', 'enepet', 'venham', 'a', 'ser', 'hospedados', 'em', 'site', 'específico', 'criado', 'pela', 'comissão', 'organizadora', 'deste', 'evento', ',', 'destinado', 'a', 'este', 'fim', '.', 'após', 'a', 'publicação', 'dos', 'anais', 'deste', 'enepet', '2020', ',', 'a', 'gestão', 'do', 'site', 'deve', 'ser', 'repassada', 'a', 'comissão', 'organizadora', 'do', 'enepet', '2021', ',', 'que', 'solicitará', 'o', 'issn', '(', 'international', 'standard', 'serial', 'number', ')', 'até', '4', 'meses', 'após', 'a', 'realização', 'do', 'evento', 'e', 'publicação', 'dos', 'anais', ',', 'e', 'que', 'as', 'publicações', 'dos', 'próximos', 'trabalhos', 'dos', 'enepet', 'sejam', 'inseridos', 'no', 'site', 'até', '4', 'meses', 'após', 'à', 'realização', 'do', 'evento', '.', 'votos', 'via', 'assembleia', 'assíncrona', ':', '(', 'aprovação', '77,8', '%', ',', 'alteração', '0,9', '%', ',', 'informação', '2,5', '%', ',', 'discussão', '6,9', '%', ',', 'contrários', '1,9', '%', ',', 'abstenção', '10', '%', ')', '.', 'proposta', 'de', 'alteração', ':', 'que', ',', 'a', 'partir', 'deste', 'enepet', '2020', ',', 'todos', 'os', 'anais', 'de', 'publicação', 'dos', 'trabalhos', 'acadêmicos', 'apresentados', 'nas', 'edições', 'do', 'enepet', 'venham', 'a', 'ser', 'hospedados', 'no', 'site', 'da', 'cenapet', '.', 'ao', 'final', 'de', 'cada', 'edição', ',', 'a', 'publicação', 'dos', 'anais', 'do', 'enepet', 'deverá', 'respeitar', 'o', 'limite', 'de', 'até', '04', 'meses', ',', 'sendo', 'a', 'respectiva', 'comissão', 'organizadora', 'responsável', 'pela', 'solicitação', 'do', 'seu', 'issn', '.', '(', 'alteração', 'aprovada', 'por', 'maioria', 'na', 'assembleia', 'síncrona', ')', '.', 'que', 'após', 'o', 'xix', 'enepet', 'aconteça', 'a', 'criação', 'de', 'um', 'espaço', 'virtual', 'de', 'interação', 'entre', 'os', 'grupos', ',', 'por', 'exemplo', 'através', 'de', 'um', 'grupo', 'de', 'aplicativo', 'como', 'o', '``', 'telegram', \"''\", ',', 'para', 'que', 'as', 'experiências', ',', 'documentos', 'e', 'sugestões', 'acerca', 'desse', 'assunto', '“', 'eventos', 'do', 'pet', '”', ',', 'possam', 'ser', 'compartilhadas', 'com', 'mais', 'facilidade', '.', 'com', 'a', 'rotatividade', 'de', 'petianos', 'e', 'a', 'mudança', 'das', 'comissões', ',', 'a', 'manutenção', 'desse', 'grupo/espaço', 'virtual', '11', 'deve', 'ser', 'transferida', 'para', 'a', 'para', 'a', 'próxima', 'comissão', 'organizadora', '.', 'votos', 'via', 'assembleia', 'assíncrona', ':', '(', 'aprovação', '58,4', '%', ',', 'alteração', '0,6', '%', ',', 'informação', '0,9', '%', ',', 'discussão', '5,3', '%', ',', 'contrários', '15,6', '%', ',', 'abstenção', '19,1', '%', ')', 'que', 'as', 'comissões', 'dos', 'próximos', 'eventos', 'presenciais', '(', 'enepet/enapet', ')', 'disponibilizem', 'a', 'transmissão', 'do', 'evento', 'pelo', 'youtube', 'para', 'que', 'os', 'petianos', '(', 'as', ')', 'que', 'não', 'puderam', 'estar', 'presentes', 'possam', 'acompanhar', 'as', 'discussões', 'do', 'evento', 'como', 'ouvintes', '.', 'votos', 'via', 'assembleia', 'assíncrona', ':', '(', 'aprovação', '79,7', '%', ',', 'alteração', '1,6', '%', ',', 'informação', '0,9', '%', ',', 'discussão', '3,1', '%', ',', 'contrário', '6,9', '%', ',', 'abstenção', '7,8', '%', ')', 'que', 'os', 'grupos', 'pet', 'do', 'nordeste', 'pensem', 'em', 'uma', 'forma', 'de', 'socializar', 'as', 'atividades', 'do', 'planejamento', 'para', '2021.', 'logo', ',', 'os', 'grupos', 'poderiam', 'verificar', 'a', 'possibilidade', 'de', 'integração', 'e', 'replicação', '(', 'inserção', 'da', 'mesma', 'atividade', 'nos', 'dois', 'ou', 'mais', 'planejamentos', ')', ',', 'podendo', 'assim', 'verificarem', 'a', 'melhor', 'possibilidade', 'de', 'realizar', 'as', 'atividades', 'integradas', 'durante', 'o', 'ano', '.', 'sugerimos', 'que', 'as', 'comissões', 'dos', 'interpets', 'convidem', 'sempre', 'pessoas', 'petianas', 'egressas', 'para', 'participarem', 'de', 'suas', 'reuniões', 'e', 'eventos', ',', 'tendo', 'em', 'vista', 'que', 'eles/as/es', 'têm', 'muito', 'a', 'contribuir', ';', 'sugerimos', 'que', 'os', 'grupos', 'pet', 'busquem', 'a', 'participação', 'de', 'pessoas', 'petianas', 'egressas', 'nos', 'processos', 'seletivos', 'de', 'novos', 'integrantes', ';', 'sugerimos', 'que', 'os', 'grupos', 'pet', ',', 'dentro', 'das', 'suas', 'especificidades', 'e', 'possibilidades', ',', 'busquem', 'produzir', 'materiais', '(', 'como', 'periódicos', ',', 'cadernos', ',', 'livros', ')', 'com', 'a', 'publicação', 'de', 'textos', 'de', 'pessoas', 'petianas', 'egressas', ';', 'sugere-se', 'que', 'a', 'avaliação', 'dos', 'grupos', 'pet', 'incluem', 'a', 'possibilidade', 'de', 'conversas', 'individuais', ',', 'em', 'que', 'critérios', 'relacionados', 'às', 'questões', 'emocionais', 'e', 'afetivas', ',', 'experiências', 'individuais', 'e', 'às', 'especificidades', 'das', 'pessoas', 'que', 'participam', 'do', 'pet', 'possam', 'ser', 'considerados', 'e', 'que', 'as', 'necessidades', 'de', 'melhoria', 'no', 'desempenho', 'sejam', 'pontuadas', 'a', 'partir', 'de', 'críticas', 'construtivas', ';', 'que', 'os', 'claas', 'elaborem', ',', 'até', 'o', 'final', 'do', 'enapet', '2020', ',', 'um', 'instrumento', 'para', 'contabilização', 'da', 'carga-horária', 'dos', 'membros', 'e', 'para', 'a', 'mensuração', 'das', 'atividades', 'desenvolvidas', 'pelos', 'grupos', 'pet', '.', 'ele', 'terá', 'o', 'objetivo', 'de', 'registrar', ',', 'de', 'forma', 'padronizada', ',', 'as', 'suas', 'respectivas', 'materializações', 'durante', 'o', 'período', 'remoto', '.', 'que', 'os', 'claas', 'da', 'região', 'nordeste', 'façam', 'reuniões', 'semestrais', ',', 'virtualmente', ',', 'para', 'desenvolverem', 'estratégias', 'de', 'atuação', 'e', 'defesa', 'dos', 'grupos', 'pet', '.', 'criando', 'assim', 'unicidade', 'em', 'suas', 'deliberações', 'perante', 'outras', 'instâncias', ',', 'mas', 'levando', 'em', 'consideração', 'as', 'especificidades', 'de', 'cada', 'claa', '.', 'em', 'cada', 'reunião', 'deve', 'ficar', 'decidido', 'o', 'grupo', 'que', 'será', 'responsável', 'pela', 'organização', 'da', 'próxima', 'reunião', '.', 'que', 'após', 'o', 'xix', 'enepet', ',', 'os/as', 'representantes', 'de', 'cada', 'claa', 'da', 'região', 'nordeste', 'integrem', 'um', 'grupo', 'na', 'plataforma', 'whatsapp', 'ou', 'telegram', '.', 'o', 'grupo', ',', 'criado', 'no', 'encontro', 'dos', 'claas', 'do', 'xix', 'enepet', 'e', 'já', 'previamente', 'preparado', 'ao', 'final', 'deste', ',', 'terá', 'como', 'propósito', 'a', 'troca', 'de', 'experiências', 'entre', 'cada', 'comitê', ',', 'buscando', 'fortalecer', 'suas', 'ações', 'e', 'garantindo', 'sua', 'efetividade', '.', 'sugiro', 'criação', 'de', 'grupos', 'de', 'forma', 'virtual', ',', 'que', 'ocorreriam', 'reuniões', 'pelo', 'menos', 'a', 'cada', '15', 'dias', 'para', 'debater', 'sobre', 'saúde', 'mental', '.', 'a', 'sugestão', 'é', 'o', 'grupo', 'ver', 'a', 'possibilidade', 'de', 'custear', 'um', 'auxílio', 'de', 'internet', 'aos/às', 'participantes', 'que', 'precisam', 'desse', 'auxílio', 'para', 'participar', 'da', 'seleção', 'do', 'pet', '.', 'que', 'os', 'grupos', 'pet', 'relembrem', 'das', 'atividades', 'aprovadas', 'em', 'assembleias', 'anteriores', ':', 'xix', 'enepet', ':', '``', 'que', 'o', 'movimento', 'de', 'cada', 'estado', 'promova', 'reuniões', ',', 'semestralmente', ',', 'para', 'se', 'discutir', 'a', 'problemática', 'da', 'saúde', 'mental', '.', 'essas', 'reuniões', 'terão', 'como', 'objetivo', 'proporcionar', 'alternativas', ',', 'através', 'de', 'formações', ',', 'para', 'melhorar', 'e/ou', 'acompanhar', 'a', 'saúde', 'mental', 'dos', 'grupos', 'pets', \"''\", '.', 'xxiv', 'enapet', ':', '``', 'que', 'os', 'grupos', 'pet', ',', 'com', 'a', 'avaliação', 'de', 'profissional', 'qualificado', ',', 'verifiquem', ',', 'periodicamente', ',', 'a', 'saúde', 'mental', 'dos', 'petianos', 'e', 'busquem', 'ações', 'específicas', ',', 'ainda', 'sob', 'supervisão', 'profissional', ',', 'de', 'modo', 'a', 'auxiliar', 'no', 'tratamento', 'da', 'condição', 'diagnosticada', ',', 'a', 'partir', 'da', 'aprovação', 'na', 'assembleia', 'geral', 'do', 'xxiv', 'enapet', \"''\", '.', 'que', 'os', 'grupos', 'pet', 'passem', 'a', 'se', 'utilizar', ',', 'semestralmente', ',', 'da', 'ferramenta', 'das', 'reuniões', 'de', 'avaliação', 'interna', 'como', 'maneira', 'de', 'promoção', 'e', 'manutenção', 'da', 'saúde', 'mental', '.', 'propiciando', 'assim', 'um', 'espaço', 'de', 'fala', 'e', 'compartilhamento', 'de', 'afetos', 'e', 'tensões', ',', 'para', 'que', 'o', 'próprio', 'grupo', 'sirva', 'como', 'rede', 'de', 'apoio', 'e', 'se', 'reorganize', 'a', 'partir', 'das', 'demandas', 'citadas', ',', 'evitando', 'o', 'adoecimento', 'das/os', 'membros', '.', 'minha', 'sugestão', 'é', 'ocorrer', 'uma', 'melhor', 'avaliação', 'acerca', 'de', 'como', 'se', 'realizar', 'o', 'processo', 'seletivo', 'de', 'forma', 'que', 'garanta', 'a', 'qualidade', 'do', 'processo', 'e', 'também', 'sua', 'acessibilidade', ',', 'pois', 'o', 'objetivo', 'é', 'disponibilizar', 'novas', 'oportunidades', 'e', 'até', 'que', 'ponto', 'essas', 'oportunidades', 'estão', 'sendo', 'garantidas', 'no', 'processo', 'remoto', '.', 'que', 'os', 'grupos', 'pet', 'acompanhem', 'o', 'andamento', 'das', 'suas', 'reuniões', 'e', 'atividades', ',', 'considerando', 'que', 'o', 'contexto', 'pandêmico', 'pode', 'gerar', 'e/ou', 'agravar', 'transtornos', 'psíquicos', ',', 'a', 'fim', 'de', 'observar', 'se', 'estas', 'estão', 'contribuindo', 'para', 'a', 'sobrecarga', 'mental', 'dos/as', 'petianos/as', 'e', 'pensar', 'em', 'maneiras', 'de', 'aliviar', 'as', 'pressões', 'cotidianas', '.', 'isso', 'pode', ',', 'claro', ',', 'se', 'estender', 'para', 'além', 'da', 'pandemia', ',', 'visto', 'que', 'a', 'preocupação', 'com', 'a', 'saúde', 'mental', 'deve', 'ser', 'constante', '.', 'todos', 'os', 'grupos', 'pet', ',', 'no', 'momento', 'de', 'pandemia', ',', 'podem', 'dividir', 'as', 'vagas', 'que', 'seu', 'grupo', 'possui', '.', 'realizando', 'a', 'seleção', 'no', 'momento', 'de', 'pandemia', 'e', 'no', 'de', 'pós', 'pandemia', ',', 'dividindo', 'de', 'acordo', 'com', 'a', 'demanda', 'do', 'grupo', ',', 'dessa', 'forma', 'não', 'excluímos', 'possíveis', 'participantes', 'que', 'não', 'tiveram', 'acesso', 'a', 'divulgação', 'no', 'momento', 'de', 'pandemia', ',', 'dentro', 'dos', 'grupos', 'pet', 'que', 'estiveram', 'realizando', 'processo', 'seletivo', '.', 'que', 'os', 'grupos', 'pet', 'promovam', 'rotineiramente', 'atividades', 'de', 'conscientização', 'social', 'dentro', 'dos', 'próprios', 'grupos', 'e', 'de', 'suas', 'ies', ',', 'principalmente', 'nas', 'unidades', 'acadêmicas', 'abrangidas', 'pelo', 'programa', ',', 'a', 'fim', 'de', 'consolidar', 'o', 'acolhimento', 'à', 'diversidade', 'e', 'os', 'valores', 'plurais', 'e', 'democráticos', 'pelos', 'quais', 'a', 'universidade', 'preza', ',', 'para', 'embasar', 'a', 'formação', 'cidadã', 'dos/as', 'petianos/as', 'e', ',', 'posteriormente', ',', 'difundir', 'esses', 'valores', 'em', 'ações', 'voltadas', 'à', 'sociedade', '.', 'que', 'os', 'grupos', 'pet', 'registrem', 'as', 'atividades', 'de', 'extensão', 'do', 'pet', 'na', 'pró-reitoria', 'de', 'extensão', ',', 'assim', 'como', 'as', 'ações', 'de', 'pesquisa', 'na', 'pró-reitoria', 'de', 'pesquisa', ';', 'que', 'os', 'grupos', 'pet', 'a', 'partir', 'de', '2021', 'repensem', 'suas', 'práticas', 'epistêmicas', 'e', 'atividades', ',', 'por', 'meio', 'de', 'estudos', 'e', 'pesquisas', 'coletivas', 'entre', 'grupos', 'pet', ',', 'para', 'articular', 'uma', 'construção', 'do', 'ensino', ',', 'da', 'pesquisa', 'e', 'da', 'extensão', 'de', 'modo', 'a', 'favorecer', 'uma', 'visão', 'capaz', 'de', 'acolher', 'tanto', 'a', 'sabedoria', 'da', 'ciência', 'normal', 'como', 'as', 'perspectivas', 'das', 'mundivisões', ',', 'marginalizadas', ',', 'vulneráveis', 'e', 'populares', ';', 'que', 'os', 'grupos', 'pets', 'do', 'nordeste', ',', 'a', 'partir', 'da', 'aprovação', 'deste', 'encaminhamento', 'na', 'assembleia', 'final', 'do', 'xix', 'enepet', ',', 'e', 'demais', 'regiões', 'do', 'brasil', ',', 'a', 'partir', 'da', 'aprovação', 'na', 'assembleia', 'geral', 'do', 'xxv', 'enapet', ',', 'revejam/realizem', 'os', 'processos', 'de', 'auto', 'avaliação', 'do', 'grupo', 'nas', 'relações', 'entre', 'tutoria', 'discentes', ',', 'procurando', 'ferramentas', 'que', 'não', 'usem', 'somente', 'como', 'critério', 'uma', 'quantificação', 'dentro', 'de', 'uma', 'escala', 'numérica', 'e', 'que', 'seja', 'priorizado', 'o', 'diálogo', 'e', 'a', 'escuta', 'para', 'mediação', 'e', 'reflexões', 'das', 'dinâmicas', 'internas', ',', 'respeitando', 'sempre', 'a', 'horizontalidade', '.', 'votos', 'via', 'assembleia', 'assíncrona', ':', '(', 'aprovação', '76,9', '%', ',', 'alteração', '0,6', '%', ',', 'informação', '0,0', '%', ',', 'discussão', '4,1', '%', ',', 'contrário', '1,6', '%', ',', 'abstenção', '16,6', '%', ')', '(', 'aprovado', 'por', 'maioria', ')', ';', '5.1-que', 'os', 'grupos', 'pet', 'de', 'cada', 'ies', 'organizem', 'semanas', 'universitárias', 'ou', 'dia', '(', 's', ')', 'do', 'pet', 'com', 'o', 'intuito', 'de', 'divulgar', 'o', 'pet', 'além', 'dos', 'muros', 'da', 'universidade', ',', 'como', 'em', 'bairros', 'e', 'outros', 'municípios', 'de', 'cada', 'estado', ',', 'na', 'periodicidade', 'semestral', 'ou', 'anual', '.', 'tal', 'atividade', 'seria', 'realizada', 'em', 'espaços', 'públicos', 'como', ',', 'feiras', 'populares/comunitárias', ',', 'praças', ',', 'shoppings', ',', 'centros', 'comerciais', 'e', 'etc', '.', 'as', 'atividades', 'também', 'poderiam', 'ser', 'organizadas', 'em', 'articulação', 'com', 'outros', 'cursos', 'e', 'grupos', ',', 'a', 'fim', 'de', 'promover', 'ações', 'diversas', 'como', ',', 'oficinas', 'para', 'discutir', 'sobre', 'negritude', ',', 'consultoria', 'jurídica', ',', 'cuidados', 'estéticos', ',', 'higienização', 'bucal', ',', 'dentre', 'outras', 'possibilidades', '.', 'votos', 'via', 'assembleia', 'assíncrona', ':', '(', 'aprovação', '62,5', '%', ',', 'alteração', '1,9', '%', ',', 'informação', '2,2', '%', ',', 'discussão', '3,1', '%', ',', 'contrário', '10,9', '%', ',', 'abstenção', '19,4', '%', ')', '(', 'aprovado', 'como', 'sugestão', 'por', 'maioria', 'na', 'assembleia', 'síncrona', ')', ';', '5.2-que', 'cada', 'grupo', 'pet', ',', 'a', 'partir', 'desse', 'evento', 'crie', 'uma', 'comissão', 'do', 'mobiliza', 'e', 'uma', 'do', 'diversifica', 'composta', 'por', 'pelo', 'menos', 'dois', 'ou', 'três', 'integrantes', ',', 'compondo', '12', 'assim', 'uma', 'comissão', 'interna', 'que', 'atuará', 'para', 'fortalecer', 'o', 'comitê', 'local', '.', 'votos', 'via', 'assembleia', 'assíncrona', ':', '(', 'aprovação', '37,5', '%', ',', 'alteração', '1,9', '%', ',', 'informação', '1,9', '%', ',', 'discussão', '7,5', '%', ',', 'contrário', '19,7', '%', ',', 'abstenção', '31,6', '%', ')', 'proposta', 'de', 'alteração', ':', 'que', 'os', 'grupos', 'pets', 'do', 'nordeste', ',', 'a', 'partir', 'da', 'aprovação', 'deste', 'encaminhamento', 'na', 'assembleia', 'final', 'do', 'xix', 'enepet', ',', 'e', 'demais', 'regiões', 'do', 'brasil', ',', 'a', 'partir', 'da', 'aprovação', 'na', 'assembleia', 'geral', 'do', 'xxv', 'enapet', ',', 'se', 'articulem', 'de', 'forma', 'a', 'construir', 'comissões', 'para', 'o', 'diversifica', 'pet/comissão', 'de', 'diversidades', 'composta', 'por', 'a', 'partir', 'de', 'dois/duas', 'petianos', '(', 'as', ')', '.', 'sendo', 'um', '(', 'a', ')', 'petiana', '(', 'o', ')', 'efetivo', '(', 'a', ')', 'e', 'um', '(', 'a', ')', 'vice', ',', 'tendo', 'ambos', '(', 'as', ')', 'igual', 'poder', 'de', 'representação', '.', 'deve-se', 'visar', ',', 'com', 'essa', 'estratégia', ',', 'construir', 'uma', 'estrutura', 'de', 'sustentação', 'para', 'uma', 'mobilização', 'que', 'siga', 'a', 'seguinte', 'sequência', ':', 'grupo', 'pet', '>', 'ies', '>', 'estado', '>', 'região', '>', 'nacional', ',', 'tendo', 'cada', 'seção', 'também', 'dois/duas', 'representantes', 'organizados', '(', 'as', ')', 'de', 'forma', 'a', 'não', 'haver', 'acúmulo', 'de', 'funções', 'na', 'instância', 'do', 'diversifica', 'pet', \"''\", '.', '(', 'alteração', 'aprovada', 'por', 'maioria', 'na', 'assembleia', 'síncrona', ')']\n"
     ]
    }
   ],
   "source": [
    "from nltk import word_tokenize\n",
    "\n",
    "tokens = word_tokenize(cleanText)\n",
    "print(tokens)"
   ]
  },
  {
   "cell_type": "markdown",
   "metadata": {},
   "source": [
    "### Testing frequency of words"
   ]
  },
  {
   "cell_type": "code",
   "execution_count": null,
   "metadata": {},
   "outputs": [],
   "source": []
  },
  {
   "cell_type": "markdown",
   "metadata": {},
   "source": [
    "#### function to pre processing"
   ]
  },
  {
   "cell_type": "code",
   "execution_count": 8,
   "metadata": {},
   "outputs": [
    {
     "ename": "NameError",
     "evalue": "name 'tokens' is not defined",
     "output_type": "error",
     "traceback": [
      "\u001b[1;31m---------------------------------------------------------------------------\u001b[0m",
      "\u001b[1;31mNameError\u001b[0m                                 Traceback (most recent call last)",
      "Cell \u001b[1;32mIn[8], line 2\u001b[0m\n\u001b[0;32m      1\u001b[0m lancaster \u001b[38;5;241m=\u001b[39m nltk\u001b[38;5;241m.\u001b[39mLancasterStemmer()\n\u001b[1;32m----> 2\u001b[0m [lancaster\u001b[38;5;241m.\u001b[39mstem(t) \u001b[38;5;28;01mfor\u001b[39;00m t \u001b[38;5;129;01min\u001b[39;00m \u001b[43mtokens\u001b[49m]\n",
      "\u001b[1;31mNameError\u001b[0m: name 'tokens' is not defined"
     ]
    }
   ],
   "source": [
    "lancaster = nltk.LancasterStemmer()\n",
    "[lancaster.stem(t) for t in tokens]"
   ]
  }
 ],
 "metadata": {
  "kernelspec": {
   "display_name": "venv",
   "language": "python",
   "name": "python3"
  },
  "language_info": {
   "codemirror_mode": {
    "name": "ipython",
    "version": 3
   },
   "file_extension": ".py",
   "mimetype": "text/x-python",
   "name": "python",
   "nbconvert_exporter": "python",
   "pygments_lexer": "ipython3",
   "version": "3.12.2"
  }
 },
 "nbformat": 4,
 "nbformat_minor": 2
}
