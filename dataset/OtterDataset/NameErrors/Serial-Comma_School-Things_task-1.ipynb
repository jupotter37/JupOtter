{
 "cells": [
  {
   "cell_type": "code",
   "execution_count": 41,
   "metadata": {},
   "outputs": [
    {
     "data": {
      "text/plain": [
       "2"
      ]
     },
     "execution_count": 41,
     "metadata": {},
     "output_type": "execute_result"
    }
   ],
   "source": [
    "#Task 1.1\n",
    "\n",
    "def task1_1(x):\n",
    "    if type(x) == int:\n",
    "        x = str(x)\n",
    "    if len(x) != 14:\n",
    "        return -1\n",
    "    x = list(x)\n",
    "\n",
    "    \n",
    "    for i in range(len(x)):\n",
    "        if i%2 != 0:\n",
    "            x[i] = str(2*int(x[i]))\n",
    "        \n",
    "    total = 0\n",
    "    # print(x)\n",
    "    for j in range(len(x)):\n",
    "        if len(x[j]) == 2:\n",
    "            x[j] = list(x[j])\n",
    "            total1 = 0\n",
    "            for i in range(len(x[j])):\n",
    "                total1 +=int(x[j][i])\n",
    "            x[j] = total1\n",
    "        total = total + int(x[j])\n",
    "    # print(total)\n",
    "    check = 0\n",
    "    while total % 10 != 0:\n",
    "        # print((total,total%10))\n",
    "        check +=1\n",
    "        total +=1\n",
    "    return check\n",
    "\n",
    "task1_1(14576567654934)"
   ]
  },
  {
   "cell_type": "code",
   "execution_count": 59,
   "metadata": {},
   "outputs": [
    {
     "name": "stdout",
     "output_type": "stream",
     "text": [
      "True\n",
      "True\n",
      "True\n",
      "True\n"
     ]
    }
   ],
   "source": [
    "#Task 1.2\n",
    "\n",
    "print(task1_1(28833163060589) == 9)\n",
    "print(task1_1(71068835714504) == 7)\n",
    "print(task1_1(34422611099677) == 0)\n",
    "print(task1_1(40826441891495) == 8)"
   ]
  },
  {
   "cell_type": "code",
   "execution_count": 14,
   "metadata": {},
   "outputs": [
    {
     "data": {
      "text/plain": [
       "[619, 653, 1447, 1636, 1665, 2029, 2568, 3006, 3555, 3865]"
      ]
     },
     "execution_count": 14,
     "metadata": {},
     "output_type": "execute_result"
    }
   ],
   "source": [
    "#Task 2.1\n",
    "import os\n",
    "\n",
    "def task2_1(filename):\n",
    "    lst = []\n",
    "    with open(filename,'r') as f:\n",
    "        for line in f:\n",
    "            lst.append(int(line.strip()))\n",
    "    return lst\n",
    "\n",
    "\n",
    "\n",
    "def task2_2(lst):\n",
    "    for i in range(1,len(lst)):\n",
    "        j = i\n",
    "        while j > 0 and lst[j] < lst[j-1]:\n",
    "            lst[j],lst[j-1] = lst[j-1],lst[j]\n",
    "            j -=1\n",
    "    return lst\n",
    "\n",
    "x = task2_1(\"TEN.txt\")\n",
    "task2_2(x)\n",
    "            "
   ]
  },
  {
   "cell_type": "code",
   "execution_count": 39,
   "metadata": {},
   "outputs": [
    {
     "ename": "NameError",
     "evalue": "name 'split' is not defined",
     "output_type": "error",
     "traceback": [
      "\u001b[0;31m---------------------------------------------------------------------------\u001b[0m",
      "\u001b[0;31mNameError\u001b[0m                                 Traceback (most recent call last)",
      "\u001b[0;32m<ipython-input-39-9b1fd46402e6>\u001b[0m in \u001b[0;36m<module>\u001b[0;34m\u001b[0m\n\u001b[1;32m      1\u001b[0m \u001b[0mh\u001b[0m \u001b[0;34m=\u001b[0m \u001b[0;34m\"abcd\"\u001b[0m\u001b[0;34m\u001b[0m\u001b[0;34m\u001b[0m\u001b[0m\n\u001b[0;32m----> 2\u001b[0;31m \u001b[0mh\u001b[0m \u001b[0;34m=\u001b[0m \u001b[0msplit\u001b[0m\u001b[0;34m(\u001b[0m\u001b[0mh\u001b[0m\u001b[0;34m)\u001b[0m\u001b[0;34m\u001b[0m\u001b[0;34m\u001b[0m\u001b[0m\n\u001b[0m\u001b[1;32m      3\u001b[0m \u001b[0mprint\u001b[0m\u001b[0;34m(\u001b[0m\u001b[0mh\u001b[0m\u001b[0;34m)\u001b[0m\u001b[0;34m\u001b[0m\u001b[0;34m\u001b[0m\u001b[0m\n",
      "\u001b[0;31mNameError\u001b[0m: name 'split' is not defined"
     ]
    }
   ],
   "source": []
  },
  {
   "cell_type": "code",
   "execution_count": null,
   "metadata": {},
   "outputs": [],
   "source": []
  }
 ],
 "metadata": {
  "kernelspec": {
   "display_name": "Python 3",
   "language": "python",
   "name": "python3"
  },
  "language_info": {
   "codemirror_mode": {
    "name": "ipython",
    "version": 3
   },
   "file_extension": ".py",
   "mimetype": "text/x-python",
   "name": "python",
   "nbconvert_exporter": "python",
   "pygments_lexer": "ipython3",
   "version": "3.6.15"
  },
  "orig_nbformat": 4
 },
 "nbformat": 4,
 "nbformat_minor": 2
}
