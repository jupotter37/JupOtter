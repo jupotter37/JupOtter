{
 "cells": [
  {
   "cell_type": "code",
   "execution_count": 1,
   "id": "309ca779",
   "metadata": {},
   "outputs": [],
   "source": [
    "import pandas as pd\n",
    "import numpy as np\n",
    "import os"
   ]
  },
  {
   "cell_type": "code",
   "execution_count": 2,
   "id": "d7960df6",
   "metadata": {},
   "outputs": [],
   "source": [
    "files = os.listdir()\n",
    "dir_name = [f for f in files if '-2022' in f]"
   ]
  },
  {
   "cell_type": "code",
   "execution_count": 3,
   "id": "918312f2",
   "metadata": {},
   "outputs": [],
   "source": [
    "glycan_name_list = []\n",
    "dir_list = []\n",
    "file_list = []\n",
    "for path_pdb in dir_name:\n",
    "\n",
    "    files = os.listdir(path_pdb)\n",
    "    files_pdb = [f for f in files if '.pdb' in f]\n",
    "    for i in range(len(files_pdb)):\n",
    "        with open(os.path.join(path_pdb, files_pdb[i])) as f:\n",
    "            pdb_context = f.readlines()\n",
    "            \n",
    "            if 'ATOM ' in pdb_context[1]:\n",
    "                glycan_names = 'Missing formula'\n",
    "            else:\n",
    "                glycan_names = pdb_context[1].split('\\n')[0]\n",
    "            glycan_name_list.append(glycan_names)\n",
    "            \n",
    "            dir_list.append(path_pdb)\n",
    "            file_list.append(files_pdb[i])"
   ]
  },
  {
   "cell_type": "code",
   "execution_count": 4,
   "id": "135bd646",
   "metadata": {},
   "outputs": [],
   "source": [
    "df = pd.DataFrame([dir_list, file_list, glycan_name_list]).T\n",
    "\n",
    "df.columns = ['directory', 'filename', 'formula']\n",
    "df.to_csv('pdb_name.csv', index = False)"
   ]
  },
  {
   "cell_type": "code",
   "execution_count": 8,
   "id": "a13832d9",
   "metadata": {},
   "outputs": [],
   "source": [
    "df = pd.read_csv('pdb_name.csv')"
   ]
  },
  {
   "cell_type": "code",
   "execution_count": 12,
   "id": "3367a9e3",
   "metadata": {},
   "outputs": [],
   "source": [
    "df_id = pd.read_csv('pdb_labeled.csv', header= None)"
   ]
  },
  {
   "cell_type": "code",
   "execution_count": 14,
   "id": "9327ea32",
   "metadata": {},
   "outputs": [],
   "source": [
    "df_combined = pd.concat([df, df_id], axis = 1)"
   ]
  },
  {
   "cell_type": "code",
   "execution_count": 16,
   "id": "bd6bc655",
   "metadata": {},
   "outputs": [],
   "source": [
    "df_combined = df_combined.dropna(how='all', axis = 1)"
   ]
  },
  {
   "cell_type": "code",
   "execution_count": 18,
   "id": "4d3dcbe6",
   "metadata": {},
   "outputs": [],
   "source": [
    "df_combined.to_csv('monosaccharide_labeled_pdb.csv', index = False)"
   ]
  },
  {
   "cell_type": "code",
   "execution_count": 19,
   "id": "0feb1698",
   "metadata": {},
   "outputs": [],
   "source": [
    "df_combined = pd.read_csv('monosaccharide_labeled_pdb.csv')"
   ]
  },
  {
   "cell_type": "code",
   "execution_count": 24,
   "id": "b6e83251",
   "metadata": {},
   "outputs": [],
   "source": [
    "for i in range(len(df_combined)):\n",
    "    temp_directory = df_combined.loc[i].directory\n",
    "    temp_filename = df_combined.loc[i].filename\n",
    "    mono_id_list = df_combined.loc[i][3:].values\n",
    "    mono_id_list = mono_id_list.x[~numpy.isnan(x)]\n"
   ]
  },
  {
   "cell_type": "code",
   "execution_count": 39,
   "id": "4553981f",
   "metadata": {},
   "outputs": [
    {
     "data": {
      "text/plain": [
       "array(['DGlc', 'DGal', 'DGal', 'DGalNAc', 'DGal', 'LFuc', nan, nan, nan,\n",
       "       nan, nan, nan], dtype=object)"
      ]
     },
     "execution_count": 39,
     "metadata": {},
     "output_type": "execute_result"
    }
   ],
   "source": [
    "a = df_combined.loc[1][3:].values\n",
    "a"
   ]
  },
  {
   "cell_type": "code",
   "execution_count": 42,
   "id": "a0b48ba7",
   "metadata": {},
   "outputs": [
    {
     "ename": "NameError",
     "evalue": "name 'nan' is not defined",
     "output_type": "error",
     "traceback": [
      "\u001b[0;31m---------------------------------------------------------------------------\u001b[0m",
      "\u001b[0;31mNameError\u001b[0m                                 Traceback (most recent call last)",
      "\u001b[0;32m/tmp/ipykernel_127996/3750401601.py\u001b[0m in \u001b[0;36m<module>\u001b[0;34m\u001b[0m\n\u001b[0;32m----> 1\u001b[0;31m \u001b[0ma\u001b[0m\u001b[0;34m[\u001b[0m\u001b[0;34m~\u001b[0m\u001b[0mnan\u001b[0m\u001b[0;34m]\u001b[0m\u001b[0;34m\u001b[0m\u001b[0;34m\u001b[0m\u001b[0m\n\u001b[0m",
      "\u001b[0;31mNameError\u001b[0m: name 'nan' is not defined"
     ]
    }
   ],
   "source": []
  },
  {
   "cell_type": "code",
   "execution_count": null,
   "id": "5b0422ca",
   "metadata": {},
   "outputs": [],
   "source": []
  }
 ],
 "metadata": {
  "kernelspec": {
   "display_name": "Python 3 (ipykernel)",
   "language": "python",
   "name": "python3"
  },
  "language_info": {
   "codemirror_mode": {
    "name": "ipython",
    "version": 3
   },
   "file_extension": ".py",
   "mimetype": "text/x-python",
   "name": "python",
   "nbconvert_exporter": "python",
   "pygments_lexer": "ipython3",
   "version": "3.8.12"
  }
 },
 "nbformat": 4,
 "nbformat_minor": 5
}
