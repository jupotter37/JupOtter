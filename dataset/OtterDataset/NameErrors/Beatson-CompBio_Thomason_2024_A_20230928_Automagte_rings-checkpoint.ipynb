{
 "cells": [
  {
   "cell_type": "markdown",
   "id": "43f8ae19-ae58-41a8-ad08-beb10601e532",
   "metadata": {},
   "source": [
    "# Automated Ring analysis\n",
    "\n",
    "Created by: Ryan Corbyn \n",
    "\n",
    "Date: 02/03/2023\n",
    "\n",
    "This is a script that is designed to analyse .czi image stacks. The aim of the script is to locate (through cellpose segmentation) bright rings within the image stack, locate the frame in which the diameter of the ring is at its greatest and extract physical parameters of the ring from the image.  "
   ]
  },
  {
   "cell_type": "markdown",
   "id": "7f7075e7-fe02-48ff-8ec0-d7420cd42e89",
   "metadata": {},
   "source": [
    "---\n",
    "### Import the dependancies for the script"
   ]
  },
  {
   "cell_type": "code",
   "execution_count": 3,
   "id": "ee2c6b4d-dcfd-4912-a59b-2bf008efe1f2",
   "metadata": {
    "tags": []
   },
   "outputs": [],
   "source": [
    "#Import cellpose and other dependancies\n",
    "from cellpose import models, io, core, plot \n",
    "\n",
    "import aicsimageio\n",
    "from aicsimageio.readers.bioformats_reader import BioformatsReader\n",
    "\n",
    "# Import libraries for data analysis\n",
    "import numpy as np \n",
    "import tifffile as tf\n",
    "import matplotlib.pyplot as plot \n",
    "import os\n",
    "import czifile as czi\n",
    "\n",
    "import napari\n",
    "import pandas as pd\n",
    "\n",
    "import tkinter as tk\n",
    "from tkinter import filedialog\n",
    "import tqdm\n",
    "\n",
    "from skimage import measure\n",
    "import skimage\n",
    "import scipy"
   ]
  },
  {
   "cell_type": "markdown",
   "id": "91448cca-74c8-482c-8193-6b9866776979",
   "metadata": {},
   "source": [
    "---\n",
    "## Select the folder containing the image to analyse"
   ]
  },
  {
   "cell_type": "code",
   "execution_count": 26,
   "id": "05b7a2b7-9f61-4c49-893f-2bbb9bc6cac7",
   "metadata": {
    "tags": []
   },
   "outputs": [
    {
     "name": "stdout",
     "output_type": "stream",
     "text": [
      "//data.beatson.gla.ac.uk/data/SHARED/1 Week/Ryan Corbyn/Pete_data/20230925_hps6_z1_select_cells\n"
     ]
    }
   ],
   "source": [
    "### Get image \n",
    "# Select user defined segmentation model. \n",
    "root = tk.Tk()\n",
    "root.withdraw()\n",
    "image_dir = tk.filedialog.askdirectory(title = \"Select image file\")\n",
    "print(image_dir)"
   ]
  },
  {
   "cell_type": "markdown",
   "id": "420474b7-cbfd-4f8b-9c5b-4af086ccf66c",
   "metadata": {},
   "source": [
    "---- \n",
    "### Select the ring segmentation model"
   ]
  },
  {
   "cell_type": "code",
   "execution_count": 4,
   "id": "008da08e-71cd-4020-bfec-9acf799051da",
   "metadata": {
    "tags": []
   },
   "outputs": [
    {
     "name": "stdout",
     "output_type": "stream",
     "text": [
      "C:\\Users\\RCORBYN\\OneDrive - University of Glasgow\\Desktop\\20231017_Forth_iteration/Cellpose_models/20230828_11528_Pete_Rings\n"
     ]
    }
   ],
   "source": [
    "# # Select user defined segmentation model. \n",
    "# Find the current working directory for the script. \n",
    "script_directory = os.getcwd()\n",
    "\n",
    "ring_model_dir = script_directory + '/Cellpose_models/20230828_11528_Pete_Rings'\n",
    "print(ring_model_dir)"
   ]
  },
  {
   "cell_type": "markdown",
   "id": "ac2c8a35-29be-4b19-b3ad-80f586695d65",
   "metadata": {},
   "source": [
    "---- \n",
    "### Select the cell segmentation model"
   ]
  },
  {
   "cell_type": "code",
   "execution_count": 1,
   "id": "576f81a6-101d-403a-b3ab-1626547b573c",
   "metadata": {
    "tags": []
   },
   "outputs": [
    {
     "ename": "NameError",
     "evalue": "name 'script_directory' is not defined",
     "output_type": "error",
     "traceback": [
      "\u001b[1;31m---------------------------------------------------------------------------\u001b[0m",
      "\u001b[1;31mNameError\u001b[0m                                 Traceback (most recent call last)",
      "Cell \u001b[1;32mIn[1], line 2\u001b[0m\n\u001b[0;32m      1\u001b[0m \u001b[38;5;66;03m# # Select user defined segmentation model. \u001b[39;00m\n\u001b[1;32m----> 2\u001b[0m cell_model_dir \u001b[38;5;241m=\u001b[39m \u001b[43mscript_directory\u001b[49m \u001b[38;5;241m+\u001b[39m \u001b[38;5;124m'\u001b[39m\u001b[38;5;124m/Cellpose_models/20231013_1701_Pete_cells\u001b[39m\u001b[38;5;124m'\u001b[39m\n\u001b[0;32m      3\u001b[0m \u001b[38;5;28mprint\u001b[39m(cell_model_dir)\n",
      "\u001b[1;31mNameError\u001b[0m: name 'script_directory' is not defined"
     ]
    }
   ],
   "source": [
    "# # Select user defined segmentation model. \n",
    "cell_model_dir = script_directory + '/Cellpose_models/20231013_1701_Pete_cells'\n",
    "print(cell_model_dir)"
   ]
  },
  {
   "cell_type": "markdown",
   "id": "02c6810b-9c75-4e44-9d68-7212c665250a",
   "metadata": {},
   "source": [
    "--- \n",
    "#### Get all the file names from folder"
   ]
  },
  {
   "cell_type": "code",
   "execution_count": 5,
   "id": "2f93476d-f37d-4a4f-86a7-e93b874a8ef5",
   "metadata": {
    "tags": []
   },
   "outputs": [],
   "source": [
    "def get_file_names(folder):\n",
    "    '''Loop through all of the files in the folder. '''\n",
    "    \n",
    "    files = []\n",
    "\n",
    "    for root, dirs, file in os.walk(folder):\n",
    "        if len(root) == len(folder):\n",
    "            all_files = file\n",
    "    \n",
    "    for file in all_files: \n",
    "        if file[-5:] == 't.czi':\n",
    "            files.append(file)\n",
    "        elif file[-5:] == 't.tif':\n",
    "            files.append(file)\n",
    "    \n",
    "    return(files)"
   ]
  },
  {
   "cell_type": "markdown",
   "id": "22ab6a4f-d386-4654-ba17-c1fe3128c1a8",
   "metadata": {},
   "source": [
    "### Get existing files"
   ]
  },
  {
   "cell_type": "code",
   "execution_count": 6,
   "id": "95c2e77b-f90e-435e-9be7-5f25cccd1582",
   "metadata": {
    "tags": []
   },
   "outputs": [],
   "source": [
    "def get_existing_file_names(folder):\n",
    "    '''Loop through all of the files in the folder. '''\n",
    "    \n",
    "    files = []\n",
    "\n",
    "    for root, dirs, file in os.walk(folder):\n",
    "        if len(root) == len(folder):\n",
    "            all_files = file\n",
    "    \n",
    "    for file in all_files: \n",
    "        if file[-4:] == '.csv':\n",
    "            files.append(file)\n",
    "    \n",
    "    return(files)"
   ]
  },
  {
   "cell_type": "markdown",
   "id": "3420de72-4dcc-4d9a-9b0d-984f3029b1bc",
   "metadata": {},
   "source": [
    "---\n",
    "### Get the image and the image resolution from .czi file. "
   ]
  },
  {
   "cell_type": "code",
   "execution_count": 7,
   "id": "ef1f0992-caac-4a8d-984c-d8ecd1a2a131",
   "metadata": {
    "tags": []
   },
   "outputs": [],
   "source": [
    "def get_image_and_res(file):\n",
    "    '''Use czifile and Bioformats reader to \n",
    "    get the image data and the image resolution. '''\n",
    "    \n",
    "    # Get image data\n",
    "    \n",
    "    if file[-4:] == '.czi': \n",
    "        im = czi.imread(file)\n",
    "    else:\n",
    "        im = tf.imread(file)\n",
    "    \n",
    "    # Extract meta-data from the image. \n",
    "    meta_data = BioformatsReader(file)\n",
    "    # Get image resolution from the image. \n",
    "    image_res_x = meta_data.physical_pixel_sizes.X\n",
    "    image_res_y = meta_data.physical_pixel_sizes.Y\n",
    "    \n",
    "    return(im, image_res_x, image_res_y)"
   ]
  },
  {
   "cell_type": "markdown",
   "id": "c6df861e-123f-45e4-bddc-18336c631dab",
   "metadata": {},
   "source": [
    "---\n",
    "### Perform the ring segmentation"
   ]
  },
  {
   "cell_type": "code",
   "execution_count": 8,
   "id": "3a0db0e7-8337-46a8-99d6-36a09831ae89",
   "metadata": {
    "tags": []
   },
   "outputs": [],
   "source": [
    "def ring_segmentation(ring_seg_model, im):\n",
    "    '''Use Cellpose to perform segmentation of the rings \n",
    "    in the image. '''\n",
    "\n",
    "    # Set the channels for grey-scale images. \n",
    "    channel = [0, 0]\n",
    "    # initialise the variable. \n",
    "    im_stack = []\n",
    "    ring_masks = []\n",
    "\n",
    "    # Download the cellpose model. \n",
    "    ring_model = models.CellposeModel(model_type = ring_seg_model, gpu = True)\n",
    "\n",
    "    # Segment the image stack to find the rings. \n",
    "    for j in range( im.shape[0] ): \n",
    "\n",
    "        image_frame = np.array(im[j, :, :])\n",
    "\n",
    "        # Get the mask and the flow from the selected image. \n",
    "        masks, ring_flow, ring_style  = ring_model.eval(image_frame, diameter=None, channels = channel)\n",
    "        # Save the image masks. \n",
    "        ring_masks.append(masks)\n",
    "\n",
    "    return( np.array(ring_masks) )"
   ]
  },
  {
   "cell_type": "markdown",
   "id": "9e3a4d8c-162d-4a8c-86fc-9b45eb1bae9f",
   "metadata": {},
   "source": [
    "--- \n",
    "### Crop the area around the ring under study. "
   ]
  },
  {
   "cell_type": "code",
   "execution_count": 9,
   "id": "78a29c5f-d090-4ec7-a125-4d0acaf7f1fc",
   "metadata": {
    "tags": []
   },
   "outputs": [],
   "source": [
    "def crop_ring_mask(mask_ind, im_slice, cutoff): \n",
    "    '''Crop the input image to only contain the ring of interest.'''\n",
    "        \n",
    "    # Find the minima and maxiuma of the x and y pixel values for \n",
    "    # all pixels in the image mask. \n",
    "    square_index = [np.min(mask_ind[1]), np.max(mask_ind[1]), \n",
    "                    np.min(mask_ind[0]), np.max(mask_ind[0])]\n",
    "    \n",
    "    # Ignore all masks within 7 pixels of the edge. \n",
    "    if square_index[0] <= 7 or square_index[2] <= 7 or square_index[1] >= im_slice.shape[0]-7 or square_index[3] >= im_slice.shape[0]-7: \n",
    "        square_index = -1\n",
    "        sub_image = -1\n",
    "        \n",
    "    else: \n",
    "        \n",
    "        square_index = [square_index[0]-7, square_index[1]+7, \n",
    "                                square_index[2]-7, square_index[3]+7]\n",
    "        \n",
    "        # Crop the mask image. \n",
    "        sub_image = im_slice[square_index[2]: square_index[3], \n",
    "                                square_index[0]: square_index[1]]\n",
    "\n",
    "        # Crop the mask image data so only the mask of interest is included. \n",
    "        sub_image[sub_image >= cutoff + 1] = 0\n",
    "        sub_image[sub_image <= cutoff - 1] = 0\n",
    "\n",
    "    return(square_index, sub_image)"
   ]
  },
  {
   "cell_type": "markdown",
   "id": "cceb9963-14f5-4838-90cf-33515b56f5ea",
   "metadata": {},
   "source": [
    "--- \n",
    "### Get the boundary around the cell mask. "
   ]
  },
  {
   "cell_type": "code",
   "execution_count": 10,
   "id": "eff1a295-bbc5-4fcf-bf38-9f8274620c05",
   "metadata": {
    "tags": []
   },
   "outputs": [],
   "source": [
    "def get_contours(sub_im):\n",
    "    '''Use skimage to find the outline of the cell masks using the contour function.'''\n",
    "    \n",
    "    # Find the contours of the ring mask. \n",
    "    contour = measure.find_contours(sub_im, 0.1, fully_connected='high')\n",
    "    \n",
    "    # If the contour array has more than one set of values, \n",
    "    # then the first value is extracted. \n",
    "    if np.array(contour).shape[0] != 1: \n",
    "        contour = np.array(contour)[0]\n",
    "        contour = np.reshape(contour, [1, contour.shape[0],  contour.shape[1]])\n",
    "        \n",
    "    return(np.array(contour)[0, :, :])"
   ]
  },
  {
   "cell_type": "markdown",
   "id": "2d4d19d0-c3b4-4c15-a3e3-2b6a5c871b03",
   "metadata": {},
   "source": [
    "---\n",
    "### A function called to calculate the diameter of the rings from the ring segmentation masks. "
   ]
  },
  {
   "cell_type": "code",
   "execution_count": 11,
   "id": "c5899633-185f-4d30-a01d-67f3090b547c",
   "metadata": {
    "tags": []
   },
   "outputs": [],
   "source": [
    "def find_diameter(diam, rad, mask_inds): \n",
    "    '''Calculate the diameter of the mask in question.'''\n",
    "    \n",
    "    # Calculate the diameter of the circle from x and y co-ordinates. \n",
    "    major_axis_a = np.power( (mask_inds[0, 0] - mask_inds[diam, 0] ) , 2)\n",
    "    major_axis_b = np.power( (mask_inds[0, 1] - mask_inds[diam, 1] ) , 2)\n",
    "    major_axis = np.sqrt(major_axis_a + major_axis_b)\n",
    "    \n",
    "    # Calculate the diameter of the circle from x and y co-ordinates. \n",
    "    minor_axis_a = np.power( (mask_inds[rad, 0] - mask_inds[diam+rad, 0] ) , 2)\n",
    "    minor_axis_b = np.power( (mask_inds[rad, 1] - mask_inds[diam+rad, 1] ) , 2)\n",
    "    minor_axis = np.sqrt(minor_axis_a + minor_axis_b)\n",
    "    \n",
    "    # Find the mean diameter. \n",
    "    mask_diameter = np.mean([major_axis, minor_axis])\n",
    "    \n",
    "    return(mask_diameter)"
   ]
  },
  {
   "cell_type": "markdown",
   "id": "0cf569fd-1577-4e77-ada3-a7d2c6679afd",
   "metadata": {},
   "source": [
    "--- \n",
    "### A function to remove the image data from around the outer boundary of the ring boundary."
   ]
  },
  {
   "cell_type": "code",
   "execution_count": 12,
   "id": "134890ad-4e63-4a6c-8aeb-e9f837cf5c42",
   "metadata": {
    "tags": []
   },
   "outputs": [],
   "source": [
    "def sub_image_outer_ring_iso(im, x_array, y_array):\n",
    "    '''Using the cropped image as the input image, this function \n",
    "    actively sets all values outside the outer more perimeter of the \n",
    "    segmentation ring to zero. '''\n",
    "    \n",
    "    im = np.array(im)\n",
    "    \n",
    "    # For all the y pixel values (image column lines). \n",
    "    for m in range(im.shape[0]):\n",
    "        # If the image value is larger than the maximum mask pixel \n",
    "        # value, set column to 0. \n",
    "        if m > np.max(y_array):\n",
    "            im[m, :] = 0 \n",
    "        # If the image value is smaller than the minimum mask pixel \n",
    "        # value, set column to 0. \n",
    "        elif m < np.min(y_array):\n",
    "            im[m, :] = 0\n",
    "\n",
    "        else: \n",
    "            # Find the minimum and maximum pixel values in x of the mask \n",
    "            # for a given y value. \n",
    "            y_ind = np.abs(y_array - m).argmin()\n",
    "            y_val = np.round(y_array[y_ind], 0)\n",
    "\n",
    "            where_y = np.where(np.round(y_array, 0) == y_val)[0]\n",
    "\n",
    "            x_vals = x_array[where_y]\n",
    "            \n",
    "            # If the pixel exists outside of the ring mask, set to zero. \n",
    "            for n in range(im.shape[1]):\n",
    "                if  n > np.max(x_vals) or  n < np.min(x_vals): \n",
    "                    im[m,n] = 0\n",
    "    \n",
    "    return(im)"
   ]
  },
  {
   "cell_type": "markdown",
   "id": "d78f1065-3554-43d9-969c-d5436b0e739c",
   "metadata": {},
   "source": [
    "--- \n",
    "### A function used to remove image data from inside the inner perimeter of the segmented ring."
   ]
  },
  {
   "cell_type": "code",
   "execution_count": 13,
   "id": "a8f43dd0-6c91-472d-acc6-0fc1fbbb89a7",
   "metadata": {
    "tags": []
   },
   "outputs": [],
   "source": [
    "def sub_image_inner_ring_iso(im, x_array, y_array):\n",
    "    '''Using the cropped image as an input, this function will set all \n",
    "    of the image pixel values to zero if they lie within the inner \n",
    "    perimeter of the segmented ring. \n",
    "    im = image\n",
    "    x_arry, y_array = contour co-ordinates. '''\n",
    "\n",
    "    # Initialise variable. \n",
    "    im = np.array(im)\n",
    "    \n",
    "    # Loop through all the y image points. \n",
    "    for m in range(im.shape[0]):\n",
    "        # If the pixel lies within the inner perimeter of the \n",
    "        # y pixel values is unchanged. \n",
    "        if m > np.max(y_array) or m < np.min(y_array):\n",
    "            continue\n",
    "        else: \n",
    "            # If the pixel value is within the bounded region\n",
    "            # in y.\n",
    "            # Find the y values from the bounding circle closest to m. \n",
    "            y_ind = np.abs(y_array - m).argmin()\n",
    "            # Dind the corresponding values of y. \n",
    "            y_val = np.round(y_array[y_ind], 0)\n",
    "         \n",
    "            # Find the x values that correspond to the y values \n",
    "            # That lie outside the ring perimeter. \n",
    "            where_y = np.where(np.round(y_array, 0) == y_val)[0]\n",
    "                                                              \n",
    "            # Grab the associated x values. \n",
    "            x_vals = x_array[where_y]\n",
    "    \n",
    "            # Loop around the x values. \n",
    "            for n in range(im.shape[1]):\n",
    "                if  n < np.max(x_vals) and  n > np.min(x_vals): \n",
    "                    # If the pixel value is outside the perimeter of the \n",
    "                    # ring in x. Set the pixel value to 0. \n",
    "                    im[m,n] = 0\n",
    "    \n",
    "    return(im)"
   ]
  },
  {
   "cell_type": "markdown",
   "id": "ad0e9952-0e92-4af2-831c-507dc925c48b",
   "metadata": {},
   "source": [
    "---\n",
    "### Calculate the inner ring diameter for the ring analysis. "
   ]
  },
  {
   "cell_type": "code",
   "execution_count": 14,
   "id": "c2baa8f0-371a-43d1-b846-66d933888681",
   "metadata": {
    "tags": []
   },
   "outputs": [],
   "source": [
    "def find_inner_ring(ring_crop):\n",
    "    '''Calculate the inner ring radius for the ring under study.'''\n",
    "    \n",
    "    # Perform a gaussian blur in on the outer_ring sub-image. \n",
    "    blurred_image = skimage.filters.gaussian(ring_crop, 1.5)\n",
    "    \n",
    "    # Find the mid-points. \n",
    "    mid_y = int(ring_crop.shape[0]/2)\n",
    "    mid_x = int(ring_crop.shape[1]/2)\n",
    "    \n",
    "    # Extract the cross sections from the image. \n",
    "    y_cross_sec = blurred_image[:, mid_x]\n",
    "    y_cross_sec = np.insert(y_cross_sec, 0, 0)\n",
    "    y_cross_sec = np.insert(y_cross_sec, len(y_cross_sec), 0)\n",
    "    \n",
    "    x_cross_sec = blurred_image[mid_y, :]\n",
    "    x_cross_sec = np.insert(x_cross_sec, 0, 0)\n",
    "    x_cross_sec = np.insert(x_cross_sec, len(x_cross_sec), 0)\n",
    "    \n",
    "    # Find the local peaks within the image. \n",
    "    peak_find_y = skimage.feature.peak_local_max(y_cross_sec)\n",
    "    peak_find_x = skimage.feature.peak_local_max(x_cross_sec)\n",
    "\n",
    "    # Find the mean intensity in the centre of the blurred image. \n",
    "    mean_low_intensity = np.mean(blurred_image[ mid_y-5 : mid_y + 5, \n",
    "                                         mid_x-5 : mid_x+5])\n",
    "\n",
    "    # Initialise \n",
    "    diam = 0\n",
    "    \n",
    "    if len(peak_find_y) == 0 or len(peak_find_x) == 0: \n",
    "        diam = -1\n",
    "        # print(peak_find_x)\n",
    "        # Prepare the peak find variable to have at least 2 values. \n",
    "        # If no peaks are found, then its not a ring. \n",
    "    \n",
    "    else: \n",
    "        # Find the FWHM for the peaks. \n",
    "        fwhm_y = (y_cross_sec[np.min(peak_find_y)] + \n",
    "                  y_cross_sec[np.max(peak_find_y)] + 2*mean_low_intensity)/4  \n",
    "        fwhm_x = (x_cross_sec[np.min(peak_find_x)] + \n",
    "                  x_cross_sec[np.min(peak_find_x)] + 2*mean_low_intensity)/4 \n",
    "        \n",
    "        \n",
    "        if np.min(peak_find_y) >= mid_y: \n",
    "            peak_find_y = np.append(peak_find_y, 0)\n",
    "        if np.max(peak_find_y) <= mid_y: \n",
    "            peak_find_y = np.append(peak_find_y, len(y_cross_sec))\n",
    "        \n",
    "        if np.min(peak_find_x) >= mid_x: \n",
    "            peak_find_x = np.append(peak_find_x, 0)\n",
    "        if np.max(peak_find_x) <= mid_x: \n",
    "            peak_find_x = np.append(peak_find_x, len(x_cross_sec))\n",
    "\n",
    "        # If we have peaks, calculate the inner radius. \n",
    "        if diam == 0:         \n",
    "            # Find the FWHM point for the y and x domains. \n",
    "            dip_y1 = np.abs(y_cross_sec[np.min(peak_find_y) : mid_y] - fwhm_y).argmin() + np.min(peak_find_y)\n",
    "            dip_y2 = np.abs(y_cross_sec[mid_y : np.max(peak_find_y)] - fwhm_y).argmin() + mid_y\n",
    "            diam_y = dip_y2 - dip_y1\n",
    "\n",
    "            dip_x1 = np.abs(x_cross_sec[np.min(peak_find_x) : mid_x] - fwhm_x).argmin() + np.min(peak_find_x)\n",
    "            dip_x2 = np.abs(x_cross_sec[mid_x : np.max(peak_find_x)] - fwhm_x).argmin() + mid_x\n",
    "            diam_x = dip_x2 - dip_x1\n",
    "            # Calculate the radius of the inner ring. \n",
    "            diam = int( ( diam_y + diam_x) / 4)\n",
    "        \n",
    "    return(diam)"
   ]
  },
  {
   "cell_type": "markdown",
   "id": "23b7bca2-c6b8-4fd2-8f21-8f0e2b92ac05",
   "metadata": {},
   "source": [
    "-----\n",
    "## Calculate FWHM for the rings\n",
    "----"
   ]
  },
  {
   "cell_type": "markdown",
   "id": "f2cc1daa-635c-4cf6-b373-f865708c3679",
   "metadata": {},
   "source": [
    "### Gauss fit"
   ]
  },
  {
   "cell_type": "code",
   "execution_count": 15,
   "id": "0de500c8-3a8f-426c-99c4-b266878cbf74",
   "metadata": {
    "tags": []
   },
   "outputs": [],
   "source": [
    "def gauss_fit(x, A, x0, fwhm, c):\n",
    "    '''Fit a gaussian curve to the data.'''\n",
    "    \n",
    "    y = A * np.exp( -np.power(x - x0, 2) / ( 2* np.power(fwhm, 2) ) ) + c\n",
    "    \n",
    "    return(y) "
   ]
  },
  {
   "cell_type": "code",
   "execution_count": 16,
   "id": "97754506-ef9d-46ee-b5e5-b3377e67a2a7",
   "metadata": {
    "tags": []
   },
   "outputs": [],
   "source": [
    "def r_sqaured(y_image, y_fit):\n",
    "    '''Calculate the r squared value for the \n",
    "    gauss fitting. '''\n",
    "    \n",
    "    s_res = np.sum( np.power(y_image - y_fit, 2 ) )\n",
    "    s_tot = np.sum( np.power(y_image - np.mean(y_image), 2) )\n",
    "    \n",
    "    \n",
    "    r_squared = 1 - s_res/s_tot\n",
    "    \n",
    "    return(r_squared)\n",
    "    "
   ]
  },
  {
   "cell_type": "code",
   "execution_count": 17,
   "id": "858cf764-a860-4a50-b1fe-a4d3aad8a1e2",
   "metadata": {
    "tags": []
   },
   "outputs": [],
   "source": [
    "def ring_fwhm(x_array, y_array, pos_diag_array, neg_diag_array):\n",
    "    '''To select ring in which the diameter is at its largest across planes, \n",
    "    I am using the mean FWHM for the ring. \n",
    "    Here we take the x and y linear slices through the centre of the ring, \n",
    "    as well as the crop diagonals both left to write and visa versa, \n",
    "    and split these in to 4 arrays: edge -> centre of ring. \n",
    "    I will then attempt to fit a gaussian to the data, and then, from this fitting, \n",
    "    extract the FWHM. \n",
    "    If the gaussing fitting can't be peformed, I will potentially use this as an excuse to \n",
    "    bin the ring as not real, if this is appropriate. '''\n",
    "    \n",
    "    # Find the mid-point of the arrays. \n",
    "    mid_y = int(len(y_array)/2) \n",
    "    mid_x = int(len(x_array)/2)\n",
    "    mid_pos_diag = int(len(pos_diag_array)/2)\n",
    "    mid_neg_diag = int(len(neg_diag_array)/2)\n",
    "    \n",
    "    # Split the y array into 2 halves. \n",
    "    top_y = np.array(y_array[0:mid_y])\n",
    "    low_y = np.array(y_array[mid_y:])\n",
    "    # Split the x_array into 2 halves. \n",
    "    top_x = np.array(x_array[0:mid_x])\n",
    "    low_x = np.array(x_array[mid_x:])\n",
    "    # Split the pos_diag_array into 2 halves. \n",
    "    top_pos_diag = np.array(pos_diag_array[0:mid_pos_diag])\n",
    "    low_pos_diag = np.array(pos_diag_array[mid_pos_diag:])\n",
    "    # Split the neg_diag_array into 2 halves. \n",
    "    top_neg_diag = np.array(neg_diag_array[0:mid_neg_diag])\n",
    "    low_neg_diag = np.array(neg_diag_array[mid_neg_diag:])\n",
    "    \n",
    "    \n",
    "    \n",
    "    # Complile into one variable. \n",
    "    quarters = [top_y, low_y, top_x, low_x, \n",
    "               top_pos_diag, low_pos_diag,\n",
    "               top_neg_diag, low_neg_diag]\n",
    "    \n",
    "    fwhms = []\n",
    "    \n",
    "    for i in range( len(quarters) ): \n",
    "        split = quarters[i]\n",
    "        \n",
    "        # split[split < np.median(split)] = np.median(split)\n",
    "        \n",
    "        p0 =  [1000, np.abs(split - np.max(split)).argmin(), 1, 1000]\n",
    "        \n",
    "        num_of_points = np.arange(0, len(split), 1)\n",
    "        try: \n",
    "            opt, conf = scipy.optimize.curve_fit(gauss_fit, num_of_points, split, p0)\n",
    "            y_fit = gauss_fit(num_of_points, opt[0], opt[1], opt[2], opt[3])\n",
    "        \n",
    "            r_square = r_sqaured(split, y_fit)\n",
    "      \n",
    "            if r_square > 0.8: \n",
    "                fwhms.append(opt[2])\n",
    "        except: \n",
    "            continue\n",
    "\n",
    "        # fig, ax = plot.subplots()\n",
    "#         y_fit = gauss_fit(num_of_points, opt[0], opt[1], opt[2], opt[3])\n",
    "\n",
    "#         plot.scatter(num_of_points, split)\n",
    "#         plot.plot(num_of_points, y_fit)\n",
    "            \n",
    "    if len(fwhms) == 0: \n",
    "        fhwms = -1\n",
    "\n",
    "    return(np.mean(fwhms))"
   ]
  },
  {
   "cell_type": "markdown",
   "id": "fdef3966-2944-4253-97aa-0563bc4bad8c",
   "metadata": {},
   "source": [
    "---\n",
    "### Ring analysis loop"
   ]
  },
  {
   "cell_type": "code",
   "execution_count": 18,
   "id": "7576b5a3-34e3-41ef-a19b-e39c40e3a01b",
   "metadata": {
    "tags": []
   },
   "outputs": [],
   "source": [
    "def ring_analysis(ring_im, ring_masks): \n",
    "    '''A method that is used to perform the analysis of the \n",
    "    rings in the image.\n",
    "    There are a few of the above methods called in this fuction. \n",
    "    these are: \n",
    "        crop_ring_mask - Crop out the ring in question.\n",
    "        get_contours - Get the boundary values for the ring mask. \n",
    "        find_diameter - Find the mean outer diameter of the ring mask. \n",
    "        sub_image_outer_ring_iso - Remove information from around the outside of the ring. \n",
    "        find_inner_ring - Find the inner radius of the ring. \n",
    "        sub_image_inner_ring_iso - Remove the information from the inside of the ring. \n",
    "        ''' \n",
    "    \n",
    "    # Create a variable for the angles in a circle. \n",
    "    theta = np.linspace(0, 2*np.pi, 314)\n",
    "    # Initialise\n",
    "    ring_dataframe = pd.DataFrame()\n",
    "    # Loop around the frames in the ring frames. \n",
    "    for j in range( ring_stack_masks.shape[0] ):\n",
    "        \n",
    "        # Extract a single frame from the ring mask. \n",
    "        single_frame = np.array(ring_stack_masks[j,...]).astype(int)\n",
    "        # Loop around all masks in the image frame. \n",
    "\n",
    "\n",
    "        for i in range( np.max(single_frame)  ): \n",
    "            # set the ring value to analyse. \n",
    "            ring_num = i + 1\n",
    "            # Get the indicies that corresponsd to the mask number. \n",
    "            mask_indicies = np.where(single_frame == ring_num)\n",
    "            # print(j, ring_num)\n",
    "            if len(mask_indicies[0]) != 0:\n",
    "                # Crop out the ring under study. \n",
    "                square_index, ring_crop = crop_ring_mask(mask_indicies, np.array(single_frame), ring_num)\n",
    "                # If square index = -1, the ring is too close to the \n",
    "                # edge of the image and is therefore ignored. \n",
    "                if square_index != -1:\n",
    "                    # Use the contour function to get the outline of the ring. \n",
    "                    outline = get_contours(ring_crop)\n",
    "\n",
    "                    # Calculate the half and quater indicies for the mask boundary. \n",
    "                    boundary_diam = int(0.5 * outline[:,0].shape[0] )\n",
    "                    boundary_rad = int(0.5 * boundary_diam) \n",
    "                    \n",
    "#                     if i == 0 and j == 26:\n",
    "#                   # Crop out the ring from the main image. \n",
    "                    sub_im = np.array(ring_im[j, square_index[2]:square_index[3], \n",
    "                                     square_index[0]:square_index[1]])\n",
    "\n",
    "                    sub_im_x = sub_im[:, int(sub_im.shape[1]/2)]\n",
    "                    sub_im_y = sub_im[int(sub_im.shape[0]/2), :]       \n",
    "                    sub_im_diag_pos = np.diag(sub_im)\n",
    "                    sub_im_diag_neg = np.diag(np.fliplr(sub_im))\n",
    "\n",
    "                    mean_fwhm = ring_fwhm(sub_im_x, sub_im_y, \n",
    "                                          sub_im_diag_pos, sub_im_diag_neg)\n",
    "\n",
    "                    if mean_fwhm == -1:\n",
    "                        continue\n",
    "\n",
    "                    # Find the mean diameter for the ring. \n",
    "                    diameter = find_diameter(boundary_diam, boundary_rad, outline)\n",
    "\n",
    "                    # find the centre of the ring. \n",
    "                    centre_x = np.mean(outline[:, 1] )\n",
    "                    centre_y = np.mean(outline[:, 0] )\n",
    "\n",
    "                    # Create the outer boundry for the ring. \n",
    "                    circ_x = diameter/2 * np.cos(theta) + centre_x\n",
    "                    circ_y = diameter/2 * np.sin(theta) + centre_y\n",
    "\n",
    "                    # Set all values outside of the outer ring \n",
    "                    # to zero. \n",
    "                    outer_ring = sub_image_outer_ring_iso(ring_im[j, square_index[2]-2:square_index[3]+2, \n",
    "                                                                  square_index[0]-2:square_index[1]+2], circ_x, circ_y) \n",
    "\n",
    "                    # If the outside of the ring is dimmer than the inside, then ignore. \n",
    "                    if np.mean(outer_ring[outer_ring > 0]) < np.mean(outer_ring[int(centre_y - diameter/4) : int(centre_y + diameter/4), \n",
    "                                                int(centre_x - int(diameter/4) ) : int(centre_x + int(diameter/4) )]):\n",
    "                        continue\n",
    "\n",
    "                    else:\n",
    "                        # Calculate the inner radius of the ring. \n",
    "                        inner_radius = find_inner_ring(outer_ring)\n",
    "\n",
    "                        # Ignore any rings that don't exist. \n",
    "                        if inner_radius != -1:\n",
    "\n",
    "                            inner_ring_x =  inner_radius * np.cos(theta) + centre_x\n",
    "                            inner_ring_y =  inner_radius * np.sin(theta) + centre_y\n",
    "\n",
    "                            ring_only_im = sub_image_inner_ring_iso(outer_ring, inner_ring_x, inner_ring_y)\n",
    "\n",
    "                            mean_ring_intensity = np.median(ring_only_im[ring_only_im > 0])\n",
    "\n",
    "                            inner_ring_intensity = np.median(outer_ring[int(centre_y - diameter/4) : int(centre_y + diameter/4), \n",
    "                                                        int(centre_x - int(diameter/4) ) : int(centre_x + int(diameter/4) )])\n",
    "                            area_pixels = len(np.where(ring_only_im != 0)[0])\n",
    "\n",
    "                            if mean_ring_intensity / inner_ring_intensity > 1.25: \n",
    "\n",
    "                                ring_dataframe_dic = {'Frame': [j], \n",
    "                                                     'Ring number': [ring_num], \n",
    "                                                     'X position': [int(centre_x + square_index[0])], \n",
    "                                                     'Y position': [int(centre_y + square_index[2])],\n",
    "                                                     'Mean Ring FWHM (um)': [image_resolution_x *mean_fwhm], \n",
    "                                                     'Outer Diameter (um)': [image_resolution_x * diameter], \n",
    "                                                     'Inner Diameter (um)': [image_resolution_x * inner_radius*2], \n",
    "                                                     'Area (um^2)': [area_pixels * np.power(image_resolution_x, 2)],\n",
    "                                                     'Maximum ring intensity': [np.max(ring_only_im[ring_only_im > 0])],\n",
    "                                                     'Mean ring intensity': [mean_ring_intensity], \n",
    "                                                     'Median ring intensity': [np.median(ring_only_im[ring_only_im > 0])], \n",
    "                                                     'Standard Deviation intensity': [np.std(ring_only_im[ring_only_im > 0])]}\n",
    "\n",
    "                                ring_dataframe = pd.concat([ring_dataframe, pd.DataFrame(ring_dataframe_dic)])\n",
    "\n",
    "            else: \n",
    "                print('skipped')\n",
    "    return(ring_dataframe)"
   ]
  },
  {
   "cell_type": "markdown",
   "id": "b869e13e-f08f-4e22-af4e-9098d27ae58b",
   "metadata": {
    "tags": []
   },
   "source": [
    "---\n",
    "### Filter rings to remove any overlaps. "
   ]
  },
  {
   "cell_type": "code",
   "execution_count": 19,
   "id": "9be4df8b-1e4c-4066-9fbd-d4a0688890ac",
   "metadata": {
    "tags": []
   },
   "outputs": [],
   "source": [
    "def filter_rings(rings_dataframe): \n",
    "    '''In this method, we are looking to filter the rings based on \n",
    "    if there is any overlap between the rings in the image in the x and y co-ordinates \n",
    "    across different frames in the image stack. '''\n",
    "    \n",
    "    # Initialise variables. \n",
    "    store = np.array([])\n",
    "    reduced_ring_dataframe = pd.DataFrame()\n",
    "\n",
    "    # For all rings analysed. \n",
    "    # For all rings analysed. \n",
    "    for i in range(rings_dataframe.shape[0]):\n",
    "\n",
    "        # Skip any rings which have been previously banked/sorted. \n",
    "        if len( np.where(store == i )[0] ) == 0: \n",
    "            # Get the x and y locations for the frame. \n",
    "            x = rings_dataframe['X position'].iloc[i]\n",
    "            y = rings_dataframe['Y position'].iloc[i]\n",
    "\n",
    "            # Check to see if the central position of the ring_mask is \n",
    "            # within 20 pixels of another mask in the ring_mask_frame. \n",
    "            close_x = np.where(( rings_dataframe['X position'] > x - 15) & ( rings_dataframe['X position'] < x + 15))[0] \n",
    "            close_y = np.where(( rings_dataframe['Y position'] > y - 15) & ( rings_dataframe['Y position']  < y + 15))[0]\n",
    "\n",
    "            # initialise variable. \n",
    "            matches = []\n",
    "\n",
    "            # Loop around all rings that have an x location within 10 pixels \n",
    "            # Of the ring in question. \n",
    "            for j in range(len(close_x)):\n",
    "                # If the y position of the ring also corresponds to the \n",
    "                # ring in question, save these rings for sorting. \n",
    "                if len(np.where(close_y == close_x[j])[0]) != 0 and len( np.where(store == close_x[j] )[0] ) == 0: \n",
    "                    store = np.append(store, close_x[j])\n",
    "                    matches.append(close_x[j])\n",
    "\n",
    "            # # Set the ring diameter to the first value. \n",
    "            \n",
    "            ########\n",
    "             ## Ryan Edit 09/10/2023: As Pete has requested, rather than filtering the masks on the \n",
    "                # Diameter of the rings segmented (which is heavily dependent on cellpose), I am \n",
    "                # now filtering on the median intensity of the ring. The idea is that the ring will \n",
    "                # be at it's brightest when at it's largest. \n",
    "                # In a quick test, I do see this effect, marginal though it was, with the normalised intesity increased. \n",
    "                # I will change the save path for this script so that it does not over-write previous analysis. \n",
    "            ########\n",
    "            \n",
    "            # diameters = rings_dataframe['Outer Diameter (um)'].iloc[matches[0]]\n",
    "            # diameters = rings_dataframe['Median ring intensity'].iloc[matches[0]]\n",
    "            fwhm_test = rings_dataframe['Mean Ring FWHM (Pixels)'].iloc[matches[0]]\n",
    "            largest_ring_index = matches[0]\n",
    "\n",
    "            # If there is more than one corresponding ring...\n",
    "            if len(matches) > 1: \n",
    "                # Loop around all rings and only take the largest of them. \n",
    "                for k in range( len(matches)-1 ):\n",
    "                    if rings_dataframe['Mean Ring FWHM (Pixels)'].iloc[matches[k+1]] < fwhm_test: # rings_dataframe['Median ring intensity'].iloc[matches[k+1]] > diameters: \n",
    "                        largest_ring_index = matches[k+1]\n",
    "                        fwhm_test = rings_dataframe['Mean Ring FWHM (Pixels)'].iloc[matches[k+1]] \n",
    "                        # diameters = rings_dataframe['Outer Diameter (um)'].iloc[matches[0]]\n",
    "                        # diameters = rings_dataframe['Median ring intensity'].iloc[matches[0]]\n",
    "\n",
    "            # Save the data for the largest ring. \n",
    "            if reduced_ring_dataframe.shape[0] == 0: \n",
    "                reduced_ring_dataframe = rings_dataframe.iloc[largest_ring_index]    \n",
    "            else: \n",
    "                reduced_ring_dataframe = pd.concat([reduced_ring_dataframe, rings_dataframe.iloc[largest_ring_index] ], ignore_index = True, axis = 1)\n",
    "\n",
    "    # Transpose the dataframe. \n",
    "    reduced_ring_dataframe = reduced_ring_dataframe.T\n",
    "    \n",
    "    return(reduced_ring_dataframe.sort_values(['Frame', 'Ring number']))"
   ]
  },
  {
   "cell_type": "markdown",
   "id": "bb848e76-2936-4e31-9de6-79a1f863d841",
   "metadata": {
    "tags": []
   },
   "source": [
    "---\n",
    "### Create a stack image for the ring masks that passed the filtering process. "
   ]
  },
  {
   "cell_type": "code",
   "execution_count": 20,
   "id": "0e84f434-3860-48a0-884d-e821ea1674d2",
   "metadata": {
    "tags": []
   },
   "outputs": [],
   "source": [
    "def filter_ring_masks(reduced_ring_dataframe, ring_stack_masks): \n",
    "    '''Create a stack images of the filtered rings. '''\n",
    "    \n",
    "    # initialise. \n",
    "    zeros = np.zeros(ring_stack_masks.shape)\n",
    "    \n",
    "    # For all the rings in the image. \n",
    "    for i in range(reduced_ring_dataframe.shape[0]): \n",
    "        #GEt the frame and ring numbers. \n",
    "        frame = int(reduced_ring_dataframe['Frame'].iloc[i])\n",
    "        ring = int(reduced_ring_dataframe['Ring number'].iloc[i])\n",
    "        \n",
    "        # Extract a single frame from the mask stack image. \n",
    "        single_ring_frame = np.array(ring_stack_masks[frame, :, :])\n",
    "        \n",
    "        # Set all values in the mask frame to 0 that aren't the \n",
    "        # current mask. \n",
    "        single_ring_frame[single_ring_frame != ring] = 0\n",
    "        # Add this mask to the new tiff stack. \n",
    "        zeros[frame, ...] = zeros[frame, ...] + single_ring_frame\n",
    "\n",
    "    return( zeros.astype(int) )\n",
    "    "
   ]
  },
  {
   "cell_type": "markdown",
   "id": "bde86b81-426d-49aa-8aac-230bcd65fd4a",
   "metadata": {
    "tags": []
   },
   "source": [
    "--- \n",
    "### Perform cell segmentation"
   ]
  },
  {
   "cell_type": "code",
   "execution_count": 21,
   "id": "eee71ca6-3489-4f4a-811d-b0d601077ea7",
   "metadata": {
    "tags": []
   },
   "outputs": [],
   "source": [
    "def cell_segmentation(cell_seg_model, ring_im, reduced_ring_dataframe, first_frame): \n",
    "    '''Use cellpsoe to segment out the cells in the image.'''\n",
    "    \n",
    "    # Set the channels for grey-scale images. \n",
    "    channel = [0, 0]\n",
    "    \n",
    "    #Download the cell segmentation model.\n",
    "    cell_model = models.CellposeModel(model_type = cell_seg_model, gpu = True)\n",
    "    \n",
    "    # intialise variable\n",
    "    cell_stack_masks = []\n",
    "\n",
    "    for i in range(first_frame): \n",
    "        cell_stack_masks.append(np.zeros([ring_im.shape[1], ring_im.shape[2]]))\n",
    "\n",
    "    # Segment the cells in the image stack.\n",
    "    for k in range( int(np.max(reduced_ring_dataframe['Frame']))+1 - first_frame ): \n",
    "\n",
    "        image_frame = np.array(ring_im[first_frame + k, :, :])\n",
    "        # Get the segmentation for each of the cells in the image. \n",
    "        cell_masks, cell_flow, cell_style  = cell_model.eval(image_frame, diameter=None, channels = channel)\n",
    "        # Save the image masks. \n",
    "        cell_stack_masks.append(cell_masks)\n",
    "\n",
    "    cell_stack_masks = np.array(cell_stack_masks).astype(int)\n",
    "    \n",
    "    return(cell_stack_masks)"
   ]
  },
  {
   "cell_type": "markdown",
   "id": "9593ebcf-4451-4013-9f24-854822970bff",
   "metadata": {
    "tags": []
   },
   "source": [
    "---\n",
    "### Find the cell that is associated with a given ring from the filtered dataset. "
   ]
  },
  {
   "cell_type": "code",
   "execution_count": 22,
   "id": "b4973cea-b8b0-4bd8-9085-3b91f30ad33d",
   "metadata": {
    "tags": []
   },
   "outputs": [],
   "source": [
    "def get_cell_mask_value(cell_mask_stack, x_pos, y_pos, chosen_frame):\n",
    "    '''Find the mean intensity from the cell that the ring originates from. \n",
    "    I have included a \"catch_all\" set of if statements if the mask does not exist to \n",
    "    try and extract the intensity of the cell from the frame above or \n",
    "    below the frame in question as an approximation for the cell intensity. '''\n",
    "    \n",
    "    cell_frame = chosen_frame\n",
    "    # Find the cell mask value for the central xy position of the cell.\n",
    "    # print(cell_frame, y_pos, x_pos)\n",
    "    # print(cell_mask_stack.shape)\n",
    "    cell_mask_value = cell_mask_stack[cell_frame, y_pos, x_pos]\n",
    "    \n",
    "    \n",
    "    # If the value is 0, try to extract the value for the cell brightness \n",
    "    # from the frames above and/or below the current frame. \n",
    "    store_i = []\n",
    "    if cell_mask_value == 0: \n",
    "        for i in range(cell_mask_stack.shape[0]):\n",
    "            if cell_mask_stack[i, y_pos, x_pos] != 0:\n",
    "                store_i.append(i)\n",
    "                \n",
    "        store_i = np.array(store_i)\n",
    "        \n",
    "        try:\n",
    "            cell_frame = store_i[np.abs(store_i - chosen_frame).argmin()]\n",
    "            cell_mask_value = cell_mask_stack[cell_frame, y_pos, x_pos]\n",
    "        except:\n",
    "            cell_mask_value = -1\n",
    "            cell_frame = -1\n",
    "        \n",
    "    return(cell_mask_value, cell_frame)"
   ]
  },
  {
   "cell_type": "markdown",
   "id": "5ae8ed81-cd38-4be9-b9e5-72df86c3569e",
   "metadata": {
    "tags": []
   },
   "source": [
    "--- \n",
    "### Perform the analysis of the cells to include the normalised ring intensity. "
   ]
  },
  {
   "cell_type": "code",
   "execution_count": 23,
   "id": "5012ef52-d33d-4132-8fce-c19e33422bfb",
   "metadata": {
    "tags": []
   },
   "outputs": [],
   "source": [
    "def ring_cell_analysis(reduced_ring_dataframe, cell_stack_mask, image_trim):\n",
    "    ''' '''\n",
    "\n",
    "    # initialise variables. \n",
    "    analysed_data = pd.DataFrame()\n",
    "\n",
    "    for i in range(reduced_ring_dataframe.shape[0]): \n",
    "        ring = i\n",
    "        # Get the frame and the value of the ring to be analysed. \n",
    "        frame = int(reduced_ring_dataframe['Frame'].iloc[ring]) \n",
    "\n",
    "        image = image_trim[frame, ...]\n",
    "        \n",
    "        # Get the ring location from the dataframe. \n",
    "        ring_centre_x  = reduced_ring_dataframe['X position'].iloc[ring]\n",
    "        ring_centre_y  = reduced_ring_dataframe['Y position'].iloc[ring]\n",
    "\n",
    "        cell_mask_value, chosen_cell_frame = get_cell_mask_value(cell_stack_mask, int(ring_centre_x), int(ring_centre_y), int(frame))\n",
    "\n",
    "        if cell_mask_value != -1:\n",
    "            all_mask_pixels = np.where(cell_stack_mask[chosen_cell_frame, :, :] == cell_mask_value)\n",
    "            cell_pixel_median = np.median(image[all_mask_pixels[0], all_mask_pixels[1]])\n",
    "            cell_pixel_std = np.std(image[all_mask_pixels[0], all_mask_pixels[1]])\n",
    "\n",
    "            if len(all_mask_pixels[0]) != 0:\n",
    "                analysis_dict = {'Frame': [frame], \n",
    "                                'Ring': [int(reduced_ring_dataframe['Ring number'].iloc[ring])],\n",
    "                                'Ring position x': [int(ring_centre_x)], \n",
    "                                'Ring position y': [int(ring_centre_y)], \n",
    "                                'Area (um^2)': [reduced_ring_dataframe['Area (um^2)'].iloc[ring]], \n",
    "                                'Outer Diameter (um)': [reduced_ring_dataframe['Outer Diameter (um)'].iloc[ring]], \n",
    "                                'Inner Diameter (um)': [reduced_ring_dataframe['Inner Diameter (um)'].iloc[ring]],\n",
    "                                'Maximum ring intensity': [reduced_ring_dataframe['Maximum ring intensity'].iloc[ring]], \n",
    "                                'Median ring intensity': [reduced_ring_dataframe['Median ring intensity'].iloc[ring]], \n",
    "                                'Standard Deviation Ring intensity': [reduced_ring_dataframe['Standard Deviation intensity'].iloc[ring]],\n",
    "                                'Cell Frame': [chosen_cell_frame],\n",
    "                                'Cell Mask Number': [cell_mask_value],\n",
    "                                'Origin Cell Median Intensity': [cell_pixel_median], \n",
    "                                'Origin Cell std Intensity': [cell_pixel_std], \n",
    "                                'Normalised Ring intensity': [reduced_ring_dataframe['Median ring intensity'].iloc[ring] / cell_pixel_median]}\n",
    "\n",
    "                analysed_data = pd.concat([analysed_data, pd.DataFrame(analysis_dict)], ignore_index = True)\n",
    "    \n",
    "    return(analysed_data)"
   ]
  },
  {
   "cell_type": "markdown",
   "id": "21ba71b7-11b9-4134-9557-52a0e1af4027",
   "metadata": {},
   "source": [
    "----\n",
    "## Run the Automated analysis"
   ]
  },
  {
   "cell_type": "code",
   "execution_count": 27,
   "id": "4f0571e0-c325-4a6c-b4ae-d03d2e1828d9",
   "metadata": {
    "tags": []
   },
   "outputs": [
    {
     "name": "stderr",
     "output_type": "stream",
     "text": [
      "  0%|                                                                                            | 0/1 [00:00<?, ?it/s]"
     ]
    },
    {
     "name": "stdout",
     "output_type": "stream",
     "text": [
      "20230925_FastSR_hps6_PT336_z1_cell1_Out.tif\n"
     ]
    },
    {
     "name": "stderr",
     "output_type": "stream",
     "text": [
      "C:\\Users\\RCORBYN\\Anaconda3\\envs\\cellpose_and_tracking_gpu\\lib\\site-packages\\ome_types\\_convenience.py:106: FutureWarning: The default XML parser will be changing from 'xmlschema' to 'lxml' in version 0.4.0.  To silence this warning, please provide the `parser` argument, specifying either 'lxml' (to opt into the new behavior), or'xmlschema' (to retain the old behavior).\n",
      "  d = to_dict(os.fspath(xml), parser=parser, validate=validate)\n"
     ]
    },
    {
     "name": "stdout",
     "output_type": "stream",
     "text": [
      "Ring Segmentation Complete\n"
     ]
    },
    {
     "name": "stderr",
     "output_type": "stream",
     "text": [
      "100%|███████████████████████████████████████████████████████████████████████████████████| 1/1 [01:40<00:00, 100.49s/it]"
     ]
    },
    {
     "name": "stdout",
     "output_type": "stream",
     "text": [
      "Cell segmentation complete\n"
     ]
    },
    {
     "name": "stderr",
     "output_type": "stream",
     "text": [
      "\n"
     ]
    }
   ],
   "source": [
    "file_list = get_file_names(image_dir)\n",
    "\n",
    "save_folder_path = image_dir\n",
    "\n",
    "save_folder = save_folder_path + '/Ring_Analysis/'\n",
    "\n",
    "if os.path.exists(save_folder) == False:\n",
    "    os.mkdir(save_folder)\n",
    "    \n",
    "# get existing analysis file_names\n",
    "existing_files = get_existing_file_names(save_folder)\n",
    "# print(existing_files)\n",
    "\n",
    "ring_masks_folder = save_folder + 'Ring_masks/'\n",
    "if os.path.exists(ring_masks_folder) == False:\n",
    "    os.mkdir(ring_masks_folder)\n",
    "    \n",
    "cell_masks_folder = save_folder + 'Cell_masks/'\n",
    "if os.path.exists(cell_masks_folder) == False:\n",
    "    os.mkdir(cell_masks_folder)    \n",
    "    \n",
    "for i in tqdm.tqdm(range(1)):#len(file_list) ) ):\n",
    "    file_analysed = 0 \n",
    "    \n",
    "    for j in range(len(existing_files)):\n",
    "        if existing_files[j] == file_list[i][0:-4] + '_Analysis.csv':\n",
    "            file_analysed = 1       \n",
    "\n",
    "    if file_analysed == 0 : \n",
    "        print(file_list[i])\n",
    "        # Open the image\n",
    "        image, image_resolution_x, image_resolution_y = get_image_and_res(image_dir + '/' + file_list[i])\n",
    "        # Reduce the image to only the (Z, Y, X) axes.  \n",
    "        if file_list[i][-3:] == 'czi':\n",
    "            trimmed_image = image[0, 0, 0, 0, :, :, :, 0]\n",
    "        else: \n",
    "            trimmed_image = image\n",
    "\n",
    "        # Perform Ring Segmentation\n",
    "        ring_stack_masks = ring_segmentation(ring_model_dir, trimmed_image)\n",
    "        tf.imwrite(ring_masks_folder + file_list[i][0:-4] + '_all_rings_masks.tif', ring_stack_masks)\n",
    "        print('Ring Segmentation Complete')\n",
    "\n",
    "        # Get analysis from all of the rings segmented. \n",
    "        all_rings_df = ring_analysis(trimmed_image, ring_stack_masks)\n",
    "#         # Filter the rings to remove the overlapping rings. \n",
    "        filered_ring_df = filter_rings(all_rings_df)\n",
    "        filtered_ring_masks = filter_ring_masks(filered_ring_df, ring_stack_masks)\n",
    "        # Save the filtered ring masks. \n",
    "        tf.imwrite(ring_masks_folder + file_list[i][0:-4] + '_filtered_rings_masks.tif', filtered_ring_masks)\n",
    "\n",
    "        # Perform cell segmentation and save the masks to .tif file. \n",
    "        cell_masks = cell_segmentation(cell_model_dir, trimmed_image, filered_ring_df, int(np.min(filered_ring_df['Frame'])) )\n",
    "        tf.imwrite(cell_masks_folder + file_list[i][0:-4] + '_cell_masks.tif', cell_masks)\n",
    "        print('Cell segmentation complete')\n",
    "\n",
    "        # Perform ring analysis. \n",
    "        analysed_data = ring_cell_analysis(filered_ring_df, cell_masks, trimmed_image)\n",
    "        # Save ring analysis. \n",
    "        analysed_data.to_csv(save_folder + '20231017_' + file_list[i][0:-4] + '_Analysis.csv', index = False)\n",
    "            \n",
    "    else: \n",
    "        print('File already analysed, moving to next file')"
   ]
  },
  {
   "cell_type": "code",
   "execution_count": null,
   "id": "267164d0-b8c6-45b5-a74f-5b88de22890a",
   "metadata": {
    "tags": []
   },
   "outputs": [],
   "source": [
    "print(image.shape)"
   ]
  },
  {
   "cell_type": "code",
   "execution_count": null,
   "id": "3efd0ebb-a82d-4fd9-a976-c9058d201986",
   "metadata": {
    "tags": []
   },
   "outputs": [],
   "source": [
    "# # # image_trim = image[0, 0, 0, 0, :, :, :, 0]\n",
    "# # # print(image_trim.shape)\n",
    "\n",
    "viewer = napari.Viewer()\n",
    "viewer.add_image(trimmed_image)\n",
    "viewer.add_labels(filtered_ring_masks)\n",
    "viewer.add_labels(ring_stack_masks)\n",
    "\n",
    "viewer.add_labels(cell_masks)"
   ]
  },
  {
   "cell_type": "code",
   "execution_count": null,
   "id": "3b6929cb-5752-4479-9de0-3557a3fa8ddc",
   "metadata": {
    "tags": []
   },
   "outputs": [],
   "source": [
    "# print(ring_stack_masks.shape)\n",
    "# print(trimmed_image.shape)"
   ]
  },
  {
   "cell_type": "code",
   "execution_count": null,
   "id": "3de695e0-b1ee-4fe3-ab13-13671e1b7176",
   "metadata": {
    "tags": []
   },
   "outputs": [],
   "source": []
  },
  {
   "cell_type": "code",
   "execution_count": null,
   "id": "0062ce0b-2573-415a-9f24-d8c8a38e7057",
   "metadata": {
    "tags": []
   },
   "outputs": [],
   "source": [
    "# # all_rings_df.sort_values(['Frame', 'X position', 'Y position'])\n",
    "# save = 'C:/Users/RCORBYN/OneDrive - University of Glasgow/Documents/GitHub/Jupyter-Scripts/Beatson_Scripts/Complete_Projects/20230702_Pete_Thomason/Ryan_Code_20231011/20230925_hps6_z1_select_cells/'\n",
    "# all_rings_df.to_csv(save + 'new_all_dataframes.csv')"
   ]
  },
  {
   "cell_type": "code",
   "execution_count": null,
   "id": "3604c159-cebf-4d68-8fa4-06327ef9710b",
   "metadata": {
    "tags": []
   },
   "outputs": [],
   "source": []
  },
  {
   "cell_type": "code",
   "execution_count": null,
   "id": "fcbbf4f5-1620-4b04-be1d-beffe33ff493",
   "metadata": {
    "tags": []
   },
   "outputs": [],
   "source": []
  },
  {
   "cell_type": "code",
   "execution_count": null,
   "id": "b12fb687-ee71-4bd1-9407-b1c4c4efd2db",
   "metadata": {},
   "outputs": [],
   "source": []
  }
 ],
 "metadata": {
  "kernelspec": {
   "display_name": "Python [conda env:cellpose_and_tracking_gpu]",
   "language": "python",
   "name": "conda-env-cellpose_and_tracking_gpu-py"
  },
  "language_info": {
   "codemirror_mode": {
    "name": "ipython",
    "version": 3
   },
   "file_extension": ".py",
   "mimetype": "text/x-python",
   "name": "python",
   "nbconvert_exporter": "python",
   "pygments_lexer": "ipython3",
   "version": "3.10.0"
  }
 },
 "nbformat": 4,
 "nbformat_minor": 5
}
