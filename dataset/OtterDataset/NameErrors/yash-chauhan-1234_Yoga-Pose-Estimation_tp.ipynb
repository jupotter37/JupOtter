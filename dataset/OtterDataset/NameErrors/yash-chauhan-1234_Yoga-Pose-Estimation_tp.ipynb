{
 "cells": [
  {
   "cell_type": "code",
   "execution_count": 1,
   "metadata": {},
   "outputs": [],
   "source": [
    "images_in_folder = 'test'\n",
    "\n",
    "images_out_folder = 'D:/College/sem 5/ML/Project/test/test_coords'\n",
    "\n",
    "csv_out_path = 'D:/College/sem 5/ML/Project/keypoint_test.csv'\n",
    "\n",
    "import numpy as np\n",
    "import pandas as pd\n",
    "\n",
    "import tensorflow as tf\n",
    "\n"
   ]
  },
  {
   "cell_type": "code",
   "execution_count": 71,
   "metadata": {},
   "outputs": [],
   "source": [
    "df=pd.read_csv(csv_out_path, header=None, names=[\"Class\"]+[i for i in range(99)])\n",
    "data=df.drop(['Class'], axis=1)"
   ]
  },
  {
   "cell_type": "code",
   "execution_count": 72,
   "metadata": {},
   "outputs": [
    {
     "data": {
      "text/plain": [
       "array([[1298.75313,  306.42013, -136.64942, 1337.42649,  284.38647,\n",
       "        -198.55515, 1344.87774,  288.19632, -198.56365, 1353.41835,\n",
       "         292.61437, -198.44825, 1331.0923 ,  278.95982, -108.82148,\n",
       "        1333.3128 ,  278.37036, -109.09005, 1336.31367,  278.14679,\n",
       "        -109.37347, 1398.69953,  342.17947, -334.35559, 1379.52759,\n",
       "         323.42915,   68.62944, 1301.83239,  352.54706, -179.54736,\n",
       "        1291.42445,  345.98127,  -61.2235 , 1352.45258,  589.08719,\n",
       "        -552.02814, 1289.26552,  510.55198,  328.45656, 1001.55716,\n",
       "         651.50127, -584.98232, 1041.4492 ,  522.13118,  465.87255,\n",
       "         733.01399,  530.32155, -383.0983 ,  780.57598,  479.09836,\n",
       "         291.1966 ,  608.3844 ,  527.47707, -451.85841,  715.15348,\n",
       "         471.59781,  270.39319,  620.97919,  487.6658 , -431.27715,\n",
       "         729.34856,  453.75081,  158.5555 ,  654.80038,  492.04226,\n",
       "        -369.18557,  751.65424,  460.75321,  234.41707, 1030.0248 ,\n",
       "        1051.43808, -259.84654, 1027.07668,  915.7919 ,  260.39743,\n",
       "         795.94128,  605.12277, -300.61955,  799.23122,  557.53212,\n",
       "         240.18474,  341.37365,  621.16086, -115.66004,  358.12952,\n",
       "         598.21239,  222.02095,  293.11993,  678.53723,  -96.25023,\n",
       "         296.91908,  655.93233,  212.56393,  221.2279 ,  457.00233,\n",
       "        -165.55228,  240.74089,  463.82796,  121.7878 ]])"
      ]
     },
     "execution_count": 72,
     "metadata": {},
     "output_type": "execute_result"
    }
   ],
   "source": [
    "data=np.array(data)\n",
    "data"
   ]
  },
  {
   "cell_type": "code",
   "execution_count": 73,
   "metadata": {},
   "outputs": [
    {
     "data": {
      "text/plain": [
       "(1, 99)"
      ]
     },
     "execution_count": 73,
     "metadata": {},
     "output_type": "execute_result"
    }
   ],
   "source": [
    "data.shape"
   ]
  },
  {
   "cell_type": "code",
   "execution_count": 74,
   "metadata": {},
   "outputs": [],
   "source": [
    "from sklearn.preprocessing import StandardScaler\n",
    "data=StandardScaler().fit_transform(data.reshape(-1,1))"
   ]
  },
  {
   "cell_type": "code",
   "execution_count": 75,
   "metadata": {},
   "outputs": [
    {
     "data": {
      "text/plain": [
       "array([[ 1.69612725],\n",
       "       [-0.27567093],\n",
       "       [-1.15606465],\n",
       "       [ 1.77297248],\n",
       "       [-0.31945254],\n",
       "       [-1.27907336],\n",
       "       [ 1.78777836],\n",
       "       [-0.31188224],\n",
       "       [-1.27909025],\n",
       "       [ 1.80474883],\n",
       "       [-0.30310343],\n",
       "       [-1.27886094],\n",
       "       [ 1.76038624],\n",
       "       [-0.33023547],\n",
       "       [-1.10076962],\n",
       "       [ 1.76479844],\n",
       "       [-0.33140675],\n",
       "       [-1.10130327],\n",
       "       [ 1.77076127],\n",
       "       [-0.33185099],\n",
       "       [-1.10186644],\n",
       "       [ 1.89472402],\n",
       "       [-0.20461595],\n",
       "       [-1.54891328],\n",
       "       [ 1.85662875],\n",
       "       [-0.24187345],\n",
       "       [-0.74816883],\n",
       "       [ 1.70224584],\n",
       "       [-0.18401521],\n",
       "       [-1.24130426],\n",
       "       [ 1.68156492],\n",
       "       [-0.19706165],\n",
       "       [-1.00619087],\n",
       "       [ 1.80282981],\n",
       "       [ 0.28599778],\n",
       "       [-1.98143577],\n",
       "       [ 1.67727506],\n",
       "       [ 0.12994574],\n",
       "       [-0.23188383],\n",
       "       [ 1.10558912],\n",
       "       [ 0.4100166 ],\n",
       "       [-2.04691681],\n",
       "       [ 1.18485591],\n",
       "       [ 0.15295399],\n",
       "       [ 0.04116625],\n",
       "       [ 0.57198504],\n",
       "       [ 0.16922852],\n",
       "       [-1.64576664],\n",
       "       [ 0.66649227],\n",
       "       [ 0.06744637],\n",
       "       [-0.30592059],\n",
       "       [ 0.32434196],\n",
       "       [ 0.16357645],\n",
       "       [-1.78239523],\n",
       "       [ 0.53649562],\n",
       "       [ 0.05254253],\n",
       "       [-0.34725764],\n",
       "       [ 0.34936822],\n",
       "       [ 0.08447015],\n",
       "       [-1.7414996 ],\n",
       "       [ 0.56470171],\n",
       "       [ 0.01707995],\n",
       "       [-0.5694828 ],\n",
       "       [ 0.41657204],\n",
       "       [ 0.09316632],\n",
       "       [-1.61812159],\n",
       "       [ 0.60902383],\n",
       "       [ 0.03099395],\n",
       "       [-0.41874337],\n",
       "       [ 1.16215525],\n",
       "       [ 1.20470414],\n",
       "       [-1.40086136],\n",
       "       [ 1.15629724],\n",
       "       [ 0.93517074],\n",
       "       [-0.36711955],\n",
       "       [ 0.69702363],\n",
       "       [ 0.317861  ],\n",
       "       [-1.48187867],\n",
       "       [ 0.70356085],\n",
       "       [ 0.22329682],\n",
       "       [-0.40728282],\n",
       "       [-0.20621714],\n",
       "       [ 0.34972921],\n",
       "       [-1.11435806],\n",
       "       [-0.17292268],\n",
       "       [ 0.30412985],\n",
       "       [-0.44337487],\n",
       "       [-0.30209887],\n",
       "       [ 0.46373794],\n",
       "       [-1.07579013],\n",
       "       [-0.29454983],\n",
       "       [ 0.41882126],\n",
       "       [-0.46216628],\n",
       "       [-0.44495069],\n",
       "       [ 0.02354083],\n",
       "       [-1.21349557],\n",
       "       [-0.40617774],\n",
       "       [ 0.03710358],\n",
       "       [-0.64254142]])"
      ]
     },
     "execution_count": 75,
     "metadata": {},
     "output_type": "execute_result"
    }
   ],
   "source": [
    "data"
   ]
  },
  {
   "cell_type": "code",
   "execution_count": 76,
   "metadata": {},
   "outputs": [],
   "source": [
    "MODEL_PATH='D:\\College\\sem 5\\ML\\Project\\MODEL\\yoga\\model.tflite'\n",
    "interpreter = tf.lite.Interpreter(model_path=MODEL_PATH)\n",
    "interpreter.allocate_tensors()"
   ]
  },
  {
   "cell_type": "code",
   "execution_count": 77,
   "metadata": {},
   "outputs": [],
   "source": [
    "input_details = interpreter.get_input_details()\n",
    "output_details = interpreter.get_output_details()"
   ]
  },
  {
   "cell_type": "code",
   "execution_count": 1,
   "metadata": {},
   "outputs": [
    {
     "ename": "NameError",
     "evalue": "name 'np' is not defined",
     "output_type": "error",
     "traceback": [
      "\u001b[1;31m---------------------------------------------------------------------------\u001b[0m",
      "\u001b[1;31mNameError\u001b[0m                                 Traceback (most recent call last)",
      "\u001b[1;32md:\\College\\sem 5\\ML\\Project\\tp.ipynb Cell 9\u001b[0m in \u001b[0;36m<cell line: 1>\u001b[1;34m()\u001b[0m\n\u001b[1;32m----> <a href='vscode-notebook-cell:/d%3A/College/sem%205/ML/Project/tp.ipynb#X11sZmlsZQ%3D%3D?line=0'>1</a>\u001b[0m data\u001b[39m=\u001b[39mnp\u001b[39m.\u001b[39msqueeze(data\u001b[39m.\u001b[39mT)\n",
      "\u001b[1;31mNameError\u001b[0m: name 'np' is not defined"
     ]
    }
   ],
   "source": [
    "data=np.squeeze(data.T)"
   ]
  },
  {
   "cell_type": "code",
   "execution_count": 2,
   "metadata": {},
   "outputs": [
    {
     "ename": "NameError",
     "evalue": "name 'data' is not defined",
     "output_type": "error",
     "traceback": [
      "\u001b[1;31m---------------------------------------------------------------------------\u001b[0m",
      "\u001b[1;31mNameError\u001b[0m                                 Traceback (most recent call last)",
      "\u001b[1;32md:\\College\\sem 5\\ML\\Project\\tp.ipynb Cell 10\u001b[0m in \u001b[0;36m<cell line: 1>\u001b[1;34m()\u001b[0m\n\u001b[1;32m----> <a href='vscode-notebook-cell:/d%3A/College/sem%205/ML/Project/tp.ipynb#X12sZmlsZQ%3D%3D?line=0'>1</a>\u001b[0m data\n",
      "\u001b[1;31mNameError\u001b[0m: name 'data' is not defined"
     ]
    }
   ],
   "source": [
    "data"
   ]
  },
  {
   "cell_type": "code",
   "execution_count": 85,
   "metadata": {},
   "outputs": [],
   "source": [
    "interpreter.set_tensor(input_details[0]['index'], np.array([data.T], dtype='float32'))\n",
    "\n",
    "interpreter.invoke()"
   ]
  },
  {
   "cell_type": "code",
   "execution_count": 86,
   "metadata": {},
   "outputs": [
    {
     "name": "stdout",
     "output_type": "stream",
     "text": [
      "1\n"
     ]
    }
   ],
   "source": [
    "output_data = interpreter.get_tensor(output_details[0]['index'])\n",
    "print(np.argmax(np.squeeze(output_data)))"
   ]
  },
  {
   "cell_type": "code",
   "execution_count": 88,
   "metadata": {},
   "outputs": [
    {
     "data": {
      "text/plain": [
       "array([[0.01837489, 0.8730195 , 0.07684432, 0.03176119]], dtype=float32)"
      ]
     },
     "execution_count": 88,
     "metadata": {},
     "output_type": "execute_result"
    }
   ],
   "source": [
    "output_data"
   ]
  },
  {
   "cell_type": "code",
   "execution_count": null,
   "metadata": {},
   "outputs": [],
   "source": []
  }
 ],
 "metadata": {
  "kernelspec": {
   "display_name": "Python 3.10.3 64-bit",
   "language": "python",
   "name": "python3"
  },
  "language_info": {
   "codemirror_mode": {
    "name": "ipython",
    "version": 3
   },
   "file_extension": ".py",
   "mimetype": "text/x-python",
   "name": "python",
   "nbconvert_exporter": "python",
   "pygments_lexer": "ipython3",
   "version": "3.10.3"
  },
  "orig_nbformat": 4,
  "vscode": {
   "interpreter": {
    "hash": "17df4eaa9eff25f1c71c75bdad646253a8ce0b434d365e769c4817d154dab7a2"
   }
  }
 },
 "nbformat": 4,
 "nbformat_minor": 2
}
