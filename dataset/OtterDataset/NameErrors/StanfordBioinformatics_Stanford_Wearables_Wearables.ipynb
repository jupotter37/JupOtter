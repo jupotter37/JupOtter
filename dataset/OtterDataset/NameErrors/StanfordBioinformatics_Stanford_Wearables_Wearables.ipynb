{
 "cells": [
  {
   "cell_type": "code",
   "execution_count": 1,
   "metadata": {
    "collapsed": false,
    "scrolled": false
   },
   "outputs": [
    {
     "ename": "IOError",
     "evalue": "[Errno 2] No such file or directory: '/Users/dsalins/Downloads/moves_export/json/full/activities2.json'",
     "output_type": "error",
     "traceback": [
      "\u001b[0;31m---------------------------------------------------------------------------\u001b[0m",
      "\u001b[0;31mIOError\u001b[0m                                   Traceback (most recent call last)",
      "\u001b[0;32m<ipython-input-1-62222f6112e2>\u001b[0m in \u001b[0;36m<module>\u001b[0;34m()\u001b[0m\n\u001b[1;32m      1\u001b[0m \u001b[0;32mimport\u001b[0m \u001b[0mjson\u001b[0m\u001b[0;34m\u001b[0m\u001b[0m\n\u001b[1;32m      2\u001b[0m \u001b[0mpath\u001b[0m \u001b[0;34m=\u001b[0m \u001b[0;34m'/Users/dsalins/Downloads/moves_export/json/full/activities2.json'\u001b[0m\u001b[0;34m\u001b[0m\u001b[0m\n\u001b[0;32m----> 3\u001b[0;31m \u001b[0mf\u001b[0m \u001b[0;34m=\u001b[0m \u001b[0mopen\u001b[0m\u001b[0;34m(\u001b[0m\u001b[0mpath\u001b[0m\u001b[0;34m,\u001b[0m \u001b[0;34m'r'\u001b[0m\u001b[0;34m)\u001b[0m\u001b[0;34m\u001b[0m\u001b[0m\n\u001b[0m\u001b[1;32m      4\u001b[0m \u001b[0mtemp\u001b[0m \u001b[0;34m=\u001b[0m \u001b[0mjson\u001b[0m\u001b[0;34m.\u001b[0m\u001b[0mload\u001b[0m\u001b[0;34m(\u001b[0m\u001b[0mf\u001b[0m\u001b[0;34m)\u001b[0m\u001b[0;34m\u001b[0m\u001b[0m\n\u001b[1;32m      5\u001b[0m \u001b[0mf\u001b[0m\u001b[0;34m.\u001b[0m\u001b[0mclose\u001b[0m\u001b[0;34m(\u001b[0m\u001b[0;34m)\u001b[0m\u001b[0;34m\u001b[0m\u001b[0m\n",
      "\u001b[0;31mIOError\u001b[0m: [Errno 2] No such file or directory: '/Users/dsalins/Downloads/moves_export/json/full/activities2.json'"
     ]
    }
   ],
   "source": [
    "import json\n",
    "path = '/Users/dsalins/Downloads/moves_export/json/full/activities2.json'\n",
    "f = open(path, 'r')\n",
    "temp = json.load(f)\n",
    "f.close()\n",
    "temp[1]\n",
    "\n",
    "for row in temp:\n",
    "    date = row['date']\n",
    "    if str(row['summary']) != 'null':\n",
    "        summary_activity = row['summary'][0]['activity']\n",
    "        summary_group = row['summary'][0]['group']\n",
    "        summary_distance = row['summary'][0]['distance']\n",
    "        summary_duration = row['summary'][0]['duration']\n",
    "        try:\n",
    "            summary_steps = row['summary'][0]['steps']\n",
    "        except:\n",
    "            pass\n",
    "\n",
    "        if str(row['segments']) != 'null':\n",
    "            for activity_segment in row['segments']:\n",
    "                activity_segment_startTime = activity_segment['startTime']\n",
    "                activity_segment_lastUpdate = activity_segment['lastUpdate']\n",
    "                for activityDetail in activity_segment['activities']:\n",
    "                    activityDetail_activity = activityDetail['activity']\n",
    "                    activityDetail_manual = bool(activityDetail['manual'])\n",
    "                    activityDetail_startTime = activityDetail['startTime']\n",
    "                    activityDetail_group = activityDetail['group']\n",
    "                    activityDetail_endTime = activityDetail['endTime']\n",
    "                    activityDetail_duration = activityDetail['duration']\n",
    "                    activityDetail_distance =activityDetail['distance']\n",
    "                    try:\n",
    "                        activityDetail_steps = activityDetail['steps']\n",
    "                    except:\n",
    "                        pass\n",
    "                    #print(activityDetail)\n",
    "\n",
    "#type:string\n",
    "#start_day_time:timestamp\n",
    "#end_day_time:timestamp\n",
    "#activity:string\n",
    "#group:string\n",
    "#duration:float\n",
    "#distance:float\n",
    "#steps:float\n",
    "#manual:bool\n",
    "#calories:float\n",
    "\n",
    "#/Users/dsalins/Downloads/moves_export/json/full/places.json\n",
    "#/Users/dsalins/Downloads/moves_export/json/full/storyline.json\n",
    "#/Users/dsalins/Downloads/moves_export/json/full/summary.json\n"
   ]
  },
  {
   "cell_type": "code",
   "execution_count": null,
   "metadata": {
    "collapsed": true
   },
   "outputs": [],
   "source": []
  },
  {
   "cell_type": "code",
   "execution_count": null,
   "metadata": {
    "collapsed": true
   },
   "outputs": [],
   "source": []
  },
  {
   "cell_type": "markdown",
   "metadata": {
    "collapsed": false
   },
   "source": []
  },
  {
   "cell_type": "code",
   "execution_count": 5,
   "metadata": {
    "collapsed": false,
    "scrolled": false
   },
   "outputs": [],
   "source": [
    "import pandas as pd\n",
    "import numpy\n",
    "import pylab\n",
    "import matplotlib.pyplot as plt\n",
    "import matplotlib\n",
    "import csv\n",
    "\n",
    "%matplotlib inline\n",
    "\n",
    "google_hr = []\n",
    "basis_hr = []\n",
    "times = []\n",
    "\n",
    "with open('Google_Basis_2.csv', newline='') as csvfile:\n",
    "     spamreader = csv.reader(csvfile, delimiter=',')\n",
    "     for row in spamreader:\n",
    "        if row[28] != \"null\":\n",
    "            times.append(row[0])\n",
    "            google_hr.append(float(row[7]))\n",
    "            basis_hr.append(float(row[28]))        \n",
    "\n",
    "# temperature vs ice_cream, fill the series\n",
    "google = pd.Series(google_hr)\n",
    "basis = pd.Series(basis_hr)\n",
    "time = pd.Series(times)\n",
    "\n",
    "pd.set_option('display.max_columns', 15)\n",
    "pd.set_option('display.width', 400)\n",
    "pd.set_option('display.mpl_style', 'default')\n",
    "\n",
    "import matplotlib\n",
    "font = {'size' : 12}\n",
    "\n",
    "matplotlib.rc('font', **font)"
   ]
  },
  {
   "cell_type": "markdown",
   "metadata": {
    "collapsed": false
   },
   "source": [
    "Show data with plot\n"
   ]
  },
  {
   "cell_type": "code",
   "execution_count": 6,
   "metadata": {
    "collapsed": false
   },
   "outputs": [
    {
     "name": "stdout",
     "output_type": "stream",
     "text": [
      "Plotting...\n"
     ]
    },
    {
     "ename": "NameError",
     "evalue": "name 'subplots' is not defined",
     "output_type": "error",
     "traceback": [
      "\u001b[0;31m---------------------------------------------------------------------------\u001b[0m",
      "\u001b[0;31mNameError\u001b[0m                                 Traceback (most recent call last)",
      "\u001b[0;32m<ipython-input-6-aee09c315ad3>\u001b[0m in \u001b[0;36m<module>\u001b[0;34m()\u001b[0m\n\u001b[1;32m      4\u001b[0m \u001b[0mfig\u001b[0m \u001b[0;34m=\u001b[0m \u001b[0mplt\u001b[0m\u001b[0;34m.\u001b[0m\u001b[0mfigure\u001b[0m\u001b[0;34m(\u001b[0m\u001b[0;34m)\u001b[0m\u001b[0;34m\u001b[0m\u001b[0m\n\u001b[1;32m      5\u001b[0m \u001b[0;34m\u001b[0m\u001b[0m\n\u001b[0;32m----> 6\u001b[0;31m \u001b[0mfig\u001b[0m\u001b[0;34m,\u001b[0m \u001b[0max\u001b[0m \u001b[0;34m=\u001b[0m \u001b[0msubplots\u001b[0m\u001b[0;34m(\u001b[0m\u001b[0;34m)\u001b[0m\u001b[0;34m\u001b[0m\u001b[0m\n\u001b[0m\u001b[1;32m      7\u001b[0m \u001b[0;34m\u001b[0m\u001b[0m\n\u001b[1;32m      8\u001b[0m \u001b[0max\u001b[0m\u001b[0;34m.\u001b[0m\u001b[0mlegend\u001b[0m\u001b[0;34m(\u001b[0m\u001b[0;34m[\u001b[0m\u001b[0;34m\"curve1\"\u001b[0m\u001b[0;34m,\u001b[0m \u001b[0;34m\"curve2\"\u001b[0m\u001b[0;34m,\u001b[0m \u001b[0;34m\"curve3\"\u001b[0m\u001b[0;34m]\u001b[0m\u001b[0;34m)\u001b[0m\u001b[0;34m;\u001b[0m\u001b[0;34m\u001b[0m\u001b[0m\n",
      "\u001b[0;31mNameError\u001b[0m: name 'subplots' is not defined"
     ]
    },
    {
     "data": {
      "text/plain": [
       "<matplotlib.figure.Figure at 0x1083d6b38>"
      ]
     },
     "metadata": {},
     "output_type": "display_data"
    }
   ],
   "source": [
    "print(\"Plotting...\")\n",
    "#google.plot()\n",
    "#basis.plot()\n",
    "fig = plt.figure()\n",
    "\n",
    "fig, ax = subplots()\n",
    "\n",
    "ax.legend([\"curve1\", \"curve2\", \"curve3\"]);\n",
    "ax.plot(basis_hr, label=\"Basis_HR\")\n",
    "ax.plot(google_hr, label=\"SmartDevice_HR\")\n",
    "ax.set_xlabel('Time')\n",
    "ax.set_ylabel('Heartrate')\n",
    "ax.set_title('Heartrate Comparison')\n",
    "ax.legend(loc=2); # upper left corner"
   ]
  },
  {
   "cell_type": "code",
   "execution_count": 7,
   "metadata": {
    "collapsed": false
   },
   "outputs": [
    {
     "ename": "ImportError",
     "evalue": "No module named 'mpld'",
     "output_type": "error",
     "traceback": [
      "\u001b[0;31m---------------------------------------------------------------------------\u001b[0m",
      "\u001b[0;31mImportError\u001b[0m                               Traceback (most recent call last)",
      "\u001b[0;32m<ipython-input-7-c6f73fb1b7cf>\u001b[0m in \u001b[0;36m<module>\u001b[0;34m()\u001b[0m\n\u001b[0;32m----> 1\u001b[0;31m \u001b[0;32mimport\u001b[0m \u001b[0mmpld\u001b[0m\u001b[0;34m\u001b[0m\u001b[0m\n\u001b[0m\u001b[1;32m      2\u001b[0m \u001b[0;34m\u001b[0m\u001b[0m\n\u001b[1;32m      3\u001b[0m \u001b[0mmpld\u001b[0m\u001b[0;34m.\u001b[0m\u001b[0menable_notebook\u001b[0m\u001b[0;34m(\u001b[0m\u001b[0;34m)\u001b[0m\u001b[0;34m\u001b[0m\u001b[0m\n",
      "\u001b[0;31mImportError\u001b[0m: No module named 'mpld'"
     ]
    }
   ],
   "source": [
    "import mpld\n",
    "\n",
    "mpld.enable_notebook()"
   ]
  },
  {
   "cell_type": "code",
   "execution_count": null,
   "metadata": {
    "collapsed": false
   },
   "outputs": [],
   "source": []
  }
 ],
 "metadata": {
  "kernelspec": {
   "display_name": "Python 2",
   "language": "python",
   "name": "python2"
  },
  "language_info": {
   "codemirror_mode": {
    "name": "ipython",
    "version": 2
   },
   "file_extension": ".py",
   "mimetype": "text/x-python",
   "name": "python",
   "nbconvert_exporter": "python",
   "pygments_lexer": "ipython2",
   "version": "2.7.10"
  }
 },
 "nbformat": 4,
 "nbformat_minor": 0
}
