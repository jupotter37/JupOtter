{
 "cells": [
  {
   "cell_type": "markdown",
   "metadata": {},
   "source": [
    "#Interactive Proteus parallel example\n",
    "\n",
    "##Load IPython support for working with MPI tasks"
   ]
  },
  {
   "cell_type": "code",
   "execution_count": 1,
   "metadata": {
    "collapsed": false
   },
   "outputs": [],
   "source": [
    "from IPython.parallel import Client\n",
    "c = Client(profile=\"mpi\")\n",
    "view = c[:]\n",
    "view.activate()"
   ]
  },
  {
   "cell_type": "markdown",
   "metadata": {},
   "source": [
    "##Load interactive Proteus module, physics, and numerics on the MPI tasks and solve problem"
   ]
  },
  {
   "cell_type": "code",
   "execution_count": 2,
   "metadata": {
    "collapsed": false
   },
   "outputs": [],
   "source": [
    "%%px --block\n",
    "# perform imports on engines\n",
    "from proteus.iproteus import *\n",
    "from proteus import default_n,default_s,default_so\n",
    "import ladr_2d_p,ladr_2d_n\n",
    "ladr_2d_n.nnx = 201\n",
    "ladr_2d_n.nny = 201\n",
    "nOutputSteps = 301\n",
    "ladr_2d_n.tnList = [0.25*float(i)/float(nOutputSteps-1) for i in range(nOutputSteps)]\n",
    "from proteus import Comm"
   ]
  },
  {
   "cell_type": "code",
   "execution_count": 3,
   "metadata": {
    "collapsed": true
   },
   "outputs": [],
   "source": [
    "def compute_triangles():\n",
    "    # store x,y,u,triangles in global engine namespace\n",
    "    global x,y,u,triangles\n",
    "    comm = Comm.get()\n",
    "    pList = [ladr_2d_p]\n",
    "    nList = [ladr_2d_n]\n",
    "    so = default_so\n",
    "    so.name = pList[0].name = \"ladr_2d\"\n",
    "    so.sList=[default_s]\n",
    "    so.tnList = ladr_2d_n.tnList\n",
    "    print ladr_2d_n.tnList,ladr_2d_n.nnx,ladr_2d_n.nny\n",
    "    nList[0].multilevelLinearSolver=default_n.KSP_petsc4py\n",
    "    #opts.viewer='vtk'\n",
    "    #viewers = Viewers.viewerOn(so.name+`comm.rank()`,opts.viewer)\n",
    "    ns = NumericalSolution.NS_base(so,pList,nList,so.sList,opts)\n",
    "    ns.calculateSolution('run1')\n",
    "    x = ns.modelList[0].levelModelList[-1].mesh.nodeArray[:,0]\n",
    "    y = ns.modelList[0].levelModelList[-1].mesh.nodeArray[:,1]\n",
    "    triangles = ns.modelList[0].levelModelList[-1].mesh.elementNodesArray\n",
    "    u = ns.modelList[0].levelModelList[-1].u[0].dof\n",
    "\n",
    "    #if comm.isMaster():\n",
    "    #    imageList = [window.png for window in viewers.windowDict.values()]\n",
    "    #else:\n",
    "    #    imageList = []\n",
    "    \n",
    "    # return the length of x\n",
    "    return len(x)"
   ]
  },
  {
   "cell_type": "markdown",
   "metadata": {},
   "source": [
    "Sync with the engines, to make sure they are ready:"
   ]
  },
  {
   "cell_type": "code",
   "execution_count": 4,
   "metadata": {
    "collapsed": false
   },
   "outputs": [
    {
     "data": {
      "text/plain": [
       "['ready', 'ready', 'ready', 'ready']"
      ]
     },
     "execution_count": 4,
     "metadata": {},
     "output_type": "execute_result"
    }
   ],
   "source": [
    "view.apply_sync(lambda : 'ready')"
   ]
  },
  {
   "cell_type": "markdown",
   "metadata": {},
   "source": [
    "Submit the execution asynchronously"
   ]
  },
  {
   "cell_type": "code",
   "execution_count": 5,
   "metadata": {
    "collapsed": false
   },
   "outputs": [],
   "source": [
    "compute_ar = view.apply_async(compute_triangles)"
   ]
  },
  {
   "cell_type": "code",
   "execution_count": 6,
   "metadata": {
    "collapsed": true
   },
   "outputs": [],
   "source": [
    "x_ar = view.gather('x')\n",
    "y_ar = view.gather('y')\n",
    "u_ar = view.gather('u')\n",
    "tri_ar = view.pull('triangles')"
   ]
  },
  {
   "cell_type": "markdown",
   "metadata": {},
   "source": [
    "now actually wait for the results:"
   ]
  },
  {
   "cell_type": "code",
   "execution_count": 7,
   "metadata": {
    "collapsed": false
   },
   "outputs": [],
   "source": [
    "ns,x,y,u,triangles = [ ar.get() for ar in (compute_ar, x_ar, y_ar, u_ar, tri_ar) ]"
   ]
  },
  {
   "cell_type": "markdown",
   "metadata": {},
   "source": [
    "Compute the timings for execution and IPython overhead"
   ]
  },
  {
   "cell_type": "code",
   "execution_count": 8,
   "metadata": {
    "collapsed": false
   },
   "outputs": [
    {
     "name": "stdout",
     "output_type": "stream",
     "text": [
      "computation time: 398.615\n",
      "   from request : 398.617\n",
      "total roundtrip : 401.267\n",
      "IPython overhead: 2652/398614 ms = 0.67%\n"
     ]
    }
   ],
   "source": [
    "compute_request = min(compute_ar.submitted) # exectution request sent\n",
    "compute_start = min(compute_ar.started) # first MPI execution started\n",
    "compute_complete = max(compute_ar.completed) # last MPI execution completed\n",
    "data_received = max(tri_ar.received) # last bit of results arrived back in the Client\n",
    "\n",
    "\n",
    "compute = (compute_complete-compute_start).total_seconds()\n",
    "with_request = (compute_complete-compute_request).total_seconds()\n",
    "roundtrip = (data_received - compute_request).total_seconds()\n",
    "print \"computation time: %.3f\" % compute\n",
    "print \"   from request : %.3f\" % with_request\n",
    "print \"total roundtrip : %.3f\" % roundtrip\n",
    "\n",
    "overhead_ms = 1000*(roundtrip-compute)\n",
    "compute_ms = 1000*(compute)\n",
    "print \"IPython overhead: %i/%i ms = %.2f%%\" % (overhead_ms, compute_ms, 100*(overhead_ms / compute_ms))"
   ]
  },
  {
   "cell_type": "markdown",
   "metadata": {},
   "source": [
    "##Combine subdomain solutions and plot"
   ]
  },
  {
   "cell_type": "code",
   "execution_count": 9,
   "metadata": {
    "collapsed": false
   },
   "outputs": [
    {
     "ename": "NameError",
     "evalue": "name 'numpy' is not defined",
     "output_type": "error",
     "traceback": [
      "\u001b[1;31m---------------------------------------------------------------------------\u001b[0m",
      "\u001b[1;31mNameError\u001b[0m                                 Traceback (most recent call last)",
      "\u001b[1;32m<ipython-input-9-e5937287653d>\u001b[0m in \u001b[0;36m<module>\u001b[1;34m()\u001b[0m\n\u001b[0;32m      1\u001b[0m \u001b[1;31m# shift triangles by preceding lens\u001b[0m\u001b[1;33m\u001b[0m\u001b[1;33m\u001b[0m\u001b[0m\n\u001b[1;32m----> 2\u001b[1;33m \u001b[0mshifts\u001b[0m \u001b[1;33m=\u001b[0m \u001b[0mnumpy\u001b[0m\u001b[1;33m.\u001b[0m\u001b[0mcumsum\u001b[0m\u001b[1;33m(\u001b[0m\u001b[1;33m[\u001b[0m\u001b[1;36m0\u001b[0m\u001b[1;33m]\u001b[0m\u001b[1;33m+\u001b[0m\u001b[0mns\u001b[0m\u001b[1;33m[\u001b[0m\u001b[1;33m:\u001b[0m\u001b[1;33m-\u001b[0m\u001b[1;36m1\u001b[0m\u001b[1;33m]\u001b[0m\u001b[1;33m)\u001b[0m\u001b[1;33m\u001b[0m\u001b[0m\n\u001b[0m\u001b[0;32m      3\u001b[0m \u001b[0mflat_triangles\u001b[0m \u001b[1;33m=\u001b[0m \u001b[0mnumpy\u001b[0m\u001b[1;33m.\u001b[0m\u001b[0mconcatenate\u001b[0m\u001b[1;33m(\u001b[0m \u001b[1;33m[\u001b[0m \u001b[0mtri\u001b[0m \u001b[1;33m+\u001b[0m \u001b[0mshift\u001b[0m \u001b[1;32mfor\u001b[0m \u001b[0mtri\u001b[0m\u001b[1;33m,\u001b[0m\u001b[0mshift\u001b[0m \u001b[1;32min\u001b[0m \u001b[0mzip\u001b[0m\u001b[1;33m(\u001b[0m\u001b[0mtriangles\u001b[0m\u001b[1;33m,\u001b[0m\u001b[0mshifts\u001b[0m\u001b[1;33m)\u001b[0m \u001b[1;33m]\u001b[0m \u001b[1;33m)\u001b[0m\u001b[1;33m\u001b[0m\u001b[0m\n\u001b[0;32m      4\u001b[0m \u001b[1;33m\u001b[0m\u001b[0m\n\u001b[0;32m      5\u001b[0m \u001b[0mtricontourf\u001b[0m\u001b[1;33m(\u001b[0m\u001b[0mx\u001b[0m\u001b[1;33m,\u001b[0m\u001b[0my\u001b[0m\u001b[1;33m,\u001b[0m\u001b[0mflat_triangles\u001b[0m\u001b[1;33m,\u001b[0m\u001b[0mu\u001b[0m\u001b[1;33m)\u001b[0m\u001b[1;33m\u001b[0m\u001b[0m\n",
      "\u001b[1;31mNameError\u001b[0m: name 'numpy' is not defined"
     ]
    }
   ],
   "source": [
    "# shift triangles by preceding lens\n",
    "shifts = numpy.cumsum([0]+ns[:-1])\n",
    "flat_triangles = numpy.concatenate( [ tri + shift for tri,shift in zip(triangles,shifts) ] )\n",
    "\n",
    "tricontourf(x,y,flat_triangles,u)"
   ]
  },
  {
   "cell_type": "code",
   "execution_count": null,
   "metadata": {
    "collapsed": false
   },
   "outputs": [],
   "source": [
    "#print view['imageList']\n",
    "#png = view['imageList'][0][0]\n",
    "#print png"
   ]
  },
  {
   "cell_type": "code",
   "execution_count": null,
   "metadata": {
    "collapsed": false
   },
   "outputs": [],
   "source": [
    "#from IPython.core.display import Image\n",
    "#Image(png,embed=True)"
   ]
  }
 ],
 "metadata": {
  "kernelspec": {
   "display_name": "Python 2",
   "language": "python",
   "name": "python2"
  },
  "language_info": {
   "codemirror_mode": {
    "name": "ipython",
    "version": 2
   },
   "file_extension": ".py",
   "mimetype": "text/x-python",
   "name": "python",
   "nbconvert_exporter": "python",
   "pygments_lexer": "ipython2",
   "version": "2.7.9"
  }
 },
 "nbformat": 4,
 "nbformat_minor": 0
}
