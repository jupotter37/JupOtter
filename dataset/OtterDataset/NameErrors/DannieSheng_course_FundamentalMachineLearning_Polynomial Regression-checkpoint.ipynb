{
 "cells": [
  {
   "cell_type": "markdown",
   "metadata": {},
   "source": [
    "# Linear Regression Review and Polynomial Curve Fitting Example\n"
   ]
  },
  {
   "cell_type": "code",
   "execution_count": 9,
   "metadata": {
    "collapsed": true
   },
   "outputs": [],
   "source": [
    "#Import needed python libraries\n",
    "import numpy as np\n",
    "import matplotlib\n",
    "import matplotlib.pyplot as plt\n",
    "%matplotlib inline  \n",
    "import math \n",
    "import textwrap"
   ]
  },
  {
   "cell_type": "code",
   "execution_count": 10,
   "metadata": {
    "scrolled": true
   },
   "outputs": [
    {
     "name": "stdout",
     "output_type": "stream",
     "text": [
      "[ 0.02  0.06  0.1   0.14  0.18  0.22  0.26  0.3   0.34  0.38  0.42  0.46\n",
      "  0.5   0.54  0.58  0.62  0.66  0.7   0.74  0.78  0.82  0.86  0.9   0.94\n",
      "  0.98]\n"
     ]
    }
   ],
   "source": [
    "#First, lets generate some simulated data.  Suppose the true function is a sine curve. \n",
    "u = 1 # upper level\n",
    "l = 0 # lower level\n",
    "N = 25 # number of data\n",
    "gVar = .25\n",
    "step = (u-l)/(N)\n",
    "x = np.arange(l+step/2,u+step/2,step)\n",
    "e = np.random.normal(0,gVar,N)\n",
    "t = np.sin(2*math.pi*x) + e\n",
    "\n",
    "print(x)\n",
    "# print(x.shape)\n",
    "# print(e)\n",
    "# print(t)\n",
    "\n",
    "# plt.scatter(x,t)\n"
   ]
  },
  {
   "cell_type": "code",
   "execution_count": 13,
   "metadata": {},
   "outputs": [
    {
     "name": "stdout",
     "output_type": "stream",
     "text": [
      "[[  1.00000000e+00   2.00000000e-02   4.00000000e-04   8.00000000e-06\n",
      "    1.60000000e-07   3.20000000e-09   6.40000000e-11   1.28000000e-12\n",
      "    2.56000000e-14   5.12000000e-16   1.02400000e-17   2.04800000e-19\n",
      "    4.09600000e-21   8.19200000e-23   1.63840000e-24]\n",
      " [  1.00000000e+00   6.00000000e-02   3.60000000e-03   2.16000000e-04\n",
      "    1.29600000e-05   7.77600000e-07   4.66560000e-08   2.79936000e-09\n",
      "    1.67961600e-10   1.00776960e-11   6.04661760e-13   3.62797056e-14\n",
      "    2.17678234e-15   1.30606940e-16   7.83641641e-18]\n",
      " [  1.00000000e+00   1.00000000e-01   1.00000000e-02   1.00000000e-03\n",
      "    1.00000000e-04   1.00000000e-05   1.00000000e-06   1.00000000e-07\n",
      "    1.00000000e-08   1.00000000e-09   1.00000000e-10   1.00000000e-11\n",
      "    1.00000000e-12   1.00000000e-13   1.00000000e-14]\n",
      " [  1.00000000e+00   1.40000000e-01   1.96000000e-02   2.74400000e-03\n",
      "    3.84160000e-04   5.37824000e-05   7.52953600e-06   1.05413504e-06\n",
      "    1.47578906e-07   2.06610468e-08   2.89254655e-09   4.04956517e-10\n",
      "    5.66939124e-11   7.93714773e-12   1.11120068e-12]\n",
      " [  1.00000000e+00   1.80000000e-01   3.24000000e-02   5.83200000e-03\n",
      "    1.04976000e-03   1.88956800e-04   3.40122240e-05   6.12220032e-06\n",
      "    1.10199606e-06   1.98359290e-07   3.57046723e-08   6.42684101e-09\n",
      "    1.15683138e-09   2.08229649e-10   3.74813368e-11]\n",
      " [  1.00000000e+00   2.20000000e-01   4.84000000e-02   1.06480000e-02\n",
      "    2.34256000e-03   5.15363200e-04   1.13379904e-04   2.49435789e-05\n",
      "    5.48758735e-06   1.20726922e-06   2.65599228e-07   5.84318301e-08\n",
      "    1.28550026e-08   2.82810058e-09   6.22182127e-10]\n",
      " [  1.00000000e+00   2.60000000e-01   6.76000000e-02   1.75760000e-02\n",
      "    4.56976000e-03   1.18813760e-03   3.08915776e-04   8.03181018e-05\n",
      "    2.08827065e-05   5.42950368e-06   1.41167096e-06   3.67034449e-07\n",
      "    9.54289567e-08   2.48115287e-08   6.45099747e-09]\n",
      " [  1.00000000e+00   3.00000000e-01   9.00000000e-02   2.70000000e-02\n",
      "    8.10000000e-03   2.43000000e-03   7.29000000e-04   2.18700000e-04\n",
      "    6.56100000e-05   1.96830000e-05   5.90490000e-06   1.77147000e-06\n",
      "    5.31441000e-07   1.59432300e-07   4.78296900e-08]\n",
      " [  1.00000000e+00   3.40000000e-01   1.15600000e-01   3.93040000e-02\n",
      "    1.33633600e-02   4.54354240e-03   1.54480442e-03   5.25233501e-04\n",
      "    1.78579390e-04   6.07169928e-05   2.06437775e-05   7.01888436e-06\n",
      "    2.38642068e-06   8.11383032e-07   2.75870231e-07]\n",
      " [  1.00000000e+00   3.80000000e-01   1.44400000e-01   5.48720000e-02\n",
      "    2.08513600e-02   7.92351680e-03   3.01093638e-03   1.14415583e-03\n",
      "    4.34779214e-04   1.65216101e-04   6.27821185e-05   2.38572050e-05\n",
      "    9.06573791e-06   3.44498041e-06   1.30909255e-06]\n",
      " [  1.00000000e+00   4.20000000e-01   1.76400000e-01   7.40880000e-02\n",
      "    3.11169600e-02   1.30691232e-02   5.48903174e-03   2.30539333e-03\n",
      "    9.68265200e-04   4.06671384e-04   1.70801981e-04   7.17368321e-05\n",
      "    3.01294695e-05   1.26543772e-05   5.31483842e-06]\n",
      " [  1.00000000e+00   4.60000000e-01   2.11600000e-01   9.73360000e-02\n",
      "    4.47745600e-02   2.05962976e-02   9.47429690e-03   4.35817657e-03\n",
      "    2.00476122e-03   9.22190163e-04   4.24207475e-04   1.95135438e-04\n",
      "    8.97623017e-05   4.12906588e-05   1.89937030e-05]\n",
      " [  1.00000000e+00   5.00000000e-01   2.50000000e-01   1.25000000e-01\n",
      "    6.25000000e-02   3.12500000e-02   1.56250000e-02   7.81250000e-03\n",
      "    3.90625000e-03   1.95312500e-03   9.76562500e-04   4.88281250e-04\n",
      "    2.44140625e-04   1.22070312e-04   6.10351562e-05]\n",
      " [  1.00000000e+00   5.40000000e-01   2.91600000e-01   1.57464000e-01\n",
      "    8.50305600e-02   4.59165024e-02   2.47949113e-02   1.33892521e-02\n",
      "    7.23019613e-03   3.90430591e-03   2.10832519e-03   1.13849560e-03\n",
      "    6.14787626e-04   3.31985318e-04   1.79272072e-04]\n",
      " [  1.00000000e+00   5.80000000e-01   3.36400000e-01   1.95112000e-01\n",
      "    1.13164960e-01   6.56356768e-02   3.80686925e-02   2.20798417e-02\n",
      "    1.28063082e-02   7.42765874e-03   4.30804207e-03   2.49866440e-03\n",
      "    1.44922535e-03   8.40550704e-04   4.87519408e-04]\n",
      " [  1.00000000e+00   6.20000000e-01   3.84400000e-01   2.38328000e-01\n",
      "    1.47763360e-01   9.16132832e-02   5.68002356e-02   3.52161461e-02\n",
      "    2.18340106e-02   1.35370865e-02   8.39299366e-03   5.20365607e-03\n",
      "    3.22626676e-03   2.00028539e-03   1.24017694e-03]\n",
      " [  1.00000000e+00   6.60000000e-01   4.35600000e-01   2.87496000e-01\n",
      "    1.89747360e-01   1.25233258e-01   8.26539500e-02   5.45516070e-02\n",
      "    3.60040606e-02   2.37626800e-02   1.56833688e-02   1.03510234e-02\n",
      "    6.83167545e-03   4.50890580e-03   2.97587783e-03]\n",
      " [  1.00000000e+00   7.00000000e-01   4.90000000e-01   3.43000000e-01\n",
      "    2.40100000e-01   1.68070000e-01   1.17649000e-01   8.23543000e-02\n",
      "    5.76480100e-02   4.03536070e-02   2.82475249e-02   1.97732674e-02\n",
      "    1.38412872e-02   9.68890104e-03   6.78223073e-03]\n",
      " [  1.00000000e+00   7.40000000e-01   5.47600000e-01   4.05224000e-01\n",
      "    2.99865760e-01   2.21900662e-01   1.64206490e-01   1.21512803e-01\n",
      "    8.99194740e-02   6.65404108e-02   4.92399040e-02   3.64375289e-02\n",
      "    2.69637714e-02   1.99531908e-02   1.47653612e-02]\n",
      " [  1.00000000e+00   7.80000000e-01   6.08400000e-01   4.74552000e-01\n",
      "    3.70150560e-01   2.88717437e-01   2.25199601e-01   1.75655689e-01\n",
      "    1.37011437e-01   1.06868921e-01   8.33577583e-02   6.50190515e-02\n",
      "    5.07148602e-02   3.95575909e-02   3.08549209e-02]\n",
      " [  1.00000000e+00   8.20000000e-01   6.72400000e-01   5.51368000e-01\n",
      "    4.52121760e-01   3.70739843e-01   3.04006671e-01   2.49285471e-01\n",
      "    2.04414086e-01   1.67619550e-01   1.37448031e-01   1.12707386e-01\n",
      "    9.24200563e-02   7.57844461e-02   6.21432458e-02]\n",
      " [  1.00000000e+00   8.60000000e-01   7.39600000e-01   6.36056000e-01\n",
      "    5.47008160e-01   4.70427018e-01   4.04567235e-01   3.47927822e-01\n",
      "    2.99217927e-01   2.57327417e-01   2.21301579e-01   1.90319358e-01\n",
      "    1.63674648e-01   1.40760197e-01   1.21053769e-01]\n",
      " [  1.00000000e+00   9.00000000e-01   8.10000000e-01   7.29000000e-01\n",
      "    6.56100000e-01   5.90490000e-01   5.31441000e-01   4.78296900e-01\n",
      "    4.30467210e-01   3.87420489e-01   3.48678440e-01   3.13810596e-01\n",
      "    2.82429536e-01   2.54186583e-01   2.28767925e-01]\n",
      " [  1.00000000e+00   9.40000000e-01   8.83600000e-01   8.30584000e-01\n",
      "    7.80748960e-01   7.33904022e-01   6.89869781e-01   6.48477594e-01\n",
      "    6.09568939e-01   5.72994802e-01   5.38615114e-01   5.06298207e-01\n",
      "    4.75920315e-01   4.47365096e-01   4.20523190e-01]\n",
      " [  1.00000000e+00   9.80000000e-01   9.60400000e-01   9.41192000e-01\n",
      "    9.22368160e-01   9.03920797e-01   8.85842381e-01   8.68125533e-01\n",
      "    8.50763023e-01   8.33747762e-01   8.17072807e-01   8.00731351e-01\n",
      "    7.84716724e-01   7.69022389e-01   7.53641941e-01]]\n"
     ]
    }
   ],
   "source": [
    "#Then we can fit the data using the polynomial curve fitting method we derived\n",
    "\n",
    "M = 15 # order of polynomial model\n",
    "X = np.array([x**m for m in range(M+1)]).T\n",
    "print(X)\n",
    "#print(range(M+1))\n",
    "#w = np.linalg.inv(X.T@X)@X.T@t\n",
    "#print(w)"
   ]
  },
  {
   "cell_type": "code",
   "execution_count": 7,
   "metadata": {},
   "outputs": [
    {
     "ename": "NameError",
     "evalue": "name 'w' is not defined",
     "output_type": "error",
     "traceback": [
      "\u001b[0;31m---------------------------------------------------------------------------\u001b[0m",
      "\u001b[0;31mNameError\u001b[0m                                 Traceback (most recent call last)",
      "\u001b[0;32m<ipython-input-7-3e1e151f453f>\u001b[0m in \u001b[0;36m<module>\u001b[0;34m()\u001b[0m\n\u001b[1;32m      3\u001b[0m \u001b[0mxrange\u001b[0m \u001b[0;34m=\u001b[0m \u001b[0mnp\u001b[0m\u001b[0;34m.\u001b[0m\u001b[0marange\u001b[0m\u001b[0;34m(\u001b[0m\u001b[0ml\u001b[0m\u001b[0;34m,\u001b[0m\u001b[0mu\u001b[0m\u001b[0;34m,\u001b[0m\u001b[0;36m0.001\u001b[0m\u001b[0;34m)\u001b[0m  \u001b[0;31m#get equally spaced points in the xrange\u001b[0m\u001b[0;34m\u001b[0m\u001b[0m\n\u001b[1;32m      4\u001b[0m \u001b[0my\u001b[0m \u001b[0;34m=\u001b[0m \u001b[0mnp\u001b[0m\u001b[0;34m.\u001b[0m\u001b[0msin\u001b[0m\u001b[0;34m(\u001b[0m\u001b[0;36m2\u001b[0m\u001b[0;34m*\u001b[0m\u001b[0mmath\u001b[0m\u001b[0;34m.\u001b[0m\u001b[0mpi\u001b[0m\u001b[0;34m*\u001b[0m\u001b[0mxrange\u001b[0m\u001b[0;34m)\u001b[0m \u001b[0;31m#compute the true function value\u001b[0m\u001b[0;34m\u001b[0m\u001b[0m\n\u001b[0;32m----> 5\u001b[0;31m \u001b[0mX\u001b[0m \u001b[0;34m=\u001b[0m \u001b[0mnp\u001b[0m\u001b[0;34m.\u001b[0m\u001b[0marray\u001b[0m\u001b[0;34m(\u001b[0m\u001b[0;34m[\u001b[0m\u001b[0mxrange\u001b[0m\u001b[0;34m**\u001b[0m\u001b[0mm\u001b[0m \u001b[0;32mfor\u001b[0m \u001b[0mm\u001b[0m \u001b[0;32min\u001b[0m \u001b[0mrange\u001b[0m\u001b[0;34m(\u001b[0m\u001b[0mw\u001b[0m\u001b[0;34m.\u001b[0m\u001b[0msize\u001b[0m\u001b[0;34m)\u001b[0m\u001b[0;34m]\u001b[0m\u001b[0;34m)\u001b[0m\u001b[0;34m.\u001b[0m\u001b[0mT\u001b[0m\u001b[0;34m\u001b[0m\u001b[0m\n\u001b[0m\u001b[1;32m      6\u001b[0m \u001b[0mesty\u001b[0m \u001b[0;34m=\u001b[0m \u001b[0mX\u001b[0m\u001b[0;34m@\u001b[0m\u001b[0mw\u001b[0m \u001b[0;31m#compute the predicted value\u001b[0m\u001b[0;34m\u001b[0m\u001b[0m\n\u001b[1;32m      7\u001b[0m \u001b[0;34m\u001b[0m\u001b[0m\n",
      "\u001b[0;31mNameError\u001b[0m: name 'w' is not defined"
     ]
    }
   ],
   "source": [
    "#Now let us use the weights in test\n",
    "\n",
    "xrange = np.arange(l,u,0.001)  #get equally spaced points in the xrange\n",
    "y = np.sin(2*math.pi*xrange) #compute the true function value\n",
    "X = np.array([xrange**m for m in range(w.size)]).T\n",
    "esty = X@w #compute the predicted value\n",
    "\n",
    "#plot everything\n",
    "p1 = plt.plot(xrange, y, 'g') #plot true value\n",
    "p2 = plt.plot(x, t, 'bo') #plot training data\n",
    "p3 = plt.plot(xrange, esty, 'r') #plot estimated value\n",
    "\n",
    "#add legend and axes labels\n",
    "plt.ylabel('t') #label x and y axes\n",
    "plt.xlabel('x')\n",
    "plt.rcParams[\"axes.titlesize\"] = 10\n",
    "plt.legend((p1[0],p2[0],p3[0]),('True Function', 'Training Data', 'Estimated\\nPolynomial'), fontsize=6)\n",
    "\n",
    "\n",
    "    \n",
    "    "
   ]
  },
  {
   "cell_type": "markdown",
   "metadata": {},
   "source": [
    "# Beer Foam Data Set\n",
    "\n",
    "We can repeat with another data set. (Obtained from: http://www.stat.ufl.edu/~winner/datasets.html) \n",
    "\n",
    "Source: A. Leike (2002). \"Demonstration of the Exponential Decay Law Using Beer Froth,\" European Journal of Physics, Vol. 23, #1, pp. 21-26\n",
    "\n",
    "Description: Measurements of wet foam height and beer height at various time points for 3 brands of beer. Author fits exponential decay model: $H(t) = H(0)e^{-\\lambda t}$\n",
    "\n",
    "Variables/Columns:\n",
    "<li> Time from pour (seconds)  4-8\n",
    "<li> Erdinger Weissbier foam height (cm)  10-16\n",
    "<li> Augustinerbrau Munchen foam height (cm)    18-24\n",
    "<li> Budweiser foam height (cm)    26-32\n",
    "\n"
   ]
  },
  {
   "cell_type": "code",
   "execution_count": 6,
   "metadata": {
    "collapsed": true
   },
   "outputs": [],
   "source": [
    "#Load Data\n",
    "beerData = np.loadtxt('beer_foam.dat.txt')"
   ]
  },
  {
   "cell_type": "code",
   "execution_count": 11,
   "metadata": {},
   "outputs": [
    {
     "data": {
      "text/plain": [
       "<matplotlib.collections.PathCollection at 0x1144519b0>"
      ]
     },
     "execution_count": 11,
     "metadata": {},
     "output_type": "execute_result"
    },
    {
     "data": {
      "image/png": "[encoded data removed]",
      "text/plain": [
       "<matplotlib.figure.Figure at 0x113810320>"
      ]
     },
     "metadata": {},
     "output_type": "display_data"
    }
   ],
   "source": [
    "plt.scatter(beerData[:,0], beerData[:,1], color = \"red\")\n",
    "plt.scatter(beerData[:,0], beerData[:,2], color = \"blue\")\n",
    "plt.scatter(beerData[:,0], beerData[:,3], color = \"orange\")"
   ]
  },
  {
   "cell_type": "code",
   "execution_count": 12,
   "metadata": {},
   "outputs": [
    {
     "data": {
      "text/plain": [
       "array([[   0. ,   17. ,   14. ,   14. ],\n",
       "       [  15. ,   16.1,   11.8,   12.1],\n",
       "       [  30. ,   14.9,   10.5,   10.9],\n",
       "       [  45. ,   14. ,    9.3,   10. ],\n",
       "       [  60. ,   13.2,    8.5,    9.3],\n",
       "       [  75. ,   12.5,    7.7,    8.6],\n",
       "       [  90. ,   11.9,    7.1,    8. ],\n",
       "       [ 105. ,   11.2,    6.5,    7.5],\n",
       "       [ 120. ,   10.7,    6. ,    7. ],\n",
       "       [ 150. ,    9.7,    5.3,    6.2],\n",
       "       [ 180. ,    8.9,    4.4,    5.5],\n",
       "       [ 210. ,    8.3,    3.5,    4.5],\n",
       "       [ 240. ,    7.5,    2.9,    3.5],\n",
       "       [ 300. ,    6.3,    1.3,    2. ],\n",
       "       [ 360. ,    5.2,    0.7,    0.9]])"
      ]
     },
     "execution_count": 12,
     "metadata": {},
     "output_type": "execute_result"
    }
   ],
   "source": [
    "beerData"
   ]
  },
  {
   "cell_type": "code",
   "execution_count": 14,
   "metadata": {},
   "outputs": [
    {
     "ename": "NameError",
     "evalue": "name 'beerData' is not defined",
     "output_type": "error",
     "traceback": [
      "\u001b[0;31m---------------------------------------------------------------------------\u001b[0m",
      "\u001b[0;31mNameError\u001b[0m                                 Traceback (most recent call last)",
      "\u001b[0;32m<ipython-input-14-d2952fe820dc>\u001b[0m in \u001b[0;36m<module>\u001b[0;34m()\u001b[0m\n\u001b[1;32m      2\u001b[0m \u001b[0;34m\u001b[0m\u001b[0m\n\u001b[1;32m      3\u001b[0m \u001b[0mM\u001b[0m \u001b[0;34m=\u001b[0m \u001b[0;36m0\u001b[0m\u001b[0;34m\u001b[0m\u001b[0m\n\u001b[0;32m----> 4\u001b[0;31m \u001b[0mx\u001b[0m \u001b[0;34m=\u001b[0m \u001b[0mbeerData\u001b[0m\u001b[0;34m[\u001b[0m\u001b[0;34m:\u001b[0m\u001b[0;34m,\u001b[0m\u001b[0;36m0\u001b[0m\u001b[0;34m]\u001b[0m\u001b[0;34m\u001b[0m\u001b[0m\n\u001b[0m\u001b[1;32m      5\u001b[0m \u001b[0mt\u001b[0m \u001b[0;34m=\u001b[0m \u001b[0mbeerData\u001b[0m\u001b[0;34m[\u001b[0m\u001b[0;34m:\u001b[0m\u001b[0;34m,\u001b[0m\u001b[0;36m1\u001b[0m\u001b[0;34m]\u001b[0m\u001b[0;34m\u001b[0m\u001b[0m\n\u001b[1;32m      6\u001b[0m \u001b[0mX\u001b[0m \u001b[0;34m=\u001b[0m \u001b[0mnp\u001b[0m\u001b[0;34m.\u001b[0m\u001b[0marray\u001b[0m\u001b[0;34m(\u001b[0m\u001b[0;34m[\u001b[0m\u001b[0mx\u001b[0m\u001b[0;34m**\u001b[0m\u001b[0mm\u001b[0m \u001b[0;32mfor\u001b[0m \u001b[0mm\u001b[0m \u001b[0;32min\u001b[0m \u001b[0mrange\u001b[0m\u001b[0;34m(\u001b[0m\u001b[0mM\u001b[0m\u001b[0;34m+\u001b[0m\u001b[0;36m1\u001b[0m\u001b[0;34m)\u001b[0m\u001b[0;34m]\u001b[0m\u001b[0;34m)\u001b[0m\u001b[0;34m.\u001b[0m\u001b[0mT\u001b[0m\u001b[0;34m\u001b[0m\u001b[0m\n",
      "\u001b[0;31mNameError\u001b[0m: name 'beerData' is not defined"
     ]
    }
   ],
   "source": [
    "#Then we can fit the data using the polynomial curve fitting method we derived\n",
    "\n",
    "M = 0\n",
    "x = beerData[:,0]\n",
    "t = beerData[:,1]\n",
    "X = np.array([x**m for m in range(M+1)]).T\n",
    "\n",
    "# print(X)\n",
    "\n",
    "w = np.linalg.inv(X.T@X)@X.T@t\n",
    "\n",
    "print(w)\n"
   ]
  },
  {
   "cell_type": "code",
   "execution_count": 22,
   "metadata": {},
   "outputs": [
    {
     "data": {
      "text/plain": [
       "<matplotlib.legend.Legend at 0x11a3818d0>"
      ]
     },
     "execution_count": 22,
     "metadata": {},
     "output_type": "execute_result"
    },
    {
     "data": {
      "image/png": "[encoded data removed]",
      "text/plain": [
       "<matplotlib.figure.Figure at 0x11a25d518>"
      ]
     },
     "metadata": {},
     "output_type": "display_data"
    }
   ],
   "source": [
    "#Now let us use the weights in test\n",
    "\n",
    "xrange = np.arange(beerData[0,0],beerData[beerData.shape[0]-1,0],0.001)  #get equally spaced points in the xrange\n",
    "X = np.array([xrange**m for m in range(w.size)]).T\n",
    "esty = X@w #compute the predicted value\n",
    "\n",
    "#plot everything\n",
    "p2 = plt.plot(x, t, 'bo') #plot training data\n",
    "p3 = plt.plot(xrange, esty, 'r') #plot estimated value\n",
    "\n",
    "#add legend and axes labels\n",
    "plt.ylabel('t') #label x and y axes\n",
    "plt.xlabel('x')\n",
    "plt.rcParams[\"axes.titlesize\"] = 10\n",
    "plt.legend((p1[0],p2[0],p3[0]),('True Function', 'Training Data', 'Estimated\\nPolynomial'), fontsize=6)\n"
   ]
  },
  {
   "cell_type": "code",
   "execution_count": 30,
   "metadata": {},
   "outputs": [
    {
     "name": "stdout",
     "output_type": "stream",
     "text": [
      "[     1    430 184900]\n",
      "0.890985752161\n"
     ]
    }
   ],
   "source": [
    "#What will the foam height be at t = 430? \n",
    "t = 430\n",
    "x_test = np.array([t**m for m in range(w.size)]).T\n",
    "print(x_test)\n",
    "predicted_height = x_test@w\n",
    "print(predicted_height)"
   ]
  },
  {
   "cell_type": "code",
   "execution_count": null,
   "metadata": {
    "collapsed": true
   },
   "outputs": [],
   "source": []
  }
 ],
 "metadata": {
  "kernelspec": {
   "display_name": "Python 3",
   "language": "python",
   "name": "python3"
  },
  "language_info": {
   "codemirror_mode": {
    "name": "ipython",
    "version": 3
   },
   "file_extension": ".py",
   "mimetype": "text/x-python",
   "name": "python",
   "nbconvert_exporter": "python",
   "pygments_lexer": "ipython3",
   "version": "3.6.1"
  }
 },
 "nbformat": 4,
 "nbformat_minor": 1
}
