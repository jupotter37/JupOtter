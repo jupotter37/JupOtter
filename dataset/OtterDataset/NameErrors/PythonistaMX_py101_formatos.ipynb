{
 "cells": [
  {
   "cell_type": "markdown",
   "metadata": {},
   "source": [
    "[![pythonista.io](imagenes/pythonista.png)](https://www.pythonista.io)"
   ]
  },
  {
   "cell_type": "markdown",
   "metadata": {},
   "source": [
    "# Entrada y salida estándar."
   ]
  },
  {
   "cell_type": "markdown",
   "metadata": {},
   "source": [
    "En la actualidad existen muchas fuentes desde las que se puede obtener y desplegar la información que un sistema de cómputo consume, gestiona y genera. Sin embargo, para el intérprete de Python la salida por defecto (salida estándar) de datos es la terminal de texto y la entrada estándar es el teclado.\n",
    "\n",
    "En el caso de las notebooks de *Jupyter*, cada celda de código representa a la entrada estándar mediante:\n",
    "\n",
    "```In[ ]:```\n",
    "\n",
    "Y la salida estándar mediante:\n",
    "\n",
    "```Out[ ]:```"
   ]
  },
  {
   "cell_type": "markdown",
   "metadata": {},
   "source": [
    "**Ejemplo:**"
   ]
  },
  {
   "cell_type": "markdown",
   "metadata": {},
   "source": [
    "* La siguiente celds desplegará el resultado de la expesión ```3 * \"Hola\"```. "
   ]
  },
  {
   "cell_type": "code",
   "execution_count": null,
   "metadata": {},
   "outputs": [],
   "source": [
    " 3 * \"Hola\""
   ]
  },
  {
   "cell_type": "markdown",
   "metadata": {},
   "source": [
    "## Salida estándar con la funcion ```print()```.\n",
    "\n",
    "En Python 3, la función ```print()``` se utiliza para desplegar información en la salida estándar.\n",
    "\n",
    "La sintaxis es la siguiente:\n",
    "\n",
    "```\n",
    "print(<expresión 1>, <expresión 2>, ...<expresión 3>)\n",
    "```\n",
    "\n",
    "* La función ```print()``` evalúa y despliega una o varias expresiones.\n",
    "* Si el resultado de la expresión es un objeto ```str```, este es desplegado sin los apóstrofes o las comillas que lo delimitan."
   ]
  },
  {
   "cell_type": "markdown",
   "metadata": {},
   "source": [
    "**Ejemplos:**"
   ]
  },
  {
   "cell_type": "markdown",
   "metadata": {},
   "source": [
    "* La siguiente celda define el nombre ```a``` con valor igual a ```2```."
   ]
  },
  {
   "cell_type": "code",
   "execution_count": null,
   "metadata": {},
   "outputs": [],
   "source": [
    "a = 2"
   ]
  },
  {
   "cell_type": "markdown",
   "metadata": {},
   "source": [
    "* La siguiente celda evalúa la expresión ```a```, por lo que desplegará ```2```."
   ]
  },
  {
   "cell_type": "code",
   "execution_count": null,
   "metadata": {
    "scrolled": false
   },
   "outputs": [],
   "source": [
    "print(a)"
   ]
  },
  {
   "cell_type": "markdown",
   "metadata": {},
   "source": [
    "* La siguiente celda desplegará el mensaje dentro del objeto ```\"Hola\"```."
   ]
  },
  {
   "cell_type": "code",
   "execution_count": null,
   "metadata": {},
   "outputs": [],
   "source": [
    "print(\"Hola\")"
   ]
  },
  {
   "cell_type": "markdown",
   "metadata": {},
   "source": [
    "* En la siguiente celda la función ```print()``` desplegará dos expresiones que corresponde cada una a un objeto de tipo ```str```. Cada objeto será desplegado separado por un espacio.\n",
    "\n",
    "* La salida será ```Hola Mundo```."
   ]
  },
  {
   "cell_type": "code",
   "execution_count": null,
   "metadata": {},
   "outputs": [],
   "source": [
    "print(\"Hola\", \"Mundo \" * 3)"
   ]
  },
  {
   "cell_type": "markdown",
   "metadata": {},
   "source": [
    "* En la siguiente celda la función ```print()``` desplegará el resultado de una expresión de concatenación entre dos objetos de tipo ```str```. El resultado es un objeto ```str```.\n",
    "\n",
    "* La salida será ```HolaMundo```."
   ]
  },
  {
   "cell_type": "code",
   "execution_count": null,
   "metadata": {},
   "outputs": [],
   "source": [
    "print(\"Hola\" + \"Mundo\")"
   ]
  },
  {
   "cell_type": "markdown",
   "metadata": {},
   "source": [
    "* En la siguiente celda la función ```print()``` desplegará tres expresiones que corresponden a:\n",
    "  * El objeto ```'Tienes'``` de tipo ```str```.\n",
    "  * El objeto de nombre ```a```.\n",
    "  * El objeto ```'buenos amigos'``` de tipo ```str```.\n",
    "\n",
    "Cada expresión será desplegada separada por un espacio.\n",
    "\n",
    "* La salida será ```Tienes 2 buenos amigos.```."
   ]
  },
  {
   "cell_type": "code",
   "execution_count": null,
   "metadata": {},
   "outputs": [],
   "source": [
    "print(\"Tienes\", a, \"buenos amigos.\")"
   ]
  },
  {
   "cell_type": "markdown",
   "metadata": {},
   "source": [
    "* En la siguiente celda la función ```print()``` intentará desplegar el resultado de la expresión ```\"Tienes\" + a + \"buenos amigos.\"```, la cual no es correcta y generará un error de tipo ```TypeError```."
   ]
  },
  {
   "cell_type": "code",
   "execution_count": null,
   "metadata": {
    "scrolled": true
   },
   "outputs": [],
   "source": [
    "print(\"Tienes\" + a + \"buenos amigos.\")"
   ]
  },
  {
   "cell_type": "markdown",
   "metadata": {},
   "source": [
    "## Despliegue con formato de los objetos ```str```.\n",
    "\n",
    "Los objetos ```str```  permiten insertar las representaciones de otros objetos dentro de ellos mismos de 3 formas:\n",
    "\n",
    "* El uso del caracter de escape ```%```.\n",
    "* El método ```format()```, el cual se estudiará más adelante.\n",
    "* A partir de Python 3.6 se incluye el usos de \"f-strings\", las cuales son descritas en el [*PEP 498*](https://www.python.org/dev/peps/pep-0498/) y se explorarán más adelante."
   ]
  },
  {
   "cell_type": "markdown",
   "metadata": {},
   "source": [
    "### Inserción de objetos con formato en objetos  ```str``` mediante el caracter de escape ```%```.\n",
    "\n",
    "\n",
    "Para intercalar valores dentro de un formato específico de texto se utiliza el caracter sobre-escritura definido como el signo de porcentaje ```%``` seguido de algún caracter que definirá el modo de desplegar la expresión correspondiente.\n",
    "\n",
    "```\n",
    "\"...%<caracter>...\" % expresión 1) \n",
    "```\n",
    "\n",
    "```\n",
    "\"...%<caracter 1>...%<caracter n>...\" %(<expresión 1>,...<expresión n>)\n",
    "```\n",
    "|Caracter de escape|Modo de despliegue|\n",
    "|:----------------:|:----------------:|\n",
    "|```%s```|\tcadena de texto|\n",
    "|```%d```|\t entero|\n",
    "|```%o```|\t octal|\n",
    "|```%x```|\t hexadecimal|\n",
    "|```%f```|\t punto flotante|\n",
    "|```%e```|\t punto flotante en formato exponencial|    \n",
    "\n",
    "El uso de ```%s```, equivale a aplicar la función ```str()``` al valor a desplegar.\n",
    "\n",
    "Para desplegar el signo de porcentaje ```%``` se utiliza ```%%```."
   ]
  },
  {
   "cell_type": "markdown",
   "metadata": {},
   "source": [
    "**Ejemplos:**"
   ]
  },
  {
   "cell_type": "markdown",
   "metadata": {},
   "source": [
    "* La siguiente celda definirán los objetos ```pi``` y ```radio```."
   ]
  },
  {
   "cell_type": "code",
   "execution_count": null,
   "metadata": {},
   "outputs": [],
   "source": [
    "pi = 3.141592\n",
    "radio = 2"
   ]
  },
  {
   "cell_type": "markdown",
   "metadata": {},
   "source": [
    "* Las siguientes celdas desplegarán en formatos distintos las expresiones correspondientes."
   ]
  },
  {
   "cell_type": "code",
   "execution_count": null,
   "metadata": {},
   "outputs": [],
   "source": [
    "print(\"El perímetro de un círculo de radio %d es %f.\" % (radio, 2 * radio * pi))"
   ]
  },
  {
   "cell_type": "code",
   "execution_count": null,
   "metadata": {},
   "outputs": [],
   "source": [
    "print(\"El perímetro de un círculo de radio %d es %d.\" % (radio, 2 * radio * pi))"
   ]
  },
  {
   "cell_type": "code",
   "execution_count": null,
   "metadata": {},
   "outputs": [],
   "source": [
    "print(\"El perímetro de un circulo de radio %s es %s.\" % (radio, 2 * radio * pi))"
   ]
  },
  {
   "cell_type": "code",
   "execution_count": null,
   "metadata": {},
   "outputs": [],
   "source": [
    "print(\"El valor de pi es %f.\" % (pi))"
   ]
  },
  {
   "cell_type": "code",
   "execution_count": null,
   "metadata": {},
   "outputs": [],
   "source": [
    "print(\"El valor de pi es %e.\" % pi)"
   ]
  },
  {
   "cell_type": "markdown",
   "metadata": {},
   "source": [
    "La siguiente celda incluye varias expresiones que definen a los objetos ```valor```, ```porciento``` y ```porcentaje```. Dichos objetos serán desplegados dentro de un objeto ```str``` usando el caracter de escape ```%``` y el signo de porcentaje usando ```%%```."
   ]
  },
  {
   "cell_type": "code",
   "execution_count": null,
   "metadata": {
    "scrolled": true
   },
   "outputs": [],
   "source": [
    "# Esta celda desplegará varias expresiones usando diversos formatos.\n",
    "valor = 13\n",
    "porciento = 15\n",
    "porcentaje = (valor * porciento) / 100\n",
    "print(\"El %d%% de %f es %f.\" % (porciento, valor, porcentaje))"
   ]
  },
  {
   "cell_type": "markdown",
   "metadata": {},
   "source": [
    "#### Despliegue de cifras significativas.\n",
    "\n",
    "Para desplegar un número específico de cifras significativas de un valor de punto flotante, se añade un punto ```.``` y el número de cifras a desplegarse después del signo de porcentaje ```%``` y antes del carácter ```f``` o ```e```.\n",
    "\n",
    "```\n",
    "\"<texto> %.<n>f <texto>\"\n",
    "```\n",
    "\n",
    "Donde:\n",
    "\n",
    "```<n>``` es el número de decimales que serán desplegados."
   ]
  },
  {
   "cell_type": "markdown",
   "metadata": {},
   "source": [
    "**Ejemplos:**"
   ]
  },
  {
   "cell_type": "markdown",
   "metadata": {},
   "source": [
    "* La siguiente celda definirán los objetos ```pi``` y ```radio```."
   ]
  },
  {
   "cell_type": "code",
   "execution_count": null,
   "metadata": {},
   "outputs": [],
   "source": [
    "pi = 3.14169265\n",
    "radio = 2"
   ]
  },
  {
   "cell_type": "markdown",
   "metadata": {},
   "source": [
    "* Las siguientes celdas desplegarán de formas distintas las expresiones ```radio``` y ```2 * pi * radio```."
   ]
  },
  {
   "cell_type": "code",
   "execution_count": null,
   "metadata": {},
   "outputs": [],
   "source": [
    "print(\"El perímetro de un círculo de radio igual a %d es %f.\" % (radio, 2 * pi * radio))"
   ]
  },
  {
   "cell_type": "code",
   "execution_count": null,
   "metadata": {},
   "outputs": [],
   "source": [
    "print(\"El perímetro de un círculo de radio igual a %d es %.2f.\" % (radio, 2 * pi * radio))"
   ]
  },
  {
   "cell_type": "markdown",
   "metadata": {},
   "source": [
    "### Caracteres de escape.\n",
    "\n",
    "Existen algunos caracteres que por su función o por la sintaxis de Python, tales como los apóstrofes, las comillas, los retornos de línea; que deben de utilizar un \"caracter de escape\", para que puedan ser desplegados. Los caracteres de escape pueden ser introducidos después de una diagonal invertida ```\\```. \n",
    "\n",
    "Estos caracteres de escape son usados en cinjubto con la función ```print()```.\n",
    "\n",
    "|Secuencia|Despliegue|\n",
    "|:-------:|:--------:|\n",
    "|```\\n```    |Retorno de línea|\n",
    "|```\\t```    |Tabulador |\n",
    "|```\\\"```    |Comillas  |\n",
    "|```\\'```    |Apóstrofe |\n",
    "|```\\\\```   |Diagonal invertida|\n",
    "|```\\xNN```  |Caracter que corresponde al número hexadecimal *NN* en ASCII|\n",
    "|```\\uNNNN```  |Caracter que corresponde al número hexadecimal *NN* en Unicode|"
   ]
  },
  {
   "cell_type": "markdown",
   "metadata": {},
   "source": [
    "**Ejemplos:**"
   ]
  },
  {
   "cell_type": "markdown",
   "metadata": {},
   "source": [
    "* Las siguientes celdas desplegarán cadenas de caracteres que incluyen caracteres de escape."
   ]
  },
  {
   "cell_type": "code",
   "execution_count": null,
   "metadata": {},
   "outputs": [],
   "source": [
    "print(\"Primera línea.\\nSegunda línea\\t con tabulador.\")"
   ]
  },
  {
   "cell_type": "code",
   "execution_count": null,
   "metadata": {},
   "outputs": [],
   "source": [
    "print(\"Este es el signo de \\\"gato\\\" \\x23.\")"
   ]
  },
  {
   "cell_type": "code",
   "execution_count": null,
   "metadata": {},
   "outputs": [],
   "source": [
    "print(\"Beta: \\u00DF\")"
   ]
  },
  {
   "cell_type": "code",
   "execution_count": null,
   "metadata": {},
   "outputs": [],
   "source": [
    "print('I \\u2764 YOU!')"
   ]
  },
  {
   "cell_type": "markdown",
   "metadata": {},
   "source": [
    "## Entrada estándar con la función ```input()```. \n",
    "\n",
    "La función por defecto de entrada estándar para Python 3 es ```input()```.\n",
    "\n",
    "La función ```input()``` captura los caracteres provenientes de entrada estándar (el teclado) hasta que se introduce un retorno de carro <kbd>Intro</kbd> y el contenido capturado es devuelto al intérprete como una cadena de texto. \n",
    "\n",
    "La cadena de caracteres resultante puede ser almacenada como un objeto de tipo ```str``` mediante la asignación de un nombre.\n",
    "\n",
    "La función permite desplegar un mensaje de tipo ```str``` como parámetro.\n",
    "\n",
    "``` \n",
    "input(<objeto tipo str>)\n",
    "```"
   ]
  },
  {
   "cell_type": "markdown",
   "metadata": {},
   "source": [
    "**Ejemplos:**"
   ]
  },
  {
   "cell_type": "markdown",
   "metadata": {},
   "source": [
    "* La siguiente celda ejecutará a la función ```input()```, la cual pedirá que se ingresen datos e <kbd>Intro</kbd>. Dicha función regresará la cadena de caracteres capturada como un objeto de tipo ```str```."
   ]
  },
  {
   "cell_type": "code",
   "execution_count": null,
   "metadata": {},
   "outputs": [],
   "source": [
    "input()"
   ]
  },
  {
   "cell_type": "markdown",
   "metadata": {},
   "source": [
    "* La siguiente celda ejecutará a la función ```input()```, la cual pedirá que se ingresen datos e <kbd>Intro</kbd>. Al objeto ```str``` resultante se le asignará el nombre de ```texto```."
   ]
  },
  {
   "cell_type": "code",
   "execution_count": null,
   "metadata": {},
   "outputs": [],
   "source": [
    "texto = input()"
   ]
  },
  {
   "cell_type": "code",
   "execution_count": null,
   "metadata": {},
   "outputs": [],
   "source": [
    "type(texto)"
   ]
  },
  {
   "cell_type": "code",
   "execution_count": null,
   "metadata": {},
   "outputs": [],
   "source": [
    "texto"
   ]
  },
  {
   "cell_type": "code",
   "execution_count": null,
   "metadata": {},
   "outputs": [],
   "source": [
    "print(texto)"
   ]
  },
  {
   "cell_type": "markdown",
   "metadata": {},
   "source": [
    "* La siguiente celda ejecutará a la función ```input()```, desplegando el mensaje ```Escribe un nombre: ```, la cual pedirá que se ingresen datos e <kbd>Intro</kbd>. Al objeto ```str``` resultante se le asignará el nombre de ```nombre```."
   ]
  },
  {
   "cell_type": "code",
   "execution_count": null,
   "metadata": {},
   "outputs": [],
   "source": [
    "nombre = input(\"Escribe un nombre: \")"
   ]
  },
  {
   "cell_type": "code",
   "execution_count": null,
   "metadata": {},
   "outputs": [],
   "source": [
    "print(nombre)"
   ]
  },
  {
   "cell_type": "markdown",
   "metadata": {},
   "source": [
    "## Entrada y salida estándar en Python 2."
   ]
  },
  {
   "cell_type": "markdown",
   "metadata": {},
   "source": [
    "\n",
    "### La función ```raw_input()```.\n",
    "\n",
    "La sintaxis es la siguiente para Python 2:\n",
    "\n",
    "``` \n",
    "raw_input(<objeto tipo str>)\n",
    "```\n",
    "\n",
    "**Ejemplo:**\n",
    "\n",
    "``` python\n",
    ">>> raw_input()\n",
    "Hola\n",
    "'Hola'\n",
    ">>> texto = raw_input()\n",
    "Hola\n",
    ">>> type(texto)\n",
    "<type 'str'>\n",
    ">>> print texto\n",
    "Hola\n",
    ">>> nombre = raw_input(\"Escribe un nombre: \")\n",
    "Escribe un nombre: Juan\n",
    ">>> print nombre\n",
    "Juan\n",
    ">>> \n",
    "```\n",
    "### La función ```input()``` en Python 2.\n",
    "\n",
    "Además de ```raw_input()```, existe la función ```input()```, la cual es semejante a ejecutar ```eval(raw_input())```.\n",
    "\n",
    "Si la expresión ingresada es correcta, La función ```input()``` puede regresar valores de diversos tipos, en vez de sólo cadenas de texto.\n",
    "\n",
    "**Ejemplo:**\n",
    "\n",
    "``` python\n",
    ">>> mensaje = \"Ingresa el texto: \"\n",
    ">>> valor = raw_input(mensaje)\n",
    "Ingresa el texto: 35 + 21\n",
    ">>> type(valor)\n",
    "<type 'str'>\n",
    ">>> print valor\n",
    "35 + 21\n",
    ">>> valor = input(mensaje)\n",
    "Ingresa el texto: 35 + 21\n",
    ">>> type(valor)\n",
    "<type 'int'>\n",
    ">>> print valor\n",
    "56\n",
    ">>> valor = input(mensaje)\n",
    "Ingresa el texto: \"Hola\"\n",
    ">>> type(valor)\n",
    "<type 'str'>\n",
    ">>> print valor\n",
    "Hola\n",
    ">>> valor = input(mensaje)\n",
    "Ingresa el texto: Hola\n",
    "Traceback (most recent call last):\n",
    "  File \"<stdin>\", line 1, in <module>\n",
    "  File \"<string>\", line 1, in <module>\n",
    "NameError: name 'Hola' is not defined\n",
    ">>>\n",
    "```\n",
    "**NOTA:** La función ```input()```, tal como se usa en Python 2 tiene el potencial de generar diversos errores y es susceptible de vulnerabilidades de seguridad debido a que podría usarse para inyectar código malicioso. Es por eso por lo que en Python 3, ```input()``` se comporta como ```raw_input()``` y la función ```raw_input()``` fue desechada."
   ]
  },
  {
   "cell_type": "markdown",
   "metadata": {},
   "source": [
    "<p style=\"text-align: center\"><a rel=\"license\" href=\"http://creativecommons.org/licenses/by/4.0/\"><img alt=\"Licencia Creative Commons\" style=\"border-width:0\" src=\"https://i.creativecommons.org/l/by/4.0/80x15.png\" /></a><br />Esta obra está bajo una <a rel=\"license\" href=\"http://creativecommons.org/licenses/by/4.0/\">Licencia Creative Commons Atribución 4.0 Internacional</a>.</p>\n",
    "<p style=\"text-align: center\">&copy; José Luis Chiquete Valdivieso. 2020.</p>"
   ]
  }
 ],
 "metadata": {
  "kernelspec": {
   "display_name": "Python 3",
   "language": "python",
   "name": "python3"
  },
  "language_info": {
   "codemirror_mode": {
    "name": "ipython",
    "version": 3
   },
   "file_extension": ".py",
   "mimetype": "text/x-python",
   "name": "python",
   "nbconvert_exporter": "python",
   "pygments_lexer": "ipython3",
   "version": "3.8.5"
  }
 },
 "nbformat": 4,
 "nbformat_minor": 1
}
