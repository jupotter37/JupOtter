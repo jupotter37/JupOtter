{
  "cells": [
    {
      "cell_type": "markdown",
      "source": [
        "Analisis sinistros viales- Laboratorio 4\n",
        "\n",
        "Juan Sebastian Cortes Chia\n",
        "Jhonatan Rios Tapiero\n",
        "Santiago Guerrero Chamorro\n"
      ],
      "metadata": {
        "id": "z8gYT3Q8fmuj"
      },
      "id": "z8gYT3Q8fmuj"
    },
    {
      "cell_type": "markdown",
      "source": [
        "En este cuaderno de jupyter se realiza un flujo de trabajo para predecir la severidad de siniestros viales, a partir de una base de datos de la Secretaría Distrital."
      ],
      "metadata": {
        "id": "vSh21SMif_Li"
      },
      "id": "vSh21SMif_Li"
    },
    {
      "cell_type": "markdown",
      "source": [
        "### Importar librerías"
      ],
      "metadata": {
        "id": "6DUjVIsffw-9"
      },
      "id": "6DUjVIsffw-9"
    },
    {
      "cell_type": "code",
      "execution_count": 20,
      "id": "887597e8",
      "metadata": {
        "id": "887597e8"
      },
      "outputs": [],
      "source": [
        "import numpy as np\n",
        "import pandas as pd"
      ]
    },
    {
      "cell_type": "markdown",
      "source": [
        "### Cargar datos"
      ],
      "metadata": {
        "id": "Sgg2k4Myghc_"
      },
      "id": "Sgg2k4Myghc_"
    },
    {
      "cell_type": "code",
      "source": [
        "from google.colab import drive\n",
        "drive.mount('/content/drive')"
      ],
      "metadata": {
        "id": "vHno_gVX5mGF",
        "colab": {
          "base_uri": "https://localhost:8080/"
        },
        "outputId": "2d13eec2-747e-42c6-a8bd-effea5af0de2"
      },
      "id": "vHno_gVX5mGF",
      "execution_count": 21,
      "outputs": [
        {
          "output_type": "stream",
          "name": "stdout",
          "text": [
            "Drive already mounted at /content/drive; to attempt to forcibly remount, call drive.mount(\"/content/drive\", force_remount=True).\n"
          ]
        }
      ]
    },
    {
      "cell_type": "code",
      "execution_count": 22,
      "id": "60ee7e6d",
      "metadata": {
        "id": "60ee7e6d"
      },
      "outputs": [],
      "source": [
        "# dataini = pd.read_csv('historico_siniestros_bogota_d.c_-.csv')\n",
        "dataini = pd.read_csv('/content/drive/MyDrive/flights/historico_siniestros_bogota_d.c_-.csv')"
      ]
    },
    {
      "cell_type": "code",
      "source": [
        "dataini.head()"
      ],
      "metadata": {
        "colab": {
          "base_uri": "https://localhost:8080/",
          "height": 206
        },
        "id": "jKaNZBuF4gbA",
        "outputId": "51addc73-d4a8-4a4d-8ad5-20dd12ae6035"
      },
      "id": "jKaNZBuF4gbA",
      "execution_count": 23,
      "outputs": [
        {
          "output_type": "execute_result",
          "data": {
            "text/plain": [
              "           X         Y  OBJECTID  FORMULARIO  CODIGO_ACCIDENTE  \\\n",
              "0 -74.090924  4.693807         1  A000640275           4484660   \n",
              "1 -74.121000  4.603000         2  A001233353          10533499   \n",
              "2 -74.042000  4.682000         4  A001232786          10533629   \n",
              "3 -74.166937  4.587187         7  A000200705           4412699   \n",
              "4 -74.092901  4.607648         8  A000402862           4447845   \n",
              "\n",
              "     FECHA_OCURRENCIA_ACC  ANO_OCURRENCIA_ACC                   DIRECCION  \\\n",
              "0  2017/06/12 00:00:00+00                2017  AV AVENIDA BOYACA-CL 79 02   \n",
              "1  2020/11/19 00:00:00+00                2020           CL 26 S- KR 50 02   \n",
              "2  2020/11/10 00:00:00+00                2020            KR 9 - CL 100 02   \n",
              "3  2015/05/11 00:00:00+00                2015           CL 63A-KR 72 S 02   \n",
              "4  2016/06/08 00:00:00+00                2016               KR 27-CL 9 14   \n",
              "\n",
              "      GRAVEDAD CLASE_ACC       LOCALIDAD          FECHA_HORA_ACC   LATITUD  \\\n",
              "0   SOLO DANOS    CHOQUE        ENGATIVA  2017/06/12 05:30:00+00  4.693807   \n",
              "1  CON HERIDOS      OTRO   PUENTE ARANDA  2020/11/19 02:05:00+00  4.603000   \n",
              "2   SOLO DANOS    CHOQUE         USAQUEN  2020/11/10 13:30:00+00  4.682000   \n",
              "3   SOLO DANOS    CHOQUE  CIUDAD BOLIVAR  2015/05/11 10:50:00+00  4.587187   \n",
              "4   SOLO DANOS    CHOQUE    LOS MARTIRES  2016/06/08 21:30:00+00  4.607648   \n",
              "\n",
              "    LONGITUD         CIV  PK_CALZADA  \n",
              "0 -74.090924  10006772.0    221236.0  \n",
              "1 -74.121000  16004560.0         NaN  \n",
              "2 -74.042000  30001107.0         NaN  \n",
              "3 -74.166937  19001483.0    136166.0  \n",
              "4 -74.092901  14000548.0    239719.0  "
            ],
            "text/html": [
              "\n",
              "  <div id=\"df-efe38c85-39cf-4b66-984b-21b7da36dcc9\" class=\"colab-df-container\">\n",
              "    <div>\n",
              "<style scoped>\n",
              "    .dataframe tbody tr th:only-of-type {\n",
              "        vertical-align: middle;\n",
              "    }\n",
              "\n",
              "    .dataframe tbody tr th {\n",
              "        vertical-align: top;\n",
              "    }\n",
              "\n",
              "    .dataframe thead th {\n",
              "        text-align: right;\n",
              "    }\n",
              "</style>\n",
              "<table border=\"1\" class=\"dataframe\">\n",
              "  <thead>\n",
              "    <tr style=\"text-align: right;\">\n",
              "      <th></th>\n",
              "      <th>X</th>\n",
              "      <th>Y</th>\n",
              "      <th>OBJECTID</th>\n",
              "      <th>FORMULARIO</th>\n",
              "      <th>CODIGO_ACCIDENTE</th>\n",
              "      <th>FECHA_OCURRENCIA_ACC</th>\n",
              "      <th>ANO_OCURRENCIA_ACC</th>\n",
              "      <th>DIRECCION</th>\n",
              "      <th>GRAVEDAD</th>\n",
              "      <th>CLASE_ACC</th>\n",
              "      <th>LOCALIDAD</th>\n",
              "      <th>FECHA_HORA_ACC</th>\n",
              "      <th>LATITUD</th>\n",
              "      <th>LONGITUD</th>\n",
              "      <th>CIV</th>\n",
              "      <th>PK_CALZADA</th>\n",
              "    </tr>\n",
              "  </thead>\n",
              "  <tbody>\n",
              "    <tr>\n",
              "      <th>0</th>\n",
              "      <td>-74.090924</td>\n",
              "      <td>4.693807</td>\n",
              "      <td>1</td>\n",
              "      <td>A000640275</td>\n",
              "      <td>4484660</td>\n",
              "      <td>2017/06/12 00:00:00+00</td>\n",
              "      <td>2017</td>\n",
              "      <td>AV AVENIDA BOYACA-CL 79 02</td>\n",
              "      <td>SOLO DANOS</td>\n",
              "      <td>CHOQUE</td>\n",
              "      <td>ENGATIVA</td>\n",
              "      <td>2017/06/12 05:30:00+00</td>\n",
              "      <td>4.693807</td>\n",
              "      <td>-74.090924</td>\n",
              "      <td>10006772.0</td>\n",
              "      <td>221236.0</td>\n",
              "    </tr>\n",
              "    <tr>\n",
              "      <th>1</th>\n",
              "      <td>-74.121000</td>\n",
              "      <td>4.603000</td>\n",
              "      <td>2</td>\n",
              "      <td>A001233353</td>\n",
              "      <td>10533499</td>\n",
              "      <td>2020/11/19 00:00:00+00</td>\n",
              "      <td>2020</td>\n",
              "      <td>CL 26 S- KR 50 02</td>\n",
              "      <td>CON HERIDOS</td>\n",
              "      <td>OTRO</td>\n",
              "      <td>PUENTE ARANDA</td>\n",
              "      <td>2020/11/19 02:05:00+00</td>\n",
              "      <td>4.603000</td>\n",
              "      <td>-74.121000</td>\n",
              "      <td>16004560.0</td>\n",
              "      <td>NaN</td>\n",
              "    </tr>\n",
              "    <tr>\n",
              "      <th>2</th>\n",
              "      <td>-74.042000</td>\n",
              "      <td>4.682000</td>\n",
              "      <td>4</td>\n",
              "      <td>A001232786</td>\n",
              "      <td>10533629</td>\n",
              "      <td>2020/11/10 00:00:00+00</td>\n",
              "      <td>2020</td>\n",
              "      <td>KR 9 - CL 100 02</td>\n",
              "      <td>SOLO DANOS</td>\n",
              "      <td>CHOQUE</td>\n",
              "      <td>USAQUEN</td>\n",
              "      <td>2020/11/10 13:30:00+00</td>\n",
              "      <td>4.682000</td>\n",
              "      <td>-74.042000</td>\n",
              "      <td>30001107.0</td>\n",
              "      <td>NaN</td>\n",
              "    </tr>\n",
              "    <tr>\n",
              "      <th>3</th>\n",
              "      <td>-74.166937</td>\n",
              "      <td>4.587187</td>\n",
              "      <td>7</td>\n",
              "      <td>A000200705</td>\n",
              "      <td>4412699</td>\n",
              "      <td>2015/05/11 00:00:00+00</td>\n",
              "      <td>2015</td>\n",
              "      <td>CL 63A-KR 72 S 02</td>\n",
              "      <td>SOLO DANOS</td>\n",
              "      <td>CHOQUE</td>\n",
              "      <td>CIUDAD BOLIVAR</td>\n",
              "      <td>2015/05/11 10:50:00+00</td>\n",
              "      <td>4.587187</td>\n",
              "      <td>-74.166937</td>\n",
              "      <td>19001483.0</td>\n",
              "      <td>136166.0</td>\n",
              "    </tr>\n",
              "    <tr>\n",
              "      <th>4</th>\n",
              "      <td>-74.092901</td>\n",
              "      <td>4.607648</td>\n",
              "      <td>8</td>\n",
              "      <td>A000402862</td>\n",
              "      <td>4447845</td>\n",
              "      <td>2016/06/08 00:00:00+00</td>\n",
              "      <td>2016</td>\n",
              "      <td>KR 27-CL 9 14</td>\n",
              "      <td>SOLO DANOS</td>\n",
              "      <td>CHOQUE</td>\n",
              "      <td>LOS MARTIRES</td>\n",
              "      <td>2016/06/08 21:30:00+00</td>\n",
              "      <td>4.607648</td>\n",
              "      <td>-74.092901</td>\n",
              "      <td>14000548.0</td>\n",
              "      <td>239719.0</td>\n",
              "    </tr>\n",
              "  </tbody>\n",
              "</table>\n",
              "</div>\n",
              "    <div class=\"colab-df-buttons\">\n",
              "\n",
              "  <div class=\"colab-df-container\">\n",
              "    <button class=\"colab-df-convert\" onclick=\"convertToInteractive('df-efe38c85-39cf-4b66-984b-21b7da36dcc9')\"\n",
              "            title=\"Convert this dataframe to an interactive table.\"\n",
              "            style=\"display:none;\">\n",
              "\n",
              "  <svg xmlns=\"http://www.w3.org/2000/svg\" height=\"24px\" viewBox=\"0 -960 960 960\">\n",
              "    <path d=\"M120-120v-720h720v720H120Zm60-500h600v-160H180v160Zm220 220h160v-160H400v160Zm0 220h160v-160H400v160ZM180-400h160v-160H180v160Zm440 0h160v-160H620v160ZM180-180h160v-160H180v160Zm440 0h160v-160H620v160Z\"/>\n",
              "  </svg>\n",
              "    </button>\n",
              "\n",
              "  <style>\n",
              "    .colab-df-container {\n",
              "      display:flex;\n",
              "      gap: 12px;\n",
              "    }\n",
              "\n",
              "    .colab-df-convert {\n",
              "      background-color: #E8F0FE;\n",
              "      border: none;\n",
              "      border-radius: 50%;\n",
              "      cursor: pointer;\n",
              "      display: none;\n",
              "      fill: #1967D2;\n",
              "      height: 32px;\n",
              "      padding: 0 0 0 0;\n",
              "      width: 32px;\n",
              "    }\n",
              "\n",
              "    .colab-df-convert:hover {\n",
              "      background-color: #E2EBFA;\n",
              "      box-shadow: 0px 1px 2px rgba(60, 64, 67, 0.3), 0px 1px 3px 1px rgba(60, 64, 67, 0.15);\n",
              "      fill: #174EA6;\n",
              "    }\n",
              "\n",
              "    .colab-df-buttons div {\n",
              "      margin-bottom: 4px;\n",
              "    }\n",
              "\n",
              "    [theme=dark] .colab-df-convert {\n",
              "      background-color: #3B4455;\n",
              "      fill: #D2E3FC;\n",
              "    }\n",
              "\n",
              "    [theme=dark] .colab-df-convert:hover {\n",
              "      background-color: #434B5C;\n",
              "      box-shadow: 0px 1px 3px 1px rgba(0, 0, 0, 0.15);\n",
              "      filter: drop-shadow(0px 1px 2px rgba(0, 0, 0, 0.3));\n",
              "      fill: #FFFFFF;\n",
              "    }\n",
              "  </style>\n",
              "\n",
              "    <script>\n",
              "      const buttonEl =\n",
              "        document.querySelector('#df-efe38c85-39cf-4b66-984b-21b7da36dcc9 button.colab-df-convert');\n",
              "      buttonEl.style.display =\n",
              "        google.colab.kernel.accessAllowed ? 'block' : 'none';\n",
              "\n",
              "      async function convertToInteractive(key) {\n",
              "        const element = document.querySelector('#df-efe38c85-39cf-4b66-984b-21b7da36dcc9');\n",
              "        const dataTable =\n",
              "          await google.colab.kernel.invokeFunction('convertToInteractive',\n",
              "                                                    [key], {});\n",
              "        if (!dataTable) return;\n",
              "\n",
              "        const docLinkHtml = 'Like what you see? Visit the ' +\n",
              "          '<a target=\"_blank\" href=https://colab.research.google.com/notebooks/data_table.ipynb>data table notebook</a>'\n",
              "          + ' to learn more about interactive tables.';\n",
              "        element.innerHTML = '';\n",
              "        dataTable['output_type'] = 'display_data';\n",
              "        await google.colab.output.renderOutput(dataTable, element);\n",
              "        const docLink = document.createElement('div');\n",
              "        docLink.innerHTML = docLinkHtml;\n",
              "        element.appendChild(docLink);\n",
              "      }\n",
              "    </script>\n",
              "  </div>\n",
              "\n",
              "\n",
              "<div id=\"df-ef909ab3-8348-4d3f-be27-31c22ea03f95\">\n",
              "  <button class=\"colab-df-quickchart\" onclick=\"quickchart('df-ef909ab3-8348-4d3f-be27-31c22ea03f95')\"\n",
              "            title=\"Suggest charts\"\n",
              "            style=\"display:none;\">\n",
              "\n",
              "<svg xmlns=\"http://www.w3.org/2000/svg\" height=\"24px\"viewBox=\"0 0 24 24\"\n",
              "     width=\"24px\">\n",
              "    <g>\n",
              "        <path d=\"M19 3H5c-1.1 0-2 .9-2 2v14c0 1.1.9 2 2 2h14c1.1 0 2-.9 2-2V5c0-1.1-.9-2-2-2zM9 17H7v-7h2v7zm4 0h-2V7h2v10zm4 0h-2v-4h2v4z\"/>\n",
              "    </g>\n",
              "</svg>\n",
              "  </button>\n",
              "\n",
              "<style>\n",
              "  .colab-df-quickchart {\n",
              "      --bg-color: #E8F0FE;\n",
              "      --fill-color: #1967D2;\n",
              "      --hover-bg-color: #E2EBFA;\n",
              "      --hover-fill-color: #174EA6;\n",
              "      --disabled-fill-color: #AAA;\n",
              "      --disabled-bg-color: #DDD;\n",
              "  }\n",
              "\n",
              "  [theme=dark] .colab-df-quickchart {\n",
              "      --bg-color: #3B4455;\n",
              "      --fill-color: #D2E3FC;\n",
              "      --hover-bg-color: #434B5C;\n",
              "      --hover-fill-color: #FFFFFF;\n",
              "      --disabled-bg-color: #3B4455;\n",
              "      --disabled-fill-color: #666;\n",
              "  }\n",
              "\n",
              "  .colab-df-quickchart {\n",
              "    background-color: var(--bg-color);\n",
              "    border: none;\n",
              "    border-radius: 50%;\n",
              "    cursor: pointer;\n",
              "    display: none;\n",
              "    fill: var(--fill-color);\n",
              "    height: 32px;\n",
              "    padding: 0;\n",
              "    width: 32px;\n",
              "  }\n",
              "\n",
              "  .colab-df-quickchart:hover {\n",
              "    background-color: var(--hover-bg-color);\n",
              "    box-shadow: 0 1px 2px rgba(60, 64, 67, 0.3), 0 1px 3px 1px rgba(60, 64, 67, 0.15);\n",
              "    fill: var(--button-hover-fill-color);\n",
              "  }\n",
              "\n",
              "  .colab-df-quickchart-complete:disabled,\n",
              "  .colab-df-quickchart-complete:disabled:hover {\n",
              "    background-color: var(--disabled-bg-color);\n",
              "    fill: var(--disabled-fill-color);\n",
              "    box-shadow: none;\n",
              "  }\n",
              "\n",
              "  .colab-df-spinner {\n",
              "    border: 2px solid var(--fill-color);\n",
              "    border-color: transparent;\n",
              "    border-bottom-color: var(--fill-color);\n",
              "    animation:\n",
              "      spin 1s steps(1) infinite;\n",
              "  }\n",
              "\n",
              "  @keyframes spin {\n",
              "    0% {\n",
              "      border-color: transparent;\n",
              "      border-bottom-color: var(--fill-color);\n",
              "      border-left-color: var(--fill-color);\n",
              "    }\n",
              "    20% {\n",
              "      border-color: transparent;\n",
              "      border-left-color: var(--fill-color);\n",
              "      border-top-color: var(--fill-color);\n",
              "    }\n",
              "    30% {\n",
              "      border-color: transparent;\n",
              "      border-left-color: var(--fill-color);\n",
              "      border-top-color: var(--fill-color);\n",
              "      border-right-color: var(--fill-color);\n",
              "    }\n",
              "    40% {\n",
              "      border-color: transparent;\n",
              "      border-right-color: var(--fill-color);\n",
              "      border-top-color: var(--fill-color);\n",
              "    }\n",
              "    60% {\n",
              "      border-color: transparent;\n",
              "      border-right-color: var(--fill-color);\n",
              "    }\n",
              "    80% {\n",
              "      border-color: transparent;\n",
              "      border-right-color: var(--fill-color);\n",
              "      border-bottom-color: var(--fill-color);\n",
              "    }\n",
              "    90% {\n",
              "      border-color: transparent;\n",
              "      border-bottom-color: var(--fill-color);\n",
              "    }\n",
              "  }\n",
              "</style>\n",
              "\n",
              "  <script>\n",
              "    async function quickchart(key) {\n",
              "      const quickchartButtonEl =\n",
              "        document.querySelector('#' + key + ' button');\n",
              "      quickchartButtonEl.disabled = true;  // To prevent multiple clicks.\n",
              "      quickchartButtonEl.classList.add('colab-df-spinner');\n",
              "      try {\n",
              "        const charts = await google.colab.kernel.invokeFunction(\n",
              "            'suggestCharts', [key], {});\n",
              "      } catch (error) {\n",
              "        console.error('Error during call to suggestCharts:', error);\n",
              "      }\n",
              "      quickchartButtonEl.classList.remove('colab-df-spinner');\n",
              "      quickchartButtonEl.classList.add('colab-df-quickchart-complete');\n",
              "    }\n",
              "    (() => {\n",
              "      let quickchartButtonEl =\n",
              "        document.querySelector('#df-ef909ab3-8348-4d3f-be27-31c22ea03f95 button');\n",
              "      quickchartButtonEl.style.display =\n",
              "        google.colab.kernel.accessAllowed ? 'block' : 'none';\n",
              "    })();\n",
              "  </script>\n",
              "</div>\n",
              "\n",
              "    </div>\n",
              "  </div>\n"
            ],
            "application/vnd.google.colaboratory.intrinsic+json": {
              "type": "dataframe",
              "variable_name": "dataini"
            }
          },
          "metadata": {},
          "execution_count": 23
        }
      ]
    },
    {
      "cell_type": "code",
      "execution_count": 24,
      "id": "0a9157a2",
      "metadata": {
        "id": "0a9157a2",
        "outputId": "250390c1-ab9e-4e20-f488-42459bc307f4",
        "colab": {
          "base_uri": "https://localhost:8080/",
          "height": 206
        }
      },
      "outputs": [
        {
          "output_type": "execute_result",
          "data": {
            "text/plain": [
              "      GRAVEDAD CLASE_ACC       LOCALIDAD          FECHA_HORA_ACC   LATITUD  \\\n",
              "0   SOLO DANOS    CHOQUE        ENGATIVA  2017/06/12 05:30:00+00  4.693807   \n",
              "1  CON HERIDOS      OTRO   PUENTE ARANDA  2020/11/19 02:05:00+00  4.603000   \n",
              "2   SOLO DANOS    CHOQUE         USAQUEN  2020/11/10 13:30:00+00  4.682000   \n",
              "3   SOLO DANOS    CHOQUE  CIUDAD BOLIVAR  2015/05/11 10:50:00+00  4.587187   \n",
              "4   SOLO DANOS    CHOQUE    LOS MARTIRES  2016/06/08 21:30:00+00  4.607648   \n",
              "\n",
              "    LONGITUD  \n",
              "0 -74.090924  \n",
              "1 -74.121000  \n",
              "2 -74.042000  \n",
              "3 -74.166937  \n",
              "4 -74.092901  "
            ],
            "text/html": [
              "\n",
              "  <div id=\"df-f3158c24-ee41-43a2-a763-851116ef9cba\" class=\"colab-df-container\">\n",
              "    <div>\n",
              "<style scoped>\n",
              "    .dataframe tbody tr th:only-of-type {\n",
              "        vertical-align: middle;\n",
              "    }\n",
              "\n",
              "    .dataframe tbody tr th {\n",
              "        vertical-align: top;\n",
              "    }\n",
              "\n",
              "    .dataframe thead th {\n",
              "        text-align: right;\n",
              "    }\n",
              "</style>\n",
              "<table border=\"1\" class=\"dataframe\">\n",
              "  <thead>\n",
              "    <tr style=\"text-align: right;\">\n",
              "      <th></th>\n",
              "      <th>GRAVEDAD</th>\n",
              "      <th>CLASE_ACC</th>\n",
              "      <th>LOCALIDAD</th>\n",
              "      <th>FECHA_HORA_ACC</th>\n",
              "      <th>LATITUD</th>\n",
              "      <th>LONGITUD</th>\n",
              "    </tr>\n",
              "  </thead>\n",
              "  <tbody>\n",
              "    <tr>\n",
              "      <th>0</th>\n",
              "      <td>SOLO DANOS</td>\n",
              "      <td>CHOQUE</td>\n",
              "      <td>ENGATIVA</td>\n",
              "      <td>2017/06/12 05:30:00+00</td>\n",
              "      <td>4.693807</td>\n",
              "      <td>-74.090924</td>\n",
              "    </tr>\n",
              "    <tr>\n",
              "      <th>1</th>\n",
              "      <td>CON HERIDOS</td>\n",
              "      <td>OTRO</td>\n",
              "      <td>PUENTE ARANDA</td>\n",
              "      <td>2020/11/19 02:05:00+00</td>\n",
              "      <td>4.603000</td>\n",
              "      <td>-74.121000</td>\n",
              "    </tr>\n",
              "    <tr>\n",
              "      <th>2</th>\n",
              "      <td>SOLO DANOS</td>\n",
              "      <td>CHOQUE</td>\n",
              "      <td>USAQUEN</td>\n",
              "      <td>2020/11/10 13:30:00+00</td>\n",
              "      <td>4.682000</td>\n",
              "      <td>-74.042000</td>\n",
              "    </tr>\n",
              "    <tr>\n",
              "      <th>3</th>\n",
              "      <td>SOLO DANOS</td>\n",
              "      <td>CHOQUE</td>\n",
              "      <td>CIUDAD BOLIVAR</td>\n",
              "      <td>2015/05/11 10:50:00+00</td>\n",
              "      <td>4.587187</td>\n",
              "      <td>-74.166937</td>\n",
              "    </tr>\n",
              "    <tr>\n",
              "      <th>4</th>\n",
              "      <td>SOLO DANOS</td>\n",
              "      <td>CHOQUE</td>\n",
              "      <td>LOS MARTIRES</td>\n",
              "      <td>2016/06/08 21:30:00+00</td>\n",
              "      <td>4.607648</td>\n",
              "      <td>-74.092901</td>\n",
              "    </tr>\n",
              "  </tbody>\n",
              "</table>\n",
              "</div>\n",
              "    <div class=\"colab-df-buttons\">\n",
              "\n",
              "  <div class=\"colab-df-container\">\n",
              "    <button class=\"colab-df-convert\" onclick=\"convertToInteractive('df-f3158c24-ee41-43a2-a763-851116ef9cba')\"\n",
              "            title=\"Convert this dataframe to an interactive table.\"\n",
              "            style=\"display:none;\">\n",
              "\n",
              "  <svg xmlns=\"http://www.w3.org/2000/svg\" height=\"24px\" viewBox=\"0 -960 960 960\">\n",
              "    <path d=\"M120-120v-720h720v720H120Zm60-500h600v-160H180v160Zm220 220h160v-160H400v160Zm0 220h160v-160H400v160ZM180-400h160v-160H180v160Zm440 0h160v-160H620v160ZM180-180h160v-160H180v160Zm440 0h160v-160H620v160Z\"/>\n",
              "  </svg>\n",
              "    </button>\n",
              "\n",
              "  <style>\n",
              "    .colab-df-container {\n",
              "      display:flex;\n",
              "      gap: 12px;\n",
              "    }\n",
              "\n",
              "    .colab-df-convert {\n",
              "      background-color: #E8F0FE;\n",
              "      border: none;\n",
              "      border-radius: 50%;\n",
              "      cursor: pointer;\n",
              "      display: none;\n",
              "      fill: #1967D2;\n",
              "      height: 32px;\n",
              "      padding: 0 0 0 0;\n",
              "      width: 32px;\n",
              "    }\n",
              "\n",
              "    .colab-df-convert:hover {\n",
              "      background-color: #E2EBFA;\n",
              "      box-shadow: 0px 1px 2px rgba(60, 64, 67, 0.3), 0px 1px 3px 1px rgba(60, 64, 67, 0.15);\n",
              "      fill: #174EA6;\n",
              "    }\n",
              "\n",
              "    .colab-df-buttons div {\n",
              "      margin-bottom: 4px;\n",
              "    }\n",
              "\n",
              "    [theme=dark] .colab-df-convert {\n",
              "      background-color: #3B4455;\n",
              "      fill: #D2E3FC;\n",
              "    }\n",
              "\n",
              "    [theme=dark] .colab-df-convert:hover {\n",
              "      background-color: #434B5C;\n",
              "      box-shadow: 0px 1px 3px 1px rgba(0, 0, 0, 0.15);\n",
              "      filter: drop-shadow(0px 1px 2px rgba(0, 0, 0, 0.3));\n",
              "      fill: #FFFFFF;\n",
              "    }\n",
              "  </style>\n",
              "\n",
              "    <script>\n",
              "      const buttonEl =\n",
              "        document.querySelector('#df-f3158c24-ee41-43a2-a763-851116ef9cba button.colab-df-convert');\n",
              "      buttonEl.style.display =\n",
              "        google.colab.kernel.accessAllowed ? 'block' : 'none';\n",
              "\n",
              "      async function convertToInteractive(key) {\n",
              "        const element = document.querySelector('#df-f3158c24-ee41-43a2-a763-851116ef9cba');\n",
              "        const dataTable =\n",
              "          await google.colab.kernel.invokeFunction('convertToInteractive',\n",
              "                                                    [key], {});\n",
              "        if (!dataTable) return;\n",
              "\n",
              "        const docLinkHtml = 'Like what you see? Visit the ' +\n",
              "          '<a target=\"_blank\" href=https://colab.research.google.com/notebooks/data_table.ipynb>data table notebook</a>'\n",
              "          + ' to learn more about interactive tables.';\n",
              "        element.innerHTML = '';\n",
              "        dataTable['output_type'] = 'display_data';\n",
              "        await google.colab.output.renderOutput(dataTable, element);\n",
              "        const docLink = document.createElement('div');\n",
              "        docLink.innerHTML = docLinkHtml;\n",
              "        element.appendChild(docLink);\n",
              "      }\n",
              "    </script>\n",
              "  </div>\n",
              "\n",
              "\n",
              "<div id=\"df-4577da59-6929-40a7-81b5-0b051f596249\">\n",
              "  <button class=\"colab-df-quickchart\" onclick=\"quickchart('df-4577da59-6929-40a7-81b5-0b051f596249')\"\n",
              "            title=\"Suggest charts\"\n",
              "            style=\"display:none;\">\n",
              "\n",
              "<svg xmlns=\"http://www.w3.org/2000/svg\" height=\"24px\"viewBox=\"0 0 24 24\"\n",
              "     width=\"24px\">\n",
              "    <g>\n",
              "        <path d=\"M19 3H5c-1.1 0-2 .9-2 2v14c0 1.1.9 2 2 2h14c1.1 0 2-.9 2-2V5c0-1.1-.9-2-2-2zM9 17H7v-7h2v7zm4 0h-2V7h2v10zm4 0h-2v-4h2v4z\"/>\n",
              "    </g>\n",
              "</svg>\n",
              "  </button>\n",
              "\n",
              "<style>\n",
              "  .colab-df-quickchart {\n",
              "      --bg-color: #E8F0FE;\n",
              "      --fill-color: #1967D2;\n",
              "      --hover-bg-color: #E2EBFA;\n",
              "      --hover-fill-color: #174EA6;\n",
              "      --disabled-fill-color: #AAA;\n",
              "      --disabled-bg-color: #DDD;\n",
              "  }\n",
              "\n",
              "  [theme=dark] .colab-df-quickchart {\n",
              "      --bg-color: #3B4455;\n",
              "      --fill-color: #D2E3FC;\n",
              "      --hover-bg-color: #434B5C;\n",
              "      --hover-fill-color: #FFFFFF;\n",
              "      --disabled-bg-color: #3B4455;\n",
              "      --disabled-fill-color: #666;\n",
              "  }\n",
              "\n",
              "  .colab-df-quickchart {\n",
              "    background-color: var(--bg-color);\n",
              "    border: none;\n",
              "    border-radius: 50%;\n",
              "    cursor: pointer;\n",
              "    display: none;\n",
              "    fill: var(--fill-color);\n",
              "    height: 32px;\n",
              "    padding: 0;\n",
              "    width: 32px;\n",
              "  }\n",
              "\n",
              "  .colab-df-quickchart:hover {\n",
              "    background-color: var(--hover-bg-color);\n",
              "    box-shadow: 0 1px 2px rgba(60, 64, 67, 0.3), 0 1px 3px 1px rgba(60, 64, 67, 0.15);\n",
              "    fill: var(--button-hover-fill-color);\n",
              "  }\n",
              "\n",
              "  .colab-df-quickchart-complete:disabled,\n",
              "  .colab-df-quickchart-complete:disabled:hover {\n",
              "    background-color: var(--disabled-bg-color);\n",
              "    fill: var(--disabled-fill-color);\n",
              "    box-shadow: none;\n",
              "  }\n",
              "\n",
              "  .colab-df-spinner {\n",
              "    border: 2px solid var(--fill-color);\n",
              "    border-color: transparent;\n",
              "    border-bottom-color: var(--fill-color);\n",
              "    animation:\n",
              "      spin 1s steps(1) infinite;\n",
              "  }\n",
              "\n",
              "  @keyframes spin {\n",
              "    0% {\n",
              "      border-color: transparent;\n",
              "      border-bottom-color: var(--fill-color);\n",
              "      border-left-color: var(--fill-color);\n",
              "    }\n",
              "    20% {\n",
              "      border-color: transparent;\n",
              "      border-left-color: var(--fill-color);\n",
              "      border-top-color: var(--fill-color);\n",
              "    }\n",
              "    30% {\n",
              "      border-color: transparent;\n",
              "      border-left-color: var(--fill-color);\n",
              "      border-top-color: var(--fill-color);\n",
              "      border-right-color: var(--fill-color);\n",
              "    }\n",
              "    40% {\n",
              "      border-color: transparent;\n",
              "      border-right-color: var(--fill-color);\n",
              "      border-top-color: var(--fill-color);\n",
              "    }\n",
              "    60% {\n",
              "      border-color: transparent;\n",
              "      border-right-color: var(--fill-color);\n",
              "    }\n",
              "    80% {\n",
              "      border-color: transparent;\n",
              "      border-right-color: var(--fill-color);\n",
              "      border-bottom-color: var(--fill-color);\n",
              "    }\n",
              "    90% {\n",
              "      border-color: transparent;\n",
              "      border-bottom-color: var(--fill-color);\n",
              "    }\n",
              "  }\n",
              "</style>\n",
              "\n",
              "  <script>\n",
              "    async function quickchart(key) {\n",
              "      const quickchartButtonEl =\n",
              "        document.querySelector('#' + key + ' button');\n",
              "      quickchartButtonEl.disabled = true;  // To prevent multiple clicks.\n",
              "      quickchartButtonEl.classList.add('colab-df-spinner');\n",
              "      try {\n",
              "        const charts = await google.colab.kernel.invokeFunction(\n",
              "            'suggestCharts', [key], {});\n",
              "      } catch (error) {\n",
              "        console.error('Error during call to suggestCharts:', error);\n",
              "      }\n",
              "      quickchartButtonEl.classList.remove('colab-df-spinner');\n",
              "      quickchartButtonEl.classList.add('colab-df-quickchart-complete');\n",
              "    }\n",
              "    (() => {\n",
              "      let quickchartButtonEl =\n",
              "        document.querySelector('#df-4577da59-6929-40a7-81b5-0b051f596249 button');\n",
              "      quickchartButtonEl.style.display =\n",
              "        google.colab.kernel.accessAllowed ? 'block' : 'none';\n",
              "    })();\n",
              "  </script>\n",
              "</div>\n",
              "\n",
              "    </div>\n",
              "  </div>\n"
            ],
            "application/vnd.google.colaboratory.intrinsic+json": {
              "type": "dataframe",
              "variable_name": "data"
            }
          },
          "metadata": {},
          "execution_count": 24
        }
      ],
      "source": [
        "data = dataini\n",
        "\n",
        "data = data.drop(['X','Y','OBJECTID','FORMULARIO','CODIGO_ACCIDENTE','FECHA_OCURRENCIA_ACC','ANO_OCURRENCIA_ACC','DIRECCION','CIV','PK_CALZADA', ], axis=1)\n",
        "data.head()"
      ]
    },
    {
      "cell_type": "code",
      "execution_count": 25,
      "id": "284ab565",
      "metadata": {
        "id": "284ab565"
      },
      "outputs": [],
      "source": [
        "# df['year'], df['month'] = df['date'].dt.year, df['date'].dt.month\n",
        "# data['AÑO'] = data['FECHA_OCURRENCIA_ACC'].\n",
        "data['AÑO'] = pd.DatetimeIndex(data['FECHA_HORA_ACC']).year"
      ]
    },
    {
      "cell_type": "code",
      "execution_count": 26,
      "id": "1333d4ee",
      "metadata": {
        "id": "1333d4ee"
      },
      "outputs": [],
      "source": [
        "data['MES'] = pd.DatetimeIndex(data['FECHA_HORA_ACC']).month"
      ]
    },
    {
      "cell_type": "code",
      "execution_count": 27,
      "id": "5407a902",
      "metadata": {
        "id": "5407a902"
      },
      "outputs": [],
      "source": [
        "data['DIA'] = pd.DatetimeIndex(data['FECHA_HORA_ACC']).day"
      ]
    },
    {
      "cell_type": "code",
      "execution_count": 28,
      "id": "0f7fe9bc",
      "metadata": {
        "id": "0f7fe9bc"
      },
      "outputs": [],
      "source": [
        "# data['HORA'] = pd.DatetimeIndex(data['FECHA_HORA_ACC']).time #HH:MM:SS\n",
        "data['HORA'] = pd.DatetimeIndex(data['FECHA_HORA_ACC']).hour #HH"
      ]
    },
    {
      "cell_type": "code",
      "execution_count": 29,
      "id": "f7495f0f",
      "metadata": {
        "id": "f7495f0f",
        "outputId": "651b69eb-f6b8-4420-8556-e51d553a5b15",
        "colab": {
          "base_uri": "https://localhost:8080/",
          "height": 206
        }
      },
      "outputs": [
        {
          "output_type": "execute_result",
          "data": {
            "text/plain": [
              "      GRAVEDAD CLASE_ACC       LOCALIDAD          FECHA_HORA_ACC   LATITUD  \\\n",
              "0   SOLO DANOS    CHOQUE        ENGATIVA  2017/06/12 05:30:00+00  4.693807   \n",
              "1  CON HERIDOS      OTRO   PUENTE ARANDA  2020/11/19 02:05:00+00  4.603000   \n",
              "2   SOLO DANOS    CHOQUE         USAQUEN  2020/11/10 13:30:00+00  4.682000   \n",
              "3   SOLO DANOS    CHOQUE  CIUDAD BOLIVAR  2015/05/11 10:50:00+00  4.587187   \n",
              "4   SOLO DANOS    CHOQUE    LOS MARTIRES  2016/06/08 21:30:00+00  4.607648   \n",
              "\n",
              "    LONGITUD   AÑO  MES  DIA  HORA  \n",
              "0 -74.090924  2017    6   12     5  \n",
              "1 -74.121000  2020   11   19     2  \n",
              "2 -74.042000  2020   11   10    13  \n",
              "3 -74.166937  2015    5   11    10  \n",
              "4 -74.092901  2016    6    8    21  "
            ],
            "text/html": [
              "\n",
              "  <div id=\"df-efcb4dbf-739e-4efa-b78d-726740211fce\" class=\"colab-df-container\">\n",
              "    <div>\n",
              "<style scoped>\n",
              "    .dataframe tbody tr th:only-of-type {\n",
              "        vertical-align: middle;\n",
              "    }\n",
              "\n",
              "    .dataframe tbody tr th {\n",
              "        vertical-align: top;\n",
              "    }\n",
              "\n",
              "    .dataframe thead th {\n",
              "        text-align: right;\n",
              "    }\n",
              "</style>\n",
              "<table border=\"1\" class=\"dataframe\">\n",
              "  <thead>\n",
              "    <tr style=\"text-align: right;\">\n",
              "      <th></th>\n",
              "      <th>GRAVEDAD</th>\n",
              "      <th>CLASE_ACC</th>\n",
              "      <th>LOCALIDAD</th>\n",
              "      <th>FECHA_HORA_ACC</th>\n",
              "      <th>LATITUD</th>\n",
              "      <th>LONGITUD</th>\n",
              "      <th>AÑO</th>\n",
              "      <th>MES</th>\n",
              "      <th>DIA</th>\n",
              "      <th>HORA</th>\n",
              "    </tr>\n",
              "  </thead>\n",
              "  <tbody>\n",
              "    <tr>\n",
              "      <th>0</th>\n",
              "      <td>SOLO DANOS</td>\n",
              "      <td>CHOQUE</td>\n",
              "      <td>ENGATIVA</td>\n",
              "      <td>2017/06/12 05:30:00+00</td>\n",
              "      <td>4.693807</td>\n",
              "      <td>-74.090924</td>\n",
              "      <td>2017</td>\n",
              "      <td>6</td>\n",
              "      <td>12</td>\n",
              "      <td>5</td>\n",
              "    </tr>\n",
              "    <tr>\n",
              "      <th>1</th>\n",
              "      <td>CON HERIDOS</td>\n",
              "      <td>OTRO</td>\n",
              "      <td>PUENTE ARANDA</td>\n",
              "      <td>2020/11/19 02:05:00+00</td>\n",
              "      <td>4.603000</td>\n",
              "      <td>-74.121000</td>\n",
              "      <td>2020</td>\n",
              "      <td>11</td>\n",
              "      <td>19</td>\n",
              "      <td>2</td>\n",
              "    </tr>\n",
              "    <tr>\n",
              "      <th>2</th>\n",
              "      <td>SOLO DANOS</td>\n",
              "      <td>CHOQUE</td>\n",
              "      <td>USAQUEN</td>\n",
              "      <td>2020/11/10 13:30:00+00</td>\n",
              "      <td>4.682000</td>\n",
              "      <td>-74.042000</td>\n",
              "      <td>2020</td>\n",
              "      <td>11</td>\n",
              "      <td>10</td>\n",
              "      <td>13</td>\n",
              "    </tr>\n",
              "    <tr>\n",
              "      <th>3</th>\n",
              "      <td>SOLO DANOS</td>\n",
              "      <td>CHOQUE</td>\n",
              "      <td>CIUDAD BOLIVAR</td>\n",
              "      <td>2015/05/11 10:50:00+00</td>\n",
              "      <td>4.587187</td>\n",
              "      <td>-74.166937</td>\n",
              "      <td>2015</td>\n",
              "      <td>5</td>\n",
              "      <td>11</td>\n",
              "      <td>10</td>\n",
              "    </tr>\n",
              "    <tr>\n",
              "      <th>4</th>\n",
              "      <td>SOLO DANOS</td>\n",
              "      <td>CHOQUE</td>\n",
              "      <td>LOS MARTIRES</td>\n",
              "      <td>2016/06/08 21:30:00+00</td>\n",
              "      <td>4.607648</td>\n",
              "      <td>-74.092901</td>\n",
              "      <td>2016</td>\n",
              "      <td>6</td>\n",
              "      <td>8</td>\n",
              "      <td>21</td>\n",
              "    </tr>\n",
              "  </tbody>\n",
              "</table>\n",
              "</div>\n",
              "    <div class=\"colab-df-buttons\">\n",
              "\n",
              "  <div class=\"colab-df-container\">\n",
              "    <button class=\"colab-df-convert\" onclick=\"convertToInteractive('df-efcb4dbf-739e-4efa-b78d-726740211fce')\"\n",
              "            title=\"Convert this dataframe to an interactive table.\"\n",
              "            style=\"display:none;\">\n",
              "\n",
              "  <svg xmlns=\"http://www.w3.org/2000/svg\" height=\"24px\" viewBox=\"0 -960 960 960\">\n",
              "    <path d=\"M120-120v-720h720v720H120Zm60-500h600v-160H180v160Zm220 220h160v-160H400v160Zm0 220h160v-160H400v160ZM180-400h160v-160H180v160Zm440 0h160v-160H620v160ZM180-180h160v-160H180v160Zm440 0h160v-160H620v160Z\"/>\n",
              "  </svg>\n",
              "    </button>\n",
              "\n",
              "  <style>\n",
              "    .colab-df-container {\n",
              "      display:flex;\n",
              "      gap: 12px;\n",
              "    }\n",
              "\n",
              "    .colab-df-convert {\n",
              "      background-color: #E8F0FE;\n",
              "      border: none;\n",
              "      border-radius: 50%;\n",
              "      cursor: pointer;\n",
              "      display: none;\n",
              "      fill: #1967D2;\n",
              "      height: 32px;\n",
              "      padding: 0 0 0 0;\n",
              "      width: 32px;\n",
              "    }\n",
              "\n",
              "    .colab-df-convert:hover {\n",
              "      background-color: #E2EBFA;\n",
              "      box-shadow: 0px 1px 2px rgba(60, 64, 67, 0.3), 0px 1px 3px 1px rgba(60, 64, 67, 0.15);\n",
              "      fill: #174EA6;\n",
              "    }\n",
              "\n",
              "    .colab-df-buttons div {\n",
              "      margin-bottom: 4px;\n",
              "    }\n",
              "\n",
              "    [theme=dark] .colab-df-convert {\n",
              "      background-color: #3B4455;\n",
              "      fill: #D2E3FC;\n",
              "    }\n",
              "\n",
              "    [theme=dark] .colab-df-convert:hover {\n",
              "      background-color: #434B5C;\n",
              "      box-shadow: 0px 1px 3px 1px rgba(0, 0, 0, 0.15);\n",
              "      filter: drop-shadow(0px 1px 2px rgba(0, 0, 0, 0.3));\n",
              "      fill: #FFFFFF;\n",
              "    }\n",
              "  </style>\n",
              "\n",
              "    <script>\n",
              "      const buttonEl =\n",
              "        document.querySelector('#df-efcb4dbf-739e-4efa-b78d-726740211fce button.colab-df-convert');\n",
              "      buttonEl.style.display =\n",
              "        google.colab.kernel.accessAllowed ? 'block' : 'none';\n",
              "\n",
              "      async function convertToInteractive(key) {\n",
              "        const element = document.querySelector('#df-efcb4dbf-739e-4efa-b78d-726740211fce');\n",
              "        const dataTable =\n",
              "          await google.colab.kernel.invokeFunction('convertToInteractive',\n",
              "                                                    [key], {});\n",
              "        if (!dataTable) return;\n",
              "\n",
              "        const docLinkHtml = 'Like what you see? Visit the ' +\n",
              "          '<a target=\"_blank\" href=https://colab.research.google.com/notebooks/data_table.ipynb>data table notebook</a>'\n",
              "          + ' to learn more about interactive tables.';\n",
              "        element.innerHTML = '';\n",
              "        dataTable['output_type'] = 'display_data';\n",
              "        await google.colab.output.renderOutput(dataTable, element);\n",
              "        const docLink = document.createElement('div');\n",
              "        docLink.innerHTML = docLinkHtml;\n",
              "        element.appendChild(docLink);\n",
              "      }\n",
              "    </script>\n",
              "  </div>\n",
              "\n",
              "\n",
              "<div id=\"df-e89e6c2b-f9d7-4f60-a80b-2277bd1e6b5c\">\n",
              "  <button class=\"colab-df-quickchart\" onclick=\"quickchart('df-e89e6c2b-f9d7-4f60-a80b-2277bd1e6b5c')\"\n",
              "            title=\"Suggest charts\"\n",
              "            style=\"display:none;\">\n",
              "\n",
              "<svg xmlns=\"http://www.w3.org/2000/svg\" height=\"24px\"viewBox=\"0 0 24 24\"\n",
              "     width=\"24px\">\n",
              "    <g>\n",
              "        <path d=\"M19 3H5c-1.1 0-2 .9-2 2v14c0 1.1.9 2 2 2h14c1.1 0 2-.9 2-2V5c0-1.1-.9-2-2-2zM9 17H7v-7h2v7zm4 0h-2V7h2v10zm4 0h-2v-4h2v4z\"/>\n",
              "    </g>\n",
              "</svg>\n",
              "  </button>\n",
              "\n",
              "<style>\n",
              "  .colab-df-quickchart {\n",
              "      --bg-color: #E8F0FE;\n",
              "      --fill-color: #1967D2;\n",
              "      --hover-bg-color: #E2EBFA;\n",
              "      --hover-fill-color: #174EA6;\n",
              "      --disabled-fill-color: #AAA;\n",
              "      --disabled-bg-color: #DDD;\n",
              "  }\n",
              "\n",
              "  [theme=dark] .colab-df-quickchart {\n",
              "      --bg-color: #3B4455;\n",
              "      --fill-color: #D2E3FC;\n",
              "      --hover-bg-color: #434B5C;\n",
              "      --hover-fill-color: #FFFFFF;\n",
              "      --disabled-bg-color: #3B4455;\n",
              "      --disabled-fill-color: #666;\n",
              "  }\n",
              "\n",
              "  .colab-df-quickchart {\n",
              "    background-color: var(--bg-color);\n",
              "    border: none;\n",
              "    border-radius: 50%;\n",
              "    cursor: pointer;\n",
              "    display: none;\n",
              "    fill: var(--fill-color);\n",
              "    height: 32px;\n",
              "    padding: 0;\n",
              "    width: 32px;\n",
              "  }\n",
              "\n",
              "  .colab-df-quickchart:hover {\n",
              "    background-color: var(--hover-bg-color);\n",
              "    box-shadow: 0 1px 2px rgba(60, 64, 67, 0.3), 0 1px 3px 1px rgba(60, 64, 67, 0.15);\n",
              "    fill: var(--button-hover-fill-color);\n",
              "  }\n",
              "\n",
              "  .colab-df-quickchart-complete:disabled,\n",
              "  .colab-df-quickchart-complete:disabled:hover {\n",
              "    background-color: var(--disabled-bg-color);\n",
              "    fill: var(--disabled-fill-color);\n",
              "    box-shadow: none;\n",
              "  }\n",
              "\n",
              "  .colab-df-spinner {\n",
              "    border: 2px solid var(--fill-color);\n",
              "    border-color: transparent;\n",
              "    border-bottom-color: var(--fill-color);\n",
              "    animation:\n",
              "      spin 1s steps(1) infinite;\n",
              "  }\n",
              "\n",
              "  @keyframes spin {\n",
              "    0% {\n",
              "      border-color: transparent;\n",
              "      border-bottom-color: var(--fill-color);\n",
              "      border-left-color: var(--fill-color);\n",
              "    }\n",
              "    20% {\n",
              "      border-color: transparent;\n",
              "      border-left-color: var(--fill-color);\n",
              "      border-top-color: var(--fill-color);\n",
              "    }\n",
              "    30% {\n",
              "      border-color: transparent;\n",
              "      border-left-color: var(--fill-color);\n",
              "      border-top-color: var(--fill-color);\n",
              "      border-right-color: var(--fill-color);\n",
              "    }\n",
              "    40% {\n",
              "      border-color: transparent;\n",
              "      border-right-color: var(--fill-color);\n",
              "      border-top-color: var(--fill-color);\n",
              "    }\n",
              "    60% {\n",
              "      border-color: transparent;\n",
              "      border-right-color: var(--fill-color);\n",
              "    }\n",
              "    80% {\n",
              "      border-color: transparent;\n",
              "      border-right-color: var(--fill-color);\n",
              "      border-bottom-color: var(--fill-color);\n",
              "    }\n",
              "    90% {\n",
              "      border-color: transparent;\n",
              "      border-bottom-color: var(--fill-color);\n",
              "    }\n",
              "  }\n",
              "</style>\n",
              "\n",
              "  <script>\n",
              "    async function quickchart(key) {\n",
              "      const quickchartButtonEl =\n",
              "        document.querySelector('#' + key + ' button');\n",
              "      quickchartButtonEl.disabled = true;  // To prevent multiple clicks.\n",
              "      quickchartButtonEl.classList.add('colab-df-spinner');\n",
              "      try {\n",
              "        const charts = await google.colab.kernel.invokeFunction(\n",
              "            'suggestCharts', [key], {});\n",
              "      } catch (error) {\n",
              "        console.error('Error during call to suggestCharts:', error);\n",
              "      }\n",
              "      quickchartButtonEl.classList.remove('colab-df-spinner');\n",
              "      quickchartButtonEl.classList.add('colab-df-quickchart-complete');\n",
              "    }\n",
              "    (() => {\n",
              "      let quickchartButtonEl =\n",
              "        document.querySelector('#df-e89e6c2b-f9d7-4f60-a80b-2277bd1e6b5c button');\n",
              "      quickchartButtonEl.style.display =\n",
              "        google.colab.kernel.accessAllowed ? 'block' : 'none';\n",
              "    })();\n",
              "  </script>\n",
              "</div>\n",
              "\n",
              "    </div>\n",
              "  </div>\n"
            ],
            "application/vnd.google.colaboratory.intrinsic+json": {
              "type": "dataframe",
              "variable_name": "data"
            }
          },
          "metadata": {},
          "execution_count": 29
        }
      ],
      "source": [
        "data.head()"
      ]
    },
    {
      "cell_type": "code",
      "execution_count": 30,
      "id": "bf1a0e7c",
      "metadata": {
        "id": "bf1a0e7c",
        "outputId": "3b07481c-ab67-47d5-f16a-a9db0e999625",
        "colab": {
          "base_uri": "https://localhost:8080/",
          "height": 206
        }
      },
      "outputs": [
        {
          "output_type": "execute_result",
          "data": {
            "text/plain": [
              "      GRAVEDAD CLASE_ACC       LOCALIDAD   LATITUD   LONGITUD   AÑO  MES  DIA  \\\n",
              "0   SOLO DANOS    CHOQUE        ENGATIVA  4.693807 -74.090924  2017    6   12   \n",
              "1  CON HERIDOS      OTRO   PUENTE ARANDA  4.603000 -74.121000  2020   11   19   \n",
              "2   SOLO DANOS    CHOQUE         USAQUEN  4.682000 -74.042000  2020   11   10   \n",
              "3   SOLO DANOS    CHOQUE  CIUDAD BOLIVAR  4.587187 -74.166937  2015    5   11   \n",
              "4   SOLO DANOS    CHOQUE    LOS MARTIRES  4.607648 -74.092901  2016    6    8   \n",
              "\n",
              "   HORA  \n",
              "0     5  \n",
              "1     2  \n",
              "2    13  \n",
              "3    10  \n",
              "4    21  "
            ],
            "text/html": [
              "\n",
              "  <div id=\"df-e32f0fb8-7209-43e4-a347-916d7dc53de2\" class=\"colab-df-container\">\n",
              "    <div>\n",
              "<style scoped>\n",
              "    .dataframe tbody tr th:only-of-type {\n",
              "        vertical-align: middle;\n",
              "    }\n",
              "\n",
              "    .dataframe tbody tr th {\n",
              "        vertical-align: top;\n",
              "    }\n",
              "\n",
              "    .dataframe thead th {\n",
              "        text-align: right;\n",
              "    }\n",
              "</style>\n",
              "<table border=\"1\" class=\"dataframe\">\n",
              "  <thead>\n",
              "    <tr style=\"text-align: right;\">\n",
              "      <th></th>\n",
              "      <th>GRAVEDAD</th>\n",
              "      <th>CLASE_ACC</th>\n",
              "      <th>LOCALIDAD</th>\n",
              "      <th>LATITUD</th>\n",
              "      <th>LONGITUD</th>\n",
              "      <th>AÑO</th>\n",
              "      <th>MES</th>\n",
              "      <th>DIA</th>\n",
              "      <th>HORA</th>\n",
              "    </tr>\n",
              "  </thead>\n",
              "  <tbody>\n",
              "    <tr>\n",
              "      <th>0</th>\n",
              "      <td>SOLO DANOS</td>\n",
              "      <td>CHOQUE</td>\n",
              "      <td>ENGATIVA</td>\n",
              "      <td>4.693807</td>\n",
              "      <td>-74.090924</td>\n",
              "      <td>2017</td>\n",
              "      <td>6</td>\n",
              "      <td>12</td>\n",
              "      <td>5</td>\n",
              "    </tr>\n",
              "    <tr>\n",
              "      <th>1</th>\n",
              "      <td>CON HERIDOS</td>\n",
              "      <td>OTRO</td>\n",
              "      <td>PUENTE ARANDA</td>\n",
              "      <td>4.603000</td>\n",
              "      <td>-74.121000</td>\n",
              "      <td>2020</td>\n",
              "      <td>11</td>\n",
              "      <td>19</td>\n",
              "      <td>2</td>\n",
              "    </tr>\n",
              "    <tr>\n",
              "      <th>2</th>\n",
              "      <td>SOLO DANOS</td>\n",
              "      <td>CHOQUE</td>\n",
              "      <td>USAQUEN</td>\n",
              "      <td>4.682000</td>\n",
              "      <td>-74.042000</td>\n",
              "      <td>2020</td>\n",
              "      <td>11</td>\n",
              "      <td>10</td>\n",
              "      <td>13</td>\n",
              "    </tr>\n",
              "    <tr>\n",
              "      <th>3</th>\n",
              "      <td>SOLO DANOS</td>\n",
              "      <td>CHOQUE</td>\n",
              "      <td>CIUDAD BOLIVAR</td>\n",
              "      <td>4.587187</td>\n",
              "      <td>-74.166937</td>\n",
              "      <td>2015</td>\n",
              "      <td>5</td>\n",
              "      <td>11</td>\n",
              "      <td>10</td>\n",
              "    </tr>\n",
              "    <tr>\n",
              "      <th>4</th>\n",
              "      <td>SOLO DANOS</td>\n",
              "      <td>CHOQUE</td>\n",
              "      <td>LOS MARTIRES</td>\n",
              "      <td>4.607648</td>\n",
              "      <td>-74.092901</td>\n",
              "      <td>2016</td>\n",
              "      <td>6</td>\n",
              "      <td>8</td>\n",
              "      <td>21</td>\n",
              "    </tr>\n",
              "  </tbody>\n",
              "</table>\n",
              "</div>\n",
              "    <div class=\"colab-df-buttons\">\n",
              "\n",
              "  <div class=\"colab-df-container\">\n",
              "    <button class=\"colab-df-convert\" onclick=\"convertToInteractive('df-e32f0fb8-7209-43e4-a347-916d7dc53de2')\"\n",
              "            title=\"Convert this dataframe to an interactive table.\"\n",
              "            style=\"display:none;\">\n",
              "\n",
              "  <svg xmlns=\"http://www.w3.org/2000/svg\" height=\"24px\" viewBox=\"0 -960 960 960\">\n",
              "    <path d=\"M120-120v-720h720v720H120Zm60-500h600v-160H180v160Zm220 220h160v-160H400v160Zm0 220h160v-160H400v160ZM180-400h160v-160H180v160Zm440 0h160v-160H620v160ZM180-180h160v-160H180v160Zm440 0h160v-160H620v160Z\"/>\n",
              "  </svg>\n",
              "    </button>\n",
              "\n",
              "  <style>\n",
              "    .colab-df-container {\n",
              "      display:flex;\n",
              "      gap: 12px;\n",
              "    }\n",
              "\n",
              "    .colab-df-convert {\n",
              "      background-color: #E8F0FE;\n",
              "      border: none;\n",
              "      border-radius: 50%;\n",
              "      cursor: pointer;\n",
              "      display: none;\n",
              "      fill: #1967D2;\n",
              "      height: 32px;\n",
              "      padding: 0 0 0 0;\n",
              "      width: 32px;\n",
              "    }\n",
              "\n",
              "    .colab-df-convert:hover {\n",
              "      background-color: #E2EBFA;\n",
              "      box-shadow: 0px 1px 2px rgba(60, 64, 67, 0.3), 0px 1px 3px 1px rgba(60, 64, 67, 0.15);\n",
              "      fill: #174EA6;\n",
              "    }\n",
              "\n",
              "    .colab-df-buttons div {\n",
              "      margin-bottom: 4px;\n",
              "    }\n",
              "\n",
              "    [theme=dark] .colab-df-convert {\n",
              "      background-color: #3B4455;\n",
              "      fill: #D2E3FC;\n",
              "    }\n",
              "\n",
              "    [theme=dark] .colab-df-convert:hover {\n",
              "      background-color: #434B5C;\n",
              "      box-shadow: 0px 1px 3px 1px rgba(0, 0, 0, 0.15);\n",
              "      filter: drop-shadow(0px 1px 2px rgba(0, 0, 0, 0.3));\n",
              "      fill: #FFFFFF;\n",
              "    }\n",
              "  </style>\n",
              "\n",
              "    <script>\n",
              "      const buttonEl =\n",
              "        document.querySelector('#df-e32f0fb8-7209-43e4-a347-916d7dc53de2 button.colab-df-convert');\n",
              "      buttonEl.style.display =\n",
              "        google.colab.kernel.accessAllowed ? 'block' : 'none';\n",
              "\n",
              "      async function convertToInteractive(key) {\n",
              "        const element = document.querySelector('#df-e32f0fb8-7209-43e4-a347-916d7dc53de2');\n",
              "        const dataTable =\n",
              "          await google.colab.kernel.invokeFunction('convertToInteractive',\n",
              "                                                    [key], {});\n",
              "        if (!dataTable) return;\n",
              "\n",
              "        const docLinkHtml = 'Like what you see? Visit the ' +\n",
              "          '<a target=\"_blank\" href=https://colab.research.google.com/notebooks/data_table.ipynb>data table notebook</a>'\n",
              "          + ' to learn more about interactive tables.';\n",
              "        element.innerHTML = '';\n",
              "        dataTable['output_type'] = 'display_data';\n",
              "        await google.colab.output.renderOutput(dataTable, element);\n",
              "        const docLink = document.createElement('div');\n",
              "        docLink.innerHTML = docLinkHtml;\n",
              "        element.appendChild(docLink);\n",
              "      }\n",
              "    </script>\n",
              "  </div>\n",
              "\n",
              "\n",
              "<div id=\"df-0ae07cfa-8558-4f9a-be3d-c3fafe8700c6\">\n",
              "  <button class=\"colab-df-quickchart\" onclick=\"quickchart('df-0ae07cfa-8558-4f9a-be3d-c3fafe8700c6')\"\n",
              "            title=\"Suggest charts\"\n",
              "            style=\"display:none;\">\n",
              "\n",
              "<svg xmlns=\"http://www.w3.org/2000/svg\" height=\"24px\"viewBox=\"0 0 24 24\"\n",
              "     width=\"24px\">\n",
              "    <g>\n",
              "        <path d=\"M19 3H5c-1.1 0-2 .9-2 2v14c0 1.1.9 2 2 2h14c1.1 0 2-.9 2-2V5c0-1.1-.9-2-2-2zM9 17H7v-7h2v7zm4 0h-2V7h2v10zm4 0h-2v-4h2v4z\"/>\n",
              "    </g>\n",
              "</svg>\n",
              "  </button>\n",
              "\n",
              "<style>\n",
              "  .colab-df-quickchart {\n",
              "      --bg-color: #E8F0FE;\n",
              "      --fill-color: #1967D2;\n",
              "      --hover-bg-color: #E2EBFA;\n",
              "      --hover-fill-color: #174EA6;\n",
              "      --disabled-fill-color: #AAA;\n",
              "      --disabled-bg-color: #DDD;\n",
              "  }\n",
              "\n",
              "  [theme=dark] .colab-df-quickchart {\n",
              "      --bg-color: #3B4455;\n",
              "      --fill-color: #D2E3FC;\n",
              "      --hover-bg-color: #434B5C;\n",
              "      --hover-fill-color: #FFFFFF;\n",
              "      --disabled-bg-color: #3B4455;\n",
              "      --disabled-fill-color: #666;\n",
              "  }\n",
              "\n",
              "  .colab-df-quickchart {\n",
              "    background-color: var(--bg-color);\n",
              "    border: none;\n",
              "    border-radius: 50%;\n",
              "    cursor: pointer;\n",
              "    display: none;\n",
              "    fill: var(--fill-color);\n",
              "    height: 32px;\n",
              "    padding: 0;\n",
              "    width: 32px;\n",
              "  }\n",
              "\n",
              "  .colab-df-quickchart:hover {\n",
              "    background-color: var(--hover-bg-color);\n",
              "    box-shadow: 0 1px 2px rgba(60, 64, 67, 0.3), 0 1px 3px 1px rgba(60, 64, 67, 0.15);\n",
              "    fill: var(--button-hover-fill-color);\n",
              "  }\n",
              "\n",
              "  .colab-df-quickchart-complete:disabled,\n",
              "  .colab-df-quickchart-complete:disabled:hover {\n",
              "    background-color: var(--disabled-bg-color);\n",
              "    fill: var(--disabled-fill-color);\n",
              "    box-shadow: none;\n",
              "  }\n",
              "\n",
              "  .colab-df-spinner {\n",
              "    border: 2px solid var(--fill-color);\n",
              "    border-color: transparent;\n",
              "    border-bottom-color: var(--fill-color);\n",
              "    animation:\n",
              "      spin 1s steps(1) infinite;\n",
              "  }\n",
              "\n",
              "  @keyframes spin {\n",
              "    0% {\n",
              "      border-color: transparent;\n",
              "      border-bottom-color: var(--fill-color);\n",
              "      border-left-color: var(--fill-color);\n",
              "    }\n",
              "    20% {\n",
              "      border-color: transparent;\n",
              "      border-left-color: var(--fill-color);\n",
              "      border-top-color: var(--fill-color);\n",
              "    }\n",
              "    30% {\n",
              "      border-color: transparent;\n",
              "      border-left-color: var(--fill-color);\n",
              "      border-top-color: var(--fill-color);\n",
              "      border-right-color: var(--fill-color);\n",
              "    }\n",
              "    40% {\n",
              "      border-color: transparent;\n",
              "      border-right-color: var(--fill-color);\n",
              "      border-top-color: var(--fill-color);\n",
              "    }\n",
              "    60% {\n",
              "      border-color: transparent;\n",
              "      border-right-color: var(--fill-color);\n",
              "    }\n",
              "    80% {\n",
              "      border-color: transparent;\n",
              "      border-right-color: var(--fill-color);\n",
              "      border-bottom-color: var(--fill-color);\n",
              "    }\n",
              "    90% {\n",
              "      border-color: transparent;\n",
              "      border-bottom-color: var(--fill-color);\n",
              "    }\n",
              "  }\n",
              "</style>\n",
              "\n",
              "  <script>\n",
              "    async function quickchart(key) {\n",
              "      const quickchartButtonEl =\n",
              "        document.querySelector('#' + key + ' button');\n",
              "      quickchartButtonEl.disabled = true;  // To prevent multiple clicks.\n",
              "      quickchartButtonEl.classList.add('colab-df-spinner');\n",
              "      try {\n",
              "        const charts = await google.colab.kernel.invokeFunction(\n",
              "            'suggestCharts', [key], {});\n",
              "      } catch (error) {\n",
              "        console.error('Error during call to suggestCharts:', error);\n",
              "      }\n",
              "      quickchartButtonEl.classList.remove('colab-df-spinner');\n",
              "      quickchartButtonEl.classList.add('colab-df-quickchart-complete');\n",
              "    }\n",
              "    (() => {\n",
              "      let quickchartButtonEl =\n",
              "        document.querySelector('#df-0ae07cfa-8558-4f9a-be3d-c3fafe8700c6 button');\n",
              "      quickchartButtonEl.style.display =\n",
              "        google.colab.kernel.accessAllowed ? 'block' : 'none';\n",
              "    })();\n",
              "  </script>\n",
              "</div>\n",
              "\n",
              "    </div>\n",
              "  </div>\n"
            ],
            "application/vnd.google.colaboratory.intrinsic+json": {
              "type": "dataframe",
              "variable_name": "data"
            }
          },
          "metadata": {},
          "execution_count": 30
        }
      ],
      "source": [
        "data = data.drop('FECHA_HORA_ACC',axis=1)\n",
        "data.head()"
      ]
    },
    {
      "cell_type": "code",
      "execution_count": 31,
      "id": "c6e515e3",
      "metadata": {
        "id": "c6e515e3",
        "outputId": "50e99b02-9177-4da4-b58e-4c9801e01da3",
        "colab": {
          "base_uri": "https://localhost:8080/"
        }
      },
      "outputs": [
        {
          "output_type": "execute_result",
          "data": {
            "text/plain": [
              "(199146, 9)"
            ]
          },
          "metadata": {},
          "execution_count": 31
        }
      ],
      "source": [
        "data.shape"
      ]
    },
    {
      "cell_type": "code",
      "execution_count": 32,
      "id": "364abe43",
      "metadata": {
        "id": "364abe43",
        "outputId": "a0c6ecfe-bbc6-4b2c-c1e1-17b18b35e615",
        "colab": {
          "base_uri": "https://localhost:8080/",
          "height": 360
        }
      },
      "outputs": [
        {
          "output_type": "execute_result",
          "data": {
            "text/plain": [
              "      GRAVEDAD   LATITUD   LONGITUD   AÑO  MES  DIA  HORA  \\\n",
              "0   SOLO DANOS  4.693807 -74.090924  2017    6   12     5   \n",
              "1  CON HERIDOS  4.603000 -74.121000  2020   11   19     2   \n",
              "2   SOLO DANOS  4.682000 -74.042000  2020   11   10    13   \n",
              "3   SOLO DANOS  4.587187 -74.166937  2015    5   11    10   \n",
              "4   SOLO DANOS  4.607648 -74.092901  2016    6    8    21   \n",
              "\n",
              "   CLASE_ACC_ATROPELLO  CLASE_ACC_AUTOLESION  CLASE_ACC_CAIDA DE OCUPANTE  \\\n",
              "0                False                 False                        False   \n",
              "1                False                 False                        False   \n",
              "2                False                 False                        False   \n",
              "3                False                 False                        False   \n",
              "4                False                 False                        False   \n",
              "\n",
              "   ...  LOCALIDAD_PUENTE ARANDA  LOCALIDAD_RAFAEL URIBE URIBE  \\\n",
              "0  ...                    False                         False   \n",
              "1  ...                     True                         False   \n",
              "2  ...                    False                         False   \n",
              "3  ...                    False                         False   \n",
              "4  ...                    False                         False   \n",
              "\n",
              "   LOCALIDAD_SAN CRISTOBAL  LOCALIDAD_SANTA FE  LOCALIDAD_SUBA  \\\n",
              "0                    False               False           False   \n",
              "1                    False               False           False   \n",
              "2                    False               False           False   \n",
              "3                    False               False           False   \n",
              "4                    False               False           False   \n",
              "\n",
              "   LOCALIDAD_SUMAPAZ  LOCALIDAD_TEUSAQUILLO  LOCALIDAD_TUNJUELITO  \\\n",
              "0              False                  False                 False   \n",
              "1              False                  False                 False   \n",
              "2              False                  False                 False   \n",
              "3              False                  False                 False   \n",
              "4              False                  False                 False   \n",
              "\n",
              "   LOCALIDAD_USAQUEN  LOCALIDAD_USME  \n",
              "0              False           False  \n",
              "1              False           False  \n",
              "2               True           False  \n",
              "3              False           False  \n",
              "4              False           False  \n",
              "\n",
              "[5 rows x 34 columns]"
            ],
            "text/html": [
              "\n",
              "  <div id=\"df-20890011-7c51-4230-b385-1f47a58cf348\" class=\"colab-df-container\">\n",
              "    <div>\n",
              "<style scoped>\n",
              "    .dataframe tbody tr th:only-of-type {\n",
              "        vertical-align: middle;\n",
              "    }\n",
              "\n",
              "    .dataframe tbody tr th {\n",
              "        vertical-align: top;\n",
              "    }\n",
              "\n",
              "    .dataframe thead th {\n",
              "        text-align: right;\n",
              "    }\n",
              "</style>\n",
              "<table border=\"1\" class=\"dataframe\">\n",
              "  <thead>\n",
              "    <tr style=\"text-align: right;\">\n",
              "      <th></th>\n",
              "      <th>GRAVEDAD</th>\n",
              "      <th>LATITUD</th>\n",
              "      <th>LONGITUD</th>\n",
              "      <th>AÑO</th>\n",
              "      <th>MES</th>\n",
              "      <th>DIA</th>\n",
              "      <th>HORA</th>\n",
              "      <th>CLASE_ACC_ATROPELLO</th>\n",
              "      <th>CLASE_ACC_AUTOLESION</th>\n",
              "      <th>CLASE_ACC_CAIDA DE OCUPANTE</th>\n",
              "      <th>...</th>\n",
              "      <th>LOCALIDAD_PUENTE ARANDA</th>\n",
              "      <th>LOCALIDAD_RAFAEL URIBE URIBE</th>\n",
              "      <th>LOCALIDAD_SAN CRISTOBAL</th>\n",
              "      <th>LOCALIDAD_SANTA FE</th>\n",
              "      <th>LOCALIDAD_SUBA</th>\n",
              "      <th>LOCALIDAD_SUMAPAZ</th>\n",
              "      <th>LOCALIDAD_TEUSAQUILLO</th>\n",
              "      <th>LOCALIDAD_TUNJUELITO</th>\n",
              "      <th>LOCALIDAD_USAQUEN</th>\n",
              "      <th>LOCALIDAD_USME</th>\n",
              "    </tr>\n",
              "  </thead>\n",
              "  <tbody>\n",
              "    <tr>\n",
              "      <th>0</th>\n",
              "      <td>SOLO DANOS</td>\n",
              "      <td>4.693807</td>\n",
              "      <td>-74.090924</td>\n",
              "      <td>2017</td>\n",
              "      <td>6</td>\n",
              "      <td>12</td>\n",
              "      <td>5</td>\n",
              "      <td>False</td>\n",
              "      <td>False</td>\n",
              "      <td>False</td>\n",
              "      <td>...</td>\n",
              "      <td>False</td>\n",
              "      <td>False</td>\n",
              "      <td>False</td>\n",
              "      <td>False</td>\n",
              "      <td>False</td>\n",
              "      <td>False</td>\n",
              "      <td>False</td>\n",
              "      <td>False</td>\n",
              "      <td>False</td>\n",
              "      <td>False</td>\n",
              "    </tr>\n",
              "    <tr>\n",
              "      <th>1</th>\n",
              "      <td>CON HERIDOS</td>\n",
              "      <td>4.603000</td>\n",
              "      <td>-74.121000</td>\n",
              "      <td>2020</td>\n",
              "      <td>11</td>\n",
              "      <td>19</td>\n",
              "      <td>2</td>\n",
              "      <td>False</td>\n",
              "      <td>False</td>\n",
              "      <td>False</td>\n",
              "      <td>...</td>\n",
              "      <td>True</td>\n",
              "      <td>False</td>\n",
              "      <td>False</td>\n",
              "      <td>False</td>\n",
              "      <td>False</td>\n",
              "      <td>False</td>\n",
              "      <td>False</td>\n",
              "      <td>False</td>\n",
              "      <td>False</td>\n",
              "      <td>False</td>\n",
              "    </tr>\n",
              "    <tr>\n",
              "      <th>2</th>\n",
              "      <td>SOLO DANOS</td>\n",
              "      <td>4.682000</td>\n",
              "      <td>-74.042000</td>\n",
              "      <td>2020</td>\n",
              "      <td>11</td>\n",
              "      <td>10</td>\n",
              "      <td>13</td>\n",
              "      <td>False</td>\n",
              "      <td>False</td>\n",
              "      <td>False</td>\n",
              "      <td>...</td>\n",
              "      <td>False</td>\n",
              "      <td>False</td>\n",
              "      <td>False</td>\n",
              "      <td>False</td>\n",
              "      <td>False</td>\n",
              "      <td>False</td>\n",
              "      <td>False</td>\n",
              "      <td>False</td>\n",
              "      <td>True</td>\n",
              "      <td>False</td>\n",
              "    </tr>\n",
              "    <tr>\n",
              "      <th>3</th>\n",
              "      <td>SOLO DANOS</td>\n",
              "      <td>4.587187</td>\n",
              "      <td>-74.166937</td>\n",
              "      <td>2015</td>\n",
              "      <td>5</td>\n",
              "      <td>11</td>\n",
              "      <td>10</td>\n",
              "      <td>False</td>\n",
              "      <td>False</td>\n",
              "      <td>False</td>\n",
              "      <td>...</td>\n",
              "      <td>False</td>\n",
              "      <td>False</td>\n",
              "      <td>False</td>\n",
              "      <td>False</td>\n",
              "      <td>False</td>\n",
              "      <td>False</td>\n",
              "      <td>False</td>\n",
              "      <td>False</td>\n",
              "      <td>False</td>\n",
              "      <td>False</td>\n",
              "    </tr>\n",
              "    <tr>\n",
              "      <th>4</th>\n",
              "      <td>SOLO DANOS</td>\n",
              "      <td>4.607648</td>\n",
              "      <td>-74.092901</td>\n",
              "      <td>2016</td>\n",
              "      <td>6</td>\n",
              "      <td>8</td>\n",
              "      <td>21</td>\n",
              "      <td>False</td>\n",
              "      <td>False</td>\n",
              "      <td>False</td>\n",
              "      <td>...</td>\n",
              "      <td>False</td>\n",
              "      <td>False</td>\n",
              "      <td>False</td>\n",
              "      <td>False</td>\n",
              "      <td>False</td>\n",
              "      <td>False</td>\n",
              "      <td>False</td>\n",
              "      <td>False</td>\n",
              "      <td>False</td>\n",
              "      <td>False</td>\n",
              "    </tr>\n",
              "  </tbody>\n",
              "</table>\n",
              "<p>5 rows × 34 columns</p>\n",
              "</div>\n",
              "    <div class=\"colab-df-buttons\">\n",
              "\n",
              "  <div class=\"colab-df-container\">\n",
              "    <button class=\"colab-df-convert\" onclick=\"convertToInteractive('df-20890011-7c51-4230-b385-1f47a58cf348')\"\n",
              "            title=\"Convert this dataframe to an interactive table.\"\n",
              "            style=\"display:none;\">\n",
              "\n",
              "  <svg xmlns=\"http://www.w3.org/2000/svg\" height=\"24px\" viewBox=\"0 -960 960 960\">\n",
              "    <path d=\"M120-120v-720h720v720H120Zm60-500h600v-160H180v160Zm220 220h160v-160H400v160Zm0 220h160v-160H400v160ZM180-400h160v-160H180v160Zm440 0h160v-160H620v160ZM180-180h160v-160H180v160Zm440 0h160v-160H620v160Z\"/>\n",
              "  </svg>\n",
              "    </button>\n",
              "\n",
              "  <style>\n",
              "    .colab-df-container {\n",
              "      display:flex;\n",
              "      gap: 12px;\n",
              "    }\n",
              "\n",
              "    .colab-df-convert {\n",
              "      background-color: #E8F0FE;\n",
              "      border: none;\n",
              "      border-radius: 50%;\n",
              "      cursor: pointer;\n",
              "      display: none;\n",
              "      fill: #1967D2;\n",
              "      height: 32px;\n",
              "      padding: 0 0 0 0;\n",
              "      width: 32px;\n",
              "    }\n",
              "\n",
              "    .colab-df-convert:hover {\n",
              "      background-color: #E2EBFA;\n",
              "      box-shadow: 0px 1px 2px rgba(60, 64, 67, 0.3), 0px 1px 3px 1px rgba(60, 64, 67, 0.15);\n",
              "      fill: #174EA6;\n",
              "    }\n",
              "\n",
              "    .colab-df-buttons div {\n",
              "      margin-bottom: 4px;\n",
              "    }\n",
              "\n",
              "    [theme=dark] .colab-df-convert {\n",
              "      background-color: #3B4455;\n",
              "      fill: #D2E3FC;\n",
              "    }\n",
              "\n",
              "    [theme=dark] .colab-df-convert:hover {\n",
              "      background-color: #434B5C;\n",
              "      box-shadow: 0px 1px 3px 1px rgba(0, 0, 0, 0.15);\n",
              "      filter: drop-shadow(0px 1px 2px rgba(0, 0, 0, 0.3));\n",
              "      fill: #FFFFFF;\n",
              "    }\n",
              "  </style>\n",
              "\n",
              "    <script>\n",
              "      const buttonEl =\n",
              "        document.querySelector('#df-20890011-7c51-4230-b385-1f47a58cf348 button.colab-df-convert');\n",
              "      buttonEl.style.display =\n",
              "        google.colab.kernel.accessAllowed ? 'block' : 'none';\n",
              "\n",
              "      async function convertToInteractive(key) {\n",
              "        const element = document.querySelector('#df-20890011-7c51-4230-b385-1f47a58cf348');\n",
              "        const dataTable =\n",
              "          await google.colab.kernel.invokeFunction('convertToInteractive',\n",
              "                                                    [key], {});\n",
              "        if (!dataTable) return;\n",
              "\n",
              "        const docLinkHtml = 'Like what you see? Visit the ' +\n",
              "          '<a target=\"_blank\" href=https://colab.research.google.com/notebooks/data_table.ipynb>data table notebook</a>'\n",
              "          + ' to learn more about interactive tables.';\n",
              "        element.innerHTML = '';\n",
              "        dataTable['output_type'] = 'display_data';\n",
              "        await google.colab.output.renderOutput(dataTable, element);\n",
              "        const docLink = document.createElement('div');\n",
              "        docLink.innerHTML = docLinkHtml;\n",
              "        element.appendChild(docLink);\n",
              "      }\n",
              "    </script>\n",
              "  </div>\n",
              "\n",
              "\n",
              "<div id=\"df-6debb208-12df-4d2e-8dac-8d941fd55cea\">\n",
              "  <button class=\"colab-df-quickchart\" onclick=\"quickchart('df-6debb208-12df-4d2e-8dac-8d941fd55cea')\"\n",
              "            title=\"Suggest charts\"\n",
              "            style=\"display:none;\">\n",
              "\n",
              "<svg xmlns=\"http://www.w3.org/2000/svg\" height=\"24px\"viewBox=\"0 0 24 24\"\n",
              "     width=\"24px\">\n",
              "    <g>\n",
              "        <path d=\"M19 3H5c-1.1 0-2 .9-2 2v14c0 1.1.9 2 2 2h14c1.1 0 2-.9 2-2V5c0-1.1-.9-2-2-2zM9 17H7v-7h2v7zm4 0h-2V7h2v10zm4 0h-2v-4h2v4z\"/>\n",
              "    </g>\n",
              "</svg>\n",
              "  </button>\n",
              "\n",
              "<style>\n",
              "  .colab-df-quickchart {\n",
              "      --bg-color: #E8F0FE;\n",
              "      --fill-color: #1967D2;\n",
              "      --hover-bg-color: #E2EBFA;\n",
              "      --hover-fill-color: #174EA6;\n",
              "      --disabled-fill-color: #AAA;\n",
              "      --disabled-bg-color: #DDD;\n",
              "  }\n",
              "\n",
              "  [theme=dark] .colab-df-quickchart {\n",
              "      --bg-color: #3B4455;\n",
              "      --fill-color: #D2E3FC;\n",
              "      --hover-bg-color: #434B5C;\n",
              "      --hover-fill-color: #FFFFFF;\n",
              "      --disabled-bg-color: #3B4455;\n",
              "      --disabled-fill-color: #666;\n",
              "  }\n",
              "\n",
              "  .colab-df-quickchart {\n",
              "    background-color: var(--bg-color);\n",
              "    border: none;\n",
              "    border-radius: 50%;\n",
              "    cursor: pointer;\n",
              "    display: none;\n",
              "    fill: var(--fill-color);\n",
              "    height: 32px;\n",
              "    padding: 0;\n",
              "    width: 32px;\n",
              "  }\n",
              "\n",
              "  .colab-df-quickchart:hover {\n",
              "    background-color: var(--hover-bg-color);\n",
              "    box-shadow: 0 1px 2px rgba(60, 64, 67, 0.3), 0 1px 3px 1px rgba(60, 64, 67, 0.15);\n",
              "    fill: var(--button-hover-fill-color);\n",
              "  }\n",
              "\n",
              "  .colab-df-quickchart-complete:disabled,\n",
              "  .colab-df-quickchart-complete:disabled:hover {\n",
              "    background-color: var(--disabled-bg-color);\n",
              "    fill: var(--disabled-fill-color);\n",
              "    box-shadow: none;\n",
              "  }\n",
              "\n",
              "  .colab-df-spinner {\n",
              "    border: 2px solid var(--fill-color);\n",
              "    border-color: transparent;\n",
              "    border-bottom-color: var(--fill-color);\n",
              "    animation:\n",
              "      spin 1s steps(1) infinite;\n",
              "  }\n",
              "\n",
              "  @keyframes spin {\n",
              "    0% {\n",
              "      border-color: transparent;\n",
              "      border-bottom-color: var(--fill-color);\n",
              "      border-left-color: var(--fill-color);\n",
              "    }\n",
              "    20% {\n",
              "      border-color: transparent;\n",
              "      border-left-color: var(--fill-color);\n",
              "      border-top-color: var(--fill-color);\n",
              "    }\n",
              "    30% {\n",
              "      border-color: transparent;\n",
              "      border-left-color: var(--fill-color);\n",
              "      border-top-color: var(--fill-color);\n",
              "      border-right-color: var(--fill-color);\n",
              "    }\n",
              "    40% {\n",
              "      border-color: transparent;\n",
              "      border-right-color: var(--fill-color);\n",
              "      border-top-color: var(--fill-color);\n",
              "    }\n",
              "    60% {\n",
              "      border-color: transparent;\n",
              "      border-right-color: var(--fill-color);\n",
              "    }\n",
              "    80% {\n",
              "      border-color: transparent;\n",
              "      border-right-color: var(--fill-color);\n",
              "      border-bottom-color: var(--fill-color);\n",
              "    }\n",
              "    90% {\n",
              "      border-color: transparent;\n",
              "      border-bottom-color: var(--fill-color);\n",
              "    }\n",
              "  }\n",
              "</style>\n",
              "\n",
              "  <script>\n",
              "    async function quickchart(key) {\n",
              "      const quickchartButtonEl =\n",
              "        document.querySelector('#' + key + ' button');\n",
              "      quickchartButtonEl.disabled = true;  // To prevent multiple clicks.\n",
              "      quickchartButtonEl.classList.add('colab-df-spinner');\n",
              "      try {\n",
              "        const charts = await google.colab.kernel.invokeFunction(\n",
              "            'suggestCharts', [key], {});\n",
              "      } catch (error) {\n",
              "        console.error('Error during call to suggestCharts:', error);\n",
              "      }\n",
              "      quickchartButtonEl.classList.remove('colab-df-spinner');\n",
              "      quickchartButtonEl.classList.add('colab-df-quickchart-complete');\n",
              "    }\n",
              "    (() => {\n",
              "      let quickchartButtonEl =\n",
              "        document.querySelector('#df-6debb208-12df-4d2e-8dac-8d941fd55cea button');\n",
              "      quickchartButtonEl.style.display =\n",
              "        google.colab.kernel.accessAllowed ? 'block' : 'none';\n",
              "    })();\n",
              "  </script>\n",
              "</div>\n",
              "\n",
              "    </div>\n",
              "  </div>\n"
            ],
            "application/vnd.google.colaboratory.intrinsic+json": {
              "type": "dataframe",
              "variable_name": "data"
            }
          },
          "metadata": {},
          "execution_count": 32
        }
      ],
      "source": [
        "data = pd.get_dummies(data, columns=['CLASE_ACC','LOCALIDAD'])\n",
        "data.head()"
      ]
    },
    {
      "cell_type": "code",
      "execution_count": 33,
      "id": "01aa0450",
      "metadata": {
        "id": "01aa0450",
        "outputId": "d2208d97-19ca-4387-bec8-d91c5fc78a55",
        "colab": {
          "base_uri": "https://localhost:8080/"
        }
      },
      "outputs": [
        {
          "output_type": "execute_result",
          "data": {
            "text/plain": [
              "(199146, 34)"
            ]
          },
          "metadata": {},
          "execution_count": 33
        }
      ],
      "source": [
        "data.shape"
      ]
    },
    {
      "cell_type": "code",
      "source": [
        "data.dtypes"
      ],
      "metadata": {
        "colab": {
          "base_uri": "https://localhost:8080/"
        },
        "id": "t1wM_FwkyWWH",
        "outputId": "05369b7f-9cf2-4721-e21e-67b4160edf69"
      },
      "id": "t1wM_FwkyWWH",
      "execution_count": 34,
      "outputs": [
        {
          "output_type": "execute_result",
          "data": {
            "text/plain": [
              "GRAVEDAD                         object\n",
              "LATITUD                         float64\n",
              "LONGITUD                        float64\n",
              "AÑO                               int32\n",
              "MES                               int32\n",
              "DIA                               int32\n",
              "HORA                              int32\n",
              "CLASE_ACC_ATROPELLO                bool\n",
              "CLASE_ACC_AUTOLESION               bool\n",
              "CLASE_ACC_CAIDA DE OCUPANTE        bool\n",
              "CLASE_ACC_CHOQUE                   bool\n",
              "CLASE_ACC_INCENDIO                 bool\n",
              "CLASE_ACC_OTRO                     bool\n",
              "CLASE_ACC_VOLCAMIENTO              bool\n",
              "LOCALIDAD_ANTONIO NARINO           bool\n",
              "LOCALIDAD_BARRIOS UNIDOS           bool\n",
              "LOCALIDAD_BOSA                     bool\n",
              "LOCALIDAD_CANDELARIA               bool\n",
              "LOCALIDAD_CHAPINERO                bool\n",
              "LOCALIDAD_CIUDAD BOLIVAR           bool\n",
              "LOCALIDAD_ENGATIVA                 bool\n",
              "LOCALIDAD_FONTIBON                 bool\n",
              "LOCALIDAD_KENNEDY                  bool\n",
              "LOCALIDAD_LOS MARTIRES             bool\n",
              "LOCALIDAD_PUENTE ARANDA            bool\n",
              "LOCALIDAD_RAFAEL URIBE URIBE       bool\n",
              "LOCALIDAD_SAN CRISTOBAL            bool\n",
              "LOCALIDAD_SANTA FE                 bool\n",
              "LOCALIDAD_SUBA                     bool\n",
              "LOCALIDAD_SUMAPAZ                  bool\n",
              "LOCALIDAD_TEUSAQUILLO              bool\n",
              "LOCALIDAD_TUNJUELITO               bool\n",
              "LOCALIDAD_USAQUEN                  bool\n",
              "LOCALIDAD_USME                     bool\n",
              "dtype: object"
            ]
          },
          "metadata": {},
          "execution_count": 34
        }
      ]
    },
    {
      "cell_type": "code",
      "source": [
        "data['GRAVEDAD']"
      ],
      "metadata": {
        "colab": {
          "base_uri": "https://localhost:8080/"
        },
        "id": "Y79Mfk0X1DTu",
        "outputId": "abe572a8-9e7e-43b0-f5f5-42038ac31e0a"
      },
      "id": "Y79Mfk0X1DTu",
      "execution_count": 35,
      "outputs": [
        {
          "output_type": "execute_result",
          "data": {
            "text/plain": [
              "0          SOLO DANOS\n",
              "1         CON HERIDOS\n",
              "2          SOLO DANOS\n",
              "3          SOLO DANOS\n",
              "4          SOLO DANOS\n",
              "             ...     \n",
              "199141     SOLO DANOS\n",
              "199142    CON HERIDOS\n",
              "199143    CON HERIDOS\n",
              "199144    CON HERIDOS\n",
              "199145    CON HERIDOS\n",
              "Name: GRAVEDAD, Length: 199146, dtype: object"
            ]
          },
          "metadata": {},
          "execution_count": 35
        }
      ]
    },
    {
      "cell_type": "code",
      "source": [
        "data['GRAVEDAD'] = pd.Categorical(data['GRAVEDAD'])\n",
        "categories = data.GRAVEDAD.cat.categories\n",
        "codes = data.GRAVEDAD.cat.codes"
      ],
      "metadata": {
        "id": "tMOAObkD1GYh"
      },
      "id": "tMOAObkD1GYh",
      "execution_count": 36,
      "outputs": []
    },
    {
      "cell_type": "code",
      "source": [
        "categories"
      ],
      "metadata": {
        "colab": {
          "base_uri": "https://localhost:8080/"
        },
        "id": "mMCINNJC1KYv",
        "outputId": "827efd1d-8139-46fa-fd79-3891a57a16c5"
      },
      "id": "mMCINNJC1KYv",
      "execution_count": 37,
      "outputs": [
        {
          "output_type": "execute_result",
          "data": {
            "text/plain": [
              "Index(['CON HERIDOS', 'CON MUERTOS', 'SOLO DANOS'], dtype='object')"
            ]
          },
          "metadata": {},
          "execution_count": 37
        }
      ]
    },
    {
      "cell_type": "code",
      "source": [
        "data['GRAVEDAD'] = data.GRAVEDAD.cat.codes\n",
        "data.dtypes"
      ],
      "metadata": {
        "colab": {
          "base_uri": "https://localhost:8080/"
        },
        "id": "VIlwSDgHzJOb",
        "outputId": "7bc25211-a892-4266-e9fc-4cc3e5b798dc"
      },
      "id": "VIlwSDgHzJOb",
      "execution_count": 38,
      "outputs": [
        {
          "output_type": "execute_result",
          "data": {
            "text/plain": [
              "GRAVEDAD                           int8\n",
              "LATITUD                         float64\n",
              "LONGITUD                        float64\n",
              "AÑO                               int32\n",
              "MES                               int32\n",
              "DIA                               int32\n",
              "HORA                              int32\n",
              "CLASE_ACC_ATROPELLO                bool\n",
              "CLASE_ACC_AUTOLESION               bool\n",
              "CLASE_ACC_CAIDA DE OCUPANTE        bool\n",
              "CLASE_ACC_CHOQUE                   bool\n",
              "CLASE_ACC_INCENDIO                 bool\n",
              "CLASE_ACC_OTRO                     bool\n",
              "CLASE_ACC_VOLCAMIENTO              bool\n",
              "LOCALIDAD_ANTONIO NARINO           bool\n",
              "LOCALIDAD_BARRIOS UNIDOS           bool\n",
              "LOCALIDAD_BOSA                     bool\n",
              "LOCALIDAD_CANDELARIA               bool\n",
              "LOCALIDAD_CHAPINERO                bool\n",
              "LOCALIDAD_CIUDAD BOLIVAR           bool\n",
              "LOCALIDAD_ENGATIVA                 bool\n",
              "LOCALIDAD_FONTIBON                 bool\n",
              "LOCALIDAD_KENNEDY                  bool\n",
              "LOCALIDAD_LOS MARTIRES             bool\n",
              "LOCALIDAD_PUENTE ARANDA            bool\n",
              "LOCALIDAD_RAFAEL URIBE URIBE       bool\n",
              "LOCALIDAD_SAN CRISTOBAL            bool\n",
              "LOCALIDAD_SANTA FE                 bool\n",
              "LOCALIDAD_SUBA                     bool\n",
              "LOCALIDAD_SUMAPAZ                  bool\n",
              "LOCALIDAD_TEUSAQUILLO              bool\n",
              "LOCALIDAD_TUNJUELITO               bool\n",
              "LOCALIDAD_USAQUEN                  bool\n",
              "LOCALIDAD_USME                     bool\n",
              "dtype: object"
            ]
          },
          "metadata": {},
          "execution_count": 38
        }
      ]
    },
    {
      "cell_type": "code",
      "source": [
        "data['GRAVEDAD'].head()"
      ],
      "metadata": {
        "colab": {
          "base_uri": "https://localhost:8080/"
        },
        "id": "Wm2Biigb0CcH",
        "outputId": "2f2d767d-5170-4e45-9d03-2b1766fef1f7"
      },
      "id": "Wm2Biigb0CcH",
      "execution_count": 39,
      "outputs": [
        {
          "output_type": "execute_result",
          "data": {
            "text/plain": [
              "0    2\n",
              "1    0\n",
              "2    2\n",
              "3    2\n",
              "4    2\n",
              "Name: GRAVEDAD, dtype: int8"
            ]
          },
          "metadata": {},
          "execution_count": 39
        }
      ]
    },
    {
      "cell_type": "code",
      "execution_count": 40,
      "id": "f3587c51",
      "metadata": {
        "id": "f3587c51",
        "outputId": "5b0ab8bc-9891-4f8c-89b6-0756750d07d0",
        "colab": {
          "base_uri": "https://localhost:8080/"
        }
      },
      "outputs": [
        {
          "output_type": "execute_result",
          "data": {
            "text/plain": [
              "(199146, 33)"
            ]
          },
          "metadata": {},
          "execution_count": 40
        }
      ],
      "source": [
        "X = data.drop('GRAVEDAD', axis=1)\n",
        "X.shape"
      ]
    },
    {
      "cell_type": "code",
      "execution_count": 41,
      "id": "4d270d84",
      "metadata": {
        "id": "4d270d84",
        "colab": {
          "base_uri": "https://localhost:8080/"
        },
        "outputId": "f78452e2-8c63-4d63-a124-c0046dca5f2b"
      },
      "outputs": [
        {
          "output_type": "execute_result",
          "data": {
            "text/plain": [
              "(199146, 1)"
            ]
          },
          "metadata": {},
          "execution_count": 41
        }
      ],
      "source": [
        "Y=pd.DataFrame()\n",
        "Y['GRAVEDAD'] = data['GRAVEDAD']\n",
        "Y.shape"
      ]
    },
    {
      "cell_type": "code",
      "source": [
        "print(data['GRAVEDAD'].value_counts(normalize=True).mul(100).round(1).astype(str)+'%')"
      ],
      "metadata": {
        "colab": {
          "base_uri": "https://localhost:8080/"
        },
        "id": "WgmMQbokx-Xi",
        "outputId": "9b84b716-ffbb-4950-dfd9-92e52183915a"
      },
      "id": "WgmMQbokx-Xi",
      "execution_count": 42,
      "outputs": [
        {
          "output_type": "stream",
          "name": "stdout",
          "text": [
            "GRAVEDAD\n",
            "2    64.4%\n",
            "0    34.0%\n",
            "1     1.6%\n",
            "Name: proportion, dtype: object\n"
          ]
        }
      ]
    },
    {
      "cell_type": "markdown",
      "source": [
        "### Transformación datos: media cero y varianza unitaria"
      ],
      "metadata": {
        "id": "WctsMc7cJWH3"
      },
      "id": "WctsMc7cJWH3"
    },
    {
      "cell_type": "code",
      "execution_count": 43,
      "id": "65a6de96",
      "metadata": {
        "id": "65a6de96"
      },
      "outputs": [],
      "source": [
        "from sklearn.preprocessing import StandardScaler"
      ]
    },
    {
      "cell_type": "code",
      "execution_count": 44,
      "id": "7c5b6216",
      "metadata": {
        "id": "7c5b6216",
        "colab": {
          "base_uri": "https://localhost:8080/"
        },
        "outputId": "4b490638-2c4f-43fb-d0e9-ac7cb1aaca6a"
      },
      "outputs": [
        {
          "output_type": "execute_result",
          "data": {
            "text/plain": [
              "(199146, 33)"
            ]
          },
          "metadata": {},
          "execution_count": 44
        }
      ],
      "source": [
        "# Media cero y varianza unitaria\n",
        "sc = StandardScaler()\n",
        "Xsc = sc.fit(X)\n",
        "Xt = Xsc.transform(X)\n",
        "Xt.shape\n"
      ]
    },
    {
      "cell_type": "markdown",
      "source": [
        "### Partición conjuntos de datos: Entrenamiento, prueba y validación"
      ],
      "metadata": {
        "id": "uXdpcyblJjc2"
      },
      "id": "uXdpcyblJjc2"
    },
    {
      "cell_type": "code",
      "source": [
        "from sklearn.model_selection import train_test_split as split"
      ],
      "metadata": {
        "id": "YRs0yBDoH5bl"
      },
      "id": "YRs0yBDoH5bl",
      "execution_count": 45,
      "outputs": []
    },
    {
      "cell_type": "code",
      "source": [
        "## # Definir función para particionar el conjunto de datos\n",
        "\n",
        "X_train, X_test, y_train, y_test = split(Xt,Y,\n",
        "                                         test_size=0.30,\n",
        "                                         random_state=42,\n",
        "                                         stratify=Y)\n",
        "\n",
        "# X_train, X_valid, y_train, y_valid = split(X_train, y_train,\n",
        "#                                            test_size=0.2,\n",
        "#                                            stratify=y_train)"
      ],
      "metadata": {
        "id": "xHkxxOYwHlRd"
      },
      "id": "xHkxxOYwHlRd",
      "execution_count": 46,
      "outputs": []
    },
    {
      "cell_type": "markdown",
      "source": [
        "## Modelos Supervisados"
      ],
      "metadata": {
        "id": "i3tB9ZDaIw0u"
      },
      "id": "i3tB9ZDaIw0u"
    },
    {
      "cell_type": "markdown",
      "id": "0ce13595",
      "metadata": {
        "id": "0ce13595"
      },
      "source": [
        "### Árboles de decisión"
      ]
    },
    {
      "cell_type": "code",
      "execution_count": 47,
      "id": "d878bc8a",
      "metadata": {
        "id": "d878bc8a"
      },
      "outputs": [],
      "source": [
        "# import xgboost as xgb\n",
        "from sklearn import metrics\n",
        "from sklearn.ensemble import BaggingClassifier\n",
        "from sklearn.tree import DecisionTreeClassifier\n",
        "from sklearn.ensemble import RandomForestClassifier"
      ]
    },
    {
      "cell_type": "code",
      "execution_count": 48,
      "id": "ac7fba1e",
      "metadata": {
        "id": "ac7fba1e",
        "outputId": "34ff75d9-48c2-4b56-f491-2ba8832a015d",
        "colab": {
          "base_uri": "https://localhost:8080/"
        }
      },
      "outputs": [
        {
          "output_type": "stream",
          "name": "stdout",
          "text": [
            "\n",
            "               precision    recall  f1-score   support\n",
            "\n",
            "           0       0.53      0.55      0.54     20310\n",
            "           1       0.06      0.07      0.07       972\n",
            "           2       0.76      0.75      0.75     38462\n",
            "\n",
            "    accuracy                           0.67     59744\n",
            "   macro avg       0.45      0.45      0.45     59744\n",
            "weighted avg       0.67      0.67      0.67     59744\n",
            "\n"
          ]
        }
      ],
      "source": [
        "#Definición del modelo\n",
        "arbol1 = DecisionTreeClassifier()\n",
        "\n",
        "#Entrenamiento y evaluación del modelo\n",
        "arbol1 = arbol1.fit(X_train,y_train)\n",
        "\n",
        "# Calcular métricas de desempeño\n",
        "y_pred = arbol1.predict(X_test)\n",
        "print(\"\\n\", metrics.classification_report(y_test, y_pred, digits=2))\n",
        "\n",
        "# Visualizar matriz de confusión\n",
        "# Y_pred13 = np_utils.to_categorical(y_pred13)\n",
        "# cm = matriz_confusion(Y_test, y_pred, 'si', 'Matriz de confusión clasificador AD')"
      ]
    },
    {
      "cell_type": "markdown",
      "id": "7ccb4d3c",
      "metadata": {
        "id": "7ccb4d3c"
      },
      "source": [
        "### Random Forests"
      ]
    },
    {
      "cell_type": "code",
      "execution_count": 53,
      "id": "cab294f4",
      "metadata": {
        "id": "cab294f4"
      },
      "outputs": [],
      "source": [
        "from sklearn.ensemble import RandomForestClassifier"
      ]
    },
    {
      "cell_type": "code",
      "execution_count": 54,
      "id": "58985e56",
      "metadata": {
        "id": "58985e56",
        "outputId": "a779dafc-a6b0-47c0-8aa7-e2d310835b11",
        "colab": {
          "base_uri": "https://localhost:8080/"
        }
      },
      "outputs": [
        {
          "output_type": "stream",
          "name": "stderr",
          "text": [
            "<ipython-input-54-86e86c52e873>:5: DataConversionWarning: A column-vector y was passed when a 1d array was expected. Please change the shape of y to (n_samples,), for example using ravel().\n",
            "  rfc.fit(X_train, y_train)\n"
          ]
        },
        {
          "output_type": "stream",
          "name": "stdout",
          "text": [
            "\n",
            "               precision    recall  f1-score   support\n",
            "\n",
            "           0       0.79      0.45      0.57     20310\n",
            "           1       0.12      0.00      0.00       972\n",
            "           2       0.76      0.95      0.84     38462\n",
            "\n",
            "    accuracy                           0.76     59744\n",
            "   macro avg       0.56      0.47      0.47     59744\n",
            "weighted avg       0.76      0.76      0.74     59744\n",
            "\n"
          ]
        }
      ],
      "source": [
        "#Definición del modelo\n",
        "rfc = RandomForestClassifier(n_estimators=200)\n",
        "\n",
        "#Entrenamiento y evaluación del modelo\n",
        "rfc.fit(X_train, y_train)\n",
        "\n",
        "# Calcular métricas de desempeño\n",
        "y_pred2 = rfc.predict(X_test)\n",
        "print(\"\\n\", metrics.classification_report(y_test, y_pred2, digits=2))"
      ]
    },
    {
      "cell_type": "markdown",
      "id": "61689bc2",
      "metadata": {
        "id": "61689bc2"
      },
      "source": [
        "### Redes Neuronales Artificiales"
      ]
    },
    {
      "cell_type": "code",
      "source": [
        "from tensorflow.keras import models\n",
        "from tensorflow.keras import layers\n",
        "from tensorflow.keras import optimizers\n",
        "from tensorflow.keras import regularizers\n",
        "from tensorflow.keras import utils as np_utils"
      ],
      "metadata": {
        "id": "jIkdqjG1IjAe"
      },
      "id": "jIkdqjG1IjAe",
      "execution_count": 59,
      "outputs": []
    },
    {
      "cell_type": "code",
      "source": [
        "# Ejemplo de definición de X y y\n",
        "import numpy as np\n",
        "\n",
        "# Generar datos de ejemplo\n",
        "X = np.random.rand(1000, 20)  # 1000 muestras, cada una con 20 características\n",
        "y = np.random.randint(3, size=1000)  # 1000 etiquetas, con 3 clases (0, 1, 2)\n",
        "\n",
        "# Dividir y transformar los datos como se muestra arriba\n",
        "X_train, X_temp, y_train, y_temp = train_test_split(X, y, test_size=0.4, random_state=42)\n",
        "X_valid, X_test, y_valid, y_test = train_test_split(X_temp, y_temp, test_size=0.5, random_state=42)\n",
        "\n",
        "Y_train = np_utils.to_categorical(y_train)\n",
        "Y_test = np_utils.to_categorical(y_test)\n",
        "Y_valid = np_utils.to_categorical(y_valid)\n"
      ],
      "metadata": {
        "id": "uCeDWdeyIlcm"
      },
      "id": "uCeDWdeyIlcm",
      "execution_count": 64,
      "outputs": []
    },
    {
      "cell_type": "code",
      "execution_count": 65,
      "id": "c4083bf3",
      "metadata": {
        "id": "c4083bf3"
      },
      "outputs": [],
      "source": [
        "# Definir función para construir RNA\n",
        "def construrna():\n",
        "    #Contruir RNA\n",
        "    model = models.Sequential()\n",
        "    model.add(layers.Dense(8, activation='tanh'))\n",
        "    model.add(layers.Dense(8,  activation='tanh'))\n",
        "    model.add(layers.Dense(4, activation='sigmoid'))\n",
        "\n",
        "# compile the keras (tensorflow) flow graph\n",
        "    model.compile(optimizer=optimizers.RMSprop(learning_rate=0.001),\n",
        "                  loss='categorical_crossentropy',\n",
        "                  metrics=['accuracy'])\n",
        "    return model"
      ]
    },
    {
      "cell_type": "code",
      "source": [
        "# Definir función para entrenar RNA\n",
        "def trainrna(model, epochs, batch_size, X_train, Y_train, X_valid, Y_valid):\n",
        "    history = model.fit(X_train, Y_train, validation_data=(X_valid, Y_valid), epochs=epochs, batch_size=batch_size)\n",
        "    return history"
      ],
      "metadata": {
        "id": "_QHslCR5oBAy"
      },
      "id": "_QHslCR5oBAy",
      "execution_count": 73,
      "outputs": []
    },
    {
      "cell_type": "code",
      "execution_count": 67,
      "id": "74049f32",
      "metadata": {
        "id": "74049f32"
      },
      "outputs": [],
      "source": [
        "# Métricas de desempeño\n",
        "def metricas_rna(model_rna, X_test, Y_test):\n",
        "\n",
        "#     # Exactitud\n",
        "#     test_loss, test_acc = model.evaluate(X_test, Y_test)# testeo de la red con los de prueba\n",
        "#     print('\\nExactitud evaluación:',test_acc)\n",
        "    Y_pred = model_rna.predict_classes(X_test, batch_size=32, verbose=1)\n",
        "    Y_pred = np_utils.to_categorical(Y_pred)\n",
        "\n",
        "    # Mostrar la precisión, recall, F1-score\n",
        "    print(\"\\n\", metrics.classification_report(Y_test, Y_pred, digits=3))\n",
        "\n",
        "    return Y_pred"
      ]
    },
    {
      "cell_type": "code",
      "execution_count": 68,
      "id": "81f7a4a2",
      "metadata": {
        "id": "81f7a4a2"
      },
      "outputs": [],
      "source": [
        "# Construir la red neuronal\n",
        "model_rna = construrna()"
      ]
    },
    {
      "cell_type": "code",
      "execution_count": 69,
      "id": "6a03caca",
      "metadata": {
        "id": "6a03caca",
        "outputId": "479a2225-2b28-4f91-fb63-56d2725a729d",
        "colab": {
          "base_uri": "https://localhost:8080/"
        }
      },
      "outputs": [
        {
          "output_type": "stream",
          "name": "stdout",
          "text": [
            "(600, 20)\n",
            "(200, 20)\n",
            "(600,)\n",
            "(200,)\n"
          ]
        }
      ],
      "source": [
        "print(X_train.shape)\n",
        "print(X_valid.shape)\n",
        "print(y_train.shape)\n",
        "print(y_valid.shape)"
      ]
    },
    {
      "cell_type": "code",
      "source": [
        "#Reshaping labels as 2d-tensor (the first dimension will be the batch dimension and the second the scalar label):\n",
        "# Our vectorized labels\n",
        "#Y_train = np.asarray(y_train).astype('float32').reshape((-1,1))\n",
        "#Y_test = np.asarray(y_test).astype('float32').reshape((-1,1))\n",
        "#Y_valid = np.asarray(y_valid).astype('float32').reshape((-1,1))"
      ],
      "metadata": {
        "id": "zt4C84F5pv6K"
      },
      "id": "zt4C84F5pv6K",
      "execution_count": 70,
      "outputs": []
    },
    {
      "cell_type": "code",
      "execution_count": 74,
      "id": "a4e942cc",
      "metadata": {
        "id": "a4e942cc",
        "colab": {
          "base_uri": "https://localhost:8080/",
          "height": 373
        },
        "outputId": "ba852eea-c5b4-44f9-959b-8bb50296bb8d"
      },
      "outputs": [
        {
          "output_type": "stream",
          "name": "stdout",
          "text": [
            "Epoch 1/5\n",
            "11/19 [================>.............] - ETA: 0s"
          ]
        },
        {
          "output_type": "error",
          "ename": "ValueError",
          "evalue": "Unexpected result of `train_function` (Empty logs). This could be due to issues in input pipeline that resulted in an empty dataset. Otherwise, please use `Model.compile(..., run_eagerly=True)`, or `tf.config.run_functions_eagerly(True)` for more information of where went wrong, or file a issue/bug to `tf.keras`.",
          "traceback": [
            "\u001b[0;31m---------------------------------------------------------------------------\u001b[0m",
            "\u001b[0;31mValueError\u001b[0m                                Traceback (most recent call last)",
            "\u001b[0;32m<ipython-input-74-6f6d4f5b8837>\u001b[0m in \u001b[0;36m<cell line: 2>\u001b[0;34m()\u001b[0m\n\u001b[1;32m      1\u001b[0m \u001b[0;31m# Entrenar la red neuronal\u001b[0m\u001b[0;34m\u001b[0m\u001b[0;34m\u001b[0m\u001b[0m\n\u001b[0;32m----> 2\u001b[0;31m \u001b[0mhistory_rna\u001b[0m \u001b[0;34m=\u001b[0m \u001b[0mtrainrna\u001b[0m\u001b[0;34m(\u001b[0m\u001b[0mmodel_rna\u001b[0m\u001b[0;34m,\u001b[0m \u001b[0;36m5\u001b[0m\u001b[0;34m,\u001b[0m \u001b[0;36m32\u001b[0m\u001b[0;34m,\u001b[0m \u001b[0mX_train\u001b[0m\u001b[0;34m,\u001b[0m \u001b[0mY_train\u001b[0m\u001b[0;34m,\u001b[0m \u001b[0mX_valid\u001b[0m\u001b[0;34m,\u001b[0m \u001b[0mY_valid\u001b[0m\u001b[0;34m)\u001b[0m\u001b[0;34m\u001b[0m\u001b[0;34m\u001b[0m\u001b[0m\n\u001b[0m",
            "\u001b[0;32m<ipython-input-73-29b61f3dde56>\u001b[0m in \u001b[0;36mtrainrna\u001b[0;34m(model, epochs, batch_size, X_train, Y_train, X_valid, Y_valid)\u001b[0m\n\u001b[1;32m      1\u001b[0m \u001b[0;31m# Definir función para entrenar RNA\u001b[0m\u001b[0;34m\u001b[0m\u001b[0;34m\u001b[0m\u001b[0m\n\u001b[1;32m      2\u001b[0m \u001b[0;32mdef\u001b[0m \u001b[0mtrainrna\u001b[0m\u001b[0;34m(\u001b[0m\u001b[0mmodel\u001b[0m\u001b[0;34m,\u001b[0m \u001b[0mepochs\u001b[0m\u001b[0;34m,\u001b[0m \u001b[0mbatch_size\u001b[0m\u001b[0;34m,\u001b[0m \u001b[0mX_train\u001b[0m\u001b[0;34m,\u001b[0m \u001b[0mY_train\u001b[0m\u001b[0;34m,\u001b[0m \u001b[0mX_valid\u001b[0m\u001b[0;34m,\u001b[0m \u001b[0mY_valid\u001b[0m\u001b[0;34m)\u001b[0m\u001b[0;34m:\u001b[0m\u001b[0;34m\u001b[0m\u001b[0;34m\u001b[0m\u001b[0m\n\u001b[0;32m----> 3\u001b[0;31m     \u001b[0mhistory\u001b[0m \u001b[0;34m=\u001b[0m \u001b[0mmodel\u001b[0m\u001b[0;34m.\u001b[0m\u001b[0mfit\u001b[0m\u001b[0;34m(\u001b[0m\u001b[0mX_train\u001b[0m\u001b[0;34m,\u001b[0m \u001b[0mY_train\u001b[0m\u001b[0;34m,\u001b[0m \u001b[0mvalidation_data\u001b[0m\u001b[0;34m=\u001b[0m\u001b[0;34m(\u001b[0m\u001b[0mX_valid\u001b[0m\u001b[0;34m,\u001b[0m \u001b[0mY_valid\u001b[0m\u001b[0;34m)\u001b[0m\u001b[0;34m,\u001b[0m \u001b[0mepochs\u001b[0m\u001b[0;34m=\u001b[0m\u001b[0mepochs\u001b[0m\u001b[0;34m,\u001b[0m \u001b[0mbatch_size\u001b[0m\u001b[0;34m=\u001b[0m\u001b[0mbatch_size\u001b[0m\u001b[0;34m)\u001b[0m\u001b[0;34m\u001b[0m\u001b[0;34m\u001b[0m\u001b[0m\n\u001b[0m\u001b[1;32m      4\u001b[0m     \u001b[0;32mreturn\u001b[0m \u001b[0mhistory\u001b[0m\u001b[0;34m\u001b[0m\u001b[0;34m\u001b[0m\u001b[0m\n",
            "\u001b[0;32m/usr/local/lib/python3.10/dist-packages/keras/src/utils/traceback_utils.py\u001b[0m in \u001b[0;36merror_handler\u001b[0;34m(*args, **kwargs)\u001b[0m\n\u001b[1;32m     68\u001b[0m             \u001b[0;31m# To get the full stack trace, call:\u001b[0m\u001b[0;34m\u001b[0m\u001b[0;34m\u001b[0m\u001b[0m\n\u001b[1;32m     69\u001b[0m             \u001b[0;31m# `tf.debugging.disable_traceback_filtering()`\u001b[0m\u001b[0;34m\u001b[0m\u001b[0;34m\u001b[0m\u001b[0m\n\u001b[0;32m---> 70\u001b[0;31m             \u001b[0;32mraise\u001b[0m \u001b[0me\u001b[0m\u001b[0;34m.\u001b[0m\u001b[0mwith_traceback\u001b[0m\u001b[0;34m(\u001b[0m\u001b[0mfiltered_tb\u001b[0m\u001b[0;34m)\u001b[0m \u001b[0;32mfrom\u001b[0m \u001b[0;32mNone\u001b[0m\u001b[0;34m\u001b[0m\u001b[0;34m\u001b[0m\u001b[0m\n\u001b[0m\u001b[1;32m     71\u001b[0m         \u001b[0;32mfinally\u001b[0m\u001b[0;34m:\u001b[0m\u001b[0;34m\u001b[0m\u001b[0;34m\u001b[0m\u001b[0m\n\u001b[1;32m     72\u001b[0m             \u001b[0;32mdel\u001b[0m \u001b[0mfiltered_tb\u001b[0m\u001b[0;34m\u001b[0m\u001b[0;34m\u001b[0m\u001b[0m\n",
            "\u001b[0;32m/usr/local/lib/python3.10/dist-packages/keras/src/engine/training.py\u001b[0m in \u001b[0;36mfit\u001b[0;34m(self, x, y, batch_size, epochs, verbose, callbacks, validation_split, validation_data, shuffle, class_weight, sample_weight, initial_epoch, steps_per_epoch, validation_steps, validation_batch_size, validation_freq, max_queue_size, workers, use_multiprocessing)\u001b[0m\n\u001b[1;32m   1817\u001b[0m                 \u001b[0mlogs\u001b[0m \u001b[0;34m=\u001b[0m \u001b[0mtf_utils\u001b[0m\u001b[0;34m.\u001b[0m\u001b[0msync_to_numpy_or_python_type\u001b[0m\u001b[0;34m(\u001b[0m\u001b[0mlogs\u001b[0m\u001b[0;34m)\u001b[0m\u001b[0;34m\u001b[0m\u001b[0;34m\u001b[0m\u001b[0m\n\u001b[1;32m   1818\u001b[0m                 \u001b[0;32mif\u001b[0m \u001b[0mlogs\u001b[0m \u001b[0;32mis\u001b[0m \u001b[0;32mNone\u001b[0m\u001b[0;34m:\u001b[0m\u001b[0;34m\u001b[0m\u001b[0;34m\u001b[0m\u001b[0m\n\u001b[0;32m-> 1819\u001b[0;31m                     raise ValueError(\n\u001b[0m\u001b[1;32m   1820\u001b[0m                         \u001b[0;34m\"Unexpected result of `train_function` \"\u001b[0m\u001b[0;34m\u001b[0m\u001b[0;34m\u001b[0m\u001b[0m\n\u001b[1;32m   1821\u001b[0m                         \u001b[0;34m\"(Empty logs). This could be due to issues in input \"\u001b[0m\u001b[0;34m\u001b[0m\u001b[0;34m\u001b[0m\u001b[0m\n",
            "\u001b[0;31mValueError\u001b[0m: Unexpected result of `train_function` (Empty logs). This could be due to issues in input pipeline that resulted in an empty dataset. Otherwise, please use `Model.compile(..., run_eagerly=True)`, or `tf.config.run_functions_eagerly(True)` for more information of where went wrong, or file a issue/bug to `tf.keras`."
          ]
        }
      ],
      "source": [
        "# Entrenar la red neuronal\n",
        "history_rna = trainrna(model_rna, 5, 32, X_train, Y_train, X_valid, Y_valid)\n"
      ]
    },
    {
      "cell_type": "code",
      "source": [
        "predict_x=model_rna.predict(X_test)\n",
        "classes_x=np.argmax(predict_x,axis=1)"
      ],
      "metadata": {
        "colab": {
          "base_uri": "https://localhost:8080/"
        },
        "id": "K4R43aO1wXfA",
        "outputId": "eadf2f32-c344-4dae-c90d-da5c75363adb"
      },
      "id": "K4R43aO1wXfA",
      "execution_count": 75,
      "outputs": [
        {
          "output_type": "stream",
          "name": "stdout",
          "text": [
            "7/7 [==============================] - 0s 3ms/step\n"
          ]
        }
      ]
    },
    {
      "cell_type": "code",
      "source": [
        "print(predict_x)\n",
        "print(classes_x)"
      ],
      "metadata": {
        "colab": {
          "base_uri": "https://localhost:8080/"
        },
        "id": "lRbzXBB1wlCO",
        "outputId": "c9cb8639-399d-429c-a03c-131a70eeb682"
      },
      "id": "lRbzXBB1wlCO",
      "execution_count": 76,
      "outputs": [
        {
          "output_type": "stream",
          "name": "stdout",
          "text": [
            "[[0.6372552  0.4676763  0.46336392 0.37644598]\n",
            " [0.5613745  0.68854535 0.6223304  0.40522066]\n",
            " [0.5918489  0.5814112  0.62595147 0.38907704]\n",
            " [0.6331404  0.574308   0.4820105  0.4009212 ]\n",
            " [0.54342765 0.5457862  0.4345155  0.5032813 ]\n",
            " [0.6702313  0.4898838  0.39976284 0.4049653 ]\n",
            " [0.61903113 0.5240782  0.39710957 0.39203262]\n",
            " [0.6298875  0.5566199  0.47287735 0.36539394]\n",
            " [0.58229023 0.6050086  0.40221184 0.41580966]\n",
            " [0.63111866 0.4992156  0.46544048 0.40569144]\n",
            " [0.6539431  0.4969846  0.57755697 0.41075766]\n",
            " [0.5373569  0.5543147  0.5501682  0.48848638]\n",
            " [0.6238837  0.5841953  0.5455782  0.3414076 ]\n",
            " [0.5504725  0.5359063  0.5439775  0.5126202 ]\n",
            " [0.6514745  0.48179236 0.41677397 0.39342332]\n",
            " [0.55747914 0.5937859  0.49074775 0.46205628]\n",
            " [0.6765983  0.3894508  0.3796932  0.4005966 ]\n",
            " [0.51396465 0.69679904 0.58938384 0.48631915]\n",
            " [0.6639514  0.43312025 0.40380707 0.37611023]\n",
            " [0.59172845 0.5888953  0.466382   0.41858602]\n",
            " [0.61761475 0.542924   0.60544217 0.38767594]\n",
            " [0.5853239  0.4822938  0.3778661  0.42614424]\n",
            " [0.6375738  0.54129153 0.5075741  0.39698815]\n",
            " [0.6735057  0.53267926 0.4311015  0.3304841 ]\n",
            " [0.66404    0.5349047  0.38141376 0.37144512]\n",
            " [0.5584075  0.6627478  0.5733954  0.41360685]\n",
            " [0.5626462  0.5605567  0.4998917  0.48428667]\n",
            " [0.6501725  0.42508745 0.4535169  0.35396108]\n",
            " [0.59501624 0.62282753 0.6261949  0.41160953]\n",
            " [0.60317516 0.52332234 0.42027727 0.38149923]\n",
            " [0.545093   0.62463045 0.6122164  0.43628526]\n",
            " [0.6449265  0.538222   0.3414224  0.33861357]\n",
            " [0.64014655 0.56593853 0.45715958 0.39473617]\n",
            " [0.60987234 0.59274757 0.4201307  0.36992732]\n",
            " [0.6562713  0.52481294 0.4346604  0.3769441 ]\n",
            " [0.5737256  0.51828563 0.48707193 0.410947  ]\n",
            " [0.5974501  0.63542616 0.5090007  0.37758777]\n",
            " [0.52582586 0.6415162  0.5985299  0.44918016]\n",
            " [0.5962239  0.53155464 0.5274184  0.4059532 ]\n",
            " [0.6135124  0.5155315  0.3968195  0.3786099 ]\n",
            " [0.6177301  0.5289316  0.3911792  0.36587685]\n",
            " [0.5766893  0.55079675 0.49408552 0.44862953]\n",
            " [0.52094865 0.6046293  0.4448179  0.49068245]\n",
            " [0.6541282  0.5170864  0.39947468 0.33991134]\n",
            " [0.6017916  0.60611665 0.62449163 0.41224244]\n",
            " [0.66538507 0.51780957 0.59954065 0.3440865 ]\n",
            " [0.60513157 0.5233158  0.3596449  0.44009194]\n",
            " [0.6192191  0.57966024 0.5501385  0.34132755]\n",
            " [0.58835083 0.5827441  0.5142258  0.42502016]\n",
            " [0.6477705  0.5258916  0.4530643  0.38826665]\n",
            " [0.6684451  0.47095764 0.40373367 0.40181026]\n",
            " [0.547022   0.64649564 0.532142   0.4077788 ]\n",
            " [0.59553015 0.49165717 0.39327925 0.46956494]\n",
            " [0.5280906  0.53621787 0.5406636  0.4603603 ]\n",
            " [0.52081245 0.65344006 0.55736655 0.503443  ]\n",
            " [0.5181899  0.5611733  0.41000286 0.49000272]\n",
            " [0.4710911  0.6391153  0.54787016 0.5405621 ]\n",
            " [0.53092414 0.67749476 0.6015974  0.44021678]\n",
            " [0.6927476  0.46989143 0.5055381  0.3637833 ]\n",
            " [0.5266908  0.6372278  0.60018295 0.4712394 ]\n",
            " [0.5747122  0.646636   0.55319005 0.44442856]\n",
            " [0.50145733 0.62714875 0.6175859  0.5171875 ]\n",
            " [0.6781338  0.47881478 0.39274234 0.35196766]\n",
            " [0.44208866 0.67993104 0.5907361  0.523213  ]\n",
            " [0.5818115  0.63392603 0.48992985 0.4011476 ]\n",
            " [0.64782363 0.5420322  0.46246547 0.36501265]\n",
            " [0.4989929  0.6662827  0.6463042  0.4035097 ]\n",
            " [0.5961941  0.4957719  0.5918846  0.36836675]\n",
            " [0.63200915 0.49730942 0.39343554 0.41337404]\n",
            " [0.5608346  0.6497328  0.653908   0.44329488]\n",
            " [0.5812138  0.5795948  0.54066396 0.42299846]\n",
            " [0.6149331  0.5873352  0.5714833  0.3806027 ]\n",
            " [0.49281293 0.6821099  0.55979645 0.5201885 ]\n",
            " [0.6225879  0.5164042  0.55272114 0.38125646]\n",
            " [0.53127855 0.68351454 0.6047881  0.45013082]\n",
            " [0.5752982  0.65404296 0.5649527  0.3858117 ]\n",
            " [0.5876544  0.46878368 0.39243588 0.4651252 ]\n",
            " [0.64339006 0.5434514  0.3288117  0.40255734]\n",
            " [0.5917167  0.5199386  0.48004434 0.38201138]\n",
            " [0.56244487 0.6284578  0.6131653  0.4353726 ]\n",
            " [0.6053365  0.58312744 0.40743023 0.41833967]\n",
            " [0.5728595  0.5163869  0.48544675 0.47016793]\n",
            " [0.47629753 0.7419396  0.61882    0.4776096 ]\n",
            " [0.6737184  0.501387   0.43080318 0.36297056]\n",
            " [0.65360546 0.4492263  0.44871658 0.36498696]\n",
            " [0.69477296 0.37637654 0.42623118 0.37488934]\n",
            " [0.5573216  0.636052   0.56383723 0.38359442]\n",
            " [0.49806255 0.5464592  0.5711809  0.5363812 ]\n",
            " [0.54752046 0.46989572 0.47502643 0.47770244]\n",
            " [0.606584   0.62183213 0.47656596 0.37737525]\n",
            " [0.60760903 0.5587651  0.54998213 0.42638287]\n",
            " [0.6323841  0.49880815 0.37318042 0.39819103]\n",
            " [0.61710703 0.62520397 0.43469432 0.37784827]\n",
            " [0.60478336 0.42347372 0.39521322 0.4170649 ]\n",
            " [0.60362566 0.5880976  0.3451579  0.41949487]\n",
            " [0.49011973 0.6936652  0.5195125  0.4673752 ]\n",
            " [0.62811935 0.5514881  0.3718948  0.39877674]\n",
            " [0.61578673 0.46558842 0.38611436 0.4365438 ]\n",
            " [0.61185443 0.58986294 0.6081442  0.44115818]\n",
            " [0.6487786  0.484282   0.4063125  0.3936072 ]\n",
            " [0.66551495 0.51045656 0.41395605 0.3703059 ]\n",
            " [0.5885928  0.47102168 0.41641888 0.4558017 ]\n",
            " [0.6133243  0.5262548  0.55149525 0.45303357]\n",
            " [0.56943434 0.5305992  0.42751917 0.4709319 ]\n",
            " [0.6381191  0.52452946 0.5110952  0.3877693 ]\n",
            " [0.6774553  0.50010765 0.4373125  0.3296027 ]\n",
            " [0.57219326 0.605146   0.5472798  0.47149697]\n",
            " [0.654991   0.5030294  0.5043104  0.409079  ]\n",
            " [0.5294553  0.6032092  0.6467273  0.4267992 ]\n",
            " [0.46720493 0.5215468  0.4509991  0.5728563 ]\n",
            " [0.6420387  0.41181996 0.35198268 0.34038833]\n",
            " [0.61242217 0.5724203  0.4368579  0.4006591 ]\n",
            " [0.595599   0.43394005 0.3322835  0.39213887]\n",
            " [0.4856873  0.51739126 0.49157864 0.55437803]\n",
            " [0.5889379  0.48041525 0.5310547  0.39758638]\n",
            " [0.5922473  0.5256584  0.38493952 0.4686064 ]\n",
            " [0.63541925 0.51530236 0.5615532  0.41962034]\n",
            " [0.5877708  0.5526671  0.6102679  0.4418755 ]\n",
            " [0.6256364  0.5518955  0.5549883  0.38499054]\n",
            " [0.64542925 0.52306646 0.45774153 0.39951202]\n",
            " [0.64592105 0.42802382 0.5323694  0.4118593 ]\n",
            " [0.568715   0.607365   0.5462219  0.43945327]\n",
            " [0.5717274  0.6486504  0.5067976  0.42221755]\n",
            " [0.690121   0.47030732 0.36000952 0.36928964]\n",
            " [0.46419394 0.5793056  0.5801121  0.53036773]\n",
            " [0.61381567 0.5716446  0.5152432  0.36932033]\n",
            " [0.6547979  0.48627055 0.37253636 0.3713812 ]\n",
            " [0.64995337 0.48256543 0.44799447 0.3892599 ]\n",
            " [0.51118636 0.6508598  0.53420776 0.46084678]\n",
            " [0.42969304 0.70785207 0.6205391  0.52259374]\n",
            " [0.63816005 0.6009907  0.5807952  0.32778457]\n",
            " [0.6540438  0.55297965 0.46771345 0.4004721 ]\n",
            " [0.5733401  0.6500196  0.576988   0.423361  ]\n",
            " [0.62491655 0.61119485 0.42982182 0.38890445]\n",
            " [0.5792872  0.5907721  0.5278142  0.40712687]\n",
            " [0.5890686  0.577366   0.49956962 0.4209351 ]\n",
            " [0.6710506  0.45125708 0.43809178 0.37321326]\n",
            " [0.52671    0.5195041  0.5339791  0.5095726 ]\n",
            " [0.6472386  0.50545186 0.51541114 0.41255355]\n",
            " [0.5484389  0.6750284  0.6512697  0.41713825]\n",
            " [0.55855143 0.6303268  0.58896476 0.42646644]\n",
            " [0.533123   0.63667595 0.57060945 0.5166966 ]\n",
            " [0.5293372  0.6646611  0.49908522 0.4129879 ]\n",
            " [0.57625943 0.58454704 0.41027927 0.4402376 ]\n",
            " [0.57590276 0.5859856  0.6401407  0.40564674]\n",
            " [0.6139155  0.53824407 0.3914243  0.36988145]\n",
            " [0.49226102 0.71276927 0.61570466 0.43410397]\n",
            " [0.5536023  0.6586594  0.6032296  0.41262585]\n",
            " [0.514077   0.69585437 0.6128033  0.4264088 ]\n",
            " [0.5701972  0.61942816 0.51531506 0.38383317]\n",
            " [0.55635685 0.56303746 0.5143904  0.4261514 ]\n",
            " [0.6098279  0.60023856 0.5150819  0.35663342]\n",
            " [0.5769292  0.4845589  0.4046068  0.4399712 ]\n",
            " [0.62350047 0.40924793 0.33602726 0.35438108]\n",
            " [0.61739904 0.60962504 0.5790713  0.34899554]\n",
            " [0.6012138  0.5965139  0.5471606  0.35687828]\n",
            " [0.6103994  0.5721062  0.6077582  0.39649326]\n",
            " [0.4684614  0.49973637 0.36360416 0.5277953 ]\n",
            " [0.5794278  0.6023027  0.46855688 0.46247193]\n",
            " [0.5414075  0.65933555 0.5752648  0.42770797]\n",
            " [0.5521202  0.6037531  0.5754477  0.45690668]\n",
            " [0.5222099  0.69146603 0.57843435 0.43967935]\n",
            " [0.48496094 0.5913745  0.52734077 0.57358867]\n",
            " [0.660185   0.49567485 0.31191516 0.39406976]\n",
            " [0.57248867 0.5192543  0.54023504 0.48102784]\n",
            " [0.54050535 0.602829   0.5622321  0.43081602]\n",
            " [0.6133879  0.54538715 0.523777   0.4462062 ]\n",
            " [0.5584979  0.59049493 0.6157156  0.44789547]\n",
            " [0.6200078  0.5886264  0.5398458  0.32149965]\n",
            " [0.6101811  0.5923325  0.62027043 0.37794146]\n",
            " [0.511769   0.630756   0.46683758 0.45996705]\n",
            " [0.6081487  0.60426354 0.55372745 0.37511882]\n",
            " [0.5189383  0.68248063 0.65924364 0.44686645]\n",
            " [0.53613406 0.54642624 0.45178285 0.51336235]\n",
            " [0.4967534  0.39618665 0.4118522  0.5665643 ]\n",
            " [0.4631323  0.60263425 0.58582765 0.61026186]\n",
            " [0.5441104  0.5906304  0.56711066 0.41021726]\n",
            " [0.5253743  0.7013987  0.61154974 0.4541414 ]\n",
            " [0.5109019  0.69989485 0.56693906 0.42888916]\n",
            " [0.6103807  0.6328092  0.45733953 0.3958286 ]\n",
            " [0.494128   0.6968215  0.55198354 0.4878457 ]\n",
            " [0.46228313 0.61644644 0.5839338  0.50594074]\n",
            " [0.61903125 0.5732559  0.54856527 0.3749323 ]\n",
            " [0.57746977 0.6242154  0.65014124 0.40187538]\n",
            " [0.54622906 0.5412974  0.44932145 0.46819603]\n",
            " [0.6111537  0.5804282  0.52147114 0.3466319 ]\n",
            " [0.6334097  0.6225008  0.42166406 0.3723704 ]\n",
            " [0.6334687  0.53883487 0.50763345 0.35515368]\n",
            " [0.6216013  0.5966118  0.4648277  0.34258214]\n",
            " [0.5686375  0.6500607  0.44734994 0.39628986]\n",
            " [0.6590688  0.53704166 0.4825378  0.3360459 ]\n",
            " [0.46236864 0.6197334  0.5757507  0.51433766]\n",
            " [0.48669723 0.6217598  0.43612808 0.5192395 ]\n",
            " [0.5471656  0.64937735 0.54222345 0.46162665]\n",
            " [0.50547343 0.7184942  0.66890436 0.45067546]\n",
            " [0.62837523 0.44109827 0.42837766 0.40186903]\n",
            " [0.4754018  0.6469581  0.6068976  0.5119424 ]\n",
            " [0.58514935 0.52737516 0.45422694 0.44944844]\n",
            " [0.6238002  0.5556987  0.4980174  0.3944466 ]\n",
            " [0.5676483  0.5590565  0.49888113 0.3946749 ]]\n",
            "[0 1 2 0 1 0 0 0 1 0 0 1 0 0 0 1 0 1 0 0 0 0 0 0 0 1 0 0 2 0 1 0 0 0 0 0 1\n",
            " 1 0 0 0 0 1 0 2 0 0 0 0 0 0 1 0 2 1 1 1 1 0 1 1 1 0 1 1 0 1 0 0 2 0 0 1 0\n",
            " 1 1 0 0 0 1 0 0 1 0 0 0 1 2 0 1 0 0 1 0 0 1 0 0 0 0 0 0 0 0 0 0 1 0 2 3 0\n",
            " 0 0 3 0 0 0 2 0 0 0 1 1 0 2 0 0 0 1 1 0 0 1 0 1 0 0 2 0 1 1 1 1 1 2 0 1 1\n",
            " 1 1 1 0 0 0 0 0 0 3 1 1 1 1 1 0 0 1 0 2 0 2 1 0 1 1 3 3 1 1 1 1 1 1 0 2 0\n",
            " 0 0 0 0 1 0 1 1 1 1 0 1 0 0 0]\n"
          ]
        }
      ]
    },
    {
      "cell_type": "code",
      "execution_count": 77,
      "id": "e98ed4c1",
      "metadata": {
        "id": "e98ed4c1"
      },
      "outputs": [],
      "source": [
        "#y_pred3 = model_rna.predict_classes(X_test, batch_size=32, verbose=1)\n",
        "#y_pred3 = np_utils.to_categorical(y_pred3)\n",
        "#print(\"\\n\", metrics.classification_report(y_test, Y_pred3, digits=2))"
      ]
    },
    {
      "cell_type": "code",
      "execution_count": 78,
      "id": "0beb6f10",
      "metadata": {
        "id": "0beb6f10"
      },
      "outputs": [],
      "source": [
        "from sklearn.metrics import accuracy_score, f1_score, precision_score, recall_score, roc_curve, auc"
      ]
    },
    {
      "cell_type": "code",
      "execution_count": 79,
      "id": "090ffed6",
      "metadata": {
        "id": "090ffed6",
        "outputId": "9c27bdd0-e482-4bcb-c580-632f6c7c4ba2",
        "colab": {
          "base_uri": "https://localhost:8080/"
        }
      },
      "outputs": [
        {
          "output_type": "execute_result",
          "data": {
            "text/plain": [
              "0.3"
            ]
          },
          "metadata": {},
          "execution_count": 79
        }
      ],
      "source": [
        "accuracy_score(y_test, classes_x)"
      ]
    },
    {
      "cell_type": "code",
      "execution_count": 80,
      "id": "bca0a22e",
      "metadata": {
        "id": "bca0a22e",
        "colab": {
          "base_uri": "https://localhost:8080/"
        },
        "outputId": "b2a4c751-453e-44af-fc0d-f2f6fc7ee7c7"
      },
      "outputs": [
        {
          "output_type": "stream",
          "name": "stdout",
          "text": [
            "0.19650011446886448\n",
            "0.2175849177305745\n"
          ]
        },
        {
          "output_type": "stream",
          "name": "stderr",
          "text": [
            "/usr/local/lib/python3.10/dist-packages/sklearn/metrics/_classification.py:1344: UndefinedMetricWarning: Recall is ill-defined and being set to 0.0 in labels with no true samples. Use `zero_division` parameter to control this behavior.\n",
            "  _warn_prf(average, modifier, msg_start, len(result))\n"
          ]
        }
      ],
      "source": [
        "print(f1_score(y_test, classes_x, average=\"macro\"))\n",
        "#print(precision_score(y_test, classes_x, average=\"macro\"))\n",
        "print(recall_score(y_test, classes_x, average=\"macro\"))"
      ]
    },
    {
      "cell_type": "code",
      "execution_count": 80,
      "id": "48dc14dd",
      "metadata": {
        "id": "48dc14dd"
      },
      "outputs": [],
      "source": []
    },
    {
      "cell_type": "code",
      "execution_count": 90,
      "id": "fce610c3",
      "metadata": {
        "id": "fce610c3",
        "colab": {
          "base_uri": "https://localhost:8080/"
        },
        "outputId": "97246f1f-d19f-4d7e-ba9b-aff2a482851b"
      },
      "outputs": [
        {
          "output_type": "stream",
          "name": "stdout",
          "text": [
            "precision: [0.32142857 0.30434783 0.21428571 0.        ]\n",
            "recall: [0.46753247 0.3559322  0.046875   0.        ]\n",
            "fscore: [0.38095238 0.328125   0.07692308 0.        ]\n",
            "support: [77 59 64  0]\n"
          ]
        },
        {
          "output_type": "stream",
          "name": "stderr",
          "text": [
            "/usr/local/lib/python3.10/dist-packages/sklearn/metrics/_classification.py:1344: UndefinedMetricWarning: Recall and F-score are ill-defined and being set to 0.0 in labels with no true samples. Use `zero_division` parameter to control this behavior.\n",
            "  _warn_prf(average, modifier, msg_start, len(result))\n"
          ]
        }
      ],
      "source": [
        "from sklearn.metrics import precision_recall_fscore_support as score\n",
        "\n",
        "precision, recall, fscore, support = score(y_test, classes_x)\n",
        "\n",
        "print('precision: {}'.format(precision))\n",
        "print('recall: {}'.format(recall))\n",
        "print('fscore: {}'.format(fscore))\n",
        "print('support: {}'.format(support))"
      ]
    },
    {
      "cell_type": "code",
      "execution_count": 82,
      "id": "ae7866ce",
      "metadata": {
        "id": "ae7866ce"
      },
      "outputs": [],
      "source": [
        "from sklearn.metrics import confusion_matrix"
      ]
    },
    {
      "cell_type": "code",
      "execution_count": 83,
      "id": "17f8f0dd",
      "metadata": {
        "id": "17f8f0dd",
        "outputId": "249cdd1b-f89a-4eba-880d-23480b6bc22d",
        "colab": {
          "base_uri": "https://localhost:8080/",
          "height": 339
        }
      },
      "outputs": [
        {
          "output_type": "error",
          "ename": "AxisError",
          "evalue": "axis 1 is out of bounds for array of dimension 1",
          "traceback": [
            "\u001b[0;31m---------------------------------------------------------------------------\u001b[0m",
            "\u001b[0;31mAxisError\u001b[0m                                 Traceback (most recent call last)",
            "\u001b[0;32m<ipython-input-83-255502cab69b>\u001b[0m in \u001b[0;36m<cell line: 1>\u001b[0;34m()\u001b[0m\n\u001b[0;32m----> 1\u001b[0;31m \u001b[0my_test_arg\u001b[0m\u001b[0;34m=\u001b[0m\u001b[0mnp\u001b[0m\u001b[0;34m.\u001b[0m\u001b[0margmax\u001b[0m\u001b[0;34m(\u001b[0m\u001b[0my_test\u001b[0m\u001b[0;34m,\u001b[0m\u001b[0maxis\u001b[0m\u001b[0;34m=\u001b[0m\u001b[0;36m1\u001b[0m\u001b[0;34m)\u001b[0m\u001b[0;34m\u001b[0m\u001b[0;34m\u001b[0m\u001b[0m\n\u001b[0m\u001b[1;32m      2\u001b[0m \u001b[0my_pred3\u001b[0m \u001b[0;34m=\u001b[0m \u001b[0mnp\u001b[0m\u001b[0;34m.\u001b[0m\u001b[0margmax\u001b[0m\u001b[0;34m(\u001b[0m\u001b[0mmodel_rna\u001b[0m\u001b[0;34m.\u001b[0m\u001b[0mpredict\u001b[0m\u001b[0;34m(\u001b[0m\u001b[0mX_test\u001b[0m\u001b[0;34m)\u001b[0m\u001b[0;34m,\u001b[0m\u001b[0maxis\u001b[0m\u001b[0;34m=\u001b[0m\u001b[0;36m1\u001b[0m\u001b[0;34m)\u001b[0m\u001b[0;34m\u001b[0m\u001b[0;34m\u001b[0m\u001b[0m\n\u001b[1;32m      3\u001b[0m \u001b[0mprint\u001b[0m\u001b[0;34m(\u001b[0m\u001b[0;34m'Confusion Matrix'\u001b[0m\u001b[0;34m)\u001b[0m\u001b[0;34m\u001b[0m\u001b[0;34m\u001b[0m\u001b[0m\n\u001b[1;32m      4\u001b[0m \u001b[0mprint\u001b[0m\u001b[0;34m(\u001b[0m\u001b[0mconfusion_matrix\u001b[0m\u001b[0;34m(\u001b[0m\u001b[0my_test_arg\u001b[0m\u001b[0;34m,\u001b[0m \u001b[0my_pred3\u001b[0m\u001b[0;34m)\u001b[0m\u001b[0;34m)\u001b[0m\u001b[0;34m\u001b[0m\u001b[0;34m\u001b[0m\u001b[0m\n",
            "\u001b[0;32m/usr/local/lib/python3.10/dist-packages/numpy/core/fromnumeric.py\u001b[0m in \u001b[0;36margmax\u001b[0;34m(a, axis, out, keepdims)\u001b[0m\n\u001b[1;32m   1227\u001b[0m     \"\"\"\n\u001b[1;32m   1228\u001b[0m     \u001b[0mkwds\u001b[0m \u001b[0;34m=\u001b[0m \u001b[0;34m{\u001b[0m\u001b[0;34m'keepdims'\u001b[0m\u001b[0;34m:\u001b[0m \u001b[0mkeepdims\u001b[0m\u001b[0;34m}\u001b[0m \u001b[0;32mif\u001b[0m \u001b[0mkeepdims\u001b[0m \u001b[0;32mis\u001b[0m \u001b[0;32mnot\u001b[0m \u001b[0mnp\u001b[0m\u001b[0;34m.\u001b[0m\u001b[0m_NoValue\u001b[0m \u001b[0;32melse\u001b[0m \u001b[0;34m{\u001b[0m\u001b[0;34m}\u001b[0m\u001b[0;34m\u001b[0m\u001b[0;34m\u001b[0m\u001b[0m\n\u001b[0;32m-> 1229\u001b[0;31m     \u001b[0;32mreturn\u001b[0m \u001b[0m_wrapfunc\u001b[0m\u001b[0;34m(\u001b[0m\u001b[0ma\u001b[0m\u001b[0;34m,\u001b[0m \u001b[0;34m'argmax'\u001b[0m\u001b[0;34m,\u001b[0m \u001b[0maxis\u001b[0m\u001b[0;34m=\u001b[0m\u001b[0maxis\u001b[0m\u001b[0;34m,\u001b[0m \u001b[0mout\u001b[0m\u001b[0;34m=\u001b[0m\u001b[0mout\u001b[0m\u001b[0;34m,\u001b[0m \u001b[0;34m**\u001b[0m\u001b[0mkwds\u001b[0m\u001b[0;34m)\u001b[0m\u001b[0;34m\u001b[0m\u001b[0;34m\u001b[0m\u001b[0m\n\u001b[0m\u001b[1;32m   1230\u001b[0m \u001b[0;34m\u001b[0m\u001b[0m\n\u001b[1;32m   1231\u001b[0m \u001b[0;34m\u001b[0m\u001b[0m\n",
            "\u001b[0;32m/usr/local/lib/python3.10/dist-packages/numpy/core/fromnumeric.py\u001b[0m in \u001b[0;36m_wrapfunc\u001b[0;34m(obj, method, *args, **kwds)\u001b[0m\n\u001b[1;32m     57\u001b[0m \u001b[0;34m\u001b[0m\u001b[0m\n\u001b[1;32m     58\u001b[0m     \u001b[0;32mtry\u001b[0m\u001b[0;34m:\u001b[0m\u001b[0;34m\u001b[0m\u001b[0;34m\u001b[0m\u001b[0m\n\u001b[0;32m---> 59\u001b[0;31m         \u001b[0;32mreturn\u001b[0m \u001b[0mbound\u001b[0m\u001b[0;34m(\u001b[0m\u001b[0;34m*\u001b[0m\u001b[0margs\u001b[0m\u001b[0;34m,\u001b[0m \u001b[0;34m**\u001b[0m\u001b[0mkwds\u001b[0m\u001b[0;34m)\u001b[0m\u001b[0;34m\u001b[0m\u001b[0;34m\u001b[0m\u001b[0m\n\u001b[0m\u001b[1;32m     60\u001b[0m     \u001b[0;32mexcept\u001b[0m \u001b[0mTypeError\u001b[0m\u001b[0;34m:\u001b[0m\u001b[0;34m\u001b[0m\u001b[0;34m\u001b[0m\u001b[0m\n\u001b[1;32m     61\u001b[0m         \u001b[0;31m# A TypeError occurs if the object does have such a method in its\u001b[0m\u001b[0;34m\u001b[0m\u001b[0;34m\u001b[0m\u001b[0m\n",
            "\u001b[0;31mAxisError\u001b[0m: axis 1 is out of bounds for array of dimension 1"
          ]
        }
      ],
      "source": [
        "y_test_arg=np.argmax(y_test,axis=1)\n",
        "y_pred3 = np.argmax(model_rna.predict(X_test),axis=1)\n",
        "print('Confusion Matrix')\n",
        "print(confusion_matrix(y_test_arg, y_pred3))"
      ]
    },
    {
      "cell_type": "code",
      "source": [
        "fpr, tpr, thresholds = roc_curve(y_test_arg, classes_x, pos_label=2)\n",
        "auc(fpr, tpr)"
      ],
      "metadata": {
        "colab": {
          "base_uri": "https://localhost:8080/",
          "height": 158
        },
        "id": "3wXsqny18AXW",
        "outputId": "a4a0914e-0d57-46b7-811c-57bfc8349cb7"
      },
      "id": "3wXsqny18AXW",
      "execution_count": 84,
      "outputs": [
        {
          "output_type": "error",
          "ename": "NameError",
          "evalue": "name 'y_test_arg' is not defined",
          "traceback": [
            "\u001b[0;31m---------------------------------------------------------------------------\u001b[0m",
            "\u001b[0;31mNameError\u001b[0m                                 Traceback (most recent call last)",
            "\u001b[0;32m<ipython-input-84-eafab56a23db>\u001b[0m in \u001b[0;36m<cell line: 1>\u001b[0;34m()\u001b[0m\n\u001b[0;32m----> 1\u001b[0;31m \u001b[0mfpr\u001b[0m\u001b[0;34m,\u001b[0m \u001b[0mtpr\u001b[0m\u001b[0;34m,\u001b[0m \u001b[0mthresholds\u001b[0m \u001b[0;34m=\u001b[0m \u001b[0mroc_curve\u001b[0m\u001b[0;34m(\u001b[0m\u001b[0my_test_arg\u001b[0m\u001b[0;34m,\u001b[0m \u001b[0mclasses_x\u001b[0m\u001b[0;34m,\u001b[0m \u001b[0mpos_label\u001b[0m\u001b[0;34m=\u001b[0m\u001b[0;36m2\u001b[0m\u001b[0;34m)\u001b[0m\u001b[0;34m\u001b[0m\u001b[0;34m\u001b[0m\u001b[0m\n\u001b[0m\u001b[1;32m      2\u001b[0m \u001b[0mauc\u001b[0m\u001b[0;34m(\u001b[0m\u001b[0mfpr\u001b[0m\u001b[0;34m,\u001b[0m \u001b[0mtpr\u001b[0m\u001b[0;34m)\u001b[0m\u001b[0;34m\u001b[0m\u001b[0;34m\u001b[0m\u001b[0m\n",
            "\u001b[0;31mNameError\u001b[0m: name 'y_test_arg' is not defined"
          ]
        }
      ]
    },
    {
      "cell_type": "markdown",
      "id": "045e6bb9",
      "metadata": {
        "id": "045e6bb9"
      },
      "source": [
        "### Xgboost"
      ]
    },
    {
      "cell_type": "code",
      "execution_count": 85,
      "id": "733ba490",
      "metadata": {
        "id": "733ba490"
      },
      "outputs": [],
      "source": [
        "from sklearn.model_selection import cross_val_score, KFold\n",
        "import xgboost as xgb"
      ]
    },
    {
      "cell_type": "code",
      "execution_count": 86,
      "id": "4659e984",
      "metadata": {
        "id": "4659e984"
      },
      "outputs": [],
      "source": [
        "#Definición del modelo\n",
        "xg_class = xgb.XGBClassifier(objective ='multi:softprob', colsample_bytree = 1, learning_rate = 0.1,\n",
        "                max_depth = 5, alpha = 10, n_estimators = 100)"
      ]
    },
    {
      "cell_type": "code",
      "source": [
        "from sklearn.preprocessing import LabelEncoder\n",
        "le = LabelEncoder()\n",
        "y_train = le.fit_transform(y_train)"
      ],
      "metadata": {
        "id": "CF-_y9Rh9lt9"
      },
      "id": "CF-_y9Rh9lt9",
      "execution_count": 87,
      "outputs": []
    },
    {
      "cell_type": "code",
      "execution_count": 91,
      "id": "a11d4f63",
      "metadata": {
        "id": "a11d4f63",
        "colab": {
          "base_uri": "https://localhost:8080/",
          "height": 284
        },
        "outputId": "d0e2fc50-b33a-4c21-a8a9-b97cc956681e"
      },
      "outputs": [
        {
          "output_type": "stream",
          "name": "stderr",
          "text": [
            "/usr/local/lib/python3.10/dist-packages/xgboost/sklearn.py:889: UserWarning: `eval_metric` in `fit` method is deprecated for better compatibility with scikit-learn, use `eval_metric` in constructor or`set_params` instead.\n",
            "  warnings.warn(\n"
          ]
        },
        {
          "output_type": "execute_result",
          "data": {
            "text/plain": [
              "XGBClassifier(alpha=10, base_score=None, booster=None, callbacks=None,\n",
              "              colsample_bylevel=None, colsample_bynode=None, colsample_bytree=1,\n",
              "              device=None, early_stopping_rounds=None, enable_categorical=False,\n",
              "              eval_metric=None, feature_types=None, gamma=None,\n",
              "              grow_policy=None, importance_type=None,\n",
              "              interaction_constraints=None, learning_rate=0.1, max_bin=None,\n",
              "              max_cat_threshold=None, max_cat_to_onehot=None,\n",
              "              max_delta_step=None, max_depth=5, max_leaves=None,\n",
              "              min_child_weight=None, missing=nan, monotone_constraints=None,\n",
              "              multi_strategy=None, n_estimators=100, n_jobs=None,\n",
              "              num_parallel_tree=None, ...)"
            ],
            "text/html": [
              "<style>#sk-container-id-2 {color: black;background-color: white;}#sk-container-id-2 pre{padding: 0;}#sk-container-id-2 div.sk-toggleable {background-color: white;}#sk-container-id-2 label.sk-toggleable__label {cursor: pointer;display: block;width: 100%;margin-bottom: 0;padding: 0.3em;box-sizing: border-box;text-align: center;}#sk-container-id-2 label.sk-toggleable__label-arrow:before {content: \"▸\";float: left;margin-right: 0.25em;color: #696969;}#sk-container-id-2 label.sk-toggleable__label-arrow:hover:before {color: black;}#sk-container-id-2 div.sk-estimator:hover label.sk-toggleable__label-arrow:before {color: black;}#sk-container-id-2 div.sk-toggleable__content {max-height: 0;max-width: 0;overflow: hidden;text-align: left;background-color: #f0f8ff;}#sk-container-id-2 div.sk-toggleable__content pre {margin: 0.2em;color: black;border-radius: 0.25em;background-color: #f0f8ff;}#sk-container-id-2 input.sk-toggleable__control:checked~div.sk-toggleable__content {max-height: 200px;max-width: 100%;overflow: auto;}#sk-container-id-2 input.sk-toggleable__control:checked~label.sk-toggleable__label-arrow:before {content: \"▾\";}#sk-container-id-2 div.sk-estimator input.sk-toggleable__control:checked~label.sk-toggleable__label {background-color: #d4ebff;}#sk-container-id-2 div.sk-label input.sk-toggleable__control:checked~label.sk-toggleable__label {background-color: #d4ebff;}#sk-container-id-2 input.sk-hidden--visually {border: 0;clip: rect(1px 1px 1px 1px);clip: rect(1px, 1px, 1px, 1px);height: 1px;margin: -1px;overflow: hidden;padding: 0;position: absolute;width: 1px;}#sk-container-id-2 div.sk-estimator {font-family: monospace;background-color: #f0f8ff;border: 1px dotted black;border-radius: 0.25em;box-sizing: border-box;margin-bottom: 0.5em;}#sk-container-id-2 div.sk-estimator:hover {background-color: #d4ebff;}#sk-container-id-2 div.sk-parallel-item::after {content: \"\";width: 100%;border-bottom: 1px solid gray;flex-grow: 1;}#sk-container-id-2 div.sk-label:hover label.sk-toggleable__label {background-color: #d4ebff;}#sk-container-id-2 div.sk-serial::before {content: \"\";position: absolute;border-left: 1px solid gray;box-sizing: border-box;top: 0;bottom: 0;left: 50%;z-index: 0;}#sk-container-id-2 div.sk-serial {display: flex;flex-direction: column;align-items: center;background-color: white;padding-right: 0.2em;padding-left: 0.2em;position: relative;}#sk-container-id-2 div.sk-item {position: relative;z-index: 1;}#sk-container-id-2 div.sk-parallel {display: flex;align-items: stretch;justify-content: center;background-color: white;position: relative;}#sk-container-id-2 div.sk-item::before, #sk-container-id-2 div.sk-parallel-item::before {content: \"\";position: absolute;border-left: 1px solid gray;box-sizing: border-box;top: 0;bottom: 0;left: 50%;z-index: -1;}#sk-container-id-2 div.sk-parallel-item {display: flex;flex-direction: column;z-index: 1;position: relative;background-color: white;}#sk-container-id-2 div.sk-parallel-item:first-child::after {align-self: flex-end;width: 50%;}#sk-container-id-2 div.sk-parallel-item:last-child::after {align-self: flex-start;width: 50%;}#sk-container-id-2 div.sk-parallel-item:only-child::after {width: 0;}#sk-container-id-2 div.sk-dashed-wrapped {border: 1px dashed gray;margin: 0 0.4em 0.5em 0.4em;box-sizing: border-box;padding-bottom: 0.4em;background-color: white;}#sk-container-id-2 div.sk-label label {font-family: monospace;font-weight: bold;display: inline-block;line-height: 1.2em;}#sk-container-id-2 div.sk-label-container {text-align: center;}#sk-container-id-2 div.sk-container {/* jupyter's `normalize.less` sets `[hidden] { display: none; }` but bootstrap.min.css set `[hidden] { display: none !important; }` so we also need the `!important` here to be able to override the default hidden behavior on the sphinx rendered scikit-learn.org. See: https://github.com/scikit-learn/scikit-learn/issues/21755 */display: inline-block !important;position: relative;}#sk-container-id-2 div.sk-text-repr-fallback {display: none;}</style><div id=\"sk-container-id-2\" class=\"sk-top-container\"><div class=\"sk-text-repr-fallback\"><pre>XGBClassifier(alpha=10, base_score=None, booster=None, callbacks=None,\n",
              "              colsample_bylevel=None, colsample_bynode=None, colsample_bytree=1,\n",
              "              device=None, early_stopping_rounds=None, enable_categorical=False,\n",
              "              eval_metric=None, feature_types=None, gamma=None,\n",
              "              grow_policy=None, importance_type=None,\n",
              "              interaction_constraints=None, learning_rate=0.1, max_bin=None,\n",
              "              max_cat_threshold=None, max_cat_to_onehot=None,\n",
              "              max_delta_step=None, max_depth=5, max_leaves=None,\n",
              "              min_child_weight=None, missing=nan, monotone_constraints=None,\n",
              "              multi_strategy=None, n_estimators=100, n_jobs=None,\n",
              "              num_parallel_tree=None, ...)</pre><b>In a Jupyter environment, please rerun this cell to show the HTML representation or trust the notebook. <br />On GitHub, the HTML representation is unable to render, please try loading this page with nbviewer.org.</b></div><div class=\"sk-container\" hidden><div class=\"sk-item\"><div class=\"sk-estimator sk-toggleable\"><input class=\"sk-toggleable__control sk-hidden--visually\" id=\"sk-estimator-id-2\" type=\"checkbox\" checked><label for=\"sk-estimator-id-2\" class=\"sk-toggleable__label sk-toggleable__label-arrow\">XGBClassifier</label><div class=\"sk-toggleable__content\"><pre>XGBClassifier(alpha=10, base_score=None, booster=None, callbacks=None,\n",
              "              colsample_bylevel=None, colsample_bynode=None, colsample_bytree=1,\n",
              "              device=None, early_stopping_rounds=None, enable_categorical=False,\n",
              "              eval_metric=None, feature_types=None, gamma=None,\n",
              "              grow_policy=None, importance_type=None,\n",
              "              interaction_constraints=None, learning_rate=0.1, max_bin=None,\n",
              "              max_cat_threshold=None, max_cat_to_onehot=None,\n",
              "              max_delta_step=None, max_depth=5, max_leaves=None,\n",
              "              min_child_weight=None, missing=nan, monotone_constraints=None,\n",
              "              multi_strategy=None, n_estimators=100, n_jobs=None,\n",
              "              num_parallel_tree=None, ...)</pre></div></div></div></div></div>"
            ]
          },
          "metadata": {},
          "execution_count": 91
        }
      ],
      "source": [
        "#Entrenamiento del modelo\n",
        "xg_class.fit(X_train, y_train,\n",
        "             eval_set=[(X_train, y_train), (X_test, y_test)],\n",
        "             eval_metric='mlogloss',\n",
        "             verbose=False)"
      ]
    },
    {
      "cell_type": "code",
      "execution_count": 92,
      "id": "8b3271c3",
      "metadata": {
        "id": "8b3271c3",
        "colab": {
          "base_uri": "https://localhost:8080/"
        },
        "outputId": "7534c27d-c30a-4f83-f834-9c251c3314d3"
      },
      "outputs": [
        {
          "output_type": "stream",
          "name": "stdout",
          "text": [
            "Mean cross-validation score: 0.37\n",
            "\n",
            "               precision    recall  f1-score   support\n",
            "\n",
            "           0       0.44      0.25      0.32        77\n",
            "           1       0.34      0.29      0.31        59\n",
            "           2       0.36      0.59      0.44        64\n",
            "\n",
            "    accuracy                           0.37       200\n",
            "   macro avg       0.38      0.38      0.36       200\n",
            "weighted avg       0.38      0.37      0.36       200\n",
            "\n"
          ]
        }
      ],
      "source": [
        "#Entrenamiento y validación cruzada mediante k-fold\n",
        "scores = cross_val_score(xg_class, X_train, y_train, cv=5)\n",
        "print(\"Mean cross-validation score: %.2f\" % scores.mean())\n",
        "\n",
        "# Calcular métricas de desempeño\n",
        "y_pred4 = xg_class.predict(X_test)\n",
        "print(\"\\n\", metrics.classification_report(y_test, y_pred4, digits=2))"
      ]
    }
  ],
  "metadata": {
    "kernelspec": {
      "display_name": "Python (bertgpu)",
      "language": "python",
      "name": "bertgpu"
    },
    "language_info": {
      "codemirror_mode": {
        "name": "ipython",
        "version": 3
      },
      "file_extension": ".py",
      "mimetype": "text/x-python",
      "name": "python",
      "nbconvert_exporter": "python",
      "pygments_lexer": "ipython3",
      "version": "3.7.10"
    },
    "colab": {
      "provenance": [],
      "collapsed_sections": [
        "61689bc2"
      ]
    }
  },
  "nbformat": 4,
  "nbformat_minor": 5
}