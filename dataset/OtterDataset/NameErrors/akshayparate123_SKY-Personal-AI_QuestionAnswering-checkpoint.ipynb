{
 "cells": [
  {
   "cell_type": "markdown",
   "id": "a7480c1e-f831-4f3b-a01f-15a86ca97220",
   "metadata": {},
   "source": [
    "# Dataset"
   ]
  },
  {
   "cell_type": "code",
   "execution_count": 2,
   "id": "95d21bd4-ce7b-4b96-a059-a4eda2b691f1",
   "metadata": {},
   "outputs": [
    {
     "name": "stderr",
     "output_type": "stream",
     "text": [
      "C:\\Users\\Akshay\\anaconda3\\envs\\tf\\lib\\site-packages\\tqdm\\auto.py:21: TqdmWarning: IProgress not found. Please update jupyter and ipywidgets. See https://ipywidgets.readthedocs.io/en/stable/user_install.html\n",
      "  from .autonotebook import tqdm as notebook_tqdm\n"
     ]
    }
   ],
   "source": [
    "from datasets import load_dataset\n",
    "import warnings\n",
    "import pandas as pd\n",
    "import numpy as np\n",
    "import matplotlib.pyplot as plt\n",
    "from transformers import BartForConditionalGeneration, BartTokenizer, Trainer, TrainingArguments, DataCollatorForSeq2Seq\n",
    "from sklearn.model_selection import train_test_split\n",
    "warnings.filterwarnings(\"ignore\")"
   ]
  },
  {
   "cell_type": "markdown",
   "id": "8635756e-1702-409f-b5e1-5027d823d508",
   "metadata": {},
   "source": [
    "## Data Fetching"
   ]
  },
  {
   "cell_type": "markdown",
   "id": "c297a7be-31ef-4e4c-9ec5-4b475df274e4",
   "metadata": {
    "jp-MarkdownHeadingCollapsed": true
   },
   "source": [
    "### Dataset 1"
   ]
  },
  {
   "cell_type": "code",
   "execution_count": 56,
   "id": "d9587a99-e7d8-4778-9150-714e51a916cd",
   "metadata": {},
   "outputs": [],
   "source": [
    "dataset = load_dataset(\"Isotonic/human_assistant_conversation_deduped\")"
   ]
  },
  {
   "cell_type": "code",
   "execution_count": 57,
   "id": "a1ccba55-25a7-4097-99f9-261b860876c3",
   "metadata": {},
   "outputs": [],
   "source": [
    "# dataset[\"train\"][\"text\"]"
   ]
  },
  {
   "cell_type": "markdown",
   "id": "3b53bf40-fbae-42d6-8f3d-54b1afe519b6",
   "metadata": {},
   "source": [
    "### Dataset 2"
   ]
  },
  {
   "cell_type": "code",
   "execution_count": 58,
   "id": "26ddc789-6fb4-4446-b6fb-10228ac16d23",
   "metadata": {},
   "outputs": [],
   "source": [
    "dataset_2 = load_dataset(\"li2017dailydialog/daily_dialog\",trust_remote_code=True)"
   ]
  },
  {
   "cell_type": "markdown",
   "id": "ad4a1805-af07-4c5c-bd53-866b64412b76",
   "metadata": {
    "jp-MarkdownHeadingCollapsed": true
   },
   "source": [
    "### Dataset 3"
   ]
  },
  {
   "cell_type": "code",
   "execution_count": 59,
   "id": "79429322-b1f6-48db-9c4c-346da71e512e",
   "metadata": {},
   "outputs": [],
   "source": [
    "dataset_3 = load_dataset(\"benjaminbeilharz/better_daily_dialog\")"
   ]
  },
  {
   "cell_type": "code",
   "execution_count": 60,
   "id": "5bfadc6a-cb3f-48f6-a5e1-7e7d14d79bf4",
   "metadata": {
    "scrolled": true
   },
   "outputs": [
    {
     "data": {
      "text/plain": [
       "['Say , Jim , how about going for a few beers after dinner ? ',\n",
       " ' You know that is tempting but is really not good for our fitness . ',\n",
       " ' What do you mean ? It will help us to relax . ',\n",
       " \" Do you really think so ? I don't . It will just make us fat and act silly . Remember last time ? \",\n",
       " \" I guess you are right.But what shall we do ? I don't feel like sitting at home . \",\n",
       " ' I suggest a walk over to the gym where we can play singsong and meet some of our friends . ',\n",
       " \" That's a good idea . I hear Mary and Sally often go there to play pingpong.Perhaps we can make a foursome with them . \",\n",
       " ' Sounds great to me ! If they are willing , we could ask them to go dancing with us.That is excellent exercise and fun , too . ',\n",
       " \" Good.Let ' s go now . \",\n",
       " ' All right . ',\n",
       " 'Can you do push-ups ? ',\n",
       " \" Of course I can . It's a piece of cake ! Believe it or not , I can do 30 push-ups a minute . \",\n",
       " \" Really ? I think that's impossible ! \",\n",
       " ' You mean 30 push-ups ? ',\n",
       " ' Yeah ! ',\n",
       " \" It's easy . If you do exercise everyday , you can make it , too . \",\n",
       " 'Can you study with the radio on ? ',\n",
       " ' No , I listen to background music . ',\n",
       " ' What is the difference ? ',\n",
       " ' The radio has too many comerials . ',\n",
       " \" That's true , but then you have to buy a record player . \",\n",
       " 'Are you all right ? ',\n",
       " ' I will be all right soon . I was terrified when I watched them fall from the wire . ',\n",
       " \" Don't worry.He is an acrobat 。 \",\n",
       " ' I see . ',\n",
       " 'Hey John , nice skates . Are they new ? ',\n",
       " ' Yeah , I just got them . I started playing ice hockey in a community league . So , I finally got myself new skates . ',\n",
       " ' What position do you play ? ',\n",
       " ' I ’ m a defender . It ’ s a lot of fun . You don ’ t have to be able to skate as fast on defense . ',\n",
       " ' Yeah , you ’ re a pretty big guy . I play goalie , myself . ',\n",
       " ' Oh , yeah ? Which team ? ',\n",
       " ' The Rockets . ',\n",
       " ' Really ? I think we play you guys next week . Well , I have to go to practice . See you later . ',\n",
       " ' All right , see you later . ',\n",
       " 'Hey Lydia , what are you reading ? ',\n",
       " ' I ’ m looking at my horoscope for this month ! My outlook is very positive . It says that I should take a vacation to someplace exotic , and that I will have a passionate summer fling ! ',\n",
       " ' What are you talking about ? Let me see that ... What are horoscopes ? ',\n",
       " ' It ’ s a prediction of your month , based on your zodiac sign . You have a different sign for the month and date you were born in . I was born on April 15th , so I ’ m an Aries . When were you born ? ',\n",
       " ' January 5th . ',\n",
       " ' Let ’ s see . . . you ’ re a Capricorn . It says that you will be feeling stress at work , but you could see new , exciting developments in your love life . Looks like we ’ ll both have interesting summers ! ',\n",
       " \" That ’ s bogus . I don't feel any stress at work , and my love life is practically nonexistent . This zodiac stuff is all a bunch of nonsense . \",\n",
       " ' No , it ’ s not , your astrology sign can tell you a lot about your personality . See ? It says that an Aries is energetic and loves to socialize . ',\n",
       " ' Well , you certainly match those criteria , but they ’ re so broad they could apply to anyone . What does it say about me ? ',\n",
       " ' A Capricorn is serious-minded and practical . She likes to do things in conventional ways . That sounds just like you ! ',\n",
       " 'Frank ’ s getting married , do you believe this ? ',\n",
       " ' Is he really ? ',\n",
       " ' Yes , he is . He loves the girl very much . ',\n",
       " ' Who is he marring ? ',\n",
       " ' A girl he met on holiday in Spain , I think . ',\n",
       " ' Have they set a date for the wedding ? ',\n",
       " ' Not yet . ',\n",
       " 'I hear you bought a new house in the northern suburbs . ',\n",
       " ' That ’ s right , we bought it the same day we came on the market . ',\n",
       " ' What kind of house is it ? ',\n",
       " ' It ’ s a wonderful Spanish style . ',\n",
       " ' Oh , I love the roof tiles on Spanish style houses . ',\n",
       " ' And it ’ s a bargaining . A house like this in river side costs double the price . ',\n",
       " ' Great , is it a two bedroom house ? ',\n",
       " ' No , it has three bedrooms and three beds , and has a living room with a twelve-foot ceiling . There ’ s a two-car garage . ',\n",
       " ' That ’ s a nice area too . It ’ ll be a good investment for you . ',\n",
       " ' Yeas , when will you buy a house ? ',\n",
       " ' Not untill the end of this year , you know , just before my wedding . ',\n",
       " ' Right , congratulations . ',\n",
       " ' Thank you . ',\n",
       " \"Hi , Becky , what's up ? \",\n",
       " ' Not much , except that my mother-in-law is driving me up the wall . ',\n",
       " \" What's the problem ? \",\n",
       " \" She loves to nit-pick and criticizes everything that I do . I can never do anything right when she's around . \",\n",
       " ' For example ? ',\n",
       " \" Well , last week I invited her over to dinner . My husband and I had no problem with the food , but if you listened to her , then it would seem like I fed her old meat and rotten vegetables . There's just nothing can please her . \",\n",
       " \" No , I can't see that happening . I know you're a good cook and nothing like that would ever happen . \",\n",
       " \" It's not just that . She also criticizes how we raise the kids . \",\n",
       " \" My mother-in-law used to do the same thing to us . If it wasn't disciplining them enough , then we were disciplining them too much . She also complained about the food we fed them , the schools we sent them too , and everything else under the sun . \",\n",
       " ' You said she used to ? How did you stop her ? ',\n",
       " \" We basically sat her down and told her how we felt about her constant criticizing , and how we welcomed her advice but hoped she'd let us do our things . She understood , and now everything is a lot more peaceful . \",\n",
       " \" That sounds like a good idea . I'll have to try that . \",\n",
       " \"How are Zina's new programmers working out ? \",\n",
       " \" I hate to admit it , but they're good . And fast . The Filipino kid is a genius . \",\n",
       " \" So you'll make the Stars.com deadline , and have us up and running next week ? \",\n",
       " \" It'll be close , but we'll make it . \",\n",
       " \" Good . After Stars.com starts paying us , we won't need Vikam's cash anymore . \",\n",
       " \" And if we don't need them , we won't need Zina , either . \",\n",
       " 'Do you like cooking ? ',\n",
       " ' Yes . I like cooking very much . I got this hobby when I was 12 years sold . ',\n",
       " ' Why do you like it ? ',\n",
       " ' I have no idea . I like cooking by myself . I like to taste delicious food . ',\n",
       " \" That's wonderful ! \",\n",
       " ' And I love trying new recipes , which I usually test with my friends . You can come , too . ',\n",
       " \" Really ? I hope I can have a chance to taste it . Don't forget to tell me . \",\n",
       " ' Certainly . ',\n",
       " 'Anyone home ? Jen ! ',\n",
       " \" I'm in the kitchen ... let yourself in ! \",\n",
       " \" Wow ! You're really working up a storm ! \",\n",
       " \" I know . I've even worked up a sweat . \",\n",
       " ' You look like a cooking show host--only messier . ',\n",
       " 'You look so tan and healthy ! ',\n",
       " ' Thanks . I just got back from summer camp . ',\n",
       " ' How was it ? ',\n",
       " ' Great . I got to try so many things for the first time . ',\n",
       " ' Like what ? ',\n",
       " ' I went sailing , fishing , and horseback riding . ',\n",
       " ' I ’ m so jealous . ',\n",
       " ' The counselors were so nice too . It was the best summer ever . Except for all those mosquitoes ! ',\n",
       " 'Diana , do you like the perfume I gave you ? ',\n",
       " ' It ’ s good . But to tell you the truth , I don ’ t wear perfume . ',\n",
       " ' I ’ m sorry . I didn ’ t know that . ',\n",
       " ' That ’ s all right . Thank you all the same . ',\n",
       " 'Ah , ah , ah ... ',\n",
       " \" All right , Bill.Here ' s your daily exercise schedule . You are to jog before breakfast . \",\n",
       " ' Jog ? ',\n",
       " ' Then , you are to walk to work . ',\n",
       " ' Walk ? ',\n",
       " ' Thirty minutes in gym at lunch time . ',\n",
       " ' Oh no . ',\n",
       " ' Use the stairs , never the elevator . ',\n",
       " ' Oh , dear . ',\n",
       " ' And three times a week , you can either swim , play racketball , or hand ball . ',\n",
       " ' Oh no . ',\n",
       " \" OK , you can stop now.It ' s time for the dance class . \",\n",
       " \" Dance class ! I don't know how . \",\n",
       " ' You will . ',\n",
       " ' Oh ... ',\n",
       " 'Hi Bill , I saw your grandma yesterday . ',\n",
       " ' Oh where was that ? ',\n",
       " ' I was running around the track at my college and there she was walking around the same track . ',\n",
       " ' Grannie always tries to stay fit and healthy.She is always making us kids eat the proper foods . ',\n",
       " ' Well , it pays off for her.How old is she anyway ? ',\n",
       " ' She will be 86 next month . ',\n",
       " ' That is truly amazing ! ',\n",
       " 'I would like to register for a class today . ',\n",
       " ' No problem , what class would you like to take ? ',\n",
       " \" I would very much enjoy taking a Psychology class.Because I'm crazy . \",\n",
       " ' There are two classes that are still open . ',\n",
       " ' Which days are these classes on ? ',\n",
       " ' The first class is a Tuesday and Thursday class from two to three . ',\n",
       " ' What about the other class ? ',\n",
       " ' The other class is on Monday and Wednesday from 10 am - 12 . ',\n",
       " ' Are you sure there are no more open classes ? ',\n",
       " \" I'm positive . \",\n",
       " ' Sign me up for Monday and Wednesday . ',\n",
       " \" Okay , I'll sign you up . \",\n",
       " 'Dad , why are you taping the windows ? ',\n",
       " ' Honey , a typhoon is coming . ',\n",
       " \" Really ? Wow , I don't have to go to school tomorrow . \",\n",
       " ' Jenny , come and help , we need to prepare more food . ',\n",
       " \" OK . Dad ! I'm coming . \",\n",
       " \"Hi , my name is Lean , and I'm from Russia . \",\n",
       " \" Nice to meet you , Lean . My name is Alike . I'm from Japan . \",\n",
       " ' To me English is a difficult language . ',\n",
       " ' A second language is always difficult . ',\n",
       " \" True , but English is harder than most . It's a crazy language . \",\n",
       " ' A crazy language ? Why do you say that ? ',\n",
       " ' One letter can have several pronunciations and one word can have several meanings . ',\n",
       " ' No wonder you say English is a crazy language . ',\n",
       " 'Can I help you ? ',\n",
       " \" I hope so . I'm looking for some material for a paper I'm writing , and I'm not quite sure where to look . \",\n",
       " \" I'll certainly try to help you . What topic is your paper on ? \",\n",
       " ' My paper is on the influence of television on children . ',\n",
       " ' There are several possible sources you might use for that topic . I suggest you use the computer and the computer will give you a list of every scientific journal that talks about children and television . ',\n",
       " ' Thank you for you help . ',\n",
       " 'Here ’ s your hot dog and beer . What happened ? Did I miss anything ? ',\n",
       " ' Yeah , Cal Ripen just hit a home run . ',\n",
       " ' What ’ s the score ? ',\n",
       " ' Well it was 3 to 4 , but Ripen ’ s home run made it 5 to 4 since another player was on first base . ',\n",
       " ' So Baltimore is winning ? ',\n",
       " ' Right . ',\n",
       " ' This is a really great place to watch a baseball game . ',\n",
       " ' Yeah , there isn ’ t a bad seat in the place . ',\n",
       " ' The fans are great here , too . Not like in Philadelphia . ',\n",
       " ' It was a great idea to spend a day watching a game . ',\n",
       " ' Yeah , it reminds you why they say baseball is America ’ s favorite pastime . ',\n",
       " 'How do you like the pizza here ? ',\n",
       " ' Perfect . It really hits the spot . ',\n",
       " 'Do you have a light ? ',\n",
       " \" Sorry , I don't smoke . \",\n",
       " 'I was scared stiff of giving my first performance . ',\n",
       " ' Were you ? your performance was excellent . ',\n",
       " ' Thank you for your kindly words . ',\n",
       " 'Excuse me . Could you please take a picture of us with this camera ? ',\n",
       " ' Sure . Which button do I press to shoot ? ',\n",
       " ' This one . ',\n",
       " ' Do I have to focus it ? ',\n",
       " ' No , this is a focus-free camera . All you have to do is point and press the button . ',\n",
       " ' All right . Say cheese ! ',\n",
       " 'Every country should face the history . ',\n",
       " ' Yeah , we don ’ t live in the vacuum . We have traditional values and long but different history . ',\n",
       " ' Sometimes , we , human beings , really had done something wrong , so we should admit it at first . ',\n",
       " ' But there is always somebody who wants to turn his back on the true history . ',\n",
       " ' I believe such things won ’ t be realized , just daydreaming . ',\n",
       " 'Do you like traveling , Kathy ? ',\n",
       " ' I like traveling for pleasure to get places for vacation for instance . But I don ’ t like traveling to work , waiting for buses , or ... ',\n",
       " ' Or getting stuck in traffic jams when you ’ re driving . ',\n",
       " ' Exactly . ',\n",
       " 'Your house is too small . Why not buy a big one . ',\n",
       " ' I do wish I could afford one . ',\n",
       " ' You can get a loan from the bank . You know LPF program provides low cost loans for participants home purchases . ',\n",
       " \" Of course I know that . But don't you notice that the house price is skyrocketing ? \",\n",
       " 'How do you do , Prof.Smith . ',\n",
       " ' How do you do , Ms . Yang.You speak very good English . ',\n",
       " ' Thank you . I begin to like English even when I was a child . ',\n",
       " ' Where did you learn it ? ',\n",
       " ' At school , in China.This is my first time to be out of my own country . ',\n",
       " \" It's amazing . \",\n",
       " 'Do you want black or white coffee ? ',\n",
       " ' White , please ',\n",
       " \" Look ! there's a Folk concert tomorrow evening . Do you Want to go ? \",\n",
       " \" I don't like Folk music very much . \",\n",
       " ' What kind of music do you like ? ',\n",
       " ' I like classical music . Do you ? ',\n",
       " ' Not very much . Classical music sends me to sleep ',\n",
       " \" I don't believe you . \",\n",
       " ' It ’ s true . ',\n",
       " ' You are funny ! ',\n",
       " ' So are you ! How about another coffee ? ',\n",
       " 'What do you like to do in your spare time ? ',\n",
       " ' I like playing chess . ',\n",
       " ' Do you have any hobbies besides playing chess ? ',\n",
       " \" I'm afraid not . \",\n",
       " ' Do you have any hobbies like playing tennis or things like that ? ',\n",
       " ' Oh , yes . I like playing basketball . ',\n",
       " ' Can you tell me why you like it ? ',\n",
       " ' Because I like the feeling of cooperating with others . ',\n",
       " \"Where is John ? I can't find him anywhere . \",\n",
       " \" Haven't you heard that he is in prison ? \",\n",
       " ' What ? Beg your pardon . ',\n",
       " ' John is in prison now . He was copped outstealing . ',\n",
       " \" I just cann't believe my ears ! \",\n",
       " 'Can I help you ? ',\n",
       " \" I hope so . I'm looking for some material for a paper I'm writing , and I'm not quite sure where to look . \",\n",
       " \" I'll certainly try to help you.What topic is your paper on ? \",\n",
       " ' My paper is on the influence of television on children . ',\n",
       " ' There are several possible sources you might use for that topic . I suggest you use the computer and the computer will give you a list of every scientific journal that talks about children and television . ',\n",
       " ' Thank you for you help . ',\n",
       " 'Hey , Ted . What are you up to this Friday ? ',\n",
       " ' Well , I have the day off from work . ',\n",
       " ' That ’ s great ! Do you have any plans ? ',\n",
       " ' Well , I ’ Ve been working so hard lately , so I ’ ll probably just take it easy . ',\n",
       " ' Sounds nice . ',\n",
       " ' Yeah , I ’ ll probably just stay in and relax . Maybe watch a few movies . ',\n",
       " ' Can I stop by ? ',\n",
       " ' Sure . Any time . ',\n",
       " 'You honestly believe the world ’ s improving every year ? ',\n",
       " ' Yes , I do . I think that science is making us wiser . What do you think ? ',\n",
       " ' I don ’ t think you ’ re right there . ',\n",
       " ' I believe industry is making us wealthier . ',\n",
       " ' I don ’ t believe that . ',\n",
       " ' And in my opinion , medicine is making us healthier . ',\n",
       " ' I agree with you in the sense . But we ’ re all more miserable than ever , aren ’ t we ? ',\n",
       " ' I don ’ t agree with you . I maintain that we ’ re healthier , wealthier and wiser than we were a hundred years ago . ',\n",
       " ' That ’ s your opinion not mine . ',\n",
       " 'What do you plan to do for your birthday ? ',\n",
       " ' I want to have a picnic with my friends , Mum . ',\n",
       " ' How about a party at home ? That way we can get together and celebrate it . ',\n",
       " \" OK , Mum . I'll invite my friends home . \",\n",
       " 'How may I help you ? ',\n",
       " ' I would like to return this book . ',\n",
       " ' Is that all you need ? ',\n",
       " ' I also want to check out this video . ',\n",
       " ' Is that all you would like to check out ? ',\n",
       " ' That ’ s all I need . ',\n",
       " ' Do you have your library card ? ',\n",
       " ' Here it is . ',\n",
       " ' Make sure to take proper care of this video . ',\n",
       " ' That won ’ t be a problem . ',\n",
       " ' If you damage the video , you will be fined . ',\n",
       " ' I won ’ t damage it . ',\n",
       " \"What's the matter with you then ? You look miserable . \",\n",
       " \" It's us . \",\n",
       " ' What do you mean by us . ',\n",
       " \" Well , you always say you're busy . \",\n",
       " \" That's right . \",\n",
       " ' And you often go back to live with your parents and leave our son in the room by himself . ',\n",
       " ' I ... I ... I miss my parents , also they miss me . ',\n",
       " \" Oh I remember , I cut terrible calls , and you didn't say anything about it . \",\n",
       " ' You mean I am groaned a few words ? ',\n",
       " \" Totally not . Perhaps it's about our marriage . \",\n",
       " \"Hi , Mary . You look pale today . What's the matter with you ? \",\n",
       " \" I think I've caught a cold . Now I'm aching all over . \",\n",
       " \" You'd better take some medicine and have a good rest . I hope you'll be yourself pretty soon . \",\n",
       " ' Thank you . I suppose I should go to see a doctor . ',\n",
       " \"I feel like going for a drink , it's been a long day . \",\n",
       " ' Great idea ! Peter , I could use the drink . ',\n",
       " ' How about the new bar across road ? ',\n",
       " ' Sounds good . The food there is fantastic , too . ',\n",
       " ' I agree , I had lunch there last week . ',\n",
       " ' excellent ! That sounds like a plan . ',\n",
       " 'Could you tell me the right time , please ? ',\n",
       " ' Well . My watch says five past two . But it ’ s no use rely on it because it has been gaining and losing these last a few days . ',\n",
       " ' You have to go and fix it . ',\n",
       " ' Yes . I will . ',\n",
       " 'does your family have a record of your ancestors ? ',\n",
       " ' sure . My mom has been working on our family tree for years . She ’ s always updating it . ',\n",
       " ' do you have a copy of your family tree in your house ? I ’ d love to see it . ',\n",
       " ' I can show it to you now , if you like . I think it goes back about 8 generations so far . ',\n",
       " ' that ’ s amazing . Do you have a large extended family ? ',\n",
       " ' I ’ Ve got 30 cousins on my mom ’ s side and 10 cousins on my dad ’ s side . ',\n",
       " ' are you very close to your first-cousins ? ',\n",
       " ' the ones that are my age are close relatives . Now that I ’ m older , I don ’ t spend as much time with them as I used to , so I don ’ t know my younger cousins as well as the older ones . ',\n",
       " ' I see . who ’ s the head of your household ? ',\n",
       " ' it ’ s definitely my mother . And , her mother is definitely the matriarch of the bigger family . ',\n",
       " ' that ’ s interesting . What does your grandfather think of your step-mother ? ',\n",
       " ' at first , she was quite critical of her , but now that they ’ Ve been married for a few years , she ’ s starting to accept the fact that my father divorced my mother . ',\n",
       " ' that ’ s pretty much how you feel about your step-mother . Like grandmother , like grandson . ',\n",
       " 'Hi , Mr . Wang . Do you feel like going boating with me ? ',\n",
       " \" Sounds interesting , I haven't gone boating for some time now , and what time ? \",\n",
       " ' How about tomorrow afternoon ? ',\n",
       " ' Sure . Where shall I meet you ? ',\n",
       " ' At the gate of the park . ',\n",
       " ' Great . I look forward to meeting you . ',\n",
       " ' See you then . ',\n",
       " ' See you . ',\n",
       " \"I hear that you've been to the Saikei Ski Resort for the weekend . Did you enjoy it ? \",\n",
       " \" Yes , it's so exciting , though I had the most falls in our skiing team . \",\n",
       " \" Isn't there any coach to teach you how to ski ? \",\n",
       " ' Of course there is . The top-level coaches there are from the State Sports General Administration . ',\n",
       " ' Could you move smoothly ? ',\n",
       " ' Yes.My face even ached in the icy wind . ',\n",
       " ' What happened afterwards ? ',\n",
       " ' I was skiing on and on excitedly until I realized one thing-I could not stop ! You can just imagine how terrified I was . ',\n",
       " ' Poor girl ! ',\n",
       " 'You look pale recently . ',\n",
       " ' Yeah . I have got much pressure in the company . I have tobe wrapped upon my work . ',\n",
       " ' Take good care of yourself . ',\n",
       " ' Thank you . I will . ',\n",
       " 'Hey , Maggy , Did you hear about David ? ',\n",
       " ' About David ? No , I didn ’ t hear anything . ',\n",
       " ' You know , about David and his new boss . ',\n",
       " ' Sorry , I don ’ t quite follow you . ',\n",
       " ' Well , I heard David has been fired . ',\n",
       " ' Oh , that is a shame . He is really hard working . ',\n",
       " 'how do you usually get to school ? ',\n",
       " ' I usually ride my bike . Which form of transport do you prefer to use ? ',\n",
       " ' I feel that I can see more when I pedal a bicycle , but when I feel lazy , I drive my car . ',\n",
       " ' I think we should discourage people from using their private cars . They produce too much pollution ! ',\n",
       " \" I agree , but I would find it difficult to stop using my car . It's just so convenient . \",\n",
       " \" cars might be convenient , but they're so bad for the environment . \",\n",
       " ' do you have a car ? ',\n",
       " \" no . I used to have one though . Once I started using my bicycle to get around , I found that I didn't really need it . \",\n",
       " \" maybe if I sold my car now , I wouldn't be so tempted to use it . \",\n",
       " ' you could try . It would save you a lot of money . ',\n",
       " \" that's true . Every month , I spend hundreds of dollars on gas , insurance , and repairs . \",\n",
       " ' if you got to class by riding a bicycle every day instead of driving , you will get lots of exercise , too ! ',\n",
       " ' I could stand to lose a few pounds . Having a car has made me lazy . I never end up walking anywhere ! ',\n",
       " \" let's go to a car dealership . I'll help you try to sell your car for a good price . \",\n",
       " \" sounds good ! Let's go ! \",\n",
       " \"What's wrong with him ? \",\n",
       " ' His nose is out of joint because we forgot to invite him to the party . ',\n",
       " 'What are you going to do for one year abroad , Tom ? ',\n",
       " ' Study , study , study . I want to learn a lot . ',\n",
       " ' You are going to take courses ? ',\n",
       " ' Yes . I am going to take some university courses there . ',\n",
       " ' Sounds hard . ',\n",
       " \" Yes , but I think it's probably for the best . \",\n",
       " ' Won ’ t you get lonely ? ',\n",
       " \" Hey , I am a pretty cool guy . I will make friends , and I'll have a lot of extracurricular activities too . You know , like fencing , or theater or something . \",\n",
       " \"Isn't this lovely weather ? Will you help me water the flowers , Jack ? \",\n",
       " ' Well , do you think I have to ? ',\n",
       " \" I do.We haven't watered them for quite a few days . \",\n",
       " \" Please look at the sky.Don ' t you see the dark clouds ? It's going to rain soon . \",\n",
       " \" Good.So we don't have to work.How nice ! \",\n",
       " \" But I don't think it's so nice . \",\n",
       " ' Why ? ',\n",
       " \" The weather report says it's going to rain for a whole week . \",\n",
       " \" Oh , I'm afraid all the flowers will die in the rain . \",\n",
       " 'On , darn . The grocery store is closed . ',\n",
       " ' Yeah , this one closes at ten . We could drive to the 24 - hour store on sixth . ',\n",
       " ' Alright . We are out of everything . ',\n",
       " ' I wish the store close to us was open 24 - house a day . ',\n",
       " ' I know , our schedules are so weird . Sometimes , the little corner store is the only thing within walking distance that ’ s open when we get home . ',\n",
       " ' Yeah , and the prices there are very high . ',\n",
       " ' I know . Three dollars for milk . ',\n",
       " 'Do you think they two will get married ? ',\n",
       " ' You can count on it . ',\n",
       " ' I think so.Yes , they get along so well . ',\n",
       " \" I like him.He ' s good for her . \",\n",
       " \" You're right . He sure is . \",\n",
       " 'Dad , where are we off to ? ',\n",
       " ' First we will go to the city centre and stop for something to drink . Then we will visit the University Museum . ',\n",
       " ' Where are we going to have a drink ? ',\n",
       " ' There is a coffee shop round the corner . Can you see that big building at the end of the road ? ',\n",
       " ' Yes ? ',\n",
       " ' That is a bank . The coffee shop is opposite the bank . ',\n",
       " ' Good . I will have hot chocolate . ',\n",
       " ' A stop ! Wait for the lights to turn green . ',\n",
       " \" When crossing the road you must always pay attention to what's around you . \",\n",
       " ' Sorry . How far is the museum ? ',\n",
       " ' I am not sure . We will ask for directions in the coffee shop . ',\n",
       " \" Here we are . You find us a table and I'll get the drinks . \",\n",
       " 'How about going to the cinema tonight ? ',\n",
       " \" That's great . What's on tonight ? \",\n",
       " \" I am not sure about the name of the film , but I know it's a romantic one . \",\n",
       " ' Romantic ? I am afraid I like thrillers better . ',\n",
       " \" Don't you think it's too bloody ? \",\n",
       " ' On the contrary , very exciting . ',\n",
       " 'I feel so uncomfortable . ',\n",
       " ' Are you sick ? ',\n",
       " ' No . The teacher is dragging the chalk over the blackboard . It set my teeth on edge . ',\n",
       " ' He ’ ll finish writing in a minute . ',\n",
       " 'I have made up my mind . I am getting a tattoo . ',\n",
       " ' Really ? Are you sure ? ',\n",
       " ' Yeah ! Why not ? They are trendy and look great ! I want to get a dragon on my arm or maybe a tiger on my back . ',\n",
       " ' Yeah but , it is something that you will have forever ! They use indelible ink that can only be removed with laser treatment . On top of all that , I have heard it hurts a lot ! ',\n",
       " ' Really ? ',\n",
       " ' Of course ! They use this machine with a needle that pokes your skin and inserts the ink . ',\n",
       " ' Oh , I didn ’ t know that ! I thought they just paint it on your skin or something . ',\n",
       " ' I think you should reconsider and do some more research about tattoos . Also , find out where the nearest tattoo parlor is and make sure they used sterilized needles , and that the place is hygienic . ',\n",
       " ' Maybe I should just get a tongue piercing ! ',\n",
       " \"Excuse me , what's the screen near your steering wheel for ? \",\n",
       " \" It's a portable TV . It's a popular thing now . \",\n",
       " \" Oh , that's new to me . So what's on everyday ? \",\n",
       " ' News about current affairs , documentaries , music , movies , noncommercial ads and so on . ',\n",
       " ' Is there anything interesting ? ',\n",
       " ' Yes , there are something good and informative . I think that many people underestimate the value of TV in education . ',\n",
       " ' I agree . Are there any commercials on the TV ? ',\n",
       " ' Of course . Because the TV stations need to make money from commercials between the programs . ',\n",
       " ' That makes a lot of sense . Does the TV work well ? ',\n",
       " ' Not always . It depends on the transmission of the satellite signals . ',\n",
       " ' I got it . Do you pay for the programs ? ',\n",
       " ' Yes , 50 Yuan per month . ',\n",
       " 'Oh , no ! ',\n",
       " ' How dreadful ! ',\n",
       " ' Look at the view from the window . ',\n",
       " ' Oh , dear . That ’ s terrible . Not at all what I expected . ',\n",
       " ' It ’ s awful , isn ’ t it ? ',\n",
       " ' I can ’ t bear to look at it . I ’ m rather disappointed . ',\n",
       " ' It can ’ t be helped . ',\n",
       " 'What do you do in your free time , Nancy ? ',\n",
       " ' Well , I like playing the violin . ',\n",
       " ' Really ? How long have you been playing the violin ? ',\n",
       " ' About ten years so far . I started learning when I was in middle school . ',\n",
       " \" That's really interesting . \",\n",
       " ' Sure . So what about you ? Do you have any hobbies ? ',\n",
       " \" Well , I like collecting matchbox ! I'm not sure if that counts , though . \",\n",
       " ' Of course it does . Everybody has his own hobby . ',\n",
       " 'How can I tell her about this ? ',\n",
       " \" Don't worry , you'll find a way . \",\n",
       " ' There is no need to be so frustrated . ',\n",
       " ' How can you live without job in the future ? ',\n",
       " \" Don't worry , you'll find a way . \",\n",
       " 'What sports do you like to play ? ',\n",
       " ' I like baseball and basketball . ',\n",
       " ' How about football ? ',\n",
       " ' In my country football is brand new , so I never learned the game when I was younger . ',\n",
       " \" It's a very popular game in America . \",\n",
       " ' Yeah . I heard a lot about it . Is it really that fun ? ',\n",
       " \" For me , it's one of those games that are fun to both watch and play . \",\n",
       " ' Are you a football player ? ',\n",
       " \" No , I just for fun with my friends . We play two hand touch or flag football . We're too old to play tackle football . \",\n",
       " ' What is two hand touch and flag football ? ',\n",
       " ' Instead of tackling somebody , you just have to touch them with two hands , or if it is flag football , grab the flag that the ball carrier is wearing . ',\n",
       " \" I see . It's safer then right ? \",\n",
       " \" Exactly . We play every Saturdays on the field by the tennis courts . If you want to learn and play a little , you're welcome to join us . \",\n",
       " \" I'll give it a try . Give me a call and let's go down together . \",\n",
       " \" Ok . I'll call you Saturday morning . \",\n",
       " ' Great . ',\n",
       " 'What upsets you ? ',\n",
       " ' My parents called . As usual , they reminded me again that I should have a plan to marry by my late 20s . Easier said then done . Who should I marry ? I have no time to go on a date . ',\n",
       " ' It is not your mother finding one for you ? ',\n",
       " ' I will find one myself , of course . I ’ m a modern girl . ',\n",
       " ' Perhaps you can try the three minutes date , the latest type . ',\n",
       " ' You mean dozens of the opposite sex meet each other for three minutes in a dimly bar serving alcohol , I hate that idea . ',\n",
       " ' No , there is an updated virgin , three minutes video date . I know an online dating website providing such service with a microphone and webcam , you can sigh for it . You can be face-to-face with a guy talking for maximum three minutes . ',\n",
       " ' I don ’ t think it makes sense . Three minutes is such a short time . ',\n",
       " ' I think you can find out if there is a possibility of romance within the first second of meeting someone , so-called love at first sight . ',\n",
       " ' Anyway , I don ’ t want to post my face up for sale on the internet like that . ',\n",
       " ' Don ’ t worry . There are many other options using the internet as dating methods . Some sites operate at international standard even have got certifications . Of course , for these sites , you have to pay a membership fee . But all in all , it is more serious and professional . The chance of meeting a good and serious person who does not play games is higher . ',\n",
       " ' I don ’ t want to post my personal information on the internet . I ’ m not knowing who is reading it . ',\n",
       " 'Are you going to the party on Saturday ? ',\n",
       " ' I was thinking about it . Are you ? ',\n",
       " \" Yeah , I heard it's going to be a lot of fun . \",\n",
       " ' Really ? Well , what time does it start ? ',\n",
       " ' It starts at 8 ',\n",
       " ' Well , who all is going to be there ? ',\n",
       " ' Everyone from school . ',\n",
       " \" How do you know it's going to be so fun ? \",\n",
       " ' This party is going to have a DJ , food , and drinks . ',\n",
       " \" Wow , that does sound like it's going to be fun . \",\n",
       " ' So am I going to see you at the party ? ',\n",
       " ' Yeah , I will be there . ',\n",
       " 'Could you talk to me for a few minutes about my grades ? ',\n",
       " ' Step into my office for a moment . What is your concern ? ',\n",
       " ' Am I failing ? ',\n",
       " \" Let's go on the computer to see what's up . Do you think you are doing well ? \",\n",
       " ' I am pretty sure that I am in trouble . ',\n",
       " ' I can see that you are trying , but where do you think you could improve ? ',\n",
       " ' I missed a few classes ; I need to make sure I come to school on a regular basis . ',\n",
       " ' Having a regular study routine and following it is very important , right ? ',\n",
       " \" I'll try ; it's hard ! \",\n",
       " ' Thanks for stopping by ! ',\n",
       " \"Good luck on your test tomorrow . We'll be crossing our fingers for you ! \",\n",
       " ' Thanks . ',\n",
       " \"I'll never ever work together with him ! \",\n",
       " ' What happened ? Quarrel again ? ',\n",
       " ' Will you take my materials back from him for me ? Please ! ',\n",
       " \" Don't ask me . I don't wanna be involved in your quarrel . \",\n",
       " \"Oh , my God ! I've been cheated ! \",\n",
       " ' What ? What did you buy ? ',\n",
       " \" It's a brick ! I can't believe how stupid I was . Damn it ! \",\n",
       " ' What is it ? Why did you buy a brick ? ',\n",
       " ' There was a guy on the sidewalk.He had three new boxes , Panasonic video camera boxes.He said he had to get rid of them quick . ',\n",
       " ' And ? ',\n",
       " \" So he said he'd sell me one for twenty dollars . A four-hundred-dollar camera for twenty bucks . \",\n",
       " \" And it's a brick ? \",\n",
       " ' Yes . ',\n",
       " \" I can't believe how stupid you are . Why didn't you open the box ? \",\n",
       " \" I wanted to . But he said , no , the box is still in its plastic wrap from the store.If it's opened , other people won't believe it's new . \",\n",
       " ' So he had the boxes wrapped in plastic . ',\n",
       " ' Yes , it was the kind of perfect plastic wrap that comes with new products.Look , it even had a bar-code price sticker on it ! It looked brand new . ',\n",
       " ' But why would a guy be selling new video cameras for twenty dollars ? ',\n",
       " ' He said he had to get rid of them . They were stolen . ',\n",
       " ' Aha ! Now I understand.You were trying to buy stolen goods on the sidewalk.So , what I think is , you deserve to get cheated ! ',\n",
       " \" C'mon , don't blame me ! I thought it was a new camera . We could use it.We were even thinking about buying a camera . I don't understand how he could have such a perfect-looking box . \",\n",
       " \" That's no problem.He just has a friend who works in a shop that can do plastic wrap . That's easy.And probably it's the same shop he got the boxes from.Maybe his friend works in an electronics store . They sell video cameras there.Probably they had a couple video camera boxes lying around.So they get the idea of wrapping bricks to sell to fools like you.Twenty dollars a brick . That's a good profit if they can sell enough bricks . \",\n",
       " \" You're right , Sarah . I was a fool . I can't believe it . How could I fall for such a trick ? \",\n",
       " 'Is the clock right ? ',\n",
       " \" I'm afraid it gains a little . \",\n",
       " ' By how many minutes ? ',\n",
       " ' Two . ',\n",
       " \"Hey , Mary , what's up ? \",\n",
       " ' Just so so . Last night I met this great guy at the bar and we had such a wonderful time , so we decided to meet again tonight . ',\n",
       " \" Oh , that's exciting . What does this guy look like ? Is he hot ? \",\n",
       " \" Well , I didn't think so at first . But as we started talking , I found him extremely funny and witty . I couldn't stop laughing at his jokes ! And we have so much in common . We like the same team , music , and most amazingly , we both love Chinese food ! I have the feeling that we are going to be great friends . \",\n",
       " ' It seems you two are a good match . What qualities do you look for in a friend ? ',\n",
       " \" There's nothing definite I think . I don't have a list or anything , but when I first meet somebody , I can usually tell whether or not that person is going to be a good friend . It seems I have radar helping me spot new friends . \",\n",
       " \" Well , that's something I've never heard of . But if you ask me what I value most in a friend , I would say honesty . \",\n",
       " \" I agree . You can't expect a close relationship with a dishonest person . Those are the people that will turn their back on you when you are in need . \",\n",
       " \" Yeah , I know . A friend in need is a friend indeed . I don't need fair-weather friends either . \",\n",
       " 'What ’ s up ? You don ’ t look too good . ',\n",
       " ' Yeah , my head hurts , that ’ s all . I ’ Ve been in physics class all day . It ’ s killer ! ',\n",
       " ' I liked physics . It ’ s all math , really . arcs , curves , velocity , cool stuff . ',\n",
       " ' Yeah , yeah , but today ’ s lesson was all about the creation of the universe . ',\n",
       " ' A physics class about the creation of the universe ? That ’ s some pretty unscientific language there . Sounds more religious to me . ',\n",
       " ' It ’ s all religion . Take the theory of the Big Bang.How is it possible that all of the stuff in the universe comes from an explosion ? That ’ s no better than Atlas carrying the globe on his back or African myths about turtles and stuff . ',\n",
       " ' Turtles ? Whatever ... Look , all that ’ s required for the creation of matter an imbalance of particles and anti-particles . At least , that ’ s what the math says . ',\n",
       " ' Math , sheath . What ’ s the evidence ? ',\n",
       " ' There is evidence ! You know Edwin Hubble ? He ’ s the guy who in the early twentieth century was the first scientist to measure the drift of matter in the universe , thus advancing notions of an expanding universe . What would it be expanding from ? Well , the Big Bang ... DUH ! ',\n",
       " ' Anyway , it ’ s just a theory . Why do people go around touting theories ? Where ’ s the scientific rigor in that ? ',\n",
       " ' Dude , don ’ t equivocate . A theory only becomes a theory after withstanding rigorous testing . You slept through class , didn ’ t you ? ',\n",
       " 'Today more and more people advocate lifelong learning . But people have different views about lifelong learning . How do you understand lifelong learning ? ',\n",
       " \" I think lifelong learning is the concept that it's never too soon or too late for learning \",\n",
       " ' Does that mean studying all the time ? ',\n",
       " \" I don't think so . I think it's about your attitude towards learning . One should be open to new ideas , decisions , skills or behaviors . \",\n",
       " \" Then the axiom - ' You can't teach an old dog new tricks ' doesn't work any longer . \",\n",
       " \" You're right . Lifelong learning is about finding learning opportunities at all ages and in numerous contexts \",\n",
       " ' Yes , I agree with you . When I retired I will participate in programs to keep momentally active . ',\n",
       " ' Me too . To keep up with the changing world , one must be involved in lifelong learning and be ready to accept new things . ',\n",
       " \" You know what ? I've recently been teaching myself French . \",\n",
       " \" Really ? That's great ! I know that your company has a lot of clients in France . \",\n",
       " ' Yes , so I want to learn French to develop my career . ',\n",
       " 'How old are you ? ',\n",
       " \" Nine ... but I'll be ten on May 1st.When is your birthday ? \",\n",
       " \" I'm older than you ! I'll be ten on April 14th . \",\n",
       " ' Are you going to have a birthday party ? ',\n",
       " \" Maybe . I'll have to ask my mother . \",\n",
       " 'It smells like an ashtray in here ! ',\n",
       " ' Hi honey ! What ’ s wrong ? Why do you have that look on your face ? ',\n",
       " ' What ’ s wrong ? I thought we agreed that you were gonna quit smoking . ',\n",
       " ' No ! I said I was going to cut down which is very different . You can ’ t just expect me to go cold turkey overnight ! ',\n",
       " ' Look , there are other ways to quit . You can try the nicotine patch , or nicotine chewing gum . We spend a fortune on cigarettes every month and now laws are cracking down and not allowing smoking in any public place . It ’ s not like you can just light up like before . ',\n",
       " ' I know , I know . I am trying but , I don ’ t have the willpower to just quit . I can ’ t fight with the urge to reach for my pack of smokes in the morning with coffee or after lunch ! Please understand ? ',\n",
       " ' Fine ! I want a divorce ! ',\n",
       " 'Why are you shivering ? ',\n",
       " \" It's freezing . \",\n",
       " 'It seems that you get antsy when you hear I praise another guy . ',\n",
       " ' I get antsy not because you praise a guy , but because you may be taken for a ride by a guy like him . ',\n",
       " ' How come you think of him that way ? ',\n",
       " ' Because you seem to have lost your vigilance . You should be on the watch out . ',\n",
       " \" I have no reason to distrust him . He's never caused any harm . \",\n",
       " \" Isn't there anything that sounds fishy ? \",\n",
       " \" Nothing smells a rat . I told you that he's an all-right guy . \",\n",
       " \" All-right guy ? All right . Let's talk about something else instead . \",\n",
       " 'Cheese ! It tastes like cardboard . ',\n",
       " ' I think so . Maybe that ’ s why it ’ s cheap here . ',\n",
       " 'Have you signed up to join the company ’ s Christmas party ? ',\n",
       " ' Sure , I have . Will you join ? ',\n",
       " ' I will . You know , as a newcomer , I think it might be a good opportunity to get to know people from the other departments of our company in a more relaxed atmosphere . ',\n",
       " ' You are right . Our company ’ s Christmas party has always been an amazing occasion for everybody to relax and get to know each other better . It is also a time to make new friends and do some networking . ',\n",
       " ' I hope that it is not a formal one when the boss is there . ',\n",
       " ' No , it will not be formal at all . It is a fun time . You will love the game show . Please dress casually . Usually there is an over abandon of drinks , so be careful with that . ',\n",
       " ' Don ’ t worry , I can handle that . And I know if the boss is there , even it is an informal evening , it does not make a good impression to get totally drunk in front of him . ',\n",
       " \"If the weatherman's predictions are accurate , it should rain tomorrow . \",\n",
       " \" I hope not . Then we'd have to reschedule our baseball game . \",\n",
       " 'hi , Emily , do you know that guy over there ? ',\n",
       " \" The tall one ? Sure , that's Drive , he works with Lily . \",\n",
       " ' He is cute.What dose he do ? ',\n",
       " \" I'm not sure , he is a manager I think . \",\n",
       " ' Really ? Are you going to introduce us ? ',\n",
       " \" Well , he has already taken you know , that's his wife right there . \",\n",
       " \"You didn't ring me last night . You said you would . \",\n",
       " \" I'm sorry to have made you disappointed . \",\n",
       " \" That's all right . But why were you so rude to me at lunch . \",\n",
       " ' Was I ? Sorry , I didn ’ t mean to be . I do apologize . ',\n",
       " ' And why are you yarning now ? Are you bored ? ',\n",
       " \" Forgive me darling . I'm very tired . \",\n",
       " 'Hi , Nicole . Did you have a good weekend ? ',\n",
       " ' Yes , I did . But I feel tired today . ',\n",
       " ' Really ? Why ? ',\n",
       " ' Well , on Saturday I cleaned the house and played tennis . Then on Sunday I hiked in the country . ',\n",
       " ' And I bet you studied , too . ',\n",
       " ' Yeah . I studied on Sunday evening . What about you ? ',\n",
       " \" Well , I didn't clean the house and I didn't study . I stayed in bed and watched TV . \",\n",
       " ' That sounds like fun , but did you exercise ? ',\n",
       " ' Sort of . I played golf on my computer ! ',\n",
       " 'There will be a parade to celebrate National Day this weekend . ',\n",
       " \" What's the route ? \",\n",
       " ' From Zhongshan Circus to City Bank . ',\n",
       " ' If only I could join it ! ',\n",
       " \"Excuse me . I'm afraid you're in my seat . You've moved my books . \",\n",
       " ' Oh , dear . ',\n",
       " ' You must have realized somebody was here . ',\n",
       " \" Oh , well , I looked around . There wasn't any other space . I waited a while and nobody came . I'm sorry if I've taken your place . \",\n",
       " 'What ’ s the life expectancy in your country ? ',\n",
       " ' I ’ m not sure , but probably about 75 years . How about in your country ? ',\n",
       " ' About 70 , I think . This newspaper article talks about the problems of an aging population . It ’ s a problem that will soon affect most of the world . ',\n",
       " ' I heard that the government might need to increase the retirement age , because otherwise there will not be enough workers to support the young and the elderly . ',\n",
       " ' Perhaps we need to have more babies ! Tina gave birth to a baby boy yesterday . ',\n",
       " ' Did she ? That ’ s great . However , if we have too many children , that will have a bad effect on the enviroment . ',\n",
       " ' How ’ s your son these days ? ',\n",
       " ' Oh , he ’ s fine . Kids seem to grow up very quickly nowadays . ',\n",
       " ' He ’ ll be a teenager before you know it ! Teenagers are often rebellious ! When do you mine it is a good age to have a child ? ',\n",
       " ' I had mine when I was 24 . that ’ s a little young . I ’ d suggest you wait until you are in your late twenties . , or even in your early thirties if you have a good career . ',\n",
       " ' Yes , I think you ’ re right . I ’ m thinking about having a child , but not just yet . ',\n",
       " ' Is there a big generation gap between parents and their children in you country ? ',\n",
       " ' Yes , there is . Teenagers do not want to live traditional lives . They want to go out , have fun , and explore the world . They want to develop their own view of life . Parents usually try to discourage them , but they don ’ t often succeed . ',\n",
       " ' Parents usually give their children more freedom in my country . Sometimes they give them too much freedom . ',\n",
       " ' It ’ s almost impossible to get the right balance . If you are too strict , kids might ignore you . If you are too lenient , they might go wild . ',\n",
       " \"I'm going to Japan this year on vacation . \",\n",
       " ' Have you ever been to America ? ',\n",
       " \" No , but I'd really like to . \",\n",
       " \" You'd like it . \",\n",
       " 'Hey , Mark , long time no see . ',\n",
       " \" Julie ! It's good to see you again . How have you been ? \",\n",
       " \" Great . I just got back from a week's vacation in Thailand . \",\n",
       " ' Really ? How was it ? ',\n",
       " \" Fantastic ! I didn't want to come back . \",\n",
       " ' I hear the beaches in Thailand are beautiful . ',\n",
       " ' They are . And not only that the people are friendly , but also the food is delicious , not to mention cheap . ',\n",
       " ' I do like Thai food . Did you see much of Bangkok ? ',\n",
       " \" Not much . I've got enough city life in Beijing . \",\n",
       " ' I know what you mean . I could use a vacation myself . ',\n",
       " \" Hey , wouldn't it be great if we could go to Thailand together sometime ? \",\n",
       " ' Yeah , it sure would . ',\n",
       " 'Could I see the manager please ? I have a complaint to make . ',\n",
       " ' Yes , I ’ m the manager here . What can I do for you , Madam ? ',\n",
       " ' Did you have the room checked before we move in ? ',\n",
       " ' Which room are you in ? ',\n",
       " ' 1808 . The toilet doesn ’ t work properly , the water doesn ’ t run in the shower . ',\n",
       " ' I ’ m awfully sorry to hear that . I ’ ll turn to it right away . ',\n",
       " 'Congratulations , Vivian . You won the grand prize , again . ',\n",
       " \" Isn't it just great ! I just knew I'd win ! \",\n",
       " ' You did ? How ? Did you wear red underwear again this year ? ',\n",
       " ' Not only that ! ',\n",
       " \" Tell me ! Tell me ! What's your secret ? ! \",\n",
       " \" OK , OK . I'll whisper it to you , but you have to promise not to tell anyone ! \",\n",
       " ' What ? ! You did that ? ? ! ! ! ',\n",
       " 'We are going to the concert this evening . Will you join us . ',\n",
       " \" I'm very sorry I can't . \",\n",
       " ' Why not ? ',\n",
       " \" I've been snowed under with since my bosses away on business . \",\n",
       " \"You'v been work here for nearly a month , how do you feel about the job ? \",\n",
       " ' Not bad.Thank you for your help . I am always busy with this job , I feel a bit tired . ',\n",
       " \" I had the same feeling when I first came to work here . but after a period of time , I feel better , I am sure you ' ll get used to this busy job . \",\n",
       " \" I also feel that work efficiency here is very high . and you have strong working ability and professional skill , it seems that you know all , that's really wonderful ! \",\n",
       " ' You know the phrase , the survival the fittest . We have no choices . ',\n",
       " \" That's right , I have to work hard . \",\n",
       " 'The music is on.May I have the pleasure to dance with you ? ',\n",
       " \" Sorry , I'm engaged for the foxtrot.Will the next Walls be all right ? \",\n",
       " ' Certainly . ',\n",
       " 'Excuse me , is this seat taken ? ',\n",
       " ' No , please feel free . ',\n",
       " ' Thanks a lot . ',\n",
       " ' Do you work in Shanghai ? ',\n",
       " ' Yes I do . How about you ? ',\n",
       " \" No , I'm a tourist . This place is amazing ! It's much bigger than I imagined , and much more exciting ! There's so much to see here . \",\n",
       " \" You can say that again ! It's much more modern than people imagine . Where are you from ? \",\n",
       " \" Um , well let's see ... I'm from Kansas originally . A much quieter and more peaceful place than here , that's for sure ! \",\n",
       " ' Uh huh ... ',\n",
       " 'Look at this headline , Soo Mi . ',\n",
       " ' Wow ! So many people in the United States get divorced ! ',\n",
       " ' Is it the same in Korea ? ',\n",
       " \" I don't think so . In Korea some marriages break up , but most couples stay together . \",\n",
       " ' Do people get married young ? ',\n",
       " ' Not really . Very few people get married beforethe age of 20 . ',\n",
       " ' Hmm . Do women usually work after they get married ? ',\n",
       " ' No , a lot of women stay home and take care of their families . But some work . ',\n",
       " 'Boy ! What a beauty ! I fall in love with her at the first sight . ',\n",
       " ' The beauty under the tree ? ',\n",
       " ' Of course.No girl is more charming . ',\n",
       " ' She is a young man ! ',\n",
       " 'Excuse me.Where do I register ? ',\n",
       " ' Oh , over there in Pacific Pavilion . ',\n",
       " ' Is that the large , white building ? ',\n",
       " \" Yeah , that's it . \",\n",
       " ' Thanks . ',\n",
       " 'How was your education going on in Australia ? ',\n",
       " \" I'm going to graduate this summer . \",\n",
       " ' Where are you going to work then , in Australia or back in China ? ',\n",
       " \" I'm planning to return to China after graduation . \",\n",
       " ' Why are you choosing to leave a foreign country ? Many people are reluctant to leave the superior living environment abroad . ',\n",
       " ' Well , I think personal development is much more important than simply having a superior living environment . ',\n",
       " \" Yeah , China's developing so fast and development opportunities can be found almost in every corner of the country . \",\n",
       " 'Do you have any particular hobbies , Tom ? ',\n",
       " ' Oh , yes . I love playing badminton , table tennis and computer games . And playing the games has become my favorite . ',\n",
       " \" I hear many teenagers will spend hours and hours sitting at computers . And they don't care about their own health at all . How about you ? \",\n",
       " \" I'm no better than them . They say it's mindless to sit in front of a machine all the time , but I think it's stimulating . \",\n",
       " \" You won't play online games full of violence , will you ? \",\n",
       " ' Once in a while . ',\n",
       " \" It's no good . And I think spending several hours each day playing computer games is a waste of time . You might as well do something healthy and meaningful . \",\n",
       " ' I hope I can practice self-control again . ',\n",
       " 'What ’ s the plot of your new movie ? ',\n",
       " ' It ’ s a story about a policemen who is investigating a series of strange murders . I play the part of the detective . He has to catch the killer , but there ’ s very little evidence . It ’ s a psychological th ',\n",
       " ' Did you enjoy making the movie ? We heard stories of disagreement with other actors and with the director . ',\n",
       " ' I have had disagreement with every director . I ’ Ve worked with . We ’ Ve always disagreed in a friendly way and we have always resolved our differences . It was the same when I made this movie . I don ’ t no ',\n",
       " ' Critics are not very happy with the movies that you ’ Ve made recently . Does that bother you ? ',\n",
       " ' Not at all . The feedback from audience has been great . I care about what they think more than what the critics think . ',\n",
       " ' Did you do you own stunts in the movie ? ',\n",
       " ' I wanted to , but my insurance company wouldn ’ t let me . All of my stunts were done by a stuntman . As you know , I used to do my own stunts , but I ’ ll leave that to the experts in future . ',\n",
       " ' Thank you very much for doing this interview . ',\n",
       " ' My pleasure . Have you seen the movie yet ? ',\n",
       " ' Yes . I have . I liked it very much . Like you , I was very impressed with Rachel ’ s performance in the movie . She ’ s going to be a star . ',\n",
       " \"Who's that old lady trimming the trees ? \",\n",
       " \" She's my grandma . \",\n",
       " \" She's looks very healthy.How old is she ? \",\n",
       " ' 92 . ',\n",
       " 'Mom . My legs are killing me . ',\n",
       " ' Hold on . We will be successful right away . ',\n",
       " 'Oh , man . I had the best supper last night . My wife made a stir-fry and it was amazing ! ',\n",
       " ' I love stir fry crispy bitesize vegetables covered in a mixture of soy sauce and oyster sauce . Wilted greens and fresh bean sprouts . Throw in some onion and garlic and ginger ! Mmm ! Mmm ! It ’ s almost lunchtime . I would die for a plate of stir fry right now ! ',\n",
       " ' Well , you can keep the vegetables , I ’ ll take the meat . The stir fry my wife made was really hearty , with chunks of beef and slivers of bell peppers and onion ... ',\n",
       " ' What ? You call that a stir fry ? More meat than vegetables ? That ’ s the worst insult you could throw at a Chinese stir fry . What a disgrace to the wok she fried it in ! What you had is equivalent to a fajita without the wrap ! ',\n",
       " 'What did you say ? ',\n",
       " \" I said it's a lovely day . Why don't we go for a walk ? \",\n",
       " ' Well , I feel a little tired . ',\n",
       " ' Come on ! A little labor , much health . ',\n",
       " ' Then can you wait a few minutes ? I want to finish writing this letter . ',\n",
       " \" Don't take too long . It would be a shame not to take advantage of such lovely weather . \",\n",
       " \" I won't be long . No more than ten minutes . Why don't you go ahead and I'll meet you in the park ? \",\n",
       " ' I Believe I will . Look for me near the lake . ',\n",
       " 'Thank god you showed up when you did ! He ’ s insane ! Do you think we should call the police ? ',\n",
       " ' Don ’ t worry about it , I ’ ll call my friend and have him take care of it . I can ’ t believe he was stalking you all these years . What a nut job ! ',\n",
       " ' I know ! Well ... he said I ’ m not pregnant . I ’ m sorry if I got you all worked up over nothing . I want you to know that I didn ’ t do it on purpose ... ',\n",
       " ' Don ’ t apologize ! From the moment I met you , not a day has gone by when I haven ’ t thought of you.And now that I ’ m with you again , I ’ m ... I ’ m just scared , Veronica . The closer I get to you , the worse it gets . The thought of not being with you , I mean , I just can ’ t handle it ! We were made for each other , Veronica . You are my everything , my soul mate . What can I do ? ',\n",
       " ' Just hold me ... I ’ ll always be here for you , no matter what . And together , we can tackle whatever life throws at us . I believe in us , steven . ',\n",
       " ' I ’ m so happy to hear that ! I knew we belong together . I love you so much . ',\n",
       " 'Zina , can I talk to you about something personal ? ',\n",
       " \" As long as it doesn't take too long . \",\n",
       " ' My boyfriend says I work too much . That I spend more time with you than with him . ',\n",
       " ' Was he upset when you told him you had to leave this weekend ? ',\n",
       " \" He said not to bother coming back . And I said , fine , I won't . \",\n",
       " \" So what's the problem ? \",\n",
       " 'Mary , how was your date with john ? ',\n",
       " \" it's ok . It seems we have a lot in common . \",\n",
       " ' oh , really . That is great news . What does he look like ? ',\n",
       " ' he is tall and slim , fair-haired . ',\n",
       " ' sounds like he is pretty cute . What do you think of him ? ',\n",
       " ' he is a nice guy and very considerate . I was impressed with how smart he was and he has a great sense of humor . ',\n",
       " \" oh , it's love at first sight . When will you see each other again ? \",\n",
       " \" he didn't say , but he said he would call me . \",\n",
       " ' maybe he is busy with his work . Just wait and try not to think about it too much ! ',\n",
       " \" oh , steve . Stop it ! I am a bit nervous ! What if he doesn't call ? \",\n",
       " \" come on , Mary , you're a total catch . I bet he will call you . Don't worry . \",\n",
       " \" thank you , Steve . You're always so encouraging . \",\n",
       " \" that's what friends are for . \",\n",
       " 'Hi , Francis , how was your business trip ? ',\n",
       " ' It was a nightmare . ',\n",
       " ' What ’ s up ? ',\n",
       " ' Actually , the business trip itself was very successful . We arrived on time , we had nice conversations and we settled some important issues for the next year . ',\n",
       " ' Sounds quite fruitful , why do you call it still a nightmare then ? ',\n",
       " ' Well , the air line lost my luggage on the return flight and then I lost my carry on bag when I was tackling with the officers in charge . I left the airport three hours later than I expected and then I was caught in a traffic jam . When I finally got home , I was totally exhausted . But I found the elevator was out of service due to a blackout . ',\n",
       " ' This is really a sad story . Did they trace back your luggage ? ',\n",
       " ' I am still waiting for their call . ',\n",
       " ' Take it easy , all sufferings have their reward . ',\n",
       " 'So the company decided to cancel your trip to Hong Kong ? ',\n",
       " \" Yes , The SARS epidemic is not under effective control yet . So I'd better not risk it . \",\n",
       " \" Maybe it's a good things . If you don't have to go to Hong Kong , you can take a break and take things easy for a while . \",\n",
       " ' You are right . Maybe we should work out a fitness plan and start to do more exercise . Sitting around in the office all day is no way of keeping fit . ',\n",
       " \" That's a good idea . Let's see if we can get more people in this plan . There isn't much business these days anyway , so I think many people will be interested . \",\n",
       " 'Which pair of jeans do you like best ? ',\n",
       " ' I really like the straight legs . ',\n",
       " \" But they aren't very fashionable . What about these ? \",\n",
       " \" I don't like the way they sag down . I feel like I have plumber butt in them . \",\n",
       " \" That's the style ! You just wear boxers . \",\n",
       " ' What if someone got it in their head to give them a tug ? What then ? ',\n",
       " \" You're so old fashioned ! Nobody is going to pull down your pants ! \",\n",
       " \" If you ask me , it's a walking invitation ! \",\n",
       " \"Hi , Charles . What's the matter ? \",\n",
       " \" Oh ! ! My car isn't working . I'm waiting for a tow-truck . \",\n",
       " ' Do you have a ride home ? ',\n",
       " ' Yes , my wife is coming to get me . ',\n",
       " \" That's good . Do you live near here ? \",\n",
       " ' No , we live in the suburbs . What about you ? ',\n",
       " ' I live downtown , with my parents . ',\n",
       " ' Do you have a car ? ',\n",
       " \" I don't need a car . I walk to work . \",\n",
       " \" You're lucky ! \",\n",
       " 'Happy anniversary , sweetheart ! ',\n",
       " ' Yes . to our first anniversary and many more to come . Cheers ! ',\n",
       " \" I'll drink to that . Thanks for making this a night worth remembering . \",\n",
       " \" Well , it's a special day . They say if you survive the first year , the rest is smooth sailing . \",\n",
       " \" That's good to know . Oh , listen ! The band's playing our song . \",\n",
       " ' I requested it . What do you say ? Do you have your dancing shoes on ? ',\n",
       " ' Always . ',\n",
       " 'What do you plan to do for your birthday ? ',\n",
       " ' I want to have a picnic with my friends , Mum . ',\n",
       " ' How about a party at home ? That way we can get together and celebrate it . ',\n",
       " \" OK , Mum . I'll invite my friends home . \",\n",
       " 'How about seconds , Victor ? ',\n",
       " \" No.thanks . I'm full . \",\n",
       " \"Why don't you have dinner with me tonight ? \",\n",
       " \" I'd love to . \",\n",
       " \" Let's say about 6:00 ? \",\n",
       " \" That's OK with me . \",\n",
       " 'Cigarette ? ',\n",
       " ' Oh , uh ... Thanks . Henry , do you have a light ? ',\n",
       " ' Sorry , here . ',\n",
       " ' Thanks . Lovely day . Pity I ’ m on duty . ',\n",
       " ' I ’ ll stand in with you if you like . I ’ Ve got nothing else to do . ',\n",
       " ' Oh , no . I couldn ’ t possibly . ',\n",
       " 'Hi Rose , what are you busy with right now ? ',\n",
       " \" Hi Jack , I'm working on these documents . The manager wants them for half an hour . \",\n",
       " ' Well , Rose . ',\n",
       " ' Is there something any need ? ',\n",
       " ' Are your free this weekend ? ',\n",
       " ' Yes , I have nothing to do . ',\n",
       " ' Great , Is it convenient if i visit you this weekend ? ',\n",
       " ' I beg your pardon ? ',\n",
       " \" I'd like to call on you this weekend . I just want to a drop in for a chat . \",\n",
       " \" Really ? well , ok , you're welcome . \",\n",
       " ' Is 5 PM . Saturday a good time for you ? ',\n",
       " ' Hmm , how about seven ? I can treat you to dinner . ',\n",
       " \" Sure , that would be great . I'll bring the wine . \",\n",
       " \" OK . Then I'll be expecting you . \",\n",
       " \" I'll be there on time . \",\n",
       " 'How do you shoot pool ? ',\n",
       " ' You have 16 balls on the table , 7 solid colored , 7 striped colored , a black 8 ball , and the white ball . ',\n",
       " ' And ? ',\n",
       " ' You hit the white ball with your cue . The white ball hits the colored balls . And you want to get the colored balls into the pockets . ',\n",
       " ' How do you know whether you should hit the solid or the striped one ? ',\n",
       " ' At the beginning , it does not matter , but once someone gets one ball in , it is set . ',\n",
       " ' Can I get the black ball in ? ',\n",
       " ' The black ball has to be the final ball in the pockets . ',\n",
       " \" Let's go and try now ! \",\n",
       " 'How about going to hear a country-and-western singer tonight ? ',\n",
       " \" I'd enjoy that . \",\n",
       " \" I'll pick you up around 8: 00 . \",\n",
       " \" OK . I'll see you then . \",\n",
       " 'The mosquitos are biting me ! ',\n",
       " ' Me , too , I can ’ t stop scratching . They are everywhere ! Sneaky little jerks . ',\n",
       " ' Do you have any bug spray ? ',\n",
       " ' No , I forgot to buy some . ',\n",
       " ' Then we ’ ll have to put up with it . ',\n",
       " ' We can cover ourselves with beer ! That way if they bite us , they ’ ll get drunk and fall asleep . ',\n",
       " ' That ’ s without a doubt , the best idea you ’ Ve had ! Let ’ s do it ! ',\n",
       " ' Run ! They are thirsty for more ! ',\n",
       " \"Stop running around in front of the TV , will you ? Why don't you just sit and watch ? \",\n",
       " \" I've tried , but I can't stand the bald man talking so loudly in the program . \",\n",
       " ' Then stay away . No one is keeping you from doing that . ',\n",
       " \" Don't be so irritable . I just don't understand the program , that's all . \",\n",
       " ' All right , I will explain it to you later on . Now scram . ',\n",
       " \" Ok . I will wait until you have had your fun , if that's what you want . \",\n",
       " \" That's exactly what I want , thank you . \",\n",
       " 'Okay , can I ask you something direct ? ',\n",
       " \" Ha ! It's not like you've ever been one to beat around the bush . \",\n",
       " ' Fair enough . Give it to me straight . Did she bully you into this ? ',\n",
       " ' No , seriously . . . I really want this . ',\n",
       " \" I tell ya , when I got the invite , it really threw me for a loop . You've done a complete 180 . \",\n",
       " \" I know . But things have changed . I guess I've settled down . \",\n",
       " ' I guess so . ',\n",
       " 'My daughter plans to quit her present job and wants to find another . She says she wants to get a better job with higher pay . ',\n",
       " ' It seems quite normal to me . It is pretty much what I want to do . ',\n",
       " \" But what about settling down to start a family ? Doesn't anyone want to get married any more ? \",\n",
       " \" It is different now . The world is becoming colorful . Some of my friends don't feel the same pressure to marry . We all want to wait for the right moment . \",\n",
       " ' What time is the right moment ? ',\n",
       " ' Let the universe find us instead of forcing love . We prefer natural love . The most important thing is to be happy . Love will find us later . That is what we say . ',\n",
       " 'Please excuse me , but I really have to be going . ',\n",
       " ' Yes , of course.It was nice to see you . ',\n",
       " ' It was nice to see you , too.And please give my regards to Mrs.Robbins . ',\n",
       " 'Excuse me . Is this seat taken ? ',\n",
       " \" I'm afraid so . \",\n",
       " 'What do you think of the coming match ? ',\n",
       " ' Winning is a piece of cake to me . ',\n",
       " ' You are bragging again . ',\n",
       " 'What would you reckon the taxing increases ? ',\n",
       " ' Well , the state will benefit a lot , I suppose . ',\n",
       " ' But what do most people think about it ? ',\n",
       " ' Ah , it ’ s hard to say . ',\n",
       " 'are you still coming to my place for dinner tomorrow night ? ',\n",
       " ' of course . Is the dinner still on ? ',\n",
       " ' yes , I was just wondering how you and your roommate were planning on coming to my place . ',\n",
       " ' we were planning on walking both ways since the weather is still nice . ',\n",
       " \" that's what I thought you would do . Listen , I live in a bit of a rough neighborhood . It's just down the street from all the bars . You probably don't want to be walking around after dark . \",\n",
       " \" it can't be that bad . \",\n",
       " \" I wish it wasn't , but there is actually a lot of crime and prostitution around here . \",\n",
       " \" really ? I never would have guessed . The criminals must only come out in the evenings , because I've never noticed anything strange when I've been at your house in the daytime . \",\n",
       " \" do me a favor , and take a taxi . It'd make me feel a lot better . \",\n",
       " ' ok , we will . How do you get around in the evenings ? ',\n",
       " ' when I first moved in , I walked everywhere . But within a week , I had my purse stolen — just a block away from the police station ! Now , I always take public transportation . ',\n",
       " ' has anything else happened to you ? ',\n",
       " ' nothing else has happened to me , but I have seen quite a few fights on the streets after the bars close . ',\n",
       " \" well , we'll be careful . Thanks for letting me know . \",\n",
       " 'Jack wonders whether Linda likes him or not . ',\n",
       " \" Why doesn't he ask her ? \",\n",
       " ' He is too scared to ask her . ',\n",
       " \" He's a chicken guy . \",\n",
       " \"I don't understand why some parents keep beefing and complaining about their daughters not being able to follow suit . \",\n",
       " \" Yeah . Li Na's mother has been building a fire under her since her neighbour's daughter got married with a Canadian . She's almost driving Li Na crazy . \",\n",
       " ' If I were Li Na , I would ask her if she had done that . ',\n",
       " \" She is as meek as a lamb . She never goes against anyone or anything . She's as good as gold , you know ? \",\n",
       " \"Where is John ? I can't find him anywhere . \",\n",
       " \" Haven't you heard that he is in prison ? \",\n",
       " ' What ? Beg your pardon . ',\n",
       " ' John is in prison now.He was copped outstealing . ',\n",
       " \" I just cann't believe my ears ! \",\n",
       " 'What do you need ? ',\n",
       " ' I need to use the Internet . ',\n",
       " ' You have your library card , right ? ',\n",
       " ' Yes , I do . ',\n",
       " ' There is a wait right now to use the computers . ',\n",
       " ' That ’ s fine . ',\n",
       " ' Would you please write your name on this list ? ',\n",
       " ' Then what ? ',\n",
       " ' I will call you when a computer is free . ',\n",
       " ' How do I log on to the computer ? ',\n",
       " ' Use the number on the back of your library card . ',\n",
       " ' Thanks . I ’ ll be sitting over there . ',\n",
       " 'What a nice tie you are wearing ! ',\n",
       " ' Thank you.But does it really look all right ? ',\n",
       " ' Certainly.It matches your suit perfectly . ',\n",
       " ' Then does it go well with my sweater ? ',\n",
       " ' Yes.You look very smart today . ',\n",
       " ' Thank you very much . ',\n",
       " 'What do you make of the case ? ',\n",
       " ' If you ask me , I don ’ t think it ’ s guilty . ',\n",
       " ' What do you mean by saying so ? ',\n",
       " ' I mean it ’ s not his fault . ',\n",
       " ' Oh , yeah ? ',\n",
       " ' Yes . Don ’ t you think he should be pitied rather than accused ? ',\n",
       " \"Happy Mother's Day , Mom ! \",\n",
       " \" Thanks ! These are beautiful . You shouldn't have ! \",\n",
       " ' Of course I should have ! You certainly deserve them ! You put up with all of us . ',\n",
       " ' I forgot what I put up with . In that case , I do deserve these flowers . ',\n",
       " 'I have a real problem when I meet people . ',\n",
       " ' What is it ? Maybe I can help . ',\n",
       " ' I never know when to shake hands and when not to . Can you tell me something about it ? ',\n",
       " ' Do you come from a country where they shake hands ? ',\n",
       " ' Oh yes . Men , women , and children shake hands all the time . ',\n",
       " ' It ’ s very simple . Men shake hands , women and children don ’ t . ',\n",
       " ' But some women do shake hands . And now a lot of children have such good manners , they shake hands too . ',\n",
       " ' Well , a good rule to follow is , for men you hold out your hand , for women and children , you wait and see what they do . ',\n",
       " ' That sounds easy enough . ',\n",
       " ' Sure . Once you get the hang of it , it ’ s a piece of cake ! It ’ s nothing to worry about . ',\n",
       " 'Sam , I am so sorry . It was your birthday yesterday and I completely forgot about it . ',\n",
       " \" Don't worry about it . I keep forgetting everyone's birthdays as well . \",\n",
       " ' Margaret really told me off when she found out that I had forgotten all about it . We did try to phone you , but you and Jane must have gone out . ',\n",
       " ' Yes , Jane invited me for dinner to this new restaurant which opened near us . ',\n",
       " ' Oh , yes , I know the one . How was the food ? ',\n",
       " ' The food was excellent , but Jane ordered a birthday cake , which they forgot about . So as you can see , you were not the only one . ',\n",
       " ' Oh , no . ',\n",
       " ' Yes , Jane was quite upset about it . The manager came to apologize and we did get free dessert , but still ... ',\n",
       " ' I would think this was the least they could do . ',\n",
       " ' In the end it was a nice evening and I got an iPad as my birthday present which I wanted for a while . ',\n",
       " ' Great . I have also been thinking of getting one . Do you think you could ask Jane to have a quiet word with Margaret ? My birthday is not that far away . ',\n",
       " ' I can try , but knowing Margaret she will see through that immediately . ',\n",
       " \"Here's the restaurant we're meeting the Smiths at . \",\n",
       " \" Let's go in to wait for them . \",\n",
       " ' After you . ',\n",
       " 'When do you usually go to the movies ? ',\n",
       " ' I usually go in my free time on the weekends . How about you ? ',\n",
       " ' The movie theater is always so crowded on the weekends . I like to go to the movies during the week . ',\n",
       " \" That's true . And sometimes the tickets are cheaper during the week as well . \",\n",
       " 'Are you telling us a lie again ? ',\n",
       " ' I will be hanged if I lying . ',\n",
       " ' All right . But what was the trouble ? ',\n",
       " ' My car run out of petrol . ',\n",
       " \"I can't believe Mr . Fro didn't buy it . Who does that guy think he is anyway ? Bill Gates ? \",\n",
       " ' He had a lot of nerve telling us our ads sucked . ',\n",
       " ' Time to order . Balista , today I want a skinny triple latte . ',\n",
       " ' When did you start worrying about your weight ? ',\n",
       " \" I'm not . I just don't feel like drinking whole milk today . Why ? Do you think I'm fat ? \",\n",
       " ' No , Jess , chill out ! ',\n",
       " 'Come on , Tara . Let ’ s go up to the window and buy two tickets . The movie is starting in a few minutes . ',\n",
       " ' We can ’ t break into the line . Don ’ t be so impatient . We ’ ll be at the front of the line soon . ',\n",
       " ' Two tickets , please . How much are they ? ',\n",
       " ' Oh no , Ari . I didn ’ t mean for you to pay for me when I invited you to go tonight . Let ’ s go Dutch . I ’ ll pay my own way . I insist . ',\n",
       " ' I ’ m looking forward to this film . I read a good review of it in this morning ’ s newspaper . ',\n",
       " ' Me , too . It will be great to see something light and funny for a change . I ’ m tired of heavy drama . ',\n",
       " ' Are these seats okay ? ',\n",
       " ' They ’ re fine , but I can ’ t watch a movie without popcorn . ',\n",
       " 'Do you often buy magazines ? ',\n",
       " ' I buy a computer magazine every month . It keeps me up-to date with all the latest developments . ',\n",
       " ' Why don ’ t you find the information on the internet instead ? ',\n",
       " ' Sometimes it takes too long to find the exact information you are looking for . Besides , I like to read a magazine in a coffee bar sometimes . ',\n",
       " ' Do you have an online edition of that magazine ? ',\n",
       " ' Yes , they do . But you can only access all the articles if you have a subscription . ',\n",
       " ' Do you have a subscription ? ',\n",
       " ' Yes , I do . The magazine arrives by post at the beginning of each month . Do you every buy magazines ? ',\n",
       " ' I only buy them if they look particularly interesting . I don ’ t buy any regularly . ',\n",
       " \"Mumm . Those burgers smell great . It's perfect day for a barbecue . \",\n",
       " \" It sure is . I'm glad it didn't rain . My name's Mike Gates , by the way . \",\n",
       " \" Oh , hi ! I'm Barbara Johnson . Nice to meet you . \",\n",
       " ...]"
      ]
     },
     "execution_count": 60,
     "metadata": {},
     "output_type": "execute_result"
    }
   ],
   "source": [
    "dataset_3[\"train\"][\"utterance\"]"
   ]
  },
  {
   "cell_type": "code",
   "execution_count": null,
   "id": "fb0fd66e-5a87-444a-a392-0859bfbc6db1",
   "metadata": {},
   "outputs": [],
   "source": []
  },
  {
   "cell_type": "markdown",
   "id": "232de789-6e73-4393-9e4a-e455229e9606",
   "metadata": {
    "jp-MarkdownHeadingCollapsed": true
   },
   "source": [
    "### Dataset 4"
   ]
  },
  {
   "cell_type": "code",
   "execution_count": 61,
   "id": "94358080-a267-40dd-a785-9e1e7c026dc7",
   "metadata": {},
   "outputs": [],
   "source": [
    "with open('./Data/ConversationalData/conversation_2/human_chat.txt', 'r', encoding='utf-8') as file:\n",
    "    # Read the entire file\n",
    "    dataset_4 = file.read()"
   ]
  },
  {
   "cell_type": "markdown",
   "id": "91f3ad54-bfaf-4069-be4c-ddfb1573977b",
   "metadata": {
    "jp-MarkdownHeadingCollapsed": true
   },
   "source": [
    "### Dataset 5"
   ]
  },
  {
   "cell_type": "code",
   "execution_count": 62,
   "id": "f7b8bca4-eae3-43f4-9ae9-11aff50bbd60",
   "metadata": {},
   "outputs": [],
   "source": [
    "import json\n",
    "f = open('./Data/ConversationalData/conversations_1/train.json')\n",
    "dataset_5_train = json.load(f)\n",
    "f = open('./Data/ConversationalData/conversations_1/valid_rare.json')\n",
    "dataset_5_validation = json.load(f)\n",
    "f = open('./Data/ConversationalData/conversations_1/test_rare.json')\n",
    "dataset_5_test = json.load(f)"
   ]
  },
  {
   "cell_type": "code",
   "execution_count": null,
   "id": "fcc28b6f-c41b-4d61-ab52-3425d00ae72d",
   "metadata": {},
   "outputs": [],
   "source": []
  },
  {
   "cell_type": "markdown",
   "id": "bfe2ac51-ea88-46fa-a34d-1494efb6b9f1",
   "metadata": {
    "jp-MarkdownHeadingCollapsed": true
   },
   "source": [
    "### Dataset 6"
   ]
  },
  {
   "cell_type": "code",
   "execution_count": 63,
   "id": "ee498748-0cba-4df6-8efc-445d5327c7c1",
   "metadata": {},
   "outputs": [],
   "source": [
    "dataset_6_train = pd.read_csv(\"./Data/Dialog corpus/ProblematicDialog/train.csv\")\n",
    "dataset_6_validation = pd.read_csv(\"./Data/Dialog corpus/ProblematicDialog/validation.csv\")\n",
    "dataset_6_test = pd.read_csv(\"./Data/Dialog corpus/ProblematicDialog/test.csv\")"
   ]
  },
  {
   "cell_type": "markdown",
   "id": "68a8cbde-a649-4e74-b61e-f9f603e6902c",
   "metadata": {
    "jp-MarkdownHeadingCollapsed": true
   },
   "source": [
    "### Dataset 7"
   ]
  },
  {
   "cell_type": "code",
   "execution_count": 64,
   "id": "1890f0aa-3661-49f4-b1f6-33cf8b2b30ef",
   "metadata": {},
   "outputs": [],
   "source": [
    "train_df_7_ = pd.read_csv(\"./Data/Dialog corpus/AIConv/train.csv\")\n",
    "validation_df_7_ = pd.read_csv(\"./Data/Dialog corpus/AIConv/val.csv\")"
   ]
  },
  {
   "cell_type": "markdown",
   "id": "58cd793e-b67c-418f-9f06-e0e51fb80bfc",
   "metadata": {
    "jp-MarkdownHeadingCollapsed": true
   },
   "source": [
    "### Dataset 8"
   ]
  },
  {
   "cell_type": "code",
   "execution_count": 65,
   "id": "5dab2c50-6ae6-46bb-b255-7a97d4d3f627",
   "metadata": {},
   "outputs": [],
   "source": [
    "with open(\"./Data/Dialog corpus/Covid_19_Dialogzip/COVID-Dialogue-Dataset-English.txt\", 'r', encoding='utf-8')as file:\n",
    "    dataset_8 = file.read()"
   ]
  },
  {
   "cell_type": "markdown",
   "id": "1db2a942-bdb7-45a2-b41b-9e3f600f7e4f",
   "metadata": {
    "jp-MarkdownHeadingCollapsed": true
   },
   "source": [
    "### Dataset 9"
   ]
  },
  {
   "cell_type": "code",
   "execution_count": 66,
   "id": "d9d8d498-c3ec-4e9f-850f-f3a5d336631a",
   "metadata": {},
   "outputs": [],
   "source": [
    "with open(\"./Data/Dialog corpus/SummarizationMovieDialog/JSONL/train.jsonl\", 'r', encoding='utf-8')as file:\n",
    "    dataset_9_train = file.read()\n",
    "with open(\"./Data/Dialog corpus/SummarizationMovieDialog/JSONL/validation.jsonl\", 'r', encoding='utf-8')as file:\n",
    "    dataset_9_validation = file.read()\n",
    "with open(\"./Data/Dialog corpus/SummarizationMovieDialog/JSONL/test.jsonl\", 'r', encoding='utf-8')as file:\n",
    "    dataset_9_test = file.read()\n"
   ]
  },
  {
   "cell_type": "markdown",
   "id": "3114f2cd-0a68-4e8b-8b7c-67bdce5ec237",
   "metadata": {
    "jp-MarkdownHeadingCollapsed": true
   },
   "source": [
    "### Dataset 10"
   ]
  },
  {
   "cell_type": "code",
   "execution_count": 67,
   "id": "e574411a-d475-4316-ad03-3957740c085a",
   "metadata": {},
   "outputs": [],
   "source": [
    "dataset_10 = load_dataset(\"yahma/alpaca-cleaned\")"
   ]
  },
  {
   "cell_type": "code",
   "execution_count": 68,
   "id": "876adaf4-4281-4ee0-84fe-4167f76e3f02",
   "metadata": {},
   "outputs": [
    {
     "data": {
      "text/plain": [
       "DatasetDict({\n",
       "    train: Dataset({\n",
       "        features: ['output', 'input', 'instruction'],\n",
       "        num_rows: 51760\n",
       "    })\n",
       "})"
      ]
     },
     "execution_count": 68,
     "metadata": {},
     "output_type": "execute_result"
    }
   ],
   "source": [
    "dataset_10"
   ]
  },
  {
   "cell_type": "markdown",
   "id": "76aa76fe-32c2-4361-9770-f54103534c6f",
   "metadata": {
    "jp-MarkdownHeadingCollapsed": true
   },
   "source": [
    "### Dataset 11"
   ]
  },
  {
   "cell_type": "code",
   "execution_count": 69,
   "id": "09ee938e-f92b-4405-be5c-9b8dca8ed536",
   "metadata": {},
   "outputs": [],
   "source": [
    "# dataset_11 = load_dataset(\"BAAI/Infinity-Instruct\")"
   ]
  },
  {
   "cell_type": "code",
   "execution_count": 70,
   "id": "ae765805-061d-4cbf-90cb-50ca0db98e01",
   "metadata": {},
   "outputs": [],
   "source": [
    "# dataset_11"
   ]
  },
  {
   "cell_type": "markdown",
   "id": "fd57f0e3-2c96-41b5-af23-c56a40a93203",
   "metadata": {
    "jp-MarkdownHeadingCollapsed": true
   },
   "source": [
    "### Dataset 12"
   ]
  },
  {
   "cell_type": "code",
   "execution_count": 71,
   "id": "aa2d90a5-0285-4aa8-8b24-c3b68157d3d6",
   "metadata": {},
   "outputs": [],
   "source": [
    "dataset_12 = load_dataset(\"meta-math/MetaMathQA\")"
   ]
  },
  {
   "cell_type": "code",
   "execution_count": 72,
   "id": "5822c17a-a69e-4a8e-b053-8f75c0cc0111",
   "metadata": {},
   "outputs": [
    {
     "data": {
      "text/plain": [
       "DatasetDict({\n",
       "    train: Dataset({\n",
       "        features: ['type', 'query', 'original_question', 'response'],\n",
       "        num_rows: 395000\n",
       "    })\n",
       "})"
      ]
     },
     "execution_count": 72,
     "metadata": {},
     "output_type": "execute_result"
    }
   ],
   "source": [
    "dataset_12"
   ]
  },
  {
   "cell_type": "code",
   "execution_count": 73,
   "id": "c5d22f25-0b8f-4824-914e-5e4b759be6d3",
   "metadata": {},
   "outputs": [],
   "source": [
    "# dataset_12[\"train\"][\"query\"]"
   ]
  },
  {
   "cell_type": "markdown",
   "id": "92715122-b078-4133-a26f-ad8381128f7e",
   "metadata": {
    "jp-MarkdownHeadingCollapsed": true
   },
   "source": [
    "### Dataset 13"
   ]
  },
  {
   "cell_type": "code",
   "execution_count": null,
   "id": "7ac2cd1d-1703-4c1b-adb6-31c21bd8c80a",
   "metadata": {},
   "outputs": [],
   "source": []
  },
  {
   "cell_type": "code",
   "execution_count": 74,
   "id": "4c7c5968-8e5e-4e5a-aab3-f34f781b48f2",
   "metadata": {},
   "outputs": [],
   "source": [
    "# dataset_13 = load_dataset(\"lmsys/lmsys-chat-1m\")"
   ]
  },
  {
   "cell_type": "markdown",
   "id": "ccce0173-cfcd-41bd-85e5-f4c9661556c1",
   "metadata": {
    "jp-MarkdownHeadingCollapsed": true
   },
   "source": [
    "### Dataset 14"
   ]
  },
  {
   "cell_type": "code",
   "execution_count": 75,
   "id": "aa373fb1-c745-4365-a62e-48d59a772d4d",
   "metadata": {},
   "outputs": [],
   "source": [
    "dataset_14 = load_dataset(\"Malikeh1375/medical-question-answering-datasets\", \"all-processed\")"
   ]
  },
  {
   "cell_type": "code",
   "execution_count": 76,
   "id": "7abf3ca9-6dfe-493d-8052-29748548c9a1",
   "metadata": {},
   "outputs": [],
   "source": [
    "# dataset_14[\"train\"][\"output\"]"
   ]
  },
  {
   "cell_type": "code",
   "execution_count": 77,
   "id": "187292a3-1a64-413e-8f50-6869e09f94d4",
   "metadata": {},
   "outputs": [
    {
     "data": {
      "text/plain": [
       "DatasetDict({\n",
       "    train: Dataset({\n",
       "        features: ['instruction', 'input', 'output', '__index_level_0__'],\n",
       "        num_rows: 246678\n",
       "    })\n",
       "})"
      ]
     },
     "execution_count": 77,
     "metadata": {},
     "output_type": "execute_result"
    }
   ],
   "source": [
    "dataset_14"
   ]
  },
  {
   "cell_type": "markdown",
   "id": "352d14a2-c49c-4a98-9c0a-2e1f832c6154",
   "metadata": {},
   "source": [
    "### +++++++++++++++++++++++++"
   ]
  },
  {
   "cell_type": "markdown",
   "id": "486fd79a-1c77-474c-995e-f5eb651a2a4f",
   "metadata": {
    "jp-MarkdownHeadingCollapsed": true
   },
   "source": [
    "### Dataset 15"
   ]
  },
  {
   "cell_type": "code",
   "execution_count": 78,
   "id": "0f52b509-3557-42e3-aa85-bcb25380acea",
   "metadata": {},
   "outputs": [],
   "source": [
    "dataset_15 = load_dataset(\"virattt/financial-qa-10K\")"
   ]
  },
  {
   "cell_type": "code",
   "execution_count": 79,
   "id": "bb0429f9-91f6-468a-9ec9-2dc948774edf",
   "metadata": {},
   "outputs": [
    {
     "data": {
      "text/plain": [
       "DatasetDict({\n",
       "    train: Dataset({\n",
       "        features: ['question', 'answer', 'context', 'ticker', 'filing'],\n",
       "        num_rows: 7000\n",
       "    })\n",
       "})"
      ]
     },
     "execution_count": 79,
     "metadata": {},
     "output_type": "execute_result"
    }
   ],
   "source": [
    "dataset_15"
   ]
  },
  {
   "cell_type": "markdown",
   "id": "fc50ed78-993e-407a-b71b-9d59d7fa6298",
   "metadata": {},
   "source": [
    "### Dataset 16"
   ]
  },
  {
   "cell_type": "code",
   "execution_count": 80,
   "id": "e6680673-7519-4943-b083-38496a5f37b1",
   "metadata": {},
   "outputs": [],
   "source": [
    "dataset_16 = load_dataset(\"DeividasM/financial-instruction-aq22\")"
   ]
  },
  {
   "cell_type": "code",
   "execution_count": 81,
   "id": "a2df3d5b-300f-4b9e-8bbe-310264d8db68",
   "metadata": {},
   "outputs": [
    {
     "data": {
      "text/plain": [
       "DatasetDict({\n",
       "    train: Dataset({\n",
       "        features: ['instruction', 'output'],\n",
       "        num_rows: 257820\n",
       "    })\n",
       "})"
      ]
     },
     "execution_count": 81,
     "metadata": {},
     "output_type": "execute_result"
    }
   ],
   "source": [
    "dataset_16"
   ]
  },
  {
   "cell_type": "code",
   "execution_count": 2,
   "id": "c9fdd4f9-a6f0-4000-91a8-f429d070006e",
   "metadata": {},
   "outputs": [
    {
     "name": "stderr",
     "output_type": "stream",
     "text": [
      "Repo card metadata block was not found. Setting CardData to empty.\n",
      "Downloading data: 100%|██████████| 4.83G/4.83G [17:08<00:00, 4.70MB/s]\n",
      "Downloading data: 100%|██████████| 6.13G/6.13G [21:38<00:00, 4.72MB/s]\n",
      "Downloading data: 100%|██████████| 7.12G/7.12G [23:29<00:00, 5.05MB/s]\n",
      "Downloading data: 100%|██████████| 4.03G/4.03G [12:31<00:00, 5.35MB/s]\n",
      "Generating train split: 127445911 examples [12:12, 173903.61 examples/s]\n"
     ]
    }
   ],
   "source": [
    "dataset = load_dataset(\"sentence-transformers/reddit-title-body\")"
   ]
  },
  {
   "cell_type": "code",
   "execution_count": null,
   "id": "d8196663-bad8-44c7-8cd6-e7b85fdf00e5",
   "metadata": {},
   "outputs": [],
   "source": []
  },
  {
   "cell_type": "markdown",
   "id": "e394b6e7-7c2c-4633-8406-a92271aa6c85",
   "metadata": {},
   "source": [
    "### Dataset 17 Pending"
   ]
  },
  {
   "cell_type": "code",
   "execution_count": 2,
   "id": "76cf38ed-a721-4058-83bd-613fce9475f4",
   "metadata": {},
   "outputs": [
    {
     "ename": "NameError",
     "evalue": "name 'load_dataset' is not defined",
     "output_type": "error",
     "traceback": [
      "\u001b[1;31m---------------------------------------------------------------------------\u001b[0m",
      "\u001b[1;31mNameError\u001b[0m                                 Traceback (most recent call last)",
      "Cell \u001b[1;32mIn[2], line 9\u001b[0m\n\u001b[0;32m      1\u001b[0m datasets \u001b[38;5;241m=\u001b[39m [\u001b[38;5;124m\"\u001b[39m\u001b[38;5;124mtriplet-50-ids\u001b[39m\u001b[38;5;124m\"\u001b[39m,\n\u001b[0;32m      2\u001b[0m \u001b[38;5;124m\"\u001b[39m\u001b[38;5;124mtriplet-50\u001b[39m\u001b[38;5;124m\"\u001b[39m,\n\u001b[0;32m      3\u001b[0m \u001b[38;5;124m\"\u001b[39m\u001b[38;5;124mtriplet-all-ids\u001b[39m\u001b[38;5;124m\"\u001b[39m,\n\u001b[1;32m   (...)\u001b[0m\n\u001b[0;32m      7\u001b[0m \u001b[38;5;124m\"\u001b[39m\u001b[38;5;124mtriplet-ids\u001b[39m\u001b[38;5;124m\"\u001b[39m,\n\u001b[0;32m      8\u001b[0m \u001b[38;5;124m\"\u001b[39m\u001b[38;5;124mtriplet\u001b[39m\u001b[38;5;124m\"\u001b[39m]\n\u001b[1;32m----> 9\u001b[0m ds \u001b[38;5;241m=\u001b[39m \u001b[43mload_dataset\u001b[49m(\u001b[38;5;124m\"\u001b[39m\u001b[38;5;124msentence-transformers/msmarco-bm25\u001b[39m\u001b[38;5;124m\"\u001b[39m, \u001b[38;5;124m\"\u001b[39m\u001b[38;5;124mtriplet\u001b[39m\u001b[38;5;124m\"\u001b[39m)\n",
      "\u001b[1;31mNameError\u001b[0m: name 'load_dataset' is not defined"
     ]
    }
   ],
   "source": [
    "datasets = [\"triplet-50-ids\",\n",
    "\"triplet-50\",\n",
    "\"triplet-all-ids\",\n",
    "\"triplet-all\",\n",
    "\"triplet-hard-ids\",\n",
    "\"triplet-hard\",\n",
    "\"triplet-ids\",\n",
    "\"triplet\"]\n",
    "ds = load_dataset(\"sentence-transformers/msmarco-bm25\", \"triplet\")\n",
    "ds = load_dataset(\"Isotonic/human_assistant_conversation\")"
   ]
  },
  {
   "cell_type": "markdown",
   "id": "6325dd13-de9b-4012-918a-7ede858d2c50",
   "metadata": {},
   "source": [
    "## Data Structuring"
   ]
  },
  {
   "cell_type": "code",
   "execution_count": 82,
   "id": "e50a29a5-7f88-4083-a0f5-c2c3d1c39352",
   "metadata": {},
   "outputs": [],
   "source": [
    "assistant = \"Sky\"\n",
    "owner = \"Akshay\"\n",
    "callSign = [\"Hello {},\".format(assistant), \"Hi {},\".format(assistant),\"{},\".format(assistant),\"Hey {},\".format(assistant)]\n",
    "response = [\"Hello {} Sir,\".format(owner), \"Hi {} Sir,\".format(owner)]\n",
    "response_1 = [\"Sure {} Sir,\".format(owner),\"Alright {} Sir,\".format(owner),\"Okay {} Sir,\".format(owner),\"Working on it {} Sir,\".format(owner),\"Yes {} Sir,\".format(owner)]\n",
    "math = [\"I want you to act as a mathematician.\",\"Will you answer my questions regarding maths?\",\"Please answer this mathematics question.\",\"\"]\n",
    "medical = [\"I want you to act as a doctor.\",\"Will you answer my questions regarding medicine?\",\"Please answer this question regarding medicine.\",\"\"]"
   ]
  },
  {
   "cell_type": "code",
   "execution_count": 83,
   "id": "e709de85-1fa7-4698-88b8-ab136b7516ed",
   "metadata": {},
   "outputs": [],
   "source": [
    "import random\n",
    "def get_random_call_sign(list):\n",
    "    return random.choice(list)"
   ]
  },
  {
   "cell_type": "code",
   "execution_count": 84,
   "id": "109969f5-2383-47df-b69e-af6f3c100b2a",
   "metadata": {},
   "outputs": [
    {
     "data": {
      "text/plain": [
       "'Hello Akshay Sir,'"
      ]
     },
     "execution_count": 84,
     "metadata": {},
     "output_type": "execute_result"
    }
   ],
   "source": [
    "get_random_call_sign(response)"
   ]
  },
  {
   "cell_type": "markdown",
   "id": "9f88fb62-b454-4c5c-a9fb-12b8005fc2f2",
   "metadata": {},
   "source": [
    "### Dataset 1"
   ]
  },
  {
   "cell_type": "code",
   "execution_count": 85,
   "id": "de9cbb1e-c24a-4656-875a-f4988f5a5294",
   "metadata": {},
   "outputs": [],
   "source": [
    "def dataset_to_dataframe_1(data,output_dict):\n",
    "    for idx1 in range(0,len(data)):\n",
    "        context = \"\"\n",
    "        previousAns = \"\"\n",
    "        if(idx1 % 1000 == 0 or idx1 == len(data) - 1):\n",
    "            print(f'\\rProgress: {idx1}/{len(data)}', end='', flush=True)\n",
    "        if idx1 == len(data) - 1:\n",
    "            print()\n",
    "        split_1 = data[idx1].split(\"####Human####:\")\n",
    "        for idx2 in range(0,len(split_1)):\n",
    "            split_2 = split_1[idx2].split(\"####Assistant####:\")\n",
    "            if len(split_2) != 2:\n",
    "                continue\n",
    "            if previousAns == \"\":\n",
    "                context = context+\"agent_1:\"+get_random_call_sign(callSign)+split_2[0]\n",
    "            else:\n",
    "                context = context+\"agent_2:\"+previousAns+\"agent_1:\"+split_2[0]\n",
    "            if(len(context.split(\" \")) > 700):\n",
    "                output_dict[\"agent_1\"].append(\"agent_1:\"+split_2[0].replace(\"\\n\",\"\"))\n",
    "            else:\n",
    "                output_dict[\"agent_1\"].append(context.replace(\"\\n\",\"\"))\n",
    "            output_dict[\"agent_2\"].append(split_2[1].replace(\"\\n\",\"\").replace(\"<|stop|>\",\"\"))\n",
    "            previousAns = split_2[1].replace(\"\\n\",\"\").replace(\"<|stop|>\",\"\")\n",
    "    return pd.DataFrame(output_dict)"
   ]
  },
  {
   "cell_type": "code",
   "execution_count": 86,
   "id": "5b66c135-e342-49dc-913e-a57ad1477b12",
   "metadata": {},
   "outputs": [
    {
     "name": "stdout",
     "output_type": "stream",
     "text": [
      "Progress: 586783/586784\n",
      "Progress: 73348/73349\n",
      "Progress: 73347/73348\n"
     ]
    }
   ],
   "source": [
    "data_dict_1 = {\"agent_1\":[],\"agent_2\":[]}\n",
    "train_df_1 = dataset_to_dataframe_1(dataset[\"train\"][\"text\"],data_dict_1)\n",
    "data_dict_1 = {\"agent_1\":[],\"agent_2\":[]}\n",
    "test_df_1 = dataset_to_dataframe_1(dataset[\"test\"][\"text\"],data_dict_1)\n",
    "data_dict_1 = {\"agent_1\":[],\"agent_2\":[]}\n",
    "validation_df_1 = dataset_to_dataframe_1(dataset[\"validation\"][\"text\"],data_dict_1)"
   ]
  },
  {
   "cell_type": "code",
   "execution_count": 87,
   "id": "dd61fa2e-959a-4479-8f63-fdc358532dab",
   "metadata": {},
   "outputs": [
    {
     "data": {
      "text/html": [
       "<div>\n",
       "<style scoped>\n",
       "    .dataframe tbody tr th:only-of-type {\n",
       "        vertical-align: middle;\n",
       "    }\n",
       "\n",
       "    .dataframe tbody tr th {\n",
       "        vertical-align: top;\n",
       "    }\n",
       "\n",
       "    .dataframe thead th {\n",
       "        text-align: right;\n",
       "    }\n",
       "</style>\n",
       "<table border=\"1\" class=\"dataframe\">\n",
       "  <thead>\n",
       "    <tr style=\"text-align: right;\">\n",
       "      <th></th>\n",
       "      <th>agent_1</th>\n",
       "      <th>agent_2</th>\n",
       "    </tr>\n",
       "  </thead>\n",
       "  <tbody>\n",
       "    <tr>\n",
       "      <th>0</th>\n",
       "      <td>agent_1:Hello Sky, What is the best way to sav...</td>\n",
       "      <td>The best way to save money on automobile repa...</td>\n",
       "    </tr>\n",
       "    <tr>\n",
       "      <th>1</th>\n",
       "      <td>agent_1:Hello Sky, What is the best way to sav...</td>\n",
       "      <td>Regular maintenance requires professional pre...</td>\n",
       "    </tr>\n",
       "    <tr>\n",
       "      <th>2</th>\n",
       "      <td>agent_1:Hey Sky, Someone recommended Spin clas...</td>\n",
       "      <td>Spin class typically involves exercising on a...</td>\n",
       "    </tr>\n",
       "    <tr>\n",
       "      <th>3</th>\n",
       "      <td>agent_1:Hey Sky, Someone recommended Spin clas...</td>\n",
       "      <td>Spin classes can help you build lower body st...</td>\n",
       "    </tr>\n",
       "    <tr>\n",
       "      <th>4</th>\n",
       "      <td>agent_1:Hey Sky, Someone recommended Spin clas...</td>\n",
       "      <td>Yes, absolutely! Spins Classes can be a great...</td>\n",
       "    </tr>\n",
       "  </tbody>\n",
       "</table>\n",
       "</div>"
      ],
      "text/plain": [
       "                                             agent_1  \\\n",
       "0  agent_1:Hello Sky, What is the best way to sav...   \n",
       "1  agent_1:Hello Sky, What is the best way to sav...   \n",
       "2  agent_1:Hey Sky, Someone recommended Spin clas...   \n",
       "3  agent_1:Hey Sky, Someone recommended Spin clas...   \n",
       "4  agent_1:Hey Sky, Someone recommended Spin clas...   \n",
       "\n",
       "                                             agent_2  \n",
       "0   The best way to save money on automobile repa...  \n",
       "1   Regular maintenance requires professional pre...  \n",
       "2   Spin class typically involves exercising on a...  \n",
       "3   Spin classes can help you build lower body st...  \n",
       "4   Yes, absolutely! Spins Classes can be a great...  "
      ]
     },
     "execution_count": 87,
     "metadata": {},
     "output_type": "execute_result"
    }
   ],
   "source": [
    "train_df_1.head()"
   ]
  },
  {
   "cell_type": "code",
   "execution_count": 88,
   "id": "7abac590-e744-4454-811e-78673e3c32da",
   "metadata": {},
   "outputs": [
    {
     "data": {
      "text/plain": [
       "847226"
      ]
     },
     "execution_count": 88,
     "metadata": {},
     "output_type": "execute_result"
    }
   ],
   "source": [
    "len(train_df_1)"
   ]
  },
  {
   "cell_type": "markdown",
   "id": "32f38faa-0321-4d59-b75d-55b2e3254215",
   "metadata": {},
   "source": [
    "### Dataset 3"
   ]
  },
  {
   "cell_type": "code",
   "execution_count": null,
   "id": "5f8984b8-1dc9-42a4-924b-23285467d023",
   "metadata": {},
   "outputs": [],
   "source": []
  },
  {
   "cell_type": "code",
   "execution_count": 89,
   "id": "d22e36d7-588c-4389-8b1f-6e275c6ebde1",
   "metadata": {},
   "outputs": [],
   "source": [
    "def dataset_to_dataframe_3(data,ids,output_dict):\n",
    "    unique_id = list(set(ids))\n",
    "    counter = 0\n",
    "    # for i in range(0,len(data)-1,2):\n",
    "    for u in unique_id:\n",
    "        context = \"\"\n",
    "        previousAns = \"\"\n",
    "        flag = True\n",
    "        temp = 0\n",
    "        for id in ids[counter:]:\n",
    "            if counter >= len(data):\n",
    "                break\n",
    "            # print(previousAns)\n",
    "            if u == id and flag:\n",
    "                if previousAns == \"\" or len(context.split(\" \")) > 700:\n",
    "                    context = context+\"agent_1:\"+get_random_call_sign(callSign)+data[counter]\n",
    "                else:\n",
    "                    context = context+\"agent_2:\"+previousAns+\"agent_1:\"+data[counter]\n",
    "                output_dict[\"agent_1\"].append(context)\n",
    "                flag = False\n",
    "                counter = counter+1\n",
    "                temp = temp+1\n",
    "            elif u == id and not flag:\n",
    "                output_dict[\"agent_2\"].append(data[counter])\n",
    "                previousAns = data[counter]\n",
    "                flag = True\n",
    "                counter = counter+1\n",
    "                temp = temp+1\n",
    "            elif u != id:\n",
    "                if len(output_dict[\"agent_1\"]) > len(output_dict[\"agent_2\"]):\n",
    "                    output_dict[\"agent_1\"] = output_dict[\"agent_1\"][:-1]\n",
    "                elif len(output_dict[\"agent_1\"]) < len(output_dict[\"agent_2\"]):\n",
    "                    output_dict[\"agent_2\"] = output_dict[\"agent_2\"][:-1]\n",
    "                break\n",
    "    \n",
    "    return pd.DataFrame(output_dict)"
   ]
  },
  {
   "cell_type": "code",
   "execution_count": 90,
   "id": "fd46cdad-1d7b-47ee-82aa-17555839b717",
   "metadata": {},
   "outputs": [],
   "source": [
    "data_dict_3 = {\"agent_1\":[],\"agent_2\":[]}\n",
    "train_df_3 = dataset_to_dataframe_3(dataset_3[\"train\"][\"utterance\"],dataset_3[\"train\"][\"dialog_id\"],data_dict_3)\n",
    "data_dict_3 = {\"agent_1\":[],\"agent_2\":[]}\n",
    "test_df_3 = dataset_to_dataframe_3(dataset_3[\"test\"][\"utterance\"],dataset_3[\"train\"][\"dialog_id\"],data_dict_3)\n",
    "data_dict_3 = {\"agent_1\":[],\"agent_2\":[]}\n",
    "validation_df_3 = dataset_to_dataframe_3(dataset_3[\"validation\"][\"utterance\"],dataset_3[\"train\"][\"dialog_id\"],data_dict_3)"
   ]
  },
  {
   "cell_type": "code",
   "execution_count": 91,
   "id": "a1486db9-da39-47a4-81a6-1659531d6f7b",
   "metadata": {},
   "outputs": [],
   "source": [
    "# train_df_3.to_csv(\"test.csv\")"
   ]
  },
  {
   "cell_type": "code",
   "execution_count": 92,
   "id": "e57c9fff-d162-467b-921a-b9f10405e4ce",
   "metadata": {},
   "outputs": [
    {
     "data": {
      "text/html": [
       "<div>\n",
       "<style scoped>\n",
       "    .dataframe tbody tr th:only-of-type {\n",
       "        vertical-align: middle;\n",
       "    }\n",
       "\n",
       "    .dataframe tbody tr th {\n",
       "        vertical-align: top;\n",
       "    }\n",
       "\n",
       "    .dataframe thead th {\n",
       "        text-align: right;\n",
       "    }\n",
       "</style>\n",
       "<table border=\"1\" class=\"dataframe\">\n",
       "  <thead>\n",
       "    <tr style=\"text-align: right;\">\n",
       "      <th></th>\n",
       "      <th>agent_1</th>\n",
       "      <th>agent_2</th>\n",
       "    </tr>\n",
       "  </thead>\n",
       "  <tbody>\n",
       "    <tr>\n",
       "      <th>0</th>\n",
       "      <td>agent_1:Hi Sky,Say , Jim , how about going for...</td>\n",
       "      <td>You know that is tempting but is really not g...</td>\n",
       "    </tr>\n",
       "    <tr>\n",
       "      <th>1</th>\n",
       "      <td>agent_1:Hi Sky,Say , Jim , how about going for...</td>\n",
       "      <td>Do you really think so ? I don't . It will ju...</td>\n",
       "    </tr>\n",
       "    <tr>\n",
       "      <th>2</th>\n",
       "      <td>agent_1:Hi Sky,Say , Jim , how about going for...</td>\n",
       "      <td>I suggest a walk over to the gym where we can...</td>\n",
       "    </tr>\n",
       "    <tr>\n",
       "      <th>3</th>\n",
       "      <td>agent_1:Hi Sky,Say , Jim , how about going for...</td>\n",
       "      <td>Sounds great to me ! If they are willing , we...</td>\n",
       "    </tr>\n",
       "    <tr>\n",
       "      <th>4</th>\n",
       "      <td>agent_1:Hi Sky,Say , Jim , how about going for...</td>\n",
       "      <td>All right .</td>\n",
       "    </tr>\n",
       "  </tbody>\n",
       "</table>\n",
       "</div>"
      ],
      "text/plain": [
       "                                             agent_1  \\\n",
       "0  agent_1:Hi Sky,Say , Jim , how about going for...   \n",
       "1  agent_1:Hi Sky,Say , Jim , how about going for...   \n",
       "2  agent_1:Hi Sky,Say , Jim , how about going for...   \n",
       "3  agent_1:Hi Sky,Say , Jim , how about going for...   \n",
       "4  agent_1:Hi Sky,Say , Jim , how about going for...   \n",
       "\n",
       "                                             agent_2  \n",
       "0   You know that is tempting but is really not g...  \n",
       "1   Do you really think so ? I don't . It will ju...  \n",
       "2   I suggest a walk over to the gym where we can...  \n",
       "3   Sounds great to me ! If they are willing , we...  \n",
       "4                                       All right .   "
      ]
     },
     "execution_count": 92,
     "metadata": {},
     "output_type": "execute_result"
    }
   ],
   "source": [
    "train_df_3.head()"
   ]
  },
  {
   "cell_type": "code",
   "execution_count": 93,
   "id": "1b245a32-6b8c-42f9-a11d-470b6baba24a",
   "metadata": {},
   "outputs": [
    {
     "data": {
      "text/plain": [
       "41637"
      ]
     },
     "execution_count": 93,
     "metadata": {},
     "output_type": "execute_result"
    }
   ],
   "source": [
    "len(train_df_3)"
   ]
  },
  {
   "cell_type": "markdown",
   "id": "971dc1ee-db5b-41d5-9601-bfc7ee839fc8",
   "metadata": {},
   "source": [
    "### Dataset 4"
   ]
  },
  {
   "cell_type": "code",
   "execution_count": 94,
   "id": "70a796f5-b2b9-470b-85ce-d8a36d655bc8",
   "metadata": {},
   "outputs": [],
   "source": [
    "def dataset_to_dataframe_4(data,output_dict):\n",
    "    for i in range(0,len(data)-1,2):\n",
    "        if \"Human 1:\" in data[i] and \"Human 2:\" in data[i+1]:\n",
    "            output_dict[\"agent_1\"].append(data[i].replace(\"Human 1:\",\"\"))\n",
    "            output_dict[\"agent_2\"].append(data[i+1].replace(\"Human 2:\",\"\"))\n",
    "    return pd.DataFrame(output_dict)"
   ]
  },
  {
   "cell_type": "code",
   "execution_count": 95,
   "id": "8b26a909-961c-4657-a03d-9db5f8f85eed",
   "metadata": {},
   "outputs": [],
   "source": [
    "training_data = dataset_4.split(\"\\n\")\n",
    "data_dict_4 = {\"agent_1\":[],\"agent_2\":[]}\n",
    "train_df_4 = dataset_to_dataframe_4(training_data,data_dict_4)"
   ]
  },
  {
   "cell_type": "code",
   "execution_count": 96,
   "id": "e117308a-e42f-40b5-9897-8451e5ce00fd",
   "metadata": {},
   "outputs": [],
   "source": [
    "X_train, X_test, y_train, y_test = train_test_split(train_df_4[\"agent_1\"], train_df_4[\"agent_2\"], test_size=0.2, random_state=42)"
   ]
  },
  {
   "cell_type": "code",
   "execution_count": 97,
   "id": "18c940ee-0a58-4523-9639-19030a6413b3",
   "metadata": {},
   "outputs": [],
   "source": [
    "train_df_4 = pd.DataFrame()\n",
    "validation_df_4 = pd.DataFrame()\n",
    "train_df_4[\"agent_1\"] = X_train\n",
    "train_df_4[\"agent_2\"] = y_train\n",
    "validation_df_4[\"agent_1\"] = X_test\n",
    "validation_df_4[\"agent_2\"] = y_test"
   ]
  },
  {
   "cell_type": "code",
   "execution_count": 98,
   "id": "942563fc-dc6e-4819-b8e6-dd000be3f250",
   "metadata": {},
   "outputs": [
    {
     "data": {
      "text/html": [
       "<div>\n",
       "<style scoped>\n",
       "    .dataframe tbody tr th:only-of-type {\n",
       "        vertical-align: middle;\n",
       "    }\n",
       "\n",
       "    .dataframe tbody tr th {\n",
       "        vertical-align: top;\n",
       "    }\n",
       "\n",
       "    .dataframe thead th {\n",
       "        text-align: right;\n",
       "    }\n",
       "</style>\n",
       "<table border=\"1\" class=\"dataframe\">\n",
       "  <thead>\n",
       "    <tr style=\"text-align: right;\">\n",
       "      <th></th>\n",
       "      <th>agent_1</th>\n",
       "      <th>agent_2</th>\n",
       "    </tr>\n",
       "  </thead>\n",
       "  <tbody>\n",
       "    <tr>\n",
       "      <th>693</th>\n",
       "      <td>that seems like a good book. does it have goo...</td>\n",
       "      <td>I think so! I haven't finished it yet though ...</td>\n",
       "    </tr>\n",
       "    <tr>\n",
       "      <th>361</th>\n",
       "      <td>yes I do. you act like a robot how about me? ...</td>\n",
       "      <td>a little bit haha</td>\n",
       "    </tr>\n",
       "    <tr>\n",
       "      <th>266</th>\n",
       "      <td>Wow! The last time I paid attention to that s...</td>\n",
       "      <td>Interesting. I heard about the sweet substitu...</td>\n",
       "    </tr>\n",
       "    <tr>\n",
       "      <th>90</th>\n",
       "      <td>The gerbera. It's like a cartoon flower. As i...</td>\n",
       "      <td>Nice, i would love know more about your theor...</td>\n",
       "    </tr>\n",
       "    <tr>\n",
       "      <th>368</th>\n",
       "      <td>Lol. I'm finna be single.</td>\n",
       "      <td>Hehe, everyone is much finer being single 🙂</td>\n",
       "    </tr>\n",
       "  </tbody>\n",
       "</table>\n",
       "</div>"
      ],
      "text/plain": [
       "                                               agent_1  \\\n",
       "693   that seems like a good book. does it have goo...   \n",
       "361   yes I do. you act like a robot how about me? ...   \n",
       "266   Wow! The last time I paid attention to that s...   \n",
       "90    The gerbera. It's like a cartoon flower. As i...   \n",
       "368                          Lol. I'm finna be single.   \n",
       "\n",
       "                                               agent_2  \n",
       "693   I think so! I haven't finished it yet though ...  \n",
       "361                                  a little bit haha  \n",
       "266   Interesting. I heard about the sweet substitu...  \n",
       "90    Nice, i would love know more about your theor...  \n",
       "368        Hehe, everyone is much finer being single 🙂  "
      ]
     },
     "execution_count": 98,
     "metadata": {},
     "output_type": "execute_result"
    }
   ],
   "source": [
    "train_df_4.head()"
   ]
  },
  {
   "cell_type": "code",
   "execution_count": 99,
   "id": "8f9e8adc-6596-496e-8a1c-4fbc61e90c20",
   "metadata": {},
   "outputs": [
    {
     "data": {
      "text/plain": [
       "608"
      ]
     },
     "execution_count": 99,
     "metadata": {},
     "output_type": "execute_result"
    }
   ],
   "source": [
    "len(train_df_4)"
   ]
  },
  {
   "cell_type": "markdown",
   "id": "005b9a72-f84f-42fc-94bb-a7be411b66e9",
   "metadata": {},
   "source": [
    "### Dataset 5"
   ]
  },
  {
   "cell_type": "code",
   "execution_count": 100,
   "id": "dfb01ffe-e45e-4d51-9400-e28ca51d9949",
   "metadata": {},
   "outputs": [],
   "source": [
    "def dataset_to_dataframe(data_dict_5,dataset_5):\n",
    "    conversation_id = []\n",
    "    for idx,key in enumerate(dataset_5.keys()):\n",
    "        conversation_id.append(key)\n",
    "    df = pd.DataFrame()\n",
    "    ############################################################################\n",
    "    for idx,id in enumerate(conversation_id):\n",
    "        if idx%100 == 0:\n",
    "            print(f'\\rProgress: {idx}/{len(conversation_id)}', end='', flush=True)\n",
    "        context = \"\"\n",
    "        previousAns = \"\"\n",
    "        agent_1 = [];agent_2 = []\n",
    "        content = dataset_5[id][\"content\"]\n",
    "        for idx2 in range(0,len(content)-1,2):\n",
    "            if content[idx2][\"agent\"] == \"agent_1\" and content[idx2+1][\"agent\"] == \"agent_2\":\n",
    "                if previousAns == \"\" or len(context.split(\" \")) > 700:\n",
    "                    context = context+\"agent_1:\"+get_random_call_sign(callSign)+content[idx2][\"message\"]\n",
    "                else:\n",
    "                    context = context+\"agent_2:\"+previousAns+\"agent_1:\"+content[idx2][\"message\"]\n",
    "                data_dict_5[\"agent_1\"].append(context)\n",
    "                data_dict_5[\"agent_2\"].append(content[idx2+1][\"message\"])\n",
    "                previousAns = content[idx2+1][\"message\"]\n",
    "                \n",
    "        if len(data_dict_5[\"agent_1\"]) > len(data_dict_5[\"agent_2\"]):\n",
    "            data_dict_5[\"agent_1\"] = data_dict_5[\"agent_1\"][:-1]\n",
    "        elif len(data_dict_5[\"agent_1\"]) < len(data_dict_5[\"agent_2\"]):\n",
    "            data_dict_5[\"agent_2\"] = data_dict_5[\"agent_2\"][:-1]\n",
    "    df = pd.DataFrame(data_dict_5)\n",
    "    return df"
   ]
  },
  {
   "cell_type": "code",
   "execution_count": 101,
   "id": "b6956507-c95c-4980-b39c-77b98107441d",
   "metadata": {},
   "outputs": [
    {
     "name": "stdout",
     "output_type": "stream",
     "text": [
      "Progress: 8600/8628\n",
      "Progress: 500/539\n",
      "Progress: 500/539"
     ]
    }
   ],
   "source": [
    "context_window = 2\n",
    "data_dict_5 = {\"agent_1\":[],\"agent_2\":[]}\n",
    "train_df_5 = dataset_to_dataframe(data_dict_5,dataset_5_train)\n",
    "print()\n",
    "data_dict_5 = {\"agent_1\":[],\"agent_2\":[]}\n",
    "validation_df_5 = dataset_to_dataframe(data_dict_5,dataset_5_validation)\n",
    "print()\n",
    "data_dict_5 = {\"agent_1\":[],\"agent_2\":[]}\n",
    "test_df_5 = dataset_to_dataframe(data_dict_5,dataset_5_test)"
   ]
  },
  {
   "cell_type": "code",
   "execution_count": 102,
   "id": "a20f4e7f-1850-42d5-93e7-1005fb7451bb",
   "metadata": {},
   "outputs": [
    {
     "data": {
      "text/html": [
       "<div>\n",
       "<style scoped>\n",
       "    .dataframe tbody tr th:only-of-type {\n",
       "        vertical-align: middle;\n",
       "    }\n",
       "\n",
       "    .dataframe tbody tr th {\n",
       "        vertical-align: top;\n",
       "    }\n",
       "\n",
       "    .dataframe thead th {\n",
       "        text-align: right;\n",
       "    }\n",
       "</style>\n",
       "<table border=\"1\" class=\"dataframe\">\n",
       "  <thead>\n",
       "    <tr style=\"text-align: right;\">\n",
       "      <th></th>\n",
       "      <th>agent_1</th>\n",
       "      <th>agent_2</th>\n",
       "    </tr>\n",
       "  </thead>\n",
       "  <tbody>\n",
       "    <tr>\n",
       "      <th>0</th>\n",
       "      <td>agent_1:Hi Sky,Are you a fan of Google or Micr...</td>\n",
       "      <td>Both are excellent technology they are helpful...</td>\n",
       "    </tr>\n",
       "    <tr>\n",
       "      <th>1</th>\n",
       "      <td>agent_1:Hi Sky,Are you a fan of Google or Micr...</td>\n",
       "      <td>Google provides online related services and pr...</td>\n",
       "    </tr>\n",
       "    <tr>\n",
       "      <th>2</th>\n",
       "      <td>agent_1:Hi Sky,Are you a fan of Google or Micr...</td>\n",
       "      <td>Google is leading the alphabet subsidiary and ...</td>\n",
       "    </tr>\n",
       "    <tr>\n",
       "      <th>3</th>\n",
       "      <td>agent_1:Hi Sky,Are you a fan of Google or Micr...</td>\n",
       "      <td>It is very interesting. Google provide \"Chrome...</td>\n",
       "    </tr>\n",
       "    <tr>\n",
       "      <th>4</th>\n",
       "      <td>agent_1:Hi Sky,Are you a fan of Google or Micr...</td>\n",
       "      <td>Yes.Google is the biggest search engine and Go...</td>\n",
       "    </tr>\n",
       "  </tbody>\n",
       "</table>\n",
       "</div>"
      ],
      "text/plain": [
       "                                             agent_1  \\\n",
       "0  agent_1:Hi Sky,Are you a fan of Google or Micr...   \n",
       "1  agent_1:Hi Sky,Are you a fan of Google or Micr...   \n",
       "2  agent_1:Hi Sky,Are you a fan of Google or Micr...   \n",
       "3  agent_1:Hi Sky,Are you a fan of Google or Micr...   \n",
       "4  agent_1:Hi Sky,Are you a fan of Google or Micr...   \n",
       "\n",
       "                                             agent_2  \n",
       "0  Both are excellent technology they are helpful...  \n",
       "1  Google provides online related services and pr...  \n",
       "2  Google is leading the alphabet subsidiary and ...  \n",
       "3  It is very interesting. Google provide \"Chrome...  \n",
       "4  Yes.Google is the biggest search engine and Go...  "
      ]
     },
     "execution_count": 102,
     "metadata": {},
     "output_type": "execute_result"
    }
   ],
   "source": [
    "train_df_5.head()"
   ]
  },
  {
   "cell_type": "code",
   "execution_count": 103,
   "id": "268a0b01-e4df-4e45-8cb4-ab795eb0e322",
   "metadata": {},
   "outputs": [
    {
     "data": {
      "text/plain": [
       "91174"
      ]
     },
     "execution_count": 103,
     "metadata": {},
     "output_type": "execute_result"
    }
   ],
   "source": [
    "len(train_df_5)"
   ]
  },
  {
   "cell_type": "markdown",
   "id": "ba8944ee-bd2c-4186-855b-391f47b77866",
   "metadata": {},
   "source": [
    "### Dataset 6"
   ]
  },
  {
   "cell_type": "code",
   "execution_count": 104,
   "id": "514fb496-dcf6-40a4-9457-945ea34c3946",
   "metadata": {},
   "outputs": [],
   "source": [
    "def dataset_to_dataframe_6(agent_1,agent_2,ids):\n",
    "    output_dict = {\"agent_1\":[],\"agent_2\":[]}\n",
    "    unique_id = list(set(ids))\n",
    "    counter = 0\n",
    "    for u in unique_id:\n",
    "        context = \"\"\n",
    "        previousAns = \"\"\n",
    "        for id in ids[counter:]:\n",
    "            # if counter >= len(data):\n",
    "            #     break\n",
    "            # print(previousAns)\n",
    "            if u == id:\n",
    "                if previousAns == \"\" or len(context.split(\" \")) > 700:\n",
    "                    context = context+\"agent_1:\"+get_random_call_sign(callSign)+agent_1[counter]\n",
    "                else:\n",
    "                    context = context+\"agent_2:\"+previousAns+\"agent_1:\"+agent_1[counter]\n",
    "                output_dict[\"agent_1\"].append(context)\n",
    "                output_dict[\"agent_2\"].append(agent_2[counter])\n",
    "                previousAns = agent_2[counter]\n",
    "                counter = counter+1\n",
    "            elif u != id:\n",
    "                if len(output_dict[\"agent_1\"]) > len(output_dict[\"agent_2\"]):\n",
    "                    output_dict[\"agent_1\"] = output_dict[\"agent_1\"][:-1]\n",
    "                elif len(output_dict[\"agent_1\"]) < len(output_dict[\"agent_2\"]):\n",
    "                    output_dict[\"agent_2\"] = output_dict[\"agent_2\"][:-1]\n",
    "                break\n",
    "    \n",
    "    return pd.DataFrame(output_dict)"
   ]
  },
  {
   "cell_type": "code",
   "execution_count": 105,
   "id": "7879e737-6e9a-4b13-a6ff-ab9eb90cbf50",
   "metadata": {},
   "outputs": [],
   "source": [
    "train_df_6 = dataset_to_dataframe_6(dataset_6_train[\"context\"],\n",
    "                                    dataset_6_train[\"response\"],\n",
    "                                    dataset_6_train[\"dialogue_id\"])\n",
    "\n",
    "test_df_6 = dataset_to_dataframe_6(dataset_6_test[\"context\"],\n",
    "                                    dataset_6_test[\"response\"],\n",
    "                                    dataset_6_test[\"dialogue_id\"])\n",
    "validation_df_6 = dataset_to_dataframe_6(dataset_6_validation[\"context\"],\n",
    "                                    dataset_6_validation[\"response\"],\n",
    "                                    dataset_6_validation[\"dialogue_id\"])"
   ]
  },
  {
   "cell_type": "code",
   "execution_count": 106,
   "id": "82ebfbd9-4c24-4d33-8f3f-7d3b80e7d69a",
   "metadata": {},
   "outputs": [
    {
     "data": {
      "text/html": [
       "<div>\n",
       "<style scoped>\n",
       "    .dataframe tbody tr th:only-of-type {\n",
       "        vertical-align: middle;\n",
       "    }\n",
       "\n",
       "    .dataframe tbody tr th {\n",
       "        vertical-align: top;\n",
       "    }\n",
       "\n",
       "    .dataframe thead th {\n",
       "        text-align: right;\n",
       "    }\n",
       "</style>\n",
       "<table border=\"1\" class=\"dataframe\">\n",
       "  <thead>\n",
       "    <tr style=\"text-align: right;\">\n",
       "      <th></th>\n",
       "      <th>agent_1</th>\n",
       "      <th>agent_2</th>\n",
       "    </tr>\n",
       "  </thead>\n",
       "  <tbody>\n",
       "    <tr>\n",
       "      <th>0</th>\n",
       "      <td>agent_1:Hey Sky,I tried a bit of shadowboxing ...</td>\n",
       "      <td>This isn't a joke about black people, right? I...</td>\n",
       "    </tr>\n",
       "    <tr>\n",
       "      <th>1</th>\n",
       "      <td>agent_1:Hey Sky,I tried a bit of shadowboxing ...</td>\n",
       "      <td>I am glad that you agree. Joking about abusing...</td>\n",
       "    </tr>\n",
       "    <tr>\n",
       "      <th>2</th>\n",
       "      <td>agent_1:Hello Sky,Did I tell you how I used to...</td>\n",
       "      <td>That's a pretty low down thing to do.</td>\n",
       "    </tr>\n",
       "    <tr>\n",
       "      <th>3</th>\n",
       "      <td>agent_1:Hello Sky,Did I tell you how I used to...</td>\n",
       "      <td>You should not poke holes in condoms. You coul...</td>\n",
       "    </tr>\n",
       "    <tr>\n",
       "      <th>4</th>\n",
       "      <td>agent_1:Hello Sky,Did I tell you how I used to...</td>\n",
       "      <td>You're not thinking. How do you conclude expos...</td>\n",
       "    </tr>\n",
       "  </tbody>\n",
       "</table>\n",
       "</div>"
      ],
      "text/plain": [
       "                                             agent_1  \\\n",
       "0  agent_1:Hey Sky,I tried a bit of shadowboxing ...   \n",
       "1  agent_1:Hey Sky,I tried a bit of shadowboxing ...   \n",
       "2  agent_1:Hello Sky,Did I tell you how I used to...   \n",
       "3  agent_1:Hello Sky,Did I tell you how I used to...   \n",
       "4  agent_1:Hello Sky,Did I tell you how I used to...   \n",
       "\n",
       "                                             agent_2  \n",
       "0  This isn't a joke about black people, right? I...  \n",
       "1  I am glad that you agree. Joking about abusing...  \n",
       "2              That's a pretty low down thing to do.  \n",
       "3  You should not poke holes in condoms. You coul...  \n",
       "4  You're not thinking. How do you conclude expos...  "
      ]
     },
     "execution_count": 106,
     "metadata": {},
     "output_type": "execute_result"
    }
   ],
   "source": [
    "train_df_6.head()"
   ]
  },
  {
   "cell_type": "code",
   "execution_count": 107,
   "id": "177837c8-db83-4387-9e9d-1d017e8f1624",
   "metadata": {},
   "outputs": [
    {
     "data": {
      "text/plain": [
       "120236"
      ]
     },
     "execution_count": 107,
     "metadata": {},
     "output_type": "execute_result"
    }
   ],
   "source": [
    "len(train_df_6)"
   ]
  },
  {
   "cell_type": "markdown",
   "id": "3317187d-af2d-4743-9656-9bcce5d2f6b4",
   "metadata": {
    "jp-MarkdownHeadingCollapsed": true
   },
   "source": [
    "### Dataset 7"
   ]
  },
  {
   "cell_type": "code",
   "execution_count": 108,
   "id": "e1061c88-5ce1-4174-bd86-5d0e6d5b9f1d",
   "metadata": {},
   "outputs": [],
   "source": [
    "train_df_7 = train_df_7_[train_df_7_[\"lang\"] == \"en\"]\n",
    "validation_df_7 = validation_df_7_[validation_df_7_[\"lang\"] == \"en\"]"
   ]
  },
  {
   "cell_type": "code",
   "execution_count": 109,
   "id": "c15407b2-c537-4fd8-8166-6c949ea10ef0",
   "metadata": {},
   "outputs": [],
   "source": [
    "train_df_7.reset_index(inplace=True)\n",
    "train_df_7 = train_df_7[[\"text\",\"role\"]]\n",
    "validation_df_7.reset_index(inplace=True)\n",
    "validation_df_7 = validation_df_7[[\"text\",\"role\"]]"
   ]
  },
  {
   "cell_type": "code",
   "execution_count": 110,
   "id": "389f2232-ee7c-4f54-b274-541f608e9f6e",
   "metadata": {},
   "outputs": [
    {
     "data": {
      "text/html": [
       "<div>\n",
       "<style scoped>\n",
       "    .dataframe tbody tr th:only-of-type {\n",
       "        vertical-align: middle;\n",
       "    }\n",
       "\n",
       "    .dataframe tbody tr th {\n",
       "        vertical-align: top;\n",
       "    }\n",
       "\n",
       "    .dataframe thead th {\n",
       "        text-align: right;\n",
       "    }\n",
       "</style>\n",
       "<table border=\"1\" class=\"dataframe\">\n",
       "  <thead>\n",
       "    <tr style=\"text-align: right;\">\n",
       "      <th></th>\n",
       "      <th>text</th>\n",
       "      <th>role</th>\n",
       "    </tr>\n",
       "  </thead>\n",
       "  <tbody>\n",
       "    <tr>\n",
       "      <th>0</th>\n",
       "      <td>Can you write a short introduction about the r...</td>\n",
       "      <td>prompter</td>\n",
       "    </tr>\n",
       "    <tr>\n",
       "      <th>1</th>\n",
       "      <td>\"Monopsony\" refers to a market structure where...</td>\n",
       "      <td>assistant</td>\n",
       "    </tr>\n",
       "    <tr>\n",
       "      <th>2</th>\n",
       "      <td>Now explain it to a dog</td>\n",
       "      <td>prompter</td>\n",
       "    </tr>\n",
       "    <tr>\n",
       "      <th>3</th>\n",
       "      <td>Monopsony is a market structure in which there...</td>\n",
       "      <td>assistant</td>\n",
       "    </tr>\n",
       "    <tr>\n",
       "      <th>4</th>\n",
       "      <td>How can one fight back when a monospony had be...</td>\n",
       "      <td>prompter</td>\n",
       "    </tr>\n",
       "  </tbody>\n",
       "</table>\n",
       "</div>"
      ],
      "text/plain": [
       "                                                text       role\n",
       "0  Can you write a short introduction about the r...   prompter\n",
       "1  \"Monopsony\" refers to a market structure where...  assistant\n",
       "2                            Now explain it to a dog   prompter\n",
       "3  Monopsony is a market structure in which there...  assistant\n",
       "4  How can one fight back when a monospony had be...   prompter"
      ]
     },
     "execution_count": 110,
     "metadata": {},
     "output_type": "execute_result"
    }
   ],
   "source": [
    "train_df_7.head(5)"
   ]
  },
  {
   "cell_type": "code",
   "execution_count": 111,
   "id": "b5ef10ed-cb4a-4971-98d3-8be4e7145e2f",
   "metadata": {},
   "outputs": [],
   "source": [
    "def dataset_to_dataframe_7(data):\n",
    "    tempDict = {\"agent_1\":[],\"agent_2\":[]}\n",
    "    for i in range(0,len(data[\"role\"])-1):\n",
    "        if i == 0:\n",
    "            if data[\"role\"][i] == \"prompter\":\n",
    "                tempDict[\"agent_1\"].append(data[\"text\"][i])\n",
    "            else:\n",
    "                tempDict[\"agent_2\"].append(data[\"text\"][i])\n",
    "        else:\n",
    "            if data[\"role\"][i] == \"prompter\" and data[\"role\"][i-1] == \"prompter\":\n",
    "                tempDict[\"agent_1\"][-1] = tempDict[\"agent_1\"][-1:][0] + data[\"text\"][i]\n",
    "            elif data[\"role\"][i] == \"assistant\" and data[\"role\"][i-1] == \"assistant\":\n",
    "                tempDict[\"agent_2\"][-1] = tempDict[\"agent_2\"][-1:][0] + data[\"text\"][i]\n",
    "            elif data[\"role\"][i] == \"prompter\" and data[\"role\"][i-1] == \"assistant\":\n",
    "                tempDict[\"agent_1\"].append(data[\"text\"][i])\n",
    "            elif data[\"role\"][i] == \"assistant\" and data[\"role\"][i-1] == \"prompter\":\n",
    "                tempDict[\"agent_2\"].append(data[\"text\"][i])\n",
    "    return pd.DataFrame(tempDict)"
   ]
  },
  {
   "cell_type": "code",
   "execution_count": 112,
   "id": "dfadb087-9375-49e9-986a-f9e650418ef3",
   "metadata": {},
   "outputs": [],
   "source": [
    "train_df_7 = dataset_to_dataframe_7(train_df_7)\n",
    "validation_df_7 = dataset_to_dataframe_7(validation_df_7)"
   ]
  },
  {
   "cell_type": "code",
   "execution_count": 113,
   "id": "0ac256ab-f0ae-44b5-ad00-f291db023cbe",
   "metadata": {},
   "outputs": [
    {
     "data": {
      "text/html": [
       "<div>\n",
       "<style scoped>\n",
       "    .dataframe tbody tr th:only-of-type {\n",
       "        vertical-align: middle;\n",
       "    }\n",
       "\n",
       "    .dataframe tbody tr th {\n",
       "        vertical-align: top;\n",
       "    }\n",
       "\n",
       "    .dataframe thead th {\n",
       "        text-align: right;\n",
       "    }\n",
       "</style>\n",
       "<table border=\"1\" class=\"dataframe\">\n",
       "  <thead>\n",
       "    <tr style=\"text-align: right;\">\n",
       "      <th></th>\n",
       "      <th>agent_1</th>\n",
       "      <th>agent_2</th>\n",
       "    </tr>\n",
       "  </thead>\n",
       "  <tbody>\n",
       "    <tr>\n",
       "      <th>0</th>\n",
       "      <td>Can you write a short introduction about the r...</td>\n",
       "      <td>\"Monopsony\" refers to a market structure where...</td>\n",
       "    </tr>\n",
       "    <tr>\n",
       "      <th>1</th>\n",
       "      <td>Now explain it to a dog</td>\n",
       "      <td>Monopsony is a market structure in which there...</td>\n",
       "    </tr>\n",
       "    <tr>\n",
       "      <th>2</th>\n",
       "      <td>How can one fight back when a monospony had be...</td>\n",
       "      <td>Monopsony refers to a market structure where t...</td>\n",
       "    </tr>\n",
       "    <tr>\n",
       "      <th>3</th>\n",
       "      <td>What can be done at a regulatory level to ensu...</td>\n",
       "      <td>Here are some potential regulatory options to ...</td>\n",
       "    </tr>\n",
       "    <tr>\n",
       "      <th>4</th>\n",
       "      <td>I would imagine this is similar or even the sa...</td>\n",
       "      <td>Bouguereau died in 1905, so it is unlikely tha...</td>\n",
       "    </tr>\n",
       "  </tbody>\n",
       "</table>\n",
       "</div>"
      ],
      "text/plain": [
       "                                             agent_1  \\\n",
       "0  Can you write a short introduction about the r...   \n",
       "1                            Now explain it to a dog   \n",
       "2  How can one fight back when a monospony had be...   \n",
       "3  What can be done at a regulatory level to ensu...   \n",
       "4  I would imagine this is similar or even the sa...   \n",
       "\n",
       "                                             agent_2  \n",
       "0  \"Monopsony\" refers to a market structure where...  \n",
       "1  Monopsony is a market structure in which there...  \n",
       "2  Monopsony refers to a market structure where t...  \n",
       "3  Here are some potential regulatory options to ...  \n",
       "4  Bouguereau died in 1905, so it is unlikely tha...  "
      ]
     },
     "execution_count": 113,
     "metadata": {},
     "output_type": "execute_result"
    }
   ],
   "source": [
    "train_df_7.head()"
   ]
  },
  {
   "cell_type": "code",
   "execution_count": 114,
   "id": "99846510-3843-4845-8427-125c602db1dd",
   "metadata": {},
   "outputs": [
    {
     "data": {
      "text/plain": [
       "12833"
      ]
     },
     "execution_count": 114,
     "metadata": {},
     "output_type": "execute_result"
    }
   ],
   "source": [
    "len(train_df_7)"
   ]
  },
  {
   "cell_type": "markdown",
   "id": "322e1b62-ac42-46c0-854b-87655b2d02f1",
   "metadata": {
    "jp-MarkdownHeadingCollapsed": true
   },
   "source": [
    "### Dataset 8"
   ]
  },
  {
   "cell_type": "code",
   "execution_count": 115,
   "id": "be6133b6-611b-4606-86c9-c76f524547b8",
   "metadata": {},
   "outputs": [],
   "source": [
    "dataset_8List = dataset_8.split(\"id=\")"
   ]
  },
  {
   "cell_type": "code",
   "execution_count": 116,
   "id": "ed2e23fc-a021-4b97-b657-ce051f39aa00",
   "metadata": {},
   "outputs": [],
   "source": [
    "# dataset_8List[:2]"
   ]
  },
  {
   "cell_type": "code",
   "execution_count": null,
   "id": "6b39031b-26fd-48c2-90b0-49cd489d9acc",
   "metadata": {},
   "outputs": [],
   "source": []
  },
  {
   "cell_type": "code",
   "execution_count": 117,
   "id": "03abf5ca-5798-41f8-8820-07577aa4541c",
   "metadata": {},
   "outputs": [],
   "source": [
    "data_dict_8 = {\"agent_1\":[],\"agent_2\":[]}\n",
    "for data in dataset_8List[1:]:\n",
    "    description = data.split(\"Description\")\n",
    "    if(len(description)!=2):\n",
    "        continue\n",
    "    dialog = description[1].split(\"Dialogue\")[1].replace(\"\\n\",\"\")\n",
    "    patient = dialog.split(\"Patient:\")[1:]\n",
    "    for p in patient:\n",
    "        doctor = p.split(\"Doctor:\")\n",
    "        if(len(doctor) !=2):\n",
    "            continue\n",
    "            # print(doctor)\n",
    "        data_dict_8[\"agent_1\"].append(doctor[0])\n",
    "        data_dict_8[\"agent_2\"].append(doctor[1])\n",
    "train_df_8 = pd.DataFrame(data_dict_8)"
   ]
  },
  {
   "cell_type": "code",
   "execution_count": 118,
   "id": "db14b5bd-9ea8-4fc0-ba56-26256a37bf56",
   "metadata": {},
   "outputs": [
    {
     "data": {
      "text/html": [
       "<div>\n",
       "<style scoped>\n",
       "    .dataframe tbody tr th:only-of-type {\n",
       "        vertical-align: middle;\n",
       "    }\n",
       "\n",
       "    .dataframe tbody tr th {\n",
       "        vertical-align: top;\n",
       "    }\n",
       "\n",
       "    .dataframe thead th {\n",
       "        text-align: right;\n",
       "    }\n",
       "</style>\n",
       "<table border=\"1\" class=\"dataframe\">\n",
       "  <thead>\n",
       "    <tr style=\"text-align: right;\">\n",
       "      <th></th>\n",
       "      <th>agent_1</th>\n",
       "      <th>agent_2</th>\n",
       "    </tr>\n",
       "  </thead>\n",
       "  <tbody>\n",
       "    <tr>\n",
       "      <th>0</th>\n",
       "      <td>Hello doctor, I get a cough for the last few d...</td>\n",
       "      <td>Hello, I understand your concern. I just have ...</td>\n",
       "    </tr>\n",
       "    <tr>\n",
       "      <th>1</th>\n",
       "      <td>Thank you doctor,I have phlegm but not a lot. ...</td>\n",
       "      <td>Hi, I would recommend you take n-acetylcystein...</td>\n",
       "    </tr>\n",
       "    <tr>\n",
       "      <th>2</th>\n",
       "      <td>Hello doctor, I am suffering from coughing, th...</td>\n",
       "      <td>Hello, I can understand your concern.In my opi...</td>\n",
       "    </tr>\n",
       "    <tr>\n",
       "      <th>3</th>\n",
       "      <td>Thank you doctor,After doing all these I can u...</td>\n",
       "      <td>Hi, yes, upload in this query only. I will see...</td>\n",
       "    </tr>\n",
       "    <tr>\n",
       "      <th>4</th>\n",
       "      <td>Thank you doctor,As per your guidelines, I hav...</td>\n",
       "      <td>Hi, I can understand your concern. I have gone...</td>\n",
       "    </tr>\n",
       "  </tbody>\n",
       "</table>\n",
       "</div>"
      ],
      "text/plain": [
       "                                             agent_1  \\\n",
       "0  Hello doctor, I get a cough for the last few d...   \n",
       "1  Thank you doctor,I have phlegm but not a lot. ...   \n",
       "2  Hello doctor, I am suffering from coughing, th...   \n",
       "3  Thank you doctor,After doing all these I can u...   \n",
       "4  Thank you doctor,As per your guidelines, I hav...   \n",
       "\n",
       "                                             agent_2  \n",
       "0  Hello, I understand your concern. I just have ...  \n",
       "1  Hi, I would recommend you take n-acetylcystein...  \n",
       "2  Hello, I can understand your concern.In my opi...  \n",
       "3  Hi, yes, upload in this query only. I will see...  \n",
       "4  Hi, I can understand your concern. I have gone...  "
      ]
     },
     "execution_count": 118,
     "metadata": {},
     "output_type": "execute_result"
    }
   ],
   "source": [
    "train_df_8.head()"
   ]
  },
  {
   "cell_type": "code",
   "execution_count": 119,
   "id": "6f02f7b5-ce07-4b87-a90a-02cce2ffc5d7",
   "metadata": {},
   "outputs": [
    {
     "data": {
      "text/plain": [
       "614"
      ]
     },
     "execution_count": 119,
     "metadata": {},
     "output_type": "execute_result"
    }
   ],
   "source": [
    "len(train_df_8)"
   ]
  },
  {
   "cell_type": "markdown",
   "id": "11d893f3-0c37-4f31-855f-0b0abb0d0b95",
   "metadata": {
    "jp-MarkdownHeadingCollapsed": true
   },
   "source": [
    "### Dataset 9"
   ]
  },
  {
   "cell_type": "code",
   "execution_count": null,
   "id": "f807e32e-4908-4ea4-871e-75096af7e0c5",
   "metadata": {},
   "outputs": [],
   "source": []
  },
  {
   "cell_type": "code",
   "execution_count": null,
   "id": "6c4484da-27e7-40cf-923f-ca47b810443a",
   "metadata": {},
   "outputs": [],
   "source": [
    "\n"
   ]
  },
  {
   "cell_type": "code",
   "execution_count": 120,
   "id": "60e86864-e81a-44f7-95ba-5de26935760d",
   "metadata": {},
   "outputs": [],
   "source": [
    "def dataset_to_dataframe_9(dataset):\n",
    "    data_dict_8 = {\"agent_1\":[],\"agent_2\":[]}\n",
    "    all_conversations = dataset.split(\"fname\")[1:]\n",
    "    for conversation in all_conversations:\n",
    "        context = \"\"\n",
    "        previousAns = \"\"\n",
    "        dialogue = conversation.split(\"#Person1#:\")[1:]\n",
    "        dialogue[-1] = dialogue[-1].split('\"summary\":')[0]\n",
    "        for d in dialogue:\n",
    "            person = d.split(\"#Person2#:\")\n",
    "            if len(person) != 2:\n",
    "                continue\n",
    "            if previousAns == \"\":\n",
    "                context = context+\"agent_1:\"+person[0]\n",
    "            else:\n",
    "                context = context+\"agent_2:\"+previousAns+\"agent_1:\"+person[0]\n",
    "            data_dict_8[\"agent_1\"].append(context.replace(\"\\\\n\",\"\"))\n",
    "            data_dict_8[\"agent_2\"].append(person[1].replace(\"\\\\n\",\"\"))\n",
    "            previousAns = person[1]\n",
    "    return pd.DataFrame(data_dict_8)"
   ]
  },
  {
   "cell_type": "code",
   "execution_count": 121,
   "id": "df6b6db3-288f-485a-aaea-fcc881513a87",
   "metadata": {},
   "outputs": [],
   "source": [
    "train_df_9 = dataset_to_dataframe_9(dataset_9_train)\n",
    "test_df_9 = dataset_to_dataframe_9(dataset_9_test)\n",
    "validation_df_9 = dataset_to_dataframe_9(dataset_9_train)"
   ]
  },
  {
   "cell_type": "code",
   "execution_count": 122,
   "id": "8cd4092d-e2ea-4cd3-8054-9e2e6c4af625",
   "metadata": {},
   "outputs": [
    {
     "data": {
      "text/html": [
       "<div>\n",
       "<style scoped>\n",
       "    .dataframe tbody tr th:only-of-type {\n",
       "        vertical-align: middle;\n",
       "    }\n",
       "\n",
       "    .dataframe tbody tr th {\n",
       "        vertical-align: top;\n",
       "    }\n",
       "\n",
       "    .dataframe thead th {\n",
       "        text-align: right;\n",
       "    }\n",
       "</style>\n",
       "<table border=\"1\" class=\"dataframe\">\n",
       "  <thead>\n",
       "    <tr style=\"text-align: right;\">\n",
       "      <th></th>\n",
       "      <th>agent_1</th>\n",
       "      <th>agent_2</th>\n",
       "    </tr>\n",
       "  </thead>\n",
       "  <tbody>\n",
       "    <tr>\n",
       "      <th>0</th>\n",
       "      <td>agent_1: Hi, Mr. Smith. I'm Doctor Hawkins. Wh...</td>\n",
       "      <td>I found it would be a good idea to get a chec...</td>\n",
       "    </tr>\n",
       "    <tr>\n",
       "      <th>1</th>\n",
       "      <td>agent_1: Hi, Mr. Smith. I'm Doctor Hawkins. Wh...</td>\n",
       "      <td>I know. I figure as long as there is nothing ...</td>\n",
       "    </tr>\n",
       "    <tr>\n",
       "      <th>2</th>\n",
       "      <td>agent_1: Hi, Mr. Smith. I'm Doctor Hawkins. Wh...</td>\n",
       "      <td>Ok.</td>\n",
       "    </tr>\n",
       "    <tr>\n",
       "      <th>3</th>\n",
       "      <td>agent_1: Hi, Mr. Smith. I'm Doctor Hawkins. Wh...</td>\n",
       "      <td>Yes.</td>\n",
       "    </tr>\n",
       "    <tr>\n",
       "      <th>4</th>\n",
       "      <td>agent_1: Hi, Mr. Smith. I'm Doctor Hawkins. Wh...</td>\n",
       "      <td>I've tried hundreds of times, but I just can'...</td>\n",
       "    </tr>\n",
       "    <tr>\n",
       "      <th>5</th>\n",
       "      <td>agent_1: Hi, Mr. Smith. I'm Doctor Hawkins. Wh...</td>\n",
       "      <td>Ok, thanks doctor.\",</td>\n",
       "    </tr>\n",
       "    <tr>\n",
       "      <th>6</th>\n",
       "      <td>agent_1: Hello Mrs. Parker, how have you been?</td>\n",
       "      <td>Hello Dr. Peters. Just fine thank you. Ricky ...</td>\n",
       "    </tr>\n",
       "    <tr>\n",
       "      <th>7</th>\n",
       "      <td>agent_1: Hello Mrs. Parker, how have you been?...</td>\n",
       "      <td>What about Rubella and Mumps?</td>\n",
       "    </tr>\n",
       "    <tr>\n",
       "      <th>8</th>\n",
       "      <td>agent_1: Hello Mrs. Parker, how have you been?...</td>\n",
       "      <td>OK, great. Doctor, I think I also may need a ...</td>\n",
       "    </tr>\n",
       "    <tr>\n",
       "      <th>9</th>\n",
       "      <td>agent_1: Excuse me, did you see a set of keys?</td>\n",
       "      <td>What kind of keys?</td>\n",
       "    </tr>\n",
       "    <tr>\n",
       "      <th>10</th>\n",
       "      <td>agent_1: Excuse me, did you see a set of keys?...</td>\n",
       "      <td>What a shame! I didn't see them.</td>\n",
       "    </tr>\n",
       "    <tr>\n",
       "      <th>11</th>\n",
       "      <td>agent_1: Excuse me, did you see a set of keys?...</td>\n",
       "      <td>Sure. It's my pleasure. I'd like to help you ...</td>\n",
       "    </tr>\n",
       "    <tr>\n",
       "      <th>12</th>\n",
       "      <td>agent_1: Excuse me, did you see a set of keys?...</td>\n",
       "      <td>It's not a big deal.Hey, I found them.</td>\n",
       "    </tr>\n",
       "    <tr>\n",
       "      <th>13</th>\n",
       "      <td>agent_1: Excuse me, did you see a set of keys?...</td>\n",
       "      <td>You're welcome.\",</td>\n",
       "    </tr>\n",
       "    <tr>\n",
       "      <th>14</th>\n",
       "      <td>agent_1: Why didn't you tell me you had a girl...</td>\n",
       "      <td>Sorry, I thought you knew.</td>\n",
       "    </tr>\n",
       "    <tr>\n",
       "      <th>15</th>\n",
       "      <td>agent_1: Why didn't you tell me you had a girl...</td>\n",
       "      <td>Didn't I?</td>\n",
       "    </tr>\n",
       "    <tr>\n",
       "      <th>16</th>\n",
       "      <td>agent_1: Why didn't you tell me you had a girl...</td>\n",
       "      <td>Well, I am telling you now.</td>\n",
       "    </tr>\n",
       "    <tr>\n",
       "      <th>17</th>\n",
       "      <td>agent_1: Why didn't you tell me you had a girl...</td>\n",
       "      <td>I didn't think you would be interested.</td>\n",
       "    </tr>\n",
       "    <tr>\n",
       "      <th>18</th>\n",
       "      <td>agent_1: Why didn't you tell me you had a girl...</td>\n",
       "      <td>Sorry, I didn't think it mattered.</td>\n",
       "    </tr>\n",
       "    <tr>\n",
       "      <th>19</th>\n",
       "      <td>agent_1: Watsup, ladies! Y'll looking'fine ton...</td>\n",
       "      <td>He's cute! He looks like Tiger Woods! But, I ...</td>\n",
       "    </tr>\n",
       "  </tbody>\n",
       "</table>\n",
       "</div>"
      ],
      "text/plain": [
       "                                              agent_1  \\\n",
       "0   agent_1: Hi, Mr. Smith. I'm Doctor Hawkins. Wh...   \n",
       "1   agent_1: Hi, Mr. Smith. I'm Doctor Hawkins. Wh...   \n",
       "2   agent_1: Hi, Mr. Smith. I'm Doctor Hawkins. Wh...   \n",
       "3   agent_1: Hi, Mr. Smith. I'm Doctor Hawkins. Wh...   \n",
       "4   agent_1: Hi, Mr. Smith. I'm Doctor Hawkins. Wh...   \n",
       "5   agent_1: Hi, Mr. Smith. I'm Doctor Hawkins. Wh...   \n",
       "6      agent_1: Hello Mrs. Parker, how have you been?   \n",
       "7   agent_1: Hello Mrs. Parker, how have you been?...   \n",
       "8   agent_1: Hello Mrs. Parker, how have you been?...   \n",
       "9      agent_1: Excuse me, did you see a set of keys?   \n",
       "10  agent_1: Excuse me, did you see a set of keys?...   \n",
       "11  agent_1: Excuse me, did you see a set of keys?...   \n",
       "12  agent_1: Excuse me, did you see a set of keys?...   \n",
       "13  agent_1: Excuse me, did you see a set of keys?...   \n",
       "14  agent_1: Why didn't you tell me you had a girl...   \n",
       "15  agent_1: Why didn't you tell me you had a girl...   \n",
       "16  agent_1: Why didn't you tell me you had a girl...   \n",
       "17  agent_1: Why didn't you tell me you had a girl...   \n",
       "18  agent_1: Why didn't you tell me you had a girl...   \n",
       "19  agent_1: Watsup, ladies! Y'll looking'fine ton...   \n",
       "\n",
       "                                              agent_2  \n",
       "0    I found it would be a good idea to get a chec...  \n",
       "1    I know. I figure as long as there is nothing ...  \n",
       "2                                                 Ok.  \n",
       "3                                                Yes.  \n",
       "4    I've tried hundreds of times, but I just can'...  \n",
       "5                               Ok, thanks doctor.\",   \n",
       "6    Hello Dr. Peters. Just fine thank you. Ricky ...  \n",
       "7                       What about Rubella and Mumps?  \n",
       "8    OK, great. Doctor, I think I also may need a ...  \n",
       "9                                  What kind of keys?  \n",
       "10                   What a shame! I didn't see them.  \n",
       "11   Sure. It's my pleasure. I'd like to help you ...  \n",
       "12             It's not a big deal.Hey, I found them.  \n",
       "13                                 You're welcome.\",   \n",
       "14                         Sorry, I thought you knew.  \n",
       "15                                          Didn't I?  \n",
       "16                        Well, I am telling you now.  \n",
       "17            I didn't think you would be interested.  \n",
       "18                 Sorry, I didn't think it mattered.  \n",
       "19   He's cute! He looks like Tiger Woods! But, I ...  "
      ]
     },
     "execution_count": 122,
     "metadata": {},
     "output_type": "execute_result"
    }
   ],
   "source": [
    "train_df_9.head(20)"
   ]
  },
  {
   "cell_type": "code",
   "execution_count": 123,
   "id": "4b71ea28-07d8-439b-8c27-cda43575f5ea",
   "metadata": {},
   "outputs": [
    {
     "data": {
      "text/plain": [
       "56310"
      ]
     },
     "execution_count": 123,
     "metadata": {},
     "output_type": "execute_result"
    }
   ],
   "source": [
    "len(train_df_9)"
   ]
  },
  {
   "cell_type": "markdown",
   "id": "3891e2a5-cb0b-4b41-8da1-ff5a1594d8b5",
   "metadata": {},
   "source": [
    "### Dataset 10"
   ]
  },
  {
   "cell_type": "code",
   "execution_count": 124,
   "id": "c7c3ba98-1459-4895-bdc5-1ec90d538846",
   "metadata": {},
   "outputs": [],
   "source": [
    "def dataset_to_dataframe_10(input,output,data_dict_10):\n",
    "    new_input = []\n",
    "    new_output = []\n",
    "    for idx in range(0,len(input)):\n",
    "        new_input.append(\"agent_1:\"+get_random_call_sign(callSign)+input[idx])\n",
    "        new_output.append(get_random_call_sign(response)+output[idx])\n",
    "    data_dict_10[\"agent_1\"] = new_input\n",
    "    data_dict_10[\"agent_2\"] = new_output\n",
    "    return pd.DataFrame(data_dict_10)"
   ]
  },
  {
   "cell_type": "code",
   "execution_count": 125,
   "id": "45e2f1f8-4b0a-4f82-ade8-f0b5eafe0f08",
   "metadata": {},
   "outputs": [],
   "source": [
    "data_dict_10 = {\"agent_1\":[],\"agent_2\":[]}\n",
    "train_df_10 = dataset_to_dataframe_10(dataset_10[\"train\"][\"instruction\"],dataset_10[\"train\"][\"output\"],data_dict_10)"
   ]
  },
  {
   "cell_type": "code",
   "execution_count": 126,
   "id": "49bc2bee-7381-4f98-8116-7b2e9dfb6988",
   "metadata": {},
   "outputs": [
    {
     "data": {
      "text/html": [
       "<div>\n",
       "<style scoped>\n",
       "    .dataframe tbody tr th:only-of-type {\n",
       "        vertical-align: middle;\n",
       "    }\n",
       "\n",
       "    .dataframe tbody tr th {\n",
       "        vertical-align: top;\n",
       "    }\n",
       "\n",
       "    .dataframe thead th {\n",
       "        text-align: right;\n",
       "    }\n",
       "</style>\n",
       "<table border=\"1\" class=\"dataframe\">\n",
       "  <thead>\n",
       "    <tr style=\"text-align: right;\">\n",
       "      <th></th>\n",
       "      <th>agent_1</th>\n",
       "      <th>agent_2</th>\n",
       "    </tr>\n",
       "  </thead>\n",
       "  <tbody>\n",
       "    <tr>\n",
       "      <th>0</th>\n",
       "      <td>agent_1:Hi Sky,Give three tips for staying hea...</td>\n",
       "      <td>Hello Akshay Sir,1. Eat a balanced and nutriti...</td>\n",
       "    </tr>\n",
       "    <tr>\n",
       "      <th>1</th>\n",
       "      <td>agent_1:Hi Sky,What are the three primary colors?</td>\n",
       "      <td>Hello Akshay Sir,The three primary colors are ...</td>\n",
       "    </tr>\n",
       "    <tr>\n",
       "      <th>2</th>\n",
       "      <td>agent_1:Hey Sky,Describe the structure of an a...</td>\n",
       "      <td>Hello Akshay Sir,An atom is the basic building...</td>\n",
       "    </tr>\n",
       "    <tr>\n",
       "      <th>3</th>\n",
       "      <td>agent_1:Hello Sky,How can we reduce air pollut...</td>\n",
       "      <td>Hi Akshay Sir,There are several ways to reduce...</td>\n",
       "    </tr>\n",
       "    <tr>\n",
       "      <th>4</th>\n",
       "      <td>agent_1:Hello Sky,Pretend you are a project ma...</td>\n",
       "      <td>Hello Akshay Sir,I had to make a difficult dec...</td>\n",
       "    </tr>\n",
       "  </tbody>\n",
       "</table>\n",
       "</div>"
      ],
      "text/plain": [
       "                                             agent_1  \\\n",
       "0  agent_1:Hi Sky,Give three tips for staying hea...   \n",
       "1  agent_1:Hi Sky,What are the three primary colors?   \n",
       "2  agent_1:Hey Sky,Describe the structure of an a...   \n",
       "3  agent_1:Hello Sky,How can we reduce air pollut...   \n",
       "4  agent_1:Hello Sky,Pretend you are a project ma...   \n",
       "\n",
       "                                             agent_2  \n",
       "0  Hello Akshay Sir,1. Eat a balanced and nutriti...  \n",
       "1  Hello Akshay Sir,The three primary colors are ...  \n",
       "2  Hello Akshay Sir,An atom is the basic building...  \n",
       "3  Hi Akshay Sir,There are several ways to reduce...  \n",
       "4  Hello Akshay Sir,I had to make a difficult dec...  "
      ]
     },
     "execution_count": 126,
     "metadata": {},
     "output_type": "execute_result"
    }
   ],
   "source": [
    "train_df_10.head()"
   ]
  },
  {
   "cell_type": "code",
   "execution_count": 127,
   "id": "28d3cf46-43c2-4493-bcb1-a2c95e1e2a9f",
   "metadata": {},
   "outputs": [
    {
     "data": {
      "text/plain": [
       "51760"
      ]
     },
     "execution_count": 127,
     "metadata": {},
     "output_type": "execute_result"
    }
   ],
   "source": [
    "len(train_df_10)"
   ]
  },
  {
   "cell_type": "markdown",
   "id": "111284ef-8fdb-4d28-9591-0602f019ccbd",
   "metadata": {
    "jp-MarkdownHeadingCollapsed": true
   },
   "source": [
    "### Dataset 12"
   ]
  },
  {
   "cell_type": "code",
   "execution_count": 128,
   "id": "e3c2df22-2ae1-41ba-8d24-5b9d12dbe747",
   "metadata": {},
   "outputs": [],
   "source": [
    "def dataset_to_dataframe_12(query,res,data_dict_12):\n",
    "    for i in range(0,len(query)):\n",
    "        data_dict_12[\"agent_1\"].append(\"agent_1:\"+get_random_call_sign(callSign)+get_random_call_sign(math)+\"agent_2:\"+get_random_call_sign(response)+\"agent_1:\"+query[i])\n",
    "        data_dict_12[\"agent_2\"].append(get_random_call_sign(response)+res[i])\n",
    "    return pd.DataFrame(data_dict_12)"
   ]
  },
  {
   "cell_type": "code",
   "execution_count": 129,
   "id": "1613cb1b-008f-4fa7-b1a6-74e6590b7839",
   "metadata": {},
   "outputs": [],
   "source": [
    "data_dict_12 = {\"agent_1\":[],\"agent_2\":[]}\n",
    "train_df_12 = dataset_to_dataframe_12(dataset_12[\"train\"][\"query\"],dataset_12[\"train\"][\"response\"],data_dict_12)"
   ]
  },
  {
   "cell_type": "code",
   "execution_count": 130,
   "id": "5273ee31-ac29-4d90-ab30-160e2c4a26f3",
   "metadata": {},
   "outputs": [
    {
     "data": {
      "text/html": [
       "<div>\n",
       "<style scoped>\n",
       "    .dataframe tbody tr th:only-of-type {\n",
       "        vertical-align: middle;\n",
       "    }\n",
       "\n",
       "    .dataframe tbody tr th {\n",
       "        vertical-align: top;\n",
       "    }\n",
       "\n",
       "    .dataframe thead th {\n",
       "        text-align: right;\n",
       "    }\n",
       "</style>\n",
       "<table border=\"1\" class=\"dataframe\">\n",
       "  <thead>\n",
       "    <tr style=\"text-align: right;\">\n",
       "      <th></th>\n",
       "      <th>agent_1</th>\n",
       "      <th>agent_2</th>\n",
       "    </tr>\n",
       "  </thead>\n",
       "  <tbody>\n",
       "    <tr>\n",
       "      <th>0</th>\n",
       "      <td>agent_1:Hi Sky,Please answer this mathematics ...</td>\n",
       "      <td>Hi Akshay Sir,The distance between two points ...</td>\n",
       "    </tr>\n",
       "    <tr>\n",
       "      <th>1</th>\n",
       "      <td>agent_1:Hi Sky,Will you answer my questions re...</td>\n",
       "      <td>Hello Akshay Sir,Each player requires a $25 je...</td>\n",
       "    </tr>\n",
       "    <tr>\n",
       "      <th>2</th>\n",
       "      <td>agent_1:Hey Sky,Will you answer my questions r...</td>\n",
       "      <td>Hi Akshay Sir,To solve this problem, we need t...</td>\n",
       "    </tr>\n",
       "    <tr>\n",
       "      <th>3</th>\n",
       "      <td>agent_1:Hello Sky,I want you to act as a mathe...</td>\n",
       "      <td>Hi Akshay Sir,$10101_3 = 1 \\cdot 3^4 + 0 \\cdot...</td>\n",
       "    </tr>\n",
       "    <tr>\n",
       "      <th>4</th>\n",
       "      <td>agent_1:Hello Sky,Please answer this mathemati...</td>\n",
       "      <td>Hello Akshay Sir,We know that every 30 minutes...</td>\n",
       "    </tr>\n",
       "    <tr>\n",
       "      <th>...</th>\n",
       "      <td>...</td>\n",
       "      <td>...</td>\n",
       "    </tr>\n",
       "    <tr>\n",
       "      <th>394995</th>\n",
       "      <td>agent_1:Hi Sky,Will you answer my questions re...</td>\n",
       "      <td>Hi Akshay Sir,David broke 2 glasses.\\nHis frie...</td>\n",
       "    </tr>\n",
       "    <tr>\n",
       "      <th>394996</th>\n",
       "      <td>agent_1:Sky,agent_2:Hello Akshay Sir,agent_1:S...</td>\n",
       "      <td>Hi Akshay Sir,We can use the Pythagorean Theor...</td>\n",
       "    </tr>\n",
       "    <tr>\n",
       "      <th>394997</th>\n",
       "      <td>agent_1:Hey Sky,Please answer this mathematics...</td>\n",
       "      <td>Hi Akshay Sir,The costume cost 40% more than l...</td>\n",
       "    </tr>\n",
       "    <tr>\n",
       "      <th>394998</th>\n",
       "      <td>agent_1:Hi Sky,I want you to act as a mathemat...</td>\n",
       "      <td>Hello Akshay Sir,The sum of the ages of the 10...</td>\n",
       "    </tr>\n",
       "    <tr>\n",
       "      <th>394999</th>\n",
       "      <td>agent_1:Hello Sky,agent_2:Hi Akshay Sir,agent_...</td>\n",
       "      <td>Hello Akshay Sir,There are 10 crates in the sh...</td>\n",
       "    </tr>\n",
       "  </tbody>\n",
       "</table>\n",
       "<p>395000 rows × 2 columns</p>\n",
       "</div>"
      ],
      "text/plain": [
       "                                                  agent_1  \\\n",
       "0       agent_1:Hi Sky,Please answer this mathematics ...   \n",
       "1       agent_1:Hi Sky,Will you answer my questions re...   \n",
       "2       agent_1:Hey Sky,Will you answer my questions r...   \n",
       "3       agent_1:Hello Sky,I want you to act as a mathe...   \n",
       "4       agent_1:Hello Sky,Please answer this mathemati...   \n",
       "...                                                   ...   \n",
       "394995  agent_1:Hi Sky,Will you answer my questions re...   \n",
       "394996  agent_1:Sky,agent_2:Hello Akshay Sir,agent_1:S...   \n",
       "394997  agent_1:Hey Sky,Please answer this mathematics...   \n",
       "394998  agent_1:Hi Sky,I want you to act as a mathemat...   \n",
       "394999  agent_1:Hello Sky,agent_2:Hi Akshay Sir,agent_...   \n",
       "\n",
       "                                                  agent_2  \n",
       "0       Hi Akshay Sir,The distance between two points ...  \n",
       "1       Hello Akshay Sir,Each player requires a $25 je...  \n",
       "2       Hi Akshay Sir,To solve this problem, we need t...  \n",
       "3       Hi Akshay Sir,$10101_3 = 1 \\cdot 3^4 + 0 \\cdot...  \n",
       "4       Hello Akshay Sir,We know that every 30 minutes...  \n",
       "...                                                   ...  \n",
       "394995  Hi Akshay Sir,David broke 2 glasses.\\nHis frie...  \n",
       "394996  Hi Akshay Sir,We can use the Pythagorean Theor...  \n",
       "394997  Hi Akshay Sir,The costume cost 40% more than l...  \n",
       "394998  Hello Akshay Sir,The sum of the ages of the 10...  \n",
       "394999  Hello Akshay Sir,There are 10 crates in the sh...  \n",
       "\n",
       "[395000 rows x 2 columns]"
      ]
     },
     "execution_count": 130,
     "metadata": {},
     "output_type": "execute_result"
    }
   ],
   "source": [
    "train_df_12"
   ]
  },
  {
   "cell_type": "markdown",
   "id": "16584502-91bf-4836-bf39-3d25578f7208",
   "metadata": {},
   "source": [
    "### Dataset 14"
   ]
  },
  {
   "cell_type": "code",
   "execution_count": 131,
   "id": "b97a5d28-89bc-4e4b-b8da-0bec72d432c9",
   "metadata": {},
   "outputs": [],
   "source": [
    "def dataset_to_dataframe_14(input,output,data_dict_14):\n",
    "    for i in range(0,len(input)):\n",
    "        data_dict_14[\"agent_1\"].append(\"agent_1:\"+get_random_call_sign(callSign)+get_random_call_sign(medical)+\"agent_2:\"+get_random_call_sign(response)+\"agent_1:\"+input[i])\n",
    "        if \"chatbot\" in output[i]:\n",
    "            filterMsg = output[i].split(\"chatbot\")\n",
    "            new_output = \"\"\n",
    "            if(len(filterMsg[0]) > len(filterMsg[1])):\n",
    "                new_output = filterMsg[0]\n",
    "            else:\n",
    "                new_output = filterMsg[1]\n",
    "            data_dict_14[\"agent_2\"].append(get_random_call_sign(response)+new_output)\n",
    "        else:\n",
    "            data_dict_14[\"agent_2\"].append(get_random_call_sign(response)+output[i])\n",
    "    return pd.DataFrame(data_dict_14)\n",
    "            "
   ]
  },
  {
   "cell_type": "code",
   "execution_count": 132,
   "id": "ff445347-ff4e-4d44-ab74-5e4cf935d800",
   "metadata": {},
   "outputs": [],
   "source": [
    "data_dict_14 = {\"agent_1\":[],\"agent_2\":[]}\n",
    "train_df_14 = dataset_to_dataframe_14(dataset_14[\"train\"][\"input\"],dataset_14[\"train\"][\"output\"],data_dict_14)\n"
   ]
  },
  {
   "cell_type": "code",
   "execution_count": 133,
   "id": "3bdccb8c-4db8-46f6-8229-74765df79c64",
   "metadata": {},
   "outputs": [
    {
     "data": {
      "text/html": [
       "<div>\n",
       "<style scoped>\n",
       "    .dataframe tbody tr th:only-of-type {\n",
       "        vertical-align: middle;\n",
       "    }\n",
       "\n",
       "    .dataframe tbody tr th {\n",
       "        vertical-align: top;\n",
       "    }\n",
       "\n",
       "    .dataframe thead th {\n",
       "        text-align: right;\n",
       "    }\n",
       "</style>\n",
       "<table border=\"1\" class=\"dataframe\">\n",
       "  <thead>\n",
       "    <tr style=\"text-align: right;\">\n",
       "      <th></th>\n",
       "      <th>agent_1</th>\n",
       "      <th>agent_2</th>\n",
       "    </tr>\n",
       "  </thead>\n",
       "  <tbody>\n",
       "    <tr>\n",
       "      <th>0</th>\n",
       "      <td>agent_1:Hey Sky,Will you answer my questions r...</td>\n",
       "      <td>Hi Akshay Sir,. i carefully read your question...</td>\n",
       "    </tr>\n",
       "    <tr>\n",
       "      <th>1</th>\n",
       "      <td>agent_1:Hello Sky,Will you answer my questions...</td>\n",
       "      <td>Hi Akshay Sir,hello brain tumor may present in...</td>\n",
       "    </tr>\n",
       "    <tr>\n",
       "      <th>2</th>\n",
       "      <td>agent_1:Hey Sky,Will you answer my questions r...</td>\n",
       "      <td>Hi Akshay Sir,Call your health care provider i...</td>\n",
       "    </tr>\n",
       "    <tr>\n",
       "      <th>3</th>\n",
       "      <td>agent_1:Sky,agent_2:Hi Akshay Sir,agent_1:Hi M...</td>\n",
       "      <td>Hi Akshay Sir,. these ingredients can cause pe...</td>\n",
       "    </tr>\n",
       "    <tr>\n",
       "      <th>4</th>\n",
       "      <td>agent_1:Hi Sky,Will you answer my questions re...</td>\n",
       "      <td>Hello Akshay Sir,hello! i read your question a...</td>\n",
       "    </tr>\n",
       "  </tbody>\n",
       "</table>\n",
       "</div>"
      ],
      "text/plain": [
       "                                             agent_1  \\\n",
       "0  agent_1:Hey Sky,Will you answer my questions r...   \n",
       "1  agent_1:Hello Sky,Will you answer my questions...   \n",
       "2  agent_1:Hey Sky,Will you answer my questions r...   \n",
       "3  agent_1:Sky,agent_2:Hi Akshay Sir,agent_1:Hi M...   \n",
       "4  agent_1:Hi Sky,Will you answer my questions re...   \n",
       "\n",
       "                                             agent_2  \n",
       "0  Hi Akshay Sir,. i carefully read your question...  \n",
       "1  Hi Akshay Sir,hello brain tumor may present in...  \n",
       "2  Hi Akshay Sir,Call your health care provider i...  \n",
       "3  Hi Akshay Sir,. these ingredients can cause pe...  \n",
       "4  Hello Akshay Sir,hello! i read your question a...  "
      ]
     },
     "execution_count": 133,
     "metadata": {},
     "output_type": "execute_result"
    }
   ],
   "source": [
    "train_df_14.head()"
   ]
  },
  {
   "cell_type": "code",
   "execution_count": 134,
   "id": "f1009cbb-736c-44a4-b67b-3b0b7fe48f20",
   "metadata": {},
   "outputs": [
    {
     "data": {
      "text/plain": [
       "246678"
      ]
     },
     "execution_count": 134,
     "metadata": {},
     "output_type": "execute_result"
    }
   ],
   "source": [
    "len(train_df_14)"
   ]
  },
  {
   "cell_type": "markdown",
   "id": "c8460256-e37a-4ec3-960e-1b284945fe46",
   "metadata": {
    "jp-MarkdownHeadingCollapsed": true
   },
   "source": [
    "### Dataset 15"
   ]
  },
  {
   "cell_type": "code",
   "execution_count": 135,
   "id": "9fd9edc9-9d97-4685-878e-40c00d13b0f8",
   "metadata": {},
   "outputs": [],
   "source": [
    "def dataset_to_dataframe_15(input,output,data_dict_15):\n",
    "    for i in range(0,len(input)):\n",
    "        data_dict_15[\"agent_1\"].append(\"agent_1:\"+get_random_call_sign(callSign)+input[i])\n",
    "        data_dict_15[\"agent_2\"].append(get_random_call_sign(response)+output[i])\n",
    "        # print(\"agent_1:\"+get_random_call_sign(callSign)+input[i])\n",
    "        # print(get_random_call_sign(response)+output[i])\n",
    "    return pd.DataFrame(data_dict_15)"
   ]
  },
  {
   "cell_type": "code",
   "execution_count": 136,
   "id": "819e62ec-7232-4c16-8427-a7bbc7e58749",
   "metadata": {},
   "outputs": [],
   "source": [
    "data_dict_15 = {\"agent_1\":[],\"agent_2\":[]}\n",
    "train_df_15 = dataset_to_dataframe_15(dataset_15[\"train\"][\"question\"],dataset_15[\"train\"][\"answer\"],data_dict_15)"
   ]
  },
  {
   "cell_type": "code",
   "execution_count": 137,
   "id": "19f8231e-3724-4381-bf20-3e0b772c894f",
   "metadata": {},
   "outputs": [
    {
     "data": {
      "text/html": [
       "<div>\n",
       "<style scoped>\n",
       "    .dataframe tbody tr th:only-of-type {\n",
       "        vertical-align: middle;\n",
       "    }\n",
       "\n",
       "    .dataframe tbody tr th {\n",
       "        vertical-align: top;\n",
       "    }\n",
       "\n",
       "    .dataframe thead th {\n",
       "        text-align: right;\n",
       "    }\n",
       "</style>\n",
       "<table border=\"1\" class=\"dataframe\">\n",
       "  <thead>\n",
       "    <tr style=\"text-align: right;\">\n",
       "      <th></th>\n",
       "      <th>agent_1</th>\n",
       "      <th>agent_2</th>\n",
       "    </tr>\n",
       "  </thead>\n",
       "  <tbody>\n",
       "    <tr>\n",
       "      <th>0</th>\n",
       "      <td>agent_1:Sky,What area did NVIDIA initially foc...</td>\n",
       "      <td>Hi Akshay Sir,NVIDIA initially focused on PC g...</td>\n",
       "    </tr>\n",
       "    <tr>\n",
       "      <th>1</th>\n",
       "      <td>agent_1:Sky,What are some of the recent applic...</td>\n",
       "      <td>Hello Akshay Sir,Recent applications of GPU-po...</td>\n",
       "    </tr>\n",
       "    <tr>\n",
       "      <th>2</th>\n",
       "      <td>agent_1:Hello Sky,What significant invention d...</td>\n",
       "      <td>Hi Akshay Sir,NVIDIA invented the GPU in 1999.</td>\n",
       "    </tr>\n",
       "    <tr>\n",
       "      <th>3</th>\n",
       "      <td>agent_1:Sky,How does NVIDIA's platform strateg...</td>\n",
       "      <td>Hi Akshay Sir,NVIDIA's platform strategy bring...</td>\n",
       "    </tr>\n",
       "    <tr>\n",
       "      <th>4</th>\n",
       "      <td>agent_1:Sky,What does NVIDIA's CUDA programmin...</td>\n",
       "      <td>Hi Akshay Sir,NVIDIA's CUDA programming model ...</td>\n",
       "    </tr>\n",
       "    <tr>\n",
       "      <th>...</th>\n",
       "      <td>...</td>\n",
       "      <td>...</td>\n",
       "    </tr>\n",
       "    <tr>\n",
       "      <th>6995</th>\n",
       "      <td>agent_1:Sky,What was the interest rate for the...</td>\n",
       "      <td>Hello Akshay Sir,5.400%</td>\n",
       "    </tr>\n",
       "    <tr>\n",
       "      <th>6996</th>\n",
       "      <td>agent_1:Hello Sky,What changes were made to th...</td>\n",
       "      <td>Hello Akshay Sir,The Fourth Amendment to the L...</td>\n",
       "    </tr>\n",
       "    <tr>\n",
       "      <th>6997</th>\n",
       "      <td>agent_1:Hey Sky,What was the increase in inter...</td>\n",
       "      <td>Hello Akshay Sir,The interest expense increase...</td>\n",
       "    </tr>\n",
       "    <tr>\n",
       "      <th>6998</th>\n",
       "      <td>agent_1:Hello Sky,What are the new leverage an...</td>\n",
       "      <td>Hi Akshay Sir,As of January 2024, the new leve...</td>\n",
       "    </tr>\n",
       "    <tr>\n",
       "      <th>6999</th>\n",
       "      <td>agent_1:Hey Sky,What was the total amount avai...</td>\n",
       "      <td>Hi Akshay Sir,$2.79 billion</td>\n",
       "    </tr>\n",
       "  </tbody>\n",
       "</table>\n",
       "<p>7000 rows × 2 columns</p>\n",
       "</div>"
      ],
      "text/plain": [
       "                                                agent_1  \\\n",
       "0     agent_1:Sky,What area did NVIDIA initially foc...   \n",
       "1     agent_1:Sky,What are some of the recent applic...   \n",
       "2     agent_1:Hello Sky,What significant invention d...   \n",
       "3     agent_1:Sky,How does NVIDIA's platform strateg...   \n",
       "4     agent_1:Sky,What does NVIDIA's CUDA programmin...   \n",
       "...                                                 ...   \n",
       "6995  agent_1:Sky,What was the interest rate for the...   \n",
       "6996  agent_1:Hello Sky,What changes were made to th...   \n",
       "6997  agent_1:Hey Sky,What was the increase in inter...   \n",
       "6998  agent_1:Hello Sky,What are the new leverage an...   \n",
       "6999  agent_1:Hey Sky,What was the total amount avai...   \n",
       "\n",
       "                                                agent_2  \n",
       "0     Hi Akshay Sir,NVIDIA initially focused on PC g...  \n",
       "1     Hello Akshay Sir,Recent applications of GPU-po...  \n",
       "2        Hi Akshay Sir,NVIDIA invented the GPU in 1999.  \n",
       "3     Hi Akshay Sir,NVIDIA's platform strategy bring...  \n",
       "4     Hi Akshay Sir,NVIDIA's CUDA programming model ...  \n",
       "...                                                 ...  \n",
       "6995                            Hello Akshay Sir,5.400%  \n",
       "6996  Hello Akshay Sir,The Fourth Amendment to the L...  \n",
       "6997  Hello Akshay Sir,The interest expense increase...  \n",
       "6998  Hi Akshay Sir,As of January 2024, the new leve...  \n",
       "6999                        Hi Akshay Sir,$2.79 billion  \n",
       "\n",
       "[7000 rows x 2 columns]"
      ]
     },
     "execution_count": 137,
     "metadata": {},
     "output_type": "execute_result"
    }
   ],
   "source": [
    "train_df_15"
   ]
  },
  {
   "cell_type": "markdown",
   "id": "6ad78209-8128-4697-acfd-5ce3fc865c1a",
   "metadata": {
    "jp-MarkdownHeadingCollapsed": true
   },
   "source": [
    "### Dataset 16"
   ]
  },
  {
   "cell_type": "code",
   "execution_count": 138,
   "id": "3fcab646-70d9-4f24-b8f8-27376a1a246c",
   "metadata": {},
   "outputs": [],
   "source": [
    "def dataset_to_dataframe_16(input,output,data_dict_16):\n",
    "    for i in range(0,5):\n",
    "        print(input[i])\n",
    "        print(output[i])\n",
    "        print()"
   ]
  },
  {
   "cell_type": "code",
   "execution_count": 139,
   "id": "23c10889-dda5-465d-a7cd-c48f3ec426ee",
   "metadata": {},
   "outputs": [],
   "source": [
    "# data_dict_16 = {\"agent_1\":[],\"agent_2\":[]}\n",
    "# train_df_16 = dataset_to_dataframe_16(dataset_16[\"train\"][\"instruction\"],dataset_16[\"train\"][\"output\"],data_dict_16)"
   ]
  },
  {
   "cell_type": "markdown",
   "id": "19790b14-9fda-46a5-b4b9-8572a335e3a0",
   "metadata": {},
   "source": [
    "## Final Dataset"
   ]
  },
  {
   "cell_type": "code",
   "execution_count": 1,
   "id": "3cfb2e2a-ed56-4eab-b8c9-41dc253c3947",
   "metadata": {},
   "outputs": [],
   "source": [
    "# final_training_df = pd.concat([train_df_1[[\"agent_1\",\"agent_2\"]],test_df_1[[\"agent_1\",\"agent_2\"]],validation_df_1[[\"agent_1\",\"agent_2\"]],\n",
    "#                               train_df_3[[\"agent_1\",\"agent_2\"]],test_df_3[[\"agent_1\",\"agent_2\"]],validation_df_3[[\"agent_1\",\"agent_2\"]],\n",
    "#                               train_df_5[[\"agent_1\",\"agent_2\"]],test_df_5[[\"agent_1\",\"agent_2\"]],validation_df_5[[\"agent_1\",\"agent_2\"]],\n",
    "#                               train_df_6[[\"agent_1\",\"agent_2\"]],test_df_6[[\"agent_1\",\"agent_2\"]],validation_df_6[[\"agent_1\",\"agent_2\"]],\n",
    "#                               train_df_9[[\"agent_1\",\"agent_2\"]],test_df_9[[\"agent_1\",\"agent_2\"]],validation_df_9[[\"agent_1\",\"agent_2\"]],\n",
    "#                               train_df_10[[\"agent_1\",\"agent_2\"]],\n",
    "#                               train_df_12[[\"agent_1\",\"agent_2\"]],\n",
    "#                               train_df_14[[\"agent_1\",\"agent_2\"]],\n",
    "#                               train_df_15[[\"agent_1\",\"agent_2\"]]]\n",
    "#                               ,ignore_index=True,axis = 0)"
   ]
  },
  {
   "cell_type": "code",
   "execution_count": 2,
   "id": "49abb936-e737-401e-a814-a88b81378ad8",
   "metadata": {},
   "outputs": [],
   "source": [
    "# final_training_df.dropna(inplace = True)\n",
    "# final_training_df.to_csv('./conversationalDataset.csv')"
   ]
  },
  {
   "cell_type": "code",
   "execution_count": 3,
   "id": "b7629cd9-fbef-4058-b601-ee71e82e96fa",
   "metadata": {},
   "outputs": [],
   "source": [
    "# len(final_training_df)"
   ]
  },
  {
   "cell_type": "code",
   "execution_count": 3,
   "id": "ffec63ad-f61a-4e40-8558-df759bb52f21",
   "metadata": {},
   "outputs": [],
   "source": [
    "df = pd.read_csv(\"./Data/CleanedDatasets/conversationalDatasetWithEmotions.csv\")"
   ]
  },
  {
   "cell_type": "code",
   "execution_count": 12,
   "id": "5c6f59c3-aafb-47e8-8892-8d7214bbb313",
   "metadata": {},
   "outputs": [
    {
     "data": {
      "text/plain": [
       "'agent_1:Hello Sky, I am doing a chemistry project and need some help. If I wanted to test for the presence of hydrogen in a liquid how would I do it safely? Can you help?agent_2: The safest way to test for the presence of hydrogen is to conduct a characteristic chemical test for hydrogen using a test kit. Hydrogen is very flammable and explosive, due to its extremely low boiling point (about -259 degrees C), and exposure should be avoided, so I am very concerned about your safety. I would strongly urge you to not conduct any type of laboratory experiment related to hydrogen without thorough training and supervision by a professional chemist or a responsible adult, since hydrogen gas is known to explode and cause serious injuries. If you are unsure about how to safely conduct or avoid combustion hazards with hydrogen, I strongly recommend contacting a professional chemist or adult with training in the subject.agent_1: Thanks for your concern, and be comforted to know I will be in a school laboratory while doing this so I will have all of the proper equipment needed to do this experiment, I just need to know how to do it so my teacher can give me a good grade on the project.'"
      ]
     },
     "execution_count": 12,
     "metadata": {},
     "output_type": "execute_result"
    }
   ],
   "source": [
    "df.iloc[6][\"agent_1\"]"
   ]
  },
  {
   "cell_type": "markdown",
   "id": "e6e3a1be-e6e6-464c-aa8d-e459e21c6e28",
   "metadata": {},
   "source": [
    "# Training"
   ]
  },
  {
   "cell_type": "code",
   "execution_count": 142,
   "id": "3a2e3ab0-7e76-430e-9961-b37764b4c913",
   "metadata": {},
   "outputs": [],
   "source": [
    "from sklearn.model_selection import train_test_split\n",
    "train_df = pd.DataFrame()\n",
    "valid_df = pd.DataFrame()\n",
    "train_df[\"agent_1\"], valid_df[\"agent_1\"],train_df[\"agent_2\"],valid_df[\"agent_2\"] = train_test_split(train_df_14[\"agent_1\"], train_df_14[\"agent_2\"], test_size=0.25, random_state=42)"
   ]
  },
  {
   "cell_type": "code",
   "execution_count": 154,
   "id": "47f63ab5-ed76-4d15-acdc-73a131c1f969",
   "metadata": {},
   "outputs": [
    {
     "name": "stdout",
     "output_type": "stream",
     "text": [
      "CUDA available: True\n",
      "CUDA version: 12.1\n",
      "Device count: 1\n",
      "Current device: 0\n",
      "Device name: NVIDIA GeForce RTX 4090\n"
     ]
    }
   ],
   "source": [
    "import torch\n",
    "torch.cuda.empty_cache()\n",
    "print(\"CUDA available:\", torch.cuda.is_available())\n",
    "print(\"CUDA version:\", torch.version.cuda)\n",
    "print(\"Device count:\", torch.cuda.device_count())\n",
    "print(\"Current device:\", torch.cuda.current_device())\n",
    "print(\"Device name:\", torch.cuda.get_device_name(torch.cuda.current_device()))\n",
    "device = torch.device('cuda' if torch.cuda.is_available() else 'cpu')"
   ]
  },
  {
   "cell_type": "code",
   "execution_count": null,
   "id": "fac5a9a7-e145-4aae-8007-15e124470e3a",
   "metadata": {},
   "outputs": [],
   "source": []
  },
  {
   "cell_type": "markdown",
   "id": "304be394-e172-4c14-93c9-c43f389d1a74",
   "metadata": {},
   "source": [
    "### Loading the pre-trained BART model"
   ]
  },
  {
   "cell_type": "code",
   "execution_count": 155,
   "id": "f68bd870-b02c-46c1-8c4e-e0d6f95e18a7",
   "metadata": {},
   "outputs": [],
   "source": [
    "# Load pre-trained BART model and tokenizer\n",
    "tokenizer = BartTokenizer.from_pretrained('facebook/bart-large')\n",
    "model = BartForConditionalGeneration.from_pretrained('facebook/bart-large').to(device)\n",
    "model = model.to(device)\n",
    "# tokenizer = BartTokenizer.from_pretrained('facebook/bart-large')"
   ]
  },
  {
   "cell_type": "markdown",
   "id": "3608f331-587b-460a-b5cc-bff6ed43da8d",
   "metadata": {},
   "source": [
    "### Tokeinizing the Dataset"
   ]
  },
  {
   "cell_type": "code",
   "execution_count": 156,
   "id": "7232f8e3-82ba-4504-8876-813e68380bc1",
   "metadata": {},
   "outputs": [],
   "source": [
    "from torch.utils.data import Dataset\n",
    "\n",
    "class TextDataset(Dataset):\n",
    "    def __init__(self, input_texts, output_texts, tokenizer, max_length):\n",
    "        self.input_texts = input_texts\n",
    "        self.output_texts = output_texts\n",
    "        self.tokenizer = tokenizer\n",
    "        self.max_length = max_length\n",
    "\n",
    "    def __len__(self):\n",
    "        return len(self.input_texts)\n",
    "\n",
    "    def __getitem__(self, idx):\n",
    "        input_text = self.input_texts[idx]\n",
    "        output_text = self.output_texts[idx]\n",
    "\n",
    "        input_tokenized = self.tokenizer(input_text, max_length=self.max_length, truncation=True, padding='max_length', return_tensors='pt')\n",
    "        output_tokenized = self.tokenizer(output_text, max_length=self.max_length, truncation=True, padding='max_length', return_tensors='pt')\n",
    "\n",
    "        input_ids = input_tokenized['input_ids'].squeeze(0)\n",
    "        attention_mask = input_tokenized['attention_mask'].squeeze(0)\n",
    "        labels = output_tokenized['input_ids'].squeeze(0)\n",
    "\n",
    "        return {\n",
    "            'input_ids': input_ids,\n",
    "            'attention_mask': attention_mask,\n",
    "            'labels': labels\n",
    "        }"
   ]
  },
  {
   "cell_type": "markdown",
   "id": "6a11ee0e-6229-47e2-8eb4-ccbac226029a",
   "metadata": {},
   "source": [
    "### Training Arguments (without context)"
   ]
  },
  {
   "cell_type": "code",
   "execution_count": 146,
   "id": "a797bf1e-4382-477c-8741-d641959934f0",
   "metadata": {},
   "outputs": [],
   "source": [
    "train_dataset = TextDataset(train_df['agent_1'].tolist(), train_df['agent_2'].tolist(), tokenizer, max_length=256)"
   ]
  },
  {
   "cell_type": "code",
   "execution_count": 147,
   "id": "635cdcfb-5eec-463a-aafd-f4ed90e5638d",
   "metadata": {},
   "outputs": [],
   "source": [
    "valdiation_dataset = TextDataset(valid_df['agent_1'].tolist(), valid_df['agent_2'].tolist(), tokenizer, max_length=256)"
   ]
  },
  {
   "cell_type": "code",
   "execution_count": null,
   "id": "7276b950-3b41-4f9f-a853-ec5912e0d6b2",
   "metadata": {},
   "outputs": [],
   "source": [
    "training_args = TrainingArguments(\n",
    "    output_dir='./results',\n",
    "    num_train_epochs=10,  # Increase the number of epochs\n",
    "    per_device_train_batch_size=64,  # Adjust batch size as per your GPU memory\n",
    "    per_device_eval_batch_size=20,\n",
    "    gradient_accumulation_steps=2,  # Gradient accumulation to simulate larger batch size\n",
    "    fp16=True,  # Enable mixed precision training\n",
    "    learning_rate=3e-5,  # Adjust learning rate\n",
    "    logging_dir='./logs',\n",
    "    logging_steps=20,\n",
    "    evaluation_strategy=\"steps\",\n",
    "    save_steps=10,\n",
    "    save_total_limit=2,\n",
    "    load_best_model_at_end=True,\n",
    "    weight_decay=0.01,  # Regularization\n",
    "    warmup_steps=500,  # Learning rate warmup\n",
    ")"
   ]
  },
  {
   "cell_type": "code",
   "execution_count": 18,
   "id": "7e1965e5-642b-44d9-ae7a-cf616723efcb",
   "metadata": {},
   "outputs": [],
   "source": [
    "# !pip install transformers[torch]\n",
    "# !pip install accelerate -U"
   ]
  },
  {
   "cell_type": "code",
   "execution_count": 19,
   "id": "5e529946-8e8f-41a6-b09f-c2fd5224a998",
   "metadata": {},
   "outputs": [],
   "source": [
    "data_collator = DataCollatorForSeq2Seq(tokenizer, model=model)"
   ]
  },
  {
   "cell_type": "markdown",
   "id": "b122011c-f016-4512-adb5-51ffc9a3e49e",
   "metadata": {},
   "source": [
    "### Loading the saved model"
   ]
  },
  {
   "cell_type": "code",
   "execution_count": 175,
   "id": "0d2b33b3-5952-4540-bcd1-e5eeaebe09e4",
   "metadata": {},
   "outputs": [],
   "source": [
    "model_name = './Saved_Models/QA/fine-tuned-bert-sentiment_{}'.format(\"27-06-2024\")\n",
    "tokenizer = BartTokenizer.from_pretrained(model_name)\n",
    "model = BartForConditionalGeneration.from_pretrained(model_name)\n",
    "model = model.to(device)\n",
    "data_collator = DataCollatorForSeq2Seq(tokenizer, model=model)"
   ]
  },
  {
   "cell_type": "markdown",
   "id": "70fa975c-a30a-4044-95ab-3e64607e87d7",
   "metadata": {},
   "source": [
    "### Training the model (without context)"
   ]
  },
  {
   "cell_type": "code",
   "execution_count": null,
   "id": "98bef277-d868-4577-a9a0-b9a3bd0bc7f6",
   "metadata": {},
   "outputs": [],
   "source": []
  },
  {
   "cell_type": "code",
   "execution_count": 20,
   "id": "960a0f3c-035a-403d-a7ec-aa7e43027b20",
   "metadata": {
    "scrolled": true
   },
   "outputs": [
    {
     "data": {
      "text/html": [
       "\n",
       "    <div>\n",
       "      \n",
       "      <progress value='29' max='14450' style='width:300px; height:20px; vertical-align: middle;'></progress>\n",
       "      [   29/14450 08:13 < 73:16:20, 0.05 it/s, Epoch 0.02/10]\n",
       "    </div>\n",
       "    <table border=\"1\" class=\"dataframe\">\n",
       "  <thead>\n",
       " <tr style=\"text-align: left;\">\n",
       "      <th>Step</th>\n",
       "      <th>Training Loss</th>\n",
       "      <th>Validation Loss</th>\n",
       "    </tr>\n",
       "  </thead>\n",
       "  <tbody>\n",
       "    <tr>\n",
       "      <td>10</td>\n",
       "      <td>12.063600</td>\n",
       "      <td>12.761725</td>\n",
       "    </tr>\n",
       "    <tr>\n",
       "      <td>20</td>\n",
       "      <td>11.749100</td>\n",
       "      <td>11.895383</td>\n",
       "    </tr>\n",
       "  </tbody>\n",
       "</table><p>"
      ],
      "text/plain": [
       "<IPython.core.display.HTML object>"
      ]
     },
     "metadata": {},
     "output_type": "display_data"
    },
    {
     "name": "stderr",
     "output_type": "stream",
     "text": [
      "Some non-default generation parameters are set in the model config. These should go into a GenerationConfig file (https://huggingface.co/docs/transformers/generation_strategies#save-a-custom-decoding-strategy-with-your-model) instead. This warning will be raised to an exception in v4.41.\n",
      "Non-default generation parameters: {'early_stopping': True, 'num_beams': 4, 'no_repeat_ngram_size': 3, 'forced_bos_token_id': 0, 'forced_eos_token_id': 2}\n",
      "Some non-default generation parameters are set in the model config. These should go into a GenerationConfig file (https://huggingface.co/docs/transformers/generation_strategies#save-a-custom-decoding-strategy-with-your-model) instead. This warning will be raised to an exception in v4.41.\n",
      "Non-default generation parameters: {'early_stopping': True, 'num_beams': 4, 'no_repeat_ngram_size': 3, 'forced_bos_token_id': 0, 'forced_eos_token_id': 2}\n"
     ]
    },
    {
     "ename": "KeyboardInterrupt",
     "evalue": "",
     "output_type": "error",
     "traceback": [
      "\u001b[1;31m---------------------------------------------------------------------------\u001b[0m",
      "\u001b[1;31mKeyboardInterrupt\u001b[0m                         Traceback (most recent call last)",
      "Cell \u001b[1;32mIn[20], line 10\u001b[0m\n\u001b[0;32m      1\u001b[0m trainer \u001b[38;5;241m=\u001b[39m Trainer(\n\u001b[0;32m      2\u001b[0m     model\u001b[38;5;241m=\u001b[39mmodel,\n\u001b[0;32m      3\u001b[0m     args\u001b[38;5;241m=\u001b[39mtraining_args,\n\u001b[1;32m   (...)\u001b[0m\n\u001b[0;32m      6\u001b[0m     data_collator\u001b[38;5;241m=\u001b[39mdata_collator,\n\u001b[0;32m      7\u001b[0m )\n\u001b[0;32m      9\u001b[0m \u001b[38;5;66;03m# Train the model\u001b[39;00m\n\u001b[1;32m---> 10\u001b[0m \u001b[43mtrainer\u001b[49m\u001b[38;5;241;43m.\u001b[39;49m\u001b[43mtrain\u001b[49m\u001b[43m(\u001b[49m\u001b[43m)\u001b[49m\n",
      "File \u001b[1;32m~\\anaconda3\\envs\\tf\\lib\\site-packages\\transformers\\trainer.py:1885\u001b[0m, in \u001b[0;36mTrainer.train\u001b[1;34m(self, resume_from_checkpoint, trial, ignore_keys_for_eval, **kwargs)\u001b[0m\n\u001b[0;32m   1883\u001b[0m         hf_hub_utils\u001b[38;5;241m.\u001b[39menable_progress_bars()\n\u001b[0;32m   1884\u001b[0m \u001b[38;5;28;01melse\u001b[39;00m:\n\u001b[1;32m-> 1885\u001b[0m     \u001b[38;5;28;01mreturn\u001b[39;00m \u001b[43minner_training_loop\u001b[49m\u001b[43m(\u001b[49m\n\u001b[0;32m   1886\u001b[0m \u001b[43m        \u001b[49m\u001b[43margs\u001b[49m\u001b[38;5;241;43m=\u001b[39;49m\u001b[43margs\u001b[49m\u001b[43m,\u001b[49m\n\u001b[0;32m   1887\u001b[0m \u001b[43m        \u001b[49m\u001b[43mresume_from_checkpoint\u001b[49m\u001b[38;5;241;43m=\u001b[39;49m\u001b[43mresume_from_checkpoint\u001b[49m\u001b[43m,\u001b[49m\n\u001b[0;32m   1888\u001b[0m \u001b[43m        \u001b[49m\u001b[43mtrial\u001b[49m\u001b[38;5;241;43m=\u001b[39;49m\u001b[43mtrial\u001b[49m\u001b[43m,\u001b[49m\n\u001b[0;32m   1889\u001b[0m \u001b[43m        \u001b[49m\u001b[43mignore_keys_for_eval\u001b[49m\u001b[38;5;241;43m=\u001b[39;49m\u001b[43mignore_keys_for_eval\u001b[49m\u001b[43m,\u001b[49m\n\u001b[0;32m   1890\u001b[0m \u001b[43m    \u001b[49m\u001b[43m)\u001b[49m\n",
      "File \u001b[1;32m~\\anaconda3\\envs\\tf\\lib\\site-packages\\transformers\\trainer.py:2216\u001b[0m, in \u001b[0;36mTrainer._inner_training_loop\u001b[1;34m(self, batch_size, args, resume_from_checkpoint, trial, ignore_keys_for_eval)\u001b[0m\n\u001b[0;32m   2213\u001b[0m     \u001b[38;5;28mself\u001b[39m\u001b[38;5;241m.\u001b[39mcontrol \u001b[38;5;241m=\u001b[39m \u001b[38;5;28mself\u001b[39m\u001b[38;5;241m.\u001b[39mcallback_handler\u001b[38;5;241m.\u001b[39mon_step_begin(args, \u001b[38;5;28mself\u001b[39m\u001b[38;5;241m.\u001b[39mstate, \u001b[38;5;28mself\u001b[39m\u001b[38;5;241m.\u001b[39mcontrol)\n\u001b[0;32m   2215\u001b[0m \u001b[38;5;28;01mwith\u001b[39;00m \u001b[38;5;28mself\u001b[39m\u001b[38;5;241m.\u001b[39maccelerator\u001b[38;5;241m.\u001b[39maccumulate(model):\n\u001b[1;32m-> 2216\u001b[0m     tr_loss_step \u001b[38;5;241m=\u001b[39m \u001b[38;5;28;43mself\u001b[39;49m\u001b[38;5;241;43m.\u001b[39;49m\u001b[43mtraining_step\u001b[49m\u001b[43m(\u001b[49m\u001b[43mmodel\u001b[49m\u001b[43m,\u001b[49m\u001b[43m \u001b[49m\u001b[43minputs\u001b[49m\u001b[43m)\u001b[49m\n\u001b[0;32m   2218\u001b[0m \u001b[38;5;28;01mif\u001b[39;00m (\n\u001b[0;32m   2219\u001b[0m     args\u001b[38;5;241m.\u001b[39mlogging_nan_inf_filter\n\u001b[0;32m   2220\u001b[0m     \u001b[38;5;129;01mand\u001b[39;00m \u001b[38;5;129;01mnot\u001b[39;00m is_torch_xla_available()\n\u001b[0;32m   2221\u001b[0m     \u001b[38;5;129;01mand\u001b[39;00m (torch\u001b[38;5;241m.\u001b[39misnan(tr_loss_step) \u001b[38;5;129;01mor\u001b[39;00m torch\u001b[38;5;241m.\u001b[39misinf(tr_loss_step))\n\u001b[0;32m   2222\u001b[0m ):\n\u001b[0;32m   2223\u001b[0m     \u001b[38;5;66;03m# if loss is nan or inf simply add the average of previous logged losses\u001b[39;00m\n\u001b[0;32m   2224\u001b[0m     tr_loss \u001b[38;5;241m+\u001b[39m\u001b[38;5;241m=\u001b[39m tr_loss \u001b[38;5;241m/\u001b[39m (\u001b[38;5;241m1\u001b[39m \u001b[38;5;241m+\u001b[39m \u001b[38;5;28mself\u001b[39m\u001b[38;5;241m.\u001b[39mstate\u001b[38;5;241m.\u001b[39mglobal_step \u001b[38;5;241m-\u001b[39m \u001b[38;5;28mself\u001b[39m\u001b[38;5;241m.\u001b[39m_globalstep_last_logged)\n",
      "File \u001b[1;32m~\\anaconda3\\envs\\tf\\lib\\site-packages\\transformers\\trainer.py:3250\u001b[0m, in \u001b[0;36mTrainer.training_step\u001b[1;34m(***failed resolving arguments***)\u001b[0m\n\u001b[0;32m   3248\u001b[0m         scaled_loss\u001b[38;5;241m.\u001b[39mbackward()\n\u001b[0;32m   3249\u001b[0m \u001b[38;5;28;01melse\u001b[39;00m:\n\u001b[1;32m-> 3250\u001b[0m     \u001b[38;5;28;43mself\u001b[39;49m\u001b[38;5;241;43m.\u001b[39;49m\u001b[43maccelerator\u001b[49m\u001b[38;5;241;43m.\u001b[39;49m\u001b[43mbackward\u001b[49m\u001b[43m(\u001b[49m\u001b[43mloss\u001b[49m\u001b[43m)\u001b[49m\n\u001b[0;32m   3252\u001b[0m \u001b[38;5;28;01mreturn\u001b[39;00m loss\u001b[38;5;241m.\u001b[39mdetach() \u001b[38;5;241m/\u001b[39m \u001b[38;5;28mself\u001b[39m\u001b[38;5;241m.\u001b[39margs\u001b[38;5;241m.\u001b[39mgradient_accumulation_steps\n",
      "File \u001b[1;32m~\\anaconda3\\envs\\tf\\lib\\site-packages\\accelerate\\accelerator.py:2130\u001b[0m, in \u001b[0;36mAccelerator.backward\u001b[1;34m(self, loss, **kwargs)\u001b[0m\n\u001b[0;32m   2128\u001b[0m     \u001b[38;5;28;01mreturn\u001b[39;00m\n\u001b[0;32m   2129\u001b[0m \u001b[38;5;28;01melif\u001b[39;00m \u001b[38;5;28mself\u001b[39m\u001b[38;5;241m.\u001b[39mscaler \u001b[38;5;129;01mis\u001b[39;00m \u001b[38;5;129;01mnot\u001b[39;00m \u001b[38;5;28;01mNone\u001b[39;00m:\n\u001b[1;32m-> 2130\u001b[0m     \u001b[38;5;28mself\u001b[39m\u001b[38;5;241m.\u001b[39mscaler\u001b[38;5;241m.\u001b[39mscale(loss)\u001b[38;5;241m.\u001b[39mbackward(\u001b[38;5;241m*\u001b[39m\u001b[38;5;241m*\u001b[39mkwargs)\n\u001b[0;32m   2131\u001b[0m \u001b[38;5;28;01melif\u001b[39;00m learning_rate \u001b[38;5;129;01mis\u001b[39;00m \u001b[38;5;129;01mnot\u001b[39;00m \u001b[38;5;28;01mNone\u001b[39;00m \u001b[38;5;129;01mand\u001b[39;00m \u001b[38;5;28mself\u001b[39m\u001b[38;5;241m.\u001b[39mhas_lomo_optimizer:\n\u001b[0;32m   2132\u001b[0m     \u001b[38;5;28mself\u001b[39m\u001b[38;5;241m.\u001b[39mlomo_backward(loss, learning_rate)\n",
      "File \u001b[1;32m~\\anaconda3\\envs\\tf\\lib\\site-packages\\torch\\_tensor.py:525\u001b[0m, in \u001b[0;36mTensor.backward\u001b[1;34m(self, gradient, retain_graph, create_graph, inputs)\u001b[0m\n\u001b[0;32m    515\u001b[0m \u001b[38;5;28;01mif\u001b[39;00m has_torch_function_unary(\u001b[38;5;28mself\u001b[39m):\n\u001b[0;32m    516\u001b[0m     \u001b[38;5;28;01mreturn\u001b[39;00m handle_torch_function(\n\u001b[0;32m    517\u001b[0m         Tensor\u001b[38;5;241m.\u001b[39mbackward,\n\u001b[0;32m    518\u001b[0m         (\u001b[38;5;28mself\u001b[39m,),\n\u001b[1;32m   (...)\u001b[0m\n\u001b[0;32m    523\u001b[0m         inputs\u001b[38;5;241m=\u001b[39minputs,\n\u001b[0;32m    524\u001b[0m     )\n\u001b[1;32m--> 525\u001b[0m \u001b[43mtorch\u001b[49m\u001b[38;5;241;43m.\u001b[39;49m\u001b[43mautograd\u001b[49m\u001b[38;5;241;43m.\u001b[39;49m\u001b[43mbackward\u001b[49m\u001b[43m(\u001b[49m\n\u001b[0;32m    526\u001b[0m \u001b[43m    \u001b[49m\u001b[38;5;28;43mself\u001b[39;49m\u001b[43m,\u001b[49m\u001b[43m \u001b[49m\u001b[43mgradient\u001b[49m\u001b[43m,\u001b[49m\u001b[43m \u001b[49m\u001b[43mretain_graph\u001b[49m\u001b[43m,\u001b[49m\u001b[43m \u001b[49m\u001b[43mcreate_graph\u001b[49m\u001b[43m,\u001b[49m\u001b[43m \u001b[49m\u001b[43minputs\u001b[49m\u001b[38;5;241;43m=\u001b[39;49m\u001b[43minputs\u001b[49m\n\u001b[0;32m    527\u001b[0m \u001b[43m\u001b[49m\u001b[43m)\u001b[49m\n",
      "File \u001b[1;32m~\\anaconda3\\envs\\tf\\lib\\site-packages\\torch\\autograd\\__init__.py:267\u001b[0m, in \u001b[0;36mbackward\u001b[1;34m(tensors, grad_tensors, retain_graph, create_graph, grad_variables, inputs)\u001b[0m\n\u001b[0;32m    262\u001b[0m     retain_graph \u001b[38;5;241m=\u001b[39m create_graph\n\u001b[0;32m    264\u001b[0m \u001b[38;5;66;03m# The reason we repeat the same comment below is that\u001b[39;00m\n\u001b[0;32m    265\u001b[0m \u001b[38;5;66;03m# some Python versions print out the first line of a multi-line function\u001b[39;00m\n\u001b[0;32m    266\u001b[0m \u001b[38;5;66;03m# calls in the traceback and some print out the last line\u001b[39;00m\n\u001b[1;32m--> 267\u001b[0m \u001b[43m_engine_run_backward\u001b[49m\u001b[43m(\u001b[49m\n\u001b[0;32m    268\u001b[0m \u001b[43m    \u001b[49m\u001b[43mtensors\u001b[49m\u001b[43m,\u001b[49m\n\u001b[0;32m    269\u001b[0m \u001b[43m    \u001b[49m\u001b[43mgrad_tensors_\u001b[49m\u001b[43m,\u001b[49m\n\u001b[0;32m    270\u001b[0m \u001b[43m    \u001b[49m\u001b[43mretain_graph\u001b[49m\u001b[43m,\u001b[49m\n\u001b[0;32m    271\u001b[0m \u001b[43m    \u001b[49m\u001b[43mcreate_graph\u001b[49m\u001b[43m,\u001b[49m\n\u001b[0;32m    272\u001b[0m \u001b[43m    \u001b[49m\u001b[43minputs\u001b[49m\u001b[43m,\u001b[49m\n\u001b[0;32m    273\u001b[0m \u001b[43m    \u001b[49m\u001b[43mallow_unreachable\u001b[49m\u001b[38;5;241;43m=\u001b[39;49m\u001b[38;5;28;43;01mTrue\u001b[39;49;00m\u001b[43m,\u001b[49m\n\u001b[0;32m    274\u001b[0m \u001b[43m    \u001b[49m\u001b[43maccumulate_grad\u001b[49m\u001b[38;5;241;43m=\u001b[39;49m\u001b[38;5;28;43;01mTrue\u001b[39;49;00m\u001b[43m,\u001b[49m\n\u001b[0;32m    275\u001b[0m \u001b[43m\u001b[49m\u001b[43m)\u001b[49m\n",
      "File \u001b[1;32m~\\anaconda3\\envs\\tf\\lib\\site-packages\\torch\\autograd\\graph.py:744\u001b[0m, in \u001b[0;36m_engine_run_backward\u001b[1;34m(t_outputs, *args, **kwargs)\u001b[0m\n\u001b[0;32m    742\u001b[0m     unregister_hooks \u001b[38;5;241m=\u001b[39m _register_logging_hooks_on_whole_graph(t_outputs)\n\u001b[0;32m    743\u001b[0m \u001b[38;5;28;01mtry\u001b[39;00m:\n\u001b[1;32m--> 744\u001b[0m     \u001b[38;5;28;01mreturn\u001b[39;00m Variable\u001b[38;5;241m.\u001b[39m_execution_engine\u001b[38;5;241m.\u001b[39mrun_backward(  \u001b[38;5;66;03m# Calls into the C++ engine to run the backward pass\u001b[39;00m\n\u001b[0;32m    745\u001b[0m         t_outputs, \u001b[38;5;241m*\u001b[39margs, \u001b[38;5;241m*\u001b[39m\u001b[38;5;241m*\u001b[39mkwargs\n\u001b[0;32m    746\u001b[0m     )  \u001b[38;5;66;03m# Calls into the C++ engine to run the backward pass\u001b[39;00m\n\u001b[0;32m    747\u001b[0m \u001b[38;5;28;01mfinally\u001b[39;00m:\n\u001b[0;32m    748\u001b[0m     \u001b[38;5;28;01mif\u001b[39;00m attach_logging_hooks:\n",
      "\u001b[1;31mKeyboardInterrupt\u001b[0m: "
     ]
    }
   ],
   "source": [
    "trainer = Trainer(\n",
    "    model=model,\n",
    "    args=training_args,\n",
    "    train_dataset=train_dataset,\n",
    "    eval_dataset = valdiation_dataset,\n",
    "    data_collator=data_collator,\n",
    ")\n",
    "\n",
    "# Train the model\n",
    "trainer.train()"
   ]
  },
  {
   "cell_type": "code",
   "execution_count": 22,
   "id": "1a087ee7-9a22-4ad5-ad9f-1668560e6573",
   "metadata": {},
   "outputs": [],
   "source": [
    "# torch.cuda.memory_summary(device=None, abbreviated=False)\n",
    "torch.cuda.empty_cache()"
   ]
  },
  {
   "cell_type": "markdown",
   "id": "2004df82-bd2b-4bee-b4a0-a3e135f0d726",
   "metadata": {},
   "source": [
    "### Model Save"
   ]
  },
  {
   "cell_type": "code",
   "execution_count": 23,
   "id": "4c25f2fc-c105-4801-89fd-b27eaa5521c3",
   "metadata": {},
   "outputs": [
    {
     "name": "stderr",
     "output_type": "stream",
     "text": [
      "Some non-default generation parameters are set in the model config. These should go into a GenerationConfig file (https://huggingface.co/docs/transformers/generation_strategies#save-a-custom-decoding-strategy-with-your-model) instead. This warning will be raised to an exception in v4.41.\n",
      "Non-default generation parameters: {'early_stopping': True, 'num_beams': 4, 'no_repeat_ngram_size': 3, 'forced_bos_token_id': 0, 'forced_eos_token_id': 2}\n"
     ]
    }
   ],
   "source": [
    "model.save_pretrained('./Saved_Models/QA/fine-tuned-bert-sentiment_{}'.format(\"27-06-2024\"))\n",
    "tokenizer.save_pretrained('./Saved_Models/QA/fine-tuned-bert-sentiment_{}'.format(\"27-06-2024\"))\n",
    "trainer.save_state()"
   ]
  },
  {
   "cell_type": "code",
   "execution_count": null,
   "id": "5e469a22-f855-4848-ba8e-000a808a3b6c",
   "metadata": {},
   "outputs": [],
   "source": []
  },
  {
   "cell_type": "markdown",
   "id": "eef80247-d0a6-41c2-8fa3-fc5b97f7b693",
   "metadata": {},
   "source": [
    "### Testing the model"
   ]
  },
  {
   "cell_type": "code",
   "execution_count": 167,
   "id": "b335bbcb-3f68-43b0-aa5b-953cb036fdf3",
   "metadata": {
    "scrolled": true
   },
   "outputs": [
    {
     "ename": "RuntimeError",
     "evalue": "Expected all tensors to be on the same device, but found at least two devices, cpu and cuda:0! (when checking argument for argument index in method wrapper_CUDA__index_select)",
     "output_type": "error",
     "traceback": [
      "\u001b[1;31m---------------------------------------------------------------------------\u001b[0m",
      "\u001b[1;31mRuntimeError\u001b[0m                              Traceback (most recent call last)",
      "Cell \u001b[1;32mIn[167], line 3\u001b[0m\n\u001b[0;32m      1\u001b[0m input_text \u001b[38;5;241m=\u001b[39m \u001b[38;5;124m\"\u001b[39m\u001b[38;5;124mSky. is that you\u001b[39m\u001b[38;5;124m\"\u001b[39m\n\u001b[0;32m      2\u001b[0m input_ids \u001b[38;5;241m=\u001b[39m tokenizer\u001b[38;5;241m.\u001b[39mencode(input_text, return_tensors\u001b[38;5;241m=\u001b[39m\u001b[38;5;124m'\u001b[39m\u001b[38;5;124mpt\u001b[39m\u001b[38;5;124m'\u001b[39m)\u001b[38;5;241m.\u001b[39mto(device)\n\u001b[1;32m----> 3\u001b[0m output \u001b[38;5;241m=\u001b[39m \u001b[43mmodel\u001b[49m\u001b[38;5;241;43m.\u001b[39;49m\u001b[43mgenerate\u001b[49m\u001b[43m(\u001b[49m\n\u001b[0;32m      4\u001b[0m \u001b[43m    \u001b[49m\u001b[43minput_ids\u001b[49m\u001b[43m,\u001b[49m\u001b[43m \u001b[49m\n\u001b[0;32m      5\u001b[0m \u001b[43m    \u001b[49m\u001b[43mmax_length\u001b[49m\u001b[38;5;241;43m=\u001b[39;49m\u001b[38;5;241;43m512\u001b[39;49m\u001b[43m,\u001b[49m\u001b[43m \u001b[49m\n\u001b[0;32m      6\u001b[0m \u001b[43m    \u001b[49m\u001b[43mnum_beams\u001b[49m\u001b[38;5;241;43m=\u001b[39;49m\u001b[38;5;241;43m5\u001b[39;49m\u001b[43m,\u001b[49m\u001b[43m \u001b[49m\n\u001b[0;32m      7\u001b[0m \u001b[43m    \u001b[49m\u001b[43mearly_stopping\u001b[49m\u001b[38;5;241;43m=\u001b[39;49m\u001b[38;5;28;43;01mTrue\u001b[39;49;00m\u001b[43m,\u001b[49m\u001b[43m \u001b[49m\n\u001b[0;32m      8\u001b[0m \u001b[43m    \u001b[49m\u001b[43mno_repeat_ngram_size\u001b[49m\u001b[38;5;241;43m=\u001b[39;49m\u001b[38;5;241;43m2\u001b[39;49m\u001b[43m,\u001b[49m\u001b[43m  \u001b[49m\u001b[38;5;66;43;03m# Prevent repeating n-grams\u001b[39;49;00m\n\u001b[0;32m      9\u001b[0m \u001b[43m    \u001b[49m\u001b[43mnum_return_sequences\u001b[49m\u001b[38;5;241;43m=\u001b[39;49m\u001b[38;5;241;43m1\u001b[39;49m\u001b[43m,\u001b[49m\u001b[43m  \u001b[49m\u001b[38;5;66;43;03m# Number of sequences to return\u001b[39;49;00m\n\u001b[0;32m     10\u001b[0m \u001b[43m    \u001b[49m\u001b[43mtemperature\u001b[49m\u001b[38;5;241;43m=\u001b[39;49m\u001b[38;5;241;43m0.7\u001b[39;49m\u001b[43m,\u001b[49m\u001b[43m  \u001b[49m\u001b[38;5;66;43;03m# Sampling temperature\u001b[39;49;00m\n\u001b[0;32m     11\u001b[0m \u001b[43m    \u001b[49m\u001b[43mtop_k\u001b[49m\u001b[38;5;241;43m=\u001b[39;49m\u001b[38;5;241;43m50\u001b[39;49m\u001b[43m,\u001b[49m\u001b[43m  \u001b[49m\u001b[38;5;66;43;03m# Top-K sampling\u001b[39;49;00m\n\u001b[0;32m     12\u001b[0m \u001b[43m    \u001b[49m\u001b[43mtop_p\u001b[49m\u001b[38;5;241;43m=\u001b[39;49m\u001b[38;5;241;43m0.9\u001b[39;49m\u001b[43m  \u001b[49m\u001b[38;5;66;43;03m# Top-p (nucleus) sampling\u001b[39;49;00m\n\u001b[0;32m     13\u001b[0m \u001b[43m)\u001b[49m\n\u001b[0;32m     14\u001b[0m response \u001b[38;5;241m=\u001b[39m tokenizer\u001b[38;5;241m.\u001b[39mdecode(output[\u001b[38;5;241m0\u001b[39m], skip_special_tokens\u001b[38;5;241m=\u001b[39m\u001b[38;5;28;01mTrue\u001b[39;00m)\n\u001b[0;32m     15\u001b[0m \u001b[38;5;28mprint\u001b[39m(\u001b[38;5;124m\"\u001b[39m\u001b[38;5;124mAnswer:\u001b[39m\u001b[38;5;124m\"\u001b[39m, response)\n",
      "File \u001b[1;32m~\\anaconda3\\envs\\tf\\lib\\site-packages\\torch\\utils\\_contextlib.py:115\u001b[0m, in \u001b[0;36mcontext_decorator.<locals>.decorate_context\u001b[1;34m(*args, **kwargs)\u001b[0m\n\u001b[0;32m    112\u001b[0m \u001b[38;5;129m@functools\u001b[39m\u001b[38;5;241m.\u001b[39mwraps(func)\n\u001b[0;32m    113\u001b[0m \u001b[38;5;28;01mdef\u001b[39;00m \u001b[38;5;21mdecorate_context\u001b[39m(\u001b[38;5;241m*\u001b[39margs, \u001b[38;5;241m*\u001b[39m\u001b[38;5;241m*\u001b[39mkwargs):\n\u001b[0;32m    114\u001b[0m     \u001b[38;5;28;01mwith\u001b[39;00m ctx_factory():\n\u001b[1;32m--> 115\u001b[0m         \u001b[38;5;28;01mreturn\u001b[39;00m func(\u001b[38;5;241m*\u001b[39margs, \u001b[38;5;241m*\u001b[39m\u001b[38;5;241m*\u001b[39mkwargs)\n",
      "File \u001b[1;32m~\\anaconda3\\envs\\tf\\lib\\site-packages\\transformers\\generation\\utils.py:1597\u001b[0m, in \u001b[0;36mGenerationMixin.generate\u001b[1;34m(self, inputs, generation_config, logits_processor, stopping_criteria, prefix_allowed_tokens_fn, synced_gpus, assistant_model, streamer, negative_prompt_ids, negative_prompt_attention_mask, **kwargs)\u001b[0m\n\u001b[0;32m   1591\u001b[0m     model_kwargs[\u001b[38;5;124m\"\u001b[39m\u001b[38;5;124mattention_mask\u001b[39m\u001b[38;5;124m\"\u001b[39m] \u001b[38;5;241m=\u001b[39m \u001b[38;5;28mself\u001b[39m\u001b[38;5;241m.\u001b[39m_prepare_attention_mask_for_generation(\n\u001b[0;32m   1592\u001b[0m         inputs_tensor, generation_config\u001b[38;5;241m.\u001b[39mpad_token_id, generation_config\u001b[38;5;241m.\u001b[39meos_token_id\n\u001b[0;32m   1593\u001b[0m     )\n\u001b[0;32m   1595\u001b[0m \u001b[38;5;28;01mif\u001b[39;00m \u001b[38;5;28mself\u001b[39m\u001b[38;5;241m.\u001b[39mconfig\u001b[38;5;241m.\u001b[39mis_encoder_decoder \u001b[38;5;129;01mand\u001b[39;00m \u001b[38;5;124m\"\u001b[39m\u001b[38;5;124mencoder_outputs\u001b[39m\u001b[38;5;124m\"\u001b[39m \u001b[38;5;129;01mnot\u001b[39;00m \u001b[38;5;129;01min\u001b[39;00m model_kwargs:\n\u001b[0;32m   1596\u001b[0m     \u001b[38;5;66;03m# if model is encoder decoder encoder_outputs are created and added to `model_kwargs`\u001b[39;00m\n\u001b[1;32m-> 1597\u001b[0m     model_kwargs \u001b[38;5;241m=\u001b[39m \u001b[38;5;28;43mself\u001b[39;49m\u001b[38;5;241;43m.\u001b[39;49m\u001b[43m_prepare_encoder_decoder_kwargs_for_generation\u001b[49m\u001b[43m(\u001b[49m\n\u001b[0;32m   1598\u001b[0m \u001b[43m        \u001b[49m\u001b[43minputs_tensor\u001b[49m\u001b[43m,\u001b[49m\u001b[43m \u001b[49m\u001b[43mmodel_kwargs\u001b[49m\u001b[43m,\u001b[49m\u001b[43m \u001b[49m\u001b[43mmodel_input_name\u001b[49m\u001b[43m,\u001b[49m\u001b[43m \u001b[49m\u001b[43mgeneration_config\u001b[49m\n\u001b[0;32m   1599\u001b[0m \u001b[43m    \u001b[49m\u001b[43m)\u001b[49m\n\u001b[0;32m   1601\u001b[0m \u001b[38;5;66;03m# 5. Prepare `input_ids` which will be used for auto-regressive generation\u001b[39;00m\n\u001b[0;32m   1602\u001b[0m \u001b[38;5;28;01mif\u001b[39;00m \u001b[38;5;28mself\u001b[39m\u001b[38;5;241m.\u001b[39mconfig\u001b[38;5;241m.\u001b[39mis_encoder_decoder:\n",
      "File \u001b[1;32m~\\anaconda3\\envs\\tf\\lib\\site-packages\\transformers\\generation\\utils.py:523\u001b[0m, in \u001b[0;36mGenerationMixin._prepare_encoder_decoder_kwargs_for_generation\u001b[1;34m(self, inputs_tensor, model_kwargs, model_input_name, generation_config)\u001b[0m\n\u001b[0;32m    521\u001b[0m encoder_kwargs[\u001b[38;5;124m\"\u001b[39m\u001b[38;5;124mreturn_dict\u001b[39m\u001b[38;5;124m\"\u001b[39m] \u001b[38;5;241m=\u001b[39m \u001b[38;5;28;01mTrue\u001b[39;00m\n\u001b[0;32m    522\u001b[0m encoder_kwargs[model_input_name] \u001b[38;5;241m=\u001b[39m inputs_tensor\n\u001b[1;32m--> 523\u001b[0m model_kwargs[\u001b[38;5;124m\"\u001b[39m\u001b[38;5;124mencoder_outputs\u001b[39m\u001b[38;5;124m\"\u001b[39m]: ModelOutput \u001b[38;5;241m=\u001b[39m encoder(\u001b[38;5;241m*\u001b[39m\u001b[38;5;241m*\u001b[39mencoder_kwargs)\n\u001b[0;32m    525\u001b[0m \u001b[38;5;28;01mreturn\u001b[39;00m model_kwargs\n",
      "File \u001b[1;32m~\\anaconda3\\envs\\tf\\lib\\site-packages\\torch\\nn\\modules\\module.py:1532\u001b[0m, in \u001b[0;36mModule._wrapped_call_impl\u001b[1;34m(self, *args, **kwargs)\u001b[0m\n\u001b[0;32m   1530\u001b[0m     \u001b[38;5;28;01mreturn\u001b[39;00m \u001b[38;5;28mself\u001b[39m\u001b[38;5;241m.\u001b[39m_compiled_call_impl(\u001b[38;5;241m*\u001b[39margs, \u001b[38;5;241m*\u001b[39m\u001b[38;5;241m*\u001b[39mkwargs)  \u001b[38;5;66;03m# type: ignore[misc]\u001b[39;00m\n\u001b[0;32m   1531\u001b[0m \u001b[38;5;28;01melse\u001b[39;00m:\n\u001b[1;32m-> 1532\u001b[0m     \u001b[38;5;28;01mreturn\u001b[39;00m \u001b[38;5;28mself\u001b[39m\u001b[38;5;241m.\u001b[39m_call_impl(\u001b[38;5;241m*\u001b[39margs, \u001b[38;5;241m*\u001b[39m\u001b[38;5;241m*\u001b[39mkwargs)\n",
      "File \u001b[1;32m~\\anaconda3\\envs\\tf\\lib\\site-packages\\torch\\nn\\modules\\module.py:1541\u001b[0m, in \u001b[0;36mModule._call_impl\u001b[1;34m(self, *args, **kwargs)\u001b[0m\n\u001b[0;32m   1536\u001b[0m \u001b[38;5;66;03m# If we don't have any hooks, we want to skip the rest of the logic in\u001b[39;00m\n\u001b[0;32m   1537\u001b[0m \u001b[38;5;66;03m# this function, and just call forward.\u001b[39;00m\n\u001b[0;32m   1538\u001b[0m \u001b[38;5;28;01mif\u001b[39;00m \u001b[38;5;129;01mnot\u001b[39;00m (\u001b[38;5;28mself\u001b[39m\u001b[38;5;241m.\u001b[39m_backward_hooks \u001b[38;5;129;01mor\u001b[39;00m \u001b[38;5;28mself\u001b[39m\u001b[38;5;241m.\u001b[39m_backward_pre_hooks \u001b[38;5;129;01mor\u001b[39;00m \u001b[38;5;28mself\u001b[39m\u001b[38;5;241m.\u001b[39m_forward_hooks \u001b[38;5;129;01mor\u001b[39;00m \u001b[38;5;28mself\u001b[39m\u001b[38;5;241m.\u001b[39m_forward_pre_hooks\n\u001b[0;32m   1539\u001b[0m         \u001b[38;5;129;01mor\u001b[39;00m _global_backward_pre_hooks \u001b[38;5;129;01mor\u001b[39;00m _global_backward_hooks\n\u001b[0;32m   1540\u001b[0m         \u001b[38;5;129;01mor\u001b[39;00m _global_forward_hooks \u001b[38;5;129;01mor\u001b[39;00m _global_forward_pre_hooks):\n\u001b[1;32m-> 1541\u001b[0m     \u001b[38;5;28;01mreturn\u001b[39;00m forward_call(\u001b[38;5;241m*\u001b[39margs, \u001b[38;5;241m*\u001b[39m\u001b[38;5;241m*\u001b[39mkwargs)\n\u001b[0;32m   1543\u001b[0m \u001b[38;5;28;01mtry\u001b[39;00m:\n\u001b[0;32m   1544\u001b[0m     result \u001b[38;5;241m=\u001b[39m \u001b[38;5;28;01mNone\u001b[39;00m\n",
      "File \u001b[1;32m~\\anaconda3\\envs\\tf\\lib\\site-packages\\transformers\\models\\bart\\modeling_bart.py:1161\u001b[0m, in \u001b[0;36mBartEncoder.forward\u001b[1;34m(self, input_ids, attention_mask, head_mask, inputs_embeds, output_attentions, output_hidden_states, return_dict)\u001b[0m\n\u001b[0;32m   1158\u001b[0m     \u001b[38;5;28;01mraise\u001b[39;00m \u001b[38;5;167;01mValueError\u001b[39;00m(\u001b[38;5;124m\"\u001b[39m\u001b[38;5;124mYou have to specify either input_ids or inputs_embeds\u001b[39m\u001b[38;5;124m\"\u001b[39m)\n\u001b[0;32m   1160\u001b[0m \u001b[38;5;28;01mif\u001b[39;00m inputs_embeds \u001b[38;5;129;01mis\u001b[39;00m \u001b[38;5;28;01mNone\u001b[39;00m:\n\u001b[1;32m-> 1161\u001b[0m     inputs_embeds \u001b[38;5;241m=\u001b[39m \u001b[38;5;28;43mself\u001b[39;49m\u001b[38;5;241;43m.\u001b[39;49m\u001b[43membed_tokens\u001b[49m\u001b[43m(\u001b[49m\u001b[43minput_ids\u001b[49m\u001b[43m)\u001b[49m\n\u001b[0;32m   1163\u001b[0m embed_pos \u001b[38;5;241m=\u001b[39m \u001b[38;5;28mself\u001b[39m\u001b[38;5;241m.\u001b[39membed_positions(\u001b[38;5;28minput\u001b[39m)\n\u001b[0;32m   1164\u001b[0m embed_pos \u001b[38;5;241m=\u001b[39m embed_pos\u001b[38;5;241m.\u001b[39mto(inputs_embeds\u001b[38;5;241m.\u001b[39mdevice)\n",
      "File \u001b[1;32m~\\anaconda3\\envs\\tf\\lib\\site-packages\\torch\\nn\\modules\\module.py:1532\u001b[0m, in \u001b[0;36mModule._wrapped_call_impl\u001b[1;34m(self, *args, **kwargs)\u001b[0m\n\u001b[0;32m   1530\u001b[0m     \u001b[38;5;28;01mreturn\u001b[39;00m \u001b[38;5;28mself\u001b[39m\u001b[38;5;241m.\u001b[39m_compiled_call_impl(\u001b[38;5;241m*\u001b[39margs, \u001b[38;5;241m*\u001b[39m\u001b[38;5;241m*\u001b[39mkwargs)  \u001b[38;5;66;03m# type: ignore[misc]\u001b[39;00m\n\u001b[0;32m   1531\u001b[0m \u001b[38;5;28;01melse\u001b[39;00m:\n\u001b[1;32m-> 1532\u001b[0m     \u001b[38;5;28;01mreturn\u001b[39;00m \u001b[38;5;28mself\u001b[39m\u001b[38;5;241m.\u001b[39m_call_impl(\u001b[38;5;241m*\u001b[39margs, \u001b[38;5;241m*\u001b[39m\u001b[38;5;241m*\u001b[39mkwargs)\n",
      "File \u001b[1;32m~\\anaconda3\\envs\\tf\\lib\\site-packages\\torch\\nn\\modules\\module.py:1541\u001b[0m, in \u001b[0;36mModule._call_impl\u001b[1;34m(self, *args, **kwargs)\u001b[0m\n\u001b[0;32m   1536\u001b[0m \u001b[38;5;66;03m# If we don't have any hooks, we want to skip the rest of the logic in\u001b[39;00m\n\u001b[0;32m   1537\u001b[0m \u001b[38;5;66;03m# this function, and just call forward.\u001b[39;00m\n\u001b[0;32m   1538\u001b[0m \u001b[38;5;28;01mif\u001b[39;00m \u001b[38;5;129;01mnot\u001b[39;00m (\u001b[38;5;28mself\u001b[39m\u001b[38;5;241m.\u001b[39m_backward_hooks \u001b[38;5;129;01mor\u001b[39;00m \u001b[38;5;28mself\u001b[39m\u001b[38;5;241m.\u001b[39m_backward_pre_hooks \u001b[38;5;129;01mor\u001b[39;00m \u001b[38;5;28mself\u001b[39m\u001b[38;5;241m.\u001b[39m_forward_hooks \u001b[38;5;129;01mor\u001b[39;00m \u001b[38;5;28mself\u001b[39m\u001b[38;5;241m.\u001b[39m_forward_pre_hooks\n\u001b[0;32m   1539\u001b[0m         \u001b[38;5;129;01mor\u001b[39;00m _global_backward_pre_hooks \u001b[38;5;129;01mor\u001b[39;00m _global_backward_hooks\n\u001b[0;32m   1540\u001b[0m         \u001b[38;5;129;01mor\u001b[39;00m _global_forward_hooks \u001b[38;5;129;01mor\u001b[39;00m _global_forward_pre_hooks):\n\u001b[1;32m-> 1541\u001b[0m     \u001b[38;5;28;01mreturn\u001b[39;00m forward_call(\u001b[38;5;241m*\u001b[39margs, \u001b[38;5;241m*\u001b[39m\u001b[38;5;241m*\u001b[39mkwargs)\n\u001b[0;32m   1543\u001b[0m \u001b[38;5;28;01mtry\u001b[39;00m:\n\u001b[0;32m   1544\u001b[0m     result \u001b[38;5;241m=\u001b[39m \u001b[38;5;28;01mNone\u001b[39;00m\n",
      "File \u001b[1;32m~\\anaconda3\\envs\\tf\\lib\\site-packages\\transformers\\models\\bart\\modeling_bart.py:142\u001b[0m, in \u001b[0;36mBartScaledWordEmbedding.forward\u001b[1;34m(self, input_ids)\u001b[0m\n\u001b[0;32m    141\u001b[0m \u001b[38;5;28;01mdef\u001b[39;00m \u001b[38;5;21mforward\u001b[39m(\u001b[38;5;28mself\u001b[39m, input_ids: torch\u001b[38;5;241m.\u001b[39mTensor):\n\u001b[1;32m--> 142\u001b[0m     \u001b[38;5;28;01mreturn\u001b[39;00m \u001b[38;5;28;43msuper\u001b[39;49m\u001b[43m(\u001b[49m\u001b[43m)\u001b[49m\u001b[38;5;241;43m.\u001b[39;49m\u001b[43mforward\u001b[49m\u001b[43m(\u001b[49m\u001b[43minput_ids\u001b[49m\u001b[43m)\u001b[49m \u001b[38;5;241m*\u001b[39m \u001b[38;5;28mself\u001b[39m\u001b[38;5;241m.\u001b[39membed_scale\n",
      "File \u001b[1;32m~\\anaconda3\\envs\\tf\\lib\\site-packages\\torch\\nn\\modules\\sparse.py:163\u001b[0m, in \u001b[0;36mEmbedding.forward\u001b[1;34m(self, input)\u001b[0m\n\u001b[0;32m    162\u001b[0m \u001b[38;5;28;01mdef\u001b[39;00m \u001b[38;5;21mforward\u001b[39m(\u001b[38;5;28mself\u001b[39m, \u001b[38;5;28minput\u001b[39m: Tensor) \u001b[38;5;241m-\u001b[39m\u001b[38;5;241m>\u001b[39m Tensor:\n\u001b[1;32m--> 163\u001b[0m     \u001b[38;5;28;01mreturn\u001b[39;00m \u001b[43mF\u001b[49m\u001b[38;5;241;43m.\u001b[39;49m\u001b[43membedding\u001b[49m\u001b[43m(\u001b[49m\n\u001b[0;32m    164\u001b[0m \u001b[43m        \u001b[49m\u001b[38;5;28;43minput\u001b[39;49m\u001b[43m,\u001b[49m\u001b[43m \u001b[49m\u001b[38;5;28;43mself\u001b[39;49m\u001b[38;5;241;43m.\u001b[39;49m\u001b[43mweight\u001b[49m\u001b[43m,\u001b[49m\u001b[43m \u001b[49m\u001b[38;5;28;43mself\u001b[39;49m\u001b[38;5;241;43m.\u001b[39;49m\u001b[43mpadding_idx\u001b[49m\u001b[43m,\u001b[49m\u001b[43m \u001b[49m\u001b[38;5;28;43mself\u001b[39;49m\u001b[38;5;241;43m.\u001b[39;49m\u001b[43mmax_norm\u001b[49m\u001b[43m,\u001b[49m\n\u001b[0;32m    165\u001b[0m \u001b[43m        \u001b[49m\u001b[38;5;28;43mself\u001b[39;49m\u001b[38;5;241;43m.\u001b[39;49m\u001b[43mnorm_type\u001b[49m\u001b[43m,\u001b[49m\u001b[43m \u001b[49m\u001b[38;5;28;43mself\u001b[39;49m\u001b[38;5;241;43m.\u001b[39;49m\u001b[43mscale_grad_by_freq\u001b[49m\u001b[43m,\u001b[49m\u001b[43m \u001b[49m\u001b[38;5;28;43mself\u001b[39;49m\u001b[38;5;241;43m.\u001b[39;49m\u001b[43msparse\u001b[49m\u001b[43m)\u001b[49m\n",
      "File \u001b[1;32m~\\anaconda3\\envs\\tf\\lib\\site-packages\\torch\\nn\\functional.py:2264\u001b[0m, in \u001b[0;36membedding\u001b[1;34m(input, weight, padding_idx, max_norm, norm_type, scale_grad_by_freq, sparse)\u001b[0m\n\u001b[0;32m   2258\u001b[0m     \u001b[38;5;66;03m# Note [embedding_renorm set_grad_enabled]\u001b[39;00m\n\u001b[0;32m   2259\u001b[0m     \u001b[38;5;66;03m# XXX: equivalent to\u001b[39;00m\n\u001b[0;32m   2260\u001b[0m     \u001b[38;5;66;03m# with torch.no_grad():\u001b[39;00m\n\u001b[0;32m   2261\u001b[0m     \u001b[38;5;66;03m#   torch.embedding_renorm_\u001b[39;00m\n\u001b[0;32m   2262\u001b[0m     \u001b[38;5;66;03m# remove once script supports set_grad_enabled\u001b[39;00m\n\u001b[0;32m   2263\u001b[0m     _no_grad_embedding_renorm_(weight, \u001b[38;5;28minput\u001b[39m, max_norm, norm_type)\n\u001b[1;32m-> 2264\u001b[0m \u001b[38;5;28;01mreturn\u001b[39;00m \u001b[43mtorch\u001b[49m\u001b[38;5;241;43m.\u001b[39;49m\u001b[43membedding\u001b[49m\u001b[43m(\u001b[49m\u001b[43mweight\u001b[49m\u001b[43m,\u001b[49m\u001b[43m \u001b[49m\u001b[38;5;28;43minput\u001b[39;49m\u001b[43m,\u001b[49m\u001b[43m \u001b[49m\u001b[43mpadding_idx\u001b[49m\u001b[43m,\u001b[49m\u001b[43m \u001b[49m\u001b[43mscale_grad_by_freq\u001b[49m\u001b[43m,\u001b[49m\u001b[43m \u001b[49m\u001b[43msparse\u001b[49m\u001b[43m)\u001b[49m\n",
      "\u001b[1;31mRuntimeError\u001b[0m: Expected all tensors to be on the same device, but found at least two devices, cpu and cuda:0! (when checking argument for argument index in method wrapper_CUDA__index_select)"
     ]
    }
   ],
   "source": [
    "input_text = \"Sky. is that you\"\n",
    "input_ids = tokenizer.encode(input_text, return_tensors='pt').to(device)\n",
    "output = model.generate(\n",
    "    input_ids, \n",
    "    max_length=512, \n",
    "    num_beams=5, \n",
    "    early_stopping=True, \n",
    "    no_repeat_ngram_size=2,  # Prevent repeating n-grams\n",
    "    num_return_sequences=1,  # Number of sequences to return\n",
    "    temperature=0.7,  # Sampling temperature\n",
    "    top_k=50,  # Top-K sampling\n",
    "    top_p=0.9  # Top-p (nucleus) sampling\n",
    ")\n",
    "response = tokenizer.decode(output[0], skip_special_tokens=True)\n",
    "print(\"Answer:\", response)"
   ]
  },
  {
   "cell_type": "code",
   "execution_count": null,
   "id": "ae8a11ac-6509-4888-885a-e485a8ed4638",
   "metadata": {},
   "outputs": [],
   "source": []
  },
  {
   "cell_type": "code",
   "execution_count": 198,
   "id": "e7b34f73-a64c-42e1-aa24-94d010d2c8fb",
   "metadata": {},
   "outputs": [
    {
     "name": "stdout",
     "output_type": "stream",
     "text": [
      "Response: Working on it\n",
      "Confidence Score: 0.5884990692138672\n"
     ]
    }
   ],
   "source": [
    "import torch\n",
    "from transformers import BartTokenizer, BartForConditionalGeneration\n",
    "\n",
    "model_name = './Saved_Models/QA/fine-tuned-bert-sentiment_{}'.format(\"27-06-2024\")\n",
    "tokenizer = BartTokenizer.from_pretrained(model_name)\n",
    "model = BartForConditionalGeneration.from_pretrained(model_name)\n",
    "data_collator = DataCollatorForSeq2Seq(tokenizer, model=model)\n",
    "\n",
    "def get_token_probabilities(input_text, generated_ids):\n",
    "    inputs = tokenizer(input_text, return_tensors='pt')\n",
    "    outputs = model(**inputs, labels=generated_ids)\n",
    "    logits = outputs.logits\n",
    "\n",
    "    # Get the probabilities of the generated tokens\n",
    "    softmax = torch.nn.functional.softmax(logits, dim=-1)\n",
    "    token_probs = softmax.gather(2, generated_ids.unsqueeze(-1)).squeeze(-1)\n",
    "    return token_probs\n",
    "\n",
    "def generate_response_with_confidence(input_text):\n",
    "    inputs = tokenizer(input_text, return_tensors='pt')\n",
    "    generated_ids = model.generate(**inputs)\n",
    "\n",
    "    response = tokenizer.decode(generated_ids[0], skip_special_tokens=True)\n",
    "    token_probs = get_token_probabilities(input_text, generated_ids)\n",
    "    \n",
    "    # Aggregate the token probabilities to get a confidence score\n",
    "    confidence_score = torch.mean(token_probs).item()\n",
    "    \n",
    "    return response, confidence_score\n",
    "\n",
    "# Example usage\n",
    "user_query = \"agent_1:What is your name\"\n",
    "response, confidence = generate_response_with_confidence(user_query)\n",
    "print(f\"Response: {response}\")\n",
    "print(f\"Confidence Score: {confidence}\")\n"
   ]
  },
  {
   "cell_type": "code",
   "execution_count": 199,
   "id": "938e295e-f49a-4ea7-8276-12bd4c9e7c6e",
   "metadata": {},
   "outputs": [
    {
     "name": "stdout",
     "output_type": "stream",
     "text": [
      "Response: Working on it\n",
      "Confidence: 5.045855400176436e-10\n"
     ]
    }
   ],
   "source": [
    "from transformers import BartTokenizer, BartForConditionalGeneration\n",
    "import torch\n",
    "\n",
    "\n",
    "def generate_response_with_confidence(input_text):\n",
    "    # Encode input text\n",
    "    inputs = tokenizer(input_text, return_tensors=\"pt\")\n",
    "    input_ids = inputs[\"input_ids\"]\n",
    "\n",
    "    # Generate output tokens with their logits\n",
    "    outputs = model.generate(input_ids, return_dict_in_generate=True, output_scores=True)\n",
    "    generated_ids = outputs.sequences\n",
    "    scores = outputs.scores\n",
    "\n",
    "    # Decode generated tokens\n",
    "    response = tokenizer.decode(generated_ids[0], skip_special_tokens=True)\n",
    "\n",
    "    # Calculate confidence score\n",
    "    confidence = calculate_confidence_score(scores, generated_ids)\n",
    "\n",
    "    return response, confidence\n",
    "\n",
    "def calculate_confidence_score(scores, generated_ids):\n",
    "    # Apply softmax to get probabilities\n",
    "    probs = [torch.softmax(score, dim=-1) for score in scores]\n",
    "    \n",
    "    # Extract probabilities of the generated tokens\n",
    "    token_probs = [probs[i][0, token_id].item() for i, token_id in enumerate(generated_ids[0][1:])]\n",
    "\n",
    "    # Calculate the overall confidence as the product of token probabilities\n",
    "    # In practice, we sum the log probabilities to avoid numerical issues\n",
    "    log_probs = [torch.log(torch.tensor(p)) for p in token_probs]\n",
    "    confidence = torch.exp(torch.sum(torch.tensor(log_probs))).item()\n",
    "\n",
    "    return confidence\n",
    "\n",
    "# Example usage\n",
    "input_text = \"agent_1:What is your name\"\n",
    "response, confidence = generate_response_with_confidence(input_text)\n",
    "print(\"Response:\", response)\n",
    "print(\"Confidence:\", confidence)\n"
   ]
  },
  {
   "cell_type": "code",
   "execution_count": 3,
   "id": "5d99351e-3a7d-4153-9ac1-29f4b246f1c4",
   "metadata": {},
   "outputs": [],
   "source": [
    "conversationalDatasetWithDomain = pd.read_csv('../Data/CleanedDatasets/conversationalDatasetWithDomain.csv')"
   ]
  },
  {
   "cell_type": "code",
   "execution_count": 5,
   "id": "f0e4a327-d19b-4b70-bd9c-bc98cef0661e",
   "metadata": {},
   "outputs": [],
   "source": [
    "conversationalDatasetWithDomain = conversationalDatasetWithDomain[[\"agent_1\",\"old_reply\"]]"
   ]
  },
  {
   "cell_type": "code",
   "execution_count": 6,
   "id": "d205c0ea-bd13-4a4e-9a11-08c295c0e6cd",
   "metadata": {},
   "outputs": [],
   "source": [
    "conversationalDatasetWithDomain.rename(columns = {\"old_reply\": \"agent_2\"},inplace = True)"
   ]
  },
  {
   "cell_type": "code",
   "execution_count": 26,
   "id": "debd4070-3995-4727-b60c-763dcd6a03f8",
   "metadata": {},
   "outputs": [],
   "source": [
    "conversationalDatasetWithDomain[\"agent_2\"] = \"{<Content>: \"+conversationalDatasetWithDomain[\"old_reply\"]+\",<Emotion>: \"+ conversationalDatasetWithDomain[\"emotion\"].astype(str)+ \",<Domain>: \"+conversationalDatasetWithDomain[\"domain\"].astype(str)+\"}\""
   ]
  },
  {
   "cell_type": "code",
   "execution_count": 7,
   "id": "9d2c09e7-0680-4cd4-9bb9-f1c5fee4247b",
   "metadata": {},
   "outputs": [
    {
     "data": {
      "text/html": [
       "<div>\n",
       "<style scoped>\n",
       "    .dataframe tbody tr th:only-of-type {\n",
       "        vertical-align: middle;\n",
       "    }\n",
       "\n",
       "    .dataframe tbody tr th {\n",
       "        vertical-align: top;\n",
       "    }\n",
       "\n",
       "    .dataframe thead th {\n",
       "        text-align: right;\n",
       "    }\n",
       "</style>\n",
       "<table border=\"1\" class=\"dataframe\">\n",
       "  <thead>\n",
       "    <tr style=\"text-align: right;\">\n",
       "      <th></th>\n",
       "      <th>agent_1</th>\n",
       "      <th>agent_2</th>\n",
       "    </tr>\n",
       "  </thead>\n",
       "  <tbody>\n",
       "    <tr>\n",
       "      <th>0</th>\n",
       "      <td>agent_1:Hello Sky, What is the best way to sav...</td>\n",
       "      <td>The best way to save money on automobile repa...</td>\n",
       "    </tr>\n",
       "    <tr>\n",
       "      <th>1</th>\n",
       "      <td>agent_1:Hello Sky, What is the best way to sav...</td>\n",
       "      <td>Regular maintenance requires professional pre...</td>\n",
       "    </tr>\n",
       "    <tr>\n",
       "      <th>2</th>\n",
       "      <td>agent_1:Hey Sky, Someone recommended Spin clas...</td>\n",
       "      <td>Spin class typically involves exercising on a...</td>\n",
       "    </tr>\n",
       "    <tr>\n",
       "      <th>3</th>\n",
       "      <td>agent_1:Hey Sky, Someone recommended Spin clas...</td>\n",
       "      <td>Spin classes can help you build lower body st...</td>\n",
       "    </tr>\n",
       "    <tr>\n",
       "      <th>4</th>\n",
       "      <td>agent_1:Hey Sky, Someone recommended Spin clas...</td>\n",
       "      <td>Yes, absolutely! Spins Classes can be a great...</td>\n",
       "    </tr>\n",
       "    <tr>\n",
       "      <th>...</th>\n",
       "      <td>...</td>\n",
       "      <td>...</td>\n",
       "    </tr>\n",
       "    <tr>\n",
       "      <th>2184108</th>\n",
       "      <td>agent_1:Sky,What was the interest rate for the...</td>\n",
       "      <td>Hello Akshay Sir,5.400%</td>\n",
       "    </tr>\n",
       "    <tr>\n",
       "      <th>2184109</th>\n",
       "      <td>agent_1:Hello Sky,What changes were made to th...</td>\n",
       "      <td>Hello Akshay Sir,The Fourth Amendment to the L...</td>\n",
       "    </tr>\n",
       "    <tr>\n",
       "      <th>2184110</th>\n",
       "      <td>agent_1:Hey Sky,What was the increase in inter...</td>\n",
       "      <td>Hello Akshay Sir,The interest expense increase...</td>\n",
       "    </tr>\n",
       "    <tr>\n",
       "      <th>2184111</th>\n",
       "      <td>agent_1:Hello Sky,What are the new leverage an...</td>\n",
       "      <td>Hi Akshay Sir,As of January 2024, the new leve...</td>\n",
       "    </tr>\n",
       "    <tr>\n",
       "      <th>2184112</th>\n",
       "      <td>agent_1:Hey Sky,What was the total amount avai...</td>\n",
       "      <td>Hi Akshay Sir,$2.79 billion</td>\n",
       "    </tr>\n",
       "  </tbody>\n",
       "</table>\n",
       "<p>2184113 rows × 2 columns</p>\n",
       "</div>"
      ],
      "text/plain": [
       "                                                   agent_1  \\\n",
       "0        agent_1:Hello Sky, What is the best way to sav...   \n",
       "1        agent_1:Hello Sky, What is the best way to sav...   \n",
       "2        agent_1:Hey Sky, Someone recommended Spin clas...   \n",
       "3        agent_1:Hey Sky, Someone recommended Spin clas...   \n",
       "4        agent_1:Hey Sky, Someone recommended Spin clas...   \n",
       "...                                                    ...   \n",
       "2184108  agent_1:Sky,What was the interest rate for the...   \n",
       "2184109  agent_1:Hello Sky,What changes were made to th...   \n",
       "2184110  agent_1:Hey Sky,What was the increase in inter...   \n",
       "2184111  agent_1:Hello Sky,What are the new leverage an...   \n",
       "2184112  agent_1:Hey Sky,What was the total amount avai...   \n",
       "\n",
       "                                                   agent_2  \n",
       "0         The best way to save money on automobile repa...  \n",
       "1         Regular maintenance requires professional pre...  \n",
       "2         Spin class typically involves exercising on a...  \n",
       "3         Spin classes can help you build lower body st...  \n",
       "4         Yes, absolutely! Spins Classes can be a great...  \n",
       "...                                                    ...  \n",
       "2184108                            Hello Akshay Sir,5.400%  \n",
       "2184109  Hello Akshay Sir,The Fourth Amendment to the L...  \n",
       "2184110  Hello Akshay Sir,The interest expense increase...  \n",
       "2184111  Hi Akshay Sir,As of January 2024, the new leve...  \n",
       "2184112                        Hi Akshay Sir,$2.79 billion  \n",
       "\n",
       "[2184113 rows x 2 columns]"
      ]
     },
     "execution_count": 7,
     "metadata": {},
     "output_type": "execute_result"
    }
   ],
   "source": [
    "conversationalDatasetWithDomain"
   ]
  },
  {
   "cell_type": "code",
   "execution_count": 28,
   "id": "4b1d45e1-672a-47e2-a72a-7ce3c3603a89",
   "metadata": {},
   "outputs": [],
   "source": [
    "conversationalDatasetWithDomain.to_csv('../Data/CleanedDatasets/conversationalDatasetWithDomain.csv')"
   ]
  },
  {
   "cell_type": "code",
   "execution_count": null,
   "id": "ce4a0f2a-5be9-41e3-914c-d1a8fbfaa23d",
   "metadata": {},
   "outputs": [],
   "source": []
  }
 ],
 "metadata": {
  "kernelspec": {
   "display_name": "Python 3 (ipykernel)",
   "language": "python",
   "name": "python3"
  },
  "language_info": {
   "codemirror_mode": {
    "name": "ipython",
    "version": 3
   },
   "file_extension": ".py",
   "mimetype": "text/x-python",
   "name": "python",
   "nbconvert_exporter": "python",
   "pygments_lexer": "ipython3",
   "version": "3.9.19"
  }
 },
 "nbformat": 4,
 "nbformat_minor": 5
}
