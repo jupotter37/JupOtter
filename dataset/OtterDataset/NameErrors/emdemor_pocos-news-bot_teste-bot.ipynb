{
 "cells": [
  {
   "cell_type": "code",
   "execution_count": 1,
   "id": "105ed3d8-f0d2-4aba-a72d-adcb1d2e16f8",
   "metadata": {},
   "outputs": [],
   "source": [
    "import re\n",
    "from importlib import resources\n",
    "\n",
    "import tiktoken\n",
    "\n",
    "from loguru import logger\n",
    "\n",
    "from langchain.llms import OpenAI\n",
    "from langchain.chains import LLMChain\n",
    "from langchain.prompts import load_prompt\n",
    "from langchain.chat_models import ChatOpenAI\n",
    "from langchain.embeddings import HuggingFaceEmbeddings\n",
    "from langchain.memory import ConversationSummaryBufferMemory, ChatMessageHistory\n",
    "\n",
    "import chromadb\n",
    "from chromadb.config import Settings\n",
    "from chromadb.utils import embedding_functions\n",
    "\n",
    "from bot import NewsBot\n",
    "from bot import BotConfig\n",
    "\n",
    "\n",
    "_config = BotConfig()"
   ]
  },
  {
   "cell_type": "code",
   "execution_count": 2,
   "id": "41894bd7-26e3-482c-941d-f1964b9cc0b7",
   "metadata": {},
   "outputs": [
    {
     "name": "stderr",
     "output_type": "stream",
     "text": [
      "/opt/conda/lib/python3.11/site-packages/tqdm/auto.py:21: TqdmWarning: IProgress not found. Please update jupyter and ipywidgets. See https://ipywidgets.readthedocs.io/en/stable/user_install.html\n",
      "  from .autonotebook import tqdm as notebook_tqdm\n",
      "There was a problem when trying to write in your cache folder (/home/jovyan/.cache/huggingface/hub). You should set the environment variable TRANSFORMERS_CACHE to a writable directory.\n",
      "/opt/conda/lib/python3.11/site-packages/transformers/configuration_utils.py:387: UserWarning: Passing `gradient_checkpointing` to a config initialization is deprecated and will be removed in v5 Transformers. Using `model.gradient_checkpointing_enable()` instead, or if you are using the `Trainer` API, pass `gradient_checkpointing=True` in your `TrainingArguments`.\n",
      "  warnings.warn(\n"
     ]
    }
   ],
   "source": [
    "bot = NewsBot()"
   ]
  },
  {
   "cell_type": "code",
   "execution_count": 4,
   "id": "a34fedd5-d4fc-4144-a7d9-3d257978359a",
   "metadata": {},
   "outputs": [
    {
     "name": "stdout",
     "output_type": "stream",
     "text": [
      "\n",
      "\n",
      "\u001b[1m> Entering new LLMChain chain...\u001b[0m\n",
      "Prompt after formatting:\n",
      "\u001b[32;1m\u001b[1;3mVoce vai receber uma pergunta de follow up do usuario, que pode nao ter muitos detalhes.\n",
      "O usuario quer realizar consultas na base de dados que contem noticias de Pocos de Caldas e regiao.\n",
      "REESCREVA a frase do HUMAN INPUT para que ela possa ser considerada uma pergunta independente.\n",
      "Considere o CHAT HISTORY para manter o contexto.\n",
      "NAO RESPONDA AO USUARIO, APENAS REESCREVA A PERGUNTA.\n",
      "Sua resposta deve conter apenas a pergunta reescrita.\n",
      "\n",
      "## CHAT HISTORY\n",
      "Human: Qual a última notícia de acidentes no bairro Dom Bosco?\n",
      "AI: {\"resposta\": \"nao sei\"}\n",
      "\n",
      "\n",
      "## HUMAN INPUT\n",
      "Qual a última notícia de acidentes no bairro Dom Bosco?\n",
      "\n",
      "IA:\u001b[0m\n"
     ]
    },
    {
     "name": "stderr",
     "output_type": "stream",
     "text": [
      "\u001b[32m2024-01-05 03:35:24.066\u001b[0m | \u001b[34m\u001b[1mDEBUG   \u001b[0m | \u001b[36mbot._newsbot\u001b[0m:\u001b[36mexecute\u001b[0m:\u001b[36m206\u001b[0m - \u001b[34m\u001b[1mPergunta original: Qual a última notícia de acidentes no bairro Dom Bosco?\u001b[0m\n",
      "\u001b[32m2024-01-05 03:35:24.067\u001b[0m | \u001b[34m\u001b[1mDEBUG   \u001b[0m | \u001b[36mbot._newsbot\u001b[0m:\u001b[36mexecute\u001b[0m:\u001b[36m207\u001b[0m - \u001b[34m\u001b[1mPergunta melhorada: Qual a última notícia de acidentes no bairro Dom Bosco?\u001b[0m\n"
     ]
    },
    {
     "name": "stdout",
     "output_type": "stream",
     "text": [
      "\n",
      "\u001b[1m> Finished chain.\u001b[0m\n",
      "\n",
      "\n",
      "\u001b[1m> Entering new LLMChain chain...\u001b[0m\n",
      "Prompt after formatting:\n",
      "\u001b[32;1m\u001b[1;3mAnalise a mensagem do usuario em \"HUMAN INPUT\" e o \"CHAT HISTORY\" e classifique a intencao de acordo com as seguintes categorias:\n",
      "\n",
      "- \"Inicio de conversa\": Saudacoes e cumprimentos do usuario, reconheca frases como \"oi\", \"ola\", \"bom dia\", \"tudo bem:\", etc.\n",
      "- \"Consulta de conteudo\": Perguntas sobre noticias da base de dados, reconheca trechos como \"quais sao as ultimas noticias\", \"o que foi reportado no bairro\", etc.\n",
      "- \"\": QUALQUER PERGUNTA QUE NAO SE ENCAIXE NAS CATEGORIAS ACIMA, ou que nao possa ser respondida com o contexto disponivel na base de dados, a qual contem noticias de Pocos de Caldas e regiao.\n",
      "\n",
      "Escolha apenas uma das opcoes. Sua resposta deve conter APENAS a categoria.\n",
      "\n",
      "## CHAT HISTORY\n",
      "Human: Qual a última notícia de acidentes no bairro Dom Bosco?\n",
      "AI: {\"resposta\": \"nao sei\"}\n",
      "\n",
      "\n",
      "## HUMAN INPUT\n",
      "Qual a última notícia de acidentes no bairro Dom Bosco?\n",
      "\n",
      "IA:\u001b[0m\n"
     ]
    },
    {
     "name": "stderr",
     "output_type": "stream",
     "text": [
      "\u001b[32m2024-01-05 03:35:24.508\u001b[0m | \u001b[34m\u001b[1mDEBUG   \u001b[0m | \u001b[36mbot._newsbot\u001b[0m:\u001b[36mexecute\u001b[0m:\u001b[36m210\u001b[0m - \u001b[34m\u001b[1mIntenção: Consulta de conteúdo\u001b[0m\n"
     ]
    },
    {
     "name": "stdout",
     "output_type": "stream",
     "text": [
      "\n",
      "\u001b[1m> Finished chain.\u001b[0m\n",
      "\n",
      "\n",
      "\u001b[1m> Entering new LLMChain chain...\u001b[0m\n",
      "Prompt after formatting:\n",
      "\u001b[32;1m\u001b[1;3mVoce e um chatbot que responde sobre noticias da cidade de Pocos de Caldas.\n",
      "\n",
      "Sua tarefa e responder a mensagem do usuário em HUMAN INPUT utilizando o CONTEXTO providenciado.\n",
      "Considere o CHAT HISTORY.\n",
      "Nao responda nada que nao esteja no contexto. Se o contexto nao tiver informacoes relevantes a pergunta do usuario, responda \"nao sei\".\n",
      "Nao considere nenhuma noticia que nao seja de Pocos de Caldas.\n",
      "\n",
      "Formate sua resposta como um JSON conforme indicado abaxo:\n",
      "{\n",
      "    \"resposta\": \"sua resposta aqui\",\n",
      "    \"link\": \"link da noticia que voce usou para elaborar sua resposta\",\n",
      "    \"data\": \"data da noticia\",\n",
      "    \"titulo\": \"titulo da noticia\",\n",
      "    \"autor\": \"autor da noticia\"\n",
      "}\n",
      "Nao responda nada alem do JSON.\n",
      "\n",
      "## CONTEXTO\n",
      "<data>2020-03-26</data>\n",
      "<titulo>Poços está com 58 casos suspeitos de Covid-19; confira o último boletim</titulo>\n",
      "<autor>ondapocos</autor>\n",
      "<link>https://ondapocos.com.br/pocos-esta-com-58-casos-suspeitos-de-covid-19-confira-o-ultimo-boletim/</link>\n",
      "<conteudo>O Informe Epidemiológico divulgado pela Secretaria de Estado de Saúde de Minas Gerais, atualizado nesta quinta, 26, mostra que em Poços de Caldas, são 60 notificações. Destes, 58 são casos suspeitos, 1, descartado e 1 confirmado. O Informe mostra ainda, que no Estado de Minas Gerais, são 17.865 notificações, 17.409 casos suspeitos, 153 confirmados e 303 descartados. Até o momento não foi registrado óbito no Estado de Minas, por Coronavírus. Desde esta quarta, 25, a Secretaria Municipal de Saúde divulga o Informe Epidemiológico publicado pelo Estado. A alteração acompanha as mudanças adotadas também pela Secretaria de Estado de Saúde, considerando que o Ministério da Saúde classificou todo o país como transmissão comunitária, além da necessidade de qualificar as informações sobre a circulação do Coronavírus em Minas Gerais, o Boletim Informativo Diário COVID-19 passa a publicar o detalhamento apenas dos casos confirmados. A nomenclatura de casos monitorados não aparece mais no levantamento. O Estado informa número total de notificações e a divisão em casos suspeitos, casos confirmados e casos descartados. A cidade permanece com um caso importado confirmado. Na divulgação feita pela Vigilância Epidemiológica realizada até esta terça, 24, apareciam dois casos descartados: um, sendo o de uma mulher vinda da Lombardia na Itália, e o segundo, como sendo o de um homem que havia passado três semanas a trabalho em São Paulo. Ambos testaram negativo para o Novo Coronavírus – Covid 19. Na divulgação estadual, no entanto, apenas um descarte está computado por enquanto. O andamento da pandemia é extremamente dinâmico e estas orientações podem mudar de acordo com novas condutas recomendadas pelo Ministério da Saúde. A distribuição dos casos suspeitos por município, bem como de casos descartados e notificados, são atualizadas diariamente, através do site www.saude.mg.gov.br/coronavirus – “Distribuição dos casos de COVID-19 em Minas Gerais”.</conteudo>\n",
      "\n",
      "<data>2020-04-01</data>\n",
      "<titulo>Número de notificações de Covid-19 em Poços salta de 69 para 182 em 24 horas</titulo>\n",
      "<autor>ondapocos</autor>\n",
      "<link>https://ondapocos.com.br/numero-de-notificacoes-de-covid-19-em-pocos-salta-de-69-para-182-em-24-horas/</link>\n",
      "<conteudo>O Informe Epidemiológico divulgado pela Secretaria de Estado da Saúde de Minas Gerais, atualizado nesta quarta, 01, mostra que em Poços de Caldas, são 182 notificações do Novo Coronavírus – Covid 19, 113 a mais em comparação com o boletim divulgado ontem (31). Destes, 178 são casos suspeitos, 2, descartados e 2 confirmados. O Informe mostra ainda, que no Estado de Minas Gerais, são 34.799 notificações, 34.018 casos suspeitos, 314 confirmados e 464 descartados. Mais um óbito foi incluído nas estatísticas estaduais, como sendo o de um paciente de 44 anos, de Mariana, que não possuía comorbidade confirmada e faleceu em um hospital da capital. A segunda vítima por Covid-19 em Minas foi um homem de 66 anos, de Belo Horizonte, portador de cardiopatia e diabetes. Já o primeiro óbito por Covid-19 no Estado, foi de uma mulher de 82 anos, que estava em um hospital de Nova Lima, região metropolitana de Belo Horizonte, desde o dia 21 de março, com quadro de febre, tosse e desconforto respiratório. A paciente possuía doença cardiovascular crônica, diabetes e pneumopatia crônica.</conteudo>\n",
      "\n",
      "<data>2020-04-02</data>\n",
      "<titulo>Boletim sobre Covid-19 aponta que Poços continua com 178 casos suspeitos</titulo>\n",
      "<autor>ondapocos</autor>\n",
      "<link>https://ondapocos.com.br/boletim-sobre-covid-19-aponta-que-pocos-continua-com-178-casos-suspeitos/</link>\n",
      "<conteudo>O Informe Epidemiológico divulgado pela Secretaria de Estado da Saúde de Minas Gerais, com detalhamento por municípios, não trouxe atualizações para Poços de Caldas, nesta quinta-feira, 02. Sendo assim, em âmbito local, os números permanecem os mesmos divulgados na quarta, 1: 182 notificações do Novo Coronavírus – Covid 19. Destas, 178 são casos suspeitos, 2, descartados e 2 confirmados. Embora os números locais não tenham sofrido mudanças, no link https://www.saude.mg.gov.br/component/gmg/story/12399-informe-epidemiologico-coronavirus-02-04-2020 , está disponível um outro informe divulgado pela Secretaria de Estado de Saúde, atualizado na tarde desta quinta, 2. O texto traz a informação de 39.084 casos suspeitos em Minas, 370 confirmados, 55 óbitos em investigação e 4 óbitos confirmados. A página traz ainda uma tabela com a distribuição de casos confirmados pelos municípios mineiros, onde Poços permanece com dois casos.</conteudo>\n",
      "\n",
      "<data>2020-05-07</data>\n",
      "<titulo>Atualização do boletim epidemiológico desta quinta, 7 de maio</titulo>\n",
      "<autor>ondapocos</autor>\n",
      "<link>https://ondapocos.com.br/atualizacao-do-boletim-epidemiologico-desta-quinta-7-de-maio/</link>\n",
      "<conteudo>Segundo Boletim atualizado pela Secretaria Municipal de Saúde, nesta quinta, 07 de maio, são 662 notificações em Poços. Destas, 408 se referem a investigações concluídas, sendo 38 descartados por exame laboratorial e 370 com alta por critério clínico. São 228 casos suspeitos em investigação, dos quais: 225 seguem em isolamento domiciliar, casos leves sem indicação de realizar exame, conforme o Ministério da Saúde. Um paciente está hospitalizado e dois óbitos seguem em investigação. Nesta quinta, são 26 casos positivos em Poços: 19 pacientes são considerados recuperados, quatro seguem em isolamento domiciliar, uma pessoa está hospitalizada e dois pacientes vieram a óbito, conforme já noticiado anteriormente. A mudança é a nomenclatura recuperados que substitui curados, conforme vem sendo utilizado também pelo Ministério da Saúde, nesta atualização constante que faz parte do quadro de uma pandemia. Informe Estadual Segundo o Informe Epidemiológico divulgado pela Secretaria de Estado da Saúde de Minas Gerais, apresentado no site www.saude.mg.gov.br/coronavirus – “Distribuição dos casos de COVID-19 em Minas Gerais”, nesta quinta, 7, no Estado são 105.744 notificações; 94.124 casos suspeitos; 2.770 confirmados; 8.850 descartados e 106 óbitos por Covid-19 confirmados no Estado.  </conteudo>\n",
      "\n",
      "<data>2020-05-11</data>\n",
      "<titulo>Atualização do boletim epidemiológico deste domingo, 10 de maio</titulo>\n",
      "<autor>ondapocos</autor>\n",
      "<link>https://ondapocos.com.br/atualizacao-do-boletim-epidemiologico-deste-domingo-10-de-maio/</link>\n",
      "<conteudo>Segundo Boletim atualizado pela Secretaria Municipal de Saúde, neste domingo, 10 de maio, são 702 notificações em Poços. Destas, 430 se referem a investigações concluídas, sendo 38 descartadas por exame laboratorial e 392 com alta por critério clínico. São 245 casos suspeitos em investigação, dos quais: 241 seguem em isolamento domiciliar, casos leves sem indicação de realizar exame, conforme o Ministério da Saúde. Três pacientes estão hospitalizados na Unidade de Terapia Intensiva e um óbito é investigado. Neste domingo são 27 casos positivos em Poços: 21 pacientes são considerados recuperados, dois seguem em isolamento domiciliar, uma pessoa está hospitalizada e três pacientes vieram a óbito. Informe Estadual Segundo o Informe Epidemiológico divulgado pela Secretaria de Estado da Saúde de Minas Gerais, apresentado no site www.saude.mg.gov.br/coronavirus – “Distribuição dos casos de COVID-19 em Minas Gerais”, neste domingo,10, no Estado são 112.830 notificações; 99.958 casos suspeitos; 3.237 confirmados; 9.635 descartados e 119 óbitos por Covid-19 confirmados no Estado.</conteudo>\n",
      "\n",
      "<data>2020-05-12</data>\n",
      "<titulo>Atualização do boletim epidemiológico desta terça, 12 de maio</titulo>\n",
      "<autor>ondapocos</autor>\n",
      "<link>https://ondapocos.com.br/atualizacao-do-boletim-epidemiologico-desta-terca-12-de-maio/</link>\n",
      "<conteudo>Segundo Boletim atualizado pela Secretaria Municipal de Saúde, nesta terça, 12 de maio, são 708 notificações em Poços. Destas, 433 se referem a investigações concluídas, sendo 40 descartados por exame laboratorial e 393 com alta por critério clínico. São 248 casos suspeitos em investigação, dos quais: 243 seguem em isolamento domiciliar, casos leves sem indicação de realizar exame, conforme o Ministério da Saúde. Dois pacientes seguem hospitalizados em ala e três pacientes estão em Unidade de Terapia Intensiva. Nesta terça, são 27 casos positivos em Poços: 21 pacientes são considerados recuperados, três seguem em isolamento domiciliar, e destes 27 casos positivos, três pacientes vieram a óbito. Óbitos no Município No sábado, 9, a Secretaria Estadual de Saúde incluiu nos dados de Minas, o primeiro óbito registrado em Poços, no dia 13 de abril e que permanecia em investigação. O homem de 74 anos apresentou sintomas gripais após voltar de um cruzeiro pelo Caribe. O exame analisado pela Funed, a Fundação Ezequiel Dias, em Belo Horizonte, testou negativo para Covid-19. No entanto, um teste rápido feito pela Secretaria Municipal de Saúde de Poços, teve resultado positivo para Covid – 19. O caso foi informado à Secretaria Estadual de Saúde de Minas Gerais que até então o classificava como um óbito em investigação. Neste sábado, 9, ele passou a vigorar nas estatísticas de óbitos confirmados por Covid-19 em Minas Gerais. Na época do falecimento, tanto o serviço funerário quanto a família foram orientados a proceder com o velório e o sepultamento, adotando os cuidados recomendados para a Covid – 19. Os outros dois óbitos registrados em Poços por Covid 19, se referem a: um homem de 75 anos que apresentou os primeiros sintomas após retornar de uma viagem feita ao Chile, em março; e ao homem de 67 anos que apresentou sintomas gripais: febre, tosse, coriza e dificuldade para respirar, após chegar de uma viagem ao Caribe, também no mês de março. Informe Estadual Segundo o Informe Epidemiológico divulgado pela Secretaria de Estado da Saúde de Minas Gerais, apresentado no site www.saude.mg.gov.br/coronavirus – “Distribuição dos casos de COVID-19 em Minas Gerais”, nesta terça, 12, no Estado são 114.621 notificações; 101.496 casos suspeitos; 3.435 confirmados; 9.690 descartados e 127 óbitos por Covid-19 confirmados no Estado.  </conteudo>\n",
      "\n",
      "<data>2020-08-20</data>\n",
      "<titulo>Homem de 58 anos morre vítima de Covid-19 em Poços de Caldas</titulo>\n",
      "<autor>ondapocos</autor>\n",
      "<link>https://ondapocos.com.br/homem-de-58-anos-morre-vitima-de-covid-19-em-pocos-de-caldas/</link>\n",
      "<conteudo>A atualização do Boletim Epidemiológico da Secretaria de Saúde de Poços de Caldas traz o registro de mais um óbito nesta quinta-feira (20). O paciente de 58 anos permaneceu 15 dias internado em UTI de hospital da Rede SUS. Nesta quinta, são 633 casos positivos em Poços: destes, 405 pacientes são considerados recuperados, 199 seguem em isolamento domiciliar, sete estão em Unidade de Terapia Intensiva e três em ala ou leitos clínicos. Em relação a última atualização, realizada na quarta, 19, oito novos casos foram incluídos no Boletim desta quinta, 19. O Boletim tem um óbito em investigação: a mulher de 81 anos, possuía comorbidade e estava internada em UTI de hospital da Rede SUS. A Secretaria Municipal de Saúde aguarda o resultado dos exames, para confirmação do diagnóstico. O Informe registra oito óbitos de não residentes. Informe Estadual Segundo o Informe Epidemiológico divulgado pela Secretaria de Estado da Saúde de Minas Gerais, 185.062 são casos confirmados. E destes, 29.128 estão em acompanhamento; 151.391 recuperados e 4.543 são óbitos por Covid-19 registrados em Minas.  </conteudo>\n",
      "\n",
      "\n",
      "## CHAT HISTORY\n",
      "Human: Qual a última notícia de acidentes no bairro Dom Bosco?\n",
      "AI: {\"resposta\": \"nao sei\"}\n",
      "\n",
      "\n",
      "## HUMAN INPUT\n",
      "Qual a última notícia de acidentes no bairro Dom Bosco?\n",
      "\n",
      "IA:\u001b[0m\n"
     ]
    },
    {
     "name": "stderr",
     "output_type": "stream",
     "text": [
      "\u001b[32m2024-01-05 03:35:25.608\u001b[0m | \u001b[1mINFO    \u001b[0m | \u001b[36mbot._newsbot\u001b[0m:\u001b[36mexecute\u001b[0m:\u001b[36m228\u001b[0m - \u001b[1m>>> Resposta: resposta: nao sei\n",
      "\n",
      "link_noticia: \n",
      "\n",
      "data_noticia: \n",
      "\n",
      "titulo_noticia: \n",
      "\n",
      "autor_noticia: \n",
      "\n",
      "\u001b[0m\n"
     ]
    },
    {
     "name": "stdout",
     "output_type": "stream",
     "text": [
      "\n",
      "\u001b[1m> Finished chain.\u001b[0m\n"
     ]
    },
    {
     "data": {
      "text/plain": [
       "{'response': 'resposta: nao sei\\n\\nlink_noticia: \\n\\ndata_noticia: \\n\\ntitulo_noticia: \\n\\nautor_noticia: \\n\\n',\n",
       " 'execution_id': 'e3d125de73fc49d9852e911668d82b12'}"
      ]
     },
     "execution_count": 4,
     "metadata": {},
     "output_type": "execute_result"
    }
   ],
   "source": [
    "bot.execute(\"Qual a última notícia de acidentes no bairro Dom Bosco?\")"
   ]
  },
  {
   "cell_type": "markdown",
   "id": "7dcbf5fb-1c44-4e5b-b930-0c4046e2e092",
   "metadata": {},
   "source": [
    "# Functions"
   ]
  },
  {
   "cell_type": "code",
   "execution_count": 5,
   "id": "7b96ac80-d59e-43d1-9fb7-e39f288932c7",
   "metadata": {},
   "outputs": [],
   "source": [
    "def get_prompt(key):\n",
    "\n",
    "    logger.debug(\"Estou em 'get_prompt'\")\n",
    "    filepath = str(\n",
    "        resources.files(\"bot.prompts\").joinpath(f\"{key}.json\")\n",
    "    )\n",
    "\n",
    "    return load_prompt(filepath)\n",
    "\n",
    "def self_get_chroma_collection():\n",
    "\n",
    "    logger.debug(\"Estou em 'self_get_chroma_collection'\")\n",
    "\n",
    "    host_name = _config.VECTORDATABASE_HOSTNAME\n",
    "    port = _config.VECTORDATABASE_PORT\n",
    "    collection_name = _config.EMBEDDING_COLLECTION\n",
    "    persist_directory = _config.VECTORDATABASE_PERSIST_DIRECTORY\n",
    "    \n",
    "    settings = Settings(allow_reset=True, anonymized_telemetry=True, persist_directory=persist_directory)\n",
    "    chroma_client = chromadb.HttpClient(host=host_name, port = port, settings=settings)\n",
    "    \n",
    "    return chroma_client.get_collection(collection_name, embedding_function=self_embedder)\n",
    "\n",
    "\n",
    "def self_format_history_message(messages, human_prefix: str = 'Human', ai_prefix: str = 'AI'):\n",
    "\n",
    "    logger.debug(\"Estou em 'self_format_history_message'\")\n",
    "    for message in messages:\n",
    "        if isinstance(message, langchain_core.messages.human.HumanMessage):\n",
    "            yield f\"{human_prefix}: {message.content}\\n\"\n",
    "        \n",
    "        elif isinstance(message, langchain_core.messages.ai.AIMessage):\n",
    "            yield f\"{ai_prefix}: {message.content}\\n\"\n",
    "\n",
    "def self_get_standalone_question(message: str, *args, **kwargs) -> str:\n",
    "\n",
    "    logger.debug(\"Estou em 'self_get_standalone_question'\")\n",
    "\n",
    "    self_chain_standalone_question = LLMChain(\n",
    "        llm=self_llm, prompt=self_prompt_standalone_question, verbose=self_verbose_chains\n",
    "    )\n",
    "\n",
    "    return self_chain_standalone_question.predict(history=kwargs[\"history\"], human_input=message)\n",
    "\n",
    "def self_get_user_intention(message: str, *args, **kwargs) -> str:\n",
    "\n",
    "    logger.debug(\"Estou em 'self_get_user_intention'\")\n",
    "\n",
    "    self_chain_intention = LLMChain(\n",
    "        llm=self_llm, prompt=self_prompt_intention, verbose=self_verbose_chains\n",
    "    )\n",
    "    intention = self_chain_intention.predict(history=kwargs[\"history\"], human_input=message)\n",
    "\n",
    "    return intention.lower().replace(\"ú\", \"u\").replace(\"í\", \"i\")\n",
    "\n",
    "def extract_dict_from_string(string):\n",
    "\n",
    "    logger.debug(\"Estou em 'extract_dict_from_string'\")\n",
    "\n",
    "    match = re.search(r\"{([^}]+)}\", string)\n",
    "    if match is None:\n",
    "        return dict()\n",
    "\n",
    "    json_content = match.group(1)\n",
    "\n",
    "    try:\n",
    "        json_dict = json.loads(\"{\" + json_content + \"}\")\n",
    "        return json_dict\n",
    "    except json.JSONDecodeError as err:\n",
    "        logger.error(str(err))\n",
    "        return dict()\n",
    "\n",
    "def self_predict(collection, query, n_neighbors: int = 1000, n_results: int = 10, **kwargs):\n",
    "\n",
    "    logger.debug(\"Estou em 'self_predict'\")\n",
    "\n",
    "    def f(key, value, k):\n",
    "        def limit(x):\n",
    "            if isinstance(x, list):\n",
    "                return x[:k]\n",
    "            return x\n",
    "        if isinstance(value, list):\n",
    "            return (key, [limit(x) for x in value])\n",
    "        return (key, None)\n",
    "    \n",
    "    \n",
    "    res = collection.query(\n",
    "        query_texts=query,\n",
    "        n_results=n_neighbors,\n",
    "        **kwargs\n",
    "        # where={\"metadata_field\": \"is_equal_to_this\"},\n",
    "        # where_document={\"$contains\":\"search_string\"}\n",
    "    )\n",
    "  \n",
    "    return  dict([f(key, value, n_results)  for key, value in res.items()])\n",
    "\n",
    "def self_count_tokens(context: str) -> int:\n",
    "\n",
    "    logger.debug(\"Estou em 'self_count_tokens'\")\n",
    "    encoding = tiktoken.encoding_for_model(_config.LLM_MODEL_NAME)\n",
    "    num_tokens = len(encoding.encode(context))\n",
    "    \n",
    "    return num_tokens\n",
    "\n",
    "def self__set_query_content(documents, metadata):\n",
    "\n",
    "    logger.debug(\"Estou em 'self__set_query_content'\")\n",
    "    context_list = [self__set_local_context(content, meta) for content, meta in zip(documents, metadata)]\n",
    "\n",
    "    tokens = 4000\n",
    "    max_tokens = 3600\n",
    "    while tokens > max_tokens:\n",
    "        tokens = self_count_tokens(\"\\n\".join(context_list))\n",
    "        if tokens >= max_tokens:\n",
    "            context_list.pop()\n",
    "\n",
    "def self__set_local_context(content, meta):\n",
    "\n",
    "    logger.debug(\"Estou em 'self__set_local_context'\")\n",
    "    return (\n",
    "        f\"<data>{meta['date']}</data>\\n\"\n",
    "        f\"<titulo>{meta['title']}</titulo>\\n\"\n",
    "        f\"<autor>{meta['author']}</autor>\\n\"\n",
    "        f\"<link>{meta['link']}</link>\\n\"\n",
    "        f\"<conteudo>{content}</conteudo>\\n\"\n",
    "    )\n",
    "\n",
    "def self_get_content(query, n_results=10, n_neighbors=1000):\n",
    "\n",
    "    logger.debug(\"Estou em 'self_get_content'\")\n",
    "\n",
    "    result = self_predict(\n",
    "        self_collection,\n",
    "        query,\n",
    "        n_results=n_results,\n",
    "        n_neighbors=n_neighbors,\n",
    "    )\n",
    "\n",
    "    return self__set_query_content(result['documents'][0], result['metadatas'][0])\n",
    "\n",
    "def self_handler_start_conversation(message: str, *args, **kwargs) -> str:\n",
    "\n",
    "    logger.debug(\"Estou em 'self_handler_start_conversation'\")\n",
    "\n",
    "    self_chain_greeting = LLMChain(\n",
    "        llm=self_llm_chat, prompt=self_prompt_greeting, verbose=self_verbose_chains, memory=kwargs[\"memory\"]\n",
    "    )\n",
    "\n",
    "    return self_chain_greeting.predict(history=kwargs[\"history\"], human_input=message)\n",
    "\n",
    "def self_handler_query(message: str, *args, **kwargs) -> str:\n",
    "\n",
    "    logger.debug(\"Estou em 'self_handler_query'\")\n",
    "\n",
    "    self_chain_query = LLMChain(\n",
    "        llm=self_llm_chat, prompt=self_prompt_query, verbose=self_verbose_chains, memory=kwargs[\"memory\"]\n",
    "    )\n",
    "\n",
    "    context = self_get_content(query=message)\n",
    "    logger.debug(f\"context = {context}\")\n",
    "\n",
    "    for i in range(3):\n",
    "        response = self_chain_query.predict(history=kwargs[\"history\"], human_input=message, context=context)\n",
    "        resp_dict = extract_dict_from_string(response)\n",
    "        if len(resp_dict) > 0:\n",
    "            return (\n",
    "                f'resposta: {resp_dict[\"resposta\"]}\\n\\n'\n",
    "                f'link_noticia: {resp_dict[\"link\"]}\\n\\n'\n",
    "                f'data_noticia: {resp_dict[\"data\"]}\\n\\n'\n",
    "                f'titulo_noticia: {resp_dict[\"titulo\"]}\\n\\n'\n",
    "                f'autor_noticia: {resp_dict[\"autor\"]}\\n\\n'\n",
    "            )\n",
    "        continue\n",
    "        \n",
    "    return response\n",
    "    \n",
    "\n",
    "def self_handler_fallback(*args, **kwargs) -> str:\n",
    "\n",
    "    logger.debug(\"Estou em 'self_handler_fallback'\")\n",
    "\n",
    "    return (\n",
    "        \"Desculpe, mas não posso responder a essa pergunta. \"\n",
    "        \"Algo em que possa ajudar sobre notícias de Poços de Caldas e região?\"\n",
    "    )\n"
   ]
  },
  {
   "cell_type": "markdown",
   "id": "8e25b9e4-d4dd-4a30-bbb4-ed050cf3bf27",
   "metadata": {},
   "source": [
    "# Atributes"
   ]
  },
  {
   "cell_type": "code",
   "execution_count": 6,
   "id": "5693bdf3-4a92-4577-ae67-cd920e80461d",
   "metadata": {},
   "outputs": [
    {
     "name": "stderr",
     "output_type": "stream",
     "text": [
      "/opt/conda/lib/python3.11/site-packages/transformers/configuration_utils.py:387: UserWarning: Passing `gradient_checkpointing` to a config initialization is deprecated and will be removed in v5 Transformers. Using `model.gradient_checkpointing_enable()` instead, or if you are using the `Trainer` API, pass `gradient_checkpointing=True` in your `TrainingArguments`.\n",
      "  warnings.warn(\n",
      "\u001b[32m2024-01-05 03:36:36.902\u001b[0m | \u001b[34m\u001b[1mDEBUG   \u001b[0m | \u001b[36m__main__\u001b[0m:\u001b[36mget_prompt\u001b[0m:\u001b[36m3\u001b[0m - \u001b[34m\u001b[1mEstou em 'get_prompt'\u001b[0m\n",
      "\u001b[32m2024-01-05 03:36:36.903\u001b[0m | \u001b[34m\u001b[1mDEBUG   \u001b[0m | \u001b[36m__main__\u001b[0m:\u001b[36mget_prompt\u001b[0m:\u001b[36m3\u001b[0m - \u001b[34m\u001b[1mEstou em 'get_prompt'\u001b[0m\n",
      "\u001b[32m2024-01-05 03:36:36.904\u001b[0m | \u001b[34m\u001b[1mDEBUG   \u001b[0m | \u001b[36m__main__\u001b[0m:\u001b[36mget_prompt\u001b[0m:\u001b[36m3\u001b[0m - \u001b[34m\u001b[1mEstou em 'get_prompt'\u001b[0m\n",
      "\u001b[32m2024-01-05 03:36:36.905\u001b[0m | \u001b[34m\u001b[1mDEBUG   \u001b[0m | \u001b[36m__main__\u001b[0m:\u001b[36mget_prompt\u001b[0m:\u001b[36m3\u001b[0m - \u001b[34m\u001b[1mEstou em 'get_prompt'\u001b[0m\n",
      "\u001b[32m2024-01-05 03:36:36.905\u001b[0m | \u001b[34m\u001b[1mDEBUG   \u001b[0m | \u001b[36m__main__\u001b[0m:\u001b[36mself_get_chroma_collection\u001b[0m:\u001b[36m12\u001b[0m - \u001b[34m\u001b[1mEstou em 'self_get_chroma_collection'\u001b[0m\n"
     ]
    }
   ],
   "source": [
    "self_llm = ChatOpenAI(model_name=_config.LLM_MODEL_NAME, temperature=0)\n",
    "self_llm_chat = ChatOpenAI(model_name=_config.LLM_MODEL_NAME, temperature=0, model_kwargs={\"stop\": [\"HUMAN_INPUT\", \"IA:\"]})\n",
    "\n",
    "\n",
    "self_embeddings = HuggingFaceEmbeddings(model_name=_config.HUGGINGFACE_EMBEDDING_MODEL_NAME)\n",
    "self_embedder = embedding_functions.SentenceTransformerEmbeddingFunction(model_name=_config.HUGGINGFACE_EMBEDDING_MODEL_NAME)\n",
    "\n",
    "self_verbose_chains = True\n",
    "\n",
    "# Load utilitary prompts and chains\n",
    "self_prompt_intention = get_prompt(\"prompt_user_intention\")\n",
    "self_prompt_standalone_question = get_prompt(\"prompt_standalone_question\")\n",
    "\n",
    "# Load chat prompts and chains\n",
    "self_prompt_greeting = get_prompt(\"prompt_greeting\")\n",
    "self_prompt_query = get_prompt(\"prompt_query\")\n",
    "\n",
    "self_collection = self_get_chroma_collection()\n",
    "\n",
    "self_memory = ConversationSummaryBufferMemory(\n",
    "    llm=OpenAI(temperature=0),\n",
    "    chat_history=ChatMessageHistory(),\n",
    "    return_messages=True,\n",
    "    memory_key=\"chat_history\",\n",
    "    input_key=\"human_input\",\n",
    "    human_prefix=\"Human\",\n",
    "    ai_prefix=\"AI\"\n",
    ")"
   ]
  },
  {
   "cell_type": "code",
   "execution_count": 46,
   "id": "4a64d995-855a-4c64-a396-60cce17b9e6b",
   "metadata": {},
   "outputs": [
    {
     "data": {
      "text/plain": [
       "Collection(name=clips-mfaq)"
      ]
     },
     "execution_count": 46,
     "metadata": {},
     "output_type": "execute_result"
    }
   ],
   "source": [
    "self_collection"
   ]
  },
  {
   "cell_type": "code",
   "execution_count": 57,
   "id": "3bfb3bb1-e787-44e4-987e-58b3b260c4ee",
   "metadata": {},
   "outputs": [
    {
     "data": {
      "text/plain": [
       "{'ids': [['0d362403-caef-52a3-a5dd-f64ed58a76da',\n",
       "   'd0e419c4-5490-568c-9624-61362bef5a06',\n",
       "   'd3675c71-babe-540a-88aa-07f708544154',\n",
       "   '9661e4cd-1986-5301-9a62-5ea85a0d5377',\n",
       "   'daa15c4a-d9d5-5f64-b10d-145a22d5f6f6',\n",
       "   'acc57c9a-eb90-503a-a46e-b812c8848f10',\n",
       "   '477ce73a-a0c0-5324-91ca-c70e6df4bcce',\n",
       "   '8a67bb4e-0408-5965-8985-5ebbb8163d55',\n",
       "   '328bf19c-c26b-5065-be9a-a146d37b657d',\n",
       "   'd99c27a6-19a2-52b3-bc98-b2166b52cee4']],\n",
       " 'distances': [[20.5799617767334,\n",
       "   22.137451171875,\n",
       "   22.225343704223633,\n",
       "   22.648582458496094,\n",
       "   23.165489196777344,\n",
       "   23.26180076599121,\n",
       "   23.37055778503418,\n",
       "   23.548870086669922,\n",
       "   23.684303283691406,\n",
       "   23.68735122680664]],\n",
       " 'embeddings': None,\n",
       " 'metadatas': [[{'author': 'ondapocos',\n",
       "    'categories': 'Notícias',\n",
       "    'date': '2020-09-21',\n",
       "    'link': 'https://ondapocos.com.br/flores-de-jacaranda-mimoso-em-vias-e-parques-de-pocos-de-caldas-encantam/',\n",
       "    'snippet': 'Por ruas e parques de Poços de Caldas, as flores de Jacarandá-mimoso estão dando um colorido especial. Durante o inverno as folhas dão lugar às...',\n",
       "    'thumbnail_alt': 'Flores de Jacarandá-mimoso em vias e parques de Poços de Caldas encantam',\n",
       "    'thumbnail_link': 'https://i0.wp.com/ondapocos.com.br/wp-content/uploads/2020/09/ok.jpg?resize=350%2C250&ssl=1',\n",
       "    'title': 'Flores de Jacarandá-mimoso em vias e parques de Poços de Caldas encantam'},\n",
       "   {'author': 'ondapocos',\n",
       "    'categories': 'Geral|Notícias',\n",
       "    'date': '2021-07-05',\n",
       "    'link': 'https://ondapocos.com.br/sao-joao-da-boa-vista-jornalistas-lancam-livro-fotografico-os-meninos-e-os-siris/',\n",
       "    'snippet': 'Situada no ponto mais ao Sul do estado de São Paulo, bem na divisa com o paranaense, fica a Ilha do Cardoso, uma das regiões...',\n",
       "    'thumbnail_alt': 'SÃO JOÃO DA BOA VISTA | Jornalistas lançam livro fotográfico “Os Meninos e os Siris”',\n",
       "    'thumbnail_link': 'https://i0.wp.com/ondapocos.com.br/wp-content/uploads/2021/07/WhatsApp-Image-2021-07-04-at-14.36.32.jpeg?resize=350%2C250&ssl=1',\n",
       "    'title': 'SÃO JOÃO DA BOA VISTA | Jornalistas lançam livro fotográfico “Os Meninos e os Siris”'},\n",
       "   {'author': 'Matheus Luis',\n",
       "    'categories': 'Destaques|Notícias',\n",
       "    'date': '2021-08-20',\n",
       "    'link': 'https://ondapocos.com.br/pocos-de-caldas-o-espetaculo-da-florada-do-ipe-amarelo-ja-esta-pela-cidade/',\n",
       "    'snippet': 'É no fim do inverno, no período mais seco do ano, que as flores dos ipês desabrocham em várias regiões do país. Em Poços de...',\n",
       "    'thumbnail_alt': 'POÇOS DE CALDAS | O espetáculo da florada do Ipê amarelo já está pela cidade',\n",
       "    'thumbnail_link': 'https://i1.wp.com/ondapocos.com.br/wp-content/uploads/2021/08/20210820_151414.jpg?resize=350%2C250&ssl=1',\n",
       "    'title': 'POÇOS DE CALDAS | O espetáculo da florada do Ipê amarelo já está pela cidade'},\n",
       "   {'author': 'Matheus Luis',\n",
       "    'categories': 'Destaques|Notícias',\n",
       "    'date': '2022-06-20',\n",
       "    'link': 'https://ondapocos.com.br/pista-de-patinacao-de-gelo-e-atracao-de-inverno-em-pocos-de-caldas/',\n",
       "    'snippet': 'Uma atração congelante e divertida, que agrada crianças e adultos, chegou na cidade e fica até julho no estacionamento do Parque José Affonso Junqueira, ao...',\n",
       "    'thumbnail_alt': 'Pista de patinação de gelo é atração de inverno em Poços de Caldas',\n",
       "    'thumbnail_link': 'https://i2.wp.com/ondapocos.com.br/wp-content/uploads/2022/06/WhatsApp-Image-2022-06-20-at-14.45.59-768x432-1.jpeg?resize=350%2C250&ssl=1',\n",
       "    'title': 'Pista de patinação de gelo é atração de inverno em Poços de Caldas'},\n",
       "   {'author': 'Aline Rodrigues',\n",
       "    'categories': 'Geral|Notícias',\n",
       "    'date': '2022-06-08',\n",
       "    'link': 'https://ondapocos.com.br/abaixo-assinado-pede-criacao-de-mais-um-parque-municipal-em-pocos-de-caldas/',\n",
       "    'snippet': 'Um abaixo-assinado criado pelo designer Alvaro Danza, visa criação do Parque Municipal da Pedreira localizado à Avenida Montevidéo, 803, no bairro Jardim Nova Europa, em...',\n",
       "    'thumbnail_alt': 'Abaixo-assinado pede criação de mais um Parque Municipal em Poços de Caldas',\n",
       "    'thumbnail_link': 'https://i0.wp.com/ondapocos.com.br/wp-content/uploads/2022/06/285528050_10229088199294355_3270918030045624887_n.jpg?resize=350%2C250&ssl=1',\n",
       "    'title': 'Abaixo-assinado pede criação de mais um Parque Municipal em Poços de Caldas'},\n",
       "   {'author': 'Aline Rodrigues',\n",
       "    'categories': 'Geral|Notícias',\n",
       "    'date': '2023-02-22',\n",
       "    'link': 'https://ondapocos.com.br/infectologista-alerta-sobre-os-riscos-que-o-mosquito-aedes-aegypti-pode-trazer-a-saude/',\n",
       "    'snippet': 'O verão é uma das estações preferidas dos brasileiros, mas requer cuidado redobrado. Isto porque é nesta época que as chuvas aumentam e, consequentemente, os...',\n",
       "    'thumbnail_alt': 'Infectologista alerta sobre os riscos que o mosquito Aedes Aegypti pode trazer à saúde',\n",
       "    'thumbnail_link': 'https://i2.wp.com/ondapocos.com.br/wp-content/uploads/2023/02/WhatsApp-Image-2023-02-22-at-13.06.36.jpeg?resize=350%2C250&ssl=1',\n",
       "    'title': 'Infectologista alerta sobre os riscos que o mosquito Aedes Aegypti pode trazer à saúde'},\n",
       "   {'author': 'ondapocos',\n",
       "    'categories': 'Geral|Notícias',\n",
       "    'date': '2019-12-04',\n",
       "    'link': 'https://ondapocos.com.br/avenida-joao-pinheiro-tera-novo-projeto-paisagistico/',\n",
       "    'snippet': 'Começou, nesta quarta-feira ,4, o plantio de espécies do novo projeto paisagístico da avenida João Pinheiro em Poços de Caldas. Na primeira remessa, para iniciar...',\n",
       "    'thumbnail_alt': 'Avenida João Pinheiro terá novo projeto paisagístico',\n",
       "    'thumbnail_link': 'https://i0.wp.com/ondapocos.com.br/wp-content/uploads/2019/12/projeto-paisagistico-JP-pista-de-caminhada-ponte.jpg?resize=350%2C250&ssl=1',\n",
       "    'title': 'Avenida João Pinheiro terá novo projeto paisagístico'},\n",
       "   {'author': 'ondapocos',\n",
       "    'categories': 'Notícias',\n",
       "    'date': '2020-10-05',\n",
       "    'link': 'https://ondapocos.com.br/outubro-rosa-reforca-importancia-da-prevencao-tambem-durante-a-pandemia/',\n",
       "    'snippet': 'Desde o início do mês, a estátua do Cristo Redentor no alto da Serra de São Domingos,\\xa0assim como o pergolado do Parque José Affonso Junqueira...',\n",
       "    'thumbnail_alt': 'Outubro Rosa reforça importância da prevenção também durante a pandemia',\n",
       "    'thumbnail_link': 'https://i2.wp.com/ondapocos.com.br/wp-content/uploads/2020/10/CRISTO-ROSA-1024x498-1.jpg?resize=350%2C250&ssl=1',\n",
       "    'title': 'Outubro Rosa reforça importância da prevenção também durante a pandemia'},\n",
       "   {'author': 'ondapocos',\n",
       "    'categories': 'Geral|Notícias',\n",
       "    'date': '2020-09-04',\n",
       "    'link': 'https://ondapocos.com.br/com-floradas-que-variam-ipes-comecam-a-aparecer/',\n",
       "    'snippet': 'Em algum canto da cidade, já é possível vê-lo. O ipê-amarelo com cor forte e viva. A árvore já foi publicada nas redes sociais por...',\n",
       "    'thumbnail_alt': 'Com floradas que variam ipês começam a aparecer',\n",
       "    'thumbnail_link': 'https://i2.wp.com/ondapocos.com.br/wp-content/uploads/2020/09/ipemarelo.jpg?resize=350%2C250&ssl=1',\n",
       "    'title': 'Com floradas que variam ipês começam a aparecer'},\n",
       "   {'author': 'Matheus Luis',\n",
       "    'categories': 'Destaques|Esporte|Notícias',\n",
       "    'date': '2022-03-26',\n",
       "    'link': 'https://ondapocos.com.br/complexo-de-lazer-e-esporte-do-bairro-monte-verde-e-inaugurado-na-zona-leste-de-pocos/',\n",
       "    'snippet': 'Foi realizada na noite desta sexta-feira (25), a inauguração do novo Complexo de Lazer e Esporte “Olivino Martins de Alvarenga – Chico Corredor”, no bairro...',\n",
       "    'thumbnail_alt': 'Complexo de Lazer e Esporte do bairro Monte Verde é inaugurado na Zona Leste de Poços',\n",
       "    'thumbnail_link': 'https://i0.wp.com/ondapocos.com.br/wp-content/uploads/2022/03/276296765_4848249628607698_7139912847653382496_n.jpg?resize=350%2C250&ssl=1',\n",
       "    'title': 'Complexo de Lazer e Esporte do bairro Monte Verde é inaugurado na Zona Leste de Poços'}]],\n",
       " 'documents': [['Por ruas e parques de Poços de Caldas, as flores de Jacarandá-mimoso estão dando um colorido especial. Durante o inverno as folhas dão lugar às flores, que neste início de primavera formam lindos tapetes. Na Avenida João Pinheiro, internautas se encantam e fazem um registro mais bonito que o outro. \\xa0 Entre agosto e novembro nascem as flores de tons azulados e lilás.\\xa0Nativa da Argentina e Bolívia, aprecia climas subtropicais e não tolera secas prolongadas. Deve ser cultivada em solo fértil, a sol pleno. Está ameaçada em seu hábitat. Já em cidades de São Paulo e Minas Gerais, entre elas Poços de Caldas, é usada no paisagismo de avenidas e parques devido ao crescimento rápido e resistência à poluição. A madeira clara, apesar de dura e pesada, é frágil. Pode ser usada para confecção de brinquedos, instrumentos musicais e móveis em geral.',\n",
       "   'Situada no ponto mais ao Sul do estado de São Paulo, bem na divisa com o paranaense, fica a Ilha do Cardoso, uma das regiões mais preservadas do litoral brasileiro e também um dos ecossistemas costeiros mais produtivos do mundo, que há mais de 30 anos conquistou o fotógrafo Nilton Queiroz e a jornalista Beth Miranda. A Ilha faz parte do Parque Estadual da Ilha do Cardoso e é protegida por lei, e foi esse lugar único que inspirou a dupla a registrar a convivência pra lá de harmoniosa entre meninos e siris. Numa das viagens, Nilton clicou em preto e branco a rotina dos meninos caiçaras, imagens que depois ganharam legendas poéticas pelas mãos de Beth. Ao todo, são 22 fotos inéditas que recriam no leitor a percepção da convivência entre meninos e siris e convida a um respiro leve em tempos em que corpo e alma padecem com a liberdade escassa; é alento para os dias tensos ao mostrar uma infância livre, que passa devagar, porém, potente. “Aquelas cenas de meninos pela praia permaneceram com a gente: foram imagens e palavras numa gestação longa e agora nasce ‘os meninos e os siris’, afirma Nilton. “Esse novo filho lembra a quem quiser – e se permitir – que a vida pode ser simples, mas que para isso é preciso respeito, dignidade pelo homem e pelo ambiente”, diz Beth. Para o jornalista Alfredo Dias D´Almeida, que prefaciou a obra, “o livro transita fluentemente entre imagem e texto, fotografia e poesia, ponto e contraponto, preto e branco, terra e água”. Já a professora do curso de Letras da Universidade Federal do Rio de Janeiro (UFRJ), Ana Paula Gomes Quadros, que participou do prefácio diz: “a liberdade dos meninos, livres até das amarras do tempo, se contrapõe à ordenação opressiva e ao açodamento reiterado da vida urbana”. O projeto gráfico e a diagramação levam a assinatura de Chico Malagutti, da u/ysses. O livro pode ser encomendado pelo whatsapp (19) 9 9398 7269 ou (19) 9 9326 8459 ou ainda pelos e-mails bethpaivamiranda@gmail.com.br e nqueiroz831@mail.com e custa R$ 35,00 (já com o frete incluso). ',\n",
       "   'É no fim do inverno, no período mais seco do ano, que as flores dos ipês desabrocham em várias regiões do país. Em Poços de Caldas, o colorido que surge, em meio ao verde das matas pela cidade, transforma e deixa ainda mais exuberante o cenário da cidade. Para entender sobre a florada dos ipês, o jornalismo da Onda Poços conversou com um biólogo para saber mais sobre a planta. “Os Ipês são árvores que perdem todas as folhas durante o inverno, com essa intensa floração com os cachos de flores no lugar das folhas. A gente tem os Ipês amarelos, roxos, rosas e brancos. Essa floração se dá entre junho e novembro, iniciando pelos Ipês roxos, depois vem o cor de rosa e os amarelos, que vemos agora, e por fim os ipês brancos”, explicou Miguel Salles. No entanto, mesmo havendo períodos distintos para as floradas, nem sempre é uma regra. Isso porque as influências climáticas, como incidência de chuvas e de frio interferem nas temporadas dos ipês e em alguns anos eles podem florescer ao mesmo tempo. Curiosidades sobre a planta A planta apresenta diversas curiosidades, a começar pelo nome. Ipê é originário da língua tupi. “Isso quer dizer casca dura, já que o ipê é conhecido realmente por ter uma madeira de qualidade, mas principalmente pelo seu uso no paisagismo. É uma árvore ideal para arborização urbana”, destacou o biólogo. O ipê amarelo já foi alvo de um decreto presidencial em 1961, quando Jânio Quadros, declarou que a espécie estaria imune ao corte, como forma de preservar a árvore símbolo do Brasil. Na roça, entre os mais velhos, há quem diga que quando o ipê amarelo floresce é sinal de que vem chuva para molhar a terra seca. Apesar de serem mais comuns os ipês de cor roxa, rosa, amarelo e branco há outros tipos da planta que estão inclusive ameaçadora de extinção. Por isso, é importante preservar, já que quando não há a ajuda do homem na hora de disseminar a espécie, o ipê conta apenas com o vento para levar as sementes e se reproduzir. ',\n",
       "   'Uma atração congelante e divertida, que agrada crianças e adultos, chegou na cidade e fica até julho no estacionamento do Parque José Affonso Junqueira, ao lado da base do teleférico. Além de atrair apaixonados pela patinação, a pista também atrai apaixonados pelo frio, pois a temperatura ideal para manter o gelo intacto é de -15° . A pista conta com 200 metros, o gelo é formado por serpentinas e chega a 10 cm de altura. Segundo o secretário de turismo, Ricardo Fonseca a pista é mais uma das atrações para esse inverno na cidade, e que já não era realizada há mais de 10 anos. Além de proporcionar entretenimento para toda a família, a patinação é um esporte e ainda trabalha o equilíbrio, agilidade e resistência . Nesse mês de junho, todos os dias o local está cheio de moradores e turistas se divertindo, a estimativa é que no mês das férias aumente a procura em 50%. A diversão tem duração de 30 minutos, e informações sobre o ingresso para a atração, podem ser conferidas no próprio local. Para todas as idades, é obrigatório o uso de capacetes, joelheiras, luvas e cotoveleiras, disponíveis no espaço. ',\n",
       "   'Um abaixo-assinado criado pelo designer Alvaro Danza, visa criação do Parque Municipal da Pedreira localizado à Avenida Montevidéo, 803, no bairro Jardim Nova Europa, em Poços de Caldas. Segundo Alvaro, a ideia da criação de um Parque Municipal no local, surgiu desde a criação do bairro. “A pedreira foi um local presente na minha infância. Era linda, totalmente em pedra, com os paredões enormes. Lá no fundo brotava água e formava um grande espelho cristalino, com o piso todo de granito. Na época das chuvas essa agua chegava a verter e cruzar a estradinha onde hoje é a Av. Montevidéo. Para criar o bairro foi necessário deixar uma área de ‘equipamentos comunitários’ para a prefeitura. Área que as loteadoras são obrigadas a reservar para que a prefeitura possa instalar qualquer benfeitoria. Na minha opinião, a melhor benfeitoria seria um parque, com as pedras desaterradas, pois foram parcialmente cobertas durante as obras do loteamento”, diz. O abaixo-assinado que em 24 horas de criação, já possui 100 assinantes, detalha que, atualmente o amplo espaço público, encontra-se abandonado. A solicitação dos moradores é de que seja criada uma lei para a criação do Parque. Ter no local, uma área de recreação e convivência, com horário de funcionamento, e a paisagem e o ambiente da antiga pedreira recuperados. Para acessar o abaixo-assinado basta clicar aqui. ',\n",
       "   'O verão é uma das estações preferidas dos brasileiros, mas requer cuidado redobrado. Isto porque é nesta época que as chuvas aumentam e, consequentemente, os locais que acumulam águas e contribuem com a proliferação do mosquito Aedes aegypti, também. O inseto é transmissor dos vírus da dengue, zika, chikungunya e febre amarela. Segundo dados da prefeitura, em 2022 foram notificados 236 casos de dengue e 14 de chikungunya em Poços de Caldas. Desses, apenas 12 e 03 foram confirmados. Ainda assim, o infectologista da Unimed Poços faz um alerta. “Em caso de dor muscular intensa, dor articular ou cefaleia é importante procurar um atendimento médico e se hidratar bastante. Não há um tratamento específico, mas um suporte clínico a esses sintomas” explica. Prevenção – Limpar o quintal, jogando fora o que não é utilizado; – Tirar água dos pratos de plantas; – Colocar garrafas vazias de cabeça para baixo; – Tampar tonéis, depósitos de água, caixas d’água e qualquer tipo de recipiente que possa reservar água; – Manter os quintais bem varridos, eliminando recipientes que possam acumular água, como tampinha de garrafa, folhas e sacolas plásticas; – Escovar bem as bordas dos recipientes (vasilha de água e comida de animais, pratos de plantas, tonéis e caixas d’água) e mantê-los sempre limpos.',\n",
       "   'Começou, nesta quarta-feira ,4, o plantio de espécies do novo projeto paisagístico da avenida João Pinheiro em Poços de Caldas. Na primeira remessa, para iniciar o preenchimento dos canteiros, houve o carregamento de mais de cinco mil mudas de plantas. Nesta primeira fase, a Secretaria Municipal de Serviços Públicos (SMSP), está trabalhando ao longo da via até o parque Municipal Antonio Molinari. O projeto divulgado hoje, traz todas as mudanças programadas para o local. O projeto está sendo implantado na pista bairro/Centro, na margem do ribeirão junto à pista de caminhada. O coordenador da Divisão de Parques e Jardins (DPJ), Miguel Salles, informa que esta primeira fase do plantio e a confecção dos canteiros, provavelmente ficará pronta na próxima semana. A engenheira Ambiental da SMSP. Isis Alves, esclarece que a avenida está recebendo espécies de coloração e floração intensas, grande durabilidade e aspecto marcante, “que trazem efeito agradável ao paisagismo. As mudas que serão plantadas são: agapanto, lírio, iresine, trapoeraba, hortênsias, impatiens, trapoeraba, periquito, liríopes, ajuda etc. s mudas utilizadas nos canteiros da cidade, também na av. João Pinehiro, são todas produzidas pelo Viveiro Municipal e o Horto Armando Mendes, ambos de propriedade da Prefeitura. A intervenção, que numa segunda fase se estenderá por toda a via, segue as normas do ‘Projeto de Arborização Urbana’ da cidade, criado na atual administração. A mão de obra utilizada é da própria SMSP. Outras ações O secretário, Thiago Biagioni, diz que a intenção é, se for possível neste momento, recuperar alguns trechos danificados das calçadas às margens do ribeirão. De acordo com ele, em setembro, equipes da DPJ já fizeram a limpeza dos canteiros em toda extensão da avenida, com o objetivo de despoluir visualmente o ambiente. O projeto prevê também a colocação de novos bancos, lixeiras e o replantio de algumas espécies. Os pingos de ouro, que formam a cerca viva ao longo da pista de caminhada, serão substituídos aos poucos por azaleias, planta que floresce o ano todo. No início da via, num trecho do jardim, a nova espécie já está plantada. \\xa0',\n",
       "   'Desde o início do mês, a estátua do Cristo Redentor no alto da Serra de São Domingos,\\xa0assim como o pergolado do Parque José Affonso Junqueira (ao lado da Fonte Luminosa) e as colunas do Parque Darcy Vargas na Rua Junqueiras, estão com iluminação rosa, em alusão ao\\xa0Outubro Rosa, movimento mundial que visa esclarecer sobre a importância do diagnóstico precoce de doenças como o câncer de mama e o câncer de colo de útero.\\xa0O mês temático\\xa0tem a intenção de\\xa0sensibilizar sobre o diagnóstico precoce e gerar\\xa0mais\\xa0ações de promoção de saúde.\\xa0Toda mulher que tem ou já teve atividade sexual e que possui entre 25 e 64 anos de idade deve fazer a coleta do exame preventivo. Mulheres entre 50 e 69 anos devem fazer uma mamografia a cada dois anos, segundo protocolo do Ministério da Saúde. Neste ano, a exemplo de outros, o\\xa0Outubro Rosa será realizado em diversas unidades de saúde do Município,\\xa0mas de forma diferente e\\xa0com a observação de cuidados necessários em função da pandemia.\\xa0As ações incluem a divulgação das orientações sobre o câncer, os exames preventivos e periódicos. Durante o mês, os agentes comunitários de saúde trabalharão na busca ativa de pacientes para rastreamento de câncer de mama e colo de\\xa0útero. Além disso, em cada região da cidade, haverá o atendimento em horário estendido,\\xa0a ser estabelecido e divulgado pelas equipes de Estratégia de Saúde da Família,\\xa0de acordo com o cronograma de cada unidade.\\xa0As ações visam a promoção do autocuidado, a realização de exames clínicos, o agendamento de\\xa0exames preventivos (papanicolau) e\\xa0mamografias, em especial para pacientes com idades entre 50 a 69 anos, faixa etária preconizada pelo Ministério da Saúde para o rastreamento. Mulheres com sintomas ou com histórico de câncer de mama na família também podem fazer o agendamento, de acordo com avaliação médica a ser feita na unidade de atendimento. \\xa0',\n",
       "   'Em algum canto da cidade, já é possível vê-lo. O ipê-amarelo com cor forte e viva. A árvore já foi publicada nas redes sociais por seus admiradores. Ouvintes da Rádio Onda Poços, também fizeram questão de registrar a beleza da espécie. O Ipê que aparece na imagem abaixo foi enviada por uma ouvinte de Campestre e está localizado na área rural. O jornalismo da Onda Poços conversou com uma bióloga para explicar sobre estas árvores. De acordo com a bióloga Flávia Nogueira Pereira, os ipês são pertencentes a família botânica Bignoniáceas e os gêneros são Handroanthus e Tabebuia. ” Conhecidos popularmente como Ipês (amarelo/roxo/branco…dependendo da coloração das flores) ou pau d’arco”, explica. Ainda segundo Flávia, existem três colorações que variam de acordo com a espécie: ipê amarelo/ ipê branco e ipê roxo, sendo o amarelo mais conhecido na região. Floradas As florações variam de julho a setembro, e os frutos (são uma capsula alongada, semelhante a uma vagem) amadurecem de setembro a outubro. A florada é muito ornamental, densa e exuberante, destacando-se muito nessa época do ano, quando a planta está praticamente sem folhas. A bióloga explica que os tamanhos das árvores variam de 6 a 40 metros dependendo da espécie. São muito utilizadas na arborização urbana e no paisagismo pela sua beleza. ? ',\n",
       "   'Foi realizada na noite desta sexta-feira (25), a inauguração do novo Complexo de Lazer e Esporte “Olivino Martins de Alvarenga – Chico Corredor”, no bairro Monte Verde, localizado na Zona Leste de Poços de Caldas. A área de 6.600 m², agora, conta com um campo society, uma quadra de vôlei, quadra de peteca, um parquinho infantil e academia ao ar livre. No entorno foi feita uma pista de caminhada de aproximadamente 600 metros, construída uma pista de Bike, ‘Pump Track’, uma quadra de Espirobol e um novo espaço de convivência. O trabalho conjunto, uniu esforços de diversas secretarias municipais, o setor de Obras, Serviços Públicos, Defesa Social, DME, DMAE e a secretaria de Esportes, estiveram juntos para a estruturação deste novo espaço. Foi promovido um trabalho paisagístico, com inúmeras mudas de árvores de diversas espécies frutíferas e outras, que completam o paisagismo no local. O complexo conta com nova iluminação, para que a comunidade possa utilizar com segurança a área, também no período noturno. Durante a inauguração (25/03) a secretaria de Esportes vai promover diversas atividades em comemoração à data. No novo Campo Society, foi realizado um torneio de futebol Sub-12 com 13 equipes da cidade, participantes. Será também promovida uma apresentação de BMX e um aulão de Ritmos. Grupos de corrida promoveram dentro da inauguração, atividades na Pista de Cooper/caminhada, do complexo. ']],\n",
       " 'uris': None,\n",
       " 'data': None}"
      ]
     },
     "execution_count": 57,
     "metadata": {},
     "output_type": "execute_result"
    }
   ],
   "source": [
    "self_collection.query(\n",
    "    query_texts=\"Jardim Primavera\",\n",
    "    n_results=10,\n",
    "    # **kwargs\n",
    "    # where={\"metadata_field\": \"is_equal_to_this\"},\n",
    "    # where_document={\"$contains\":\"search_string\"}\n",
    ")"
   ]
  },
  {
   "cell_type": "markdown",
   "id": "c61f13a3-430f-47ee-b761-adbfe47a14c5",
   "metadata": {},
   "source": [
    "# Execute"
   ]
  },
  {
   "cell_type": "code",
   "execution_count": 7,
   "id": "925ccb57-3471-4405-9f6c-4f9927471a52",
   "metadata": {},
   "outputs": [],
   "source": [
    "message = \"Qual a última notícia de acidentes no bairro Dom Bosco?\""
   ]
  },
  {
   "cell_type": "code",
   "execution_count": 8,
   "id": "5e1a06b5-1ef5-433f-b876-7e87848e2956",
   "metadata": {},
   "outputs": [
    {
     "name": "stderr",
     "output_type": "stream",
     "text": [
      "\u001b[32m2024-01-05 03:36:36.966\u001b[0m | \u001b[34m\u001b[1mDEBUG   \u001b[0m | \u001b[36m__main__\u001b[0m:\u001b[36mself_format_history_message\u001b[0m:\u001b[36m27\u001b[0m - \u001b[34m\u001b[1mEstou em 'self_format_history_message'\u001b[0m\n"
     ]
    },
    {
     "data": {
      "text/plain": [
       "''"
      ]
     },
     "execution_count": 8,
     "metadata": {},
     "output_type": "execute_result"
    }
   ],
   "source": [
    "chat_history = \"\".join(self_format_history_message(self_memory.chat_memory.messages))\n",
    "chat_history"
   ]
  },
  {
   "cell_type": "markdown",
   "id": "06fd0de3-394b-4f58-8cbb-2c3d3f325392",
   "metadata": {},
   "source": [
    "## Melhorar query"
   ]
  },
  {
   "cell_type": "code",
   "execution_count": 9,
   "id": "a9108df2-e55a-40be-a7ab-8dd41fd49ba5",
   "metadata": {},
   "outputs": [
    {
     "name": "stderr",
     "output_type": "stream",
     "text": [
      "\u001b[32m2024-01-05 03:36:42.247\u001b[0m | \u001b[34m\u001b[1mDEBUG   \u001b[0m | \u001b[36m__main__\u001b[0m:\u001b[36mself_get_standalone_question\u001b[0m:\u001b[36m37\u001b[0m - \u001b[34m\u001b[1mEstou em 'self_get_standalone_question'\u001b[0m\n"
     ]
    },
    {
     "name": "stdout",
     "output_type": "stream",
     "text": [
      "\n",
      "\n",
      "\u001b[1m> Entering new LLMChain chain...\u001b[0m\n",
      "Prompt after formatting:\n",
      "\u001b[32;1m\u001b[1;3mVoce vai receber uma pergunta de follow up do usuario, que pode nao ter muitos detalhes.\n",
      "O usuario quer realizar consultas na base de dados que contem noticias de Pocos de Caldas e regiao.\n",
      "REESCREVA a frase do HUMAN INPUT para que ela possa ser considerada uma pergunta independente.\n",
      "Considere o CHAT HISTORY para manter o contexto.\n",
      "NAO RESPONDA AO USUARIO, APENAS REESCREVA A PERGUNTA.\n",
      "Sua resposta deve conter apenas a pergunta reescrita.\n",
      "\n",
      "## CHAT HISTORY\n",
      "\n",
      "\n",
      "## HUMAN INPUT\n",
      "Qual a última notícia de acidentes no bairro Dom Bosco?\n",
      "\n",
      "IA:\u001b[0m\n"
     ]
    },
    {
     "name": "stderr",
     "output_type": "stream",
     "text": [
      "\u001b[32m2024-01-05 03:36:43.245\u001b[0m | \u001b[34m\u001b[1mDEBUG   \u001b[0m | \u001b[36m__main__\u001b[0m:\u001b[36m<module>\u001b[0m:\u001b[36m2\u001b[0m - \u001b[34m\u001b[1mPergunta original: Qual a última notícia de acidentes no bairro Dom Bosco?\u001b[0m\n",
      "\u001b[32m2024-01-05 03:36:43.246\u001b[0m | \u001b[34m\u001b[1mDEBUG   \u001b[0m | \u001b[36m__main__\u001b[0m:\u001b[36m<module>\u001b[0m:\u001b[36m3\u001b[0m - \u001b[34m\u001b[1mPergunta melhorada: Qual é a última notícia de acidentes no bairro Dom Bosco?\u001b[0m\n"
     ]
    },
    {
     "name": "stdout",
     "output_type": "stream",
     "text": [
      "\n",
      "\u001b[1m> Finished chain.\u001b[0m\n"
     ]
    }
   ],
   "source": [
    "standalone_question = self_get_standalone_question(message=message, history=chat_history)\n",
    "logger.debug(f\"Pergunta original: {message}\")\n",
    "logger.debug(f\"Pergunta melhorada: {standalone_question}\")"
   ]
  },
  {
   "cell_type": "markdown",
   "id": "1f5d829e-840e-4e4e-9392-70538c8fab05",
   "metadata": {},
   "source": [
    "## Identificar intenção"
   ]
  },
  {
   "cell_type": "code",
   "execution_count": 10,
   "id": "d0e0f867-8693-4e11-a90a-5b9861e095a3",
   "metadata": {},
   "outputs": [
    {
     "name": "stderr",
     "output_type": "stream",
     "text": [
      "\u001b[32m2024-01-05 03:36:52.422\u001b[0m | \u001b[34m\u001b[1mDEBUG   \u001b[0m | \u001b[36m__main__\u001b[0m:\u001b[36mself_get_user_intention\u001b[0m:\u001b[36m47\u001b[0m - \u001b[34m\u001b[1mEstou em 'self_get_user_intention'\u001b[0m\n"
     ]
    },
    {
     "name": "stdout",
     "output_type": "stream",
     "text": [
      "\n",
      "\n",
      "\u001b[1m> Entering new LLMChain chain...\u001b[0m\n",
      "Prompt after formatting:\n",
      "\u001b[32;1m\u001b[1;3mAnalise a mensagem do usuario em \"HUMAN INPUT\" e o \"CHAT HISTORY\" e classifique a intencao de acordo com as seguintes categorias:\n",
      "\n",
      "- \"Inicio de conversa\": Saudacoes e cumprimentos do usuario, reconheca frases como \"oi\", \"ola\", \"bom dia\", \"tudo bem:\", etc.\n",
      "- \"Consulta de conteudo\": Perguntas sobre noticias da base de dados, reconheca trechos como \"quais sao as ultimas noticias\", \"o que foi reportado no bairro\", etc.\n",
      "- \"\": QUALQUER PERGUNTA QUE NAO SE ENCAIXE NAS CATEGORIAS ACIMA, ou que nao possa ser respondida com o contexto disponivel na base de dados, a qual contem noticias de Pocos de Caldas e regiao.\n",
      "\n",
      "Escolha apenas uma das opcoes. Sua resposta deve conter APENAS a categoria.\n",
      "\n",
      "## CHAT HISTORY\n",
      "\n",
      "\n",
      "## HUMAN INPUT\n",
      "Qual é a última notícia de acidentes no bairro Dom Bosco?\n",
      "\n",
      "IA:\u001b[0m\n"
     ]
    },
    {
     "name": "stderr",
     "output_type": "stream",
     "text": [
      "\u001b[32m2024-01-05 03:36:52.964\u001b[0m | \u001b[34m\u001b[1mDEBUG   \u001b[0m | \u001b[36m__main__\u001b[0m:\u001b[36m<module>\u001b[0m:\u001b[36m2\u001b[0m - \u001b[34m\u001b[1mIntenção: consulta de conteudo\u001b[0m\n"
     ]
    },
    {
     "name": "stdout",
     "output_type": "stream",
     "text": [
      "\n",
      "\u001b[1m> Finished chain.\u001b[0m\n"
     ]
    }
   ],
   "source": [
    "intention = self_get_user_intention(message=standalone_question, history=chat_history)\n",
    "logger.debug(f\"Intenção: {intention}\")"
   ]
  },
  {
   "cell_type": "markdown",
   "id": "9c5d6984-1df1-405b-8225-b684634e1f0f",
   "metadata": {},
   "source": [
    "## Handlers"
   ]
  },
  {
   "cell_type": "code",
   "execution_count": null,
   "id": "4f5170bf-8365-4d06-bde1-884638122ae5",
   "metadata": {},
   "outputs": [],
   "source": [
    "def self_handler_query(message: str, *args, **kwargs) -> str:\n",
    "\n",
    "    logger.debug(\"Estou em 'self_handler_query'\")\n",
    "\n",
    "    self_chain_query = LLMChain(\n",
    "        llm=self_llm_chat, prompt=self_prompt_query, verbose=self_verbose_chains, memory=kwargs[\"memory\"]\n",
    "    )\n",
    "\n",
    "    context = self_get_content(query=message)\n",
    "    logger.debug(f\"context = {context}\")\n",
    "\n",
    "    for i in range(3):\n",
    "        response = self_chain_query.predict(history=kwargs[\"history\"], human_input=message, context=context)\n",
    "        resp_dict = extract_dict_from_string(response)\n",
    "        if len(resp_dict) > 0:\n",
    "            return (\n",
    "                f'resposta: {resp_dict[\"resposta\"]}\\n\\n'\n",
    "                f'link_noticia: {resp_dict[\"link\"]}\\n\\n'\n",
    "                f'data_noticia: {resp_dict[\"data\"]}\\n\\n'\n",
    "                f'titulo_noticia: {resp_dict[\"titulo\"]}\\n\\n'\n",
    "                f'autor_noticia: {resp_dict[\"autor\"]}\\n\\n'\n",
    "            )\n",
    "        continue\n",
    "        \n",
    "    return response"
   ]
  },
  {
   "cell_type": "code",
   "execution_count": 18,
   "id": "131e1f6a-7950-4d52-a196-98018c5e40de",
   "metadata": {},
   "outputs": [],
   "source": [
    "def self__set_query_content(documents, metadata):\n",
    "\n",
    "    logger.debug(\"Estou em 'self__set_query_content'\")\n",
    "    context_list = [self__set_local_context(content, meta) for content, meta in zip(documents, metadata)]\n",
    "\n",
    "    tokens = 4000\n",
    "    max_tokens = 3600\n",
    "    while tokens > max_tokens:\n",
    "        tokens = self_count_tokens(\"\\n\".join(context_list))\n",
    "        if tokens >= max_tokens:\n",
    "            context_list.pop()\n",
    "\n",
    "def self__set_local_context(content, meta):\n",
    "\n",
    "    logger.debug(\"Estou em 'self__set_local_context'\")\n",
    "    return (\n",
    "        f\"<data>{meta['date']}</data>\\n\"\n",
    "        f\"<titulo>{meta['title']}</titulo>\\n\"\n",
    "        f\"<autor>{meta['author']}</autor>\\n\"\n",
    "        f\"<link>{meta['link']}</link>\\n\"\n",
    "        f\"<conteudo>{content}</conteudo>\\n\"\n",
    "    )\n",
    "\n",
    "def self_get_content(query, n_results=10, n_neighbors=1000):\n",
    "\n",
    "    logger.debug(\"Estou em 'self_get_content'\")\n",
    "\n",
    "    result = self_predict(\n",
    "        self_collection,\n",
    "        query,\n",
    "        n_results=n_results,\n",
    "        n_neighbors=n_neighbors,\n",
    "    )\n",
    "\n",
    "\n",
    "    # logger.debug(f\"result = {result}\")\n",
    "    return self__set_query_content(result['documents'][0], result['metadatas'][0])\n"
   ]
  },
  {
   "cell_type": "code",
   "execution_count": null,
   "id": "b7d48721-056a-424d-9530-58d786fac27b",
   "metadata": {},
   "outputs": [],
   "source": [
    "self_chain_query = LLMChain(\n",
    "    llm=self_llm_chat, prompt=self_prompt_query, verbose=self_verbose_chains, memory=self_memory\n",
    ")\n",
    "\n",
    "# context = self_get_content(query=message)\n",
    "\n",
    "\n",
    "result = self_predict(\n",
    "    self_collection,\n",
    "    query=message,\n",
    "    n_results=10,\n",
    "    n_neighbors=1000,\n",
    ")"
   ]
  },
  {
   "cell_type": "code",
   "execution_count": 28,
   "id": "b1e450e6-4118-4169-a6d1-1ecf796cbc06",
   "metadata": {},
   "outputs": [
    {
     "data": {
      "text/plain": [
       "'Qual a última notícia de acidentes no bairro Dom Bosco?'"
      ]
     },
     "execution_count": 28,
     "metadata": {},
     "output_type": "execute_result"
    }
   ],
   "source": [
    "message"
   ]
  },
  {
   "cell_type": "code",
   "execution_count": 31,
   "id": "2125027a-90b4-4fb2-a1bb-53e0a4918eb1",
   "metadata": {},
   "outputs": [],
   "source": [
    "def self_predict(collection, query, n_neighbors: int = 1000, n_results: int = 10, **kwargs):\n",
    "\n",
    "    logger.debug(\"Estou em 'self_predict'\")\n",
    "\n",
    "    def f(key, value, k):\n",
    "        def limit(x):\n",
    "            if isinstance(x, list):\n",
    "                return x[:k]\n",
    "            return x\n",
    "        if isinstance(value, list):\n",
    "            return (key, [limit(x) for x in value])\n",
    "        return (key, None)\n",
    "    \n",
    "    \n",
    "    res = collection.query(\n",
    "        query_texts=query,\n",
    "        n_results=n_neighbors,\n",
    "        **kwargs\n",
    "        # where={\"metadata_field\": \"is_equal_to_this\"},\n",
    "        # where_document={\"$contains\":\"search_string\"}\n",
    "    )\n",
    "  \n",
    "    return  dict([f(key, value, n_results)  for key, value in res.items()])"
   ]
  },
  {
   "cell_type": "code",
   "execution_count": 38,
   "id": "3c8da4df-d075-4fa5-9279-7953b53cfc09",
   "metadata": {},
   "outputs": [
    {
     "data": {
      "text/plain": [
       "'Qual a última notícia de acidentes no bairro Dom Bosco?'"
      ]
     },
     "execution_count": 38,
     "metadata": {},
     "output_type": "execute_result"
    }
   ],
   "source": [
    "message"
   ]
  },
  {
   "cell_type": "code",
   "execution_count": null,
   "id": "7624d120-1863-4d3d-88c0-aa52229055e5",
   "metadata": {},
   "outputs": [],
   "source": []
  },
  {
   "cell_type": "code",
   "execution_count": 32,
   "id": "501640a3-3904-44ed-96ab-b5b7145bf9dc",
   "metadata": {},
   "outputs": [
    {
     "ename": "NameError",
     "evalue": "name 'collection' is not defined",
     "output_type": "error",
     "traceback": [
      "\u001b[0;31m---------------------------------------------------------------------------\u001b[0m",
      "\u001b[0;31mNameError\u001b[0m                                 Traceback (most recent call last)",
      "Cell \u001b[0;32mIn[32], line 1\u001b[0m\n\u001b[0;32m----> 1\u001b[0m \u001b[43mcollection\u001b[49m\n",
      "\u001b[0;31mNameError\u001b[0m: name 'collection' is not defined"
     ]
    }
   ],
   "source": [
    "collection"
   ]
  },
  {
   "cell_type": "code",
   "execution_count": null,
   "id": "69401536-23b2-4546-912c-e373b1498b10",
   "metadata": {},
   "outputs": [],
   "source": []
  },
  {
   "cell_type": "code",
   "execution_count": null,
   "id": "c9820b72-2d93-416f-9f26-e4334b6b1a59",
   "metadata": {},
   "outputs": [],
   "source": []
  },
  {
   "cell_type": "code",
   "execution_count": 30,
   "id": "f53861ab-df1b-49bc-8cca-60bf69deb707",
   "metadata": {},
   "outputs": [
    {
     "data": {
      "text/plain": [
       "['Segundo Boletim atualizado pela Secretaria Municipal de Saúde, neste domingo, 10 de maio, são 702 notificações em Poços. Destas, 430 se referem a investigações concluídas, sendo 38 descartadas por exame laboratorial e 392 com alta por critério clínico. São 245 casos suspeitos em investigação, dos quais: 241 seguem em isolamento domiciliar, casos leves sem indicação de realizar exame, conforme o Ministério da Saúde. Três pacientes estão hospitalizados na Unidade de Terapia Intensiva e um óbito é investigado. Neste domingo são 27 casos positivos em Poços: 21 pacientes são considerados recuperados, dois seguem em isolamento domiciliar, uma pessoa está hospitalizada e três pacientes vieram a óbito. Informe Estadual Segundo o Informe Epidemiológico divulgado pela Secretaria de Estado da Saúde de Minas Gerais, apresentado no site\\xa0www.saude.mg.gov.br/coronavirus\\xa0– “Distribuição dos casos de COVID-19 em Minas Gerais”, neste domingo,10, no Estado são 112.830 notificações; 99.958 casos suspeitos; 3.237 confirmados; 9.635 descartados e 119 óbitos por Covid-19 confirmados no Estado.',\n",
       " 'O Informe Epidemiológico divulgado pela Secretaria de Estado de Saúde de Minas Gerais, atualizado nesta quinta, 26, mostra que em Poços de Caldas, são 60 notificações. Destes, 58 são casos suspeitos, 1, descartado e 1 confirmado. O Informe mostra ainda, que no Estado de Minas Gerais, são 17.865 notificações, 17.409 casos suspeitos, 153 confirmados e 303 descartados. Até o momento não foi registrado óbito no Estado de Minas, por Coronavírus. Desde esta quarta, 25, a Secretaria Municipal de Saúde divulga o Informe Epidemiológico publicado pelo Estado. A alteração acompanha as mudanças adotadas também pela Secretaria de Estado de Saúde, considerando que o Ministério da Saúde classificou todo o país como transmissão comunitária, além da necessidade de qualificar as informações sobre a circulação do Coronavírus em Minas Gerais, o Boletim Informativo Diário COVID-19 passa a publicar o detalhamento apenas dos casos confirmados. A nomenclatura de casos monitorados não aparece mais no levantamento. O Estado informa número total de notificações e a divisão em casos suspeitos, casos confirmados e casos descartados. A cidade permanece com um caso importado confirmado. Na divulgação feita pela Vigilância Epidemiológica realizada até esta terça, 24, apareciam dois casos descartados: um, sendo o de uma mulher vinda da Lombardia na Itália, e o segundo, como sendo o de um homem que havia passado três semanas a trabalho em São Paulo. Ambos testaram negativo para o Novo Coronavírus – Covid 19. Na divulgação estadual, no entanto, apenas um descarte está computado por enquanto. O andamento da pandemia é extremamente dinâmico e estas orientações podem mudar de acordo com novas condutas recomendadas pelo Ministério da Saúde. A distribuição dos casos suspeitos por município, bem como de casos descartados e notificados, são atualizadas diariamente, através do site www.saude.mg.gov.br/coronavirus – “Distribuição dos casos de COVID-19 em Minas Gerais”.',\n",
       " 'Segundo Boletim atualizado pela Secretaria Municipal de Saúde, nesta\\xa0quinta, 07\\xa0de maio, são\\xa0662\\xa0notificações em Poços. Destas,\\xa0408\\xa0se referem a investigações concluídas, sendo 38 descartados por exame laboratorial e 370\\xa0com alta por critério clínico. São\\xa0228\\xa0casos suspeitos em investigação, dos quais:\\xa0225\\xa0seguem em isolamento domiciliar, casos leves sem indicação de realizar exame, conforme o Ministério da Saúde.\\xa0Um\\xa0paciente\\xa0está\\xa0hospitalizado\\xa0e\\xa0dois\\xa0óbitos\\xa0seguem\\xa0em investigação. Nesta\\xa0quinta, são 26\\xa0casos positivos em Poços:\\xa019\\xa0pacientes são considerados recuperados,\\xa0quatro\\xa0seguem em isolamento domiciliar,\\xa0uma\\xa0pessoa está\\xa0hospitalizada e\\xa0dois\\xa0pacientes\\xa0vieram a óbito, conforme já noticiado anteriormente.\\xa0A mudança é a nomenclatura recuperados que substitui curados, conforme vem sendo utilizado também pelo Ministério da Saúde,\\xa0nesta atualização constante que faz parte do quadro de uma pandemia. Informe Estadual Segundo o Informe Epidemiológico divulgado pela Secretaria de Estado da Saúde de Minas Gerais, apresentado no site\\xa0www.saude.mg.gov.br/coronavirus\\xa0– “Distribuição dos casos de COVID-19 em Minas Gerais”,\\xa0nesta quinta,\\xa07,\\xa0no Estado são\\xa0105.744\\xa0notificações;\\xa094.124\\xa0casos suspeitos;\\xa02.770\\xa0confirmados;\\xa08.850\\xa0descartados e\\xa0106\\xa0óbitos por Covid-19 confirmados no Estado. \\xa0',\n",
       " 'O Informe Epidemiológico divulgado pela Secretaria de Estado da Saúde de Minas Gerais, atualizado nesta quarta, 01, mostra que em Poços de Caldas, são 182 notificações do Novo Coronavírus – Covid 19, 113 a mais em comparação com o boletim divulgado ontem (31). Destes, 178 são casos suspeitos, 2, descartados e 2 confirmados. O Informe mostra ainda, que no Estado de Minas Gerais, são 34.799 notificações, 34.018 casos suspeitos, 314 confirmados e 464 descartados. Mais um óbito foi incluído nas estatísticas estaduais, como sendo o de um paciente de 44 anos, de Mariana, que não possuía comorbidade confirmada e faleceu em um hospital da capital. A segunda vítima por Covid-19 em Minas foi um homem de 66 anos, de Belo Horizonte, portador de cardiopatia e diabetes. Já o primeiro óbito por Covid-19 no Estado, foi de uma mulher de 82 anos, que estava em um hospital de Nova Lima, região metropolitana de Belo Horizonte, desde o dia 21 de março, com quadro de febre, tosse e desconforto respiratório. A paciente possuía doença cardiovascular crônica, diabetes e pneumopatia crônica.',\n",
       " 'Segundo Boletim atualizado pela Secretaria Municipal de Saúde, nesta\\xa0terça,\\xa012\\xa0de maio, são\\xa0708\\xa0notificações em Poços. Destas,\\xa0433\\xa0se referem a investigações concluídas, sendo\\xa040\\xa0descartados por exame laboratorial e 393\\xa0com alta por critério clínico. São\\xa0248\\xa0casos suspeitos em investigação, dos quais:\\xa0243\\xa0seguem em isolamento domiciliar, casos leves sem indicação de realizar exame, conforme o Ministério da Saúde.\\xa0Dois\\xa0pacientes\\xa0seguem\\xa0hospitalizados\\xa0em ala\\xa0e\\xa0três\\xa0pacientes\\xa0estão\\xa0em Unidade de Terapia Intensiva. Nesta\\xa0terça, são 27\\xa0casos positivos em Poços:\\xa021\\xa0pacientes são considerados recuperados,\\xa0três\\xa0seguem em isolamento domiciliar,\\xa0e\\xa0destes 27 casos positivos, três\\xa0pacientes\\xa0vieram a óbito. Óbitos no Município No\\xa0sábado, 9, a Secretaria Estadual de Saúde incluiu nos dados de Minas, o primeiro óbito registrado em Poços, no dia 13 de abril e que permanecia em investigação. O homem de 74 anos apresentou sintomas gripais após voltar de um cruzeiro pelo Caribe. O exame analisado pela Funed, a Fundação Ezequiel Dias, em Belo Horizonte, testou negativo para Covid-19. No entanto, um teste rápido feito pela Secretaria Municipal de Saúde de Poços, teve resultado positivo para Covid – 19. O caso foi informado à Secretaria Estadual de Saúde de Minas Gerais que até então o classificava como um óbito em investigação. Neste sábado, 9, ele passou a vigorar nas estatísticas de óbitos confirmados por Covid-19 em Minas Gerais. Na época do falecimento, tanto o serviço funerário quanto a família foram orientados a proceder com o velório e o sepultamento, adotando os cuidados recomendados para a Covid – 19. Os outros dois óbitos registrados em Poços por Covid 19, se referem a: um homem de 75 anos que\\xa0apresentou os primeiros sintomas após retornar de uma viagem feita ao Chile, em março; e ao homem de\\xa067 anos que apresentou sintomas gripais: febre, tosse, coriza e dificuldade para respirar, após chegar de uma viagem ao Caribe, também no mês de março. Informe Estadual Segundo o Informe Epidemiológico divulgado pela Secretaria de Estado da Saúde de Minas Gerais, apresentado no site\\xa0www.saude.mg.gov.br/coronavirus\\xa0– “Distribuição dos casos de COVID-19 em Minas Gerais”,\\xa0nesta\\xa0terça,\\xa012,\\xa0no Estado são\\xa0114.621\\xa0notificações;\\xa0101.496\\xa0casos suspeitos;\\xa03.435\\xa0confirmados;\\xa09.690\\xa0descartados e\\xa0127\\xa0óbitos por Covid-19 confirmados no Estado. \\xa0',\n",
       " 'O Informe Epidemiológico divulgado pela Secretaria de Estado da\\xa0Saúde de Minas Gerais,\\xa0com detalhamento por municípios, não trouxe atualizações para Poços de Caldas, nesta quinta-feira, 02. Sendo assim, em âmbito local, os números permanecem os mesmos\\xa0divulgados na quarta, 1:\\xa0182\\xa0notificações\\xa0do Novo Coronavírus – Covid 19. Destas,\\xa0178\\xa0são\\xa0casos\\xa0suspeitos,\\xa02, descartados\\xa0e\\xa02\\xa0confirmados.\\xa0Embora os números locais não tenham sofrido mudanças, no link\\xa0https://www.saude.mg.gov.br/component/gmg/story/12399-informe-epidemiologico-coronavirus-02-04-2020\\xa0, está disponível um\\xa0outro\\xa0informe divulgado pela Secretaria de Estado de Saúde, atualizado na tarde desta quinta, 2. O texto traz a informação de 39.084 casos suspeitos em Minas, 370 confirmados, 55 óbitos em investigação e 4 óbitos confirmados. A página traz ainda uma tabela com a distribuição de casos confirmados pelos municípios mineiros, onde Poços permanece com dois casos.',\n",
       " 'A atualização do Boletim Epidemiológico da Secretaria de Saúde de Poços de Caldas traz o registro de mais um óbito nesta quinta-feira (20). O paciente de 58 anos permaneceu 15 dias internado em UTI de hospital da Rede SUS. Nesta quinta, são 633 casos positivos em Poços: destes, 405 pacientes são considerados recuperados, 199 seguem em isolamento domiciliar, sete estão em Unidade de Terapia Intensiva e três em ala ou leitos clínicos. Em relação a última atualização, realizada na quarta, 19, oito novos casos foram incluídos no Boletim desta quinta, 19. O Boletim tem um óbito em investigação: a mulher de 81 anos, possuía comorbidade e estava internada em UTI de hospital da Rede SUS. A Secretaria Municipal de Saúde aguarda o resultado dos exames, para confirmação do diagnóstico. O Informe registra oito óbitos de não residentes. Informe Estadual Segundo o Informe Epidemiológico divulgado pela Secretaria de Estado da Saúde de Minas Gerais, 185.062 são casos confirmados. E destes, 29.128 estão em acompanhamento; 151.391 recuperados e 4.543 são óbitos por Covid-19 registrados em Minas. \\xa0',\n",
       " 'Segundo Boletim atualizado pela Secretaria Municipal de Saúde, nesta\\xa0quarta, 06\\xa0de maio, são\\xa0640\\xa0notificações em Poços. Destas, 392\\xa0se referem a investigações concluídas, sendo 38 descartados por exame laboratorial e 354\\xa0com alta por critério clínico. São\\xa0223\\xa0casos suspeitos em investigação, dos quais:\\xa0220\\xa0seguem em isolamento domiciliar, casos leves sem indicação de realizar exame, conforme o Ministério da Saúde.\\xa0Um\\xa0paciente\\xa0está\\xa0em Unidade de Terapia Intensiva e\\xa0dois\\xa0óbitos\\xa0seguem\\xa0em investigação. Nesta\\xa0quarta, são 25\\xa0casos positivos em Poços:\\xa017\\xa0pacientes são considerados recuperados,\\xa0cinco\\xa0seguem em isolamento domiciliar,\\xa0uma\\xa0pessoa está\\xa0hospitalizada e\\xa0dois\\xa0pacientes\\xa0vieram a óbito, conforme já noticiado anteriormente. Óbitos no Município Faleceu no dia\\xa023 de abril, o paciente de 75 anos que estava internado em uma Unidade de Terapia Intensiva da cidade.\\xa0O paciente que testou positivo para a Covid-19, apresentou os primeiros sintomas após retornar de uma viagem feita ao Chile,\\xa0em março. Este óbito foi incluído na quarta, 29, nas estatísticas estaduais. O segundo óbito foi o de um paciente de 67 anos que apresentou sintomas gripais: febre, tosse, coriza e dificuldade para respirar, após chegar de uma viagem ao Caribe, em março e testar positivo para a Covid-19. Este óbito também já figura nas estatísticas da Secretaria Estadual de Saúde. O primeiro óbito foi o de um homem de 74 anos, que apresentou sintomas gripais após voltar de um cruzeiro pelo Caribe. O exame analisado pela Funed, a Fundação Ezequiel Dias, em Belo Horizonte, testou negativo para Covid-19. No entanto, um teste rápido feito pela Secretaria Municipal de Saúde de Poços, teve resultado positivo para Covid – 19. O serviço funerário e a família foram orientados a proceder com o velório e o sepultamento, adotando os cuidados recomendados para a Covid – 19. O caso foi informado à Secretaria Estadual de Saúde de Minas Gerais que por enquanto o classifica como um óbito em investigação. O outro óbito que segue em investigação é o do paciente de 90 anos que estava internado em UTI desde o início do mês e faleceu na terça, 5 de maio. Ele era hipertenso e apresentou quadro de insuficiência respiratória. A Secretaria Municipal de Saúde aguarda o resultado do exame laboratorial para definir o diagnóstico. Informe Estadual Segundo o Informe Epidemiológico divulgado pela Secretaria de Estado da Saúde de Minas Gerais, apresentado no site\\xa0www.saude.mg.gov.br/coronavirus\\xa0– “Distribuição dos casos de COVID-19 em Minas Gerais”,\\xa0nesta quarta, 6,\\xa0no Estado são\\xa0102.836\\xa0notificações;\\xa091.618\\xa0casos suspeitos;\\xa02.605\\xa0confirmados;\\xa08.613\\xa0descartados e\\xa097\\xa0óbitos por Covid-19 confirmados no Estado. Covid-19 em Profissionais de Saúde Uma médica de 62 anos, fez o teste em um laboratório particular, mesmo relatando não ter tido sintomas característicos da Covid-19 e recebeu resultado positivo. O segundo caso de profissional de saúde contaminada pela Covid-19 no município é o de uma nutricionista, de 36 anos, que testou positivo para a doença. O terceiro caso é o de uma médica. Assintomática, ela fez o exame em um laboratório particular e testou positivo para a Covid-19.\\xa0Contatos domiciliares de todos estes profissionais de saúde que testaram positivo, seguem monitorados pela equipe da Vigilância Epidemiológica que também já orientou outros profissionais de saúde que trabalham com estas pessoas, a procurarem os serviços de saúde, em caso de aparecimento de sintomas característicos de síndromes gripais.',\n",
       " 'Segundo Boletim atualizado pela Secretaria Municipal de Saúde, nesta\\xa0sexta,\\xa015\\xa0de maio, são\\xa0730\\xa0notificações em Poços. Destas,\\xa0444\\xa0se referem a investigações concluídas, sendo\\xa040\\xa0descartados por exame laboratorial e\\xa0404\\xa0com alta por critério clínico. São\\xa0258\\xa0casos suspeitos em investigação, dos quais:\\xa0254\\xa0seguem em isolamento domiciliar, casos leves sem indicação de realizar exame, conforme o Ministério da Saúde.\\xa0Quatro\\xa0pacientes\\xa0estão\\xa0em Unidade de Terapia Intensiva. Nesta\\xa0sexta, são 28\\xa0casos positivos em Poços:\\xa021\\xa0pacientes são considerados recuperados,\\xa0quatro\\xa0seguem em isolamento domiciliar,\\xa0e\\xa0destes 28\\xa0casos positivos, três\\xa0pacientes\\xa0vieram a óbito. O Boletim inclui um óbito de não-residente, que se refere a morte de uma mulher de 48 anos, que faleceu na noite da segunda-feira, 11, em um hospital de Poços. Informe Estadual O\\xa0Informe Epidemiológico divulgado pela Secretaria de Estado da Saúde de Minas Gerais, apresentado no site\\xa0www.saude.mg.gov.br/coronavirus\\xa0– “Distribuição dos casos de COVID-19 em Minas Gerais”,\\xa0sofreu alterações. Agora, o Informe não apresenta mais o número total de notificações e de casos suspeitos.\\xa0No Estado\\xa0são\\xa04.196\\xa0confirmados;\\xa02.094\\xa0em acompanhamento;\\xa01.956\\xa0recuperados\\xa0e\\xa0146\\xa0óbitos por Covid-19 confirmados. \\xa0',\n",
       " 'A atualização do Boletim Epidemiológico desta sexta-feira, 21, traz a confirmação de mais um óbito de residente. A paciente de 81 anos, possuía comorbidade e faleceu no dia 15 de agosto. O teste analisado na Funed, a Fundação Ezequiel Dias em Belo Horizonte, deu positivo para a Covid-19. Até o momento são 20 óbitos confirmados no município, em função da Covid-19. Ainda segundo o boletim, nesta sexta, são 665 casos positivos em Poços: destes, 417 pacientes são considerados recuperados, 219 seguem em isolamento domiciliar, cinco estão em Unidade de Terapia Intensiva e quatro em ala ou leitos clínicos. Em relação a última atualização, realizada na quinta, 20, 32 novos casos foram incluídos no Boletim desta sexta, 21. Informe Estadual Segundo o Informe Epidemiológico divulgado pela Secretaria de Estado da Saúde de Minas Gerais,\\xa0188.623\\xa0são casos confirmados. E destes,\\xa028.621\\xa0estão em acompanhamento; 155.339\\xa0recuperados e\\xa04.663\\xa0são óbitos por Covid-19 registrados em Minas. \\xa0']"
      ]
     },
     "execution_count": 30,
     "metadata": {},
     "output_type": "execute_result"
    }
   ],
   "source": [
    "\n",
    "\n",
    "\n",
    "[x for x in result['documents'][0]]\n",
    "\n",
    "# logger.debug(f\"context = {context}\")"
   ]
  },
  {
   "cell_type": "code",
   "execution_count": 23,
   "id": "998dee64-9918-450c-a17a-5a11c123ff64",
   "metadata": {},
   "outputs": [
    {
     "data": {
      "text/plain": [
       "1"
      ]
     },
     "execution_count": 23,
     "metadata": {},
     "output_type": "execute_result"
    }
   ],
   "source": [
    "len(result['metadatas'])"
   ]
  },
  {
   "cell_type": "code",
   "execution_count": null,
   "id": "7efd5d4a-8352-4b97-a20c-14a148ef2548",
   "metadata": {},
   "outputs": [],
   "source": []
  },
  {
   "cell_type": "code",
   "execution_count": null,
   "id": "f85375b8-00ed-4aad-93a5-48700dcf695e",
   "metadata": {},
   "outputs": [],
   "source": []
  },
  {
   "cell_type": "code",
   "execution_count": null,
   "id": "8b8dc2ee-789c-487a-9eaf-00ae3b14dd04",
   "metadata": {},
   "outputs": [],
   "source": []
  },
  {
   "cell_type": "code",
   "execution_count": null,
   "id": "b92ac11b-6505-4121-935c-10ee85b61f30",
   "metadata": {},
   "outputs": [],
   "source": []
  },
  {
   "cell_type": "code",
   "execution_count": 11,
   "id": "7771b0b8-01a4-43f5-b059-cfeea42f6040",
   "metadata": {},
   "outputs": [
    {
     "name": "stderr",
     "output_type": "stream",
     "text": [
      "\u001b[32m2024-01-05 03:37:04.869\u001b[0m | \u001b[34m\u001b[1mDEBUG   \u001b[0m | \u001b[36m__main__\u001b[0m:\u001b[36mself_handler_query\u001b[0m:\u001b[36m153\u001b[0m - \u001b[34m\u001b[1mEstou em 'self_handler_query'\u001b[0m\n",
      "\u001b[32m2024-01-05 03:37:04.870\u001b[0m | \u001b[34m\u001b[1mDEBUG   \u001b[0m | \u001b[36m__main__\u001b[0m:\u001b[36mself_get_content\u001b[0m:\u001b[36m130\u001b[0m - \u001b[34m\u001b[1mEstou em 'self_get_content'\u001b[0m\n",
      "\u001b[32m2024-01-05 03:37:04.871\u001b[0m | \u001b[34m\u001b[1mDEBUG   \u001b[0m | \u001b[36m__main__\u001b[0m:\u001b[36mself_predict\u001b[0m:\u001b[36m75\u001b[0m - \u001b[34m\u001b[1mEstou em 'self_predict'\u001b[0m\n",
      "\u001b[32m2024-01-05 03:37:05.273\u001b[0m | \u001b[34m\u001b[1mDEBUG   \u001b[0m | \u001b[36m__main__\u001b[0m:\u001b[36mself__set_query_content\u001b[0m:\u001b[36m107\u001b[0m - \u001b[34m\u001b[1mEstou em 'self__set_query_content'\u001b[0m\n",
      "\u001b[32m2024-01-05 03:37:05.274\u001b[0m | \u001b[34m\u001b[1mDEBUG   \u001b[0m | \u001b[36m__main__\u001b[0m:\u001b[36mself__set_local_context\u001b[0m:\u001b[36m119\u001b[0m - \u001b[34m\u001b[1mEstou em 'self__set_local_context'\u001b[0m\n",
      "\u001b[32m2024-01-05 03:37:05.274\u001b[0m | \u001b[34m\u001b[1mDEBUG   \u001b[0m | \u001b[36m__main__\u001b[0m:\u001b[36mself__set_local_context\u001b[0m:\u001b[36m119\u001b[0m - \u001b[34m\u001b[1mEstou em 'self__set_local_context'\u001b[0m\n",
      "\u001b[32m2024-01-05 03:37:05.275\u001b[0m | \u001b[34m\u001b[1mDEBUG   \u001b[0m | \u001b[36m__main__\u001b[0m:\u001b[36mself__set_local_context\u001b[0m:\u001b[36m119\u001b[0m - \u001b[34m\u001b[1mEstou em 'self__set_local_context'\u001b[0m\n",
      "\u001b[32m2024-01-05 03:37:05.276\u001b[0m | \u001b[34m\u001b[1mDEBUG   \u001b[0m | \u001b[36m__main__\u001b[0m:\u001b[36mself__set_local_context\u001b[0m:\u001b[36m119\u001b[0m - \u001b[34m\u001b[1mEstou em 'self__set_local_context'\u001b[0m\n",
      "\u001b[32m2024-01-05 03:37:05.276\u001b[0m | \u001b[34m\u001b[1mDEBUG   \u001b[0m | \u001b[36m__main__\u001b[0m:\u001b[36mself__set_local_context\u001b[0m:\u001b[36m119\u001b[0m - \u001b[34m\u001b[1mEstou em 'self__set_local_context'\u001b[0m\n",
      "\u001b[32m2024-01-05 03:37:05.277\u001b[0m | \u001b[34m\u001b[1mDEBUG   \u001b[0m | \u001b[36m__main__\u001b[0m:\u001b[36mself__set_local_context\u001b[0m:\u001b[36m119\u001b[0m - \u001b[34m\u001b[1mEstou em 'self__set_local_context'\u001b[0m\n",
      "\u001b[32m2024-01-05 03:37:05.277\u001b[0m | \u001b[34m\u001b[1mDEBUG   \u001b[0m | \u001b[36m__main__\u001b[0m:\u001b[36mself__set_local_context\u001b[0m:\u001b[36m119\u001b[0m - \u001b[34m\u001b[1mEstou em 'self__set_local_context'\u001b[0m\n",
      "\u001b[32m2024-01-05 03:37:05.278\u001b[0m | \u001b[34m\u001b[1mDEBUG   \u001b[0m | \u001b[36m__main__\u001b[0m:\u001b[36mself__set_local_context\u001b[0m:\u001b[36m119\u001b[0m - \u001b[34m\u001b[1mEstou em 'self__set_local_context'\u001b[0m\n",
      "\u001b[32m2024-01-05 03:37:05.278\u001b[0m | \u001b[34m\u001b[1mDEBUG   \u001b[0m | \u001b[36m__main__\u001b[0m:\u001b[36mself__set_local_context\u001b[0m:\u001b[36m119\u001b[0m - \u001b[34m\u001b[1mEstou em 'self__set_local_context'\u001b[0m\n",
      "\u001b[32m2024-01-05 03:37:05.279\u001b[0m | \u001b[34m\u001b[1mDEBUG   \u001b[0m | \u001b[36m__main__\u001b[0m:\u001b[36mself__set_local_context\u001b[0m:\u001b[36m119\u001b[0m - \u001b[34m\u001b[1mEstou em 'self__set_local_context'\u001b[0m\n",
      "\u001b[32m2024-01-05 03:37:05.279\u001b[0m | \u001b[34m\u001b[1mDEBUG   \u001b[0m | \u001b[36m__main__\u001b[0m:\u001b[36mself_count_tokens\u001b[0m:\u001b[36m99\u001b[0m - \u001b[34m\u001b[1mEstou em 'self_count_tokens'\u001b[0m\n",
      "\u001b[32m2024-01-05 03:37:05.284\u001b[0m | \u001b[34m\u001b[1mDEBUG   \u001b[0m | \u001b[36m__main__\u001b[0m:\u001b[36mself_count_tokens\u001b[0m:\u001b[36m99\u001b[0m - \u001b[34m\u001b[1mEstou em 'self_count_tokens'\u001b[0m\n",
      "\u001b[32m2024-01-05 03:37:05.289\u001b[0m | \u001b[34m\u001b[1mDEBUG   \u001b[0m | \u001b[36m__main__\u001b[0m:\u001b[36mself_count_tokens\u001b[0m:\u001b[36m99\u001b[0m - \u001b[34m\u001b[1mEstou em 'self_count_tokens'\u001b[0m\n",
      "\u001b[32m2024-01-05 03:37:05.293\u001b[0m | \u001b[34m\u001b[1mDEBUG   \u001b[0m | \u001b[36m__main__\u001b[0m:\u001b[36mself_count_tokens\u001b[0m:\u001b[36m99\u001b[0m - \u001b[34m\u001b[1mEstou em 'self_count_tokens'\u001b[0m\n",
      "\u001b[32m2024-01-05 03:37:05.296\u001b[0m | \u001b[34m\u001b[1mDEBUG   \u001b[0m | \u001b[36m__main__\u001b[0m:\u001b[36mself_handler_query\u001b[0m:\u001b[36m160\u001b[0m - \u001b[34m\u001b[1mcontext = None\u001b[0m\n"
     ]
    },
    {
     "name": "stdout",
     "output_type": "stream",
     "text": [
      "\n",
      "\n",
      "\u001b[1m> Entering new LLMChain chain...\u001b[0m\n",
      "Prompt after formatting:\n",
      "\u001b[32;1m\u001b[1;3mVoce e um chatbot que responde sobre noticias da cidade de Pocos de Caldas.\n",
      "\n",
      "Sua tarefa e responder a mensagem do usuário em HUMAN INPUT utilizando o CONTEXTO providenciado.\n",
      "Considere o CHAT HISTORY.\n",
      "Nao responda nada que nao esteja no contexto. Se o contexto nao tiver informacoes relevantes a pergunta do usuario, responda \"nao sei\".\n",
      "Nao considere nenhuma noticia que nao seja de Pocos de Caldas.\n",
      "\n",
      "Formate sua resposta como um JSON conforme indicado abaxo:\n",
      "{\n",
      "    \"resposta\": \"sua resposta aqui\",\n",
      "    \"link\": \"link da noticia que voce usou para elaborar sua resposta\",\n",
      "    \"data\": \"data da noticia\",\n",
      "    \"titulo\": \"titulo da noticia\",\n",
      "    \"autor\": \"autor da noticia\"\n",
      "}\n",
      "Nao responda nada alem do JSON.\n",
      "\n",
      "## CONTEXTO\n",
      "None\n",
      "\n",
      "## CHAT HISTORY\n",
      "\n",
      "\n",
      "## HUMAN INPUT\n",
      "Qual a última notícia de acidentes no bairro Dom Bosco?\n",
      "\n",
      "IA:\u001b[0m\n"
     ]
    },
    {
     "name": "stderr",
     "output_type": "stream",
     "text": [
      "\u001b[32m2024-01-05 03:37:05.978\u001b[0m | \u001b[34m\u001b[1mDEBUG   \u001b[0m | \u001b[36m__main__\u001b[0m:\u001b[36mextract_dict_from_string\u001b[0m:\u001b[36m58\u001b[0m - \u001b[34m\u001b[1mEstou em 'extract_dict_from_string'\u001b[0m\n"
     ]
    },
    {
     "name": "stdout",
     "output_type": "stream",
     "text": [
      "\n",
      "\u001b[1m> Finished chain.\u001b[0m\n",
      "\n",
      "\n",
      "\u001b[1m> Entering new LLMChain chain...\u001b[0m\n",
      "Prompt after formatting:\n",
      "\u001b[32;1m\u001b[1;3mVoce e um chatbot que responde sobre noticias da cidade de Pocos de Caldas.\n",
      "\n",
      "Sua tarefa e responder a mensagem do usuário em HUMAN INPUT utilizando o CONTEXTO providenciado.\n",
      "Considere o CHAT HISTORY.\n",
      "Nao responda nada que nao esteja no contexto. Se o contexto nao tiver informacoes relevantes a pergunta do usuario, responda \"nao sei\".\n",
      "Nao considere nenhuma noticia que nao seja de Pocos de Caldas.\n",
      "\n",
      "Formate sua resposta como um JSON conforme indicado abaxo:\n",
      "{\n",
      "    \"resposta\": \"sua resposta aqui\",\n",
      "    \"link\": \"link da noticia que voce usou para elaborar sua resposta\",\n",
      "    \"data\": \"data da noticia\",\n",
      "    \"titulo\": \"titulo da noticia\",\n",
      "    \"autor\": \"autor da noticia\"\n",
      "}\n",
      "Nao responda nada alem do JSON.\n",
      "\n",
      "## CONTEXTO\n",
      "None\n",
      "\n",
      "## CHAT HISTORY\n",
      "\n",
      "\n",
      "## HUMAN INPUT\n",
      "Qual a última notícia de acidentes no bairro Dom Bosco?\n",
      "\n",
      "IA:\u001b[0m\n"
     ]
    },
    {
     "name": "stderr",
     "output_type": "stream",
     "text": [
      "\u001b[32m2024-01-05 03:37:06.407\u001b[0m | \u001b[34m\u001b[1mDEBUG   \u001b[0m | \u001b[36m__main__\u001b[0m:\u001b[36mextract_dict_from_string\u001b[0m:\u001b[36m58\u001b[0m - \u001b[34m\u001b[1mEstou em 'extract_dict_from_string'\u001b[0m\n"
     ]
    },
    {
     "name": "stdout",
     "output_type": "stream",
     "text": [
      "\n",
      "\u001b[1m> Finished chain.\u001b[0m\n",
      "\n",
      "\n",
      "\u001b[1m> Entering new LLMChain chain...\u001b[0m\n",
      "Prompt after formatting:\n",
      "\u001b[32;1m\u001b[1;3mVoce e um chatbot que responde sobre noticias da cidade de Pocos de Caldas.\n",
      "\n",
      "Sua tarefa e responder a mensagem do usuário em HUMAN INPUT utilizando o CONTEXTO providenciado.\n",
      "Considere o CHAT HISTORY.\n",
      "Nao responda nada que nao esteja no contexto. Se o contexto nao tiver informacoes relevantes a pergunta do usuario, responda \"nao sei\".\n",
      "Nao considere nenhuma noticia que nao seja de Pocos de Caldas.\n",
      "\n",
      "Formate sua resposta como um JSON conforme indicado abaxo:\n",
      "{\n",
      "    \"resposta\": \"sua resposta aqui\",\n",
      "    \"link\": \"link da noticia que voce usou para elaborar sua resposta\",\n",
      "    \"data\": \"data da noticia\",\n",
      "    \"titulo\": \"titulo da noticia\",\n",
      "    \"autor\": \"autor da noticia\"\n",
      "}\n",
      "Nao responda nada alem do JSON.\n",
      "\n",
      "## CONTEXTO\n",
      "None\n",
      "\n",
      "## CHAT HISTORY\n",
      "\n",
      "\n",
      "## HUMAN INPUT\n",
      "Qual a última notícia de acidentes no bairro Dom Bosco?\n",
      "\n",
      "IA:\u001b[0m\n"
     ]
    },
    {
     "name": "stderr",
     "output_type": "stream",
     "text": [
      "\u001b[32m2024-01-05 03:37:06.914\u001b[0m | \u001b[34m\u001b[1mDEBUG   \u001b[0m | \u001b[36m__main__\u001b[0m:\u001b[36mextract_dict_from_string\u001b[0m:\u001b[36m58\u001b[0m - \u001b[34m\u001b[1mEstou em 'extract_dict_from_string'\u001b[0m\n",
      "\u001b[32m2024-01-05 03:37:06.914\u001b[0m | \u001b[34m\u001b[1mDEBUG   \u001b[0m | \u001b[36m__main__\u001b[0m:\u001b[36m<module>\u001b[0m:\u001b[36m14\u001b[0m - \u001b[34m\u001b[1mResponse: Não sei.\u001b[0m\n"
     ]
    },
    {
     "name": "stdout",
     "output_type": "stream",
     "text": [
      "\n",
      "\u001b[1m> Finished chain.\u001b[0m\n"
     ]
    }
   ],
   "source": [
    "handlers = {\n",
    "    \"inicio de conversa\": self_handler_start_conversation,\n",
    "    \"consulta de conteudo\": self_handler_query,\n",
    "    \"\": self_handler_fallback\n",
    "}\n",
    "\n",
    "\n",
    "response = handlers[intention](\n",
    "    message=message,\n",
    "    memory=self_memory,\n",
    "    history=chat_history\n",
    ")\n",
    "\n",
    "logger.debug(f\"Response: {response}\")"
   ]
  },
  {
   "cell_type": "code",
   "execution_count": null,
   "id": "326f1379-7bed-447b-96f4-396f5bb2be19",
   "metadata": {},
   "outputs": [],
   "source": []
  },
  {
   "cell_type": "code",
   "execution_count": null,
   "id": "b82e014d-9215-48ae-b154-8930a4e67be9",
   "metadata": {},
   "outputs": [],
   "source": []
  },
  {
   "cell_type": "code",
   "execution_count": null,
   "id": "b35ca250-936e-4fba-972a-0c61da66ebfe",
   "metadata": {},
   "outputs": [],
   "source": []
  }
 ],
 "metadata": {
  "kernelspec": {
   "display_name": "Python 3 (ipykernel)",
   "language": "python",
   "name": "python3"
  },
  "language_info": {
   "codemirror_mode": {
    "name": "ipython",
    "version": 3
   },
   "file_extension": ".py",
   "mimetype": "text/x-python",
   "name": "python",
   "nbconvert_exporter": "python",
   "pygments_lexer": "ipython3",
   "version": "3.11.6"
  }
 },
 "nbformat": 4,
 "nbformat_minor": 5
}
