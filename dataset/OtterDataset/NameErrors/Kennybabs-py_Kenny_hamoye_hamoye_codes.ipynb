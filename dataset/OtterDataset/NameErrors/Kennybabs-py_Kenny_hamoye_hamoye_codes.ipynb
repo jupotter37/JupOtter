{
 "cells": [
  {
   "cell_type": "code",
   "execution_count": 2,
   "id": "29eb4b3c",
   "metadata": {},
   "outputs": [
    {
     "data": {
      "text/plain": [
       "array([[1., 0., 0.],\n",
       "       [0., 1., 0.],\n",
       "       [0., 0., 1.]])"
      ]
     },
     "execution_count": 2,
     "metadata": {},
     "output_type": "execute_result"
    }
   ],
   "source": [
    "import numpy as np\n",
    "np.identity((3))\n"
   ]
  },
  {
   "cell_type": "code",
   "execution_count": 11,
   "id": "a671e540",
   "metadata": {},
   "outputs": [
    {
     "ename": "NameError",
     "evalue": "name 'fuel_data' is not defined",
     "output_type": "error",
     "traceback": [
      "\u001b[1;31m---------------------------------------------------------------------------\u001b[0m",
      "\u001b[1;31mNameError\u001b[0m                                 Traceback (most recent call last)",
      "\u001b[1;32m~\\AppData\\Local\\Temp/ipykernel_5428/1391661618.py\u001b[0m in \u001b[0;36m<module>\u001b[1;34m\u001b[0m\n\u001b[0;32m     22\u001b[0m \u001b[1;33m\u001b[0m\u001b[0m\n\u001b[0;32m     23\u001b[0m \u001b[1;31m# Select a sample of the dataset\u001b[0m\u001b[1;33m\u001b[0m\u001b[1;33m\u001b[0m\u001b[0m\n\u001b[1;32m---> 24\u001b[1;33m \u001b[0msample_df\u001b[0m \u001b[1;33m=\u001b[0m \u001b[0mfuel_data\u001b[0m\u001b[1;33m.\u001b[0m\u001b[0msample\u001b[0m\u001b[1;33m(\u001b[0m\u001b[0mn\u001b[0m\u001b[1;33m=\u001b[0m \u001b[1;36m50\u001b[0m \u001b[1;33m,\u001b[0m \u001b[0mrandom_state\u001b[0m\u001b[1;33m=\u001b[0m \u001b[1;36m4\u001b[0m \u001b[1;33m)\u001b[0m\u001b[1;33m\u001b[0m\u001b[1;33m\u001b[0m\u001b[0m\n\u001b[0m\u001b[0;32m     25\u001b[0m sns.regplot(x=sample_df[ \"utility_id_ferc1\" ], y=sample_df[ \"fuel_cost_per_mmbtu\" ],\n\u001b[0;32m     26\u001b[0m fit_reg= False )\n",
      "\u001b[1;31mNameError\u001b[0m: name 'fuel_data' is not defined"
     ]
    },
    {
     "data": {
      "image/png": "[encoded data removed]",
      "text/plain": [
       "<Figure size 504x288 with 1 Axes>"
      ]
     },
     "metadata": {
      "needs_background": "light"
     },
     "output_type": "display_data"
    }
   ],
   "source": [
    "#Data Visualization and Representation in Python\n",
    "\n",
    "# Import plotting library\n",
    "import pandas as pd\n",
    "import seaborn as sns\n",
    "import matplotlib.pyplot as plt\n",
    "\n",
    "plt.figure(figsize=( 7 , 4 ))\n",
    "plt.xticks(rotation= 90 )\n",
    "fuel_unit = pd.DataFrame({ 'unit' :[ 'BBL' , 'GAL' , 'GRAMSU' , 'KGU' , 'MCF' , 'MMBTU' ,\n",
    "'MWDTH' , 'MWHTH' , 'TON' ],\n",
    "'count' :[ 7998 , 84 , 464 , 110 , 11354 , 180 , 95 , 100 , 8958 ]})\n",
    "sns.barplot(data=fuel_unit, x= 'unit' , y= 'count' )\n",
    "plt.xlabel( 'Fuel Unit' )\n",
    "\n",
    "# Because of the extreme range of the values for the fuel unit, we can plot the barchart by taking the logarithm of the y-axis as follows:\n",
    "\n",
    "g = sns.barplot(data=fuel_unit, x='unit', y='count')\n",
    "g.set_yscale('log')\n",
    "g.set_ylim( 1, 12000 )\n",
    "plt.xlabel('Fuel Unit')\n",
    "\n",
    "# Select a sample of the dataset\n",
    "sample_df = fuel_data.sample(n= 50 , random_state= 4 )\n",
    "sns.regplot(x=sample_df[ \"utility_id_ferc1\" ], y=sample_df[ \"fuel_cost_per_mmbtu\" ],\n",
    "fit_reg= False )"
   ]
  },
  {
   "cell_type": "code",
   "execution_count": null,
   "id": "546de4d8",
   "metadata": {},
   "outputs": [],
   "source": []
  }
 ],
 "metadata": {
  "kernelspec": {
   "display_name": "Python 3 (ipykernel)",
   "language": "python",
   "name": "python3"
  },
  "language_info": {
   "codemirror_mode": {
    "name": "ipython",
    "version": 3
   },
   "file_extension": ".py",
   "mimetype": "text/x-python",
   "name": "python",
   "nbconvert_exporter": "python",
   "pygments_lexer": "ipython3",
   "version": "3.9.7"
  }
 },
 "nbformat": 4,
 "nbformat_minor": 5
}
