{
  "nbformat": 4,
  "nbformat_minor": 0,
  "metadata": {
    "colab": {
      "name": "Untitled3.ipynb",
      "provenance": [],
      "toc_visible": true,
      "machine_shape": "hm",
      "include_colab_link": true
    },
    "kernelspec": {
      "name": "python3",
      "display_name": "Python 3"
    }
  },
  "cells": [
    {
      "cell_type": "markdown",
      "metadata": {
        "id": "view-in-github",
        "colab_type": "text"
      },
      "source": [
        "<a href=\"https://colab.research.google.com/github/rgranit/academix-ydata-project/blob/master/code/1_merged_datasets_for_labeled_data.ipynb\" target=\"_parent\"><img src=\"https://colab.research.google.com/assets/colab-badge.svg\" alt=\"Open In Colab\"/></a>"
      ]
    },
    {
      "cell_type": "markdown",
      "metadata": {
        "id": "JzLYeE3GN-ps",
        "colab_type": "text"
      },
      "source": [
        "#Outline\n",
        "\n",
        "Merges the NIH dataset and the Academix dataset and removes duplicates.\n",
        "\n",
        "**Data Available**\n",
        "\n",
        "> Enriched Dataset: 96K <br>\n",
        "> Not Enriched Dataset: 20K \n",
        "\n",
        "**Instances of Author Disambiguation**\n",
        "\n",
        "Details at the bottom"
      ]
    },
    {
      "cell_type": "markdown",
      "metadata": {
        "id": "Ymr4TATMbZSD",
        "colab_type": "text"
      },
      "source": [
        "## Initializations"
      ]
    },
    {
      "cell_type": "code",
      "metadata": {
        "id": "qAgD483hbxQk",
        "colab_type": "code",
        "outputId": "b956fa03-fecd-455d-a980-f4cf74463116",
        "colab": {
          "base_uri": "https://localhost:8080/",
          "height": 71
        }
      },
      "source": [
        "from boto.s3.connection import S3Connection\n",
        "from boto.s3.key import Key\n",
        "from boto import s3\n",
        "import boto3, os, re\n",
        "import pandas as pd\n",
        "import numpy as np\n",
        "import utils\n",
        "import matplotlib.pyplot as plt\n",
        "import seaborn as sns; sns.set()\n",
        "\n",
        "PATH = \"data/labeled_dataset/\"\n",
        "FILE = \"NIH_postcleaning_large.csv\""
      ],
      "execution_count": 5,
      "outputs": [
        {
          "output_type": "stream",
          "text": [
            "/usr/local/lib/python3.6/dist-packages/statsmodels/tools/_testing.py:19: FutureWarning: pandas.util.testing is deprecated. Use the functions in the public API at pandas.testing instead.\n",
            "  import pandas.util.testing as tm\n"
          ],
          "name": "stderr"
        }
      ]
    },
    {
      "cell_type": "code",
      "metadata": {
        "id": "43Y6-gmsO7Q_",
        "colab_type": "code",
        "outputId": "1a11b0c2-e45c-4699-907b-06adf0344e2d",
        "colab": {
          "base_uri": "https://localhost:8080/",
          "height": 34
        }
      },
      "source": [
        "import importlib\n",
        "importlib.reload(utils)"
      ],
      "execution_count": 6,
      "outputs": [
        {
          "output_type": "execute_result",
          "data": {
            "text/plain": [
              "<module 'utils' from '/content/AYP/code/utils.py'>"
            ]
          },
          "metadata": {
            "tags": []
          },
          "execution_count": 6
        }
      ]
    },
    {
      "cell_type": "code",
      "metadata": {
        "id": "oSixCsaPqmar",
        "colab_type": "code",
        "outputId": "1bee374e-bbc5-43ca-d0e4-936cf96096a4",
        "colab": {
          "base_uri": "https://localhost:8080/",
          "height": 68
        }
      },
      "source": [
        "if os.path.exists(PATH + FILE):\n",
        "  print(\"Getting NIH from File\")\n",
        "  df_nih = pd.read_csv(file= PATH + File)\n",
        "  df_nih.drop('Unnamed: 0',axis=1, inplace=True)\n",
        "\n",
        "else:\n",
        "  print(\"Getting NIH from S3\")\n",
        "  df_nih = utils.get_dataframe_from_s3(file=FILE)    \n",
        "  df_nih.drop('Unnamed: 0',axis=1, inplace=True)\n",
        "\n",
        "# Retrieve Enriched Academix Data\n",
        "print(\"Getting Academix Enriched Dataset from S3\")\n",
        "df_aca_r = utils.get_dataframe_from_s3(file=\"academix_enriched_large.json\",type=\"json\")\n",
        "#df_aca_r.drop('Unnamed: 0',axis=1, inplace=True)\n",
        "\n",
        "# Retrieve Not Enriched Academix Data\n",
        "print(\"Getting Academic non-enriched Dataset from S3\")\n",
        "df_aca_nr = utils.get_dataframe_from_s3(file=\"academix_not_enriched.csv\")\n",
        "df_aca_nr.drop('Unnamed: 0',axis=1, inplace=True)"
      ],
      "execution_count": 7,
      "outputs": [
        {
          "output_type": "stream",
          "text": [
            "Getting NIH from S3\n",
            "Getting Academix Enriched Dataset from S3\n",
            "Getting Academic non-enriched Dataset from S3\n"
          ],
          "name": "stdout"
        }
      ]
    },
    {
      "cell_type": "markdown",
      "metadata": {
        "id": "gABwhpDnN7RY",
        "colab_type": "text"
      },
      "source": [
        "## Implementation"
      ]
    },
    {
      "cell_type": "code",
      "metadata": {
        "id": "Wv6uwVXYTN1g",
        "colab_type": "code",
        "outputId": "49332a30-5fc6-4ee1-8c50-fe86542512b5",
        "colab": {
          "base_uri": "https://localhost:8080/",
          "height": 204
        }
      },
      "source": [
        "df_nih.head()"
      ],
      "execution_count": 8,
      "outputs": [
        {
          "output_type": "execute_result",
          "data": {
            "text/html": [
              "<div>\n",
              "<style scoped>\n",
              "    .dataframe tbody tr th:only-of-type {\n",
              "        vertical-align: middle;\n",
              "    }\n",
              "\n",
              "    .dataframe tbody tr th {\n",
              "        vertical-align: top;\n",
              "    }\n",
              "\n",
              "    .dataframe thead th {\n",
              "        text-align: right;\n",
              "    }\n",
              "</style>\n",
              "<table border=\"1\" class=\"dataframe\">\n",
              "  <thead>\n",
              "    <tr style=\"text-align: right;\">\n",
              "      <th></th>\n",
              "      <th>PMID</th>\n",
              "      <th>ORG_STATE</th>\n",
              "      <th>PI_IDS</th>\n",
              "      <th>cleaned_name</th>\n",
              "    </tr>\n",
              "  </thead>\n",
              "  <tbody>\n",
              "    <tr>\n",
              "      <th>0</th>\n",
              "      <td>30147749</td>\n",
              "      <td>PA</td>\n",
              "      <td>8352708</td>\n",
              "      <td>Madabhushi, A</td>\n",
              "    </tr>\n",
              "    <tr>\n",
              "      <th>1</th>\n",
              "      <td>30147749</td>\n",
              "      <td>PA</td>\n",
              "      <td>9354221</td>\n",
              "      <td>Paladini, G</td>\n",
              "    </tr>\n",
              "    <tr>\n",
              "      <th>2</th>\n",
              "      <td>30147749</td>\n",
              "      <td>PA</td>\n",
              "      <td>9258689</td>\n",
              "      <td>Wang, F</td>\n",
              "    </tr>\n",
              "    <tr>\n",
              "      <th>3</th>\n",
              "      <td>19810465</td>\n",
              "      <td>PA</td>\n",
              "      <td>8352708</td>\n",
              "      <td>Madabhushi, A</td>\n",
              "    </tr>\n",
              "    <tr>\n",
              "      <th>4</th>\n",
              "      <td>19810465</td>\n",
              "      <td>PA</td>\n",
              "      <td>9354221</td>\n",
              "      <td>Paladini, G</td>\n",
              "    </tr>\n",
              "  </tbody>\n",
              "</table>\n",
              "</div>"
            ],
            "text/plain": [
              "       PMID ORG_STATE   PI_IDS   cleaned_name\n",
              "0  30147749        PA  8352708  Madabhushi, A\n",
              "1  30147749        PA  9354221    Paladini, G\n",
              "2  30147749        PA  9258689        Wang, F\n",
              "3  19810465        PA  8352708  Madabhushi, A\n",
              "4  19810465        PA  9354221    Paladini, G"
            ]
          },
          "metadata": {
            "tags": []
          },
          "execution_count": 8
        }
      ]
    },
    {
      "cell_type": "code",
      "metadata": {
        "id": "a18HO9K8saiI",
        "colab_type": "code",
        "outputId": "c486ada8-467d-4c91-f895-dbeec8f21080",
        "colab": {
          "base_uri": "https://localhost:8080/",
          "height": 513
        }
      },
      "source": [
        "df_aca_r.head()"
      ],
      "execution_count": 9,
      "outputs": [
        {
          "output_type": "execute_result",
          "data": {
            "text/html": [
              "<div>\n",
              "<style scoped>\n",
              "    .dataframe tbody tr th:only-of-type {\n",
              "        vertical-align: middle;\n",
              "    }\n",
              "\n",
              "    .dataframe tbody tr th {\n",
              "        vertical-align: top;\n",
              "    }\n",
              "\n",
              "    .dataframe thead th {\n",
              "        text-align: right;\n",
              "    }\n",
              "</style>\n",
              "<table border=\"1\" class=\"dataframe\">\n",
              "  <thead>\n",
              "    <tr style=\"text-align: right;\">\n",
              "      <th></th>\n",
              "      <th>authors</th>\n",
              "      <th>doi</th>\n",
              "      <th>journal_name</th>\n",
              "      <th>language</th>\n",
              "      <th>last_author</th>\n",
              "      <th>last_author_country</th>\n",
              "      <th>last_author_email</th>\n",
              "      <th>last_author_id</th>\n",
              "      <th>last_author_inst</th>\n",
              "      <th>last_author_name</th>\n",
              "      <th>mesh</th>\n",
              "      <th>mesh_major</th>\n",
              "      <th>pmid</th>\n",
              "      <th>pub_year</th>\n",
              "      <th>title</th>\n",
              "    </tr>\n",
              "  </thead>\n",
              "  <tbody>\n",
              "    <tr>\n",
              "      <th>0</th>\n",
              "      <td>[{'forename': 'Iris', 'affiliation': '*Departm...</td>\n",
              "      <td>None</td>\n",
              "      <td>Journal of acquired immune deficiency syndrome...</td>\n",
              "      <td>eng</td>\n",
              "      <td>None</td>\n",
              "      <td>United States</td>\n",
              "      <td>None</td>\n",
              "      <td>2451839.0</td>\n",
              "      <td>None</td>\n",
              "      <td>Eshleman, SH</td>\n",
              "      <td>[Adult, Genotype, Humans, Male]</td>\n",
              "      <td>[African Americans, Anti-HIV Agents/therapeuti...</td>\n",
              "      <td>25861015</td>\n",
              "      <td>2015.0</td>\n",
              "      <td>Antiretroviral Drug Use and HIV Drug Resistanc...</td>\n",
              "    </tr>\n",
              "    <tr>\n",
              "      <th>1</th>\n",
              "      <td>[{'forename': 'Andrew D', 'affiliation': 'Divi...</td>\n",
              "      <td>10.1136/sextrans-2014-051867</td>\n",
              "      <td>Sexually transmitted infections</td>\n",
              "      <td>eng</td>\n",
              "      <td>{'affiliation': 'Division of Intramural Resear...</td>\n",
              "      <td>United States</td>\n",
              "      <td>None</td>\n",
              "      <td>2055060.0</td>\n",
              "      <td>None</td>\n",
              "      <td>Reynolds, SJ</td>\n",
              "      <td>[Adult, C-Reactive Protein/analysis, Disease P...</td>\n",
              "      <td>[Acyclovir/therapeutic use, Antiviral Agents/t...</td>\n",
              "      <td>25904747</td>\n",
              "      <td>2015.0</td>\n",
              "      <td>Decreased monocyte activation with daily acycl...</td>\n",
              "    </tr>\n",
              "    <tr>\n",
              "      <th>2</th>\n",
              "      <td>[{'forename': 'Molly', 'affiliation': 'From th...</td>\n",
              "      <td>None</td>\n",
              "      <td>Sexually transmitted diseases</td>\n",
              "      <td>eng</td>\n",
              "      <td>None</td>\n",
              "      <td>Ghana</td>\n",
              "      <td>None</td>\n",
              "      <td>2379925.0</td>\n",
              "      <td>None</td>\n",
              "      <td>Kahn, K</td>\n",
              "      <td>[Adolescent, Commerce, Cross-Sectional Studies...</td>\n",
              "      <td>[Alcohol Drinking/adverse effects, Condoms/sta...</td>\n",
              "      <td>25868138</td>\n",
              "      <td>2015.0</td>\n",
              "      <td>Relationship between community-level alcohol o...</td>\n",
              "    </tr>\n",
              "    <tr>\n",
              "      <th>3</th>\n",
              "      <td>[{'forename': 'Ruchi M', 'affiliation': 'Broad...</td>\n",
              "      <td>None</td>\n",
              "      <td>Journal of virology</td>\n",
              "      <td>eng</td>\n",
              "      <td>{'affiliation': 'Department of Microbiology an...</td>\n",
              "      <td>United States</td>\n",
              "      <td>None</td>\n",
              "      <td>1634716.0</td>\n",
              "      <td>Harvard Medical School</td>\n",
              "      <td>Knipe, DM</td>\n",
              "      <td>[Geography, Herpesvirus 2, Human/classificatio...</td>\n",
              "      <td>[Genetic Variation, Genome, Viral]</td>\n",
              "      <td>26018166</td>\n",
              "      <td>2015.0</td>\n",
              "      <td>Genome Sequencing and Analysis of Geographical...</td>\n",
              "    </tr>\n",
              "    <tr>\n",
              "      <th>4</th>\n",
              "      <td>[{'forename': 'Susanna L', 'affiliation': 'Bio...</td>\n",
              "      <td>None</td>\n",
              "      <td>Journal of virology</td>\n",
              "      <td>eng</td>\n",
              "      <td>{'affiliation': 'Laboratory of Immunoregulatio...</td>\n",
              "      <td>United States</td>\n",
              "      <td>None</td>\n",
              "      <td>1696360.0</td>\n",
              "      <td>Mount Auburn Hospital</td>\n",
              "      <td>Quinn, TC</td>\n",
              "      <td>[Animals, Humans, Phylogeny]</td>\n",
              "      <td>[Glycoproteins/metabolism, Herpesvirus 1, Huma...</td>\n",
              "      <td>26018161</td>\n",
              "      <td>2015.0</td>\n",
              "      <td>Global Diversity within and between Human Herp...</td>\n",
              "    </tr>\n",
              "  </tbody>\n",
              "</table>\n",
              "</div>"
            ],
            "text/plain": [
              "                                             authors  ...                                              title\n",
              "0  [{'forename': 'Iris', 'affiliation': '*Departm...  ...  Antiretroviral Drug Use and HIV Drug Resistanc...\n",
              "1  [{'forename': 'Andrew D', 'affiliation': 'Divi...  ...  Decreased monocyte activation with daily acycl...\n",
              "2  [{'forename': 'Molly', 'affiliation': 'From th...  ...  Relationship between community-level alcohol o...\n",
              "3  [{'forename': 'Ruchi M', 'affiliation': 'Broad...  ...  Genome Sequencing and Analysis of Geographical...\n",
              "4  [{'forename': 'Susanna L', 'affiliation': 'Bio...  ...  Global Diversity within and between Human Herp...\n",
              "\n",
              "[5 rows x 15 columns]"
            ]
          },
          "metadata": {
            "tags": []
          },
          "execution_count": 9
        }
      ]
    },
    {
      "cell_type": "code",
      "metadata": {
        "id": "oSBljZWmszEN",
        "colab_type": "code",
        "colab": {}
      },
      "source": [
        "#Make sure both df's have the same column names\n",
        "df_nih.rename(columns={'cleaned_name':'last_author_name',\n",
        "                          'PMID':'pmid'}, \n",
        "                 inplace=True)"
      ],
      "execution_count": 0,
      "outputs": []
    },
    {
      "cell_type": "code",
      "metadata": {
        "id": "mBaBl8ugs8E_",
        "colab_type": "code",
        "colab": {}
      },
      "source": [
        "df_join = pd.merge(left=df_nih, right=df_aca_r, how=\"inner\",on=['last_author_name','pmid'],suffixes=('_nih','_aca_r'))"
      ],
      "execution_count": 0,
      "outputs": []
    },
    {
      "cell_type": "code",
      "metadata": {
        "id": "VXoVQg4VLO4l",
        "colab_type": "code",
        "outputId": "8ff3c53a-7148-4c77-adc0-6dc3ed2e5618",
        "colab": {
          "base_uri": "https://localhost:8080/",
          "height": 168
        }
      },
      "source": [
        "df_aca_r[df_aca_r.pmid == 29956882]"
      ],
      "execution_count": 12,
      "outputs": [
        {
          "output_type": "execute_result",
          "data": {
            "text/html": [
              "<div>\n",
              "<style scoped>\n",
              "    .dataframe tbody tr th:only-of-type {\n",
              "        vertical-align: middle;\n",
              "    }\n",
              "\n",
              "    .dataframe tbody tr th {\n",
              "        vertical-align: top;\n",
              "    }\n",
              "\n",
              "    .dataframe thead th {\n",
              "        text-align: right;\n",
              "    }\n",
              "</style>\n",
              "<table border=\"1\" class=\"dataframe\">\n",
              "  <thead>\n",
              "    <tr style=\"text-align: right;\">\n",
              "      <th></th>\n",
              "      <th>authors</th>\n",
              "      <th>doi</th>\n",
              "      <th>journal_name</th>\n",
              "      <th>language</th>\n",
              "      <th>last_author</th>\n",
              "      <th>last_author_country</th>\n",
              "      <th>last_author_email</th>\n",
              "      <th>last_author_id</th>\n",
              "      <th>last_author_inst</th>\n",
              "      <th>last_author_name</th>\n",
              "      <th>mesh</th>\n",
              "      <th>mesh_major</th>\n",
              "      <th>pmid</th>\n",
              "      <th>pub_year</th>\n",
              "      <th>title</th>\n",
              "    </tr>\n",
              "  </thead>\n",
              "  <tbody>\n",
              "    <tr>\n",
              "      <th>41788</th>\n",
              "      <td>[{'forename': 'Michelle L', 'affiliation': 'De...</td>\n",
              "      <td>10.1002/jia2.25149</td>\n",
              "      <td>Journal of the International AIDS Society</td>\n",
              "      <td>eng</td>\n",
              "      <td>{'affiliation': 'Kirby Institute, UNSW, Sydney...</td>\n",
              "      <td>Australia</td>\n",
              "      <td>None</td>\n",
              "      <td>70221.0</td>\n",
              "      <td>None</td>\n",
              "      <td>Law, M</td>\n",
              "      <td>[Adult, CD4 Lymphocyte Count, Cohort Studies, ...</td>\n",
              "      <td>[Anti-HIV Agents/therapeutic use, HIV Infectio...</td>\n",
              "      <td>29956882</td>\n",
              "      <td>2018.0</td>\n",
              "      <td>Sex-based differences in antiretroviral therap...</td>\n",
              "    </tr>\n",
              "  </tbody>\n",
              "</table>\n",
              "</div>"
            ],
            "text/plain": [
              "                                                 authors  ...                                              title\n",
              "41788  [{'forename': 'Michelle L', 'affiliation': 'De...  ...  Sex-based differences in antiretroviral therap...\n",
              "\n",
              "[1 rows x 15 columns]"
            ]
          },
          "metadata": {
            "tags": []
          },
          "execution_count": 12
        }
      ]
    },
    {
      "cell_type": "code",
      "metadata": {
        "id": "UE4B5CZtt5RF",
        "colab_type": "code",
        "colab": {}
      },
      "source": [
        "#check for duplicates\n",
        "df_join.drop_duplicates(subset=['pmid','PI_IDS','last_author_name'],keep='first',inplace=True)"
      ],
      "execution_count": 0,
      "outputs": []
    },
    {
      "cell_type": "code",
      "metadata": {
        "id": "m33zMr9nL1Zc",
        "colab_type": "code",
        "outputId": "e4cff601-7b89-4791-8558-e7242028336b",
        "colab": {
          "base_uri": "https://localhost:8080/",
          "height": 34
        }
      },
      "source": [
        "df_join.shape"
      ],
      "execution_count": 14,
      "outputs": [
        {
          "output_type": "execute_result",
          "data": {
            "text/plain": [
              "(196609, 17)"
            ]
          },
          "metadata": {
            "tags": []
          },
          "execution_count": 14
        }
      ]
    },
    {
      "cell_type": "markdown",
      "metadata": {
        "id": "IXXoHQeaxMBC",
        "colab_type": "text"
      },
      "source": [
        "We have 196K of datapoints here with labeles ID's for pubmed."
      ]
    },
    {
      "cell_type": "code",
      "metadata": {
        "id": "so0zCJ7pwnJ4",
        "colab_type": "code",
        "outputId": "24e2f9ed-a122-4354-ec9c-4fbb68ec8cd5",
        "colab": {
          "base_uri": "https://localhost:8080/",
          "height": 34
        }
      },
      "source": [
        "np.any(df_join.groupby(['pmid','PI_IDS']).size() > 1)"
      ],
      "execution_count": 15,
      "outputs": [
        {
          "output_type": "execute_result",
          "data": {
            "text/plain": [
              "False"
            ]
          },
          "metadata": {
            "tags": []
          },
          "execution_count": 15
        }
      ]
    },
    {
      "cell_type": "markdown",
      "metadata": {
        "id": "qO9BYESSxH_5",
        "colab_type": "text"
      },
      "source": [
        "***Repeat for non enriched dataset.***"
      ]
    },
    {
      "cell_type": "code",
      "metadata": {
        "id": "yHclGmPuxKQB",
        "colab_type": "code",
        "colab": {}
      },
      "source": [
        "df_join_nr = pd.merge(left=df_nih, right=df_aca_nr, how=\"inner\",on=['last_author_name','pmid'],suffixes=('_nih','_aca_nr'))"
      ],
      "execution_count": 0,
      "outputs": []
    },
    {
      "cell_type": "code",
      "metadata": {
        "id": "8ebXZ4BHxkRY",
        "colab_type": "code",
        "colab": {}
      },
      "source": [
        "#check for duplicates\n",
        "df_join_nr.drop_duplicates(keep=\"first\",inplace=True)"
      ],
      "execution_count": 0,
      "outputs": []
    },
    {
      "cell_type": "code",
      "metadata": {
        "id": "E2yDVCD0xlMm",
        "colab_type": "code",
        "outputId": "c5a6861c-45a2-42ae-dfd1-2e65b953b9db",
        "colab": {
          "base_uri": "https://localhost:8080/",
          "height": 34
        }
      },
      "source": [
        "df_join_nr.shape"
      ],
      "execution_count": 18,
      "outputs": [
        {
          "output_type": "execute_result",
          "data": {
            "text/plain": [
              "(22384, 12)"
            ]
          },
          "metadata": {
            "tags": []
          },
          "execution_count": 18
        }
      ]
    },
    {
      "cell_type": "code",
      "metadata": {
        "id": "3s4-xEwzyOu8",
        "colab_type": "code",
        "outputId": "a38cacc5-5c5f-460b-fac8-22fb56c42c31",
        "colab": {
          "base_uri": "https://localhost:8080/",
          "height": 34
        }
      },
      "source": [
        "np.any(df_join_nr.groupby(['pmid','PI_IDS']).size() > 1)"
      ],
      "execution_count": 19,
      "outputs": [
        {
          "output_type": "execute_result",
          "data": {
            "text/plain": [
              "True"
            ]
          },
          "metadata": {
            "tags": []
          },
          "execution_count": 19
        }
      ]
    },
    {
      "cell_type": "code",
      "metadata": {
        "id": "_Mb8iXERqUMt",
        "colab_type": "code",
        "colab": {}
      },
      "source": [
        "#Want to keep people only where they're # of PI_IDS <= # of pmid\n",
        "#This will correct the dirty data pre-existing within the NIH Dataset\n",
        "\n",
        "#Enriched dataset\n",
        "author_list = df_join.groupby('last_author_name')[['PI_IDS','pmid']].nunique()\n",
        "good_authors = author_list[author_list['PI_IDS'] <= author_list['pmid']].index\n",
        "df_join = df_join.loc[df_join['last_author_name'].isin(good_authors)]\n",
        "\n",
        "#Non-enriched dataset\n",
        "\n",
        "author_list = df_join_nr.groupby('last_author_name')[['PI_IDS','pmid']].nunique()\n",
        "good_authors = author_list[author_list['PI_IDS'] <= author_list['pmid']].index\n",
        "df_join_nr = df_join_nr.loc[df_join_nr['last_author_name'].isin(good_authors)]"
      ],
      "execution_count": 0,
      "outputs": []
    },
    {
      "cell_type": "markdown",
      "metadata": {
        "id": "vQg4fYthawK6",
        "colab_type": "text"
      },
      "source": [
        "Found that in the NIH dataset, the same pmid with the same last_author_name was given two dif. PI_IDS, which is an obvious flaw so we drop those duplicates so that our data is cleaner."
      ]
    },
    {
      "cell_type": "code",
      "metadata": {
        "id": "6t0_oibkTvVu",
        "colab_type": "code",
        "colab": {
          "base_uri": "https://localhost:8080/",
          "height": 34
        },
        "outputId": "c2582817-faaf-4f68-dd26-222eaa27fc6a"
      },
      "source": [
        "df_test = df_join.groupby(['pmid','last_author_name'])[['PI_IDS']].nunique()\n",
        "df_test_fix = df_test[df_test.PI_IDS > 1].reset_index()\n",
        "for row in df_test_fix.iterrows():\n",
        "  t_pmid,t_lan,_ = row[1]\n",
        "  df_fix = df_join[(df_join.pmid == t_pmid) & (df_join.last_author_name == t_lan)]\n",
        "  f_pid = df_fix.iloc[0].PI_IDS\n",
        "  df_join.loc[(df_join.pmid == t_pmid) & (df_join.last_author_name == t_lan),'PI_IDS'] = f_pid\n",
        "df_join.drop_duplicates(subset=['pmid','last_author_name'], keep='first',inplace=True)\n",
        "np.any(df_join.duplicated(subset=['pmid','last_author_name']))"
      ],
      "execution_count": 21,
      "outputs": [
        {
          "output_type": "execute_result",
          "data": {
            "text/plain": [
              "False"
            ]
          },
          "metadata": {
            "tags": []
          },
          "execution_count": 21
        }
      ]
    },
    {
      "cell_type": "code",
      "metadata": {
        "id": "bcPA-CagaJBo",
        "colab_type": "code",
        "colab": {
          "base_uri": "https://localhost:8080/",
          "height": 34
        },
        "outputId": "0670fae1-3b27-488e-f847-03b100eefed0"
      },
      "source": [
        "df_test = df_join_nr.groupby(['pmid','last_author_name'])[['PI_IDS']].nunique()\n",
        "df_test_fix = df_test[df_test.PI_IDS > 1].reset_index()\n",
        "for row in df_test_fix.iterrows():\n",
        "  t_pmid,t_lan,_ = row[1]\n",
        "  df_fix = df_join_nr[(df_join_nr.pmid == t_pmid) & (df_join_nr.last_author_name == t_lan)]\n",
        "  f_pid = df_fix.iloc[0].PI_IDS\n",
        "  df_join_nr.loc[(df_join_nr.pmid == t_pmid) & (df_join_nr.last_author_name == t_lan),'PI_IDS'] = f_pid\n",
        "df_join_nr.drop_duplicates(subset=['pmid','last_author_name'], keep='first',inplace=True)\n",
        "np.any(df_join_nr.duplicated(subset=['pmid','last_author_name']))"
      ],
      "execution_count": 22,
      "outputs": [
        {
          "output_type": "execute_result",
          "data": {
            "text/plain": [
              "False"
            ]
          },
          "metadata": {
            "tags": []
          },
          "execution_count": 22
        }
      ]
    },
    {
      "cell_type": "markdown",
      "metadata": {
        "id": "Wyf6WtA-cXaJ",
        "colab_type": "text"
      },
      "source": [
        "Also need to ensure that for each PI_IDS there is only one last_author_name:"
      ]
    },
    {
      "cell_type": "code",
      "metadata": {
        "id": "LOD56H-ObODw",
        "colab_type": "code",
        "colab": {}
      },
      "source": [
        "test =df_join.groupby('PI_IDS')[['last_author_name']].nunique()\n",
        "fix_PIIDS = test[test.last_author_name > 1].index\n",
        "for pid in fix_PIIDS:\n",
        "  longest_name = max(list(df_join[df_join.PI_IDS == pid].last_author_name.unique()),key=len)\n",
        "  df_join.loc[df_join.PI_IDS == pid,'last_author_name'] = longest_name"
      ],
      "execution_count": 0,
      "outputs": []
    },
    {
      "cell_type": "code",
      "metadata": {
        "id": "QP9bwokWdll6",
        "colab_type": "code",
        "colab": {}
      },
      "source": [
        "test = df_join_nr.groupby('PI_IDS')[['last_author_name']].nunique()\n",
        "fix_PIIDS = test[test.last_author_name > 1].index\n",
        "for pid in fix_PIIDS:\n",
        "  longest_name = max(list(df_join_nr[df_join_nr.PI_IDS == pid].last_author_name.unique()),key=len)\n",
        "  df_join_nr.loc[df_join_nr.PI_IDS == pid,'last_author_name'] = longest_name"
      ],
      "execution_count": 0,
      "outputs": []
    },
    {
      "cell_type": "markdown",
      "metadata": {
        "id": "V6N4BEHeyxY0",
        "colab_type": "text"
      },
      "source": [
        "##Upload to S3"
      ]
    },
    {
      "cell_type": "code",
      "metadata": {
        "id": "emSQL00ezGfd",
        "colab_type": "code",
        "colab": {}
      },
      "source": [
        "df_join.to_json('enriched_labeled_dataset_large.json', orient=\"records\")"
      ],
      "execution_count": 0,
      "outputs": []
    },
    {
      "cell_type": "code",
      "metadata": {
        "id": "xKM6VxnYNET_",
        "colab_type": "code",
        "colab": {}
      },
      "source": [
        "file = open(\"enriched_labeled_dataset_large.json\", \"r+\")\n",
        "utils.upload_to_s3(file=file,key= file.name)\n",
        "file.close()"
      ],
      "execution_count": 0,
      "outputs": []
    },
    {
      "cell_type": "code",
      "metadata": {
        "id": "IZPz6ye4Fc8y",
        "colab_type": "code",
        "colab": {}
      },
      "source": [
        "df_join_nr.to_csv('not_enriched_labeled_dataset_large.csv')"
      ],
      "execution_count": 0,
      "outputs": []
    },
    {
      "cell_type": "code",
      "metadata": {
        "id": "xI-PHPgdFmU-",
        "colab_type": "code",
        "colab": {}
      },
      "source": [
        "file = open(\"not_enriched_labeled_dataset_large.csv\", \"r+\")\n",
        "utils.upload_to_s3(file=file,key = file.name)\n",
        "file.close()"
      ],
      "execution_count": 0,
      "outputs": []
    },
    {
      "cell_type": "markdown",
      "metadata": {
        "id": "TmiOci5UPFUh",
        "colab_type": "text"
      },
      "source": [
        "## Explore Data"
      ]
    },
    {
      "cell_type": "code",
      "metadata": {
        "colab_type": "code",
        "id": "poxtbW_tUKJn",
        "colab": {}
      },
      "source": [
        "df_join_test = df_join[[\"pmid\",\"PI_IDS\",\"last_author_name\"]]"
      ],
      "execution_count": 0,
      "outputs": []
    },
    {
      "cell_type": "code",
      "metadata": {
        "id": "aLJZX1ApNDAz",
        "colab_type": "code",
        "outputId": "77c01a3e-523f-41f1-efaa-29cbcb78534f",
        "colab": {
          "base_uri": "https://localhost:8080/",
          "height": 34
        }
      },
      "source": [
        "df_join_test['PI_IDS'].nunique()"
      ],
      "execution_count": 0,
      "outputs": [
        {
          "output_type": "execute_result",
          "data": {
            "text/plain": [
              "28997"
            ]
          },
          "metadata": {
            "tags": []
          },
          "execution_count": 47
        }
      ]
    },
    {
      "cell_type": "code",
      "metadata": {
        "id": "MekI-3wwMg9d",
        "colab_type": "code",
        "colab": {}
      },
      "source": [
        "num_da = df_join_test.groupby('last_author_name')['PI_IDS'].nunique().value_counts().sort_index()[1:]\n",
        "idx = num_da.index\n",
        "val = num_da"
      ],
      "execution_count": 0,
      "outputs": []
    },
    {
      "cell_type": "code",
      "metadata": {
        "id": "bY7ssKfzNq9P",
        "colab_type": "code",
        "outputId": "beac8075-adad-447f-b36e-6f3364f56a4f",
        "colab": {
          "base_uri": "https://localhost:8080/",
          "height": 268
        }
      },
      "source": [
        "sns.scatterplot(idx,val,);"
      ],
      "execution_count": 0,
      "outputs": [
        {
          "output_type": "display_data",
          "data": {
            "image/png": "[encoded data removed]",
            "text/plain": [
              "<Figure size 432x288 with 1 Axes>"
            ]
          },
          "metadata": {
            "tags": []
          }
        }
      ]
    },
    {
      "cell_type": "markdown",
      "metadata": {
        "id": "kktSFJSBPPTw",
        "colab_type": "text"
      },
      "source": [
        "Number of total unique ID's: 29k<br>\n",
        "Number of total unique last names: 27k<br><br>\n",
        "\n",
        "The number of last_names that match with 2 dif. IDs are - 678 <br>\n",
        "The number of last_names that match with 3 dif. IDs are - 139 <br>\n",
        "The number of last_names that match with 4 dif. IDs are - 46\n",
        "..."
      ]
    },
    {
      "cell_type": "code",
      "metadata": {
        "id": "3_Ah1IwWMHla",
        "colab_type": "code",
        "outputId": "158431d9-931f-4f8c-9c74-ae0cb967b631",
        "colab": {
          "base_uri": "https://localhost:8080/",
          "height": 238
        }
      },
      "source": [
        "num_auth_per_name =  df_join_test.groupby('last_author_name')['PI_IDS'].nunique()\n",
        "num_auth_per_name[num_auth_per_name == 1]"
      ],
      "execution_count": 0,
      "outputs": [
        {
          "output_type": "execute_result",
          "data": {
            "text/plain": [
              "last_author_name\n",
              "Aagaard, KM     1\n",
              "Aaron, RK       1\n",
              "Aarons, G       1\n",
              "Aaronson, SA    1\n",
              "Abadir, PM      1\n",
              "               ..\n",
              "Zweifach, A     1\n",
              "Zweifel, LS     1\n",
              "Zwick, MB       1\n",
              "Zwick, ME       1\n",
              "Zylka, MJ       1\n",
              "Name: PI_IDS, Length: 26249, dtype: int64"
            ]
          },
          "metadata": {
            "tags": []
          },
          "execution_count": 25
        }
      ]
    },
    {
      "cell_type": "code",
      "metadata": {
        "id": "F842Y4S1PgQs",
        "colab_type": "code",
        "outputId": "845d3a01-198e-49bd-8404-58923029a88a",
        "colab": {
          "base_uri": "https://localhost:8080/",
          "height": 163
        }
      },
      "source": [
        "author_list = df_join_test.groupby('last_author_name')[['PI_IDS','pmid']].nunique()"
      ],
      "execution_count": 0,
      "outputs": [
        {
          "output_type": "error",
          "ename": "NameError",
          "evalue": "ignored",
          "traceback": [
            "\u001b[0;31m---------------------------------------------------------------------------\u001b[0m",
            "\u001b[0;31mNameError\u001b[0m                                 Traceback (most recent call last)",
            "\u001b[0;32m<ipython-input-19-c69db010b2aa>\u001b[0m in \u001b[0;36m<module>\u001b[0;34m()\u001b[0m\n\u001b[0;32m----> 1\u001b[0;31m \u001b[0mauthor_list\u001b[0m \u001b[0;34m=\u001b[0m \u001b[0mdf_join_test\u001b[0m\u001b[0;34m.\u001b[0m\u001b[0mgroupby\u001b[0m\u001b[0;34m(\u001b[0m\u001b[0;34m'last_author_name'\u001b[0m\u001b[0;34m)\u001b[0m\u001b[0;34m[\u001b[0m\u001b[0;34m[\u001b[0m\u001b[0;34m'PI_IDS'\u001b[0m\u001b[0;34m,\u001b[0m\u001b[0;34m'pmid'\u001b[0m\u001b[0;34m]\u001b[0m\u001b[0;34m]\u001b[0m\u001b[0;34m.\u001b[0m\u001b[0mnunique\u001b[0m\u001b[0;34m(\u001b[0m\u001b[0;34m)\u001b[0m\u001b[0;34m\u001b[0m\u001b[0;34m\u001b[0m\u001b[0m\n\u001b[0m",
            "\u001b[0;31mNameError\u001b[0m: name 'df_join_test' is not defined"
          ]
        }
      ]
    },
    {
      "cell_type": "code",
      "metadata": {
        "id": "jXcJkSm2QhLz",
        "colab_type": "code",
        "outputId": "dac5342e-dc02-4ae8-b35c-9d9404ab6d4c",
        "colab": {
          "base_uri": "https://localhost:8080/",
          "height": 450
        }
      },
      "source": [
        "author_list[(author_list['PI_IDS'] < author_list['pmid']) & (author_list['PI_IDS'] > 1)].sort_values(by=\"pmid\",ascending=False)"
      ],
      "execution_count": 0,
      "outputs": [
        {
          "output_type": "execute_result",
          "data": {
            "text/html": [
              "<div>\n",
              "<style scoped>\n",
              "    .dataframe tbody tr th:only-of-type {\n",
              "        vertical-align: middle;\n",
              "    }\n",
              "\n",
              "    .dataframe tbody tr th {\n",
              "        vertical-align: top;\n",
              "    }\n",
              "\n",
              "    .dataframe thead th {\n",
              "        text-align: right;\n",
              "    }\n",
              "</style>\n",
              "<table border=\"1\" class=\"dataframe\">\n",
              "  <thead>\n",
              "    <tr style=\"text-align: right;\">\n",
              "      <th></th>\n",
              "      <th>PI_IDS</th>\n",
              "      <th>pmid</th>\n",
              "    </tr>\n",
              "    <tr>\n",
              "      <th>last_author_name</th>\n",
              "      <th></th>\n",
              "      <th></th>\n",
              "    </tr>\n",
              "  </thead>\n",
              "  <tbody>\n",
              "    <tr>\n",
              "      <th>Chen, X</th>\n",
              "      <td>16</td>\n",
              "      <td>147</td>\n",
              "    </tr>\n",
              "    <tr>\n",
              "      <th>Zhang, Y</th>\n",
              "      <td>21</td>\n",
              "      <td>119</td>\n",
              "    </tr>\n",
              "    <tr>\n",
              "      <th>Wang, Y</th>\n",
              "      <td>24</td>\n",
              "      <td>115</td>\n",
              "    </tr>\n",
              "    <tr>\n",
              "      <th>Chen, J</th>\n",
              "      <td>23</td>\n",
              "      <td>97</td>\n",
              "    </tr>\n",
              "    <tr>\n",
              "      <th>Wang, X</th>\n",
              "      <td>26</td>\n",
              "      <td>96</td>\n",
              "    </tr>\n",
              "    <tr>\n",
              "      <th>...</th>\n",
              "      <td>...</td>\n",
              "      <td>...</td>\n",
              "    </tr>\n",
              "    <tr>\n",
              "      <th>Cohen, JB</th>\n",
              "      <td>2</td>\n",
              "      <td>3</td>\n",
              "    </tr>\n",
              "    <tr>\n",
              "      <th>Sullivan, JM</th>\n",
              "      <td>2</td>\n",
              "      <td>3</td>\n",
              "    </tr>\n",
              "    <tr>\n",
              "      <th>Sun, K</th>\n",
              "      <td>2</td>\n",
              "      <td>3</td>\n",
              "    </tr>\n",
              "    <tr>\n",
              "      <th>Cowart, LA</th>\n",
              "      <td>2</td>\n",
              "      <td>3</td>\n",
              "    </tr>\n",
              "    <tr>\n",
              "      <th>Smith, JA</th>\n",
              "      <td>2</td>\n",
              "      <td>3</td>\n",
              "    </tr>\n",
              "  </tbody>\n",
              "</table>\n",
              "<p>847 rows × 2 columns</p>\n",
              "</div>"
            ],
            "text/plain": [
              "                  PI_IDS  pmid\n",
              "last_author_name              \n",
              "Chen, X               16   147\n",
              "Zhang, Y              21   119\n",
              "Wang, Y               24   115\n",
              "Chen, J               23    97\n",
              "Wang, X               26    96\n",
              "...                  ...   ...\n",
              "Cohen, JB              2     3\n",
              "Sullivan, JM           2     3\n",
              "Sun, K                 2     3\n",
              "Cowart, LA             2     3\n",
              "Smith, JA              2     3\n",
              "\n",
              "[847 rows x 2 columns]"
            ]
          },
          "metadata": {
            "tags": []
          },
          "execution_count": 51
        }
      ]
    },
    {
      "cell_type": "code",
      "metadata": {
        "id": "q5fzTD7aLgmn",
        "colab_type": "code",
        "outputId": "b7aefec6-71d6-43df-cbe2-5e527ccb751f",
        "colab": {
          "base_uri": "https://localhost:8080/",
          "height": 268
        }
      },
      "source": [
        "df_join_test.groupby('PI_IDS')['pmid'].agg('count').hist(bins=30,xscale);"
      ],
      "execution_count": 0,
      "outputs": [
        {
          "output_type": "display_data",
          "data": {
            "image/png": "[encoded data removed]",
            "text/plain": [
              "<Figure size 432x288 with 1 Axes>"
            ]
          },
          "metadata": {
            "tags": []
          }
        }
      ]
    },
    {
      "cell_type": "code",
      "metadata": {
        "id": "7zQ_-1naRmWl",
        "colab_type": "code",
        "colab": {}
      },
      "source": [
        "dist_x = np.array(df_join_test.groupby('PI_IDS')['pmid'].agg('count').value_counts().index)\n",
        "dist_y = np.array(df_join_test.groupby('PI_IDS')['pmid'].agg('count').value_counts())"
      ],
      "execution_count": 0,
      "outputs": []
    },
    {
      "cell_type": "code",
      "metadata": {
        "id": "xYQFnh93RoNj",
        "colab_type": "code",
        "outputId": "bbdcdaa9-46e1-4564-dbd5-f44536dba34b",
        "colab": {
          "base_uri": "https://localhost:8080/",
          "height": 274
        }
      },
      "source": [
        "plt.scatter(dist_x,dist_y)\n",
        "plt.xscale(\"log\")\n",
        "plt.yscale(\"log\")"
      ],
      "execution_count": 0,
      "outputs": [
        {
          "output_type": "display_data",
          "data": {
            "image/png": "[encoded data removed]",
            "text/plain": [
              "<Figure size 432x288 with 1 Axes>"
            ]
          },
          "metadata": {
            "tags": []
          }
        }
      ]
    },
    {
      "cell_type": "code",
      "metadata": {
        "id": "D-bAU_gWMSFL",
        "colab_type": "code",
        "outputId": "afbf7949-0e94-4d99-91cc-f3fa52904b79",
        "colab": {
          "base_uri": "https://localhost:8080/",
          "height": 816
        }
      },
      "source": [
        "df_join_test.groupby('PI_IDS')['pmid'].agg('count').value_counts()"
      ],
      "execution_count": 0,
      "outputs": [
        {
          "output_type": "execute_result",
          "data": {
            "text/plain": [
              "1     10177\n",
              "2      5904\n",
              "3      3856\n",
              "4      2557\n",
              "5      1786\n",
              "6      1267\n",
              "7       855\n",
              "8       661\n",
              "9       418\n",
              "10      332\n",
              "11      261\n",
              "12      199\n",
              "13      148\n",
              "15      116\n",
              "14       87\n",
              "17       60\n",
              "16       56\n",
              "18       48\n",
              "20       32\n",
              "19       28\n",
              "21       28\n",
              "22       23\n",
              "23       16\n",
              "24       10\n",
              "26        9\n",
              "27        8\n",
              "25        7\n",
              "28        7\n",
              "34        6\n",
              "32        5\n",
              "31        4\n",
              "29        4\n",
              "33        3\n",
              "35        3\n",
              "36        2\n",
              "38        2\n",
              "54        2\n",
              "30        2\n",
              "44        1\n",
              "56        1\n",
              "75        1\n",
              "40        1\n",
              "43        1\n",
              "37        1\n",
              "55        1\n",
              "52        1\n",
              "Name: pmid, dtype: int64"
            ]
          },
          "metadata": {
            "tags": []
          },
          "execution_count": 53
        }
      ]
    },
    {
      "cell_type": "code",
      "metadata": {
        "id": "QWYAIH9eOg64",
        "colab_type": "code",
        "colab": {}
      },
      "source": [
        ""
      ],
      "execution_count": 0,
      "outputs": []
    }
  ]
}