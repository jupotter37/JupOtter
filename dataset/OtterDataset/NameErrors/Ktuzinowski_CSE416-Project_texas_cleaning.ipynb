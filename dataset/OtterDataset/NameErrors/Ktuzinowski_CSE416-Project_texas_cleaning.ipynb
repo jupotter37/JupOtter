{
 "cells": [
  {
   "cell_type": "code",
   "execution_count": 1,
   "metadata": {},
   "outputs": [],
   "source": [
    "import geopandas as gpd"
   ]
  },
  {
   "cell_type": "markdown",
   "metadata": {},
   "source": [
    "## Texas Precinct Cleaning"
   ]
  },
  {
   "cell_type": "code",
   "execution_count": 2,
   "metadata": {},
   "outputs": [
    {
     "name": "stdout",
     "output_type": "stream",
     "text": [
      "   CNTY  COLOR  PREC   PCTKEY  CNTYKEY  G20VR  G20SSVR  G20PRERTRU  \\\n",
      "0   113      7  1104  1131104       57   2745     39.5         221   \n",
      "1   201      2  0312  2010312      101   3973     11.3        1124   \n",
      "2   351      4  0003  3510003      176    626      1.1         412   \n",
      "3   181      4  0304  1810304       91   3058      4.5        1290   \n",
      "4   201      2  0877  2010877      101   5743     27.1        1352   \n",
      "\n",
      "   G20PREDBID  G20PRELJOR  ...  G20SCCDBIR  C_TOT20  C_WHT20  C_BLK20  \\\n",
      "0        1173           7  ...        1162  5838.24   163.87  1279.49   \n",
      "1        1460          21  ...        1345  7205.53  3282.30  1884.00   \n",
      "2          28           0  ...          31   934.30   922.73     0.00   \n",
      "3         676          29  ...         619  4857.44  3410.96   908.94   \n",
      "4        2554          43  ...        2490  9865.82  1459.26  2882.58   \n",
      "\n",
      "   C_HSP20  C_ASN20  C_AIA20  C_NHP20  C_2OM20  \\\n",
      "0  4358.57     0.00     0.00     9.34      0.0   \n",
      "1  1308.67   641.17    69.00     0.00      0.0   \n",
      "2     5.82     0.00     0.00     0.00      0.0   \n",
      "3   147.20   137.99   276.53     0.00     10.0   \n",
      "4  5051.91   388.85    68.55     0.00      0.0   \n",
      "\n",
      "                                            geometry  \n",
      "0  MULTIPOLYGON (((721018.74 3624264.239, 721021....  \n",
      "1  MULTIPOLYGON (((836708.731 3295423.758, 836717...  \n",
      "2  MULTIPOLYGON (((1009076.553 3451230.248, 10090...  \n",
      "3  MULTIPOLYGON (((720126.266 3726117.785, 720147...  \n",
      "4  MULTIPOLYGON (((813359.332 3308655.067, 813368...  \n",
      "\n",
      "[5 rows x 46 columns]\n",
      "EPSG:26914\n"
     ]
    }
   ],
   "source": [
    "file_path = \"./clean_data/texas_data/texasAggPrecinct.geojson\"\n",
    "\n",
    "gdf = gpd.read_file(file_path)\n",
    "\n",
    "print(gdf.head())\n",
    "\n",
    "print(gdf.crs)"
   ]
  },
  {
   "cell_type": "code",
   "execution_count": 3,
   "metadata": {},
   "outputs": [
    {
     "data": {
      "text/plain": [
       "Index(['CNTY', 'COLOR', 'PREC', 'PCTKEY', 'CNTYKEY', 'G20VR', 'G20SSVR',\n",
       "       'G20PRERTRU', 'G20PREDBID', 'G20PRELJOR', 'G20PREGHAW', 'G20PREOWRI',\n",
       "       'G20USSRCOR', 'G20USSDHEG', 'G20USSLMCK', 'G20USSGCOL', 'G20RRCRWRI',\n",
       "       'G20RRCDCAS', 'G20RRCLSTE', 'G20RRCGGRU', 'G20SSCRHEC', 'G20SSCDMEA',\n",
       "       'G20SSCLASH', 'G20SSCRBLA', 'G20SSCDCHE', 'G20SSCRBOY', 'G20SSCDWIL',\n",
       "       'G20SSCLSTR', 'G20SSCRBUS', 'G20SSCDTRI', 'G20SSCLOXF', 'G20SCCRRIC',\n",
       "       'G20SCCDFRI', 'G20SCCRYEA', 'G20SCCDCLI', 'G20SCCRNEW', 'G20SCCDBIR',\n",
       "       'C_TOT20', 'C_WHT20', 'C_BLK20', 'C_HSP20', 'C_ASN20', 'C_AIA20',\n",
       "       'C_NHP20', 'C_2OM20', 'geometry'],\n",
       "      dtype='object')"
      ]
     },
     "execution_count": 3,
     "metadata": {},
     "output_type": "execute_result"
    }
   ],
   "source": [
    "gdf.columns"
   ]
  },
  {
   "cell_type": "code",
   "execution_count": 8,
   "metadata": {},
   "outputs": [],
   "source": [
    "columnNameMapping = {\n",
    "    \"C_TOT20\": \"Population\",\n",
    "    \"PREC\": \"Precinct\",\n",
    "    \"G20PRERTRU\": \"Republican\",\n",
    "    \"G20PREDBID\": \"Democrat\",\n",
    "    \"C_WHT20\": \"White\",\n",
    "    \"C_BLK20\": \"Black\",\n",
    "    \"C_HSP20\": \"Hispanic\",\n",
    "    \"C_ASN20\": \"Asian\",\n",
    "    \"C_NHP20\": \"Pacific\",\n",
    "    \"C_AIA20\": \"Native\",\n",
    "    \"C_2OM20\": \"Other\",\n",
    "    \"geometry\": \"geometry\"\n",
    "}"
   ]
  },
  {
   "cell_type": "code",
   "execution_count": 9,
   "metadata": {},
   "outputs": [
    {
     "data": {
      "text/html": [
       "<div>\n",
       "<style scoped>\n",
       "    .dataframe tbody tr th:only-of-type {\n",
       "        vertical-align: middle;\n",
       "    }\n",
       "\n",
       "    .dataframe tbody tr th {\n",
       "        vertical-align: top;\n",
       "    }\n",
       "\n",
       "    .dataframe thead th {\n",
       "        text-align: right;\n",
       "    }\n",
       "</style>\n",
       "<table border=\"1\" class=\"dataframe\">\n",
       "  <thead>\n",
       "    <tr style=\"text-align: right;\">\n",
       "      <th></th>\n",
       "      <th>Population</th>\n",
       "      <th>Precinct</th>\n",
       "      <th>Republican</th>\n",
       "      <th>Democrat</th>\n",
       "      <th>White</th>\n",
       "      <th>Black</th>\n",
       "      <th>Hispanic</th>\n",
       "      <th>Asian</th>\n",
       "      <th>Pacific</th>\n",
       "      <th>Native</th>\n",
       "      <th>Other</th>\n",
       "      <th>geometry</th>\n",
       "    </tr>\n",
       "  </thead>\n",
       "  <tbody>\n",
       "    <tr>\n",
       "      <th>0</th>\n",
       "      <td>5838.24</td>\n",
       "      <td>1104</td>\n",
       "      <td>221</td>\n",
       "      <td>1173</td>\n",
       "      <td>163.87</td>\n",
       "      <td>1279.49</td>\n",
       "      <td>4358.57</td>\n",
       "      <td>0.00</td>\n",
       "      <td>9.34</td>\n",
       "      <td>0.00</td>\n",
       "      <td>0.0</td>\n",
       "      <td>MULTIPOLYGON (((721018.74 3624264.239, 721021....</td>\n",
       "    </tr>\n",
       "    <tr>\n",
       "      <th>1</th>\n",
       "      <td>7205.53</td>\n",
       "      <td>0312</td>\n",
       "      <td>1124</td>\n",
       "      <td>1460</td>\n",
       "      <td>3282.30</td>\n",
       "      <td>1884.00</td>\n",
       "      <td>1308.67</td>\n",
       "      <td>641.17</td>\n",
       "      <td>0.00</td>\n",
       "      <td>69.00</td>\n",
       "      <td>0.0</td>\n",
       "      <td>MULTIPOLYGON (((836708.731 3295423.758, 836717...</td>\n",
       "    </tr>\n",
       "    <tr>\n",
       "      <th>2</th>\n",
       "      <td>934.30</td>\n",
       "      <td>0003</td>\n",
       "      <td>412</td>\n",
       "      <td>28</td>\n",
       "      <td>922.73</td>\n",
       "      <td>0.00</td>\n",
       "      <td>5.82</td>\n",
       "      <td>0.00</td>\n",
       "      <td>0.00</td>\n",
       "      <td>0.00</td>\n",
       "      <td>0.0</td>\n",
       "      <td>MULTIPOLYGON (((1009076.553 3451230.248, 10090...</td>\n",
       "    </tr>\n",
       "    <tr>\n",
       "      <th>3</th>\n",
       "      <td>4857.44</td>\n",
       "      <td>0304</td>\n",
       "      <td>1290</td>\n",
       "      <td>676</td>\n",
       "      <td>3410.96</td>\n",
       "      <td>908.94</td>\n",
       "      <td>147.20</td>\n",
       "      <td>137.99</td>\n",
       "      <td>0.00</td>\n",
       "      <td>276.53</td>\n",
       "      <td>10.0</td>\n",
       "      <td>MULTIPOLYGON (((720126.266 3726117.785, 720147...</td>\n",
       "    </tr>\n",
       "    <tr>\n",
       "      <th>4</th>\n",
       "      <td>9865.82</td>\n",
       "      <td>0877</td>\n",
       "      <td>1352</td>\n",
       "      <td>2554</td>\n",
       "      <td>1459.26</td>\n",
       "      <td>2882.58</td>\n",
       "      <td>5051.91</td>\n",
       "      <td>388.85</td>\n",
       "      <td>0.00</td>\n",
       "      <td>68.55</td>\n",
       "      <td>0.0</td>\n",
       "      <td>MULTIPOLYGON (((813359.332 3308655.067, 813368...</td>\n",
       "    </tr>\n",
       "  </tbody>\n",
       "</table>\n",
       "</div>"
      ],
      "text/plain": [
       "   Population Precinct  Republican  Democrat    White    Black  Hispanic  \\\n",
       "0     5838.24     1104         221      1173   163.87  1279.49   4358.57   \n",
       "1     7205.53     0312        1124      1460  3282.30  1884.00   1308.67   \n",
       "2      934.30     0003         412        28   922.73     0.00      5.82   \n",
       "3     4857.44     0304        1290       676  3410.96   908.94    147.20   \n",
       "4     9865.82     0877        1352      2554  1459.26  2882.58   5051.91   \n",
       "\n",
       "    Asian  Pacific  Native  Other  \\\n",
       "0    0.00     9.34    0.00    0.0   \n",
       "1  641.17     0.00   69.00    0.0   \n",
       "2    0.00     0.00    0.00    0.0   \n",
       "3  137.99     0.00  276.53   10.0   \n",
       "4  388.85     0.00   68.55    0.0   \n",
       "\n",
       "                                            geometry  \n",
       "0  MULTIPOLYGON (((721018.74 3624264.239, 721021....  \n",
       "1  MULTIPOLYGON (((836708.731 3295423.758, 836717...  \n",
       "2  MULTIPOLYGON (((1009076.553 3451230.248, 10090...  \n",
       "3  MULTIPOLYGON (((720126.266 3726117.785, 720147...  \n",
       "4  MULTIPOLYGON (((813359.332 3308655.067, 813368...  "
      ]
     },
     "execution_count": 9,
     "metadata": {},
     "output_type": "execute_result"
    }
   ],
   "source": [
    "columns_to_keep = list(columnNameMapping.keys())\n",
    "\n",
    "gdf_filtered = gdf[columns_to_keep]\n",
    "\n",
    "gdf_filtered = gdf_filtered.rename(columns=columnNameMapping)\n",
    "\n",
    "gdf_filtered.head()"
   ]
  },
  {
   "cell_type": "code",
   "execution_count": 11,
   "metadata": {},
   "outputs": [
    {
     "name": "stdout",
     "output_type": "stream",
     "text": [
      "['Population', 'Precinct', 'Republican', 'Democrat', 'White', 'Black', 'Hispanic', 'Asian', 'Pacific', 'Native', 'Other', 'geometry']\n",
      "Number of precincts with NaN values in any variable: 5\n",
      "Percentage of precincts with NaN values: 0.06%\n"
     ]
    }
   ],
   "source": [
    "# Check if any of the variables is NaN for a precinct\n",
    "variables = [value for key, value in columnNameMapping.items()]\n",
    "print(variables)\n",
    "precincts_with_nan = gdf_filtered[variables].isnull().any(axis=1)\n",
    "\n",
    "# Count how many precincts have NaN values\n",
    "nan_precincts_count = precincts_with_nan.sum()\n",
    "\n",
    "# Total number of precincts\n",
    "total_precincts = len(gdf_filtered)\n",
    "\n",
    "# Calculate the percentage of precincts with NaN values\n",
    "nan_percentage = (nan_precincts_count / total_precincts) * 100\n",
    "\n",
    "# Display the results\n",
    "print(f\"Number of precincts with NaN values in any variable: {nan_precincts_count}\")\n",
    "print(f\"Percentage of precincts with NaN values: {nan_percentage:.2f}%\")"
   ]
  },
  {
   "cell_type": "code",
   "execution_count": 12,
   "metadata": {},
   "outputs": [],
   "source": [
    "gdf_filtered = gdf_filtered.to_crs(4326)"
   ]
  },
  {
   "cell_type": "code",
   "execution_count": 13,
   "metadata": {},
   "outputs": [
    {
     "name": "stdout",
     "output_type": "stream",
     "text": [
      "['Population', 'Precinct', 'Republican', 'Democrat', 'White', 'Black', 'Hispanic', 'Asian', 'Pacific', 'Native', 'Other', 'geometry']\n",
      "Number of precincts with NaN values in any variable: 5\n",
      "Percentage of precincts with NaN values: 0.06%\n"
     ]
    }
   ],
   "source": [
    "# Check if any of the variables is NaN for a precinct\n",
    "variables = [value for key, value in columnNameMapping.items()]\n",
    "print(variables)\n",
    "precincts_with_nan = gdf_filtered[variables].isnull().any(axis=1)\n",
    "\n",
    "# Count how many precincts have NaN values\n",
    "nan_precincts_count = precincts_with_nan.sum()\n",
    "\n",
    "# Total number of precincts\n",
    "total_precincts = len(gdf_filtered)\n",
    "\n",
    "# Calculate the percentage of precincts with NaN values\n",
    "nan_percentage = (nan_precincts_count / total_precincts) * 100\n",
    "\n",
    "# Display the results\n",
    "print(f\"Number of precincts with NaN values in any variable: {nan_precincts_count}\")\n",
    "print(f\"Percentage of precincts with NaN values: {nan_percentage:.2f}%\")"
   ]
  },
  {
   "cell_type": "code",
   "execution_count": 14,
   "metadata": {},
   "outputs": [],
   "source": [
    "gdf_filtered.to_file(\"./clean_data/texas_data/texas_precinct_data.geojson\", driver=\"GeoJSON\")"
   ]
  },
  {
   "cell_type": "markdown",
   "metadata": {},
   "source": [
    "## Texas Current District Plan Cleaning"
   ]
  },
  {
   "cell_type": "code",
   "execution_count": 2,
   "metadata": {},
   "outputs": [
    {
     "ename": "NameError",
     "evalue": "name 'gpd' is not defined",
     "output_type": "error",
     "traceback": [
      "\u001b[1;31m---------------------------------------------------------------------------\u001b[0m",
      "\u001b[1;31mNameError\u001b[0m                                 Traceback (most recent call last)",
      "Cell \u001b[1;32mIn[2], line 3\u001b[0m\n\u001b[0;32m      1\u001b[0m file_path \u001b[38;5;241m=\u001b[39m \u001b[38;5;124m\"\u001b[39m\u001b[38;5;124m./texas_data/texasAggDistrict.geojson\u001b[39m\u001b[38;5;124m\"\u001b[39m\n\u001b[1;32m----> 3\u001b[0m gdf \u001b[38;5;241m=\u001b[39m \u001b[43mgpd\u001b[49m\u001b[38;5;241m.\u001b[39mread_file(file_path)\n\u001b[0;32m      5\u001b[0m \u001b[38;5;28mprint\u001b[39m(gdf\u001b[38;5;241m.\u001b[39mhead())\n\u001b[0;32m      7\u001b[0m \u001b[38;5;28mprint\u001b[39m(gdf\u001b[38;5;241m.\u001b[39mcrs)\n",
      "\u001b[1;31mNameError\u001b[0m: name 'gpd' is not defined"
     ]
    }
   ],
   "source": [
    "file_path = \"./texas_data/texasAggDistrict.geojson\"\n",
    "\n",
    "gdf = gpd.read_file(file_path)\n",
    "\n",
    "print(gdf.head())\n",
    "\n",
    "print(gdf.crs)"
   ]
  },
  {
   "cell_type": "code",
   "execution_count": 15,
   "metadata": {},
   "outputs": [
    {
     "name": "stdout",
     "output_type": "stream",
     "text": [
      "     Incumbent              REP_NM\n",
      "0   Republican     Nathaniel Moran\n",
      "1   Republican        Dan Crenshaw\n",
      "2   Republican          Keith Self\n",
      "3   Republican          Pat Fallon\n",
      "4   Republican        Lance Gooden\n",
      "5   Republican         Jake Ellzey\n",
      "6     Democrat     Lizzie Fletcher\n",
      "7   Republican     Morgan Luttrell\n",
      "8     Democrat            Al Green\n",
      "9   Republican      Michael McCaul\n",
      "10  Republican      August Pfluger\n",
      "11  Republican         Kay Granger\n",
      "12  Republican       Ronny Jackson\n",
      "13  Republican         Randy Weber\n",
      "14  Republican   Monica De La Cruz\n",
      "15    Democrat    Veronica Escobar\n",
      "16  Republican       Pete Sessions\n",
      "17    Democrat  Sheila Jackson Lee\n",
      "18  Republican     Jodey Arrington\n",
      "19    Democrat      Joaquin Castro\n",
      "20  Republican            Chip Roy\n",
      "21  Republican          Troy Nehls\n",
      "22  Republican       Tony Gonzales\n",
      "23  Republican      Beth Van Duyne\n",
      "24  Republican      Roger Williams\n",
      "25  Republican     Michael Burgess\n",
      "26  Republican       Michael Cloud\n",
      "27    Democrat       Henry Cuellar\n",
      "28    Democrat       Sylvia Garcia\n",
      "29    Democrat    Jasmine Crockett\n",
      "30  Republican         John Carter\n",
      "31    Democrat        Colin Allred\n",
      "32    Democrat         Marc Veasey\n",
      "33    Democrat          Greg Casar\n",
      "34  Republican         Brian Babin\n",
      "35    Democrat       Lloyd Doggett\n",
      "36  Republican         Wesley Hunt\n",
      "37    Democrat    Vicente Gonzalez\n"
     ]
    }
   ],
   "source": [
    "incumbents = [\"Republican\", \"Republican\", \"Republican\", \"Republican\", \"Republican\", \"Republican\", \"Democrat\", \"Republican\", \"Democrat\", \"Republican\", \"Republican\", \"Republican\", \"Republican\", \"Republican\", \"Republican\", \"Democrat\", \"Republican\", \"Democrat\", \"Republican\", \"Democrat\", \"Republican\", \"Republican\", \"Republican\", \"Republican\", \"Republican\", \"Republican\", \"Republican\", \"Democrat\", \"Democrat\", \"Democrat\", \"Republican\", \"Democrat\", \"Democrat\", \"Democrat\", \"Republican\", \"Democrat\", \"Republican\", \"Democrat\"]\n",
    "gdf[\"Incumbent\"] = incumbents\n",
    "display_columns = gdf[[\"Incumbent\", \"REP_NM\"]]\n",
    "print(display_columns)"
   ]
  },
  {
   "cell_type": "code",
   "execution_count": null,
   "metadata": {},
   "outputs": [],
   "source": []
  },
  {
   "cell_type": "code",
   "execution_count": 16,
   "metadata": {},
   "outputs": [
    {
     "data": {
      "text/html": [
       "<div>\n",
       "<style scoped>\n",
       "    .dataframe tbody tr th:only-of-type {\n",
       "        vertical-align: middle;\n",
       "    }\n",
       "\n",
       "    .dataframe tbody tr th {\n",
       "        vertical-align: top;\n",
       "    }\n",
       "\n",
       "    .dataframe thead th {\n",
       "        text-align: right;\n",
       "    }\n",
       "</style>\n",
       "<table border=\"1\" class=\"dataframe\">\n",
       "  <thead>\n",
       "    <tr style=\"text-align: right;\">\n",
       "      <th></th>\n",
       "      <th>Representative</th>\n",
       "      <th>District</th>\n",
       "      <th>Population</th>\n",
       "      <th>White</th>\n",
       "      <th>Black</th>\n",
       "      <th>Hispanic</th>\n",
       "      <th>Asian</th>\n",
       "      <th>Native</th>\n",
       "      <th>Pacific</th>\n",
       "      <th>Other</th>\n",
       "      <th>Republican</th>\n",
       "      <th>Democrat</th>\n",
       "      <th>geometry</th>\n",
       "      <th>Incumbent</th>\n",
       "    </tr>\n",
       "  </thead>\n",
       "  <tbody>\n",
       "    <tr>\n",
       "      <th>0</th>\n",
       "      <td>Nathaniel Moran</td>\n",
       "      <td>1</td>\n",
       "      <td>755951.0</td>\n",
       "      <td>462992.0</td>\n",
       "      <td>134268.0</td>\n",
       "      <td>128887.0</td>\n",
       "      <td>8208.0</td>\n",
       "      <td>1413.0</td>\n",
       "      <td>457.0</td>\n",
       "      <td>1212.0</td>\n",
       "      <td>233263</td>\n",
       "      <td>85451</td>\n",
       "      <td>MULTIPOLYGON (((-94.12964 31.09929, -94.13149 ...</td>\n",
       "      <td>Republican</td>\n",
       "    </tr>\n",
       "    <tr>\n",
       "      <th>1</th>\n",
       "      <td>Dan Crenshaw</td>\n",
       "      <td>2</td>\n",
       "      <td>746875.0</td>\n",
       "      <td>397228.0</td>\n",
       "      <td>76916.0</td>\n",
       "      <td>221684.0</td>\n",
       "      <td>28252.0</td>\n",
       "      <td>1259.0</td>\n",
       "      <td>852.0</td>\n",
       "      <td>1572.0</td>\n",
       "      <td>195333</td>\n",
       "      <td>121928</td>\n",
       "      <td>MULTIPOLYGON (((-95.12464 29.75725, -95.1252 2...</td>\n",
       "      <td>Republican</td>\n",
       "    </tr>\n",
       "    <tr>\n",
       "      <th>2</th>\n",
       "      <td>Keith Self</td>\n",
       "      <td>3</td>\n",
       "      <td>746534.0</td>\n",
       "      <td>445066.0</td>\n",
       "      <td>71208.0</td>\n",
       "      <td>112590.0</td>\n",
       "      <td>87496.0</td>\n",
       "      <td>2140.0</td>\n",
       "      <td>226.0</td>\n",
       "      <td>2983.0</td>\n",
       "      <td>204906</td>\n",
       "      <td>152128</td>\n",
       "      <td>MULTIPOLYGON (((-96.29566 32.8978, -96.29591 3...</td>\n",
       "      <td>Republican</td>\n",
       "    </tr>\n",
       "    <tr>\n",
       "      <th>3</th>\n",
       "      <td>Pat Fallon</td>\n",
       "      <td>4</td>\n",
       "      <td>762614.0</td>\n",
       "      <td>474925.0</td>\n",
       "      <td>65851.0</td>\n",
       "      <td>107312.0</td>\n",
       "      <td>83372.0</td>\n",
       "      <td>3018.0</td>\n",
       "      <td>410.0</td>\n",
       "      <td>2773.0</td>\n",
       "      <td>216555</td>\n",
       "      <td>125752</td>\n",
       "      <td>MULTIPOLYGON (((-95.65981 32.71141, -95.66079 ...</td>\n",
       "      <td>Republican</td>\n",
       "    </tr>\n",
       "    <tr>\n",
       "      <th>4</th>\n",
       "      <td>Lance Gooden</td>\n",
       "      <td>5</td>\n",
       "      <td>756845.0</td>\n",
       "      <td>374352.0</td>\n",
       "      <td>102182.0</td>\n",
       "      <td>222093.0</td>\n",
       "      <td>31884.0</td>\n",
       "      <td>2415.0</td>\n",
       "      <td>219.0</td>\n",
       "      <td>1736.0</td>\n",
       "      <td>180386</td>\n",
       "      <td>113485</td>\n",
       "      <td>MULTIPOLYGON (((-96.05279 32.0059, -96.05279 3...</td>\n",
       "      <td>Republican</td>\n",
       "    </tr>\n",
       "  </tbody>\n",
       "</table>\n",
       "</div>"
      ],
      "text/plain": [
       "    Representative District  Population     White     Black  Hispanic  \\\n",
       "0  Nathaniel Moran        1    755951.0  462992.0  134268.0  128887.0   \n",
       "1     Dan Crenshaw        2    746875.0  397228.0   76916.0  221684.0   \n",
       "2       Keith Self        3    746534.0  445066.0   71208.0  112590.0   \n",
       "3       Pat Fallon        4    762614.0  474925.0   65851.0  107312.0   \n",
       "4     Lance Gooden        5    756845.0  374352.0  102182.0  222093.0   \n",
       "\n",
       "     Asian  Native  Pacific   Other  Republican  Democrat  \\\n",
       "0   8208.0  1413.0    457.0  1212.0      233263     85451   \n",
       "1  28252.0  1259.0    852.0  1572.0      195333    121928   \n",
       "2  87496.0  2140.0    226.0  2983.0      204906    152128   \n",
       "3  83372.0  3018.0    410.0  2773.0      216555    125752   \n",
       "4  31884.0  2415.0    219.0  1736.0      180386    113485   \n",
       "\n",
       "                                            geometry   Incumbent  \n",
       "0  MULTIPOLYGON (((-94.12964 31.09929, -94.13149 ...  Republican  \n",
       "1  MULTIPOLYGON (((-95.12464 29.75725, -95.1252 2...  Republican  \n",
       "2  MULTIPOLYGON (((-96.29566 32.8978, -96.29591 3...  Republican  \n",
       "3  MULTIPOLYGON (((-95.65981 32.71141, -95.66079 ...  Republican  \n",
       "4  MULTIPOLYGON (((-96.05279 32.0059, -96.05279 3...  Republican  "
      ]
     },
     "execution_count": 16,
     "metadata": {},
     "output_type": "execute_result"
    }
   ],
   "source": [
    "columnNameMapping = {\n",
    "        \"DISTRICT\": \"District\",\n",
    "        \"REP_NM\": \"Representative\",\n",
    "        \"Incumbent\": \"Incumbent\",\n",
    "        \"TOT_POP21\": \"Population\",\n",
    "        \"G20PRERTRU\": \"Republican\",\n",
    "        \"G20PREDBID\": \"Democrat\",\n",
    "        \"WHT_NHSP21\": \"White\",\n",
    "        \"BLK_NHSP21\": \"Black\",\n",
    "        \"HSP_POP21\": \"Hispanic\",\n",
    "        \"ASN_NHSP21\": \"Asian\",\n",
    "        \"HPI_NHSP21\": \"Pacific\",\n",
    "        \"AIA_NHSP21\": \"Native\",\n",
    "        \"OTH_NHSP21\": \"Other\",\n",
    "    }\n",
    "gdf = gdf.rename(columns=columnNameMapping)\n",
    "unwanted_columns = [\n",
    "    \"G20PRELJOR\",\n",
    "    \"G20PREGHAW\",\n",
    "    \"G20PREOWRI\"\n",
    "]\n",
    "gdf = gdf.drop(columns=unwanted_columns)\n",
    "gdf.head()"
   ]
  },
  {
   "cell_type": "code",
   "execution_count": 17,
   "metadata": {},
   "outputs": [],
   "source": [
    "gdf.to_file(\"texas_current_district_data.geojson\", driver=\"GeoJSON\")"
   ]
  },
  {
   "cell_type": "code",
   "execution_count": 1,
   "metadata": {},
   "outputs": [
    {
     "ename": "NameError",
     "evalue": "name 'gdf' is not defined",
     "output_type": "error",
     "traceback": [
      "\u001b[1;31m---------------------------------------------------------------------------\u001b[0m",
      "\u001b[1;31mNameError\u001b[0m                                 Traceback (most recent call last)",
      "Cell \u001b[1;32mIn[1], line 1\u001b[0m\n\u001b[1;32m----> 1\u001b[0m \u001b[43mgdf\u001b[49m\u001b[38;5;241m.\u001b[39mhead()\n",
      "\u001b[1;31mNameError\u001b[0m: name 'gdf' is not defined"
     ]
    }
   ],
   "source": []
  },
  {
   "cell_type": "code",
   "execution_count": 7,
   "metadata": {},
   "outputs": [
    {
     "name": "stderr",
     "output_type": "stream",
     "text": [
      "Skipping field District: unsupported OGR type: 1\n"
     ]
    },
    {
     "name": "stdout",
     "output_type": "stream",
     "text": [
      "    Representative  Population     White     Black  Hispanic    Asian  Native  \\\n",
      "0  Nathaniel Moran    755951.0  462992.0  134268.0  128887.0   8208.0  1413.0   \n",
      "1     Dan Crenshaw    746875.0  397228.0   76916.0  221684.0  28252.0  1259.0   \n",
      "2       Keith Self    746534.0  445066.0   71208.0  112590.0  87496.0  2140.0   \n",
      "3       Pat Fallon    762614.0  474925.0   65851.0  107312.0  83372.0  3018.0   \n",
      "4     Lance Gooden    756845.0  374352.0  102182.0  222093.0  31884.0  2415.0   \n",
      "\n",
      "   Pacific   Other  Republican  Democrat   Incumbent  \\\n",
      "0    457.0  1212.0      233263     85451  Republican   \n",
      "1    852.0  1572.0      195333    121928  Republican   \n",
      "2    226.0  2983.0      204906    152128  Republican   \n",
      "3    410.0  2773.0      216555    125752  Republican   \n",
      "4    219.0  1736.0      180386    113485  Republican   \n",
      "\n",
      "                                            geometry  \n",
      "0  MULTIPOLYGON (((-94.12964 31.09929, -94.13149 ...  \n",
      "1  MULTIPOLYGON (((-95.12464 29.75725, -95.1252 2...  \n",
      "2  MULTIPOLYGON (((-96.29566 32.8978, -96.29591 3...  \n",
      "3  MULTIPOLYGON (((-95.65981 32.71141, -95.66079 ...  \n",
      "4  MULTIPOLYGON (((-96.05279 32.0059, -96.05279 3...  \n",
      "EPSG:4326\n"
     ]
    }
   ],
   "source": [
    "file_path = \"texas_current_district_data.geojson\"\n",
    "\n",
    "gdf = gpd.read_file(file_path)\n",
    "\n",
    "print(gdf.head())\n",
    "\n",
    "print(gdf.crs)"
   ]
  },
  {
   "cell_type": "code",
   "execution_count": 9,
   "metadata": {},
   "outputs": [
    {
     "ename": "KeyError",
     "evalue": "'District'",
     "output_type": "error",
     "traceback": [
      "\u001b[1;31m---------------------------------------------------------------------------\u001b[0m",
      "\u001b[1;31mKeyError\u001b[0m                                  Traceback (most recent call last)",
      "File \u001b[1;32mc:\\Users\\Kevin\\miniconda3\\envs\\GeoPandasExperiment\\Lib\\site-packages\\pandas\\core\\indexes\\base.py:3805\u001b[0m, in \u001b[0;36mIndex.get_loc\u001b[1;34m(self, key)\u001b[0m\n\u001b[0;32m   3804\u001b[0m \u001b[38;5;28;01mtry\u001b[39;00m:\n\u001b[1;32m-> 3805\u001b[0m     \u001b[38;5;28;01mreturn\u001b[39;00m \u001b[38;5;28;43mself\u001b[39;49m\u001b[38;5;241;43m.\u001b[39;49m\u001b[43m_engine\u001b[49m\u001b[38;5;241;43m.\u001b[39;49m\u001b[43mget_loc\u001b[49m\u001b[43m(\u001b[49m\u001b[43mcasted_key\u001b[49m\u001b[43m)\u001b[49m\n\u001b[0;32m   3806\u001b[0m \u001b[38;5;28;01mexcept\u001b[39;00m \u001b[38;5;167;01mKeyError\u001b[39;00m \u001b[38;5;28;01mas\u001b[39;00m err:\n",
      "File \u001b[1;32mindex.pyx:167\u001b[0m, in \u001b[0;36mpandas._libs.index.IndexEngine.get_loc\u001b[1;34m()\u001b[0m\n",
      "File \u001b[1;32mindex.pyx:196\u001b[0m, in \u001b[0;36mpandas._libs.index.IndexEngine.get_loc\u001b[1;34m()\u001b[0m\n",
      "File \u001b[1;32mpandas\\\\_libs\\\\hashtable_class_helper.pxi:7081\u001b[0m, in \u001b[0;36mpandas._libs.hashtable.PyObjectHashTable.get_item\u001b[1;34m()\u001b[0m\n",
      "File \u001b[1;32mpandas\\\\_libs\\\\hashtable_class_helper.pxi:7089\u001b[0m, in \u001b[0;36mpandas._libs.hashtable.PyObjectHashTable.get_item\u001b[1;34m()\u001b[0m\n",
      "\u001b[1;31mKeyError\u001b[0m: 'District'",
      "\nThe above exception was the direct cause of the following exception:\n",
      "\u001b[1;31mKeyError\u001b[0m                                  Traceback (most recent call last)",
      "Cell \u001b[1;32mIn[9], line 1\u001b[0m\n\u001b[1;32m----> 1\u001b[0m \u001b[43mgdf\u001b[49m\u001b[43m[\u001b[49m\u001b[38;5;124;43m\"\u001b[39;49m\u001b[38;5;124;43mDistrict\u001b[39;49m\u001b[38;5;124;43m\"\u001b[39;49m\u001b[43m]\u001b[49m\n",
      "File \u001b[1;32mc:\\Users\\Kevin\\miniconda3\\envs\\GeoPandasExperiment\\Lib\\site-packages\\geopandas\\geodataframe.py:1750\u001b[0m, in \u001b[0;36mGeoDataFrame.__getitem__\u001b[1;34m(self, key)\u001b[0m\n\u001b[0;32m   1744\u001b[0m \u001b[38;5;28;01mdef\u001b[39;00m \u001b[38;5;21m__getitem__\u001b[39m(\u001b[38;5;28mself\u001b[39m, key):\n\u001b[0;32m   1745\u001b[0m \u001b[38;5;250m    \u001b[39m\u001b[38;5;124;03m\"\"\"\u001b[39;00m\n\u001b[0;32m   1746\u001b[0m \u001b[38;5;124;03m    If the result is a column containing only 'geometry', return a\u001b[39;00m\n\u001b[0;32m   1747\u001b[0m \u001b[38;5;124;03m    GeoSeries. If it's a DataFrame with any columns of GeometryDtype,\u001b[39;00m\n\u001b[0;32m   1748\u001b[0m \u001b[38;5;124;03m    return a GeoDataFrame.\u001b[39;00m\n\u001b[0;32m   1749\u001b[0m \u001b[38;5;124;03m    \"\"\"\u001b[39;00m\n\u001b[1;32m-> 1750\u001b[0m     result \u001b[38;5;241m=\u001b[39m \u001b[38;5;28;43msuper\u001b[39;49m\u001b[43m(\u001b[49m\u001b[43m)\u001b[49m\u001b[38;5;241;43m.\u001b[39;49m\u001b[38;5;21;43m__getitem__\u001b[39;49m\u001b[43m(\u001b[49m\u001b[43mkey\u001b[49m\u001b[43m)\u001b[49m\n\u001b[0;32m   1751\u001b[0m     \u001b[38;5;66;03m# Custom logic to avoid waiting for pandas GH51895\u001b[39;00m\n\u001b[0;32m   1752\u001b[0m     \u001b[38;5;66;03m# result is not geometry dtype for multi-indexes\u001b[39;00m\n\u001b[0;32m   1753\u001b[0m     \u001b[38;5;28;01mif\u001b[39;00m (\n\u001b[0;32m   1754\u001b[0m         pd\u001b[38;5;241m.\u001b[39mapi\u001b[38;5;241m.\u001b[39mtypes\u001b[38;5;241m.\u001b[39mis_scalar(key)\n\u001b[0;32m   1755\u001b[0m         \u001b[38;5;129;01mand\u001b[39;00m key \u001b[38;5;241m==\u001b[39m \u001b[38;5;124m\"\u001b[39m\u001b[38;5;124m\"\u001b[39m\n\u001b[1;32m   (...)\u001b[0m\n\u001b[0;32m   1758\u001b[0m         \u001b[38;5;129;01mand\u001b[39;00m \u001b[38;5;129;01mnot\u001b[39;00m is_geometry_type(result)\n\u001b[0;32m   1759\u001b[0m     ):\n",
      "File \u001b[1;32mc:\\Users\\Kevin\\miniconda3\\envs\\GeoPandasExperiment\\Lib\\site-packages\\pandas\\core\\frame.py:4102\u001b[0m, in \u001b[0;36mDataFrame.__getitem__\u001b[1;34m(self, key)\u001b[0m\n\u001b[0;32m   4100\u001b[0m \u001b[38;5;28;01mif\u001b[39;00m \u001b[38;5;28mself\u001b[39m\u001b[38;5;241m.\u001b[39mcolumns\u001b[38;5;241m.\u001b[39mnlevels \u001b[38;5;241m>\u001b[39m \u001b[38;5;241m1\u001b[39m:\n\u001b[0;32m   4101\u001b[0m     \u001b[38;5;28;01mreturn\u001b[39;00m \u001b[38;5;28mself\u001b[39m\u001b[38;5;241m.\u001b[39m_getitem_multilevel(key)\n\u001b[1;32m-> 4102\u001b[0m indexer \u001b[38;5;241m=\u001b[39m \u001b[38;5;28;43mself\u001b[39;49m\u001b[38;5;241;43m.\u001b[39;49m\u001b[43mcolumns\u001b[49m\u001b[38;5;241;43m.\u001b[39;49m\u001b[43mget_loc\u001b[49m\u001b[43m(\u001b[49m\u001b[43mkey\u001b[49m\u001b[43m)\u001b[49m\n\u001b[0;32m   4103\u001b[0m \u001b[38;5;28;01mif\u001b[39;00m is_integer(indexer):\n\u001b[0;32m   4104\u001b[0m     indexer \u001b[38;5;241m=\u001b[39m [indexer]\n",
      "File \u001b[1;32mc:\\Users\\Kevin\\miniconda3\\envs\\GeoPandasExperiment\\Lib\\site-packages\\pandas\\core\\indexes\\base.py:3812\u001b[0m, in \u001b[0;36mIndex.get_loc\u001b[1;34m(self, key)\u001b[0m\n\u001b[0;32m   3807\u001b[0m     \u001b[38;5;28;01mif\u001b[39;00m \u001b[38;5;28misinstance\u001b[39m(casted_key, \u001b[38;5;28mslice\u001b[39m) \u001b[38;5;129;01mor\u001b[39;00m (\n\u001b[0;32m   3808\u001b[0m         \u001b[38;5;28misinstance\u001b[39m(casted_key, abc\u001b[38;5;241m.\u001b[39mIterable)\n\u001b[0;32m   3809\u001b[0m         \u001b[38;5;129;01mand\u001b[39;00m \u001b[38;5;28many\u001b[39m(\u001b[38;5;28misinstance\u001b[39m(x, \u001b[38;5;28mslice\u001b[39m) \u001b[38;5;28;01mfor\u001b[39;00m x \u001b[38;5;129;01min\u001b[39;00m casted_key)\n\u001b[0;32m   3810\u001b[0m     ):\n\u001b[0;32m   3811\u001b[0m         \u001b[38;5;28;01mraise\u001b[39;00m InvalidIndexError(key)\n\u001b[1;32m-> 3812\u001b[0m     \u001b[38;5;28;01mraise\u001b[39;00m \u001b[38;5;167;01mKeyError\u001b[39;00m(key) \u001b[38;5;28;01mfrom\u001b[39;00m \u001b[38;5;21;01merr\u001b[39;00m\n\u001b[0;32m   3813\u001b[0m \u001b[38;5;28;01mexcept\u001b[39;00m \u001b[38;5;167;01mTypeError\u001b[39;00m:\n\u001b[0;32m   3814\u001b[0m     \u001b[38;5;66;03m# If we have a listlike key, _check_indexing_error will raise\u001b[39;00m\n\u001b[0;32m   3815\u001b[0m     \u001b[38;5;66;03m#  InvalidIndexError. Otherwise we fall through and re-raise\u001b[39;00m\n\u001b[0;32m   3816\u001b[0m     \u001b[38;5;66;03m#  the TypeError.\u001b[39;00m\n\u001b[0;32m   3817\u001b[0m     \u001b[38;5;28mself\u001b[39m\u001b[38;5;241m.\u001b[39m_check_indexing_error(key)\n",
      "\u001b[1;31mKeyError\u001b[0m: 'District'"
     ]
    }
   ],
   "source": []
  },
  {
   "cell_type": "code",
   "execution_count": 6,
   "metadata": {},
   "outputs": [],
   "source": [
    "gdf.to_file(\"texas_current_district_data.geojson\", driver=\"GeoJSON\")"
   ]
  },
  {
   "cell_type": "code",
   "execution_count": null,
   "metadata": {},
   "outputs": [],
   "source": []
  }
 ],
 "metadata": {
  "kernelspec": {
   "display_name": "GeoPandasExperiment",
   "language": "python",
   "name": "python3"
  },
  "language_info": {
   "codemirror_mode": {
    "name": "ipython",
    "version": 3
   },
   "file_extension": ".py",
   "mimetype": "text/x-python",
   "name": "python",
   "nbconvert_exporter": "python",
   "pygments_lexer": "ipython3",
   "version": "3.12.5"
  }
 },
 "nbformat": 4,
 "nbformat_minor": 2
}
