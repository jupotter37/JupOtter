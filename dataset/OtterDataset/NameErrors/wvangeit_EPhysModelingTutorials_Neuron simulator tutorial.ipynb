{
 "cells": [
  {
   "cell_type": "markdown",
   "metadata": {},
   "source": [
    "# Neuron simulator tutorial\n",
    "\n",
    "Contributors: Elisabetta Iavarone, Werner Van Geit, Bruno Magalhaes, Francesco Cremonesi @ Blue Brain Project, EPFL, Switzerland"
   ]
  },
  {
   "cell_type": "markdown",
   "metadata": {},
   "source": [
    "NEURON was original developed with a scripting language called \"hoc\". It is still widely used and only recently it is being replaced with a Python interface [(Hines et al., 2009)](http://journal.frontiersin.org/article/10.3389/neuro.11.001.2009/abstract). All NEURON routines are written in either C/C++ or hoc.\n",
    "NEURON features also a Graphical User Interface (GUI), equipped with builders for cells and networks, channels and electrical circuits. Feel free to explore the NEURON GUI, but here we prefer writing some lines of Python code.\n",
    "___\n",
    "In this tutorial we will see how to use a small number of NEURON functions, while you can find further information on NEURON modeling concepts and programming-related terms in the [programmer's reference](http://www.neuron.yale.edu/neuron/static/new_doc/index.html).\n",
    "____"
   ]
  },
  {
   "cell_type": "markdown",
   "metadata": {},
   "source": [
    "First we need **import** the Neuron simulator in Python."
   ]
  },
  {
   "cell_type": "code",
   "execution_count": 150,
   "metadata": {
    "collapsed": false
   },
   "outputs": [],
   "source": [
    "import neuron"
   ]
  },
  {
   "cell_type": "markdown",
   "metadata": {},
   "source": [
    "This will give us the ability to interact with the simulator. Most of the code we use will access the Neuron **HocObject**, accessible through *neuron.h*\n",
    "\n",
    "For example, to get the **temperature** the simulation will be performed in:"
   ]
  },
  {
   "cell_type": "code",
   "execution_count": 151,
   "metadata": {
    "collapsed": false
   },
   "outputs": [
    {
     "name": "stdout",
     "output_type": "stream",
     "text": [
      "Temperature: 6.3 C, Time: 1000 ms\n"
     ]
    }
   ],
   "source": [
    "print 'Temperature: %g C, Time: %g ms' % (neuron.h.celsius, neuron.h.t)"
   ]
  },
  {
   "cell_type": "markdown",
   "metadata": {},
   "source": [
    "As you can see, the **default temperature** the Neuron simulator is running in is **6.3C**. \n",
    "This is the temperature in which Hodgkin and Huxley performed their original voltage clamp experiments.\n",
    "\n",
    "(So always remember to set the simulator to the correct temperature when building your own model !)"
   ]
  },
  {
   "cell_type": "markdown",
   "metadata": {},
   "source": [
    "## Creating a single section"
   ]
  },
  {
   "cell_type": "markdown",
   "metadata": {},
   "source": [
    "In NEURON a cell is represented as a tree of connected **sections** (cylinders). A section is a portion of cell with homogeneous biophysical properties. \n",
    "In the simplest approximation, a section is a cilinder with some properties: lengh *L* (in ${\\mu}m$), diameter *diam* (in ${\\mu}m$), cytoplasmic resistance *Ra* (in $ohm*cm$), membrane capacity (in ${\\mu}F/cm^2$), channels density.\n",
    "A **segment** (or compartment), *seg*, is the simplest unit of discretization of a section. It is a numerical entity, that defines the spatial discretizion ${\\delta}x = L / nseg$.\n",
    "\n",
    "The voltage in every compartment is calculated by integrating the following equation:\n",
    "\n",
    "$C_{m} dV/dt = I_{membrane} + I_{external} + I_{axial}$"
   ]
  },
  {
   "cell_type": "markdown",
   "metadata": {},
   "source": [
    "Let's a section to represent the soma:"
   ]
  },
  {
   "cell_type": "code",
   "execution_count": 152,
   "metadata": {
    "collapsed": false
   },
   "outputs": [
    {
     "name": "stdout",
     "output_type": "stream",
     "text": [
      "<nrn.Section object at 0x10df7b918>\n"
     ]
    }
   ],
   "source": [
    "soma = neuron.h.Section()\n",
    "print soma"
   ]
  },
  {
   "cell_type": "markdown",
   "metadata": {},
   "source": [
    "*soma* is now a python object that as certain fields attached to it:"
   ]
  },
  {
   "cell_type": "code",
   "execution_count": 153,
   "metadata": {
    "collapsed": false
   },
   "outputs": [
    {
     "data": {
      "text/plain": [
       "['L',\n",
       " 'Ra',\n",
       " '__call__',\n",
       " '__class__',\n",
       " '__delattr__',\n",
       " '__doc__',\n",
       " '__eq__',\n",
       " '__format__',\n",
       " '__ge__',\n",
       " '__getattribute__',\n",
       " '__gt__',\n",
       " '__hash__',\n",
       " '__init__',\n",
       " '__iter__',\n",
       " '__le__',\n",
       " '__lt__',\n",
       " '__ne__',\n",
       " '__new__',\n",
       " '__reduce__',\n",
       " '__reduce_ex__',\n",
       " '__repr__',\n",
       " '__setattr__',\n",
       " '__sizeof__',\n",
       " '__str__',\n",
       " '__subclasshook__',\n",
       " 'allseg',\n",
       " 'cell',\n",
       " 'children',\n",
       " 'connect',\n",
       " 'hname',\n",
       " 'hoc_internal_name',\n",
       " 'insert',\n",
       " 'name',\n",
       " 'nseg',\n",
       " 'orientation',\n",
       " 'parentseg',\n",
       " 'push',\n",
       " 'rallbranch',\n",
       " 'same',\n",
       " 'trueparentseg']"
      ]
     },
     "execution_count": 153,
     "metadata": {},
     "output_type": "execute_result"
    }
   ],
   "source": [
    "dir(soma)"
   ]
  },
  {
   "cell_type": "markdown",
   "metadata": {},
   "source": [
    "For example we can look at the length and diameter of the section, the membrane voltage and the specific capacitance:"
   ]
  },
  {
   "cell_type": "code",
   "execution_count": 154,
   "metadata": {
    "collapsed": false
   },
   "outputs": [
    {
     "name": "stdout",
     "output_type": "stream",
     "text": [
      "length: 100.000000\n",
      "diameter: 500.000000\n",
      "membrane voltage: -65.000000\n",
      "specific capacitance: 1.000000\n"
     ]
    }
   ],
   "source": [
    "print 'length: %f' % soma.L # in micron\n",
    "print 'diameter: %f' %soma.diam # in micron\n",
    "print 'membrane voltage: %f' % soma.v # in mV\n",
    "print 'specific capacitance: %f' % soma.cm # uf/cm2"
   ]
  },
  {
   "cell_type": "markdown",
   "metadata": {},
   "source": [
    "Let's change the diameter and length of the soma to 20 micron."
   ]
  },
  {
   "cell_type": "code",
   "execution_count": 155,
   "metadata": {
    "collapsed": false
   },
   "outputs": [
    {
     "name": "stdout",
     "output_type": "stream",
     "text": [
      "New soma diameter 20.000000 and length 20.000000\n"
     ]
    }
   ],
   "source": [
    "soma.L = 20\n",
    "soma.diam = 20\n",
    "print 'New soma diameter %f and length %f' % (soma.L, soma.diam)"
   ]
  },
  {
   "cell_type": "markdown",
   "metadata": {},
   "source": [
    "## Running a simulation"
   ]
  },
  {
   "cell_type": "markdown",
   "metadata": {},
   "source": [
    "Now that we have a soma section, we can run a quick simulation for 1000 ms."
   ]
  },
  {
   "cell_type": "code",
   "execution_count": 156,
   "metadata": {
    "collapsed": false
   },
   "outputs": [
    {
     "name": "stdout",
     "output_type": "stream",
     "text": [
      "Time: 1000.000000, Soma voltage: -65.000000\n",
      "Time: 1000.000000, Soma voltage: -65.000000\n"
     ]
    }
   ],
   "source": [
    "neuron.h.load_file('stdrun.hoc')\n",
    "def run_model(total_time):\n",
    "    neuron.h.tstop = total_time\n",
    "    print 'Time: %f, Soma voltage: %f' % (neuron.h.t, soma.v)\n",
    "    neuron.h.run()\n",
    "    print 'Time: %f, Soma voltage: %f' % (neuron.h.t, soma.v)\n",
    "run_model(1000)"
   ]
  },
  {
   "cell_type": "markdown",
   "metadata": {},
   "source": [
    "Obviously the membrane voltage in the soma didn't change. \n",
    "This is because at the moment the soma consists of an empty sphere with just a capacitance."
   ]
  },
  {
   "cell_type": "markdown",
   "metadata": {},
   "source": [
    "## Attaching a recording electrode"
   ]
  },
  {
   "cell_type": "markdown",
   "metadata": {},
   "source": [
    "To make it easier to visualize the membrane voltage evolution during a simulation, we record variables into vectors.\n",
    "Let's record the time, and membrane voltage in the middle of the soma."
   ]
  },
  {
   "cell_type": "code",
   "execution_count": 157,
   "metadata": {
    "collapsed": false
   },
   "outputs": [
    {
     "name": "stdout",
     "output_type": "stream",
     "text": [
      "Time: 1000.000000, Soma voltage: -65.000000\n",
      "Time: 1000.000000, Soma voltage: -65.000000\n"
     ]
    }
   ],
   "source": [
    "time = neuron.h.Vector()\n",
    "voltage = neuron.h.Vector()\n",
    "\n",
    "time.record(neuron.h._ref_t)\n",
    "voltage.record(soma(0.5)._ref_v)\n",
    "run_model(1000)"
   ]
  },
  {
   "cell_type": "markdown",
   "metadata": {},
   "source": [
    "Now these vectors can be plotted using matplotlib. Let's define a method we can reuse later."
   ]
  },
  {
   "cell_type": "code",
   "execution_count": 158,
   "metadata": {
    "collapsed": false
   },
   "outputs": [
    {
     "data": {
      "image/png": "[encoded data removed]",
      "text/plain": [
       "<matplotlib.figure.Figure at 0x10e95f250>"
      ]
     },
     "metadata": {},
     "output_type": "display_data"
    }
   ],
   "source": [
    "%matplotlib inline\n",
    "import matplotlib.pyplot as plt\n",
    "\n",
    "def plot_timevoltage(time, voltage):\n",
    "    fig, ax = plt.subplots()\n",
    "    ax.plot(time, voltage)\n",
    "    ax.set_xlabel('Time (ms)')\n",
    "    ax.set_ylabel('Membrane Voltage (mV)')\n",
    "\n",
    "plot_timevoltage(time, voltage)"
   ]
  },
  {
   "cell_type": "markdown",
   "metadata": {},
   "source": [
    "## Attaching a stimulus electrode"
   ]
  },
  {
   "cell_type": "markdown",
   "metadata": {},
   "source": [
    "Let's make this simulation more interesting by adding a stimulus. \n",
    "A stimulation electrode in NEURON is a \"point process\", i.e. an object attached to a precise location along a section. The location is specified as a number from 0 to 1.\n",
    "To set up a current clamp experiment we need to specify its location, *delay* (time from the start of the simulation), *amp* (amplitude of the injected current, in *nA*) and *dur* (duration of stimulus in *ms*)."
   ]
  },
  {
   "cell_type": "code",
   "execution_count": 159,
   "metadata": {
    "collapsed": false
   },
   "outputs": [
    {
     "name": "stdout",
     "output_type": "stream",
     "text": [
      "Time: 1000.000000, Soma voltage: -65.000000\n",
      "Time: 1000.000000, Soma voltage: -33.169011\n"
     ]
    },
    {
     "data": {
      "image/png": "[encoded data removed]",
      "text/plain": [
       "<matplotlib.figure.Figure at 0x10d38c290>"
      ]
     },
     "metadata": {},
     "output_type": "display_data"
    }
   ],
   "source": [
    "# Inject a current step into the soma\n",
    "stim = neuron.h.IClamp(0.5, sec=soma) # Place a stimulation electrode in the middle of the soma\n",
    "stim.delay = 300 # ms\n",
    "stim.amp = 0.001 # nA\n",
    "stim.dur = 400 # ms\n",
    "run_model(1000)\n",
    "plot_timevoltage(time, voltage)"
   ]
  },
  {
   "cell_type": "markdown",
   "metadata": {},
   "source": [
    "## Inserting mechanisms (ion channels)"
   ]
  },
  {
   "cell_type": "markdown",
   "metadata": {},
   "source": [
    "Mechanisms represent ion channels, buffers, synapses dynamics in NEURON. They are not point processes but \"distributed mechanisms\" and they are present on the entire surface of a section. Mechanisms parameters can change within compartments.\n",
    "NEURON has some built-in mechanisms, for example a passive leak current *pas* and sodium and potassium currents to generate action potentials *hh* (from the squid axon, measured by Hodgkin and Huxley!)\n",
    "\n",
    "At the moment this soma section still acts as a capacitance. \n",
    "We can now add some ion channels to the membrane.\n",
    "Let's start with a passive leak channel.\n",
    "The way we set it up it will have a reversal potential of -70 mV, which means the leak channel will 'drive' the membrane voltage towards -70 mV."
   ]
  },
  {
   "cell_type": "code",
   "execution_count": 160,
   "metadata": {
    "collapsed": false
   },
   "outputs": [
    {
     "name": "stdout",
     "output_type": "stream",
     "text": [
      "Time: 1000.000000, Soma voltage: -33.169011\n",
      "Time: 1000.000000, Soma voltage: -69.610694\n"
     ]
    },
    {
     "data": {
      "image/png": "[encoded data removed]",
      "text/plain": [
       "<matplotlib.figure.Figure at 0x10d4e1590>"
      ]
     },
     "metadata": {},
     "output_type": "display_data"
    }
   ],
   "source": [
    "soma.insert('pas')\n",
    "soma.g_pas = 1e-5 # nS/cm2\n",
    "soma.e_pas = -70 # mV\n",
    "run_model(1000)\n",
    "plot_timevoltage(time, voltage)"
   ]
  },
  {
   "cell_type": "markdown",
   "metadata": {},
   "source": [
    "Neuron contains a default Hodgkin-Huxley 'hh' mechanism. We can add this to the soma, so that we can generate some spikes."
   ]
  },
  {
   "cell_type": "code",
   "execution_count": 166,
   "metadata": {
    "collapsed": false
   },
   "outputs": [
    {
     "name": "stdout",
     "output_type": "stream",
     "text": [
      "Time: 1000.000000, Soma voltage: -74.633379\n",
      "Time: 400.000000, Soma voltage: -74.633379\n"
     ]
    },
    {
     "data": {
      "image/png": "[encoded data removed]",
      "text/plain": [
       "<matplotlib.figure.Figure at 0x10de5d190>"
      ]
     },
     "metadata": {},
     "output_type": "display_data"
    }
   ],
   "source": [
    "soma.insert('hh')\n",
    "soma.gl_hh = 0.0 # Disabling passive channel inside hh mechanism\n",
    "stim.amp = 0.07 # nA\n",
    "run_model(1000)\n",
    "plot_timevoltage(time, voltage)"
   ]
  },
  {
   "cell_type": "markdown",
   "metadata": {},
   "source": [
    "__Exercise__: Try to change the model, stimulus or simulation parameters so that you only get e.g. 5 spikes.\n",
    "\n",
    "__Exercise__: Which parameters influence the shape of the action potential ? Try to decrease the amplitude of the spikes."
   ]
  },
  {
   "cell_type": "markdown",
   "metadata": {},
   "source": [
    "## Connecting compartments"
   ]
  },
  {
   "cell_type": "code",
   "execution_count": 162,
   "metadata": {
    "collapsed": false
   },
   "outputs": [
    {
     "ename": "NameError",
     "evalue": "name 'dend' is not defined",
     "output_type": "error",
     "traceback": [
      "\u001b[0;31m---------------------------------------------------------------------------\u001b[0m",
      "\u001b[0;31mNameError\u001b[0m                                 Traceback (most recent call last)",
      "\u001b[0;32m<ipython-input-162-779ba2d94a6a>\u001b[0m in \u001b[0;36m<module>\u001b[0;34m()\u001b[0m\n\u001b[0;32m----> 1\u001b[0;31m \u001b[0mdend\u001b[0m\u001b[0;34m\u001b[0m\u001b[0m\n\u001b[0m",
      "\u001b[0;31mNameError\u001b[0m: name 'dend' is not defined"
     ]
    }
   ],
   "source": [
    "dend"
   ]
  },
  {
   "cell_type": "code",
   "execution_count": null,
   "metadata": {
    "collapsed": true
   },
   "outputs": [],
   "source": []
  },
  {
   "cell_type": "markdown",
   "metadata": {},
   "source": [
    "___\n",
    "### Futher interesting resources about NEURON\n",
    "\n",
    "__The NEURON forum__: \n",
    "http://www.neuron.yale.edu/phpBB/\n",
    "\n",
    "__NEURON programmer's reference and documentation__: \n",
    "http://www.neuron.yale.edu/neuron/static/new_doc/index.html\n",
    "\n",
    "__NEURON web page and installation instructions__:\n",
    "http://www.neuron.yale.edu/neuron/\n",
    "\n",
    "__ModelDB: database of existing NEURON models__:\n",
    "https://senselab.med.yale.edu/modeldb/\n",
    "\n",
    "__The NEURON book and other readings__:\n",
    "\n",
    "Nicholas T. Carnevale and Michael L. Hines, \"The NEURON book\". Cambridge University Press, 2006\n",
    "\n",
    "M.L. Hines and N.T. Carnevale. \"Neuron simulation environment\". Encyclopedia of computational neuroscience, Springer, 2014\n"
   ]
  },
  {
   "cell_type": "code",
   "execution_count": null,
   "metadata": {
    "collapsed": true
   },
   "outputs": [],
   "source": []
  }
 ],
 "metadata": {
  "kernelspec": {
   "display_name": "Python 2",
   "language": "python",
   "name": "python2"
  },
  "language_info": {
   "codemirror_mode": {
    "name": "ipython",
    "version": 2
   },
   "file_extension": ".py",
   "mimetype": "text/x-python",
   "name": "python",
   "nbconvert_exporter": "python",
   "pygments_lexer": "ipython2",
   "version": "2.7.11"
  }
 },
 "nbformat": 4,
 "nbformat_minor": 0
}
