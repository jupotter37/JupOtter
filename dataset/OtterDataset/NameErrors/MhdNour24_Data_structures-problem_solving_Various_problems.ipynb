{
 "cells": [
  {
   "cell_type": "markdown",
   "id": "e4209cdd",
   "metadata": {},
   "source": [
    "3. MHD NOUR EDDIN BASSAL-02210201517"
   ]
  },
  {
   "cell_type": "code",
   "execution_count": 3,
   "id": "3e6c5144",
   "metadata": {
    "scrolled": true
   },
   "outputs": [
    {
     "name": "stdout",
     "output_type": "stream",
     "text": [
      "10\n",
      "[8, 4, 3, 4, 4, 6, 5, 3, 2, 3]\n",
      "20\n",
      "[12, 7, 7, 8, 10, 11, 8, 5, 5]\n",
      "[15, 11, 11, 14, 15, 14, 10, 8]\n",
      "[19, 15, 17, 19, 18, 16, 13]\n",
      "[23, 21, 22, 22, 20, 19]\n",
      "[29, 26, 25, 24, 23]\n",
      "[34, 29, 27, 27]\n",
      "[37, 31, 30]\n",
      "[39, 34]\n",
      "[42]\n",
      "4\n"
     ]
    }
   ],
   "source": [
    "from random import randint \n",
    "n=int(input())\n",
    "liste=[randint(1,8) for i in range(n)]\n",
    "#liste=[5, 8, 1, 0, 0, 5, 6]\n",
    "print(liste)\n",
    "def g(k,a):\n",
    "    toplam=0\n",
    "    c=2\n",
    "    for p in range(len(k)-1): \n",
    "\n",
    "        y=[]\n",
    "        for j in range(len(k)-p-1):\n",
    "            top=0\n",
    "            for i in range(j,c+j):\n",
    "                top+=k[i]\n",
    "            y.append(top)\n",
    "\n",
    "        c+=1\n",
    "        print(y)\n",
    "        for h in y:\n",
    "            if h >a:\n",
    "                break\n",
    "        else :\n",
    "            toplam+=1\n",
    "    for h in k:\n",
    "        if h >a and h==a:\n",
    "            break\n",
    "    else :\n",
    "        toplam+=1\n",
    "    return toplam\n",
    "l=int(input())            \n",
    "print(g(liste,l))\n",
    "#çözülmüş"
   ]
  },
  {
   "cell_type": "code",
   "execution_count": 2,
   "id": "a789bd32",
   "metadata": {
    "scrolled": true
   },
   "outputs": [
    {
     "name": "stdout",
     "output_type": "stream",
     "text": [
      "0.6456349206349207\n"
     ]
    }
   ],
   "source": [
    "#1-2+3-4+5-6... -10\n",
    "s=0\n",
    "for i in range(1,11):\n",
    "    if i%2==1:\n",
    "        s+=1/i \n",
    "    else :  \n",
    "        s-=1/i\n",
    "        \n",
    "print(s)\n",
    "#çözülmüş"
   ]
  },
  {
   "cell_type": "code",
   "execution_count": 3,
   "id": "ebec206b",
   "metadata": {},
   "outputs": [
    {
     "name": "stdout",
     "output_type": "stream",
     "text": [
      "biri sayı giriniz3\n",
      "0 = 1\n",
      "1 = 1\n",
      "2 = 2\n",
      "3 = 6\n",
      "10\n"
     ]
    }
   ],
   "source": [
    "def aflk (a):\n",
    "    çarp =1\n",
    "    for i in range (1,a+1):\n",
    "        çarp*=i\n",
    "    return çarp\n",
    "s=0\n",
    "t=int(input(\"biri sayı giriniz\"))\n",
    "for i in range (t+1):\n",
    "    s+=aflk(i)\n",
    "    print(str(i),\"=\",str(aflk(i)))\n",
    "print(s)    \n",
    "        \n",
    "#çözülmüş"
   ]
  },
  {
   "cell_type": "code",
   "execution_count": 7,
   "id": "126ee917",
   "metadata": {},
   "outputs": [
    {
     "name": "stdout",
     "output_type": "stream",
     "text": [
      "biri sayı giriniz : 6\n",
      "4423\n"
     ]
    }
   ],
   "source": [
    "def fak (a):\n",
    "    çarp =1\n",
    "    for i in range (1,a+1):\n",
    "        çarp*=i\n",
    "    return çarp\n",
    "s=0\n",
    "t=int(input(\"biri sayı giriniz : \"))\n",
    "for i in range (1,t+1):\n",
    "    if i%2==1:\n",
    "        s-=(i+fak(i+1))   \n",
    "    else :\n",
    "        s+=(i+fak(i+1))\n",
    "print(s)\n",
    "\n",
    "#çözülmüş"
   ]
  },
  {
   "cell_type": "code",
   "execution_count": 21,
   "id": "d66c7a2b",
   "metadata": {},
   "outputs": [
    {
     "name": "stdout",
     "output_type": "stream",
     "text": [
      "biri sayı giriniz : 4\n",
      "28.541666666666668\n"
     ]
    }
   ],
   "source": [
    "def fak (a):\n",
    "    çarp =1\n",
    "    for i in range (1,a+1):\n",
    "        çarp*=i\n",
    "    return çarp\n",
    "s=0\n",
    "t=int(input(\"biri sayı giriniz : \"))\n",
    "for i in range (1,t+1):\n",
    "    if i%2==1:\n",
    "        s+=i**i\n",
    "    else :\n",
    "        s+=(1/fak(i))\n",
    "print(s)\n",
    "#çözülmüş"
   ]
  },
  {
   "cell_type": "code",
   "execution_count": 2,
   "id": "645d6600",
   "metadata": {},
   "outputs": [
    {
     "name": "stdout",
     "output_type": "stream",
     "text": [
      "*\n",
      "**\n",
      "***\n",
      "****\n",
      "*****\n"
     ]
    }
   ],
   "source": [
    "for i in range(1,6):\n",
    "    print(\"*\"*i)"
   ]
  },
  {
   "cell_type": "code",
   "execution_count": 10,
   "id": "175e448f",
   "metadata": {},
   "outputs": [
    {
     "name": "stdout",
     "output_type": "stream",
     "text": [
      "Enter the number of lines: -4\n",
      "Enter the number of lines: 7\n",
      "      *\n",
      "     **\n",
      "    ***\n",
      "   ****\n",
      "  *****\n",
      " ******\n",
      "*******\n"
     ]
    }
   ],
   "source": [
    "n = 0\n",
    "while n <= 0:\n",
    "    n = int(input(\"Enter the number of lines: \"))\n",
    "for i in range(1, n+1):\n",
    "    print(\" \"*(n-i)+\"*\"*i)\n"
   ]
  },
  {
   "cell_type": "code",
   "execution_count": 12,
   "id": "bf53ac16",
   "metadata": {},
   "outputs": [
    {
     "name": "stdout",
     "output_type": "stream",
     "text": [
      "Enter the number of lines: -8\n",
      "Enter the number of lines: 5\n",
      "*****\n",
      "****\n",
      "***\n",
      "**\n",
      "*\n"
     ]
    }
   ],
   "source": [
    "n = 0\n",
    "while n <= 0:\n",
    "    n = int(input(\"Enter the number of lines: \"))\n",
    "for i in range(n,0,-1):\n",
    "    print(\"*\"*i)"
   ]
  },
  {
   "cell_type": "code",
   "execution_count": 17,
   "id": "37e70ca6",
   "metadata": {},
   "outputs": [
    {
     "name": "stdout",
     "output_type": "stream",
     "text": [
      "kaç kefe yazdırmak istiyorsunuz: 5\n",
      "Enter the number of lines: 10\n",
      "     **********\n",
      "    **********\n",
      "   **********\n",
      "  **********\n",
      " **********\n"
     ]
    }
   ],
   "source": [
    "kere=int(input(\"kaç kefe yazdırmak istiyorsunuz: \"))\n",
    "n = 0\n",
    "while n <= 0:\n",
    "    n = int(input(\"Enter the number of lines: \"))\n",
    "for j in range(kere):\n",
    "    print(\" \"*(kere-j)+\"*\"*n)\n",
    "  "
   ]
  },
  {
   "cell_type": "code",
   "execution_count": 18,
   "id": "52f6b52f",
   "metadata": {},
   "outputs": [
    {
     "name": "stdout",
     "output_type": "stream",
     "text": [
      "kaç kefe yazdırmak istiyorsunuz: 5\n",
      "Enter the number of lines: 10\n",
      "**********     \n",
      " **********    \n",
      "  **********   \n",
      "   **********  \n",
      "    ********** \n"
     ]
    }
   ],
   "source": [
    "kere=int(input(\"kaç kefe yazdırmak istiyorsunuz: \"))\n",
    "n = 0\n",
    "while n <= 0:\n",
    "    n = int(input(\"Enter the number of lines: \"))\n",
    "for j in range(kere):\n",
    "    print(\" \"*j+\"*\"*n+\" \"*(kere-j))\n",
    "  "
   ]
  },
  {
   "cell_type": "code",
   "execution_count": 51,
   "id": "7ced482c",
   "metadata": {},
   "outputs": [
    {
     "name": "stdout",
     "output_type": "stream",
     "text": [
      "Enter the number of lines: 6\n",
      "Enter the number of lines: 5\n",
      "*\n",
      "**\n",
      "***\n",
      "**\n",
      "*\n"
     ]
    }
   ],
   "source": [
    "n = 0\n",
    "while n <= 0 or n % 2 == 0:\n",
    "    n = int(input(\"Enter the number of lines: \"))\n",
    "for i in range(1, n + 1):\n",
    "    if i <= n / 2:\n",
    "        print('*' * i, end='')\n",
    "    else:\n",
    "        print('*' * (n - i + 1), end='')\n",
    "    print()"
   ]
  },
  {
   "cell_type": "code",
   "execution_count": 17,
   "id": "13b0963e",
   "metadata": {},
   "outputs": [
    {
     "name": "stdout",
     "output_type": "stream",
     "text": [
      "   *\n",
      "  * *\n",
      " *   *\n",
      "*     *\n",
      " *   *\n",
      "  * *\n",
      "   *\n"
     ]
    }
   ],
   "source": [
    "c=0\n",
    "while n <= 0 or n % 2 == 0:\n",
    "    n = int(input(\"Enter the number of lines: \"))\n",
    "for i in range(1,n+1):\n",
    "    if i <= n / 2:\n",
    "        print(' ' * (int(n / 2) - i + 1), end='')\n",
    "        print('*', end='')\n",
    "        print(' ' * ((i * 2) - 3), end='')\n",
    "        if i != 1:\n",
    "            print('*', end='')\n",
    "    else:\n",
    "        print(' ' * (i - int(n / 2) - 1), end='')\n",
    "        print('*', end='')\n",
    "        print(' ' * ((n * 2) - (i * 2) - 1), end='')\n",
    "        if i != n:\n",
    "            print('*', end='')\n",
    "    print()"
   ]
  },
  {
   "cell_type": "code",
   "execution_count": 21,
   "id": "e19a0e43",
   "metadata": {},
   "outputs": [
    {
     "name": "stdout",
     "output_type": "stream",
     "text": [
      "55\n",
      "55\n",
      "Palindrome\n"
     ]
    }
   ],
   "source": [
    "rakam=int(input())\n",
    "o=rakam\n",
    "sayı=\"\"\n",
    "k=str(rakam)\n",
    "index=len(k)\n",
    "c=0\n",
    "while c<index:\n",
    "    y=rakam%10\n",
    "    rakam=rakam//10\n",
    "    c+=1\n",
    "    sayı+=str(y)\n",
    "    \n",
    "print(sayı)\n",
    "if o==int(sayı):\n",
    "    print(\"Palindrome\")\n",
    "else:\n",
    "    print(\"Palindrome değil\")\n"
   ]
  },
  {
   "cell_type": "code",
   "execution_count": 1,
   "id": "13764a55",
   "metadata": {},
   "outputs": [
    {
     "name": "stdout",
     "output_type": "stream",
     "text": [
      "bir string giriniz: öhd nour e\n",
      "e ruon dhö\n"
     ]
    }
   ],
   "source": [
    "def ters(k):\n",
    "    d=\"\"\n",
    "    c=0\n",
    "    ind=len(k)\n",
    "    while c<ind and ind >=0:\n",
    "        d+=k[ind-1]\n",
    "        ind-=1\n",
    "    return d\n",
    "oo=input(\"bir string giriniz: \")\n",
    "print(ters(oo))\n",
    "\n",
    "        "
   ]
  },
  {
   "cell_type": "code",
   "execution_count": 45,
   "id": "7c67b765",
   "metadata": {},
   "outputs": [
    {
     "name": "stdout",
     "output_type": "stream",
     "text": [
      "ilk eleman: 5\n",
      "eleman sayısı: 4\n",
      "artış değeri: 6\n",
      "5 + 11 + 17 + 23 = 56\n"
     ]
    }
   ],
   "source": [
    "i=int(input(\"ilk eleman: \"))\n",
    "f=int(input(\"eleman sayısı: \"))\n",
    "se=int(input(\"artış değeri: \"))\n",
    "top=0\n",
    "sayı=i\n",
    "c=1\n",
    "for i in range(f):\n",
    "    if c<f:\n",
    "        top+=sayı\n",
    "        print(sayı,end=\" + \")\n",
    "        sayı+=se\n",
    "        c+=1\n",
    "    else:\n",
    "        print(sayı,end=\" = \")\n",
    "        top +=sayı\n",
    "print(top)\n",
    "        \n",
    "    \n",
    "    "
   ]
  },
  {
   "cell_type": "code",
   "execution_count": 3,
   "id": "6ac07391",
   "metadata": {},
   "outputs": [
    {
     "name": "stdout",
     "output_type": "stream",
     "text": [
      "biir sayı giriniz. 90\n",
      "[2, 3, 5]\n",
      "2\n",
      "3\n",
      "5\n"
     ]
    }
   ],
   "source": [
    "n=int(input(\"biir sayı giriniz. \"))\n",
    "liste=[]\n",
    "c=2\n",
    "while n<=1:\n",
    "    print(\"doğal bir sayı giriniz!!!!!!   \")\n",
    "    n=int(input(\"biir sayı giriniz. \"))\n",
    "while n>1:\n",
    "    if n %c==0:\n",
    "        n=n/c\n",
    "        if c not in liste:\n",
    "            liste.append(c)\n",
    "    else:\n",
    "        c+=1\n",
    "print(liste)\n",
    "for i in liste:\n",
    "    print(i)\n",
    "        \n",
    "            \n",
    "        "
   ]
  },
  {
   "cell_type": "code",
   "execution_count": 82,
   "id": "581e100a",
   "metadata": {},
   "outputs": [
    {
     "name": "stdout",
     "output_type": "stream",
     "text": [
      "biir sayı giriniz. 3\n",
      "harshad sayıdır 1 ve basamakların toplamı =1\n",
      "harshad sayıdır 2 ve basamakların toplamı =2\n",
      "harshad sayıdır 3 ve basamakların toplamı =3\n"
     ]
    }
   ],
   "source": [
    "n=int(input(\"biir sayı giriniz. \"))\n",
    "def top(s):\n",
    "    top=0\n",
    "    st=str(s)\n",
    "    for i in st:\n",
    "        top+=int(i)\n",
    "    return top\n",
    "for i in range(1,n+1):\n",
    "    if i%top(i)==0:\n",
    "        print(f\"harshad sayıdır {i} ve basamakların toplamı ={top(i)}\")\n",
    "    else:\n",
    "        print(f\"harshad değil sayıdır {i} ve basamakların toplamı ={top(i)}\")\n",
    "\n",
    "        "
   ]
  },
  {
   "cell_type": "code",
   "execution_count": 84,
   "id": "1a784125",
   "metadata": {},
   "outputs": [
    {
     "name": "stdout",
     "output_type": "stream",
     "text": [
      "2\n"
     ]
    }
   ],
   "source": [
    "i=\"  nour\"\n",
    "print(i.index(\"n\"))"
   ]
  },
  {
   "cell_type": "code",
   "execution_count": 88,
   "id": "94065566",
   "metadata": {},
   "outputs": [
    {
     "name": "stdout",
     "output_type": "stream",
     "text": [
      "range(0, 9)\n"
     ]
    }
   ],
   "source": [
    "print(range(0,9,1))"
   ]
  },
  {
   "cell_type": "code",
   "execution_count": 5,
   "id": "b00f1cef",
   "metadata": {},
   "outputs": [
    {
     "name": "stdout",
     "output_type": "stream",
     "text": [
      "mhd nor eddin bassal\n"
     ]
    }
   ],
   "source": [
    "i=\"mhd nour eddin bassal\"\n",
    "t=\"\"\n",
    "for j in i:\n",
    "    if j ==\"u\":\n",
    "        continue \n",
    "    else:\n",
    "        t+=j\n",
    "print(t)"
   ]
  },
  {
   "cell_type": "code",
   "execution_count": 111,
   "id": "0c02bcbd",
   "metadata": {},
   "outputs": [
    {
     "name": "stdout",
     "output_type": "stream",
     "text": [
      "10\n"
     ]
    }
   ],
   "source": [
    "p=lambda p1,p2:p1+p2\n",
    "print(p(4,6))"
   ]
  },
  {
   "cell_type": "code",
   "execution_count": 15,
   "id": "e4900edb",
   "metadata": {},
   "outputs": [
    {
     "name": "stdout",
     "output_type": "stream",
     "text": [
      "bir sayı girininiz: 5\n",
      "120\n",
      "bir sayı girininiz: 3\n",
      "6\n",
      "bir sayı girininiz: -0\n",
      "1\n",
      "bir sayı girininiz: -8\n",
      "lütfen doğal bir sayı giriniz!!! \n",
      "None\n"
     ]
    }
   ],
   "source": [
    "def fak(sayı):\n",
    "    if sayı<0:\n",
    "        print(\"lütfen doğal bir sayı giriniz!!! \")\n",
    "    else:\n",
    "        çarp=1 \n",
    "        for i in range(1,sayı+1):\n",
    "            çarp*=i\n",
    "        return çarp\n",
    "n=0\n",
    "while 0<=n :\n",
    "    n=int(input(\"bir sayı giriniz: \"))\n",
    "    print(fak(n))"
   ]
  },
  {
   "cell_type": "code",
   "execution_count": 44,
   "id": "6d93aa03",
   "metadata": {},
   "outputs": [
    {
     "name": "stdout",
     "output_type": "stream",
     "text": [
      "[[6, 3, 3, 2], [3, 1, 9, 1], [9, 8, 4, 9], [4, 8, 4, 5]]\n"
     ]
    }
   ],
   "source": [
    "from random import randint as py\n",
    "print([[py(1,9)for i in range(4)]for i in range(4)])"
   ]
  },
  {
   "cell_type": "code",
   "execution_count": 46,
   "id": "06caef08",
   "metadata": {},
   "outputs": [
    {
     "name": "stdout",
     "output_type": "stream",
     "text": [
      "7 9 9 2 \n",
      "5 6 3 7 \n",
      "5 2 2 7 \n",
      "1 7 6 8 \n"
     ]
    }
   ],
   "source": [
    "k=[[py(1,9)for i in range(4)]for i in range(4)]\n",
    "for i in k:\n",
    "    for j in i:\n",
    "        print(j,end=\" \")\n",
    "    print()"
   ]
  },
  {
   "cell_type": "code",
   "execution_count": 87,
   "id": "136c8e74",
   "metadata": {},
   "outputs": [
    {
     "name": "stdout",
     "output_type": "stream",
     "text": [
      "[6, 7, 10, 9, 6]\n",
      "[8, 15, 11, 11]\n"
     ]
    }
   ],
   "source": [
    "def digit(t):\n",
    "    su=0\n",
    "    while t>0:\n",
    "        su+=t%10\n",
    "        t=t//10\n",
    "    return su\n",
    "liste=[222,34,55,27,33]\n",
    "liset1=[323,654,56,56]\n",
    "f=list(map(digit,liset1))\n",
    "w=list(map(digit,liste))\n",
    "print(w)\n",
    "print(f)"
   ]
  },
  {
   "cell_type": "code",
   "execution_count": 70,
   "id": "7548f4a3",
   "metadata": {},
   "outputs": [
    {
     "name": "stdout",
     "output_type": "stream",
     "text": [
      "bir sayı: 10\n",
      "ilk listemiz [1, 6, 7, 2, 6, 1, 4, 4, 1, 3] \n",
      "sayılama listemiz [3, 2, 1, 1, 2, 3, 2, 2, 3, 1]\n",
      "3\n",
      "[6, 7, 2, 6, 4, 4, 3]\n",
      "7\n"
     ]
    }
   ],
   "source": [
    "from random import randint as py\n",
    "o=int(input(\"bir sayı: \"))\n",
    "liste=[py(1,9)for i in range(o)]\n",
    "print(f\"ilk listemiz {liste} \")\n",
    "list1=[]\n",
    "for i in liste:\n",
    "    say=0\n",
    "    for j in liste:\n",
    "        if i==j:\n",
    "            say+=1\n",
    "    list1.append(say)\n",
    "print(f\"sayılama listemiz {list1}\")\n",
    "enb=list1[0]\n",
    "for i in list1:\n",
    "    if i>enb:\n",
    "        enb=i\n",
    "print(enb)\n",
    "def say(lis,sa):\n",
    "    s=0\n",
    "    for i in lis:\n",
    "        if i==sa:\n",
    "            s+=1\n",
    "    return s\n",
    "list2=[]\n",
    "for j in liste:\n",
    "    if say(liste,j)==enb:\n",
    "        continue \n",
    "    else :\n",
    "        list2.append(j)\n",
    "print(list2)\n",
    "print(len(list2))"
   ]
  },
  {
   "cell_type": "code",
   "execution_count": 72,
   "id": "753490b7",
   "metadata": {},
   "outputs": [
    {
     "name": "stdout",
     "output_type": "stream",
     "text": [
      "mhd nour eddin bassal\n",
      "['mhd', 'nour', 'eddin', 'bassal']\n"
     ]
    }
   ],
   "source": [
    "k=input().split()\n",
    "print(k)"
   ]
  },
  {
   "cell_type": "code",
   "execution_count": 71,
   "id": "6feb2e2a",
   "metadata": {},
   "outputs": [
    {
     "name": "stdout",
     "output_type": "stream",
     "text": [
      "b\n"
     ]
    }
   ],
   "source": [
    "print(chr(98)) "
   ]
  },
  {
   "cell_type": "code",
   "execution_count": 104,
   "id": "742c6c21",
   "metadata": {},
   "outputs": [
    {
     "name": "stdout",
     "output_type": "stream",
     "text": [
      "Before: I like cats. I have one cat.\n",
      "After:  I like s. I have one .\n"
     ]
    }
   ],
   "source": [
    "def remove_all(s1, s2):\n",
    "\n",
    "    s1_length = len(s1)\n",
    "    s2_length = len(s2)\n",
    "    new_string = ''\n",
    "\n",
    "    i = 0\n",
    "    while i < s1_length:\n",
    "\n",
    "        if i <= s1_length - s2_length and s1[i: i + s2_length] == s2:\n",
    "            i += s2_length\n",
    "\n",
    "        else:\n",
    "            new_string += s1[i]\n",
    "            i += 1\n",
    "\n",
    "    return new_string\n",
    "\n",
    "\n",
    "text = \"I like cats. I have one cat.\"\n",
    "keyword = \"cat\"\n",
    "newText = remove_all(text, keyword)\n",
    "\n",
    "print(\"Before:\", text)\n",
    "print(\"After: \", newText)"
   ]
  },
  {
   "cell_type": "code",
   "execution_count": 107,
   "id": "f2a95168",
   "metadata": {},
   "outputs": [
    {
     "name": "stdout",
     "output_type": "stream",
     "text": [
      "I like cats. I have one cat.\n",
      "I like dogs. I have one dog.\n"
     ]
    }
   ],
   "source": [
    "def reb(s1,s2,s3):\n",
    "    u1=len(s1)\n",
    "    u2=len(s2)\n",
    "    s4=\"\"\n",
    "    i=0\n",
    "    while i<u1:\n",
    "        if s1[i:i+u2]==s2:\n",
    "            s4+=s3\n",
    "            i+=u2\n",
    "        else:\n",
    "            s4+=s1[i]\n",
    "            i+=1\n",
    "    return s4\n",
    "text = \"I like cats. I have one cat.\"\n",
    "keyword = \"cat\"\n",
    "o=\"dog\"\n",
    "print(text)\n",
    "print(reb(text,keyword,o))\n",
    "            \n",
    "            \n",
    "            \n"
   ]
  },
  {
   "cell_type": "code",
   "execution_count": 108,
   "id": "960d17e0",
   "metadata": {},
   "outputs": [
    {
     "name": "stdout",
     "output_type": "stream",
     "text": [
      "Iron Man\n",
      "IIrroonn  MMaann\n"
     ]
    }
   ],
   "source": [
    "def DoubleChars(st):\n",
    "    st1=\"\"\n",
    "    for i in range(len(st)):\n",
    "        for j in range(2):\n",
    "            st1+=st[i]\n",
    "    return st1\n",
    "r=\"Iron Man\"\n",
    "print(r)\n",
    "print(DoubleChars(r))"
   ]
  },
  {
   "cell_type": "code",
   "execution_count": 120,
   "id": "80e1e596",
   "metadata": {},
   "outputs": [
    {
     "name": "stdout",
     "output_type": "stream",
     "text": [
      "a found at index: 1\n",
      "a found at index: 4\n",
      "a found at index: 30\n",
      "a found at index: 39\n"
     ]
    }
   ],
   "source": [
    "def bul(s1,s2):\n",
    "    for i in range(len(s1)):\n",
    "        if s1[i]==s2:\n",
    "            print(f\"{s2} found at index: {i}\")\n",
    "bul(\"Harmash is the best site to learn programming\",\"a\")"
   ]
  },
  {
   "cell_type": "code",
   "execution_count": 134,
   "id": "e2eb512e",
   "metadata": {},
   "outputs": [
    {
     "name": "stdout",
     "output_type": "stream",
     "text": [
      "['Programming', 'is', 'nour', 'to', 'learn.']\n"
     ]
    }
   ],
   "source": [
    "s=\"Programming is    nour to learn.\"\n",
    "u=s.split()\n",
    "print(u)"
   ]
  },
  {
   "cell_type": "code",
   "execution_count": 2,
   "id": "1b4ce1c5",
   "metadata": {},
   "outputs": [
    {
     "name": "stdout",
     "output_type": "stream",
     "text": [
      "18\n"
     ]
    }
   ],
   "source": [
    "def kaç(t):\n",
    "    k=0\n",
    "    for i in range(len(t)-1):\n",
    "        if ord(t[i])>ord(\"A\") and ord(t[i])<ord(\"z\") or  ord(t[i])== ord(\" \"):\n",
    "            k+=1\n",
    "    return k\n",
    "text = \"Hi Lora.\\nHow are you?.\"\n",
    "print(kaç(text))"
   ]
  },
  {
   "cell_type": "code",
   "execution_count": 1,
   "id": "0595a9f6",
   "metadata": {},
   "outputs": [
    {
     "name": "stdout",
     "output_type": "stream",
     "text": [
      "I am happy. I am a doctor. I like chocolate.\n",
      "['I', 'am', 'happy.', 'I', 'am', 'a', 'doctor.', 'I', 'like', 'chocolate.']\n",
      "['I', 'am', 'happy.', 'a', 'doctor.', 'like', 'chocolate.']\n",
      "[3] I\n",
      "[2] am\n",
      "[1] happy.\n",
      "[1] a\n",
      "[1] doctor.\n",
      "[1] like\n",
      "[1] chocolate.\n"
     ]
    }
   ],
   "source": [
    "st=\"I am happy. I am a doctor. I like chocolate.\"\n",
    "print(st)\n",
    "st1=st.split()\n",
    "print(st1)\n",
    "l=[]\n",
    "for i in st1:\n",
    "    if i not in l:\n",
    "        l.append(i)\n",
    "print(l)\n",
    "def h(j):\n",
    "    cout=0\n",
    "    for i in st1:\n",
    "        if i==j:\n",
    "            cout+=1\n",
    "    return cout\n",
    "for i in l:\n",
    "    print(f\"{[h(i)]} {i}\")"
   ]
  },
  {
   "cell_type": "code",
   "execution_count": 16,
   "id": "c5417eb0",
   "metadata": {},
   "outputs": [
    {
     "name": "stdout",
     "output_type": "stream",
     "text": [
      "'2' found at index: 1\n",
      "'2' found at index: 3\n",
      "'2' found at index: 5\n",
      "'2' found at index: 7\n"
     ]
    }
   ],
   "source": [
    "def find(st,stt):\n",
    "    for i in range(len(st)):\n",
    "        if st[i]==stt:\n",
    "            print(f\"'{stt}' found at index: {i}\")\n",
    "k=[1, 2, 3, 2, 5, 2, 7, 2]\n",
    "t=2\n",
    "find(k,t)"
   ]
  },
  {
   "cell_type": "code",
   "execution_count": 36,
   "id": "a9733de9",
   "metadata": {},
   "outputs": [
    {
     "name": "stdout",
     "output_type": "stream",
     "text": [
      "[0] is repeated 2 time(s)\n",
      "[4] is repeated 3 time(s)\n",
      "[2] is repeated 4 time(s)\n",
      "[3] is repeated 2 time(s)\n",
      "[5] is repeated 1 time(s)\n",
      "[1] is repeated 1 time(s)\n"
     ]
    }
   ],
   "source": [
    "# هنا قمنا بتعريف الدالة\n",
    "def count_occurrence(arr):\n",
    "\n",
    "    for i in range(0, len(arr)):\n",
    "\n",
    "        counter = 1\n",
    "\n",
    "        if arr[i] !=\"\":\n",
    "\n",
    "            for j in range(i+1, len(arr)):\n",
    "\n",
    "                if arr[i] == arr[j]:\n",
    "                    counter += 1\n",
    "                    arr[j] = \"\"\n",
    "\n",
    "            print(\"[\" + str(arr[i]) + \"] is repeated \" + str(counter) + \" time(s)\")\n",
    "\n",
    "\n",
    "# هنا قمنا بتجهيز القيم التي سنمررها للدالة\n",
    "array = [0, 4, 2, 3, 2, 4, 3, 5, 2, 0, 1, 4, 2]\n",
    "\n",
    "# هنا قمنا بتجربة الدالة\n",
    "count_occurrence(array)"
   ]
  },
  {
   "cell_type": "code",
   "execution_count": 21,
   "id": "1cf149af",
   "metadata": {},
   "outputs": [
    {
     "name": "stdout",
     "output_type": "stream",
     "text": [
      "[1, 2, 3, 4]\n",
      "[3, 4]\n",
      "[1, 2, 3, 4]\n"
     ]
    }
   ],
   "source": [
    "from copy import copy as co\n",
    "liste=[i for i in range(1,5)]\n",
    "print(liste)\n",
    "li=co(liste)\n",
    "del li[0:2]\n",
    "print(li)\n",
    "print(liste)"
   ]
  },
  {
   "cell_type": "code",
   "execution_count": 22,
   "id": "e6ed585c",
   "metadata": {},
   "outputs": [
    {
     "name": "stdout",
     "output_type": "stream",
     "text": [
      "[1, 2, 3, 4]\n",
      "[3, 4]\n",
      "[3, 4]\n"
     ]
    }
   ],
   "source": [
    "liste=[i for i in range(1,5)]\n",
    "print(liste)\n",
    "li=liste\n",
    "del li[:2]\n",
    "print(li)\n",
    "print(liste)"
   ]
  },
  {
   "cell_type": "code",
   "execution_count": 51,
   "id": "dc699709",
   "metadata": {},
   "outputs": [
    {
     "name": "stdout",
     "output_type": "stream",
     "text": [
      "Enter Arabic note: 23\n",
      "Enter Arabic note: 15\n",
      "Enter English note: 12\n",
      "Enter Science note: 13\n",
      "Enter Math note: 11\n",
      "\n",
      "Average: 12.75 [ Succeeded ]\n"
     ]
    }
   ],
   "source": [
    "methods = ['Arabic', 'English', 'Science', 'Math']\n",
    "total_methods = len(methods)\n",
    "\n",
    "notes = [-2] * len(methods)\n",
    "avg = 0\n",
    "\n",
    "for i in range(0, total_methods):\n",
    "    while notes[i] < 0 or notes[i] > 20:\n",
    "        notes[i] = int(input('Enter ' + methods[i] + ' note: '))\n",
    "\n",
    "for i in range(0, total_methods):\n",
    "    avg += notes[i]\n",
    "\n",
    "avg /= total_methods\n",
    "\n",
    "print('\\nAverage:', avg, end=' ')\n",
    "\n",
    "if avg >= 10:\n",
    "    print('[ Succeeded ]')\n",
    "else:\n",
    "    print('[ Failed ]')"
   ]
  },
  {
   "cell_type": "code",
   "execution_count": 2,
   "id": "8a7c1577",
   "metadata": {},
   "outputs": [
    {
     "name": "stdout",
     "output_type": "stream",
     "text": [
      "[[0, 0, 0], [0, 0, 0], [0, 0, 0]]\n",
      "Enter matrix[0][0]: 1\n",
      "Enter matrix[0][1]: 2\n",
      "Enter matrix[0][2]: 3\n",
      "Enter matrix[1][0]: 4\n",
      "Enter matrix[1][1]: 5\n",
      "Enter matrix[1][2]: 6\n",
      "Enter matrix[2][0]: 7\n",
      "Enter matrix[2][1]: 8\n",
      "Enter matrix[2][2]: 9\n",
      "1 2 3 \n",
      "4 5 6 \n",
      "7 8 9 \n",
      "0. satırın toplamı==6\n",
      "1. satırın toplamı==15\n",
      "2. satırın toplamı==24\n"
     ]
    }
   ],
   "source": [
    "satır=3\n",
    "sutun=3\n",
    "matrix=[[0 for i in range(sutun)] for j in range(satır)]\n",
    "print(matrix)\n",
    "to=[]\n",
    "for i in range(satır):\n",
    "    top=0\n",
    "    for j in range(sutun):\n",
    "        matrix[i][j]=int(input(f\"Enter matrix[{i}][{j}]: \"))\n",
    "        top+=matrix[i][j]\n",
    "    to.append(top)\n",
    "for i in range(satır):\n",
    "    for j in range(sutun):\n",
    "        print(matrix[i][j], end=\" \")\n",
    "    print()\n",
    "for i in range(len(to)):\n",
    "    print(f\"{i}. satırın toplamı=={to[i]}\")"
   ]
  },
  {
   "cell_type": "code",
   "execution_count": 14,
   "id": "b052ddcc",
   "metadata": {},
   "outputs": [
    {
     "name": "stdout",
     "output_type": "stream",
     "text": [
      "[[4, 4, 2], [5, 6, 2], [5, 7, 1]]\n",
      "hayır\n"
     ]
    }
   ],
   "source": [
    "from random import randint as py\n",
    "def arama(mat,rak):\n",
    "    p=False\n",
    "    for i in range(len(mat)):\n",
    "        for j in range(len(mat[0])):\n",
    "            if mat[i][j]==rak:\n",
    "                p=True\n",
    "                break\n",
    "    return p\n",
    "matrix=[[py(1,9)for i in range(3)]for j in range(3)]\n",
    "print(matrix)\n",
    "k=9\n",
    "if arama(matrix,k):\n",
    "    print(\"bulundu\")\n",
    "else:\n",
    "    print(\"hayır\")\n",
    "    "
   ]
  },
  {
   "cell_type": "code",
   "execution_count": 5,
   "id": "7021c975",
   "metadata": {},
   "outputs": [
    {
     "name": "stdout",
     "output_type": "stream",
     "text": [
      "[[5, 8, 7], [4, 3, 4], [1, 5, 6]]\n",
      "[1, 3, 4, 4, 5, 5, 6, 7, 8]\n",
      "[[1, 3, 4], [4, 5, 5], [6, 7, 8]]\n",
      "[[1 3 4]\n",
      " [4 5 5]\n",
      " [6 7 8]]\n"
     ]
    }
   ],
   "source": [
    "from random import randint as py\n",
    "import numpy as k\n",
    "def arama(mat):\n",
    "    k=[]\n",
    "    for i in range(len(mat)):\n",
    "        for j in range(len(mat[0])):\n",
    "            k.append(mat[i][j])\n",
    "    for i in range(len(k)-1):\n",
    "        for j in range(len(k)-1):\n",
    "            if k[j]>k[j+1]:\n",
    "                k[j],k[j+1]=k[j+1],k[j]\n",
    "    return k\n",
    "def ol(mat,y):\n",
    "    satır=y[0]\n",
    "    sutun=y[1]\n",
    "    matris=[]\n",
    "    k=0\n",
    "    for i in range(satır):\n",
    "        st=[]\n",
    "        for j in range(sutun):\n",
    "            st.append(mat[k])\n",
    "            k+=1\n",
    "        matris.append(st)\n",
    "    return matris        \n",
    "    \n",
    "matrix=[[py(1,9)for i in range(3)]for j in range(3)]\n",
    "print(matrix)\n",
    "\n",
    "print(arama(matrix))\n",
    "print(ol(arama(matrix),(3,3)))\n",
    "y=ol(arama(matrix),(3,3))\n",
    "s=k.array(y)\n",
    "print(s)\n",
    "    "
   ]
  },
  {
   "cell_type": "code",
   "execution_count": 10,
   "id": "b8c1701a",
   "metadata": {},
   "outputs": [
    {
     "name": "stdout",
     "output_type": "stream",
     "text": [
      "Matrix before sorting \n",
      "5 2 4 \n",
      "1 7 3 \n",
      "9 8 6 \n",
      "[5, 2, 4, 1, 7, 3, 9, 8, 6]\n",
      "[1, 2, 3, 4, 5, 6, 7, 8, 9]\n",
      "\n",
      "Matrix after sorting \n",
      "1 2 3 \n",
      "4 5 6 \n",
      "7 8 9 \n"
     ]
    }
   ],
   "source": [
    "matrix = [\n",
    "    [5, 2, 4],\n",
    "    [1, 7, 3],\n",
    "    [9, 8, 6]\n",
    "]\n",
    "\n",
    "rows = len(matrix)\n",
    "cols = len(matrix[0])\n",
    "\n",
    "array = [0] * (rows * cols)\n",
    "\n",
    "print('Matrix before sorting ')\n",
    "\n",
    "for i in range(rows):\n",
    "    for j in range(len(matrix[0])):\n",
    "        print(matrix[i][j], end=' ')\n",
    "    print()\n",
    "\n",
    "for i in range(rows):\n",
    "    for j in range(cols):\n",
    "        array[j + (i * rows)] = matrix[i][j]\n",
    "print(array)\n",
    "\n",
    "for i in range(len(array) - 1):\n",
    "    for j in range(i + 1, len(array)):\n",
    "        if array[j] < array[i]:\n",
    "            array[j],array[i]=array[i],array[j]\n",
    "print(array)\n",
    "for i in range(rows):\n",
    "    for j in range(cols):\n",
    "        matrix[i][j] = array[j + (i * rows)]\n",
    "\n",
    "print('\\nMatrix after sorting ')\n",
    "\n",
    "for i in range(rows):\n",
    "    for j in range(cols):\n",
    "        print(matrix[i][j], end=' ')\n",
    "    print() \n",
    "#ikinci yol"
   ]
  },
  {
   "cell_type": "code",
   "execution_count": 3,
   "id": "c7f41030",
   "metadata": {},
   "outputs": [
    {
     "name": "stdout",
     "output_type": "stream",
     "text": [
      "5\n",
      "5\n",
      "[[-1  6  2  8 -1]\n",
      " [ 2 -8  5  3  6]\n",
      " [ 6  3  3  9 -3]\n",
      " [-1  8 -3  6  7]\n",
      " [-3  8 -5  5 -4]]\n",
      "\n",
      "pozitif sayısı=16\n",
      "negatif sayısı=9\n",
      "sıfır sayısı=0\n"
     ]
    }
   ],
   "source": [
    "from random import randint as py\n",
    "import numpy as k\n",
    "satır=int(input())\n",
    "sutun=int(input())\n",
    "matrix=[[py(-9,9)for i in range(sutun)]for j in range(satır)]\n",
    "print(k.array(matrix))\n",
    "p=0\n",
    "n=0\n",
    "s=0\n",
    "for i in range(len(matrix)):\n",
    "    for j in range(len(matrix)):\n",
    "        if matrix[i][j]<0:\n",
    "            n+=1\n",
    "        elif  matrix[i][j]>0:\n",
    "            p+=1\n",
    "        else:\n",
    "            s+=1\n",
    "print(f\"\\npozitif sayısı={p}\\nnegatif sayısı={n}\\nsıfır sayısı={s}\")"
   ]
  },
  {
   "cell_type": "code",
   "execution_count": 13,
   "id": "baa37d81",
   "metadata": {},
   "outputs": [
    {
     "name": "stdout",
     "output_type": "stream",
     "text": [
      "[[9, 7, 8], [4, 3, 1], [3, 3, 3]]\n",
      "[[9 7 8]\n",
      " [4 3 1]\n",
      " [3 3 3]]\n",
      "\n",
      " köşegenin üstünde=16\n",
      " köşegenin altında=10\n",
      " köşegenin(diyagonal)=15\n"
     ]
    }
   ],
   "source": [
    "satır=3\n",
    "sutun=3\n",
    "matrix=[[py(1,9) for i in range(sutun)] for j in range(satır)]\n",
    "print(matrix)\n",
    "s=k.array(matrix)\n",
    "print(s)\n",
    "abone=0\n",
    "on=0\n",
    "under=0\n",
    "for i in range(len(matrix)):\n",
    "    for j in range(len(matrix[0])):\n",
    "        if i==j:\n",
    "            on+=matrix[i][j]\n",
    "        elif i<j:\n",
    "            abone+=matrix[i][j]\n",
    "            under+=matrix[j][i]\n",
    "print(f\"\\n köşegenin üstünde={abone}\\n köşegenin altında={under}\\n köşegenin(diyagonal)={on}\")\n"
   ]
  },
  {
   "cell_type": "code",
   "execution_count": 16,
   "id": "97b70760",
   "metadata": {},
   "outputs": [
    {
     "name": "stdout",
     "output_type": "stream",
     "text": [
      "8\n"
     ]
    }
   ],
   "source": [
    "def PrintSecondBiggest(k):\n",
    "    for i in range(len(k)-1):\n",
    "        for j in range(len(k)-1):\n",
    "            if k[j]>k[j+1]:\n",
    "                k[j],k[j+1]=k[j+1],k[j]\n",
    "    return k[-2]\n",
    "arr = [5, 9, 3, 6, 4, 2, 7, 1, 8]\n",
    "K=PrintSecondBiggest(arr)\n",
    "print(K)"
   ]
  },
  {
   "cell_type": "code",
   "execution_count": 37,
   "id": "df137b7d",
   "metadata": {},
   "outputs": [
    {
     "name": "stdout",
     "output_type": "stream",
     "text": [
      "[3, 6, 5, 8, 1, 1, 9, 4, 6]\n",
      "3\n",
      "[1, 1, 3, 4, 5, 6, 6, 8, 9]\n",
      "Second biggest number is: 8\n"
     ]
    }
   ],
   "source": [
    "# print_second_biggest() هنا قمنا بتعريف الدالة\n",
    "from random import randint as py\n",
    "def print_second_biggest(arr):\n",
    "\n",
    "    if len(arr) == 0:\n",
    "        print(\"Invalid params\")\n",
    "        return\n",
    "\n",
    "    second_biggest = arr[0]\n",
    "    print(second_biggest)\n",
    "\n",
    "    for i in range(len(arr) - 1):\n",
    "        for j in range(i+1, len(arr)):\n",
    "            if arr[i] > arr[j]:\n",
    "                temp = arr[j]\n",
    "                arr[j] = arr[i]\n",
    "                arr[i] = temp\n",
    "    print(arr)\n",
    "    for i in range(len(arr) - 1, 0, -1):\n",
    "        if arr[i] != arr[len(arr) - 1]:\n",
    "            second_biggest = arr[i]\n",
    "            break\n",
    "\n",
    "    if second_biggest == arr[0]:\n",
    "        print(\"There isn't a second biggest number\")\n",
    "        return\n",
    "    \n",
    "    print(\"Second biggest number is:\", second_biggest)\n",
    "\n",
    "\n",
    "# print_second_biggest() هنا قمنا بإنشاء مصفوفة أرقام أحادية و تجربة الدالة\n",
    "arr = [py(1,9)for i in range(9)]\n",
    "print(arr)\n",
    "print_second_biggest(arr)"
   ]
  },
  {
   "cell_type": "code",
   "execution_count": 52,
   "id": "5833ca63",
   "metadata": {},
   "outputs": [
    {
     "name": "stdout",
     "output_type": "stream",
     "text": [
      "en uzun kelime =Abdullah ve onun uzunluğu =8\n"
     ]
    }
   ],
   "source": [
    "def PrintLongestName(liste):\n",
    "    enb=len(liste[0])\n",
    "    k=liste[0]\n",
    "    for i in range(len(liste)):\n",
    "        if len(liste[i])>enb:\n",
    "            enb=len(liste[i])\n",
    "            k=liste[i]\n",
    "    print(f\"en uzun kelime ={k} ve onun uzunluğu ={enb}\")\n",
    "names = [\"Mhamad\", \"Abdullah\", \"Rami\", \"Zeina\", \"Marwa\"]\n",
    "PrintLongestName(names)\n",
    "            "
   ]
  },
  {
   "cell_type": "code",
   "execution_count": 65,
   "id": "b7babf7b",
   "metadata": {},
   "outputs": [
    {
     "name": "stdout",
     "output_type": "stream",
     "text": [
      "Banana\n",
      "Orange\n",
      "Apple\n"
     ]
    }
   ],
   "source": [
    "# my_يحتوي على 3 قيم, إسمه هنا قمنا بإنشاء\n",
    "my= [\"Banana\", \"Orange\", \"Apple\"]\n",
    "\n",
    "# my_وضعنا فيه قيم الكائن iterator هنا قمنا بإنشاء\n",
    "my_iterator = iter(my)\n",
    "\n",
    "# ثلاث مرات و عرض ما ترجعه في كل مرة next() هنا قمنا باستدعاء الدالة\n",
    "# my_iterator لاحظ أنها في كل مرة ترجع القيمة التالية في الكائن\n",
    "print(next(my_iterator))\n",
    "print(next(my_iterator))\n",
    "print(next(my_iterator))"
   ]
  },
  {
   "cell_type": "code",
   "execution_count": 12,
   "id": "107df2fb",
   "metadata": {},
   "outputs": [
    {
     "name": "stdout",
     "output_type": "stream",
     "text": [
      "Banana\n",
      "Orange\n",
      "Apple\n"
     ]
    }
   ],
   "source": [
    "# my_يحتوي على 3 قيم, إسمه هنا قمنا بإنشاء\n",
    "my= (\"Banana\", \"Orange\", \"Apple\")\n",
    "\n",
    "# بعدها سيتم عرض قيمته ,val و من ثم وضعها في المتغير my_هنا في كل دورة سيتم جلب القيمة التالية من الكائن\n",
    "for val in my:\n",
    "    print(val)"
   ]
  },
  {
   "cell_type": "code",
   "execution_count": 13,
   "id": "f20ce853",
   "metadata": {},
   "outputs": [
    {
     "name": "stdout",
     "output_type": "stream",
     "text": [
      "1\n",
      "2\n",
      "3\n",
      "4\n",
      "5\n",
      "6\n"
     ]
    }
   ],
   "source": [
    "# __next__() و __iter__() للدالتين Override لأنه يفعل Iterator يمثل IterCounter هنا قمنا بإنشاء كلاس إسمه\n",
    "class IterCounter:\n",
    "\n",
    "    # هي 0 IterCounter هنا قلنا أن القيمة الأولى التي سيتم إعطاؤها لأي كائن يتم إنشاؤه من الكلاس\n",
    "    def __iter__(self):\n",
    "        self.num = 0\n",
    "        return self\n",
    "\n",
    "    # مضافاً إليها 1 num ستكون قيمة المتغير next() في كل مرة نستدعي فيها الدالة IterCounter هنا قلنا أن القيمة التالية التي سيرجعها الكائن الذي ننشئه من الكلاس\n",
    "    def __next__(self):\n",
    "        self.num += 1\n",
    "        return self.num\n",
    "\n",
    "\n",
    "# iter_counter و من ثم قمنا بتخزينه في الكائن ,iter() بواسطة الدالة iterator مع تحويله مباشرةً لـ IterCounter هنا قمنا بإنشاء كائن من الكلاس\n",
    "iter_counter = iter(IterCounter())\n",
    "\n",
    "# next() في كل مرة نمرره للدالة iter_counter هنا قمنا بعرض القيمة التالية التي سيرجعها الكائن\n",
    "for i in range(6):\n",
    "    print(next(iter_counter))"
   ]
  },
  {
   "cell_type": "code",
   "execution_count": 86,
   "id": "a007d837",
   "metadata": {},
   "outputs": [
    {
     "name": "stdout",
     "output_type": "stream",
     "text": [
      "2\n",
      "4\n",
      "8\n",
      "16\n",
      "32\n"
     ]
    }
   ],
   "source": [
    "class PowTwo:\n",
    "\n",
    "    # يمكن تمرير رقم لها مباشرةً عند إنشاء كائن من هذا الكلاس end الخاصية\n",
    "    def __init__(self, end=1):\n",
    "        self.end = end\n",
    "\n",
    "    # تساوي 0 next() الذي سنستخدمه لحساب كم مرة تم إستدعاء الدالة n هنا جعلنا القيمة الأولية للمتغير\n",
    "    def __iter__(self):\n",
    "        self.n = 1\n",
    "        return self\n",
    "\n",
    "    # سيتم إرجاع القيمة  end أصغر من قيمة الخاصية n إذا كانت قيمة المتغير ,next() هنا قلنا أنه كلما تم إستدعاء الدالة\n",
    "    # الذي يعني أنه لم يعد هناك أي قيمة في الكائن StopIteration المضاعفة التالية, و إذا لم تكن أصغر منها سيتم إرجاع الخطأ\n",
    "    def __next__(self):\n",
    "        if self.n <= self.end:\n",
    "            result = 2 ** self.n\n",
    "            self.n += 1\n",
    "            return result\n",
    "        else:\n",
    "            raise StopIteration\n",
    "\n",
    "\n",
    "# next() و من ثم طباعة المضاعفات الخمسة للرقم 2 كلما تم إستدعاء الدالة end و تمرير القيمة 5 مكان الخاصية  PowTwo هنا قمنا بإنشاء كائن من الكلاس\n",
    "for val in PowTwo(5):\n",
    "    print(val)"
   ]
  },
  {
   "cell_type": "code",
   "execution_count": 26,
   "id": "38bd9a1e",
   "metadata": {},
   "outputs": [
    {
     "name": "stdout",
     "output_type": "stream",
     "text": [
      "apple\n",
      "banana\n",
      "cherry\n"
     ]
    }
   ],
   "source": [
    "fruits = [\"apple\", \"banana\", \"cherry\"]\n",
    "x, y, z = fruits\n",
    "\n",
    "print(x)\n",
    "print(y)\n",
    "print(z)\n"
   ]
  },
  {
   "cell_type": "code",
   "execution_count": 15,
   "id": "976ca4e8",
   "metadata": {},
   "outputs": [
    {
     "name": "stdout",
     "output_type": "stream",
     "text": [
      "bir sayı giriniz: 33\n",
      "2\n",
      "3\n",
      "5\n",
      "7\n",
      "11\n",
      "13\n",
      "17\n",
      "19\n",
      "23\n",
      "29\n",
      "31\n"
     ]
    }
   ],
   "source": [
    "def asalmı(sayı):\n",
    "    k=True\n",
    "    for i in range(2,sayı):\n",
    "        if sayı%i==0:\n",
    "            k=False\n",
    "            break\n",
    "    return k\n",
    "n=int(input(\"bir sayı giriniz: \"))\n",
    "for i in range(2,n):\n",
    "    if asalmı(i)==True:\n",
    "        print(i)"
   ]
  },
  {
   "cell_type": "code",
   "execution_count": 1,
   "id": "1d9154c9",
   "metadata": {},
   "outputs": [
    {
     "name": "stdout",
     "output_type": "stream",
     "text": [
      "hangi sayı ile başlayacağnı yazınız: 4\n",
      "[1, 2, 3, 4]\n",
      "kaç sayı olacağını yazınız: 3\n",
      "0 5\n",
      "1 3\n",
      "0 3\n",
      "0\n",
      "1\n",
      "2\n"
     ]
    }
   ],
   "source": [
    "n=int(input(\"hangi sayı ile başlayacağnı yazınız: \"))\n",
    "a=list(range(1,n+1));print(a)\n",
    "def j(f):\n",
    "    t=[]\n",
    "    top=0\n",
    "    for i in range(2):\n",
    "        t.append(f[i])\n",
    "    if t[0]==0:\n",
    "        for i in a:\n",
    "            if i>=t[1]:\n",
    "                top+=1\n",
    "    elif t[0]==1:\n",
    "        for i in a:\n",
    "            if i>t[1]:\n",
    "                top+=1\n",
    "    return top\n",
    "q=int(input((\"kaç sayı olacağını yazınız: \")))\n",
    "o=[]\n",
    "for i in range(q):\n",
    "    w=list(map(int,input().split()))\n",
    "    o.append(j(w))\n",
    "for i in o:\n",
    "    print(i)\n",
    "    "
   ]
  },
  {
   "cell_type": "code",
   "execution_count": 3,
   "id": "40a36bb0",
   "metadata": {},
   "outputs": [
    {
     "name": "stdout",
     "output_type": "stream",
     "text": [
      "3\n",
      "1 3\n",
      "5 8\n",
      "7 12\n",
      "[2, 4, 6]\n",
      "2\n",
      "4\n",
      "6\n"
     ]
    }
   ],
   "source": [
    "T=int(input())\n",
    "liste=[]\n",
    "for ı in range(T):\n",
    "    x=list(map(int,input().split()))\n",
    "    while True:\n",
    "        L=x[0];R=x[1];\n",
    "        if R>L and L>=1:\n",
    "            count=0\n",
    "            if L==1:\n",
    "                for i in range(L+1,R+1):\n",
    "                    count+=1\n",
    "                liste.append(count)\n",
    "                break\n",
    "            else:\n",
    "                for i in range(L,R+1):\n",
    "                    count+=1\n",
    "                liste.append(count)\n",
    "                break\n",
    "        else:\n",
    "            x=list(map(int,input().split()))\n",
    "print(liste)\n",
    "for i in liste:\n",
    "    print(i)\n",
    "    "
   ]
  },
  {
   "cell_type": "code",
   "execution_count": 26,
   "id": "95d3c8cd",
   "metadata": {},
   "outputs": [
    {
     "name": "stdout",
     "output_type": "stream",
     "text": [
      "12\n",
      "2\n",
      "\n",
      " girdimiz sayı=12 ve taban=2 dolaysıyla sayının 2. tabana çevirdiğimiz zaman =1100\n"
     ]
    }
   ],
   "source": [
    "def k(sayı,n):\n",
    "    f=[]\n",
    "    while sayı>0:\n",
    "        m=sayı%n\n",
    "        sayı=int(sayı/n)\n",
    "        f.append(str(m))\n",
    "    f.reverse()\n",
    "    y=\"\".join(f)\n",
    "    return int(y)\n",
    "sayı=int(input())\n",
    "taban=int(input())\n",
    "\n",
    "print(f\"\\n girdimiz sayı={sayı} ve taban={taban} dolaysıyla sayının {taban}. tabana çevirdiğimiz zaman ={k(sayı,taban)}\")\n",
    "\n",
    "    \n",
    "    "
   ]
  },
  {
   "cell_type": "code",
   "execution_count": 61,
   "id": "9b89540b",
   "metadata": {},
   "outputs": [
    {
     "name": "stdout",
     "output_type": "stream",
     "text": [
      "2\n",
      "3 5 9\n",
      "2\n",
      "2 7 10\n",
      "7\n"
     ]
    }
   ],
   "source": [
    "T=int(input())\n",
    "for i in range(T):\n",
    "    m=list(map(int,input().split()))\n",
    "    a=m[0];b=m[1];k=m[2];\n",
    "    st=\"\"\n",
    "    top=a\n",
    "    for i in range(k):\n",
    "        st+=str(top)\n",
    "        top+=b\n",
    "    print(st[k-1])\n",
    "    "
   ]
  },
  {
   "cell_type": "code",
   "execution_count": 67,
   "id": "8441c4ca",
   "metadata": {},
   "outputs": [
    {
     "name": "stdout",
     "output_type": "stream",
     "text": [
      "2\n",
      "3 4\n",
      "3 3\n",
      "6\n"
     ]
    }
   ],
   "source": [
    "from random import randint as py\n",
    "x=\"31415926\"\n",
    "n=len(x)\n",
    "p=\"\"\n",
    "m=int(input())\n",
    "for i in range(m):\n",
    "    o=\"\"\n",
    "    s=list(map(int,input().split()))\n",
    "    k=s[0];l=s[1];\n",
    "    if k>=l:\n",
    "        for ı in range(k):\n",
    "            o+=x[py(0,n-1)]\n",
    "        p+=o[l-1]\n",
    "    else:\n",
    "        pass\n",
    "    \n",
    "print(p)\n",
    "    \n",
    "    \n"
   ]
  },
  {
   "cell_type": "code",
   "execution_count": 20,
   "id": "71e1a90f",
   "metadata": {},
   "outputs": [
    {
     "name": "stdout",
     "output_type": "stream",
     "text": [
      "[1, 2, 3, 4, 5]\n",
      "2\n",
      "[0, 2, 3, 4, 5, 6]\n",
      "[0, 0, 3, 4, 5, 6, 1]\n"
     ]
    }
   ],
   "source": [
    "from random import randint as py\n",
    "l=[i for i in range(1,6)]\n",
    "print(l)\n",
    "p=int(input())\n",
    "for i in range(1,p+1):\n",
    "    l[0:i]=[0 for i in range(i)]\n",
    "    l.append(py(1,9))\n",
    "    print(l)\n",
    "    \n",
    "    \n"
   ]
  },
  {
   "cell_type": "code",
   "execution_count": 29,
   "id": "c024509f",
   "metadata": {},
   "outputs": [
    {
     "name": "stdout",
     "output_type": "stream",
     "text": [
      "[1, 2, 3, 4, 5]\n",
      "[0, 0, 0, 4, 5]\n"
     ]
    }
   ],
   "source": [
    "l=[i for i in range(1,6)]\n",
    "print(l)\n",
    "l[0:3]=[0 for i in range(3)]\n",
    "print(l)"
   ]
  },
  {
   "cell_type": "code",
   "execution_count": 30,
   "id": "a09f99b1",
   "metadata": {},
   "outputs": [
    {
     "name": "stdout",
     "output_type": "stream",
     "text": [
      "nour eddın bassal\n",
      "3\n",
      "6\n",
      "21\n",
      "4\n",
      "8\n",
      "36\n",
      "6\n",
      "12\n",
      "78\n"
     ]
    }
   ],
   "source": [
    "def k(sayı):\n",
    "    sayı *=2\n",
    "    print(sayı)\n",
    "    def j(sa):\n",
    "        top =0\n",
    "        for i in range(1,sa+1):\n",
    "            top+=i\n",
    "        return top\n",
    "    print(j(sayı))\n",
    "print(\"nour eddın bassal\")\n",
    "while True:\n",
    "    o=int(input())\n",
    "    k(o)\n",
    "    if o==6:\n",
    "        break"
   ]
  },
  {
   "cell_type": "code",
   "execution_count": 3,
   "id": "b6bd32f4",
   "metadata": {},
   "outputs": [
    {
     "name": "stdout",
     "output_type": "stream",
     "text": [
      "4\n",
      "E 2\n",
      "1\n",
      "E 4\n",
      "2\n",
      "E 1\n",
      "3\n",
      "D\n",
      "2   2\n",
      "[0, '4', '1']\n"
     ]
    }
   ],
   "source": [
    "def enqueue(element):\n",
    "    global queue,front,rear,arraySize\n",
    "    if(rear == arraySize):\n",
    "        print(\"Tam dolu\")\n",
    "    else:\n",
    "        queue.append(element)        \n",
    "        rear+=1    \n",
    "        print(rear-front)    \n",
    "\n",
    "def dequeue():\n",
    "    global queue,front,rear,arraySize\n",
    "    if(front == rear):           \n",
    "        print(\"-1 0\")\n",
    "    else:\n",
    "        c = queue[front]\n",
    "        queue[front] = 0       \n",
    "        front+=1\n",
    "        print(c,\" \",rear-front)                        \n",
    "front = 0; rear = 0;\n",
    "arraySize = 100\n",
    "queue = []\n",
    "N = int(input())\n",
    "for i in range(N):\n",
    "    txt = input().split()#[\"E\",\"5\"]\n",
    "    if txt[0]=='D':        \n",
    "        dequeue()\n",
    "    else:    \n",
    "        enqueue(txt[1])\n",
    "print(queue)"
   ]
  },
  {
   "cell_type": "code",
   "execution_count": 11,
   "id": "799c9cf8",
   "metadata": {},
   "outputs": [
    {
     "name": "stdout",
     "output_type": "stream",
     "text": [
      "13475\n",
      "\n",
      "13475\n",
      "57431\n",
      "1347\n",
      "7431\n",
      "134\n",
      "431\n",
      "13\n",
      "31\n",
      "1\n",
      "1\n"
     ]
    }
   ],
   "source": [
    "def k(sa):\n",
    "    liste=[]\n",
    "    for i in str(sa):\n",
    "        liste.append(i)\n",
    "    liste.reverse()\n",
    "    liste=\"\".join(liste)\n",
    "    return liste\n",
    "    \n",
    "    \n",
    "sayı=int(input())\n",
    "print()\n",
    "s=sayı\n",
    "for t in range(len(str(sayı))):\n",
    "    s=sayı\n",
    "    print(s)\n",
    "    print(k(s))\n",
    "    sayı=int(sayı/10)\n",
    "\n",
    "    "
   ]
  },
  {
   "cell_type": "code",
   "execution_count": null,
   "id": "aea05c00",
   "metadata": {},
   "outputs": [
    {
     "name": "stdout",
     "output_type": "stream",
     "text": [
      "2\n",
      "6\n",
      "8\n",
      "7.0\n",
      "2\n",
      "10\n",
      "8\n",
      "8.0\n"
     ]
    }
   ],
   "source": [
    "top=0\n",
    "sayı=0\n",
    "while True:\n",
    "    k=int(input())\n",
    "    for i in range(k):\n",
    "        top+=int(input())\n",
    "        sayı+=1\n",
    "    print(top/sayı)"
   ]
  },
  {
   "cell_type": "code",
   "execution_count": 30,
   "id": "6424a5fd",
   "metadata": {},
   "outputs": [
    {
     "name": "stdout",
     "output_type": "stream",
     "text": [
      "123\n",
      "121\n",
      "2\n"
     ]
    }
   ],
   "source": [
    "def ksd(sayı):\n",
    "    sayı1=str(sayı)\n",
    "    k1=True\n",
    "    uzunluk=len(sayı1)\n",
    "    for i in range(uzunluk//2):\n",
    "        if sayı1[i]!=sayı1[uzunluk-i-1]:\n",
    "            k1=False                                   #1234321\n",
    "            break\n",
    "    return k1\n",
    "    \n",
    "j=int(input())\n",
    "s=j\n",
    "\n",
    "while j>=0:\n",
    "    if ksd(j)==True:\n",
    "        print(j)\n",
    "        break\n",
    "    else:\n",
    "        j-=1\n",
    "print(s-j)"
   ]
  },
  {
   "cell_type": "code",
   "execution_count": 1,
   "id": "d63ff8a3",
   "metadata": {},
   "outputs": [
    {
     "name": "stdout",
     "output_type": "stream",
     "text": [
      "15\n",
      "[18, 4, 5, 2, 21, 6, 22, 10, 12, 13, 17, 7, 5, 14, 14]\n",
      "\n",
      " en uzun ardışık dizi 4 ve listemiz :[4, 5, 6, 7]\n"
     ]
    }
   ],
   "source": [
    "from random import randint as ra\n",
    "def le(li):\n",
    "    enb=0\n",
    "    for i in range(len(li)):\n",
    "        l=[]\n",
    "        l.append(li[i])\n",
    "        j=li[i]\n",
    "        for u in range(len(li)):\n",
    "            for o in range(len(li)):\n",
    "                if j==li[o]-1 :\n",
    "                    l.append(li[o])\n",
    "                    j=li[o]\n",
    "            if len(l)>enb:\n",
    "                enb=len(l)\n",
    "                k=l\n",
    "\n",
    "    return enb,k\n",
    "                \n",
    "k=int(input())\n",
    "liste=[ra(1,25)for i in range(k)]\n",
    "#\n",
    "print(liste)\n",
    "print(f\"\\n en uzun ardışık dizi {le(liste)[0]} ve listemiz :{le(liste)[1]}\")"
   ]
  },
  {
   "cell_type": "code",
   "execution_count": 134,
   "id": "9643d48f",
   "metadata": {},
   "outputs": [
    {
     "name": "stdout",
     "output_type": "stream",
     "text": [
      "5\n",
      "[[0 1 0 1 1]\n",
      " [1 0 0 1 0]\n",
      " [1 1 1 0 0]\n",
      " [0 1 1 1 1]\n",
      " [0 1 1 0 0]]\n",
      "2\n"
     ]
    }
   ],
   "source": [
    "from random import randint\n",
    "import numpy\n",
    "ss=int(input())\n",
    "matrix=numpy.random.randint(0,2,(ss,ss))\n",
    "print(matrix) \n",
    "kaç_tane=0\n",
    "for i in range(ss-1):\n",
    "    for j in range(ss-1):\n",
    "        top=0\n",
    "        for o in range(2):\n",
    "            for ş in range(2):\n",
    "                top+=matrix[i+o][j+ş]\n",
    "        if top==4:\n",
    "            kaç_tane+=1\n",
    "print(kaç_tane)\n",
    "            "
   ]
  },
  {
   "cell_type": "code",
   "execution_count": 4,
   "id": "380fddd7",
   "metadata": {},
   "outputs": [
    {
     "name": "stdout",
     "output_type": "stream",
     "text": [
      "[0, 0, 0, 0, 0]\n",
      "[1, 2, 12, 0, 0]\n"
     ]
    }
   ],
   "source": [
    "yeni=[0,1,0,2,12]\n",
    "yeni_liste=[0]*len(liste)\n",
    "print(yeni_liste)\n",
    "s=1\n",
    "r=0\n",
    "for i in range(len(liste)):\n",
    "    if yeni[i]!=0:\n",
    "        yeni_liste[r]=yeni[i]\n",
    "        r+=1\n",
    "    else:\n",
    "        yeni_liste[-s]=yeni[i]\n",
    "        s+=1\n",
    "print(yeni_liste)\n",
    "        "
   ]
  },
  {
   "cell_type": "code",
   "execution_count": 14,
   "id": "b8ff2704",
   "metadata": {},
   "outputs": [
    {
     "name": "stdout",
     "output_type": "stream",
     "text": [
      "[-2, 4, 3, 1, 2, -2, 8, -4, 1]\n",
      "(16, [4, 3, 1, 2, -2, 8])\n"
     ]
    }
   ],
   "source": [
    "#birinci yol\n",
    "from random import randint as d\n",
    "def kk(lis):\n",
    "    enb=sum(lis)\n",
    "    c=1\n",
    "    while c<len(lis):\n",
    "        for i in range(len(lis)-c+1):\n",
    "            li=lis[i:c+i]\n",
    "            top=sum(li)\n",
    "            if top>enb:\n",
    "                enb=top\n",
    "                k=li\n",
    "        c+=1\n",
    "    return enb,k\n",
    "liste=[d(-5,9) for i in range(9)]\n",
    "print(liste)\n",
    "print(kk(liste))"
   ]
  },
  {
   "cell_type": "code",
   "execution_count": 29,
   "id": "a07a0fc8",
   "metadata": {},
   "outputs": [
    {
     "name": "stdout",
     "output_type": "stream",
     "text": [
      "P P A P L L L \n",
      "PPAPLLL\n",
      "['A', 'L', 'P']\n",
      "False\n"
     ]
    }
   ],
   "source": [
    "def kaç(li,t):\n",
    "    count=li.count(t)\n",
    "    return count\n",
    "liste=input().split()\n",
    "liste=\"\".join(liste)\n",
    "print(liste)\n",
    "k=list(set(liste))\n",
    "print(k)\n",
    "l=True\n",
    "for i in k:\n",
    "    if i==\"A\":\n",
    "        if kaç(liste,i)>=2:\n",
    "        \n",
    "            l=False\n",
    "            break\n",
    "    elif i==\"L\":\n",
    "        if kaç(liste,i)>=3:\n",
    "            l=False\n",
    "            break\n",
    "\n",
    "print(l)            \n",
    "    \n",
    "#A هي عدد التاخر و L هي الغياب اذا زدادو عن العيار المطلوب بيرسب"
   ]
  },
  {
   "cell_type": "code",
   "execution_count": 5,
   "id": "9840dad8",
   "metadata": {},
   "outputs": [
    {
     "name": "stdout",
     "output_type": "stream",
     "text": [
      "5\n",
      "[9, 8, 8, 1, 8, 9, 8, 6, 5, 2, 3, 9, 5, 4, 6]\n",
      "15\n",
      "[[9], [8, 8], [1, 8, 9], [8, 6, 5, 2], [3, 9, 5, 4, 6]]\n"
     ]
    }
   ],
   "source": [
    "from random import randint as ra\n",
    "def k(li):\n",
    "    global sayı\n",
    "    yeniliste=[]\n",
    "    t=0\n",
    "    for i in range(sayı):\n",
    "        lis=[]\n",
    "        for j in range(i+1):\n",
    "            lis.append(li[t])\n",
    "            t+=1\n",
    "        yeniliste.append(lis)\n",
    "    return yeniliste\n",
    "sayı=int(input())\n",
    "liste=[ra(1,9) for i in range(int(sayı*(sayı+1)/2))]\n",
    "if __name__==\"__main__\":\n",
    "    print(liste)\n",
    "    print(len(liste))\n",
    "    print(k(liste))"
   ]
  },
  {
   "cell_type": "code",
   "execution_count": 45,
   "id": "f45b4fd0",
   "metadata": {},
   "outputs": [
    {
     "name": "stdout",
     "output_type": "stream",
     "text": [
      "3\n",
      "4\n",
      "5\n"
     ]
    }
   ],
   "source": [
    "class Node:\n",
    "    def __init__(self, data = None, next=None): \n",
    "        self.data = data\n",
    "        self.next = next\n",
    "class LinkedList:\n",
    "    def __init__(self):  \n",
    "        self.head = None\n",
    "    def append(self, data):\n",
    "        newNode = Node(data)\n",
    "        if(self.head):\n",
    "            current = self.head\n",
    "            while(current.next):\n",
    "                current = current.next\n",
    "            current.next = newNode\n",
    "        else:\n",
    "            self.head = newNode\n",
    "    def print(self):\n",
    "        current = self.head\n",
    "        while(current):\n",
    "            print(current.data)\n",
    "            current = current.next\n",
    "LL = LinkedList()\n",
    "LL.append(3)\n",
    "LL.append(4)\n",
    "LL.append(5)\n",
    "LL.print()\n",
    "#linkred listin kodu"
   ]
  },
  {
   "cell_type": "code",
   "execution_count": null,
   "id": "5a0b3959",
   "metadata": {},
   "outputs": [],
   "source": [
    "#السؤال الفوق بكرة بشوف حلو ان شاء الله"
   ]
  },
  {
   "cell_type": "code",
   "execution_count": 12,
   "id": "56d669cf",
   "metadata": {},
   "outputs": [
    {
     "name": "stdout",
     "output_type": "stream",
     "text": [
      "[2, 7, 3, 6, 8, 1, 5, 4]\n",
      "[[6, 7], [0, 1], [2, 3], [0, 3, 5], [0, 2, 7]]\n",
      "0.0\n"
     ]
    }
   ],
   "source": [
    "import random\n",
    "import time \n",
    "start=time.time()\n",
    "def sıralama(li):\n",
    "    for ii in range(len(li)):\n",
    "        for i in range(ii+1,len(li)):\n",
    "            if li[ii]>li[i]:\n",
    "                li[ii],li[i]=li[i],li[ii]\n",
    "    return li\n",
    "def fak(sayı):\n",
    "    top=1\n",
    "    for i in range(1,sayı+1):\n",
    "        top*=i\n",
    "    return top\n",
    "def index(lis):\n",
    "    global target\n",
    "    indexlerin_matrisi=[]\n",
    "    for c in range(1,len(lis)+1):#cمنشان نجرب من 1 لل 9 مثلا اذا كانت 3 يعني بدي شوف اذا في 3 مواقع مجموعن 9\n",
    "        s=[]#منشان الاعداد الجربناهن ندخلن لهون وتاكد انو مايتجربو مرة تانية\n",
    "        for i in range(0,int(fak(len(lis))/(fak(c)*fak(len(lis)-c)))):\n",
    "            k=random.sample(list(range(len(lis))),c)\n",
    "            if k not in s and sıralama(k) not in s :\n",
    "                top=0\n",
    "                for i in k:\n",
    "                    top+=lis[i]\n",
    "                if top==target:\n",
    "                    indexlerin_matrisi.append(k)\n",
    "                s.append(sıralama(k))\n",
    "    return indexlerin_matrisi\n",
    "liste=[2,7,3,6,8,1,5,4]\n",
    "target=9\n",
    "print(liste)\n",
    "\n",
    "print(index(liste))\n",
    "end=time.time()\n",
    "print(end-start)\n",
    "#كود يعطينا مواقع لااعداد المجموعهن 9 لانو نحن اخترناه            "
   ]
  },
  {
   "cell_type": "code",
   "execution_count": 45,
   "id": "aa8fe787",
   "metadata": {},
   "outputs": [
    {
     "name": "stdout",
     "output_type": "stream",
     "text": [
      "5\n",
      "2\n",
      "[3, 7, 9, 1, 4, 0, 0]\n",
      "[6, 7]\n",
      "[1, 3, 4, 6, 7, 7, 9]\n"
     ]
    }
   ],
   "source": [
    "from random import randint as ra\n",
    "m=int(input())\n",
    "n=int(input())\n",
    "nums1=[ra(1,9)for i in range(m)]+[0]*n\n",
    "nums2=[ra(1,9)for i in range(n)]\n",
    "print(nums1)\n",
    "print(nums2)\n",
    "nums3=[]\n",
    "c=0\n",
    "for i in range(m+n):\n",
    "    if nums1[i]!=0:\n",
    "        nums3.append( nums1[i])\n",
    "    else:\n",
    "        nums3.append(nums2[c])\n",
    "        c+=1\n",
    "print(sorted(nums3))\n",
    "#Input: nums1 = [1,2,3,0,0,0], m = 3, nums2 = [2,5,6], n = 3\n",
    "#Output: [1,2,2,3,5,6]"
   ]
  },
  {
   "cell_type": "code",
   "execution_count": 1,
   "id": "fc525edd",
   "metadata": {},
   "outputs": [
    {
     "name": "stdout",
     "output_type": "stream",
     "text": [
      "['A', 'B']\n",
      "['A', 'B', 'C']\n",
      "['A', 'B']\n"
     ]
    }
   ],
   "source": [
    "class Stack():\n",
    "    def __init__(self):\n",
    "        self.items = []\n",
    "\n",
    "    def push(self, item):\n",
    "        self.items.append(item)\n",
    "\n",
    "    def pop(self):\n",
    "        return self.items.pop()\n",
    "\n",
    "    def get_stack(self):\n",
    "        return self.items\n",
    "\n",
    "myStack = Stack()\n",
    "myStack.push(\"A\")\n",
    "myStack.push(\"B\")\n",
    "print(myStack.get_stack())\n",
    "myStack.push(\"C\")\n",
    "print(myStack.get_stack())\n",
    "myStack.pop()\n",
    "print(myStack.get_stack())"
   ]
  },
  {
   "cell_type": "code",
   "execution_count": 13,
   "id": "2a579432",
   "metadata": {},
   "outputs": [
    {
     "name": "stdout",
     "output_type": "stream",
     "text": [
      "D\n"
     ]
    }
   ],
   "source": [
    "\"\"\"\n",
    "Stack Data Structure.\n",
    "\"\"\"\n",
    "class Stack():\n",
    "    def __init__(self):\n",
    "        self.items = []\n",
    "\n",
    "    def push(self, item):\n",
    "        self.items.append(item)\n",
    "\n",
    "    def pop(self):\n",
    "        return self.items.pop()\n",
    "    \n",
    "    def is_empty(self):\n",
    "        return self.items == []\n",
    "    \n",
    "    def peek(self):\n",
    "        if not self.is_empty():\n",
    "            return self.items[-1]\n",
    "        \n",
    "    def get_stack(self):\n",
    "        return self.items\n",
    "\n",
    "myStack = Stack()\n",
    "myStack.push(\"A\")\n",
    "myStack.push(\"B\")\n",
    "myStack.push(\"C\")\n",
    "myStack.push(\"D\")\n",
    "print(myStack.peek())"
   ]
  },
  {
   "cell_type": "code",
   "execution_count": 3,
   "id": "64de85d0",
   "metadata": {},
   "outputs": [
    {
     "name": "stdout",
     "output_type": "stream",
     "text": [
      "bir sayı giriniz: 45\n",
      "[5, 7, 9, 11, 13]\n",
      "[13, 15, 17]\n",
      "[45]\n",
      "3\n",
      "1.776672601699829\n"
     ]
    }
   ],
   "source": [
    "from time import time as t\n",
    "start=t()\n",
    "def tane(sayı):\n",
    "    kaç=0\n",
    "    for i in range(1,sayı+1,2):\n",
    "        top=0\n",
    "        j=i\n",
    "        liste=[]\n",
    "        while j<=sayı:\n",
    "            top+=j\n",
    "            liste.append(j)\n",
    "            j+=2\n",
    "            if top==sayı:\n",
    "                kaç+=1\n",
    "                print(liste)\n",
    "                break\n",
    "            elif top>sayı:\n",
    "                break\n",
    "    return kaç\n",
    "\n",
    "sayı=int(input(\"bir sayı giriniz: \"))\n",
    "print(tane(sayı))\n",
    "end=t()\n",
    "print(end-start)\n",
    "        "
   ]
  },
  {
   "cell_type": "code",
   "execution_count": 4,
   "id": "63cf004b",
   "metadata": {},
   "outputs": [
    {
     "name": "stdout",
     "output_type": "stream",
     "text": [
      "3\n",
      "bir sayı giriniz: 12\n",
      "bir sayı giriniz: 5\n",
      "bir sayı giriniz: 7\n",
      "[479001600, 120, 5040]\n",
      "[2, 1, 1]\n",
      "5.962045599999982\n",
      "5\n"
     ]
    }
   ],
   "source": [
    "from time import perf_counter \n",
    "start=perf_counter()\n",
    "def fak(sayı):\n",
    "    top=1\n",
    "    for i in range(1,sayı+1):\n",
    "        top*=i\n",
    "    return top\n",
    "def sıfır(sayı):\n",
    "    count=0\n",
    "    sayı=str(sayı)\n",
    "    k=\"\".join([sayı[i] for i in range(len(sayı)-1,-1,-1)])\n",
    "    for i in k:\n",
    "        if int(i)==0:\n",
    "            count+=1\n",
    "        else:\n",
    "            break\n",
    "    return count\n",
    "t=int(input())\n",
    "liste=list()\n",
    "fak_liste=list()\n",
    "for i in range(t):\n",
    "    n=int(input(\"bir sayı giriniz: \"))\n",
    "    faktöryel=fak(n)\n",
    "    fak_liste.append(faktöryel)\n",
    "    liste.append(sıfır(faktöryel))\n",
    "print(fak_liste)\n",
    "print(liste)\n",
    "end=perf_counter()\n",
    "print(end-start)\n",
    "print(int(end-start))\n",
    "#سؤال بدي دخل عدد وهاد العدد عدد تكرارات الاعداد وهس الاعداد بناخد العاملة تبعها وبعدين بدي عدد الصفار اخر الرقم"
   ]
  },
  {
   "cell_type": "code",
   "execution_count": null,
   "id": "fa7e3acf",
   "metadata": {},
   "outputs": [],
   "source": [
    "def böl(lis):\n",
    "    kalan=0\n",
    "    başla=2\n",
    "    li=[]\n",
    "    while başla<min(lis):\n",
    "        k=True\n",
    "        for i in lis:\n",
    "            if i%başla!=kalan:\n",
    "                k=False\n",
    "                başla+=1\n",
    "                break\n",
    "        if k==True:\n",
    "            li.append(başla)\n",
    "            kalan=başla\n",
    "            başla+=1\n",
    "    return li\n",
    "                \n",
    "            \n",
    "        \n",
    "liste=list()\n",
    "m=int(input())\n",
    "for i in range(m):\n",
    "    liste.append(int(input()))\n",
    "print(böl(liste))\n",
    "#اول مرة قسمنا على 2 تقسمو كلن بنضيفو بعدين لازم نقسم على عدد باقيه 2 وهييييك"
   ]
  },
  {
   "cell_type": "code",
   "execution_count": 64,
   "id": "0a06f424",
   "metadata": {},
   "outputs": [
    {
     "name": "stdout",
     "output_type": "stream",
     "text": [
      "['a', 'c']\n",
      "['a', 'c']\n",
      "True\n"
     ]
    }
   ],
   "source": [
    "str1=[];str2=[]\n",
    "s = \"ab#c\"\n",
    "t = \"ad#c\"\n",
    "#s = \"a#c\"; t = \"b\"\n",
    "for i in s:\n",
    "    if i == '#':\n",
    "        if str1:\n",
    "            str1.pop()\n",
    "    else:\n",
    "        str1.append(i)\n",
    "for i in t:\n",
    "    if i == '#':\n",
    "        if str2:\n",
    "            str2.pop()\n",
    "    else:\n",
    "        str2.append(i)\n",
    "print(str1);print(str2)\n",
    "print(str1 == str2)"
   ]
  },
  {
   "cell_type": "code",
   "execution_count": 15,
   "id": "ab1e4cba",
   "metadata": {},
   "outputs": [
    {
     "name": "stdout",
     "output_type": "stream",
     "text": [
      "bir sayı giriniz: 6\n",
      "[1, 2, 3, 4, 5, 6, 7, 8, 9, 10]\n",
      "(True, 5)\n"
     ]
    }
   ],
   "source": [
    "\n",
    "def binary(liste,value):\n",
    "    ilk=0\n",
    "    son=len(liste)\n",
    "    while ilk<son:\n",
    "        orta=(ilk+son)//2\n",
    "        if liste[orta]==value:\n",
    "            return True,orta\n",
    "        elif liste[orta]>value:\n",
    "            son=orta-1\n",
    "        else:\n",
    "            ilk=orta+1\n",
    "    return False\n",
    "va=int(input(\"bir sayı giriniz: \"))\n",
    "liste=list(range(1,11))\n",
    "print(liste)\n",
    "print(binary(liste,va))"
   ]
  },
  {
   "cell_type": "code",
   "execution_count": 36,
   "id": "f3be9434",
   "metadata": {},
   "outputs": [
    {
     "name": "stdout",
     "output_type": "stream",
     "text": [
      "bir sayı giriniz: 12\n",
      "6\n"
     ]
    }
   ],
   "source": [
    "def ternary_search(l,r,x):\n",
    "    global ar\n",
    "    if ar[-1]>=x:\n",
    "        if r>=l:\n",
    "            mid1=int(l+(r-l)/3)\n",
    "            mid2=int(r-(r-l)/3)\n",
    "            if ar[mid1]==x:\n",
    "                return mid1\n",
    "            if ar[mid2]==x:\n",
    "                return mid2\n",
    "            if x<ar[mid1]:\n",
    "                return ternary_search(l,mid1-1,x)\n",
    "            elif (x>ar[mid2]):\n",
    "                return ternary_search(mid2+1,r,x)\n",
    "            else:\n",
    "                return ternary_search(mid1+1,mid2-1,x)\n",
    "    else:\n",
    "        return -1\n",
    "    return -1\n",
    "\n",
    "ar=[2,3,5,6,8,9,12,13,14]\n",
    "l=0\n",
    "r=len(ar)\n",
    "x=int(input(\"bir sayı giriniz: \"))\n",
    "print(ternary_search(l,r,x))\n",
    "    \n",
    "        "
   ]
  },
  {
   "cell_type": "code",
   "execution_count": 4,
   "id": "442c2a43",
   "metadata": {},
   "outputs": [
    {
     "name": "stdout",
     "output_type": "stream",
     "text": [
      "[10, 11, 10, 23, 20, 14, 15, 13, 12, 14]\n",
      "([10, 10, 11, 20, 23], [12, 13, 14, 14, 15])\n",
      "[10, 10, 11, 12, 13, 14, 14, 15, 20, 23]\n",
      "1\n",
      "0.000634399999995594\n"
     ]
    }
   ],
   "source": [
    "#dhfsdsh\n",
    "from random import randint as ra\n",
    "from time import perf_counter\n",
    "start=perf_counter()\n",
    "def obeb(sayı1,sayı2):\n",
    "    if sayı2==0:\n",
    "        return sayı1\n",
    "    else:\n",
    "        return obeb(sayı2,sayı1%sayı2)\n",
    "def sort(liste):\n",
    "    n=len(liste)\n",
    "    for i in range(1,n):\n",
    "        j=i\n",
    "        while j>0 and liste[j-1]>liste[j]:\n",
    "            liste[j-1],liste[j]=liste[j],liste[j-1]\n",
    "            j-=1\n",
    "    return liste\n",
    "def parçalama(liste):\n",
    "    size=len(liste)\n",
    "    orta=size//2\n",
    "    a=liste[:orta]\n",
    "    b=liste[orta:]\n",
    "    a_sort=sort(a)\n",
    "    b_sort=sort(b)\n",
    "    return  a_sort, b_sort\n",
    "arr=[ra(9,25)for i in range(10)]\n",
    "print(arr)\n",
    "print(parçalama(arr))\n",
    "c1,c2=parçalama(arr)\n",
    "v=sort(c1+c2)\n",
    "print(v)\n",
    "s1=v[0];s2=v[-1]\n",
    "print(obeb(s1,s2))\n",
    "end=perf_counter()\n",
    "print(end-start)\n"
   ]
  },
  {
   "cell_type": "code",
   "execution_count": 29,
   "id": "e43ea3b7",
   "metadata": {},
   "outputs": [
    {
     "name": "stdout",
     "output_type": "stream",
     "text": [
      "[1, 1, 2, 2, 3, 4, 6, 6, 6, 8]\n",
      "[1, 2, 3, 4, 6, 8]\n",
      "[[1, 1], [2, 2], [3], [4], [6, 6, 6], [8]]\n",
      "0.0\n"
     ]
    }
   ],
   "source": [
    "from random import randint as ra\n",
    "from time import time \n",
    "start=time()\n",
    "def insertion_sort(liste):\n",
    "    n=len(liste)\n",
    "    for i in range(1,n):\n",
    "        j=i\n",
    "        while j>0 and liste[j-1]>liste[j]:\n",
    "            liste[j-1],liste[j]=liste[j],liste[j-1]\n",
    "            j-=1\n",
    "    return liste\n",
    "def yeni_liste():\n",
    "    global liste,liste1\n",
    "    k=[]\n",
    "    for i in range(len(liste1)):\n",
    "        sayı=liste1[i]\n",
    "        f=[]\n",
    "        a=0\n",
    "        while a<liste.count(sayı):\n",
    "            f.append(liste[a])\n",
    "            del liste[a]\n",
    "        k.append(f)\n",
    "        \n",
    "    return k\n",
    "liste=[ra(1,9) for i in range(10)]\n",
    "liste=insertion_sort(liste)\n",
    "print(liste)\n",
    "liste1=list(set(liste))\n",
    "print(liste1)\n",
    "print(yeni_liste())\n",
    "end=time()\n",
    "print(end-start)"
   ]
  },
  {
   "cell_type": "code",
   "execution_count": 10,
   "id": "78228605",
   "metadata": {},
   "outputs": [
    {
     "name": "stdout",
     "output_type": "stream",
     "text": [
      "[12, 24, 2, 24, 15, 23, 10, 5, 1]\n",
      "[1, 2, 5, 10, 12, 15, 23, 24, 24]\n"
     ]
    }
   ],
   "source": [
    "from random import randint as ra\n",
    "def qcick_sort(liste):\n",
    "    if len(liste)<=1:\n",
    "        return liste\n",
    "\n",
    "    else:\n",
    "        sayı=liste.pop()\n",
    "    sağ=[]\n",
    "    sol=[]\n",
    "    for i in liste:\n",
    "        if i<sayı:\n",
    "            sol.append(i)\n",
    "        else:\n",
    "            sağ.append(i)\n",
    "    return qcick_sort(sol)+[sayı]+qcick_sort(sağ)\n",
    "    \n",
    "liste=[ra(1,25)for i in range(9)]\n",
    "print(liste)\n",
    "print(qcick_sort(liste))"
   ]
  },
  {
   "cell_type": "code",
   "execution_count": 44,
   "id": "62757ca8",
   "metadata": {},
   "outputs": [
    {
     "name": "stdout",
     "output_type": "stream",
     "text": [
      "[[1, 1, 2], [1, 2, 1], [2, 1, 1]]\n"
     ]
    }
   ],
   "source": [
    "nums=[1,1,2]\n",
    "visit=[]\n",
    "res=[]\n",
    "def backtrack(res,subset):\n",
    "    global visit,nums\n",
    "    if len(subset)==len(nums):\n",
    "        if subset not in res:\n",
    "            res.append(subset)\n",
    "    for i in range(len(nums)):\n",
    "        if i not in visit:\n",
    "            visit.append(i)\n",
    "            backtrack(res,subset+[nums[i]])\n",
    "            visit.remove(i)\n",
    "    return res\n",
    "print(backtrack(res,[]))"
   ]
  },
  {
   "cell_type": "code",
   "execution_count": 4,
   "id": "a0ec1451",
   "metadata": {},
   "outputs": [
    {
     "name": "stdout",
     "output_type": "stream",
     "text": [
      "[[1, 2, 3], [1, 3, 2], [2, 1, 3], [2, 3, 1], [3, 1, 2], [3, 2, 1]]\n"
     ]
    }
   ],
   "source": [
    "nums=[1,2,3]\n",
    "visit=[]\n",
    "res=[]\n",
    "def backtrack(subset):\n",
    "    if len(subset)==len(nums):\n",
    "        if subset not in res:\n",
    "            res.append(subset)\n",
    "    for i in range(len(nums)):\n",
    "        if i not in visit:\n",
    "            visit.append(i)\n",
    "            backtrack(subset+[nums[i]])\n",
    "            visit.remove(i)\n",
    "    return res\n",
    "print(backtrack([]))"
   ]
  },
  {
   "cell_type": "code",
   "execution_count": 61,
   "id": "fc84a298",
   "metadata": {},
   "outputs": [
    {
     "name": "stdout",
     "output_type": "stream",
     "text": [
      "[[3 1]\n",
      " [5 7]]\n",
      "True\n"
     ]
    }
   ],
   "source": [
    "#birinci yol\n",
    "from random import randint \n",
    "import numpy\n",
    "liste=numpy.random.randint(1,9,(2,2))\n",
    "print(liste)\n",
    "def doğrumu(liste):\n",
    "    for i in range(len(liste[0])):#1\n",
    "        for j in range(len(liste)-1):#2\n",
    "            if liste[j][i]>=liste[j+1][i]:\n",
    "                return False\n",
    "    return True\n",
    "print(doğrumu(liste))\n",
    "            "
   ]
  },
  {
   "cell_type": "code",
   "execution_count": 89,
   "id": "5093d843",
   "metadata": {},
   "outputs": [
    {
     "name": "stdout",
     "output_type": "stream",
     "text": [
      "[[2 3 2]\n",
      " [5 2 4]\n",
      " [4 1 5]]\n",
      "False\n"
     ]
    }
   ],
   "source": [
    "#ikinci yol\n",
    "from random import randint \n",
    "import numpy\n",
    "liste=numpy.random.randint(1,9,(3,3))\n",
    "print(liste)\n",
    "def can_see_stage(seats):\n",
    "    for col_idx in range(len(seats[0])):\n",
    "        column = [seats[row_idx][col_idx] for row_idx in range(len(seats))]\n",
    "        for i in range(len(column) - 1):\n",
    "            if column[i] >= column[i + 1]:\n",
    "                return False\n",
    "    return True\n",
    "print(can_see_stage(liste))"
   ]
  },
  {
   "cell_type": "code",
   "execution_count": 27,
   "id": "1241892a",
   "metadata": {},
   "outputs": [
    {
     "name": "stdout",
     "output_type": "stream",
     "text": [
      "bir sayı giriiniz: 6\n",
      "[2, 3]\n",
      "2.6189849376678467\n"
     ]
    }
   ],
   "source": [
    "from time import time\n",
    "start=time()\n",
    "def prime_factors(n):\n",
    "    res = []\n",
    "    for i in range(2, int(n**0.5) + 1): \n",
    "        while not n%i: \n",
    "            res.append(i) \n",
    "            n //= i\n",
    "    return res + [n] if n > 1 else res\n",
    "nums=int(input(\"bir sayı giriiniz: \"))\n",
    "print(prime_factors(nums))\n",
    "end=time()\n",
    "print(end-start)\n"
   ]
  },
  {
   "cell_type": "code",
   "execution_count": 74,
   "id": "f8730418",
   "metadata": {},
   "outputs": [
    {
     "name": "stdout",
     "output_type": "stream",
     "text": [
      "edabiterate\n"
     ]
    }
   ],
   "source": [
    "def overlap(s1, s2):\n",
    "    s3=s1\n",
    "    for i in range(len(s2)+1,-1,-1):\n",
    "        if s2[:i] in s3:\n",
    "            s3+=s2[i:]\n",
    "            break\n",
    "    return s3\n",
    "print(overlap(\"edabit\", \"iterate\"))"
   ]
  },
  {
   "cell_type": "code",
   "execution_count": 98,
   "id": "0cf90e2c",
   "metadata": {},
   "outputs": [
    {
     "name": "stdout",
     "output_type": "stream",
     "text": [
      "O-O/O-O/O-O, O-O/O-O/O-O, O-O/O-O/O-O, O-O/-O-/O-O\n"
     ]
    }
   ],
   "source": [
    "def dice(num):\n",
    "    dic =  {1: \"---/-O-/---\", 2: \"O--/---/--O\",\n",
    "            3: \"O--/-O-/--O\", 4: \"O-O/---/O-O\",\n",
    "            5: \"O-O/-O-/O-O\", 6: \"O-O/O-O/O-O\"}\n",
    "    r, i = [], 1\n",
    "    n = [0, 6, 5, 4, 3, 2, 1]\n",
    "    while num != 0:\n",
    "        if num - n[i] >= 0:\n",
    "            num -= n[i]\n",
    "            r.append(dic[n[i]])\n",
    "        else:\n",
    "            i += 1\n",
    "    return \", \".join(r)\n",
    "print(dice(23))"
   ]
  },
  {
   "cell_type": "code",
   "execution_count": 3,
   "id": "128e76b4",
   "metadata": {},
   "outputs": [
    {
     "name": "stdout",
     "output_type": "stream",
     "text": [
      "bir sayı giriniz: -8\n",
      "bir sayı giriniz: -6\n",
      "bir sayı giriniz: 9\n",
      "O-O/O-O/O-O, O--/-O-/--O\n"
     ]
    }
   ],
   "source": [
    "def dice(n):\n",
    "    try:\n",
    "        if n<0:\n",
    "            raise \"error\"\n",
    "        if n == 0:\n",
    "            return 0\n",
    "        elif n == 1:\n",
    "            return \"---/-O-/---\"\n",
    "        elif n == 2:\n",
    "            return \"O--/---/--O\"\n",
    "        elif n == 3:\n",
    "            return \"O--/-O-/--O\"\n",
    "        elif n == 4:\n",
    "            return \"O-O/---/O-O\"\n",
    "        elif n == 5:\n",
    "            return \"O-O/-O-/O-O\"\n",
    "        elif n == 6:\n",
    "            return \"O-O/O-O/O-O\"\n",
    "        elif n>6:\n",
    "            return \"O-O/O-O/O-O, \"+dice(n-6)\n",
    "    except :\n",
    "        sayı=int(input(\"bir sayı giriniz: \"))\n",
    "        return dice(sayı)\n",
    "        \n",
    "sayı=int(input(\"bir sayı giriniz: \"))\n",
    "print(dice(sayı))"
   ]
  },
  {
   "cell_type": "code",
   "execution_count": 1,
   "id": "0a575f6e",
   "metadata": {},
   "outputs": [
    {
     "name": "stdout",
     "output_type": "stream",
     "text": [
      "O-O/O-O/O-O, O--/-O-/--O\n"
     ]
    }
   ],
   "source": [
    "def dice(n):\n",
    "    d = {1: '---/-O-/---', 2: 'O--/---/--O', 3: 'O--/-O-/--O', \n",
    "         4: 'O-O/---/O-O', 5: 'O-O/-O-/O-O', 6: 'O-O/O-O/O-O'}\n",
    "    i, res = 6, []\n",
    "    while n:\n",
    "        repeat, n = divmod(n, i)\n",
    "        res += [d[i]] * repeat\n",
    "        i -= 1\n",
    "    return ', '.join(res)\n",
    "print(dice(9))"
   ]
  },
  {
   "cell_type": "code",
   "execution_count": 64,
   "id": "68db37aa",
   "metadata": {},
   "outputs": [
    {
     "name": "stdout",
     "output_type": "stream",
     "text": [
      "bir sayı giriiniz: 5\n",
      "[7, 6, 2, 6, 1]\n",
      "[7, 6, 6, 2, 1]\n",
      "[7, 2, 6, 6, 1]\n",
      "[7, 6, 6, 2, 1]\n",
      "[7, 6, 2, 6, 1]\n",
      "3\n"
     ]
    }
   ],
   "source": [
    "from random import randint,shuffle\n",
    "def shuffle_count(num):\n",
    "    liste=[randint(1,9)for i in range(num)]\n",
    "    print(liste)\n",
    "    tane=0\n",
    "    yeni_liste=liste[:]\n",
    "    while True:\n",
    "        l=[yeni_liste[0]]\n",
    "        h=[yeni_liste[-1]]\n",
    "        lis=yeni_liste[1:-1]\n",
    "        shuffle(lis)\n",
    "        yeni_liste=l+lis+h\n",
    "        print(yeni_liste)\n",
    "        if yeni_liste!=liste:\n",
    "            tane+=1\n",
    "            \n",
    "        else:\n",
    "            return tane\n",
    "number=int(input(\"bir sayı giriiniz: \"))\n",
    "print(shuffle_count(number))"
   ]
  },
  {
   "cell_type": "code",
   "execution_count": 90,
   "id": "8a728098",
   "metadata": {},
   "outputs": [
    {
     "name": "stdout",
     "output_type": "stream",
     "text": [
      "['the', 'output', 'is', 'not', 'very', 'legible']\n",
      "lhe tutput os iot nery vegibve\n"
     ]
    }
   ],
   "source": [
    "def shift_sentence(txt):\n",
    "    liste=txt.split()\n",
    "    print(liste)\n",
    "    c=-1\n",
    "    yeni_liste=[]\n",
    "    for i in liste:\n",
    "        kelime=liste[c]\n",
    "        o=i.replace(i[0],kelime[0])\n",
    "        yeni_liste.append(o)\n",
    "        c+=1\n",
    "    return \" \".join(yeni_liste)\n",
    "print(shift_sentence(\"the output is not very legible\"))\n"
   ]
  },
  {
   "cell_type": "code",
   "execution_count": 139,
   "id": "f6b1cdd2",
   "metadata": {},
   "outputs": [
    {
     "name": "stdout",
     "output_type": "stream",
     "text": [
      "[[5 7]\n",
      " [5 4]]\n",
      "[[3 6]\n",
      " [6 2]]\n",
      "[[57, 44], [39, 38]]\n"
     ]
    }
   ],
   "source": [
    "from random import randint as ra\n",
    "import numpy\n",
    "def matrix_mult(m1, m2):\n",
    "    return [[sum(a*b for a,b in zip(row, col)) for col in zip(*m2)] for row in m1]\n",
    "m1=numpy.random.randint(1,9,(2,2))\n",
    "m2=numpy.random.randint(1,9,(2,2))\n",
    "print(m1)\n",
    "print(m2)\n",
    "print(matrix_mult(m1,m2))"
   ]
  },
  {
   "cell_type": "code",
   "execution_count": 42,
   "id": "70d6ba99",
   "metadata": {},
   "outputs": [
    {
     "name": "stdout",
     "output_type": "stream",
     "text": [
      "6\n"
     ]
    }
   ],
   "source": [
    "def top(liste):\n",
    "    toplam=0\n",
    "    for i in liste:\n",
    "        toplam+=i\n",
    "    return toplam\n",
    "        \n",
    "def wrong_number(lst):\n",
    "    sayı=None  \n",
    "    for i in range(len(lst)):\n",
    "        satır=lst[i]\n",
    "        for t in range(len(lst)):\n",
    "            sütun=[lst[j][t] for j in range(len(lst))] \n",
    "            top_satır=top(satır[:len(satır)-1])\n",
    "            top_sütun=top(sütun[:len(sütun)-1])\n",
    "            rakam=lst[i][t]\n",
    "            if top_satır==satır[-1] and top_sütun==sütun[-1]:\n",
    "                continue\n",
    "            elif top_satır!=satır[-1] and top_sütun!=sütun[-1]:\n",
    "                sayı=rakam+satır[-1]-top_satır\n",
    "                return sayı\n",
    "            elif top_satır!=satır[-1] and top_sütun==sütun[-1]:\n",
    "                sayı=top_satır\n",
    "                return sayı\n",
    "            elif top_satır==satır[-1] and top_sütun!=sütun[-1]:\n",
    "                sayı=top_sütun\n",
    "                return sayı\n",
    "lst2 = [\n",
    "  [1, 2, 3, 7 ],\n",
    "  [4, 5, 6, 15],\n",
    "  [7, 8, 9, 24],\n",
    "  [12,15,18,45]\n",
    "]\n",
    "print(wrong_number(lst2))"
   ]
  },
  {
   "cell_type": "code",
   "execution_count": 61,
   "id": "1be1381c",
   "metadata": {},
   "outputs": [
    {
     "name": "stdout",
     "output_type": "stream",
     "text": [
      "-1\n"
     ]
    }
   ],
   "source": [
    "def top(liste):\n",
    "    toplam=0\n",
    "    for i in liste:\n",
    "        toplam+=i\n",
    "    return toplam\n",
    "        \n",
    "def min_length(lst, n):\n",
    "    uzunluk=1\n",
    "    while uzunluk<len(lst)+1:\n",
    "        for i in range(len(lst)):\n",
    "            liste=lst[i:uzunluk+i]\n",
    "            if top(liste)>n:\n",
    "                return uzunluk,liste\n",
    "        uzunluk+=1\n",
    "    return -1\n",
    "print(min_length([0, 1, 1, 0], 2))        \n"
   ]
  },
  {
   "cell_type": "code",
   "execution_count": 45,
   "id": "c98248c8",
   "metadata": {},
   "outputs": [
    {
     "name": "stdout",
     "output_type": "stream",
     "text": [
      "istediğiniz uzunluğu seçin 4\n",
      "[14, 4, 7, 4, 9, 11, 4, 10, 5, 1, 3, 6, 11, 11, 4]\n",
      "[[14, 4, 7, 4], [9, 11, 4, 10], [5, 1, 3, 6], [11, 11, 4]]\n"
     ]
    }
   ],
   "source": [
    "from random import randint as ra\n",
    "liste=[ra(1,15)for i in range(15)]\n",
    "size=int(input(\"istediğiniz uzunluğu seçin \"))\n",
    "yeni_liste=[]\n",
    "print(liste)\n",
    "while len(liste)!=0:\n",
    "    if len(liste)<size:\n",
    "        yeni_liste.append(liste[:len(liste)])\n",
    "        liste=liste[len(liste):]\n",
    "    else:\n",
    "        yeni_liste.append(liste[:size])\n",
    "        liste=liste[size:]\n",
    "print(yeni_liste)"
   ]
  },
  {
   "cell_type": "code",
   "execution_count": 2,
   "id": "47cb0d72",
   "metadata": {},
   "outputs": [
    {
     "name": "stdout",
     "output_type": "stream",
     "text": [
      "[1, 3, 6, 10]\n"
     ]
    }
   ],
   "source": [
    "nums=[1,2,3,4]\n",
    "new_list=[]\n",
    "def collection(liste):\n",
    "    sum=0\n",
    "    for number in liste:\n",
    "        sum+=number\n",
    "    return sum\n",
    "for number in range(len(nums)):\n",
    "    liste=nums[:number+1]\n",
    "    sum_of_element=collection(liste)\n",
    "    new_list.append(sum_of_element)\n",
    "print(new_list)"
   ]
  },
  {
   "cell_type": "code",
   "execution_count": 3,
   "id": "6ac011de",
   "metadata": {},
   "outputs": [
    {
     "name": "stdout",
     "output_type": "stream",
     "text": [
      "[1, 3, 6, 10]\n"
     ]
    }
   ],
   "source": [
    "nums=[1,2,3,4]\n",
    "new_list=[]\n",
    "sum=0\n",
    "for i in nums:\n",
    "    sum+=i\n",
    "    new_list.append(sum)\n",
    "print(new_list)"
   ]
  },
  {
   "cell_type": "code",
   "execution_count": 11,
   "id": "ddcc2182",
   "metadata": {},
   "outputs": [
    {
     "name": "stdout",
     "output_type": "stream",
     "text": [
      "[[23 14 22]\n",
      " [11  8  5]\n",
      " [ 4  3 14]]\n",
      "\n",
      "[23, 11, 4]\n",
      "[14, 8, 3]\n",
      "[22, 5, 14]\n"
     ]
    }
   ],
   "source": [
    "from random import randint\n",
    "import numpy\n",
    "matrix=numpy.random.randint(1,25,(3,3))\n",
    "print(matrix)\n",
    "print()\n",
    "liste=[list(i)for i in list(zip(*matrix))]\n",
    "for i in liste:\n",
    "    print(i)"
   ]
  },
  {
   "cell_type": "code",
   "execution_count": 61,
   "id": "6d132823",
   "metadata": {},
   "outputs": [
    {
     "name": "stdout",
     "output_type": "stream",
     "text": [
      "[12, 8, 11]\n"
     ]
    }
   ],
   "source": [
    "class sumRegion:\n",
    "    def __init__(self,liste):\n",
    "        self.sum_liste=[]\n",
    "        self.matrix=liste\n",
    "    def sumregion(self,lst):\n",
    "        toplam=0\n",
    "        for i in range(lst[0],lst[2]+1):\n",
    "            satır=[self.matrix[i][j] for j in range(lst[1],lst[3]+1)]\n",
    "            toplam+=collection(satır)\n",
    "        self.sum_liste.append(toplam)\n",
    "    def collection(self,liste):\n",
    "        sum=0\n",
    "        for number in liste:\n",
    "            sum+=number\n",
    "        return sum\n",
    "matrix=[[3, 0, 1, 4, 2], [5, 6, 3, 2, 1], [1, 2, 0, 1, 5], [4, 1, 0, 1, 7], [1, 0, 3, 0, 5]]\n",
    "sumRegion=sumRegion(matrix)\n",
    "lst=[1,2,2,4]\n",
    "lst1=[2,1,4,3]\n",
    "lst2=[1,1,2,2]\n",
    "sumRegion.sumregion(lst)\n",
    "sumRegion.sumregion(lst1)\n",
    "sumRegion.sumregion(lst2)\n",
    "print(sumRegion.sum_liste)"
   ]
  },
  {
   "cell_type": "code",
   "execution_count": 124,
   "id": "75aaf355",
   "metadata": {},
   "outputs": [
    {
     "name": "stdout",
     "output_type": "stream",
     "text": [
      "[12, 8, 11]\n"
     ]
    }
   ],
   "source": [
    "class NumMatrix:\n",
    "    def __init__(self, matrix):\n",
    "        self.dp=[[0] * (len(matrix[0])+1) for _ in range(len(matrix)+1)]\n",
    "        self.küme=[]\n",
    "        for r in range(len(self.dp)-1):\n",
    "            for c in range(len(self.dp[0])-1):\n",
    "                self.dp[r+1][c+1]=matrix[r][c] + self.dp[r][c+1] + self.dp[r+1][c] - self.dp[r][c]\n",
    "        \n",
    "    def sumRegion(self, row1, col1, row2, col2):\n",
    "        toplam=self.dp[row2+1][col2+1] - self.dp[row1][col2+1] - self.dp[row2+1][col1] + self.dp[row1][col1]\n",
    "        self.küme.append(toplam)\n",
    "matrix=[[3, 0, 1, 4, 2], [5, 6, 3, 2, 1], [1, 2, 0, 1, 5], [4, 1, 0, 1, 7], [1, 0, 3, 0, 5]]\n",
    "lst=[1,2,2,4]\n",
    "lst1=[2,1,4,3]\n",
    "lst2=[1,1,2,2]\n",
    "NumMatrix=NumMatrix(matrix) \n",
    "NumMatrix.sumRegion(lst[0],lst[1],lst[2],lst[3])\n",
    "NumMatrix.sumRegion(lst1[0],lst1[1],lst1[2],lst1[3])\n",
    "NumMatrix.sumRegion(lst2[0],lst2[1],lst2[2],lst2[3])\n",
    "sum_küme=NumMatrix.küme\n",
    "print(sum_küme)\n",
    "#هاد الحل اسطوري"
   ]
  },
  {
   "cell_type": "code",
   "execution_count": 1,
   "id": "b6ddaf8b",
   "metadata": {},
   "outputs": [
    {
     "name": "stdout",
     "output_type": "stream",
     "text": [
      "[['.Q..', '...Q', 'Q...', '..Q.'], ['..Q.', 'Q...', '...Q', '.Q..']]\n",
      "0.0\n"
     ]
    }
   ],
   "source": [
    "from time import time\n",
    "start=time()\n",
    "def solvenqueens(n):\n",
    "    col=set()\n",
    "    pos=set()\n",
    "    neg=set()\n",
    "    res=[]\n",
    "    board=[[\".\"]*n for i in range(n)]\n",
    "    \n",
    "    \n",
    "    def backtrack(r):\n",
    "        if r==n:\n",
    "            copy=[\"\".join(row) for row in board]\n",
    "            res.append(copy)\n",
    "            return\n",
    "        \n",
    "        \n",
    "        for c in range(n):\n",
    "            if c in col or (r+c)in pos or (r-c)in neg:\n",
    "                continue\n",
    "            col.add(c)\n",
    "            pos.add(r+c)\n",
    "            neg.add(r-c)\n",
    "            board[r][c]=\"Q\"\n",
    "            \n",
    "            \n",
    "            backtrack(r+1)\n",
    "            \n",
    "            \n",
    "            col.remove(c)\n",
    "            pos.remove(r+c)\n",
    "            neg.remove(r-c)\n",
    "            board[r][c]=\".\"\n",
    "    backtrack(0)\n",
    "    return res\n",
    "\n",
    "print(solvenqueens(4))\n",
    "end=time()\n",
    "print(end-start)\n",
    "            \n"
   ]
  },
  {
   "cell_type": "code",
   "execution_count": 27,
   "id": "3c5575de",
   "metadata": {},
   "outputs": [
    {
     "name": "stdout",
     "output_type": "stream",
     "text": [
      "2\n"
     ]
    }
   ],
   "source": [
    "class Solution:\n",
    "    \n",
    "    def __init__(self):\n",
    "        self.ans = 0\n",
    "        \n",
    "    def recurse(self,visited,ind):\n",
    "           \n",
    "        for i in range(self.n):\n",
    "            \n",
    "            if visited[ind][i] == False:\n",
    "             \n",
    "                if ind == self.n-1:\n",
    "                    self.ans += 1\n",
    "                    return\n",
    "                \n",
    "                new = [visited[h][:] for h in range(self.n)]\n",
    "                for k in range(self.n):\n",
    "                    new[ind][k] = True\n",
    "                    new[k][i] = True\n",
    "                    \n",
    "                for r,c in {(1,1),(-1,-1),(1,-1),(-1,1)}:\n",
    "                    ar,ac = ind + r,i + c\n",
    "                    while 0 <= ar < self.n and 0 <= ac < self.n:\n",
    "                        new[ar][ac] = True\n",
    "                        ar,ac = ar+r,ac+c\n",
    "                self.recurse(new,ind+1)\n",
    "                \n",
    "    def totalNQueens(self, n: int) -> int:\n",
    "        self.n = n\n",
    "        visited = [[False]*n for _ in range(n)]\n",
    "        self.recurse(visited,0)\n",
    "        return self.ans\n",
    "Solution=Solution()\n",
    "print(Solution.totalNQueens(4))"
   ]
  },
  {
   "cell_type": "code",
   "execution_count": 25,
   "id": "6655b6c7",
   "metadata": {},
   "outputs": [
    {
     "name": "stdout",
     "output_type": "stream",
     "text": [
      "['p', 'w', 'w', 'k', 'e', 'w']\n",
      "('wke', 3)\n"
     ]
    }
   ],
   "source": [
    " s = \"pwwkew\"\n",
    "def aynasımı(liste):\n",
    "    for i in range(len(liste)):\n",
    "        for j in range(i+1,len(liste)):\n",
    "            if liste[i]==liste[j]:\n",
    "                return False\n",
    "    return True\n",
    "def lst(s):\n",
    "    sk=(\" \".join(s)).split()\n",
    "    print(sk)\n",
    "    length=len(sk)\n",
    "    while length>=1 :\n",
    "        for i in range(0,len(sk)-length+1):\n",
    "            liste=sk[i:i+length]\n",
    "            ayna=aynasımı(liste)\n",
    "            if ayna:\n",
    "                kelime=\"\".join(liste)\n",
    "                return kelime,len(kelime)\n",
    "\n",
    "        length-=1\n",
    "print(lst(s))"
   ]
  },
  {
   "cell_type": "code",
   "execution_count": 32,
   "id": "7a9b7fcd",
   "metadata": {},
   "outputs": [
    {
     "name": "stdout",
     "output_type": "stream",
     "text": [
      "['p']\n",
      "['p', 'w']\n",
      "['w']\n",
      "['w', 'k']\n",
      "['w', 'k', 'e']\n",
      "['k', 'e', 'w']\n",
      "(3, deque(['k', 'e', 'w']))\n"
     ]
    }
   ],
   "source": [
    "from collections import deque\n",
    "\n",
    "class Solution:\n",
    "    def lengthOfLongestSubstring(self, s):\n",
    "        \"\"\"\n",
    "        :type s: str\n",
    "        :rtype: int\n",
    "        \"\"\"\n",
    "        q = deque()\n",
    "        items = {}\n",
    "        maxLen = 0\n",
    "        \n",
    "        for c in s:\n",
    "            if c in items:\n",
    "                poppedItem = None\n",
    "                while poppedItem != c:\n",
    "                    poppedItem = q.popleft()\n",
    "                    if poppedItem in items:\n",
    "                        items.pop(poppedItem)\n",
    "            q.append(c)\n",
    "            items[c] = c\n",
    "                \n",
    "            maxLen = max(maxLen, len(q))\n",
    "            print(list(q))\n",
    "        \n",
    "        return maxLen,q\n",
    "Solution=Solution()\n",
    "t=Solution.lengthOfLongestSubstring( \"pwwkew\")\n",
    "print(t)\n",
    "#yukardaki çözüm binim ama bu çözümün algoritması daha dahi"
   ]
  },
  {
   "cell_type": "code",
   "execution_count": 3,
   "id": "7d285bbd",
   "metadata": {},
   "outputs": [
    {
     "name": "stdout",
     "output_type": "stream",
     "text": [
      "1\n",
      "3\n",
      "4 1 5\n",
      "3\n",
      "1 3 9\n",
      "4 7 10\n",
      "elemanların toplamı= 14 19 9\n",
      "zaman süresi= 23.36400818824768\n"
     ]
    }
   ],
   "source": [
    "from time import time\n",
    "start=time()\n",
    "def eklemek(A,li):\n",
    "    c=0\n",
    "    liste=[]\n",
    "    sayı=li[-1]//len(A)+1#       بصير نعمل كمان A*sayı\n",
    "    while c<sayı:\n",
    "        liste.extend(A)\n",
    "        c+=1\n",
    "    return liste\n",
    "def toplama(k):\n",
    "    top=0\n",
    "    for i in range(len(k)):\n",
    "        top+=k[i]\n",
    "    return top\n",
    "def solve(A, R, L):\n",
    "    liste=[[i,j] for i,j in zip(L,R)]\n",
    "    lst=[]\n",
    "    for i in liste:\n",
    "        list1=eklemek(A,i)\n",
    "        sayı1=i[0]-1\n",
    "        sayı2=i[-1]\n",
    "        list2=list1[sayı1:sayı2]\n",
    "        toplam=toplama(list2)\n",
    "        lst.append(toplam)\n",
    "    return lst\n",
    "T = int(input())\n",
    "for _ in range(T):\n",
    "    N = int(input())\n",
    "    A = list(map(int, input().split()))\n",
    "    Q = int(input())\n",
    "    L = list(map(int, input().split()))\n",
    "    R =list(map(int, input().split()))\n",
    "    out_ = solve(A, R, L)\n",
    "    print (f\"elemanların toplamı= {' '.join(map(str, out_))}\")\n",
    "end=time()\n",
    "print(f\"zaman süresi= {end-start}\")\n"
   ]
  },
  {
   "cell_type": "code",
   "execution_count": 22,
   "id": "085c3314",
   "metadata": {},
   "outputs": [
    {
     "name": "stdout",
     "output_type": "stream",
     "text": [
      "9\n",
      "2\n",
      "bir string sayı olarak giriniz: 5525\n",
      "{'5525', '2050', '5929', '2454', '2555', '5222', '2353', '2151', '5828', '5020', '5323', '5424', '2757', '5727', '2959', '2656', '5626', '5121', '2858', '2252'}\n",
      "2050\n"
     ]
    }
   ],
   "source": [
    "class Solution(object):\n",
    "    def rotate(self,s,b):\n",
    "        s=\" \".join(s)\n",
    "        liste=s.split()\n",
    "        size=len(liste)\n",
    "        for j in range(b):\n",
    "            l=liste[size-1]\n",
    "            for i in range(size-2,-1,-1):\n",
    "                liste[i+1]=liste[i]\n",
    "            liste[0]=l\n",
    "        return \"\".join(liste)\n",
    "    def add(self,s,a):\n",
    "        new_number=\"\"\n",
    "        for i in range(1,len(s),2):\n",
    "            new_number+=s[i-1]+str((int(s[i])+a)%10)\n",
    "        return new_number\n",
    "    def findLexSmallestString(self, a, b):\n",
    "        s=\"1\"\n",
    "        while len(s)%2!=0 or len(s)>9:\n",
    "            s=input(\"bir string sayı olarak giriniz: \")\n",
    "        seen = set()\n",
    "        need = list()\n",
    "        need.append(s)\n",
    "\n",
    "        while need:\n",
    "            curr = need.pop()\n",
    "            if curr not in seen:\n",
    "                # add current string to seen                 \n",
    "                seen.add(curr)\n",
    "                # add next two cases into waiting queue\n",
    "                need.extend([self.add(curr,a),self.rotate(curr,b)])\n",
    "        print(seen)\n",
    "        return min(seen)\n",
    "a = int(input()); b = int(input())    \n",
    "Solution=Solution()\n",
    "t=Solution.findLexSmallestString(a,b)\n",
    "print(t)\n"
   ]
  },
  {
   "cell_type": "code",
   "execution_count": 52,
   "id": "7b55e76f",
   "metadata": {},
   "outputs": [
    {
     "name": "stdout",
     "output_type": "stream",
     "text": [
      "deque([0])\n",
      "[]\n",
      "deque([1])\n",
      "[]\n",
      "deque([1, 2])\n",
      "[3]\n",
      "deque([1, 2, 3])\n",
      "[3, 3]\n",
      "deque([4])\n",
      "[3, 3, 5]\n",
      "deque([4, 5])\n",
      "[3, 3, 5, 5]\n",
      "deque([6])\n",
      "[3, 3, 5, 5, 6]\n",
      "deque([7])\n",
      "[3, 3, 5, 5, 6, 7]\n",
      "[3, 3, 5, 5, 6, 7]\n"
     ]
    }
   ],
   "source": [
    "from collections import deque \n",
    "class Solution:\n",
    "    def maxSlidingWindow(self, nums, k):\n",
    "        q = deque()\n",
    "        res = []\n",
    "        for i in range(len(nums)):\n",
    "            while q and nums[i] >= nums[q[-1]]:\n",
    "                q.pop()\n",
    "            q.append(i) # from large to small\n",
    "            if q[0] <= i-k: # check if the head of q is valid\n",
    "                q.popleft() \n",
    "            if i+1 >= k: # when q is equal to k, add the first num\n",
    "                res.append(nums[q[0]])\n",
    "            print(q)\n",
    "            print(res)\n",
    "        return res\n",
    "nums = [1,3,-1,-3,5,3,6,7];k = 3\n",
    "solution=Solution()\n",
    "new_liste=solution.maxSlidingWindow(nums,k)\n",
    "print(new_liste)"
   ]
  },
  {
   "cell_type": "code",
   "execution_count": 71,
   "id": "94022ffe",
   "metadata": {},
   "outputs": [
    {
     "name": "stdout",
     "output_type": "stream",
     "text": [
      "False\n"
     ]
    }
   ],
   "source": [
    "def BK(nums):\n",
    "    for j in range(1,len(nums)):\n",
    "        number=nums[0]\n",
    "        if number<nums[j]:\n",
    "            return \"büyümek\"\n",
    "        elif number>nums[j]:\n",
    "            return \"küçültmek\"\n",
    "def küçültmek(nums):\n",
    "    i=0\n",
    "    for j in range(1,len(nums)):\n",
    "        number=nums[i]\n",
    "        if number<nums[j]:\n",
    "            return False\n",
    "        else:\n",
    "            i+=1\n",
    "    return True\n",
    "def büyümek(nums):\n",
    "    i=0\n",
    "    for j in range(1,len(nums)):\n",
    "        number=nums[i]\n",
    "        if number>nums[j]:\n",
    "            return False\n",
    "        else:\n",
    "            i+=1\n",
    "    return True\n",
    "def isMonotonic(nums):\n",
    "    sonuç=BK(nums)\n",
    "    i=0\n",
    "    if sonuç==\"büyümek\":\n",
    "        return büyümek(nums)\n",
    "    else:\n",
    "        return küçültmek(nums)\n",
    "nums = [1,3,2]\n",
    "print(isMonotonic(nums))\n",
    "            "
   ]
  },
  {
   "cell_type": "code",
   "execution_count": 20,
   "id": "e84fbae1",
   "metadata": {},
   "outputs": [
    {
     "name": "stdout",
     "output_type": "stream",
     "text": [
      "[[3 4 7]\n",
      " [4 3 7]\n",
      " [1 2 8]\n",
      " [5 4 5]]\n",
      "[[3, 4, 7, 4, 3, 7], [1, 2, 8, 5, 4, 5]]\n"
     ]
    }
   ],
   "source": [
    "from numpy.random import randint as ra\n",
    "def matrixReshape(mat, r, c):\n",
    "    if r*c > len(mat)*len(mat[0]) or  r*c < len(mat)*len(mat[0]):\n",
    "        return mat\n",
    "    liste=[] \n",
    "    row=[]\n",
    "    for i in range(len(mat)):\n",
    "        for j in range(len(mat[0])):\n",
    "            if c>len(row):\n",
    "                row.append(mat[i][j])\n",
    "                if c==len(row):\n",
    "                    satır=row\n",
    "                    liste.append(satır)\n",
    "                    row=[]\n",
    "                    \n",
    "    return liste\n",
    "matrix=ra(1,9,size=(4,3))\n",
    "print(matrix)\n",
    "print(matrixReshape(matrix,2,6))"
   ]
  },
  {
   "cell_type": "code",
   "execution_count": 62,
   "id": "7e49904d",
   "metadata": {},
   "outputs": [
    {
     "name": "stdout",
     "output_type": "stream",
     "text": [
      "[[10  8  3]\n",
      " [ 9  5  2]\n",
      " [11  5  9]]\n",
      "[10  8  9 11  5  3  2  5  9]\n"
     ]
    }
   ],
   "source": [
    "from numpy.random import randint as ra\n",
    "from numpy import array\n",
    "class solution:\n",
    "    def __init__(self):\n",
    "        self.liste=[]\n",
    "    def diyagonal(self,mat,i,j):\n",
    "        k=[]\n",
    "        while i<len(mat) and j>=0:\n",
    "            k.append(mat[i][j])\n",
    "            i+=1\n",
    "            j-=1\n",
    "        return k\n",
    "    def aktarmak(self, mat):\n",
    "        c=1\n",
    "        for j in range(len(mat[0])):\n",
    "            l=self.diyagonal(mat,0,j)\n",
    "            if c%2==0:\n",
    "                self.liste.extend(l)\n",
    "            else:\n",
    "                self.liste.extend(l[::-1])\n",
    "            c+=1\n",
    "        for i in range(1,len(mat)):\n",
    "            l=self.diyagonal(mat,i,len(mat[0])-1)\n",
    "            if c%2==0:\n",
    "                self.liste.extend(l)\n",
    "            else:\n",
    "                self.liste.extend(l[::-1])\n",
    "            c+=1\n",
    "                \n",
    "        return self.liste\n",
    "matrix=ra(1,15,size=(3,3))\n",
    "print(matrix)\n",
    "solution=solution()\n",
    "lis=solution.aktarmak(matrix)\n",
    "print(array(lis))\n",
    "#بنضيف الاقطار مرة من تحت لفوق ومرة من فوق لتحت"
   ]
  },
  {
   "cell_type": "code",
   "execution_count": 77,
   "id": "4329cbbd",
   "metadata": {},
   "outputs": [
    {
     "name": "stdout",
     "output_type": "stream",
     "text": [
      "[[ 5  7  8  4]\n",
      " [ 1  6  9 11]\n",
      " [ 8  5  1  4]\n",
      " [ 7  0  3  0]]\n",
      "\n",
      "[[ 0  4  8  4]\n",
      " [ 1  1  7 11]\n",
      " [ 0  3  5  9]\n",
      " [ 7  8  5  6]]\n"
     ]
    }
   ],
   "source": [
    "import numpy\n",
    "def sıralama(mat,i,j):\n",
    "    while i<row_size and j<col_size:\n",
    "        oi=i+1\n",
    "        oj=j+1\n",
    "        while oi<row_size and oj<col_size:\n",
    "            if mat[i][j]>mat[oi][oj]:\n",
    "                mat[i][j],mat[oi][oj]=mat[oi][oj],mat[i][j]\n",
    "            oi+=1\n",
    "            oj+=1\n",
    "        i+=1\n",
    "        j+=1\n",
    "def diyagonal(mat):\n",
    "    global row_size, col_size\n",
    "\n",
    "    col_size=len(mat[0])\n",
    "    row_size=len(mat)\n",
    "    for j in range(col_size):\n",
    "        sıralama(mat,0,j)\n",
    "    for i in range(1,row_size):\n",
    "        sıralama(mat,i,0)\n",
    "    return mat\n",
    "arr=array([[5,7,8,4],[1,6,9,11],[8,5,1,4],[7,0,3,0]])\n",
    "print(f\"{arr}\\n\")\n",
    "print(diyagonal(arr))\n",
    "#ترتيب الاقطار"
   ]
  },
  {
   "cell_type": "code",
   "execution_count": 34,
   "id": "e2b20191",
   "metadata": {},
   "outputs": [
    {
     "name": "stdout",
     "output_type": "stream",
     "text": [
      "2 4\n",
      "[[17 73 73 54]\n",
      " [21 84  4 62]]\n",
      "\n",
      "[[48 45 58 48]\n",
      " [48 45 58 48]]\n"
     ]
    }
   ],
   "source": [
    "from numpy.random import randint as ra\n",
    "from math import floor\n",
    "class Solution(object):\n",
    "    def __init__(self,m,n):\n",
    "        self.row=m\n",
    "        self.col=n\n",
    "        self.mat=ra(0,1,size=(self.row,self.col))\n",
    "    def toplama(self,img,i,j):\n",
    "        toplam=0\n",
    "        count=0\n",
    "        for o in range(-1,2):\n",
    "            if o+i>=0 and o+i<self.row:\n",
    "                for u in range(-1,2):\n",
    "                    if u+j>=0 and u+j<self.col:\n",
    "                        toplam+=img[o+i][u+j]\n",
    "                        count+=1\n",
    "                    else:\n",
    "                        pass\n",
    "            else:\n",
    "                pass\n",
    "        return floor(toplam/count)#floor=int\n",
    "    def imageSmoother(self, img):\n",
    "        for i in range(self.row):\n",
    "            for j in range(self.col):\n",
    "                self.mat[i][j]=self.toplama(img,i,j)\n",
    "        return self.mat \n",
    "satır_sütün=list(map(int,input().split()))\n",
    "satır=satır_sütün[0]\n",
    "sütun=satır_sütün[1]\n",
    "img=ra(1,100,size=(satır,sütun))#bir matris verilir\n",
    "print(f\"{img}\\n\")\n",
    "solution=Solution(satır,sütun)\n",
    "yeni_mat=solution.imageSmoother(img)\n",
    "print(yeni_mat)\n",
    "#birinci nokta=(84+73+21+17)/4 ..."
   ]
  },
  {
   "cell_type": "code",
   "execution_count": 18,
   "id": "7655363e",
   "metadata": {},
   "outputs": [
    {
     "name": "stdout",
     "output_type": "stream",
     "text": [
      "[[1 2 3]\n",
      " [4 5 6]\n",
      " [7 8 9]]\n",
      "\n",
      "[[7 4 1]\n",
      " [8 5 2]\n",
      " [9 6 3]]\n"
     ]
    }
   ],
   "source": [
    "from numpy import array\n",
    "class solution(object):\n",
    "    def rotate(self, matrix):\n",
    "        mat=[]\n",
    "        for i in range(len(matrix[0])):\n",
    "            liste=[matrix[j][i] for j in range(len(matrix))]\n",
    "            mat.append(liste[::-1])\n",
    "        return array(mat)\n",
    "matrix=[[1,2,3],[4,5,6],[7,8,9]]\n",
    "matrix=array(matrix)\n",
    "print(f\"{matrix}\\n\")\n",
    "so=solution()\n",
    "yeni_matrix=so.rotate(matrix)\n",
    "print(yeni_matrix)"
   ]
  },
  {
   "cell_type": "code",
   "execution_count": 2,
   "id": "c796b96b",
   "metadata": {},
   "outputs": [
    {
     "name": "stdout",
     "output_type": "stream",
     "text": [
      "[[8 1 5 4]\n",
      " [2 0 9 8]\n",
      " [4 3 0 9]]\n",
      "\n",
      "[[8 0 0 4]\n",
      " [0 0 0 0]\n",
      " [0 0 0 0]]\n",
      "operation accomplished successfully\n"
     ]
    }
   ],
   "source": [
    "from numpy.random import randint as ra\n",
    "from numpy import array\n",
    "class solution(object):\n",
    "    def __init__(self):\n",
    "        self.indexler=[]\n",
    "    def aramak(self,matrix,i,j):\n",
    "        for o in range(len(matrix[0])):\n",
    "            if matrix[i][o]==0 :\n",
    "                continue\n",
    "            matrix[i][o]=0\n",
    "            self.indexler.append((i,o))\n",
    "        for u in range(len(matrix)):\n",
    "            if matrix[u][j]==0:\n",
    "                continue\n",
    "            matrix[u][j]=0\n",
    "            self.indexler.append((u,j))        \n",
    "    def setZeroes(self, matrix):\n",
    "        for i in range(len(matrix)):\n",
    "            for j in range(len(matrix[0])):\n",
    "                if (i,j) not in self.indexler and matrix[i][j]==0:\n",
    "                    self.aramak(matrix,i,j)\n",
    "        return matrix\n",
    "matrix=ra(0,10,size=(3,4))\n",
    "#matrix=[[0,1,2,0],[3,4,5,2],[1,3,1,5]]\n",
    "matrix=array(matrix)\n",
    "print(f\"{matrix}\\n\")\n",
    "solution=solution()\n",
    "sol=solution.setZeroes(matrix)\n",
    "print(sol)\n",
    "print(\"operation accomplished successfully\")"
   ]
  },
  {
   "cell_type": "code",
   "execution_count": 8,
   "id": "f07d87d6",
   "metadata": {},
   "outputs": [
    {
     "name": "stdout",
     "output_type": "stream",
     "text": [
      "bir sayı giriniz: 5\n",
      "[[1], [1, 1], [1, 2, 1], [1, 3, 3, 1], [1, 4, 6, 4, 1]]\n"
     ]
    }
   ],
   "source": [
    "class Solution:\n",
    "    def __init__(self):\n",
    "        self.liste=[]\n",
    "    def toplam(self,top_liste):\n",
    "        toplam=0\n",
    "        for i in range(len(top_liste)):\n",
    "            toplam+=top_liste[i]\n",
    "        return toplam\n",
    "    def generate(self, numRows):\n",
    "        li=[1]\n",
    "        self.liste.append(li)\n",
    "        for i in range(numRows-1):\n",
    "            lis=[1]\n",
    "            for j in range(i):\n",
    "                k=li[j:j+2]\n",
    "                lis.append(self.toplam(k))\n",
    "            lis.append(1)\n",
    "            self.liste.append(lis)\n",
    "            li=lis\n",
    "        return self.liste\n",
    "solution=Solution()\n",
    "sayı=int(input(\"bir sayı giriniz: \"))\n",
    "t=solution.generate(sayı)\n",
    "print(t)\n",
    "#مثلث باسكال            \n"
   ]
  },
  {
   "cell_type": "code",
   "execution_count": 16,
   "id": "5a32a79f",
   "metadata": {},
   "outputs": [
    {
     "name": "stdout",
     "output_type": "stream",
     "text": [
      "[0, '_', 1, 1, 1, 2, 2, 3, 3, 4]\n",
      "[0, 1, '_', 1, 1, 2, 2, 3, 3, 4]\n",
      "[0, 1, '_', '_', 1, 2, 2, 3, 3, 4]\n",
      "[0, 1, '_', '_', '_', 2, 2, 3, 3, 4]\n",
      "[0, 1, 2, '_', '_', '_', 2, 3, 3, 4]\n",
      "[0, 1, 2, '_', '_', '_', '_', 3, 3, 4]\n",
      "[0, 1, 2, 3, '_', '_', '_', '_', 3, 4]\n",
      "[0, 1, 2, 3, '_', '_', '_', '_', '_', 4]\n",
      "[0, 1, 2, 3, 4, '_', '_', '_', '_', '_']\n",
      "[0, 1, 2, 3, 4, '_', '_', '_', '_', '_']\n"
     ]
    }
   ],
   "source": [
    "dizi = [0, 0, 1, 1, 1, 2, 2, 3, 3, 4]\n",
    "t=0\n",
    "for i in range(1,len(dizi)):\n",
    "    if dizi[i] in dizi[0:i]:\n",
    "        dizi[i]=\"_\"\n",
    "    elif dizi[i] not in dizi[0:i]:\n",
    "        if dizi[i-1] == \"_\":\n",
    "            dizi[t+1]=dizi[i]\n",
    "            dizi[i]=\"_\"\n",
    "            t+=1\n",
    "        else:\n",
    "            t+=1\n",
    "    print(dizi)\n",
    "print(dizi)"
   ]
  },
  {
   "cell_type": "code",
   "execution_count": 18,
   "id": "4ef506a8",
   "metadata": {},
   "outputs": [
    {
     "name": "stdout",
     "output_type": "stream",
     "text": [
      "[81, -2, 81, 11, 3136, -12, 9]\n"
     ]
    }
   ],
   "source": [
    "array = [9, -2, -9, 11, 56, -12, -3]\n",
    "liste=[]\n",
    "for i in range(len(array)):\n",
    "    if i%2==0:\n",
    "        liste.append((array[i])**2)\n",
    "    else:\n",
    "        liste.append(array[i])\n",
    "print(liste)        "
   ]
  },
  {
   "cell_type": "code",
   "execution_count": 2,
   "id": "9820495b",
   "metadata": {},
   "outputs": [
    {
     "name": "stdout",
     "output_type": "stream",
     "text": [
      "area=  16\n"
     ]
    }
   ],
   "source": [
    "class s(object):\n",
    "    k=4\n",
    "    alan=0\n",
    "    def area(self):\n",
    "        self.alan=self.k**2\n",
    "        print(\"area= \",self.alan)\n",
    "s4=s()\n",
    "s4.area()"
   ]
  },
  {
   "cell_type": "code",
   "execution_count": 1,
   "id": "586df019",
   "metadata": {},
   "outputs": [
    {
     "name": "stdout",
     "output_type": "stream",
     "text": [
      "234\n",
      "(9, 24)\n"
     ]
    }
   ],
   "source": [
    "def toplama_çarpma(n):\n",
    "    top=0\n",
    "    çarp=1\n",
    "    while n>0:\n",
    "        last_step=n%10\n",
    "        n=int((n-last_step)/10)\n",
    "        top+=last_step\n",
    "        çarp*=last_step\n",
    "    return ç\n",
    "n=int(input())\n",
    "print(toplama_çarpma(n))"
   ]
  },
  {
   "cell_type": "code",
   "execution_count": 23,
   "id": "71645a11",
   "metadata": {},
   "outputs": [
    {
     "name": "stdout",
     "output_type": "stream",
     "text": [
      "abba\n",
      "abab\n",
      "True\n"
     ]
    }
   ],
   "source": [
    "def isAnagram(s, t):\n",
    "    if len(s)!=len(t):\n",
    "        return False\n",
    "    ls=list(map(str,s))\n",
    "    lt=list(map(str,t))\n",
    "    for i in range(len(s)):\n",
    "        if ls[i] in lt:\n",
    "            index=lt.index(ls[i])\n",
    "            ls[i]=0\n",
    "            lt[index]=0\n",
    "        else:\n",
    "            return False\n",
    "    return True\n",
    "s=input();t=input()\n",
    "print(isAnagram(s,t))"
   ]
  },
  {
   "cell_type": "code",
   "execution_count": 141,
   "id": "e9930122",
   "metadata": {},
   "outputs": [
    {
     "name": "stdout",
     "output_type": "stream",
     "text": [
      "[-4, -2, 0, 1, 2, 5, 9]\n",
      "3\n"
     ]
    }
   ],
   "source": [
    "def firstMissingPositive(nums):\n",
    "    \"\"\"\n",
    "    :type nums: List[int]\n",
    "    :rtype: int\n",
    "    \"\"\"\n",
    "\n",
    "    nums.sort()\n",
    "    print(nums)\n",
    "    count = 1\n",
    "    for i in nums:\n",
    "        if(i<count):\n",
    "            continue\n",
    "        elif(count!=i):\n",
    "\n",
    "            return count\n",
    "        else:\n",
    "            count+=1\n",
    "\n",
    "    return count\n",
    "y=firstMissingPositive([-2,-4,0,1,2,5,9])\n",
    "print(y)"
   ]
  },
  {
   "cell_type": "code",
   "execution_count": 149,
   "id": "a31a5027",
   "metadata": {},
   "outputs": [
    {
     "name": "stdout",
     "output_type": "stream",
     "text": [
      "8\n",
      "[1, 2, 2, 3, 3, 4, 7, 8]\n",
      "[5, 6]\n"
     ]
    }
   ],
   "source": [
    "def findDisappearedNumbers(nums):\n",
    "    liste=[]\n",
    "    count=1\n",
    "    nums.sort()\n",
    "    print(nums)\n",
    "    for i in range(len(nums)):\n",
    "        if count not in nums:\n",
    "            liste.append(count) \n",
    "        count+=1\n",
    "    return liste\n",
    "nums = [4,3,2,7,8,2,3,1]\n",
    "print(max(nums))\n",
    "t=findDisappearedNumbers(nums)\n",
    "print(t)\n",
    "#hash table"
   ]
  },
  {
   "cell_type": "code",
   "execution_count": 1,
   "id": "c0a84987",
   "metadata": {},
   "outputs": [
    {
     "name": "stdout",
     "output_type": "stream",
     "text": [
      "4\n",
      "[[2 6 9 4]\n",
      " [7 5 3 2]\n",
      " [4 9 0 9]\n",
      " [4 3 3 7]]\n",
      "\n",
      "[[], [], [], [], [], [], [], []]\n",
      "\n",
      "[[2, 5, 0, 7], [7, 9, 3], [4, 3], [4], [], [4], [9, 2], [6, 3, 9]]\n",
      "\n",
      "[[7, 5, 2, 0], [9, 7, 3], [4, 3], [4], [], [4], [9, 2], [9, 6, 3]]\n",
      "\n",
      "[[0 3 2 4]\n",
      " [3 2 6 9]\n",
      " [3 7 5 9]\n",
      " [4 4 9 7]]\n"
     ]
    }
   ],
   "source": [
    "from numpy.random import randint as arr\n",
    "light=int(input())\n",
    "matrix=arr(0,10,size=(light,light))\n",
    "print(matrix)\n",
    "print()\n",
    "def diagonalSort(mat):\n",
    "\n",
    "    xl, yl = len(mat), len(mat[0])\n",
    "    t = [ [] for i in range( xl+yl ) ]\n",
    "    print(f\"{t}\\n\")\n",
    "\n",
    "    for i in range(xl):\n",
    "        for j in range(yl):\n",
    "            t[i - j].append(mat[i][j])\n",
    "    print(f\"{t}\\n\")\n",
    "    for l in t:\n",
    "        l.sort(reverse=True)\n",
    "    print(f\"{t}\\n\")\n",
    "    for i in range(xl):\n",
    "        for j in range(yl):\n",
    "            mat[i][j] = t[i-j].pop()\n",
    "\n",
    "    return mat\n",
    "mat=diagonalSort(matrix)\n",
    "print(mat)\n",
    "#harika bir çözüm"
   ]
  },
  {
   "cell_type": "code",
   "execution_count": 8,
   "id": "bec7152a",
   "metadata": {},
   "outputs": [
    {
     "name": "stdout",
     "output_type": "stream",
     "text": [
      "(58, [[1], [4], [2], [5], [3], [1, 4, 2], [4, 2, 5], [2, 5, 3], [1, 4, 2, 5, 3]])\n"
     ]
    }
   ],
   "source": [
    "def sumOddLengthSubarrays(arr):\n",
    "    t=1\n",
    "    matrix=[]\n",
    "    toplam=0\n",
    "    while t<=len(arr):\n",
    "        for i in range(0,len(arr)-t+1):\n",
    "            liste=arr[i:i+t]\n",
    "            toplam+=sum(liste)\n",
    "            matrix.append(liste)\n",
    "        t+=2\n",
    "    return toplam,matrix\n",
    "lis=[1,4,2,5,3]\n",
    "r=sumOddLengthSubarrays(lis)\n",
    "print(r)"
   ]
  },
  {
   "cell_type": "code",
   "execution_count": 10,
   "id": "19687c28",
   "metadata": {},
   "outputs": [
    {
     "name": "stdout",
     "output_type": "stream",
     "text": [
      "[1, 3, 12, 0, 0, 0]\n"
     ]
    }
   ],
   "source": [
    "def moveZeroes(nums):\n",
    "    def k(x):\n",
    "        return x\n",
    "    liste=list(filter(k,nums))\n",
    "    uz=len(liste)\n",
    "    liste+=[0]*uz\n",
    "    return liste\n",
    "lis=[0,1,0,3,12]\n",
    "t=moveZeroes(lis)\n",
    "print(t)"
   ]
  },
  {
   "cell_type": "code",
   "execution_count": 21,
   "id": "48bb639e",
   "metadata": {},
   "outputs": [
    {
     "name": "stdout",
     "output_type": "stream",
     "text": [
      "(3, [68, 33, 68])\n"
     ]
    }
   ],
   "source": [
    "def minimumCardPickup(cards):\n",
    "    if len(cards)==len(set(list(cards))):\n",
    "        return -1\n",
    "    enb=len(cards)\n",
    "    t=[]\n",
    "    for i in range(len(cards)-1):\n",
    "        number1=cards[i]\n",
    "        for j in range(i+1,len(cards)):\n",
    "            number2=cards[j]\n",
    "            if number1==number2 and number1%2==0:\n",
    "                liste=cards[i:j+1]\n",
    "                if len(liste)<=enb:\n",
    "                    enb=len(liste)\n",
    "                    t=liste\n",
    "                    break\n",
    "    return enb,t\n",
    "\n",
    "k=[77,10,11,51,69,83,33,94,0,42,86,41,65,40,72,8,53,31,43,22,9,94,45,80,40,0,84,34,76,28,7,79,80,93,20,82,36,74,82,89,74,77,27,54,44,93,98,44,39,74,36,9,22,57,70,98,19,68,33,68,49,86,20,50,43]\n",
    "print(minimumCardPickup(k))"
   ]
  },
  {
   "cell_type": "code",
   "execution_count": 27,
   "id": "49fb85b6",
   "metadata": {},
   "outputs": [
    {
     "name": "stdout",
     "output_type": "stream",
     "text": [
      "[[ 5  8  7  4  9]\n",
      " [10  1  3  5  5]\n",
      " [ 6 10  8  1  8]\n",
      " [ 6 10  8  2  7]\n",
      " [ 5  5  3  5  2]]\n",
      "satır toplamı=33\n",
      "satır toplamı=24\n",
      "satır toplamı=33\n",
      "satır toplamı=33\n",
      "satır toplamı=20\n"
     ]
    }
   ],
   "source": [
    "from numpy.random import randint as ra\n",
    "mat=ra(1,11,size=(5,5))\n",
    "print(mat)\n",
    "for i in range(len(mat)):\n",
    "    toplam=sum(mat[i])\n",
    "    print(f\"satır toplamı={toplam}\")\n",
    "\n",
    "mat2=ra(1,10,size=(5,5))    \n",
    "\n",
    "    \n"
   ]
  },
  {
   "cell_type": "code",
   "execution_count": 2,
   "id": "1770f043",
   "metadata": {},
   "outputs": [
    {
     "name": "stdout",
     "output_type": "stream",
     "text": [
      "7\n",
      "4\n",
      "2\n",
      "6\n",
      "10\n",
      "9\n",
      "8\n",
      "9.5\n",
      "12\n",
      "11\n",
      "15\n",
      "\n",
      "silineccek eleman=10\n",
      "silineccek eleman=11\n",
      "silineccek eleman=15\n",
      "7\n",
      "4\n",
      "2\n",
      "6\n",
      "11\n",
      "9\n",
      "8\n",
      "9.5\n",
      "12\n"
     ]
    }
   ],
   "source": [
    "#its binary search tree(BST) code \n",
    "class Node:\n",
    "    def __init__(self,data,left=None,right=None):\n",
    "        self.data=data\n",
    "        self.left=left\n",
    "        self.right=right\n",
    "class BST:\n",
    "    def __init__(self):\n",
    "        self.root=None\n",
    "    def search(self,data):\n",
    "        tmp=self.root\n",
    "        while tmp != None:\n",
    "            if tmp.data==data:\n",
    "                return True\n",
    "            elif tmp.data>data:\n",
    "                tmp=tmp.left\n",
    "            else:\n",
    "                tmp=tmp.right\n",
    "        return False\n",
    "        \n",
    "    def inorder(self,current):\n",
    "        if current==None:\n",
    "            return \n",
    "        self.inorder(current.left)\n",
    "        print(current.data)\n",
    "        self.inorder(current.right)\n",
    "    def preorder(self,current):\n",
    "        if current==None:\n",
    "            return \n",
    "        print(current.data) \n",
    "        self.preorder(current.left)\n",
    "        self.preorder(current.right)\n",
    "    def postorder(self,current):\n",
    "        if current==None:\n",
    "            return \n",
    "        self.preorder(current.left)\n",
    "        self.preorder(current.right)\n",
    "        print(current.data)\n",
    "    def insertion(self,current,node_data): \n",
    "        if current==None:\n",
    "            return node_data \n",
    "        if node_data.data<current.data:\n",
    "            current.left = self.insertion(current.left, node_data)\n",
    "        else:\n",
    "            current.right = self.insertion(current.right, node_data)\n",
    "        return current\n",
    "    def add(self,d):\n",
    "        node_data=Node(d)\n",
    "        if self.root==None:\n",
    "            self.root=node_data\n",
    "        else:\n",
    "            self.insertion(self.root,node_data)\n",
    "    def loop(self,liste):\n",
    "        for i in range(len(liste)):\n",
    "            self.add(liste[i])\n",
    "    def to_print(self):\n",
    "        if self.root==None:\n",
    "            print(\"ağacımız boş\")\n",
    "        else:\n",
    "            current=self.root\n",
    "            self.preorder(current)\n",
    "    def findmin(self,current):\n",
    "        current=current.right\n",
    "        while current.left!=None:\n",
    "            current=current.left\n",
    "        min_data=current.data\n",
    "        return min_data\n",
    "    def deletion(self,current,node_data):\n",
    "        if current==None:\n",
    "            return None\n",
    "        if current.data==node_data.data:  \n",
    "            if current.left==None and current.right==None:\n",
    "                print(f\"silineccek eleman={current.data}\")\n",
    "                return None\n",
    "            elif current.left==None and current.right!=None:\n",
    "                print(f\"silineccek eleman={current.data}\")\n",
    "                current=current.right\n",
    "                return current\n",
    "                \n",
    "            elif current.left!=None and current.right==None:\n",
    "                print(f\"silineccek eleman={current.data}\")\n",
    "                current=current.left\n",
    "                return current\n",
    "            else:\n",
    "                print(f\"silineccek eleman={current.data}\")\n",
    "                min_data=self.findmin(current)\n",
    "                current.data=min_data\n",
    "                min_node=Node(min_data)\n",
    "                current.right=self.deletion(current.right,min_node)\n",
    "                return current\n",
    "        if current.data<node_data.data:\n",
    "            current.right=self.deletion(current.right,node_data)\n",
    "        elif current.data>node_data.data:\n",
    "            current.left=self.deletion(current.left,node_data)\n",
    "        return current\n",
    "    def delete(self,data):\n",
    "        node_data=Node(data)\n",
    "        self.deletion(self.root,node_data)\n",
    "\n",
    "bst=BST()\n",
    "#iste=[6,1,8,3,5,10,7]  \n",
    "liste=[7,4,2,6,10,9,12,8,9.5,11,15]\n",
    "bst.loop(liste)\n",
    "bst.to_print()\n",
    "print()\n",
    "bst.delete(10)\n",
    "bst.delete(15)\n",
    "bst.to_print()\n",
    "        "
   ]
  },
  {
   "cell_type": "code",
   "execution_count": 9,
   "id": "dc39e2e2",
   "metadata": {},
   "outputs": [
    {
     "name": "stdout",
     "output_type": "stream",
     "text": [
      "[('C', 6), ('A', 5), ('D', 3), ('B', 1)]\n",
      "C : 0\n",
      "B : 100\n",
      "D : 101\n",
      "A : 11\n"
     ]
    }
   ],
   "source": [
    "from collections import Counter\n",
    "\n",
    "\n",
    "class NodeTree:\n",
    "    def __init__(self, left=None, right=None):\n",
    "        self.left = left\n",
    "        self.right = right\n",
    "    def children(self):\n",
    "        return self.left, self.right\n",
    "\n",
    "    def __str__(self):\n",
    "        return self.left, self.right\n",
    "def huffman_code_tree(node, binString=''):\n",
    "\n",
    "    if type(node) is str:\n",
    "        return {node: binString}\n",
    "    (l, r) = node.children()\n",
    "    d = dict()\n",
    "    d.update(huffman_code_tree(l, binString + '0'))\n",
    "    d.update(huffman_code_tree(r, binString + '1'))\n",
    "    return d\n",
    "\n",
    "\n",
    "def make_tree(nodes):\n",
    "    while len(nodes) > 1:\n",
    "        (key1, c1) = nodes[-1]\n",
    "        (key2, c2) = nodes[-2]\n",
    "        nodes = nodes[:-2]\n",
    "        node = NodeTree(key1, key2)\n",
    "        nodes.append((node, c1 + c2))\n",
    "        nodes = sorted(nodes, key=lambda x: x[1], reverse=True)\n",
    "    return nodes[0][0]\n",
    "\n",
    "\n",
    "if __name__ == '__main__':\n",
    "    string = 'BCAADDDCCACACAC'\n",
    "    freq = dict(Counter(string))\n",
    "    freq = sorted(freq.items(), key=lambda x: x[1], reverse=True)\n",
    "    print(freq)\n",
    "    node = make_tree(freq)\n",
    "    encoding = huffman_code_tree(node)\n",
    "    for i in encoding:\n",
    "        print(f'{i} : {encoding[i]}')"
   ]
  },
  {
   "cell_type": "code",
   "execution_count": 5,
   "id": "77a2f82a",
   "metadata": {},
   "outputs": [
    {
     "name": "stdout",
     "output_type": "stream",
     "text": [
      "h\n",
      "string h\n",
      "e\n",
      "string eh\n",
      "l\n",
      "string leh\n",
      "l\n",
      "string lleh\n",
      "o\n",
      "string olleh\n",
      "olleh\n"
     ]
    }
   ],
   "source": [
    "def ters_kelime(n):\n",
    "    string=''\n",
    "    for i in(n):\n",
    "        string=i+string\n",
    "        print(i)\n",
    "        print(\"string\",string)\n",
    "    print(string)\n",
    "ters_kelime('hello')"
   ]
  },
  {
   "cell_type": "code",
   "execution_count": 5,
   "id": "dfd4aada",
   "metadata": {},
   "outputs": [
    {
     "name": "stdout",
     "output_type": "stream",
     "text": [
      "[0 9 1 6 0 2 8 4 8 3]\n",
      "[0 0 1 2 3 4 6 8 8 9]\n",
      "{0, 1, 2, 3, 4, 6, 8, 9}\n"
     ]
    }
   ],
   "source": [
    "from numpy.random import randint as ra\n",
    "def merge(arr, l, m, r):\n",
    "    n1 = m - l + 1\n",
    "    n2 = r - m\n",
    "\n",
    "    # انشاء القوائم الفرعية\n",
    "    L = [0] * (n1)\n",
    "    R = [0] * (n2)\n",
    "\n",
    "    # نقل العناصر الى القوائم الفرعية\n",
    "    for i in range(0, n1):\n",
    "        L[i] = arr[l + i]\n",
    "    for j in range(0, n2):\n",
    "        R[j] = arr[m + 1 + j]\n",
    "\n",
    "    # مرشحة العناصر من القوائم الفرعية الى القائمة الرئيسية\n",
    "    i = 0\n",
    "    j = 0\n",
    "    k = l\n",
    "\n",
    "    while i < n1 and j < n2:\n",
    "        if L[i] <= R[j]:\n",
    "            arr[k] = L[i]\n",
    "            i += 1\n",
    "        else:\n",
    "            arr[k] = R[j]\n",
    "            j += 1\n",
    "        k += 1\n",
    "\n",
    "    # نقل العناصر المتبقية من القائمة الفرعية الأولى\n",
    "    while i < n1:\n",
    "        arr[k] = L[i]\n",
    "        i += 1\n",
    "        k += 1\n",
    "\n",
    "    # نقل العناصر المتبقية من القائمة الفرعية الثانية\n",
    "    while j < n2:\n",
    "        arr[k] = R[j]\n",
    "        j += 1\n",
    "        k += 1\n",
    "\n",
    "def merge_sort(arr, l, r):\n",
    "    if l < r:\n",
    "        m = (l + (r - 1)) // 2\n",
    "\n",
    "        # نقسم القائمة الرئيسية الى قوائم فرعية\n",
    "        merge_sort(arr, l, m)\n",
    "        merge_sort(arr, m + 1, r)\n",
    "        merge(arr, l, m, r)\n",
    "liste=ra(0,10,size=10)\n",
    "print(liste)\n",
    "merge_sort(liste,0,len(liste)-1)\n",
    "print(liste)\n",
    "print(set(liste))"
   ]
  },
  {
   "cell_type": "code",
   "execution_count": 1,
   "id": "26ecddb2",
   "metadata": {},
   "outputs": [
    {
     "name": "stdout",
     "output_type": "stream",
     "text": [
      "[0 1 3 9 9 6 1 5 6 0]\n"
     ]
    }
   ],
   "source": [
    "from numpy.random import randint as ra \n",
    "liste=ra(0,10,size=10)\n",
    "def sorting(liste):\n",
    "    for i in range(len(liste)):\n",
    "        index=i\n",
    "        j=i+1\n",
    "        while j<len(liste):\n",
    "            if liste[j]==liste[index]:\n",
    "                del liste[j]\n",
    "                continue\n",
    "            if liste[j]<liste[index]:\n",
    "                index=j\n",
    "                j+=1\n",
    "        liste[index],liste[i]=liste[i],liste[index]\n",
    "print(liste)"
   ]
  },
  {
   "cell_type": "code",
   "execution_count": 1,
   "id": "76617610",
   "metadata": {},
   "outputs": [
    {
     "name": "stdout",
     "output_type": "stream",
     "text": [
      "6\n",
      "1\n",
      "52\n",
      "8\n",
      "8\n",
      "7\n",
      "7\n",
      "[1, 52, 8, 8, 7, 7]\n"
     ]
    }
   ],
   "source": [
    "m=int(input())\n",
    "liste= []\n",
    "for i in range(m):\n",
    "    x = int(input())\n",
    "    liste.append(x)\n",
    "print(liste)"
   ]
  },
  {
   "cell_type": "code",
   "execution_count": 2,
   "id": "aa750e37",
   "metadata": {},
   "outputs": [
    {
     "name": "stdout",
     "output_type": "stream",
     "text": [
      "5 4    9 5406 6\n",
      "[5, 4, 9, 5406, 6]\n"
     ]
    }
   ],
   "source": [
    "liste=list(map(int,input().split()))\n",
    "print(liste)"
   ]
  },
  {
   "cell_type": "code",
   "execution_count": 3,
   "id": "43054138",
   "metadata": {},
   "outputs": [
    {
     "name": "stdout",
     "output_type": "stream",
     "text": [
      "['djf', 'df']\n"
     ]
    }
   ],
   "source": [
    "name=\" djf  df\"\n",
    "k=name.split()\n",
    "print(k)"
   ]
  },
  {
   "cell_type": "code",
   "execution_count": 23,
   "id": "0e5150ab",
   "metadata": {},
   "outputs": [
    {
     "name": "stdout",
     "output_type": "stream",
     "text": [
      "[6, 21, 26, 38, 41, 31, 43, 40, 37, 10, 28, 47]\n"
     ]
    }
   ],
   "source": [
    "from random import *\n",
    "liste=[i for i in range(50)] \n",
    "lis=sample(liste,12)\n",
    "print(lis)"
   ]
  },
  {
   "cell_type": "code",
   "execution_count": 20,
   "id": "38509c2e",
   "metadata": {},
   "outputs": [
    {
     "name": "stdout",
     "output_type": "stream",
     "text": [
      "A = 25\n",
      "B = 27\n",
      "C = 17\n",
      "D = 16\n",
      "E = 21\n"
     ]
    }
   ],
   "source": [
    "from random import randint as ra\n",
    "liste=[\"A\",\"B\",\"C\",\"D\",\"E\"]\n",
    "dic={}\n",
    "for i in range(len(liste)):\n",
    "    sayı=ra(10,30)\n",
    "    dic[liste[i]]=sayı\n",
    "    print(f\"{liste[i]} = {sayı}\")\n"
   ]
  },
  {
   "cell_type": "code",
   "execution_count": 8,
   "id": "5a6a2135",
   "metadata": {},
   "outputs": [
    {
     "name": "stdout",
     "output_type": "stream",
     "text": [
      "[2, 8, 2, 9, 8, 6]\n",
      "nour\n",
      "bassal\n",
      "dlfkjds\n",
      "adlşkf\n",
      "akmelş\n",
      "abol\n"
     ]
    }
   ],
   "source": [
    "from random import randint as ra\n",
    "liste=[ra(0,9) for i in range(6)]\n",
    "print(liste)\n",
    "with open(\"deneme.txt\", \"w\") as f:\n",
    "    for i in range(len(liste)):\n",
    "        kelime=input()\n",
    "        f.write(kelime)"
   ]
  },
  {
   "cell_type": "code",
   "execution_count": 146,
   "id": "485a1f3b",
   "metadata": {},
   "outputs": [
    {
     "name": "stdout",
     "output_type": "stream",
     "text": [
      "[ 6 -3 -6  0 -3  2]\n",
      "(8, [6, 2])\n"
     ]
    }
   ],
   "source": [
    "from numpy.random import randint as ra\n",
    "liste=ra(-10,10,size=6)\n",
    "print(liste)\n",
    "def maxSubarraySumCircular(nums):\n",
    "    answer=None\n",
    "    for i in range(len(nums)):\n",
    "        liste=[nums[i]]\n",
    "        for j in range(i+1,len(nums)):\n",
    "            if nums[j]+sum(liste)>sum(liste):\n",
    "                liste.append(nums[j])\n",
    "        if answer==None:\n",
    "            answer=liste\n",
    "        else:\n",
    "            if sum(liste)>sum(answer):\n",
    "                answer=liste\n",
    "    return sum(answer),answer\n",
    "answer=maxSubarraySumCircular(liste)\n",
    "print(answer)"
   ]
  },
  {
   "cell_type": "code",
   "execution_count": 3,
   "id": "e8425e16",
   "metadata": {},
   "outputs": [
    {
     "name": "stdout",
     "output_type": "stream",
     "text": [
      "(4, [True, True, True, False, False, True])\n"
     ]
    }
   ],
   "source": [
    "#عدد بواقي القسمة\n",
    "def commonfactors(a,b):\n",
    "    liste=[b%i==0 and a%i==0 for i in range(1,min(a,b)+1)]\n",
    "    return sum(liste),liste\n",
    "answer=commonfactors(12,6)\n",
    "print(answer)"
   ]
  },
  {
   "cell_type": "code",
   "execution_count": 11,
   "id": "fab6ef71",
   "metadata": {},
   "outputs": [
    {
     "name": "stdout",
     "output_type": "stream",
     "text": [
      "10\n",
      "[2]\n",
      "[3]\n",
      "[2, 3]\n",
      "[4]\n",
      "[5]\n",
      "[4, 5]\n",
      "[2, 3, 4, 5]\n",
      "[6]\n",
      "[7]\n",
      "[6, 7]\n",
      "[8]\n",
      "[9]\n",
      "[8, 9]\n",
      "[6, 7, 8, 9]\n",
      "[2, 3, 4, 5, 6, 7, 8, 9]\n",
      "4\n"
     ]
    }
   ],
   "source": [
    "class Solution:\n",
    "    def __init__(self):\n",
    "        self.count=0\n",
    "    def isitprime(self,number):\n",
    "        for i in range(2,number):\n",
    "            if number%i==0:\n",
    "                return False\n",
    "        return True\n",
    "    def merge(self,liste,l,r):\n",
    "        if l<r:\n",
    "            m=(l+r)//2\n",
    "            self.merge(liste,l,m)\n",
    "            self.merge(liste,m+1,r)\n",
    "        print(liste[l:r+1])\n",
    "        if len(liste[l:r+1])==1:\n",
    "            if self.isitprime(liste[l:r+1][0]):\n",
    "                self.count+=1\n",
    "\n",
    "    def countPrimes(self,n):\n",
    "        liste=list(range(2,n))\n",
    "        l=0\n",
    "        r=len(liste)-1\n",
    "        self.merge(liste,l,r)\n",
    "        return self.count\n",
    "s=Solution()\n",
    "number=int(input())\n",
    "print(s.countPrimes(number))"
   ]
  },
  {
   "cell_type": "code",
   "execution_count": 12,
   "id": "6394df02",
   "metadata": {},
   "outputs": [
    {
     "name": "stdout",
     "output_type": "stream",
     "text": [
      "10\n",
      "[2]\n",
      "[3]\n",
      "[2, 3]\n",
      "[4]\n",
      "[5]\n",
      "[4, 5]\n",
      "[2, 3, 4, 5]\n",
      "[6]\n",
      "[7]\n",
      "[6, 7]\n",
      "[8]\n",
      "[9]\n",
      "[8, 9]\n",
      "[6, 7, 8, 9]\n",
      "[2, 3, 4, 5, 6, 7, 8, 9]\n",
      "4\n"
     ]
    }
   ],
   "source": [
    "class Solution:\n",
    "    def __init__(self):\n",
    "        self.count=0\n",
    "    def isitprime(self,number):\n",
    "        for i in range(2,number):\n",
    "            if number%i==0:\n",
    "                return False\n",
    "        return True\n",
    "    def merge(self,liste):\n",
    "        if len(liste)>1:\n",
    "            m=len(liste)//2  #3\n",
    "            L=liste[:m]\n",
    "            R=liste[m:]\n",
    "            self.merge(L)#[2,3,4,5]\n",
    "            self.merge(R)#[6,7,8,9]\n",
    "        print(liste)\n",
    "        if len(liste)==1:\n",
    "            if self.isitprime(liste[0]):\n",
    "                self.count+=1\n",
    "\n",
    "    def countPrimes(self,n):\n",
    "        liste=list(range(2,n))\n",
    "        self.merge(liste)\n",
    "        return self.count\n",
    "s=Solution()\n",
    "number=int(input())\n",
    "answer=s.countPrimes(number)\n",
    "print(answer)"
   ]
  },
  {
   "cell_type": "code",
   "execution_count": 13,
   "id": "a50175d7",
   "metadata": {},
   "outputs": [
    {
     "name": "stdout",
     "output_type": "stream",
     "text": [
      "enter any number: 4\n",
      "0.5\n",
      "0.3333333333333333\n",
      "0.6666666666666666\n",
      "0.25\n",
      "0.5\n",
      "0.75\n",
      "['1/2', '1/3', '2/3', '1/4', '3/4']\n"
     ]
    }
   ],
   "source": [
    "def simplifiedFractions(n):\n",
    "    liste=[]\n",
    "    lst=[]\n",
    "    for j in range(2,n+1):\n",
    "        for i in range(1,j):\n",
    "            deger=i/j\n",
    "            print(deger)\n",
    "            if deger not in liste:\n",
    "                liste.append(deger)\n",
    "                lst.append(f\"{i}/{j}\")\n",
    "    return lst\n",
    "n=int(input(\"enter any number: \"))\n",
    "s=simplifiedFractions(n)\n",
    "print(s)"
   ]
  },
  {
   "cell_type": "code",
   "execution_count": 6,
   "id": "b860d05a",
   "metadata": {},
   "outputs": [
    {
     "name": "stdout",
     "output_type": "stream",
     "text": [
      "[3, 0, 2, 3, 2, 0]\n",
      "(2, [3, 0, 2])\n"
     ]
    }
   ],
   "source": [
    "#السؤال هو انو بدي اكير عدد تكرارو نفس قيمة العدد نفسو واذا ما نوجد رجعلي -1\n",
    "from random import randint as ra\n",
    "class Solution:\n",
    "    def findLucky(self,arr):\n",
    "        answer=-1\n",
    "        first=0\n",
    "        while first<len(arr):\n",
    "            count=1\n",
    "            t=first+1\n",
    "            while t<len(arr):\n",
    "                if arr[first]==arr[t]:\n",
    "                    count+=1\n",
    "                    del arr[t]\n",
    "                else:\n",
    "                    t+=1\n",
    "            if arr[first]==count and count>answer:\n",
    "                answer=count\n",
    "            first+=1\n",
    "        return answer,liste\n",
    "liste=[ra(0,5) for i in range(6)]     \n",
    "print(liste)        \n",
    "s=Solution()\n",
    "answer=s.findLucky(liste)\n",
    "print(answer)"
   ]
  },
  {
   "cell_type": "code",
   "execution_count": 30,
   "id": "a36d9be9",
   "metadata": {},
   "outputs": [
    {
     "name": "stdout",
     "output_type": "stream",
     "text": [
      "[8, 2, 7, 3, 4]\n",
      "11111\n",
      "11111\n",
      "10111\n",
      "10101\n",
      "10100\n",
      "10100\n",
      "10100\n",
      "10000\n"
     ]
    }
   ],
   "source": [
    "#مجموع اعداد البينري في الناتج هو العدد المدخل\n",
    "def minPartitions(liste):\n",
    "    if sum(liste)>0:\n",
    "        string=\"\"\n",
    "        for i in range(len(liste)):\n",
    "            if liste[i]-1>=0:\n",
    "                string+=str(1)\n",
    "                liste[i]=liste[i]-1\n",
    "            else:\n",
    "                string+=str(0)\n",
    "        print(string)\n",
    "\n",
    "        minPartitions(liste)\n",
    "    else:\n",
    "        return\n",
    "n =\"82734\"\n",
    "liste=[int(i) for i in n]\n",
    "print(liste)\n",
    "minPartitions(liste)"
   ]
  },
  {
   "cell_type": "code",
   "execution_count": 1,
   "id": "bd64e877",
   "metadata": {},
   "outputs": [
    {
     "name": "stdout",
     "output_type": "stream",
     "text": [
      "9\n",
      "[[  1  85  82  75   2  31  24  21  11]\n",
      " [ 34  26  77  16 100   5  47  19  96]\n",
      " [ 53   3   9  76  35  63  99  37  98]\n",
      " [ 23  30  89  15  18  12  15  33   1]\n",
      " [ 22  37  80  88  57  49  23  99  83]\n",
      " [ 71   1  98  54  87  93  61  37   7]\n",
      " [ 57  86  84  90  50  90   2  89  69]\n",
      " [  2  71  43  70  87  26  11  81   7]\n",
      " [ 64  40  84  74  18  14  58  15  63]]\n",
      "n in boyutu giriniz: 3\n",
      "[[ 85 100  99]\n",
      " [ 98  93  99]\n",
      " [ 86  90  89]]\n"
     ]
    }
   ],
   "source": [
    "# السوال انو بدي دخل مصفوفة من حجم كذا بعدين بختار قيمة لا حرف الان وبقطع المصفوفة على هل اساس بختار بس اكبر رقم وبحطو بمصفوفة جديدة \n",
    "from random import randint as ra\n",
    "from numpy import array as ar\n",
    "size=int(input())\n",
    "class Matrix:\n",
    "    def __init__(self):\n",
    "        self.liste=[]\n",
    "        self.matrix=[]\n",
    "    def kucultmek(self,n,i,j,mat):\n",
    "        enb=mat[i][j] \n",
    "        for a in range(i,i+n):\n",
    "            for b in range(j,j+n):\n",
    "                if mat[a][b]>enb:\n",
    "                    enb=mat[a][b]\n",
    "        self.liste.append(enb)\n",
    "        if (len(mat[0])-n)>j:\n",
    "            self.kucultmek(n,i,j+n,mat)\n",
    "        elif (len(mat[0])-n)==j:\n",
    "            self.matrix.append(self.liste)\n",
    "            self.liste=[] \n",
    "            if len(mat)-n>i:\n",
    "                self.kucultmek(n,i+n,0,mat) \n",
    "            else:\n",
    "                print(ar(self.matrix))\n",
    "k=Matrix()        \n",
    "mat=[[ra(0,100)for i in range(size)]for j in range(size)]\n",
    "print(ar(mat))\n",
    "n=int(input(\"n in boyutu giriniz: \"))\n",
    "new_matrix=k.kucultmek(n,0,0,mat)\n"
   ]
  },
  {
   "cell_type": "code",
   "execution_count": 2,
   "id": "29420456",
   "metadata": {},
   "outputs": [
    {
     "name": "stdout",
     "output_type": "stream",
     "text": [
      "[[], [], []]\n",
      "rastgele numara 2\n",
      "[[1, 1], [], []] 2 [1, 1]\n",
      "[[1, 1], [], []]\n",
      "\n",
      "rastgele numara 2\n",
      "[[1, 1], [1, 1], []] 2 [1, 1]\n",
      "[[1, 1], [1, 1], []]\n",
      "\n",
      "rastgele numara 1\n",
      "[[1, 1], [1, 1], [1]] 1 [1]\n",
      "[[1, 1], [1, 1], [1]]\n",
      "\n",
      "rastgele numara 1\n",
      "[[1, 1, 1], [1, 1], [1]] 1 [1, 1, 1]\n",
      "[[1, 1, 1], [1, 1], [1]]\n",
      "\n"
     ]
    }
   ],
   "source": [
    "# NxN boyutlu bir matris oluşturunuz. Bu matrisi k kat küçültünüz. 2 kat küçültme işlemi aşağıda örneklenmiştir\n",
    "#N ve k değerlerini kullanıcı girecektir, matris değerleri ise 0-100 aralığındaki tam sayı değerlerinden random elde edilecektir. \n",
    "\n",
    "from random import choice as ch\n",
    "class Sepet:\n",
    "    def __init__(self):\n",
    "        self.lis=[1,2,3]\n",
    "    def __ekleme(self,liste,number):\n",
    "        new_liste=[1]*number\n",
    "        liste+=new_liste\n",
    "        return liste\n",
    "    def __çıkartma(self,liste,number):\n",
    "        if len(liste)>=number:\n",
    "            liste=liste[number:]\n",
    "        else:\n",
    "            liste=[]\n",
    "        return liste\n",
    "    def işleme(self):\n",
    "        liste=[[] for i in range(3)]\n",
    "        c=0\n",
    "        print(liste)\n",
    "        while True:\n",
    "            random_number=ch(self.lis)\n",
    "            print(\"rastgele numara\",random_number)\n",
    "            li=liste[c]\n",
    "            random_liste=[self.__ekleme,self.__çıkartma]\n",
    "            işlem_liste=ch(random_liste)(li,random_number)\n",
    "            #print(\"işlem listesi\",işlem_liste)\n",
    "            #print()\n",
    "            print(liste,random_number,işlem_liste)\n",
    "            liste[c]=işlem_liste\n",
    "            print(liste)\n",
    "            c+=1\n",
    "            c=c%3\n",
    "            print()\n",
    "            if len(işlem_liste)>=3:\n",
    "                break\n",
    "büt_sepet=Sepet()\n",
    "büt_sepet.işleme()\n",
    "                \n",
    "\n"
   ]
  },
  {
   "cell_type": "code",
   "execution_count": 5,
   "id": "a72057bf",
   "metadata": {},
   "outputs": [
    {
     "name": "stdout",
     "output_type": "stream",
     "text": [
      "0\n",
      "1\n",
      "1\n",
      "2\n",
      "3\n",
      "5\n",
      "8\n",
      "13\n",
      "21\n",
      "34\n"
     ]
    }
   ],
   "source": [
    "#dinamic programing \n",
    "liste=[None]*500\n",
    "def dinamic_fibo(n):\n",
    "    if liste[n]==None:\n",
    "        if n==0:\n",
    "            liste[n]=0\n",
    "        elif n==1:\n",
    "            liste[n]=1\n",
    "        else:\n",
    "            liste[n]=dinamic_fibo(n-1)+dinamic_fibo(n-2)\n",
    "    return liste[n]\n",
    "for i in range(10):\n",
    "    print(dinamic_fibo(i))"
   ]
  },
  {
   "cell_type": "code",
   "execution_count": 12,
   "id": "092ad4d0",
   "metadata": {},
   "outputs": [
    {
     "name": "stdout",
     "output_type": "stream",
     "text": [
      "[[ 77  72  28  90 100  73]\n",
      " [ 73   6  54 100  73  49]\n",
      " [ 59   1  98   0  62  53]\n",
      " [ 88  12  64  79  64  66]\n",
      " [  1  70  68  62  81  46]\n",
      " [ 66  31  47  31  32  10]]\n",
      "\n",
      "kulanıcı 1 girerse: (351, [77, 6, 98, 79, 81, 10])\n",
      "kulanıcı 2 girerse: (346, [73, 73, 0, 64, 70, 66])\n"
     ]
    }
   ],
   "source": [
    "from numpy.random import randint as rd\n",
    "class Mat:\n",
    "    def __init__(self,number):\n",
    "        self.mat=rd(0,101,size=(number,number))\n",
    "    def diagonal1(self,matrix):\n",
    "        sum=0\n",
    "        liste=[]\n",
    "        for i in range(len(matrix)):\n",
    "            sayı=matrix[i][i]\n",
    "            sum +=sayı\n",
    "            liste.append(sayı)\n",
    "        return sum,liste\n",
    "    def diagonal2(self,matrix):\n",
    "        sum=0\n",
    "        liste=[]\n",
    "        size=len(matrix)\n",
    "        for i in range(size):\n",
    "            sayı=matrix[i][size-1-i]\n",
    "            sum+=sayı\n",
    "            liste.append(sayı)\n",
    "        return sum,liste\n",
    "    \n",
    "    def operation(self,rakam):\n",
    "        if rakam==1:\n",
    "            return self.diagonal1(self.mat)\n",
    "        elif rakam==2:\n",
    "            return self.diagonal2(self.mat)\n",
    "        else:\n",
    "            raise Exception(\"The transaction number you entered could not be found!,please try again\")\n",
    "    def print_mat(self):\n",
    "        print(self.mat)\n",
    "        print()\n",
    "m=Mat(6)\n",
    "m.print_mat()\n",
    "print(f\"kulanıcı 1 girerse: {m.operation(1)}\")\n",
    "print(f\"kulanıcı 2 girerse: {m.operation(2)}\")"
   ]
  },
  {
   "cell_type": "code",
   "execution_count": null,
   "id": "a1e66959",
   "metadata": {},
   "outputs": [],
   "source": [
    "def şifre_doğrulama(şifre):\n",
    "    rakamlar_listesi=list(range(0,9))\n",
    "    rakamlar_listesi=list(map(str,rakamlar_listesi))\n",
    "    if len(şifre)!=9:\n",
    "        return False\n",
    "    for i in şifre:\n",
    "        i in rakamlar_listesi:\n",
    "            return True\n",
    "    return False\n",
    "counter=0\n",
    "while counter<3\n",
    "    şifreyi_gir=input()\n",
    "    if şifre_doğrulama(şifreyi_gir):\n",
    "        print(\"şifreniz doğrudur\")\n",
    "    else:\n",
    "        counter+=1\n",
    "    if counter==3:\n",
    "        print(\"şifreniz bloke edilmiş\")"
   ]
  },
  {
   "cell_type": "code",
   "execution_count": 18,
   "id": "d826053f",
   "metadata": {},
   "outputs": [
    {
     "name": "stdout",
     "output_type": "stream",
     "text": [
      "bdjsf ldjfs\n"
     ]
    }
   ],
   "source": [
    "def ilkharfibüyük(cümle):\n",
    "    liste=[]\n",
    "    for i in range(len(cümle)):\n",
    "        if i==1:\n",
    "            liste.append(cümle[i].upper())\n",
    "        else:\n",
    "            liste.append(cümle[i])\n",
    "    return \"\".join(liste)\n",
    "def herkelime(cümle):\n",
    "    k=cümle.split()\n",
    "    liste=[]\n",
    "    for i in range(len(k)):\n",
    "        kelime=k[i]\n",
    "        ilkharf=kelime[0].upper()\n",
    "        h=kelime[1:]\n",
    "        f=ilkharf+h\n",
    "        liste.append(f)\n",
    "    return \" \".join(liste)\n",
    "def tambüyük(cümle):\n",
    "    cümle_upper = string.upper()\n",
    "    return cümle_upper\n",
    "def tamküçük(cümle):\n",
    "    cümle_lower = cümle.lower()\n",
    "    return cümle_lower\n",
    "k=tamküçük(\"bdjsf ldjfs\")\n",
    "print(k)"
   ]
  },
  {
   "cell_type": "code",
   "execution_count": 7,
   "id": "0e84e790",
   "metadata": {},
   "outputs": [
    {
     "data": {
      "text/plain": [
       "'A'"
      ]
     },
     "execution_count": 7,
     "metadata": {},
     "output_type": "execute_result"
    }
   ],
   "source": [
    "\"a\".upper()"
   ]
  },
  {
   "cell_type": "code",
   "execution_count": 15,
   "id": "dada57b4",
   "metadata": {},
   "outputs": [
    {
     "name": "stdout",
     "output_type": "stream",
     "text": [
      "HELLO, WORLD!\n"
     ]
    }
   ],
   "source": [
    "string = \"hello, world!\"\n",
    "string_upper = string.upper()\n",
    "print(string_upper)"
   ]
  },
  {
   "cell_type": "markdown",
   "id": "a59b5b18",
   "metadata": {},
   "source": [
    "In order to celebrate Women's day, Stella started playing with string S. She needs to know the maximum number of characters between any 2 same characters in the string.\n",
    "\n",
    "As she is busy in playing, help her for the same.\n",
    "\n",
    "If there are no 2 same characters in the string, print 1.\n",
    "\n",
    "Note: String is composed of lowercase letters of the Latin alphabet."
   ]
  },
  {
   "cell_type": "code",
   "execution_count": 13,
   "id": "8b88f4b0",
   "metadata": {},
   "outputs": [
    {
     "name": "stdout",
     "output_type": "stream",
     "text": [
      "2\n",
      "aba\n",
      "1\n",
      "babcddc\n",
      "2\n"
     ]
    }
   ],
   "source": [
    "T=int(input())\n",
    "for i in range(T):\n",
    "    S=list(input().lower())\n",
    "    max_size=-1\n",
    "    dic={}\n",
    "    for i in range(len(S)):\n",
    "        if S[i] not in dic:\n",
    "            dic[S[i]]=i\n",
    "        else:\n",
    "            size=i-dic[S[i]]-1\n",
    "            if size>max_size:\n",
    "                max_size=size\n",
    "            dic[S[i]]==i\n",
    "\n",
    "    if max_size==-1:\n",
    "        print(-1)\n",
    "    else:\n",
    "        print(max_size)\n",
    "    \n"
   ]
  },
  {
   "cell_type": "markdown",
   "id": "7f42c2e6",
   "metadata": {},
   "source": [
    "Input: nums = [[1,2,3],[4,5,6],[7,8,9]]\n",
    "\n",
    "Output: [1,4,2,7,5,3,8,6,9]\n",
    "\n",
    "\n",
    "Input: nums = [[1,2,3,4,5],[6,7],[8],[9,10,11],[12,13,14,15,16]]\n",
    "\n",
    "Output: [1,6,2,8,7,3,9,4,12,10,5,13,11,14,15,16]"
   ]
  },
  {
   "cell_type": "code",
   "execution_count": 10,
   "id": "2b57e174",
   "metadata": {},
   "outputs": [
    {
     "name": "stdout",
     "output_type": "stream",
     "text": [
      "[6, 8, 6, 1, 6]\n"
     ]
    }
   ],
   "source": [
    "class Solution:\n",
    "    def __init__(self):\n",
    "        self.liste=[]\n",
    "        \n",
    "    def find_up_rows(self,i,j,nums):\n",
    "        while i>=0:\n",
    "            try:\n",
    "                value=nums[i][j]\n",
    "                self.liste.append(value)\n",
    "            except:\n",
    "                pass\n",
    "            i-=1\n",
    "            j+=1\n",
    "    \n",
    "    def find_up_columns(self,i,j,nums):\n",
    "        while j<len(nums):\n",
    "            try:\n",
    "                value=nums[i][j]\n",
    "                self.liste.append(value)\n",
    "            except:\n",
    "                pass\n",
    "            i-=1\n",
    "            j+=1\n",
    "\n",
    "        \n",
    "    def findDiagonalOrder(self,nums): \n",
    "        for i in range(len(nums)):\n",
    "            self.find_up_rows(i,0,nums)\n",
    "        \n",
    "        for j in range(1,len(nums)):\n",
    "            self.find_up_columns(len(nums)-1,j,nums)\n",
    "        \n",
    "        return self.liste\n",
    "nums =[[6],[8],[6,1,6,16]]\n",
    "s=Solution()           \n",
    "print(s.findDiagonalOrder(nums))"
   ]
  },
  {
   "cell_type": "code",
   "execution_count": 15,
   "id": "2a32bc8e",
   "metadata": {},
   "outputs": [
    {
     "data": {
      "text/plain": [
       "[(0, 0, 0),\n",
       " (1, 0, 1),\n",
       " (1, 1, 0),\n",
       " (2, 0, 2),\n",
       " (2, 1, 1),\n",
       " (2, 2, 0),\n",
       " (3, 1, 2),\n",
       " (3, 2, 1),\n",
       " (4, 2, 2)]"
      ]
     },
     "execution_count": 15,
     "metadata": {},
     "output_type": "execute_result"
    }
   ],
   "source": [
    "nums = [[1,2,3],[4,5,6],[7,8,9]]\n",
    "temp = [(i+j, j, i) for i in range(len(nums)) for j in range(len(nums[i]))]\n",
    "temp.sort()\n",
    "temp"
   ]
  },
  {
   "cell_type": "code",
   "execution_count": 9,
   "id": "396a077e",
   "metadata": {},
   "outputs": [
    {
     "ename": "NameError",
     "evalue": "name 'List' is not defined",
     "output_type": "error",
     "traceback": [
      "\u001b[1;31m---------------------------------------------------------------------------\u001b[0m",
      "\u001b[1;31mNameError\u001b[0m                                 Traceback (most recent call last)",
      "\u001b[1;32m~\\AppData\\Local\\Temp/ipykernel_12636/793645159.py\u001b[0m in \u001b[0;36m<module>\u001b[1;34m\u001b[0m\n\u001b[1;32m----> 1\u001b[1;33m \u001b[1;32mclass\u001b[0m \u001b[0mSolution\u001b[0m\u001b[1;33m:\u001b[0m\u001b[1;33m\u001b[0m\u001b[1;33m\u001b[0m\u001b[0m\n\u001b[0m\u001b[0;32m      2\u001b[0m     \u001b[1;32mdef\u001b[0m \u001b[0m__init__\u001b[0m\u001b[1;33m(\u001b[0m\u001b[0mself\u001b[0m\u001b[1;33m)\u001b[0m\u001b[1;33m:\u001b[0m\u001b[1;33m\u001b[0m\u001b[1;33m\u001b[0m\u001b[0m\n\u001b[0;32m      3\u001b[0m         \u001b[0mself\u001b[0m\u001b[1;33m.\u001b[0m\u001b[0mliste\u001b[0m\u001b[1;33m=\u001b[0m\u001b[1;33m[\u001b[0m\u001b[1;33m]\u001b[0m\u001b[1;33m\u001b[0m\u001b[1;33m\u001b[0m\u001b[0m\n\u001b[0;32m      4\u001b[0m         \u001b[0mself\u001b[0m\u001b[1;33m.\u001b[0m\u001b[0mvowels\u001b[0m\u001b[1;33m=\u001b[0m\u001b[1;33m[\u001b[0m\u001b[1;34m\"a\"\u001b[0m\u001b[1;33m,\u001b[0m\u001b[1;34m\"e\"\u001b[0m\u001b[1;33m,\u001b[0m\u001b[1;34m\"i\"\u001b[0m\u001b[1;33m,\u001b[0m\u001b[1;34m\"o\"\u001b[0m\u001b[1;33m,\u001b[0m\u001b[1;34m\"u\"\u001b[0m\u001b[1;33m]\u001b[0m\u001b[1;33m\u001b[0m\u001b[1;33m\u001b[0m\u001b[0m\n\u001b[0;32m      5\u001b[0m     \u001b[1;32mdef\u001b[0m \u001b[0m__countvowel\u001b[0m\u001b[1;33m(\u001b[0m\u001b[0mself\u001b[0m\u001b[1;33m,\u001b[0m\u001b[0mquery\u001b[0m\u001b[1;33m,\u001b[0m\u001b[0mwords\u001b[0m\u001b[1;33m)\u001b[0m\u001b[1;33m:\u001b[0m\u001b[1;33m\u001b[0m\u001b[1;33m\u001b[0m\u001b[0m\n",
      "\u001b[1;32m~\\AppData\\Local\\Temp/ipykernel_12636/793645159.py\u001b[0m in \u001b[0;36mSolution\u001b[1;34m()\u001b[0m\n\u001b[0;32m     12\u001b[0m                 \u001b[0mcounter\u001b[0m\u001b[1;33m+=\u001b[0m\u001b[1;36m1\u001b[0m\u001b[1;33m\u001b[0m\u001b[1;33m\u001b[0m\u001b[0m\n\u001b[0;32m     13\u001b[0m         \u001b[1;32mreturn\u001b[0m \u001b[0mcounter\u001b[0m\u001b[1;33m\u001b[0m\u001b[1;33m\u001b[0m\u001b[0m\n\u001b[1;32m---> 14\u001b[1;33m     \u001b[1;32mdef\u001b[0m \u001b[0mvowelStrings\u001b[0m\u001b[1;33m(\u001b[0m\u001b[0mself\u001b[0m\u001b[1;33m,\u001b[0m \u001b[0mwords\u001b[0m\u001b[1;33m:\u001b[0m \u001b[0mList\u001b[0m\u001b[1;33m[\u001b[0m\u001b[0mstr\u001b[0m\u001b[1;33m]\u001b[0m\u001b[1;33m,\u001b[0m \u001b[0mqueries\u001b[0m\u001b[1;33m:\u001b[0m \u001b[0mList\u001b[0m\u001b[1;33m[\u001b[0m\u001b[0mList\u001b[0m\u001b[1;33m[\u001b[0m\u001b[0mint\u001b[0m\u001b[1;33m]\u001b[0m\u001b[1;33m]\u001b[0m\u001b[1;33m)\u001b[0m \u001b[1;33m->\u001b[0m \u001b[0mList\u001b[0m\u001b[1;33m[\u001b[0m\u001b[0mint\u001b[0m\u001b[1;33m]\u001b[0m\u001b[1;33m:\u001b[0m\u001b[1;33m\u001b[0m\u001b[1;33m\u001b[0m\u001b[0m\n\u001b[0m\u001b[0;32m     15\u001b[0m         \u001b[1;32mfor\u001b[0m \u001b[0mi\u001b[0m \u001b[1;32min\u001b[0m \u001b[0mqueries\u001b[0m\u001b[1;33m:\u001b[0m\u001b[1;33m\u001b[0m\u001b[1;33m\u001b[0m\u001b[0m\n\u001b[0;32m     16\u001b[0m             \u001b[0mcounter\u001b[0m\u001b[1;33m=\u001b[0m\u001b[0mself\u001b[0m\u001b[1;33m.\u001b[0m\u001b[0m__countvowel\u001b[0m\u001b[1;33m(\u001b[0m\u001b[0mi\u001b[0m\u001b[1;33m,\u001b[0m\u001b[0mwords\u001b[0m\u001b[1;33m)\u001b[0m\u001b[1;33m\u001b[0m\u001b[1;33m\u001b[0m\u001b[0m\n",
      "\u001b[1;31mNameError\u001b[0m: name 'List' is not defined"
     ]
    }
   ],
   "source": [
    "class Solution:\n",
    "    def __init__(self):\n",
    "        self.liste=[]\n",
    "        self.vowels=[\"a\",\"e\",\"i\",\"o\",\"u\"]\n",
    "    def __countvowel(self,query,words):\n",
    "        counter=0\n",
    "        for i in words[query[0]:query[1]]:\n",
    "            word=i\n",
    "            first_little=word[0]\n",
    "            last_little=word[-1]\n",
    "            if last_listtle==first_little and last_little in self.vowels:\n",
    "                counter+=1\n",
    "        return counter\n",
    "    def vowelStrings(self, words: List[str], queries: List[List[int]]) -> List[int]: \n",
    "        for i in queries:\n",
    "            counter=self.__countvowel(i,words)\n",
    "            if counter !=0:\n",
    "                self.liste.append()\n",
    "        return self.liste"
   ]
  },
  {
   "cell_type": "code",
   "execution_count": 11,
   "id": "b5248c48",
   "metadata": {},
   "outputs": [
    {
     "name": "stdout",
     "output_type": "stream",
     "text": [
      "['bcb', 'ece', 'aa']\n"
     ]
    }
   ],
   "source": [
    "words = [\"aba\",\"bcb\",\"ece\",\"aa\",\"e\"]\n",
    "print(words[1:4])\n"
   ]
  },
  {
   "cell_type": "code",
   "execution_count": 13,
   "id": "ce53962e",
   "metadata": {},
   "outputs": [
    {
     "name": "stdout",
     "output_type": "stream",
     "text": [
      "['ukorsxjfkdojcxgjxgmxbghno', 'ugeqzndjtogxjkmhkkczdpqzwcu']\n"
     ]
    }
   ],
   "source": [
    "words=[\"b\",\"rmivyakd\",\"kddwnexxssssnvrske\",\"vceguisunlxtldqenxiyfupvnsxdubcnaucpoi\",\"nzwdiataxfkbikbtsjvcbjxtr\",\"wlelgybcaakrxiutsmwnkuyanvcjczenuyaiy\",\"eueryyiayq\",\"bghegfwmwdoayakuzavnaucpur\",\"ukorsxjfkdojcxgjxgmxbghno\",\"pmgbiuzcwbsakwkyspeikpzhnyiqtqtfyephqhl\",\"gsjdpelkbsruooeffnvjwtsidzw\",\"ugeqzndjtogxjkmhkkczdpqzwcu\",\"ppngtecadjsirj\",\"rvfeoxunxaqezkrlr\",\"adkxoxycpinlmcvmq\",\"gfjhpxlzmokcmvhjcrbrpfakspscmju\",\"rgmzhaj\",\"ychktzwdhfuruhpvdjwfsqjhztshcxdey\",\"yifrzmmyzvfk\",\"mircixfzzobcficujgbj\",\"d\",\"pxcmwnqknyfkmafzbyajjildngccadudfziknos\",\"dxmlikjoivggmyasaktllgmfhqpyznc\",\"yqdbiiqexkemebyuitve\"]\n",
    "liste=[]\n",
    "vowels=[\"a\",\"e\",\"i\",\"o\",\"u\"]\n",
    "for i in words[5:22]:\n",
    "    word=i\n",
    "    if word[-1] in vowels and word[0] in vowels:\n",
    "        liste.append(word)\n",
    "print(liste)"
   ]
  },
  {
   "cell_type": "code",
   "execution_count": 1,
   "id": "adc6f13b",
   "metadata": {},
   "outputs": [
    {
     "name": "stdout",
     "output_type": "stream",
     "text": [
      "([(-1, 1), (1, -1)], [-1, 0, 1])\n"
     ]
    }
   ],
   "source": [
    "class Solution:\n",
    "    def __init__(self):\n",
    "        self.top_zero=0\n",
    "    def fourSumCount(self, nums1, nums2, nums3, nums4):\n",
    "        dic={}\n",
    "        liste=[]\n",
    "        l=[]\n",
    "        for i in range(len(nums1)):\n",
    "            for j in range(len(nums2)):\n",
    "                top=nums1[i]+nums2[j]\n",
    "                if top not in liste:\n",
    "                    liste.append(top)\n",
    "                    dic[top]=1\n",
    "                else:\n",
    "                    dic[top]+=1\n",
    "\n",
    "        for i in range(len(nums3)):\n",
    "            for j in range(len(nums4)):\n",
    "                value=nums3[i]+nums4[j]\n",
    "                if value>0:\n",
    "                    inverse_value=-abs(value)\n",
    "                if value<0:\n",
    "                    inverse_value=abs(value)\n",
    "                elif value==0:\n",
    "                    inverse_value=0\n",
    "                if inverse_value in liste:\n",
    "                    l.append((value,inverse_value))\n",
    "                    self.top_zero+=dic[inverse_value]\n",
    "        return l,liste\n",
    "nums1 = [1,2]\n",
    "nums2 = [-2,-1]\n",
    "nums3 = [-1,2]\n",
    "nums4 = [0,2]\n",
    "s=Solution()\n",
    "ans=s.fourSumCount(nums1,nums2,nums3,nums4)\n",
    "print(ans)"
   ]
  },
  {
   "cell_type": "code",
   "execution_count": 41,
   "id": "68523ab4",
   "metadata": {},
   "outputs": [
    {
     "name": "stdout",
     "output_type": "stream",
     "text": [
      "2\n"
     ]
    }
   ],
   "source": [
    "def minFlips(a, b, c):\n",
    "    flips = 0\n",
    "    while a > 0 or b > 0 or c > 0:\n",
    "        bit_a = a & 1\n",
    "        bit_b = b & 1\n",
    "        bit_c = c & 1\n",
    "\n",
    "        if bit_c == 0:\n",
    "            flips += (bit_a + bit_b)  \n",
    "        else:\n",
    "            if bit_a == 0 and bit_b == 0:\n",
    "                flips += 1  \n",
    "\n",
    "        a >>= 1\n",
    "        b >>= 1\n",
    "        c >>= 1\n",
    "\n",
    "    return flips\n",
    "ans=minFlips(13,1,7)\n",
    "print(ans)"
   ]
  },
  {
   "cell_type": "code",
   "execution_count": 42,
   "id": "22b24277",
   "metadata": {},
   "outputs": [
    {
     "name": "stdout",
     "output_type": "stream",
     "text": [
      "2\n"
     ]
    }
   ],
   "source": [
    "def minFlips(a, b, c):\n",
    "    count=0\n",
    "    while a!=0 or b!=0 or c!=0:\n",
    "        a,kalan_a=divmod(a,2)\n",
    "        b,kalan_b=divmod(b,2)\n",
    "        c,kalan_c=divmod(c,2)\n",
    "        if kalan_a==kalan_c and kalan_b==kalan_c:\n",
    "            pass\n",
    "        elif (kalan_a==kalan_c or kalan_b==kalan_c) and kalan_c==0:\n",
    "            count+=1\n",
    "        elif kalan_a!=kalan_c and kalan_b!=kalan_c and kalan_a==1:\n",
    "            count+=2\n",
    "        elif kalan_a!=kalan_c and kalan_b!=kalan_c and kalan_a==0:\n",
    "            count+=1\n",
    "\n",
    "    return count\n",
    "ans=minFlips(12,1,7)\n",
    "print(ans)"
   ]
  },
  {
   "cell_type": "code",
   "execution_count": 26,
   "id": "bae1fa98",
   "metadata": {},
   "outputs": [
    {
     "name": "stdout",
     "output_type": "stream",
     "text": [
      "kddsbncd\n"
     ]
    }
   ],
   "source": [
    "def converting(s,i,j):\n",
    "    new_s=[]\n",
    "    for a in range(i+1,j):\n",
    "        new_s.append(chr(ord(s[a])-1))\n",
    "    if len(s)==j-i-1:\n",
    "        return \"\".join(new_s)\n",
    "    elif i==-1:\n",
    "        return \"\".join(new_s)+\"a\"+s[j+1:]\n",
    "    elif j==len(s):\n",
    "        return s[:i]+\"a\"+\"\".join(new_s)\n",
    "    else:\n",
    "        return s[:i]+\"a\"+\"\".join(new_s)+\"a\"+s[j+1:]\n",
    "def smallestString(s):\n",
    "    i,j=None,None\n",
    "    liste=[]\n",
    "    length=len(s)\n",
    "    for a in range(length):\n",
    "        if s[a]==\"a\":\n",
    "            if i==None:\n",
    "                i=a\n",
    "                liste.append((i,-1,i))\n",
    "            elif j==None:\n",
    "                j=a\n",
    "                liste.append((j-i-1,i,j))\n",
    "            else:\n",
    "                i=j\n",
    "                j=a\n",
    "                liste.append((j-i-1,i,j))\n",
    "\n",
    "        if a==length-1 and s[a]!=\"a\" and i!=None:\n",
    "            liste.append((a-i-1,i,len(s)))\n",
    "    \n",
    "    liste.sort()\n",
    "    if not liste:\n",
    "        return converting(s,-1,length)\n",
    "    else:\n",
    "        k=liste[-1]\n",
    "        print(k)\n",
    "        return converting(s,k[1],k[2])\n",
    "    \n",
    "print(smallestString(\"leetcode\"))            "
   ]
  },
  {
   "cell_type": "code",
   "execution_count": 3,
   "id": "90119653",
   "metadata": {},
   "outputs": [
    {
     "name": "stdout",
     "output_type": "stream",
     "text": [
      "4\n",
      "*..*\n",
      "..*.\n",
      "*..*\n",
      "*..*\n"
     ]
    },
    {
     "data": {
      "text/plain": [
       "66"
      ]
     },
     "execution_count": 3,
     "metadata": {},
     "output_type": "execute_result"
    }
   ],
   "source": [
    "class Game:\n",
    "    def __init__(self,n):\n",
    "        self.size=n\n",
    "        self.grid=self.rectangular_grid(n)\n",
    "        self.s=self.separation(self.grid)\n",
    "        self.fireworks=self.s[0]\n",
    "        self.empties=self.s[1]\n",
    "        self.count=0\n",
    "        self.liste=[]\n",
    "    def rectangular_grid(self,n):\n",
    "        mat=[]\n",
    "        for i in range(n):\n",
    "            line=\" \".join(input())\n",
    "            line=line.split()\n",
    "            mat.append(line)\n",
    "        return mat\n",
    "    def separation(self,grid):\n",
    "        fireworks=[]\n",
    "        empties=[]\n",
    "        for i in range(self.size):\n",
    "            for j in range(self.size):\n",
    "                if grid[i][j]==\".\":\n",
    "                    empties.append((i,j))\n",
    "                else:\n",
    "                    fireworks.append((i,j))\n",
    "        return fireworks,empties\n",
    "    def connection(self,point):\n",
    "        i,j=point[0],point[1]\n",
    "        if point in self.empties:\n",
    "            if point not in self.liste:\n",
    "                self.liste.append(point)\n",
    "                self.connection((i-1,j))\n",
    "                self.connection((i,j-1))\n",
    "                self.connection((i,j+1))\n",
    "                self.connection((i+1,j))\n",
    "        else:\n",
    "            return \n",
    "        \n",
    "    def destruction(self):\n",
    "        for point in self.fireworks:\n",
    "            self.count+=1\n",
    "            i,j=point[0],point[1]           \n",
    "            self.connection((i-1,j))\n",
    "            self.connection((i,j-1))\n",
    "            self.connection((i,j+1))\n",
    "            self.connection((i+1,j))\n",
    "            self.count+=len(self.liste)\n",
    "            self.liste.clear()\n",
    "        return self.count\n",
    "size=int(input())\n",
    "game=Game(size)\n",
    "count=game.destruction()\n",
    "count"
   ]
  },
  {
   "cell_type": "code",
   "execution_count": 2,
   "id": "6d4ce73d",
   "metadata": {},
   "outputs": [
    {
     "name": "stdout",
     "output_type": "stream",
     "text": [
      "4\n",
      "*..*\n",
      "..*.\n",
      "*..*\n",
      "*..*\n",
      "66\n"
     ]
    }
   ],
   "source": [
    "def rectangular_grid(n):\n",
    "    mat = []\n",
    "    for i in range(n):\n",
    "        line = \" \".join(input())\n",
    "        line = line.split()\n",
    "        mat.append(line)\n",
    "    return mat\n",
    "\n",
    "def separation(grid, size):\n",
    "    fireworks = []\n",
    "    empties = set()\n",
    "    for i in range(size):\n",
    "        for j in range(size):\n",
    "            if grid[i][j] == \".\":\n",
    "                empties.add((i, j))\n",
    "            else:\n",
    "                fireworks.append((i, j))\n",
    "    return fireworks, empties\n",
    "\n",
    "def connection(point, empties, connected,n):\n",
    "    i, j = point[0], point[1]\n",
    "    \n",
    "    if i < 0 or i >=n or j < 0 or j >= n or grid[i][j] != \".\":\n",
    "        return  \n",
    "    if point in empties:\n",
    "        if point not in connected:\n",
    "            connected.add(point)\n",
    "            connection((i-1, j), empties, connected,n)\n",
    "            connection((i, j-1), empties, connected,n)\n",
    "            connection((i, j+1), empties, connected,n)\n",
    "            connection((i+1, j), empties, connected,n)\n",
    "    else:\n",
    "        return\n",
    "\n",
    "def destruction(fireworks, empties, size):\n",
    "    count = 0\n",
    "    for point in fireworks:\n",
    "        count += 1\n",
    "        connected = set()\n",
    "        i, j = point[0], point[1]\n",
    "        connection((i-1, j), empties, connected,size)\n",
    "        connection((i, j-1), empties, connected,size)\n",
    "        connection((i, j+1), empties, connected,size)\n",
    "        connection((i+1, j), empties, connected,size)\n",
    "        count += len(connected)\n",
    "    return count\n",
    "\n",
    "size = int(input())\n",
    "grid = rectangular_grid(size)\n",
    "fireworks, empties = separation(grid, size)\n",
    "count = destruction(fireworks, empties, size)\n",
    "print(count)"
   ]
  },
  {
   "cell_type": "code",
   "execution_count": 1,
   "id": "e61c4518",
   "metadata": {},
   "outputs": [
    {
     "data": {
      "text/plain": [
       "2"
      ]
     },
     "execution_count": 1,
     "metadata": {},
     "output_type": "execute_result"
    }
   ],
   "source": [
    "def findMaxLength(nums):\n",
    "    totalsum,hashmap=0,{0:-1}\n",
    "    res,diff=0,0\n",
    "    for i in range(len(nums)):\n",
    "        if(nums[i]==0):\n",
    "            totalsum-=1\n",
    "        else:\n",
    "            totalsum+=1\n",
    "        try:\n",
    "            diff=i-hashmap[totalsum]\n",
    "            if(diff>res):\n",
    "                res=diff\n",
    "        except:\n",
    "            hashmap[totalsum]=i\n",
    "    return res\n",
    "liste=[0,0,1]\n",
    "findMaxLength(liste)"
   ]
  },
  {
   "cell_type": "code",
   "execution_count": 2,
   "id": "204807a8",
   "metadata": {},
   "outputs": [
    {
     "data": {
      "text/plain": [
       "'no'"
      ]
     },
     "execution_count": 2,
     "metadata": {},
     "output_type": "execute_result"
    }
   ],
   "source": [
    "s=\"nour\"\n",
    "s=s[:-2]\n",
    "s"
   ]
  },
  {
   "cell_type": "code",
   "execution_count": 10,
   "id": "a46c6d08",
   "metadata": {},
   "outputs": [
    {
     "name": "stdout",
     "output_type": "stream",
     "text": [
      "['1', '2']\n",
      "['2', '1']\n",
      "['3', '4']\n",
      "['5', '6']\n"
     ]
    }
   ],
   "source": [
    "from collections import defaultdict\n",
    "def numEquivDominoPairs(dominoes):\n",
    "    dic=defaultdict(int) \n",
    "    counter=0\n",
    "    for i in dominoes:\n",
    "        str_i=list(map(str,i))\n",
    "        print(str_i)\n",
    "\n",
    "dominoes = [[1,2],[2,1],[3,4],[5,6]]\n",
    "numEquivDominoPairs(dominoes)"
   ]
  },
  {
   "cell_type": "code",
   "execution_count": null,
   "id": "0f9f2679",
   "metadata": {},
   "outputs": [],
   "source": []
  },
  {
   "cell_type": "code",
   "execution_count": null,
   "id": "32110e7a",
   "metadata": {},
   "outputs": [],
   "source": []
  }
 ],
 "metadata": {
  "kernelspec": {
   "display_name": "Python 3 (ipykernel)",
   "language": "python",
   "name": "python3"
  },
  "language_info": {
   "codemirror_mode": {
    "name": "ipython",
    "version": 3
   },
   "file_extension": ".py",
   "mimetype": "text/x-python",
   "name": "python",
   "nbconvert_exporter": "python",
   "pygments_lexer": "ipython3",
   "version": "3.9.7"
  }
 },
 "nbformat": 4,
 "nbformat_minor": 5
}
