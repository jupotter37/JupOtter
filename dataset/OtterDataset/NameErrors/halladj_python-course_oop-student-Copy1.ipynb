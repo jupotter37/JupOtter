{
 "cells": [
  {
   "cell_type": "markdown",
   "id": "d46795a4-f928-4154-8102-b3fa3b559ca2",
   "metadata": {},
   "source": [
    "# Basic Syntax:"
   ]
  },
  {
   "cell_type": "code",
   "execution_count": 6,
   "id": "cd32ff86-5316-42b7-bddc-652ee95b5bc6",
   "metadata": {},
   "outputs": [],
   "source": [
    "class st_footballers:\n",
    "  def __init__(self,kane,bayern_munchen):\n",
    "      self.name = kane\n",
    "      self.team = bayern_munchen\n",
    "  def afficherinto(self):\n",
    "      print(f'player:{self.name} {self.team}')\n",
    "      \n",
    "      "
   ]
  },
  {
   "cell_type": "code",
   "execution_count": 8,
   "id": "6c76a9bf-b814-4187-b5ed-36ddc5eb3012",
   "metadata": {},
   "outputs": [
    {
     "name": "stdout",
     "output_type": "stream",
     "text": [
      "player:kane bayern_munchen\n"
     ]
    }
   ],
   "source": [
    "o1 = st_footballers(\"kane\",\"bayern_munchen\")\n",
    "o1.afficherinto()\n"
   ]
  },
  {
   "cell_type": "markdown",
   "id": "20970942-1bf9-470a-8f47-d1f5cc83f955",
   "metadata": {},
   "source": [
    "### attributes"
   ]
  },
  {
   "cell_type": "code",
   "execution_count": null,
   "id": "20f515df-8ba9-4df3-9e93-364e783ff37e",
   "metadata": {},
   "outputs": [],
   "source": []
  },
  {
   "cell_type": "code",
   "execution_count": null,
   "id": "16bd085f-dd96-4530-ab64-578222a2490c",
   "metadata": {},
   "outputs": [],
   "source": []
  },
  {
   "cell_type": "code",
   "execution_count": 1,
   "id": "9dbd0a97-1cef-4b67-97b7-ab1a4159b944",
   "metadata": {},
   "outputs": [],
   "source": [
    "## Create an attribute named age and print it.\n"
   ]
  },
  {
   "cell_type": "code",
   "execution_count": null,
   "id": "43c0df2c-41c5-4989-9b7d-422bd250b90d",
   "metadata": {},
   "outputs": [],
   "source": []
  },
  {
   "cell_type": "markdown",
   "id": "884b7ad0-17eb-4606-8705-3a963ea55320",
   "metadata": {},
   "source": [
    "### functions (methods):"
   ]
  },
  {
   "cell_type": "code",
   "execution_count": null,
   "id": "53bc4257-5ec8-46da-a52f-10d755f81783",
   "metadata": {},
   "outputs": [],
   "source": []
  },
  {
   "cell_type": "code",
   "execution_count": null,
   "id": "dc991cd2-5daa-4729-9717-71b94dee0c4d",
   "metadata": {},
   "outputs": [],
   "source": []
  },
  {
   "cell_type": "code",
   "execution_count": null,
   "id": "e120ef5b-de57-4d15-b994-3d267d367885",
   "metadata": {},
   "outputs": [],
   "source": []
  },
  {
   "cell_type": "code",
   "execution_count": null,
   "id": "4840aad4-bbe6-4648-a80b-39e0c04ace0c",
   "metadata": {},
   "outputs": [],
   "source": []
  },
  {
   "cell_type": "markdown",
   "id": "a92e499e-99c2-47e4-993e-150748e7ac03",
   "metadata": {},
   "source": [
    "## Constructor:"
   ]
  },
  {
   "cell_type": "code",
   "execution_count": null,
   "id": "0345a5a0-e2f7-4d3c-b0df-ae361fbee9b2",
   "metadata": {},
   "outputs": [],
   "source": []
  },
  {
   "cell_type": "code",
   "execution_count": null,
   "id": "badd7bd3-b63f-441c-aed2-be01b40056ee",
   "metadata": {},
   "outputs": [],
   "source": []
  },
  {
   "cell_type": "code",
   "execution_count": null,
   "id": "fd2ace0e-db1e-4e7a-8e9c-66eadaf97854",
   "metadata": {},
   "outputs": [],
   "source": []
  },
  {
   "cell_type": "code",
   "execution_count": null,
   "id": "0022592f-6b99-49d4-b254-1e0fafe71a12",
   "metadata": {},
   "outputs": [],
   "source": []
  },
  {
   "cell_type": "code",
   "execution_count": null,
   "id": "888caa3c-a757-4e02-9f78-c92b866bc375",
   "metadata": {},
   "outputs": [],
   "source": []
  },
  {
   "cell_type": "markdown",
   "id": "cce10152-a120-4ef1-ade9-589a1d41b04c",
   "metadata": {},
   "source": [
    "## Methods:"
   ]
  },
  {
   "cell_type": "code",
   "execution_count": null,
   "id": "b3be7226-eafb-41c5-91ec-90b05899e994",
   "metadata": {},
   "outputs": [],
   "source": []
  },
  {
   "cell_type": "code",
   "execution_count": null,
   "id": "5c20d848-aa4d-44da-8f3d-06b91b9ba3c3",
   "metadata": {},
   "outputs": [],
   "source": []
  },
  {
   "cell_type": "code",
   "execution_count": null,
   "id": "9f037682-9c30-4f50-b634-8d75a1b2e1e4",
   "metadata": {},
   "outputs": [],
   "source": []
  },
  {
   "cell_type": "code",
   "execution_count": null,
   "id": "92e5ecc8-988f-427f-9a44-a7f0a1f994bd",
   "metadata": {},
   "outputs": [],
   "source": []
  },
  {
   "cell_type": "markdown",
   "id": "06ba5942-8cf5-4cbb-b55d-32ab1bf2997a",
   "metadata": {},
   "source": [
    "## Exercice-1\n",
    "\n",
    "* Create a Dog class with attributes name and age, and a bark method that displays \"Woof!\". Create an object of this class and call its bark method.\n",
    "\n",
    "\n",
    "* Créez une classe Chien avec des attributs nom et âge, et une méthode aboyer qui affiche \"Woof!\". Créez un objet de cette classe et appelez sa méthode aboyer.\n"
   ]
  },
  {
   "cell_type": "code",
   "execution_count": null,
   "id": "9cf2da8b-0d1d-4eca-952c-1daae25e1812",
   "metadata": {},
   "outputs": [],
   "source": []
  },
  {
   "cell_type": "code",
   "execution_count": null,
   "id": "aea0dd7f-17e7-4790-847e-ca2fc7f8ee3a",
   "metadata": {},
   "outputs": [],
   "source": []
  },
  {
   "cell_type": "code",
   "execution_count": null,
   "id": "b1341c2b-a1cf-4060-80c4-56842fb88211",
   "metadata": {},
   "outputs": [],
   "source": []
  },
  {
   "cell_type": "markdown",
   "id": "c03a90cd-28c2-4ef6-81a0-4d669493f189",
   "metadata": {},
   "source": [
    "# Inheritance"
   ]
  },
  {
   "cell_type": "code",
   "execution_count": 169,
   "id": "5350bb72-0c0c-47b3-a740-1f0f33f16153",
   "metadata": {},
   "outputs": [],
   "source": [
    "class human:\n",
    "    def __init__(self,name,age):\n",
    "        self.name = name\n",
    "        self.age = age\n",
    "    def print_info(self):\n",
    "        print(f\"my name is {self.name}, and my age is {self.age}\")\n",
    "    "
   ]
  },
  {
   "cell_type": "code",
   "execution_count": 170,
   "id": "d8af71bd-e71e-4adf-b6ec-a36dd512f0f6",
   "metadata": {},
   "outputs": [],
   "source": [
    "o = human(\"hamza\",99)"
   ]
  },
  {
   "cell_type": "code",
   "execution_count": 184,
   "id": "00e13e25-b1f3-40c9-a7d9-138f13e2efc8",
   "metadata": {},
   "outputs": [],
   "source": [
    "class student(human):\n",
    "    def __init__(self,name,age,grade):\n",
    "        self.name = name\n",
    "        self.age = age\n",
    "        self.grade = grade\n",
    "    def print_info(self):    \n",
    "        print(f\"my name is {self.name}, and my age is {self.age}, and iam in grade {self.grade}\")\n",
    "   "
   ]
  },
  {
   "cell_type": "code",
   "execution_count": 185,
   "id": "dc5bdf57-dbcc-4288-afca-8338b5971a7e",
   "metadata": {},
   "outputs": [
    {
     "name": "stdout",
     "output_type": "stream",
     "text": [
      "my name is hamza, and my age is 99, and iam in grade first_grade\n"
     ]
    }
   ],
   "source": [
    "s = student(\"hamza\",99,\"first_grade\")\n",
    "s.print_info()"
   ]
  },
  {
   "cell_type": "markdown",
   "id": "f22d925d-eb91-48ad-8d9e-89f064b288ff",
   "metadata": {},
   "source": [
    "## Exercice-2"
   ]
  },
  {
   "cell_type": "code",
   "execution_count": 188,
   "id": "01b06d7e-4267-4ded-9adb-e7ea31609a08",
   "metadata": {},
   "outputs": [],
   "source": [
    "class employee(human):\n",
    "    def __init__(self,name,age,job_title):\n",
    "        super().__init__(name,age)\n",
    "        self.job_title = job_title\n",
    "    def print_info(self):    \n",
    "        print(f\"my name is {self.name}, and my age is{self.age}, and my job is{self.job_title}\")"
   ]
  },
  {
   "cell_type": "code",
   "execution_count": null,
   "id": "87f061d7-79a1-4a34-99ed-72eb2ede9e9c",
   "metadata": {},
   "outputs": [],
   "source": []
  },
  {
   "cell_type": "markdown",
   "id": "110c92cd-4486-4ab9-ad22-1b5f35559a42",
   "metadata": {},
   "source": [
    "* Create an Animal class with a name attribute and a speak method. Create a Cat class that inherits from Animal and implements the speak method to display \"Meow\". Create an object of the Cat class and call its speak method.\n",
    "\n",
    "* Créez une classe Animal avec un attribut nom et une méthode parler. Créez une classe Chat qui hérite de Animal et implémente la méthode parler pour afficher \"Miaou\". Créez un objet de la classe Chat et appelez sa méthode parler.\n"
   ]
  },
  {
   "cell_type": "code",
   "execution_count": 190,
   "id": "30089748-03d6-49f6-a6d6-39426bb6f366",
   "metadata": {},
   "outputs": [],
   "source": [
    "class animals:\n",
    "    def __init__(self,name,speak_method):\n",
    "        self.name = name\n",
    "        self.speak_method = speak_method\n",
    "    def print_info(self):\n",
    "        print(f\"the name is{self.name}, and its says{self.speak_method}\")"
   ]
  },
  {
   "cell_type": "code",
   "execution_count": 204,
   "id": "3d5aa008-c788-4e6b-a326-9f07ad72931e",
   "metadata": {},
   "outputs": [],
   "source": [
    "class cat(animals):\n",
    "    def __init__(self,name,speak_method):\n",
    "        super().__init__(name,speak_method)\n",
    "    def print_info(self):\n",
    "         print(f\"the name is {self.name}, and its says {self.speak_method}\")"
   ]
  },
  {
   "cell_type": "code",
   "execution_count": 205,
   "id": "cd098cbc-dedd-4534-bc08-806fbb25f238",
   "metadata": {},
   "outputs": [
    {
     "name": "stdout",
     "output_type": "stream",
     "text": [
      "the name is minou, and its says meow\n"
     ]
    }
   ],
   "source": [
    "c = cat(\"minou\",\"meow\")\n",
    "c.print_info()"
   ]
  },
  {
   "cell_type": "code",
   "execution_count": 206,
   "id": "4675df99-de07-45cb-9ab7-2c62aaa6ee8d",
   "metadata": {},
   "outputs": [],
   "source": [
    "class dog(animals):\n",
    "    def __init__(self,name,speak_method):\n",
    "        super().__init__(name,speak_method)\n",
    "    def print_info(self):\n",
    "         print(f\"the name is {self.name}, and its says {self.speak_method}\")"
   ]
  },
  {
   "cell_type": "code",
   "execution_count": 207,
   "id": "92b535cb-ca06-4002-a372-461752723c66",
   "metadata": {},
   "outputs": [
    {
     "name": "stdout",
     "output_type": "stream",
     "text": [
      "the name is max, and its says rwoof\n"
     ]
    }
   ],
   "source": [
    "d = dog(\"max\",\"rwoof\")\n",
    "d.print_info()"
   ]
  },
  {
   "cell_type": "markdown",
   "id": "3a62ea5d-360f-44a9-81f2-02b93bb5a6ca",
   "metadata": {},
   "source": [
    "# Lets build:"
   ]
  },
  {
   "cell_type": "markdown",
   "id": "4426def1-67a5-4f0d-bea1-c4a0f4b789a5",
   "metadata": {},
   "source": [
    "### 1. create a class named, special_list"
   ]
  },
  {
   "cell_type": "code",
   "execution_count": null,
   "id": "24d88fd1-8238-429a-86eb-d46757c12804",
   "metadata": {},
   "outputs": [],
   "source": []
  },
  {
   "cell_type": "markdown",
   "id": "483202fb-8cf9-4174-b60d-b0edaef8f544",
   "metadata": {},
   "source": [
    "### 2. added a propriety named my_list "
   ]
  },
  {
   "cell_type": "code",
   "execution_count": null,
   "id": "66291bf3-bdf8-4c2d-abb2-a48191e2fc06",
   "metadata": {},
   "outputs": [],
   "source": []
  },
  {
   "cell_type": "markdown",
   "id": "1e9dfe22-019e-4ff8-81eb-bce9e2c8769f",
   "metadata": {},
   "source": [
    "### 3. create a method named max() "
   ]
  },
  {
   "cell_type": "code",
   "execution_count": 12,
   "id": "9a0e6af5-4d7b-4037-8c4f-350a0fef1151",
   "metadata": {},
   "outputs": [],
   "source": [
    "class special_list:\n",
    "    def __init__(self):\n",
    "        self.list=[]\n",
    "    def max(max):\n",
    "        if len(self.list) <=0:\n",
    "            return none\n",
    "        max = self.list[0]\n",
    "        for i in range(1,len(self.list)):\n",
    "            if self.list[i] > max:\n",
    "                max = self.list[i]\n",
    "        return max"
   ]
  },
  {
   "cell_type": "markdown",
   "id": "31052f8b-8bf6-42cc-bad1-967a80637c04",
   "metadata": {},
   "source": [
    "### 4. create a method named append() "
   ]
  },
  {
   "cell_type": "code",
   "execution_count": null,
   "id": "82eada04-c261-4639-8561-71bfab38cd10",
   "metadata": {},
   "outputs": [],
   "source": []
  },
  {
   "cell_type": "code",
   "execution_count": 49,
   "id": "6efb381c-b7b0-41fb-9174-0acb16eee4c2",
   "metadata": {},
   "outputs": [],
   "source": [
    "class special_list:\n",
    "    def __init__(self):\n",
    "        self.list=[]\n",
    "    def max(max):\n",
    "        if len(self.list) <=0:\n",
    "            return none\n",
    "        max = self.list[0]\n",
    "        for i in range(1,len(self.list)):\n",
    "            if self.list[i] > max:\n",
    "                max = self.list[i]\n",
    "        return max\n",
    "    def append(self,element):\n",
    "        self.list.append(element)\n",
    "    def print(self):\n",
    "        print(self.list)\n",
    "  "
   ]
  },
  {
   "cell_type": "code",
   "execution_count": 50,
   "id": "59eb30bd-69f8-49a9-8551-ff79c6548727",
   "metadata": {},
   "outputs": [
    {
     "name": "stdout",
     "output_type": "stream",
     "text": [
      "[1, 2, 3]\n"
     ]
    }
   ],
   "source": [
    "o = special_list()\n",
    "o.append(1)\n",
    "o.append(2)\n",
    "o.append(3)\n",
    "o.print()"
   ]
  },
  {
   "cell_type": "code",
   "execution_count": 60,
   "id": "33b88e0e-def6-4f67-9f88-d6fecf93b4fa",
   "metadata": {},
   "outputs": [],
   "source": [
    "class special_list:\n",
    "    def __init__(self):\n",
    "        self.list=[]\n",
    "    def max(max):\n",
    "        if len(self.list) <=0:\n",
    "            return none\n",
    "        max = self.list[0]\n",
    "        for i in range(1,len(self.list)):\n",
    "            if self.list[i] > max:\n",
    "                max = self.list[i]\n",
    "        return max\n",
    "    def append(self,element):\n",
    "        self.list.append(element)\n",
    "    def print(self):\n",
    "        print(self.list)\n",
    "    def concat(self,list):\n",
    "        for i in list:\n",
    "            self.append(i)\n",
    "  "
   ]
  },
  {
   "cell_type": "code",
   "execution_count": 61,
   "id": "bbf72f2c-1b5e-4757-9e24-50188d80c389",
   "metadata": {},
   "outputs": [
    {
     "name": "stdout",
     "output_type": "stream",
     "text": [
      "[1, 2, 3, 4, 5, 6, 7]\n"
     ]
    }
   ],
   "source": [
    "o = special_list()\n",
    "o.concat([1,2,3,4,5,6,7])\n",
    "o.print()"
   ]
  },
  {
   "cell_type": "markdown",
   "id": "8e09ac37-a3f4-43c9-8bb4-fed384e541dd",
   "metadata": {},
   "source": [
    "### 4. create a method named min() "
   ]
  },
  {
   "cell_type": "code",
   "execution_count": 66,
   "id": "d5b395ee-8e45-46c3-ad6d-88c6f00705d5",
   "metadata": {},
   "outputs": [],
   "source": [
    "class special_list:\n",
    "    def __init__(self):\n",
    "        self.list=[]\n",
    "    def max(max):\n",
    "        if len(self.list) <=0:\n",
    "            return none\n",
    "        max = self.list[0]\n",
    "        for i in range(1,len(self.list)):\n",
    "            if self.list[i] > max:\n",
    "                max = self.list[i]\n",
    "        return max\n",
    "    def append(self,element):\n",
    "        self.list.append(element)\n",
    "    def concat(self,list):\n",
    "        for i in list:\n",
    "            self.append(i)\n",
    "    def print(self):\n",
    "        print(self.list)\n",
    "    def min(self):\n",
    "        if len(self.list) <=0:\n",
    "            return None\n",
    "        min = self.list[0]\n",
    "        for i in range(len(self.list)):\n",
    "            if self.list[i] < min:\n",
    "                min = self.list[i]\n",
    "        return min\n",
    "  "
   ]
  },
  {
   "cell_type": "code",
   "execution_count": 68,
   "id": "5841fb94-adc5-4640-86cd-247f9c91f07e",
   "metadata": {},
   "outputs": [
    {
     "name": "stdout",
     "output_type": "stream",
     "text": [
      "[2, 4, 52, 0, -5, 1, 4]\n"
     ]
    }
   ],
   "source": [
    "o = special_list()\n",
    "o.concat([2,4,52,0,-5,1,4])\n",
    "o.print()"
   ]
  },
  {
   "cell_type": "markdown",
   "id": "ea033bcd-b6b9-40b8-92f0-1197a96e6a99",
   "metadata": {},
   "source": [
    "### 5. create a method named reverse() "
   ]
  },
  {
   "cell_type": "code",
   "execution_count": 91,
   "id": "3b4122e6-abc7-4850-9e82-8bcd3b4584b3",
   "metadata": {},
   "outputs": [],
   "source": [
    "class special_list:\n",
    "    def __init__(self):\n",
    "        self.list=[]\n",
    "    def max(max):\n",
    "        if len(self.list) <=0:\n",
    "            return none\n",
    "        max = self.list[0]\n",
    "        for i in range(1,len(self.list)):\n",
    "            if self.list[i] > max:\n",
    "                max = self.list[i]\n",
    "        return max\n",
    "    def append(self,element):\n",
    "        self.list.append(element)\n",
    "    def concat(self,list):\n",
    "        for i in list:\n",
    "            self.append(i)\n",
    "    def print(self):\n",
    "        print(self.list)\n",
    "    def min(self):\n",
    "        if len(self.list) <=0:\n",
    "            return None\n",
    "        min = self.list[0]\n",
    "        for i in range(len(self.list)):\n",
    "            if self.list[i] < min:\n",
    "                min = self.list[i]\n",
    "            return min \n",
    "    def reversed_list(self):\n",
    "        temp_list=[]\n",
    "        for i in range(len(self.list)-1,-1,-1):\n",
    "             temp_list.append(self.list[i])\n",
    "        return temp_list      \n",
    "            \n",
    "  "
   ]
  },
  {
   "cell_type": "code",
   "execution_count": 92,
   "id": "e7866eae-26c6-431e-9ad3-0d587e1055f1",
   "metadata": {},
   "outputs": [
    {
     "data": {
      "text/plain": [
       "[4, 1, -5, 0, 52, 4, 2]"
      ]
     },
     "execution_count": 92,
     "metadata": {},
     "output_type": "execute_result"
    }
   ],
   "source": [
    "o = special_list()\n",
    "o.concat([2,4,52,0,-5,1,4])\n",
    "o.reversed_list()"
   ]
  },
  {
   "cell_type": "code",
   "execution_count": null,
   "id": "a2ac75a3-8ecb-4350-a435-6239f38564e2",
   "metadata": {},
   "outputs": [],
   "source": []
  },
  {
   "cell_type": "markdown",
   "id": "45b4130f-f93e-48d7-8b66-389128e44d1e",
   "metadata": {},
   "source": [
    "### 6. create a method named sort_b() "
   ]
  },
  {
   "cell_type": "code",
   "execution_count": null,
   "id": "8435c169-31f2-4789-9f5a-599bcf56a9ef",
   "metadata": {},
   "outputs": [],
   "source": [
    "class special_list:\n",
    "    def __init__(self):\n",
    "        self.list=[]\n",
    "    def max(max):\n",
    "        if len(self.list) <=0:\n",
    "            return none\n",
    "        max = self.list[0]\n",
    "        for i in range(1,len(self.list)):\n",
    "            if self.list[i] > max:\n",
    "                max = self.list[i]\n",
    "        return max\n",
    "    def append(self,element):\n",
    "        self.list.append(element)\n",
    "    def concat(self,list):\n",
    "        for i in list:\n",
    "            self.append(i)\n",
    "    def print(self):\n",
    "        print(self.list)\n",
    "    def min(self):\n",
    "        if len(self.list) <=0:\n",
    "            return None\n",
    "        min = self.list[0]\n",
    "        for i in range(len(self.list)):\n",
    "            if self.list[i] < min:\n",
    "                min = self.list[i]\n",
    "            return min \n",
    "    def reversed_list(self):\n",
    "        temp_list=[]\n",
    "        for i in range(len(self.list)-1,-1,-1):\n",
    "             temp_list.append(self.list[i])\n",
    "        return temp_list \n",
    "    def remove(self,element):\n",
    "        if element not in self.list:\n",
    "            return None\n",
    "        self.list.remove(element)\n",
    "        \n",
    "            \n",
    "  "
   ]
  },
  {
   "cell_type": "code",
   "execution_count": null,
   "id": "4d5c785e-54d4-4c3b-a42a-7368b73b7709",
   "metadata": {},
   "outputs": [],
   "source": [
    "o = special_list()\n",
    "o.concat([2,4,52,0,-5,1,4])\n",
    "o.remove(4000)\n",
    "o.print()"
   ]
  },
  {
   "cell_type": "markdown",
   "id": "a7070e0a-e052-4b0b-a502-49459a7007b6",
   "metadata": {},
   "source": [
    "create get(self,i)"
   ]
  },
  {
   "cell_type": "code",
   "execution_count": 122,
   "id": "5f36199e-dde9-4e89-9e2d-4e3b7f00db22",
   "metadata": {},
   "outputs": [],
   "source": [
    "class special_list:\n",
    "    def __init__(self):\n",
    "        self.list=[]\n",
    "    def max(max):\n",
    "        if len(self.list) <=0:\n",
    "            return none\n",
    "        max = self.list[0]\n",
    "        for i in range(1,len(self.list)):\n",
    "            if self.list[i] > max:\n",
    "                max = self.list[i]\n",
    "        return max\n",
    "    def append(self,element):\n",
    "        self.list.append(element)\n",
    "    def concat(self,list):\n",
    "        for i in list:\n",
    "            self.append(i)\n",
    "    def print(self):\n",
    "        print(self.list)\n",
    "    def min(self):\n",
    "        if len(self.list) <=0:\n",
    "            return None\n",
    "        min = self.list[0]\n",
    "        for i in range(len(self.list)):\n",
    "            if self.list[i] < min:\n",
    "                min = self.list[i]\n",
    "            return min \n",
    "    def reversed_list(self):\n",
    "        temp_list=[]\n",
    "        for i in range(len(self.list)-1,-1,-1):\n",
    "             temp_list.append(self.list[i])\n",
    "        return temp_list \n",
    "    def get(self,i):\n",
    "        for i in range(len(self.list)):\n",
    "            if i >=len(self.list):\n",
    "                return None\n",
    "            return self.list[i]\n",
    "        \n",
    "        \n",
    "            \n",
    "  "
   ]
  },
  {
   "cell_type": "code",
   "execution_count": 123,
   "id": "49a262b4-b987-4176-a9f2-7e6cf2ea8b1b",
   "metadata": {},
   "outputs": [
    {
     "data": {
      "text/plain": [
       "2"
      ]
     },
     "execution_count": 123,
     "metadata": {},
     "output_type": "execute_result"
    }
   ],
   "source": [
    "o = special_list()\n",
    "o.concat([2,4,52,0,-5,1,4])\n",
    "o.get(0)"
   ]
  },
  {
   "cell_type": "markdown",
   "id": "7b265f26-31f4-4c9b-b81a-383bb5988dac",
   "metadata": {},
   "source": [
    "### 7. create a method named sort_s() "
   ]
  },
  {
   "cell_type": "code",
   "execution_count": 164,
   "id": "be7c0cbc-b969-4534-af4d-a96af2ca5311",
   "metadata": {},
   "outputs": [],
   "source": [
    "class special_list:\n",
    "    def __init__(self):\n",
    "        self.list=[]\n",
    "    def max(max):\n",
    "        if len(self.list) <=0:\n",
    "            return none\n",
    "        max = self.list[0]\n",
    "        for i in range(1,len(self.list)):\n",
    "            if self.list[i] > max:\n",
    "                max = self.list[i]\n",
    "        return max\n",
    "    def append(self,element):\n",
    "        self.list.append(element)\n",
    "    def concat(self,list):\n",
    "        for i in list:\n",
    "            self.append(i)\n",
    "    def print(self):\n",
    "        print(self.list)\n",
    "    def min(self):\n",
    "        if len(self.list) <=0:\n",
    "            return None\n",
    "        min = self.list[0]\n",
    "        for i in range(len(self.list)):\n",
    "            if self.list[i] < min:\n",
    "                min = self.list[i]\n",
    "        return min\n",
    "    def remove(self,element):\n",
    "        if element not in self.list:\n",
    "            return None\n",
    "        self.list.remove(element)\n",
    "        \n",
    "    def sort_as(self):\n",
    "        new_list=[]\n",
    "        while len(self.list)!=0:\n",
    "              x = self.min()\n",
    "              self.remove(x)\n",
    "              new_list.append(x)\n",
    "        return new_list    \n",
    "            \n",
    "            \n",
    "  "
   ]
  },
  {
   "cell_type": "code",
   "execution_count": 165,
   "id": "0e62c4df-c022-4205-aaae-23852613565b",
   "metadata": {},
   "outputs": [
    {
     "data": {
      "text/plain": [
       "[-5, 0, 1, 2, 4, 4, 52]"
      ]
     },
     "execution_count": 165,
     "metadata": {},
     "output_type": "execute_result"
    }
   ],
   "source": [
    "o = special_list()\n",
    "o.concat([2,4,52,0,-5,1,4])\n",
    "o.sort_as()"
   ]
  },
  {
   "cell_type": "code",
   "execution_count": 166,
   "id": "e74fe1e7-4f85-43f9-a2f9-c2eef43597f2",
   "metadata": {},
   "outputs": [],
   "source": [
    "class special_list:\n",
    "    def __init__(self):\n",
    "        self.list=[]\n",
    "    def max(max):\n",
    "        if len(self.list) <=0:\n",
    "            return none\n",
    "        max = self.list[0]\n",
    "        for i in range(1,len(self.list)):\n",
    "            if self.list[i] > max:\n",
    "                max = self.list[i]\n",
    "        return max\n",
    "    def append(self,element):\n",
    "        self.list.append(element)\n",
    "    def concat(self,list):\n",
    "        for i in list:\n",
    "            self.append(i)\n",
    "    def print(self):\n",
    "        print(self.list)\n",
    "    def min(self):\n",
    "        if len(self.list) <=0:\n",
    "            return None\n",
    "        min = self.list[0]\n",
    "        for i in range(len(self.list)):\n",
    "            if self.list[i] < min:\n",
    "                min = self.list[i]\n",
    "        return min\n",
    "    def remove(self,element):\n",
    "        if element not in self.list:\n",
    "            return None\n",
    "        self.list.remove(element)\n",
    "        \n",
    "    def sort_as(self):\n",
    "        new_list=[]\n",
    "        while len(self.list)!=0:\n",
    "              x = self.max()\n",
    "              self.remove(x)\n",
    "              new_list.append(x)\n",
    "        return new_list    \n",
    "            \n",
    "            \n",
    "  "
   ]
  },
  {
   "cell_type": "code",
   "execution_count": 167,
   "id": "aca1fcc2-e1e8-4276-85dc-125c883edf76",
   "metadata": {},
   "outputs": [
    {
     "ename": "NameError",
     "evalue": "name 'self' is not defined",
     "output_type": "error",
     "traceback": [
      "\u001b[1;31m---------------------------------------------------------------------------\u001b[0m",
      "\u001b[1;31mNameError\u001b[0m                                 Traceback (most recent call last)",
      "Cell \u001b[1;32mIn[167], line 3\u001b[0m\n\u001b[0;32m      1\u001b[0m o \u001b[38;5;241m=\u001b[39m special_list()\n\u001b[0;32m      2\u001b[0m o\u001b[38;5;241m.\u001b[39mconcat([\u001b[38;5;241m2\u001b[39m,\u001b[38;5;241m4\u001b[39m,\u001b[38;5;241m52\u001b[39m,\u001b[38;5;241m0\u001b[39m,\u001b[38;5;241m-\u001b[39m\u001b[38;5;241m5\u001b[39m,\u001b[38;5;241m1\u001b[39m,\u001b[38;5;241m4\u001b[39m])\n\u001b[1;32m----> 3\u001b[0m \u001b[43mo\u001b[49m\u001b[38;5;241;43m.\u001b[39;49m\u001b[43msort_as\u001b[49m\u001b[43m(\u001b[49m\u001b[43m)\u001b[49m\n",
      "Cell \u001b[1;32mIn[166], line 35\u001b[0m, in \u001b[0;36mspecial_list.sort_as\u001b[1;34m(self)\u001b[0m\n\u001b[0;32m     33\u001b[0m new_list\u001b[38;5;241m=\u001b[39m[]\n\u001b[0;32m     34\u001b[0m \u001b[38;5;28;01mwhile\u001b[39;00m \u001b[38;5;28mlen\u001b[39m(\u001b[38;5;28mself\u001b[39m\u001b[38;5;241m.\u001b[39mlist)\u001b[38;5;241m!=\u001b[39m\u001b[38;5;241m0\u001b[39m:\n\u001b[1;32m---> 35\u001b[0m       x \u001b[38;5;241m=\u001b[39m \u001b[38;5;28;43mself\u001b[39;49m\u001b[38;5;241;43m.\u001b[39;49m\u001b[43mmax\u001b[49m\u001b[43m(\u001b[49m\u001b[43m)\u001b[49m\n\u001b[0;32m     36\u001b[0m       \u001b[38;5;28mself\u001b[39m\u001b[38;5;241m.\u001b[39mremove(x)\n\u001b[0;32m     37\u001b[0m       new_list\u001b[38;5;241m.\u001b[39mappend(x)\n",
      "Cell \u001b[1;32mIn[166], line 5\u001b[0m, in \u001b[0;36mspecial_list.max\u001b[1;34m(max)\u001b[0m\n\u001b[0;32m      4\u001b[0m \u001b[38;5;28;01mdef\u001b[39;00m \u001b[38;5;21mmax\u001b[39m(\u001b[38;5;28mmax\u001b[39m):\n\u001b[1;32m----> 5\u001b[0m     \u001b[38;5;28;01mif\u001b[39;00m \u001b[38;5;28mlen\u001b[39m(\u001b[38;5;28;43mself\u001b[39;49m\u001b[38;5;241m.\u001b[39mlist) \u001b[38;5;241m<\u001b[39m\u001b[38;5;241m=\u001b[39m\u001b[38;5;241m0\u001b[39m:\n\u001b[0;32m      6\u001b[0m         \u001b[38;5;28;01mreturn\u001b[39;00m none\n\u001b[0;32m      7\u001b[0m     \u001b[38;5;28mmax\u001b[39m \u001b[38;5;241m=\u001b[39m \u001b[38;5;28mself\u001b[39m\u001b[38;5;241m.\u001b[39mlist[\u001b[38;5;241m0\u001b[39m]\n",
      "\u001b[1;31mNameError\u001b[0m: name 'self' is not defined"
     ]
    }
   ],
   "source": [
    "o = special_list()\n",
    "o.concat([2,4,52,0,-5,1,4])\n",
    "o.sort_as()"
   ]
  },
  {
   "cell_type": "code",
   "execution_count": null,
   "id": "15a65de9-b9be-449d-bf01-d571989efff6",
   "metadata": {},
   "outputs": [],
   "source": []
  }
 ],
 "metadata": {
  "kernelspec": {
   "display_name": "Python 3 (ipykernel)",
   "language": "python",
   "name": "python3"
  },
  "language_info": {
   "codemirror_mode": {
    "name": "ipython",
    "version": 3
   },
   "file_extension": ".py",
   "mimetype": "text/x-python",
   "name": "python",
   "nbconvert_exporter": "python",
   "pygments_lexer": "ipython3",
   "version": "3.13.0"
  }
 },
 "nbformat": 4,
 "nbformat_minor": 5
}
