{
 "cells": [
  {
   "cell_type": "markdown",
   "id": "7abbcbe8",
   "metadata": {},
   "source": [
    "## Python Strings\n",
    "\n",
    "- Python strings are sequences of characters, enclosed in either single quotes (''), double quotes (\"\") or triple quotes (''' ''' or \"\"\"). \n",
    "- They are immutable, meaning we can't change the contents of a string after it's created.\n",
    "\n",
    "### Here are some common operations and concepts related to Python strings\n",
    "- Creating Strings `my_string = 'Hello, World!`\n",
    "- Accessing Characters - `char = my_string[0]`\n",
    "- String Slicing - `substring = my_string[7:12]`\n",
    "- String Concatenation - `new_string = 'Hello' + ' ' + 'World'`\n",
    "- String Methods - ` upper(), lower(), strip(), replace(), split(), join() `\n",
    "- String Formatting - `placeholders or f-string`\n",
    "- String Escape Characters - `escaped_string = 'This is a single quote: \\''`\n",
    "- String Length - `length = len(my_string)`\n",
    "- Raw Strings - Raw strings are prefixed with r and treat backslashes as literal characters, useful for regular expressions and file paths: `raw_string = r'C:\\Users\\John\\Documents'`."
   ]
  },
  {
   "cell_type": "code",
   "execution_count": 25,
   "id": "9dad9864",
   "metadata": {},
   "outputs": [
    {
     "name": "stdout",
     "output_type": "stream",
     "text": [
      "Welcome to python Learning\n",
      "Hai, Welcome to Python Learning\n",
      "Hai, Welcome to python learning\n",
      "Hai, Welcome to python learning\n",
      "var: \n",
      "Welcome To\n",
      "Python Tutorial\n",
      "from TutorialsPoint\n",
      "\n"
     ]
    }
   ],
   "source": [
    "a= 'Welcome to python Learning'\n",
    "b= \"Hai, Welcome to Python Learning\"\n",
    "c= '''Hai, Welcome to python learning'''\n",
    "d= \"\"\"Hai, Welcome to python learning\"\"\"\n",
    "\n",
    "# Multiline Strings\n",
    "var = '''\n",
    "Welcome To\n",
    "Python Tutorial\n",
    "from TutorialsPoint\n",
    "'''\n",
    "\n",
    "print(a)\n",
    "print(b)\n",
    "print(c)\n",
    "print(d)\n",
    "print (\"var:\", var)"
   ]
  },
  {
   "cell_type": "markdown",
   "id": "9b00c579",
   "metadata": {},
   "source": [
    "### String Slicing\n",
    "![](Images/chapter3-second-1.jpg)"
   ]
  },
  {
   "cell_type": "code",
   "execution_count": 58,
   "id": "332d8f4d",
   "metadata": {},
   "outputs": [
    {
     "name": "stdout",
     "output_type": "stream",
     "text": [
      "<class 'str'>\n",
      "Welcome to python Learning\n",
      "me to python Learning\n",
      "Welcome to\n",
      "me to\n",
      "gninraeL nohtyp ot emocleW\n",
      "m opt\n",
      "Welcome to python Lea\n",
      "rn\n"
     ]
    }
   ],
   "source": [
    "# Access values in strings\n",
    "\n",
    "a= 'Welcome to python Learning'\n",
    "\n",
    "print(type(a))\n",
    "\n",
    "print(a[0:])\n",
    "print(a[5:])\n",
    "print(a[:10])\n",
    "print(a[5:10])\n",
    "print(a[::-1])\n",
    "print(a[5:15:2])\n",
    "print(a[:-5])\n",
    "print(a[-5:-3])"
   ]
  },
  {
   "cell_type": "code",
   "execution_count": 27,
   "id": "f6435bf4",
   "metadata": {},
   "outputs": [
    {
     "name": "stdout",
     "output_type": "stream",
     "text": [
      "Update String : Welcome to  Machine Learning\n"
     ]
    }
   ],
   "source": [
    "# Updating Strings\n",
    "\n",
    "a= 'Welcome to python Learning'\n",
    "\n",
    "print(\"Update String :\", a[:11], \"Machine Learning\")"
   ]
  },
  {
   "cell_type": "code",
   "execution_count": 28,
   "id": "1a29bba0",
   "metadata": {},
   "outputs": [
    {
     "ename": "TypeError",
     "evalue": "'str' object does not support item assignment",
     "output_type": "error",
     "traceback": [
      "\u001b[1;31m---------------------------------------------------------------------------\u001b[0m",
      "\u001b[1;31mTypeError\u001b[0m                                 Traceback (most recent call last)",
      "Cell \u001b[1;32mIn[28], line 4\u001b[0m\n\u001b[0;32m      1\u001b[0m \u001b[38;5;66;03m#Strings are immutable in Python\u001b[39;00m\n\u001b[0;32m      3\u001b[0m \u001b[38;5;28mstr\u001b[39m \u001b[38;5;241m=\u001b[39m \u001b[38;5;124m\"\u001b[39m\u001b[38;5;124mHELLO\u001b[39m\u001b[38;5;124m\"\u001b[39m    \n\u001b[1;32m----> 4\u001b[0m \u001b[38;5;28mstr\u001b[39m[\u001b[38;5;241m0\u001b[39m] \u001b[38;5;241m=\u001b[39m \u001b[38;5;124m\"\u001b[39m\u001b[38;5;124mh\u001b[39m\u001b[38;5;124m\"\u001b[39m    \n\u001b[0;32m      5\u001b[0m \u001b[38;5;28mprint\u001b[39m(\u001b[38;5;28mstr\u001b[39m)\n",
      "\u001b[1;31mTypeError\u001b[0m: 'str' object does not support item assignment"
     ]
    }
   ],
   "source": [
    "#Strings are immutable in Python\n",
    "\n",
    "str = \"HELLO\"    \n",
    "str[0] = \"h\"    \n",
    "print(str)   "
   ]
  },
  {
   "cell_type": "code",
   "execution_count": 29,
   "id": "772755b0",
   "metadata": {},
   "outputs": [
    {
     "name": "stdout",
     "output_type": "stream",
     "text": [
      "Python\n"
     ]
    },
    {
     "ename": "NameError",
     "evalue": "name 'str1' is not defined",
     "output_type": "error",
     "traceback": [
      "\u001b[1;31m---------------------------------------------------------------------------\u001b[0m",
      "\u001b[1;31mNameError\u001b[0m                                 Traceback (most recent call last)",
      "Cell \u001b[1;32mIn[29], line 6\u001b[0m\n\u001b[0;32m      2\u001b[0m \u001b[38;5;28mprint\u001b[39m(str1)\n\u001b[0;32m      4\u001b[0m \u001b[38;5;28;01mdel\u001b[39;00m str1\n\u001b[1;32m----> 6\u001b[0m \u001b[38;5;28mprint\u001b[39m(str1)\n",
      "\u001b[1;31mNameError\u001b[0m: name 'str1' is not defined"
     ]
    }
   ],
   "source": [
    "str1 = \"Python\"    \n",
    "print(str1)\n",
    "\n",
    "del str1\n",
    "\n",
    "print(str1)"
   ]
  },
  {
   "cell_type": "markdown",
   "id": "d9922dcc",
   "metadata": {},
   "source": [
    "### Python Escape Characters\n",
    "\n",
    "- To insert characters that are illegal in a string, use an escape character.\n",
    "- An escape character is a backslash `\\` followed by the character we want to insert.\n",
    "\n",
    "- \\n: Newline character. It is used to move the cursor to the next line.\n",
    "- \\t: Tab character. It adds a tab space.\n",
    "- \\r: Carriage return. It moves the cursor to the beginning of the line.\n",
    "- \\: Backslash. It is used to represent a literal backslash.\n",
    "- ': Single quote. It is used to represent a literal single quote within a string. `Ex: print('\\'')`\n",
    "- \": Double quote. It is used to represent a literal double quote within a string. `Ex: print(\"\\\"\")`\n",
    "- \\s : space \n",
    "- \\\\ : Backslash `Ex:print(\"\\\\\")`\n",
    "\n",
    "- For example, if you want to include a newline character in a string in Python, you would write it as \"\\n\" within the string. If you want to include a backslash itself, you would write it as \"\\\\\".\n",
    "\n",
    "### String Special Operators\n",
    "\n",
    "- `+` Concatenation - Adds values on either side of the operator **EX: a + b will give HelloPython**\n",
    "- `*` Repetition - Creates new strings, concatenating multiple copies of the same string **EX: a*2 will give -HelloHello**\n",
    "- `[]` Slice - Gives the character from the given index **Ex: a[9]**\n",
    "- `[:]` Range Slice - Gives the characters from the given range **Ex: a[2:5]**\n",
    "- `in` Membership - Returns true if a character exists in the given string\n",
    "- `not on` Membership - Returns true if a character does not exist in the given string\n",
    "- `%` Format - Performs String formatting\n",
    "- `r/R` Raw String - Suppresses actual meaning of Escape characters."
   ]
  },
  {
   "cell_type": "code",
   "execution_count": 59,
   "id": "3a218004",
   "metadata": {},
   "outputs": [
    {
     "name": "stdout",
     "output_type": "stream",
     "text": [
      "Hello\n",
      "World\n",
      "Hello\tWorld\n",
      "Hello\r",
      "World\n",
      "This is a backslash: \\\n",
      "This is a single quote: '\n",
      "This is a double quote: \"\n",
      "Hello\\sWorld\n",
      "\\\n"
     ]
    }
   ],
   "source": [
    "# Newline character \n",
    "\n",
    "print(\"Hello\\nWorld\")\n",
    "\n",
    "# Tab character\n",
    "\n",
    "print(\"Hello\\tWorld\")\n",
    "\n",
    "# Carriage return \n",
    "\n",
    "print(\"Hello\\rWorld\")\n",
    "\n",
    "# Backslash \n",
    "\n",
    "print(\"This is a backslash: \\\\\")\n",
    "\n",
    "# Single quote \n",
    "\n",
    "print('This is a single quote: \\'')\n",
    "\n",
    "# Double quote\n",
    "\n",
    "print(\"This is a double quote: \\\"\")\n",
    "\n",
    "#Space character \n",
    "print(\"Hello\\sWorld\")\n",
    "\n",
    "#Literal backslash\n",
    "\n",
    "print(\"\\\\\")"
   ]
  },
  {
   "cell_type": "code",
   "execution_count": 30,
   "id": "fb34bbd0",
   "metadata": {},
   "outputs": [
    {
     "name": "stdout",
     "output_type": "stream",
     "text": [
      "My name is Zara and weight is 21 kg!\n"
     ]
    }
   ],
   "source": [
    "print (\"My name is %s and weight is %d kg!\" % ('Zara', 21))"
   ]
  },
  {
   "cell_type": "markdown",
   "id": "6ad01c09",
   "metadata": {},
   "source": [
    "## Built-in Functions with Strings\n",
    "\n",
    "- len(list) : Returns the length of the string.\n",
    "- max(list) : Returns the max alphabetical character from the string str.\n",
    "- min(list) : Returns the min alphabetical character from the string str."
   ]
  },
  {
   "cell_type": "code",
   "execution_count": 31,
   "id": "82387bf4",
   "metadata": {},
   "outputs": [
    {
     "name": "stdout",
     "output_type": "stream",
     "text": [
      "13\n",
      "r\n"
     ]
    }
   ],
   "source": [
    "my_string = \"Hello, World!\"\n",
    "length = len(my_string)  # length will be 13\n",
    "print(length)\n",
    "\n",
    "max_char = max(my_string)\n",
    "print(max_char)"
   ]
  },
  {
   "cell_type": "code",
   "execution_count": 32,
   "id": "38f2c212",
   "metadata": {},
   "outputs": [
    {
     "name": "stdout",
     "output_type": "stream",
     "text": [
      " \n"
     ]
    }
   ],
   "source": [
    "min_char = min(my_string)\n",
    "print(min_char)  # min_char will be ' '"
   ]
  },
  {
   "cell_type": "markdown",
   "id": "5bb9622c",
   "metadata": {},
   "source": [
    "- In the example for `max()` with the string \"Hello, World!\", the max alphabetical character is 'r' because it appears last in alphabetical order among the characters in the string. \n",
    "- Similarly, for `min()`, the min alphabetical character is ' ' (space) because it appears first in alphabetical order among the characters in the string."
   ]
  },
  {
   "cell_type": "markdown",
   "id": "41bc921b",
   "metadata": {},
   "source": [
    "## Built-in String Methods\n",
    "\n",
    "- Basic String Operations:\n",
    "    - `len(str):` Returns the length of the string.\n",
    "    - `str.lower():` Converts the string to lowercase.\n",
    "    - `str.upper():` Converts the string to uppercase.\n",
    "    - `str.capitalize():` Capitalizes the first character of the string.\n",
    "    - `str.title():` Capitalizes the first character of each word in the string.\n",
    "    - `str.strip():` Removes leading and trailing whitespace characters.\n",
    "    - `str.replace(old, new):` Replaces occurrences of a substring with another substring.\n",
    "    - `str.split(delimiter):` Splits the string into a list of substrings based on the delimiter.\n",
    "    - `str.join(iterable):` Joins the elements of an iterable (like a list) into a string using the string as a delimiter.\n",
    "    - `str.startswith(prefix):` Checks if the string starts with the specified prefix.\n",
    "    - `str.endswith(suffix):` Checks if the string ends with the specified suffix.\n",
    "    - `str.find(substring):` Returns the lowest index of the substring if found in the string, otherwise -1.\n",
    "    - `str.count(substring):` Counts the occurrences of the substring in the string.\n",
    "- String Formatting:\n",
    "    - `str.format():` Formats the string with placeholders.\n",
    "    - `f-strings:` String literals that have embedded expressions, prefixed with 'f' or 'F'.\n",
    "- Character Access and Slicing:\n",
    "    - `str[index]:` Accesses individual characters in the string by index.\n",
    "    - `str[start:end]:` Extracts a substring from the string based on start and end indices.\n",
    "    - `str[:end] or str[start:]`: Slices the string from the beginning or up to a specified index.\n",
    "    - `str[::-1]`: Reverses the string.\n",
    "- Checking and Converting:\n",
    "    - `str.isalpha():` Checks if all characters in the string are alphabetic.\n",
    "    - `str.isdigit():` Checks if all characters in the string are digits.\n",
    "    - `str.isalnum():` Checks if all characters in the string are alphanumeric.\n",
    "    - `str.islower():` Checks if all characters in the string are lowercase.\n",
    "    - `str.isupper():` Checks if all characters in the string are uppercase.\n",
    "    - `str.isnumeric():` Checks if all characters in the string are numeric.\n",
    "    - `str.isdecimal():` Checks if all characters in the string are decimals.\n",
    "    - `str.encode():` Encodes the string using the specified encoding.\n",
    "    - `str.decode():` Decodes the string using the specified encoding.\n",
    "- Other Useful Functions:\n",
    "    - `str.index(substring)`: Returns the lowest index of the substring in the string, raising a ValueError if not found.\n",
    "    - `str.rindex(substring)`: Returns the highest index of the substring in the string, raising a ValueError if not found.\n",
    "    - `str.lstrip():` Removes leading whitespace characters.\n",
    "    - `str.rstrip():` Removes trailing whitespace characters.\n",
    "    - `str.swapcase():` Swaps the case of each character in the string."
   ]
  },
  {
   "cell_type": "code",
   "execution_count": 33,
   "id": "e1aa0a21",
   "metadata": {},
   "outputs": [
    {
     "name": "stdout",
     "output_type": "stream",
     "text": [
      "13\n"
     ]
    }
   ],
   "source": [
    "# Length of a String\n",
    "\n",
    "my_string = \"Hello, World!\"\n",
    "length = len(my_string)  # length will be 134\n",
    "print(length)"
   ]
  },
  {
   "cell_type": "code",
   "execution_count": 34,
   "id": "ebd7aa8c",
   "metadata": {},
   "outputs": [
    {
     "name": "stdout",
     "output_type": "stream",
     "text": [
      "hello, world!\n",
      "HELLO, WORLD!\n"
     ]
    }
   ],
   "source": [
    "#Converting to Lowercase and Uppercase\n",
    "\n",
    "my_string = \"Hello, World!\"\n",
    "lower_string = my_string.lower()  # lower_string will be \"hello, world!\"\n",
    "upper_string = my_string.upper()  # upper_string will be \"HELLO, WORLD!\"\n",
    "\n",
    "print(lower_string)\n",
    "print(upper_string)"
   ]
  },
  {
   "cell_type": "code",
   "execution_count": 35,
   "id": "2f556a7f",
   "metadata": {},
   "outputs": [
    {
     "name": "stdout",
     "output_type": "stream",
     "text": [
      "Hello, world!\n",
      "Hello, World!\n"
     ]
    }
   ],
   "source": [
    "#Capitalizing and Title Case\n",
    "\n",
    "my_string = \"hello, world!\"\n",
    "capitalized_string = my_string.capitalize()  # capitalized_string will be \"Hello, world!\"\n",
    "title_case_string = my_string.title()  # title_case_string will be \"Hello, World!\"\n",
    "\n",
    "print(capitalized_string)\n",
    "print(title_case_string)"
   ]
  },
  {
   "cell_type": "code",
   "execution_count": 36,
   "id": "811d4650",
   "metadata": {},
   "outputs": [
    {
     "name": "stdout",
     "output_type": "stream",
     "text": [
      "Hello, World!\n"
     ]
    }
   ],
   "source": [
    "#Removing Whitespace\n",
    "\n",
    "my_string = \"   Hello, World!   \"\n",
    "stripped_string = my_string.strip()  # stripped_string will be \"Hello, World!\"\n",
    "print(stripped_string)"
   ]
  },
  {
   "cell_type": "code",
   "execution_count": 37,
   "id": "5228544b",
   "metadata": {},
   "outputs": [
    {
     "name": "stdout",
     "output_type": "stream",
     "text": [
      "Hi, World!\n"
     ]
    }
   ],
   "source": [
    "#Replacing Substrings\n",
    "\n",
    "my_string = \"Hello, World!\"\n",
    "new_string = my_string.replace(\"Hello\", \"Hi\")  # new_string will be \"Hi, World!\"\n",
    "print(new_string)"
   ]
  },
  {
   "cell_type": "code",
   "execution_count": 1,
   "id": "4d2d3aa1",
   "metadata": {},
   "outputs": [
    {
     "name": "stdout",
     "output_type": "stream",
     "text": [
      "John#Peter#Vicky\n",
      "h-e-l-l-o\n",
      "Hello, World!\n"
     ]
    }
   ],
   "source": [
    "myTuple = (\"John\", \"Peter\", \"Vicky\")\n",
    "x = \"#\".join(myTuple)\n",
    "print(x)\n",
    "\n",
    "str = '-'.join('hello')\n",
    "print(str)\n",
    "\n",
    "list1 = ('1', '2', '3', '4')\n",
    "s = \"-\"\n",
    "s = s.join(list1)\n",
    "\n",
    "#Splitting and Joining Strings\n",
    "\n",
    "my_string = \"Hello, World!\"\n",
    "words = my_string.split(\", \")  # words will be [\"Hello\", \"World!\"]\n",
    "\n",
    "joined_string = \", \".join(words)  # joined_string will be \"Hello, World!\"\n",
    "print(joined_string)"
   ]
  },
  {
   "cell_type": "code",
   "execution_count": 38,
   "id": "7b6e04f3",
   "metadata": {},
   "outputs": [
    {
     "name": "stdout",
     "output_type": "stream",
     "text": [
      "True\n",
      "True\n"
     ]
    }
   ],
   "source": [
    "#Checking for Substrings\n",
    "\n",
    "my_string = \"Hello, World!\"\n",
    "starts_with_hello = my_string.startswith(\"Hello\")  # starts_with_hello will be True\n",
    "ends_with_exclamation = my_string.endswith(\"!\")  # ends_with_exclamation will be True\n",
    "\n",
    "print(starts_with_hello)\n",
    "print(ends_with_exclamation)"
   ]
  },
  {
   "cell_type": "code",
   "execution_count": 39,
   "id": "eebcd53a",
   "metadata": {},
   "outputs": [
    {
     "name": "stdout",
     "output_type": "stream",
     "text": [
      "4\n",
      "3\n"
     ]
    }
   ],
   "source": [
    "#Finding Substrings and Counting\n",
    "\n",
    "my_string = \"Hello, World!\"\n",
    "index_o = my_string.find(\"o\")  # index_o will be 4\n",
    "count_l = my_string.count(\"l\")  # count_l will be 3\n",
    "print(index_o)\n",
    "print(count_l)"
   ]
  },
  {
   "cell_type": "code",
   "execution_count": 40,
   "id": "94ed5041",
   "metadata": {},
   "outputs": [
    {
     "name": "stdout",
     "output_type": "stream",
     "text": [
      "H\n",
      "World\n",
      "!dlroW ,olleH\n"
     ]
    }
   ],
   "source": [
    "#Accessing Characters and Slicing\n",
    "\n",
    "my_string = \"Hello, World!\"\n",
    "char = my_string[0]  # char will be 'H'\n",
    "substring = my_string[7:12]  # substring will be 'World'\n",
    "reversed_string = my_string[::-1]  # reversed_string will be '!dlroW ,olleH'\n",
    "\n",
    "print(char)\n",
    "print(substring)\n",
    "print(reversed_string)"
   ]
  },
  {
   "cell_type": "markdown",
   "id": "6f5e07f6",
   "metadata": {},
   "source": [
    "### String Formatting:"
   ]
  },
  {
   "cell_type": "code",
   "execution_count": 41,
   "id": "9fadb2ee",
   "metadata": {},
   "outputs": [
    {
     "name": "stdout",
     "output_type": "stream",
     "text": [
      "Name: Alice, Age: 30, Height: 165.5 cm\n"
     ]
    }
   ],
   "source": [
    "# string formats\n",
    "\n",
    "name = \"Alice\"\n",
    "age = 30\n",
    "height = 165.5\n",
    "\n",
    "# Using str.format() with placeholders\n",
    "info = \"Name: {}, Age: {}, Height: {} cm\".format(name, age, height)\n",
    "print(info)"
   ]
  },
  {
   "cell_type": "code",
   "execution_count": 42,
   "id": "063b8607",
   "metadata": {},
   "outputs": [
    {
     "name": "stdout",
     "output_type": "stream",
     "text": [
      "Name: Bob, Age: 25, Height: 180.2 cm\n"
     ]
    }
   ],
   "source": [
    "name = \"Bob\"\n",
    "age = 25\n",
    "height = 180.2\n",
    "\n",
    "# Using f-strings\n",
    "info = f\"Name: {name}, Age: {age}, Height: {height} cm\"\n",
    "print(info)"
   ]
  },
  {
   "cell_type": "markdown",
   "id": "48905eb6",
   "metadata": {},
   "source": [
    "### Checking and Converting:"
   ]
  },
  {
   "cell_type": "code",
   "execution_count": 43,
   "id": "8c72d3ea",
   "metadata": {},
   "outputs": [
    {
     "name": "stdout",
     "output_type": "stream",
     "text": [
      "True\n",
      "False\n"
     ]
    }
   ],
   "source": [
    "# Checks if all characters in the string are alphabetic\n",
    "\n",
    "text = \"HelloWorld\"\n",
    "print(text.isalpha())  # Output: True\n",
    "\n",
    "text_with_space = \"Hello World\"\n",
    "print(text_with_space.isalpha())  # Output: False because space is there"
   ]
  },
  {
   "cell_type": "code",
   "execution_count": 44,
   "id": "3cb65f6c",
   "metadata": {},
   "outputs": [
    {
     "name": "stdout",
     "output_type": "stream",
     "text": [
      "True\n",
      "False\n"
     ]
    }
   ],
   "source": [
    "# Checks if all characters in the string are digits\n",
    "\n",
    "number = \"12345\"\n",
    "print(number.isdigit())  # Output: True\n",
    "\n",
    "mixed_chars = \"123abc\"\n",
    "print(mixed_chars.isdigit())  # Output: False"
   ]
  },
  {
   "cell_type": "code",
   "execution_count": 10,
   "id": "c891654a",
   "metadata": {},
   "outputs": [
    {
     "name": "stdout",
     "output_type": "stream",
     "text": [
      "True\n",
      "False\n"
     ]
    }
   ],
   "source": [
    "# Checks if all characters in the string are alphanumeric\n",
    "\n",
    "alphanumeric = \"abc123\"\n",
    "print(alphanumeric.isalnum())  # Output: True\n",
    "\n",
    "special_chars = \"abc123$%\"\n",
    "print(special_chars.isalnum())  # Output: False"
   ]
  },
  {
   "cell_type": "code",
   "execution_count": 45,
   "id": "5354c6de",
   "metadata": {},
   "outputs": [
    {
     "name": "stdout",
     "output_type": "stream",
     "text": [
      "True\n",
      "False\n"
     ]
    }
   ],
   "source": [
    "# Checks if all characters in the string are lowercase\n",
    "\n",
    "lowercase_text = \"hello\"\n",
    "print(lowercase_text.islower())  # Output: True\n",
    "\n",
    "mixed_case = \"Hello\"\n",
    "print(mixed_case.islower())  # Output: False"
   ]
  },
  {
   "cell_type": "code",
   "execution_count": 46,
   "id": "cf9a6b93",
   "metadata": {},
   "outputs": [
    {
     "name": "stdout",
     "output_type": "stream",
     "text": [
      "True\n",
      "False\n"
     ]
    }
   ],
   "source": [
    "# Checks if all characters in the string are uppercase\n",
    "\n",
    "uppercase_text = \"HELLO\"\n",
    "print(uppercase_text.isupper())  # Output: True\n",
    "\n",
    "mixed_case = \"Hello\"\n",
    "print(mixed_case.isupper())  # Output: False"
   ]
  },
  {
   "cell_type": "code",
   "execution_count": 47,
   "id": "8f2b4e65",
   "metadata": {},
   "outputs": [
    {
     "name": "stdout",
     "output_type": "stream",
     "text": [
      "True\n",
      "False\n"
     ]
    }
   ],
   "source": [
    "# Checks if all characters in the string are numeric\n",
    "\n",
    "numeric_str = \"12345\"\n",
    "print(numeric_str.isnumeric())  # Output: True\n",
    "\n",
    "alpha_numeric = \"123abc\"\n",
    "print(alpha_numeric.isnumeric())  # Output: False"
   ]
  },
  {
   "cell_type": "code",
   "execution_count": 48,
   "id": "a42ede25",
   "metadata": {},
   "outputs": [
    {
     "name": "stdout",
     "output_type": "stream",
     "text": [
      "True\n",
      "False\n"
     ]
    }
   ],
   "source": [
    "# Checks if all characters in the string are decimals\n",
    "\n",
    "decimal_str = \"12345\"\n",
    "print(decimal_str.isdecimal())  # Output: True\n",
    "\n",
    "non_decimal = \"123.45\"\n",
    "print(non_decimal.isdecimal())  # Output: False"
   ]
  },
  {
   "cell_type": "code",
   "execution_count": 49,
   "id": "7f4d9a1b",
   "metadata": {},
   "outputs": [
    {
     "name": "stdout",
     "output_type": "stream",
     "text": [
      "b'Hello'\n"
     ]
    }
   ],
   "source": [
    "# Encodes the string using the specified encoding\n",
    "\n",
    "text = \"Hello\"\n",
    "encoded_text = text.encode(\"utf-8\")\n",
    "print(encoded_text)  # Output: b'Hello'"
   ]
  },
  {
   "cell_type": "code",
   "execution_count": 50,
   "id": "aad15d2d",
   "metadata": {},
   "outputs": [
    {
     "name": "stdout",
     "output_type": "stream",
     "text": [
      "Hello\n"
     ]
    }
   ],
   "source": [
    "# Decodes the string using the specified encoding\n",
    "\n",
    "encoded_text = b'Hello'\n",
    "decoded_text = encoded_text.decode(\"utf-8\")\n",
    "print(decoded_text)  # Output: Hello"
   ]
  },
  {
   "cell_type": "markdown",
   "id": "f71a7a7a",
   "metadata": {},
   "source": [
    "**Encoding:**\n",
    "- *Definition:* Encoding refers to the process of converting data from one form to another, typically for the purpose of efficient storage, transmission, or processing.\n",
    "- *Example:* When you encode a string using UTF-8 encoding in Python (str.encode(\"utf-8\")), you convert the Unicode characters in the string into a sequence of bytes according to the UTF-8 encoding rules. This encoded form is suitable for storage in files or transmission over networks.\n",
    "- *Purpose:* Encoding ensures that data can be represented in a consistent and compact manner, making it compatible with different systems and communication protocols.\n",
    "\n",
    "**Decoding:**\n",
    "- *Definition:* Decoding is the reverse process of encoding. It involves converting encoded data back into its original form.\n",
    "- *Example:* When you decode a byte sequence using UTF-8 decoding in Python (bytes.decode(\"utf-8\")), you convert the sequence of bytes back into Unicode characters according to the UTF-8 encoding rules. This restores the original string from its encoded form.\n",
    "- *Purpose:* Decoding is essential for interpreting and using data that has been encoded. It ensures that data can be correctly understood and processed by applications or users."
   ]
  },
  {
   "cell_type": "markdown",
   "id": "45448e3f",
   "metadata": {},
   "source": [
    "### Other Useful String Functions"
   ]
  },
  {
   "cell_type": "code",
   "execution_count": 51,
   "id": "2e4f8123",
   "metadata": {},
   "outputs": [
    {
     "name": "stdout",
     "output_type": "stream",
     "text": [
      "4\n"
     ]
    }
   ],
   "source": [
    "#Returns the lowest index of the substring in the string\n",
    "\n",
    "text = \"hello world\"\n",
    "index = text.index(\"o\")\n",
    "print(index)  # Output: 4\n",
    "\n",
    "# ValueError if substring is not found\n",
    "# text.index(\"z\")"
   ]
  },
  {
   "cell_type": "code",
   "execution_count": 52,
   "id": "a5049041",
   "metadata": {},
   "outputs": [
    {
     "name": "stdout",
     "output_type": "stream",
     "text": [
      "7\n"
     ]
    }
   ],
   "source": [
    "#Returns the highest index of the substring in the string\n",
    "\n",
    "text = \"hello world\"\n",
    "index = text.rindex(\"o\")\n",
    "print(index)  # Output: 7\n",
    "\n",
    "# ValueError if substring is not found\n",
    "# text.rindex(\"z\")"
   ]
  },
  {
   "cell_type": "code",
   "execution_count": 53,
   "id": "2c592555",
   "metadata": {},
   "outputs": [
    {
     "name": "stdout",
     "output_type": "stream",
     "text": [
      "hello world\n"
     ]
    }
   ],
   "source": [
    "#Removes leading whitespace characters\n",
    "\n",
    "text = \"   hello world\"\n",
    "stripped_text = text.lstrip()\n",
    "print(stripped_text)  # Output: \"hello world\""
   ]
  },
  {
   "cell_type": "code",
   "execution_count": 54,
   "id": "626027f9",
   "metadata": {},
   "outputs": [
    {
     "name": "stdout",
     "output_type": "stream",
     "text": [
      "hello world\n"
     ]
    }
   ],
   "source": [
    "# Removes trailing whitespace characters\n",
    "\n",
    "text = \"hello world   \"\n",
    "stripped_text = text.rstrip()\n",
    "print(stripped_text)  # Output: \"hello world\""
   ]
  },
  {
   "cell_type": "code",
   "execution_count": 55,
   "id": "acd8926b",
   "metadata": {},
   "outputs": [
    {
     "name": "stdout",
     "output_type": "stream",
     "text": [
      "hELLO wORLD\n"
     ]
    }
   ],
   "source": [
    "# Swaps the case of each character in the string\n",
    "\n",
    "text = \"Hello World\"\n",
    "swapped_text = text.swapcase()\n",
    "print(swapped_text)  # Output: \"hELLO wORLD\""
   ]
  }
 ],
 "metadata": {
  "kernelspec": {
   "display_name": "Python 3 (ipykernel)",
   "language": "python",
   "name": "python3"
  },
  "language_info": {
   "codemirror_mode": {
    "name": "ipython",
    "version": 3
   },
   "file_extension": ".py",
   "mimetype": "text/x-python",
   "name": "python",
   "nbconvert_exporter": "python",
   "pygments_lexer": "ipython3",
   "version": "3.11.7"
  }
 },
 "nbformat": 4,
 "nbformat_minor": 5
}
