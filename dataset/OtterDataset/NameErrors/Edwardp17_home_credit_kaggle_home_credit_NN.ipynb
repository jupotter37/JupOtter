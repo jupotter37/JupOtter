{
 "cells": [
  {
   "cell_type": "markdown",
   "metadata": {},
   "source": [
    "## Ideas moving forward:\n",
    "1. Create more robust NN model\n",
    "    a. Ideas:\n",
    "        https://www.kaggle.com/javapocalypse/breast-cancer-classification-in-keras-using-ann\n",
    "        http://parneetk.github.io/blog/neural-networks-in-keras/\n",
    "2. Find way for NN to use roc auc as loss metric to optimize\n",
    "3. Would filling in missing values differently make a significant difference?\n",
    "    a. I was thinking maybe cluster before filling in missing NAN values, then use the means/medians of the columns based on the clusters"
   ]
  },
  {
   "cell_type": "markdown",
   "metadata": {},
   "source": [
    "Since these models are using both the test and training sets for preprocessing, this might be considered leakage\n",
    "For now, we will accept this leakage as we want to make our model as accurate as possible for competition purposes\n",
    "Once a solid model is build, we will try preprocessing without the test set, and rerun; then go from there"
   ]
  },
  {
   "cell_type": "code",
   "execution_count": 1,
   "metadata": {
    "_cell_guid": "79c7e3d0-c299-4dcb-8224-4455121ee9b0",
    "_uuid": "d629ff2d2480ee46fbb7e2d37f6b5fab8052498a"
   },
   "outputs": [],
   "source": [
    "import numpy as np \n",
    "import pandas as pd\n",
    "\n",
    "import matplotlib.pyplot as plt\n",
    "%matplotlib inline\n",
    "import seaborn as sns\n",
    "color = sns.color_palette()\n",
    "sns.set()\n",
    "from IPython.display import display\n",
    "\n",
    "import random\n",
    "import os\n",
    "import gc\n",
    "# print(os.listdir(\"../input\"))"
   ]
  },
  {
   "cell_type": "code",
   "execution_count": 2,
   "metadata": {
    "_uuid": "e6c850bac085f821674ca180e43ec3dde39e926a"
   },
   "outputs": [
    {
     "name": "stderr",
     "output_type": "stream",
     "text": [
      "Using TensorFlow backend.\n"
     ]
    }
   ],
   "source": [
    "import keras\n",
    "from keras.models import Sequential\n",
    "from keras.layers import Dense\n",
    "from keras.callbacks import EarlyStopping\n",
    "from keras.optimizers import SGD"
   ]
  },
  {
   "cell_type": "code",
   "execution_count": 3,
   "metadata": {
    "_uuid": "586fc0d98fed6e91f40a1aeb99d703314cf204ae",
    "collapsed": true
   },
   "outputs": [],
   "source": [
    "from sklearn.metrics import classification_report, roc_auc_score\n",
    "from sklearn.preprocessing import LabelEncoder, OneHotEncoder, StandardScaler, Imputer\n",
    "from sklearn.model_selection import train_test_split"
   ]
  },
  {
   "cell_type": "code",
   "execution_count": 54,
   "metadata": {
    "_uuid": "eb2135b81260e4d72de4d12695ba07ae674ebdf1"
   },
   "outputs": [],
   "source": [
    "'''\n",
    "#Uncomment this for kaggle\n",
    "pos = pd.read_csv('../input/POS_CASH_balance.csv')\n",
    "test = pd.read_csv('../input/application_test.csv')\n",
    "train = pd.read_csv('../input/application_train.csv')\n",
    "bureau = pd.read_csv('../input/bureau.csv')\n",
    "bureau_balance = pd.read_csv('../input/bureau_balance.csv')\n",
    "cc_bal = pd.read_csv('../input/credit_card_balance.csv')\n",
    "inst = pd.read_csv('../input/installments_payments.csv')\n",
    "prev_app = pd.read_csv('../input/previous_application.csv')\n",
    "sample_submission = pd.read_csv('../input/sample_submission.csv')\n",
    "\n",
    "'''\n",
    "\n",
    "#Uncomment this for local\n",
    "pos = pd.read_csv('data/POS_CASH_balance.csv')\n",
    "test = pd.read_csv('data/application_test.csv')\n",
    "train = pd.read_csv('data/application_train.csv')\n",
    "bureau = pd.read_csv('data/bureau.csv')\n",
    "bureau_balance = pd.read_csv('data/bureau_balance.csv')\n",
    "cc_bal = pd.read_csv('data/credit_card_balance.csv')\n",
    "inst = pd.read_csv('data/installments_payments.csv')\n",
    "prev_app = pd.read_csv('data/previous_application.csv')\n",
    "sample_submission = pd.read_csv('data/sample_submission.csv')"
   ]
  },
  {
   "cell_type": "code",
   "execution_count": 5,
   "metadata": {
    "collapsed": true
   },
   "outputs": [],
   "source": [
    "gc.enable()"
   ]
  },
  {
   "cell_type": "markdown",
   "metadata": {},
   "source": [
    "## Preprocessing"
   ]
  },
  {
   "cell_type": "markdown",
   "metadata": {},
   "source": [
    "What we are doing here, basically, is just get_dummies for each table, getting the count of past records and then averaging the tables to get unique values of SK_ID_CURR. \n",
    "This is pretty basic but could be effective feature engineering."
   ]
  },
  {
   "cell_type": "code",
   "execution_count": 6,
   "metadata": {
    "collapsed": true
   },
   "outputs": [],
   "source": [
    "pp_cols = []"
   ]
  },
  {
   "cell_type": "code",
   "execution_count": 7,
   "metadata": {},
   "outputs": [
    {
     "name": "stdout",
     "output_type": "stream",
     "text": [
      "Bureau_balance preprocess\n",
      "Counting bureaus\n",
      "averaging bureau bal\n"
     ]
    },
    {
     "data": {
      "text/plain": [
       "83"
      ]
     },
     "execution_count": 7,
     "metadata": {},
     "output_type": "execute_result"
    }
   ],
   "source": [
    "print('Bureau_balance preprocess')\n",
    "bureau_balance = pd.get_dummies(bureau_balance)\n",
    "\n",
    "print('Counting bureaus')\n",
    "bb_counts = bureau_balance[['SK_ID_BUREAU', 'MONTHS_BALANCE']].groupby('SK_ID_BUREAU').count()\n",
    "bureau_balance['bb_count'] = bureau_balance['SK_ID_BUREAU'].map(bb_counts['MONTHS_BALANCE'])\n",
    "\n",
    "print('averaging bureau bal')\n",
    "avg_bureau_bal = bureau_balance.groupby('SK_ID_BUREAU').mean()\n",
    "\n",
    "avg_bureau_bal.reset_index(inplace=True)\n",
    "\n",
    "del bureau_balance, bb_counts\n",
    "gc.collect()"
   ]
  },
  {
   "cell_type": "code",
   "execution_count": 8,
   "metadata": {},
   "outputs": [
    {
     "name": "stdout",
     "output_type": "stream",
     "text": [
      "Bureau preprocess, includes merging bureau_balance preprocess\n",
      "Counting buro per SK_ID_CURR\n",
      "Averaging bureau\n"
     ]
    },
    {
     "data": {
      "text/plain": [
       "125"
      ]
     },
     "execution_count": 8,
     "metadata": {},
     "output_type": "execute_result"
    }
   ],
   "source": [
    "print('Bureau preprocess, includes merging bureau_balance preprocess')\n",
    "bureau = pd.get_dummies(bureau)\n",
    "\n",
    "bureau_full = bureau.merge(avg_bureau_bal, how='left', on='SK_ID_BUREAU')\n",
    "\n",
    "print('Counting buro per SK_ID_CURR')\n",
    "nb_bureau_per_curr = bureau_full[['SK_ID_CURR', 'SK_ID_BUREAU']].groupby('SK_ID_CURR').count()\n",
    "bureau_full['SK_ID_BUREAU'] = bureau_full['SK_ID_CURR'].map(nb_bureau_per_curr['SK_ID_BUREAU'])\n",
    "\n",
    "print('Averaging bureau')\n",
    "avg_bureau = bureau_full.groupby('SK_ID_CURR').mean()\n",
    "\n",
    "avg_bureau.columns = ['avg_bureau_' + f_ for f_ in avg_bureau.columns]\n",
    "avg_bureau.reset_index(inplace = True)\n",
    "pp_cols.append('avg_bureau')\n",
    "\n",
    "del bureau, bureau_full, nb_bureau_per_curr\n",
    "gc.collect()"
   ]
  },
  {
   "cell_type": "code",
   "execution_count": 9,
   "metadata": {},
   "outputs": [
    {
     "name": "stdout",
     "output_type": "stream",
     "text": [
      "Prev_app preprocess\n",
      "Counting number of prevs\n",
      "Averaging prev\n"
     ]
    },
    {
     "data": {
      "text/plain": [
       "269"
      ]
     },
     "execution_count": 9,
     "metadata": {},
     "output_type": "execute_result"
    }
   ],
   "source": [
    "print('Prev_app preprocess')\n",
    "prev_app = pd.get_dummies(prev_app)\n",
    "\n",
    "print('Counting number of prevs')\n",
    "nb_prevs = prev_app[['SK_ID_CURR', 'SK_ID_PREV']].groupby('SK_ID_CURR').count()\n",
    "prev_app['SK_ID_PREV'] = prev_app['SK_ID_CURR'].map(nb_prevs['SK_ID_PREV'])\n",
    "\n",
    "print('Averaging prev')\n",
    "avg_prev = prev_app.groupby('SK_ID_CURR').mean()\n",
    "\n",
    "avg_prev.columns = ['avg_prev_' + f_ for f_ in avg_prev.columns]\n",
    "avg_prev.reset_index(inplace=True)\n",
    "pp_cols.append('avg_prev')\n",
    "\n",
    "del prev_app, nb_prevs\n",
    "gc.collect()"
   ]
  },
  {
   "cell_type": "code",
   "execution_count": 10,
   "metadata": {},
   "outputs": [
    {
     "name": "stdout",
     "output_type": "stream",
     "text": [
      "Pos preprocess\n",
      "Counting number of prevs\n",
      "Averaging pos\n"
     ]
    },
    {
     "data": {
      "text/plain": [
       "102"
      ]
     },
     "execution_count": 10,
     "metadata": {},
     "output_type": "execute_result"
    }
   ],
   "source": [
    "print('Pos preprocess')\n",
    "pos = pd.get_dummies(pos)\n",
    "\n",
    "print('Counting number of prevs')\n",
    "nb_prevs = pos[['SK_ID_CURR', 'SK_ID_PREV']].groupby('SK_ID_CURR').count()\n",
    "pos['SK_ID_PREV'] = pos['SK_ID_CURR'].map(nb_prevs['SK_ID_PREV'])\n",
    "\n",
    "print('Averaging pos')\n",
    "avg_pos = pos.groupby('SK_ID_CURR').mean()\n",
    "\n",
    "avg_pos.columns = ['avg_pos_' + f_ for f_ in avg_pos.columns]\n",
    "avg_pos.reset_index(inplace=True)\n",
    "pp_cols.append('avg_pos')\n",
    "\n",
    "del pos, nb_prevs\n",
    "gc.collect()"
   ]
  },
  {
   "cell_type": "code",
   "execution_count": 11,
   "metadata": {},
   "outputs": [
    {
     "name": "stdout",
     "output_type": "stream",
     "text": [
      "Cc_bal preprocess\n",
      "COunting number of prevs\n",
      "Averaging cc_bal\n"
     ]
    },
    {
     "data": {
      "text/plain": [
       "100"
      ]
     },
     "execution_count": 11,
     "metadata": {},
     "output_type": "execute_result"
    }
   ],
   "source": [
    "print('Cc_bal preprocess')\n",
    "cc_bal = pd.get_dummies(cc_bal)\n",
    "\n",
    "print('COunting number of prevs')\n",
    "nb_prevs = cc_bal[['SK_ID_CURR', 'SK_ID_PREV']].groupby('SK_ID_CURR').count()\n",
    "cc_bal['SK_ID_PREV'] = cc_bal['SK_ID_CURR'].map(nb_prevs['SK_ID_PREV'])\n",
    "\n",
    "print('Averaging cc_bal')\n",
    "avg_cc_bal = cc_bal.groupby('SK_ID_CURR').mean()\n",
    "\n",
    "avg_cc_bal.columns = ['avg_cc_bal_' + f_ for f_ in avg_cc_bal.columns]\n",
    "avg_cc_bal.reset_index(inplace=True)\n",
    "pp_cols.append('avg_cc_bal')\n",
    "\n",
    "del cc_bal, nb_prevs\n",
    "gc.collect()"
   ]
  },
  {
   "cell_type": "code",
   "execution_count": 12,
   "metadata": {},
   "outputs": [
    {
     "name": "stdout",
     "output_type": "stream",
     "text": [
      "Inst preprocess\n",
      "No categorical cols\n",
      "Counting number of prevs\n",
      "Averaging inst\n"
     ]
    },
    {
     "data": {
      "text/plain": [
       "58"
      ]
     },
     "execution_count": 12,
     "metadata": {},
     "output_type": "execute_result"
    }
   ],
   "source": [
    "print('Inst preprocess')\n",
    "print('No categorical cols')\n",
    "\n",
    "print('Counting number of prevs')\n",
    "nb_prevs = inst[['SK_ID_CURR', 'SK_ID_PREV']].groupby('SK_ID_CURR').count()\n",
    "inst['SK_ID_PREV'] = inst['SK_ID_CURR'].map(nb_prevs['SK_ID_PREV'])\n",
    "\n",
    "print('Averaging inst')\n",
    "avg_inst = inst.groupby('SK_ID_CURR').mean()\n",
    "\n",
    "avg_inst.columns = ['avg_inst_' + f_ for f_ in avg_inst.columns]\n",
    "avg_inst.reset_index(inplace=True)\n",
    "pp_cols.append('avg_inst')\n",
    "\n",
    "del inst, nb_prevs\n",
    "gc.collect()"
   ]
  },
  {
   "cell_type": "code",
   "execution_count": 13,
   "metadata": {
    "collapsed": true
   },
   "outputs": [],
   "source": [
    "#lets merge our train and test to create a bigger dataset to preprocess on\n",
    "test['is_test'] = 1 \n",
    "test['is_train'] = 0\n",
    "train['is_test'] = 0\n",
    "train['is_train'] = 1"
   ]
  },
  {
   "cell_type": "code",
   "execution_count": 14,
   "metadata": {},
   "outputs": [
    {
     "data": {
      "text/plain": [
       "(307511, 123)"
      ]
     },
     "execution_count": 14,
     "metadata": {},
     "output_type": "execute_result"
    }
   ],
   "source": [
    "X_train = train.drop(['TARGET'], axis = 1)\n",
    "y_train = train['TARGET']\n",
    "X_train.shape"
   ]
  },
  {
   "cell_type": "code",
   "execution_count": 15,
   "metadata": {
    "_uuid": "6622fd30e088837ac4b2771aed07e18a8e6c728b"
   },
   "outputs": [
    {
     "data": {
      "text/plain": [
       "(48744, 123)"
      ]
     },
     "execution_count": 15,
     "metadata": {},
     "output_type": "execute_result"
    }
   ],
   "source": [
    "X_test = test\n",
    "X_test.shape"
   ]
  },
  {
   "cell_type": "code",
   "execution_count": 16,
   "metadata": {},
   "outputs": [],
   "source": [
    "data = pd.concat([X_train, X_test], axis=0)\n",
    "data = pd.get_dummies(data)"
   ]
  },
  {
   "cell_type": "code",
   "execution_count": 17,
   "metadata": {},
   "outputs": [
    {
     "data": {
      "text/plain": [
       "['avg_bureau', 'avg_prev', 'avg_pos', 'avg_cc_bal', 'avg_inst']"
      ]
     },
     "execution_count": 17,
     "metadata": {},
     "output_type": "execute_result"
    }
   ],
   "source": [
    "pp_cols"
   ]
  },
  {
   "cell_type": "code",
   "execution_count": 18,
   "metadata": {},
   "outputs": [
    {
     "data": {
      "text/plain": [
       "(356255, 506)"
      ]
     },
     "execution_count": 18,
     "metadata": {},
     "output_type": "execute_result"
    }
   ],
   "source": [
    "#this could be automated with a function perhaps\n",
    "data = data.merge(avg_bureau, how='left', on='SK_ID_CURR')\n",
    "data = data.merge(avg_prev, how='left', on='SK_ID_CURR')\n",
    "data = data.merge(avg_pos, how='left', on='SK_ID_CURR')\n",
    "data = data.merge(avg_cc_bal, how='left', on='SK_ID_CURR')\n",
    "data = data.merge(avg_inst, how='left', on='SK_ID_CURR')\n",
    "data.shape"
   ]
  },
  {
   "cell_type": "code",
   "execution_count": 19,
   "metadata": {},
   "outputs": [
    {
     "data": {
      "text/plain": [
       "279"
      ]
     },
     "execution_count": 19,
     "metadata": {},
     "output_type": "execute_result"
    }
   ],
   "source": [
    "del avg_bureau, avg_prev, avg_pos, avg_cc_bal, avg_inst\n",
    "gc.collect()"
   ]
  },
  {
   "cell_type": "code",
   "execution_count": 20,
   "metadata": {
    "collapsed": true
   },
   "outputs": [],
   "source": [
    "# Function to calculate missing values by column\n",
    "def missing_values_table(df):\n",
    "        # Total missing values\n",
    "        mis_val = df.isnull().sum()\n",
    "        \n",
    "        # Percentage of missing values\n",
    "        mis_val_percent = 100 * df.isnull().sum() / len(df)\n",
    "        \n",
    "        # Make a table with the results\n",
    "        mis_val_table = pd.concat([mis_val, mis_val_percent], axis=1)\n",
    "        \n",
    "        # Rename the columns\n",
    "        mis_val_table_ren_columns = mis_val_table.rename(\n",
    "        columns = {0 : 'Missing Values', 1 : '% of Total Values'})\n",
    "        \n",
    "        # Sort the table by percentage of missing descending\n",
    "        mis_val_table_ren_columns = mis_val_table_ren_columns[\n",
    "            mis_val_table_ren_columns.iloc[:,1] != 0].sort_values(\n",
    "        '% of Total Values', ascending=False).round(1)\n",
    "        \n",
    "        # Print some summary information\n",
    "        print (\"Your selected dataframe has \" + str(df.shape[1]) + \" columns.\\n\"      \n",
    "            \"There are \" + str(mis_val_table_ren_columns.shape[0]) +\n",
    "              \" columns that have missing values.\")\n",
    "        \n",
    "        # Return the dataframe with missing information\n",
    "        return mis_val_table_ren_columns"
   ]
  },
  {
   "cell_type": "code",
   "execution_count": 21,
   "metadata": {},
   "outputs": [
    {
     "name": "stdout",
     "output_type": "stream",
     "text": [
      "Your selected dataframe has 506 columns.\n",
      "There are 320 columns that have missing values.\n"
     ]
    },
    {
     "data": {
      "text/html": [
       "<div>\n",
       "<style>\n",
       "    .dataframe thead tr:only-child th {\n",
       "        text-align: right;\n",
       "    }\n",
       "\n",
       "    .dataframe thead th {\n",
       "        text-align: left;\n",
       "    }\n",
       "\n",
       "    .dataframe tbody tr th {\n",
       "        vertical-align: top;\n",
       "    }\n",
       "</style>\n",
       "<table border=\"1\" class=\"dataframe\">\n",
       "  <thead>\n",
       "    <tr style=\"text-align: right;\">\n",
       "      <th></th>\n",
       "      <th>Missing Values</th>\n",
       "      <th>% of Total Values</th>\n",
       "    </tr>\n",
       "  </thead>\n",
       "  <tbody>\n",
       "    <tr>\n",
       "      <th>avg_prev_RATE_INTEREST_PRIMARY</th>\n",
       "      <td>350534</td>\n",
       "      <td>98.4</td>\n",
       "    </tr>\n",
       "    <tr>\n",
       "      <th>avg_prev_RATE_INTEREST_PRIVILEGED</th>\n",
       "      <td>350534</td>\n",
       "      <td>98.4</td>\n",
       "    </tr>\n",
       "    <tr>\n",
       "      <th>avg_cc_bal_AMT_PAYMENT_CURRENT</th>\n",
       "      <td>284135</td>\n",
       "      <td>79.8</td>\n",
       "    </tr>\n",
       "    <tr>\n",
       "      <th>avg_cc_bal_CNT_DRAWINGS_ATM_CURRENT</th>\n",
       "      <td>284061</td>\n",
       "      <td>79.7</td>\n",
       "    </tr>\n",
       "    <tr>\n",
       "      <th>avg_cc_bal_AMT_DRAWINGS_ATM_CURRENT</th>\n",
       "      <td>284061</td>\n",
       "      <td>79.7</td>\n",
       "    </tr>\n",
       "    <tr>\n",
       "      <th>avg_cc_bal_AMT_DRAWINGS_POS_CURRENT</th>\n",
       "      <td>284061</td>\n",
       "      <td>79.7</td>\n",
       "    </tr>\n",
       "    <tr>\n",
       "      <th>avg_cc_bal_CNT_DRAWINGS_POS_CURRENT</th>\n",
       "      <td>284061</td>\n",
       "      <td>79.7</td>\n",
       "    </tr>\n",
       "    <tr>\n",
       "      <th>avg_cc_bal_CNT_DRAWINGS_OTHER_CURRENT</th>\n",
       "      <td>284061</td>\n",
       "      <td>79.7</td>\n",
       "    </tr>\n",
       "    <tr>\n",
       "      <th>avg_cc_bal_AMT_DRAWINGS_OTHER_CURRENT</th>\n",
       "      <td>284061</td>\n",
       "      <td>79.7</td>\n",
       "    </tr>\n",
       "    <tr>\n",
       "      <th>avg_cc_bal_AMT_PAYMENT_TOTAL_CURRENT</th>\n",
       "      <td>252697</td>\n",
       "      <td>70.9</td>\n",
       "    </tr>\n",
       "    <tr>\n",
       "      <th>avg_cc_bal_AMT_RECEIVABLE_PRINCIPAL</th>\n",
       "      <td>252697</td>\n",
       "      <td>70.9</td>\n",
       "    </tr>\n",
       "    <tr>\n",
       "      <th>avg_cc_bal_AMT_RECIVABLE</th>\n",
       "      <td>252697</td>\n",
       "      <td>70.9</td>\n",
       "    </tr>\n",
       "    <tr>\n",
       "      <th>avg_cc_bal_NAME_CONTRACT_STATUS_Completed</th>\n",
       "      <td>252697</td>\n",
       "      <td>70.9</td>\n",
       "    </tr>\n",
       "    <tr>\n",
       "      <th>avg_cc_bal_NAME_CONTRACT_STATUS_Approved</th>\n",
       "      <td>252697</td>\n",
       "      <td>70.9</td>\n",
       "    </tr>\n",
       "    <tr>\n",
       "      <th>avg_cc_bal_NAME_CONTRACT_STATUS_Demand</th>\n",
       "      <td>252697</td>\n",
       "      <td>70.9</td>\n",
       "    </tr>\n",
       "    <tr>\n",
       "      <th>avg_cc_bal_AMT_INST_MIN_REGULARITY</th>\n",
       "      <td>252697</td>\n",
       "      <td>70.9</td>\n",
       "    </tr>\n",
       "    <tr>\n",
       "      <th>avg_cc_bal_CNT_DRAWINGS_CURRENT</th>\n",
       "      <td>252697</td>\n",
       "      <td>70.9</td>\n",
       "    </tr>\n",
       "    <tr>\n",
       "      <th>avg_cc_bal_NAME_CONTRACT_STATUS_Sent proposal</th>\n",
       "      <td>252697</td>\n",
       "      <td>70.9</td>\n",
       "    </tr>\n",
       "    <tr>\n",
       "      <th>avg_cc_bal_NAME_CONTRACT_STATUS_Refused</th>\n",
       "      <td>252697</td>\n",
       "      <td>70.9</td>\n",
       "    </tr>\n",
       "    <tr>\n",
       "      <th>avg_cc_bal_AMT_TOTAL_RECEIVABLE</th>\n",
       "      <td>252697</td>\n",
       "      <td>70.9</td>\n",
       "    </tr>\n",
       "    <tr>\n",
       "      <th>avg_cc_bal_SK_DPD</th>\n",
       "      <td>252697</td>\n",
       "      <td>70.9</td>\n",
       "    </tr>\n",
       "    <tr>\n",
       "      <th>avg_cc_bal_NAME_CONTRACT_STATUS_Active</th>\n",
       "      <td>252697</td>\n",
       "      <td>70.9</td>\n",
       "    </tr>\n",
       "    <tr>\n",
       "      <th>avg_cc_bal_AMT_BALANCE</th>\n",
       "      <td>252697</td>\n",
       "      <td>70.9</td>\n",
       "    </tr>\n",
       "    <tr>\n",
       "      <th>avg_cc_bal_CNT_INSTALMENT_MATURE_CUM</th>\n",
       "      <td>252697</td>\n",
       "      <td>70.9</td>\n",
       "    </tr>\n",
       "    <tr>\n",
       "      <th>avg_cc_bal_AMT_DRAWINGS_CURRENT</th>\n",
       "      <td>252697</td>\n",
       "      <td>70.9</td>\n",
       "    </tr>\n",
       "    <tr>\n",
       "      <th>avg_cc_bal_AMT_CREDIT_LIMIT_ACTUAL</th>\n",
       "      <td>252697</td>\n",
       "      <td>70.9</td>\n",
       "    </tr>\n",
       "    <tr>\n",
       "      <th>avg_cc_bal_SK_DPD_DEF</th>\n",
       "      <td>252697</td>\n",
       "      <td>70.9</td>\n",
       "    </tr>\n",
       "    <tr>\n",
       "      <th>avg_cc_bal_NAME_CONTRACT_STATUS_Signed</th>\n",
       "      <td>252697</td>\n",
       "      <td>70.9</td>\n",
       "    </tr>\n",
       "    <tr>\n",
       "      <th>avg_cc_bal_SK_ID_PREV</th>\n",
       "      <td>252697</td>\n",
       "      <td>70.9</td>\n",
       "    </tr>\n",
       "    <tr>\n",
       "      <th>avg_cc_bal_MONTHS_BALANCE</th>\n",
       "      <td>252697</td>\n",
       "      <td>70.9</td>\n",
       "    </tr>\n",
       "    <tr>\n",
       "      <th>...</th>\n",
       "      <td>...</td>\n",
       "      <td>...</td>\n",
       "    </tr>\n",
       "    <tr>\n",
       "      <th>avg_prev_CODE_REJECT_REASON_HC</th>\n",
       "      <td>17398</td>\n",
       "      <td>4.9</td>\n",
       "    </tr>\n",
       "    <tr>\n",
       "      <th>avg_prev_CODE_REJECT_REASON_LIMIT</th>\n",
       "      <td>17398</td>\n",
       "      <td>4.9</td>\n",
       "    </tr>\n",
       "    <tr>\n",
       "      <th>avg_prev_CODE_REJECT_REASON_SCO</th>\n",
       "      <td>17398</td>\n",
       "      <td>4.9</td>\n",
       "    </tr>\n",
       "    <tr>\n",
       "      <th>avg_prev_CODE_REJECT_REASON_SCOFR</th>\n",
       "      <td>17398</td>\n",
       "      <td>4.9</td>\n",
       "    </tr>\n",
       "    <tr>\n",
       "      <th>avg_prev_CODE_REJECT_REASON_SYSTEM</th>\n",
       "      <td>17398</td>\n",
       "      <td>4.9</td>\n",
       "    </tr>\n",
       "    <tr>\n",
       "      <th>avg_prev_CODE_REJECT_REASON_VERIF</th>\n",
       "      <td>17398</td>\n",
       "      <td>4.9</td>\n",
       "    </tr>\n",
       "    <tr>\n",
       "      <th>avg_prev_CODE_REJECT_REASON_XAP</th>\n",
       "      <td>17398</td>\n",
       "      <td>4.9</td>\n",
       "    </tr>\n",
       "    <tr>\n",
       "      <th>avg_prev_CODE_REJECT_REASON_XNA</th>\n",
       "      <td>17398</td>\n",
       "      <td>4.9</td>\n",
       "    </tr>\n",
       "    <tr>\n",
       "      <th>avg_prev_NAME_TYPE_SUITE_Children</th>\n",
       "      <td>17398</td>\n",
       "      <td>4.9</td>\n",
       "    </tr>\n",
       "    <tr>\n",
       "      <th>avg_prev_NAME_TYPE_SUITE_Family</th>\n",
       "      <td>17398</td>\n",
       "      <td>4.9</td>\n",
       "    </tr>\n",
       "    <tr>\n",
       "      <th>avg_prev_NAME_TYPE_SUITE_Group of people</th>\n",
       "      <td>17398</td>\n",
       "      <td>4.9</td>\n",
       "    </tr>\n",
       "    <tr>\n",
       "      <th>avg_prev_NAME_TYPE_SUITE_Other_A</th>\n",
       "      <td>17398</td>\n",
       "      <td>4.9</td>\n",
       "    </tr>\n",
       "    <tr>\n",
       "      <th>avg_prev_NAME_TYPE_SUITE_Other_B</th>\n",
       "      <td>17398</td>\n",
       "      <td>4.9</td>\n",
       "    </tr>\n",
       "    <tr>\n",
       "      <th>avg_prev_NAME_CASH_LOAN_PURPOSE_Hobby</th>\n",
       "      <td>17398</td>\n",
       "      <td>4.9</td>\n",
       "    </tr>\n",
       "    <tr>\n",
       "      <th>avg_inst_DAYS_ENTRY_PAYMENT</th>\n",
       "      <td>16677</td>\n",
       "      <td>4.7</td>\n",
       "    </tr>\n",
       "    <tr>\n",
       "      <th>avg_inst_AMT_PAYMENT</th>\n",
       "      <td>16677</td>\n",
       "      <td>4.7</td>\n",
       "    </tr>\n",
       "    <tr>\n",
       "      <th>avg_inst_SK_ID_PREV</th>\n",
       "      <td>16668</td>\n",
       "      <td>4.7</td>\n",
       "    </tr>\n",
       "    <tr>\n",
       "      <th>avg_inst_NUM_INSTALMENT_VERSION</th>\n",
       "      <td>16668</td>\n",
       "      <td>4.7</td>\n",
       "    </tr>\n",
       "    <tr>\n",
       "      <th>avg_inst_NUM_INSTALMENT_NUMBER</th>\n",
       "      <td>16668</td>\n",
       "      <td>4.7</td>\n",
       "    </tr>\n",
       "    <tr>\n",
       "      <th>avg_inst_DAYS_INSTALMENT</th>\n",
       "      <td>16668</td>\n",
       "      <td>4.7</td>\n",
       "    </tr>\n",
       "    <tr>\n",
       "      <th>avg_inst_AMT_INSTALMENT</th>\n",
       "      <td>16668</td>\n",
       "      <td>4.7</td>\n",
       "    </tr>\n",
       "    <tr>\n",
       "      <th>DEF_60_CNT_SOCIAL_CIRCLE</th>\n",
       "      <td>1050</td>\n",
       "      <td>0.3</td>\n",
       "    </tr>\n",
       "    <tr>\n",
       "      <th>OBS_60_CNT_SOCIAL_CIRCLE</th>\n",
       "      <td>1050</td>\n",
       "      <td>0.3</td>\n",
       "    </tr>\n",
       "    <tr>\n",
       "      <th>DEF_30_CNT_SOCIAL_CIRCLE</th>\n",
       "      <td>1050</td>\n",
       "      <td>0.3</td>\n",
       "    </tr>\n",
       "    <tr>\n",
       "      <th>OBS_30_CNT_SOCIAL_CIRCLE</th>\n",
       "      <td>1050</td>\n",
       "      <td>0.3</td>\n",
       "    </tr>\n",
       "    <tr>\n",
       "      <th>EXT_SOURCE_2</th>\n",
       "      <td>668</td>\n",
       "      <td>0.2</td>\n",
       "    </tr>\n",
       "    <tr>\n",
       "      <th>AMT_GOODS_PRICE</th>\n",
       "      <td>278</td>\n",
       "      <td>0.1</td>\n",
       "    </tr>\n",
       "    <tr>\n",
       "      <th>AMT_ANNUITY</th>\n",
       "      <td>36</td>\n",
       "      <td>0.0</td>\n",
       "    </tr>\n",
       "    <tr>\n",
       "      <th>CNT_FAM_MEMBERS</th>\n",
       "      <td>2</td>\n",
       "      <td>0.0</td>\n",
       "    </tr>\n",
       "    <tr>\n",
       "      <th>DAYS_LAST_PHONE_CHANGE</th>\n",
       "      <td>1</td>\n",
       "      <td>0.0</td>\n",
       "    </tr>\n",
       "  </tbody>\n",
       "</table>\n",
       "<p>320 rows × 2 columns</p>\n",
       "</div>"
      ],
      "text/plain": [
       "                                               Missing Values  \\\n",
       "avg_prev_RATE_INTEREST_PRIMARY                         350534   \n",
       "avg_prev_RATE_INTEREST_PRIVILEGED                      350534   \n",
       "avg_cc_bal_AMT_PAYMENT_CURRENT                         284135   \n",
       "avg_cc_bal_CNT_DRAWINGS_ATM_CURRENT                    284061   \n",
       "avg_cc_bal_AMT_DRAWINGS_ATM_CURRENT                    284061   \n",
       "avg_cc_bal_AMT_DRAWINGS_POS_CURRENT                    284061   \n",
       "avg_cc_bal_CNT_DRAWINGS_POS_CURRENT                    284061   \n",
       "avg_cc_bal_CNT_DRAWINGS_OTHER_CURRENT                  284061   \n",
       "avg_cc_bal_AMT_DRAWINGS_OTHER_CURRENT                  284061   \n",
       "avg_cc_bal_AMT_PAYMENT_TOTAL_CURRENT                   252697   \n",
       "avg_cc_bal_AMT_RECEIVABLE_PRINCIPAL                    252697   \n",
       "avg_cc_bal_AMT_RECIVABLE                               252697   \n",
       "avg_cc_bal_NAME_CONTRACT_STATUS_Completed              252697   \n",
       "avg_cc_bal_NAME_CONTRACT_STATUS_Approved               252697   \n",
       "avg_cc_bal_NAME_CONTRACT_STATUS_Demand                 252697   \n",
       "avg_cc_bal_AMT_INST_MIN_REGULARITY                     252697   \n",
       "avg_cc_bal_CNT_DRAWINGS_CURRENT                        252697   \n",
       "avg_cc_bal_NAME_CONTRACT_STATUS_Sent proposal          252697   \n",
       "avg_cc_bal_NAME_CONTRACT_STATUS_Refused                252697   \n",
       "avg_cc_bal_AMT_TOTAL_RECEIVABLE                        252697   \n",
       "avg_cc_bal_SK_DPD                                      252697   \n",
       "avg_cc_bal_NAME_CONTRACT_STATUS_Active                 252697   \n",
       "avg_cc_bal_AMT_BALANCE                                 252697   \n",
       "avg_cc_bal_CNT_INSTALMENT_MATURE_CUM                   252697   \n",
       "avg_cc_bal_AMT_DRAWINGS_CURRENT                        252697   \n",
       "avg_cc_bal_AMT_CREDIT_LIMIT_ACTUAL                     252697   \n",
       "avg_cc_bal_SK_DPD_DEF                                  252697   \n",
       "avg_cc_bal_NAME_CONTRACT_STATUS_Signed                 252697   \n",
       "avg_cc_bal_SK_ID_PREV                                  252697   \n",
       "avg_cc_bal_MONTHS_BALANCE                              252697   \n",
       "...                                                       ...   \n",
       "avg_prev_CODE_REJECT_REASON_HC                          17398   \n",
       "avg_prev_CODE_REJECT_REASON_LIMIT                       17398   \n",
       "avg_prev_CODE_REJECT_REASON_SCO                         17398   \n",
       "avg_prev_CODE_REJECT_REASON_SCOFR                       17398   \n",
       "avg_prev_CODE_REJECT_REASON_SYSTEM                      17398   \n",
       "avg_prev_CODE_REJECT_REASON_VERIF                       17398   \n",
       "avg_prev_CODE_REJECT_REASON_XAP                         17398   \n",
       "avg_prev_CODE_REJECT_REASON_XNA                         17398   \n",
       "avg_prev_NAME_TYPE_SUITE_Children                       17398   \n",
       "avg_prev_NAME_TYPE_SUITE_Family                         17398   \n",
       "avg_prev_NAME_TYPE_SUITE_Group of people                17398   \n",
       "avg_prev_NAME_TYPE_SUITE_Other_A                        17398   \n",
       "avg_prev_NAME_TYPE_SUITE_Other_B                        17398   \n",
       "avg_prev_NAME_CASH_LOAN_PURPOSE_Hobby                   17398   \n",
       "avg_inst_DAYS_ENTRY_PAYMENT                             16677   \n",
       "avg_inst_AMT_PAYMENT                                    16677   \n",
       "avg_inst_SK_ID_PREV                                     16668   \n",
       "avg_inst_NUM_INSTALMENT_VERSION                         16668   \n",
       "avg_inst_NUM_INSTALMENT_NUMBER                          16668   \n",
       "avg_inst_DAYS_INSTALMENT                                16668   \n",
       "avg_inst_AMT_INSTALMENT                                 16668   \n",
       "DEF_60_CNT_SOCIAL_CIRCLE                                 1050   \n",
       "OBS_60_CNT_SOCIAL_CIRCLE                                 1050   \n",
       "DEF_30_CNT_SOCIAL_CIRCLE                                 1050   \n",
       "OBS_30_CNT_SOCIAL_CIRCLE                                 1050   \n",
       "EXT_SOURCE_2                                              668   \n",
       "AMT_GOODS_PRICE                                           278   \n",
       "AMT_ANNUITY                                                36   \n",
       "CNT_FAM_MEMBERS                                             2   \n",
       "DAYS_LAST_PHONE_CHANGE                                      1   \n",
       "\n",
       "                                               % of Total Values  \n",
       "avg_prev_RATE_INTEREST_PRIMARY                              98.4  \n",
       "avg_prev_RATE_INTEREST_PRIVILEGED                           98.4  \n",
       "avg_cc_bal_AMT_PAYMENT_CURRENT                              79.8  \n",
       "avg_cc_bal_CNT_DRAWINGS_ATM_CURRENT                         79.7  \n",
       "avg_cc_bal_AMT_DRAWINGS_ATM_CURRENT                         79.7  \n",
       "avg_cc_bal_AMT_DRAWINGS_POS_CURRENT                         79.7  \n",
       "avg_cc_bal_CNT_DRAWINGS_POS_CURRENT                         79.7  \n",
       "avg_cc_bal_CNT_DRAWINGS_OTHER_CURRENT                       79.7  \n",
       "avg_cc_bal_AMT_DRAWINGS_OTHER_CURRENT                       79.7  \n",
       "avg_cc_bal_AMT_PAYMENT_TOTAL_CURRENT                        70.9  \n",
       "avg_cc_bal_AMT_RECEIVABLE_PRINCIPAL                         70.9  \n",
       "avg_cc_bal_AMT_RECIVABLE                                    70.9  \n",
       "avg_cc_bal_NAME_CONTRACT_STATUS_Completed                   70.9  \n",
       "avg_cc_bal_NAME_CONTRACT_STATUS_Approved                    70.9  \n",
       "avg_cc_bal_NAME_CONTRACT_STATUS_Demand                      70.9  \n",
       "avg_cc_bal_AMT_INST_MIN_REGULARITY                          70.9  \n",
       "avg_cc_bal_CNT_DRAWINGS_CURRENT                             70.9  \n",
       "avg_cc_bal_NAME_CONTRACT_STATUS_Sent proposal               70.9  \n",
       "avg_cc_bal_NAME_CONTRACT_STATUS_Refused                     70.9  \n",
       "avg_cc_bal_AMT_TOTAL_RECEIVABLE                             70.9  \n",
       "avg_cc_bal_SK_DPD                                           70.9  \n",
       "avg_cc_bal_NAME_CONTRACT_STATUS_Active                      70.9  \n",
       "avg_cc_bal_AMT_BALANCE                                      70.9  \n",
       "avg_cc_bal_CNT_INSTALMENT_MATURE_CUM                        70.9  \n",
       "avg_cc_bal_AMT_DRAWINGS_CURRENT                             70.9  \n",
       "avg_cc_bal_AMT_CREDIT_LIMIT_ACTUAL                          70.9  \n",
       "avg_cc_bal_SK_DPD_DEF                                       70.9  \n",
       "avg_cc_bal_NAME_CONTRACT_STATUS_Signed                      70.9  \n",
       "avg_cc_bal_SK_ID_PREV                                       70.9  \n",
       "avg_cc_bal_MONTHS_BALANCE                                   70.9  \n",
       "...                                                          ...  \n",
       "avg_prev_CODE_REJECT_REASON_HC                               4.9  \n",
       "avg_prev_CODE_REJECT_REASON_LIMIT                            4.9  \n",
       "avg_prev_CODE_REJECT_REASON_SCO                              4.9  \n",
       "avg_prev_CODE_REJECT_REASON_SCOFR                            4.9  \n",
       "avg_prev_CODE_REJECT_REASON_SYSTEM                           4.9  \n",
       "avg_prev_CODE_REJECT_REASON_VERIF                            4.9  \n",
       "avg_prev_CODE_REJECT_REASON_XAP                              4.9  \n",
       "avg_prev_CODE_REJECT_REASON_XNA                              4.9  \n",
       "avg_prev_NAME_TYPE_SUITE_Children                            4.9  \n",
       "avg_prev_NAME_TYPE_SUITE_Family                              4.9  \n",
       "avg_prev_NAME_TYPE_SUITE_Group of people                     4.9  \n",
       "avg_prev_NAME_TYPE_SUITE_Other_A                             4.9  \n",
       "avg_prev_NAME_TYPE_SUITE_Other_B                             4.9  \n",
       "avg_prev_NAME_CASH_LOAN_PURPOSE_Hobby                        4.9  \n",
       "avg_inst_DAYS_ENTRY_PAYMENT                                  4.7  \n",
       "avg_inst_AMT_PAYMENT                                         4.7  \n",
       "avg_inst_SK_ID_PREV                                          4.7  \n",
       "avg_inst_NUM_INSTALMENT_VERSION                              4.7  \n",
       "avg_inst_NUM_INSTALMENT_NUMBER                               4.7  \n",
       "avg_inst_DAYS_INSTALMENT                                     4.7  \n",
       "avg_inst_AMT_INSTALMENT                                      4.7  \n",
       "DEF_60_CNT_SOCIAL_CIRCLE                                     0.3  \n",
       "OBS_60_CNT_SOCIAL_CIRCLE                                     0.3  \n",
       "DEF_30_CNT_SOCIAL_CIRCLE                                     0.3  \n",
       "OBS_30_CNT_SOCIAL_CIRCLE                                     0.3  \n",
       "EXT_SOURCE_2                                                 0.2  \n",
       "AMT_GOODS_PRICE                                              0.1  \n",
       "AMT_ANNUITY                                                  0.0  \n",
       "CNT_FAM_MEMBERS                                              0.0  \n",
       "DAYS_LAST_PHONE_CHANGE                                       0.0  \n",
       "\n",
       "[320 rows x 2 columns]"
      ]
     },
     "execution_count": 21,
     "metadata": {},
     "output_type": "execute_result"
    }
   ],
   "source": [
    "missing_values_table(data)"
   ]
  },
  {
   "cell_type": "code",
   "execution_count": 22,
   "metadata": {
    "_uuid": "19d10609691b32dace8ba4f64762662b68842fec"
   },
   "outputs": [
    {
     "name": "stdout",
     "output_type": "stream",
     "text": [
      "Your selected dataframe has 506 columns.\n",
      "There are 320 columns that have missing values.\n",
      "We will remove 57 columns.\n"
     ]
    }
   ],
   "source": [
    "# Get the columns with > 60% missing\n",
    "missing_df = missing_values_table(data);\n",
    "missing_columns = list(missing_df[missing_df['% of Total Values'] > 60].index)\n",
    "print('We will remove %d columns.' % len(missing_columns))"
   ]
  },
  {
   "cell_type": "code",
   "execution_count": 23,
   "metadata": {
    "_uuid": "0e94bdf9230484e3fa1efe7649271a127d94c068",
    "collapsed": true
   },
   "outputs": [],
   "source": [
    "# Drop the columns\n",
    "data = data.drop(labels = list(missing_columns), axis=1)"
   ]
  },
  {
   "cell_type": "code",
   "execution_count": 24,
   "metadata": {
    "_uuid": "3a2978094763039217249a8b264b312d9855ad95"
   },
   "outputs": [],
   "source": [
    "missing_data = data[data.columns[data.isnull().sum()>0]]"
   ]
  },
  {
   "cell_type": "code",
   "execution_count": 30,
   "metadata": {
    "_uuid": "86199f92764c4300316ba3044285f4ac75a9b547"
   },
   "outputs": [],
   "source": [
    "data = data.fillna(data.mean())"
   ]
  },
  {
   "cell_type": "code",
   "execution_count": 47,
   "metadata": {
    "_uuid": "40dd042af4aa9c0be076cb6cbec33fa9e80b62e5"
   },
   "outputs": [],
   "source": [
    "ignore_features = ['SK_ID_CURR','is_train', 'is_test']\n",
    "relevant_features = [col for col in data.columns if col not in ignore_features]\n",
    "X_train = data[data['is_train']==1][relevant_features]\n",
    "test_tf = data[data['is_test']==1][relevant_features]"
   ]
  },
  {
   "cell_type": "code",
   "execution_count": 48,
   "metadata": {
    "_uuid": "660a536e8f524fbe02251f283d10471dd59a88a8"
   },
   "outputs": [
    {
     "data": {
      "text/plain": [
       "(307511, 446)"
      ]
     },
     "execution_count": 48,
     "metadata": {},
     "output_type": "execute_result"
    }
   ],
   "source": [
    "X_train.shape"
   ]
  },
  {
   "cell_type": "code",
   "execution_count": 49,
   "metadata": {
    "_uuid": "190bca2e5145811d75d2c1f0c1aad75bfc6341d0"
   },
   "outputs": [
    {
     "data": {
      "text/plain": [
       "(48744, 446)"
      ]
     },
     "execution_count": 49,
     "metadata": {},
     "output_type": "execute_result"
    }
   ],
   "source": [
    "test_tf.shape"
   ]
  },
  {
   "cell_type": "code",
   "execution_count": 50,
   "metadata": {},
   "outputs": [
    {
     "data": {
      "text/html": [
       "<div>\n",
       "<style>\n",
       "    .dataframe thead tr:only-child th {\n",
       "        text-align: right;\n",
       "    }\n",
       "\n",
       "    .dataframe thead th {\n",
       "        text-align: left;\n",
       "    }\n",
       "\n",
       "    .dataframe tbody tr th {\n",
       "        vertical-align: top;\n",
       "    }\n",
       "</style>\n",
       "<table border=\"1\" class=\"dataframe\">\n",
       "  <thead>\n",
       "    <tr style=\"text-align: right;\">\n",
       "      <th></th>\n",
       "      <th>CNT_CHILDREN</th>\n",
       "      <th>AMT_INCOME_TOTAL</th>\n",
       "      <th>AMT_CREDIT</th>\n",
       "      <th>AMT_ANNUITY</th>\n",
       "      <th>AMT_GOODS_PRICE</th>\n",
       "      <th>REGION_POPULATION_RELATIVE</th>\n",
       "      <th>DAYS_BIRTH</th>\n",
       "      <th>DAYS_EMPLOYED</th>\n",
       "      <th>DAYS_REGISTRATION</th>\n",
       "      <th>DAYS_ID_PUBLISH</th>\n",
       "      <th>...</th>\n",
       "      <th>avg_pos_NAME_CONTRACT_STATUS_Returned to the store</th>\n",
       "      <th>avg_pos_NAME_CONTRACT_STATUS_Signed</th>\n",
       "      <th>avg_pos_NAME_CONTRACT_STATUS_XNA</th>\n",
       "      <th>avg_inst_SK_ID_PREV</th>\n",
       "      <th>avg_inst_NUM_INSTALMENT_VERSION</th>\n",
       "      <th>avg_inst_NUM_INSTALMENT_NUMBER</th>\n",
       "      <th>avg_inst_DAYS_INSTALMENT</th>\n",
       "      <th>avg_inst_DAYS_ENTRY_PAYMENT</th>\n",
       "      <th>avg_inst_AMT_INSTALMENT</th>\n",
       "      <th>avg_inst_AMT_PAYMENT</th>\n",
       "    </tr>\n",
       "  </thead>\n",
       "  <tbody>\n",
       "    <tr>\n",
       "      <th>307511</th>\n",
       "      <td>0</td>\n",
       "      <td>135000.0</td>\n",
       "      <td>568800.0</td>\n",
       "      <td>20560.5</td>\n",
       "      <td>450000.0</td>\n",
       "      <td>0.018850</td>\n",
       "      <td>-19241</td>\n",
       "      <td>-2329</td>\n",
       "      <td>-5170.0</td>\n",
       "      <td>-812</td>\n",
       "      <td>...</td>\n",
       "      <td>0.0</td>\n",
       "      <td>0.000000</td>\n",
       "      <td>0.0</td>\n",
       "      <td>7.0</td>\n",
       "      <td>1.142857</td>\n",
       "      <td>2.714286</td>\n",
       "      <td>-2187.714286</td>\n",
       "      <td>-2195.000000</td>\n",
       "      <td>5885.132143</td>\n",
       "      <td>5885.132143</td>\n",
       "    </tr>\n",
       "    <tr>\n",
       "      <th>307512</th>\n",
       "      <td>0</td>\n",
       "      <td>99000.0</td>\n",
       "      <td>222768.0</td>\n",
       "      <td>17370.0</td>\n",
       "      <td>180000.0</td>\n",
       "      <td>0.035792</td>\n",
       "      <td>-18064</td>\n",
       "      <td>-4469</td>\n",
       "      <td>-9118.0</td>\n",
       "      <td>-1623</td>\n",
       "      <td>...</td>\n",
       "      <td>0.0</td>\n",
       "      <td>0.090909</td>\n",
       "      <td>0.0</td>\n",
       "      <td>9.0</td>\n",
       "      <td>1.111111</td>\n",
       "      <td>5.000000</td>\n",
       "      <td>-586.000000</td>\n",
       "      <td>-609.555556</td>\n",
       "      <td>6240.205000</td>\n",
       "      <td>6240.205000</td>\n",
       "    </tr>\n",
       "    <tr>\n",
       "      <th>307513</th>\n",
       "      <td>0</td>\n",
       "      <td>202500.0</td>\n",
       "      <td>663264.0</td>\n",
       "      <td>69777.0</td>\n",
       "      <td>630000.0</td>\n",
       "      <td>0.019101</td>\n",
       "      <td>-20038</td>\n",
       "      <td>-4458</td>\n",
       "      <td>-2175.0</td>\n",
       "      <td>-3503</td>\n",
       "      <td>...</td>\n",
       "      <td>0.0</td>\n",
       "      <td>0.027778</td>\n",
       "      <td>0.0</td>\n",
       "      <td>155.0</td>\n",
       "      <td>0.277419</td>\n",
       "      <td>43.729032</td>\n",
       "      <td>-1352.929032</td>\n",
       "      <td>-1358.109677</td>\n",
       "      <td>10897.898516</td>\n",
       "      <td>9740.235774</td>\n",
       "    </tr>\n",
       "    <tr>\n",
       "      <th>307514</th>\n",
       "      <td>2</td>\n",
       "      <td>315000.0</td>\n",
       "      <td>1575000.0</td>\n",
       "      <td>49018.5</td>\n",
       "      <td>1575000.0</td>\n",
       "      <td>0.026392</td>\n",
       "      <td>-13976</td>\n",
       "      <td>-1866</td>\n",
       "      <td>-2000.0</td>\n",
       "      <td>-4208</td>\n",
       "      <td>...</td>\n",
       "      <td>0.0</td>\n",
       "      <td>0.000000</td>\n",
       "      <td>0.0</td>\n",
       "      <td>113.0</td>\n",
       "      <td>0.460177</td>\n",
       "      <td>30.504425</td>\n",
       "      <td>-855.548673</td>\n",
       "      <td>-858.548673</td>\n",
       "      <td>4979.282257</td>\n",
       "      <td>4356.731549</td>\n",
       "    </tr>\n",
       "    <tr>\n",
       "      <th>307515</th>\n",
       "      <td>1</td>\n",
       "      <td>180000.0</td>\n",
       "      <td>625500.0</td>\n",
       "      <td>32067.0</td>\n",
       "      <td>625500.0</td>\n",
       "      <td>0.010032</td>\n",
       "      <td>-13040</td>\n",
       "      <td>-2191</td>\n",
       "      <td>-4000.0</td>\n",
       "      <td>-4262</td>\n",
       "      <td>...</td>\n",
       "      <td>0.0</td>\n",
       "      <td>0.000000</td>\n",
       "      <td>0.0</td>\n",
       "      <td>12.0</td>\n",
       "      <td>1.000000</td>\n",
       "      <td>6.500000</td>\n",
       "      <td>-622.000000</td>\n",
       "      <td>-634.250000</td>\n",
       "      <td>11100.337500</td>\n",
       "      <td>11100.337500</td>\n",
       "    </tr>\n",
       "  </tbody>\n",
       "</table>\n",
       "<p>5 rows × 446 columns</p>\n",
       "</div>"
      ],
      "text/plain": [
       "        CNT_CHILDREN  AMT_INCOME_TOTAL  AMT_CREDIT  AMT_ANNUITY  \\\n",
       "307511             0          135000.0    568800.0      20560.5   \n",
       "307512             0           99000.0    222768.0      17370.0   \n",
       "307513             0          202500.0    663264.0      69777.0   \n",
       "307514             2          315000.0   1575000.0      49018.5   \n",
       "307515             1          180000.0    625500.0      32067.0   \n",
       "\n",
       "        AMT_GOODS_PRICE  REGION_POPULATION_RELATIVE  DAYS_BIRTH  \\\n",
       "307511         450000.0                    0.018850      -19241   \n",
       "307512         180000.0                    0.035792      -18064   \n",
       "307513         630000.0                    0.019101      -20038   \n",
       "307514        1575000.0                    0.026392      -13976   \n",
       "307515         625500.0                    0.010032      -13040   \n",
       "\n",
       "        DAYS_EMPLOYED  DAYS_REGISTRATION  DAYS_ID_PUBLISH  \\\n",
       "307511          -2329            -5170.0             -812   \n",
       "307512          -4469            -9118.0            -1623   \n",
       "307513          -4458            -2175.0            -3503   \n",
       "307514          -1866            -2000.0            -4208   \n",
       "307515          -2191            -4000.0            -4262   \n",
       "\n",
       "                ...           \\\n",
       "307511          ...            \n",
       "307512          ...            \n",
       "307513          ...            \n",
       "307514          ...            \n",
       "307515          ...            \n",
       "\n",
       "        avg_pos_NAME_CONTRACT_STATUS_Returned to the store  \\\n",
       "307511                                                0.0    \n",
       "307512                                                0.0    \n",
       "307513                                                0.0    \n",
       "307514                                                0.0    \n",
       "307515                                                0.0    \n",
       "\n",
       "        avg_pos_NAME_CONTRACT_STATUS_Signed  avg_pos_NAME_CONTRACT_STATUS_XNA  \\\n",
       "307511                             0.000000                               0.0   \n",
       "307512                             0.090909                               0.0   \n",
       "307513                             0.027778                               0.0   \n",
       "307514                             0.000000                               0.0   \n",
       "307515                             0.000000                               0.0   \n",
       "\n",
       "        avg_inst_SK_ID_PREV  avg_inst_NUM_INSTALMENT_VERSION  \\\n",
       "307511                  7.0                         1.142857   \n",
       "307512                  9.0                         1.111111   \n",
       "307513                155.0                         0.277419   \n",
       "307514                113.0                         0.460177   \n",
       "307515                 12.0                         1.000000   \n",
       "\n",
       "        avg_inst_NUM_INSTALMENT_NUMBER  avg_inst_DAYS_INSTALMENT  \\\n",
       "307511                        2.714286              -2187.714286   \n",
       "307512                        5.000000               -586.000000   \n",
       "307513                       43.729032              -1352.929032   \n",
       "307514                       30.504425               -855.548673   \n",
       "307515                        6.500000               -622.000000   \n",
       "\n",
       "        avg_inst_DAYS_ENTRY_PAYMENT  avg_inst_AMT_INSTALMENT  \\\n",
       "307511                 -2195.000000              5885.132143   \n",
       "307512                  -609.555556              6240.205000   \n",
       "307513                 -1358.109677             10897.898516   \n",
       "307514                  -858.548673              4979.282257   \n",
       "307515                  -634.250000             11100.337500   \n",
       "\n",
       "        avg_inst_AMT_PAYMENT  \n",
       "307511           5885.132143  \n",
       "307512           6240.205000  \n",
       "307513           9740.235774  \n",
       "307514           4356.731549  \n",
       "307515          11100.337500  \n",
       "\n",
       "[5 rows x 446 columns]"
      ]
     },
     "execution_count": 50,
     "metadata": {},
     "output_type": "execute_result"
    }
   ],
   "source": [
    "test_tf.head()"
   ]
  },
  {
   "cell_type": "code",
   "execution_count": 200,
   "metadata": {
    "collapsed": true
   },
   "outputs": [],
   "source": [
    "#x_train, x_test, y_train, y_test = train_test_split(X_train, y_train, test_size=.20)"
   ]
  },
  {
   "cell_type": "code",
   "execution_count": 51,
   "metadata": {},
   "outputs": [],
   "source": [
    "sc = StandardScaler()\n",
    "X_train = sc.fit_transform(X_train)\n",
    "#x_test = sc.transform(x_test)\n",
    "test_tf = sc.transform(test_tf)"
   ]
  },
  {
   "cell_type": "code",
   "execution_count": 52,
   "metadata": {},
   "outputs": [],
   "source": [
    "input_dim = X_train.shape[1]"
   ]
  },
  {
   "cell_type": "markdown",
   "metadata": {},
   "source": [
    "## Building ANN model\n",
    "Running this in Kaggle, so ignore these errors, theyre from me stopping the Jupyter kernel"
   ]
  },
  {
   "cell_type": "code",
   "execution_count": 53,
   "metadata": {},
   "outputs": [],
   "source": [
    "clf = Sequential()\n",
    "clf.add(Dense(units=6, kernel_initializer='uniform', activation='relu', input_dim = input_dim))\n",
    "clf.add(Dense(units=6, kernel_initializer='uniform', activation='relu'))\n",
    "clf.add(Dense(units=1, kernel_initializer='uniform', activation='sigmoid'))"
   ]
  },
  {
   "cell_type": "code",
   "execution_count": 204,
   "metadata": {},
   "outputs": [],
   "source": [
    "sgd = SGD(lr=0.1)\n",
    "clf.compile(optimizer = sgd, loss = 'binary_crossentropy', metrics = ['accuracy'])"
   ]
  },
  {
   "cell_type": "code",
   "execution_count": 207,
   "metadata": {
    "scrolled": true
   },
   "outputs": [
    {
     "name": "stdout",
     "output_type": "stream",
     "text": [
      "Train on 246008 samples, validate on 61503 samples\n",
      "Epoch 1/100\n",
      "246008/246008 [==============================] - 60s 245us/step - loss: 0.2540 - acc: 0.9185 - val_loss: 0.2540 - val_acc: 0.9206\n",
      "Epoch 2/100\n",
      "246008/246008 [==============================] - 55s 225us/step - loss: 0.2537 - acc: 0.9185 - val_loss: 0.2507 - val_acc: 0.9206\n",
      "Epoch 3/100\n",
      "246008/246008 [==============================] - 55s 222us/step - loss: 0.2536 - acc: 0.9185 - val_loss: 0.2491 - val_acc: 0.9206\n",
      "Epoch 4/100\n",
      "246008/246008 [==============================] - 59s 240us/step - loss: 0.2532 - acc: 0.9184 - val_loss: 0.2531 - val_acc: 0.9206\n",
      "Epoch 5/100\n",
      " 38520/246008 [===>..........................] - ETA: 46s - loss: 0.2535 - acc: 0.9178"
     ]
    },
    {
     "ename": "KeyboardInterrupt",
     "evalue": "",
     "output_type": "error",
     "traceback": [
      "\u001b[0;31m---------------------------------------------------------------------------\u001b[0m",
      "\u001b[0;31mKeyboardInterrupt\u001b[0m                         Traceback (most recent call last)",
      "\u001b[0;32m<ipython-input-207-d01c7ab6ba86>\u001b[0m in \u001b[0;36m<module>\u001b[0;34m()\u001b[0m\n\u001b[1;32m      1\u001b[0m \u001b[0mearlystopping\u001b[0m \u001b[0;34m=\u001b[0m \u001b[0mEarlyStopping\u001b[0m\u001b[0;34m(\u001b[0m\u001b[0mpatience\u001b[0m\u001b[0;34m=\u001b[0m\u001b[0;36m2\u001b[0m\u001b[0;34m)\u001b[0m\u001b[0;34m\u001b[0m\u001b[0m\n\u001b[0;32m----> 2\u001b[0;31m \u001b[0mclf\u001b[0m\u001b[0;34m.\u001b[0m\u001b[0mfit\u001b[0m\u001b[0;34m(\u001b[0m\u001b[0mX_train\u001b[0m\u001b[0;34m,\u001b[0m \u001b[0my_train\u001b[0m\u001b[0;34m,\u001b[0m \u001b[0mbatch_size\u001b[0m\u001b[0;34m=\u001b[0m\u001b[0;36m8\u001b[0m\u001b[0;34m,\u001b[0m \u001b[0mepochs\u001b[0m\u001b[0;34m=\u001b[0m\u001b[0;36m100\u001b[0m\u001b[0;34m,\u001b[0m \u001b[0mcallbacks\u001b[0m\u001b[0;34m=\u001b[0m\u001b[0;34m[\u001b[0m\u001b[0mearlystopping\u001b[0m\u001b[0;34m]\u001b[0m\u001b[0;34m,\u001b[0m \u001b[0mvalidation_split\u001b[0m\u001b[0;34m=\u001b[0m\u001b[0;36m0.2\u001b[0m\u001b[0;34m)\u001b[0m\u001b[0;34m\u001b[0m\u001b[0m\n\u001b[0m",
      "\u001b[0;32m/anaconda3/lib/python3.6/site-packages/keras/models.py\u001b[0m in \u001b[0;36mfit\u001b[0;34m(self, x, y, batch_size, epochs, verbose, callbacks, validation_split, validation_data, shuffle, class_weight, sample_weight, initial_epoch, steps_per_epoch, validation_steps, **kwargs)\u001b[0m\n\u001b[1;32m    961\u001b[0m                               \u001b[0minitial_epoch\u001b[0m\u001b[0;34m=\u001b[0m\u001b[0minitial_epoch\u001b[0m\u001b[0;34m,\u001b[0m\u001b[0;34m\u001b[0m\u001b[0m\n\u001b[1;32m    962\u001b[0m                               \u001b[0msteps_per_epoch\u001b[0m\u001b[0;34m=\u001b[0m\u001b[0msteps_per_epoch\u001b[0m\u001b[0;34m,\u001b[0m\u001b[0;34m\u001b[0m\u001b[0m\n\u001b[0;32m--> 963\u001b[0;31m                               validation_steps=validation_steps)\n\u001b[0m\u001b[1;32m    964\u001b[0m \u001b[0;34m\u001b[0m\u001b[0m\n\u001b[1;32m    965\u001b[0m     def evaluate(self, x=None, y=None,\n",
      "\u001b[0;32m/anaconda3/lib/python3.6/site-packages/keras/engine/training.py\u001b[0m in \u001b[0;36mfit\u001b[0;34m(self, x, y, batch_size, epochs, verbose, callbacks, validation_split, validation_data, shuffle, class_weight, sample_weight, initial_epoch, steps_per_epoch, validation_steps, **kwargs)\u001b[0m\n\u001b[1;32m   1703\u001b[0m                               \u001b[0minitial_epoch\u001b[0m\u001b[0;34m=\u001b[0m\u001b[0minitial_epoch\u001b[0m\u001b[0;34m,\u001b[0m\u001b[0;34m\u001b[0m\u001b[0m\n\u001b[1;32m   1704\u001b[0m                               \u001b[0msteps_per_epoch\u001b[0m\u001b[0;34m=\u001b[0m\u001b[0msteps_per_epoch\u001b[0m\u001b[0;34m,\u001b[0m\u001b[0;34m\u001b[0m\u001b[0m\n\u001b[0;32m-> 1705\u001b[0;31m                               validation_steps=validation_steps)\n\u001b[0m\u001b[1;32m   1706\u001b[0m \u001b[0;34m\u001b[0m\u001b[0m\n\u001b[1;32m   1707\u001b[0m     def evaluate(self, x=None, y=None,\n",
      "\u001b[0;32m/anaconda3/lib/python3.6/site-packages/keras/engine/training.py\u001b[0m in \u001b[0;36m_fit_loop\u001b[0;34m(self, f, ins, out_labels, batch_size, epochs, verbose, callbacks, val_f, val_ins, shuffle, callback_metrics, initial_epoch, steps_per_epoch, validation_steps)\u001b[0m\n\u001b[1;32m   1239\u001b[0m                         \u001b[0mbatch_logs\u001b[0m\u001b[0;34m[\u001b[0m\u001b[0ml\u001b[0m\u001b[0;34m]\u001b[0m \u001b[0;34m=\u001b[0m \u001b[0mo\u001b[0m\u001b[0;34m\u001b[0m\u001b[0m\n\u001b[1;32m   1240\u001b[0m \u001b[0;34m\u001b[0m\u001b[0m\n\u001b[0;32m-> 1241\u001b[0;31m                     \u001b[0mcallbacks\u001b[0m\u001b[0;34m.\u001b[0m\u001b[0mon_batch_end\u001b[0m\u001b[0;34m(\u001b[0m\u001b[0mbatch_index\u001b[0m\u001b[0;34m,\u001b[0m \u001b[0mbatch_logs\u001b[0m\u001b[0;34m)\u001b[0m\u001b[0;34m\u001b[0m\u001b[0m\n\u001b[0m\u001b[1;32m   1242\u001b[0m                     \u001b[0;32mif\u001b[0m \u001b[0mcallback_model\u001b[0m\u001b[0;34m.\u001b[0m\u001b[0mstop_training\u001b[0m\u001b[0;34m:\u001b[0m\u001b[0;34m\u001b[0m\u001b[0m\n\u001b[1;32m   1243\u001b[0m                         \u001b[0;32mbreak\u001b[0m\u001b[0;34m\u001b[0m\u001b[0m\n",
      "\u001b[0;32m/anaconda3/lib/python3.6/site-packages/keras/callbacks.py\u001b[0m in \u001b[0;36mon_batch_end\u001b[0;34m(self, batch, logs)\u001b[0m\n\u001b[1;32m    113\u001b[0m             \u001b[0mcallback\u001b[0m\u001b[0;34m.\u001b[0m\u001b[0mon_batch_end\u001b[0m\u001b[0;34m(\u001b[0m\u001b[0mbatch\u001b[0m\u001b[0;34m,\u001b[0m \u001b[0mlogs\u001b[0m\u001b[0;34m)\u001b[0m\u001b[0;34m\u001b[0m\u001b[0m\n\u001b[1;32m    114\u001b[0m         \u001b[0mself\u001b[0m\u001b[0;34m.\u001b[0m\u001b[0m_delta_ts_batch_end\u001b[0m\u001b[0;34m.\u001b[0m\u001b[0mappend\u001b[0m\u001b[0;34m(\u001b[0m\u001b[0mtime\u001b[0m\u001b[0;34m.\u001b[0m\u001b[0mtime\u001b[0m\u001b[0;34m(\u001b[0m\u001b[0;34m)\u001b[0m \u001b[0;34m-\u001b[0m \u001b[0mt_before_callbacks\u001b[0m\u001b[0;34m)\u001b[0m\u001b[0;34m\u001b[0m\u001b[0m\n\u001b[0;32m--> 115\u001b[0;31m         \u001b[0mdelta_t_median\u001b[0m \u001b[0;34m=\u001b[0m \u001b[0mnp\u001b[0m\u001b[0;34m.\u001b[0m\u001b[0mmedian\u001b[0m\u001b[0;34m(\u001b[0m\u001b[0mself\u001b[0m\u001b[0;34m.\u001b[0m\u001b[0m_delta_ts_batch_end\u001b[0m\u001b[0;34m)\u001b[0m\u001b[0;34m\u001b[0m\u001b[0m\n\u001b[0m\u001b[1;32m    116\u001b[0m         if (self._delta_t_batch > 0. and\n\u001b[1;32m    117\u001b[0m            (delta_t_median > 0.95 * self._delta_t_batch and delta_t_median > 0.1)):\n",
      "\u001b[0;32m/anaconda3/lib/python3.6/site-packages/numpy/lib/function_base.py\u001b[0m in \u001b[0;36mmedian\u001b[0;34m(a, axis, out, overwrite_input, keepdims)\u001b[0m\n\u001b[1;32m   3942\u001b[0m     \"\"\"\n\u001b[1;32m   3943\u001b[0m     r, k = _ureduce(a, func=_median, axis=axis, out=out,\n\u001b[0;32m-> 3944\u001b[0;31m                     overwrite_input=overwrite_input)\n\u001b[0m\u001b[1;32m   3945\u001b[0m     \u001b[0;32mif\u001b[0m \u001b[0mkeepdims\u001b[0m\u001b[0;34m:\u001b[0m\u001b[0;34m\u001b[0m\u001b[0m\n\u001b[1;32m   3946\u001b[0m         \u001b[0;32mreturn\u001b[0m \u001b[0mr\u001b[0m\u001b[0;34m.\u001b[0m\u001b[0mreshape\u001b[0m\u001b[0;34m(\u001b[0m\u001b[0mk\u001b[0m\u001b[0;34m)\u001b[0m\u001b[0;34m\u001b[0m\u001b[0m\n",
      "\u001b[0;32m/anaconda3/lib/python3.6/site-packages/numpy/lib/function_base.py\u001b[0m in \u001b[0;36m_ureduce\u001b[0;34m(a, func, **kwargs)\u001b[0m\n\u001b[1;32m   3856\u001b[0m         \u001b[0mkeepdim\u001b[0m \u001b[0;34m=\u001b[0m \u001b[0;34m[\u001b[0m\u001b[0;36m1\u001b[0m\u001b[0;34m]\u001b[0m \u001b[0;34m*\u001b[0m \u001b[0ma\u001b[0m\u001b[0;34m.\u001b[0m\u001b[0mndim\u001b[0m\u001b[0;34m\u001b[0m\u001b[0m\n\u001b[1;32m   3857\u001b[0m \u001b[0;34m\u001b[0m\u001b[0m\n\u001b[0;32m-> 3858\u001b[0;31m     \u001b[0mr\u001b[0m \u001b[0;34m=\u001b[0m \u001b[0mfunc\u001b[0m\u001b[0;34m(\u001b[0m\u001b[0ma\u001b[0m\u001b[0;34m,\u001b[0m \u001b[0;34m**\u001b[0m\u001b[0mkwargs\u001b[0m\u001b[0;34m)\u001b[0m\u001b[0;34m\u001b[0m\u001b[0m\n\u001b[0m\u001b[1;32m   3859\u001b[0m     \u001b[0;32mreturn\u001b[0m \u001b[0mr\u001b[0m\u001b[0;34m,\u001b[0m \u001b[0mkeepdim\u001b[0m\u001b[0;34m\u001b[0m\u001b[0m\n\u001b[1;32m   3860\u001b[0m \u001b[0;34m\u001b[0m\u001b[0m\n",
      "\u001b[0;32m/anaconda3/lib/python3.6/site-packages/numpy/lib/function_base.py\u001b[0m in \u001b[0;36m_median\u001b[0;34m(a, axis, out, overwrite_input)\u001b[0m\n\u001b[1;32m   3964\u001b[0m         \u001b[0mkth\u001b[0m \u001b[0;34m=\u001b[0m \u001b[0;34m[\u001b[0m\u001b[0;34m(\u001b[0m\u001b[0msz\u001b[0m \u001b[0;34m-\u001b[0m \u001b[0;36m1\u001b[0m\u001b[0;34m)\u001b[0m \u001b[0;34m//\u001b[0m \u001b[0;36m2\u001b[0m\u001b[0;34m]\u001b[0m\u001b[0;34m\u001b[0m\u001b[0m\n\u001b[1;32m   3965\u001b[0m     \u001b[0;31m# Check if the array contains any nan's\u001b[0m\u001b[0;34m\u001b[0m\u001b[0;34m\u001b[0m\u001b[0m\n\u001b[0;32m-> 3966\u001b[0;31m     \u001b[0;32mif\u001b[0m \u001b[0mnp\u001b[0m\u001b[0;34m.\u001b[0m\u001b[0missubdtype\u001b[0m\u001b[0;34m(\u001b[0m\u001b[0ma\u001b[0m\u001b[0;34m.\u001b[0m\u001b[0mdtype\u001b[0m\u001b[0;34m,\u001b[0m \u001b[0mnp\u001b[0m\u001b[0;34m.\u001b[0m\u001b[0minexact\u001b[0m\u001b[0;34m)\u001b[0m\u001b[0;34m:\u001b[0m\u001b[0;34m\u001b[0m\u001b[0m\n\u001b[0m\u001b[1;32m   3967\u001b[0m         \u001b[0mkth\u001b[0m\u001b[0;34m.\u001b[0m\u001b[0mappend\u001b[0m\u001b[0;34m(\u001b[0m\u001b[0;34m-\u001b[0m\u001b[0;36m1\u001b[0m\u001b[0;34m)\u001b[0m\u001b[0;34m\u001b[0m\u001b[0m\n\u001b[1;32m   3968\u001b[0m \u001b[0;34m\u001b[0m\u001b[0m\n",
      "\u001b[0;32m/anaconda3/lib/python3.6/site-packages/numpy/core/numerictypes.py\u001b[0m in \u001b[0;36missubdtype\u001b[0;34m(arg1, arg2)\u001b[0m\n\u001b[1;32m    752\u001b[0m \u001b[0;34m\u001b[0m\u001b[0m\n\u001b[1;32m    753\u001b[0m     \"\"\"\n\u001b[0;32m--> 754\u001b[0;31m     \u001b[0;32mif\u001b[0m \u001b[0missubclass_\u001b[0m\u001b[0;34m(\u001b[0m\u001b[0marg2\u001b[0m\u001b[0;34m,\u001b[0m \u001b[0mgeneric\u001b[0m\u001b[0;34m)\u001b[0m\u001b[0;34m:\u001b[0m\u001b[0;34m\u001b[0m\u001b[0m\n\u001b[0m\u001b[1;32m    755\u001b[0m         \u001b[0;32mreturn\u001b[0m \u001b[0missubclass\u001b[0m\u001b[0;34m(\u001b[0m\u001b[0mdtype\u001b[0m\u001b[0;34m(\u001b[0m\u001b[0marg1\u001b[0m\u001b[0;34m)\u001b[0m\u001b[0;34m.\u001b[0m\u001b[0mtype\u001b[0m\u001b[0;34m,\u001b[0m \u001b[0marg2\u001b[0m\u001b[0;34m)\u001b[0m\u001b[0;34m\u001b[0m\u001b[0m\n\u001b[1;32m    756\u001b[0m     \u001b[0mmro\u001b[0m \u001b[0;34m=\u001b[0m \u001b[0mdtype\u001b[0m\u001b[0;34m(\u001b[0m\u001b[0marg2\u001b[0m\u001b[0;34m)\u001b[0m\u001b[0;34m.\u001b[0m\u001b[0mtype\u001b[0m\u001b[0;34m.\u001b[0m\u001b[0mmro\u001b[0m\u001b[0;34m(\u001b[0m\u001b[0;34m)\u001b[0m\u001b[0;34m\u001b[0m\u001b[0m\n",
      "\u001b[0;31mKeyboardInterrupt\u001b[0m: "
     ]
    }
   ],
   "source": [
    "earlystopping = EarlyStopping(patience=2)\n",
    "clf.fit(X_train, y_train, batch_size=8, epochs=100, callbacks=[earlystopping], validation_split=0.2)"
   ]
  },
  {
   "cell_type": "code",
   "execution_count": 214,
   "metadata": {},
   "outputs": [
    {
     "ename": "NameError",
     "evalue": "name 'test_tf' is not defined",
     "output_type": "error",
     "traceback": [
      "\u001b[0;31m---------------------------------------------------------------------------\u001b[0m",
      "\u001b[0;31mNameError\u001b[0m                                 Traceback (most recent call last)",
      "\u001b[0;32m<ipython-input-214-df54daa761dc>\u001b[0m in \u001b[0;36m<module>\u001b[0;34m()\u001b[0m\n\u001b[0;32m----> 1\u001b[0;31m \u001b[0mclf\u001b[0m\u001b[0;34m.\u001b[0m\u001b[0mpredict\u001b[0m\u001b[0;34m(\u001b[0m\u001b[0mtest_tf\u001b[0m\u001b[0;34m)\u001b[0m\u001b[0;34m\u001b[0m\u001b[0m\n\u001b[0m",
      "\u001b[0;31mNameError\u001b[0m: name 'test_tf' is not defined"
     ]
    }
   ],
   "source": [
    "clf.predict(test_tf)"
   ]
  },
  {
   "cell_type": "code",
   "execution_count": 56,
   "metadata": {},
   "outputs": [
    {
     "ename": "KeyboardInterrupt",
     "evalue": "",
     "output_type": "error",
     "traceback": [
      "\u001b[0;31m---------------------------------------------------------------------------\u001b[0m",
      "\u001b[0;31mKeyboardInterrupt\u001b[0m                         Traceback (most recent call last)",
      "\u001b[0;32m<ipython-input-56-01d22a38d95f>\u001b[0m in \u001b[0;36m<module>\u001b[0;34m()\u001b[0m\n\u001b[0;32m----> 1\u001b[0;31m \u001b[0mtest_preds\u001b[0m \u001b[0;34m=\u001b[0m \u001b[0mclf\u001b[0m\u001b[0;34m.\u001b[0m\u001b[0mpredict\u001b[0m\u001b[0;34m(\u001b[0m\u001b[0mtest_tf\u001b[0m\u001b[0;34m)\u001b[0m\u001b[0;34m\u001b[0m\u001b[0m\n\u001b[0m\u001b[1;32m      2\u001b[0m \u001b[0mpred_df\u001b[0m \u001b[0;34m=\u001b[0m \u001b[0mpd\u001b[0m\u001b[0;34m.\u001b[0m\u001b[0mDataFrame\u001b[0m\u001b[0;34m(\u001b[0m\u001b[0;34m)\u001b[0m\u001b[0;34m\u001b[0m\u001b[0m\n\u001b[1;32m      3\u001b[0m \u001b[0mpred_df\u001b[0m\u001b[0;34m[\u001b[0m\u001b[0;34m'SK_ID_CURR'\u001b[0m\u001b[0;34m]\u001b[0m \u001b[0;34m=\u001b[0m \u001b[0mtest\u001b[0m\u001b[0;34m[\u001b[0m\u001b[0;34m'SK_ID_CURR'\u001b[0m\u001b[0;34m]\u001b[0m\u001b[0;34m\u001b[0m\u001b[0m\n\u001b[1;32m      4\u001b[0m \u001b[0mpred_df\u001b[0m\u001b[0;34m[\u001b[0m\u001b[0;34m'TARGET'\u001b[0m\u001b[0;34m]\u001b[0m \u001b[0;34m=\u001b[0m \u001b[0mtest_preds\u001b[0m\u001b[0;34m\u001b[0m\u001b[0m\n\u001b[1;32m      5\u001b[0m \u001b[0mpred_df\u001b[0m\u001b[0;34m.\u001b[0m\u001b[0mto_csv\u001b[0m\u001b[0;34m(\u001b[0m\u001b[0;34m'NN_baseline.csv'\u001b[0m\u001b[0;34m,\u001b[0m \u001b[0mindex\u001b[0m\u001b[0;34m=\u001b[0m\u001b[0;32mFalse\u001b[0m\u001b[0;34m)\u001b[0m\u001b[0;34m\u001b[0m\u001b[0m\n",
      "\u001b[0;32m/anaconda3/lib/python3.6/site-packages/keras/models.py\u001b[0m in \u001b[0;36mpredict\u001b[0;34m(self, x, batch_size, verbose, steps)\u001b[0m\n\u001b[1;32m   1023\u001b[0m             \u001b[0mself\u001b[0m\u001b[0;34m.\u001b[0m\u001b[0mbuild\u001b[0m\u001b[0;34m(\u001b[0m\u001b[0;34m)\u001b[0m\u001b[0;34m\u001b[0m\u001b[0m\n\u001b[1;32m   1024\u001b[0m         return self.model.predict(x, batch_size=batch_size, verbose=verbose,\n\u001b[0;32m-> 1025\u001b[0;31m                                   steps=steps)\n\u001b[0m\u001b[1;32m   1026\u001b[0m \u001b[0;34m\u001b[0m\u001b[0m\n\u001b[1;32m   1027\u001b[0m     \u001b[0;32mdef\u001b[0m \u001b[0mpredict_on_batch\u001b[0m\u001b[0;34m(\u001b[0m\u001b[0mself\u001b[0m\u001b[0;34m,\u001b[0m \u001b[0mx\u001b[0m\u001b[0;34m)\u001b[0m\u001b[0;34m:\u001b[0m\u001b[0;34m\u001b[0m\u001b[0m\n",
      "\u001b[0;32m/anaconda3/lib/python3.6/site-packages/keras/engine/training.py\u001b[0m in \u001b[0;36mpredict\u001b[0;34m(self, x, batch_size, verbose, steps)\u001b[0m\n\u001b[1;32m   1833\u001b[0m         \u001b[0mf\u001b[0m \u001b[0;34m=\u001b[0m \u001b[0mself\u001b[0m\u001b[0;34m.\u001b[0m\u001b[0mpredict_function\u001b[0m\u001b[0;34m\u001b[0m\u001b[0m\n\u001b[1;32m   1834\u001b[0m         return self._predict_loop(f, ins, batch_size=batch_size,\n\u001b[0;32m-> 1835\u001b[0;31m                                   verbose=verbose, steps=steps)\n\u001b[0m\u001b[1;32m   1836\u001b[0m \u001b[0;34m\u001b[0m\u001b[0m\n\u001b[1;32m   1837\u001b[0m     def train_on_batch(self, x, y,\n",
      "\u001b[0;32m/anaconda3/lib/python3.6/site-packages/keras/engine/training.py\u001b[0m in \u001b[0;36m_predict_loop\u001b[0;34m(self, f, ins, batch_size, verbose, steps)\u001b[0m\n\u001b[1;32m   1324\u001b[0m                     \u001b[0mins_batch\u001b[0m \u001b[0;34m=\u001b[0m \u001b[0m_slice_arrays\u001b[0m\u001b[0;34m(\u001b[0m\u001b[0mins\u001b[0m\u001b[0;34m[\u001b[0m\u001b[0;34m:\u001b[0m\u001b[0;34m-\u001b[0m\u001b[0;36m1\u001b[0m\u001b[0;34m]\u001b[0m\u001b[0;34m,\u001b[0m \u001b[0mbatch_ids\u001b[0m\u001b[0;34m)\u001b[0m \u001b[0;34m+\u001b[0m \u001b[0;34m[\u001b[0m\u001b[0mins\u001b[0m\u001b[0;34m[\u001b[0m\u001b[0;34m-\u001b[0m\u001b[0;36m1\u001b[0m\u001b[0;34m]\u001b[0m\u001b[0;34m]\u001b[0m\u001b[0;34m\u001b[0m\u001b[0m\n\u001b[1;32m   1325\u001b[0m                 \u001b[0;32melse\u001b[0m\u001b[0;34m:\u001b[0m\u001b[0;34m\u001b[0m\u001b[0m\n\u001b[0;32m-> 1326\u001b[0;31m                     \u001b[0mins_batch\u001b[0m \u001b[0;34m=\u001b[0m \u001b[0m_slice_arrays\u001b[0m\u001b[0;34m(\u001b[0m\u001b[0mins\u001b[0m\u001b[0;34m,\u001b[0m \u001b[0mbatch_ids\u001b[0m\u001b[0;34m)\u001b[0m\u001b[0;34m\u001b[0m\u001b[0m\n\u001b[0m\u001b[1;32m   1327\u001b[0m                 \u001b[0;32mfor\u001b[0m \u001b[0mi\u001b[0m \u001b[0;32min\u001b[0m \u001b[0mindices_for_conversion_to_dense\u001b[0m\u001b[0;34m:\u001b[0m\u001b[0;34m\u001b[0m\u001b[0m\n\u001b[1;32m   1328\u001b[0m                     \u001b[0mins_batch\u001b[0m\u001b[0;34m[\u001b[0m\u001b[0mi\u001b[0m\u001b[0;34m]\u001b[0m \u001b[0;34m=\u001b[0m \u001b[0mins_batch\u001b[0m\u001b[0;34m[\u001b[0m\u001b[0mi\u001b[0m\u001b[0;34m]\u001b[0m\u001b[0;34m.\u001b[0m\u001b[0mtoarray\u001b[0m\u001b[0;34m(\u001b[0m\u001b[0;34m)\u001b[0m\u001b[0;34m\u001b[0m\u001b[0m\n",
      "\u001b[0;32m/anaconda3/lib/python3.6/site-packages/keras/engine/training.py\u001b[0m in \u001b[0;36m_slice_arrays\u001b[0;34m(arrays, start, stop)\u001b[0m\n\u001b[1;32m    383\u001b[0m             \u001b[0;32mif\u001b[0m \u001b[0mhasattr\u001b[0m\u001b[0;34m(\u001b[0m\u001b[0mstart\u001b[0m\u001b[0;34m,\u001b[0m \u001b[0;34m'shape'\u001b[0m\u001b[0;34m)\u001b[0m\u001b[0;34m:\u001b[0m\u001b[0;34m\u001b[0m\u001b[0m\n\u001b[1;32m    384\u001b[0m                 \u001b[0mstart\u001b[0m \u001b[0;34m=\u001b[0m \u001b[0mstart\u001b[0m\u001b[0;34m.\u001b[0m\u001b[0mtolist\u001b[0m\u001b[0;34m(\u001b[0m\u001b[0;34m)\u001b[0m\u001b[0;34m\u001b[0m\u001b[0m\n\u001b[0;32m--> 385\u001b[0;31m             \u001b[0;32mreturn\u001b[0m \u001b[0;34m[\u001b[0m\u001b[0;32mNone\u001b[0m \u001b[0;32mif\u001b[0m \u001b[0mx\u001b[0m \u001b[0;32mis\u001b[0m \u001b[0;32mNone\u001b[0m \u001b[0;32melse\u001b[0m \u001b[0mx\u001b[0m\u001b[0;34m[\u001b[0m\u001b[0mstart\u001b[0m\u001b[0;34m]\u001b[0m \u001b[0;32mfor\u001b[0m \u001b[0mx\u001b[0m \u001b[0;32min\u001b[0m \u001b[0marrays\u001b[0m\u001b[0;34m]\u001b[0m\u001b[0;34m\u001b[0m\u001b[0m\n\u001b[0m\u001b[1;32m    386\u001b[0m         \u001b[0;32melse\u001b[0m\u001b[0;34m:\u001b[0m\u001b[0;34m\u001b[0m\u001b[0m\n\u001b[1;32m    387\u001b[0m             \u001b[0;32mreturn\u001b[0m \u001b[0;34m[\u001b[0m\u001b[0;32mNone\u001b[0m \u001b[0;32mif\u001b[0m \u001b[0mx\u001b[0m \u001b[0;32mis\u001b[0m \u001b[0;32mNone\u001b[0m \u001b[0;32melse\u001b[0m \u001b[0mx\u001b[0m\u001b[0;34m[\u001b[0m\u001b[0mstart\u001b[0m\u001b[0;34m:\u001b[0m\u001b[0mstop\u001b[0m\u001b[0;34m]\u001b[0m \u001b[0;32mfor\u001b[0m \u001b[0mx\u001b[0m \u001b[0;32min\u001b[0m \u001b[0marrays\u001b[0m\u001b[0;34m]\u001b[0m\u001b[0;34m\u001b[0m\u001b[0m\n",
      "\u001b[0;32m/anaconda3/lib/python3.6/site-packages/keras/engine/training.py\u001b[0m in \u001b[0;36m<listcomp>\u001b[0;34m(.0)\u001b[0m\n\u001b[1;32m    383\u001b[0m             \u001b[0;32mif\u001b[0m \u001b[0mhasattr\u001b[0m\u001b[0;34m(\u001b[0m\u001b[0mstart\u001b[0m\u001b[0;34m,\u001b[0m \u001b[0;34m'shape'\u001b[0m\u001b[0;34m)\u001b[0m\u001b[0;34m:\u001b[0m\u001b[0;34m\u001b[0m\u001b[0m\n\u001b[1;32m    384\u001b[0m                 \u001b[0mstart\u001b[0m \u001b[0;34m=\u001b[0m \u001b[0mstart\u001b[0m\u001b[0;34m.\u001b[0m\u001b[0mtolist\u001b[0m\u001b[0;34m(\u001b[0m\u001b[0;34m)\u001b[0m\u001b[0;34m\u001b[0m\u001b[0m\n\u001b[0;32m--> 385\u001b[0;31m             \u001b[0;32mreturn\u001b[0m \u001b[0;34m[\u001b[0m\u001b[0;32mNone\u001b[0m \u001b[0;32mif\u001b[0m \u001b[0mx\u001b[0m \u001b[0;32mis\u001b[0m \u001b[0;32mNone\u001b[0m \u001b[0;32melse\u001b[0m \u001b[0mx\u001b[0m\u001b[0;34m[\u001b[0m\u001b[0mstart\u001b[0m\u001b[0;34m]\u001b[0m \u001b[0;32mfor\u001b[0m \u001b[0mx\u001b[0m \u001b[0;32min\u001b[0m \u001b[0marrays\u001b[0m\u001b[0;34m]\u001b[0m\u001b[0;34m\u001b[0m\u001b[0m\n\u001b[0m\u001b[1;32m    386\u001b[0m         \u001b[0;32melse\u001b[0m\u001b[0;34m:\u001b[0m\u001b[0;34m\u001b[0m\u001b[0m\n\u001b[1;32m    387\u001b[0m             \u001b[0;32mreturn\u001b[0m \u001b[0;34m[\u001b[0m\u001b[0;32mNone\u001b[0m \u001b[0;32mif\u001b[0m \u001b[0mx\u001b[0m \u001b[0;32mis\u001b[0m \u001b[0;32mNone\u001b[0m \u001b[0;32melse\u001b[0m \u001b[0mx\u001b[0m\u001b[0;34m[\u001b[0m\u001b[0mstart\u001b[0m\u001b[0;34m:\u001b[0m\u001b[0mstop\u001b[0m\u001b[0;34m]\u001b[0m \u001b[0;32mfor\u001b[0m \u001b[0mx\u001b[0m \u001b[0;32min\u001b[0m \u001b[0marrays\u001b[0m\u001b[0;34m]\u001b[0m\u001b[0;34m\u001b[0m\u001b[0m\n",
      "\u001b[0;31mKeyboardInterrupt\u001b[0m: "
     ]
    }
   ],
   "source": [
    "test_preds = clf.predict(test_tf)\n",
    "pred_df = pd.DataFrame()\n",
    "pred_df['SK_ID_CURR'] = test['SK_ID_CURR']\n",
    "pred_df['TARGET'] = test_preds\n",
    "pred_df.to_csv('NN_baseline.csv', index=False)\n",
    "pred_df.head(20)"
   ]
  },
  {
   "cell_type": "code",
   "execution_count": 57,
   "metadata": {
    "collapsed": true
   },
   "outputs": [],
   "source": [
    "#running on Kaggle, will merge later"
   ]
  },
  {
   "cell_type": "code",
   "execution_count": null,
   "metadata": {
    "collapsed": true
   },
   "outputs": [],
   "source": []
  }
 ],
 "metadata": {
  "kernelspec": {
   "display_name": "Python 3",
   "language": "python",
   "name": "python3"
  },
  "language_info": {
   "codemirror_mode": {
    "name": "ipython",
    "version": 3
   },
   "file_extension": ".py",
   "mimetype": "text/x-python",
   "name": "python",
   "nbconvert_exporter": "python",
   "pygments_lexer": "ipython3",
   "version": "3.6.2"
  }
 },
 "nbformat": 4,
 "nbformat_minor": 1
}
