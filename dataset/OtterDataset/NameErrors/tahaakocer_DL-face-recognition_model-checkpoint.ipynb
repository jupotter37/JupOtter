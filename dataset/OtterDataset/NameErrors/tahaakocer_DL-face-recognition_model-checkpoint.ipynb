{
 "cells": [
  {
   "cell_type": "code",
   "execution_count": 2,
   "id": "21a4003c-df42-41e7-aec2-2dd988b3a10c",
   "metadata": {},
   "outputs": [],
   "source": [
    "import os\n",
    "import cv2\n",
    "import numpy as np\n",
    "import tensorflow\n",
    "from sklearn.model_selection import train_test_split\n",
    "from tensorflow.keras.preprocessing.image import ImageDataGenerator\n",
    "from sklearn.preprocessing import LabelEncoder\n",
    "from keras.utils import to_categorical\n",
    "from keras.models import Sequential\n",
    "from keras.layers import Dense, Conv2D, Dropout, BatchNormalization, MaxPooling2D, Flatten\n",
    "from keras.optimizers import Adam, RMSprop, SGD\n",
    "import matplotlib.pyplot as plt\n",
    "from keras.callbacks import ModelCheckpoint, EarlyStopping, ReduceLROnPlateau"
   ]
  },
  {
   "cell_type": "code",
   "execution_count": 3,
   "id": "f68b835d-f0dd-432f-a693-2f28249d1fc3",
   "metadata": {},
   "outputs": [],
   "source": [
    "# Dataset Directory\n",
    "data_dir = \"/images/train\""
   ]
  },
  {
   "cell_type": "code",
   "execution_count": 4,
   "id": "149a9733-e987-4f96-9e06-eb596ab5ad6d",
   "metadata": {},
   "outputs": [
    {
     "ename": "FileNotFoundError",
     "evalue": "[WinError 3] Sistem belirtilen yolu bulamıyor: '/images/train'",
     "output_type": "error",
     "traceback": [
      "\u001b[1;31m---------------------------------------------------------------------------\u001b[0m",
      "\u001b[1;31mFileNotFoundError\u001b[0m                         Traceback (most recent call last)",
      "Cell \u001b[1;32mIn[4], line 2\u001b[0m\n\u001b[0;32m      1\u001b[0m \u001b[38;5;66;03m# Classes\u001b[39;00m\n\u001b[1;32m----> 2\u001b[0m sub_folders \u001b[38;5;241m=\u001b[39m \u001b[43mos\u001b[49m\u001b[38;5;241;43m.\u001b[39;49m\u001b[43mlistdir\u001b[49m\u001b[43m(\u001b[49m\u001b[43mdata_dir\u001b[49m\u001b[43m)\u001b[49m\n",
      "\u001b[1;31mFileNotFoundError\u001b[0m: [WinError 3] Sistem belirtilen yolu bulamıyor: '/images/train'"
     ]
    }
   ],
   "source": [
    "# Classes\n",
    "sub_folders = os.listdir(data_dir)"
   ]
  },
  {
   "cell_type": "code",
   "execution_count": 5,
   "id": "ae888bd3-3eae-4847-9bdf-32c89ad702d6",
   "metadata": {},
   "outputs": [],
   "source": [
    "# Declaring the lists for images and labels\n",
    "images = []\n",
    "labels = []"
   ]
  },
  {
   "cell_type": "code",
   "execution_count": 6,
   "id": "6fbd0f04-4db0-4364-a5ed-653137032336",
   "metadata": {},
   "outputs": [
    {
     "ename": "NameError",
     "evalue": "name 'sub_folders' is not defined",
     "output_type": "error",
     "traceback": [
      "\u001b[1;31m---------------------------------------------------------------------------\u001b[0m",
      "\u001b[1;31mNameError\u001b[0m                                 Traceback (most recent call last)",
      "Cell \u001b[1;32mIn[6], line 2\u001b[0m\n\u001b[0;32m      1\u001b[0m \u001b[38;5;66;03m# Accessing the labels\u001b[39;00m\n\u001b[1;32m----> 2\u001b[0m \u001b[38;5;28;01mfor\u001b[39;00m sub_folder \u001b[38;5;129;01min\u001b[39;00m \u001b[43msub_folders\u001b[49m:\n\u001b[0;32m      3\u001b[0m     label \u001b[38;5;241m=\u001b[39m sub_folder\n\u001b[0;32m      5\u001b[0m     \u001b[38;5;66;03m# Constructing the path to the current sub-folder\u001b[39;00m\n",
      "\u001b[1;31mNameError\u001b[0m: name 'sub_folders' is not defined"
     ]
    }
   ],
   "source": [
    "# Accessing the labels\n",
    "for sub_folder in sub_folders:\n",
    "    label = sub_folder\n",
    "\n",
    "    # Constructing the path to the current sub-folder\n",
    "    path = os.path.join(data_dir, sub_folder)\n",
    "\n",
    "    # Listing all images in the current sub-folder\n",
    "    sub_folder_images = os.listdir(path)\n",
    "\n",
    "    # Accessing the Images\n",
    "    for image_name in sub_folder_images:\n",
    "        # Constructing the path to the current image\n",
    "        image_path = os.path.join(path, image_name)\n",
    "        # Loading the image using OpenCV\n",
    "        img = cv2.imread(image_path, cv2.IMREAD_GRAYSCALE)  # Read as grayscale\n",
    "        # Appending the image to the list of images\n",
    "        images.append(img)\n",
    "        # Appending the label corresponding to the current sub-folder to the list of labels\n",
    "        labels.append(label)"
   ]
  },
  {
   "cell_type": "code",
   "execution_count": null,
   "id": "2a98b339-0b5c-4bf1-afb8-2f5b2b721696",
   "metadata": {},
   "outputs": [],
   "source": []
  }
 ],
 "metadata": {
  "kernelspec": {
   "display_name": "Python 3 (ipykernel)",
   "language": "python",
   "name": "python3"
  },
  "language_info": {
   "codemirror_mode": {
    "name": "ipython",
    "version": 3
   },
   "file_extension": ".py",
   "mimetype": "text/x-python",
   "name": "python",
   "nbconvert_exporter": "python",
   "pygments_lexer": "ipython3",
   "version": "3.10.13"
  }
 },
 "nbformat": 4,
 "nbformat_minor": 5
}
