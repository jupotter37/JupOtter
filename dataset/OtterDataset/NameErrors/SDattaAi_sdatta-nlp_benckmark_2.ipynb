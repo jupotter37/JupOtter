{
 "cells": [
  {
   "cell_type": "code",
   "execution_count": 2,
   "metadata": {
    "collapsed": true
   },
   "outputs": [],
   "source": [
    "import numpy as np\n",
    "import pandas as pd\n",
    "import matplotlib.pyplot as plt"
   ]
  },
  {
   "cell_type": "code",
   "execution_count": 3,
   "outputs": [],
   "source": [
    "store_100_path = r\"df_all_store_100.parquet\"\n",
    "store_42_path = r\"df_all_store_42.parquet\"\n",
    "store_4906_path = r\"df_all_store_4906.parquet\""
   ],
   "metadata": {
    "collapsed": false
   }
  },
  {
   "cell_type": "code",
   "execution_count": 4,
   "outputs": [],
   "source": [
    "df_100 = pd.read_parquet(store_100_path)\n",
    "df_42 = pd.read_parquet(store_42_path)\n",
    "df_4906 = pd.read_parquet(store_4906_path)\n",
    "df_all = pd.concat([df_100, df_42, df_4906])"
   ],
   "metadata": {
    "collapsed": false
   }
  },
  {
   "cell_type": "code",
   "execution_count": 5,
   "outputs": [],
   "source": [
    "del df_100, df_42, df_4906"
   ],
   "metadata": {
    "collapsed": false
   }
  },
  {
   "cell_type": "code",
   "execution_count": 10,
   "outputs": [
    {
     "data": {
      "text/plain": "sku\n201999999991001    238.0\n100630105000002    126.0\n100630368000002    118.0\n100080135000001    116.0\n100080135000003    115.0\n                   ...  \n100533453000003     -1.0\n100539032000001     -1.0\n100548035000001     -1.0\n100520165000004     -1.0\n100080411000002     -3.0\nName: sales, Length: 22823, dtype: float64"
     },
     "execution_count": 10,
     "metadata": {},
     "output_type": "execute_result"
    }
   ],
   "source": [
    "df_all['date'] = pd.to_datetime(df_all['date'])"
   ],
   "metadata": {
    "collapsed": false
   }
  },
  {
   "cell_type": "code",
   "execution_count": 7,
   "outputs": [
    {
     "data": {
      "text/plain": "['100630105000002']"
     },
     "execution_count": 7,
     "metadata": {},
     "output_type": "execute_result"
    }
   ],
   "source": [
    "warehouse_path = r\"df_all_store_VZ01.parquet\"\n",
    "df_warehouse = pd.read_parquet(warehouse_path)"
   ],
   "metadata": {
    "collapsed": false
   }
  },
  {
   "cell_type": "code",
   "execution_count": 14,
   "outputs": [],
   "source": [
    "df_warehouse = df_warehouse.rename(columns={\"stock\": \"warehouse_stock\"})\n",
    "df_warehouse['date'] = pd.to_datetime(df_warehouse['date'])"
   ],
   "metadata": {
    "collapsed": false
   }
  },
  {
   "cell_type": "code",
   "execution_count": 8,
   "outputs": [
    {
     "data": {
      "text/plain": "22823"
     },
     "execution_count": 8,
     "metadata": {},
     "output_type": "execute_result"
    }
   ],
   "source": [
    "df_all['sku'].nunique()"
   ],
   "metadata": {
    "collapsed": false
   }
  },
  {
   "cell_type": "code",
   "execution_count": 15,
   "outputs": [
    {
     "data": {
      "text/plain": "<Axes: xlabel='date'>"
     },
     "execution_count": 15,
     "metadata": {},
     "output_type": "execute_result"
    },
    {
     "data": {
      "text/plain": "<Figure size 640x480 with 1 Axes>",
      "image/png": "[encoded data removed]"
     },
     "metadata": {},
     "output_type": "display_data"
    }
   ],
   "source": [
    "df_warehouse['sku'] = df_warehouse['sku'].astype(str)\n"
   ],
   "metadata": {
    "collapsed": false
   }
  },
  {
   "cell_type": "code",
   "execution_count": 16,
   "outputs": [],
   "source": [
    "df_warehouse = df_warehouse[df_warehouse['date'] > '2018-01-01']"
   ],
   "metadata": {
    "collapsed": false
   }
  },
  {
   "cell_type": "code",
   "execution_count": 17,
   "outputs": [],
   "source": [
    "df_all = df_all.merge(df_warehouse[[\"sku\",\"date\",\"warehouse_stock\"]], on = [\"sku\",\"date\"], how = \"left\")\n"
   ],
   "metadata": {
    "collapsed": false
   }
  },
  {
   "cell_type": "code",
   "execution_count": 12,
   "outputs": [],
   "source": [
    "df_all = df_all[df_all['date'] > '2018-01-01']"
   ],
   "metadata": {
    "collapsed": false
   }
  },
  {
   "cell_type": "code",
   "execution_count": 18,
   "outputs": [],
   "source": [
    "df_all = df_all.sort_values('date')"
   ],
   "metadata": {
    "collapsed": false
   }
  },
  {
   "cell_type": "code",
   "execution_count": 21,
   "outputs": [],
   "source": [
    "df_all = df_all.merge(df_all[df_all['stock'] > 0].groupby(['sku', 'store']).agg({'stock': 'first'}).reset_index().rename(columns={'stock':'palmers_first_allocation'}), on = ['sku', 'store'], how = 'left')"
   ],
   "metadata": {
    "collapsed": false
   }
  },
  {
   "cell_type": "code",
   "execution_count": 23,
   "outputs": [],
   "source": [
    "sku_store_df_step_g = df_all.groupby(['sku', 'store'])"
   ],
   "metadata": {
    "collapsed": false
   }
  },
  {
   "cell_type": "code",
   "execution_count": 16,
   "outputs": [],
   "source": [
    "import json\n",
    "dict_per_store_per_year_path = r\"dict_per_store_per_year.json\"\n",
    "with open(dict_per_store_per_year_path) as json_file:\n",
    "    dict_per_store_per_year = json.load(json_file)"
   ],
   "metadata": {
    "collapsed": false
   }
  },
  {
   "cell_type": "code",
   "execution_count": 64,
   "outputs": [],
   "source": [
    "first_dist_store_100 =  dict_per_store_per_year['2020']['100'] / (dict_per_store_per_year['2020']['100'] + dict_per_store_per_year['2020']['42'] + dict_per_store_per_year['2020']['4906'])\n",
    "first_dist_store_42 =  dict_per_store_per_year['2020']['42'] / (dict_per_store_per_year['2020']['100'] + dict_per_store_per_year['2020']['42'] + dict_per_store_per_year['2020']['4906'])\n",
    "first_dist_store_4906 =  dict_per_store_per_year['2020']['4906'] / (dict_per_store_per_year['2020']['100'] + dict_per_store_per_year['2020']['42'] + dict_per_store_per_year['2020']['4906'])"
   ],
   "metadata": {
    "collapsed": false
   }
  },
  {
   "cell_type": "code",
   "execution_count": 65,
   "outputs": [
    {
     "data": {
      "text/plain": "(0.56062424969988, 0.31892002083852405, 0.12045572946159595)"
     },
     "execution_count": 65,
     "metadata": {},
     "output_type": "execute_result"
    }
   ],
   "source": [
    "first_dist_store_100, first_dist_store_42"
   ],
   "metadata": {
    "collapsed": false
   }
  },
  {
   "cell_type": "code",
   "execution_count": 54,
   "outputs": [
    {
     "data": {
      "text/plain": "0.40476190476190477"
     },
     "execution_count": 54,
     "metadata": {},
     "output_type": "execute_result"
    }
   ],
   "source": [
    "store_100_dist_need_to_be = 51 / 104\n",
    "store_100_dist_need_to_be"
   ],
   "metadata": {
    "collapsed": false
   }
  },
  {
   "cell_type": "code",
   "execution_count": 55,
   "outputs": [
    {
     "data": {
      "text/plain": "0.42063492063492064"
     },
     "execution_count": 55,
     "metadata": {},
     "output_type": "execute_result"
    }
   ],
   "source": [
    "store_42_dist_need_to_be = 53 / 104\n",
    "store_42_dist_need_to_be"
   ],
   "metadata": {
    "collapsed": false
   }
  },
  {
   "cell_type": "code",
   "execution_count": 1,
   "outputs": [
    {
     "ename": "NameError",
     "evalue": "name 'df_all' is not defined",
     "output_type": "error",
     "traceback": [
      "\u001B[0;31m---------------------------------------------------------------------------\u001B[0m",
      "\u001B[0;31mNameError\u001B[0m                                 Traceback (most recent call last)",
      "Cell \u001B[0;32mIn[1], line 1\u001B[0m\n\u001B[0;32m----> 1\u001B[0m \u001B[43mdf_all\u001B[49m[(df_all[\u001B[38;5;124m'\u001B[39m\u001B[38;5;124msku\u001B[39m\u001B[38;5;124m'\u001B[39m]\u001B[38;5;241m.\u001B[39misin([\u001B[38;5;124m'\u001B[39m\u001B[38;5;124m100630105000002\u001B[39m\u001B[38;5;124m'\u001B[39m])) \u001B[38;5;241m&\u001B[39m (df_all[\u001B[38;5;124m'\u001B[39m\u001B[38;5;124mstore\u001B[39m\u001B[38;5;124m'\u001B[39m] \u001B[38;5;241m==\u001B[39m \u001B[38;5;124m'\u001B[39m\u001B[38;5;124m100\u001B[39m\u001B[38;5;124m'\u001B[39m)]\n",
      "\u001B[0;31mNameError\u001B[0m: name 'df_all' is not defined"
     ]
    }
   ],
   "source": [
    "df_all[(df_all['sku'].isin(['100630105000002'])) & (df_all['store'] == '100')]"
   ],
   "metadata": {
    "collapsed": false
   }
  },
  {
   "cell_type": "code",
   "execution_count": 56,
   "outputs": [
    {
     "data": {
      "text/plain": "0.1746031746031746"
     },
     "execution_count": 56,
     "metadata": {},
     "output_type": "execute_result"
    }
   ],
   "source": [
    "i = 0\n",
    "\n",
    "dict_of_all_data_after_preprocess = {}\n",
    "for sku in ['100630105000002']:\n",
    "    dict_of_all_data_after_preprocess[sku] = {}\n",
    "    for store in ['42', '100']:\n",
    "        dict_of_all_data_after_preprocess[sku][store] = {}\n",
    "\n",
    "        sku_store_df_step = sku_store_df_step_g.get_group((sku, store))\n",
    "        first_stock = sku_store_df_step[sku_store_df_step[\"stock\"]>0][\"stock\"].iloc[0]\n",
    "        # nan in our_stock if before first stock\n",
    "        sku_store_df_step.loc[sku_store_df_step[\"date\"]<sku_store_df_step[sku_store_df_step[\"stock\"]>0][\"date\"].iloc[0], \"palmers_first_allocation\"] = np.nan\n",
    "        sku_store_df_step['days_from_first_stock'] = 1\n",
    "        sku_store_df_step.loc[sku_store_df_step[\"date\"]<sku_store_df_step[sku_store_df_step[\"stock\"]>0][\"date\"].iloc[0], \"days_from_first_stock\"] = np.nan\n",
    "        sku_store_df_step['days_from_first_stock'] = sku_store_df_step['days_from_first_stock'].cumsum()\n",
    "        sku_store_df_step['sales_cumsum'] = sku_store_df_step['sales'].cumsum()\n",
    "        sku_store_df_step['dynamic_stock_with_palmers_init'] = sku_store_df_step['palmers_first_allocation'] - sku_store_df_step['sales_cumsum']\n",
    "        sku_store_df_step['sales_cumsum_divide_days_from_first_stock'] =  sku_store_df_step['sales_cumsum'] / sku_store_df_step['days_from_first_stock']\n",
    "\n",
    "        zero_sales_days_back = 1\n",
    "        sku_store_df_step['days_from_last_sales_that_not_zero'] = 1\n",
    "        for index, row in sku_store_df_step.shift(1).iterrows():\n",
    "            # if index is sku_store_df_step[sku_store_df_step[\"stock\"]>0][\"stock\"] index\n",
    "            if index > sku_store_df_step[sku_store_df_step[\"stock\"]>0].index[0]:\n",
    "                if row['sales'] == 0:\n",
    "                    zero_sales_days_back += 1\n",
    "                else:\n",
    "                    zero_sales_days_back = 1\n",
    "                sku_store_df_step.at[index, 'days_from_last_sales_that_not_zero'] = zero_sales_days_back\n",
    "        sku_store_df_step.loc[sku_store_df_step[\"date\"]<sku_store_df_step[sku_store_df_step[\"stock\"]>0][\"date\"].iloc[0], \"days_from_last_sales_that_not_zero\"] = np.nan\n",
    "        sku_store_df_step['rate_sales'] = sku_store_df_step['sales'] / sku_store_df_step['days_from_last_sales_that_not_zero']\n",
    "        dict_of_all_data_after_preprocess[sku][store] = sku_store_df_step\n",
    "        sku_store_df_step['diff_stock'] = sku_store_df_step['stock'].diff()\n",
    "\n",
    "\n"
   ],
   "metadata": {
    "collapsed": false
   }
  },
  {
   "cell_type": "code",
   "execution_count": 66,
   "outputs": [],
   "source": [
    "print(sku_store_df_step.iloc[100:])"
   ],
   "metadata": {
    "collapsed": false
   }
  },
  {
   "cell_type": "code",
   "execution_count": 67,
   "outputs": [
    {
     "name": "stdout",
     "output_type": "stream",
     "text": [
      "                      sku store       date  average_price  \\\n",
      "21164720  100630105000002  4906 2020-12-11            NaN   \n",
      "21222429  100630105000002  4906 2020-12-12          24.99   \n",
      "21249535  100630105000002  4906 2020-12-13            NaN   \n",
      "21276777  100630105000002  4906 2020-12-14            NaN   \n",
      "21301869  100630105000002  4906 2020-12-15            NaN   \n",
      "...                   ...   ...        ...            ...   \n",
      "73152449  100630105000002  4906 2023-12-08            NaN   \n",
      "73254871  100630105000002  4906 2023-12-09            NaN   \n",
      "73296915  100630105000002  4906 2023-12-10            NaN   \n",
      "73341680  100630105000002  4906 2023-12-11            NaN   \n",
      "73392356  100630105000002  4906 2023-12-12            NaN   \n",
      "\n",
      "          average_dicounted_price  sales          item             sku_store  \\\n",
      "21164720                      NaN    0.0  100630105000  100630105000002,4906   \n",
      "21222429                    24.99    1.0  100630105000  100630105000002,4906   \n",
      "21249535                      NaN    0.0  100630105000  100630105000002,4906   \n",
      "21276777                      NaN    0.0  100630105000  100630105000002,4906   \n",
      "21301869                      NaN    0.0  100630105000  100630105000002,4906   \n",
      "...                           ...    ...           ...                   ...   \n",
      "73152449                      NaN    0.0  100630105000  100630105000002,4906   \n",
      "73254871                      NaN    0.0  100630105000  100630105000002,4906   \n",
      "73296915                      NaN    0.0  100630105000  100630105000002,4906   \n",
      "73341680                      NaN    0.0  100630105000  100630105000002,4906   \n",
      "73392356                      NaN    0.0  100630105000  100630105000002,4906   \n",
      "\n",
      "          stock  warehouse_stock  palmers_first_allocation  \\\n",
      "21164720   10.0            324.0                      19.0   \n",
      "21222429   10.0            315.0                      19.0   \n",
      "21249535    9.0            315.0                      19.0   \n",
      "21276777    9.0            315.0                      19.0   \n",
      "21301869    9.0            304.0                      19.0   \n",
      "...         ...              ...                       ...   \n",
      "73152449    0.0              0.0                      19.0   \n",
      "73254871    0.0              0.0                      19.0   \n",
      "73296915    0.0              0.0                      19.0   \n",
      "73341680    0.0              0.0                      19.0   \n",
      "73392356    0.0              0.0                      19.0   \n",
      "\n",
      "          days_from_first_stock  sales_cumsum  \\\n",
      "21164720                   87.0          14.0   \n",
      "21222429                   88.0          15.0   \n",
      "21249535                   89.0          15.0   \n",
      "21276777                   90.0          15.0   \n",
      "21301869                   91.0          15.0   \n",
      "...                         ...           ...   \n",
      "73152449                 1179.0          22.0   \n",
      "73254871                 1180.0          22.0   \n",
      "73296915                 1181.0          22.0   \n",
      "73341680                 1182.0          22.0   \n",
      "73392356                 1183.0          22.0   \n",
      "\n",
      "          dynamic_stock_with_palmers_init  \\\n",
      "21164720                              5.0   \n",
      "21222429                              4.0   \n",
      "21249535                              4.0   \n",
      "21276777                              4.0   \n",
      "21301869                              4.0   \n",
      "...                                   ...   \n",
      "73152449                             -3.0   \n",
      "73254871                             -3.0   \n",
      "73296915                             -3.0   \n",
      "73341680                             -3.0   \n",
      "73392356                             -3.0   \n",
      "\n",
      "          sales_cumsum_divide_days_from_first_stock  \\\n",
      "21164720                                   0.160920   \n",
      "21222429                                   0.170455   \n",
      "21249535                                   0.168539   \n",
      "21276777                                   0.166667   \n",
      "21301869                                   0.164835   \n",
      "...                                             ...   \n",
      "73152449                                   0.018660   \n",
      "73254871                                   0.018644   \n",
      "73296915                                   0.018628   \n",
      "73341680                                   0.018613   \n",
      "73392356                                   0.018597   \n",
      "\n",
      "          days_from_last_sales_that_not_zero  rate_sales  diff_stock  \n",
      "21164720                                22.0    0.000000         0.0  \n",
      "21222429                                23.0    0.043478         0.0  \n",
      "21249535                                 1.0    0.000000        -1.0  \n",
      "21276777                                 2.0    0.000000         0.0  \n",
      "21301869                                 3.0    0.000000         0.0  \n",
      "...                                      ...         ...         ...  \n",
      "73152449                               735.0    0.000000         0.0  \n",
      "73254871                               736.0    0.000000         0.0  \n",
      "73296915                               737.0    0.000000         0.0  \n",
      "73341680                               738.0    0.000000         0.0  \n",
      "73392356                               739.0    0.000000         0.0  \n",
      "\n",
      "[1097 rows x 18 columns]\n"
     ]
    }
   ],
   "source": [
    "\n",
    "dynamic_distribution_per_store = {}\n",
    "date = '2021-06-13'\n",
    "total_stock_warehouse = 104\n",
    "update_stock_remain = 104\n",
    "warehouse_dict = {}\n",
    "for sku in dict_of_all_data_after_preprocess.keys():\n",
    "    dynamic_distribution_per_store[sku] = {}\n",
    "    warehouse_dict[sku] = {}\n",
    "    for store in dict_of_all_data_after_preprocess[sku].keys():\n",
    "        dynamic_distribution_per_store[sku][store] = {}\n",
    "        date_data = dict_of_all_data_after_preprocess[sku][store][dict_of_all_data_after_preprocess[sku][store]['date'] <= date]\n",
    "        dynamic_distribution_per_store[sku][store]['initial_stock_in_store'] = date_data['palmers_first_allocation'].iloc[-1]\n",
    "        dynamic_distribution_per_store[sku][store]['current_stock_in_store'] = date_data['dynamic_stock_with_palmers_init'].iloc[-1]\n",
    "        dynamic_distribution_per_store[sku][store]['sales_cumsum'] =  date_data.set_index('date')['sales_cumsum']\n",
    "        dynamic_distribution_per_store[sku][store]['rate_sales'] = date_data.set_index('date')['rate_sales']\n",
    "        dynamic_distribution_per_store[sku][store]['sales_cumsum_divide_days_from_first_stock'] = date_data.set_index('date')['sales_cumsum_divide_days_from_first_stock']\n",
    "        dynamic_distribution_per_store[sku][store]['initial_stock_in_warehouse'] = total_stock_warehouse\n",
    "        update_stock_remain -= date_data['diff_stock'][date_data['diff_stock'] > 0].sum() - np.abs(date_data['sales'][date_data['sales'] < 0].sum())\n",
    "        dynamic_distribution_per_store[sku][store]['prior_original_distribution'] = dict_per_store_per_year['2020'][store] / (dict_per_store_per_year['2020']['100'] + dict_per_store_per_year['2020']['42'])\n",
    "        dynamic_distribution_per_store[sku][store]['prior_original_allocation_stock'] = np.round(dynamic_distribution_per_store[sku][store]['prior_original_distribution'] * total_stock_warehouse)\n",
    "        dynamic_distribution_per_store[sku][store]['sales'] = date_data.set_index('date')['sales']\n",
    "\n",
    "\n",
    "\n",
    "\n",
    "    warehouse_dict[sku]['initial_stock_in_warehouse'] = total_stock_warehouse\n",
    "    warehouse_dict[sku]['remain_stock'] = update_stock_remain\n",
    "    for store in dict_of_all_data_after_preprocess[sku].keys():\n",
    "        dynamic_distribution_per_store[sku][store]['initial_stock_in_warehouse'] = warehouse_dict[sku]['initial_stock_in_warehouse']\n",
    "        dynamic_distribution_per_store[sku][store]['remain_stock'] = warehouse_dict[sku]['remain_stock']\n",
    "\n"
   ],
   "metadata": {
    "collapsed": false
   }
  },
  {
   "cell_type": "code",
   "execution_count": 68,
   "outputs": [],
   "source": [
    "dynamic_distribution_per_store"
   ],
   "metadata": {
    "collapsed": false
   }
  },
  {
   "cell_type": "code",
   "execution_count": 69,
   "outputs": [
    {
     "data": {
      "text/plain": "{'100630105000002': {'42': {'initial_stock_in_store': 20.0,\n   'current_stock_in_store': -24.0,\n   'sales_cumsum': date\n   2020-09-02     0.0\n   2020-09-03     0.0\n   2020-09-04     0.0\n   2020-09-05     0.0\n   2020-09-06     0.0\n                 ... \n   2021-06-09    44.0\n   2021-06-10    44.0\n   2021-06-11    44.0\n   2021-06-12    44.0\n   2021-06-13    44.0\n   Name: sales_cumsum, Length: 285, dtype: float64,\n   'rate_sales': date\n   2020-09-02    NaN\n   2020-09-03    NaN\n   2020-09-04    NaN\n   2020-09-05    NaN\n   2020-09-06    NaN\n                ... \n   2021-06-09    0.0\n   2021-06-10    0.0\n   2021-06-11    0.0\n   2021-06-12    0.0\n   2021-06-13    0.0\n   Name: rate_sales, Length: 285, dtype: float64,\n   'sales_cumsum_divide_days_from_first_stock': date\n   2020-09-02         NaN\n   2020-09-03         NaN\n   2020-09-04         NaN\n   2020-09-05         NaN\n   2020-09-06         NaN\n                   ...   \n   2021-06-09    0.161765\n   2021-06-10    0.161172\n   2021-06-11    0.160584\n   2021-06-12    0.160000\n   2021-06-13    0.159420\n   Name: sales_cumsum_divide_days_from_first_stock, Length: 285, dtype: float64,\n   'initial_stock_in_warehouse': 126,\n   'prior_original_distribution': 0.31892002083852405,\n   'prior_original_allocation_stock': 40.0,\n   'sales': date\n   2020-09-02    0.0\n   2020-09-03    0.0\n   2020-09-04    0.0\n   2020-09-05    0.0\n   2020-09-06    0.0\n                ... \n   2021-06-09    0.0\n   2021-06-10    0.0\n   2021-06-11    0.0\n   2021-06-12    0.0\n   2021-06-13    0.0\n   Name: sales, Length: 285, dtype: float64,\n   'remain_stock': 15.0},\n  '100': {'initial_stock_in_store': 25.0,\n   'current_stock_in_store': -14.0,\n   'sales_cumsum': date\n   2020-09-02     0.0\n   2020-09-03     0.0\n   2020-09-04     0.0\n   2020-09-05     0.0\n   2020-09-06     0.0\n                 ... \n   2021-06-09    39.0\n   2021-06-10    39.0\n   2021-06-11    39.0\n   2021-06-12    39.0\n   2021-06-13    39.0\n   Name: sales_cumsum, Length: 285, dtype: float64,\n   'rate_sales': date\n   2020-09-02    NaN\n   2020-09-03    NaN\n   2020-09-04    NaN\n   2020-09-05    NaN\n   2020-09-06    NaN\n                ... \n   2021-06-09    0.0\n   2021-06-10    0.0\n   2021-06-11    0.0\n   2021-06-12    0.0\n   2021-06-13    0.0\n   Name: rate_sales, Length: 285, dtype: float64,\n   'sales_cumsum_divide_days_from_first_stock': date\n   2020-09-02         NaN\n   2020-09-03         NaN\n   2020-09-04         NaN\n   2020-09-05         NaN\n   2020-09-06         NaN\n                   ...   \n   2021-06-09    0.143382\n   2021-06-10    0.142857\n   2021-06-11    0.142336\n   2021-06-12    0.141818\n   2021-06-13    0.141304\n   Name: sales_cumsum_divide_days_from_first_stock, Length: 285, dtype: float64,\n   'initial_stock_in_warehouse': 126,\n   'prior_original_distribution': 0.56062424969988,\n   'prior_original_allocation_stock': 71.0,\n   'sales': date\n   2020-09-02    0.0\n   2020-09-03    0.0\n   2020-09-04    0.0\n   2020-09-05    0.0\n   2020-09-06    0.0\n                ... \n   2021-06-09    0.0\n   2021-06-10    0.0\n   2021-06-11    0.0\n   2021-06-12    0.0\n   2021-06-13    0.0\n   Name: sales, Length: 285, dtype: float64,\n   'remain_stock': 15.0},\n  '4906': {'initial_stock_in_store': 19.0,\n   'current_stock_in_store': 1.0,\n   'sales_cumsum': date\n   2020-09-02     0.0\n   2020-09-03     0.0\n   2020-09-04     0.0\n   2020-09-05     0.0\n   2020-09-06     0.0\n                 ... \n   2021-06-09    18.0\n   2021-06-10    18.0\n   2021-06-11    18.0\n   2021-06-12    18.0\n   2021-06-13    18.0\n   Name: sales_cumsum, Length: 285, dtype: float64,\n   'rate_sales': date\n   2020-09-02    NaN\n   2020-09-03    NaN\n   2020-09-04    NaN\n   2020-09-05    NaN\n   2020-09-06    NaN\n                ... \n   2021-06-09    0.0\n   2021-06-10    0.0\n   2021-06-11    0.0\n   2021-06-12    0.0\n   2021-06-13    0.0\n   Name: rate_sales, Length: 285, dtype: float64,\n   'sales_cumsum_divide_days_from_first_stock': date\n   2020-09-02         NaN\n   2020-09-03         NaN\n   2020-09-04         NaN\n   2020-09-05         NaN\n   2020-09-06         NaN\n                   ...   \n   2021-06-09    0.067416\n   2021-06-10    0.067164\n   2021-06-11    0.066914\n   2021-06-12    0.066667\n   2021-06-13    0.066421\n   Name: sales_cumsum_divide_days_from_first_stock, Length: 285, dtype: float64,\n   'initial_stock_in_warehouse': 126,\n   'prior_original_distribution': 0.12045572946159595,\n   'prior_original_allocation_stock': 15.0,\n   'sales': date\n   2020-09-02    0.0\n   2020-09-03    0.0\n   2020-09-04    0.0\n   2020-09-05    0.0\n   2020-09-06    0.0\n                ... \n   2021-06-09    0.0\n   2021-06-10    0.0\n   2021-06-11    0.0\n   2021-06-12    0.0\n   2021-06-13    0.0\n   Name: sales, Length: 285, dtype: float64,\n   'remain_stock': 15.0}}}"
     },
     "execution_count": 69,
     "metadata": {},
     "output_type": "execute_result"
    }
   ],
   "source": [
    "import warnings\n",
    "warnings.filterwarnings(\"ignore\")\n",
    "for sku in dynamic_distribution_per_store:\n",
    "    df_of_sales_cumsum_divide_days_from_first_stock = pd.DataFrame()\n",
    "    df_of_sales_rolling = pd.DataFrame()\n",
    "    df_of_dynamic_distribution_per_store = pd.DataFrame()\n",
    "    df_of_sales_rolling_factor = pd.DataFrame()\n",
    "    for store in dynamic_distribution_per_store[sku]:\n",
    "        initial_dist = dynamic_distribution_per_store[sku][store]['prior_original_distribution']\n",
    "        dynamic_dist = pd.Series([np.nan] * len(dynamic_distribution_per_store[sku][store]['sales_cumsum']),\n",
    "                                 index=dynamic_distribution_per_store[sku][store]['sales_cumsum'].index)\n",
    "        first_index_that_no_nan = dynamic_distribution_per_store[sku][store]['sales_cumsum_divide_days_from_first_stock'].first_valid_index()\n",
    "\n",
    "        dynamic_dist.loc[first_index_that_no_nan] = initial_dist\n",
    "        # delete dynamic_dist rows after first_index_that_no_nan\n",
    "        dynamic_dist = dynamic_dist.loc[:first_index_that_no_nan]\n",
    "\n",
    "        dynamic_distribution_per_store[sku][store]['dynamic_dist'] = dynamic_dist\n",
    "\n",
    "\n",
    "        df_of_sales_cumsum_divide_days_from_first_stock[store] = dynamic_distribution_per_store[sku][store]['sales_cumsum_divide_days_from_first_stock']\n",
    "\n",
    "        df_of_sales_rolling[f'{store}'] = dynamic_distribution_per_store[sku][store]['sales'].rolling(7).sum()\n",
    "        df_of_dynamic_distribution_per_store[store] = dynamic_distribution_per_store[sku][store]['dynamic_dist']\n",
    "   # df_of_dynamic_distribution_per_store = df_of_dynamic_distribution_per_store.ffill()\n",
    "    A1 =  df_of_sales_rolling.sub(df_of_sales_rolling.min(axis=1), axis=0)\n",
    "    A2 = A1.divide(A1.max(axis=1), axis=0).fillna(0)\n",
    "\n",
    "    df_of_sales_rolling_factor = A2\n",
    "\n"
   ],
   "metadata": {
    "collapsed": false
   }
  },
  {
   "cell_type": "code",
   "execution_count": 76,
   "outputs": [
    {
     "name": "stdout",
     "output_type": "stream",
     "text": [
      "42\n",
      "0.31892002083852405\n",
      "2020-09-11 00:00:00\n",
      "100\n",
      "0.56062424969988\n",
      "2020-09-11 00:00:00\n",
      "4906\n",
      "0.12045572946159595\n",
      "2020-09-16 00:00:00\n"
     ]
    }
   ],
   "source": [
    "k = 0\n",
    "for index, row in df_of_sales_cumsum_divide_days_from_first_stock.iterrows():\n",
    "    print(index)\n",
    "    if row.isnull().all():\n",
    "        pass\n",
    "    else:\n",
    "        k += 1\n",
    "        if k == 1:\n",
    "            pass\n",
    "\n",
    "        else:\n",
    "            dynamic_distribution_per_store_row = df_of_dynamic_distribution_per_store.loc[index - pd.Timedelta(days=1)]\n",
    "            df_of_sales_rolling_factor_row = df_of_sales_rolling_factor.loc[index]\n",
    "            if sum(df_of_sales_rolling_factor_row) == 0:\n",
    "                # replace in uniuon disterbution. if there is 3 stores and all of them have 0 sales, then we will replace with 1/3\n",
    "                df_of_sales_rolling_factor_row = [1 / len(dynamic_distribution_per_store_row)] * len(dynamic_distribution_per_store_row)\n",
    "            new_dist_list = []\n",
    "            for i in range(len(dynamic_distribution_per_store_row)):\n",
    "                old_dist = dynamic_distribution_per_store_row.iloc[i]\n",
    "                new_dist = old_dist + df_of_sales_rolling_factor_row[i] * 0.01\n",
    "                new_dist_list.append(new_dist)\n",
    "\n",
    "            new_dist_list_norm = [x / sum(new_dist_list) for x in new_dist_list]\n",
    "            new_dist_list_norm = pd.DataFrame([new_dist_list_norm], columns=df_of_dynamic_distribution_per_store.columns, index=[index])\n",
    "            print(\"######\")\n",
    "            print(new_dist_list_norm)\n",
    "            df_of_dynamic_distribution_per_store = df_of_dynamic_distribution_per_store.append(new_dist_list_norm)\n"
   ],
   "metadata": {
    "collapsed": false
   }
  },
  {
   "cell_type": "code",
   "execution_count": 80,
   "outputs": [
    {
     "data": {
      "text/plain": "date\n2020-09-02         NaN\n2020-09-03         NaN\n2020-09-04         NaN\n2020-09-05         NaN\n2020-09-06         NaN\n2020-09-07         NaN\n2020-09-08         NaN\n2020-09-09         NaN\n2020-09-10         NaN\n2020-09-11         NaN\n2020-09-12         NaN\n2020-09-13         NaN\n2020-09-14         NaN\n2020-09-15         NaN\n2020-09-16    0.120456\ndtype: float64"
     },
     "execution_count": 80,
     "metadata": {},
     "output_type": "execute_result"
    }
   ],
   "source": [
    "df_of_dynamic_distribution_per_store.iloc[8:30]"
   ],
   "metadata": {
    "collapsed": false
   }
  },
  {
   "cell_type": "code",
   "execution_count": 78,
   "outputs": [
    {
     "name": "stdout",
     "output_type": "stream",
     "text": [
      "2020-09-02 00:00:00\n",
      "2020-09-03 00:00:00\n",
      "2020-09-04 00:00:00\n",
      "2020-09-05 00:00:00\n",
      "2020-09-06 00:00:00\n",
      "2020-09-07 00:00:00\n",
      "2020-09-08 00:00:00\n",
      "2020-09-09 00:00:00\n",
      "2020-09-10 00:00:00\n",
      "2020-09-11 00:00:00\n",
      "2020-09-12 00:00:00\n",
      "######\n",
      "            42  100  4906\n",
      "2020-09-12 NaN  NaN   NaN\n",
      "2020-09-13 00:00:00\n",
      "######\n",
      "            42  100  4906\n",
      "2020-09-13 NaN  NaN   NaN\n",
      "2020-09-14 00:00:00\n",
      "######\n",
      "            42  100  4906\n",
      "2020-09-14 NaN  NaN   NaN\n",
      "2020-09-15 00:00:00\n",
      "######\n",
      "            42  100  4906\n",
      "2020-09-15 NaN  NaN   NaN\n",
      "2020-09-16 00:00:00\n",
      "######\n",
      "            42  100  4906\n",
      "2020-09-16 NaN  NaN   NaN\n",
      "2020-09-17 00:00:00\n",
      "######\n",
      "            42  100  4906\n",
      "2020-09-17 NaN  NaN   NaN\n",
      "2020-09-18 00:00:00\n",
      "######\n",
      "            42  100  4906\n",
      "2020-09-18 NaN  NaN   NaN\n",
      "2020-09-19 00:00:00\n",
      "######\n",
      "            42  100  4906\n",
      "2020-09-19 NaN  NaN   NaN\n",
      "2020-09-20 00:00:00\n",
      "######\n",
      "            42  100  4906\n",
      "2020-09-20 NaN  NaN   NaN\n",
      "2020-09-21 00:00:00\n",
      "######\n",
      "            42  100  4906\n",
      "2020-09-21 NaN  NaN   NaN\n",
      "2020-09-22 00:00:00\n",
      "######\n",
      "            42  100  4906\n",
      "2020-09-22 NaN  NaN   NaN\n",
      "2020-09-23 00:00:00\n",
      "######\n",
      "            42  100  4906\n",
      "2020-09-23 NaN  NaN   NaN\n",
      "2020-09-24 00:00:00\n",
      "######\n",
      "            42  100  4906\n",
      "2020-09-24 NaN  NaN   NaN\n",
      "2020-09-25 00:00:00\n",
      "######\n",
      "            42  100  4906\n",
      "2020-09-25 NaN  NaN   NaN\n",
      "2020-09-26 00:00:00\n",
      "######\n",
      "            42  100  4906\n",
      "2020-09-26 NaN  NaN   NaN\n",
      "2020-09-27 00:00:00\n",
      "######\n",
      "            42  100  4906\n",
      "2020-09-27 NaN  NaN   NaN\n",
      "2020-09-28 00:00:00\n",
      "######\n",
      "            42  100  4906\n",
      "2020-09-28 NaN  NaN   NaN\n",
      "2020-09-29 00:00:00\n",
      "######\n",
      "            42  100  4906\n",
      "2020-09-29 NaN  NaN   NaN\n",
      "2020-09-30 00:00:00\n",
      "######\n",
      "            42  100  4906\n",
      "2020-09-30 NaN  NaN   NaN\n",
      "2020-10-01 00:00:00\n",
      "######\n",
      "            42  100  4906\n",
      "2020-10-01 NaN  NaN   NaN\n",
      "2020-10-02 00:00:00\n",
      "######\n",
      "            42  100  4906\n",
      "2020-10-02 NaN  NaN   NaN\n",
      "2020-10-03 00:00:00\n",
      "######\n",
      "            42  100  4906\n",
      "2020-10-03 NaN  NaN   NaN\n",
      "2020-10-04 00:00:00\n",
      "######\n",
      "            42  100  4906\n",
      "2020-10-04 NaN  NaN   NaN\n",
      "2020-10-05 00:00:00\n",
      "######\n",
      "            42  100  4906\n",
      "2020-10-05 NaN  NaN   NaN\n",
      "2020-10-06 00:00:00\n",
      "######\n",
      "            42  100  4906\n",
      "2020-10-06 NaN  NaN   NaN\n",
      "2020-10-07 00:00:00\n",
      "######\n",
      "            42  100  4906\n",
      "2020-10-07 NaN  NaN   NaN\n",
      "2020-10-08 00:00:00\n",
      "######\n",
      "            42  100  4906\n",
      "2020-10-08 NaN  NaN   NaN\n",
      "2020-10-09 00:00:00\n",
      "######\n",
      "            42  100  4906\n",
      "2020-10-09 NaN  NaN   NaN\n",
      "2020-10-10 00:00:00\n",
      "######\n",
      "            42  100  4906\n",
      "2020-10-10 NaN  NaN   NaN\n",
      "2020-10-11 00:00:00\n",
      "######\n",
      "            42  100  4906\n",
      "2020-10-11 NaN  NaN   NaN\n",
      "2020-10-12 00:00:00\n",
      "######\n",
      "            42  100  4906\n",
      "2020-10-12 NaN  NaN   NaN\n",
      "2020-10-13 00:00:00\n",
      "######\n",
      "            42  100  4906\n",
      "2020-10-13 NaN  NaN   NaN\n",
      "2020-10-14 00:00:00\n",
      "######\n",
      "            42  100  4906\n",
      "2020-10-14 NaN  NaN   NaN\n",
      "2020-10-15 00:00:00\n",
      "######\n",
      "            42  100  4906\n",
      "2020-10-15 NaN  NaN   NaN\n",
      "2020-10-16 00:00:00\n",
      "######\n",
      "            42  100  4906\n",
      "2020-10-16 NaN  NaN   NaN\n",
      "2020-10-17 00:00:00\n",
      "######\n",
      "            42  100  4906\n",
      "2020-10-17 NaN  NaN   NaN\n",
      "2020-10-18 00:00:00\n",
      "######\n",
      "            42  100  4906\n",
      "2020-10-18 NaN  NaN   NaN\n",
      "2020-10-19 00:00:00\n",
      "######\n",
      "            42  100  4906\n",
      "2020-10-19 NaN  NaN   NaN\n",
      "2020-10-20 00:00:00\n",
      "######\n",
      "            42  100  4906\n",
      "2020-10-20 NaN  NaN   NaN\n",
      "2020-10-21 00:00:00\n",
      "######\n",
      "            42  100  4906\n",
      "2020-10-21 NaN  NaN   NaN\n",
      "2020-10-22 00:00:00\n",
      "######\n",
      "            42  100  4906\n",
      "2020-10-22 NaN  NaN   NaN\n",
      "2020-10-23 00:00:00\n",
      "######\n",
      "            42  100  4906\n",
      "2020-10-23 NaN  NaN   NaN\n",
      "2020-10-24 00:00:00\n",
      "######\n",
      "            42  100  4906\n",
      "2020-10-24 NaN  NaN   NaN\n",
      "2020-10-25 00:00:00\n",
      "######\n",
      "            42  100  4906\n",
      "2020-10-25 NaN  NaN   NaN\n",
      "2020-10-26 00:00:00\n",
      "######\n",
      "            42  100  4906\n",
      "2020-10-26 NaN  NaN   NaN\n",
      "2020-10-27 00:00:00\n",
      "######\n",
      "            42  100  4906\n",
      "2020-10-27 NaN  NaN   NaN\n",
      "2020-10-28 00:00:00\n",
      "######\n",
      "            42  100  4906\n",
      "2020-10-28 NaN  NaN   NaN\n",
      "2020-10-29 00:00:00\n",
      "######\n",
      "            42  100  4906\n",
      "2020-10-29 NaN  NaN   NaN\n",
      "2020-10-30 00:00:00\n",
      "######\n",
      "            42  100  4906\n",
      "2020-10-30 NaN  NaN   NaN\n",
      "2020-10-31 00:00:00\n",
      "######\n",
      "            42  100  4906\n",
      "2020-10-31 NaN  NaN   NaN\n",
      "2020-11-01 00:00:00\n",
      "######\n",
      "            42  100  4906\n",
      "2020-11-01 NaN  NaN   NaN\n",
      "2020-11-02 00:00:00\n",
      "######\n",
      "            42  100  4906\n",
      "2020-11-02 NaN  NaN   NaN\n",
      "2020-11-03 00:00:00\n",
      "######\n",
      "            42  100  4906\n",
      "2020-11-03 NaN  NaN   NaN\n",
      "2020-11-04 00:00:00\n",
      "######\n",
      "            42  100  4906\n",
      "2020-11-04 NaN  NaN   NaN\n",
      "2020-11-05 00:00:00\n",
      "######\n",
      "            42  100  4906\n",
      "2020-11-05 NaN  NaN   NaN\n",
      "2020-11-06 00:00:00\n",
      "######\n",
      "            42  100  4906\n",
      "2020-11-06 NaN  NaN   NaN\n",
      "2020-11-07 00:00:00\n",
      "######\n",
      "            42  100  4906\n",
      "2020-11-07 NaN  NaN   NaN\n",
      "2020-11-08 00:00:00\n",
      "######\n",
      "            42  100  4906\n",
      "2020-11-08 NaN  NaN   NaN\n",
      "2020-11-09 00:00:00\n",
      "######\n",
      "            42  100  4906\n",
      "2020-11-09 NaN  NaN   NaN\n",
      "2020-11-10 00:00:00\n",
      "######\n",
      "            42  100  4906\n",
      "2020-11-10 NaN  NaN   NaN\n",
      "2020-11-11 00:00:00\n",
      "######\n",
      "            42  100  4906\n",
      "2020-11-11 NaN  NaN   NaN\n",
      "2020-11-12 00:00:00\n",
      "######\n",
      "            42  100  4906\n",
      "2020-11-12 NaN  NaN   NaN\n",
      "2020-11-13 00:00:00\n",
      "######\n",
      "            42  100  4906\n",
      "2020-11-13 NaN  NaN   NaN\n",
      "2020-11-14 00:00:00\n",
      "######\n",
      "            42  100  4906\n",
      "2020-11-14 NaN  NaN   NaN\n",
      "2020-11-15 00:00:00\n",
      "######\n",
      "            42  100  4906\n",
      "2020-11-15 NaN  NaN   NaN\n",
      "2020-11-16 00:00:00\n",
      "######\n",
      "            42  100  4906\n",
      "2020-11-16 NaN  NaN   NaN\n",
      "2020-11-17 00:00:00\n",
      "######\n",
      "            42  100  4906\n",
      "2020-11-17 NaN  NaN   NaN\n",
      "2020-11-18 00:00:00\n",
      "######\n",
      "            42  100  4906\n",
      "2020-11-18 NaN  NaN   NaN\n",
      "2020-11-19 00:00:00\n",
      "######\n",
      "            42  100  4906\n",
      "2020-11-19 NaN  NaN   NaN\n",
      "2020-11-20 00:00:00\n",
      "######\n",
      "            42  100  4906\n",
      "2020-11-20 NaN  NaN   NaN\n",
      "2020-11-21 00:00:00\n",
      "######\n",
      "            42  100  4906\n",
      "2020-11-21 NaN  NaN   NaN\n",
      "2020-11-22 00:00:00\n",
      "######\n",
      "            42  100  4906\n",
      "2020-11-22 NaN  NaN   NaN\n",
      "2020-11-23 00:00:00\n",
      "######\n",
      "            42  100  4906\n",
      "2020-11-23 NaN  NaN   NaN\n",
      "2020-11-24 00:00:00\n",
      "######\n",
      "            42  100  4906\n",
      "2020-11-24 NaN  NaN   NaN\n",
      "2020-11-25 00:00:00\n",
      "######\n",
      "            42  100  4906\n",
      "2020-11-25 NaN  NaN   NaN\n",
      "2020-11-26 00:00:00\n",
      "######\n",
      "            42  100  4906\n",
      "2020-11-26 NaN  NaN   NaN\n",
      "2020-11-27 00:00:00\n",
      "######\n",
      "            42  100  4906\n",
      "2020-11-27 NaN  NaN   NaN\n",
      "2020-11-28 00:00:00\n",
      "######\n",
      "            42  100  4906\n",
      "2020-11-28 NaN  NaN   NaN\n",
      "2020-11-29 00:00:00\n",
      "######\n",
      "            42  100  4906\n",
      "2020-11-29 NaN  NaN   NaN\n",
      "2020-11-30 00:00:00\n",
      "######\n",
      "            42  100  4906\n",
      "2020-11-30 NaN  NaN   NaN\n",
      "2020-12-01 00:00:00\n",
      "######\n",
      "            42  100  4906\n",
      "2020-12-01 NaN  NaN   NaN\n",
      "2020-12-02 00:00:00\n",
      "######\n",
      "            42  100  4906\n",
      "2020-12-02 NaN  NaN   NaN\n",
      "2020-12-03 00:00:00\n",
      "######\n",
      "            42  100  4906\n",
      "2020-12-03 NaN  NaN   NaN\n",
      "2020-12-04 00:00:00\n",
      "######\n",
      "            42  100  4906\n",
      "2020-12-04 NaN  NaN   NaN\n",
      "2020-12-05 00:00:00\n",
      "######\n",
      "            42  100  4906\n",
      "2020-12-05 NaN  NaN   NaN\n",
      "2020-12-06 00:00:00\n",
      "######\n",
      "            42  100  4906\n",
      "2020-12-06 NaN  NaN   NaN\n",
      "2020-12-07 00:00:00\n",
      "######\n",
      "            42  100  4906\n",
      "2020-12-07 NaN  NaN   NaN\n",
      "2020-12-08 00:00:00\n",
      "######\n",
      "            42  100  4906\n",
      "2020-12-08 NaN  NaN   NaN\n",
      "2020-12-09 00:00:00\n",
      "######\n",
      "            42  100  4906\n",
      "2020-12-09 NaN  NaN   NaN\n",
      "2020-12-10 00:00:00\n",
      "######\n",
      "            42  100  4906\n",
      "2020-12-10 NaN  NaN   NaN\n",
      "2020-12-11 00:00:00\n",
      "######\n",
      "            42  100  4906\n",
      "2020-12-11 NaN  NaN   NaN\n",
      "2020-12-12 00:00:00\n",
      "######\n",
      "            42  100  4906\n",
      "2020-12-12 NaN  NaN   NaN\n",
      "2020-12-13 00:00:00\n",
      "######\n",
      "            42  100  4906\n",
      "2020-12-13 NaN  NaN   NaN\n",
      "2020-12-14 00:00:00\n",
      "######\n",
      "            42  100  4906\n",
      "2020-12-14 NaN  NaN   NaN\n",
      "2020-12-15 00:00:00\n",
      "######\n",
      "            42  100  4906\n",
      "2020-12-15 NaN  NaN   NaN\n",
      "2020-12-16 00:00:00\n",
      "######\n",
      "            42  100  4906\n",
      "2020-12-16 NaN  NaN   NaN\n",
      "2020-12-17 00:00:00\n",
      "######\n",
      "            42  100  4906\n",
      "2020-12-17 NaN  NaN   NaN\n",
      "2020-12-18 00:00:00\n",
      "######\n",
      "            42  100  4906\n",
      "2020-12-18 NaN  NaN   NaN\n",
      "2020-12-19 00:00:00\n",
      "######\n",
      "            42  100  4906\n",
      "2020-12-19 NaN  NaN   NaN\n",
      "2020-12-20 00:00:00\n",
      "######\n",
      "            42  100  4906\n",
      "2020-12-20 NaN  NaN   NaN\n",
      "2020-12-21 00:00:00\n",
      "######\n",
      "            42  100  4906\n",
      "2020-12-21 NaN  NaN   NaN\n",
      "2020-12-22 00:00:00\n",
      "######\n",
      "            42  100  4906\n",
      "2020-12-22 NaN  NaN   NaN\n",
      "2020-12-23 00:00:00\n",
      "######\n",
      "            42  100  4906\n",
      "2020-12-23 NaN  NaN   NaN\n",
      "2020-12-24 00:00:00\n",
      "######\n",
      "            42  100  4906\n",
      "2020-12-24 NaN  NaN   NaN\n",
      "2020-12-25 00:00:00\n",
      "######\n",
      "            42  100  4906\n",
      "2020-12-25 NaN  NaN   NaN\n",
      "2020-12-26 00:00:00\n",
      "######\n",
      "            42  100  4906\n",
      "2020-12-26 NaN  NaN   NaN\n",
      "2020-12-27 00:00:00\n",
      "######\n",
      "            42  100  4906\n",
      "2020-12-27 NaN  NaN   NaN\n",
      "2020-12-28 00:00:00\n",
      "######\n",
      "            42  100  4906\n",
      "2020-12-28 NaN  NaN   NaN\n",
      "2020-12-29 00:00:00\n",
      "######\n",
      "            42  100  4906\n",
      "2020-12-29 NaN  NaN   NaN\n",
      "2020-12-30 00:00:00\n",
      "######\n",
      "            42  100  4906\n",
      "2020-12-30 NaN  NaN   NaN\n",
      "2020-12-31 00:00:00\n",
      "######\n",
      "            42  100  4906\n",
      "2020-12-31 NaN  NaN   NaN\n",
      "2021-01-01 00:00:00\n",
      "######\n",
      "            42  100  4906\n",
      "2021-01-01 NaN  NaN   NaN\n",
      "2021-01-02 00:00:00\n",
      "######\n",
      "            42  100  4906\n",
      "2021-01-02 NaN  NaN   NaN\n",
      "2021-01-03 00:00:00\n",
      "######\n",
      "            42  100  4906\n",
      "2021-01-03 NaN  NaN   NaN\n",
      "2021-01-04 00:00:00\n",
      "######\n",
      "            42  100  4906\n",
      "2021-01-04 NaN  NaN   NaN\n",
      "2021-01-05 00:00:00\n",
      "######\n",
      "            42  100  4906\n",
      "2021-01-05 NaN  NaN   NaN\n",
      "2021-01-06 00:00:00\n",
      "######\n",
      "            42  100  4906\n",
      "2021-01-06 NaN  NaN   NaN\n",
      "2021-01-07 00:00:00\n",
      "######\n",
      "            42  100  4906\n",
      "2021-01-07 NaN  NaN   NaN\n",
      "2021-01-08 00:00:00\n",
      "######\n",
      "            42  100  4906\n",
      "2021-01-08 NaN  NaN   NaN\n",
      "2021-01-09 00:00:00\n",
      "######\n",
      "            42  100  4906\n",
      "2021-01-09 NaN  NaN   NaN\n",
      "2021-01-10 00:00:00\n",
      "######\n",
      "            42  100  4906\n",
      "2021-01-10 NaN  NaN   NaN\n",
      "2021-01-11 00:00:00\n",
      "######\n",
      "            42  100  4906\n",
      "2021-01-11 NaN  NaN   NaN\n",
      "2021-01-12 00:00:00\n",
      "######\n",
      "            42  100  4906\n",
      "2021-01-12 NaN  NaN   NaN\n",
      "2021-01-13 00:00:00\n",
      "######\n",
      "            42  100  4906\n",
      "2021-01-13 NaN  NaN   NaN\n",
      "2021-01-14 00:00:00\n",
      "######\n",
      "            42  100  4906\n",
      "2021-01-14 NaN  NaN   NaN\n",
      "2021-01-15 00:00:00\n",
      "######\n",
      "            42  100  4906\n",
      "2021-01-15 NaN  NaN   NaN\n",
      "2021-01-16 00:00:00\n",
      "######\n",
      "            42  100  4906\n",
      "2021-01-16 NaN  NaN   NaN\n",
      "2021-01-17 00:00:00\n",
      "######\n",
      "            42  100  4906\n",
      "2021-01-17 NaN  NaN   NaN\n",
      "2021-01-18 00:00:00\n",
      "######\n",
      "            42  100  4906\n",
      "2021-01-18 NaN  NaN   NaN\n",
      "2021-01-19 00:00:00\n",
      "######\n",
      "            42  100  4906\n",
      "2021-01-19 NaN  NaN   NaN\n",
      "2021-01-20 00:00:00\n",
      "######\n",
      "            42  100  4906\n",
      "2021-01-20 NaN  NaN   NaN\n",
      "2021-01-21 00:00:00\n",
      "######\n",
      "            42  100  4906\n",
      "2021-01-21 NaN  NaN   NaN\n",
      "2021-01-22 00:00:00\n",
      "######\n",
      "            42  100  4906\n",
      "2021-01-22 NaN  NaN   NaN\n",
      "2021-01-23 00:00:00\n",
      "######\n",
      "            42  100  4906\n",
      "2021-01-23 NaN  NaN   NaN\n",
      "2021-01-24 00:00:00\n",
      "######\n",
      "            42  100  4906\n",
      "2021-01-24 NaN  NaN   NaN\n",
      "2021-01-25 00:00:00\n",
      "######\n",
      "            42  100  4906\n",
      "2021-01-25 NaN  NaN   NaN\n",
      "2021-01-26 00:00:00\n",
      "######\n",
      "            42  100  4906\n",
      "2021-01-26 NaN  NaN   NaN\n",
      "2021-01-27 00:00:00\n",
      "######\n",
      "            42  100  4906\n",
      "2021-01-27 NaN  NaN   NaN\n",
      "2021-01-28 00:00:00\n",
      "######\n",
      "            42  100  4906\n",
      "2021-01-28 NaN  NaN   NaN\n",
      "2021-01-29 00:00:00\n",
      "######\n",
      "            42  100  4906\n",
      "2021-01-29 NaN  NaN   NaN\n",
      "2021-01-30 00:00:00\n",
      "######\n",
      "            42  100  4906\n",
      "2021-01-30 NaN  NaN   NaN\n",
      "2021-01-31 00:00:00\n",
      "######\n",
      "            42  100  4906\n",
      "2021-01-31 NaN  NaN   NaN\n",
      "2021-02-01 00:00:00\n",
      "######\n",
      "            42  100  4906\n",
      "2021-02-01 NaN  NaN   NaN\n",
      "2021-02-02 00:00:00\n",
      "######\n",
      "            42  100  4906\n",
      "2021-02-02 NaN  NaN   NaN\n",
      "2021-02-03 00:00:00\n",
      "######\n",
      "            42  100  4906\n",
      "2021-02-03 NaN  NaN   NaN\n",
      "2021-02-04 00:00:00\n",
      "######\n",
      "            42  100  4906\n",
      "2021-02-04 NaN  NaN   NaN\n",
      "2021-02-05 00:00:00\n",
      "######\n",
      "            42  100  4906\n",
      "2021-02-05 NaN  NaN   NaN\n",
      "2021-02-06 00:00:00\n",
      "######\n",
      "            42  100  4906\n",
      "2021-02-06 NaN  NaN   NaN\n",
      "2021-02-07 00:00:00\n",
      "######\n",
      "            42  100  4906\n",
      "2021-02-07 NaN  NaN   NaN\n",
      "2021-02-08 00:00:00\n",
      "######\n",
      "            42  100  4906\n",
      "2021-02-08 NaN  NaN   NaN\n",
      "2021-02-09 00:00:00\n",
      "######\n",
      "            42  100  4906\n",
      "2021-02-09 NaN  NaN   NaN\n",
      "2021-02-10 00:00:00\n",
      "######\n",
      "            42  100  4906\n",
      "2021-02-10 NaN  NaN   NaN\n",
      "2021-02-11 00:00:00\n",
      "######\n",
      "            42  100  4906\n",
      "2021-02-11 NaN  NaN   NaN\n",
      "2021-02-12 00:00:00\n",
      "######\n",
      "            42  100  4906\n",
      "2021-02-12 NaN  NaN   NaN\n",
      "2021-02-13 00:00:00\n",
      "######\n",
      "            42  100  4906\n",
      "2021-02-13 NaN  NaN   NaN\n",
      "2021-02-14 00:00:00\n",
      "######\n",
      "            42  100  4906\n",
      "2021-02-14 NaN  NaN   NaN\n",
      "2021-02-15 00:00:00\n",
      "######\n",
      "            42  100  4906\n",
      "2021-02-15 NaN  NaN   NaN\n",
      "2021-02-16 00:00:00\n",
      "######\n",
      "            42  100  4906\n",
      "2021-02-16 NaN  NaN   NaN\n",
      "2021-02-17 00:00:00\n",
      "######\n",
      "            42  100  4906\n",
      "2021-02-17 NaN  NaN   NaN\n",
      "2021-02-18 00:00:00\n",
      "######\n",
      "            42  100  4906\n",
      "2021-02-18 NaN  NaN   NaN\n",
      "2021-02-19 00:00:00\n",
      "######\n",
      "            42  100  4906\n",
      "2021-02-19 NaN  NaN   NaN\n",
      "2021-02-20 00:00:00\n",
      "######\n",
      "            42  100  4906\n",
      "2021-02-20 NaN  NaN   NaN\n",
      "2021-02-21 00:00:00\n",
      "######\n",
      "            42  100  4906\n",
      "2021-02-21 NaN  NaN   NaN\n",
      "2021-02-22 00:00:00\n",
      "######\n",
      "            42  100  4906\n",
      "2021-02-22 NaN  NaN   NaN\n",
      "2021-02-23 00:00:00\n",
      "######\n",
      "            42  100  4906\n",
      "2021-02-23 NaN  NaN   NaN\n",
      "2021-02-24 00:00:00\n",
      "######\n",
      "            42  100  4906\n",
      "2021-02-24 NaN  NaN   NaN\n",
      "2021-02-25 00:00:00\n",
      "######\n",
      "            42  100  4906\n",
      "2021-02-25 NaN  NaN   NaN\n",
      "2021-02-26 00:00:00\n",
      "######\n",
      "            42  100  4906\n",
      "2021-02-26 NaN  NaN   NaN\n",
      "2021-02-27 00:00:00\n",
      "######\n",
      "            42  100  4906\n",
      "2021-02-27 NaN  NaN   NaN\n",
      "2021-02-28 00:00:00\n",
      "######\n",
      "            42  100  4906\n",
      "2021-02-28 NaN  NaN   NaN\n",
      "2021-03-01 00:00:00\n",
      "######\n",
      "            42  100  4906\n",
      "2021-03-01 NaN  NaN   NaN\n",
      "2021-03-02 00:00:00\n",
      "######\n",
      "            42  100  4906\n",
      "2021-03-02 NaN  NaN   NaN\n",
      "2021-03-03 00:00:00\n",
      "######\n",
      "            42  100  4906\n",
      "2021-03-03 NaN  NaN   NaN\n",
      "2021-03-04 00:00:00\n",
      "######\n",
      "            42  100  4906\n",
      "2021-03-04 NaN  NaN   NaN\n",
      "2021-03-05 00:00:00\n",
      "######\n",
      "            42  100  4906\n",
      "2021-03-05 NaN  NaN   NaN\n",
      "2021-03-06 00:00:00\n",
      "######\n",
      "            42  100  4906\n",
      "2021-03-06 NaN  NaN   NaN\n",
      "2021-03-07 00:00:00\n",
      "######\n",
      "            42  100  4906\n",
      "2021-03-07 NaN  NaN   NaN\n",
      "2021-03-08 00:00:00\n",
      "######\n",
      "            42  100  4906\n",
      "2021-03-08 NaN  NaN   NaN\n",
      "2021-03-09 00:00:00\n",
      "######\n",
      "            42  100  4906\n",
      "2021-03-09 NaN  NaN   NaN\n",
      "2021-03-10 00:00:00\n",
      "######\n",
      "            42  100  4906\n",
      "2021-03-10 NaN  NaN   NaN\n",
      "2021-03-11 00:00:00\n",
      "######\n",
      "            42  100  4906\n",
      "2021-03-11 NaN  NaN   NaN\n",
      "2021-03-12 00:00:00\n",
      "######\n",
      "            42  100  4906\n",
      "2021-03-12 NaN  NaN   NaN\n",
      "2021-03-13 00:00:00\n",
      "######\n",
      "            42  100  4906\n",
      "2021-03-13 NaN  NaN   NaN\n",
      "2021-03-14 00:00:00\n",
      "######\n",
      "            42  100  4906\n",
      "2021-03-14 NaN  NaN   NaN\n",
      "2021-03-15 00:00:00\n",
      "######\n",
      "            42  100  4906\n",
      "2021-03-15 NaN  NaN   NaN\n",
      "2021-03-16 00:00:00\n",
      "######\n",
      "            42  100  4906\n",
      "2021-03-16 NaN  NaN   NaN\n",
      "2021-03-17 00:00:00\n",
      "######\n",
      "            42  100  4906\n",
      "2021-03-17 NaN  NaN   NaN\n",
      "2021-03-18 00:00:00\n",
      "######\n",
      "            42  100  4906\n",
      "2021-03-18 NaN  NaN   NaN\n",
      "2021-03-19 00:00:00\n",
      "######\n",
      "            42  100  4906\n",
      "2021-03-19 NaN  NaN   NaN\n",
      "2021-03-20 00:00:00\n",
      "######\n",
      "            42  100  4906\n",
      "2021-03-20 NaN  NaN   NaN\n",
      "2021-03-21 00:00:00\n",
      "######\n",
      "            42  100  4906\n",
      "2021-03-21 NaN  NaN   NaN\n",
      "2021-03-22 00:00:00\n",
      "######\n",
      "            42  100  4906\n",
      "2021-03-22 NaN  NaN   NaN\n",
      "2021-03-23 00:00:00\n",
      "######\n",
      "            42  100  4906\n",
      "2021-03-23 NaN  NaN   NaN\n",
      "2021-03-24 00:00:00\n",
      "######\n",
      "            42  100  4906\n",
      "2021-03-24 NaN  NaN   NaN\n",
      "2021-03-25 00:00:00\n",
      "######\n",
      "            42  100  4906\n",
      "2021-03-25 NaN  NaN   NaN\n",
      "2021-03-26 00:00:00\n",
      "######\n",
      "            42  100  4906\n",
      "2021-03-26 NaN  NaN   NaN\n",
      "2021-03-27 00:00:00\n",
      "######\n",
      "            42  100  4906\n",
      "2021-03-27 NaN  NaN   NaN\n",
      "2021-03-28 00:00:00\n",
      "######\n",
      "            42  100  4906\n",
      "2021-03-28 NaN  NaN   NaN\n",
      "2021-03-29 00:00:00\n",
      "######\n",
      "            42  100  4906\n",
      "2021-03-29 NaN  NaN   NaN\n",
      "2021-03-30 00:00:00\n",
      "######\n",
      "            42  100  4906\n",
      "2021-03-30 NaN  NaN   NaN\n",
      "2021-03-31 00:00:00\n",
      "######\n",
      "            42  100  4906\n",
      "2021-03-31 NaN  NaN   NaN\n",
      "2021-04-01 00:00:00\n",
      "######\n",
      "            42  100  4906\n",
      "2021-04-01 NaN  NaN   NaN\n",
      "2021-04-02 00:00:00\n",
      "######\n",
      "            42  100  4906\n",
      "2021-04-02 NaN  NaN   NaN\n",
      "2021-04-03 00:00:00\n",
      "######\n",
      "            42  100  4906\n",
      "2021-04-03 NaN  NaN   NaN\n",
      "2021-04-04 00:00:00\n",
      "######\n",
      "            42  100  4906\n",
      "2021-04-04 NaN  NaN   NaN\n",
      "2021-04-05 00:00:00\n",
      "######\n",
      "            42  100  4906\n",
      "2021-04-05 NaN  NaN   NaN\n",
      "2021-04-06 00:00:00\n",
      "######\n",
      "            42  100  4906\n",
      "2021-04-06 NaN  NaN   NaN\n",
      "2021-04-07 00:00:00\n",
      "######\n",
      "            42  100  4906\n",
      "2021-04-07 NaN  NaN   NaN\n",
      "2021-04-08 00:00:00\n",
      "######\n",
      "            42  100  4906\n",
      "2021-04-08 NaN  NaN   NaN\n",
      "2021-04-09 00:00:00\n",
      "######\n",
      "            42  100  4906\n",
      "2021-04-09 NaN  NaN   NaN\n",
      "2021-04-10 00:00:00\n",
      "######\n",
      "            42  100  4906\n",
      "2021-04-10 NaN  NaN   NaN\n",
      "2021-04-11 00:00:00\n",
      "######\n",
      "            42  100  4906\n",
      "2021-04-11 NaN  NaN   NaN\n",
      "2021-04-12 00:00:00\n",
      "######\n",
      "            42  100  4906\n",
      "2021-04-12 NaN  NaN   NaN\n",
      "2021-04-13 00:00:00\n",
      "######\n",
      "            42  100  4906\n",
      "2021-04-13 NaN  NaN   NaN\n",
      "2021-04-14 00:00:00\n",
      "######\n",
      "            42  100  4906\n",
      "2021-04-14 NaN  NaN   NaN\n",
      "2021-04-15 00:00:00\n",
      "######\n",
      "            42  100  4906\n",
      "2021-04-15 NaN  NaN   NaN\n",
      "2021-04-16 00:00:00\n",
      "######\n",
      "            42  100  4906\n",
      "2021-04-16 NaN  NaN   NaN\n",
      "2021-04-17 00:00:00\n",
      "######\n",
      "            42  100  4906\n",
      "2021-04-17 NaN  NaN   NaN\n",
      "2021-04-18 00:00:00\n",
      "######\n",
      "            42  100  4906\n",
      "2021-04-18 NaN  NaN   NaN\n",
      "2021-04-19 00:00:00\n",
      "######\n",
      "            42  100  4906\n",
      "2021-04-19 NaN  NaN   NaN\n",
      "2021-04-20 00:00:00\n",
      "######\n",
      "            42  100  4906\n",
      "2021-04-20 NaN  NaN   NaN\n",
      "2021-04-21 00:00:00\n",
      "######\n",
      "            42  100  4906\n",
      "2021-04-21 NaN  NaN   NaN\n",
      "2021-04-22 00:00:00\n",
      "######\n",
      "            42  100  4906\n",
      "2021-04-22 NaN  NaN   NaN\n",
      "2021-04-23 00:00:00\n",
      "######\n",
      "            42  100  4906\n",
      "2021-04-23 NaN  NaN   NaN\n",
      "2021-04-24 00:00:00\n",
      "######\n",
      "            42  100  4906\n",
      "2021-04-24 NaN  NaN   NaN\n",
      "2021-04-25 00:00:00\n",
      "######\n",
      "            42  100  4906\n",
      "2021-04-25 NaN  NaN   NaN\n",
      "2021-04-26 00:00:00\n",
      "######\n",
      "            42  100  4906\n",
      "2021-04-26 NaN  NaN   NaN\n",
      "2021-04-27 00:00:00\n",
      "######\n",
      "            42  100  4906\n",
      "2021-04-27 NaN  NaN   NaN\n",
      "2021-04-28 00:00:00\n",
      "######\n",
      "            42  100  4906\n",
      "2021-04-28 NaN  NaN   NaN\n",
      "2021-04-29 00:00:00\n",
      "######\n",
      "            42  100  4906\n",
      "2021-04-29 NaN  NaN   NaN\n",
      "2021-04-30 00:00:00\n",
      "######\n",
      "            42  100  4906\n",
      "2021-04-30 NaN  NaN   NaN\n",
      "2021-05-01 00:00:00\n",
      "######\n",
      "            42  100  4906\n",
      "2021-05-01 NaN  NaN   NaN\n",
      "2021-05-02 00:00:00\n",
      "######\n",
      "            42  100  4906\n",
      "2021-05-02 NaN  NaN   NaN\n",
      "2021-05-03 00:00:00\n",
      "######\n",
      "            42  100  4906\n",
      "2021-05-03 NaN  NaN   NaN\n",
      "2021-05-04 00:00:00\n",
      "######\n",
      "            42  100  4906\n",
      "2021-05-04 NaN  NaN   NaN\n",
      "2021-05-05 00:00:00\n",
      "######\n",
      "            42  100  4906\n",
      "2021-05-05 NaN  NaN   NaN\n",
      "2021-05-06 00:00:00\n",
      "######\n",
      "            42  100  4906\n",
      "2021-05-06 NaN  NaN   NaN\n",
      "2021-05-07 00:00:00\n",
      "######\n",
      "            42  100  4906\n",
      "2021-05-07 NaN  NaN   NaN\n",
      "2021-05-08 00:00:00\n",
      "######\n",
      "            42  100  4906\n",
      "2021-05-08 NaN  NaN   NaN\n",
      "2021-05-09 00:00:00\n",
      "######\n",
      "            42  100  4906\n",
      "2021-05-09 NaN  NaN   NaN\n",
      "2021-05-10 00:00:00\n",
      "######\n",
      "            42  100  4906\n",
      "2021-05-10 NaN  NaN   NaN\n",
      "2021-05-11 00:00:00\n",
      "######\n",
      "            42  100  4906\n",
      "2021-05-11 NaN  NaN   NaN\n",
      "2021-05-12 00:00:00\n",
      "######\n",
      "            42  100  4906\n",
      "2021-05-12 NaN  NaN   NaN\n",
      "2021-05-13 00:00:00\n",
      "######\n",
      "            42  100  4906\n",
      "2021-05-13 NaN  NaN   NaN\n",
      "2021-05-14 00:00:00\n",
      "######\n",
      "            42  100  4906\n",
      "2021-05-14 NaN  NaN   NaN\n",
      "2021-05-15 00:00:00\n",
      "######\n",
      "            42  100  4906\n",
      "2021-05-15 NaN  NaN   NaN\n",
      "2021-05-16 00:00:00\n",
      "######\n",
      "            42  100  4906\n",
      "2021-05-16 NaN  NaN   NaN\n",
      "2021-05-17 00:00:00\n",
      "######\n",
      "            42  100  4906\n",
      "2021-05-17 NaN  NaN   NaN\n",
      "2021-05-18 00:00:00\n",
      "######\n",
      "            42  100  4906\n",
      "2021-05-18 NaN  NaN   NaN\n",
      "2021-05-19 00:00:00\n",
      "######\n",
      "            42  100  4906\n",
      "2021-05-19 NaN  NaN   NaN\n",
      "2021-05-20 00:00:00\n",
      "######\n",
      "            42  100  4906\n",
      "2021-05-20 NaN  NaN   NaN\n",
      "2021-05-21 00:00:00\n",
      "######\n",
      "            42  100  4906\n",
      "2021-05-21 NaN  NaN   NaN\n",
      "2021-05-22 00:00:00\n",
      "######\n",
      "            42  100  4906\n",
      "2021-05-22 NaN  NaN   NaN\n",
      "2021-05-23 00:00:00\n",
      "######\n",
      "            42  100  4906\n",
      "2021-05-23 NaN  NaN   NaN\n",
      "2021-05-24 00:00:00\n",
      "######\n",
      "            42  100  4906\n",
      "2021-05-24 NaN  NaN   NaN\n",
      "2021-05-25 00:00:00\n",
      "######\n",
      "            42  100  4906\n",
      "2021-05-25 NaN  NaN   NaN\n",
      "2021-05-26 00:00:00\n",
      "######\n",
      "            42  100  4906\n",
      "2021-05-26 NaN  NaN   NaN\n",
      "2021-05-27 00:00:00\n",
      "######\n",
      "            42  100  4906\n",
      "2021-05-27 NaN  NaN   NaN\n",
      "2021-05-28 00:00:00\n",
      "######\n",
      "            42  100  4906\n",
      "2021-05-28 NaN  NaN   NaN\n",
      "2021-05-29 00:00:00\n",
      "######\n",
      "            42  100  4906\n",
      "2021-05-29 NaN  NaN   NaN\n",
      "2021-05-30 00:00:00\n",
      "######\n",
      "            42  100  4906\n",
      "2021-05-30 NaN  NaN   NaN\n",
      "2021-05-31 00:00:00\n",
      "######\n",
      "            42  100  4906\n",
      "2021-05-31 NaN  NaN   NaN\n",
      "2021-06-01 00:00:00\n",
      "######\n",
      "            42  100  4906\n",
      "2021-06-01 NaN  NaN   NaN\n",
      "2021-06-02 00:00:00\n",
      "######\n",
      "            42  100  4906\n",
      "2021-06-02 NaN  NaN   NaN\n",
      "2021-06-03 00:00:00\n",
      "######\n",
      "            42  100  4906\n",
      "2021-06-03 NaN  NaN   NaN\n",
      "2021-06-04 00:00:00\n",
      "######\n",
      "            42  100  4906\n",
      "2021-06-04 NaN  NaN   NaN\n",
      "2021-06-05 00:00:00\n",
      "######\n",
      "            42  100  4906\n",
      "2021-06-05 NaN  NaN   NaN\n",
      "2021-06-06 00:00:00\n",
      "######\n",
      "            42  100  4906\n",
      "2021-06-06 NaN  NaN   NaN\n",
      "2021-06-07 00:00:00\n",
      "######\n",
      "            42  100  4906\n",
      "2021-06-07 NaN  NaN   NaN\n",
      "2021-06-08 00:00:00\n",
      "######\n",
      "            42  100  4906\n",
      "2021-06-08 NaN  NaN   NaN\n",
      "2021-06-09 00:00:00\n",
      "######\n",
      "            42  100  4906\n",
      "2021-06-09 NaN  NaN   NaN\n",
      "2021-06-10 00:00:00\n",
      "######\n",
      "            42  100  4906\n",
      "2021-06-10 NaN  NaN   NaN\n",
      "2021-06-11 00:00:00\n",
      "######\n",
      "            42  100  4906\n",
      "2021-06-11 NaN  NaN   NaN\n",
      "2021-06-12 00:00:00\n",
      "######\n",
      "            42  100  4906\n",
      "2021-06-12 NaN  NaN   NaN\n",
      "2021-06-13 00:00:00\n",
      "######\n",
      "            42  100  4906\n",
      "2021-06-13 NaN  NaN   NaN\n"
     ]
    }
   ],
   "source": [
    "df_of_dynamic_distribution_per_store.iloc[:10]"
   ],
   "metadata": {
    "collapsed": false
   }
  },
  {
   "cell_type": "code",
   "execution_count": 79,
   "outputs": [
    {
     "data": {
      "text/plain": "                 42       100  4906\n2020-09-10      NaN       NaN   NaN\n2020-09-11  0.31892  0.560624   NaN\n2020-09-12      NaN       NaN   NaN\n2020-09-13      NaN       NaN   NaN\n2020-09-14      NaN       NaN   NaN\n...             ...       ...   ...\n2020-11-16      NaN       NaN   NaN\n2020-11-17      NaN       NaN   NaN\n2020-11-18      NaN       NaN   NaN\n2020-11-19      NaN       NaN   NaN\n2020-11-20      NaN       NaN   NaN\n\n[72 rows x 3 columns]",
      "text/html": "<div>\n<style scoped>\n    .dataframe tbody tr th:only-of-type {\n        vertical-align: middle;\n    }\n\n    .dataframe tbody tr th {\n        vertical-align: top;\n    }\n\n    .dataframe thead th {\n        text-align: right;\n    }\n</style>\n<table border=\"1\" class=\"dataframe\">\n  <thead>\n    <tr style=\"text-align: right;\">\n      <th></th>\n      <th>42</th>\n      <th>100</th>\n      <th>4906</th>\n    </tr>\n  </thead>\n  <tbody>\n    <tr>\n      <th>2020-09-10</th>\n      <td>NaN</td>\n      <td>NaN</td>\n      <td>NaN</td>\n    </tr>\n    <tr>\n      <th>2020-09-11</th>\n      <td>0.31892</td>\n      <td>0.560624</td>\n      <td>NaN</td>\n    </tr>\n    <tr>\n      <th>2020-09-12</th>\n      <td>NaN</td>\n      <td>NaN</td>\n      <td>NaN</td>\n    </tr>\n    <tr>\n      <th>2020-09-13</th>\n      <td>NaN</td>\n      <td>NaN</td>\n      <td>NaN</td>\n    </tr>\n    <tr>\n      <th>2020-09-14</th>\n      <td>NaN</td>\n      <td>NaN</td>\n      <td>NaN</td>\n    </tr>\n    <tr>\n      <th>...</th>\n      <td>...</td>\n      <td>...</td>\n      <td>...</td>\n    </tr>\n    <tr>\n      <th>2020-11-16</th>\n      <td>NaN</td>\n      <td>NaN</td>\n      <td>NaN</td>\n    </tr>\n    <tr>\n      <th>2020-11-17</th>\n      <td>NaN</td>\n      <td>NaN</td>\n      <td>NaN</td>\n    </tr>\n    <tr>\n      <th>2020-11-18</th>\n      <td>NaN</td>\n      <td>NaN</td>\n      <td>NaN</td>\n    </tr>\n    <tr>\n      <th>2020-11-19</th>\n      <td>NaN</td>\n      <td>NaN</td>\n      <td>NaN</td>\n    </tr>\n    <tr>\n      <th>2020-11-20</th>\n      <td>NaN</td>\n      <td>NaN</td>\n      <td>NaN</td>\n    </tr>\n  </tbody>\n</table>\n<p>72 rows × 3 columns</p>\n</div>"
     },
     "execution_count": 79,
     "metadata": {},
     "output_type": "execute_result"
    }
   ],
   "source": [
    "df_of_sales_rolling_factor_row[i]"
   ],
   "metadata": {
    "collapsed": false
   }
  },
  {
   "cell_type": "code",
   "execution_count": 30,
   "outputs": [
    {
     "data": {
      "text/plain": "0.5144773192982379"
     },
     "execution_count": 30,
     "metadata": {},
     "output_type": "execute_result"
    }
   ],
   "source": [
    "old_dist"
   ],
   "metadata": {
    "collapsed": false
   }
  },
  {
   "cell_type": "code",
   "execution_count": 31,
   "outputs": [
    {
     "data": {
      "text/plain": "0.5194773192982379"
     },
     "execution_count": 31,
     "metadata": {},
     "output_type": "execute_result"
    }
   ],
   "source": [
    "new_dist"
   ],
   "metadata": {
    "collapsed": false
   }
  },
  {
   "cell_type": "code",
   "execution_count": 32,
   "outputs": [
    {
     "data": {
      "text/plain": "0.5"
     },
     "execution_count": 32,
     "metadata": {},
     "output_type": "execute_result"
    }
   ],
   "source": [
    "df_of_sales_rolling_factor_row[i]"
   ],
   "metadata": {
    "collapsed": false
   }
  },
  {
   "cell_type": "code",
   "execution_count": 33,
   "outputs": [
    {
     "data": {
      "text/plain": "[0.49052268070176214, 0.5194773192982379]"
     },
     "execution_count": 33,
     "metadata": {},
     "output_type": "execute_result"
    }
   ],
   "source": [
    "new_dist_list"
   ],
   "metadata": {
    "collapsed": false
   }
  },
  {
   "cell_type": "code",
   "execution_count": 33,
   "outputs": [],
   "source": [],
   "metadata": {
    "collapsed": false
   }
  },
  {
   "cell_type": "code",
   "execution_count": 50,
   "outputs": [
    {
     "data": {
      "text/plain": "                  42       100\n2020-09-02       NaN       NaN\n2020-09-03       NaN       NaN\n2020-09-04       NaN       NaN\n2020-09-05       NaN       NaN\n2020-09-06       NaN       NaN\n...              ...       ...\n2021-06-09  0.485084  0.514916\n2021-06-10  0.485232  0.514768\n2021-06-11  0.485378  0.514622\n2021-06-12  0.485523  0.514477\n2021-06-13  0.485666  0.514334\n\n[285 rows x 2 columns]",
      "text/html": "<div>\n<style scoped>\n    .dataframe tbody tr th:only-of-type {\n        vertical-align: middle;\n    }\n\n    .dataframe tbody tr th {\n        vertical-align: top;\n    }\n\n    .dataframe thead th {\n        text-align: right;\n    }\n</style>\n<table border=\"1\" class=\"dataframe\">\n  <thead>\n    <tr style=\"text-align: right;\">\n      <th></th>\n      <th>42</th>\n      <th>100</th>\n    </tr>\n  </thead>\n  <tbody>\n    <tr>\n      <th>2020-09-02</th>\n      <td>NaN</td>\n      <td>NaN</td>\n    </tr>\n    <tr>\n      <th>2020-09-03</th>\n      <td>NaN</td>\n      <td>NaN</td>\n    </tr>\n    <tr>\n      <th>2020-09-04</th>\n      <td>NaN</td>\n      <td>NaN</td>\n    </tr>\n    <tr>\n      <th>2020-09-05</th>\n      <td>NaN</td>\n      <td>NaN</td>\n    </tr>\n    <tr>\n      <th>2020-09-06</th>\n      <td>NaN</td>\n      <td>NaN</td>\n    </tr>\n    <tr>\n      <th>...</th>\n      <td>...</td>\n      <td>...</td>\n    </tr>\n    <tr>\n      <th>2021-06-09</th>\n      <td>0.485084</td>\n      <td>0.514916</td>\n    </tr>\n    <tr>\n      <th>2021-06-10</th>\n      <td>0.485232</td>\n      <td>0.514768</td>\n    </tr>\n    <tr>\n      <th>2021-06-11</th>\n      <td>0.485378</td>\n      <td>0.514622</td>\n    </tr>\n    <tr>\n      <th>2021-06-12</th>\n      <td>0.485523</td>\n      <td>0.514477</td>\n    </tr>\n    <tr>\n      <th>2021-06-13</th>\n      <td>0.485666</td>\n      <td>0.514334</td>\n    </tr>\n  </tbody>\n</table>\n<p>285 rows × 2 columns</p>\n</div>"
     },
     "execution_count": 50,
     "metadata": {},
     "output_type": "execute_result"
    }
   ],
   "source": [
    "df_of_dynamic_distribution_per_store"
   ],
   "metadata": {
    "collapsed": false
   }
  },
  {
   "cell_type": "code",
   "execution_count": 35,
   "outputs": [
    {
     "data": {
      "text/plain": "                  42       100\n2021-06-13  0.485666  0.514334",
      "text/html": "<div>\n<style scoped>\n    .dataframe tbody tr th:only-of-type {\n        vertical-align: middle;\n    }\n\n    .dataframe tbody tr th {\n        vertical-align: top;\n    }\n\n    .dataframe thead th {\n        text-align: right;\n    }\n</style>\n<table border=\"1\" class=\"dataframe\">\n  <thead>\n    <tr style=\"text-align: right;\">\n      <th></th>\n      <th>42</th>\n      <th>100</th>\n    </tr>\n  </thead>\n  <tbody>\n    <tr>\n      <th>2021-06-13</th>\n      <td>0.485666</td>\n      <td>0.514334</td>\n    </tr>\n  </tbody>\n</table>\n</div>"
     },
     "execution_count": 35,
     "metadata": {},
     "output_type": "execute_result"
    }
   ],
   "source": [
    "new_dist_list_norm"
   ],
   "metadata": {
    "collapsed": false
   }
  },
  {
   "cell_type": "code",
   "execution_count": 36,
   "outputs": [
    {
     "data": {
      "text/plain": "                  42       100\n2020-09-02       NaN       NaN\n2020-09-03       NaN       NaN\n2020-09-04       NaN       NaN\n2020-09-05       NaN       NaN\n2020-09-06       NaN       NaN\n...              ...       ...\n2021-06-09  0.485084  0.514916\n2021-06-10  0.485232  0.514768\n2021-06-11  0.485378  0.514622\n2021-06-12  0.485523  0.514477\n2021-06-13  0.485666  0.514334\n\n[285 rows x 2 columns]",
      "text/html": "<div>\n<style scoped>\n    .dataframe tbody tr th:only-of-type {\n        vertical-align: middle;\n    }\n\n    .dataframe tbody tr th {\n        vertical-align: top;\n    }\n\n    .dataframe thead th {\n        text-align: right;\n    }\n</style>\n<table border=\"1\" class=\"dataframe\">\n  <thead>\n    <tr style=\"text-align: right;\">\n      <th></th>\n      <th>42</th>\n      <th>100</th>\n    </tr>\n  </thead>\n  <tbody>\n    <tr>\n      <th>2020-09-02</th>\n      <td>NaN</td>\n      <td>NaN</td>\n    </tr>\n    <tr>\n      <th>2020-09-03</th>\n      <td>NaN</td>\n      <td>NaN</td>\n    </tr>\n    <tr>\n      <th>2020-09-04</th>\n      <td>NaN</td>\n      <td>NaN</td>\n    </tr>\n    <tr>\n      <th>2020-09-05</th>\n      <td>NaN</td>\n      <td>NaN</td>\n    </tr>\n    <tr>\n      <th>2020-09-06</th>\n      <td>NaN</td>\n      <td>NaN</td>\n    </tr>\n    <tr>\n      <th>...</th>\n      <td>...</td>\n      <td>...</td>\n    </tr>\n    <tr>\n      <th>2021-06-09</th>\n      <td>0.485084</td>\n      <td>0.514916</td>\n    </tr>\n    <tr>\n      <th>2021-06-10</th>\n      <td>0.485232</td>\n      <td>0.514768</td>\n    </tr>\n    <tr>\n      <th>2021-06-11</th>\n      <td>0.485378</td>\n      <td>0.514622</td>\n    </tr>\n    <tr>\n      <th>2021-06-12</th>\n      <td>0.485523</td>\n      <td>0.514477</td>\n    </tr>\n    <tr>\n      <th>2021-06-13</th>\n      <td>0.485666</td>\n      <td>0.514334</td>\n    </tr>\n  </tbody>\n</table>\n<p>285 rows × 2 columns</p>\n</div>"
     },
     "execution_count": 36,
     "metadata": {},
     "output_type": "execute_result"
    }
   ],
   "source": [
    "df_of_dynamic_distribution_per_store"
   ],
   "metadata": {
    "collapsed": false
   }
  },
  {
   "cell_type": "code",
   "execution_count": 37,
   "outputs": [
    {
     "data": {
      "text/plain": "                  42       100\n2021-06-13  0.490523  0.519477",
      "text/html": "<div>\n<style scoped>\n    .dataframe tbody tr th:only-of-type {\n        vertical-align: middle;\n    }\n\n    .dataframe tbody tr th {\n        vertical-align: top;\n    }\n\n    .dataframe thead th {\n        text-align: right;\n    }\n</style>\n<table border=\"1\" class=\"dataframe\">\n  <thead>\n    <tr style=\"text-align: right;\">\n      <th></th>\n      <th>42</th>\n      <th>100</th>\n    </tr>\n  </thead>\n  <tbody>\n    <tr>\n      <th>2021-06-13</th>\n      <td>0.490523</td>\n      <td>0.519477</td>\n    </tr>\n  </tbody>\n</table>\n</div>"
     },
     "execution_count": 37,
     "metadata": {},
     "output_type": "execute_result"
    }
   ],
   "source": [
    "new_df = pd.DataFrame([new_dist_list], columns=df_of_dynamic_distribution_per_store.columns, index=[index])\n",
    "new_df"
   ],
   "metadata": {
    "collapsed": false
   }
  },
  {
   "cell_type": "code",
   "execution_count": 38,
   "outputs": [
    {
     "data": {
      "text/plain": "DatetimeIndex(['2020-09-02', '2020-09-03', '2020-09-04', '2020-09-05',\n               '2020-09-06', '2020-09-07', '2020-09-08', '2020-09-09',\n               '2020-09-10', '2020-09-11',\n               ...\n               '2021-06-04', '2021-06-05', '2021-06-06', '2021-06-07',\n               '2021-06-08', '2021-06-09', '2021-06-10', '2021-06-11',\n               '2021-06-12', '2021-06-13'],\n              dtype='datetime64[ns]', length=285, freq=None)"
     },
     "execution_count": 38,
     "metadata": {},
     "output_type": "execute_result"
    }
   ],
   "source": [
    "df_of_dynamic_distribution_per_store.index"
   ],
   "metadata": {
    "collapsed": false
   }
  },
  {
   "cell_type": "code",
   "execution_count": 39,
   "outputs": [
    {
     "data": {
      "text/plain": "                  42       100\n2021-06-13  0.485666  0.514334",
      "text/html": "<div>\n<style scoped>\n    .dataframe tbody tr th:only-of-type {\n        vertical-align: middle;\n    }\n\n    .dataframe tbody tr th {\n        vertical-align: top;\n    }\n\n    .dataframe thead th {\n        text-align: right;\n    }\n</style>\n<table border=\"1\" class=\"dataframe\">\n  <thead>\n    <tr style=\"text-align: right;\">\n      <th></th>\n      <th>42</th>\n      <th>100</th>\n    </tr>\n  </thead>\n  <tbody>\n    <tr>\n      <th>2021-06-13</th>\n      <td>0.485666</td>\n      <td>0.514334</td>\n    </tr>\n  </tbody>\n</table>\n</div>"
     },
     "execution_count": 39,
     "metadata": {},
     "output_type": "execute_result"
    }
   ],
   "source": [
    "new_dist_list_norm"
   ],
   "metadata": {
    "collapsed": false
   }
  },
  {
   "cell_type": "code",
   "execution_count": 40,
   "outputs": [
    {
     "data": {
      "text/plain": "     42  100\n42  NaN  NaN\n100 NaN  NaN",
      "text/html": "<div>\n<style scoped>\n    .dataframe tbody tr th:only-of-type {\n        vertical-align: middle;\n    }\n\n    .dataframe tbody tr th {\n        vertical-align: top;\n    }\n\n    .dataframe thead th {\n        text-align: right;\n    }\n</style>\n<table border=\"1\" class=\"dataframe\">\n  <thead>\n    <tr style=\"text-align: right;\">\n      <th></th>\n      <th>42</th>\n      <th>100</th>\n    </tr>\n  </thead>\n  <tbody>\n    <tr>\n      <th>42</th>\n      <td>NaN</td>\n      <td>NaN</td>\n    </tr>\n    <tr>\n      <th>100</th>\n      <td>NaN</td>\n      <td>NaN</td>\n    </tr>\n  </tbody>\n</table>\n</div>"
     },
     "execution_count": 40,
     "metadata": {},
     "output_type": "execute_result"
    }
   ],
   "source": [
    "pd.DataFrame(new_dist_list_norm, index=dynamic_distribution_per_store_row.index, columns=df_of_dynamic_distribution_per_store.columns)"
   ],
   "metadata": {
    "collapsed": false
   }
  },
  {
   "cell_type": "code",
   "execution_count": 41,
   "outputs": [
    {
     "data": {
      "text/plain": "                  42       100\n2021-06-13  0.485666  0.514334",
      "text/html": "<div>\n<style scoped>\n    .dataframe tbody tr th:only-of-type {\n        vertical-align: middle;\n    }\n\n    .dataframe tbody tr th {\n        vertical-align: top;\n    }\n\n    .dataframe thead th {\n        text-align: right;\n    }\n</style>\n<table border=\"1\" class=\"dataframe\">\n  <thead>\n    <tr style=\"text-align: right;\">\n      <th></th>\n      <th>42</th>\n      <th>100</th>\n    </tr>\n  </thead>\n  <tbody>\n    <tr>\n      <th>2021-06-13</th>\n      <td>0.485666</td>\n      <td>0.514334</td>\n    </tr>\n  </tbody>\n</table>\n</div>"
     },
     "execution_count": 41,
     "metadata": {},
     "output_type": "execute_result"
    }
   ],
   "source": [
    "new_dist_list_norm"
   ],
   "metadata": {
    "collapsed": false
   }
  },
  {
   "cell_type": "code",
   "execution_count": 42,
   "outputs": [
    {
     "data": {
      "text/plain": "                  42       100\n2020-09-02       NaN       NaN\n2020-09-03       NaN       NaN\n2020-09-04       NaN       NaN\n2020-09-05       NaN       NaN\n2020-09-06       NaN       NaN\n...              ...       ...\n2021-06-09  0.485084  0.514916\n2021-06-10  0.485232  0.514768\n2021-06-11  0.485378  0.514622\n2021-06-12  0.485523  0.514477\n2021-06-13  0.485666  0.514334\n\n[285 rows x 2 columns]",
      "text/html": "<div>\n<style scoped>\n    .dataframe tbody tr th:only-of-type {\n        vertical-align: middle;\n    }\n\n    .dataframe tbody tr th {\n        vertical-align: top;\n    }\n\n    .dataframe thead th {\n        text-align: right;\n    }\n</style>\n<table border=\"1\" class=\"dataframe\">\n  <thead>\n    <tr style=\"text-align: right;\">\n      <th></th>\n      <th>42</th>\n      <th>100</th>\n    </tr>\n  </thead>\n  <tbody>\n    <tr>\n      <th>2020-09-02</th>\n      <td>NaN</td>\n      <td>NaN</td>\n    </tr>\n    <tr>\n      <th>2020-09-03</th>\n      <td>NaN</td>\n      <td>NaN</td>\n    </tr>\n    <tr>\n      <th>2020-09-04</th>\n      <td>NaN</td>\n      <td>NaN</td>\n    </tr>\n    <tr>\n      <th>2020-09-05</th>\n      <td>NaN</td>\n      <td>NaN</td>\n    </tr>\n    <tr>\n      <th>2020-09-06</th>\n      <td>NaN</td>\n      <td>NaN</td>\n    </tr>\n    <tr>\n      <th>...</th>\n      <td>...</td>\n      <td>...</td>\n    </tr>\n    <tr>\n      <th>2021-06-09</th>\n      <td>0.485084</td>\n      <td>0.514916</td>\n    </tr>\n    <tr>\n      <th>2021-06-10</th>\n      <td>0.485232</td>\n      <td>0.514768</td>\n    </tr>\n    <tr>\n      <th>2021-06-11</th>\n      <td>0.485378</td>\n      <td>0.514622</td>\n    </tr>\n    <tr>\n      <th>2021-06-12</th>\n      <td>0.485523</td>\n      <td>0.514477</td>\n    </tr>\n    <tr>\n      <th>2021-06-13</th>\n      <td>0.485666</td>\n      <td>0.514334</td>\n    </tr>\n  </tbody>\n</table>\n<p>285 rows × 2 columns</p>\n</div>"
     },
     "execution_count": 42,
     "metadata": {},
     "output_type": "execute_result"
    }
   ],
   "source": [
    "df_of_dynamic_distribution_per_store"
   ],
   "metadata": {
    "collapsed": false
   }
  },
  {
   "cell_type": "code",
   "execution_count": 43,
   "outputs": [
    {
     "data": {
      "text/plain": "0.5144773192982379"
     },
     "execution_count": 43,
     "metadata": {},
     "output_type": "execute_result"
    }
   ],
   "source": [
    "old_dist"
   ],
   "metadata": {
    "collapsed": false
   }
  },
  {
   "cell_type": "code",
   "execution_count": 44,
   "outputs": [
    {
     "data": {
      "text/plain": "                  42       100\n2021-06-13  0.485666  0.514334",
      "text/html": "<div>\n<style scoped>\n    .dataframe tbody tr th:only-of-type {\n        vertical-align: middle;\n    }\n\n    .dataframe tbody tr th {\n        vertical-align: top;\n    }\n\n    .dataframe thead th {\n        text-align: right;\n    }\n</style>\n<table border=\"1\" class=\"dataframe\">\n  <thead>\n    <tr style=\"text-align: right;\">\n      <th></th>\n      <th>42</th>\n      <th>100</th>\n    </tr>\n  </thead>\n  <tbody>\n    <tr>\n      <th>2021-06-13</th>\n      <td>0.485666</td>\n      <td>0.514334</td>\n    </tr>\n  </tbody>\n</table>\n</div>"
     },
     "execution_count": 44,
     "metadata": {},
     "output_type": "execute_result"
    }
   ],
   "source": [
    "new_dist_list_norm"
   ],
   "metadata": {
    "collapsed": false
   }
  },
  {
   "cell_type": "code",
   "execution_count": 45,
   "outputs": [
    {
     "data": {
      "text/plain": "                  42       100\ndate                          \n2020-09-02       NaN       NaN\n2020-09-03       NaN       NaN\n2020-09-04       NaN       NaN\n2020-09-05       NaN       NaN\n2020-09-06       NaN       NaN\n...              ...       ...\n2021-06-09  0.161765  0.143382\n2021-06-10  0.161172  0.142857\n2021-06-11  0.160584  0.142336\n2021-06-12  0.160000  0.141818\n2021-06-13  0.159420  0.141304\n\n[285 rows x 2 columns]",
      "text/html": "<div>\n<style scoped>\n    .dataframe tbody tr th:only-of-type {\n        vertical-align: middle;\n    }\n\n    .dataframe tbody tr th {\n        vertical-align: top;\n    }\n\n    .dataframe thead th {\n        text-align: right;\n    }\n</style>\n<table border=\"1\" class=\"dataframe\">\n  <thead>\n    <tr style=\"text-align: right;\">\n      <th></th>\n      <th>42</th>\n      <th>100</th>\n    </tr>\n    <tr>\n      <th>date</th>\n      <th></th>\n      <th></th>\n    </tr>\n  </thead>\n  <tbody>\n    <tr>\n      <th>2020-09-02</th>\n      <td>NaN</td>\n      <td>NaN</td>\n    </tr>\n    <tr>\n      <th>2020-09-03</th>\n      <td>NaN</td>\n      <td>NaN</td>\n    </tr>\n    <tr>\n      <th>2020-09-04</th>\n      <td>NaN</td>\n      <td>NaN</td>\n    </tr>\n    <tr>\n      <th>2020-09-05</th>\n      <td>NaN</td>\n      <td>NaN</td>\n    </tr>\n    <tr>\n      <th>2020-09-06</th>\n      <td>NaN</td>\n      <td>NaN</td>\n    </tr>\n    <tr>\n      <th>...</th>\n      <td>...</td>\n      <td>...</td>\n    </tr>\n    <tr>\n      <th>2021-06-09</th>\n      <td>0.161765</td>\n      <td>0.143382</td>\n    </tr>\n    <tr>\n      <th>2021-06-10</th>\n      <td>0.161172</td>\n      <td>0.142857</td>\n    </tr>\n    <tr>\n      <th>2021-06-11</th>\n      <td>0.160584</td>\n      <td>0.142336</td>\n    </tr>\n    <tr>\n      <th>2021-06-12</th>\n      <td>0.160000</td>\n      <td>0.141818</td>\n    </tr>\n    <tr>\n      <th>2021-06-13</th>\n      <td>0.159420</td>\n      <td>0.141304</td>\n    </tr>\n  </tbody>\n</table>\n<p>285 rows × 2 columns</p>\n</div>"
     },
     "execution_count": 45,
     "metadata": {},
     "output_type": "execute_result"
    }
   ],
   "source": [
    "df_of_sales_cumsum_divide_days_from_first_stock"
   ],
   "metadata": {
    "collapsed": false
   }
  },
  {
   "cell_type": "code",
   "execution_count": 46,
   "outputs": [
    {
     "data": {
      "text/plain": "42     0.485523\n100    0.514477\nName: 2021-06-12 00:00:00, dtype: float64"
     },
     "execution_count": 46,
     "metadata": {},
     "output_type": "execute_result"
    }
   ],
   "source": [
    "dynamic_distribution_per_store_row"
   ],
   "metadata": {
    "collapsed": false
   }
  },
  {
   "cell_type": "code",
   "execution_count": 47,
   "outputs": [
    {
     "data": {
      "text/plain": "{'100630105000002': {'42': {'initial_stock_in_store': 20.0,\n   'current_stock_in_store': -24.0,\n   'sales_cumsum': date\n   2020-09-02     0.0\n   2020-09-03     0.0\n   2020-09-04     0.0\n   2020-09-05     0.0\n   2020-09-06     0.0\n                 ... \n   2021-06-09    44.0\n   2021-06-10    44.0\n   2021-06-11    44.0\n   2021-06-12    44.0\n   2021-06-13    44.0\n   Name: sales_cumsum, Length: 285, dtype: float64,\n   'rate_sales': date\n   2020-09-02    NaN\n   2020-09-03    NaN\n   2020-09-04    NaN\n   2020-09-05    NaN\n   2020-09-06    NaN\n                ... \n   2021-06-09    0.0\n   2021-06-10    0.0\n   2021-06-11    0.0\n   2021-06-12    0.0\n   2021-06-13    0.0\n   Name: rate_sales, Length: 285, dtype: float64,\n   'sales_cumsum_divide_days_from_first_stock': date\n   2020-09-02         NaN\n   2020-09-03         NaN\n   2020-09-04         NaN\n   2020-09-05         NaN\n   2020-09-06         NaN\n                   ...   \n   2021-06-09    0.161765\n   2021-06-10    0.161172\n   2021-06-11    0.160584\n   2021-06-12    0.160000\n   2021-06-13    0.159420\n   Name: sales_cumsum_divide_days_from_first_stock, Length: 285, dtype: float64,\n   'initial_stock_in_warehouse': 104,\n   'prior_original_distribution': 0.3625968942339883,\n   'prior_original_allocation_stock': 38.0,\n   'sales': date\n   2020-09-02    0.0\n   2020-09-03    0.0\n   2020-09-04    0.0\n   2020-09-05    0.0\n   2020-09-06    0.0\n                ... \n   2021-06-09    0.0\n   2021-06-10    0.0\n   2021-06-11    0.0\n   2021-06-12    0.0\n   2021-06-13    0.0\n   Name: sales, Length: 285, dtype: float64,\n   'remain_stock': 16.0,\n   'dynamic_dist': date\n   2020-09-02         NaN\n   2020-09-03         NaN\n   2020-09-04         NaN\n   2020-09-05         NaN\n   2020-09-06         NaN\n   2020-09-07         NaN\n   2020-09-08         NaN\n   2020-09-09         NaN\n   2020-09-10         NaN\n   2020-09-11    0.362597\n   dtype: float64},\n  '100': {'initial_stock_in_store': 25.0,\n   'current_stock_in_store': -14.0,\n   'sales_cumsum': date\n   2020-09-02     0.0\n   2020-09-03     0.0\n   2020-09-04     0.0\n   2020-09-05     0.0\n   2020-09-06     0.0\n                 ... \n   2021-06-09    39.0\n   2021-06-10    39.0\n   2021-06-11    39.0\n   2021-06-12    39.0\n   2021-06-13    39.0\n   Name: sales_cumsum, Length: 285, dtype: float64,\n   'rate_sales': date\n   2020-09-02    NaN\n   2020-09-03    NaN\n   2020-09-04    NaN\n   2020-09-05    NaN\n   2020-09-06    NaN\n                ... \n   2021-06-09    0.0\n   2021-06-10    0.0\n   2021-06-11    0.0\n   2021-06-12    0.0\n   2021-06-13    0.0\n   Name: rate_sales, Length: 285, dtype: float64,\n   'sales_cumsum_divide_days_from_first_stock': date\n   2020-09-02         NaN\n   2020-09-03         NaN\n   2020-09-04         NaN\n   2020-09-05         NaN\n   2020-09-06         NaN\n                   ...   \n   2021-06-09    0.143382\n   2021-06-10    0.142857\n   2021-06-11    0.142336\n   2021-06-12    0.141818\n   2021-06-13    0.141304\n   Name: sales_cumsum_divide_days_from_first_stock, Length: 285, dtype: float64,\n   'initial_stock_in_warehouse': 104,\n   'prior_original_distribution': 0.6374031057660117,\n   'prior_original_allocation_stock': 66.0,\n   'sales': date\n   2020-09-02    0.0\n   2020-09-03    0.0\n   2020-09-04    0.0\n   2020-09-05    0.0\n   2020-09-06    0.0\n                ... \n   2021-06-09    0.0\n   2021-06-10    0.0\n   2021-06-11    0.0\n   2021-06-12    0.0\n   2021-06-13    0.0\n   Name: sales, Length: 285, dtype: float64,\n   'remain_stock': 16.0,\n   'dynamic_dist': date\n   2020-09-02         NaN\n   2020-09-03         NaN\n   2020-09-04         NaN\n   2020-09-05         NaN\n   2020-09-06         NaN\n   2020-09-07         NaN\n   2020-09-08         NaN\n   2020-09-09         NaN\n   2020-09-10         NaN\n   2020-09-11    0.637403\n   dtype: float64}}}"
     },
     "execution_count": 47,
     "metadata": {},
     "output_type": "execute_result"
    }
   ],
   "source": [
    "dynamic_distribution_per_store"
   ],
   "metadata": {
    "collapsed": false
   }
  },
  {
   "cell_type": "code",
   "execution_count": 48,
   "outputs": [
    {
     "name": "stdout",
     "output_type": "stream",
     "text": [
      "             42  100\n",
      "date                \n",
      "2020-09-02  0.0  0.0\n",
      "2020-09-03  0.0  0.0\n",
      "2020-09-04  0.0  0.0\n",
      "2020-09-05  0.0  0.0\n",
      "2020-09-06  0.0  0.0\n",
      "...         ...  ...\n",
      "2021-06-09  0.0  0.0\n",
      "2021-06-10  0.0  0.0\n",
      "2021-06-11  0.0  0.0\n",
      "2021-06-12  0.0  0.0\n",
      "2021-06-13  0.0  0.0\n",
      "\n",
      "[285 rows x 2 columns]\n"
     ]
    }
   ],
   "source": [
    "print(df_of_sales_rolling_factor)"
   ],
   "metadata": {
    "collapsed": false
   }
  },
  {
   "cell_type": "code",
   "execution_count": 48,
   "outputs": [],
   "source": [],
   "metadata": {
    "collapsed": false
   }
  }
 ],
 "metadata": {
  "kernelspec": {
   "display_name": "Python 3",
   "language": "python",
   "name": "python3"
  },
  "language_info": {
   "codemirror_mode": {
    "name": "ipython",
    "version": 2
   },
   "file_extension": ".py",
   "mimetype": "text/x-python",
   "name": "python",
   "nbconvert_exporter": "python",
   "pygments_lexer": "ipython2",
   "version": "2.7.6"
  }
 },
 "nbformat": 4,
 "nbformat_minor": 0
}
