{
  "nbformat": 4,
  "nbformat_minor": 0,
  "metadata": {
    "colab": {
      "name": "Pandas_basics.ipynb",
      "provenance": [],
      "collapsed_sections": [
        "XjcWZMbiGXPm",
        "MhrmPgnZLO-G"
      ],
      "toc_visible": true,
      "authorship_tag": "ABX9TyPlpc1NwU4uP1QmeS0zHsTy",
      "include_colab_link": true
    },
    "kernelspec": {
      "name": "python3",
      "display_name": "Python 3"
    }
  },
  "cells": [
    {
      "cell_type": "markdown",
      "metadata": {
        "id": "view-in-github",
        "colab_type": "text"
      },
      "source": [
        "<a href=\"https://colab.research.google.com/github/deepakgowtham/Datascience_Basics/blob/main/Pandas/Pandas_basics.ipynb\" target=\"_parent\"><img src=\"https://colab.research.google.com/assets/colab-badge.svg\" alt=\"Open In Colab\"/></a>"
      ]
    },
    {
      "cell_type": "code",
      "metadata": {
        "id": "u7qbAGQyat5p"
      },
      "source": [
        "import pandas as pd\n",
        "import numpy as np\n",
        "import matplotlib.pyplot as plt"
      ],
      "execution_count": null,
      "outputs": []
    },
    {
      "cell_type": "code",
      "metadata": {
        "colab": {
          "base_uri": "https://localhost:8080/",
          "height": 499
        },
        "id": "oyOSpOE2aphJ",
        "outputId": "ff5a5992-50fe-4923-f568-cf3a102aa1a5"
      },
      "source": [
        "!wget https://assets.datacamp.com/production/repositories/5386/datasets/5110afec30fc30bc5f3cf67b188d1513c3d6d940/sales_subset.csv\n",
        "sales= pd.read_csv('/content/sales_subset.csv',index_col=0)\n",
        "sales.head()"
      ],
      "execution_count": null,
      "outputs": [
        {
          "output_type": "stream",
          "text": [
            "--2021-02-18 10:09:46--  https://assets.datacamp.com/production/repositories/5386/datasets/5110afec30fc30bc5f3cf67b188d1513c3d6d940/sales_subset.csv\n",
            "Resolving assets.datacamp.com (assets.datacamp.com)... 104.18.17.147, 104.18.16.147\n",
            "Connecting to assets.datacamp.com (assets.datacamp.com)|104.18.17.147|:443... connected.\n",
            "HTTP request sent, awaiting response... 200 OK\n",
            "Length: 896575 (876K) [application/octet-stream]\n",
            "Saving to: ‘sales_subset.csv’\n",
            "\n",
            "\rsales_subset.csv      0%[                    ]       0  --.-KB/s               \rsales_subset.csv    100%[===================>] 875.56K  --.-KB/s    in 0.06s   \n",
            "\n",
            "2021-02-18 10:09:47 (13.7 MB/s) - ‘sales_subset.csv’ saved [896575/896575]\n",
            "\n"
          ],
          "name": "stdout"
        },
        {
          "output_type": "execute_result",
          "data": {
            "text/html": [
              "<div>\n",
              "<style scoped>\n",
              "    .dataframe tbody tr th:only-of-type {\n",
              "        vertical-align: middle;\n",
              "    }\n",
              "\n",
              "    .dataframe tbody tr th {\n",
              "        vertical-align: top;\n",
              "    }\n",
              "\n",
              "    .dataframe thead th {\n",
              "        text-align: right;\n",
              "    }\n",
              "</style>\n",
              "<table border=\"1\" class=\"dataframe\">\n",
              "  <thead>\n",
              "    <tr style=\"text-align: right;\">\n",
              "      <th></th>\n",
              "      <th>store</th>\n",
              "      <th>type</th>\n",
              "      <th>department</th>\n",
              "      <th>date</th>\n",
              "      <th>weekly_sales</th>\n",
              "      <th>is_holiday</th>\n",
              "      <th>temperature_c</th>\n",
              "      <th>fuel_price_usd_per_l</th>\n",
              "      <th>unemployment</th>\n",
              "    </tr>\n",
              "  </thead>\n",
              "  <tbody>\n",
              "    <tr>\n",
              "      <th>0</th>\n",
              "      <td>1</td>\n",
              "      <td>A</td>\n",
              "      <td>1</td>\n",
              "      <td>2010-02-05</td>\n",
              "      <td>24924.50</td>\n",
              "      <td>False</td>\n",
              "      <td>5.727778</td>\n",
              "      <td>0.679451</td>\n",
              "      <td>8.106</td>\n",
              "    </tr>\n",
              "    <tr>\n",
              "      <th>1</th>\n",
              "      <td>1</td>\n",
              "      <td>A</td>\n",
              "      <td>1</td>\n",
              "      <td>2010-03-05</td>\n",
              "      <td>21827.90</td>\n",
              "      <td>False</td>\n",
              "      <td>8.055556</td>\n",
              "      <td>0.693452</td>\n",
              "      <td>8.106</td>\n",
              "    </tr>\n",
              "    <tr>\n",
              "      <th>2</th>\n",
              "      <td>1</td>\n",
              "      <td>A</td>\n",
              "      <td>1</td>\n",
              "      <td>2010-04-02</td>\n",
              "      <td>57258.43</td>\n",
              "      <td>False</td>\n",
              "      <td>16.816667</td>\n",
              "      <td>0.718284</td>\n",
              "      <td>7.808</td>\n",
              "    </tr>\n",
              "    <tr>\n",
              "      <th>3</th>\n",
              "      <td>1</td>\n",
              "      <td>A</td>\n",
              "      <td>1</td>\n",
              "      <td>2010-05-07</td>\n",
              "      <td>17413.94</td>\n",
              "      <td>False</td>\n",
              "      <td>22.527778</td>\n",
              "      <td>0.748928</td>\n",
              "      <td>7.808</td>\n",
              "    </tr>\n",
              "    <tr>\n",
              "      <th>4</th>\n",
              "      <td>1</td>\n",
              "      <td>A</td>\n",
              "      <td>1</td>\n",
              "      <td>2010-06-04</td>\n",
              "      <td>17558.09</td>\n",
              "      <td>False</td>\n",
              "      <td>27.050000</td>\n",
              "      <td>0.714586</td>\n",
              "      <td>7.808</td>\n",
              "    </tr>\n",
              "  </tbody>\n",
              "</table>\n",
              "</div>"
            ],
            "text/plain": [
              "   store type  department  ... temperature_c  fuel_price_usd_per_l  unemployment\n",
              "0      1    A           1  ...      5.727778              0.679451         8.106\n",
              "1      1    A           1  ...      8.055556              0.693452         8.106\n",
              "2      1    A           1  ...     16.816667              0.718284         7.808\n",
              "3      1    A           1  ...     22.527778              0.748928         7.808\n",
              "4      1    A           1  ...     27.050000              0.714586         7.808\n",
              "\n",
              "[5 rows x 9 columns]"
            ]
          },
          "metadata": {
            "tags": []
          },
          "execution_count": 2
        }
      ]
    },
    {
      "cell_type": "code",
      "metadata": {
        "colab": {
          "base_uri": "https://localhost:8080/",
          "height": 413
        },
        "id": "6Qrk6NhPFkB_",
        "outputId": "cd36406a-a8cc-4088-bc49-0e0a1657db81"
      },
      "source": [
        "!wget https://assets.datacamp.com/production/repositories/5386/datasets/47f5fde162bae3549ca7d5c26fb4c4639f100f28/temperatures.csv\n",
        "temperatures =pd.read_csv('/content/temperatures.csv', index_col=0)\n",
        "temperatures.head()"
      ],
      "execution_count": null,
      "outputs": [
        {
          "output_type": "stream",
          "text": [
            "--2021-03-01 07:59:05--  https://assets.datacamp.com/production/repositories/5386/datasets/47f5fde162bae3549ca7d5c26fb4c4639f100f28/temperatures.csv\n",
            "Resolving assets.datacamp.com (assets.datacamp.com)... 104.18.16.147, 104.18.17.147\n",
            "Connecting to assets.datacamp.com (assets.datacamp.com)|104.18.16.147|:443... connected.\n",
            "HTTP request sent, awaiting response... 200 OK\n",
            "Length: 706706 (690K) [application/octet-stream]\n",
            "Saving to: ‘temperatures.csv’\n",
            "\n",
            "temperatures.csv    100%[===================>] 690.14K  2.37MB/s    in 0.3s    \n",
            "\n",
            "2021-03-01 07:59:06 (2.37 MB/s) - ‘temperatures.csv’ saved [706706/706706]\n",
            "\n"
          ],
          "name": "stdout"
        },
        {
          "output_type": "execute_result",
          "data": {
            "text/html": [
              "<div>\n",
              "<style scoped>\n",
              "    .dataframe tbody tr th:only-of-type {\n",
              "        vertical-align: middle;\n",
              "    }\n",
              "\n",
              "    .dataframe tbody tr th {\n",
              "        vertical-align: top;\n",
              "    }\n",
              "\n",
              "    .dataframe thead th {\n",
              "        text-align: right;\n",
              "    }\n",
              "</style>\n",
              "<table border=\"1\" class=\"dataframe\">\n",
              "  <thead>\n",
              "    <tr style=\"text-align: right;\">\n",
              "      <th></th>\n",
              "      <th>date</th>\n",
              "      <th>city</th>\n",
              "      <th>country</th>\n",
              "      <th>avg_temp_c</th>\n",
              "    </tr>\n",
              "  </thead>\n",
              "  <tbody>\n",
              "    <tr>\n",
              "      <th>0</th>\n",
              "      <td>2000-01-01</td>\n",
              "      <td>Abidjan</td>\n",
              "      <td>Côte D'Ivoire</td>\n",
              "      <td>27.293</td>\n",
              "    </tr>\n",
              "    <tr>\n",
              "      <th>1</th>\n",
              "      <td>2000-02-01</td>\n",
              "      <td>Abidjan</td>\n",
              "      <td>Côte D'Ivoire</td>\n",
              "      <td>27.685</td>\n",
              "    </tr>\n",
              "    <tr>\n",
              "      <th>2</th>\n",
              "      <td>2000-03-01</td>\n",
              "      <td>Abidjan</td>\n",
              "      <td>Côte D'Ivoire</td>\n",
              "      <td>29.061</td>\n",
              "    </tr>\n",
              "    <tr>\n",
              "      <th>3</th>\n",
              "      <td>2000-04-01</td>\n",
              "      <td>Abidjan</td>\n",
              "      <td>Côte D'Ivoire</td>\n",
              "      <td>28.162</td>\n",
              "    </tr>\n",
              "    <tr>\n",
              "      <th>4</th>\n",
              "      <td>2000-05-01</td>\n",
              "      <td>Abidjan</td>\n",
              "      <td>Côte D'Ivoire</td>\n",
              "      <td>27.547</td>\n",
              "    </tr>\n",
              "  </tbody>\n",
              "</table>\n",
              "</div>"
            ],
            "text/plain": [
              "         date     city        country  avg_temp_c\n",
              "0  2000-01-01  Abidjan  Côte D'Ivoire      27.293\n",
              "1  2000-02-01  Abidjan  Côte D'Ivoire      27.685\n",
              "2  2000-03-01  Abidjan  Côte D'Ivoire      29.061\n",
              "3  2000-04-01  Abidjan  Côte D'Ivoire      28.162\n",
              "4  2000-05-01  Abidjan  Côte D'Ivoire      27.547"
            ]
          },
          "metadata": {
            "tags": []
          },
          "execution_count": 2
        }
      ]
    },
    {
      "cell_type": "code",
      "metadata": {
        "colab": {
          "base_uri": "https://localhost:8080/",
          "height": 413
        },
        "id": "EDOA2K-7PvKw",
        "outputId": "a5532eea-bf02-428c-d700-e45240aefb95"
      },
      "source": [
        "!wget https://assets.datacamp.com/production/repositories/5386/datasets/5528f46cc712c9083a6881f787fc9b34ab53d5ea/avoplotto.pkl\n",
        "avocados= pd.read_pickle('/content/avoplotto.pkl')\n",
        "avocados.head()"
      ],
      "execution_count": null,
      "outputs": [
        {
          "output_type": "stream",
          "text": [
            "--2021-03-01 10:08:05--  https://assets.datacamp.com/production/repositories/5386/datasets/5528f46cc712c9083a6881f787fc9b34ab53d5ea/avoplotto.pkl\n",
            "Resolving assets.datacamp.com (assets.datacamp.com)... 104.18.16.147, 104.18.17.147\n",
            "Connecting to assets.datacamp.com (assets.datacamp.com)|104.18.16.147|:443... connected.\n",
            "HTTP request sent, awaiting response... 200 OK\n",
            "Length: 34386 (34K) [application/octet-stream]\n",
            "Saving to: ‘avoplotto.pkl.1’\n",
            "\n",
            "avoplotto.pkl.1     100%[===================>]  33.58K  --.-KB/s    in 0.08s   \n",
            "\n",
            "2021-03-01 10:08:05 (396 KB/s) - ‘avoplotto.pkl.1’ saved [34386/34386]\n",
            "\n"
          ],
          "name": "stdout"
        },
        {
          "output_type": "execute_result",
          "data": {
            "text/html": [
              "<div>\n",
              "<style scoped>\n",
              "    .dataframe tbody tr th:only-of-type {\n",
              "        vertical-align: middle;\n",
              "    }\n",
              "\n",
              "    .dataframe tbody tr th {\n",
              "        vertical-align: top;\n",
              "    }\n",
              "\n",
              "    .dataframe thead th {\n",
              "        text-align: right;\n",
              "    }\n",
              "</style>\n",
              "<table border=\"1\" class=\"dataframe\">\n",
              "  <thead>\n",
              "    <tr style=\"text-align: right;\">\n",
              "      <th></th>\n",
              "      <th>date</th>\n",
              "      <th>type</th>\n",
              "      <th>year</th>\n",
              "      <th>avg_price</th>\n",
              "      <th>size</th>\n",
              "      <th>nb_sold</th>\n",
              "    </tr>\n",
              "  </thead>\n",
              "  <tbody>\n",
              "    <tr>\n",
              "      <th>0</th>\n",
              "      <td>2015-12-27</td>\n",
              "      <td>conventional</td>\n",
              "      <td>2015</td>\n",
              "      <td>0.95</td>\n",
              "      <td>small</td>\n",
              "      <td>9626901.09</td>\n",
              "    </tr>\n",
              "    <tr>\n",
              "      <th>1</th>\n",
              "      <td>2015-12-20</td>\n",
              "      <td>conventional</td>\n",
              "      <td>2015</td>\n",
              "      <td>0.98</td>\n",
              "      <td>small</td>\n",
              "      <td>8710021.76</td>\n",
              "    </tr>\n",
              "    <tr>\n",
              "      <th>2</th>\n",
              "      <td>2015-12-13</td>\n",
              "      <td>conventional</td>\n",
              "      <td>2015</td>\n",
              "      <td>0.93</td>\n",
              "      <td>small</td>\n",
              "      <td>9855053.66</td>\n",
              "    </tr>\n",
              "    <tr>\n",
              "      <th>3</th>\n",
              "      <td>2015-12-06</td>\n",
              "      <td>conventional</td>\n",
              "      <td>2015</td>\n",
              "      <td>0.89</td>\n",
              "      <td>small</td>\n",
              "      <td>9405464.36</td>\n",
              "    </tr>\n",
              "    <tr>\n",
              "      <th>4</th>\n",
              "      <td>2015-11-29</td>\n",
              "      <td>conventional</td>\n",
              "      <td>2015</td>\n",
              "      <td>0.99</td>\n",
              "      <td>small</td>\n",
              "      <td>8094803.56</td>\n",
              "    </tr>\n",
              "  </tbody>\n",
              "</table>\n",
              "</div>"
            ],
            "text/plain": [
              "         date          type  year  avg_price   size     nb_sold\n",
              "0  2015-12-27  conventional  2015       0.95  small  9626901.09\n",
              "1  2015-12-20  conventional  2015       0.98  small  8710021.76\n",
              "2  2015-12-13  conventional  2015       0.93  small  9855053.66\n",
              "3  2015-12-06  conventional  2015       0.89  small  9405464.36\n",
              "4  2015-11-29  conventional  2015       0.99  small  8094803.56"
            ]
          },
          "metadata": {
            "tags": []
          },
          "execution_count": 40
        }
      ]
    },
    {
      "cell_type": "markdown",
      "metadata": {
        "id": "VlSrdA2F_zLn"
      },
      "source": [
        "# Basics"
      ]
    },
    {
      "cell_type": "code",
      "metadata": {
        "id": "eST5czFpS0zM"
      },
      "source": [
        "df.info() # information on each of the columns, such as the data type and number of missing values\n",
        "df.describe() #summary statistics\n",
        "df.values # 2d array of values in data frame\n",
        "df.columns  #column names\n",
        "df.index # row names\n"
      ],
      "execution_count": null,
      "outputs": []
    },
    {
      "cell_type": "code",
      "metadata": {
        "id": "GDlUv3UeVhF7"
      },
      "source": [
        "df.sort_values(['col1', 'col2'], ascending=[True, False])"
      ],
      "execution_count": null,
      "outputs": []
    },
    {
      "cell_type": "markdown",
      "metadata": {
        "id": "BM98-VA15CYO"
      },
      "source": [
        "## Index\n",
        "\n",
        "- makes subsetting easier \n",
        "- index need not be unique "
      ]
    },
    {
      "cell_type": "code",
      "metadata": {
        "id": "MSvvO5235BDY"
      },
      "source": [
        "df.set_index('col1')  ## sets one column as the index instead of default range index\n",
        "df.reset_index() ## undos the above operation to bring back rangeindex\n",
        "df.reset_index(drop=True) ## drops the index columns dangerous"
      ],
      "execution_count": null,
      "outputs": []
    },
    {
      "cell_type": "code",
      "metadata": {
        "id": "HYvPVi-771Bs"
      },
      "source": [
        "df.sort_index() # sorts the index from outer to inner in ascending order\n",
        "df.sort_index(level=['col1','col2'], ascending=[True, False])"
      ],
      "execution_count": null,
      "outputs": []
    },
    {
      "cell_type": "code",
      "metadata": {
        "colab": {
          "base_uri": "https://localhost:8080/",
          "height": 233
        },
        "id": "tH-CJmr1UTzN",
        "outputId": "6b0aefc9-a6a4-4310-8297-98afac8b736e"
      },
      "source": [
        "temperatures_ind = temperatures.set_index('city')\n",
        "temperatures_ind.head()"
      ],
      "execution_count": null,
      "outputs": [
        {
          "output_type": "execute_result",
          "data": {
            "text/html": [
              "<div>\n",
              "<style scoped>\n",
              "    .dataframe tbody tr th:only-of-type {\n",
              "        vertical-align: middle;\n",
              "    }\n",
              "\n",
              "    .dataframe tbody tr th {\n",
              "        vertical-align: top;\n",
              "    }\n",
              "\n",
              "    .dataframe thead th {\n",
              "        text-align: right;\n",
              "    }\n",
              "</style>\n",
              "<table border=\"1\" class=\"dataframe\">\n",
              "  <thead>\n",
              "    <tr style=\"text-align: right;\">\n",
              "      <th></th>\n",
              "      <th>date</th>\n",
              "      <th>country</th>\n",
              "      <th>avg_temp_c</th>\n",
              "    </tr>\n",
              "    <tr>\n",
              "      <th>city</th>\n",
              "      <th></th>\n",
              "      <th></th>\n",
              "      <th></th>\n",
              "    </tr>\n",
              "  </thead>\n",
              "  <tbody>\n",
              "    <tr>\n",
              "      <th>Abidjan</th>\n",
              "      <td>2000-01-01</td>\n",
              "      <td>Côte D'Ivoire</td>\n",
              "      <td>27.293</td>\n",
              "    </tr>\n",
              "    <tr>\n",
              "      <th>Abidjan</th>\n",
              "      <td>2000-02-01</td>\n",
              "      <td>Côte D'Ivoire</td>\n",
              "      <td>27.685</td>\n",
              "    </tr>\n",
              "    <tr>\n",
              "      <th>Abidjan</th>\n",
              "      <td>2000-03-01</td>\n",
              "      <td>Côte D'Ivoire</td>\n",
              "      <td>29.061</td>\n",
              "    </tr>\n",
              "    <tr>\n",
              "      <th>Abidjan</th>\n",
              "      <td>2000-04-01</td>\n",
              "      <td>Côte D'Ivoire</td>\n",
              "      <td>28.162</td>\n",
              "    </tr>\n",
              "    <tr>\n",
              "      <th>Abidjan</th>\n",
              "      <td>2000-05-01</td>\n",
              "      <td>Côte D'Ivoire</td>\n",
              "      <td>27.547</td>\n",
              "    </tr>\n",
              "  </tbody>\n",
              "</table>\n",
              "</div>"
            ],
            "text/plain": [
              "               date        country  avg_temp_c\n",
              "city                                          \n",
              "Abidjan  2000-01-01  Côte D'Ivoire      27.293\n",
              "Abidjan  2000-02-01  Côte D'Ivoire      27.685\n",
              "Abidjan  2000-03-01  Côte D'Ivoire      29.061\n",
              "Abidjan  2000-04-01  Côte D'Ivoire      28.162\n",
              "Abidjan  2000-05-01  Côte D'Ivoire      27.547"
            ]
          },
          "metadata": {
            "tags": []
          },
          "execution_count": 4
        }
      ]
    },
    {
      "cell_type": "code",
      "metadata": {
        "colab": {
          "base_uri": "https://localhost:8080/",
          "height": 446
        },
        "id": "aPFZ-mHkWJ0r",
        "outputId": "a6d0b89e-7795-4aa2-ef0e-e19db591e8c8"
      },
      "source": [
        "temperatures_ind.loc[['Moscow', 'Saint Petersburg']]"
      ],
      "execution_count": null,
      "outputs": [
        {
          "output_type": "execute_result",
          "data": {
            "text/html": [
              "<div>\n",
              "<style scoped>\n",
              "    .dataframe tbody tr th:only-of-type {\n",
              "        vertical-align: middle;\n",
              "    }\n",
              "\n",
              "    .dataframe tbody tr th {\n",
              "        vertical-align: top;\n",
              "    }\n",
              "\n",
              "    .dataframe thead th {\n",
              "        text-align: right;\n",
              "    }\n",
              "</style>\n",
              "<table border=\"1\" class=\"dataframe\">\n",
              "  <thead>\n",
              "    <tr style=\"text-align: right;\">\n",
              "      <th></th>\n",
              "      <th>date</th>\n",
              "      <th>country</th>\n",
              "      <th>avg_temp_c</th>\n",
              "    </tr>\n",
              "    <tr>\n",
              "      <th>city</th>\n",
              "      <th></th>\n",
              "      <th></th>\n",
              "      <th></th>\n",
              "    </tr>\n",
              "  </thead>\n",
              "  <tbody>\n",
              "    <tr>\n",
              "      <th>Moscow</th>\n",
              "      <td>2000-01-01</td>\n",
              "      <td>Russia</td>\n",
              "      <td>-7.313</td>\n",
              "    </tr>\n",
              "    <tr>\n",
              "      <th>Moscow</th>\n",
              "      <td>2000-02-01</td>\n",
              "      <td>Russia</td>\n",
              "      <td>-3.551</td>\n",
              "    </tr>\n",
              "    <tr>\n",
              "      <th>Moscow</th>\n",
              "      <td>2000-03-01</td>\n",
              "      <td>Russia</td>\n",
              "      <td>-1.661</td>\n",
              "    </tr>\n",
              "    <tr>\n",
              "      <th>Moscow</th>\n",
              "      <td>2000-04-01</td>\n",
              "      <td>Russia</td>\n",
              "      <td>10.096</td>\n",
              "    </tr>\n",
              "    <tr>\n",
              "      <th>Moscow</th>\n",
              "      <td>2000-05-01</td>\n",
              "      <td>Russia</td>\n",
              "      <td>10.357</td>\n",
              "    </tr>\n",
              "    <tr>\n",
              "      <th>...</th>\n",
              "      <td>...</td>\n",
              "      <td>...</td>\n",
              "      <td>...</td>\n",
              "    </tr>\n",
              "    <tr>\n",
              "      <th>Saint Petersburg</th>\n",
              "      <td>2013-05-01</td>\n",
              "      <td>Russia</td>\n",
              "      <td>12.355</td>\n",
              "    </tr>\n",
              "    <tr>\n",
              "      <th>Saint Petersburg</th>\n",
              "      <td>2013-06-01</td>\n",
              "      <td>Russia</td>\n",
              "      <td>17.185</td>\n",
              "    </tr>\n",
              "    <tr>\n",
              "      <th>Saint Petersburg</th>\n",
              "      <td>2013-07-01</td>\n",
              "      <td>Russia</td>\n",
              "      <td>17.234</td>\n",
              "    </tr>\n",
              "    <tr>\n",
              "      <th>Saint Petersburg</th>\n",
              "      <td>2013-08-01</td>\n",
              "      <td>Russia</td>\n",
              "      <td>17.153</td>\n",
              "    </tr>\n",
              "    <tr>\n",
              "      <th>Saint Petersburg</th>\n",
              "      <td>2013-09-01</td>\n",
              "      <td>Russia</td>\n",
              "      <td>NaN</td>\n",
              "    </tr>\n",
              "  </tbody>\n",
              "</table>\n",
              "<p>330 rows × 3 columns</p>\n",
              "</div>"
            ],
            "text/plain": [
              "                        date country  avg_temp_c\n",
              "city                                            \n",
              "Moscow            2000-01-01  Russia      -7.313\n",
              "Moscow            2000-02-01  Russia      -3.551\n",
              "Moscow            2000-03-01  Russia      -1.661\n",
              "Moscow            2000-04-01  Russia      10.096\n",
              "Moscow            2000-05-01  Russia      10.357\n",
              "...                      ...     ...         ...\n",
              "Saint Petersburg  2013-05-01  Russia      12.355\n",
              "Saint Petersburg  2013-06-01  Russia      17.185\n",
              "Saint Petersburg  2013-07-01  Russia      17.234\n",
              "Saint Petersburg  2013-08-01  Russia      17.153\n",
              "Saint Petersburg  2013-09-01  Russia         NaN\n",
              "\n",
              "[330 rows x 3 columns]"
            ]
          },
          "metadata": {
            "tags": []
          },
          "execution_count": 26
        }
      ]
    },
    {
      "cell_type": "markdown",
      "metadata": {
        "id": "YU9_kLOv5wsk"
      },
      "source": [
        "### Multilevel or herirachial index\n",
        "- df.set_index(['col1', 'col2'])\n",
        "- bit  of controversial feature as it violates the tidy data standards\n",
        "- does not store in the tabular form as in regular dataframe\n",
        "- use tuples to access data when use loc\n"
      ]
    },
    {
      "cell_type": "code",
      "metadata": {
        "colab": {
          "base_uri": "https://localhost:8080/",
          "height": 233
        },
        "id": "M8ZuVeC05vp5",
        "outputId": "19276c2f-f4d3-4a27-9ea7-83f4173c8323"
      },
      "source": [
        "temperatures_ind=temperatures_ind.reset_index()\n",
        "temperatures_ind.set_index(['country','city'],inplace=True)\n",
        "temperatures_ind.head()"
      ],
      "execution_count": null,
      "outputs": [
        {
          "output_type": "execute_result",
          "data": {
            "text/html": [
              "<div>\n",
              "<style scoped>\n",
              "    .dataframe tbody tr th:only-of-type {\n",
              "        vertical-align: middle;\n",
              "    }\n",
              "\n",
              "    .dataframe tbody tr th {\n",
              "        vertical-align: top;\n",
              "    }\n",
              "\n",
              "    .dataframe thead th {\n",
              "        text-align: right;\n",
              "    }\n",
              "</style>\n",
              "<table border=\"1\" class=\"dataframe\">\n",
              "  <thead>\n",
              "    <tr style=\"text-align: right;\">\n",
              "      <th></th>\n",
              "      <th></th>\n",
              "      <th>date</th>\n",
              "      <th>avg_temp_c</th>\n",
              "    </tr>\n",
              "    <tr>\n",
              "      <th>country</th>\n",
              "      <th>city</th>\n",
              "      <th></th>\n",
              "      <th></th>\n",
              "    </tr>\n",
              "  </thead>\n",
              "  <tbody>\n",
              "    <tr>\n",
              "      <th rowspan=\"5\" valign=\"top\">Côte D'Ivoire</th>\n",
              "      <th>Abidjan</th>\n",
              "      <td>2000-01-01</td>\n",
              "      <td>27.293</td>\n",
              "    </tr>\n",
              "    <tr>\n",
              "      <th>Abidjan</th>\n",
              "      <td>2000-02-01</td>\n",
              "      <td>27.685</td>\n",
              "    </tr>\n",
              "    <tr>\n",
              "      <th>Abidjan</th>\n",
              "      <td>2000-03-01</td>\n",
              "      <td>29.061</td>\n",
              "    </tr>\n",
              "    <tr>\n",
              "      <th>Abidjan</th>\n",
              "      <td>2000-04-01</td>\n",
              "      <td>28.162</td>\n",
              "    </tr>\n",
              "    <tr>\n",
              "      <th>Abidjan</th>\n",
              "      <td>2000-05-01</td>\n",
              "      <td>27.547</td>\n",
              "    </tr>\n",
              "  </tbody>\n",
              "</table>\n",
              "</div>"
            ],
            "text/plain": [
              "                             date  avg_temp_c\n",
              "country       city                           \n",
              "Côte D'Ivoire Abidjan  2000-01-01      27.293\n",
              "              Abidjan  2000-02-01      27.685\n",
              "              Abidjan  2000-03-01      29.061\n",
              "              Abidjan  2000-04-01      28.162\n",
              "              Abidjan  2000-05-01      27.547"
            ]
          },
          "metadata": {
            "tags": []
          },
          "execution_count": 5
        }
      ]
    },
    {
      "cell_type": "code",
      "metadata": {
        "colab": {
          "base_uri": "https://localhost:8080/",
          "height": 446
        },
        "id": "-sqtnZi-Z_pz",
        "outputId": "a00b3e02-eb2b-4546-a8dc-5e204a021599"
      },
      "source": [
        "temperatures_ind.loc[[('Brazil', 'Rio De Janeiro'), ('India', 'Delhi')]]"
      ],
      "execution_count": null,
      "outputs": [
        {
          "output_type": "execute_result",
          "data": {
            "text/html": [
              "<div>\n",
              "<style scoped>\n",
              "    .dataframe tbody tr th:only-of-type {\n",
              "        vertical-align: middle;\n",
              "    }\n",
              "\n",
              "    .dataframe tbody tr th {\n",
              "        vertical-align: top;\n",
              "    }\n",
              "\n",
              "    .dataframe thead th {\n",
              "        text-align: right;\n",
              "    }\n",
              "</style>\n",
              "<table border=\"1\" class=\"dataframe\">\n",
              "  <thead>\n",
              "    <tr style=\"text-align: right;\">\n",
              "      <th></th>\n",
              "      <th></th>\n",
              "      <th>index</th>\n",
              "      <th>date</th>\n",
              "      <th>avg_temp_c</th>\n",
              "    </tr>\n",
              "    <tr>\n",
              "      <th>country</th>\n",
              "      <th>city</th>\n",
              "      <th></th>\n",
              "      <th></th>\n",
              "      <th></th>\n",
              "    </tr>\n",
              "  </thead>\n",
              "  <tbody>\n",
              "    <tr>\n",
              "      <th rowspan=\"5\" valign=\"top\">Brazil</th>\n",
              "      <th>Rio De Janeiro</th>\n",
              "      <td>12540</td>\n",
              "      <td>2000-01-01</td>\n",
              "      <td>25.974</td>\n",
              "    </tr>\n",
              "    <tr>\n",
              "      <th>Rio De Janeiro</th>\n",
              "      <td>12541</td>\n",
              "      <td>2000-02-01</td>\n",
              "      <td>26.699</td>\n",
              "    </tr>\n",
              "    <tr>\n",
              "      <th>Rio De Janeiro</th>\n",
              "      <td>12542</td>\n",
              "      <td>2000-03-01</td>\n",
              "      <td>26.270</td>\n",
              "    </tr>\n",
              "    <tr>\n",
              "      <th>Rio De Janeiro</th>\n",
              "      <td>12543</td>\n",
              "      <td>2000-04-01</td>\n",
              "      <td>25.750</td>\n",
              "    </tr>\n",
              "    <tr>\n",
              "      <th>Rio De Janeiro</th>\n",
              "      <td>12544</td>\n",
              "      <td>2000-05-01</td>\n",
              "      <td>24.356</td>\n",
              "    </tr>\n",
              "    <tr>\n",
              "      <th>...</th>\n",
              "      <th>...</th>\n",
              "      <td>...</td>\n",
              "      <td>...</td>\n",
              "      <td>...</td>\n",
              "    </tr>\n",
              "    <tr>\n",
              "      <th rowspan=\"5\" valign=\"top\">India</th>\n",
              "      <th>Delhi</th>\n",
              "      <td>4450</td>\n",
              "      <td>2013-05-01</td>\n",
              "      <td>34.746</td>\n",
              "    </tr>\n",
              "    <tr>\n",
              "      <th>Delhi</th>\n",
              "      <td>4451</td>\n",
              "      <td>2013-06-01</td>\n",
              "      <td>33.066</td>\n",
              "    </tr>\n",
              "    <tr>\n",
              "      <th>Delhi</th>\n",
              "      <td>4452</td>\n",
              "      <td>2013-07-01</td>\n",
              "      <td>31.053</td>\n",
              "    </tr>\n",
              "    <tr>\n",
              "      <th>Delhi</th>\n",
              "      <td>4453</td>\n",
              "      <td>2013-08-01</td>\n",
              "      <td>29.900</td>\n",
              "    </tr>\n",
              "    <tr>\n",
              "      <th>Delhi</th>\n",
              "      <td>4454</td>\n",
              "      <td>2013-09-01</td>\n",
              "      <td>NaN</td>\n",
              "    </tr>\n",
              "  </tbody>\n",
              "</table>\n",
              "<p>330 rows × 3 columns</p>\n",
              "</div>"
            ],
            "text/plain": [
              "                        index        date  avg_temp_c\n",
              "country city                                         \n",
              "Brazil  Rio De Janeiro  12540  2000-01-01      25.974\n",
              "        Rio De Janeiro  12541  2000-02-01      26.699\n",
              "        Rio De Janeiro  12542  2000-03-01      26.270\n",
              "        Rio De Janeiro  12543  2000-04-01      25.750\n",
              "        Rio De Janeiro  12544  2000-05-01      24.356\n",
              "...                       ...         ...         ...\n",
              "India   Delhi            4450  2013-05-01      34.746\n",
              "        Delhi            4451  2013-06-01      33.066\n",
              "        Delhi            4452  2013-07-01      31.053\n",
              "        Delhi            4453  2013-08-01      29.900\n",
              "        Delhi            4454  2013-09-01         NaN\n",
              "\n",
              "[330 rows x 3 columns]"
            ]
          },
          "metadata": {
            "tags": []
          },
          "execution_count": 33
        }
      ]
    },
    {
      "cell_type": "markdown",
      "metadata": {
        "id": "3-ptVQi4FdeQ"
      },
      "source": [
        "##  Slicing and Subsetting"
      ]
    },
    {
      "cell_type": "markdown",
      "metadata": {
        "id": "XjcWZMbiGXPm"
      },
      "source": [
        "### loc method\n",
        "- loc method to get data with values present in index\n",
        "- includes the end value as well\n",
        "- can slice data in both rows and columns"
      ]
    },
    {
      "cell_type": "code",
      "metadata": {
        "colab": {
          "base_uri": "https://localhost:8080/"
        },
        "id": "639cDX6dzFvV",
        "outputId": "5ec377be-564d-4081-c4f8-d170efbb10da"
      },
      "source": [
        "temperatures_srt= temperatures_ind.sort_index()\n",
        "print(temperatures_srt.loc['Pakistan': 'Russia'])"
      ],
      "execution_count": null,
      "outputs": [
        {
          "output_type": "stream",
          "text": [
            "                                 date  avg_temp_c\n",
            "country  city                                    \n",
            "Pakistan Faisalabad        2000-01-01      12.792\n",
            "         Faisalabad        2000-02-01      14.339\n",
            "         Faisalabad        2000-03-01      20.309\n",
            "         Faisalabad        2000-04-01      29.072\n",
            "         Faisalabad        2000-05-01      34.845\n",
            "...                               ...         ...\n",
            "Russia   Saint Petersburg  2013-05-01      12.355\n",
            "         Saint Petersburg  2013-06-01      17.185\n",
            "         Saint Petersburg  2013-07-01      17.234\n",
            "         Saint Petersburg  2013-08-01      17.153\n",
            "         Saint Petersburg  2013-09-01         NaN\n",
            "\n",
            "[1155 rows x 2 columns]\n"
          ],
          "name": "stdout"
        }
      ]
    },
    {
      "cell_type": "code",
      "metadata": {
        "colab": {
          "base_uri": "https://localhost:8080/"
        },
        "id": "IdAoRchJz2sK",
        "outputId": "bce2f0f5-477c-4b80-c925-de07790db7aa"
      },
      "source": [
        "# slicing with inner indexes alone doesnt produce desired output, also doesnt throw errors\n",
        "print(temperatures_srt.loc['Lahore':'Moscow' ])"
      ],
      "execution_count": null,
      "outputs": [
        {
          "output_type": "stream",
          "text": [
            "                          date  avg_temp_c\n",
            "country city                              \n",
            "Mexico  Mexico      2000-01-01      12.694\n",
            "        Mexico      2000-02-01      14.677\n",
            "        Mexico      2000-03-01      17.376\n",
            "        Mexico      2000-04-01      18.294\n",
            "        Mexico      2000-05-01      18.562\n",
            "...                        ...         ...\n",
            "Morocco Casablanca  2013-05-01      19.217\n",
            "        Casablanca  2013-06-01      23.649\n",
            "        Casablanca  2013-07-01      27.488\n",
            "        Casablanca  2013-08-01      27.952\n",
            "        Casablanca  2013-09-01         NaN\n",
            "\n",
            "[330 rows x 2 columns]\n"
          ],
          "name": "stdout"
        }
      ]
    },
    {
      "cell_type": "code",
      "metadata": {
        "colab": {
          "base_uri": "https://localhost:8080/"
        },
        "id": "h7HNZiCJz1H2",
        "outputId": "9b24ab1e-3fa7-4ccd-a281-bc9545993f4c"
      },
      "source": [
        "print(temperatures_srt.loc[('Pakistan', 'Lahore'): ('Russia', 'Moscow') ])"
      ],
      "execution_count": null,
      "outputs": [
        {
          "output_type": "stream",
          "text": [
            "                       date  avg_temp_c\n",
            "country  city                          \n",
            "Pakistan Lahore  2000-01-01      12.792\n",
            "         Lahore  2000-02-01      14.339\n",
            "         Lahore  2000-03-01      20.309\n",
            "         Lahore  2000-04-01      29.072\n",
            "         Lahore  2000-05-01      34.845\n",
            "...                     ...         ...\n",
            "Russia   Moscow  2013-05-01      16.152\n",
            "         Moscow  2013-06-01      18.718\n",
            "         Moscow  2013-07-01      18.136\n",
            "         Moscow  2013-08-01      17.485\n",
            "         Moscow  2013-09-01         NaN\n",
            "\n",
            "[660 rows x 2 columns]\n"
          ],
          "name": "stdout"
        }
      ]
    },
    {
      "cell_type": "code",
      "metadata": {
        "colab": {
          "base_uri": "https://localhost:8080/"
        },
        "id": "cqX6fEq50kwI",
        "outputId": "58a3da71-58f8-45fc-fe55-8d55214eb676"
      },
      "source": [
        "print(temperatures_srt.loc[:, 'date':'avg_temp_c'])"
      ],
      "execution_count": null,
      "outputs": [
        {
          "output_type": "stream",
          "text": [
            "                          date  avg_temp_c\n",
            "country     city                          \n",
            "Afghanistan Kabul   2000-01-01       3.326\n",
            "            Kabul   2000-02-01       3.454\n",
            "            Kabul   2000-03-01       9.612\n",
            "            Kabul   2000-04-01      17.925\n",
            "            Kabul   2000-05-01      24.658\n",
            "...                        ...         ...\n",
            "Zimbabwe    Harare  2013-05-01      18.298\n",
            "            Harare  2013-06-01      17.020\n",
            "            Harare  2013-07-01      16.299\n",
            "            Harare  2013-08-01      19.232\n",
            "            Harare  2013-09-01         NaN\n",
            "\n",
            "[16500 rows x 2 columns]\n"
          ],
          "name": "stdout"
        }
      ]
    },
    {
      "cell_type": "code",
      "metadata": {
        "colab": {
          "base_uri": "https://localhost:8080/"
        },
        "id": "TOL-0yH-1HQO",
        "outputId": "b77ec695-78d4-4fb6-d88a-c9cd8572e39a"
      },
      "source": [
        "print(temperatures_srt.loc[('India', 'Hyderabad'):('Iraq', 'Baghdad'), 'date':'avg_temp_c'])"
      ],
      "execution_count": null,
      "outputs": [
        {
          "output_type": "stream",
          "text": [
            "                         date  avg_temp_c\n",
            "country city                             \n",
            "India   Hyderabad  2000-01-01      23.779\n",
            "        Hyderabad  2000-02-01      25.826\n",
            "        Hyderabad  2000-03-01      28.821\n",
            "        Hyderabad  2000-04-01      32.698\n",
            "        Hyderabad  2000-05-01      32.438\n",
            "...                       ...         ...\n",
            "Iraq    Baghdad    2013-05-01      28.673\n",
            "        Baghdad    2013-06-01      33.803\n",
            "        Baghdad    2013-07-01      36.392\n",
            "        Baghdad    2013-08-01      35.463\n",
            "        Baghdad    2013-09-01         NaN\n",
            "\n",
            "[2145 rows x 2 columns]\n"
          ],
          "name": "stdout"
        }
      ]
    },
    {
      "cell_type": "code",
      "metadata": {
        "colab": {
          "base_uri": "https://localhost:8080/",
          "height": 446
        },
        "id": "ziT80p5C1uw1",
        "outputId": "36c766b7-a507-4e38-ab90-abf998f24aee"
      },
      "source": [
        "temperatures['date']=pd.to_datetime(temperatures['date'])\n",
        "temperatures_ind = temperatures.set_index(\"date\")\n",
        "temperatures_ind.loc['2010':'2011']"
      ],
      "execution_count": null,
      "outputs": [
        {
          "output_type": "execute_result",
          "data": {
            "text/html": [
              "<div>\n",
              "<style scoped>\n",
              "    .dataframe tbody tr th:only-of-type {\n",
              "        vertical-align: middle;\n",
              "    }\n",
              "\n",
              "    .dataframe tbody tr th {\n",
              "        vertical-align: top;\n",
              "    }\n",
              "\n",
              "    .dataframe thead th {\n",
              "        text-align: right;\n",
              "    }\n",
              "</style>\n",
              "<table border=\"1\" class=\"dataframe\">\n",
              "  <thead>\n",
              "    <tr style=\"text-align: right;\">\n",
              "      <th></th>\n",
              "      <th>city</th>\n",
              "      <th>country</th>\n",
              "      <th>avg_temp_c</th>\n",
              "    </tr>\n",
              "    <tr>\n",
              "      <th>date</th>\n",
              "      <th></th>\n",
              "      <th></th>\n",
              "      <th></th>\n",
              "    </tr>\n",
              "  </thead>\n",
              "  <tbody>\n",
              "    <tr>\n",
              "      <th>2010-01-01</th>\n",
              "      <td>Abidjan</td>\n",
              "      <td>Côte D'Ivoire</td>\n",
              "      <td>28.270</td>\n",
              "    </tr>\n",
              "    <tr>\n",
              "      <th>2010-02-01</th>\n",
              "      <td>Abidjan</td>\n",
              "      <td>Côte D'Ivoire</td>\n",
              "      <td>29.262</td>\n",
              "    </tr>\n",
              "    <tr>\n",
              "      <th>2010-03-01</th>\n",
              "      <td>Abidjan</td>\n",
              "      <td>Côte D'Ivoire</td>\n",
              "      <td>29.596</td>\n",
              "    </tr>\n",
              "    <tr>\n",
              "      <th>2010-04-01</th>\n",
              "      <td>Abidjan</td>\n",
              "      <td>Côte D'Ivoire</td>\n",
              "      <td>29.068</td>\n",
              "    </tr>\n",
              "    <tr>\n",
              "      <th>2010-05-01</th>\n",
              "      <td>Abidjan</td>\n",
              "      <td>Côte D'Ivoire</td>\n",
              "      <td>28.258</td>\n",
              "    </tr>\n",
              "    <tr>\n",
              "      <th>...</th>\n",
              "      <td>...</td>\n",
              "      <td>...</td>\n",
              "      <td>...</td>\n",
              "    </tr>\n",
              "    <tr>\n",
              "      <th>2011-08-01</th>\n",
              "      <td>Xian</td>\n",
              "      <td>China</td>\n",
              "      <td>23.069</td>\n",
              "    </tr>\n",
              "    <tr>\n",
              "      <th>2011-09-01</th>\n",
              "      <td>Xian</td>\n",
              "      <td>China</td>\n",
              "      <td>16.775</td>\n",
              "    </tr>\n",
              "    <tr>\n",
              "      <th>2011-10-01</th>\n",
              "      <td>Xian</td>\n",
              "      <td>China</td>\n",
              "      <td>12.587</td>\n",
              "    </tr>\n",
              "    <tr>\n",
              "      <th>2011-11-01</th>\n",
              "      <td>Xian</td>\n",
              "      <td>China</td>\n",
              "      <td>7.543</td>\n",
              "    </tr>\n",
              "    <tr>\n",
              "      <th>2011-12-01</th>\n",
              "      <td>Xian</td>\n",
              "      <td>China</td>\n",
              "      <td>-0.490</td>\n",
              "    </tr>\n",
              "  </tbody>\n",
              "</table>\n",
              "<p>2400 rows × 3 columns</p>\n",
              "</div>"
            ],
            "text/plain": [
              "               city        country  avg_temp_c\n",
              "date                                          \n",
              "2010-01-01  Abidjan  Côte D'Ivoire      28.270\n",
              "2010-02-01  Abidjan  Côte D'Ivoire      29.262\n",
              "2010-03-01  Abidjan  Côte D'Ivoire      29.596\n",
              "2010-04-01  Abidjan  Côte D'Ivoire      29.068\n",
              "2010-05-01  Abidjan  Côte D'Ivoire      28.258\n",
              "...             ...            ...         ...\n",
              "2011-08-01     Xian          China      23.069\n",
              "2011-09-01     Xian          China      16.775\n",
              "2011-10-01     Xian          China      12.587\n",
              "2011-11-01     Xian          China       7.543\n",
              "2011-12-01     Xian          China      -0.490\n",
              "\n",
              "[2400 rows x 3 columns]"
            ]
          },
          "metadata": {
            "tags": []
          },
          "execution_count": 23
        }
      ]
    },
    {
      "cell_type": "markdown",
      "metadata": {
        "id": "Zt2N_TaRlQlm"
      },
      "source": [
        "- Boolean filter can also be applied to the loc method to filter data "
      ]
    },
    {
      "cell_type": "code",
      "metadata": {
        "id": "E_sXjC05lXUk"
      },
      "source": [
        "df.loc[df['col1']=='something', 'col2']"
      ],
      "execution_count": null,
      "outputs": []
    },
    {
      "cell_type": "markdown",
      "metadata": {
        "id": "MhrmPgnZLO-G"
      },
      "source": [
        "### iloc method\n",
        "-  using row and column numbers instead of names\n",
        "- doesnt include end value"
      ]
    },
    {
      "cell_type": "code",
      "metadata": {
        "colab": {
          "base_uri": "https://localhost:8080/"
        },
        "id": "iA-V18Q53gkZ",
        "outputId": "32f1bb2c-5fbd-492c-9feb-bf9e61bb6a4a"
      },
      "source": [
        "print(temperatures.iloc[22,1])"
      ],
      "execution_count": null,
      "outputs": [
        {
          "output_type": "stream",
          "text": [
            "Abidjan\n"
          ],
          "name": "stdout"
        }
      ]
    },
    {
      "cell_type": "code",
      "metadata": {
        "colab": {
          "base_uri": "https://localhost:8080/"
        },
        "id": "35IRQNu23tmY",
        "outputId": "802ec463-0a3c-465a-c0da-7f1d5bec58e0"
      },
      "source": [
        "print(temperatures.iloc[:5, 2:4])"
      ],
      "execution_count": null,
      "outputs": [
        {
          "output_type": "stream",
          "text": [
            "         country  avg_temp_c\n",
            "0  Côte D'Ivoire      27.293\n",
            "1  Côte D'Ivoire      27.685\n",
            "2  Côte D'Ivoire      29.061\n",
            "3  Côte D'Ivoire      28.162\n",
            "4  Côte D'Ivoire      27.547\n"
          ],
          "name": "stdout"
        }
      ]
    },
    {
      "cell_type": "code",
      "metadata": {
        "id": "svf5mYZwYUCV"
      },
      "source": [
        "# Subsetting\n",
        "df[df['col1']>1]\n",
        "df[df['col2']=='Text']\n",
        "is_lab = dogs[\"breed\"] == \"Labrador\"\n",
        "is_brown = dogs[\"color\"] == \"Brown\"\n",
        "dogs[is_lab & is_brown]\n",
        "#isin method\n",
        "dogs[dogs['color'].isin(['Black', 'Brown'])]"
      ],
      "execution_count": null,
      "outputs": []
    },
    {
      "cell_type": "code",
      "metadata": {
        "id": "vfMUDjKURnxm"
      },
      "source": [
        "df.col.value_counts(sort= True)\n",
        "df.col.value_counts(normalize=True)"
      ],
      "execution_count": null,
      "outputs": []
    },
    {
      "cell_type": "markdown",
      "metadata": {
        "id": "RVqyOGTHSDBO"
      },
      "source": [
        "## Group by\n",
        "- Get summary data by inidividual groups\n",
        "- Compare one categorical data with statistics values\n",
        "- To answer question like does one group weight more than other \n",
        "- Group by one cat variable, select the continous variable and take the mean or median"
      ]
    },
    {
      "cell_type": "code",
      "metadata": {
        "id": "sN8iQolEYfpW",
        "colab": {
          "base_uri": "https://localhost:8080/"
        },
        "outputId": "a51008cf-a464-4056-cd6a-0ec40ab484a7"
      },
      "source": [
        "# did one type of store make more sales than other??\n",
        "sales_by_type= sales.groupby('type')['weekly_sales'].sum()\n",
        "sales_by_type.head()"
      ],
      "execution_count": null,
      "outputs": [
        {
          "output_type": "execute_result",
          "data": {
            "text/plain": [
              "type\n",
              "A    2.337163e+08\n",
              "B    2.317840e+07\n",
              "Name: weekly_sales, dtype: float64"
            ]
          },
          "metadata": {
            "tags": []
          },
          "execution_count": 3
        }
      ]
    },
    {
      "cell_type": "code",
      "metadata": {
        "colab": {
          "base_uri": "https://localhost:8080/"
        },
        "id": "_WbmUxJsokFx",
        "outputId": "0dbe4b5e-1720-4578-9c2c-c5ce0230aff4"
      },
      "source": [
        "\n",
        "sales_by_propotion= sales_by_type/ sales.weekly_sales.sum()\n",
        "sales_by_propotion"
      ],
      "execution_count": null,
      "outputs": [
        {
          "output_type": "execute_result",
          "data": {
            "text/plain": [
              "type\n",
              "A    0.909775\n",
              "B    0.090225\n",
              "Name: weekly_sales, dtype: float64"
            ]
          },
          "metadata": {
            "tags": []
          },
          "execution_count": 4
        }
      ]
    },
    {
      "cell_type": "markdown",
      "metadata": {
        "id": "a3jhDWItYohE"
      },
      "source": [
        "### Group by to give multiple statistics\n",
        "df.groupby('Cat_var')['Cont_var'].agg([min, max, sum])"
      ]
    },
    {
      "cell_type": "code",
      "metadata": {
        "id": "gVoC41e5Z_kM",
        "colab": {
          "base_uri": "https://localhost:8080/",
          "height": 218
        },
        "outputId": "d6389aae-c632-4bed-99f8-81f6d0798499"
      },
      "source": [
        "# is there any correlation between type of store and unemployment and fuel prices\n",
        "unemp_fuel_stats=sales.groupby('type')['unemployment','fuel_price_usd_per_l'].agg([np.min, np.max, np.mean, np.median])\n",
        "unemp_fuel_stats"
      ],
      "execution_count": null,
      "outputs": [
        {
          "output_type": "error",
          "ename": "NameError",
          "evalue": "ignored",
          "traceback": [
            "\u001b[0;31m---------------------------------------------------------------------------\u001b[0m",
            "\u001b[0;31mNameError\u001b[0m                                 Traceback (most recent call last)",
            "\u001b[0;32m<ipython-input-1-e8718be1d3be>\u001b[0m in \u001b[0;36m<module>\u001b[0;34m()\u001b[0m\n\u001b[1;32m      1\u001b[0m \u001b[0;31m# is there any correlation between type of store and unemployment and fuel prices\u001b[0m\u001b[0;34m\u001b[0m\u001b[0;34m\u001b[0m\u001b[0;34m\u001b[0m\u001b[0m\n\u001b[0;32m----> 2\u001b[0;31m \u001b[0munemp_fuel_stats\u001b[0m\u001b[0;34m=\u001b[0m\u001b[0msales\u001b[0m\u001b[0;34m.\u001b[0m\u001b[0mgroupby\u001b[0m\u001b[0;34m(\u001b[0m\u001b[0;34m'type'\u001b[0m\u001b[0;34m)\u001b[0m\u001b[0;34m[\u001b[0m\u001b[0;34m'unemployment'\u001b[0m\u001b[0;34m,\u001b[0m\u001b[0;34m'fuel_price_usd_per_l'\u001b[0m\u001b[0;34m]\u001b[0m\u001b[0;34m.\u001b[0m\u001b[0magg\u001b[0m\u001b[0;34m(\u001b[0m\u001b[0;34m[\u001b[0m\u001b[0mnp\u001b[0m\u001b[0;34m.\u001b[0m\u001b[0mmin\u001b[0m\u001b[0;34m,\u001b[0m \u001b[0mnp\u001b[0m\u001b[0;34m.\u001b[0m\u001b[0mmax\u001b[0m\u001b[0;34m,\u001b[0m \u001b[0mnp\u001b[0m\u001b[0;34m.\u001b[0m\u001b[0mmean\u001b[0m\u001b[0;34m,\u001b[0m \u001b[0mnp\u001b[0m\u001b[0;34m.\u001b[0m\u001b[0mmedian\u001b[0m\u001b[0;34m]\u001b[0m\u001b[0;34m)\u001b[0m\u001b[0;34m\u001b[0m\u001b[0;34m\u001b[0m\u001b[0m\n\u001b[0m\u001b[1;32m      3\u001b[0m \u001b[0munemp_fuel_stats\u001b[0m\u001b[0;34m\u001b[0m\u001b[0;34m\u001b[0m\u001b[0m\n",
            "\u001b[0;31mNameError\u001b[0m: name 'sales' is not defined"
          ]
        }
      ]
    },
    {
      "cell_type": "markdown",
      "metadata": {
        "id": "a7SHLhuxaGbR"
      },
      "source": [
        "### Group by multiple variables\n",
        "- df.groupby(['var1', 'var2'])['cont_var'].mean()\n",
        "- df.groupby(['var1', 'var2'])['cont_var', 'cont_var2'].mean()"
      ]
    },
    {
      "cell_type": "code",
      "metadata": {
        "id": "WLRcdjUMaAH2",
        "colab": {
          "base_uri": "https://localhost:8080/",
          "height": 202
        },
        "outputId": "dbd51e8e-a964-41b2-9350-641ceba6ef2d"
      },
      "source": [
        "# is holiday sales more for each type of store\n",
        "sales_type_holiday= sales.groupby(['type','is_holiday'])['weekly_sales'].agg([np.mean, sum, np.median])\n",
        "sales_type_holiday"
      ],
      "execution_count": null,
      "outputs": [
        {
          "output_type": "execute_result",
          "data": {
            "text/html": [
              "<div>\n",
              "<style scoped>\n",
              "    .dataframe tbody tr th:only-of-type {\n",
              "        vertical-align: middle;\n",
              "    }\n",
              "\n",
              "    .dataframe tbody tr th {\n",
              "        vertical-align: top;\n",
              "    }\n",
              "\n",
              "    .dataframe thead th {\n",
              "        text-align: right;\n",
              "    }\n",
              "</style>\n",
              "<table border=\"1\" class=\"dataframe\">\n",
              "  <thead>\n",
              "    <tr style=\"text-align: right;\">\n",
              "      <th></th>\n",
              "      <th></th>\n",
              "      <th>mean</th>\n",
              "      <th>sum</th>\n",
              "      <th>median</th>\n",
              "    </tr>\n",
              "    <tr>\n",
              "      <th>type</th>\n",
              "      <th>is_holiday</th>\n",
              "      <th></th>\n",
              "      <th></th>\n",
              "      <th></th>\n",
              "    </tr>\n",
              "  </thead>\n",
              "  <tbody>\n",
              "    <tr>\n",
              "      <th rowspan=\"2\" valign=\"top\">A</th>\n",
              "      <th>False</th>\n",
              "      <td>23768.583523</td>\n",
              "      <td>2.336927e+08</td>\n",
              "      <td>12028.955</td>\n",
              "    </tr>\n",
              "    <tr>\n",
              "      <th>True</th>\n",
              "      <td>590.045250</td>\n",
              "      <td>2.360181e+04</td>\n",
              "      <td>37.500</td>\n",
              "    </tr>\n",
              "    <tr>\n",
              "      <th rowspan=\"2\" valign=\"top\">B</th>\n",
              "      <th>False</th>\n",
              "      <td>25751.980533</td>\n",
              "      <td>2.317678e+07</td>\n",
              "      <td>13348.680</td>\n",
              "    </tr>\n",
              "    <tr>\n",
              "      <th>True</th>\n",
              "      <td>810.705000</td>\n",
              "      <td>1.621410e+03</td>\n",
              "      <td>810.705</td>\n",
              "    </tr>\n",
              "  </tbody>\n",
              "</table>\n",
              "</div>"
            ],
            "text/plain": [
              "                         mean           sum     median\n",
              "type is_holiday                                       \n",
              "A    False       23768.583523  2.336927e+08  12028.955\n",
              "     True          590.045250  2.360181e+04     37.500\n",
              "B    False       25751.980533  2.317678e+07  13348.680\n",
              "     True          810.705000  1.621410e+03    810.705"
            ]
          },
          "metadata": {
            "tags": []
          },
          "execution_count": 9
        }
      ]
    },
    {
      "cell_type": "code",
      "metadata": {
        "id": "Lf12IUIwacYV"
      },
      "source": [
        "# can apply different aggregation to different columns simulatenously\n",
        "df.groupby('A').agg({'B': ['min', 'max'], 'C': 'sum'})"
      ],
      "execution_count": null,
      "outputs": []
    },
    {
      "cell_type": "markdown",
      "metadata": {
        "id": "EWjoxZeJP6Kz"
      },
      "source": [
        "## Query\n",
        "- stocks_long.query('stock==\"disney\" or (stock==\"nike\" and close < 90)')\n",
        "- for querying text use double quotes as the query is already in single quotes \n"
      ]
    },
    {
      "cell_type": "markdown",
      "metadata": {
        "id": "tdRba7I1udw0"
      },
      "source": [
        "# Pivot Tables\n",
        "- Similar to group by\n",
        "- df.pivot_table(values='cont_col1' , index='cat_col')\n",
        "- values == column that we want to summarize\n",
        "- index == column that we want to groupby\n",
        "- default stat is mean, can be changed using aggfunc method\n",
        "- To group by two variables add **columns** argument\n",
        "- fill_value === value to be filled instead of NaN\n",
        "- Margins= True == provides mean excluding missing values"
      ]
    },
    {
      "cell_type": "code",
      "metadata": {
        "colab": {
          "base_uri": "https://localhost:8080/",
          "height": 171
        },
        "id": "3rb2AIypyYje",
        "outputId": "26bd8613-4653-4834-dc9e-32668ad31703"
      },
      "source": [
        "mean_med_sales_by_type= sales.pivot_table(values='weekly_sales',index='type', aggfunc=([np.mean, np.median]))\n",
        "mean_med_sales_by_type"
      ],
      "execution_count": null,
      "outputs": [
        {
          "output_type": "execute_result",
          "data": {
            "text/html": [
              "<div>\n",
              "<style scoped>\n",
              "    .dataframe tbody tr th:only-of-type {\n",
              "        vertical-align: middle;\n",
              "    }\n",
              "\n",
              "    .dataframe tbody tr th {\n",
              "        vertical-align: top;\n",
              "    }\n",
              "\n",
              "    .dataframe thead tr th {\n",
              "        text-align: left;\n",
              "    }\n",
              "\n",
              "    .dataframe thead tr:last-of-type th {\n",
              "        text-align: right;\n",
              "    }\n",
              "</style>\n",
              "<table border=\"1\" class=\"dataframe\">\n",
              "  <thead>\n",
              "    <tr>\n",
              "      <th></th>\n",
              "      <th>mean</th>\n",
              "      <th>median</th>\n",
              "    </tr>\n",
              "    <tr>\n",
              "      <th></th>\n",
              "      <th>weekly_sales</th>\n",
              "      <th>weekly_sales</th>\n",
              "    </tr>\n",
              "    <tr>\n",
              "      <th>type</th>\n",
              "      <th></th>\n",
              "      <th></th>\n",
              "    </tr>\n",
              "  </thead>\n",
              "  <tbody>\n",
              "    <tr>\n",
              "      <th>A</th>\n",
              "      <td>23674.667242</td>\n",
              "      <td>11943.92</td>\n",
              "    </tr>\n",
              "    <tr>\n",
              "      <th>B</th>\n",
              "      <td>25696.678370</td>\n",
              "      <td>13336.08</td>\n",
              "    </tr>\n",
              "  </tbody>\n",
              "</table>\n",
              "</div>"
            ],
            "text/plain": [
              "              mean       median\n",
              "      weekly_sales weekly_sales\n",
              "type                           \n",
              "A     23674.667242     11943.92\n",
              "B     25696.678370     13336.08"
            ]
          },
          "metadata": {
            "tags": []
          },
          "execution_count": 11
        }
      ]
    },
    {
      "cell_type": "code",
      "metadata": {
        "colab": {
          "base_uri": "https://localhost:8080/",
          "height": 233
        },
        "id": "nkti5bSayvEn",
        "outputId": "ee07b79d-3fd7-4537-cd8c-be398e7d4ef8"
      },
      "source": [
        "mean_sales_by_type_holiday= sales.pivot_table(values='weekly_sales', index='department', columns='type',\n",
        "                                              margins=True, fill_value=0)\n",
        "mean_sales_by_type_holiday.head()"
      ],
      "execution_count": null,
      "outputs": [
        {
          "output_type": "execute_result",
          "data": {
            "text/html": [
              "<div>\n",
              "<style scoped>\n",
              "    .dataframe tbody tr th:only-of-type {\n",
              "        vertical-align: middle;\n",
              "    }\n",
              "\n",
              "    .dataframe tbody tr th {\n",
              "        vertical-align: top;\n",
              "    }\n",
              "\n",
              "    .dataframe thead th {\n",
              "        text-align: right;\n",
              "    }\n",
              "</style>\n",
              "<table border=\"1\" class=\"dataframe\">\n",
              "  <thead>\n",
              "    <tr style=\"text-align: right;\">\n",
              "      <th>type</th>\n",
              "      <th>A</th>\n",
              "      <th>B</th>\n",
              "      <th>All</th>\n",
              "    </tr>\n",
              "    <tr>\n",
              "      <th>department</th>\n",
              "      <th></th>\n",
              "      <th></th>\n",
              "      <th></th>\n",
              "    </tr>\n",
              "  </thead>\n",
              "  <tbody>\n",
              "    <tr>\n",
              "      <th>1</th>\n",
              "      <td>30961.725379</td>\n",
              "      <td>44050.626667</td>\n",
              "      <td>32052.467153</td>\n",
              "    </tr>\n",
              "    <tr>\n",
              "      <th>2</th>\n",
              "      <td>67600.158788</td>\n",
              "      <td>112958.526667</td>\n",
              "      <td>71380.022778</td>\n",
              "    </tr>\n",
              "    <tr>\n",
              "      <th>3</th>\n",
              "      <td>17160.002955</td>\n",
              "      <td>30580.655000</td>\n",
              "      <td>18278.390625</td>\n",
              "    </tr>\n",
              "    <tr>\n",
              "      <th>4</th>\n",
              "      <td>44285.399091</td>\n",
              "      <td>51219.654167</td>\n",
              "      <td>44863.253681</td>\n",
              "    </tr>\n",
              "    <tr>\n",
              "      <th>5</th>\n",
              "      <td>34821.011364</td>\n",
              "      <td>63236.875000</td>\n",
              "      <td>37189.000000</td>\n",
              "    </tr>\n",
              "  </tbody>\n",
              "</table>\n",
              "</div>"
            ],
            "text/plain": [
              "type                   A              B           All\n",
              "department                                           \n",
              "1           30961.725379   44050.626667  32052.467153\n",
              "2           67600.158788  112958.526667  71380.022778\n",
              "3           17160.002955   30580.655000  18278.390625\n",
              "4           44285.399091   51219.654167  44863.253681\n",
              "5           34821.011364   63236.875000  37189.000000"
            ]
          },
          "metadata": {
            "tags": []
          },
          "execution_count": 14
        }
      ]
    },
    {
      "cell_type": "code",
      "metadata": {
        "colab": {
          "base_uri": "https://localhost:8080/",
          "height": 501
        },
        "id": "-LimS1Pa4XDq",
        "outputId": "66b4e8b4-5bc3-4f15-c4c7-17acc4cd23a8"
      },
      "source": [
        "temperatures['year']=temperatures.date.dt.year\n",
        "temp_by_country_city_vs_year= temperatures.pivot_table(index=['country','city'], values='avg_temp_c',columns='year' )\n",
        "temp_by_country_city_vs_year"
      ],
      "execution_count": null,
      "outputs": [
        {
          "output_type": "execute_result",
          "data": {
            "text/html": [
              "<div>\n",
              "<style scoped>\n",
              "    .dataframe tbody tr th:only-of-type {\n",
              "        vertical-align: middle;\n",
              "    }\n",
              "\n",
              "    .dataframe tbody tr th {\n",
              "        vertical-align: top;\n",
              "    }\n",
              "\n",
              "    .dataframe thead th {\n",
              "        text-align: right;\n",
              "    }\n",
              "</style>\n",
              "<table border=\"1\" class=\"dataframe\">\n",
              "  <thead>\n",
              "    <tr style=\"text-align: right;\">\n",
              "      <th></th>\n",
              "      <th>year</th>\n",
              "      <th>2000</th>\n",
              "      <th>2001</th>\n",
              "      <th>2002</th>\n",
              "      <th>2003</th>\n",
              "      <th>2004</th>\n",
              "      <th>2005</th>\n",
              "      <th>2006</th>\n",
              "      <th>2007</th>\n",
              "      <th>2008</th>\n",
              "      <th>2009</th>\n",
              "      <th>2010</th>\n",
              "      <th>2011</th>\n",
              "      <th>2012</th>\n",
              "      <th>2013</th>\n",
              "    </tr>\n",
              "    <tr>\n",
              "      <th>country</th>\n",
              "      <th>city</th>\n",
              "      <th></th>\n",
              "      <th></th>\n",
              "      <th></th>\n",
              "      <th></th>\n",
              "      <th></th>\n",
              "      <th></th>\n",
              "      <th></th>\n",
              "      <th></th>\n",
              "      <th></th>\n",
              "      <th></th>\n",
              "      <th></th>\n",
              "      <th></th>\n",
              "      <th></th>\n",
              "      <th></th>\n",
              "    </tr>\n",
              "  </thead>\n",
              "  <tbody>\n",
              "    <tr>\n",
              "      <th>Afghanistan</th>\n",
              "      <th>Kabul</th>\n",
              "      <td>15.822667</td>\n",
              "      <td>15.847917</td>\n",
              "      <td>15.714583</td>\n",
              "      <td>15.132583</td>\n",
              "      <td>16.128417</td>\n",
              "      <td>14.847500</td>\n",
              "      <td>15.798500</td>\n",
              "      <td>15.518000</td>\n",
              "      <td>15.479250</td>\n",
              "      <td>15.093333</td>\n",
              "      <td>15.676000</td>\n",
              "      <td>15.812167</td>\n",
              "      <td>14.510333</td>\n",
              "      <td>16.206125</td>\n",
              "    </tr>\n",
              "    <tr>\n",
              "      <th>Angola</th>\n",
              "      <th>Luanda</th>\n",
              "      <td>24.410333</td>\n",
              "      <td>24.427083</td>\n",
              "      <td>24.790917</td>\n",
              "      <td>24.867167</td>\n",
              "      <td>24.216167</td>\n",
              "      <td>24.414583</td>\n",
              "      <td>24.138417</td>\n",
              "      <td>24.241583</td>\n",
              "      <td>24.266333</td>\n",
              "      <td>24.325083</td>\n",
              "      <td>24.440250</td>\n",
              "      <td>24.150750</td>\n",
              "      <td>24.240083</td>\n",
              "      <td>24.553875</td>\n",
              "    </tr>\n",
              "    <tr>\n",
              "      <th rowspan=\"2\" valign=\"top\">Australia</th>\n",
              "      <th>Melbourne</th>\n",
              "      <td>14.320083</td>\n",
              "      <td>14.180000</td>\n",
              "      <td>14.075833</td>\n",
              "      <td>13.985583</td>\n",
              "      <td>13.742083</td>\n",
              "      <td>14.378500</td>\n",
              "      <td>13.991083</td>\n",
              "      <td>14.991833</td>\n",
              "      <td>14.110583</td>\n",
              "      <td>14.647417</td>\n",
              "      <td>14.231667</td>\n",
              "      <td>14.190917</td>\n",
              "      <td>14.268667</td>\n",
              "      <td>14.741500</td>\n",
              "    </tr>\n",
              "    <tr>\n",
              "      <th>Sydney</th>\n",
              "      <td>17.567417</td>\n",
              "      <td>17.854500</td>\n",
              "      <td>17.733833</td>\n",
              "      <td>17.592333</td>\n",
              "      <td>17.869667</td>\n",
              "      <td>18.028083</td>\n",
              "      <td>17.749500</td>\n",
              "      <td>18.020833</td>\n",
              "      <td>17.321083</td>\n",
              "      <td>18.175833</td>\n",
              "      <td>17.999000</td>\n",
              "      <td>17.713333</td>\n",
              "      <td>17.474333</td>\n",
              "      <td>18.089750</td>\n",
              "    </tr>\n",
              "    <tr>\n",
              "      <th>Bangladesh</th>\n",
              "      <th>Dhaka</th>\n",
              "      <td>25.905250</td>\n",
              "      <td>25.931250</td>\n",
              "      <td>26.095000</td>\n",
              "      <td>25.927417</td>\n",
              "      <td>26.136083</td>\n",
              "      <td>26.193333</td>\n",
              "      <td>26.440417</td>\n",
              "      <td>25.951333</td>\n",
              "      <td>26.004500</td>\n",
              "      <td>26.535583</td>\n",
              "      <td>26.648167</td>\n",
              "      <td>25.803250</td>\n",
              "      <td>26.283583</td>\n",
              "      <td>26.587000</td>\n",
              "    </tr>\n",
              "    <tr>\n",
              "      <th>...</th>\n",
              "      <th>...</th>\n",
              "      <td>...</td>\n",
              "      <td>...</td>\n",
              "      <td>...</td>\n",
              "      <td>...</td>\n",
              "      <td>...</td>\n",
              "      <td>...</td>\n",
              "      <td>...</td>\n",
              "      <td>...</td>\n",
              "      <td>...</td>\n",
              "      <td>...</td>\n",
              "      <td>...</td>\n",
              "      <td>...</td>\n",
              "      <td>...</td>\n",
              "      <td>...</td>\n",
              "    </tr>\n",
              "    <tr>\n",
              "      <th rowspan=\"3\" valign=\"top\">United States</th>\n",
              "      <th>Chicago</th>\n",
              "      <td>11.089667</td>\n",
              "      <td>11.703083</td>\n",
              "      <td>11.532083</td>\n",
              "      <td>10.481583</td>\n",
              "      <td>10.943417</td>\n",
              "      <td>11.583833</td>\n",
              "      <td>11.870500</td>\n",
              "      <td>11.448333</td>\n",
              "      <td>10.242417</td>\n",
              "      <td>10.298333</td>\n",
              "      <td>11.815917</td>\n",
              "      <td>11.214250</td>\n",
              "      <td>12.821250</td>\n",
              "      <td>11.586889</td>\n",
              "    </tr>\n",
              "    <tr>\n",
              "      <th>Los Angeles</th>\n",
              "      <td>16.643333</td>\n",
              "      <td>16.466250</td>\n",
              "      <td>16.430250</td>\n",
              "      <td>16.944667</td>\n",
              "      <td>16.552833</td>\n",
              "      <td>16.431417</td>\n",
              "      <td>16.623083</td>\n",
              "      <td>16.699917</td>\n",
              "      <td>17.014750</td>\n",
              "      <td>16.677000</td>\n",
              "      <td>15.887000</td>\n",
              "      <td>15.874833</td>\n",
              "      <td>17.089583</td>\n",
              "      <td>18.120667</td>\n",
              "    </tr>\n",
              "    <tr>\n",
              "      <th>New York</th>\n",
              "      <td>9.969083</td>\n",
              "      <td>10.931000</td>\n",
              "      <td>11.252167</td>\n",
              "      <td>9.836000</td>\n",
              "      <td>10.389500</td>\n",
              "      <td>10.681417</td>\n",
              "      <td>11.519250</td>\n",
              "      <td>10.627333</td>\n",
              "      <td>10.641667</td>\n",
              "      <td>10.141833</td>\n",
              "      <td>11.357583</td>\n",
              "      <td>11.272250</td>\n",
              "      <td>11.971500</td>\n",
              "      <td>12.163889</td>\n",
              "    </tr>\n",
              "    <tr>\n",
              "      <th>Vietnam</th>\n",
              "      <th>Ho Chi Minh City</th>\n",
              "      <td>27.588917</td>\n",
              "      <td>27.831750</td>\n",
              "      <td>28.064750</td>\n",
              "      <td>27.827667</td>\n",
              "      <td>27.686583</td>\n",
              "      <td>27.884000</td>\n",
              "      <td>28.044000</td>\n",
              "      <td>27.866667</td>\n",
              "      <td>27.611417</td>\n",
              "      <td>27.853333</td>\n",
              "      <td>28.281750</td>\n",
              "      <td>27.675417</td>\n",
              "      <td>28.248750</td>\n",
              "      <td>28.455000</td>\n",
              "    </tr>\n",
              "    <tr>\n",
              "      <th>Zimbabwe</th>\n",
              "      <th>Harare</th>\n",
              "      <td>20.283667</td>\n",
              "      <td>20.861000</td>\n",
              "      <td>21.079333</td>\n",
              "      <td>20.889167</td>\n",
              "      <td>20.307667</td>\n",
              "      <td>21.487417</td>\n",
              "      <td>20.699750</td>\n",
              "      <td>20.746250</td>\n",
              "      <td>20.680500</td>\n",
              "      <td>20.523833</td>\n",
              "      <td>21.165833</td>\n",
              "      <td>20.781750</td>\n",
              "      <td>20.523333</td>\n",
              "      <td>19.756500</td>\n",
              "    </tr>\n",
              "  </tbody>\n",
              "</table>\n",
              "<p>100 rows × 14 columns</p>\n",
              "</div>"
            ],
            "text/plain": [
              "year                                 2000       2001  ...       2012       2013\n",
              "country       city                                    ...                      \n",
              "Afghanistan   Kabul             15.822667  15.847917  ...  14.510333  16.206125\n",
              "Angola        Luanda            24.410333  24.427083  ...  24.240083  24.553875\n",
              "Australia     Melbourne         14.320083  14.180000  ...  14.268667  14.741500\n",
              "              Sydney            17.567417  17.854500  ...  17.474333  18.089750\n",
              "Bangladesh    Dhaka             25.905250  25.931250  ...  26.283583  26.587000\n",
              "...                                   ...        ...  ...        ...        ...\n",
              "United States Chicago           11.089667  11.703083  ...  12.821250  11.586889\n",
              "              Los Angeles       16.643333  16.466250  ...  17.089583  18.120667\n",
              "              New York           9.969083  10.931000  ...  11.971500  12.163889\n",
              "Vietnam       Ho Chi Minh City  27.588917  27.831750  ...  28.248750  28.455000\n",
              "Zimbabwe      Harare            20.283667  20.861000  ...  20.523333  19.756500\n",
              "\n",
              "[100 rows x 14 columns]"
            ]
          },
          "metadata": {
            "tags": []
          },
          "execution_count": 29
        }
      ]
    },
    {
      "cell_type": "code",
      "metadata": {
        "colab": {
          "base_uri": "https://localhost:8080/",
          "height": 730
        },
        "id": "pIngjI88N054",
        "outputId": "f223d28c-ef2b-4d3e-e3a8-768a994695c1"
      },
      "source": [
        "temp_by_country_city_vs_year.loc['Egypt':'India']"
      ],
      "execution_count": null,
      "outputs": [
        {
          "output_type": "execute_result",
          "data": {
            "text/html": [
              "<div>\n",
              "<style scoped>\n",
              "    .dataframe tbody tr th:only-of-type {\n",
              "        vertical-align: middle;\n",
              "    }\n",
              "\n",
              "    .dataframe tbody tr th {\n",
              "        vertical-align: top;\n",
              "    }\n",
              "\n",
              "    .dataframe thead th {\n",
              "        text-align: right;\n",
              "    }\n",
              "</style>\n",
              "<table border=\"1\" class=\"dataframe\">\n",
              "  <thead>\n",
              "    <tr style=\"text-align: right;\">\n",
              "      <th></th>\n",
              "      <th>year</th>\n",
              "      <th>2000</th>\n",
              "      <th>2001</th>\n",
              "      <th>2002</th>\n",
              "      <th>2003</th>\n",
              "      <th>2004</th>\n",
              "      <th>2005</th>\n",
              "      <th>2006</th>\n",
              "      <th>2007</th>\n",
              "      <th>2008</th>\n",
              "      <th>2009</th>\n",
              "      <th>2010</th>\n",
              "      <th>2011</th>\n",
              "      <th>2012</th>\n",
              "      <th>2013</th>\n",
              "    </tr>\n",
              "    <tr>\n",
              "      <th>country</th>\n",
              "      <th>city</th>\n",
              "      <th></th>\n",
              "      <th></th>\n",
              "      <th></th>\n",
              "      <th></th>\n",
              "      <th></th>\n",
              "      <th></th>\n",
              "      <th></th>\n",
              "      <th></th>\n",
              "      <th></th>\n",
              "      <th></th>\n",
              "      <th></th>\n",
              "      <th></th>\n",
              "      <th></th>\n",
              "      <th></th>\n",
              "    </tr>\n",
              "  </thead>\n",
              "  <tbody>\n",
              "    <tr>\n",
              "      <th rowspan=\"3\" valign=\"top\">Egypt</th>\n",
              "      <th>Alexandria</th>\n",
              "      <td>20.744500</td>\n",
              "      <td>21.454583</td>\n",
              "      <td>21.456167</td>\n",
              "      <td>21.221417</td>\n",
              "      <td>21.064167</td>\n",
              "      <td>21.082333</td>\n",
              "      <td>21.148167</td>\n",
              "      <td>21.507750</td>\n",
              "      <td>21.739000</td>\n",
              "      <td>21.670500</td>\n",
              "      <td>22.459583</td>\n",
              "      <td>21.181500</td>\n",
              "      <td>21.552583</td>\n",
              "      <td>21.438500</td>\n",
              "    </tr>\n",
              "    <tr>\n",
              "      <th>Cairo</th>\n",
              "      <td>21.486167</td>\n",
              "      <td>22.330833</td>\n",
              "      <td>22.414083</td>\n",
              "      <td>22.170500</td>\n",
              "      <td>22.081917</td>\n",
              "      <td>22.006500</td>\n",
              "      <td>22.050000</td>\n",
              "      <td>22.361000</td>\n",
              "      <td>22.644500</td>\n",
              "      <td>22.625000</td>\n",
              "      <td>23.718250</td>\n",
              "      <td>21.986917</td>\n",
              "      <td>22.484250</td>\n",
              "      <td>22.907000</td>\n",
              "    </tr>\n",
              "    <tr>\n",
              "      <th>Gizeh</th>\n",
              "      <td>21.486167</td>\n",
              "      <td>22.330833</td>\n",
              "      <td>22.414083</td>\n",
              "      <td>22.170500</td>\n",
              "      <td>22.081917</td>\n",
              "      <td>22.006500</td>\n",
              "      <td>22.050000</td>\n",
              "      <td>22.361000</td>\n",
              "      <td>22.644500</td>\n",
              "      <td>22.625000</td>\n",
              "      <td>23.718250</td>\n",
              "      <td>21.986917</td>\n",
              "      <td>22.484250</td>\n",
              "      <td>22.907000</td>\n",
              "    </tr>\n",
              "    <tr>\n",
              "      <th>Ethiopia</th>\n",
              "      <th>Addis Abeba</th>\n",
              "      <td>18.241250</td>\n",
              "      <td>18.296417</td>\n",
              "      <td>18.469750</td>\n",
              "      <td>18.320917</td>\n",
              "      <td>18.292750</td>\n",
              "      <td>18.312833</td>\n",
              "      <td>18.427083</td>\n",
              "      <td>18.142583</td>\n",
              "      <td>18.165000</td>\n",
              "      <td>18.765333</td>\n",
              "      <td>18.298250</td>\n",
              "      <td>18.606750</td>\n",
              "      <td>18.448583</td>\n",
              "      <td>19.539000</td>\n",
              "    </tr>\n",
              "    <tr>\n",
              "      <th>France</th>\n",
              "      <th>Paris</th>\n",
              "      <td>11.739667</td>\n",
              "      <td>11.371250</td>\n",
              "      <td>11.871333</td>\n",
              "      <td>11.909500</td>\n",
              "      <td>11.338833</td>\n",
              "      <td>11.552917</td>\n",
              "      <td>11.788500</td>\n",
              "      <td>11.750833</td>\n",
              "      <td>11.278250</td>\n",
              "      <td>11.464083</td>\n",
              "      <td>10.409833</td>\n",
              "      <td>12.325750</td>\n",
              "      <td>11.219917</td>\n",
              "      <td>11.011625</td>\n",
              "    </tr>\n",
              "    <tr>\n",
              "      <th>Germany</th>\n",
              "      <th>Berlin</th>\n",
              "      <td>10.963667</td>\n",
              "      <td>9.690250</td>\n",
              "      <td>10.264417</td>\n",
              "      <td>10.065750</td>\n",
              "      <td>9.822583</td>\n",
              "      <td>9.919083</td>\n",
              "      <td>10.545333</td>\n",
              "      <td>10.883167</td>\n",
              "      <td>10.657750</td>\n",
              "      <td>10.062500</td>\n",
              "      <td>8.606833</td>\n",
              "      <td>10.556417</td>\n",
              "      <td>9.964333</td>\n",
              "      <td>10.121500</td>\n",
              "    </tr>\n",
              "    <tr>\n",
              "      <th rowspan=\"14\" valign=\"top\">India</th>\n",
              "      <th>Ahmadabad</th>\n",
              "      <td>27.436000</td>\n",
              "      <td>27.198083</td>\n",
              "      <td>27.719083</td>\n",
              "      <td>27.403833</td>\n",
              "      <td>27.628333</td>\n",
              "      <td>26.828083</td>\n",
              "      <td>27.282833</td>\n",
              "      <td>27.511167</td>\n",
              "      <td>27.048500</td>\n",
              "      <td>28.095833</td>\n",
              "      <td>28.017833</td>\n",
              "      <td>27.290417</td>\n",
              "      <td>27.027250</td>\n",
              "      <td>27.608625</td>\n",
              "    </tr>\n",
              "    <tr>\n",
              "      <th>Bangalore</th>\n",
              "      <td>25.337917</td>\n",
              "      <td>25.528167</td>\n",
              "      <td>25.755333</td>\n",
              "      <td>25.924750</td>\n",
              "      <td>25.252083</td>\n",
              "      <td>25.476500</td>\n",
              "      <td>25.418250</td>\n",
              "      <td>25.464333</td>\n",
              "      <td>25.352583</td>\n",
              "      <td>25.725750</td>\n",
              "      <td>25.705250</td>\n",
              "      <td>25.362083</td>\n",
              "      <td>26.042333</td>\n",
              "      <td>26.610500</td>\n",
              "    </tr>\n",
              "    <tr>\n",
              "      <th>Bombay</th>\n",
              "      <td>27.203667</td>\n",
              "      <td>27.243667</td>\n",
              "      <td>27.628667</td>\n",
              "      <td>27.578417</td>\n",
              "      <td>27.318750</td>\n",
              "      <td>27.035750</td>\n",
              "      <td>27.381500</td>\n",
              "      <td>27.634667</td>\n",
              "      <td>27.177750</td>\n",
              "      <td>27.844500</td>\n",
              "      <td>27.765417</td>\n",
              "      <td>27.384917</td>\n",
              "      <td>27.192500</td>\n",
              "      <td>26.713000</td>\n",
              "    </tr>\n",
              "    <tr>\n",
              "      <th>Calcutta</th>\n",
              "      <td>26.491333</td>\n",
              "      <td>26.515167</td>\n",
              "      <td>26.703917</td>\n",
              "      <td>26.561333</td>\n",
              "      <td>26.634333</td>\n",
              "      <td>26.729167</td>\n",
              "      <td>26.986250</td>\n",
              "      <td>26.584583</td>\n",
              "      <td>26.522333</td>\n",
              "      <td>27.153250</td>\n",
              "      <td>27.288833</td>\n",
              "      <td>26.406917</td>\n",
              "      <td>26.935083</td>\n",
              "      <td>27.369250</td>\n",
              "    </tr>\n",
              "    <tr>\n",
              "      <th>Delhi</th>\n",
              "      <td>26.048333</td>\n",
              "      <td>25.862917</td>\n",
              "      <td>26.634333</td>\n",
              "      <td>25.721083</td>\n",
              "      <td>26.239917</td>\n",
              "      <td>25.716083</td>\n",
              "      <td>26.365917</td>\n",
              "      <td>26.145667</td>\n",
              "      <td>25.675000</td>\n",
              "      <td>26.554250</td>\n",
              "      <td>26.520250</td>\n",
              "      <td>25.629500</td>\n",
              "      <td>25.889417</td>\n",
              "      <td>26.709250</td>\n",
              "    </tr>\n",
              "    <tr>\n",
              "      <th>Hyderabad</th>\n",
              "      <td>27.231833</td>\n",
              "      <td>27.555167</td>\n",
              "      <td>27.665167</td>\n",
              "      <td>27.844583</td>\n",
              "      <td>27.228500</td>\n",
              "      <td>27.488833</td>\n",
              "      <td>27.471000</td>\n",
              "      <td>27.545333</td>\n",
              "      <td>27.446667</td>\n",
              "      <td>28.026500</td>\n",
              "      <td>27.693417</td>\n",
              "      <td>27.408833</td>\n",
              "      <td>28.018583</td>\n",
              "      <td>28.851250</td>\n",
              "    </tr>\n",
              "    <tr>\n",
              "      <th>Jaipur</th>\n",
              "      <td>26.430250</td>\n",
              "      <td>26.023000</td>\n",
              "      <td>27.031667</td>\n",
              "      <td>26.027417</td>\n",
              "      <td>26.642167</td>\n",
              "      <td>25.772250</td>\n",
              "      <td>26.429833</td>\n",
              "      <td>26.267000</td>\n",
              "      <td>25.877583</td>\n",
              "      <td>26.919500</td>\n",
              "      <td>26.818417</td>\n",
              "      <td>25.916500</td>\n",
              "      <td>25.884500</td>\n",
              "      <td>26.844125</td>\n",
              "    </tr>\n",
              "    <tr>\n",
              "      <th>Kanpur</th>\n",
              "      <td>25.353917</td>\n",
              "      <td>25.326500</td>\n",
              "      <td>26.116833</td>\n",
              "      <td>25.409083</td>\n",
              "      <td>25.586500</td>\n",
              "      <td>25.621500</td>\n",
              "      <td>25.848833</td>\n",
              "      <td>25.436083</td>\n",
              "      <td>25.109750</td>\n",
              "      <td>25.987083</td>\n",
              "      <td>26.021750</td>\n",
              "      <td>25.062083</td>\n",
              "      <td>25.445417</td>\n",
              "      <td>26.121250</td>\n",
              "    </tr>\n",
              "    <tr>\n",
              "      <th>Lakhnau</th>\n",
              "      <td>25.353917</td>\n",
              "      <td>25.326500</td>\n",
              "      <td>26.116833</td>\n",
              "      <td>25.409083</td>\n",
              "      <td>25.586500</td>\n",
              "      <td>25.621500</td>\n",
              "      <td>25.848833</td>\n",
              "      <td>25.436083</td>\n",
              "      <td>25.109750</td>\n",
              "      <td>25.987083</td>\n",
              "      <td>26.021750</td>\n",
              "      <td>25.062083</td>\n",
              "      <td>25.445417</td>\n",
              "      <td>26.121250</td>\n",
              "    </tr>\n",
              "    <tr>\n",
              "      <th>Madras</th>\n",
              "      <td>28.811667</td>\n",
              "      <td>29.162917</td>\n",
              "      <td>29.246500</td>\n",
              "      <td>29.273083</td>\n",
              "      <td>28.810917</td>\n",
              "      <td>29.099417</td>\n",
              "      <td>29.073250</td>\n",
              "      <td>28.970167</td>\n",
              "      <td>29.024083</td>\n",
              "      <td>29.417417</td>\n",
              "      <td>29.047333</td>\n",
              "      <td>29.063167</td>\n",
              "      <td>29.778417</td>\n",
              "      <td>30.411750</td>\n",
              "    </tr>\n",
              "    <tr>\n",
              "      <th>Nagpur</th>\n",
              "      <td>26.181417</td>\n",
              "      <td>26.321667</td>\n",
              "      <td>26.753000</td>\n",
              "      <td>26.503833</td>\n",
              "      <td>26.406333</td>\n",
              "      <td>26.229167</td>\n",
              "      <td>26.374833</td>\n",
              "      <td>26.393667</td>\n",
              "      <td>26.188000</td>\n",
              "      <td>27.138917</td>\n",
              "      <td>26.927000</td>\n",
              "      <td>26.004667</td>\n",
              "      <td>26.327917</td>\n",
              "      <td>27.112375</td>\n",
              "    </tr>\n",
              "    <tr>\n",
              "      <th>New Delhi</th>\n",
              "      <td>26.048333</td>\n",
              "      <td>25.862917</td>\n",
              "      <td>26.634333</td>\n",
              "      <td>25.721083</td>\n",
              "      <td>26.239917</td>\n",
              "      <td>25.716083</td>\n",
              "      <td>26.365917</td>\n",
              "      <td>26.145667</td>\n",
              "      <td>25.675000</td>\n",
              "      <td>26.554250</td>\n",
              "      <td>26.520250</td>\n",
              "      <td>25.629500</td>\n",
              "      <td>25.889417</td>\n",
              "      <td>26.709250</td>\n",
              "    </tr>\n",
              "    <tr>\n",
              "      <th>Pune</th>\n",
              "      <td>25.110917</td>\n",
              "      <td>25.337833</td>\n",
              "      <td>25.583000</td>\n",
              "      <td>25.748417</td>\n",
              "      <td>25.316167</td>\n",
              "      <td>25.085583</td>\n",
              "      <td>25.310167</td>\n",
              "      <td>25.584833</td>\n",
              "      <td>25.230250</td>\n",
              "      <td>25.868250</td>\n",
              "      <td>25.749167</td>\n",
              "      <td>25.161417</td>\n",
              "      <td>25.296833</td>\n",
              "      <td>25.847625</td>\n",
              "    </tr>\n",
              "    <tr>\n",
              "      <th>Surat</th>\n",
              "      <td>27.029000</td>\n",
              "      <td>26.897250</td>\n",
              "      <td>27.347750</td>\n",
              "      <td>27.230917</td>\n",
              "      <td>27.290583</td>\n",
              "      <td>26.724500</td>\n",
              "      <td>27.149417</td>\n",
              "      <td>27.311750</td>\n",
              "      <td>26.828750</td>\n",
              "      <td>27.819833</td>\n",
              "      <td>27.681667</td>\n",
              "      <td>27.016583</td>\n",
              "      <td>26.889250</td>\n",
              "      <td>27.437750</td>\n",
              "    </tr>\n",
              "  </tbody>\n",
              "</table>\n",
              "</div>"
            ],
            "text/plain": [
              "year                       2000       2001  ...       2012       2013\n",
              "country  city                               ...                      \n",
              "Egypt    Alexandria   20.744500  21.454583  ...  21.552583  21.438500\n",
              "         Cairo        21.486167  22.330833  ...  22.484250  22.907000\n",
              "         Gizeh        21.486167  22.330833  ...  22.484250  22.907000\n",
              "Ethiopia Addis Abeba  18.241250  18.296417  ...  18.448583  19.539000\n",
              "France   Paris        11.739667  11.371250  ...  11.219917  11.011625\n",
              "Germany  Berlin       10.963667   9.690250  ...   9.964333  10.121500\n",
              "India    Ahmadabad    27.436000  27.198083  ...  27.027250  27.608625\n",
              "         Bangalore    25.337917  25.528167  ...  26.042333  26.610500\n",
              "         Bombay       27.203667  27.243667  ...  27.192500  26.713000\n",
              "         Calcutta     26.491333  26.515167  ...  26.935083  27.369250\n",
              "         Delhi        26.048333  25.862917  ...  25.889417  26.709250\n",
              "         Hyderabad    27.231833  27.555167  ...  28.018583  28.851250\n",
              "         Jaipur       26.430250  26.023000  ...  25.884500  26.844125\n",
              "         Kanpur       25.353917  25.326500  ...  25.445417  26.121250\n",
              "         Lakhnau      25.353917  25.326500  ...  25.445417  26.121250\n",
              "         Madras       28.811667  29.162917  ...  29.778417  30.411750\n",
              "         Nagpur       26.181417  26.321667  ...  26.327917  27.112375\n",
              "         New Delhi    26.048333  25.862917  ...  25.889417  26.709250\n",
              "         Pune         25.110917  25.337833  ...  25.296833  25.847625\n",
              "         Surat        27.029000  26.897250  ...  26.889250  27.437750\n",
              "\n",
              "[20 rows x 14 columns]"
            ]
          },
          "metadata": {
            "tags": []
          },
          "execution_count": 30
        }
      ]
    },
    {
      "cell_type": "code",
      "metadata": {
        "colab": {
          "base_uri": "https://localhost:8080/",
          "height": 386
        },
        "id": "FH4iKZxrOFPz",
        "outputId": "d0d17607-0bba-4149-a691-c6e15fbd205d"
      },
      "source": [
        "temp_by_country_city_vs_year.loc[('Egypt','Cairo'):('India', 'Delhi'), '2005':'2010']"
      ],
      "execution_count": null,
      "outputs": [
        {
          "output_type": "execute_result",
          "data": {
            "text/html": [
              "<div>\n",
              "<style scoped>\n",
              "    .dataframe tbody tr th:only-of-type {\n",
              "        vertical-align: middle;\n",
              "    }\n",
              "\n",
              "    .dataframe tbody tr th {\n",
              "        vertical-align: top;\n",
              "    }\n",
              "\n",
              "    .dataframe thead th {\n",
              "        text-align: right;\n",
              "    }\n",
              "</style>\n",
              "<table border=\"1\" class=\"dataframe\">\n",
              "  <thead>\n",
              "    <tr style=\"text-align: right;\">\n",
              "      <th></th>\n",
              "      <th>year</th>\n",
              "      <th>2005</th>\n",
              "      <th>2006</th>\n",
              "      <th>2007</th>\n",
              "      <th>2008</th>\n",
              "      <th>2009</th>\n",
              "      <th>2010</th>\n",
              "    </tr>\n",
              "    <tr>\n",
              "      <th>country</th>\n",
              "      <th>city</th>\n",
              "      <th></th>\n",
              "      <th></th>\n",
              "      <th></th>\n",
              "      <th></th>\n",
              "      <th></th>\n",
              "      <th></th>\n",
              "    </tr>\n",
              "  </thead>\n",
              "  <tbody>\n",
              "    <tr>\n",
              "      <th rowspan=\"2\" valign=\"top\">Egypt</th>\n",
              "      <th>Cairo</th>\n",
              "      <td>22.006500</td>\n",
              "      <td>22.050000</td>\n",
              "      <td>22.361000</td>\n",
              "      <td>22.644500</td>\n",
              "      <td>22.625000</td>\n",
              "      <td>23.718250</td>\n",
              "    </tr>\n",
              "    <tr>\n",
              "      <th>Gizeh</th>\n",
              "      <td>22.006500</td>\n",
              "      <td>22.050000</td>\n",
              "      <td>22.361000</td>\n",
              "      <td>22.644500</td>\n",
              "      <td>22.625000</td>\n",
              "      <td>23.718250</td>\n",
              "    </tr>\n",
              "    <tr>\n",
              "      <th>Ethiopia</th>\n",
              "      <th>Addis Abeba</th>\n",
              "      <td>18.312833</td>\n",
              "      <td>18.427083</td>\n",
              "      <td>18.142583</td>\n",
              "      <td>18.165000</td>\n",
              "      <td>18.765333</td>\n",
              "      <td>18.298250</td>\n",
              "    </tr>\n",
              "    <tr>\n",
              "      <th>France</th>\n",
              "      <th>Paris</th>\n",
              "      <td>11.552917</td>\n",
              "      <td>11.788500</td>\n",
              "      <td>11.750833</td>\n",
              "      <td>11.278250</td>\n",
              "      <td>11.464083</td>\n",
              "      <td>10.409833</td>\n",
              "    </tr>\n",
              "    <tr>\n",
              "      <th>Germany</th>\n",
              "      <th>Berlin</th>\n",
              "      <td>9.919083</td>\n",
              "      <td>10.545333</td>\n",
              "      <td>10.883167</td>\n",
              "      <td>10.657750</td>\n",
              "      <td>10.062500</td>\n",
              "      <td>8.606833</td>\n",
              "    </tr>\n",
              "    <tr>\n",
              "      <th rowspan=\"5\" valign=\"top\">India</th>\n",
              "      <th>Ahmadabad</th>\n",
              "      <td>26.828083</td>\n",
              "      <td>27.282833</td>\n",
              "      <td>27.511167</td>\n",
              "      <td>27.048500</td>\n",
              "      <td>28.095833</td>\n",
              "      <td>28.017833</td>\n",
              "    </tr>\n",
              "    <tr>\n",
              "      <th>Bangalore</th>\n",
              "      <td>25.476500</td>\n",
              "      <td>25.418250</td>\n",
              "      <td>25.464333</td>\n",
              "      <td>25.352583</td>\n",
              "      <td>25.725750</td>\n",
              "      <td>25.705250</td>\n",
              "    </tr>\n",
              "    <tr>\n",
              "      <th>Bombay</th>\n",
              "      <td>27.035750</td>\n",
              "      <td>27.381500</td>\n",
              "      <td>27.634667</td>\n",
              "      <td>27.177750</td>\n",
              "      <td>27.844500</td>\n",
              "      <td>27.765417</td>\n",
              "    </tr>\n",
              "    <tr>\n",
              "      <th>Calcutta</th>\n",
              "      <td>26.729167</td>\n",
              "      <td>26.986250</td>\n",
              "      <td>26.584583</td>\n",
              "      <td>26.522333</td>\n",
              "      <td>27.153250</td>\n",
              "      <td>27.288833</td>\n",
              "    </tr>\n",
              "    <tr>\n",
              "      <th>Delhi</th>\n",
              "      <td>25.716083</td>\n",
              "      <td>26.365917</td>\n",
              "      <td>26.145667</td>\n",
              "      <td>25.675000</td>\n",
              "      <td>26.554250</td>\n",
              "      <td>26.520250</td>\n",
              "    </tr>\n",
              "  </tbody>\n",
              "</table>\n",
              "</div>"
            ],
            "text/plain": [
              "year                       2005       2006  ...       2009       2010\n",
              "country  city                               ...                      \n",
              "Egypt    Cairo        22.006500  22.050000  ...  22.625000  23.718250\n",
              "         Gizeh        22.006500  22.050000  ...  22.625000  23.718250\n",
              "Ethiopia Addis Abeba  18.312833  18.427083  ...  18.765333  18.298250\n",
              "France   Paris        11.552917  11.788500  ...  11.464083  10.409833\n",
              "Germany  Berlin        9.919083  10.545333  ...  10.062500   8.606833\n",
              "India    Ahmadabad    26.828083  27.282833  ...  28.095833  28.017833\n",
              "         Bangalore    25.476500  25.418250  ...  25.725750  25.705250\n",
              "         Bombay       27.035750  27.381500  ...  27.844500  27.765417\n",
              "         Calcutta     26.729167  26.986250  ...  27.153250  27.288833\n",
              "         Delhi        25.716083  26.365917  ...  26.554250  26.520250\n",
              "\n",
              "[10 rows x 6 columns]"
            ]
          },
          "metadata": {
            "tags": []
          },
          "execution_count": 31
        }
      ]
    },
    {
      "cell_type": "code",
      "metadata": {
        "colab": {
          "base_uri": "https://localhost:8080/"
        },
        "id": "5omu1yhAORiz",
        "outputId": "22147904-647c-4e52-8c2f-dc543e5a526a"
      },
      "source": [
        "mean_temp_by_year = temp_by_country_city_vs_year.mean(axis='index')\n",
        "mean_temp_by_year"
      ],
      "execution_count": null,
      "outputs": [
        {
          "output_type": "execute_result",
          "data": {
            "text/plain": [
              "year\n",
              "2000    19.506243\n",
              "2001    19.679352\n",
              "2002    19.855685\n",
              "2003    19.630197\n",
              "2004    19.672204\n",
              "2005    19.607239\n",
              "2006    19.793993\n",
              "2007    19.854270\n",
              "2008    19.608778\n",
              "2009    19.833752\n",
              "2010    19.911734\n",
              "2011    19.549197\n",
              "2012    19.668239\n",
              "2013    20.312285\n",
              "dtype: float64"
            ]
          },
          "metadata": {
            "tags": []
          },
          "execution_count": 32
        }
      ]
    },
    {
      "cell_type": "code",
      "metadata": {
        "colab": {
          "base_uri": "https://localhost:8080/"
        },
        "id": "hgoz_1JCOhsY",
        "outputId": "0712c3be-89a0-4eb7-baf1-09a4c1f13d7f"
      },
      "source": [
        "mean_temp_by_year[mean_temp_by_year== mean_temp_by_year.max()]"
      ],
      "execution_count": null,
      "outputs": [
        {
          "output_type": "execute_result",
          "data": {
            "text/plain": [
              "year\n",
              "2013    20.312285\n",
              "dtype: float64"
            ]
          },
          "metadata": {
            "tags": []
          },
          "execution_count": 34
        }
      ]
    },
    {
      "cell_type": "code",
      "metadata": {
        "colab": {
          "base_uri": "https://localhost:8080/"
        },
        "id": "4AupkM1mOsKQ",
        "outputId": "50049cd2-a5d6-490a-8d74-773ba9dffeae"
      },
      "source": [
        "mean_temp_by_city = temp_by_country_city_vs_year.mean(axis='columns')\n",
        "mean_temp_by_city "
      ],
      "execution_count": null,
      "outputs": [
        {
          "output_type": "execute_result",
          "data": {
            "text/plain": [
              "country        city            \n",
              "Afghanistan    Kabul               15.541955\n",
              "Angola         Luanda              24.391616\n",
              "Australia      Melbourne           14.275411\n",
              "               Sydney              17.799250\n",
              "Bangladesh     Dhaka               26.174440\n",
              "                                     ...    \n",
              "United States  Chicago             11.330825\n",
              "               Los Angeles         16.675399\n",
              "               New York            10.911034\n",
              "Vietnam        Ho Chi Minh City    27.922857\n",
              "Zimbabwe       Harare              20.699000\n",
              "Length: 100, dtype: float64"
            ]
          },
          "metadata": {
            "tags": []
          },
          "execution_count": 36
        }
      ]
    },
    {
      "cell_type": "markdown",
      "metadata": {
        "id": "LfedTwUbpVVI"
      },
      "source": [
        "# Statistics\n",
        "- .median(),.mode().min(),.max().var(),.std().sum().quantile()\n",
        "- The .agg() method allows you to apply your own custom functions to a DataFrame"
      ]
    },
    {
      "cell_type": "code",
      "metadata": {
        "id": "ufIN2GLloPoO"
      },
      "source": [
        "def func1(column):\n",
        "  return column.quantile(0.3)\n",
        "df['col1'].agg(func1)\n",
        "# agg can  be used for 2 columns simultaneously\n",
        "df[['col1', 'col2']].agg(func1)\n",
        "# agg can also be used with multiple functions\n",
        "df['col1'].agg([func1, func2])"
      ],
      "execution_count": null,
      "outputs": []
    },
    {
      "cell_type": "markdown",
      "metadata": {
        "id": "DJPv9SuHpWq4"
      },
      "source": [
        "## Cumulative statistics\n",
        "- returns a pandas series with cumulative sum for each row before it\n",
        "- cumsum(),.cummax().cummin().cumprod()\n"
      ]
    },
    {
      "cell_type": "code",
      "metadata": {
        "id": "ouCTMcwXvWki"
      },
      "source": [
        ""
      ],
      "execution_count": null,
      "outputs": []
    },
    {
      "cell_type": "markdown",
      "metadata": {
        "id": "DvW81uJHQMuN"
      },
      "source": [
        "# Cleaning\n"
      ]
    },
    {
      "cell_type": "code",
      "metadata": {
        "id": "nsp-Wo2spYRV"
      },
      "source": [
        "df.drop_duplicates(subset=['col1','col2'])"
      ],
      "execution_count": null,
      "outputs": []
    },
    {
      "cell_type": "code",
      "metadata": {
        "id": "6osAvH4gRRKf",
        "colab": {
          "base_uri": "https://localhost:8080/"
        },
        "outputId": "dca5d0e9-ff95-4481-c248-606f5f14b472"
      },
      "source": [
        "avocados.isna().any()"
      ],
      "execution_count": null,
      "outputs": [
        {
          "output_type": "execute_result",
          "data": {
            "text/plain": [
              "date         False\n",
              "type         False\n",
              "year         False\n",
              "avg_price    False\n",
              "size         False\n",
              "nb_sold      False\n",
              "dtype: bool"
            ]
          },
          "metadata": {
            "tags": []
          },
          "execution_count": 47
        }
      ]
    },
    {
      "cell_type": "code",
      "metadata": {
        "colab": {
          "base_uri": "https://localhost:8080/"
        },
        "id": "KfGpnN4aZbWo",
        "outputId": "c1ea79a5-293d-4a56-f1c9-bce7da0604b4"
      },
      "source": [
        "avocados.isna().sum()"
      ],
      "execution_count": null,
      "outputs": [
        {
          "output_type": "execute_result",
          "data": {
            "text/plain": [
              "date         0\n",
              "type         0\n",
              "year         0\n",
              "avg_price    0\n",
              "size         0\n",
              "nb_sold      0\n",
              "dtype: int64"
            ]
          },
          "metadata": {
            "tags": []
          },
          "execution_count": 48
        }
      ]
    },
    {
      "cell_type": "code",
      "metadata": {
        "id": "R2Unp3QAZlZC"
      },
      "source": [
        "df.fill_na(0)"
      ],
      "execution_count": null,
      "outputs": []
    },
    {
      "cell_type": "markdown",
      "metadata": {
        "id": "xWBZzIpwQQE6"
      },
      "source": [
        "# Plotting"
      ]
    },
    {
      "cell_type": "code",
      "metadata": {
        "colab": {
          "base_uri": "https://localhost:8080/",
          "height": 296
        },
        "id": "qbYmRyB0QRSe",
        "outputId": "ad14cc1e-611a-40ed-cdce-f6c1d8bc0a09"
      },
      "source": [
        "avocados.plot(x='nb_sold', y='avg_price',kind='scatter',title='Number of avocados sold vs. average price' )\n",
        "plt.show()"
      ],
      "execution_count": null,
      "outputs": [
        {
          "output_type": "display_data",
          "data": {
            "image/png": "[encoded data removed]",
            "text/plain": [
              "<Figure size 432x288 with 1 Axes>"
            ]
          },
          "metadata": {
            "tags": [],
            "needs_background": "light"
          }
        }
      ]
    },
    {
      "cell_type": "code",
      "metadata": {
        "colab": {
          "base_uri": "https://localhost:8080/",
          "height": 268
        },
        "id": "WBxqCSNMQgUY",
        "outputId": "3e027b50-52b8-4b3c-b420-5d0b9ba3ba8a"
      },
      "source": [
        "avocados[avocados['type']== 'conventional']['avg_price'].hist(alpha=0.5,bins=20)\n",
        "avocados[avocados['type']=='organic']['avg_price'].hist(alpha=0.5,bins=20)\n",
        "plt.legend(['conventional', 'organic'])\n",
        "plt.show()"
      ],
      "execution_count": null,
      "outputs": [
        {
          "output_type": "display_data",
          "data": {
            "image/png": "[encoded data removed]",
            "text/plain": [
              "<Figure size 432x288 with 1 Axes>"
            ]
          },
          "metadata": {
            "tags": [],
            "needs_background": "light"
          }
        }
      ]
    },
    {
      "cell_type": "markdown",
      "metadata": {
        "id": "r4VekZJUaHiv"
      },
      "source": [
        "# Create dataframe \n",
        "- two ways\n",
        "- list of dictionary -- row wise\n",
        "- dictionary of list -- column wise"
      ]
    },
    {
      "cell_type": "code",
      "metadata": {
        "id": "FwiPVoi8RUYP"
      },
      "source": [
        "# list of dictionaries\n",
        "avocados_list = [\n",
        "    {'date': \"2019-11-03\", 'small_sold': 10376832, 'large_sold': 7835071},\n",
        "    {'date': \"2019-11-10\", 'small_sold': 10717154, 'large_sold': 8561348},\n",
        "]\n",
        "avocados_2019 = pd.DataFrame(avocados_list)"
      ],
      "execution_count": null,
      "outputs": []
    },
    {
      "cell_type": "code",
      "metadata": {
        "id": "l8VW_hbIahqA"
      },
      "source": [
        "#dictionary of lists with new data\n",
        "avocados_dict = {\n",
        "  \"date\": [\"2019-11-17\",\"2019-12-01\"],\n",
        "  \"small_sold\": [10859987,9291631],\n",
        "  \"large_sold\": [7674135,6238096]\n",
        "}\n",
        "avocados_2019 = pd.DataFrame(avocados_dict)"
      ],
      "execution_count": null,
      "outputs": []
    }
  ]
}