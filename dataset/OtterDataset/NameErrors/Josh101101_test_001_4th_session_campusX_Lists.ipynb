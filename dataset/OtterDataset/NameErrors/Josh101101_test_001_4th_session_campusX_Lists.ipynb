{
  "cells": [
    {
      "cell_type": "code",
      "execution_count": null,
      "metadata": {
        "id": "1rqUTx45GwNN"
      },
      "outputs": [],
      "source": []
    },
    {
      "cell_type": "markdown",
      "metadata": {
        "id": "qErKzHJBJrUQ"
      },
      "source": [
        "## LIST"
      ]
    },
    {
      "cell_type": "markdown",
      "metadata": {
        "id": "WhqUmREAP0on"
      },
      "source": [
        "# Creating a List\n"
      ]
    },
    {
      "cell_type": "code",
      "execution_count": 1,
      "metadata": {
        "colab": {
          "base_uri": "https://localhost:8080/"
        },
        "id": "_OunfUMpP4Hm",
        "outputId": "bd7f0091-effd-4209-8c62-ac58677adc2a"
      },
      "outputs": [
        {
          "name": "stdout",
          "output_type": "stream",
          "text": [
            "[]\n"
          ]
        }
      ],
      "source": [
        "# Empty list\n",
        "\n",
        "print([])"
      ]
    },
    {
      "cell_type": "code",
      "execution_count": 2,
      "metadata": {
        "colab": {
          "base_uri": "https://localhost:8080/"
        },
        "id": "X1RK1oNUQFYQ",
        "outputId": "729fce7e-a5eb-4036-98d1-c7e3b6739c68"
      },
      "outputs": [
        {
          "name": "stdout",
          "output_type": "stream",
          "text": [
            "[1, 2, 3, 4, 5]\n",
            "[1, 2, 3, [4, 5]]\n",
            "[[[1, 2], [3, 4]], [[5, 6], [7, 8]]]\n",
            "[1, True, 5.6, (5+6j), 'Hello']\n",
            "['h', 'e', 'l', 'l', 'o', ' ']\n"
          ]
        }
      ],
      "source": [
        "# 1D --> homegenous\n",
        "print([1,2,3,4,5])\n",
        "\n",
        "# 2D\n",
        "print([1,2,3,[4,5]])\n",
        "\n",
        "# 3D\n",
        "print([[[1,2],[3,4]],[[5,6],[7,8]]])\n",
        "\n",
        "# Hetrogenous\n",
        "print([1,True,5.6,5+6j,'Hello'])\n",
        "\n",
        "# Using Type Conversion\n",
        "print(list('hello '))\n"
      ]
    },
    {
      "cell_type": "code",
      "execution_count": null,
      "metadata": {
        "id": "trGeUEa6QTTO"
      },
      "outputs": [],
      "source": []
    },
    {
      "cell_type": "code",
      "execution_count": null,
      "metadata": {
        "id": "aQx7qaBoSOiE"
      },
      "outputs": [],
      "source": []
    },
    {
      "cell_type": "markdown",
      "metadata": {
        "id": "-cHKr0qFSPi7"
      },
      "source": [
        "# Accessing items from a List"
      ]
    },
    {
      "cell_type": "code",
      "execution_count": 3,
      "metadata": {
        "colab": {
          "base_uri": "https://localhost:8080/"
        },
        "id": "mWZg2-2nSUez",
        "outputId": "37f00027-0c48-4562-e75b-df2a6f4e3802"
      },
      "outputs": [
        {
          "name": "stdout",
          "output_type": "stream",
          "text": [
            "[1, 2, 3]\n",
            "[4, 5]\n",
            "[4, 5, 6]\n",
            "[1, 3, 5]\n",
            "[4, 5]\n",
            "[4, 5]\n",
            "[2, 4]\n",
            "[6, 5, 4, 3, 2, 1]\n"
          ]
        }
      ],
      "source": [
        "# Indexing\n",
        "\n",
        "L = [1,2,3,4,5]\n",
        "\n",
        "## positive\n",
        "\n",
        "\n",
        "# slicing\n",
        "L = [1,2,3,4,5,6]\n",
        "\n",
        "print(L[0:3])\n",
        "\n",
        "print(L[-3:-1])\n",
        "\n",
        "print(L[-3:])\n",
        "\n",
        "\n",
        "print(L[0::2])\n",
        "\n",
        "print(L[-3:-1])\n",
        "\n",
        "print(L[-3:-1])\n",
        "\n",
        "print(L[-5:-2:2])\n",
        "\n",
        "print(L[::-1])\n"
      ]
    },
    {
      "cell_type": "code",
      "execution_count": null,
      "metadata": {
        "id": "vXx20H00WGNa"
      },
      "outputs": [],
      "source": []
    },
    {
      "cell_type": "markdown",
      "metadata": {
        "id": "vbQnF8ymWsQo"
      },
      "source": [
        "# Adding items to List"
      ]
    },
    {
      "cell_type": "code",
      "execution_count": 4,
      "metadata": {
        "colab": {
          "base_uri": "https://localhost:8080/"
        },
        "id": "JXAEs1eEWrYq",
        "outputId": "11673923-abf7-462d-dece-6d6b21897e62"
      },
      "outputs": [
        {
          "name": "stdout",
          "output_type": "stream",
          "text": [
            "[1, 2, 3, 4, 5, True]\n"
          ]
        }
      ],
      "source": [
        "# append\n",
        "\n",
        "L = [1,2,3,4,5]\n",
        "L.append(True)\n",
        "print(L)"
      ]
    },
    {
      "cell_type": "code",
      "execution_count": 5,
      "metadata": {
        "colab": {
          "base_uri": "https://localhost:8080/"
        },
        "id": "EHX355uxXAjA",
        "outputId": "86bfc80f-d2b1-4ee0-8b94-ea0d0309e210"
      },
      "outputs": [
        {
          "name": "stdout",
          "output_type": "stream",
          "text": [
            "[1, 2, 3, 4, 5, 6, 7, 8]\n"
          ]
        }
      ],
      "source": [
        "# extend\n",
        "\n",
        "L = [1,2,3,4,5]\n",
        "L.extend([6,7,8])\n",
        "print(L)"
      ]
    },
    {
      "cell_type": "code",
      "execution_count": 6,
      "metadata": {
        "colab": {
          "base_uri": "https://localhost:8080/"
        },
        "id": "xg2ildQ3XOnP",
        "outputId": "b5a36aaf-2e7c-4136-dffa-f11e1f6e5722"
      },
      "outputs": [
        {
          "name": "stdout",
          "output_type": "stream",
          "text": [
            "[1, 2, 3, 4, 5, [6, 7, 8]]\n"
          ]
        }
      ],
      "source": [
        "L = [1,2,3,4,5]\n",
        "L.append([6,7,8])\n",
        "print(L)"
      ]
    },
    {
      "cell_type": "code",
      "execution_count": 7,
      "metadata": {
        "colab": {
          "base_uri": "https://localhost:8080/"
        },
        "id": "VerUtQFdXafC",
        "outputId": "c25e1482-b134-49ec-bc5d-72d06cca7cbd"
      },
      "outputs": [
        {
          "name": "stdout",
          "output_type": "stream",
          "text": [
            "[1, 2, 3, 4, 5, 'd', 'e', 'l', 'h', 'i']\n"
          ]
        }
      ],
      "source": [
        "L = [1,2,3,4,5]\n",
        "L.extend('delhi')\n",
        "print(L)"
      ]
    },
    {
      "cell_type": "code",
      "execution_count": 8,
      "metadata": {
        "colab": {
          "base_uri": "https://localhost:8080/"
        },
        "id": "782xLi_aXhGu",
        "outputId": "cef637be-0ffa-46fe-88a3-cfdd60b71cef"
      },
      "outputs": [
        {
          "name": "stdout",
          "output_type": "stream",
          "text": [
            "[1, 100, 2, 3, 4, 5]\n"
          ]
        }
      ],
      "source": [
        "# insert\n",
        "\n",
        "L = [1,2,3,4,5]\n",
        "L.insert(1,100)\n",
        "\n",
        "print(L)"
      ]
    },
    {
      "cell_type": "code",
      "execution_count": null,
      "metadata": {
        "id": "xlqdLXbTXy63"
      },
      "outputs": [],
      "source": []
    },
    {
      "cell_type": "markdown",
      "metadata": {
        "id": "b2pdi1XmX7iH"
      },
      "source": [
        "## Editing items in a List"
      ]
    },
    {
      "cell_type": "code",
      "execution_count": null,
      "metadata": {
        "colab": {
          "base_uri": "https://localhost:8080/"
        },
        "id": "r-1MON1BX-0n",
        "outputId": "57a70aad-5e17-4965-b3cd-4a11f5e17e3b"
      },
      "outputs": [
        {
          "name": "stdout",
          "output_type": "stream",
          "text": [
            "[1, 200, 300, 400, 500]\n"
          ]
        }
      ],
      "source": [
        "L = [1,2,3,4,5]\n",
        "\n",
        "# editing with indexing\n",
        "L[-1] = 500\n",
        "\n",
        "# editing with slicing\n",
        "L[1:4] = [200,300,400]\n",
        "\n",
        "print(L)"
      ]
    },
    {
      "cell_type": "code",
      "execution_count": null,
      "metadata": {
        "id": "cxP8p5Z7YgiO"
      },
      "outputs": [],
      "source": []
    },
    {
      "cell_type": "markdown",
      "metadata": {
        "id": "y7HFOOsfY8Eh"
      },
      "source": [
        "# Deleting items from a List"
      ]
    },
    {
      "cell_type": "code",
      "execution_count": 9,
      "metadata": {
        "colab": {
          "base_uri": "https://localhost:8080/",
          "height": 201
        },
        "id": "xcju6zOAZAvI",
        "outputId": "dcfb6c2c-1ce9-4abb-9b77-289a3ead82f9"
      },
      "outputs": [
        {
          "name": "stdout",
          "output_type": "stream",
          "text": [
            "[1, 2, 3, 4, 5]\n"
          ]
        },
        {
          "ename": "NameError",
          "evalue": "name 'L' is not defined",
          "output_type": "error",
          "traceback": [
            "\u001b[1;31m---------------------------------------------------------------------------\u001b[0m",
            "\u001b[1;31mNameError\u001b[0m                                 Traceback (most recent call last)",
            "Cell \u001b[1;32mIn[9], line 7\u001b[0m\n\u001b[0;32m      3\u001b[0m \u001b[38;5;28mprint\u001b[39m(L)\n\u001b[0;32m      5\u001b[0m \u001b[38;5;28;01mdel\u001b[39;00m L\n\u001b[1;32m----> 7\u001b[0m \u001b[38;5;28mprint\u001b[39m(\u001b[43mL\u001b[49m)\n",
            "\u001b[1;31mNameError\u001b[0m: name 'L' is not defined"
          ]
        }
      ],
      "source": [
        "# del\n",
        "L = [1,2,3,4,5]\n",
        "print(L)\n",
        "\n",
        "del L\n",
        "\n",
        "print(L)"
      ]
    },
    {
      "cell_type": "code",
      "execution_count": 10,
      "metadata": {
        "colab": {
          "base_uri": "https://localhost:8080/"
        },
        "id": "2E9C-7YDZNsG",
        "outputId": "c4e36e82-df84-44f3-8c40-f9c42c7838ab"
      },
      "outputs": [
        {
          "name": "stdout",
          "output_type": "stream",
          "text": [
            "[1, 2, 3, 4]\n",
            "[1, 4]\n"
          ]
        }
      ],
      "source": [
        "L = [1,2,3,4,5]\n",
        "\n",
        "\n",
        "# indexing\n",
        "del L[-1]\n",
        "print(L)\n",
        "\n",
        "# slicing\n",
        "\n",
        "del L[1:3]\n",
        "print(L)"
      ]
    },
    {
      "cell_type": "code",
      "execution_count": 11,
      "metadata": {
        "colab": {
          "base_uri": "https://localhost:8080/"
        },
        "id": "e3cDL1vhZfpm",
        "outputId": "025a9758-9eb4-4f4e-957c-577f6c4cf3ce"
      },
      "outputs": [
        {
          "name": "stdout",
          "output_type": "stream",
          "text": [
            "[1, 2, 3, 4, 6]\n"
          ]
        }
      ],
      "source": [
        "# remove\n",
        "\n",
        "L = [1,2,3,4,5,6]\n",
        "\n",
        "L.remove(5)\n",
        "\n",
        "print(L)"
      ]
    },
    {
      "cell_type": "code",
      "execution_count": 12,
      "metadata": {
        "colab": {
          "base_uri": "https://localhost:8080/"
        },
        "id": "RpkS2tE4aDu3",
        "outputId": "d5029bb3-aec2-4733-d094-384bd8b95f67"
      },
      "outputs": [
        {
          "name": "stdout",
          "output_type": "stream",
          "text": [
            "[2, 3, 4, 5]\n"
          ]
        }
      ],
      "source": [
        "# pop\n",
        "\n",
        "L = [1,2,3,4,5]\n",
        "L.pop(0)\n",
        "\n",
        "print(L)"
      ]
    },
    {
      "cell_type": "code",
      "execution_count": 13,
      "metadata": {
        "colab": {
          "base_uri": "https://localhost:8080/"
        },
        "id": "XKtCqh3baJPt",
        "outputId": "d3f0d09e-1f58-43b7-a29b-1e32417930d7"
      },
      "outputs": [
        {
          "name": "stdout",
          "output_type": "stream",
          "text": [
            "[1, 2, 3, 4]\n"
          ]
        }
      ],
      "source": [
        "L = [1,2,3,4,5]\n",
        "L.pop()\n",
        "\n",
        "print(L)"
      ]
    },
    {
      "cell_type": "code",
      "execution_count": 14,
      "metadata": {
        "colab": {
          "base_uri": "https://localhost:8080/"
        },
        "id": "aQfU06CcaQxu",
        "outputId": "6c4a353c-4460-48da-9e0c-64c6ba8b81a5"
      },
      "outputs": [
        {
          "name": "stdout",
          "output_type": "stream",
          "text": [
            "[]\n"
          ]
        }
      ],
      "source": [
        "# clear\n",
        "\n",
        "L = [1,2,3,4,5,6]\n",
        "\n",
        "L.clear()\n",
        "\n",
        "print(L)\n"
      ]
    },
    {
      "cell_type": "code",
      "execution_count": null,
      "metadata": {
        "id": "QVblCaDyaf32"
      },
      "outputs": [],
      "source": []
    },
    {
      "cell_type": "markdown",
      "metadata": {
        "id": "4oFyTZwHak9m"
      },
      "source": [
        "# Operations on Lists\n",
        "\n",
        "*   Arithmetic\n",
        "*   Membership\n",
        "*   Loop\n",
        "\n"
      ]
    },
    {
      "cell_type": "code",
      "execution_count": null,
      "metadata": {
        "id": "9g4dGIMtapwt"
      },
      "outputs": [],
      "source": []
    },
    {
      "cell_type": "code",
      "execution_count": null,
      "metadata": {
        "id": "7_RqHJuSo-rr"
      },
      "outputs": [],
      "source": []
    },
    {
      "cell_type": "code",
      "execution_count": null,
      "metadata": {
        "colab": {
          "base_uri": "https://localhost:8080/"
        },
        "id": "laadm83eo-uD",
        "outputId": "48775ae6-0933-416d-c07f-6295e236de9a"
      },
      "outputs": [
        {
          "name": "stdout",
          "output_type": "stream",
          "text": [
            "1\n",
            "2\n",
            "3\n",
            "4\n",
            "5\n",
            "----------\n",
            "1\n",
            "2\n",
            "3\n",
            "4\n",
            "[5, 6]\n"
          ]
        }
      ],
      "source": [
        "# Loops\n",
        "\n",
        "L1 = [1,2,3,4,5]\n",
        "L2 = [1,2,3,4,[5,6]]\n",
        "\n",
        "for i in L1:\n",
        "  print(i)\n",
        "print('-'*10)\n",
        "for _ in L2:\n",
        "  print(_)"
      ]
    },
    {
      "cell_type": "code",
      "execution_count": null,
      "metadata": {
        "colab": {
          "base_uri": "https://localhost:8080/"
        },
        "id": "4LB-25aEpYYT",
        "outputId": "01dd393c-5b12-4731-a1c4-22d974662ecc"
      },
      "outputs": [
        {
          "name": "stdout",
          "output_type": "stream",
          "text": [
            "[[1, 2], [3, 4]]\n",
            "[[5, 6], [7, 8]]\n"
          ]
        }
      ],
      "source": [
        "L3 = [[[1,2],[3,4]],[[5,6],[7,8]]]\n",
        "\n",
        "for i in L3:\n",
        "  print(i)"
      ]
    },
    {
      "cell_type": "code",
      "execution_count": null,
      "metadata": {
        "id": "ORGZvfi-qFQL"
      },
      "outputs": [],
      "source": []
    },
    {
      "cell_type": "code",
      "execution_count": null,
      "metadata": {
        "id": "sJlUsnueqMVr"
      },
      "outputs": [],
      "source": []
    },
    {
      "cell_type": "markdown",
      "metadata": {
        "id": "MWA8Fk6WqM_T"
      },
      "source": [
        "# List Functions"
      ]
    },
    {
      "cell_type": "code",
      "execution_count": null,
      "metadata": {
        "colab": {
          "base_uri": "https://localhost:8080/"
        },
        "id": "7v6tzLrUqQDD",
        "outputId": "86cfc04d-80a7-4ffc-bdc2-27c9aba6348f"
      },
      "outputs": [
        {
          "name": "stdout",
          "output_type": "stream",
          "text": [
            "8\n",
            "2\n",
            "8\n",
            "[2, 3, 4, 4, 5, 5, 7, 8]\n",
            "[8, 7, 5, 5, 4, 4, 3, 2]\n"
          ]
        }
      ],
      "source": [
        "# len / min / max / sorted\n",
        "\n",
        "L = [2,4,5,3,7,5,8,4]\n",
        "\n",
        "print(len(L))\n",
        "print(min(L))\n",
        "\n",
        "print(max(L))\n",
        "\n",
        "print(sorted(L))\n",
        "\n",
        "\n",
        "print(sorted(L,reverse=True))"
      ]
    },
    {
      "cell_type": "code",
      "execution_count": null,
      "metadata": {
        "colab": {
          "base_uri": "https://localhost:8080/"
        },
        "id": "5mLNt-gxqb-j",
        "outputId": "1f71732f-6a06-41c9-ea82-19b182939d8c"
      },
      "outputs": [
        {
          "data": {
            "text/plain": [
              "3"
            ]
          },
          "execution_count": 12,
          "metadata": {},
          "output_type": "execute_result"
        }
      ],
      "source": [
        "# count\n",
        "L= [1,2,5,3,4,2,1,5,4,9,3,1,2,4,5,3]\n",
        "L.count(1)"
      ]
    },
    {
      "cell_type": "code",
      "execution_count": null,
      "metadata": {
        "colab": {
          "base_uri": "https://localhost:8080/"
        },
        "id": "UbDttamMq1f5",
        "outputId": "ff16c17c-8676-4710-bfd2-408e1d4061f4"
      },
      "outputs": [
        {
          "data": {
            "text/plain": [
              "2"
            ]
          },
          "execution_count": 14,
          "metadata": {},
          "output_type": "execute_result"
        }
      ],
      "source": [
        "# index\n",
        "L.index(5)"
      ]
    },
    {
      "cell_type": "code",
      "execution_count": null,
      "metadata": {
        "colab": {
          "base_uri": "https://localhost:8080/"
        },
        "id": "uk_yvPM-q8Jx",
        "outputId": "56b9dc6f-ab74-4fba-a2f9-803c60a9a513"
      },
      "outputs": [
        {
          "name": "stdout",
          "output_type": "stream",
          "text": [
            "[3, 5, 4, 2, 1, 3, 9, 4, 5, 1, 2, 4, 3, 5, 2, 1]\n"
          ]
        }
      ],
      "source": [
        "# reverse\n",
        "L= [1,2,5,3,4,2,1,5,4,9,3,1,2,4,5,3]\n",
        "\n",
        "# permanently reverses the list\n",
        "L.reverse()\n",
        "print(L)"
      ]
    },
    {
      "cell_type": "code",
      "execution_count": null,
      "metadata": {
        "colab": {
          "base_uri": "https://localhost:8080/"
        },
        "id": "ZP-AzF3hrC8a",
        "outputId": "29f5535c-870a-48f2-d54c-a8e5e627e142"
      },
      "outputs": [
        {
          "name": "stdout",
          "output_type": "stream",
          "text": [
            "[2, 4, 5, 3, 7, 5, 8, 4]\n",
            "[2, 3, 4, 4, 5, 5, 7, 8]\n",
            "[2, 4, 5, 3, 7, 5, 8, 4]\n",
            "[2, 3, 4, 4, 5, 5, 7, 8]\n"
          ]
        }
      ],
      "source": [
        "# sort (vs sorted)\n",
        "\n",
        "# sort ---> permanently sort the list\n",
        "\n",
        "L = [2,4,5,3,7,5,8,4]\n",
        "print(L)\n",
        "print(sorted(L))\n",
        "\n",
        "print(L)\n",
        "\n",
        "L.sort()\n",
        "print(L)\n"
      ]
    },
    {
      "cell_type": "code",
      "execution_count": null,
      "metadata": {
        "colab": {
          "base_uri": "https://localhost:8080/"
        },
        "id": "cHrPyyRTrv_4",
        "outputId": "a7f96ef2-050d-4b6e-8ad0-ea75cd4970df"
      },
      "outputs": [
        {
          "name": "stdout",
          "output_type": "stream",
          "text": [
            "[2, 4, 5, 3, 7, 5, 8, 4]\n",
            "140370946516672\n",
            "[2, 4, 5, 3, 7, 5, 8, 4]\n",
            "140370948133248\n"
          ]
        }
      ],
      "source": [
        "# copy  --> shallow\n",
        "\n",
        "L = [2,4,5,3,7,5,8,4]\n",
        "print(L)\n",
        "print(id(L))\n",
        "\n",
        "L1 = L.copy()\n",
        "print(L1)\n",
        "\n",
        "print(id(L1))"
      ]
    },
    {
      "cell_type": "code",
      "execution_count": null,
      "metadata": {
        "id": "6_VnYB1GsGXH"
      },
      "outputs": [],
      "source": []
    },
    {
      "cell_type": "markdown",
      "metadata": {
        "id": "QvLPWONLsUh7"
      },
      "source": [
        "# List Comprehension\n"
      ]
    },
    {
      "cell_type": "code",
      "execution_count": null,
      "metadata": {
        "colab": {
          "base_uri": "https://localhost:8080/"
        },
        "id": "StMzOC8BsY6f",
        "outputId": "812a104a-f153-4b03-b91c-3a0eafd03298"
      },
      "outputs": [
        {
          "name": "stdout",
          "output_type": "stream",
          "text": [
            "1\n",
            "2\n",
            "3\n",
            "4\n",
            "5\n",
            "6\n",
            "7\n",
            "8\n",
            "9\n",
            "10\n",
            "[1, 2, 3, 4, 5, 6, 7, 8, 9, 10]\n"
          ]
        }
      ],
      "source": [
        "# Add  1 to 10 numbers to a list\n",
        "\n",
        "L = []\n",
        "\n",
        "for i in range(1,11):\n",
        "  L.append(i)\n",
        "  print(i)\n",
        "\n",
        "print(L)\n"
      ]
    },
    {
      "cell_type": "code",
      "execution_count": null,
      "metadata": {
        "colab": {
          "base_uri": "https://localhost:8080/"
        },
        "id": "LYsf3ecCs06o",
        "outputId": "a3071431-f1e6-4779-d6d2-a75e33d029a1"
      },
      "outputs": [
        {
          "name": "stdout",
          "output_type": "stream",
          "text": [
            "[1, 2, 3, 4, 5, 6, 7, 8, 9, 10]\n"
          ]
        }
      ],
      "source": [
        "L = [i for i in range(1,11)]\n",
        "print(L)"
      ]
    },
    {
      "cell_type": "code",
      "execution_count": null,
      "metadata": {
        "colab": {
          "base_uri": "https://localhost:8080/"
        },
        "id": "7Z4OyfSRtD44",
        "outputId": "5a808107-f738-4cd2-b7cd-9ec92c8c50fd"
      },
      "outputs": [
        {
          "name": "stdout",
          "output_type": "stream",
          "text": [
            "[-6, -9, -12]\n"
          ]
        }
      ],
      "source": [
        "# Scalar multiplication of Vector\n",
        "v = [2,3,4]\n",
        "s = -3\n",
        "# [-6,-9,-12]\n",
        "\n",
        "x=[]\n",
        "for i in v:\n",
        "  x.append(i*s)\n",
        "\n",
        "print(x)"
      ]
    },
    {
      "cell_type": "code",
      "execution_count": null,
      "metadata": {
        "colab": {
          "base_uri": "https://localhost:8080/"
        },
        "id": "sMpa6NFltOQQ",
        "outputId": "f50e90e3-fe2e-4fcd-8596-5bf881a42e18"
      },
      "outputs": [
        {
          "data": {
            "text/plain": [
              "[-6, -9, -12]"
            ]
          },
          "execution_count": 27,
          "metadata": {},
          "output_type": "execute_result"
        }
      ],
      "source": [
        "[s*i for i in v]"
      ]
    },
    {
      "cell_type": "code",
      "execution_count": null,
      "metadata": {
        "id": "ij59jhkLuNdI"
      },
      "outputs": [],
      "source": []
    },
    {
      "cell_type": "code",
      "execution_count": null,
      "metadata": {
        "colab": {
          "base_uri": "https://localhost:8080/"
        },
        "id": "p-htIWyStOS0",
        "outputId": "68358c89-faa7-4185-9373-e542ca39a845"
      },
      "outputs": [
        {
          "data": {
            "text/plain": [
              "[1, 4, 9, 16, 25]"
            ]
          },
          "execution_count": 28,
          "metadata": {},
          "output_type": "execute_result"
        }
      ],
      "source": [
        "# Add squares\n",
        "L=[1,2,3,4,5]\n",
        "\n",
        "[i**2 for i in L]\n"
      ]
    },
    {
      "cell_type": "code",
      "execution_count": null,
      "metadata": {
        "id": "cQZnZMErtRXg"
      },
      "outputs": [],
      "source": []
    },
    {
      "cell_type": "code",
      "execution_count": null,
      "metadata": {
        "colab": {
          "base_uri": "https://localhost:8080/"
        },
        "id": "5SzZGR6gtRs4",
        "outputId": "88baffaf-267f-44f6-97cf-39c4f9df650b"
      },
      "outputs": [
        {
          "data": {
            "text/plain": [
              "[5, 10, 15, 20, 25, 30, 35, 40, 45, 50]"
            ]
          },
          "execution_count": 29,
          "metadata": {},
          "output_type": "execute_result"
        }
      ],
      "source": [
        "# Print all numbers divisible by 5 in the range of 1 to 50\n",
        "\n",
        "[i for i in range(1,51) if i%5 == 0]"
      ]
    },
    {
      "cell_type": "code",
      "execution_count": null,
      "metadata": {
        "colab": {
          "base_uri": "https://localhost:8080/"
        },
        "id": "SEfJxcdhuezu",
        "outputId": "fbef476b-63e6-4e7e-e89f-e49964416f75"
      },
      "outputs": [
        {
          "data": {
            "text/plain": [
              "['python', 'php']"
            ]
          },
          "execution_count": 31,
          "metadata": {},
          "output_type": "execute_result"
        }
      ],
      "source": [
        "# find languages which start with letter p\n",
        "\n",
        "languages = ['java','python','php','c','javascript']\n",
        "\n",
        "[language for language in languages if language.startswith('p')]"
      ]
    },
    {
      "cell_type": "code",
      "execution_count": null,
      "metadata": {
        "id": "X3wP_3jWvN5v"
      },
      "outputs": [],
      "source": []
    },
    {
      "cell_type": "code",
      "execution_count": null,
      "metadata": {
        "colab": {
          "base_uri": "https://localhost:8080/"
        },
        "id": "YsjIEKxwvQCf",
        "outputId": "46376ec5-b396-41cc-fced-3fcd0aa29d85"
      },
      "outputs": [
        {
          "data": {
            "text/plain": [
              "['apple']"
            ]
          },
          "execution_count": 32,
          "metadata": {},
          "output_type": "execute_result"
        }
      ],
      "source": [
        "# Nested if with List Comprehension\n",
        "\n",
        "basket = ['apple', 'guava', 'cherry', 'banana']\n",
        "my_fruits = ['apple','kiwi','grapes','banana']\n",
        "\n",
        "# add new list from my_fruits and items if the fruit exists in basket\n",
        "# and also starts with 'a'\n",
        "\n",
        "[fruit for fruit in my_fruits if fruit in basket if fruit.startswith('a')]"
      ]
    },
    {
      "cell_type": "code",
      "execution_count": null,
      "metadata": {
        "id": "h_9p_02Gv39G"
      },
      "outputs": [],
      "source": []
    },
    {
      "cell_type": "code",
      "execution_count": null,
      "metadata": {
        "colab": {
          "base_uri": "https://localhost:8080/"
        },
        "id": "2yC3eNh7v3_W",
        "outputId": "92a699d9-0951-48b6-b3ae-8c0f409c8133"
      },
      "outputs": [
        {
          "data": {
            "text/plain": [
              "[[1, 2, 3], [2, 4, 6], [3, 6, 9]]"
            ]
          },
          "execution_count": 34,
          "metadata": {},
          "output_type": "execute_result"
        }
      ],
      "source": [
        "# Print a (3,3) matrix using list comprehension --->  Nested List Comprehension\n",
        "[[i*j for i in range(1,4)] for j in range(1,4)]\n"
      ]
    },
    {
      "cell_type": "code",
      "execution_count": null,
      "metadata": {
        "id": "0YH1y2fmv4F2"
      },
      "outputs": [],
      "source": []
    },
    {
      "cell_type": "code",
      "execution_count": null,
      "metadata": {
        "colab": {
          "base_uri": "https://localhost:8080/"
        },
        "id": "sKlx6Qf78RV3",
        "outputId": "10a0ab33-032b-4e64-c5d4-6b02ed50af11"
      },
      "outputs": [
        {
          "data": {
            "text/plain": [
              "[5, 6, 7, 8, 10, 12, 14, 16, 15, 18, 21, 24, 20, 24, 28, 32]"
            ]
          },
          "execution_count": 35,
          "metadata": {},
          "output_type": "execute_result"
        }
      ],
      "source": [
        "# cartesian products  -->  List comprehension on 2 list together\n",
        "\n",
        "L1 = [1,2,3,4]\n",
        "L2 = [5,6,7,8]\n",
        "\n",
        "[i*j for i in L1 for j in L2]"
      ]
    },
    {
      "cell_type": "code",
      "execution_count": null,
      "metadata": {
        "id": "fuNxSh729UNL"
      },
      "outputs": [],
      "source": []
    },
    {
      "cell_type": "markdown",
      "metadata": {
        "id": "0hChZt1f9jzu"
      },
      "source": [
        "# 2 ways to traverse a list"
      ]
    },
    {
      "cell_type": "code",
      "execution_count": null,
      "metadata": {
        "colab": {
          "base_uri": "https://localhost:8080/"
        },
        "id": "HhrSEhIO9nb8",
        "outputId": "99f8c4af-6cd6-404d-be51-c353313e6cb2"
      },
      "outputs": [
        {
          "name": "stdout",
          "output_type": "stream",
          "text": [
            "1\n",
            "2\n",
            "3\n",
            "4\n"
          ]
        }
      ],
      "source": [
        "# itemwise\n",
        "\n",
        "L= [1,2,3,4]\n",
        "\n",
        "for i in L:\n",
        "  print(i)"
      ]
    },
    {
      "cell_type": "code",
      "execution_count": null,
      "metadata": {
        "colab": {
          "base_uri": "https://localhost:8080/"
        },
        "id": "EeRfRVtf92DL",
        "outputId": "78a1143e-2f76-4fd5-b1e2-1bffa5ac1384"
      },
      "outputs": [
        {
          "name": "stdout",
          "output_type": "stream",
          "text": [
            "0\n",
            "1\n",
            "2\n",
            "3\n",
            "**********\n",
            "1\n",
            "2\n",
            "3\n",
            "4\n"
          ]
        }
      ],
      "source": [
        "# indexwise\n",
        "\n",
        "L= [1,2,3,4]\n",
        "\n",
        "for i in range(0,len(L)):\n",
        "  print(i)\n",
        "\n",
        "print('*'*10)\n",
        "\n",
        "for i in range(0,len(L)):\n",
        "  print(L[i])"
      ]
    },
    {
      "cell_type": "code",
      "execution_count": null,
      "metadata": {
        "id": "LOOaKAwV-Anb"
      },
      "outputs": [],
      "source": []
    },
    {
      "cell_type": "code",
      "execution_count": null,
      "metadata": {
        "id": "hralST0b-Uxs"
      },
      "outputs": [],
      "source": []
    },
    {
      "cell_type": "markdown",
      "metadata": {
        "id": "ktERiYR--VQF"
      },
      "source": [
        "# Zip function"
      ]
    },
    {
      "cell_type": "code",
      "execution_count": null,
      "metadata": {
        "colab": {
          "base_uri": "https://localhost:8080/"
        },
        "id": "LjUiTtzi-YfM",
        "outputId": "697b7690-57d5-41a4-aa3b-8841da8f4473"
      },
      "outputs": [
        {
          "data": {
            "text/plain": [
              "[(1, -1), (2, -2), (3, -3), (4, -4)]"
            ]
          },
          "execution_count": 41,
          "metadata": {},
          "output_type": "execute_result"
        }
      ],
      "source": [
        "# Write a program to add items of two list indexwise\n",
        "\n",
        "L1 = [1,2,3,4]\n",
        "L2 = [-1,-2,-3,-4]\n",
        "\n",
        "list(zip(L1,L2))\n",
        "\n"
      ]
    },
    {
      "cell_type": "code",
      "execution_count": null,
      "metadata": {
        "colab": {
          "base_uri": "https://localhost:8080/"
        },
        "id": "gdeq2XuJ-oVL",
        "outputId": "0e231b4c-8f9f-42a1-e8a3-e1df64676222"
      },
      "outputs": [
        {
          "data": {
            "text/plain": [
              "[0, 0, 0, 0]"
            ]
          },
          "execution_count": 42,
          "metadata": {},
          "output_type": "execute_result"
        }
      ],
      "source": [
        "[i+j for i,j in zip(L1,L2)]"
      ]
    },
    {
      "cell_type": "code",
      "execution_count": null,
      "metadata": {
        "id": "R7LX9Iv1_Fiq"
      },
      "outputs": [],
      "source": []
    },
    {
      "cell_type": "code",
      "execution_count": null,
      "metadata": {
        "colab": {
          "base_uri": "https://localhost:8080/"
        },
        "id": "pc2lC2vU_P2c",
        "outputId": "34ab3dc4-af33-4151-f163-082e6ee5a2b5"
      },
      "outputs": [
        {
          "name": "stdout",
          "output_type": "stream",
          "text": [
            "[1, 2, <built-in function print>, <class 'type'>, <bound method Kernel.raw_input of <google.colab._kernel.Kernel object at 0x7faaec6d1db0>>]\n"
          ]
        }
      ],
      "source": [
        "L = [1,2,print,type,input]\n",
        "\n",
        "print(L)"
      ]
    },
    {
      "cell_type": "code",
      "execution_count": null,
      "metadata": {
        "id": "-u1nhQ3v_en1"
      },
      "outputs": [],
      "source": []
    }
  ],
  "metadata": {
    "colab": {
      "provenance": []
    },
    "kernelspec": {
      "display_name": "Python 3",
      "name": "python3"
    },
    "language_info": {
      "codemirror_mode": {
        "name": "ipython",
        "version": 3
      },
      "file_extension": ".py",
      "mimetype": "text/x-python",
      "name": "python",
      "nbconvert_exporter": "python",
      "pygments_lexer": "ipython3",
      "version": "3.12.6"
    }
  },
  "nbformat": 4,
  "nbformat_minor": 0
}
