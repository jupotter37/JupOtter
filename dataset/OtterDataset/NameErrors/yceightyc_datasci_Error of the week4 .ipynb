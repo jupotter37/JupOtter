{
 "cells": [
  {
   "cell_type": "markdown",
   "id": "51cd7223",
   "metadata": {},
   "source": [
    "## Attributes vs methods"
   ]
  },
  {
   "cell_type": "markdown",
   "id": "690aaed8",
   "metadata": {},
   "source": [
    "or why it's sometimes `object.something` and sometimes `object.something()`"
   ]
  },
  {
   "cell_type": "markdown",
   "id": "c023e8cb",
   "metadata": {},
   "source": [
    "Let's see the error"
   ]
  },
  {
   "cell_type": "code",
   "execution_count": 2,
   "id": "8b5214f6",
   "metadata": {},
   "outputs": [],
   "source": [
    "import pandas as pd # import pandas - let's read some data as well.\n",
    "\n",
    "ourData = pd.read_csv(\"./DTSPRcourse-AY-2023-24.git/data/gss_cat.csv\")"
   ]
  },
  {
   "cell_type": "markdown",
   "id": "6101d04f",
   "metadata": {},
   "source": [
    "Let's inspect the data, just so we are sure it's loaded:"
   ]
  },
  {
   "cell_type": "code",
   "execution_count": 3,
   "id": "eadc6217",
   "metadata": {},
   "outputs": [
    {
     "data": {
      "text/html": [
       "<div>\n",
       "<style scoped>\n",
       "    .dataframe tbody tr th:only-of-type {\n",
       "        vertical-align: middle;\n",
       "    }\n",
       "\n",
       "    .dataframe tbody tr th {\n",
       "        vertical-align: top;\n",
       "    }\n",
       "\n",
       "    .dataframe thead th {\n",
       "        text-align: right;\n",
       "    }\n",
       "</style>\n",
       "<table border=\"1\" class=\"dataframe\">\n",
       "  <thead>\n",
       "    <tr style=\"text-align: right;\">\n",
       "      <th></th>\n",
       "      <th>year</th>\n",
       "      <th>age</th>\n",
       "      <th>tvhours</th>\n",
       "    </tr>\n",
       "  </thead>\n",
       "  <tbody>\n",
       "    <tr>\n",
       "      <th>count</th>\n",
       "      <td>21483.000000</td>\n",
       "      <td>21407.000000</td>\n",
       "      <td>11337.000000</td>\n",
       "    </tr>\n",
       "    <tr>\n",
       "      <th>mean</th>\n",
       "      <td>2006.501978</td>\n",
       "      <td>47.180081</td>\n",
       "      <td>2.980771</td>\n",
       "    </tr>\n",
       "    <tr>\n",
       "      <th>std</th>\n",
       "      <td>4.451994</td>\n",
       "      <td>17.287500</td>\n",
       "      <td>2.587151</td>\n",
       "    </tr>\n",
       "    <tr>\n",
       "      <th>min</th>\n",
       "      <td>2000.000000</td>\n",
       "      <td>18.000000</td>\n",
       "      <td>0.000000</td>\n",
       "    </tr>\n",
       "    <tr>\n",
       "      <th>25%</th>\n",
       "      <td>2002.000000</td>\n",
       "      <td>33.000000</td>\n",
       "      <td>1.000000</td>\n",
       "    </tr>\n",
       "    <tr>\n",
       "      <th>50%</th>\n",
       "      <td>2006.000000</td>\n",
       "      <td>46.000000</td>\n",
       "      <td>2.000000</td>\n",
       "    </tr>\n",
       "    <tr>\n",
       "      <th>75%</th>\n",
       "      <td>2010.000000</td>\n",
       "      <td>59.000000</td>\n",
       "      <td>4.000000</td>\n",
       "    </tr>\n",
       "    <tr>\n",
       "      <th>max</th>\n",
       "      <td>2014.000000</td>\n",
       "      <td>89.000000</td>\n",
       "      <td>24.000000</td>\n",
       "    </tr>\n",
       "  </tbody>\n",
       "</table>\n",
       "</div>"
      ],
      "text/plain": [
       "               year           age       tvhours\n",
       "count  21483.000000  21407.000000  11337.000000\n",
       "mean    2006.501978     47.180081      2.980771\n",
       "std        4.451994     17.287500      2.587151\n",
       "min     2000.000000     18.000000      0.000000\n",
       "25%     2002.000000     33.000000      1.000000\n",
       "50%     2006.000000     46.000000      2.000000\n",
       "75%     2010.000000     59.000000      4.000000\n",
       "max     2014.000000     89.000000     24.000000"
      ]
     },
     "execution_count": 3,
     "metadata": {},
     "output_type": "execute_result"
    }
   ],
   "source": [
    "ourData.describe()"
   ]
  },
  {
   "cell_type": "markdown",
   "id": "0f50b319",
   "metadata": {
    "slideshow": {
     "slide_type": "fragment"
    }
   },
   "source": [
    "OK - it gives me some details about some of the columns, but I feel like there are more - let's try another function"
   ]
  },
  {
   "cell_type": "code",
   "execution_count": 4,
   "id": "e2f6e2ca",
   "metadata": {},
   "outputs": [
    {
     "name": "stdout",
     "output_type": "stream",
     "text": [
      "<class 'pandas.core.frame.DataFrame'>\n",
      "RangeIndex: 21483 entries, 0 to 21482\n",
      "Data columns (total 8 columns):\n",
      " #   Column   Non-Null Count  Dtype  \n",
      "---  ------   --------------  -----  \n",
      " 0   year     21483 non-null  int64  \n",
      " 1   marital  21483 non-null  object \n",
      " 2   age      21407 non-null  float64\n",
      " 3   race     21483 non-null  object \n",
      " 4   rincome  21483 non-null  object \n",
      " 5   partyid  21483 non-null  object \n",
      " 6   relig    21483 non-null  object \n",
      " 7   tvhours  11337 non-null  float64\n",
      "dtypes: float64(2), int64(1), object(5)\n",
      "memory usage: 1.3+ MB\n"
     ]
    }
   ],
   "source": [
    "ourData.info()"
   ]
  },
  {
   "cell_type": "markdown",
   "id": "bb412a0d",
   "metadata": {},
   "source": [
    "Ahh okay - there are more columns - they just weren't numeric and therefore describe doesn't give them.  "
   ]
  },
  {
   "cell_type": "markdown",
   "id": "24172c4d",
   "metadata": {},
   "source": [
    "I wonder what the shape of my dataframe is - i.e. how many rows and columns:"
   ]
  },
  {
   "cell_type": "code",
   "execution_count": 5,
   "id": "a98a9066",
   "metadata": {},
   "outputs": [
    {
     "ename": "TypeError",
     "evalue": "'tuple' object is not callable",
     "output_type": "error",
     "traceback": [
      "\u001b[0;31m---------------------------------------------------------------------------\u001b[0m",
      "\u001b[0;31mTypeError\u001b[0m                                 Traceback (most recent call last)",
      "Cell \u001b[0;32mIn[5], line 1\u001b[0m\n\u001b[0;32m----> 1\u001b[0m \u001b[43mourData\u001b[49m\u001b[38;5;241;43m.\u001b[39;49m\u001b[43mshape\u001b[49m\u001b[43m(\u001b[49m\u001b[43m)\u001b[49m\n",
      "\u001b[0;31mTypeError\u001b[0m: 'tuple' object is not callable"
     ]
    }
   ],
   "source": [
    "ourData.shape()"
   ]
  },
  {
   "cell_type": "markdown",
   "id": "f569562a",
   "metadata": {},
   "source": [
    "Oh oh - that's an error... but why??  It even tells me that a `tuple` \\[e.g. (1, 2)\\] is not callable"
   ]
  },
  {
   "cell_type": "markdown",
   "id": "b5d64c92",
   "metadata": {},
   "source": [
    "what does that mean... hmm.. it sounds like it's trying to run a function. You call a function.. "
   ]
  },
  {
   "cell_type": "markdown",
   "id": "2fe0c035",
   "metadata": {},
   "source": [
    "Let's just try it without `()` and see what happens."
   ]
  },
  {
   "cell_type": "code",
   "execution_count": 6,
   "id": "81ddd4d2",
   "metadata": {},
   "outputs": [
    {
     "data": {
      "text/plain": [
       "(21483, 8)"
      ]
     },
     "execution_count": 6,
     "metadata": {},
     "output_type": "execute_result"
    }
   ],
   "source": [
    "ourData.shape"
   ]
  },
  {
   "cell_type": "markdown",
   "id": "8d22ae1a",
   "metadata": {},
   "source": [
    "Oh that gave me an outcome - and that matches (kinda) what I learned from `.info()` - see that the largest number in the non-null count is 21483 as well.  \n",
    "\n",
    "But why is one of them working with `()` and the other one not? \n",
    "\n",
    "and what happens if I try `.info` without the parentheses? "
   ]
  },
  {
   "cell_type": "code",
   "execution_count": 7,
   "id": "c2f87fc7",
   "metadata": {},
   "outputs": [
    {
     "data": {
      "text/plain": [
       "<bound method DataFrame.info of        year        marital   age   race         rincome             partyid  \\\n",
       "0      2000  Never married  26.0  White   $8000 to 9999        Ind,near rep   \n",
       "1      2000       Divorced  48.0  White   $8000 to 9999  Not str republican   \n",
       "2      2000        Widowed  67.0  White  Not applicable         Independent   \n",
       "3      2000  Never married  39.0  White  Not applicable        Ind,near rep   \n",
       "4      2000       Divorced  25.0  White  Not applicable    Not str democrat   \n",
       "...     ...            ...   ...    ...             ...                 ...   \n",
       "21478  2014        Widowed  89.0  White  Not applicable  Not str republican   \n",
       "21479  2014       Divorced  56.0  White  $25000 or more         Independent   \n",
       "21480  2014  Never married  24.0  White  $10000 - 14999        Ind,near dem   \n",
       "21481  2014  Never married  27.0  White  $25000 or more    Not str democrat   \n",
       "21482  2014        Widowed  71.0  White  $20000 - 24999        Ind,near rep   \n",
       "\n",
       "                    relig  tvhours  \n",
       "0              Protestant     12.0  \n",
       "1              Protestant      NaN  \n",
       "2              Protestant      2.0  \n",
       "3      Orthodox-christian      4.0  \n",
       "4                    None      1.0  \n",
       "...                   ...      ...  \n",
       "21478          Protestant      3.0  \n",
       "21479                None      4.0  \n",
       "21480                None      4.0  \n",
       "21481            Catholic      NaN  \n",
       "21482          Protestant      2.0  \n",
       "\n",
       "[21483 rows x 8 columns]>"
      ]
     },
     "execution_count": 7,
     "metadata": {},
     "output_type": "execute_result"
    }
   ],
   "source": [
    "ourData.info"
   ]
  },
  {
   "cell_type": "markdown",
   "id": "da91104e",
   "metadata": {},
   "source": [
    "huh - that's strange.  It tells us that it's bound method... and then spits out part of the data frame.. Let's try to understand a bit better. \n"
   ]
  },
  {
   "cell_type": "markdown",
   "id": "37332bc9",
   "metadata": {},
   "source": [
    "## Class - what gives us objects! "
   ]
  },
  {
   "cell_type": "markdown",
   "id": "0fec716e",
   "metadata": {},
   "source": [
    "A class something that describes an object in the abstract. So each object belongs to a class. Here we think of a class as Person, so we can imagine a person called Amari is in instance of a Person."
   ]
  },
  {
   "cell_type": "code",
   "execution_count": 8,
   "id": "4c961ebb",
   "metadata": {},
   "outputs": [],
   "source": [
    "class Person:\n",
    "    # This things happens everytime a create an instance of a person\n",
    "    def __init__(self, name, age, haircolor): \n",
    "        \n",
    "        # these are attributes! \n",
    "        self.name = name # we take the name we get and store it under self.name\n",
    "        self.age = age\n",
    "        self.haircolor = haircolor\n",
    "        # self tells us that they are stored as a part of the object - in our case a specific instance of person!\n",
    "        \n",
    "        \n",
    "        # This is a method! \n",
    "    def greeting(self, helloTo):\n",
    "        return(f\"Hi {helloTo}! My name is {self.name}\") # create a greeting - the person can say hi!\n"
   ]
  },
  {
   "cell_type": "markdown",
   "id": "de220d33",
   "metadata": {},
   "source": [
    "Okay, so this is a bit complex and we don't need to understand exactly what's going on! We are just looking under the hood for how Python deals with objects.  You can imagine when someone designed the `DataFrame` class in the `pandas` module they basically had to go through and do what we have done above for all the things a `DataFrame` can do! "
   ]
  },
  {
   "cell_type": "markdown",
   "id": "f7a542f7",
   "metadata": {},
   "source": [
    "This is a little simplified, but in essense it's the same!"
   ]
  },
  {
   "cell_type": "markdown",
   "id": "58bdb861",
   "metadata": {},
   "source": [
    "So what did we do - We created a `class` of objects called `Person`.  We can see that when we define a `Person` it requires `name`, `age`, and `haircolor`.  These are stored under `self`. This is similar to when we call a function and put an argument in the function. \n",
    "\n",
    "An `attribute` is a variable that is stored along with our object. Often we use it to describe the object in some way. Just like we can imagine that `name`, `age`, and `haircolor` are attributes (things that describe) a person.\n",
    "\n",
    "But what is this `self`.  This is just Python's way of referring to the specific instance of an object. You can imagine that I create one `Person`: Esmeralda, and another `Person`: Amari.  But I don't know the names yet, so I need some way of referring to any instance of an `class` and that's what the `self` is.  We'll see more details below.\n",
    "\n",
    "The second this I did was create a `method` called `greeting`. A `method` is really just a normal function, but which exists relating to a specific object.  In general, when we call a function, it just exists, and doesn't require us to have an object instance defined first.  For methods, they are linked to an object.\n",
    "\n",
    "This `greeting` takes `self` (Python's way of knowing it's relating to the object itself) and `helloTo` (who are we greeting). This `method` returns a greeting. It says hello to the name we put into the `method` and introduces the `Person` with their name.  "
   ]
  },
  {
   "cell_type": "code",
   "execution_count": 9,
   "id": "32116f43",
   "metadata": {},
   "outputs": [],
   "source": [
    "# Let's try\n",
    "\n",
    "esmeralda = Person(name = \"Esmeralda\", age = \"31\", haircolor = \"brown\")\n"
   ]
  },
  {
   "cell_type": "markdown",
   "id": "a0cd742c",
   "metadata": {},
   "source": [
    "Great - we now have an instance of a person! "
   ]
  },
  {
   "cell_type": "code",
   "execution_count": 10,
   "id": "af50b807",
   "metadata": {},
   "outputs": [
    {
     "name": "stdout",
     "output_type": "stream",
     "text": [
      "Esmeralda\n",
      "31\n"
     ]
    }
   ],
   "source": [
    "# let's see what happens if I try to get the attribute name or age:\n",
    "\n",
    "print(esmeralda.name)\n",
    "print(esmeralda.age)"
   ]
  },
  {
   "cell_type": "markdown",
   "id": "504c1e60",
   "metadata": {},
   "source": [
    "cool let's see what happens if we try to call it (i.e. use `()`)"
   ]
  },
  {
   "cell_type": "code",
   "execution_count": 11,
   "id": "87eb206f",
   "metadata": {},
   "outputs": [
    {
     "ename": "TypeError",
     "evalue": "'str' object is not callable",
     "output_type": "error",
     "traceback": [
      "\u001b[0;31m---------------------------------------------------------------------------\u001b[0m",
      "\u001b[0;31mTypeError\u001b[0m                                 Traceback (most recent call last)",
      "Cell \u001b[0;32mIn[11], line 1\u001b[0m\n\u001b[0;32m----> 1\u001b[0m \u001b[38;5;28mprint\u001b[39m(\u001b[43mesmeralda\u001b[49m\u001b[38;5;241;43m.\u001b[39;49m\u001b[43mname\u001b[49m\u001b[43m(\u001b[49m\u001b[43m)\u001b[49m)\n",
      "\u001b[0;31mTypeError\u001b[0m: 'str' object is not callable"
     ]
    }
   ],
   "source": [
    "print(esmeralda.name())"
   ]
  },
  {
   "cell_type": "markdown",
   "id": "b5710f68",
   "metadata": {},
   "source": [
    "That's the same error we got from calling `ourData.shape()` other than it was different type! "
   ]
  },
  {
   "cell_type": "markdown",
   "id": "d037c90c",
   "metadata": {},
   "source": [
    "Let's try the method now:"
   ]
  },
  {
   "cell_type": "code",
   "execution_count": 12,
   "id": "f27478de",
   "metadata": {},
   "outputs": [
    {
     "data": {
      "text/plain": [
       "'Hi Amari! My name is Esmeralda'"
      ]
     },
     "execution_count": 12,
     "metadata": {},
     "output_type": "execute_result"
    }
   ],
   "source": [
    "esmeralda.greeting(\"Amari\")"
   ]
  },
  {
   "cell_type": "markdown",
   "id": "9ddb730f",
   "metadata": {},
   "source": [
    "Cool is used the name we gave it and returned a greeting !"
   ]
  },
  {
   "cell_type": "markdown",
   "id": "901cc9ff",
   "metadata": {},
   "source": [
    "Now what happens if we try: `esmeralda.greeting`"
   ]
  },
  {
   "cell_type": "code",
   "execution_count": 13,
   "id": "e524230d",
   "metadata": {},
   "outputs": [
    {
     "data": {
      "text/plain": [
       "<bound method Person.greeting of <__main__.Person object at 0x7f50bd1453d0>>"
      ]
     },
     "execution_count": 13,
     "metadata": {},
     "output_type": "execute_result"
    }
   ],
   "source": [
    "esmeralda.greeting"
   ]
  },
  {
   "cell_type": "markdown",
   "id": "390c60b0",
   "metadata": {
    "slideshow": {
     "slide_type": "slide"
    }
   },
   "source": [
    "It tells us that it's a bound method just like when we called `ourData.info`.  The reason why the `ourData.info` gave us a bit more information is that the authors told it to give some more information when it is called like this."
   ]
  },
  {
   "cell_type": "markdown",
   "id": "0b3f8f4d",
   "metadata": {},
   "source": [
    "Okay so that's the difference between `attributes` and `methods`.  An `attribute` describes something about the object, or stores some information. A `method` is sorta like a function that is owned by the object and allows us to manipulate it, or do something new.  The `methods` might be used to change some of the attributes of the object. \n",
    "\n",
    "Let's create a new `method` that allows us to color the hair of the person:"
   ]
  },
  {
   "cell_type": "code",
   "execution_count": 14,
   "id": "025b5de6",
   "metadata": {},
   "outputs": [],
   "source": [
    "class Person:\n",
    "    # This things happens everytime a create an instance of a person\n",
    "    def __init__(self, name, age, haircolor): \n",
    "        \n",
    "        # these are attributes! \n",
    "        self.name = name # we take the name we get and store it under self.name\n",
    "        self.age = age\n",
    "        self.haircolor = haircolor\n",
    "        # self tells us that they are stored as a part of the object - in our case a specific instance of person!\n",
    "        \n",
    "        \n",
    "        # This is a method! \n",
    "    def greeting(self, helloTo):\n",
    "        return(f\"Hi {helloTo}! My name is {self.name}\") # create a greeting - the person can say hi!\n",
    "    \n",
    "    def colorHair(self, newHairColor):\n",
    "        self.haircolor = newHairColor # This method changes an attribute but doesn't have an output"
   ]
  },
  {
   "cell_type": "code",
   "execution_count": 15,
   "id": "bad7d18d",
   "metadata": {},
   "outputs": [
    {
     "name": "stdout",
     "output_type": "stream",
     "text": [
      "brown\n"
     ]
    }
   ],
   "source": [
    "# Let's try coloring the hair\n",
    "\n",
    "esmeralda = Person(name = \"Esmeralda\", age = \"31\", haircolor = \"brown\")\n",
    "\n",
    "# check the haircolor\n",
    "print(esmeralda.haircolor)"
   ]
  },
  {
   "cell_type": "code",
   "execution_count": 16,
   "id": "4b0d2991",
   "metadata": {},
   "outputs": [],
   "source": [
    "esmeralda.colorHair(\"purple\") # notice no output"
   ]
  },
  {
   "cell_type": "code",
   "execution_count": 17,
   "id": "bfe96864",
   "metadata": {},
   "outputs": [
    {
     "name": "stdout",
     "output_type": "stream",
     "text": [
      "purple\n"
     ]
    }
   ],
   "source": [
    "print(esmeralda.haircolor)"
   ]
  },
  {
   "cell_type": "markdown",
   "id": "c5110ddf",
   "metadata": {},
   "source": [
    "We did it! "
   ]
  },
  {
   "cell_type": "markdown",
   "id": "7d66f98f",
   "metadata": {},
   "source": [
    "So we can do this another way as well, and this sorta relates to the idea of `self`.\n",
    "\n",
    "in our case running `esmeralda.colorHair(\"purple\")` would be identical to running `esmeralda.haircolor = \"purple\"`, let use this to turn it back to brown."
   ]
  },
  {
   "cell_type": "code",
   "execution_count": 18,
   "id": "1fdef24d",
   "metadata": {},
   "outputs": [
    {
     "name": "stdout",
     "output_type": "stream",
     "text": [
      "brown\n"
     ]
    }
   ],
   "source": [
    "esmeralda.haircolor = \"brown\"\n",
    "print(esmeralda.haircolor)"
   ]
  },
  {
   "cell_type": "markdown",
   "id": "7fa42a43",
   "metadata": {},
   "source": [
    "This is because `self` is practically substituted with the name of the object. \n",
    "\n",
    "so in:"
   ]
  },
  {
   "cell_type": "code",
   "execution_count": null,
   "id": "86410474",
   "metadata": {},
   "outputs": [],
   "source": [
    " def colorHair(self, newHairColor):\n",
    "    self.haircolor = newHairColor "
   ]
  },
  {
   "cell_type": "markdown",
   "id": "3a306dba",
   "metadata": {},
   "source": [
    "we imagine that we call the `colorHair` method on the object esmeralda, and in fact we can do that."
   ]
  },
  {
   "cell_type": "code",
   "execution_count": 19,
   "id": "f7816291",
   "metadata": {},
   "outputs": [
    {
     "name": "stdout",
     "output_type": "stream",
     "text": [
      "brown\n",
      "Purple\n"
     ]
    }
   ],
   "source": [
    "print(esmeralda.haircolor) # currently brown\n",
    "\n",
    "# now let's explicitly call the colorhair method on esmeralda\n",
    "\n",
    "Person.colorHair(esmeralda, \"Purple\")\n",
    "print(esmeralda.haircolor)"
   ]
  },
  {
   "cell_type": "markdown",
   "id": "dca5d037",
   "metadata": {},
   "source": [
    "We use the `Person.colorHair` to show that we are using the `method` belonging to the class `Person`"
   ]
  },
  {
   "cell_type": "markdown",
   "id": "3e5eff9d",
   "metadata": {},
   "source": [
    "## This might lead to some confusion with naming conventions! "
   ]
  },
  {
   "cell_type": "markdown",
   "id": "72e5a3f3",
   "metadata": {},
   "source": [
    "Because Python uses methods in this way we can't name things with a person:"
   ]
  },
  {
   "cell_type": "code",
   "execution_count": 20,
   "id": "5139dd95",
   "metadata": {},
   "outputs": [
    {
     "ename": "NameError",
     "evalue": "name 'a' is not defined",
     "output_type": "error",
     "traceback": [
      "\u001b[0;31m---------------------------------------------------------------------------\u001b[0m",
      "\u001b[0;31mNameError\u001b[0m                                 Traceback (most recent call last)",
      "Cell \u001b[0;32mIn[20], line 1\u001b[0m\n\u001b[0;32m----> 1\u001b[0m \u001b[43ma\u001b[49m\u001b[38;5;241m.\u001b[39mnumber \u001b[38;5;241m=\u001b[39m \u001b[38;5;241m1\u001b[39m\n",
      "\u001b[0;31mNameError\u001b[0m: name 'a' is not defined"
     ]
    }
   ],
   "source": [
    "a.number = 1"
   ]
  },
  {
   "cell_type": "markdown",
   "id": "f43eb25a",
   "metadata": {
    "slideshow": {
     "slide_type": "subslide"
    }
   },
   "source": [
    "But we can actually do that in R - and some people want that to be a common naming convention! So be aware, if you in R see `a.number` - this might just be someone storing a number! "
   ]
  }
 ],
 "metadata": {
  "kernelspec": {
   "display_name": "Python 3 (ipykernel)",
   "language": "python",
   "name": "python3"
  },
  "language_info": {
   "codemirror_mode": {
    "name": "ipython",
    "version": 3
   },
   "file_extension": ".py",
   "mimetype": "text/x-python",
   "name": "python",
   "nbconvert_exporter": "python",
   "pygments_lexer": "ipython3",
   "version": "3.9.13"
  }
 },
 "nbformat": 4,
 "nbformat_minor": 5
}
