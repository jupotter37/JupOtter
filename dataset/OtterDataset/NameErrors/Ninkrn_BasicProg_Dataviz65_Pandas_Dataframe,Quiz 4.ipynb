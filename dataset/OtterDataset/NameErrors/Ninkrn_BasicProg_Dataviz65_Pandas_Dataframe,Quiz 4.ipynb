{
  "nbformat": 4,
  "nbformat_minor": 0,
  "metadata": {
    "colab": {
      "name": "Pandas Dataframe.ipynb",
      "provenance": [],
      "toc_visible": true,
      "authorship_tag": "ABX9TyNF3IAG8Pg7XguqAfcCXcIN",
      "include_colab_link": true
    },
    "kernelspec": {
      "name": "python3",
      "display_name": "Python 3"
    },
    "language_info": {
      "name": "python"
    }
  },
  "cells": [
    {
      "cell_type": "markdown",
      "metadata": {
        "id": "view-in-github",
        "colab_type": "text"
      },
      "source": [
        "<a href=\"https://colab.research.google.com/github/Ninkrn/BasicProg_Dataviz65/blob/main/Pandas_Dataframe%2CQuiz%204.ipynb\" target=\"_parent\"><img src=\"https://colab.research.google.com/assets/colab-badge.svg\" alt=\"Open In Colab\"/></a>"
      ]
    },
    {
      "cell_type": "code",
      "execution_count": 5,
      "metadata": {
        "id": "aLEg9k2wDgEJ"
      },
      "outputs": [],
      "source": [
        "import pandas as pd"
      ]
    },
    {
      "cell_type": "markdown",
      "source": [
        "##  Mata Data = Data that describes data (ข้อมูลของที่เราใช้อธิบายข้อมูล)\n",
        "## CSV = Comma Separated Value (การจะใส่ค่าแต่ละคอลัมน์หรือค่าใช้ \",\" แบ่ง ถ้าเป็นช่องว่างก็เว้นไว้)\n",
        "## Pandas dataframe\n"
      ],
      "metadata": {
        "id": "72hrnnToGRh1"
      }
    },
    {
      "cell_type": "markdown",
      "source": [
        "## นำ Data เข้า\n",
        "- upload to colab\n",
        "- link with google drive"
      ],
      "metadata": {
        "id": "5QbyLA8RIEgc"
      }
    },
    {
      "cell_type": "markdown",
      "source": [
        "## Upload data to colab\n"
      ],
      "metadata": {
        "id": "5SVwUnhrIU27"
      }
    },
    {
      "cell_type": "code",
      "source": [
        "data0 = pd.read_csv('/content/opendata_project.csv')"
      ],
      "metadata": {
        "id": "97CATnG6DmYO",
        "outputId": "8c344e7d-55b7-459e-a636-4a5ee845ffb7",
        "colab": {
          "base_uri": "https://localhost:8080/",
          "height": 329
        }
      },
      "execution_count": 7,
      "outputs": [
        {
          "output_type": "error",
          "ename": "FileNotFoundError",
          "evalue": "ignored",
          "traceback": [
            "\u001b[0;31m---------------------------------------------------------------------------\u001b[0m",
            "\u001b[0;31mFileNotFoundError\u001b[0m                         Traceback (most recent call last)",
            "\u001b[0;32m<ipython-input-7-7ed313870bfb>\u001b[0m in \u001b[0;36m<module>\u001b[0;34m\u001b[0m\n\u001b[0;32m----> 1\u001b[0;31m \u001b[0mdata0\u001b[0m \u001b[0;34m=\u001b[0m \u001b[0mpd\u001b[0m\u001b[0;34m.\u001b[0m\u001b[0mread_csv\u001b[0m\u001b[0;34m(\u001b[0m\u001b[0;34m'/content/opendata_project.csv'\u001b[0m\u001b[0;34m)\u001b[0m\u001b[0;34m\u001b[0m\u001b[0;34m\u001b[0m\u001b[0m\n\u001b[0m",
            "\u001b[0;32m/usr/local/lib/python3.7/dist-packages/pandas/util/_decorators.py\u001b[0m in \u001b[0;36mwrapper\u001b[0;34m(*args, **kwargs)\u001b[0m\n\u001b[1;32m    309\u001b[0m                     \u001b[0mstacklevel\u001b[0m\u001b[0;34m=\u001b[0m\u001b[0mstacklevel\u001b[0m\u001b[0;34m,\u001b[0m\u001b[0;34m\u001b[0m\u001b[0;34m\u001b[0m\u001b[0m\n\u001b[1;32m    310\u001b[0m                 )\n\u001b[0;32m--> 311\u001b[0;31m             \u001b[0;32mreturn\u001b[0m \u001b[0mfunc\u001b[0m\u001b[0;34m(\u001b[0m\u001b[0;34m*\u001b[0m\u001b[0margs\u001b[0m\u001b[0;34m,\u001b[0m \u001b[0;34m**\u001b[0m\u001b[0mkwargs\u001b[0m\u001b[0;34m)\u001b[0m\u001b[0;34m\u001b[0m\u001b[0;34m\u001b[0m\u001b[0m\n\u001b[0m\u001b[1;32m    312\u001b[0m \u001b[0;34m\u001b[0m\u001b[0m\n\u001b[1;32m    313\u001b[0m         \u001b[0;32mreturn\u001b[0m \u001b[0mwrapper\u001b[0m\u001b[0;34m\u001b[0m\u001b[0;34m\u001b[0m\u001b[0m\n",
            "\u001b[0;32m/usr/local/lib/python3.7/dist-packages/pandas/io/parsers/readers.py\u001b[0m in \u001b[0;36mread_csv\u001b[0;34m(filepath_or_buffer, sep, delimiter, header, names, index_col, usecols, squeeze, prefix, mangle_dupe_cols, dtype, engine, converters, true_values, false_values, skipinitialspace, skiprows, skipfooter, nrows, na_values, keep_default_na, na_filter, verbose, skip_blank_lines, parse_dates, infer_datetime_format, keep_date_col, date_parser, dayfirst, cache_dates, iterator, chunksize, compression, thousands, decimal, lineterminator, quotechar, quoting, doublequote, escapechar, comment, encoding, encoding_errors, dialect, error_bad_lines, warn_bad_lines, on_bad_lines, delim_whitespace, low_memory, memory_map, float_precision, storage_options)\u001b[0m\n\u001b[1;32m    584\u001b[0m     \u001b[0mkwds\u001b[0m\u001b[0;34m.\u001b[0m\u001b[0mupdate\u001b[0m\u001b[0;34m(\u001b[0m\u001b[0mkwds_defaults\u001b[0m\u001b[0;34m)\u001b[0m\u001b[0;34m\u001b[0m\u001b[0;34m\u001b[0m\u001b[0m\n\u001b[1;32m    585\u001b[0m \u001b[0;34m\u001b[0m\u001b[0m\n\u001b[0;32m--> 586\u001b[0;31m     \u001b[0;32mreturn\u001b[0m \u001b[0m_read\u001b[0m\u001b[0;34m(\u001b[0m\u001b[0mfilepath_or_buffer\u001b[0m\u001b[0;34m,\u001b[0m \u001b[0mkwds\u001b[0m\u001b[0;34m)\u001b[0m\u001b[0;34m\u001b[0m\u001b[0;34m\u001b[0m\u001b[0m\n\u001b[0m\u001b[1;32m    587\u001b[0m \u001b[0;34m\u001b[0m\u001b[0m\n\u001b[1;32m    588\u001b[0m \u001b[0;34m\u001b[0m\u001b[0m\n",
            "\u001b[0;32m/usr/local/lib/python3.7/dist-packages/pandas/io/parsers/readers.py\u001b[0m in \u001b[0;36m_read\u001b[0;34m(filepath_or_buffer, kwds)\u001b[0m\n\u001b[1;32m    480\u001b[0m \u001b[0;34m\u001b[0m\u001b[0m\n\u001b[1;32m    481\u001b[0m     \u001b[0;31m# Create the parser.\u001b[0m\u001b[0;34m\u001b[0m\u001b[0;34m\u001b[0m\u001b[0;34m\u001b[0m\u001b[0m\n\u001b[0;32m--> 482\u001b[0;31m     \u001b[0mparser\u001b[0m \u001b[0;34m=\u001b[0m \u001b[0mTextFileReader\u001b[0m\u001b[0;34m(\u001b[0m\u001b[0mfilepath_or_buffer\u001b[0m\u001b[0;34m,\u001b[0m \u001b[0;34m**\u001b[0m\u001b[0mkwds\u001b[0m\u001b[0;34m)\u001b[0m\u001b[0;34m\u001b[0m\u001b[0;34m\u001b[0m\u001b[0m\n\u001b[0m\u001b[1;32m    483\u001b[0m \u001b[0;34m\u001b[0m\u001b[0m\n\u001b[1;32m    484\u001b[0m     \u001b[0;32mif\u001b[0m \u001b[0mchunksize\u001b[0m \u001b[0;32mor\u001b[0m \u001b[0miterator\u001b[0m\u001b[0;34m:\u001b[0m\u001b[0;34m\u001b[0m\u001b[0;34m\u001b[0m\u001b[0m\n",
            "\u001b[0;32m/usr/local/lib/python3.7/dist-packages/pandas/io/parsers/readers.py\u001b[0m in \u001b[0;36m__init__\u001b[0;34m(self, f, engine, **kwds)\u001b[0m\n\u001b[1;32m    809\u001b[0m             \u001b[0mself\u001b[0m\u001b[0;34m.\u001b[0m\u001b[0moptions\u001b[0m\u001b[0;34m[\u001b[0m\u001b[0;34m\"has_index_names\"\u001b[0m\u001b[0;34m]\u001b[0m \u001b[0;34m=\u001b[0m \u001b[0mkwds\u001b[0m\u001b[0;34m[\u001b[0m\u001b[0;34m\"has_index_names\"\u001b[0m\u001b[0;34m]\u001b[0m\u001b[0;34m\u001b[0m\u001b[0;34m\u001b[0m\u001b[0m\n\u001b[1;32m    810\u001b[0m \u001b[0;34m\u001b[0m\u001b[0m\n\u001b[0;32m--> 811\u001b[0;31m         \u001b[0mself\u001b[0m\u001b[0;34m.\u001b[0m\u001b[0m_engine\u001b[0m \u001b[0;34m=\u001b[0m \u001b[0mself\u001b[0m\u001b[0;34m.\u001b[0m\u001b[0m_make_engine\u001b[0m\u001b[0;34m(\u001b[0m\u001b[0mself\u001b[0m\u001b[0;34m.\u001b[0m\u001b[0mengine\u001b[0m\u001b[0;34m)\u001b[0m\u001b[0;34m\u001b[0m\u001b[0;34m\u001b[0m\u001b[0m\n\u001b[0m\u001b[1;32m    812\u001b[0m \u001b[0;34m\u001b[0m\u001b[0m\n\u001b[1;32m    813\u001b[0m     \u001b[0;32mdef\u001b[0m \u001b[0mclose\u001b[0m\u001b[0;34m(\u001b[0m\u001b[0mself\u001b[0m\u001b[0;34m)\u001b[0m\u001b[0;34m:\u001b[0m\u001b[0;34m\u001b[0m\u001b[0;34m\u001b[0m\u001b[0m\n",
            "\u001b[0;32m/usr/local/lib/python3.7/dist-packages/pandas/io/parsers/readers.py\u001b[0m in \u001b[0;36m_make_engine\u001b[0;34m(self, engine)\u001b[0m\n\u001b[1;32m   1038\u001b[0m             )\n\u001b[1;32m   1039\u001b[0m         \u001b[0;31m# error: Too many arguments for \"ParserBase\"\u001b[0m\u001b[0;34m\u001b[0m\u001b[0;34m\u001b[0m\u001b[0;34m\u001b[0m\u001b[0m\n\u001b[0;32m-> 1040\u001b[0;31m         \u001b[0;32mreturn\u001b[0m \u001b[0mmapping\u001b[0m\u001b[0;34m[\u001b[0m\u001b[0mengine\u001b[0m\u001b[0;34m]\u001b[0m\u001b[0;34m(\u001b[0m\u001b[0mself\u001b[0m\u001b[0;34m.\u001b[0m\u001b[0mf\u001b[0m\u001b[0;34m,\u001b[0m \u001b[0;34m**\u001b[0m\u001b[0mself\u001b[0m\u001b[0;34m.\u001b[0m\u001b[0moptions\u001b[0m\u001b[0;34m)\u001b[0m  \u001b[0;31m# type: ignore[call-arg]\u001b[0m\u001b[0;34m\u001b[0m\u001b[0;34m\u001b[0m\u001b[0m\n\u001b[0m\u001b[1;32m   1041\u001b[0m \u001b[0;34m\u001b[0m\u001b[0m\n\u001b[1;32m   1042\u001b[0m     \u001b[0;32mdef\u001b[0m \u001b[0m_failover_to_python\u001b[0m\u001b[0;34m(\u001b[0m\u001b[0mself\u001b[0m\u001b[0;34m)\u001b[0m\u001b[0;34m:\u001b[0m\u001b[0;34m\u001b[0m\u001b[0;34m\u001b[0m\u001b[0m\n",
            "\u001b[0;32m/usr/local/lib/python3.7/dist-packages/pandas/io/parsers/c_parser_wrapper.py\u001b[0m in \u001b[0;36m__init__\u001b[0;34m(self, src, **kwds)\u001b[0m\n\u001b[1;32m     49\u001b[0m \u001b[0;34m\u001b[0m\u001b[0m\n\u001b[1;32m     50\u001b[0m         \u001b[0;31m# open handles\u001b[0m\u001b[0;34m\u001b[0m\u001b[0;34m\u001b[0m\u001b[0;34m\u001b[0m\u001b[0m\n\u001b[0;32m---> 51\u001b[0;31m         \u001b[0mself\u001b[0m\u001b[0;34m.\u001b[0m\u001b[0m_open_handles\u001b[0m\u001b[0;34m(\u001b[0m\u001b[0msrc\u001b[0m\u001b[0;34m,\u001b[0m \u001b[0mkwds\u001b[0m\u001b[0;34m)\u001b[0m\u001b[0;34m\u001b[0m\u001b[0;34m\u001b[0m\u001b[0m\n\u001b[0m\u001b[1;32m     52\u001b[0m         \u001b[0;32massert\u001b[0m \u001b[0mself\u001b[0m\u001b[0;34m.\u001b[0m\u001b[0mhandles\u001b[0m \u001b[0;32mis\u001b[0m \u001b[0;32mnot\u001b[0m \u001b[0;32mNone\u001b[0m\u001b[0;34m\u001b[0m\u001b[0;34m\u001b[0m\u001b[0m\n\u001b[1;32m     53\u001b[0m \u001b[0;34m\u001b[0m\u001b[0m\n",
            "\u001b[0;32m/usr/local/lib/python3.7/dist-packages/pandas/io/parsers/base_parser.py\u001b[0m in \u001b[0;36m_open_handles\u001b[0;34m(self, src, kwds)\u001b[0m\n\u001b[1;32m    227\u001b[0m             \u001b[0mmemory_map\u001b[0m\u001b[0;34m=\u001b[0m\u001b[0mkwds\u001b[0m\u001b[0;34m.\u001b[0m\u001b[0mget\u001b[0m\u001b[0;34m(\u001b[0m\u001b[0;34m\"memory_map\"\u001b[0m\u001b[0;34m,\u001b[0m \u001b[0;32mFalse\u001b[0m\u001b[0;34m)\u001b[0m\u001b[0;34m,\u001b[0m\u001b[0;34m\u001b[0m\u001b[0;34m\u001b[0m\u001b[0m\n\u001b[1;32m    228\u001b[0m             \u001b[0mstorage_options\u001b[0m\u001b[0;34m=\u001b[0m\u001b[0mkwds\u001b[0m\u001b[0;34m.\u001b[0m\u001b[0mget\u001b[0m\u001b[0;34m(\u001b[0m\u001b[0;34m\"storage_options\"\u001b[0m\u001b[0;34m,\u001b[0m \u001b[0;32mNone\u001b[0m\u001b[0;34m)\u001b[0m\u001b[0;34m,\u001b[0m\u001b[0;34m\u001b[0m\u001b[0;34m\u001b[0m\u001b[0m\n\u001b[0;32m--> 229\u001b[0;31m             \u001b[0merrors\u001b[0m\u001b[0;34m=\u001b[0m\u001b[0mkwds\u001b[0m\u001b[0;34m.\u001b[0m\u001b[0mget\u001b[0m\u001b[0;34m(\u001b[0m\u001b[0;34m\"encoding_errors\"\u001b[0m\u001b[0;34m,\u001b[0m \u001b[0;34m\"strict\"\u001b[0m\u001b[0;34m)\u001b[0m\u001b[0;34m,\u001b[0m\u001b[0;34m\u001b[0m\u001b[0;34m\u001b[0m\u001b[0m\n\u001b[0m\u001b[1;32m    230\u001b[0m         )\n\u001b[1;32m    231\u001b[0m \u001b[0;34m\u001b[0m\u001b[0m\n",
            "\u001b[0;32m/usr/local/lib/python3.7/dist-packages/pandas/io/common.py\u001b[0m in \u001b[0;36mget_handle\u001b[0;34m(path_or_buf, mode, encoding, compression, memory_map, is_text, errors, storage_options)\u001b[0m\n\u001b[1;32m    705\u001b[0m                 \u001b[0mencoding\u001b[0m\u001b[0;34m=\u001b[0m\u001b[0mioargs\u001b[0m\u001b[0;34m.\u001b[0m\u001b[0mencoding\u001b[0m\u001b[0;34m,\u001b[0m\u001b[0;34m\u001b[0m\u001b[0;34m\u001b[0m\u001b[0m\n\u001b[1;32m    706\u001b[0m                 \u001b[0merrors\u001b[0m\u001b[0;34m=\u001b[0m\u001b[0merrors\u001b[0m\u001b[0;34m,\u001b[0m\u001b[0;34m\u001b[0m\u001b[0;34m\u001b[0m\u001b[0m\n\u001b[0;32m--> 707\u001b[0;31m                 \u001b[0mnewline\u001b[0m\u001b[0;34m=\u001b[0m\u001b[0;34m\"\"\u001b[0m\u001b[0;34m,\u001b[0m\u001b[0;34m\u001b[0m\u001b[0;34m\u001b[0m\u001b[0m\n\u001b[0m\u001b[1;32m    708\u001b[0m             )\n\u001b[1;32m    709\u001b[0m         \u001b[0;32melse\u001b[0m\u001b[0;34m:\u001b[0m\u001b[0;34m\u001b[0m\u001b[0;34m\u001b[0m\u001b[0m\n",
            "\u001b[0;31mFileNotFoundError\u001b[0m: [Errno 2] No such file or directory: '/content/opendata_project.csv'"
          ]
        }
      ]
    },
    {
      "cell_type": "code",
      "source": [
        "data0.head()"
      ],
      "metadata": {
        "id": "1gJbYRmfLjAK"
      },
      "execution_count": null,
      "outputs": []
    },
    {
      "cell_type": "code",
      "source": [
        "d = pd.read_csv('/content/opendata_unittype.csv')\n",
        "d.head()"
      ],
      "metadata": {
        "id": "zCgML63RUstr"
      },
      "execution_count": null,
      "outputs": []
    },
    {
      "cell_type": "markdown",
      "source": [
        "## link with google drive"
      ],
      "metadata": {
        "id": "UDTX6tv9Ox0v"
      }
    },
    {
      "cell_type": "code",
      "source": [
        "from google.colab import drive\n",
        "drive.mount('/content/drive')"
      ],
      "metadata": {
        "id": "9Wi2uEMDL2qH"
      },
      "execution_count": null,
      "outputs": []
    },
    {
      "cell_type": "code",
      "source": [
        "deta1 = pd.read_csv('/content/drive/MyDrive/BPDV65/opendata_unittype.csv')\n",
        "deta1.head()"
      ],
      "metadata": {
        "id": "m-UanLgnPuye"
      },
      "execution_count": null,
      "outputs": []
    },
    {
      "cell_type": "code",
      "source": [
        "deta1.tail(10)"
      ],
      "metadata": {
        "id": "CFaOPOzPQXjW"
      },
      "execution_count": null,
      "outputs": []
    },
    {
      "cell_type": "code",
      "source": [
        "deta1.shape"
      ],
      "metadata": {
        "id": "YyVu0S3kQak3"
      },
      "execution_count": null,
      "outputs": []
    },
    {
      "cell_type": "markdown",
      "source": [
        "## Explore data\n",
        "\n",
        "\n",
        "\n"
      ],
      "metadata": {
        "id": "o1KzMMFdV0Ui"
      }
    },
    {
      "cell_type": "code",
      "source": [
        "deta1.describe()"
      ],
      "metadata": {
        "id": "TKnfgPpHV7J8"
      },
      "execution_count": null,
      "outputs": []
    },
    {
      "cell_type": "code",
      "source": [
        "deta1.tail(10)"
      ],
      "metadata": {
        "id": "7jn92rcBczMt"
      },
      "execution_count": null,
      "outputs": []
    },
    {
      "cell_type": "markdown",
      "source": [
        " NaN = Not a Number"
      ],
      "metadata": {
        "id": "aToiG4iWdAMj"
      }
    },
    {
      "cell_type": "markdown",
      "source": [
        "## ชี้ค่าในตาราง (Indexing)"
      ],
      "metadata": {
        "id": "RmE0Xl39dqZS"
      }
    },
    {
      "cell_type": "code",
      "source": [
        "deta1['propertytype_name_en']"
      ],
      "metadata": {
        "id": "ptth_Xw5dZlb"
      },
      "execution_count": null,
      "outputs": []
    },
    {
      "cell_type": "code",
      "source": [
        "deta1['propertytype_name_en'][42619]    ## ชี้คอลัมน์ก่อนค่อยชี้แถว "
      ],
      "metadata": {
        "id": "OaENe8rGd_pH"
      },
      "execution_count": null,
      "outputs": []
    },
    {
      "cell_type": "markdown",
      "source": [
        ".iloc ชี้ได้เลยไม่ต้องชี้คอลัมน์ก่อน"
      ],
      "metadata": {
        "id": "BgUZ4yH4eN1R"
      }
    },
    {
      "cell_type": "code",
      "source": [
        "deta1.iloc[42619,5]"
      ],
      "metadata": {
        "id": "jOb_ZwBneHFt"
      },
      "execution_count": null,
      "outputs": []
    },
    {
      "cell_type": "code",
      "source": [
        "deta1.iloc[-6][5]"
      ],
      "metadata": {
        "id": "D5OORJ7BeXQG"
      },
      "execution_count": null,
      "outputs": []
    },
    {
      "cell_type": "markdown",
      "source": [
        "## Table Slicing (การเฉือน)"
      ],
      "metadata": {
        "id": "KIuBTs0Ve8RA"
      }
    },
    {
      "cell_type": "code",
      "source": [
        "deta1.iloc[-20:,7:10] ##เฉือนตารางได้แต่ไม่ได้ประสิทธิภาพ(ตอบคำถามไม่ได้มากเท่าไหร่)"
      ],
      "metadata": {
        "id": "FG_bGjUvew-g"
      },
      "execution_count": null,
      "outputs": []
    },
    {
      "cell_type": "markdown",
      "source": [
        "## Table Query\n"
      ],
      "metadata": {
        "id": "3R06imX7gJrS"
      }
    },
    {
      "cell_type": "code",
      "source": [
        "deta1[deta1['propertytype_name_en']=='Condo' ] ## ใช้ logical condition(เลือกเฉพาะตามเงื่อนไขที่เราใส่ลงไป เช่นเลือกในตารรางเท่ากับ condo) ในการเลือก"
      ],
      "metadata": {
        "id": "gYoOyUtKft2e"
      },
      "execution_count": null,
      "outputs": []
    },
    {
      "cell_type": "code",
      "source": [
        "deta1['propertytype_name_en']=='Conda'"
      ],
      "metadata": {
        "id": "OyGcPg2-hj8g"
      },
      "execution_count": null,
      "outputs": []
    },
    {
      "cell_type": "markdown",
      "source": [
        "หาพื้นที่เฉลี่ยของบ้านที่ราคาเกิน 1,000,000\n",
        "\n",
        "\n",
        "\n"
      ],
      "metadata": {
        "id": "Kn4VB38Lhm6f"
      }
    },
    {
      "cell_type": "code",
      "source": [
        "deta1[deta1['price_min']>10000000]"
      ],
      "metadata": {
        "id": "FXoBnAngg4eh"
      },
      "execution_count": null,
      "outputs": []
    },
    {
      "cell_type": "code",
      "source": [
        "deta1[deta1['price_min']>10000000].describe()"
      ],
      "metadata": {
        "id": "KVcNETBdhT3J"
      },
      "execution_count": null,
      "outputs": []
    },
    {
      "cell_type": "markdown",
      "source": [
        "# Quiz 4\n",
        "1. ราคาเฉลี่ยของบ้านนที่มีราคาระหว่าง 3-5 ล้านบาท\n",
        "2. พื้นที่ของ และ จำนวนห้องนอนของบ้านที่แพงที่สุด\n",
        "3. จำนวนที่จอดรถและห้องน้ำของบ้านที่ถูกที่สุด\n",
        "4. ชนิดขอบ้านที่แพงที่สุด\n",
        "5. บ้านชนิดไหนมีปริมาณมากที่สุด"
      ],
      "metadata": {
        "id": "JzIB6MGwiPpv"
      }
    },
    {
      "cell_type": "markdown",
      "source": [
        "## 1 ราคาเฉลี่ยของบ้านที่มีราคาระหว่าง 3-5 ล้านบาท"
      ],
      "metadata": {
        "id": "tNsqKKVs-IIE"
      }
    },
    {
      "cell_type": "code",
      "source": [
        "deta1[(deta1['price_min']>=3000000) & (deta1['price_min']<=5000000)]"
      ],
      "metadata": {
        "id": "dXclJKD7-QCB",
        "outputId": "6140a2cc-355c-436b-8147-fb13511017aa",
        "colab": {
          "base_uri": "https://localhost:8080/",
          "height": 166
        }
      },
      "execution_count": 10,
      "outputs": [
        {
          "output_type": "error",
          "ename": "NameError",
          "evalue": "ignored",
          "traceback": [
            "\u001b[0;31m---------------------------------------------------------------------------\u001b[0m",
            "\u001b[0;31mNameError\u001b[0m                                 Traceback (most recent call last)",
            "\u001b[0;32m<ipython-input-10-df93dc7e107b>\u001b[0m in \u001b[0;36m<module>\u001b[0;34m\u001b[0m\n\u001b[0;32m----> 1\u001b[0;31m \u001b[0mdeta1\u001b[0m\u001b[0;34m[\u001b[0m\u001b[0;34m(\u001b[0m\u001b[0mdeta1\u001b[0m\u001b[0;34m[\u001b[0m\u001b[0;34m'price_min'\u001b[0m\u001b[0;34m]\u001b[0m\u001b[0;34m>=\u001b[0m\u001b[0;36m3000000\u001b[0m\u001b[0;34m)\u001b[0m \u001b[0;34m&\u001b[0m \u001b[0;34m(\u001b[0m\u001b[0mdeta1\u001b[0m\u001b[0;34m[\u001b[0m\u001b[0;34m'price_min'\u001b[0m\u001b[0;34m]\u001b[0m\u001b[0;34m<=\u001b[0m\u001b[0;36m5000000\u001b[0m\u001b[0;34m)\u001b[0m\u001b[0;34m]\u001b[0m\u001b[0;34m\u001b[0m\u001b[0;34m\u001b[0m\u001b[0m\n\u001b[0m",
            "\u001b[0;31mNameError\u001b[0m: name 'deta1' is not defined"
          ]
        }
      ]
    },
    {
      "cell_type": "code",
      "source": [
        "deta1[(data1['price_min']>=3000000) & (data1['price_min']<=5000000)].describe()"
      ],
      "metadata": {
        "id": "G272TcN9-UZD"
      },
      "execution_count": null,
      "outputs": []
    },
    {
      "cell_type": "code",
      "source": [
        "price_mean = data1[(data1['price_min']>=3000000) & (data1['price_min']<=5000000)]['price_min'].mean()"
      ],
      "metadata": {
        "id": "iKeULL5Q-X-p"
      },
      "execution_count": null,
      "outputs": []
    },
    {
      "cell_type": "markdown",
      "source": [
        "## 2 พื้นที่ และ จำนวนห้องนอนของบ้านที่แพงที่สุด"
      ],
      "metadata": {
        "id": "iIVzC5qT_CFQ"
      }
    },
    {
      "cell_type": "code",
      "source": [
        "data1['price_min'].max()"
      ],
      "metadata": {
        "id": "8PJlh6RvlmOV",
        "outputId": "8b6562e2-95a7-4215-97d6-7c1a42d8ec2f",
        "colab": {
          "base_uri": "https://localhost:8080/",
          "height": 166
        }
      },
      "execution_count": 11,
      "outputs": [
        {
          "output_type": "error",
          "ename": "NameError",
          "evalue": "ignored",
          "traceback": [
            "\u001b[0;31m---------------------------------------------------------------------------\u001b[0m",
            "\u001b[0;31mNameError\u001b[0m                                 Traceback (most recent call last)",
            "\u001b[0;32m<ipython-input-11-67e475c54844>\u001b[0m in \u001b[0;36m<module>\u001b[0;34m\u001b[0m\n\u001b[0;32m----> 1\u001b[0;31m \u001b[0mdata1\u001b[0m\u001b[0;34m[\u001b[0m\u001b[0;34m'price_min'\u001b[0m\u001b[0;34m]\u001b[0m\u001b[0;34m.\u001b[0m\u001b[0mmax\u001b[0m\u001b[0;34m(\u001b[0m\u001b[0;34m)\u001b[0m\u001b[0;34m\u001b[0m\u001b[0;34m\u001b[0m\u001b[0m\n\u001b[0m",
            "\u001b[0;31mNameError\u001b[0m: name 'data1' is not defined"
          ]
        }
      ]
    },
    {
      "cell_type": "code",
      "source": [
        "data1[data1['price_min']==data1['price_min'].max()]"
      ],
      "metadata": {
        "id": "o00VCaz5_GNQ",
        "outputId": "84089742-10e4-45fa-bc70-457ae22ec6a0",
        "colab": {
          "base_uri": "https://localhost:8080/",
          "height": 166
        }
      },
      "execution_count": 12,
      "outputs": [
        {
          "output_type": "error",
          "ename": "NameError",
          "evalue": "ignored",
          "traceback": [
            "\u001b[0;31m---------------------------------------------------------------------------\u001b[0m",
            "\u001b[0;31mNameError\u001b[0m                                 Traceback (most recent call last)",
            "\u001b[0;32m<ipython-input-12-2b8b08eacd53>\u001b[0m in \u001b[0;36m<module>\u001b[0;34m\u001b[0m\n\u001b[0;32m----> 1\u001b[0;31m \u001b[0mdata1\u001b[0m\u001b[0;34m[\u001b[0m\u001b[0mdata1\u001b[0m\u001b[0;34m[\u001b[0m\u001b[0;34m'price_min'\u001b[0m\u001b[0;34m]\u001b[0m\u001b[0;34m==\u001b[0m\u001b[0mdata1\u001b[0m\u001b[0;34m[\u001b[0m\u001b[0;34m'price_min'\u001b[0m\u001b[0;34m]\u001b[0m\u001b[0;34m.\u001b[0m\u001b[0mmax\u001b[0m\u001b[0;34m(\u001b[0m\u001b[0;34m)\u001b[0m\u001b[0;34m]\u001b[0m\u001b[0;34m\u001b[0m\u001b[0;34m\u001b[0m\u001b[0m\n\u001b[0m",
            "\u001b[0;31mNameError\u001b[0m: name 'data1' is not defined"
          ]
        }
      ]
    },
    {
      "cell_type": "code",
      "source": [
        "data1[data1['price_min']==data1['price_min'].max()][['propertytype_name_en','area_usable_min','count_room_bed','price_min']]"
      ],
      "metadata": {
        "id": "2rOQsLJA_HXB",
        "outputId": "53d599f0-ad4e-457d-9d1f-0808583a84d2",
        "colab": {
          "base_uri": "https://localhost:8080/",
          "height": 166
        }
      },
      "execution_count": 13,
      "outputs": [
        {
          "output_type": "error",
          "ename": "NameError",
          "evalue": "ignored",
          "traceback": [
            "\u001b[0;31m---------------------------------------------------------------------------\u001b[0m",
            "\u001b[0;31mNameError\u001b[0m                                 Traceback (most recent call last)",
            "\u001b[0;32m<ipython-input-13-ac30a9cda09f>\u001b[0m in \u001b[0;36m<module>\u001b[0;34m\u001b[0m\n\u001b[0;32m----> 1\u001b[0;31m \u001b[0mdata1\u001b[0m\u001b[0;34m[\u001b[0m\u001b[0mdata1\u001b[0m\u001b[0;34m[\u001b[0m\u001b[0;34m'price_min'\u001b[0m\u001b[0;34m]\u001b[0m\u001b[0;34m==\u001b[0m\u001b[0mdata1\u001b[0m\u001b[0;34m[\u001b[0m\u001b[0;34m'price_min'\u001b[0m\u001b[0;34m]\u001b[0m\u001b[0;34m.\u001b[0m\u001b[0mmax\u001b[0m\u001b[0;34m(\u001b[0m\u001b[0;34m)\u001b[0m\u001b[0;34m]\u001b[0m\u001b[0;34m[\u001b[0m\u001b[0;34m[\u001b[0m\u001b[0;34m'propertytype_name_en'\u001b[0m\u001b[0;34m,\u001b[0m\u001b[0;34m'area_usable_min'\u001b[0m\u001b[0;34m,\u001b[0m\u001b[0;34m'count_room_bed'\u001b[0m\u001b[0;34m,\u001b[0m\u001b[0;34m'price_min'\u001b[0m\u001b[0;34m]\u001b[0m\u001b[0;34m]\u001b[0m\u001b[0;34m\u001b[0m\u001b[0;34m\u001b[0m\u001b[0m\n\u001b[0m",
            "\u001b[0;31mNameError\u001b[0m: name 'data1' is not defined"
          ]
        }
      ]
    },
    {
      "cell_type": "markdown",
      "source": [
        "## 3. จำนวนที่จอดรถและห้องน้ำของบ้านที่ถูกที่สุด"
      ],
      "metadata": {
        "id": "qCbUZR9L_Kcg"
      }
    },
    {
      "cell_type": "code",
      "source": [
        "data1[data1['price_min']==data1['price_min'].min()][\n",
        "    ['propertytype_name_en',\n",
        "     'count_room_bath',\n",
        "     'count_parking',\n",
        "     'price_min']]"
      ],
      "metadata": {
        "id": "tp0Lpm1a_JuA",
        "outputId": "ef9454d4-4e13-410c-fb36-f3b9bf54186c",
        "colab": {
          "base_uri": "https://localhost:8080/",
          "height": 236
        }
      },
      "execution_count": 14,
      "outputs": [
        {
          "output_type": "error",
          "ename": "NameError",
          "evalue": "ignored",
          "traceback": [
            "\u001b[0;31m---------------------------------------------------------------------------\u001b[0m",
            "\u001b[0;31mNameError\u001b[0m                                 Traceback (most recent call last)",
            "\u001b[0;32m<ipython-input-14-28a267b2cb48>\u001b[0m in \u001b[0;36m<module>\u001b[0;34m\u001b[0m\n\u001b[0;32m----> 1\u001b[0;31m data1[data1['price_min']==data1['price_min'].min()][\n\u001b[0m\u001b[1;32m      2\u001b[0m     ['propertytype_name_en',\n\u001b[1;32m      3\u001b[0m      \u001b[0;34m'count_room_bath'\u001b[0m\u001b[0;34m,\u001b[0m\u001b[0;34m\u001b[0m\u001b[0;34m\u001b[0m\u001b[0m\n\u001b[1;32m      4\u001b[0m      \u001b[0;34m'count_parking'\u001b[0m\u001b[0;34m,\u001b[0m\u001b[0;34m\u001b[0m\u001b[0;34m\u001b[0m\u001b[0m\n\u001b[1;32m      5\u001b[0m      'price_min']]\n",
            "\u001b[0;31mNameError\u001b[0m: name 'data1' is not defined"
          ]
        }
      ]
    },
    {
      "cell_type": "markdown",
      "source": [
        "## 4. ชนิดของบ้านที่แพงที่สุด"
      ],
      "metadata": {
        "id": "rGaIoDnl_Owi"
      }
    },
    {
      "cell_type": "code",
      "source": [
        "data1[data1['price_min']==data1['price_min'].max()][['propertytype_name_en','price_min']]"
      ],
      "metadata": {
        "id": "DfLUexDQ_NvN",
        "outputId": "31bd6769-edd4-46e6-acd6-494bc57f49d8",
        "colab": {
          "base_uri": "https://localhost:8080/",
          "height": 166
        }
      },
      "execution_count": 15,
      "outputs": [
        {
          "output_type": "error",
          "ename": "NameError",
          "evalue": "ignored",
          "traceback": [
            "\u001b[0;31m---------------------------------------------------------------------------\u001b[0m",
            "\u001b[0;31mNameError\u001b[0m                                 Traceback (most recent call last)",
            "\u001b[0;32m<ipython-input-15-cea418a5db39>\u001b[0m in \u001b[0;36m<module>\u001b[0;34m\u001b[0m\n\u001b[0;32m----> 1\u001b[0;31m \u001b[0mdata1\u001b[0m\u001b[0;34m[\u001b[0m\u001b[0mdata1\u001b[0m\u001b[0;34m[\u001b[0m\u001b[0;34m'price_min'\u001b[0m\u001b[0;34m]\u001b[0m\u001b[0;34m==\u001b[0m\u001b[0mdata1\u001b[0m\u001b[0;34m[\u001b[0m\u001b[0;34m'price_min'\u001b[0m\u001b[0;34m]\u001b[0m\u001b[0;34m.\u001b[0m\u001b[0mmax\u001b[0m\u001b[0;34m(\u001b[0m\u001b[0;34m)\u001b[0m\u001b[0;34m]\u001b[0m\u001b[0;34m[\u001b[0m\u001b[0;34m[\u001b[0m\u001b[0;34m'propertytype_name_en'\u001b[0m\u001b[0;34m,\u001b[0m\u001b[0;34m'price_min'\u001b[0m\u001b[0;34m]\u001b[0m\u001b[0;34m]\u001b[0m\u001b[0;34m\u001b[0m\u001b[0;34m\u001b[0m\u001b[0m\n\u001b[0m",
            "\u001b[0;31mNameError\u001b[0m: name 'data1' is not defined"
          ]
        }
      ]
    },
    {
      "cell_type": "markdown",
      "source": [
        "## 5. บ้านชนิดไหนมีปริมาณมากที่สุด"
      ],
      "metadata": {
        "id": "hvPStPE5_T0o"
      }
    },
    {
      "cell_type": "code",
      "source": [
        "data1['propertytype_name_en'].describe()"
      ],
      "metadata": {
        "id": "b3WqTkkg_ShN",
        "outputId": "5c8fc4f3-4aa8-4e1f-f89c-1b2021ea54a3",
        "colab": {
          "base_uri": "https://localhost:8080/",
          "height": 166
        }
      },
      "execution_count": 16,
      "outputs": [
        {
          "output_type": "error",
          "ename": "NameError",
          "evalue": "ignored",
          "traceback": [
            "\u001b[0;31m---------------------------------------------------------------------------\u001b[0m",
            "\u001b[0;31mNameError\u001b[0m                                 Traceback (most recent call last)",
            "\u001b[0;32m<ipython-input-16-a4f83c2eb61c>\u001b[0m in \u001b[0;36m<module>\u001b[0;34m\u001b[0m\n\u001b[0;32m----> 1\u001b[0;31m \u001b[0mdata1\u001b[0m\u001b[0;34m[\u001b[0m\u001b[0;34m'propertytype_name_en'\u001b[0m\u001b[0;34m]\u001b[0m\u001b[0;34m.\u001b[0m\u001b[0mdescribe\u001b[0m\u001b[0;34m(\u001b[0m\u001b[0;34m)\u001b[0m\u001b[0;34m\u001b[0m\u001b[0;34m\u001b[0m\u001b[0m\n\u001b[0m",
            "\u001b[0;31mNameError\u001b[0m: name 'data1' is not defined"
          ]
        }
      ]
    },
    {
      "cell_type": "markdown",
      "source": [
        "# Eye balling data"
      ],
      "metadata": {
        "id": "xV458M0d_XWL"
      }
    },
    {
      "cell_type": "markdown",
      "source": [
        "## box plot\n",
        "![1*2c21SkzJMf3frPXPAR_gZA-3.png](data:image/png;base64,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)"
      ],
      "metadata": {
        "id": "Q6HHZeOt_h2z"
      }
    },
    {
      "cell_type": "code",
      "source": [
        "from matplotlib import pyplot as plt"
      ],
      "metadata": {
        "id": "8oawszDa_WAq"
      },
      "execution_count": 17,
      "outputs": []
    },
    {
      "cell_type": "code",
      "source": [
        "plt.boxplot(data1[data1['propertytype_name_th']=='บ้าน']['count_room_bed'].dropna(),vert=False) #dropna() คือ ลบค่าที่ว่างทิ้ง"
      ],
      "metadata": {
        "id": "wjA5g-mV_mLx",
        "outputId": "22d51198-de3d-4a8d-9f97-d81aa919172a",
        "colab": {
          "base_uri": "https://localhost:8080/",
          "height": 166
        }
      },
      "execution_count": 18,
      "outputs": [
        {
          "output_type": "error",
          "ename": "NameError",
          "evalue": "ignored",
          "traceback": [
            "\u001b[0;31m---------------------------------------------------------------------------\u001b[0m",
            "\u001b[0;31mNameError\u001b[0m                                 Traceback (most recent call last)",
            "\u001b[0;32m<ipython-input-18-085e1921add8>\u001b[0m in \u001b[0;36m<module>\u001b[0;34m\u001b[0m\n\u001b[0;32m----> 1\u001b[0;31m \u001b[0mplt\u001b[0m\u001b[0;34m.\u001b[0m\u001b[0mboxplot\u001b[0m\u001b[0;34m(\u001b[0m\u001b[0mdata1\u001b[0m\u001b[0;34m[\u001b[0m\u001b[0mdata1\u001b[0m\u001b[0;34m[\u001b[0m\u001b[0;34m'propertytype_name_th'\u001b[0m\u001b[0;34m]\u001b[0m\u001b[0;34m==\u001b[0m\u001b[0;34m'บ้าน'\u001b[0m\u001b[0;34m]\u001b[0m\u001b[0;34m[\u001b[0m\u001b[0;34m'count_room_bed'\u001b[0m\u001b[0;34m]\u001b[0m\u001b[0;34m.\u001b[0m\u001b[0mdropna\u001b[0m\u001b[0;34m(\u001b[0m\u001b[0;34m)\u001b[0m\u001b[0;34m,\u001b[0m\u001b[0mvert\u001b[0m\u001b[0;34m=\u001b[0m\u001b[0;32mFalse\u001b[0m\u001b[0;34m)\u001b[0m \u001b[0;31m#dropna() คือ ลบค่าที่ว่างทิ้ง\u001b[0m\u001b[0;34m\u001b[0m\u001b[0;34m\u001b[0m\u001b[0m\n\u001b[0m",
            "\u001b[0;31mNameError\u001b[0m: name 'data1' is not defined"
          ]
        }
      ]
    },
    {
      "cell_type": "code",
      "source": [
        "plt.hist(data1['propertytype_name_en'])\n",
        "plt.xticks(rotation='vertical')"
      ],
      "metadata": {
        "id": "3leMFqfR_oDr",
        "outputId": "d24215ca-cd32-4a6f-99b6-73a6e25eca59",
        "colab": {
          "base_uri": "https://localhost:8080/",
          "height": 184
        }
      },
      "execution_count": 19,
      "outputs": [
        {
          "output_type": "error",
          "ename": "NameError",
          "evalue": "ignored",
          "traceback": [
            "\u001b[0;31m---------------------------------------------------------------------------\u001b[0m",
            "\u001b[0;31mNameError\u001b[0m                                 Traceback (most recent call last)",
            "\u001b[0;32m<ipython-input-19-aab049c7092d>\u001b[0m in \u001b[0;36m<module>\u001b[0;34m\u001b[0m\n\u001b[0;32m----> 1\u001b[0;31m \u001b[0mplt\u001b[0m\u001b[0;34m.\u001b[0m\u001b[0mhist\u001b[0m\u001b[0;34m(\u001b[0m\u001b[0mdata1\u001b[0m\u001b[0;34m[\u001b[0m\u001b[0;34m'propertytype_name_en'\u001b[0m\u001b[0;34m]\u001b[0m\u001b[0;34m)\u001b[0m\u001b[0;34m\u001b[0m\u001b[0;34m\u001b[0m\u001b[0m\n\u001b[0m\u001b[1;32m      2\u001b[0m \u001b[0mplt\u001b[0m\u001b[0;34m.\u001b[0m\u001b[0mxticks\u001b[0m\u001b[0;34m(\u001b[0m\u001b[0mrotation\u001b[0m\u001b[0;34m=\u001b[0m\u001b[0;34m'vertical'\u001b[0m\u001b[0;34m)\u001b[0m\u001b[0;34m\u001b[0m\u001b[0;34m\u001b[0m\u001b[0m\n",
            "\u001b[0;31mNameError\u001b[0m: name 'data1' is not defined"
          ]
        }
      ]
    },
    {
      "cell_type": "code",
      "source": [
        "plt.hist(data1['date_created'])\n",
        "plt.xticks(rotation='vertical')"
      ],
      "metadata": {
        "id": "VTlOAB48_pt1",
        "outputId": "277676bd-4020-49b6-aeb8-e2399ff22172",
        "colab": {
          "base_uri": "https://localhost:8080/",
          "height": 184
        }
      },
      "execution_count": 20,
      "outputs": [
        {
          "output_type": "error",
          "ename": "NameError",
          "evalue": "ignored",
          "traceback": [
            "\u001b[0;31m---------------------------------------------------------------------------\u001b[0m",
            "\u001b[0;31mNameError\u001b[0m                                 Traceback (most recent call last)",
            "\u001b[0;32m<ipython-input-20-f6698e3617fa>\u001b[0m in \u001b[0;36m<module>\u001b[0;34m\u001b[0m\n\u001b[0;32m----> 1\u001b[0;31m \u001b[0mplt\u001b[0m\u001b[0;34m.\u001b[0m\u001b[0mhist\u001b[0m\u001b[0;34m(\u001b[0m\u001b[0mdata1\u001b[0m\u001b[0;34m[\u001b[0m\u001b[0;34m'date_created'\u001b[0m\u001b[0;34m]\u001b[0m\u001b[0;34m)\u001b[0m\u001b[0;34m\u001b[0m\u001b[0;34m\u001b[0m\u001b[0m\n\u001b[0m\u001b[1;32m      2\u001b[0m \u001b[0mplt\u001b[0m\u001b[0;34m.\u001b[0m\u001b[0mxticks\u001b[0m\u001b[0;34m(\u001b[0m\u001b[0mrotation\u001b[0m\u001b[0;34m=\u001b[0m\u001b[0;34m'vertical'\u001b[0m\u001b[0;34m)\u001b[0m\u001b[0;34m\u001b[0m\u001b[0;34m\u001b[0m\u001b[0m\n",
            "\u001b[0;31mNameError\u001b[0m: name 'data1' is not defined"
          ]
        }
      ]
    },
    {
      "cell_type": "code",
      "source": [],
      "metadata": {
        "id": "HD3R_GpU_rFH"
      },
      "execution_count": null,
      "outputs": []
    }
  ]
}