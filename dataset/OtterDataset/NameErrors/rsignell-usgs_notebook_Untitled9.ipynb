{
 "cells": [
  {
   "cell_type": "code",
   "execution_count": 1,
   "metadata": {
    "collapsed": true
   },
   "outputs": [],
   "source": [
    "from lxml import etree"
   ]
  },
  {
   "cell_type": "code",
   "execution_count": 2,
   "metadata": {
    "collapsed": true
   },
   "outputs": [],
   "source": [
    "tree = etree.parse('c:/users/rsignell/downloads/00_dir_ROMS_display.ncml')"
   ]
  },
  {
   "cell_type": "code",
   "execution_count": 3,
   "metadata": {
    "collapsed": false
   },
   "outputs": [
    {
     "data": {
      "text/plain": [
       "<lxml.etree._ElementTree at 0x3c2a088>"
      ]
     },
     "execution_count": 3,
     "metadata": {},
     "output_type": "execute_result"
    }
   ],
   "source": [
    "tree"
   ]
  },
  {
   "cell_type": "code",
   "execution_count": 4,
   "metadata": {
    "collapsed": false
   },
   "outputs": [],
   "source": [
    "root = tree.getroot()"
   ]
  },
  {
   "cell_type": "code",
   "execution_count": 5,
   "metadata": {
    "collapsed": false
   },
   "outputs": [],
   "source": [
    "var = etree.SubElement(root, \"{http://www.unidata.ucar.edu/namespaces/netcdf/ncml-2.2}variable1\")\n",
    "var.set('name','salt')\n",
    "a = etree.SubElement(var,'attribute')\n",
    "a.set('name','standard_name')\n",
    "a.set('value','time')"
   ]
  },
  {
   "cell_type": "code",
   "execution_count": 6,
   "metadata": {
    "collapsed": true
   },
   "outputs": [],
   "source": [
    "var = etree.SubElement(root, \"{http://www.unidata.ucar.edu/namespaces/netcdf/ncml-2.2}variable2\",name='temp')\n",
    "a = etree.SubElement(var,'attribute',name='standard_name',value='time')"
   ]
  },
  {
   "cell_type": "code",
   "execution_count": 7,
   "metadata": {
    "collapsed": false
   },
   "outputs": [],
   "source": [
    "var = etree.SubElement(root, \"{http://www.unidata.ucar.edu/namespaces/netcdf/ncml-2.2}variable3\",name='u')\n",
    "kw = dict(name='standard_name', value='time')\n",
    "a = etree.SubElement(var,'attribute',**kw)"
   ]
  },
  {
   "cell_type": "code",
   "execution_count": 8,
   "metadata": {
    "collapsed": false
   },
   "outputs": [],
   "source": [
    "tree.write('foo.ncml')"
   ]
  },
  {
   "cell_type": "code",
   "execution_count": 7,
   "metadata": {
    "collapsed": false
   },
   "outputs": [
    {
     "name": "stdout",
     "output_type": "stream",
     "text": [
      "{http://www.unidata.ucar.edu/namespaces/netcdf/ncml-2.2}attribute\n",
      "{http://www.unidata.ucar.edu/namespaces/netcdf/ncml-2.2}attribute\n",
      "{http://www.unidata.ucar.edu/namespaces/netcdf/ncml-2.2}attribute\n",
      "{http://www.unidata.ucar.edu/namespaces/netcdf/ncml-2.2}attribute\n",
      "{http://www.unidata.ucar.edu/namespaces/netcdf/ncml-2.2}attribute\n",
      "{http://www.unidata.ucar.edu/namespaces/netcdf/ncml-2.2}attribute\n",
      "{http://www.unidata.ucar.edu/namespaces/netcdf/ncml-2.2}attribute\n",
      "{http://www.unidata.ucar.edu/namespaces/netcdf/ncml-2.2}attribute\n",
      "{http://www.unidata.ucar.edu/namespaces/netcdf/ncml-2.2}attribute\n",
      "{http://www.unidata.ucar.edu/namespaces/netcdf/ncml-2.2}attribute\n",
      "{http://www.unidata.ucar.edu/namespaces/netcdf/ncml-2.2}attribute\n",
      "{http://www.unidata.ucar.edu/namespaces/netcdf/ncml-2.2}attribute\n",
      "{http://www.unidata.ucar.edu/namespaces/netcdf/ncml-2.2}attribute\n",
      "{http://www.unidata.ucar.edu/namespaces/netcdf/ncml-2.2}attribute\n",
      "{http://www.unidata.ucar.edu/namespaces/netcdf/ncml-2.2}attribute\n",
      "{http://www.unidata.ucar.edu/namespaces/netcdf/ncml-2.2}attribute\n",
      "{http://www.unidata.ucar.edu/namespaces/netcdf/ncml-2.2}attribute\n",
      "{http://www.unidata.ucar.edu/namespaces/netcdf/ncml-2.2}attribute\n",
      "{http://www.unidata.ucar.edu/namespaces/netcdf/ncml-2.2}variable\n",
      "{http://www.unidata.ucar.edu/namespaces/netcdf/ncml-2.2}variable\n",
      "{http://www.unidata.ucar.edu/namespaces/netcdf/ncml-2.2}variable\n",
      "{http://www.unidata.ucar.edu/namespaces/netcdf/ncml-2.2}variable\n",
      "{http://www.unidata.ucar.edu/namespaces/netcdf/ncml-2.2}variable\n",
      "{http://www.unidata.ucar.edu/namespaces/netcdf/ncml-2.2}variable\n",
      "{http://www.unidata.ucar.edu/namespaces/netcdf/ncml-2.2}variable\n",
      "{http://www.unidata.ucar.edu/namespaces/netcdf/ncml-2.2}variable\n",
      "{http://www.unidata.ucar.edu/namespaces/netcdf/ncml-2.2}variable\n",
      "{http://www.unidata.ucar.edu/namespaces/netcdf/ncml-2.2}variable\n",
      "{http://www.unidata.ucar.edu/namespaces/netcdf/ncml-2.2}variable\n",
      "{http://www.unidata.ucar.edu/namespaces/netcdf/ncml-2.2}variable\n",
      "{http://www.unidata.ucar.edu/namespaces/netcdf/ncml-2.2}variable\n",
      "{http://www.unidata.ucar.edu/namespaces/netcdf/ncml-2.2}variable\n",
      "{http://www.unidata.ucar.edu/namespaces/netcdf/ncml-2.2}variable\n",
      "{http://www.unidata.ucar.edu/namespaces/netcdf/ncml-2.2}variable\n",
      "{http://www.unidata.ucar.edu/namespaces/netcdf/ncml-2.2}variable\n",
      "{http://www.unidata.ucar.edu/namespaces/netcdf/ncml-2.2}variable\n",
      "{http://www.unidata.ucar.edu/namespaces/netcdf/ncml-2.2}variable\n",
      "{http://www.unidata.ucar.edu/namespaces/netcdf/ncml-2.2}variable\n",
      "{http://www.unidata.ucar.edu/namespaces/netcdf/ncml-2.2}variable\n",
      "{http://www.unidata.ucar.edu/namespaces/netcdf/ncml-2.2}variable\n",
      "{http://www.unidata.ucar.edu/namespaces/netcdf/ncml-2.2}variable\n",
      "{http://www.unidata.ucar.edu/namespaces/netcdf/ncml-2.2}variable\n",
      "{http://www.unidata.ucar.edu/namespaces/netcdf/ncml-2.2}variable\n",
      "{http://www.unidata.ucar.edu/namespaces/netcdf/ncml-2.2}variable\n",
      "{http://www.unidata.ucar.edu/namespaces/netcdf/ncml-2.2}variable\n",
      "{http://www.unidata.ucar.edu/namespaces/netcdf/ncml-2.2}variable\n",
      "{http://www.unidata.ucar.edu/namespaces/netcdf/ncml-2.2}variable\n",
      "{http://www.unidata.ucar.edu/namespaces/netcdf/ncml-2.2}variable\n",
      "{http://www.unidata.ucar.edu/namespaces/netcdf/ncml-2.2}variable\n",
      "{http://www.unidata.ucar.edu/namespaces/netcdf/ncml-2.2}variable\n",
      "{http://www.unidata.ucar.edu/namespaces/netcdf/ncml-2.2}variable\n",
      "{http://www.unidata.ucar.edu/namespaces/netcdf/ncml-2.2}variable\n",
      "{http://www.unidata.ucar.edu/namespaces/netcdf/ncml-2.2}variable\n",
      "{http://www.unidata.ucar.edu/namespaces/netcdf/ncml-2.2}variable\n",
      "{http://www.unidata.ucar.edu/namespaces/netcdf/ncml-2.2}variable\n",
      "{http://www.unidata.ucar.edu/namespaces/netcdf/ncml-2.2}variable\n",
      "{http://www.unidata.ucar.edu/namespaces/netcdf/ncml-2.2}variable\n",
      "{http://www.unidata.ucar.edu/namespaces/netcdf/ncml-2.2}variable\n",
      "{http://www.unidata.ucar.edu/namespaces/netcdf/ncml-2.2}variable\n",
      "{http://www.unidata.ucar.edu/namespaces/netcdf/ncml-2.2}variable\n",
      "{http://www.unidata.ucar.edu/namespaces/netcdf/ncml-2.2}variable\n",
      "{http://www.unidata.ucar.edu/namespaces/netcdf/ncml-2.2}variable\n",
      "{http://www.unidata.ucar.edu/namespaces/netcdf/ncml-2.2}variable\n",
      "{http://www.unidata.ucar.edu/namespaces/netcdf/ncml-2.2}variable\n",
      "{http://www.unidata.ucar.edu/namespaces/netcdf/ncml-2.2}variable\n",
      "{http://www.unidata.ucar.edu/namespaces/netcdf/ncml-2.2}variable\n",
      "{http://www.unidata.ucar.edu/namespaces/netcdf/ncml-2.2}variable\n",
      "{http://www.unidata.ucar.edu/namespaces/netcdf/ncml-2.2}variable\n",
      "{http://www.unidata.ucar.edu/namespaces/netcdf/ncml-2.2}variable\n",
      "{http://www.unidata.ucar.edu/namespaces/netcdf/ncml-2.2}variable\n",
      "{http://www.unidata.ucar.edu/namespaces/netcdf/ncml-2.2}variable\n",
      "{http://www.unidata.ucar.edu/namespaces/netcdf/ncml-2.2}variable\n",
      "{http://www.unidata.ucar.edu/namespaces/netcdf/ncml-2.2}variable\n",
      "{http://www.unidata.ucar.edu/namespaces/netcdf/ncml-2.2}variable\n",
      "{http://www.unidata.ucar.edu/namespaces/netcdf/ncml-2.2}variable\n",
      "{http://www.unidata.ucar.edu/namespaces/netcdf/ncml-2.2}variable\n",
      "{http://www.unidata.ucar.edu/namespaces/netcdf/ncml-2.2}variable\n",
      "{http://www.unidata.ucar.edu/namespaces/netcdf/ncml-2.2}variable\n",
      "{http://www.unidata.ucar.edu/namespaces/netcdf/ncml-2.2}variable\n",
      "{http://www.unidata.ucar.edu/namespaces/netcdf/ncml-2.2}variable\n",
      "{http://www.unidata.ucar.edu/namespaces/netcdf/ncml-2.2}variable\n",
      "{http://www.unidata.ucar.edu/namespaces/netcdf/ncml-2.2}variable\n",
      "{http://www.unidata.ucar.edu/namespaces/netcdf/ncml-2.2}variable\n",
      "{http://www.unidata.ucar.edu/namespaces/netcdf/ncml-2.2}variable\n",
      "{http://www.unidata.ucar.edu/namespaces/netcdf/ncml-2.2}variable\n",
      "{http://www.unidata.ucar.edu/namespaces/netcdf/ncml-2.2}variable\n",
      "{http://www.unidata.ucar.edu/namespaces/netcdf/ncml-2.2}variable\n",
      "{http://www.unidata.ucar.edu/namespaces/netcdf/ncml-2.2}variable\n",
      "{http://www.unidata.ucar.edu/namespaces/netcdf/ncml-2.2}variable\n",
      "{http://www.unidata.ucar.edu/namespaces/netcdf/ncml-2.2}variable\n",
      "{http://www.unidata.ucar.edu/namespaces/netcdf/ncml-2.2}variable\n",
      "{http://www.unidata.ucar.edu/namespaces/netcdf/ncml-2.2}variable\n",
      "{http://www.unidata.ucar.edu/namespaces/netcdf/ncml-2.2}variable\n",
      "{http://www.unidata.ucar.edu/namespaces/netcdf/ncml-2.2}variable\n",
      "{http://www.unidata.ucar.edu/namespaces/netcdf/ncml-2.2}variable\n",
      "{http://www.unidata.ucar.edu/namespaces/netcdf/ncml-2.2}aggregation\n",
      "{http://www.unidata.ucar.edu/namespaces/netcdf/ncml-2.2}variable1\n"
     ]
    }
   ],
   "source": [
    "for child in root:\n",
    "    print(child.tag)"
   ]
  },
  {
   "cell_type": "code",
   "execution_count": 8,
   "metadata": {
    "collapsed": false
   },
   "outputs": [
    {
     "ename": "NameError",
     "evalue": "name 'a' is not defined",
     "output_type": "error",
     "traceback": [
      "\u001b[1;31m---------------------------------------------------------------------------\u001b[0m",
      "\u001b[1;31mNameError\u001b[0m                                 Traceback (most recent call last)",
      "\u001b[1;32m<ipython-input-8-60b725f10c9c>\u001b[0m in \u001b[0;36m<module>\u001b[1;34m()\u001b[0m\n\u001b[1;32m----> 1\u001b[1;33m \u001b[0ma\u001b[0m\u001b[1;33m\u001b[0m\u001b[0m\n\u001b[0m",
      "\u001b[1;31mNameError\u001b[0m: name 'a' is not defined"
     ]
    }
   ],
   "source": [
    "a"
   ]
  },
  {
   "cell_type": "code",
   "execution_count": null,
   "metadata": {
    "collapsed": true
   },
   "outputs": [],
   "source": [
    "root = tree.getroot()\n",
    "path = \"//sml:identifier[@name='longName']/sml:Term/sml:value/text()\"\n",
    "namespaces = dict(sml=\"http://www.opengis.net/sensorML/1.0.1\")\n",
    "longName = root.xpath(path, namespaces=namespaces)"
   ]
  },
  {
   "cell_type": "code",
   "execution_count": null,
   "metadata": {
    "collapsed": false
   },
   "outputs": [],
   "source": [
    "a = root.find('long_name')"
   ]
  },
  {
   "cell_type": "code",
   "execution_count": null,
   "metadata": {
    "collapsed": true
   },
   "outputs": [],
   "source": [
    "a"
   ]
  },
  {
   "cell_type": "code",
   "execution_count": null,
   "metadata": {
    "collapsed": true
   },
   "outputs": [],
   "source": []
  }
 ],
 "metadata": {
  "kernelspec": {
   "display_name": "Python 2",
   "language": "python",
   "name": "python2"
  },
  "language_info": {
   "codemirror_mode": {
    "name": "ipython",
    "version": 2
   },
   "file_extension": ".py",
   "mimetype": "text/x-python",
   "name": "python",
   "nbconvert_exporter": "python",
   "pygments_lexer": "ipython2",
   "version": "2.7.11"
  }
 },
 "nbformat": 4,
 "nbformat_minor": 0
}
