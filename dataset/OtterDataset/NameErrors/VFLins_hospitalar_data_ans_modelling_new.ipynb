{
 "cells": [
  {
   "cell_type": "markdown",
   "id": "2fbd8ca1-60ad-4252-a965-0688e321d162",
   "metadata": {},
   "source": [
    "# Modelagem de classificação de clientes com dados da saúde suplementar\n",
    "\n",
    "Vamos usar os [dados obtidos anteriormente](https://github.com/VFLins/hospitalar_data_ans/blob/main/notebooks/collect_routine_ans.ipynb) e o conhecimento que obtivemos na sua [análise exploratória](https://vflins.github.io/hospitalar_data_ans/pages/eda.html) para produzir uma solução de dados com valor de negócio para empresas do **setor de operação de saúde.**\n",
    "\n",
    "A proposta deste modelo é produzir um indicador do *\"custo potencial de aquisição\"* de um cliente. Esta solução pode facilitar grandemente a precificação dos produtos de saúde, além disso, neste processo podemos acabar aprendendo mais sobre os diferentes tipos de perfis de clientes e suas necessidades!"
   ]
  },
  {
   "cell_type": "code",
   "execution_count": 2,
   "id": "b674eb91-bfb8-4fd4-b431-6626aa184142",
   "metadata": {},
   "outputs": [],
   "source": [
    "# imports\n",
    "\n",
    "from pyspark.sql import SparkSession\n",
    "from getpass import getpass\n",
    "\n",
    "spark = SparkSession.builder.getOrCreate()\n",
    "sc = spark.sparkContext\n",
    "sc.setLogLevel(\"ERROR\")"
   ]
  },
  {
   "cell_type": "code",
   "execution_count": 4,
   "id": "ced139e5-a16a-45ba-aed4-79bd7b12647c",
   "metadata": {},
   "outputs": [
    {
     "name": "stdin",
     "output_type": "stream",
     "text": [
      "Insira a senha de administrador do banco de dados:  ········\n"
     ]
    }
   ],
   "source": [
    "# variaveis de conexao\n",
    "\n",
    "drivername = \"oracle.jdbc.OracleDriver\"\n",
    "WALLET_PLACE = \"/home/user/Downloads/wallet_demodb\"\n",
    "URL = f\"jdbc:oracle:thin:@demodb_medium?TNS_ADMIN={WALLET_PLACE}\"\n",
    "USR = \"ADMIN\"\n",
    "PWD = getpass(\"Insira a senha de administrador do banco de dados: \")"
   ]
  },
  {
   "cell_type": "code",
   "execution_count": 3,
   "id": "b8134f53-61d6-4970-b514-6a09f98a116e",
   "metadata": {},
   "outputs": [
    {
     "ename": "NameError",
     "evalue": "name 'drivername' is not defined",
     "output_type": "error",
     "traceback": [
      "\u001b[0;31m---------------------------------------------------------------------------\u001b[0m",
      "\u001b[0;31mNameError\u001b[0m                                 Traceback (most recent call last)",
      "Cell \u001b[0;32mIn[3], line 7\u001b[0m\n\u001b[1;32m      3\u001b[0m tablename \u001b[38;5;241m=\u001b[39m \u001b[38;5;124m\"\u001b[39m\u001b[38;5;124mHOSP_CONS\u001b[39m\u001b[38;5;124m\"\u001b[39m\n\u001b[1;32m      4\u001b[0m query \u001b[38;5;241m=\u001b[39m \u001b[38;5;124mf\u001b[39m\u001b[38;5;124m\"\u001b[39m\u001b[38;5;124mSELECT * FROM \u001b[39m\u001b[38;5;132;01m{\u001b[39;00mtablename\u001b[38;5;132;01m}\u001b[39;00m\u001b[38;5;124m\"\u001b[39m\n\u001b[1;32m      6\u001b[0m cons_df \u001b[38;5;241m=\u001b[39m spark\u001b[38;5;241m.\u001b[39mread\u001b[38;5;241m.\u001b[39mformat(\u001b[38;5;124m\"\u001b[39m\u001b[38;5;124mjdbc\u001b[39m\u001b[38;5;124m\"\u001b[39m)\\\n\u001b[0;32m----> 7\u001b[0m   \u001b[38;5;241m.\u001b[39moption(\u001b[38;5;124m\"\u001b[39m\u001b[38;5;124mdriver\u001b[39m\u001b[38;5;124m\"\u001b[39m, \u001b[43mdrivername\u001b[49m)\\\n\u001b[1;32m      8\u001b[0m   \u001b[38;5;241m.\u001b[39moption(\u001b[38;5;124m\"\u001b[39m\u001b[38;5;124mquery\u001b[39m\u001b[38;5;124m\"\u001b[39m, query)\\\n\u001b[1;32m      9\u001b[0m   \u001b[38;5;241m.\u001b[39moption(\u001b[38;5;124m\"\u001b[39m\u001b[38;5;124murl\u001b[39m\u001b[38;5;124m\"\u001b[39m, URL)\\\n\u001b[1;32m     10\u001b[0m   \u001b[38;5;241m.\u001b[39moption(\u001b[38;5;124m\"\u001b[39m\u001b[38;5;124muser\u001b[39m\u001b[38;5;124m\"\u001b[39m, USR)\\\n\u001b[1;32m     11\u001b[0m   \u001b[38;5;241m.\u001b[39moption(\u001b[38;5;124m\"\u001b[39m\u001b[38;5;124mpassword\u001b[39m\u001b[38;5;124m\"\u001b[39m, PWD)\\\n\u001b[1;32m     12\u001b[0m   \u001b[38;5;241m.\u001b[39mload()\n\u001b[1;32m     15\u001b[0m tablename \u001b[38;5;241m=\u001b[39m \u001b[38;5;124m\"\u001b[39m\u001b[38;5;124mHOSP_DET\u001b[39m\u001b[38;5;124m\"\u001b[39m\n\u001b[1;32m     16\u001b[0m query \u001b[38;5;241m=\u001b[39m \u001b[38;5;124mf\u001b[39m\u001b[38;5;124m\"\u001b[39m\u001b[38;5;124mSELECT * FROM \u001b[39m\u001b[38;5;132;01m{\u001b[39;00mtablename\u001b[38;5;132;01m}\u001b[39;00m\u001b[38;5;124m\"\u001b[39m\n",
      "\u001b[0;31mNameError\u001b[0m: name 'drivername' is not defined"
     ]
    }
   ],
   "source": [
    "# conjuntos de dados\n",
    "\n",
    "tablename = \"HOSP_CONS\"\n",
    "query = f\"SELECT * FROM {tablename}\"\n",
    "\n",
    "cons_df = spark.read.format(\"jdbc\")\\\n",
    "  .option(\"driver\", drivername)\\\n",
    "  .option(\"query\", query)\\\n",
    "  .option(\"url\", URL)\\\n",
    "  .option(\"user\", USR)\\\n",
    "  .option(\"password\", PWD)\\\n",
    "  .load()\n",
    "\n",
    "\n",
    "tablename = \"HOSP_DET\"\n",
    "query = f\"SELECT * FROM {tablename}\"\n",
    "\n",
    "det_df = spark.read.format(\"jdbc\")\\\n",
    "  .option(\"driver\", drivername)\\\n",
    "  .option(\"query\", query)\\\n",
    "  .option(\"url\", URL)\\\n",
    "  .option(\"user\", USR)\\\n",
    "  .option(\"password\", PWD)\\\n",
    "  .load()"
   ]
  },
  {
   "cell_type": "markdown",
   "id": "00745c1b-be7b-4800-8d3c-f644b14324a1",
   "metadata": {},
   "source": [
    "# 1 Criando um *target*\n",
    "\n",
    "Vamos abordar este problema usando um modelo de classificação. Para isto vamos precisar de um variável target binária que separe os clientes entre \"alto custo\" e \"baixo custo\". Usaremos a probabilidade estimada de um cliente pertencer a um grupo ou à outro como o *score* que indica seu custo potencial."
   ]
  },
  {
   "cell_type": "code",
   "execution_count": 7,
   "id": "23ac6e82-8486-4219-b6fc-399d1d06aae9",
   "metadata": {},
   "outputs": [
    {
     "name": "stdout",
     "output_type": "stream",
     "text": [
      "Consolidada:\n",
      "['ID_EVENTO_ATENCAO_SAUDE', 'ID_PLANO', 'FAIXA_ETARIA', 'SEXO', 'CD_MUNICIPIO_BENEFICIARIO', 'PORTE', 'CD_MODALIDADE', 'NM_MODALIDADE', 'CD_MUNICIPIO_PRESTADOR', 'UF_PRESTADOR', 'TEMPO_DE_PERMANENCIA', 'ANO_MES_EVENTO', 'CD_CARATER_ATENDIMENTO', 'CD_TIPO_INTERNACAO', 'CD_REGIME_INTERNACAO', 'CD_MOTIVO_SAIDA', 'CID_1', 'CID_2', 'CID_3', 'CID_4', 'QT_DIARIA_ACOMPANHANTE', 'QT_DIARIA_UTI', 'IND_ACIDENTE_DOENCA', 'LG_VALOR_PREESTABELECIDO']\n",
      "\n",
      "Detalhada:\n",
      "['ID_EVENTO_ATENCAO_SAUDE', 'UF_PRESTADOR', 'TEMPO_DE_PERMANENCIA', 'ANO_MES_EVENTO', 'CD_PROCEDIMENTO', 'CD_TABELA_REFERENCIA', 'QT_ITEM_EVENTO_INFORMADO', 'VL_ITEM_EVENTO_INFORMADO', 'VL_ITEM_PAGO_FORNECEDOR', 'IND_PACOTE', 'IND_TABELA_PROPRIA']\n"
     ]
    }
   ],
   "source": [
    "print(f\"Consolidada:\\n{cons_df.schema.names}\", f\"Detalhada:\\n{det_df.schema.names}\", sep=\"\\n\\n\")"
   ]
  },
  {
   "cell_type": "markdown",
   "id": "9672727d-f735-4720-a467-5f5e839f2ef8",
   "metadata": {},
   "source": [
    "## 1.1 A especificidade de cada conjunto de dados\n",
    "\n",
    "Para obter o custo de um cliente, seria ideal ter um conjunto de dados que representa um cliente único em cada linha, em vez disto, temos:\n",
    "\n",
    "- A nossa base de dados **consolidadda** apresentando um atendimento médico para cada linha\n",
    "- A base de dados **detalhada** apresentando um procedimento do atendimento médico para cada linha\n",
    "\n",
    "Podemos perceber que as variáveis que descrevem o cliente (exemplo: `\"FAIXA_ETARIA\"`, `\"SEXO\"`, etc.) estão presentes na tabela *consolidada*. Para obter um conjunto no formato que precisamos para modelagem, será necessário agregar algumas características dos consumidores presentes na tabela consolidada.\n",
    "\n",
    "Depois que tivermos como \"sinalizar\" quais são os clientes únicos presentes na tabela *consolidada*, podemos extrair mais informações sobre seus respctivos eventos hospitalares na tabela *detalhada*."
   ]
  },
  {
   "cell_type": "code",
   "execution_count": null,
   "id": "74c31997-7950-445d-978d-aaa3d840b85e",
   "metadata": {},
   "outputs": [],
   "source": []
  }
 ],
 "metadata": {
  "kernelspec": {
   "display_name": "Python 3 (ipykernel)",
   "language": "python",
   "name": "python3"
  },
  "language_info": {
   "codemirror_mode": {
    "name": "ipython",
    "version": 3
   },
   "file_extension": ".py",
   "mimetype": "text/x-python",
   "name": "python",
   "nbconvert_exporter": "python",
   "pygments_lexer": "ipython3",
   "version": "3.11.2"
  }
 },
 "nbformat": 4,
 "nbformat_minor": 5
}
