{
 "cells": [
  {
   "cell_type": "markdown",
   "id": "f64dc4ef-0664-4501-b7f6-4366cb663615",
   "metadata": {},
   "source": [
    "# 单元测试\n",
    "\n",
    "unittest 测试框架是自带的单元测试框架。"
   ]
  },
  {
   "cell_type": "markdown",
   "id": "d0c0f24d-b6f4-403e-a451-1c769dfdf4df",
   "metadata": {},
   "source": [
    "## 什么是单元测试\n",
    "略"
   ]
  },
  {
   "cell_type": "markdown",
   "id": "cd712582-6876-4c7f-beb5-b6d8d0c5216b",
   "metadata": {},
   "source": [
    "## unittest 模块基本示例"
   ]
  },
  {
   "cell_type": "code",
   "execution_count": 20,
   "id": "adf950ef-aa45-4aca-a8bf-0ea714a7da0c",
   "metadata": {},
   "outputs": [
    {
     "ename": "NameError",
     "evalue": "name 'self' is not defined",
     "output_type": "error",
     "traceback": [
      "\u001b[1;31m---------------------------------------------------------------------------\u001b[0m",
      "\u001b[1;31mNameError\u001b[0m                                 Traceback (most recent call last)",
      "Cell \u001b[1;32mIn [20], line 24\u001b[0m\n\u001b[0;32m     21\u001b[0m         \u001b[38;5;28mprint\u001b[39m(\u001b[38;5;124m'\u001b[39m\u001b[38;5;124mhaha\u001b[39m\u001b[38;5;124m'\u001b[39m)\n\u001b[0;32m     23\u001b[0m \u001b[38;5;66;03m# unittest.main()\u001b[39;00m\n\u001b[1;32m---> 24\u001b[0m TestStringMethod\u001b[38;5;241m.\u001b[39mrun(\u001b[38;5;28;43mself\u001b[39;49m)\n",
      "\u001b[1;31mNameError\u001b[0m: name 'self' is not defined"
     ]
    }
   ],
   "source": [
    "import unittest\n",
    "\n",
    "class TestStringMethod(unittest.TestCase):\n",
    "    \n",
    "    def test_upper(self):\n",
    "        self.assertEqual('foo'.upper(), 'FOO')\n",
    "    \n",
    "    def test_isupper(self):\n",
    "        self.assertTrue('FOO'.isupper())\n",
    "        self.assertFalse('foo'.isupper())\n",
    "    \n",
    "    def test_split(self):\n",
    "        self.assertEqual('hello world'.split(), ['hello', 'world'])\n",
    "        with self.assertRaises(TypeError):\n",
    "            'hello'.split(2)\n",
    "    \n",
    "    def testTest(self):\n",
    "        self.assertEqual('abc'[0], 'a')\n",
    "\n",
    "    def dont_test(self):\n",
    "        print('haha')\n",
    "\n",
    "unittest.main()"
   ]
  },
  {
   "cell_type": "markdown",
   "id": "7b499645-7177-4097-bab6-3f013909a810",
   "metadata": {},
   "source": [
    "要运行的测试方法均以`test`开头。\n",
    "如果在测试脚本中添加`-v`，则会打印详细的测试信息。\n",
    "\n",
    "多个测试运行的顺序由内置字符串排序方法对测试名进行排序的结果决定。"
   ]
  },
  {
   "cell_type": "code",
   "execution_count": null,
   "id": "d40c141a-e3be-4f19-8e89-e1e01d12c56f",
   "metadata": {},
   "outputs": [],
   "source": [
    "## setUp()与tearDown()\n"
   ]
  }
 ],
 "metadata": {
  "kernelspec": {
   "display_name": "Python 3 (ipykernel)",
   "language": "python",
   "name": "python3"
  },
  "language_info": {
   "codemirror_mode": {
    "name": "ipython",
    "version": 3
   },
   "file_extension": ".py",
   "mimetype": "text/x-python",
   "name": "python",
   "nbconvert_exporter": "python",
   "pygments_lexer": "ipython3",
   "version": "3.9.7"
  }
 },
 "nbformat": 4,
 "nbformat_minor": 5
}
