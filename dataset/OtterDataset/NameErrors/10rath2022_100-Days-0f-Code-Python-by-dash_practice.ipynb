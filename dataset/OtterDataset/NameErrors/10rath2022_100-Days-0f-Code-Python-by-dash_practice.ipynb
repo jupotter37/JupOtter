{
 "cells": [
  {
   "cell_type": "code",
   "execution_count": 3,
   "id": "51590d79-fe41-4ef9-b1ea-f2174ae98a05",
   "metadata": {},
   "outputs": [],
   "source": [
    "import pyspark\n",
    "\n",
    "from pyspark.sql import SparkSession"
   ]
  },
  {
   "cell_type": "code",
   "execution_count": 4,
   "id": "030b02dc-7876-435a-a4c2-5b7fe6fb66d8",
   "metadata": {},
   "outputs": [
    {
     "name": "stderr",
     "output_type": "stream",
     "text": [
      "24/10/08 14:50:32 WARN Utils: Your hostname, Dashrath-Sangles-Mac-mini.local resolves to a loopback address: 127.0.0.1; using 192.168.221.30 instead (on interface en1)\n",
      "24/10/08 14:50:32 WARN Utils: Set SPARK_LOCAL_IP if you need to bind to another address\n",
      "Setting default log level to \"WARN\".\n",
      "To adjust logging level use sc.setLogLevel(newLevel). For SparkR, use setLogLevel(newLevel).\n",
      "24/10/08 14:50:33 WARN NativeCodeLoader: Unable to load native-hadoop library for your platform... using builtin-java classes where applicable\n",
      "24/10/08 14:50:33 WARN Utils: Service 'SparkUI' could not bind on port 4040. Attempting port 4041.\n"
     ]
    }
   ],
   "source": [
    "spark = SparkSession.builder.appName(\"test\").getOrCreate()"
   ]
  },
  {
   "cell_type": "code",
   "execution_count": 8,
   "id": "9731f7e4-8c18-4bac-870f-f3ce40bf396f",
   "metadata": {},
   "outputs": [],
   "source": [
    "df_pyspark = spark.read.csv(\"test.csv\", header=True)"
   ]
  },
  {
   "cell_type": "code",
   "execution_count": 13,
   "id": "567ed402-2bae-4f61-bece-fc0e2cca55c3",
   "metadata": {},
   "outputs": [
    {
     "name": "stdout",
     "output_type": "stream",
     "text": [
      "+-----+---------+--------+-----+---------------+\n",
      "|TranD|ProductID|Quantity|Price|TransactionDate|\n",
      "+-----+---------+--------+-----+---------------+\n",
      "|    1|        A|       2|   10|     2023-01-01|\n",
      "|    2|        B|       3|   15|     2023-01-01|\n",
      "|    3|        A|       1|   10|     2022-03-01|\n",
      "|    4|        B|       1|   20|     2023-01-01|\n",
      "|    5|        A|       2|   15|     2023-05-01|\n",
      "+-----+---------+--------+-----+---------------+\n",
      "\n"
     ]
    }
   ],
   "source": [
    "df_pyspark.show()"
   ]
  },
  {
   "cell_type": "code",
   "execution_count": 14,
   "id": "956be86b-bf77-4e5f-9345-e4791088dfc8",
   "metadata": {},
   "outputs": [],
   "source": [
    "# df_pyspark.filter([\"TransactionDate\"])"
   ]
  },
  {
   "cell_type": "code",
   "execution_count": 39,
   "id": "4dde552b-eb4b-47ee-af3c-32df7d13f228",
   "metadata": {},
   "outputs": [
    {
     "ename": "NameError",
     "evalue": "name 'columns' is not defined",
     "output_type": "error",
     "traceback": [
      "\u001b[0;31m---------------------------------------------------------------------------\u001b[0m",
      "\u001b[0;31mNameError\u001b[0m                                 Traceback (most recent call last)",
      "Cell \u001b[0;32mIn[39], line 1\u001b[0m\n\u001b[0;32m----> 1\u001b[0m total_sales \u001b[38;5;241m=\u001b[39m df_pyspark\u001b[38;5;241m.\u001b[39mcolumns[\u001b[38;5;241m2\u001b[39m]\u001b[38;5;241m*\u001b[39m\u001b[43mcolumns\u001b[49m[\u001b[38;5;241m3\u001b[39m]\n",
      "\u001b[0;31mNameError\u001b[0m: name 'columns' is not defined"
     ]
    }
   ],
   "source": [
    "total_sales = df_pyspark.columns[2]*(columns[3]"
   ]
  },
  {
   "cell_type": "code",
   "execution_count": null,
   "id": "393c4018-eb09-44f8-a429-c3d84f64f724",
   "metadata": {},
   "outputs": [],
   "source": []
  }
 ],
 "metadata": {
  "kernelspec": {
   "display_name": "Python 3 (ipykernel)",
   "language": "python",
   "name": "python3"
  },
  "language_info": {
   "codemirror_mode": {
    "name": "ipython",
    "version": 3
   },
   "file_extension": ".py",
   "mimetype": "text/x-python",
   "name": "python",
   "nbconvert_exporter": "python",
   "pygments_lexer": "ipython3",
   "version": "3.12.4"
  }
 },
 "nbformat": 4,
 "nbformat_minor": 5
}
