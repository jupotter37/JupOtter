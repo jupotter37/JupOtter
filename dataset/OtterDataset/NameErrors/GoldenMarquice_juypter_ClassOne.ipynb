{
 "cells": [
  {
   "cell_type": "code",
   "execution_count": 1,
   "id": "4c91342d-b0db-46e6-b7ca-33039c1c4b4e",
   "metadata": {},
   "outputs": [
    {
     "name": "stdout",
     "output_type": "stream",
     "text": [
      "h\n",
      "e\n",
      "l\n",
      "l\n",
      "o\n",
      ",\n",
      " \n",
      "w\n",
      "o\n",
      "r\n",
      "l\n",
      "d\n"
     ]
    }
   ],
   "source": [
    "for char in \"hello, world\":\n",
    "    print (char)\n",
    "\n",
    "if x \n",
    "\n"
   ]
  },
  {
   "cell_type": "markdown",
   "id": "648f9aa8-26b3-4fb2-b15b-109c09a6a876",
   "metadata": {},
   "source": [
    "# Problem 1\n",
    "## Anagram Checker\n",
    "### create a function in python that checks wether two strings are anagrams of each other. If they are, return True, otherwise return False. \n",
    "\n",
    "#### Criteria\n",
    "> Two strings are anagrams if all the criteria below are met:\n",
    "> 1. They must have the same number of letters\n",
    "> 2. They must use all the same letters, the same amount of times.\n",
    "\n",
    "```\n",
    "Examples:\n",
    "heart and earth\n",
    "cars and scar\n",
    "star and rats\n",
    "```\n",
    "\n"
   ]
  },
  {
   "cell_type": "code",
   "execution_count": 2,
   "id": "2f109501-5429-49f7-bfbf-303540769f21",
   "metadata": {},
   "outputs": [],
   "source": [
    "# In the popular Harry Potter saga the villian's name is Lord Voldemort\n",
    "# In the book (and movies) it is explained that he choose this name as it is an anagram \n",
    "# of his \"human\" name which is Tom Marvolo Riddle\n",
    "# So, \" Tom Marvolo Riddle\" is an anagram of \" I am Lord Voldemort\"\n",
    "\n",
    "# Can we craft a solution that returns True for all the cases shown above as well as this one?"
   ]
  },
  {
   "cell_type": "code",
   "execution_count": 6,
   "id": "c5361e81-03a3-4e3a-9cc1-3550c68be4e5",
   "metadata": {},
   "outputs": [],
   "source": [
    "# What would be an example of a poor soultion?\n",
    "\n",
    "def anagram_check(string, string2):\n",
    "    return sorted(string1.lower().replace(\" \",\"\")) == sorted(string2.lower().replace(\" \",\"\"))"
   ]
  },
  {
   "cell_type": "code",
   "execution_count": 8,
   "id": "e7a68c84-d98d-4715-90d1-fd34951128ee",
   "metadata": {},
   "outputs": [
    {
     "ename": "NameError",
     "evalue": "name 'string1' is not defined",
     "output_type": "error",
     "traceback": [
      "\u001b[0;31m---------------------------------------------------------------------------\u001b[0m",
      "\u001b[0;31mNameError\u001b[0m                                 Traceback (most recent call last)",
      "Cell \u001b[0;32mIn[8], line 1\u001b[0m\n\u001b[0;32m----> 1\u001b[0m \u001b[43managram_check\u001b[49m\u001b[43m(\u001b[49m\u001b[38;5;124;43m\"\u001b[39;49m\u001b[38;5;124;43mI am Lord Voldemort\u001b[39;49m\u001b[38;5;124;43m\"\u001b[39;49m\u001b[43m,\u001b[49m\u001b[43m \u001b[49m\u001b[38;5;124;43m\"\u001b[39;49m\u001b[38;5;124;43mTom Marvolo Riddle\u001b[39;49m\u001b[38;5;124;43m\"\u001b[39;49m\u001b[43m)\u001b[49m\n",
      "Cell \u001b[0;32mIn[6], line 4\u001b[0m, in \u001b[0;36managram_check\u001b[0;34m(string, string2)\u001b[0m\n\u001b[1;32m      3\u001b[0m \u001b[38;5;28;01mdef\u001b[39;00m \u001b[38;5;21managram_check\u001b[39m(string, string2):\n\u001b[0;32m----> 4\u001b[0m     \u001b[38;5;28;01mreturn\u001b[39;00m \u001b[38;5;28msorted\u001b[39m(\u001b[43mstring1\u001b[49m\u001b[38;5;241m.\u001b[39mlower()\u001b[38;5;241m.\u001b[39mreplace(\u001b[38;5;124m\"\u001b[39m\u001b[38;5;124m \u001b[39m\u001b[38;5;124m\"\u001b[39m,\u001b[38;5;124m\"\u001b[39m\u001b[38;5;124m\"\u001b[39m)) \u001b[38;5;241m==\u001b[39m \u001b[38;5;28msorted\u001b[39m(string2\u001b[38;5;241m.\u001b[39mlower()\u001b[38;5;241m.\u001b[39mreplace(\u001b[38;5;124m\"\u001b[39m\u001b[38;5;124m \u001b[39m\u001b[38;5;124m\"\u001b[39m,\u001b[38;5;124m\"\u001b[39m\u001b[38;5;124m\"\u001b[39m))\n",
      "\u001b[0;31mNameError\u001b[0m: name 'string1' is not defined"
     ]
    }
   ],
   "source": [
    "anagram_check(\"I am Lord Voldemort\", \"Tom Marvolo Riddle\")"
   ]
  },
  {
   "cell_type": "code",
   "execution_count": null,
   "id": "cee8cbdb-3679-4a4f-aa98-68992c977a0b",
   "metadata": {},
   "outputs": [],
   "source": []
  }
 ],
 "metadata": {
  "kernelspec": {
   "display_name": "Python 3 (ipykernel)",
   "language": "python",
   "name": "python3"
  },
  "language_info": {
   "codemirror_mode": {
    "name": "ipython",
    "version": 3
   },
   "file_extension": ".py",
   "mimetype": "text/x-python",
   "name": "python",
   "nbconvert_exporter": "python",
   "pygments_lexer": "ipython3",
   "version": "3.11.4"
  }
 },
 "nbformat": 4,
 "nbformat_minor": 5
}
