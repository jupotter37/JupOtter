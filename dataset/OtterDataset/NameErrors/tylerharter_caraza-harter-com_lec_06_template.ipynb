{
 "cells": [
  {
   "cell_type": "code",
   "execution_count": 1,
   "metadata": {},
   "outputs": [],
   "source": [
    "# Review last lecture:  valid variable names\n",
    "# this is a possible exam question\n",
    "\n",
    "# self-check: decide if the variables are valid in Python:\n",
    "# \n",
    "# my.name = \"Andy\"\n",
    "# 1st_place = \"Meena\"\n",
    "# stop&go = False\n",
    "# type = 100\n",
    "# end_game = True"
   ]
  },
  {
   "cell_type": "code",
   "execution_count": 2,
   "metadata": {},
   "outputs": [],
   "source": [
    "# Review last lecture: short-circuiting with and, or\n",
    "# if the first half of an AND is false, skip the second half\n",
    "\n",
    "# 7 + 3 == 9 and 4/0 == 0    # False\n",
    "# 4/0 == 0 and 7+3 == 9        # error"
   ]
  },
  {
   "cell_type": "code",
   "execution_count": 3,
   "metadata": {},
   "outputs": [],
   "source": [
    "# if the first half of an OR is true, skip the second half\n",
    "\n"
   ]
  },
  {
   "cell_type": "code",
   "execution_count": null,
   "metadata": {},
   "outputs": [],
   "source": []
  },
  {
   "cell_type": "markdown",
   "metadata": {},
   "source": [
    "### September 20: Using Functions\n",
    "\n",
    "Learing Objectives:\n",
    "\n",
    "6.1 Call input(), int(), bool(), float() to accept and process user input\n",
    "\n",
    "6.2 Concatenate values onto strings within a print function by converting to str()\n",
    "  \n",
    "6.3 Use functions from a built-in or user-created module:\n",
    "- Use the keywords import, from, as \n",
    "- Use the attribute operator (the \".\") with module functions\n",
    "    \n",
    "6.4 Using correct vocabulary, explain how functions work\n",
    "- call/invoke, argument, parameter, return value\n",
    "  "
   ]
  },
  {
   "cell_type": "code",
   "execution_count": null,
   "metadata": {},
   "outputs": [],
   "source": []
  },
  {
   "cell_type": "code",
   "execution_count": 4,
   "metadata": {},
   "outputs": [
    {
     "name": "stdout",
     "output_type": "stream",
     "text": [
      "enter your name: Andy\n",
      "<class 'str'>\n"
     ]
    }
   ],
   "source": [
    "# Example: input with a string\n",
    "name = input(\"enter your name: \")\n",
    "print(type(name))\n"
   ]
  },
  {
   "cell_type": "code",
   "execution_count": 5,
   "metadata": {},
   "outputs": [
    {
     "name": "stdout",
     "output_type": "stream",
     "text": [
      "enter your age: 23\n",
      "<class 'int'>\n"
     ]
    }
   ],
   "source": [
    "# Example: input with an int\n",
    "age = int(input(\"enter your age: \"))\n",
    "print(type(age))"
   ]
  },
  {
   "cell_type": "code",
   "execution_count": 6,
   "metadata": {},
   "outputs": [],
   "source": [
    "# fix this problem by converting the input to int\n"
   ]
  },
  {
   "cell_type": "code",
   "execution_count": 7,
   "metadata": {},
   "outputs": [
    {
     "name": "stdout",
     "output_type": "stream",
     "text": [
      "enter your temperature: 99.2\n",
      "<class 'float'>\n",
      "Temp normal is : \n"
     ]
    }
   ],
   "source": [
    "# Example: input with a float\n",
    "temp = float(input(\"enter your temperature: \"))\n",
    "print(type(temp))\n",
    "print(\"Temp normal is : \" )"
   ]
  },
  {
   "cell_type": "code",
   "execution_count": 8,
   "metadata": {},
   "outputs": [],
   "source": [
    "# Example: input with a boolean"
   ]
  },
  {
   "cell_type": "code",
   "execution_count": null,
   "metadata": {},
   "outputs": [],
   "source": [
    "# List of Python built-in functions....do not memorize\n",
    "# https://www.w3schools.com/python/python_ref_functions.asp"
   ]
  },
  {
   "cell_type": "markdown",
   "metadata": {},
   "source": [
    "### Definitions\n",
    "Function: A grouping of code, a way for us to tell our program to run that entire group of code.<br>\n",
    "Call/Invoke: A statement in Python code that instructs the program to go run all the lines of code in a function, and then come back afterward.<br>\n",
    "Parameter: A variable, defined inside the function....When the function is called, it is assigned the argument as its value<br>\n",
    "Argument: A value that I provide to a function. Placed within the parentheses when I call the function<br>\n",
    "Return value: the value that is returned by the function<br> "
   ]
  },
  {
   "cell_type": "code",
   "execution_count": null,
   "metadata": {},
   "outputs": [],
   "source": [
    "# try out one of the functions\n"
   ]
  },
  {
   "cell_type": "markdown",
   "metadata": {},
   "source": [
    "#### Working with Modules\n",
    "Modules contain a collection of functions<br>\n",
    "We need to import the module into Python<br>"
   ]
  },
  {
   "cell_type": "code",
   "execution_count": 9,
   "metadata": {},
   "outputs": [
    {
     "ename": "NameError",
     "evalue": "name 'sqrt' is not defined",
     "output_type": "error",
     "traceback": [
      "\u001b[0;31m------------------------------------------\u001b[0m",
      "\u001b[0;31mNameError\u001b[0mTraceback (most recent call last)",
      "\u001b[0;32m<ipython-input-9-0e804da6320c>\u001b[0m in \u001b[0;36m<module>\u001b[0;34m\u001b[0m\n\u001b[1;32m      1\u001b[0m \u001b[0;31m# let's try to find the square root of 17\u001b[0m\u001b[0;34m\u001b[0m\u001b[0;34m\u001b[0m\u001b[0;34m\u001b[0m\u001b[0m\n\u001b[0;32m----> 2\u001b[0;31m \u001b[0msqrt\u001b[0m\u001b[0;34m(\u001b[0m\u001b[0;36m17\u001b[0m\u001b[0;34m)\u001b[0m\u001b[0;34m\u001b[0m\u001b[0;34m\u001b[0m\u001b[0m\n\u001b[0m",
      "\u001b[0;31mNameError\u001b[0m: name 'sqrt' is not defined"
     ]
    }
   ],
   "source": [
    "# let's try to find the square root of 17\n",
    "sqrt(17)"
   ]
  },
  {
   "cell_type": "code",
   "execution_count": null,
   "metadata": {},
   "outputs": [],
   "source": [
    "# we need to find the module and then import it\n",
    "import ????"
   ]
  },
  {
   "cell_type": "code",
   "execution_count": null,
   "metadata": {},
   "outputs": [],
   "source": [
    "print()"
   ]
  },
  {
   "cell_type": "code",
   "execution_count": null,
   "metadata": {},
   "outputs": [],
   "source": []
  },
  {
   "cell_type": "code",
   "execution_count": null,
   "metadata": {},
   "outputs": [],
   "source": []
  },
  {
   "cell_type": "code",
   "execution_count": null,
   "metadata": {},
   "outputs": [],
   "source": [
    "# here are other ways we can use import\n",
    "# import just a single function\n",
    "from random import randint\n",
    "print(randint(1,10))"
   ]
  },
  {
   "cell_type": "code",
   "execution_count": null,
   "metadata": {},
   "outputs": [],
   "source": [
    "print(random.randint(1,10))"
   ]
  },
  {
   "cell_type": "code",
   "execution_count": null,
   "metadata": {},
   "outputs": [],
   "source": []
  },
  {
   "cell_type": "code",
   "execution_count": null,
   "metadata": {},
   "outputs": [],
   "source": [
    "# import and rename (like a shortcut)\n"
   ]
  },
  {
   "cell_type": "code",
   "execution_count": null,
   "metadata": {},
   "outputs": [],
   "source": [
    "# use help"
   ]
  },
  {
   "cell_type": "code",
   "execution_count": null,
   "metadata": {},
   "outputs": [],
   "source": []
  },
  {
   "cell_type": "code",
   "execution_count": null,
   "metadata": {},
   "outputs": [],
   "source": [
    "# Battleship Game Version 1\n",
    "\n",
    "width = 10\n",
    "height = 8\n",
    "\n",
    "ship_x = 7\n",
    "ship_y = 3\n",
    "\n",
    "guess_x = int(input(\"Enter guess x: \"))\n",
    "guess_y = int(input(\"Enter guess y: \"))\n",
    "\n",
    "# STEP 1: rows before guess\n",
    "print((\".\" * width + \"\\n\") * guess_y, end=\"\")\n",
    "\n",
    "# STEP 2: guess row\n",
    "print(\".\" * guess_x, end=\"\")\n",
    "symbol = int(guess_x == ship_x and guess_y == ship_y)\n",
    "print(symbol, end=\"\")\n",
    "print(\".\" * (width - guess_x - 1))\n",
    "\n",
    "# STEP 3: rows after guess\n",
    "print((\".\" * width + \"\\n\") * (height - guess_y - 1))"
   ]
  },
  {
   "cell_type": "code",
   "execution_count": null,
   "metadata": {},
   "outputs": [],
   "source": []
  }
 ],
 "metadata": {
  "kernelspec": {
   "display_name": "Python 3",
   "language": "python",
   "name": "python3"
  },
  "language_info": {
   "codemirror_mode": {
    "name": "ipython",
    "version": 3
   },
   "file_extension": ".py",
   "mimetype": "text/x-python",
   "name": "python",
   "nbconvert_exporter": "python",
   "pygments_lexer": "ipython3",
   "version": "3.8.5"
  }
 },
 "nbformat": 4,
 "nbformat_minor": 4
}
