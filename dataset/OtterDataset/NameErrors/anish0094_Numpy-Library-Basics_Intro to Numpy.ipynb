{
 "cells": [
  {
   "cell_type": "code",
   "execution_count": 1,
   "id": "403423b5",
   "metadata": {},
   "outputs": [],
   "source": [
    "import numpy as np"
   ]
  },
  {
   "cell_type": "markdown",
   "id": "ae29a55e",
   "metadata": {},
   "source": [
    "## Datatype and Attributes"
   ]
  },
  {
   "cell_type": "code",
   "execution_count": 2,
   "id": "b9e0418d",
   "metadata": {},
   "outputs": [
    {
     "data": {
      "text/plain": [
       "array([1, 2, 3])"
      ]
     },
     "execution_count": 2,
     "metadata": {},
     "output_type": "execute_result"
    }
   ],
   "source": [
    "# Main datatype is ndarray\n",
    "\n",
    "a1=np.array([1,2,3])\n",
    "\n",
    "a1"
   ]
  },
  {
   "cell_type": "code",
   "execution_count": 3,
   "id": "9683fe95",
   "metadata": {},
   "outputs": [
    {
     "data": {
      "text/plain": [
       "numpy.ndarray"
      ]
     },
     "execution_count": 3,
     "metadata": {},
     "output_type": "execute_result"
    }
   ],
   "source": [
    "type(a1)"
   ]
  },
  {
   "cell_type": "code",
   "execution_count": 4,
   "id": "6141cf42",
   "metadata": {},
   "outputs": [],
   "source": [
    "# Both are correct in course\n",
    "a2 = np.array([[1, 2, 3, 4],\n",
    "               [5, 6, 7, 8]])\n",
    "a3 = np.array([[[1,2,3],\n",
    "                [4,5,6],\n",
    "                [7,8,9]],\n",
    "               \n",
    "              [[10,11,12],\n",
    "               [13,14,15],\n",
    "               [16,17,18]]])\n"
   ]
  },
  {
   "cell_type": "code",
   "execution_count": 5,
   "id": "bd731c2d",
   "metadata": {},
   "outputs": [
    {
     "data": {
      "text/plain": [
       "(3,)"
      ]
     },
     "execution_count": 5,
     "metadata": {},
     "output_type": "execute_result"
    }
   ],
   "source": [
    "a1.shape"
   ]
  },
  {
   "cell_type": "code",
   "execution_count": 6,
   "id": "f38b344a",
   "metadata": {},
   "outputs": [
    {
     "data": {
      "text/plain": [
       "((3,), (2, 4), (2, 3, 3))"
      ]
     },
     "execution_count": 6,
     "metadata": {},
     "output_type": "execute_result"
    }
   ],
   "source": [
    "# The outout is given in tuple form\n",
    "a1.shape,a2.shape,a3.shape"
   ]
  },
  {
   "cell_type": "code",
   "execution_count": 7,
   "id": "530c5d8a",
   "metadata": {},
   "outputs": [
    {
     "data": {
      "text/plain": [
       "(1, 2, 3)"
      ]
     },
     "execution_count": 7,
     "metadata": {},
     "output_type": "execute_result"
    }
   ],
   "source": [
    "# To know the dimension of array\n",
    "a1.ndim, a2.ndim, a3.ndim"
   ]
  },
  {
   "cell_type": "code",
   "execution_count": 8,
   "id": "077b2859",
   "metadata": {},
   "outputs": [
    {
     "data": {
      "text/plain": [
       "(dtype('int32'), dtype('int32'), dtype('int32'))"
      ]
     },
     "execution_count": 8,
     "metadata": {},
     "output_type": "execute_result"
    }
   ],
   "source": [
    "# To know the datatype of array\n",
    "a1.dtype, a2.dtype, a3.dtype"
   ]
  },
  {
   "cell_type": "code",
   "execution_count": 9,
   "id": "a1149a8e",
   "metadata": {},
   "outputs": [
    {
     "data": {
      "text/plain": [
       "(3, 8, 18)"
      ]
     },
     "execution_count": 9,
     "metadata": {},
     "output_type": "execute_result"
    }
   ],
   "source": [
    "# to know the numbers of elements in an array\n",
    "# It returns a tuple contaning total number of elements. \n",
    "a1.size, a2.size, a3.size"
   ]
  },
  {
   "cell_type": "code",
   "execution_count": 10,
   "id": "7661c52b",
   "metadata": {},
   "outputs": [
    {
     "data": {
      "text/plain": [
       "(numpy.ndarray, numpy.ndarray, numpy.ndarray)"
      ]
     },
     "execution_count": 10,
     "metadata": {},
     "output_type": "execute_result"
    }
   ],
   "source": [
    "# ndarray is a universal datatype in numpy \n",
    "\n",
    "type(a1), type(a2), type(a3)"
   ]
  },
  {
   "cell_type": "code",
   "execution_count": 11,
   "id": "55a1ec4d",
   "metadata": {},
   "outputs": [
    {
     "data": {
      "text/html": [
       "<div>\n",
       "<style scoped>\n",
       "    .dataframe tbody tr th:only-of-type {\n",
       "        vertical-align: middle;\n",
       "    }\n",
       "\n",
       "    .dataframe tbody tr th {\n",
       "        vertical-align: top;\n",
       "    }\n",
       "\n",
       "    .dataframe thead th {\n",
       "        text-align: right;\n",
       "    }\n",
       "</style>\n",
       "<table border=\"1\" class=\"dataframe\">\n",
       "  <thead>\n",
       "    <tr style=\"text-align: right;\">\n",
       "      <th></th>\n",
       "      <th>0</th>\n",
       "      <th>1</th>\n",
       "      <th>2</th>\n",
       "      <th>3</th>\n",
       "    </tr>\n",
       "  </thead>\n",
       "  <tbody>\n",
       "    <tr>\n",
       "      <th>0</th>\n",
       "      <td>1</td>\n",
       "      <td>2</td>\n",
       "      <td>3</td>\n",
       "      <td>4</td>\n",
       "    </tr>\n",
       "    <tr>\n",
       "      <th>1</th>\n",
       "      <td>5</td>\n",
       "      <td>6</td>\n",
       "      <td>7</td>\n",
       "      <td>8</td>\n",
       "    </tr>\n",
       "  </tbody>\n",
       "</table>\n",
       "</div>"
      ],
      "text/plain": [
       "   0  1  2  3\n",
       "0  1  2  3  4\n",
       "1  5  6  7  8"
      ]
     },
     "execution_count": 11,
     "metadata": {},
     "output_type": "execute_result"
    }
   ],
   "source": [
    "# Creating a Pandas DataFrame using nmpy array\n",
    "import pandas as pd\n",
    "\n",
    "df=pd.DataFrame(a2)\n",
    "df"
   ]
  },
  {
   "cell_type": "markdown",
   "id": "f6d34f25",
   "metadata": {},
   "source": [
    "# Creating Arrays\n",
    "### Lecture 65"
   ]
  },
  {
   "cell_type": "code",
   "execution_count": 12,
   "id": "b67db368",
   "metadata": {},
   "outputs": [
    {
     "data": {
      "text/plain": [
       "array([[1., 1., 1.],\n",
       "       [1., 1., 1.]])"
      ]
     },
     "execution_count": 12,
     "metadata": {},
     "output_type": "execute_result"
    }
   ],
   "source": [
    "# To get an array of order m x n having set bit only we use \"np.ones\" \n",
    "# We can press shift+tab to know the python documentation same as VS Code\n",
    "# but from the python \n",
    "\n",
    "one= np.ones((2,3))\n",
    "one"
   ]
  },
  {
   "cell_type": "code",
   "execution_count": 13,
   "id": "86a69578",
   "metadata": {},
   "outputs": [
    {
     "data": {
      "text/plain": [
       "dtype('float64')"
      ]
     },
     "execution_count": 13,
     "metadata": {},
     "output_type": "execute_result"
    }
   ],
   "source": [
    "# It's default datatype is float\n",
    "one.dtype"
   ]
  },
  {
   "cell_type": "code",
   "execution_count": 14,
   "id": "9f79cd19",
   "metadata": {},
   "outputs": [
    {
     "data": {
      "text/plain": [
       "numpy.ndarray"
      ]
     },
     "execution_count": 14,
     "metadata": {},
     "output_type": "execute_result"
    }
   ],
   "source": [
    "type(one)"
   ]
  },
  {
   "cell_type": "code",
   "execution_count": 15,
   "id": "a084fa85",
   "metadata": {},
   "outputs": [
    {
     "data": {
      "text/plain": [
       "array([[0., 0., 0.],\n",
       "       [0., 0., 0.]])"
      ]
     },
     "execution_count": 15,
     "metadata": {},
     "output_type": "execute_result"
    }
   ],
   "source": [
    "# Same as \"ones\" we have \"zeros\" for having only clear bits in an array\n",
    "\n",
    "zero = np.zeros((2,3))\n",
    "zero"
   ]
  },
  {
   "cell_type": "code",
   "execution_count": 16,
   "id": "779afeee",
   "metadata": {},
   "outputs": [
    {
     "data": {
      "text/plain": [
       "array([0, 2, 4, 6, 8])"
      ]
     },
     "execution_count": 16,
     "metadata": {},
     "output_type": "execute_result"
    }
   ],
   "source": [
    "# To get an array of particular order we use arange function\n",
    "# syntax \"np.arange(start, stop, step)\"\n",
    "\n",
    "rangeArray=np.arange(0,10,2)\n",
    "rangeArray"
   ]
  },
  {
   "cell_type": "code",
   "execution_count": 17,
   "id": "e8c5ed56",
   "metadata": {},
   "outputs": [
    {
     "data": {
      "text/plain": [
       "array([[6, 0, 7, 6, 3],\n",
       "       [2, 4, 1, 5, 9],\n",
       "       [2, 2, 7, 8, 1]])"
      ]
     },
     "execution_count": 17,
     "metadata": {},
     "output_type": "execute_result"
    }
   ],
   "source": [
    "# We can use random library for creating random array\n",
    "randomArray=np.random.randint(0,10, size=(3,5))\n",
    "randomArray"
   ]
  },
  {
   "cell_type": "code",
   "execution_count": 18,
   "id": "bff4705a",
   "metadata": {},
   "outputs": [
    {
     "data": {
      "text/plain": [
       "array([[0.82827457, 0.60548438, 0.11194324, 0.18397789],\n",
       "       [0.71949657, 0.07435365, 0.2607799 , 0.20198151],\n",
       "       [0.21141774, 0.95593435, 0.2169084 , 0.49757515],\n",
       "       [0.66521151, 0.02087402, 0.38189433, 0.16309785],\n",
       "       [0.51890272, 0.85059741, 0.30084317, 0.10414492]])"
      ]
     },
     "execution_count": 18,
     "metadata": {},
     "output_type": "execute_result"
    }
   ],
   "source": [
    "# It will generate a random floating numbers array having row=5 and \n",
    "# column=4\n",
    "randomArray2=np.random.random((5,4))\n",
    "randomArray2"
   ]
  },
  {
   "cell_type": "code",
   "execution_count": 19,
   "id": "8f95b6bf",
   "metadata": {},
   "outputs": [],
   "source": [
    "# Pseudo random numbers\n",
    "np.random.seed()"
   ]
  },
  {
   "cell_type": "markdown",
   "id": "5984bebc",
   "metadata": {},
   "source": [
    "### Lecture 66"
   ]
  },
  {
   "cell_type": "code",
   "execution_count": 20,
   "id": "412d99eb",
   "metadata": {},
   "outputs": [
    {
     "data": {
      "text/plain": [
       "array([[0.49969432, 0.25593713, 0.25810063],\n",
       "       [0.09692171, 0.56418511, 0.01599007],\n",
       "       [0.15259523, 0.48024773, 0.09987276],\n",
       "       [0.41696389, 0.91365081, 0.35071951],\n",
       "       [0.11460437, 0.71260839, 0.10188615]])"
      ]
     },
     "execution_count": 20,
     "metadata": {},
     "output_type": "execute_result"
    }
   ],
   "source": [
    "# seed() always generate the same random numbers everytime\n",
    "# we can assign any random constant value in seed()\n",
    "\n",
    "np.random.seed(seed=89)\n",
    "randomArray3=np.random.random( size=(5,3))\n",
    "randomArray3"
   ]
  },
  {
   "cell_type": "code",
   "execution_count": 21,
   "id": "b0a398b2",
   "metadata": {},
   "outputs": [
    {
     "data": {
      "text/plain": [
       "array([[ 8, 15, 13],\n",
       "       [ 8, 11, 18],\n",
       "       [11,  8,  7],\n",
       "       [ 2, 17, 11],\n",
       "       [15,  5,  7]])"
      ]
     },
     "execution_count": 21,
     "metadata": {},
     "output_type": "execute_result"
    }
   ],
   "source": [
    "np.random.seed(seed=2)\n",
    "randomArray4=np.random.randint(20, size=(5,3))\n",
    "randomArray4"
   ]
  },
  {
   "cell_type": "code",
   "execution_count": 22,
   "id": "ab418dbd",
   "metadata": {},
   "outputs": [
    {
     "data": {
      "text/plain": [
       "array([[0.98901151, 0.54954473, 0.2814473 , 0.07728957],\n",
       "       [0.4444695 , 0.47280797, 0.048522  , 0.16332445],\n",
       "       [0.11595071, 0.62739168, 0.85618205, 0.65010242],\n",
       "       [0.99072168, 0.47035075, 0.61829448, 0.28266721],\n",
       "       [0.97600332, 0.673068  , 0.44053089, 0.28968734],\n",
       "       [0.50969968, 0.1124609 , 0.22695479, 0.4785523 ]])"
      ]
     },
     "execution_count": 22,
     "metadata": {},
     "output_type": "execute_result"
    }
   ],
   "source": [
    "np.random.seed(seed=45)\n",
    "randomArray5=np.random.rand(6,4)\n",
    "randomArray5"
   ]
  },
  {
   "cell_type": "markdown",
   "id": "b454d552",
   "metadata": {},
   "source": [
    "# Viewing Arrays and Matrices\n",
    "### Lecture 67"
   ]
  },
  {
   "cell_type": "code",
   "execution_count": 23,
   "id": "414e54ef",
   "metadata": {},
   "outputs": [
    {
     "data": {
      "text/plain": [
       "array([ 2,  5,  7,  8, 11, 13, 15, 17, 18])"
      ]
     },
     "execution_count": 23,
     "metadata": {},
     "output_type": "execute_result"
    }
   ],
   "source": [
    "np.unique(randomArray4)"
   ]
  },
  {
   "cell_type": "code",
   "execution_count": 24,
   "id": "b1591df4",
   "metadata": {},
   "outputs": [
    {
     "data": {
      "text/plain": [
       "array([[1, 2, 3],\n",
       "       [4, 5, 6],\n",
       "       [7, 8, 9]])"
      ]
     },
     "execution_count": 24,
     "metadata": {},
     "output_type": "execute_result"
    }
   ],
   "source": [
    "a3[0]"
   ]
  },
  {
   "cell_type": "code",
   "execution_count": 25,
   "id": "a29068b1",
   "metadata": {},
   "outputs": [
    {
     "data": {
      "text/plain": [
       "array([[10, 11, 12],\n",
       "       [13, 14, 15],\n",
       "       [16, 17, 18]])"
      ]
     },
     "execution_count": 25,
     "metadata": {},
     "output_type": "execute_result"
    }
   ],
   "source": [
    "a3[1]"
   ]
  },
  {
   "cell_type": "code",
   "execution_count": 26,
   "id": "469f0694",
   "metadata": {},
   "outputs": [
    {
     "data": {
      "text/plain": [
       "array([4, 5, 6])"
      ]
     },
     "execution_count": 26,
     "metadata": {},
     "output_type": "execute_result"
    }
   ],
   "source": [
    "a3[0][1]"
   ]
  },
  {
   "cell_type": "code",
   "execution_count": 27,
   "id": "26980243",
   "metadata": {},
   "outputs": [
    {
     "data": {
      "text/plain": [
       "5"
      ]
     },
     "execution_count": 27,
     "metadata": {},
     "output_type": "execute_result"
    }
   ],
   "source": [
    "a3[0][1][1]"
   ]
  },
  {
   "cell_type": "code",
   "execution_count": 28,
   "id": "4205aa46",
   "metadata": {},
   "outputs": [
    {
     "data": {
      "text/plain": [
       "array([[[ 1,  2],\n",
       "        [ 4,  5]],\n",
       "\n",
       "       [[10, 11],\n",
       "        [13, 14]]])"
      ]
     },
     "execution_count": 28,
     "metadata": {},
     "output_type": "execute_result"
    }
   ],
   "source": [
    "# Slicing in array\n",
    "a3[:2,:2,:2]"
   ]
  },
  {
   "cell_type": "code",
   "execution_count": 29,
   "id": "b5effb82",
   "metadata": {},
   "outputs": [
    {
     "data": {
      "text/plain": [
       "array([[[[11,  8,  8,  1, 11, 11],\n",
       "         [10,  6,  0,  4,  9,  8],\n",
       "         [ 0,  9,  2,  6,  7, 11],\n",
       "         [ 0,  0, 11, 10,  2,  9],\n",
       "         [ 2,  6,  0,  9,  6,  0]],\n",
       "\n",
       "        [[ 8,  8,  0, 11,  6,  7],\n",
       "         [ 8,  5, 11,  1,  3,  7],\n",
       "         [ 5,  9,  3, 11,  2,  7],\n",
       "         [ 7,  4,  9,  9,  9, 11],\n",
       "         [ 9,  7, 10,  2,  7,  9]],\n",
       "\n",
       "        [[ 4,  5,  7, 11,  9,  7],\n",
       "         [ 6,  2,  7,  7,  6, 11],\n",
       "         [11,  6,  3,  6,  0,  7],\n",
       "         [ 4,  9,  3,  5, 10,  7],\n",
       "         [ 3,  5,  5,  7,  1,  0]],\n",
       "\n",
       "        [[ 2, 11, 11,  1, 11,  9],\n",
       "         [ 2, 10,  3,  9,  6,  3],\n",
       "         [11,  6,  1,  9,  1,  7],\n",
       "         [ 4,  0, 10,  2,  1, 10],\n",
       "         [ 1,  4, 10,  2, 11,  2]]],\n",
       "\n",
       "\n",
       "       [[[11,  2, 11,  5, 11,  3],\n",
       "         [ 6,  7,  5,  6,  5,  2],\n",
       "         [ 8,  7, 10,  1,  2,  7],\n",
       "         [ 9,  6,  4, 11,  5,  4],\n",
       "         [ 5, 11, 10,  4,  1,  3]],\n",
       "\n",
       "        [[ 7,  0,  5, 11,  0,  6],\n",
       "         [ 5, 10,  8, 11, 10,  0],\n",
       "         [ 1,  9,  9,  2,  4,  4],\n",
       "         [ 0,  8,  2,  8,  9,  7],\n",
       "         [ 5,  4,  3, 10,  2, 11]],\n",
       "\n",
       "        [[ 5,  7, 11,  9,  2,  5],\n",
       "         [ 8,  0,  8,  9, 11,  4],\n",
       "         [ 0, 10,  2,  5, 10,  1],\n",
       "         [10, 11,  2,  1,  4,  2],\n",
       "         [ 3,  7,  0,  2,  0, 10]],\n",
       "\n",
       "        [[ 8,  8, 11,  6, 11,  8],\n",
       "         [ 7,  5,  2, 11,  9,  2],\n",
       "         [ 3,  2,  5,  7,  8,  8],\n",
       "         [ 9,  1, 10,  4,  9,  5],\n",
       "         [ 1,  9,  3,  0,  5,  4]]],\n",
       "\n",
       "\n",
       "       [[[10,  8,  2,  6,  1,  4],\n",
       "         [10,  4,  0,  9,  3, 11],\n",
       "         [ 0,  9,  5,  3, 11, 10],\n",
       "         [ 3,  7,  5,  1, 10,  3],\n",
       "         [ 7,  1,  9, 11,  3,  5]],\n",
       "\n",
       "        [[ 0,  1,  0, 10,  7,  1],\n",
       "         [10,  1,  7,  5,  6, 11],\n",
       "         [11,  3,  4,  0,  7,  4],\n",
       "         [11,  0,  1, 11,  2,  7],\n",
       "         [ 8,  2,  5,  8,  0,  8]],\n",
       "\n",
       "        [[ 3, 10,  5,  7, 11,  5],\n",
       "         [ 4,  0,  8,  9,  9,  0],\n",
       "         [ 7,  8,  1, 10,  0,  6],\n",
       "         [ 5, 10,  8,  1,  7,  8],\n",
       "         [ 2, 11,  1,  1,  3,  6]],\n",
       "\n",
       "        [[ 3,  2, 10, 11,  8,  3],\n",
       "         [ 2,  8,  6,  8,  2,  1],\n",
       "         [ 0, 11,  1,  6,  1,  3],\n",
       "         [ 7,  2,  1,  3,  8,  8],\n",
       "         [ 2,  7, 10,  4, 10,  5]]]])"
      ]
     },
     "execution_count": 29,
     "metadata": {},
     "output_type": "execute_result"
    }
   ],
   "source": [
    "a4=np.random.randint(12, size=(3,4,5,6))\n",
    "a4"
   ]
  },
  {
   "cell_type": "code",
   "execution_count": 30,
   "id": "2204cb5f",
   "metadata": {},
   "outputs": [
    {
     "data": {
      "text/plain": [
       "((3, 4, 5, 6), 360)"
      ]
     },
     "execution_count": 30,
     "metadata": {},
     "output_type": "execute_result"
    }
   ],
   "source": [
    "a4.shape, a4.size"
   ]
  },
  {
   "cell_type": "code",
   "execution_count": 31,
   "id": "43881f47",
   "metadata": {},
   "outputs": [
    {
     "data": {
      "text/plain": [
       "array([[[[11,  2, 11,  5, 11,  3],\n",
       "         [ 6,  7,  5,  6,  5,  2],\n",
       "         [ 8,  7, 10,  1,  2,  7],\n",
       "         [ 9,  6,  4, 11,  5,  4],\n",
       "         [ 5, 11, 10,  4,  1,  3]],\n",
       "\n",
       "        [[ 7,  0,  5, 11,  0,  6],\n",
       "         [ 5, 10,  8, 11, 10,  0],\n",
       "         [ 1,  9,  9,  2,  4,  4],\n",
       "         [ 0,  8,  2,  8,  9,  7],\n",
       "         [ 5,  4,  3, 10,  2, 11]],\n",
       "\n",
       "        [[ 5,  7, 11,  9,  2,  5],\n",
       "         [ 8,  0,  8,  9, 11,  4],\n",
       "         [ 0, 10,  2,  5, 10,  1],\n",
       "         [10, 11,  2,  1,  4,  2],\n",
       "         [ 3,  7,  0,  2,  0, 10]],\n",
       "\n",
       "        [[ 8,  8, 11,  6, 11,  8],\n",
       "         [ 7,  5,  2, 11,  9,  2],\n",
       "         [ 3,  2,  5,  7,  8,  8],\n",
       "         [ 9,  1, 10,  4,  9,  5],\n",
       "         [ 1,  9,  3,  0,  5,  4]]]])"
      ]
     },
     "execution_count": 31,
     "metadata": {},
     "output_type": "execute_result"
    }
   ],
   "source": [
    "# Get first 5 numbers of inner most array\n",
    "# [3,2,10,11,8,3]\n",
    "# a4[2][3][0]  \n",
    "a4[1:2,:,:,:]"
   ]
  },
  {
   "cell_type": "markdown",
   "id": "167769f8",
   "metadata": {},
   "source": [
    "## Manipulating & Comparing Arrays"
   ]
  },
  {
   "cell_type": "code",
   "execution_count": 32,
   "id": "24abc1ce",
   "metadata": {},
   "outputs": [
    {
     "data": {
      "text/plain": [
       "array([1, 2, 3])"
      ]
     },
     "execution_count": 32,
     "metadata": {},
     "output_type": "execute_result"
    }
   ],
   "source": [
    "a1"
   ]
  },
  {
   "cell_type": "code",
   "execution_count": 33,
   "id": "9409ae70",
   "metadata": {},
   "outputs": [
    {
     "data": {
      "text/plain": [
       "array([[1, 2, 3, 4],\n",
       "       [5, 6, 7, 8]])"
      ]
     },
     "execution_count": 33,
     "metadata": {},
     "output_type": "execute_result"
    }
   ],
   "source": [
    "a2"
   ]
  },
  {
   "cell_type": "code",
   "execution_count": 34,
   "id": "c7ea409e",
   "metadata": {},
   "outputs": [
    {
     "ename": "ValueError",
     "evalue": "operands could not be broadcast together with shapes (3,) (2,4) ",
     "output_type": "error",
     "traceback": [
      "\u001b[1;31m---------------------------------------------------------------------------\u001b[0m",
      "\u001b[1;31mValueError\u001b[0m                                Traceback (most recent call last)",
      "Cell \u001b[1;32mIn[34], line 2\u001b[0m\n\u001b[0;32m      1\u001b[0m \u001b[38;5;66;03m# We need to allign voth the matrices/arrays for multiplication\u001b[39;00m\n\u001b[1;32m----> 2\u001b[0m a1\u001b[38;5;241m*\u001b[39ma2\n",
      "\u001b[1;31mValueError\u001b[0m: operands could not be broadcast together with shapes (3,) (2,4) "
     ]
    }
   ],
   "source": [
    "# We need to allign voth the matrices/arrays for multiplication\n",
    "a1*a2"
   ]
  },
  {
   "cell_type": "code",
   "execution_count": null,
   "id": "5b36e8a8",
   "metadata": {},
   "outputs": [],
   "source": [
    "one=np.ones(4)\n",
    "one"
   ]
  },
  {
   "cell_type": "code",
   "execution_count": null,
   "id": "1e672d83",
   "metadata": {},
   "outputs": [],
   "source": [
    "a2*one"
   ]
  },
  {
   "cell_type": "code",
   "execution_count": null,
   "id": "d873d52a",
   "metadata": {},
   "outputs": [],
   "source": [
    "a2//one"
   ]
  },
  {
   "cell_type": "code",
   "execution_count": 35,
   "id": "18042a96",
   "metadata": {},
   "outputs": [
    {
     "data": {
      "text/plain": [
       "array([[ 1,  4,  9, 16],\n",
       "       [25, 36, 49, 64]])"
      ]
     },
     "execution_count": 35,
     "metadata": {},
     "output_type": "execute_result"
    }
   ],
   "source": [
    "a2**2"
   ]
  },
  {
   "cell_type": "code",
   "execution_count": 36,
   "id": "8fd339e8",
   "metadata": {},
   "outputs": [
    {
     "data": {
      "text/plain": [
       "array([[ 1,  4,  9, 16],\n",
       "       [25, 36, 49, 64]])"
      ]
     },
     "execution_count": 36,
     "metadata": {},
     "output_type": "execute_result"
    }
   ],
   "source": [
    "np.square(a2)"
   ]
  },
  {
   "cell_type": "code",
   "execution_count": 37,
   "id": "e3bb017b",
   "metadata": {},
   "outputs": [
    {
     "data": {
      "text/plain": [
       "array([[1, 2, 0, 1],\n",
       "       [2, 0, 1, 2]], dtype=int32)"
      ]
     },
     "execution_count": 37,
     "metadata": {},
     "output_type": "execute_result"
    }
   ],
   "source": [
    "# All arithmetic operations we can apply in the numpy array\n",
    "a2%3"
   ]
  },
  {
   "cell_type": "markdown",
   "id": "01135790",
   "metadata": {},
   "source": [
    "### Lecture 69"
   ]
  },
  {
   "cell_type": "code",
   "execution_count": 38,
   "id": "96168cc4",
   "metadata": {},
   "outputs": [
    {
     "data": {
      "text/plain": [
       "array([[1, 2, 3, 4],\n",
       "       [5, 6, 7, 8]])"
      ]
     },
     "execution_count": 38,
     "metadata": {},
     "output_type": "execute_result"
    }
   ],
   "source": [
    "a2"
   ]
  },
  {
   "cell_type": "code",
   "execution_count": 39,
   "id": "02536f83",
   "metadata": {},
   "outputs": [
    {
     "data": {
      "text/plain": [
       "(array([ 6,  8, 10, 12]), 36)"
      ]
     },
     "execution_count": 39,
     "metadata": {},
     "output_type": "execute_result"
    }
   ],
   "source": [
    "# Python's sum() will return the sum of adjacent values\n",
    "# NumPy's np.sum() will return the sum of all values in an array\n",
    "\n",
    "sum(a2) ,np.sum(a2)"
   ]
  },
  {
   "cell_type": "markdown",
   "id": "0bb33642",
   "metadata": {},
   "source": [
    "Use Python's methods sum() on Python datatypes and us NumPy's methods on NumPy array np.sum()"
   ]
  },
  {
   "cell_type": "code",
   "execution_count": 40,
   "id": "c97a8b21",
   "metadata": {},
   "outputs": [
    {
     "data": {
      "text/plain": [
       "1000000"
      ]
     },
     "execution_count": 40,
     "metadata": {},
     "output_type": "execute_result"
    }
   ],
   "source": [
    "massiveArray=np.random.random(1000000)\n",
    "massiveArray.size"
   ]
  },
  {
   "cell_type": "code",
   "execution_count": 41,
   "id": "cdf02e0b",
   "metadata": {},
   "outputs": [
    {
     "data": {
      "text/plain": [
       "array([0.28518833, 0.05550742, 0.77891149, 0.50898765, 0.19516835,\n",
       "       0.95365309, 0.72979648, 0.26937605, 0.45679546, 0.64165447])"
      ]
     },
     "execution_count": 41,
     "metadata": {},
     "output_type": "execute_result"
    }
   ],
   "source": [
    "massiveArray[:10]"
   ]
  },
  {
   "cell_type": "code",
   "execution_count": 42,
   "id": "720bae67",
   "metadata": {},
   "outputs": [
    {
     "name": "stdout",
     "output_type": "stream",
     "text": [
      "223 ms ± 4.34 ms per loop (mean ± std. dev. of 7 runs, 10 loops each)\n",
      "1.72 ms ± 41.6 µs per loop (mean ± std. dev. of 7 runs, 1,000 loops each)\n"
     ]
    }
   ],
   "source": [
    "# %timeit :: Measure execution time of small code snippets\n",
    "%timeit sum(massiveArray)  # Python's sum()\n",
    "%timeit np.sum(massiveArray)  # NumPy's sum()"
   ]
  },
  {
   "cell_type": "markdown",
   "id": "a126aafc",
   "metadata": {},
   "source": [
    "Always use NumPy's aggregation for any arithmetic opertion in NumPy datatype"
   ]
  },
  {
   "cell_type": "code",
   "execution_count": 43,
   "id": "167a8419",
   "metadata": {},
   "outputs": [
    {
     "data": {
      "text/plain": [
       "4.5"
      ]
     },
     "execution_count": 43,
     "metadata": {},
     "output_type": "execute_result"
    }
   ],
   "source": [
    "np.mean(a2)"
   ]
  },
  {
   "cell_type": "code",
   "execution_count": 44,
   "id": "2ec0c5f9",
   "metadata": {},
   "outputs": [
    {
     "data": {
      "text/plain": [
       "(18, 1)"
      ]
     },
     "execution_count": 44,
     "metadata": {},
     "output_type": "execute_result"
    }
   ],
   "source": [
    "np.max(a3), np.min(a3)"
   ]
  },
  {
   "cell_type": "code",
   "execution_count": 45,
   "id": "8086786d",
   "metadata": {},
   "outputs": [
    {
     "data": {
      "text/plain": [
       "5.188127472091127"
      ]
     },
     "execution_count": 45,
     "metadata": {},
     "output_type": "execute_result"
    }
   ],
   "source": [
    "np.std(a3)  # Standard Deviation of ndarray"
   ]
  },
  {
   "cell_type": "code",
   "execution_count": 46,
   "id": "a7bac36f",
   "metadata": {},
   "outputs": [
    {
     "data": {
      "text/plain": [
       "26.916666666666668"
      ]
     },
     "execution_count": 46,
     "metadata": {},
     "output_type": "execute_result"
    }
   ],
   "source": [
    "np.var(a3)  # Variance of matrix"
   ]
  },
  {
   "cell_type": "code",
   "execution_count": 47,
   "id": "ca4aecbb",
   "metadata": {},
   "outputs": [
    {
     "data": {
      "text/plain": [
       "5.188127472091127"
      ]
     },
     "execution_count": 47,
     "metadata": {},
     "output_type": "execute_result"
    }
   ],
   "source": [
    "np.sqrt(np.var(a3))  # Standard Deviation = sqrt of variance"
   ]
  },
  {
   "cell_type": "markdown",
   "id": "b1e78f0f",
   "metadata": {},
   "source": [
    "### Lecture 70"
   ]
  },
  {
   "cell_type": "code",
   "execution_count": 48,
   "id": "e2668ff9",
   "metadata": {},
   "outputs": [],
   "source": [
    "# Demo of standard deviation and variance\n",
    "highVarArray=np.array([1,100,200,500,4000,10000])\n",
    "lowVarArray=np.array([2,4,6,8,10])"
   ]
  },
  {
   "cell_type": "code",
   "execution_count": 49,
   "id": "1103bdd4",
   "metadata": {},
   "outputs": [
    {
     "data": {
      "text/plain": [
       "(13298066.805555554, 8.0)"
      ]
     },
     "execution_count": 49,
     "metadata": {},
     "output_type": "execute_result"
    }
   ],
   "source": [
    "np.var(highVarArray), np.var(lowVarArray)"
   ]
  },
  {
   "cell_type": "code",
   "execution_count": 50,
   "id": "8d627bd9",
   "metadata": {},
   "outputs": [
    {
     "data": {
      "text/plain": [
       "(3646.6514510651486, 2.8284271247461903)"
      ]
     },
     "execution_count": 50,
     "metadata": {},
     "output_type": "execute_result"
    }
   ],
   "source": [
    "np.std(highVarArray), np.std(lowVarArray)"
   ]
  },
  {
   "cell_type": "code",
   "execution_count": 51,
   "id": "8b55d61f",
   "metadata": {},
   "outputs": [
    {
     "data": {
      "text/plain": [
       "(2466.8333333333335, 6.0)"
      ]
     },
     "execution_count": 51,
     "metadata": {},
     "output_type": "execute_result"
    }
   ],
   "source": [
    "np.mean(highVarArray), np.mean(lowVarArray)"
   ]
  },
  {
   "cell_type": "code",
   "execution_count": 52,
   "id": "cabdb439",
   "metadata": {},
   "outputs": [
    {
     "data": {
      "image/png": "[encoded data removed]",
      "text/plain": [
       "<Figure size 640x480 with 1 Axes>"
      ]
     },
     "metadata": {},
     "output_type": "display_data"
    }
   ],
   "source": [
    "import matplotlib.pyplot as plt\n",
    "plt.hist(highVarArray)\n",
    "plt.show()"
   ]
  },
  {
   "cell_type": "code",
   "execution_count": 53,
   "id": "21b25547",
   "metadata": {},
   "outputs": [
    {
     "data": {
      "image/png": "[encoded data removed]",
      "text/plain": [
       "<Figure size 640x480 with 1 Axes>"
      ]
     },
     "metadata": {},
     "output_type": "display_data"
    }
   ],
   "source": [
    "plt.hist(lowVarArray)\n",
    "plt.show()"
   ]
  },
  {
   "cell_type": "markdown",
   "id": "7fa314c2",
   "metadata": {},
   "source": [
    "## Reshaping and Transposing\n",
    "### Lecture 71"
   ]
  },
  {
   "cell_type": "code",
   "execution_count": 54,
   "id": "11877d6f",
   "metadata": {},
   "outputs": [
    {
     "ename": "ValueError",
     "evalue": "operands could not be broadcast together with shapes (2,4) (2,3,3) ",
     "output_type": "error",
     "traceback": [
      "\u001b[1;31m---------------------------------------------------------------------------\u001b[0m",
      "\u001b[1;31mValueError\u001b[0m                                Traceback (most recent call last)",
      "Cell \u001b[1;32mIn[54], line 2\u001b[0m\n\u001b[0;32m      1\u001b[0m \u001b[38;5;66;03m# For more information of reshaping check broadcasting rules\u001b[39;00m\n\u001b[1;32m----> 2\u001b[0m a2\u001b[38;5;241m*\u001b[39ma3\n",
      "\u001b[1;31mValueError\u001b[0m: operands could not be broadcast together with shapes (2,4) (2,3,3) "
     ]
    }
   ],
   "source": [
    " # For more information of reshaping check broadcasting rules\n",
    "a2*a3"
   ]
  },
  {
   "cell_type": "code",
   "execution_count": null,
   "id": "1a4328e8",
   "metadata": {},
   "outputs": [],
   "source": [
    "reshapeda2=a2.reshape(2,4,1)\n",
    "reshapeda2"
   ]
  },
  {
   "cell_type": "code",
   "execution_count": null,
   "id": "002d53d9",
   "metadata": {},
   "outputs": [],
   "source": [
    "reshapeda2.shape"
   ]
  },
  {
   "cell_type": "code",
   "execution_count": null,
   "id": "2066e97d",
   "metadata": {},
   "outputs": [],
   "source": [
    "reshapeda2*a3"
   ]
  },
  {
   "cell_type": "markdown",
   "id": "599f92a1",
   "metadata": {},
   "source": [
    "## Dot Product\n",
    "### Lecture 72"
   ]
  },
  {
   "cell_type": "code",
   "execution_count": null,
   "id": "4cf56389",
   "metadata": {},
   "outputs": [],
   "source": [
    "np.random.seed(0)\n",
    "mat1=np.random.randint(10,size=(4,3))\n",
    "mat2=np.random.randint(10,size=(4,3))"
   ]
  },
  {
   "cell_type": "code",
   "execution_count": null,
   "id": "e58272dd",
   "metadata": {},
   "outputs": [],
   "source": [
    "mat1"
   ]
  },
  {
   "cell_type": "code",
   "execution_count": 55,
   "id": "218b720c",
   "metadata": {},
   "outputs": [
    {
     "ename": "NameError",
     "evalue": "name 'mat2' is not defined",
     "output_type": "error",
     "traceback": [
      "\u001b[1;31m---------------------------------------------------------------------------\u001b[0m",
      "\u001b[1;31mNameError\u001b[0m                                 Traceback (most recent call last)",
      "Cell \u001b[1;32mIn[55], line 1\u001b[0m\n\u001b[1;32m----> 1\u001b[0m mat2\n",
      "\u001b[1;31mNameError\u001b[0m: name 'mat2' is not defined"
     ]
    }
   ],
   "source": [
    "mat2"
   ]
  },
  {
   "cell_type": "code",
   "execution_count": 56,
   "id": "60738576",
   "metadata": {},
   "outputs": [
    {
     "ename": "NameError",
     "evalue": "name 'mat1' is not defined",
     "output_type": "error",
     "traceback": [
      "\u001b[1;31m---------------------------------------------------------------------------\u001b[0m",
      "\u001b[1;31mNameError\u001b[0m                                 Traceback (most recent call last)",
      "Cell \u001b[1;32mIn[56], line 1\u001b[0m\n\u001b[1;32m----> 1\u001b[0m mat1\u001b[38;5;241m.\u001b[39msize, mat2\u001b[38;5;241m.\u001b[39msize\n",
      "\u001b[1;31mNameError\u001b[0m: name 'mat1' is not defined"
     ]
    }
   ],
   "source": [
    "mat1.size, mat2.size"
   ]
  },
  {
   "cell_type": "code",
   "execution_count": 57,
   "id": "16a2cfdc",
   "metadata": {},
   "outputs": [
    {
     "ename": "NameError",
     "evalue": "name 'mat1' is not defined",
     "output_type": "error",
     "traceback": [
      "\u001b[1;31m---------------------------------------------------------------------------\u001b[0m",
      "\u001b[1;31mNameError\u001b[0m                                 Traceback (most recent call last)",
      "Cell \u001b[1;32mIn[57], line 1\u001b[0m\n\u001b[1;32m----> 1\u001b[0m mat1\u001b[38;5;241m.\u001b[39mshape, mat2\u001b[38;5;241m.\u001b[39mshape\n",
      "\u001b[1;31mNameError\u001b[0m: name 'mat1' is not defined"
     ]
    }
   ],
   "source": [
    "mat1.shape, mat2.shape"
   ]
  },
  {
   "cell_type": "code",
   "execution_count": 58,
   "id": "a4f6f640",
   "metadata": {},
   "outputs": [
    {
     "ename": "NameError",
     "evalue": "name 'mat1' is not defined",
     "output_type": "error",
     "traceback": [
      "\u001b[1;31m---------------------------------------------------------------------------\u001b[0m",
      "\u001b[1;31mNameError\u001b[0m                                 Traceback (most recent call last)",
      "Cell \u001b[1;32mIn[58], line 2\u001b[0m\n\u001b[0;32m      1\u001b[0m \u001b[38;5;66;03m# Eleement-wise multiplication (Hadamard Product)\u001b[39;00m\n\u001b[1;32m----> 2\u001b[0m mat1\u001b[38;5;241m*\u001b[39mmat2\n",
      "\u001b[1;31mNameError\u001b[0m: name 'mat1' is not defined"
     ]
    }
   ],
   "source": [
    "# Eleement-wise multiplication (Hadamard Product)\n",
    "mat1*mat2"
   ]
  },
  {
   "cell_type": "code",
   "execution_count": 59,
   "id": "e75c1e63",
   "metadata": {},
   "outputs": [
    {
     "ename": "NameError",
     "evalue": "name 'mat1' is not defined",
     "output_type": "error",
     "traceback": [
      "\u001b[1;31m---------------------------------------------------------------------------\u001b[0m",
      "\u001b[1;31mNameError\u001b[0m                                 Traceback (most recent call last)",
      "Cell \u001b[1;32mIn[59], line 3\u001b[0m\n\u001b[0;32m      1\u001b[0m \u001b[38;5;66;03m# Dot Product\u001b[39;00m\n\u001b[1;32m----> 3\u001b[0m np\u001b[38;5;241m.\u001b[39mdot(mat1, mat2)\n",
      "\u001b[1;31mNameError\u001b[0m: name 'mat1' is not defined"
     ]
    }
   ],
   "source": [
    "# Dot Product\n",
    "\n",
    "np.dot(mat1, mat2)"
   ]
  },
  {
   "cell_type": "code",
   "execution_count": 60,
   "id": "9b96a8fc",
   "metadata": {},
   "outputs": [
    {
     "ename": "NameError",
     "evalue": "name 'mat1' is not defined",
     "output_type": "error",
     "traceback": [
      "\u001b[1;31m---------------------------------------------------------------------------\u001b[0m",
      "\u001b[1;31mNameError\u001b[0m                                 Traceback (most recent call last)",
      "Cell \u001b[1;32mIn[60], line 4\u001b[0m\n\u001b[0;32m      1\u001b[0m \u001b[38;5;66;03m# Dot product with alignment\u001b[39;00m\n\u001b[0;32m      2\u001b[0m \u001b[38;5;66;03m# Transpose matrix\u001b[39;00m\n\u001b[1;32m----> 4\u001b[0m mat1\u001b[38;5;241m=\u001b[39mmat1\u001b[38;5;241m.\u001b[39mT\n",
      "\u001b[1;31mNameError\u001b[0m: name 'mat1' is not defined"
     ]
    }
   ],
   "source": [
    "# Dot product with alignment\n",
    "# Transpose matrix\n",
    "\n",
    "mat1=mat1.T"
   ]
  },
  {
   "cell_type": "code",
   "execution_count": 61,
   "id": "3758bb5d",
   "metadata": {},
   "outputs": [
    {
     "ename": "NameError",
     "evalue": "name 'mat1' is not defined",
     "output_type": "error",
     "traceback": [
      "\u001b[1;31m---------------------------------------------------------------------------\u001b[0m",
      "\u001b[1;31mNameError\u001b[0m                                 Traceback (most recent call last)",
      "Cell \u001b[1;32mIn[61], line 1\u001b[0m\n\u001b[1;32m----> 1\u001b[0m mat1\u001b[38;5;241m.\u001b[39mshape, mat2\u001b[38;5;241m.\u001b[39mshape\n",
      "\u001b[1;31mNameError\u001b[0m: name 'mat1' is not defined"
     ]
    }
   ],
   "source": [
    "mat1.shape, mat2.shape"
   ]
  },
  {
   "cell_type": "code",
   "execution_count": 62,
   "id": "471ba1c8",
   "metadata": {},
   "outputs": [
    {
     "ename": "NameError",
     "evalue": "name 'mat1' is not defined",
     "output_type": "error",
     "traceback": [
      "\u001b[1;31m---------------------------------------------------------------------------\u001b[0m",
      "\u001b[1;31mNameError\u001b[0m                                 Traceback (most recent call last)",
      "Cell \u001b[1;32mIn[62], line 1\u001b[0m\n\u001b[1;32m----> 1\u001b[0m np\u001b[38;5;241m.\u001b[39mdot(mat1,mat2)\n",
      "\u001b[1;31mNameError\u001b[0m: name 'mat1' is not defined"
     ]
    }
   ],
   "source": [
    "np.dot(mat1,mat2)"
   ]
  },
  {
   "cell_type": "markdown",
   "id": "14b45290",
   "metadata": {},
   "source": [
    "## Nut-Butter sale\n",
    "### Lecture 73\n"
   ]
  },
  {
   "cell_type": "code",
   "execution_count": 63,
   "id": "00bdeb3c",
   "metadata": {},
   "outputs": [
    {
     "data": {
      "text/plain": [
       "array([[12, 15,  0],\n",
       "       [ 3,  3,  7],\n",
       "       [ 9, 19, 18],\n",
       "       [ 4,  6, 12],\n",
       "       [ 1,  6,  7]])"
      ]
     },
     "execution_count": 63,
     "metadata": {},
     "output_type": "execute_result"
    }
   ],
   "source": [
    "np.random.seed(0)\n",
    "salesAmt=np.random.randint(20, size=(5,3))\n",
    "salesAmt"
   ]
  },
  {
   "cell_type": "code",
   "execution_count": 64,
   "id": "e3cc8fc4",
   "metadata": {},
   "outputs": [
    {
     "data": {
      "text/html": [
       "<div>\n",
       "<style scoped>\n",
       "    .dataframe tbody tr th:only-of-type {\n",
       "        vertical-align: middle;\n",
       "    }\n",
       "\n",
       "    .dataframe tbody tr th {\n",
       "        vertical-align: top;\n",
       "    }\n",
       "\n",
       "    .dataframe thead th {\n",
       "        text-align: right;\n",
       "    }\n",
       "</style>\n",
       "<table border=\"1\" class=\"dataframe\">\n",
       "  <thead>\n",
       "    <tr style=\"text-align: right;\">\n",
       "      <th></th>\n",
       "      <th>Almond Butter</th>\n",
       "      <th>Peanut Butter</th>\n",
       "      <th>Cashew Butter</th>\n",
       "    </tr>\n",
       "  </thead>\n",
       "  <tbody>\n",
       "    <tr>\n",
       "      <th>Mon</th>\n",
       "      <td>12</td>\n",
       "      <td>15</td>\n",
       "      <td>0</td>\n",
       "    </tr>\n",
       "    <tr>\n",
       "      <th>Tues</th>\n",
       "      <td>3</td>\n",
       "      <td>3</td>\n",
       "      <td>7</td>\n",
       "    </tr>\n",
       "    <tr>\n",
       "      <th>Wed</th>\n",
       "      <td>9</td>\n",
       "      <td>19</td>\n",
       "      <td>18</td>\n",
       "    </tr>\n",
       "    <tr>\n",
       "      <th>Thurs</th>\n",
       "      <td>4</td>\n",
       "      <td>6</td>\n",
       "      <td>12</td>\n",
       "    </tr>\n",
       "    <tr>\n",
       "      <th>Fri</th>\n",
       "      <td>1</td>\n",
       "      <td>6</td>\n",
       "      <td>7</td>\n",
       "    </tr>\n",
       "  </tbody>\n",
       "</table>\n",
       "</div>"
      ],
      "text/plain": [
       "       Almond Butter  Peanut Butter  Cashew Butter\n",
       "Mon               12             15              0\n",
       "Tues               3              3              7\n",
       "Wed                9             19             18\n",
       "Thurs              4              6             12\n",
       "Fri                1              6              7"
      ]
     },
     "execution_count": 64,
     "metadata": {},
     "output_type": "execute_result"
    }
   ],
   "source": [
    "# Create weekly sales\n",
    "weeklySales=pd.DataFrame(salesAmt, index=[\"Mon\", \"Tues\",\"Wed\",\"Thurs\",\"Fri\"],\n",
    "                        columns=[\"Almond Butter\", \"Peanut Butter\", \"Cashew Butter\"])\n",
    "weeklySales"
   ]
  },
  {
   "cell_type": "code",
   "execution_count": 65,
   "id": "4cc8ea01",
   "metadata": {},
   "outputs": [
    {
     "data": {
      "text/plain": [
       "array([10,  8, 12])"
      ]
     },
     "execution_count": 65,
     "metadata": {},
     "output_type": "execute_result"
    }
   ],
   "source": [
    "prices=np.array([10,8,12])\n",
    "prices"
   ]
  },
  {
   "cell_type": "code",
   "execution_count": 66,
   "id": "afbac073",
   "metadata": {},
   "outputs": [
    {
     "data": {
      "text/html": [
       "<div>\n",
       "<style scoped>\n",
       "    .dataframe tbody tr th:only-of-type {\n",
       "        vertical-align: middle;\n",
       "    }\n",
       "\n",
       "    .dataframe tbody tr th {\n",
       "        vertical-align: top;\n",
       "    }\n",
       "\n",
       "    .dataframe thead th {\n",
       "        text-align: right;\n",
       "    }\n",
       "</style>\n",
       "<table border=\"1\" class=\"dataframe\">\n",
       "  <thead>\n",
       "    <tr style=\"text-align: right;\">\n",
       "      <th></th>\n",
       "      <th>Almond Butter</th>\n",
       "      <th>Peanut Butter</th>\n",
       "      <th>Cashew Butter</th>\n",
       "    </tr>\n",
       "  </thead>\n",
       "  <tbody>\n",
       "    <tr>\n",
       "      <th>Price</th>\n",
       "      <td>10</td>\n",
       "      <td>8</td>\n",
       "      <td>12</td>\n",
       "    </tr>\n",
       "  </tbody>\n",
       "</table>\n",
       "</div>"
      ],
      "text/plain": [
       "       Almond Butter  Peanut Butter  Cashew Butter\n",
       "Price             10              8             12"
      ]
     },
     "execution_count": 66,
     "metadata": {},
     "output_type": "execute_result"
    }
   ],
   "source": [
    "butterPrices=pd.DataFrame(prices.reshape(1,3), index=[\"Price\"],\n",
    "                         columns=[\"Almond Butter\", \"Peanut Butter\", \"Cashew Butter\"])\n",
    "butterPrices"
   ]
  },
  {
   "cell_type": "code",
   "execution_count": 67,
   "id": "4e431254",
   "metadata": {},
   "outputs": [
    {
     "ename": "ValueError",
     "evalue": "shapes (3,) and (5,3) not aligned: 3 (dim 0) != 5 (dim 0)",
     "output_type": "error",
     "traceback": [
      "\u001b[1;31m---------------------------------------------------------------------------\u001b[0m",
      "\u001b[1;31mValueError\u001b[0m                                Traceback (most recent call last)",
      "Cell \u001b[1;32mIn[67], line 1\u001b[0m\n\u001b[1;32m----> 1\u001b[0m totalSales\u001b[38;5;241m=\u001b[39mprices\u001b[38;5;241m.\u001b[39mdot(salesAmt)\n",
      "\u001b[1;31mValueError\u001b[0m: shapes (3,) and (5,3) not aligned: 3 (dim 0) != 5 (dim 0)"
     ]
    }
   ],
   "source": [
    "totalSales=prices.dot(salesAmt)"
   ]
  },
  {
   "cell_type": "code",
   "execution_count": 68,
   "id": "0b16d52d",
   "metadata": {},
   "outputs": [
    {
     "data": {
      "text/plain": [
       "(5,)"
      ]
     },
     "execution_count": 68,
     "metadata": {},
     "output_type": "execute_result"
    }
   ],
   "source": [
    "totalSales=prices.dot(salesAmt.T)\n",
    "totalSales.shape"
   ]
  },
  {
   "cell_type": "code",
   "execution_count": 69,
   "id": "2e9a7f23",
   "metadata": {},
   "outputs": [
    {
     "data": {
      "text/html": [
       "<div>\n",
       "<style scoped>\n",
       "    .dataframe tbody tr th:only-of-type {\n",
       "        vertical-align: middle;\n",
       "    }\n",
       "\n",
       "    .dataframe tbody tr th {\n",
       "        vertical-align: top;\n",
       "    }\n",
       "\n",
       "    .dataframe thead th {\n",
       "        text-align: right;\n",
       "    }\n",
       "</style>\n",
       "<table border=\"1\" class=\"dataframe\">\n",
       "  <thead>\n",
       "    <tr style=\"text-align: right;\">\n",
       "      <th></th>\n",
       "      <th>Almond Butter</th>\n",
       "      <th>Peanut Butter</th>\n",
       "      <th>Cashew Butter</th>\n",
       "      <th>Total $</th>\n",
       "    </tr>\n",
       "  </thead>\n",
       "  <tbody>\n",
       "    <tr>\n",
       "      <th>Mon</th>\n",
       "      <td>12</td>\n",
       "      <td>15</td>\n",
       "      <td>0</td>\n",
       "      <td>240</td>\n",
       "    </tr>\n",
       "    <tr>\n",
       "      <th>Tues</th>\n",
       "      <td>3</td>\n",
       "      <td>3</td>\n",
       "      <td>7</td>\n",
       "      <td>138</td>\n",
       "    </tr>\n",
       "    <tr>\n",
       "      <th>Wed</th>\n",
       "      <td>9</td>\n",
       "      <td>19</td>\n",
       "      <td>18</td>\n",
       "      <td>458</td>\n",
       "    </tr>\n",
       "    <tr>\n",
       "      <th>Thurs</th>\n",
       "      <td>4</td>\n",
       "      <td>6</td>\n",
       "      <td>12</td>\n",
       "      <td>232</td>\n",
       "    </tr>\n",
       "    <tr>\n",
       "      <th>Fri</th>\n",
       "      <td>1</td>\n",
       "      <td>6</td>\n",
       "      <td>7</td>\n",
       "      <td>142</td>\n",
       "    </tr>\n",
       "  </tbody>\n",
       "</table>\n",
       "</div>"
      ],
      "text/plain": [
       "       Almond Butter  Peanut Butter  Cashew Butter  Total $\n",
       "Mon               12             15              0      240\n",
       "Tues               3              3              7      138\n",
       "Wed                9             19             18      458\n",
       "Thurs              4              6             12      232\n",
       "Fri                1              6              7      142"
      ]
     },
     "execution_count": 69,
     "metadata": {},
     "output_type": "execute_result"
    }
   ],
   "source": [
    "weeklySales[\"Total $\"]=totalSales\n",
    "weeklySales"
   ]
  },
  {
   "cell_type": "markdown",
   "id": "06618502",
   "metadata": {},
   "source": [
    "## Comparison operator\n",
    "### Lecture 74"
   ]
  },
  {
   "cell_type": "code",
   "execution_count": 70,
   "id": "048a9fd9",
   "metadata": {},
   "outputs": [],
   "source": [
    "# All Python comparison operators works same as in NumPy arrays"
   ]
  },
  {
   "cell_type": "markdown",
   "id": "76b14215",
   "metadata": {},
   "source": [
    "## Sorting Array\n",
    "### Lecture 75"
   ]
  },
  {
   "cell_type": "code",
   "execution_count": 71,
   "id": "189fd9b3",
   "metadata": {},
   "outputs": [
    {
     "data": {
      "text/plain": [
       "array([[[ 1,  2,  3],\n",
       "        [ 4,  5,  6],\n",
       "        [ 7,  8,  9]],\n",
       "\n",
       "       [[10, 11, 12],\n",
       "        [13, 14, 15],\n",
       "        [16, 17, 18]]])"
      ]
     },
     "execution_count": 71,
     "metadata": {},
     "output_type": "execute_result"
    }
   ],
   "source": [
    "a3"
   ]
  },
  {
   "cell_type": "code",
   "execution_count": 72,
   "id": "0ac3e6a9",
   "metadata": {},
   "outputs": [
    {
     "data": {
      "text/plain": [
       "array([[11, 11,  6, 13],\n",
       "       [ 1,  2,  3,  3],\n",
       "       [12,  0,  6,  1],\n",
       "       [ 4,  5, 13,  9],\n",
       "       [ 2, 11,  6, 10],\n",
       "       [ 0,  5,  8, 12]])"
      ]
     },
     "execution_count": 72,
     "metadata": {},
     "output_type": "execute_result"
    }
   ],
   "source": [
    "np.random.seed(12)\n",
    "randomArray=np.random.randint(15, size=(6,4))\n",
    "randomArray"
   ]
  },
  {
   "cell_type": "code",
   "execution_count": 73,
   "id": "43330efa",
   "metadata": {},
   "outputs": [
    {
     "data": {
      "text/plain": [
       "array([[ 6, 11, 11, 13],\n",
       "       [ 1,  2,  3,  3],\n",
       "       [ 0,  1,  6, 12],\n",
       "       [ 4,  5,  9, 13],\n",
       "       [ 2,  6, 10, 11],\n",
       "       [ 0,  5,  8, 12]])"
      ]
     },
     "execution_count": 73,
     "metadata": {},
     "output_type": "execute_result"
    }
   ],
   "source": [
    "# All the elements will sort in its particular row\n",
    "np.sort(randomArray)"
   ]
  },
  {
   "cell_type": "code",
   "execution_count": 74,
   "id": "18c8add1",
   "metadata": {},
   "outputs": [
    {
     "data": {
      "text/plain": [
       "array([[11, 11,  6, 13],\n",
       "       [ 1,  2,  3,  3],\n",
       "       [12,  0,  6,  1],\n",
       "       [ 4,  5, 13,  9],\n",
       "       [ 2, 11,  6, 10],\n",
       "       [ 0,  5,  8, 12]])"
      ]
     },
     "execution_count": 74,
     "metadata": {},
     "output_type": "execute_result"
    }
   ],
   "source": [
    "randomArray"
   ]
  },
  {
   "cell_type": "code",
   "execution_count": 75,
   "id": "e60dbeb5",
   "metadata": {},
   "outputs": [
    {
     "data": {
      "text/plain": [
       "array([3, 2, 0, 2, 1, 3], dtype=int64)"
      ]
     },
     "execution_count": 75,
     "metadata": {},
     "output_type": "execute_result"
    }
   ],
   "source": [
    "# It returns the array of index of maximum value present in rows\n",
    "np.argmax(randomArray, axis=1)"
   ]
  },
  {
   "cell_type": "code",
   "execution_count": 76,
   "id": "5f2d24e4",
   "metadata": {},
   "outputs": [
    {
     "data": {
      "text/plain": [
       "array([2, 0, 3, 0], dtype=int64)"
      ]
     },
     "execution_count": 76,
     "metadata": {},
     "output_type": "execute_result"
    }
   ],
   "source": [
    "# It returns the array of index of maximum value present in column\n",
    "np.argmax(randomArray, axis=0)"
   ]
  },
  {
   "cell_type": "code",
   "execution_count": 77,
   "id": "9f66c8c6",
   "metadata": {},
   "outputs": [
    {
     "data": {
      "text/plain": [
       "(3, 9)"
      ]
     },
     "execution_count": 77,
     "metadata": {},
     "output_type": "execute_result"
    }
   ],
   "source": [
    "# It return the index of max/min counting from left to right in a\n",
    "# row than in column\n",
    "np.argmax(randomArray), np.argmin(randomArray)"
   ]
  },
  {
   "cell_type": "markdown",
   "id": "f465bd0d",
   "metadata": {},
   "source": [
    "## Turning Image into an NumPy Array\n",
    "### Lecture 76"
   ]
  },
  {
   "cell_type": "code",
   "execution_count": 80,
   "id": "b25c48c4",
   "metadata": {},
   "outputs": [
    {
     "data": {
      "text/plain": [
       "((183, 275, 3), 150975, 3, numpy.ndarray)"
      ]
     },
     "execution_count": 80,
     "metadata": {},
     "output_type": "execute_result"
    }
   ],
   "source": [
    "from matplotlib.image import imread\n",
    "\n",
    "car = imread(\"car.jpeg\")\n",
    "car.shape, car.size, car.ndim, type(car)"
   ]
  },
  {
   "cell_type": "code",
   "execution_count": 83,
   "id": "cb06141e",
   "metadata": {},
   "outputs": [],
   "source": [
    "car=car.reshape(3,-1)"
   ]
  },
  {
   "cell_type": "code",
   "execution_count": 84,
   "id": "2380579a",
   "metadata": {},
   "outputs": [
    {
     "data": {
      "text/plain": [
       "(3, 50325)"
      ]
     },
     "execution_count": 84,
     "metadata": {},
     "output_type": "execute_result"
    }
   ],
   "source": [
    "car.shape"
   ]
  },
  {
   "cell_type": "code",
   "execution_count": null,
   "id": "f561d448",
   "metadata": {},
   "outputs": [],
   "source": [
    "import matplotlib.pyplot as plt\n",
    "plt.hist(car)\n",
    "plt.show()"
   ]
  },
  {
   "cell_type": "code",
   "execution_count": null,
   "id": "b9f2a903",
   "metadata": {},
   "outputs": [],
   "source": []
  }
 ],
 "metadata": {
  "kernelspec": {
   "display_name": "Python 3 (ipykernel)",
   "language": "python",
   "name": "python3"
  },
  "language_info": {
   "codemirror_mode": {
    "name": "ipython",
    "version": 3
   },
   "file_extension": ".py",
   "mimetype": "text/x-python",
   "name": "python",
   "nbconvert_exporter": "python",
   "pygments_lexer": "ipython3",
   "version": "3.11.3"
  }
 },
 "nbformat": 4,
 "nbformat_minor": 5
}
