{
  "cells": [
    {
      "cell_type": "markdown",
      "metadata": {
        "slideshow": {
          "slide_type": "slide"
        }
      },
      "source": [
        "# 3. Functions"
      ]
    },
    {
      "cell_type": "markdown",
      "metadata": {},
      "source": [
        "## 3.1 Defining and calling a function\n",
        "You can define a **function** to avoid repeating the same logic over and over. While Python typically refers to function, other words commonly used are 'procedure', 'method', and similar. They are the same thing, and these other terms are sometimes used in other programming languages.\n",
        "\n",
        "A function collects a number of variables and operations into a single block of code. This function or block of code only executes when it is *called*. It is normally the idea and purpose to *call* a function multiple times in a program."
      ]
    },
    {
      "cell_type": "code",
      "execution_count": 1,
      "metadata": {
        "trusted": true
      },
      "outputs": [
        {
          "data": {
            "text/plain": [
              "9"
            ]
          },
          "execution_count": 1,
          "metadata": {},
          "output_type": "execute_result"
        }
      ],
      "source": [
        "# Example: len() is a function that has been defined earlier in Python. Every time that you use this function (or 'call' the function), the same code block is executed.\n",
        "len(\"Eindhoven\")"
      ]
    },
    {
      "cell_type": "markdown",
      "metadata": {},
      "source": [
        "A function can be defined using the `def` keyword. **Important:** The below function is simply defined. It is therefore **NOT** executed. **It will only be executed when you 'call' the function.**"
      ]
    },
    {
      "cell_type": "code",
      "execution_count": 4,
      "metadata": {
        "trusted": true
      },
      "outputs": [],
      "source": [
        "def myFunction():\n",
        "    return \"hello there\""
      ]
    },
    {
      "cell_type": "markdown",
      "metadata": {},
      "source": [
        "So let's now call the above function."
      ]
    },
    {
      "cell_type": "code",
      "execution_count": 5,
      "metadata": {
        "trusted": true
      },
      "outputs": [
        {
          "data": {
            "text/plain": [
              "'hello there'"
            ]
          },
          "execution_count": 5,
          "metadata": {},
          "output_type": "execute_result"
        }
      ],
      "source": [
        "myFunction()"
      ]
    },
    {
      "cell_type": "markdown",
      "metadata": {},
      "source": [
        "And... let's just call it again for the fun of it."
      ]
    },
    {
      "cell_type": "code",
      "execution_count": 6,
      "metadata": {
        "trusted": true
      },
      "outputs": [
        {
          "data": {
            "text/plain": [
              "'hello there'"
            ]
          },
          "execution_count": 6,
          "metadata": {},
          "output_type": "execute_result"
        }
      ],
      "source": [
        "myFunction()"
      ]
    },
    {
      "cell_type": "markdown",
      "metadata": {},
      "source": [
        "## 3.2 Parts of a function\n",
        "A function can easily be recognised, as it always has the same parts and notation. When *defining* a function, the below structure is always used."
      ]
    },
    {
      "cell_type": "code",
      "execution_count": null,
      "metadata": {
        "slideshow": {
          "slide_type": "fragment"
        }
      },
      "outputs": [],
      "source": [
        "def celsius_to_fahrenheit(deg_c):\n",
        "    deg_f = deg_c * 9/5 + 32\n",
        "    print(f\"It is {deg_c}°C ({deg_f}°F) in Eindhoven today.\")"
      ]
    },
    {
      "cell_type": "markdown",
      "metadata": {},
      "source": [
        "- The first thing to recognize a function with, is **the `def` keyword**. This keyword comes at the start, and it clarifies that a function will be defined.\n",
        "- The second item to recognize in a function, is the use of round brackets `()`. Round brackets come right after the **name of the function**, and they indicate what **input parameters** a function expects. After the name and the brackets of a function, always comes a colon (`:`) to mark the start of the body of the code, which is always indented until the end of the function body. \n",
        "- Thirdly, the function has an indented body, and it **returns a value of a certain data type**\n",
        "\n",
        "This definition of a function is called **the signature of the function**. The signature of a function is *defined by the number and type of input arguments the function takes and the type of the result the function returns*.\n",
        "\n",
        "*Task:* Can you recognize all these parts in the above function?"
      ]
    },
    {
      "cell_type": "code",
      "execution_count": 8,
      "metadata": {
        "slideshow": {
          "slide_type": "fragment"
        },
        "trusted": true
      },
      "outputs": [],
      "source": [
        "def celsius_to_fahrenheit(deg_c):\n",
        "    deg_f = deg_c * 9/5 + 32\n",
        "    print(f\"It is {deg_c}°C ({deg_f}°F) in Eindhoven today.\")"
      ]
    },
    {
      "cell_type": "markdown",
      "metadata": {
        "slideshow": {
          "slide_type": "subslide"
        }
      },
      "source": [
        "Also when calling a function, key parts of the function can be recognized, namely the name of the fuction, the round brackets, and the input parameters inside these round brackets.\n",
        "\n",
        "> `celsius_to_fahrenheit(20)`\n",
        "\n",
        "See the difference in the input parameters when defining and calling a function. When defining a function, only the name of the input parameter(s) is used (`deg_c`). There is no specific value. When calling a function, only a value is used (`20`) - typically communicated using a variable (`currentTemp`).\n",
        "\n",
        "> `def celsius_to_fahrenheit(deg_c):`\n",
        "\n",
        "> `celsius_to_fahrenheit(20)`\n",
        "\n",
        "> `celsius_to_fahrenheit(currentTemp)`"
      ]
    },
    {
      "cell_type": "code",
      "execution_count": null,
      "metadata": {
        "slideshow": {
          "slide_type": "fragment"
        }
      },
      "outputs": [
        {
          "name": "stdout",
          "output_type": "stream",
          "text": [
            "It is 20°C (68.0°F) in Eindhoven today.\n"
          ]
        }
      ],
      "source": [
        "celsius_to_fahrenheit(20)"
      ]
    },
    {
      "cell_type": "code",
      "execution_count": null,
      "metadata": {
        "slideshow": {
          "slide_type": "fragment"
        }
      },
      "outputs": [
        {
          "name": "stdout",
          "output_type": "stream",
          "text": [
            "It is 7°C (44.6°F) in Eindhoven today.\n"
          ]
        }
      ],
      "source": [
        "celsius_to_fahrenheit(7)"
      ]
    },
    {
      "cell_type": "code",
      "execution_count": 9,
      "metadata": {
        "slideshow": {
          "slide_type": "fragment"
        },
        "trusted": true
      },
      "outputs": [
        {
          "name": "stdout",
          "output_type": "stream",
          "text": [
            "It is 24°C (75.2°F) in Eindhoven today.\n"
          ]
        }
      ],
      "source": [
        "currentTemp = 24\n",
        "celsius_to_fahrenheit(currentTemp)"
      ]
    },
    {
      "cell_type": "markdown",
      "metadata": {
        "slideshow": {
          "slide_type": "subslide"
        }
      },
      "source": [
        "The above example functions have only 1 input parameter or input argument. It is possible to define functions without input parameters, and also more than one input parameter. Let's add one more argument to our function."
      ]
    },
    {
      "cell_type": "code",
      "execution_count": 10,
      "metadata": {
        "slideshow": {
          "slide_type": "fragment"
        },
        "trusted": true
      },
      "outputs": [],
      "source": [
        "def celsius_to_fahrenheit(deg_c, message):\n",
        "    deg_f = deg_c * 9/5 + 32\n",
        "    print(f\"It is {deg_c}°C ({deg_f}°F) in Eindhoven today.\")\n",
        "    print(message)"
      ]
    },
    {
      "cell_type": "code",
      "execution_count": 11,
      "metadata": {
        "slideshow": {
          "slide_type": "fragment"
        },
        "trusted": true
      },
      "outputs": [
        {
          "name": "stdout",
          "output_type": "stream",
          "text": [
            "It is 20°C (68.0°F) in Eindhoven today.\n",
            "Enjoy the weather!\n"
          ]
        }
      ],
      "source": [
        "celsius_to_fahrenheit(20, 'Enjoy the weather!')"
      ]
    },
    {
      "cell_type": "markdown",
      "metadata": {
        "slideshow": {
          "slide_type": "skip"
        }
      },
      "source": [
        "## 3.3 Variable scope in functions\n",
        "A variable is **only available inside the region where it is created**. This is the **scope** of the variable. There are two kinds of scope, global scope and local scope. \n",
        "- local scope: If a variable is created within a function, it belongs to the function's local scope and can only be accessed within the function.\n",
        "- global scope: If a variable is created outside a function, it is available in this larger global scope, and it can be accessed by all functions and the entire script."
      ]
    },
    {
      "cell_type": "code",
      "execution_count": 13,
      "metadata": {
        "slideshow": {
          "slide_type": "skip"
        },
        "trusted": true
      },
      "outputs": [
        {
          "name": "stdout",
          "output_type": "stream",
          "text": [
            "It is 13°C (55.4°F) in Eindhoven today.\n",
            "This is a global variable\n"
          ]
        }
      ],
      "source": [
        "global_variable = 'This is a global variable' ## global variable\n",
        "\n",
        "def celsius_to_fahrenheit(deg_c):\n",
        "    deg_f = deg_c * 9/5 + 32\n",
        "    print(f\"It is {deg_c}°C ({deg_f}°F) in Eindhoven today.\")\n",
        "    print(global_variable)\n",
        "\n",
        "celsius_to_fahrenheit(13)"
      ]
    },
    {
      "cell_type": "code",
      "execution_count": 14,
      "metadata": {
        "slideshow": {
          "slide_type": "skip"
        },
        "trusted": true
      },
      "outputs": [
        {
          "name": "stdout",
          "output_type": "stream",
          "text": [
            "It is 13°C (55.4°F) in Eindhoven today.\n",
            "This is a global variable\n",
            "Enjoy the weather\n"
          ]
        }
      ],
      "source": [
        "global_variable = 'This is a global variable' ## global variable\n",
        "\n",
        "def celsius_to_fahrenheit(deg_c):\n",
        "    message = 'Enjoy the weather' ## local variable\n",
        "    deg_f = deg_c * 9/5 + 32\n",
        "    print(f\"It is {deg_c}°C ({deg_f}°F) in Eindhoven today.\")\n",
        "    print(global_variable)\n",
        "    print(message)\n",
        "\n",
        "celsius_to_fahrenheit(13)"
      ]
    },
    {
      "cell_type": "code",
      "execution_count": 15,
      "metadata": {
        "slideshow": {
          "slide_type": "skip"
        },
        "trusted": true
      },
      "outputs": [
        {
          "name": "stdout",
          "output_type": "stream",
          "text": [
            "It is 13°C (55.4°F) in Eindhoven today.\n",
            "This is a global variable\n",
            "Enjoy the weather\n"
          ]
        },
        {
          "ename": "<class 'NameError'>",
          "evalue": "name 'message' is not defined",
          "output_type": "error",
          "traceback": [
            "\u001b[0;31m---------------------------------------------------------------------------\u001b[0m",
            "\u001b[0;31mNameError\u001b[0m                                 Traceback (most recent call last)",
            "Cell \u001b[0;32mIn[15], line 14\u001b[0m\n\u001b[1;32m     10\u001b[0m celsius_to_fahrenheit(\u001b[38;5;241m13\u001b[39m)\n\u001b[1;32m     12\u001b[0m \u001b[38;5;66;03m## The next line generates an error, because the variable 'message' is only available inside the celcius_to_fahrenheit function. \u001b[39;00m\n\u001b[1;32m     13\u001b[0m \u001b[38;5;66;03m## It is a local variable, and the below line is outside the scope of the the message variable.\u001b[39;00m\n\u001b[0;32m---> 14\u001b[0m \u001b[38;5;28mprint\u001b[39m(\u001b[43mmessage\u001b[49m)\n",
            "\u001b[0;31mNameError\u001b[0m: name 'message' is not defined"
          ]
        }
      ],
      "source": [
        "global_variable = 'This is a global variable'\n",
        "\n",
        "def celsius_to_fahrenheit(deg_c):\n",
        "    message = 'Enjoy the weather'\n",
        "    deg_f = deg_c * 9/5 + 32\n",
        "    print(f\"It is {deg_c}°C ({deg_f}°F) in Eindhoven today.\")\n",
        "    print(global_variable)\n",
        "    print(message)\n",
        "\n",
        "celsius_to_fahrenheit(13)\n",
        "\n",
        "## The next line generates an error, because the variable 'message' is only available inside the celcius_to_fahrenheit function. \n",
        "## It is a local variable, and the below line is outside the scope of the the message variable.\n",
        "print(message)"
      ]
    },
    {
      "cell_type": "markdown",
      "metadata": {
        "slideshow": {
          "slide_type": "subslide"
        }
      },
      "source": [
        "## 3.4 Return value from function\n",
        "We can return the output value of a function and we can use it."
      ]
    },
    {
      "cell_type": "code",
      "execution_count": null,
      "metadata": {
        "slideshow": {
          "slide_type": "subslide"
        }
      },
      "outputs": [
        {
          "name": "stdout",
          "output_type": "stream",
          "text": [
            "It is 12°C (53.6°F) in Eindhoven today.\n",
            "\n",
            "None\n"
          ]
        }
      ],
      "source": [
        "def celsius_to_fahrenheit(deg_c):\n",
        "    deg_f = deg_c * 9/5 + 32\n",
        "    # we just print the output, so there is no return value\n",
        "    print(f\"It is {deg_c}°C ({deg_f}°F) in Eindhoven today.\")\n",
        "\n",
        "output = celsius_to_fahrenheit(12)\n",
        "print(output) # this is None  because there is no return value"
      ]
    },
    {
      "cell_type": "code",
      "execution_count": 1,
      "metadata": {
        "slideshow": {
          "slide_type": "subslide"
        }
      },
      "outputs": [
        {
          "name": "stdout",
          "output_type": "stream",
          "text": [
            "It is 12°C (53.6°F) in Eindhoven today.\n"
          ]
        }
      ],
      "source": [
        "def celsius_to_fahrenheit(deg_c):\n",
        "    deg_f = deg_c * 9/5 + 32\n",
        "    # instead of printing, we return the desired output\n",
        "    return f\"It is {deg_c}°C ({deg_f}°F) in Eindhoven today.\"\n",
        "\n",
        "output = celsius_to_fahrenheit(12)\n",
        "print(output) # now we have a return value"
      ]
    },
    {
      "cell_type": "markdown",
      "metadata": {
        "slideshow": {
          "slide_type": "skip"
        }
      },
      "source": [
        "## 3.4 Default values\n",
        "Finally, it is possible to provide a defult "
      ]
    },
    {
      "cell_type": "code",
      "execution_count": null,
      "metadata": {
        "slideshow": {
          "slide_type": "skip"
        }
      },
      "outputs": [
        {
          "name": "stdout",
          "output_type": "stream",
          "text": [
            "It is 12°C (53.6°F) in Eindhoven today. Enjoy the weather!\n"
          ]
        }
      ],
      "source": [
        "def celsius_to_fahrenheit(deg_c=12, message='Enjoy the weather!'): # you can set default values by assigning them at function dfinition\n",
        "    deg_f = deg_c * 9/5 + 32\n",
        "    print(f\"It is {deg_c}°C ({deg_c* 9/5 + 32}°F) in Eindhoven today.\", message)\n",
        "\n",
        "celsius_to_fahrenheit() # when you call a function without arguments, it uses default arguments if available."
      ]
    },
    {
      "cell_type": "markdown",
      "metadata": {},
      "source": [
        "## 3.5 Built-in functions\n",
        "Python comes with a set of built-in functions, which are defined beforehand and are available to all by default. Use Google to learn what they mean.\n",
        "\n",
        "<img src=\"images/builtinFunctions.png\" alt=\"image\" width=\"600\" height=\"auto\"></img>\n",
        "\n"
      ]
    }
  ],
  "metadata": {
    "celltoolbar": "Slideshow",
    "kernelspec": {
      "display_name": "Python (Pyodide)",
      "language": "python",
      "name": "python"
    },
    "language_info": {
      "codemirror_mode": {
        "name": "python",
        "version": 3
      },
      "file_extension": ".py",
      "mimetype": "text/x-python",
      "name": "python",
      "nbconvert_exporter": "python",
      "pygments_lexer": "ipython3",
      "version": "3.8"
    },
    "vscode": {
      "interpreter": {
        "hash": "328d38edb4a47e72717e062bae5904cf5f8811ba316934a40a547226342d9fc7"
      }
    }
  },
  "nbformat": 4,
  "nbformat_minor": 4
}
