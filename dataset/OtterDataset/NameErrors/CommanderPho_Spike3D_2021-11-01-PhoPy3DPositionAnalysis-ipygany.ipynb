{
 "cells": [
  {
   "cell_type": "code",
   "execution_count": 1,
   "id": "f6088dc9",
   "metadata": {
    "tags": []
   },
   "outputs": [],
   "source": [
    "#!/usr/bin/env python3\n",
    "# -*- coding: utf-8 -*-\n",
    "\"\"\"\n",
    "@author: pho\n",
    "\"\"\"\n",
    "import sys\n",
    "from threading import Thread\n",
    "from ipygany import PolyMesh, Scene, IsoColor, WarpByScalar\n",
    "import pyvista as pv\n",
    "import pyvistaqt as pvqt\n",
    "import colorcet as cc # Colormaps:\n",
    "\n",
    "# pv.set_jupyter_backend('pythreejs')\n",
    "# pv.set_jupyter_backend('ipygany') # ipygany fails \" Failed to use notebook backend: \"\n",
    "# pv.set_jupyter_backend('panel') # Doesn't work either, produces no output\n",
    "import numpy as np\n",
    "import h5py\n",
    "import hdf5storage # conda install hdf5storage\n",
    "from pathlib import Path\n",
    "import bqplot.scales\n",
    "import seaborn as sns\n",
    "from mpl_toolkits import mplot3d\n",
    "import matplotlib.pyplot as plt\n",
    "import matplotlib.cm as cm\n",
    "from matplotlib.colors import Normalize\n",
    "# import mplcursors\n",
    "import math # For color map generation\n",
    "from matplotlib.colors import ListedColormap\n",
    "from matplotlib.cm import hsv\n",
    "\n",
    "import ipywidgets as widgets\n",
    "# from PyQt5 import QtWidgets, uic\n",
    "from pyvistaqt import QtInteractor, MainWindow"
   ]
  },
  {
   "cell_type": "code",
   "execution_count": 2,
   "id": "502a4f6e",
   "metadata": {},
   "outputs": [],
   "source": [
    "# import PhoPositionalData as pdp\n",
    "# from PhoPositionalData import load_exported, process_data\n",
    "from PhoPositionalData.load_exported import *\n",
    "# from PhoPositionalData.process_data import process_positionalAnalysis_data, gen_2d_histrogram, get_heatmap_color_vectors, process_chunk_equal_poritions_data, extract_spike_timeseries\n",
    "from PhoPositionalData.process_data import *\n",
    "from PhoPositionalData.plot_data import *\n",
    "from PhoPositionalData.import_data import *"
   ]
  },
  {
   "cell_type": "code",
   "execution_count": 3,
   "id": "f117bf5b-82f0-4180-a79b-f03998ff739a",
   "metadata": {
    "pycharm": {
     "is_executing": true
    },
    "tags": []
   },
   "outputs": [
    {
     "data": {
      "text/plain": [
       "True"
      ]
     },
     "execution_count": 3,
     "metadata": {},
     "output_type": "execute_result"
    }
   ],
   "source": [
    "# RoyMaze1:\n",
    "# mat_import_parent_path = Path(r'C:\\Share\\data\\RoyMaze1')\n",
    "# '/Users/pho/repo/Python Projects/PhoNeuronGillespie2021CodeRepo/PhoMatlabDataScripting/ExportedData/RoyMaze1/'\n",
    "\n",
    "# mat_import_parent_path = Path(r'/Users/pho/repo/Python Projects/PhoNeuronGillespie2021CodeRepo/PhoMatlabDataScripting/ExportedData/RoyMaze1')\n",
    "# mat_import_parent_path = Path(r'data/ExportedData/RoyMaze1')\n",
    "mat_import_parent_path = Path('C:/Users/Pho/repos/PhoPy3DPositionAnalysis2021/data/ExportedData/KevinMaze1')\n",
    "mat_import_parent_path.exists()\n",
    "spikes_mat_import_file = mat_import_parent_path.joinpath('ExportedData', 'spikesAnalysis.mat')\n",
    "spikes_mat_import_file.exists()"
   ]
  },
  {
   "cell_type": "code",
   "execution_count": 4,
   "id": "bf0130d4-067b-4879-9908-84d20f9177b3",
   "metadata": {
    "pycharm": {
     "is_executing": true
    },
    "tags": []
   },
   "outputs": [
    {
     "name": "stdout",
     "output_type": "stream",
     "text": [
      "Loading matlab import file: C:\\Users\\Pho\\repos\\PhoPy3DPositionAnalysis2021\\data\\ExportedData\\KevinMaze1\\ExportedData\\positionAnalysis.mat...\n",
      "done.\n",
      "shapes - t: (88447,), x: (88447,), y: (88447,)\n",
      "Loading matlab import file: C:\\Users\\Pho\\repos\\PhoPy3DPositionAnalysis2021\\data\\ExportedData\\KevinMaze1\\ExportedData\\spikesAnalysis.mat...\n",
      "done.\n",
      "num_cells: 57\n",
      "cell_ids: [2, 3, 4, 5, 7, 8, 9, 10, 11, 12, 13, 14, 15, 16, 17, 19, 20, 21, 22, 23, 24, 26, 28, 29, 30, 32, 33, 34, 37, 38, 40, 41, 42, 45, 46, 47, 48, 50, 51, 53, 54, 55, 56, 57, 58, 60, 62, 64, 65, 66, 67, 69, 70, 71, 72, 74, 76]\n"
     ]
    }
   ],
   "source": [
    "# mat_import_file = r'C:\\Share\\data\\RoyMaze1\\ExportedData.mat'\n",
    "# Import the positions\n",
    "t,x,y,speeds,dt,dx,dy = perform_import_positions(mat_import_parent_path=mat_import_parent_path)\n",
    "# Import the spikes\n",
    "spike_matrix, spike_cells, num_cells, spike_list, spike_positions_list, cell_ids, reverse_cellID_idx_lookup_map = perform_import_spikes(t, x, y, mat_import_parent_path=mat_import_parent_path)\n",
    "print('num_cells: {}'.format(num_cells))\n",
    "print('cell_ids: {}'.format(cell_ids)) # cell_ids is now a regular python list with 57 elements\n",
    "# print('cell_ids: {}'.format(cell_ids[:,0].T))"
   ]
  },
  {
   "cell_type": "code",
   "execution_count": 5,
   "id": "b45e9804-1ee7-4338-8d0d-8a12b5a43a51",
   "metadata": {},
   "outputs": [],
   "source": [
    "# reverse_cellID_idx_lookup_map[2]\n",
    "active_cells_colormap = cc.rainbow[:num_cells]\n",
    "# active_cells_colormap\n",
    "# print('{}'.format(cell_ids[0, 0]))"
   ]
  },
  {
   "cell_type": "code",
   "execution_count": 6,
   "id": "855850e7-d42d-4bdd-b179-b073ea0a601b",
   "metadata": {
    "collapsed": false,
    "jupyter": {
     "outputs_hidden": false
    },
    "pycharm": {
     "name": "#%%\n"
    }
   },
   "outputs": [
    {
     "name": "stdout",
     "output_type": "stream",
     "text": [
      "min_timestep: 10957.192722000007. max_timestep: 13908.329737000022\n",
      "No open BackgroundPlotter. Creating a new one\n"
     ]
    }
   ],
   "source": [
    "# Plot the spikes on the track:\n",
    "# min_timestep = 0\n",
    "# max_timestep = 40\n",
    "min_timestep = min(t)\n",
    "max_timestep = max(t)\n",
    "print('min_timestep: {}. max_timestep: {}'.format(min_timestep, max_timestep))\n",
    "active_spike_indices, active_spike_list, active_spike_positions_list = get_filtered_window(spike_list, spike_positions_list, min_timestep=0, max_timestep=max_timestep)\n",
    "# ic(active_spike_list, active_spike_positions_list)\n",
    "\n",
    "def build_flat_map_plot_data():\n",
    "    # Builds the flat base maze map that the other data will be plot on top of\n",
    "    z = np.zeros_like(x)\n",
    "    # ic(x, y, z)\n",
    "    point_cloud = np.vstack((x, y, z)).T\n",
    "    # ic(point_cloud)\n",
    "    pdata = pv.PolyData(point_cloud)\n",
    "    pdata['occupancy heatmap'] = np.arange(np.shape(point_cloud)[0])\n",
    "    # create many spheres from the point cloud\n",
    "    # geo = pv.Sphere(radius=0.2, phi_resolution=3, theta_resolution=3)\n",
    "    # geo = pv.ParametricSuperEllipsoid(n1=0.1, n2=2)\n",
    "    # geo = pv.ParametricSuperEllipsoid(xradius=0.2, yradius=0.2, zradius=0.02, n1=0.1, n2=0.1) # makes a square title geometry\n",
    "    geo = pv.Circle(radius=0.5)\n",
    "    pc = pdata.glyph(scale=False, geom=geo)\n",
    "    return pdata, pc\n",
    "\n",
    "    \n",
    "def build_cell_spikes_plot_data(cell_index):\n",
    "    spike_series = active_spike_positions_list[cell_index]\n",
    "    spike_series_times = active_spike_list[cell_index]\n",
    "    spike_series_positions = active_spike_positions_list[cell_index]\n",
    "    # ic(spike_series_positions)\n",
    "    # ic(type(spike_series_positions))\n",
    "    # ic(spike_series_positions[0,:])\n",
    "    # print('spike_series_positions: {}'.format(spike_series_positions))\n",
    "    # print('cell_id: {}'.format(cell_id))\n",
    "    # print(np.shape(spike_series_times))\n",
    "    z = np.zeros_like(spike_series_positions[0,:])\n",
    "    point_cloud = np.vstack((spike_series_positions[0,:], spike_series_positions[1,:], z)).T\n",
    "    # ic(point_cloud)\n",
    "    pdata = pv.PolyData(point_cloud)\n",
    "    # pdata['occupancy heatmap'] = np.arange(np.shape(point_cloud)[0])\n",
    "#     pdata['occupancy heatmap'] = spike_series_times\n",
    "    pdata['cellID'] = (np.ones_like(spike_series_positions[0,:]) * cell_index)\n",
    "    # create many spheres from the point cloud\n",
    "    # spike_geom = pv.Sphere(radius=0.2, phi_resolution=3, theta_resolution=3)\n",
    "    # spike_geom = pv.Arrow(direction=(0.0, 0.0, 1.0), shaft_resolution=8, scale=3)\n",
    "    spike_geom = pv.Cone(direction=(0.0, 0.0, -1.0), height=10.0, radius=0.2)\n",
    "    pc = pdata.glyph(scale=False, geom=spike_geom)\n",
    "#     pc['cellID'] = pdata['cellID']\n",
    "    # # create many spheres from the point cloud\n",
    "    # # sphere = pv.Sphere(radius=2.0, phi_resolution=3, theta_resolution=3)\n",
    "    # spike_geom = pv.Arrow()\n",
    "    # pc = pdata.glyph(scale=False, factor=0.0003, geom=spike_geom)\n",
    "    return pdata, pc\n",
    "\n",
    "# def initialize_plot():\n",
    "#     p.add_bounding_box()\n",
    "#     p.show_grid()\n",
    "#     p.add_axes(line_width=5, labels_off=False)\n",
    "\n",
    "    \n",
    "def complete_plot_for_cell_idx(value):\n",
    "    # pass in the original_cell_id you want to display the plot for:\n",
    "    original_cell_id = int(value)\n",
    "#     cell_index = reverse_cellID_idx_lookup_map[original_cell_id]\n",
    "    # pass in a linear 0:num_active_cells index and get the original index from cell_ids[0, 0]\n",
    "#     cell_index = int(cell_ids[int(value), 0])\n",
    "    cell_index = cell_ids[int(value)]\n",
    "    pdata, pc = build_cell_spikes_plot_data(cell_index)\n",
    "    \n",
    "    # Plot the arrows:\n",
    "    # Add scalar array with range (0, 100) that correlates with elevation\n",
    "#     mesh['values'] = pv.plotting.normalize(mesh['Elevation']) * 100\n",
    "\n",
    "#     p.add_mesh(pc, name='spikes_main', color=\"green\")\n",
    "#     p.add_mesh(pc, name='spikes_main', scalars='cellID', color=active_cells_colormap[original_cell_id])\n",
    "    p.add_mesh(pc, name='spikes_main', color=active_cells_colormap[original_cell_id])\n",
    "    p.add_text('Spikes for unit_id: {}'.format(original_cell_id), name='txtActive_index', position='upper_edge')\n",
    "    # p.show()\n",
    "\n",
    "    \n",
    "\n",
    "    \n",
    "# Initial plot setup:\n",
    "# Only Create a new BackgroundPlotter if it's needed:\n",
    "try: p\n",
    "except NameError: p = None # Checks variable p's existance, and sets its value to None if it doesn't exist so it can be checked in the next step\n",
    "if ((p is None) or p.app_window.isHidden()):\n",
    "    print('No open BackgroundPlotter. Creating a new one')\n",
    "    p = pvqt.BackgroundPlotter() # Use just like you would a pv.Plotter() instance\n",
    "else:\n",
    "    print('BackgroundPlotter already open, reusing it')\n",
    "    p.app_window.window().show()\n",
    "    p.clear()\n",
    "\n",
    "# reverse lookup cell ids:L\n",
    "# cell_index = 31 # good in the middle\n",
    "# cell_index = 93 # biased toward early end\n",
    "# cell_index = 95 # \n",
    "cell_index = 90\n",
    "cell_index = 31\n",
    "\n",
    "# complete_plot_for_cell_idx(cell_index)\n",
    "    \n",
    "slider = p.add_slider_widget(\n",
    "     complete_plot_for_cell_idx,\n",
    "     [0, num_cells-1],\n",
    "     title=\"Unit Idx\",\n",
    "     title_opacity=0.5,\n",
    "     title_color=\"red\",\n",
    "     fmt='%0.0f',\n",
    "     title_height=0.08,\n",
    ")\n",
    "\n",
    "\n",
    "# cell_index = 64\n",
    "# pdata, pc = build_cell_spikes_plot_data(cell_index)\n",
    "# pdata_maze, pc_maze = build_flat_map_plot_data()\n",
    "\n",
    "# # Plot the flat arena\n",
    "# # p.add_points(pdata)\n",
    "# p.add_mesh(pc_maze, color=\"black\")\n",
    "\n",
    "# # Plot the arrows:\n",
    "# p.add_mesh(pc, color=\"green\")\n",
    "\n",
    "# # cell_index = 1\n",
    "# # pdata, pc = build_cell_plot_data(cell_index)\n",
    "# # p.add_mesh(pc)\n",
    "\n",
    "# # cell_index = 52\n",
    "# # pdata, pc = build_cell_plot_data(cell_index)\n",
    "# # p.add_mesh(pc)\n",
    "\n",
    "pdata_maze, pc_maze = build_flat_map_plot_data()\n",
    "# Plot the flat arena\n",
    "# p.add_points(pdata)\n",
    "p.add_mesh(pc_maze, name='maze_bg', color=\"black\")\n",
    "    \n",
    "p.add_bounding_box()\n",
    "p.show_grid()\n",
    "p.add_axes(line_width=5, labels_off=False)\n",
    "    \n",
    "p.show()"
   ]
  },
  {
   "cell_type": "code",
   "execution_count": 7,
   "id": "4d7c7db1",
   "metadata": {
    "tags": []
   },
   "outputs": [],
   "source": [
    "# pc.plot(cmap='Reds', notebook=True, jupyter_backend='ipygany') # ipygany fails \" Failed to use notebook backend: \""
   ]
  },
  {
   "cell_type": "code",
   "execution_count": null,
   "id": "577bf9d8",
   "metadata": {
    "tags": []
   },
   "outputs": [],
   "source": [
    "pc.plot(cmap='Reds', notebook=True, jupyter_backend='panel')"
   ]
  },
  {
   "cell_type": "code",
   "execution_count": null,
   "id": "77c0e4be",
   "metadata": {},
   "outputs": [],
   "source": []
  },
  {
   "cell_type": "code",
   "execution_count": 8,
   "id": "75e5e09a",
   "metadata": {},
   "outputs": [],
   "source": [
    "# Projected Maze 2D Outline:\n",
    "maze_outline_x = x\n",
    "maze_outline_y = y\n"
   ]
  },
  {
   "cell_type": "code",
   "execution_count": 7,
   "id": "e64b3d1c",
   "metadata": {},
   "outputs": [
    {
     "name": "stdout",
     "output_type": "stream",
     "text": [
      "shapes - t_fixedSegements: (2948, 30), x_fixedSegements: (2948, 30), y_fixedSegements: (2948, 30)\n"
     ]
    }
   ],
   "source": [
    "# Split the position data into equal sized chunks to be displayed at a single time. These will look like portions of the trajectory and be used to animate. # Chunk the data to create the animation.\n",
    "# curr_view_window_length = 150 # View 5 seconds at a time (30fps)\n",
    "curr_view_window_length = 30 # View 5 seconds at a time (30fps)\n",
    "# The original length 324574 / 30 = 10819\n",
    "t_fixedSegements,x_fixedSegements,y_fixedSegements,speeds_fixedSegements,dt_fixedSegements,dx_fixedSegements,dy_fixedSegements = process_chunk_equal_poritions_data(t, x, y, speeds, dt, dx, dy, curr_view_window_length)\n",
    "print('shapes - t_fixedSegements: {}, x_fixedSegements: {}, y_fixedSegements: {}'.format(np.shape(t_fixedSegements), np.shape(x_fixedSegements), np.shape(y_fixedSegements)))\n",
    "z_fixedSegements = np.zeros_like(x_fixedSegements)\n"
   ]
  },
  {
   "cell_type": "code",
   "execution_count": 8,
   "id": "3cdf5c19-b430-4f88-87eb-a83ca81fe1d2",
   "metadata": {
    "pycharm": {
     "name": "#%%\n"
    }
   },
   "outputs": [
    {
     "name": "stdout",
     "output_type": "stream",
     "text": [
      "num_time_points: 2948\n",
      "\n",
      "No open BackgroundPlotter. Creating a new one\n",
      "all done!\n"
     ]
    }
   ],
   "source": [
    "num_time_points = np.shape(x_fixedSegements)[0]\n",
    "print('num_time_points: {}\\n'.format(num_time_points))\n",
    "animal_location_sphere = pv.Sphere(radius=2.3)\n",
    "animal_location_direction_cone = pv.Cone()\n",
    "\n",
    "#     animal_direction_arrow = pv.Arrow()\n",
    "last_only_opacity_values = np.zeros([curr_view_window_length,])\n",
    "last_only_opacity_values[-1] = 1.0\n",
    "\n",
    "# last_only_opacity_values = np.zeros([1,curr_view_window_length])\n",
    "# last_only_opacity_values[-1] = 1.0\n",
    "gradually_fading_opacity_values = np.arange(curr_view_window_length)\n",
    "\n",
    "# active_trail_opacity_values = last_only_opacity_values.copy()\n",
    "active_trail_opacity_values = gradually_fading_opacity_values.copy()\n",
    "# print('active_trail_opacity_values: {}\\n'.format(np.shape(active_trail_opacity_values)))\n",
    "    \n",
    "## Slider with Callback Function Example:\n",
    "\n",
    "def on_slider_update_mesh(value):\n",
    "    curr_i = int(value)\n",
    "    # point_cloud_fixedSegements = np.vstack((x_fixedSegements, y_fixedSegements, z_fixedSegements)).T\n",
    "    point_cloud_fixedSegements = np.column_stack((x_fixedSegements[curr_i,:], y_fixedSegements[curr_i,:], z_fixedSegements[curr_i,:]))\n",
    "#     print('point_cloud_fixedSegements: {}\\n'.format(np.shape(point_cloud_fixedSegements)))\n",
    "    curr_animal_point = point_cloud_fixedSegements[-1,:] # Get the last point\n",
    "#     actor = p.add_mesh(pyvista.Cube(), show_edges=True)\n",
    "#     mesh = pv.PolyData(point_cloud_fixedSegements)\n",
    "#     mesh.plot(point_size=10, style='points')\n",
    "    pdata = pv.PolyData(point_cloud_fixedSegements) # a mesh\n",
    "#     pdata['orig_sphere'] = np.arange(np.shape(point_cloud)[0])\n",
    "    \n",
    "#     print(last_only_opacity_values)\n",
    "    \n",
    "#     pdata.point_data['pho_fade_values'] = np.arange(np.shape(point_cloud_fixedSegements)[0])\n",
    "    pdata.point_data['pho_fade_values'] = active_trail_opacity_values\n",
    "\n",
    "    # create many spheres from the point cloud\n",
    "    pc = pdata.glyph(scale=False, geom=animal_location_sphere)\n",
    "    # pc.point_data['pho_fade_values'] = active_trail_opacity_values\n",
    "        \n",
    "    # plines = p.add_lines(point_cloud_fixedSegements, name='animal_trajectory_lines', color='orange')\n",
    "    # plines.point_data['pho_fade_values'] = active_trail_opacity_values\n",
    "    #     p.add_mesh(pc, name='animal_location', color=\"red\", opacity='linear', scalars='pho_fade_values', nan_opacity=0.0)\n",
    "    # p.add_mesh(pc, name='animal_location', color='red', ambient=0.6, opacity=0.8, nan_opacity=0.0)\n",
    "    # p.add_mesh(pc, name='animal_location', color='red', ambient=0.6, opacity=\"pho_fade_values\", nan_opacity=0.0)\n",
    "\n",
    "    p.add_mesh(pc, name='animal_location', color='red', ambient=0.6, opacity=0.8, nan_opacity=0.0, render_lines_as_tubes=True)\n",
    "#     p.add_mesh(animal_location_sphere, color=\"grey\", ambient=0.6, opacity=0.5, show_edges=False)\n",
    "    \n",
    "#     # Create spline with 1000 interpolation points\n",
    "#     spline = pv.Spline(point_cloud_fixedSegements)\n",
    "# #     # add scalars to spline and plot it\n",
    "#     spline[\"scalars\"] = np.arange(spline.n_points)\n",
    "#     tube = spline.tube(radius=0.1)\n",
    "# #     tube.plot(smooth_shading=True)\n",
    "#     p.add_mesh(tube, name='tube')\n",
    "\n",
    "#     sphere = pv.Sphere(phi_resolution=res, theta_resolution=res)\n",
    "#     p.add_mesh(sphere, name='sphere', show_edges=True)\n",
    "    return\n",
    "\n",
    "# Only Create a new BackgroundPlotter if it's needed:\n",
    "if ((p is None) or p.app_window.isHidden()):\n",
    "    print('No open BackgroundPlotter. Creating a new one')\n",
    "    p = pvqt.BackgroundPlotter() # Use just like you would a pv.Plotter() instance\n",
    "else:\n",
    "    print('BackgroundPlotter already open, reusing it')\n",
    "    p.app_window.window().show()\n",
    "    p.clear()\n",
    "    \n",
    "# p = pv.Plotter() # Use just like you would a pv.Plotter() instance\n",
    "# p.background_color = 'black'\n",
    "# p.add_points(pdata)\n",
    "on_slider_update_mesh(0)\n",
    "p.add_slider_widget(on_slider_update_mesh, [0, (num_time_points-1)], title='Trajectory Timestep', event_type='always', style='modern')\n",
    "# active_frame_range = np.arange(num_time_points) # All frames\n",
    "active_frame_range = np.arange(num_time_points) # All frames\n",
    "# active_frame_range = np.arange(100) # Only 100 frames\n",
    "# active_frame_range = range(100) # Only 100 frames                  \n",
    "# make_mp4_from_plotter(p, active_frame_range, on_slider_update_mesh, filename='complete_plotting.mp4')\n",
    "# p.add_bounding_box()\n",
    "# p.show_grid()\n",
    "# p.add_axes(line_width=5, labels_off=True)\n",
    "# p.hide_axes()\n",
    "# p.show()\n",
    "                  \n",
    "print('all done!')"
   ]
  },
  {
   "cell_type": "code",
   "execution_count": 9,
   "id": "d1ccff44-9a9b-4786-8853-54ad8af65bf6",
   "metadata": {
    "pycharm": {
     "name": "#%%\n"
    }
   },
   "outputs": [
    {
     "ename": "NameError",
     "evalue": "name 'QtWidgets' is not defined",
     "output_type": "error",
     "traceback": [
      "\u001b[1;31m---------------------------------------------------------------------------\u001b[0m",
      "\u001b[1;31mNameError\u001b[0m                                 Traceback (most recent call last)",
      "\u001b[1;32m~\\AppData\\Local\\Temp/ipykernel_10292/4088506245.py\u001b[0m in \u001b[0;36m<module>\u001b[1;34m\u001b[0m\n\u001b[0;32m     50\u001b[0m \u001b[1;31m# Actually show the window:\u001b[0m\u001b[1;33m\u001b[0m\u001b[1;33m\u001b[0m\u001b[0m\n\u001b[0;32m     51\u001b[0m \u001b[1;32mif\u001b[0m \u001b[0m__name__\u001b[0m \u001b[1;33m==\u001b[0m \u001b[1;34m'__main__'\u001b[0m\u001b[1;33m:\u001b[0m\u001b[1;33m\u001b[0m\u001b[1;33m\u001b[0m\u001b[0m\n\u001b[1;32m---> 52\u001b[1;33m     \u001b[0mapp\u001b[0m \u001b[1;33m=\u001b[0m \u001b[0mQtWidgets\u001b[0m\u001b[1;33m.\u001b[0m\u001b[0mQApplication\u001b[0m\u001b[1;33m(\u001b[0m\u001b[0msys\u001b[0m\u001b[1;33m.\u001b[0m\u001b[0margv\u001b[0m\u001b[1;33m)\u001b[0m\u001b[1;33m\u001b[0m\u001b[1;33m\u001b[0m\u001b[0m\n\u001b[0m\u001b[0;32m     53\u001b[0m     \u001b[0mwindow\u001b[0m \u001b[1;33m=\u001b[0m \u001b[0mPyvistaQtGuiMainWindow\u001b[0m\u001b[1;33m(\u001b[0m\u001b[1;33m)\u001b[0m\u001b[1;33m\u001b[0m\u001b[1;33m\u001b[0m\u001b[0m\n\u001b[0;32m     54\u001b[0m     \u001b[0mapp\u001b[0m\u001b[1;33m.\u001b[0m\u001b[0mexec_\u001b[0m\u001b[1;33m(\u001b[0m\u001b[1;33m)\u001b[0m\u001b[1;33m\u001b[0m\u001b[1;33m\u001b[0m\u001b[0m\n",
      "\u001b[1;31mNameError\u001b[0m: name 'QtWidgets' is not defined"
     ]
    }
   ],
   "source": [
    "## Qt-based GUI - Plots a window with a controllable slider with two handles at the bottom\n",
    "class PyvistaQtGuiMainWindow(MainWindow):\n",
    "\n",
    "    def __init__(self, parent=None, show=True):\n",
    "        QtWidgets.QMainWindow.__init__(self, parent)\n",
    "\n",
    "        # create the frame\n",
    "        self.frame = QtWidgets.QFrame()\n",
    "        vlayout = QtWidgets.QVBoxLayout()\n",
    "\n",
    "        # add the pyvista interactor object\n",
    "        self.plotter = QtInteractor(self.frame)\n",
    "        vlayout.addWidget(self.plotter.interactor)\n",
    "        self.signal_close.connect(self.plotter.close)\n",
    "\n",
    "        self.rs = QRangeSlider()\n",
    "        self.rs.show()\n",
    "        self.rs.setRange(15, 35)\n",
    "        self.rs.setBackgroundStyle('background: qlineargradient(x1:0, y1:0, x2:0, y2:1, stop:0 #222, stop:1 #333);')\n",
    "        self.rs.handle.setStyleSheet('background: qlineargradient(x1:0, y1:0, x2:0, y2:1, stop:0 #282, stop:1 #393);')\n",
    "        vlayout.addWidget(self.rs)\n",
    "    \n",
    "        self.frame.setLayout(vlayout)\n",
    "        self.setCentralWidget(self.frame)\n",
    "\n",
    "        # simple menu to demo functions\n",
    "        mainMenu = self.menuBar()\n",
    "        fileMenu = mainMenu.addMenu('File')\n",
    "        exitButton = QtWidgets.QAction('Exit', self)\n",
    "        exitButton.setShortcut('Ctrl+Q')\n",
    "        exitButton.triggered.connect(self.close)\n",
    "        fileMenu.addAction(exitButton)\n",
    "\n",
    "        # allow adding a sphere\n",
    "        meshMenu = mainMenu.addMenu('Mesh')\n",
    "        self.add_sphere_action = QtWidgets.QAction('Add Sphere', self)\n",
    "        self.add_sphere_action.triggered.connect(self.add_sphere)\n",
    "        meshMenu.addAction(self.add_sphere_action)\n",
    "\n",
    "        if show:\n",
    "            self.show()\n",
    "\n",
    "    def add_sphere(self):\n",
    "        \"\"\" add a sphere to the pyqt frame \"\"\"\n",
    "        sphere = pv.Sphere()\n",
    "        self.plotter.add_mesh(sphere, show_edges=True)\n",
    "        self.plotter.reset_camera()\n",
    "\n",
    "\n",
    "# Actually show the window:\n",
    "if __name__ == '__main__':\n",
    "    app = QtWidgets.QApplication(sys.argv)\n",
    "    window = PyvistaQtGuiMainWindow()\n",
    "    app.exec_()\n",
    "    \n"
   ]
  },
  {
   "cell_type": "code",
   "execution_count": null,
   "id": "fdbe3ee8-98d3-434b-a379-1386d53c5018",
   "metadata": {},
   "outputs": [],
   "source": []
  }
 ],
 "metadata": {
  "celltoolbar": "Tags",
  "interpreter": {
   "hash": "fde6e68fa8f5f4f0920a88ee99edd8d4121f14a57a7800ceb19ed197f25c05dc"
  },
  "kernelspec": {
   "display_name": "Python 3 (ipykernel)",
   "language": "python",
   "name": "python3"
  },
  "language_info": {
   "codemirror_mode": {
    "name": "ipython",
    "version": 3
   },
   "file_extension": ".py",
   "mimetype": "text/x-python",
   "name": "python",
   "nbconvert_exporter": "python",
   "pygments_lexer": "ipython3",
   "version": "3.9.7"
  }
 },
 "nbformat": 4,
 "nbformat_minor": 5
}
