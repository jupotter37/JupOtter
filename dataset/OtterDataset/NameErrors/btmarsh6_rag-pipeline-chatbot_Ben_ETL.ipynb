{
 "cells": [
  {
   "cell_type": "code",
   "execution_count": 10,
   "metadata": {},
   "outputs": [],
   "source": [
    "import pandas as pd\n",
    "import kaggle\n",
    "from ast import literal_eval"
   ]
  },
  {
   "cell_type": "code",
   "execution_count": null,
   "metadata": {},
   "outputs": [],
   "source": [
    "\n",
    "# Download data\n",
    "kaggle.api.authenticate()\n",
    "kaggle.api.dataset_download_files(dataset='shuyangli94/food-com-recipes-and-user-interactions/',\n",
    "                                 path='../../data/',\n",
    "                                 unzip=True)\n"
   ]
  },
  {
   "cell_type": "code",
   "execution_count": 11,
   "metadata": {},
   "outputs": [
    {
     "data": {
      "text/html": [
       "<div>\n",
       "<style scoped>\n",
       "    .dataframe tbody tr th:only-of-type {\n",
       "        vertical-align: middle;\n",
       "    }\n",
       "\n",
       "    .dataframe tbody tr th {\n",
       "        vertical-align: top;\n",
       "    }\n",
       "\n",
       "    .dataframe thead th {\n",
       "        text-align: right;\n",
       "    }\n",
       "</style>\n",
       "<table border=\"1\" class=\"dataframe\">\n",
       "  <thead>\n",
       "    <tr style=\"text-align: right;\">\n",
       "      <th></th>\n",
       "      <th>name</th>\n",
       "      <th>id</th>\n",
       "      <th>minutes</th>\n",
       "      <th>contributor_id</th>\n",
       "      <th>submitted</th>\n",
       "      <th>tags</th>\n",
       "      <th>nutrition</th>\n",
       "      <th>n_steps</th>\n",
       "      <th>steps</th>\n",
       "      <th>description</th>\n",
       "      <th>ingredients</th>\n",
       "      <th>n_ingredients</th>\n",
       "    </tr>\n",
       "  </thead>\n",
       "  <tbody>\n",
       "    <tr>\n",
       "      <th>0</th>\n",
       "      <td>arriba   baked winter squash mexican style</td>\n",
       "      <td>137739</td>\n",
       "      <td>55</td>\n",
       "      <td>47892</td>\n",
       "      <td>2005-09-16</td>\n",
       "      <td>[60-minutes-or-less, time-to-make, course, mai...</td>\n",
       "      <td>[51.5, 0.0, 13.0, 0.0, 2.0, 0.0, 4.0]</td>\n",
       "      <td>11</td>\n",
       "      <td>[make a choice and proceed with recipe, depend...</td>\n",
       "      <td>autumn is my favorite time of year to cook! th...</td>\n",
       "      <td>[winter squash, mexican seasoning, mixed spice...</td>\n",
       "      <td>7</td>\n",
       "    </tr>\n",
       "    <tr>\n",
       "      <th>1</th>\n",
       "      <td>a bit different  breakfast pizza</td>\n",
       "      <td>31490</td>\n",
       "      <td>30</td>\n",
       "      <td>26278</td>\n",
       "      <td>2002-06-17</td>\n",
       "      <td>[30-minutes-or-less, time-to-make, course, mai...</td>\n",
       "      <td>[173.4, 18.0, 0.0, 17.0, 22.0, 35.0, 1.0]</td>\n",
       "      <td>9</td>\n",
       "      <td>[preheat oven to 425 degrees f, press dough in...</td>\n",
       "      <td>this recipe calls for the crust to be prebaked...</td>\n",
       "      <td>[prepared pizza crust, sausage patty, eggs, mi...</td>\n",
       "      <td>6</td>\n",
       "    </tr>\n",
       "    <tr>\n",
       "      <th>2</th>\n",
       "      <td>all in the kitchen  chili</td>\n",
       "      <td>112140</td>\n",
       "      <td>130</td>\n",
       "      <td>196586</td>\n",
       "      <td>2005-02-25</td>\n",
       "      <td>[time-to-make, course, preparation, main-dish,...</td>\n",
       "      <td>[269.8, 22.0, 32.0, 48.0, 39.0, 27.0, 5.0]</td>\n",
       "      <td>6</td>\n",
       "      <td>[brown ground beef in large pot, add chopped o...</td>\n",
       "      <td>this modified version of 'mom's' chili was a h...</td>\n",
       "      <td>[ground beef, yellow onions, diced tomatoes, t...</td>\n",
       "      <td>13</td>\n",
       "    </tr>\n",
       "    <tr>\n",
       "      <th>3</th>\n",
       "      <td>alouette  potatoes</td>\n",
       "      <td>59389</td>\n",
       "      <td>45</td>\n",
       "      <td>68585</td>\n",
       "      <td>2003-04-14</td>\n",
       "      <td>[60-minutes-or-less, time-to-make, course, mai...</td>\n",
       "      <td>[368.1, 17.0, 10.0, 2.0, 14.0, 8.0, 20.0]</td>\n",
       "      <td>11</td>\n",
       "      <td>[place potatoes in a large pot of lightly salt...</td>\n",
       "      <td>this is a super easy, great tasting, make ahea...</td>\n",
       "      <td>[spreadable cheese with garlic and herbs, new ...</td>\n",
       "      <td>11</td>\n",
       "    </tr>\n",
       "    <tr>\n",
       "      <th>4</th>\n",
       "      <td>amish  tomato ketchup  for canning</td>\n",
       "      <td>44061</td>\n",
       "      <td>190</td>\n",
       "      <td>41706</td>\n",
       "      <td>2002-10-25</td>\n",
       "      <td>[weeknight, time-to-make, course, main-ingredi...</td>\n",
       "      <td>[352.9, 1.0, 337.0, 23.0, 3.0, 0.0, 28.0]</td>\n",
       "      <td>5</td>\n",
       "      <td>[mix all ingredients&amp; boil for 2 1 / 2 hours ,...</td>\n",
       "      <td>my dh's amish mother raised him on this recipe...</td>\n",
       "      <td>[tomato juice, apple cider vinegar, sugar, sal...</td>\n",
       "      <td>8</td>\n",
       "    </tr>\n",
       "  </tbody>\n",
       "</table>\n",
       "</div>"
      ],
      "text/plain": [
       "                                         name      id  minutes  \\\n",
       "0  arriba   baked winter squash mexican style  137739       55   \n",
       "1            a bit different  breakfast pizza   31490       30   \n",
       "2                   all in the kitchen  chili  112140      130   \n",
       "3                          alouette  potatoes   59389       45   \n",
       "4          amish  tomato ketchup  for canning   44061      190   \n",
       "\n",
       "   contributor_id   submitted  \\\n",
       "0           47892  2005-09-16   \n",
       "1           26278  2002-06-17   \n",
       "2          196586  2005-02-25   \n",
       "3           68585  2003-04-14   \n",
       "4           41706  2002-10-25   \n",
       "\n",
       "                                                tags  \\\n",
       "0  [60-minutes-or-less, time-to-make, course, mai...   \n",
       "1  [30-minutes-or-less, time-to-make, course, mai...   \n",
       "2  [time-to-make, course, preparation, main-dish,...   \n",
       "3  [60-minutes-or-less, time-to-make, course, mai...   \n",
       "4  [weeknight, time-to-make, course, main-ingredi...   \n",
       "\n",
       "                                    nutrition  n_steps  \\\n",
       "0       [51.5, 0.0, 13.0, 0.0, 2.0, 0.0, 4.0]       11   \n",
       "1   [173.4, 18.0, 0.0, 17.0, 22.0, 35.0, 1.0]        9   \n",
       "2  [269.8, 22.0, 32.0, 48.0, 39.0, 27.0, 5.0]        6   \n",
       "3   [368.1, 17.0, 10.0, 2.0, 14.0, 8.0, 20.0]       11   \n",
       "4   [352.9, 1.0, 337.0, 23.0, 3.0, 0.0, 28.0]        5   \n",
       "\n",
       "                                               steps  \\\n",
       "0  [make a choice and proceed with recipe, depend...   \n",
       "1  [preheat oven to 425 degrees f, press dough in...   \n",
       "2  [brown ground beef in large pot, add chopped o...   \n",
       "3  [place potatoes in a large pot of lightly salt...   \n",
       "4  [mix all ingredients& boil for 2 1 / 2 hours ,...   \n",
       "\n",
       "                                         description  \\\n",
       "0  autumn is my favorite time of year to cook! th...   \n",
       "1  this recipe calls for the crust to be prebaked...   \n",
       "2  this modified version of 'mom's' chili was a h...   \n",
       "3  this is a super easy, great tasting, make ahea...   \n",
       "4  my dh's amish mother raised him on this recipe...   \n",
       "\n",
       "                                         ingredients  n_ingredients  \n",
       "0  [winter squash, mexican seasoning, mixed spice...              7  \n",
       "1  [prepared pizza crust, sausage patty, eggs, mi...              6  \n",
       "2  [ground beef, yellow onions, diced tomatoes, t...             13  \n",
       "3  [spreadable cheese with garlic and herbs, new ...             11  \n",
       "4  [tomato juice, apple cider vinegar, sugar, sal...              8  "
      ]
     },
     "execution_count": 11,
     "metadata": {},
     "output_type": "execute_result"
    }
   ],
   "source": [
    "raw_df = pd.read_csv('../../data/RAW_recipes.csv', converters={'tags': literal_eval, 'nutrition': literal_eval, 'steps': literal_eval, 'ingredients': literal_eval})\n",
    "raw_df.head()\n"
   ]
  },
  {
   "cell_type": "code",
   "execution_count": 13,
   "metadata": {},
   "outputs": [
    {
     "data": {
      "text/html": [
       "<div>\n",
       "<style scoped>\n",
       "    .dataframe tbody tr th:only-of-type {\n",
       "        vertical-align: middle;\n",
       "    }\n",
       "\n",
       "    .dataframe tbody tr th {\n",
       "        vertical-align: top;\n",
       "    }\n",
       "\n",
       "    .dataframe thead th {\n",
       "        text-align: right;\n",
       "    }\n",
       "</style>\n",
       "<table border=\"1\" class=\"dataframe\">\n",
       "  <thead>\n",
       "    <tr style=\"text-align: right;\">\n",
       "      <th></th>\n",
       "      <th>name</th>\n",
       "      <th>id</th>\n",
       "      <th>minutes</th>\n",
       "      <th>contributor_id</th>\n",
       "      <th>submitted</th>\n",
       "      <th>tags</th>\n",
       "      <th>nutrition</th>\n",
       "      <th>n_steps</th>\n",
       "      <th>steps</th>\n",
       "      <th>description</th>\n",
       "      <th>ingredients</th>\n",
       "      <th>n_ingredients</th>\n",
       "    </tr>\n",
       "  </thead>\n",
       "  <tbody>\n",
       "    <tr>\n",
       "      <th>721</th>\n",
       "      <td>NaN</td>\n",
       "      <td>368257</td>\n",
       "      <td>10</td>\n",
       "      <td>779451</td>\n",
       "      <td>2009-04-27</td>\n",
       "      <td>[15-minutes-or-less, time-to-make, course, pre...</td>\n",
       "      <td>[1596.2, 249.0, 155.0, 0.0, 2.0, 112.0, 14.0]</td>\n",
       "      <td>6</td>\n",
       "      <td>[in a bowl , combine ingredients except for ol...</td>\n",
       "      <td>-------------</td>\n",
       "      <td>[lemon, honey, horseradish mustard, garlic clo...</td>\n",
       "      <td>10</td>\n",
       "    </tr>\n",
       "  </tbody>\n",
       "</table>\n",
       "</div>"
      ],
      "text/plain": [
       "    name      id  minutes  contributor_id   submitted  \\\n",
       "721  NaN  368257       10          779451  2009-04-27   \n",
       "\n",
       "                                                  tags  \\\n",
       "721  [15-minutes-or-less, time-to-make, course, pre...   \n",
       "\n",
       "                                         nutrition  n_steps  \\\n",
       "721  [1596.2, 249.0, 155.0, 0.0, 2.0, 112.0, 14.0]        6   \n",
       "\n",
       "                                                 steps    description  \\\n",
       "721  [in a bowl , combine ingredients except for ol...  -------------   \n",
       "\n",
       "                                           ingredients  n_ingredients  \n",
       "721  [lemon, honey, horseradish mustard, garlic clo...             10  "
      ]
     },
     "execution_count": 13,
     "metadata": {},
     "output_type": "execute_result"
    }
   ],
   "source": [
    "raw_df[raw_df['name'].isna()]"
   ]
  },
  {
   "cell_type": "code",
   "execution_count": null,
   "metadata": {},
   "outputs": [],
   "source": [
    "interactions_df = pd.read_csv('../../data/RAW_interactions.csv')\n",
    "interactions_df.head()"
   ]
  },
  {
   "cell_type": "code",
   "execution_count": null,
   "metadata": {},
   "outputs": [],
   "source": [
    "interactions_df['review'][0]"
   ]
  },
  {
   "cell_type": "code",
   "execution_count": null,
   "metadata": {},
   "outputs": [],
   "source": [
    "import numpy as np\n",
    "interactions_df.groupby(by='recipe_id', as_index=False)['rating'].agg(np.mean)"
   ]
  },
  {
   "cell_type": "code",
   "execution_count": null,
   "metadata": {},
   "outputs": [],
   "source": [
    "avg_rating = interactions_df.groupby(by='recipe_id', as_index=False)['rating'].agg(np.mean)\n",
    "test_df = pd.merge(raw_df, avg_rating, how='left', left_on='id', right_on=\"recipe_id\")"
   ]
  },
  {
   "cell_type": "code",
   "execution_count": null,
   "metadata": {},
   "outputs": [],
   "source": [
    "test_df.isna().sum()"
   ]
  },
  {
   "cell_type": "code",
   "execution_count": null,
   "metadata": {},
   "outputs": [],
   "source": [
    "def nutrition_labels(nutrition):\n",
    "    nutrition_labels = [' calories', '% total fat', '% sugar', '% sodium', '% protein', '% saturated fat', '% total carbohydrates']\n",
    "    result = ''\n",
    "    for i in range(6):\n",
    "        labelled = f'{nutrition[i]}{nutrition_labels[i]}, '\n",
    "        result += labelled\n",
    "    return result"
   ]
  },
  {
   "cell_type": "code",
   "execution_count": null,
   "metadata": {},
   "outputs": [],
   "source": [
    "def numbered_steps(steps):\n",
    "    result = ''\n",
    "    for i, step in enumerate(steps):\n",
    "        result += f'{i+1} {step}\\n'\n",
    "    return result"
   ]
  },
  {
   "cell_type": "code",
   "execution_count": null,
   "metadata": {},
   "outputs": [],
   "source": [
    "def create_doc(row):\n",
    "    \"\"\"\n",
    "    Collapses each row into a single document for the recipe,\n",
    "    adding labels to column values.\n",
    "    \"\"\"\n",
    "    # Extract and format relevant data from each field\n",
    "    name = row['name']\n",
    "    minutes = row['minutes']\n",
    "    tags = ', '.join(row['tags'])\n",
    "    description = row['description']\n",
    "    n_ingredients = row['n_ingredients']\n",
    "    ingredients = ', '.join(row['ingredients'])\n",
    "    steps = numbered_steps(row['steps'])    \n",
    "    nutrition_info = nutrition_labels(row['nutrition'])\n",
    "    \n",
    "    # Combine fields into full recipe    \n",
    "    full_recipe = f\"Name: {name}\\n\\nCook Time: {minutes} minutes\\n\\nTags: {tags}\\n\\nDescription: {description}\\n\\nNumber of ingredients: {n_ingredients}\\n\\nIngredients List: {ingredients}\\n\\nSteps:\\n{steps}\\n\\nNutrition: {nutrition_info}\"\n",
    "    return full_recipe"
   ]
  },
  {
   "cell_type": "code",
   "execution_count": null,
   "metadata": {},
   "outputs": [],
   "source": [
    "raw_df['full_recipe'] = raw_df.apply(create_doc, axis=1)"
   ]
  },
  {
   "cell_type": "code",
   "execution_count": null,
   "metadata": {},
   "outputs": [],
   "source": [
    "raw_df.head()"
   ]
  },
  {
   "cell_type": "code",
   "execution_count": null,
   "metadata": {},
   "outputs": [],
   "source": [
    "print(raw_df['full_recipe'][10])"
   ]
  },
  {
   "cell_type": "code",
   "execution_count": null,
   "metadata": {},
   "outputs": [],
   "source": [
    "from haystack import Document\n",
    "\n",
    "# Cast data into Haystack Document objects\n",
    "titles = list(raw_df['name'].values)\n",
    "texts = list(raw_df['full_recipe'].values)\n",
    "documents = []\n",
    "for title, text in zip(titles, texts):\n",
    "    documents.append(Document(content=text, meta={'name': title or ''}))"
   ]
  },
  {
   "cell_type": "code",
   "execution_count": null,
   "metadata": {},
   "outputs": [],
   "source": [
    "from haystack.document_stores import FAISSDocumentStore\n",
    "\n",
    "document_store = FAISSDocumentStore(faiss_index_factory_str=\"Flat\", return_embedding=True)"
   ]
  },
  {
   "cell_type": "code",
   "execution_count": null,
   "metadata": {},
   "outputs": [],
   "source": [
    "from haystack.nodes import DensePassageRetriever\n",
    "\n",
    "retriever = DensePassageRetriever(\n",
    "    document_store=document_store,\n",
    "    query_embedding_model=\"facebook/dpr-question_encoder-single-nq-base\",\n",
    "    passage_embedding_model=\"facebook/dpr-ctx_encoder-single-nq-base\",\n",
    "    use_gpu=False,\n",
    "    embed_title=True,\n",
    ")"
   ]
  },
  {
   "cell_type": "markdown",
   "metadata": {},
   "source": [
    "# Document Store"
   ]
  },
  {
   "cell_type": "code",
   "execution_count": 1,
   "metadata": {},
   "outputs": [],
   "source": [
    "from haystack import Document\n",
    "from haystack.document_stores import FAISSDocumentStore\n",
    "from haystack.nodes import AnswerParser, PromptNode, PromptTemplate, DensePassageRetriever\n",
    "import pandas as pd"
   ]
  },
  {
   "cell_type": "code",
   "execution_count": 2,
   "metadata": {},
   "outputs": [],
   "source": [
    "def initialize_documents(file_path):\n",
    "    \"\"\"\n",
    "    Casts recipes from prepared recipe_docs.csv file into document structure for Haystack.\n",
    "\n",
    "    Args:\n",
    "        file_path (str): location of recipe_docs.csv file\n",
    "    Returns:\n",
    "        documents ()\n",
    "    \"\"\"\n",
    "    # Load data\n",
    "    df = pd.read_csv(file_path)\n",
    "\n",
    "    # Cast data into Haystack Document objects\n",
    "    titles = list(df['name'].values)\n",
    "    texts = list(df['full_recipe'].values)\n",
    "    documents = []\n",
    "    for title, text in zip(titles, texts):\n",
    "        documents.append(Document(content=text, meta={'name': title or ''}))\n",
    "    return documents"
   ]
  },
  {
   "cell_type": "code",
   "execution_count": 3,
   "metadata": {},
   "outputs": [],
   "source": [
    "documents = initialize_documents('../../data/recipe_docs.csv')"
   ]
  },
  {
   "cell_type": "code",
   "execution_count": 28,
   "metadata": {},
   "outputs": [
    {
     "name": "stderr",
     "output_type": "stream",
     "text": [
      "Writing Documents: 240000it [08:56, 447.57it/s]                            \n"
     ]
    }
   ],
   "source": [
    "# Delete existing documents in document store\n",
    "document_store.delete_documents()\n",
    "document_store.write_documents(documents)\n"
   ]
  },
  {
   "cell_type": "code",
   "execution_count": 29,
   "metadata": {},
   "outputs": [
    {
     "data": {
      "text/plain": [
       "<haystack.document_stores.faiss.FAISSDocumentStore at 0x1e82a014490>"
      ]
     },
     "execution_count": 29,
     "metadata": {},
     "output_type": "execute_result"
    }
   ],
   "source": [
    "index_path = 'rag_faiss_index.faiss'\n",
    "config_path = 'rag_faiss_index.json'\n",
    "document_store.load(index_path=index_path, config_path=config_path)"
   ]
  },
  {
   "cell_type": "code",
   "execution_count": 30,
   "metadata": {},
   "outputs": [],
   "source": [
    "# Initialize Retriever\n",
    "retriever = DensePassageRetriever(\n",
    "    document_store=document_store,\n",
    "    query_embedding_model=\"facebook/dpr-question_encoder-single-nq-base\",\n",
    "    passage_embedding_model=\"facebook/dpr-ctx_encoder-single-nq-base\",\n",
    "    use_gpu=False,\n",
    "    embed_title=True\n",
    "    )"
   ]
  },
  {
   "cell_type": "code",
   "execution_count": 31,
   "metadata": {},
   "outputs": [],
   "source": [
    "from haystack import Pipeline\n",
    "import os\n",
    "\n",
    "openai_key = os.environ['OPENAI_HACKTOBERFEST_KEY']\n",
    "\n",
    "prompt_template = PromptTemplate(prompt=\"\"\"\"Offer the user the recipe that best matches their query.\n",
    "                                 If they ask for a different option, provide them the next best match.\n",
    "                                 Related text: {join(documents)} \\n\\n Question: {query} \\n\\n Answer: \n",
    "                                        \"\"\",\n",
    "                                        output_parser=AnswerParser())\n",
    "prompt_node = PromptNode(model_name_or_path=\"gpt-3.5-turbo\",\n",
    "                            api_key=openai_key,\n",
    "                            default_prompt_template=prompt_template,\n",
    "                            max_length=500,\n",
    "                            model_kwargs={\"stream\": True})\n",
    "\n",
    "query_pipeline = Pipeline()\n",
    "query_pipeline.add_node(component=retriever, name=\"Retriever\", inputs=[\"Query\"])\n",
    "query_pipeline.add_node(component=prompt_node, name=\"PromptNode\", inputs=[\"Retriever\"])"
   ]
  },
  {
   "cell_type": "code",
   "execution_count": 32,
   "metadata": {},
   "outputs": [
    {
     "name": "stderr",
     "output_type": "stream",
     "text": [
      "Expected prompt parameter 'documents' to be provided but it is missing. Continuing with an empty list of documents.\n"
     ]
    },
    {
     "name": "stdout",
     "output_type": "stream",
     "text": [
      "You can make a delicious and quick Caprese Salad in less than 20 minutes. Here's the recipe: \n",
      "\n",
      "Ingredients:\n",
      "- 2 large tomatoes\n",
      "- 8 ounces fresh mozzarella cheese\n",
      "- 1/4 cup fresh basil leaves\n",
      "- 2 tablespoons extra virgin olive oil\n",
      "- 2 tablespoons balsamic glaze\n",
      "- Salt and pepper to taste\n",
      "\n",
      "Instructions:\n",
      "1. Slice the tomatoes and mozzarella cheese into 1/4-inch thick slices.\n",
      "2. Arrange the tomato and mozzarella slices on a platter, alternating between them.\n",
      "3. Tuck fresh basil leaves in between the tomato and mozzarella slices.\n",
      "4. Drizzle extra virgin olive oil and balsamic glaze over the salad.\n",
      "5. Season with salt and pepper to taste.\n",
      "6. Serve immediately and enjoy!\n",
      "\n",
      "If you're looking for a different option, the next best match would be a quick and easy stir-fry. Let me know if you'd like the recipe for that!"
     ]
    }
   ],
   "source": [
    "message = 'What can I make in less than 20 minutes?'\n",
    "\n",
    "output = query_pipeline.run(query=message, documents=documents)\n",
    "\n",
    "# Create a Chainlit message with the response\n",
    "response = output['answers'][0].answer"
   ]
  },
  {
   "cell_type": "code",
   "execution_count": 16,
   "metadata": {},
   "outputs": [],
   "source": [
    "new_doc_store = FAISSDocumentStore(faiss_index_path=index_path, faiss_config_path=config_path)"
   ]
  },
  {
   "cell_type": "code",
   "execution_count": 18,
   "metadata": {},
   "outputs": [
    {
     "data": {
      "text/plain": [
       "{'count': 231636,\n",
       " 'chars_mean': 1346.320209293892,\n",
       " 'chars_max': 12837,\n",
       " 'chars_min': 421,\n",
       " 'chars_median': 1245.0}"
      ]
     },
     "execution_count": 18,
     "metadata": {},
     "output_type": "execute_result"
    }
   ],
   "source": [
    "new_doc_store.describe_documents()"
   ]
  },
  {
   "cell_type": "code",
   "execution_count": 34,
   "metadata": {},
   "outputs": [
    {
     "data": {
      "text/plain": [
       "{'count': 231636,\n",
       " 'chars_mean': 1346.320209293892,\n",
       " 'chars_max': 12837,\n",
       " 'chars_min': 421,\n",
       " 'chars_median': 1245.0}"
      ]
     },
     "execution_count": 34,
     "metadata": {},
     "output_type": "execute_result"
    }
   ],
   "source": [
    "document_store.describe_documents()"
   ]
  },
  {
   "cell_type": "code",
   "execution_count": 33,
   "metadata": {},
   "outputs": [
    {
     "name": "stdout",
     "output_type": "stream",
     "text": [
      "0\n",
      "231636\n"
     ]
    }
   ],
   "source": [
    "print(document_store.get_embedding_count())\n",
    "print(document_store.get_document_count())"
   ]
  },
  {
   "cell_type": "code",
   "execution_count": 35,
   "metadata": {},
   "outputs": [
    {
     "data": {
      "text/plain": [
       "False"
      ]
     },
     "execution_count": 35,
     "metadata": {},
     "output_type": "execute_result"
    }
   ],
   "source": [
    "import torch\n",
    "torch.cuda.is_available()"
   ]
  },
  {
   "cell_type": "code",
   "execution_count": null,
   "metadata": {},
   "outputs": [],
   "source": []
  },
  {
   "cell_type": "markdown",
   "metadata": {},
   "source": [
    "# In Memory Storage"
   ]
  },
  {
   "cell_type": "code",
   "execution_count": 1,
   "metadata": {},
   "outputs": [],
   "source": [
    "from haystack.document_stores import InMemoryDocumentStore\n",
    "from haystack.nodes import BM25Retriever, PromptTemplate, AnswerParser, PromptNode\n",
    "import os\n",
    "from haystack.pipelines import Pipeline\n",
    "import torch\n",
    "import chainlit as cl\n",
    "import pandas as pd\n",
    "from haystack import Document\n"
   ]
  },
  {
   "cell_type": "code",
   "execution_count": 2,
   "metadata": {},
   "outputs": [],
   "source": [
    "# Load API key and data\n",
    "openai_key = os.environ['OPENAI_HACKTOBERFEST_KEY']\n",
    "\n",
    "df = pd.read_csv('../../data/recipe_docs.csv')\n",
    "\n",
    "# Cast data into Haystack Document objects\n",
    "titles = list(df['name'].values)\n",
    "texts = list(df['full_recipe'].values)\n",
    "documents = []\n",
    "for title, text in zip(titles, texts):\n",
    "    documents.append(Document(content=text, meta={'name': title or ''}))"
   ]
  },
  {
   "cell_type": "code",
   "execution_count": 3,
   "metadata": {},
   "outputs": [
    {
     "name": "stdout",
     "output_type": "stream",
     "text": [
      "2023-10-22 14:36:55 - Using devices: CPU - Number of GPUs: 0\n"
     ]
    },
    {
     "name": "stderr",
     "output_type": "stream",
     "text": [
      "Updating BM25 representation...: 100%|██████████| 231636/231636 [00:22<00:00, 10294.00 docs/s]\n"
     ]
    }
   ],
   "source": [
    "# Initialize document store\n",
    "document_store = InMemoryDocumentStore(use_bm25=True)\n",
    "document_store.delete_documents()\n",
    "document_store.write_documents(documents)\n",
    "print(document_store.get_all_documents())"
   ]
  },
  {
   "cell_type": "code",
   "execution_count": 5,
   "metadata": {},
   "outputs": [
    {
     "ename": "NameError",
     "evalue": "name 'PromptTemplate' is not defined",
     "output_type": "error",
     "traceback": [
      "\u001b[1;31m---------------------------------------------------------------------------\u001b[0m",
      "\u001b[1;31mNameError\u001b[0m                                 Traceback (most recent call last)",
      "\u001b[1;32mc:\\Users\\HP USER\\Coding\\Hacktoberfest\\rag-pipeline-chatbot\\src\\etl\\Ben_ETL.ipynb Cell 33\u001b[0m line \u001b[0;36m1\n\u001b[1;32m----> <a href='vscode-notebook-cell:/c%3A/Users/HP%20USER/Coding/Hacktoberfest/rag-pipeline-chatbot/src/etl/Ben_ETL.ipynb#X44sZmlsZQ%3D%3D?line=0'>1</a>\u001b[0m rag_prompt \u001b[39m=\u001b[39m PromptTemplate(\n\u001b[0;32m      <a href='vscode-notebook-cell:/c%3A/Users/HP%20USER/Coding/Hacktoberfest/rag-pipeline-chatbot/src/etl/Ben_ETL.ipynb#X44sZmlsZQ%3D%3D?line=1'>2</a>\u001b[0m     prompt\u001b[39m=\u001b[39m\u001b[39m\"\"\"\u001b[39m\u001b[39mOffer the user the recipe that best matches their query.\u001b[39m\n\u001b[0;32m      <a href='vscode-notebook-cell:/c%3A/Users/HP%20USER/Coding/Hacktoberfest/rag-pipeline-chatbot/src/etl/Ben_ETL.ipynb#X44sZmlsZQ%3D%3D?line=2'>3</a>\u001b[0m \u001b[39m              If they ask for a different option, provide them the next best match.\u001b[39m\n\u001b[0;32m      <a href='vscode-notebook-cell:/c%3A/Users/HP%20USER/Coding/Hacktoberfest/rag-pipeline-chatbot/src/etl/Ben_ETL.ipynb#X44sZmlsZQ%3D%3D?line=3'>4</a>\u001b[0m \u001b[39m              \u001b[39m\u001b[39m\\n\u001b[39;00m\u001b[39m\\n\u001b[39;00m\u001b[39m Related text: \u001b[39m\u001b[39m{\u001b[39m\u001b[39mjoin(documents)} \u001b[39m\u001b[39m\\n\u001b[39;00m\u001b[39m\\n\u001b[39;00m\u001b[39m Question: \u001b[39m\u001b[39m{query}\u001b[39;00m\u001b[39m \u001b[39m\u001b[39m\\n\u001b[39;00m\u001b[39m\\n\u001b[39;00m\u001b[39m Answer:\u001b[39m\u001b[39m\"\"\"\u001b[39m,\n\u001b[0;32m      <a href='vscode-notebook-cell:/c%3A/Users/HP%20USER/Coding/Hacktoberfest/rag-pipeline-chatbot/src/etl/Ben_ETL.ipynb#X44sZmlsZQ%3D%3D?line=4'>5</a>\u001b[0m     output_parser\u001b[39m=\u001b[39mAnswerParser(),\n\u001b[0;32m      <a href='vscode-notebook-cell:/c%3A/Users/HP%20USER/Coding/Hacktoberfest/rag-pipeline-chatbot/src/etl/Ben_ETL.ipynb#X44sZmlsZQ%3D%3D?line=5'>6</a>\u001b[0m )\n\u001b[0;32m      <a href='vscode-notebook-cell:/c%3A/Users/HP%20USER/Coding/Hacktoberfest/rag-pipeline-chatbot/src/etl/Ben_ETL.ipynb#X44sZmlsZQ%3D%3D?line=7'>8</a>\u001b[0m \u001b[39m# Set up nodes\u001b[39;00m\n\u001b[0;32m      <a href='vscode-notebook-cell:/c%3A/Users/HP%20USER/Coding/Hacktoberfest/rag-pipeline-chatbot/src/etl/Ben_ETL.ipynb#X44sZmlsZQ%3D%3D?line=8'>9</a>\u001b[0m retriever \u001b[39m=\u001b[39m BM25Retriever(document_store\u001b[39m=\u001b[39mdocument_store, top_k\u001b[39m=\u001b[39m\u001b[39m2\u001b[39m)\n",
      "\u001b[1;31mNameError\u001b[0m: name 'PromptTemplate' is not defined"
     ]
    }
   ],
   "source": [
    "rag_prompt = PromptTemplate(\n",
    "    prompt=\"\"\"Offer the user the recipe that best matches their query.\n",
    "              If they ask for a different option, provide them the next best match.\n",
    "              \\n\\n Related text: {join(documents)} \\n\\n Question: {query} \\n\\n Answer:\"\"\",\n",
    "    output_parser=AnswerParser(),\n",
    ")\n",
    "\n",
    "# Set up nodes\n",
    "retriever = BM25Retriever(document_store=document_store, top_k=2)\n",
    "pn = PromptNode(\"gpt-3.5-turbo\", \n",
    "                api_key=openai_key, \n",
    "                model_kwargs={\"stream\":False},\n",
    "                default_prompt_template=rag_prompt)"
   ]
  },
  {
   "cell_type": "code",
   "execution_count": null,
   "metadata": {},
   "outputs": [],
   "source": [
    "# Set up pipeline\n",
    "pipe = Pipeline()\n",
    "pipe.add_node(component=retriever, name='retriever', inputs=['Query'])\n",
    "pipe.add_node(component=pn, name='prompt_node', inputs=['retriever'])"
   ]
  },
  {
   "cell_type": "code",
   "execution_count": 1,
   "metadata": {},
   "outputs": [],
   "source": [
    "message = \"What can I make with spinach, chicken and lemons?\""
   ]
  },
  {
   "cell_type": "code",
   "execution_count": 2,
   "metadata": {},
   "outputs": [
    {
     "ename": "NameError",
     "evalue": "name 'pipe' is not defined",
     "output_type": "error",
     "traceback": [
      "\u001b[1;31m---------------------------------------------------------------------------\u001b[0m",
      "\u001b[1;31mNameError\u001b[0m                                 Traceback (most recent call last)",
      "\u001b[1;32mc:\\Users\\HP USER\\Coding\\Hacktoberfest\\rag-pipeline-chatbot\\src\\etl\\Ben_ETL.ipynb Cell 36\u001b[0m line \u001b[0;36m1\n\u001b[1;32m----> <a href='vscode-notebook-cell:/c%3A/Users/HP%20USER/Coding/Hacktoberfest/rag-pipeline-chatbot/src/etl/Ben_ETL.ipynb#X50sZmlsZQ%3D%3D?line=0'>1</a>\u001b[0m output \u001b[39m=\u001b[39m pipe\u001b[39m.\u001b[39mrun(query\u001b[39m=\u001b[39mmessage)\n\u001b[0;32m      <a href='vscode-notebook-cell:/c%3A/Users/HP%20USER/Coding/Hacktoberfest/rag-pipeline-chatbot/src/etl/Ben_ETL.ipynb#X50sZmlsZQ%3D%3D?line=2'>3</a>\u001b[0m \u001b[39m# Create a Chainlit message with the response\u001b[39;00m\n\u001b[0;32m      <a href='vscode-notebook-cell:/c%3A/Users/HP%20USER/Coding/Hacktoberfest/rag-pipeline-chatbot/src/etl/Ben_ETL.ipynb#X50sZmlsZQ%3D%3D?line=3'>4</a>\u001b[0m response \u001b[39m=\u001b[39m output[\u001b[39m'\u001b[39m\u001b[39manswers\u001b[39m\u001b[39m'\u001b[39m][\u001b[39m0\u001b[39m]\u001b[39m.\u001b[39manswer\n",
      "\u001b[1;31mNameError\u001b[0m: name 'pipe' is not defined"
     ]
    }
   ],
   "source": [
    "output = pipe.run(query=message)\n",
    "\n",
    "# Create a Chainlit message with the response\n",
    "response = output['answers'][0].answer"
   ]
  },
  {
   "cell_type": "code",
   "execution_count": null,
   "metadata": {},
   "outputs": [],
   "source": [
    "response"
   ]
  },
  {
   "cell_type": "code",
   "execution_count": null,
   "metadata": {},
   "outputs": [],
   "source": [
    "output = pipe.run(query='Show me the Jalapeno and Pesto Chicken Pasta Salad recipe.')\n",
    "output['answers'][0].answer"
   ]
  },
  {
   "cell_type": "code",
   "execution_count": null,
   "metadata": {},
   "outputs": [],
   "source": []
  },
  {
   "cell_type": "code",
   "execution_count": null,
   "metadata": {},
   "outputs": [],
   "source": []
  }
 ],
 "metadata": {
  "kernelspec": {
   "display_name": "hacktoberfest-env",
   "language": "python",
   "name": "python3"
  },
  "language_info": {
   "codemirror_mode": {
    "name": "ipython",
    "version": 3
   },
   "file_extension": ".py",
   "mimetype": "text/x-python",
   "name": "python",
   "nbconvert_exporter": "python",
   "pygments_lexer": "ipython3",
   "version": "3.10.13"
  },
  "orig_nbformat": 4
 },
 "nbformat": 4,
 "nbformat_minor": 2
}
