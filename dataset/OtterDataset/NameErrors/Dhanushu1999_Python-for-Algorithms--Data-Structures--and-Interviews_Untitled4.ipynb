{
 "cells": [
  {
   "cell_type": "code",
   "execution_count": 7,
   "metadata": {},
   "outputs": [
    {
     "data": {
      "text/plain": [
       "3"
      ]
     },
     "execution_count": 7,
     "metadata": {},
     "output_type": "execute_result"
    }
   ],
   "source": [
    "mylist=[(1,2),(3,3),(2,1)]\n",
    "len(mylist)"
   ]
  },
  {
   "cell_type": "code",
   "execution_count": 8,
   "metadata": {},
   "outputs": [
    {
     "data": {
      "text/plain": [
       "(3, 3)"
      ]
     },
     "execution_count": 8,
     "metadata": {},
     "output_type": "execute_result"
    }
   ],
   "source": [
    "mylist[-2]"
   ]
  },
  {
   "cell_type": "code",
   "execution_count": 9,
   "metadata": {},
   "outputs": [
    {
     "data": {
      "text/plain": [
       "(2, 1)"
      ]
     },
     "execution_count": 9,
     "metadata": {},
     "output_type": "execute_result"
    }
   ],
   "source": [
    "mylist[len(mylist)-1]"
   ]
  },
  {
   "cell_type": "code",
   "execution_count": 10,
   "metadata": {},
   "outputs": [
    {
     "data": {
      "text/plain": [
       "((1, 2), (3, 3), (2, 1))"
      ]
     },
     "execution_count": 10,
     "metadata": {},
     "output_type": "execute_result"
    }
   ],
   "source": [
    "mytuple=tuple(mylist)\n",
    "mytuple"
   ]
  },
  {
   "cell_type": "code",
   "execution_count": 11,
   "metadata": {},
   "outputs": [
    {
     "name": "stdout",
     "output_type": "stream",
     "text": [
      "(1, 2)\n",
      "(3, 3)\n",
      "(2, 1)\n"
     ]
    }
   ],
   "source": [
    "for i in mytuple:\n",
    "    print(i)"
   ]
  },
  {
   "cell_type": "code",
   "execution_count": 12,
   "metadata": {},
   "outputs": [
    {
     "data": {
      "text/plain": [
       "{(1, 2), (2, 1), (3, 3)}"
      ]
     },
     "execution_count": 12,
     "metadata": {},
     "output_type": "execute_result"
    }
   ],
   "source": [
    "myset=set()\n",
    "myset.update(mytuple)\n",
    "myset"
   ]
  },
  {
   "cell_type": "code",
   "execution_count": 13,
   "metadata": {},
   "outputs": [
    {
     "name": "stdout",
     "output_type": "stream",
     "text": [
      "1 2\n",
      "3 3\n",
      "2 1\n"
     ]
    }
   ],
   "source": [
    "for i in mylist:\n",
    "    x,y=i\n",
    "    print(x,y)"
   ]
  },
  {
   "cell_type": "code",
   "execution_count": 14,
   "metadata": {},
   "outputs": [
    {
     "name": "stdout",
     "output_type": "stream",
     "text": [
      "[(1, 2), (1, 3), (2, 1), (2, 3), (3, 1), (3, 2)]\n"
     ]
    }
   ],
   "source": [
    "from itertools import permutations\n",
    "from itertools import starmap\n",
    "given=[1,2,3]\n",
    "print(list(permutations(given,2)))"
   ]
  },
  {
   "cell_type": "code",
   "execution_count": 15,
   "metadata": {},
   "outputs": [
    {
     "name": "stdout",
     "output_type": "stream",
     "text": [
      "[2, 3, 2, 6, 3, 6]\n"
     ]
    }
   ],
   "source": [
    "print(list(map(lambda i: i[0]*i[1],list(permutations(given,2)))))"
   ]
  },
  {
   "cell_type": "code",
   "execution_count": 16,
   "metadata": {},
   "outputs": [
    {
     "name": "stdout",
     "output_type": "stream",
     "text": [
      "[1, 1, 2, 8, 3, 9]\n"
     ]
    }
   ],
   "source": [
    "print(list(starmap(pow,list(permutations(given,2)))))"
   ]
  },
  {
   "cell_type": "code",
   "execution_count": 17,
   "metadata": {},
   "outputs": [
    {
     "name": "stdout",
     "output_type": "stream",
     "text": [
      "3\n",
      "1 2 3 10 4 5 8 100 0 "
     ]
    }
   ],
   "source": [
    "given1=[[1,2,3],[10,4,5],[8,100,0]]\n",
    "print(len(given1))\n",
    "for x,y,z in given1:\n",
    "    print(x,y,z,end=\" \")"
   ]
  },
  {
   "cell_type": "code",
   "execution_count": 18,
   "metadata": {},
   "outputs": [
    {
     "name": "stdout",
     "output_type": "stream",
     "text": [
      "[1, 2, 3] hel\n",
      "5\n",
      "0 h 1\n",
      "1 e 2\n",
      "2 l 3\n",
      "3 l 4\n",
      "4 o 5\n"
     ]
    }
   ],
   "source": [
    "string=\"hello\"\n",
    "mali=[1,2,3,4,5]\n",
    "print(mali[:3],string[:3])\n",
    "\n",
    "print(len(mali))\n",
    "for i in range(len(string)):\n",
    "    print(i,string[i],mali[i])"
   ]
  },
  {
   "cell_type": "code",
   "execution_count": 19,
   "metadata": {},
   "outputs": [
    {
     "data": {
      "text/plain": [
       "4"
      ]
     },
     "execution_count": 19,
     "metadata": {},
     "output_type": "execute_result"
    }
   ],
   "source": [
    "max([1,2,3]+[4])"
   ]
  },
  {
   "cell_type": "code",
   "execution_count": 20,
   "metadata": {},
   "outputs": [],
   "source": [
    "def reverseArray(a):\n",
    "    if len(a)==0:\n",
    "        return\n",
    "    return reverseArray(a[1:])+a[0]"
   ]
  },
  {
   "cell_type": "code",
   "execution_count": 21,
   "metadata": {},
   "outputs": [
    {
     "ename": "TypeError",
     "evalue": "unsupported operand type(s) for +: 'NoneType' and 'int'",
     "output_type": "error",
     "traceback": [
      "\u001b[1;31m---------------------------------------------------------------------------\u001b[0m",
      "\u001b[1;31mTypeError\u001b[0m                                 Traceback (most recent call last)",
      "\u001b[1;32m<ipython-input-21-9d01388360ac>\u001b[0m in \u001b[0;36m<module>\u001b[1;34m\u001b[0m\n\u001b[1;32m----> 1\u001b[1;33m \u001b[0mreverseArray\u001b[0m\u001b[1;33m(\u001b[0m\u001b[1;33m[\u001b[0m\u001b[1;36m1\u001b[0m\u001b[1;33m,\u001b[0m\u001b[1;36m2\u001b[0m\u001b[1;33m,\u001b[0m\u001b[1;36m3\u001b[0m\u001b[1;33m,\u001b[0m\u001b[1;36m4\u001b[0m\u001b[1;33m]\u001b[0m\u001b[1;33m)\u001b[0m\u001b[1;33m\u001b[0m\u001b[1;33m\u001b[0m\u001b[0m\n\u001b[0m",
      "\u001b[1;32m<ipython-input-20-88b7eb2bea19>\u001b[0m in \u001b[0;36mreverseArray\u001b[1;34m(a)\u001b[0m\n\u001b[0;32m      2\u001b[0m     \u001b[1;32mif\u001b[0m \u001b[0mlen\u001b[0m\u001b[1;33m(\u001b[0m\u001b[0ma\u001b[0m\u001b[1;33m)\u001b[0m\u001b[1;33m==\u001b[0m\u001b[1;36m0\u001b[0m\u001b[1;33m:\u001b[0m\u001b[1;33m\u001b[0m\u001b[1;33m\u001b[0m\u001b[0m\n\u001b[0;32m      3\u001b[0m         \u001b[1;32mreturn\u001b[0m\u001b[1;33m\u001b[0m\u001b[1;33m\u001b[0m\u001b[0m\n\u001b[1;32m----> 4\u001b[1;33m     \u001b[1;32mreturn\u001b[0m \u001b[0mreverseArray\u001b[0m\u001b[1;33m(\u001b[0m\u001b[0ma\u001b[0m\u001b[1;33m[\u001b[0m\u001b[1;36m1\u001b[0m\u001b[1;33m:\u001b[0m\u001b[1;33m]\u001b[0m\u001b[1;33m)\u001b[0m\u001b[1;33m+\u001b[0m\u001b[0ma\u001b[0m\u001b[1;33m[\u001b[0m\u001b[1;36m0\u001b[0m\u001b[1;33m]\u001b[0m\u001b[1;33m\u001b[0m\u001b[1;33m\u001b[0m\u001b[0m\n\u001b[0m",
      "\u001b[1;32m<ipython-input-20-88b7eb2bea19>\u001b[0m in \u001b[0;36mreverseArray\u001b[1;34m(a)\u001b[0m\n\u001b[0;32m      2\u001b[0m     \u001b[1;32mif\u001b[0m \u001b[0mlen\u001b[0m\u001b[1;33m(\u001b[0m\u001b[0ma\u001b[0m\u001b[1;33m)\u001b[0m\u001b[1;33m==\u001b[0m\u001b[1;36m0\u001b[0m\u001b[1;33m:\u001b[0m\u001b[1;33m\u001b[0m\u001b[1;33m\u001b[0m\u001b[0m\n\u001b[0;32m      3\u001b[0m         \u001b[1;32mreturn\u001b[0m\u001b[1;33m\u001b[0m\u001b[1;33m\u001b[0m\u001b[0m\n\u001b[1;32m----> 4\u001b[1;33m     \u001b[1;32mreturn\u001b[0m \u001b[0mreverseArray\u001b[0m\u001b[1;33m(\u001b[0m\u001b[0ma\u001b[0m\u001b[1;33m[\u001b[0m\u001b[1;36m1\u001b[0m\u001b[1;33m:\u001b[0m\u001b[1;33m]\u001b[0m\u001b[1;33m)\u001b[0m\u001b[1;33m+\u001b[0m\u001b[0ma\u001b[0m\u001b[1;33m[\u001b[0m\u001b[1;36m0\u001b[0m\u001b[1;33m]\u001b[0m\u001b[1;33m\u001b[0m\u001b[1;33m\u001b[0m\u001b[0m\n\u001b[0m",
      "\u001b[1;32m<ipython-input-20-88b7eb2bea19>\u001b[0m in \u001b[0;36mreverseArray\u001b[1;34m(a)\u001b[0m\n\u001b[0;32m      2\u001b[0m     \u001b[1;32mif\u001b[0m \u001b[0mlen\u001b[0m\u001b[1;33m(\u001b[0m\u001b[0ma\u001b[0m\u001b[1;33m)\u001b[0m\u001b[1;33m==\u001b[0m\u001b[1;36m0\u001b[0m\u001b[1;33m:\u001b[0m\u001b[1;33m\u001b[0m\u001b[1;33m\u001b[0m\u001b[0m\n\u001b[0;32m      3\u001b[0m         \u001b[1;32mreturn\u001b[0m\u001b[1;33m\u001b[0m\u001b[1;33m\u001b[0m\u001b[0m\n\u001b[1;32m----> 4\u001b[1;33m     \u001b[1;32mreturn\u001b[0m \u001b[0mreverseArray\u001b[0m\u001b[1;33m(\u001b[0m\u001b[0ma\u001b[0m\u001b[1;33m[\u001b[0m\u001b[1;36m1\u001b[0m\u001b[1;33m:\u001b[0m\u001b[1;33m]\u001b[0m\u001b[1;33m)\u001b[0m\u001b[1;33m+\u001b[0m\u001b[0ma\u001b[0m\u001b[1;33m[\u001b[0m\u001b[1;36m0\u001b[0m\u001b[1;33m]\u001b[0m\u001b[1;33m\u001b[0m\u001b[1;33m\u001b[0m\u001b[0m\n\u001b[0m",
      "\u001b[1;32m<ipython-input-20-88b7eb2bea19>\u001b[0m in \u001b[0;36mreverseArray\u001b[1;34m(a)\u001b[0m\n\u001b[0;32m      2\u001b[0m     \u001b[1;32mif\u001b[0m \u001b[0mlen\u001b[0m\u001b[1;33m(\u001b[0m\u001b[0ma\u001b[0m\u001b[1;33m)\u001b[0m\u001b[1;33m==\u001b[0m\u001b[1;36m0\u001b[0m\u001b[1;33m:\u001b[0m\u001b[1;33m\u001b[0m\u001b[1;33m\u001b[0m\u001b[0m\n\u001b[0;32m      3\u001b[0m         \u001b[1;32mreturn\u001b[0m\u001b[1;33m\u001b[0m\u001b[1;33m\u001b[0m\u001b[0m\n\u001b[1;32m----> 4\u001b[1;33m     \u001b[1;32mreturn\u001b[0m \u001b[0mreverseArray\u001b[0m\u001b[1;33m(\u001b[0m\u001b[0ma\u001b[0m\u001b[1;33m[\u001b[0m\u001b[1;36m1\u001b[0m\u001b[1;33m:\u001b[0m\u001b[1;33m]\u001b[0m\u001b[1;33m)\u001b[0m\u001b[1;33m+\u001b[0m\u001b[0ma\u001b[0m\u001b[1;33m[\u001b[0m\u001b[1;36m0\u001b[0m\u001b[1;33m]\u001b[0m\u001b[1;33m\u001b[0m\u001b[1;33m\u001b[0m\u001b[0m\n\u001b[0m",
      "\u001b[1;31mTypeError\u001b[0m: unsupported operand type(s) for +: 'NoneType' and 'int'"
     ]
    }
   ],
   "source": [
    "reverseArray([1,2,3,4])"
   ]
  },
  {
   "cell_type": "code",
   "execution_count": null,
   "metadata": {},
   "outputs": [],
   "source": [
    "maxsum=[]\n",
    "def hourglass(arr):\n",
    "    print(len(arr))\n",
    "    if len(arr)==2:\n",
    "        return(max(maxsum))\n",
    "    for j in range(len(arr[0])-2):\n",
    "        print(arr[0][j:j+3],arr[1][j+1],arr[2][j:j+3])\n",
    "        maxsum.append(sum(arr[0][j:j+3]+arr[2][j:j+3])+arr[1][j+1])\n",
    "        print(maxsum)\n",
    "    return hourglass(arr[1:])\n",
    "        \n",
    "        \n",
    "        "
   ]
  },
  {
   "cell_type": "code",
   "execution_count": 22,
   "metadata": {},
   "outputs": [
    {
     "data": {
      "text/plain": [
       "(9, 17, 25, 18)"
      ]
     },
     "execution_count": 22,
     "metadata": {},
     "output_type": "execute_result"
    }
   ],
   "source": [
    "-63, -34, -9, 12, \n",
    "-10, 0, 28, 23, \n",
    "-27, -11, -2, 10, \n",
    "9, 17, 25, 18"
   ]
  },
  {
   "cell_type": "code",
   "execution_count": 23,
   "metadata": {},
   "outputs": [
    {
     "ename": "NameError",
     "evalue": "name 'hourglass' is not defined",
     "output_type": "error",
     "traceback": [
      "\u001b[1;31m---------------------------------------------------------------------------\u001b[0m",
      "\u001b[1;31mNameError\u001b[0m                                 Traceback (most recent call last)",
      "\u001b[1;32m<ipython-input-23-d3d8eedda62c>\u001b[0m in \u001b[0;36m<module>\u001b[1;34m\u001b[0m\n\u001b[1;32m----> 1\u001b[1;33m \u001b[0mresult\u001b[0m\u001b[1;33m=\u001b[0m\u001b[0mhourglass\u001b[0m\u001b[1;33m\u001b[0m\u001b[1;33m\u001b[0m\u001b[0m\n\u001b[0m\u001b[0;32m      2\u001b[0m \u001b[0mresult\u001b[0m\u001b[1;33m(\u001b[0m\u001b[0marr\u001b[0m\u001b[1;33m)\u001b[0m\u001b[1;33m\u001b[0m\u001b[1;33m\u001b[0m\u001b[0m\n",
      "\u001b[1;31mNameError\u001b[0m: name 'hourglass' is not defined"
     ]
    }
   ],
   "source": [
    "result=hourglass\n",
    "result(arr)"
   ]
  },
  {
   "cell_type": "code",
   "execution_count": null,
   "metadata": {},
   "outputs": [],
   "source": [
    "arr=[list(map(int,input().split())) for i in range(6)]"
   ]
  },
  {
   "cell_type": "code",
   "execution_count": null,
   "metadata": {},
   "outputs": [],
   "source": [
    "-9 -9 -9 1 1 1\n",
    "0 -9 0 4 3 2\n",
    "-9 -9 -9 1 2 3\n",
    "0 0 8 6 6 0\n",
    "0 0 0 -2 0 0\n",
    "0 0 1 2 4 0"
   ]
  },
  {
   "cell_type": "code",
   "execution_count": null,
   "metadata": {},
   "outputs": [],
   "source": [
    "arr"
   ]
  },
  {
   "cell_type": "code",
   "execution_count": null,
   "metadata": {},
   "outputs": [],
   "source": [
    "arr[0][:2]+list.insert(0,arr[1][1])+arr[2][:2]"
   ]
  },
  {
   "cell_type": "code",
   "execution_count": 1,
   "metadata": {},
   "outputs": [
    {
     "name": "stdout",
     "output_type": "stream",
     "text": [
      "1\n",
      "2\n",
      "3\n",
      "4\n"
     ]
    }
   ],
   "source": [
    "for i in range(1,5):\n",
    "    print(i)"
   ]
  },
  {
   "cell_type": "code",
   "execution_count": 2,
   "metadata": {},
   "outputs": [
    {
     "data": {
      "text/plain": [
       "[1, 2, 3, 5]"
      ]
     },
     "execution_count": 2,
     "metadata": {},
     "output_type": "execute_result"
    }
   ],
   "source": [
    "nm=[1,2,3]\n",
    "nm.append(5)\n",
    "nm"
   ]
  },
  {
   "cell_type": "code",
   "execution_count": 3,
   "metadata": {},
   "outputs": [
    {
     "data": {
      "text/plain": [
       "[[1, 2, 3], [6, 5, 4], [7, 8, 9]]"
      ]
     },
     "execution_count": 3,
     "metadata": {},
     "output_type": "execute_result"
    }
   ],
   "source": [
    "A = [1,2,3]\n",
    "B = [6,5,4]\n",
    "C = [7,8,9]\n",
    "X = [A] + [B] +[C]\n",
    "X"
   ]
  },
  {
   "cell_type": "code",
   "execution_count": 4,
   "metadata": {},
   "outputs": [],
   "source": [
    "from itertools import product\n",
    "m=list(product(*X))\n",
    "n=list(zip(*X))"
   ]
  },
  {
   "cell_type": "code",
   "execution_count": 5,
   "metadata": {},
   "outputs": [
    {
     "name": "stdout",
     "output_type": "stream",
     "text": [
      "1\n"
     ]
    }
   ],
   "source": [
    "li=[1,-1,-1,-1,1,-1,1,1]\n",
    "sum1=0\n",
    "count=0\n",
    "for i in range(len(li)):\n",
    "    if sum1==0 and sum1+li[i]<0:\n",
    "        count+=1\n",
    "        sum1+=li[i]\n",
    "        print\n",
    "    else:\n",
    "        sum1+=li[i]\n",
    "print(count)"
   ]
  },
  {
   "cell_type": "code",
   "execution_count": 6,
   "metadata": {},
   "outputs": [
    {
     "name": "stdout",
     "output_type": "stream",
     "text": [
      "abc\n"
     ]
    },
    {
     "data": {
      "text/plain": [
       "4"
      ]
     },
     "execution_count": 6,
     "metadata": {},
     "output_type": "execute_result"
    }
   ],
   "source": [
    "string=\"abc\"*10\n",
    "print(\"\".join(sorted(set(string))))\n",
    "(\"abc\"*10)[:10].count(\"a\")"
   ]
  },
  {
   "cell_type": "code",
   "execution_count": 7,
   "metadata": {},
   "outputs": [],
   "source": [
    "def repeatedString(s, n):\n",
    "    r=\"\"\n",
    "    i=len(r)\n",
    "    while(i<n):\n",
    "        if n-i>=len(s):\n",
    "            i=len(s)\n",
    "            r+=s[:i]\n",
    "        else:\n",
    "            r+=s[:n-i]\n",
    "        \n",
    "        i=len(r)\n",
    "        print(i,r)\n",
    "    return r.count(\"a\")"
   ]
  },
  {
   "cell_type": "code",
   "execution_count": 8,
   "metadata": {},
   "outputs": [
    {
     "name": "stdout",
     "output_type": "stream",
     "text": [
      "1 a\n",
      "2 aa\n",
      "3 aaa\n",
      "4 aaaa\n",
      "5 aaaaa\n",
      "6 aaaaaa\n",
      "7 aaaaaaa\n",
      "8 aaaaaaaa\n",
      "9 aaaaaaaaa\n",
      "10 aaaaaaaaaa\n"
     ]
    },
    {
     "data": {
      "text/plain": [
       "10"
      ]
     },
     "execution_count": 8,
     "metadata": {},
     "output_type": "execute_result"
    }
   ],
   "source": [
    "repeatedString(\"a\",10)"
   ]
  },
  {
   "cell_type": "code",
   "execution_count": 9,
   "metadata": {},
   "outputs": [],
   "source": [
    "def rotLeft(a, d):\n",
    "    return a[d:]+a[:d]"
   ]
  },
  {
   "cell_type": "code",
   "execution_count": 10,
   "metadata": {},
   "outputs": [
    {
     "data": {
      "text/plain": [
       "[4, 5, 6, 7, 1, 2, 3]"
      ]
     },
     "execution_count": 10,
     "metadata": {},
     "output_type": "execute_result"
    }
   ],
   "source": [
    "rotLeft([1,2,3,4,5,6,7],3)"
   ]
  },
  {
   "cell_type": "code",
   "execution_count": 11,
   "metadata": {},
   "outputs": [
    {
     "name": "stdout",
     "output_type": "stream",
     "text": [
      "[2, 0, 1]\n"
     ]
    }
   ],
   "source": [
    "from collections import deque\n",
    "l=deque()\n",
    "for i in range(3):\n",
    "    l.append(i)\n",
    "l.rotate(1)\n",
    "print(list(l))"
   ]
  },
  {
   "cell_type": "code",
   "execution_count": 12,
   "metadata": {},
   "outputs": [
    {
     "name": "stdout",
     "output_type": "stream",
     "text": [
      "{'1': 1, '2': 2}\n"
     ]
    }
   ],
   "source": [
    "d={\"1\":1,\"2\":2}\n",
    "print(d)"
   ]
  },
  {
   "cell_type": "code",
   "execution_count": 13,
   "metadata": {},
   "outputs": [
    {
     "data": {
      "text/plain": [
       "dict_items([('1', 1), ('2', 2)])"
      ]
     },
     "execution_count": 13,
     "metadata": {},
     "output_type": "execute_result"
    }
   ],
   "source": [
    "d.items()"
   ]
  },
  {
   "cell_type": "code",
   "execution_count": 14,
   "metadata": {},
   "outputs": [
    {
     "data": {
      "text/plain": [
       "dict_keys(['1', '2'])"
      ]
     },
     "execution_count": 14,
     "metadata": {},
     "output_type": "execute_result"
    }
   ],
   "source": [
    "d.keys()"
   ]
  },
  {
   "cell_type": "code",
   "execution_count": 15,
   "metadata": {},
   "outputs": [
    {
     "data": {
      "text/plain": [
       "dict_values([1, 2])"
      ]
     },
     "execution_count": 15,
     "metadata": {},
     "output_type": "execute_result"
    }
   ],
   "source": [
    "d.values()"
   ]
  },
  {
   "cell_type": "code",
   "execution_count": 16,
   "metadata": {},
   "outputs": [
    {
     "data": {
      "text/plain": [
       "1"
      ]
     },
     "execution_count": 16,
     "metadata": {},
     "output_type": "execute_result"
    }
   ],
   "source": [
    "d[\"1\"]"
   ]
  },
  {
   "cell_type": "code",
   "execution_count": 17,
   "metadata": {},
   "outputs": [],
   "source": [
    "list1=list(d.keys())"
   ]
  },
  {
   "cell_type": "code",
   "execution_count": 18,
   "metadata": {},
   "outputs": [
    {
     "data": {
      "text/plain": [
       "['1', '2']"
      ]
     },
     "execution_count": 18,
     "metadata": {},
     "output_type": "execute_result"
    }
   ],
   "source": [
    "list1"
   ]
  },
  {
   "cell_type": "code",
   "execution_count": 19,
   "metadata": {},
   "outputs": [
    {
     "name": "stdout",
     "output_type": "stream",
     "text": [
      "8\n"
     ]
    }
   ],
   "source": [
    "import math\n",
    "print(int(math.sqrt(64)))"
   ]
  },
  {
   "cell_type": "code",
   "execution_count": 20,
   "metadata": {},
   "outputs": [],
   "source": [
    "def func(n):\n",
    "    return n*n\n"
   ]
  },
  {
   "cell_type": "code",
   "execution_count": 21,
   "metadata": {},
   "outputs": [
    {
     "data": {
      "text/plain": [
       "9"
      ]
     },
     "execution_count": 21,
     "metadata": {},
     "output_type": "execute_result"
    }
   ],
   "source": [
    "hello=func\n",
    "hello(3)"
   ]
  },
  {
   "cell_type": "code",
   "execution_count": 22,
   "metadata": {},
   "outputs": [
    {
     "data": {
      "text/plain": [
       "'hac errank'"
      ]
     },
     "execution_count": 22,
     "metadata": {},
     "output_type": "execute_result"
    }
   ],
   "source": [
    "string=\"hackerrank\"\n",
    "string[:3]+\" \"+string[4:]"
   ]
  },
  {
   "cell_type": "code",
   "execution_count": 23,
   "metadata": {},
   "outputs": [
    {
     "data": {
      "text/plain": [
       "['__doc__',\n",
       " '__loader__',\n",
       " '__name__',\n",
       " '__package__',\n",
       " '__spec__',\n",
       " '_grouper',\n",
       " '_tee',\n",
       " '_tee_dataobject',\n",
       " 'accumulate',\n",
       " 'chain',\n",
       " 'combinations',\n",
       " 'combinations_with_replacement',\n",
       " 'compress',\n",
       " 'count',\n",
       " 'cycle',\n",
       " 'dropwhile',\n",
       " 'filterfalse',\n",
       " 'groupby',\n",
       " 'islice',\n",
       " 'permutations',\n",
       " 'product',\n",
       " 'repeat',\n",
       " 'starmap',\n",
       " 'takewhile',\n",
       " 'tee',\n",
       " 'zip_longest']"
      ]
     },
     "execution_count": 23,
     "metadata": {},
     "output_type": "execute_result"
    }
   ],
   "source": [
    "import itertools\n",
    "dir(itertools)"
   ]
  },
  {
   "cell_type": "code",
   "execution_count": 24,
   "metadata": {},
   "outputs": [
    {
     "data": {
      "text/plain": [
       "['ChainMap',\n",
       " 'Counter',\n",
       " 'OrderedDict',\n",
       " 'UserDict',\n",
       " 'UserList',\n",
       " 'UserString',\n",
       " '_Link',\n",
       " '_OrderedDictItemsView',\n",
       " '_OrderedDictKeysView',\n",
       " '_OrderedDictValuesView',\n",
       " '__all__',\n",
       " '__builtins__',\n",
       " '__cached__',\n",
       " '__doc__',\n",
       " '__file__',\n",
       " '__getattr__',\n",
       " '__loader__',\n",
       " '__name__',\n",
       " '__package__',\n",
       " '__path__',\n",
       " '__spec__',\n",
       " '_chain',\n",
       " '_collections_abc',\n",
       " '_count_elements',\n",
       " '_eq',\n",
       " '_heapq',\n",
       " '_iskeyword',\n",
       " '_itemgetter',\n",
       " '_proxy',\n",
       " '_recursive_repr',\n",
       " '_repeat',\n",
       " '_starmap',\n",
       " '_sys',\n",
       " '_tuplegetter',\n",
       " 'abc',\n",
       " 'defaultdict',\n",
       " 'deque',\n",
       " 'namedtuple']"
      ]
     },
     "execution_count": 24,
     "metadata": {},
     "output_type": "execute_result"
    }
   ],
   "source": [
    "import collections\n",
    "dir(collections)"
   ]
  },
  {
   "cell_type": "code",
   "execution_count": 25,
   "metadata": {},
   "outputs": [
    {
     "data": {
      "text/plain": [
       "{0, 2, 3, 5, 7, 8}"
      ]
     },
     "execution_count": 25,
     "metadata": {},
     "output_type": "execute_result"
    }
   ],
   "source": [
    "set1={3,5,2,3,8,0,5,7}\n",
    "set(sorted(set1))"
   ]
  },
  {
   "cell_type": "code",
   "execution_count": 26,
   "metadata": {},
   "outputs": [
    {
     "name": "stdout",
     "output_type": "stream",
     "text": [
      "__main__\n"
     ]
    }
   ],
   "source": [
    "print(__name__)"
   ]
  },
  {
   "cell_type": "code",
   "execution_count": 27,
   "metadata": {},
   "outputs": [
    {
     "data": {
      "text/plain": [
       "'h12345llo'"
      ]
     },
     "execution_count": 27,
     "metadata": {},
     "output_type": "execute_result"
    }
   ],
   "source": [
    "string=\"haeioullo\"\n",
    "string.replace(\"aeiou\",\"12345\")"
   ]
  },
  {
   "cell_type": "code",
   "execution_count": 28,
   "metadata": {},
   "outputs": [
    {
     "name": "stdout",
     "output_type": "stream",
     "text": [
      "[[1, 1], [3, 4], [1, 2]]\n",
      "[1, 1]\n"
     ]
    }
   ],
   "source": [
    "malis=[[1,1],[3,4],[1,2],[3,4,5,6]]\n",
    "mini=[req for req in malis if len(req)==min([len(i) for i in malis])]\n",
    "print(mini)\n",
    "print(min(malis))"
   ]
  },
  {
   "cell_type": "code",
   "execution_count": 31,
   "metadata": {},
   "outputs": [
    {
     "ename": "NameError",
     "evalue": "name 's' is not defined",
     "output_type": "error",
     "traceback": [
      "\u001b[1;31m---------------------------------------------------------------------------\u001b[0m",
      "\u001b[1;31mNameError\u001b[0m                                 Traceback (most recent call last)",
      "\u001b[1;32m<ipython-input-31-de7e29699630>\u001b[0m in \u001b[0;36m<module>\u001b[1;34m\u001b[0m\n\u001b[0;32m      3\u001b[0m \u001b[0mkevsc\u001b[0m \u001b[1;33m=\u001b[0m \u001b[1;36m0\u001b[0m\u001b[1;33m\u001b[0m\u001b[1;33m\u001b[0m\u001b[0m\n\u001b[0;32m      4\u001b[0m \u001b[0mstusc\u001b[0m \u001b[1;33m=\u001b[0m \u001b[1;36m0\u001b[0m\u001b[1;33m\u001b[0m\u001b[1;33m\u001b[0m\u001b[0m\n\u001b[1;32m----> 5\u001b[1;33m \u001b[1;32mfor\u001b[0m \u001b[0mi\u001b[0m \u001b[1;32min\u001b[0m \u001b[0mrange\u001b[0m\u001b[1;33m(\u001b[0m\u001b[0mlen\u001b[0m\u001b[1;33m(\u001b[0m\u001b[0ms\u001b[0m\u001b[1;33m)\u001b[0m\u001b[1;33m)\u001b[0m\u001b[1;33m:\u001b[0m\u001b[1;33m\u001b[0m\u001b[1;33m\u001b[0m\u001b[0m\n\u001b[0m\u001b[0;32m      6\u001b[0m     \u001b[1;32mif\u001b[0m \u001b[0ms\u001b[0m\u001b[1;33m[\u001b[0m\u001b[0mi\u001b[0m\u001b[1;33m]\u001b[0m \u001b[1;32min\u001b[0m \u001b[0mvowels\u001b[0m\u001b[1;33m:\u001b[0m\u001b[1;33m\u001b[0m\u001b[1;33m\u001b[0m\u001b[0m\n\u001b[0;32m      7\u001b[0m         \u001b[0mkevsc\u001b[0m \u001b[1;33m+=\u001b[0m \u001b[1;33m(\u001b[0m\u001b[0mlen\u001b[0m\u001b[1;33m(\u001b[0m\u001b[0ms\u001b[0m\u001b[1;33m)\u001b[0m\u001b[1;33m-\u001b[0m\u001b[0mi\u001b[0m\u001b[1;33m)\u001b[0m\u001b[1;33m\u001b[0m\u001b[1;33m\u001b[0m\u001b[0m\n",
      "\u001b[1;31mNameError\u001b[0m: name 's' is not defined"
     ]
    }
   ],
   "source": [
    "vowels = 'AEIOU'\n",
    "\n",
    "kevsc = 0\n",
    "stusc = 0\n",
    "for i in range(len(s)):\n",
    "    if s[i] in vowels:\n",
    "        kevsc += (len(s)-i)\n",
    "    else:\n",
    "        stusc += (len(s)-i)\n",
    "\n",
    "if kevsc > stusc:\n",
    "    print(\"Kevin\", kevsc)\n",
    "elif kevsc < stusc:\n",
    "    print (\"Stuart\", stusc)\n",
    "else:\n",
    "    print(\"Draw\")"
   ]
  },
  {
   "cell_type": "code",
   "execution_count": null,
   "metadata": {},
   "outputs": [],
   "source": [
    "count=[]\n",
    "def minimumTime(ability, processes):\n",
    "    if processes==0 :\n",
    "        return sum(count)\n",
    "    for i in range(len(ability)):\n",
    "        if ability[i]==max(ability):\n",
    "            if ability[i]<=processes:\n",
    "                processes-=ability[i]\n",
    "                ability[i]=ability[i]//2\n",
    "                count.append(1)\n",
    "                print(processes,ability,count)\n",
    "                return minimumTime(ability,processes)\n",
    "            else:\n",
    "                ability[i]=ability[i]//2\n",
    "                return minimumTime(ability,processes)"
   ]
  },
  {
   "cell_type": "code",
   "execution_count": null,
   "metadata": {},
   "outputs": [],
   "source": [
    "minimumTime([3,1,4,2],3)"
   ]
  },
  {
   "cell_type": "code",
   "execution_count": null,
   "metadata": {},
   "outputs": [],
   "source": [
    "m=[[1,2,3],[0]]\n",
    "print(1 in m[0])"
   ]
  },
  {
   "cell_type": "code",
   "execution_count": null,
   "metadata": {},
   "outputs": [],
   "source": [
    "def autocomplete(command):\n",
    "    # Write your code here\n",
    "    check=[]\n",
    "    result=[]\n",
    "    final=[]\n",
    "    count=0\n",
    "    found=False\n",
    "    for stri in command:\n",
    "        for mystri in [stri[:j] for j in range(2,len(stri)+1)]:\n",
    "\n",
    "            for mycheck in range(len(check)):\n",
    "                if mystri in check[mycheck]:\n",
    "                    result.append(mycheck+1)\n",
    "                    print(mycheck+1,stri,mystri,result,check)\n",
    "        check.append([stri[:j] for j in range(2,len(stri)+1)])\n",
    "    return result"
   ]
  },
  {
   "cell_type": "code",
   "execution_count": null,
   "metadata": {},
   "outputs": [],
   "source": [
    "autocomplete([\"000\",\"1110\",\"01\",\"001\",\"110\",\"11\"])"
   ]
  },
  {
   "cell_type": "code",
   "execution_count": null,
   "metadata": {},
   "outputs": [],
   "source": [
    "import math\n",
    "print(math.ceil(2.01))"
   ]
  },
  {
   "cell_type": "code",
   "execution_count": null,
   "metadata": {},
   "outputs": [],
   "source": [
    "import math\n",
    "def minimumDivisor(arr, threshold):\n",
    "    # Write your code here\n",
    "    i=0\n",
    "    newarr=arr\n",
    "    if sum(arr)<=threshold:\n",
    "        return 1\n",
    "    else:\n",
    "        while(sum(newarr)>threshold):\n",
    "            i+=1\n",
    "            newarr=[math.ceil(x/i) for x in arr]\n",
    "        return i"
   ]
  },
  {
   "cell_type": "code",
   "execution_count": null,
   "metadata": {},
   "outputs": [],
   "source": [
    "minimumDivisor([2,4,5],10)"
   ]
  },
  {
   "cell_type": "code",
   "execution_count": 32,
   "metadata": {},
   "outputs": [],
   "source": [
    "def consecutive(num):\n",
    "    # Write your code here\n",
    "    numlist=[]\n",
    "    finish=[]\n",
    "    i=0\n",
    "    while(i<=num):\n",
    "        if(sum(numlist)==num):\n",
    "            finish.append(numlist)\n",
    "            print(numlist,finish)\n",
    "            numlist=[i]\n",
    "        else:\n",
    "            i+=1\n",
    "            numlist.append(i)\n",
    "            print(numlist)\n",
    "            "
   ]
  },
  {
   "cell_type": "code",
   "execution_count": 33,
   "metadata": {},
   "outputs": [
    {
     "name": "stdout",
     "output_type": "stream",
     "text": [
      "[1]\n",
      "[1, 2]\n",
      "[1, 2, 3]\n",
      "[1, 2, 3, 4]\n",
      "[1, 2, 3, 4, 5]\n",
      "[1, 2, 3, 4, 5, 6]\n",
      "[1, 2, 3, 4, 5, 6] [[1, 2, 3, 4, 5, 6]]\n",
      "[6, 7]\n",
      "[6, 7, 8]\n",
      "[6, 7, 8] [[1, 2, 3, 4, 5, 6], [6, 7, 8]]\n",
      "[8, 9]\n",
      "[8, 9, 10]\n",
      "[8, 9, 10, 11]\n",
      "[8, 9, 10, 11, 12]\n",
      "[8, 9, 10, 11, 12, 13]\n",
      "[8, 9, 10, 11, 12, 13, 14]\n",
      "[8, 9, 10, 11, 12, 13, 14, 15]\n",
      "[8, 9, 10, 11, 12, 13, 14, 15, 16]\n",
      "[8, 9, 10, 11, 12, 13, 14, 15, 16, 17]\n",
      "[8, 9, 10, 11, 12, 13, 14, 15, 16, 17, 18]\n",
      "[8, 9, 10, 11, 12, 13, 14, 15, 16, 17, 18, 19]\n",
      "[8, 9, 10, 11, 12, 13, 14, 15, 16, 17, 18, 19, 20]\n",
      "[8, 9, 10, 11, 12, 13, 14, 15, 16, 17, 18, 19, 20, 21]\n",
      "[8, 9, 10, 11, 12, 13, 14, 15, 16, 17, 18, 19, 20, 21, 22]\n"
     ]
    }
   ],
   "source": [
    "consecutive(21)"
   ]
  },
  {
   "cell_type": "code",
   "execution_count": null,
   "metadata": {},
   "outputs": [],
   "source": [
    "a=5\n",
    "b=8\n",
    "c=2\n"
   ]
  },
  {
   "cell_type": "code",
   "execution_count": null,
   "metadata": {},
   "outputs": [],
   "source": [
    "a+=1\n",
    "print(a)"
   ]
  },
  {
   "cell_type": "code",
   "execution_count": null,
   "metadata": {},
   "outputs": [],
   "source": [
    "mastri=\"GEEKSFORGEEKS\"\n",
    "mylist=list(mastri)\n",
    "print(mylist)\n",
    "for stri in [mastri[j:i+j] for i in range(1,len(mastri)+1) for j in range(len(mastri)) if(len(mastri[j:i+j]))==i]:\n",
    "    print(stri)"
   ]
  },
  {
   "cell_type": "code",
   "execution_count": 1,
   "metadata": {},
   "outputs": [
    {
     "name": "stdout",
     "output_type": "stream",
     "text": [
      "['A', 'B', 'A', 'B', 'ABA', 'BAB', 'ABAB']\n"
     ]
    }
   ],
   "source": [
    "from itertools import permutations\n",
    "S=\"ABAB\"\n",
    "permlist=[S[j:i+j] for i in range(1,len(S)+1) for j in range(len(S)) if((len(S[j:i+j]))==i and S[j:i+j]==S[j:i+j][::-1])]\n",
    "if not(all(list(map(lambda x:len(x)==1,permlist)))):\n",
    "    permlist.append(S)\n",
    "print(permlist)"
   ]
  },
  {
   "cell_type": "code",
   "execution_count": null,
   "metadata": {},
   "outputs": [],
   "source": [
    "string='12345'\n",
    "print(type(int(string)))"
   ]
  },
  {
   "cell_type": "code",
   "execution_count": null,
   "metadata": {},
   "outputs": [],
   "source": [
    "from itertools import permutations\n",
    "n=2\n",
    "permlist=[\"ae\"]\n",
    "newlist=[]\n",
    "newpermlist=[]\n",
    "for mystri in permlist:\n",
    "    temp=list(mystri)\n",
    "    print(temp)\n",
    "    count=len(temp)\n",
    "    while(temp):\n",
    "        print(temp)\n",
    "        if(temp[0]==\"a\" and temp[1]==\"e\")\n",
    "            newlist.append(temp.pop(0))\n",
    "            print(temp)\n",
    "        if(len(temp)!=1):\n",
    "            if(temp[0]==\"e\" and temp[1]==\"a\") or (temp[0]==\"e\" and temp[1]==\"i\"):\n",
    "                newlist.append(temp.pop(0))\n",
    "            print(temp)\n",
    "        if((temp[0]==\"e\" and temp[1]!=\"i\") and len(temp)!=1):\n",
    "            newlist.append(temp.pop(0))\n",
    "print(\"\".join(newlist))\n",
    "        \n",
    "        "
   ]
  },
  {
   "cell_type": "code",
   "execution_count": 32,
   "metadata": {},
   "outputs": [
    {
     "name": "stdout",
     "output_type": "stream",
     "text": [
      "[('6', '1'), ('1', '6')]\n",
      "[16]\n"
     ]
    }
   ],
   "source": [
    "from itertools import permutations\n",
    "S=\"61\"\n",
    "print(list(permutations(S)))\n",
    "numlist=list(filter(lambda x:x%8==0,list(int(\"\".join(stri)) for stri in list(permutations(S)))))\n",
    "print(numlist)\n"
   ]
  },
  {
   "cell_type": "code",
   "execution_count": null,
   "metadata": {},
   "outputs": [],
   "source": [
    "from itertools import permutations\n",
    "def checkDivisibility(arr):\n",
    "    mylist=[]\n",
    "    # Write your code here\n",
    "    for mystring in arr:\n",
    "        print(mystring)\n",
    "        numlist=list(filter(lambda x:x%8==0,list(int(\"\".join(stri)) for stri in list(permutations(mystring)))))\n",
    "        mylist.append(len(numlist)>0)\n",
    "    print(mylist)"
   ]
  },
  {
   "cell_type": "code",
   "execution_count": null,
   "metadata": {},
   "outputs": [],
   "source": [
    "arr=[\"16\",\"75\"]\n",
    "checkDivisibility(arr)\n"
   ]
  },
  {
   "cell_type": "code",
   "execution_count": 1,
   "metadata": {},
   "outputs": [
    {
     "name": "stdout",
     "output_type": "stream",
     "text": [
      "150\n"
     ]
    }
   ],
   "source": [
    "from itertools import product\n",
    "list2=[[1,1,1,1,1,1],[1,1,1,1,1],[1,1,1,1,1]]\n",
    "perm=[i for i in list(product(*list2))]\n",
    "print(len(perm))"
   ]
  },
  {
   "cell_type": "code",
   "execution_count": null,
   "metadata": {},
   "outputs": [],
   "source": [
    "from itertools import combinations\n",
    "def countDiceSequences(N, rollMax):\n",
    "    # Write your code here\n",
    "    finlist=[]\n",
    "    templist=[]\n",
    "    for i in range(1,7):\n",
    "        while(rollMax[i-1]!=0):\n",
    "            templist.append(i)\n",
    "            rollMax[i-1]-=1\n",
    "        print(finlist,templist)\n",
    "    finlist.extend(templist)\n",
    "    templist=[]\n",
    "    print(finlist)\n",
    "    permli=[i for i in list(product(finlist,repeat=2))]\n",
    "    print(permli,len(permli))\n",
    "    \n"
   ]
  },
  {
   "cell_type": "code",
   "execution_count": null,
   "metadata": {},
   "outputs": [],
   "source": [
    "countDiceSequences(2,[1,2,1,2,1,2])"
   ]
  },
  {
   "cell_type": "code",
   "execution_count": null,
   "metadata": {},
   "outputs": [],
   "source": []
  },
  {
   "cell_type": "code",
   "execution_count": null,
   "metadata": {},
   "outputs": [],
   "source": [
    "ord(\"A\")"
   ]
  },
  {
   "cell_type": "code",
   "execution_count": null,
   "metadata": {},
   "outputs": [],
   "source": [
    "for i in range(65,91):\n",
    "    print(i,chr(i),chr(i+15-12))"
   ]
  },
  {
   "cell_type": "code",
   "execution_count": 1,
   "metadata": {},
   "outputs": [],
   "source": [
    "def simpleCipher(encrypted, k):\n",
    "    # Write your code here\n",
    "    mylist=[]\n",
    "    reqlist=list(map(lambda x:ord(x),list(encrypted)))\n",
    "    for i in reqlist :\n",
    "            mylist.append((i+k-65)%26+65)\n",
    "    return \"\".join(list(map(lambda x:chr(x),mylist)))\n"
   ]
  },
  {
   "cell_type": "code",
   "execution_count": 2,
   "metadata": {},
   "outputs": [
    {
     "data": {
      "text/plain": [
       "'HSJSBG'"
      ]
     },
     "execution_count": 2,
     "metadata": {},
     "output_type": "execute_result"
    }
   ],
   "source": [
    "simpleCipher(\"VGXGPU\",12)"
   ]
  },
  {
   "cell_type": "code",
   "execution_count": null,
   "metadata": {},
   "outputs": [],
   "source": [
    "pow(2,3)"
   ]
  },
  {
   "cell_type": "code",
   "execution_count": 2,
   "metadata": {},
   "outputs": [
    {
     "data": {
      "text/plain": [
       "0.16666666666666666"
      ]
     },
     "execution_count": 2,
     "metadata": {},
     "output_type": "execute_result"
    }
   ],
   "source": [
    "from functools import reduce\n",
    "reduce(lambda x,y:x/y,[1,2,3])"
   ]
  },
  {
   "cell_type": "code",
   "execution_count": null,
   "metadata": {},
   "outputs": [],
   "source": [
    "num=12345\n",
    "num+int(str(num)[::-1])"
   ]
  },
  {
   "cell_type": "code",
   "execution_count": 30,
   "metadata": {},
   "outputs": [],
   "source": [
    "def isvowel(ch): \n",
    "    if ch == 'a' or ch == 'e' or ch == 'i' or ch == 'o' or ch=='u': \n",
    "        return 1\n",
    "    return 0\n"
   ]
  },
  {
   "cell_type": "code",
   "execution_count": 31,
   "metadata": {},
   "outputs": [
    {
     "name": "stdout",
     "output_type": "stream",
     "text": [
      "g\n",
      "eve r 0 r ['r']\n",
      "    e 1 e ['r', 'e']\n",
      "eve a 1 e ['r', 'e']\n",
      "    t 0 t ['r', 'e', 't']\n",
      "eve n 0 t ['r', 'e', 't']\n",
      "    e 1 e ['r', 'e', 't', 'e']\n",
      "    s 0 s ['r', 'e', 't', 'e', 's']\n",
      "eve s 0 s ['r', 'e', 't', 'e', 's']\n",
      "retes\n"
     ]
    }
   ],
   "source": [
    "s =\"greatness\" \n",
    "flag = 0\n",
    "if isvowel(s[0]): \n",
    "    flag = 1\n",
    "result = [s[0]] \n",
    "for i in s[1:]: \n",
    "    if isvowel(i) == flag: \n",
    "        if ord(i)>ord(result[-1]): \n",
    "            print(result[-1])\n",
    "            result[-1] = i \n",
    "        print(\"eve\",i,flag,result[-1],result)\n",
    "    else: \n",
    "        result.append(i) \n",
    "        flag = (flag +1)%2\n",
    "        print(\"   \",i,flag,result[-1],result)\n",
    "print(\"\".join(result))"
   ]
  },
  {
   "cell_type": "code",
   "execution_count": 2,
   "metadata": {},
   "outputs": [
    {
     "name": "stdout",
     "output_type": "stream",
     "text": [
      "['one', 'two', 'three', 'four', 'five', 'six', 'seven', 'eight', 'nine']\n",
      "['two', 'three', 'four', 'five', 'six', 'seven', 'eight', 'nine']\n",
      "['three', 'four', 'five', 'six', 'seven', 'eight', 'nine']\n",
      "['four', 'five', 'six', 'seven', 'eight', 'nine']\n",
      "['five', 'six', 'seven', 'eight', 'nine']\n",
      "['six', 'seven', 'eight', 'nine']\n",
      "['seven', 'eight', 'nine']\n",
      "['eight', 'nine']\n",
      "['nine']\n",
      "[]\n",
      "[]\n"
     ]
    }
   ],
   "source": [
    "numlist=[\"zero\",\"one\",\"two\",\"three\",\"four\",\"five\",\"six\",\"seven\",\"eight\",\"nine\"]\n",
    "for i in range(len(numlist)):\n",
    "    numlist=numlist[1:]\n",
    "    print(numlist)\n",
    "print(numlist)"
   ]
  },
  {
   "cell_type": "code",
   "execution_count": null,
   "metadata": {},
   "outputs": [],
   "source": [
    "\n",
    "# Python3 program to check if string \n",
    "# str1 is subof str2 or not. \n",
    "  \n",
    "# Function two check A \n",
    "# is shuffled subof B \n",
    "# or not \n",
    "def isShuffledSubstring(A, B): \n",
    "    n = len(A) \n",
    "    m = len(B) \n",
    "  \n",
    "    # Return false if length of \n",
    "    # A is greater than \n",
    "    # length of B \n",
    "    if (n > m): \n",
    "        return False\n",
    "    else: \n",
    "  \n",
    "        # Sort A \n",
    "        A = sorted(A) \n",
    "  \n",
    "        # Traverse B \n",
    "        for i in range(m): \n",
    "  \n",
    "            # Return false if (i+n-1 >= m) \n",
    "            # doesn't satisfy \n",
    "            if (i + n - 1 >= m): \n",
    "                return False\n",
    "  \n",
    "            # Intialise the new string \n",
    "            Str = \"\" \n",
    "  \n",
    "            # Copy the characters of \n",
    "            # B in str till \n",
    "            # length n \n",
    "            for j in range(n): \n",
    "                Str += (B[i + j]) \n",
    "                print(Str,B[i+j],B[:j])\n",
    "  \n",
    "            # Sort the str \n",
    "            Str = sorted(Str) \n",
    "  \n",
    "            # Return true if sorted \n",
    "            # of \"str\" & sorted \n",
    "            # of \"A\" are equal \n",
    "            if (Str == A): \n",
    "                return True\n",
    "  \n",
    "      \n",
    "  "
   ]
  },
  {
   "cell_type": "code",
   "execution_count": null,
   "metadata": {},
   "outputs": [],
   "source": [
    "  # Input str1 and str2 \n",
    "    A = \"geekforgeeks\"\n",
    "    B = \"ekgeorfkeescgeekg\"\n",
    "  \n",
    "    # Function return true if \n",
    "    # str1 is shuffled substring \n",
    "    # of str2 \n",
    "    a = isShuffledSubstring(A, B) \n",
    "  \n",
    "    # If str1 is subof str2 \n",
    "    # print \"YES\" else print \"NO\" \n",
    "    if (a): \n",
    "        print(\"YES\") \n",
    "    else: \n",
    "        print(\"NO\")"
   ]
  },
  {
   "cell_type": "code",
   "execution_count": 3,
   "metadata": {},
   "outputs": [
    {
     "data": {
      "text/plain": [
       "'namazo'"
      ]
     },
     "execution_count": 3,
     "metadata": {},
     "output_type": "execute_result"
    }
   ],
   "source": [
    "string=\"amazon\"\n",
    "d=1\n",
    "n=len(string)\n",
    "string[n-d:]+string[:n-d]"
   ]
  },
  {
   "cell_type": "code",
   "execution_count": null,
   "metadata": {},
   "outputs": [],
   "source": [
    "i=0\n",
    "    while(i<len(line)):\n",
    "        if line[i].isaplha():\n",
    "            if i%2==0:\n",
    "                newstring+=line[i].upper()\n",
    "                i+=1\n",
    "            else:\n",
    "                newstring+=line[i].islower()\n",
    "                i+=1\n",
    "        else:\n",
    "            newstring+=line[i]\n",
    "            continue"
   ]
  },
  {
   "cell_type": "code",
   "execution_count": 4,
   "metadata": {},
   "outputs": [
    {
     "name": "stdout",
     "output_type": "stream",
     "text": [
      "We ArE ThE WoRlD\n"
     ]
    }
   ],
   "source": [
    "mystring=\"we are the world\"\n",
    "newlist=mystring.split()\n",
    "seclist=[]\n",
    "ansubstring=\"\"\n",
    "for substring in newlist:\n",
    "    for i,let in enumerate(substring):\n",
    "        if i%2==0:\n",
    "            ansubstring+=let.upper()\n",
    "        else:\n",
    "            ansubstring+=let.lower()\n",
    "    seclist.append(ansubstring)\n",
    "    ansubstring=\"\"\n",
    "print(\" \".join(seclist))"
   ]
  },
  {
   "cell_type": "code",
   "execution_count": 28,
   "metadata": {},
   "outputs": [
    {
     "data": {
      "text/plain": [
       "[2, 3, 3, 6, 6, 5, 5, 5, 1, 1, 1, 1]"
      ]
     },
     "execution_count": 28,
     "metadata": {},
     "output_type": "execute_result"
    }
   ],
   "source": [
    "mylist=[5,5,5,2,3,3,6,6,1,1,1,1]\n",
    "sorted(mylist,key=lambda x:(mylist.count(x),x))"
   ]
  },
  {
   "cell_type": "code",
   "execution_count": 7,
   "metadata": {},
   "outputs": [
    {
     "name": "stdout",
     "output_type": "stream",
     "text": [
      "w 5\n",
      "c 4\n",
      "x 4\n",
      "e 3\n",
      "a 2\n",
      "b 2\n",
      "l 2\n",
      "d 1\n",
      "f 1\n"
     ]
    }
   ],
   "source": [
    "from collections import Counter\n",
    "namedict=dict(Counter(\"llaabbccccdeeefxxxxwwwww\"))\n",
    "sortdict=dict(sorted(namedict.items(),key=lambda x:(-x[1],x[0])))\n",
    "sortlist=list(sortdict.items())\n",
    "for key,value in sortlist:\n",
    "    print(key,value)"
   ]
  },
  {
   "cell_type": "code",
   "execution_count": 10,
   "metadata": {},
   "outputs": [
    {
     "name": "stdout",
     "output_type": "stream",
     "text": [
      "Given array is\n",
      "12 11 13 5 6 7\n",
      "[] [11] [13]\n",
      "left [11] [] [13]\n",
      "total [11] [] [13]\n",
      "[11, 13]\n",
      "[] [12] [11, 13]\n",
      "right [11] [12] [13]\n",
      "total [11] [12] [13]\n",
      "left [11, 12] [] [13]\n",
      "total [11, 12] [] [13]\n",
      "[11, 12, 13]\n",
      "[] [6] [7]\n",
      "left [6] [] [7]\n",
      "total [6] [] [7]\n",
      "[6, 7]\n",
      "[] [5] [6, 7]\n",
      "left [5] [] [6, 7]\n",
      "total [5] [] [6, 7]\n",
      "[5, 6, 7]\n",
      "[] [11, 12, 13] [5, 6, 7]\n",
      "right [5] [11, 12, 13] [6, 7]\n",
      "total [5] [11, 12, 13] [6, 7]\n",
      "right [5, 6] [11, 12, 13] [7]\n",
      "total [5, 6] [11, 12, 13] [7]\n",
      "right [5, 6, 7] [11, 12, 13] []\n",
      "total [5, 6, 7] [11, 12, 13] []\n",
      "[5, 6, 7, 11, 12, 13]\n",
      "Sorted array is : \n",
      "5 6 7 11 12 13\n"
     ]
    }
   ],
   "source": [
    "def merge_sort(values): \n",
    "\n",
    "    if len(values)>1: \n",
    "        m = len(values)//2\n",
    "        left = values[:m] \n",
    "        right = values[m:] \n",
    "        left = merge_sort(left) \n",
    "        right = merge_sort(right) \n",
    "\n",
    "        values =[] \n",
    "        print(values,left,right)\n",
    "        while len(left)>0 and len(right)>0: \n",
    "            if left[0]<right[0]: \n",
    "                values.append(left[0]) \n",
    "                left.pop(0) \n",
    "                print(\"left\",values,left,right)\n",
    "            else: \n",
    "                values.append(right[0]) \n",
    "                right.pop(0)\n",
    "                print(\"right\",values,left,right)\n",
    "            print(\"total\",values,left,right)\n",
    "        for i in left: \n",
    "            values.append(i) \n",
    "        for i in right: \n",
    "            values.append(i) \n",
    "        print(values)\n",
    "    return values \n",
    "\n",
    "# Input list \n",
    "a = [12, 11, 13, 5, 6, 7] \n",
    "print(\"Given array is\") \n",
    "print(*a) \n",
    "\n",
    "a = merge_sort(a) \n",
    "\n",
    "# Print output \n",
    "print(\"Sorted array is : \") \n",
    "print(*a) "
   ]
  },
  {
   "cell_type": "code",
   "execution_count": 6,
   "metadata": {},
   "outputs": [
    {
     "name": "stdout",
     "output_type": "stream",
     "text": [
      "0 9\n",
      "1 8\n",
      "2 7\n",
      "3 6\n",
      "4 5\n",
      "5 4\n",
      "6 3\n",
      "7 2\n",
      "8 1\n",
      "9 0\n"
     ]
    }
   ],
   "source": [
    "for i in range(10):\n",
    "    print(i,(int(chr(105-ord(str(i))))))"
   ]
  },
  {
   "cell_type": "code",
   "execution_count": null,
   "metadata": {},
   "outputs": [],
   "source": []
  }
 ],
 "metadata": {
  "kernelspec": {
   "display_name": "Python 3",
   "language": "python",
   "name": "python3"
  },
  "language_info": {
   "codemirror_mode": {
    "name": "ipython",
    "version": 3
   },
   "file_extension": ".py",
   "mimetype": "text/x-python",
   "name": "python",
   "nbconvert_exporter": "python",
   "pygments_lexer": "ipython3",
   "version": "3.8.5"
  }
 },
 "nbformat": 4,
 "nbformat_minor": 4
}
