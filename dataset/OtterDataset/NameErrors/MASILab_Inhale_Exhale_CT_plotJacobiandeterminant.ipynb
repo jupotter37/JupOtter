{
 "cells": [
  {
   "cell_type": "code",
   "execution_count": 1,
   "metadata": {},
   "outputs": [],
   "source": [
    "import nibabel as nib \n",
    "import matplotlib.pyplot as plt \n",
    "import numpy as np\n",
    "import os\n",
    "from tqdm import tqdm\n",
    "import seaborn as sns\n",
    "import pandas as pd"
   ]
  },
  {
   "cell_type": "code",
   "execution_count": 2,
   "metadata": {},
   "outputs": [
    {
     "name": "stderr",
     "output_type": "stream",
     "text": [
      "  0%|          | 0/30 [00:00<?, ?it/s]"
     ]
    },
    {
     "name": "stdout",
     "output_type": "stream",
     "text": [
      "Case: masked_COPDGene_A43240_STANDARD\n"
     ]
    },
    {
     "name": "stderr",
     "output_type": "stream",
     "text": [
      "  3%|▎         | 1/30 [00:07<03:47,  7.84s/it]"
     ]
    },
    {
     "name": "stdout",
     "output_type": "stream",
     "text": [
      "Control: masked_COPDGene_A61757_STANDARD_control\n"
     ]
    },
    {
     "name": "stderr",
     "output_type": "stream",
     "text": [
      "  7%|▋         | 2/30 [00:21<04:28,  9.58s/it]"
     ]
    },
    {
     "name": "stdout",
     "output_type": "stream",
     "text": [
      "Case: masked_COPDGene_B05639_STANDARD\n"
     ]
    },
    {
     "name": "stderr",
     "output_type": "stream",
     "text": [
      " 10%|█         | 3/30 [00:49<06:48, 15.12s/it]"
     ]
    },
    {
     "name": "stdout",
     "output_type": "stream",
     "text": [
      "Case: masked_COPDGene_B14644_STANDARD\n"
     ]
    },
    {
     "name": "stderr",
     "output_type": "stream",
     "text": [
      " 13%|█▎        | 4/30 [01:15<07:55, 18.31s/it]"
     ]
    },
    {
     "name": "stdout",
     "output_type": "stream",
     "text": [
      "Control: masked_COPDGene_B15777_STANDARD_control\n"
     ]
    },
    {
     "name": "stderr",
     "output_type": "stream",
     "text": [
      " 17%|█▋        | 5/30 [01:23<06:22, 15.31s/it]"
     ]
    },
    {
     "name": "stdout",
     "output_type": "stream",
     "text": [
      "Control: masked_COPDGene_B17236_STANDARD_control\n"
     ]
    },
    {
     "name": "stderr",
     "output_type": "stream",
     "text": [
      " 20%|██        | 6/30 [01:32<05:19, 13.33s/it]"
     ]
    },
    {
     "name": "stdout",
     "output_type": "stream",
     "text": [
      "Control: masked_COPDGene_B17317_STANDARD_control\n"
     ]
    },
    {
     "name": "stderr",
     "output_type": "stream",
     "text": [
      " 23%|██▎       | 7/30 [01:59<06:39, 17.39s/it]"
     ]
    },
    {
     "name": "stdout",
     "output_type": "stream",
     "text": [
      "Control: masked_COPDGene_B72303_STANDARD_control\n"
     ]
    },
    {
     "name": "stderr",
     "output_type": "stream",
     "text": [
      " 27%|██▋       | 8/30 [02:26<07:31, 20.52s/it]"
     ]
    },
    {
     "name": "stdout",
     "output_type": "stream",
     "text": [
      "Case: masked_COPDGene_B86334_STANDARD\n"
     ]
    },
    {
     "name": "stderr",
     "output_type": "stream",
     "text": [
      " 30%|███       | 9/30 [02:52<07:44, 22.10s/it]"
     ]
    },
    {
     "name": "stdout",
     "output_type": "stream",
     "text": [
      "Control: masked_COPDGene_C05262_STANDARD_control\n"
     ]
    },
    {
     "name": "stderr",
     "output_type": "stream",
     "text": [
      " 33%|███▎      | 10/30 [03:10<06:57, 20.86s/it]"
     ]
    },
    {
     "name": "stdout",
     "output_type": "stream",
     "text": [
      "Control: masked_COPDGene_C19536_STANDARD_control\n"
     ]
    },
    {
     "name": "stderr",
     "output_type": "stream",
     "text": [
      " 37%|███▋      | 11/30 [03:27<06:12, 19.61s/it]"
     ]
    },
    {
     "name": "stdout",
     "output_type": "stream",
     "text": [
      "Control: masked_COPDGene_C40785_STANDARD_control\n"
     ]
    },
    {
     "name": "stderr",
     "output_type": "stream",
     "text": [
      " 40%|████      | 12/30 [03:50<06:14, 20.79s/it]"
     ]
    },
    {
     "name": "stdout",
     "output_type": "stream",
     "text": [
      "Control: masked_COPDGene_C53764_STANDARD_control\n"
     ]
    },
    {
     "name": "stderr",
     "output_type": "stream",
     "text": [
      " 43%|████▎     | 13/30 [04:18<06:30, 22.96s/it]"
     ]
    },
    {
     "name": "stdout",
     "output_type": "stream",
     "text": [
      "Control: masked_COPDGene_C64141_STANDARD_control\n"
     ]
    },
    {
     "name": "stderr",
     "output_type": "stream",
     "text": [
      " 47%|████▋     | 14/30 [04:41<06:04, 22.78s/it]"
     ]
    },
    {
     "name": "stdout",
     "output_type": "stream",
     "text": [
      "Control: masked_COPDGene_C64303_STANDARD_control\n"
     ]
    },
    {
     "name": "stderr",
     "output_type": "stream",
     "text": [
      " 50%|█████     | 15/30 [05:03<05:40, 22.69s/it]"
     ]
    },
    {
     "name": "stdout",
     "output_type": "stream",
     "text": [
      "Case: masked_COPDGene_C64585_STANDARD\n"
     ]
    },
    {
     "name": "stderr",
     "output_type": "stream",
     "text": [
      " 53%|█████▎    | 16/30 [05:31<05:38, 24.16s/it]"
     ]
    },
    {
     "name": "stdout",
     "output_type": "stream",
     "text": [
      "Control: masked_COPDGene_C73437_STANDARD_control\n"
     ]
    },
    {
     "name": "stderr",
     "output_type": "stream",
     "text": [
      " 57%|█████▋    | 17/30 [05:55<05:12, 24.01s/it]"
     ]
    },
    {
     "name": "stdout",
     "output_type": "stream",
     "text": [
      "Control: masked_COPDGene_D32260_STANDARD_control\n"
     ]
    },
    {
     "name": "stderr",
     "output_type": "stream",
     "text": [
      " 60%|██████    | 18/30 [06:21<04:57, 24.79s/it]"
     ]
    },
    {
     "name": "stdout",
     "output_type": "stream",
     "text": [
      "Case: masked_COPDGene_D36309_STANDARD\n"
     ]
    },
    {
     "name": "stderr",
     "output_type": "stream",
     "text": [
      " 63%|██████▎   | 19/30 [06:40<04:12, 22.98s/it]"
     ]
    },
    {
     "name": "stdout",
     "output_type": "stream",
     "text": [
      "Control: masked_COPDGene_D41724_STANDARD_control\n"
     ]
    },
    {
     "name": "stderr",
     "output_type": "stream",
     "text": [
      " 67%|██████▋   | 20/30 [07:06<03:59, 23.95s/it]"
     ]
    },
    {
     "name": "stdout",
     "output_type": "stream",
     "text": [
      "Case: masked_COPDGene_D48362_STANDARD\n"
     ]
    },
    {
     "name": "stderr",
     "output_type": "stream",
     "text": [
      " 70%|███████   | 21/30 [07:33<03:42, 24.70s/it]"
     ]
    },
    {
     "name": "stdout",
     "output_type": "stream",
     "text": [
      "Case: masked_COPDGene_D70993_STANDARD\n"
     ]
    },
    {
     "name": "stderr",
     "output_type": "stream",
     "text": [
      " 73%|███████▎  | 22/30 [08:00<03:25, 25.63s/it]"
     ]
    },
    {
     "name": "stdout",
     "output_type": "stream",
     "text": [
      "Control: masked_COPDGene_D80990_STANDARD_control\n"
     ]
    },
    {
     "name": "stderr",
     "output_type": "stream",
     "text": [
      " 77%|███████▋  | 23/30 [08:24<02:55, 25.01s/it]"
     ]
    },
    {
     "name": "stdout",
     "output_type": "stream",
     "text": [
      "Case: masked_COPDGene_D90444_STANDARD\n"
     ]
    },
    {
     "name": "stderr",
     "output_type": "stream",
     "text": [
      " 80%|████████  | 24/30 [08:47<02:26, 24.44s/it]"
     ]
    },
    {
     "name": "stdout",
     "output_type": "stream",
     "text": [
      "Case: masked_COPDGene_E59904_STANDARD\n"
     ]
    },
    {
     "name": "stderr",
     "output_type": "stream",
     "text": [
      " 83%|████████▎ | 25/30 [09:17<02:10, 26.08s/it]"
     ]
    },
    {
     "name": "stdout",
     "output_type": "stream",
     "text": [
      "Case: masked_COPDGene_E69868_STANDARD\n"
     ]
    },
    {
     "name": "stderr",
     "output_type": "stream",
     "text": [
      " 87%|████████▋ | 26/30 [09:38<01:38, 24.61s/it]"
     ]
    },
    {
     "name": "stdout",
     "output_type": "stream",
     "text": [
      "Control: masked_COPDGene_E73754_STANDARD_control\n"
     ]
    },
    {
     "name": "stderr",
     "output_type": "stream",
     "text": [
      " 90%|█████████ | 27/30 [10:03<01:14, 24.76s/it]"
     ]
    },
    {
     "name": "stdout",
     "output_type": "stream",
     "text": [
      "Case: masked_COPDGene_F02607_STANDARD\n"
     ]
    },
    {
     "name": "stderr",
     "output_type": "stream",
     "text": [
      " 93%|█████████▎| 28/30 [10:25<00:47, 23.81s/it]"
     ]
    },
    {
     "name": "stdout",
     "output_type": "stream",
     "text": [
      "Case: masked_COPDGene_F32094_STANDARD\n"
     ]
    },
    {
     "name": "stderr",
     "output_type": "stream",
     "text": [
      " 97%|█████████▋| 29/30 [10:54<00:25, 25.32s/it]"
     ]
    },
    {
     "name": "stdout",
     "output_type": "stream",
     "text": [
      "Control: masked_COPDGene_F56917_STANDARD_control\n"
     ]
    },
    {
     "name": "stderr",
     "output_type": "stream",
     "text": [
      "100%|██████████| 30/30 [11:20<00:00, 25.53s/it]\n"
     ]
    }
   ],
   "source": [
    "non_harmonized = \"/nfs/masi/krishar1/SPIE_2025_InhaleExhaleCT/data_split/registration_ANTS_command_line/nonharm_ANTS_outputs_exptoinsp_large_images\"\n",
    "\n",
    "files = sorted(os.listdir(non_harmonized))\n",
    "\n",
    "cases_unharm = []\n",
    "controls_unharm = []\n",
    "\n",
    "cases_files_unharm = []\n",
    "\n",
    "for file in tqdm(files):\n",
    "    if file.endswith(\"_control\"):\n",
    "        print(\"Control:\", file)\n",
    "        control = nib.load(os.path.join(non_harmonized, file, \"jacobian_det.nii.gz\")).get_fdata()\n",
    "        controls_unharm.append(control.flatten())\n",
    "    else:\n",
    "        #Add only 20 cases and keep a track of the name of the files\n",
    "        print(\"Case:\",file)\n",
    "        case = nib.load(os.path.join(non_harmonized, file, \"jacobian_det.nii.gz\")).get_fdata()\n",
    "        cases_unharm.append(case.flatten())"
   ]
  },
  {
   "cell_type": "code",
   "execution_count": 4,
   "metadata": {},
   "outputs": [
    {
     "data": {
      "image/png": "[encoded data removed]",
      "text/plain": [
       "<Figure size 1000x1000 with 1 Axes>"
      ]
     },
     "metadata": {},
     "output_type": "display_data"
    }
   ],
   "source": [
    "#normalize the histograms \n",
    "def normalize_histogram(faltten, num_bins):\n",
    "    hist, bin_edges = np.histogram(faltten, bins=num_bins)\n",
    "    normalized_hist = hist/np.sum(hist)\n",
    "    return normalized_hist, bin_edges\n",
    "\n",
    "histograms_cases_unharm = []\n",
    "histograms_controls_unharm = []\n",
    "num_bins = 50 \n",
    "\n",
    "for case, control in zip(cases_unharm, controls_unharm):\n",
    "    normalized_hist_case_unharm, bin_edges_case_unharm = normalize_histogram(case.flatten(), num_bins)\n",
    "    normalized_hist_control_unharm, bin_edges_control_unharm = normalize_histogram(control.flatten(), num_bins)\n",
    "    histograms_cases_unharm.append(normalized_hist_case_unharm)\n",
    "    histograms_controls_unharm.append(normalized_hist_control_unharm)\n",
    "\n",
    "avg_hist_case_unharm = np.mean(histograms_cases_unharm, axis=0)\n",
    "avg_hist_control_unharm = np.mean(histograms_controls_unharm, axis=0)\n",
    "\n",
    "plt.figure(figsize=(10, 10), facecolor='w')\n",
    "# kde for this normalized histogram\n",
    "plt.bar(bin_edges_case_unharm[:-1], avg_hist_case_unharm, width=np.diff(bin_edges_case_unharm), color='blue', edgecolor='black', label='COPD_Case', alpha = 0.5)\n",
    "plt.bar(bin_edges_control_unharm[:-1], avg_hist_control_unharm, width=np.diff(bin_edges_control_unharm), color='orange', edgecolor='black', label='COPD_Control', alpha = 0.5)\n",
    "plt.xlabel('Jacobian Determinant Value', fontsize = 14)\n",
    "plt.xticks(fontsize = 14)\n",
    "plt.ylabel('Normalized Frequency', fontsize = 14)\n",
    "plt.yticks(fontsize = 14)\n",
    "plt.title('Average Normalized Histogram of COPD Cases vs COPD Controls: Non Harmonized', fontsize = 14)\n",
    "plt.legend()\n",
    "# plt.savefig(\"/nfs/masi/krishar1/SPIE_2025_InhaleExhaleCT/SPIE_paper_figures/quantitative/nonharmonized_jd.tiff\", dpi = 300)\n",
    "plt.show()"
   ]
  },
  {
   "cell_type": "code",
   "execution_count": 1,
   "metadata": {},
   "outputs": [
    {
     "ename": "NameError",
     "evalue": "name 'os' is not defined",
     "output_type": "error",
     "traceback": [
      "\u001b[0;31m---------------------------------------------------------------------------\u001b[0m",
      "\u001b[0;31mNameError\u001b[0m                                 Traceback (most recent call last)",
      "\u001b[0;32m/tmp/ipykernel_823491/1043224371.py\u001b[0m in \u001b[0;36m<module>\u001b[0;34m\u001b[0m\n\u001b[1;32m      1\u001b[0m \u001b[0mnon_harmonized\u001b[0m \u001b[0;34m=\u001b[0m \u001b[0;34m\"/nfs/masi/krishar1/SPIE_2025_InhaleExhaleCT/data_split/registration_ANTS_command_line/harm_ANTS_outputs_exptoinsp_large_images\"\u001b[0m\u001b[0;34m\u001b[0m\u001b[0;34m\u001b[0m\u001b[0m\n\u001b[1;32m      2\u001b[0m \u001b[0;34m\u001b[0m\u001b[0m\n\u001b[0;32m----> 3\u001b[0;31m \u001b[0mfiles\u001b[0m \u001b[0;34m=\u001b[0m \u001b[0msorted\u001b[0m\u001b[0;34m(\u001b[0m\u001b[0mos\u001b[0m\u001b[0;34m.\u001b[0m\u001b[0mlistdir\u001b[0m\u001b[0;34m(\u001b[0m\u001b[0mnon_harmonized\u001b[0m\u001b[0;34m)\u001b[0m\u001b[0;34m)\u001b[0m\u001b[0;34m\u001b[0m\u001b[0;34m\u001b[0m\u001b[0m\n\u001b[0m\u001b[1;32m      4\u001b[0m \u001b[0;34m\u001b[0m\u001b[0m\n\u001b[1;32m      5\u001b[0m \u001b[0mcases\u001b[0m \u001b[0;34m=\u001b[0m \u001b[0;34m[\u001b[0m\u001b[0;34m]\u001b[0m\u001b[0;34m\u001b[0m\u001b[0;34m\u001b[0m\u001b[0m\n",
      "\u001b[0;31mNameError\u001b[0m: name 'os' is not defined"
     ]
    }
   ],
   "source": [
    "non_harmonized = \"/nfs/masi/krishar1/SPIE_2025_InhaleExhaleCT/data_split/registration_ANTS_command_line/harm_ANTS_outputs_exptoinsp_large_images\"\n",
    "\n",
    "files = sorted(os.listdir(non_harmonized))\n",
    "\n",
    "cases = []\n",
    "controls = []\n",
    "\n",
    "for file in tqdm(files):\n",
    "    if file.endswith(\"_control\"):\n",
    "        control = nib.load(os.path.join(non_harmonized, file, \"jacobian_det.nii.gz\")).get_fdata()\n",
    "        controls.append(control.flatten())\n",
    "    else:\n",
    "        case = nib.load(os.path.join(non_harmonized, file, \"jacobian_det.nii.gz\")).get_fdata()\n",
    "        cases.append(case.flatten())"
   ]
  },
  {
   "cell_type": "code",
   "execution_count": null,
   "metadata": {},
   "outputs": [],
   "source": [
    "#normalize the histograms \n",
    "def normalize_histogram(faltten, num_bins):\n",
    "    hist, bin_edges = np.histogram(faltten, bins=num_bins)\n",
    "    normalized_hist = hist/np.sum(hist)\n",
    "    return normalized_hist, bin_edges\n",
    "\n",
    "num_bins = 50\n",
    "histograms_cases = []\n",
    "histograms_controls = []\n",
    "\n",
    "for case, control in zip(cases, controls):\n",
    "    normalized_hist_case, bin_edges_case = normalize_histogram(case.flatten(), num_bins)\n",
    "    normalized_hist_control, bin_edges_control = normalize_histogram(control.flatten(), num_bins)\n",
    "    histograms_cases.append(normalized_hist_case)\n",
    "    histograms_controls.append(normalized_hist_control)\n",
    "\n",
    "avg_hist_case = np.mean(histograms_cases, axis=0)\n",
    "avg_hist_control = np.mean(histograms_controls, axis=0)\n",
    "\n",
    "plt.figure(figsize=(10, 10))\n",
    "#\n",
    "plt.bar(bin_edges_case[:-1], avg_hist_case, width=np.diff(bin_edges_case), color='blue', edgecolor='black', label='COPD_Case', alpha = 0.5)\n",
    "plt.bar(bin_edges_control[:-1], avg_hist_control, width=np.diff(bin_edges_control), color='orange', edgecolor='black', label='COPD_Control', alpha = 0.5)\n",
    "plt.xlabel('Log Jacobian Determinant Value', fontsize = 16)\n",
    "plt.xticks(fontsize = 14)\n",
    "plt.xlim(-1.0, 1.0)\n",
    "plt.ylabel('Normalized Frequency', fontsize = 16)\n",
    "plt.yticks(fontsize = 14)\n",
    "plt.title('Average Normalized Histogram of COPD Cases vs COPD Controls: Harmonized', fontsize = 16)\n",
    "plt.legend()\n",
    "plt.savefig(\"/nfs/masi/krishar1/SPIE_2025_InhaleExhaleCT/SPIE_paper_figures/quantitative/harmonized_jd.tiff\", dpi = 300)\n",
    "plt.show()"
   ]
  },
  {
   "cell_type": "code",
   "execution_count": null,
   "metadata": {},
   "outputs": [],
   "source": []
  },
  {
   "cell_type": "code",
   "execution_count": null,
   "metadata": {},
   "outputs": [],
   "source": []
  }
 ],
 "metadata": {
  "language_info": {
   "name": "python"
  }
 },
 "nbformat": 4,
 "nbformat_minor": 2
}
