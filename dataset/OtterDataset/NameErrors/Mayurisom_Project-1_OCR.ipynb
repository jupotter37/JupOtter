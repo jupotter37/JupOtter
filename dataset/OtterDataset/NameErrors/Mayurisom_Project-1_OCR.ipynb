{
 "cells": [
  {
   "cell_type": "code",
   "execution_count": 1,
   "id": "f5a3a44a",
   "metadata": {},
   "outputs": [],
   "source": [
    "# def get_pan_details(result):\n",
    "#     patter_pan = re.compile(\"[A-Z]{5}\\d{4}[A-Z]{1}\")\n",
    "#     patter_dob = re.compile(\"\\d{1,2}[/]\\d[1,2][/]\\d{2,4}\")\n",
    "    \n",
    "#     pan = patter_pan.search(result).group()\n",
    "#     dob = patter_dob.search(result).group()\n",
    "#     return pan, dob\n",
    "# get_pan_details(result)\n",
    "\n",
    "\n",
    "# patter_pan = re.compile(\"[A-Z]{5}\\d{4}[A-Z]{1}\")\n",
    "# patter_pan.search(result1)\n",
    "# patter_dob = re.compile(\"\\d{1,2}[/]\\d[1,2][/]\\d{2,4}\")\n",
    "# patter_dob.search(result1)\n",
    "# patter_dob = re.compile(\"\\d{1,2}[/]\\d[1,2][/]\\d{2,4}\")\n",
    "# patter_dob.search(result1)\n",
    "# card_holder = re.compile(\"[A-Z]\")\n",
    "# card_holder.search(result1)\n",
    "# card_holder_father_name = re.compile(\"[A-Z]\")\n",
    "# card_holder_father_name.search(result1)\n",
    "\n",
    "\n",
    "\n",
    "\n",
    "# pdf_path = r\"G:\\velocity data\\Raw_data\\Project-1\\pdf\\panr.pdf\"\n",
    "# path = r'C:\\Program Files (x86)\\poppler-23.08.0\\Library\\bin'\n",
    "# text = convert_from_path(pdf_path,poppler_path = path)\n",
    "# text[0]\n",
    "\n",
    "\n",
    "# path = r\"C:\\Users\\Mayuri\\AppData\\Local\\Programs\\Tesseract-OCR\\tesseract.exe\"\n",
    "# pdf_path = r\"G:\\velocity data\\Raw_data\\Project-1\\pdf\\panr.pdf\"\n",
    "# pytesseract.pytesseract.tesseract_cmd = path\n",
    "# text = pytesseract.image_to_string(pdf_path)\n",
    "# print(text)\n",
    "\n",
    "\n",
    "# dict1 = {\"PAN\":[None],\"DOB\" :[None]}\n",
    "# df = pd.DataFrame(dict1)\n",
    "# df[\"PAN\"] = pan\n",
    "# df[\"DOB\"] = dob\n",
    "# df\n",
    "\n",
    "\n",
    "# result2 = re.sub(\"[—|_%y]\",\"\",res)\n",
    "# print(result2)\n",
    "\n",
    "\n",
    "# doc_path = r\"G:\\velocity data\\Raw_data\\Project-1\\doc\"\n",
    "# file_names = os.listdir(doc_path)\n",
    "# file_names"
   ]
  },
  {
   "cell_type": "code",
   "execution_count": 2,
   "id": "edbf75b3",
   "metadata": {},
   "outputs": [],
   "source": [
    "from pdf2image import convert_from_path\n",
    "from PIL import Image\n",
    "import pytesseract\n",
    "import os\n",
    "import re\n",
    "import glob\n",
    "import pandas as pd\n",
    "import pytesseract\n",
    "import pdf2image"
   ]
  },
  {
   "cell_type": "code",
   "execution_count": 3,
   "id": "d967cb41",
   "metadata": {},
   "outputs": [],
   "source": [
    "folder_path = os.listdir(os.getcwd())"
   ]
  },
  {
   "cell_type": "code",
   "execution_count": 4,
   "id": "e5b657e9",
   "metadata": {},
   "outputs": [],
   "source": [
    "folder_path=os.getcwd()"
   ]
  },
  {
   "cell_type": "code",
   "execution_count": 5,
   "id": "5e9f8701",
   "metadata": {},
   "outputs": [],
   "source": [
    "folder_path = os.listdir()"
   ]
  },
  {
   "cell_type": "code",
   "execution_count": 6,
   "id": "abfc51d9",
   "metadata": {},
   "outputs": [
    {
     "ename": "NameError",
     "evalue": "name 'pdf_path' is not defined",
     "output_type": "error",
     "traceback": [
      "\u001b[1;31m---------------------------------------------------------------------------\u001b[0m",
      "\u001b[1;31mNameError\u001b[0m                                 Traceback (most recent call last)",
      "Cell \u001b[1;32mIn[6], line 1\u001b[0m\n\u001b[1;32m----> 1\u001b[0m folder_path \u001b[38;5;241m=\u001b[39m glob\u001b[38;5;241m.\u001b[39mglob(\u001b[43mpdf_path\u001b[49m \u001b[38;5;241m+\u001b[39m \u001b[38;5;124m\"\u001b[39m\u001b[38;5;130;01m\\\\\u001b[39;00m\u001b[38;5;124m\"\u001b[39m \u001b[38;5;241m+\u001b[39m \u001b[38;5;124m\"\u001b[39m\u001b[38;5;124m*.pdf\u001b[39m\u001b[38;5;124m\"\u001b[39m)\n",
      "\u001b[1;31mNameError\u001b[0m: name 'pdf_path' is not defined"
     ]
    }
   ],
   "source": [
    "folder_path = glob.glob(pdf_path + \"\\\\\" + \"*.pdf\")"
   ]
  },
  {
   "cell_type": "code",
   "execution_count": null,
   "id": "32b53d1a",
   "metadata": {},
   "outputs": [],
   "source": [
    "path = r\"C:\\Users\\Mayuri\\AppData\\Local\\Programs\\Tesseract-OCR\\tesseract.exe\"\n",
    "doc_path = r\"G:\\velocity data\\Raw_data\\Project-1\\doc\\adharr\n",
    ".jpeg\"\n",
    "pytesseract.pytesseract.tesseract_cmd = path\n",
    "result1 = pytesseract.image_to_string(doc_path)\n",
    "print(result1)"
   ]
  },
  {
   "cell_type": "code",
   "execution_count": null,
   "id": "b4b49d59",
   "metadata": {},
   "outputs": [],
   "source": []
  },
  {
   "cell_type": "code",
   "execution_count": null,
   "id": "407eae09",
   "metadata": {},
   "outputs": [],
   "source": [
    "def get_pan_details(result1):\n",
    "    patter_pan = re.compile(\"[A-Z]{5}\\d{4}[A-Z]{1}\")\n",
    "    patter_dob = re.compile(\"\\d{1,2}[/]\\d[1,2][/]\\d{2,4}\")\n",
    "    pan_holder = re.compile(\"[A-Z]\")\n",
    "    card_holder_father_name = re.compile(\"[A-Z]\")\n",
    "    \n",
    "    pan = patter_pan.search(result1).group()\n",
    "    dob = patter_dob.search(result1).group()\n",
    "    pan_holder = pan_holder.search(result1).group()\n",
    "    card_holder_father_name =card_holder_father_name.search(result1).group()\n",
    "    \n",
    "    new_text = result1.split(\"\\n\")\n",
    "    for i, line in enumerate(new_text):\n",
    "        if re.findall(\"TAX\",line):\n",
    "            pan_holder = new_text[i+2]\n",
    "            card_holder_father_name = new_text[i+4]\n",
    "    pancard_attribute = {\"Pan Holder Name\":[pan_holder],\n",
    "                        \"Father Name\" : [card_holder_father_name],\n",
    "                        \"Pan Number\" : [pan],\n",
    "                        \"DOB\" : [dob]}\n",
    "    return pancard_attribute\n",
    "\n",
    "get_pan_details(result1)"
   ]
  },
  {
   "cell_type": "raw",
   "id": "6ae9d029",
   "metadata": {},
   "source": [
    "import pandas as pd"
   ]
  },
  {
   "cell_type": "code",
   "execution_count": null,
   "id": "e1e9ce59",
   "metadata": {},
   "outputs": [],
   "source": [
    "dict1 = get_pan_details(result1)"
   ]
  },
  {
   "cell_type": "code",
   "execution_count": null,
   "id": "d4a9b06c",
   "metadata": {},
   "outputs": [],
   "source": [
    "df = pd.DataFrame(dict1)\n",
    "df"
   ]
  },
  {
   "cell_type": "code",
   "execution_count": null,
   "id": "26b18ffb",
   "metadata": {},
   "outputs": [],
   "source": [
    "df.to_csv(\"doc_detail.csv\",index=False)"
   ]
  },
  {
   "cell_type": "code",
   "execution_count": null,
   "id": "bbb2d246",
   "metadata": {},
   "outputs": [],
   "source": [
    "pdf_path = r\"G:\\velocity data\\Raw_data\\Project-1\\pdf\\Adhar1.pdf\"\n",
    "path = r'C:\\Program Files (x86)\\poppler-23.08.0\\Library\\bin'\n",
    "image = convert_from_path(pdf_path,poppler_path = path)\n",
    "image[0]"
   ]
  },
  {
   "cell_type": "code",
   "execution_count": null,
   "id": "1cba2245",
   "metadata": {},
   "outputs": [],
   "source": [
    " image[0].save(\"A1.JPEG\")"
   ]
  },
  {
   "cell_type": "code",
   "execution_count": null,
   "id": "b6a75dba",
   "metadata": {},
   "outputs": [],
   "source": [
    "folder_path"
   ]
  },
  {
   "cell_type": "code",
   "execution_count": 7,
   "id": "312bd386",
   "metadata": {},
   "outputs": [
    {
     "name": "stdout",
     "output_type": "stream",
     "text": [
      "WORT ATH STTR\n",
      "Balasaheb Bhaurao Dongre\n",
      "weH antka/DOB: 03/06/1987\n",
      "qea/ MALE\n",
      "\n",
      "LZ0Z/01/€0 :@12@q peojumog\n",
      "\n",
      "y\n",
      "—\n",
      "\n",
      "9934 2804 6466\n",
      "\n",
      "D : 9170 4466 0477 8842\n",
      "\n",
      "LLOZ/OL/p0 -218q Onss|\n",
      "\n"
     ]
    }
   ],
   "source": [
    "path = r\"C:\\Users\\Mayuri\\AppData\\Local\\Programs\\Tesseract-OCR\\tesseract.exe\"\n",
    "folder_path = r\"G:\\velocity data\\Raw_data\\Project-1\\A1.JPEG\"\n",
    "pytesseract.pytesseract.tesseract_cmd = path\n",
    "res = pytesseract.image_to_string(folder_path)\n",
    "print(res)\n"
   ]
  },
  {
   "cell_type": "code",
   "execution_count": 8,
   "id": "396209e3",
   "metadata": {},
   "outputs": [],
   "source": [
    "result2 = re.sub(\"[:—|@_%y]\",\"\",res)\n",
    "#print(result2)"
   ]
  },
  {
   "cell_type": "code",
   "execution_count": 9,
   "id": "1ada66c0",
   "metadata": {},
   "outputs": [],
   "source": [
    "# a = result2.split(\"\\n\")\n",
    "# for i, line in enumerate(a):\n",
    "#     print(i,line)"
   ]
  },
  {
   "cell_type": "code",
   "execution_count": 10,
   "id": "0e49e0f5",
   "metadata": {},
   "outputs": [],
   "source": [
    "def get_adhar_details(result2):\n",
    "    card_holder = re.compile(\"[A-Z]\")\n",
    "    patter_adhar = re.compile(\"\\d[0-9]{4}[ ]/\\d\")\n",
    "    patter_dob = re.compile(\"\\d\")\n",
    "    \n",
    "    card_holder = card_holder.search(result2)\n",
    "    adhar = patter_adhar.search(result2)\n",
    "    dob = patter_dob.search(result2)\n",
    "    \n",
    "    new_text = result2.split(\"\\n\")\n",
    "    for i, line in enumerate(new_text):\n",
    "        if re.findall(\"STTR\",line):\n",
    "            card_holder = new_text[i+1]\n",
    "            adhar = new_text[i+10]\n",
    "            dob = new_text[i+2]\n",
    "            \n",
    "            adharcard_attribute = {\"Card holder Name\":[card_holder],\n",
    "                        \"Adhar Number\" : [adhar],\n",
    "                        \"DOB\" : [dob]}\n",
    "    return adharcard_attribute\n",
    "#get_adhar_details(result2)"
   ]
  },
  {
   "cell_type": "code",
   "execution_count": 11,
   "id": "c5307673",
   "metadata": {},
   "outputs": [],
   "source": [
    "dict2 = get_adhar_details(result2)"
   ]
  },
  {
   "cell_type": "code",
   "execution_count": 12,
   "id": "af2026e2",
   "metadata": {},
   "outputs": [
    {
     "data": {
      "text/html": [
       "<div>\n",
       "<style scoped>\n",
       "    .dataframe tbody tr th:only-of-type {\n",
       "        vertical-align: middle;\n",
       "    }\n",
       "\n",
       "    .dataframe tbody tr th {\n",
       "        vertical-align: top;\n",
       "    }\n",
       "\n",
       "    .dataframe thead th {\n",
       "        text-align: right;\n",
       "    }\n",
       "</style>\n",
       "<table border=\"1\" class=\"dataframe\">\n",
       "  <thead>\n",
       "    <tr style=\"text-align: right;\">\n",
       "      <th></th>\n",
       "      <th>Card holder Name</th>\n",
       "      <th>Adhar Number</th>\n",
       "      <th>DOB</th>\n",
       "    </tr>\n",
       "  </thead>\n",
       "  <tbody>\n",
       "    <tr>\n",
       "      <th>0</th>\n",
       "      <td>Balasaheb Bhaurao Dongre</td>\n",
       "      <td>9934 2804 6466</td>\n",
       "      <td>weH antka/DOB 03/06/1987</td>\n",
       "    </tr>\n",
       "  </tbody>\n",
       "</table>\n",
       "</div>"
      ],
      "text/plain": [
       "           Card holder Name    Adhar Number                       DOB\n",
       "0  Balasaheb Bhaurao Dongre  9934 2804 6466  weH antka/DOB 03/06/1987"
      ]
     },
     "execution_count": 12,
     "metadata": {},
     "output_type": "execute_result"
    }
   ],
   "source": [
    "df = pd.DataFrame(dict2)\n",
    "df"
   ]
  },
  {
   "cell_type": "code",
   "execution_count": 13,
   "id": "020f5428",
   "metadata": {},
   "outputs": [],
   "source": [
    "df.to_csv(\"doc1_detail.csv\",index=False)"
   ]
  },
  {
   "cell_type": "code",
   "execution_count": null,
   "id": "93a9486d",
   "metadata": {},
   "outputs": [],
   "source": []
  },
  {
   "cell_type": "code",
   "execution_count": null,
   "id": "c53bc25b",
   "metadata": {},
   "outputs": [],
   "source": []
  }
 ],
 "metadata": {
  "kernelspec": {
   "display_name": "Python 3 (ipykernel)",
   "language": "python",
   "name": "python3"
  },
  "language_info": {
   "codemirror_mode": {
    "name": "ipython",
    "version": 3
   },
   "file_extension": ".py",
   "mimetype": "text/x-python",
   "name": "python",
   "nbconvert_exporter": "python",
   "pygments_lexer": "ipython3",
   "version": "3.10.9"
  }
 },
 "nbformat": 4,
 "nbformat_minor": 5
}
