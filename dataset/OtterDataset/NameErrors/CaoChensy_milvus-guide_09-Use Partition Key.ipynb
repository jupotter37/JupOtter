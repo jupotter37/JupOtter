{
 "cells": [
  {
   "cell_type": "markdown",
   "id": "787cf917",
   "metadata": {},
   "source": [
    "# 使用分区键"
   ]
  },
  {
   "cell_type": "markdown",
   "id": "fa4e4bb0",
   "metadata": {},
   "source": [
    "\n",
    "本指南将指导您使用分区键加速从集合中检索数据。\n",
    "\n",
    "概述\n",
    "Milvus中的分区键允许将传入的实体基于其各自的分区键值分布到不同的分区中。这允许具有相同键值的实体被分组在一个分区中，这反过来又通过避免在按键字段过滤时扫描不相关分区的需要来加速搜索性能。与传统的过滤方法相比，分区键可以大大提高查询性能。\n",
    "\n",
    "您可以使用分区键来实现多租户。有关多租户的详细信息，请阅读多租户。\n",
    "\n",
    "此页面上的代码片段使用新的MilvusClient（Python）与Milvus交互。其他语言的新MilvusClient SDK将在未来的更新中发布。\n",
    "\n",
    "启用分区键\n",
    "为了演示分区键的使用，我们将继续使用包含5,000多篇文章的示例数据集，发布字段将用作分区键。\n",
    "\n",
    "在下面的示例代码中，num_partitions确定将创建的分区数量。默认情况下，它设置为64。我们建议您保留默认值。\n"
   ]
  },
  {
   "cell_type": "code",
   "execution_count": 1,
   "id": "4640a7f6",
   "metadata": {},
   "outputs": [],
   "source": [
    "import json, time\n",
    "import os\n",
    "\n",
    "from pymilvus import MilvusClient, DataType"
   ]
  },
  {
   "cell_type": "code",
   "execution_count": 2,
   "id": "72d4a202",
   "metadata": {},
   "outputs": [
    {
     "data": {
      "text/plain": [
       "{'auto_id': True, 'description': '', 'fields': [{'name': 'id', 'description': '', 'type': <DataType.INT64: 5>, 'is_primary': True, 'auto_id': False}, {'name': 'title', 'description': '', 'type': <DataType.VARCHAR: 21>, 'params': {'max_length': 512}}, {'name': 'title_vector', 'description': '', 'type': <DataType.FLOAT_VECTOR: 101>, 'params': {'dim': 768}}, {'name': 'link', 'description': '', 'type': <DataType.VARCHAR: 21>, 'params': {'max_length': 512}}, {'name': 'reading_time', 'description': '', 'type': <DataType.INT64: 5>}, {'name': 'publication', 'description': '', 'type': <DataType.VARCHAR: 21>, 'params': {'max_length': 512}}, {'name': 'claps', 'description': '', 'type': <DataType.INT64: 5>}, {'name': 'responses', 'description': '', 'type': <DataType.INT64: 5>}], 'enable_dynamic_field': False}"
      ]
     },
     "execution_count": 2,
     "metadata": {},
     "output_type": "execute_result"
    }
   ],
   "source": [
    "COLLECTION_NAME=\"medium_articles_2020\" # Set your collection name\n",
    "\n",
    "# 1. Connect to cluster\n",
    "client = MilvusClient(\n",
    "    uri=\"http://localhost:19530\"\n",
    ")\n",
    "\n",
    "# 2. Define collection schema\n",
    "schema = client.create_schema(\n",
    "    auto_id=True,\n",
    "    partition_key_field=\"publication\",\n",
    "    num_partitions=64 # Number of partitions. Defaults to 64.\n",
    ")\n",
    "\n",
    "schema.add_field(field_name=\"id\", datatype=DataType.INT64, is_primary=True)\n",
    "schema.add_field(field_name=\"title\", datatype=DataType.VARCHAR, max_length=512)\n",
    "schema.add_field(field_name=\"title_vector\", datatype=DataType.FLOAT_VECTOR, dim=768)\n",
    "schema.add_field(field_name=\"link\", datatype=DataType.VARCHAR, max_length=512)\n",
    "schema.add_field(field_name=\"reading_time\", datatype=DataType.INT64)\n",
    "schema.add_field(field_name=\"publication\", datatype=DataType.VARCHAR, max_length=512)\n",
    "schema.add_field(field_name=\"claps\", datatype=DataType.INT64)\n",
    "schema.add_field(field_name=\"responses\", datatype=DataType.INT64)"
   ]
  },
  {
   "cell_type": "markdown",
   "id": "33bda58e",
   "metadata": {},
   "source": [
    "定义字段后，设置其他必要的参数。"
   ]
  },
  {
   "cell_type": "code",
   "execution_count": 3,
   "id": "2c950803",
   "metadata": {},
   "outputs": [],
   "source": [
    "# 3. Define index parameters\n",
    "index_params = client.prepare_index_params()\n",
    "\n",
    "index_params.add_index(\n",
    "    field_name=\"title_vector\",\n",
    "    index_type=\"AUTOINDEX\",\n",
    "    metric_type=\"L2\"\n",
    ")"
   ]
  },
  {
   "cell_type": "markdown",
   "id": "345b2c3a",
   "metadata": {},
   "source": [
    "最后，您可以创建一个集合。"
   ]
  },
  {
   "cell_type": "code",
   "execution_count": 5,
   "id": "59ac7883",
   "metadata": {},
   "outputs": [],
   "source": [
    "# 4. Create a collection\n",
    "client.create_collection(\n",
    "    collection_name=COLLECTION_NAME,\n",
    "    schema=schema,\n",
    "    index_params=index_params\n",
    ")"
   ]
  },
  {
   "cell_type": "markdown",
   "id": "cb7243dd",
   "metadata": {},
   "source": [
    "插入数据\n",
    "集合准备就绪后，开始插入数据，如下所示：\n",
    "\n",
    "准备数据"
   ]
  },
  {
   "cell_type": "code",
   "execution_count": null,
   "id": "ac957e35",
   "metadata": {},
   "outputs": [],
   "source": [
    "with open(DATASET_PATH) as f:\n",
    "    data = json.load(f)\n",
    "    list_of_rows = data['rows']\n",
    "\n",
    "    data_rows = []\n",
    "    for row in list_of_rows:\n",
    "        # Remove the id field because the primary key has auto_id enabled.\n",
    "        del row['id']\n",
    "        # Other keys except the title and title_vector fields in the row \n",
    "        # will be treated as dynamic fields.\n",
    "        data_rows.append(row)"
   ]
  },
  {
   "cell_type": "markdown",
   "id": "df998313",
   "metadata": {},
   "source": [
    "插入数据"
   ]
  },
  {
   "cell_type": "code",
   "execution_count": null,
   "id": "cb5b83ba",
   "metadata": {},
   "outputs": [],
   "source": [
    "# 7. Insert data\n",
    "res = client.insert(\n",
    "    collection_name=COLLECTION_NAME,\n",
    "    data=data_rows,\n",
    ")\n",
    "\n",
    "time.sleep(5000)\n"
   ]
  },
  {
   "cell_type": "markdown",
   "id": "fe4185ad",
   "metadata": {},
   "source": [
    "使用分区键\n",
    "索引并加载集合以及插入的数据后，可以使用分区键进行相似性搜索。\n",
    "\n",
    "注意到\n",
    "\n",
    "要使用分区键执行相似性搜索，您应该在搜索请求的布尔表达式中包含以下内容之一："
   ]
  },
  {
   "cell_type": "code",
   "execution_count": null,
   "id": "cd47a2d8",
   "metadata": {},
   "outputs": [],
   "source": [
    "expr='<partition_key>==\"xxxx\"'\n",
    "\n",
    "expr='<partition_key> in [\"xxx\", \"xxx\"]'\n",
    "\n",
    "将<partition_key>替换为指定为分区键的字段的名称。"
   ]
  },
  {
   "cell_type": "code",
   "execution_count": 6,
   "id": "7489768e",
   "metadata": {},
   "outputs": [
    {
     "ename": "NameError",
     "evalue": "name 'data_rows' is not defined",
     "output_type": "error",
     "traceback": [
      "\u001b[1;31m---------------------------------------------------------------------------\u001b[0m",
      "\u001b[1;31mNameError\u001b[0m                                 Traceback (most recent call last)",
      "Cell \u001b[1;32mIn[6], line 3\u001b[0m\n\u001b[0;32m      1\u001b[0m res \u001b[38;5;241m=\u001b[39m client\u001b[38;5;241m.\u001b[39msearch(\n\u001b[0;32m      2\u001b[0m     collection_name\u001b[38;5;241m=\u001b[39mCOLLECTION_NAME,\n\u001b[1;32m----> 3\u001b[0m     data\u001b[38;5;241m=\u001b[39m[\u001b[43mdata_rows\u001b[49m[\u001b[38;5;241m0\u001b[39m][\u001b[38;5;124m'\u001b[39m\u001b[38;5;124mtitle_vector\u001b[39m\u001b[38;5;124m'\u001b[39m]],\n\u001b[0;32m      4\u001b[0m     \u001b[38;5;28mfilter\u001b[39m\u001b[38;5;241m=\u001b[39m\u001b[38;5;124m'\u001b[39m\u001b[38;5;124mclaps > 30 and reading_time < 10\u001b[39m\u001b[38;5;124m'\u001b[39m,\n\u001b[0;32m      5\u001b[0m     limit\u001b[38;5;241m=\u001b[39m\u001b[38;5;241m3\u001b[39m,\n\u001b[0;32m      6\u001b[0m     output_fields\u001b[38;5;241m=\u001b[39m[\u001b[38;5;124m\"\u001b[39m\u001b[38;5;124mtitle\u001b[39m\u001b[38;5;124m\"\u001b[39m, \u001b[38;5;124m\"\u001b[39m\u001b[38;5;124mreading_time\u001b[39m\u001b[38;5;124m\"\u001b[39m, \u001b[38;5;124m\"\u001b[39m\u001b[38;5;124mclaps\u001b[39m\u001b[38;5;124m\"\u001b[39m],\n\u001b[0;32m      7\u001b[0m     search_params\u001b[38;5;241m=\u001b[39m{\u001b[38;5;124m\"\u001b[39m\u001b[38;5;124mmetric_type\u001b[39m\u001b[38;5;124m\"\u001b[39m: \u001b[38;5;124m\"\u001b[39m\u001b[38;5;124mL2\u001b[39m\u001b[38;5;124m\"\u001b[39m, \u001b[38;5;124m\"\u001b[39m\u001b[38;5;124mparams\u001b[39m\u001b[38;5;124m\"\u001b[39m: {}}\n\u001b[0;32m      8\u001b[0m )\n\u001b[0;32m     10\u001b[0m \u001b[38;5;28mprint\u001b[39m(res)\n",
      "\u001b[1;31mNameError\u001b[0m: name 'data_rows' is not defined"
     ]
    }
   ],
   "source": [
    "res = client.search(\n",
    "    collection_name=COLLECTION_NAME,\n",
    "    data=[data_rows[0]['title_vector']],\n",
    "    filter='claps > 30 and reading_time < 10',\n",
    "    limit=3,\n",
    "    output_fields=[\"title\", \"reading_time\", \"claps\"],\n",
    "    search_params={\"metric_type\": \"L2\", \"params\": {}}\n",
    ")\n",
    "\n",
    "print(res)"
   ]
  },
  {
   "cell_type": "markdown",
   "id": "8b120ba0",
   "metadata": {},
   "source": [
    "\n",
    "用例\n",
    "要实现更好的搜索性能并启用多租户，您可以利用分区键功能。这可以通过为每个实体分配特定于租户的值作为分区键字段来完成。在搜索或查询集合时，可以通过在布尔表达式中包含分区键字段，按特定于租户的值过滤实体。这种方法确保了租户的数据隔离，并避免扫描不必要的分区。"
   ]
  }
 ],
 "metadata": {
  "kernelspec": {
   "display_name": "Python 3 (ipykernel)",
   "language": "python",
   "name": "python3"
  },
  "language_info": {
   "codemirror_mode": {
    "name": "ipython",
    "version": 3
   },
   "file_extension": ".py",
   "mimetype": "text/x-python",
   "name": "python",
   "nbconvert_exporter": "python",
   "pygments_lexer": "ipython3",
   "version": "3.10.11"
  },
  "nbTranslate": {
   "displayLangs": [
    "*"
   ],
   "hotkey": "alt-t",
   "langInMainMenu": true,
   "sourceLang": "en",
   "targetLang": "fr",
   "useGoogleTranslate": true
  },
  "toc": {
   "base_numbering": 1,
   "nav_menu": {},
   "number_sections": true,
   "sideBar": true,
   "skip_h1_title": false,
   "title_cell": "Table of Contents",
   "title_sidebar": "Contents",
   "toc_cell": false,
   "toc_position": {},
   "toc_section_display": true,
   "toc_window_display": false
  }
 },
 "nbformat": 4,
 "nbformat_minor": 5
}
