{
 "cells": [
  {
   "cell_type": "code",
   "execution_count": null,
   "metadata": {},
   "outputs": [],
   "source": [
    "#| hide\n",
    "#| default_exp biobertApi"
   ]
  },
  {
   "cell_type": "markdown",
   "metadata": {},
   "source": [
    "# biobertApi\n",
    ">These are functions you can use to use the biobertAPI called BERN2\n",
    "\n",
    ">#### Import all functions from [PyPi](https://pypi.org/project/biobert-bern/0.0.1/) by typing into your terminal: \n",
    "pip install biobert-bern"
   ]
  },
  {
   "cell_type": "code",
   "execution_count": null,
   "metadata": {},
   "outputs": [],
   "source": [
    "#| export\n",
    "import requests\n",
    "import re\n",
    "import pandas as pd\n",
    "from nbdev.showdoc import *"
   ]
  },
  {
   "cell_type": "markdown",
   "metadata": {},
   "source": [
    "### Example Texts"
   ]
  },
  {
   "cell_type": "code",
   "execution_count": null,
   "metadata": {},
   "outputs": [],
   "source": [
    "#| export\n",
    "text = \"Autophagy maintains tumour growth through circulating the great arginine.\"\n",
    "text1 = \"X-rays were negative and physical assessment determined soft tissue damage to the lateral aspect of her ankle. She was initially treated with ice, an ace wrap, crutches and mild pain medications (Tylenol with codeine)\"\n",
    "text2 = \"It is a skin disease causing much itchiness. Scratching leads to redness, swelling, cracking, weeping clear fluid, crusting, and scaling.\"\n",
    "text3 = \"Maybe its a tumour. Maybe take some tylenol. Don't worry I'm not a doctor. I'm Dave\"\n",
    "texts = [text,text1,text2,text3]"
   ]
  },
  {
   "cell_type": "markdown",
   "metadata": {},
   "source": [
    "### Create Single Text Block from Text That is easily re-separated"
   ]
  },
  {
   "cell_type": "code",
   "execution_count": null,
   "metadata": {},
   "outputs": [],
   "source": [
    "#| export\n",
    "coms = pd.DataFrame({'comments':texts}) #create comments df"
   ]
  },
  {
   "cell_type": "code",
   "execution_count": null,
   "metadata": {},
   "outputs": [],
   "source": [
    "#| export\n",
    "def create_com_with_idx(df, #pandas DataFrame containg a column, titled \"comments,\" of text elements.  In this case these are Youtube comments.\n",
    "                     ):\n",
    "    '''This function takes a pandas DataFrame with a column titled \"comments\" that is filled with text strings, ie. from comments.  It adds an index number to each text string and adds '::' at the end for later parsing.  Finally, it returns all text elements combined into a single text block'''\n",
    "    df.reset_index(inplace=True)\n",
    "    df.rename(columns = {\"index\":\"idx\"},inplace=True)\n",
    "    df.idx = df.idx.astype(str)\n",
    "    df['comidx'] = df.idx +':: '+df.comments+' ::'\n",
    "    df.comidx = df.comidx.str.lower().str.replace(r'\\(|\\)',',',regex=True)\n",
    "    return df"
   ]
  },
  {
   "cell_type": "code",
   "execution_count": null,
   "metadata": {},
   "outputs": [],
   "source": [
    "#| export\n",
    "coms = create_com_with_idx(df=coms)"
   ]
  },
  {
   "cell_type": "markdown",
   "metadata": {},
   "source": [
    "### create_text_block example"
   ]
  },
  {
   "cell_type": "code",
   "execution_count": null,
   "metadata": {},
   "outputs": [],
   "source": [
    "#| export\n",
    "def make_5k_sections(df):\n",
    "    '''This Function gives section numbers to rows in order to group them later so that each text block is less than 5k characters.'''\n",
    "    counter = 1 # use this to start with section 1\n",
    "    df['textLen'] = df.comidx.apply(lambda row: len(row))\n",
    "    df['cumTxtLen'] = df.textLen.cumsum()\n",
    "    if df.cumTxtLen.max() < 5000:\n",
    "        df['section'] = counter\n",
    "        df1 = df\n",
    "        print('Less than 5k characters. Only 1 block necessary.')\n",
    "    else:\n",
    "\n",
    "        df1 = pd.DataFrame()\n",
    "        while 1:\n",
    "            dffk = df.loc[df.cumTxtLen <5000] # df first five k\n",
    "            dffk['section'] = counter\n",
    "            counter += 1\n",
    "            if df.cumTxtLen.max()> 5000:\n",
    "                df = df.loc[df.cumTxtLen >5000]\n",
    "                df['cumTxtLen'] = df.textLen.cumsum()\n",
    "                df1 = pd.concat([df1,dffk])\n",
    "            else:  \n",
    "                df['cumTxtLen'] = df.textLen.cumsum()\n",
    "                df1 = pd.concat([df1,dffk])\n",
    "                break\n",
    "    return df1"
   ]
  },
  {
   "cell_type": "code",
   "execution_count": null,
   "metadata": {},
   "outputs": [],
   "source": [
    "#| export\n",
    "def create_one_large_text_block(df):\n",
    "        text_block = ' '.join(df.comidx.tolist()) \n",
    "        return text_block"
   ]
  },
  {
   "cell_type": "code",
   "execution_count": null,
   "metadata": {},
   "outputs": [
    {
     "name": "stdout",
     "output_type": "stream",
     "text": [
      "Less than 5k characters. Only 1 block necessary.\n"
     ]
    }
   ],
   "source": [
    "#| export\n",
    "def create_all_text_blocks(df):\n",
    "    '''This function creates multiple text blocks all less than 5k char.'''\n",
    "    \n",
    "    df = make_5k_sections(df)\n",
    "    \n",
    "    blocks = []\n",
    "\n",
    "    for o in df.section.unique():\n",
    "        dfbl = df.loc[df.section == o]\n",
    "        \n",
    "        text_block = ' '.join(dfbl.comidx.tolist())\n",
    "        blocks.append(text_block)\n",
    "    return blocks\n",
    "\n",
    "blocks =  create_all_text_blocks(df=coms)"
   ]
  },
  {
   "cell_type": "code",
   "execution_count": null,
   "metadata": {},
   "outputs": [
    {
     "ename": "NameError",
     "evalue": "name 'create_one_large_text_block' is not defined",
     "output_type": "error",
     "traceback": [
      "\u001b[0;31m---------------------------------------------------------------------------\u001b[0m",
      "\u001b[0;31mNameError\u001b[0m                                 Traceback (most recent call last)",
      "\u001b[0;32m/tmp/ipykernel_1841/2484816627.py\u001b[0m in \u001b[0;36m<module>\u001b[0;34m\u001b[0m\n\u001b[0;32m----> 1\u001b[0;31m \u001b[0mtext_block\u001b[0m \u001b[0;34m=\u001b[0m \u001b[0mcreate_one_large_text_block\u001b[0m\u001b[0;34m(\u001b[0m\u001b[0mdf\u001b[0m\u001b[0;34m=\u001b[0m\u001b[0mcoms\u001b[0m\u001b[0;34m)\u001b[0m\u001b[0;34m;\u001b[0m \u001b[0mtext_block\u001b[0m\u001b[0;34m[\u001b[0m\u001b[0;34m:\u001b[0m\u001b[0;36m250\u001b[0m\u001b[0;34m]\u001b[0m\u001b[0;34m\u001b[0m\u001b[0;34m\u001b[0m\u001b[0m\n\u001b[0m",
      "\u001b[0;31mNameError\u001b[0m: name 'create_one_large_text_block' is not defined"
     ]
    }
   ],
   "source": [
    "text_block = create_one_large_text_block(df=coms); text_block[:250]"
   ]
  },
  {
   "cell_type": "code",
   "execution_count": null,
   "metadata": {},
   "outputs": [],
   "source": [
    "# show_doc(create_text_block)"
   ]
  },
  {
   "cell_type": "code",
   "execution_count": null,
   "metadata": {},
   "outputs": [],
   "source": []
  },
  {
   "cell_type": "markdown",
   "metadata": {},
   "source": [
    "## Get Start and End Doc Indecies\n",
    "> Here we'll use regex to find the text indecies of each doc or comment.  This will tell us which doc or comment is teh parent of each biomedical term returned from BERN2"
   ]
  },
  {
   "cell_type": "code",
   "execution_count": null,
   "metadata": {},
   "outputs": [],
   "source": [
    "#| export\n",
    "def get_comment_spans_textblock(text_block:str # single block of text in this structure: `'07 textt ext text. ::'`\n",
    "                               ):\n",
    "    '''This function returns a dataframe full of the start, end and span of each text comment/doc in the text_block'''    \n",
    "    string = text_block\n",
    "    pattern = r'(\\d+:.*?)::'\n",
    "    dfi = pd.DataFrame()\n",
    "    for o in re.findall(pattern,string):\n",
    "            stridx = re.findall(r'(\\d+)?::',o) #find the index of the comment from inside the textblock\n",
    "            stridx = stridx[0]\n",
    "            pattern2 = fr'({stridx}::.*?)::'  #use this pattern to find the specific text of 'o'\n",
    "            match=(re.search(pattern2, string))\n",
    "            #Getting the start and end index in tuple format using match.span()\n",
    "            text = o\n",
    "            start = match.start()\n",
    "            end = match.end()\n",
    "            span = match.span()\n",
    "            dfi = dfi.append({'text':text,'start':start,'end':end,'span':span},ignore_index=True)\n",
    "    return dfi"
   ]
  },
  {
   "cell_type": "code",
   "execution_count": null,
   "metadata": {},
   "outputs": [],
   "source": [
    "#| hide\n",
    "# show_doc(get_comment_spans_textblock)"
   ]
  },
  {
   "cell_type": "code",
   "execution_count": null,
   "metadata": {},
   "outputs": [
    {
     "data": {
      "text/html": [
       "<div>\n",
       "<style scoped>\n",
       "    .dataframe tbody tr th:only-of-type {\n",
       "        vertical-align: middle;\n",
       "    }\n",
       "\n",
       "    .dataframe tbody tr th {\n",
       "        vertical-align: top;\n",
       "    }\n",
       "\n",
       "    .dataframe thead th {\n",
       "        text-align: right;\n",
       "    }\n",
       "</style>\n",
       "<table border=\"1\" class=\"dataframe\">\n",
       "  <thead>\n",
       "    <tr style=\"text-align: right;\">\n",
       "      <th></th>\n",
       "      <th>text</th>\n",
       "      <th>start</th>\n",
       "      <th>end</th>\n",
       "      <th>span</th>\n",
       "    </tr>\n",
       "  </thead>\n",
       "  <tbody>\n",
       "    <tr>\n",
       "      <th>0</th>\n",
       "      <td>0:: autophagy maintains tumour growth through ...</td>\n",
       "      <td>0.0</td>\n",
       "      <td>80.0</td>\n",
       "      <td>(0, 80)</td>\n",
       "    </tr>\n",
       "    <tr>\n",
       "      <th>1</th>\n",
       "      <td>1:: x-rays were negative and physical assessme...</td>\n",
       "      <td>81.0</td>\n",
       "      <td>305.0</td>\n",
       "      <td>(81, 305)</td>\n",
       "    </tr>\n",
       "    <tr>\n",
       "      <th>2</th>\n",
       "      <td>2:: it is a skin disease causing much itchines...</td>\n",
       "      <td>306.0</td>\n",
       "      <td>450.0</td>\n",
       "      <td>(306, 450)</td>\n",
       "    </tr>\n",
       "    <tr>\n",
       "      <th>3</th>\n",
       "      <td>3:: maybe its a tumour. maybe take some tyleno...</td>\n",
       "      <td>451.0</td>\n",
       "      <td>541.0</td>\n",
       "      <td>(451, 541)</td>\n",
       "    </tr>\n",
       "  </tbody>\n",
       "</table>\n",
       "</div>"
      ],
      "text/plain": [
       "                                                text  start    end        span\n",
       "0  0:: autophagy maintains tumour growth through ...    0.0   80.0     (0, 80)\n",
       "1  1:: x-rays were negative and physical assessme...   81.0  305.0   (81, 305)\n",
       "2  2:: it is a skin disease causing much itchines...  306.0  450.0  (306, 450)\n",
       "3  3:: maybe its a tumour. maybe take some tyleno...  451.0  541.0  (451, 541)"
      ]
     },
     "execution_count": null,
     "metadata": {},
     "output_type": "execute_result"
    }
   ],
   "source": [
    "dfi = get_comment_spans_textblock(text_block); dfi"
   ]
  },
  {
   "cell_type": "markdown",
   "metadata": {},
   "source": [
    "# Send combined text to bern2"
   ]
  },
  {
   "cell_type": "markdown",
   "metadata": {},
   "source": [
    "### Query Function:\n",
    ">This function will send our text to bern2 using their API to get the text labeled"
   ]
  },
  {
   "cell_type": "code",
   "execution_count": null,
   "metadata": {},
   "outputs": [
    {
     "data": {
      "text/plain": [
       "\"0:: autophagy maintains tumour growth through circulating the great arginine. :: 1:: x-rays were negative and physical assessment determined soft tissue damage to the lateral aspect of her ankle. she was initially treated with ice, an ace wrap, crutches and mild pain medications ,tylenol with codeine, :: 2:: it is a skin disease causing much itchiness. scratching leads to redness, swelling, cracking, weeping clear fluid, crusting, and scaling. :: 3:: maybe its a tumour. maybe take some tylenol. don't worry i'm not a doctor. i'm dave ::\""
      ]
     },
     "execution_count": null,
     "metadata": {},
     "output_type": "execute_result"
    }
   ],
   "source": [
    "text_block"
   ]
  },
  {
   "cell_type": "code",
   "execution_count": null,
   "metadata": {},
   "outputs": [],
   "source": [
    "#| export\n",
    "def query_plain(text:str, #single block of bioMedical text\n",
    "                url=\"http://bern2.korea.ac.kr/plain\"): # the api address\n",
    "    '''This function sends your `text_block` to the bern2 API and returns a json of labled biomedical terms from `text_block` with thier indecies.'''\n",
    "    return requests.post(url, json={'text': text}).json()\n",
    "\n",
    "# if __name__ == '__main__':\n",
    "#     text = \"Autophagy maintains tumour growth through circulating arginine\"\n",
    "#     print(query_plain(text))"
   ]
  },
  {
   "cell_type": "code",
   "execution_count": null,
   "metadata": {},
   "outputs": [],
   "source": [
    "# show_doc(query_plain)"
   ]
  },
  {
   "cell_type": "markdown",
   "metadata": {},
   "source": [
    "### Example of query_plain Output"
   ]
  },
  {
   "cell_type": "code",
   "execution_count": null,
   "metadata": {},
   "outputs": [
    {
     "data": {
      "text/plain": [
       "\"0:: autophagy maintains tumour growth through circulating the great arginine. :: 1:: x-rays were negative and physical assessment determined soft tissue damage to the lateral aspect of her ankle. she was initially treated with ice, an ace wrap, crutches and mild pain medications ,tylenol with codeine, :: 2:: it is a skin disease causing much itchiness. scratching leads to redness, swelling, cracking, weeping clear fluid, crusting, and scaling. :: 3:: maybe its a tumour. maybe take some tylenol. don't worry i'm not a doctor. i'm dave ::\""
      ]
     },
     "execution_count": null,
     "metadata": {},
     "output_type": "execute_result"
    }
   ],
   "source": [
    "text_block"
   ]
  },
  {
   "cell_type": "markdown",
   "metadata": {},
   "source": [
    "## Send it all to Bern2"
   ]
  },
  {
   "cell_type": "code",
   "execution_count": null,
   "metadata": {},
   "outputs": [],
   "source": [
    "# # Send it all to Bern2\n",
    "# output = query_plain(text=text_block);  "
   ]
  },
  {
   "cell_type": "markdown",
   "metadata": {},
   "source": [
    "#### An example of the bern2 out put "
   ]
  },
  {
   "cell_type": "code",
   "execution_count": null,
   "metadata": {},
   "outputs": [],
   "source": [
    "output = {'annotations': [{'id': ['mesh:D009369'],\n",
    "   'is_neural_normalized': False,\n",
    "   'mention': 'tumour',\n",
    "   'obj': 'disease',\n",
    "   'prob': 0.9999957084655762,\n",
    "   'span': {'begin': 23, 'end': 29}},\n",
    "  {'id': ['mesh:D001120'],\n",
    "   'is_neural_normalized': False,\n",
    "   'mention': 'arginine',\n",
    "   'obj': 'drug',\n",
    "   'prob': 0.9939362406730652,\n",
    "   'span': {'begin': 67, 'end': 75}},\n",
    "  {'id': ['mesh:D000082'],\n",
    "   'is_neural_normalized': False,\n",
    "   'mention': 'tylenol',\n",
    "   'obj': 'drug',\n",
    "   'prob': 0.9972689747810364,\n",
    "   'span': {'begin': 278, 'end': 285}},\n",
    "  {'id': ['mesh:D003061'],\n",
    "   'is_neural_normalized': False,\n",
    "   'mention': 'codeine',\n",
    "   'obj': 'drug',\n",
    "   'prob': 0.947392463684082,\n",
    "   'span': {'begin': 291, 'end': 298}},\n",
    "  {'id': ['mesh:D012871'],\n",
    "   'is_neural_normalized': False,\n",
    "   'mention': 'skin disease',\n",
    "   'obj': 'disease',\n",
    "   'prob': 0.9998037815093994,\n",
    "   'span': {'begin': 313, 'end': 325}},\n",
    "  {'id': ['mesh:D011537'],\n",
    "   'is_neural_normalized': False,\n",
    "   'mention': 'itchiness',\n",
    "   'obj': 'disease',\n",
    "   'prob': 0.9898108243942261,\n",
    "   'span': {'begin': 339, 'end': 348}},\n",
    "  {'id': ['mesh:D000080822'],\n",
    "   'is_neural_normalized': False,\n",
    "   'mention': 'redness',\n",
    "   'obj': 'disease',\n",
    "   'prob': 0.9481215476989746,\n",
    "   'span': {'begin': 370, 'end': 377}},\n",
    "  {'id': ['mesh:D004487'],\n",
    "   'is_neural_normalized': True,\n",
    "   'mention': 'swelling',\n",
    "   'obj': 'disease',\n",
    "   'prob': 0.9774566292762756,\n",
    "   'span': {'begin': 379, 'end': 387}},\n",
    "  {'id': ['mesh:D012135'],\n",
    "   'is_neural_normalized': True,\n",
    "   'mention': 'cracking',\n",
    "   'obj': 'disease',\n",
    "   'prob': 0.8271865248680115,\n",
    "   'span': {'begin': 389, 'end': 397}},\n",
    "  {'id': ['mesh:D002862'],\n",
    "   'is_neural_normalized': True,\n",
    "   'mention': 'crusting',\n",
    "   'obj': 'disease',\n",
    "   'prob': 0.9943530559539795,\n",
    "   'span': {'begin': 420, 'end': 428}},\n",
    "  {'id': ['mesh:D012871'],\n",
    "   'is_neural_normalized': True,\n",
    "   'mention': 'scaling',\n",
    "   'obj': 'disease',\n",
    "   'prob': 0.9980024695396423,\n",
    "   'span': {'begin': 434, 'end': 441}},\n",
    "  {'id': ['mesh:D009369'],\n",
    "   'is_neural_normalized': False,\n",
    "   'mention': 'tumour',\n",
    "   'obj': 'disease',\n",
    "   'prob': 0.9999805688858032,\n",
    "   'span': {'begin': 460, 'end': 466}},\n",
    "  {'id': ['mesh:D000082'],\n",
    "   'is_neural_normalized': False,\n",
    "   'mention': 'tylenol',\n",
    "   'obj': 'drug',\n",
    "   'prob': 0.9799597263336182,\n",
    "   'span': {'begin': 484, 'end': 491}}],\n",
    " 'text': \"0: autophagy maintains tumour growth through circulating the great arginine.:: 1: x-rays were negative and physical assessment determined soft tissue damage to the lateral aspect of her ankle. she was initially treated with ice, an ace wrap, crutches and mild pain medications ,tylenol with codeine,:: 2: it is a skin disease causing much itchiness. scratching leads to redness, swelling, cracking, weeping clear fluid, crusting, and scaling.:: 3: maybe its a tumour. maybe take some tylenol. don't worry i'm not a doctor. i'm dave::\",\n",
    " 'timestamp': 'Mon Nov 14 18:00:04 +0000 2022'}"
   ]
  },
  {
   "cell_type": "markdown",
   "metadata": {},
   "source": [
    "Example of overall df"
   ]
  },
  {
   "cell_type": "code",
   "execution_count": null,
   "metadata": {},
   "outputs": [
    {
     "data": {
      "text/html": [
       "<div>\n",
       "<style scoped>\n",
       "    .dataframe tbody tr th:only-of-type {\n",
       "        vertical-align: middle;\n",
       "    }\n",
       "\n",
       "    .dataframe tbody tr th {\n",
       "        vertical-align: top;\n",
       "    }\n",
       "\n",
       "    .dataframe thead th {\n",
       "        text-align: right;\n",
       "    }\n",
       "</style>\n",
       "<table border=\"1\" class=\"dataframe\">\n",
       "  <thead>\n",
       "    <tr style=\"text-align: right;\">\n",
       "      <th></th>\n",
       "      <th>annotations</th>\n",
       "      <th>text</th>\n",
       "      <th>timestamp</th>\n",
       "    </tr>\n",
       "  </thead>\n",
       "  <tbody>\n",
       "    <tr>\n",
       "      <th>10</th>\n",
       "      <td>{'id': ['mesh:D012871'], 'is_neural_normalized...</td>\n",
       "      <td>0: autophagy maintains tumour growth through c...</td>\n",
       "      <td>Mon Nov 14 18:00:04 +0000 2022</td>\n",
       "    </tr>\n",
       "    <tr>\n",
       "      <th>11</th>\n",
       "      <td>{'id': ['mesh:D009369'], 'is_neural_normalized...</td>\n",
       "      <td>0: autophagy maintains tumour growth through c...</td>\n",
       "      <td>Mon Nov 14 18:00:04 +0000 2022</td>\n",
       "    </tr>\n",
       "  </tbody>\n",
       "</table>\n",
       "</div>"
      ],
      "text/plain": [
       "                                          annotations  \\\n",
       "10  {'id': ['mesh:D012871'], 'is_neural_normalized...   \n",
       "11  {'id': ['mesh:D009369'], 'is_neural_normalized...   \n",
       "\n",
       "                                                 text  \\\n",
       "10  0: autophagy maintains tumour growth through c...   \n",
       "11  0: autophagy maintains tumour growth through c...   \n",
       "\n",
       "                         timestamp  \n",
       "10  Mon Nov 14 18:00:04 +0000 2022  \n",
       "11  Mon Nov 14 18:00:04 +0000 2022  "
      ]
     },
     "execution_count": null,
     "metadata": {},
     "output_type": "execute_result"
    }
   ],
   "source": [
    "pd.DataFrame(output)[-3:-1]"
   ]
  },
  {
   "cell_type": "markdown",
   "metadata": {},
   "source": [
    "Example of df from just the `annotations` column"
   ]
  },
  {
   "cell_type": "code",
   "execution_count": null,
   "metadata": {},
   "outputs": [
    {
     "data": {
      "text/html": [
       "<div>\n",
       "<style scoped>\n",
       "    .dataframe tbody tr th:only-of-type {\n",
       "        vertical-align: middle;\n",
       "    }\n",
       "\n",
       "    .dataframe tbody tr th {\n",
       "        vertical-align: top;\n",
       "    }\n",
       "\n",
       "    .dataframe thead th {\n",
       "        text-align: right;\n",
       "    }\n",
       "</style>\n",
       "<table border=\"1\" class=\"dataframe\">\n",
       "  <thead>\n",
       "    <tr style=\"text-align: right;\">\n",
       "      <th></th>\n",
       "      <th>id</th>\n",
       "      <th>is_neural_normalized</th>\n",
       "      <th>mention</th>\n",
       "      <th>obj</th>\n",
       "      <th>prob</th>\n",
       "      <th>span</th>\n",
       "    </tr>\n",
       "  </thead>\n",
       "  <tbody>\n",
       "    <tr>\n",
       "      <th>10</th>\n",
       "      <td>[mesh:D012871]</td>\n",
       "      <td>True</td>\n",
       "      <td>scaling</td>\n",
       "      <td>disease</td>\n",
       "      <td>0.998002</td>\n",
       "      <td>{'begin': 434, 'end': 441}</td>\n",
       "    </tr>\n",
       "    <tr>\n",
       "      <th>11</th>\n",
       "      <td>[mesh:D009369]</td>\n",
       "      <td>False</td>\n",
       "      <td>tumour</td>\n",
       "      <td>disease</td>\n",
       "      <td>0.999981</td>\n",
       "      <td>{'begin': 460, 'end': 466}</td>\n",
       "    </tr>\n",
       "  </tbody>\n",
       "</table>\n",
       "</div>"
      ],
      "text/plain": [
       "                id  is_neural_normalized  mention      obj      prob  \\\n",
       "10  [mesh:D012871]                  True  scaling  disease  0.998002   \n",
       "11  [mesh:D009369]                 False   tumour  disease  0.999981   \n",
       "\n",
       "                          span  \n",
       "10  {'begin': 434, 'end': 441}  \n",
       "11  {'begin': 460, 'end': 466}  "
      ]
     },
     "execution_count": null,
     "metadata": {},
     "output_type": "execute_result"
    }
   ],
   "source": [
    "pd.DataFrame(output['annotations'])[-3:-1]"
   ]
  },
  {
   "cell_type": "markdown",
   "metadata": {},
   "source": [
    "## Add BERN2 Lables to Docs\n",
    "\n",
    ">We sent all separate text documents as one big text document to bern2.  Now we'll re-separate the labeled text to show which biomedical words were in which documents."
   ]
  },
  {
   "cell_type": "code",
   "execution_count": null,
   "metadata": {},
   "outputs": [
    {
     "data": {
      "text/html": [
       "<div>\n",
       "<style scoped>\n",
       "    .dataframe tbody tr th:only-of-type {\n",
       "        vertical-align: middle;\n",
       "    }\n",
       "\n",
       "    .dataframe tbody tr th {\n",
       "        vertical-align: top;\n",
       "    }\n",
       "\n",
       "    .dataframe thead th {\n",
       "        text-align: right;\n",
       "    }\n",
       "</style>\n",
       "<table border=\"1\" class=\"dataframe\">\n",
       "  <thead>\n",
       "    <tr style=\"text-align: right;\">\n",
       "      <th></th>\n",
       "      <th>id</th>\n",
       "      <th>is_neural_normalized</th>\n",
       "      <th>mention</th>\n",
       "      <th>obj</th>\n",
       "      <th>prob</th>\n",
       "      <th>span_x</th>\n",
       "      <th>str_end</th>\n",
       "      <th>dfi_idx</th>\n",
       "      <th>text</th>\n",
       "      <th>start</th>\n",
       "      <th>end</th>\n",
       "      <th>span_y</th>\n",
       "    </tr>\n",
       "  </thead>\n",
       "  <tbody>\n",
       "    <tr>\n",
       "      <th>0</th>\n",
       "      <td>[mesh:D009369]</td>\n",
       "      <td>False</td>\n",
       "      <td>tumour</td>\n",
       "      <td>disease</td>\n",
       "      <td>0.999996</td>\n",
       "      <td>{'begin': 23, 'end': 29}</td>\n",
       "      <td>29</td>\n",
       "      <td>0.0</td>\n",
       "      <td>0:: autophagy maintains tumour growth through ...</td>\n",
       "      <td>0.0</td>\n",
       "      <td>80.0</td>\n",
       "      <td>(0, 80)</td>\n",
       "    </tr>\n",
       "    <tr>\n",
       "      <th>1</th>\n",
       "      <td>[mesh:D001120]</td>\n",
       "      <td>False</td>\n",
       "      <td>arginine</td>\n",
       "      <td>drug</td>\n",
       "      <td>0.993936</td>\n",
       "      <td>{'begin': 67, 'end': 75}</td>\n",
       "      <td>75</td>\n",
       "      <td>0.0</td>\n",
       "      <td>0:: autophagy maintains tumour growth through ...</td>\n",
       "      <td>0.0</td>\n",
       "      <td>80.0</td>\n",
       "      <td>(0, 80)</td>\n",
       "    </tr>\n",
       "  </tbody>\n",
       "</table>\n",
       "</div>"
      ],
      "text/plain": [
       "               id  is_neural_normalized   mention      obj      prob  \\\n",
       "0  [mesh:D009369]                 False    tumour  disease  0.999996   \n",
       "1  [mesh:D001120]                 False  arginine     drug  0.993936   \n",
       "\n",
       "                     span_x  str_end  dfi_idx  \\\n",
       "0  {'begin': 23, 'end': 29}       29      0.0   \n",
       "1  {'begin': 67, 'end': 75}       75      0.0   \n",
       "\n",
       "                                                text  start   end   span_y  \n",
       "0  0:: autophagy maintains tumour growth through ...    0.0  80.0  (0, 80)  \n",
       "1  0:: autophagy maintains tumour growth through ...    0.0  80.0  (0, 80)  "
      ]
     },
     "execution_count": null,
     "metadata": {},
     "output_type": "execute_result"
    }
   ],
   "source": [
    "dfa = pd.DataFrame(output['annotations']) #crete dfa for dataframe of Annotaation\n",
    "\n",
    "# create str_end col as type str\n",
    "dfa.span = dfa.span.astype(str)\n",
    "dfa ['str_end'] = dfa.span.str.replace(r\".*'end': (\\d+)}\",r\"\\1\",regex=True)\n",
    "\n",
    "dfa.str_end = dfa.str_end.astype(int)  # make str end as type str\n",
    "\n",
    "#add dfi_idx col\n",
    "dfi.reset_index(inplace=True)\n",
    "dfi.rename(columns={'index':'dfi_idx'},inplace=True)\n",
    "\n",
    "for o,m in zip(dfi.index,dfi.span):  #add dfi_idx col to dfa \n",
    "    x,y = m #open span tuple\n",
    "    #write conditions for specific df rows\n",
    "    conds = (dfa.str_end > x) & (dfa.str_end < y)\n",
    "    dfa.loc[conds,'dfi_idx'] = o #save the index of the dfi span that fits to dfa\n",
    "\n",
    "# dfa.merge(dfi, left_on='dfi_idx',right_index=True)\n",
    "df = dfa.merge(dfi, left_on='dfi_idx',right_on='dfi_idx');  df.head(2)"
   ]
  },
  {
   "cell_type": "markdown",
   "metadata": {},
   "source": [
    "## Output df"
   ]
  },
  {
   "cell_type": "code",
   "execution_count": null,
   "metadata": {},
   "outputs": [
    {
     "data": {
      "text/html": [
       "<div>\n",
       "<style scoped>\n",
       "    .dataframe tbody tr th:only-of-type {\n",
       "        vertical-align: middle;\n",
       "    }\n",
       "\n",
       "    .dataframe tbody tr th {\n",
       "        vertical-align: top;\n",
       "    }\n",
       "\n",
       "    .dataframe thead th {\n",
       "        text-align: right;\n",
       "    }\n",
       "</style>\n",
       "<table border=\"1\" class=\"dataframe\">\n",
       "  <thead>\n",
       "    <tr style=\"text-align: right;\">\n",
       "      <th></th>\n",
       "      <th>dfi_idx</th>\n",
       "      <th>mention</th>\n",
       "      <th>obj</th>\n",
       "      <th>text</th>\n",
       "    </tr>\n",
       "  </thead>\n",
       "  <tbody>\n",
       "    <tr>\n",
       "      <th>9</th>\n",
       "      <td>2.0</td>\n",
       "      <td>crusting</td>\n",
       "      <td>disease</td>\n",
       "      <td>2:: it is a skin disease causing much itchines...</td>\n",
       "    </tr>\n",
       "    <tr>\n",
       "      <th>10</th>\n",
       "      <td>2.0</td>\n",
       "      <td>scaling</td>\n",
       "      <td>disease</td>\n",
       "      <td>2:: it is a skin disease causing much itchines...</td>\n",
       "    </tr>\n",
       "    <tr>\n",
       "      <th>11</th>\n",
       "      <td>3.0</td>\n",
       "      <td>tumour</td>\n",
       "      <td>disease</td>\n",
       "      <td>3:: maybe its a tumour. maybe take some tyleno...</td>\n",
       "    </tr>\n",
       "  </tbody>\n",
       "</table>\n",
       "</div>"
      ],
      "text/plain": [
       "    dfi_idx   mention      obj  \\\n",
       "9       2.0  crusting  disease   \n",
       "10      2.0   scaling  disease   \n",
       "11      3.0    tumour  disease   \n",
       "\n",
       "                                                 text  \n",
       "9   2:: it is a skin disease causing much itchines...  \n",
       "10  2:: it is a skin disease causing much itchines...  \n",
       "11  3:: maybe its a tumour. maybe take some tyleno...  "
      ]
     },
     "execution_count": null,
     "metadata": {},
     "output_type": "execute_result"
    }
   ],
   "source": [
    "df = df[['dfi_idx','mention','obj','text']]; df[-4:-1]"
   ]
  },
  {
   "cell_type": "markdown",
   "metadata": {},
   "source": [
    "### Show # of Comments that Contain Word"
   ]
  },
  {
   "cell_type": "code",
   "execution_count": null,
   "metadata": {},
   "outputs": [],
   "source": [
    "dfwords = df.groupby(['mention']).dfi_idx.count().reset_index().sort_values('dfi_idx',ascending=False)"
   ]
  },
  {
   "cell_type": "code",
   "execution_count": null,
   "metadata": {},
   "outputs": [],
   "source": [
    "# !pip install seaborn"
   ]
  },
  {
   "cell_type": "code",
   "execution_count": null,
   "metadata": {},
   "outputs": [],
   "source": [
    "# import seaborn as sns\n",
    "# import matplotlib.pyplot as plt\n",
    "\n",
    "# # Set the width and height of the figure\n",
    "# plt.figure(figsize=(8,6))\n",
    "\n",
    "# ax = sns.barplot(x=dfwords.dfi_idx, y=dfwords.mention)\n",
    "\n",
    "# #title\n",
    "# ax.set_title(f'Biomedical Terms in Comments')\n",
    "\n",
    "# # Add label for  axis\n",
    "# ax.set(xlabel='Number of commenters mentioning the term')\n",
    "# plt.show()"
   ]
  },
  {
   "cell_type": "code",
   "execution_count": null,
   "metadata": {},
   "outputs": [],
   "source": []
  },
  {
   "cell_type": "code",
   "execution_count": null,
   "metadata": {},
   "outputs": [],
   "source": []
  },
  {
   "cell_type": "code",
   "execution_count": null,
   "metadata": {},
   "outputs": [],
   "source": []
  }
 ],
 "metadata": {
  "kernelspec": {
   "display_name": "Python 3 (ipykernel)",
   "language": "python",
   "name": "python3"
  }
 },
 "nbformat": 4,
 "nbformat_minor": 1
}
