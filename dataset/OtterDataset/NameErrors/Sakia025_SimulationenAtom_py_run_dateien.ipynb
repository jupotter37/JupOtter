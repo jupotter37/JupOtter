{
 "cells": [
  {
   "cell_type": "code",
   "execution_count": 26,
   "metadata": {},
   "outputs": [],
   "source": [
    "import random\n",
    "import re\n",
    "import sys\n",
    "import math\n",
    "import numpy as np"
   ]
  },
  {
   "cell_type": "code",
   "execution_count": 1,
   "metadata": {},
   "outputs": [
    {
     "ename": "NameError",
     "evalue": "name 'snakemake' is not defined",
     "output_type": "error",
     "traceback": [
      "\u001b[0;31m---------------------------------------------------------------------------\u001b[0m",
      "\u001b[0;31mNameError\u001b[0m                                 Traceback (most recent call last)",
      "\u001b[0;32m<ipython-input-1-de43995ea958>\u001b[0m in \u001b[0;36m<module>\u001b[0;34m\u001b[0m\n\u001b[0;32m----> 1\u001b[0;31m \u001b[0mTeilchenzahl\u001b[0m \u001b[0;34m=\u001b[0m \u001b[0msnakemake\u001b[0m\u001b[0;34m.\u001b[0m\u001b[0mparams\u001b[0m\u001b[0;34m.\u001b[0m\u001b[0mTeilchenzahl\u001b[0m\u001b[0;34m\u001b[0m\u001b[0;34m\u001b[0m\u001b[0m\n\u001b[0m\u001b[1;32m      2\u001b[0m \u001b[0mordner\u001b[0m \u001b[0;34m=\u001b[0m \u001b[0msnakemake\u001b[0m\u001b[0;34m.\u001b[0m\u001b[0mwildcards\u001b[0m\u001b[0;34m.\u001b[0m\u001b[0mapplikator\u001b[0m\u001b[0;34m\u001b[0m\u001b[0;34m\u001b[0m\u001b[0m\n\u001b[1;32m      3\u001b[0m \u001b[0;34m\u001b[0m\u001b[0m\n\u001b[1;32m      4\u001b[0m \u001b[0moffset_y\u001b[0m \u001b[0;34m=\u001b[0m \u001b[0;36m0.0\u001b[0m\u001b[0;34m\u001b[0m\u001b[0;34m\u001b[0m\u001b[0m\n\u001b[1;32m      5\u001b[0m \u001b[0moffset_z\u001b[0m \u001b[0;34m=\u001b[0m \u001b[0;36m0.0\u001b[0m\u001b[0;34m\u001b[0m\u001b[0;34m\u001b[0m\u001b[0m\n",
      "\u001b[0;31mNameError\u001b[0m: name 'snakemake' is not defined"
     ]
    }
   ],
   "source": [
    "name = 'run' # Name der run-Dateien. NameZahl\n",
    "Teilchenzahl = snakemake.params.Teilchenzahl\n",
    "ordner = 'CCB'\n",
    "pfad = ordner+'-build'\n",
    "run = int(snakemake.wildcards.zahl)"
   ]
  },
  {
   "cell_type": "code",
   "execution_count": 29,
   "metadata": {},
   "outputs": [],
   "source": [
    "random.seed(run)\n",
    "zahl_1 = 2\n",
    "zahl_2 = 1\n",
    "while zahl_1 > zahl_2 or zahl_1 == zahl_2: # Randomisierte Zahlen fuer Set Seeds\n",
    "    zahl_1 = random.randint(1,100000000)\n",
    "    zahl_2 = random.randint(1,100000000)\n",
    "\n",
    "\n",
    "\n",
    "dok_neu_name = pfad + '/' + str(name)+'_'+str(run)+'.mac'\n",
    "dok_neu = open(dok_neu_name, 'w')\n",
    "###################################### Uebliche Einstellungen #######################################\n",
    "dok_neu.write('#/mycommands/addPhysics emstandard_opt4\\n')\n",
    "dok_neu.write('/random/setSeeds '+ str(zahl_1) + ' ' + str(zahl_2) + '\\n')\n",
    "dok_neu.write('/run/setCut 0.01 mm\\n')\n",
    "dok_neu.write('/run/initialize\\n')\n",
    "dok_neu.write('/control/verbose 0 \\n')\n",
    "dok_neu.write('/run/verbose 0 \\n')\n",
    "dok_neu.write('/event/verbose 0 \\n')\n",
    "dok_neu.write('/tracking/verbose 0 \\n')\n",
    "dok_neu.write('/score/colorMap/setMinMax ! 0.01 0.99 \\n')\n",
    "dok_neu.write('\\n\\n')\n",
    "###################################### Scorer Definition TDK #######################################\n",
    "dok_neu.write('#### 0. Quader-Mesh ####\\n')\n",
    "dok_neu.write('/score/create/boxMesh boxMesh_0\\n')\n",
    "dok_neu.write('/score/mesh/boxSize 1 1 20. mm #Radius, Länge, Einheit\\n')\n",
    "dok_neu.write('/score/mesh/nBin 1 1 40 \\n')\n",
    "dok_neu.write('/score/mesh/translate/xyz 0.0 -0.0 20.0 mm\\n')\n",
    "dok_neu.write('/score/quantity/doseDeposit dDep0\\n')\n",
    "dok_neu.write('/score/close\\n')\n",
    "dok_neu.write('#/score/drawProjection boxMesh_0 dDep0\\n\\n')\n",
    "\n",
    "\n",
    "dok_neu.write('/run/beamOn ' + str(Teilchenzahl) + '\\n')\n",
    "\n",
    "dok_neu.write('/score/dumpQuantityToFile boxMesh_0 dDep0 TDK_' + str(run) + '.txt\\n') "
   ]
  }
 ],
 "metadata": {
  "kernelspec": {
   "display_name": "Python 3",
   "language": "python",
   "name": "python3"
  },
  "language_info": {
   "codemirror_mode": {
    "name": "ipython",
    "version": 3
   },
   "file_extension": ".py",
   "mimetype": "text/x-python",
   "name": "python",
   "nbconvert_exporter": "python",
   "pygments_lexer": "ipython3",
   "version": "3.7.6"
  }
 },
 "nbformat": 4,
 "nbformat_minor": 2
}
