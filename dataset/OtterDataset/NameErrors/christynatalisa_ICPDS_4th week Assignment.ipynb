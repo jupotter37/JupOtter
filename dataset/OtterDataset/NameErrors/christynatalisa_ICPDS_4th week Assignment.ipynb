{
 "cells": [
  {
   "cell_type": "markdown",
   "metadata": {
    "id": "DQceOMwq3kfD"
   },
   "source": [
    "# Assignments 4\n",
    "\n",
    "Due Feb 20 (Mon). Materials up to session 8 are covered.\n",
    "\n",
    "* \"Explain\" indicates you are expected to answer in natural language in Markdown cells. The others should be answered by programs (= code cells)."
   ]
  },
  {
   "cell_type": "markdown",
   "metadata": {},
   "source": [
    "### Q1. What does `print` function return when it is evaluated? Explain it."
   ]
  },
  {
   "cell_type": "markdown",
   "metadata": {},
   "source": [
    "When the print() function is evaluated, it does not return a value. Instead, it performs the action of printing the specified argument(s) to the console."
   ]
  },
  {
   "cell_type": "code",
   "execution_count": null,
   "metadata": {},
   "outputs": [],
   "source": [
    "# REPLACE THIS WITH YOUR CODE\n",
    "print(\"Hello, World!\")"
   ]
  },
  {
   "cell_type": "markdown",
   "metadata": {},
   "source": [
    "### Q2. Show a minimal example where the order of statements matter. That is, an example\n",
    "\n",
    "* Statement A\n",
    "* Statement B\n",
    "* ...\n",
    "\n",
    "and \n",
    "\n",
    "* Statement B\n",
    "* Statement A\n",
    "* ...\n",
    "\n",
    "Gives different results even though both run without an error. Explain why the difference is the case."
   ]
  },
  {
   "cell_type": "code",
   "execution_count": null,
   "metadata": {},
   "outputs": [],
   "source": [
    "# REPLACE THIS WITH YOUR CODE\n",
    "# Example 1\n",
    "x = 5\n",
    "y = x + 1\n",
    "print(y)  # Output: 6\n",
    "\n",
    "# Example 2\n",
    "y = x + 1\n",
    "x = 5\n",
    "print(y)  # Output: Error: NameError: name 'x' is not defined\n"
   ]
  },
  {
   "cell_type": "markdown",
   "metadata": {},
   "source": [
    "In Example 1, we first assign the value 5 to the variable x, then compute y as x + 1, and finally print the value of y. This code will output 6, because y is computed as 5 + 1.\n",
    "\n",
    "In Example 2, we swap the order of the first two statements, so that y is computed before x is assigned a value. When we try to print y, we get an error, because x has not been defined yet. The error message tells us that name 'x' is not defined.\n",
    "\n",
    "The reason why the order of statements matters in this case is because Python is an interpreted language that executes code from top to bottom. When we define a variable, it is only available from that point onward in the code. If we try to use the variable before it has been defined, we will get a NameError. In Example 2, we tried to compute y before x had been defined, which is why we got an error. In Example 1, x was defined before we computed y, so everything worked as expected."
   ]
  },
  {
   "cell_type": "markdown",
   "metadata": {},
   "source": [
    "### Q3. Explain the difference between the following two cells"
   ]
  },
  {
   "cell_type": "code",
   "execution_count": null,
   "metadata": {},
   "outputs": [],
   "source": [
    "if SOME_CONDITION:\n",
    "    STATEMENT_A\n",
    "if SOME_CONDITION2: #if\n",
    "    STATEMENT_B   "
   ]
  },
  {
   "cell_type": "code",
   "execution_count": null,
   "metadata": {},
   "outputs": [],
   "source": [
    "if SOME_CONDITION:\n",
    "    STATEMENT_A\n",
    "elif SOME_CONDITION2: #elif\n",
    "    STATEMENT_B   "
   ]
  },
  {
   "cell_type": "markdown",
   "metadata": {},
   "source": [
    "- The first example uses two separate if statements with different conditions, while the second example uses a single if-elif block.\n",
    "- In the first example, both STATEMENT_A and STATEMENT_B could be executed, whereas in the second example, only one code block will be executed.\n",
    "- In the second example, if the condition in the first if statement is True, the code block in the elif statement will not be executed, whereas in the first example, both code blocks could be executed."
   ]
  },
  {
   "cell_type": "markdown",
   "metadata": {},
   "source": [
    "### Q4. Write a function with its name `one`  that returns True if the parameter is equal to 1 or False otherwise."
   ]
  },
  {
   "cell_type": "code",
   "execution_count": 2,
   "metadata": {},
   "outputs": [
    {
     "name": "stdout",
     "output_type": "stream",
     "text": [
      "True\n",
      "False\n"
     ]
    }
   ],
   "source": [
    "def one(arg):\n",
    "# REPLACE THIS WITH YOUR CODE\n",
    "    if arg == 1:\n",
    "        return True\n",
    "    else:\n",
    "        return False\n",
    "    \n",
    "print(one(1))\n",
    "print(one(2))"
   ]
  },
  {
   "cell_type": "markdown",
   "metadata": {},
   "source": [
    "### Q5. The following is the lyrics of \"One Day More\" in Les Miserables musical (adapted). All comma and punctuations have been removed to simplify the exercise."
   ]
  },
  {
   "cell_type": "code",
   "execution_count": 16,
   "metadata": {},
   "outputs": [],
   "source": [
    "lyrics = \"\"\"One day more\n",
    "Another day another destiny\n",
    "This never-ending road to Calvary\n",
    "These men who seem to know my crime\n",
    "Will surely come a second time\n",
    "One day more\n",
    "I did not live until today\n",
    "How can I live when we are parted?\n",
    "One day more\n",
    "Tomorrow you'll be worlds away\n",
    "And yet with you my world has started\n",
    "One more day all on my own\n",
    "Will we ever meet again?\n",
    "One more day with him not caring\n",
    "I was born to be with you\n",
    "What a life I might have known\n",
    "And I swear I will be true\n",
    "But he never saw me there\n",
    "One more day before the storm\n",
    "Do I follow where she goes?\n",
    "At the barricades of freedom\n",
    "Shall I join my brothers there?\n",
    "When our ranks begin to form\n",
    "Do I stay or do I dare?\n",
    "Will you take your place with me?\n",
    "The time is now\n",
    "The day is here\n",
    "One day more\"\"\""
   ]
  },
  {
   "cell_type": "markdown",
   "metadata": {},
   "source": [
    "#### Q. Count how many times the word \"One\" (only capitalized Ones) appears. "
   ]
  },
  {
   "cell_type": "code",
   "execution_count": 17,
   "metadata": {},
   "outputs": [
    {
     "name": "stdout",
     "output_type": "stream",
     "text": [
      "7\n"
     ]
    }
   ],
   "source": [
    "# REPLACE THIS WITH YOUR CODE\n",
    "count = lyrics.count(\"One\")\n",
    "print(count)"
   ]
  },
  {
   "cell_type": "markdown",
   "metadata": {},
   "source": [
    "### Q6. Write a function `larger` that takes two parameters (integer/floats) and returns the larger one."
   ]
  },
  {
   "cell_type": "code",
   "execution_count": 22,
   "metadata": {},
   "outputs": [],
   "source": [
    "# REPLACE THIS WITH YOUR CODE\n",
    "def larger(a,b):\n",
    "    if a > b :\n",
    "        return a\n",
    "        print(a)\n",
    "    if b > a :\n",
    "        return b\n",
    "        print(b)"
   ]
  },
  {
   "cell_type": "code",
   "execution_count": 23,
   "metadata": {},
   "outputs": [
    {
     "name": "stdout",
     "output_type": "stream",
     "text": [
      "100\n",
      "5\n"
     ]
    }
   ],
   "source": [
    "print(larger(100, 20)) # This should return 100\n",
    "print(larger(-100, 5)) # This should return 5"
   ]
  },
  {
   "cell_type": "markdown",
   "metadata": {},
   "source": [
    "### Q7. Answer the following questions on Sesame Street Characters.\n"
   ]
  },
  {
   "cell_type": "code",
   "execution_count": 4,
   "metadata": {},
   "outputs": [],
   "source": [
    "muppets = [\"Big Bird\", \"Oscar\", \"Ernie\", \"Kermit\", \"Cookie Monster\", \"Julia\", \"Rosita\", \"Elmo\", \"Bert\"]"
   ]
  },
  {
   "cell_type": "markdown",
   "metadata": {},
   "source": [
    "#### Q. Is `\"Zoe\"` in the muppets?"
   ]
  },
  {
   "cell_type": "code",
   "execution_count": 5,
   "metadata": {},
   "outputs": [
    {
     "name": "stdout",
     "output_type": "stream",
     "text": [
      "False\n"
     ]
    }
   ],
   "source": [
    "# REPLACE THIS WITH YOUR CODE\n",
    "print(\"Zoe\" in muppets)"
   ]
  },
  {
   "cell_type": "markdown",
   "metadata": {},
   "source": [
    "#### Q. Obtain the 4th muppet in the list"
   ]
  },
  {
   "cell_type": "code",
   "execution_count": 6,
   "metadata": {},
   "outputs": [
    {
     "name": "stdout",
     "output_type": "stream",
     "text": [
      "Kermit\n"
     ]
    }
   ],
   "source": [
    "# REPLACE THIS WITH YOUR CODE\n",
    "print(muppets[3])"
   ]
  },
  {
   "cell_type": "markdown",
   "metadata": {},
   "source": [
    "#### Q. Obtain \"Elmo\" and \"Bert\" as a list of two elements"
   ]
  },
  {
   "cell_type": "code",
   "execution_count": 7,
   "metadata": {},
   "outputs": [
    {
     "name": "stdout",
     "output_type": "stream",
     "text": [
      "['Elmo', 'Bert']\n"
     ]
    }
   ],
   "source": [
    "# REPLACE THIS WITH YOUR CODE\n",
    "print(muppets[-2:])"
   ]
  },
  {
   "cell_type": "markdown",
   "metadata": {},
   "source": [
    "#### Q. Obtain \"Big Bird\" and \"Oscar\" and \"Cookie Monster\" as a list of three elements"
   ]
  },
  {
   "cell_type": "code",
   "execution_count": 10,
   "metadata": {},
   "outputs": [
    {
     "name": "stdout",
     "output_type": "stream",
     "text": [
      "['Big Bird', 'Oscar', 'Cookie Monster']\n"
     ]
    }
   ],
   "source": [
    "# REPLACE THIS WITH YOUR CODE\n",
    "selected_muppets = [muppets[0], muppets[1], muppets[4]]\n",
    "print(selected_muppets)"
   ]
  },
  {
   "cell_type": "markdown",
   "metadata": {},
   "source": [
    "### Q8. Write a function head that takes a list as a parameter and returns the first element of the list. If the list is empty, then return \"empty\" instead."
   ]
  },
  {
   "cell_type": "code",
   "execution_count": 11,
   "metadata": {},
   "outputs": [],
   "source": [
    "# REPLACE THIS WITH YOUR CODE\n",
    "def head(lst):\n",
    "    if len(lst) > 0:\n",
    "        return lst[0]\n",
    "    else:\n",
    "        return \"empty\"\n"
   ]
  },
  {
   "cell_type": "code",
   "execution_count": 12,
   "metadata": {},
   "outputs": [
    {
     "name": "stdout",
     "output_type": "stream",
     "text": [
      "a\n",
      "empty\n"
     ]
    }
   ],
   "source": [
    "print(head([\"a\", \"b\", \"c\"])) # This should return \"a\"\n",
    "print(head([])) # This should return \"empty\""
   ]
  },
  {
   "cell_type": "markdown",
   "metadata": {},
   "source": [
    "### Q9. Answer to the following questions on penguins (cont. from Session 8)\n"
   ]
  },
  {
   "cell_type": "code",
   "execution_count": 29,
   "metadata": {},
   "outputs": [],
   "source": [
    "all_penguins = ['Adelie', 'African', 'Chinstrap',\n",
    " 'Emperor', 'Fiordland', 'Galapagos', 'Gentoo',\n",
    " 'Humboldt', 'King', 'Little', 'Macaroni',\n",
    " 'Magellanic', 'Rockhopper', 'Royal', 'Yellow-eyed']\n",
    "all_heights = [28, 27, 27, \n",
    "               45, 28, 19, 32,\n",
    "               27, 37, 16, 27,\n",
    "               27, 21, 30, 30]"
   ]
  },
  {
   "cell_type": "markdown",
   "metadata": {},
   "source": [
    "#### Q. How many penguins there are? Answer by applying a built-in function"
   ]
  },
  {
   "cell_type": "code",
   "execution_count": 30,
   "metadata": {},
   "outputs": [
    {
     "name": "stdout",
     "output_type": "stream",
     "text": [
      "15\n"
     ]
    }
   ],
   "source": [
    "# REPLACE THIS WITH YOUR CODE\n",
    "print(len(all_penguins))"
   ]
  },
  {
   "cell_type": "markdown",
   "metadata": {},
   "source": [
    "#### Q. Create a list of 16 elements `extended_penguins`. \n",
    "\n",
    "* This list is a copy of `all_penguins` except for that `\"Rockhopper\"` is replaced by `\"Northern Rockhopper\"` and `\"Southern Rockhopper\"`."
   ]
  },
  {
   "cell_type": "code",
   "execution_count": 53,
   "metadata": {},
   "outputs": [
    {
     "name": "stdout",
     "output_type": "stream",
     "text": [
      "['Adelie', 'African', 'Chinstrap', 'Emperor', 'Fiordland', 'Galapagos', 'Gentoo', 'Humboldt', 'King', 'Little', 'Macaroni', 'Magellanic', 'Northern Rockhopper', 'Southern Rockhopper', 'Royal', 'Yellow-eyed']\n",
      "16\n"
     ]
    }
   ],
   "source": [
    "# REPLACE THIS WITH YOUR CODE\n",
    "all_penguins = ['Adelie', 'African', 'Chinstrap', 'Emperor', 'Fiordland', 'Galapagos', 'Gentoo', 'Humboldt', 'King', 'Little', 'Macaroni', 'Magellanic', 'Rockhopper', 'Royal', 'Yellow-eyed']\n",
    "all_heights = [28, 27, 27, 45, 28, 19, 32, 27, 37, 16, 27, 27, 21, 30, 30, 30]\n",
    "\n",
    "# Remove \"Rockhopper\"\n",
    "extended_penguins = all_penguins\n",
    "extended_penguins.pop(12)\n",
    "\n",
    "# add the two new penguins\n",
    "extended_penguins.insert(12,\"Southern Rockhopper\")\n",
    "extended_penguins.insert(12,\"Northern Rockhopper\")\n",
    "\n",
    "print(extended_penguins)\n",
    "print(len(extended_penguins))"
   ]
  },
  {
   "cell_type": "markdown",
   "metadata": {},
   "source": [
    "#### Q. Obtain the name of the smallest penguin as follows:\n",
    "\n",
    "* Use `min` to obtain the height of the smallest penguin\n",
    "* Use `index` function (see notebook F) to obtain the position of the smallest penguin\n",
    "* Use indexing operator to obtain the name of the smallest penguin"
   ]
  },
  {
   "cell_type": "code",
   "execution_count": 54,
   "metadata": {},
   "outputs": [
    {
     "name": "stdout",
     "output_type": "stream",
     "text": [
      "Little\n"
     ]
    }
   ],
   "source": [
    "# REPLACE THIS WITH YOUR CODE\n",
    "min_height = min(all_heights)\n",
    "get_index = all_heights.index(min_height)\n",
    "print(all_penguins[get_index])"
   ]
  },
  {
   "cell_type": "markdown",
   "metadata": {},
   "source": [
    "#### Q. Create a function `height_of_penguin` that takes a name and return the height of the corresponding penguin."
   ]
  },
  {
   "cell_type": "code",
   "execution_count": 55,
   "metadata": {},
   "outputs": [
    {
     "name": "stdout",
     "output_type": "stream",
     "text": [
      "16\n",
      "16\n"
     ]
    }
   ],
   "source": [
    "# REPLACE THIS WITH YOUR CODE\n",
    "print(len(all_penguins))\n",
    "print(len(all_heights))\n",
    "def is_penguin(astr):\n",
    "    #return whether a string is penguin or not\n",
    "    return astr in all_penguins\n",
    "is_penguin(\"Gentoo\")\n",
    "def height_of_penguin(astr):\n",
    "    checkthis = is_penguin(astr)\n",
    "    if checkthis == True:\n",
    "       #get index\n",
    "       the_index = all_penguins.index(astr)\n",
    "       return all_heights[the_index]\n",
    "    print(all_heights[the_index])"
   ]
  },
  {
   "cell_type": "code",
   "execution_count": 56,
   "metadata": {},
   "outputs": [
    {
     "name": "stdout",
     "output_type": "stream",
     "text": [
      "32\n",
      "45\n"
     ]
    }
   ],
   "source": [
    "print(height_of_penguin(\"Gentoo\"))   # should be 32\n",
    "print(height_of_penguin(\"Emperor\"))  # should be 45"
   ]
  },
  {
   "cell_type": "code",
   "execution_count": 57,
   "metadata": {},
   "outputs": [
    {
     "data": {
      "text/plain": [
       "[28, 27, 27, 45, 28, 19, 32, 27, 37, 16, 27, 27, 21, 30, 30, 30]"
      ]
     },
     "execution_count": 57,
     "metadata": {},
     "output_type": "execute_result"
    }
   ],
   "source": [
    "list(map(height_of_penguin, all_penguins)) # should be a list of ints"
   ]
  },
  {
   "cell_type": "markdown",
   "metadata": {},
   "source": [
    "### Q10. Create a function `penguin_classifier(bill_len, flipper_len)` that returns the species of penguins. \n",
    "\n",
    "*   A penguin is estimated to be \"Gentoo\" if its flipper length is above or equal to `210`. \n",
    "*   A penguin is estimated to be \"Chinstrap\" if its bill length is above or equal to `50`. \n",
    "*   A penguin is estimated to be \"Adelie\" if its bill length is below or equal to `40` and flipper length is below or equal to `205`. \n",
    "*   If none of them apply, return \"Indistinguishable\"\n"
   ]
  },
  {
   "cell_type": "code",
   "execution_count": 24,
   "metadata": {},
   "outputs": [],
   "source": [
    "# REPLACE THIS WITH YOUR CODE\n",
    "def penguin_classifier(bill_len, flipper_len):\n",
    "    if flipper_len >= 210:\n",
    "        return \"Gentoo\"\n",
    "    elif bill_len >= 50:\n",
    "        return \"Chinstrap\"\n",
    "    elif bill_len <= 40 and flipper_len <= 205:\n",
    "        return \"Adelie\"\n",
    "    else:\n",
    "        return \"Indistinguishable\"\n"
   ]
  },
  {
   "cell_type": "code",
   "execution_count": 25,
   "metadata": {},
   "outputs": [
    {
     "name": "stdout",
     "output_type": "stream",
     "text": [
      "Chinstrap\n",
      "Adelie\n",
      "Gentoo\n",
      "Indistinguishable\n",
      "Indistinguishable\n"
     ]
    }
   ],
   "source": [
    "print(penguin_classifier(50, 200))  # Chinstrap\n",
    "print(penguin_classifier(40, 200))  # Adelie\n",
    "print(penguin_classifier(44, 210))  # Gentoo\n",
    "print(penguin_classifier(45, 200))  # Indistinguishable\n",
    "print(penguin_classifier(48, 205))  # Indistinguishable"
   ]
  },
  {
   "cell_type": "markdown",
   "metadata": {},
   "source": [
    "### Q11. Write a function `sentiment`. This function takes a string as an input.\n",
    "\n",
    "* If the input includes both \"good\" and \"bad\", then it returns \"mixed\".\n",
    "* If the input only includes \"good\", then it returns \"happy\".\n",
    "* If the input only includes \"bad\", then it returns \"sad\".\n",
    "* If the input does not include \"good\" or \"bad\", then it returns \"neutral\"\n"
   ]
  },
  {
   "cell_type": "code",
   "execution_count": 13,
   "metadata": {},
   "outputs": [],
   "source": [
    "# REPLACE THIS WITH YOUR CODE\n",
    "def sentiment(input_string):\n",
    "    if \"good\" in input_string and \"bad\" in input_string:\n",
    "        return \"mixed\"\n",
    "    elif \"good\" in input_string:\n",
    "        return \"happy\"\n",
    "    elif \"bad\" in input_string:\n",
    "        return \"sad\"\n",
    "    else:\n",
    "        return \"neutral\"\n"
   ]
  },
  {
   "cell_type": "code",
   "execution_count": 14,
   "metadata": {},
   "outputs": [
    {
     "name": "stdout",
     "output_type": "stream",
     "text": [
      "happy\n",
      "neutral\n",
      "sad\n",
      "happy\n",
      "mixed\n"
     ]
    }
   ],
   "source": [
    "print(sentiment(\"A good day\")) # This should return \"happy\"\n",
    "print(sentiment(\"Good morning\")) # This should return \"neutral\" (capitalization matters)\n",
    "print(sentiment(\"A badman\")) # This should return \"sad\"\n",
    "print(sentiment(\"That could slow economic output as consumers cut spending on other goods to accommodate higher outlays for food.\")) # This should return \"happy\"\n",
    "print(sentiment(\"badly aligned goods\")) # This should return \"mixed\""
   ]
  }
 ],
 "metadata": {
  "colab": {
   "collapsed_sections": [
    "wfg6XEUOsF5r",
    "Su0Y4YyJ3kgD",
    "yZBLvW863khg"
   ],
   "provenance": []
  },
  "kernelspec": {
   "display_name": "Python 3 (ipykernel)",
   "language": "python",
   "name": "python3"
  },
  "language_info": {
   "codemirror_mode": {
    "name": "ipython",
    "version": 3
   },
   "file_extension": ".py",
   "mimetype": "text/x-python",
   "name": "python",
   "nbconvert_exporter": "python",
   "pygments_lexer": "ipython3",
   "version": "3.10.6"
  }
 },
 "nbformat": 4,
 "nbformat_minor": 1
}
