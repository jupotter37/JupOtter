{
 "cells": [
  {
   "cell_type": "code",
   "execution_count": 1,
   "id": "d63901ce-0160-47ab-9fab-e746e1fbc44f",
   "metadata": {},
   "outputs": [],
   "source": [
    "%load_ext autoreload\n",
    "%autoreload 2\n",
    "%matplotlib inline"
   ]
  },
  {
   "cell_type": "code",
   "execution_count": 2,
   "id": "e4e268e6-5954-49e0-b6bd-94ce23d88e34",
   "metadata": {},
   "outputs": [],
   "source": [
    "# load local version of skaro, before pip installed version, for debugging\n",
    "import os\n",
    "import pathlib\n",
    "import sys\n",
    "\n",
    "sys.path.append(str(pathlib.Path(os.getcwd()).parent.joinpath(\"src\")))"
   ]
  },
  {
   "cell_type": "code",
   "execution_count": 3,
   "id": "2c80ccda-809a-4526-9ba6-1d62124a2fdd",
   "metadata": {},
   "outputs": [],
   "source": [
    "import matplotlib.pyplot as plt\n",
    "import numpy as np\n",
    "import pandas as pd\n",
    "import seaborn as sns\n",
    "import yt\n",
    "from matplotlib.ticker import ScalarFormatter\n",
    "\n",
    "from skaro.analysis import count_planets\n",
    "from skaro.model import Model\n",
    "from skaro.utilities.dataframe import (\n",
    "    rename_labels,\n",
    "    rename_entries,\n",
    "    aggregated_dataframe,\n",
    ")\n",
    "from skaro.utilities.math import calculate_pca\n",
    "from skaro.visualization.visualization_utils import (\n",
    "    FigureProcessor,\n",
    "    adjust_legend,\n",
    "    get_palette,\n",
    "    ridgeplot,\n",
    "    set_plot_defaults,\n",
    ")"
   ]
  },
  {
   "cell_type": "markdown",
   "id": "4d25d0db-24c5-47b7-b3fe-97bb8da1f7be",
   "metadata": {},
   "source": [
    "## DATA SETUP"
   ]
  },
  {
   "cell_type": "code",
   "execution_count": 4,
   "id": "597e98bd-d2ed-427b-bc67-ac0ab427b29b",
   "metadata": {},
   "outputs": [],
   "source": [
    "snapshot = 127\n",
    "resolution = 8192\n",
    "sim_id = \"37_11\"\n",
    "num_embryos = 50\n",
    "host_star_masses = 1\n",
    "planet_categories = [\n",
    "    \"Earth\",\n",
    "    \"Super-Earth\",\n",
    "    \"Neptunian\",\n",
    "    \"Sub-Giant\",\n",
    "    \"Giant\",\n",
    "]"
   ]
  },
  {
   "cell_type": "code",
   "execution_count": 5,
   "id": "7a1ba7f2-9f0f-4707-96dc-8d10c262d3bb",
   "metadata": {},
   "outputs": [
    {
     "name": "stderr",
     "output_type": "stream",
     "text": [
      "\n",
      "      DETECTED LOCAL MACHINE: Test snapshot loaded.\n",
      "\n",
      "\n",
      "      CONFIG: Setting resolution to 4096.\n",
      "\n",
      "\n",
      "      CONFIG: Setting sim_id to 09_18.\n",
      "\n"
     ]
    },
    {
     "name": "stderr",
     "output_type": "stream",
     "text": [
      "yt : [INFO     ] 2024-03-13 16:08:24,381 Calculating time from 1.000e+00 to be 4.318e+17 seconds\n",
      "yt : [INFO     ] 2024-03-13 16:08:24,560 Parameters: current_time              = 4.318436660023809e+17 s\n",
      "yt : [INFO     ] 2024-03-13 16:08:24,560 Parameters: domain_dimensions         = [1 1 1]\n",
      "yt : [INFO     ] 2024-03-13 16:08:24,561 Parameters: domain_left_edge          = [0. 0. 0.]\n",
      "yt : [INFO     ] 2024-03-13 16:08:24,561 Parameters: domain_right_edge         = [100. 100. 100.]\n",
      "yt : [INFO     ] 2024-03-13 16:08:24,562 Parameters: cosmological_simulation   = True\n",
      "yt : [INFO     ] 2024-03-13 16:08:24,562 Parameters: current_redshift          = 4.440892098500626e-16\n",
      "yt : [INFO     ] 2024-03-13 16:08:24,564 Parameters: omega_lambda              = 0.682\n",
      "yt : [INFO     ] 2024-03-13 16:08:24,564 Parameters: omega_matter              = 0.318\n",
      "yt : [INFO     ] 2024-03-13 16:08:24,565 Parameters: omega_radiation           = 0.0\n",
      "yt : [INFO     ] 2024-03-13 16:08:24,565 Parameters: hubble_constant           = 0.6777\n",
      "\n",
      "      TIMER: Block 'Loading Hestia Snapshot...' took 0.32 seconds.\n",
      "\n",
      "\n",
      "      FIELDS: Adding field ('PartType4', 'stellar_age') field with ages in Gyr.\n",
      "\n",
      "yt : [INFO     ] 2024-03-13 16:08:24,837 Allocating for 1.92e+08 particles\n",
      "Loading particle index: 100%|██████████| 245/245 [00:00<00:00, 1969.87it/s]\n",
      "\n",
      "      FIELDS: Adding field ('PartType4', 'InitialMass'), with masses in  'code_mass'.\n",
      "\n",
      "/home/chris/Documents/Projects/skaro/src/skaro/stars.py:37: FutureWarning: Setting an item of incompatible dtype is deprecated and will raise in a future error of pandas. Value '0     3.423246\n",
      "1     3.494155\n",
      "2     3.579784\n",
      "3     3.644439\n",
      "4     3.719331\n",
      "5     3.748963\n",
      "6     3.761928\n",
      "7     3.772322\n",
      "8     3.815578\n",
      "9     3.859739\n",
      "10    3.935507\n",
      "11    4.033424\n",
      "12    4.214844\n",
      "13    4.477121\n",
      "14    4.579784\n",
      "15    4.698970\n",
      "Name: temperature, dtype: float64' has dtype incompatible with int64, please explicitly cast to a compatible dtype first.\n",
      "  self.log_stellar_parameter.iloc[:, 1:] = np.log10(\n",
      "\n",
      "      STARS: 'stars' field derives from PartType4 field in age range: [0.02, inf] Gyr.\n",
      "\n",
      "\n",
      "      TIMER: Block 'Adding Stars...' took 0.61 seconds.\n",
      "\n",
      "\n",
      "      TIMER: Block 'Adding Planets...' took 1.71 seconds.\n",
      "\n",
      "\n",
      "      TIMER: Block 'Loading Particle IDs...' took 0.25 seconds.\n",
      "\n",
      "\n",
      "      DECOMPOSITION: Loading decomposition file.\n",
      "\n",
      "\n",
      "      TIMER: Block 'Galaxy Decomposition...' took 0.12 seconds.\n",
      "\n"
     ]
    }
   ],
   "source": [
    "model = Model(\n",
    "    snapshot=snapshot,\n",
    "    resolution=resolution,\n",
    "    sim_id=sim_id,\n",
    ")\n",
    "ds = model.ds\n",
    "mw = model.halo"
   ]
  },
  {
   "cell_type": "markdown",
   "id": "89834d65-db51-456d-a9ee-0d8278a65d78",
   "metadata": {},
   "source": [
    "## PLOT SETUP"
   ]
  },
  {
   "cell_type": "code",
   "execution_count": 6,
   "id": "4d01a404-c459-4a0e-8030-bb55d7b2ad78",
   "metadata": {},
   "outputs": [],
   "source": [
    "set_plot_defaults()\n",
    "\n",
    "figure_subdirectory = f\"MilkyWayAnalogue/{model.resolution}/{model.sim_id}/{model.snapshot}/Component_populations\"\n",
    "save = False"
   ]
  },
  {
   "cell_type": "markdown",
   "id": "cf861d0e-9936-43c4-846f-1510511069fd",
   "metadata": {},
   "source": [
    "## CREATE DATASOURCE"
   ]
  },
  {
   "cell_type": "code",
   "execution_count": 7,
   "id": "e36d0061-03c2-4d23-9bad-1b404dc607ff",
   "metadata": {},
   "outputs": [],
   "source": [
    "radius = 0.2 * mw.virial_radius()\n",
    "masses = (0.3, 0.5, 1)\n",
    "components = [\"Bulge\", \"Thin Disk\", \"Thick Disk\", \"Halo\"]\n",
    "\n",
    "sphere = mw.sphere(radius=radius)"
   ]
  },
  {
   "cell_type": "markdown",
   "metadata": {},
   "source": [
    "## PLANET AGES PER COMPONENT"
   ]
  },
  {
   "cell_type": "code",
   "execution_count": 8,
   "metadata": {},
   "outputs": [],
   "source": [
    "# data = aggregated_dataframe(\n",
    "#     [\"bulge_stars\", \"thin_disk_stars\", \"thick_disk_stars\", \"halo_stars\"],\n",
    "#     [\"stellar_age\", *planet_categories],\n",
    "#     data_source=sphere,\n",
    "#     type_name=\"Component\",\n",
    "#     custom_units={\"stellar_age\": \"Gyr\"},\n",
    "# )\n",
    "# data = rename_entries(data)"
   ]
  },
  {
   "cell_type": "code",
   "execution_count": 9,
   "metadata": {},
   "outputs": [],
   "source": [
    "# # average planet age\n",
    "# data.groupby(\"Component\").apply(\n",
    "#     lambda x: np.average(\n",
    "#         x[\"stellar_age\"],\n",
    "#         weights=sum([x[type] for type in planet_categories]),\n",
    "#     ),\n",
    "#     include_groups=False,\n",
    "# ).round(decimals=1)"
   ]
  },
  {
   "cell_type": "code",
   "execution_count": 10,
   "metadata": {},
   "outputs": [],
   "source": [
    "# # planet age per type\n",
    "# planet_ages = pd.DataFrame(\n",
    "#     [\n",
    "#         data.groupby(\"Component\").apply(\n",
    "#             lambda x: np.average(\n",
    "#                 x[\"stellar_age\"],\n",
    "#                 weights=x[type],\n",
    "#             ),\n",
    "#             include_groups=False,\n",
    "#         )\n",
    "#         for type in planet_categories\n",
    "#     ],\n",
    "#     index=planet_categories,\n",
    "# ).T\n",
    "# planet_ages.round(decimals=1)"
   ]
  },
  {
   "cell_type": "markdown",
   "id": "d7aa1a8c",
   "metadata": {},
   "source": [
    "## PLANET-HOSTING FRACTION"
   ]
  },
  {
   "cell_type": "code",
   "execution_count": 11,
   "id": "a91f8ca9",
   "metadata": {},
   "outputs": [],
   "source": [
    "# fraction_dataframe = count_planets(\n",
    "#     model,\n",
    "#     lambda: mw.sphere(radius=radius),\n",
    "#     planet_categories,\n",
    "#     model_config={\"ngpps_star_masses\": 1},\n",
    "#     long_format=False,\n",
    "#     fraction=True,\n",
    "#     value_name=\"Occurence Rate\",\n",
    "# )\n",
    "# fraction_dataframe"
   ]
  },
  {
   "cell_type": "markdown",
   "id": "145ff86c-66ab-494d-a8d6-ea33d7a5d7f9",
   "metadata": {},
   "source": [
    "## OCCURENCE RATES PER COMPONENT"
   ]
  },
  {
   "cell_type": "code",
   "execution_count": 12,
   "metadata": {},
   "outputs": [
    {
     "name": "stderr",
     "output_type": "stream",
     "text": [
      "\n",
      "      CONFIG: Setting ngpps_star_masses to 0.3.\n",
      "\n"
     ]
    },
    {
     "name": "stderr",
     "output_type": "stream",
     "text": [
      "\n",
      "      TIMER: Block 'Adding Planets...' took 1.7 seconds.\n",
      "\n",
      "\n",
      "      CONFIG: Setting ngpps_star_masses to 0.5.\n",
      "\n",
      "\n",
      "      TIMER: Block 'Adding Planets...' took 1.67 seconds.\n",
      "\n"
     ]
    }
   ],
   "source": [
    "occurence_rate_dataframe = {}\n",
    "for m in masses:\n",
    "    occurence_rate_dataframe[m] = count_planets(\n",
    "        model,\n",
    "        lambda: mw.sphere(radius=radius),\n",
    "        planet_categories,\n",
    "        normalize_by=\"planet_hosting_number\",\n",
    "        model_config={\"ngpps_star_masses\": m},\n",
    "        long_format=False,\n",
    "        value_name=\"Occurence Rate\",\n",
    "    )\n",
    "\n",
    "occurence_rate_long_format = {\n",
    "    m: occurence_rate_dataframe[m].melt(\n",
    "        id_vars=\"Component\",\n",
    "        var_name=\"Planet Type\",\n",
    "        value_name=\"Occurence Rate\",\n",
    "    )\n",
    "    for m in masses\n",
    "}"
   ]
  },
  {
   "cell_type": "code",
   "execution_count": null,
   "id": "11d9620d-8335-424a-b011-e74e95de080a",
   "metadata": {},
   "outputs": [],
   "source": [
    "# def barplot(occurence_rate_long_format, host_star_mass):\n",
    "#     plt.figure()\n",
    "#     with sns.axes_style(\"ticks\"):\n",
    "#         occurence_rate_barplot = sns.barplot(\n",
    "#             data=occurence_rate_long_format,\n",
    "#             x=\"Planet Type\",\n",
    "#             y=\"Occurence Rate\",\n",
    "#             hue=\"Component\",\n",
    "#             hue_order=components,\n",
    "#             # log=True,\n",
    "#             palette=get_palette(),\n",
    "#         )\n",
    "#     occurence_rate_barplot.set_xlabel(\"\")\n",
    "\n",
    "#     FigureProcessor(occurence_rate_barplot.figure).save(\n",
    "#         f\"occurence_rates_with_host_star_mass={host_star_mass}.pdf\",\n",
    "#         sub_directory=figure_subdirectory,\n",
    "#         save=save,\n",
    "#     )\n",
    "\n",
    "\n",
    "# for m in masses:\n",
    "#     plot = barplot(occurence_rate_long_format[m], host_star_mass=m)"
   ]
  },
  {
   "cell_type": "code",
   "execution_count": null,
   "metadata": {},
   "outputs": [
    {
     "ename": "NameError",
     "evalue": "name 'occurence_rate_dataframe' is not defined",
     "output_type": "error",
     "traceback": [
      "\u001b[0;31m---------------------------------------------------------------------------\u001b[0m",
      "\u001b[0;31mNameError\u001b[0m                                 Traceback (most recent call last)",
      "Cell \u001b[0;32mIn[14], line 4\u001b[0m\n\u001b[1;32m      1\u001b[0m \u001b[38;5;66;03m# create table of occurence rates\u001b[39;00m\n\u001b[1;32m      2\u001b[0m occurence_rate_combined \u001b[38;5;241m=\u001b[39m {}\n\u001b[0;32m----> 4\u001b[0m \u001b[38;5;28;01mfor\u001b[39;00m key, value \u001b[38;5;129;01min\u001b[39;00m \u001b[43moccurence_rate_dataframe\u001b[49m\u001b[38;5;241m.\u001b[39mitems():\n\u001b[1;32m      5\u001b[0m     dataframe \u001b[38;5;241m=\u001b[39m value\u001b[38;5;241m.\u001b[39mcopy()\n\u001b[1;32m      7\u001b[0m     \u001b[38;5;66;03m# transpose dataframe\u001b[39;00m\n",
      "\u001b[0;31mNameError\u001b[0m: name 'occurence_rate_dataframe' is not defined"
     ]
    }
   ],
   "source": [
    "# create table of occurence rates\n",
    "occurence_rate_combined = {}\n",
    "\n",
    "for key, value in occurence_rate_dataframe.items():\n",
    "    dataframe = value.copy()\n",
    "\n",
    "    # transpose dataframe\n",
    "    dataframe.set_index(\"Component\", inplace=True)\n",
    "    dataframe.index.name = None\n",
    "    dataframe = dataframe.T\n",
    "\n",
    "    dataframe = dataframe[components]  # reorder columns\n",
    "\n",
    "    occurence_rate_combined[key] = dataframe\n",
    "\n",
    "pd.concat(occurence_rate_combined, names=[r\"$M_\\star$\"]).round(decimals=3)"
   ]
  },
  {
   "cell_type": "code",
   "execution_count": null,
   "id": "8d989217",
   "metadata": {},
   "outputs": [
    {
     "data": {
      "text/html": [
       "<div>\n",
       "<style scoped>\n",
       "    .dataframe tbody tr th:only-of-type {\n",
       "        vertical-align: middle;\n",
       "    }\n",
       "\n",
       "    .dataframe tbody tr th {\n",
       "        vertical-align: top;\n",
       "    }\n",
       "\n",
       "    .dataframe thead th {\n",
       "        text-align: right;\n",
       "    }\n",
       "</style>\n",
       "<table border=\"1\" class=\"dataframe\">\n",
       "  <thead>\n",
       "    <tr style=\"text-align: right;\">\n",
       "      <th></th>\n",
       "      <th></th>\n",
       "      <th>Bulge</th>\n",
       "      <th>Thin Disk</th>\n",
       "      <th>Thick Disk</th>\n",
       "      <th>Halo</th>\n",
       "    </tr>\n",
       "    <tr>\n",
       "      <th></th>\n",
       "      <th>$M_\\star$</th>\n",
       "      <th></th>\n",
       "      <th></th>\n",
       "      <th></th>\n",
       "      <th></th>\n",
       "    </tr>\n",
       "  </thead>\n",
       "  <tbody>\n",
       "    <tr>\n",
       "      <th rowspan=\"3\" valign=\"top\">Earth</th>\n",
       "      <th>0.3</th>\n",
       "      <td>4.901</td>\n",
       "      <td>5.067</td>\n",
       "      <td>4.468</td>\n",
       "      <td>4.621</td>\n",
       "    </tr>\n",
       "    <tr>\n",
       "      <th>0.5</th>\n",
       "      <td>4.740</td>\n",
       "      <td>5.028</td>\n",
       "      <td>4.689</td>\n",
       "      <td>4.859</td>\n",
       "    </tr>\n",
       "    <tr>\n",
       "      <th>1.0</th>\n",
       "      <td>4.080</td>\n",
       "      <td>4.047</td>\n",
       "      <td>5.502</td>\n",
       "      <td>5.236</td>\n",
       "    </tr>\n",
       "    <tr>\n",
       "      <th rowspan=\"3\" valign=\"top\">Giant</th>\n",
       "      <th>0.3</th>\n",
       "      <td>0.000</td>\n",
       "      <td>0.000</td>\n",
       "      <td>0.000</td>\n",
       "      <td>0.000</td>\n",
       "    </tr>\n",
       "    <tr>\n",
       "      <th>0.5</th>\n",
       "      <td>0.016</td>\n",
       "      <td>0.018</td>\n",
       "      <td>0.003</td>\n",
       "      <td>0.004</td>\n",
       "    </tr>\n",
       "    <tr>\n",
       "      <th>1.0</th>\n",
       "      <td>0.286</td>\n",
       "      <td>0.286</td>\n",
       "      <td>0.020</td>\n",
       "      <td>0.062</td>\n",
       "    </tr>\n",
       "    <tr>\n",
       "      <th rowspan=\"3\" valign=\"top\">Neptunian</th>\n",
       "      <th>0.3</th>\n",
       "      <td>0.102</td>\n",
       "      <td>0.109</td>\n",
       "      <td>0.071</td>\n",
       "      <td>0.079</td>\n",
       "    </tr>\n",
       "    <tr>\n",
       "      <th>0.5</th>\n",
       "      <td>0.299</td>\n",
       "      <td>0.357</td>\n",
       "      <td>0.056</td>\n",
       "      <td>0.094</td>\n",
       "    </tr>\n",
       "    <tr>\n",
       "      <th>1.0</th>\n",
       "      <td>0.535</td>\n",
       "      <td>0.562</td>\n",
       "      <td>0.128</td>\n",
       "      <td>0.209</td>\n",
       "    </tr>\n",
       "    <tr>\n",
       "      <th rowspan=\"3\" valign=\"top\">Sub-Giant</th>\n",
       "      <th>0.3</th>\n",
       "      <td>0.013</td>\n",
       "      <td>0.014</td>\n",
       "      <td>0.003</td>\n",
       "      <td>0.004</td>\n",
       "    </tr>\n",
       "    <tr>\n",
       "      <th>0.5</th>\n",
       "      <td>0.059</td>\n",
       "      <td>0.066</td>\n",
       "      <td>0.008</td>\n",
       "      <td>0.010</td>\n",
       "    </tr>\n",
       "    <tr>\n",
       "      <th>1.0</th>\n",
       "      <td>0.120</td>\n",
       "      <td>0.130</td>\n",
       "      <td>0.018</td>\n",
       "      <td>0.039</td>\n",
       "    </tr>\n",
       "    <tr>\n",
       "      <th rowspan=\"3\" valign=\"top\">Super-Earth</th>\n",
       "      <th>0.3</th>\n",
       "      <td>1.997</td>\n",
       "      <td>2.062</td>\n",
       "      <td>1.708</td>\n",
       "      <td>1.759</td>\n",
       "    </tr>\n",
       "    <tr>\n",
       "      <th>0.5</th>\n",
       "      <td>2.824</td>\n",
       "      <td>3.383</td>\n",
       "      <td>1.066</td>\n",
       "      <td>1.428</td>\n",
       "    </tr>\n",
       "    <tr>\n",
       "      <th>1.0</th>\n",
       "      <td>3.779</td>\n",
       "      <td>4.100</td>\n",
       "      <td>2.615</td>\n",
       "      <td>2.988</td>\n",
       "    </tr>\n",
       "  </tbody>\n",
       "</table>\n",
       "</div>"
      ],
      "text/plain": [
       "                       Bulge  Thin Disk  Thick Disk   Halo\n",
       "            $M_\\star$                                     \n",
       "Earth       0.3        4.901      5.067       4.468  4.621\n",
       "            0.5        4.740      5.028       4.689  4.859\n",
       "            1.0        4.080      4.047       5.502  5.236\n",
       "Giant       0.3        0.000      0.000       0.000  0.000\n",
       "            0.5        0.016      0.018       0.003  0.004\n",
       "            1.0        0.286      0.286       0.020  0.062\n",
       "Neptunian   0.3        0.102      0.109       0.071  0.079\n",
       "            0.5        0.299      0.357       0.056  0.094\n",
       "            1.0        0.535      0.562       0.128  0.209\n",
       "Sub-Giant   0.3        0.013      0.014       0.003  0.004\n",
       "            0.5        0.059      0.066       0.008  0.010\n",
       "            1.0        0.120      0.130       0.018  0.039\n",
       "Super-Earth 0.3        1.997      2.062       1.708  1.759\n",
       "            0.5        2.824      3.383       1.066  1.428\n",
       "            1.0        3.779      4.100       2.615  2.988"
      ]
     },
     "execution_count": 20,
     "metadata": {},
     "output_type": "execute_result"
    }
   ],
   "source": [
    "# switch indices around to compare it on a planet-type basis\n",
    "pd.concat(occurence_rate_combined, names=[r\"$M_\\star$\"]).swaplevel(\n",
    "    0, 1\n",
    ").sort_index().round(decimals=3)"
   ]
  },
  {
   "cell_type": "code",
   "execution_count": null,
   "id": "243e957a",
   "metadata": {},
   "outputs": [],
   "source": [
    "print(  # switch indices around to compare it on a planet-type basis\n",
    "    pd.concat(occurence_rate_combined, names=[r\"$M_\\star$\"])\n",
    "    .swaplevel(0, 1)\n",
    "    .sort_index()\n",
    "    .round(decimals=3)\n",
    ")"
   ]
  }
 ],
 "metadata": {
  "kernelspec": {
   "display_name": "Python 3 (ipykernel)",
   "language": "python",
   "name": "python3"
  },
  "language_info": {
   "codemirror_mode": {
    "name": "ipython",
    "version": 3
   },
   "file_extension": ".py",
   "mimetype": "text/x-python",
   "name": "python",
   "nbconvert_exporter": "python",
   "pygments_lexer": "ipython3",
   "version": "3.10.13"
  }
 },
 "nbformat": 4,
 "nbformat_minor": 5
}
