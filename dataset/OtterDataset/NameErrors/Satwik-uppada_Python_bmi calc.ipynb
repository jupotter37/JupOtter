{
 "cells": [
  {
   "attachments": {},
   "cell_type": "markdown",
   "metadata": {},
   "source": [
    "# BMI Calculater"
   ]
  },
  {
   "cell_type": "code",
   "execution_count": 1,
   "metadata": {},
   "outputs": [],
   "source": [
    "# Data will be input by the user\n",
    "name=input(\"Enter the Name: \\n\")                   # user name(by default python consider input as string so we no need to give data type specially)\n",
    "\n",
    "age=int(input(\"Enter age: \\n\"))                    # user age(by default python consider input as string .but age must in integer so that we need to give int() method\n",
    "                                                   # while inputing the data so that compiler take it as int value)\n",
    "\n",
    "gender=input(\"Enter Gender: \\n\")                   # user gender(by default python consider input as string so we no need to give data type specially)\n",
    "\n",
    "height=float(input(\"Enter Height(in inches): \\n\")) # user height(by default python consider input as string .but height must in float so that we need to give float() method\n",
    "                                                   # while inputing the data so that compiler take it as float value;because height in inches might be in decimal points as well)\n",
    "\n",
    "weight=float(input(\"Enter Weight(in pounds): \\n\")) # user weight(by default python consider input as string .but weight must in float so that we need to give float() method\n",
    "                                                   # while inputing the data so that compiler take it as float value;because weight in pound might be in decimal points as well)\n"
   ]
  },
  {
   "cell_type": "code",
   "execution_count": 5,
   "metadata": {},
   "outputs": [],
   "source": [
    "milk=float(input(\"Enter how much quantity of milk will child take daily(in grams): \\n\"))             # Taking milk quantity intake in a day \n",
    "egg=float(input(\"Enter how much quantity of egg will child take daily(in grams): \\n\"))               # Taking egg quantity intake in a day\n",
    "rice=float(input(\"Enter how much quantity of rice will child take daily(in grams): \\n\"))             # Taking rice quantity intake in a day\n",
    "lentils=float(input(\"Enter how much quantity of lentils will child take daily(in grams): \\n\"))       # Taking ventils quantity intake in a day\n",
    "vegetables=float(input(\"Enter how much quantity of vegetables will child take daily(in grams): \\n\")) # Taking vegetables quantity intake in a day\n",
    "meat=float(input(\"Enter how much quantity of meat will child take daily(in grams): \\n\"))             # Taking meat quantity intake in a day"
   ]
  },
  {
   "cell_type": "code",
   "execution_count": 6,
   "metadata": {},
   "outputs": [
    {
     "name": "stdout",
     "output_type": "stream",
     "text": [
      "Calorie consumption of milk is 100 cal/100 g\n",
      "Daily calories consumption of milk is 200.0 \n"
     ]
    }
   ],
   "source": [
    "if milk>0:\n",
    "    print(\"Calorie consumption of milk is 100 cal/100 g\")\n",
    "    milk_cal=(milk*100)/100\n",
    "    print(\"Daily calories consumption of milk is {} \".format(milk_cal))\n",
    "\n",
    "else:\n",
    "    print(\"{} must drink milk daily\".format(name))"
   ]
  },
  {
   "cell_type": "code",
   "execution_count": 7,
   "metadata": {},
   "outputs": [
    {
     "name": "stdout",
     "output_type": "stream",
     "text": [
      "Calorie consumption of egg is 155 cal/100 g\n",
      "Daily calories consumption of egg is 310.0 \n"
     ]
    }
   ],
   "source": [
    "if egg>0:\n",
    "    print(\"Calorie consumption of egg is 155 cal/100 g\")\n",
    "    egg_cal=(egg*155)/100\n",
    "    print(\"Daily calories consumption of egg is {} \".format(egg_cal))\n",
    "\n",
    "else:\n",
    "    print(\"{} must eat egg daily\".format(name))"
   ]
  },
  {
   "cell_type": "code",
   "execution_count": 8,
   "metadata": {},
   "outputs": [
    {
     "name": "stdout",
     "output_type": "stream",
     "text": [
      "Calorie consumption of rice is 130 cal/100 g\n",
      "Daily calories consumption of rice is 260.0 \n"
     ]
    }
   ],
   "source": [
    "if rice>0:\n",
    "    print(\"Calorie consumption of rice is 130 cal/100 g\")\n",
    "    rice_cal=(rice*130)/100\n",
    "    print(\"Daily calories consumption of rice is {} \".format(rice_cal))\n",
    "\n",
    "else:\n",
    "    print(\"{} must eat rice daily\".format(name))"
   ]
  },
  {
   "cell_type": "code",
   "execution_count": 9,
   "metadata": {},
   "outputs": [
    {
     "name": "stdout",
     "output_type": "stream",
     "text": [
      "Calorie consumption of lentils is 113 cal/100gm\n",
      "Daily calories consumption of lentils is 226.0 \n"
     ]
    }
   ],
   "source": [
    "if lentils>0:\n",
    "    print(\"Calorie consumption of lentils is 113 cal/100gm\")\n",
    "    lentils_cal=(lentils*113)/100\n",
    "    print(\"Daily calories consumption of lentils is {} \".format(lentils_cal))\n",
    "\n",
    "else:\n",
    "    print(\"{} must eat lentils daily\".format(name))"
   ]
  },
  {
   "cell_type": "code",
   "execution_count": 10,
   "metadata": {},
   "outputs": [
    {
     "name": "stdout",
     "output_type": "stream",
     "text": [
      "Calorie consumption of vegetables is 85 cal/100gm\n",
      "Daily calories consumption of vegetables is 425.0 \n"
     ]
    }
   ],
   "source": [
    "if vegetables>0:\n",
    "    print(\"Calorie consumption of vegetables is 85 cal/100gm\")\n",
    "    veg_cal=(vegetables*85)/100\n",
    "    print(\"Daily calories consumption of vegetables is {} \".format(veg_cal))\n",
    "\n",
    "else:\n",
    "    print(\"{} must eat vegetables daily\".format(name))"
   ]
  },
  {
   "cell_type": "code",
   "execution_count": 11,
   "metadata": {},
   "outputs": [
    {
     "name": "stdout",
     "output_type": "stream",
     "text": [
      "Calorie consumption of vegetables is 143 cal/100gm\n",
      "Daily calories consumption of meat is 429.0 \n"
     ]
    }
   ],
   "source": [
    "if meat>0:\n",
    "    print(\"Calorie consumption of vegetables is 143 cal/100gm\")\n",
    "    meat_cal=(meat*143)/100\n",
    "    print(\"Daily calories consumption of meat is {} \".format(meat_cal))\n",
    "\n",
    "else:\n",
    "    print(\"{} must eat meat daily\".format(name))"
   ]
  },
  {
   "cell_type": "code",
   "execution_count": 12,
   "metadata": {},
   "outputs": [],
   "source": [
    "daily_cal=milk_cal+egg_cal+rice_cal+lentils_cal+veg_cal+meat_cal\n"
   ]
  },
  {
   "cell_type": "code",
   "execution_count": 15,
   "metadata": {},
   "outputs": [
    {
     "name": "stdout",
     "output_type": "stream",
     "text": [
      "Minimum calories required to this age group children's are 1800 calories per day\n",
      "daily calories consumptions of your child(satwik) is 1850.0\n",
      "Your child(satwik) need to consume less calories according to age group.\n",
      "It may leads to increase body weight. Please maintain balanced diet.\n",
      "satwik need to  reduce 50.0 calories per day\n"
     ]
    }
   ],
   "source": [
    "if age>0 and age<=2:\n",
    "    print(\"Minimum calories required to this age group children's are 800 calories per day\")\n",
    "    print(\"daily calories consumptions of your child({}) is {}\".format(name,daily_cal))\n",
    "\n",
    "    if daily_cal<800:\n",
    "        required_cal=800-daily_cal\n",
    "        print(\"Your child({}) need to consume more calories according to age group.\".format(name))\n",
    "        print(\"{} need to consume {} more calories per day\".format(name,required_cal))\n",
    "    elif daily_cal==800:\n",
    "        print(\"Your child ({}) reached minimum amount of calorie consumption per day \".format(name))\n",
    "        print(\"Congrat's...! Maintain this :)\")\n",
    "    else:\n",
    "        excess_cal=daily_cal-800\n",
    "        print(\"Your child({}) need to consume less calories according to age group.\".format(name))\n",
    "        print(\"It may leads to increase body weight. Please maintain balanced diet.\")\n",
    "        print(\"{} need to reduce {} calories per day\".format(name,excess_cal))\n",
    "\n",
    "elif age>2 and age<=4:\n",
    "    print(\"Minimum calories required to this age group children's are 1400 calories per day\")\n",
    "    print(\"daily calories consumptions of your child({}) is {}\".format(name,daily_cal))\n",
    "\n",
    "    if daily_cal<1400:\n",
    "        required_cal=1400-daily_cal\n",
    "        print(\"Your child({}) need to consume more calories according to age group.\".format(name))\n",
    "        print(\"{} need to consume {} more calories per day\".format(name,required_cal))\n",
    "    elif daily_cal==1400:\n",
    "        print(\"Your child ({}) reached minimum amount of calorie consumption per day \")\n",
    "        print(\"Congrat's...! Maintain this :)\")\n",
    "    else:\n",
    "        excess_cal=daily_cal-1400\n",
    "        print(\"Your child({}) need to consume less calories according to age group.\".format(name))\n",
    "        print(\"It may leads to increase body weight. Please maintain balanced diet.\")\n",
    "        print(\"{} need to reduce {} calories per day\".format(name,excess_cal))\n",
    "\n",
    "\n",
    "elif age>4 and age<=8:\n",
    "    print(\"Minimum calories required to this age group children's are 1800 calories per day\")\n",
    "    print(\"daily calories consumptions of your child({}) is {}\".format(name,daily_cal))\n",
    "\n",
    "    if daily_cal<1800:\n",
    "        required_cal=1800-daily_cal\n",
    "        print(\"Your child({}) need to consume more calories according to age group.\".format(name))\n",
    "        print(\"{} need to consume {} more calories per day\".format(name,required_cal))\n",
    "    elif daily_cal==1800:\n",
    "        print(\"Your child ({}) reached minimum amount of calorie consumption per day \".format(name))\n",
    "        print(\"Congrat's...! Maintain this :)\")\n",
    "    else:\n",
    "        excess_cal=daily_cal-1800\n",
    "        print(\"Your child({}) need to consume less calories according to age group.\".format(name))\n",
    "        print(\"It may leads to increase body weight. Please maintain balanced diet.\")\n",
    "        print(\"{} need to  reduce {} calories per day\".format(name,excess_cal))\n",
    "else:\n",
    "    print(\"Sorry..! This calculater is used to calculate BMI of children upto 8 years only\")"
   ]
  },
  {
   "cell_type": "code",
   "execution_count": 22,
   "metadata": {},
   "outputs": [
    {
     "name": "stdout",
     "output_type": "stream",
     "text": [
      "BMI is : 1.46 \n"
     ]
    }
   ],
   "source": [
    "BMI=weight/(height**2)*703\n",
    "print(\"BMI is : %0.2f \"%BMI)\n",
    "\n"
   ]
  },
  {
   "cell_type": "code",
   "execution_count": 17,
   "metadata": {},
   "outputs": [
    {
     "name": "stdout",
     "output_type": "stream",
     "text": [
      "It's difficult to say that 'satwik' is severly Underweight.\n"
     ]
    }
   ],
   "source": [
    "if BMI<16:\n",
    "    print(\"It's difficult to say that '{}' is severly Underweight.\".format(name))\n",
    "elif BMI>=16 and BMI<18.5:\n",
    "    print(\"It's difficult to say that '{}' is underweight\".format(name))\n",
    "elif BMI>=18.5 and BMI<25:\n",
    "    print(\"Congrats.. !,{} is healthy\".format(name))\n",
    "elif BMI>=25 and BMI<30:\n",
    "    print(\"It's difficult to say that '{}' is overweight\".format(name))\n",
    "elif BMI>=30:\n",
    "    print(\"It's difficult to say that '{}' is obese\".format(name))"
   ]
  },
  {
   "cell_type": "code",
   "execution_count": 23,
   "metadata": {},
   "outputs": [
    {
     "data": {
      "text/plain": [
       "'s'"
      ]
     },
     "execution_count": 23,
     "metadata": {},
     "output_type": "execute_result"
    }
   ],
   "source": [
    "t = (\"disco\", 12, 4.5)\n",
    "t[0][2]"
   ]
  },
  {
   "cell_type": "code",
   "execution_count": 27,
   "metadata": {},
   "outputs": [
    {
     "name": "stdout",
     "output_type": "stream",
     "text": [
      "4\n"
     ]
    }
   ],
   "source": [
    "t=(1,2,4,3)\n",
    "print(len(t))\n"
   ]
  },
  {
   "cell_type": "code",
   "execution_count": 31,
   "metadata": {},
   "outputs": [
    {
     "data": {
      "text/plain": [
       "str"
      ]
     },
     "execution_count": 31,
     "metadata": {},
     "output_type": "execute_result"
    }
   ],
   "source": [
    "x=('2')\n",
    "type(x)"
   ]
  },
  {
   "cell_type": "code",
   "execution_count": 30,
   "metadata": {},
   "outputs": [
    {
     "data": {
      "text/plain": [
       "tuple"
      ]
     },
     "execution_count": 30,
     "metadata": {},
     "output_type": "execute_result"
    }
   ],
   "source": [
    "x=1,2,\n",
    "type(x)"
   ]
  },
  {
   "cell_type": "code",
   "execution_count": 32,
   "metadata": {},
   "outputs": [
    {
     "data": {
      "text/plain": [
       "tuple"
      ]
     },
     "execution_count": 32,
     "metadata": {},
     "output_type": "execute_result"
    }
   ],
   "source": [
    "x=((1,2,3),4,5)\n",
    "type(x)"
   ]
  },
  {
   "cell_type": "code",
   "execution_count": 33,
   "metadata": {},
   "outputs": [
    {
     "ename": "NameError",
     "evalue": "name 'Hello' is not defined",
     "output_type": "error",
     "traceback": [
      "\u001b[1;31m---------------------------------------------------------------------------\u001b[0m",
      "\u001b[1;31mNameError\u001b[0m                                 Traceback (most recent call last)",
      "\u001b[1;32mc:\\Users\\uppada satwik\\Downloads\\INT215\\programs\\python\\bmi calc.ipynb Cell 19\u001b[0m in \u001b[0;36m<cell line: 1>\u001b[1;34m()\u001b[0m\n\u001b[1;32m----> <a href='vscode-notebook-cell:/c%3A/Users/uppada%20satwik/Downloads/INT215/programs/python/bmi%20calc.ipynb#X26sZmlsZQ%3D%3D?line=0'>1</a>\u001b[0m x\u001b[39m=\u001b[39m(Hello,\u001b[39m\"\u001b[39m\u001b[39m3\u001b[39m\u001b[39m\"\u001b[39m,\u001b[39m\"\u001b[39m\u001b[39m4\u001b[39m\u001b[39m\"\u001b[39m)\n\u001b[0;32m      <a href='vscode-notebook-cell:/c%3A/Users/uppada%20satwik/Downloads/INT215/programs/python/bmi%20calc.ipynb#X26sZmlsZQ%3D%3D?line=1'>2</a>\u001b[0m \u001b[39mtype\u001b[39m(x)\n",
      "\u001b[1;31mNameError\u001b[0m: name 'Hello' is not defined"
     ]
    }
   ],
   "source": [
    "\n",
    "x=(Hello,\"3\",\"4\")\n",
    "type(x)"
   ]
  }
 ],
 "metadata": {
  "kernelspec": {
   "display_name": "Python 3",
   "language": "python",
   "name": "python3"
  },
  "language_info": {
   "codemirror_mode": {
    "name": "ipython",
    "version": 3
   },
   "file_extension": ".py",
   "mimetype": "text/x-python",
   "name": "python",
   "nbconvert_exporter": "python",
   "pygments_lexer": "ipython3",
   "version": "3.10.5 (tags/v3.10.5:f377153, Jun  6 2022, 16:14:13) [MSC v.1929 64 bit (AMD64)]"
  },
  "orig_nbformat": 4,
  "vscode": {
   "interpreter": {
    "hash": "26de051ba29f2982a8de78e945f0abaf191376122a1563185a90213a26c5da77"
   }
  }
 },
 "nbformat": 4,
 "nbformat_minor": 2
}
