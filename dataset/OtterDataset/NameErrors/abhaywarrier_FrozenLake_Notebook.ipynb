{
 "cells": [
  {
   "cell_type": "code",
   "execution_count": 2,
   "metadata": {},
   "outputs": [
    {
     "name": "stdout",
     "output_type": "stream",
     "text": [
      "Requirement already satisfied: gymnasium in c:\\users\\abhay\\appdata\\local\\programs\\python\\python310\\lib\\site-packages (0.29.1)\n",
      "Requirement already satisfied: numpy>=1.21.0 in c:\\users\\abhay\\appdata\\local\\programs\\python\\python310\\lib\\site-packages (from gymnasium) (1.23.1)\n",
      "Requirement already satisfied: cloudpickle>=1.2.0 in c:\\users\\abhay\\appdata\\local\\programs\\python\\python310\\lib\\site-packages (from gymnasium) (2.2.1)\n",
      "Requirement already satisfied: typing-extensions>=4.3.0 in c:\\users\\abhay\\appdata\\local\\programs\\python\\python310\\lib\\site-packages (from gymnasium) (4.8.0)\n",
      "Requirement already satisfied: farama-notifications>=0.0.1 in c:\\users\\abhay\\appdata\\local\\programs\\python\\python310\\lib\\site-packages (from gymnasium) (0.0.4)\n",
      "Note: you may need to restart the kernel to use updated packages.\n"
     ]
    }
   ],
   "source": [
    "%pip install gymnasium"
   ]
  },
  {
   "cell_type": "code",
   "execution_count": 10,
   "metadata": {},
   "outputs": [],
   "source": [
    "import gymnasium as gym \n",
    "\n",
    "def run():\n",
    "\n",
    "    env = gym.make('FrozenLake-v1', map_name= '4x4', is_slippery= False, render_mode= 'human')\n",
    "\n",
    "    state = env.reset()\n",
    "    truncated = False\n",
    "    terminated = False\n",
    "\n",
    "    while(not truncated and not terminated):\n",
    "\n",
    "        action = env.action_space.sample() # A random action is being taken\n",
    "\n",
    "        new_state, reward, terminated, truncated, _ = env.step(action)\n",
    "\n",
    "        state = new_state\n",
    "\n",
    "    env.close()"
   ]
  },
  {
   "cell_type": "code",
   "execution_count": 11,
   "metadata": {},
   "outputs": [],
   "source": [
    "run()"
   ]
  },
  {
   "cell_type": "code",
   "execution_count": 34,
   "metadata": {},
   "outputs": [],
   "source": [
    "import numpy as np\n",
    "import pickle\n",
    "import gymnasium as gym\n",
    "import matplotlib.pyplot as plt\n",
    "\n",
    "def run_q(episodes, is_training= True, render=False):\n",
    "\n",
    "    env = gym.make('FrozenLake-v1', map_name='4x4' , is_slippery=False, render_mode='human' if render else None)\n",
    "\n",
    "    if(is_training):\n",
    "        q = np.zeros((env.observation_space.n, env.action_space.n))\n",
    "    else: \n",
    "        f = open('frozen_lake4x4_qTable.pkl', 'rb')\n",
    "        q = pickle.load(f)\n",
    "        f.close()\n",
    "\n",
    "    learning_rate = 0.9\n",
    "    discount_factor = 0.9\n",
    "\n",
    "    epsilon = 1\n",
    "    epsilon_decay = 0.001\n",
    "    rng = np.random.default_rng()\n",
    "\n",
    "    rewards_per_episode = np.zeros(episodes)\n",
    "\n",
    "    for episode in range(episodes):\n",
    "        state = env.reset()[0]\n",
    "        truncated = False\n",
    "        terminated = False\n",
    "\n",
    "        while (not truncated and not terminated):\n",
    "            if is_training and  rng.random() < epsilon:\n",
    "                action = env.action_space.sample()  # A random action is being taken\n",
    "\n",
    "            else:\n",
    "                action = np.argmax(q[state, :])\n",
    "\n",
    "            new_state, reward, terminated, truncated, _ = env.step(action)\n",
    "\n",
    "            if is_training:\n",
    "                q[state, action] = q[state, action] + learning_rate * (\n",
    "                        reward + discount_factor * np.max(q[new_state, :]) - q[state, action]\n",
    "                )\n",
    "\n",
    "            state = new_state\n",
    "\n",
    "        epsilon = max(epsilon - epsilon_decay, 0)\n",
    "\n",
    "        if epsilon == 0:\n",
    "            learning_rate = 0.0001\n",
    "\n",
    "        if reward == 1:\n",
    "            rewards_per_episode[episode] = 1\n",
    "\n",
    "    env.close()\n",
    "\n",
    "    sum_rewards = np.zeros(episodes)\n",
    "    for t in range(episodes):\n",
    "        sum_rewards[t] = np.sum(rewards_per_episode[max(0, t-100):(t+1)])\n",
    "    plt.plot(sum_rewards)\n",
    "    plt.savefig('frozen_lake4x4.png')\n",
    "\n",
    "    if is_training:\n",
    "        f = open('frozen_lake4x4_qTable.pkl', \"wb\")\n",
    "        pickle.dump(q, f)\n",
    "        f.close()"
   ]
  },
  {
   "cell_type": "code",
   "execution_count": 36,
   "metadata": {},
   "outputs": [
    {
     "data": {
      "image/png": "[encoded data removed]",
      "text/plain": [
       "<Figure size 432x288 with 1 Axes>"
      ]
     },
     "metadata": {
      "needs_background": "light"
     },
     "output_type": "display_data"
    }
   ],
   "source": [
    "run_q(1, is_training= False, render=True)"
   ]
  },
  {
   "cell_type": "code",
   "execution_count": 29,
   "metadata": {},
   "outputs": [],
   "source": [
    "import numpy as np\n",
    "import pickle\n",
    "import gymnasium as gym\n",
    "import matplotlib.pyplot as plt\n",
    "\n",
    "def run_q(episodes, is_training= True, render=False):\n",
    "\n",
    "    env = gym.make('FrozenLake-v1', map_name='8x8' , is_slippery=False, render_mode='human' if render else None)\n",
    "    if(is_training):\n",
    "        q = np.zeros((env.observation_space.n, env.action_space.n))\n",
    "    else: \n",
    "        f = open('frozen_lake8x8_qTable.pkl', 'rb')\n",
    "        q = pickle.load(f)\n",
    "        f.close()\n",
    "\n",
    "    learning_rate = 0.9\n",
    "    discount_factor = 0.9\n",
    "\n",
    "    epsilon = 1\n",
    "    epsilon_decay = 0.0001\n",
    "    rng = np.random.default_rng()\n",
    "\n",
    "    rewards_per_episode = np.zeros(episodes)\n",
    "\n",
    "    for episode in range(episodes):\n",
    "        state = env.reset()[0]\n",
    "        truncated = False\n",
    "        terminated = False\n",
    "\n",
    "        while (not truncated and not terminated):\n",
    "            if is_training and  rng.random() < epsilon:\n",
    "                action = env.action_space.sample()  # A random action is being taken\n",
    "\n",
    "            else:\n",
    "                action = np.argmax(q[state, :])\n",
    "\n",
    "            new_state, reward, terminated, truncated, _ = env.step(action)\n",
    "\n",
    "            if is_training:\n",
    "                q[state, action] = q[state, action] + learning_rate * (\n",
    "                        reward + discount_factor * np.max(q[new_state, :]) - q[state, action]\n",
    "                )\n",
    "\n",
    "            state = new_state\n",
    "\n",
    "        epsilon = max(epsilon - epsilon_decay, 0)\n",
    "\n",
    "        if epsilon == 0:\n",
    "            learning_rate = 0.0001\n",
    "\n",
    "        if reward == 1:\n",
    "            rewards_per_episode[episode] = 1\n",
    "\n",
    "    env.close()\n",
    "\n",
    "    sum_rewards = np.zeros(episodes)\n",
    "    for t in range(episodes):\n",
    "        sum_rewards[t] = np.sum(rewards_per_episode[max(0, t-100):(t+1)])\n",
    "    plt.plot(sum_rewards)\n",
    "    plt.savefig('frozen_lake8x8.png')\n",
    "\n",
    "    if is_training:\n",
    "        f = open('frozen_lake8x8_qTable.pkl', \"wb\")\n",
    "        pickle.dump(q, f)\n",
    "        f.close()"
   ]
  },
  {
   "cell_type": "code",
   "execution_count": 23,
   "metadata": {},
   "outputs": [
    {
     "data": {
      "image/png": "[encoded data removed]",
      "text/plain": [
       "<Figure size 432x288 with 1 Axes>"
      ]
     },
     "metadata": {
      "needs_background": "light"
     },
     "output_type": "display_data"
    }
   ],
   "source": [
    "run_q(15000)"
   ]
  },
  {
   "cell_type": "code",
   "execution_count": 28,
   "metadata": {},
   "outputs": [
    {
     "ename": "NameError",
     "evalue": "name 'map_name' is not defined",
     "output_type": "error",
     "traceback": [
      "\u001b[1;31m---------------------------------------------------------------------------\u001b[0m",
      "\u001b[1;31mNameError\u001b[0m                                 Traceback (most recent call last)",
      "\u001b[1;32mc:\\Users\\abhay\\Desktop\\PES\\Sem 7\\RL\\FrozenLake\\Toutorial.ipynb Cell 8\u001b[0m line \u001b[0;36m<cell line: 1>\u001b[1;34m()\u001b[0m\n\u001b[1;32m----> <a href='vscode-notebook-cell:/c%3A/Users/abhay/Desktop/PES/Sem%207/RL/FrozenLake/Toutorial.ipynb#X10sZmlsZQ%3D%3D?line=0'>1</a>\u001b[0m run_q(\u001b[39m10\u001b[39;49m, is_training\u001b[39m=\u001b[39;49m \u001b[39mFalse\u001b[39;49;00m, render\u001b[39m=\u001b[39;49m \u001b[39mTrue\u001b[39;49;00m)\n",
      "\u001b[1;32mc:\\Users\\abhay\\Desktop\\PES\\Sem 7\\RL\\FrozenLake\\Toutorial.ipynb Cell 8\u001b[0m line \u001b[0;36mrun_q\u001b[1;34m(episodes, is_training, render)\u001b[0m\n\u001b[0;32m      <a href='vscode-notebook-cell:/c%3A/Users/abhay/Desktop/PES/Sem%207/RL/FrozenLake/Toutorial.ipynb#X10sZmlsZQ%3D%3D?line=5'>6</a>\u001b[0m \u001b[39mdef\u001b[39;00m \u001b[39mrun_q\u001b[39m(episodes, is_training\u001b[39m=\u001b[39m \u001b[39mTrue\u001b[39;00m, render\u001b[39m=\u001b[39m\u001b[39mFalse\u001b[39;00m):\n\u001b[0;32m      <a href='vscode-notebook-cell:/c%3A/Users/abhay/Desktop/PES/Sem%207/RL/FrozenLake/Toutorial.ipynb#X10sZmlsZQ%3D%3D?line=7'>8</a>\u001b[0m     env \u001b[39m=\u001b[39m gym\u001b[39m.\u001b[39mmake(\u001b[39m'\u001b[39m\u001b[39mFrozenLake-v1\u001b[39m\u001b[39m'\u001b[39m, map_name\u001b[39m=\u001b[39m\u001b[39m'\u001b[39m\u001b[39m8x8\u001b[39m\u001b[39m'\u001b[39m , is_slippery\u001b[39m=\u001b[39m\u001b[39mFalse\u001b[39;00m, render_mode\u001b[39m=\u001b[39m\u001b[39m'\u001b[39m\u001b[39mhuman\u001b[39m\u001b[39m'\u001b[39m \u001b[39mif\u001b[39;00m render \u001b[39melse\u001b[39;00m \u001b[39mNone\u001b[39;00m)\n\u001b[1;32m----> <a href='vscode-notebook-cell:/c%3A/Users/abhay/Desktop/PES/Sem%207/RL/FrozenLake/Toutorial.ipynb#X10sZmlsZQ%3D%3D?line=8'>9</a>\u001b[0m     \u001b[39mprint\u001b[39m(map_name)\n\u001b[0;32m     <a href='vscode-notebook-cell:/c%3A/Users/abhay/Desktop/PES/Sem%207/RL/FrozenLake/Toutorial.ipynb#X10sZmlsZQ%3D%3D?line=9'>10</a>\u001b[0m     \u001b[39mif\u001b[39;00m(is_training):\n\u001b[0;32m     <a href='vscode-notebook-cell:/c%3A/Users/abhay/Desktop/PES/Sem%207/RL/FrozenLake/Toutorial.ipynb#X10sZmlsZQ%3D%3D?line=10'>11</a>\u001b[0m         q \u001b[39m=\u001b[39m np\u001b[39m.\u001b[39mzeros((env\u001b[39m.\u001b[39mobservation_space\u001b[39m.\u001b[39mn, env\u001b[39m.\u001b[39maction_space\u001b[39m.\u001b[39mn))\n",
      "\u001b[1;31mNameError\u001b[0m: name 'map_name' is not defined"
     ]
    }
   ],
   "source": [
    "run_q(10, is_training= False, render= True)"
   ]
  },
  {
   "cell_type": "code",
   "execution_count": 34,
   "metadata": {},
   "outputs": [],
   "source": [
    "def generate_custom_map(size, num_potholes):\n",
    "    assert size >= 4, \"Size must be at least 4\"\n",
    "    assert num_potholes < (size ** 2) - 3, \"Too many potholes for the given size\"\n",
    "\n",
    "    # Create a map with all frozen tiles\n",
    "    custom_map = np.full((size, size), 'F')\n",
    "\n",
    "    # Set the starting point and the goal\n",
    "    custom_map[0, 0] = 'S'\n",
    "    custom_map[size - 1, size - 1] = 'G'\n",
    "\n",
    "    # Randomly place potholes\n",
    "    pothole_indices = np.random.choice(range(size*size), num_potholes, replace=False)\n",
    "    row_indices, col_indices = np.unravel_index(pothole_indices, (size, size))\n",
    "    custom_map[row_indices, col_indices] = 'H'\n",
    "\n",
    "    return custom_map.tolist()\n"
   ]
  },
  {
   "cell_type": "code",
   "execution_count": 39,
   "metadata": {},
   "outputs": [
    {
     "data": {
      "text/plain": [
       "[['S', 'F', 'F', 'F', 'F', 'F', 'H', 'F'],\n",
       " ['F', 'F', 'F', 'F', 'F', 'F', 'F', 'F'],\n",
       " ['F', 'F', 'H', 'F', 'F', 'H', 'F', 'F'],\n",
       " ['F', 'F', 'F', 'F', 'F', 'F', 'F', 'F'],\n",
       " ['F', 'F', 'F', 'H', 'H', 'F', 'F', 'F'],\n",
       " ['F', 'F', 'F', 'F', 'F', 'F', 'F', 'F'],\n",
       " ['F', 'F', 'F', 'F', 'H', 'F', 'F', 'F'],\n",
       " ['H', 'F', 'F', 'H', 'F', 'F', 'F', 'G']]"
      ]
     },
     "execution_count": 39,
     "metadata": {},
     "output_type": "execute_result"
    }
   ],
   "source": [
    "# Example: Create a FrozenLake environment with a custom map having exactly 8 potholes\n",
    "custom_map = generate_custom_map(size=8, num_potholes=8)\n",
    "custom_map"
   ]
  },
  {
   "cell_type": "code",
   "execution_count": 40,
   "metadata": {},
   "outputs": [],
   "source": [
    "import numpy as np\n",
    "import pickle\n",
    "import gymnasium as gym\n",
    "import matplotlib.pyplot as plt\n",
    "\n",
    "def run_q_custom_env(episodes, is_training= True, render=False):\n",
    "\n",
    "    env = gym.make('FrozenLake-v1', desc=custom_map , is_slippery=False, render_mode='human' if render else None)\n",
    "\n",
    "    if(is_training):\n",
    "        q = np.zeros((env.observation_space.n, env.action_space.n))\n",
    "    else: \n",
    "        f = open('frozen_lake8x8Custom_qTable.pkl', 'rb')\n",
    "        q = pickle.load(f)\n",
    "        f.close()\n",
    "\n",
    "    learning_rate = 0.1\n",
    "    discount_factor = 0.9\n",
    "\n",
    "    epsilon = 1\n",
    "    epsilon_decay = 0.0001\n",
    "    rng = np.random.default_rng()\n",
    "\n",
    "    rewards_per_episode = np.zeros(episodes)\n",
    "\n",
    "    for episode in range(episodes):\n",
    "        state = env.reset()[0]\n",
    "        truncated = False\n",
    "        terminated = False\n",
    "\n",
    "        while (not truncated and not terminated):\n",
    "            if is_training and  rng.random() < epsilon:\n",
    "                action = env.action_space.sample()  # A random action is being taken\n",
    "\n",
    "            else:\n",
    "                action = np.argmax(q[state, :])\n",
    "\n",
    "            new_state, reward, terminated, truncated, _ = env.step(action)\n",
    "\n",
    "            if is_training:\n",
    "                q[state, action] = q[state, action] + learning_rate * (\n",
    "                        reward + discount_factor * np.max(q[new_state, :]) - q[state, action]\n",
    "                )\n",
    "\n",
    "            state = new_state\n",
    "\n",
    "        epsilon = max(epsilon - epsilon_decay, 0)\n",
    "\n",
    "        if epsilon == 0:\n",
    "            learning_rate = 0.0001\n",
    "\n",
    "        if reward == 1:\n",
    "            rewards_per_episode[episode] = 1\n",
    "\n",
    "    env.close()\n",
    "\n",
    "    sum_rewards = np.zeros(episodes)\n",
    "    for t in range(episodes):\n",
    "        sum_rewards[t] = np.sum(rewards_per_episode[max(0, t-100):(t+1)])\n",
    "    plt.plot(sum_rewards)\n",
    "    plt.savefig('frozen_lake8x8Custom.png')\n",
    "\n",
    "    if is_training:\n",
    "        f = open('frozen_lake8x8Custom_qTable.pkl', \"wb\")\n",
    "        pickle.dump(q, f)\n",
    "        f.close()"
   ]
  },
  {
   "cell_type": "code",
   "execution_count": 41,
   "metadata": {},
   "outputs": [
    {
     "data": {
      "image/png": "[encoded data removed]",
      "text/plain": [
       "<Figure size 432x288 with 1 Axes>"
      ]
     },
     "metadata": {
      "needs_background": "light"
     },
     "output_type": "display_data"
    }
   ],
   "source": [
    "run_q_custom_env(15000)"
   ]
  },
  {
   "cell_type": "code",
   "execution_count": 42,
   "metadata": {},
   "outputs": [
    {
     "data": {
      "image/png": "[encoded data removed]",
      "text/plain": [
       "<Figure size 432x288 with 1 Axes>"
      ]
     },
     "metadata": {
      "needs_background": "light"
     },
     "output_type": "display_data"
    }
   ],
   "source": [
    "run_q_custom_env(1, is_training=False, render=True)"
   ]
  },
  {
   "cell_type": "code",
   "execution_count": null,
   "metadata": {},
   "outputs": [],
   "source": []
  }
 ],
 "metadata": {
  "kernelspec": {
   "display_name": "Python 3",
   "language": "python",
   "name": "python3"
  },
  "language_info": {
   "codemirror_mode": {
    "name": "ipython",
    "version": 3
   },
   "file_extension": ".py",
   "mimetype": "text/x-python",
   "name": "python",
   "nbconvert_exporter": "python",
   "pygments_lexer": "ipython3",
   "version": "3.10.6"
  }
 },
 "nbformat": 4,
 "nbformat_minor": 2
}
