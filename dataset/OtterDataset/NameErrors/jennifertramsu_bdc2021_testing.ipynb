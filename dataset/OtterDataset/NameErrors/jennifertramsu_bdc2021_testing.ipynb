{
 "cells": [
  {
   "cell_type": "markdown",
   "source": "# Playing with NLTK\n## Dataset: COVID Fake News Data.csv",
   "metadata": {
    "cell_id": "00000-e4187f99-708f-45aa-9dcd-2f9d818d4343",
    "deepnote_cell_type": "markdown"
   }
  },
  {
   "cell_type": "code",
   "metadata": {
    "cell_id": "00001-ebb0b2ca-5728-4b8c-9afa-16300dfb64c7",
    "deepnote_cell_type": "code"
   },
   "source": "# importing libraries\nimport pandas as pd\nimport nltk\nimport numpy as np \nimport matplotlib.pyplot as plt\n\nfrom nltk import sent_tokenize, word_tokenize\nfrom nltk.corpus import stopwords\nfrom nltk.stem import WordNetLemmatizer\nfrom nltk.text import Text\nfrom nltk import FreqDist\n",
   "execution_count": 15,
   "outputs": []
  },
  {
   "cell_type": "code",
   "metadata": {
    "cell_id": "00002-1b0d8448-8f8a-4bfa-b779-cd3f2ceb3dcf",
    "deepnote_cell_type": "code"
   },
   "source": "data = pd.read_csv(\"COVID Fake News Data.csv\")\ndata.columns",
   "execution_count": 16,
   "outputs": [
    {
     "output_type": "execute_result",
     "data": {
      "text/plain": "Index(['headlines', 'outcome'], dtype='object')"
     },
     "metadata": {},
     "execution_count": 16
    }
   ]
  },
  {
   "cell_type": "markdown",
   "source": "<p> Two headers: headlines, outcome (binary classification, real (1) or fake (0) </p>",
   "metadata": {
    "cell_id": "00003-affa616f-9f11-4d25-a31f-e1e1cb15ea1c",
    "deepnote_cell_type": "markdown"
   }
  },
  {
   "cell_type": "code",
   "metadata": {
    "cell_id": "00004-e41cdae9-7d33-4e11-9ead-b6424d78d5ee",
    "deepnote_cell_type": "code"
   },
   "source": "data.shape",
   "execution_count": 17,
   "outputs": [
    {
     "output_type": "execute_result",
     "data": {
      "text/plain": "(10201, 2)"
     },
     "metadata": {},
     "execution_count": 17
    }
   ]
  },
  {
   "cell_type": "markdown",
   "source": "<p> There are 10201 news headlines total in this dataset. </p>",
   "metadata": {
    "cell_id": "00005-50723eac-98b2-4b0c-9ae3-fb8c379e78a8",
    "deepnote_cell_type": "markdown"
   }
  },
  {
   "cell_type": "code",
   "metadata": {
    "cell_id": "00006-f2be4ff5-7a26-40bc-9c76-831f7ed347fe",
    "deepnote_cell_type": "code"
   },
   "source": "fake = data[data[\"outcome\"] == 0]\nfake.shape",
   "execution_count": 18,
   "outputs": [
    {
     "output_type": "execute_result",
     "data": {
      "text/plain": "(9727, 2)"
     },
     "metadata": {},
     "execution_count": 18
    }
   ]
  },
  {
   "cell_type": "code",
   "metadata": {
    "cell_id": "00007-6fae1706-4c76-4f8a-8e4b-0a929c74ea5d",
    "deepnote_cell_type": "code"
   },
   "source": "real = data[data[\"outcome\"] == 1]\nreal.shape",
   "execution_count": 19,
   "outputs": [
    {
     "output_type": "execute_result",
     "data": {
      "text/plain": "(474, 2)"
     },
     "metadata": {},
     "execution_count": 19
    }
   ]
  },
  {
   "cell_type": "code",
   "metadata": {
    "cell_id": "00008-8a032b44-e1fe-4898-91ea-64f070205b03",
    "deepnote_cell_type": "code"
   },
   "source": "data[\"outcome\"].value_counts(normalize=True)",
   "execution_count": 20,
   "outputs": [
    {
     "output_type": "execute_result",
     "data": {
      "text/plain": "0    0.953534\n1    0.046466\nName: outcome, dtype: float64"
     },
     "metadata": {},
     "execution_count": 20
    }
   ]
  },
  {
   "cell_type": "markdown",
   "source": "<p> 95% of the headlines in this dataset are classified as fake. </p>\n",
   "metadata": {
    "cell_id": "00009-149dccd7-e06e-4d19-928f-bca07da84bca",
    "deepnote_cell_type": "markdown"
   }
  },
  {
   "cell_type": "code",
   "metadata": {
    "cell_id": "00010-8eb8ccc1-02e5-4d75-abf6-8f6f0db3730e",
    "deepnote_cell_type": "code"
   },
   "source": "data[\"headlines\"].head()",
   "execution_count": 21,
   "outputs": [
    {
     "output_type": "execute_result",
     "data": {
      "text/plain": "0    A post claims compulsory vacination violates t...\n1    A photo claims that this person is a doctor wh...\n2    Post about a video claims that it is a protest...\n3    All deaths by respiratory failure and pneumoni...\n4    The dean of the College of Biologists of Euska...\nName: headlines, dtype: object"
     },
     "metadata": {},
     "execution_count": 21
    }
   ]
  },
  {
   "cell_type": "markdown",
   "source": "<p> Somehow explore key words in fake news headlines. </p>",
   "metadata": {
    "cell_id": "00011-05df3eb8-d8b0-48f0-9b1d-61bb15c8317d",
    "deepnote_cell_type": "markdown"
   }
  },
  {
   "cell_type": "markdown",
   "source": "### Playing around with NLTK",
   "metadata": {
    "cell_id": "00012-70f838b2-a143-42a3-835b-ac0a5d94e6e4",
    "deepnote_cell_type": "markdown"
   }
  },
  {
   "cell_type": "code",
   "metadata": {
    "cell_id": "00013-782c4fcf-485a-418d-b906-f520c021fd6c",
    "deepnote_cell_type": "code"
   },
   "source": "line = fake[\"headlines\"]\nline = [l for l in line]\nline = \" \".join(line)\n\n# sent_tokenizer splits a string into sentences\n# here, there is only one sentence, not needed\n# word_tokenizer splits a string by word\n\n# however, punctuation is also considered to be a word, and apostrophesized (?) words are split at the '\n",
   "execution_count": 22,
   "outputs": []
  },
  {
   "cell_type": "code",
   "metadata": {
    "cell_id": "00014-73bf45ea-5551-419d-ade3-3be1890d496e",
    "deepnote_cell_type": "code"
   },
   "source": "# filtering stop words\n# stop words are words you want to ignore\n# common stop words are \"in\". \"is\", \"an\"\n\nwords = word_tokenize(line)\n\n# creating set of stopwords to filter\n# nltk.download(\"stopwords\")\nstopwords = set(stopwords.words(\"english\"))\n\n# creating an empty list to hold the words that make it past the filter\n\nfiltered = []\n\n# filtering stopwords, use casefold to ignore case\n\nfor word in words:\n    if word.casefold() not in stopwords:\n        filtered.append(word)\n\nfiltered\n",
   "execution_count": 23,
   "outputs": [
    {
     "output_type": "execute_result",
     "data": {
      "text/plain": "['post',\n 'claims',\n 'compulsory',\n 'vacination',\n 'violates',\n 'principles',\n 'bioethics',\n ',',\n 'coronavirus',\n 'doesnâ€™t',\n 'exist',\n ',',\n 'PCR',\n 'test',\n 'returns',\n 'many',\n 'false',\n 'positives',\n ',',\n 'influenza',\n 'vaccine',\n 'related',\n 'COVID-19',\n '.',\n 'photo',\n 'claims',\n 'person',\n 'doctor',\n 'died',\n 'attending',\n 'many',\n 'COVID-19',\n 'patinents',\n 'Hospital',\n 'MuÃ±iz',\n 'Buenos',\n 'Aires',\n '.',\n 'Post',\n 'video',\n 'claims',\n 'protest',\n 'confination',\n 'town',\n 'Aranda',\n 'de',\n 'Duero',\n '(',\n 'Burgos',\n ')',\n 'deaths',\n 'respiratory',\n 'failure',\n 'pneumonia',\n 'registered',\n 'COVID-19',\n ',',\n 'according',\n 'Civil',\n 'Registry',\n 'website',\n '.',\n 'dean',\n 'College',\n 'Biologists',\n 'Euskadi',\n 'states',\n 'lot',\n 'PCR',\n 'false',\n 'positives',\n 'asymptomatic',\n 'donâ€™t',\n 'spread',\n 'coronavirus',\n '.',\n 'Households',\n 'COVID-19',\n 'patients',\n 'Porto',\n 'Alegre',\n ',',\n 'Campo',\n 'Grande',\n 'Santo',\n 'AntÃ´nio',\n 'da',\n 'Platina',\n 'must',\n 'put',\n 'red',\n 'ribbon',\n 'garbage',\n 'bags',\n '.',\n 'Garbagemen',\n 'instructed',\n 'handle',\n 'safer',\n 'way',\n 'chain',\n 'lists',\n 'recommendations',\n 'prevent',\n 'treat',\n 'coronavirus',\n '.',\n '60,000',\n 'Argentinian',\n 'companies',\n 'closed',\n 'due',\n 'COVID-19',\n ';',\n 'also',\n ',',\n 'companies',\n 'receiving',\n 'government',\n 'aid',\n 'pandemic',\n 'expropriated',\n 'government',\n 'Social',\n 'media',\n 'posts',\n 'criticize',\n 'photo',\n 'smiling',\n 'president',\n 'Goverment',\n 'Pedro',\n 'SÃ¡nchez',\n 'holidays',\n 'thousands',\n 'died',\n 'COVID-19',\n 'CDC',\n 'released',\n 'update',\n 'novel',\n 'coronavirus',\n 'transmitted',\n 'Good',\n 'oral',\n 'hygiene',\n 'destroys',\n 'coronavirus',\n 'prevents',\n 'spread',\n 'video',\n 'shows',\n 'Pakistani',\n 'minister',\n 'Health',\n 'slapping',\n 'obey',\n 'official',\n 'measures',\n 'Brazilian',\n 'deputee',\n 'says',\n 'pandemic',\n 'started',\n 'decrease',\n 'state',\n ',',\n 'Rio',\n 'Grande',\n 'Sul',\n 'warns',\n 'consuming',\n 'cabbage',\n 'prevent',\n 'COVID-19',\n 'picture',\n 'shows',\n 'hydroxychloroquine',\n 'sold',\n 'public',\n 'trains',\n 'Rio',\n 'de',\n 'Janeiro',\n 'evidence',\n 'chlorine',\n 'dioxide',\n 'cures',\n 'COVID-19',\n 'video',\n 'shows',\n 'Pakistani',\n 'minister',\n 'Health',\n 'slapping',\n 'obey',\n 'official',\n 'measures',\n 'picture',\n 'shows',\n 'hydroxychloroquine',\n 'sold',\n 'public',\n 'trains',\n 'Rio',\n 'de',\n 'Janeiro',\n 'Coronavirus',\n 'settle',\n 'air',\n 'grounded',\n 'â€',\n '“',\n 'UNICEF',\n 'Coronavirus',\n 'float',\n 'air',\n 'grounded',\n 'â€',\n '“',\n 'UNICEF',\n 'Axel',\n 'Kicillof',\n '(',\n 'Governor',\n 'Province',\n 'Buenos',\n 'Aires',\n ',',\n 'Argentina',\n ')',\n ':',\n 'â€œRight',\n '[',\n ']',\n 'strict',\n 'quarantine',\n 'Barcelonaâ€\\x9d',\n 'list',\n 'alleged',\n 'remedies',\n 'treat',\n 'coronavirus',\n '.',\n 'Coronavirus',\n '(',\n 'COVID-19',\n ')',\n 'large',\n 'size',\n 'cell',\n 'diameter',\n '400-500',\n 'micro',\n 'reason',\n 'mask',\n 'may',\n 'prevent',\n 'entry',\n 'â€',\n '“',\n 'UNICEF',\n 'COVID-19',\n 'controlled',\n 'Africa',\n 'widespread',\n 'distribution',\n 'ivermectin',\n 'post',\n 'claims',\n 'PCR',\n 'test',\n 'â€œcause',\n 'damage',\n 'blood-brain',\n 'barrierâ€\\x9d',\n 'â€œcreate',\n 'direct',\n 'entrance',\n 'brain',\n 'infection.â€\\x9d',\n 'Supposed',\n 'tweet',\n 'form',\n 'Berlin',\n 'Police',\n 'claims',\n '3.5',\n 'million',\n 'people',\n 'August',\n '1st',\n 'rally',\n 'Berlin',\n 'coronavirus',\n 'meassures',\n '.',\n 'Covid',\n 'â€',\n '“',\n '19',\n 'bacteria',\n 'amplified',\n '5G',\n 'technology',\n 'post',\n 'spreading',\n 'WhatsApp',\n 'claims',\n '50',\n 'hospital',\n 'guards',\n 'job',\n 'oppenings',\n 'IFEMA',\n 'hospital',\n 'Madrid',\n '.',\n 'photo',\n 'shows',\n 'hand',\n 'sanitizer',\n 'sold',\n 'vitamin',\n 'box',\n '78',\n '%',\n 'fall',\n 'Chinese',\n 'product',\n 'sales',\n 'Brazil',\n 'due',\n 'boycott',\n 'motivated',\n 'pandemic',\n ',',\n 'acording',\n 'INCINT',\n 'photo',\n 'collage',\n 'claims',\n 'show',\n 'images',\n 'taken',\n 'protest',\n 'coronavirus',\n 'restrictions',\n 'Germany',\n 'August',\n '2020',\n '.',\n 'Police',\n 'raid',\n 'private',\n 'spaces',\n 'MedellÃ\\xadn',\n 'breach',\n 'Dry',\n 'Law',\n 'post',\n 'showing',\n 'health',\n 'worker',\n 'MuÃ±iz',\n 'Hospital',\n '(',\n 'Argentina',\n ')',\n 'died',\n 'treating',\n 'patients',\n 'COVID-19',\n 'Fact',\n 'Check',\n ':',\n 'Neither',\n 'Viral',\n 'Post',\n 'Coronavirus',\n '(',\n 'COVID-19',\n ')',\n 'UNICEF',\n 'Accurate',\n 'COVID-19',\n 'vaccines',\n 'cause',\n 'infertility',\n 'â€',\n '“',\n 'get',\n 'vaccinated',\n 'video',\n 'supposedly',\n 'showing',\n 'dead',\n 'COVID-19',\n 'victim',\n 'raising',\n 'hand',\n 'lifted',\n 'away',\n 'health',\n 'workers',\n 'proves',\n 'global',\n 'pandemic',\n 'hoax',\n '.',\n 'COVID-19',\n 'pH',\n 'value',\n 'â€˜Doctors',\n 'truthâ€™',\n 'make',\n 'claims',\n 'coronavirus',\n '.',\n 'Chinese',\n 'vaccines',\n 'contain',\n 'microchip',\n 'receives',\n '5G',\n 'signals',\n 'allow',\n 'Chinese',\n 'government',\n 'interfere',\n 'RNA',\n '30',\n '%',\n 'fall',\n 'Chinese',\n 'product',\n 'sales',\n 'Brazilian',\n 'state',\n 'Santa',\n 'Catarina',\n ',',\n 'due',\n 'boycott',\n 'motivated',\n 'pandemic',\n 'photo',\n 'beach',\n 'lots',\n 'boats',\n 'message',\n 'says',\n 'infected',\n 'inmigrants',\n 'Argelia',\n 'preparing',\n 'travel',\n 'Spain',\n '.',\n 'said',\n 'â€œthere',\n 'solution',\n 'perhaps',\n 'never',\n 'beâ€\\x9d',\n 'coronavirus',\n '.',\n 'Fact',\n 'Check',\n ':',\n ',',\n 'COVID-19',\n 'Doesnâ€™t',\n 'PH',\n 'Value',\n ',',\n 'Experts',\n 'Advice',\n 'Boosting',\n 'Immunity',\n 'Fight',\n 'Coronavirus',\n 'image',\n 'states',\n 'mask',\n 'use',\n 'causes',\n 'pneumonia',\n 'hypoxia',\n 'picture',\n 'allegedly',\n 'showing',\n 'crowd',\n 'Berlin',\n 'August',\n '1st',\n 'protesting',\n 'agains',\n 'German',\n 'government',\n 'meassures',\n 'COVID-19',\n '.',\n 'photo',\n 'beach',\n 'lots',\n 'boats',\n 'message',\n 'says',\n 'infected',\n 'inmigrants',\n 'Argelia',\n 'preparing',\n 'travel',\n 'Spain',\n '.',\n 'picture',\n 'allegedly',\n 'showing',\n 'crowd',\n 'Berlin',\n 'August',\n '1st',\n 'protesting',\n 'agains',\n 'German',\n 'government',\n 'meassures',\n 'COVID-19',\n '.',\n 'Pedro',\n 'Sanchez',\n ',',\n 'president',\n 'government',\n 'Spain',\n ',',\n 'spoke',\n 'Scientific',\n 'Committee',\n 'government',\n 'recognize',\n 'committee',\n 'never',\n 'existed',\n '.',\n 'Mask',\n 'cause',\n 'lot',\n 'diseases',\n ',',\n 'said',\n ',',\n 'asymptomatic',\n 'patients',\n 'donâ€™t',\n 'pass',\n 'virus',\n '.',\n 'Also',\n ',',\n 'lot',\n 'false',\n 'positive',\n 'PCR',\n 'tests',\n '.',\n 'image',\n 'episode',\n 'Futurama',\n 'claims',\n 'show',\n 'forbade',\n 'time',\n 'travel',\n 'back',\n '2020',\n '.',\n 'Photo',\n 'demonstration',\n 'meassures',\n 'German',\n 'government',\n 'stop',\n 'pandemic',\n '.',\n 'Spanish',\n 'Prime',\n 'Minister',\n 'Pedro',\n 'Sanchez',\n 'told',\n 'people',\n 'invest',\n 'Bitcoin',\n 'pandemic',\n 'video',\n 'shows',\n 'mannequin',\n 'taken',\n 'ambulance',\n ',',\n 'claims',\n 'media',\n 'trying',\n 'fool',\n 'audience',\n 'make',\n 'think',\n 'itâ€™s',\n 'COVID-19',\n 'patient',\n '.',\n 'picture',\n 'allegedly',\n 'showing',\n 'large',\n 'crowd',\n 'gathered',\n 'Berlin',\n 'August',\n '1st',\n ',',\n '2020',\n 'protest',\n 'restrictive',\n 'measures',\n 'imposed',\n 'government',\n 'Covid-19',\n 'pandemic',\n '.',\n 'Facebook',\n 'posts',\n 'shared',\n 'thousands',\n 'times',\n 'claim',\n 'Washingtonâ€™s',\n 'mayor',\n 'exempted',\n 'members',\n 'Congress',\n '14-day',\n 'quarantine',\n 'traveled',\n 'funeral',\n 'civil',\n 'rights',\n 'icon',\n 'John',\n 'Lewis',\n 'Georgia',\n ',',\n 'city',\n 'considers',\n 'â€œhigh-riskâ€\\x9d',\n 'state',\n 'coronavirus',\n '.',\n 'picture',\n 'allegedly',\n 'showing',\n 'large',\n 'crowd',\n '(',\n 'million',\n 'people',\n ')',\n 'gathered',\n 'Berlin',\n 'August',\n '1st',\n ',',\n '2020',\n 'protest',\n 'restrictive',\n 'measures',\n 'imposed',\n 'government',\n 'COVID-19',\n 'pandemic',\n '.',\n 'photo',\n 'collage',\n 'shared',\n 'hundreds',\n 'times',\n 'multiple',\n 'posts',\n 'Facebook',\n 'alongside',\n 'claim',\n 'images',\n 'taken',\n 'protest',\n 'coronavirus',\n 'restrictions',\n 'Germany',\n 'August',\n '2020',\n '.',\n 'photo',\n 'shared',\n 'thousands',\n 'times',\n 'multiple',\n 'posts',\n 'Facebook',\n 'Twitter',\n 'claim',\n 'shows',\n 'protest',\n 'coronavirus',\n 'restrictions',\n 'German',\n 'capital',\n 'Berlin',\n 'August',\n '2020',\n '.',\n 'picture',\n 'allegedly',\n 'showing',\n 'large',\n 'crowd',\n 'gathered',\n 'Berlin',\n 'August',\n '1st',\n ',',\n '2020',\n 'protest',\n 'â€œHealth',\n 'dictatorshipâ€\\x9d',\n 'imposed',\n 'government',\n 'stop',\n 'Covid-19',\n 'pandemic',\n '.',\n 'List',\n 'substances',\n 'cure',\n 'coronavirus',\n ',',\n 'according',\n 'Cali',\n 'doctor',\n '.',\n 'Adidas',\n 'giving',\n 'away',\n 'face',\n 'masks',\n '.',\n 'street',\n 'protest',\n 'criticizing',\n 'Japanese',\n 'Prime',\n 'Minister',\n 'Shinzo',\n 'Abeâ€™s',\n 'government',\n 'source',\n 'â€œnight',\n 'life',\n 'city',\n 'clusterâ€\\x9d',\n '63',\n 'intensive',\n 'care',\n 'beds',\n 'occupied',\n 'infected',\n 'protesters',\n 'publication',\n 'claims',\n 'doctor',\n 'MuÃ±iz',\n 'hospital',\n 'named',\n 'â€œMarcos',\n 'Vargasâ€\\x9d',\n 'died',\n 'treating',\n 'patients',\n 'coronavirus',\n 'image',\n 'published',\n 'Argentine',\n 'journalist',\n 'Viviana',\n 'Canosa',\n 'two',\n 'people',\n 'respecting',\n 'social',\n 'distancing',\n 'Casa',\n 'Rosada',\n 'Axel',\n 'Kicillof',\n '(',\n 'Governor',\n 'Province',\n 'Buenos',\n 'Aires',\n ',',\n 'Argentina',\n ')',\n ':',\n 'â€œThe',\n 'North',\n 'American',\n 'economy',\n 'suffered',\n 'drop',\n 'GDP',\n '33',\n '%',\n '.',\n 'biggest',\n 'drop',\n 'last',\n '70',\n 'years',\n 'â€\\x9d',\n 'Tasuku',\n 'Honjo',\n ',',\n 'Nobel',\n 'Prize',\n 'Medicine',\n ',',\n 'said',\n 'coronavirus',\n 'â€œis',\n 'naturalâ€\\x9d',\n 'vaccine',\n 'new',\n 'coronavirus',\n 'existed',\n 'since',\n '2001',\n 'publication',\n 'claims',\n 'doctor',\n 'MuÃ±iz',\n 'hospital',\n 'named',\n 'â€œMarcos',\n 'Vargasâ€\\x9d',\n 'died',\n 'treating',\n 'patients',\n 'coronavirus',\n 'post',\n 'claims',\n 'cigarette',\n 'smoke',\n 'transmits',\n 'coronavirus',\n 'Adidas',\n 'giving',\n 'away',\n 'face',\n 'masks',\n '.',\n 'Axel',\n 'Kicillof',\n '(',\n 'Governor',\n 'Province',\n 'Buenos',\n 'Aires',\n ',',\n 'Argentina',\n ')',\n ':',\n 'â€œThe',\n 'North',\n 'American',\n 'economy',\n 'suffered',\n 'drop',\n 'GDP',\n '33',\n '%',\n '.',\n 'biggest',\n 'drop',\n 'last',\n '70',\n 'years',\n 'â€\\x9d',\n 'South',\n 'Korea',\n 'study',\n 'finds',\n 'quarantines',\n 'useless',\n 'combating',\n 'COVID-19',\n 'Multiple',\n 'Facebook',\n 'posts',\n 'shared',\n 'hundreds',\n 'times',\n 'claim',\n 'â€œviruses',\n 'harm',\n 'kill',\n '[',\n 'people',\n ']',\n 'â€\\x9d',\n 'â€œharm',\n 'deathâ€\\x9d',\n 'caused',\n 'virus',\n 'attributed',\n 'â€œthe',\n 'overreaction',\n 'weakened',\n 'dysfunctional',\n 'immune',\n 'systemâ€\\x9d',\n '.',\n '63',\n 'intensive',\n 'care',\n 'beds',\n 'occupied',\n 'infected',\n 'protesters',\n 'new',\n 'coronavirus',\n 'vaccine',\n 'â€œdigitizable',\n 'RNAâ€\\x9d',\n 'â€œactivated',\n '5Gâ€\\x9d',\n 'reactivate',\n 'virus',\n '.',\n 'Children',\n 'vaccinated',\n 'flu',\n 'significantly',\n 'higher',\n 'risk',\n 'contracting',\n 'respiratory',\n 'infections',\n ',',\n 'including',\n 'coronaviruses',\n '.',\n 'Eduardo',\n 'Leite',\n ',',\n 'governor',\n 'Rio',\n 'Grande',\n 'Sul',\n ',',\n 'Brazil',\n ',',\n 'taking',\n 'hydroxichloroquine',\n 'ivermectin',\n 'COVID-19',\n 'combination',\n 'hydroxychloroquine',\n ',',\n 'azitromicin',\n 'zinc',\n 'guaranteed',\n 'cure',\n '99.9',\n '%',\n 'COVID-19',\n 'patient',\n 'Lojas',\n 'Americanas',\n ',',\n 'Brazilian',\n 'retail',\n 'company',\n ',',\n 'offering',\n 'free',\n 'gift',\n 'cards',\n 'families',\n 'distress',\n 'caused',\n ...]"
     },
     "metadata": {},
     "execution_count": 23
    }
   ]
  },
  {
   "cell_type": "markdown",
   "source": "<p> However, keep in mind that some stopwords actually give proper context to the sentence. To bypass this, can edit the list of stopwords to make any necessary changes, then download it. </p>",
   "metadata": {
    "cell_id": "00015-c4333863-6515-4038-9455-12100ee933fa",
    "deepnote_cell_type": "markdown"
   }
  },
  {
   "cell_type": "code",
   "metadata": {
    "cell_id": "00016-5cbb36c9-e80b-4436-9f29-24323cf0a9f5",
    "deepnote_cell_type": "code"
   },
   "source": "# parts of speech\n# grammatical term that deals with the roles words play when you use the together in sentences\n\nnltk.pos_tag(words)\n\n",
   "execution_count": 24,
   "outputs": [
    {
     "output_type": "execute_result",
     "data": {
      "text/plain": "[('A', 'DT'),\n ('post', 'NN'),\n ('claims', 'VBZ'),\n ('compulsory', 'NN'),\n ('vacination', 'NN'),\n ('violates', 'VBZ'),\n ('the', 'DT'),\n ('principles', 'NNS'),\n ('of', 'IN'),\n ('bioethics', 'NNS'),\n (',', ','),\n ('that', 'IN'),\n ('coronavirus', 'NN'),\n ('doesnâ€™t', 'NNS'),\n ('exist', 'VBP'),\n (',', ','),\n ('that', 'IN'),\n ('the', 'DT'),\n ('PCR', 'NNP'),\n ('test', 'NN'),\n ('returns', 'NNS'),\n ('many', 'JJ'),\n ('false', 'JJ'),\n ('positives', 'NNS'),\n (',', ','),\n ('and', 'CC'),\n ('that', 'IN'),\n ('influenza', 'JJ'),\n ('vaccine', 'NN'),\n ('is', 'VBZ'),\n ('related', 'VBN'),\n ('to', 'TO'),\n ('COVID-19', 'NNP'),\n ('.', '.'),\n ('A', 'NNP'),\n ('photo', 'NN'),\n ('claims', 'VBZ'),\n ('that', 'IN'),\n ('this', 'DT'),\n ('person', 'NN'),\n ('is', 'VBZ'),\n ('a', 'DT'),\n ('doctor', 'NN'),\n ('who', 'WP'),\n ('died', 'VBD'),\n ('after', 'IN'),\n ('attending', 'VBG'),\n ('to', 'TO'),\n ('too', 'RB'),\n ('many', 'JJ'),\n ('COVID-19', 'JJ'),\n ('patinents', 'NNS'),\n ('in', 'IN'),\n ('Hospital', 'NNP'),\n ('MuÃ±iz', 'NNP'),\n ('in', 'IN'),\n ('Buenos', 'NNP'),\n ('Aires', 'NNP'),\n ('.', '.'),\n ('Post', 'NN'),\n ('about', 'IN'),\n ('a', 'DT'),\n ('video', 'NN'),\n ('claims', 'VBZ'),\n ('that', 'IN'),\n ('it', 'PRP'),\n ('is', 'VBZ'),\n ('a', 'DT'),\n ('protest', 'NN'),\n ('against', 'IN'),\n ('confination', 'NN'),\n ('in', 'IN'),\n ('the', 'DT'),\n ('town', 'NN'),\n ('of', 'IN'),\n ('Aranda', 'NNP'),\n ('de', 'FW'),\n ('Duero', 'NNP'),\n ('(', '('),\n ('Burgos', 'NNP'),\n (')', ')'),\n ('All', 'DT'),\n ('deaths', 'NNS'),\n ('by', 'IN'),\n ('respiratory', 'JJ'),\n ('failure', 'NN'),\n ('and', 'CC'),\n ('pneumonia', 'NN'),\n ('are', 'VBP'),\n ('being', 'VBG'),\n ('registered', 'VBN'),\n ('as', 'IN'),\n ('COVID-19', 'NNP'),\n (',', ','),\n ('according', 'VBG'),\n ('to', 'TO'),\n ('the', 'DT'),\n ('Civil', 'NNP'),\n ('Registry', 'NNP'),\n ('website', 'NN'),\n ('.', '.'),\n ('The', 'DT'),\n ('dean', 'NN'),\n ('of', 'IN'),\n ('the', 'DT'),\n ('College', 'NNP'),\n ('of', 'IN'),\n ('Biologists', 'NNP'),\n ('of', 'IN'),\n ('Euskadi', 'NNP'),\n ('states', 'NNS'),\n ('that', 'IN'),\n ('there', 'EX'),\n ('are', 'VBP'),\n ('a', 'DT'),\n ('lot', 'NN'),\n ('of', 'IN'),\n ('PCR', 'NNP'),\n ('false', 'JJ'),\n ('positives', 'NNS'),\n ('and', 'CC'),\n ('asymptomatic', 'JJ'),\n ('donâ€™t', 'NN'),\n ('spread', 'NN'),\n ('coronavirus', 'NN'),\n ('.', '.'),\n ('Households', 'NNS'),\n ('with', 'IN'),\n ('COVID-19', 'JJ'),\n ('patients', 'NNS'),\n ('in', 'IN'),\n ('Porto', 'NNP'),\n ('Alegre', 'NNP'),\n (',', ','),\n ('Campo', 'NNP'),\n ('Grande', 'NNP'),\n ('and', 'CC'),\n ('Santo', 'NNP'),\n ('AntÃ´nio', 'NNP'),\n ('da', 'NN'),\n ('Platina', 'NNP'),\n ('must', 'MD'),\n ('put', 'VB'),\n ('a', 'DT'),\n ('red', 'JJ'),\n ('ribbon', 'NN'),\n ('on', 'IN'),\n ('their', 'PRP$'),\n ('garbage', 'NN'),\n ('bags', 'NNS'),\n ('.', '.'),\n ('Garbagemen', 'NNS'),\n ('are', 'VBP'),\n ('instructed', 'VBN'),\n ('to', 'TO'),\n ('handle', 'VB'),\n ('them', 'PRP'),\n ('in', 'IN'),\n ('a', 'DT'),\n ('safer', 'NN'),\n ('way', 'NN'),\n ('A', 'NNP'),\n ('chain', 'NN'),\n ('lists', 'NNS'),\n ('recommendations', 'NNS'),\n ('to', 'TO'),\n ('prevent', 'VB'),\n ('and', 'CC'),\n ('treat', 'VB'),\n ('coronavirus', 'NN'),\n ('.', '.'),\n ('60,000', 'CD'),\n ('Argentinian', 'JJ'),\n ('companies', 'NNS'),\n ('have', 'VBP'),\n ('closed', 'VBN'),\n ('due', 'JJ'),\n ('to', 'TO'),\n ('COVID-19', 'NNP'),\n (';', ':'),\n ('also', 'RB'),\n (',', ','),\n ('all', 'DT'),\n ('companies', 'NNS'),\n ('receiving', 'VBG'),\n ('government', 'NN'),\n ('aid', 'NN'),\n ('during', 'IN'),\n ('the', 'DT'),\n ('pandemic', 'NN'),\n ('will', 'MD'),\n ('be', 'VB'),\n ('expropriated', 'VBN'),\n ('by', 'IN'),\n ('the', 'DT'),\n ('government', 'NN'),\n ('Social', 'NNP'),\n ('media', 'NNS'),\n ('posts', 'NNS'),\n ('criticize', 'VBP'),\n ('a', 'DT'),\n ('photo', 'NN'),\n ('from', 'IN'),\n ('smiling', 'VBG'),\n ('president', 'NN'),\n ('of', 'IN'),\n ('the', 'DT'),\n ('Goverment', 'NNP'),\n ('Pedro', 'NNP'),\n ('SÃ¡nchez', 'NNP'),\n ('during', 'IN'),\n ('his', 'PRP$'),\n ('holidays', 'NNS'),\n ('after', 'IN'),\n ('thousands', 'NNS'),\n ('died', 'VBD'),\n ('from', 'IN'),\n ('COVID-19', 'NNP'),\n ('CDC', 'NNP'),\n ('has', 'VBZ'),\n ('released', 'VBN'),\n ('an', 'DT'),\n ('update', 'NN'),\n ('on', 'IN'),\n ('how', 'WRB'),\n ('the', 'DT'),\n ('novel', 'JJ'),\n ('coronavirus', 'NN'),\n ('can', 'MD'),\n ('be', 'VB'),\n ('transmitted', 'VBN'),\n ('Good', 'JJ'),\n ('oral', 'JJ'),\n ('hygiene', 'NN'),\n ('destroys', 'VBZ'),\n ('the', 'DT'),\n ('coronavirus', 'NN'),\n ('and', 'CC'),\n ('prevents', 'VBZ'),\n ('its', 'PRP$'),\n ('spread', 'NN'),\n ('A', 'DT'),\n ('video', 'NN'),\n ('shows', 'VBZ'),\n ('Pakistani', 'NNP'),\n ('minister', 'NN'),\n ('of', 'IN'),\n ('Health', 'NNP'),\n ('slapping', 'VBG'),\n ('those', 'DT'),\n ('who', 'WP'),\n ('do', 'VBP'),\n ('not', 'RB'),\n ('obey', 'VB'),\n ('official', 'JJ'),\n ('measures', 'NNS'),\n ('A', 'DT'),\n ('Brazilian', 'JJ'),\n ('deputee', 'NN'),\n ('says', 'VBZ'),\n ('the', 'DT'),\n ('pandemic', 'NN'),\n ('has', 'VBZ'),\n ('started', 'VBN'),\n ('to', 'TO'),\n ('decrease', 'VB'),\n ('in', 'IN'),\n ('his', 'PRP$'),\n ('state', 'NN'),\n (',', ','),\n ('Rio', 'NNP'),\n ('Grande', 'NNP'),\n ('do', 'VBP'),\n ('Sul', 'NNP'),\n ('WHO', 'NNP'),\n ('warns', 'VBZ'),\n ('against', 'IN'),\n ('consuming', 'VBG'),\n ('cabbage', 'NN'),\n ('to', 'TO'),\n ('prevent', 'VB'),\n ('COVID-19', 'NNP'),\n ('A', 'NNP'),\n ('picture', 'NN'),\n ('shows', 'VBZ'),\n ('hydroxychloroquine', 'NN'),\n ('is', 'VBZ'),\n ('being', 'VBG'),\n ('sold', 'VBN'),\n ('on', 'IN'),\n ('public', 'JJ'),\n ('trains', 'NNS'),\n ('in', 'IN'),\n ('Rio', 'NNP'),\n ('de', 'IN'),\n ('Janeiro', 'NNP'),\n ('There', 'EX'),\n ('is', 'VBZ'),\n ('evidence', 'NN'),\n ('that', 'IN'),\n ('chlorine', 'NN'),\n ('dioxide', 'NN'),\n ('cures', 'VBZ'),\n ('COVID-19', 'NNP'),\n ('A', 'NNP'),\n ('video', 'NN'),\n ('shows', 'VBZ'),\n ('Pakistani', 'NNP'),\n ('minister', 'NN'),\n ('of', 'IN'),\n ('Health', 'NNP'),\n ('slapping', 'VBG'),\n ('those', 'DT'),\n ('who', 'WP'),\n ('do', 'VBP'),\n ('not', 'RB'),\n ('obey', 'VB'),\n ('official', 'JJ'),\n ('measures', 'NNS'),\n ('A', 'DT'),\n ('picture', 'NN'),\n ('shows', 'VBZ'),\n ('hydroxychloroquine', 'NN'),\n ('is', 'VBZ'),\n ('being', 'VBG'),\n ('sold', 'VBN'),\n ('on', 'IN'),\n ('public', 'JJ'),\n ('trains', 'NNS'),\n ('in', 'IN'),\n ('Rio', 'NNP'),\n ('de', 'IN'),\n ('Janeiro', 'NNP'),\n ('Coronavirus', 'NNP'),\n ('does', 'VBZ'),\n ('not', 'RB'),\n ('settle', 'VB'),\n ('in', 'IN'),\n ('air', 'NN'),\n ('but', 'CC'),\n ('is', 'VBZ'),\n ('grounded', 'VBN'),\n ('â€', 'JJ'),\n ('“', 'NNP'),\n ('UNICEF', 'NNP'),\n ('Coronavirus', 'NNP'),\n ('does', 'VBZ'),\n ('not', 'RB'),\n ('float', 'VB'),\n ('in', 'IN'),\n ('air', 'NN'),\n ('but', 'CC'),\n ('is', 'VBZ'),\n ('grounded', 'VBN'),\n ('â€', 'JJ'),\n ('“', 'NNP'),\n ('UNICEF', 'NNP'),\n ('Axel', 'NNP'),\n ('Kicillof', 'NNP'),\n ('(', '('),\n ('Governor', 'NNP'),\n ('of', 'IN'),\n ('the', 'DT'),\n ('Province', 'NNP'),\n ('of', 'IN'),\n ('Buenos', 'NNP'),\n ('Aires', 'NNP'),\n (',', ','),\n ('Argentina', 'NNP'),\n (')', ')'),\n (':', ':'),\n ('â€œRight', 'VBN'),\n ('now', 'RB'),\n ('[', 'VBP'),\n ('there', 'EX'),\n ('is', 'VBZ'),\n (']', 'JJR'),\n ('a', 'DT'),\n ('strict', 'JJ'),\n ('quarantine', 'NN'),\n ('in', 'IN'),\n ('Barcelonaâ€\\x9d', 'NNP'),\n ('A', 'NNP'),\n ('list', 'NN'),\n ('of', 'IN'),\n ('alleged', 'JJ'),\n ('remedies', 'NNS'),\n ('to', 'TO'),\n ('treat', 'VB'),\n ('coronavirus', 'NN'),\n ('.', '.'),\n ('Coronavirus', 'NNP'),\n ('(', '('),\n ('COVID-19', 'NNP'),\n (')', ')'),\n ('is', 'VBZ'),\n ('large', 'JJ'),\n ('in', 'IN'),\n ('size', 'NN'),\n ('where', 'WRB'),\n ('the', 'DT'),\n ('cell', 'NN'),\n ('diameter', 'NN'),\n ('is', 'VBZ'),\n ('400-500', 'JJ'),\n ('micro', 'NN'),\n ('and', 'CC'),\n ('for', 'IN'),\n ('this', 'DT'),\n ('reason', 'NN'),\n ('any', 'DT'),\n ('mask', 'NN'),\n ('may', 'MD'),\n ('prevent', 'VB'),\n ('its', 'PRP$'),\n ('entry', 'NN'),\n ('â€', 'NN'),\n ('“', 'NNP'),\n ('UNICEF', 'NNP'),\n ('COVID-19', 'NNP'),\n ('is', 'VBZ'),\n ('being', 'VBG'),\n ('controlled', 'VBN'),\n ('in', 'IN'),\n ('Africa', 'NNP'),\n ('because', 'IN'),\n ('of', 'IN'),\n ('widespread', 'JJ'),\n ('distribution', 'NN'),\n ('of', 'IN'),\n ('ivermectin', 'NN'),\n ('A', 'DT'),\n ('post', 'NN'),\n ('claims', 'VBZ'),\n ('that', 'IN'),\n ('PCR', 'NNP'),\n ('test', 'NN'),\n ('â€œcause', 'NN'),\n ('damage', 'NN'),\n ('to', 'TO'),\n ('the', 'DT'),\n ('blood-brain', 'JJ'),\n ('barrierâ€\\x9d', 'NN'),\n ('or', 'CC'),\n ('â€œcreate', 'VB'),\n ('a', 'DT'),\n ('direct', 'JJ'),\n ('entrance', 'NN'),\n ('to', 'TO'),\n ('the', 'DT'),\n ('brain', 'NN'),\n ('for', 'IN'),\n ('any', 'DT'),\n ('infection.â€\\x9d', 'NN'),\n ('Supposed', 'VBN'),\n ('tweet', 'JJ'),\n ('form', 'NN'),\n ('Berlin', 'NNP'),\n ('Police', 'NNP'),\n ('claims', 'NNS'),\n ('there', 'EX'),\n ('was', 'VBD'),\n ('3.5', 'CD'),\n ('million', 'CD'),\n ('people', 'NNS'),\n ('at', 'IN'),\n ('an', 'DT'),\n ('August', 'NNP'),\n ('1st', 'CD'),\n ('rally', 'NN'),\n ('in', 'IN'),\n ('Berlin', 'NNP'),\n ('against', 'IN'),\n ('coronavirus', 'NN'),\n ('meassures', 'NNS'),\n ('.', '.'),\n ('Covid', 'NNP'),\n ('â€', 'NNP'),\n ('“', 'NNP'),\n ('19', 'CD'),\n ('is', 'VBZ'),\n ('a', 'DT'),\n ('bacteria', 'NN'),\n ('amplified', 'VBN'),\n ('by', 'IN'),\n ('5G', 'CD'),\n ('technology', 'NN'),\n ('A', 'DT'),\n ('post', 'NN'),\n ('spreading', 'NN'),\n ('on', 'IN'),\n ('WhatsApp', 'NNP'),\n ('claims', 'NNS'),\n ('there', 'EX'),\n ('are', 'VBP'),\n ('50', 'CD'),\n ('hospital', 'JJ'),\n ('guards', 'NNS'),\n ('job', 'NN'),\n ('oppenings', 'NNS'),\n ('at', 'IN'),\n ('IFEMA', 'NNP'),\n ('hospital', 'NN'),\n ('in', 'IN'),\n ('Madrid', 'NNP'),\n ('.', '.'),\n ('A', 'NNP'),\n ('photo', 'NN'),\n ('shows', 'NNS'),\n ('hand', 'NN'),\n ('sanitizer', 'NN'),\n ('being', 'VBG'),\n ('sold', 'VBN'),\n ('in', 'IN'),\n ('a', 'DT'),\n ('vitamin', 'NN'),\n ('D', 'NNP'),\n ('box', 'NN'),\n ('There', 'EX'),\n ('was', 'VBD'),\n ('a', 'DT'),\n ('78', 'CD'),\n ('%', 'NN'),\n ('fall', 'NN'),\n ('on', 'IN'),\n ('Chinese', 'JJ'),\n ('product', 'NN'),\n ('sales', 'NNS'),\n ('in', 'IN'),\n ('Brazil', 'NNP'),\n ('due', 'JJ'),\n ('to', 'TO'),\n ('a', 'DT'),\n ('boycott', 'NN'),\n ('motivated', 'VBN'),\n ('by', 'IN'),\n ('the', 'DT'),\n ('pandemic', 'NN'),\n (',', ','),\n ('acording', 'VBG'),\n ('to', 'TO'),\n ('INCINT', 'VB'),\n ('A', 'NNP'),\n ('photo', 'NN'),\n ('collage', 'NN'),\n ('claims', 'NNS'),\n ('to', 'TO'),\n ('show', 'VB'),\n ('images', 'NNS'),\n ('taken', 'VBN'),\n ('during', 'IN'),\n ('a', 'DT'),\n ('protest', 'NN'),\n ('against', 'IN'),\n ('coronavirus', 'NN'),\n ('restrictions', 'NNS'),\n ('in', 'IN'),\n ('Germany', 'NNP'),\n ('in', 'IN'),\n ('August', 'NNP'),\n ('2020', 'CD'),\n ('.', '.'),\n ('Police', 'NNP'),\n ('can', 'MD'),\n ('raid', 'VB'),\n ('private', 'JJ'),\n ('spaces', 'NNS'),\n ('in', 'IN'),\n ('MedellÃ\\xadn', 'NNP'),\n ('for', 'IN'),\n ('breach', 'NN'),\n ('of', 'IN'),\n ('the', 'DT'),\n ('Dry', 'NNP'),\n ('Law', 'NNP'),\n ('A', 'NNP'),\n ('post', 'NN'),\n ('showing', 'VBG'),\n ('a', 'DT'),\n ('health', 'NN'),\n ('worker', 'NN'),\n ('from', 'IN'),\n ('the', 'DT'),\n ('MuÃ±iz', 'NNP'),\n ('Hospital', 'NNP'),\n ('(', '('),\n ('Argentina', 'NNP'),\n (')', ')'),\n ('who', 'WP'),\n ('died', 'VBD'),\n ('from', 'IN'),\n ('treating', 'VBG'),\n ('patients', 'NNS'),\n ('with', 'IN'),\n ('COVID-19', 'NNP'),\n ('Fact', 'NNP'),\n ('Check', 'NNP'),\n (':', ':'),\n ('Neither', 'CC'),\n ('The', 'DT'),\n ('Viral', 'NNP'),\n ('Post', 'NNP'),\n ('On', 'IN'),\n ('Coronavirus', 'NNP'),\n ('(', '('),\n ('COVID-19', 'NNP'),\n (')', ')'),\n ('Is', 'VBZ'),\n ('From', 'JJ'),\n ('UNICEF', 'NNP'),\n ('Nor', 'NNP'),\n ('It', 'PRP'),\n ('Is', 'VBZ'),\n ('Accurate', 'JJ'),\n ('COVID-19', 'NNP'),\n ('vaccines', 'NNS'),\n ('will', 'MD'),\n ('cause', 'VB'),\n ('infertility', 'NN'),\n ('â€', 'NNP'),\n ('“', 'NNP'),\n ('do', 'VBP'),\n ('not', 'RB'),\n ('get', 'VB'),\n ('vaccinated', 'VBN'),\n ('A', 'NNP'),\n ('video', 'NN'),\n ('supposedly', 'RB'),\n ('showing', 'VBG'),\n ('a', 'DT'),\n ('dead', 'JJ'),\n ('COVID-19', 'NNP'),\n ('victim', 'NN'),\n ('raising', 'VBG'),\n ('his', 'PRP$'),\n ('hand', 'NN'),\n ('while', 'IN'),\n ('being', 'VBG'),\n ('lifted', 'VBN'),\n ('away', 'RB'),\n ('by', 'IN'),\n ('health', 'NN'),\n ('workers', 'NNS'),\n ('proves', 'VBZ'),\n ('the', 'DT'),\n ('global', 'JJ'),\n ('pandemic', 'NN'),\n ('is', 'VBZ'),\n ('a', 'DT'),\n ('hoax', 'NN'),\n ('.', '.'),\n ('COVID-19', 'NNP'),\n ('has', 'VBZ'),\n ('its', 'PRP$'),\n ('own', 'JJ'),\n ('pH', 'NN'),\n ('value', 'NN'),\n ('â€˜Doctors', 'NNS'),\n ('for', 'IN'),\n ('the', 'DT'),\n ('truthâ€™', 'NNS'),\n ('make', 'VBP'),\n ('claims', 'NNS'),\n ('about', 'IN'),\n ('the', 'DT'),\n ('coronavirus', 'NN'),\n ('.', '.'),\n ('Chinese', 'JJ'),\n ('vaccines', 'NNS'),\n ('contain', 'VBP'),\n ('a', 'DT'),\n ('microchip', 'NN'),\n ('that', 'WDT'),\n ('receives', 'VBZ'),\n ('5G', 'CD'),\n ('signals', 'NNS'),\n ('and', 'CC'),\n ('allow', 'VB'),\n ('Chinese', 'JJ'),\n ('government', 'NN'),\n ('to', 'TO'),\n ('interfere', 'VB'),\n ('with', 'IN'),\n ('your', 'PRP$'),\n ('RNA', 'NNP'),\n ('There', 'EX'),\n ('was', 'VBD'),\n ('a', 'DT'),\n ('30', 'CD'),\n ('%', 'NN'),\n ('fall', 'NN'),\n ('on', 'IN'),\n ('Chinese', 'JJ'),\n ('product', 'NN'),\n ('sales', 'NNS'),\n ('in', 'IN'),\n ('the', 'DT'),\n ('Brazilian', 'JJ'),\n ('state', 'NN'),\n ('of', 'IN'),\n ('Santa', 'NNP'),\n ('Catarina', 'NNP'),\n (',', ','),\n ('due', 'JJ'),\n ('to', 'TO'),\n ('a', 'DT'),\n ('boycott', 'NN'),\n ('motivated', 'VBN'),\n ('by', 'IN'),\n ('the', 'DT'),\n ('pandemic', 'NN'),\n ('A', 'NNP'),\n ('photo', 'NN'),\n ('of', 'IN'),\n ('a', 'DT'),\n ('beach', 'NN'),\n ('with', 'IN'),\n ('lots', 'NNS'),\n ('of', 'IN'),\n ('boats', 'NNS'),\n ('and', 'CC'),\n ('a', 'DT'),\n ('message', 'NN'),\n ('that', 'WDT'),\n ('says', 'VBZ'),\n ('there', 'EX'),\n ('are', 'VBP'),\n ('infected', 'JJ'),\n ('inmigrants', 'NNS'),\n ('in', 'IN'),\n ('Argelia', 'NNP'),\n ('preparing', 'VBG'),\n ('to', 'TO'),\n ('travel', 'VB'),\n ('to', 'TO'),\n ('Spain', 'NNP'),\n ('.', '.'),\n ('The', 'DT'),\n ('WHO', 'NNP'),\n ('said', 'VBD'),\n ('â€œthere', 'EX'),\n ('is', 'VBZ'),\n ('no', 'DT'),\n ('solution', 'NN'),\n ('and', 'CC'),\n ('perhaps', 'RB'),\n ('never', 'RB'),\n ('will', 'MD'),\n ('beâ€\\x9d', 'VB'),\n ('for', 'IN'),\n ('coronavirus', 'NN'),\n ('.', '.'),\n ('Fact', 'JJ'),\n ('Check', 'NNP'),\n (':', ':'),\n ('No', 'DT'),\n (',', ','),\n ('COVID-19', 'NNP'),\n ('Doesnâ€™t', 'NNP'),\n ('Have', 'NNP'),\n ('Its', 'PRP$'),\n ('Own', 'NNP'),\n ('PH', 'NNP'),\n ('Value', 'NNP'),\n (',', ','),\n ('Experts', 'NNP'),\n ('Advice', 'NNP'),\n ('Boosting', 'NNP'),\n ('Immunity', 'NNP'),\n ('To', 'TO'),\n ('Fight', 'NNP'),\n ('Against', 'NNP'),\n ('Coronavirus', 'NNP'),\n ('An', 'DT'),\n ('image', 'NN'),\n ('states', 'VBZ'),\n ('that', 'IN'),\n ('mask', 'NN'),\n ('use', 'NN'),\n ('causes', 'VBZ'),\n ('pneumonia', 'NN'),\n ('and', 'CC'),\n ('hypoxia', 'VB'),\n ('A', 'NNP'),\n ('picture', 'NN'),\n ('allegedly', 'RB'),\n ('showing', 'VBG'),\n ('a', 'DT'),\n ('crowd', 'NN'),\n ('in', 'IN'),\n ('Berlin', 'NNP'),\n ('on', 'IN'),\n ('August', 'NNP'),\n ('1st', 'CD'),\n ('protesting', 'NN'),\n ('agains', 'NNS'),\n ('German', 'JJ'),\n ('government', 'NN'),\n ('meassures', 'NNS'),\n ('against', 'IN'),\n ('COVID-19', 'NNP'),\n ('.', '.'),\n ('A', 'NNP'),\n ('photo', 'NN'),\n ('of', 'IN'),\n ('a', 'DT'),\n ('beach', 'NN'),\n ('with', 'IN'),\n ('lots', 'NNS'),\n ('of', 'IN'),\n ('boats', 'NNS'),\n ('and', 'CC'),\n ('a', 'DT'),\n ('message', 'NN'),\n ('that', 'WDT'),\n ('says', 'VBZ'),\n ('there', 'EX'),\n ('are', 'VBP'),\n ('infected', 'JJ'),\n ('inmigrants', 'NNS'),\n ('in', 'IN'),\n ('Argelia', 'NNP'),\n ('preparing', 'VBG'),\n ('to', 'TO'),\n ('travel', 'VB'),\n ('to', 'TO'),\n ('Spain', 'NNP'),\n ('.', '.'),\n ('A', 'DT'),\n ('picture', 'NN'),\n ('allegedly', 'RB'),\n ('showing', 'VBG'),\n ('a', 'DT'),\n ('crowd', 'NN'),\n ('in', 'IN'),\n ('Berlin', 'NNP'),\n ('on', 'IN'),\n ('August', 'NNP'),\n ('1st', 'CD'),\n ('protesting', 'NN'),\n ('agains', 'NNS'),\n ('German', 'JJ'),\n ('government', 'NN'),\n ('meassures', 'NNS'),\n ('against', 'IN'),\n ('COVID-19', 'NNP'),\n ('.', '.'),\n ('Pedro', 'NNP'),\n ('Sanchez', 'NNP'),\n (',', ','),\n ('president', 'NN'),\n ('of', 'IN'),\n ('government', 'NN'),\n ('of', 'IN'),\n ('Spain', 'NNP'),\n (',', ','),\n ('spoke', 'VBD'),\n ('about', 'IN'),\n ('a', 'DT'),\n ('Scientific', 'NNP'),\n ('Committee', 'NNP'),\n ('and', 'CC'),\n ('now', 'RB'),\n ('the', 'DT'),\n ('government', 'NN'),\n ('recognize', 'VB'),\n ('that', 'IN'),\n ('committee', 'NN'),\n ('never', 'RB'),\n ('existed', 'VBD'),\n ('.', '.'),\n ('Mask', 'NNP'),\n ('can', 'MD'),\n ('cause', 'VB'),\n ('a', 'DT'),\n ('lot', 'NN'),\n ('of', 'IN'),\n ('diseases', 'NNS'),\n (',', ','),\n ('the', 'DT'),\n ('WHO', 'NNP'),\n ('has', 'VBZ'),\n ('said', 'VBD'),\n (',', ','),\n ('and', 'CC'),\n ('asymptomatic', 'JJ'),\n ('patients', 'NNS'),\n ('donâ€™t', 'JJ'),\n ('pass', 'NN'),\n ('on', 'IN'),\n ('the', 'DT'),\n ('virus', 'NN'),\n ('.', '.'),\n ('Also', 'RB'),\n (',', ','),\n ('there', 'EX'),\n ('is', 'VBZ'),\n ('a', 'DT'),\n ('lot', 'NN'),\n ('of', 'IN'),\n ('false', 'JJ'),\n ('positive', 'JJ'),\n ('PCR', 'NNP'),\n ('tests', 'NNS'),\n ('.', '.'),\n ('An', 'DT'),\n ('image', 'NN'),\n ('from', 'IN'),\n ('an', 'DT'),\n ('episode', 'NN'),\n ('of', 'IN'),\n ('Futurama', 'NNP'),\n ('claims', 'VBZ'),\n ('the', 'DT'),\n ('show', 'NN'),\n ('forbade', 'JJ'),\n ('time', 'NN'),\n ('to', 'TO'),\n ('travel', 'VB'),\n ('back', 'RB'),\n ('to', 'TO'),\n ('2020', 'CD'),\n ('.', '.'),\n ('Photo', 'NN'),\n ('from', 'IN'),\n ('the', 'DT'),\n ('demonstration', 'NN'),\n ('against', 'IN'),\n ('meassures', 'NNS'),\n ('by', 'IN'),\n ('the', 'DT'),\n ('German', 'JJ'),\n ('government', 'NN'),\n ('to', 'TO'),\n ('stop', 'VB'),\n ('the', 'DT'),\n ('pandemic', 'NN'),\n ('.', '.'),\n ('Spanish', 'JJ'),\n ('Prime', 'NNP'),\n ('Minister', 'NNP'),\n ('Pedro', 'NNP'),\n ('Sanchez', 'NNP'),\n ('told', 'VBD'),\n ('people', 'NNS'),\n ('to', 'TO'),\n ('invest', 'VB'),\n ('in', 'IN'),\n ('Bitcoin', 'NNP'),\n ('during', 'IN'),\n ('the', 'DT'),\n ('pandemic', 'NN'),\n ('A', 'NNP'),\n ('video', 'NN'),\n ('shows', 'VBZ'),\n ('a', 'DT'),\n ('mannequin', 'NN'),\n ('being', 'VBG'),\n ('taken', 'VBN'),\n ('out', 'RP'),\n ('of', 'IN'),\n ('an', 'DT'),\n ('ambulance', 'NN'),\n (',', ','),\n ('and', 'CC'),\n ('claims', 'VBZ'),\n ('the', 'DT'),\n ('media', 'NNS'),\n ('is', 'VBZ'),\n ('trying', 'VBG'),\n ('to', 'TO'),\n ('fool', 'VB'),\n ('the', 'DT'),\n ('audience', 'NN'),\n ('to', 'TO'),\n ('make', 'VB'),\n ('them', 'PRP'),\n ('think', 'VB'),\n ('itâ€™s', 'VB'),\n ('a', 'DT'),\n ('COVID-19', 'JJ'),\n ('patient', 'NN'),\n ('.', '.'),\n ('A', 'DT'),\n ('picture', 'NN'),\n ('allegedly', 'RB'),\n ('showing', 'VBG'),\n ('a', 'DT'),\n ('large', 'JJ'),\n ('crowd', 'NN'),\n ('gathered', 'VBD'),\n ('in', 'IN'),\n ('Berlin', 'NNP'),\n ('on', 'IN'),\n ('August', 'NNP'),\n ('1st', 'CD'),\n (',', ','),\n ('2020', 'CD'),\n ('to', 'TO'),\n ('protest', 'VB'),\n ...]"
     },
     "metadata": {},
     "execution_count": 24
    }
   ]
  },
  {
   "cell_type": "markdown",
   "source": "<p>  All words in quote are now in a separate tuple, with a tag that represents their part of speech. </p>\n\n<ul>\n<li> JJ - adjectives   </li>\n<li> NN - nouns </li>\n<li> RB - adverbs </li>\n<li> PRP - pronouns </li>\n<li> VB - verb </li>\n</ul>",
   "metadata": {
    "cell_id": "00017-107ec924-d571-4dd2-bb1b-037080fc1d92",
    "deepnote_cell_type": "markdown"
   }
  },
  {
   "cell_type": "code",
   "metadata": {
    "cell_id": "00018-9cd8944e-c488-420c-9049-91707fe7d00e",
    "deepnote_cell_type": "code"
   },
   "source": "# lemmatizing\n# reducing a word to its root\n\n# create a lemmatizer\n\nlemma = WordNetLemmatizer()\n\n# example, lemmatizing a plural noun\n\nlemma.lemmatize(\"scarves\")",
   "execution_count": null,
   "outputs": []
  },
  {
   "cell_type": "code",
   "metadata": {
    "cell_id": "00019-07ec8ca9-1405-4e49-ba11-339eabe7ac1a",
    "deepnote_cell_type": "code"
   },
   "source": "lemma_words = [lemma.lemmatize(word) for word in words]\nlemma_words",
   "execution_count": null,
   "outputs": []
  },
  {
   "cell_type": "code",
   "metadata": {
    "cell_id": "00020-b38c4015-2681-4721-9fff-f8f3361c64c9",
    "deepnote_cell_type": "code"
   },
   "source": "# what if you lemmatized a word that looked very different from its lemma?\n\nlemma.lemmatize(\"worst\")",
   "execution_count": null,
   "outputs": []
  },
  {
   "cell_type": "code",
   "metadata": {
    "cell_id": "00021-f66758af-0ecb-4fd8-a07f-f8be5588f836",
    "deepnote_cell_type": "code"
   },
   "source": "# this happens because the default is to assume noun\n# can indicate that you want \"worst\" to be a adjective\n\nlemma.lemmatize(\"worst\", pos=\"a\")",
   "execution_count": null,
   "outputs": []
  },
  {
   "cell_type": "markdown",
   "source": "<p> Thus, we can combine tagging parts of speech with lemmatizing. </p>",
   "metadata": {
    "cell_id": "00022-ba896e13-202a-40ad-937b-259ce1d740c3",
    "deepnote_cell_type": "markdown"
   }
  },
  {
   "cell_type": "code",
   "metadata": {
    "cell_id": "00023-5d2f5b6f-882f-4771-9995-9ac8cdfff958",
    "deepnote_cell_type": "code"
   },
   "source": "# chunking allows you to identify phrases (a group of words that function as a grammatical unit)\n# nltk.download(\"averaged_perceptron_tagger\")\n\npos_words = nltk.pos_tag(words)\npos_words",
   "execution_count": null,
   "outputs": []
  },
  {
   "cell_type": "code",
   "metadata": {
    "cell_id": "00024-59a9d1c1-a3fc-4792-98f9-1d1cfc34ebb2",
    "deepnote_cell_type": "code"
   },
   "source": "# need to define a chunk grammar\n# chunk grammar == combination of rules on how sentences should be chunked, uses regex\n\ngrammar = \"NP: {<DT>?<JJ>*<NN>}\"\n# --> starts with an optional determiner (article)\n# --> can have any number of adjectives\n# --> end with a noun\n\n# NP  == noun phrase\n\n# create a chunk parser with this grammar\n\nchunk_parser = nltk.RegexpParser(grammar)\n\ntree = chunk_parser.parse(pos_words)\n\ntree.draw()",
   "execution_count": null,
   "outputs": []
  },
  {
   "cell_type": "code",
   "metadata": {
    "cell_id": "00025-a82cb46d-f3f0-442d-a365-01752f5491b1",
    "deepnote_cell_type": "code"
   },
   "source": "# chinking\n# used together with chunking -- chinking is used to exclude a pattern\n\ngrammar = \"\"\"\nChunk: {<.*>+}\n        }<JJ>{\"\"\"\n# {} indicate patterns you want to include\n# }{ indicate patterns you want to exclude\n\n# --> here, we include everything\n# --> here, we exclude adjectives\n\nchunk_parser = nltk.RegexpParser(grammar)\n\ntree = chunk_parser.parse(pos_words)\n\ntree.draw()",
   "execution_count": null,
   "outputs": []
  },
  {
   "cell_type": "code",
   "metadata": {
    "cell_id": "00026-f471318b-1977-48f5-83f5-8b567bdc49f3",
    "deepnote_cell_type": "code"
   },
   "source": "# Named Entity Recognition (NER)\n# --> noun phrases that refer to specific locations, people, and organizations, etc.abs\n\n# nltk.download(\"maxent_ne_chunker\")\n# nltk.download(\"words\")\n\ntree = nltk.ne_chunk(pos_words)\n\ntree.draw()\n",
   "execution_count": null,
   "outputs": []
  },
  {
   "cell_type": "code",
   "metadata": {
    "cell_id": "00027-80015cac-560a-4c12-a02b-4ed18b2f1246",
    "deepnote_cell_type": "code"
   },
   "source": "# can also use the parameter binary=True if you want to know what the named entities are but not what kind\n\ntree = nltk.ne_chunk(pos_words, binary=True)\n\ntree.draw()",
   "execution_count": null,
   "outputs": []
  },
  {
   "cell_type": "code",
   "metadata": {
    "cell_id": "00028-1487e9fa-0274-4977-883e-857cd614b83c",
    "deepnote_cell_type": "code"
   },
   "source": "# can extract entities directly from text\n\ndef extract_ne(quote):\n    words = word_tokenize(quote, language=\"english\")\n    tags = nltk.pos_tag(words)\n    tree = nltk.ne_chunk(tags, binary=True)\n    return set(\n        \" \".join(i[0] for i in t) for t in tree if hasattr(t, \"label\") and t.label() == \"NE\"\n    )\n\nextract_ne(line)\n",
   "execution_count": null,
   "outputs": []
  },
  {
   "cell_type": "code",
   "metadata": {
    "cell_id": "00029-f6148075-12f4-4bb6-9f57-c2efbcf9d73f",
    "deepnote_cell_type": "code"
   },
   "source": "# using a concordance\n# --> when you use a concordance, you can see each time a word is used, along with its immediate context\n\nline\n\ntest = Text(sample_words) # takes in a list of words (tokenized)\ntest.concordance(\"COVID-19\")\n\n",
   "execution_count": 3,
   "outputs": [
    {
     "output_type": "error",
     "ename": "NameError",
     "evalue": "name 'line' is not defined",
     "traceback": [
      "\u001b[1;31m---------------------------------------------------------------------------\u001b[0m",
      "\u001b[1;31mNameError\u001b[0m                                 Traceback (most recent call last)",
      "\u001b[1;32m<ipython-input-3-109a820e92f9>\u001b[0m in \u001b[0;36m<module>\u001b[1;34m\u001b[0m\n\u001b[0;32m      2\u001b[0m \u001b[1;31m# --> when you use a concordance, you can see each time a word is used, along with its immediate context\u001b[0m\u001b[1;33m\u001b[0m\u001b[1;33m\u001b[0m\u001b[1;33m\u001b[0m\u001b[0m\n\u001b[0;32m      3\u001b[0m \u001b[1;33m\u001b[0m\u001b[0m\n\u001b[1;32m----> 4\u001b[1;33m \u001b[0mline\u001b[0m\u001b[1;33m\u001b[0m\u001b[1;33m\u001b[0m\u001b[0m\n\u001b[0m\u001b[0;32m      5\u001b[0m \u001b[1;33m\u001b[0m\u001b[0m\n\u001b[0;32m      6\u001b[0m \u001b[0mtest\u001b[0m \u001b[1;33m=\u001b[0m \u001b[0mText\u001b[0m\u001b[1;33m(\u001b[0m\u001b[0msample_words\u001b[0m\u001b[1;33m)\u001b[0m \u001b[1;31m# takes in a list of words (tokenized)\u001b[0m\u001b[1;33m\u001b[0m\u001b[1;33m\u001b[0m\u001b[0m\n",
      "\u001b[1;31mNameError\u001b[0m: name 'line' is not defined"
     ]
    }
   ]
  },
  {
   "cell_type": "code",
   "metadata": {
    "cell_id": "00030-ec90adaa-5dcc-4f6a-9787-e33f221e0258",
    "deepnote_cell_type": "code"
   },
   "source": "# making a dispersion plot --> seeing how often a particular word appears and where\n\ntest.dispersion_plot([\"COVID-19\", \"vaccine\", \"deaths\", \"respiratory\"])",
   "execution_count": null,
   "outputs": []
  },
  {
   "cell_type": "code",
   "metadata": {
    "cell_id": "00031-bc3f1af0-5e4f-423e-b34f-fad4591c00e1",
    "deepnote_cell_type": "code"
   },
   "source": "# frequency distribution\n\n",
   "execution_count": 1,
   "outputs": [
    {
     "output_type": "error",
     "ename": "NameError",
     "evalue": "name 'freqdist' is not defined",
     "traceback": [
      "\u001b[1;31m---------------------------------------------------------------------------\u001b[0m",
      "\u001b[1;31mNameError\u001b[0m                                 Traceback (most recent call last)",
      "\u001b[1;32m<ipython-input-1-406965f64826>\u001b[0m in \u001b[0;36m<module>\u001b[1;34m\u001b[0m\n\u001b[0;32m      1\u001b[0m \u001b[1;31m# frequency distribution\u001b[0m\u001b[1;33m\u001b[0m\u001b[1;33m\u001b[0m\u001b[1;33m\u001b[0m\u001b[0m\n\u001b[0;32m      2\u001b[0m \u001b[1;33m\u001b[0m\u001b[0m\n\u001b[1;32m----> 3\u001b[1;33m \u001b[0mfreqdist\u001b[0m\u001b[1;33m\u001b[0m\u001b[1;33m\u001b[0m\u001b[0m\n\u001b[0m",
      "\u001b[1;31mNameError\u001b[0m: name 'freqdist' is not defined"
     ]
    }
   ]
  },
  {
   "cell_type": "code",
   "metadata": {
    "cell_id": "00032-181644ae-1bf1-42fa-b3dd-799dbdc9f5d1",
    "deepnote_cell_type": "code"
   },
   "source": "# finding collocations\n# --> a sequence of words that show up often\n\ntest.collocations()",
   "execution_count": 25,
   "outputs": [
    {
     "output_type": "error",
     "ename": "NameError",
     "evalue": "name 'test' is not defined",
     "traceback": [
      "\u001b[1;31m---------------------------------------------------------------------------\u001b[0m",
      "\u001b[1;31mNameError\u001b[0m                                 Traceback (most recent call last)",
      "\u001b[1;32m<ipython-input-25-4b7a7c2adea7>\u001b[0m in \u001b[0;36m<module>\u001b[1;34m\u001b[0m\n\u001b[0;32m      2\u001b[0m \u001b[1;31m# --> a sequence of words that show up often\u001b[0m\u001b[1;33m\u001b[0m\u001b[1;33m\u001b[0m\u001b[1;33m\u001b[0m\u001b[0m\n\u001b[0;32m      3\u001b[0m \u001b[1;33m\u001b[0m\u001b[0m\n\u001b[1;32m----> 4\u001b[1;33m \u001b[0mtest\u001b[0m\u001b[1;33m.\u001b[0m\u001b[0mcollocations\u001b[0m\u001b[1;33m(\u001b[0m\u001b[1;33m)\u001b[0m\u001b[1;33m\u001b[0m\u001b[1;33m\u001b[0m\u001b[0m\n\u001b[0m",
      "\u001b[1;31mNameError\u001b[0m: name 'test' is not defined"
     ]
    }
   ]
  },
  {
   "cell_type": "markdown",
   "source": "<a style='text-decoration:none;line-height:16px;display:flex;color:#5B5B62;padding:10px;justify-content:end;' href='https://deepnote.com?utm_source=created-in-deepnote-cell&projectId=6f4d88f7-58fe-4c32-b979-abb694c94f1b' target=\"_blank\">\n<img alt='Created in deepnote.com' style='display:inline;max-height:16px;margin:0px;margin-right:7.5px;' src='data:image/svg+xml;base64,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' > </img>\nCreated in <span style='font-weight:600;margin-left:4px;'>Deepnote</span></a>",
   "metadata": {
    "tags": [],
    "created_in_deepnote_cell": true,
    "deepnote_cell_type": "markdown"
   }
  }
 ],
 "nbformat": 4,
 "nbformat_minor": 2,
 "metadata": {
  "language_info": {
   "codemirror_mode": {
    "name": "ipython",
    "version": 3
   },
   "file_extension": ".py",
   "mimetype": "text/x-python",
   "name": "python",
   "nbconvert_exporter": "python",
   "pygments_lexer": "ipython3",
   "version": "3.9.5"
  },
  "orig_nbformat": 2,
  "kernelspec": {
   "name": "python395jvsc74a57bd0df1d4501566b1753f163333fdb4ef33fd168166ab063e105c1cfc0db7fb36182",
   "display_name": "Python 3.9.5 64-bit"
  },
  "metadata": {
   "interpreter": {
    "hash": "df1d4501566b1753f163333fdb4ef33fd168166ab063e105c1cfc0db7fb36182"
   }
  },
  "deepnote_notebook_id": "56be1e85-1ae0-4354-869b-5115c5015e38",
  "deepnote": {},
  "deepnote_execution_queue": []
 }
}