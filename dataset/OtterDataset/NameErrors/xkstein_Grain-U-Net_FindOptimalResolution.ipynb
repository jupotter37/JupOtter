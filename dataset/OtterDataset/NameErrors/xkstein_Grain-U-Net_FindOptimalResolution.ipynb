{
 "cells": [
  {
   "cell_type": "markdown",
   "id": "16db9f8a",
   "metadata": {},
   "source": [
    "# Finding Optimal Resolution\n",
    "\n",
    "Quick an dirty script that tries to automatically find the optimal resolution for testing some image"
   ]
  },
  {
   "cell_type": "markdown",
   "id": "a39d1ae0",
   "metadata": {},
   "source": [
    "## Find the Ideal Image Size for Training Data\n",
    "\n",
    "`INPUT_IMAGE` - The image you want to run the analysis on\n",
    "\n",
    "`training_avg_r` - The average ideal grain radius of your training data\n",
    "\n",
    "`dim` - Starting resolution for the search\n",
    "\n",
    "`negative` - Means image has black grains and white boundaries"
   ]
  },
  {
   "cell_type": "code",
   "execution_count": 20,
   "id": "4ab49639",
   "metadata": {},
   "outputs": [],
   "source": [
    "from src.analysis.pixels_per_grain import pixels_per_grain\n",
    "\n",
    "def find_ideal_size(img, target_r, start_dim=528, tolerance=2):\n",
    "    dim = start_dim\n",
    "    while True:\n",
    "        _, avg_size, avg_r, _ = pixels_per_grain(img, (dim,dim))\n",
    "        print(dim, avg_r)\n",
    "        \n",
    "        if np.isnan(avg_r):\n",
    "            print(\"Average r is nan, something horrible has happened\")\n",
    "            return\n",
    "        \n",
    "        if np.abs(avg_r - target_r) < tolerance:\n",
    "            return dim, avg_r, avg_size\n",
    "        elif avg_r > target_r:\n",
    "            dim -= 16\n",
    "        elif avg_r < target_r:\n",
    "            dim += 16"
   ]
  },
  {
   "cell_type": "code",
   "execution_count": 12,
   "id": "fd6c3801",
   "metadata": {
    "scrolled": false
   },
   "outputs": [
    {
     "name": "stdout",
     "output_type": "stream",
     "text": [
      "../data/test_combination/1HR/2789/trace.png\n",
      "528 60.409742726958235\n"
     ]
    },
    {
     "ename": "NameError",
     "evalue": "name 'nan' is not defined",
     "output_type": "error",
     "traceback": [
      "\u001b[0;31m---------------------------------------------------------------------------\u001b[0m",
      "\u001b[0;31mNameError\u001b[0m                                 Traceback (most recent call last)",
      "Input \u001b[0;32mIn [12]\u001b[0m, in \u001b[0;36m<cell line: 16>\u001b[0;34m()\u001b[0m\n\u001b[1;32m     25\u001b[0m     img \u001b[38;5;241m=\u001b[39m img_c\n\u001b[1;32m     27\u001b[0m \u001b[38;5;28mprint\u001b[39m(os\u001b[38;5;241m.\u001b[39mpath\u001b[38;5;241m.\u001b[39mjoin(dir_path, img_path))\n\u001b[0;32m---> 28\u001b[0m dim, avg_r, avg_size \u001b[38;5;241m=\u001b[39m \u001b[43mfind_ideal_size\u001b[49m\u001b[43m(\u001b[49m\u001b[43mimg\u001b[49m\u001b[43m,\u001b[49m\u001b[43m \u001b[49m\u001b[43mtraining_avg_r\u001b[49m\u001b[43m,\u001b[49m\u001b[43m \u001b[49m\u001b[43mdim\u001b[49m\u001b[43m,\u001b[49m\u001b[43m \u001b[49m\u001b[43mtolerance\u001b[49m\u001b[43m)\u001b[49m\n\u001b[1;32m     30\u001b[0m \u001b[38;5;28;01mif\u001b[39;00m crop[ind]:\n\u001b[1;32m     31\u001b[0m     \u001b[38;5;28mprint\u001b[39m(\u001b[38;5;124mf\u001b[39m\u001b[38;5;124m\"\u001b[39m\u001b[38;5;130;01m\\n\u001b[39;00m\u001b[38;5;124mAt Res \u001b[39m\u001b[38;5;132;01m{\u001b[39;00m\u001b[38;5;241m2\u001b[39m\u001b[38;5;241m*\u001b[39mdim\u001b[38;5;132;01m}\u001b[39;00m\u001b[38;5;124mx\u001b[39m\u001b[38;5;132;01m{\u001b[39;00m\u001b[38;5;241m2\u001b[39m\u001b[38;5;241m*\u001b[39mdim\u001b[38;5;132;01m}\u001b[39;00m\u001b[38;5;124m\"\u001b[39m)\n",
      "Input \u001b[0;32mIn [11]\u001b[0m, in \u001b[0;36mfind_ideal_size\u001b[0;34m(img, target_r, start_dim, tolerance)\u001b[0m\n\u001b[1;32m      6\u001b[0m _, avg_size, avg_r, _ \u001b[38;5;241m=\u001b[39m pixels_per_grain(img, (dim,dim))\n\u001b[1;32m      7\u001b[0m \u001b[38;5;28mprint\u001b[39m(dim, avg_r)\n\u001b[0;32m----> 8\u001b[0m \u001b[38;5;28;01mif\u001b[39;00m avg_r \u001b[38;5;241m==\u001b[39m \u001b[43mnan\u001b[49m:\n\u001b[1;32m      9\u001b[0m     \u001b[38;5;28mprint\u001b[39m(\u001b[38;5;124m\"\u001b[39m\u001b[38;5;124mGot some bad result\u001b[39m\u001b[38;5;124m\"\u001b[39m)\n\u001b[1;32m     10\u001b[0m     \u001b[38;5;28;01mreturn\u001b[39;00m\n",
      "\u001b[0;31mNameError\u001b[0m: name 'nan' is not defined"
     ]
    }
   ],
   "source": [
    "import os\n",
    "from src.analysis.pixels_per_grain import pixels_per_grain\n",
    "from skimage import io\n",
    "import numpy as np\n",
    "%load_ext autoreload\n",
    "%autoreload 2\n",
    "\n",
    "dir_path = '../data/test_combination/1HR/2789'\n",
    "img_paths = ['trace.png','results/stackfirst_skel.png']\n",
    "negative = [False, True]\n",
    "crop = [True, True]\n",
    "training_avg_r = 31\n",
    "dim = 528\n",
    "tolerance = 1\n",
    "\n",
    "for ind, img_path in enumerate(img_paths):\n",
    "    img = io.imread(os.path.join(dir_path, img_path))\n",
    "    if len(img.shape) > 2:\n",
    "        img = img[:,:,0]\n",
    "    if negative[ind]:\n",
    "        img = np.max(img) - img\n",
    "    if crop[ind]:\n",
    "        cf = img.shape[0]\n",
    "        img_c = img[cf//4:-cf//4,cf//4:-cf//4]\n",
    "        img = img_c\n",
    "    \n",
    "    print(os.path.join(dir_path, img_path))\n",
    "    dim, avg_r, avg_size = find_ideal_size(img, training_avg_r, dim, tolerance)\n",
    "\n",
    "    if crop[ind]:\n",
    "        print(f\"\\nAt Res {2*dim}x{2*dim}\")\n",
    "        print(f\"Average Radius: {avg_r}\\nAverage Size: {avg_size}\\n\")\n",
    "    else:\n",
    "        print(f\"\\nAt Res {dim}x{dim}\")\n",
    "        print(f\"Average Radius: {avg_r}\\nAverage Size: {avg_size}\\n\")"
   ]
  },
  {
   "cell_type": "markdown",
   "id": "42275ad2",
   "metadata": {},
   "source": [
    "## Finding the ideal Grain Size for Multiple Images\n",
    "\n",
    "Currently configured for a structure like\n",
    "```\n",
    "in_dir\n",
    "+---fov1\n",
    "¦   +---trace.png\n",
    "¦   \\---other_images.png\n",
    "+---something else\n",
    "+---fov2\n",
    "¦   +---other_images.png\n",
    "¦   \\---trace.png\n",
    "```\n",
    "Where it'll only use `trace.png` in `fov1/` and `fov2/`"
   ]
  },
  {
   "cell_type": "code",
   "execution_count": 3,
   "id": "57f93c61",
   "metadata": {},
   "outputs": [
    {
     "name": "stdout",
     "output_type": "stream",
     "text": [
      "['0', '1', '2', '3', '4', '5', '6', '7', '8', '9', '10', '11', '12', '13', '14', '15', '16', '17', '18', '19', 'ideal_res.csv']\n"
     ]
    }
   ],
   "source": [
    "import os\n",
    "import csv\n",
    "from skimage import io\n",
    "import numpy as np\n",
    "\n",
    "in_dir = 'G:/My Drive/Lab/Grain-U-Net/data/test_Pt_Axon_3_denoised_transfer'\n",
    "training_avg_r = 31\n",
    "\n",
    "fovs = np.array([])\n",
    "image_paths = np.array([])\n",
    "for sub_dir in os.listdir(in_dir):\n",
    "    if not os.path.isdir(os.path.join(in_dir, sub_dir)):\n",
    "        continue\n",
    "    for fname in os.listdir(os.path.join(in_dir, sub_dir)):\n",
    "        if fname == 'trace.png':\n",
    "            fovs = np.append(fovs, sub_dir)\n",
    "            image_paths = np.append(image_paths, os.path.join(in_dir, sub_dir, fname))\n",
    "\n",
    "dims = np.array([])\n",
    "avg_rs = np.array([])\n",
    "avg_sizes = np.array([])\n",
    "\n",
    "for img_path in image_paths:\n",
    "    print(img_path)\n",
    "    img = io.imread(img_path)\n",
    "    if len(img.shape) > 2:\n",
    "        img = img[:,:,0]\n",
    "        \n",
    "    dim, avg_r, avg_size = find_ideal_size(img, training_avg_r, 1200)\n",
    "    dims = np.append(dims, dim)\n",
    "    avg_rs = np.append(avg_rs, avg_r)\n",
    "    avg_sizes = np.append(avg_sizes, avg_size)\n",
    "    \n",
    "out = np.column_stack((fovs, dims, avg_rs, avg_sizes))\n",
    "title = np.array(['FOV','Ideal Dimensions','Avg Grain r','Avg Grain Area'])\n",
    "out = np.row_stack((title, out))\n",
    "np.savetxt(os.path.join(in_dir,'ideal_res.csv'), out, delimiter=',', fmt='%s')"
   ]
  },
  {
   "cell_type": "markdown",
   "id": "4825e85d",
   "metadata": {},
   "source": [
    "## Find the Average Ideal Grain Radius of Training Data\n",
    "\n",
    "This find the `Average Pixels per Grain` and the `Average Ideal Grain Radius` for a set of training images\n",
    "\n",
    "`INPUT_PATH` should be the location of the traced images in your training data."
   ]
  },
  {
   "cell_type": "code",
   "execution_count": 11,
   "id": "7c78d0e3",
   "metadata": {},
   "outputs": [
    {
     "name": "stdout",
     "output_type": "stream",
     "text": [
      "The autoreload extension is already loaded. To reload it, use:\n",
      "  %reload_ext autoreload\n",
      "\n",
      "Avg Pixels per Grain: 3974.131416302186\n",
      "Avg Ideal Grain Radius: 31.309408737097613\n",
      "Ideal Grain Radius STD: 13.249901549722873\n"
     ]
    }
   ],
   "source": [
    "import os\n",
    "from src.analysis.grainpixels import pixels_per_grain\n",
    "from skimage import io\n",
    "import numpy as np\n",
    "%load_ext autoreload\n",
    "%autoreload 2\n",
    "\n",
    "INPUT_PATH = '../data/train_nouveaux_256/label'\n",
    "\n",
    "image_paths = np.array([])\n",
    "for fname in os.listdir(INPUT_PATH):\n",
    "    if fname.endswith('.png'):\n",
    "        image_paths = np.append(image_paths, os.path.join(INPUT_PATH, fname))\n",
    "\n",
    "data = np.array([0,0,0])\n",
    "\n",
    "for ind, path in enumerate(image_paths):\n",
    "    trace = io.imread(path)\n",
    "    trace = (trace / 255)\n",
    "    if len(trace.shape) > 2:\n",
    "        trace = trace[:,:,0]\n",
    "\n",
    "    (n_grains, avg, r_avg, r_std) = pixels_per_grain(trace, dims=(336,336), thresh = 0.6)\n",
    "    if np.isnan(np.array([avg, r_avg, r_std])).any():\n",
    "        continue\n",
    "    if ind == 0:\n",
    "        data = np.array([avg, r_avg, r_std])\n",
    "    else:\n",
    "        data = np.vstack((data, [avg, r_avg, r_std]))\n",
    "    #print(f\"Checking {path}\")\n",
    "\n",
    "print(f\"\\n\\\n",
    "Avg Pixels per Grain: {np.mean(data[:,0])}\\n\\\n",
    "Avg Ideal Grain Radius: {np.mean(data[:,1])}\\n\\\n",
    "Ideal Grain Radius STD: {np.mean(data[:,2])}\")"
   ]
  },
  {
   "cell_type": "code",
   "execution_count": null,
   "id": "41c3b272",
   "metadata": {},
   "outputs": [],
   "source": []
  }
 ],
 "metadata": {
  "kernelspec": {
   "display_name": "Python 3 (ipykernel)",
   "language": "python",
   "name": "python3"
  },
  "language_info": {
   "codemirror_mode": {
    "name": "ipython",
    "version": 3
   },
   "file_extension": ".py",
   "mimetype": "text/x-python",
   "name": "python",
   "nbconvert_exporter": "python",
   "pygments_lexer": "ipython3",
   "version": "3.9.12"
  }
 },
 "nbformat": 4,
 "nbformat_minor": 5
}
