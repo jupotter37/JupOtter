{
 "cells": [
  {
   "cell_type": "markdown",
   "metadata": {},
   "source": [
    "# 1. Import the Necessary Package"
   ]
  },
  {
   "cell_type": "code",
   "execution_count": 1,
   "metadata": {},
   "outputs": [],
   "source": [
    "import gym\n",
    "import random\n",
    "import torch\n",
    "import numpy as np\n",
    "import matplotlib.pyplot as plt\n",
    "from collections import deque\n",
    "from recordtype import *\n",
    "import copy\n",
    "import matplotlib.pyplot as plt\n",
    "from utils import * # mean_val, logger\n",
    "%matplotlib inline"
   ]
  },
  {
   "cell_type": "markdown",
   "metadata": {},
   "source": [
    "# 2. Instantiate the Environment "
   ]
  },
  {
   "cell_type": "code",
   "execution_count": 2,
   "metadata": {},
   "outputs": [
    {
     "name": "stdout",
     "output_type": "stream",
     "text": [
      "State size : 7\n",
      "Action size :  5\n"
     ]
    }
   ],
   "source": [
    "from ff_env_discrete_dqn_her import FFEnv, Viewer  # Environemnt\n",
    "\n",
    "env = FFEnv()\n",
    "print(\"State size :\", env.state_size)\n",
    "print(\"Action size : \", env.action_size)"
   ]
  },
  {
   "cell_type": "markdown",
   "metadata": {},
   "source": [
    "# 3. Instantiate the Agent"
   ]
  },
  {
   "cell_type": "code",
   "execution_count": 3,
   "metadata": {},
   "outputs": [],
   "source": [
    "from dqn_her_agent import Agent, HER\n",
    "\n",
    "agent = Agent(state_size=env.state_size, action_size=env.action_size, seed=0)\n",
    "her = HER()"
   ]
  },
  {
   "cell_type": "markdown",
   "metadata": {},
   "source": [
    "# 4. Train the Agent with DQN"
   ]
  },
  {
   "cell_type": "code",
   "execution_count": 4,
   "metadata": {
    "scrolled": true
   },
   "outputs": [
    {
     "name": "stdout",
     "output_type": "stream",
     "text": [
      "Episode 100\tAverage Score: -301.51\n",
      "Episode 200\tAverage Score: -253.07\n",
      "Episode 300\tAverage Score: -248.75\n",
      "Episode 400\tAverage Score: -221.76\n",
      "Episode 500\tAverage Score: -236.26\n",
      "Episode 600\tAverage Score: -250.81\n",
      "Episode 700\tAverage Score: -220.81\n",
      "Episode 800\tAverage Score: -238.40\n",
      "Episode 900\tAverage Score: -232.59\n",
      "Episode 1000\tAverage Score: -225.09\n",
      "Episode 1100\tAverage Score: -208.81\n",
      "Episode 1200\tAverage Score: -229.97\n",
      "Episode 1300\tAverage Score: -229.34\n",
      "Episode 1400\tAverage Score: -228.05\n",
      "Episode 1500\tAverage Score: -208.46\n",
      "Episode 1600\tAverage Score: -203.02\n",
      "Episode 1700\tAverage Score: -200.41\n",
      "Episode 1800\tAverage Score: -247.41\n",
      "Episode 1900\tAverage Score: -226.27\n",
      "Episode 2000\tAverage Score: -230.19\n",
      "Episode 2100\tAverage Score: -222.92\n",
      "Episode 2200\tAverage Score: -205.29\n",
      "Episode 2300\tAverage Score: -202.42\n",
      "Episode 2400\tAverage Score: -216.72\n",
      "Episode 2500\tAverage Score: -229.57\n",
      "Episode 2600\tAverage Score: -286.41\n",
      "Episode 2700\tAverage Score: -205.45\n",
      "Episode 2800\tAverage Score: -215.31\n",
      "Episode 2900\tAverage Score: -196.65\n",
      "Episode 3000\tAverage Score: -215.83\n",
      "Episode 3100\tAverage Score: -186.27\n",
      "Episode 3200\tAverage Score: -229.65\n",
      "Episode 3300\tAverage Score: -215.64\n",
      "Episode 3400\tAverage Score: -210.36\n",
      "Episode 3500\tAverage Score: -219.31\n",
      "Episode 3600\tAverage Score: -213.27\n",
      "Episode 3700\tAverage Score: -200.92\n",
      "Episode 3800\tAverage Score: -219.13\n",
      "Episode 3900\tAverage Score: -227.65\n",
      "Episode 4000\tAverage Score: -195.25\n",
      "Episode 4100\tAverage Score: -238.71\n",
      "Episode 4200\tAverage Score: -229.10\n",
      "Episode 4300\tAverage Score: -205.27\n",
      "Episode 4400\tAverage Score: -194.72\n",
      "Episode 4500\tAverage Score: -210.03\n",
      "Episode 4600\tAverage Score: -218.24\n",
      "Episode 4700\tAverage Score: -201.58\n",
      "Episode 4800\tAverage Score: -209.61\n",
      "Episode 4900\tAverage Score: -207.60\n",
      "Episode 5000\tAverage Score: -235.62\n",
      "Episode 5100\tAverage Score: -216.32\n",
      "Episode 5200\tAverage Score: -216.39\n",
      "Episode 5300\tAverage Score: -218.46\n",
      "Episode 5400\tAverage Score: -231.16\n",
      "Episode 5500\tAverage Score: -236.48\n",
      "Episode 5600\tAverage Score: -197.20\n",
      "Episode 5700\tAverage Score: -195.28\n",
      "Episode 5800\tAverage Score: -219.54\n",
      "Episode 5900\tAverage Score: -199.92\n",
      "Episode 6000\tAverage Score: -217.05\n",
      "Episode 6100\tAverage Score: -221.30\n",
      "Episode 6200\tAverage Score: -215.17\n",
      "Episode 6300\tAverage Score: -215.37\n",
      "Episode 6400\tAverage Score: -202.65\n",
      "Episode 6500\tAverage Score: -209.93\n",
      "Episode 6600\tAverage Score: -208.81\n",
      "Episode 6700\tAverage Score: -218.78\n",
      "Episode 6800\tAverage Score: -219.96\n",
      "Episode 6900\tAverage Score: -215.12\n",
      "Episode 7000\tAverage Score: -222.01\n",
      "Episode 7100\tAverage Score: -203.07\n",
      "Episode 7200\tAverage Score: -205.09\n",
      "Episode 7300\tAverage Score: -210.47\n",
      "Episode 7400\tAverage Score: -205.67\n",
      "Episode 7500\tAverage Score: -234.21\n",
      "Episode 7600\tAverage Score: -215.53\n",
      "Episode 7700\tAverage Score: -178.50\n",
      "Episode 7800\tAverage Score: -208.68\n",
      "Episode 7900\tAverage Score: -209.29\n",
      "Episode 8000\tAverage Score: -196.97\n",
      "Episode 8100\tAverage Score: -216.89\n",
      "Episode 8200\tAverage Score: -226.83\n",
      "Episode 8300\tAverage Score: -195.21\n",
      "Episode 8400\tAverage Score: -197.56\n",
      "Episode 8500\tAverage Score: -212.74\n",
      "Episode 8600\tAverage Score: -219.33\n",
      "Episode 8700\tAverage Score: -209.85\n",
      "Episode 8800\tAverage Score: -215.74\n",
      "Episode 8900\tAverage Score: -205.10\n",
      "Episode 9000\tAverage Score: -239.00\n",
      "Episode 9100\tAverage Score: -212.10\n",
      "Episode 9200\tAverage Score: -215.53\n",
      "Episode 9300\tAverage Score: -208.44\n",
      "Episode 9400\tAverage Score: -215.26\n",
      "Episode 9500\tAverage Score: -204.60\n",
      "Episode 9600\tAverage Score: -220.48\n",
      "Episode 9700\tAverage Score: -214.44\n",
      "Episode 9800\tAverage Score: -204.55\n",
      "Episode 9900\tAverage Score: -224.65\n",
      "Episode 10000\tAverage Score: -218.59\n"
     ]
    }
   ],
   "source": [
    "def dqn(num_episodes=10000, max_t=1000, eps_start=1.0, eps_end=0.01, eps_decay=0.995):\n",
    "    \"\"\"Deep Q-Learning.\n",
    "    \n",
    "    Params\n",
    "    ======\n",
    "        n_episodes (int): maximum number of training episodes\n",
    "        max_t (int): maximum number of timesteps per episode\n",
    "        eps_start (float): starting value of epsilon, for epsilon-greedy action selection\n",
    "        eps_end (float): minimum value of epsilon\n",
    "        eps_decay (float): multiplicative factor (per episode) for decreasing epsilon\n",
    "    \"\"\"\n",
    "    log = logger()\n",
    "    log.add_log('scores')\n",
    "    log.add_log('avg_loss')\n",
    "    \n",
    "    scores = []                        # list containing scores from each episode\n",
    "    scores_window = deque(maxlen=100)  # last 100 scores\n",
    "    eps = eps_start                    # initialize epsilon\n",
    "    \n",
    "    for i_episode in range(1, num_episodes+1):\n",
    "        state = env.reset()\n",
    "        score = 0\n",
    "        for t in range(max_t):\n",
    "            action = agent.act(state, eps)\n",
    "            next_state, reward, done = env.step(action)\n",
    "            # Add experience tuples to replay buffer and learn\n",
    "            agent.step(state, action, reward, next_state, done)\n",
    "            # Add experience tuples to her buffer\n",
    "            her.append(state, action, reward, next_state, done)\n",
    "            \n",
    "            state = next_state\n",
    "            score += reward\n",
    "            if done:\n",
    "                break \n",
    "        \n",
    "        # Update her \n",
    "        if (len(her.buffer) != 0):\n",
    "            her_buffer = her.update()\n",
    "            # Transfer experiences from her buffer to replay buffer\n",
    "            for i in range(len(her_buffer)):\n",
    "                agent.buffer.memory.append(her_buffer[i])\n",
    "        her.buffer = deque()\n",
    "        \n",
    "        scores_window.append(score)       # save most recent score\n",
    "        scores.append(score)              # save most recent score\n",
    "        log.add_item('scores', score)\n",
    "        log.add_item('avg_loss', agent.mean_loss.get())\n",
    "        eps = max(eps_end, eps_decay*eps) # decrease epsilon\n",
    "        \n",
    "        print('\\rEpisode {}\\tAverage Score: {:.2f}'.format(i_episode, np.mean(scores_window)), end=\"\")\n",
    "        if i_episode % 100 == 0:\n",
    "            print('\\rEpisode {}\\tAverage Score: {:.2f}'.format(i_episode, np.mean(scores_window)))\n",
    "            torch.save(agent.qnetwork_local.state_dict(), 'checkpoint.pth')\n",
    "        if i_episode >= num_episodes:\n",
    "            torch.save(agent.qnetwork_local.state_dict(), 'checkpoint.pth')\n",
    "            break\n",
    "            \n",
    "    return scores, log\n",
    "\n",
    "scores, log = dqn()"
   ]
  },
  {
   "cell_type": "code",
   "execution_count": 5,
   "metadata": {},
   "outputs": [
    {
     "data": {
      "image/png": "[encoded data removed]",
      "text/plain": [
       "<Figure size 432x288 with 1 Axes>"
      ]
     },
     "metadata": {
      "needs_background": "light"
     },
     "output_type": "display_data"
    }
   ],
   "source": [
    "# plot the scores\n",
    "fig = plt.figure()\n",
    "ax = fig.add_subplot(111)\n",
    "plt.plot(np.arange(len(scores)), scores)\n",
    "plt.ylabel('Score')\n",
    "plt.xlabel('Episode #')\n",
    "plt.show()"
   ]
  },
  {
   "cell_type": "code",
   "execution_count": 6,
   "metadata": {},
   "outputs": [
    {
     "data": {
      "text/plain": [
       "Text(0, 0.5, 'average loss')"
      ]
     },
     "execution_count": 6,
     "metadata": {},
     "output_type": "execute_result"
    },
    {
     "data": {
      "image/png": "[encoded data removed]",
      "text/plain": [
       "<Figure size 432x288 with 1 Axes>"
      ]
     },
     "metadata": {
      "needs_background": "light"
     },
     "output_type": "display_data"
    },
    {
     "data": {
      "image/png": "[encoded data removed]",
      "text/plain": [
       "<Figure size 432x288 with 1 Axes>"
      ]
     },
     "metadata": {
      "needs_background": "light"
     },
     "output_type": "display_data"
    }
   ],
   "source": [
    "# Plotting \n",
    "Y = np.asarray(log.get_log('scores'))\n",
    "Y2 = smooth(Y)\n",
    "x = np.linspace(0, len(Y), len(Y))\n",
    "fig1 = plt.figure()\n",
    "ax1 = plt.axes()\n",
    "ax1.plot(x, Y, Y2)\n",
    "plt.xlabel('episodes')\n",
    "plt.ylabel('episode return')\n",
    "\n",
    "Y = np.asarray(log.get_log('avg_loss'))\n",
    "Y2 = smooth(Y)\n",
    "x = np.linspace(0, len(Y), len(Y))\n",
    "fig2 = plt.figure()\n",
    "ax2 = plt.axes()\n",
    "ax2.plot(x, Y, Y2)\n",
    "plt.xlabel('episodes')\n",
    "plt.ylabel('average loss')"
   ]
  },
  {
   "cell_type": "markdown",
   "metadata": {},
   "source": [
    "# 5. Evaluate"
   ]
  },
  {
   "cell_type": "code",
   "execution_count": 4,
   "metadata": {
    "scrolled": true
   },
   "outputs": [
    {
     "name": "stdout",
     "output_type": "stream",
     "text": [
      "\n",
      "goal pos :  383.47368792100997 191.86191354367247\n",
      "obj : 276.24999262370324 168.75000333299337 goal : 383.47368792100997 191.86191354367247\n",
      "obj : 279.6253380298022 181.61074384567996 goal : 383.47368792100997 191.86191354367247\n",
      "obj : 281.4378461269207 182.06157548439649 goal : 383.47368792100997 191.86191354367247\n",
      "obj : 283.25250325430375 182.4968314674743 goal : 383.47368792100997 191.86191354367247\n",
      "obj : 285.06923606594125 182.91648955687265 goal : 383.47368792100997 191.86191354367247\n",
      "obj : 286.8880113957954 183.3205102466286 goal : 383.47368792100997 191.86191354367247\n",
      "obj : 288.70877133186514 183.70884002835737 goal : 383.47368792100997 191.86191354367247\n",
      "obj : 290.5314474554832 184.08145026214697 goal : 383.47368792100997 191.86191354367247\n",
      "obj : 292.35595484387557 184.43832302075634 goal : 383.47368792100997 191.86191354367247\n",
      "obj : 294.1822494427497 184.77936491144533 goal : 383.47368792100997 191.86191354367247\n",
      "obj : 296.01026593008044 185.1045732682246 goal : 383.47368792100997 191.86191354367247\n",
      "obj : 297.8398944340131 185.41393594775286 goal : 383.47368792100997 191.86191354367247\n",
      "obj : 299.6711058900246 185.70736126849624 goal : 383.47368792100997 191.86191354367247\n",
      "obj : 301.503778893499 185.98483207974027 goal : 383.47368792100997 191.86191354367247\n",
      "obj : 303.3378424357309 186.24631598301107 goal : 383.47368792100997 191.86191354367247\n",
      "obj : 305.17320111778133 186.49180126162605 goal : 383.47368792100997 191.86191354367247\n",
      "obj : 307.0097865705088 186.72119590358307 goal : 383.47368792100997 191.86191354367247\n",
      "obj : 308.8474990627424 186.9345174946784 goal : 383.47368792100997 191.86191354367247\n",
      "obj : 310.6862323980482 187.13169511963315 goal : 383.47368792100997 191.86191354367247\n",
      "obj : 312.52588460677316 187.31270588060283 goal : 383.47368792100997 191.86191354367247\n",
      "obj : 314.3663904939558 187.47750894867295 goal : 383.47368792100997 191.86191354367247\n",
      "obj : 316.20764151500737 187.62608298944087 goal : 383.47368792100997 191.86191354367247\n",
      "obj : 318.04949818119695 187.75840519480994 goal : 383.47368792100997 191.86191354367247\n",
      "obj : 319.8918843139654 187.87443205932504 goal : 383.47368792100997 191.86191354367247\n",
      "obj : 321.73469952282716 187.9741437409075 goal : 383.47368792100997 191.86191354367247\n",
      "obj : 323.57781521683023 188.05749038524027 goal : 383.47368792100997 191.86191354367247\n",
      "obj : 325.4211228362192 188.12446558660213 goal : 383.47368792100997 191.86191354367247\n",
      "obj : 327.2645039100206 188.1750434160108 goal : 383.47368792100997 191.86191354367247\n",
      "obj : 329.1078771260436 188.20919493749784 goal : 383.47368792100997 191.86191354367247\n",
      "obj : 330.95106900295264 188.22686813226142 goal : 383.47368792100997 191.86191354367247\n",
      "obj : 332.7940069918054 188.22810655317767 goal : 383.47368792100997 191.86191354367247\n",
      "obj : 334.6365699730086 188.21282497581706 goal : 383.47368792100997 191.86191354367247\n",
      "obj : 336.4786119045539 188.18103760126405 goal : 383.47368792100997 191.86191354367247\n",
      "obj : 338.32001435341226 188.13270635733488 goal : 383.47368792100997 191.86191354367247\n",
      "obj : 340.1606677840482 188.06781684863836 goal : 383.47368792100997 191.86191354367247\n",
      "obj : 342.00042646494694 187.9863736149855 goal : 383.47368792100997 191.86191354367247\n",
      "obj : 343.83919483931095 187.88835021394334 goal : 383.47368792100997 191.86191354367247\n",
      "obj : 345.6768133712603 187.77370356777283 goal : 383.47368792100997 191.86191354367247\n",
      "obj : 347.5131557418763 187.64248511073447 goal : 383.47368792100997 191.86191354367247\n",
      "obj : 349.34811067926717 187.494632042783 goal : 383.47368792100997 191.86191354367247\n",
      "obj : 351.1815428800537 187.33014036303302 goal : 383.47368792100997 191.86191354367247\n",
      "obj : 353.0472565999048 185.8089862033512 goal : 383.47368792100997 191.86191354367247\n",
      "obj : 354.89766015831265 184.26925556673723 goal : 383.47368792100997 191.86191354367247\n",
      "obj : 356.7325766818817 182.71109828301178 goal : 383.47368792100997 191.86191354367247\n",
      "obj : 358.55181794761165 181.13465284492122 goal : 383.47368792100997 191.86191354367247\n",
      "obj : 360.3552071071681 179.54011445564447 goal : 383.47368792100997 191.86191354367247\n",
      "obj : 360.3552071071681 179.54011445564447 goal : 383.47368792100997 191.86191354367247\n",
      "obj : 360.3552071071681 179.54011445564447 goal : 383.47368792100997 191.86191354367247\n",
      "obj : 360.3552071071681 179.54011445564447 goal : 383.47368792100997 191.86191354367247\n",
      "obj : 360.3552071071681 179.54011445564447 goal : 383.47368792100997 191.86191354367247\n",
      "obj : 360.3552071071681 179.54011445564447 goal : 383.47368792100997 191.86191354367247\n",
      "obj : 360.3552071071681 179.54011445564447 goal : 383.47368792100997 191.86191354367247\n",
      "obj : 360.3552071071681 179.54011445564447 goal : 383.47368792100997 191.86191354367247\n",
      "obj : 360.3552071071681 179.54011445564447 goal : 383.47368792100997 191.86191354367247\n",
      "obj : 360.3552071071681 179.54011445564447 goal : 383.47368792100997 191.86191354367247\n",
      "obj : 360.3552071071681 179.54011445564447 goal : 383.47368792100997 191.86191354367247\n",
      "obj : 360.3552071071681 179.54011445564447 goal : 383.47368792100997 191.86191354367247\n",
      "obj : 360.3552071071681 179.54011445564447 goal : 383.47368792100997 191.86191354367247\n",
      "obj : 360.3552071071681 179.54011445564447 goal : 383.47368792100997 191.86191354367247\n",
      "obj : 360.3552071071681 179.54011445564447 goal : 383.47368792100997 191.86191354367247\n",
      "obj : 360.3552071071681 179.54011445564447 goal : 383.47368792100997 191.86191354367247\n",
      "obj : 360.3552071071681 179.54011445564447 goal : 383.47368792100997 191.86191354367247\n",
      "obj : 360.3552071071681 179.54011445564447 goal : 383.47368792100997 191.86191354367247\n",
      "obj : 360.3552071071681 179.54011445564447 goal : 383.47368792100997 191.86191354367247\n",
      "obj : 360.3552071071681 179.54011445564447 goal : 383.47368792100997 191.86191354367247\n",
      "obj : 360.3552071071681 179.54011445564447 goal : 383.47368792100997 191.86191354367247\n",
      "obj : 360.3552071071681 179.54011445564447 goal : 383.47368792100997 191.86191354367247\n",
      "obj : 360.3552071071681 179.54011445564447 goal : 383.47368792100997 191.86191354367247\n",
      "obj : 360.3552071071681 179.54011445564447 goal : 383.47368792100997 191.86191354367247\n",
      "obj : 360.3552071071681 179.54011445564447 goal : 383.47368792100997 191.86191354367247\n",
      "obj : 360.3552071071681 179.54011445564447 goal : 383.47368792100997 191.86191354367247\n",
      "obj : 360.3552071071681 179.54011445564447 goal : 383.47368792100997 191.86191354367247\n",
      "obj : 360.3552071071681 179.54011445564447 goal : 383.47368792100997 191.86191354367247\n",
      "obj : 360.3552071071681 179.54011445564447 goal : 383.47368792100997 191.86191354367247\n",
      "obj : 360.3552071071681 179.54011445564447 goal : 383.47368792100997 191.86191354367247\n",
      "obj : 360.3552071071681 179.54011445564447 goal : 383.47368792100997 191.86191354367247\n",
      "obj : 360.3552071071681 179.54011445564447 goal : 383.47368792100997 191.86191354367247\n",
      "obj : 360.3552071071681 179.54011445564447 goal : 383.47368792100997 191.86191354367247\n",
      "obj : 360.3552071071681 179.54011445564447 goal : 383.47368792100997 191.86191354367247\n",
      "obj : 360.3552071071681 179.54011445564447 goal : 383.47368792100997 191.86191354367247\n",
      "obj : 360.3552071071681 179.54011445564447 goal : 383.47368792100997 191.86191354367247\n",
      "obj : 360.3552071071681 179.54011445564447 goal : 383.47368792100997 191.86191354367247\n",
      "obj : 360.3552071071681 179.54011445564447 goal : 383.47368792100997 191.86191354367247\n",
      "obj : 360.3552071071681 179.54011445564447 goal : 383.47368792100997 191.86191354367247\n",
      "obj : 360.3552071071681 179.54011445564447 goal : 383.47368792100997 191.86191354367247\n",
      "obj : 360.3552071071681 179.54011445564447 goal : 383.47368792100997 191.86191354367247\n",
      "obj : 360.3552071071681 179.54011445564447 goal : 383.47368792100997 191.86191354367247\n",
      "obj : 360.3552071071681 179.54011445564447 goal : 383.47368792100997 191.86191354367247\n",
      "obj : 360.3552071071681 179.54011445564447 goal : 383.47368792100997 191.86191354367247\n",
      "obj : 360.3552071071681 179.54011445564447 goal : 383.47368792100997 191.86191354367247\n",
      "obj : 360.3552071071681 179.54011445564447 goal : 383.47368792100997 191.86191354367247\n",
      "obj : 360.3552071071681 179.54011445564447 goal : 383.47368792100997 191.86191354367247\n",
      "obj : 360.3552071071681 179.54011445564447 goal : 383.47368792100997 191.86191354367247\n",
      "obj : 360.3552071071681 179.54011445564447 goal : 383.47368792100997 191.86191354367247\n",
      "obj : 360.3552071071681 179.54011445564447 goal : 383.47368792100997 191.86191354367247\n",
      "obj : 360.3552071071681 179.54011445564447 goal : 383.47368792100997 191.86191354367247\n",
      "obj : 360.3552071071681 179.54011445564447 goal : 383.47368792100997 191.86191354367247\n",
      "obj : 360.3552071071681 179.54011445564447 goal : 383.47368792100997 191.86191354367247\n",
      "obj : 360.3552071071681 179.54011445564447 goal : 383.47368792100997 191.86191354367247\n",
      "obj : 360.3552071071681 179.54011445564447 goal : 383.47368792100997 191.86191354367247\n",
      "obj : 360.3552071071681 179.54011445564447 goal : 383.47368792100997 191.86191354367247\n",
      "obj : 360.3552071071681 179.54011445564447 goal : 383.47368792100997 191.86191354367247\n",
      "obj : 360.3552071071681 179.54011445564447 goal : 383.47368792100997 191.86191354367247\n",
      "obj : 360.3552071071681 179.54011445564447 goal : 383.47368792100997 191.86191354367247\n",
      "obj : 360.3552071071681 179.54011445564447 goal : 383.47368792100997 191.86191354367247\n",
      "obj : 360.3552071071681 179.54011445564447 goal : 383.47368792100997 191.86191354367247\n",
      "obj : 360.3552071071681 179.54011445564447 goal : 383.47368792100997 191.86191354367247\n",
      "obj : 360.3552071071681 179.54011445564447 goal : 383.47368792100997 191.86191354367247\n",
      "obj : 360.3552071071681 179.54011445564447 goal : 383.47368792100997 191.86191354367247\n",
      "obj : 360.3552071071681 179.54011445564447 goal : 383.47368792100997 191.86191354367247\n",
      "obj : 360.3552071071681 179.54011445564447 goal : 383.47368792100997 191.86191354367247\n"
     ]
    },
    {
     "name": "stdout",
     "output_type": "stream",
     "text": [
      "obj : 360.3552071071681 179.54011445564447 goal : 383.47368792100997 191.86191354367247\n",
      "obj : 360.3552071071681 179.54011445564447 goal : 383.47368792100997 191.86191354367247\n",
      "obj : 360.3552071071681 179.54011445564447 goal : 383.47368792100997 191.86191354367247\n",
      "obj : 360.3552071071681 179.54011445564447 goal : 383.47368792100997 191.86191354367247\n",
      "obj : 360.3552071071681 179.54011445564447 goal : 383.47368792100997 191.86191354367247\n",
      "obj : 360.3552071071681 179.54011445564447 goal : 383.47368792100997 191.86191354367247\n",
      "obj : 360.3552071071681 179.54011445564447 goal : 383.47368792100997 191.86191354367247\n",
      "obj : 360.3552071071681 179.54011445564447 goal : 383.47368792100997 191.86191354367247\n",
      "obj : 360.3552071071681 179.54011445564447 goal : 383.47368792100997 191.86191354367247\n",
      "obj : 360.3552071071681 179.54011445564447 goal : 383.47368792100997 191.86191354367247\n",
      "obj : 360.3552071071681 179.54011445564447 goal : 383.47368792100997 191.86191354367247\n",
      "obj : 360.3552071071681 179.54011445564447 goal : 383.47368792100997 191.86191354367247\n",
      "obj : 360.3552071071681 179.54011445564447 goal : 383.47368792100997 191.86191354367247\n",
      "obj : 360.3552071071681 179.54011445564447 goal : 383.47368792100997 191.86191354367247\n",
      "obj : 360.3552071071681 179.54011445564447 goal : 383.47368792100997 191.86191354367247\n",
      "obj : 360.3552071071681 179.54011445564447 goal : 383.47368792100997 191.86191354367247\n",
      "obj : 360.3552071071681 179.54011445564447 goal : 383.47368792100997 191.86191354367247\n",
      "obj : 360.3552071071681 179.54011445564447 goal : 383.47368792100997 191.86191354367247\n",
      "obj : 360.3552071071681 179.54011445564447 goal : 383.47368792100997 191.86191354367247\n",
      "obj : 360.3552071071681 179.54011445564447 goal : 383.47368792100997 191.86191354367247\n",
      "obj : 360.3552071071681 179.54011445564447 goal : 383.47368792100997 191.86191354367247\n",
      "obj : 360.3552071071681 179.54011445564447 goal : 383.47368792100997 191.86191354367247\n",
      "obj : 360.3552071071681 179.54011445564447 goal : 383.47368792100997 191.86191354367247\n",
      "obj : 360.3552071071681 179.54011445564447 goal : 383.47368792100997 191.86191354367247\n",
      "obj : 360.3552071071681 179.54011445564447 goal : 383.47368792100997 191.86191354367247\n",
      "obj : 360.3552071071681 179.54011445564447 goal : 383.47368792100997 191.86191354367247\n",
      "obj : 360.3552071071681 179.54011445564447 goal : 383.47368792100997 191.86191354367247\n",
      "obj : 360.3552071071681 179.54011445564447 goal : 383.47368792100997 191.86191354367247\n",
      "obj : 360.3552071071681 179.54011445564447 goal : 383.47368792100997 191.86191354367247\n",
      "obj : 360.3552071071681 179.54011445564447 goal : 383.47368792100997 191.86191354367247\n",
      "obj : 360.3552071071681 179.54011445564447 goal : 383.47368792100997 191.86191354367247\n",
      "obj : 360.3552071071681 179.54011445564447 goal : 383.47368792100997 191.86191354367247\n",
      "obj : 360.3552071071681 179.54011445564447 goal : 383.47368792100997 191.86191354367247\n",
      "obj : 360.3552071071681 179.54011445564447 goal : 383.47368792100997 191.86191354367247\n",
      "obj : 360.3552071071681 179.54011445564447 goal : 383.47368792100997 191.86191354367247\n",
      "obj : 360.3552071071681 179.54011445564447 goal : 383.47368792100997 191.86191354367247\n",
      "obj : 360.3552071071681 179.54011445564447 goal : 383.47368792100997 191.86191354367247\n",
      "obj : 360.3552071071681 179.54011445564447 goal : 383.47368792100997 191.86191354367247\n",
      "obj : 360.3552071071681 179.54011445564447 goal : 383.47368792100997 191.86191354367247\n",
      "obj : 360.3552071071681 179.54011445564447 goal : 383.47368792100997 191.86191354367247\n",
      "obj : 360.3552071071681 179.54011445564447 goal : 383.47368792100997 191.86191354367247\n",
      "obj : 360.3552071071681 179.54011445564447 goal : 383.47368792100997 191.86191354367247\n",
      "obj : 360.3552071071681 179.54011445564447 goal : 383.47368792100997 191.86191354367247\n",
      "obj : 360.3552071071681 179.54011445564447 goal : 383.47368792100997 191.86191354367247\n",
      "obj : 360.3552071071681 179.54011445564447 goal : 383.47368792100997 191.86191354367247\n",
      "obj : 360.3552071071681 179.54011445564447 goal : 383.47368792100997 191.86191354367247\n",
      "obj : 360.3552071071681 179.54011445564447 goal : 383.47368792100997 191.86191354367247\n",
      "obj : 360.3552071071681 179.54011445564447 goal : 383.47368792100997 191.86191354367247\n",
      "obj : 360.3552071071681 179.54011445564447 goal : 383.47368792100997 191.86191354367247\n",
      "obj : 360.3552071071681 179.54011445564447 goal : 383.47368792100997 191.86191354367247\n",
      "obj : 360.3552071071681 179.54011445564447 goal : 383.47368792100997 191.86191354367247\n",
      "obj : 360.3552071071681 179.54011445564447 goal : 383.47368792100997 191.86191354367247\n",
      "obj : 360.3552071071681 179.54011445564447 goal : 383.47368792100997 191.86191354367247\n",
      "obj : 360.3552071071681 179.54011445564447 goal : 383.47368792100997 191.86191354367247\n",
      "obj : 360.3552071071681 179.54011445564447 goal : 383.47368792100997 191.86191354367247\n",
      "obj : 360.3552071071681 179.54011445564447 goal : 383.47368792100997 191.86191354367247\n",
      "obj : 360.3552071071681 179.54011445564447 goal : 383.47368792100997 191.86191354367247\n",
      "obj : 360.3552071071681 179.54011445564447 goal : 383.47368792100997 191.86191354367247\n",
      "obj : 360.3552071071681 179.54011445564447 goal : 383.47368792100997 191.86191354367247\n",
      "obj : 360.3552071071681 179.54011445564447 goal : 383.47368792100997 191.86191354367247\n",
      "obj : 360.3552071071681 179.54011445564447 goal : 383.47368792100997 191.86191354367247\n",
      "obj : 360.3552071071681 179.54011445564447 goal : 383.47368792100997 191.86191354367247\n",
      "obj : 360.3552071071681 179.54011445564447 goal : 383.47368792100997 191.86191354367247\n",
      "obj : 360.3552071071681 179.54011445564447 goal : 383.47368792100997 191.86191354367247\n",
      "obj : 360.3552071071681 179.54011445564447 goal : 383.47368792100997 191.86191354367247\n",
      "obj : 360.3552071071681 179.54011445564447 goal : 383.47368792100997 191.86191354367247\n",
      "obj : 360.3552071071681 179.54011445564447 goal : 383.47368792100997 191.86191354367247\n",
      "obj : 360.3552071071681 179.54011445564447 goal : 383.47368792100997 191.86191354367247\n",
      "obj : 360.3552071071681 179.54011445564447 goal : 383.47368792100997 191.86191354367247\n",
      "obj : 360.3552071071681 179.54011445564447 goal : 383.47368792100997 191.86191354367247\n",
      "obj : 360.3552071071681 179.54011445564447 goal : 383.47368792100997 191.86191354367247\n",
      "obj : 360.3552071071681 179.54011445564447 goal : 383.47368792100997 191.86191354367247\n",
      "obj : 360.3552071071681 179.54011445564447 goal : 383.47368792100997 191.86191354367247\n",
      "obj : 360.3552071071681 179.54011445564447 goal : 383.47368792100997 191.86191354367247\n",
      "obj : 360.3552071071681 179.54011445564447 goal : 383.47368792100997 191.86191354367247\n",
      "obj : 360.3552071071681 179.54011445564447 goal : 383.47368792100997 191.86191354367247\n",
      "obj : 360.3552071071681 179.54011445564447 goal : 383.47368792100997 191.86191354367247\n",
      "obj : 360.3552071071681 179.54011445564447 goal : 383.47368792100997 191.86191354367247\n",
      "obj : 360.3552071071681 179.54011445564447 goal : 383.47368792100997 191.86191354367247\n",
      "obj : 360.3552071071681 179.54011445564447 goal : 383.47368792100997 191.86191354367247\n",
      "obj : 360.3552071071681 179.54011445564447 goal : 383.47368792100997 191.86191354367247\n",
      "obj : 360.3552071071681 179.54011445564447 goal : 383.47368792100997 191.86191354367247\n",
      "obj : 360.3552071071681 179.54011445564447 goal : 383.47368792100997 191.86191354367247\n",
      "obj : 360.3552071071681 179.54011445564447 goal : 383.47368792100997 191.86191354367247\n",
      "obj : 360.3552071071681 179.54011445564447 goal : 383.47368792100997 191.86191354367247\n",
      "obj : 360.3552071071681 179.54011445564447 goal : 383.47368792100997 191.86191354367247\n",
      "obj : 360.3552071071681 179.54011445564447 goal : 383.47368792100997 191.86191354367247\n",
      "obj : 360.3552071071681 179.54011445564447 goal : 383.47368792100997 191.86191354367247\n",
      "obj : 360.3552071071681 179.54011445564447 goal : 383.47368792100997 191.86191354367247\n"
     ]
    }
   ],
   "source": [
    "# load the weights from file\n",
    "agent.qnetwork_local.load_state_dict(torch.load('checkpoint.pth', map_location='cpu'))\n",
    "\n",
    "for i in range(5):\n",
    "    state = env.reset()\n",
    "    print()\n",
    "    for j in range(200):\n",
    "        action = agent.act(state)\n",
    "        env.render()\n",
    "        state, reward, done = env.step(action)\n",
    "        if done:\n",
    "            print('------------')\n",
    "            break \n",
    "path_x, path_y = env.viewer.return_path()      \n",
    "\n",
    "#env.close()"
   ]
  },
  {
   "cell_type": "code",
   "execution_count": 13,
   "metadata": {},
   "outputs": [
    {
     "data": {
      "image/png": "[encoded data removed]",
      "text/plain": [
       "<Figure size 432x288 with 1 Axes>"
      ]
     },
     "metadata": {
      "needs_background": "light"
     },
     "output_type": "display_data"
    }
   ],
   "source": [
    "plt.scatter(path_x, path_y)\n",
    "plt.show()"
   ]
  },
  {
   "cell_type": "code",
   "execution_count": 1,
   "metadata": {},
   "outputs": [],
   "source": [
    "# Check HER Output and input"
   ]
  },
  {
   "cell_type": "code",
   "execution_count": 9,
   "metadata": {},
   "outputs": [],
   "source": [
    "agent.buffer.memory = deque(maxlen=int(1e5))\n",
    "her.buffer = deque()"
   ]
  },
  {
   "cell_type": "code",
   "execution_count": 7,
   "metadata": {},
   "outputs": [],
   "source": [
    "num_episodes=1\n",
    "max_t=1000\n",
    "eps_start=1.0\n",
    "eps_end=0.01\n",
    "eps_decay=0.995\n",
    "eps = eps_start"
   ]
  },
  {
   "cell_type": "code",
   "execution_count": 8,
   "metadata": {},
   "outputs": [
    {
     "name": "stdout",
     "output_type": "stream",
     "text": [
      "a :  3\n",
      "state :  [1.57079637 1.36674273 1.38124996 0.84375002 1.90309369 0.89514417\n",
      " 0.        ]\n",
      "next_state :  [1.57214236 1.37674272 1.38003446 0.90331274 1.90309369 0.89514417\n",
      " 0.        ]\n",
      "reward :  -0.5231230161566175\n",
      "done :  False\n",
      "------------\n",
      "a :  0\n",
      "state :  [1.57214236 1.37674272 1.38003446 0.90331274 1.90309369 0.89514417\n",
      " 0.        ]\n",
      "next_state :  [1.57214236 1.37674272 1.38003446 0.90331274 1.90309369 0.89514417\n",
      " 0.        ]\n",
      "reward :  -0.5231230161566175\n",
      "done :  False\n",
      "------------\n",
      "a :  1\n",
      "state :  [1.57214236 1.37674272 1.38003446 0.90331274 1.90309369 0.89514417\n",
      " 0.        ]\n",
      "next_state :  [1.57214236 1.37674272 1.38003446 0.90331274 1.90309369 0.89514417\n",
      " 0.        ]\n",
      "reward :  -0.5231230161566175\n",
      "done :  False\n",
      "------------\n",
      "a :  2\n",
      "state :  [1.57214236 1.37674272 1.38003446 0.90331274 1.90309369 0.89514417\n",
      " 0.        ]\n",
      "next_state :  [1.57214236 1.37674272 1.38003446 0.90331274 1.90309369 0.89514417\n",
      " 0.        ]\n",
      "reward :  -0.5231230161566175\n",
      "done :  False\n",
      "------------\n",
      "a :  1\n",
      "state :  [1.57214236 1.37674272 1.38003446 0.90331274 1.90309369 0.89514417\n",
      " 0.        ]\n",
      "next_state :  [1.57214236 1.37674272 1.38003446 0.90331274 1.90309369 0.89514417\n",
      " 0.        ]\n",
      "reward :  -0.5231230161566175\n",
      "done :  False\n",
      "------------\n"
     ]
    }
   ],
   "source": [
    "state = env.reset()\n",
    "for t in range(5): \n",
    "    action = agent.act(state, eps)\n",
    "    print(\"a : \", action)\n",
    "    next_state, reward, done = env.step(action)\n",
    "    print(\"state : \", state)\n",
    "    print(\"next_state : \", next_state)\n",
    "    print(\"reward : \", reward)\n",
    "    print(\"done : \", done)\n",
    "    # Add experience tuples to replay buffer and learn\n",
    "    agent.step(state, action, reward, next_state, done)\n",
    "    # Add experience tuples to her buffer\n",
    "    her.append(state, action, reward, next_state, done)\n",
    "    \n",
    "    state = next_state\n",
    "    if done:\n",
    "        break\n",
    "\n",
    "    print('------------')"
   ]
  },
  {
   "cell_type": "code",
   "execution_count": 8,
   "metadata": {},
   "outputs": [],
   "source": [
    "for i in agent.buffer.memory:\n",
    "    print(\"state : \", i.state)\n",
    "    print(\"next_state : \", i.next_state)\n",
    "    print(\"reward : \", i.reward)\n",
    "    print(\"done : \", i.done)\n",
    "    print('--------')"
   ]
  },
  {
   "cell_type": "code",
   "execution_count": 9,
   "metadata": {},
   "outputs": [],
   "source": [
    "for i in her.buffer:\n",
    "    print(\"state : \", i.state)\n",
    "    print(\"action : \", i.action)\n",
    "    print(\"next_state : \", i.next_state)\n",
    "    print(\"reward : \", i.reward)\n",
    "    print(\"done : \", i.done)\n",
    "    print('--------')\n"
   ]
  },
  {
   "cell_type": "code",
   "execution_count": 8,
   "metadata": {},
   "outputs": [
    {
     "ename": "IndexError",
     "evalue": "deque index out of range",
     "output_type": "error",
     "traceback": [
      "\u001b[0;31m---------------------------------------------------------------------------\u001b[0m",
      "\u001b[0;31mIndexError\u001b[0m                                Traceback (most recent call last)",
      "\u001b[0;32m<ipython-input-8-14f4eb2a9be9>\u001b[0m in \u001b[0;36m<module>\u001b[0;34m\u001b[0m\n\u001b[0;32m----> 1\u001b[0;31m \u001b[0mher_buffer\u001b[0m \u001b[0;34m=\u001b[0m \u001b[0mher\u001b[0m\u001b[0;34m.\u001b[0m\u001b[0mupdate\u001b[0m\u001b[0;34m(\u001b[0m\u001b[0;34m)\u001b[0m\u001b[0;34m\u001b[0m\u001b[0;34m\u001b[0m\u001b[0m\n\u001b[0m\u001b[1;32m      2\u001b[0m \u001b[0;32mfor\u001b[0m \u001b[0mi\u001b[0m \u001b[0;32min\u001b[0m \u001b[0mher_buffer\u001b[0m\u001b[0;34m:\u001b[0m\u001b[0;34m\u001b[0m\u001b[0;34m\u001b[0m\u001b[0m\n\u001b[1;32m      3\u001b[0m     \u001b[0mprint\u001b[0m\u001b[0;34m(\u001b[0m\u001b[0;34m\"state : \"\u001b[0m\u001b[0;34m,\u001b[0m \u001b[0mi\u001b[0m\u001b[0;34m.\u001b[0m\u001b[0mstate\u001b[0m\u001b[0;34m)\u001b[0m\u001b[0;34m\u001b[0m\u001b[0;34m\u001b[0m\u001b[0m\n\u001b[1;32m      4\u001b[0m     \u001b[0mprint\u001b[0m\u001b[0;34m(\u001b[0m\u001b[0;34m\"action : \"\u001b[0m\u001b[0;34m,\u001b[0m \u001b[0mi\u001b[0m\u001b[0;34m.\u001b[0m\u001b[0maction\u001b[0m\u001b[0;34m)\u001b[0m\u001b[0;34m\u001b[0m\u001b[0;34m\u001b[0m\u001b[0m\n\u001b[1;32m      5\u001b[0m     \u001b[0mprint\u001b[0m\u001b[0;34m(\u001b[0m\u001b[0;34m\"next_state : \"\u001b[0m\u001b[0;34m,\u001b[0m \u001b[0mi\u001b[0m\u001b[0;34m.\u001b[0m\u001b[0mnext_state\u001b[0m\u001b[0;34m)\u001b[0m\u001b[0;34m\u001b[0m\u001b[0;34m\u001b[0m\u001b[0m\n",
      "\u001b[0;32m~/singularity/thesis/Friction-Finger-WIHM-DRL/Discrete_her/dqn_her_agent.py\u001b[0m in \u001b[0;36mupdate\u001b[0;34m(self)\u001b[0m\n\u001b[1;32m    191\u001b[0m         \u001b[0mnew_buffer\u001b[0m \u001b[0;34m=\u001b[0m \u001b[0mcopy\u001b[0m\u001b[0;34m.\u001b[0m\u001b[0mdeepcopy\u001b[0m\u001b[0;34m(\u001b[0m\u001b[0mself\u001b[0m\u001b[0;34m.\u001b[0m\u001b[0mbuffer\u001b[0m\u001b[0;34m)\u001b[0m\u001b[0;34m\u001b[0m\u001b[0;34m\u001b[0m\u001b[0m\n\u001b[1;32m    192\u001b[0m \u001b[0;34m\u001b[0m\u001b[0m\n\u001b[0;32m--> 193\u001b[0;31m         \u001b[0mgoal\u001b[0m \u001b[0;34m=\u001b[0m \u001b[0mnew_buffer\u001b[0m\u001b[0;34m[\u001b[0m\u001b[0;34m-\u001b[0m\u001b[0;36m1\u001b[0m\u001b[0;34m]\u001b[0m\u001b[0;34m.\u001b[0m\u001b[0mnext_state\u001b[0m\u001b[0;34m[\u001b[0m\u001b[0;36m2\u001b[0m\u001b[0;34m:\u001b[0m\u001b[0;36m4\u001b[0m\u001b[0;34m]\u001b[0m\u001b[0;34m\u001b[0m\u001b[0;34m\u001b[0m\u001b[0m\n\u001b[0m\u001b[1;32m    194\u001b[0m         \u001b[0;32mfor\u001b[0m \u001b[0mi\u001b[0m \u001b[0;32min\u001b[0m \u001b[0mrange\u001b[0m\u001b[0;34m(\u001b[0m\u001b[0mlen\u001b[0m\u001b[0;34m(\u001b[0m\u001b[0mnew_buffer\u001b[0m\u001b[0;34m)\u001b[0m\u001b[0;34m)\u001b[0m\u001b[0;34m:\u001b[0m\u001b[0;34m\u001b[0m\u001b[0;34m\u001b[0m\u001b[0m\n\u001b[1;32m    195\u001b[0m             \u001b[0mnew_buffer\u001b[0m\u001b[0;34m[\u001b[0m\u001b[0mi\u001b[0m\u001b[0;34m]\u001b[0m\u001b[0;34m.\u001b[0m\u001b[0mstate\u001b[0m\u001b[0;34m[\u001b[0m\u001b[0;36m4\u001b[0m\u001b[0;34m:\u001b[0m\u001b[0;36m6\u001b[0m\u001b[0;34m]\u001b[0m \u001b[0;34m=\u001b[0m \u001b[0mgoal\u001b[0m\u001b[0;34m\u001b[0m\u001b[0;34m\u001b[0m\u001b[0m\n",
      "\u001b[0;31mIndexError\u001b[0m: deque index out of range"
     ]
    }
   ],
   "source": [
    "her_buffer = her.update() \n",
    "for i in her_buffer:\n",
    "    print(\"state : \", i.state)\n",
    "    print(\"action : \", i.action)\n",
    "    print(\"next_state : \", i.next_state)\n",
    "    print(\"reward : \", i.reward)\n",
    "    print(\"done : \", i.done)\n",
    "    print('--------')"
   ]
  },
  {
   "cell_type": "code",
   "execution_count": 11,
   "metadata": {},
   "outputs": [
    {
     "ename": "NameError",
     "evalue": "name 'her_buffer' is not defined",
     "output_type": "error",
     "traceback": [
      "\u001b[0;31m---------------------------------------------------------------------------\u001b[0m",
      "\u001b[0;31mNameError\u001b[0m                                 Traceback (most recent call last)",
      "\u001b[0;32m<ipython-input-11-3fa87a0e74cc>\u001b[0m in \u001b[0;36m<module>\u001b[0;34m\u001b[0m\n\u001b[0;32m----> 1\u001b[0;31m \u001b[0mher_buffer\u001b[0m\u001b[0;34m[\u001b[0m\u001b[0;36m0\u001b[0m\u001b[0;34m]\u001b[0m\u001b[0;34m.\u001b[0m\u001b[0mnext_state\u001b[0m\u001b[0;34m\u001b[0m\u001b[0;34m\u001b[0m\u001b[0m\n\u001b[0m",
      "\u001b[0;31mNameError\u001b[0m: name 'her_buffer' is not defined"
     ]
    }
   ],
   "source": [
    "her_buffer[0].next_state"
   ]
  },
  {
   "cell_type": "code",
   "execution_count": null,
   "metadata": {},
   "outputs": [],
   "source": []
  }
 ],
 "metadata": {
  "kernelspec": {
   "display_name": "Python 3",
   "language": "python",
   "name": "python3"
  },
  "language_info": {
   "codemirror_mode": {
    "name": "ipython",
    "version": 3
   },
   "file_extension": ".py",
   "mimetype": "text/x-python",
   "name": "python",
   "nbconvert_exporter": "python",
   "pygments_lexer": "ipython3",
   "version": "3.6.9"
  }
 },
 "nbformat": 4,
 "nbformat_minor": 2
}
