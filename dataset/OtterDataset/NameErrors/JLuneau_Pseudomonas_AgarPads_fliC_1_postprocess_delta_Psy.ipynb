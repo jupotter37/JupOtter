{
 "cells": [
  {
   "cell_type": "markdown",
   "metadata": {},
   "source": [
    "# Convert delta output to Pandas dataframes\n",
    "\n",
    "In this notebook we convert Delta 2.0 default output into pandas data frames.\n",
    "\n",
    "Note:  run this notebook in an environment in which Delta2 has been installed, see [here](https://delta.readthedocs.io/en/latest/usage/installation.html) for instructions."
   ]
  },
  {
   "cell_type": "code",
   "execution_count": 11,
   "metadata": {},
   "outputs": [],
   "source": [
    "import pathlib\n",
    "import numpy as np\n",
    "import pandas as pd\n",
    "from delta_postprocess import delta_to_df \n",
    "import shutil\n",
    "import pickle"
   ]
  },
  {
   "cell_type": "code",
   "execution_count": 12,
   "metadata": {},
   "outputs": [],
   "source": [
    "#FOLDER STRUCTURE\n",
    "# > Generic experiment name (data_root)\n",
    "#     > Experiment#1 (data_folders)\n",
    "#          > Strain#1 (folder)\n",
    "#               > Postition#1 (images stack)\n",
    "\n",
    "#Set paths to data folders\n",
    "data_root = pathlib.Path(pathlib.Path.home(), 'Documents/Image_analysis/Pseudomonas')\n",
    "data_folders = ['2023.09.27_Psy_AgarPads#13','2023.10.04_Psy_AgarPads#14']\n",
    "\n",
    "#set output paths\n",
    "output_root = pathlib.Path(pathlib.Path.home(), 'Documents/Image_analysis/Pseudomonas/Lopez-Pagan2024/Output')\n",
    "(output_root).mkdir(exist_ok=True) #create output data folder\n",
    "\n",
    "out_files_dir = output_root / 'data_files_individual_colonies'\n",
    "(out_files_dir).mkdir(exist_ok=True) #create output data folder\n",
    "\n",
    "csv_dir = output_root / 'data_files_individual_colonies' / 'csv_files_Psy'\n",
    "(csv_dir).mkdir(exist_ok=True) #create output data folder\n",
    "\n",
    "movie_dir = output_root / 'mp4_movies' \n",
    "(movie_dir).mkdir(exist_ok=True) #create output data folder\n",
    "\n",
    "out_dir = output_root / 'data_files'\n",
    "(out_dir).mkdir(exist_ok=True) #create output data folder"
   ]
  },
  {
   "cell_type": "code",
   "execution_count": 13,
   "metadata": {},
   "outputs": [
    {
     "name": "stdout",
     "output_type": "stream",
     "text": [
      "['Psy-eGFP', 'Psy-fliC-GFP']\n",
      "['2023.09.27_Psy_AgarPads#13_Pos41', '2023.09.27_Psy_AgarPads#13_Pos42', '2023.09.27_Psy_AgarPads#13_Pos44', '2023.09.27_Psy_AgarPads#13_Pos47', '2023.09.27_Psy_AgarPads#13_Pos49', '2023.09.27_Psy_AgarPads#13_Pos50', '2023.09.27_Psy_AgarPads#13_Pos51', '2023.09.27_Psy_AgarPads#13_Pos55', '2023.09.27_Psy_AgarPads#13_Pos60', '2023.09.27_Psy_AgarPads#13_Pos62', '2023.09.27_Psy_AgarPads#13_Pos63', '2023.09.27_Psy_AgarPads#13_Pos69', '2023.09.27_Psy_AgarPads#13_Pos71', '2023.09.27_Psy_AgarPads#13_Pos75']\n",
      "['2023.09.27_Psy_AgarPads#13_Pos01', '2023.09.27_Psy_AgarPads#13_Pos02', '2023.09.27_Psy_AgarPads#13_Pos04', '2023.09.27_Psy_AgarPads#13_Pos08', '2023.09.27_Psy_AgarPads#13_Pos09', '2023.09.27_Psy_AgarPads#13_Pos14', '2023.09.27_Psy_AgarPads#13_Pos15', '2023.09.27_Psy_AgarPads#13_Pos18', '2023.09.27_Psy_AgarPads#13_Pos21', '2023.09.27_Psy_AgarPads#13_Pos23', '2023.09.27_Psy_AgarPads#13_Pos25', '2023.09.27_Psy_AgarPads#13_Pos28', '2023.09.27_Psy_AgarPads#13_Pos31', '2023.09.27_Psy_AgarPads#13_Pos32', '2023.09.27_Psy_AgarPads#13_Pos33', '2023.09.27_Psy_AgarPads#13_Pos34', '2023.09.27_Psy_AgarPads#13_Pos39', '2023.09.27_Psy_AgarPads#13_Pos40']\n"
     ]
    },
    {
     "ename": "NameError",
     "evalue": "name 'movie' is not defined",
     "output_type": "error",
     "traceback": [
      "\u001b[0;31m---------------------------------------------------------------------------\u001b[0m",
      "\u001b[0;31mNameError\u001b[0m                                 Traceback (most recent call last)",
      "Input \u001b[0;32mIn [13]\u001b[0m, in \u001b[0;36m<cell line: 1>\u001b[0;34m()\u001b[0m\n\u001b[1;32m     30\u001b[0m datafiles \u001b[38;5;241m=\u001b[39m [f\u001b[38;5;241m.\u001b[39mname \u001b[38;5;28;01mfor\u001b[39;00m f \u001b[38;5;129;01min\u001b[39;00m \u001b[38;5;28msorted\u001b[39m((data_dir \u001b[38;5;241m/\u001b[39m folder \u001b[38;5;241m/\u001b[39m movie \u001b[38;5;241m/\u001b[39m \u001b[38;5;124m'\u001b[39m\u001b[38;5;124mProcessedData\u001b[39m\u001b[38;5;124m'\u001b[39m)\u001b[38;5;241m.\u001b[39mglob(\u001b[38;5;124m'\u001b[39m\u001b[38;5;124m*.pkl\u001b[39m\u001b[38;5;124m'\u001b[39m))]\n\u001b[1;32m     31\u001b[0m short_name \u001b[38;5;241m=\u001b[39m \u001b[38;5;124m'\u001b[39m\u001b[38;5;132;01m%s\u001b[39;00m\u001b[38;5;124m_\u001b[39m\u001b[38;5;132;01m%s\u001b[39;00m\u001b[38;5;124m'\u001b[39m \u001b[38;5;241m%\u001b[39m(folder,movie)\n\u001b[0;32m---> 33\u001b[0m df \u001b[38;5;241m=\u001b[39m \u001b[43mdelta_to_df\u001b[49m\u001b[43m(\u001b[49m\u001b[43mdata_dir\u001b[49m\u001b[43m \u001b[49m\u001b[38;5;241;43m/\u001b[39;49m\u001b[43m \u001b[49m\u001b[43mfolder\u001b[49m\u001b[43m \u001b[49m\u001b[38;5;241;43m/\u001b[39;49m\u001b[43m \u001b[49m\u001b[43mmovie\u001b[49m\u001b[43m \u001b[49m\u001b[38;5;241;43m/\u001b[39;49m\u001b[43m \u001b[49m\u001b[38;5;124;43m'\u001b[39;49m\u001b[38;5;124;43mProcessedData\u001b[39;49m\u001b[38;5;124;43m'\u001b[39;49m\u001b[43m \u001b[49m\u001b[38;5;241;43m/\u001b[39;49m\u001b[43m \u001b[49m\u001b[43mdatafiles\u001b[49m\u001b[43m[\u001b[49m\u001b[38;5;241;43m0\u001b[39;49m\u001b[43m]\u001b[49m\u001b[43m)\u001b[49m\n\u001b[1;32m     35\u001b[0m df[\u001b[38;5;124m'\u001b[39m\u001b[38;5;124mstrain\u001b[39m\u001b[38;5;124m'\u001b[39m] \u001b[38;5;241m=\u001b[39m folder\n\u001b[1;32m     36\u001b[0m df[\u001b[38;5;124m'\u001b[39m\u001b[38;5;124mmovie_name\u001b[39m\u001b[38;5;124m'\u001b[39m] \u001b[38;5;241m=\u001b[39m short_name\n",
      "File \u001b[0;32m~/Documents/Image_analysis/Pseudomonas/Lopez-Pagan2024/delta_postprocess_bg_correction.py:308\u001b[0m, in \u001b[0;36mdelta_to_df\u001b[0;34m(input)\u001b[0m\n\u001b[1;32m    305\u001b[0m lin \u001b[38;5;241m=\u001b[39m pos\u001b[38;5;241m.\u001b[39mrois[\u001b[38;5;241m0\u001b[39m]\u001b[38;5;241m.\u001b[39mlineage\n\u001b[1;32m    307\u001b[0m \u001b[38;5;66;03m#get delta's xpreader info\u001b[39;00m\n\u001b[0;32m--> 308\u001b[0m myprototype \u001b[38;5;241m=\u001b[39m \u001b[38;5;124m'\u001b[39m\u001b[38;5;124mC\u001b[39m\u001b[38;5;132;01m%01i\u001b[39;00m\u001b[38;5;124m-\u001b[39m\u001b[38;5;124m'\u001b[39m \u001b[38;5;241m+\u001b[39m \u001b[43mmovie\u001b[49m \u001b[38;5;241m+\u001b[39m \u001b[38;5;124m'\u001b[39m\u001b[38;5;124m_crop\u001b[39m\u001b[38;5;132;01m%04i\u001b[39;00m\u001b[38;5;124m.tif\u001b[39m\u001b[38;5;124m'\u001b[39m\n\u001b[1;32m    309\u001b[0m reader \u001b[38;5;241m=\u001b[39m delta\u001b[38;5;241m.\u001b[39mutilities\u001b[38;5;241m.\u001b[39mxpreader(data_dir \u001b[38;5;241m/\u001b[39m folder \u001b[38;5;241m/\u001b[39m movie,\n\u001b[1;32m    310\u001b[0m                                   prototype \u001b[38;5;241m=\u001b[39m myprototype,\n\u001b[1;32m    311\u001b[0m                                   fileorder \u001b[38;5;241m=\u001b[39m \u001b[38;5;124m'\u001b[39m\u001b[38;5;124mct\u001b[39m\u001b[38;5;124m'\u001b[39m,\n\u001b[1;32m    312\u001b[0m                                   filenamesindexing\u001b[38;5;241m=\u001b[39m\u001b[38;5;241m1\u001b[39m\n\u001b[1;32m    313\u001b[0m                                   )\n\u001b[1;32m    315\u001b[0m \u001b[38;5;66;03m#add segment info\u001b[39;00m\n",
      "\u001b[0;31mNameError\u001b[0m: name 'movie' is not defined"
     ]
    }
   ],
   "source": [
    "#Move Delta output data from individual experiments to a single place for data analysis\n",
    "for sub_folder in data_folders:\n",
    "    \n",
    "    data_dir = data_root / sub_folder\n",
    "    \n",
    "    #find subfolders\n",
    "    folder_names = [f.name for f in sorted(data_dir.glob('Psy*'))]\n",
    "    print(folder_names)\n",
    "\n",
    "    #copy movies \n",
    "    for folder in folder_names:\n",
    "        #get images in subfolder\n",
    "        movie_names = [f.name for f in sorted((data_dir / folder).glob('*Pos*'))]\n",
    "        print(movie_names)\n",
    "\n",
    "        for idx, movie in enumerate(movie_names):        \n",
    "            #path to current position        \n",
    "            datafiles = [f.name for f in sorted((data_dir / folder / movie / 'ProcessedData').glob('*.mp4'))]\n",
    "            mp4_name = '%s_%s.mp4' %(folder,movie)\n",
    "            \n",
    "            path_old = data_dir / folder / movie / 'ProcessedData' / datafiles[0]\n",
    "            path_new = movie_dir / mp4_name\n",
    "            shutil.copyfile(path_old, path_new)\n",
    "            \n",
    "    for folder in folder_names:\n",
    "        #get images in subfolder\n",
    "        movie_names = [f.name for f in sorted((data_dir / folder).glob('*Pos*'))]\n",
    "\n",
    "        for idx, movie in enumerate(movie_names):        \n",
    "            #path to current position        \n",
    "            datafiles = [f.name for f in sorted((data_dir / folder / movie / 'ProcessedData').glob('*.pkl'))]\n",
    "            short_name = '%s_%s' %(folder,movie)\n",
    "                    \n",
    "            df = delta_to_df(data_dir / folder / movie / 'ProcessedData' / datafiles[0])\n",
    "            \n",
    "            df['strain'] = folder\n",
    "            df['movie_name'] = short_name\n",
    "            df['replicate'] = idx\n",
    "            \n",
    "            #save data-frame\n",
    "            save_name = short_name + '.csv'\n",
    "            df.to_csv(csv_dir / save_name)"
   ]
  },
  {
   "cell_type": "markdown",
   "metadata": {},
   "source": [
    "## Combine dataframes of separate experiments and store to disk"
   ]
  },
  {
   "cell_type": "code",
   "execution_count": 4,
   "metadata": {},
   "outputs": [],
   "source": [
    "file_list = [pd.read_csv(csv_dir/f.name) for f in sorted(csv_dir.glob('*.csv'))]\n",
    "df_combined = pd.concat(file_list, ignore_index=True).reset_index()\n",
    "save_name = 'Psy_combined_data.csv'\n",
    "df_combined.to_csv(out_dir / save_name)"
   ]
  }
 ],
 "metadata": {
  "kernelspec": {
   "display_name": "Python 3 (ipykernel)",
   "language": "python",
   "name": "python3"
  },
  "language_info": {
   "codemirror_mode": {
    "name": "ipython",
    "version": 3
   },
   "file_extension": ".py",
   "mimetype": "text/x-python",
   "name": "python",
   "nbconvert_exporter": "python",
   "pygments_lexer": "ipython3",
   "version": "3.9.18"
  },
  "vscode": {
   "interpreter": {
    "hash": "6f56a937569668ab65cc2fce89bf73837731fe29bf5b04beb0a684b94d597c4c"
   }
  }
 },
 "nbformat": 4,
 "nbformat_minor": 4
}
