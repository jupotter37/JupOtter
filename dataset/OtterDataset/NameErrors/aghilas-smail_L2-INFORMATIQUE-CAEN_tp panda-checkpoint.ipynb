{
 "cells": [
  {
   "cell_type": "markdown",
   "metadata": {},
   "source": [
    " TP  noté 1 Groupe 3B : Les villes de Normandie\n",
    " ====="
   ]
  },
  {
   "cell_type": "markdown",
   "metadata": {},
   "source": [
    "1 - Introduction \n",
    "------\n",
    "\n",
    "\n",
    "L’objectif de ce TP est de faire une synthèse des notions abordées dans les précédents TP.\n",
    "\n",
    "Le TP sera à réaliser en python 3. Les librairies utilisées sont installées sur les machines de l'université, vous pouvez néanmoins les installer sur vos propres machines à l'aide de l'utilitaire pip présent par défaut avec python.\n",
    "\t\n",
    "**<span style=\"color:red\"> À part si cela est précisé, vous ne devez pas utiliser directement de boucle (`for`,`while`) ou de branchement conditionnel (`if`) durant ce TP.</span>.**\n",
    "\n",
    "**<span style=\"color:red\"> \n",
    "Ce TP sera noté. Vous rendrez le code que vous avez réalisé en fin de séance sur la plateforme ecampus. N’oubliez pas de mettre votre nom et votre numéro d’étudiant dans les commentaires du fichier. Vous rendrez également un compte-rendu de TP où vous présenterez ce que vous avez fait et répondrez aux questions du TP. Vous mettrez le plus d’images possible pour illustrer vos explications. Ce rapport est à rendre sur ecampus dans un délai d’une semaine. Aucun rendu par mail n’est accepté.</span>**\n",
    "\n",
    "**<span style=\"color:blue\"> Ce sujet utilise des générateurs aléatoires. Il est donc normal que vous n'obteniez pas exactement les même valeurs que les exemples de résultat donnée.</span>**"
   ]
  },
  {
   "cell_type": "raw",
   "metadata": {},
   "source": [
    "Nom: \n",
    "Prénom:\n",
    "Numéro d'étudiant:"
   ]
  },
  {
   "cell_type": "code",
   "execution_count": 2,
   "metadata": {},
   "outputs": [],
   "source": [
    "import numpy as np\n",
    "import scipy as sc\n",
    "import scipy.spatial\n",
    "import matplotlib.pyplot as plt\n",
    "import pickle"
   ]
  },
  {
   "cell_type": "markdown",
   "metadata": {},
   "source": [
    "2 - Chargement et prétraitement des données\n",
    "---"
   ]
  },
  {
   "cell_type": "markdown",
   "metadata": {},
   "source": [
    "Lisez le fichier `coord_villes.npy` dans une variable `coord`. Vous aurez les coordonnées des villes de Normandie selon deux axes."
   ]
  },
  {
   "cell_type": "code",
   "execution_count": 3,
   "metadata": {},
   "outputs": [],
   "source": [
    "coord=np.load('coord_villes.npy')"
   ]
  },
  {
   "cell_type": "markdown",
   "metadata": {},
   "source": [
    "Affichez ces villes en bleu sur une figure. Affichez Carentan(665) en rouge ,et  Caen(4), Alençon (1218), Rouen(2297), Saint-lô(751), Evreux(1712) en couleur \"chartreuse\".!"
   ]
  },
  {
   "cell_type": "code",
   "execution_count": 72,
   "metadata": {
    "scrolled": true
   },
   "outputs": [
    {
     "data": {
      "image/png": "[encoded data removed]",
      "text/plain": [
       "<Figure size 432x288 with 1 Axes>"
      ]
     },
     "metadata": {},
     "output_type": "display_data"
    }
   ],
   "source": [
    "plt.scatter(coord[:,0],coord[:,1])\n",
    "plt.scatter(coord[665,0],coord[665,1], color='r',marker='s',s=50,alpha=1)\n",
    "plt.scatter(coord[4,0],coord[4,1], color='r',marker='s',s=50,alpha=1)\n",
    "plt.scatter(coord[1218,0],coord[1218,1], color='r',marker='s',s=50,alpha=1)\n",
    "plt.scatter(coord[2297,0],coord[2297,1], color='r',marker='s',s=50,alpha=1)\n",
    "plt.scatter(coord[751,0],coord[51,1], color='r',marker='s',s=50,alpha=1)\n",
    "plt.scatter(coord[1712,0],coord[1712,1], color='r',marker='s',s=50,alpha=1)\n",
    "plt.show()"
   ]
  },
  {
   "cell_type": "markdown",
   "metadata": {},
   "source": [
    "Calculez la distance euclidienne entre toutes les villes de Normandie. Le résultat sera sous la forme d'une matrice `dist` dont les coordonnées $i,j$ donne la distance entre la ville $i$ et la ville $j$."
   ]
  },
  {
   "cell_type": "code",
   "execution_count": 73,
   "metadata": {},
   "outputs": [],
   "source": [
    "dist = sc.spatial.distance.squareform(sc.spatial.distance.pdist(coord, 'euclidean'))"
   ]
  },
  {
   "cell_type": "markdown",
   "metadata": {},
   "source": [
    "Carentan est la ville d'indice 665. Récupérez les indices des 50 villes les plus proches de Carentan.!"
   ]
  },
  {
   "cell_type": "code",
   "execution_count": 74,
   "metadata": {},
   "outputs": [],
   "source": [
    "indice_Carentan = 665"
   ]
  },
  {
   "cell_type": "code",
   "execution_count": 86,
   "metadata": {},
   "outputs": [
    {
     "data": {
      "text/plain": [
       "array([[  -89.3722146 , -4151.23878313,  4827.37868835],\n",
       "       [  -85.74954179, -4151.31519441,  4827.37868835],\n",
       "       [  -85.72053805, -4149.91106265,  4828.58633447],\n",
       "       [  -91.72524267, -4148.37764183,  4829.79349959],\n",
       "       [  -94.23421765, -4152.53570175,  4826.17063374],\n",
       "       [  -85.6915288 , -4148.506664  ,  4829.79349959],\n",
       "       [  -90.4878477 , -4146.9993494 ,  4831.00032845],\n",
       "       [  -90.67164605, -4155.42270856,  4823.75337199],\n",
       "       [  -95.40989831, -4151.10440468,  4827.37868835],\n",
       "       [  -87.04532158, -4155.50025222,  4823.75337199],\n",
       "       [  -83.30622744, -4149.96023005,  4828.58633447],\n",
       "       [  -83.36259409, -4152.76817557,  4826.17063374],\n",
       "       [  -92.90043455, -4146.94600445,  4831.00032845],\n",
       "       [  -96.58467364, -4149.67242555,  4828.58633447],\n",
       "       [  -90.45718722, -4145.59419925,  4832.20674852],\n",
       "       [  -90.70225289, -4156.82539984,  4822.54409255],\n",
       "       [  -86.83943982, -4145.67155951,  4832.20674852],\n",
       "       [  -91.66311196, -4145.5677104 ,  4832.20674852],\n",
       "       [  -92.8689566 , -4145.54087237,  4832.20674852],\n",
       "       [  -97.82487253, -4151.04819553,  4827.37868835],\n",
       "       [  -84.65632579, -4156.95292371,  4822.54409255],\n",
       "       [  -96.5192918 , -4146.86335449,  4831.00032845],\n",
       "       [  -89.5232428 , -4158.25387296,  4821.33447761],\n",
       "       [  -88.01553856, -4144.24068882,  4833.41268734],\n",
       "       [  -90.42652092, -4144.18878265,  4833.41268734],\n",
       "       [  -95.53890056, -4156.71704858,  4822.54409255],\n",
       "       [  -79.68467268, -4150.03134825,  4828.58633447],\n",
       "       [  -92.83747267, -4144.13547384,  4833.41268734],\n",
       "       [  -93.15196931, -4158.17416586,  4821.33447761],\n",
       "       [  -98.96538414, -4148.21123282,  4829.79349959],\n",
       "       [  -79.7655353 , -4154.24272745,  4824.96224325],\n",
       "       [  -96.48658765, -4145.45825042,  4832.20674852],\n",
       "       [  -82.23784606, -4157.00147223,  4822.54409255],\n",
       "       [ -100.20590874, -4149.58655945,  4828.58633447],\n",
       "       [  -98.93187089, -4146.80649892,  4831.00032845],\n",
       "       [  -78.45089193, -4148.64990532,  4829.79349959],\n",
       "       [  -92.805979  , -4142.72964032,  4834.61828953],\n",
       "       [  -96.4538773 , -4144.0528799 ,  4833.41268734],\n",
       "       [  -84.71343594, -4159.75725284,  4820.12438213],\n",
       "       [  -99.16628365, -4156.63209241,  4822.54409255],\n",
       "       [ -100.13807555, -4146.77754653,  4831.00032845],\n",
       "       [  -77.32257572, -4152.88502867,  4826.17063374],\n",
       "       [  -97.99018469, -4158.06296329,  4821.33447761],\n",
       "       [ -101.51590656, -4153.76813266,  4824.96224325],\n",
       "       [  -89.58360252, -4161.05751403,  4818.91387878],\n",
       "       [  -89.16045613, -4141.40284034,  4835.82348262],\n",
       "       [  -90.79402549, -4161.03127865,  4818.91387878],\n",
       "       [  -78.39775269, -4145.83978947,  4832.20674852],\n",
       "       [ -102.65479326, -4150.93156059,  4827.37868835],\n",
       "       [  -77.21798591, -4147.26765922,  4831.00032845]])"
      ]
     },
     "execution_count": 86,
     "metadata": {},
     "output_type": "execute_result"
    }
   ],
   "source": [
    "indices_caran = np.argsort(dist_carentan)\n",
    "coord_proche_Carentan=coord[indices[1:51]]\n",
    "coord_proche_Carentan"
   ]
  },
  {
   "cell_type": "markdown",
   "metadata": {},
   "source": [
    "Définissez les variables `coord_proche_Carentan` et `dist_proche_Carentan` contenant respectivement les coordonnées des 50 villes les plus proches de Carentan et les distances entre toutes ces villes. "
   ]
  },
  {
   "cell_type": "code",
   "execution_count": 85,
   "metadata": {},
   "outputs": [
    {
     "name": "stdout",
     "output_type": "stream",
     "text": [
      "coord_proche_Carentan [[  -89.3722146  -4151.23878313  4827.37868835]\n",
      " [  -85.74954179 -4151.31519441  4827.37868835]\n",
      " [  -85.72053805 -4149.91106265  4828.58633447]\n",
      " [  -91.72524267 -4148.37764183  4829.79349959]\n",
      " [  -94.23421765 -4152.53570175  4826.17063374]\n",
      " [  -85.6915288  -4148.506664    4829.79349959]\n",
      " [  -90.4878477  -4146.9993494   4831.00032845]\n",
      " [  -90.67164605 -4155.42270856  4823.75337199]\n",
      " [  -95.40989831 -4151.10440468  4827.37868835]\n",
      " [  -87.04532158 -4155.50025222  4823.75337199]\n",
      " [  -83.30622744 -4149.96023005  4828.58633447]\n",
      " [  -83.36259409 -4152.76817557  4826.17063374]\n",
      " [  -92.90043455 -4146.94600445  4831.00032845]\n",
      " [  -96.58467364 -4149.67242555  4828.58633447]\n",
      " [  -90.45718722 -4145.59419925  4832.20674852]\n",
      " [  -90.70225289 -4156.82539984  4822.54409255]\n",
      " [  -86.83943982 -4145.67155951  4832.20674852]\n",
      " [  -91.66311196 -4145.5677104   4832.20674852]\n",
      " [  -92.8689566  -4145.54087237  4832.20674852]\n",
      " [  -97.82487253 -4151.04819553  4827.37868835]\n",
      " [  -84.65632579 -4156.95292371  4822.54409255]\n",
      " [  -96.5192918  -4146.86335449  4831.00032845]\n",
      " [  -89.5232428  -4158.25387296  4821.33447761]\n",
      " [  -88.01553856 -4144.24068882  4833.41268734]\n",
      " [  -90.42652092 -4144.18878265  4833.41268734]\n",
      " [  -95.53890056 -4156.71704858  4822.54409255]\n",
      " [  -79.68467268 -4150.03134825  4828.58633447]\n",
      " [  -92.83747267 -4144.13547384  4833.41268734]\n",
      " [  -93.15196931 -4158.17416586  4821.33447761]\n",
      " [  -98.96538414 -4148.21123282  4829.79349959]\n",
      " [  -79.7655353  -4154.24272745  4824.96224325]\n",
      " [  -96.48658765 -4145.45825042  4832.20674852]\n",
      " [  -82.23784606 -4157.00147223  4822.54409255]\n",
      " [ -100.20590874 -4149.58655945  4828.58633447]\n",
      " [  -98.93187089 -4146.80649892  4831.00032845]\n",
      " [  -78.45089193 -4148.64990532  4829.79349959]\n",
      " [  -92.805979   -4142.72964032  4834.61828953]\n",
      " [  -96.4538773  -4144.0528799   4833.41268734]\n",
      " [  -84.71343594 -4159.75725284  4820.12438213]\n",
      " [  -99.16628365 -4156.63209241  4822.54409255]\n",
      " [ -100.13807555 -4146.77754653  4831.00032845]\n",
      " [  -77.32257572 -4152.88502867  4826.17063374]\n",
      " [  -97.99018469 -4158.06296329  4821.33447761]\n",
      " [ -101.51590656 -4153.76813266  4824.96224325]\n",
      " [  -89.58360252 -4161.05751403  4818.91387878]\n",
      " [  -89.16045613 -4141.40284034  4835.82348262]\n",
      " [  -90.79402549 -4161.03127865  4818.91387878]\n",
      " [  -78.39775269 -4145.83978947  4832.20674852]\n",
      " [ -102.65479326 -4150.93156059  4827.37868835]\n",
      " [  -77.21798591 -4147.26765922  4831.00032845]]\n",
      "dist_proche_Carentan [[ 0.          3.62347857  4.06890556 ... 13.14907265 13.28613117\n",
      "  13.28952133]\n",
      " [ 3.62347857  0.          1.85225171 ... 10.36045497 16.90960384\n",
      "  10.11366719]\n",
      " [ 4.06890556  1.85225171  0.         ...  9.12720376 17.00790477\n",
      "   9.22541823]\n",
      " ...\n",
      " [13.14907265 10.36045497  9.12720376 ...  0.         25.25154085\n",
      "   2.21045494]\n",
      " [13.28613117 16.90960384 17.00790477 ... 25.25154085  0.\n",
      "  25.95325834]\n",
      " [13.28952133 10.11366719  9.22541823 ...  2.21045494 25.95325834\n",
      "   0.        ]]\n"
     ]
    }
   ],
   "source": [
    "indices_caran = np.argsort(dist_carentan)\n",
    "coord_proche_Carentan=coord[indices[1:51]]\n",
    "\n",
    "dist_proche_Carentan=sc.spatial.distance.squareform(sc.spatial.distance.pdist(coord_proche_Carentan, 'euclidean'))\n",
    "\n",
    "print(\"coord_proche_Carentan\",coord_proche_Carentan)\n",
    "print(\"dist_proche_Carentan\",dist_proche_Carentan)"
   ]
  },
  {
   "cell_type": "markdown",
   "metadata": {},
   "source": [
    "Affichez sur une figure les 50 villes les plus proches de Carentan en bleu et la ville de Carentan en rouge.![texte alternatif](Carentan_50voisine.png)\n"
   ]
  },
  {
   "cell_type": "code",
   "execution_count": 77,
   "metadata": {},
   "outputs": [
    {
     "ename": "NameError",
     "evalue": "name 'dist_rouen' is not defined",
     "output_type": "error",
     "traceback": [
      "\u001b[0;31m---------------------------------------------------------------------------\u001b[0m",
      "\u001b[0;31mNameError\u001b[0m                                 Traceback (most recent call last)",
      "\u001b[0;32m<ipython-input-77-8a74890b3ad2>\u001b[0m in \u001b[0;36m<module>\u001b[0;34m()\u001b[0m\n\u001b[1;32m      2\u001b[0m \u001b[0mindices_caran\u001b[0m \u001b[0;34m=\u001b[0m \u001b[0mnp\u001b[0m\u001b[0;34m.\u001b[0m\u001b[0margsort\u001b[0m\u001b[0;34m(\u001b[0m\u001b[0mdist_carentan\u001b[0m\u001b[0;34m)\u001b[0m\u001b[0;34m\u001b[0m\u001b[0m\n\u001b[1;32m      3\u001b[0m \u001b[0mvilles_proche\u001b[0m\u001b[0;34m=\u001b[0m\u001b[0mcoord\u001b[0m\u001b[0;34m[\u001b[0m\u001b[0mindices\u001b[0m\u001b[0;34m[\u001b[0m\u001b[0;36m1\u001b[0m\u001b[0;34m:\u001b[0m\u001b[0;36m51\u001b[0m\u001b[0;34m]\u001b[0m\u001b[0;34m]\u001b[0m\u001b[0;34m\u001b[0m\u001b[0m\n\u001b[0;32m----> 4\u001b[0;31m \u001b[0mvilles_eloigne\u001b[0m\u001b[0;34m=\u001b[0m \u001b[0mnp\u001b[0m\u001b[0;34m.\u001b[0m\u001b[0margsort\u001b[0m\u001b[0;34m(\u001b[0m\u001b[0mdist_rouen\u001b[0m\u001b[0;34m)\u001b[0m\u001b[0;34m[\u001b[0m\u001b[0;34m-\u001b[0m\u001b[0;36m1\u001b[0m\u001b[0;34m:\u001b[0m \u001b[0;34m-\u001b[0m\u001b[0;36m51\u001b[0m\u001b[0;34m:\u001b[0m\u001b[0;34m-\u001b[0m\u001b[0;36m1\u001b[0m\u001b[0;34m]\u001b[0m\u001b[0;34m\u001b[0m\u001b[0m\n\u001b[0m\u001b[1;32m      5\u001b[0m \u001b[0;34m\u001b[0m\u001b[0m\n\u001b[1;32m      6\u001b[0m \u001b[0;34m\u001b[0m\u001b[0m\n",
      "\u001b[0;31mNameError\u001b[0m: name 'dist_rouen' is not defined"
     ]
    }
   ],
   "source": [
    "dist_carentan = dist[665]\n",
    "indices_caran = np.argsort(dist_carentan)\n",
    "villes_proche=coord[indices[1:51]]\n",
    "villes_eloigne= np.argsort(dist_rouen)[-1: -51:-1]\n",
    "\n",
    "\n",
    "dist_Rouen = dist[indice_Rouen]\n",
    "indices_caran = np.argsort(dist_Rouen)\n",
    "print(coord[indices_caran[1:41]])\n",
    "\n",
    "\n",
    "dist_rouen = dist[ville['Rouen']]\n",
    "#indices_rouen = np.argsort(dist_rouen)[-1: -51:-1]\n",
    "#indices_caen = np.argsort(dist_caen)[1:51]\n",
    "\n",
    "\n",
    "plt.scatter(coord_xyz[:,0],-coord_xyz[:,1],color='b');\n",
    "\n",
    "#plt.scatter(coord_xyz[ville['Caen'], 0],-coord_xyz[ville['Caen'],1], color='green');\n",
    "#plt.scatter(coord_xyz[ville['Rouen'], 0],-coord_xyz[ville['Rouen'],1],color='y');\n",
    "\n",
    "                  \n",
    "#plt.scatter(coord_xyz[indices_rouen, 0],-coord_xyz[indices_rouen,1],color='red');\n",
    "#plt.scatter(coord_xyz[indices_caen, 0],-coord_xyz[indices_caen,1],color='black');\n",
    "\n",
    "plt.show()"
   ]
  },
  {
   "cell_type": "markdown",
   "metadata": {},
   "source": [
    "3 - Visualition d'un propagation\n",
    "---\n",
    "\n",
    "Nous allons dans ce TP visualiser la propagation d'un phénomène entre les villes proches de Carentan."
   ]
  },
  {
   "cell_type": "markdown",
   "metadata": {},
   "source": [
    "Tirez 5 entiers entre 0 et 50 non compris que vous placerez dans un tableau nommée `i_villes_src`.\n",
    "Numéro de villes choisies:  [ 7 37 15 35  4]"
   ]
  },
  {
   "cell_type": "code",
   "execution_count": null,
   "metadata": {},
   "outputs": [],
   "source": [
    "i_villes_src=np.random.randint(1, 50, 5)\n",
    "print(i_villes_src)"
   ]
  },
  {
   "cell_type": "raw",
   "metadata": {},
   "source": [
    "Définissez un tableau `villes_src` de taille 50 qui contient True pour les 5 indices précédemment choisi et False sinon.\n",
    "villes_src: [False False False False False  True False False False False False False\n",
    " False False False False False False False  True  True False  True False\n",
    " False False False False False False False False False False False False\n",
    " False False False  True False False False False False False False False\n",
    " False False]\n",
    "[[ True  True False ..., False False False]\n",
    " [ True  True False ..., False False False]\n",
    " [False  True  True ..., False False False]\n",
    " ..., \n",
    " [False False False ...,  True False False]\n",
    " [False False False ..., False  True False]\n",
    " [False False False ..., False False  True]]\n"
   ]
  },
  {
   "cell_type": "code",
   "execution_count": null,
   "metadata": {},
   "outputs": [],
   "source": [
    "ville_src = np.eye(50)"
   ]
  },
  {
   "cell_type": "markdown",
   "metadata": {},
   "source": [
    "Définissez un variable $s$ égale à 4. Vous pourrez changer par la suite cette valeur pour accélérer ou ralentir la propagation."
   ]
  },
  {
   "cell_type": "code",
   "execution_count": null,
   "metadata": {},
   "outputs": [],
   "source": [
    "s=4"
   ]
  },
  {
   "cell_type": "raw",
   "metadata": {},
   "source": [
    "Tirez selon une loi normale centrée réduite les valeurs d’une matrice nommée `villes_choisie_propagation`. Cette matrice aura la même taille que la matrice `dist_proche_Carentan`. Elle va nous permettre de choisir les villes où à lieu la propagation en fonction de leurs distances aux villes initiales."
   ]
  },
  {
   "cell_type": "code",
   "execution_count": null,
   "metadata": {},
   "outputs": [],
   "source": []
  },
  {
   "cell_type": "markdown",
   "metadata": {},
   "source": [
    "Multipliez les valeurs de la matrice `villes_choisie_propagation` par $s$ pour fixer la vitesse de propagation. "
   ]
  },
  {
   "cell_type": "code",
   "execution_count": null,
   "metadata": {},
   "outputs": [],
   "source": []
  },
  {
   "cell_type": "raw",
   "metadata": {},
   "source": [
    "Construisez une nouvelle matrice `villes_apres_propagation` qui contient True pour les valeurs dans `villes_choisie_propagation` dont la valeur absolue est plus grande que les valeurs dans `dist_proche_Carentan` et False pour les autres. Cette matrice permet de connaître de quelles villes et vers quelles villes se font les propagations. \n",
    "Les villes selon les lignes indiquent les villes sources, les villes en colonnes sont les villes destinations. Pour l'instant on considère que toute ville peut être source. \n",
    "en utilisant la fonction affichediffusion, afficher la matrice villes_apres_propagation."
   ]
  },
  {
   "cell_type": "code",
   "execution_count": null,
   "metadata": {},
   "outputs": [],
   "source": [
    "def affichediffusion(villes_apres_propagation,legende):\n",
    "    plt.figure(figsize=(15,15))\n",
    "    plt.imshow(villes_apres_propagation,cmap='gray')\n",
    "    plt.title(legende)\n",
    "    # Affichage de la grille\n",
    "    ax = plt.gca()\n",
    "    ax.set_xticks(np.arange(0, 50))\n",
    "    ax.set_yticks(np.arange(0, 50))\n",
    "    ax.set_xticks(np.arange(-.5, 50, 1), minor=True);\n",
    "    ax.set_yticks(np.arange(-.5, 50, 1), minor=True);\n",
    "    ax.set_xticklabels(np.arange(50))\n",
    "    ax.set_yticklabels(np.arange(50))\n",
    "    plt.grid(which='minor')\n",
    "    plt.show()\n"
   ]
  },
  {
   "cell_type": "markdown",
   "metadata": {},
   "source": [
    "Déclarez une variable `villes_apres_propagation2` qui est égale `villes_apres_propagation` auquel on soustrait une matrice identité de même dimension.  en utilisant la fonction affichediffusion, afficher la matrice villes_apres_propagation2. ![texte alernatif](3B_villes_apres_propagation2.png)"
   ]
  },
  {
   "cell_type": "code",
   "execution_count": null,
   "metadata": {},
   "outputs": [],
   "source": [
    "\n"
   ]
  },
  {
   "cell_type": "markdown",
   "metadata": {},
   "source": [
    "En utilisant la matrice`ville_src`et `villes_apres_propagation2`, construisez une matrice g semblable à `villes_apres_propagation2` dont seul les lignes correspondant aux villes sources contiennent des valeurs différentes de 0. en utilisant la fonction affichediffusion, afficher la matrice g.![texte alernatif](3B_g.png)"
   ]
  },
  {
   "cell_type": "code",
   "execution_count": null,
   "metadata": {},
   "outputs": [],
   "source": [
    "\n"
   ]
  },
  {
   "cell_type": "markdown",
   "metadata": {},
   "source": [
    "Construisez un vecteur `villes_dest` recensant toutes les villes destinations. Ce vecteur contiendra True aux positions des villes destinations et False pour les autres. Pour répondre, vous utiliserez notamment une sommation bien choisie sur la matrice précédente."
   ]
  },
  {
   "cell_type": "code",
   "execution_count": null,
   "metadata": {},
   "outputs": [],
   "source": []
  },
  {
   "cell_type": "markdown",
   "metadata": {},
   "source": [
    "Affichez avec des carrés bleus les 50 villes proches de Carentan, avec des ronds rouges les villes sources et avec des carrés verts les villes destinations. Un affichage qui répond aux contraintes précédentes et qui ne serait pas exactement similaire au rendu du sujet, convient parfaitement. ![texte alernatif](3B_diffusion_1.png)"
   ]
  },
  {
   "cell_type": "code",
   "execution_count": null,
   "metadata": {},
   "outputs": [],
   "source": []
  },
  {
   "cell_type": "markdown",
   "metadata": {},
   "source": [
    "4 - Graphe de propagation\n",
    "---\n",
    "\n",
    "L'objectif de cette partie est de visualiser dans quel sens se font les propagations. Nous souhaitons créé un graphe permettant de visualiser avec des flèches les villes sources et destinations de nos propagations. "
   ]
  },
  {
   "cell_type": "raw",
   "metadata": {},
   "source": [
    "Définir une fonction affichetab(a) qui affiche les dimensions puis les valeurs d'un tableau a."
   ]
  },
  {
   "cell_type": "code",
   "execution_count": null,
   "metadata": {},
   "outputs": [],
   "source": []
  },
  {
   "cell_type": "markdown",
   "metadata": {},
   "source": [
    "Créez un vecteur de valeurs de 0 à 50 non compris que vous nommerez `noeuds`. Ce vecteur liste les numéros de villes."
   ]
  },
  {
   "cell_type": "code",
   "execution_count": null,
   "metadata": {},
   "outputs": [],
   "source": [
    "\n"
   ]
  },
  {
   "cell_type": "markdown",
   "metadata": {},
   "source": [
    "Créez une matrice de la même taille que `g` indiquant les noeuds sources possible. Vous nommerez cette matrice `a`."
   ]
  },
  {
   "cell_type": "code",
   "execution_count": null,
   "metadata": {},
   "outputs": [],
   "source": [
    "\n"
   ]
  },
  {
   "cell_type": "raw",
   "metadata": {},
   "source": [
    "Concaténez `a.T` et `a` selon l'axe de profondeur."
   ]
  },
  {
   "cell_type": "code",
   "execution_count": null,
   "metadata": {},
   "outputs": [],
   "source": []
  },
  {
   "cell_type": "markdown",
   "metadata": {},
   "source": [
    "Redimensionnez la matrice précédente pour ne garder que les lignes et 2 colonnes. Vous nommerez cette matrice `i_noeuds`."
   ]
  },
  {
   "cell_type": "code",
   "execution_count": null,
   "metadata": {},
   "outputs": [],
   "source": []
  },
  {
   "cell_type": "markdown",
   "metadata": {},
   "source": [
    "En utilisant la matrice précédente. Faites une liste de tout les propagations. La première colonne indique le numéro de la ville source et la deuxième colonne le numéro de la ville destination. Vous nommerez cette matrice `fleches`."
   ]
  },
  {
   "cell_type": "code",
   "execution_count": null,
   "metadata": {},
   "outputs": [],
   "source": []
  },
  {
   "cell_type": "markdown",
   "metadata": {},
   "source": [
    "A votre avis que fait la fonction suivante ? "
   ]
  },
  {
   "cell_type": "code",
   "execution_count": null,
   "metadata": {},
   "outputs": [],
   "source": [
    "def printGraph(coord,fleches,villes_src):\n",
    "    plt.figure(figsize=(15,15))\n",
    "    ax = plt.axes()\n",
    "        \n",
    "    ax.axis('equal')\n",
    "    ax.quiver(coord[fleches[:,0],0], \n",
    "              coord[fleches[:,0],1],\n",
    "              coord[fleches[:,1],0]-coord[fleches[:,0],0],\n",
    "              coord[fleches[:,1],1]-coord[fleches[:,0],1],\n",
    "              scale=1.1, units='xy',\n",
    "              headwidth = 7\n",
    "    )\n",
    "    \n",
    "    ax.scatter(coord[:,0],coord[:,1],s=100)\n",
    "    ax.scatter(coord[villes_src,0],coord[villes_src,1],s=100,color='r')\n",
    "    plt.show()"
   ]
  },
  {
   "cell_type": "raw",
   "metadata": {},
   "source": [
    "À remplir"
   ]
  },
  {
   "cell_type": "markdown",
   "metadata": {},
   "source": [
    "Utilisez la fonction précédente avec les données du TP. ![texte alternatif](3B_diffusion2.png)"
   ]
  },
  {
   "cell_type": "code",
   "execution_count": null,
   "metadata": {},
   "outputs": [],
   "source": []
  },
  {
   "cell_type": "markdown",
   "metadata": {},
   "source": [
    "Question bonus: Mixez les deux types d'affichage utilisé dans ce TP pour obtenir l'affichage suivant:"
   ]
  },
  {
   "cell_type": "code",
   "execution_count": null,
   "metadata": {},
   "outputs": [],
   "source": [
    "\n",
    "\n"
   ]
  }
 ],
 "metadata": {
  "kernelspec": {
   "display_name": "Python 3",
   "language": "python",
   "name": "python3"
  },
  "language_info": {
   "codemirror_mode": {
    "name": "ipython",
    "version": 3
   },
   "file_extension": ".py",
   "mimetype": "text/x-python",
   "name": "python",
   "nbconvert_exporter": "python",
   "pygments_lexer": "ipython3",
   "version": "3.7.4"
  }
 },
 "nbformat": 4,
 "nbformat_minor": 2
}
