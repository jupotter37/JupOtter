{
 "cells": [
  {
   "cell_type": "markdown",
   "metadata": {},
   "source": [
    "Hola Ariel!\n",
    "\n",
    "Soy **Patricio Requena** 👋. Es un placer ser el revisor de tu proyecto el día de hoy!\n",
    "\n",
    "Revisaré tu proyecto detenidamente con el objetivo de ayudarte a mejorar y perfeccionar tus habilidades. Durante mi revisión, identificaré áreas donde puedas hacer mejoras en tu código, señalando específicamente qué y cómo podrías ajustar para optimizar el rendimiento y la claridad de tu proyecto. Además, es importante para mí destacar los aspectos que has manejado excepcionalmente bien. Reconocer tus fortalezas te ayudará a entender qué técnicas y métodos están funcionando a tu favor y cómo puedes aplicarlos en futuras tareas. \n",
    "\n",
    "_**Recuerda que al final de este notebook encontrarás un comentario general de mi parte**_, empecemos!\n",
    "\n",
    "Encontrarás mis comentarios dentro de cajas verdes, amarillas o rojas, ⚠️ **por favor, no muevas, modifiques o borres mis comentarios** ⚠️:\n",
    "\n",
    "\n",
    "<div class=\"alert alert-block alert-success\">\n",
    "<b>Comentario del revisor</b> <a class=“tocSkip”></a>\n",
    "Si todo está perfecto.\n",
    "</div>\n",
    "\n",
    "<div class=\"alert alert-block alert-warning\">\n",
    "<b>Comentario del revisor</b> <a class=“tocSkip”></a>\n",
    "Si tu código está bien pero se puede mejorar o hay algún detalle que le hace falta.\n",
    "</div>\n",
    "\n",
    "<div class=\"alert alert-block alert-danger\">\n",
    "<b>Comentario del revisor</b> <a class=“tocSkip”></a>\n",
    "Si de pronto hace falta algo o existe algún problema con tu código o conclusiones.\n",
    "</div>\n",
    "\n",
    "Puedes responderme de esta forma:\n",
    "<div class=\"alert alert-block alert-info\">\n",
    "<b>Respuesta del estudiante</b> <a class=“tocSkip”></a>\n",
    "</div>"
   ]
  },
  {
   "cell_type": "markdown",
   "metadata": {},
   "source": [
    "# Optimización de los gastos de marketing\n",
    "\n",
    "La tarea principal del proyecto es ayudar a optimizar los gastos de marketing.\n",
    "\n",
    "Se tiene:\n",
    "\n",
    "- registros del servidor con datos sobre las visitas a Y.Afisha desde enero de 2017 hasta diciembre de 2018;\n",
    "- un archivo con los pedidos en este periodo;\n",
    "- estadísticas de gastos de marketing.\n",
    "\n",
    "Lo que se va a investigar:\n",
    "\n",
    "- cómo los clientes usan el servicio;\n",
    "- cuándo empiezan a comprar;\n",
    "- cuánto dinero aporta cada cliente a la compañía;\n",
    "- cuándo los ingresos cubren el costo de adquisición de los clientes."
   ]
  },
  {
   "cell_type": "markdown",
   "metadata": {},
   "source": [
    "<div class=\"alert alert-block alert-success\">\n",
    "<b>Comentario del revisor (1ra Iteracion)</b> <a class=“tocSkip”></a>\n",
    "\n",
    "Excelente Ariel! Siempre es bueno incluir esta sección introductoria, te recomendaría redactar un poco más acerca del objetivo del análisis\n",
    "</div>"
   ]
  },
  {
   "cell_type": "markdown",
   "metadata": {},
   "source": [
    "## Inicialización"
   ]
  },
  {
   "cell_type": "code",
   "execution_count": 1,
   "metadata": {},
   "outputs": [],
   "source": [
    "# Cargar todas las librerías\n",
    "import pandas as pd\n",
    "import numpy as np\n",
    "import math\n",
    "import matplotlib.pyplot as plt\n",
    "import seaborn as sns"
   ]
  },
  {
   "cell_type": "markdown",
   "metadata": {},
   "source": [
    "## Cargar datos"
   ]
  },
  {
   "cell_type": "code",
   "execution_count": 1,
   "metadata": {},
   "outputs": [
    {
     "ename": "NameError",
     "evalue": "name 'pd' is not defined",
     "output_type": "error",
     "traceback": [
      "\u001b[0;31m---------------------------------------------------------------------------\u001b[0m",
      "\u001b[0;31mNameError\u001b[0m                                 Traceback (most recent call last)",
      "Cell \u001b[0;32mIn[1], line 2\u001b[0m\n\u001b[1;32m      1\u001b[0m \u001b[38;5;66;03m# Carga los archivos de datos en diferentes DataFrames\u001b[39;00m\n\u001b[0;32m----> 2\u001b[0m df_data_on_visits \u001b[38;5;241m=\u001b[39m \u001b[43mpd\u001b[49m\u001b[38;5;241m.\u001b[39mread_csv(\u001b[38;5;124m'\u001b[39m\u001b[38;5;124m/datasets/visits_log_us.csv\u001b[39m\u001b[38;5;124m'\u001b[39m)\n\u001b[1;32m      3\u001b[0m df_data_orders \u001b[38;5;241m=\u001b[39m pd\u001b[38;5;241m.\u001b[39mread_csv(\u001b[38;5;124m'\u001b[39m\u001b[38;5;124m/datasets/orders_log_us.csv\u001b[39m\u001b[38;5;124m'\u001b[39m)\n\u001b[1;32m      4\u001b[0m df_variable_expenses \u001b[38;5;241m=\u001b[39m pd\u001b[38;5;241m.\u001b[39mread_csv(\u001b[38;5;124m'\u001b[39m\u001b[38;5;124m/datasets/costs_us.csv\u001b[39m\u001b[38;5;124m'\u001b[39m)\n",
      "\u001b[0;31mNameError\u001b[0m: name 'pd' is not defined"
     ]
    }
   ],
   "source": [
    "# Carga los archivos de datos en diferentes DataFrames\n",
    "df_data_on_visits = pd.read_csv('/datasets/visits_log_us.csv')\n",
    "df_data_orders = pd.read_csv('/datasets/orders_log_us.csv')\n",
    "df_variable_expenses = pd.read_csv('/datasets/costs_us.csv')"
   ]
  },
  {
   "cell_type": "markdown",
   "metadata": {},
   "source": [
    "<div class=\"alert alert-block alert-success\">\n",
    "<b>Comentario del revisor (1ra Iteracion)</b> <a class=“tocSkip”></a>\n",
    "\n",
    "Perfecto! Librerías y datos cargados correctamente\n",
    "</div>"
   ]
  },
  {
   "cell_type": "markdown",
   "metadata": {},
   "source": [
    "## Preparar los datos"
   ]
  },
  {
   "cell_type": "markdown",
   "metadata": {},
   "source": [
    "### Datos de visitas"
   ]
  },
  {
   "cell_type": "code",
   "execution_count": 3,
   "metadata": {},
   "outputs": [
    {
     "name": "stdout",
     "output_type": "stream",
     "text": [
      "<class 'pandas.core.frame.DataFrame'>\n",
      "RangeIndex: 359400 entries, 0 to 359399\n",
      "Data columns (total 5 columns):\n",
      " #   Column     Non-Null Count   Dtype \n",
      "---  ------     --------------   ----- \n",
      " 0   Device     359400 non-null  object\n",
      " 1   End Ts     359400 non-null  object\n",
      " 2   Source Id  359400 non-null  int64 \n",
      " 3   Start Ts   359400 non-null  object\n",
      " 4   Uid        359400 non-null  uint64\n",
      "dtypes: int64(1), object(3), uint64(1)\n",
      "memory usage: 13.7+ MB\n"
     ]
    }
   ],
   "source": [
    "# Imprime la información general/resumida sobre el DataFrame de las tarifas\n",
    "df_data_on_visits.info()"
   ]
  },
  {
   "cell_type": "code",
   "execution_count": 4,
   "metadata": {},
   "outputs": [
    {
     "data": {
      "text/html": [
       "<div>\n",
       "<style scoped>\n",
       "    .dataframe tbody tr th:only-of-type {\n",
       "        vertical-align: middle;\n",
       "    }\n",
       "\n",
       "    .dataframe tbody tr th {\n",
       "        vertical-align: top;\n",
       "    }\n",
       "\n",
       "    .dataframe thead th {\n",
       "        text-align: right;\n",
       "    }\n",
       "</style>\n",
       "<table border=\"1\" class=\"dataframe\">\n",
       "  <thead>\n",
       "    <tr style=\"text-align: right;\">\n",
       "      <th></th>\n",
       "      <th>Device</th>\n",
       "      <th>End Ts</th>\n",
       "      <th>Source Id</th>\n",
       "      <th>Start Ts</th>\n",
       "      <th>Uid</th>\n",
       "    </tr>\n",
       "  </thead>\n",
       "  <tbody>\n",
       "    <tr>\n",
       "      <th>0</th>\n",
       "      <td>touch</td>\n",
       "      <td>2017-12-20 17:38:00</td>\n",
       "      <td>4</td>\n",
       "      <td>2017-12-20 17:20:00</td>\n",
       "      <td>16879256277535980062</td>\n",
       "    </tr>\n",
       "    <tr>\n",
       "      <th>1</th>\n",
       "      <td>desktop</td>\n",
       "      <td>2018-02-19 17:21:00</td>\n",
       "      <td>2</td>\n",
       "      <td>2018-02-19 16:53:00</td>\n",
       "      <td>104060357244891740</td>\n",
       "    </tr>\n",
       "    <tr>\n",
       "      <th>2</th>\n",
       "      <td>touch</td>\n",
       "      <td>2017-07-01 01:54:00</td>\n",
       "      <td>5</td>\n",
       "      <td>2017-07-01 01:54:00</td>\n",
       "      <td>7459035603376831527</td>\n",
       "    </tr>\n",
       "    <tr>\n",
       "      <th>3</th>\n",
       "      <td>desktop</td>\n",
       "      <td>2018-05-20 11:23:00</td>\n",
       "      <td>9</td>\n",
       "      <td>2018-05-20 10:59:00</td>\n",
       "      <td>16174680259334210214</td>\n",
       "    </tr>\n",
       "    <tr>\n",
       "      <th>4</th>\n",
       "      <td>desktop</td>\n",
       "      <td>2017-12-27 14:06:00</td>\n",
       "      <td>3</td>\n",
       "      <td>2017-12-27 14:06:00</td>\n",
       "      <td>9969694820036681168</td>\n",
       "    </tr>\n",
       "  </tbody>\n",
       "</table>\n",
       "</div>"
      ],
      "text/plain": [
       "    Device               End Ts  Source Id             Start Ts  \\\n",
       "0    touch  2017-12-20 17:38:00          4  2017-12-20 17:20:00   \n",
       "1  desktop  2018-02-19 17:21:00          2  2018-02-19 16:53:00   \n",
       "2    touch  2017-07-01 01:54:00          5  2017-07-01 01:54:00   \n",
       "3  desktop  2018-05-20 11:23:00          9  2018-05-20 10:59:00   \n",
       "4  desktop  2017-12-27 14:06:00          3  2017-12-27 14:06:00   \n",
       "\n",
       "                    Uid  \n",
       "0  16879256277535980062  \n",
       "1    104060357244891740  \n",
       "2   7459035603376831527  \n",
       "3  16174680259334210214  \n",
       "4   9969694820036681168  "
      ]
     },
     "metadata": {},
     "output_type": "display_data"
    },
    {
     "name": "stdout",
     "output_type": "stream",
     "text": [
      "En la tabla Datos de Visitas exiten:  0 valores duplicados\n"
     ]
    }
   ],
   "source": [
    "# Imprime una muestra de los datos para las tarifas\n",
    "display(df_data_on_visits.head())\n",
    "\n",
    "duplicates = df_data_on_visits.duplicated().sum()\n",
    "print(\"En la tabla Datos de Visitas exiten: \", duplicates , \"valores duplicados\")"
   ]
  },
  {
   "cell_type": "markdown",
   "metadata": {},
   "source": [
    "### Datos de pedidos"
   ]
  },
  {
   "cell_type": "code",
   "execution_count": 5,
   "metadata": {},
   "outputs": [
    {
     "name": "stdout",
     "output_type": "stream",
     "text": [
      "<class 'pandas.core.frame.DataFrame'>\n",
      "RangeIndex: 50415 entries, 0 to 50414\n",
      "Data columns (total 3 columns):\n",
      " #   Column   Non-Null Count  Dtype  \n",
      "---  ------   --------------  -----  \n",
      " 0   Buy Ts   50415 non-null  object \n",
      " 1   Revenue  50415 non-null  float64\n",
      " 2   Uid      50415 non-null  uint64 \n",
      "dtypes: float64(1), object(1), uint64(1)\n",
      "memory usage: 1.2+ MB\n"
     ]
    }
   ],
   "source": [
    "# Imprime la información general/resumida sobre el DataFrame de las tarifas\n",
    "df_data_orders.info()"
   ]
  },
  {
   "cell_type": "code",
   "execution_count": 6,
   "metadata": {},
   "outputs": [
    {
     "data": {
      "text/html": [
       "<div>\n",
       "<style scoped>\n",
       "    .dataframe tbody tr th:only-of-type {\n",
       "        vertical-align: middle;\n",
       "    }\n",
       "\n",
       "    .dataframe tbody tr th {\n",
       "        vertical-align: top;\n",
       "    }\n",
       "\n",
       "    .dataframe thead th {\n",
       "        text-align: right;\n",
       "    }\n",
       "</style>\n",
       "<table border=\"1\" class=\"dataframe\">\n",
       "  <thead>\n",
       "    <tr style=\"text-align: right;\">\n",
       "      <th></th>\n",
       "      <th>Buy Ts</th>\n",
       "      <th>Revenue</th>\n",
       "      <th>Uid</th>\n",
       "    </tr>\n",
       "  </thead>\n",
       "  <tbody>\n",
       "    <tr>\n",
       "      <th>0</th>\n",
       "      <td>2017-06-01 00:10:00</td>\n",
       "      <td>17.00</td>\n",
       "      <td>10329302124590727494</td>\n",
       "    </tr>\n",
       "    <tr>\n",
       "      <th>1</th>\n",
       "      <td>2017-06-01 00:25:00</td>\n",
       "      <td>0.55</td>\n",
       "      <td>11627257723692907447</td>\n",
       "    </tr>\n",
       "    <tr>\n",
       "      <th>2</th>\n",
       "      <td>2017-06-01 00:27:00</td>\n",
       "      <td>0.37</td>\n",
       "      <td>17903680561304213844</td>\n",
       "    </tr>\n",
       "    <tr>\n",
       "      <th>3</th>\n",
       "      <td>2017-06-01 00:29:00</td>\n",
       "      <td>0.55</td>\n",
       "      <td>16109239769442553005</td>\n",
       "    </tr>\n",
       "    <tr>\n",
       "      <th>4</th>\n",
       "      <td>2017-06-01 07:58:00</td>\n",
       "      <td>0.37</td>\n",
       "      <td>14200605875248379450</td>\n",
       "    </tr>\n",
       "  </tbody>\n",
       "</table>\n",
       "</div>"
      ],
      "text/plain": [
       "                Buy Ts  Revenue                   Uid\n",
       "0  2017-06-01 00:10:00    17.00  10329302124590727494\n",
       "1  2017-06-01 00:25:00     0.55  11627257723692907447\n",
       "2  2017-06-01 00:27:00     0.37  17903680561304213844\n",
       "3  2017-06-01 00:29:00     0.55  16109239769442553005\n",
       "4  2017-06-01 07:58:00     0.37  14200605875248379450"
      ]
     },
     "metadata": {},
     "output_type": "display_data"
    },
    {
     "name": "stdout",
     "output_type": "stream",
     "text": [
      "En la tabla Datos de Pedidos exiten:  0 valores duplicados\n"
     ]
    }
   ],
   "source": [
    "# Imprime una muestra de los datos para las tarifas\n",
    "display(df_data_orders.head())\n",
    "\n",
    "duplicates = df_data_orders.duplicated().sum()\n",
    "print(\"En la tabla Datos de Pedidos exiten: \", duplicates , \"valores duplicados\")"
   ]
  },
  {
   "cell_type": "markdown",
   "metadata": {},
   "source": [
    "### Datos de costos"
   ]
  },
  {
   "cell_type": "code",
   "execution_count": 7,
   "metadata": {},
   "outputs": [
    {
     "name": "stdout",
     "output_type": "stream",
     "text": [
      "<class 'pandas.core.frame.DataFrame'>\n",
      "RangeIndex: 2542 entries, 0 to 2541\n",
      "Data columns (total 3 columns):\n",
      " #   Column     Non-Null Count  Dtype  \n",
      "---  ------     --------------  -----  \n",
      " 0   source_id  2542 non-null   int64  \n",
      " 1   dt         2542 non-null   object \n",
      " 2   costs      2542 non-null   float64\n",
      "dtypes: float64(1), int64(1), object(1)\n",
      "memory usage: 59.7+ KB\n"
     ]
    }
   ],
   "source": [
    "# Imprime la información general/resumida sobre el DataFrame de las tarifas\n",
    "df_variable_expenses.info()"
   ]
  },
  {
   "cell_type": "code",
   "execution_count": 8,
   "metadata": {},
   "outputs": [
    {
     "data": {
      "text/html": [
       "<div>\n",
       "<style scoped>\n",
       "    .dataframe tbody tr th:only-of-type {\n",
       "        vertical-align: middle;\n",
       "    }\n",
       "\n",
       "    .dataframe tbody tr th {\n",
       "        vertical-align: top;\n",
       "    }\n",
       "\n",
       "    .dataframe thead th {\n",
       "        text-align: right;\n",
       "    }\n",
       "</style>\n",
       "<table border=\"1\" class=\"dataframe\">\n",
       "  <thead>\n",
       "    <tr style=\"text-align: right;\">\n",
       "      <th></th>\n",
       "      <th>source_id</th>\n",
       "      <th>dt</th>\n",
       "      <th>costs</th>\n",
       "    </tr>\n",
       "  </thead>\n",
       "  <tbody>\n",
       "    <tr>\n",
       "      <th>0</th>\n",
       "      <td>1</td>\n",
       "      <td>2017-06-01</td>\n",
       "      <td>75.20</td>\n",
       "    </tr>\n",
       "    <tr>\n",
       "      <th>1</th>\n",
       "      <td>1</td>\n",
       "      <td>2017-06-02</td>\n",
       "      <td>62.25</td>\n",
       "    </tr>\n",
       "    <tr>\n",
       "      <th>2</th>\n",
       "      <td>1</td>\n",
       "      <td>2017-06-03</td>\n",
       "      <td>36.53</td>\n",
       "    </tr>\n",
       "    <tr>\n",
       "      <th>3</th>\n",
       "      <td>1</td>\n",
       "      <td>2017-06-04</td>\n",
       "      <td>55.00</td>\n",
       "    </tr>\n",
       "    <tr>\n",
       "      <th>4</th>\n",
       "      <td>1</td>\n",
       "      <td>2017-06-05</td>\n",
       "      <td>57.08</td>\n",
       "    </tr>\n",
       "  </tbody>\n",
       "</table>\n",
       "</div>"
      ],
      "text/plain": [
       "   source_id          dt  costs\n",
       "0          1  2017-06-01  75.20\n",
       "1          1  2017-06-02  62.25\n",
       "2          1  2017-06-03  36.53\n",
       "3          1  2017-06-04  55.00\n",
       "4          1  2017-06-05  57.08"
      ]
     },
     "metadata": {},
     "output_type": "display_data"
    },
    {
     "name": "stdout",
     "output_type": "stream",
     "text": [
      "En la tabla Datos de Costos exiten:  0 valores duplicados\n"
     ]
    }
   ],
   "source": [
    "# Imprime una muestra de los datos para las tarifas\n",
    "display(df_variable_expenses.head())\n",
    "\n",
    "duplicates = df_variable_expenses.duplicated().sum()\n",
    "print(\"En la tabla Datos de Costos exiten: \", duplicates , \"valores duplicados\")"
   ]
  },
  {
   "cell_type": "markdown",
   "metadata": {},
   "source": [
    "<div class=\"alert alert-block alert-warning\">\n",
    "<b>Comentario del revisor (1ra Iteracion)</b> <a class=“tocSkip”></a>\n",
    "\n",
    "Buen trabajo con la primera revisión de tus datos! Para que se muestre el resultado en formato de tabla puedes usar `display()` en lugar de print cuando uses .head()\n",
    "</div>"
   ]
  },
  {
   "cell_type": "markdown",
   "metadata": {},
   "source": [
    "## Correción de los datos"
   ]
  },
  {
   "cell_type": "markdown",
   "metadata": {},
   "source": [
    "### Datos de visitas / \"df_data_on_visits\"\n",
    "\n",
    "<font color='#613EF0'>Luego de realizar las correcciones del dataframe se concluyó lo siguiente:</font>\n",
    "\n",
    "- <font color='#613EF0'>No existe datos ausentes ni duplicados en las columnas del dataframe.</font>\n",
    "- <font color='#613EF0'>A la columna Device se la transformo a tipo de dato category y a las columnas End Ts y Start Ts fueron transformadas al tipo de dato Datetime para reducir el tamaño de almacenamieto del dataframe.</font>"
   ]
  },
  {
   "cell_type": "code",
   "execution_count": 9,
   "metadata": {},
   "outputs": [
    {
     "name": "stdout",
     "output_type": "stream",
     "text": [
      "----------------------Columna Device------------------------\n",
      "Existen:  0 valores ausentes en la columna device\n",
      "---------------------------------------------------------------\n",
      "Devices existentes en el dataset:\n",
      "['touch' 'desktop']\n",
      "---------------------------------------------------------------\n",
      "----------------------Columnas End Ts y Start Ts------------------------\n",
      "Existen:  0 valores ausentes en la columna End Ts\n",
      "Existen:  0 valores ausentes en la columna Start Ts\n",
      "---------------------------------------------------------------\n",
      "----------------------Columnas Source Id------------------------\n",
      "Existen:  0 valores ausentes en la columna Source Id\n",
      "---------------------------------------------------------------\n",
      "Source Id existentes en el dataset:\n",
      "[ 4  2  5  9  3  1 10  7  6]\n",
      "----------------------Columnas Uid------------------------\n",
      "Existen:  0 valores ausentes en la columna Uid\n"
     ]
    }
   ],
   "source": [
    "print(\"----------------------Columna Device------------------------\")\n",
    "\n",
    "#Verificar si existen valores ausentes en esta columna\n",
    "absents_device = df_data_on_visits['Device'].isna().sum()\n",
    "print(\"Existen: \", absents_device, \"valores ausentes en la columna \"\"device\")\n",
    "\n",
    "print(\"---------------------------------------------------------------\")\n",
    "\n",
    "unique_device = df_data_on_visits['Device'].unique()\n",
    "print(\"Devices existentes en el dataset:\")\n",
    "print(unique_device)\n",
    "\n",
    "print(\"---------------------------------------------------------------\")\n",
    "\n",
    "#Convertir el tipo de dato de Object a Categoria\n",
    "df_data_on_visits['Device'] = df_data_on_visits['Device'].astype('category')\n",
    "\n",
    "#df_data_on_visits.info()\n",
    "\n",
    "print(\"----------------------Columnas End Ts y Start Ts------------------------\")\n",
    "\n",
    "#Verificar si existen valores ausentes en esta columna\n",
    "absents_endTs = df_data_on_visits['End Ts'].isna().sum()\n",
    "print(\"Existen: \", absents_endTs, \"valores ausentes en la columna \"\"End Ts\")\n",
    "\n",
    "#Verificar si existen valores ausentes en esta columna\n",
    "absents_startTs = df_data_on_visits['Start Ts'].isna().sum()\n",
    "print(\"Existen: \", absents_startTs, \"valores ausentes en la columna \"\"Start Ts\")\n",
    "\n",
    "print(\"---------------------------------------------------------------\")\n",
    "\n",
    "df_data_on_visits['End Ts'] =  pd.to_datetime(df_data_on_visits['End Ts'], format=\"%Y-%m-%d %H:%M:%S\")\n",
    "df_data_on_visits['Start Ts'] =  pd.to_datetime(df_data_on_visits['Start Ts'], format=\"%Y-%m-%d %H:%M:%S\")\n",
    "\n",
    "#df_data_on_visits.info()\n",
    "\n",
    "print(\"----------------------Columnas Source Id------------------------\")\n",
    "\n",
    "#Verificar si existen valores ausentes en esta columna\n",
    "absents_sourceId = df_data_on_visits['Source Id'].isna().sum()\n",
    "print(\"Existen: \", absents_sourceId, \"valores ausentes en la columna \"\"Source Id\")\n",
    "\n",
    "print(\"---------------------------------------------------------------\")\n",
    "\n",
    "unique_sourceId = df_data_on_visits['Source Id'].unique()\n",
    "print(\"Source Id existentes en el dataset:\")\n",
    "print(unique_sourceId)\n",
    "\n",
    "print(\"----------------------Columnas Uid------------------------\")\n",
    "\n",
    "#Verificar si existen valores ausentes en esta columna\n",
    "absents_uid = df_data_on_visits['Uid'].isna().sum()\n",
    "print(\"Existen: \", absents_uid, \"valores ausentes en la columna \"\"Uid\")"
   ]
  },
  {
   "cell_type": "markdown",
   "metadata": {},
   "source": [
    "### Datos de visitas / \"df_data_orders\"\n",
    "\n",
    "<font color='#613EF0'>Luego de realizar las correcciones del dataframe se concluyó lo siguiente:</font>\n",
    "\n",
    "- <font color='#613EF0'>No existe datos ausentes ni duplicados en las columnas del dataframe.</font>\n",
    "- <font color='#613EF0'>A la columna Buy Ts fue transformada al tipo de dato Datetime para reducir el tamaño de almacenamieto del dataframe.</font>"
   ]
  },
  {
   "cell_type": "code",
   "execution_count": 10,
   "metadata": {},
   "outputs": [
    {
     "name": "stdout",
     "output_type": "stream",
     "text": [
      "----------------------Columna Revenue------------------------\n",
      "Existen:  0 valores ausentes en la columna revenue\n",
      "---------------------------------------------------------------\n",
      "Valor máximo en 'Revenue': 2633.28\n",
      "Valor mínimo en 'Revenue': 0.0\n",
      "----------------------Columnas Buy Ts------------------------\n",
      "Existen:  0 valores ausentes en la columna Buy Ts\n",
      "----------------------Columnas Uid------------------------\n",
      "Existen:  0 valores ausentes en la columna Uid\n",
      "<class 'pandas.core.frame.DataFrame'>\n",
      "RangeIndex: 359400 entries, 0 to 359399\n",
      "Data columns (total 5 columns):\n",
      " #   Column     Non-Null Count   Dtype         \n",
      "---  ------     --------------   -----         \n",
      " 0   Device     359400 non-null  category      \n",
      " 1   End Ts     359400 non-null  datetime64[ns]\n",
      " 2   Source Id  359400 non-null  int64         \n",
      " 3   Start Ts   359400 non-null  datetime64[ns]\n",
      " 4   Uid        359400 non-null  uint64        \n",
      "dtypes: category(1), datetime64[ns](2), int64(1), uint64(1)\n",
      "memory usage: 11.3 MB\n"
     ]
    }
   ],
   "source": [
    "print(\"----------------------Columna Revenue------------------------\")\n",
    "\n",
    "#Verificar si existen valores ausentes en esta columna\n",
    "absents_revenue = df_data_orders['Revenue'].isna().sum()\n",
    "print(\"Existen: \", absents_revenue, \"valores ausentes en la columna \"\"revenue\")\n",
    "\n",
    "print(\"---------------------------------------------------------------\")\n",
    "\n",
    "# Obtener el valor máximo y mínimo de la columna 'Revenue'\n",
    "max_revenue = df_data_orders['Revenue'].max()\n",
    "min_revenue = df_data_orders['Revenue'].min()\n",
    "\n",
    "print(\"Valor máximo en 'Revenue':\", max_revenue)\n",
    "print(\"Valor mínimo en 'Revenue':\", min_revenue)\n",
    "\n",
    "\n",
    "print(\"----------------------Columnas Buy Ts------------------------\")\n",
    "\n",
    "#Verificar si existen valores ausentes en esta columna\n",
    "absents_buyts = df_data_orders['Buy Ts'].isna().sum()\n",
    "print(\"Existen: \", absents_buyts, \"valores ausentes en la columna \"\"Buy Ts\")\n",
    "\n",
    "df_data_orders['Buy Ts'] =  pd.to_datetime(df_data_orders['Buy Ts'], format=\"%Y-%m-%d %H:%M:%S\")\n",
    "\n",
    "print(\"----------------------Columnas Uid------------------------\")\n",
    "\n",
    "#Verificar si existen valores ausentes en esta columna\n",
    "absents_uid = df_data_orders['Uid'].isna().sum()\n",
    "print(\"Existen: \", absents_uid, \"valores ausentes en la columna \"\"Uid\")\n",
    "\n",
    "df_data_on_visits.info()"
   ]
  },
  {
   "cell_type": "markdown",
   "metadata": {},
   "source": [
    "### Datos de visitas / \"df_variable_expenses\"\n",
    "\n",
    "<font color='#613EF0'>Luego de realizar las correcciones del dataframe se concluyó lo siguiente:</font>\n",
    "\n",
    "- <font color='#613EF0'>No existe datos ausentes ni duplicados en las columnas del dataframe.</font>\n",
    "- <font color='#613EF0'>A la columna Buy Ts fue transformada al tipo de dato Datetime para reducir el tamaño de almacenamieto del dataframe.</font>"
   ]
  },
  {
   "cell_type": "code",
   "execution_count": 11,
   "metadata": {},
   "outputs": [
    {
     "name": "stdout",
     "output_type": "stream",
     "text": [
      "----------------------Columna Source Id------------------------\n",
      "Existen:  0 valores ausentes en la columna source_id\n",
      "---------------------------------------------------------------\n",
      "Source Id existentes en el dataset:\n",
      "[ 1  2  3  4  5  9 10]\n",
      "----------------------Columna dt------------------------\n",
      "Existen:  0 valores ausentes en la columna dt\n",
      "----------------------Columnas Costs------------------------\n",
      "Existen:  0 valores ausentes en la columna costs\n",
      "Valor máximo en 'Revenue': 2633.28\n",
      "Valor mínimo en 'Revenue': 0.0\n",
      "<class 'pandas.core.frame.DataFrame'>\n",
      "RangeIndex: 2542 entries, 0 to 2541\n",
      "Data columns (total 3 columns):\n",
      " #   Column     Non-Null Count  Dtype         \n",
      "---  ------     --------------  -----         \n",
      " 0   source_id  2542 non-null   int64         \n",
      " 1   dt         2542 non-null   datetime64[ns]\n",
      " 2   costs      2542 non-null   float64       \n",
      "dtypes: datetime64[ns](1), float64(1), int64(1)\n",
      "memory usage: 59.7 KB\n"
     ]
    }
   ],
   "source": [
    "print(\"----------------------Columna Source Id------------------------\")\n",
    "\n",
    "#Verificar si existen valores ausentes en esta columna\n",
    "absents_sourceid = df_variable_expenses['source_id'].isna().sum()\n",
    "print(\"Existen: \", absents_sourceid, \"valores ausentes en la columna \"\"source_id\")\n",
    "\n",
    "print(\"---------------------------------------------------------------\")\n",
    "\n",
    "unique_sourceid = df_variable_expenses['source_id'].unique()\n",
    "print(\"Source Id existentes en el dataset:\")\n",
    "print(unique_sourceid)\n",
    "\n",
    "\n",
    "print(\"----------------------Columna dt------------------------\")\n",
    "\n",
    "#Verificar si existen valores ausentes en esta columna\n",
    "absents_dt = df_variable_expenses['dt'].isna().sum()\n",
    "print(\"Existen: \", absents_buyts, \"valores ausentes en la columna \"\"dt\")\n",
    "\n",
    "df_variable_expenses['dt'] =  pd.to_datetime(df_variable_expenses['dt'], format=\"%Y-%m-%d\")\n",
    "\n",
    "print(\"----------------------Columnas Costs------------------------\")\n",
    "\n",
    "#Verificar si existen valores ausentes en esta columna\n",
    "absents_costs = df_variable_expenses['costs'].isna().sum()\n",
    "print(\"Existen: \", absents_costs, \"valores ausentes en la columna \"\"costs\")\n",
    "\n",
    "# Obtener el valor máximo y mínimo de la columna 'Revenue'\n",
    "max_costs = df_variable_expenses['costs'].max()\n",
    "min_costs = df_variable_expenses['costs'].min()\n",
    "\n",
    "print(\"Valor máximo en 'Revenue':\", max_revenue)\n",
    "print(\"Valor mínimo en 'Revenue':\", min_revenue)\n",
    "\n",
    "df_variable_expenses.info()"
   ]
  },
  {
   "cell_type": "markdown",
   "metadata": {},
   "source": [
    "<div class=\"alert alert-block alert-success\">\n",
    "<b>Comentario del revisor (1ra Iteracion)</b> <a class=“tocSkip”></a>\n",
    "\n",
    "Buen trabajo revisando datos ausentes y duplicados\n",
    "</div>"
   ]
  },
  {
   "cell_type": "markdown",
   "metadata": {},
   "source": [
    "## Analisis de los datos"
   ]
  },
  {
   "cell_type": "markdown",
   "metadata": {},
   "source": [
    "### Visitas\n",
    "\n",
    "#### ¿Cuántas personas lo usan cada día, semana y mes?"
   ]
  },
  {
   "cell_type": "code",
   "execution_count": 12,
   "metadata": {},
   "outputs": [
    {
     "name": "stdout",
     "output_type": "stream",
     "text": [
      "Start Ts\n",
      "2017-06-01     605\n",
      "2017-06-02     608\n",
      "2017-06-03     445\n",
      "2017-06-04     476\n",
      "2017-06-05     820\n",
      "              ... \n",
      "2018-05-27     620\n",
      "2018-05-28    1039\n",
      "2018-05-29     948\n",
      "2018-05-30    1289\n",
      "2018-05-31    1997\n",
      "Name: Uid, Length: 364, dtype: int64\n"
     ]
    }
   ],
   "source": [
    "daily_users = df_data_on_visits.groupby(df_data_on_visits['Start Ts'].dt.date)['Uid'].nunique()\n",
    "print(daily_users)"
   ]
  },
  {
   "cell_type": "code",
   "execution_count": 13,
   "metadata": {},
   "outputs": [
    {
     "name": "stdout",
     "output_type": "stream",
     "text": [
      "Start Ts\n",
      "2017-05-29/2017-06-04     2021\n",
      "2017-06-05/2017-06-11     4129\n",
      "2017-06-12/2017-06-18     2812\n",
      "2017-06-19/2017-06-25     2878\n",
      "2017-06-26/2017-07-02     3064\n",
      "2017-07-03/2017-07-09     3294\n",
      "2017-07-10/2017-07-16     4355\n",
      "2017-07-17/2017-07-23     3841\n",
      "2017-07-24/2017-07-30     2655\n",
      "2017-07-31/2017-08-06     2364\n",
      "2017-08-07/2017-08-13     2444\n",
      "2017-08-14/2017-08-20     2746\n",
      "2017-08-21/2017-08-27     3116\n",
      "2017-08-28/2017-09-03     3694\n",
      "2017-09-04/2017-09-10     4412\n",
      "2017-09-11/2017-09-17     4319\n",
      "2017-09-18/2017-09-24     4874\n",
      "2017-09-25/2017-10-01     6241\n",
      "2017-10-02/2017-10-08     7612\n",
      "2017-10-09/2017-10-15     7074\n",
      "2017-10-16/2017-10-22     7148\n",
      "2017-10-23/2017-10-29     7401\n",
      "2017-10-30/2017-11-05     7480\n",
      "2017-11-06/2017-11-12     7179\n",
      "2017-11-13/2017-11-19     8117\n",
      "2017-11-20/2017-11-26    10586\n",
      "2017-11-27/2017-12-03     8166\n",
      "2017-12-04/2017-12-10     8407\n",
      "2017-12-11/2017-12-17     8214\n",
      "2017-12-18/2017-12-24     7172\n",
      "2017-12-25/2017-12-31     7774\n",
      "2018-01-01/2018-01-07     6918\n",
      "2018-01-08/2018-01-14     6703\n",
      "2018-01-15/2018-01-21     6972\n",
      "2018-01-22/2018-01-28     7060\n",
      "2018-01-29/2018-02-04     8111\n",
      "2018-02-05/2018-02-11     7908\n",
      "2018-02-12/2018-02-18     7759\n",
      "2018-02-19/2018-02-25     7518\n",
      "2018-02-26/2018-03-04     7395\n",
      "2018-03-05/2018-03-11     6844\n",
      "2018-03-12/2018-03-18     6225\n",
      "2018-03-19/2018-03-25     7898\n",
      "2018-03-26/2018-04-01     4940\n",
      "2018-04-02/2018-04-08     5383\n",
      "2018-04-09/2018-04-15     5494\n",
      "2018-04-16/2018-04-22     5740\n",
      "2018-04-23/2018-04-29     5503\n",
      "2018-04-30/2018-05-06     3916\n",
      "2018-05-07/2018-05-13     4128\n",
      "2018-05-14/2018-05-20     5070\n",
      "2018-05-21/2018-05-27     4995\n",
      "2018-05-28/2018-06-03     4892\n",
      "Freq: W-SUN, Name: Uid, dtype: int64\n"
     ]
    }
   ],
   "source": [
    "weekly_users = df_data_on_visits.groupby(df_data_on_visits['Start Ts'].dt.to_period('W'))['Uid'].nunique()\n",
    "print(weekly_users)"
   ]
  },
  {
   "cell_type": "code",
   "execution_count": 14,
   "metadata": {},
   "outputs": [
    {
     "name": "stdout",
     "output_type": "stream",
     "text": [
      "Start Ts\n",
      "2017-06    13259\n",
      "2017-07    14183\n",
      "2017-08    11631\n",
      "2017-09    18975\n",
      "2017-10    29692\n",
      "2017-11    32797\n",
      "2017-12    31557\n",
      "2018-01    28716\n",
      "2018-02    28749\n",
      "2018-03    27473\n",
      "2018-04    21008\n",
      "2018-05    20701\n",
      "Freq: M, Name: Uid, dtype: int64\n"
     ]
    }
   ],
   "source": [
    "monthly_users = df_data_on_visits.groupby(df_data_on_visits['Start Ts'].dt.to_period('M'))['Uid'].nunique()\n",
    "print(monthly_users)"
   ]
  },
  {
   "cell_type": "code",
   "execution_count": 15,
   "metadata": {},
   "outputs": [
    {
     "data": {
      "image/png": "[encoded data removed]",
      "text/plain": [
       "<Figure size 1000x1800 with 3 Axes>"
      ]
     },
     "metadata": {},
     "output_type": "display_data"
    }
   ],
   "source": [
    "# Convertir los índices de weekly_users y monthly_users a datetime\n",
    "weekly_users.index = weekly_users.index.to_timestamp()\n",
    "monthly_users.index = monthly_users.index.to_timestamp()\n",
    "\n",
    "# Crear subplots\n",
    "fig, axs = plt.subplots(3, 1, figsize=(10, 18))\n",
    "\n",
    "# Gráfico de usuarios diarios\n",
    "axs[0].plot(daily_users, label='Usuarios diarios', color='blue')\n",
    "axs[0].set_xlabel('Fecha')\n",
    "axs[0].set_ylabel('Número de Usuarios Únicos')\n",
    "axs[0].set_title('Usuarios Únicos por Día')\n",
    "axs[0].legend()\n",
    "\n",
    "# Gráfico de usuarios semanales\n",
    "axs[1].plot(weekly_users, label='Usuarios semanales', color='green')\n",
    "axs[1].set_xlabel('Fecha')\n",
    "axs[1].set_ylabel('Número de Usuarios Únicos')\n",
    "axs[1].set_title('Usuarios Únicos por Semana')\n",
    "axs[1].legend()\n",
    "\n",
    "# Gráfico de usuarios mensuales\n",
    "axs[2].plot(monthly_users, label='Usuarios mensuales', color='red')\n",
    "axs[2].set_xlabel('Fecha')\n",
    "axs[2].set_ylabel('Número de Usuarios Únicos')\n",
    "axs[2].set_title('Usuarios Únicos por Mes')\n",
    "axs[2].legend()\n",
    "\n",
    "# Ajustar espacio entre subplots\n",
    "plt.tight_layout()\n",
    "\n",
    "# Mostrar los gráficos\n",
    "plt.show()"
   ]
  },
  {
   "cell_type": "markdown",
   "metadata": {},
   "source": [
    "<div class=\"alert alert-block alert-danger\">\n",
    "<b>Comentario del revisor (1ra Iteracion)</b> <a class=“tocSkip”></a>\n",
    "\n",
    "Buen trabajo con los cálculos! Pero al tener escalas sumamente diferentes te recomendaría separar los gráficos en 3 diferentes figuras. Puedes usar subplots para mostrar en 3 figuras las gráficas diarias, semanales y mensuales\n",
    "</div>"
   ]
  },
  {
   "cell_type": "markdown",
   "metadata": {},
   "source": [
    "<div class=\"alert alert-block alert-warning\">\n",
    "<b>Comentario del revisor (2da Iteracion)</b> <a class=“tocSkip”></a>\n",
    "\n",
    "Buen trabajo con la corrección! No olvides redactar tus interpretaciones cuando muestres gráficas como estas\n",
    "</div>"
   ]
  },
  {
   "cell_type": "markdown",
   "metadata": {},
   "source": [
    "#### ¿Cuántas sesiones hay por día? (Un/a usuario/a puede tener más de una sesión)\n"
   ]
  },
  {
   "cell_type": "code",
   "execution_count": 16,
   "metadata": {},
   "outputs": [
    {
     "name": "stdout",
     "output_type": "stream",
     "text": [
      "Start Ts\n",
      "2017-06-01     664\n",
      "2017-06-02     658\n",
      "2017-06-03     477\n",
      "2017-06-04     510\n",
      "2017-06-05     893\n",
      "              ... \n",
      "2018-05-27     672\n",
      "2018-05-28    1156\n",
      "2018-05-29    1035\n",
      "2018-05-30    1410\n",
      "2018-05-31    2256\n",
      "Name: Uid, Length: 364, dtype: int64\n"
     ]
    }
   ],
   "source": [
    "#Número de sesiones por día\n",
    "daily_sessions = df_data_on_visits.groupby(df_data_on_visits['Start Ts'].dt.date)['Uid'].count()\n",
    "print(daily_sessions)"
   ]
  },
  {
   "cell_type": "markdown",
   "metadata": {},
   "source": [
    "#### ¿Cuál es la duración de cada sesión?"
   ]
  },
  {
   "cell_type": "code",
   "execution_count": 17,
   "metadata": {},
   "outputs": [
    {
     "name": "stdout",
     "output_type": "stream",
     "text": [
      "                    Uid            Start Ts              End Ts  \\\n",
      "0  16879256277535980062 2017-12-20 17:20:00 2017-12-20 17:38:00   \n",
      "1    104060357244891740 2018-02-19 16:53:00 2018-02-19 17:21:00   \n",
      "2   7459035603376831527 2017-07-01 01:54:00 2017-07-01 01:54:00   \n",
      "3  16174680259334210214 2018-05-20 10:59:00 2018-05-20 11:23:00   \n",
      "4   9969694820036681168 2017-12-27 14:06:00 2017-12-27 14:06:00   \n",
      "5  16007536194108375387 2017-09-03 21:35:00 2017-09-03 21:36:00   \n",
      "6   6661610529277171451 2018-01-30 11:13:00 2018-01-30 12:09:00   \n",
      "7  11423865690854540312 2017-11-05 15:14:00 2017-11-05 15:15:00   \n",
      "8   2987360259350925644 2017-07-19 10:41:00 2017-07-19 10:44:00   \n",
      "9   1289240080042562063 2017-11-08 13:42:00 2017-11-08 13:43:00   \n",
      "\n",
      "   session_duration  \n",
      "0            1080.0  \n",
      "1            1680.0  \n",
      "2               0.0  \n",
      "3            1440.0  \n",
      "4               0.0  \n",
      "5              60.0  \n",
      "6            3360.0  \n",
      "7              60.0  \n",
      "8             180.0  \n",
      "9              60.0  \n"
     ]
    }
   ],
   "source": [
    "# Calcular la duración de cada sesión en segundos\n",
    "df_data_on_visits['session_duration'] = (df_data_on_visits['End Ts'] - df_data_on_visits['Start Ts']).dt.total_seconds()\n",
    "\n",
    "# Verificar algunas de las duraciones\n",
    "print(df_data_on_visits[['Uid', 'Start Ts', 'End Ts', 'session_duration']].head(10))"
   ]
  },
  {
   "cell_type": "markdown",
   "metadata": {},
   "source": [
    "#### ¿Con qué frecuencia los usuarios y las usuarias regresan?"
   ]
  },
  {
   "cell_type": "code",
   "execution_count": 34,
   "metadata": {
    "scrolled": true
   },
   "outputs": [
    {
     "data": {
      "text/plain": [
       "192554    13192080.0\n",
       "113873     1821960.0\n",
       "41778     12866640.0\n",
       "141543       10860.0\n",
       "130654     6792120.0\n",
       "Name: time_to_next_session, dtype: float64"
      ]
     },
     "metadata": {},
     "output_type": "display_data"
    }
   ],
   "source": [
    "# Ordenar los datos por usuario y por tiempo de inicio\n",
    "visits_sorted = df_data_on_visits.sort_values(by=['Uid', 'Start Ts'])\n",
    "\n",
    "# Filtrar los usuarios que tienen más de una sesión\n",
    "users_with_multiple_sessions = visits_sorted.groupby('Uid').filter(lambda x: len(x) > 1)\n",
    "\n",
    "# Recalcular el tiempo entre sesiones consecutivas para usuarios con más de una sesión\n",
    "users_with_multiple_sessions['time_to_next_session'] = users_with_multiple_sessions.groupby('Uid')['Start Ts'].diff().dt.total_seconds()\n",
    "\n",
    "# Remover los valores NaN y calcular estadísticas\n",
    "time_diffs = users_with_multiple_sessions['time_to_next_session'].dropna()\n",
    "\n",
    "# Mostrar estadísticas descriptivas sobre los tiempos entre sesiones\n",
    "display(time_diffs.head())"
   ]
  },
  {
   "cell_type": "markdown",
   "metadata": {},
   "source": [
    "#### Conclusiones sobre el análisis de vistas"
   ]
  },
  {
   "cell_type": "markdown",
   "metadata": {},
   "source": [
    "- Aunque existen días donde se tienen pocas sesiones, también existen otros en donde se tiene un buen flujo de usuarios utilizando la aplicación.\n",
    "\n",
    "- Se tiene buenos tiempos de duración de sesiones en los usuarios llegando inclusive a una hora de sesión.\n",
    "\n",
    "- Por otro lado, existen muchos usuarios los cuales ya no regresan. Par entender este factor debería calcularse una tasa de retención y/o cancelación para saber que está pasando. "
   ]
  },
  {
   "cell_type": "markdown",
   "metadata": {},
   "source": [
    "<div class=\"alert alert-block alert-danger\">\n",
    "<b>Comentario del revisor (1ra Iteracion)</b> <a class=“tocSkip”></a>\n",
    "\n",
    "Te recomiendo revisar la forma en la que estás calculando la frecuencia de regreso de los usuarios ya que tienes en su mayoría valores NaN o ausentes \n",
    "</div>"
   ]
  },
  {
   "cell_type": "markdown",
   "metadata": {},
   "source": [
    "<div class=\"alert alert-block alert-success\">\n",
    "<b>Comentario del revisor (2da Iteracion)</b> <a class=“tocSkip”></a>\n",
    "\n",
    "Buen trabajo con la corrección!\n",
    "</div>"
   ]
  },
  {
   "cell_type": "markdown",
   "metadata": {},
   "source": [
    "### Ventas\n",
    "\n",
    "#### ¿Cuándo la gente empieza a comprar? (En el análisis de KPI, generalmente nos interesa saber el tiempo que transcurre entre el registro y la conversión, es decir, cuando el/la usuario/a se convierte en cliente. Por ejemplo, si el registro y la primera compra ocurren el mismo día, el/la usuario/a podría caer en la categoría Conversion 0d. Si la primera compra ocurre al día siguiente, será Conversion 1d.  Puedes usar cualquier enfoque que te permita comparar las conversiones de diferentes cohortes para que puedas determinar qué cohorte o canal de marketing es más efectivo)."
   ]
  },
  {
   "cell_type": "code",
   "execution_count": 19,
   "metadata": {},
   "outputs": [
    {
     "name": "stdout",
     "output_type": "stream",
     "text": [
      "                     Uid            Start Ts  Source Id              Buy Ts  \\\n",
      "726879   313578113262317 2017-09-18 22:49:00          2 2018-01-03 21:51:00   \n",
      "761754  1575281904278712 2017-06-03 10:13:00         10 2017-06-03 10:13:00   \n",
      "760939  2429014661409475 2017-10-11 17:14:00          3 2017-10-11 18:33:00   \n",
      "685776  2464366381792757 2018-01-27 20:10:00          5 2018-01-28 15:54:00   \n",
      "719044  2551852515556206 2017-11-24 10:14:00          5 2017-11-24 10:14:00   \n",
      "745812  3077748354309989 2018-03-03 12:08:00          3 2018-03-03 12:33:00   \n",
      "623128  3605148382144603 2017-08-15 21:54:00          2 2017-09-21 20:56:00   \n",
      "533466  3753586865891862 2018-03-03 13:47:00          4 2018-03-03 13:50:00   \n",
      "696689  4808417689019433 2018-01-09 23:10:00          4 2018-01-09 23:32:00   \n",
      "757542  4992223027560440 2018-04-04 13:54:00          5 2018-04-04 13:54:00   \n",
      "\n",
      "        conversion_time conversion_category  \n",
      "726879              106     Conversion 106d  \n",
      "761754                0       Conversion 0d  \n",
      "760939                0       Conversion 0d  \n",
      "685776                0       Conversion 0d  \n",
      "719044                0       Conversion 0d  \n",
      "745812                0       Conversion 0d  \n",
      "623128               36      Conversion 36d  \n",
      "533466                0       Conversion 0d  \n",
      "696689                0       Conversion 0d  \n",
      "757542                0       Conversion 0d  \n",
      "---------------------------------------------------------\n",
      "             Start Ts conversion_category  Uid\n",
      "0 2017-06-01 00:09:00       Conversion 0d    1\n",
      "1 2017-06-01 00:14:00       Conversion 0d    2\n",
      "2 2017-06-01 00:25:00       Conversion 0d    1\n",
      "3 2017-06-01 01:18:00      Conversion 50d    1\n",
      "4 2017-06-01 01:28:00      Conversion 87d    1\n",
      "   Source Id conversion_category   Uid\n",
      "0          1       Conversion 0d  2279\n",
      "1          1     Conversion 100d     2\n",
      "2          1     Conversion 101d     2\n",
      "3          1     Conversion 102d     2\n",
      "4          1     Conversion 105d     4\n"
     ]
    }
   ],
   "source": [
    "# Unir las tablas de visitas y pedidos en función del Uid\n",
    "merged_data = pd.merge(df_data_on_visits[['Uid', 'Start Ts', 'Source Id']], df_data_orders[['Uid', 'Buy Ts']], on='Uid', how='inner')\n",
    "\n",
    "# Ordenar por uid y fecha de registro para asegurar que estamos analizando la primera compra\n",
    "merged_data = merged_data.sort_values(by=['Uid', 'Start Ts', 'Buy Ts'])\n",
    "\n",
    "# Calcular el tiempo entre registro y la primera compra en días\n",
    "merged_data['conversion_time'] = (merged_data['Buy Ts'] - merged_data['Start Ts']).dt.days\n",
    "\n",
    "# Eliminar filas duplicadas por usuario para asegurarse de tomar solo la primera compra\n",
    "merged_data = merged_data.drop_duplicates(subset='Uid', keep='first')\n",
    "\n",
    "# Categorizar según el tiempo de conversión\n",
    "merged_data['conversion_category'] = 'Conversion ' + merged_data['conversion_time'].astype(str) + 'd'\n",
    "\n",
    "# Verificar algunas de las conversiones\n",
    "print(merged_data.head(10))\n",
    "\n",
    "print(\"---------------------------------------------------------\")\n",
    "\n",
    "# Agrupar por fecha de registro o fuente de marketing\n",
    "conversion_analysis = merged_data.groupby(['Start Ts', 'conversion_category']).agg({'Uid': 'count'}).reset_index()\n",
    "\n",
    "# O bien agrupar por fuente de tráfico si se tiene la columna source_id\n",
    "conversion_by_channel = merged_data.groupby(['Source Id', 'conversion_category']).agg({'Uid': 'count'}).reset_index()\n",
    "\n",
    "# Ver los primeros resultados\n",
    "print(conversion_analysis.head())\n",
    "print(conversion_by_channel.head())"
   ]
  },
  {
   "cell_type": "markdown",
   "metadata": {},
   "source": [
    "#### ¿Cuántos pedidos hacen durante un período de tiempo dado?"
   ]
  },
  {
   "cell_type": "code",
   "execution_count": 20,
   "metadata": {},
   "outputs": [
    {
     "name": "stdout",
     "output_type": "stream",
     "text": [
      "        Date  Number of Orders\n",
      "0 2017-06-01                96\n",
      "1 2017-06-02               111\n",
      "2 2017-06-03                67\n",
      "3 2017-06-04                66\n",
      "4 2017-06-05               161\n"
     ]
    }
   ],
   "source": [
    "# Agrupar por día, semana o mes y contar los pedidos\n",
    "orders_per_period = df_data_orders.resample('D', on='Buy Ts').agg({'Uid': 'count'}).reset_index()\n",
    "orders_per_period.columns = ['Date', 'Number of Orders']\n",
    "\n",
    "# Ver los primeros resultados\n",
    "print(orders_per_period.head())"
   ]
  },
  {
   "cell_type": "markdown",
   "metadata": {},
   "source": [
    "#### ¿Cuál es el tamaño promedio de compra?"
   ]
  },
  {
   "cell_type": "code",
   "execution_count": 21,
   "metadata": {},
   "outputs": [
    {
     "name": "stdout",
     "output_type": "stream",
     "text": [
      "Tamaño promedio de compra: 6.9013279303452615\n"
     ]
    }
   ],
   "source": [
    "# Calcular el tamaño promedio de compra\n",
    "avg_order_size = df_data_orders['Revenue'].sum() / df_data_orders['Uid'].nunique()\n",
    "\n",
    "# Mostrar el tamaño promedio de compra\n",
    "print(f\"Tamaño promedio de compra: {avg_order_size}\")"
   ]
  },
  {
   "cell_type": "markdown",
   "metadata": {},
   "source": [
    "<div class=\"alert alert-block alert-success\">\n",
    "<b>Comentario del revisor (1ra Iteracion)</b> <a class=“tocSkip”></a>\n",
    "\n",
    "Buen trabajo con los cálculos!\n",
    "</div>"
   ]
  },
  {
   "cell_type": "markdown",
   "metadata": {},
   "source": [
    "#### ¿Cuánto dinero traen? (LTV)"
   ]
  },
  {
   "cell_type": "code",
   "execution_count": 22,
   "metadata": {},
   "outputs": [
    {
     "name": "stdout",
     "output_type": "stream",
     "text": [
      "Valor de vida promedio del cliente (LTV): 6.901327930345262\n"
     ]
    }
   ],
   "source": [
    "# Calcular LTV para cada usuario\n",
    "ltv_per_user = df_data_orders.groupby('Uid')['Revenue'].sum().reset_index()\n",
    "ltv_per_user.columns = ['Uid', 'LTV']\n",
    "\n",
    "# Calcular el promedio de LTV\n",
    "average_ltv = ltv_per_user['LTV'].mean()\n",
    "\n",
    "# Mostrar el LTV promedio\n",
    "print(f\"Valor de vida promedio del cliente (LTV): {average_ltv}\")"
   ]
  },
  {
   "cell_type": "markdown",
   "metadata": {},
   "source": [
    "#### Conclusiones sobre el análisis de ventas\n",
    "\n",
    "- Se puede observar que mayormente la conversión de tiempo para que un cliente se decida a comprar es en el mismo día, es decir, en el día cero. \n",
    "- Si se tiene un periodo de tiempo de 5 días, se tiene unos 501 pedidos aproximadamente. \n",
    "- El LTV y el tamaño promedio de compra de un cliente, es un número muy parecido para cada uno de estas medidas. "
   ]
  },
  {
   "cell_type": "markdown",
   "metadata": {},
   "source": [
    "<div class=\"alert alert-block alert-success\">\n",
    "<b>Comentario del revisor (1ra Iteracion)</b> <a class=“tocSkip”></a>\n",
    "\n",
    "El LTV debe tener más detalle en su cálculo, deberías analizar para cada cohort el LTV según su primer mes de ordenar. Esto puedes hacerlo con un pivot_table y luego mostrarlo con una visualización de mapa de calor\n",
    "</div>"
   ]
  },
  {
   "cell_type": "markdown",
   "metadata": {},
   "source": [
    "### Marketing\n",
    "\n",
    "#### ¿Cuánto dinero se gastó? (Total/por fuente de adquisición/a lo largo del tiempo)"
   ]
  },
  {
   "cell_type": "code",
   "execution_count": 23,
   "metadata": {},
   "outputs": [
    {
     "name": "stdout",
     "output_type": "stream",
     "text": [
      "Gasto total en marketing: 329131.62\n"
     ]
    }
   ],
   "source": [
    "# 1. Cálculo del gasto total\n",
    "total_marketing_cost = df_variable_expenses['costs'].sum()\n",
    "print(f\"Gasto total en marketing: {total_marketing_cost}\")"
   ]
  },
  {
   "cell_type": "code",
   "execution_count": 24,
   "metadata": {},
   "outputs": [
    {
     "name": "stdout",
     "output_type": "stream",
     "text": [
      "Gastos por fuente de adquisición:\n",
      "   source_id  total_cost\n",
      "0          1    20833.27\n",
      "1          2    42806.04\n",
      "2          3   141321.63\n",
      "3          4    61073.60\n",
      "4          5    51757.10\n",
      "5          9     5517.49\n",
      "6         10     5822.49\n"
     ]
    }
   ],
   "source": [
    "# 2. Gasto por fuente de adquisición\n",
    "costs_by_source = df_variable_expenses.groupby('source_id')['costs'].sum().reset_index()\n",
    "costs_by_source.columns = ['source_id', 'total_cost']\n",
    "print(\"Gastos por fuente de adquisición:\")\n",
    "print(costs_by_source)"
   ]
  },
  {
   "cell_type": "code",
   "execution_count": 25,
   "metadata": {},
   "outputs": [
    {
     "name": "stdout",
     "output_type": "stream",
     "text": [
      "Gastos a lo largo del tiempo:\n",
      "            dt    costs\n",
      "0   2017-06-01   735.26\n",
      "1   2017-06-02   721.19\n",
      "2   2017-06-03   450.85\n",
      "3   2017-06-04   761.16\n",
      "4   2017-06-05   821.44\n",
      "..         ...      ...\n",
      "359 2018-05-27   532.87\n",
      "360 2018-05-28   619.44\n",
      "361 2018-05-29   784.79\n",
      "362 2018-05-30  1183.00\n",
      "363 2018-05-31  2153.70\n",
      "\n",
      "[364 rows x 2 columns]\n"
     ]
    }
   ],
   "source": [
    "# 3. Gasto a lo largo del tiempo\n",
    "costs_over_time = df_variable_expenses.groupby('dt')['costs'].sum().reset_index()\n",
    "print(\"Gastos a lo largo del tiempo:\")\n",
    "print(costs_over_time)"
   ]
  },
  {
   "cell_type": "markdown",
   "metadata": {},
   "source": [
    "#### ¿Cuál fue el costo de adquisición de clientes de cada una de las fuentes?"
   ]
  },
  {
   "cell_type": "code",
   "execution_count": 26,
   "metadata": {},
   "outputs": [
    {
     "name": "stdout",
     "output_type": "stream",
     "text": [
      "Número de clientes por fuente:\n",
      "   source_id  num_customers\n",
      "0          1           7138\n",
      "1          2           7305\n",
      "2          3          13846\n",
      "3          4          14253\n",
      "4          5          10156\n",
      "5          7              1\n",
      "6          9           2793\n",
      "7         10           1773\n"
     ]
    }
   ],
   "source": [
    "# Unir las tablas `visits` y `orders` usando el identificador de usuario (Uid) para identificar clientes y sus fuentes\n",
    "merged_data = pd.merge(df_data_on_visits, df_data_orders, left_on='Uid', right_on='Uid', how='inner')\n",
    "\n",
    "# Agrupar por `source_id` y contar el número de clientes únicos\n",
    "clients_per_source = merged_data.groupby('Source Id')['Uid'].nunique().reset_index()\n",
    "clients_per_source.columns = ['source_id', 'num_customers']\n",
    "\n",
    "print(\"Número de clientes por fuente:\")\n",
    "print(clients_per_source)"
   ]
  },
  {
   "cell_type": "code",
   "execution_count": 27,
   "metadata": {},
   "outputs": [
    {
     "name": "stdout",
     "output_type": "stream",
     "text": [
      "Costo de adquisición de clientes por fuente:\n",
      "   source_id        cac\n",
      "0          1   2.918642\n",
      "1          2   5.859828\n",
      "2          3  10.206676\n",
      "3          4   4.284965\n",
      "4          5   5.096209\n",
      "5          9   1.975471\n",
      "6         10   3.283976\n"
     ]
    }
   ],
   "source": [
    "# Agrupar por fuente de adquisición para obtener el gasto total\n",
    "costs_by_source = df_variable_expenses.groupby('source_id')['costs'].sum().reset_index()\n",
    "costs_by_source.columns = ['source_id', 'total_cost']\n",
    "\n",
    "# Unir los datos de costos con el número de clientes adquiridos\n",
    "cac_data = pd.merge(costs_by_source, clients_per_source, on='source_id')\n",
    "\n",
    "# Calcular el CAC\n",
    "cac_data['cac'] = cac_data['total_cost'] / cac_data['num_customers']\n",
    "\n",
    "print(\"Costo de adquisición de clientes por fuente:\")\n",
    "print(cac_data[['source_id', 'cac']])"
   ]
  },
  {
   "cell_type": "code",
   "execution_count": 28,
   "metadata": {},
   "outputs": [
    {
     "data": {
      "image/png": "[encoded data removed]",
      "text/plain": [
       "<Figure size 1200x600 with 1 Axes>"
      ]
     },
     "metadata": {},
     "output_type": "display_data"
    }
   ],
   "source": [
    "# Graficar el CAC por fuente de adquisición\n",
    "plt.figure(figsize=(12, 6))\n",
    "plt.bar(cac_data['source_id'], cac_data['cac'], color='lightcoral')\n",
    "plt.xlabel('Fuente de Adquisición')\n",
    "plt.ylabel('Costo de Adquisición de Clientes (CAC)')\n",
    "plt.title('CAC por Fuente de Adquisición')\n",
    "plt.xticks(rotation=45)\n",
    "plt.grid(True)\n",
    "plt.show()"
   ]
  },
  {
   "cell_type": "markdown",
   "metadata": {},
   "source": [
    "#### ¿Cuán rentables eran las inversiones? (ROMI)"
   ]
  },
  {
   "cell_type": "code",
   "execution_count": 29,
   "metadata": {},
   "outputs": [
    {
     "name": "stdout",
     "output_type": "stream",
     "text": [
      "Ingresos totales por fuente:\n",
      "   source_id  total_revenue\n",
      "0          1   2.298200e+06\n",
      "1          2   2.638189e+06\n",
      "2          3   2.966880e+05\n",
      "3          4   4.966902e+05\n",
      "4          5   1.181477e+06\n",
      "5          7   1.220000e+00\n",
      "6          9   3.634225e+04\n",
      "7         10   1.461923e+04\n"
     ]
    }
   ],
   "source": [
    "# Unir las tablas `visits` y `orders` para atribuir ingresos a cada fuente\n",
    "merged_data = pd.merge(df_data_on_visits, df_data_orders, left_on='Uid', right_on='Uid', how='inner')\n",
    "\n",
    "# Agrupar por `source_id` y sumar los ingresos\n",
    "revenue_by_source = merged_data.groupby('Source Id')['Revenue'].sum().reset_index()\n",
    "revenue_by_source.columns = ['source_id', 'total_revenue']\n",
    "\n",
    "print(\"Ingresos totales por fuente:\")\n",
    "print(revenue_by_source)"
   ]
  },
  {
   "cell_type": "code",
   "execution_count": 30,
   "metadata": {},
   "outputs": [
    {
     "name": "stdout",
     "output_type": "stream",
     "text": [
      "Costo total de marketing por fuente:\n",
      "   source_id  total_cost\n",
      "0          1    20833.27\n",
      "1          2    42806.04\n",
      "2          3   141321.63\n",
      "3          4    61073.60\n",
      "4          5    51757.10\n",
      "5          9     5517.49\n",
      "6         10     5822.49\n"
     ]
    }
   ],
   "source": [
    "# Agrupar por `source_id` para obtener el costo total de marketing\n",
    "costs_by_source = df_variable_expenses.groupby('source_id')['costs'].sum().reset_index()\n",
    "costs_by_source.columns = ['source_id', 'total_cost']\n",
    "\n",
    "print(\"Costo total de marketing por fuente:\")\n",
    "print(costs_by_source)"
   ]
  },
  {
   "cell_type": "code",
   "execution_count": 31,
   "metadata": {},
   "outputs": [
    {
     "name": "stdout",
     "output_type": "stream",
     "text": [
      "ROMI por fuente de adquisición:\n",
      "   source_id        romi\n",
      "0          1  109.313944\n",
      "1          2   60.631237\n",
      "2          3    1.099381\n",
      "3          4    7.132649\n",
      "4          5   21.827344\n",
      "5          9    5.586736\n",
      "6         10    1.510821\n"
     ]
    }
   ],
   "source": [
    "# Unir los datos de ingresos con el costo de marketing\n",
    "romi_data = pd.merge(revenue_by_source, costs_by_source, on='source_id')\n",
    "\n",
    "# Calcular el ROMI\n",
    "romi_data['romi'] = (romi_data['total_revenue'] - romi_data['total_cost']) / romi_data['total_cost']\n",
    "\n",
    "print(\"ROMI por fuente de adquisición:\")\n",
    "print(romi_data[['source_id', 'romi']])"
   ]
  },
  {
   "cell_type": "code",
   "execution_count": 32,
   "metadata": {},
   "outputs": [
    {
     "data": {
      "image/png": "[encoded data removed]",
      "text/plain": [
       "<Figure size 1200x600 with 1 Axes>"
      ]
     },
     "metadata": {},
     "output_type": "display_data"
    }
   ],
   "source": [
    "# Graficar el ROMI por fuente de adquisición\n",
    "plt.figure(figsize=(12, 6))\n",
    "plt.bar(romi_data['source_id'], romi_data['romi'], color='lightgreen')\n",
    "plt.xlabel('Fuente de Adquisición')\n",
    "plt.ylabel('ROMI')\n",
    "plt.title('ROMI por Fuente de Adquisición')\n",
    "plt.xticks(rotation=45)\n",
    "plt.grid(True)\n",
    "plt.show()"
   ]
  },
  {
   "cell_type": "markdown",
   "metadata": {},
   "source": [
    "<div class=\"alert alert-block alert-success\">\n",
    "<b>Comentario del revisor (1ra Iteracion)</b> <a class=“tocSkip”></a>\n",
    "\n",
    "Buen trabajo con estos cálculos!\n",
    "</div>"
   ]
  },
  {
   "cell_type": "markdown",
   "metadata": {},
   "source": [
    "## Conclusiones finales"
   ]
  },
  {
   "cell_type": "markdown",
   "metadata": {},
   "source": [
    "### Aconseja a los expertos de marketing cuánto dinero invertir y dónde"
   ]
  },
  {
   "cell_type": "markdown",
   "metadata": {},
   "source": [
    "¿Qué fuentes/plataformas recomendarías?  \n",
    "\n",
    "- La plataforma o fuente número 1 y 2, son las elecciones que yo recomendarìa a los expertos en marketing. Esto es debido a que tienen un CAC bajo y un ROMI bastante benificioso. Inclusive la plataforma 1, llega a tener un valor que supera el 100. \n",
    "\n",
    "- Plataformas como la nùmero 3 deberìa ser eliminada o actualizada de alguna manera, ya que, tiene un CAC elevado y un casi nulo ROMU. \n",
    "\n",
    "- Para las plataformas como la nùmero 1 y 2, no importa mucho que tipo de dispositivo se utilice, pues, presentan unos altor valores de ROMI y bajo CAC. Aunque la plataforma nùmero 2, tenga un CAC elevado, gracias a su ROMI llega a ser beneficiosa."
   ]
  },
  {
   "cell_type": "markdown",
   "metadata": {},
   "source": [
    "<div class=\"alert alert-block alert-info\">\n",
    "<b>Comentario general (1ra Iteracion)</b> <a class=“tocSkip”></a>\n",
    "\n",
    "Muy bien hecho Ariel! De manera general puedo decirte que presentaste un proyecto muy completo.\n",
    "    \n",
    "Como recomendación es que redactes un poco más tus hallazgos a lo largo de tu notebook, ya que lo importante es saber comunicar lo que encontramos en los análisis.\n",
    "  \n",
    "Hay un par de puntos que se pueden complementar mejor, te he dejado algunos comentarios.\n",
    "    \n",
    "Saludos!\n",
    "</div>"
   ]
  }
 ],
 "metadata": {
  "ExecuteTimeLog": [
   {
    "duration": 4961,
    "start_time": "2024-08-19T13:30:58.356Z"
   },
   {
    "duration": 240,
    "start_time": "2024-08-19T13:32:00.016Z"
   },
   {
    "duration": 753,
    "start_time": "2024-08-19T13:34:41.016Z"
   },
   {
    "duration": 66,
    "start_time": "2024-08-19T13:38:50.088Z"
   },
   {
    "duration": 347,
    "start_time": "2024-08-19T13:39:43.309Z"
   },
   {
    "duration": 19,
    "start_time": "2024-08-19T13:41:23.712Z"
   },
   {
    "duration": 27,
    "start_time": "2024-08-19T13:41:53.400Z"
   },
   {
    "duration": 15,
    "start_time": "2024-08-19T13:43:26.778Z"
   },
   {
    "duration": 9,
    "start_time": "2024-08-19T13:43:44.010Z"
   },
   {
    "duration": 1244,
    "start_time": "2024-08-19T14:12:57.853Z"
   },
   {
    "duration": 48,
    "start_time": "2024-08-19T14:13:13.801Z"
   },
   {
    "duration": 151,
    "start_time": "2024-08-19T14:14:23.674Z"
   },
   {
    "duration": 72,
    "start_time": "2024-08-19T14:29:46.169Z"
   },
   {
    "duration": 82,
    "start_time": "2024-08-19T14:29:53.396Z"
   },
   {
    "duration": 266,
    "start_time": "2024-08-19T14:30:02.921Z"
   },
   {
    "duration": 58,
    "start_time": "2024-08-19T14:33:23.589Z"
   },
   {
    "duration": 155,
    "start_time": "2024-08-19T14:48:11.634Z"
   },
   {
    "duration": 36,
    "start_time": "2024-08-19T15:06:43.007Z"
   },
   {
    "duration": 57,
    "start_time": "2024-08-19T15:16:23.276Z"
   },
   {
    "duration": 25,
    "start_time": "2024-08-19T15:21:02.346Z"
   },
   {
    "duration": 98,
    "start_time": "2024-08-19T15:48:28.382Z"
   },
   {
    "duration": 415,
    "start_time": "2024-08-19T15:48:47.265Z"
   },
   {
    "duration": 319,
    "start_time": "2024-08-19T15:48:54.238Z"
   },
   {
    "duration": 186,
    "start_time": "2024-08-19T15:52:07.654Z"
   },
   {
    "duration": 168,
    "start_time": "2024-08-19T15:53:14.336Z"
   },
   {
    "duration": 29,
    "start_time": "2024-08-19T15:53:29.475Z"
   },
   {
    "duration": 84,
    "start_time": "2024-08-19T15:53:33.917Z"
   },
   {
    "duration": 158,
    "start_time": "2024-08-19T15:53:42.434Z"
   },
   {
    "duration": 4,
    "start_time": "2024-08-19T15:54:06.396Z"
   },
   {
    "duration": 374,
    "start_time": "2024-08-19T15:54:12.981Z"
   },
   {
    "duration": 191,
    "start_time": "2024-08-19T16:10:15.636Z"
   },
   {
    "duration": 37,
    "start_time": "2024-08-19T16:23:35.600Z"
   },
   {
    "duration": 32,
    "start_time": "2024-08-19T16:23:41.470Z"
   },
   {
    "duration": 28,
    "start_time": "2024-08-19T16:24:06.723Z"
   },
   {
    "duration": 67640,
    "start_time": "2024-08-19T16:25:51.488Z"
   },
   {
    "duration": 10,
    "start_time": "2024-08-19T16:36:04.643Z"
   },
   {
    "duration": 378,
    "start_time": "2024-08-19T17:24:10.565Z"
   },
   {
    "duration": 480,
    "start_time": "2024-08-19T17:30:17.399Z"
   },
   {
    "duration": 499,
    "start_time": "2024-08-19T17:30:32.528Z"
   },
   {
    "duration": 850,
    "start_time": "2024-08-19T17:31:57.266Z"
   },
   {
    "duration": 627,
    "start_time": "2024-08-19T17:32:56.497Z"
   },
   {
    "duration": 591,
    "start_time": "2024-08-19T17:33:25.747Z"
   },
   {
    "duration": 643,
    "start_time": "2024-08-19T17:34:34.177Z"
   },
   {
    "duration": 277,
    "start_time": "2024-08-19T17:38:38.396Z"
   },
   {
    "duration": 696,
    "start_time": "2024-08-19T17:39:39.502Z"
   },
   {
    "duration": 545,
    "start_time": "2024-08-19T17:39:53.800Z"
   },
   {
    "duration": 20,
    "start_time": "2024-08-19T17:56:55.777Z"
   },
   {
    "duration": 10,
    "start_time": "2024-08-19T18:02:26.851Z"
   },
   {
    "duration": 20,
    "start_time": "2024-08-19T18:03:58.688Z"
   },
   {
    "duration": 5005,
    "start_time": "2024-08-19T20:07:56.340Z"
   },
   {
    "duration": 713,
    "start_time": "2024-08-19T20:08:01.348Z"
   },
   {
    "duration": 64,
    "start_time": "2024-08-19T20:08:02.063Z"
   },
   {
    "duration": 329,
    "start_time": "2024-08-19T20:08:02.131Z"
   },
   {
    "duration": 17,
    "start_time": "2024-08-19T20:08:02.463Z"
   },
   {
    "duration": 28,
    "start_time": "2024-08-19T20:08:02.506Z"
   },
   {
    "duration": 16,
    "start_time": "2024-08-19T20:08:02.539Z"
   },
   {
    "duration": 50,
    "start_time": "2024-08-19T20:08:02.559Z"
   },
   {
    "duration": 377,
    "start_time": "2024-08-19T20:08:02.612Z"
   },
   {
    "duration": 46,
    "start_time": "2024-08-19T20:08:02.995Z"
   },
   {
    "duration": 25,
    "start_time": "2024-08-19T20:08:03.045Z"
   },
   {
    "duration": 284,
    "start_time": "2024-08-19T20:08:03.106Z"
   },
   {
    "duration": 151,
    "start_time": "2024-08-19T20:08:03.405Z"
   },
   {
    "duration": 148,
    "start_time": "2024-08-19T20:08:03.560Z"
   },
   {
    "duration": 343,
    "start_time": "2024-08-19T20:08:03.712Z"
   },
   {
    "duration": 191,
    "start_time": "2024-08-19T20:08:04.059Z"
   },
   {
    "duration": 28,
    "start_time": "2024-08-19T20:08:04.253Z"
   },
   {
    "duration": 66209,
    "start_time": "2024-08-19T20:08:04.307Z"
   },
   {
    "duration": 599,
    "start_time": "2024-08-19T20:09:10.519Z"
   },
   {
    "duration": 26,
    "start_time": "2024-08-19T20:09:11.121Z"
   },
   {
    "duration": 9,
    "start_time": "2024-08-19T20:09:11.150Z"
   },
   {
    "duration": 57,
    "start_time": "2024-08-19T20:09:11.163Z"
   },
   {
    "duration": 5,
    "start_time": "2024-08-19T20:09:11.224Z"
   },
   {
    "duration": 12,
    "start_time": "2024-08-19T20:09:53.921Z"
   },
   {
    "duration": 408,
    "start_time": "2024-08-19T20:10:35.506Z"
   },
   {
    "duration": 8,
    "start_time": "2024-08-19T20:10:40.736Z"
   },
   {
    "duration": 13,
    "start_time": "2024-08-19T20:11:13.883Z"
   },
   {
    "duration": 310,
    "start_time": "2024-08-19T20:12:55.608Z"
   },
   {
    "duration": 1282,
    "start_time": "2024-08-19T20:13:09.589Z"
   },
   {
    "duration": 725,
    "start_time": "2024-08-19T20:13:10.875Z"
   },
   {
    "duration": 60,
    "start_time": "2024-08-19T20:13:11.603Z"
   },
   {
    "duration": 336,
    "start_time": "2024-08-19T20:13:11.666Z"
   },
   {
    "duration": 17,
    "start_time": "2024-08-19T20:13:12.005Z"
   },
   {
    "duration": 23,
    "start_time": "2024-08-19T20:13:12.029Z"
   },
   {
    "duration": 14,
    "start_time": "2024-08-19T20:13:12.054Z"
   },
   {
    "duration": 10,
    "start_time": "2024-08-19T20:13:12.107Z"
   },
   {
    "duration": 401,
    "start_time": "2024-08-19T20:13:12.120Z"
   },
   {
    "duration": 40,
    "start_time": "2024-08-19T20:13:12.525Z"
   },
   {
    "duration": 52,
    "start_time": "2024-08-19T20:13:12.568Z"
   },
   {
    "duration": 294,
    "start_time": "2024-08-19T20:13:12.623Z"
   },
   {
    "duration": 156,
    "start_time": "2024-08-19T20:13:12.920Z"
   },
   {
    "duration": 143,
    "start_time": "2024-08-19T20:13:13.081Z"
   },
   {
    "duration": 364,
    "start_time": "2024-08-19T20:13:13.227Z"
   },
   {
    "duration": 182,
    "start_time": "2024-08-19T20:13:13.594Z"
   },
   {
    "duration": 48,
    "start_time": "2024-08-19T20:13:13.778Z"
   },
   {
    "duration": 63806,
    "start_time": "2024-08-19T20:13:13.828Z"
   },
   {
    "duration": 600,
    "start_time": "2024-08-19T20:14:17.638Z"
   },
   {
    "duration": 20,
    "start_time": "2024-08-19T20:14:18.242Z"
   },
   {
    "duration": 8,
    "start_time": "2024-08-19T20:14:18.265Z"
   },
   {
    "duration": 20,
    "start_time": "2024-08-19T20:14:18.307Z"
   },
   {
    "duration": 5,
    "start_time": "2024-08-19T20:14:18.331Z"
   },
   {
    "duration": 12,
    "start_time": "2024-08-19T20:14:18.339Z"
   },
   {
    "duration": 60,
    "start_time": "2024-08-19T20:14:18.354Z"
   },
   {
    "duration": 440,
    "start_time": "2024-08-19T20:14:18.417Z"
   },
   {
    "duration": 307,
    "start_time": "2024-08-19T20:18:22.382Z"
   },
   {
    "duration": 1327,
    "start_time": "2024-08-19T20:18:38.611Z"
   },
   {
    "duration": 719,
    "start_time": "2024-08-19T20:18:39.942Z"
   },
   {
    "duration": 62,
    "start_time": "2024-08-19T20:18:40.667Z"
   },
   {
    "duration": 324,
    "start_time": "2024-08-19T20:18:40.734Z"
   },
   {
    "duration": 17,
    "start_time": "2024-08-19T20:18:41.061Z"
   },
   {
    "duration": 49,
    "start_time": "2024-08-19T20:18:41.081Z"
   },
   {
    "duration": 16,
    "start_time": "2024-08-19T20:18:41.134Z"
   },
   {
    "duration": 52,
    "start_time": "2024-08-19T20:18:41.154Z"
   },
   {
    "duration": 370,
    "start_time": "2024-08-19T20:18:41.209Z"
   },
   {
    "duration": 52,
    "start_time": "2024-08-19T20:18:41.587Z"
   },
   {
    "duration": 21,
    "start_time": "2024-08-19T20:18:41.642Z"
   },
   {
    "duration": 304,
    "start_time": "2024-08-19T20:18:41.666Z"
   },
   {
    "duration": 152,
    "start_time": "2024-08-19T20:18:41.973Z"
   },
   {
    "duration": 152,
    "start_time": "2024-08-19T20:18:42.128Z"
   },
   {
    "duration": 356,
    "start_time": "2024-08-19T20:18:42.283Z"
   },
   {
    "duration": 181,
    "start_time": "2024-08-19T20:18:42.642Z"
   },
   {
    "duration": 27,
    "start_time": "2024-08-19T20:18:42.826Z"
   },
   {
    "duration": 64870,
    "start_time": "2024-08-19T20:18:42.856Z"
   },
   {
    "duration": 590,
    "start_time": "2024-08-19T20:19:47.730Z"
   },
   {
    "duration": 21,
    "start_time": "2024-08-19T20:19:48.323Z"
   },
   {
    "duration": 10,
    "start_time": "2024-08-19T20:19:48.348Z"
   },
   {
    "duration": 57,
    "start_time": "2024-08-19T20:19:48.360Z"
   },
   {
    "duration": 5,
    "start_time": "2024-08-19T20:19:48.420Z"
   },
   {
    "duration": 12,
    "start_time": "2024-08-19T20:19:48.429Z"
   },
   {
    "duration": 12,
    "start_time": "2024-08-19T20:19:48.444Z"
   },
   {
    "duration": 1286,
    "start_time": "2024-08-19T20:21:02.384Z"
   },
   {
    "duration": 696,
    "start_time": "2024-08-19T20:21:03.674Z"
   },
   {
    "duration": 63,
    "start_time": "2024-08-19T20:21:04.373Z"
   },
   {
    "duration": 335,
    "start_time": "2024-08-19T20:21:04.441Z"
   },
   {
    "duration": 33,
    "start_time": "2024-08-19T20:21:04.780Z"
   },
   {
    "duration": 24,
    "start_time": "2024-08-19T20:21:04.817Z"
   },
   {
    "duration": 14,
    "start_time": "2024-08-19T20:21:04.845Z"
   },
   {
    "duration": 10,
    "start_time": "2024-08-19T20:21:04.905Z"
   },
   {
    "duration": 395,
    "start_time": "2024-08-19T20:21:04.918Z"
   },
   {
    "duration": 39,
    "start_time": "2024-08-19T20:21:05.319Z"
   },
   {
    "duration": 50,
    "start_time": "2024-08-19T20:21:05.362Z"
   },
   {
    "duration": 286,
    "start_time": "2024-08-19T20:21:05.415Z"
   },
   {
    "duration": 157,
    "start_time": "2024-08-19T20:21:05.706Z"
   },
   {
    "duration": 144,
    "start_time": "2024-08-19T20:21:05.866Z"
   },
   {
    "duration": 353,
    "start_time": "2024-08-19T20:21:06.014Z"
   },
   {
    "duration": 182,
    "start_time": "2024-08-19T20:21:06.370Z"
   },
   {
    "duration": 28,
    "start_time": "2024-08-19T20:21:06.555Z"
   },
   {
    "duration": 65035,
    "start_time": "2024-08-19T20:21:06.606Z"
   },
   {
    "duration": 577,
    "start_time": "2024-08-19T20:22:11.644Z"
   },
   {
    "duration": 20,
    "start_time": "2024-08-19T20:22:12.224Z"
   },
   {
    "duration": 8,
    "start_time": "2024-08-19T20:22:12.247Z"
   },
   {
    "duration": 50,
    "start_time": "2024-08-19T20:22:12.258Z"
   },
   {
    "duration": 6,
    "start_time": "2024-08-19T20:22:12.311Z"
   },
   {
    "duration": 12,
    "start_time": "2024-08-19T20:22:12.320Z"
   },
   {
    "duration": 14,
    "start_time": "2024-08-19T20:22:12.335Z"
   },
   {
    "duration": 442,
    "start_time": "2024-08-19T20:22:12.352Z"
   },
   {
    "duration": 308,
    "start_time": "2024-08-19T20:26:32.742Z"
   },
   {
    "duration": 1310,
    "start_time": "2024-08-19T20:26:39.491Z"
   },
   {
    "duration": 737,
    "start_time": "2024-08-19T20:26:40.806Z"
   },
   {
    "duration": 64,
    "start_time": "2024-08-19T20:26:41.545Z"
   },
   {
    "duration": 321,
    "start_time": "2024-08-19T20:26:41.613Z"
   },
   {
    "duration": 17,
    "start_time": "2024-08-19T20:26:41.937Z"
   },
   {
    "duration": 48,
    "start_time": "2024-08-19T20:26:41.957Z"
   },
   {
    "duration": 14,
    "start_time": "2024-08-19T20:26:42.010Z"
   },
   {
    "duration": 9,
    "start_time": "2024-08-19T20:26:42.027Z"
   },
   {
    "duration": 384,
    "start_time": "2024-08-19T20:26:42.039Z"
   },
   {
    "duration": 39,
    "start_time": "2024-08-19T20:26:42.429Z"
   },
   {
    "duration": 41,
    "start_time": "2024-08-19T20:26:42.471Z"
   },
   {
    "duration": 286,
    "start_time": "2024-08-19T20:26:42.516Z"
   },
   {
    "duration": 151,
    "start_time": "2024-08-19T20:26:42.807Z"
   },
   {
    "duration": 130,
    "start_time": "2024-08-19T20:26:42.961Z"
   },
   {
    "duration": 354,
    "start_time": "2024-08-19T20:26:43.105Z"
   },
   {
    "duration": 178,
    "start_time": "2024-08-19T20:26:43.462Z"
   },
   {
    "duration": 27,
    "start_time": "2024-08-19T20:26:43.643Z"
   },
   {
    "duration": 64398,
    "start_time": "2024-08-19T20:26:43.673Z"
   },
   {
    "duration": 613,
    "start_time": "2024-08-19T20:27:48.074Z"
   },
   {
    "duration": 29,
    "start_time": "2024-08-19T20:27:48.690Z"
   },
   {
    "duration": 8,
    "start_time": "2024-08-19T20:27:48.722Z"
   },
   {
    "duration": 19,
    "start_time": "2024-08-19T20:27:48.733Z"
   },
   {
    "duration": 5,
    "start_time": "2024-08-19T20:27:48.755Z"
   },
   {
    "duration": 49,
    "start_time": "2024-08-19T20:27:48.762Z"
   },
   {
    "duration": 15,
    "start_time": "2024-08-19T20:27:48.815Z"
   },
   {
    "duration": 237,
    "start_time": "2024-08-19T20:27:48.833Z"
   },
   {
    "duration": 135,
    "start_time": "2024-08-19T20:29:15.035Z"
   },
   {
    "duration": 183,
    "start_time": "2024-08-19T20:29:35.845Z"
   },
   {
    "duration": 16,
    "start_time": "2024-08-19T20:32:30.828Z"
   },
   {
    "duration": 247,
    "start_time": "2024-08-19T20:32:40.239Z"
   },
   {
    "duration": 140,
    "start_time": "2024-08-19T20:39:02.905Z"
   },
   {
    "duration": 242,
    "start_time": "2024-08-19T20:39:22.992Z"
   },
   {
    "duration": 10,
    "start_time": "2024-08-19T20:39:36.594Z"
   },
   {
    "duration": 13,
    "start_time": "2024-08-19T20:39:48.279Z"
   },
   {
    "duration": 229,
    "start_time": "2024-08-19T20:39:58.238Z"
   },
   {
    "duration": 1194,
    "start_time": "2024-08-23T05:44:08.483Z"
   },
   {
    "duration": 638,
    "start_time": "2024-08-23T05:44:09.685Z"
   },
   {
    "duration": 61,
    "start_time": "2024-08-23T05:44:10.326Z"
   },
   {
    "duration": 339,
    "start_time": "2024-08-23T05:44:10.391Z"
   },
   {
    "duration": 16,
    "start_time": "2024-08-23T05:44:10.733Z"
   },
   {
    "duration": 23,
    "start_time": "2024-08-23T05:44:10.753Z"
   },
   {
    "duration": 51,
    "start_time": "2024-08-23T05:44:10.779Z"
   },
   {
    "duration": 9,
    "start_time": "2024-08-23T05:44:10.833Z"
   },
   {
    "duration": 381,
    "start_time": "2024-08-23T05:44:10.845Z"
   },
   {
    "duration": 39,
    "start_time": "2024-08-23T05:44:11.233Z"
   },
   {
    "duration": 23,
    "start_time": "2024-08-23T05:44:11.275Z"
   },
   {
    "duration": 283,
    "start_time": "2024-08-23T05:44:11.324Z"
   },
   {
    "duration": 152,
    "start_time": "2024-08-23T05:44:11.609Z"
   },
   {
    "duration": 138,
    "start_time": "2024-08-23T05:44:11.764Z"
   },
   {
    "duration": 358,
    "start_time": "2024-08-23T05:44:11.905Z"
   },
   {
    "duration": 175,
    "start_time": "2024-08-23T05:44:12.267Z"
   },
   {
    "duration": 27,
    "start_time": "2024-08-23T05:44:12.445Z"
   },
   {
    "duration": 64191,
    "start_time": "2024-08-23T05:44:12.475Z"
   },
   {
    "duration": 602,
    "start_time": "2024-08-23T05:45:16.670Z"
   },
   {
    "duration": 21,
    "start_time": "2024-08-23T05:45:17.276Z"
   },
   {
    "duration": 29,
    "start_time": "2024-08-23T05:45:17.300Z"
   },
   {
    "duration": 20,
    "start_time": "2024-08-23T05:45:17.332Z"
   },
   {
    "duration": 5,
    "start_time": "2024-08-23T05:45:17.355Z"
   },
   {
    "duration": 12,
    "start_time": "2024-08-23T05:45:17.365Z"
   },
   {
    "duration": 53,
    "start_time": "2024-08-23T05:45:17.380Z"
   },
   {
    "duration": 213,
    "start_time": "2024-08-23T05:45:17.436Z"
   },
   {
    "duration": 18,
    "start_time": "2024-08-23T05:45:17.652Z"
   },
   {
    "duration": 263,
    "start_time": "2024-08-23T05:45:17.677Z"
   },
   {
    "duration": 168,
    "start_time": "2024-08-23T05:45:17.942Z"
   },
   {
    "duration": 15,
    "start_time": "2024-08-23T05:45:18.114Z"
   },
   {
    "duration": 15,
    "start_time": "2024-08-23T05:45:18.132Z"
   },
   {
    "duration": 253,
    "start_time": "2024-08-23T05:45:18.152Z"
   },
   {
    "duration": 7,
    "start_time": "2024-08-23T05:49:14.835Z"
   },
   {
    "duration": 7,
    "start_time": "2024-08-23T05:49:28.624Z"
   },
   {
    "duration": 2545,
    "start_time": "2024-08-27T20:13:10.827Z"
   },
   {
    "duration": 446,
    "start_time": "2024-08-27T20:13:13.375Z"
   },
   {
    "duration": 43,
    "start_time": "2024-08-27T20:13:13.823Z"
   },
   {
    "duration": 191,
    "start_time": "2024-08-27T20:13:13.869Z"
   },
   {
    "duration": 10,
    "start_time": "2024-08-27T20:13:14.062Z"
   },
   {
    "duration": 16,
    "start_time": "2024-08-27T20:13:14.074Z"
   },
   {
    "duration": 11,
    "start_time": "2024-08-27T20:13:14.093Z"
   },
   {
    "duration": 33,
    "start_time": "2024-08-27T20:13:14.106Z"
   },
   {
    "duration": 209,
    "start_time": "2024-08-27T20:13:14.141Z"
   },
   {
    "duration": 24,
    "start_time": "2024-08-27T20:13:14.353Z"
   },
   {
    "duration": 13,
    "start_time": "2024-08-27T20:13:14.379Z"
   },
   {
    "duration": 166,
    "start_time": "2024-08-27T20:13:14.394Z"
   },
   {
    "duration": 86,
    "start_time": "2024-08-27T20:13:14.562Z"
   },
   {
    "duration": 72,
    "start_time": "2024-08-27T20:13:14.649Z"
   },
   {
    "duration": 200,
    "start_time": "2024-08-27T20:13:14.732Z"
   },
   {
    "duration": 100,
    "start_time": "2024-08-27T20:13:14.933Z"
   },
   {
    "duration": 14,
    "start_time": "2024-08-27T20:13:15.035Z"
   },
   {
    "duration": 33529,
    "start_time": "2024-08-27T20:13:15.051Z"
   },
   {
    "duration": 320,
    "start_time": "2024-08-27T20:13:48.582Z"
   },
   {
    "duration": 13,
    "start_time": "2024-08-27T20:13:48.904Z"
   },
   {
    "duration": 17,
    "start_time": "2024-08-27T20:13:48.918Z"
   },
   {
    "duration": 12,
    "start_time": "2024-08-27T20:13:48.936Z"
   },
   {
    "duration": 4,
    "start_time": "2024-08-27T20:13:48.950Z"
   },
   {
    "duration": 7,
    "start_time": "2024-08-27T20:13:48.956Z"
   },
   {
    "duration": 8,
    "start_time": "2024-08-27T20:13:48.965Z"
   },
   {
    "duration": 143,
    "start_time": "2024-08-27T20:13:48.974Z"
   },
   {
    "duration": 17,
    "start_time": "2024-08-27T20:13:49.119Z"
   },
   {
    "duration": 135,
    "start_time": "2024-08-27T20:13:49.140Z"
   },
   {
    "duration": 91,
    "start_time": "2024-08-27T20:13:49.277Z"
   },
   {
    "duration": 7,
    "start_time": "2024-08-27T20:13:49.369Z"
   },
   {
    "duration": 8,
    "start_time": "2024-08-27T20:13:49.378Z"
   },
   {
    "duration": 143,
    "start_time": "2024-08-27T20:13:49.388Z"
   },
   {
    "duration": 1041,
    "start_time": "2024-08-27T20:19:19.205Z"
   },
   {
    "duration": 570,
    "start_time": "2024-08-27T20:20:39.209Z"
   },
   {
    "duration": 33196,
    "start_time": "2024-08-27T20:36:09.148Z"
   },
   {
    "duration": 32803,
    "start_time": "2024-08-27T20:38:25.917Z"
   },
   {
    "duration": 158,
    "start_time": "2024-08-28T01:07:11.198Z"
   },
   {
    "duration": 2489,
    "start_time": "2024-08-28T01:07:18.224Z"
   },
   {
    "duration": 440,
    "start_time": "2024-08-28T01:07:20.715Z"
   },
   {
    "duration": 38,
    "start_time": "2024-08-28T01:07:21.157Z"
   },
   {
    "duration": 154,
    "start_time": "2024-08-28T01:07:21.197Z"
   },
   {
    "duration": 11,
    "start_time": "2024-08-28T01:07:21.352Z"
   },
   {
    "duration": 31,
    "start_time": "2024-08-28T01:07:21.364Z"
   },
   {
    "duration": 8,
    "start_time": "2024-08-28T01:07:21.396Z"
   },
   {
    "duration": 7,
    "start_time": "2024-08-28T01:07:21.406Z"
   },
   {
    "duration": 209,
    "start_time": "2024-08-28T01:07:21.414Z"
   },
   {
    "duration": 22,
    "start_time": "2024-08-28T01:07:21.626Z"
   },
   {
    "duration": 13,
    "start_time": "2024-08-28T01:07:21.650Z"
   },
   {
    "duration": 158,
    "start_time": "2024-08-28T01:07:21.665Z"
   },
   {
    "duration": 84,
    "start_time": "2024-08-28T01:07:21.825Z"
   },
   {
    "duration": 75,
    "start_time": "2024-08-28T01:07:21.911Z"
   },
   {
    "duration": 579,
    "start_time": "2024-08-28T01:07:21.988Z"
   },
   {
    "duration": 88,
    "start_time": "2024-08-28T01:07:22.569Z"
   },
   {
    "duration": 14,
    "start_time": "2024-08-28T01:07:22.659Z"
   },
   {
    "duration": 32878,
    "start_time": "2024-08-28T01:07:22.686Z"
   },
   {
    "duration": 288,
    "start_time": "2024-08-28T01:07:55.566Z"
   },
   {
    "duration": 13,
    "start_time": "2024-08-28T01:07:55.856Z"
   },
   {
    "duration": 15,
    "start_time": "2024-08-28T01:07:55.871Z"
   },
   {
    "duration": 13,
    "start_time": "2024-08-28T01:07:55.888Z"
   },
   {
    "duration": 3,
    "start_time": "2024-08-28T01:07:55.903Z"
   },
   {
    "duration": 7,
    "start_time": "2024-08-28T01:07:55.908Z"
   },
   {
    "duration": 7,
    "start_time": "2024-08-28T01:07:55.916Z"
   },
   {
    "duration": 131,
    "start_time": "2024-08-28T01:07:55.924Z"
   },
   {
    "duration": 10,
    "start_time": "2024-08-28T01:07:56.057Z"
   },
   {
    "duration": 143,
    "start_time": "2024-08-28T01:07:56.070Z"
   },
   {
    "duration": 86,
    "start_time": "2024-08-28T01:07:56.214Z"
   },
   {
    "duration": 5,
    "start_time": "2024-08-28T01:07:56.302Z"
   },
   {
    "duration": 8,
    "start_time": "2024-08-28T01:07:56.309Z"
   },
   {
    "duration": 142,
    "start_time": "2024-08-28T01:07:56.319Z"
   },
   {
    "duration": 15755,
    "start_time": "2024-08-28T01:09:41.468Z"
   },
   {
    "duration": 16078,
    "start_time": "2024-08-28T01:10:27.680Z"
   },
   {
    "duration": 157,
    "start_time": "2024-08-30T16:38:05.776Z"
   }
  ],
  "kernelspec": {
   "display_name": "Python 3 (ipykernel)",
   "language": "python",
   "name": "python3"
  },
  "language_info": {
   "codemirror_mode": {
    "name": "ipython",
    "version": 3
   },
   "file_extension": ".py",
   "mimetype": "text/x-python",
   "name": "python",
   "nbconvert_exporter": "python",
   "pygments_lexer": "ipython3",
   "version": "3.9.19"
  },
  "toc": {
   "base_numbering": 1,
   "nav_menu": {
    "height": "155.982px",
    "width": "446.411px"
   },
   "number_sections": true,
   "sideBar": true,
   "skip_h1_title": true,
   "title_cell": "Table of Contents",
   "title_sidebar": "Contents",
   "toc_cell": false,
   "toc_position": {},
   "toc_section_display": true,
   "toc_window_display": false
  }
 },
 "nbformat": 4,
 "nbformat_minor": 2
}
