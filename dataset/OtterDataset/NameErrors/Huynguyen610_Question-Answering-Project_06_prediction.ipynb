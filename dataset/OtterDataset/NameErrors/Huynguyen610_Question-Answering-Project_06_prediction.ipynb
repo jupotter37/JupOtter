{
 "cells": [
  {
   "cell_type": "code",
   "execution_count": 1,
   "id": "2a0d3dd4-724a-4519-b170-1df19a8f99f5",
   "metadata": {},
   "outputs": [],
   "source": [
    "import os"
   ]
  },
  {
   "cell_type": "code",
   "execution_count": 2,
   "id": "4934d2e1-e3d1-409d-902f-93b403ca9650",
   "metadata": {},
   "outputs": [
    {
     "data": {
      "text/plain": [
       "'F:\\\\Question-Answering-Project\\\\research'"
      ]
     },
     "execution_count": 2,
     "metadata": {},
     "output_type": "execute_result"
    }
   ],
   "source": [
    "%pwd"
   ]
  },
  {
   "cell_type": "code",
   "execution_count": 3,
   "id": "d1a8f614-73d5-4d2a-8d0b-3676cae51716",
   "metadata": {},
   "outputs": [],
   "source": [
    "os.chdir(\"../\")"
   ]
  },
  {
   "cell_type": "code",
   "execution_count": 4,
   "id": "f599dba4-72a5-4e0d-9edf-bacbee48a7e0",
   "metadata": {},
   "outputs": [
    {
     "data": {
      "text/plain": [
       "'F:\\\\Question-Answering-Project'"
      ]
     },
     "execution_count": 4,
     "metadata": {},
     "output_type": "execute_result"
    }
   ],
   "source": [
    "%pwd"
   ]
  },
  {
   "cell_type": "code",
   "execution_count": 52,
   "id": "41248401-0eb8-4637-b92f-fa40ec60a0c7",
   "metadata": {},
   "outputs": [],
   "source": [
    "from Question_Answering.config.configuration import ConfigurationManager\n",
    "from transformers import pipeline\n",
    "from transformers import BertConfig, BertModel, BertTokenizer\n",
    "from transformers import AutoModelForQuestionAnswering, AutoTokenizer\n",
    "import torch"
   ]
  },
  {
   "cell_type": "code",
   "execution_count": 60,
   "id": "96b3d518-c685-43de-afdb-b6a22c35d926",
   "metadata": {},
   "outputs": [],
   "source": [
    "class PredictionPipeline:\n",
    "    def __init__(self):\n",
    "        self.config = ConfigurationManager().get_model_evaluation_config()\n",
    "\n",
    "    def predict(self, question, context):\n",
    "        device = \"cuda\" if torch.cuda.is_available() else \"cpu\"\n",
    "        #tokenizer = BertTokenizer.from_pretrained(self.config.tokenizer_path)\n",
    "        tokenizer = AutoTokenizer.from_pretrained(\"bert-base-cased\")\n",
    "        model = AutoModelForQuestionAnswering.from_pretrained(self.config.model_path).to(device)\n",
    "        inputs = tokenizer(question, context, return_tensors=\"pt\")\n",
    "        print(\"Context:\")\n",
    "        print(context)\n",
    "        print(\"Question:\")\n",
    "        print(question)\n",
    "        outputs = model(**inputs)\n",
    "        answer_start_index = outputs.start_logits.argmax()\n",
    "        answer_end_index = outputs.end_logits.argmax()\n",
    "        predict_answer_tokens = inputs.input_ids[0, answer_start_index : answer_end_index + 1]\n",
    "        answers = tokenizer.decode(predict_answer_tokens)        \n",
    "        print(\"\\nModel Answer:\")\n",
    "        print(answers)\n",
    "        return answers\n",
    "        \n"
   ]
  },
  {
   "cell_type": "code",
   "execution_count": 7,
   "id": "916eae64-7a14-4ce2-8ba4-199714c9df48",
   "metadata": {},
   "outputs": [],
   "source": [
    "context = \"Super Bowl 50 was an American football game to determine the champion of the National Football League (NFL) for the 2015 season. The American Football Conference (AFC) champion Denver Broncos defeated the National Football Conference (NFC) champion Carolina Panthers 24–10 to earn their third Super Bowl title. The game was played on February 7, 2016, at Levi\\'s Stadium in the San Francisco Bay Area at Santa Clara, California. As this was the 50th Super Bowl, the league emphasized the \\\"golden anniversary\\\" with various gold-themed initiatives, as well as temporarily suspending the tradition of naming each Super Bowl game with Roman numerals (under which the game would have been known as \\\"Super Bowl L\\\"), so that the logo could prominently feature the Arabic numerals 50\"\n",
    "question = 'Which NFL team represented the AFC at Super Bowl 50?'"
   ]
  },
  {
   "cell_type": "code",
   "execution_count": 51,
   "id": "79b6f469-953d-4ea5-bd4f-a11e4f71e374",
   "metadata": {},
   "outputs": [
    {
     "name": "stdout",
     "output_type": "stream",
     "text": [
      "[2023-11-04 22:57:42,571: INFO: common: yaml file: config\\config.yaml loaded successfully]\n",
      "[2023-11-04 22:57:42,575: INFO: common: yaml file: params.yaml loaded successfully]\n",
      "[2023-11-04 22:57:42,577: INFO: common: created directory at: artifacts]\n",
      "[2023-11-04 22:57:42,580: INFO: common: created directory at: artifacts/model_evaluation]\n"
     ]
    },
    {
     "ename": "NameError",
     "evalue": "name 'AutoTokenizer' is not defined",
     "output_type": "error",
     "traceback": [
      "\u001b[1;31m---------------------------------------------------------------------------\u001b[0m",
      "\u001b[1;31mNameError\u001b[0m                                 Traceback (most recent call last)",
      "Cell \u001b[1;32mIn[51], line 2\u001b[0m\n\u001b[0;32m      1\u001b[0m Prediction \u001b[38;5;241m=\u001b[39m PredictionPipeline()\n\u001b[1;32m----> 2\u001b[0m pipe \u001b[38;5;241m=\u001b[39m \u001b[43mPrediction\u001b[49m\u001b[38;5;241;43m.\u001b[39;49m\u001b[43mpredict\u001b[49m\u001b[43m(\u001b[49m\u001b[43mquestion\u001b[49m\u001b[38;5;241;43m=\u001b[39;49m\u001b[43mquestion\u001b[49m\u001b[43m,\u001b[49m\u001b[43m \u001b[49m\u001b[43mcontext\u001b[49m\u001b[38;5;241;43m=\u001b[39;49m\u001b[43mcontext\u001b[49m\u001b[43m)\u001b[49m\n",
      "Cell \u001b[1;32mIn[50], line 8\u001b[0m, in \u001b[0;36mPredictionPipeline.predict\u001b[1;34m(self, question, context)\u001b[0m\n\u001b[0;32m      6\u001b[0m device \u001b[38;5;241m=\u001b[39m \u001b[38;5;124m\"\u001b[39m\u001b[38;5;124mcuda\u001b[39m\u001b[38;5;124m\"\u001b[39m \u001b[38;5;28;01mif\u001b[39;00m torch\u001b[38;5;241m.\u001b[39mcuda\u001b[38;5;241m.\u001b[39mis_available() \u001b[38;5;28;01melse\u001b[39;00m \u001b[38;5;124m\"\u001b[39m\u001b[38;5;124mcpu\u001b[39m\u001b[38;5;124m\"\u001b[39m\n\u001b[0;32m      7\u001b[0m tokenizer \u001b[38;5;241m=\u001b[39m BertTokenizer\u001b[38;5;241m.\u001b[39mfrom_pretrained(\u001b[38;5;28mself\u001b[39m\u001b[38;5;241m.\u001b[39mconfig\u001b[38;5;241m.\u001b[39mtokenizer_path)\n\u001b[1;32m----> 8\u001b[0m model \u001b[38;5;241m=\u001b[39m \u001b[43mAutoTokenizer\u001b[49m\u001b[38;5;241m.\u001b[39mfrom_pretrained(\u001b[38;5;28mself\u001b[39m\u001b[38;5;241m.\u001b[39mconfig\u001b[38;5;241m.\u001b[39mmodel_path)\u001b[38;5;241m.\u001b[39mto(device)\n\u001b[0;32m      9\u001b[0m \u001b[38;5;250m\u001b[39m\u001b[38;5;124;03m\"\"\"\u001b[39;00m\n\u001b[0;32m     10\u001b[0m \u001b[38;5;124;03minputs = tokenizer(question, context, return_tensors=\"pt\")\u001b[39;00m\n\u001b[0;32m     11\u001b[0m \u001b[38;5;124;03mprint(\"Context:\")\u001b[39;00m\n\u001b[1;32m   (...)\u001b[0m\n\u001b[0;32m     21\u001b[0m \u001b[38;5;124;03mprint(answers)\u001b[39;00m\n\u001b[0;32m     22\u001b[0m \u001b[38;5;124;03m\"\"\"\u001b[39;00m\n\u001b[0;32m     23\u001b[0m \u001b[38;5;28;01mreturn\u001b[39;00m model\n",
      "\u001b[1;31mNameError\u001b[0m: name 'AutoTokenizer' is not defined"
     ]
    }
   ],
   "source": [
    "Prediction = PredictionPipeline()\n",
    "pipe = Prediction.predict(question=question, context=context)"
   ]
  },
  {
   "cell_type": "code",
   "execution_count": 25,
   "id": "9721d833-1b44-4260-ace5-7cd6359a8c6c",
   "metadata": {},
   "outputs": [
    {
     "data": {
      "text/plain": [
       "<transformers.pipelines.question_answering.QuestionAnsweringPipeline at 0x28584282100>"
      ]
     },
     "execution_count": 25,
     "metadata": {},
     "output_type": "execute_result"
    }
   ],
   "source": [
    "pipe"
   ]
  },
  {
   "cell_type": "code",
   "execution_count": 67,
   "id": "62e3175b-11f5-46cc-b86c-68dae1d0db14",
   "metadata": {},
   "outputs": [],
   "source": [
    "Context = \"Alex goes to school in the morning. His classmates include Long, Hai, and Hoang. Then he finishes and goes to the pool with Nghia. In the Evening, Alex goes home and has dinner with his brother - Quan \"\n",
    "Question = \"Who study with Alex?\""
   ]
  },
  {
   "cell_type": "code",
   "execution_count": 65,
   "id": "99c7042e-482b-4ab6-9931-8e9287b7ccea",
   "metadata": {},
   "outputs": [
    {
     "name": "stdout",
     "output_type": "stream",
     "text": [
      "[2023-11-04 23:11:35,453: INFO: common: yaml file: config\\config.yaml loaded successfully]\n",
      "[2023-11-04 23:11:35,489: INFO: common: yaml file: params.yaml loaded successfully]\n",
      "[2023-11-04 23:11:35,492: INFO: common: created directory at: artifacts]\n",
      "[2023-11-04 23:11:35,494: INFO: common: created directory at: artifacts/model_evaluation]\n",
      "Context:\n",
      "Architecturally, the school has a Catholic character. Atop the Main Building's gold dome is a golden statue of the Virgin Mary. Immediately in front of the Main Building and facing it, is a copper statue of Christ with arms upraised with the legend \"Venite Ad Me Omnes\". Next to the Main Building is the Basilica of the Sacred Heart. Immediately behind the basilica is the Grotto, a Marian place of prayer and reflection. It is a replica of the grotto at Lourdes, France where the Virgin Mary reputedly appeared to Saint Bernadette Soubirous in 1858. At the end of the main drive (and in a direct line that connects through 3 statues and the Gold Dome), is a simple, modern stone statue of Mary.\n",
      "Question:\n",
      "To whom did the Virgin Mary allegedly appear in 1858 in Lourdes France?\n",
      "\n",
      "Model Answer:\n",
      "Saint Bernadette Soubirous\n"
     ]
    }
   ],
   "source": [
    "try:\n",
    "    Prediction = PredictionPipeline()\n",
    "    Prediction.predict(question=question, context=context)\n",
    "except Exception as e:\n",
    "    raise e"
   ]
  },
  {
   "cell_type": "code",
   "execution_count": 44,
   "id": "7a82b9b3-a771-41c9-8aa1-b04f5de9b9bc",
   "metadata": {},
   "outputs": [],
   "source": [
    "raw_datasets = load_from_disk(\"artifacts/data_ingestion/train\")\n",
    "context = raw_datasets[0][\"context\"]\n",
    "question = raw_datasets[0][\"question\"]"
   ]
  },
  {
   "cell_type": "code",
   "execution_count": 43,
   "id": "5dc7a79c-f914-4d04-b337-b65328a5c2c8",
   "metadata": {},
   "outputs": [],
   "source": [
    "from datasets import load_from_disk"
   ]
  },
  {
   "cell_type": "code",
   "execution_count": null,
   "id": "05840ec0-6ee1-4cae-b62c-b9580ee21dc8",
   "metadata": {},
   "outputs": [],
   "source": [
    "Architecturally, the school has a Catholic character. Atop the Main Building's gold dome is a golden statue of the Virgin Mary. Immediately in front of the Main Building and facing it, is a copper statue of Christ with arms upraised with the legend \"Venite Ad Me Omnes\". Next to the Main Building is the Basilica of the Sacred Heart. Immediately behind the basilica is the Grotto, a Marian place of prayer and reflection. It is a replica of the grotto at Lourdes, France where the Virgin Mary reputedly appeared to Saint Bernadette Soubirous in 1858. At the end of the main drive (and in a direct line that connects through 3 statues and the Gold Dome), is a simple, modern stone statue of Mary."
   ]
  },
  {
   "cell_type": "code",
   "execution_count": 68,
   "id": "46f4dadf-da80-438a-849a-0c57d167fe60",
   "metadata": {},
   "outputs": [
    {
     "name": "stdout",
     "output_type": "stream",
     "text": [
      "[2023-11-04 23:17:24,772: INFO: common: yaml file: config\\config.yaml loaded successfully]\n",
      "[2023-11-04 23:17:24,781: INFO: common: yaml file: params.yaml loaded successfully]\n",
      "[2023-11-04 23:17:24,786: INFO: common: created directory at: artifacts]\n",
      "[2023-11-04 23:17:24,788: INFO: common: created directory at: artifacts/model_evaluation]\n",
      "Context:\n",
      "Alex goes to school in the morning. His classmates include Long, Hai, and Hoang. Then he finishes and goes to the pool with Nghia. In the Evening, Alex goes home and has dinner with his brother - Quan \n",
      "Question:\n",
      "Who study with Alex?\n",
      "\n",
      "Model Answer:\n",
      "Long, Hai, and Hoang\n"
     ]
    }
   ],
   "source": [
    "try:\n",
    "    Prediction = PredictionPipeline()\n",
    "    Prediction.predict(question=Question, context=Context)\n",
    "except Exception as e:\n",
    "    raise e"
   ]
  },
  {
   "cell_type": "code",
   "execution_count": null,
   "id": "eb237e19-7d82-449c-8109-8873ea3d667c",
   "metadata": {},
   "outputs": [],
   "source": []
  }
 ],
 "metadata": {
  "kernelspec": {
   "display_name": "Python 3 (ipykernel)",
   "language": "python",
   "name": "python3"
  },
  "language_info": {
   "codemirror_mode": {
    "name": "ipython",
    "version": 3
   },
   "file_extension": ".py",
   "mimetype": "text/x-python",
   "name": "python",
   "nbconvert_exporter": "python",
   "pygments_lexer": "ipython3",
   "version": "3.9.13"
  }
 },
 "nbformat": 4,
 "nbformat_minor": 5
}
