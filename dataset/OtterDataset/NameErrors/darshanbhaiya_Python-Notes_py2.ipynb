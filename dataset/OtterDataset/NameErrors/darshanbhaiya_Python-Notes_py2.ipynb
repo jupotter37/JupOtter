{
 "cells": [
  {
   "cell_type": "code",
   "execution_count": 52,
   "metadata": {},
   "outputs": [],
   "source": [
    "# mutable => list\n",
    "# immutable (value and length can't be changed) => string,tuple"
   ]
  },
  {
   "cell_type": "code",
   "execution_count": 53,
   "metadata": {},
   "outputs": [
    {
     "name": "stdout",
     "output_type": "stream",
     "text": [
      "[34, 'darshan', True]\n",
      "<class 'list'>\n",
      "34\n",
      "darshan\n",
      "True\n",
      "3\n",
      "34\n",
      "True\n",
      "darshan\n"
     ]
    }
   ],
   "source": [
    "# Lists []\n",
    "# ordered collection of data items\n",
    "# lists are changeable\n",
    "# can store value of different data types\n",
    "\n",
    "list=[34,'darshan',True]\n",
    "print(list)\n",
    "print(type(list))\n",
    "print(list[0])\n",
    "print(list[1])\n",
    "print(list[2])\n",
    "print(len(list))\n",
    "\n",
    "# negative indexing\n",
    "# [34,'darshan',True]\n",
    "#   -3    -2      -1   = len(list)-x\n",
    "\n",
    "print(list[-0])\n",
    "print(list[-1])\n",
    "print(list[-2])\n",
    "\n"
   ]
  },
  {
   "cell_type": "code",
   "execution_count": 54,
   "metadata": {},
   "outputs": [
    {
     "name": "stdout",
     "output_type": "stream",
     "text": [
      "hai bhai list mai\n",
      "string mai check karr raha tha\n"
     ]
    }
   ],
   "source": [
    "# to check if item is present in list (in keywoed)\n",
    "if 34 in list: # it will check for 34 in the form of int only\n",
    "    print(\"hai bhai list mai\")\n",
    "else:\n",
    "    print(\"nahi hai bhai list mai\")\n",
    "\n",
    "\n",
    "if \"dar\" in \"darshan\":\n",
    "    print(\"string mai check karr raha tha\")\n"
   ]
  },
  {
   "cell_type": "code",
   "execution_count": 55,
   "metadata": {},
   "outputs": [
    {
     "name": "stdout",
     "output_type": "stream",
     "text": [
      "[1, 2, 3, 4, 5, 6, 7, 8, 8]\n",
      "[2, 3, 4]\n",
      "[3, 4, 5, 6, 7, 8, 8]\n",
      "[1, 2, 3]\n",
      "...\n",
      "[3, 4, 5, 6, 7]\n",
      "[2, 4, 6, 8]\n",
      "[1, 3, 5, 7, 8]\n"
     ]
    }
   ],
   "source": [
    "# listName[start : end : jumpIndex] # end index will not be included\n",
    "list=[1,2,3,4,5,6,7,8,8]\n",
    "#     0 1 2 3 4 5 6 7 8 \n",
    "print(list[:]) #[0:len(list):1]\n",
    "print(list[1:4])\n",
    "print(list[2:])\n",
    "print(list[:3])\n",
    "print(\"...\")\n",
    "print(list[-7:-2])#[9-7:9-2:1]\n",
    "print(list[1:8:2])\n",
    "print(list[::2])"
   ]
  },
  {
   "cell_type": "code",
   "execution_count": 56,
   "metadata": {},
   "outputs": [
    {
     "name": "stdout",
     "output_type": "stream",
     "text": [
      "[0, 1, 4, 9, 16, 25, 36, 49, 64, 81]\n",
      "[0, 4, 16, 36, 64]\n",
      "['dongo', 'dungo', 'tom']\n",
      "['darshan', 'dongo', 'dungo', 'munna']\n"
     ]
    }
   ],
   "source": [
    "# List Comprehension\n",
    "# used for creating new lists from other iterables like lists,tuples,dictionaries,sets and arrays,strings\n",
    "\n",
    "# list=[expression(item) for item in iterable if condition]    \n",
    "\n",
    "# expression=>item which is being iterated\n",
    "# iterable=>can be list,tuple,dictonaries\n",
    "# condition=>checks if item should be added into new list or not\n",
    "\n",
    "list=[i*i for i in range(10)]\n",
    "print(list)\n",
    "\n",
    "list=[i*i for i in range(10) if i%2==0]\n",
    "print(list)\n",
    "\n",
    "# item with letter \"o\"\n",
    "names=[\"darshan\",\"dongo\",\"dungo\",\"munna\",\"dar\",\"tom\"]\n",
    "names_o=[name for name in names if \"o\" in name]\n",
    "print(names_o)\n",
    "\n",
    "# item which has more than 3 letters\n",
    "names_3=[name for name in names if len(name)>3]\n",
    "print(names_3)\n",
    "\n"
   ]
  },
  {
   "cell_type": "code",
   "execution_count": 57,
   "metadata": {},
   "outputs": [
    {
     "name": "stdout",
     "output_type": "stream",
     "text": [
      "[1, 6, 5, 4, 3, 2, 1, 8, 9, 7]\n",
      "[1, 6, 5, 4, 3, 2, 1, 8, 9, 7, 10]\n",
      "[1, 1, 2, 3, 4, 5, 6, 7, 8, 9, 10]\n",
      "[10, 9, 8, 7, 6, 5, 4, 3, 2, 1, 1]\n",
      "9\n",
      "2\n",
      "['blue', 'green', 'indigo', 'voilet']\n"
     ]
    }
   ],
   "source": [
    "# list functions\n",
    "l=[7,9,8,1,2,3,4,5,6,1]\n",
    "\n",
    "l.reverse() #reverse the list\n",
    "print(l)\n",
    "\n",
    "l.append(10) # add at last\n",
    "print(l)\n",
    "\n",
    "l.sort() #This method sorts the list in ascending order. The original list is updated\n",
    "print(l)\n",
    "\n",
    "l.sort(reverse=True)\n",
    "print(l)\n",
    "\n",
    "print(l.index(1)) # returns index of first occurrence of 1\n",
    "\n",
    "print(l.count(1)) # count no. of occurrence of 1\n",
    "\n",
    "colors = [\"voilet\", \"indigo\", \"blue\", \"green\"]\n",
    "colors.sort()\n",
    "print(colors)\n",
    "\n"
   ]
  },
  {
   "cell_type": "code",
   "execution_count": 58,
   "metadata": {},
   "outputs": [
    {
     "name": "stdout",
     "output_type": "stream",
     "text": [
      "[10, 9, 8, 7, 6, 5, 4, 3, 2, 1, 1]\n",
      "[100, 9, 8, 7, 6, 5, 4, 3, 2, 1, 1]\n",
      "[100, 9, 8, 7, 6, 5, 4, 3, 2, 1, 1]\n",
      "\n",
      "[100, 9, 8, 7, 6, 5, 4, 3, 2, 1, 1]\n",
      "[100, 9, 8, 7, 6, 5, 4, 3, 2, 1, 1]\n",
      "[200, 9, 8, 7, 6, 5, 4, 3, 2, 1, 1]\n"
     ]
    }
   ],
   "source": [
    "m=l # both are having same memory just different reference\n",
    "print(m)\n",
    "m[0]=100\n",
    "print(l)\n",
    "print(m) # changes can be seen in both l and m\n",
    "\n",
    "print()\n",
    "\n",
    "# Returns copy of the list. This can be done to perform operations on the list without modifying the original list.\n",
    "m=l.copy() # both are having different memory \n",
    "print(m)\n",
    "m[0]=200\n",
    "print(l)\n",
    "print(m) # changes can be seen only in m\n"
   ]
  },
  {
   "cell_type": "code",
   "execution_count": 59,
   "metadata": {},
   "outputs": [
    {
     "name": "stdout",
     "output_type": "stream",
     "text": [
      "[100, 9, 400, 8, 7, 6, 5, 4, 3, 2, 1, 1]\n",
      "[1, 2, 3, 3, 4, 5]\n",
      "[3, 4, 5]\n",
      "[1, 2, 3, 3, 4, 5]\n"
     ]
    }
   ],
   "source": [
    "l.insert(2,400)  # insert 400 at index 2\n",
    "print(l)    #(index,item)\n",
    "\n",
    "# This method adds an entire list or any other collection datatype (set, tuple, dictionary) to the existing list.\n",
    "a=[1,2,3]\n",
    "b=[3,4,5]\n",
    "a.extend(b) # add b to a\n",
    "#a.append(b)\n",
    "print(a)\n",
    "print(b)\n",
    "\n",
    "l=[1,2,3]\n",
    "m=[3,4,5]\n",
    "k=l+m # concatenation\n",
    "print(k)"
   ]
  },
  {
   "cell_type": "code",
   "execution_count": 60,
   "metadata": {},
   "outputs": [
    {
     "name": "stdout",
     "output_type": "stream",
     "text": [
      "<class 'tuple'> (1, 3, 4)\n",
      "<class 'int'> 1\n",
      "<class 'tuple'> (1,)\n",
      "1\n",
      "2\n",
      "5\n",
      "5\n",
      "yess\n"
     ]
    }
   ],
   "source": [
    "# Tuples()\n",
    "# ordered\n",
    "# unchangeable meaning we can not alter them after creation.\n",
    "# allow multiple data type\n",
    "\n",
    "tup=(1,3,4)\n",
    "print(type(tup),tup)\n",
    "\n",
    "tup=(1) # it is integer       \n",
    "print(type(tup),tup)\n",
    "\n",
    "tup=(1,) # it is tuple with one element         \n",
    "print(type(tup),tup)\n",
    "\n",
    "tup=(1,2,3,4,5)\n",
    "print(tup[0])\n",
    "print(tup[1])\n",
    "print(tup[4])\n",
    "print(tup[-1]) #[len(tup)-1]=[5-1]\n",
    "\n",
    "if 4 in tup:\n",
    "    print(\"yess\")\n",
    "\n",
    "# slicing same as list => tuple is not changed , new tuple is returned    "
   ]
  },
  {
   "cell_type": "code",
   "execution_count": 65,
   "metadata": {},
   "outputs": [
    {
     "ename": "TypeError",
     "evalue": "'list' object is not callable",
     "output_type": "error",
     "traceback": [
      "\u001b[1;31m---------------------------------------------------------------------------\u001b[0m",
      "\u001b[1;31mTypeError\u001b[0m                                 Traceback (most recent call last)",
      "\u001b[1;32md:\\Languages\\Python\\py2.ipynb Cell 10\u001b[0m in \u001b[0;36m<cell line: 4>\u001b[1;34m()\u001b[0m\n\u001b[0;32m      <a href='vscode-notebook-cell:/d%3A/Languages/Python/py2.ipynb#X12sZmlsZQ%3D%3D?line=0'>1</a>\u001b[0m \u001b[39m#  to add, remove or change tuple items, then first you must convert the tuple to a list.\u001b[39;00m\n\u001b[0;32m      <a href='vscode-notebook-cell:/d%3A/Languages/Python/py2.ipynb#X12sZmlsZQ%3D%3D?line=2'>3</a>\u001b[0m countries \u001b[39m=\u001b[39m (\u001b[39m\"\u001b[39m\u001b[39mSpain\u001b[39m\u001b[39m\"\u001b[39m, \u001b[39m\"\u001b[39m\u001b[39mItaly\u001b[39m\u001b[39m\"\u001b[39m, \u001b[39m\"\u001b[39m\u001b[39mIndia\u001b[39m\u001b[39m\"\u001b[39m, \u001b[39m\"\u001b[39m\u001b[39mEngland\u001b[39m\u001b[39m\"\u001b[39m, \u001b[39m\"\u001b[39m\u001b[39mGermany\u001b[39m\u001b[39m\"\u001b[39m)\n\u001b[1;32m----> <a href='vscode-notebook-cell:/d%3A/Languages/Python/py2.ipynb#X12sZmlsZQ%3D%3D?line=3'>4</a>\u001b[0m temp \u001b[39m=\u001b[39m\u001b[39mlist\u001b[39;49m(countries)\n\u001b[0;32m      <a href='vscode-notebook-cell:/d%3A/Languages/Python/py2.ipynb#X12sZmlsZQ%3D%3D?line=4'>5</a>\u001b[0m temp\u001b[39m.\u001b[39mappend(\u001b[39m\"\u001b[39m\u001b[39mRussia\u001b[39m\u001b[39m\"\u001b[39m)       \u001b[39m#add item \u001b[39;00m\n\u001b[0;32m      <a href='vscode-notebook-cell:/d%3A/Languages/Python/py2.ipynb#X12sZmlsZQ%3D%3D?line=5'>6</a>\u001b[0m temp\u001b[39m.\u001b[39mpop(\u001b[39m3\u001b[39m)                 \u001b[39m#remove item\u001b[39;00m\n",
      "\u001b[1;31mTypeError\u001b[0m: 'list' object is not callable"
     ]
    }
   ],
   "source": [
    "#  to add, remove or change tuple items, then first you must convert the tuple to a list.\n",
    "\n",
    "countries = (\"Spain\", \"Italy\", \"India\", \"England\", \"Germany\")\n",
    "temp =list(countries)\n",
    "temp.append(\"Russia\")       #add item \n",
    "temp.pop(3)                 #remove item\n",
    "temp[2] = \"Finland\"         #change item\n",
    "countries = tuple(temp)\n",
    "print(countries)\n",
    "\n",
    "# directly concatenate two tuples without converting them to list.\n",
    "countries = (\"India\",\"Pakistan\", \"Afghanistan\", \"Bangladesh\", \"ShriLanka\")\n",
    "countries2 = (\"Vietnam\", \"India\", \"China\")\n",
    "southEastAsia = countries + countries2\n",
    "print(southEastAsia)"
   ]
  },
  {
   "cell_type": "code",
   "execution_count": 66,
   "metadata": {},
   "outputs": [
    {
     "name": "stdout",
     "output_type": "stream",
     "text": [
      "3\n",
      "3\n",
      "5\n",
      "9\n"
     ]
    }
   ],
   "source": [
    "# Tuple methods\n",
    "Tuple1 = (0, 1, 2, 3, 2, 3, 1, 3, 2)\n",
    "print(Tuple1.count(3)) # to count occurrences of item in tuple\n",
    "\n",
    "# Index() method returns the first occurrence of the given element from the tuple.\n",
    "# tuple.index(element, start, end)\n",
    "# This method raises a ValueError if the element is not found in the tuple.\n",
    "    #    0  1  2  3  4  5  6  7  8 \n",
    "Tuple = (0, 1, 2, 3, 2, 3, 1, 3, 2)\n",
    "print(Tuple.index(3))\n",
    "# print(Tuple.index(3,4,5)) # 5 not included Value error\n",
    "print(Tuple.index(3,4,6))\n",
    "\n",
    "# to find length\n",
    "print(len(Tuple))"
   ]
  },
  {
   "cell_type": "code",
   "execution_count": 67,
   "metadata": {},
   "outputs": [
    {
     "name": "stdout",
     "output_type": "stream",
     "text": [
      "Hey my name is India and I am from Harry\n",
      "Hey my name is {} and I am from {}\n",
      "Hey my name is Harry and I am from India\n",
      "Hey my name is {1} and I am from {0}\n",
      "__________________\n",
      "For only 49.11 dollars!\n",
      "__________________\n",
      "Hey my name is Harry and I am from India\n",
      "For only 49.10 dollars!\n",
      "____________________\n",
      "For only 49.10 dollars!\n",
      "For only 49.10 dollars!\n",
      "60\n",
      "<class 'str'>\n",
      "We use f-strings like this: Hey my name is {name} and I am from {country}\n"
     ]
    }
   ],
   "source": [
    "# f-strings : String formatting\n",
    "\n",
    "letter = \"Hey my name is {} and I am from {}\"\n",
    "country = \"India\"\n",
    "name = \"Harry\"\n",
    "\n",
    "print(letter.format(country, name))\n",
    "print(letter)\n",
    "\n",
    "\n",
    "letter = \"Hey my name is {1} and I am from {0}\"\n",
    "country = \"India\"\n",
    "name = \"Harry\"\n",
    "\n",
    "print(letter.format(country, name))\n",
    "print(letter)\n",
    "\n",
    "print(\"__________________\")\n",
    "\n",
    "txt = \"For only {price:.2f} dollars!\"\n",
    "print(txt.format(price = 49.112233))\n",
    "\n",
    "print(\"__________________\")\n",
    "\n",
    "print(f\"Hey my name is {name} and I am from {country}\")\n",
    "\n",
    "price = 49.09999\n",
    "txt = f\"For only {price:.2f} dollars!\" #for two decimals\n",
    "print(txt)\n",
    "\n",
    "\n",
    "print(\"____________________\")\n",
    "txt = f\"For only {price:.2f} dollars!\" #for two decimals\n",
    "print(txt.format(price=49.009))\n",
    "print(txt.format(49.009))\n",
    "\n",
    "print(f\"{2 * 30}\")\n",
    "print(type(f\"{2 * 30}\"))\n",
    "\n",
    "print(f\"We use f-strings like this: Hey my name is {{name}} and I am from {{country}}\")\n",
    "#to write like that only we use double brackets\n",
    "\n"
   ]
  },
  {
   "cell_type": "code",
   "execution_count": 1,
   "metadata": {},
   "outputs": [
    {
     "name": "stdout",
     "output_type": "stream",
     "text": [
      "25\n",
      "Takes in a number n, returns the square of n\n",
      "hello\n",
      "25\n",
      "hello\n",
      "25\n",
      "None\n"
     ]
    }
   ],
   "source": [
    "# docstrings => string literals that appear right after the definition of a function, method, class, or module.\n",
    "\n",
    "def square(n):\n",
    "    '''Takes in a number n, returns the square of n'''\n",
    "    print(n**2)\n",
    "square(5)\n",
    "print(square.__doc__)\n",
    "\n",
    "# not a doc string => should be written just after\n",
    "def square(n):\n",
    "    print(\"hello\")\n",
    "    '''Takes in a number n, returns the square of n'''\n",
    "    print(n**2)\n",
    "square(5)\n",
    "print(square.__doc__)\n",
    "\n",
    "\n",
    "# Python Comments vs Docstrings\n",
    "# Python Comments\n",
    "# Comments are descriptions that help programmers better understand the intent and functionality of the program. They are completely ignored by the Python interpreter.\n",
    "\n",
    "# Python docstrings\n",
    "# As mentioned above, Python docstrings are strings used right after the definition of a function, method, class, or module (like in Example 1). They are used to document our code.\n",
    "\n",
    "# We can access these docstrings using the doc attribute.\n",
    "\n",
    "# Python doc attribute\n",
    "# Whenever string literals are present just after the definition of a function, module, class or method, they are associated with the object as their doc attribute. We can later use this attribute to retrieve this docstring.\n",
    "\n",
    "\n",
    "# by changing docstring program output can be changed but not through comment"
   ]
  },
  {
   "cell_type": "code",
   "execution_count": 69,
   "metadata": {},
   "outputs": [
    {
     "name": "stdout",
     "output_type": "stream",
     "text": [
      "The Zen of Python, by Tim Peters\n",
      "\n",
      "Beautiful is better than ugly.\n",
      "Explicit is better than implicit.\n",
      "Simple is better than complex.\n",
      "Complex is better than complicated.\n",
      "Flat is better than nested.\n",
      "Sparse is better than dense.\n",
      "Readability counts.\n",
      "Special cases aren't special enough to break the rules.\n",
      "Although practicality beats purity.\n",
      "Errors should never pass silently.\n",
      "Unless explicitly silenced.\n",
      "In the face of ambiguity, refuse the temptation to guess.\n",
      "There should be one-- and preferably only one --obvious way to do it.\n",
      "Although that way may not be obvious at first unless you're Dutch.\n",
      "Now is better than never.\n",
      "Although never is often better than *right* now.\n",
      "If the implementation is hard to explain, it's a bad idea.\n",
      "If the implementation is easy to explain, it may be a good idea.\n",
      "Namespaces are one honking great idea -- let's do more of those!\n"
     ]
    }
   ],
   "source": [
    "# PEP 8 is a document that provides guidelines and best practices on how to write Python code. It was written in 2001 by Guido van Rossum, Barry Warsaw, and Nick Coghlan. The primary focus of PEP 8 is to improve the readability and consistency of Python code.\n",
    "\n",
    "# PEP stands for Python Enhancement Proposal, and there are several of them. A PEP is a document that describes new features proposed for Python and documents aspects of Python, like design and style, for the community.\n",
    "\n",
    "# The Zen of Python\n",
    "# Long time Pythoneer Tim Peters succinctly channels the BDFL’s guiding principles for Python’s design into 20 aphorisms, only 19 of which have been written down.\n",
    "import this"
   ]
  },
  {
   "cell_type": "code",
   "execution_count": 70,
   "metadata": {},
   "outputs": [],
   "source": [
    "# Recursion in python\n",
    "# Recursion is the process of defining something in terms of itself."
   ]
  },
  {
   "cell_type": "code",
   "execution_count": 2,
   "metadata": {},
   "outputs": [
    {
     "name": "stdout",
     "output_type": "stream",
     "text": [
      "{True, 'darshan', 34, 4.3}\n",
      "<class 'set'>\n",
      "True darshan 34 4.3 \n",
      "<class 'dict'>\n",
      "<class 'set'>\n"
     ]
    }
   ],
   "source": [
    "# sets {}\n",
    "# unique values\n",
    "# unordered => mean no indexing\n",
    "# set itself is mutable but set elements are immutable\n",
    "# may contain multiple datatype\n",
    "\n",
    "s={\"darshan\",34,True,4.3,34}\n",
    "print(s)\n",
    "print(type(s))\n",
    "\n",
    "# to access values in set\n",
    "for value in s:\n",
    "    print(value,end=\" \")\n",
    "\n",
    "print()\n",
    "s={}\n",
    "print(type(s))\n",
    "s=set()    # to create empty set \n",
    "print(type(s))"
   ]
  },
  {
   "cell_type": "code",
   "execution_count": 72,
   "metadata": {},
   "outputs": [
    {
     "name": "stdout",
     "output_type": "stream",
     "text": [
      "{1, 2, 3, 5, 6, 7}\n",
      "{1, 2, 5, 6} {3, 6, 7}\n",
      "{1, 2, 3, 5, 6, 7} {3, 6, 7}\n",
      "{3, 6, 7}\n",
      "{1, 2, 3, 5, 6, 7} {3, 6, 7}\n",
      "{3, 6, 7} {3, 6, 7}\n",
      "____________________\n",
      "{'Seoul', 'Berlin', 'Kabul', 'Delhi'}\n",
      "{'Seoul', 'Berlin', 'Kabul', 'Delhi'} {'Madrid', 'Seoul', 'Kabul', 'Tokyo'}\n",
      "____________________\n",
      "{'Madrid', 'Berlin', 'Tokyo'}\n",
      "{'Madrid', 'Berlin', 'Tokyo'} {'Seoul', 'Delhi', 'Kabul'}\n"
     ]
    }
   ],
   "source": [
    "# Joining Sets \n",
    "\n",
    "# The _() method returns a new set whereas _update() method adds item into the existing set from another set.\n",
    "\n",
    "s1={1,2,5,6}\n",
    "s2={3,6,7}\n",
    "print(s1.union(s2)) # doesn't change original set\n",
    "print(s1,s2)\n",
    "\n",
    "s1.update(s2) # change original set s1 by performing union operation\n",
    "print(s1,s2)\n",
    "\n",
    "\n",
    "print(s1.intersection(s2)) # doesn't change original set\n",
    "print(s1,s2)\n",
    "\n",
    "s1.intersection_update(s2) # change original set s1 by performing intersection operation\n",
    "print(s1,s2)\n",
    "\n",
    "\n",
    "print(\"____________________\")\n",
    "\n",
    "# symmetric difference => values which are not common in both the sets\n",
    "\n",
    "cities1 = {\"Tokyo\", \"Madrid\", \"Berlin\", \"Delhi\"}\n",
    "cities2 = {\"Tokyo\", \"Seoul\", \"Kabul\", \"Madrid\"}\n",
    "cities3 = cities1.symmetric_difference(cities2) # doesn't change original set\n",
    "print(cities3)\n",
    "\n",
    "cities1.symmetric_difference_update(cities2) # change original set s1 by performing symmetric difference operation\n",
    "print(cities1,cities2)\n",
    "\n",
    "print(\"____________________\")\n",
    "\n",
    "# difference => s1-s2 =>items that are only present in the original set and not in both the sets\n",
    "\n",
    "cities1 = {\"Tokyo\", \"Madrid\", \"Berlin\", \"Delhi\"}\n",
    "cities2 = {\"Seoul\", \"Kabul\", \"Delhi\"}\n",
    "cities3 = cities1.difference(cities2) # doesn't change original set\n",
    "print(cities3)\n",
    "\n",
    "cities1.difference_update(cities2)\n",
    "print(cities1,cities2) # change original set s1 by performing difference operation"
   ]
  },
  {
   "cell_type": "code",
   "execution_count": 73,
   "metadata": {},
   "outputs": [
    {
     "name": "stdout",
     "output_type": "stream",
     "text": [
      "False\n",
      "False\n",
      "True\n",
      "True\n"
     ]
    }
   ],
   "source": [
    "# set methods\n",
    "\n",
    "# isdisjoint() => checks if items of given set are present in another set. This method returns False if items are present, else it returns True.\n",
    "# disjoint set have no element in common\n",
    "cities = {\"Tokyo\", \"Madrid\", \"Berlin\", \"Delhi\"}\n",
    "cities2 = {\"Tokyo\", \"Seoul\", \"Kabul\", \"Madrid\"}\n",
    "print(cities.isdisjoint(cities2))\n",
    "\n",
    "# issuperset() => checks if all the items of a particular set are present in the original set. It returns True if all the items are present, else it returns False.\n",
    "cities = {\"Tokyo\", \"Madrid\", \"Berlin\", \"Delhi\"}\n",
    "cities2 = {\"Seoul\", \"Kabul\"}\n",
    "print(cities.issuperset(cities2))\n",
    "cities3 = {\"Delhi\", \"Madrid\"}\n",
    "print(cities.issuperset(cities3)) # cities is super set of cities3\n",
    "\n",
    "# issubset() => checks if all the items of the original set are present in the particular set. It returns True if all the items are present, else it returns False.\n",
    "cities = {\"Tokyo\", \"Madrid\", \"Berlin\", \"Delhi\"}\n",
    "cities2 = {\"Delhi\", \"Madrid\"}\n",
    "print(cities2.issubset(cities)) # cities2 is sub set of cities"
   ]
  },
  {
   "cell_type": "code",
   "execution_count": 74,
   "metadata": {},
   "outputs": [
    {
     "name": "stdout",
     "output_type": "stream",
     "text": [
      "{'Tokyo', 'Berlin', 'Helsinki', 'Madrid', 'Delhi'}\n",
      "{'Berlin', 'Seoul', 'Helsinki', 'Tokyo', 'Warsaw', 'Madrid', 'Delhi'}\n",
      "{'Madrid', 'Delhi', 'Berlin'}\n",
      "{'Madrid', 'Delhi', 'Berlin'}\n",
      "{'Delhi', 'Berlin', 'Tokyo'}\n",
      "Madrid\n",
      "set()\n",
      "Carla is present.\n"
     ]
    }
   ],
   "source": [
    "# add() => add a single item to the set\n",
    "cities = {\"Tokyo\", \"Madrid\", \"Berlin\", \"Delhi\"}\n",
    "cities.add(\"Helsinki\")\n",
    "print(cities)\n",
    "\n",
    "# update() => If you want to add more than one item, simply create another set or any other iterable object(list, tuple, dictionary), and use the update() method to add it into the existing set.\n",
    "cities = {\"Tokyo\", \"Madrid\", \"Berlin\", \"Delhi\"}\n",
    "cities2 = {\"Helsinki\", \"Warsaw\", \"Seoul\"}\n",
    "cities.update(cities2)\n",
    "print(cities)\n",
    "\n",
    "#  remove() and discard() => to remove items form list.\n",
    "# if we try to delete an item which is not present in set, then remove() raises an error, whereas discard() does not raise any error.\n",
    "cities = {\"Tokyo\", \"Madrid\", \"Berlin\", \"Delhi\"}\n",
    "cities.remove(\"Tokyo\")\n",
    "print(cities)\n",
    "\n",
    "cities.discard(\"Tokyo\")\n",
    "print(cities)\n",
    "\n",
    "# pop() => removes the last item of the set but the catch is that we don’t know which item gets popped as sets are unordered. However, you can access the popped item if you assign the pop() method to a variable.\n",
    "cities = {\"Tokyo\", \"Madrid\", \"Berlin\", \"Delhi\"}\n",
    "item = cities.pop()\n",
    "print(cities)\n",
    "print(item)\n",
    "\n",
    "# del is not a method, rather it is a keyword which deletes the set entirely.\n",
    "\n",
    "cities = {\"Tokyo\", \"Madrid\", \"Berlin\", \"Delhi\"}\n",
    "del cities # or del (cities)\n",
    "#print(cities) NameError: name 'cities' is not defined We get an error because our entire set has been deleted and there is no variable called cities which contains a set.\n",
    "\n",
    "# clear() => clears all items in the set and prints an empty set.\n",
    "cities = {\"Tokyo\", \"Madrid\", \"Berlin\", \"Delhi\"}\n",
    "cities.clear()\n",
    "print(cities)\n",
    "\n",
    "# check if item exists\n",
    "info = {\"Carla\", 19, False, 5.9}\n",
    "if \"Carla\" in info:\n",
    "    print(\"Carla is present.\")\n",
    "else:\n",
    "    print(\"Carla is absent.\")"
   ]
  },
  {
   "cell_type": "code",
   "execution_count": 75,
   "metadata": {},
   "outputs": [
    {
     "name": "stdout",
     "output_type": "stream",
     "text": [
      "{'name': 'Karan', 'age': 19, 'eligible': True}\n",
      "<class 'dict'>\n",
      "Karan\n",
      "Karan\n",
      "dict_values(['Karan', 19, True])\n",
      "dict_keys(['name', 'age', 'eligible'])\n",
      "dict_items([('name', 'Karan'), ('age', 19), ('eligible', True)])\n",
      "the value correspondint to the key name is Karan\n",
      "the value correspondint to the key age is 19\n",
      "the value correspondint to the key eligible is True\n",
      "_________\n",
      "the value correspondint to the key name is Karan\n",
      "the value correspondint to the key age is 19\n",
      "the value correspondint to the key eligible is True\n"
     ]
    }
   ],
   "source": [
    "# Dictionaries {}\n",
    "# ordered collection\n",
    "# key-value pairs\n",
    "# can store multiple data types\n",
    "\n",
    "info = {'name':'Karan', 'age':19, 'eligible':True}\n",
    "print(info)\n",
    "\n",
    "dar={}\n",
    "print(type(dar))\n",
    "\n",
    "# I. Accessing single values:\n",
    "print(info['name']) # throw error if key is not found\n",
    "print(info.get('name')) # doesn't throw error if key is not found\n",
    "\n",
    "# II. Accessing multiple values:\n",
    "print(info.values()) # print all the values using values()\n",
    "\n",
    "# III. Accessing keys:\n",
    "print(info.keys()) # print all the values using keys()\n",
    "\n",
    "# IV. Accessing key-value pairs:\n",
    "print(info.items()) # print all the key-value pairs in the dictionary using items() \n",
    "\n",
    "for key in info.keys():\n",
    "    print(f\"the value correspondint to the key {key} is {info[key]}\")\n",
    "\n",
    "print(\"_________\")\n",
    "\n",
    "for key,value in info.items():\n",
    "    print(f\"the value correspondint to the key {key} is {value}\")\n"
   ]
  },
  {
   "cell_type": "code",
   "execution_count": 76,
   "metadata": {},
   "outputs": [
    {
     "name": "stdout",
     "output_type": "stream",
     "text": [
      "{'name': 'Karan', 'age': 19, 'eligible': True}\n",
      "{'name': 'Karan', 'age': 20, 'eligible': True, 'DOB': 2001}\n",
      "{}\n",
      "{'name': 'Karan', 'age': 19}\n",
      "{'name': 'Karan', 'age': 19, 'eligible': True}\n",
      "{'name': 'Karan', 'eligible': True, 'DOB': 2003}\n"
     ]
    }
   ],
   "source": [
    "# Dictionary Methods\n",
    "\n",
    "# update() => updates the value of the key provided to it if the item already exists in the dictionary, else it creates a new key-value pair. \n",
    "info = {'name':'Karan', 'age':19, 'eligible':True}\n",
    "print(info)\n",
    "info.update({'age':20})\n",
    "info.update({'DOB':2001})\n",
    "print(info)\n",
    "\n",
    "# clear() => removes all the items from the list.\n",
    "info = {'name':'Karan', 'age':19, 'eligible':True}\n",
    "info.clear()\n",
    "print(info)\n",
    "\n",
    "#  pop() => removes the key-value pair whose key is passed as a parameter.\n",
    "info = {'name':'Karan', 'age':19, 'eligible':True}\n",
    "info.pop('eligible')\n",
    "print(info)\n",
    "\n",
    "# popitem() => removes the last key-value pair from the dictionary\n",
    "info = {'name':'Karan', 'age':19, 'eligible':True, 'DOB':2003}\n",
    "info.popitem()\n",
    "print(info)\n",
    "\n",
    "# we can also use the del keyword to remove a dictionary item.\n",
    "info = {'name':'Karan', 'age':19, 'eligible':True, 'DOB':2003}\n",
    "del info['age']\n",
    "print(info)\n",
    " \n",
    "# If key is not provided, then the del keyword will delete the dictionary entirely.\n",
    "info = {'name':'Karan', 'age':19, 'eligible':True, 'DOB':2003}\n",
    "del info\n",
    "#print(info) #NameError: name 'info' is not defined"
   ]
  },
  {
   "cell_type": "code",
   "execution_count": 77,
   "metadata": {},
   "outputs": [
    {
     "name": "stdout",
     "output_type": "stream",
     "text": [
      "{1: 6, 2: 3, 4: 5, 3: 8, 7: 8}\n",
      "{1: 6, 3: 8, 7: 8}\n"
     ]
    }
   ],
   "source": [
    "ep1={1:2,2:3,4:5}\n",
    "ep2={1:6,3:8,7:8}\n",
    "ep1.update(ep2) # previous entries updated and new entries added in ep1 from ep2\n",
    "print(ep1)\n",
    "print(ep2)"
   ]
  },
  {
   "cell_type": "code",
   "execution_count": 78,
   "metadata": {},
   "outputs": [
    {
     "name": "stdout",
     "output_type": "stream",
     "text": [
      "0\n",
      "1\n",
      "2\n",
      "3\n",
      "sorry no i\n",
      "________\n",
      "0\n",
      "1\n",
      "2\n",
      "3\n",
      "4\n",
      "___________\n",
      "iteration no 1 in for loop\n",
      "iteration no 2 in for loop\n",
      "iteration no 3 in for loop\n",
      "iteration no 4 in for loop\n",
      "iteration no 5 in for loop\n",
      "else block in loop\n",
      "Out of loop\n"
     ]
    }
   ],
   "source": [
    "# for loop with else\n",
    "\n",
    "# The statements in the else block will be executed after all iterations are completed. The program exits the loop only after the else block is executed.\n",
    "\n",
    "for i in range(4):\n",
    "    print(i)\n",
    "else:\n",
    "    print(\"sorry no i\")    \n",
    "    \n",
    "\n",
    "print(\"________\")  \n",
    "\n",
    "for i in range(6):\n",
    "    print(i)\n",
    "    if i==4:\n",
    "        break\n",
    "else:\n",
    "    print(\"sorry no i\")    # loop is ended after else statement only , break completely exits the loop so else statement not executed\n",
    "    \n",
    "\n",
    "print(\"___________\")\n",
    "for x in range(5):\n",
    "    print (\"iteration no {} in for loop\".format(x+1))\n",
    "else:\n",
    "    print (\"else block in loop\")\n",
    "print (\"Out of loop\")    "
   ]
  },
  {
   "cell_type": "code",
   "execution_count": 79,
   "metadata": {},
   "outputs": [
    {
     "name": "stdout",
     "output_type": "stream",
     "text": [
      "0\n",
      "1\n",
      "2\n",
      "3\n",
      "4\n",
      "5\n",
      "6\n",
      "loop ends\n",
      "_________\n",
      "0\n",
      "1\n",
      "2\n",
      "3\n",
      "4\n"
     ]
    }
   ],
   "source": [
    "# while loop with else\n",
    "\n",
    "i=0\n",
    "while i<7:\n",
    "    print(i)\n",
    "    i=i+1\n",
    "else:\n",
    "    print(\"loop ends\")    \n",
    "\n",
    "    \n",
    "print(\"_________\")  \n",
    "\n",
    "\n",
    "i=0\n",
    "while i<7:\n",
    "    print(i)\n",
    "    if i==4:\n",
    "      break\n",
    "    i=i+1\n",
    "else:\n",
    "    print(\"loop ends\")    "
   ]
  },
  {
   "cell_type": "code",
   "execution_count": null,
   "metadata": {},
   "outputs": [],
   "source": []
  },
  {
   "cell_type": "code",
   "execution_count": null,
   "metadata": {},
   "outputs": [],
   "source": []
  }
 ],
 "metadata": {
  "kernelspec": {
   "display_name": "Python 3",
   "language": "python",
   "name": "python3"
  },
  "language_info": {
   "codemirror_mode": {
    "name": "ipython",
    "version": 3
   },
   "file_extension": ".py",
   "mimetype": "text/x-python",
   "name": "python",
   "nbconvert_exporter": "python",
   "pygments_lexer": "ipython3",
   "version": "3.10.5"
  },
  "orig_nbformat": 4
 },
 "nbformat": 4,
 "nbformat_minor": 2
}
