{
  "cells": [
    {
      "cell_type": "code",
      "execution_count": null,
      "metadata": {
        "colab": {
          "base_uri": "https://localhost:8080/"
        },
        "id": "8pVBKqlrn4JH",
        "outputId": "404b58fe-1600-41ac-b5a9-3cdeaa39810e"
      },
      "outputs": [
        {
          "ename": "",
          "evalue": "",
          "output_type": "error",
          "traceback": [
            "\u001b[1;31mRunning cells with 'Python 3.11.10' requires the ipykernel package.\n",
            "\u001b[1;31mRun the following command to install 'ipykernel' into the Python environment. \n",
            "\u001b[1;31mCommand: 'c:/msys64/mingw64/bin/python.exe -m pip install ipykernel -U --user --force-reinstall'"
          ]
        }
      ],
      "source": [
        "import random\n",
        "\n",
        "def generate_sql_injections(num_samples=1000):\n",
        "    injections = []\n",
        "    usernames = ['admin', 'user', 'guest', 'test', 'root', 'alice', 'bob', 'charlie', 'eve', 'mallory']\n",
        "\n",
        "    for _ in range(num_samples):\n",
        "        username = random.choice(usernames)\n",
        "\n",
        "        # List of SQL injection patterns\n",
        "        injection_patterns = [\n",
        "            f\"SELECT * FROM users WHERE username = '{username}' --\",\n",
        "            f\"SELECT * FROM users WHERE username = '{username}' OR '1'='1';\",\n",
        "            f\"SELECT * FROM users WHERE username = '{username}' AND password = '' OR '1'='1';\",\n",
        "            f\"SELECT * FROM users WHERE username = '{username}' UNION SELECT * FROM users;\",\n",
        "            f\"SELECT * FROM users WHERE username = '{username}' AND 'x'='x';\",\n",
        "            f\"SELECT * FROM users WHERE username = '{username}' OR EXISTS(SELECT * FROM users);\",\n",
        "            f\"SELECT * FROM users WHERE username = '{username}' OR 1=1 LIMIT 1; --\",\n",
        "            f\"SELECT * FROM users WHERE username = '{username}' AND 'a'='a' OR '1'='1';\",\n",
        "            f\"SELECT * FROM users WHERE username = '{username}' OR (SELECT COUNT(*) FROM users) > 0;\",\n",
        "            f\"SELECT * FROM users WHERE username = '{username}' AND (SELECT user FROM users WHERE '1'='1')='1';\",\n",
        "            f\"SELECT * FROM users WHERE username = '{username}' AND password = 'password' OR 'x'='x';\",\n",
        "            f\"SELECT * FROM users WHERE username = '{username}' AND (SELECT 1 FROM dual) IS NOT NULL;\",\n",
        "            f\"SELECT * FROM users WHERE username = '{username}' UNION SELECT username, password FROM users;\",\n",
        "            f\"SELECT * FROM users WHERE username = '{username}' AND '1'='2' UNION SELECT 'hacked', '123';\"\n",
        "        ]\n",
        "\n",
        "        injection = random.choice(injection_patterns)\n",
        "        injections.append(injection)\n",
        "\n",
        "    return injections\n",
        "\n",
        "# Generate the SQL injection samples\n",
        "sql_injection_data = generate_sql_injections(1000)\n",
        "\n",
        "# Save to a file\n",
        "with open('sql_injection_samples.txt', 'w') as f:\n",
        "    for line in sql_injection_data:\n",
        "        f.write(line + '\\n')\n",
        "\n",
        "print(\"Generated 1000 SQL injection samples and saved to sql_injection_samples.txt.\")\n"
      ]
    },
    {
      "cell_type": "code",
      "execution_count": null,
      "metadata": {
        "id": "5VXAE0YEor2p"
      },
      "outputs": [],
      "source": [
        "import pandas as pd\n",
        "\n",
        "# Load the SQL injection samples\n",
        "with open('sql_injection_samples.txt', 'r') as file:\n",
        "    injections = [(line.strip(), 1) for line in file.readlines()]  # Mark as harmful\n",
        "\n",
        "# Load some benign queries as well (for demonstration)\n",
        "benign_data = [\n",
        "    (\"SELECT * FROM users WHERE username = 'alice' AND password = 'securePass';\", 0),\n",
        "    (\"SELECT username, email FROM users WHERE id = 1;\", 0),\n",
        "    (\"SELECT COUNT(*) FROM users;\", 0),\n",
        "]\n",
        "\n",
        "# Combine the datasets\n",
        "data = injections + benign_data\n",
        "df = pd.DataFrame(data, columns=['query', 'label'])\n"
      ]
    },
    {
      "cell_type": "code",
      "execution_count": null,
      "metadata": {
        "id": "H8EKUJy7oym4"
      },
      "outputs": [],
      "source": [
        "from sklearn.feature_extraction.text import TfidfVectorizer\n",
        "\n",
        "# Create TF-IDF vectors\n",
        "vectorizer = TfidfVectorizer()\n",
        "X = vectorizer.fit_transform(df['query'])\n",
        "y = df['label']\n"
      ]
    },
    {
      "cell_type": "code",
      "execution_count": null,
      "metadata": {
        "colab": {
          "base_uri": "https://localhost:8080/"
        },
        "id": "aP9QQRBupBwo",
        "outputId": "b0296615-858a-4cda-9c00-59adcdb5e93a"
      },
      "outputs": [
        {
          "name": "stdout",
          "output_type": "stream",
          "text": [
            "[[201]]\n",
            "              precision    recall  f1-score   support\n",
            "\n",
            "           1       1.00      1.00      1.00       201\n",
            "\n",
            "    accuracy                           1.00       201\n",
            "   macro avg       1.00      1.00      1.00       201\n",
            "weighted avg       1.00      1.00      1.00       201\n",
            "\n"
          ]
        }
      ],
      "source": [
        "from sklearn.model_selection import train_test_split\n",
        "from sklearn.linear_model import LogisticRegression\n",
        "from sklearn.metrics import classification_report, confusion_matrix\n",
        "\n",
        "# Split the dataset into training and testing sets\n",
        "X_train, X_test, y_train, y_test = train_test_split(X, y, test_size=0.2, random_state=42)\n",
        "\n",
        "# Train the model\n",
        "model = LogisticRegression()\n",
        "model.fit(X_train, y_train)\n",
        "\n",
        "# Make predictions\n",
        "y_pred = model.predict(X_test)\n",
        "\n",
        "# Evaluate the model\n",
        "print(confusion_matrix(y_test, y_pred))\n",
        "print(classification_report(y_test, y_pred))\n"
      ]
    },
    {
      "cell_type": "code",
      "execution_count": null,
      "metadata": {
        "colab": {
          "base_uri": "https://localhost:8080/"
        },
        "id": "Dkww9jNcpi0n",
        "outputId": "668dca3e-711d-4626-ddf8-b3b142964e56"
      },
      "outputs": [
        {
          "name": "stdout",
          "output_type": "stream",
          "text": [
            "Model Accuracy: 100.00%\n"
          ]
        }
      ],
      "source": [
        "from sklearn.metrics import accuracy_score\n",
        "\n",
        "# Calculate accuracy\n",
        "accuracy = accuracy_score(y_test, y_pred)\n",
        "print(f\"Model Accuracy: {accuracy * 100:.2f}%\")\n"
      ]
    },
    {
      "cell_type": "code",
      "execution_count": null,
      "metadata": {
        "colab": {
          "base_uri": "https://localhost:8080/"
        },
        "id": "09YVCixwpR3w",
        "outputId": "374fd3a6-7149-4a66-975a-b5ceccadb861"
      },
      "outputs": [
        {
          "name": "stdout",
          "output_type": "stream",
          "text": [
            "Harmful\n",
            "Harmful\n"
          ]
        }
      ],
      "source": [
        "def predict_injection(query):\n",
        "    query_vector = vectorizer.transform([query])\n",
        "    prediction = model.predict(query_vector)\n",
        "    return \"Harmful\" if prediction[0] == 1 else \"Benign\"\n",
        "\n",
        "# Example usage\n",
        "print(predict_injection(\"SELECT * FROM users WHERE username = 'admin' --\"))\n",
        "print(predict_injection(\"SELECT * FROM users WHERE username = 'alice' AND password = 'securePass';\"))\n"
      ]
    },
    {
      "cell_type": "code",
      "execution_count": null,
      "metadata": {
        "colab": {
          "base_uri": "https://localhost:8080/"
        },
        "id": "l86g7fUppvlA",
        "outputId": "007a64ec-7e5d-48a9-b548-e2298b38399b"
      },
      "outputs": [
        {
          "name": "stdout",
          "output_type": "stream",
          "text": [
            "Query: SELECT * FROM users WHERE username = 'alice' AND password = 'securePass'; -> Prediction: Harmful\n",
            "Query: SELECT username, email FROM users WHERE id = 1; -> Prediction: Harmful\n",
            "Query: SELECT COUNT(*) FROM users; -> Prediction: Harmful\n",
            "Query: SELECT * FROM products WHERE price < 100; -> Prediction: Harmful\n",
            "Query: SELECT name FROM employees WHERE department = 'sales'; -> Prediction: Harmful\n"
          ]
        }
      ],
      "source": [
        "# List of harmless SQL queries to test\n",
        "harmless_queries = [\n",
        "    \"SELECT * FROM users WHERE username = 'alice' AND password = 'securePass';\",\n",
        "    \"SELECT username, email FROM users WHERE id = 1;\",\n",
        "    \"SELECT COUNT(*) FROM users;\",\n",
        "    \"SELECT * FROM products WHERE price < 100;\",\n",
        "    \"SELECT name FROM employees WHERE department = 'sales';\"\n",
        "]\n",
        "\n",
        "# Test the model with harmless queries\n",
        "for query in harmless_queries:\n",
        "    result = predict_injection(query)\n",
        "    print(f\"Query: {query} -> Prediction: {result}\")\n"
      ]
    },
    {
      "cell_type": "markdown",
      "metadata": {
        "id": "2FemXPYlq9Vx"
      },
      "source": [
        "The IMmroved version"
      ]
    },
    {
      "cell_type": "code",
      "execution_count": 10,
      "metadata": {
        "colab": {
          "base_uri": "https://localhost:8080/"
        },
        "id": "EW6Vs4neqRN1",
        "outputId": "18a8b282-4cfe-4bc1-b9ab-d680afa0d6ea"
      },
      "outputs": [
        {
          "name": "stdout",
          "output_type": "stream",
          "text": [
            "Generated 2000 SQL queries (1000 harmful and 1000 harmless) and saved to sql_queries_dataset.csv.\n"
          ]
        }
      ],
      "source": [
        "import random\n",
        "import pandas as pd\n",
        "\n",
        "# Function to generate harmful SQL injection queries\n",
        "def generate_harmful_queries(num_samples=1000):\n",
        "    usernames = ['admin', 'user', 'guest', 'test', 'root', 'alice', 'bob', 'charlie', 'eve', 'mallory']\n",
        "    injections = []\n",
        "\n",
        "    for _ in range(num_samples):\n",
        "        username = random.choice(usernames)\n",
        "        injection_patterns = [\n",
        "            f\"SELECT * FROM users WHERE username = '{username}' --\",\n",
        "            f\"SELECT * FROM users WHERE username = '{username}' OR '1'='1';\",\n",
        "            f\"SELECT * FROM users WHERE username = '{username}' AND password = '' OR '1'='1';\",\n",
        "            f\"SELECT * FROM users WHERE username = '{username}' UNION SELECT * FROM users;\",\n",
        "            f\"SELECT * FROM users WHERE username = '{username}' AND 'x'='x';\",\n",
        "            f\"SELECT * FROM users WHERE username = '{username}' OR EXISTS(SELECT * FROM users);\",\n",
        "            f\"SELECT * FROM users WHERE username = '{username}' OR 1=1 LIMIT 1; --\",\n",
        "            f\"SELECT * FROM users WHERE username = '{username}' AND '1'='2' UNION SELECT 'hacked', '123';\"\n",
        "        ]\n",
        "        injection = random.choice(injection_patterns)\n",
        "        injections.append((injection, 1))  # Mark as harmful (1)\n",
        "\n",
        "    return injections\n",
        "\n",
        "# Function to generate harmless SQL queries\n",
        "def generate_harmless_queries(num_samples=1000):\n",
        "    benign_queries = [\n",
        "        \"SELECT * FROM users WHERE username = 'alice' AND password = 'securePass';\",\n",
        "        \"SELECT username, email FROM users WHERE id = 1;\",\n",
        "        \"SELECT COUNT(*) FROM users;\",\n",
        "        \"SELECT * FROM products WHERE price < 100;\",\n",
        "        \"SELECT name FROM employees WHERE department = 'sales';\",\n",
        "        \"INSERT INTO users (username, password) VALUES ('testUser', 'testPass');\",\n",
        "        \"UPDATE users SET last_login = NOW() WHERE username = 'bob';\",\n",
        "        \"DELETE FROM users WHERE id = 10;\"\n",
        "    ]\n",
        "\n",
        "    harmless_samples = []\n",
        "    for _ in range(num_samples):\n",
        "        harmless_query = random.choice(benign_queries)\n",
        "        harmless_samples.append((harmless_query, 0))  # Mark as harmless (0)\n",
        "\n",
        "    return harmless_samples\n",
        "\n",
        "# Generate both harmful and harmless queries\n",
        "harmful_data = generate_harmful_queries(1000)\n",
        "harmless_data = generate_harmless_queries(1000)\n",
        "\n",
        "# Combine data and create DataFrame\n",
        "data = harmful_data + harmless_data\n",
        "df = pd.DataFrame(data, columns=['query', 'label'])\n",
        "\n",
        "# Shuffle the DataFrame to mix harmful and harmless queries\n",
        "df = df.sample(frac=1, random_state=42).reset_index(drop=True)\n",
        "\n",
        "# Save to a CSV file\n",
        "df.to_csv('sql_queries_dataset.csv', index=False)\n",
        "\n",
        "print(\"Generated 2000 SQL queries (1000 harmful and 1000 harmless) and saved to sql_queries_dataset.csv.\")\n"
      ]
    },
    {
      "cell_type": "code",
      "execution_count": null,
      "metadata": {
        "colab": {
          "base_uri": "https://localhost:8080/"
        },
        "id": "vQyMiA4Iqdlh",
        "outputId": "d3ca39a5-9bbd-4ecf-a889-1405b95621d3"
      },
      "outputs": [
        {
          "name": "stdout",
          "output_type": "stream",
          "text": [
            "[[203   0]\n",
            " [  0 197]]\n",
            "              precision    recall  f1-score   support\n",
            "\n",
            "           0       1.00      1.00      1.00       203\n",
            "           1       1.00      1.00      1.00       197\n",
            "\n",
            "    accuracy                           1.00       400\n",
            "   macro avg       1.00      1.00      1.00       400\n",
            "weighted avg       1.00      1.00      1.00       400\n",
            "\n",
            "Model Accuracy: 100.00%\n"
          ]
        }
      ],
      "source": [
        "import pandas as pd\n",
        "from sklearn.model_selection import train_test_split\n",
        "from sklearn.linear_model import LogisticRegression\n",
        "from sklearn.metrics import classification_report, confusion_matrix, accuracy_score\n",
        "from sklearn.feature_extraction.text import TfidfVectorizer\n",
        "\n",
        "# Step 1: Load the dataset\n",
        "df = pd.read_csv('sql_queries_dataset.csv')\n",
        "\n",
        "# Step 2: Feature extraction using TF-IDF\n",
        "vectorizer = TfidfVectorizer()\n",
        "X = vectorizer.fit_transform(df['query'])\n",
        "y = df['label']\n",
        "\n",
        "# Step 3: Split the dataset into training and testing sets\n",
        "X_train, X_test, y_train, y_test = train_test_split(X, y, test_size=0.2, random_state=42)\n",
        "\n",
        "# Train the model\n",
        "model = LogisticRegression()\n",
        "model.fit(X_train, y_train)\n",
        "\n",
        "# Make predictions\n",
        "y_pred = model.predict(X_test)\n",
        "\n",
        "# Evaluate the model\n",
        "print(confusion_matrix(y_test, y_pred))\n",
        "print(classification_report(y_test, y_pred))\n",
        "\n",
        "# Calculate and print accuracy\n",
        "accuracy = accuracy_score(y_test, y_pred)\n",
        "print(f\"Model Accuracy: {accuracy * 100:.2f}%\")\n"
      ]
    },
    {
      "cell_type": "code",
      "execution_count": null,
      "metadata": {
        "colab": {
          "base_uri": "https://localhost:8080/"
        },
        "id": "N_rc2wHWqvbB",
        "outputId": "abb9dd1d-3469-4c64-f3a1-94d16d2cc520"
      },
      "outputs": [
        {
          "name": "stdout",
          "output_type": "stream",
          "text": [
            "Testing Harmful Queries:\n",
            "Query: SELECT * FROM users WHERE username = 'admin' -- -> Prediction: Harmful\n",
            "Query: SELECT * FROM users WHERE username = 'user' OR '1'='1'; -> Prediction: Harmful\n",
            "Query: SELECT * FROM users WHERE username = 'guest' AND password = '' OR '1'='1'; -> Prediction: Harmful\n",
            "Query: SELECT * FROM users WHERE username = 'admin' UNION SELECT * FROM users; -> Prediction: Harmful\n",
            "Query: SELECT * FROM users WHERE username = 'bob' AND '1'='1'; -> Prediction: Harmful\n",
            "\n",
            "Testing Harmless Queries:\n",
            "Query: SELECT * FROM users WHERE username = 'alice' AND password = 'securePass'; -> Prediction: Benign\n",
            "Query: SELECT username, email FROM users WHERE id = 1; -> Prediction: Benign\n",
            "Query: SELECT COUNT(*) FROM users; -> Prediction: Benign\n",
            "Query: SELECT * FROM products WHERE price < 100; -> Prediction: Benign\n",
            "Query: INSERT INTO users (username, password) VALUES ('newUser', 'newPass'); -> Prediction: Benign\n"
          ]
        }
      ],
      "source": [
        "# List of harmful SQL queries to test\n",
        "harmful_queries = [\n",
        "    \"SELECT * FROM users WHERE username = 'admin' --\",\n",
        "    \"SELECT * FROM users WHERE username = 'user' OR '1'='1';\",\n",
        "    \"SELECT * FROM users WHERE username = 'guest' AND password = '' OR '1'='1';\",\n",
        "    \"SELECT * FROM users WHERE username = 'admin' UNION SELECT * FROM users;\",\n",
        "    \"SELECT * FROM users WHERE username = 'bob' AND '1'='1';\"\n",
        "]\n",
        "\n",
        "# List of harmless SQL queries to test\n",
        "harmless_queries = [\n",
        "    \"SELECT * FROM users WHERE username = 'alice' AND password = 'securePass';\",\n",
        "    \"SELECT username, email FROM users WHERE id = 1;\",\n",
        "    \"SELECT COUNT(*) FROM users;\",\n",
        "    \"SELECT * FROM products WHERE price < 100;\",\n",
        "    \"INSERT INTO users (username, password) VALUES ('newUser', 'newPass');\"\n",
        "]\n",
        "\n",
        "# Function to predict injection type\n",
        "def predict_injection(query):\n",
        "    query_vector = vectorizer.transform([query])\n",
        "    prediction = model.predict(query_vector)\n",
        "    return \"Harmful\" if prediction[0] == 1 else \"Benign\"\n",
        "\n",
        "# Test the model with harmful queries\n",
        "print(\"Testing Harmful Queries:\")\n",
        "for query in harmful_queries:\n",
        "    result = predict_injection(query)\n",
        "    print(f\"Query: {query} -> Prediction: {result}\")\n",
        "\n",
        "# Test the model with harmless queries\n",
        "print(\"\\nTesting Harmless Queries:\")\n",
        "for query in harmless_queries:\n",
        "    result = predict_injection(query)\n",
        "    print(f\"Query: {query} -> Prediction: {result}\")\n"
      ]
    },
    {
      "cell_type": "markdown",
      "metadata": {
        "id": "A6l9KUvutPiL"
      },
      "source": [
        "Adding llms to report harmful behavoirs"
      ]
    },
    {
      "cell_type": "code",
      "execution_count": null,
      "metadata": {
        "colab": {
          "base_uri": "https://localhost:8080/"
        },
        "id": "Oxjs-CI1tY1o",
        "outputId": "8ae4fca2-a2af-4d2d-cca4-a9653bfaffce"
      },
      "outputs": [
        {
          "name": "stdout",
          "output_type": "stream",
          "text": [
            "Collecting groq\n",
            "  Downloading groq-0.11.0-py3-none-any.whl.metadata (13 kB)\n",
            "Requirement already satisfied: anyio<5,>=3.5.0 in /usr/local/lib/python3.10/dist-packages (from groq) (3.7.1)\n",
            "Requirement already satisfied: distro<2,>=1.7.0 in /usr/lib/python3/dist-packages (from groq) (1.7.0)\n",
            "Collecting httpx<1,>=0.23.0 (from groq)\n",
            "  Downloading httpx-0.27.2-py3-none-any.whl.metadata (7.1 kB)\n",
            "Requirement already satisfied: pydantic<3,>=1.9.0 in /usr/local/lib/python3.10/dist-packages (from groq) (2.9.2)\n",
            "Requirement already satisfied: sniffio in /usr/local/lib/python3.10/dist-packages (from groq) (1.3.1)\n",
            "Requirement already satisfied: typing-extensions<5,>=4.7 in /usr/local/lib/python3.10/dist-packages (from groq) (4.12.2)\n",
            "Requirement already satisfied: idna>=2.8 in /usr/local/lib/python3.10/dist-packages (from anyio<5,>=3.5.0->groq) (3.10)\n",
            "Requirement already satisfied: exceptiongroup in /usr/local/lib/python3.10/dist-packages (from anyio<5,>=3.5.0->groq) (1.2.2)\n",
            "Requirement already satisfied: certifi in /usr/local/lib/python3.10/dist-packages (from httpx<1,>=0.23.0->groq) (2024.8.30)\n",
            "Collecting httpcore==1.* (from httpx<1,>=0.23.0->groq)\n",
            "  Downloading httpcore-1.0.5-py3-none-any.whl.metadata (20 kB)\n",
            "Collecting h11<0.15,>=0.13 (from httpcore==1.*->httpx<1,>=0.23.0->groq)\n",
            "  Downloading h11-0.14.0-py3-none-any.whl.metadata (8.2 kB)\n",
            "Requirement already satisfied: annotated-types>=0.6.0 in /usr/local/lib/python3.10/dist-packages (from pydantic<3,>=1.9.0->groq) (0.7.0)\n",
            "Requirement already satisfied: pydantic-core==2.23.4 in /usr/local/lib/python3.10/dist-packages (from pydantic<3,>=1.9.0->groq) (2.23.4)\n",
            "Downloading groq-0.11.0-py3-none-any.whl (106 kB)\n",
            "\u001b[2K   \u001b[90m━━━━━━━━━━━━━━━━━━━━━━━━━━━━━━━━━━━━━━━━\u001b[0m \u001b[32m106.5/106.5 kB\u001b[0m \u001b[31m1.9 MB/s\u001b[0m eta \u001b[36m0:00:00\u001b[0m\n",
            "\u001b[?25hDownloading httpx-0.27.2-py3-none-any.whl (76 kB)\n",
            "\u001b[2K   \u001b[90m━━━━━━━━━━━━━━━━━━━━━━━━━━━━━━━━━━━━━━━━\u001b[0m \u001b[32m76.4/76.4 kB\u001b[0m \u001b[31m4.9 MB/s\u001b[0m eta \u001b[36m0:00:00\u001b[0m\n",
            "\u001b[?25hDownloading httpcore-1.0.5-py3-none-any.whl (77 kB)\n",
            "\u001b[2K   \u001b[90m━━━━━━━━━━━━━━━━━━━━━━━━━━━━━━━━━━━━━━━━\u001b[0m \u001b[32m77.9/77.9 kB\u001b[0m \u001b[31m4.4 MB/s\u001b[0m eta \u001b[36m0:00:00\u001b[0m\n",
            "\u001b[?25hDownloading h11-0.14.0-py3-none-any.whl (58 kB)\n",
            "\u001b[2K   \u001b[90m━━━━━━━━━━━━━━━━━━━━━━━━━━━━━━━━━━━━━━━━\u001b[0m \u001b[32m58.3/58.3 kB\u001b[0m \u001b[31m3.8 MB/s\u001b[0m eta \u001b[36m0:00:00\u001b[0m\n",
            "\u001b[?25hInstalling collected packages: h11, httpcore, httpx, groq\n",
            "Successfully installed groq-0.11.0 h11-0.14.0 httpcore-1.0.5 httpx-0.27.2\n"
          ]
        }
      ],
      "source": [
        "pip install groq"
      ]
    },
    {
      "cell_type": "code",
      "execution_count": null,
      "metadata": {
        "colab": {
          "base_uri": "https://localhost:8080/",
          "height": 383
        },
        "id": "slzv22OJvfFB",
        "outputId": "fd187efc-89f2-4c04-cd21-9a1723bcca3c"
      },
      "outputs": [
        {
          "ename": "ModuleNotFoundError",
          "evalue": "No module named 'groq'",
          "output_type": "error",
          "traceback": [
            "\u001b[0;31m---------------------------------------------------------------------------\u001b[0m",
            "\u001b[0;31mModuleNotFoundError\u001b[0m                       Traceback (most recent call last)",
            "\u001b[0;32m<ipython-input-1-65004f51f947>\u001b[0m in \u001b[0;36m<cell line: 1>\u001b[0;34m()\u001b[0m\n\u001b[0;32m----> 1\u001b[0;31m \u001b[0;32mfrom\u001b[0m \u001b[0mgroq\u001b[0m \u001b[0;32mimport\u001b[0m \u001b[0mGroq\u001b[0m\u001b[0;34m\u001b[0m\u001b[0;34m\u001b[0m\u001b[0m\n\u001b[0m\u001b[1;32m      2\u001b[0m \u001b[0;34m\u001b[0m\u001b[0m\n\u001b[1;32m      3\u001b[0m \u001b[0mapi_key\u001b[0m\u001b[0;34m=\u001b[0m \u001b[0;34m'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'\u001b[0m\u001b[0;34m\u001b[0m\u001b[0;34m\u001b[0m\u001b[0m\n\u001b[1;32m      4\u001b[0m \u001b[0;31m# Function to send an alert email\u001b[0m\u001b[0;34m\u001b[0m\u001b[0;34m\u001b[0m\u001b[0m\n\u001b[1;32m      5\u001b[0m \u001b[0;32mdef\u001b[0m \u001b[0msend_alert_email\u001b[0m\u001b[0;34m(\u001b[0m\u001b[0mharmful_query\u001b[0m\u001b[0;34m)\u001b[0m\u001b[0;34m:\u001b[0m\u001b[0;34m\u001b[0m\u001b[0;34m\u001b[0m\u001b[0m\n",
            "\u001b[0;31mModuleNotFoundError\u001b[0m: No module named 'groq'",
            "",
            "\u001b[0;31m---------------------------------------------------------------------------\u001b[0;32m\nNOTE: If your import is failing due to a missing package, you can\nmanually install dependencies using either !pip or !apt.\n\nTo view examples of installing some common dependencies, click the\n\"Open Examples\" button below.\n\u001b[0;31m---------------------------------------------------------------------------\u001b[0m\n"
          ]
        }
      ],
      "source": [
        "from groq import Groq\n",
        "\n",
        "api_key= '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'\n",
        "# Function to send an alert email\n",
        "def send_alert_email(harmful_query):\n",
        "    client = Groq(api_key = api_key)\n",
        "    completion = client.chat.completions.create(\n",
        "        model=\"llama3-8b-8192\",\n",
        "        messages=[\n",
        "            {\n",
        "                \"role\": \"system\",\n",
        "                \"content\": \"This is an LLM for reporting SQL injections to Mr. Haggai. Create an email for the alert.\"\n",
        "            },\n",
        "            {\n",
        "                \"role\": \"user\",\n",
        "                \"content\": f\"A harmful SQL injection has been detected: {harmful_query}\"\n",
        "            }\n",
        "        ],\n",
        "        temperature=1,\n",
        "        max_tokens=1024,\n",
        "        top_p=1,\n",
        "        stream=True,\n",
        "        stop=None,\n",
        "    )\n",
        "\n",
        "    email_content = \"\"\n",
        "    for chunk in completion:\n",
        "        email_content += chunk.choices[0].delta.content or \"\"\n",
        "\n",
        "    print(\"Sending email alert...\")\n",
        "    print(email_content)\n",
        "\n",
        "# Modify the prediction testing code\n",
        "for query in harmful_queries:\n",
        "    result = predict_injection(query)\n",
        "    print(f\"Query: {query} -> Prediction: {result}\")\n",
        "    if result == \"Harmful\":\n",
        "        send_alert_email(query)\n"
      ]
    },
    {
      "cell_type": "code",
      "execution_count": null,
      "metadata": {
        "id": "VCWWC_C6wJ7U"
      },
      "outputs": [],
      "source": [
        "import smtplib\n",
        "from email.mime.text import MIMEText\n",
        "from email.mime.multipart import MIMEMultipart\n",
        "\n",
        "def send_alert_email(harmful_query):\n",
        "    sender_email = \"kondwaninyirenda99@gmail.com\"  # Your Gmail address\n",
        "    receiver_email = \"lin3nil0@gmail.com\"  # Recipient's email address\n",
        "    password = \"tpqn dtnc prux ffal\"  # Your Gmail password or App Password\n",
        "\n",
        "    # Create the email content\n",
        "    subject = \"SQL Injection Alert\"\n",
        "    body = f\"\"\"\n",
        "    Dear Mr. Haggai,\n",
        "\n",
        "    A harmful SQL injection has been detected:\n",
        "\n",
        "    Query: {harmful_query}\n",
        "\n",
        "    Please take necessary action.\n",
        "\n",
        "    Best regards,\n",
        "    Your Security System\n",
        "    \"\"\"\n",
        "\n",
        "    # Set up the email\n",
        "    msg = MIMEMultipart()\n",
        "    msg['From'] = sender_email\n",
        "    msg['To'] = receiver_email\n",
        "    msg['Subject'] = subject\n",
        "    msg.attach(MIMEText(body, 'plain'))\n",
        "\n",
        "    try:\n",
        "        # Send the email\n",
        "        with smtplib.SMTP('smtp.gmail.com', 587) as server:\n",
        "            server.starttls()  # Upgrade the connection to secure\n",
        "            server.login(sender_email, password)  # Log in to your Gmail account\n",
        "            server.send_message(msg)  # Send the email\n",
        "        print(\"Email alert sent successfully.\")\n",
        "    except Exception as e:\n",
        "        print(f\"Error sending email: {e}\")\n"
      ]
    },
    {
      "cell_type": "code",
      "execution_count": null,
      "metadata": {
        "id": "Wh72o8gh6u9K"
      },
      "outputs": [],
      "source": [
        "# Function to predict injection type\n",
        "def predict_injection(query):\n",
        "    query_vector = vectorizer.transform([query])\n",
        "    prediction = model.predict(query_vector)\n",
        "    return \"Harmful\" if prediction[0] == 1 else \"Benign\""
      ]
    },
    {
      "cell_type": "code",
      "execution_count": null,
      "metadata": {
        "colab": {
          "base_uri": "https://localhost:8080/",
          "height": 332
        },
        "id": "nVQgEexH4IOF",
        "outputId": "b2bd4b78-e6a2-44d5-98de-ac7dafac90c0"
      },
      "outputs": [
        {
          "ename": "NameError",
          "evalue": "name 'vectorizer' is not defined",
          "output_type": "error",
          "traceback": [
            "\u001b[0;31m---------------------------------------------------------------------------\u001b[0m",
            "\u001b[0;31mNameError\u001b[0m                                 Traceback (most recent call last)",
            "\u001b[0;32m<ipython-input-5-c2079c40cba2>\u001b[0m in \u001b[0;36m<cell line: 11>\u001b[0;34m()\u001b[0m\n\u001b[1;32m     10\u001b[0m \u001b[0;31m# Test the model with harmful queries\u001b[0m\u001b[0;34m\u001b[0m\u001b[0;34m\u001b[0m\u001b[0m\n\u001b[1;32m     11\u001b[0m \u001b[0;32mfor\u001b[0m \u001b[0mquery\u001b[0m \u001b[0;32min\u001b[0m \u001b[0mharmful_queries\u001b[0m\u001b[0;34m:\u001b[0m\u001b[0;34m\u001b[0m\u001b[0;34m\u001b[0m\u001b[0m\n\u001b[0;32m---> 12\u001b[0;31m     \u001b[0mresult\u001b[0m \u001b[0;34m=\u001b[0m \u001b[0mpredict_injection\u001b[0m\u001b[0;34m(\u001b[0m\u001b[0mquery\u001b[0m\u001b[0;34m)\u001b[0m\u001b[0;34m\u001b[0m\u001b[0;34m\u001b[0m\u001b[0m\n\u001b[0m\u001b[1;32m     13\u001b[0m     \u001b[0mprint\u001b[0m\u001b[0;34m(\u001b[0m\u001b[0;34mf\"Query: {query} -> Prediction: {result}\"\u001b[0m\u001b[0;34m)\u001b[0m\u001b[0;34m\u001b[0m\u001b[0;34m\u001b[0m\u001b[0m\n\u001b[1;32m     14\u001b[0m     \u001b[0;32mif\u001b[0m \u001b[0mresult\u001b[0m \u001b[0;34m==\u001b[0m \u001b[0;34m\"Harmful\"\u001b[0m\u001b[0;34m:\u001b[0m\u001b[0;34m\u001b[0m\u001b[0;34m\u001b[0m\u001b[0m\n",
            "\u001b[0;32m<ipython-input-4-9666fab820eb>\u001b[0m in \u001b[0;36mpredict_injection\u001b[0;34m(query)\u001b[0m\n\u001b[1;32m      1\u001b[0m \u001b[0;31m# Function to predict injection type\u001b[0m\u001b[0;34m\u001b[0m\u001b[0;34m\u001b[0m\u001b[0m\n\u001b[1;32m      2\u001b[0m \u001b[0;32mdef\u001b[0m \u001b[0mpredict_injection\u001b[0m\u001b[0;34m(\u001b[0m\u001b[0mquery\u001b[0m\u001b[0;34m)\u001b[0m\u001b[0;34m:\u001b[0m\u001b[0;34m\u001b[0m\u001b[0;34m\u001b[0m\u001b[0m\n\u001b[0;32m----> 3\u001b[0;31m     \u001b[0mquery_vector\u001b[0m \u001b[0;34m=\u001b[0m \u001b[0mvectorizer\u001b[0m\u001b[0;34m.\u001b[0m\u001b[0mtransform\u001b[0m\u001b[0;34m(\u001b[0m\u001b[0;34m[\u001b[0m\u001b[0mquery\u001b[0m\u001b[0;34m]\u001b[0m\u001b[0;34m)\u001b[0m\u001b[0;34m\u001b[0m\u001b[0;34m\u001b[0m\u001b[0m\n\u001b[0m\u001b[1;32m      4\u001b[0m     \u001b[0mprediction\u001b[0m \u001b[0;34m=\u001b[0m \u001b[0mmodel\u001b[0m\u001b[0;34m.\u001b[0m\u001b[0mpredict\u001b[0m\u001b[0;34m(\u001b[0m\u001b[0mquery_vector\u001b[0m\u001b[0;34m)\u001b[0m\u001b[0;34m\u001b[0m\u001b[0;34m\u001b[0m\u001b[0m\n\u001b[1;32m      5\u001b[0m     \u001b[0;32mreturn\u001b[0m \u001b[0;34m\"Harmful\"\u001b[0m \u001b[0;32mif\u001b[0m \u001b[0mprediction\u001b[0m\u001b[0;34m[\u001b[0m\u001b[0;36m0\u001b[0m\u001b[0;34m]\u001b[0m \u001b[0;34m==\u001b[0m \u001b[0;36m1\u001b[0m \u001b[0;32melse\u001b[0m \u001b[0;34m\"Benign\"\u001b[0m\u001b[0;34m\u001b[0m\u001b[0;34m\u001b[0m\u001b[0m\n",
            "\u001b[0;31mNameError\u001b[0m: name 'vectorizer' is not defined"
          ]
        }
      ],
      "source": [
        "# Define harmful queries\n",
        "harmful_queries = [\n",
        "    \"SELECT * FROM users WHERE username = 'admin' --\",\n",
        "    \"SELECT * FROM users WHERE username = 'user' OR '1'='1';\",\n",
        "    \"SELECT * FROM users WHERE username = 'guest' AND password = '' OR '1'='1';\",\n",
        "    \"SELECT * FROM users WHERE username = 'admin' UNION SELECT * FROM users;\",\n",
        "    \"SELECT * FROM users WHERE username = 'bob' AND '1'='1';\"\n",
        "]\n",
        "\n",
        "# Test the model with harmful queries\n",
        "for query in harmful_queries:\n",
        "    result = predict_injection(query)\n",
        "    print(f\"Query: {query} -> Prediction: {result}\")\n",
        "    if result == \"Harmful\":\n",
        "        send_alert_email(query)"
      ]
    },
    {
      "cell_type": "code",
      "execution_count": null,
      "metadata": {
        "id": "ChZYUvsw4hNE"
      },
      "outputs": [],
      "source": [
        "import smtplib\n",
        "from email.mime.text import MIMEText\n",
        "from email.mime.multipart import MIMEMultipart\n",
        "import pandas as pd\n",
        "from sklearn.model_selection import train_test_split\n",
        "from sklearn.linear_model import LogisticRegression\n",
        "from sklearn.metrics import classification_report, confusion_matrix, accuracy_score\n",
        "from sklearn.feature_extraction.text import TfidfVectorizer"
      ]
    },
    {
      "cell_type": "code",
      "execution_count": null,
      "metadata": {
        "colab": {
          "base_uri": "https://localhost:8080/",
          "height": 373
        },
        "id": "tZtjCjpZ63gS",
        "outputId": "998aae26-369d-401f-fac8-3e95c07f44d6"
      },
      "outputs": [
        {
          "ename": "FileNotFoundError",
          "evalue": "[Errno 2] No such file or directory: 'sql_queries_dataset.csv'",
          "output_type": "error",
          "traceback": [
            "\u001b[0;31m---------------------------------------------------------------------------\u001b[0m",
            "\u001b[0;31mFileNotFoundError\u001b[0m                         Traceback (most recent call last)",
            "\u001b[0;32m<ipython-input-2-c436d53b6c55>\u001b[0m in \u001b[0;36m<cell line: 11>\u001b[0;34m()\u001b[0m\n\u001b[1;32m      9\u001b[0m \u001b[0;34m\u001b[0m\u001b[0m\n\u001b[1;32m     10\u001b[0m \u001b[0;31m# Step 1: Load the dataset\u001b[0m\u001b[0;34m\u001b[0m\u001b[0;34m\u001b[0m\u001b[0m\n\u001b[0;32m---> 11\u001b[0;31m \u001b[0mdf\u001b[0m \u001b[0;34m=\u001b[0m \u001b[0mpd\u001b[0m\u001b[0;34m.\u001b[0m\u001b[0mread_csv\u001b[0m\u001b[0;34m(\u001b[0m\u001b[0;34m'sql_queries_dataset.csv'\u001b[0m\u001b[0;34m)\u001b[0m\u001b[0;34m\u001b[0m\u001b[0;34m\u001b[0m\u001b[0m\n\u001b[0m\u001b[1;32m     12\u001b[0m \u001b[0;34m\u001b[0m\u001b[0m\n\u001b[1;32m     13\u001b[0m \u001b[0;31m# Step 2: Feature extraction using TF-IDF\u001b[0m\u001b[0;34m\u001b[0m\u001b[0;34m\u001b[0m\u001b[0m\n",
            "\u001b[0;32m/usr/local/lib/python3.10/dist-packages/pandas/io/parsers/readers.py\u001b[0m in \u001b[0;36mread_csv\u001b[0;34m(filepath_or_buffer, sep, delimiter, header, names, index_col, usecols, dtype, engine, converters, true_values, false_values, skipinitialspace, skiprows, skipfooter, nrows, na_values, keep_default_na, na_filter, verbose, skip_blank_lines, parse_dates, infer_datetime_format, keep_date_col, date_parser, date_format, dayfirst, cache_dates, iterator, chunksize, compression, thousands, decimal, lineterminator, quotechar, quoting, doublequote, escapechar, comment, encoding, encoding_errors, dialect, on_bad_lines, delim_whitespace, low_memory, memory_map, float_precision, storage_options, dtype_backend)\u001b[0m\n\u001b[1;32m    946\u001b[0m     \u001b[0mkwds\u001b[0m\u001b[0;34m.\u001b[0m\u001b[0mupdate\u001b[0m\u001b[0;34m(\u001b[0m\u001b[0mkwds_defaults\u001b[0m\u001b[0;34m)\u001b[0m\u001b[0;34m\u001b[0m\u001b[0;34m\u001b[0m\u001b[0m\n\u001b[1;32m    947\u001b[0m \u001b[0;34m\u001b[0m\u001b[0m\n\u001b[0;32m--> 948\u001b[0;31m     \u001b[0;32mreturn\u001b[0m \u001b[0m_read\u001b[0m\u001b[0;34m(\u001b[0m\u001b[0mfilepath_or_buffer\u001b[0m\u001b[0;34m,\u001b[0m \u001b[0mkwds\u001b[0m\u001b[0;34m)\u001b[0m\u001b[0;34m\u001b[0m\u001b[0;34m\u001b[0m\u001b[0m\n\u001b[0m\u001b[1;32m    949\u001b[0m \u001b[0;34m\u001b[0m\u001b[0m\n\u001b[1;32m    950\u001b[0m \u001b[0;34m\u001b[0m\u001b[0m\n",
            "\u001b[0;32m/usr/local/lib/python3.10/dist-packages/pandas/io/parsers/readers.py\u001b[0m in \u001b[0;36m_read\u001b[0;34m(filepath_or_buffer, kwds)\u001b[0m\n\u001b[1;32m    609\u001b[0m \u001b[0;34m\u001b[0m\u001b[0m\n\u001b[1;32m    610\u001b[0m     \u001b[0;31m# Create the parser.\u001b[0m\u001b[0;34m\u001b[0m\u001b[0;34m\u001b[0m\u001b[0m\n\u001b[0;32m--> 611\u001b[0;31m     \u001b[0mparser\u001b[0m \u001b[0;34m=\u001b[0m \u001b[0mTextFileReader\u001b[0m\u001b[0;34m(\u001b[0m\u001b[0mfilepath_or_buffer\u001b[0m\u001b[0;34m,\u001b[0m \u001b[0;34m**\u001b[0m\u001b[0mkwds\u001b[0m\u001b[0;34m)\u001b[0m\u001b[0;34m\u001b[0m\u001b[0;34m\u001b[0m\u001b[0m\n\u001b[0m\u001b[1;32m    612\u001b[0m \u001b[0;34m\u001b[0m\u001b[0m\n\u001b[1;32m    613\u001b[0m     \u001b[0;32mif\u001b[0m \u001b[0mchunksize\u001b[0m \u001b[0;32mor\u001b[0m \u001b[0miterator\u001b[0m\u001b[0;34m:\u001b[0m\u001b[0;34m\u001b[0m\u001b[0;34m\u001b[0m\u001b[0m\n",
            "\u001b[0;32m/usr/local/lib/python3.10/dist-packages/pandas/io/parsers/readers.py\u001b[0m in \u001b[0;36m__init__\u001b[0;34m(self, f, engine, **kwds)\u001b[0m\n\u001b[1;32m   1446\u001b[0m \u001b[0;34m\u001b[0m\u001b[0m\n\u001b[1;32m   1447\u001b[0m         \u001b[0mself\u001b[0m\u001b[0;34m.\u001b[0m\u001b[0mhandles\u001b[0m\u001b[0;34m:\u001b[0m \u001b[0mIOHandles\u001b[0m \u001b[0;34m|\u001b[0m \u001b[0;32mNone\u001b[0m \u001b[0;34m=\u001b[0m \u001b[0;32mNone\u001b[0m\u001b[0;34m\u001b[0m\u001b[0;34m\u001b[0m\u001b[0m\n\u001b[0;32m-> 1448\u001b[0;31m         \u001b[0mself\u001b[0m\u001b[0;34m.\u001b[0m\u001b[0m_engine\u001b[0m \u001b[0;34m=\u001b[0m \u001b[0mself\u001b[0m\u001b[0;34m.\u001b[0m\u001b[0m_make_engine\u001b[0m\u001b[0;34m(\u001b[0m\u001b[0mf\u001b[0m\u001b[0;34m,\u001b[0m \u001b[0mself\u001b[0m\u001b[0;34m.\u001b[0m\u001b[0mengine\u001b[0m\u001b[0;34m)\u001b[0m\u001b[0;34m\u001b[0m\u001b[0;34m\u001b[0m\u001b[0m\n\u001b[0m\u001b[1;32m   1449\u001b[0m \u001b[0;34m\u001b[0m\u001b[0m\n\u001b[1;32m   1450\u001b[0m     \u001b[0;32mdef\u001b[0m \u001b[0mclose\u001b[0m\u001b[0;34m(\u001b[0m\u001b[0mself\u001b[0m\u001b[0;34m)\u001b[0m \u001b[0;34m->\u001b[0m \u001b[0;32mNone\u001b[0m\u001b[0;34m:\u001b[0m\u001b[0;34m\u001b[0m\u001b[0;34m\u001b[0m\u001b[0m\n",
            "\u001b[0;32m/usr/local/lib/python3.10/dist-packages/pandas/io/parsers/readers.py\u001b[0m in \u001b[0;36m_make_engine\u001b[0;34m(self, f, engine)\u001b[0m\n\u001b[1;32m   1703\u001b[0m                 \u001b[0;32mif\u001b[0m \u001b[0;34m\"b\"\u001b[0m \u001b[0;32mnot\u001b[0m \u001b[0;32min\u001b[0m \u001b[0mmode\u001b[0m\u001b[0;34m:\u001b[0m\u001b[0;34m\u001b[0m\u001b[0;34m\u001b[0m\u001b[0m\n\u001b[1;32m   1704\u001b[0m                     \u001b[0mmode\u001b[0m \u001b[0;34m+=\u001b[0m \u001b[0;34m\"b\"\u001b[0m\u001b[0;34m\u001b[0m\u001b[0;34m\u001b[0m\u001b[0m\n\u001b[0;32m-> 1705\u001b[0;31m             self.handles = get_handle(\n\u001b[0m\u001b[1;32m   1706\u001b[0m                 \u001b[0mf\u001b[0m\u001b[0;34m,\u001b[0m\u001b[0;34m\u001b[0m\u001b[0;34m\u001b[0m\u001b[0m\n\u001b[1;32m   1707\u001b[0m                 \u001b[0mmode\u001b[0m\u001b[0;34m,\u001b[0m\u001b[0;34m\u001b[0m\u001b[0;34m\u001b[0m\u001b[0m\n",
            "\u001b[0;32m/usr/local/lib/python3.10/dist-packages/pandas/io/common.py\u001b[0m in \u001b[0;36mget_handle\u001b[0;34m(path_or_buf, mode, encoding, compression, memory_map, is_text, errors, storage_options)\u001b[0m\n\u001b[1;32m    861\u001b[0m         \u001b[0;32mif\u001b[0m \u001b[0mioargs\u001b[0m\u001b[0;34m.\u001b[0m\u001b[0mencoding\u001b[0m \u001b[0;32mand\u001b[0m \u001b[0;34m\"b\"\u001b[0m \u001b[0;32mnot\u001b[0m \u001b[0;32min\u001b[0m \u001b[0mioargs\u001b[0m\u001b[0;34m.\u001b[0m\u001b[0mmode\u001b[0m\u001b[0;34m:\u001b[0m\u001b[0;34m\u001b[0m\u001b[0;34m\u001b[0m\u001b[0m\n\u001b[1;32m    862\u001b[0m             \u001b[0;31m# Encoding\u001b[0m\u001b[0;34m\u001b[0m\u001b[0;34m\u001b[0m\u001b[0m\n\u001b[0;32m--> 863\u001b[0;31m             handle = open(\n\u001b[0m\u001b[1;32m    864\u001b[0m                 \u001b[0mhandle\u001b[0m\u001b[0;34m,\u001b[0m\u001b[0;34m\u001b[0m\u001b[0;34m\u001b[0m\u001b[0m\n\u001b[1;32m    865\u001b[0m                 \u001b[0mioargs\u001b[0m\u001b[0;34m.\u001b[0m\u001b[0mmode\u001b[0m\u001b[0;34m,\u001b[0m\u001b[0;34m\u001b[0m\u001b[0;34m\u001b[0m\u001b[0m\n",
            "\u001b[0;31mFileNotFoundError\u001b[0m: [Errno 2] No such file or directory: 'sql_queries_dataset.csv'"
          ]
        }
      ],
      "source": [
        "\n",
        "\n",
        "# Step 1: Load the dataset\n",
        "df = pd.read_csv('sql_queries_dataset.csv')\n",
        "\n",
        "# Step 2: Feature extraction using TF-IDF\n",
        "vectorizer = TfidfVectorizer()\n",
        "X = vectorizer.fit_transform(df['query'])\n",
        "y = df['label']\n",
        "\n",
        "# Step 3: Split the dataset into training and testing sets\n",
        "X_train, X_test, y_train, y_test = train_test_split(X, y, test_size=0.2, random_state=42)\n",
        "\n",
        "# Train the model\n",
        "model = LogisticRegression()\n",
        "model.fit(X_train, y_train)\n",
        "\n",
        "# Function to predict injection type\n",
        "def predict_injection(query):\n",
        "    query_vector = vectorizer.transform([query])\n",
        "    prediction = model.predict(query_vector)\n",
        "    return \"Harmful\" if prediction[0] == 1 else \"Benign\"\n",
        "\n",
        "# Function to send an email alert\n",
        "def send_alert_email(harmful_query):\n",
        "    sender_email = \"kondwaninyirenda99@gmail.com\"  # Your Gmail address\n",
        "    receiver_email = \"lin3nil0@gmail.com\"  # Recipient's email address\n",
        "    password = \"tpqn dtnc prux ffal\"  # Your Gmail password or App Password\n",
        "\n",
        "    # Create the email content\n",
        "    subject = \"SQL Injection Alert\"\n",
        "    body = f\"\"\"\n",
        "    Dear Mr. Haggai,\n",
        "\n",
        "    A harmful SQL injection has been detected:\n",
        "\n",
        "    Query: {harmful_query}\n",
        "\n",
        "    Please take necessary action.\n",
        "\n",
        "    Best regards,\n",
        "    Your Security System\n",
        "    \"\"\"\n",
        "\n",
        "    # Set up the email\n",
        "    msg = MIMEMultipart()\n",
        "    msg['From'] = sender_email\n",
        "    msg['To'] = receiver_email\n",
        "    msg['Subject'] = subject\n",
        "    msg.attach(MIMEText(body, 'plain'))\n",
        "\n",
        "    try:\n",
        "        # Send the email\n",
        "        with smtplib.SMTP('smtp.gmail.com', 587) as server:\n",
        "            server.starttls()  # Upgrade the connection to secure\n",
        "            server.login(sender_email, password)  # Log in to your Gmail account\n",
        "            server.send_message(msg)  # Send the email\n",
        "        print(\"Email alert sent successfully.\")\n",
        "    except Exception as e:\n",
        "        print(f\"Error sending email: {e}\")\n",
        "\n",
        "# Define harmful queries\n",
        "harmful_queries = [\n",
        "    \"SELECT * FROM users WHERE username = 'admin' --\",\n",
        "    \"SELECT * FROM users WHERE username = 'user' OR '1'='1';\",\n",
        "    \"SELECT * FROM users WHERE username = 'guest' AND password = '' OR '1'='1';\",\n",
        "    \"SELECT * FROM users WHERE username = 'admin' UNION SELECT * FROM users;\",\n",
        "    \"SELECT * FROM users WHERE username = 'bob' AND '1'='1';\"\n",
        "]\n",
        "\n",
        "# Test the model with harmful queries\n",
        "for query in harmful_queries:\n",
        "    result = predict_injection(query)\n",
        "    print(f\"Query: {query} -> Prediction: {result}\")\n",
        "    if result == \"Harmful\":\n",
        "        send_alert_email(query)\n"
      ]
    },
    {
      "cell_type": "markdown",
      "metadata": {
        "id": "VEEbZ3GX4K0u"
      },
      "source": [
        "Create a streamlit app\n"
      ]
    },
    {
      "cell_type": "code",
      "execution_count": 1,
      "metadata": {
        "colab": {
          "base_uri": "https://localhost:8080/"
        },
        "id": "w4WHrdyq4XWU",
        "outputId": "d84528d1-af2f-489d-f78c-3d5cb3443cec"
      },
      "outputs": [
        {
          "name": "stdout",
          "output_type": "stream",
          "text": [
            "\u001b[2K   \u001b[90m━━━━━━━━━━━━━━━━━━━━━━━━━━━━━━━━━━━━━━━━\u001b[0m \u001b[32m8.7/8.7 MB\u001b[0m \u001b[31m26.7 MB/s\u001b[0m eta \u001b[36m0:00:00\u001b[0m\n",
            "\u001b[2K   \u001b[90m━━━━━━━━━━━━━━━━━━━━━━━━━━━━━━━━━━━━━━━━\u001b[0m \u001b[32m207.3/207.3 kB\u001b[0m \u001b[31m5.9 MB/s\u001b[0m eta \u001b[36m0:00:00\u001b[0m\n",
            "\u001b[2K   \u001b[90m━━━━━━━━━━━━━━━━━━━━━━━━━━━━━━━━━━━━━━━━\u001b[0m \u001b[32m6.9/6.9 MB\u001b[0m \u001b[31m19.7 MB/s\u001b[0m eta \u001b[36m0:00:00\u001b[0m\n",
            "\u001b[2K   \u001b[90m━━━━━━━━━━━━━━━━━━━━━━━━━━━━━━━━━━━━━━━━\u001b[0m \u001b[32m82.9/82.9 kB\u001b[0m \u001b[31m3.0 MB/s\u001b[0m eta \u001b[36m0:00:00\u001b[0m\n",
            "\u001b[2K   \u001b[90m━━━━━━━━━━━━━━━━━━━━━━━━━━━━━━━━━━━━━━━━\u001b[0m \u001b[32m62.7/62.7 kB\u001b[0m \u001b[31m3.8 MB/s\u001b[0m eta \u001b[36m0:00:00\u001b[0m\n",
            "\u001b[?25h"
          ]
        }
      ],
      "source": [
        "! pip install streamlit -q"
      ]
    },
    {
      "cell_type": "markdown",
      "metadata": {
        "id": "kRfGZ_o041MC"
      },
      "source": [
        "The second line (!wget -q -O - ipv4.icanhazip.com) retrieves your external IP address using the wget command."
      ]
    },
    {
      "cell_type": "code",
      "execution_count": 13,
      "metadata": {
        "colab": {
          "base_uri": "https://localhost:8080/"
        },
        "id": "hNjrGt_s4xwb",
        "outputId": "3e48948a-f1fe-4986-e4f4-a8498577362c"
      },
      "outputs": [
        {
          "name": "stdout",
          "output_type": "stream",
          "text": [
            "35.185.43.183\n"
          ]
        }
      ],
      "source": [
        "!wget -q -O - ipv4.icanhazip.com"
      ]
    },
    {
      "cell_type": "code",
      "execution_count": null,
      "metadata": {
        "colab": {
          "base_uri": "https://localhost:8080/"
        },
        "id": "vY_byFxS42SB",
        "outputId": "9bef051e-6210-4121-8d38-dc1f7dffe9f5"
      },
      "outputs": [
        {
          "ename": "",
          "evalue": "",
          "output_type": "error",
          "traceback": [
            "\u001b[1;31mRunning cells with 'Python 3.11.9' requires the ipykernel package.\n",
            "\u001b[1;31mRun the following command to install 'ipykernel' into the Python environment. \n",
            "\u001b[1;31mCommand: 'c:/msys64/mingw64/bin/python.exe -m pip install ipykernel -U --user --force-reinstall'"
          ]
        }
      ],
      "source": [
        "%%writefile app.py\n",
        "import streamlit as st\n",
        "import pandas as pd\n",
        "from sklearn.model_selection import train_test_split\n",
        "from sklearn.linear_model import LogisticRegression\n",
        "from sklearn.feature_extraction.text import TfidfVectorizer\n",
        "\n",
        "# Title for the Streamlit app\n",
        "st.title(\"Hacking Shield - SQL Injection Detection\")\n",
        "\n",
        "# Load the dataset\n",
        "@st.cache_data\n",
        "def load_data():\n",
        "    df = pd.read_csv('sql_queries_dataset.csv')\n",
        "    return df\n",
        "\n",
        "df = load_data()\n",
        "\n",
        "# Feature extraction using TF-IDF\n",
        "vectorizer = TfidfVectorizer()\n",
        "X = vectorizer.fit_transform(df['query'])\n",
        "y = df['label']\n",
        "\n",
        "# Split the dataset into training and testing sets\n",
        "X_train, X_test, y_train, y_test = train_test_split(X, y, test_size=0.2, random_state=42)\n",
        "\n",
        "# Train the Logistic Regression model\n",
        "model = LogisticRegression()\n",
        "model.fit(X_train, y_train)\n",
        "\n",
        "# Function to predict injection type\n",
        "def predict_injection(query):\n",
        "    query_vector = vectorizer.transform([query])\n",
        "    prediction = model.predict(query_vector)\n",
        "    return \"Harmful\" if prediction[0] == 1 else \"Benign\"\n",
        "\n",
        "# Input for the SQL query from the user\n",
        "user_query = st.text_area(\"Enter your SQL query to check if it's harmful:\")\n",
        "\n",
        "if st.button('Check Query'):\n",
        "    if user_query:\n",
        "        result = predict_injection([user_query])\n",
        "        st.write(f\"The query is: **{result}**\")\n",
        "\n",
        "        # Optional: Display a warning if the query is harmful\n",
        "        if result == \"Harmful\":\n",
        "            st.warning(\"This query is potentially harmful and could be an SQL injection attempt!\")\n",
        "\n",
        "            # Send email alert (if you choose to add this functionality)\n",
        "            # send_alert_email(user_query)  # Uncomment to enable email alerts\n",
        "\n",
        "    else:\n",
        "        st.write(\"Please enter a query.\")\n",
        "\n",
        "# Optionally, you can display harmful queries for testing purposes\n",
        "if st.checkbox(\"Show harmful queries\"):\n",
        "    harmful_queries = [\n",
        "        \"SELECT * FROM users WHERE username = 'admin' --\",\n",
        "        \"SELECT * FROM users WHERE username = 'user' OR '1'='1';\",\n",
        "        \"SELECT * FROM users WHERE username = 'guest' AND password = '' OR '1'='1';\",\n",
        "        \"SELECT * FROM users WHERE username = 'admin' UNION SELECT * FROM users;\",\n",
        "        \"SELECT * FROM users WHERE username = 'bob' AND '1'='1';\"\n",
        "    ]\n",
        "    st.write(harmful_queries)\n"
      ]
    },
    {
      "cell_type": "code",
      "execution_count": 1,
      "metadata": {
        "colab": {
          "base_uri": "https://localhost:8080/"
        },
        "id": "mnFZnadB8OhO",
        "outputId": "6cefc448-cc8a-4b57-98d8-4ff0e39f1bff"
      },
      "outputs": [
        {
          "name": "stdout",
          "output_type": "stream",
          "text": [
            "Overwriting app.py\n"
          ]
        }
      ],
      "source": [
        "%%writefile app.py\n",
        "import streamlit as st\n",
        "import pandas as pd\n",
        "from sklearn.feature_extraction.text import TfidfVectorizer\n",
        "from sklearn.model_selection import train_test_split\n",
        "from sklearn.linear_model import LogisticRegression\n",
        "\n",
        "# Load the dataset\n",
        "df = pd.read_csv('sql_queries_dataset.csv')\n",
        "\n",
        "# Feature extraction using TF-IDF\n",
        "vectorizer = TfidfVectorizer()\n",
        "X = vectorizer.fit_transform(df['query'])\n",
        "y = df['label']\n",
        "\n",
        "# Split the dataset into training and testing sets\n",
        "X_train, X_test, y_train, y_test = train_test_split(X, y, test_size=0.2, random_state=42)\n",
        "\n",
        "# Train the model\n",
        "model = LogisticRegression()\n",
        "model.fit(X_train, y_train)\n",
        "\n",
        "# Function to predict injection type\n",
        "def predict_injection(query):\n",
        "    query_vector = vectorizer.transform([query])  # Ensure query is passed as a string\n",
        "    prediction = model.predict(query_vector)\n",
        "    return \"Harmful\" if prediction[0] == 1 else \"Benign\"\n",
        "\n",
        "# Streamlit app interface\n",
        "st.title(\"SQL Injection Detection\")\n",
        "user_query = st.text_area('Enter SQL Query')  # Text area to input SQL query\n",
        "if user_query:\n",
        "    result = predict_injection(user_query)  # Directly pass user_query as string\n",
        "    st.write(f'The query is: {result}')\n"
      ]
    },
    {
      "cell_type": "code",
      "execution_count": 2,
      "metadata": {
        "colab": {
          "base_uri": "https://localhost:8080/"
        },
        "id": "aFJnLzLq5LbH",
        "outputId": "1d89e652-d21d-4ccf-8291-2b9ab7f6b8d5"
      },
      "outputs": [
        {
          "name": "stdout",
          "output_type": "stream",
          "text": [
            "\n",
            "Collecting usage statistics. To deactivate, set browser.gatherUsageStats to false.\n",
            "\u001b[0m\n",
            "\u001b[0m\n",
            "\u001b[34m\u001b[1m  You can now view your Streamlit app in your browser.\u001b[0m\n",
            "\u001b[0m\n",
            "\u001b[34m  Local URL: \u001b[0m\u001b[1mhttp://localhost:8501\u001b[0m\n",
            "\u001b[34m  Network URL: \u001b[0m\u001b[1mhttp://172.28.0.12:8501\u001b[0m\n",
            "\u001b[34m  External URL: \u001b[0m\u001b[1mhttp://35.185.43.183:8501\u001b[0m\n",
            "\u001b[0m\n",
            "your url is: https://tiny-lemons-sell.loca.lt\n",
            "\u001b[34m  Stopping...\u001b[0m\n",
            "^C\n"
          ]
        }
      ],
      "source": [
        "\n",
        "!streamlit run app.py & npx localtunnel --port 8501"
      ]
    },
    {
      "cell_type": "code",
      "execution_count": 7,
      "metadata": {
        "colab": {
          "base_uri": "https://localhost:8080/"
        },
        "id": "JAgBo0Ap5k-W",
        "outputId": "91281416-efdb-4413-d1d2-bc36538ae852"
      },
      "outputs": [
        {
          "name": "stdout",
          "output_type": "stream",
          "text": [
            "\u001b[K\u001b[?25h\n",
            "added 22 packages, and audited 23 packages in 2s\n",
            "\n",
            "3 packages are looking for funding\n",
            "  run `npm fund` for details\n",
            "\n",
            "1 \u001b[33m\u001b[1mmoderate\u001b[22m\u001b[39m severity vulnerability\n",
            "\n",
            "To address all issues (including breaking changes), run:\n",
            "  npm audit fix --force\n",
            "\n",
            "Run `npm audit` for details.\n"
          ]
        }
      ],
      "source": [
        "!npm install -g localtunnel"
      ]
    }
  ],
  "metadata": {
    "colab": {
      "provenance": []
    },
    "kernelspec": {
      "display_name": "Python 3",
      "name": "python3"
    },
    "language_info": {
      "name": "python",
      "version": "3.11.10"
    }
  },
  "nbformat": 4,
  "nbformat_minor": 0
}
