{
 "cells": [
  {
   "cell_type": "markdown",
   "metadata": {},
   "source": [
    "# Import Libraries"
   ]
  },
  {
   "cell_type": "code",
   "execution_count": 9,
   "metadata": {},
   "outputs": [],
   "source": [
    "import pandas as pd\n",
    "import numpy as np\n",
    "\n",
    "#Modelling\n",
    "from sklearn.preprocessing import MinMaxScaler, StandardScaler, RobustScaler, OneHotEncoder\n",
    "\n",
    "from sklearn.metrics import classification_report, accuracy_score, roc_auc_score, roc_curve, confusion_matrix, make_scorer, precision_score, recall_score, f1_score\n",
    "from sklearn.model_selection import train_test_split, GridSearchCV, RandomizedSearchCV\n",
    "from sklearn.feature_extraction.text import CountVectorizer, TfidfVectorizer\n",
    "from sklearn.pipeline import Pipeline\n",
    "from scipy.sparse import csr_matrix, hstack\n",
    "from sklearn.neighbors import NearestNeighbors\n",
    "from sklearn.metrics.pairwise import cosine_similarity\n",
    "\n",
    "#NLP\n",
    "import nltk\n",
    "import re\n",
    "\n",
    "#Plotting\n",
    "import matplotlib.pyplot as plt\n",
    "import seaborn as sns\n",
    "from matplotlib.ticker import PercentFormatter\n",
    "plt.rcParams.update({ \"figure.figsize\" : (8, 5),\"axes.facecolor\" : \"white\", \"axes.edgecolor\":  \"black\"})\n",
    "plt.rcParams[\"figure.facecolor\"]= \"w\"\n",
    "pd.plotting.register_matplotlib_converters()\n",
    "pd.set_option('display.float_format', lambda x: '%.3f' % x)\n",
    "pd.options.display.float_format = \"{:,.2f}\".format\n",
    "\n",
    "RSEED = 42\n",
    "\n",
    "import warnings\n",
    "warnings.filterwarnings('ignore')"
   ]
  },
  {
   "cell_type": "markdown",
   "metadata": {},
   "source": [
    "# Import Data"
   ]
  },
  {
   "cell_type": "code",
   "execution_count": 10,
   "metadata": {},
   "outputs": [],
   "source": [
    "df = pd.read_csv('data/df_w_description.csv')"
   ]
  },
  {
   "cell_type": "code",
   "execution_count": 11,
   "metadata": {},
   "outputs": [
    {
     "name": "stdout",
     "output_type": "stream",
     "text": [
      "Index(['book_title', 'book_author', 'year_of_publication', 'publisher',\n",
      "       'image_url_m', 'common_identifier', 'user_id', 'isbn', 'book_rating',\n",
      "       'age', 'city', 'country', 'rating_count', 'description'],\n",
      "      dtype='object')\n",
      "(527, 14)\n",
      "<class 'pandas.core.frame.DataFrame'>\n",
      "RangeIndex: 527 entries, 0 to 526\n",
      "Data columns (total 14 columns):\n",
      " #   Column               Non-Null Count  Dtype \n",
      "---  ------               --------------  ----- \n",
      " 0   book_title           527 non-null    object\n",
      " 1   book_author          527 non-null    object\n",
      " 2   year_of_publication  527 non-null    int64 \n",
      " 3   publisher            527 non-null    object\n",
      " 4   image_url_m          527 non-null    object\n",
      " 5   common_identifier    527 non-null    int64 \n",
      " 6   user_id              527 non-null    int64 \n",
      " 7   isbn                 527 non-null    object\n",
      " 8   book_rating          527 non-null    int64 \n",
      " 9   age                  527 non-null    int64 \n",
      " 10  city                 527 non-null    object\n",
      " 11  country              527 non-null    object\n",
      " 12  rating_count         527 non-null    int64 \n",
      " 13  description          527 non-null    object\n",
      "dtypes: int64(6), object(8)\n",
      "memory usage: 57.8+ KB\n",
      "None\n",
      "                           book_title         book_author  \\\n",
      "0              The Kitchen God'S Wife             Amy Tan   \n",
      "1                      Pigs In Heaven  Barbara Kingsolver   \n",
      "2  The Five People You Meet In Heaven         Mitch Albom   \n",
      "3                 Angels &Amp; Demons           Dan Brown   \n",
      "4   Little Altars Everywhere: A Novel       Rebecca Wells   \n",
      "\n",
      "   year_of_publication         publisher  \\\n",
      "0                 1991  Putnam Pub Group   \n",
      "1                 1993     Harpercollins   \n",
      "2                 2003          Hyperion   \n",
      "3                 2001       Pocket Star   \n",
      "4                 1996         Perennial   \n",
      "\n",
      "                                         image_url_m  common_identifier  \\\n",
      "0  http://images.amazon.com/images/P/0399135782.0...                  6   \n",
      "1  http://images.amazon.com/images/P/0060168013.0...                 40   \n",
      "2  http://images.amazon.com/images/P/0786868716.0...                108   \n",
      "3  http://images.amazon.com/images/P/0671027360.0...                119   \n",
      "4  http://images.amazon.com/images/P/0060976845.0...                135   \n",
      "\n",
      "   user_id        isbn  book_rating  age      city country  rating_count  \\\n",
      "0   110912  080410753X            9   36  milpitas     usa            99   \n",
      "1   110912  0060922532            8   36  milpitas     usa            96   \n",
      "2   110912  0786868716           10   36  milpitas     usa           231   \n",
      "3   110912  0671027360            9   36  milpitas     usa           274   \n",
      "4   110912  0060976845            8   36  milpitas     usa           170   \n",
      "\n",
      "                                         description  \n",
      "0     An absorbing narrative of Winnie Louie's life.  \n",
      "1                                Generic description  \n",
      "2  Eddie dies on his eighty-third birthday in a t...  \n",
      "3  A novel about a symbologist who discovers the ...  \n",
      "4  Don't miss Little Altars Everywhere, the New Y...  \n"
     ]
    }
   ],
   "source": [
    "print(df.columns)\n",
    "print(df.shape)\n",
    "print(df.info())\n",
    "print(df.head())"
   ]
  },
  {
   "cell_type": "markdown",
   "metadata": {},
   "source": [
    "# Descriptives"
   ]
  },
  {
   "cell_type": "code",
   "execution_count": 22,
   "metadata": {},
   "outputs": [
    {
     "data": {
      "text/plain": [
       "<Axes: title={'center': 'Word Count Distribution for book descriptions'}, ylabel='Frequency'>"
      ]
     },
     "execution_count": 22,
     "metadata": {},
     "output_type": "execute_result"
    },
    {
     "data": {
      "image/png": "[encoded data removed]",
      "text/plain": [
       "<Figure size 1200x800 with 1 Axes>"
      ]
     },
     "metadata": {},
     "output_type": "display_data"
    }
   ],
   "source": [
    "# Calculating the word count for book description\n",
    "df['word_count'] = df['description'].apply(lambda x: len(str(x).split()))\n",
    "# Plotting the word count\n",
    "df['word_count'].plot(\n",
    "    kind='hist',\n",
    "    bins = 50,\n",
    "    figsize = (12,8),title='Word Count Distribution for book descriptions')"
   ]
  },
  {
   "cell_type": "markdown",
   "metadata": {},
   "source": [
    "# Content-based Filtering"
   ]
  },
  {
   "cell_type": "code",
   "execution_count": 7,
   "metadata": {},
   "outputs": [
    {
     "name": "stdout",
     "output_type": "stream",
     "text": [
      "0         an absorbing narrative of winnie louie's life.\n",
      "1                                    generic description\n",
      "2      eddie dies on his eighty-third birthday in a t...\n",
      "3      a novel about a symbologist who discovers the ...\n",
      "4      don't miss little altars everywhere, the new y...\n",
      "                             ...                        \n",
      "522    british intelligence agent felicity \"flick\" cl...\n",
      "523    \"his name is connor ford and he falls like an ...\n",
      "524    popular marriage counselor and seminar leader ...\n",
      "525                                  generic description\n",
      "526    \"readers are in for the shock of kay scarpetta...\n",
      "Name: description, Length: 527, dtype: object\n"
     ]
    }
   ],
   "source": [
    "# Preprocess the description column\n",
    "df['description'] = df['description'].str.lower()  # Convert to lowercase\n",
    "df['description'] = df['description'].str.replace('[^\\w\\s]', '')  # Remove punctuation\n",
    "df['description'] = df['description'].str.replace('\\d+', '')  # Remove numbers\n",
    "df['description'] = df['description'].str.replace('\\s+', ' ')  # Remove extra whitespaces\n",
    "\n",
    "# Print the preprocessed description column\n",
    "print(df['description'])\n"
   ]
  },
  {
   "cell_type": "code",
   "execution_count": 35,
   "metadata": {},
   "outputs": [
    {
     "name": "stdout",
     "output_type": "stream",
     "text": [
      "(527, 6165)\n"
     ]
    }
   ],
   "source": [
    "# Create a TfidfVectorizer object with stop words beeing removed (i.e., 'and', 'the', 'of', etc.)\n",
    "tfidf = TfidfVectorizer(stop_words='english', max_df=0.85, min_df=0.01, ngram_range=(1, 2))\n",
    "\n",
    "# Fit and transform the description column of the dataframe\n",
    "tfidf_matrix = tfidf.fit_transform(df['description'])\n",
    "\n",
    "# Print the shape of the tfidf matrix\n",
    "print(tfidf_matrix.shape)\n"
   ]
  },
  {
   "cell_type": "code",
   "execution_count": 37,
   "metadata": {},
   "outputs": [
    {
     "name": "stdout",
     "output_type": "stream",
     "text": [
      "                                          book_title            book_author  \\\n",
      "55                                        Good Omens            Neil Gaiman   \n",
      "250                              The Mists Of Avalon  Marion Zimmer Bradley   \n",
      "38      Harry Potter And The Goblet Of Fire (Book 4)          J. K. Rowling   \n",
      "444  The Amber Spyglass (His Dark Materials, Book 3)         Philip Pullman   \n",
      "403     Face The Fire (Three Sisters Island Trilogy)           Nora Roberts   \n",
      "\n",
      "     year_of_publication                      publisher  \\\n",
      "55                  1996                      Ace Books   \n",
      "250                 1987                        Del Rey   \n",
      "38                  2000                     Scholastic   \n",
      "444                 2002  Knopf Books for Young Readers   \n",
      "403                 2002                     Jove Books   \n",
      "\n",
      "                                           image_url_m  common_identifier  \\\n",
      "55   http://images.amazon.com/images/P/0441003257.0...               1353   \n",
      "250  http://images.amazon.com/images/P/0345350499.0...               2123   \n",
      "38   http://images.amazon.com/images/P/0439139597.0...               5432   \n",
      "444  http://images.amazon.com/images/P/0375823352.0...                274   \n",
      "403  http://images.amazon.com/images/P/051513287X.0...               2785   \n",
      "\n",
      "     user_id        isbn  book_rating  age         city country  rating_count  \\\n",
      "55      6251  0441003257           10   32      wahiawa     usa            77   \n",
      "250    46398  0345350499            9   37  san antonio     usa            78   \n",
      "38    110912  0439139597           10   36     milpitas     usa           208   \n",
      "444   235105  0440418569           10   46     st louis     usa            50   \n",
      "403   200226  051513287X            6   39   burlington  canada            82   \n",
      "\n",
      "                                           description  word_count  \n",
      "55                                            fantasy.           1  \n",
      "250       fantasy. re-telling of the arthurian legend.           6  \n",
      "38   young wizard-in-training harry potter prepares...          32  \n",
      "444  his dark materials is now an hbo original seri...         319  \n",
      "403  in the conclusion to her acclaimed three siste...         211  \n"
     ]
    }
   ],
   "source": [
    "# User input\n",
    "user_input = \"fantasy with knights and magic and dragons\"\n",
    "\n",
    "# Preprocess the user input\n",
    "user_input = user_input.lower()\n",
    "user_input = re.sub('[^\\w\\s]', '', user_input)\n",
    "user_input = re.sub('\\d+', '', user_input)\n",
    "user_input = re.sub('\\s+', ' ', user_input)\n",
    "\n",
    "# Transform the user input using the tf-idf vectorizer\n",
    "user_input_tfidf = tfidf.transform([user_input])\n",
    "\n",
    "# Calculate the cosine similarity between the user input and the tf-idf matrix\n",
    "cosine_sim = cosine_similarity(user_input_tfidf, tfidf_matrix)\n",
    "\n",
    "# Get the indices of the top recommendations\n",
    "top_indices = cosine_sim.argsort()[0][-5:][::-1]\n",
    "\n",
    "# Get the top recommendations\n",
    "top_recommendations = df.iloc[top_indices]\n",
    "\n",
    "# Print the top recommendations\n",
    "print(top_recommendations)\n"
   ]
  },
  {
   "cell_type": "markdown",
   "metadata": {},
   "source": [
    "# Modelling"
   ]
  },
  {
   "cell_type": "code",
   "execution_count": 27,
   "metadata": {},
   "outputs": [],
   "source": [
    "# Train test split\n",
    "X_train, X_test, y_train, y_test = train_test_split(tfidf_matrix, df['book_rating'], test_size=0.2, random_state=RSEED)"
   ]
  },
  {
   "cell_type": "code",
   "execution_count": 33,
   "metadata": {},
   "outputs": [
    {
     "name": "stdout",
     "output_type": "stream",
     "text": [
      "Mean accuracy of the model: 0.2358490566037736\n"
     ]
    }
   ],
   "source": [
    "from sklearn.naive_bayes import MultinomialNB\n",
    "model = MultinomialNB()\n",
    "model.fit(X_train, y_train)\n",
    "\n",
    "print(f\"Mean accuracy of the model: {model.score(X_test, y_test)}\")"
   ]
  },
  {
   "cell_type": "code",
   "execution_count": 30,
   "metadata": {},
   "outputs": [
    {
     "name": "stdout",
     "output_type": "stream",
     "text": [
      "Mean Squared Error: 6.261533839044696\n"
     ]
    }
   ],
   "source": [
    "from sklearn.linear_model import LinearRegression\n",
    "from sklearn.metrics import mean_squared_error, r2_score\n",
    "# Instantiate the Linear Regression model\n",
    "regression_model = LinearRegression()\n",
    "# Train the model\n",
    "regression_model.fit(X_train, y_train)\n",
    "\n",
    "# Make predictions on the test set\n",
    "y_pred = regression_model.predict(X_test)\n",
    "\n",
    "# Evaluate the model\n",
    "mse = mean_squared_error(y_test, y_pred)\n",
    "r2 = r2_score(y_test, y_pred)\n",
    "\n",
    "print(f\"Mean Squared Error: {mse}\")"
   ]
  },
  {
   "cell_type": "markdown",
   "metadata": {},
   "source": [
    "# Predict Genres"
   ]
  },
  {
   "cell_type": "code",
   "execution_count": 44,
   "metadata": {},
   "outputs": [
    {
     "ename": "ValueError",
     "evalue": "Could not load model leireher/BookGenrePredictionDBERT with any of the following classes: (<class 'transformers.models.auto.modeling_tf_auto.TFAutoModelForSequenceClassification'>, <class 'transformers.models.distilbert.modeling_tf_distilbert.TFDistilBertForSequenceClassification'>).",
     "output_type": "error",
     "traceback": [
      "\u001b[0;31m---------------------------------------------------------------------------\u001b[0m",
      "\u001b[0;31mValueError\u001b[0m                                Traceback (most recent call last)",
      "\u001b[1;32mUntitled-1.ipynb Zelle 16\u001b[0m line \u001b[0;36m4\n\u001b[1;32m      <a href='vscode-notebook-cell:Untitled-1.ipynb?jupyter-notebook#X32sdW50aXRsZWQ%3D?line=0'>1</a>\u001b[0m \u001b[39mfrom\u001b[39;00m \u001b[39mtransformers\u001b[39;00m \u001b[39mimport\u001b[39;00m pipeline\n\u001b[1;32m      <a href='vscode-notebook-cell:Untitled-1.ipynb?jupyter-notebook#X32sdW50aXRsZWQ%3D?line=2'>3</a>\u001b[0m \u001b[39m# Create a text classification pipeline using the pretrained model\u001b[39;00m\n\u001b[0;32m----> <a href='vscode-notebook-cell:Untitled-1.ipynb?jupyter-notebook#X32sdW50aXRsZWQ%3D?line=3'>4</a>\u001b[0m classifier \u001b[39m=\u001b[39m pipeline(\u001b[39m\"\u001b[39;49m\u001b[39mtext-classification\u001b[39;49m\u001b[39m\"\u001b[39;49m, model\u001b[39m=\u001b[39;49m\u001b[39m\"\u001b[39;49m\u001b[39mleireher/BookGenrePredictionDBERT\u001b[39;49m\u001b[39m\"\u001b[39;49m)\n",
      "File \u001b[0;32m~/bootcamp/book-oracle/.venv/lib/python3.11/site-packages/transformers/pipelines/__init__.py:788\u001b[0m, in \u001b[0;36mpipeline\u001b[0;34m(task, model, config, tokenizer, feature_extractor, image_processor, framework, revision, use_fast, use_auth_token, device, device_map, torch_dtype, trust_remote_code, model_kwargs, pipeline_class, **kwargs)\u001b[0m\n\u001b[1;32m    784\u001b[0m \u001b[39m# Infer the framework from the model\u001b[39;00m\n\u001b[1;32m    785\u001b[0m \u001b[39m# Forced if framework already defined, inferred if it's None\u001b[39;00m\n\u001b[1;32m    786\u001b[0m \u001b[39m# Will load the correct model if possible\u001b[39;00m\n\u001b[1;32m    787\u001b[0m model_classes \u001b[39m=\u001b[39m {\u001b[39m\"\u001b[39m\u001b[39mtf\u001b[39m\u001b[39m\"\u001b[39m: targeted_task[\u001b[39m\"\u001b[39m\u001b[39mtf\u001b[39m\u001b[39m\"\u001b[39m], \u001b[39m\"\u001b[39m\u001b[39mpt\u001b[39m\u001b[39m\"\u001b[39m: targeted_task[\u001b[39m\"\u001b[39m\u001b[39mpt\u001b[39m\u001b[39m\"\u001b[39m]}\n\u001b[0;32m--> 788\u001b[0m framework, model \u001b[39m=\u001b[39m infer_framework_load_model(\n\u001b[1;32m    789\u001b[0m     model,\n\u001b[1;32m    790\u001b[0m     model_classes\u001b[39m=\u001b[39;49mmodel_classes,\n\u001b[1;32m    791\u001b[0m     config\u001b[39m=\u001b[39;49mconfig,\n\u001b[1;32m    792\u001b[0m     framework\u001b[39m=\u001b[39;49mframework,\n\u001b[1;32m    793\u001b[0m     task\u001b[39m=\u001b[39;49mtask,\n\u001b[1;32m    794\u001b[0m     \u001b[39m*\u001b[39;49m\u001b[39m*\u001b[39;49mhub_kwargs,\n\u001b[1;32m    795\u001b[0m     \u001b[39m*\u001b[39;49m\u001b[39m*\u001b[39;49mmodel_kwargs,\n\u001b[1;32m    796\u001b[0m )\n\u001b[1;32m    798\u001b[0m model_config \u001b[39m=\u001b[39m model\u001b[39m.\u001b[39mconfig\n\u001b[1;32m    799\u001b[0m hub_kwargs[\u001b[39m\"\u001b[39m\u001b[39m_commit_hash\u001b[39m\u001b[39m\"\u001b[39m] \u001b[39m=\u001b[39m model\u001b[39m.\u001b[39mconfig\u001b[39m.\u001b[39m_commit_hash\n",
      "File \u001b[0;32m~/bootcamp/book-oracle/.venv/lib/python3.11/site-packages/transformers/pipelines/base.py:278\u001b[0m, in \u001b[0;36minfer_framework_load_model\u001b[0;34m(model, config, model_classes, task, framework, **model_kwargs)\u001b[0m\n\u001b[1;32m    275\u001b[0m             \u001b[39mcontinue\u001b[39;00m\n\u001b[1;32m    277\u001b[0m     \u001b[39mif\u001b[39;00m \u001b[39misinstance\u001b[39m(model, \u001b[39mstr\u001b[39m):\n\u001b[0;32m--> 278\u001b[0m         \u001b[39mraise\u001b[39;00m \u001b[39mValueError\u001b[39;00m(\u001b[39mf\u001b[39m\u001b[39m\"\u001b[39m\u001b[39mCould not load model \u001b[39m\u001b[39m{\u001b[39;00mmodel\u001b[39m}\u001b[39;00m\u001b[39m with any of the following classes: \u001b[39m\u001b[39m{\u001b[39;00mclass_tuple\u001b[39m}\u001b[39;00m\u001b[39m.\u001b[39m\u001b[39m\"\u001b[39m)\n\u001b[1;32m    280\u001b[0m framework \u001b[39m=\u001b[39m infer_framework(model\u001b[39m.\u001b[39m\u001b[39m__class__\u001b[39m)\n\u001b[1;32m    281\u001b[0m \u001b[39mreturn\u001b[39;00m framework, model\n",
      "\u001b[0;31mValueError\u001b[0m: Could not load model leireher/BookGenrePredictionDBERT with any of the following classes: (<class 'transformers.models.auto.modeling_tf_auto.TFAutoModelForSequenceClassification'>, <class 'transformers.models.distilbert.modeling_tf_distilbert.TFDistilBertForSequenceClassification'>)."
     ]
    }
   ],
   "source": [
    "from transformers import pipeline\n",
    "\n",
    "# Create a text classification pipeline using the pretrained model\n",
    "classifier = pipeline(\"text-classification\", model=\"leireher/BookGenrePredictionDBERT\")\n"
   ]
  },
  {
   "cell_type": "code",
   "execution_count": 1,
   "metadata": {},
   "outputs": [
    {
     "data": {
      "application/vnd.jupyter.widget-view+json": {
       "model_id": "0944cb93f3084bd3b62d479ac76c1dd3",
       "version_major": 2,
       "version_minor": 0
      },
      "text/plain": [
       "pytorch_model.bin:   0%|          | 0.00/268M [00:00<?, ?B/s]"
      ]
     },
     "metadata": {},
     "output_type": "display_data"
    },
    {
     "data": {
      "application/vnd.jupyter.widget-view+json": {
       "model_id": "2ca46dd6a8fe404ca1bc8f51389b9394",
       "version_major": 2,
       "version_minor": 0
      },
      "text/plain": [
       "tokenizer_config.json:   0%|          | 0.00/321 [00:00<?, ?B/s]"
      ]
     },
     "metadata": {},
     "output_type": "display_data"
    },
    {
     "data": {
      "application/vnd.jupyter.widget-view+json": {
       "model_id": "66518b9e3477413f9b42db524b9093e1",
       "version_major": 2,
       "version_minor": 0
      },
      "text/plain": [
       "vocab.txt:   0%|          | 0.00/213k [00:00<?, ?B/s]"
      ]
     },
     "metadata": {},
     "output_type": "display_data"
    },
    {
     "data": {
      "application/vnd.jupyter.widget-view+json": {
       "model_id": "eea7ee963e1c4f2ead1758360d6f028b",
       "version_major": 2,
       "version_minor": 0
      },
      "text/plain": [
       "tokenizer.json:   0%|          | 0.00/669k [00:00<?, ?B/s]"
      ]
     },
     "metadata": {},
     "output_type": "display_data"
    },
    {
     "data": {
      "application/vnd.jupyter.widget-view+json": {
       "model_id": "53d78398ecd948218322488013f8ce01",
       "version_major": 2,
       "version_minor": 0
      },
      "text/plain": [
       "special_tokens_map.json:   0%|          | 0.00/125 [00:00<?, ?B/s]"
      ]
     },
     "metadata": {},
     "output_type": "display_data"
    },
    {
     "name": "stderr",
     "output_type": "stream",
     "text": [
      "Xformers is not installed correctly. If you want to use memory_efficient_attention to accelerate training use the following command to install Xformers\n",
      "pip install xformers.\n"
     ]
    }
   ],
   "source": [
    "# Use a pipeline as a high-level helper\n",
    "from transformers import pipeline\n",
    "\n",
    "pipe = pipeline(\"text-classification\", model=\"leireher/BookGenrePredictionDBERT\")\n",
    "# Load model directly\n",
    "from transformers import AutoTokenizer, AutoModelForSequenceClassification\n",
    "\n",
    "tokenizer = AutoTokenizer.from_pretrained(\"leireher/BookGenrePredictionDBERT\")\n",
    "model = AutoModelForSequenceClassification.from_pretrained(\"leireher/BookGenrePredictionDBERT\")"
   ]
  },
  {
   "cell_type": "code",
   "execution_count": 7,
   "metadata": {},
   "outputs": [
    {
     "ename": "NameError",
     "evalue": "name 'classifier' is not defined",
     "output_type": "error",
     "traceback": [
      "\u001b[0;31m---------------------------------------------------------------------------\u001b[0m",
      "\u001b[0;31mNameError\u001b[0m                                 Traceback (most recent call last)",
      "\u001b[1;32mUntitled-1.ipynb Zelle 18\u001b[0m line \u001b[0;36m3\n\u001b[1;32m      <a href='vscode-notebook-cell:Untitled-1.ipynb?jupyter-notebook#X25sdW50aXRsZWQ%3D?line=0'>1</a>\u001b[0m \u001b[39m# Get genre classification for book recommendations\u001b[39;00m\n\u001b[1;32m      <a href='vscode-notebook-cell:Untitled-1.ipynb?jupyter-notebook#X25sdW50aXRsZWQ%3D?line=1'>2</a>\u001b[0m book_recommendations \u001b[39m=\u001b[39m df[\u001b[39m'\u001b[39m\u001b[39mbook_title\u001b[39m\u001b[39m'\u001b[39m]\u001b[39m.\u001b[39mtolist()\n\u001b[0;32m----> <a href='vscode-notebook-cell:Untitled-1.ipynb?jupyter-notebook#X25sdW50aXRsZWQ%3D?line=2'>3</a>\u001b[0m genre_classification \u001b[39m=\u001b[39m classifier(book_recommendations)\n\u001b[1;32m      <a href='vscode-notebook-cell:Untitled-1.ipynb?jupyter-notebook#X25sdW50aXRsZWQ%3D?line=4'>5</a>\u001b[0m \u001b[39m# Print the genre classification\u001b[39;00m\n\u001b[1;32m      <a href='vscode-notebook-cell:Untitled-1.ipynb?jupyter-notebook#X25sdW50aXRsZWQ%3D?line=5'>6</a>\u001b[0m \u001b[39mprint\u001b[39m(genre_classification)\n",
      "\u001b[0;31mNameError\u001b[0m: name 'classifier' is not defined"
     ]
    }
   ],
   "source": [
    "# Get genre classification for book recommendations\n",
    "book_recommendations = df['book_title'].tolist()\n",
    "genre_classification = classifier(book_recommendations)\n",
    "\n",
    "# Print the genre classification\n",
    "print(genre_classification)\n"
   ]
  }
 ],
 "metadata": {
  "kernelspec": {
   "display_name": ".venv",
   "language": "python",
   "name": "python3"
  },
  "language_info": {
   "codemirror_mode": {
    "name": "ipython",
    "version": 3
   },
   "file_extension": ".py",
   "mimetype": "text/x-python",
   "name": "python",
   "nbconvert_exporter": "python",
   "pygments_lexer": "ipython3",
   "version": "3.11.3"
  }
 },
 "nbformat": 4,
 "nbformat_minor": 2
}
