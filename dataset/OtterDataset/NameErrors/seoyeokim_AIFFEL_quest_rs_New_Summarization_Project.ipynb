{
 "cells": [
  {
   "cell_type": "markdown",
   "id": "3f7b7083",
   "metadata": {},
   "source": [
    "# 프로젝트: 뉴스기사 요약해보기"
   ]
  },
  {
   "cell_type": "markdown",
   "id": "03894322",
   "metadata": {},
   "source": [
    "### 라이브러리 버전 확인"
   ]
  },
  {
   "cell_type": "code",
   "execution_count": 1,
   "id": "1b1607f4",
   "metadata": {},
   "outputs": [
    {
     "name": "stdout",
     "output_type": "stream",
     "text": [
      "3.6.5\n",
      "2.6.0\n",
      "1.3.3\n",
      "1.2.0\n"
     ]
    }
   ],
   "source": [
    "from importlib.metadata import version\n",
    "import nltk\n",
    "import tensorflow\n",
    "import summa\n",
    "import pandas as pd\n",
    "\n",
    "print(nltk.__version__)\n",
    "print(tensorflow.__version__)\n",
    "print(pd.__version__)\n",
    "print(version('summa'))"
   ]
  },
  {
   "cell_type": "code",
   "execution_count": 2,
   "id": "f876748e",
   "metadata": {},
   "outputs": [],
   "source": [
    "import numpy as np\n",
    "import pandas as pd\n",
    "import os\n",
    "import re\n",
    "import matplotlib.pyplot as plt\n",
    "from nltk.corpus import stopwords\n",
    "from bs4 import BeautifulSoup \n",
    "from tensorflow.keras.preprocessing.text import Tokenizer \n",
    "from tensorflow.keras.preprocessing.sequence import pad_sequences\n",
    "import urllib.request\n",
    "import warnings\n",
    "warnings.filterwarnings(\"ignore\", category=UserWarning, module='bs4')"
   ]
  },
  {
   "cell_type": "markdown",
   "id": "b0c1af6c",
   "metadata": {},
   "source": [
    "### 데이터 수집"
   ]
  },
  {
   "cell_type": "code",
   "execution_count": 2,
   "id": "7cbfe7f6",
   "metadata": {},
   "outputs": [],
   "source": [
    "import urllib.request\n",
    "urllib.request.urlretrieve(\"https://raw.githubusercontent.com/sunnysai12345/News_Summary/master/news_summary_more.csv\", filename=\"news_summary_more.csv\")\n",
    "data = pd.read_csv('news_summary_more.csv', encoding='iso-8859-1')"
   ]
  },
  {
   "cell_type": "code",
   "execution_count": 5,
   "id": "37b65755",
   "metadata": {
    "scrolled": true
   },
   "outputs": [
    {
     "data": {
      "text/html": [
       "<div>\n",
       "<style scoped>\n",
       "    .dataframe tbody tr th:only-of-type {\n",
       "        vertical-align: middle;\n",
       "    }\n",
       "\n",
       "    .dataframe tbody tr th {\n",
       "        vertical-align: top;\n",
       "    }\n",
       "\n",
       "    .dataframe thead th {\n",
       "        text-align: right;\n",
       "    }\n",
       "</style>\n",
       "<table border=\"1\" class=\"dataframe\">\n",
       "  <thead>\n",
       "    <tr style=\"text-align: right;\">\n",
       "      <th></th>\n",
       "      <th>headlines</th>\n",
       "      <th>text</th>\n",
       "    </tr>\n",
       "  </thead>\n",
       "  <tbody>\n",
       "    <tr>\n",
       "      <th>32280</th>\n",
       "      <td>FIR against RJD MP's college for altering Indi...</td>\n",
       "      <td>A case has been registered against a college o...</td>\n",
       "    </tr>\n",
       "    <tr>\n",
       "      <th>49970</th>\n",
       "      <td>Moment of match, tweets user on Pak player tyi...</td>\n",
       "      <td>Reacting to a Pakistani player tying shoelaces...</td>\n",
       "    </tr>\n",
       "    <tr>\n",
       "      <th>76302</th>\n",
       "      <td>RR's ex-owner Raj Kundra launches Indian Poker...</td>\n",
       "      <td>Indian Premier League side Rajasthan Royals' f...</td>\n",
       "    </tr>\n",
       "    <tr>\n",
       "      <th>67437</th>\n",
       "      <td>Flipkart's Klick2Shop puts $97.9 mn in logisti...</td>\n",
       "      <td>E-commerce major Flipkart's logistics arm Ekar...</td>\n",
       "    </tr>\n",
       "    <tr>\n",
       "      <th>48077</th>\n",
       "      <td>Nusrat's Sanu Ek Pal Chain song recreated for ...</td>\n",
       "      <td>Late singer Nusrat Fateh Ali Khan's song 'Sanu...</td>\n",
       "    </tr>\n",
       "    <tr>\n",
       "      <th>35700</th>\n",
       "      <td>Sridevi was Super Wife, Super Mom, says family...</td>\n",
       "      <td>Reacting to late actress Sridevi's win at the ...</td>\n",
       "    </tr>\n",
       "    <tr>\n",
       "      <th>85673</th>\n",
       "      <td>Airline sends man a car part after losing his ...</td>\n",
       "      <td>A passenger was sent a Toyota Motors car part ...</td>\n",
       "    </tr>\n",
       "    <tr>\n",
       "      <th>42165</th>\n",
       "      <td>India's oldest city to go wireless 86yrs after...</td>\n",
       "      <td>The overhead cables in India's oldest city, Va...</td>\n",
       "    </tr>\n",
       "    <tr>\n",
       "      <th>36944</th>\n",
       "      <td>Pakistani Taliban confirms chief's death, appo...</td>\n",
       "      <td>Confirming the death of its leader Mullah Fazl...</td>\n",
       "    </tr>\n",
       "    <tr>\n",
       "      <th>66325</th>\n",
       "      <td>Let men, women carry pregnancy for 4.5 months ...</td>\n",
       "      <td>Jamiat-e-Ulema Secretary Gulzar Azmi on Tuesda...</td>\n",
       "    </tr>\n",
       "  </tbody>\n",
       "</table>\n",
       "</div>"
      ],
      "text/plain": [
       "                                               headlines  \\\n",
       "32280  FIR against RJD MP's college for altering Indi...   \n",
       "49970  Moment of match, tweets user on Pak player tyi...   \n",
       "76302  RR's ex-owner Raj Kundra launches Indian Poker...   \n",
       "67437  Flipkart's Klick2Shop puts $97.9 mn in logisti...   \n",
       "48077  Nusrat's Sanu Ek Pal Chain song recreated for ...   \n",
       "35700  Sridevi was Super Wife, Super Mom, says family...   \n",
       "85673  Airline sends man a car part after losing his ...   \n",
       "42165  India's oldest city to go wireless 86yrs after...   \n",
       "36944  Pakistani Taliban confirms chief's death, appo...   \n",
       "66325  Let men, women carry pregnancy for 4.5 months ...   \n",
       "\n",
       "                                                    text  \n",
       "32280  A case has been registered against a college o...  \n",
       "49970  Reacting to a Pakistani player tying shoelaces...  \n",
       "76302  Indian Premier League side Rajasthan Royals' f...  \n",
       "67437  E-commerce major Flipkart's logistics arm Ekar...  \n",
       "48077  Late singer Nusrat Fateh Ali Khan's song 'Sanu...  \n",
       "35700  Reacting to late actress Sridevi's win at the ...  \n",
       "85673  A passenger was sent a Toyota Motors car part ...  \n",
       "42165  The overhead cables in India's oldest city, Va...  \n",
       "36944  Confirming the death of its leader Mullah Fazl...  \n",
       "66325  Jamiat-e-Ulema Secretary Gulzar Azmi on Tuesda...  "
      ]
     },
     "execution_count": 5,
     "metadata": {},
     "output_type": "execute_result"
    }
   ],
   "source": [
    "# 데이터 확인\n",
    "\n",
    "data.sample(10)"
   ]
  },
  {
   "cell_type": "code",
   "execution_count": 6,
   "id": "500a189c",
   "metadata": {},
   "outputs": [
    {
     "name": "stdout",
     "output_type": "stream",
     "text": [
      "98401\n"
     ]
    }
   ],
   "source": [
    "print(len(data))"
   ]
  },
  {
   "cell_type": "markdown",
   "id": "5daea791",
   "metadata": {},
   "source": [
    "### 데이터 확인  \n",
    "\n",
    "기사의 본문에 해당되는 text와 headlines 두 가지 열로 구성  \n",
    "\n",
    "추상적 요약을 하는 경우에는 text를 본문, headlines를 이미 요약된 데이터로 삼아서 모델을 학습할 수 있어요. 추출적 요약을 하는 경우에는 오직 text열만을 사용"
   ]
  },
  {
   "cell_type": "markdown",
   "id": "47457b6f",
   "metadata": {},
   "source": [
    "### 데이터 전처리"
   ]
  },
  {
   "cell_type": "markdown",
   "id": "38a25999",
   "metadata": {},
   "source": [
    "1. 불용어 사전"
   ]
  },
  {
   "cell_type": "code",
   "execution_count": 7,
   "id": "8b48dcfd",
   "metadata": {
    "scrolled": true
   },
   "outputs": [
    {
     "name": "stderr",
     "output_type": "stream",
     "text": [
      "[nltk_data] Downloading package stopwords to /aiffel/nltk_data...\n",
      "[nltk_data]   Unzipping corpora/stopwords.zip.\n"
     ]
    },
    {
     "data": {
      "text/plain": [
       "True"
      ]
     },
     "execution_count": 7,
     "metadata": {},
     "output_type": "execute_result"
    }
   ],
   "source": [
    "# 불용어 사전 다운로드\n",
    "\n",
    "import nltk\n",
    "nltk.download('stopwords')"
   ]
  },
  {
   "cell_type": "markdown",
   "id": "2df20342",
   "metadata": {},
   "source": [
    "2. 정규화 사전 준비"
   ]
  },
  {
   "cell_type": "code",
   "execution_count": 14,
   "id": "7ea12899",
   "metadata": {},
   "outputs": [
    {
     "name": "stdout",
     "output_type": "stream",
     "text": [
      "정규화 사전의 수:  120\n"
     ]
    }
   ],
   "source": [
    "# 정규화 사전 준비\n",
    "\n",
    "contractions = {\"ain't\": \"is not\", \"aren't\": \"are not\",\"can't\": \"cannot\", \"'cause\": \"because\", \"could've\": \"could have\", \"couldn't\": \"could not\",\n",
    "                           \"didn't\": \"did not\",  \"doesn't\": \"does not\", \"don't\": \"do not\", \"hadn't\": \"had not\", \"hasn't\": \"has not\", \"haven't\": \"have not\",\n",
    "                           \"he'd\": \"he would\",\"he'll\": \"he will\", \"he's\": \"he is\", \"how'd\": \"how did\", \"how'd'y\": \"how do you\", \"how'll\": \"how will\", \"how's\": \"how is\",\n",
    "                           \"I'd\": \"I would\", \"I'd've\": \"I would have\", \"I'll\": \"I will\", \"I'll've\": \"I will have\",\"I'm\": \"I am\", \"I've\": \"I have\", \"i'd\": \"i would\",\n",
    "                           \"i'd've\": \"i would have\", \"i'll\": \"i will\",  \"i'll've\": \"i will have\",\"i'm\": \"i am\", \"i've\": \"i have\", \"isn't\": \"is not\", \"it'd\": \"it would\",\n",
    "                           \"it'd've\": \"it would have\", \"it'll\": \"it will\", \"it'll've\": \"it will have\",\"it's\": \"it is\", \"let's\": \"let us\", \"ma'am\": \"madam\",\n",
    "                           \"mayn't\": \"may not\", \"might've\": \"might have\",\"mightn't\": \"might not\",\"mightn't've\": \"might not have\", \"must've\": \"must have\",\n",
    "                           \"mustn't\": \"must not\", \"mustn't've\": \"must not have\", \"needn't\": \"need not\", \"needn't've\": \"need not have\",\"o'clock\": \"of the clock\",\n",
    "                           \"oughtn't\": \"ought not\", \"oughtn't've\": \"ought not have\", \"shan't\": \"shall not\", \"sha'n't\": \"shall not\", \"shan't've\": \"shall not have\",\n",
    "                           \"she'd\": \"she would\", \"she'd've\": \"she would have\", \"she'll\": \"she will\", \"she'll've\": \"she will have\", \"she's\": \"she is\",\n",
    "                           \"should've\": \"should have\", \"shouldn't\": \"should not\", \"shouldn't've\": \"should not have\", \"so've\": \"so have\",\"so's\": \"so as\",\n",
    "                           \"this's\": \"this is\",\"that'd\": \"that would\", \"that'd've\": \"that would have\", \"that's\": \"that is\", \"there'd\": \"there would\",\n",
    "                           \"there'd've\": \"there would have\", \"there's\": \"there is\", \"here's\": \"here is\",\"they'd\": \"they would\", \"they'd've\": \"they would have\",\n",
    "                           \"they'll\": \"they will\", \"they'll've\": \"they will have\", \"they're\": \"they are\", \"they've\": \"they have\", \"to've\": \"to have\",\n",
    "                           \"wasn't\": \"was not\", \"we'd\": \"we would\", \"we'd've\": \"we would have\", \"we'll\": \"we will\", \"we'll've\": \"we will have\", \"we're\": \"we are\",\n",
    "                           \"we've\": \"we have\", \"weren't\": \"were not\", \"what'll\": \"what will\", \"what'll've\": \"what will have\", \"what're\": \"what are\",\n",
    "                           \"what's\": \"what is\", \"what've\": \"what have\", \"when's\": \"when is\", \"when've\": \"when have\", \"where'd\": \"where did\", \"where's\": \"where is\",\n",
    "                           \"where've\": \"where have\", \"who'll\": \"who will\", \"who'll've\": \"who will have\", \"who's\": \"who is\", \"who've\": \"who have\",\n",
    "                           \"why's\": \"why is\", \"why've\": \"why have\", \"will've\": \"will have\", \"won't\": \"will not\", \"won't've\": \"will not have\",\n",
    "                           \"would've\": \"would have\", \"wouldn't\": \"would not\", \"wouldn't've\": \"would not have\", \"y'all\": \"you all\",\n",
    "                           \"y'all'd\": \"you all would\",\"y'all'd've\": \"you all would have\",\"y'all're\": \"you all are\",\"y'all've\": \"you all have\",\n",
    "                           \"you'd\": \"you would\", \"you'd've\": \"you would have\", \"you'll\": \"you will\", \"you'll've\": \"you will have\",\n",
    "                           \"you're\": \"you are\", \"you've\": \"you have\"}\n",
    "\n",
    "print(\"정규화 사전의 수: \", len(contractions))"
   ]
  },
  {
   "cell_type": "code",
   "execution_count": 15,
   "id": "a25a37ab",
   "metadata": {},
   "outputs": [],
   "source": [
    "# 데이터 전처리 함수 (summary에는 적용하지 않음)\n",
    "def preprocess_sentence(sentence, remove_stopwords=True):\n",
    "    sentence = sentence.lower() # 텍스트 소문자화\n",
    "    sentence = BeautifulSoup(sentence, \"lxml\").text # <br />, <a href = ...> 등의 html 태그 제거\n",
    "    sentence = re.sub(r'\\([^)]*\\)', '', sentence) # 괄호로 닫힌 문자열 (...) 제거 Ex) my husband (and myself!) for => my husband for\n",
    "    sentence = re.sub('\"','', sentence) # 쌍따옴표 \" 제거\n",
    "    sentence = ' '.join([contractions[t] if t in contractions else t for t in sentence.split(\" \")]) # 약어 정규화\n",
    "    sentence = re.sub(r\"'s\\b\",\"\", sentence) # 소유격 제거. Ex) roland's -> roland\n",
    "    sentence = re.sub(\"[^a-zA-Z]\", \" \", sentence) # 영어 외 문자(숫자, 특수문자 등) 공백으로 변환\n",
    "    sentence = re.sub('[m]{2,}', 'mm', sentence) # m이 3개 이상이면 2개로 변경. Ex) ummmmmmm yeah -> umm yeah\n",
    "    \n",
    "    # 불용어 제거 (Text)\n",
    "    if remove_stopwords:\n",
    "        tokens = ' '.join(word for word in sentence.split() if not word in stopwords.words('english') if len(word) > 1)\n",
    "    # 불용어 미제거 (Summary)\n",
    "    else:\n",
    "        tokens = ' '.join(word for word in sentence.split() if len(word) > 1)\n",
    "    return tokens"
   ]
  },
  {
   "cell_type": "code",
   "execution_count": 16,
   "id": "a5a29620",
   "metadata": {},
   "outputs": [
    {
     "name": "stdout",
     "output_type": "stream",
     "text": [
      "Text 전처리 후 결과:  ['saurav kant alumnus upgrad iiit pg program machine learning artificial intelligence sr systems engineer infosys almost years work experience program upgrad degree career support helped transition data scientist tech mahindra salary hike upgrad online power learning powered lakh careers', 'kunal shah credit card bill payment platform cred gave users chance win free food swiggy one year pranav kaushik delhi techie bagged reward spending cred coins users get one cred coin per rupee bill paid used avail rewards brands like ixigo bookmyshow ubereats cult fit', 'new zealand defeated india wickets fourth odi hamilton thursday win first match five match odi series india lost international match rohit sharma captaincy consecutive victories dating back march match witnessed india getting seventh lowest total odi cricket history', 'aegon life iterm insurance plan customers enjoy tax benefits premiums paid save taxes plan provides life cover age years also customers options insure critical illnesses disability accidental death benefit rider life cover age years', 'speaking sexual harassment allegations rajkumar hirani sonam kapoor said known hirani many years true metoo movement get derailed metoo movement always believe woman case need reserve judgment added hirani accused assistant worked sanju']\n"
     ]
    }
   ],
   "source": [
    "# text와 summary 전처리\n",
    "\n",
    "# 전체 Text 데이터에 대한 전처리 : 10분 이상 시간이 걸릴 수 있습니다. \n",
    "clean_text = []\n",
    "\n",
    "for text in data[\"text\"]:\n",
    "    clean_text.append(preprocess_sentence(text))\n",
    "\n",
    "# 전처리 후 출력\n",
    "print(\"Text 전처리 후 결과: \", clean_text[:5])"
   ]
  },
  {
   "cell_type": "code",
   "execution_count": 17,
   "id": "f41523ff",
   "metadata": {},
   "outputs": [
    {
     "ename": "NameError",
     "evalue": "name 'clean_headline' is not defined",
     "output_type": "error",
     "traceback": [
      "\u001b[0;31m---------------------------------------------------------------------------\u001b[0m",
      "\u001b[0;31mNameError\u001b[0m                                 Traceback (most recent call last)",
      "\u001b[0;32m/tmp/ipykernel_31/2380695800.py\u001b[0m in \u001b[0;36m<module>\u001b[0;34m\u001b[0m\n\u001b[1;32m      5\u001b[0m     \u001b[0mclean_headlines\u001b[0m\u001b[0;34m.\u001b[0m\u001b[0mappend\u001b[0m\u001b[0;34m(\u001b[0m\u001b[0mpreprocess_sentence\u001b[0m\u001b[0;34m(\u001b[0m\u001b[0mheadline\u001b[0m\u001b[0;34m)\u001b[0m\u001b[0;34m)\u001b[0m\u001b[0;34m\u001b[0m\u001b[0;34m\u001b[0m\u001b[0m\n\u001b[1;32m      6\u001b[0m \u001b[0;34m\u001b[0m\u001b[0m\n\u001b[0;32m----> 7\u001b[0;31m \u001b[0mprint\u001b[0m\u001b[0;34m(\u001b[0m\u001b[0;34m\"Summary 전처리 후 결과: \"\u001b[0m\u001b[0;34m,\u001b[0m \u001b[0mclean_headline\u001b[0m\u001b[0;34m[\u001b[0m\u001b[0;34m:\u001b[0m\u001b[0;36m5\u001b[0m\u001b[0;34m]\u001b[0m\u001b[0;34m)\u001b[0m\u001b[0;34m\u001b[0m\u001b[0;34m\u001b[0m\u001b[0m\n\u001b[0m",
      "\u001b[0;31mNameError\u001b[0m: name 'clean_headline' is not defined"
     ]
    }
   ],
   "source": [
    "# 전체 Summary 데이터에 대한 전처리 : 5분 이상 시간이 걸릴 수 있습니다. \n",
    "clean_headlines = []\n",
    "\n",
    "for headline in data[\"headlines\"]:\n",
    "    clean_headlines.append(preprocess_sentence(headline))"
   ]
  },
  {
   "cell_type": "markdown",
   "id": "ab4bceaf",
   "metadata": {},
   "source": [
    "print문에서 오류났기 때문에 다음 코드로 넘겨서 진행 (시간 이슈..)"
   ]
  },
  {
   "cell_type": "code",
   "execution_count": 18,
   "id": "877cd30d",
   "metadata": {},
   "outputs": [
    {
     "name": "stdout",
     "output_type": "stream",
     "text": [
      "healines 전처리 후 결과:  ['upgrad learner switches career ml al salary hike', 'delhi techie wins free food swiggy one year cred', 'new zealand end rohit sharma led india match winning streak', 'aegon life iterm insurance plan helps customers save tax', 'known hirani yrs metoo claims true sonam']\n"
     ]
    }
   ],
   "source": [
    "print(\"healines 전처리 후 결과: \", clean_headlines[:5]) "
   ]
  },
  {
   "cell_type": "code",
   "execution_count": 19,
   "id": "c9b3fd1c",
   "metadata": {},
   "outputs": [
    {
     "name": "stdout",
     "output_type": "stream",
     "text": [
      "98401\n",
      "98401\n"
     ]
    }
   ],
   "source": [
    "# 데이터 확인\n",
    "\n",
    "print(len(clean_text))\n",
    "print(len(clean_headlines))"
   ]
  },
  {
   "cell_type": "code",
   "execution_count": 22,
   "id": "62067d28",
   "metadata": {},
   "outputs": [
    {
     "data": {
      "text/html": [
       "<div>\n",
       "<style scoped>\n",
       "    .dataframe tbody tr th:only-of-type {\n",
       "        vertical-align: middle;\n",
       "    }\n",
       "\n",
       "    .dataframe tbody tr th {\n",
       "        vertical-align: top;\n",
       "    }\n",
       "\n",
       "    .dataframe thead th {\n",
       "        text-align: right;\n",
       "    }\n",
       "</style>\n",
       "<table border=\"1\" class=\"dataframe\">\n",
       "  <thead>\n",
       "    <tr style=\"text-align: right;\">\n",
       "      <th></th>\n",
       "      <th>headlines</th>\n",
       "      <th>text</th>\n",
       "    </tr>\n",
       "  </thead>\n",
       "  <tbody>\n",
       "    <tr>\n",
       "      <th>0</th>\n",
       "      <td>upgrad learner switches career ml al salary hike</td>\n",
       "      <td>saurav kant alumnus upgrad iiit pg program mac...</td>\n",
       "    </tr>\n",
       "    <tr>\n",
       "      <th>1</th>\n",
       "      <td>delhi techie wins free food swiggy one year cred</td>\n",
       "      <td>kunal shah credit card bill payment platform c...</td>\n",
       "    </tr>\n",
       "    <tr>\n",
       "      <th>2</th>\n",
       "      <td>new zealand end rohit sharma led india match w...</td>\n",
       "      <td>new zealand defeated india wickets fourth odi ...</td>\n",
       "    </tr>\n",
       "    <tr>\n",
       "      <th>3</th>\n",
       "      <td>aegon life iterm insurance plan helps customer...</td>\n",
       "      <td>aegon life iterm insurance plan customers enjo...</td>\n",
       "    </tr>\n",
       "    <tr>\n",
       "      <th>4</th>\n",
       "      <td>known hirani yrs metoo claims true sonam</td>\n",
       "      <td>speaking sexual harassment allegations rajkuma...</td>\n",
       "    </tr>\n",
       "  </tbody>\n",
       "</table>\n",
       "</div>"
      ],
      "text/plain": [
       "                                           headlines  \\\n",
       "0   upgrad learner switches career ml al salary hike   \n",
       "1   delhi techie wins free food swiggy one year cred   \n",
       "2  new zealand end rohit sharma led india match w...   \n",
       "3  aegon life iterm insurance plan helps customer...   \n",
       "4           known hirani yrs metoo claims true sonam   \n",
       "\n",
       "                                                text  \n",
       "0  saurav kant alumnus upgrad iiit pg program mac...  \n",
       "1  kunal shah credit card bill payment platform c...  \n",
       "2  new zealand defeated india wickets fourth odi ...  \n",
       "3  aegon life iterm insurance plan customers enjo...  \n",
       "4  speaking sexual harassment allegations rajkuma...  "
      ]
     },
     "execution_count": 22,
     "metadata": {},
     "output_type": "execute_result"
    }
   ],
   "source": [
    "data['text'] = clean_text\n",
    "data['headlines'] = clean_headlines\n",
    "\n",
    "data.head()"
   ]
  },
  {
   "cell_type": "code",
   "execution_count": 23,
   "id": "47aad34a",
   "metadata": {},
   "outputs": [
    {
     "name": "stdout",
     "output_type": "stream",
     "text": [
      "전체 샘플수 : 98401\n"
     ]
    }
   ],
   "source": [
    "# 빈 값을 Null 값으로 변환\n",
    "data.replace('', np.nan, inplace=True)\n",
    "\n",
    "# 결측치 전처리 하기\n",
    "data.isnull().sum()\n",
    "data.dropna(axis=0, inplace=True)\n",
    "print('전체 샘플수 :', (len(data)))"
   ]
  },
  {
   "cell_type": "code",
   "execution_count": 36,
   "id": "cdca5f61",
   "metadata": {},
   "outputs": [],
   "source": [
    "# 데이터 저장\n",
    "\n",
    "data.to_csv('clean_data.csv', index=False)"
   ]
  },
  {
   "cell_type": "markdown",
   "id": "3c8bca22",
   "metadata": {},
   "source": [
    "### 데이터 길이 분포 확인"
   ]
  },
  {
   "cell_type": "code",
   "execution_count": 25,
   "id": "74a93e4c",
   "metadata": {},
   "outputs": [
    {
     "name": "stdout",
     "output_type": "stream",
     "text": [
      "텍스트의 최소 길이 : 1\n",
      "텍스트의 최대 길이 : 60\n",
      "텍스트의 평균 길이 : 35.09983638377659\n",
      "요약의 최소 길이 : 1\n",
      "요약의 최대 길이 : 13\n",
      "요약의 평균 길이 : 7.135964065405839\n"
     ]
    },
    {
     "data": {
      "image/png": "[encoded data removed]",
      "text/plain": [
       "<Figure size 432x288 with 2 Axes>"
      ]
     },
     "metadata": {
      "needs_background": "light"
     },
     "output_type": "display_data"
    },
    {
     "data": {
      "image/png": "[encoded data removed]",
      "text/plain": [
       "<Figure size 432x288 with 1 Axes>"
      ]
     },
     "metadata": {
      "needs_background": "light"
     },
     "output_type": "display_data"
    },
    {
     "data": {
      "image/png": "[encoded data removed]",
      "text/plain": [
       "<Figure size 432x288 with 1 Axes>"
      ]
     },
     "metadata": {
      "needs_background": "light"
     },
     "output_type": "display_data"
    }
   ],
   "source": [
    "# 길이 분포 출력\n",
    "import matplotlib.pyplot as plt\n",
    "\n",
    "text_len = [len(s.split()) for s in data['text']]\n",
    "summary_len = [len(s.split()) for s in data['headlines']]\n",
    "\n",
    "print('텍스트의 최소 길이 : {}'.format(np.min(text_len)))\n",
    "print('텍스트의 최대 길이 : {}'.format(np.max(text_len)))\n",
    "print('텍스트의 평균 길이 : {}'.format(np.mean(text_len)))\n",
    "print('요약의 최소 길이 : {}'.format(np.min(summary_len)))\n",
    "print('요약의 최대 길이 : {}'.format(np.max(summary_len)))\n",
    "print('요약의 평균 길이 : {}'.format(np.mean(summary_len)))\n",
    "\n",
    "plt.subplot(1,2,1)\n",
    "plt.boxplot(text_len)\n",
    "plt.title('text')\n",
    "plt.subplot(1,2,2)\n",
    "plt.boxplot(summary_len)\n",
    "plt.title('headlines')\n",
    "plt.tight_layout()\n",
    "plt.show()\n",
    "\n",
    "plt.title('text')\n",
    "plt.hist(text_len, bins = 40)\n",
    "plt.xlabel('length of samples')\n",
    "plt.ylabel('number of samples')\n",
    "plt.show()\n",
    "\n",
    "plt.title('headlines')\n",
    "plt.hist(summary_len, bins = 40)\n",
    "plt.xlabel('length of samples')\n",
    "plt.ylabel('number of samples')\n",
    "plt.show()"
   ]
  },
  {
   "cell_type": "markdown",
   "id": "2487d786",
   "metadata": {},
   "source": [
    "데이터 max_len 정하기"
   ]
  },
  {
   "cell_type": "code",
   "execution_count": 27,
   "id": "f629ebd0",
   "metadata": {},
   "outputs": [],
   "source": [
    "# 임의로 최대 길이 정하기\n",
    "\n",
    "text_max_len = 40\n",
    "headline_max_len = 8"
   ]
  },
  {
   "cell_type": "code",
   "execution_count": 46,
   "id": "3dcd27a2",
   "metadata": {},
   "outputs": [],
   "source": [
    "# 데이터 길이에 따른 샘플의 비율 구하기\n",
    "\n",
    "def below_threshold_len(max_len, nested_list):\n",
    "  cnt = 0\n",
    "  for s in nested_list:\n",
    "    if(len(s.split()) <= max_len):\n",
    "        cnt = cnt + 1\n",
    "  print('전체 샘플 중 길이가 %s 이하인 샘플의 비율: %s'%(max_len, (cnt / len(nested_list))))\n"
   ]
  },
  {
   "cell_type": "code",
   "execution_count": 47,
   "id": "a1e0f8db",
   "metadata": {},
   "outputs": [
    {
     "name": "stdout",
     "output_type": "stream",
     "text": [
      "전체 샘플 중 길이가 40 이하인 샘플의 비율: 0.9238320748772878\n",
      "전체 샘플 중 길이가 8 이하인 샘플의 비율: 0.8925925549537098\n"
     ]
    }
   ],
   "source": [
    "# 임의의 길이가 몇 %의 데이터 포함하는지 알아보기\n",
    "\n",
    "below_threshold_len(text_max_len, data['text'])\n",
    "below_threshold_len(headline_max_len,  data['headlines'])"
   ]
  },
  {
   "cell_type": "code",
   "execution_count": 55,
   "id": "c5c6e4d8",
   "metadata": {},
   "outputs": [
    {
     "name": "stdout",
     "output_type": "stream",
     "text": [
      "필터링 된 데이터 개수 : 16456\n",
      "필터링 후 데이터 개수: 81945\n"
     ]
    }
   ],
   "source": [
    "# mex_len 보다 긴 데이터 지우기\n",
    "\n",
    "filtered_data = data[\n",
    "    data['text'].apply(lambda x: len(x.split()) > text_max_len) | \n",
    "    data['headlines'].apply(lambda x: len(x.split()) > headline_max_len)\n",
    "]\n",
    "\n",
    "print(f\"필터링 된 데이터 개수 : {len(filtered_data)}\")\n",
    "\n",
    "data = data[~data.index.isin(filtered_data.index)]\n",
    "\n",
    "print(f\"필터링 후 데이터 개수: {len(data)}\")"
   ]
  },
  {
   "cell_type": "markdown",
   "id": "dc1eeaaf",
   "metadata": {},
   "source": [
    "### 시작 토큰, 종료 토큰 추가하기"
   ]
  },
  {
   "cell_type": "code",
   "execution_count": 56,
   "id": "6cf3dcbe",
   "metadata": {},
   "outputs": [
    {
     "name": "stderr",
     "output_type": "stream",
     "text": [
      "/tmp/ipykernel_31/3089850809.py:1: SettingWithCopyWarning: \n",
      "A value is trying to be set on a copy of a slice from a DataFrame.\n",
      "Try using .loc[row_indexer,col_indexer] = value instead\n",
      "\n",
      "See the caveats in the documentation: https://pandas.pydata.org/pandas-docs/stable/user_guide/indexing.html#returning-a-view-versus-a-copy\n",
      "  data['decoder_input'] = data['headlines'].apply(lambda x : 'sostoken '+ x)\n",
      "/tmp/ipykernel_31/3089850809.py:2: SettingWithCopyWarning: \n",
      "A value is trying to be set on a copy of a slice from a DataFrame.\n",
      "Try using .loc[row_indexer,col_indexer] = value instead\n",
      "\n",
      "See the caveats in the documentation: https://pandas.pydata.org/pandas-docs/stable/user_guide/indexing.html#returning-a-view-versus-a-copy\n",
      "  data['decoder_target'] = data['headlines'].apply(lambda x : x + ' eostoken')\n"
     ]
    },
    {
     "data": {
      "text/html": [
       "<div>\n",
       "<style scoped>\n",
       "    .dataframe tbody tr th:only-of-type {\n",
       "        vertical-align: middle;\n",
       "    }\n",
       "\n",
       "    .dataframe tbody tr th {\n",
       "        vertical-align: top;\n",
       "    }\n",
       "\n",
       "    .dataframe thead th {\n",
       "        text-align: right;\n",
       "    }\n",
       "</style>\n",
       "<table border=\"1\" class=\"dataframe\">\n",
       "  <thead>\n",
       "    <tr style=\"text-align: right;\">\n",
       "      <th></th>\n",
       "      <th>headlines</th>\n",
       "      <th>text</th>\n",
       "      <th>decoder_input</th>\n",
       "      <th>decoder_target</th>\n",
       "    </tr>\n",
       "  </thead>\n",
       "  <tbody>\n",
       "    <tr>\n",
       "      <th>0</th>\n",
       "      <td>upgrad learner switches career ml al salary hike</td>\n",
       "      <td>saurav kant alumnus upgrad iiit pg program mac...</td>\n",
       "      <td>sostoken upgrad learner switches career ml al ...</td>\n",
       "      <td>upgrad learner switches career ml al salary hi...</td>\n",
       "    </tr>\n",
       "    <tr>\n",
       "      <th>4</th>\n",
       "      <td>known hirani yrs metoo claims true sonam</td>\n",
       "      <td>speaking sexual harassment allegations rajkuma...</td>\n",
       "      <td>sostoken known hirani yrs metoo claims true sonam</td>\n",
       "      <td>known hirani yrs metoo claims true sonam eostoken</td>\n",
       "    </tr>\n",
       "    <tr>\n",
       "      <th>6</th>\n",
       "      <td>india get lowest odi total new zealand</td>\n",
       "      <td>india recorded lowest odi total new zealand ge...</td>\n",
       "      <td>sostoken india get lowest odi total new zealand</td>\n",
       "      <td>india get lowest odi total new zealand eostoken</td>\n",
       "    </tr>\n",
       "    <tr>\n",
       "      <th>7</th>\n",
       "      <td>govt directs alok verma join work day retirement</td>\n",
       "      <td>weeks ex cbi director alok verma told departme...</td>\n",
       "      <td>sostoken govt directs alok verma join work day...</td>\n",
       "      <td>govt directs alok verma join work day retireme...</td>\n",
       "    </tr>\n",
       "    <tr>\n",
       "      <th>9</th>\n",
       "      <td>cong wins ramgarh bypoll rajasthan takes total...</td>\n",
       "      <td>congress candidate shafia zubair ramgarh assem...</td>\n",
       "      <td>sostoken cong wins ramgarh bypoll rajasthan ta...</td>\n",
       "      <td>cong wins ramgarh bypoll rajasthan takes total...</td>\n",
       "    </tr>\n",
       "  </tbody>\n",
       "</table>\n",
       "</div>"
      ],
      "text/plain": [
       "                                           headlines  \\\n",
       "0   upgrad learner switches career ml al salary hike   \n",
       "4           known hirani yrs metoo claims true sonam   \n",
       "6             india get lowest odi total new zealand   \n",
       "7   govt directs alok verma join work day retirement   \n",
       "9  cong wins ramgarh bypoll rajasthan takes total...   \n",
       "\n",
       "                                                text  \\\n",
       "0  saurav kant alumnus upgrad iiit pg program mac...   \n",
       "4  speaking sexual harassment allegations rajkuma...   \n",
       "6  india recorded lowest odi total new zealand ge...   \n",
       "7  weeks ex cbi director alok verma told departme...   \n",
       "9  congress candidate shafia zubair ramgarh assem...   \n",
       "\n",
       "                                       decoder_input  \\\n",
       "0  sostoken upgrad learner switches career ml al ...   \n",
       "4  sostoken known hirani yrs metoo claims true sonam   \n",
       "6    sostoken india get lowest odi total new zealand   \n",
       "7  sostoken govt directs alok verma join work day...   \n",
       "9  sostoken cong wins ramgarh bypoll rajasthan ta...   \n",
       "\n",
       "                                      decoder_target  \n",
       "0  upgrad learner switches career ml al salary hi...  \n",
       "4  known hirani yrs metoo claims true sonam eostoken  \n",
       "6    india get lowest odi total new zealand eostoken  \n",
       "7  govt directs alok verma join work day retireme...  \n",
       "9  cong wins ramgarh bypoll rajasthan takes total...  "
      ]
     },
     "execution_count": 56,
     "metadata": {},
     "output_type": "execute_result"
    }
   ],
   "source": [
    "data['decoder_input'] = data['headlines'].apply(lambda x : 'sostoken '+ x)\n",
    "data['decoder_target'] = data['headlines'].apply(lambda x : x + ' eostoken')\n",
    "data.head()"
   ]
  },
  {
   "cell_type": "code",
   "execution_count": 81,
   "id": "001ff762",
   "metadata": {},
   "outputs": [],
   "source": [
    "# 데이터 저장\n",
    "\n",
    "data.to_csv('token_data.csv', index=False)"
   ]
  },
  {
   "cell_type": "code",
   "execution_count": 12,
   "id": "b92041d1",
   "metadata": {},
   "outputs": [],
   "source": [
    "# 데이터 열기\n",
    "import pandas as pd\n",
    "\n",
    "\n",
    "data = pd.read_csv('token_data.csv')"
   ]
  },
  {
   "cell_type": "code",
   "execution_count": 13,
   "id": "7207c56b",
   "metadata": {},
   "outputs": [],
   "source": [
    "# 넘파이 지정\n",
    "\n",
    "encoder_input = np.array(data['text']) # 인코더의 입력\n",
    "decoder_input = np.array(data['decoder_input']) # 디코더의 입력\n",
    "decoder_target = np.array(data['decoder_target']) # 디코더의 레이블"
   ]
  },
  {
   "cell_type": "markdown",
   "id": "b2661c21",
   "metadata": {},
   "source": [
    "### 데이터 분리"
   ]
  },
  {
   "cell_type": "code",
   "execution_count": 14,
   "id": "ce6525cc",
   "metadata": {},
   "outputs": [
    {
     "name": "stdout",
     "output_type": "stream",
     "text": [
      "[62325   599 59506 ... 25407  9920 54151]\n",
      "테스트 데이터의 수 : 16389\n"
     ]
    }
   ],
   "source": [
    "# 훈련 데이터, 테스트 데이터 분리\n",
    "\n",
    "# 데이터 셔플\n",
    "indices = np.arange(encoder_input.shape[0])\n",
    "np.random.shuffle(indices)\n",
    "print(indices)\n",
    "\n",
    "encoder_input = encoder_input[indices]\n",
    "decoder_input = decoder_input[indices]\n",
    "decoder_target = decoder_target[indices]\n",
    "\n",
    "# 데이터 분리\n",
    "n_of_val = int(len(encoder_input)*0.2)\n",
    "print('테스트 데이터의 수 :', n_of_val)"
   ]
  },
  {
   "cell_type": "code",
   "execution_count": 15,
   "id": "e3273264",
   "metadata": {},
   "outputs": [
    {
     "name": "stdout",
     "output_type": "stream",
     "text": [
      "훈련 데이터의 개수 : 65556\n",
      "훈련 레이블의 개수 : 65556\n",
      "테스트 데이터의 개수 : 16389\n",
      "테스트 레이블의 개수 : 16389\n"
     ]
    }
   ],
   "source": [
    "encoder_input_train = encoder_input[:-n_of_val]\n",
    "decoder_input_train = decoder_input[:-n_of_val]\n",
    "decoder_target_train = decoder_target[:-n_of_val]\n",
    "\n",
    "encoder_input_test = encoder_input[-n_of_val:]\n",
    "decoder_input_test = decoder_input[-n_of_val:]\n",
    "decoder_target_test = decoder_target[-n_of_val:]\n",
    "\n",
    "print('훈련 데이터의 개수 :', len(encoder_input_train))\n",
    "print('훈련 레이블의 개수 :', len(decoder_input_train))\n",
    "print('테스트 데이터의 개수 :', len(encoder_input_test))\n",
    "print('테스트 레이블의 개수 :', len(decoder_input_test))"
   ]
  },
  {
   "cell_type": "markdown",
   "id": "f86bb1df",
   "metadata": {},
   "source": [
    "### 단어 집합 만들기  \n",
    "각 단어에 고유한 정수 부여"
   ]
  },
  {
   "cell_type": "code",
   "execution_count": 16,
   "id": "be773fc6",
   "metadata": {},
   "outputs": [],
   "source": [
    "# text 데이터 단어집합 정의\n",
    "\n",
    "src_tokenizer = Tokenizer() # 토크나이저 정의\n",
    "src_tokenizer.fit_on_texts(encoder_input_train) # 입력된 데이터로부터 단어 집합 생성"
   ]
  },
  {
   "cell_type": "code",
   "execution_count": 17,
   "id": "cfb7a692",
   "metadata": {},
   "outputs": [
    {
     "name": "stdout",
     "output_type": "stream",
     "text": [
      "단어 집합(vocabulary)의 크기 : 63032\n",
      "등장 빈도가 6번 이하인 희귀 단어의 수: 43063\n",
      "단어 집합에서 희귀 단어를 제외시킬 경우의 단어 집합의 크기 19969\n",
      "단어 집합에서 희귀 단어의 비율: 68.31926640436605\n",
      "전체 등장 빈도에서 희귀 단어 등장 빈도 비율: 3.89811969604526\n"
     ]
    }
   ],
   "source": [
    "threshold = 7\n",
    "total_cnt = len(src_tokenizer.word_index) # 단어의 수\n",
    "rare_cnt = 0 # 등장 빈도수가 threshold보다 작은 단어의 개수를 카운트\n",
    "total_freq = 0 # 훈련 데이터의 전체 단어 빈도수 총 합\n",
    "rare_freq = 0 # 등장 빈도수가 threshold보다 작은 단어의 등장 빈도수의 총 합\n",
    "\n",
    "# 단어와 빈도수의 쌍(pair)을 key와 value로 받는다.\n",
    "for key, value in src_tokenizer.word_counts.items():\n",
    "    total_freq = total_freq + value\n",
    "\n",
    "    # 단어의 등장 빈도수가 threshold보다 작으면\n",
    "    if(value < threshold):\n",
    "        rare_cnt = rare_cnt + 1\n",
    "        rare_freq = rare_freq + value\n",
    "\n",
    "print('단어 집합(vocabulary)의 크기 :', total_cnt)\n",
    "print('등장 빈도가 %s번 이하인 희귀 단어의 수: %s'%(threshold - 1, rare_cnt))\n",
    "print('단어 집합에서 희귀 단어를 제외시킬 경우의 단어 집합의 크기 %s'%(total_cnt - rare_cnt))\n",
    "print(\"단어 집합에서 희귀 단어의 비율:\", (rare_cnt / total_cnt)*100)\n",
    "print(\"전체 등장 빈도에서 희귀 단어 등장 빈도 비율:\", (rare_freq / total_freq)*100)"
   ]
  },
  {
   "cell_type": "markdown",
   "id": "f78f7918",
   "metadata": {},
   "source": [
    "희귀 단어 제외시킬 경우의 단어 집합 크기에 맞춰서 단어 집합 크기 20,000로 제한"
   ]
  },
  {
   "cell_type": "code",
   "execution_count": 18,
   "id": "c23af848",
   "metadata": {},
   "outputs": [],
   "source": [
    "src_vocab = 20000\n",
    "src_tokenizer = Tokenizer(num_words=src_vocab) # 단어 집합의 크기를 8,000으로 제한\n",
    "src_tokenizer.fit_on_texts(encoder_input_train) # 단어 집합 재생성"
   ]
  },
  {
   "cell_type": "markdown",
   "id": "68d0649b",
   "metadata": {},
   "source": [
    "정수 인코딩 진행"
   ]
  },
  {
   "cell_type": "code",
   "execution_count": 19,
   "id": "2173f1d5",
   "metadata": {},
   "outputs": [
    {
     "name": "stdout",
     "output_type": "stream",
     "text": [
      "[[11524, 19970, 3980, 1154, 4839, 50, 3, 22, 2423, 120, 468, 465, 248, 45, 28, 8, 2182, 1576, 232, 1551, 120, 468, 10507, 929, 90, 334, 7, 75, 460, 5210, 28, 19970, 2423, 410], [496, 138, 7052, 823, 37, 273, 467, 154, 55, 1400, 420, 14, 2720, 4930, 8560, 1, 1363, 221, 1568, 2047, 2353, 2047, 2140, 447, 4840, 2, 5517, 160, 3678, 7052, 38, 2122, 150, 877, 340], [887, 42, 129, 2023, 4931, 358, 5454, 396, 53, 601, 545, 141, 12307, 2837, 129, 18636, 15727, 11525, 5454, 393, 4931, 1749, 18637, 725, 19971, 601, 545, 6, 914, 2702, 1382, 2064]]\n"
     ]
    }
   ],
   "source": [
    "# 텍스트 시퀀스를 정수 시퀀스로 변환\n",
    "encoder_input_train = src_tokenizer.texts_to_sequences(encoder_input_train) \n",
    "encoder_input_test = src_tokenizer.texts_to_sequences(encoder_input_test)\n",
    "\n",
    "# 잘 진행되었는지 샘플 출력\n",
    "print(encoder_input_train[:3])"
   ]
  },
  {
   "cell_type": "code",
   "execution_count": 20,
   "id": "87a40878",
   "metadata": {},
   "outputs": [],
   "source": [
    "# headlines 데이터 단어 집합 정의\n",
    "\n",
    "tar_tokenizer = Tokenizer()\n",
    "tar_tokenizer.fit_on_texts(decoder_input_train)"
   ]
  },
  {
   "cell_type": "code",
   "execution_count": 21,
   "id": "641949bf",
   "metadata": {},
   "outputs": [
    {
     "name": "stdout",
     "output_type": "stream",
     "text": [
      "단어 집합(vocabulary)의 크기 : 27514\n",
      "등장 빈도가 5번 이하인 희귀 단어의 수: 18229\n",
      "단어 집합에서 희귀 단어를 제외시킬 경우의 단어 집합의 크기 9285\n",
      "단어 집합에서 희귀 단어의 비율: 66.2535436505052\n",
      "전체 등장 빈도에서 희귀 단어 등장 빈도 비율: 6.7824407946773375\n"
     ]
    }
   ],
   "source": [
    "threshold = 6\n",
    "total_cnt = len(tar_tokenizer.word_index) # 단어의 수\n",
    "rare_cnt = 0 # 등장 빈도수가 threshold보다 작은 단어의 개수를 카운트\n",
    "total_freq = 0 # 훈련 데이터의 전체 단어 빈도수 총 합\n",
    "rare_freq = 0 # 등장 빈도수가 threshold보다 작은 단어의 등장 빈도수의 총 합\n",
    "\n",
    "# 단어와 빈도수의 쌍(pair)을 key와 value로 받는다.\n",
    "for key, value in tar_tokenizer.word_counts.items():\n",
    "    total_freq = total_freq + value\n",
    "\n",
    "    # 단어의 등장 빈도수가 threshold보다 작으면\n",
    "    if(value < threshold):\n",
    "        rare_cnt = rare_cnt + 1\n",
    "        rare_freq = rare_freq + value\n",
    "\n",
    "print('단어 집합(vocabulary)의 크기 :', total_cnt)\n",
    "print('등장 빈도가 %s번 이하인 희귀 단어의 수: %s'%(threshold - 1, rare_cnt))\n",
    "print('단어 집합에서 희귀 단어를 제외시킬 경우의 단어 집합의 크기 %s'%(total_cnt - rare_cnt))\n",
    "print(\"단어 집합에서 희귀 단어의 비율:\", (rare_cnt / total_cnt)*100)\n",
    "print(\"전체 등장 빈도에서 희귀 단어 등장 빈도 비율:\", (rare_freq / total_freq)*100)"
   ]
  },
  {
   "cell_type": "code",
   "execution_count": 22,
   "id": "28587aa8",
   "metadata": {},
   "outputs": [
    {
     "name": "stdout",
     "output_type": "stream",
     "text": [
      "input\n",
      "input  [[1, 2210, 3553, 352, 59, 1908, 692, 33], [1, 1132, 112, 2265, 720, 150, 38, 128], [1, 60, 237, 509, 5930, 44, 116], [1, 861, 5623, 780, 469], [1, 143, 721, 8462, 4125, 632]]\n",
      "target\n",
      "decoder  [[2210, 3553, 352, 59, 1908, 692, 33, 2], [1132, 112, 2265, 720, 150, 38, 128, 2], [60, 237, 509, 5930, 44, 116, 2], [861, 5623, 780, 469, 2], [143, 721, 8462, 4125, 632, 2]]\n"
     ]
    }
   ],
   "source": [
    "tar_vocab = 9000\n",
    "tar_tokenizer = Tokenizer(num_words=tar_vocab) \n",
    "tar_tokenizer.fit_on_texts(decoder_input_train)\n",
    "tar_tokenizer.fit_on_texts(decoder_target_train)\n",
    "\n",
    "# 텍스트 시퀀스를 정수 시퀀스로 변환\n",
    "decoder_input_train = tar_tokenizer.texts_to_sequences(decoder_input_train) \n",
    "decoder_target_train = tar_tokenizer.texts_to_sequences(decoder_target_train)\n",
    "decoder_input_test = tar_tokenizer.texts_to_sequences(decoder_input_test)\n",
    "decoder_target_test = tar_tokenizer.texts_to_sequences(decoder_target_test)\n",
    "\n",
    "# 잘 변환되었는지 확인\n",
    "print('input')\n",
    "print('input ',decoder_input_train[:5])\n",
    "print('target')\n",
    "print('decoder ',decoder_target_train[:5])"
   ]
  },
  {
   "cell_type": "markdown",
   "id": "b94c752f",
   "metadata": {},
   "source": [
    "요약문의 길이가 1이 된 데이터 삭제"
   ]
  },
  {
   "cell_type": "code",
   "execution_count": 23,
   "id": "daa1b1e2",
   "metadata": {},
   "outputs": [
    {
     "name": "stdout",
     "output_type": "stream",
     "text": [
      "삭제할 훈련 데이터의 개수 : 1\n",
      "삭제할 테스트 데이터의 개수 : 2\n",
      "훈련 데이터의 개수 : 65555\n",
      "훈련 레이블의 개수 : 65555\n",
      "테스트 데이터의 개수 : 16387\n",
      "테스트 레이블의 개수 : 16387\n"
     ]
    }
   ],
   "source": [
    "drop_train = [index for index, sentence in enumerate(decoder_input_train) if len(sentence) == 1]\n",
    "drop_test = [index for index, sentence in enumerate(decoder_input_test) if len(sentence) == 1]\n",
    "\n",
    "print('삭제할 훈련 데이터의 개수 :', len(drop_train))\n",
    "print('삭제할 테스트 데이터의 개수 :', len(drop_test))\n",
    "\n",
    "encoder_input_train = [sentence for index, sentence in enumerate(encoder_input_train) if index not in drop_train]\n",
    "decoder_input_train = [sentence for index, sentence in enumerate(decoder_input_train) if index not in drop_train]\n",
    "decoder_target_train = [sentence for index, sentence in enumerate(decoder_target_train) if index not in drop_train]\n",
    "\n",
    "encoder_input_test = [sentence for index, sentence in enumerate(encoder_input_test) if index not in drop_test]\n",
    "decoder_input_test = [sentence for index, sentence in enumerate(decoder_input_test) if index not in drop_test]\n",
    "decoder_target_test = [sentence for index, sentence in enumerate(decoder_target_test) if index not in drop_test]\n",
    "\n",
    "print('훈련 데이터의 개수 :', len(encoder_input_train))\n",
    "print('훈련 레이블의 개수 :', len(decoder_input_train))\n",
    "print('테스트 데이터의 개수 :', len(encoder_input_test))\n",
    "print('테스트 레이블의 개수 :', len(decoder_input_test))"
   ]
  },
  {
   "cell_type": "markdown",
   "id": "dd0059d0",
   "metadata": {},
   "source": [
    "### 데이터 패딩"
   ]
  },
  {
   "cell_type": "code",
   "execution_count": 28,
   "id": "56aa0290",
   "metadata": {},
   "outputs": [],
   "source": [
    "encoder_input_train = pad_sequences(encoder_input_train, maxlen=text_max_len, padding='post')\n",
    "encoder_input_test = pad_sequences(encoder_input_test, maxlen=text_max_len, padding='post')\n",
    "decoder_input_train = pad_sequences(decoder_input_train, maxlen=headline_max_len, padding='post')\n",
    "decoder_target_train = pad_sequences(decoder_target_train, maxlen=headline_max_len, padding='post')\n",
    "decoder_input_test = pad_sequences(decoder_input_test, maxlen=headline_max_len, padding='post')\n",
    "decoder_target_test = pad_sequences(decoder_target_test, maxlen=headline_max_len, padding='post')"
   ]
  },
  {
   "cell_type": "markdown",
   "id": "d4881e4c",
   "metadata": {},
   "source": [
    "### 모델 설계"
   ]
  },
  {
   "cell_type": "code",
   "execution_count": 29,
   "id": "61151f87",
   "metadata": {},
   "outputs": [
    {
     "name": "stdout",
     "output_type": "stream",
     "text": [
      "(65555, 40)\n",
      "(16387, 40)\n",
      "(65555, 8)\n",
      "(65555, 8)\n",
      "(16387, 8)\n",
      "(16387, 8)\n"
     ]
    }
   ],
   "source": [
    "print(encoder_input_train.shape)\n",
    "print(encoder_input_test.shape)\n",
    "print(decoder_input_train.shape)\n",
    "print(decoder_target_train.shape)\n",
    "print(decoder_input_test.shape)\n",
    "print(decoder_target_test.shape)"
   ]
  },
  {
   "cell_type": "markdown",
   "id": "36a79c4c",
   "metadata": {},
   "source": [
    "### 인코더 설계"
   ]
  },
  {
   "cell_type": "code",
   "execution_count": 35,
   "id": "33fbfcef",
   "metadata": {},
   "outputs": [],
   "source": [
    "from tensorflow.keras.layers import Input, LSTM, Embedding, Dense, Concatenate, TimeDistributed\n",
    "from tensorflow.keras.models import Model\n",
    "from tensorflow.keras.callbacks import EarlyStopping, ModelCheckpoint\n",
    "\n",
    "\n",
    "# 인코더 설계 시작\n",
    "embedding_dim = 128\n",
    "hidden_size = 256\n",
    "\n",
    "# 인코더\n",
    "encoder_inputs = Input(shape=(text_max_len,))\n",
    "\n",
    "# 인코더의 임베딩 층\n",
    "enc_emb = Embedding(src_vocab, embedding_dim)(encoder_inputs)\n",
    "\n",
    "# 인코더의 LSTM 1\n",
    "# encoder_lstm1 = LSTM(hidden_size, return_sequences=True, return_state=True ,dropout = 0.4, recurrent_dropout = 0.4)\n",
    "encoder_lstm1 = LSTM(hidden_size, return_sequences=True, return_state=True ,dropout = 0.4)\n",
    "encoder_output1, state_h1, state_c1 = encoder_lstm1(enc_emb)\n",
    "\n",
    "# 인코더의 LSTM 2\n",
    "encoder_lstm2 = LSTM(hidden_size, return_sequences=True, return_state=True ,dropout = 0.4)\n",
    "encoder_output2, state_h2, state_c2 = encoder_lstm2(encoder_output1)\n",
    "\n",
    "# 인코더의 LSTM 3\n",
    "encoder_lstm3 = LSTM(hidden_size, return_sequences=True, return_state=True ,dropout = 0.4)\n",
    "encoder_output3, state_h3, state_c3 = encoder_lstm3(encoder_output2)"
   ]
  },
  {
   "cell_type": "markdown",
   "id": "92fba2e4",
   "metadata": {},
   "source": [
    "### 디코더 설계"
   ]
  },
  {
   "cell_type": "code",
   "execution_count": 36,
   "id": "ec29849e",
   "metadata": {},
   "outputs": [
    {
     "name": "stdout",
     "output_type": "stream",
     "text": [
      "WARNING:tensorflow:Layer lstm_11 will not use cuDNN kernels since it doesn't meet the criteria. It will use a generic GPU kernel as fallback when running on GPU.\n",
      "Model: \"model_2\"\n",
      "__________________________________________________________________________________________________\n",
      "Layer (type)                    Output Shape         Param #     Connected to                     \n",
      "==================================================================================================\n",
      "input_5 (InputLayer)            [(None, 40)]         0                                            \n",
      "__________________________________________________________________________________________________\n",
      "embedding_4 (Embedding)         (None, 40, 128)      2560000     input_5[0][0]                    \n",
      "__________________________________________________________________________________________________\n",
      "lstm_8 (LSTM)                   [(None, 40, 256), (N 394240      embedding_4[0][0]                \n",
      "__________________________________________________________________________________________________\n",
      "input_6 (InputLayer)            [(None, None)]       0                                            \n",
      "__________________________________________________________________________________________________\n",
      "lstm_9 (LSTM)                   [(None, 40, 256), (N 525312      lstm_8[0][0]                     \n",
      "__________________________________________________________________________________________________\n",
      "embedding_5 (Embedding)         (None, None, 128)    1152000     input_6[0][0]                    \n",
      "__________________________________________________________________________________________________\n",
      "lstm_10 (LSTM)                  [(None, 40, 256), (N 525312      lstm_9[0][0]                     \n",
      "__________________________________________________________________________________________________\n",
      "lstm_11 (LSTM)                  [(None, None, 256),  394240      embedding_5[0][0]                \n",
      "                                                                 lstm_10[0][1]                    \n",
      "                                                                 lstm_10[0][2]                    \n",
      "__________________________________________________________________________________________________\n",
      "dense_2 (Dense)                 (None, None, 9000)   2313000     lstm_11[0][0]                    \n",
      "==================================================================================================\n",
      "Total params: 7,864,104\n",
      "Trainable params: 7,864,104\n",
      "Non-trainable params: 0\n",
      "__________________________________________________________________________________________________\n"
     ]
    }
   ],
   "source": [
    "# 디코더 설계\n",
    "decoder_inputs = Input(shape=(None,))\n",
    "\n",
    "# 디코더의 임베딩 층\n",
    "dec_emb_layer = Embedding(tar_vocab, embedding_dim)\n",
    "dec_emb = dec_emb_layer(decoder_inputs)\n",
    "\n",
    "# 디코더의 LSTM\n",
    "decoder_lstm = LSTM(hidden_size, return_sequences = True, return_state = True, dropout = 0.4, recurrent_dropout=0.2)\n",
    "decoder_outputs, _, _ = decoder_lstm(dec_emb, initial_state = [state_h3, state_c3])\n",
    "\n",
    "# 디코더의 출력층\n",
    "decoder_softmax_layer = Dense(tar_vocab, activation = 'softmax')\n",
    "decoder_softmax_outputs = decoder_softmax_layer(decoder_outputs) \n",
    "\n",
    "# 모델 정의\n",
    "model = Model([encoder_inputs, decoder_inputs], decoder_softmax_outputs)\n",
    "model.summary()\n"
   ]
  },
  {
   "cell_type": "markdown",
   "id": "807f360a",
   "metadata": {},
   "source": [
    "모델 구조가 설계와 다르게 나오는 문제 발생  \n",
    "->순서는 맞지만 출력이 뒤죽박죽으로 나옴..  \n",
    "Input5 → embedding4 → lstm8 → lstm9 →lstm10  \n",
    "input6 → embedding5 → lstm11 →dense2  \n",
    "구조는 코드와 일치함!"
   ]
  },
  {
   "cell_type": "markdown",
   "id": "02397019",
   "metadata": {},
   "source": [
    "### Functional API를 사용할 경우 레이어의 연결 순서가 항상 직관적으로 표시되지는 않는다고 함"
   ]
  },
  {
   "cell_type": "markdown",
   "id": "666aa73e",
   "metadata": {},
   "source": [
    "### 어텐션 층 설계"
   ]
  },
  {
   "cell_type": "code",
   "execution_count": 38,
   "id": "7f56e984",
   "metadata": {},
   "outputs": [
    {
     "name": "stdout",
     "output_type": "stream",
     "text": [
      "Model: \"model_4\"\n",
      "__________________________________________________________________________________________________\n",
      "Layer (type)                    Output Shape         Param #     Connected to                     \n",
      "==================================================================================================\n",
      "input_5 (InputLayer)            [(None, 40)]         0                                            \n",
      "__________________________________________________________________________________________________\n",
      "embedding_4 (Embedding)         (None, 40, 128)      2560000     input_5[0][0]                    \n",
      "__________________________________________________________________________________________________\n",
      "lstm_8 (LSTM)                   [(None, 40, 256), (N 394240      embedding_4[0][0]                \n",
      "__________________________________________________________________________________________________\n",
      "input_6 (InputLayer)            [(None, None)]       0                                            \n",
      "__________________________________________________________________________________________________\n",
      "lstm_9 (LSTM)                   [(None, 40, 256), (N 525312      lstm_8[0][0]                     \n",
      "__________________________________________________________________________________________________\n",
      "embedding_5 (Embedding)         (None, None, 128)    1152000     input_6[0][0]                    \n",
      "__________________________________________________________________________________________________\n",
      "lstm_10 (LSTM)                  [(None, 40, 256), (N 525312      lstm_9[0][0]                     \n",
      "__________________________________________________________________________________________________\n",
      "lstm_11 (LSTM)                  [(None, None, 256),  394240      embedding_5[0][0]                \n",
      "                                                                 lstm_10[0][1]                    \n",
      "                                                                 lstm_10[0][2]                    \n",
      "__________________________________________________________________________________________________\n",
      "attention_layer (AdditiveAttent (None, None, 256)    256         lstm_11[0][0]                    \n",
      "                                                                 lstm_10[0][0]                    \n",
      "__________________________________________________________________________________________________\n",
      "concat_layer (Concatenate)      (None, None, 512)    0           lstm_11[0][0]                    \n",
      "                                                                 attention_layer[0][0]            \n",
      "__________________________________________________________________________________________________\n",
      "dense_4 (Dense)                 (None, None, 9000)   4617000     concat_layer[0][0]               \n",
      "==================================================================================================\n",
      "Total params: 10,168,360\n",
      "Trainable params: 10,168,360\n",
      "Non-trainable params: 0\n",
      "__________________________________________________________________________________________________\n"
     ]
    }
   ],
   "source": [
    "from tensorflow.keras.layers import AdditiveAttention\n",
    "\n",
    "# 어텐션 층(어텐션 함수)\n",
    "attn_layer = AdditiveAttention(name='attention_layer')\n",
    "\n",
    "# 인코더와 디코더의 모든 time step의 hidden state를 어텐션 층에 전달하고 결과를 리턴\n",
    "attn_out = attn_layer([decoder_outputs, encoder_output3])\n",
    "\n",
    "\n",
    "# 어텐션의 결과와 디코더의 hidden state들을 연결\n",
    "decoder_concat_input = Concatenate(axis=-1, name='concat_layer')([decoder_outputs, attn_out])\n",
    "\n",
    "# 디코더의 출력층\n",
    "decoder_softmax_layer = Dense(tar_vocab, activation='softmax')\n",
    "decoder_softmax_outputs = decoder_softmax_layer(decoder_concat_input)\n",
    "\n",
    "# 모델 정의\n",
    "model = Model([encoder_inputs, decoder_inputs], decoder_softmax_outputs)\n",
    "model.summary()"
   ]
  },
  {
   "cell_type": "markdown",
   "id": "9dc3c1e7",
   "metadata": {},
   "source": [
    "### 모델 훈련"
   ]
  },
  {
   "cell_type": "code",
   "execution_count": 39,
   "id": "98a44c6f",
   "metadata": {},
   "outputs": [
    {
     "name": "stdout",
     "output_type": "stream",
     "text": [
      "Epoch 1/50\n",
      "257/257 [==============================] - 30s 85ms/step - loss: 6.5371 - val_loss: 6.1434\n",
      "Epoch 2/50\n",
      "257/257 [==============================] - 21s 82ms/step - loss: 6.0378 - val_loss: 5.8433\n",
      "Epoch 3/50\n",
      "257/257 [==============================] - 21s 83ms/step - loss: 5.6662 - val_loss: 5.5821\n",
      "Epoch 4/50\n",
      "257/257 [==============================] - 22s 84ms/step - loss: 5.3781 - val_loss: 5.3481\n",
      "Epoch 5/50\n",
      "257/257 [==============================] - 22s 85ms/step - loss: 5.1242 - val_loss: 5.1455\n",
      "Epoch 6/50\n",
      "257/257 [==============================] - 22s 85ms/step - loss: 4.9075 - val_loss: 5.0157\n",
      "Epoch 7/50\n",
      "257/257 [==============================] - 22s 84ms/step - loss: 4.7206 - val_loss: 4.9156\n",
      "Epoch 8/50\n",
      "257/257 [==============================] - 22s 84ms/step - loss: 4.5572 - val_loss: 4.8067\n",
      "Epoch 9/50\n",
      "257/257 [==============================] - 22s 85ms/step - loss: 4.4119 - val_loss: 4.7601\n",
      "Epoch 10/50\n",
      "257/257 [==============================] - 22s 85ms/step - loss: 4.2818 - val_loss: 4.7023\n",
      "Epoch 11/50\n",
      "257/257 [==============================] - 22s 84ms/step - loss: 4.1610 - val_loss: 4.6382\n",
      "Epoch 12/50\n",
      "257/257 [==============================] - 22s 85ms/step - loss: 4.0526 - val_loss: 4.6077\n",
      "Epoch 13/50\n",
      "257/257 [==============================] - 22s 85ms/step - loss: 3.9517 - val_loss: 4.5724\n",
      "Epoch 14/50\n",
      "257/257 [==============================] - 22s 85ms/step - loss: 3.8574 - val_loss: 4.5364\n",
      "Epoch 15/50\n",
      "257/257 [==============================] - 22s 85ms/step - loss: 3.7678 - val_loss: 4.5246\n",
      "Epoch 16/50\n",
      "257/257 [==============================] - 22s 85ms/step - loss: 3.6806 - val_loss: 4.5207\n",
      "Epoch 17/50\n",
      "257/257 [==============================] - 22s 85ms/step - loss: 3.6037 - val_loss: 4.4889\n",
      "Epoch 18/50\n",
      "257/257 [==============================] - 22s 85ms/step - loss: 3.5319 - val_loss: 4.4901\n",
      "Epoch 19/50\n",
      "257/257 [==============================] - 22s 85ms/step - loss: 3.4647 - val_loss: 4.4634\n",
      "Epoch 20/50\n",
      "257/257 [==============================] - 22s 85ms/step - loss: 3.3975 - val_loss: 4.4642\n",
      "Epoch 21/50\n",
      "257/257 [==============================] - 22s 85ms/step - loss: 3.3334 - val_loss: 4.4655\n",
      "Epoch 00021: early stopping\n"
     ]
    }
   ],
   "source": [
    "model.compile(optimizer='rmsprop', loss='sparse_categorical_crossentropy')\n",
    "es = EarlyStopping(monitor='val_loss', patience=2, verbose=1)\n",
    "history = model.fit(x=[encoder_input_train, decoder_input_train], y=decoder_target_train, \\\n",
    "          validation_data=([encoder_input_test, decoder_input_test], decoder_target_test), \\\n",
    "          batch_size=256, callbacks=[es], epochs=50)"
   ]
  },
  {
   "cell_type": "markdown",
   "id": "fa0285a9",
   "metadata": {},
   "source": [
    "### 모델 시각화"
   ]
  },
  {
   "cell_type": "code",
   "execution_count": 40,
   "id": "4c18fa46",
   "metadata": {},
   "outputs": [
    {
     "data": {
      "image/png": "[encoded data removed]",
      "text/plain": [
       "<Figure size 432x288 with 1 Axes>"
      ]
     },
     "metadata": {
      "needs_background": "light"
     },
     "output_type": "display_data"
    }
   ],
   "source": [
    "plt.plot(history.history['loss'], label='train')\n",
    "plt.plot(history.history['val_loss'], label='test')\n",
    "plt.legend()\n",
    "plt.show()"
   ]
  },
  {
   "cell_type": "markdown",
   "id": "7603f2af",
   "metadata": {},
   "source": [
    "### 인퍼런스 모델 구현"
   ]
  },
  {
   "cell_type": "code",
   "execution_count": 41,
   "id": "33688abb",
   "metadata": {},
   "outputs": [],
   "source": [
    "src_index_to_word = src_tokenizer.index_word # 원문 단어 집합에서 정수 -> 단어를 얻음\n",
    "tar_word_to_index = tar_tokenizer.word_index # 요약 단어 집합에서 단어 -> 정수를 얻음\n",
    "tar_index_to_word = tar_tokenizer.index_word # 요약 단어 집합에서 정수 -> 단어를 얻음"
   ]
  },
  {
   "cell_type": "code",
   "execution_count": 42,
   "id": "6b38bbc2",
   "metadata": {},
   "outputs": [],
   "source": [
    "# 인코더 설계\n",
    "encoder_model = Model(inputs=encoder_inputs, outputs=[encoder_output3, state_h3, state_c3])\n",
    "\n",
    "# 이전 시점의 상태들을 저장하는 텐서\n",
    "decoder_state_input_h = Input(shape=(hidden_size,))\n",
    "decoder_state_input_c = Input(shape=(hidden_size,))\n",
    "\n",
    "dec_emb2 = dec_emb_layer(decoder_inputs)\n",
    "\n",
    "# 문장의 다음 단어를 예측하기 위해서 초기 상태(initial_state)를 이전 시점의 상태로 사용. 이는 뒤의 함수 decode_sequence()에 구현\n",
    "# 훈련 과정에서와 달리 LSTM의 리턴하는 은닉 상태와 셀 상태인 state_h와 state_c를 버리지 않음.\n",
    "decoder_outputs2, state_h2, state_c2 = decoder_lstm(dec_emb2, initial_state=[decoder_state_input_h, decoder_state_input_c])\n"
   ]
  },
  {
   "cell_type": "code",
   "execution_count": 43,
   "id": "451ce62c",
   "metadata": {},
   "outputs": [],
   "source": [
    "# 어텐션 함수\n",
    "decoder_hidden_state_input = Input(shape=(text_max_len, hidden_size))\n",
    "attn_out_inf = attn_layer([decoder_outputs2, decoder_hidden_state_input])\n",
    "decoder_inf_concat = Concatenate(axis=-1, name='concat')([decoder_outputs2, attn_out_inf])\n",
    "\n",
    "# 디코더의 출력층\n",
    "decoder_outputs2 = decoder_softmax_layer(decoder_inf_concat) \n",
    "\n",
    "# 최종 디코더 모델\n",
    "decoder_model = Model(\n",
    "    [decoder_inputs] + [decoder_hidden_state_input,decoder_state_input_h, decoder_state_input_c],\n",
    "    [decoder_outputs2] + [state_h2, state_c2])"
   ]
  },
  {
   "cell_type": "markdown",
   "id": "87d12147",
   "metadata": {},
   "source": [
    "### 단어 시퀀스 완성 함수"
   ]
  },
  {
   "cell_type": "code",
   "execution_count": 50,
   "id": "17f64a01",
   "metadata": {},
   "outputs": [],
   "source": [
    "def decode_sequence(input_seq):\n",
    "    # 입력으로부터 인코더의 상태를 얻음\n",
    "    e_out, e_h, e_c = encoder_model.predict(input_seq)\n",
    "\n",
    "     # <SOS>에 해당하는 토큰 생성\n",
    "    target_seq = np.zeros((1,1))\n",
    "    target_seq[0, 0] = tar_word_to_index['sostoken']\n",
    "\n",
    "    stop_condition = False\n",
    "    decoded_sentence = ''\n",
    "    while not stop_condition: # stop_condition이 True가 될 때까지 루프 반복\n",
    "\n",
    "        output_tokens, h, c = decoder_model.predict([target_seq] + [e_out, e_h, e_c])\n",
    "        sampled_token_index = np.argmax(output_tokens[0, -1, :])\n",
    "        sampled_token = tar_index_to_word[sampled_token_index]\n",
    "\n",
    "        if (sampled_token!='eostoken'):\n",
    "            decoded_sentence += ' '+sampled_token\n",
    "\n",
    "        #  <eos>에 도달하거나 최대 길이를 넘으면 중단.\n",
    "        if (sampled_token == 'eostoken'  or len(decoded_sentence.split()) >= (headline_max_len-1)):\n",
    "            stop_condition = True\n",
    "\n",
    "        # 길이가 1인 타겟 시퀀스를 업데이트\n",
    "        target_seq = np.zeros((1,1))\n",
    "        target_seq[0, 0] = sampled_token_index\n",
    "\n",
    "        # 상태를 업데이트 합니다.\n",
    "        e_h, e_c = h, c\n",
    "\n",
    "    return decoded_sentence"
   ]
  },
  {
   "cell_type": "markdown",
   "id": "7cd4ab13",
   "metadata": {},
   "source": [
    "### 모델 테스트"
   ]
  },
  {
   "cell_type": "code",
   "execution_count": 51,
   "id": "4ac18b9a",
   "metadata": {},
   "outputs": [],
   "source": [
    "# 원문의 정수 시퀀스를 텍스트 시퀀스로 변환\n",
    "def seq2text(input_seq):\n",
    "    temp=''\n",
    "    for i in input_seq:\n",
    "        if (i!=0):\n",
    "            temp = temp + src_index_to_word[i]+' '\n",
    "    return temp\n",
    "\n",
    "# 요약문의 정수 시퀀스를 텍스트 시퀀스로 변환\n",
    "def seq2summary(input_seq):\n",
    "    temp = ''\n",
    "    for i in input_seq:\n",
    "        if i != 0:  # 0은 패딩이므로 무시\n",
    "            if i == \"eostoken\":  # 종료 토큰을 만나면 종료\n",
    "                break\n",
    "            temp = temp + tar_index_to_word[i] + ' '  # 정수 -> 단어 변환\n",
    "    return temp\n"
   ]
  },
  {
   "cell_type": "code",
   "execution_count": 52,
   "id": "0e937c83",
   "metadata": {
    "scrolled": false
   },
   "outputs": [
    {
     "name": "stdout",
     "output_type": "stream",
     "text": [
      "원문 : least three people killed tuesday three attackers opened fire headquarters libya foreign ministry tripoli health ministry said two later blew third suicide bomber shot dead guards could explosive vest according reports \n",
      "실제 요약 : sostoken killed suicide attack libya foreign ministry \n",
      "예측 요약 :  killed injured knife attack syria\n",
      "\n",
      "\n",
      "원문 : aimim chief asaduddin owaisi claimed people promoted bjp hate ideology trolled external affairs minister sushma swaraj twitter slammed bjp defending swaraj adding party supports trolling social media swaraj abused online transfer passport official allegedly harassed interfaith couple \n",
      "실제 요약 : sostoken supporters bjp hate policy trolled swaraj owaisi \n",
      "예측 요약 :  owaisi slams owaisi muslim media owaisi\n",
      "\n",
      "\n",
      "원문 : kumbh mela held prayagraj first time witness terming beyond sexuality head priest laxmi narayan tripathi said us participation mainstream society accepting us sunday members took part entry procession called kumbh \n",
      "실제 요약 : sostoken transgender participate first time kumbh \n",
      "예측 요약 :  dal new national status\n",
      "\n",
      "\n",
      "원문 : cybersecurity researchers discovered fake google chrome extension steals credit card data via web forms visited websites extension title reader flash spread means injection attacks display warnings like flash installed use chrome extension instead extension reportedly available since february \n",
      "실제 요약 : fake chrome extension stealing credit card info reports \n",
      "예측 요약 :  google bug allows users based cryptocurrency\n",
      "\n",
      "\n",
      "원문 : telangana chief electoral officer dr rajat kumar called tobacco free polling stations upcoming assembly elections instructed district collectors district election officers ensure polling stations respective areas tobacco free authorities asked paste smoking area stickers inside outside booths \n",
      "실제 요약 : gana poll officer calls tobacco free polling stations \n",
      "예측 요약 :  polling booths suspended mp assembly protests\n",
      "\n",
      "\n",
      "원문 : bcci took social media share video virat kohli mahendra singh dhoni batting together first odi new zealand mumbai sunday video captioned kohli seen walking dhoni checking eye year old seen \n",
      "실제 요약 : sostoken bcci shares video kohli dhoni first odi \n",
      "예측 요약 :  virat kohli celebrates video australia\n",
      "\n",
      "\n",
      "원문 : noida authority decided budget crore repair city roads ensure smooth flow traffic officials said noida nearly km roads around need either repair reportedly authority also planning issue tenders road october end \n",
      "실제 요약 : sostoken noida authority spend crore repair roads \n",
      "예측 요약 :  karnataka govt approves crore water\n",
      "\n",
      "\n",
      "원문 : north korea threatened us pay un ambassador nikki haley fit said isolated nation begging war us pay dear price tongue north korean media said haley statement comes north korea latest nuclear test escalated tensions two nations \n",
      "실제 요약 : sostoken us pay un envoy fit korea \n",
      "예측 요약 :  us sanctions korea us\n",
      "\n",
      "\n",
      "원문 : uk queen elizabeth ii reported police observer noticed wearing seatbelt way state opening parliament wednesday uk law compulsory wear seatbelt one installed however queen immune civil criminal proceedings \n",
      "실제 요약 : sostoken uk queen reported police wearing \n",
      "예측 요약 :  uk queen elizabeth\n",
      "\n",
      "\n",
      "원문 : richa chadha addressing rumours dating ali fazal said barack obama michelle obama make relationship public two humble actors think anyone cares added fact took trip venice think says something richa said \n",
      "실제 요약 : sostoken make relationship public richa \n",
      "예측 요약 :  told like like richa\n",
      "\n",
      "\n",
      "원문 : railways planning purchase recycled water private players cut water bill save crore year senior official said railways presently buys water states spending crore year expected unveil first ever water management policy march \n",
      "실제 요약 : sostoken railways plans buy water private players \n",
      "예측 요약 :  railways launches stations solar\n",
      "\n",
      "\n",
      "원문 : former middleweight boxing champion taylor arrested usa allegedly biting girlfriend arm face year old bronze medal olympics reportedly broke victim phone chased street said would kill victim pepper sprayed taylor prevented exit home \n",
      "실제 요약 : sostoken former boxing champion arrested girlfriend \n",
      "예측 요약 :  mcgregor champ arrested throwing boxing champion\n",
      "\n",
      "\n",
      "원문 : slamming eight sixes unbeaten knock runs balls league rajputs afghan wicketkeeper opener mohammad shahzad said like yo yo test people score test still cannot hit six care yo yo test added shahzad also slammed six fours knock \n",
      "실제 요약 : sostoken get yo yo cannot hit shahzad scoring \n",
      "예측 요약 :  pujara scores ton ball\n",
      "\n",
      "\n",
      "원문 : soldiers border security force fight snakes guarding pakistan border official said tackle small medical facilities set within bsf posts always well equipped anti venom injections medical equipments medicines required provide immediate relief \n",
      "실제 요약 : sostoken bsf fights snakes pak border official \n",
      "예측 요약 :  bsf jawans use soldiers eid army chief\n",
      "\n",
      "\n",
      "원문 : singer composer ar rahman converted islam hinduism revealed people often ask islam made successful converting whether find spot whether button added rahman said faith kept right track saved many falls \n",
      "실제 요약 : sostoken people ask islam made successful ar rahman \n",
      "예측 요약 :  pope reveals\n",
      "\n",
      "\n",
      "원문 : responding deletefacebook campaign facebook ceo mark zuckerberg said think seen meaningful number people act deletefacebook social media revealed facebook users data exploited influence us elections think clear signal major trust issue people zuckerberg added \n",
      "실제 요약 : sostoken think many users zuckerberg \n",
      "예측 요약 :  facebook ceo zuckerberg calls data\n",
      "\n",
      "\n",
      "원문 : varun dhawan shared video social media seen singing hai building music director anu malik song first appeared salman khan karisma kapoor starrer judwaa sung malik also sing recreated version titled hai building release september \n",
      "실제 요약 : sostoken varun dhawan sings hai building anu malik \n",
      "예측 요약 :  varun dhawan shares video dancing dance\n",
      "\n",
      "\n",
      "원문 : bitcoin could consume world total electricity end according study founder alex de study estimated bitcoin network minimum energy consumption much ireland bitcoin miners country would currently rank nd terms energy consumption according \n",
      "실제 요약 : sostoken bitcoin use world power year end study \n",
      "예측 요약 :  could could could could study study\n",
      "\n",
      "\n",
      "원문 : actress deepika padukone shared picture ranbir kapoor occasion world photography day sunday picture still film also last film together deepika dated ranbir earlier currently rumoured relationship ranveer singh ranbir dating alia bhatt \n",
      "실제 요약 : sostoken deepika shares throwback pic ranbir \n",
      "예측 요약 :  deepika shares pic deepika padukone\n",
      "\n",
      "\n",
      "원문 : actress richa chadha look upcoming film unveiled film also stars aditi rao hydari rahul bhat take chandra novel devdas directed sudhir mishra earlier made films like yeh zindagi scheduled release february \n",
      "실제 요약 : sostoken richa chadha look unveiled \n",
      "예측 요약 :  richa chadha star film upcoming film reports\n",
      "\n",
      "\n",
      "원문 : minister state finance santosh gangwar friday said lok sabha loans crore liquor baron vijay mallya given previous upa government power till december wilful defaulters country taken loans amounting rs crore various banks added \n",
      "실제 요약 : sostoken loans vijay mallya given upa regime govt \n",
      "예측 요약 :  govt refuses pay crore scam\n",
      "\n",
      "\n",
      "원문 : picture circulating online dog russia actually shot pakistan attempt reduce number stray animals image went viral amid fears russia would try kill stray dogs ahead fifa world cup however russian officials said animals would captured placed shelters \n",
      "실제 요약 : viral russia dog execution photo actually shot pakistan \n",
      "예측 요약 :  video shows video russian video shows\n",
      "\n",
      "\n",
      "원문 : swedish furniture major ikea tuesday said talks number indian state governments sourcing wood furniture states include telangana karnataka maharashtra northeastern states today raw material biggest challenge furniture india deputy country manager ikea india said \n",
      "실제 요약 : sostoken ikea talks indian state govts source wood \n",
      "예측 요약 :  india plans make internet chhattisgarh assembly\n",
      "\n",
      "\n",
      "원문 : merchandise fyre festival sold ebay fyre festival costing merchandise includes fyre festival power bank worn weekend pass guests left stranded without food forced stay disaster relief tents festival marketed luxury festival bahamas \n",
      "실제 요약 : sostoken failed fyre festival sold ebay \n",
      "예측 요약 :  actors art festival reports\n",
      "\n",
      "\n",
      "원문 : otto warmbier year old american student imprisoned north korea months allegedly stealing propaganda poster died monday less week returning us warmbier returned coma suffered extensive brain damage family alleges tortured imprisonment north korea \n",
      "실제 요약 : sostoken us student released north korea months dies \n",
      "예측 요약 :  us student killed shooting\n",
      "\n",
      "\n",
      "원문 : slamming former white house aide newman claims made new book president donald trump called newman claims book titled trump used racial slurs set reality show also says later concluded racist \n",
      "실제 요약 : sostoken trump calls ex wh aide claims book \n",
      "예측 요약 :  trump affair book\n",
      "\n",
      "\n",
      "원문 : us based automaker ford last week received patent steering wheel pedals self driving cars steering wheels pedals could attached provide manual control car required per customer desire however reports suggested engineers reconsider implement airbags fit steering wheel \n",
      "실제 요약 : sostoken ford patents steering wheel self driving cars \n",
      "예측 요약 :  ford recalls self driving cars\n",
      "\n",
      "\n",
      "원문 : tdp worker andhra pradesh arrested sunday allegedly raping year old repeatedly four months incident came light victim fell unconscious rushed hospital doctors found three months pregnant accused also reportedly threatened girl speaking incident \n",
      "실제 요약 : sostoken tdp worker held raping year old girl \n",
      "예측 요약 :  andhra old arrested raping woman\n",
      "\n",
      "\n",
      "원문 : rjd chief lalu prasad yadav taken ranchi rajendra institute medical sciences central jail complained health issues saturday december lalu prasad wife rabri said undergone heart surgery concerned health one would give medicine timely jail \n",
      "실제 요약 : sostoken jailed rjd lalu prasad yadav hospitalised \n",
      "예측 요약 :  lalu yadav lalu yadav\n",
      "\n",
      "\n",
      "원문 : reacting pakistan foreign minister comment pm imran khan bowled googly ensure india presence kartarpur corridor event union minister harsimrat kaur badal said one bowled googly indulging one issue pm modi ministers respected sentiments sikhs participating initiative tweeted \n",
      "실제 요약 : sostoken one bowled badal pak fm comment \n",
      "예측 요약 :  kartarpur corridor pak pm khan\n",
      "\n",
      "\n",
      "원문 : idea cellular market capitalisation fell nearly crore crore monday reports merger vodafone india may meet expected june timeline telecom department reportedly looking raise crore demand related one time spectrum charges vodafone notably combined entity india largest telecom operator replacing airtel \n",
      "실제 요약 : idea cap falls cr news vodafone merger delay \n",
      "예측 요약 :  idea cr loss cr loss fy\n",
      "\n",
      "\n",
      "원문 : indian cricket team royal challengers bangalore captain virat kohli posted selfie alongside harbhajan singh daughter instagram kohli post read baby looking something beard surprised someone beautiful blessing harbhajan god bless \n",
      "실제 요약 : sostoken kohli shares selfie harbhajan singh daughter \n",
      "예측 요약 :  video shows virat kohli wife\n",
      "\n",
      "\n",
      "원문 : trends showed congress leading rajasthan madhya pradesh chhattisgarh assembly elections congress leader sonia gandhi said rahul gandhi worked hard led party meanwhile congress leader navjot singh sidhu also praised rahul party performance elections saying people declared rahul gandhi new bahubali \n",
      "실제 요약 : rahul worked hard sonia gandhi congress leads states \n",
      "예측 요약 :  sonia sonia sonia gandhi sonia gandhi\n",
      "\n",
      "\n",
      "원문 : uttar pradesh government tuesday approved proposal seeking impose death penalty manufacturers illicit liquor case death disability caused consumption proposal sought enhance financial penalties offences related illicit liquor notably gujarat introduced capital punishment illicit liquor related offences \n",
      "실제 요약 : sostoken plans death penalty illicit liquor \n",
      "예측 요약 :  govt approves death penalty\n",
      "\n",
      "\n",
      "원문 : india unemployment rate rose year high business standard reported quoting unreleased government survey reportedly showed stood urban areas compared rural areas notably two remaining independent members national commission quit wednesday allegedly due non publication jobs data \n",
      "실제 요약 : sostoken india unemployment rate hit year high report \n",
      "예측 요약 :  india gdp rate rate september\n",
      "\n",
      "\n",
      "원문 : india second largest state owned lender punjab national bank reported loss crore june quarter bank reported highest ever quarterly loss crore quarter ended march bank net interest income core income operations rose year year crore \n",
      "실제 요약 : sostoken punjab national bank posts loss crore \n",
      "예측 요약 :  bank posts quarter loss loss fy\n",
      "\n",
      "\n",
      "원문 : punjab cm amarinder singh said congress president rahul gandhi qualities needed great prime minister perfect man lead country like minded parties best interests nation embrace gandhi leader added gandhi congress return power said \n",
      "실제 요약 : sostoken rahul gandhi great pm punjab cm \n",
      "예측 요약 :  rahul gandhi punjab cm\n",
      "\n",
      "\n",
      "원문 : niti aayog vice chairman rajiv kumar said jobs data report cited media draft report finalised government citing government survey business standard reported india unemployment rate rose year high data still processed hence released government kumar added \n",
      "실제 요약 : report saying unemployment yr high finalised niti aayog \n",
      "예측 요약 :  government india niti aayog\n",
      "\n",
      "\n",
      "원문 : amid gangrape murder year old girl jammu kashmir kathua cm mehbooba mufti tweeted proper procedures followed investigations fast track justice delivered police chargesheet revealed girl gangraped repeatedly murdered group men punish community belonged \n",
      "실제 요약 : sostoken justice delivered cm kathua rape case \n",
      "예측 요약 :  rape accused rape accused bjp mla\n",
      "\n",
      "\n",
      "원문 : david former ceo online music streaming service beats music launched electric scooter startup called startup offers watt watt models priced respectively models intermediate advanced modes top speed kmph range km \n",
      "실제 요약 : beats music former ceo launches electric scooter startup \n",
      "예측 요약 :  john startup unveils new startup ceo\n",
      "\n",
      "\n",
      "원문 : taking dig lalu prasad yadav bjp leader sushil modi sunday tweeted rjd leader shocked yogi adityanath becoming cm know react yadav responded mocking modi invited swearing ceremony modi however later tweeted present ceremony \n",
      "실제 요약 : sostoken lalu sushil modi engage twitter cm \n",
      "예측 요약 :  modi calls lalu yadav talk tejashwi\n",
      "\n",
      "\n",
      "원문 : austrian chinese sciences successfully conducted first ever quantum secured intercontinental video call vienna beijing call made possible using first quantum satellite launched china uses photons communication intercepted information useless also exposing hacker \n",
      "실제 요약 : sostoken scientists make st ever quantum video call \n",
      "예측 요약 :  india first ever video years years\n",
      "\n",
      "\n",
      "원문 : european union highest court ruled ride hailing app uber taxi company regulated drivers professionals using vehicles uber argued technology platform helping people make contact ruling uber claimed products already covered regulations \n",
      "실제 요약 : uber taxi service digital firm top eu court \n",
      "예측 요약 :  uber drivers deliver uber drivers uk\n",
      "\n",
      "\n",
      "원문 : mobile payments startup mobikwik co founder upasana confirmed company talks raise million million round would value company billion round could double mobikwik funding date stands million however declined name investors funding round \n",
      "실제 요약 : mobikwik raising new funding bn valuation co founder \n",
      "예측 요약 :  paytm co founder raises mn funding\n",
      "\n",
      "\n",
      "원문 : sister one two nuns missionaries charity arrested ranchi police charges child trafficking confessed crime saying sold two babies said know adding gave away one child free \n",
      "실제 요약 : sostoken sold babies confesses charity nun \n",
      "예측 요약 :  couple held yrs police\n",
      "\n",
      "\n",
      "원문 : vistara ceo leslie said tata group singapore airlines open bid state run air india tata group singapore airlines run vistara india joint venture last year tata sons chairman chandrasekaran said group consider buying air india looking disinvestment process \n",
      "실제 요약 : tata singapore airlines open bid air india vistara \n",
      "예측 요약 :  indigo ceo indigo india\n",
      "\n",
      "\n",
      "원문 : year old woman china vandalised stall fortune wrongly predicted death according reports fortune told woman march last year would live see terrified fortune told able live worried every day woman said \n",
      "실제 요약 : sostoken fortune vandalised wrong death \n",
      "예측 요약 :  us woman gets crore years\n",
      "\n",
      "\n",
      "원문 : china based technology startup launched bug bounty programme pay lakh find bugs drones threat identification reward program aims identify threats users private data videos logs move came ban us army grounded drones unspecified cyber vulnerabilities discovered \n",
      "실제 요약 : sostoken offers pay lakh find bugs drones \n",
      "예측 요약 :  china files patent store china store\n",
      "\n",
      "\n",
      "원문 : dozens former current employees united nations claimed sexual harassment including rape goes world body according guardian report victims also claimed reporting sexual assault seniors either forced jobs threatened termination contract work \n",
      "실제 요약 : sostoken sexual harassment goes un staff claim \n",
      "예측 요약 :  sexual misconduct accused sexual assault\n",
      "\n",
      "\n",
      "원문 : switzerland based startup produces marijuana meets country legal standards makes products contain startup also makes bricks vacuum sealed produced low plants startup plants greenhouse offers products like oil \n",
      "실제 요약 : sostoken swiss startup produces legal marijuana \n",
      "예측 요약 :  startup makes lakh coffee\n",
      "\n",
      "\n"
     ]
    }
   ],
   "source": [
    "for i in range(50, 100):\n",
    "    print(\"원문 :\", seq2text(encoder_input_test[i]))\n",
    "    print(\"실제 요약 :\", seq2summary(decoder_input_test[i]))\n",
    "    print(\"예측 요약 :\", decode_sequence(encoder_input_test[i].reshape(1, text_max_len)))\n",
    "    print(\"\\n\")"
   ]
  },
  {
   "cell_type": "markdown",
   "id": "307f327b",
   "metadata": {},
   "source": [
    "결과 : 예측이 맞는 경우도 있었지만 대부분 맞지 않음  \n",
    "추가 실험 목록  \n",
    "- 모델 설계 다시한 후 돌려보기\n",
    "- early stopping 대신 modelcheckpoint 함수 적용 & epoch 수 줄여서 돌려보기"
   ]
  },
  {
   "cell_type": "markdown",
   "id": "8dc91734",
   "metadata": {},
   "source": [
    "# 추출적 요약 (미완)"
   ]
  },
  {
   "cell_type": "markdown",
   "id": "09961643",
   "metadata": {},
   "source": [
    "데이터 다운로드"
   ]
  },
  {
   "cell_type": "code",
   "execution_count": 53,
   "id": "15b57890",
   "metadata": {},
   "outputs": [],
   "source": [
    "import requests\n",
    "from summa.summarizer import summarize"
   ]
  },
  {
   "cell_type": "code",
   "execution_count": 60,
   "id": "b21549a3",
   "metadata": {},
   "outputs": [
    {
     "name": "stdout",
     "output_type": "stream",
     "text": [
      "The screen is filled with green, cascading code which gives way to the title, The Matrix.\r\n",
      "\r\n",
      "A phone rings and text appears on the screen: \"Call trans opt: received. 2-19-98 13:24:18 REC: Log>\" As a conversation takes place between Trinity (Carrie-Anne Moss) and Cypher (Joe Pantoliano), two free humans, a table of random green numbers are being scanned and individual numbers selected, creating a series of digits not unlike an ordinary phone number, as if a code is being deciphered or a call is being traced.\r\n",
      "\r\n",
      "Trinity discusses some unknown person. Cypher taunts Trinity, suggesting she enjoys watching him. Trinity counters that \"Morpheus (Laurence Fishburne) says he may be 'the One',\" just as the sound of a number being selected alerts Trinity that someone may be tracing their call. She ends the call.\r\n",
      "\r\n",
      "Armed policemen move down a darkened, decrepit hallway in the Heart O' the City Hotel, their flashlight beam bouncing just ahead of them. They come to room 303, kick down the door and find a woman dressed in black, facing away from them. It's Trinity. She brings her hands up from the laptop she's working on at their command.\r\n",
      "\r\n",
      "Outside the hotel a car drives up and three agents appear in neatly pressed black suits. They are Agent Smith (Hugo Weaving), Agent Brown (Paul Goddard), and Agent Jones (Robert Taylor). Agent Smith and the presiding police lieutenant argue. Agent Smith admonishes the policeman that they were given specific orders to contact the agents first, for their protection. The lieutenant dismisses this and says that they can handle \"one little girl\" and that he has two units that are bringing her down at that very moment. Agent Smith replies: \"No, Lieutenant. Your men are already dead.\"\r\n",
      "\r\n",
      "Inside, Trinity easily defeats the six policemen sent to apprehend her, using fighting and evasion techniques that seem to defy gravity. She calls Morpheus, letting him know that the line has been traced, though she doesn't know how. Morpheus informs her that she will have to \"make it to another exit,\" and that Agents are heading up after her.\r\n",
      "\r\n",
      "A fierce rooftop chase ensues with Trinity and an Agent leaping from one building to the next, astonishing the policemen left behind. Trinity makes a daring leap across an alley and through a small window. She has momentarily lost her pursuers and makes it to a public phone booth on the street level. The phone begins to ring. As she approaches it a garbage truck, driven by Agent Smith, careens towards the phone booth. Trinity makes a desperate dash to the phone, picking it up just moments before the truck smashes the booth into a brick wall. The three Agents reunite at the front of the truck. There is no body in the wreckage. \"She got out,\" one says. The other says, \"The informant is real.\" \"We have the name of their next target,\" says the other, \"His name is Neo.\"\r\n",
      "\r\n",
      "Neo (Keanu Reeves), a hacker with thick black hair and a sallow appearance, is asleep at his monitor. Notices about a manhunt for a man named Morpheus scroll across his screen as he sleeps. Suddenly Neo's screen goes blank and a series of text messages appear: \"Wake up, Neo.\" \"The Matrix has you.\" \"Follow the White Rabbit.\" Then, the text says \"Knock, knock, Neo...\" just as he reads it, a knock comes at the door of his apartment, 101. It's a group of ravers and Neo gives them a contraband disc he has secreted in a copy of Simulacra and Simulation. The lead raver asks him to join them and Neo demurs until he sees the tattoo of a small white rabbit on the shoulder of a seductive girl in the group.\r\n",
      "\r\n",
      "At a rave bar Neo stands alone and aloof as the group he's with continue partying. Trinity approaches him and introduces herself. Neo recognizes her name; she was a famous hacker and had cracked the IRS database. She tells him that he is in great danger, that they are watching him and that she knows that he is searching for answers, particularly to the most important question of all: what is the Matrix? The pulsing music of the bar gives way to the repetitious blare of Neo's alarm clock; it's 9:18 and he's late for work.\r\n",
      "\r\n",
      "At his job at Metacortex, a leading software company housed in an ominous high rise, Neo is berated by his boss for having a problem with authority, for thinking he's special. Neo listens to his boss, but his attention is on the persons cleaning the window of the office. Back at his bleak cubicle Neo receives a delivery as \"Thomas Anderson.\" Upon opening the package he finds a cellphone which immediately rings. On the other end is Morpheus, who informs Neo that they've both run out of time and that \"they\" are coming for him. Morpheus tells him to slowly look up, toward the elevator. Agents Smith, Jones, and Brown are there, obviously looking for him, as a woman points towards Neo's cube. Morpheus tries to guide Neo out of the building but when he is instructed to get on a scaffolding and take it to the roof Neo rejects Morpheus's advice, allowing himself to be taken by the Agents.\r\n",
      "\r\n",
      "In an interrogation room the Agents confront Neo. They've had their eye on him for some time. He lives a dual existence: one life as Thomas A. Anderson, a software engineer for a Metacortex, the other life as Neo, a computer hacker \"guilty of virtually every computer crime we have a law for.\" Agent Smith asks him to help them capture Morpheus, a dangerous terrorist, in exchange for amnesty. Neo gives them the finger and asks for his phone call. Mr. Smith asks what good is a phone call if he's unable to speak. Neo finds that his lips have fused together. Panicked, he is thrown on the interrogation table by the Agents and they implant a shrimp-like probe, a bug, in his stomach, entering through his belly-button.\r\n",
      "\r\n",
      "Neo awakens with a start in his own bed, assuming it has all been a bad dream. His phone rings and Morpheus is on the other line. He tells Neo that the line is tapped but they've underestimated his importance. Morpheus tells Neo he is the One and to meet him at the Adams St. bridge. There he is picked up by Trinity and two others in a car; they all wear black latex and leather. A woman in the front seat, Switch (Belinda McClory), pulls a gun on him and tells him to take off his shirt. Trinity tells him it's for their mutual protection and that he has to trust her. He takes off his shirt and she uses a device to remove the probe that Neo believed had been part of a nightmare. Trinity drops the bug out into the road where it slowly goes dark in the rain.\r\n",
      "\r\n",
      "Trinity takes Neo to Morpheus. Morpheus explains that he's been searching for Neo his entire life and asks if Neo feels like \"Alice in Wonderland, falling down the rabbit hole.\" He explains to Neo that they exist in the Matrix, a false reality that has been constructed for humans to hide the truth. The truth is that everyone in the world is a slave, born into bondage. Morpheus holds out two pills. In his left palm is a blue pill. If Neo takes it he will wake up in his bed and \"believe whatever you want to believe.\" But if he takes the red pill in Morpheus's right hand, then \"you stay in Wonderland and I show you how deep the rabbit hole goes.\" Neo takes the red pill.\r\n",
      "\r\n",
      "As the rest of Morpheus's crew straps him into a chair, Neo is told that pill he took is part of a trace program, to \"disrupt his input/output carrier signal\" so that they can pinpoint him. Neo looks at a shattered mirror placed next to him which miraculously reforms itself. Neo touches the surface and the silver begins to creep over his skin, engulfing him as Morpheus's crew attempt to locate something on the monitors around them. The silver takes Neo over and he blacks out.\r\n",
      "\r\n",
      "He awakens inside a pinkish/purple embryonic pod, extending from the side of a circular building, a massive power plant. He is hairless and naked, with thick black tubes snaking down his throat, plugged into the back of his skull, his spine, and invading most of the rest of his body. He finds his pod is open and that he is surrounded by tower after tower of pods just like his, all filled with bodies. Suddenly a menacing, hovering nurse robot grabs him by the throat. The tubes detach and Neo is flushed down a tube into an underground pool of filthy water. Just as he's about to drown in the muck a hovercraft appears above him, snags him and hauls him into its cargo bay. Neo finds himself surrounded by Morpheus's crew again, but they are dressed differently, in simple knit garments. Just before Neo passes out Morpheus says to him, \"Welcome to the real world.\"\r\n",
      "\r\n",
      "Neo drifts in and out of consciousness. At one point he asks, \"Am I dead?\" \"Far from it,\" replies Morpheus. Again he wakes, his body a pincushion of acupuncture. \"Why do my eyes hurt?\" he asks. \"You've never used them,\" Morpheus replies.\r\n",
      "\r\n",
      "Neo finally wakes, fully clothed, with a short shock of hair on his head. He removes a connector that is sunk deep into his arm and reaches to find the large socket at the back of his neck when Morpheus enters the room. \"What is this place?\" Neo asks. \"The more important question is when,\" says Morpheus, \"You believe it is the year 1999, when in fact it is closer to the year 2199.\" Morpheus goes on to say that they really don't know when it is. He gives Neo a tour of his ship, the Nebuchadnezzar (they pass a plaque stating it was built in 2069). Neo is introduced to Morpheus's crew including Trinity; Apoc (Julian Arahanga), a man with long, flowing black hair; Switch; Cypher (bald with a goatee); two brawny brothers, Tank (Marcus Chong) and Dozer (Anthony Ray Parker); and a young, thin man named Mouse (Matt Doran).\r\n",
      "\r\n",
      "Morpheus gets to the point. \"You wanted to know about the Matrix,\" he says, ushering him to a chair. Neo sits down in it and Trinity straps him in. A long probe is inserted into the socket at the back of Neo's skull.\r\n",
      "\r\n",
      "Neo wakes in a world of all white. He is in the Construct, a \"loading platform\" that Morpheus and his team use to prepare newly freed humans to deal with the Matrix world. Gone are the sockets in Neo's arms and neck. He has hair again. Morpheus tells him that what he is experiencing of himself is the \"residual self image, the mental projection of your digital self\" and bids him to sit while he explains the truth. \"This,\" he says, showing an image of a modern city, \"is the world that you know.\" A thing that really exists \"only as part of a neural, interactive simulation that we call the Matrix.\"\r\n",
      "\r\n",
      "Morpheus then shows Neo the world as it truly exists today, a scarred, desolate emptiness with charred, abandoned buildings, black earth, and a shrouded sky.\r\n",
      "\r\n",
      "Morpheus goes on to say that \"at some point in the early 21st century all of mankind was united in celebration as we gave birth\" to artificial intelligence, a \"singular consciousness that birthed an entire race of machines.\"\r\n",
      "\r\n",
      "Someone started a war, and no one knows who, but it was known that it was mankind who blotted out the sky, attempting to deprive the machines of the solar power they required to function. Instead the machines turned to humans as a power source; Mopheus explains that a human's body provides \"more electricity than a 120 volt battery and over 25k BTUs in body heat.\" Morpheus shows Neo fields where machines grow human beings, connecting them to their outlets, ensconcing them in their pods, and feeding them with the liquefied remains of other human beings. \"The Matrix,\" says Morpheus, \"is a computer-generated dreamworld created to keep us under control, to turn us...\" into a mere power source, into coppertop batteries.\r\n",
      "\r\n",
      "Neo rejects this information so feverishly that he pulls himself out of the Construct. He is back in the chair on the hovercraft. He fights to free himself from this harsh reality, only to end up vomiting on the floor and passing out.\r\n",
      "\r\n",
      "When Neo wakes up in his bunk, Morpheus is beside him. \"I can't go back, can I?\" Neo asks. \"No,\" says Morpheus. He apologizes to Neo for breaking a cardinal rule: after a certain age people aren't brought out of their simulacrum, but Morpheus explains he had to bring Neo out. When the Matrix was created there was a man born inside it who could create his own reality inside it. It was this man who set Morpheus and the others free. When he died, the Oracle (Gloria Foster) prophesied that he would return in another form. And that the return of the One would mean the destruction of the Matrix. As long as the Matrix exists, humanity will continue to live in complacency inside it and the world can never be free. \"I did what I did because I believe that search is over,\" says Morpheus.\r\n",
      "\r\n",
      "The next day Neo starts his training. Tank is his operator. Tank and his brother Dozer are \"100% pure old-fashioned, homegrown human. Born in the real world; a genuine child of Zion.\" Zion, Tank explains, is the last human city, buried deep in the earth, near the core, for warmth. Tank straps Neo back into the jack-in chair, by-passes some preliminary programs and loads him up with combat training, starting with Jiu Jitsu. When Tank hits \"load\" Neo is shocked by the force of the knowledge pouring into him. \"I think he likes it,\" says Tank, \"want some more?\" \"Hell yes,\" replies Neo. Neo is fed a series of martial arts techniques including Kempo, Tae Kwon Do, Drunken Boxing and Kung Fu. Morpheus and Tank are amazed at Neo's ability to ingest information, but Morpheus wants to test Neo.\r\n",
      "\r\n",
      "Morpheus and Neo stand in a sparring program. The program has rules, like gravity. But as in many computer programs, some rules can be bent while others can be broken. Morpheus bids Neo to hit him, if he can. They fight with Neo impressively attacking but Morpheus easily parrying and subduing him. The rest of the crew gathers around the monitors to watch the fight. Morpheus ends up kicking Neo into a beam, explaining to him that the reason he has beaten him has nothing to do with muscles or reality. They spar again. \"What are you waiting for?\" Morpheus asks him. \"You're faster than this!\" Neo finally brings a punch near his teacher's face. They can move on.\r\n",
      "\r\n",
      "A jump program is loaded. Both men now stand on one of several tall buildings in a normal city skyline. Morpheus tells Neo he must free his mind and leaps from one building to the next. Neo nervously tries to follow him and doesn't make the jump, falling to the pavement below. Neo wakes back in the Nebudchanezzar with blood in his mouth. \"I thought it wasn't real,\" he says. \"Your mind makes it real,\" replies Morpheus. \"So, if you die in the Matrix, you die here?\" \"The body cannot live without the mind,\" says Morpheus, underlining the very real danger faced in the simulation.\r\n",
      "\r\n",
      "Later, Trinity brings Neo dinner. Outside his room, Cypher remarks that Trinity never brought him dinner. He asks Trinity why, if Morpheus thinks Neo is the One, he hasn't taken him to see the Oracle yet. Trinity says he'll take him when he's ready.\r\n",
      "\r\n",
      "Morpheus and Neo are walking down a standard city street in what appears to be the Matrix. Morpheus explains that the Matrix is a system and that the system is their enemy. All the people that inhabit it, the people they are trying to free, are part of that system. Some are so inert, so dependent upon the Matrix that they can never be free. Neo notices a stunning girl in a red dress. \"Are you listening to me?\" asks Morpheus. He asks Neo to look at the girl again. Neo turns to face Agent Smith, pointing a gun straight at his head. Morpheus stops the simulation, which has just been created to look like the Matrix.\r\n",
      "\r\n",
      "Neo asks what the Agents are. \"Sentient programs,\" says Morpheus, that \"can move in and out of any software hard-wired into their system, meaning that they can take over anyone in the Matrix program. \"Inside the Matrix,\" Morpheus says, \"They are everyone and they are no one.\" Thus Morpheus and his crew survive the Agents by running from them and hiding from the Agents even though they \"are guarding all the doors. They are holding all the keys and sooner or later, someone is going to have to fight them.\" But no one who has ever stood up to an Agent has survived; all have died. Still, Morpheus is certain that because the Agents live in a world of rules that they can never be as strong, never be as fast as he can be. \"What are you trying to tell me,\" asks Neo, \"That I can dodge bullets?\" \"When you're ready,\" Morpheus says, \"You won't have to.\" Just then Morpheus gets a phone call. \"We've got trouble,\" Cypher says on the other line.\r\n",
      "\r\n",
      "The Nebuchadnezzar is on alert. They see the holographic image of a squiddy, a search and destroy sentinel, which is on their trail. They set the ship down in a huge sewer system and turn off the power. Tank stands at the ready switch of an EMP, electro-magnetic pulse, the only weapon man has against the machines in the real world. Two squiddies search for the ship -- the crew can see them -- but they move on.\r\n",
      "\r\n",
      "Neo startles Cypher, who is working at a computer console streaming with green code. Cypher offers Neo a drink and says that he knows what Neo is thinking, \"Why, oh why didn't I take the blue pill?\" Neo laughs but is unsettled. Cypher asks Neo if Morpheus has told him why he's here. Neo nods. \"What a mind job,\" says Cypher, \"so you're here to save the world.\"\r\n",
      "\r\n",
      "Cypher is now in a fancy restaurant with Agent Smith in the Matrix. Agent Smith asks if they have a deal. Cypher cuts up a juicy steak and ruminates that he knows the steak is merely the simulation telling his brain that it is delicious and juicy, but after nine years he has discovered that \"ignorance is bliss.\" He strikes a deal for the machines to reinsert his body into a power plant, reinsert him into the Matrix, and he'll help the Agents. He wants to be rich and powerful, \"an actor\" maybe. Smith says he wants access codes to the mainframe in Zion. Cypher says he can't do that, but that he can get him the man who does, meaning Morpheus.\r\n",
      "\r\n",
      "Meanwhile, inside the Nebuchadnezzar's small dining room in the real world, the rest of the crew is trying to choke down the oatmeal-gruel that they have as sustenance. Mouse muses on the mistakes the machines may have made trying to get sensations right, like the taste of chicken. Since they didn't know what it tasted like they let everything taste like it. Morpheus interrupts the meal, announcing that he's taking Neo to see the Oracle.\r\n",
      "\r\n",
      "Morpheus, Trinity, Neo, Apoc, Switch, Mouse and Cypher are jacked into the Matrix. As they walk out of a warehouse Cypher secretly throws his cell phone into the garbage. On the car ride to the Oracle, Neo asks Trinity if she has seen the Oracle. Trinity says that she has but when she's asked just what she was told by the Oracle, she refuses to answer.\r\n",
      "\r\n",
      "The Oracle, Morpheus explains, has been with them since the beginning of the Resistance. She is the one who made the Prophecy of the One and that Morpheus would be the one to find him. She can help Neo find the path, he says. He enters the apartment of the Oracle. Inside are the other potentials: a mother figure and numerous children. One child levitates blocks, one reads Asian literature, another is playing chess. One bald child is bending spoons. He gives one spoon to Neo and says, \"Do not try and bend the spoon, that's impossible. Instead, only try to realize the truth...that there is no spoon.\" Neo bends the spoon as he's called in to see the Oracle.\r\n",
      "\r\n",
      "The Oracle is baking cookies. She sizes Neo up and asks him whether he thinks he is the One. Neo admits that he does not know and the Oracle does not enlighten him. Neo smiles and the Oracle asks him what is funny. Neo admits that Morpheus had almost convinced him that he was the One. She accepts this and prophesies that Morpheus believes in Neo so much that he plans to sacrifice himself. She tells Neo that either he or Morpheus will die, and that Neo will have the power to choose which one it will be. She then offers him a cookie and promises him that he will feel fine as soon as he's done eating it.\r\n",
      "\r\n",
      "As the crew returns to their jack point, many floors up in an old hotel, Tank, in the control room, notices something odd. Meanwhile Neo, walking up the stairs, sees what appears to be the same cat cross a room twice. \"Deja vu,\" he says, which gets the attention of Trinity and Morpheus. Deja vu, they explain to him, is a glitch in the Matrix; it happens when they reset the computer parameters. Outside, the phone line is cut. Mouse runs to a window which has now been bricked in. They are trapped. Mouse picks up two machine guns but he's no match for the police coming into the room. He's riddled with bullets.\r\n",
      "\r\n",
      "Back on the Nebuchadnezzar, the real Mouse spurts blood from his mouth and dies in the chair.\r\n",
      "\r\n",
      "More police and Agents stream into the bottom of the hotel. Morpheus has Tank find a layout of the building they're in, locating the main wet wall. The Agents arrive on the floor they're on, finding a coat that Cypher has left behind. They only find a hole in the bathroom wall. Meanwhile the crew is climbing down the plumbing of the wet wall. As the police approach Cypher sneezes, once more giving them away. The police open fire. The crew, including Neo, begin to fire back.\r\n",
      "\r\n",
      "An Agent takes over the body of one of the policemen, reaches into the wall, and grabs Neo by the neck. Morpheus, who is above Neo in the walls, breaks through the wall and lands on the agent, yelling to Trinity to get Neo out of the building.\r\n",
      "\r\n",
      "A fierce battle between Agent Smith and Morpheus ends with Morpheus face down on the tile. Agent Smith sends the police unit in to beat him with their batons.\r\n",
      "\r\n",
      "Cypher returns to the Nebuchadnezzar before Trinity, Neo, Switch and Apoc. As Tank attempts to bring the others back, Cypher attacks him from behind with an electronic weapon. Dozer attempts to tackle Cypher, but Cypher electrocutes him as well.\r\n",
      "\r\n",
      "Trinity attempts to call Tank but Cypher pulls the headset off of the smoking remains of Tank and answers. As Cypher talks to Trinity inside the Matrix he leans over the still form of Trinity in the hovercraft. Cypher recounts the things he hates about the real world, the war, the cold, the goop they have to eat, but most especially Morpheus and his beliefs. \"He lied to us, Trinity.\"\r\n",
      "\r\n",
      "Cypher pulls the plug out of the back of Apoc's head, and Apoc falls down dead in the Matrix. Cypher then moves to Switch and as she protests \"Not like this...\" in the Matrix, Cypher kills her on the ship. She falls down dead before Trinity and Neo. Cypher moves on to Neo's supine form, saying that if Neo is the One, a miracle will prevent Cypher from killing him:\r\n",
      "\r\n",
      "\"How can he be the One, if he's dead?\" he asks. He continues badgering Trinity, asking her if she believes that Neo is the One. She says, \"Yes.\" Cypher screams back \"No!\" but his reaction is incredulity at seeing Tank still alive, brandishing the weapon that Cypher had used on him. Tank fries Cypher with the electrical device.\r\n",
      "\r\n",
      "Tank brings Trinity back and she finds out that Dozer is dead.\r\n",
      "\r\n",
      "Meanwhile Agent Smith, a tray of torture instruments near him, marvels at the beauty of the Matrix as he gazes out at the city all around them. He informs Morpheus, who is tied to a chair, that the first Matrix was designed as a utopia, engineered to make everyone happy. \"It was a disaster,\" says Agent Smith, people wouldn't accept the program and \"entire crops were lost.\" \"Some believed,\" continues Smith, \"that we lacked the programming language to describe your perfect world. But I believe that, as a species, human beings define their reality through misery and suffering. The perfect world was a dream that your primitive cerebrum kept trying to wake up from. Which is why the Matrix was redesigned.\" Agent Smith compares humans to dinosaurs and that evolution is taking hold. Another Agent enters and relays that there may be a problem (as they now know that Cypher has failed).\r\n",
      "\r\n",
      "Back on the hovercraft the shuddering form of Morpheus betrays the torture he's being put through by the Agents in the Matrix. Tank realizes that they're trying to get the codes to the mainframes of Zion's computers; each ship's captain knows them. Because a breach of Zion's defenses would mean that the last remaining vestiges of mankind would be wiped out, Tank says their only choice is to unplug Morpheus, effectively killing him.\r\n",
      "\r\n",
      "Back in the Matrix, the Agents process their next move. If Cypher is dead, they deduce that the remaining humans on the ship will terminate Morpheus. They decide to stick to their original plan and to deploy the Sentinels.\r\n",
      "\r\n",
      "Tank is performing what amounts to last rites for Morpheus, laying one hand on his head as his other moves to the back of his skull to remove the jack. Just as he's about to pull it out Neo stops him. He realizes that the Oracle was right. He now has to make the choice to save himself or to save Morpheus; his choice is to head back into the Matrix. Trinity rejects the idea. Morpheus gave himself up so that Neo could be saved since he is the One.\r\n",
      "\r\n",
      "\"I'm not the One, Trinity,\" Neo says, relaying his understanding of the discussion with the Oracle: she did not enlighten him as to whether he was the promised messiah. And, since Morpheus was willing to sacrifice himself, Neo knows that he must do that same. Tank calls it suicide; it's a military building with Agents inside. Neo says he only knows that he can bring Morpheus out. Trinity decides to come with him, reasoning with Neo that he will need her help and she's the ranking officer on the ship. \"Tank,\" she says, \"load us up!\"\r\n",
      "\r\n",
      "Meanwhile Agent Smith continues to share his musings with a brutalized Morpheus. Because humans spread to an area, consume the natural resources and, to survive, must spread to another area, Smith says we are not mammals but viruses, the only other creature that acts that way.\r\n",
      "\r\n",
      "In the Construct, Neo and Trinity get armaments. \"Neo,\" protests Trinity, \"No one has ever done anything like this.\" \"That's why it's going to work,\" he replies.\r\n",
      "\r\n",
      "Morpheus has yet to break and Smith asks the other Agents why the serum isn't working. \"Maybe we're asking the wrong questions,\" responds one. To that Smith commands the other Agents to leave him alone with Morpheus. Smith removes his earphone and his glasses and confides that he hates the Matrix, \"this zoo, this prison.\" Smith admits that he must get out of this \"reality.\" He hates the stench. He's sure that some element of the humans will rub off on him and that Morpheus holds the key to his release. If there is no Zion there's no need for Smith to be in the Matrix. \"You are going to tell me, or you are going to die.\"\r\n",
      "\r\n",
      "Downstairs, in the lobby, Trinity and Neo enter, heavily armed. They shoot their way past the guards and a group of soldiers and make their way into the elevator.\r\n",
      "\r\n",
      "Agents Brown and Jones enter the interrogation room to find Smith with his hands still fixed on Morpheus's head. Smith looks embarrassed and befuddled and the others tell him about the attack occurring downstairs. They realize that the humans are trying to save Morpheus.\r\n",
      "\r\n",
      "In the elevator, Trinity arms a bomb. They both climb through a hatch to the elevator roof, attaching a clamp to the elevator cable. Neo says \"There is no spoon\" before he severs the cable with a few shots. The counterweight drops, propelling Neo and Trinity upward. The elevator falls to the lobby exploding upon impact and filling the floor with flames.\r\n",
      "\r\n",
      "The Agents feel the rumble of the explosion and the sprinkers come on in the building. \"Find them and destroy them!\" Smith commands.\r\n",
      "\r\n",
      "On the roof, a helicopter pilot is calling \"Mayday\" as Trinity and Neo take out the soldiers there. Agent Brown takes over the pilot and appears behind Neo. Neo shoots several rounds at the Agent, who dodges them and pulls his own weapon.\r\n",
      "\r\n",
      "\"Trinity,\" yells Neo, \"Help!\" But it's too late. The Agent begins to shoot. Instead of being shot, Neo dodges most of the bullets, though two of them nick him. As the Agent approaches Neo, who is lying on the ground, he levels a kill shot but Trinity shoots him before he can fire. Trinity marvels at how fast Neo has just moved; she's never seen anyone move that quickly.\r\n",
      "\r\n",
      "Tank downloads the ability to fly the helicopter to Trinity, who can now pilot the aircraft. Trinity brings the helicopter down to the floor that Morpheus is on and Neo opens fire on the three Agents. The Agents quickly fall and Morpheus is alone in the room. Just as quickly the Agents take over other soldiers stationed nearby. Morpheus breaks his bonds and begins to run to the helicopter. The Agents fire on him, hitting his leg. Morpheus leaps but Neo realizes that he is not going to make the leap and throws himself out of the helicopter, a safety harness attached.\r\n",
      "\r\n",
      "He catches Morpheus, but Agent Smith shoots the helicopter's hydraulic line.\r\n",
      "\r\n",
      "Unable to control the helicopter, Trinity miraculously gets it close enough to drop Morpheus and Neo on a rooftop. Neo grabs the safety line as the helicopter falls towards a building. Trinity severs the safety line connecting Neo to the helicopter and jumps on it herself as the vehicle smashes into the side of a building, causing a bizarre ripple in the fabric of the building's reality as it does.\r\n",
      "\r\n",
      "On the ship Tank says, \"I knew it; he's the One.\"\r\n",
      "\r\n",
      "Neo hauls Trinity up to them. \"Do you believe it now, Trinity?\" asks Morpheus as he approaches the two. Neo tries to tell him that the Oracle told him the opposite but Morpheus says, \"She told you exactly what you needed to hear.\" They call Tank, who tells them of an exit in a subway near them.\r\n",
      "\r\n",
      "The Agents arrive on the rooftop but find only the safety harness and line. Though Agent Smith is angered, the other two are satisfied. A trace has been completed in the real world and the Sentinels have been dispatched to attack the Nebuchadnezzar.\r\n",
      "\r\n",
      "In the subway, they quickly find the phone booth and Morpheus exits out of the Matrix. A wino watches this occur. On the rooftop Agent Smith locks in to their whereabouts through the wino and appropriates his body.\r\n",
      "\r\n",
      "Meanwhile, as the phone rings, providing Trinity's exit, she confides to Neo that everything that the Oracle has told her has come true, except for one thing. She doesn't say what that thing is and picks up the phone just as she sees the approaching Agent Smith. Smith shatters the ear piece of the phone; it's impossible for Neo to exit there now.\r\n",
      "\r\n",
      "Instead of running, which Trinity implores him to do as she looks on from the ship, Neo turns to face Smith. They empty their guns on each other, neither hitting the other. They then move into close combat, trading blows. Neo sweeps Agent Smith's head, breaking his glasses. \"I'm going to enjoy watching you die, Mr. Anderson,\" says Smith. They trade some thunderous blows with Smith hitting Neo so hard he spits up blood in the Matrix and in the chair aboard the ship.\r\n",
      "\r\n",
      "\"He's killing him,\" says Trinity.\r\n",
      "\r\n",
      "Neo gets back up, sets himself and beckons Smith to start again. This time it's Neo who delivers devastating blow after blow. But Smith counters, throwing Neo into a wall then pummeling him with body blows. A wind from the tunnel signals that a subway train is approaching and Smith has a wicked notion. He throws Neo into the subway tracks then drops down there himself. He puts Neo in a headlock and, in the glow of the oncoming subway says, \"You hear that, Mr. Anderson? That is the sound of inevitability. It is the sound of your death. Good-bye, Mr. Anderson.\"\r\n",
      "\r\n",
      "\"My name,\" he replies, \"is Neo.\" Then, with a mighty leap, Neo propels them to the ceiling of the tunnel. They fall back down and Neo backflips off the tracks, leaving Agent Smith to the oncoming train.\r\n",
      "\r\n",
      "Neo heads for the stairs, but Smith has already appropriated another body and emerges from the doors of the train.\r\n",
      "\r\n",
      "Meanwhile the Sentinels have arrived to attack the Nebuchadnezzar; there are five of them and they are closing fast.\r\n",
      "\r\n",
      "Morpheus tells Tank to charge the EMP. Trinity reminds Morpheus that they can't use the EMP while Neo is in the Matrix.\r\n",
      "\r\n",
      "\"I know, Trinity, don't worry,\" says Morpheus, \"He's going to make it.\"\r\n",
      "\r\n",
      "Back in the streets of the Matrix, Neo swipes a cell phone from a nearby suit. He calls Tank: \"Mr. Wizard, get me the hell out of here.\" He races through a crowded market while Agents appropriate bodies right and left. They force Neo down a dark alley. He kicks in a door and rushes through an apartment complex where the Agents appropriate more bodies, including that of a sweet little old lady who throws a knife at Neo as Agent Smith. Neo leaps down into a pile of garbage with the Agents in hot pursuit.\r\n",
      "\r\n",
      "On the Nebuchadnezzar the Sentinels have arrived. They begin to tear the ship apart.\r\n",
      "\r\n",
      "In the Matrix, Neo arrives back at the Heart O' the City Hotel. Tank tells him to go to room 303. The Agents are literally at his heels.\r\n",
      "\r\n",
      "The Sentinels breach the hull of the ship. They are inside. Trinity, standing next to Neo's body in the chair, begs him to hurry.\r\n",
      "\r\n",
      "Neo reaches room 303 and enters. He's immediately shot, point blank in the gut, by Agent Smith. Smith empties his magazine into Neo's body. Neo slumps to the floor, dead.\r\n",
      "\r\n",
      "On the ship Neo's vital signs drop to nothing. \"It can't be,\" says Morpheus.\r\n",
      "\r\n",
      "Agent Smith instructs the others to check Neo. \"He's gone,\" one replies. \"Good-bye, Mr. Anderson,\" says Smith.\r\n",
      "\r\n",
      "The Sentinels' lasers are beginning to cut through the major parts of the hovercraft. Trinity leans over his dead body.\r\n",
      "\r\n",
      "\"Neo,\" she says, \"I'm not afraid anymore. The Oracle told me that I would fall in love and that that man... the man that I loved would be the One. So you see, you can't be dead. You can't be... because I love you. You hear me? I love you.\" She kisses him. In the chair Neo suddenly breathes. In the Matrix, Neo opens his eyes. \"Now get up,\" orders Trinity.\r\n",
      "\r\n",
      "The Agents hear Neo rise behind them and they open fire. \"No,\" Neo says calmly, raising his hands. He stops their bullets in mid-air. They drop harmlessly to the floor.\r\n",
      "\r\n",
      "\"What's happening?\" asks Tank. \"He is the One,\" says Morpheus.\r\n",
      "\r\n",
      "Back in the Matrix, Neo can see things for what they really are, green cascading code.\r\n",
      "\r\n",
      "Agent Smith is furious. He runs to Neo and attacks him. Neo blocks Smith's blows effortlessly before he sends Smith flying with one well-placed kick. Neo then leaps into Smith's body and appropriates him. Smith's shell explodes in a sea of code and Neo is all that is left, the walls buckling in waves as they did when the helicopter crashed. Agents Brown and Jones look at one another and run away.\r\n",
      "\r\n",
      "The Sentinels are now fully in the ship. They are right above Trinity and Morpheus.\r\n",
      "\r\n",
      "Back in the Matrix Neo sprints to the ringing phone in the room.\r\n",
      "\r\n",
      "Morpheus has no choice but to engage the EMP. He does and the Sentinels fall inert to the floor.\r\n",
      "\r\n",
      "Neo has made it back. He kisses Trinity.\r\n",
      "\r\n",
      "The screen is black. A command prompt appears: \"Call trans opt: received. 9-18-99 14:32:21 REC: Log>\" then \"Carrier anomaly\" \"Trace program: running\" As the grid of numbers appears again a warning appears \"System Failure.\" Over it all is Neo's voice:\r\n",
      "\r\n",
      "\"I know you're out there. I can feel you now. I know that you're afraid... you're afraid of us. You're afraid of change. I don't know the future. I didn't come here to tell you how this is going to end. I came here to tell you how it's going to begin. I'm going to hang up this phone, and then I'm going to show these people what you don't want them to see. I'm going to show them a world without you. A world without rules and controls, without borders or boundaries. A world where anything is possible. Where we go from there is a choice I leave to you.\"\r\n",
      "\r\n",
      "In the Matrix world, Neo hangs up the phone. He looks at the mindless masses around him, puts on his glasses and then looks up. From high above the city we see him take flight. The story is picked up in The Matrix Reloaded, the second of three Matrix movies.\r\n",
      "\r\n",
      "\n"
     ]
    }
   ],
   "source": [
    "# 매트릭스 시놉시스 다운로드\n",
    "\n",
    "text = requests.get('http://rare-technologies.com/the_matrix_synopsis.txt').text\n",
    "\n",
    "print(text)"
   ]
  },
  {
   "cell_type": "code",
   "execution_count": 70,
   "id": "569bbaa7",
   "metadata": {},
   "outputs": [],
   "source": [
    "import urllib.request\n",
    "urllib.request.urlretrieve(\"https://raw.githubusercontent.com/sunnysai12345/News_Summary/master/news_summary_more.csv\", filename=\"news_summary_more.csv\")\n",
    "data = pd.read_csv('news_summary_more.csv', encoding='iso-8859-1')\n",
    "\n",
    "# 문자열 칼럼 추출\n",
    "text_column = data[\"text\"]  # 'text' 칼럼만 추출 (Series 형태)\n",
    "\n",
    "# 문자열 형태로 리스트로 변환\n",
    "text_list = text_column.tolist()\n"
   ]
  },
  {
   "cell_type": "code",
   "execution_count": null,
   "id": "56b6e205",
   "metadata": {},
   "outputs": [],
   "source": [
    "data[\"text\"]"
   ]
  },
  {
   "cell_type": "code",
   "execution_count": null,
   "id": "068eab88",
   "metadata": {},
   "outputs": [
    {
     "name": "stdout",
     "output_type": "stream",
     "text": [
      "Summary:\n"
     ]
    }
   ],
   "source": [
    "# summerize 활용하기\n",
    "\n",
    "print('Summary:')\n",
    "print(summarize(text_list[0], ratio=0.005))"
   ]
  },
  {
   "cell_type": "code",
   "execution_count": 68,
   "id": "69e52099",
   "metadata": {},
   "outputs": [
    {
     "name": "stdout",
     "output_type": "stream",
     "text": [
      "Summary:\n",
      "['Morpheus, Trinity, Neo, Apoc, Switch, Mouse and Cypher are jacked into the Matrix.', 'Trinity brings the helicopter down to the floor that Morpheus is on and Neo opens fire on the three Agents.']\n"
     ]
    }
   ],
   "source": [
    "print('Summary:')\n",
    "print(summarize(text, ratio=0.005, split=True))"
   ]
  },
  {
   "cell_type": "code",
   "execution_count": 58,
   "id": "cfad907d",
   "metadata": {},
   "outputs": [
    {
     "name": "stdout",
     "output_type": "stream",
     "text": [
      "Summary:\n",
      "Trinity takes Neo to Morpheus.\n",
      "Morpheus, Trinity, Neo, Apoc, Switch, Mouse and Cypher are jacked into the Matrix.\n",
      "Trinity brings the helicopter down to the floor that Morpheus is on and Neo opens fire on the three Agents.\n"
     ]
    }
   ],
   "source": [
    "print('Summary:')\n",
    "print(summarize(text, words=50))"
   ]
  },
  {
   "cell_type": "markdown",
   "id": "89c8f24c",
   "metadata": {},
   "source": [
    "### 회고  \n",
    "\n",
    "데이터 전처리부터 시간이 오래 걸리기 때문에 시간 분배가 중요한 프로젝트였다.  \n",
    "model.summary() 부분에서 구조가 잘못 표현되었다고 생각해서 고칠 부분을 찾느라 시간을 많이 허비해서 아쉬웠다.  \n",
    "하지만 함수형 API를 쓰는 경우 summary의 모델 구조가 순서대로 표현되지 않을 수 있다는 사실을 알게 되었다.  \n",
    "데이터의 크기가 크다보니 일단 모델을 돌려보고 확인할 수 있는 시간이 부족해서 수업이 끝난 후 한번 더 모델을 고쳐 볼 예정이다.\n"
   ]
  },
  {
   "cell_type": "code",
   "execution_count": null,
   "id": "d9871cf9",
   "metadata": {},
   "outputs": [],
   "source": []
  }
 ],
 "metadata": {
  "kernelspec": {
   "display_name": "Python 3 (ipykernel)",
   "language": "python",
   "name": "python3"
  },
  "language_info": {
   "codemirror_mode": {
    "name": "ipython",
    "version": 3
   },
   "file_extension": ".py",
   "mimetype": "text/x-python",
   "name": "python",
   "nbconvert_exporter": "python",
   "pygments_lexer": "ipython3",
   "version": "3.9.7"
  }
 },
 "nbformat": 4,
 "nbformat_minor": 5
}
