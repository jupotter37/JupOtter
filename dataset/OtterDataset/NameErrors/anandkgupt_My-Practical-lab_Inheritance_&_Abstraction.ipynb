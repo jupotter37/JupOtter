{
  "nbformat": 4,
  "nbformat_minor": 0,
  "metadata": {
    "colab": {
      "provenance": [],
      "authorship_tag": "ABX9TyMXgaYxh4x+r4WngCORCZEC",
      "include_colab_link": true
    },
    "kernelspec": {
      "name": "python3",
      "display_name": "Python 3"
    },
    "language_info": {
      "name": "python"
    }
  },
  "cells": [
    {
      "cell_type": "markdown",
      "metadata": {
        "id": "view-in-github",
        "colab_type": "text"
      },
      "source": [
        "<a href=\"https://colab.research.google.com/github/anandkgupt/My-Practical-lab/blob/main/Inheritance_%26_Abstraction.ipynb\" target=\"_parent\"><img src=\"https://colab.research.google.com/assets/colab-badge.svg\" alt=\"Open In Colab\"/></a>"
      ]
    },
    {
      "cell_type": "markdown",
      "source": [
        "Inheritance & Abstraction: Inheritance and Abstraction are key concepts in Object-Oriented Programming (OOP)."
      ],
      "metadata": {
        "id": "QxM3zMRiU8tE"
      }
    },
    {
      "cell_type": "code",
      "source": [
        "## Inheritance>> it is a mechanism where one class (child or derived class) can inherit attributes and methods from another class (parent or base class). This promotes reusability and extensibility of code.\n",
        "#syntax\n",
        "# class BaseClass:\n",
        "#      #body of base class\n",
        "#class DerivedClass(BaseClass):\n",
        "#    #body of derived class\n"
      ],
      "metadata": {
        "id": "irllUvrRU72F"
      },
      "execution_count": null,
      "outputs": []
    },
    {
      "cell_type": "code",
      "source": [
        "#single inheritance>> only one parent class"
      ],
      "metadata": {
        "id": "qCvzE1BXU75o"
      },
      "execution_count": null,
      "outputs": []
    },
    {
      "cell_type": "code",
      "source": [
        "#example\n",
        "class Father:\n",
        "  def father_property(self):\n",
        "    print(\"this is the father property\")"
      ],
      "metadata": {
        "id": "1r5sMsacU8AY"
      },
      "execution_count": null,
      "outputs": []
    },
    {
      "cell_type": "code",
      "source": [
        "class Son(Father):\n",
        "  def job(self):\n",
        "    print(\"Son has property from job\")"
      ],
      "metadata": {
        "id": "2f76_a8TU8D5"
      },
      "execution_count": null,
      "outputs": []
    },
    {
      "cell_type": "code",
      "source": [
        "child_obj = Son()  #object/instance of Son class"
      ],
      "metadata": {
        "id": "iIG5YDg8PlQC"
      },
      "execution_count": null,
      "outputs": []
    },
    {
      "cell_type": "code",
      "source": [
        "##\n",
        "child_obj.job()"
      ],
      "metadata": {
        "colab": {
          "base_uri": "https://localhost:8080/"
        },
        "id": "lTU3593nPlS1",
        "outputId": "ed29af8f-6bcc-47bf-e7cf-29641714f67a"
      },
      "execution_count": null,
      "outputs": [
        {
          "output_type": "stream",
          "name": "stdout",
          "text": [
            "Son has property from job\n"
          ]
        }
      ]
    },
    {
      "cell_type": "code",
      "source": [
        "##\n",
        "child_obj.father_property()"
      ],
      "metadata": {
        "colab": {
          "base_uri": "https://localhost:8080/"
        },
        "id": "eqfY2i2ePlVo",
        "outputId": "af821a48-c374-4f04-e76c-6a02b96acb58"
      },
      "execution_count": null,
      "outputs": [
        {
          "output_type": "stream",
          "name": "stdout",
          "text": [
            "this is the father property\n"
          ]
        }
      ]
    },
    {
      "cell_type": "code",
      "source": [
        "##\n",
        "father_obj = Father()\n",
        "father_obj.father_property()"
      ],
      "metadata": {
        "colab": {
          "base_uri": "https://localhost:8080/"
        },
        "id": "OgLTcgWFPlYZ",
        "outputId": "e8e4bdf1-821c-49e6-fb0e-3fe6a3a84374"
      },
      "execution_count": null,
      "outputs": [
        {
          "output_type": "stream",
          "name": "stdout",
          "text": [
            "this is the father property\n"
          ]
        }
      ]
    },
    {
      "cell_type": "code",
      "source": [
        "father_obj.job()  #throw an error"
      ],
      "metadata": {
        "id": "S9IUG0ydPlbf",
        "colab": {
          "base_uri": "https://localhost:8080/",
          "height": 141
        },
        "outputId": "eb12bb43-d345-482b-b871-476c400e3a19"
      },
      "execution_count": null,
      "outputs": [
        {
          "output_type": "error",
          "ename": "NameError",
          "evalue": "name 'father_obj' is not defined",
          "traceback": [
            "\u001b[0;31m---------------------------------------------------------------------------\u001b[0m",
            "\u001b[0;31mNameError\u001b[0m                                 Traceback (most recent call last)",
            "\u001b[0;32m<ipython-input-1-cbc9b98f05fb>\u001b[0m in \u001b[0;36m<cell line: 1>\u001b[0;34m()\u001b[0m\n\u001b[0;32m----> 1\u001b[0;31m \u001b[0mfather_obj\u001b[0m\u001b[0;34m.\u001b[0m\u001b[0mjob\u001b[0m\u001b[0;34m(\u001b[0m\u001b[0;34m)\u001b[0m\u001b[0;34m\u001b[0m\u001b[0;34m\u001b[0m\u001b[0m\n\u001b[0m",
            "\u001b[0;31mNameError\u001b[0m: name 'father_obj' is not defined"
          ]
        }
      ]
    },
    {
      "cell_type": "code",
      "source": [
        "#parent class will have not access the property of child class but child class will have access both of property"
      ],
      "metadata": {
        "id": "7MCgML_6PleZ"
      },
      "execution_count": null,
      "outputs": []
    },
    {
      "cell_type": "code",
      "source": [
        "class Fruit:\n",
        "  def fruit_info(self):\n",
        "    print(\"Inside parent class\")\n",
        "class Apple(Fruit):\n",
        "  def apple_info(self):\n",
        "    print(\"Inside the child class\")"
      ],
      "metadata": {
        "id": "RPzhWcISPlh-"
      },
      "execution_count": null,
      "outputs": []
    },
    {
      "cell_type": "code",
      "source": [
        "obj = Apple()\n",
        "obj.apple_info()"
      ],
      "metadata": {
        "colab": {
          "base_uri": "https://localhost:8080/"
        },
        "id": "lC1ISQW_gmW9",
        "outputId": "451a096e-0d5e-4e59-a1a6-f79e68b76874"
      },
      "execution_count": null,
      "outputs": [
        {
          "output_type": "stream",
          "name": "stdout",
          "text": [
            "Inside the child class\n"
          ]
        }
      ]
    },
    {
      "cell_type": "code",
      "source": [
        "obj.fruit_info()"
      ],
      "metadata": {
        "colab": {
          "base_uri": "https://localhost:8080/"
        },
        "id": "_9D98fkVgmZ2",
        "outputId": "f12d76b9-4863-4a44-9737-096a2fd98442"
      },
      "execution_count": null,
      "outputs": [
        {
          "output_type": "stream",
          "name": "stdout",
          "text": [
            "Inside parent class\n"
          ]
        }
      ]
    },
    {
      "cell_type": "code",
      "source": [
        "par = Fruit()\n",
        "par.fruit_info()"
      ],
      "metadata": {
        "colab": {
          "base_uri": "https://localhost:8080/"
        },
        "id": "uAckk1VQgmct",
        "outputId": "5929c48b-acc1-48e1-a475-f590dcde0d62"
      },
      "execution_count": null,
      "outputs": [
        {
          "output_type": "stream",
          "name": "stdout",
          "text": [
            "Inside parent class\n"
          ]
        }
      ]
    },
    {
      "cell_type": "code",
      "source": [
        "par.apple_info() #gives an error"
      ],
      "metadata": {
        "colab": {
          "base_uri": "https://localhost:8080/",
          "height": 141
        },
        "id": "Y-gsCx7Bgmfm",
        "outputId": "6faee717-807f-40d7-c432-8fd469606fd0"
      },
      "execution_count": null,
      "outputs": [
        {
          "output_type": "error",
          "ename": "AttributeError",
          "evalue": "'Fruit' object has no attribute 'apple_info'",
          "traceback": [
            "\u001b[0;31m---------------------------------------------------------------------------\u001b[0m",
            "\u001b[0;31mAttributeError\u001b[0m                            Traceback (most recent call last)",
            "\u001b[0;32m<ipython-input-7-7b73fca9c6cc>\u001b[0m in \u001b[0;36m<cell line: 1>\u001b[0;34m()\u001b[0m\n\u001b[0;32m----> 1\u001b[0;31m \u001b[0mpar\u001b[0m\u001b[0;34m.\u001b[0m\u001b[0mapple_info\u001b[0m\u001b[0;34m(\u001b[0m\u001b[0;34m)\u001b[0m\u001b[0;34m\u001b[0m\u001b[0;34m\u001b[0m\u001b[0m\n\u001b[0m",
            "\u001b[0;31mAttributeError\u001b[0m: 'Fruit' object has no attribute 'apple_info'"
          ]
        }
      ]
    },
    {
      "cell_type": "code",
      "source": [
        "## method overriding>> re-wwriting/re-difining method of parent class in derived/child class\n",
        "class Fruit:\n",
        "  def fruit_info(self):\n",
        "    print(\"Inside parent class\")\n",
        "class Apple(Fruit):\n",
        "  def fruit_info(self):\n",
        "    print(\"Inside the child class\")\n",
        "  def apple_info(self):\n",
        "    print(\"Inside the child class\")\n",
        "## method overriding>> child class is very powerful\n",
        "## method overriding happend b/w two class"
      ],
      "metadata": {
        "id": "CBq_cCJvmrXK"
      },
      "execution_count": null,
      "outputs": []
    },
    {
      "cell_type": "code",
      "source": [
        "obj = Apple()\n",
        "obj.apple_info()"
      ],
      "metadata": {
        "colab": {
          "base_uri": "https://localhost:8080/"
        },
        "id": "D2e8wRRTmraB",
        "outputId": "af2a3103-ad1d-45f5-eed2-2dfffb1d00c9"
      },
      "execution_count": null,
      "outputs": [
        {
          "output_type": "stream",
          "name": "stdout",
          "text": [
            "Inside the child class\n"
          ]
        }
      ]
    },
    {
      "cell_type": "code",
      "source": [
        "obj = Apple()\n",
        "obj.fruit_info()"
      ],
      "metadata": {
        "colab": {
          "base_uri": "https://localhost:8080/"
        },
        "id": "M0jX88qrmrc-",
        "outputId": "57cec2e4-19f6-4dd0-d5e6-6d47879538e8"
      },
      "execution_count": null,
      "outputs": [
        {
          "output_type": "stream",
          "name": "stdout",
          "text": [
            "Inside the child class\n"
          ]
        }
      ]
    },
    {
      "cell_type": "code",
      "source": [
        "## multi-level inheritance\n"
      ],
      "metadata": {
        "id": "c3PCh_jamrfe"
      },
      "execution_count": null,
      "outputs": []
    },
    {
      "cell_type": "code",
      "source": [
        "class GrandFather:\n",
        "  def prop_grand_father(self):\n",
        "    print(\"I am your grand father, this is my property\")\n",
        "class Father(GrandFather):\n",
        "  def prop_father(self):\n",
        "    print(\"I am your father, this is my property\")\n",
        "class Son(Father):\n",
        "  def prop_son(self):\n",
        "    print(\"I am your son, this is my property\")\n",
        "\n"
      ],
      "metadata": {
        "id": "5cwgKQZLmriO"
      },
      "execution_count": 2,
      "outputs": []
    },
    {
      "cell_type": "code",
      "source": [
        "son = Son()\n",
        "son.prop_grand_father()"
      ],
      "metadata": {
        "id": "9UBmosVtmrlM",
        "colab": {
          "base_uri": "https://localhost:8080/"
        },
        "outputId": "6ff3def8-b17f-423a-ba1e-2743a276c4fd"
      },
      "execution_count": 3,
      "outputs": [
        {
          "output_type": "stream",
          "name": "stdout",
          "text": [
            "I am your grand father, this is my property\n"
          ]
        }
      ]
    },
    {
      "cell_type": "code",
      "source": [
        "father = Father()\n",
        "father.prop_grand_father()"
      ],
      "metadata": {
        "id": "juXR6JGnmroW",
        "colab": {
          "base_uri": "https://localhost:8080/"
        },
        "outputId": "22c09a90-de87-466c-a9f8-75d915a8ce70"
      },
      "execution_count": 4,
      "outputs": [
        {
          "output_type": "stream",
          "name": "stdout",
          "text": [
            "I am your grand father, this is my property\n"
          ]
        }
      ]
    },
    {
      "cell_type": "code",
      "source": [
        "grandfather = GrandFather()\n",
        "grandfather.prop_grand_father()"
      ],
      "metadata": {
        "id": "d_DtkAOImrrz",
        "colab": {
          "base_uri": "https://localhost:8080/"
        },
        "outputId": "2345bb89-4a2e-4f28-a63a-2bce41a27dac"
      },
      "execution_count": 5,
      "outputs": [
        {
          "output_type": "stream",
          "name": "stdout",
          "text": [
            "I am your grand father, this is my property\n"
          ]
        }
      ]
    },
    {
      "cell_type": "code",
      "source": [
        "#use case\n",
        "class Vehical:\n",
        "  def vehical_info(self):\n",
        "    print(\"Inside vehical class\")\n",
        "class Car(Vehical):\n",
        "  def car_info(self):\n",
        "    print(\"Inside car class\")\n",
        "class SportsCar(Car):\n",
        "  def sports_car_info(self):\n",
        "    print(\"Inside sports car\")"
      ],
      "metadata": {
        "id": "V1cIGoSKgmit"
      },
      "execution_count": 7,
      "outputs": []
    },
    {
      "cell_type": "code",
      "source": [
        "s1 = SportsCar()\n",
        "s1.sports_car_info()"
      ],
      "metadata": {
        "colab": {
          "base_uri": "https://localhost:8080/"
        },
        "id": "RfNRizRkndkS",
        "outputId": "d6b5154a-2b7d-4343-ad63-a0fa9e55a5c8"
      },
      "execution_count": 8,
      "outputs": [
        {
          "output_type": "stream",
          "name": "stdout",
          "text": [
            "Inside sports car\n"
          ]
        }
      ]
    },
    {
      "cell_type": "code",
      "source": [
        "s1.car_info()"
      ],
      "metadata": {
        "colab": {
          "base_uri": "https://localhost:8080/"
        },
        "id": "MPpQguz4ndnm",
        "outputId": "aa56203a-2aed-478c-dcf0-c2b0ac2e7c3c"
      },
      "execution_count": 10,
      "outputs": [
        {
          "output_type": "stream",
          "name": "stdout",
          "text": [
            "Inside car class\n"
          ]
        }
      ]
    },
    {
      "cell_type": "code",
      "source": [
        "s1.vehical_info()"
      ],
      "metadata": {
        "colab": {
          "base_uri": "https://localhost:8080/"
        },
        "id": "imfRW8OaowBA",
        "outputId": "531d54a1-51b4-4f27-84af-b2ebdd64353b"
      },
      "execution_count": 11,
      "outputs": [
        {
          "output_type": "stream",
          "name": "stdout",
          "text": [
            "Inside vehical class\n"
          ]
        }
      ]
    },
    {
      "cell_type": "code",
      "source": [
        "## another example of method overriding\n",
        "class Vehical:\n",
        "  def vehical_info(self):\n",
        "    print(\"Inside vehical class\")\n",
        "class Car(Vehical):\n",
        "  def car_info(self):\n",
        "    print(\"Inside car class\")\n",
        "class SportsCar(Car):\n",
        "  def vehical_info(self):\n",
        "    print(\"Inside sports car\")"
      ],
      "metadata": {
        "id": "lp8Ge8T5owDX"
      },
      "execution_count": 13,
      "outputs": []
    },
    {
      "cell_type": "code",
      "source": [
        "s1 = SportsCar()\n",
        "s1.vehical_info()"
      ],
      "metadata": {
        "colab": {
          "base_uri": "https://localhost:8080/"
        },
        "id": "ZISaxg0lowGA",
        "outputId": "540dc848-c84b-48ab-81e5-0d0fac9d5e8b"
      },
      "execution_count": 14,
      "outputs": [
        {
          "output_type": "stream",
          "name": "stdout",
          "text": [
            "Inside sports car\n"
          ]
        }
      ]
    },
    {
      "cell_type": "code",
      "source": [
        "##multiple inheritance >>"
      ],
      "metadata": {
        "id": "TBg4aR7pndrN"
      },
      "execution_count": null,
      "outputs": []
    },
    {
      "cell_type": "code",
      "source": [
        "class ParentClass1:\n",
        "  def method1(self):\n",
        "    print(\"Method 1 from ParentClass1\")\n",
        "class ParentClass2:\n",
        "  def method2(self):\n",
        "    print(\"Method 2 from ParentClass2\")\n",
        "\n"
      ],
      "metadata": {
        "id": "hqplTyFCnd5x"
      },
      "execution_count": 19,
      "outputs": []
    },
    {
      "cell_type": "code",
      "source": [
        "# Child class inheriting from both ParentClass1 and Parent class2\n",
        "class ChildClass(ParentClass1, ParentClass2):\n",
        "    def method3(self):\n",
        "        print(\"Method 3 from ChildClass\")"
      ],
      "metadata": {
        "id": "7ytJKXrHrEdl"
      },
      "execution_count": 25,
      "outputs": []
    },
    {
      "cell_type": "code",
      "source": [
        "c1 = ChildClass()\n",
        "c1.method1()\n",
        "c1.method2()\n",
        "c1.method3()"
      ],
      "metadata": {
        "colab": {
          "base_uri": "https://localhost:8080/"
        },
        "id": "sqNeR7O-rEh_",
        "outputId": "5da59aad-6725-4c17-8a45-92c1a1a548c4"
      },
      "execution_count": 26,
      "outputs": [
        {
          "output_type": "stream",
          "name": "stdout",
          "text": [
            "Method 1 from ParentClass1\n",
            "Method 2 from ParentClass2\n",
            "Method 3 from ChildClass\n"
          ]
        }
      ]
    },
    {
      "cell_type": "code",
      "source": [
        "#Dimond problem >>\n",
        "class ParentClass1:\n",
        "  def method1(self):\n",
        "    print(\"Method 1 from ParentClass1\")\n",
        "class ParentClass2:\n",
        "  def method2(self):\n",
        "    print(\"Method 2 from ParentClass2\")\n",
        "class ChildClass(ParentClass1, ParentClass2):\n",
        "    def method3(self):\n",
        "        print(\"Method 3 from ChildClass\")"
      ],
      "metadata": {
        "id": "I67h_5wxrElf"
      },
      "execution_count": 27,
      "outputs": []
    },
    {
      "cell_type": "code",
      "source": [
        "c2 = ChildClass()\n",
        "c2.method1()\n",
        "c2.method2()\n",
        "c2.method3()"
      ],
      "metadata": {
        "colab": {
          "base_uri": "https://localhost:8080/"
        },
        "id": "UKUcyeourEup",
        "outputId": "e9b2071d-edc2-4fbb-b6f8-59d41aab62d3"
      },
      "execution_count": 28,
      "outputs": [
        {
          "output_type": "stream",
          "name": "stdout",
          "text": [
            "Method 1 from ParentClass1\n",
            "Method 2 from ParentClass2\n",
            "Method 3 from ChildClass\n"
          ]
        }
      ]
    },
    {
      "cell_type": "code",
      "source": [
        "# Base class 1\n",
        "class A:\n",
        "    def method_a(self):\n",
        "        print(\"This is method A from Class A.\")\n",
        "\n",
        "# Base class 2\n",
        "class C:\n",
        "    def method_c(self):\n",
        "        print(\"This is method C from Class C.\")\n",
        "\n",
        "# Derived class\n",
        "class B(A, C):\n",
        "    def method_b(self):\n",
        "        print(\"This is method B from Class B.\")\n",
        "\n",
        "# Create an object of Class B\n",
        "obj = B()\n",
        "obj.method_a()  # From Class A\n",
        "obj.method_c()  # From Class C\n",
        "obj.method_b()  # From Class B\n"
      ],
      "metadata": {
        "colab": {
          "base_uri": "https://localhost:8080/"
        },
        "id": "Gwmh22C_rEyP",
        "outputId": "98588941-46d1-424e-8ef2-5698e5c58de4"
      },
      "execution_count": 29,
      "outputs": [
        {
          "output_type": "stream",
          "name": "stdout",
          "text": [
            "This is method A from Class A.\n",
            "This is method C from Class C.\n",
            "This is method B from Class B.\n"
          ]
        }
      ]
    },
    {
      "cell_type": "code",
      "source": [
        "## hierarichical inheritance >> one parent class>> multiple(more than one childclass)\n"
      ],
      "metadata": {
        "id": "UiP2NJgfneDC"
      },
      "execution_count": null,
      "outputs": []
    },
    {
      "cell_type": "code",
      "source": [
        "# Parent class\n",
        "class Vehicle:\n",
        "    def fuel(self):\n",
        "        print(\"This vehicle needs fuel.\")\n",
        "\n",
        "# Child class 1\n",
        "class Car(Vehicle):\n",
        "    def wheels(self):\n",
        "        print(\"A car has 4 wheels.\")\n",
        "\n",
        "# Child class 2\n",
        "class Bike(Vehicle):\n",
        "    def wheels(self):\n",
        "        print(\"A bike has 2 wheels.\")\n",
        "\n",
        "# Create objects of the child classes\n",
        "car = Car()\n",
        "bike = Bike()\n",
        "\n",
        "# Access methods\n",
        "car.fuel()  # Inherited from Vehicle\n",
        "car.wheels()  # Defined in Car\n",
        "\n",
        "bike.fuel()  # Inherited from Vehicle\n",
        "bike.wheels()  # Defined in Bike\n"
      ],
      "metadata": {
        "colab": {
          "base_uri": "https://localhost:8080/"
        },
        "id": "gYl_mXpnuF-x",
        "outputId": "e78eedc5-7c9c-4c34-b374-3a64f04d7736"
      },
      "execution_count": 30,
      "outputs": [
        {
          "output_type": "stream",
          "name": "stdout",
          "text": [
            "This vehicle needs fuel.\n",
            "A car has 4 wheels.\n",
            "This vehicle needs fuel.\n",
            "A bike has 2 wheels.\n"
          ]
        }
      ]
    },
    {
      "cell_type": "code",
      "source": [
        "## hybrid inheritance >> multiple types or combination of different iheritance"
      ],
      "metadata": {
        "id": "sQ9LYyYCuGCO"
      },
      "execution_count": null,
      "outputs": []
    },
    {
      "cell_type": "code",
      "source": [
        "# Parent class\n",
        "class Vehicle:\n",
        "    def fuel(self):\n",
        "        print(\"This vehicle needs fuel.\")\n",
        "\n",
        "# Child class 1\n",
        "class Car(Vehicle):\n",
        "    def wheels(self):\n",
        "        print(\"A car has 4 wheels.\")\n",
        "\n",
        "# Child class 2\n",
        "class Bike(Vehicle):\n",
        "    def wheels(self):\n",
        "        print(\"A bike has 2 wheels.\")\n",
        "\n",
        "# Another parent class\n",
        "class Electric:\n",
        "    def charging(self):\n",
        "        print(\"This vehicle needs to be charged.\")\n",
        "\n",
        "# Child class inheriting from both Vehicle and Electric (Multiple Inheritance)\n",
        "class ElectricCar(Car, Electric):\n",
        "    def autonomous(self):\n",
        "        print(\"This car has autonomous driving features.\")\n",
        "\n",
        "# Create objects for each class\n",
        "car = Car()\n",
        "bike = Bike()\n",
        "electric_car = ElectricCar()\n",
        "\n",
        "# Access methods\n",
        "car.fuel()                # Inherited from Vehicle\n",
        "car.wheels()              # Defined in Car\n",
        "\n",
        "bike.fuel()               # Inherited from Vehicle\n",
        "bike.wheels()             # Defined in Bike\n",
        "\n",
        "electric_car.fuel()       # Inherited from Vehicle\n",
        "electric_car.wheels()     # Inherited from Car\n",
        "electric_car.charging()   # Inherited from Electric\n",
        "electric_car.autonomous() # Defined in ElectricCar\n"
      ],
      "metadata": {
        "colab": {
          "base_uri": "https://localhost:8080/"
        },
        "id": "S-NWi1hYuGFZ",
        "outputId": "5fb14428-a203-457e-e75c-404e8a9a28b5"
      },
      "execution_count": 31,
      "outputs": [
        {
          "output_type": "stream",
          "name": "stdout",
          "text": [
            "This vehicle needs fuel.\n",
            "A car has 4 wheels.\n",
            "This vehicle needs fuel.\n",
            "A bike has 2 wheels.\n",
            "This vehicle needs fuel.\n",
            "A car has 4 wheels.\n",
            "This vehicle needs to be charged.\n",
            "This car has autonomous driving features.\n"
          ]
        }
      ]
    },
    {
      "cell_type": "code",
      "source": [
        "## Abstraction>> concept of hiding complex implementation\n",
        "#hiding unneeded details and exposing the required\n",
        "#abstract class helps reduce complexity and improve code usability by focusing on what an object does rather than how it does it\n",
        "#Hides Implementation Details: Only relevant information is exposed, while unnecessary details are hidden.\n",
        "#Improves Code Usability: Makes the interface simpler for the user.\n",
        "#Achieved Through:\n",
        "#Abstract Classes: Classes that cannot be instantiated and contain abstract methods.\n",
        "#Interfaces (in some languages): Define a contract that a class must adhere to."
      ],
      "metadata": {
        "id": "juhzPgiduGIc"
      },
      "execution_count": null,
      "outputs": []
    },
    {
      "cell_type": "code",
      "source": [
        "from abc import ABC, abstractmethod\n",
        "\n",
        "# Abstract class\n",
        "class Animal(ABC):\n",
        "    @abstractmethod\n",
        "    def sound(self):\n",
        "        pass  # Abstract method, no implementation\n",
        "\n",
        "# Concrete classes inheriting from the abstract class\n",
        "class Dog(Animal):\n",
        "    def sound(self):\n",
        "        print(\"Bark\")\n",
        "\n",
        "class Cat(Animal):\n",
        "    def sound(self):\n",
        "        print(\"Meow\")\n",
        "\n",
        "# Create objects of the concrete classes\n",
        "dog = Dog()\n",
        "cat = Cat()\n",
        "\n",
        "dog.sound()  # Output: Bark\n",
        "cat.sound()  # Output: Meow\n"
      ],
      "metadata": {
        "colab": {
          "base_uri": "https://localhost:8080/"
        },
        "id": "ObTU0OOquGL2",
        "outputId": "237884f2-5eaf-44f2-86e4-0137cee7429b"
      },
      "execution_count": 32,
      "outputs": [
        {
          "output_type": "stream",
          "name": "stdout",
          "text": [
            "Bark\n",
            "Meow\n"
          ]
        }
      ]
    },
    {
      "cell_type": "code",
      "source": [],
      "metadata": {
        "id": "BR9gKm5TgmmN"
      },
      "execution_count": null,
      "outputs": []
    },
    {
      "cell_type": "code",
      "source": [],
      "metadata": {
        "id": "GskWX_UexwHA"
      },
      "execution_count": null,
      "outputs": []
    },
    {
      "cell_type": "code",
      "source": [],
      "metadata": {
        "id": "kH3LogwSxwJu"
      },
      "execution_count": null,
      "outputs": []
    },
    {
      "cell_type": "code",
      "source": [],
      "metadata": {
        "id": "PPTI6OP-xwMq"
      },
      "execution_count": null,
      "outputs": []
    },
    {
      "cell_type": "code",
      "source": [],
      "metadata": {
        "id": "UflAk4TgxwPa"
      },
      "execution_count": null,
      "outputs": []
    },
    {
      "cell_type": "code",
      "source": [],
      "metadata": {
        "id": "fDa-P-pSxwSN"
      },
      "execution_count": null,
      "outputs": []
    },
    {
      "cell_type": "code",
      "source": [],
      "metadata": {
        "id": "LtEnZbecxwVq"
      },
      "execution_count": null,
      "outputs": []
    },
    {
      "cell_type": "code",
      "source": [],
      "metadata": {
        "id": "ZtwTI1ozxw3c"
      },
      "execution_count": null,
      "outputs": []
    },
    {
      "cell_type": "code",
      "source": [],
      "metadata": {
        "id": "Xt_8aVGZxw6Z"
      },
      "execution_count": null,
      "outputs": []
    },
    {
      "cell_type": "code",
      "source": [],
      "metadata": {
        "id": "ad4HfUzQxw9I"
      },
      "execution_count": null,
      "outputs": []
    },
    {
      "cell_type": "code",
      "source": [],
      "metadata": {
        "id": "WsxxO4xJxw_T"
      },
      "execution_count": null,
      "outputs": []
    },
    {
      "cell_type": "code",
      "source": [],
      "metadata": {
        "id": "vRlVGCelxxCu"
      },
      "execution_count": null,
      "outputs": []
    }
  ]
}