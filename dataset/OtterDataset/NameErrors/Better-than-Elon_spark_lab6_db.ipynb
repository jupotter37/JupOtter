{
 "cells": [
  {
   "cell_type": "code",
   "execution_count": 1,
   "id": "7d8e29c1",
   "metadata": {
    "collapsed": false,
    "jupyter": {
     "outputs_hidden": false
    },
    "pycharm": {
     "name": "#%%\n"
    }
   },
   "outputs": [],
   "source": [
    "import os\n",
    "import findspark\n",
    "\n",
    "from spark_builder import SparkBuilder\n",
    "from pyspark.sql.functions import explode, split, col\n",
    "\n",
    "import yaml\n",
    "from pyspark.ml.feature import VectorAssembler\n",
    "from pyspark.ml.feature import StandardScaler\n",
    "from pyspark.ml.clustering import KMeans\n",
    "from pyspark.ml.evaluation import ClusteringEvaluator\n",
    "import matplotlib.pyplot as plt\n",
    "\n",
    "import sys\n",
    "\n",
    "os.environ['PYSPARK_PYTHON'] = sys.executable\n",
    "os.environ['PYSPARK_DRIVER_PYTHON'] = sys.executable\n",
    "\n",
    "os.environ['SPARK_HOME'] = \"C:/apps/spark-3.5.1-bin-hadoop3/\"\n",
    "os.environ['PYSPARK_DRIVER_PYTHON'] = 'jupyter'\n",
    "#os.environ['PYSPARK_DRIVER_PYTHON_OPTS'] = 'lab'\n",
    "#os.environ['PYSPARK_PYTHON'] = 'python'\n",
    "findspark.init()\n",
    "cfg = yaml.load(open('config.yaml'), Loader=yaml.FullLoader)"
   ]
  },
  {
   "cell_type": "code",
   "execution_count": 2,
   "id": "9dd61be9-2203-4abe-b33c-b5ed7178b95f",
   "metadata": {},
   "outputs": [],
   "source": [
    "with open(\".env\", \"r\") as f:\n",
    "    for line in f:\n",
    "        k, v = line.rstrip().split('=')\n",
    "        os.environ[k] = v"
   ]
  },
  {
   "cell_type": "code",
   "execution_count": 3,
   "id": "e6d0e698-cf91-49ae-a84e-8ed8e7f5d374",
   "metadata": {},
   "outputs": [],
   "source": [
    "url = \"jdbc:oracle:thin:@localhost:1521/FREE\"\n",
    "properties = {\n",
    "    \"user\": \"system\",\n",
    "    \"password\": os.environ[\"ORACLE_PWD\"],\n",
    "    \"driver\": \"oracle.jdbc.driver.OracleDriver\"\n",
    "}"
   ]
  },
  {
   "cell_type": "code",
   "execution_count": 4,
   "id": "80d4f715-c4ea-4062-8b44-3115c5df5556",
   "metadata": {},
   "outputs": [
    {
     "name": "stdout",
     "output_type": "stream",
     "text": [
      "Input data\n",
      "root\n",
      " |-- completeness: double (nullable = false)\n",
      " |-- energy_100g: double (nullable = false)\n",
      " |-- energy-kcal_100g: double (nullable = false)\n",
      " |-- carbohydrates_100g: double (nullable = false)\n",
      " |-- proteins_100g: double (nullable = false)\n",
      " |-- fat_100g: double (nullable = false)\n",
      " |-- sugars_100g: double (nullable = false)\n",
      " |-- saturated-fat_100g: double (nullable = false)\n",
      " |-- salt_100g: double (nullable = false)\n",
      " |-- sodium_100g: double (nullable = false)\n",
      "\n"
     ]
    }
   ],
   "source": [
    "#UPLOAD TO DB\n",
    "spark = SparkBuilder({'spark.app.name': 'Upload_db'}).getSession()\n",
    "\n",
    "cfg = yaml.load(open('config.yaml'), Loader=yaml.FullLoader)\n",
    "\n",
    "dataset = spark.read.csv(cfg['dataset']['data_path'], header=True, inferSchema=True, sep='\\t')\n",
    "dataset = dataset.select(cfg['dataset']['filtered_cols'])\n",
    "dataset = dataset.na.fill(value=0)\n",
    "print('Input data')\n",
    "dataset.printSchema()\n",
    "\n",
    "dataset.write.jdbc(url=url, table=cfg['db']['data_table'], mode=\"overwrite\", properties=properties)\n",
    "del(dataset)\n",
    "\n",
    "spark.stop()"
   ]
  },
  {
   "cell_type": "code",
   "execution_count": 5,
   "id": "3df80c75-b754-4774-aaee-ff1d9b3639ba",
   "metadata": {},
   "outputs": [
    {
     "name": "stdout",
     "output_type": "stream",
     "text": [
      "Input data\n",
      "root\n",
      " |-- completeness: decimal(19,4) (nullable = true)\n",
      " |-- energy_100g: decimal(19,4) (nullable = true)\n",
      " |-- energy-kcal_100g: decimal(19,4) (nullable = true)\n",
      " |-- carbohydrates_100g: decimal(19,4) (nullable = true)\n",
      " |-- proteins_100g: decimal(19,4) (nullable = true)\n",
      " |-- fat_100g: decimal(19,4) (nullable = true)\n",
      " |-- sugars_100g: decimal(19,4) (nullable = true)\n",
      " |-- saturated-fat_100g: decimal(19,4) (nullable = true)\n",
      " |-- salt_100g: decimal(19,4) (nullable = true)\n",
      " |-- sodium_100g: decimal(19,4) (nullable = true)\n",
      "\n",
      "VectorAssembler\n",
      "+--------------------+\n",
      "|            features|\n",
      "+--------------------+\n",
      "|    (10,[0],[0.375])|\n",
      "|   (10,[0],[0.4625])|\n",
      "|[0.2,448.0,107.0,...|\n",
      "|[0.375,174.0,41.6...|\n",
      "|(10,[0,1,2,3,6],[...|\n",
      "+--------------------+\n",
      "only showing top 5 rows\n",
      "\n",
      "StandardScaler\n",
      "+--------------------+\n",
      "|      scaledFeatures|\n",
      "+--------------------+\n",
      "|(10,[0],[2.213270...|\n",
      "|(10,[0],[2.729700...|\n",
      "|[1.18041083366837...|\n",
      "|[2.21327031312821...|\n",
      "|(10,[0,1,2,3,6],[...|\n",
      "+--------------------+\n",
      "only showing top 5 rows\n",
      "\n"
     ]
    }
   ],
   "source": [
    "spark = SparkBuilder({'spark.app.name': 'Clustering'}).getSession()\n",
    "\n",
    "#cfg = yaml.load(open('config.yaml'), Loader=yaml.FullLoader)\n",
    "\n",
    "dataset = spark.read.jdbc(url=url, table=cfg['db']['data_table'], properties=properties)\n",
    "print('Input data')\n",
    "dataset.printSchema()\n",
    "\n",
    "vec_assembler = VectorAssembler(inputCols=dataset.columns,\n",
    "                                outputCol='features')\n",
    "final_data = vec_assembler.transform(dataset)\n",
    "print('VectorAssembler')\n",
    "final_data.select('features').show(5)\n",
    "\n",
    "scaler = StandardScaler(inputCol=\"features\",\n",
    "                        outputCol=\"scaledFeatures\",\n",
    "                        withStd=True,\n",
    "                        withMean=False)\n",
    "scalerModel = scaler.fit(final_data)\n",
    "final_data = scalerModel.transform(final_data)\n",
    "print('StandardScaler')\n",
    "final_data.select('scaledFeatures').show(5)\n",
    "\n",
    "evaluator = ClusteringEvaluator(predictionCol='prediction',\n",
    "                                featuresCol='scaledFeatures',\n",
    "                                metricName='silhouette',\n",
    "                                distanceMeasure='squaredEuclidean')\n",
    "kmeans = KMeans(featuresCol='scaledFeatures', k=12, seed=42)\n",
    "model = kmeans.fit(final_data)\n",
    "predictions = model.transform(final_data)\n",
    "score = evaluator.evaluate(predictions)\n",
    "\n",
    "predictions.select(['prediction']).write.jdbc(url=url, table=cfg['db']['pred_table'], mode='append', properties=properties)\n",
    "\n",
    "spark.stop()"
   ]
  },
  {
   "cell_type": "code",
   "execution_count": 6,
   "id": "d7dff475-639c-479e-96ea-aab64c3d9777",
   "metadata": {},
   "outputs": [
    {
     "name": "stdout",
     "output_type": "stream",
     "text": [
      "+----------+\n",
      "|prediction|\n",
      "+----------+\n",
      "|         5|\n",
      "|         5|\n",
      "|         4|\n",
      "|         5|\n",
      "|         5|\n",
      "|         4|\n",
      "|         4|\n",
      "|         4|\n",
      "|         4|\n",
      "|         4|\n",
      "|         5|\n",
      "|         4|\n",
      "|         7|\n",
      "|         7|\n",
      "|         0|\n",
      "|         5|\n",
      "|         5|\n",
      "|         0|\n",
      "|         4|\n",
      "|         0|\n",
      "+----------+\n",
      "only showing top 20 rows\n",
      "\n"
     ]
    }
   ],
   "source": [
    "spark = SparkBuilder({'spark.app.name': 'Read predictions'}).getSession()\n",
    "spark.read.jdbc(url=url, table=cfg['db']['pred_table'], properties=properties).show()\n",
    "spark.stop()"
   ]
  },
  {
   "cell_type": "code",
   "execution_count": null,
   "id": "6d3d4d4a-e7bb-405f-87f4-6796635095c0",
   "metadata": {},
   "outputs": [],
   "source": []
  },
  {
   "cell_type": "code",
   "execution_count": null,
   "id": "e189e8bb-6957-42fd-9642-cea8b03fa561",
   "metadata": {},
   "outputs": [],
   "source": []
  },
  {
   "cell_type": "code",
   "execution_count": null,
   "id": "55b7d5e1-a2a2-4fc2-bd87-ce1a6db93b25",
   "metadata": {},
   "outputs": [],
   "source": []
  },
  {
   "cell_type": "code",
   "execution_count": null,
   "id": "635f61b6-c2a4-44a2-91f4-66e37e4ff12d",
   "metadata": {},
   "outputs": [],
   "source": []
  },
  {
   "cell_type": "code",
   "execution_count": null,
   "id": "3df89dc8-32da-4100-b39c-22cc3435ccaa",
   "metadata": {},
   "outputs": [],
   "source": []
  },
  {
   "cell_type": "code",
   "execution_count": null,
   "id": "856384ed-1a2b-4fc7-9dfe-886359d31d0f",
   "metadata": {},
   "outputs": [],
   "source": []
  },
  {
   "cell_type": "code",
   "execution_count": null,
   "id": "dfa0db75-0e0c-4c11-b0e7-aa8a6f5a1f01",
   "metadata": {},
   "outputs": [],
   "source": []
  },
  {
   "cell_type": "code",
   "execution_count": 10,
   "id": "e84a1c06-d43c-4161-9e8a-74900ca322cc",
   "metadata": {},
   "outputs": [
    {
     "name": "stderr",
     "output_type": "stream",
     "text": [
      "ERROR:root:Exception while sending command.\n",
      "Traceback (most recent call last):\n",
      "  File \"C:\\Users\\stfu_\\OneDrive\\Desktop\\BigData\\Spark\\base\\.venv\\lib\\site-packages\\py4j\\clientserver.py\", line 511, in send_command\n",
      "    answer = smart_decode(self.stream.readline()[:-1])\n",
      "RuntimeError: reentrant call inside <_io.BufferedReader name=1620>\n",
      "\n",
      "During handling of the above exception, another exception occurred:\n",
      "\n",
      "Traceback (most recent call last):\n",
      "  File \"C:\\Users\\stfu_\\OneDrive\\Desktop\\BigData\\Spark\\base\\.venv\\lib\\site-packages\\py4j\\java_gateway.py\", line 1038, in send_command\n",
      "    response = connection.send_command(command)\n",
      "  File \"C:\\Users\\stfu_\\OneDrive\\Desktop\\BigData\\Spark\\base\\.venv\\lib\\site-packages\\py4j\\clientserver.py\", line 539, in send_command\n",
      "    raise Py4JNetworkError(\n",
      "py4j.protocol.Py4JNetworkError: Error while sending or receiving\n",
      "ERROR:root:Exception while sending command.\n",
      "Traceback (most recent call last):\n",
      "  File \"C:\\Users\\stfu_\\OneDrive\\Desktop\\BigData\\Spark\\base\\.venv\\lib\\site-packages\\py4j\\clientserver.py\", line 511, in send_command\n",
      "    answer = smart_decode(self.stream.readline()[:-1])\n",
      "  File \"C:\\Users\\stfu_\\AppData\\Local\\Programs\\Python\\Python39\\lib\\socket.py\", line 704, in readinto\n",
      "    return self._sock.recv_into(b)\n",
      "  File \"C:\\Users\\stfu_\\OneDrive\\Desktop\\BigData\\Spark\\base\\.venv\\lib\\site-packages\\pyspark\\context.py\", line 381, in signal_handler\n",
      "    self.cancelAllJobs()\n",
      "  File \"C:\\Users\\stfu_\\OneDrive\\Desktop\\BigData\\Spark\\base\\.venv\\lib\\site-packages\\pyspark\\context.py\", line 2446, in cancelAllJobs\n",
      "    self._jsc.sc().cancelAllJobs()\n",
      "  File \"C:\\Users\\stfu_\\OneDrive\\Desktop\\BigData\\Spark\\base\\.venv\\lib\\site-packages\\py4j\\java_gateway.py\", line 1322, in __call__\n",
      "    return_value = get_return_value(\n",
      "  File \"C:\\Users\\stfu_\\OneDrive\\Desktop\\BigData\\Spark\\base\\.venv\\lib\\site-packages\\pyspark\\errors\\exceptions\\captured.py\", line 179, in deco\n",
      "    return f(*a, **kw)\n",
      "  File \"C:\\Users\\stfu_\\OneDrive\\Desktop\\BigData\\Spark\\base\\.venv\\lib\\site-packages\\py4j\\protocol.py\", line 334, in get_return_value\n",
      "    raise Py4JError(\n",
      "py4j.protocol.Py4JError: An error occurred while calling o116.sc\n",
      "\n",
      "During handling of the above exception, another exception occurred:\n",
      "\n",
      "Traceback (most recent call last):\n",
      "  File \"C:\\Users\\stfu_\\OneDrive\\Desktop\\BigData\\Spark\\base\\.venv\\lib\\site-packages\\py4j\\java_gateway.py\", line 1038, in send_command\n",
      "    response = connection.send_command(command)\n",
      "  File \"C:\\Users\\stfu_\\OneDrive\\Desktop\\BigData\\Spark\\base\\.venv\\lib\\site-packages\\py4j\\clientserver.py\", line 539, in send_command\n",
      "    raise Py4JNetworkError(\n",
      "py4j.protocol.Py4JNetworkError: Error while sending or receiving\n"
     ]
    },
    {
     "ename": "Py4JError",
     "evalue": "An error occurred while calling o131.csv",
     "output_type": "error",
     "traceback": [
      "\u001b[1;31m---------------------------------------------------------------------------\u001b[0m",
      "\u001b[1;31mPy4JError\u001b[0m                                 Traceback (most recent call last)",
      "Cell \u001b[1;32mIn[10], line 5\u001b[0m\n\u001b[0;32m      1\u001b[0m spark \u001b[38;5;241m=\u001b[39m SparkBuilder({\u001b[38;5;124m'\u001b[39m\u001b[38;5;124mspark.app.name\u001b[39m\u001b[38;5;124m'\u001b[39m: \u001b[38;5;124m'\u001b[39m\u001b[38;5;124mClustering\u001b[39m\u001b[38;5;124m'\u001b[39m})\u001b[38;5;241m.\u001b[39mgetSession()\n\u001b[0;32m      3\u001b[0m cfg \u001b[38;5;241m=\u001b[39m yaml\u001b[38;5;241m.\u001b[39mload(\u001b[38;5;28mopen\u001b[39m(\u001b[38;5;124m'\u001b[39m\u001b[38;5;124mconfig.yaml\u001b[39m\u001b[38;5;124m'\u001b[39m), Loader\u001b[38;5;241m=\u001b[39myaml\u001b[38;5;241m.\u001b[39mFullLoader)\n\u001b[1;32m----> 5\u001b[0m dataset \u001b[38;5;241m=\u001b[39m \u001b[43mspark\u001b[49m\u001b[38;5;241;43m.\u001b[39;49m\u001b[43mread\u001b[49m\u001b[38;5;241;43m.\u001b[39;49m\u001b[43mcsv\u001b[49m\u001b[43m(\u001b[49m\u001b[43mcfg\u001b[49m\u001b[43m[\u001b[49m\u001b[38;5;124;43m'\u001b[39;49m\u001b[38;5;124;43mdataset\u001b[39;49m\u001b[38;5;124;43m'\u001b[39;49m\u001b[43m]\u001b[49m\u001b[43m[\u001b[49m\u001b[38;5;124;43m'\u001b[39;49m\u001b[38;5;124;43mdata_path\u001b[39;49m\u001b[38;5;124;43m'\u001b[39;49m\u001b[43m]\u001b[49m\u001b[43m,\u001b[49m\u001b[43m \u001b[49m\u001b[43mheader\u001b[49m\u001b[38;5;241;43m=\u001b[39;49m\u001b[38;5;28;43;01mTrue\u001b[39;49;00m\u001b[43m,\u001b[49m\u001b[43m \u001b[49m\u001b[43minferSchema\u001b[49m\u001b[38;5;241;43m=\u001b[39;49m\u001b[38;5;28;43;01mTrue\u001b[39;49;00m\u001b[43m,\u001b[49m\u001b[43m \u001b[49m\u001b[43msep\u001b[49m\u001b[38;5;241;43m=\u001b[39;49m\u001b[38;5;124;43m'\u001b[39;49m\u001b[38;5;130;43;01m\\t\u001b[39;49;00m\u001b[38;5;124;43m'\u001b[39;49m\u001b[43m)\u001b[49m\n\u001b[0;32m      6\u001b[0m dataset \u001b[38;5;241m=\u001b[39m dataset\u001b[38;5;241m.\u001b[39mselect(cfg[\u001b[38;5;124m'\u001b[39m\u001b[38;5;124mdataset\u001b[39m\u001b[38;5;124m'\u001b[39m][\u001b[38;5;124m'\u001b[39m\u001b[38;5;124mfiltered_cols\u001b[39m\u001b[38;5;124m'\u001b[39m])\n\u001b[0;32m      7\u001b[0m dataset \u001b[38;5;241m=\u001b[39m dataset\u001b[38;5;241m.\u001b[39mna\u001b[38;5;241m.\u001b[39mfill(value\u001b[38;5;241m=\u001b[39m\u001b[38;5;241m0\u001b[39m)\n",
      "File \u001b[1;32m~\\OneDrive\\Desktop\\BigData\\Spark\\base\\.venv\\lib\\site-packages\\pyspark\\sql\\readwriter.py:740\u001b[0m, in \u001b[0;36mDataFrameReader.csv\u001b[1;34m(self, path, schema, sep, encoding, quote, escape, comment, header, inferSchema, ignoreLeadingWhiteSpace, ignoreTrailingWhiteSpace, nullValue, nanValue, positiveInf, negativeInf, dateFormat, timestampFormat, maxColumns, maxCharsPerColumn, maxMalformedLogPerPartition, mode, columnNameOfCorruptRecord, multiLine, charToEscapeQuoteEscaping, samplingRatio, enforceSchema, emptyValue, locale, lineSep, pathGlobFilter, recursiveFileLookup, modifiedBefore, modifiedAfter, unescapedQuoteHandling)\u001b[0m\n\u001b[0;32m    738\u001b[0m \u001b[38;5;28;01mif\u001b[39;00m \u001b[38;5;28mtype\u001b[39m(path) \u001b[38;5;241m==\u001b[39m \u001b[38;5;28mlist\u001b[39m:\n\u001b[0;32m    739\u001b[0m     \u001b[38;5;28;01massert\u001b[39;00m \u001b[38;5;28mself\u001b[39m\u001b[38;5;241m.\u001b[39m_spark\u001b[38;5;241m.\u001b[39m_sc\u001b[38;5;241m.\u001b[39m_jvm \u001b[38;5;129;01mis\u001b[39;00m \u001b[38;5;129;01mnot\u001b[39;00m \u001b[38;5;28;01mNone\u001b[39;00m\n\u001b[1;32m--> 740\u001b[0m     \u001b[38;5;28;01mreturn\u001b[39;00m \u001b[38;5;28mself\u001b[39m\u001b[38;5;241m.\u001b[39m_df(\u001b[38;5;28;43mself\u001b[39;49m\u001b[38;5;241;43m.\u001b[39;49m\u001b[43m_jreader\u001b[49m\u001b[38;5;241;43m.\u001b[39;49m\u001b[43mcsv\u001b[49m\u001b[43m(\u001b[49m\u001b[38;5;28;43mself\u001b[39;49m\u001b[38;5;241;43m.\u001b[39;49m\u001b[43m_spark\u001b[49m\u001b[38;5;241;43m.\u001b[39;49m\u001b[43m_sc\u001b[49m\u001b[38;5;241;43m.\u001b[39;49m\u001b[43m_jvm\u001b[49m\u001b[38;5;241;43m.\u001b[39;49m\u001b[43mPythonUtils\u001b[49m\u001b[38;5;241;43m.\u001b[39;49m\u001b[43mtoSeq\u001b[49m\u001b[43m(\u001b[49m\u001b[43mpath\u001b[49m\u001b[43m)\u001b[49m\u001b[43m)\u001b[49m)\n\u001b[0;32m    741\u001b[0m \u001b[38;5;28;01melif\u001b[39;00m \u001b[38;5;28misinstance\u001b[39m(path, RDD):\n\u001b[0;32m    743\u001b[0m     \u001b[38;5;28;01mdef\u001b[39;00m \u001b[38;5;21mfunc\u001b[39m(iterator):\n",
      "File \u001b[1;32m~\\OneDrive\\Desktop\\BigData\\Spark\\base\\.venv\\lib\\site-packages\\py4j\\java_gateway.py:1322\u001b[0m, in \u001b[0;36mJavaMember.__call__\u001b[1;34m(self, *args)\u001b[0m\n\u001b[0;32m   1316\u001b[0m command \u001b[38;5;241m=\u001b[39m proto\u001b[38;5;241m.\u001b[39mCALL_COMMAND_NAME \u001b[38;5;241m+\u001b[39m\\\n\u001b[0;32m   1317\u001b[0m     \u001b[38;5;28mself\u001b[39m\u001b[38;5;241m.\u001b[39mcommand_header \u001b[38;5;241m+\u001b[39m\\\n\u001b[0;32m   1318\u001b[0m     args_command \u001b[38;5;241m+\u001b[39m\\\n\u001b[0;32m   1319\u001b[0m     proto\u001b[38;5;241m.\u001b[39mEND_COMMAND_PART\n\u001b[0;32m   1321\u001b[0m answer \u001b[38;5;241m=\u001b[39m \u001b[38;5;28mself\u001b[39m\u001b[38;5;241m.\u001b[39mgateway_client\u001b[38;5;241m.\u001b[39msend_command(command)\n\u001b[1;32m-> 1322\u001b[0m return_value \u001b[38;5;241m=\u001b[39m \u001b[43mget_return_value\u001b[49m\u001b[43m(\u001b[49m\n\u001b[0;32m   1323\u001b[0m \u001b[43m    \u001b[49m\u001b[43manswer\u001b[49m\u001b[43m,\u001b[49m\u001b[43m \u001b[49m\u001b[38;5;28;43mself\u001b[39;49m\u001b[38;5;241;43m.\u001b[39;49m\u001b[43mgateway_client\u001b[49m\u001b[43m,\u001b[49m\u001b[43m \u001b[49m\u001b[38;5;28;43mself\u001b[39;49m\u001b[38;5;241;43m.\u001b[39;49m\u001b[43mtarget_id\u001b[49m\u001b[43m,\u001b[49m\u001b[43m \u001b[49m\u001b[38;5;28;43mself\u001b[39;49m\u001b[38;5;241;43m.\u001b[39;49m\u001b[43mname\u001b[49m\u001b[43m)\u001b[49m\n\u001b[0;32m   1325\u001b[0m \u001b[38;5;28;01mfor\u001b[39;00m temp_arg \u001b[38;5;129;01min\u001b[39;00m temp_args:\n\u001b[0;32m   1326\u001b[0m     \u001b[38;5;28;01mif\u001b[39;00m \u001b[38;5;28mhasattr\u001b[39m(temp_arg, \u001b[38;5;124m\"\u001b[39m\u001b[38;5;124m_detach\u001b[39m\u001b[38;5;124m\"\u001b[39m):\n",
      "File \u001b[1;32m~\\OneDrive\\Desktop\\BigData\\Spark\\base\\.venv\\lib\\site-packages\\pyspark\\errors\\exceptions\\captured.py:179\u001b[0m, in \u001b[0;36mcapture_sql_exception.<locals>.deco\u001b[1;34m(*a, **kw)\u001b[0m\n\u001b[0;32m    177\u001b[0m \u001b[38;5;28;01mdef\u001b[39;00m \u001b[38;5;21mdeco\u001b[39m(\u001b[38;5;241m*\u001b[39ma: Any, \u001b[38;5;241m*\u001b[39m\u001b[38;5;241m*\u001b[39mkw: Any) \u001b[38;5;241m-\u001b[39m\u001b[38;5;241m>\u001b[39m Any:\n\u001b[0;32m    178\u001b[0m     \u001b[38;5;28;01mtry\u001b[39;00m:\n\u001b[1;32m--> 179\u001b[0m         \u001b[38;5;28;01mreturn\u001b[39;00m f(\u001b[38;5;241m*\u001b[39ma, \u001b[38;5;241m*\u001b[39m\u001b[38;5;241m*\u001b[39mkw)\n\u001b[0;32m    180\u001b[0m     \u001b[38;5;28;01mexcept\u001b[39;00m Py4JJavaError \u001b[38;5;28;01mas\u001b[39;00m e:\n\u001b[0;32m    181\u001b[0m         converted \u001b[38;5;241m=\u001b[39m convert_exception(e\u001b[38;5;241m.\u001b[39mjava_exception)\n",
      "File \u001b[1;32m~\\OneDrive\\Desktop\\BigData\\Spark\\base\\.venv\\lib\\site-packages\\py4j\\protocol.py:334\u001b[0m, in \u001b[0;36mget_return_value\u001b[1;34m(answer, gateway_client, target_id, name)\u001b[0m\n\u001b[0;32m    330\u001b[0m             \u001b[38;5;28;01mraise\u001b[39;00m Py4JError(\n\u001b[0;32m    331\u001b[0m                 \u001b[38;5;124m\"\u001b[39m\u001b[38;5;124mAn error occurred while calling \u001b[39m\u001b[38;5;132;01m{0}\u001b[39;00m\u001b[38;5;132;01m{1}\u001b[39;00m\u001b[38;5;132;01m{2}\u001b[39;00m\u001b[38;5;124m. Trace:\u001b[39m\u001b[38;5;130;01m\\n\u001b[39;00m\u001b[38;5;132;01m{3}\u001b[39;00m\u001b[38;5;130;01m\\n\u001b[39;00m\u001b[38;5;124m\"\u001b[39m\u001b[38;5;241m.\u001b[39m\n\u001b[0;32m    332\u001b[0m                 \u001b[38;5;28mformat\u001b[39m(target_id, \u001b[38;5;124m\"\u001b[39m\u001b[38;5;124m.\u001b[39m\u001b[38;5;124m\"\u001b[39m, name, value))\n\u001b[0;32m    333\u001b[0m     \u001b[38;5;28;01melse\u001b[39;00m:\n\u001b[1;32m--> 334\u001b[0m         \u001b[38;5;28;01mraise\u001b[39;00m Py4JError(\n\u001b[0;32m    335\u001b[0m             \u001b[38;5;124m\"\u001b[39m\u001b[38;5;124mAn error occurred while calling \u001b[39m\u001b[38;5;132;01m{0}\u001b[39;00m\u001b[38;5;132;01m{1}\u001b[39;00m\u001b[38;5;132;01m{2}\u001b[39;00m\u001b[38;5;124m\"\u001b[39m\u001b[38;5;241m.\u001b[39m\n\u001b[0;32m    336\u001b[0m             \u001b[38;5;28mformat\u001b[39m(target_id, \u001b[38;5;124m\"\u001b[39m\u001b[38;5;124m.\u001b[39m\u001b[38;5;124m\"\u001b[39m, name))\n\u001b[0;32m    337\u001b[0m \u001b[38;5;28;01melse\u001b[39;00m:\n\u001b[0;32m    338\u001b[0m     \u001b[38;5;28mtype\u001b[39m \u001b[38;5;241m=\u001b[39m answer[\u001b[38;5;241m1\u001b[39m]\n",
      "\u001b[1;31mPy4JError\u001b[0m: An error occurred while calling o131.csv"
     ]
    }
   ],
   "source": [
    "spark = SparkBuilder({'spark.app.name': 'Clustering'}).getSession()\n",
    "\n",
    "cfg = yaml.load(open('config.yaml'), Loader=yaml.FullLoader)\n",
    "\n",
    "dataset = spark.read.csv(cfg['dataset']['data_path'], header=True, inferSchema=True, sep='\\t')\n",
    "dataset = dataset.select(cfg['dataset']['filtered_cols'])\n",
    "dataset = dataset.na.fill(value=0)\n",
    "print('Input data')\n",
    "dataset.printSchema()\n",
    "\n",
    "vec_assembler = VectorAssembler(inputCols=dataset.columns,\n",
    "                                outputCol='features')\n",
    "final_data = vec_assembler.transform(dataset)\n",
    "print('VectorAssembler')\n",
    "final_data.select('features').show(5)\n",
    "\n",
    "scaler = StandardScaler(inputCol=\"features\",\n",
    "                        outputCol=\"scaledFeatures\",\n",
    "                        withStd=True,\n",
    "                        withMean=False)\n",
    "scalerModel = scaler.fit(final_data)\n",
    "final_data = scalerModel.transform(final_data)\n",
    "print('StandardScaler')\n",
    "final_data.select('scaledFeatures').show(5)\n",
    "\n",
    "silhouette_score = []\n",
    "evaluator = ClusteringEvaluator(predictionCol='prediction',\n",
    "                                featuresCol='scaledFeatures',\n",
    "                                metricName='silhouette',\n",
    "                                distanceMeasure='squaredEuclidean')\n",
    "ks = range(2, 15)\n",
    "for i in ks:\n",
    "    kmeans = KMeans(featuresCol='scaledFeatures', k=i, seed=42)\n",
    "    model = kmeans.fit(final_data)\n",
    "    predictions = model.transform(final_data)\n",
    "    score = evaluator.evaluate(predictions)\n",
    "    silhouette_score.append(score)\n",
    "    print('Silhouette Score for k =', i, 'is', score)\n",
    "\n",
    "\n",
    "plt.plot(ks,silhouette_score)\n",
    "plt.xlabel('k')\n",
    "plt.ylabel('silhouette score')\n",
    "plt.title('Silhouette Score')\n",
    "plt.show()\n",
    "\n",
    "spark.stop()"
   ]
  },
  {
   "cell_type": "code",
   "execution_count": null,
   "id": "03726081-af80-4c21-8501-a1fc4bd7dd32",
   "metadata": {},
   "outputs": [],
   "source": []
  },
  {
   "cell_type": "code",
   "execution_count": null,
   "id": "5d0d671a-e852-4558-b2a8-63fbbf1db68e",
   "metadata": {},
   "outputs": [],
   "source": []
  },
  {
   "cell_type": "code",
   "execution_count": null,
   "id": "56c150d6-a6de-44ad-8a17-1f5f0d39e165",
   "metadata": {},
   "outputs": [],
   "source": []
  },
  {
   "cell_type": "code",
   "execution_count": null,
   "id": "498746eb-789c-47c7-887b-3c519641ae47",
   "metadata": {},
   "outputs": [],
   "source": []
  },
  {
   "cell_type": "code",
   "execution_count": null,
   "id": "056fbd72-daa7-483f-9160-1ce7299069ee",
   "metadata": {},
   "outputs": [],
   "source": []
  },
  {
   "cell_type": "code",
   "execution_count": null,
   "id": "c8859602-651b-4554-bb58-ee7c8b71d72e",
   "metadata": {},
   "outputs": [],
   "source": [
    "# from db_connection import DB_Connection\n",
    "# self.connection = DB_Connection()\n",
    "# #self.connection.append_df(pd.DataFrame(data={\"y_real\":y_pred}), self.log_db_table_name)"
   ]
  },
  {
   "cell_type": "code",
   "execution_count": 2,
   "id": "8cb409fc-3f9e-4a8a-9ea8-c4e08fc57e73",
   "metadata": {},
   "outputs": [
    {
     "ename": "NameError",
     "evalue": "name 'spark' is not defined",
     "output_type": "error",
     "traceback": [
      "\u001b[1;31m---------------------------------------------------------------------------\u001b[0m",
      "\u001b[1;31mNameError\u001b[0m                                 Traceback (most recent call last)",
      "Cell \u001b[1;32mIn[2], line 9\u001b[0m\n\u001b[0;32m      2\u001b[0m properties \u001b[38;5;241m=\u001b[39m {\n\u001b[0;32m      3\u001b[0m     \u001b[38;5;124m\"\u001b[39m\u001b[38;5;124muser\u001b[39m\u001b[38;5;124m\"\u001b[39m: \u001b[38;5;124m\"\u001b[39m\u001b[38;5;124m<username>\u001b[39m\u001b[38;5;124m\"\u001b[39m,\n\u001b[0;32m      4\u001b[0m     \u001b[38;5;124m\"\u001b[39m\u001b[38;5;124mpassword\u001b[39m\u001b[38;5;124m\"\u001b[39m: \u001b[38;5;124m\"\u001b[39m\u001b[38;5;124m<password>\u001b[39m\u001b[38;5;124m\"\u001b[39m,\n\u001b[0;32m      5\u001b[0m     \u001b[38;5;124m\"\u001b[39m\u001b[38;5;124mdriver\u001b[39m\u001b[38;5;124m\"\u001b[39m: \u001b[38;5;124m\"\u001b[39m\u001b[38;5;124moracle.jdbc.driver.OracleDriver\u001b[39m\u001b[38;5;124m\"\u001b[39m\n\u001b[0;32m      6\u001b[0m }\n\u001b[0;32m      8\u001b[0m table_name \u001b[38;5;241m=\u001b[39m \u001b[38;5;124m\"\u001b[39m\u001b[38;5;124m<table_name>\u001b[39m\u001b[38;5;124m\"\u001b[39m\n\u001b[1;32m----> 9\u001b[0m df \u001b[38;5;241m=\u001b[39m \u001b[43mspark\u001b[49m\u001b[38;5;241m.\u001b[39mread\u001b[38;5;241m.\u001b[39mjdbc(url\u001b[38;5;241m=\u001b[39murl, table\u001b[38;5;241m=\u001b[39mtable_name, properties\u001b[38;5;241m=\u001b[39mproperties)\n\u001b[0;32m     11\u001b[0m mode \u001b[38;5;241m=\u001b[39m \u001b[38;5;124m\"\u001b[39m\u001b[38;5;124moverwrite\u001b[39m\u001b[38;5;124m\"\u001b[39m\n\u001b[0;32m     12\u001b[0m df\u001b[38;5;241m.\u001b[39mwrite\u001b[38;5;241m.\u001b[39mjdbc(url\u001b[38;5;241m=\u001b[39murl, table\u001b[38;5;241m=\u001b[39mtable_name, mode\u001b[38;5;241m=\u001b[39mmode, properties\u001b[38;5;241m=\u001b[39mproperties)\n",
      "\u001b[1;31mNameError\u001b[0m: name 'spark' is not defined"
     ]
    }
   ],
   "source": [
    "url = \"jdbc:oracle:<database_type>://<hostname>:<port>/<database_name>\"\n",
    "properties = {\n",
    "    \"user\": \"<username>\",\n",
    "    \"password\": \"<password>\",\n",
    "    \"driver\": \"oracle.jdbc.driver.OracleDriver\"\n",
    "}\n",
    "\n",
    "table_name = \"<table_name>\"\n",
    "df = spark.read.jdbc(url=url, table=table_name, properties=properties)\n",
    "\n",
    "mode = \"overwrite\"\n",
    "df.write.jdbc(url=url, table=table_name, mode=mode, properties=properties)"
   ]
  },
  {
   "cell_type": "code",
   "execution_count": null,
   "id": "9dcddf50-e323-4c7c-aca1-7eb19494e517",
   "metadata": {},
   "outputs": [],
   "source": []
  },
  {
   "cell_type": "code",
   "execution_count": 2,
   "id": "22aafff9-6b99-4b00-b7c3-ce6af73aef75",
   "metadata": {},
   "outputs": [
    {
     "name": "stdout",
     "output_type": "stream",
     "text": [
      "+-------+---+\n",
      "|   Name|Age|\n",
      "+-------+---+\n",
      "|  Alice| 25|\n",
      "|    Bob| 30|\n",
      "|Charlie| 35|\n",
      "+-------+---+\n",
      "\n"
     ]
    }
   ],
   "source": [
    "spark = SparkBuilder({'spark.app.name': 'Show'}).getSession()\n",
    "\n",
    "data = [(\"Alice\", 25), (\"Bob\", 30), (\"Charlie\", 35)]\n",
    "df = spark.createDataFrame(data, [\"Name\", \"Age\"])\n",
    "df.show()"
   ]
  },
  {
   "cell_type": "code",
   "execution_count": 5,
   "id": "69b21ac6-22dc-49ae-ba1e-b648b2a12115",
   "metadata": {},
   "outputs": [],
   "source": [
    "url = \"jdbc:oracle:thin:@localhost:1521/FREE\"\n",
    "properties = {\n",
    "    \"user\": \"system\",\n",
    "    \"password\": '12345',\n",
    "    \"driver\": \"oracle.jdbc.driver.OracleDriver\"\n",
    "}\n",
    "\n",
    "table_name = \"test\"\n",
    "#df = spark.read.jdbc(url=url, table=table_name, properties=properties)\n",
    "\n",
    "mode = \"overwrite\"\n",
    "df.write.jdbc(url=url, table=table_name, mode=mode, properties=properties)"
   ]
  },
  {
   "cell_type": "code",
   "execution_count": 6,
   "id": "818b3cac-ef79-4cc5-9c0c-bf32f0bc2fe2",
   "metadata": {},
   "outputs": [],
   "source": [
    "df_new = spark.read.jdbc(url=url, table=table_name, properties=properties)"
   ]
  },
  {
   "cell_type": "code",
   "execution_count": 7,
   "id": "3259fa61-3644-4abb-bb16-500cf1d3e4a8",
   "metadata": {},
   "outputs": [
    {
     "name": "stdout",
     "output_type": "stream",
     "text": [
      "+-------+---+\n",
      "|   Name|Age|\n",
      "+-------+---+\n",
      "|    Bob| 30|\n",
      "|  Alice| 25|\n",
      "|Charlie| 35|\n",
      "+-------+---+\n",
      "\n"
     ]
    }
   ],
   "source": [
    "df_new.show()"
   ]
  },
  {
   "cell_type": "code",
   "execution_count": 8,
   "id": "77a9448d-0dc2-4777-86b8-dc7d0fefba36",
   "metadata": {},
   "outputs": [],
   "source": [
    "spark.stop()"
   ]
  },
  {
   "cell_type": "code",
   "execution_count": null,
   "id": "eabedc57-2a01-49c0-a118-a644800290f9",
   "metadata": {},
   "outputs": [],
   "source": []
  },
  {
   "cell_type": "code",
   "execution_count": null,
   "id": "f5bd2119-ffb9-434b-a105-5dead6cc33a4",
   "metadata": {},
   "outputs": [],
   "source": [
    "spark = SparkBuilder({'spark.app.name': 'Word-count'}).getSession()\n",
    "\n",
    "df = spark.read.text('input.txt')\n",
    "\n",
    "df_count = (\n",
    "    df.withColumn('word', explode(split(col('value'), ' ')))\n",
    "        .groupBy('word')\n",
    "        .count()\n",
    "        .sort('count', ascending=False)\n",
    ")\n",
    "\n",
    "df_count.show()\n",
    "\n",
    "spark.stop()"
   ]
  },
  {
   "cell_type": "code",
   "execution_count": null,
   "id": "d87c2f36-bd3c-4bba-8024-ca5cc0474d74",
   "metadata": {},
   "outputs": [],
   "source": [
    "#findspark.init()\n",
    "spark = SparkBuilder({'spark.app.name': 'Show'}).getSession()\n",
    "#findspark.init()\n",
    "\n",
    "data = [(\"Alice\", 25), (\"Bob\", 30), (\"Charlie\", 35)]\n",
    "df = spark.createDataFrame(data, [\"Name\", \"Age\"])\n",
    "df.show()\n",
    "\n",
    "spark.stop()"
   ]
  },
  {
   "cell_type": "code",
   "execution_count": null,
   "id": "f459cebc-b676-4a6e-b22d-f132bbe22a65",
   "metadata": {},
   "outputs": [],
   "source": []
  },
  {
   "cell_type": "code",
   "execution_count": null,
   "id": "864a4710-4006-4f5e-96fb-9e32c44f7fb0",
   "metadata": {},
   "outputs": [],
   "source": []
  },
  {
   "cell_type": "code",
   "execution_count": 2,
   "id": "bd3a52b8",
   "metadata": {
    "collapsed": false,
    "jupyter": {
     "outputs_hidden": false
    },
    "pycharm": {
     "name": "#%%\n"
    }
   },
   "outputs": [
    {
     "name": "stdout",
     "output_type": "stream",
     "text": [
      "+----------+-----+\n",
      "|      word|count|\n",
      "+----------+-----+\n",
      "|       the|    6|\n",
      "|     Lorem|    4|\n",
      "|        of|    4|\n",
      "|       and|    3|\n",
      "|     Ipsum|    3|\n",
      "|      with|    2|\n",
      "|        It|    2|\n",
      "|     dummy|    2|\n",
      "|      type|    2|\n",
      "|      text|    2|\n",
      "|         a|    2|\n",
      "|       has|    2|\n",
      "|publishing|    1|\n",
      "|unchanged.|    1|\n",
      "|    sheets|    1|\n",
      "|   desktop|    1|\n",
      "|       not|    1|\n",
      "|     1960s|    1|\n",
      "|  Letraset|    1|\n",
      "|    Ipsum.|    1|\n",
      "+----------+-----+\n",
      "only showing top 20 rows\n",
      "\n"
     ]
    }
   ],
   "source": [
    "spark = SparkBuilder({'spark.app.name': 'Word-count'}).getSession()\n",
    "\n",
    "df = spark.read.text('input.txt')\n",
    "\n",
    "df_count = (\n",
    "    df.withColumn('word', explode(split(col('value'), ' ')))\n",
    "        .groupBy('word')\n",
    "        .count()\n",
    "        .sort('count', ascending=False)\n",
    ")\n",
    "\n",
    "df_count.show()\n",
    "\n",
    "spark.stop()"
   ]
  },
  {
   "cell_type": "code",
   "execution_count": 3,
   "id": "d38a60d7",
   "metadata": {
    "collapsed": false,
    "jupyter": {
     "outputs_hidden": false
    },
    "pycharm": {
     "name": "#%%\n"
    }
   },
   "outputs": [
    {
     "name": "stdout",
     "output_type": "stream",
     "text": [
      "+-------+---+\n",
      "|   Name|Age|\n",
      "+-------+---+\n",
      "|  Alice| 25|\n",
      "|    Bob| 30|\n",
      "|Charlie| 35|\n",
      "+-------+---+\n",
      "\n"
     ]
    }
   ],
   "source": [
    "#findspark.init()\n",
    "spark = SparkBuilder({'spark.app.name': 'Show'}).getSession()\n",
    "#findspark.init()\n",
    "\n",
    "data = [(\"Alice\", 25), (\"Bob\", 30), (\"Charlie\", 35)]\n",
    "df = spark.createDataFrame(data, [\"Name\", \"Age\"])\n",
    "df.show()\n",
    "\n",
    "spark.stop()"
   ]
  },
  {
   "cell_type": "code",
   "execution_count": 13,
   "id": "0cff5c4c",
   "metadata": {
    "collapsed": false,
    "jupyter": {
     "outputs_hidden": false
    },
    "pycharm": {
     "name": "#%%\n"
    }
   },
   "outputs": [
    {
     "name": "stdout",
     "output_type": "stream",
     "text": [
      "Input data\n",
      "root\n",
      " |-- completeness: double (nullable = false)\n",
      " |-- energy_100g: double (nullable = false)\n",
      " |-- energy-kcal_100g: double (nullable = false)\n",
      " |-- carbohydrates_100g: double (nullable = false)\n",
      " |-- proteins_100g: double (nullable = false)\n",
      " |-- fat_100g: double (nullable = false)\n",
      " |-- sugars_100g: double (nullable = false)\n",
      " |-- saturated-fat_100g: double (nullable = false)\n",
      " |-- salt_100g: double (nullable = false)\n",
      " |-- sodium_100g: double (nullable = false)\n",
      "\n",
      "VectorAssembler\n",
      "+--------------------+\n",
      "|            features|\n",
      "+--------------------+\n",
      "|      (10,[0],[0.3])|\n",
      "|[0.2625,690.0,165...|\n",
      "|[0.4875,0.0,0.0,9...|\n",
      "|[0.575,238.0,57.0...|\n",
      "|[0.275,1569.0,375...|\n",
      "+--------------------+\n",
      "only showing top 5 rows\n",
      "\n",
      "StandardScaler\n",
      "+--------------------+\n",
      "|      scaledFeatures|\n",
      "+--------------------+\n",
      "|(10,[0],[1.770616...|\n",
      "|[1.54928925370272...|\n",
      "|[2.87725147116219...|\n",
      "|[3.39368122239643...|\n",
      "|[1.62306493245047...|\n",
      "+--------------------+\n",
      "only showing top 5 rows\n",
      "\n",
      "Silhouette Score for k = 2 is 0.551099203768424\n",
      "Silhouette Score for k = 3 is 0.5758374063409186\n",
      "Silhouette Score for k = 4 is 0.6117303997974598\n",
      "Silhouette Score for k = 5 is 0.6117714910771913\n",
      "Silhouette Score for k = 6 is 0.6129415739115928\n",
      "Silhouette Score for k = 7 is 0.49379857248032905\n",
      "Silhouette Score for k = 8 is 0.503137083572379\n",
      "Silhouette Score for k = 9 is 0.39003698707601236\n",
      "Silhouette Score for k = 10 is 0.4320379300301661\n",
      "Silhouette Score for k = 11 is 0.431917720748993\n",
      "Silhouette Score for k = 12 is 0.3569635460363891\n",
      "Silhouette Score for k = 13 is 0.39135693261378796\n",
      "Silhouette Score for k = 14 is 0.3951113896837158\n"
     ]
    },
    {
     "data": {
      "image/png": "[encoded data removed]",
      "text/plain": [
       "<Figure size 640x480 with 1 Axes>"
      ]
     },
     "metadata": {},
     "output_type": "display_data"
    }
   ],
   "source": [
    "spark = SparkBuilder({'spark.app.name': 'Clustering'}).getSession()\n",
    "\n",
    "cfg = yaml.load(open('config.yaml'), Loader=yaml.FullLoader)\n",
    "\n",
    "dataset = spark.read.csv(cfg['dataset']['data_path'], header=True, inferSchema=True, sep='\\t')\n",
    "dataset = dataset.select(cfg['dataset']['filtered_cols'])\n",
    "dataset = dataset.na.fill(value=0)\n",
    "print('Input data')\n",
    "dataset.printSchema()\n",
    "\n",
    "vec_assembler = VectorAssembler(inputCols=dataset.columns,\n",
    "                                outputCol='features')\n",
    "final_data = vec_assembler.transform(dataset)\n",
    "print('VectorAssembler')\n",
    "final_data.select('features').show(5)\n",
    "\n",
    "scaler = StandardScaler(inputCol=\"features\",\n",
    "                        outputCol=\"scaledFeatures\",\n",
    "                        withStd=True,\n",
    "                        withMean=False)\n",
    "scalerModel = scaler.fit(final_data)\n",
    "final_data = scalerModel.transform(final_data)\n",
    "print('StandardScaler')\n",
    "final_data.select('scaledFeatures').show(5)\n",
    "\n",
    "silhouette_score = []\n",
    "evaluator = ClusteringEvaluator(predictionCol='prediction',\n",
    "                                featuresCol='scaledFeatures',\n",
    "                                metricName='silhouette',\n",
    "                                distanceMeasure='squaredEuclidean')\n",
    "ks = range(2, 15)\n",
    "for i in ks:\n",
    "    kmeans = KMeans(featuresCol='scaledFeatures', k=i, seed=42)\n",
    "    model = kmeans.fit(final_data)\n",
    "    predictions = model.transform(final_data)\n",
    "    score = evaluator.evaluate(predictions)\n",
    "    silhouette_score.append(score)\n",
    "    print('Silhouette Score for k =', i, 'is', score)\n",
    "\n",
    "\n",
    "plt.plot(ks,silhouette_score)\n",
    "plt.xlabel('k')\n",
    "plt.ylabel('silhouette score')\n",
    "plt.title('Silhouette Score')\n",
    "plt.show()\n",
    "\n",
    "spark.stop()"
   ]
  },
  {
   "cell_type": "code",
   "execution_count": null,
   "id": "2dfeb599",
   "metadata": {
    "collapsed": false,
    "jupyter": {
     "outputs_hidden": false
    },
    "pycharm": {
     "name": "#%%\n"
    }
   },
   "outputs": [],
   "source": []
  },
  {
   "cell_type": "code",
   "execution_count": null,
   "id": "873a98ad",
   "metadata": {
    "collapsed": false,
    "jupyter": {
     "outputs_hidden": false
    },
    "pycharm": {
     "name": "#%%\n"
    }
   },
   "outputs": [],
   "source": []
  },
  {
   "cell_type": "code",
   "execution_count": 43,
   "id": "2ba61fb7",
   "metadata": {
    "collapsed": false,
    "jupyter": {
     "outputs_hidden": false
    },
    "pycharm": {
     "name": "#%%\n"
    }
   },
   "outputs": [
    {
     "name": "stdout",
     "output_type": "stream",
     "text": [
      "root\n",
      " |-- completeness: double (nullable = false)\n",
      " |-- energy_100g: double (nullable = false)\n",
      " |-- energy-kcal_100g: double (nullable = false)\n",
      " |-- carbohydrates_100g: double (nullable = false)\n",
      " |-- proteins_100g: double (nullable = false)\n",
      " |-- fat_100g: double (nullable = false)\n",
      " |-- sugars_100g: double (nullable = false)\n",
      " |-- saturated-fat_100g: double (nullable = false)\n",
      "\n"
     ]
    }
   ],
   "source": [
    "dataset = spark.read.csv(cfg['dataset']['data_path'], header=True, inferSchema=True, sep='\\t')\n",
    "dataset = dataset.select(cfg['dataset']['filtered_cols'])\n",
    "dataset = dataset.na.fill(value=0)\n",
    "dataset.printSchema()"
   ]
  },
  {
   "cell_type": "code",
   "execution_count": 44,
   "id": "deed3e3c",
   "metadata": {
    "collapsed": false,
    "jupyter": {
     "outputs_hidden": false
    },
    "pycharm": {
     "name": "#%%\n"
    }
   },
   "outputs": [
    {
     "name": "stdout",
     "output_type": "stream",
     "text": [
      "+--------------------+\n",
      "|            features|\n",
      "+--------------------+\n",
      "|       (8,[0],[0.3])|\n",
      "|[0.2625,690.0,165...|\n",
      "|[0.4875,0.0,0.0,9...|\n",
      "|[0.575,238.0,57.0...|\n",
      "|[0.275,1569.0,375...|\n",
      "+--------------------+\n",
      "only showing top 5 rows\n",
      "\n"
     ]
    }
   ],
   "source": [
    "vec_assembler = VectorAssembler(inputCols=dataset.columns,\n",
    "                                outputCol='features')\n",
    "final_data = vec_assembler.transform(dataset)\n",
    "final_data.select('features').show(5)"
   ]
  },
  {
   "cell_type": "code",
   "execution_count": 45,
   "id": "1c9077f0",
   "metadata": {
    "collapsed": false,
    "jupyter": {
     "outputs_hidden": false
    },
    "pycharm": {
     "name": "#%%\n"
    }
   },
   "outputs": [
    {
     "name": "stdout",
     "output_type": "stream",
     "text": [
      "+--------------------+\n",
      "|      scaledFeatures|\n",
      "+--------------------+\n",
      "|(8,[0],[1.7706162...|\n",
      "|[1.54928925370272...|\n",
      "|[2.87725147116219...|\n",
      "|[3.39368122239643...|\n",
      "|[1.62306493245047...|\n",
      "+--------------------+\n",
      "only showing top 5 rows\n",
      "\n"
     ]
    }
   ],
   "source": [
    "scaler = StandardScaler(inputCol=\"features\",\n",
    "                        outputCol=\"scaledFeatures\",\n",
    "                        withStd=True,\n",
    "                        withMean=False)\n",
    "\n",
    "scalerModel = scaler.fit(final_data)\n",
    "final_data = scalerModel.transform(final_data)\n",
    "final_data.select('scaledFeatures').show(5)"
   ]
  },
  {
   "cell_type": "code",
   "execution_count": 48,
   "id": "6acdc948",
   "metadata": {
    "collapsed": false,
    "jupyter": {
     "outputs_hidden": false
    },
    "pycharm": {
     "name": "#%%\n"
    }
   },
   "outputs": [
    {
     "name": "stdout",
     "output_type": "stream",
     "text": [
      "Silhouette Score for k = 2 is 0.999617103142301\n",
      "Silhouette Score for k = 3 is 0.99921644271818\n",
      "Silhouette Score for k = 4 is 0.6276416849574148\n",
      "Silhouette Score for k = 5 is 0.5038254029969851\n",
      "Silhouette Score for k = 6 is 0.35370991910689414\n",
      "Silhouette Score for k = 7 is 0.37035634445849425\n",
      "Silhouette Score for k = 8 is 0.415258808687113\n",
      "Silhouette Score for k = 9 is 0.5057858206653499\n"
     ]
    }
   ],
   "source": [
    "silhouette_score = []\n",
    "\n",
    "evaluator = ClusteringEvaluator(predictionCol='prediction',\n",
    "                                featuresCol='scaledFeatures',\n",
    "                                metricName='silhouette',\n",
    "                                distanceMeasure='squaredEuclidean')\n",
    "\n",
    "for i in range(2, 10):\n",
    "    kmeans = KMeans(featuresCol='scaledFeatures', k=i)\n",
    "    model = kmeans.fit(final_data)\n",
    "    predictions = model.transform(final_data)\n",
    "    score = evaluator.evaluate(predictions)\n",
    "    silhouette_score.append(score)\n",
    "    print('Silhouette Score for k =', i, 'is', score)"
   ]
  },
  {
   "cell_type": "code",
   "execution_count": 49,
   "id": "11aa1c08",
   "metadata": {
    "collapsed": false,
    "jupyter": {
     "outputs_hidden": false
    },
    "pycharm": {
     "name": "#%%\n"
    }
   },
   "outputs": [
    {
     "data": {
      "image/png": "[encoded data removed]",
      "text/plain": [
       "<Figure size 640x480 with 1 Axes>"
      ]
     },
     "metadata": {},
     "output_type": "display_data"
    }
   ],
   "source": [
    "import matplotlib.pyplot as plt\n",
    "\n",
    "plt.plot(range(2,10),silhouette_score)\n",
    "plt.xlabel('k')\n",
    "plt.ylabel('silhouette score')\n",
    "plt.title('Silhouette Score')\n",
    "plt.show()"
   ]
  },
  {
   "cell_type": "code",
   "execution_count": 75,
   "id": "21b730b6",
   "metadata": {
    "collapsed": false,
    "jupyter": {
     "outputs_hidden": false
    },
    "pycharm": {
     "name": "#%%\n"
    }
   },
   "outputs": [],
   "source": [
    "spark.stop()"
   ]
  },
  {
   "cell_type": "code",
   "execution_count": null,
   "id": "f346f238",
   "metadata": {
    "collapsed": false,
    "jupyter": {
     "outputs_hidden": false
    },
    "pycharm": {
     "name": "#%%\n"
    }
   },
   "outputs": [],
   "source": []
  },
  {
   "cell_type": "code",
   "execution_count": 11,
   "id": "3570c6db",
   "metadata": {
    "collapsed": false,
    "jupyter": {
     "outputs_hidden": false
    },
    "pycharm": {
     "name": "#%%\n"
    }
   },
   "outputs": [
    {
     "name": "stderr",
     "output_type": "stream",
     "text": [
      "C:\\Users\\stfu_\\AppData\\Local\\Temp\\ipykernel_10104\\3774533282.py:3: DtypeWarning: Columns (0,17,72) have mixed types. Specify dtype option on import or set low_memory=False.\n",
      "  df = pd.read_csv(\"./truncated.csv\", sep='\\t', )\n"
     ]
    },
    {
     "data": {
      "text/plain": [
       "['completeness',\n",
       " 'energy_100g',\n",
       " 'energy-kcal_100g',\n",
       " 'carbohydrates_100g',\n",
       " 'proteins_100g',\n",
       " 'fat_100g',\n",
       " 'sugars_100g',\n",
       " 'saturated-fat_100g',\n",
       " 'salt_100g',\n",
       " 'sodium_100g']"
      ]
     },
     "execution_count": 11,
     "metadata": {},
     "output_type": "execute_result"
    }
   ],
   "source": [
    "import pandas as pd\n",
    "\n",
    "df = pd.read_csv(\"./truncated.csv\", sep='\\t', )\n",
    "df = df.loc[:, df.dtypes == float]\n",
    "cols = df.isnull().sum().sort_values()[:12]\\\n",
    "    .drop(labels=['last_updated_t', 'last_image_t'])\\\n",
    "    .index.to_list()\n",
    "cols"
   ]
  },
  {
   "cell_type": "code",
   "execution_count": null,
   "id": "8f3fc885",
   "metadata": {
    "collapsed": false,
    "jupyter": {
     "outputs_hidden": false
    },
    "pycharm": {
     "name": "#%%\n"
    }
   },
   "outputs": [],
   "source": []
  }
 ],
 "metadata": {
  "kernelspec": {
   "display_name": "spark_base",
   "language": "python",
   "name": "spark_base"
  },
  "language_info": {
   "codemirror_mode": {
    "name": "ipython",
    "version": 3
   },
   "file_extension": ".py",
   "mimetype": "text/x-python",
   "name": "python",
   "nbconvert_exporter": "python",
   "pygments_lexer": "ipython3",
   "version": "3.9.7"
  }
 },
 "nbformat": 4,
 "nbformat_minor": 5
}
