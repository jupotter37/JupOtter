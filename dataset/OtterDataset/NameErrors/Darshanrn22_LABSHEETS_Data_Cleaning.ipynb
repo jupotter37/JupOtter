{
  "nbformat": 4,
  "nbformat_minor": 0,
  "metadata": {
    "colab": {
      "provenance": []
    },
    "kernelspec": {
      "name": "python3",
      "display_name": "Python 3"
    },
    "language_info": {
      "name": "python"
    }
  },
  "cells": [
    {
      "cell_type": "code",
      "execution_count": null,
      "metadata": {
        "colab": {
          "base_uri": "https://localhost:8080/"
        },
        "id": "8TLFH9xzL0md",
        "outputId": "365a072c-d5ee-408b-91ba-b90b3007c77d"
      },
      "outputs": [
        {
          "output_type": "stream",
          "name": "stdout",
          "text": [
            "a    False\n",
            "b     True\n",
            "c    False\n",
            "d     True\n",
            "e    False\n",
            "f    False\n",
            "g     True\n",
            "h    False\n",
            "Name: one, dtype: bool\n"
          ]
        }
      ],
      "source": [
        "import pandas as pd\n",
        "import numpy as np\n",
        "df=pd.DataFrame(np.random.randn(5,3),index=['a','c','e','f','h'],columns=['one','two','three'])\n",
        "df=df.reindex(['a','b','c','d','e','f','g','h'])\n",
        "print(df['one'].isnull())"
      ]
    },
    {
      "cell_type": "code",
      "source": [
        "import pandas as pd\n",
        "import numpy as np\n",
        "df=pd.DataFrame(np.random.randn(5,3),index=['a','c','e','f','h'],columns=['one','two','three'])\n",
        "print(df)\n",
        "df=df.reindex(['a','b','c','d','e','f','g','h'])\n",
        "print(df)"
      ],
      "metadata": {
        "colab": {
          "base_uri": "https://localhost:8080/"
        },
        "id": "UKe4r4VLNMdR",
        "outputId": "b123a7c9-eef7-417a-c046-39e3bae0370e"
      },
      "execution_count": null,
      "outputs": [
        {
          "output_type": "stream",
          "name": "stdout",
          "text": [
            "        one       two     three\n",
            "a  3.191527  0.200954  1.080424\n",
            "c  0.011987  0.596088  0.551320\n",
            "e -0.844024  0.527029  0.177260\n",
            "f -1.875613 -0.849422 -1.021605\n",
            "h -0.145425 -0.413608 -0.868977\n",
            "        one       two     three\n",
            "a  3.191527  0.200954  1.080424\n",
            "b       NaN       NaN       NaN\n",
            "c  0.011987  0.596088  0.551320\n",
            "d       NaN       NaN       NaN\n",
            "e -0.844024  0.527029  0.177260\n",
            "f -1.875613 -0.849422 -1.021605\n",
            "g       NaN       NaN       NaN\n",
            "h -0.145425 -0.413608 -0.868977\n"
          ]
        }
      ]
    },
    {
      "cell_type": "code",
      "source": [
        "import pandas as pd\n",
        "import numpy as np\n",
        "df=pd.DataFrame(np.random.randn(3,3),index=['a','c','e'],columns=['one','two','three'])\n",
        "df=df.reindex(['a','b','c'])\n",
        "print(df)\n",
        "print(\"Nan replaced with '0':\")\n",
        "print(df.fillna(0))"
      ],
      "metadata": {
        "colab": {
          "base_uri": "https://localhost:8080/"
        },
        "id": "4XZTT18DOftn",
        "outputId": "73821500-d442-40f7-f80d-cbbc423f49ce"
      },
      "execution_count": null,
      "outputs": [
        {
          "output_type": "stream",
          "name": "stdout",
          "text": [
            "        one       two     three\n",
            "a  0.309681 -1.539645  0.910722\n",
            "b       NaN       NaN       NaN\n",
            "c -1.861759 -0.179033 -1.085968\n",
            "Nan replaced with '0':\n",
            "        one       two     three\n",
            "a  0.309681 -1.539645  0.910722\n",
            "b  0.000000  0.000000  0.000000\n",
            "c -1.861759 -0.179033 -1.085968\n"
          ]
        }
      ]
    },
    {
      "cell_type": "markdown",
      "source": [
        "Fill NA Forward and Backward"
      ],
      "metadata": {
        "id": "yFgebHuzPTk6"
      }
    },
    {
      "cell_type": "code",
      "source": [
        "df=pd.DataFrame(np.random.randn(5,3),index=['a','c','e','f','h'],columns=['one','two','three'])\n",
        "df=df.reindex(['a','b','c','d','e','f','g','h'])\n",
        "print(df)\n",
        "print('-------------------------------')\n",
        "print(df.fillna(method='pad'))"
      ],
      "metadata": {
        "colab": {
          "base_uri": "https://localhost:8080/"
        },
        "id": "nSuh8AGpPZyl",
        "outputId": "c83d9d67-2b3c-44c4-c333-f8fd080fb2c7"
      },
      "execution_count": null,
      "outputs": [
        {
          "output_type": "stream",
          "name": "stdout",
          "text": [
            "        one       two     three\n",
            "a -0.153003  2.481442 -0.805234\n",
            "b       NaN       NaN       NaN\n",
            "c -1.387223  1.068872  0.532742\n",
            "d       NaN       NaN       NaN\n",
            "e -0.450809 -0.299828  2.350173\n",
            "f -0.501431  0.087231 -1.127073\n",
            "g       NaN       NaN       NaN\n",
            "h -1.008871 -0.378675  1.521046\n",
            "-------------------------------\n",
            "        one       two     three\n",
            "a -0.153003  2.481442 -0.805234\n",
            "b -0.153003  2.481442 -0.805234\n",
            "c -1.387223  1.068872  0.532742\n",
            "d -1.387223  1.068872  0.532742\n",
            "e -0.450809 -0.299828  2.350173\n",
            "f -0.501431  0.087231 -1.127073\n",
            "g -0.501431  0.087231 -1.127073\n",
            "h -1.008871 -0.378675  1.521046\n"
          ]
        }
      ]
    },
    {
      "cell_type": "code",
      "source": [
        "df=pd.DataFrame(np.random.randn(5,3),index=['a','c','e','f','h'],columns=['one','two','three'])\n",
        "df=df.reindex(['a','b','c','d','e','f','g','h'])\n",
        "print(df)\n",
        "print('-------------------------------')\n",
        "print(df.fillna(method='bfill'))"
      ],
      "metadata": {
        "colab": {
          "base_uri": "https://localhost:8080/"
        },
        "id": "avTj6yn4QBTG",
        "outputId": "7053c7b2-7a16-46c2-b144-44cd8559f7d4"
      },
      "execution_count": null,
      "outputs": [
        {
          "output_type": "stream",
          "name": "stdout",
          "text": [
            "        one       two     three\n",
            "a -0.534297  1.964808  0.225481\n",
            "b       NaN       NaN       NaN\n",
            "c -0.060359  1.597450 -0.382053\n",
            "d       NaN       NaN       NaN\n",
            "e  1.392304  0.859850  0.684312\n",
            "f  0.602167  1.052201  1.262298\n",
            "g       NaN       NaN       NaN\n",
            "h -0.640651 -0.189415 -0.480010\n",
            "-------------------------------\n",
            "        one       two     three\n",
            "a -0.534297  1.964808  0.225481\n",
            "b -0.060359  1.597450 -0.382053\n",
            "c -0.060359  1.597450 -0.382053\n",
            "d  1.392304  0.859850  0.684312\n",
            "e  1.392304  0.859850  0.684312\n",
            "f  0.602167  1.052201  1.262298\n",
            "g -0.640651 -0.189415 -0.480010\n",
            "h -0.640651 -0.189415 -0.480010\n"
          ]
        }
      ]
    },
    {
      "cell_type": "code",
      "source": [
        "df=pd.DataFrame(np.random.randn(5,3),index=['a','c','e','f','h'],columns=['one','two','three'])\n",
        "df=df.reindex(['a','b','c','d','e','f','g','h'])\n",
        "print(df)\n",
        "print(df.dropna())"
      ],
      "metadata": {
        "colab": {
          "base_uri": "https://localhost:8080/"
        },
        "id": "lJZhNdgfQi2Q",
        "outputId": "af678d79-0820-463c-e068-8e1b1fe671d8"
      },
      "execution_count": null,
      "outputs": [
        {
          "output_type": "stream",
          "name": "stdout",
          "text": [
            "        one       two     three\n",
            "a -0.801945  0.290065 -0.007857\n",
            "b       NaN       NaN       NaN\n",
            "c  0.943234  0.147620  0.331490\n",
            "d       NaN       NaN       NaN\n",
            "e  0.216208  0.244392  0.107034\n",
            "f  0.258148 -0.570956  0.381763\n",
            "g       NaN       NaN       NaN\n",
            "h  0.933080  0.244416  0.842530\n",
            "        one       two     three\n",
            "a -0.801945  0.290065 -0.007857\n",
            "c  0.943234  0.147620  0.331490\n",
            "e  0.216208  0.244392  0.107034\n",
            "f  0.258148 -0.570956  0.381763\n",
            "h  0.933080  0.244416  0.842530\n"
          ]
        }
      ]
    },
    {
      "cell_type": "code",
      "source": [
        "import pandas as pd\n",
        "import numpy as np\n",
        "#from google.colab import drive\n",
        "#drive.mount('/content/drive')"
      ],
      "metadata": {
        "id": "ff4gyA_yQq0f"
      },
      "execution_count": null,
      "outputs": []
    },
    {
      "cell_type": "code",
      "source": [
        "df=pd.read_csv('/2,1 dataset titanic.csv')\n",
        "df"
      ],
      "metadata": {
        "id": "DUemN0mETR6p"
      },
      "execution_count": null,
      "outputs": []
    },
    {
      "cell_type": "code",
      "source": [
        "df.info()"
      ],
      "metadata": {
        "colab": {
          "base_uri": "https://localhost:8080/"
        },
        "id": "s5L_WPP6Tftx",
        "outputId": "d6680c06-b699-4c5e-dca5-645a55487038"
      },
      "execution_count": null,
      "outputs": [
        {
          "output_type": "stream",
          "name": "stdout",
          "text": [
            "<class 'pandas.core.frame.DataFrame'>\n",
            "RangeIndex: 891 entries, 0 to 890\n",
            "Data columns (total 12 columns):\n",
            " #   Column       Non-Null Count  Dtype  \n",
            "---  ------       --------------  -----  \n",
            " 0   PassengerId  891 non-null    int64  \n",
            " 1   Survived     891 non-null    int64  \n",
            " 2   Pclass       891 non-null    int64  \n",
            " 3   Name         891 non-null    object \n",
            " 4   Sex          891 non-null    object \n",
            " 5   Age          714 non-null    float64\n",
            " 6   SibSp        891 non-null    int64  \n",
            " 7   Parch        891 non-null    int64  \n",
            " 8   Ticket       891 non-null    object \n",
            " 9   Fare         891 non-null    float64\n",
            " 10  Cabin        204 non-null    object \n",
            " 11  Embarked     889 non-null    object \n",
            "dtypes: float64(2), int64(5), object(5)\n",
            "memory usage: 83.7+ KB\n"
          ]
        }
      ]
    },
    {
      "cell_type": "code",
      "source": [
        "df.isnull()\n",
        "df.info()"
      ],
      "metadata": {
        "colab": {
          "base_uri": "https://localhost:8080/"
        },
        "id": "kOVR2HF7T0sR",
        "outputId": "4fed19e2-1caf-4104-fe54-9a55936e1a24"
      },
      "execution_count": null,
      "outputs": [
        {
          "output_type": "stream",
          "name": "stdout",
          "text": [
            "<class 'pandas.core.frame.DataFrame'>\n",
            "RangeIndex: 891 entries, 0 to 890\n",
            "Data columns (total 12 columns):\n",
            " #   Column       Non-Null Count  Dtype  \n",
            "---  ------       --------------  -----  \n",
            " 0   PassengerId  891 non-null    int64  \n",
            " 1   Survived     891 non-null    int64  \n",
            " 2   Pclass       891 non-null    int64  \n",
            " 3   Name         891 non-null    object \n",
            " 4   Sex          891 non-null    object \n",
            " 5   Age          714 non-null    float64\n",
            " 6   SibSp        891 non-null    int64  \n",
            " 7   Parch        891 non-null    int64  \n",
            " 8   Ticket       891 non-null    object \n",
            " 9   Fare         891 non-null    float64\n",
            " 10  Cabin        204 non-null    object \n",
            " 11  Embarked     889 non-null    object \n",
            "dtypes: float64(2), int64(5), object(5)\n",
            "memory usage: 83.7+ KB\n"
          ]
        }
      ]
    },
    {
      "cell_type": "code",
      "source": [
        "cols=['Name','Ticket','Cabin']\n",
        "df=df.drop(cols,axis=1)\n",
        "df.info()"
      ],
      "metadata": {
        "colab": {
          "base_uri": "https://localhost:8080/"
        },
        "id": "LtTgvAJ5UJua",
        "outputId": "6afc2d47-6161-4e70-bb0f-1627a5fced9e"
      },
      "execution_count": null,
      "outputs": [
        {
          "output_type": "stream",
          "name": "stdout",
          "text": [
            "<class 'pandas.core.frame.DataFrame'>\n",
            "RangeIndex: 891 entries, 0 to 890\n",
            "Data columns (total 9 columns):\n",
            " #   Column       Non-Null Count  Dtype  \n",
            "---  ------       --------------  -----  \n",
            " 0   PassengerId  891 non-null    int64  \n",
            " 1   Survived     891 non-null    int64  \n",
            " 2   Pclass       891 non-null    int64  \n",
            " 3   Sex          891 non-null    object \n",
            " 4   Age          714 non-null    float64\n",
            " 5   SibSp        891 non-null    int64  \n",
            " 6   Parch        891 non-null    int64  \n",
            " 7   Fare         891 non-null    float64\n",
            " 8   Embarked     889 non-null    object \n",
            "dtypes: float64(2), int64(5), object(2)\n",
            "memory usage: 62.8+ KB\n"
          ]
        }
      ]
    },
    {
      "cell_type": "markdown",
      "source": [
        "Drop the rows having no values"
      ],
      "metadata": {
        "id": "Z1LRCI3MUe9E"
      }
    },
    {
      "cell_type": "code",
      "source": [
        "df=df.dropna()\n",
        "df.info()"
      ],
      "metadata": {
        "colab": {
          "base_uri": "https://localhost:8080/"
        },
        "id": "jKduotxoUkTz",
        "outputId": "1a6507c8-21e0-49ea-f089-52f6169fb0b6"
      },
      "execution_count": null,
      "outputs": [
        {
          "output_type": "stream",
          "name": "stdout",
          "text": [
            "<class 'pandas.core.frame.DataFrame'>\n",
            "Int64Index: 712 entries, 0 to 890\n",
            "Data columns (total 9 columns):\n",
            " #   Column       Non-Null Count  Dtype  \n",
            "---  ------       --------------  -----  \n",
            " 0   PassengerId  712 non-null    int64  \n",
            " 1   Survived     712 non-null    int64  \n",
            " 2   Pclass       712 non-null    int64  \n",
            " 3   Sex          712 non-null    object \n",
            " 4   Age          712 non-null    float64\n",
            " 5   SibSp        712 non-null    int64  \n",
            " 6   Parch        712 non-null    int64  \n",
            " 7   Fare         712 non-null    float64\n",
            " 8   Embarked     712 non-null    object \n",
            "dtypes: float64(2), int64(5), object(2)\n",
            "memory usage: 55.6+ KB\n"
          ]
        }
      ]
    },
    {
      "cell_type": "code",
      "source": [
        "dummies= []\n",
        "cols=['Pclass','Sex','Embarked']\n",
        "for col in cols:\n",
        "  dummies.append(pd.get_dummies(df[col]))"
      ],
      "metadata": {
        "id": "1yuIiGHrVvw2"
      },
      "execution_count": null,
      "outputs": []
    },
    {
      "cell_type": "markdown",
      "source": [
        "Transform the eight columns"
      ],
      "metadata": {
        "id": "uLnVmzrxWNF9"
      }
    },
    {
      "cell_type": "code",
      "source": [
        "titanic_dummies=pd.concat(dummies,axis=1)\n",
        "print(df)"
      ],
      "metadata": {
        "colab": {
          "base_uri": "https://localhost:8080/"
        },
        "id": "SB5q57JHWQpv",
        "outputId": "d03a53f8-04e6-44f1-8a59-4086dcacdadb"
      },
      "execution_count": null,
      "outputs": [
        {
          "output_type": "stream",
          "name": "stdout",
          "text": [
            "     PassengerId  Survived  Pclass  \\\n",
            "0              1         0       3   \n",
            "1              2         1       1   \n",
            "2              3         1       3   \n",
            "3              4         1       1   \n",
            "4              5         0       3   \n",
            "..           ...       ...     ...   \n",
            "886          887         0       2   \n",
            "887          888         1       1   \n",
            "888          889         0       3   \n",
            "889          890         1       1   \n",
            "890          891         0       3   \n",
            "\n",
            "                                                  Name     Sex   Age  SibSp  \\\n",
            "0                              Braund, Mr. Owen Harris    male  22.0      1   \n",
            "1    Cumings, Mrs. John Bradley (Florence Briggs Th...  female  38.0      1   \n",
            "2                               Heikkinen, Miss. Laina  female  26.0      0   \n",
            "3         Futrelle, Mrs. Jacques Heath (Lily May Peel)  female  35.0      1   \n",
            "4                             Allen, Mr. William Henry    male  35.0      0   \n",
            "..                                                 ...     ...   ...    ...   \n",
            "886                              Montvila, Rev. Juozas    male  27.0      0   \n",
            "887                       Graham, Miss. Margaret Edith  female  19.0      0   \n",
            "888           Johnston, Miss. Catherine Helen \"Carrie\"  female   NaN      1   \n",
            "889                              Behr, Mr. Karl Howell    male  26.0      0   \n",
            "890                                Dooley, Mr. Patrick    male  32.0      0   \n",
            "\n",
            "     Parch            Ticket     Fare Cabin Embarked  \n",
            "0        0         A/5 21171   7.2500   NaN        S  \n",
            "1        0          PC 17599  71.2833   C85        C  \n",
            "2        0  STON/O2. 3101282   7.9250   NaN        S  \n",
            "3        0            113803  53.1000  C123        S  \n",
            "4        0            373450   8.0500   NaN        S  \n",
            "..     ...               ...      ...   ...      ...  \n",
            "886      0            211536  13.0000   NaN        S  \n",
            "887      0            112053  30.0000   B42        S  \n",
            "888      2        W./C. 6607  23.4500   NaN        S  \n",
            "889      0            111369  30.0000  C148        C  \n",
            "890      0            370376   7.7500   NaN        Q  \n",
            "\n",
            "[891 rows x 12 columns]\n"
          ]
        }
      ]
    },
    {
      "cell_type": "markdown",
      "source": [
        "Concatenate"
      ],
      "metadata": {
        "id": "So6axLPYWYkX"
      }
    },
    {
      "cell_type": "code",
      "source": [
        "titanic_dummies = pd.concat(dummies, axis=1)"
      ],
      "metadata": {
        "id": "gDA9oJMFP-el"
      },
      "execution_count": null,
      "outputs": []
    },
    {
      "cell_type": "markdown",
      "source": [
        "concatenate the values with data frame"
      ],
      "metadata": {
        "id": "_RB6oX6OQU2z"
      }
    },
    {
      "cell_type": "code",
      "source": [
        "df=pd.concat((df,titanic_dummies), axis=1)"
      ],
      "metadata": {
        "id": "_sT_xT45QMhN"
      },
      "execution_count": null,
      "outputs": []
    },
    {
      "cell_type": "markdown",
      "source": [
        "INTERPOLATE"
      ],
      "metadata": {
        "id": "jTDQZa4tRdn5"
      }
    },
    {
      "cell_type": "code",
      "source": [
        "df['Age'] = df['Age'].interpolate()\n",
        "print(df)"
      ],
      "metadata": {
        "colab": {
          "base_uri": "https://localhost:8080/"
        },
        "id": "qke4DZIjRNfZ",
        "outputId": "955fe7c5-faf9-48b8-c24a-c1b6186f7519"
      },
      "execution_count": null,
      "outputs": [
        {
          "output_type": "stream",
          "name": "stdout",
          "text": [
            "     PassengerId  Survived                                               Name  \\\n",
            "0              1         0                            Braund, Mr. Owen Harris   \n",
            "1              2         1  Cumings, Mrs. John Bradley (Florence Briggs Th...   \n",
            "2              3         1                             Heikkinen, Miss. Laina   \n",
            "3              4         1       Futrelle, Mrs. Jacques Heath (Lily May Peel)   \n",
            "4              5         0                           Allen, Mr. William Henry   \n",
            "..           ...       ...                                                ...   \n",
            "886          887         0                              Montvila, Rev. Juozas   \n",
            "887          888         1                       Graham, Miss. Margaret Edith   \n",
            "888          889         0           Johnston, Miss. Catherine Helen \"Carrie\"   \n",
            "889          890         1                              Behr, Mr. Karl Howell   \n",
            "890          891         0                                Dooley, Mr. Patrick   \n",
            "\n",
            "      Age  SibSp  Parch            Ticket     Fare Cabin  1  2  3  female  \\\n",
            "0    22.0      1      0         A/5 21171   7.2500   NaN  0  0  1       0   \n",
            "1    38.0      1      0          PC 17599  71.2833   C85  1  0  0       1   \n",
            "2    26.0      0      0  STON/O2. 3101282   7.9250   NaN  0  0  1       1   \n",
            "3    35.0      1      0            113803  53.1000  C123  1  0  0       1   \n",
            "4    35.0      0      0            373450   8.0500   NaN  0  0  1       0   \n",
            "..    ...    ...    ...               ...      ...   ... .. .. ..     ...   \n",
            "886  27.0      0      0            211536  13.0000   NaN  0  1  0       0   \n",
            "887  19.0      0      0            112053  30.0000   B42  1  0  0       1   \n",
            "888  22.5      1      2        W./C. 6607  23.4500   NaN  0  0  1       1   \n",
            "889  26.0      0      0            111369  30.0000  C148  1  0  0       0   \n",
            "890  32.0      0      0            370376   7.7500   NaN  0  0  1       0   \n",
            "\n",
            "     male  C  Q  S  \n",
            "0       1  0  0  1  \n",
            "1       0  1  0  0  \n",
            "2       0  0  0  1  \n",
            "3       0  0  0  1  \n",
            "4       1  0  0  1  \n",
            "..    ... .. .. ..  \n",
            "886     1  0  0  1  \n",
            "887     0  0  0  1  \n",
            "888     0  0  0  1  \n",
            "889     1  1  0  0  \n",
            "890     1  0  1  0  \n",
            "\n",
            "[891 rows x 17 columns]\n"
          ]
        }
      ]
    },
    {
      "cell_type": "markdown",
      "source": [
        "Min Max Scaler andSTANDARDIZATION"
      ],
      "metadata": {
        "id": "RjR_36M2RbBi"
      }
    },
    {
      "cell_type": "code",
      "source": [
        "from sklearn.preprocessing import MinMaxScaler\n"
      ],
      "metadata": {
        "id": "no1mGc7SRkHR"
      },
      "execution_count": null,
      "outputs": []
    },
    {
      "cell_type": "code",
      "source": [
        "data=[[-1,2],[-0.5,6],[0,10],[1,18]]\n",
        "scalar=MinMaxScaler()\n",
        "print(scaler.fit(data))\n",
        "print('---------')\n",
        "MinMaxScaler()\n",
        "print(scaler.data_max_)\n",
        "print('--------')\n",
        "print(scaler.transform(data))"
      ],
      "metadata": {
        "colab": {
          "base_uri": "https://localhost:8080/",
          "height": 211
        },
        "id": "01sTWC6kTdwq",
        "outputId": "6eea04ac-07e9-4664-d23c-35bdfaed2210"
      },
      "execution_count": null,
      "outputs": [
        {
          "output_type": "error",
          "ename": "NameError",
          "evalue": "name 'scaler' is not defined",
          "traceback": [
            "\u001b[0;31m---------------------------------------------------------------------------\u001b[0m",
            "\u001b[0;31mNameError\u001b[0m                                 Traceback (most recent call last)",
            "\u001b[0;32m<ipython-input-8-036f5258e69a>\u001b[0m in \u001b[0;36m<cell line: 3>\u001b[0;34m()\u001b[0m\n\u001b[1;32m      1\u001b[0m \u001b[0mdata\u001b[0m\u001b[0;34m=\u001b[0m\u001b[0;34m[\u001b[0m\u001b[0;34m[\u001b[0m\u001b[0;34m-\u001b[0m\u001b[0;36m1\u001b[0m\u001b[0;34m,\u001b[0m\u001b[0;36m2\u001b[0m\u001b[0;34m]\u001b[0m\u001b[0;34m,\u001b[0m\u001b[0;34m[\u001b[0m\u001b[0;34m-\u001b[0m\u001b[0;36m0.5\u001b[0m\u001b[0;34m,\u001b[0m\u001b[0;36m6\u001b[0m\u001b[0;34m]\u001b[0m\u001b[0;34m,\u001b[0m\u001b[0;34m[\u001b[0m\u001b[0;36m0\u001b[0m\u001b[0;34m,\u001b[0m\u001b[0;36m10\u001b[0m\u001b[0;34m]\u001b[0m\u001b[0;34m,\u001b[0m\u001b[0;34m[\u001b[0m\u001b[0;36m1\u001b[0m\u001b[0;34m,\u001b[0m\u001b[0;36m18\u001b[0m\u001b[0;34m]\u001b[0m\u001b[0;34m]\u001b[0m\u001b[0;34m\u001b[0m\u001b[0;34m\u001b[0m\u001b[0m\n\u001b[1;32m      2\u001b[0m \u001b[0mscalar\u001b[0m\u001b[0;34m=\u001b[0m\u001b[0mMinMaxScaler\u001b[0m\u001b[0;34m(\u001b[0m\u001b[0;34m)\u001b[0m\u001b[0;34m\u001b[0m\u001b[0;34m\u001b[0m\u001b[0m\n\u001b[0;32m----> 3\u001b[0;31m \u001b[0mprint\u001b[0m\u001b[0;34m(\u001b[0m\u001b[0mscaler\u001b[0m\u001b[0;34m.\u001b[0m\u001b[0mfit\u001b[0m\u001b[0;34m(\u001b[0m\u001b[0mdata\u001b[0m\u001b[0;34m)\u001b[0m\u001b[0;34m)\u001b[0m\u001b[0;34m\u001b[0m\u001b[0;34m\u001b[0m\u001b[0m\n\u001b[0m\u001b[1;32m      4\u001b[0m \u001b[0mprint\u001b[0m\u001b[0;34m(\u001b[0m\u001b[0;34m'---------'\u001b[0m\u001b[0;34m)\u001b[0m\u001b[0;34m\u001b[0m\u001b[0;34m\u001b[0m\u001b[0m\n\u001b[1;32m      5\u001b[0m \u001b[0mMinMaxScaler\u001b[0m\u001b[0;34m(\u001b[0m\u001b[0;34m)\u001b[0m\u001b[0;34m\u001b[0m\u001b[0;34m\u001b[0m\u001b[0m\n",
            "\u001b[0;31mNameError\u001b[0m: name 'scaler' is not defined"
          ]
        }
      ]
    },
    {
      "cell_type": "code",
      "source": [
        "from numpy import asarray\n",
        "from sklearn.preprocessing import StandardScaler"
      ],
      "metadata": {
        "id": "_LQ4PCQKTnVS"
      },
      "execution_count": null,
      "outputs": []
    },
    {
      "cell_type": "code",
      "source": [
        "data=asarray([[100,0.001],[8,0.05],[50,0.005],[88,0.007],[4,0.1]])\n",
        "print(data)\n",
        "scaler=StandardScaler()\n",
        "scaled=scaler.fit_transform(data)\n",
        "print(scaled)"
      ],
      "metadata": {
        "colab": {
          "base_uri": "https://localhost:8080/"
        },
        "id": "Yw9nomM4T-oi",
        "outputId": "b16db657-95e0-46cb-ae5c-969767af85d1"
      },
      "execution_count": null,
      "outputs": [
        {
          "output_type": "stream",
          "name": "stdout",
          "text": [
            "[[1.0e+02 1.0e-03]\n",
            " [8.0e+00 5.0e-02]\n",
            " [5.0e+01 5.0e-03]\n",
            " [8.8e+01 7.0e-03]\n",
            " [4.0e+00 1.0e-01]]\n",
            "[[ 1.26398112 -0.8292164 ]\n",
            " [-1.06174414  0.45659384]\n",
            " [ 0.         -0.7242523 ]\n",
            " [ 0.96062565 -0.67177025]\n",
            " [-1.16286263  1.76864512]]\n"
          ]
        }
      ]
    },
    {
      "cell_type": "code",
      "source": [],
      "metadata": {
        "id": "TLAAKfjQUXjD"
      },
      "execution_count": null,
      "outputs": []
    }
  ]
}