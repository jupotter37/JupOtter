{
 "cells": [
  {
   "cell_type": "markdown",
   "id": "e0dcd506",
   "metadata": {},
   "source": [
    "# Tricks 2"
   ]
  },
  {
   "cell_type": "code",
   "execution_count": 1,
   "id": "d197b6ef",
   "metadata": {},
   "outputs": [],
   "source": [
    "tup = (\"hello\", 34, 44)"
   ]
  },
  {
   "cell_type": "code",
   "execution_count": 2,
   "id": "98e9a45d",
   "metadata": {},
   "outputs": [
    {
     "data": {
      "text/plain": [
       "34"
      ]
     },
     "execution_count": 2,
     "metadata": {},
     "output_type": "execute_result"
    }
   ],
   "source": [
    "tup[1]"
   ]
  },
  {
   "cell_type": "code",
   "execution_count": 3,
   "id": "29b70a15",
   "metadata": {},
   "outputs": [],
   "source": [
    "from collections import namedtuple"
   ]
  },
  {
   "cell_type": "code",
   "execution_count": 12,
   "id": "af14effb",
   "metadata": {},
   "outputs": [],
   "source": [
    "Car = namedtuple(\"Car\", [\"color\", \"doors\", \"hpa\"])"
   ]
  },
  {
   "cell_type": "code",
   "execution_count": 13,
   "id": "7ee906f4",
   "metadata": {},
   "outputs": [],
   "source": [
    "my_car = Car(\"blue\", 4, 90)"
   ]
  },
  {
   "cell_type": "code",
   "execution_count": 14,
   "id": "dd10b8b7",
   "metadata": {},
   "outputs": [
    {
     "data": {
      "text/plain": [
       "'blue'"
      ]
     },
     "execution_count": 14,
     "metadata": {},
     "output_type": "execute_result"
    }
   ],
   "source": [
    "my_car.color"
   ]
  },
  {
   "cell_type": "code",
   "execution_count": 15,
   "id": "2ddf814e",
   "metadata": {},
   "outputs": [
    {
     "data": {
      "text/plain": [
       "Car(color='blue', doors=4, hpa=90)"
      ]
     },
     "execution_count": 15,
     "metadata": {},
     "output_type": "execute_result"
    }
   ],
   "source": [
    "Car(\"blue\", 4, 90)"
   ]
  },
  {
   "cell_type": "code",
   "execution_count": 16,
   "id": "3a3be2d7",
   "metadata": {},
   "outputs": [
    {
     "name": "stdout",
     "output_type": "stream",
     "text": [
      "Car(color='blue', doors=4, hpa=90)\n"
     ]
    }
   ],
   "source": [
    "print(my_car)"
   ]
  },
  {
   "cell_type": "code",
   "execution_count": 18,
   "id": "455ef3c3",
   "metadata": {},
   "outputs": [],
   "source": [
    "Rgb = namedtuple(\"Rgb\", [\"red\", \"green\", \"blue\"])\n",
    "\n",
    "color1 = Rgb(255,155,155)"
   ]
  },
  {
   "cell_type": "code",
   "execution_count": 21,
   "id": "08e6025c",
   "metadata": {},
   "outputs": [
    {
     "data": {
      "text/plain": [
       "255"
      ]
     },
     "execution_count": 21,
     "metadata": {},
     "output_type": "execute_result"
    }
   ],
   "source": [
    "color1.red"
   ]
  },
  {
   "cell_type": "code",
   "execution_count": 22,
   "id": "7d928560",
   "metadata": {},
   "outputs": [],
   "source": [
    "from itertools import count"
   ]
  },
  {
   "cell_type": "code",
   "execution_count": 23,
   "id": "8239239f",
   "metadata": {},
   "outputs": [
    {
     "data": {
      "text/plain": [
       "count(2, 3)"
      ]
     },
     "execution_count": 23,
     "metadata": {},
     "output_type": "execute_result"
    }
   ],
   "source": [
    "count(start=2, step=3)"
   ]
  },
  {
   "cell_type": "code",
   "execution_count": 24,
   "id": "2a9325d9",
   "metadata": {},
   "outputs": [
    {
     "name": "stdout",
     "output_type": "stream",
     "text": [
      "2\n",
      "5\n",
      "8\n",
      "11\n"
     ]
    }
   ],
   "source": [
    "for i in count(start=2, step=3):\n",
    "    print(i)\n",
    "    if i > 10:\n",
    "        break"
   ]
  },
  {
   "cell_type": "code",
   "execution_count": 26,
   "id": "fe26fb8e",
   "metadata": {},
   "outputs": [
    {
     "name": "stdout",
     "output_type": "stream",
     "text": [
      "2\n",
      "5\n",
      "8\n",
      "11\n",
      "14\n",
      "17\n",
      "20\n",
      "23\n",
      "26\n",
      "29\n"
     ]
    }
   ],
   "source": [
    "from itertools import islice\n",
    "\n",
    "for i in islice(count(start=2, step=3), 10):\n",
    "    print(i)\n"
   ]
  },
  {
   "cell_type": "code",
   "execution_count": 27,
   "id": "52937c8f",
   "metadata": {},
   "outputs": [],
   "source": [
    "from itertools import cycle"
   ]
  },
  {
   "cell_type": "code",
   "execution_count": 29,
   "id": "0e8816f5",
   "metadata": {},
   "outputs": [
    {
     "name": "stdout",
     "output_type": "stream",
     "text": [
      "1\n",
      "23\n",
      "3\n",
      "1\n",
      "23\n",
      "3\n",
      "1\n",
      "23\n",
      "3\n",
      "1\n"
     ]
    }
   ],
   "source": [
    "for i in islice(cycle([1,23,3]), 10):\n",
    "    print(i)\n"
   ]
  },
  {
   "cell_type": "code",
   "execution_count": 30,
   "id": "b0a24e9a",
   "metadata": {},
   "outputs": [],
   "source": [
    "from itertools import repeat"
   ]
  },
  {
   "cell_type": "code",
   "execution_count": 31,
   "id": "f01aaae8",
   "metadata": {},
   "outputs": [
    {
     "data": {
      "text/plain": [
       "repeat(23, 2)"
      ]
     },
     "execution_count": 31,
     "metadata": {},
     "output_type": "execute_result"
    }
   ],
   "source": [
    "repeat(23, 2)"
   ]
  },
  {
   "cell_type": "code",
   "execution_count": 32,
   "id": "1f877947",
   "metadata": {},
   "outputs": [
    {
     "name": "stdout",
     "output_type": "stream",
     "text": [
      "23\n",
      "23\n"
     ]
    }
   ],
   "source": [
    "for a  in repeat(23, 2):\n",
    "    print(a)"
   ]
  },
  {
   "cell_type": "code",
   "execution_count": 33,
   "id": "4405dd90",
   "metadata": {},
   "outputs": [],
   "source": [
    "from itertools import combinations"
   ]
  },
  {
   "cell_type": "code",
   "execution_count": 37,
   "id": "c519a877",
   "metadata": {},
   "outputs": [
    {
     "data": {
      "text/plain": [
       "[('x', 'y'), ('x', 'z'), ('x', 'q'), ('y', 'z'), ('y', 'q'), ('z', 'q')]"
      ]
     },
     "execution_count": 37,
     "metadata": {},
     "output_type": "execute_result"
    }
   ],
   "source": [
    "list(combinations(\"xyzq\", 2))"
   ]
  },
  {
   "cell_type": "code",
   "execution_count": 39,
   "id": "d0a8f7a1",
   "metadata": {},
   "outputs": [
    {
     "name": "stdout",
     "output_type": "stream",
     "text": [
      "---------Calling--------\n",
      "Running\n",
      "sys module page found\n",
      "---------Calling--------\n",
      "Running\n",
      "functools module page found\n",
      "---------Calling--------\n",
      "Running\n",
      "collections module page found\n",
      "---------Calling--------\n",
      "Running\n",
      "os module page found\n",
      "---------Calling--------\n",
      "sys module page found\n",
      "---------Calling--------\n",
      "functools module page found\n",
      "---------Calling--------\n",
      "collections module page found\n",
      "---------Calling--------\n",
      "sys module page found\n"
     ]
    }
   ],
   "source": [
    "import urllib.error\n",
    "import urllib.request\n",
    "\n",
    "from functools import lru_cache\n",
    "\n",
    "@lru_cache(maxsize=24)\n",
    "def get_webpage(module):\n",
    "    \"\"\"\n",
    "    Gets the specified Python module web page\n",
    "    \"\"\"    \n",
    "    print('Running')\n",
    "    webpage = f\"https://docs.python.org/3/library/{module}.html\"\n",
    "    try:\n",
    "        with urllib.request.urlopen(webpage) as request:\n",
    "            return request.read()\n",
    "    except urllib.error.HTTPError:\n",
    "        return None\n",
    "\n",
    "if __name__ == '__main__':\n",
    "    modules = ['sys', 'functools', 'collections', 'os', 'sys','functools', 'collections', 'sys']\n",
    "    for module in modules:\n",
    "        print('---------Calling--------')\n",
    "        page = get_webpage(module)\n",
    "        if page:\n",
    "            print(f\"{module} module page found\")"
   ]
  },
  {
   "cell_type": "markdown",
   "id": "21c22a8d",
   "metadata": {},
   "source": [
    "- Single Leading Underscore: _var\n",
    "- Single Trailing Underscore: var_\n",
    "- Double Leading Underscore: __var\n",
    "- Double Leading and Trailing Underscore: `__var__`\n",
    "- Single Underscore: _"
   ]
  },
  {
   "cell_type": "code",
   "execution_count": 69,
   "id": "71ae1da1",
   "metadata": {},
   "outputs": [],
   "source": [
    "class Test:\n",
    "    def __init__(self):\n",
    "        self.foo = 11\n",
    "        self.__bar = 23\n",
    "        \n",
    "    def __repr__(self):\n",
    "        return f\"Test({self.foo})\"\n",
    "    \n",
    "    def __str__(self):\n",
    "        return f\"Test print({self.foo})\"\n",
    "    \n",
    "    def __copy__(slef):\n",
    "        pass\n",
    "    \n",
    "    def __del__\n",
    "    \n",
    "    def _insert(self, num):\n",
    "        self.foo += num"
   ]
  },
  {
   "cell_type": "code",
   "execution_count": 61,
   "id": "5167b352",
   "metadata": {},
   "outputs": [],
   "source": [
    "test = Test()"
   ]
  },
  {
   "cell_type": "code",
   "execution_count": 62,
   "id": "a35e0d0e",
   "metadata": {},
   "outputs": [
    {
     "ename": "NameError",
     "evalue": "name 'help_' is not defined",
     "output_type": "error",
     "traceback": [
      "\u001b[0;31m---------------------------------------------------------------------------\u001b[0m",
      "\u001b[0;31mNameError\u001b[0m                                 Traceback (most recent call last)",
      "Input \u001b[0;32mIn [62]\u001b[0m, in \u001b[0;36m<cell line: 1>\u001b[0;34m()\u001b[0m\n\u001b[0;32m----> 1\u001b[0m \u001b[43mhelp_\u001b[49m\n",
      "\u001b[0;31mNameError\u001b[0m: name 'help_' is not defined"
     ]
    }
   ],
   "source": [
    "help_"
   ]
  },
  {
   "cell_type": "code",
   "execution_count": 70,
   "id": "b32c62ec",
   "metadata": {},
   "outputs": [
    {
     "name": "stdout",
     "output_type": "stream",
     "text": [
      "Test print(11)\n"
     ]
    }
   ],
   "source": [
    "print(Test())"
   ]
  },
  {
   "cell_type": "code",
   "execution_count": 71,
   "id": "122bafe8",
   "metadata": {},
   "outputs": [
    {
     "data": {
      "text/plain": [
       "Test(11)"
      ]
     },
     "execution_count": 71,
     "metadata": {},
     "output_type": "execute_result"
    }
   ],
   "source": [
    "Test()"
   ]
  },
  {
   "cell_type": "code",
   "execution_count": 67,
   "id": "1ebf86e3",
   "metadata": {},
   "outputs": [
    {
     "data": {
      "text/plain": [
       "<__main__.Test at 0x7fa8df94d790>"
      ]
     },
     "execution_count": 67,
     "metadata": {},
     "output_type": "execute_result"
    }
   ],
   "source": [
    "class Test:\n",
    "    def __init__(self):\n",
    "        self.foo = 11\n",
    "        self.__bar = 23\n",
    "        \n",
    "Test()"
   ]
  },
  {
   "cell_type": "markdown",
   "id": "6f3957f2",
   "metadata": {},
   "source": [
    "## Class"
   ]
  },
  {
   "cell_type": "code",
   "execution_count": 136,
   "id": "8676c59d",
   "metadata": {},
   "outputs": [],
   "source": [
    "from math import hypot\n",
    "\n",
    "class Vector2d:\n",
    "    def __init__(self, x, y):\n",
    "        self.x = float(x)\n",
    "        self.y = float(y)\n",
    "        \n",
    "    def __iter__(self):\n",
    "        return (i  for i in (self.x, self.y))\n",
    "        \n",
    "    def __repr__(self):\n",
    "        class_name = type(self).__name__\n",
    "        return \"{} ({!r}, {!r})\".format(class_name, *self)\n",
    "    \n",
    "    def __str__(self):\n",
    "        return str(tuple(self))\n",
    "    \n",
    "    def __eq__(self, other):\n",
    "        return tuple(self) == tuple(other)\n",
    "    \n",
    "    def __abs__(self):\n",
    "        return hypot(self.x, self.y)\n",
    "    \n",
    "    def __bool__(self):\n",
    "        return bool(abs(self))\n",
    "    \n",
    "    def __gt__(self, other):\n",
    "        return abs(self) > abs(other)\n",
    "    \n",
    "    def __len__(self):\n",
    "        return 2\n",
    "    "
   ]
  },
  {
   "cell_type": "code",
   "execution_count": 138,
   "id": "4d923840",
   "metadata": {},
   "outputs": [],
   "source": [
    "v1 = Vector2d(3,4)\n",
    "v2 = Vector2d(3,4)\n",
    "v3 = Vector2d(0,0)"
   ]
  },
  {
   "cell_type": "code",
   "execution_count": 139,
   "id": "7701acc2",
   "metadata": {},
   "outputs": [
    {
     "data": {
      "text/plain": [
       "Vector2d (3.0, 4.0)"
      ]
     },
     "execution_count": 139,
     "metadata": {},
     "output_type": "execute_result"
    }
   ],
   "source": [
    "v1"
   ]
  },
  {
   "cell_type": "code",
   "execution_count": 140,
   "id": "93f9a1d3",
   "metadata": {},
   "outputs": [
    {
     "name": "stdout",
     "output_type": "stream",
     "text": [
      "(3.0, 4.0)\n"
     ]
    }
   ],
   "source": [
    "print(v1)"
   ]
  },
  {
   "cell_type": "code",
   "execution_count": 141,
   "id": "f4e570b3",
   "metadata": {},
   "outputs": [
    {
     "data": {
      "text/plain": [
       "True"
      ]
     },
     "execution_count": 141,
     "metadata": {},
     "output_type": "execute_result"
    }
   ],
   "source": [
    "v1 == v2"
   ]
  },
  {
   "cell_type": "code",
   "execution_count": 142,
   "id": "f9ec718b",
   "metadata": {},
   "outputs": [
    {
     "data": {
      "text/plain": [
       "5.0"
      ]
     },
     "execution_count": 142,
     "metadata": {},
     "output_type": "execute_result"
    }
   ],
   "source": [
    "abs(v1)"
   ]
  },
  {
   "cell_type": "code",
   "execution_count": 143,
   "id": "3069100b",
   "metadata": {},
   "outputs": [
    {
     "data": {
      "text/plain": [
       "True"
      ]
     },
     "execution_count": 143,
     "metadata": {},
     "output_type": "execute_result"
    }
   ],
   "source": [
    "bool(v1)"
   ]
  },
  {
   "cell_type": "code",
   "execution_count": 144,
   "id": "4f71d8db",
   "metadata": {},
   "outputs": [
    {
     "data": {
      "text/plain": [
       "False"
      ]
     },
     "execution_count": 144,
     "metadata": {},
     "output_type": "execute_result"
    }
   ],
   "source": [
    "bool(v3)"
   ]
  },
  {
   "cell_type": "code",
   "execution_count": 145,
   "id": "babb232b",
   "metadata": {},
   "outputs": [
    {
     "data": {
      "text/plain": [
       "False"
      ]
     },
     "execution_count": 145,
     "metadata": {},
     "output_type": "execute_result"
    }
   ],
   "source": [
    "v1 > v2"
   ]
  },
  {
   "cell_type": "code",
   "execution_count": 146,
   "id": "b4a0f97f",
   "metadata": {},
   "outputs": [
    {
     "data": {
      "text/plain": [
       "2"
      ]
     },
     "execution_count": 146,
     "metadata": {},
     "output_type": "execute_result"
    }
   ],
   "source": [
    "len(v1)"
   ]
  },
  {
   "cell_type": "code",
   "execution_count": null,
   "id": "33fdaf1f",
   "metadata": {},
   "outputs": [],
   "source": []
  },
  {
   "cell_type": "code",
   "execution_count": null,
   "id": "315914a6",
   "metadata": {},
   "outputs": [],
   "source": []
  }
 ],
 "metadata": {
  "kernelspec": {
   "display_name": "Python 3 (ipykernel)",
   "language": "python",
   "name": "python3"
  },
  "language_info": {
   "codemirror_mode": {
    "name": "ipython",
    "version": 3
   },
   "file_extension": ".py",
   "mimetype": "text/x-python",
   "name": "python",
   "nbconvert_exporter": "python",
   "pygments_lexer": "ipython3",
   "version": "3.9.0"
  }
 },
 "nbformat": 4,
 "nbformat_minor": 5
}
