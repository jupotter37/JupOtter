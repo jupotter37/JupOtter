{
  "nbformat": 4,
  "nbformat_minor": 0,
  "metadata": {
    "colab": {
      "provenance": [],
      "include_colab_link": true
    },
    "kernelspec": {
      "name": "python3",
      "display_name": "Python 3"
    },
    "language_info": {
      "name": "python"
    }
  },
  "cells": [
    {
      "cell_type": "markdown",
      "metadata": {
        "id": "view-in-github",
        "colab_type": "text"
      },
      "source": [
        "<a href=\"https://colab.research.google.com/github/juanitajimenez1/Portafolio-Adaptable-Responsive-con-Bootstrap-5/blob/main/Copia_de_Bedu_Tecnolochicas_2024_11_Live_Sesi%C3%B3n_2.ipynb\" target=\"_parent\"><img src=\"https://colab.research.google.com/assets/colab-badge.svg\" alt=\"Open In Colab\"/></a>"
      ]
    },
    {
      "cell_type": "markdown",
      "source": [
        "# Listas"
      ],
      "metadata": {
        "id": "ra-LWy8ksMWj"
      }
    },
    {
      "cell_type": "code",
      "source": [
        "# La lista es una secuencia de elementos del mismo tipo de dato que están ordenados de manera secuencial\n",
        "# Se define con corchetes y elementos que están contenidos dentro de los corchetes\n",
        "\n",
        "lista_int = [3, 6, 8, 12, 25, 32, 1, 25]"
      ],
      "metadata": {
        "id": "fdgVvfJMGqfH"
      },
      "execution_count": null,
      "outputs": []
    },
    {
      "cell_type": "code",
      "source": [
        "# Accedemos a cada elemento utilizando su índice, que es la posición que tiene en la lista si comenzamos a contar desde 0\n",
        "# Para acceder a un elemento escribimos el nombre de la lista, corchetes y el índice que queremos dentro de los corchetes\n",
        "\n",
        "lista_int[2]"
      ],
      "metadata": {
        "id": "2AEWENbpHlYc"
      },
      "execution_count": null,
      "outputs": []
    },
    {
      "cell_type": "code",
      "source": [
        "# No puedo pedir índices que no están asignados porque Python me lanza un error\n",
        "\n",
        "lista_int[10]"
      ],
      "metadata": {
        "colab": {
          "base_uri": "https://localhost:8080/",
          "height": 176
        },
        "id": "daijXJjkHxUK",
        "outputId": "bc91c7e6-75a4-4dcb-b1a1-1daf10b67c14"
      },
      "execution_count": null,
      "outputs": [
        {
          "output_type": "error",
          "ename": "IndexError",
          "evalue": "list index out of range",
          "traceback": [
            "\u001b[0;31m---------------------------------------------------------------------------\u001b[0m",
            "\u001b[0;31mIndexError\u001b[0m                                Traceback (most recent call last)",
            "\u001b[0;32m<ipython-input-5-178c16bf5a6b>\u001b[0m in \u001b[0;36m<cell line: 3>\u001b[0;34m()\u001b[0m\n\u001b[1;32m      1\u001b[0m \u001b[0;31m# No puedo pedir índices que no están asignados porque Python me lanza un error\u001b[0m\u001b[0;34m\u001b[0m\u001b[0;34m\u001b[0m\u001b[0m\n\u001b[1;32m      2\u001b[0m \u001b[0;34m\u001b[0m\u001b[0m\n\u001b[0;32m----> 3\u001b[0;31m \u001b[0mlista_int\u001b[0m\u001b[0;34m[\u001b[0m\u001b[0;36m10\u001b[0m\u001b[0;34m]\u001b[0m\u001b[0;34m\u001b[0m\u001b[0;34m\u001b[0m\u001b[0m\n\u001b[0m",
            "\u001b[0;31mIndexError\u001b[0m: list index out of range"
          ]
        }
      ]
    },
    {
      "cell_type": "code",
      "source": [
        "# También podemos acceder a elementos de la lista en reversa, es decir comenzando por el último elemento y hacia atrás\n",
        "# Para hacer esto, hay que utilizar números negativos. El último elemento es el índice -1, el penúltimo el -2 y así consecutivamente\n",
        "\n",
        "lista_int[-1]"
      ],
      "metadata": {
        "colab": {
          "base_uri": "https://localhost:8080/"
        },
        "id": "z8OstifiICro",
        "outputId": "6ee83050-f5d2-49b3-9af4-6d3bfa4a40c1"
      },
      "execution_count": null,
      "outputs": [
        {
          "output_type": "execute_result",
          "data": {
            "text/plain": [
              "25"
            ]
          },
          "metadata": {},
          "execution_count": 6
        }
      ]
    },
    {
      "cell_type": "code",
      "source": [
        "lista_int[-2]"
      ],
      "metadata": {
        "colab": {
          "base_uri": "https://localhost:8080/"
        },
        "id": "Mv9PgMc8Iab4",
        "outputId": "62b98210-2668-4ea1-e97d-a4077f30e041"
      },
      "execution_count": null,
      "outputs": [
        {
          "output_type": "execute_result",
          "data": {
            "text/plain": [
              "1"
            ]
          },
          "metadata": {},
          "execution_count": 7
        }
      ]
    },
    {
      "cell_type": "code",
      "source": [
        "# También podemos guardar otros tipos de datos en una lista\n",
        "\n",
        "lista_str = ['a', 'b', 'c', 'd', 'e']\n",
        "lista_bool = [True, False, False, True]\n",
        "lista_lista = [[1, 2, 3], [5, 7, 2]]"
      ],
      "metadata": {
        "id": "D_9k3KseIc75"
      },
      "execution_count": null,
      "outputs": []
    },
    {
      "cell_type": "code",
      "source": [
        "# Otra cosa que podemos hacer es hacer lista de variables\n",
        "\n",
        "var_1 = \"Mónica\"\n",
        "var_2 = \"Eloísa\"\n",
        "var_3 = \"Martha\"\n",
        "\n",
        "lista_var = [var_1, var_2, var_3]"
      ],
      "metadata": {
        "id": "vZ4Mp53eI3vY"
      },
      "execution_count": null,
      "outputs": []
    },
    {
      "cell_type": "code",
      "source": [
        "lista_var[2]"
      ],
      "metadata": {
        "colab": {
          "base_uri": "https://localhost:8080/",
          "height": 36
        },
        "id": "avbgvmVlI_WT",
        "outputId": "6afd7951-bd7a-4aac-9d30-af84b191f1f6"
      },
      "execution_count": null,
      "outputs": [
        {
          "output_type": "execute_result",
          "data": {
            "text/plain": [
              "'Martha'"
            ],
            "application/vnd.google.colaboratory.intrinsic+json": {
              "type": "string"
            }
          },
          "metadata": {},
          "execution_count": 12
        }
      ]
    },
    {
      "cell_type": "code",
      "source": [
        "lista_var[1]"
      ],
      "metadata": {
        "colab": {
          "base_uri": "https://localhost:8080/",
          "height": 36
        },
        "id": "A7xFxCZKJTiY",
        "outputId": "03bb529e-6e5c-490f-e9c3-c288fe48db32"
      },
      "execution_count": null,
      "outputs": [
        {
          "output_type": "execute_result",
          "data": {
            "text/plain": [
              "'Eloísa'"
            ],
            "application/vnd.google.colaboratory.intrinsic+json": {
              "type": "string"
            }
          },
          "metadata": {},
          "execution_count": 13
        }
      ]
    },
    {
      "cell_type": "code",
      "source": [
        "lista_lista[1]"
      ],
      "metadata": {
        "colab": {
          "base_uri": "https://localhost:8080/"
        },
        "id": "wi5_gK_KJZn_",
        "outputId": "84c7e0be-253b-40d1-c233-02b047ebfca6"
      },
      "execution_count": null,
      "outputs": [
        {
          "output_type": "execute_result",
          "data": {
            "text/plain": [
              "[5, 7, 2]"
            ]
          },
          "metadata": {},
          "execution_count": 15
        }
      ]
    },
    {
      "cell_type": "code",
      "source": [
        "# Podemos concatenar corchetes para acceder a elementos dentro de las listas que están dentro de la lista principal\n",
        "\n",
        "lista_lista[1][2]"
      ],
      "metadata": {
        "colab": {
          "base_uri": "https://localhost:8080/"
        },
        "id": "-JK2F7O9JoIZ",
        "outputId": "a34593eb-a22e-4d34-b4b5-d605140b52d5"
      },
      "execution_count": null,
      "outputs": [
        {
          "output_type": "execute_result",
          "data": {
            "text/plain": [
              "2"
            ]
          },
          "metadata": {},
          "execution_count": 16
        }
      ]
    },
    {
      "cell_type": "markdown",
      "source": [
        "# Modificando listas"
      ],
      "metadata": {
        "id": "ZxkbhpH9J3mo"
      }
    },
    {
      "cell_type": "code",
      "source": [
        "# append sirve para añadir un elemento al final de la lista\n",
        "\n",
        "lista_int = [3, 6, 8, 12, 25, 32, 1, 25]"
      ],
      "metadata": {
        "id": "rj5hUiheO4Ph"
      },
      "execution_count": null,
      "outputs": []
    },
    {
      "cell_type": "code",
      "source": [
        "lista_int"
      ],
      "metadata": {
        "colab": {
          "base_uri": "https://localhost:8080/"
        },
        "id": "RsxqZ728PByI",
        "outputId": "23088a03-e65a-45c8-9da8-2e7dabb68a70"
      },
      "execution_count": null,
      "outputs": [
        {
          "output_type": "execute_result",
          "data": {
            "text/plain": [
              "[3, 6, 8, 12, 25, 32, 1, 25]"
            ]
          },
          "metadata": {},
          "execution_count": 18
        }
      ]
    },
    {
      "cell_type": "code",
      "source": [
        "lista_int.append(100)"
      ],
      "metadata": {
        "id": "SbgL41l_PCc3"
      },
      "execution_count": null,
      "outputs": []
    },
    {
      "cell_type": "code",
      "source": [
        "lista_int"
      ],
      "metadata": {
        "colab": {
          "base_uri": "https://localhost:8080/"
        },
        "id": "WNyXwQpPPG1o",
        "outputId": "d4629e8b-01fb-4373-bcd9-b376e3157a7f"
      },
      "execution_count": null,
      "outputs": [
        {
          "output_type": "execute_result",
          "data": {
            "text/plain": [
              "[3, 6, 8, 12, 25, 32, 1, 25, 100]"
            ]
          },
          "metadata": {},
          "execution_count": 21
        }
      ]
    },
    {
      "cell_type": "code",
      "source": [
        "lista_int.append(88)"
      ],
      "metadata": {
        "id": "RLEUEh2bPHWL"
      },
      "execution_count": null,
      "outputs": []
    },
    {
      "cell_type": "code",
      "source": [
        "lista_int"
      ],
      "metadata": {
        "colab": {
          "base_uri": "https://localhost:8080/"
        },
        "id": "OuN4eVJBPLw5",
        "outputId": "7b1b169b-1edb-4724-97fa-610500298196"
      },
      "execution_count": null,
      "outputs": [
        {
          "output_type": "execute_result",
          "data": {
            "text/plain": [
              "[3, 6, 8, 12, 25, 32, 1, 25, 100, 88]"
            ]
          },
          "metadata": {},
          "execution_count": 23
        }
      ]
    },
    {
      "cell_type": "code",
      "source": [
        "# pop sirve para remover un elemento de la lista\n",
        "# Si llamo pop sin argumentos, quito el último elemento de la lista\n",
        "\n",
        "lista_int.pop()"
      ],
      "metadata": {
        "colab": {
          "base_uri": "https://localhost:8080/"
        },
        "id": "ygjVnaKgPMLg",
        "outputId": "1ac06178-9aba-4aed-cdaf-1935578e57af"
      },
      "execution_count": null,
      "outputs": [
        {
          "output_type": "execute_result",
          "data": {
            "text/plain": [
              "88"
            ]
          },
          "metadata": {},
          "execution_count": 24
        }
      ]
    },
    {
      "cell_type": "code",
      "source": [
        "lista_int"
      ],
      "metadata": {
        "colab": {
          "base_uri": "https://localhost:8080/"
        },
        "id": "04SjKCjhPlEJ",
        "outputId": "d14fb7d4-10a2-41d4-9ba0-9d7f7edb7a70"
      },
      "execution_count": null,
      "outputs": [
        {
          "output_type": "execute_result",
          "data": {
            "text/plain": [
              "[3, 6, 8, 12, 25, 32, 1, 25, 100]"
            ]
          },
          "metadata": {},
          "execution_count": 25
        }
      ]
    },
    {
      "cell_type": "code",
      "source": [
        "lista_int.pop()"
      ],
      "metadata": {
        "colab": {
          "base_uri": "https://localhost:8080/"
        },
        "id": "hcgO3Ef2PlgY",
        "outputId": "8d30c76b-a3ba-44fd-d722-6570f0618132"
      },
      "execution_count": null,
      "outputs": [
        {
          "output_type": "execute_result",
          "data": {
            "text/plain": [
              "100"
            ]
          },
          "metadata": {},
          "execution_count": 26
        }
      ]
    },
    {
      "cell_type": "code",
      "source": [
        "lista_int"
      ],
      "metadata": {
        "colab": {
          "base_uri": "https://localhost:8080/"
        },
        "id": "l7o-cKd3PpTp",
        "outputId": "1c8e8244-71c8-4116-f1f7-9a9ff429a02e"
      },
      "execution_count": null,
      "outputs": [
        {
          "output_type": "execute_result",
          "data": {
            "text/plain": [
              "[3, 6, 8, 12, 25, 32, 1, 25]"
            ]
          },
          "metadata": {},
          "execution_count": 27
        }
      ]
    },
    {
      "cell_type": "code",
      "source": [
        "# Si le paso un índice a la función pop, me remueve el elemento que está en ese índice\n",
        "\n",
        "lista_int.pop(3)"
      ],
      "metadata": {
        "colab": {
          "base_uri": "https://localhost:8080/"
        },
        "id": "6EvEIH65Pqbw",
        "outputId": "eee78d8b-9f25-4693-e081-5f8dce63af5a"
      },
      "execution_count": null,
      "outputs": [
        {
          "output_type": "execute_result",
          "data": {
            "text/plain": [
              "12"
            ]
          },
          "metadata": {},
          "execution_count": 29
        }
      ]
    },
    {
      "cell_type": "code",
      "source": [
        "lista_int"
      ],
      "metadata": {
        "colab": {
          "base_uri": "https://localhost:8080/"
        },
        "id": "tIl2nVDEPx3Y",
        "outputId": "07539aa5-e9ff-422f-c211-f5bd6435804d"
      },
      "execution_count": null,
      "outputs": [
        {
          "output_type": "execute_result",
          "data": {
            "text/plain": [
              "[3, 6, 8, 25, 32, 1, 25]"
            ]
          },
          "metadata": {},
          "execution_count": 30
        }
      ]
    },
    {
      "cell_type": "markdown",
      "source": [
        "# Diccionarios"
      ],
      "metadata": {
        "id": "EvkTSQskP3IB"
      }
    },
    {
      "cell_type": "code",
      "source": [
        "# Las listas se definen con corchetes, mientras que los diccionarios se definen con llaves: { }\n",
        "\n",
        "diccionario_vacio = {}"
      ],
      "metadata": {
        "id": "dhCkJa4wU3p9"
      },
      "execution_count": null,
      "outputs": []
    },
    {
      "cell_type": "code",
      "source": [
        "# Para crear un diccionario con elementos dentro, tengo que definir para cada elemento la llave (que es el identificador que voy a utilizar para obtener\n",
        "# lo que deseo obtener) y el valor (que es lo que obtengo cuando pido algo utilizando la llave asociada)\n",
        "# Cada par llave-valor va separado de los demás pares por comas; la llave y el valor están separados con dos puntos\n",
        "\n",
        "diccionario_con_elementos = {\n",
        "    'llave_5': 'valor_1',\n",
        "    'llave_3': 'valor_2',\n",
        "    'llave_1': 'valor_3'\n",
        "}"
      ],
      "metadata": {
        "id": "GjsfTY9dVCSs"
      },
      "execution_count": null,
      "outputs": []
    },
    {
      "cell_type": "code",
      "source": [
        "# Las llaves no necesariamente tienen que ser strings, pueden ser otros tipos de datos, aunque lo más recomendable es que sean strings e ints\n",
        "\n",
        "diccionario_con_elementos_2 = {\n",
        "    1: 'valor_1',\n",
        "    2: 'valor_2',\n",
        "    3: 'valor_3'\n",
        "}"
      ],
      "metadata": {
        "id": "hAy-AJstVidt"
      },
      "execution_count": null,
      "outputs": []
    },
    {
      "cell_type": "code",
      "source": [
        "# Los valores sí pueden ser cualquier tipo de dato que ustedes conozcan\n",
        "# A diferencia de las listas, donde se recomienda solamente utilizar 1 tipo de dato, en los diccionarios está muy bien utilizar diferentes tipos de datos\n",
        "# para los valores.\n",
        "# En cambio, sí es recomendable que todas las llaves sean también del mismo tipo de dato\n",
        "\n",
        "diccionario_con_muchos_tipos_de_datos = {\n",
        "    \"int\": 123,\n",
        "    \"float\": 23.56,\n",
        "    \"string\": \"Hola\",\n",
        "    \"booleano\": True,\n",
        "    \"lista\": [1, 2, 3, 4],\n",
        "    \"diccionario\": {\n",
        "        1: \"uno\",\n",
        "        2: \"dos\"\n",
        "    }\n",
        "}"
      ],
      "metadata": {
        "id": "pwibo0IOVtil"
      },
      "execution_count": null,
      "outputs": []
    },
    {
      "cell_type": "code",
      "source": [
        "# Para acceder a los valores, hago lo mismo que con las listas, pero en lugar de pasar índices, paso el nombre de la llave\n",
        "\n",
        "diccionario_con_muchos_tipos_de_datos['int']"
      ],
      "metadata": {
        "colab": {
          "base_uri": "https://localhost:8080/"
        },
        "id": "sLyqCApxXE7l",
        "outputId": "5417545f-7d87-4b04-8eeb-c1911dc8eac8"
      },
      "execution_count": null,
      "outputs": [
        {
          "output_type": "execute_result",
          "data": {
            "text/plain": [
              "123"
            ]
          },
          "metadata": {},
          "execution_count": 43
        }
      ]
    },
    {
      "cell_type": "code",
      "source": [
        "diccionario_con_muchos_tipos_de_datos['lista']"
      ],
      "metadata": {
        "colab": {
          "base_uri": "https://localhost:8080/"
        },
        "id": "81drMN-jXVik",
        "outputId": "cfb8e780-3356-4f82-8b92-6903c5024201"
      },
      "execution_count": null,
      "outputs": [
        {
          "output_type": "execute_result",
          "data": {
            "text/plain": [
              "[1, 2, 3, 4]"
            ]
          },
          "metadata": {},
          "execution_count": 44
        }
      ]
    },
    {
      "cell_type": "code",
      "source": [
        "# Puedo también acceder a los elementos que están dentro de listas o diccionarios internos, utilizando la misma sintaxis de corchete que ya conocemos\n",
        "\n",
        "diccionario_con_muchos_tipos_de_datos['lista'][2]"
      ],
      "metadata": {
        "colab": {
          "base_uri": "https://localhost:8080/"
        },
        "id": "sJ2nPdtEXXrE",
        "outputId": "a2af8b79-df56-447b-f49e-5f215667e65c"
      },
      "execution_count": null,
      "outputs": [
        {
          "output_type": "execute_result",
          "data": {
            "text/plain": [
              "3"
            ]
          },
          "metadata": {},
          "execution_count": 45
        }
      ]
    },
    {
      "cell_type": "code",
      "source": [
        "diccionario_con_muchos_tipos_de_datos['diccionario'][2]"
      ],
      "metadata": {
        "colab": {
          "base_uri": "https://localhost:8080/",
          "height": 36
        },
        "id": "vKEAOhb2XnPM",
        "outputId": "2d72d7b1-3315-4c69-8da5-6c9fd45f53de"
      },
      "execution_count": null,
      "outputs": [
        {
          "output_type": "execute_result",
          "data": {
            "text/plain": [
              "'dos'"
            ],
            "application/vnd.google.colaboratory.intrinsic+json": {
              "type": "string"
            }
          },
          "metadata": {},
          "execution_count": 46
        }
      ]
    },
    {
      "cell_type": "markdown",
      "source": [
        "# Modificando diccionarios"
      ],
      "metadata": {
        "id": "wO4MtVKEXqUc"
      }
    },
    {
      "cell_type": "code",
      "source": [
        "# librería que sirve para que al imprimir diccionarios, sean mucho más legibles\n",
        "\n",
        "from pprint import pprint"
      ],
      "metadata": {
        "id": "4AGs_nE1da9d"
      },
      "execution_count": null,
      "outputs": []
    },
    {
      "cell_type": "code",
      "source": [
        "info_de_contacto = {\n",
        "    \"nombre\": \"Isabel\",\n",
        "    \"tel\": 5546352431,\n",
        "    \"dir\": {\n",
        "        \"colonia\": \"Del Valle Centro\",\n",
        "        \"calle\": \"Pilares\",\n",
        "        \"num\": 69,\n",
        "        \"cp\": \"03100\"\n",
        "    }\n",
        "}"
      ],
      "metadata": {
        "id": "p2d7TdsBdhXN"
      },
      "execution_count": null,
      "outputs": []
    },
    {
      "cell_type": "code",
      "source": [
        "pprint(info_de_contacto)"
      ],
      "metadata": {
        "colab": {
          "base_uri": "https://localhost:8080/"
        },
        "id": "33oIiFnGdkIF",
        "outputId": "69496b44-34ec-47a0-a370-fc659223b0d8"
      },
      "execution_count": null,
      "outputs": [
        {
          "output_type": "stream",
          "name": "stdout",
          "text": [
            "{'dir': {'calle': 'Pilares',\n",
            "         'colonia': 'Del Valle Centro',\n",
            "         'cp': '03100',\n",
            "         'num': 69},\n",
            " 'nombre': 'Isabel',\n",
            " 'tel': 5546352431}\n"
          ]
        }
      ]
    },
    {
      "cell_type": "code",
      "source": [
        "# Para añadir nuevos pares llave-valor, basta con nombrar la nueva llave entre corchetes y asignar el valor que quieres asociar a esa llave\n",
        "\n",
        "info_de_contacto['email'] = 'isabel.arriaga@gmail.com'"
      ],
      "metadata": {
        "id": "ewGfgKnMdrB1"
      },
      "execution_count": null,
      "outputs": []
    },
    {
      "cell_type": "code",
      "source": [
        "pprint(info_de_contacto)"
      ],
      "metadata": {
        "colab": {
          "base_uri": "https://localhost:8080/"
        },
        "id": "s_Hismzdd9Ps",
        "outputId": "f19bcae8-cde0-4dcf-cc46-a0acf8351f7d"
      },
      "execution_count": null,
      "outputs": [
        {
          "output_type": "stream",
          "name": "stdout",
          "text": [
            "{'dir': {'calle': 'Pilares',\n",
            "         'colonia': 'Del Valle Centro',\n",
            "         'cp': '03100',\n",
            "         'num': 69},\n",
            " 'email': 'isabel.arriaga@gmail.com',\n",
            " 'nombre': 'Isabel',\n",
            " 'tel': 5546352431}\n"
          ]
        }
      ]
    },
    {
      "cell_type": "code",
      "source": [
        "# Para modificar llaves ya existentes, hago lo mismo\n",
        "\n",
        "info_de_contacto['tel'] = '5567924521'"
      ],
      "metadata": {
        "id": "xXUFs5OReBae"
      },
      "execution_count": null,
      "outputs": []
    },
    {
      "cell_type": "code",
      "source": [
        "info_de_contacto"
      ],
      "metadata": {
        "colab": {
          "base_uri": "https://localhost:8080/"
        },
        "id": "4oVlrz4HeNg2",
        "outputId": "48ed135b-6d3f-4ecd-8750-3cfc051745c3"
      },
      "execution_count": null,
      "outputs": [
        {
          "output_type": "execute_result",
          "data": {
            "text/plain": [
              "{'nombre': 'Isabel',\n",
              " 'tel': '5567924521',\n",
              " 'dir': {'colonia': 'Del Valle Centro',\n",
              "  'calle': 'Pilares',\n",
              "  'num': 69,\n",
              "  'cp': '03100'},\n",
              " 'email': 'isabel.arriaga@gmail.com'}"
            ]
          },
          "metadata": {},
          "execution_count": 54
        }
      ]
    },
    {
      "cell_type": "code",
      "source": [
        "info_de_contacto['dir'] = {\n",
        "    'colonia': 'Escandón',\n",
        "    'calle': 'Ingenieros',\n",
        "    'num': 13,\n",
        "    'cp': '11800',\n",
        "    'pais': 'México'\n",
        "}"
      ],
      "metadata": {
        "id": "sup47MQheOHE"
      },
      "execution_count": null,
      "outputs": []
    },
    {
      "cell_type": "code",
      "source": [
        "info_de_contacto"
      ],
      "metadata": {
        "colab": {
          "base_uri": "https://localhost:8080/"
        },
        "id": "JZMCB6__eaVW",
        "outputId": "909d216c-9d0f-4308-c965-a7068cd0f8bd"
      },
      "execution_count": null,
      "outputs": [
        {
          "output_type": "execute_result",
          "data": {
            "text/plain": [
              "{'nombre': 'Isabel',\n",
              " 'tel': '5567924521',\n",
              " 'dir': {'colonia': 'Escandón',\n",
              "  'calle': 'Ingenieros',\n",
              "  'num': 13,\n",
              "  'cp': '11800',\n",
              "  'pais': 'México'},\n",
              " 'email': 'isabel.arriaga@gmail.com'}"
            ]
          },
          "metadata": {},
          "execution_count": 56
        }
      ]
    },
    {
      "cell_type": "code",
      "source": [
        "# Para eliminar datos, utilizo la función pop, pero en lugar de pasarle un índice, le paso una llave\n",
        "\n",
        "info_de_contacto.pop('tel')"
      ],
      "metadata": {
        "colab": {
          "base_uri": "https://localhost:8080/",
          "height": 36
        },
        "id": "ZjKFycMoebOe",
        "outputId": "de09ebd7-d5e5-48c4-e403-d6f55c166c45"
      },
      "execution_count": null,
      "outputs": [
        {
          "output_type": "execute_result",
          "data": {
            "text/plain": [
              "'5567924521'"
            ],
            "application/vnd.google.colaboratory.intrinsic+json": {
              "type": "string"
            }
          },
          "metadata": {},
          "execution_count": 57
        }
      ]
    },
    {
      "cell_type": "code",
      "source": [
        "info_de_contacto"
      ],
      "metadata": {
        "colab": {
          "base_uri": "https://localhost:8080/"
        },
        "id": "7lO5fwxxelwt",
        "outputId": "fcb442e1-8f7d-4762-dc5b-6a7b29adff98"
      },
      "execution_count": null,
      "outputs": [
        {
          "output_type": "execute_result",
          "data": {
            "text/plain": [
              "{'nombre': 'Isabel',\n",
              " 'dir': {'colonia': 'Escandón',\n",
              "  'calle': 'Ingenieros',\n",
              "  'num': 13,\n",
              "  'cp': '11800',\n",
              "  'pais': 'México'},\n",
              " 'email': 'isabel.arriaga@gmail.com'}"
            ]
          },
          "metadata": {},
          "execution_count": 58
        }
      ]
    },
    {
      "cell_type": "markdown",
      "source": [
        "# Funciones"
      ],
      "metadata": {
        "id": "EetagmOiemaX"
      }
    },
    {
      "cell_type": "code",
      "source": [
        "# una función se ve así:\n",
        "\n",
        "def multiplicar_numero_por_dos(numero):\n",
        "    # Le estoy asignando el resultado de multiplicar \"numero\" x 2 a la variable resultado\n",
        "    resultado = numero * 2\n",
        "    # Luego estoy regresando la variable resultado\n",
        "    return resultado\n",
        "\n",
        "# Todas las funciones comienzan con la palabra \"def\" (definición)\n",
        "# Luego escribimos el nombre de la función con snake_case\n",
        "# Después tenemos paréntesis\n",
        "# Algunas funciones definen uno o más parámetros dentro de los paréntesis\n",
        "# Después van \"dos puntos\" (:), que están diciendo \"aquí comienza el cuerpo de la función\"\n",
        "# Así como en el bloque if, todo lo que esté indentando después de los dos puntos es parte de la función y va a suceder cuando llamemos la función\n",
        "# Algunas funciones (de preferencia, en realidad) tienen un \"return\", que nos está regresando el resultado de aplicar el proceso a los datos de input\n",
        "\n",
        "# NOTA: Es muuuuuuuy importante ponerle a tu función un nombre que describa exactamente qué hace la función"
      ],
      "metadata": {
        "id": "UR_82sxihNRV"
      },
      "execution_count": null,
      "outputs": []
    },
    {
      "cell_type": "code",
      "source": [
        "# Para llamar una función se utiliza el nombre de la función, paréntesis y pasamos valores para cada uno de los parámetros que fueron definidos\n",
        "\n",
        "multiplicar_numero_por_dos(5)"
      ],
      "metadata": {
        "colab": {
          "base_uri": "https://localhost:8080/"
        },
        "id": "ihoz_gvVjSbF",
        "outputId": "bb42cdec-88b6-4f55-8087-e5e0f2d4a774"
      },
      "execution_count": null,
      "outputs": [
        {
          "output_type": "execute_result",
          "data": {
            "text/plain": [
              "10"
            ]
          },
          "metadata": {},
          "execution_count": 62
        }
      ]
    },
    {
      "cell_type": "code",
      "source": [
        "# Esta función hace exactamente lo mismo que la de arriba\n",
        "\n",
        "# Params\n",
        "# numero (int): Número entero que va a ser multiplicado por 2\n",
        "\n",
        "def multiplicar_numero_por_dos(numero):\n",
        "    return numero * 2"
      ],
      "metadata": {
        "id": "2XblXM0NkG63"
      },
      "execution_count": null,
      "outputs": []
    },
    {
      "cell_type": "code",
      "source": [
        "multiplicar_numero_por_dos(10)"
      ],
      "metadata": {
        "colab": {
          "base_uri": "https://localhost:8080/"
        },
        "id": "doE_YT4bkdZF",
        "outputId": "169326dc-d5e9-43ab-8044-248e200e50b2"
      },
      "execution_count": null,
      "outputs": [
        {
          "output_type": "execute_result",
          "data": {
            "text/plain": [
              "20"
            ]
          },
          "metadata": {},
          "execution_count": 67
        }
      ]
    },
    {
      "cell_type": "code",
      "source": [
        "# Normalmente definimos parámetros para establecer qué tipo de datos y cuántos necesitamos que la persona que use la función le pase a la función\n",
        "# para realizar todo el proceso\n",
        "\n",
        "# Podemos definir más de un parámetro para nuestra función\n",
        "\n",
        "def multiplicar_numeros(numero_1, numero_2):\n",
        "    return numero_1 * numero_2"
      ],
      "metadata": {
        "id": "KjoPWnTkkrSm"
      },
      "execution_count": null,
      "outputs": []
    },
    {
      "cell_type": "code",
      "source": [
        "multiplicar_numeros(2, 3)"
      ],
      "metadata": {
        "colab": {
          "base_uri": "https://localhost:8080/"
        },
        "id": "ieQIplLLl5ZF",
        "outputId": "ddaf7a50-5596-4fdd-9440-1691fd72d59d"
      },
      "execution_count": null,
      "outputs": [
        {
          "output_type": "execute_result",
          "data": {
            "text/plain": [
              "6"
            ]
          },
          "metadata": {},
          "execution_count": 69
        }
      ]
    },
    {
      "cell_type": "code",
      "source": [
        "# Podemos pensar en los parámetros como variables que se asignan a la hora de llamar la función\n",
        "# Los valores que yo pongo dentro del paréntesis se asignan a los parámetros en el orden en el que yo los coloco en los paréntesis"
      ],
      "metadata": {
        "id": "iDeVItuMl7h-"
      },
      "execution_count": null,
      "outputs": []
    },
    {
      "cell_type": "code",
      "source": [
        "multiplicar_numeros(6, 5)"
      ],
      "metadata": {
        "colab": {
          "base_uri": "https://localhost:8080/"
        },
        "id": "Kg8wEuIMmLrW",
        "outputId": "a99f5155-74d7-47f4-f9c0-44ba317c9c31"
      },
      "execution_count": null,
      "outputs": [
        {
          "output_type": "execute_result",
          "data": {
            "text/plain": [
              "30"
            ]
          },
          "metadata": {},
          "execution_count": 71
        }
      ]
    },
    {
      "cell_type": "code",
      "source": [
        "# Puedo escribir CUALQUIER cosa dentro de mi función, incluso puedo condicionar mi resultado dependiendo del input\n",
        "\n",
        "def es_menor_de_edad(edad):\n",
        "    if edad < 18:\n",
        "        return True\n",
        "    else:\n",
        "        return False"
      ],
      "metadata": {
        "id": "f2wHCXTMmRX-"
      },
      "execution_count": null,
      "outputs": []
    },
    {
      "cell_type": "code",
      "source": [
        "es_menor_de_edad(17)"
      ],
      "metadata": {
        "colab": {
          "base_uri": "https://localhost:8080/"
        },
        "id": "ncyC2838mhxl",
        "outputId": "d735b12c-fc64-46b7-b250-2fc0b248beea"
      },
      "execution_count": null,
      "outputs": [
        {
          "output_type": "execute_result",
          "data": {
            "text/plain": [
              "True"
            ]
          },
          "metadata": {},
          "execution_count": 73
        }
      ]
    },
    {
      "cell_type": "code",
      "source": [
        "es_menor_de_edad(19)"
      ],
      "metadata": {
        "colab": {
          "base_uri": "https://localhost:8080/"
        },
        "id": "PA2nfQLUmmVH",
        "outputId": "bc72fa3b-260e-4bb8-c5f8-8630a81ebd6f"
      },
      "execution_count": null,
      "outputs": [
        {
          "output_type": "execute_result",
          "data": {
            "text/plain": [
              "False"
            ]
          },
          "metadata": {},
          "execution_count": 74
        }
      ]
    },
    {
      "cell_type": "code",
      "source": [
        "# Todo lo que se define dentro de una función, no podemos acceder a ello a menos que sea regresado en el \"return\"\n",
        "\n",
        "def multiplicar_numeros_y_dividir_entre_dos(numero_1, numero_2):\n",
        "    resultado = numero_1 * numero_2\n",
        "    return resultado / 2"
      ],
      "metadata": {
        "id": "679Hzwe8mn79"
      },
      "execution_count": null,
      "outputs": []
    },
    {
      "cell_type": "code",
      "source": [
        "# A lo único que tengo acceso es a lo que me regresa el \"return\"\n",
        "\n",
        "multiplicar_numeros_y_dividir_entre_dos(2, 3)"
      ],
      "metadata": {
        "colab": {
          "base_uri": "https://localhost:8080/"
        },
        "id": "uQHtW3uknJSt",
        "outputId": "35811431-c360-473d-d389-00f389a4e650"
      },
      "execution_count": null,
      "outputs": [
        {
          "output_type": "execute_result",
          "data": {
            "text/plain": [
              "3.0"
            ]
          },
          "metadata": {},
          "execution_count": 77
        }
      ]
    },
    {
      "cell_type": "code",
      "source": [
        "# La variable resultado ya no existe, porque sólo existe DENTRO de la función\n",
        "\n",
        "resultado"
      ],
      "metadata": {
        "colab": {
          "base_uri": "https://localhost:8080/",
          "height": 141
        },
        "id": "dLfFT1gTnL_d",
        "outputId": "a6fc1476-c465-455e-8194-58528b29e90e"
      },
      "execution_count": null,
      "outputs": [
        {
          "output_type": "error",
          "ename": "NameError",
          "evalue": "name 'resultado' is not defined",
          "traceback": [
            "\u001b[0;31m---------------------------------------------------------------------------\u001b[0m",
            "\u001b[0;31mNameError\u001b[0m                                 Traceback (most recent call last)",
            "\u001b[0;32m<ipython-input-78-b2c5c9eb7548>\u001b[0m in \u001b[0;36m<cell line: 1>\u001b[0;34m()\u001b[0m\n\u001b[0;32m----> 1\u001b[0;31m \u001b[0mresultado\u001b[0m\u001b[0;34m\u001b[0m\u001b[0;34m\u001b[0m\u001b[0m\n\u001b[0m",
            "\u001b[0;31mNameError\u001b[0m: name 'resultado' is not defined"
          ]
        }
      ]
    },
    {
      "cell_type": "code",
      "source": [
        "# Parámetro es el nombre de la variable que estamos definiendo dentro de la función\n",
        "# Argumento es el valor que le pasamos a la función a la hora de llamarla\n",
        "\n",
        "# En el siguiente ejemplo, \"numero\" es el parámetro, \"5\" es el argumento\n",
        "# Cuando llamo la función los argumentos de asignan a los parámetros para luego ser utilizados dentro de la función\n",
        "\n",
        "def multiplicar_numero_por_dos(numero):\n",
        "    resultado = numero * 2\n",
        "    return resultado\n",
        "\n",
        "multiplicar_numero_por_dos(5)\n",
        "\n",
        "# Lo que está dentro de la función es la estructura (instrucciones) de la receta\n",
        "# Los parámetros son las palabras que definen ingredientes en el libro de recetas (la palabra \"huevo\", la palabra \"harina\", etc)\n",
        "# Los argumentos son los ingredientes físicos que colocamos dentro de la ThermoMix"
      ],
      "metadata": {
        "colab": {
          "base_uri": "https://localhost:8080/"
        },
        "id": "zd71JVdTnO99",
        "outputId": "8819f2f3-4762-4d39-a00b-5090afe733b3"
      },
      "execution_count": null,
      "outputs": [
        {
          "output_type": "execute_result",
          "data": {
            "text/plain": [
              "10"
            ]
          },
          "metadata": {},
          "execution_count": 82
        }
      ]
    },
    {
      "cell_type": "code",
      "source": [],
      "metadata": {
        "id": "ghoDoajfoR6t"
      },
      "execution_count": null,
      "outputs": []
    }
  ]
}