{
 "cells": [
  {
   "cell_type": "markdown",
   "id": "38300728",
   "metadata": {},
   "source": [
    "# Reporting on TPC QC for LHC22c [apass3] (and comparison to apass2)"
   ]
  },
  {
   "cell_type": "markdown",
   "id": "897badfe",
   "metadata": {
    "toc": true
   },
   "source": [
    "<h1>Table of Contents<span class=\"tocSkip\"></span></h1>\n",
    "<div class=\"toc\"><ul class=\"toc-item\"><li><span><a href=\"#apass3-overview\" data-toc-modified-id=\"apass3-overview-1\">apass3 overview</a></span><ul class=\"toc-item\"><li><span><a href=\"#Clusters\" data-toc-modified-id=\"Clusters-1.1\">Clusters</a></span></li><li><span><a href=\"#Tracks-observables\" data-toc-modified-id=\"Tracks-observables-1.2\">Tracks observables</a></span></li></ul></li><li><span><a href=\"#Comparing-apass3-to-apass2-with-trends\" data-toc-modified-id=\"Comparing-apass3-to-apass2-with-trends-2\">Comparing apass3 to apass2 with trends</a></span><ul class=\"toc-item\"><li><span><a href=\"#pT-trending\" data-toc-modified-id=\"pT-trending-2.1\">pT trending</a></span></li><li><span><a href=\"#Time-gain-calibration\" data-toc-modified-id=\"Time-gain-calibration-2.2\">Time gain calibration</a></span></li></ul></li><li><span><a href=\"#apass3-only-trends-with-checks\" data-toc-modified-id=\"apass3-only-trends-with-checks-3\">apass3 only trends with checks</a></span></li><li><span><a href=\"#Plots-from-apass3\" data-toc-modified-id=\"Plots-from-apass3-4\">Plots from apass3</a></span></li><li><span><a href=\"#Clusters-QC\" data-toc-modified-id=\"Clusters-QC-5\">Clusters QC</a></span></li><li><span><a href=\"#Tracks-QC\" data-toc-modified-id=\"Tracks-QC-6\">Tracks QC</a></span><ul class=\"toc-item\"><li><span><a href=\"#Geometrical-distributions-of-tracks\" data-toc-modified-id=\"Geometrical-distributions-of-tracks-6.1\">Geometrical distributions of tracks</a></span></li><li><span><a href=\"#Eta-distribution\" data-toc-modified-id=\"Eta-distribution-6.2\">Eta distribution</a></span></li><li><span><a href=\"#Track-properties\" data-toc-modified-id=\"Track-properties-6.3\">Track properties</a></span></li><li><span><a href=\"#Number-of-clusters-per-track\" data-toc-modified-id=\"Number-of-clusters-per-track-6.4\">Number of clusters per track</a></span></li><li><span><a href=\"#nClusters-vs-phi\" data-toc-modified-id=\"nClusters-vs-phi-6.5\">nClusters vs phi</a></span></li><li><span><a href=\"#nClusters-vs-eta\" data-toc-modified-id=\"nClusters-vs-eta-6.6\">nClusters vs eta</a></span></li><li><span><a href=\"#nClusters-vs-transverse-momentum\" data-toc-modified-id=\"nClusters-vs-transverse-momentum-6.7\">nClusters vs transverse momentum</a></span></li><li><span><a href=\"#PID\" data-toc-modified-id=\"PID-6.8\">PID</a></span></li></ul></li><li><span><a href=\"#TPC-Gain-calibration\" data-toc-modified-id=\"TPC-Gain-calibration-7\">TPC Gain calibration</a></span><ul class=\"toc-item\"><li><span><a href=\"#dEdx-vs-p\" data-toc-modified-id=\"dEdx-vs-p-7.1\">dEdx vs p</a></span></li></ul></li></ul></div>"
   ]
  },
  {
   "cell_type": "code",
   "execution_count": null,
   "id": "6ba04481",
   "metadata": {},
   "outputs": [],
   "source": [
    "%%capture\n",
    "import ROOT\n",
    "import glob\n",
    "import math\n",
    "import numpy as np\n",
    "import pandas as pd\n",
    "from IPython.display import display, Markdown, HTML\n",
    "import ipywidgets as widgets\n",
    "from TPCQCVis.src.drawHistograms import *\n",
    "from TPCQCVis.src.drawTrending import *\n",
    "from TPCQCVis.src.drawMultiTrending import *\n",
    "from TPCQCVis.src.checkHistograms import *\n",
    "from TPCQCVis.src.checkTrending import *"
   ]
  },
  {
   "cell_type": "code",
   "execution_count": null,
   "id": "7afb8d37",
   "metadata": {},
   "outputs": [],
   "source": [
    "display(HTML(\"<style>.container { width:95% !important; }</style>\"))\n",
    "display(HTML(\"<style>table {float:left;}</style>\"))"
   ]
  },
  {
   "cell_type": "code",
   "execution_count": null,
   "id": "bc674b80",
   "metadata": {},
   "outputs": [],
   "source": [
    "# Read the Root Files\n",
    "path = \"/cave/alice/data/2022/LHC22c/apass3/\"\n",
    "passName = \"apass3\"\n",
    "fileList = glob.glob(path+\"*_QC.root\")\n",
    "fileList.sort()\n",
    "#fileList = fileList[13:]\n",
    "runList = [fileList[i][36:-8] for i in range(len(fileList))]\n",
    "rootDataFile=[]\n",
    "for file in fileList:\n",
    "    rootDataFile.append(ROOT.TFile.Open(file,\"READ\"))\n",
    "#len(fileList)"
   ]
  },
  {
   "cell_type": "code",
   "execution_count": null,
   "id": "c0664349",
   "metadata": {},
   "outputs": [],
   "source": [
    "# Read the Root Files\n",
    "path = \"/cave/alice/data/2022/LHC22c/apass2/\"\n",
    "pass1Name = \"apass2\"\n",
    "fileList_apass1  = []\n",
    "for x in fileList:\n",
    "    line = list(x)\n",
    "    line[-16] = \"2\"\n",
    "    fileList_apass1.append(\"\".join(line))\n",
    "\n",
    "fileList_apass1 = glob.glob(path+\"*_QC.root\")\n",
    "fileList_apass1.sort()\n",
    "runList_apass1 = [fileList_apass1[i][-14:-8] for i in range(len(fileList_apass1))]\n",
    "rootDataFile_apass1=[]\n",
    "for file in fileList_apass1:\n",
    "    rootDataFile_apass1.append(ROOT.TFile.Open(file,\"READ\"))"
   ]
  },
  {
   "cell_type": "markdown",
   "id": "ef35b1c9",
   "metadata": {},
   "source": [
    "---\n",
    "## apass3 overview"
   ]
  },
  {
   "cell_type": "markdown",
   "id": "a26375bd",
   "metadata": {},
   "source": [
    "### Clusters"
   ]
  },
  {
   "cell_type": "code",
   "execution_count": null,
   "id": "ec466e80",
   "metadata": {},
   "outputs": [],
   "source": [
    "qualityDFClusters = pd.DataFrame({'runNumber':runList})\n",
    "names = []\n",
    "for i in range(72):\n",
    "    if i < 18*2: roc = \"IROC-\"\n",
    "    else: roc = \"OROC-\"\n",
    "    if i%(18*2) < 18: side = \"A\"\n",
    "    else : side = \"C\"\n",
    "    names.append(roc+side+str(i%18).zfill(2))"
   ]
  },
  {
   "cell_type": "code",
   "execution_count": null,
   "id": "097d4455",
   "metadata": {},
   "outputs": [],
   "source": [
    "objectName=\"c_ROCs_N_Clusters_1D;1\"\n",
    "trending = \"mean\"\n",
    "error = \"\"\n",
    "[trends,canvas] = drawMultiTrending(objectName,rootDataFile,names=runList,namesFromRunList=True,\n",
    "                               trend=trending,error=error,pads=True,normalize=True,\n",
    "                               log=\"none\",yAxisRange=[0,500])\n",
    "for iPad,pad in enumerate(canvas.GetListOfPrimitives()):\n",
    "    trend = trends[iPad]\n",
    "    [qualities,pad] = checkTrending(trend,canvas=pad,thresholds={\"GOOD\":3,\"MEDIUM\":6,\"BAD\":9})\n",
    "    qualityDFClusters[names[iPad]] = qualities\n",
    "    canvas.Update()"
   ]
  },
  {
   "cell_type": "code",
   "execution_count": null,
   "id": "fa4be8ef",
   "metadata": {},
   "outputs": [],
   "source": [
    "dfPrintClusters = pd.DataFrame(columns=[\"runNumber\",\"problematicROCs\"])\n",
    "for index, row in qualityDFClusters.iterrows():\n",
    "    runNumber = row[\"runNumber\"]\n",
    "    problematic = []\n",
    "    for column in qualityDFClusters.columns:\n",
    "        if row[column] == \"MEDIUM\" or row[column] == \"BAD\":\n",
    "            problematic.append(column)\n",
    "    if problematic:\n",
    "        dfPrintClusters = dfPrintClusters.append({\"runNumber\":runNumber, \"problematicROCs\":\" \".join(problematic)}, ignore_index=True)\n",
    "        #print(f\"Run {runNumber}: Issue in clusters with\", *problematic)"
   ]
  },
  {
   "cell_type": "code",
   "execution_count": null,
   "id": "79307c52",
   "metadata": {},
   "outputs": [],
   "source": [
    "from IPython.display import display, Markdown, Latex\n",
    "display(Markdown(dfPrintClusters.to_markdown(index=False)))"
   ]
  },
  {
   "cell_type": "code",
   "execution_count": null,
   "id": "d3da9869",
   "metadata": {},
   "outputs": [],
   "source": [
    "\n",
    "myPalette = np.array([920, 414, 801, 633],dtype=np.int32)\n",
    "ROOT.gStyle.SetPalette(4,myPalette)\n",
    "ROOT.gStyle.SetGridStyle(1)\n",
    "qualityLabels = {\"NULL\":0,\"GOOD\":1,\"MEDIUM\":2,\"BAD\":3}\n",
    "\n",
    "canvas = ROOT.TCanvas(\"QualityMatrixClusters\",\"\",1100,600)\n",
    "canvas.SetLeftMargin(0.15)\n",
    "canvas.SetBottomMargin(0.15)\n",
    "canvas.SetRightMargin(0.15)\n",
    "canvas.SetGrid()\n",
    "\n",
    "qualityHistClusters = ROOT.TH2I(\"QualityMatrixClusters\",\"Quality Matrix Clusters\",\n",
    "                        len(qualityDFClusters.index),min(qualityDFClusters.index),max(qualityDFClusters.index)+1,\n",
    "                        len(qualityDFClusters.columns)-1,0,len(qualityDFClusters.columns)-1)\n",
    "qualityHistClusters.SetCanExtend(ROOT.TH1.kAllAxes)\n",
    "qualityHistClusters.SetStats(0)\n",
    "for runIndex,run in enumerate(qualityDFClusters.runNumber):\n",
    "    qualityHistClusters.GetXaxis().SetBinLabel(runIndex+1,str(run))\n",
    "    qualityHistClusters.GetXaxis().SetTickLength( 0.03)\n",
    "    for checkIndex,check in enumerate(qualityDFClusters.loc[:, qualityDFClusters.columns != \"runNumber\"].columns):\n",
    "        #print(checkIndex,runIndex)\n",
    "        qualityHistClusters.Fill(run,check,qualityLabels.get(qualityDFClusters.iloc[runIndex][check]))\n",
    "\n",
    "qualityHistClusters.LabelsOption(\"u\")\n",
    "qualityHistClusters.Draw(\"COLZ\")\n",
    "qualityHistClusters.GetZaxis().SetRangeUser(-0.5,3.5);\n",
    "qualityHistClusters.GetZaxis().SetTitle(\"Quality\")\n",
    "qualityHistClusters.LabelsOption(\"v\")\n",
    "canvas.Draw()"
   ]
  },
  {
   "cell_type": "markdown",
   "id": "8d3005d1",
   "metadata": {},
   "source": [
    "### Tracks observables"
   ]
  },
  {
   "cell_type": "code",
   "execution_count": null,
   "id": "b69da588",
   "metadata": {},
   "outputs": [],
   "source": [
    "qualityDF = pd.DataFrame({'runNumber':runList})\n",
    "objects = [\"hPhiAside;1\",\"hPhiCside;1\",\"hEta;1\",\"hPt;1\",\"hQOverPt;1\",\"hSign;1\",\n",
    "           \"hdEdxTotMIP_TPC;1\",\"hNClustersAfterCuts;1\",\"hdEdxVsTgl;1\",\n",
    "           \"hdEdxTotMIPVsSnp_TPC;1\"]\n",
    "trending = \"mean\"\n",
    "error = \"meanError\"\n",
    "for objectName in objects:\n",
    "    name = objectName[0:objectName.find(\";\")]\n",
    "    [trend,canvas] = drawTrending(objectName,rootDataFile,names=runList,namesFromRunList=True,\n",
    "                                   trend=trending,error=error,log=\"none\",axis=1)\n",
    "    [qualities,canvas] = checkTrending(trend,canvas=canvas,thresholds={\"GOOD\":1.5,\"MEDIUM\":3,\"BAD\":6})\n",
    "    qualityDF[name] = qualities"
   ]
  },
  {
   "cell_type": "code",
   "execution_count": null,
   "id": "0372c762",
   "metadata": {},
   "outputs": [],
   "source": [
    "dfPrintTracks = pd.DataFrame(columns=[\"runNumber\",\"Issues\"])\n",
    "for index, row in qualityDF.iterrows():\n",
    "    runNumber = row[\"runNumber\"]\n",
    "    problematic = []\n",
    "    for column in qualityDF.columns:\n",
    "        if row[column] == \"MEDIUM\" or row[column] == \"BAD\":\n",
    "            problematic.append(column)\n",
    "    if problematic:\n",
    "        dfPrintTracks = dfPrintTracks.append({\"runNumber\":runNumber, \"Issues\":\" \".join(problematic)}, ignore_index=True)\n",
    "        #print(f\"Run {runNumber}: Issue in clusters with\", *problematic)\n",
    "display(Markdown(dfPrintTracks.to_markdown(index=False)))"
   ]
  },
  {
   "cell_type": "code",
   "execution_count": null,
   "id": "25e61277",
   "metadata": {},
   "outputs": [],
   "source": [
    "canvas = ROOT.TCanvas(\"QualityMatrixTracks\",\"\",1100,500)\n",
    "canvas.SetLeftMargin(0.15)\n",
    "canvas.SetBottomMargin(0.15)\n",
    "canvas.SetRightMargin(0.15)\n",
    "canvas.SetGrid()\n",
    "\n",
    "qualityHist = ROOT.TH2I(\"QualityMatrixTracks\",\"Quality Matrix Tracks Observables\",\n",
    "                        len(qualityDF.index),min(qualityDF.index),max(qualityDF.index)+1,\n",
    "                        len(qualityDF.columns)-1,0,len(qualityDF.columns)-1)\n",
    "qualityHist.SetCanExtend(ROOT.TH1.kAllAxes)\n",
    "qualityHist.SetStats(0)\n",
    "for runIndex,run in enumerate(qualityDF.runNumber):\n",
    "    qualityHist.GetXaxis().SetBinLabel(runIndex+1,str(run))\n",
    "    qualityHist.GetXaxis().SetTickLength( 0.03)\n",
    "    for checkIndex,check in enumerate(qualityDF.loc[:, qualityDF.columns != \"runNumber\"].columns):\n",
    "        #print(checkIndex,runIndex)\n",
    "        qualityHist.Fill(run,check,qualityLabels.get(qualityDF.iloc[runIndex][check]))\n",
    "\n",
    "qualityHist.LabelsOption(\"u\")\n",
    "qualityHist.Draw(\"COLZ\")\n",
    "qualityHist.GetZaxis().SetRangeUser(-0.5,3.5)\n",
    "qualityHist.GetZaxis().SetTitle(\"Quality\")\n",
    "qualityHist.LabelsOption(\"v\")\n",
    "\n",
    "# Update the canvas\n",
    "canvas.Update()\n",
    "canvas.Draw()"
   ]
  },
  {
   "cell_type": "markdown",
   "id": "858f1236",
   "metadata": {},
   "source": [
    "---\n",
    "## Comparing apass3 to apass2 with trends"
   ]
  },
  {
   "cell_type": "code",
   "execution_count": null,
   "id": "8ced6503",
   "metadata": {},
   "outputs": [],
   "source": [
    "%jsroot on\n",
    "objectName=\"hPt;1\"\n",
    "trending = \"entries\"\n",
    "error = \"stdDev\"\n",
    "leg = ROOT.TLegend()\n",
    "[trend,canvas] = drawTrending(objectName,rootDataFile,names=runList,namesFromRunList=True,\n",
    "                               trend=trending,error=error,yAxisRange=[0,750e9])\n",
    "leg.AddEntry(trend, passName, \"lep\")\n",
    "[trend2,canvas] = drawTrending(objectName,rootDataFile_apass1,names=runList,namesFromRunList=True,canvas=canvas,\n",
    "                               trend=trending,error=error,histName=\"apass2\")\n",
    "leg.AddEntry(trend2, pass1Name, \"lep\")\n",
    "leg.Draw()\n",
    "trend.SetTitle(\"Number of tracks Trending\")\n",
    "canvas.Draw()"
   ]
  },
  {
   "cell_type": "code",
   "execution_count": null,
   "id": "39ae9120",
   "metadata": {},
   "outputs": [],
   "source": [
    "%jsroot on\n",
    "objectName=\"hPhiAside;1\"\n",
    "trending = \"mean\"\n",
    "error = \"meanError\"\n",
    "leg = ROOT.TLegend()\n",
    "[trend,canvas] = drawTrending(objectName,rootDataFile,names=runList,namesFromRunList=True,\n",
    "                               trend=trending,error=error,\n",
    "                               log=\"none\",yAxisRange=[3.12,3.18])\n",
    "leg.AddEntry(trend, passName, \"lep\")\n",
    "[trend2,canvas] = drawTrending(objectName,rootDataFile_apass1,names=runList,namesFromRunList=True,canvas=canvas,\n",
    "                               trend=trending,error=error,\n",
    "                               log=\"none\",histName=\"apass2\")\n",
    "leg.AddEntry(trend2, pass1Name, \"lep\")\n",
    "leg.Draw()\n",
    "#trend.SetTitle(\"Number of tracks - Trend\")\n",
    "canvas.Draw()"
   ]
  },
  {
   "cell_type": "code",
   "execution_count": null,
   "id": "58aa4526",
   "metadata": {},
   "outputs": [],
   "source": [
    "%jsroot on\n",
    "objectName=\"hPhiCside;1\"\n",
    "trending = \"mean\"\n",
    "error = \"meanError\"\n",
    "leg = ROOT.TLegend()\n",
    "[trend,canvas] = drawTrending(objectName,rootDataFile,names=runList,namesFromRunList=True,\n",
    "                               trend=trending,error=error,\n",
    "                               log=\"none\",yAxisRange=[3.1,3.7])\n",
    "leg.AddEntry(trend, passName, \"lep\")\n",
    "[trend2,canvas] = drawTrending(objectName,rootDataFile_apass1,names=runList,namesFromRunList=True,canvas=canvas,\n",
    "                               trend=trending,error=error,\n",
    "                               log=\"none\",histName=\"apass2\")\n",
    "leg.AddEntry(trend2, pass1Name, \"lep\")\n",
    "leg.Draw()\n",
    "#trend.SetTitle(\"Number of tracks - Trend\")\n",
    "canvas.Draw()"
   ]
  },
  {
   "cell_type": "code",
   "execution_count": null,
   "id": "bffddf34",
   "metadata": {},
   "outputs": [],
   "source": [
    "%jsroot on\n",
    "objectName=\"hEta;1\"\n",
    "trending = \"mean\"\n",
    "error = \"meanError\"\n",
    "leg = ROOT.TLegend()\n",
    "[trend,canvas] = drawTrending(objectName,rootDataFile,names=runList,namesFromRunList=True,\n",
    "                               trend=trending,error=error,\n",
    "                               log=\"none\",yAxisRange=[18e-3,60e-3])\n",
    "leg.AddEntry(trend, passName, \"lep\")\n",
    "[trend2,canvas] = drawTrending(objectName,rootDataFile_apass1,names=runList,namesFromRunList=True,canvas=canvas,\n",
    "                               trend=trending,error=error,\n",
    "                               log=\"none\",histName=\"apass2\")\n",
    "leg.AddEntry(trend2, pass1Name, \"lep\")\n",
    "leg.Draw()\n",
    "#trend.SetTitle(\"Number of tracks - Trend\")\n",
    "canvas.Draw()"
   ]
  },
  {
   "cell_type": "markdown",
   "id": "cdeb1366",
   "metadata": {},
   "source": [
    "### pT trending\n",
    "+ Change in pT tail for runs with high (500kHz) IR"
   ]
  },
  {
   "cell_type": "code",
   "execution_count": null,
   "id": "54e7c72e",
   "metadata": {},
   "outputs": [],
   "source": [
    "%jsroot on\n",
    "objectName=\"hPt;1\"\n",
    "trending = \"mean\"\n",
    "error = \"meanError\"\n",
    "leg = ROOT.TLegend()\n",
    "[trend,canvas] = drawTrending(objectName,rootDataFile,names=runList,namesFromRunList=True,\n",
    "                               trend=trending,error=error,yAxisRange=[0.42,0.485],\n",
    "                               log=\"none\")\n",
    "leg.AddEntry(trend, passName, \"lep\")\n",
    "[trend2,canvas] = drawTrending(objectName,rootDataFile_apass1,names=runList,namesFromRunList=True,canvas=canvas,\n",
    "                               trend=trending,error=error,yAxisRange=[0.42,0.465],\n",
    "                               log=\"none\",histName=\"apass2\")\n",
    "leg.AddEntry(trend2, pass1Name, \"lep\")\n",
    "leg.Draw()\n",
    "#trend.SetTitle(\"Number of tracks - Trend\")\n",
    "canvas.Draw()"
   ]
  },
  {
   "cell_type": "code",
   "execution_count": null,
   "id": "610145ab",
   "metadata": {},
   "outputs": [],
   "source": [
    "%jsroot on\n",
    "objectName=\"hSign;1\"\n",
    "trending = \"mean\"\n",
    "error = \"meanError\"\n",
    "leg = ROOT.TLegend()\n",
    "[trend,canvas] = drawTrending(objectName,rootDataFile,names=runList,namesFromRunList=True,\n",
    "                               trend=trending,error=error,yAxisRange=[140E-3,180E-3],\n",
    "                               log=\"none\")\n",
    "leg.AddEntry(trend, passName, \"lep\")\n",
    "[trend2,canvas] = drawTrending(objectName,rootDataFile_apass1,names=runList,namesFromRunList=True,canvas=canvas,\n",
    "                               trend=trending,error=error,yAxisRange=[150E-3,166E-3],\n",
    "                               log=\"none\",histName=\"apass2\")\n",
    "leg.AddEntry(trend2, pass1Name, \"lep\")\n",
    "leg.Draw()\n",
    "#trend.SetTitle(\"Number of tracks - Trend\")\n",
    "canvas.Draw()"
   ]
  },
  {
   "cell_type": "markdown",
   "id": "1a28e248",
   "metadata": {},
   "source": [
    "### Time gain calibration"
   ]
  },
  {
   "cell_type": "code",
   "execution_count": null,
   "id": "4e3fbb51",
   "metadata": {},
   "outputs": [],
   "source": [
    "%jsroot on\n",
    "objectName=\"hdEdxTotMIP_TPC;1\"\n",
    "trending = \"mean\"\n",
    "error = \"meanError\"\n",
    "leg = ROOT.TLegend()\n",
    "[trend,canvas] = drawTrending(objectName,rootDataFile,names=runList,namesFromRunList=True,\n",
    "                               trend=trending,error=error,\n",
    "                               log=\"none\",yAxisRange=[52.5,55.5])\n",
    "leg.AddEntry(trend, passName, \"lep\")\n",
    "[trend2,canvas] = drawTrending(objectName,rootDataFile_apass1,names=runList,namesFromRunList=True,canvas=canvas,\n",
    "                               trend=trending,error=error,\n",
    "                               log=\"none\",histName=\"apass2\")\n",
    "leg.AddEntry(trend2, pass1Name, \"lep\")\n",
    "leg.Draw()\n",
    "#trend.SetTitle(\"Number of tracks - Trend\")\n",
    "canvas.Draw()"
   ]
  },
  {
   "cell_type": "code",
   "execution_count": null,
   "id": "4d091e93",
   "metadata": {},
   "outputs": [],
   "source": [
    "%jsroot on\n",
    "objectName=\"hNClustersAfterCuts;1\"\n",
    "trending = \"mean\"\n",
    "error = \"meanError\"\n",
    "leg = ROOT.TLegend()\n",
    "[trend,canvas] = drawTrending(objectName,rootDataFile,names=runList,namesFromRunList=True,\n",
    "                               trend=trending,error=error,\n",
    "                               log=\"none\",yAxisRange=[90,118])\n",
    "leg.AddEntry(trend, passName, \"lep\")\n",
    "[trend2,canvas] = drawTrending(objectName,rootDataFile_apass1,names=runList,namesFromRunList=True,canvas=canvas,\n",
    "                               trend=trending,error=error,\n",
    "                               log=\"none\",histName=\"apass2\")\n",
    "leg.AddEntry(trend2, pass1Name, \"lep\")\n",
    "leg.Draw()\n",
    "#trend.SetTitle(\"Number of tracks - Trend\")\n",
    "canvas.Draw()"
   ]
  },
  {
   "cell_type": "code",
   "execution_count": null,
   "id": "69b438e9",
   "metadata": {},
   "outputs": [],
   "source": [
    "%jsroot on\n",
    "objectName=\"hdEdxVsTgl;1\"\n",
    "trending = \"mean\"\n",
    "error = \"meanError\"\n",
    "leg = ROOT.TLegend()\n",
    "[trend,canvas] = drawTrending(objectName,rootDataFile,names=runList,namesFromRunList=True,\n",
    "                               trend=trending,error=error,axis=1,\n",
    "                               log=\"none\",yAxisRange=[10e-3,90e-3])\n",
    "leg.AddEntry(trend, passName, \"lep\")\n",
    "[trend2,canvas] = drawTrending(objectName,rootDataFile_apass1,names=runList,namesFromRunList=True,canvas=canvas,\n",
    "                               trend=trending,error=error,axis=1,\n",
    "                               log=\"none\",histName=\"apass2\")\n",
    "leg.AddEntry(trend2, pass1Name, \"lep\")\n",
    "leg.Draw()\n",
    "trend.SetTitle(\"Track tan(lambda) - Trend\")\n",
    "canvas.Draw()"
   ]
  },
  {
   "cell_type": "code",
   "execution_count": null,
   "id": "79868d4b",
   "metadata": {},
   "outputs": [],
   "source": [
    "%jsroot on\n",
    "objectName=\"hdEdxTotMIPVsSnp_TPC;1\"\n",
    "trending = \"mean\"\n",
    "error = \"meanError\"\n",
    "leg = ROOT.TLegend()\n",
    "[trend,canvas] = drawTrending(objectName,rootDataFile,names=runList,namesFromRunList=True,\n",
    "                               trend=trending,error=error,axis=1,\n",
    "                               log=\"none\",yAxisRange=[-0.05,0.05],histName=\"apass2\")\n",
    "leg.AddEntry(trend, passName, \"lep\")\n",
    "[trend2,canvas] = drawTrending(objectName,rootDataFile_apass1,names=runList,namesFromRunList=True,canvas=canvas,\n",
    "                               trend=trending,error=error,axis=1,\n",
    "                               log=\"none\",histName=\"apass3\")\n",
    "leg.AddEntry(trend2, pass1Name, \"lep\")\n",
    "leg.Draw()\n",
    "trend.SetTitle(\"Track sin(phi) - Trend\")\n",
    "canvas.Draw()"
   ]
  },
  {
   "cell_type": "markdown",
   "id": "a4b8dc0f",
   "metadata": {},
   "source": [
    "---\n",
    "## apass3 only trends with checks"
   ]
  },
  {
   "cell_type": "code",
   "execution_count": null,
   "id": "32ad6afc",
   "metadata": {},
   "outputs": [],
   "source": [
    "thresholds = {\"GOOD\":3,\"MEDIUM\":6,\"BAD\":9}"
   ]
  },
  {
   "cell_type": "code",
   "execution_count": null,
   "id": "8ec22c83",
   "metadata": {},
   "outputs": [],
   "source": [
    "%jsroot on\n",
    "objectName=\"hPhiAside;1\"\n",
    "trending = \"mean\"\n",
    "error = \"meanError\"\n",
    "leg = ROOT.TLegend()\n",
    "[trend,canvas] = drawTrending(objectName,rootDataFile,names=runList,namesFromRunList=True,\n",
    "                               trend=trending,error=error,\n",
    "                               log=\"none\",yAxisRange=[2.12,4.18])\n",
    "[qualities,canvas] = checkTrending(trend,canvas=canvas,thresholds=thresholds)\n",
    "#qualityDF[objectName] = qualities\n",
    "canvas.Draw()"
   ]
  },
  {
   "cell_type": "code",
   "execution_count": null,
   "id": "f8d93b41",
   "metadata": {},
   "outputs": [],
   "source": [
    "%jsroot on\n",
    "objectName=\"hPhiCside;1\"\n",
    "trending = \"mean\"\n",
    "error = \"meanError\"\n",
    "leg = ROOT.TLegend()\n",
    "[trend,canvas] = drawTrending(objectName,rootDataFile,names=runList,namesFromRunList=True,\n",
    "                               trend=trending,error=error,\n",
    "                               log=\"none\",yAxisRange=[3.12,3.18])\n",
    "[qualities,canvas] = checkTrending(trend,canvas=canvas,thresholds=thresholds)\n",
    "#qualityDF[objectName] = qualities\n",
    "#trend.SetTitle(\"Number of tracks - Trend\")\n",
    "canvas.Draw()"
   ]
  },
  {
   "cell_type": "code",
   "execution_count": null,
   "id": "e909f751",
   "metadata": {},
   "outputs": [],
   "source": [
    "%jsroot on\n",
    "objectName=\"hEta;1\"\n",
    "trending = \"mean\"\n",
    "error = \"meanError\"\n",
    "leg = ROOT.TLegend()\n",
    "[trend,canvas] = drawTrending(objectName,rootDataFile,names=runList,namesFromRunList=True,\n",
    "                               trend=trending,error=error,\n",
    "                               log=\"none\",yAxisRange=[18e-3,60e-3])\n",
    "[qualities,canvas] = checkTrending(trend,canvas=canvas,thresholds={\"GOOD\":3,\"MEDIUM\":6,\"BAD\":9})\n",
    "#qualityDF[objectName] = qualities\n",
    "#trend.SetTitle(\"Number of tracks - Trend\")\n",
    "canvas.Draw()"
   ]
  },
  {
   "cell_type": "code",
   "execution_count": null,
   "id": "68e05779",
   "metadata": {},
   "outputs": [],
   "source": [
    "%jsroot on\n",
    "objectName=\"hPt;1\"\n",
    "trending = \"mean\"\n",
    "error = \"meanError\"\n",
    "leg = ROOT.TLegend()\n",
    "[trend,canvas] = drawTrending(objectName,rootDataFile,names=runList,namesFromRunList=True,\n",
    "                               trend=trending,error=error,\n",
    "                               log=\"none\",yAxisRange=[18e-3,60e-3])\n",
    "[qualities,canvas] = checkTrending(trend,canvas=canvas,thresholds={\"GOOD\":3,\"MEDIUM\":6,\"BAD\":9})\n",
    "#qualityDF[objectName] = qualities\n",
    "#trend.SetTitle(\"Number of tracks - Trend\")\n",
    "canvas.Draw()"
   ]
  },
  {
   "cell_type": "code",
   "execution_count": null,
   "id": "b2784f4c",
   "metadata": {},
   "outputs": [],
   "source": [
    "%jsroot on\n",
    "objectName=\"hSign;1\"\n",
    "trending = \"mean\"\n",
    "error = \"meanError\"\n",
    "leg = ROOT.TLegend()\n",
    "[trend,canvas] = drawTrending(objectName,rootDataFile,names=runList,namesFromRunList=True,\n",
    "                               trend=trending,error=error,\n",
    "                               log=\"none\",yAxisRange=[18e-3,60e-3])\n",
    "[qualities,canvas] = checkTrending(trend,canvas=canvas,thresholds={\"GOOD\":3,\"MEDIUM\":6,\"BAD\":9})\n",
    "#qualityDF[objectName] = qualities\n",
    "#trend.SetTitle(\"Number of tracks - Trend\")\n",
    "canvas.Draw()"
   ]
  },
  {
   "cell_type": "code",
   "execution_count": null,
   "id": "accf51f9",
   "metadata": {},
   "outputs": [],
   "source": [
    "%jsroot on\n",
    "objectName=\"hdEdxTotMIP_TPC;1\"\n",
    "trending = \"mean\"\n",
    "error = \"meanError\"\n",
    "leg = ROOT.TLegend()\n",
    "[trend,canvas] = drawTrending(objectName,rootDataFile,names=runList,namesFromRunList=True,\n",
    "                               trend=trending,error=error,\n",
    "                               log=\"none\",yAxisRange=[18e-3,60e-3])\n",
    "[qualities,canvas] = checkTrending(trend,canvas=canvas,thresholds={\"GOOD\":3,\"MEDIUM\":6,\"BAD\":9})\n",
    "#qualityDF[objectName] = qualities\n",
    "#trend.SetTitle(\"Number of tracks - Trend\")\n",
    "canvas.Draw()"
   ]
  },
  {
   "cell_type": "code",
   "execution_count": null,
   "id": "5249d911",
   "metadata": {},
   "outputs": [],
   "source": [
    "%jsroot on\n",
    "objectName=\"hNClustersAfterCuts;1\"\n",
    "trending = \"mean\"\n",
    "error = \"meanError\"\n",
    "leg = ROOT.TLegend()\n",
    "[trend,canvas] = drawTrending(objectName,rootDataFile,names=runList,namesFromRunList=True,\n",
    "                               trend=trending,error=error,\n",
    "                               log=\"none\")\n",
    "[qualities,canvas] = checkTrending(trend,canvas=canvas,thresholds={\"GOOD\":3,\"MEDIUM\":6,\"BAD\":9})\n",
    "#qualityDF[objectName] = qualities\n",
    "#trend.SetTitle(\"Number of tracks - Trend\")\n",
    "canvas.Draw()"
   ]
  },
  {
   "cell_type": "code",
   "execution_count": null,
   "id": "573dac03",
   "metadata": {},
   "outputs": [],
   "source": [
    "%jsroot on\n",
    "objectName=\"hdEdxVsTgl;1\"\n",
    "trending = \"mean\"\n",
    "error = \"meanError\"\n",
    "leg = ROOT.TLegend()\n",
    "[trend,canvas] = drawTrending(objectName,rootDataFile,names=runList,namesFromRunList=True,\n",
    "                               trend=trending,error=error,\n",
    "                               log=\"none\")\n",
    "[qualities,canvas] = checkTrending(trend,canvas=canvas,thresholds={\"GOOD\":3,\"MEDIUM\":6,\"BAD\":9})\n",
    "#qualityDF[objectName] = qualities\n",
    "#trend.SetTitle(\"Number of tracks - Trend\")\n",
    "canvas.Draw()"
   ]
  },
  {
   "cell_type": "code",
   "execution_count": null,
   "id": "824fe439",
   "metadata": {},
   "outputs": [],
   "source": [
    "%jsroot on\n",
    "objectName=\"hdEdxTotMIPVsSnp_TPC;1\"\n",
    "trending = \"mean\"\n",
    "error = \"meanError\"\n",
    "leg = ROOT.TLegend()\n",
    "[trend,canvas] = drawTrending(objectName,rootDataFile,names=runList,namesFromRunList=True,\n",
    "                               trend=trending,error=error,axis=1,\n",
    "                               log=\"none\")\n",
    "[qualities,canvas] = checkTrending(trend,canvas=canvas,thresholds={\"GOOD\":3,\"MEDIUM\":6,\"BAD\":9})\n",
    "#qualityDF[objectName] = qualities\n",
    "#trend.SetTitle(\"Number of tracks - Trend\")\n",
    "canvas.Draw()"
   ]
  },
  {
   "cell_type": "markdown",
   "id": "2ca94113",
   "metadata": {},
   "source": [
    "---\n",
    "## Plots from apass3"
   ]
  },
  {
   "cell_type": "code",
   "execution_count": null,
   "id": "94dac685",
   "metadata": {},
   "outputs": [],
   "source": [
    "ROOT.gStyle.SetPalette(57)"
   ]
  },
  {
   "cell_type": "markdown",
   "id": "03eca5ad",
   "metadata": {},
   "source": [
    "## Clusters QC\n",
    "+ Cluster maps look OK\n",
    "Example run with problematic C side ROCs (`528602`) shown"
   ]
  },
  {
   "cell_type": "code",
   "execution_count": null,
   "id": "7f71963e",
   "metadata": {},
   "outputs": [],
   "source": [
    "%jsroot on\n",
    "objectName = \"c_N_Clusters\"\n",
    "c = rootDataFile[2].ClusterQC.Get(objectName)\n",
    "c.Draw()"
   ]
  },
  {
   "cell_type": "code",
   "execution_count": null,
   "id": "93c3bb31",
   "metadata": {},
   "outputs": [],
   "source": [
    "%jsroot on\n",
    "objectName = \"c_Q_Tot\"\n",
    "c = rootDataFile[4].ClusterQC.Get(objectName)\n",
    "c.Draw()"
   ]
  },
  {
   "cell_type": "markdown",
   "id": "549deb42",
   "metadata": {},
   "source": [
    "---\n",
    "## Tracks QC\n",
    "### Geometrical distributions of tracks\n",
    "**Phi distribution A-side tracks:**\n",
    "+ Run `529310` problems with sector A4"
   ]
  },
  {
   "cell_type": "code",
   "execution_count": null,
   "id": "d4d46a67",
   "metadata": {},
   "outputs": [],
   "source": [
    "%jsroot on\n",
    "objectName=\"hPhiAside\"\n",
    "[hist,legend,canvas,pad1,histComp] = drawHistograms(objectName,rootDataFile,normalize=True,legend=False,legendNames=runList,pads=True,\n",
    "                                           compareTo=rootDataFile_apass1,drawOption=\"SAME HIST PLC PMC\",yAxisRange=[0,4e-3],\n",
    "                                           check=qualityDF[objectName])\n",
    "\n",
    "leg = ROOT.TLegend()\n",
    "leg.AddEntry(hist, passName, \"lep\")\n",
    "leg.AddEntry(histComp, pass1Name, \"lep\")\n",
    "#Sector boundatries\n",
    "for i in range(len(rootDataFile)):\n",
    "    pad1.cd(i+1)\n",
    "    \n",
    "    sectorBoundary = ROOT.TLine(0,hist.GetMinimum(),0,hist.GetMaximum())\n",
    "    sectorBoundary.SetLineStyle(2)\n",
    "    sectorNum = ROOT.TText(.5,.5,\"test\")\n",
    "    sectorNum.SetTextAlign(22)\n",
    "    sectorNum.SetTextColor(ROOT.kGray+1)\n",
    "    sectorNum.SetTextFont(0)\n",
    "    for j in range(19):\n",
    "        sectorBoundary.DrawLine((j*2*math.pi)/18,hist.GetMinimum(),(j*2*math.pi)/18,hist.GetMaximum())\n",
    "        if j < 18 : sectorNum.DrawText(((j+0.5)*2*math.pi)/18,hist.GetMaximum(),str(j))\n",
    "    leg.Draw()\n",
    "\n",
    "canvas.Draw()"
   ]
  },
  {
   "cell_type": "markdown",
   "id": "6305738a",
   "metadata": {},
   "source": [
    "**Phi distribution C-side tracks:**\n",
    "+ Run `529338` problems with sector C12"
   ]
  },
  {
   "cell_type": "code",
   "execution_count": null,
   "id": "347e4057",
   "metadata": {},
   "outputs": [],
   "source": [
    "%jsroot on\n",
    "objectName=\"hPhiCside\"\n",
    "[hist,legend,canvas,pad1,histComp] = drawHistograms(objectName,rootDataFile,normalize=True,legend=False,legendNames=runList,pads=True,\n",
    "                                           compareTo=rootDataFile_apass1,drawOption=\"SAME HIST PLC PMC\",yAxisRange=[0,4e-3],\n",
    "                                                   check=qualityDF[objectName])\n",
    "leg = ROOT.TLegend()\n",
    "leg.AddEntry(hist, passName, \"lep\")\n",
    "leg.AddEntry(histComp, pass1Name, \"lep\")\n",
    "#Sector boundatries\n",
    "for i in range(len(rootDataFile)):\n",
    "    pad1.cd(i+1)\n",
    "    sectorBoundary = ROOT.TLine(0,hist.GetMinimum(),0,hist.GetMaximum())\n",
    "    sectorBoundary.SetLineStyle(2)\n",
    "    sectorNum = ROOT.TText(.5,.5,\"test\")\n",
    "    sectorNum.SetTextAlign(22)\n",
    "    sectorNum.SetTextColor(ROOT.kGray+1)\n",
    "    sectorNum.SetTextFont(0)\n",
    "    for j in range(19):\n",
    "        sectorBoundary.DrawLine((j*2*math.pi)/18,hist.GetMinimum(),(j*2*math.pi)/18,hist.GetMaximum())\n",
    "        if j < 18 : sectorNum.DrawText(((j+0.5)*2*math.pi)/18,hist.GetMaximum(),str(j))\n",
    "    leg.Draw()\n",
    "canvas.Draw()"
   ]
  },
  {
   "cell_type": "markdown",
   "id": "87f2c477",
   "metadata": {},
   "source": [
    "### Eta distribution"
   ]
  },
  {
   "cell_type": "code",
   "execution_count": null,
   "id": "e2d2dcfc",
   "metadata": {},
   "outputs": [],
   "source": [
    "%jsroot on\n",
    "objectName=\"hPhiCside\"\n",
    "[hist,legend,canvas,pad1,histComp] = drawHistograms(objectName,rootDataFile[8:9],normalize=True,legend=False,legendNames=runList[8:9],pads=True,\n",
    "                                           compareTo=rootDataFile_apass1[8:9],drawOption=\"SAME HIST PLC PMC\",yAxisRange=[2e-3,3.5e-3])\n",
    "leg = ROOT.TLegend()\n",
    "leg.AddEntry(hist, passName, \"lep\")\n",
    "leg.AddEntry(histComp, pass1Name, \"lep\")\n",
    "pad1.cd(1)\n",
    "sectorBoundary = ROOT.TLine(0,hist.GetMinimum(),0,hist.GetMaximum())\n",
    "sectorBoundary.SetLineStyle(2)\n",
    "sectorNum = ROOT.TText(.5,.5,\"test\")\n",
    "sectorNum.SetTextAlign(22)\n",
    "sectorNum.SetTextColor(ROOT.kGray+1)\n",
    "sectorNum.SetTextFont(0)\n",
    "for j in range(19):\n",
    "    sectorBoundary.DrawLine((j*2*math.pi)/18,hist.GetMinimum(),(j*2*math.pi)/18,hist.GetMaximum())\n",
    "    if j < 18 : sectorNum.DrawText(((j+0.5)*2*math.pi)/18,hist.GetMaximum(),str(j))\n",
    "leg.Draw()\n",
    "canvas.Draw()"
   ]
  },
  {
   "cell_type": "code",
   "execution_count": null,
   "id": "5f255563",
   "metadata": {},
   "outputs": [],
   "source": [
    "%jsroot on\n",
    "objectName=\"hEta\"\n",
    "[hist,legend,canvas,pad1,histComp] = drawHistograms(objectName,rootDataFile[8:9],normalize=True,legend=False,legendNames=runList[8:9],pads=True,\n",
    "                                           compareTo=rootDataFile_apass1[8:9],drawOption=\"SAME HIST PLC PMC\",yAxisRange=[2e-3,9e-3])\n",
    "leg = ROOT.TLegend()\n",
    "leg.AddEntry(hist, passName, \"lep\")\n",
    "leg.AddEntry(histComp, pass1Name, \"lep\")\n",
    "leg.Draw()\n",
    "canvas.Draw()"
   ]
  },
  {
   "cell_type": "code",
   "execution_count": null,
   "id": "045ca62f",
   "metadata": {},
   "outputs": [],
   "source": [
    "%jsroot on\n",
    "objectName=\"hPt\"\n",
    "[hist,legend,canvas,pad1,histComp] = drawHistograms(objectName,rootDataFile[8:9],normalize=True,legend=False,legendNames=runList[8:9],pads=True,\n",
    "                                           compareTo=rootDataFile_apass1[8:9],drawOption=\"SAME HIST PLC PMC\")\n",
    "leg = ROOT.TLegend()\n",
    "leg.AddEntry(hist, passName, \"lep\")\n",
    "leg.AddEntry(histComp, pass1Name, \"lep\")\n",
    "leg.Draw()\n",
    "canvas.Draw()"
   ]
  },
  {
   "cell_type": "code",
   "execution_count": null,
   "id": "3d6a3d10",
   "metadata": {},
   "outputs": [],
   "source": [
    "%jsroot on\n",
    "objectName=\"h2DEtaPhi\"\n",
    "[hist,legend,canvas,pad1] = drawHistograms(objectName,rootDataFile,normalize=False,legend=False,yAxisRange = [-1.1,1.1],legendNames=runList,pads=True,drawOption=\"COLZ\")\n",
    "canvas.Draw()"
   ]
  },
  {
   "cell_type": "markdown",
   "id": "738f539d",
   "metadata": {},
   "source": [
    "### Track properties\n",
    "**Transverse momentum**"
   ]
  },
  {
   "cell_type": "code",
   "execution_count": null,
   "id": "fe939830",
   "metadata": {},
   "outputs": [],
   "source": [
    "objectName=\"hPt\"\n",
    "[hist,legend,canvas,pad1,histComp] = drawHistograms(objectName,rootDataFile,normalize=True,legend=False,legendNames=runList,pads=True,\n",
    "                                           compareTo=rootDataFile_apass1,drawOption=\"SAME HIST PLC PMC\",log=\"logxy\",check=qualityDF[objectName])\n",
    "leg = ROOT.TLegend()\n",
    "leg.AddEntry(hist, passName, \"lep\")\n",
    "leg.AddEntry(histComp, pass1Name, \"lep\")\n",
    "for i in range(len(rootDataFile)):\n",
    "    pad1.cd(i+1)\n",
    "    leg.Draw()\n",
    "canvas.Draw()"
   ]
  },
  {
   "cell_type": "markdown",
   "id": "5200e396",
   "metadata": {},
   "source": [
    "**Track sign**\n",
    "+ Ratio as expected"
   ]
  },
  {
   "cell_type": "code",
   "execution_count": null,
   "id": "e222519f",
   "metadata": {},
   "outputs": [],
   "source": [
    "objectName=\"hSign\"\n",
    "[hist,legend,canvas,pad1,histComp] = drawHistograms(objectName,rootDataFile,normalize=True,legend=False,legendNames=runList,pads=True,\n",
    "                                           compareTo=rootDataFile_apass1,drawOption=\"SAME HIST PLC PMC\",check=qualityDF[objectName])\n",
    "leg = ROOT.TLegend()\n",
    "leg.AddEntry(hist, passName, \"lep\")\n",
    "leg.AddEntry(histComp, pass1Name, \"lep\")\n",
    "for i in range(len(rootDataFile)):\n",
    "    pad1.cd(i+1)\n",
    "    leg.Draw()\n",
    "canvas.Draw()"
   ]
  },
  {
   "cell_type": "markdown",
   "id": "d58cf558",
   "metadata": {},
   "source": [
    "**Charge / transverse momentum**\n",
    "+ All runs OK"
   ]
  },
  {
   "cell_type": "code",
   "execution_count": null,
   "id": "edc50695",
   "metadata": {},
   "outputs": [],
   "source": [
    "%jsroot on\n",
    "objectName=\"hQOverPt\"\n",
    "[hist,legend,canvas,pad1,histComp] = drawHistograms(objectName,rootDataFile,normalize=True,legend=False,legendNames=runList,pads=True,\n",
    "                                           compareTo=rootDataFile_apass1,drawOption=\"SAME HIST PLC PMC\",check=qualityDF[objectName])\n",
    "leg = ROOT.TLegend()\n",
    "leg.AddEntry(hist, passName, \"lep\")\n",
    "leg.AddEntry(histComp, pass1Name, \"lep\")\n",
    "for i in range(len(rootDataFile)):\n",
    "    pad1.cd(i+1)\n",
    "    leg.Draw()\n",
    "canvas.Draw()"
   ]
  },
  {
   "cell_type": "markdown",
   "id": "cb886e2a",
   "metadata": {},
   "source": [
    "### Number of clusters per track\n",
    "+ All OK"
   ]
  },
  {
   "cell_type": "code",
   "execution_count": null,
   "id": "ad5067a9",
   "metadata": {},
   "outputs": [],
   "source": [
    "%jsroot on\n",
    "objectName=\"hNClustersAfterCuts\"\n",
    "[hist,legend,canvas,pad1] = drawHistograms(objectName,rootDataFile,normalize=True,legend=True,xAxisRange = [50,160],yAxisRange=[0,30e-3],legendNames=runList,pads=False)\n",
    "canvas.Draw()"
   ]
  },
  {
   "cell_type": "code",
   "execution_count": null,
   "id": "41be7213",
   "metadata": {},
   "outputs": [],
   "source": [
    "%jsroot on\n",
    "objectName=\"hNClustersAfterCuts\"\n",
    "[hist,legend,canvas,pad1,histComp] = drawHistograms(objectName,rootDataFile,normalize=True,legend=False,legendNames=runList,pads=True,\n",
    "                                           compareTo=rootDataFile_apass1,drawOption=\"SAME HIST PLC PMC\",xAxisRange = [50,160],yAxisRange=[0,2E-2],check=qualityDF[objectName])\n",
    "leg = ROOT.TLegend()\n",
    "leg.AddEntry(hist, passName, \"lep\")\n",
    "leg.AddEntry(histComp, pass1Name, \"lep\")\n",
    "for i in range(len(rootDataFile)):\n",
    "    pad1.cd(i+1)\n",
    "    leg.Draw()\n",
    "canvas.Draw()"
   ]
  },
  {
   "cell_type": "markdown",
   "id": "f2925ae9",
   "metadata": {},
   "source": [
    "### nClusters vs phi"
   ]
  },
  {
   "cell_type": "code",
   "execution_count": null,
   "id": "d2a6b3af",
   "metadata": {},
   "outputs": [],
   "source": [
    "%jsroot on\n",
    "objectName=\"h2DNClustersPhiAside\"\n",
    "[hist,legend,canvas,pad1] = drawHistograms(objectName,rootDataFile,normalize=False,legend=False,yAxisRange = [50,170],legendNames=runList,pads=True,drawOption=\"COLZ\")\n",
    "canvas.Draw()"
   ]
  },
  {
   "cell_type": "code",
   "execution_count": null,
   "id": "a617a977",
   "metadata": {},
   "outputs": [],
   "source": [
    "%jsroot on\n",
    "objectName=\"h2DNClustersPhiCside\"\n",
    "[hist,legend,canvas,pad1] = drawHistograms(objectName,rootDataFile,normalize=False,legend=False,yAxisRange = [50,170],legendNames=runList,pads=True,drawOption=\"COLZ\")\n",
    "canvas.Draw()"
   ]
  },
  {
   "cell_type": "markdown",
   "id": "91903ed3",
   "metadata": {},
   "source": [
    "### nClusters vs eta\n",
    "+ All runs OK"
   ]
  },
  {
   "cell_type": "code",
   "execution_count": null,
   "id": "65b42b04",
   "metadata": {},
   "outputs": [],
   "source": [
    "%jsroot on\n",
    "objectName=\"h2DNClustersEta\"\n",
    "[hist,legend,canvas,pad1] = drawHistograms(objectName,rootDataFile,normalize=False,legend=False,xAxisRange = [-1.1,1.1],yAxisRange = [50,170],legendNames=runList,pads=True,drawOption=\"COLZ\")\n",
    "canvas.Draw()"
   ]
  },
  {
   "cell_type": "markdown",
   "id": "9254b83e",
   "metadata": {},
   "source": [
    "### nClusters vs transverse momentum\n",
    "+ All runs OK"
   ]
  },
  {
   "cell_type": "code",
   "execution_count": null,
   "id": "880764e9",
   "metadata": {},
   "outputs": [],
   "source": [
    "%jsroot on\n",
    "objectName=\"h2DNClustersPt\"\n",
    "[hist,legend,canvas,pad1] = drawHistograms(objectName,rootDataFile,normalize=False,legend=False,log=\"logx\",yAxisRange = [50,170],legendNames=runList,pads=True,drawOption=\"COLZ\")\n",
    "canvas.Draw()"
   ]
  },
  {
   "cell_type": "markdown",
   "id": "8d8b92cf",
   "metadata": {},
   "source": [
    "### PID\n",
    "+ All runs OK"
   ]
  },
  {
   "cell_type": "code",
   "execution_count": null,
   "id": "38a1fd71",
   "metadata": {},
   "outputs": [],
   "source": [
    "%jsroot on\n",
    "objectName=\"hdEdxTotMIP_TPC\"\n",
    "#quality = checkHistograms(objectName,rootDataFile,check=\"(histogram.Fit(\\\"gaus\\\",\\\"Sq\\\",\\\"\\\",40,60)) and 49<histogram.GetFunction(\\\"gaus\\\").GetParameter(1)<51\")\n",
    "[hist,legend,canvas,pad1,histComp] = drawHistograms(objectName,rootDataFile,normalize=True,legend=False,legendNames=runList,pads=True,log=\"logx\",\n",
    "                                           compareTo=rootDataFile_apass1,drawOption=\"SAME HIST PLC PMC\",yAxisRange=[0,0.12],check=qualityDF[objectName])\n",
    "\n",
    "leg = ROOT.TLegend()\n",
    "leg.AddEntry(hist, passName, \"lep\")\n",
    "leg.AddEntry(histComp, pass1Name, \"lep\")\n",
    "for i in range(len(rootDataFile)):\n",
    "    pad1.cd(i+1)\n",
    "    sectorBoundary = ROOT.TLine()\n",
    "    sectorBoundary.SetLineStyle(1)\n",
    "    sectorBoundary.SetLineColor(ROOT.kGreen-2)\n",
    "    sectorBoundary.SetLineWidth(2)\n",
    "    sectorBoundary.DrawLine(50,hist.GetMinimum(),50,0.12)\n",
    "    leg.Draw()\n",
    "    \n",
    "canvas.Draw()"
   ]
  },
  {
   "cell_type": "markdown",
   "id": "b9ed6bf3",
   "metadata": {},
   "source": [
    "## TPC Gain calibration\n",
    "**dEdx of MIP vs sector**\n",
    "+ All runs have uniform dEdx response in sector"
   ]
  },
  {
   "cell_type": "code",
   "execution_count": null,
   "id": "8b9d2bb7",
   "metadata": {},
   "outputs": [],
   "source": [
    "%jsroot on\n",
    "objectName=\"hdEdxTotMIPVsSec_TPC\"\n",
    "[hist,legend,canvas,pad1] = drawHistograms(objectName,rootDataFile,normalize=False,legend=False,log=\"logy\",legendNames=runList,pads=True,drawOption=\"COLZ\")\n",
    "for i in range(len(rootDataFile)):\n",
    "    pad1.cd(i+1)\n",
    "    sectorBoundary = ROOT.TLine()\n",
    "    sectorBoundary.SetLineStyle(2)\n",
    "    sectorBoundary.SetLineColor(ROOT.kBlack)\n",
    "    sectorBoundary.SetLineWidth(2)\n",
    "    sectorBoundary.DrawLine(0,50,36,50)\n",
    "\n",
    "canvas.Draw()"
   ]
  },
  {
   "cell_type": "markdown",
   "id": "dedc1882",
   "metadata": {},
   "source": [
    "**dEdx of Mip vs nClusters**\n",
    "* All runs OK"
   ]
  },
  {
   "cell_type": "code",
   "execution_count": null,
   "id": "09d8a306",
   "metadata": {},
   "outputs": [],
   "source": [
    "%jsroot on\n",
    "objectName=\"hdEdxTotMIPVsNcl_TPC\"\n",
    "[hist,legend,canvas,pad1] = drawHistograms(objectName,rootDataFile,normalize=False,legend=False,log=\"logz\",xAxisRange = [55,180],legendNames=runList,pads=True,drawOption=\"COLZ\")\n",
    "for i in range(len(rootDataFile)):\n",
    "    pad1.cd(i+1)\n",
    "    sectorBoundary = ROOT.TLine()\n",
    "    sectorBoundary.SetLineStyle(2)\n",
    "    sectorBoundary.SetLineColor(ROOT.kBlack)\n",
    "    sectorBoundary.SetLineWidth(2)\n",
    "    sectorBoundary.DrawLine(55,50,180,50)\n",
    "canvas.Draw()"
   ]
  },
  {
   "cell_type": "markdown",
   "id": "61714520",
   "metadata": {},
   "source": [
    "**dEdx of Mip vs sin(phi)**\n",
    "* All runs OK"
   ]
  },
  {
   "cell_type": "code",
   "execution_count": null,
   "id": "14ca62a2",
   "metadata": {},
   "outputs": [],
   "source": [
    "%jsroot on\n",
    "objectName=\"hdEdxTotMIPVsSnp_TPC\"\n",
    "[hist,legend,canvas,pad1] = drawHistograms(objectName,rootDataFile,normalize=False,legend=False,log=\"logz\",legendNames=runList,pads=True,drawOption=\"COLZ\")\n",
    "for i in range(len(rootDataFile)):\n",
    "    pad1.cd(i+1)\n",
    "    sectorBoundary = ROOT.TLine()\n",
    "    sectorBoundary.SetLineStyle(2)\n",
    "    sectorBoundary.SetLineColor(ROOT.kBlack)\n",
    "    sectorBoundary.SetLineWidth(2)\n",
    "    sectorBoundary.DrawLine(hist.GetXaxis().GetXmin(),50,hist.GetXaxis().GetXmax(),50)\n",
    "canvas.Draw()"
   ]
  },
  {
   "cell_type": "markdown",
   "id": "560a30ec",
   "metadata": {},
   "source": [
    "**dEdx of Mip vs tan(lambda)**\n",
    "* All runs OK"
   ]
  },
  {
   "cell_type": "code",
   "execution_count": null,
   "id": "0189d813",
   "metadata": {},
   "outputs": [],
   "source": [
    "%jsroot on\n",
    "objectName=\"hdEdxTotMIPVsTgl_TPC\"\n",
    "[hist,legend,canvas,pad1] = drawHistograms(objectName,rootDataFile,normalize=False,legend=False,log=\"logz\",legendNames=runList,pads=True,drawOption=\"COLZ\")\n",
    "for i in range(len(rootDataFile)):\n",
    "    pad1.cd(i+1)\n",
    "    sectorBoundary = ROOT.TLine()\n",
    "    sectorBoundary.SetLineStyle(2)\n",
    "    sectorBoundary.SetLineColor(ROOT.kBlack)\n",
    "    sectorBoundary.SetLineWidth(2)\n",
    "    sectorBoundary.DrawLine(hist.GetXaxis().GetXmin(),50,hist.GetXaxis().GetXmax(),50)\n",
    "canvas.Draw()"
   ]
  },
  {
   "cell_type": "markdown",
   "id": "4d5e6ec8",
   "metadata": {},
   "source": [
    "### dEdx vs p\n",
    "+ All runs OK"
   ]
  },
  {
   "cell_type": "code",
   "execution_count": null,
   "id": "a3f91098",
   "metadata": {},
   "outputs": [],
   "source": [
    "%jsroot on\n",
    "from TPCQCVis.src.drawBetheBloch import *\n",
    "objectName=\"hdEdxTotVsP_TPC\"\n",
    "[hist,legend,canvas,pad1] = drawHistograms(objectName,rootDataFile,normalize=False,legend=False,log=\"logxyz\",legendNames=runList,pads=True,drawOption=\"COLZ\")\n",
    "betheBlochLines = getBetheBloch(runList)\n",
    "pad1 = drawBetheBloch(betheBlochLines,pad1)\n",
    "canvas.Draw()"
   ]
  },
  {
   "cell_type": "code",
   "execution_count": null,
   "id": "b0dbd4cf",
   "metadata": {},
   "outputs": [],
   "source": []
  },
  {
   "cell_type": "code",
   "execution_count": null,
   "id": "5ef9d0a8",
   "metadata": {},
   "outputs": [],
   "source": []
  }
 ],
 "metadata": {
  "kernelspec": {
   "display_name": "Python 3 (ipykernel)",
   "language": "python",
   "name": "python3"
  },
  "language_info": {
   "codemirror_mode": {
    "name": "ipython",
    "version": 3
   },
   "file_extension": ".py",
   "mimetype": "text/x-python",
   "name": "python",
   "nbconvert_exporter": "python",
   "pygments_lexer": "ipython3",
   "version": "3.9.12"
  },
  "toc": {
   "base_numbering": 1,
   "nav_menu": {},
   "number_sections": false,
   "sideBar": false,
   "skip_h1_title": true,
   "title_cell": "Table of Contents",
   "title_sidebar": "Contents",
   "toc_cell": true,
   "toc_position": {},
   "toc_section_display": true,
   "toc_window_display": false
  },
  "widgets": {
   "application/vnd.jupyter.widget-state+json": {
    "state": {
     "0406058ce7b34920a5002f002b388a11": {
      "model_module": "@jupyter-widgets/output",
      "model_module_version": "1.0.0",
      "model_name": "OutputModel",
      "state": {
       "layout": "IPY_MODEL_e5c089c3d1f54e06aa7c69d6be7b7d7a"
      }
     },
     "04f7abbb945649049c088602c240cddf": {
      "model_module": "@jupyter-widgets/controls",
      "model_module_version": "1.4.0",
      "model_name": "ButtonModel",
      "state": {
       "_model_module_version": "1.4.0",
       "_view_module_version": "1.4.0",
       "description": "Save to Root",
       "layout": "IPY_MODEL_a3a8439080a4433c8cfc3592bcac145a",
       "style": "IPY_MODEL_ca9438839a46429aaa3f24354ee42db5"
      }
     },
     "0879c08a037c40b59978c9acbf2b6698": {
      "model_module": "@jupyter-widgets/controls",
      "model_module_version": "1.4.0",
      "model_name": "ButtonStyleModel",
      "state": {
       "_model_module_version": "1.4.0",
       "_view_module_version": "1.1.0"
      }
     },
     "0e66ecb30df5491980f781135fa73613": {
      "model_module": "@jupyter-widgets/controls",
      "model_module_version": "1.4.0",
      "model_name": "ButtonStyleModel",
      "state": {
       "_model_module_version": "1.4.0",
       "_view_module_version": "1.1.0"
      }
     },
     "0ee941a35f4e48c0ae62d26a3e4022b9": {
      "model_module": "@jupyter-widgets/controls",
      "model_module_version": "1.4.0",
      "model_name": "ButtonModel",
      "state": {
       "_model_module_version": "1.4.0",
       "_view_module_version": "1.4.0",
       "description": "Save to Root",
       "layout": "IPY_MODEL_4e0b4767d50c45d4a3059b25b084f5ae",
       "style": "IPY_MODEL_6f24f617f4e8405baa6588f13c520940"
      }
     },
     "1088528976754aab8271549957380321": {
      "model_module": "@jupyter-widgets/controls",
      "model_module_version": "1.4.0",
      "model_name": "ButtonModel",
      "state": {
       "_model_module_version": "1.4.0",
       "_view_module_version": "1.4.0",
       "description": "Save to PDF",
       "layout": "IPY_MODEL_56dbdc8b10b144ecab1eb0b2dd996fbe",
       "style": "IPY_MODEL_0879c08a037c40b59978c9acbf2b6698"
      }
     },
     "10ee510d3cee4e4fbc3f48e8b75680c2": {
      "model_module": "@jupyter-widgets/base",
      "model_module_version": "1.1.0",
      "model_name": "LayoutModel",
      "state": {
       "_model_module_version": "1.1.0",
       "_view_module_version": "1.1.0",
       "border": null,
       "overflow_x": null,
       "overflow_y": null
      }
     },
     "20e680f74b7d40f395649181965c1d39": {
      "model_module": "@jupyter-widgets/controls",
      "model_module_version": "1.4.0",
      "model_name": "ButtonStyleModel",
      "state": {
       "_model_module_version": "1.4.0",
       "_view_module_version": "1.1.0"
      }
     },
     "26fda7ba48bf41428588a380515d67c5": {
      "model_module": "@jupyter-widgets/base",
      "model_module_version": "1.1.0",
      "model_name": "LayoutModel",
      "state": {
       "_model_module_version": "1.1.0",
       "_view_module_version": "1.1.0",
       "border": null,
       "overflow_x": null,
       "overflow_y": null
      }
     },
     "2926bb68cdaa4f858a67ce97bd19c469": {
      "model_module": "@jupyter-widgets/output",
      "model_module_version": "1.0.0",
      "model_name": "OutputModel",
      "state": {
       "layout": "IPY_MODEL_9eb16856a0e443978661ce094f708029"
      }
     },
     "2ae503cdb98942fd9cfe9369ff0968de": {
      "model_module": "@jupyter-widgets/base",
      "model_module_version": "1.1.0",
      "model_name": "LayoutModel",
      "state": {
       "_model_module_version": "1.1.0",
       "_view_module_version": "1.1.0",
       "border": null,
       "overflow_x": null,
       "overflow_y": null
      }
     },
     "36c7b3e4573e44f19456b149ff230bc6": {
      "model_module": "@jupyter-widgets/base",
      "model_module_version": "1.1.0",
      "model_name": "LayoutModel",
      "state": {
       "_model_module_version": "1.1.0",
       "_view_module_version": "1.1.0",
       "border": null,
       "overflow_x": null,
       "overflow_y": null
      }
     },
     "384fad664c4549dbbfc6371a56598c46": {
      "model_module": "@jupyter-widgets/controls",
      "model_module_version": "1.4.0",
      "model_name": "ButtonStyleModel",
      "state": {
       "_model_module_version": "1.4.0",
       "_view_module_version": "1.1.0"
      }
     },
     "395a63505c3c454cac74c6db62abe6ec": {
      "model_module": "@jupyter-widgets/base",
      "model_module_version": "1.1.0",
      "model_name": "LayoutModel",
      "state": {
       "_model_module_version": "1.1.0",
       "_view_module_version": "1.1.0",
       "border": null,
       "overflow_x": null,
       "overflow_y": null
      }
     },
     "3af37c07964a4ae7b4c80a9e18031e8c": {
      "model_module": "@jupyter-widgets/base",
      "model_module_version": "1.1.0",
      "model_name": "LayoutModel",
      "state": {
       "_model_module_version": "1.1.0",
       "_view_module_version": "1.1.0",
       "border": null,
       "overflow_x": null,
       "overflow_y": null
      }
     },
     "3dcab56d27034a0a9cd076681a0c3af3": {
      "model_module": "@jupyter-widgets/controls",
      "model_module_version": "1.4.0",
      "model_name": "ButtonStyleModel",
      "state": {
       "_model_module_version": "1.4.0",
       "_view_module_version": "1.1.0"
      }
     },
     "4e0b4767d50c45d4a3059b25b084f5ae": {
      "model_module": "@jupyter-widgets/base",
      "model_module_version": "1.1.0",
      "model_name": "LayoutModel",
      "state": {
       "_model_module_version": "1.1.0",
       "_view_module_version": "1.1.0",
       "border": null,
       "overflow_x": null,
       "overflow_y": null
      }
     },
     "50ad71ba430a4e65af089a66a036d98f": {
      "model_module": "@jupyter-widgets/output",
      "model_module_version": "1.0.0",
      "model_name": "OutputModel",
      "state": {
       "layout": "IPY_MODEL_7afbf7a09ee940d988779e898d39f6b1",
       "outputs": [
        {
         "ename": "NameError",
         "evalue": "name 'TFile' is not defined",
         "output_type": "error",
         "traceback": [
          "\u001b[0;31m---------------------------------------------------------------------------\u001b[0m",
          "\u001b[0;31mNameError\u001b[0m                                 Traceback (most recent call last)",
          "\u001b[0;32m<ipython-input-43-4b1715ce1e25>\u001b[0m in \u001b[0;36msaveButtonRoot\u001b[0;34m(b)\u001b[0m\n\u001b[1;32m      5\u001b[0m \u001b[0;32mdef\u001b[0m \u001b[0msaveButtonRoot\u001b[0m\u001b[0;34m(\u001b[0m\u001b[0mb\u001b[0m\u001b[0;34m)\u001b[0m\u001b[0;34m:\u001b[0m\u001b[0;34m\u001b[0m\u001b[0;34m\u001b[0m\u001b[0m\n\u001b[1;32m      6\u001b[0m     \u001b[0;32mwith\u001b[0m \u001b[0moutput\u001b[0m\u001b[0;34m:\u001b[0m\u001b[0;34m\u001b[0m\u001b[0;34m\u001b[0m\u001b[0m\n\u001b[0;32m----> 7\u001b[0;31m         \u001b[0;32mwith\u001b[0m \u001b[0mTFile\u001b[0m\u001b[0;34m(\u001b[0m\u001b[0;34m\"file1.root\"\u001b[0m\u001b[0;34m,\u001b[0m \u001b[0;34m\"recreate\"\u001b[0m\u001b[0;34m)\u001b[0m \u001b[0;32mas\u001b[0m \u001b[0moutfile\u001b[0m\u001b[0;34m:\u001b[0m\u001b[0;34m\u001b[0m\u001b[0;34m\u001b[0m\u001b[0m\n\u001b[0m\u001b[1;32m      8\u001b[0m             \u001b[0moutfile\u001b[0m\u001b[0;34m.\u001b[0m\u001b[0mWriteObject\u001b[0m\u001b[0;34m(\u001b[0m\u001b[0mcanvas\u001b[0m\u001b[0;34m,\u001b[0m \u001b[0;34m\"myCanvas\"\u001b[0m\u001b[0;34m)\u001b[0m\u001b[0;34m\u001b[0m\u001b[0;34m\u001b[0m\u001b[0m\n",
          "\u001b[0;31mNameError\u001b[0m: name 'TFile' is not defined"
         ]
        }
       ]
      }
     },
     "56dbdc8b10b144ecab1eb0b2dd996fbe": {
      "model_module": "@jupyter-widgets/base",
      "model_module_version": "1.1.0",
      "model_name": "LayoutModel",
      "state": {
       "_model_module_version": "1.1.0",
       "_view_module_version": "1.1.0",
       "border": null,
       "overflow_x": null,
       "overflow_y": null
      }
     },
     "60e33b896df246778339f4dff4be8f25": {
      "model_module": "@jupyter-widgets/controls",
      "model_module_version": "1.4.0",
      "model_name": "ButtonModel",
      "state": {
       "_model_module_version": "1.4.0",
       "_view_module_version": "1.4.0",
       "description": "Save to PDF",
       "layout": "IPY_MODEL_395a63505c3c454cac74c6db62abe6ec",
       "style": "IPY_MODEL_818a6a2006cd45a685b9b1bbc4db9c76"
      }
     },
     "62f5350b3b1440088cb5206a67058fde": {
      "model_module": "@jupyter-widgets/base",
      "model_module_version": "1.1.0",
      "model_name": "LayoutModel",
      "state": {
       "_model_module_version": "1.1.0",
       "_view_module_version": "1.1.0",
       "border": null,
       "overflow_x": null,
       "overflow_y": null
      }
     },
     "695713c99706467f875821a5ef7f992e": {
      "model_module": "@jupyter-widgets/controls",
      "model_module_version": "1.4.0",
      "model_name": "ButtonStyleModel",
      "state": {
       "_model_module_version": "1.4.0",
       "_view_module_version": "1.1.0"
      }
     },
     "6a80bacd37dd4454a07080adc1395665": {
      "model_module": "@jupyter-widgets/base",
      "model_module_version": "1.1.0",
      "model_name": "LayoutModel",
      "state": {
       "_model_module_version": "1.1.0",
       "_view_module_version": "1.1.0",
       "border": null,
       "overflow_x": null,
       "overflow_y": null
      }
     },
     "6b44fe66f54148a9995780522c1665ad": {
      "model_module": "@jupyter-widgets/controls",
      "model_module_version": "1.4.0",
      "model_name": "ButtonModel",
      "state": {
       "_model_module_version": "1.4.0",
       "_view_module_version": "1.4.0",
       "description": "Save to Root",
       "layout": "IPY_MODEL_36c7b3e4573e44f19456b149ff230bc6",
       "style": "IPY_MODEL_72aeead3a6904e9ea2c2a224224a8c63"
      }
     },
     "6f24f617f4e8405baa6588f13c520940": {
      "model_module": "@jupyter-widgets/controls",
      "model_module_version": "1.4.0",
      "model_name": "ButtonStyleModel",
      "state": {
       "_model_module_version": "1.4.0",
       "_view_module_version": "1.1.0"
      }
     },
     "72aeead3a6904e9ea2c2a224224a8c63": {
      "model_module": "@jupyter-widgets/controls",
      "model_module_version": "1.4.0",
      "model_name": "ButtonStyleModel",
      "state": {
       "_model_module_version": "1.4.0",
       "_view_module_version": "1.1.0"
      }
     },
     "7afbf7a09ee940d988779e898d39f6b1": {
      "model_module": "@jupyter-widgets/base",
      "model_module_version": "1.1.0",
      "model_name": "LayoutModel",
      "state": {
       "_model_module_version": "1.1.0",
       "_view_module_version": "1.1.0",
       "border": null,
       "overflow_x": null,
       "overflow_y": null
      }
     },
     "818a6a2006cd45a685b9b1bbc4db9c76": {
      "model_module": "@jupyter-widgets/controls",
      "model_module_version": "1.4.0",
      "model_name": "ButtonStyleModel",
      "state": {
       "_model_module_version": "1.4.0",
       "_view_module_version": "1.1.0"
      }
     },
     "823ef688583b43b3b7dc29e5d3422aa8": {
      "model_module": "@jupyter-widgets/output",
      "model_module_version": "1.0.0",
      "model_name": "OutputModel",
      "state": {
       "layout": "IPY_MODEL_8aa1aa0ffe69479fba520c5f0e95576b"
      }
     },
     "831b63241ada4949ae7ddc9cf3f6f3ad": {
      "model_module": "@jupyter-widgets/base",
      "model_module_version": "1.1.0",
      "model_name": "LayoutModel",
      "state": {
       "_model_module_version": "1.1.0",
       "_view_module_version": "1.1.0",
       "border": null,
       "overflow_x": null,
       "overflow_y": null
      }
     },
     "8417421b463a46c9872d37497c3b663d": {
      "model_module": "@jupyter-widgets/controls",
      "model_module_version": "1.4.0",
      "model_name": "ButtonModel",
      "state": {
       "_model_module_version": "1.4.0",
       "_view_module_version": "1.4.0",
       "description": "Save to Root",
       "layout": "IPY_MODEL_9a4fe9d3c94d4621bf792f335bbd40fe",
       "style": "IPY_MODEL_f771512ee9df4ba5bee6a026a4e83de5"
      }
     },
     "8aa1aa0ffe69479fba520c5f0e95576b": {
      "model_module": "@jupyter-widgets/base",
      "model_module_version": "1.1.0",
      "model_name": "LayoutModel",
      "state": {
       "_model_module_version": "1.1.0",
       "_view_module_version": "1.1.0",
       "border": null,
       "overflow_x": null,
       "overflow_y": null
      }
     },
     "8d62ef6a181e417c949955ba277e179d": {
      "model_module": "@jupyter-widgets/output",
      "model_module_version": "1.0.0",
      "model_name": "OutputModel",
      "state": {
       "layout": "IPY_MODEL_b9925dbb44cf40f0a3e0fa6aaff4d77f",
       "outputs": [
        {
         "ename": "AttributeError",
         "evalue": "__enter__",
         "output_type": "error",
         "traceback": [
          "\u001b[0;31m---------------------------------------------------------------------------\u001b[0m",
          "\u001b[0;31mAttributeError\u001b[0m                            Traceback (most recent call last)",
          "\u001b[0;32m<ipython-input-46-87e37fcb9b6d>\u001b[0m in \u001b[0;36msaveButtonRoot\u001b[0;34m(b)\u001b[0m\n\u001b[1;32m      5\u001b[0m \u001b[0;32mdef\u001b[0m \u001b[0msaveButtonRoot\u001b[0m\u001b[0;34m(\u001b[0m\u001b[0mb\u001b[0m\u001b[0;34m)\u001b[0m\u001b[0;34m:\u001b[0m\u001b[0;34m\u001b[0m\u001b[0;34m\u001b[0m\u001b[0m\n\u001b[1;32m      6\u001b[0m     \u001b[0;32mwith\u001b[0m \u001b[0moutput\u001b[0m\u001b[0;34m:\u001b[0m\u001b[0;34m\u001b[0m\u001b[0;34m\u001b[0m\u001b[0m\n\u001b[0;32m----> 7\u001b[0;31m         \u001b[0;32mwith\u001b[0m \u001b[0mROOT\u001b[0m\u001b[0;34m.\u001b[0m\u001b[0mTFile\u001b[0m\u001b[0;34m(\u001b[0m\u001b[0;34m\"file1.root\"\u001b[0m\u001b[0;34m,\u001b[0m \u001b[0;34m\"recreate\"\u001b[0m\u001b[0;34m)\u001b[0m \u001b[0;32mas\u001b[0m \u001b[0moutfile\u001b[0m\u001b[0;34m:\u001b[0m\u001b[0;34m\u001b[0m\u001b[0;34m\u001b[0m\u001b[0m\n\u001b[0m\u001b[1;32m      8\u001b[0m             \u001b[0moutfile\u001b[0m\u001b[0;34m.\u001b[0m\u001b[0mWriteObject\u001b[0m\u001b[0;34m(\u001b[0m\u001b[0mcanvas\u001b[0m\u001b[0;34m,\u001b[0m \u001b[0;34m\"myCanvas\"\u001b[0m\u001b[0;34m)\u001b[0m\u001b[0;34m\u001b[0m\u001b[0;34m\u001b[0m\u001b[0m\n",
          "\u001b[0;31mAttributeError\u001b[0m: __enter__"
         ]
        },
        {
         "ename": "AttributeError",
         "evalue": "__enter__",
         "output_type": "error",
         "traceback": [
          "\u001b[0;31m---------------------------------------------------------------------------\u001b[0m",
          "\u001b[0;31mAttributeError\u001b[0m                            Traceback (most recent call last)",
          "\u001b[0;32m<ipython-input-46-87e37fcb9b6d>\u001b[0m in \u001b[0;36msaveButtonRoot\u001b[0;34m(b)\u001b[0m\n\u001b[1;32m      5\u001b[0m \u001b[0;32mdef\u001b[0m \u001b[0msaveButtonRoot\u001b[0m\u001b[0;34m(\u001b[0m\u001b[0mb\u001b[0m\u001b[0;34m)\u001b[0m\u001b[0;34m:\u001b[0m\u001b[0;34m\u001b[0m\u001b[0;34m\u001b[0m\u001b[0m\n\u001b[1;32m      6\u001b[0m     \u001b[0;32mwith\u001b[0m \u001b[0moutput\u001b[0m\u001b[0;34m:\u001b[0m\u001b[0;34m\u001b[0m\u001b[0;34m\u001b[0m\u001b[0m\n\u001b[0;32m----> 7\u001b[0;31m         \u001b[0;32mwith\u001b[0m \u001b[0mROOT\u001b[0m\u001b[0;34m.\u001b[0m\u001b[0mTFile\u001b[0m\u001b[0;34m(\u001b[0m\u001b[0;34m\"file1.root\"\u001b[0m\u001b[0;34m,\u001b[0m \u001b[0;34m\"recreate\"\u001b[0m\u001b[0;34m)\u001b[0m \u001b[0;32mas\u001b[0m \u001b[0moutfile\u001b[0m\u001b[0;34m:\u001b[0m\u001b[0;34m\u001b[0m\u001b[0;34m\u001b[0m\u001b[0m\n\u001b[0m\u001b[1;32m      8\u001b[0m             \u001b[0moutfile\u001b[0m\u001b[0;34m.\u001b[0m\u001b[0mWriteObject\u001b[0m\u001b[0;34m(\u001b[0m\u001b[0mcanvas\u001b[0m\u001b[0;34m,\u001b[0m \u001b[0;34m\"myCanvas\"\u001b[0m\u001b[0;34m)\u001b[0m\u001b[0;34m\u001b[0m\u001b[0;34m\u001b[0m\u001b[0m\n",
          "\u001b[0;31mAttributeError\u001b[0m: __enter__"
         ]
        }
       ]
      }
     },
     "9242204266e343ae8a441c776e80f4f0": {
      "model_module": "@jupyter-widgets/controls",
      "model_module_version": "1.4.0",
      "model_name": "ButtonStyleModel",
      "state": {
       "_model_module_version": "1.4.0",
       "_view_module_version": "1.1.0"
      }
     },
     "929e5779ad394a799083037ff870d526": {
      "model_module": "@jupyter-widgets/controls",
      "model_module_version": "1.4.0",
      "model_name": "ButtonStyleModel",
      "state": {
       "_model_module_version": "1.4.0",
       "_view_module_version": "1.1.0"
      }
     },
     "93749ab864be49de92dbce533bdae34f": {
      "model_module": "@jupyter-widgets/base",
      "model_module_version": "1.1.0",
      "model_name": "LayoutModel",
      "state": {
       "_model_module_version": "1.1.0",
       "_view_module_version": "1.1.0",
       "border": null,
       "overflow_x": null,
       "overflow_y": null
      }
     },
     "938ac682ac6545cfb80a6da1bc8c26c1": {
      "model_module": "@jupyter-widgets/output",
      "model_module_version": "1.0.0",
      "model_name": "OutputModel",
      "state": {
       "layout": "IPY_MODEL_ce589ac0e83d4bd38fd711550e349c6a"
      }
     },
     "9a4fe9d3c94d4621bf792f335bbd40fe": {
      "model_module": "@jupyter-widgets/base",
      "model_module_version": "1.1.0",
      "model_name": "LayoutModel",
      "state": {
       "_model_module_version": "1.1.0",
       "_view_module_version": "1.1.0",
       "border": null,
       "overflow_x": null,
       "overflow_y": null
      }
     },
     "9e2719717feb49c9938e46061e59b4a1": {
      "model_module": "@jupyter-widgets/output",
      "model_module_version": "1.0.0",
      "model_name": "OutputModel",
      "state": {
       "layout": "IPY_MODEL_10ee510d3cee4e4fbc3f48e8b75680c2"
      }
     },
     "9eb16856a0e443978661ce094f708029": {
      "model_module": "@jupyter-widgets/base",
      "model_module_version": "1.1.0",
      "model_name": "LayoutModel",
      "state": {
       "_model_module_version": "1.1.0",
       "_view_module_version": "1.1.0",
       "border": null,
       "overflow_x": null,
       "overflow_y": null
      }
     },
     "9fdc5097fef143f580581ed9f63baf19": {
      "model_module": "@jupyter-widgets/controls",
      "model_module_version": "1.4.0",
      "model_name": "ButtonModel",
      "state": {
       "_model_module_version": "1.4.0",
       "_view_module_version": "1.4.0",
       "description": "Save to PDF",
       "layout": "IPY_MODEL_6a80bacd37dd4454a07080adc1395665",
       "style": "IPY_MODEL_9242204266e343ae8a441c776e80f4f0"
      }
     },
     "a0caf4fc7e3e4a0daf064e63c0e3234a": {
      "model_module": "@jupyter-widgets/output",
      "model_module_version": "1.0.0",
      "model_name": "OutputModel",
      "state": {
       "layout": "IPY_MODEL_93749ab864be49de92dbce533bdae34f"
      }
     },
     "a2eef3a45bed4115932b9e88827850e1": {
      "model_module": "@jupyter-widgets/controls",
      "model_module_version": "1.4.0",
      "model_name": "ButtonModel",
      "state": {
       "_model_module_version": "1.4.0",
       "_view_module_version": "1.4.0",
       "description": "Save to PDF",
       "layout": "IPY_MODEL_831b63241ada4949ae7ddc9cf3f6f3ad",
       "style": "IPY_MODEL_20e680f74b7d40f395649181965c1d39"
      }
     },
     "a39b71b5f18a4a3089aae76958a3cc55": {
      "model_module": "@jupyter-widgets/base",
      "model_module_version": "1.1.0",
      "model_name": "LayoutModel",
      "state": {
       "_model_module_version": "1.1.0",
       "_view_module_version": "1.1.0",
       "border": null,
       "overflow_x": null,
       "overflow_y": null
      }
     },
     "a3a8439080a4433c8cfc3592bcac145a": {
      "model_module": "@jupyter-widgets/base",
      "model_module_version": "1.1.0",
      "model_name": "LayoutModel",
      "state": {
       "_model_module_version": "1.1.0",
       "_view_module_version": "1.1.0",
       "border": null,
       "overflow_x": null,
       "overflow_y": null
      }
     },
     "a8c867acf084415fba648604326f8c9d": {
      "model_module": "@jupyter-widgets/controls",
      "model_module_version": "1.4.0",
      "model_name": "ButtonStyleModel",
      "state": {
       "_model_module_version": "1.4.0",
       "_view_module_version": "1.1.0"
      }
     },
     "b635d6f1a72043699079245523aadc13": {
      "model_module": "@jupyter-widgets/base",
      "model_module_version": "1.1.0",
      "model_name": "LayoutModel",
      "state": {
       "_model_module_version": "1.1.0",
       "_view_module_version": "1.1.0",
       "border": null,
       "overflow_x": null,
       "overflow_y": null
      }
     },
     "b97779ed35cd4f1f8b3d360fd1d1cc0e": {
      "model_module": "@jupyter-widgets/controls",
      "model_module_version": "1.4.0",
      "model_name": "ButtonModel",
      "state": {
       "_model_module_version": "1.4.0",
       "_view_module_version": "1.4.0",
       "description": "Save to PDF",
       "layout": "IPY_MODEL_b635d6f1a72043699079245523aadc13",
       "style": "IPY_MODEL_0e66ecb30df5491980f781135fa73613"
      }
     },
     "b9925dbb44cf40f0a3e0fa6aaff4d77f": {
      "model_module": "@jupyter-widgets/base",
      "model_module_version": "1.1.0",
      "model_name": "LayoutModel",
      "state": {
       "_model_module_version": "1.1.0",
       "_view_module_version": "1.1.0",
       "border": null,
       "overflow_x": null,
       "overflow_y": null
      }
     },
     "c38d6de6905f44c4b32b9c73fb8276ba": {
      "model_module": "@jupyter-widgets/controls",
      "model_module_version": "1.4.0",
      "model_name": "ButtonModel",
      "state": {
       "_model_module_version": "1.4.0",
       "_view_module_version": "1.4.0",
       "description": "Save to PDF",
       "layout": "IPY_MODEL_fa9655bf72304c2bb97bf8c45500503b",
       "style": "IPY_MODEL_929e5779ad394a799083037ff870d526"
      }
     },
     "c52a903ddba4487e93fc08785f78bdbe": {
      "model_module": "@jupyter-widgets/controls",
      "model_module_version": "1.4.0",
      "model_name": "ButtonModel",
      "state": {
       "_model_module_version": "1.4.0",
       "_view_module_version": "1.4.0",
       "description": "Save to PDF",
       "layout": "IPY_MODEL_26fda7ba48bf41428588a380515d67c5",
       "style": "IPY_MODEL_695713c99706467f875821a5ef7f992e"
      }
     },
     "ca9438839a46429aaa3f24354ee42db5": {
      "model_module": "@jupyter-widgets/controls",
      "model_module_version": "1.4.0",
      "model_name": "ButtonStyleModel",
      "state": {
       "_model_module_version": "1.4.0",
       "_view_module_version": "1.1.0"
      }
     },
     "cce918eab1414c88ad12d08f31aaac47": {
      "model_module": "@jupyter-widgets/controls",
      "model_module_version": "1.4.0",
      "model_name": "ButtonModel",
      "state": {
       "_model_module_version": "1.4.0",
       "_view_module_version": "1.4.0",
       "description": "Save to PDF",
       "layout": "IPY_MODEL_f2a3cad8e9254cc9af9a6ed86874d83d",
       "style": "IPY_MODEL_a8c867acf084415fba648604326f8c9d"
      }
     },
     "ce589ac0e83d4bd38fd711550e349c6a": {
      "model_module": "@jupyter-widgets/base",
      "model_module_version": "1.1.0",
      "model_name": "LayoutModel",
      "state": {
       "_model_module_version": "1.1.0",
       "_view_module_version": "1.1.0",
       "border": null,
       "overflow_x": null,
       "overflow_y": null
      }
     },
     "d3e65f21f57643d188d5b1e4b7c7775c": {
      "model_module": "@jupyter-widgets/controls",
      "model_module_version": "1.4.0",
      "model_name": "ButtonModel",
      "state": {
       "_model_module_version": "1.4.0",
       "_view_module_version": "1.4.0",
       "description": "Save to PDF",
       "layout": "IPY_MODEL_a39b71b5f18a4a3089aae76958a3cc55",
       "style": "IPY_MODEL_384fad664c4549dbbfc6371a56598c46"
      }
     },
     "d4b09a17060d4dc19cad65f89af8b8b1": {
      "model_module": "@jupyter-widgets/controls",
      "model_module_version": "1.4.0",
      "model_name": "ButtonModel",
      "state": {
       "_model_module_version": "1.4.0",
       "_view_module_version": "1.4.0",
       "description": "Save to PDF",
       "layout": "IPY_MODEL_62f5350b3b1440088cb5206a67058fde",
       "style": "IPY_MODEL_3dcab56d27034a0a9cd076681a0c3af3"
      }
     },
     "e5c089c3d1f54e06aa7c69d6be7b7d7a": {
      "model_module": "@jupyter-widgets/base",
      "model_module_version": "1.1.0",
      "model_name": "LayoutModel",
      "state": {
       "_model_module_version": "1.1.0",
       "_view_module_version": "1.1.0",
       "border": null,
       "overflow_x": null,
       "overflow_y": null
      }
     },
     "e6380f2797b54ba8b9859882ee113294": {
      "model_module": "@jupyter-widgets/output",
      "model_module_version": "1.0.0",
      "model_name": "OutputModel",
      "state": {
       "layout": "IPY_MODEL_3af37c07964a4ae7b4c80a9e18031e8c"
      }
     },
     "f2a3cad8e9254cc9af9a6ed86874d83d": {
      "model_module": "@jupyter-widgets/base",
      "model_module_version": "1.1.0",
      "model_name": "LayoutModel",
      "state": {
       "_model_module_version": "1.1.0",
       "_view_module_version": "1.1.0",
       "border": null,
       "overflow_x": null,
       "overflow_y": null
      }
     },
     "f771512ee9df4ba5bee6a026a4e83de5": {
      "model_module": "@jupyter-widgets/controls",
      "model_module_version": "1.4.0",
      "model_name": "ButtonStyleModel",
      "state": {
       "_model_module_version": "1.4.0",
       "_view_module_version": "1.1.0"
      }
     },
     "f7b6aafe840345ad9c68def299dd0a29": {
      "model_module": "@jupyter-widgets/output",
      "model_module_version": "1.0.0",
      "model_name": "OutputModel",
      "state": {
       "layout": "IPY_MODEL_2ae503cdb98942fd9cfe9369ff0968de"
      }
     },
     "fa9655bf72304c2bb97bf8c45500503b": {
      "model_module": "@jupyter-widgets/base",
      "model_module_version": "1.1.0",
      "model_name": "LayoutModel",
      "state": {
       "_model_module_version": "1.1.0",
       "_view_module_version": "1.1.0",
       "border": null,
       "overflow_x": null,
       "overflow_y": null
      }
     }
    },
    "version_major": 2,
    "version_minor": 0
   }
  }
 },
 "nbformat": 4,
 "nbformat_minor": 5
}
