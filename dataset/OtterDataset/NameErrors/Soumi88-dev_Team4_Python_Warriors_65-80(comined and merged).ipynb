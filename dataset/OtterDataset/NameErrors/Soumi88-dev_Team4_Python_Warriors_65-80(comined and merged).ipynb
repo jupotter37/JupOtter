{
 "cells": [
  {
   "cell_type": "code",
   "execution_count": 3,
   "id": "6d0d4723-35fb-46f0-952a-456191d3eda1",
   "metadata": {},
   "outputs": [],
   "source": [
    "import sys\n",
    "import logging\n",
    "\n",
    "so = open(\"data.log\", 'w', 10)\n",
    "sys.stdout.echo = so\n",
    "sys.stderr.echo = so\n",
    "\n",
    "get_ipython().log.handlers[0].stream = so\n",
    "get_ipython().log.setLevel(logging.INFO)"
   ]
  },
  {
   "cell_type": "markdown",
   "id": "62779e7d-f62f-4f5e-9560-7251f55f7892",
   "metadata": {},
   "source": [
    "#### 80 Query:find the size of a Tuple for any given input"
   ]
  },
  {
   "cell_type": "code",
   "execution_count": 1,
   "id": "d77c4863-0a3b-4d22-9053-39ccbdab9fd1",
   "metadata": {},
   "outputs": [
    {
     "name": "stdin",
     "output_type": "stream",
     "text": [
      "Enter integers:  1 2 3 3 45 6 77\n"
     ]
    },
    {
     "name": "stdout",
     "output_type": "stream",
     "text": [
      "(1, 2, 3, 3, 45, 6, 77)\n",
      "7 is the tuple length of given input\n"
     ]
    }
   ],
   "source": [
    "result_tuple = tuple(int(item) for item in (input('Enter integers: ')).split())\n",
    "print(result_tuple)\n",
    "print(len(result_tuple),\"is the tuple length of given input\" )"
   ]
  },
  {
   "cell_type": "code",
   "execution_count": 7,
   "id": "daef65af-aae9-4f5f-8b9d-fa80f49a6f42",
   "metadata": {},
   "outputs": [
    {
     "name": "stdin",
     "output_type": "stream",
     "text": [
      "Enter integers:  1 a b t x4 5.6 8.9 \n"
     ]
    },
    {
     "name": "stdout",
     "output_type": "stream",
     "text": [
      "('1', 'a', 'b', 't', 'x4', '5.6', '8.9')\n",
      "7 is the tuple length of given input\n"
     ]
    }
   ],
   "source": [
    "# for any input(80 Q)\n",
    "result_tuple = tuple((input('Enter integers: ')).split())\n",
    "print(result_tuple)\n",
    "print(len(result_tuple),\"is the tuple length of given input\" )"
   ]
  },
  {
   "cell_type": "code",
   "execution_count": 5,
   "id": "e6c92f5d-8d6b-44b8-bcfe-e13c61ae90af",
   "metadata": {},
   "outputs": [],
   "source": [
    "import pandas as pd\n",
    "import numpy as np\n",
    "import pandas as pd\n",
    "import matplotlib\n",
    "import matplotlib.pyplot as plt\n",
    "import seaborn as sns\n",
    "import plotly.graph_objects as go"
   ]
  },
  {
   "cell_type": "code",
   "execution_count": 6,
   "id": "c183323b-1180-412f-9b2a-f8974d1a3bf1",
   "metadata": {},
   "outputs": [],
   "source": [
    "dataset=pd.ExcelFile(\"V02Max_Combined.xlsx\")"
   ]
  },
  {
   "cell_type": "code",
   "execution_count": 7,
   "id": "9033cf39-9e78-4500-8641-7b4171a20f5c",
   "metadata": {},
   "outputs": [
    {
     "name": "stderr",
     "output_type": "stream",
     "text": [
      "C:\\Users\\NagarjunaPujala\\anaconda3\\Lib\\site-packages\\openpyxl\\worksheet\\_read_only.py:81: UserWarning: Unknown extension is not supported and will be removed\n",
      "  for idx, row in parser.parse():\n",
      "C:\\Users\\NagarjunaPujala\\anaconda3\\Lib\\site-packages\\openpyxl\\worksheet\\_read_only.py:81: UserWarning: Unknown extension is not supported and will be removed\n",
      "  for idx, row in parser.parse():\n",
      "C:\\Users\\NagarjunaPujala\\anaconda3\\Lib\\site-packages\\openpyxl\\worksheet\\_read_only.py:81: UserWarning: Unknown extension is not supported and will be removed\n",
      "  for idx, row in parser.parse():\n"
     ]
    }
   ],
   "source": [
    "Athletes=pd.read_excel(dataset, sheet_name='Athletes')\n",
    "Kayaking=pd.read_excel(dataset, sheet_name='Kayaking')\n",
    "Triathlon=pd.read_excel(dataset, sheet_name='Triathlon')\n",
    "Fencing=pd.read_excel(dataset, sheet_name='Fencing')"
   ]
  },
  {
   "cell_type": "code",
   "execution_count": 8,
   "id": "8c1c5b8d-d078-4267-9a2a-fd437e5156da",
   "metadata": {},
   "outputs": [],
   "source": [
    "combined=pd.concat([Kayaking,Triathlon,Fencing])\n",
    "merged=pd.merge(combined,Athletes,on='ID')"
   ]
  },
  {
   "cell_type": "markdown",
   "id": "0573b7e7-ac8b-480c-a321-6429f37656f9",
   "metadata": {},
   "source": [
    "#### 65.Query:\n",
    "   [ 1,  2,  3,  4,  5],\n",
    "   [ 6,  7,  8,  9, 10],\n",
    "   [11, 12, 13, 14, 15],\n",
    "   [16, 17, 18, 19, 20],\n",
    "   [21, 22, 23, 24, 25],\n",
    "   [26, 27, 28, 29, 30]  Use array slicing to display elements 4,7,10,17."
   ]
  },
  {
   "cell_type": "code",
   "execution_count": 19,
   "id": "e560d3f6-5b1a-48f3-9b9a-2133f2170d29",
   "metadata": {},
   "outputs": [
    {
     "name": "stdout",
     "output_type": "stream",
     "text": [
      "4 , 7 , 10 , 17\n"
     ]
    }
   ],
   "source": [
    "# solution:\n",
    "fived_array=np.array([ [ 1,  2,  3,  4,  5],\n",
    "   [ 6,  7,  8,  9, 10],\n",
    "   [11, 12, 13, 14, 15],\n",
    "   [16, 17, 18, 19, 20],\n",
    "   [21, 22, 23, 24, 25],\n",
    "   [26, 27, 28, 29, 30] ])\n",
    "print(fived_array[0][3],\",\",fived_array[1][1],\",\",fived_array[1][4],\",\",fived_array[3][1])"
   ]
  },
  {
   "cell_type": "markdown",
   "id": "c5cf9e4d-2a38-4a42-809c-1ba7880a87a1",
   "metadata": {},
   "source": [
    "#### 66.Query: On average, how long did each participant spend at 200 watts?"
   ]
  },
  {
   "cell_type": "code",
   "execution_count": 22,
   "id": "bf1f2c24-b0c3-49c8-ab9c-4231473bda27",
   "metadata": {},
   "outputs": [
    {
     "name": "stdout",
     "output_type": "stream",
     "text": [
      "ID\n",
      "3     3.247333\n",
      "4     3.313333\n",
      "5     3.282667\n",
      "6     3.278444\n",
      "9     0.301111\n",
      "10    1.753778\n",
      "11    3.312000\n",
      "12    3.254889\n",
      "13    3.374667\n",
      "14    3.315778\n",
      "15    3.319333\n",
      "16    3.314444\n",
      "18    1.465333\n",
      "Name: time, dtype: float64\n"
     ]
    }
   ],
   "source": [
    "#solution:\n",
    "#giving condition to filter participants for power 200 watts\n",
    "df = combined.loc[combined['power'] == 200]\n",
    "#finding the total time of each participants\n",
    "result=df.groupby(['ID'])['time'].max()-df.groupby(['ID'])['time'].min()\n",
    "#finding number of unique ids present\n",
    "A=len(pd.unique(combined['ID']))\n",
    "#printing average time  of each participant\n",
    "print(result/A)"
   ]
  },
  {
   "cell_type": "markdown",
   "id": "c4c99761-50d3-4cf7-a621-327af10e3075",
   "metadata": {},
   "source": [
    "#### 67.Query:Athletes from which sport had the highest average cardiorespiratory fitness in terms of v02 max?"
   ]
  },
  {
   "cell_type": "code",
   "execution_count": 25,
   "id": "0068c2d9-6478-4c86-b9ea-4d8d7af71f24",
   "metadata": {},
   "outputs": [
    {
     "name": "stdout",
     "output_type": "stream",
     "text": [
      "triathlon sport had the highest average cardiorespiratory fitness in terms of vo2 max with value: 77.5\n"
     ]
    }
   ],
   "source": [
    "#solution:\n",
    "sum_vo2=combined.groupby(['ID'])['VO2'].sum()\n",
    "df1=pd.merge(sum_vo2,Athletes,on='ID',how='inner')[['ID','VO2','sport','Weight']]\n",
    "for index,row in df1.iterrows():\n",
    "     df1.at[index,'max_vo2']=round(df1.at[index,'VO2']/df1.at[index,'Weight'],2)\n",
    "     df2=df1.groupby('sport')['max_vo2'].mean()\n",
    "print(df2.idxmax(),\"sport had the highest average cardiorespiratory fitness in terms of vo2 max with value:\",df2.max())"
   ]
  },
  {
   "cell_type": "markdown",
   "id": "93ac99f3-4e74-4313-99d5-10a4ab16bf5b",
   "metadata": {},
   "source": [
    "#### 68.Query: What % of athletes exceeded 90% of max HR? (Max HR is calculated as 220-Age)"
   ]
  },
  {
   "cell_type": "code",
   "execution_count": 136,
   "id": "7de0a7bc-b7e0-4dcb-b0f5-353067597aeb",
   "metadata": {},
   "outputs": [
    {
     "name": "stdout",
     "output_type": "stream",
     "text": [
      "solution\n",
      "Exceeds 90%        94.44%\n",
      "not Exceeds 90%     5.56%\n",
      "Name: proportion, dtype: object\n"
     ]
    }
   ],
   "source": [
    "#solution:\n",
    "combined['HR']= (60000/combined['RR']).round(2)\n",
    "R_11= combined.groupby(['ID'])['HR'].max()\n",
    "df1=pd.merge(R_11,Athletes,on='ID',how='inner')[['ID','HR','sport','age']]\n",
    "df1['max_HR']= 220-df1['age']\n",
    "df1.loc[df1['HR']>0.9*df1['max_HR'],\"solution\"]=\"Exceeds 90%\"\n",
    "df1.loc[df1['HR']<=0.9*df1['max_HR'],\"solution\"]=\"not Exceeds 90%\"\n",
    "print(df1['solution'].value_counts(normalize=True).mul(100).round(2).astype(str)+'%')"
   ]
  },
  {
   "cell_type": "markdown",
   "id": "ef9340dd-648a-45b7-8cfa-5fa62804e77c",
   "metadata": {},
   "source": [
    "#### 69.Query:What was the lowest heart rate recorded at a power wattage of 200¶"
   ]
  },
  {
   "cell_type": "code",
   "execution_count": 35,
   "id": "152e8d6c-3d87-4716-a098-7e3773379d4c",
   "metadata": {},
   "outputs": [
    {
     "name": "stdout",
     "output_type": "stream",
     "text": [
      "HR    71.77\n",
      "dtype: float64 was the lowest heart rate recorded at a power wattage of 200\n"
     ]
    }
   ],
   "source": [
    "#solution:\n",
    "df = merged.loc[merged['power'] == 200]\n",
    "print(df[['HR']].min(),\"was the lowest heart rate recorded at a power wattage of 200\")"
   ]
  },
  {
   "cell_type": "markdown",
   "id": "f50d5394-b3b4-43d8-87aa-4dc35ec8cd46",
   "metadata": {},
   "source": [
    "#### 70.Query: On Average how long did most athletes spend at 75% of MaxHR (Max HR is calculated as 220-Age)"
   ]
  },
  {
   "cell_type": "code",
   "execution_count": 140,
   "id": "36d297a2-fb41-4580-b24c-252cd499b1ec",
   "metadata": {},
   "outputs": [
    {
     "data": {
      "text/plain": [
       "nan"
      ]
     },
     "execution_count": 140,
     "metadata": {},
     "output_type": "execute_result"
    }
   ],
   "source": [
    "#solution:\n",
    "merged['75%Max_HR']=round(merged['max_HR']*0.75,0)\n",
    "df1=merged[['ID','75%Max_HR','time','HR']]\n",
    "df2=df1.loc[merged['75%Max_HR']==df1['HR']].reset_index()\n",
    "df3=df2.groupby('ID')['time'].max()-df2.groupby('ID')['time'].min()\n",
    "df3.mean()\n",
    "#print(merged['75%Max_HR'])\n",
    "#print(df1)"
   ]
  },
  {
   "cell_type": "code",
   "execution_count": 48,
   "id": "40ebc939-d2aa-4785-9bc2-3154283ea0cb",
   "metadata": {},
   "outputs": [
    {
     "ename": "NameError",
     "evalue": "name 'All_sports' is not defined",
     "output_type": "error",
     "traceback": [
      "\u001b[1;31m---------------------------------------------------------------------------\u001b[0m",
      "\u001b[1;31mNameError\u001b[0m                                 Traceback (most recent call last)",
      "Cell \u001b[1;32mIn[48], line 4\u001b[0m\n\u001b[0;32m      2\u001b[0m Athletes[\u001b[38;5;124m'\u001b[39m\u001b[38;5;124mMax_HR\u001b[39m\u001b[38;5;124m'\u001b[39m]\u001b[38;5;241m=\u001b[39m\u001b[38;5;241m220\u001b[39m\u001b[38;5;241m-\u001b[39mAthletes[\u001b[38;5;124m'\u001b[39m\u001b[38;5;124mage\u001b[39m\u001b[38;5;124m'\u001b[39m]\n\u001b[0;32m      3\u001b[0m Athletes[\u001b[38;5;124m'\u001b[39m\u001b[38;5;124m75\u001b[39m\u001b[38;5;124m%\u001b[39m\u001b[38;5;124mMax_HR\u001b[39m\u001b[38;5;124m'\u001b[39m]\u001b[38;5;241m=\u001b[39m\u001b[38;5;28mround\u001b[39m(Athletes[\u001b[38;5;124m'\u001b[39m\u001b[38;5;124mMax_HR\u001b[39m\u001b[38;5;124m'\u001b[39m]\u001b[38;5;241m*\u001b[39m\u001b[38;5;241m0.75\u001b[39m,\u001b[38;5;241m0\u001b[39m)\n\u001b[1;32m----> 4\u001b[0m All_sports[\u001b[38;5;124m'\u001b[39m\u001b[38;5;124mHR\u001b[39m\u001b[38;5;124m'\u001b[39m]\u001b[38;5;241m=\u001b[39m\u001b[38;5;28mround\u001b[39m(\u001b[38;5;241m60000\u001b[39m\u001b[38;5;241m/\u001b[39mAll_sports[\u001b[38;5;124m'\u001b[39m\u001b[38;5;124mRR\u001b[39m\u001b[38;5;124m'\u001b[39m],\u001b[38;5;241m0\u001b[39m)\n\u001b[0;32m      5\u001b[0m df1\u001b[38;5;241m=\u001b[39mpd\u001b[38;5;241m.\u001b[39mmerge(All_sports,Athletes,on\u001b[38;5;241m=\u001b[39m\u001b[38;5;124m'\u001b[39m\u001b[38;5;124mID\u001b[39m\u001b[38;5;124m'\u001b[39m,how\u001b[38;5;241m=\u001b[39m\u001b[38;5;124m'\u001b[39m\u001b[38;5;124minner\u001b[39m\u001b[38;5;124m'\u001b[39m)[[\u001b[38;5;124m'\u001b[39m\u001b[38;5;124mID\u001b[39m\u001b[38;5;124m'\u001b[39m,\u001b[38;5;124m'\u001b[39m\u001b[38;5;124m75\u001b[39m\u001b[38;5;124m%\u001b[39m\u001b[38;5;124mMax_HR\u001b[39m\u001b[38;5;124m'\u001b[39m,\u001b[38;5;124m'\u001b[39m\u001b[38;5;124mtime\u001b[39m\u001b[38;5;124m'\u001b[39m,\u001b[38;5;124m'\u001b[39m\u001b[38;5;124mHR\u001b[39m\u001b[38;5;124m'\u001b[39m]]\n\u001b[0;32m      6\u001b[0m df2\u001b[38;5;241m=\u001b[39mdf1\u001b[38;5;241m.\u001b[39mloc[df1[\u001b[38;5;124m'\u001b[39m\u001b[38;5;124m75\u001b[39m\u001b[38;5;124m%\u001b[39m\u001b[38;5;124mMax_HR\u001b[39m\u001b[38;5;124m'\u001b[39m]\u001b[38;5;241m==\u001b[39mdf1[\u001b[38;5;124m'\u001b[39m\u001b[38;5;124mHR\u001b[39m\u001b[38;5;124m'\u001b[39m]]\u001b[38;5;241m.\u001b[39mreset_index()\n",
      "\u001b[1;31mNameError\u001b[0m: name 'All_sports' is not defined"
     ]
    }
   ],
   "source": [
    "#solution:\n",
    "Athletes['Max_HR']=220-Athletes['age']\n",
    "Athletes['75%Max_HR']=round(Athletes['Max_HR']*0.75,0)\n",
    "All_sports['HR']=round(60000/All_sports['RR'],0)\n",
    "df1=pd.merge(All_sports,Athletes,on='ID',how='inner')[['ID','75%Max_HR','time','HR']]\n",
    "df2=df1.loc[df1['75%Max_HR']==df1['HR']].reset_index()\n",
    "df3=df2.groupby('ID')['time'].max()-df2.groupby('ID')['time'].min()\n",
    "df3.mean()"
   ]
  },
  {
   "cell_type": "markdown",
   "id": "ec444495-3de1-4027-a420-94faf7aaf41a",
   "metadata": {},
   "source": [
    "#### 71.Query: Create a crosstab to show each sport as a column and each heart rate zone as rows with counts of rows that satisfy each condition as values"
   ]
  },
  {
   "cell_type": "code",
   "execution_count": 30,
   "id": "b2611f85-4666-40ae-a06b-0f5325b3beb7",
   "metadata": {},
   "outputs": [
    {
     "name": "stdout",
     "output_type": "stream",
     "text": [
      "HR ZONE    ZONE_1  ZONE_2  ZONE_3  ZONE_4  ZONE_5\n",
      "sport                                            \n",
      "fencing      2258    3433    4269    6322   11321\n",
      "kayak        1456    2621    3434    4464    6791\n",
      "triathlon     464     318    1089     893    1781\n"
     ]
    }
   ],
   "source": [
    "merged.loc[(merged['HR']<=100),\"HR ZONE\"]=\"ZONE_1\"    \n",
    "merged.loc[(merged['HR']>=100) & (merged['HR']<=120),\"HR ZONE\"]=\"ZONE_2\"\n",
    "merged.loc[(merged['HR']>=120) & (merged['HR']<=135),\"HR ZONE\"]=\"ZONE_3\"\n",
    "merged.loc[(merged['HR']>=135) & (merged['HR']<=155),\"HR ZONE\"]=\"ZONE_4\"\n",
    "merged.loc[(merged['HR']>=155) ,\"HR ZONE\"]=\"ZONE_5\"\n",
    "#sol as per query\n",
    "result = pd.crosstab(merged['sport'], merged['HR ZONE'])\n",
    "print(result)\n"
   ]
  },
  {
   "cell_type": "markdown",
   "id": "d8e642b5-9b70-4ab1-8d58-522e8ce1df4b",
   "metadata": {},
   "source": [
    "#### 72.Query: Provide an example of a lambda function that multiplies any 2 input values."
   ]
  },
  {
   "cell_type": "code",
   "execution_count": 33,
   "id": "74af0c32-2cdd-49b7-93d2-1cc90136c959",
   "metadata": {},
   "outputs": [
    {
     "name": "stdin",
     "output_type": "stream",
     "text": [
      "Enter X value:  1\n",
      "Enter Y value:  7\n"
     ]
    },
    {
     "name": "stdout",
     "output_type": "stream",
     "text": [
      "The multipliaction of the X & Y values: 7.0\n"
     ]
    }
   ],
   "source": [
    "#solution:\n",
    "multi=lambda X,Y:X*Y\n",
    "X = float(input('Enter X value: '))\n",
    "Y = float(input('Enter Y value: '))\n",
    "result = multi(X, Y)\n",
    "print(\"The multipliaction of the X & Y values:\", result)"
   ]
  },
  {
   "cell_type": "markdown",
   "id": "a41a70d5-31b3-452e-8304-5f780dd702d0",
   "metadata": {},
   "source": [
    "#### 73.Query:How long was athlete 17s warm up"
   ]
  },
  {
   "cell_type": "code",
   "execution_count": 61,
   "id": "3b8b44a0-1d09-40de-aefb-2c5b4d35da53",
   "metadata": {},
   "outputs": [
    {
     "name": "stdout",
     "output_type": "stream",
     "text": [
      "182.408 Seconds long was athlete 17s warm up\n"
     ]
    }
   ],
   "source": [
    "#solution:\n",
    "df1=merged.loc[(merged['time']<=0)&(merged['ID']==17)].reset_index()\n",
    "df2=df1['time'].max()-df1['time'].min()\n",
    "print(df2,\"Seconds long was athlete 17s warm up\")"
   ]
  },
  {
   "cell_type": "markdown",
   "id": "4a1f6153-2b0f-4adf-945d-225f142e9d11",
   "metadata": {},
   "source": [
    "#### 74 Query: Take a students full name and reverse it using a for loop"
   ]
  },
  {
   "cell_type": "code",
   "execution_count": 64,
   "id": "05309167-5866-459d-8013-a675d9966bc6",
   "metadata": {},
   "outputs": [
    {
     "name": "stdout",
     "output_type": "stream",
     "text": [
      "    ID         full_name           reverse\n",
      "0    1   Olivia Martinez   zenitraM aivilO\n",
      "1    2    Ethan Reynolds    sdlonyeR nahtE\n",
      "2    3    Jackson Harper    repraH noskcaJ\n",
      "3    4      Liam Sanchez      zehcnaS maiL\n",
      "4    5      Ava Thompson      nospmohT avA\n",
      "5    6  Sophia Rodriguez  zeugirdoR aihpoS\n",
      "6    7     Grace Simmons     snommiS ecarG\n",
      "7    8     Aiden Bennett     ttenneB nediA\n",
      "8    9       Chloe Price       ecirP eolhC\n",
      "9   10       Lily Jordan       nadroJ yliL\n",
      "10  11  Isabella Griffin  niffirG allebasI\n",
      "11  12       Caleb Dixon       noxiD belaC\n",
      "12  13     Mia Carpenter     retnepraC aiM\n",
      "13  14   Harper Mitchell   llehctiM repraH\n",
      "14  15     Mason Wallace     ecallaW nosaM\n",
      "15  16    Logan Anderson    nosrednA nagoL\n",
      "16  17      Lucas Foster      retsoF sacuL\n",
      "17  18        Owen Myers        sreyM newO\n"
     ]
    }
   ],
   "source": [
    "#solution:\n",
    "Athletes['full_name'] = Athletes['First Name'] + ' ' + Athletes['Last Name']\n",
    "reverse_list=[]\n",
    "for names in Athletes['full_name']:\n",
    "    reverse_name=\"\"\n",
    "    for char in names:\n",
    "         reverse_name= char + reverse_name\n",
    "    reverse_list.append(reverse_name)\n",
    "Athletes['reverse']=reverse_list     \n",
    "print(Athletes[['ID','full_name','reverse']])  "
   ]
  },
  {
   "cell_type": "markdown",
   "id": "e28329b2-e60f-4115-b3f3-4a5ee9b6275c",
   "metadata": {},
   "source": [
    "#### 75 Query:What was the maximum heart rate recorded during the test. Which athlete did it belong to? Display name, sport and HR"
   ]
  },
  {
   "cell_type": "code",
   "execution_count": 144,
   "id": "8f9788b8-3d6f-4a84-8d0e-cbc2f56aeb3c",
   "metadata": {},
   "outputs": [
    {
     "name": "stdout",
     "output_type": "stream",
     "text": [
      "   index  ID      full_name    sport     HR\n",
      "0  44041   7  Grace Simmons  fencing  238.1\n"
     ]
    }
   ],
   "source": [
    "#solution:\n",
    "df1=Athletes[['ID','full_name','sport']]\n",
    "df1=pd.merge(combined,Athletes,on='ID',how='inner')[['ID','full_name','sport','HR']]\n",
    "df2=df1.loc[(df1['HR']==df1['HR'].max())].reset_index()\n",
    "print(df2)"
   ]
  },
  {
   "cell_type": "markdown",
   "id": "c08b0765-97ae-4ee0-b9cd-244fbbd39f4c",
   "metadata": {},
   "source": [
    "#### 76 Query: np.arange(1,31).reshape(6,5),find array slicing to get the elements 2,5,13,25,30."
   ]
  },
  {
   "cell_type": "code",
   "execution_count": 87,
   "id": "68a5c37f-7452-41c3-976a-0a90fe84c067",
   "metadata": {},
   "outputs": [
    {
     "name": "stdout",
     "output_type": "stream",
     "text": [
      "[[ 1  2  3  4  5]\n",
      " [ 6  7  8  9 10]\n",
      " [11 12 13 14 15]\n",
      " [16 17 18 19 20]\n",
      " [21 22 23 24 25]\n",
      " [26 27 28 29 30]]\n",
      "2 , 5 , 13 , 25 , 30\n"
     ]
    }
   ],
   "source": [
    "#solution:\n",
    "x= np.arange(1,31).reshape(6,5)\n",
    "print(x)\n",
    "print(x[0][1],\",\",x[0][4],\",\",x[2][2],\",\",x[4][4],\",\",x[5][4])"
   ]
  },
  {
   "cell_type": "markdown",
   "id": "c989ba1f-b711-4794-b508-8bb14d8537f4",
   "metadata": {},
   "source": [
    "#### 77 Query: Display a violin chart to show distribution of VO2Max against age."
   ]
  },
  {
   "cell_type": "code",
   "execution_count": 110,
   "id": "e8edfe13-3002-4f36-9273-6351dc771f8a",
   "metadata": {},
   "outputs": [
    {
     "data": {
      "text/plain": [
       "<Axes: title={'center': 'Distribution of VO2Max against age.'}, xlabel='age', ylabel='max_vo2'>"
      ]
     },
     "execution_count": 110,
     "metadata": {},
     "output_type": "execute_result"
    },
    {
     "data": {
      "image/png": "[encoded data removed]",
      "text/plain": [
       "<Figure size 640x480 with 1 Axes>"
      ]
     },
     "metadata": {},
     "output_type": "display_data"
    }
   ],
   "source": [
    "#sum_vo2=combined.groupby(['ID'])['VO2'].sum()\n",
    "#df1=pd.merge(sum_vo2,Athletes,on='ID',how='inner')[['ID','age','VO2','Weight']]\n",
    "#for index,row in df1.iterrows():\n",
    "#     df1.at[index,'max_vo2']=round(df1.at[index,'VO2']/df1.at[index,'Weight'],2)\n",
    "plt.title(\"Distribution of VO2Max against age.\")\n",
    "sns.violinplot(x='age',y='max_vo2',hue='age',palette=\"RdPu\",data=df1) "
   ]
  },
  {
   "cell_type": "code",
   "execution_count": null,
   "id": "19e9ebe0-5cd2-44b1-8980-529b179ccffb",
   "metadata": {},
   "outputs": [],
   "source": []
  },
  {
   "cell_type": "code",
   "execution_count": null,
   "id": "b219987c-5cdc-4f80-9ad0-f1292030f3ba",
   "metadata": {},
   "outputs": [],
   "source": []
  },
  {
   "cell_type": "markdown",
   "id": "42ed69dd-bfaf-4446-8d9b-d18b5fde5ba7",
   "metadata": {},
   "source": [
    "#### 79 Query: Plot the Donut chart athlete distrubution by Gender"
   ]
  },
  {
   "cell_type": "code",
   "execution_count": 103,
   "id": "d625c565-2588-441b-b15f-3205091b0b6b",
   "metadata": {},
   "outputs": [
    {
     "data": {
      "image/png": "[encoded data removed]",
      "text/plain": [
       "<Figure size 640x480 with 1 Axes>"
      ]
     },
     "metadata": {},
     "output_type": "display_data"
    }
   ],
   "source": [
    "#solutiuon:#solution:\n",
    "gender=(Athletes['Gender']).value_counts()\n",
    "x=('female 10','male 8')\n",
    "plt.title(\"Distrubution by Gender\")\n",
    "plt.pie(gender,autopct = '%0.2f%%',labels=x,pctdistance=0.85,explode=(0.02, 0.02))\n",
    "my_circle=plt.Circle((0,0),0.6,color='white')\n",
    "plt.gca().add_artist(my_circle) and plt.show()"
   ]
  },
  {
   "cell_type": "markdown",
   "id": "b41b65d5-0fd5-4223-8288-0a97d1fb007b",
   "metadata": {},
   "source": [
    "#### 80 Query:find the size of a Tuple for any given input"
   ]
  },
  {
   "cell_type": "code",
   "execution_count": 106,
   "id": "3dd3f377-1209-4009-a1ba-c65e242142e7",
   "metadata": {},
   "outputs": [
    {
     "name": "stdin",
     "output_type": "stream",
     "text": [
      "Enter integers:  1 2 23 4 56 6\n"
     ]
    },
    {
     "name": "stdout",
     "output_type": "stream",
     "text": [
      "(1, 2, 23, 4, 56, 6)\n",
      "6 is the tuple length of given input\n"
     ]
    }
   ],
   "source": [
    "#solution:(80 Q)\n",
    "#for integer input\n",
    "result_tuple = tuple(int(item) for item in (input('Enter integers: ')).split())\n",
    "print(result_tuple)\n",
    "print(len(result_tuple),\"is the tuple length of given input\" )"
   ]
  },
  {
   "cell_type": "code",
   "execution_count": 108,
   "id": "511636a2-0a90-4ae3-9e14-86251ece80af",
   "metadata": {},
   "outputs": [
    {
     "name": "stdin",
     "output_type": "stream",
     "text": [
      "Enter integers:  1 a d  y gb 78.0 \n"
     ]
    },
    {
     "name": "stdout",
     "output_type": "stream",
     "text": [
      "('1', 'a', 'd', 'y', 'gb', '78.0')\n",
      "6 is the tuple length of given input\n"
     ]
    }
   ],
   "source": [
    "# for any input(80 Q)\n",
    "result_tuple = tuple((input('Enter integers: ')).split())\n",
    "print(result_tuple)\n",
    "print(len(result_tuple),\"is the tuple length of given input\" )"
   ]
  },
  {
   "cell_type": "code",
   "execution_count": null,
   "id": "cf008bbe-2eda-4b84-8004-cc8938e1b33c",
   "metadata": {},
   "outputs": [],
   "source": []
  }
 ],
 "metadata": {
  "kernelspec": {
   "display_name": "Python 3 (ipykernel)",
   "language": "python",
   "name": "python3"
  },
  "language_info": {
   "codemirror_mode": {
    "name": "ipython",
    "version": 3
   },
   "file_extension": ".py",
   "mimetype": "text/x-python",
   "name": "python",
   "nbconvert_exporter": "python",
   "pygments_lexer": "ipython3",
   "version": "3.12.4"
  }
 },
 "nbformat": 4,
 "nbformat_minor": 5
}
