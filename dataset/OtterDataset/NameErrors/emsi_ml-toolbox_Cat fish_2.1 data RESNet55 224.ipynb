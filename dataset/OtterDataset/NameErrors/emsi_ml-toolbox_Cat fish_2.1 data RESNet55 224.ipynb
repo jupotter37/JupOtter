{
 "cells": [
  {
   "cell_type": "code",
   "execution_count": 1,
   "metadata": {
    "collapsed": true
   },
   "outputs": [],
   "source": [
    "from __future__ import print_function\n",
    "import matplotlib.pyplot as plt\n",
    "import numpy as np\n",
    "import os\n",
    "import sys\n",
    "import zipfile\n",
    "from IPython.display import display, Image\n",
    "from scipy import ndimage\n",
    "from sklearn.linear_model import LogisticRegression\n",
    "from six.moves.urllib.request import urlretrieve\n",
    "from six.moves import cPickle as pickle\n",
    "\n",
    "from skimage import color, io\n",
    "from scipy.misc import imresize\n",
    "\n",
    "np.random.seed(133)\n",
    "\n",
    "# Config the matplotlib backend as plotting inline in IPython\n",
    "%matplotlib inline\n",
    "\n"
   ]
  },
  {
   "cell_type": "code",
   "execution_count": 2,
   "metadata": {
    "collapsed": true
   },
   "outputs": [],
   "source": [
    "from six.moves import cPickle as pickle\n",
    "pickle_file = 'catfish.pickle'\n",
    "try:\n",
    "    with open(pickle_file) as f:\n",
    "        save=pickle.load(f)\n",
    "except Exception as e:\n",
    "  print('Unable to load data from', pickle_file, ':', e)\n",
    "  raise\n",
    "    \n",
    "train_images_sane=save['train_images_sane']\n",
    "train_images=save['train_images']\n",
    "insane_indices=save['insane_indices']\n",
    "test_images=save['test_images']\n"
   ]
  },
  {
   "cell_type": "code",
   "execution_count": 3,
   "metadata": {
    "collapsed": false
   },
   "outputs": [
    {
     "ename": "NameError",
     "evalue": "name 'X_verify' is not defined",
     "output_type": "error",
     "traceback": [
      "\u001b[0;31m\u001b[0m",
      "\u001b[0;31mNameError\u001b[0mTraceback (most recent call last)",
      "\u001b[0;32m<ipython-input-3-73efab1662cb>\u001b[0m in \u001b[0;36m<module>\u001b[0;34m()\u001b[0m\n\u001b[1;32m     24\u001b[0m \u001b[0mY_hard\u001b[0m \u001b[0;34m=\u001b[0m \u001b[0mnp\u001b[0m\u001b[0;34m.\u001b[0m\u001b[0marray\u001b[0m\u001b[0;34m(\u001b[0m\u001b[0;34m[\u001b[0m\u001b[0mint\u001b[0m\u001b[0;34m(\u001b[0m\u001b[0;34m'dog'\u001b[0m \u001b[0;32min\u001b[0m \u001b[0mtrain_images\u001b[0m\u001b[0;34m[\u001b[0m\u001b[0mi\u001b[0m\u001b[0;34m]\u001b[0m\u001b[0;34m)\u001b[0m \u001b[0;32mfor\u001b[0m \u001b[0mi\u001b[0m \u001b[0;32min\u001b[0m \u001b[0minsane_indices\u001b[0m\u001b[0;34m]\u001b[0m\u001b[0;34m)\u001b[0m\u001b[0;34m\u001b[0m\u001b[0m\n\u001b[1;32m     25\u001b[0m \u001b[0;34m\u001b[0m\u001b[0m\n\u001b[0;32m---> 26\u001b[0;31m \u001b[0mX_hard\u001b[0m \u001b[0;34m=\u001b[0m \u001b[0mX_verify\u001b[0m\u001b[0;34m.\u001b[0m\u001b[0mastype\u001b[0m\u001b[0;34m(\u001b[0m\u001b[0;34m'float32'\u001b[0m\u001b[0;34m)\u001b[0m\u001b[0;34m\u001b[0m\u001b[0m\n\u001b[0m\u001b[1;32m     27\u001b[0m \u001b[0;31m#X_verify /= 255\u001b[0m\u001b[0;34m\u001b[0m\u001b[0;34m\u001b[0m\u001b[0m\n\u001b[1;32m     28\u001b[0m \u001b[0;34m\u001b[0m\u001b[0m\n",
      "\u001b[0;31mNameError\u001b[0m: name 'X_verify' is not defined"
     ]
    }
   ],
   "source": [
    "IMAGE_SIZE = 227 #22\n",
    "\n",
    "def read_image(filepath):\n",
    "    img = io.imread(filepath)\n",
    "    new_img = np.array(imresize(img, (IMAGE_SIZE, IMAGE_SIZE), interp='bicubic'))\n",
    "    return new_img\n",
    "\n",
    "X_train = np.array([read_image(train_images_sane[i]) for i in xrange(len(train_images_sane))])\n",
    "Y_train = np.array([int('dog' in train_images_sane[i]) for i in xrange(len(train_images_sane))])\n",
    "\n",
    "X_train = X_train.astype('float32')\n",
    "#X_train /= 255\n",
    "\n",
    "np.save('catfish-X_train.npy',X_train)\n",
    "np.save('catfish-Y_train.npy',Y_train)\n",
    "\n",
    "X_train=''\n",
    "Y_train=''\n",
    "\n",
    "import gc\n",
    "gc.collect()\n",
    "\n"
   ]
  },
  {
   "cell_type": "code",
   "execution_count": 4,
   "metadata": {
    "collapsed": true
   },
   "outputs": [],
   "source": [
    "X_hard = np.array([read_image(train_images[i]) for i in insane_indices])\n",
    "Y_hard = np.array([int('dog' in train_images[i]) for i in insane_indices])\n",
    "\n",
    "X_hard = X_hard.astype('float32')\n",
    "#X_verify /= 255\n",
    "\n",
    "np.save('catfish-X_hard.npy',X_hard)\n",
    "np.save('catfish-Y_hard.npy',Y_hard)\n",
    "\n",
    "X_hard=''\n",
    "Y_hard=''"
   ]
  },
  {
   "cell_type": "code",
   "execution_count": null,
   "metadata": {
    "collapsed": false
   },
   "outputs": [],
   "source": [
    "gc.collect()\n",
    "\n",
    "X_test = np.array([read_image(test_images[i]) for i in xrange(len(test_images))])\n",
    "X_test = X_test.astype('float32')\n",
    "\n",
    "np.save('catfish-X_test.npy',X_test)\n",
    "np.save('catfish-Y_test.npy',Y_test)"
   ]
  },
  {
   "cell_type": "code",
   "execution_count": null,
   "metadata": {
    "collapsed": false
   },
   "outputs": [],
   "source": [
    "pickle_file = 'catfish-X_verify.pickle'\n",
    "try:\n",
    "  f = open(pickle_file, 'wb')\n",
    "  pickle.dump(X_verify, f, pickle.HIGHEST_PROTOCOL)\n",
    "  f.close()\n",
    "except Exception as e:\n",
    "  print('Unable to save data to', pickle_file, ':', e)\n",
    "  raise\n",
    "    \n",
    "statinfo = os.stat(pickle_file)\n",
    "print('Compressed pickle size:', statinfo.st_size)"
   ]
  },
  {
   "cell_type": "code",
   "execution_count": null,
   "metadata": {
    "collapsed": false
   },
   "outputs": [],
   "source": [
    "\n",
    "\n"
   ]
  },
  {
   "cell_type": "code",
   "execution_count": null,
   "metadata": {
    "collapsed": false
   },
   "outputs": [],
   "source": [
    "#X_train=np.load('catfish-X_train.npy')"
   ]
  },
  {
   "cell_type": "code",
   "execution_count": null,
   "metadata": {
    "collapsed": false
   },
   "outputs": [],
   "source": [
    "    plt.imshow(X_train[270])\n",
    "    plt.show()"
   ]
  },
  {
   "cell_type": "code",
   "execution_count": null,
   "metadata": {
    "collapsed": true
   },
   "outputs": [],
   "source": []
  }
 ],
 "metadata": {
  "kernelspec": {
   "display_name": "Python 2",
   "language": "python",
   "name": "python2"
  },
  "language_info": {
   "codemirror_mode": {
    "name": "ipython",
    "version": 2
   },
   "file_extension": ".py",
   "mimetype": "text/x-python",
   "name": "python",
   "nbconvert_exporter": "python",
   "pygments_lexer": "ipython2",
   "version": "2.7.12"
  }
 },
 "nbformat": 4,
 "nbformat_minor": 2
}
