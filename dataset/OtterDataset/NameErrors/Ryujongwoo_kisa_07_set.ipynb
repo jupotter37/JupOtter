{
 "cells": [
  {
   "cell_type": "code",
   "execution_count": 1,
   "id": "eb069d22",
   "metadata": {},
   "outputs": [],
   "source": [
    "# set 만들기\n",
    "# set은 수학의 집합과 비슷한 형태로 중복되는 데이터의 입력을 허용하지 않는 장점이 있지만 데이터를 입력하는 순서와\n",
    "# 실제로 데이터가 저장되는 순서가 달라서 인덱싱과 슬라이싱을 사용할 수 없다.\n",
    "# 딕셔너리 처럼 {}를 사용해서 선언하지만 key가 존재하지 않고 value만 존재한다."
   ]
  },
  {
   "cell_type": "code",
   "execution_count": 4,
   "id": "c8fc791b",
   "metadata": {},
   "outputs": [
    {
     "name": "stdout",
     "output_type": "stream",
     "text": [
      "{}\n",
      "<class 'dict'>\n",
      "set()\n",
      "<class 'set'>\n"
     ]
    }
   ],
   "source": [
    "# 빈 set 만들기\n",
    "a = {}\n",
    "print(a)\n",
    "print(type(a))\n",
    "# 빈 set을 만들어 사용하려면 반드시 생성자 함수를 이용해서 만들어야 한다.\n",
    "b = set()\n",
    "print(b)\n",
    "print(type(b))"
   ]
  },
  {
   "cell_type": "code",
   "execution_count": 5,
   "id": "f7f493db",
   "metadata": {},
   "outputs": [
    {
     "name": "stdout",
     "output_type": "stream",
     "text": [
      "{1, 2, 3, 4}\n",
      "<class 'set'>\n"
     ]
    }
   ],
   "source": [
    "a = {1, 2, 3, 4}\n",
    "print(a)\n",
    "print(type(a))"
   ]
  },
  {
   "cell_type": "code",
   "execution_count": 6,
   "id": "8291e668",
   "metadata": {},
   "outputs": [
    {
     "name": "stdout",
     "output_type": "stream",
     "text": [
      "{1, 2, 3, 4, 5, 6}\n",
      "<class 'set'>\n"
     ]
    }
   ],
   "source": [
    "a = {1, 2, 3, 4, 1, 5, 1, 2, 5, 6, 3, 4, 1}\n",
    "print(a)\n",
    "print(type(a))"
   ]
  },
  {
   "cell_type": "code",
   "execution_count": 13,
   "id": "f9aae245",
   "metadata": {},
   "outputs": [
    {
     "name": "stdout",
     "output_type": "stream",
     "text": [
      "{'홍길동'}\n",
      "{'홍길동', '임꺽정'}\n",
      "{'홍길동', '임꺽정', '장길산'}\n",
      "{'홍길동', '임꺽정', '장길산', '일지매'}\n",
      "{'임꺽정', '일지매', '홍길동', '장길산', '손오공'}\n"
     ]
    },
    {
     "ename": "TypeError",
     "evalue": "'set' object is not subscriptable",
     "output_type": "error",
     "traceback": [
      "\u001b[1;31m---------------------------------------------------------------------------\u001b[0m",
      "\u001b[1;31mTypeError\u001b[0m                                 Traceback (most recent call last)",
      "Input \u001b[1;32mIn [13]\u001b[0m, in \u001b[0;36m<cell line: 15>\u001b[1;34m()\u001b[0m\n\u001b[0;32m     11\u001b[0m \u001b[38;5;28mprint\u001b[39m(a)\n\u001b[0;32m     13\u001b[0m \u001b[38;5;66;03m# set은 데이터를 입력하는 순서와 실제 저장되는 순서가 달라서 인덱싱, 슬라이싱을 사용할 수 업다.\u001b[39;00m\n\u001b[0;32m     14\u001b[0m \u001b[38;5;66;03m# a[1] # 에러\u001b[39;00m\n\u001b[1;32m---> 15\u001b[0m \u001b[43ma\u001b[49m\u001b[43m[\u001b[49m\u001b[38;5;241;43m2\u001b[39;49m\u001b[43m:\u001b[49m\u001b[38;5;241;43m5\u001b[39;49m\u001b[43m]\u001b[49m\n",
      "\u001b[1;31mTypeError\u001b[0m: 'set' object is not subscriptable"
     ]
    }
   ],
   "source": [
    "# add() 메소드로 set에 데이터를 추가한다. => 데이터를 저장하는 순서와 실제 데이터가 저장되는 순서가 다르다.\n",
    "a = {'홍길동'}\n",
    "print(a)\n",
    "a.add('임꺽정')\n",
    "print(a)\n",
    "a.add('장길산')\n",
    "print(a)\n",
    "a.add('일지매')\n",
    "print(a)\n",
    "a.add('손오공')\n",
    "print(a)\n",
    "\n",
    "# set은 데이터를 입력하는 순서와 실제 저장되는 순서가 달라서 인덱싱, 슬라이싱을 사용할 수 업다.\n",
    "# a[1] # 에러\n",
    "# a[2:5] # 에러"
   ]
  },
  {
   "cell_type": "code",
   "execution_count": 15,
   "id": "6d9a722a",
   "metadata": {},
   "outputs": [
    {
     "name": "stdout",
     "output_type": "stream",
     "text": [
      "{'임꺽정', '일지매', '홍길동', '장길산', '손오공'}\n",
      "{'임꺽정', '일지매', '사탄', '홍길동', '야무치', '크리닝', '장길산', '손오공'}\n",
      "{'피콜로', '계왕신', '마인부우', '임꺽정', '일지매', '사탄', '홍길동', '야무치', '크리닝', '장길산', '손오공'}\n"
     ]
    }
   ],
   "source": [
    "# update() 메소드로 리스트 또는 튜플을 사용해서 set에 여러건의 데이터를 한 번에 추가시킬 수 있다.\n",
    "print(a)\n",
    "a.update(['크리닝', '야무치', '사탄'])\n",
    "print(a)\n",
    "a.update(('마인부우', '피콜로', '계왕신'))\n",
    "print(a)"
   ]
  },
  {
   "cell_type": "code",
   "execution_count": 16,
   "id": "34129972",
   "metadata": {},
   "outputs": [
    {
     "name": "stdout",
     "output_type": "stream",
     "text": [
      "{'피콜로', '계왕신', '마인부우', '임꺽정', '일지매', '홍길동', '야무치', '크리닝', '장길산', '손오공'}\n"
     ]
    },
    {
     "ename": "KeyError",
     "evalue": "'사탄'",
     "output_type": "error",
     "traceback": [
      "\u001b[1;31m---------------------------------------------------------------------------\u001b[0m",
      "\u001b[1;31mKeyError\u001b[0m                                  Traceback (most recent call last)",
      "Input \u001b[1;32mIn [16]\u001b[0m, in \u001b[0;36m<cell line: 4>\u001b[1;34m()\u001b[0m\n\u001b[0;32m      2\u001b[0m a\u001b[38;5;241m.\u001b[39mremove(\u001b[38;5;124m'\u001b[39m\u001b[38;5;124m사탄\u001b[39m\u001b[38;5;124m'\u001b[39m)\n\u001b[0;32m      3\u001b[0m \u001b[38;5;28mprint\u001b[39m(a)\n\u001b[1;32m----> 4\u001b[0m \u001b[43ma\u001b[49m\u001b[38;5;241;43m.\u001b[39;49m\u001b[43mremove\u001b[49m\u001b[43m(\u001b[49m\u001b[38;5;124;43m'\u001b[39;49m\u001b[38;5;124;43m사탄\u001b[39;49m\u001b[38;5;124;43m'\u001b[39;49m\u001b[43m)\u001b[49m\n\u001b[0;32m      5\u001b[0m \u001b[38;5;28mprint\u001b[39m(a)\n",
      "\u001b[1;31mKeyError\u001b[0m: '사탄'"
     ]
    }
   ],
   "source": [
    "# remove() 메소드로 set에 저장된 데이터를 지정해서 제거할 수 있다.\n",
    "a.remove('사탄')\n",
    "print(a)\n",
    "a.remove('사탄') # set에 저장되지 않은 데이터를 삭제하려 했으므로 에러가 발생된다.\n",
    "print(a)"
   ]
  },
  {
   "cell_type": "code",
   "execution_count": 17,
   "id": "b8084716",
   "metadata": {},
   "outputs": [
    {
     "name": "stdout",
     "output_type": "stream",
     "text": [
      "{'피콜로', '계왕신', '임꺽정', '일지매', '홍길동', '야무치', '크리닝', '장길산', '손오공'}\n",
      "{'피콜로', '계왕신', '임꺽정', '일지매', '홍길동', '야무치', '크리닝', '장길산', '손오공'}\n"
     ]
    }
   ],
   "source": [
    "# discard() 메소드로 set에 저장된 데이터를 지정해서 제거할 수 있다.\n",
    "a.discard('마인부우')\n",
    "print(a)\n",
    "a.discard('마인부우') # set에 저장되지 않은 데이터를 삭제하려 해도 에러가 발생되지 않는다.\n",
    "print(a)"
   ]
  },
  {
   "cell_type": "code",
   "execution_count": 18,
   "id": "82824f21",
   "metadata": {},
   "outputs": [
    {
     "name": "stdout",
     "output_type": "stream",
     "text": [
      "set()\n"
     ]
    }
   ],
   "source": [
    "a.clear()\n",
    "print(a)"
   ]
  },
  {
   "cell_type": "code",
   "execution_count": 20,
   "id": "229cbf90",
   "metadata": {},
   "outputs": [
    {
     "ename": "NameError",
     "evalue": "name 'a' is not defined",
     "output_type": "error",
     "traceback": [
      "\u001b[1;31m---------------------------------------------------------------------------\u001b[0m",
      "\u001b[1;31mNameError\u001b[0m                                 Traceback (most recent call last)",
      "Input \u001b[1;32mIn [20]\u001b[0m, in \u001b[0;36m<cell line: 2>\u001b[1;34m()\u001b[0m\n\u001b[0;32m      1\u001b[0m \u001b[38;5;28;01mdel\u001b[39;00m a\n\u001b[1;32m----> 2\u001b[0m \u001b[38;5;28mprint\u001b[39m(\u001b[43ma\u001b[49m)\n",
      "\u001b[1;31mNameError\u001b[0m: name 'a' is not defined"
     ]
    }
   ],
   "source": [
    "del a\n",
    "print(a)"
   ]
  },
  {
   "cell_type": "code",
   "execution_count": 30,
   "id": "0e71361f",
   "metadata": {},
   "outputs": [
    {
     "name": "stdout",
     "output_type": "stream",
     "text": [
      "{1, 2, 3, 4, 5, 6, 7}\n",
      "{1, 2, 3, 4, 5, 6, 7}\n",
      "{3, 4, 5}\n",
      "{3, 4, 5}\n",
      "{1, 2}\n",
      "{1, 2}\n",
      "{6, 7}\n",
      "{6, 7}\n",
      "{1, 2, 6, 7}\n",
      "{1, 2, 6, 7}\n"
     ]
    }
   ],
   "source": [
    "# 집합 연산자와 메소드\n",
    "a = {1, 2, 3, 4, 5}\n",
    "b = {3, 4, 5, 6, 7}\n",
    "\n",
    "# 합집합\n",
    "print(a.union(b))\n",
    "print(a | b)\n",
    "\n",
    "# 교집합\n",
    "print(a.intersection(b))\n",
    "print(a & b)\n",
    "\n",
    "# 차집합\n",
    "print(a.difference(b))\n",
    "print(a - b)\n",
    "print(b.difference(a))\n",
    "print(b - a)\n",
    "\n",
    "# 대칭 차집합 => 합집합 - 교집합\n",
    "print(a.symmetric_difference(b))\n",
    "print(a ^ b)"
   ]
  },
  {
   "cell_type": "code",
   "execution_count": null,
   "id": "ed7eed5d",
   "metadata": {},
   "outputs": [],
   "source": []
  },
  {
   "cell_type": "code",
   "execution_count": null,
   "id": "24775a15",
   "metadata": {},
   "outputs": [],
   "source": []
  },
  {
   "cell_type": "code",
   "execution_count": null,
   "id": "13c71315",
   "metadata": {},
   "outputs": [],
   "source": []
  },
  {
   "cell_type": "code",
   "execution_count": null,
   "id": "3d2cc984",
   "metadata": {},
   "outputs": [],
   "source": []
  },
  {
   "cell_type": "code",
   "execution_count": null,
   "id": "0b28b2a2",
   "metadata": {},
   "outputs": [],
   "source": []
  },
  {
   "cell_type": "code",
   "execution_count": null,
   "id": "21dd5797",
   "metadata": {},
   "outputs": [],
   "source": []
  },
  {
   "cell_type": "code",
   "execution_count": null,
   "id": "d721912b",
   "metadata": {},
   "outputs": [],
   "source": []
  },
  {
   "cell_type": "code",
   "execution_count": null,
   "id": "e5fe5dca",
   "metadata": {},
   "outputs": [],
   "source": []
  }
 ],
 "metadata": {
  "kernelspec": {
   "display_name": "Python 3 (ipykernel)",
   "language": "python",
   "name": "python3"
  },
  "language_info": {
   "codemirror_mode": {
    "name": "ipython",
    "version": 3
   },
   "file_extension": ".py",
   "mimetype": "text/x-python",
   "name": "python",
   "nbconvert_exporter": "python",
   "pygments_lexer": "ipython3",
   "version": "3.10.4"
  }
 },
 "nbformat": 4,
 "nbformat_minor": 5
}
