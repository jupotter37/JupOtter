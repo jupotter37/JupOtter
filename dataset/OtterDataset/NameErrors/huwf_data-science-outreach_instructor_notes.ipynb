{
 "cells": [
  {
   "cell_type": "markdown",
   "metadata": {},
   "source": [
    "# Notes for Instructors\n",
    "\n",
    "This scenario is designed to be done with small groups of students who are inexperienced in programming in general, but have some ideas about statistics.  If the students have got some experience with programming, then it should be possible to do with a far larger student to teacher ratio.\n",
    "\n",
    "## Question 1a\n",
    "This is a basic introductory question, which will introduce students to the idea of using Python to program.  Note that we are using Python 3 rather than Python 2, the main difference to be aware of, is that `print \"Hello!\"` will not work, but instead will need to use `print(\"Hello!\")` instead.\n",
    "\n",
    "This part of the exercise should take the longest, since it requires explaining quite a lot of syntax, and some of the ideas behind programming in Python.  For students who are already experienced at programming, there is a harder alternative which they may find more interesting.\n",
    " \n",
    "### \"Magic\" functions\n",
    "At the top, we have two functions `get_data()` and `get_arrival_time()`.  The way that a function is defined in Python is by using the word `def` followed by the name of the function.  The students do not need to understand how the functcions work, they can be considered to be \"magic\".  What they do, is they open files which contain the data, and return the data in a structure which makes it easier to use.\n",
    "\n",
    "Compare to a black box mathematical function like `f(x) = 2x`.  The input in the case of the mathematical function is a number, which would then provide the output.  So `f(2) = 4`.  Functions in programming are an extension of this, in that they can accept many different sorts of inputs, such as text, dates etc.\n",
    "\n",
    "A lot of other parts of programming described below can also be considered to be \"magic\".  Everything in programming is simply an abstraction away from a series of `0`s and `1`s.  There are many different ways of doing this, just like we do for solving mathematical problems or communicating with people.  Python is a \"high level\" programming language, it uses a lower level language (C) and abstracts away a lot of things such as accesing memory, implements some useful data structures for us, and makes strings a lot less painful.\n",
    "\n",
    "### Comments\n",
    "Within the two functions, you will see comments in two different formats.  Firstly, comments like this: `\"\"\"This is a comment\"\"\"` and comments which are prepended by `#`.  In Python, the convention is to use `\"\"\"` comments called docstrings for defining the function behaviour, and lines prepended by `#` can be used for explaining bits of code.  Students can look at the docstring in the functions to get information about how to call the function, and the values that it returns:\n"
   ]
  },
  {
   "cell_type": "code",
   "execution_count": 1,
   "metadata": {
    "collapsed": true
   },
   "outputs": [],
   "source": [
    "def get_data(group_no, year, month, time='07:00', hard=False):\n",
    "    \"\"\"\n",
    "    :param group_no: The group number we assigned you\n",
    "    :param year: the year for the data.  Values between 2011 and 2013\n",
    "    :param month: the month for the data.  1 is January, 12 is December\n",
    "    :param time: Default 07:00.  The time of interest.  This should be a string in padded 24 hour format,\n",
    "    e.g. 07:00, 14:00\n",
    "    :param hard: Default False.  Specifies whether this function is being used for the standard or \"hard\" version\n",
    "    of the question.\n",
    "    :return: A list of the data for the whole route at the time specified by the time parameter for every day found.\n",
    "    If hard is True, then it will return a dictionary object as {time: {junction: segment_time}}\n",
    "    \"\"\"\n",
    "    # The function code goes here... (This is an example of a comment)"
   ]
  },
  {
   "cell_type": "markdown",
   "metadata": {},
   "source": [
    "Here we can see what data we are inputting, and that we are expecting a list to be returned.  Here, we can explain different types of variables, and explain the idea of a list.\n",
    "\n",
    "\n",
    "### Variables\n",
    "A variable is something which can change its value.  The main point to introduce is that `=` does not mean \"equal to\" but rather is assignment, i.e., it assigns the value on the right hand side to the variable on the left hand side.  A simple example is below, which prints the value of the variable:"
   ]
  },
  {
   "cell_type": "code",
   "execution_count": 2,
   "metadata": {
    "collapsed": false
   },
   "outputs": [
    {
     "name": "stdout",
     "output_type": "stream",
     "text": [
      "Initial value of x: 42\n",
      "Initial value of y: 41.500000\n"
     ]
    }
   ],
   "source": [
    "x = 42\n",
    "print(\"Initial value of x: %d\" % x)\n",
    "y = 41.5\n",
    "print(\"Initial value of y: %f\" % y)"
   ]
  },
  {
   "cell_type": "markdown",
   "metadata": {},
   "source": [
    "#### Types of Variable\n",
    "In that example, we see three types of variable: An integer variable `x`, a string which is being passed as a parameter to the print function, and a float `y`.  A string is any combination of numbers or letters, and is surrounded by either `\"\"` or `''`.  \n",
    "\n",
    "Using the `%d`, we are able to output the value of an integer.  There are different values which we can use for different types of variables.  `%s` is used for a string, and `%f` is used for a float.\n",
    "\n",
    "A float is another simple type, it is just a number which is not an integer, for example `y = 4.3`.  These are less accurate than integers, but we will need to use them in this exercise, because the data are not whole numbers.\n",
    "\n",
    "The other type of variable we need to know about is booleans, which have two values: `True` and `False`.  We use these to test to see whether a condition is true, usually to decide whether to execute a certain bit of code.  That is the control flow of a program, we can use an `if` test.  \n",
    "\n",
    "If that is `False`, we can do another test with a different condition using `elif`.  This is optional, and most of the time we won't use this.  We `else` if there are no other options we want to test for, and run the code instead."
   ]
  },
  {
   "cell_type": "code",
   "execution_count": 3,
   "metadata": {
    "collapsed": false
   },
   "outputs": [
    {
     "name": "stdout",
     "output_type": "stream",
     "text": [
      "Value of equivalent.  Is x == 42? True\n",
      "New value of equivalent.  Is y == x? False\n",
      "y == 41.5 is true\n"
     ]
    }
   ],
   "source": [
    "# Introducing a boolean variable type, and demonstrates the difference between assignment and equivalence\n",
    "equivalent = x == 42\n",
    "print(\"Value of equivalent.  Is x == 42? %s\" % str(equivalent))\n",
    "\n",
    "equivalent = y == x\n",
    "print(\"New value of equivalent.  Is y == x? %s\" % str(equivalent))\n",
    "\n",
    "if equivalent:\n",
    "    #Run code\n",
    "    print(\"The variable 'equivalent' is true\")\n",
    "elif y != x:\n",
    "    #Run code\n",
    "    print(\"y == 41.5 is true\")\n",
    "else:\n",
    "    # Run code\n",
    "    pass"
   ]
  },
  {
   "cell_type": "markdown",
   "metadata": {},
   "source": [
    "Note that *assignment* of a variable is different to testing for *equivalence*.  Assignment using a single `=` does not mean that the two things are equal, but rather that the value on the left hand side takes on the value on the right hand side.  This means that we can make changes to the value of a variable like this:"
   ]
  },
  {
   "cell_type": "code",
   "execution_count": 4,
   "metadata": {
    "collapsed": false
   },
   "outputs": [
    {
     "name": "stdout",
     "output_type": "stream",
     "text": [
      "The value of x is: 42\n",
      "Changing the value of x to x + 4.  The value is now: 46\n"
     ]
    }
   ],
   "source": [
    "# Changing the value of variable x\n",
    "x = 42\n",
    "print(\"The value of x is: %d\" % x)\n",
    "x = x + 4\n",
    "print(\"Changing the value of x to x + 4.  The value is now: %d\" % x)"
   ]
  },
  {
   "cell_type": "markdown",
   "metadata": {},
   "source": [
    "To get the total amount of time, we need to:\n",
    "1. Get the data\n",
    "2. Create an empty variable\n",
    "3. Get the value of each segment, and then add it to the previous value\n",
    "\n",
    "Getting the data is done by calling the `get_data()` function, and an empty variable can be created on the next line, e.g., `x = 0`.  Now, we need to introduce the students to the concept of loops and lists.\n",
    "\n",
    "### Loops and lists\n",
    "\n",
    "A list is simply a collection of different variables put together.  We can access each one by getting the *index* of it.  For historical reasons, this usually starts at `0` in computer programming.  The following example prints the first item of a list:"
   ]
  },
  {
   "cell_type": "code",
   "execution_count": 5,
   "metadata": {
    "collapsed": false
   },
   "outputs": [
    {
     "name": "stdout",
     "output_type": "stream",
     "text": [
      "The first item in the list is 1\n",
      "The last item in the list is 5\n"
     ]
    }
   ],
   "source": [
    "data = [1,2,3,4,5]\n",
    "first_item = data[0]\n",
    "last_item = data[len(data) - 1]\n",
    "print(\"The first item in the list is %d\" % first_item)\n",
    "print(\"The last item in the list is %d\" % last_item)"
   ]
  },
  {
   "cell_type": "markdown",
   "metadata": {},
   "source": [
    "The `last_item` variable uses the useful `len` function, which simply returns the amount of elements which are in the particular list.  However, lists are at their most useful when we can *iterate* through them, i.e., accessing every value and doing something with it.  This is where loops come in.\n",
    "\n",
    "A loop allows the same instructions to be executed for as many times as is specified within the loop.  The loop syntax for Python is pretty simple, and is just like English.  The following loop will go over all the values in the `data` variable.  Note how for each item in the list, we can refer to it using the `d` variable rather than having to worry about its index position in the list."
   ]
  },
  {
   "cell_type": "code",
   "execution_count": 6,
   "metadata": {
    "collapsed": false
   },
   "outputs": [
    {
     "name": "stdout",
     "output_type": "stream",
     "text": [
      "1\n",
      "2\n",
      "3\n",
      "4\n",
      "5\n"
     ]
    }
   ],
   "source": [
    "data = [1,2,3,4,5]\n",
    "for d in data:\n",
    "    print(d)"
   ]
  },
  {
   "cell_type": "markdown",
   "metadata": {},
   "source": [
    "### Scope and Indentation\n",
    "Now we will need to explain two things: scope and indentation.\n",
    "\n",
    "Variables in Python, and most programming languages have a certain scope for which they are valid.  In this instance, the variable `d` will only be valid whilst the code is in the loop.  The reason for this sort of separation is that we don't want to have all our variables being accessible everywhere - in case we accidentally forget about one of them and then change it - causing problems in other parts of our program.\n",
    "\n",
    "If we try to access the variable outside of the loop, then we will see an error:"
   ]
  },
  {
   "cell_type": "code",
   "execution_count": 7,
   "metadata": {
    "collapsed": false
   },
   "outputs": [
    {
     "ename": "NameError",
     "evalue": "name 'z' is not defined",
     "output_type": "error",
     "traceback": [
      "\u001b[1;31m\u001b[0m",
      "\u001b[1;31mNameError\u001b[0mTraceback (most recent call last)",
      "\u001b[1;32m<ipython-input-7-d86fd8e8b687>\u001b[0m in \u001b[0;36m<module>\u001b[1;34m()\u001b[0m\n\u001b[0;32m      1\u001b[0m \u001b[1;32mfor\u001b[0m \u001b[0md\u001b[0m \u001b[1;32min\u001b[0m \u001b[0mdata\u001b[0m\u001b[1;33m:\u001b[0m\u001b[1;33m\u001b[0m\u001b[0m\n\u001b[1;32m----> 2\u001b[1;33m     \u001b[0mz\u001b[0m \u001b[1;33m=\u001b[0m \u001b[0mz\u001b[0m \u001b[1;33m+\u001b[0m \u001b[0md\u001b[0m\u001b[1;33m\u001b[0m\u001b[0m\n\u001b[0m\u001b[0;32m      3\u001b[0m \u001b[1;33m\u001b[0m\u001b[0m\n\u001b[0;32m      4\u001b[0m \u001b[0mprint\u001b[0m\u001b[1;33m(\u001b[0m\u001b[0mz\u001b[0m\u001b[1;33m)\u001b[0m\u001b[1;33m\u001b[0m\u001b[0m\n",
      "\u001b[1;31mNameError\u001b[0m: name 'z' is not defined"
     ]
    }
   ],
   "source": [
    "for d in data:\n",
    "    z = z + d\n",
    "\n",
    "print(z)"
   ]
  },
  {
   "cell_type": "markdown",
   "metadata": {},
   "source": [
    "Instead, we need to define the variable `z` outside of the loop, so we can access it.  This example will go over each item in the `data` list and add the value to it to get the total at the end:"
   ]
  },
  {
   "cell_type": "code",
   "execution_count": null,
   "metadata": {
    "collapsed": false
   },
   "outputs": [],
   "source": [
    "c = 0\n",
    "data = [1,2,3,4,5]\n",
    "for d in data:\n",
    "    c = c + d\n",
    "print(c)"
   ]
  },
  {
   "cell_type": "markdown",
   "metadata": {},
   "source": [
    "Programming languages have different ways of dealing with scope.  In C based languages, blocks of code are defined using `{}`, but Python uses indentation.  This means that it is easy to see where a variable will have a value.  For a loop, it also indicates the things which will be repeated.\n",
    "\n",
    "The next line should automatically move into the correct place to add the next line after pressing the `Enter` key on the keyboard.  Using `Tab` is also possible.\n",
    "\n",
    "It is important to remember that you should include `:` after starting a loop or a function.  If this does not happen, then the next line will not be indented, and is usually a sign that things are wrong.\n",
    "\n",
    "You will notice that this is very similar to what we need to do for the first part of the question which gives the answer as being:"
   ]
  },
  {
   "cell_type": "code",
   "execution_count": null,
   "metadata": {
    "collapsed": false
   },
   "outputs": [],
   "source": [
    "### ANSWER!\n",
    "total_time = 0\n",
    "for d in data:    \n",
    "    #print(\"dict: %d, %s\" % (d, str(data[d])))\n",
    "    total_time += d\n",
    "\n",
    "arrival_time = get_arrival_time(leaving_time, total_time)\n",
    "print(\"Arrival time: %s\" % arrival_time)\n",
    "### END ANSWER"
   ]
  },
  {
   "cell_type": "markdown",
   "metadata": {},
   "source": [
    "The one other thing we need to notice here is that we are calling the function `get_arrival_time()`, which gives us the actual time of arrival having added the total time (in seconds) to the leaving time."
   ]
  }
 ],
 "metadata": {
  "kernelspec": {
   "display_name": "Python 3",
   "language": "python",
   "name": "python3"
  },
  "language_info": {
   "codemirror_mode": {
    "name": "ipython",
    "version": 3
   },
   "file_extension": ".py",
   "mimetype": "text/x-python",
   "name": "python",
   "nbconvert_exporter": "python",
   "pygments_lexer": "ipython3",
   "version": "3.5.1"
  },
  "widgets": {
   "state": {},
   "version": "1.1.1"
  }
 },
 "nbformat": 4,
 "nbformat_minor": 0
}
