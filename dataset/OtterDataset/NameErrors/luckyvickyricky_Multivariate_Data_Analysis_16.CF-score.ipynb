{
 "cells": [
  {
   "metadata": {},
   "cell_type": "markdown",
   "source": "# Chisquare test",
   "id": "983b147e3f037338"
  },
  {
   "cell_type": "code",
   "id": "initial_id",
   "metadata": {
    "collapsed": true,
    "ExecuteTime": {
     "end_time": "2024-06-17T17:36:20.794738Z",
     "start_time": "2024-06-17T17:36:20.676361Z"
    }
   },
   "source": [
    "import pandas as pd\n",
    "import numpy as np\n",
    "import matplotlib.pyplot as plt\n",
    "import seaborn as sns\n",
    "import warnings\n",
    "# ignore warnings\n",
    "import scipy.stats as stats\n",
    "warnings.filterwarnings('ignore')\n",
    "##### Read & preprocess the data (from kostat) #####\n",
    "df_raw23 = pd.read_csv('data\\\\2023_household.csv',encoding='CP949')\n",
    "selected_cols = [\"조사연도\",\"수도권여부\",\"MD제공용_가구고유번호\",\"가구주_성별코드\",\"가구주_만연령\",\"가구원수\",\"가구주_교육정도_학력코드\",\"가구주_혼인상태코드\",\"자산\",\"부채\",\"처분가능소득(보완)[경상소득(보완)-비소비지출(보완)]\",\"가구주_산업대분류코드\",\"가구주_직업대분류코드\",\"입주형태코드\"]\n",
    "df23 = df_raw23[selected_cols]\n",
    "df23.rename(columns={\"조사연도\":\"year\",\"수도권여부\":\"metro\",\"MD제공용_가구고유번호\":\"id\",\"가구주_성별코드\":\"sex\",\"가구주_만연령\":\"age\",\"가구원수\":\"number\",\"가구주_교육정도_학력코드\":\"education\",\"가구주_혼인상태코드\":\"marriage\",\"자산\":\"asset\",\"부채\":\"debt\",\"처분가능소득(보완)[경상소득(보완)-비소비지출(보완)]\":\"income\",\"가구주_산업대분류코드\":\"industry\",\"가구주_직업대분류코드\":\"job\",\"입주형태코드\":\"house\"},inplace=True)\n",
    "print(df23.info())"
   ],
   "execution_count": 11,
   "outputs": []
  },
  {
   "cell_type": "code",
   "source": [
    "##### Test of income difference according to occupation #####\n",
    "##### occupational types #####\n",
    "# 1 : 관리자\n",
    "# 2 : 전문가 및 관련 종사자\n",
    "# 3 : 사무 종사자\n",
    "# 4 : 서비스 종사자\n",
    "# 5 : 판매 종사자\n",
    "# 6 : 농림어업 숙련？종사자\n",
    "# 7 : 기능원 및 관련 기능 종사자\n",
    "# 8 : 장치,기계조작 및 조립 종사자\n",
    "# 9 : 단순노무 종사자\n",
    "# A : 군인\n",
    "\n",
    "# 'job' 컬럼의 고유 값을 출력하여 데이터프레임에 존재하는 직업 유형을 확인합니다.\n",
    "print(\"Job category : \", df23['job'].unique())\n",
    "# 데이터프레임에서 'sex'와 'job' 컬럼만 선택하여 새로운 데이터프레임을 생성합니다.\n",
    "df23 = df23[['sex', 'job']]\n",
    "# 데이터프레임의 정보를 출력하여 데이터 구조와 각 컬럼의 데이터 타입, 누락 값을 확인합니다.\n",
    "print(df23.info())\n"
   ],
   "metadata": {
    "collapsed": false,
    "ExecuteTime": {
     "end_time": "2024-06-17T17:36:21.571821Z",
     "start_time": "2024-06-17T17:36:21.564997Z"
    }
   },
   "id": "1f6cceae3448250d",
   "execution_count": 12,
   "outputs": []
  },
  {
   "cell_type": "code",
   "source": [
    "print(\"# of nulls :\", df23['job'].isnull().sum())\n",
    "df23 = df23.dropna()\n",
    "print(df23.info())"
   ],
   "metadata": {
    "collapsed": false,
    "ExecuteTime": {
     "end_time": "2024-06-17T17:36:22.606365Z",
     "start_time": "2024-06-17T17:36:22.599270Z"
    }
   },
   "id": "fd2481aad35ace6a",
   "execution_count": 13,
   "outputs": []
  },
  {
   "cell_type": "code",
   "source": [
    "##### Option: Removal of groups (soldiers) comprised mostly of men. (as a duty in Korea)#####\n",
    "## 군인같은 특수 카테고리 없애기(특히 군인은 남성같은 경우 원하지 않은 직업선택일 수 있으므로 비교에 부적합)\n",
    "df23 = df23.drop(df23[(df23.job==\"A\")].index)\n",
    "print(df23.info())"
   ],
   "metadata": {
    "collapsed": false,
    "ExecuteTime": {
     "end_time": "2024-06-17T17:36:23.591158Z",
     "start_time": "2024-06-17T17:36:23.584238Z"
    }
   },
   "id": "6c578d200d96eafe",
   "execution_count": 14,
   "outputs": []
  },
  {
   "cell_type": "code",
   "source": [
    "##### 관측 빈도 표시: 직업별 성별 분포 #####\n",
    "# 관측 빈도 출력\n",
    "print(\"##### Observation Frequency #####\")\n",
    "# 성별과 직업별로 교차표를 생성하고, 총합을 포함합니다.\n",
    "tab1 = pd.crosstab(df23.sex, df23.job, margins=True)  # margins=True : 총합 값을 포함합니다.\n",
    "# 성별과 직업별로 교차표를 생성합니다 (총합 포함 없이).\n",
    "tab2 = pd.crosstab(df23.sex, df23.job)\n",
    "# 교차표를 출력합니다.\n",
    "print(tab1)"
   ],
   "metadata": {
    "collapsed": false,
    "ExecuteTime": {
     "end_time": "2024-06-19T04:39:08.826757Z",
     "start_time": "2024-06-19T04:39:08.434829Z"
    }
   },
   "id": "2d383514a5b05fa1",
   "outputs": [
    {
     "name": "stdout",
     "output_type": "stream",
     "text": [
      "##### Observation Frequency #####\n"
     ]
    },
    {
     "ename": "NameError",
     "evalue": "name 'pd' is not defined",
     "output_type": "error",
     "traceback": [
      "\u001B[1;31m---------------------------------------------------------------------------\u001B[0m",
      "\u001B[1;31mNameError\u001B[0m                                 Traceback (most recent call last)",
      "Cell \u001B[1;32mIn[1], line 5\u001B[0m\n\u001B[0;32m      3\u001B[0m \u001B[38;5;28mprint\u001B[39m(\u001B[38;5;124m\"\u001B[39m\u001B[38;5;124m##### Observation Frequency #####\u001B[39m\u001B[38;5;124m\"\u001B[39m)\n\u001B[0;32m      4\u001B[0m \u001B[38;5;66;03m# 성별과 직업별로 교차표를 생성하고, 총합을 포함합니다.\u001B[39;00m\n\u001B[1;32m----> 5\u001B[0m tab1 \u001B[38;5;241m=\u001B[39m pd\u001B[38;5;241m.\u001B[39mcrosstab(df23\u001B[38;5;241m.\u001B[39msex, df23\u001B[38;5;241m.\u001B[39mjob, margins\u001B[38;5;241m=\u001B[39m\u001B[38;5;28;01mTrue\u001B[39;00m)  \u001B[38;5;66;03m# margins=True : 총합 값을 포함합니다.\u001B[39;00m\n\u001B[0;32m      6\u001B[0m \u001B[38;5;66;03m# 성별과 직업별로 교차표를 생성합니다 (총합 포함 없이).\u001B[39;00m\n\u001B[0;32m      7\u001B[0m tab2 \u001B[38;5;241m=\u001B[39m pd\u001B[38;5;241m.\u001B[39mcrosstab(df23\u001B[38;5;241m.\u001B[39msex, df23\u001B[38;5;241m.\u001B[39mjob)\n",
      "\u001B[1;31mNameError\u001B[0m: name 'pd' is not defined"
     ]
    }
   ],
   "execution_count": 1
  },
  {
   "cell_type": "code",
   "source": "print(tab2)",
   "metadata": {
    "collapsed": false,
    "ExecuteTime": {
     "end_time": "2024-06-17T17:36:29.744958Z",
     "start_time": "2024-06-17T17:36:29.741043Z"
    }
   },
   "id": "19efa0ac0bb8b361",
   "execution_count": 16,
   "outputs": []
  },
  {
   "cell_type": "markdown",
   "source": "",
   "metadata": {
    "collapsed": false
   },
   "id": "887aee13af830d6a"
  },
  {
   "cell_type": "code",
   "source": [
    "##### Calculate the expected frequency #####\n",
    "### number of people\n",
    "tot = tab1.iloc[-1, -1]  # total number of people (13330)\n",
    "\n",
    "j_1 = tab1.iloc[-1, 0]   # 실제 직업1을 가진 사람 수\n",
    "j_2 = tab1.iloc[-1, 1]\n",
    "j_3 = tab1.iloc[-1, 2]\n",
    "j_4 = tab1.iloc[-1, 3]\n",
    "j_5 = tab1.iloc[-1, 4]\n",
    "j_6 = tab1.iloc[-1, 5]\n",
    "j_7 = tab1.iloc[-1, 6]\n",
    "j_8 = tab1.iloc[-1, 7]\n",
    "j_9 = tab1.iloc[-1, 8]\n",
    "\n",
    "tot_m = tab1.iloc[0, -1]  # 실제 남자 인원수 (10215)\n",
    "tot_f = tab1.iloc[1, -1]  # 실제 여자 인원수 (3115)\n"
   ],
   "metadata": {
    "collapsed": false,
    "ExecuteTime": {
     "end_time": "2024-06-17T17:36:32.152043Z",
     "start_time": "2024-06-17T17:36:32.147490Z"
    }
   },
   "id": "adac1d33b95c706c",
   "execution_count": 17,
   "outputs": []
  },
  {
   "cell_type": "code",
   "source": [
    "##### Calculate the expected frequency #####\n",
    "### make the tab2\n",
    "tab2 = pd.crosstab(df23.sex, df23.job, margins=True)\n",
    "\n",
    "p_m = tot_m / tot  # 전체 인구 중 남자인구의 비율\n",
    "p_f = tot_f / tot  # 전체 인구 중 여자인구의 비율\n",
    "\n",
    "p_j1 = j_1 / tot   #전체 직업 중 1번 직업의 비율\n",
    "p_j2 = j_2 / tot\n",
    "p_j3 = j_3 / tot\n",
    "p_j4 = j_4 / tot\n",
    "p_j5 = j_5 / tot\n",
    "p_j6 = j_6 / tot\n",
    "p_j7 = j_7 / tot\n",
    "p_j8 = j_8 / tot\n",
    "p_j9 = j_9 / tot\n",
    "\n",
    "# Expected # of men in each occupation\n",
    "tab2.iloc[0, 0] = tot * p_m * p_j1 # 이상적인 직업 1중 남자의 명수(전체*남자비율 = 남자인원, 남자인원* 직업1비율)\n",
    "tab2.iloc[0, 1] = tot * p_m * p_j2\n",
    "tab2.iloc[0, 2] = tot * p_m * p_j3\n",
    "tab2.iloc[0, 3] = tot * p_m * p_j4\n",
    "tab2.iloc[0, 4] = tot * p_m * p_j5\n",
    "tab2.iloc[0, 5] = tot * p_m * p_j6\n",
    "tab2.iloc[0, 6] = tot * p_m * p_j7\n",
    "tab2.iloc[0, 7] = tot * p_m * p_j8\n",
    "tab2.iloc[0, 8] = tot * p_m * p_j9\n",
    "tab2.iloc[0, 9] = sum(tab2.iloc[0, 0:9])\n",
    "\n",
    "# Expected # of women in each occupation\n",
    "tab2.iloc[1, 0] = tot * p_f * p_j1\n",
    "tab2.iloc[1, 1] = tot * p_f * p_j2\n",
    "tab2.iloc[1, 2] = tot * p_f * p_j3\n",
    "tab2.iloc[1, 3] = tot * p_f * p_j4\n",
    "tab2.iloc[1, 4] = tot * p_f * p_j5\n",
    "tab2.iloc[1, 5] = tot * p_f * p_j6\n",
    "tab2.iloc[1, 6] = tot * p_f * p_j7\n",
    "tab2.iloc[1, 7] = tot * p_f * p_j8\n",
    "tab2.iloc[1, 8] = tot * p_f * p_j9\n",
    "tab2.iloc[1, 9] = sum(tab2.iloc[1, 0:9])"
   ],
   "metadata": {
    "collapsed": false,
    "ExecuteTime": {
     "end_time": "2024-06-17T17:36:35.152614Z",
     "start_time": "2024-06-17T17:36:35.134796Z"
    }
   },
   "id": "dcf25303ee37c085",
   "execution_count": 18,
   "outputs": []
  },
  {
   "metadata": {
    "ExecuteTime": {
     "end_time": "2024-06-17T17:36:36.746326Z",
     "start_time": "2024-06-17T17:36:36.741554Z"
    }
   },
   "cell_type": "code",
   "source": [
    "##### Calculate the expected frequency #####\n",
    "##### Display the observation frequency: Gender distribution by job #####\n",
    "print (\"##### Expected Frequency####\")\n",
    "print (tab2)"
   ],
   "id": "b290a707144a32ad",
   "execution_count": 19,
   "outputs": []
  },
  {
   "metadata": {
    "ExecuteTime": {
     "end_time": "2024-06-17T18:29:36.813302Z",
     "start_time": "2024-06-17T18:29:36.795271Z"
    }
   },
   "cell_type": "code",
   "source": [
    "##### Observation - Expectation #####\n",
    "############# diff 구하기 ############\n",
    "tab3 = pd.crosstab(df23.sex, df23.job, margins=True)\n",
    "\n",
    "num_rows = tab3.shape[0]\n",
    "num_cols = tab3.shape[1]\n",
    "\n",
    "for i in range(num_rows):\n",
    "    for j in range(num_cols):\n",
    "        tab3.iloc[i, j] = tab1.iloc[i, j] - tab2.iloc[i, j]\n",
    "\n",
    "print(\"##### Observations - Expected #####\")\n",
    "print(tab3)\n"
   ],
   "id": "47ed4a853fdeba59",
   "execution_count": 20,
   "outputs": []
  },
  {
   "metadata": {
    "ExecuteTime": {
     "end_time": "2024-06-17T18:31:36.641470Z",
     "start_time": "2024-06-17T18:31:36.633492Z"
    }
   },
   "cell_type": "code",
   "source": [
    "##### Chi-square score #####\n",
    "chi_square = []\n",
    "\n",
    "for i in range(num_rows):\n",
    "    for j in range(num_cols):\n",
    "        t = (tab1.iloc[i, j] - tab2.iloc[i, j])**2 / tab2.iloc[i, j]\n",
    "        chi_square.append(t)\n",
    "\n",
    "DF = (num_rows - 1) * (num_cols - 1)\n",
    "chi_square_tot = sum(chi_square)\n",
    "print(\"Chi-square score:\", round(chi_square_tot, 4))\n",
    "\n",
    "##### Chi-square test #####\n",
    "import scipy.stats as stats\n",
    "p_value = 1 - stats.chi2.cdf(chi_square_tot, DF)\n",
    "print(\"P-value:\", p_value)\n"
   ],
   "id": "7e0f7a8efc2be47b",
   "execution_count": 21,
   "outputs": []
  },
  {
   "metadata": {},
   "cell_type": "markdown",
   "source": [
    "# F-test(ANOVA)\n",
    "**분산 분석 (ANOVA)**\n",
    "\n",
    "- ANOVA는 세 개 이상의 독립적인 (서로 관련 없는) 그룹 간 평균에 통계적으로 유의한 차이가 있는지를 결정하는 데 사용\n",
    "- 그룹 평균 간의 관찰된 변동이 실제 차이로 인한 것인지 아니면 무작위 요인으로 인한 것인지 판별\n",
    "\n",
    "- ANOVA를 올바르게 적용하려면 몇 가지 가정을 충족해야 한다.\n",
    "  1. 서로 다른 그룹의 데이터는 서로 독립적이어야 한다.\n",
    "  2. 각 그룹 내의 데이터는 대략적으로 정규 분포를 따라야 한다.\n",
    "  3. 그룹 간의 분산은 대략적으로 같아야 한다 (동분산성)."
   ],
   "id": "307ba18bfb2b4e71"
  },
  {
   "metadata": {},
   "cell_type": "markdown",
   "source": [
    "**ANOVA 수행 단계**\n",
    "\n",
    "1. 가설 설정:\n",
    "   - 귀무 가설 (H₀): 모든 그룹 평균이 동일합니다 ($\\mu_1=\\mu_2=\\mu_3=…=\\mu_k$).\n",
    "   - 대립 가설 (H₁): 최소한 하나의 그룹 평균이 다릅니다.\n",
    "\n",
    "2. F-통계량 계산:\n",
    "   - F-통계량은 그룹 간 분산과 그룹 내 분산의 비율입니다.\n",
    "   - 그룹 간 분산: 그룹 간의 상호작용으로 인한 변동을 측정합니다.\n",
    "   - 그룹 내 분산: 각 그룹 내의 변동을 측정합니다.\n",
    "   - F = (그룹 간 변동 / 그룹 내 변동)\n",
    "\n",
    "3. F-통계량 분석:\n",
    "   - 계산된 F-값을 지정된 유의 수준(일반적으로 0.05)의 F-분포 표에서 중요한 값과 비교합니다.\n",
    "   - F-통계량에 해당하는 p-값이 유의 수준보다 작으면 귀무 가설을 기각합니다."
   ],
   "id": "f28fd821dc87694b"
  },
  {
   "metadata": {},
   "cell_type": "markdown",
   "source": [
    "**결과 해석**\n",
    "\n",
    "- Significant Result (p < 0.05): 그룹 평균 간에 통계적으로 유의한 차이가 있음을 나타냅니다. 특정 그룹 간 차이를 식별하기 위해 추가 사후 검정(예: Tukey의 HSD)이 자주 수행됩니다.\n",
    "\n",
    "- Non significant Result (p >= 0.05): 그룹 평균 간에 유의한 차이가 있다는 증거가 없음을 시사합니다.\n",
    "\n",
    "**ANOVA의 응용**\n",
    "\n",
    "- ANOVA는 심리학, 교육, 의학, 비즈니스 등 다양한 분야에서 그룹 평균 간의 차이에 대한 가설을 테스트하는 데 널리 사용됩니다. 여러 치료나 조건을 비교하는 실험 설계에서 특히 유용합니다."
   ],
   "id": "33fe20d809f87ca2"
  },
  {
   "metadata": {},
   "cell_type": "markdown",
   "source": [
    "**ANOVA의 종류**\n",
    "\n",
    "- One way ANOVA: 하나의 독립 변수를 기준으로 세 개 이상의 그룹 평균을 비교할 때 사용됩니다. 단일 요인의 영향을 평가합니다.\n",
    "\n",
    "  - 예: 연구자가 다른 다이어트가 체중 감량에 미치는 영향을 조사하고자 합니다. 독립 변수는 다이어트 유형(Diet A, Diet B, Diet C)이고, 종속 변수는 특정 기간 후의 체중 감량량입니다.\n",
    "  - 귀무 가설 (H₀): 세 가지 다이어트 모두에서 평균 체중 감량이 동일합니다 ($\\mu_1=\\mu_2=\\mu_3$).\n",
    "  - 대립 가설 (H₁): 최소한 하나의 다이어트가 다른 평균 체중 감량을 초래합니다."
   ],
   "id": "f8dfaa1181c94c30"
  },
  {
   "metadata": {},
   "cell_type": "markdown",
   "source": "연구자는 각각의 다이어트를 따르는 세 그룹의 참가자들로부터 체중 감량 데이터를 수집합니다. 일원 ANOVA를 수행하여 연구자는 세 다이어트 그룹 간에 평균 체중 감량의 유의한 차이가 있는지 여부를 확인할 수 있습니다.",
   "id": "8edac64151ad41a5"
  },
  {
   "metadata": {},
   "cell_type": "markdown",
   "source": [
    "**Two way ANOVA: 두 개의 독립 변수가 종속 변수에 미치는 영향을 조사할 때 사용됩니다. 각 요인의 주 효과와 그들 간의 상호작용 효과를 평가할 수 있습니다.**\n",
    "\n",
    "- 예: 연구자가 다른 교수 방법과 학생 성별이 시험 점수에 미치는 영향을 연구하고자 합니다. 독립 변수는 교수 방법(Method A, Method B)과 성별(Male, Female)이며, 종속 변수는 시험 점수입니다.\n",
    "\n",
    "- 귀무 가설 (H₀):\n",
    "  - 교수 방법 간 시험 점수 평균에 차이가 없습니다 ($\\mu$Method A=$\\mu$MethodB).\n",
    "  - 성별 간 시험 점수 평균에 차이가 없습니다 ($\\mu$Male=$\\mu$Female).\n",
    "  - 교수 방법과 성별이 시험 점수에 미치는 상호작용 효과가 없습니다.\n",
    "\n",
    "- 대립 가설 (H₁):\n",
    "  - 최소한 하나의 교수 방법이 다른 평균 시험 점수를 초래합니다.\n",
    "  - 최소한 한 성별이 다른 평균 시험 점수를 가집니다.\n",
    "  - 교수 방법과 성별 간의 상호작용 효과가 있습니다.\n",
    "    - 위 3가지에 대해 각각의 sig level과 p-value가 존재한다"
   ],
   "id": "7fa2e4a7a4f617c"
  },
  {
   "metadata": {},
   "cell_type": "markdown",
   "source": [
    "연구자는 두 가지 교수 방법을 사용하여 가르친 남학생과 여학생의 시험 점수를 수집합니다. 이원 ANOVA를 수행하여 연구자는 다음을 확인할 수 있습니다:\n",
    "\n",
    "교수 방법이 시험 점수에 유의한 영향을 미치는지 여부.\n",
    "성별이 시험 점수에 유의한 영향을 미치는지 여부.\n",
    "교수 방법과 성별 간에 상호작용 효과가 시험 점수에 유의한 영향을 미치는지 여부."
   ],
   "id": "18443c3178624975"
  },
  {
   "metadata": {},
   "cell_type": "markdown",
   "source": "![IMG](MDA16_1.png)",
   "id": "3f3958b139b557e6"
  },
  {
   "metadata": {},
   "cell_type": "markdown",
   "source": [
    "예시: 연령대별로 하루에 인스타그램 사용 횟수가 다른지 알아봅시다 (20대, 30대, 40대). 각 연령대에서 세 명의 개인을 관찰하여 인스타그램 애플리케이션을 얼마나 자주 사용하는지 확인했습니다.\n",
    "\n",
    "![IMG](MDA16_2.png)"
   ],
   "id": "572b817316434133"
  },
  {
   "metadata": {
    "ExecuteTime": {
     "end_time": "2024-06-18T08:46:21.661155Z",
     "start_time": "2024-06-18T08:46:21.527751Z"
    }
   },
   "cell_type": "code",
   "source": [
    "import pandas as pd\n",
    "import numpy as np\n",
    "import matplotlib.pyplot as plt\n",
    "import seaborn as sns\n",
    "import warnings\n",
    "\n",
    "# ignore warnings\n",
    "warnings.filterwarnings('ignore')\n",
    "\n",
    "##### Read & preprocess the data (from kostat) #####\n",
    "df_raw23 = pd.read_csv('data\\\\2023_household.csv', encoding='CP949')\n",
    "\n",
    "selected_cols = [\n",
    "    \"조사연도\", \"수도권여부\", \"MD제공용_가구고유번호\", \"가구주_성별코드\", \"가구주_만연령\", \"가구원수\",\n",
    "    \"가구주_교육정도_학력코드\", \"가구주_혼인상태코드\", \"자산\", \"부채\",\n",
    "    \"처분가능소득(보완)[경상소득(보완)-비소비지출(보완)]\", \"가구주_산업대분류코드\", \"가구주_직업대분류코드\",\n",
    "    \"입주형태코드\"\n",
    "]\n",
    "\n",
    "df23 = df_raw23[selected_cols]\n",
    "df23.rename(columns={\n",
    "    \"조사연도\": \"year\", \"수도권여부\": \"metro\", \"MD제공용_가구고유번호\": \"id\", \"가구주_성별코드\": \"sex\",\n",
    "    \"가구주_만연령\": \"age\", \"가구원수\": \"number\", \"가구주_교육정도_학력코드\": \"education\",\n",
    "    \"가구주_혼인상태코드\": \"marriage\", \"자산\": \"asset\", \"부채\": \"debt\",\n",
    "    \"처분가능소득(보완)[경상소득(보완)-비소비지출(보완)]\": \"income\",\n",
    "    \"가구주_산업대분류코드\": \"industry\", \"가구주_직업대분류코드\": \"job\", \"입주형태코드\": \"house\"\n",
    "}, inplace=True)\n",
    "\n",
    "print(df23.info())\n"
   ],
   "id": "6cbf76c43da272fd",
   "execution_count": 2,
   "outputs": []
  },
  {
   "metadata": {
    "ExecuteTime": {
     "end_time": "2024-06-18T08:46:21.975969Z",
     "start_time": "2024-06-18T08:46:21.965750Z"
    }
   },
   "cell_type": "code",
   "source": [
    "##### Test of income difference according to education level #####\n",
    "df23 = df23[['income', 'education']]\n",
    "print(\"Education Level : \", df23['education'].unique())\n",
    "\n",
    "##### Option : Remove the outliers #####\n",
    "# fare_q3 = df23['income'].quantile(q=0.75)\n",
    "# fare_q1 = df23['income'].quantile(q=0.25)\n",
    "# fare_iqr = fare_q3 - fare_q1\n",
    "# condition = df23['income'] <= 3 * fare_iqr\n",
    "# df23 = df23[condition]\n",
    "\n",
    "##### Group into 3 groups #####\n",
    "target1 = [1, 2, 3]\n",
    "target2 = [4, 5]\n",
    "target3 = [6, 7, 8]\n",
    "\n",
    "df23 = df23.loc[df23['education'].isin(target1 + target2 + target3)]\n",
    "df23_L = df23.loc[df23['education'].isin(target1)]\n",
    "df23_M = df23.loc[df23['education'].isin(target2)]\n",
    "df23_H = df23.loc[df23['education'].isin(target3)]\n",
    "print(df23_L.tail(10))\n",
    "\n",
    "##### Education levels #####\n",
    "# 1: 안받음(미취학포함)\n",
    "# 2: 초등학교\n",
    "# 3: 중학교\n",
    "# 4: 고등학교\n",
    "# 5: 대학(3년제 이하)\n",
    "# 6: 대학교(4년제 이상)\n",
    "# 7: 대학원석사\n",
    "# 8: 대학원박사 이상\n"
   ],
   "id": "7b2910f40b36d2ff",
   "execution_count": 3,
   "outputs": []
  },
  {
   "cell_type": "code",
   "source": [
    "##### Select only income data #####\n",
    "df23_ic = df23['income']\n",
    "df23_L_ic = df23_L['income']\n",
    "df23_M_ic = df23_M['income']\n",
    "df23_H_ic = df23_H['income']\n",
    "\n",
    "##### Plot income distribution among three groups #####\n",
    "import seaborn as sns\n",
    "import matplotlib.pyplot as plt\n",
    "\n",
    "plt.figure(figsize=(8, 4))\n",
    "sns.distplot(df23_L_ic, hist=False, label='Low Education')\n",
    "sns.distplot(df23_M_ic, hist=False, label='Medium Education')\n",
    "sns.distplot(df23_H_ic, hist=False, label='High Education')\n",
    "# plt.xlim(-50000, 50000)\n",
    "plt.title('Income Distribution by Education Level')\n",
    "plt.legend()\n",
    "plt.show()\n"
   ],
   "metadata": {
    "collapsed": false,
    "ExecuteTime": {
     "end_time": "2024-06-18T08:46:22.626588Z",
     "start_time": "2024-06-18T08:46:22.338015Z"
    }
   },
   "id": "19471d16faa7b320",
   "execution_count": 4,
   "outputs": []
  },
  {
   "cell_type": "code",
   "source": [
    "##### Calculate the F-score #####\n",
    "\n",
    "### 1. Means of each group\n",
    "mean = df23_ic.mean()\n",
    "mean_L = df23_L_ic.mean()\n",
    "mean_M = df23_M_ic.mean()\n",
    "mean_H = df23_H_ic.mean()\n",
    "print(\"\\n1. Total mean:\", mean)\n",
    "print(\"   Group1's mean:\", mean_L)\n",
    "print(\"   Group2's mean:\", mean_M)\n",
    "print(\"   Group3's mean:\", mean_H)\n",
    "\n",
    "### 2. SSb (Sum of squares of between-group variance)\n",
    "SSb_L = ((mean_L - mean) ** 2) * len(df23_L_ic)\n",
    "SSb_M = ((mean_M - mean) ** 2) * len(df23_M_ic)\n",
    "SSb_H = ((mean_H - mean) ** 2) * len(df23_H_ic)\n",
    "SSb = SSb_L + SSb_M + SSb_H\n",
    "print(\"2. SSb:\", SSb)\n",
    "\n",
    "### 3. SSw (Sum of squares of within-group variance)\n",
    "SSw_L = sum((df23_L_ic - mean_L) ** 2)\n",
    "SSw_M = sum((df23_M_ic - mean_M) ** 2)\n",
    "SSw_H = sum((df23_H_ic - mean_H) ** 2)\n",
    "SSw = SSw_L + SSw_M + SSw_H\n",
    "print(\"3. SSw:\", SSw)\n",
    "\n",
    "### 4. SSt (Sum of squares of total variance)\n",
    "SSt = sum((df23_ic - mean) ** 2)\n",
    "print(\"4. SSt:\", SSt)\n"
   ],
   "metadata": {
    "collapsed": false,
    "ExecuteTime": {
     "end_time": "2024-06-18T08:46:22.924597Z",
     "start_time": "2024-06-18T08:46:22.917950Z"
    }
   },
   "id": "48671bbbbb103a87",
   "execution_count": 5,
   "outputs": []
  },
  {
   "metadata": {
    "ExecuteTime": {
     "end_time": "2024-06-18T08:49:09.229074Z",
     "start_time": "2024-06-18T08:49:09.226143Z"
    }
   },
   "cell_type": "code",
   "source": [
    "##### Calculate the F-score #####\n",
    "\n",
    "### 5. Degree of freedoms\n",
    "k = 3\n",
    "n = len(df23)\n",
    "DFb = k - 1\n",
    "DFw = n - k\n",
    "DFt = n - 1\n",
    "print(\"5. DFb: %d, DFw: %d, DFt: %d\" % (DFb, DFw, DFt))\n",
    "\n",
    "### 6. Mean squares\n",
    "MSb = SSb / DFb\n",
    "MSw = SSw / DFw\n",
    "print(\"6. MSb: %f, MSw: %f\" % (MSb, MSw))\n"
   ],
   "id": "be653beda8de580d",
   "execution_count": 6,
   "outputs": []
  },
  {
   "metadata": {
    "ExecuteTime": {
     "end_time": "2024-06-18T08:49:31.843023Z",
     "start_time": "2024-06-18T08:49:31.838762Z"
    }
   },
   "cell_type": "code",
   "source": [
    "##### Calculate the F-score #####\n",
    "\n",
    "### 7. F-score\n",
    "f_score = MSb / MSw\n",
    "print(\"\\n7. F_score:\", f_score)\n",
    "\n",
    "### 8. P-value (Significant level)\n",
    "import scipy as sp\n",
    "import scipy.stats\n",
    "\n",
    "rv = sp.stats.f(DFb, DFw)     # A normal continuous random variable (mu=0, var=1)\n",
    "p_value = np.round(1 - rv.cdf(f_score), 5)\n",
    "print(\"8. Significant Level (p-value):\", p_value)\n"
   ],
   "id": "139c83a6748005e4",
   "execution_count": 8,
   "outputs": []
  },
  {
   "metadata": {
    "ExecuteTime": {
     "end_time": "2024-06-18T08:49:43.673733Z",
     "start_time": "2024-06-18T08:49:43.669638Z"
    }
   },
   "cell_type": "code",
   "source": [
    "\n",
    "\n",
    "##### Hypothesis Test #####\n",
    "print(\"\\n### Hypothesis Test ###\\nConsidering a 5% significance level,\")\n",
    "if p_value < 0.05:\n",
    "    print(\"p_value(%f) < 0.05, therefore reject H0, and accept H1.\" % p_value)\n",
    "else:\n",
    "    print(\"p_value(%f) > 0.05, therefore, Cannot reject H0.\" % p_value)\n",
    "\n",
    "### 9. Another way to get F-score & P-value (Significant level)\n",
    "print(\"\\n*** Another way: \")\n",
    "f_statistics, p_value = sp.stats.f_oneway(df23_L_ic, df23_M_ic, df23_H_ic)\n",
    "print(\"f-score\", f_statistics)\n",
    "print(\"p-value:\", p_value)\n"
   ],
   "id": "8760f340f72d475b",
   "execution_count": 10,
   "outputs": []
  },
  {
   "metadata": {},
   "cell_type": "code",
   "execution_count": null,
   "source": " ",
   "id": "7ec0c211850dab6d",
   "outputs": []
  }
 ],
 "metadata": {
  "kernelspec": {
   "display_name": "Python 3",
   "language": "python",
   "name": "python3"
  },
  "language_info": {
   "codemirror_mode": {
    "name": "ipython",
    "version": 2
   },
   "file_extension": ".py",
   "mimetype": "text/x-python",
   "name": "python",
   "nbconvert_exporter": "python",
   "pygments_lexer": "ipython2",
   "version": "2.7.6"
  }
 },
 "nbformat": 4,
 "nbformat_minor": 5
}
