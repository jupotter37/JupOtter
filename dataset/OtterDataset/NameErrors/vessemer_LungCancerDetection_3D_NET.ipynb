{
 "cells": [
  {
   "cell_type": "code",
   "execution_count": 3,
   "metadata": {
    "collapsed": false,
    "scrolled": false
   },
   "outputs": [
    {
     "name": "stdout",
     "output_type": "stream",
     "text": [
      "Populating the interactive namespace from numpy and matplotlib\n"
     ]
    }
   ],
   "source": [
    "import sys\n",
    "sys.path.append('../')\n",
    "sys.path.append('../Nets/')\n",
    "from glob import glob\n",
    "from os.path import join, isfile, basename\n",
    "\n",
    "from multiprocessing import Pool, cpu_count\n",
    "from scipy.ndimage.interpolation import rotate\n",
    "from keras.callbacks import ModelCheckpoint\n",
    "from keras.optimizers import adam\n",
    "from tqdm import tqdm\n",
    "from keras.callbacks import Callback\n",
    "from functools import partial\n",
    "from Nodule import *\n",
    "%pylab inline\n",
    "from NoduleClf import*\n",
    "import pandas as pd\n",
    "from paths import *\n",
    "\n",
    "\n",
    "%load_ext autoreload\n",
    "%autoreload 1\n",
    "%aimport ResNetCLF\n",
    "\n",
    "CPU = cpu_count()"
   ]
  },
  {
   "cell_type": "code",
   "execution_count": 4,
   "metadata": {
    "collapsed": true
   },
   "outputs": [],
   "source": [
    "TEST_FOLD = str(2)\n",
    "VALID_FOLD = str(3)\n",
    "SHIFT = 2\n",
    "OVERSAMPLING = .7\n",
    "UNDERSAMPLING = 8\n",
    "LOWER = -1000\n",
    "UPPER = 400\n",
    "IN_SHAPE = [(18, 42, 42, 1), \n",
    "            (36, 20, 42, 1), \n",
    "            (36, 42, 20, 1)]\n",
    "\n",
    "STRIDES = [(1, 2, 2), \n",
    "           (2, 1, 2), \n",
    "           (2, 2, 1)]\n",
    "\n",
    "OUT_SHAPE = (18, 22, 22, 1)\n",
    "CPU = 6"
   ]
  },
  {
   "cell_type": "code",
   "execution_count": 5,
   "metadata": {
    "collapsed": true
   },
   "outputs": [],
   "source": [
    "def manipulate_samples(reserved, undersampling=2, oversampling=.7):\n",
    "    random.shuffle(reserved)\n",
    "    new_paths = [path for path in reserved \n",
    "                 if 'nodule' in path.lower()]\n",
    "    \n",
    "    new_paths = new_paths[: int(oversampling * len(new_paths))]\n",
    "    new_paths += [path for path in reserved \n",
    "                  if 'nodule' not in path.lower()][:undersampling * len(new_paths)]\n",
    "    random.shuffle(new_paths)\n",
    "    return new_paths"
   ]
  },
  {
   "cell_type": "code",
   "execution_count": 6,
   "metadata": {
    "collapsed": true
   },
   "outputs": [],
   "source": [
    "def on_finish(patch_paths, reserved, \n",
    "              undersampling, oversampling, shift):\n",
    "    if undersampling:\n",
    "        patch_paths = manipulate_samples(reserved, undersampling, oversampling)\n",
    "    else:\n",
    "        if shift:\n",
    "            random.shuffle(patch_paths)\n",
    "    return patch_paths"
   ]
  },
  {
   "cell_type": "code",
   "execution_count": 7,
   "metadata": {
    "collapsed": false
   },
   "outputs": [],
   "source": [
    "def augment_patch(patch, in_shape=IN_SHAPE, \n",
    "                  out_shape=OUT_SHAPE, shift=4):\n",
    "    \n",
    "    center = array(patch.shape) // 2 \n",
    "    \n",
    "    if shift:\n",
    "        shift = random.randint(-shift, shift, 3)\n",
    "        center += shift\n",
    "        if random.randint(0, 2):\n",
    "            patch = flip(patch, 1)\n",
    "        if random.randint(0, 2):\n",
    "            patch = flip(patch, 2)\n",
    "    \n",
    "    \n",
    "    lefts = array(in_shape)[:, :3] // 2\n",
    "    rights = array(in_shape)[:, :3] - lefts\n",
    "    patch = clip(patch, LOWER, UPPER) \n",
    "    patch = (patch - LOWER) / float(UPPER - LOWER)  \n",
    "    \n",
    "    in_patch = [patch[center[0] - left[0]: center[0] + right[0], \n",
    "                      center[1] - left[1]: center[1] + right[1], \n",
    "                      center[2] - left[2]: center[2] + right[2]]\n",
    "                for left, right in zip(lefts, rights)]\n",
    "    \n",
    "    return in_patch"
   ]
  },
  {
   "cell_type": "code",
   "execution_count": 8,
   "metadata": {
    "collapsed": false
   },
   "outputs": [],
   "source": [
    "def batch_generator(patch_paths, batch_size=32, \n",
    "                    in_shape=IN_SHAPE, \n",
    "                    out_shape=OUT_SHAPE,\n",
    "                    shift=4, CPU=24, \n",
    "                    undersampling=2, planes=3,\n",
    "                    CAE_mod=True,\n",
    "                    oversampling=.7\n",
    "                   ):\n",
    "    \n",
    "    counter = 0\n",
    "    reserved = patch_paths.copy()\n",
    "    if shift:\n",
    "        random.shuffle(patch_paths)\n",
    "        \n",
    "    if undersampling:\n",
    "        patch_paths = manipulate_samples(reserved, \n",
    "                                         undersampling, \n",
    "                                         oversampling)\n",
    "    \n",
    "    number_of_batches = ceil(len(patch_paths) \n",
    "                             / batch_size)\n",
    "    \n",
    "    while True:\n",
    "        batch_files = patch_paths[batch_size * counter:\n",
    "                                  batch_size * (counter + 1)]\n",
    "        \n",
    "        with Pool(CPU) as pool:\n",
    "            patch_list = pool.map(load, batch_files) \n",
    "        \n",
    "        augment = partial(augment_patch, \n",
    "                          in_shape=IN_SHAPE, \n",
    "                          shift=shift)\n",
    "        \n",
    "        with Pool(CPU) as pool:\n",
    "            patch_list = pool.map(augment, patch_list)\n",
    "        \n",
    "        counter += 1\n",
    "        labels = [[1, 0] if 'NODULE' in patch_path else [0, 1] \n",
    "                  for patch_path in batch_files]\n",
    "        yield ([expand_dims(asarray([patch[0] for patch in patch_list]), -1), \n",
    "                expand_dims(asarray([patch[1] for patch in patch_list]), -1), \n",
    "                expand_dims(asarray([patch[2] for patch in patch_list]), -1)], \n",
    "               asarray(labels))\n",
    "        \n",
    "        if counter == number_of_batches:\n",
    "            patch_paths = on_finish(patch_paths, \n",
    "                                    reserved, \n",
    "                                    undersampling,\n",
    "                                    oversampling,\n",
    "                                    shift) \n",
    "            counter = 0"
   ]
  },
  {
   "cell_type": "code",
   "execution_count": 9,
   "metadata": {
    "collapsed": false
   },
   "outputs": [],
   "source": [
    "# file_list = set([path for path in glob(join(PATH['LUNA_NODULES'], \n",
    "#                                             'subset*', '*.npy'))]\n",
    "#                 + [path for path in glob(join(PATH['LUNA_VESSELS'], \n",
    "#                                               'subset*', '*.npy'))])\n",
    "\n",
    "# test = [path for path in file_list \n",
    "#         if ''.join(['subset', TEST_FOLD]) in path]\n",
    "\n",
    "# file_list = list(file_list.difference(test))\n",
    "# valid = sorted([path for path in file_list \n",
    "#                 if ''.join(['subset', VALID_FOLD]) in path])\n",
    "\n",
    "# train = list(set(file_list).difference(valid[len(valid) // 2:]))\n",
    "# valid = valid[len(valid) // 2:]\n",
    "# save(join(PATH['WEIGHTS'], 'valid'), asarray(valid))\n",
    "# save(join(PATH['WEIGHTS'], 'train'), asarray(train))\n",
    "# save(join(PATH['WEIGHTS'], 'test'), asarray(test))"
   ]
  },
  {
   "cell_type": "code",
   "execution_count": 10,
   "metadata": {
    "collapsed": false
   },
   "outputs": [],
   "source": [
    "test = load(join(PATH['WEIGHTS'], 'test.npy'))\n",
    "valid = load(join(PATH['WEIGHTS'], 'valid.npy'))\n",
    "train = load(join(PATH['WEIGHTS'], 'train.npy'))"
   ]
  },
  {
   "cell_type": "code",
   "execution_count": 35,
   "metadata": {
    "collapsed": false
   },
   "outputs": [
    {
     "name": "stdout",
     "output_type": "stream",
     "text": [
      "The autoreload extension is already loaded. To reload it, use:\n",
      "  %reload_ext autoreload\n",
      "The autoreload extension is already loaded. To reload it, use:\n",
      "  %reload_ext autoreload\n"
     ]
    }
   ],
   "source": [
    "from FusionNet import *\n",
    "from ResNetAPI import *\n",
    "\n",
    "%load_ext autoreload\n",
    "%autoreload 1\n",
    "%aimport ResNetAPI\n",
    "\n",
    "\n",
    "SHIFT = 3\n",
    "%load_ext autoreload\n",
    "%autoreload 1\n",
    "%aimport FusionNet"
   ]
  },
  {
   "cell_type": "code",
   "execution_count": 21,
   "metadata": {
    "collapsed": false,
    "scrolled": true
   },
   "outputs": [],
   "source": [
    "clf_model = predictor(in_shape=IN_SHAPE, \n",
    "                      strides=STRIDES, \n",
    "                      out_shape=OUT_SHAPE,\n",
    "                      dropout_conv=.2, \n",
    "                      dropout_dence=.3,\n",
    "                      trainable=True\n",
    "                     )\n",
    "\n",
    "clf_model.compile('adam', 'categorical_crossentropy')"
   ]
  },
  {
   "cell_type": "code",
   "execution_count": 22,
   "metadata": {
    "collapsed": true
   },
   "outputs": [],
   "source": [
    "new_valid = manipulate_samples(valid.tolist(), UNDERSAMPLING)\n",
    "new_test = manipulate_samples(test.tolist(), UNDERSAMPLING, 1)\n",
    "new_train = manipulate_samples(train.tolist(), UNDERSAMPLING)"
   ]
  },
  {
   "cell_type": "code",
   "execution_count": 23,
   "metadata": {
    "collapsed": false
   },
   "outputs": [],
   "source": [
    "BATCH_SIZE = 32\n",
    "NB_EPOCH = 20\n",
    "\n",
    "train_generator = batch_generator(train.tolist(), \n",
    "                                  batch_size=BATCH_SIZE, \n",
    "                                  in_shape=IN_SHAPE,\n",
    "                                  out_shape=OUT_SHAPE,\n",
    "                                  shift=SHIFT,\n",
    "                                  undersampling=UNDERSAMPLING,\n",
    "                                  oversampling=OVERSAMPLING,\n",
    "                                  CAE_mod=False,\n",
    "                                  CPU=CPU)\n",
    "\n",
    "valid_generator = batch_generator(valid.tolist(), \n",
    "                                  batch_size=BATCH_SIZE, \n",
    "                                  in_shape=IN_SHAPE,\n",
    "                                  out_shape=OUT_SHAPE,\n",
    "                                  shift=0, \n",
    "                                  undersampling=0,\n",
    "                                  oversampling=OVERSAMPLING,\n",
    "                                  CAE_mod=False,\n",
    "                                  CPU=CPU)\n",
    "\n",
    "test_generator = batch_generator(new_test, \n",
    "                                 batch_size=BATCH_SIZE, \n",
    "                                 in_shape=IN_SHAPE,\n",
    "                                 out_shape=OUT_SHAPE,\n",
    "                                 shift=0, \n",
    "                                 undersampling=0,\n",
    "                                 oversampling=1,\n",
    "                                 CAE_mod=False,\n",
    "                                 CPU=CPU)"
   ]
  },
  {
   "cell_type": "code",
   "execution_count": 19,
   "metadata": {
    "collapsed": true
   },
   "outputs": [
    {
     "name": "stdout",
     "output_type": "stream",
     "text": [
      "Epoch 1/20\n",
      "58460/58464 [============================>.] - ETA: 0s - loss: 0.2101"
     ]
    },
    {
     "name": "stderr",
     "output_type": "stream",
     "text": [
      "/home/a.dobrenkii/anaconda3/lib/python3.5/site-packages/keras/engine/training.py:1573: UserWarning: Epoch comprised more than `samples_per_epoch` samples, which might affect learning results. Set `samples_per_epoch` correctly to avoid this warning.\n",
      "  warnings.warn('Epoch comprised more than '\n"
     ]
    },
    {
     "name": "stdout",
     "output_type": "stream",
     "text": [
      "Epoch 00000: val_loss improved from inf to 0.12657, saving model to /home/a.dobrenkii/Projects/Kaggle/DataScienceBowl2K17/data/WEIGHTS/3DCNN_nodule_clf_TESTED_ON_1_fused\n",
      "58492/58464 [==============================] - 1562s - loss: 0.2101 - val_loss: 0.1266\n",
      "Epoch 2/20\n",
      "58432/58464 [============================>.] - ETA: 0s - loss: 0.1053Epoch 00001: val_loss improved from 0.12657 to 0.09491, saving model to /home/a.dobrenkii/Projects/Kaggle/DataScienceBowl2K17/data/WEIGHTS/3DCNN_nodule_clf_TESTED_ON_1_fused\n",
      "58464/58464 [==============================] - 1556s - loss: 0.1053 - val_loss: 0.0949\n",
      "Epoch 3/20\n",
      "58432/58464 [============================>.] - ETA: 0s - loss: 0.0836Epoch 00002: val_loss did not improve\n",
      "58464/58464 [==============================] - 1564s - loss: 0.0836 - val_loss: 0.1131\n",
      "Epoch 4/20\n",
      "58432/58464 [============================>.] - ETA: 0s - loss: 0.0717Epoch 00003: val_loss did not improve\n",
      "58464/58464 [==============================] - 1576s - loss: 0.0717 - val_loss: 0.1137\n",
      "Epoch 5/20\n",
      "58460/58464 [============================>.] - ETA: 0s - loss: 0.0647Epoch 00004: val_loss improved from 0.09491 to 0.08556, saving model to /home/a.dobrenkii/Projects/Kaggle/DataScienceBowl2K17/data/WEIGHTS/3DCNN_nodule_clf_TESTED_ON_1_fused\n",
      "58492/58464 [==============================] - 1563s - loss: 0.0647 - val_loss: 0.0856\n",
      "Epoch 6/20\n",
      "58432/58464 [============================>.] - ETA: 0s - loss: 0.0602Epoch 00005: val_loss did not improve\n",
      "58464/58464 [==============================] - 1579s - loss: 0.0602 - val_loss: 0.0894\n",
      "Epoch 7/20\n",
      "58432/58464 [============================>.] - ETA: 0s - loss: 0.0545Epoch 00006: val_loss did not improve\n",
      "58464/58464 [==============================] - 1601s - loss: 0.0545 - val_loss: 0.1168\n",
      "Epoch 8/20\n",
      "58432/58464 [============================>.] - ETA: 0s - loss: 0.0558Epoch 00007: val_loss improved from 0.08556 to 0.07845, saving model to /home/a.dobrenkii/Projects/Kaggle/DataScienceBowl2K17/data/WEIGHTS/3DCNN_nodule_clf_TESTED_ON_1_fused\n",
      "58464/58464 [==============================] - 1631s - loss: 0.0557 - val_loss: 0.0784\n",
      "Epoch 9/20\n",
      "58460/58464 [============================>.] - ETA: 0s - loss: 0.0481Epoch 00008: val_loss did not improve\n",
      "58492/58464 [==============================] - 1655s - loss: 0.0482 - val_loss: 0.0884\n",
      "Epoch 10/20\n",
      "58432/58464 [============================>.] - ETA: 0s - loss: 0.0467Epoch 00009: val_loss did not improve\n",
      "58464/58464 [==============================] - 1688s - loss: 0.0467 - val_loss: 0.0795\n",
      "Epoch 11/20\n",
      "58432/58464 [============================>.] - ETA: 0s - loss: 0.0434Epoch 00010: val_loss improved from 0.07845 to 0.06981, saving model to /home/a.dobrenkii/Projects/Kaggle/DataScienceBowl2K17/data/WEIGHTS/3DCNN_nodule_clf_TESTED_ON_1_fused\n",
      "58464/58464 [==============================] - 1709s - loss: 0.0434 - val_loss: 0.0698\n",
      "Epoch 12/20\n",
      "58432/58464 [============================>.] - ETA: 0s - loss: 0.0422Epoch 00011: val_loss did not improve\n",
      "58464/58464 [==============================] - 1687s - loss: 0.0422 - val_loss: 0.0959\n",
      "Epoch 13/20\n",
      "58432/58464 [============================>.] - ETA: 0s - loss: 0.0412Epoch 00012: val_loss did not improve\n",
      "58464/58464 [==============================] - 1678s - loss: 0.0412 - val_loss: 0.1054\n",
      "Epoch 14/20\n",
      "58460/58464 [============================>.] - ETA: 0s - loss: 0.0416Epoch 00013: val_loss did not improve\n",
      "58492/58464 [==============================] - 1681s - loss: 0.0415 - val_loss: 0.0864\n",
      "Epoch 15/20\n",
      "58432/58464 [============================>.] - ETA: 0s - loss: 0.0412Epoch 00014: val_loss did not improve\n",
      "58464/58464 [==============================] - 1691s - loss: 0.0412 - val_loss: 0.0982\n",
      "Epoch 16/20\n",
      "58432/58464 [============================>.] - ETA: 0s - loss: 0.0360Epoch 00015: val_loss did not improve\n",
      "58464/58464 [==============================] - 1663s - loss: 0.0360 - val_loss: 0.0994\n",
      "Epoch 17/20\n",
      "58432/58464 [============================>.] - ETA: 0s - loss: 0.0349Epoch 00016: val_loss did not improve\n",
      "58464/58464 [==============================] - 1668s - loss: 0.0348 - val_loss: 0.0784\n",
      "Epoch 18/20\n",
      "58460/58464 [============================>.] - ETA: 0s - loss: 0.0361Epoch 00017: val_loss did not improve\n",
      "58492/58464 [==============================] - 1697s - loss: 0.0361 - val_loss: 0.0825\n",
      "Epoch 19/20\n",
      "58432/58464 [============================>.] - ETA: 0s - loss: 0.0343Epoch 00018: val_loss did not improve\n",
      "58464/58464 [==============================] - 1674s - loss: 0.0343 - val_loss: 0.1042\n",
      "Epoch 20/20\n",
      "58432/58464 [============================>.] - ETA: 0s - loss: 0.0400Epoch 00019: val_loss did not improve\n",
      "58464/58464 [==============================] - 1613s - loss: 0.0399 - val_loss: 0.1026\n"
     ]
    }
   ],
   "source": [
    "checkpoint = ModelCheckpoint(filepath=join(PATH['WEIGHTS'], '3DCNN_nodule_clf_TESTED_ON_1_fused'), \n",
    "                             verbose=1, \n",
    "                             save_best_only=True)\n",
    "\n",
    "clf_model.fit_generator(train_generator, \n",
    "                        samples_per_epoch=(len(train) // (8 * BATCH_SIZE)) * BATCH_SIZE, \n",
    "                        nb_epoch=NB_EPOCH, \n",
    "                        callbacks=[checkpoint], \n",
    "                        validation_data=test_generator, \n",
    "                        class_weight={0: 1, \n",
    "                                      1: 1}, \n",
    "                        nb_val_samples=len(new_test),\n",
    "                      nb_worker=1)\n",
    "\n",
    "clf_model.save_weights(join(PATH['WEIGHTS'], '3DCNN_nodule_clf_final_TESTED_ON_1_fused'))"
   ]
  },
  {
   "cell_type": "code",
   "execution_count": null,
   "metadata": {
    "collapsed": true
   },
   "outputs": [
    {
     "name": "stdout",
     "output_type": "stream",
     "text": [
      "Epoch 1/20\n",
      "58460/58464 [============================>.] - ETA: 0s - loss: 0.2112"
     ]
    },
    {
     "name": "stderr",
     "output_type": "stream",
     "text": [
      "/home/a.dobrenkii/anaconda3/lib/python3.5/site-packages/keras/engine/training.py:1573: UserWarning: Epoch comprised more than `samples_per_epoch` samples, which might affect learning results. Set `samples_per_epoch` correctly to avoid this warning.\n",
      "  warnings.warn('Epoch comprised more than '\n"
     ]
    },
    {
     "name": "stdout",
     "output_type": "stream",
     "text": [
      "Epoch 00000: val_loss improved from inf to 0.11330, saving model to /home/a.dobrenkii/Projects/Kaggle/DataScienceBowl2K17/data/WEIGHTS/3DCNN_nodule_clf_TESTED_ON_1_fused\n",
      "58492/58464 [==============================] - 1793s - loss: 0.2112 - val_loss: 0.1133\n",
      "Epoch 2/20\n",
      "58432/58464 [============================>.] - ETA: 0s - loss: 0.1216Epoch 00001: val_loss improved from 0.11330 to 0.11151, saving model to /home/a.dobrenkii/Projects/Kaggle/DataScienceBowl2K17/data/WEIGHTS/3DCNN_nodule_clf_TESTED_ON_1_fused\n",
      "58464/58464 [==============================] - 1798s - loss: 0.1216 - val_loss: 0.1115\n",
      "Epoch 3/20\n",
      "58432/58464 [============================>.] - ETA: 0s - loss: 0.0956Epoch 00002: val_loss improved from 0.11151 to 0.09377, saving model to /home/a.dobrenkii/Projects/Kaggle/DataScienceBowl2K17/data/WEIGHTS/3DCNN_nodule_clf_TESTED_ON_1_fused\n",
      "58464/58464 [==============================] - 1747s - loss: 0.0956 - val_loss: 0.0938\n",
      "Epoch 4/20\n",
      "58432/58464 [============================>.] - ETA: 0s - loss: 0.0829Epoch 00003: val_loss improved from 0.09377 to 0.08033, saving model to /home/a.dobrenkii/Projects/Kaggle/DataScienceBowl2K17/data/WEIGHTS/3DCNN_nodule_clf_TESTED_ON_1_fused\n",
      "58464/58464 [==============================] - 1712s - loss: 0.0829 - val_loss: 0.0803\n",
      "Epoch 5/20\n",
      "58460/58464 [============================>.] - ETA: 0s - loss: 0.0714Epoch 00004: val_loss did not improve\n",
      "58492/58464 [==============================] - 1677s - loss: 0.0715 - val_loss: 0.0939\n",
      "Epoch 6/20\n",
      "58432/58464 [============================>.] - ETA: 0s - loss: 0.0630Epoch 00005: val_loss did not improve\n",
      "58464/58464 [==============================] - 1732s - loss: 0.0630 - val_loss: 0.0917\n",
      "Epoch 7/20\n",
      "58432/58464 [============================>.] - ETA: 0s - loss: 0.0579Epoch 00006: val_loss improved from 0.08033 to 0.07142, saving model to /home/a.dobrenkii/Projects/Kaggle/DataScienceBowl2K17/data/WEIGHTS/3DCNN_nodule_clf_TESTED_ON_1_fused\n",
      "58464/58464 [==============================] - 1675s - loss: 0.0579 - val_loss: 0.0714\n",
      "Epoch 8/20\n",
      "58432/58464 [============================>.] - ETA: 0s - loss: 0.0549Epoch 00007: val_loss did not improve\n",
      "58464/58464 [==============================] - 1712s - loss: 0.0549 - val_loss: 0.0737\n",
      "Epoch 9/20\n",
      "58460/58464 [============================>.] - ETA: 0s - loss: 0.0516Epoch 00008: val_loss improved from 0.07142 to 0.06973, saving model to /home/a.dobrenkii/Projects/Kaggle/DataScienceBowl2K17/data/WEIGHTS/3DCNN_nodule_clf_TESTED_ON_1_fused\n",
      "58492/58464 [==============================] - 1689s - loss: 0.0517 - val_loss: 0.0697\n",
      "Epoch 10/20\n",
      "58432/58464 [============================>.] - ETA: 0s - loss: 0.0478Epoch 00009: val_loss did not improve\n",
      "58464/58464 [==============================] - 1735s - loss: 0.0477 - val_loss: 0.0923\n",
      "Epoch 11/20\n",
      "58432/58464 [============================>.] - ETA: 0s - loss: 0.0491Epoch 00010: val_loss did not improve\n",
      "58464/58464 [==============================] - 1734s - loss: 0.0491 - val_loss: 0.0932\n",
      "Epoch 12/20\n",
      "58432/58464 [============================>.] - ETA: 0s - loss: 0.0450Epoch 00011: val_loss did not improve\n",
      "58464/58464 [==============================] - 1690s - loss: 0.0450 - val_loss: 0.0835\n",
      "Epoch 13/20\n",
      "58432/58464 [============================>.] - ETA: 0s - loss: 0.0423Epoch 00012: val_loss did not improve\n",
      "58464/58464 [==============================] - 1671s - loss: 0.0422 - val_loss: 0.0768\n",
      "Epoch 14/20\n",
      "58460/58464 [============================>.] - ETA: 0s - loss: 0.0419Epoch 00013: val_loss did not improve\n",
      "58492/58464 [==============================] - 1661s - loss: 0.0419 - val_loss: 0.0760\n",
      "Epoch 15/20\n",
      "58432/58464 [============================>.] - ETA: 0s - loss: 0.0408Epoch 00014: val_loss did not improve\n",
      "58464/58464 [==============================] - 1738s - loss: 0.0408 - val_loss: 0.0834\n",
      "Epoch 16/20\n",
      "58432/58464 [============================>.] - ETA: 0s - loss: 0.0389Epoch 00015: val_loss did not improve\n",
      "58464/58464 [==============================] - 1706s - loss: 0.0389 - val_loss: 0.0804\n",
      "Epoch 17/20\n",
      "58460/58464 [============================>.] - ETA: 0s - loss: 0.0352Epoch 00017: val_loss did not improve\n",
      "58492/58464 [==============================] - 1690s - loss: 0.0353 - val_loss: 0.0852\n",
      "Epoch 19/20\n",
      "10760/58464 [====>.........................] - ETA: 1338s - loss: 0.0331"
     ]
    },
    {
     "ename": "KeyboardInterrupt",
     "evalue": "",
     "output_type": "error",
     "traceback": [
      "\u001b[1;31m\u001b[0m",
      "\u001b[1;31mKeyboardInterrupt\u001b[0mTraceback (most recent call last)",
      "\u001b[1;32m<ipython-input-24-32609d3bdc84>\u001b[0m in \u001b[0;36m<module>\u001b[1;34m()\u001b[0m\n\u001b[0;32m     11\u001b[0m                                       1: 1}, \n\u001b[0;32m     12\u001b[0m                         \u001b[0mnb_val_samples\u001b[0m\u001b[1;33m=\u001b[0m\u001b[0mlen\u001b[0m\u001b[1;33m(\u001b[0m\u001b[0mnew_test\u001b[0m\u001b[1;33m)\u001b[0m\u001b[1;33m,\u001b[0m\u001b[1;33m\u001b[0m\u001b[0m\n\u001b[1;32m---> 13\u001b[1;33m                       nb_worker=1)\n\u001b[0m\u001b[0;32m     14\u001b[0m \u001b[1;33m\u001b[0m\u001b[0m\n\u001b[0;32m     15\u001b[0m \u001b[0mclf_model\u001b[0m\u001b[1;33m.\u001b[0m\u001b[0msave_weights\u001b[0m\u001b[1;33m(\u001b[0m\u001b[0mjoin\u001b[0m\u001b[1;33m(\u001b[0m\u001b[0mPATH\u001b[0m\u001b[1;33m[\u001b[0m\u001b[1;34m'WEIGHTS'\u001b[0m\u001b[1;33m]\u001b[0m\u001b[1;33m,\u001b[0m \u001b[1;34m'3DCNN_nodule_clf_final_TESTED_ON_1_fused'\u001b[0m\u001b[1;33m)\u001b[0m\u001b[1;33m)\u001b[0m\u001b[1;33m\u001b[0m\u001b[0m\n",
      "\u001b[1;32m/home/a.dobrenkii/anaconda3/lib/python3.5/site-packages/keras/engine/training.py\u001b[0m in \u001b[0;36mfit_generator\u001b[1;34m(self, generator, samples_per_epoch, nb_epoch, verbose, callbacks, validation_data, nb_val_samples, class_weight, max_q_size, nb_worker, pickle_safe, initial_epoch)\u001b[0m\n\u001b[0;32m   1555\u001b[0m                     outs = self.train_on_batch(x, y,\n\u001b[0;32m   1556\u001b[0m                                                \u001b[0msample_weight\u001b[0m\u001b[1;33m=\u001b[0m\u001b[0msample_weight\u001b[0m\u001b[1;33m,\u001b[0m\u001b[1;33m\u001b[0m\u001b[0m\n\u001b[1;32m-> 1557\u001b[1;33m                                                class_weight=class_weight)\n\u001b[0m\u001b[0;32m   1558\u001b[0m \u001b[1;33m\u001b[0m\u001b[0m\n\u001b[0;32m   1559\u001b[0m                     \u001b[1;32mif\u001b[0m \u001b[1;32mnot\u001b[0m \u001b[0misinstance\u001b[0m\u001b[1;33m(\u001b[0m\u001b[0mouts\u001b[0m\u001b[1;33m,\u001b[0m \u001b[0mlist\u001b[0m\u001b[1;33m)\u001b[0m\u001b[1;33m:\u001b[0m\u001b[1;33m\u001b[0m\u001b[0m\n",
      "\u001b[1;32m/home/a.dobrenkii/anaconda3/lib/python3.5/site-packages/keras/engine/training.py\u001b[0m in \u001b[0;36mtrain_on_batch\u001b[1;34m(self, x, y, sample_weight, class_weight)\u001b[0m\n\u001b[0;32m   1318\u001b[0m             \u001b[0mins\u001b[0m \u001b[1;33m=\u001b[0m \u001b[0mx\u001b[0m \u001b[1;33m+\u001b[0m \u001b[0my\u001b[0m \u001b[1;33m+\u001b[0m \u001b[0msample_weights\u001b[0m\u001b[1;33m\u001b[0m\u001b[0m\n\u001b[0;32m   1319\u001b[0m         \u001b[0mself\u001b[0m\u001b[1;33m.\u001b[0m\u001b[0m_make_train_function\u001b[0m\u001b[1;33m(\u001b[0m\u001b[1;33m)\u001b[0m\u001b[1;33m\u001b[0m\u001b[0m\n\u001b[1;32m-> 1320\u001b[1;33m         \u001b[0moutputs\u001b[0m \u001b[1;33m=\u001b[0m \u001b[0mself\u001b[0m\u001b[1;33m.\u001b[0m\u001b[0mtrain_function\u001b[0m\u001b[1;33m(\u001b[0m\u001b[0mins\u001b[0m\u001b[1;33m)\u001b[0m\u001b[1;33m\u001b[0m\u001b[0m\n\u001b[0m\u001b[0;32m   1321\u001b[0m         \u001b[1;32mif\u001b[0m \u001b[0mlen\u001b[0m\u001b[1;33m(\u001b[0m\u001b[0moutputs\u001b[0m\u001b[1;33m)\u001b[0m \u001b[1;33m==\u001b[0m \u001b[1;36m1\u001b[0m\u001b[1;33m:\u001b[0m\u001b[1;33m\u001b[0m\u001b[0m\n\u001b[0;32m   1322\u001b[0m             \u001b[1;32mreturn\u001b[0m \u001b[0moutputs\u001b[0m\u001b[1;33m[\u001b[0m\u001b[1;36m0\u001b[0m\u001b[1;33m]\u001b[0m\u001b[1;33m\u001b[0m\u001b[0m\n",
      "\u001b[1;32m/home/a.dobrenkii/anaconda3/lib/python3.5/site-packages/keras/backend/tensorflow_backend.py\u001b[0m in \u001b[0;36m__call__\u001b[1;34m(self, inputs)\u001b[0m\n\u001b[0;32m   1941\u001b[0m         \u001b[0msession\u001b[0m \u001b[1;33m=\u001b[0m \u001b[0mget_session\u001b[0m\u001b[1;33m(\u001b[0m\u001b[1;33m)\u001b[0m\u001b[1;33m\u001b[0m\u001b[0m\n\u001b[0;32m   1942\u001b[0m         updated = session.run(self.outputs + [self.updates_op],\n\u001b[1;32m-> 1943\u001b[1;33m                               feed_dict=feed_dict)\n\u001b[0m\u001b[0;32m   1944\u001b[0m         \u001b[1;32mreturn\u001b[0m \u001b[0mupdated\u001b[0m\u001b[1;33m[\u001b[0m\u001b[1;33m:\u001b[0m\u001b[0mlen\u001b[0m\u001b[1;33m(\u001b[0m\u001b[0mself\u001b[0m\u001b[1;33m.\u001b[0m\u001b[0moutputs\u001b[0m\u001b[1;33m)\u001b[0m\u001b[1;33m]\u001b[0m\u001b[1;33m\u001b[0m\u001b[0m\n\u001b[0;32m   1945\u001b[0m \u001b[1;33m\u001b[0m\u001b[0m\n",
      "\u001b[1;32m/home/a.dobrenkii/anaconda3/lib/python3.5/site-packages/tensorflow/python/client/session.py\u001b[0m in \u001b[0;36mrun\u001b[1;34m(self, fetches, feed_dict, options, run_metadata)\u001b[0m\n\u001b[0;32m    708\u001b[0m     \u001b[1;32mtry\u001b[0m\u001b[1;33m:\u001b[0m\u001b[1;33m\u001b[0m\u001b[0m\n\u001b[0;32m    709\u001b[0m       result = self._run(None, fetches, feed_dict, options_ptr,\n\u001b[1;32m--> 710\u001b[1;33m                          run_metadata_ptr)\n\u001b[0m\u001b[0;32m    711\u001b[0m       \u001b[1;32mif\u001b[0m \u001b[0mrun_metadata\u001b[0m\u001b[1;33m:\u001b[0m\u001b[1;33m\u001b[0m\u001b[0m\n\u001b[0;32m    712\u001b[0m         \u001b[0mproto_data\u001b[0m \u001b[1;33m=\u001b[0m \u001b[0mtf_session\u001b[0m\u001b[1;33m.\u001b[0m\u001b[0mTF_GetBuffer\u001b[0m\u001b[1;33m(\u001b[0m\u001b[0mrun_metadata_ptr\u001b[0m\u001b[1;33m)\u001b[0m\u001b[1;33m\u001b[0m\u001b[0m\n",
      "\u001b[1;32m/home/a.dobrenkii/anaconda3/lib/python3.5/site-packages/tensorflow/python/client/session.py\u001b[0m in \u001b[0;36m_run\u001b[1;34m(self, handle, fetches, feed_dict, options, run_metadata)\u001b[0m\n\u001b[0;32m    906\u001b[0m     \u001b[1;32mif\u001b[0m \u001b[0mfinal_fetches\u001b[0m \u001b[1;32mor\u001b[0m \u001b[0mfinal_targets\u001b[0m\u001b[1;33m:\u001b[0m\u001b[1;33m\u001b[0m\u001b[0m\n\u001b[0;32m    907\u001b[0m       results = self._do_run(handle, final_targets, final_fetches,\n\u001b[1;32m--> 908\u001b[1;33m                              feed_dict_string, options, run_metadata)\n\u001b[0m\u001b[0;32m    909\u001b[0m     \u001b[1;32melse\u001b[0m\u001b[1;33m:\u001b[0m\u001b[1;33m\u001b[0m\u001b[0m\n\u001b[0;32m    910\u001b[0m       \u001b[0mresults\u001b[0m \u001b[1;33m=\u001b[0m \u001b[1;33m[\u001b[0m\u001b[1;33m]\u001b[0m\u001b[1;33m\u001b[0m\u001b[0m\n",
      "\u001b[1;32m/home/a.dobrenkii/anaconda3/lib/python3.5/site-packages/tensorflow/python/client/session.py\u001b[0m in \u001b[0;36m_do_run\u001b[1;34m(self, handle, target_list, fetch_list, feed_dict, options, run_metadata)\u001b[0m\n\u001b[0;32m    956\u001b[0m     \u001b[1;32mif\u001b[0m \u001b[0mhandle\u001b[0m \u001b[1;32mis\u001b[0m \u001b[1;32mNone\u001b[0m\u001b[1;33m:\u001b[0m\u001b[1;33m\u001b[0m\u001b[0m\n\u001b[0;32m    957\u001b[0m       return self._do_call(_run_fn, self._session, feed_dict, fetch_list,\n\u001b[1;32m--> 958\u001b[1;33m                            target_list, options, run_metadata)\n\u001b[0m\u001b[0;32m    959\u001b[0m     \u001b[1;32melse\u001b[0m\u001b[1;33m:\u001b[0m\u001b[1;33m\u001b[0m\u001b[0m\n\u001b[0;32m    960\u001b[0m       return self._do_call(_prun_fn, self._session, handle, feed_dict,\n",
      "\u001b[1;32m/home/a.dobrenkii/anaconda3/lib/python3.5/site-packages/tensorflow/python/client/session.py\u001b[0m in \u001b[0;36m_do_call\u001b[1;34m(self, fn, *args)\u001b[0m\n\u001b[0;32m    963\u001b[0m   \u001b[1;32mdef\u001b[0m \u001b[0m_do_call\u001b[0m\u001b[1;33m(\u001b[0m\u001b[0mself\u001b[0m\u001b[1;33m,\u001b[0m \u001b[0mfn\u001b[0m\u001b[1;33m,\u001b[0m \u001b[1;33m*\u001b[0m\u001b[0margs\u001b[0m\u001b[1;33m)\u001b[0m\u001b[1;33m:\u001b[0m\u001b[1;33m\u001b[0m\u001b[0m\n\u001b[0;32m    964\u001b[0m     \u001b[1;32mtry\u001b[0m\u001b[1;33m:\u001b[0m\u001b[1;33m\u001b[0m\u001b[0m\n\u001b[1;32m--> 965\u001b[1;33m       \u001b[1;32mreturn\u001b[0m \u001b[0mfn\u001b[0m\u001b[1;33m(\u001b[0m\u001b[1;33m*\u001b[0m\u001b[0margs\u001b[0m\u001b[1;33m)\u001b[0m\u001b[1;33m\u001b[0m\u001b[0m\n\u001b[0m\u001b[0;32m    966\u001b[0m     \u001b[1;32mexcept\u001b[0m \u001b[0merrors\u001b[0m\u001b[1;33m.\u001b[0m\u001b[0mOpError\u001b[0m \u001b[1;32mas\u001b[0m \u001b[0me\u001b[0m\u001b[1;33m:\u001b[0m\u001b[1;33m\u001b[0m\u001b[0m\n\u001b[0;32m    967\u001b[0m       \u001b[0mmessage\u001b[0m \u001b[1;33m=\u001b[0m \u001b[0mcompat\u001b[0m\u001b[1;33m.\u001b[0m\u001b[0mas_text\u001b[0m\u001b[1;33m(\u001b[0m\u001b[0me\u001b[0m\u001b[1;33m.\u001b[0m\u001b[0mmessage\u001b[0m\u001b[1;33m)\u001b[0m\u001b[1;33m\u001b[0m\u001b[0m\n",
      "\u001b[1;32m/home/a.dobrenkii/anaconda3/lib/python3.5/site-packages/tensorflow/python/client/session.py\u001b[0m in \u001b[0;36m_run_fn\u001b[1;34m(session, feed_dict, fetch_list, target_list, options, run_metadata)\u001b[0m\n\u001b[0;32m    945\u001b[0m         return tf_session.TF_Run(session, options,\n\u001b[0;32m    946\u001b[0m                                  \u001b[0mfeed_dict\u001b[0m\u001b[1;33m,\u001b[0m \u001b[0mfetch_list\u001b[0m\u001b[1;33m,\u001b[0m \u001b[0mtarget_list\u001b[0m\u001b[1;33m,\u001b[0m\u001b[1;33m\u001b[0m\u001b[0m\n\u001b[1;32m--> 947\u001b[1;33m                                  status, run_metadata)\n\u001b[0m\u001b[0;32m    948\u001b[0m \u001b[1;33m\u001b[0m\u001b[0m\n\u001b[0;32m    949\u001b[0m     \u001b[1;32mdef\u001b[0m \u001b[0m_prun_fn\u001b[0m\u001b[1;33m(\u001b[0m\u001b[0msession\u001b[0m\u001b[1;33m,\u001b[0m \u001b[0mhandle\u001b[0m\u001b[1;33m,\u001b[0m \u001b[0mfeed_dict\u001b[0m\u001b[1;33m,\u001b[0m \u001b[0mfetch_list\u001b[0m\u001b[1;33m)\u001b[0m\u001b[1;33m:\u001b[0m\u001b[1;33m\u001b[0m\u001b[0m\n",
      "\u001b[1;31mKeyboardInterrupt\u001b[0m: "
     ]
    },
    {
     "name": "stderr",
     "output_type": "stream",
     "text": [
      "Process ForkPoolWorker-980264:\n",
      "Process ForkPoolWorker-980263:\n",
      "Traceback (most recent call last):\n",
      "Traceback (most recent call last):\n",
      "  File \"/home/a.dobrenkii/anaconda3/lib/python3.5/multiprocessing/process.py\", line 249, in _bootstrap\n",
      "    self.run()\n",
      "  File \"/home/a.dobrenkii/anaconda3/lib/python3.5/multiprocessing/process.py\", line 249, in _bootstrap\n",
      "    self.run()\n",
      "  File \"/home/a.dobrenkii/anaconda3/lib/python3.5/multiprocessing/process.py\", line 93, in run\n",
      "    self._target(*self._args, **self._kwargs)\n",
      "  File \"/home/a.dobrenkii/anaconda3/lib/python3.5/multiprocessing/process.py\", line 93, in run\n",
      "    self._target(*self._args, **self._kwargs)\n",
      "  File \"/home/a.dobrenkii/anaconda3/lib/python3.5/multiprocessing/pool.py\", line 108, in worker\n",
      "    task = get()\n",
      "  File \"/home/a.dobrenkii/anaconda3/lib/python3.5/multiprocessing/pool.py\", line 108, in worker\n",
      "    task = get()\n",
      "  File \"/home/a.dobrenkii/anaconda3/lib/python3.5/multiprocessing/queues.py\", line 342, in get\n",
      "    with self._rlock:\n",
      "  File \"/home/a.dobrenkii/anaconda3/lib/python3.5/multiprocessing/queues.py\", line 342, in get\n",
      "    with self._rlock:\n",
      "  File \"/home/a.dobrenkii/anaconda3/lib/python3.5/multiprocessing/synchronize.py\", line 96, in __enter__\n",
      "    return self._semlock.__enter__()\n",
      "  File \"/home/a.dobrenkii/anaconda3/lib/python3.5/multiprocessing/synchronize.py\", line 96, in __enter__\n",
      "    return self._semlock.__enter__()\n",
      "KeyboardInterrupt\n",
      "KeyboardInterrupt\n"
     ]
    }
   ],
   "source": [
    "checkpoint = ModelCheckpoint(filepath=join(PATH['WEIGHTS'], '3DCNN_nodule_clf_TESTED_ON_1_fused'), \n",
    "                             verbose=1, \n",
    "                             save_best_only=True)\n",
    "\n",
    "clf_model.fit_generator(train_generator, \n",
    "                        samples_per_epoch=(len(train) // (8 * BATCH_SIZE)) * BATCH_SIZE, \n",
    "                        nb_epoch=NB_EPOCH, \n",
    "                        callbacks=[checkpoint], \n",
    "                        validation_data=test_generator, \n",
    "                        class_weight={0: 1, \n",
    "                                      1: 1}, \n",
    "                        nb_val_samples=len(new_test),\n",
    "                        nb_worker=1)\n",
    "\n",
    "clf_model.save_weights(join(PATH['WEIGHTS'], '3DCNN_nodule_clf_final_TESTED_ON_1_fused'))"
   ]
  },
  {
   "cell_type": "code",
   "execution_count": null,
   "metadata": {
    "collapsed": true
   },
   "outputs": [
    {
     "name": "stdout",
     "output_type": "stream",
     "text": [
      "Epoch 1/20\n",
      "58432/58464 [============================>.] - ETA: 1s - loss: 0.0243Epoch 00000: val_loss improved from inf to 0.06882, saving model to /home/a.dobrenkii/Projects/Kaggle/DataScienceBowl2K17/data/WEIGHTS/3DCNN_nodule_clf_TESTED_ON_1_fused\n",
      "58464/58464 [==============================] - 2074s - loss: 0.0243 - val_loss: 0.0688\n",
      "Epoch 2/20\n",
      " 9348/58464 [===>..........................] - ETA: 1731s - loss: 0.0227"
     ]
    }
   ],
   "source": [
    "checkpoint = ModelCheckpoint(filepath=join(PATH['WEIGHTS'], '3DCNN_nodule_clf_TESTED_ON_1_fused'), \n",
    "                             verbose=1, \n",
    "                             save_best_only=True)\n",
    "\n",
    "clf_model.fit_generator(train_generator, \n",
    "                        samples_per_epoch=(len(train) // (8 * BATCH_SIZE)) * BATCH_SIZE, \n",
    "                        nb_epoch=NB_EPOCH, \n",
    "                        callbacks=[checkpoint], \n",
    "                        validation_data=test_generator, \n",
    "                        class_weight={0: 1, \n",
    "                                      1: 1}, \n",
    "                        nb_val_samples=len(new_test),\n",
    "                      nb_worker=1)\n",
    "\n",
    "clf_model.save_weights(join(PATH['WEIGHTS'], '3DCNN_nodule_clf_final_TESTED_ON_1_fused'))"
   ]
  },
  {
   "cell_type": "code",
   "execution_count": null,
   "metadata": {
    "collapsed": true
   },
   "outputs": [
    {
     "name": "stdout",
     "output_type": "stream",
     "text": [
      "Epoch 1/20\n",
      "58432/58464 [============================>.] - ETA: 2s - loss: 0.0209Epoch 00001: val_loss did not improve\n",
      "58464/58464 [==============================] - 5271s - loss: 0.0209 - val_loss: 0.0502\n",
      "Epoch 3/20\n",
      "58460/58464 [============================>.] - ETA: 0s - loss: 0.0232"
     ]
    },
    {
     "name": "stderr",
     "output_type": "stream",
     "text": [
      "/home/a.dobrenkii/anaconda3/lib/python3.5/site-packages/keras/engine/training.py:1573: UserWarning: Epoch comprised more than `samples_per_epoch` samples, which might affect learning results. Set `samples_per_epoch` correctly to avoid this warning.\n",
      "  warnings.warn('Epoch comprised more than '\n"
     ]
    },
    {
     "name": "stdout",
     "output_type": "stream",
     "text": [
      "Epoch 00002: val_loss did not improve\n",
      "58492/58464 [==============================] - 5254s - loss: 0.0232 - val_loss: 0.0497\n",
      "Epoch 4/20\n",
      "58432/58464 [============================>.] - ETA: 2s - loss: 0.0223Epoch 00003: val_loss did not improve\n",
      "58464/58464 [==============================] - 5256s - loss: 0.0224 - val_loss: 0.0898\n",
      "Epoch 5/20\n",
      "58432/58464 [============================>.] - ETA: 2s - loss: 0.0198Epoch 00004: val_loss did not improve\n",
      "58464/58464 [==============================] - 5255s - loss: 0.0198 - val_loss: 0.0562\n",
      "Epoch 6/20\n",
      "58432/58464 [============================>.] - ETA: 2s - loss: 0.0215Epoch 00005: val_loss did not improve\n",
      "58464/58464 [==============================] - 5281s - loss: 0.0215 - val_loss: 0.0937\n",
      "Epoch 7/20\n",
      "58460/58464 [============================>.] - ETA: 0s - loss: 0.0203Epoch 00006: val_loss did not improve\n",
      "58492/58464 [==============================] - 5248s - loss: 0.0203 - val_loss: 0.0756\n",
      "Epoch 8/20\n",
      "58432/58464 [============================>.] - ETA: 2s - loss: 0.0202Epoch 00007: val_loss did not improve\n",
      "58464/58464 [==============================] - 5285s - loss: 0.0202 - val_loss: 0.0909\n",
      "Epoch 9/20\n",
      "58432/58464 [============================>.] - ETA: 2s - loss: 0.0200Epoch 00008: val_loss did not improve\n",
      "58464/58464 [==============================] - 5255s - loss: 0.0200 - val_loss: 0.0704\n",
      "Epoch 10/20\n",
      "58460/58464 [============================>.] - ETA: 0s - loss: 0.0188Epoch 00010: val_loss did not improve\n",
      "58492/58464 [==============================] - 5278s - loss: 0.0188 - val_loss: 0.0597\n",
      "Epoch 12/20\n",
      " 8424/58464 [===>..........................] - ETA: 4454s - loss: 0.0190"
     ]
    }
   ],
   "source": [
    "checkpoint = ModelCheckpoint(filepath=join(PATH['WEIGHTS'], '3DCNN_nodule_clf_TESTED_ON_1a'), \n",
    "                             verbose=1, \n",
    "                             save_best_only=True)\n",
    "\n",
    "clf_model.fit_generator(train_generator, \n",
    "                        samples_per_epoch=(len(train) // (8 * BATCH_SIZE)) * BATCH_SIZE, \n",
    "                        nb_epoch=NB_EPOCH, \n",
    "                        callbacks=[checkpoint], \n",
    "                        validation_data=test_generator, \n",
    "                        class_weight={0: 1, \n",
    "                                      1: 1}, \n",
    "                        nb_val_samples=len(new_test),\n",
    "                      nb_worker=1)\n",
    "\n",
    "clf_model.save_weights(join(PATH['WEIGHTS'], '3DCNN_nodule_clf_final_TESTED_ON_1a'))"
   ]
  },
  {
   "cell_type": "code",
   "execution_count": null,
   "metadata": {
    "collapsed": false
   },
   "outputs": [
    {
     "name": "stdout",
     "output_type": "stream",
     "text": [
      "Epoch 1/20\n",
      " 1188/58464 [..............................] - ETA: 5164s - loss: 0.0072"
     ]
    }
   ],
   "source": [
    "checkpoint = ModelCheckpoint(filepath=join(PATH['WEIGHTS'], '3DCNN_nodule_clf_TESTED_ON_1b'), \n",
    "                             verbose=1, \n",
    "                             save_best_only=True)\n",
    "\n",
    "clf_model.fit_generator(train_generator, \n",
    "                        samples_per_epoch=(len(train) // (8 * BATCH_SIZE)) * BATCH_SIZE, \n",
    "                        nb_epoch=NB_EPOCH, \n",
    "                        callbacks=[checkpoint], \n",
    "                        validation_data=test_generator, \n",
    "                        class_weight={0: 1, \n",
    "                                      1: 1}, \n",
    "                        nb_val_samples=len(new_test),\n",
    "                      nb_worker=1)\n",
    "\n",
    "clf_model.save_weights(join(PATH['WEIGHTS'], '3DCNN_nodule_clf_final_TESTED_ON_1b'))"
   ]
  },
  {
   "cell_type": "code",
   "execution_count": null,
   "metadata": {
    "collapsed": false
   },
   "outputs": [
    {
     "name": "stdout",
     "output_type": "stream",
     "text": [
      "Epoch 1/20\n",
      " 1088/58464 [..............................] - ETA: 5188s - loss: 0.0118"
     ]
    }
   ],
   "source": [
    "checkpoint = ModelCheckpoint(filepath=join(PATH['WEIGHTS'], '3DCNN_nodule_clf_TESTED_ON_1c'), \n",
    "                             verbose=1, \n",
    "                             save_best_only=True)\n",
    "\n",
    "clf_model.fit_generator(train_generator, \n",
    "                        samples_per_epoch=(len(train) // (8 * BATCH_SIZE)) * BATCH_SIZE, \n",
    "                        nb_epoch=NB_EPOCH, \n",
    "                        callbacks=[checkpoint], \n",
    "                        validation_data=test_generator, \n",
    "                        class_weight={0: 1, \n",
    "                                      1: 1}, \n",
    "                        nb_val_samples=len(new_test),\n",
    "                      nb_worker=1)\n",
    "\n",
    "clf_model.save_weights(join(PATH['WEIGHTS'], '3DCNN_nodule_clf_final_TESTED_ON_1c'))"
   ]
  },
  {
   "cell_type": "code",
   "execution_count": null,
   "metadata": {
    "collapsed": true
   },
   "outputs": [
    {
     "name": "stdout",
     "output_type": "stream",
     "text": [
      "Epoch 1/20\n",
      "58432/58464 [============================>.] - ETA: 2s - loss: 0.0110Epoch 00001: val_loss did not improve\n",
      "58464/58464 [==============================] - 5244s - loss: 0.0110 - val_loss: 0.1115\n",
      "Epoch 3/20\n",
      "58432/58464 [============================>.] - ETA: 2s - loss: 0.0102Epoch 00002: val_loss did not improve\n",
      "58464/58464 [==============================] - 5237s - loss: 0.0102 - val_loss: 0.1101\n",
      "Epoch 4/20\n",
      "58460/58464 [============================>.] - ETA: 0s - loss: 0.0113"
     ]
    },
    {
     "name": "stderr",
     "output_type": "stream",
     "text": [
      "/home/a.dobrenkii/anaconda3/lib/python3.5/site-packages/keras/engine/training.py:1573: UserWarning: Epoch comprised more than `samples_per_epoch` samples, which might affect learning results. Set `samples_per_epoch` correctly to avoid this warning.\n",
      "  warnings.warn('Epoch comprised more than '\n"
     ]
    },
    {
     "name": "stdout",
     "output_type": "stream",
     "text": [
      "Epoch 00003: val_loss did not improve\n",
      "58492/58464 [==============================] - 5236s - loss: 0.0113 - val_loss: 0.1478\n",
      "Epoch 5/20\n",
      "58432/58464 [============================>.] - ETA: 2s - loss: 0.0122Epoch 00004: val_loss improved from 0.09418 to 0.07757, saving model to /home/a.dobrenkii/Projects/Kaggle/DataScienceBowl2K17/data/WEIGHTS/3DCNN_nodule_clf_TESTED_ON_1c\n",
      "58464/58464 [==============================] - 5249s - loss: 0.0122 - val_loss: 0.0776\n",
      "Epoch 6/20\n",
      "58432/58464 [============================>.] - ETA: 2s - loss: 0.0108Epoch 00005: val_loss did not improve\n",
      "58464/58464 [==============================] - 5242s - loss: 0.0108 - val_loss: 0.0799\n",
      "Epoch 7/20\n",
      "58432/58464 [============================>.] - ETA: 2s - loss: 0.0112Epoch 00006: val_loss did not improve\n",
      "58464/58464 [==============================] - 5242s - loss: 0.0112 - val_loss: 0.1091\n",
      "Epoch 8/20\n",
      "58432/58464 [============================>.] - ETA: 2s - loss: 0.0108Epoch 00007: val_loss did not improve\n",
      "58464/58464 [==============================] - 5235s - loss: 0.0108 - val_loss: 0.0894\n",
      "Epoch 9/20\n",
      "58460/58464 [============================>.] - ETA: 0s - loss: 0.0105Epoch 00008: val_loss did not improve\n",
      "58492/58464 [==============================] - 5242s - loss: 0.0105 - val_loss: 0.1138\n",
      "Epoch 10/20\n",
      "58432/58464 [============================>.] - ETA: 2s - loss: 0.0115Epoch 00009: val_loss did not improve\n",
      "58464/58464 [==============================] - 5246s - loss: 0.0115 - val_loss: 0.0979\n",
      "Epoch 11/20\n",
      "58432/58464 [============================>.] - ETA: 2s - loss: 0.0098Epoch 00010: val_loss did not improve\n",
      "58464/58464 [==============================] - 5222s - loss: 0.0098 - val_loss: 0.0978\n",
      "Epoch 12/20\n",
      "58432/58464 [============================>.] - ETA: 2s - loss: 0.0110Epoch 00011: val_loss did not improve\n",
      "58464/58464 [==============================] - 5212s - loss: 0.0110 - val_loss: 0.1230\n",
      "Epoch 13/20\n",
      "58460/58464 [============================>.] - ETA: 0s - loss: 0.0113Epoch 00012: val_loss did not improve\n",
      "58492/58464 [==============================] - 5254s - loss: 0.0113 - val_loss: 0.1461\n",
      "Epoch 14/20\n",
      "58432/58464 [============================>.] - ETA: 2s - loss: 0.0104Epoch 00013: val_loss did not improve\n",
      "58464/58464 [==============================] - 5301s - loss: 0.0104 - val_loss: 0.1240\n",
      "Epoch 15/20\n",
      "58432/58464 [============================>.] - ETA: 2s - loss: 0.0095Epoch 00014: val_loss did not improve\n",
      "58464/58464 [==============================] - 5288s - loss: 0.0095 - val_loss: 0.1065\n",
      "Epoch 16/20\n",
      "58432/58464 [============================>.] - ETA: 2s - loss: 0.0111Epoch 00015: val_loss did not improve\n",
      "58464/58464 [==============================] - 5304s - loss: 0.0111 - val_loss: 0.1031\n",
      "Epoch 17/20\n",
      "58460/58464 [============================>.] - ETA: 0s - loss: 0.0110Epoch 00016: val_loss did not improve\n",
      "58492/58464 [==============================] - 5310s - loss: 0.0110 - val_loss: 0.1139\n",
      "Epoch 18/20\n",
      "58432/58464 [============================>.] - ETA: 2s - loss: 0.0109Epoch 00017: val_loss did not improve\n",
      "58464/58464 [==============================] - 5315s - loss: 0.0110 - val_loss: 0.1210\n",
      "Epoch 19/20\n",
      "22764/58464 [==========>...................] - ETA: 3241s - loss: 0.0095"
     ]
    }
   ],
   "source": [
    "checkpoint = ModelCheckpoint(filepath=join(PATH['WEIGHTS'], '3DCNN_nodule_clf_TESTED_ON_1c'), \n",
    "                             verbose=1, \n",
    "                             save_best_only=True)\n",
    "\n",
    "clf_model.fit_generator(train_generator, \n",
    "                        samples_per_epoch=(len(train) // (8 * BATCH_SIZE)) * BATCH_SIZE, \n",
    "                        nb_epoch=NB_EPOCH, \n",
    "                        callbacks=[checkpoint], \n",
    "                        validation_data=test_generator, \n",
    "                        class_weight={0: 1, \n",
    "                                      1: 1}, \n",
    "                        nb_val_samples=len(new_test),\n",
    "                      nb_worker=1)\n",
    "\n",
    "clf_model.save_weights(join(PATH['WEIGHTS'], '3DCNN_nodule_clf_final_TESTED_ON_1c'))"
   ]
  },
  {
   "cell_type": "code",
   "execution_count": 12,
   "metadata": {
    "collapsed": false
   },
   "outputs": [
    {
     "ename": "NameError",
     "evalue": "name 'clf_model' is not defined",
     "output_type": "error",
     "traceback": [
      "\u001b[1;31m\u001b[0m",
      "\u001b[1;31mNameError\u001b[0mTraceback (most recent call last)",
      "\u001b[1;32m<ipython-input-12-8b9fe9e6056a>\u001b[0m in \u001b[0;36m<module>\u001b[1;34m()\u001b[0m\n\u001b[0;32m      1\u001b[0m \u001b[1;32mimport\u001b[0m \u001b[0mpickle\u001b[0m\u001b[1;33m\u001b[0m\u001b[0m\n\u001b[0;32m      2\u001b[0m \u001b[0mtest_labels\u001b[0m \u001b[1;33m=\u001b[0m \u001b[0marray\u001b[0m\u001b[1;33m(\u001b[0m\u001b[1;33m[\u001b[0m\u001b[1;34m'nodule'\u001b[0m \u001b[1;32min\u001b[0m \u001b[0mi\u001b[0m\u001b[1;33m.\u001b[0m\u001b[0mlower\u001b[0m\u001b[1;33m(\u001b[0m\u001b[1;33m)\u001b[0m \u001b[1;32mfor\u001b[0m \u001b[0mi\u001b[0m \u001b[1;32min\u001b[0m \u001b[0mtest\u001b[0m\u001b[1;33m]\u001b[0m\u001b[1;33m)\u001b[0m\u001b[1;33m\u001b[0m\u001b[0m\n\u001b[1;32m----> 3\u001b[1;33m \u001b[0mpredicted_test\u001b[0m \u001b[1;33m=\u001b[0m \u001b[0mclf_model\u001b[0m\u001b[1;33m.\u001b[0m\u001b[0mpredict_generator\u001b[0m\u001b[1;33m(\u001b[0m\u001b[0mtest_generator\u001b[0m\u001b[1;33m,\u001b[0m \u001b[0mlen\u001b[0m\u001b[1;33m(\u001b[0m\u001b[0mtest\u001b[0m\u001b[1;33m)\u001b[0m\u001b[1;33m)\u001b[0m\u001b[1;33m\u001b[0m\u001b[0m\n\u001b[0m\u001b[0;32m      4\u001b[0m \u001b[0mpickle\u001b[0m\u001b[1;33m.\u001b[0m\u001b[0mdump\u001b[0m\u001b[1;33m(\u001b[0m\u001b[0mpredicted_test\u001b[0m\u001b[1;33m,\u001b[0m \u001b[0mopen\u001b[0m\u001b[1;33m(\u001b[0m\u001b[0mjoin\u001b[0m\u001b[1;33m(\u001b[0m\u001b[0mPATH\u001b[0m\u001b[1;33m[\u001b[0m\u001b[1;34m'WEIGHTS'\u001b[0m\u001b[1;33m]\u001b[0m\u001b[1;33m,\u001b[0m \u001b[1;34m'predicted_test_last_'\u001b[0m \u001b[1;33m+\u001b[0m \u001b[0mTEST_FOLD\u001b[0m\u001b[1;33m)\u001b[0m\u001b[1;33m,\u001b[0m \u001b[1;34m'wb'\u001b[0m\u001b[1;33m)\u001b[0m\u001b[1;33m)\u001b[0m\u001b[1;33m\u001b[0m\u001b[0m\n\u001b[0;32m      5\u001b[0m \u001b[0msave\u001b[0m\u001b[1;33m(\u001b[0m\u001b[0mjoin\u001b[0m\u001b[1;33m(\u001b[0m\u001b[0mPATH\u001b[0m\u001b[1;33m[\u001b[0m\u001b[1;34m'WEIGHTS'\u001b[0m\u001b[1;33m]\u001b[0m\u001b[1;33m,\u001b[0m \u001b[1;34m'labels_test_last_'\u001b[0m \u001b[1;33m+\u001b[0m \u001b[0mTEST_FOLD\u001b[0m\u001b[1;33m)\u001b[0m\u001b[1;33m,\u001b[0m \u001b[0mtest_labels\u001b[0m\u001b[1;33m)\u001b[0m\u001b[1;33m\u001b[0m\u001b[0m\n",
      "\u001b[1;31mNameError\u001b[0m: name 'clf_model' is not defined"
     ]
    }
   ],
   "source": [
    "import pickle\n",
    "test_labels = array(['nodule' in i.lower() for i in test])\n",
    "predicted_test = clf_model.predict_generator(test_generator, len(test))\n",
    "pickle.dump(predicted_test, open(join(PATH['WEIGHTS'], 'predicted_test_last_' + TEST_FOLD), 'wb'))\n",
    "save(join(PATH['WEIGHTS'], 'labels_test_last_' + TEST_FOLD), test_labels)"
   ]
  },
  {
   "cell_type": "code",
   "execution_count": 206,
   "metadata": {
    "collapsed": false
   },
   "outputs": [],
   "source": [
    "predicted_test_we = predicted_test\n",
    "test_labels_we = test_labels\n",
    "predicted_test = (.4 * predicted_test_wi + .3 * predicted_test_wo + .3 * predicted_test_we) / 3"
   ]
  },
  {
   "cell_type": "code",
   "execution_count": 201,
   "metadata": {
    "collapsed": false,
    "scrolled": false
   },
   "outputs": [
    {
     "data": {
      "text/plain": [
       "(149, 149)"
      ]
     },
     "execution_count": 201,
     "metadata": {},
     "output_type": "execute_result"
    }
   ],
   "source": [
    "(test_labels_wi * test_labels_wo * test_labels_we).sum(), test_labels_we.sum()"
   ]
  },
  {
   "cell_type": "code",
   "execution_count": 112,
   "metadata": {
    "collapsed": false
   },
   "outputs": [],
   "source": [
    "high = [(pred, path) for pred, path in zip(predicted_test, test) \n",
    "        if pred[0] >= .9 and pred[0] <= 1. and 'nodule' not in path.lower()]"
   ]
  },
  {
   "cell_type": "code",
   "execution_count": 103,
   "metadata": {
    "collapsed": false
   },
   "outputs": [
    {
     "data": {
      "image/png": "[encoded data removed]",
      "text/plain": [
       "<matplotlib.figure.Figure at 0x7f2c83d53ba8>"
      ]
     },
     "metadata": {},
     "output_type": "display_data"
    }
   ],
   "source": [
    "figure(figsize=(8, 5))\n",
    "gray()\n",
    "for i, pred_path in enumerate(high[15:30]):\n",
    "    ax1 = subplot(3, 5, i + 1)\n",
    "    ax1.autoscale_view('tight')\n",
    "    imshow(load(pred_path[1])[31:34].max(0))\n",
    "    axis('off')\n",
    "subplots_adjust(wspace=.0511, hspace=-.10)"
   ]
  },
  {
   "cell_type": "code",
   "execution_count": 207,
   "metadata": {
    "collapsed": false
   },
   "outputs": [
    {
     "name": "stderr",
     "output_type": "stream",
     "text": [
      "53522it [08:13, 108.47it/s]\n"
     ]
    }
   ],
   "source": [
    "table = pickle.load(open(join(PATH['WEIGHTS'], 'table_nodules'), 'rb'))\n",
    "df = pd.DataFrame(columns=['seriesuid', 'coordX', \n",
    "                           'coordY', 'coordZ', \n",
    "                           'class', 'probability'])\n",
    "for uid, val in tqdm(zip(test, predicted_test)):\n",
    "    table[basename(uid)[:-4]][0]['probability'] = val\n",
    "    df = df.append(table[basename(uid)[:-4]][0])"
   ]
  },
  {
   "cell_type": "code",
   "execution_count": 41,
   "metadata": {
    "collapsed": false
   },
   "outputs": [
    {
     "name": "stderr",
     "output_type": "stream",
     "text": [
      "26600it [07:14, 61.25it/s]\n"
     ]
    }
   ],
   "source": [
    "for uid, val in tqdm(zip(valid, predicted_valid)):\n",
    "    table[basename(uid)[:-4]][0]['probability'] = val\n",
    "    df = df.append(table[basename(uid)[:-4]][0])"
   ]
  },
  {
   "cell_type": "code",
   "execution_count": 209,
   "metadata": {
    "collapsed": true
   },
   "outputs": [],
   "source": [
    "path = '/home/a.dobrenkii/Projects/Kaggle/DataScienceBowl2K17/I/LungCancerDetection/support/evaluationScript/annotations/seriesuids_we.csv'\n",
    "seriesuid = pd.Series(unique(df.seriesuid.values))\n",
    "seriesuid.to_csv(path, index=False)\n",
    "path = '/home/a.dobrenkii/Projects/Kaggle/DataScienceBowl2K17/I/LungCancerDetection/support/evaluationScript/exampleFiles/submission/sampleSubmission_we.csv'\n",
    "df.to_csv(path, index=False)"
   ]
  },
  {
   "cell_type": "code",
   "execution_count": 210,
   "metadata": {
    "collapsed": true
   },
   "outputs": [],
   "source": [
    "path = '/home/a.dobrenkii/Projects/Kaggle/DataScienceBowl2K17/I/LungCancerDetection/support/evaluationScript/annotations/annotations.csv'\n",
    "annotations = pd.read_csv(path)\n",
    "annotations = annotations[annotations.seriesuid.isin(seriesuid)]\n",
    "path = '/home/a.dobrenkii/Projects/Kaggle/DataScienceBowl2K17/I/LungCancerDetection/support/evaluationScript/annotations/annotations_we.csv'\n",
    "annotations.to_csv(path, index=False)"
   ]
  },
  {
   "cell_type": "code",
   "execution_count": 208,
   "metadata": {
    "collapsed": false
   },
   "outputs": [],
   "source": [
    "df.probability = df.probability.apply(lambda x: x[0])"
   ]
  },
  {
   "cell_type": "code",
   "execution_count": 53,
   "metadata": {
    "collapsed": true
   },
   "outputs": [],
   "source": [
    "def perf_measure(y_actual, y_hat, seriesuid):\n",
    "    TP = 0\n",
    "    seriesuid_unique = set(seriesuid)\n",
    "    patients = dict(zip(seriesuid_unique, \n",
    "                        [0] * len(seriesuid_unique)))\n",
    "    \n",
    "    for act, hat in zip(y_actual, y_hat): \n",
    "        if act == hat == 1:\n",
    "            TP += 1\n",
    "\n",
    "    for act, hat, sid in zip(y_actual, y_hat, seriesuid): \n",
    "        if hat == 1 and act != hat:\n",
    "            patients[sid] += 1\n",
    "    \n",
    "    return TP / y_actual.sum(), mean(list(patients.values()))"
   ]
  },
  {
   "cell_type": "code",
   "execution_count": 54,
   "metadata": {
    "collapsed": false
   },
   "outputs": [
    {
     "name": "stderr",
     "output_type": "stream",
     "text": [
      "100%|██████████| 1000/1000 [10:15<00:00,  1.72it/s]\n"
     ]
    }
   ],
   "source": [
    "# seriesuid = [basename(path)[:64] for path in new_valid]\n",
    "seriesuid = [basename(path)[:64] \n",
    "             for path in valid.tolist() + test.tolist()]\n",
    "predicted = array(predicted_valid[:, 0].tolist() \n",
    "                  + predicted_test[:, 0].tolist())\n",
    "        \n",
    "labels = array(valid_labels.tolist() \n",
    "               + test_labels.tolist())\n",
    "\n",
    "treshold = linspace(.0001, 1, 1000)\n",
    "FROC = list()\n",
    "for tr in tqdm(treshold):\n",
    "    tresholded = predicted >= tr\n",
    "    FROC.append(perf_measure(labels, tresholded, seriesuid))"
   ]
  },
  {
   "cell_type": "code",
   "execution_count": 492,
   "metadata": {
    "collapsed": true
   },
   "outputs": [],
   "source": [
    "seriesuid = [basename(path) \n",
    "             for path in new_valid + valid.tolist() + test.tolist()]\n",
    "predicted = array(predicted_valid_new[:, 0].tolist() \n",
    "                  + predicted_valid[:, 0].tolist() \n",
    "                  + predicted_test[:, 0].tolist())\n",
    "        \n",
    "labels = array(new_valid_labels.tolist() \n",
    "               + valid_labels.tolist() \n",
    "               + test_labels.tolist())\n",
    "predicted = list(zip(seriesuid, predicted))"
   ]
  },
  {
   "cell_type": "code",
   "execution_count": 494,
   "metadata": {
    "collapsed": false
   },
   "outputs": [
    {
     "name": "stderr",
     "output_type": "stream",
     "text": [
      "888it [09:57,  1.05s/it]\n"
     ]
    }
   ],
   "source": [
    "# full = pickle.load(open(join(PATH['WEIGHTS'], 'full_nodules_description'), 'rb'))\n",
    "df = pd.DataFrame(columns=['seriesuid', 'coordX', 'coordY', 'coordZ', 'class', 'probability'])\n",
    "\n",
    "for skiped, patient in tqdm(reversed(full)):\n",
    "    nodules = [(uid, val) for uid, val in predicted \n",
    "               if basename(uid)[:64] in patient[0]]\n",
    "    \n",
    "    nodules = sorted(nodules, key=lambda x: int(basename(x[0])[64:-4]))\n",
    "    if not len(nodules):\n",
    "        continue\n",
    "\n",
    "    labels = asarray([val for uid, val in nodules])\n",
    "    for row, val in zip(patient[1], labels):\n",
    "        row[0]['probability'] = val\n",
    "        df = df.append(row[0])"
   ]
  },
  {
   "cell_type": "code",
   "execution_count": 432,
   "metadata": {
    "collapsed": false
   },
   "outputs": [],
   "source": [
    "path = '/home/a.dobrenkii/Projects/Kaggle/DataScienceBowl2K17/I/LungCancerDetection/support/evaluationScript/annotations/annotations.csv'\n",
    "df = pd.read_csv(path)\n",
    "df = df[df.seriesuid.isin(seriesuid)]\n",
    "path = '/home/a.dobrenkii/Projects/Kaggle/DataScienceBowl2K17/I/LungCancerDetection/support/evaluationScript/annotations/annotations_ed.csv'\n",
    "df.to_csv(path, index=False)"
   ]
  },
  {
   "cell_type": "code",
   "execution_count": 56,
   "metadata": {
    "collapsed": false
   },
   "outputs": [
    {
     "data": {
      "image/png": "[encoded data removed]",
      "text/plain": [
       "<matplotlib.figure.Figure at 0x7fc867c31898>"
      ]
     },
     "metadata": {},
     "output_type": "display_data"
    }
   ],
   "source": [
    "# sorted(FROC, key=lambda x: x[1])\n",
    "sns.set_style('white')\n",
    "FROC = asarray(FROC)\n",
    "fig = subplot(111)\n",
    "plot(FROC[1:, 1], FROC[1:, 0])\n",
    "# fig.set_title(\"FFT\")\n",
    "fig.set_autoscaley_on(False)\n",
    "fig.set_xlim([0.125, 8]);\n",
    "\n",
    "# Hide the right and top spines\n",
    "fig.spines['right'].set_visible(False)\n",
    "fig.spines['top'].set_visible(False)\n",
    "\n",
    "# Only show ticks on the left and bottom spines\n",
    "fig.yaxis.set_ticks_position('left')\n",
    "fig.xaxis.set_ticks_position('bottom')"
   ]
  },
  {
   "cell_type": "code",
   "execution_count": 41,
   "metadata": {
    "collapsed": false
   },
   "outputs": [
    {
     "data": {
      "image/png": "[encoded data removed]",
      "text/plain": [
       "<matplotlib.figure.Figure at 0x7fd7688bb550>"
      ]
     },
     "metadata": {},
     "output_type": "display_data"
    }
   ],
   "source": [
    "from sklearn.metrics import roc_curve, auc\n",
    "from sklearn.preprocessing import label_binarize\n",
    "\n",
    "fpr = dict()\n",
    "tpr = dict()\n",
    "roc_auc = dict()\n",
    "for i in range(2):\n",
    "    fpr[i], tpr[i], _ = roc_curve(test_labels[:, i], predicted[:, i])\n",
    "    roc_auc[i] = auc(fpr[i], tpr[i])\n",
    "\n",
    "# Compute micro-average ROC curve and ROC area\n",
    "fpr[\"micro\"], tpr[\"micro\"], _ = roc_curve(test_labels.ravel(), predicted.ravel())\n",
    "roc_auc[\"micro\"] = auc(fpr[\"micro\"], tpr[\"micro\"])\n",
    "\n",
    "plt.figure()\n",
    "lw = 2\n",
    "plt.plot(fpr[0], tpr[0], color='darkorange',\n",
    "         lw=lw, label='ROC curve (area = %0.2f)' % roc_auc[0])\n",
    "plt.plot([0, 1], [0, 1], color='navy', lw=lw, linestyle='--')\n",
    "plt.xlim([0.0, 1.0])\n",
    "plt.ylim([0.0, 1.05])\n",
    "plt.xlabel('False Positive Rate')\n",
    "plt.ylabel('True Positive Rate')\n",
    "plt.title('Receiver operating characteristic example')\n",
    "plt.legend(loc=\"lower right\")\n",
    "plt.show()"
   ]
  }
 ],
 "metadata": {
  "anaconda-cloud": {},
  "kernelspec": {
   "display_name": "Python [Root]",
   "language": "python",
   "name": "Python [Root]"
  },
  "language_info": {
   "codemirror_mode": {
    "name": "ipython",
    "version": 3
   },
   "file_extension": ".py",
   "mimetype": "text/x-python",
   "name": "python",
   "nbconvert_exporter": "python",
   "pygments_lexer": "ipython3",
   "version": "3.5.2"
  }
 },
 "nbformat": 4,
 "nbformat_minor": 0
}
