{
 "cells": [
  {
   "cell_type": "markdown",
   "id": "a50d92d0-8a76-4020-8e76-b31de1dc35be",
   "metadata": {},
   "source": [
    "<div style=\"text-align:left;font-size:2em\"><span style=\"font-weight:bolder;font-size:1.25em\">SP2273 | Learning Portfolio</span><br><br><span style=\"font-weight:bold;color:darkred\">Fundamentals (Need)</span></div>"
   ]
  },
  {
   "cell_type": "markdown",
   "id": "5182ed3c-da99-4d7e-87fa-464225859ac2",
   "metadata": {},
   "source": [
    "## **What to expect in this chapter**"
   ]
  },
  {
   "cell_type": "markdown",
   "id": "78e6af35-565a-4801-a98e-d8f9eec5f2b4",
   "metadata": {},
   "source": [
    "In this chapter, we are introduced to some essential basics of Python–just enough to kickstart our journey. By the end of this chapter, we should  understand the absolute fundamentals of Python’s syntax. These include how Python uses indentations (spaces, tabs) to identify blocks of code, how to use the dot(`.`) and how to extend Python’s abilities by importing packages. I will also share tips on what to remember (or not) so that you know what to watch out for."
   ]
  },
  {
   "cell_type": "markdown",
   "id": "d357bc25-26ea-4d6a-bb17-a87b07214677",
   "metadata": {},
   "source": [
    "## **Functions**"
   ]
  },
  {
   "cell_type": "code",
   "execution_count": 1,
   "id": "3de755df-7420-45c3-b60e-e1d4f488a654",
   "metadata": {},
   "outputs": [
    {
     "name": "stdout",
     "output_type": "stream",
     "text": [
      "Hello world!\n"
     ]
    }
   ],
   "source": [
    "print('Hello world!')"
   ]
  },
  {
   "cell_type": "markdown",
   "id": "df91f92b-3892-4094-8416-420b48f06abd",
   "metadata": {},
   "source": [
    "As seen above, we should see the words <span style=\"color:purple\"> Hello World! </span> as the output. \n",
    "Allow me to highlight a few things in this command.\n",
    "\n",
    "- <span style=\"color:purple\"> print() </span> is a <span style=\"color:orange\">function </span>.\n",
    "  <br> You can think of a function as ‘something’ that does a specific task. In this case, the <span style=\"color:purple\"> print() </span> function accepts the “Hello world” <span style=\"color:orange\"> argument </span> and prints it to the screen.\n",
    "- Parentheses, <span style=\"color:purple\">()</span>, always follow a function.\n",
    "<br>We use these parentheses to pass arguments to the function. Most functions expect arguments; the parentheses are left empty for those functions that don’t require an argument (e.g. <span style=\"color:purple\"> exit()</span>).\n",
    "- <span style=\"color:purple\">print()</span> is a core (in-built) function of Python.\n",
    "<br>We can also define our own functions. This is an extremely powerful feature, which we will explore later.\n",
    "- The above is an example of what we call <span style=\"color:orange\">code</span>; instructions written using a syntax that a programming language understands."
   ]
  },
  {
   "cell_type": "markdown",
   "id": "7780e2d5-a465-453a-8a86-bcc4c8c15a25",
   "metadata": {},
   "source": [
    "## **Python is interpreted**"
   ]
  },
  {
   "cell_type": "markdown",
   "id": "5b4e168b-dda1-4dc7-866b-4f02e22a63ff",
   "metadata": {},
   "source": [
    "What we refer to as 'Python' is really the python <span style=\"color:orange\">interpreter</span>"
   ]
  },
  {
   "cell_type": "markdown",
   "id": "d9757d80-6c92-4b30-8584-987ce71b62bb",
   "metadata": {},
   "source": [
    "An interpreter works **sequentially, one command at a time**. So, for example, the following has two commands."
   ]
  },
  {
   "cell_type": "code",
   "execution_count": 2,
   "id": "5a4c938d-fb6b-4bfa-9de2-a371d2642205",
   "metadata": {},
   "outputs": [
    {
     "name": "stdout",
     "output_type": "stream",
     "text": [
      "Hello World\n",
      "Hello World again\n"
     ]
    }
   ],
   "source": [
    "print('Hello World')\n",
    "print('Hello World again')"
   ]
  },
  {
   "cell_type": "markdown",
   "id": "2c754d39-76ec-4307-9d20-8d54c89e9d87",
   "metadata": {},
   "source": [
    "The interpreter stops and complains if there is an error in the command it is currently executing. We will talk more about Python’s complaints, hissy fits and tantrums later.\n",
    "\n"
   ]
  },
  {
   "cell_type": "markdown",
   "id": "b02481d8-8ed2-4705-ae41-b295d64d8866",
   "metadata": {},
   "source": [
    "## **Python is sensitive**"
   ]
  },
  {
   "cell_type": "markdown",
   "id": "2e66e44f-8035-454f-9b3f-6494c3af17e3",
   "metadata": {},
   "source": [
    "Python is case-sensitive, so <span style='color:purple'>Print( )</span> is different from <span style='color:purple'> print( )</span>.\n",
    "\n",
    "This means,"
   ]
  },
  {
   "cell_type": "code",
   "execution_count": 3,
   "id": "fd67350f-6a59-40fb-aff4-c6ec78425ab1",
   "metadata": {},
   "outputs": [
    {
     "name": "stdout",
     "output_type": "stream",
     "text": [
      "Hello World\n"
     ]
    },
    {
     "ename": "NameError",
     "evalue": "name 'Print' is not defined",
     "output_type": "error",
     "traceback": [
      "\u001b[0;31m---------------------------------------------------------------------------\u001b[0m",
      "\u001b[0;31mNameError\u001b[0m                                 Traceback (most recent call last)",
      "Cell \u001b[0;32mIn[3], line 2\u001b[0m\n\u001b[1;32m      1\u001b[0m \u001b[38;5;28mprint\u001b[39m (\u001b[38;5;124m'\u001b[39m\u001b[38;5;124mHello World\u001b[39m\u001b[38;5;124m'\u001b[39m) \u001b[38;5;66;03m#This WILL work\u001b[39;00m\n\u001b[0;32m----> 2\u001b[0m \u001b[43mPrint\u001b[49m(\u001b[38;5;124m'\u001b[39m\u001b[38;5;124mHello World\u001b[39m\u001b[38;5;124m'\u001b[39m) \u001b[38;5;66;03m#This will NOT work\u001b[39;00m\n",
      "\u001b[0;31mNameError\u001b[0m: name 'Print' is not defined"
     ]
    }
   ],
   "source": [
    "print ('Hello World') #This WILL work\n",
    "Print('Hello World') #This will NOT work"
   ]
  },
  {
   "cell_type": "markdown",
   "id": "28b3f348-6237-4ecb-a99a-6669d6f66a8c",
   "metadata": {},
   "source": [
    "## **Comments**"
   ]
  },
  {
   "cell_type": "markdown",
   "id": "e20692ff-4f7a-4ff6-901f-700d36dfe881",
   "metadata": {},
   "source": [
    "Additional information (e.g. *WILL* work or will *NOT* work) in the above code by inserting a <span style='color: purple'>#</span>. These are called <span style='color: orange'>comments</span>.\n",
    "\n",
    "- Python ignores all comments\n",
    "- Anything between the <span style='color: purple'>#</span> and the end of the line constitutes the comment.\n",
    "\n",
    "Here is another example of writing comments."
   ]
  },
  {
   "cell_type": "code",
   "execution_count": 4,
   "id": "55e8fc59-2fbd-47b1-a63d-5e8fe7a1b767",
   "metadata": {},
   "outputs": [
    {
     "name": "stdout",
     "output_type": "stream",
     "text": [
      "One\n",
      "Three\n"
     ]
    }
   ],
   "source": [
    "# This is a comment\n",
    "print('One')              # This is a comment.\n",
    "# print('Two')            # The interpreter ignores this line.\n",
    "print('Three')            # This is\n",
    "                          # also a way to\n",
    "                          # write comments"
   ]
  },
  {
   "cell_type": "markdown",
   "id": "1632adda-8cb6-4f33-86a0-ba674cdef6a2",
   "metadata": {},
   "source": [
    "It is important to note that comments are for humans. However, we must use them carefully; unnecessary comments create clutter and hinder code readability. For instance, the following comment is redundant."
   ]
  },
  {
   "cell_type": "code",
   "execution_count": 5,
   "id": "efebf6ff-5135-41da-a8f3-c8f394db334a",
   "metadata": {},
   "outputs": [
    {
     "name": "stdout",
     "output_type": "stream",
     "text": [
      "Hello world\n"
     ]
    }
   ],
   "source": [
    "print(\"Hello world\" )     # Printing \"Hello World.\""
   ]
  },
  {
   "cell_type": "markdown",
   "id": "48e275fa-7966-42d8-ae86-867fd6fe3161",
   "metadata": {},
   "source": [
    "Writing comments to help your future self understand the purpose of the code helps us remember what the code is supposed to do. We will develop a knack for writing good comments as we gain more experience.\n",
    "<br> For the moment: \n",
    "*Use comments to emphasise the purpose of the code*"
   ]
  },
  {
   "cell_type": "markdown",
   "id": "9e735289-5276-40c3-b559-b448a01ff5f7",
   "metadata": {},
   "source": [
    "## **= is not the same as ==**"
   ]
  },
  {
   "cell_type": "markdown",
   "id": "939f2df1-6659-4060-a377-c3a8c986f05f",
   "metadata": {},
   "source": [
    "<span style='color:purple'>=</span> and <span style ='color:purple'>==</span> are commonly used in programming. These mean two different things\n",
    "\n",
    "- <span style='color:purple'>=</span> is used to set something equal. "
   ]
  },
  {
   "cell_type": "code",
   "execution_count": 10,
   "id": "5d2690ea-519b-46f3-94ca-c792622b5468",
   "metadata": {},
   "outputs": [],
   "source": [
    "name = 'Batman' #Make the name carry 'Batman'"
   ]
  },
  {
   "cell_type": "markdown",
   "id": "b8f03776-19cd-4139-ba0e-b4a6d1a8e6ab",
   "metadata": {},
   "source": [
    "- <span style='color:purple'>==</span> is used to check if something is equal (i.e., asking a question)."
   ]
  },
  {
   "cell_type": "code",
   "execution_count": 9,
   "id": "052a3653-936c-4571-bb8a-bec59326f058",
   "metadata": {},
   "outputs": [
    {
     "data": {
      "text/plain": [
       "True"
      ]
     },
     "execution_count": 9,
     "metadata": {},
     "output_type": "execute_result"
    }
   ],
   "source": [
    "name == 'Batman' #Tell me if name equal to 'Batman'? "
   ]
  },
  {
   "cell_type": "markdown",
   "id": "6b9502e2-698a-4ef5-bc4a-569f72a7fa8b",
   "metadata": {},
   "source": [
    "## **Use if to make decisions**"
   ]
  },
  {
   "cell_type": "markdown",
   "id": "eb75335a-8ebb-4a34-a5ba-9e488f259569",
   "metadata": {},
   "source": [
    "Making decisions based on data is a cornerstone of life and programming. We accomplish this with the <span style='color:purple'>if</span> statement. Specifically, <span style='color:purple'>if</span> can be used to branch the flow of the program. Here is an example."
   ]
  },
  {
   "cell_type": "code",
   "execution_count": 11,
   "id": "3ecbb0e4-408a-4c85-9cc7-f08173e393ac",
   "metadata": {},
   "outputs": [
    {
     "name": "stdout",
     "output_type": "stream",
     "text": [
      "Hello Batman!!\n"
     ]
    }
   ],
   "source": [
    "name = 'Batman'\n",
    "if name =='Batman':\n",
    "    print('Hello Batman!!')\n",
    "else:\n",
    "    print('Hello world!')"
   ]
  },
  {
   "cell_type": "markdown",
   "id": "9fb42496-ea08-4c58-a7a1-212eb5d52a4b",
   "metadata": {},
   "source": [
    "A typical <span style='color:purple'>if</span> statement asks a question (i.e., tests a condition) and has something to do if the answer is <span style='color:purple'>True</span> (printing *Hello Batman!*) and something else (printing *Hello World!* ) if it is not. \n",
    "<br>**Notice** the use of : and <span style='color:orange'>indentations</span> (spaces or tabs) to define what to do if the answer is <span style='color:purple'>True</span> and what to do if the answer is <span style='color:purple'>False</span>."
   ]
  },
  {
   "cell_type": "markdown",
   "id": "a5f1e139-a48d-451f-8c01-b30301617aab",
   "metadata": {},
   "source": [
    "## **Indentations (spaces) are sooo IMPORTANT!**"
   ]
  },
  {
   "cell_type": "markdown",
   "id": "8d22595c-bd19-4f18-95e0-78f858541244",
   "metadata": {},
   "source": [
    "With Python, ths code **will** work:"
   ]
  },
  {
   "cell_type": "code",
   "execution_count": 12,
   "id": "cb8994a8-7809-4612-b70c-6c4a34b72d3e",
   "metadata": {},
   "outputs": [
    {
     "name": "stdout",
     "output_type": "stream",
     "text": [
      "10\n"
     ]
    }
   ],
   "source": [
    "x = 10\n",
    "print(x)"
   ]
  },
  {
   "cell_type": "markdown",
   "id": "6980ec4f-12b6-40eb-970b-3a81f118e3a4",
   "metadata": {},
   "source": [
    "However, the following will **not** work:"
   ]
  },
  {
   "cell_type": "code",
   "execution_count": 13,
   "id": "0dd92394-51a8-4bbf-a137-1506b29d755b",
   "metadata": {},
   "outputs": [
    {
     "ename": "IndentationError",
     "evalue": "unexpected indent (186375093.py, line 2)",
     "output_type": "error",
     "traceback": [
      "\u001b[0;36m  Cell \u001b[0;32mIn[13], line 2\u001b[0;36m\u001b[0m\n\u001b[0;31m    print(x)\u001b[0m\n\u001b[0m    ^\u001b[0m\n\u001b[0;31mIndentationError\u001b[0m\u001b[0;31m:\u001b[0m unexpected indent\n"
     ]
    }
   ],
   "source": [
    "x=10\n",
    "    print(x)"
   ]
  },
  {
   "cell_type": "markdown",
   "id": "d8fc4bd9-0cff-44fe-a3f5-d1c30351da34",
   "metadata": {},
   "source": [
    "We can understand why there is an error by looking at the structure of the <span style='color:purple'>if</span> statement. Notice that Python uses an indentation to separate the <span style='color:purple'>True</span> and <span style='color:purple'>False</span> ‘blocks’. So you cannot use indentations (spaces) indiscriminately as this will confuse Python.\n",
    "\n",
    "One of the reasons why Python is so easy to read is its use of indentation. Other languages, such as C++ or R, use brackets that can become clunky."
   ]
  },
  {
   "cell_type": "markdown",
   "id": "759671c2-5849-44c0-85f0-6f9dd0a8f1a3",
   "metadata": {},
   "source": [
    "## **'age' is English, age is a variable.**"
   ]
  },
  {
   "cell_type": "markdown",
   "id": "836cf8e7-6d52-4cee-9755-58ee0aa3a693",
   "metadata": {},
   "source": [
    "Variables are ‘things’ that can hold information. You can give almost2 any name for a variable. However, it is best to provide a name that describes the data it ‘carries’."
   ]
  },
  {
   "cell_type": "markdown",
   "id": "373c0edd-3d54-4ffa-bfa4-6a6e0bbe1ca2",
   "metadata": {},
   "source": [
    "Be careful about mixing up English with variables. For example, there is a difference between the following."
   ]
  },
  {
   "cell_type": "code",
   "execution_count": 14,
   "id": "9830220b-1245-49bc-afee-f7b263c9f8cd",
   "metadata": {},
   "outputs": [
    {
     "name": "stdout",
     "output_type": "stream",
     "text": [
      "50\n",
      "age\n"
     ]
    }
   ],
   "source": [
    "#For example \n",
    "age = '50'\n",
    "\n",
    "print(age) #Print the valuer of the variable age\n",
    "print('age') #Print the English word 'age'"
   ]
  },
  {
   "cell_type": "markdown",
   "id": "c50caaa4-2bde-4b39-b119-7d57212135f5",
   "metadata": {},
   "source": [
    "To get the variable age to work. we need to assign a value to it, as seen above"
   ]
  },
  {
   "cell_type": "markdown",
   "id": "d420443f-c5fb-4add-a038-0677134b30ec",
   "metadata": {},
   "source": [
    "Note that you can use either matching pairs of <span style='color:purple'>' '</span> or <span style='color:purple'>\" \"</span>. However, it is always good to be consistent. Sometimes, it is good to have both because you need to do things like:"
   ]
  },
  {
   "cell_type": "code",
   "execution_count": 15,
   "id": "d805410f-c024-4bf8-9bcc-2a5aee2d8979",
   "metadata": {},
   "outputs": [
    {
     "name": "stdout",
     "output_type": "stream",
     "text": [
      "You're twenty years old.\n"
     ]
    }
   ],
   "source": [
    "print(\"You're twenty years old.\")"
   ]
  },
  {
   "cell_type": "markdown",
   "id": "5fff43d0-16ae-4378-9625-37f12ad1efd1",
   "metadata": {},
   "source": [
    "## **Brackets**"
   ]
  },
  {
   "cell_type": "markdown",
   "id": "6d31a559-c27c-44d5-bcaa-6cc548c3cd76",
   "metadata": {},
   "source": [
    "Python uses all three types of brackets <span style='color:purple'>( ), [ ]</span> and <span style='color:purple'>{ }</span>. Here are some examples:\n",
    "\n",
    "<span style ='color:lightgrey'>Example 1</span>\n",
    "    <br>Python uses <span style='color:purple'>( )</span> in calls to function."
   ]
  },
  {
   "cell_type": "code",
   "execution_count": 16,
   "id": "6a7d7453-b404-4c8b-8f27-e6f1aa8f1bb1",
   "metadata": {},
   "outputs": [
    {
     "name": "stdout",
     "output_type": "stream",
     "text": [
      "Hello!\n"
     ]
    }
   ],
   "source": [
    "print('Hello!')             # In functions"
   ]
  },
  {
   "cell_type": "markdown",
   "id": "53905dfd-7e4d-4299-9fc3-897d9e5e96d1",
   "metadata": {},
   "source": [
    "\n",
    "<span style ='color:lightgrey'>Example 2</span>\n",
    "    <br>Python uses <span style='color:purple'>( )</span> for mathematics."
   ]
  },
  {
   "cell_type": "code",
   "execution_count": 17,
   "id": "1b354be5-cca3-4113-82cc-f1ec7cefddf8",
   "metadata": {},
   "outputs": [
    {
     "data": {
      "text/plain": [
       "15"
      ]
     },
     "execution_count": 17,
     "metadata": {},
     "output_type": "execute_result"
    }
   ],
   "source": [
    "(1 + 2) * 5                 # For math"
   ]
  },
  {
   "cell_type": "markdown",
   "id": "3ec43af6-9109-46e8-9e49-428a94ffd568",
   "metadata": {},
   "source": [
    "<span style ='color:lightgrey'>Example 3</span>\n",
    "    <br>Python uses <span style='color:purple'>[ ]</span> for lists of data."
   ]
  },
  {
   "cell_type": "code",
   "execution_count": 38,
   "id": "b42129ff-61a0-4274-a598-a881dd8d0881",
   "metadata": {},
   "outputs": [],
   "source": [
    "py_list = [1, 2, 3, 4, 5]   # A 1D list\n",
    "\n",
    "py_list_2 = [               # A 2D list\n",
    "                [1, \"A\"],      \n",
    "                [2, \"B\"],\n",
    "                [3, \"C\"],\n",
    "                [4, \"D\"],\n",
    "                [5, \"E\"]\n",
    "            ]"
   ]
  },
  {
   "cell_type": "markdown",
   "id": "debe5d56-2261-484c-8e6b-2e11dfbfe132",
   "metadata": {},
   "source": [
    "<span style ='color:lightgrey'>Example 4</span>\n",
    "    <br>Python uses <span style='color:purple'>{ }</span> to store data in a 'thing' called a <span style ='color:orange'>dictionary</span>\n",
    "    <br>Here is an example:"
   ]
  },
  {
   "cell_type": "code",
   "execution_count": 39,
   "id": "fdcda1ea-5760-4521-a8ec-e72d38603e1d",
   "metadata": {},
   "outputs": [
    {
     "name": "stdout",
     "output_type": "stream",
     "text": [
      "{'Names': 'Batman', 'Real Name': 'Bruce Wayne', 'Age': 55, 'Affiliation': 'Justice League', 'Universe': 'DC'}\n"
     ]
    }
   ],
   "source": [
    "personal_info = {\n",
    "    'Names': 'Batman',\n",
    "    'Real Name': 'Bruce Wayne',\n",
    "    'Age': 55,\n",
    "    'Affiliation': 'Justice League',\n",
    "    'Universe': 'DC'\n",
    "}\n",
    "print(personal_info)"
   ]
  },
  {
   "cell_type": "code",
   "execution_count": 40,
   "id": "f35477f4-3755-4d24-a08b-0ec876530110",
   "metadata": {},
   "outputs": [
    {
     "name": "stdout",
     "output_type": "stream",
     "text": [
      "Batman\n"
     ]
    }
   ],
   "source": [
    "print(personal_info['Names'])"
   ]
  },
  {
   "cell_type": "markdown",
   "id": "def47f8d-fcab-4d6a-9222-0593ca77e9bd",
   "metadata": {},
   "source": [
    "## **Giving Python superpowers with Packages**"
   ]
  },
  {
   "cell_type": "markdown",
   "id": "ea5ecefc-6a5e-45be-aa94-274a7c1ccbf5",
   "metadata": {},
   "source": [
    "## **Some Context:**"
   ]
  },
  {
   "cell_type": "markdown",
   "id": "355d8783-6056-45b0-9d14-baac21bb2c9d",
   "metadata": {},
   "source": [
    "Lets say we want to calculate:\n",
    "<br>\n",
    "$$ \n",
    "\\dfrac{1 \\times((2-3)+4)^5}{6}\n",
    "$$\n",
    "\n",
    "<br> We can do this by:"
   ]
  },
  {
   "cell_type": "code",
   "execution_count": 41,
   "id": "51bc6ca1-a6a6-4a82-8a9c-70ee2d2ec26c",
   "metadata": {},
   "outputs": [
    {
     "data": {
      "text/plain": [
       "40.5"
      ]
     },
     "execution_count": 41,
     "metadata": {},
     "output_type": "execute_result"
    }
   ],
   "source": [
    "1 * ((2 - 3) + 4) ** 5 / 6"
   ]
  },
  {
   "cell_type": "markdown",
   "id": "8dfffac5-301a-412f-a605-98438b8efc40",
   "metadata": {},
   "source": [
    "For $\\sqrt4$"
   ]
  },
  {
   "cell_type": "code",
   "execution_count": 30,
   "id": "6e0d7def-a7b4-4d61-9dd1-528c98d1e3c5",
   "metadata": {},
   "outputs": [
    {
     "ename": "NameError",
     "evalue": "name 'sqrt' is not defined",
     "output_type": "error",
     "traceback": [
      "\u001b[0;31m---------------------------------------------------------------------------\u001b[0m",
      "\u001b[0;31mNameError\u001b[0m                                 Traceback (most recent call last)",
      "Cell \u001b[0;32mIn[30], line 1\u001b[0m\n\u001b[0;32m----> 1\u001b[0m \u001b[43msqrt\u001b[49m(\u001b[38;5;241m4\u001b[39m)      \u001b[38;5;66;03m# Will NOT work because \u001b[39;00m\n\u001b[1;32m      2\u001b[0m              \u001b[38;5;66;03m# basic Python is limited\u001b[39;00m\n",
      "\u001b[0;31mNameError\u001b[0m: name 'sqrt' is not defined"
     ]
    }
   ],
   "source": [
    "sqrt(4)      # Will NOT work because \n",
    "             # basic Python is limited"
   ]
  },
  {
   "cell_type": "markdown",
   "id": "45e9d5d1-76aa-4199-bfc9-b055a523ba8f",
   "metadata": {},
   "source": [
    "This is not a problem because we can imbue Python with newer functionality by using <span style='color:orange'>packages</span>. For instance, I can give Python more math skills by using (importing) the <span style='color:purple'>math</span> package."
   ]
  },
  {
   "cell_type": "markdown",
   "id": "c64ece09-2b92-4646-97a0-9e952929441d",
   "metadata": {},
   "source": [
    "## **Importing the <span style='color:purple'>math</span> package**"
   ]
  },
  {
   "cell_type": "code",
   "execution_count": 28,
   "id": "2837633b-1671-4aee-afb7-3afc7ea46a9e",
   "metadata": {},
   "outputs": [],
   "source": [
    "import math         # Adding(importing) the functions\n",
    "                    # of the 'math' package    "
   ]
  },
  {
   "cell_type": "markdown",
   "id": "1290b995-6320-4da0-a323-41319327dfee",
   "metadata": {},
   "source": [
    "Now we can use the <span style='color:purple'>sqrt()</span> function of the <span style='color:purple'>math</span> module."
   ]
  },
  {
   "cell_type": "code",
   "execution_count": 29,
   "id": "6846ad70-78df-4459-90cd-964cb5b1505b",
   "metadata": {},
   "outputs": [
    {
     "data": {
      "text/plain": [
       "2.0"
      ]
     },
     "execution_count": 29,
     "metadata": {},
     "output_type": "execute_result"
    }
   ],
   "source": [
    "math.sqrt(4)"
   ]
  },
  {
   "cell_type": "markdown",
   "id": "da755757-7cf0-4680-9489-0b7aaad29265",
   "metadata": {},
   "source": [
    "## **Importing the <span style='color:purple'>numpy</span> package**"
   ]
  },
  {
   "cell_type": "markdown",
   "id": "401c55db-2324-42b8-9ad0-80905e380360",
   "metadata": {},
   "source": [
    "<span style='color:purple'>Math</span> is one of many modules that offer the sqrt<span style='color:purple'>( )</span> functionality. So let me also import the super useful <span style='color:purple'>Numpy</span> package to use its <span style='color:purple'>sqrt( )</span> function."
   ]
  },
  {
   "cell_type": "code",
   "execution_count": 31,
   "id": "e0ef1a4d-af77-4dc5-bb5d-edad3c767417",
   "metadata": {},
   "outputs": [],
   "source": [
    "import numpy as np    # Importing Numpy and giving \n",
    "                      # it an alias np \n",
    "                      # because I am lazy"
   ]
  },
  {
   "cell_type": "markdown",
   "id": "21f99ad5-f207-45e4-a493-b195b1fa2a47",
   "metadata": {},
   "source": [
    "Now we can also use the sqrt() function of the Numpy module. Since I imported it with an alias (np) we can use np. "
   ]
  },
  {
   "cell_type": "code",
   "execution_count": 32,
   "id": "d4cd2afa-e5a3-4009-9bd6-cb6a6e140109",
   "metadata": {},
   "outputs": [
    {
     "data": {
      "text/plain": [
       "2.8284271247461903"
      ]
     },
     "execution_count": 32,
     "metadata": {},
     "output_type": "execute_result"
    }
   ],
   "source": [
    "np.sqrt(8)"
   ]
  },
  {
   "cell_type": "markdown",
   "id": "d02bf84e-e1b9-49b6-b6a5-8abd746d0cb5",
   "metadata": {},
   "source": [
    "## **Why so many packages?**"
   ]
  },
  {
   "cell_type": "markdown",
   "id": "8a204865-cd26-4791-ae08-7b7e023bea51",
   "metadata": {},
   "source": [
    "Why do we need multiple <span style='color:purple'>sqrt( )</span> functions. There are different versions because they have different capabilities and efficiencies. For example, the <span style='color:purple'>Numpy</span> version can handle a list of numbers:"
   ]
  },
  {
   "cell_type": "code",
   "execution_count": 34,
   "id": "c313eda1-eccd-42aa-9fe3-8fc59f12803c",
   "metadata": {},
   "outputs": [
    {
     "data": {
      "text/plain": [
       "array([2., 3., 4.])"
      ]
     },
     "execution_count": 34,
     "metadata": {},
     "output_type": "execute_result"
    }
   ],
   "source": [
    "np.sqrt([4, 9, 16])"
   ]
  },
  {
   "cell_type": "markdown",
   "id": "05eeeb0a-d3f4-4a04-8c91-f56244c3024c",
   "metadata": {},
   "source": [
    "*We can only import packages once. Python will remember the functions until you restart the Python interpreter.*"
   ]
  },
  {
   "cell_type": "markdown",
   "id": "702e0e4a-202f-4004-8e67-74aa090d313d",
   "metadata": {},
   "source": [
    "## **The dot (.)**"
   ]
  },
  {
   "cell_type": "markdown",
   "id": "b69611ff-3d06-47a2-ac0b-608dfa7d8917",
   "metadata": {},
   "source": [
    "Dot (.) is often used in Python and other programming languages. This dot is used to indicate **ownership**! See the code below to find out how it works:"
   ]
  },
  {
   "cell_type": "code",
   "execution_count": 35,
   "id": "ab00ebdf-a3d0-4b73-a26f-2bf1b7732822",
   "metadata": {},
   "outputs": [
    {
     "data": {
      "text/plain": [
       "2.0"
      ]
     },
     "execution_count": 35,
     "metadata": {},
     "output_type": "execute_result"
    }
   ],
   "source": [
    "math.sqrt(4)\n",
    "np.sqrt(4)"
   ]
  },
  {
   "cell_type": "markdown",
   "id": "1a608b0d-150f-4a0a-81b9-5b7ab44551d0",
   "metadata": {},
   "source": [
    "In the first line, the <span style='color:purple'>sqrt( )</span> functionthat **belongs** to the math module. \n",
    "<br> In the second line, we use the <span style='color:purple'>sqrt( )</span> function that **belongs** to NumPy. \n",
    "\n",
    "<br> Everything in Python (e.g., numbers, letters) has functions and attributes that belong to them. We can access them using the dot. For example, the following will split the sentence into words."
   ]
  },
  {
   "cell_type": "code",
   "execution_count": 36,
   "id": "5e13d525-a000-4054-89d7-263a28fcd982",
   "metadata": {},
   "outputs": [
    {
     "data": {
      "text/plain": [
       "['I', 'am', 'Batman']"
      ]
     },
     "execution_count": 36,
     "metadata": {},
     "output_type": "execute_result"
    }
   ],
   "source": [
    "\"I am Batman\".split()"
   ]
  },
  {
   "cell_type": "markdown",
   "id": "717304d2-71d9-4932-8f29-64510d51e563",
   "metadata": {},
   "source": [
    "However, the following will not work because having a <span style='color:purple'>split()</span> function for numbers makes no sense."
   ]
  },
  {
   "cell_type": "code",
   "execution_count": 37,
   "id": "096b8646-9465-4626-8cf5-4e2c04e1d58c",
   "metadata": {},
   "outputs": [
    {
     "ename": "SyntaxError",
     "evalue": "invalid decimal literal (3897031440.py, line 1)",
     "output_type": "error",
     "traceback": [
      "\u001b[0;36m  Cell \u001b[0;32mIn[37], line 1\u001b[0;36m\u001b[0m\n\u001b[0;31m    1234.split()\u001b[0m\n\u001b[0m        ^\u001b[0m\n\u001b[0;31mSyntaxError\u001b[0m\u001b[0;31m:\u001b[0m invalid decimal literal\n"
     ]
    }
   ],
   "source": [
    "1234.split()"
   ]
  },
  {
   "cell_type": "markdown",
   "id": "42ab9f8a-2039-41b0-b672-1d923eb14a49",
   "metadata": {},
   "source": [
    "The things that can be accessed using the dot depend on what the dot is attached to. This will become more obvious very quickly as you use Python more."
   ]
  }
 ],
 "metadata": {
  "kernelspec": {
   "display_name": "Python 3 (ipykernel)",
   "language": "python",
   "name": "python3"
  },
  "language_info": {
   "codemirror_mode": {
    "name": "ipython",
    "version": 3
   },
   "file_extension": ".py",
   "mimetype": "text/x-python",
   "name": "python",
   "nbconvert_exporter": "python",
   "pygments_lexer": "ipython3",
   "version": "3.11.5"
  }
 },
 "nbformat": 4,
 "nbformat_minor": 5
}
