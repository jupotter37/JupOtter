{
 "cells": [
  {
   "cell_type": "code",
   "execution_count": 1,
   "id": "e087e9c7-35b4-4e37-aa26-965ebd62d4e1",
   "metadata": {},
   "outputs": [],
   "source": [
    "import numpy as np\n",
    "import matplotlib.pyplot as plt\n",
    "import matplotlib.animation as animation\n",
    "from matplotlib import style"
   ]
  },
  {
   "cell_type": "code",
   "execution_count": 2,
   "id": "c7368fa3-2a29-4c94-a95e-448adbf8a403",
   "metadata": {},
   "outputs": [],
   "source": [
    "p = np.array([\n",
    "[0.5, 0.6, 0.4],\n",
    "[0.2, 0.3, 0.5],\n",
    "[0.3, 0.1, 0.1]\n",
    "])"
   ]
  },
  {
   "cell_type": "code",
   "execution_count": 3,
   "id": "0e10c39a-1263-4dc6-9df3-373f2a3b370f",
   "metadata": {},
   "outputs": [
    {
     "data": {
      "text/plain": [
       "['C', 'C', 'I', 'M', 'M', 'C', 'I', 'I', 'C', 'C']"
      ]
     },
     "execution_count": 3,
     "metadata": {},
     "output_type": "execute_result"
    }
   ],
   "source": [
    "cuisine = ['Chinese', 'Italian', 'Mexican']\n",
    "x = np.array([1,0,0]).T\n",
    "\n",
    "def getSequence(steps):\n",
    "    sequence = []\n",
    "    x = np.array([1,0,0]).T\n",
    "    for i in range(steps):\n",
    "        randomResto = np.random.choice(cuisine, p=x)\n",
    "        sequence.append(randomResto[0])\n",
    "        x = p@x\n",
    "        \n",
    "    return sequence\n",
    "\n",
    "getSequence(10)"
   ]
  },
  {
   "cell_type": "code",
   "execution_count": 4,
   "id": "188796ed-a1ad-4c58-ab74-f03b9664f866",
   "metadata": {},
   "outputs": [],
   "source": [
    "# px.bar(sequence(10000)/10000, x=['Chinese', 'Italian', 'Mexican'], y='Count')"
   ]
  },
  {
   "cell_type": "code",
   "execution_count": 5,
   "id": "82c3b65b-bc81-4793-b1a9-583dea24da1a",
   "metadata": {},
   "outputs": [],
   "source": [
    "# seq = getSequence(10)\n",
    "# cuisineDict = {'C': 0, 'I': 0, 'M': 0}\n",
    "\n",
    "# for i in range(len(seq)):\n",
    "#     cuisineDict[seq[i]] += 1\n",
    "#     plt.bar(cuisine, list(cuisineDict.values()), color = (\"blue\", \"red\", \"green\"))\n",
    "#     plt.pause(0.000001)"
   ]
  },
  {
   "cell_type": "code",
   "execution_count": 6,
   "id": "56acbd1e-c42a-4bc8-9e15-73613bc5c2ee",
   "metadata": {},
   "outputs": [],
   "source": [
    "# seq = getSequence(10)\n",
    "# cuisineDict = {'C': 0, 'I': 0, 'M': 0}\n",
    "\n",
    "# for i in range(len(seq)):\n",
    "#     cuisineDict[seq[i]] += 1\n",
    "#     cuisineList = list(cuisineDict.values())\n",
    "#     total = sum(cuisineList)\n",
    "    \n",
    "#     for j in range(len(cuisineList)):\n",
    "#         cuisineList[j] = cuisineList[j]/total\n",
    "    \n",
    "#     ax = plt.gca()\n",
    "#     ax.set_ylim([0, 1])\n",
    "#     plt.bar(cuisine, cuisineList, color = (\"blue\", \"red\", \"green\"))\n",
    "#     plt.pause(0.000001)\n",
    "\n",
    "# plt.show()"
   ]
  },
  {
   "cell_type": "code",
   "execution_count": 7,
   "id": "13e6e082-9ad9-4b10-b9e8-95d52c2ed40a",
   "metadata": {},
   "outputs": [
    {
     "data": {
      "image/png": "[encoded data removed]",
      "text/plain": [
       "<Figure size 576x432 with 2 Axes>"
      ]
     },
     "metadata": {
      "needs_background": "light"
     },
     "output_type": "display_data"
    }
   ],
   "source": [
    "fig = plt.figure(figsize=(8, 6))\n",
    "subplot = fig.add_subplot(111)\n",
    "ax = plt.axes() \n",
    "ax.set_title('Markov Chains', fontsize=22)\n",
    "ax.set_xlabel('Restaurants', fontsize=18)\n",
    "ax.grid(True, which='major', linestyle='--', color='black', alpha=0.4)"
   ]
  },
  {
   "cell_type": "code",
   "execution_count": 8,
   "id": "74c0f98b-8bdf-4cd5-aa09-0ef9e8014f42",
   "metadata": {},
   "outputs": [
    {
     "ename": "NameError",
     "evalue": "name 'N' is not defined",
     "output_type": "error",
     "traceback": [
      "\u001b[1;31m---------------------------------------------------------------------------\u001b[0m",
      "\u001b[1;31mNameError\u001b[0m                                 Traceback (most recent call last)",
      "\u001b[1;32mc:\\Users\\Davay\\Desktop\\ESP\\ESP.ipynb Cell 8\u001b[0m in \u001b[0;36m<module>\u001b[1;34m\u001b[0m\n\u001b[0;32m      <a href='vscode-notebook-cell:/c%3A/Users/Davay/Desktop/ESP/ESP.ipynb#X10sZmlsZQ%3D%3D?line=0'>1</a>\u001b[0m fig \u001b[39m=\u001b[39m plt\u001b[39m.\u001b[39mfigure(figsize\u001b[39m=\u001b[39m(\u001b[39m21\u001b[39m, \u001b[39m10\u001b[39m))\n\u001b[1;32m----> <a href='vscode-notebook-cell:/c%3A/Users/Davay/Desktop/ESP/ESP.ipynb#X10sZmlsZQ%3D%3D?line=1'>2</a>\u001b[0m ax \u001b[39m=\u001b[39m plt\u001b[39m.\u001b[39maxes(xlim\u001b[39m=\u001b[39m(\u001b[39m0\u001b[39m, N), ylim\u001b[39m=\u001b[39m(np\u001b[39m.\u001b[39mmin(X) \u001b[39m-\u001b[39m \u001b[39m0.5\u001b[39m, np\u001b[39m.\u001b[39mmax(X) \u001b[39m+\u001b[39m \u001b[39m0.5\u001b[39m)) \n\u001b[0;32m      <a href='vscode-notebook-cell:/c%3A/Users/Davay/Desktop/ESP/ESP.ipynb#X10sZmlsZQ%3D%3D?line=2'>3</a>\u001b[0m line, \u001b[39m=\u001b[39m ax\u001b[39m.\u001b[39mplot([], [], lw\u001b[39m=\u001b[39m\u001b[39m2\u001b[39m, color\u001b[39m=\u001b[39m\u001b[39m'\u001b[39m\u001b[39m#0492C2\u001b[39m\u001b[39m'\u001b[39m)\n\u001b[0;32m      <a href='vscode-notebook-cell:/c%3A/Users/Davay/Desktop/ESP/ESP.ipynb#X10sZmlsZQ%3D%3D?line=3'>4</a>\u001b[0m ax\u001b[39m.\u001b[39mset_xticks(np\u001b[39m.\u001b[39marange(\u001b[39m0\u001b[39m, N\u001b[39m+\u001b[39m\u001b[39m1\u001b[39m, \u001b[39m50\u001b[39m))\n",
      "\u001b[1;31mNameError\u001b[0m: name 'N' is not defined"
     ]
    },
    {
     "data": {
      "text/plain": [
       "<Figure size 1512x720 with 0 Axes>"
      ]
     },
     "metadata": {},
     "output_type": "display_data"
    }
   ],
   "source": [
    "\n",
    "fig = plt.figure(figsize=(21, 10))\n",
    "ax = plt.axes(xlim=(0, N), ylim=(np.min(X) - 0.5, np.max(X) + 0.5)) \n",
    "line, = ax.plot([], [], lw=2, color='#0492C2')\n",
    "ax.set_xticks(np.arange(0, N+1, 50))\n",
    "ax.set_yticks(np.arange(np.min(X) - 0.5, np.max(X) + 0.5, 0.2))\n",
    "ax.set_title('2D Random Walk', fontsize=22)\n",
    "ax.set_xlabel('Steps', fontsize=18)\n",
    "ax.set_ylabel('Value', fontsize=18)\n",
    "ax.tick_params(labelsize=16)\n",
    "ax.grid(True, which='major', linestyle='--', color='black', alpha=0.4)"
   ]
  }
 ],
 "metadata": {
  "kernelspec": {
   "display_name": "Python 3 (ipykernel)",
   "language": "python",
   "name": "python3"
  },
  "language_info": {
   "codemirror_mode": {
    "name": "ipython",
    "version": 3
   },
   "file_extension": ".py",
   "mimetype": "text/x-python",
   "name": "python",
   "nbconvert_exporter": "python",
   "pygments_lexer": "ipython3",
   "version": "3.10.1"
  }
 },
 "nbformat": 4,
 "nbformat_minor": 5
}
