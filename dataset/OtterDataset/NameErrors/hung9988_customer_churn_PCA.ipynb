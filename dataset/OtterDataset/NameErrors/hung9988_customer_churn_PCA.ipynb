{
 "cells": [
  {
   "cell_type": "code",
   "execution_count": 15,
   "metadata": {},
   "outputs": [],
   "source": [
    "import pandas as pd\n",
    "import numpy as np\n",
    "data=pd.read_csv('train.csv')\n",
    "\n"
   ]
  },
  {
   "cell_type": "code",
   "execution_count": 16,
   "metadata": {},
   "outputs": [],
   "source": [
    "def clean_data(data):\n",
    "    data[data=='yes']=1\n",
    "    data[data=='no']=0\n",
    "    data.drop('state',axis=1,inplace=True)\n",
    "    data.drop('area_code',axis=1,inplace=True)\n",
    "    return data\n"
   ]
  },
  {
   "cell_type": "code",
   "execution_count": 17,
   "metadata": {},
   "outputs": [],
   "source": [
    "data=clean_data(data)"
   ]
  },
  {
   "cell_type": "code",
   "execution_count": 18,
   "metadata": {},
   "outputs": [
    {
     "name": "stdout",
     "output_type": "stream",
     "text": [
      "<class 'pandas.core.frame.DataFrame'>\n",
      "RangeIndex: 4250 entries, 0 to 4249\n",
      "Data columns (total 18 columns):\n",
      " #   Column                         Non-Null Count  Dtype  \n",
      "---  ------                         --------------  -----  \n",
      " 0   account_length                 4250 non-null   int64  \n",
      " 1   international_plan             4250 non-null   object \n",
      " 2   voice_mail_plan                4250 non-null   object \n",
      " 3   number_vmail_messages          4250 non-null   int64  \n",
      " 4   total_day_minutes              4250 non-null   float64\n",
      " 5   total_day_calls                4250 non-null   int64  \n",
      " 6   total_day_charge               4250 non-null   float64\n",
      " 7   total_eve_minutes              4250 non-null   float64\n",
      " 8   total_eve_calls                4250 non-null   int64  \n",
      " 9   total_eve_charge               4250 non-null   float64\n",
      " 10  total_night_minutes            4250 non-null   float64\n",
      " 11  total_night_calls              4250 non-null   int64  \n",
      " 12  total_night_charge             4250 non-null   float64\n",
      " 13  total_intl_minutes             4250 non-null   float64\n",
      " 14  total_intl_calls               4250 non-null   int64  \n",
      " 15  total_intl_charge              4250 non-null   float64\n",
      " 16  number_customer_service_calls  4250 non-null   int64  \n",
      " 17  churn                          4250 non-null   object \n",
      "dtypes: float64(8), int64(7), object(3)\n",
      "memory usage: 597.8+ KB\n"
     ]
    }
   ],
   "source": [
    "data.info()"
   ]
  },
  {
   "cell_type": "code",
   "execution_count": 48,
   "metadata": {},
   "outputs": [],
   "source": [
    "np_data=np.array(data)"
   ]
  },
  {
   "cell_type": "code",
   "execution_count": 49,
   "metadata": {},
   "outputs": [
    {
     "data": {
      "text/plain": [
       "array([107, 0, 1, 26, 161.6, 123, 27.47, 195.5, 103, 16.62, 254.4, 103,\n",
       "       11.45, 13.7, 3, 3.7, 1, 0], dtype=object)"
      ]
     },
     "execution_count": 49,
     "metadata": {},
     "output_type": "execute_result"
    }
   ],
   "source": [
    "np_data[0]"
   ]
  },
  {
   "cell_type": "code",
   "execution_count": 50,
   "metadata": {},
   "outputs": [],
   "source": [
    "from sklearn.preprocessing import StandardScaler\n",
    "\n",
    "scaler=StandardScaler()\n",
    "X_old=np_data[:,:-1]\n",
    "X_old=scaler.fit_transform(X_old)"
   ]
  },
  {
   "cell_type": "code",
   "execution_count": 51,
   "metadata": {},
   "outputs": [
    {
     "data": {
      "text/plain": [
       "array([ 0.17039882, -0.32054702,  1.67986382,  1.36685697, -0.34550964,\n",
       "        1.16344948, -0.3457877 , -0.09302489,  0.14184136, -0.09249324,\n",
       "        1.07000318,  0.15730891,  1.0708197 ,  1.24790134, -0.57916393,\n",
       "        1.24859124, -0.42634613])"
      ]
     },
     "execution_count": 51,
     "metadata": {},
     "output_type": "execute_result"
    }
   ],
   "source": [
    "X_old[0]"
   ]
  },
  {
   "cell_type": "code",
   "execution_count": 52,
   "metadata": {},
   "outputs": [],
   "source": [
    "class PCA:\n",
    "    def  __init__(self, num_components):\n",
    "        self.num_components=num_components\n",
    "        self.components=None\n",
    "        self.mean=None\n",
    "        self.variance_share=None\n",
    "    def fit(self,X):\n",
    "        self.mean=np.mean(X,axis=0)\n",
    "        X=X-self.mean\n",
    "        cov=np.cov(X.T)\n",
    "        values,vectors=np.linalg.eig(cov)\n",
    "        sort_idx=np.argsort(values)[::-1]\n",
    "        values=values[sort_idx]\n",
    "        vectors=vectors[:,sort_idx]\n",
    "        self.components=vectors[:self.num_components]\n",
    "        self.variance_share=values[:self.num_components]/np.sum(values)\n",
    "    def transform(self,X):\n",
    "        X=X-self.mean\n",
    "        return np.dot(X,self.components.T)    \n",
    "        \n",
    "    "
   ]
  },
  {
   "cell_type": "code",
   "execution_count": 47,
   "metadata": {},
   "outputs": [],
   "source": [
    "\n",
    "\n",
    "X_old=np_data[:,:-1]"
   ]
  },
  {
   "cell_type": "code",
   "execution_count": 53,
   "metadata": {},
   "outputs": [],
   "source": [
    "X_old=X_old.astype(float)"
   ]
  },
  {
   "cell_type": "code",
   "execution_count": 54,
   "metadata": {},
   "outputs": [],
   "source": [
    "pca= PCA(num_components=4)\n",
    "pca.fit(X=X_old)\n",
    "X_old=pca.transform(X_old)"
   ]
  },
  {
   "cell_type": "code",
   "execution_count": 59,
   "metadata": {},
   "outputs": [],
   "source": [
    "from sklearn.ensemble import RandomForestClassifier\n",
    "\n",
    "clf=RandomForestClassifier()\n",
    "y_old=np_data[:,-1]\n"
   ]
  },
  {
   "cell_type": "code",
   "execution_count": 61,
   "metadata": {},
   "outputs": [],
   "source": [
    "y_old=y_old.astype(int)"
   ]
  },
  {
   "cell_type": "code",
   "execution_count": 65,
   "metadata": {},
   "outputs": [],
   "source": [
    "from sklearn.model_selection import train_test_split\n",
    "\n",
    "X_train, X_test, y_train, y_test = train_test_split(X_old, y_old, test_size=0.33, random_state=42)"
   ]
  },
  {
   "cell_type": "code",
   "execution_count": 66,
   "metadata": {},
   "outputs": [
    {
     "data": {
      "text/html": [
       "<style>#sk-container-id-2 {color: black;}#sk-container-id-2 pre{padding: 0;}#sk-container-id-2 div.sk-toggleable {background-color: white;}#sk-container-id-2 label.sk-toggleable__label {cursor: pointer;display: block;width: 100%;margin-bottom: 0;padding: 0.3em;box-sizing: border-box;text-align: center;}#sk-container-id-2 label.sk-toggleable__label-arrow:before {content: \"▸\";float: left;margin-right: 0.25em;color: #696969;}#sk-container-id-2 label.sk-toggleable__label-arrow:hover:before {color: black;}#sk-container-id-2 div.sk-estimator:hover label.sk-toggleable__label-arrow:before {color: black;}#sk-container-id-2 div.sk-toggleable__content {max-height: 0;max-width: 0;overflow: hidden;text-align: left;background-color: #f0f8ff;}#sk-container-id-2 div.sk-toggleable__content pre {margin: 0.2em;color: black;border-radius: 0.25em;background-color: #f0f8ff;}#sk-container-id-2 input.sk-toggleable__control:checked~div.sk-toggleable__content {max-height: 200px;max-width: 100%;overflow: auto;}#sk-container-id-2 input.sk-toggleable__control:checked~label.sk-toggleable__label-arrow:before {content: \"▾\";}#sk-container-id-2 div.sk-estimator input.sk-toggleable__control:checked~label.sk-toggleable__label {background-color: #d4ebff;}#sk-container-id-2 div.sk-label input.sk-toggleable__control:checked~label.sk-toggleable__label {background-color: #d4ebff;}#sk-container-id-2 input.sk-hidden--visually {border: 0;clip: rect(1px 1px 1px 1px);clip: rect(1px, 1px, 1px, 1px);height: 1px;margin: -1px;overflow: hidden;padding: 0;position: absolute;width: 1px;}#sk-container-id-2 div.sk-estimator {font-family: monospace;background-color: #f0f8ff;border: 1px dotted black;border-radius: 0.25em;box-sizing: border-box;margin-bottom: 0.5em;}#sk-container-id-2 div.sk-estimator:hover {background-color: #d4ebff;}#sk-container-id-2 div.sk-parallel-item::after {content: \"\";width: 100%;border-bottom: 1px solid gray;flex-grow: 1;}#sk-container-id-2 div.sk-label:hover label.sk-toggleable__label {background-color: #d4ebff;}#sk-container-id-2 div.sk-serial::before {content: \"\";position: absolute;border-left: 1px solid gray;box-sizing: border-box;top: 0;bottom: 0;left: 50%;z-index: 0;}#sk-container-id-2 div.sk-serial {display: flex;flex-direction: column;align-items: center;background-color: white;padding-right: 0.2em;padding-left: 0.2em;position: relative;}#sk-container-id-2 div.sk-item {position: relative;z-index: 1;}#sk-container-id-2 div.sk-parallel {display: flex;align-items: stretch;justify-content: center;background-color: white;position: relative;}#sk-container-id-2 div.sk-item::before, #sk-container-id-2 div.sk-parallel-item::before {content: \"\";position: absolute;border-left: 1px solid gray;box-sizing: border-box;top: 0;bottom: 0;left: 50%;z-index: -1;}#sk-container-id-2 div.sk-parallel-item {display: flex;flex-direction: column;z-index: 1;position: relative;background-color: white;}#sk-container-id-2 div.sk-parallel-item:first-child::after {align-self: flex-end;width: 50%;}#sk-container-id-2 div.sk-parallel-item:last-child::after {align-self: flex-start;width: 50%;}#sk-container-id-2 div.sk-parallel-item:only-child::after {width: 0;}#sk-container-id-2 div.sk-dashed-wrapped {border: 1px dashed gray;margin: 0 0.4em 0.5em 0.4em;box-sizing: border-box;padding-bottom: 0.4em;background-color: white;}#sk-container-id-2 div.sk-label label {font-family: monospace;font-weight: bold;display: inline-block;line-height: 1.2em;}#sk-container-id-2 div.sk-label-container {text-align: center;}#sk-container-id-2 div.sk-container {/* jupyter's `normalize.less` sets `[hidden] { display: none; }` but bootstrap.min.css set `[hidden] { display: none !important; }` so we also need the `!important` here to be able to override the default hidden behavior on the sphinx rendered scikit-learn.org. See: https://github.com/scikit-learn/scikit-learn/issues/21755 */display: inline-block !important;position: relative;}#sk-container-id-2 div.sk-text-repr-fallback {display: none;}</style><div id=\"sk-container-id-2\" class=\"sk-top-container\"><div class=\"sk-text-repr-fallback\"><pre>RandomForestClassifier()</pre><b>In a Jupyter environment, please rerun this cell to show the HTML representation or trust the notebook. <br />On GitHub, the HTML representation is unable to render, please try loading this page with nbviewer.org.</b></div><div class=\"sk-container\" hidden><div class=\"sk-item\"><div class=\"sk-estimator sk-toggleable\"><input class=\"sk-toggleable__control sk-hidden--visually\" id=\"sk-estimator-id-2\" type=\"checkbox\" checked><label for=\"sk-estimator-id-2\" class=\"sk-toggleable__label sk-toggleable__label-arrow\">RandomForestClassifier</label><div class=\"sk-toggleable__content\"><pre>RandomForestClassifier()</pre></div></div></div></div></div>"
      ],
      "text/plain": [
       "RandomForestClassifier()"
      ]
     },
     "execution_count": 66,
     "metadata": {},
     "output_type": "execute_result"
    }
   ],
   "source": [
    "clf.fit(X_train,y_train)"
   ]
  },
  {
   "cell_type": "code",
   "execution_count": 67,
   "metadata": {},
   "outputs": [
    {
     "data": {
      "text/plain": [
       "0.8560228082679971"
      ]
     },
     "execution_count": 67,
     "metadata": {},
     "output_type": "execute_result"
    }
   ],
   "source": [
    "clf.score(X_test,y_test)"
   ]
  },
  {
   "cell_type": "code",
   "execution_count": 68,
   "metadata": {},
   "outputs": [],
   "source": [
    "data_test=pd.read_csv('test.csv')"
   ]
  },
  {
   "cell_type": "code",
   "execution_count": 70,
   "metadata": {},
   "outputs": [],
   "source": [
    "data_test=clean_data(data_test)"
   ]
  },
  {
   "cell_type": "code",
   "execution_count": 73,
   "metadata": {},
   "outputs": [],
   "source": [
    "data_test.drop('id',axis=1,inplace=True)"
   ]
  },
  {
   "cell_type": "code",
   "execution_count": 74,
   "metadata": {},
   "outputs": [
    {
     "data": {
      "text/html": [
       "<div>\n",
       "<style scoped>\n",
       "    .dataframe tbody tr th:only-of-type {\n",
       "        vertical-align: middle;\n",
       "    }\n",
       "\n",
       "    .dataframe tbody tr th {\n",
       "        vertical-align: top;\n",
       "    }\n",
       "\n",
       "    .dataframe thead th {\n",
       "        text-align: right;\n",
       "    }\n",
       "</style>\n",
       "<table border=\"1\" class=\"dataframe\">\n",
       "  <thead>\n",
       "    <tr style=\"text-align: right;\">\n",
       "      <th></th>\n",
       "      <th>account_length</th>\n",
       "      <th>international_plan</th>\n",
       "      <th>voice_mail_plan</th>\n",
       "      <th>number_vmail_messages</th>\n",
       "      <th>total_day_minutes</th>\n",
       "      <th>total_day_calls</th>\n",
       "      <th>total_day_charge</th>\n",
       "      <th>total_eve_minutes</th>\n",
       "      <th>total_eve_calls</th>\n",
       "      <th>total_eve_charge</th>\n",
       "      <th>total_night_minutes</th>\n",
       "      <th>total_night_calls</th>\n",
       "      <th>total_night_charge</th>\n",
       "      <th>total_intl_minutes</th>\n",
       "      <th>total_intl_calls</th>\n",
       "      <th>total_intl_charge</th>\n",
       "      <th>number_customer_service_calls</th>\n",
       "    </tr>\n",
       "  </thead>\n",
       "  <tbody>\n",
       "    <tr>\n",
       "      <th>0</th>\n",
       "      <td>128</td>\n",
       "      <td>0</td>\n",
       "      <td>1</td>\n",
       "      <td>25</td>\n",
       "      <td>265.1</td>\n",
       "      <td>110</td>\n",
       "      <td>45.07</td>\n",
       "      <td>197.4</td>\n",
       "      <td>99</td>\n",
       "      <td>16.78</td>\n",
       "      <td>244.7</td>\n",
       "      <td>91</td>\n",
       "      <td>11.01</td>\n",
       "      <td>10.0</td>\n",
       "      <td>3</td>\n",
       "      <td>2.70</td>\n",
       "      <td>1</td>\n",
       "    </tr>\n",
       "    <tr>\n",
       "      <th>1</th>\n",
       "      <td>118</td>\n",
       "      <td>1</td>\n",
       "      <td>0</td>\n",
       "      <td>0</td>\n",
       "      <td>223.4</td>\n",
       "      <td>98</td>\n",
       "      <td>37.98</td>\n",
       "      <td>220.6</td>\n",
       "      <td>101</td>\n",
       "      <td>18.75</td>\n",
       "      <td>203.9</td>\n",
       "      <td>118</td>\n",
       "      <td>9.18</td>\n",
       "      <td>6.3</td>\n",
       "      <td>6</td>\n",
       "      <td>1.70</td>\n",
       "      <td>0</td>\n",
       "    </tr>\n",
       "    <tr>\n",
       "      <th>2</th>\n",
       "      <td>62</td>\n",
       "      <td>0</td>\n",
       "      <td>0</td>\n",
       "      <td>0</td>\n",
       "      <td>120.7</td>\n",
       "      <td>70</td>\n",
       "      <td>20.52</td>\n",
       "      <td>307.2</td>\n",
       "      <td>76</td>\n",
       "      <td>26.11</td>\n",
       "      <td>203.0</td>\n",
       "      <td>99</td>\n",
       "      <td>9.14</td>\n",
       "      <td>13.1</td>\n",
       "      <td>6</td>\n",
       "      <td>3.54</td>\n",
       "      <td>4</td>\n",
       "    </tr>\n",
       "    <tr>\n",
       "      <th>3</th>\n",
       "      <td>93</td>\n",
       "      <td>0</td>\n",
       "      <td>0</td>\n",
       "      <td>0</td>\n",
       "      <td>190.7</td>\n",
       "      <td>114</td>\n",
       "      <td>32.42</td>\n",
       "      <td>218.2</td>\n",
       "      <td>111</td>\n",
       "      <td>18.55</td>\n",
       "      <td>129.6</td>\n",
       "      <td>121</td>\n",
       "      <td>5.83</td>\n",
       "      <td>8.1</td>\n",
       "      <td>3</td>\n",
       "      <td>2.19</td>\n",
       "      <td>3</td>\n",
       "    </tr>\n",
       "    <tr>\n",
       "      <th>4</th>\n",
       "      <td>174</td>\n",
       "      <td>0</td>\n",
       "      <td>0</td>\n",
       "      <td>0</td>\n",
       "      <td>124.3</td>\n",
       "      <td>76</td>\n",
       "      <td>21.13</td>\n",
       "      <td>277.1</td>\n",
       "      <td>112</td>\n",
       "      <td>23.55</td>\n",
       "      <td>250.7</td>\n",
       "      <td>115</td>\n",
       "      <td>11.28</td>\n",
       "      <td>15.5</td>\n",
       "      <td>5</td>\n",
       "      <td>4.19</td>\n",
       "      <td>3</td>\n",
       "    </tr>\n",
       "    <tr>\n",
       "      <th>...</th>\n",
       "      <td>...</td>\n",
       "      <td>...</td>\n",
       "      <td>...</td>\n",
       "      <td>...</td>\n",
       "      <td>...</td>\n",
       "      <td>...</td>\n",
       "      <td>...</td>\n",
       "      <td>...</td>\n",
       "      <td>...</td>\n",
       "      <td>...</td>\n",
       "      <td>...</td>\n",
       "      <td>...</td>\n",
       "      <td>...</td>\n",
       "      <td>...</td>\n",
       "      <td>...</td>\n",
       "      <td>...</td>\n",
       "      <td>...</td>\n",
       "    </tr>\n",
       "    <tr>\n",
       "      <th>745</th>\n",
       "      <td>130</td>\n",
       "      <td>0</td>\n",
       "      <td>0</td>\n",
       "      <td>0</td>\n",
       "      <td>119.4</td>\n",
       "      <td>99</td>\n",
       "      <td>20.30</td>\n",
       "      <td>226.3</td>\n",
       "      <td>97</td>\n",
       "      <td>19.24</td>\n",
       "      <td>202.7</td>\n",
       "      <td>111</td>\n",
       "      <td>9.12</td>\n",
       "      <td>11.3</td>\n",
       "      <td>7</td>\n",
       "      <td>3.05</td>\n",
       "      <td>0</td>\n",
       "    </tr>\n",
       "    <tr>\n",
       "      <th>746</th>\n",
       "      <td>73</td>\n",
       "      <td>0</td>\n",
       "      <td>0</td>\n",
       "      <td>0</td>\n",
       "      <td>177.2</td>\n",
       "      <td>118</td>\n",
       "      <td>30.12</td>\n",
       "      <td>270.5</td>\n",
       "      <td>84</td>\n",
       "      <td>22.99</td>\n",
       "      <td>241.8</td>\n",
       "      <td>112</td>\n",
       "      <td>10.88</td>\n",
       "      <td>12.3</td>\n",
       "      <td>2</td>\n",
       "      <td>3.32</td>\n",
       "      <td>3</td>\n",
       "    </tr>\n",
       "    <tr>\n",
       "      <th>747</th>\n",
       "      <td>152</td>\n",
       "      <td>0</td>\n",
       "      <td>0</td>\n",
       "      <td>0</td>\n",
       "      <td>184.2</td>\n",
       "      <td>90</td>\n",
       "      <td>31.31</td>\n",
       "      <td>256.8</td>\n",
       "      <td>73</td>\n",
       "      <td>21.83</td>\n",
       "      <td>213.6</td>\n",
       "      <td>113</td>\n",
       "      <td>9.61</td>\n",
       "      <td>14.7</td>\n",
       "      <td>2</td>\n",
       "      <td>3.97</td>\n",
       "      <td>3</td>\n",
       "    </tr>\n",
       "    <tr>\n",
       "      <th>748</th>\n",
       "      <td>61</td>\n",
       "      <td>0</td>\n",
       "      <td>0</td>\n",
       "      <td>0</td>\n",
       "      <td>140.6</td>\n",
       "      <td>89</td>\n",
       "      <td>23.90</td>\n",
       "      <td>172.8</td>\n",
       "      <td>128</td>\n",
       "      <td>14.69</td>\n",
       "      <td>212.4</td>\n",
       "      <td>97</td>\n",
       "      <td>9.56</td>\n",
       "      <td>13.6</td>\n",
       "      <td>4</td>\n",
       "      <td>3.67</td>\n",
       "      <td>1</td>\n",
       "    </tr>\n",
       "    <tr>\n",
       "      <th>749</th>\n",
       "      <td>109</td>\n",
       "      <td>0</td>\n",
       "      <td>0</td>\n",
       "      <td>0</td>\n",
       "      <td>188.8</td>\n",
       "      <td>67</td>\n",
       "      <td>32.10</td>\n",
       "      <td>171.7</td>\n",
       "      <td>92</td>\n",
       "      <td>14.59</td>\n",
       "      <td>224.4</td>\n",
       "      <td>89</td>\n",
       "      <td>10.10</td>\n",
       "      <td>8.5</td>\n",
       "      <td>6</td>\n",
       "      <td>2.30</td>\n",
       "      <td>0</td>\n",
       "    </tr>\n",
       "  </tbody>\n",
       "</table>\n",
       "<p>750 rows × 17 columns</p>\n",
       "</div>"
      ],
      "text/plain": [
       "     account_length international_plan voice_mail_plan  number_vmail_messages  \\\n",
       "0               128                  0               1                     25   \n",
       "1               118                  1               0                      0   \n",
       "2                62                  0               0                      0   \n",
       "3                93                  0               0                      0   \n",
       "4               174                  0               0                      0   \n",
       "..              ...                ...             ...                    ...   \n",
       "745             130                  0               0                      0   \n",
       "746              73                  0               0                      0   \n",
       "747             152                  0               0                      0   \n",
       "748              61                  0               0                      0   \n",
       "749             109                  0               0                      0   \n",
       "\n",
       "     total_day_minutes  total_day_calls  total_day_charge  total_eve_minutes  \\\n",
       "0                265.1              110             45.07              197.4   \n",
       "1                223.4               98             37.98              220.6   \n",
       "2                120.7               70             20.52              307.2   \n",
       "3                190.7              114             32.42              218.2   \n",
       "4                124.3               76             21.13              277.1   \n",
       "..                 ...              ...               ...                ...   \n",
       "745              119.4               99             20.30              226.3   \n",
       "746              177.2              118             30.12              270.5   \n",
       "747              184.2               90             31.31              256.8   \n",
       "748              140.6               89             23.90              172.8   \n",
       "749              188.8               67             32.10              171.7   \n",
       "\n",
       "     total_eve_calls  total_eve_charge  total_night_minutes  \\\n",
       "0                 99             16.78                244.7   \n",
       "1                101             18.75                203.9   \n",
       "2                 76             26.11                203.0   \n",
       "3                111             18.55                129.6   \n",
       "4                112             23.55                250.7   \n",
       "..               ...               ...                  ...   \n",
       "745               97             19.24                202.7   \n",
       "746               84             22.99                241.8   \n",
       "747               73             21.83                213.6   \n",
       "748              128             14.69                212.4   \n",
       "749               92             14.59                224.4   \n",
       "\n",
       "     total_night_calls  total_night_charge  total_intl_minutes  \\\n",
       "0                   91               11.01                10.0   \n",
       "1                  118                9.18                 6.3   \n",
       "2                   99                9.14                13.1   \n",
       "3                  121                5.83                 8.1   \n",
       "4                  115               11.28                15.5   \n",
       "..                 ...                 ...                 ...   \n",
       "745                111                9.12                11.3   \n",
       "746                112               10.88                12.3   \n",
       "747                113                9.61                14.7   \n",
       "748                 97                9.56                13.6   \n",
       "749                 89               10.10                 8.5   \n",
       "\n",
       "     total_intl_calls  total_intl_charge  number_customer_service_calls  \n",
       "0                   3               2.70                              1  \n",
       "1                   6               1.70                              0  \n",
       "2                   6               3.54                              4  \n",
       "3                   3               2.19                              3  \n",
       "4                   5               4.19                              3  \n",
       "..                ...                ...                            ...  \n",
       "745                 7               3.05                              0  \n",
       "746                 2               3.32                              3  \n",
       "747                 2               3.97                              3  \n",
       "748                 4               3.67                              1  \n",
       "749                 6               2.30                              0  \n",
       "\n",
       "[750 rows x 17 columns]"
      ]
     },
     "execution_count": 74,
     "metadata": {},
     "output_type": "execute_result"
    }
   ],
   "source": [
    "data_test"
   ]
  },
  {
   "cell_type": "code",
   "execution_count": 75,
   "metadata": {},
   "outputs": [],
   "source": [
    "data_test=data_test.astype(float)"
   ]
  },
  {
   "cell_type": "code",
   "execution_count": 76,
   "metadata": {},
   "outputs": [],
   "source": [
    "data_test=scaler.fit_transform(data_test)"
   ]
  },
  {
   "cell_type": "code",
   "execution_count": 80,
   "metadata": {},
   "outputs": [],
   "source": [
    "pca.fit(data_test)\n",
    "data_test=pca.transform(data_test)"
   ]
  },
  {
   "cell_type": "code",
   "execution_count": 82,
   "metadata": {},
   "outputs": [],
   "source": [
    "output=clf.predict(data_test)"
   ]
  },
  {
   "cell_type": "code",
   "execution_count": 88,
   "metadata": {},
   "outputs": [
    {
     "data": {
      "text/plain": [
       "750"
      ]
     },
     "execution_count": 88,
     "metadata": {},
     "output_type": "execute_result"
    }
   ],
   "source": [
    "output.shape[0]"
   ]
  },
  {
   "cell_type": "code",
   "execution_count": 94,
   "metadata": {},
   "outputs": [],
   "source": [
    "id=np.arange(1,output.shape[0]+1)\n"
   ]
  },
  {
   "cell_type": "code",
   "execution_count": 95,
   "metadata": {},
   "outputs": [],
   "source": [
    "output=pd.DataFrame(output,columns=['churn'])"
   ]
  },
  {
   "cell_type": "code",
   "execution_count": 97,
   "metadata": {},
   "outputs": [
    {
     "name": "stderr",
     "output_type": "stream",
     "text": [
      "/tmp/nix-shell.gMFMhk/ipykernel_47373/4091106419.py:1: FutureWarning: Setting an item of incompatible dtype is deprecated and will raise in a future error of pandas. Value 'no' has dtype incompatible with int64, please explicitly cast to a compatible dtype first.\n",
      "  output[output==0]='no'\n"
     ]
    }
   ],
   "source": [
    "output[output==0]='no'\n",
    "output[output==1]='yes'"
   ]
  },
  {
   "cell_type": "code",
   "execution_count": 99,
   "metadata": {},
   "outputs": [],
   "source": [
    "output_text = pd.concat([pd.Series(id, name='id'), output], axis=1)\n"
   ]
  },
  {
   "cell_type": "code",
   "execution_count": 100,
   "metadata": {},
   "outputs": [
    {
     "data": {
      "text/html": [
       "<div>\n",
       "<style scoped>\n",
       "    .dataframe tbody tr th:only-of-type {\n",
       "        vertical-align: middle;\n",
       "    }\n",
       "\n",
       "    .dataframe tbody tr th {\n",
       "        vertical-align: top;\n",
       "    }\n",
       "\n",
       "    .dataframe thead th {\n",
       "        text-align: right;\n",
       "    }\n",
       "</style>\n",
       "<table border=\"1\" class=\"dataframe\">\n",
       "  <thead>\n",
       "    <tr style=\"text-align: right;\">\n",
       "      <th></th>\n",
       "      <th>id</th>\n",
       "      <th>churn</th>\n",
       "    </tr>\n",
       "  </thead>\n",
       "  <tbody>\n",
       "    <tr>\n",
       "      <th>0</th>\n",
       "      <td>1</td>\n",
       "      <td>no</td>\n",
       "    </tr>\n",
       "    <tr>\n",
       "      <th>1</th>\n",
       "      <td>2</td>\n",
       "      <td>no</td>\n",
       "    </tr>\n",
       "    <tr>\n",
       "      <th>2</th>\n",
       "      <td>3</td>\n",
       "      <td>no</td>\n",
       "    </tr>\n",
       "    <tr>\n",
       "      <th>3</th>\n",
       "      <td>4</td>\n",
       "      <td>no</td>\n",
       "    </tr>\n",
       "    <tr>\n",
       "      <th>4</th>\n",
       "      <td>5</td>\n",
       "      <td>no</td>\n",
       "    </tr>\n",
       "    <tr>\n",
       "      <th>...</th>\n",
       "      <td>...</td>\n",
       "      <td>...</td>\n",
       "    </tr>\n",
       "    <tr>\n",
       "      <th>745</th>\n",
       "      <td>746</td>\n",
       "      <td>no</td>\n",
       "    </tr>\n",
       "    <tr>\n",
       "      <th>746</th>\n",
       "      <td>747</td>\n",
       "      <td>no</td>\n",
       "    </tr>\n",
       "    <tr>\n",
       "      <th>747</th>\n",
       "      <td>748</td>\n",
       "      <td>no</td>\n",
       "    </tr>\n",
       "    <tr>\n",
       "      <th>748</th>\n",
       "      <td>749</td>\n",
       "      <td>no</td>\n",
       "    </tr>\n",
       "    <tr>\n",
       "      <th>749</th>\n",
       "      <td>750</td>\n",
       "      <td>no</td>\n",
       "    </tr>\n",
       "  </tbody>\n",
       "</table>\n",
       "<p>750 rows × 2 columns</p>\n",
       "</div>"
      ],
      "text/plain": [
       "      id churn\n",
       "0      1    no\n",
       "1      2    no\n",
       "2      3    no\n",
       "3      4    no\n",
       "4      5    no\n",
       "..   ...   ...\n",
       "745  746    no\n",
       "746  747    no\n",
       "747  748    no\n",
       "748  749    no\n",
       "749  750    no\n",
       "\n",
       "[750 rows x 2 columns]"
      ]
     },
     "execution_count": 100,
     "metadata": {},
     "output_type": "execute_result"
    }
   ],
   "source": [
    "output_text.to_csv('output.csv', index=False)\n"
   ]
  },
  {
   "cell_type": "code",
   "execution_count": 84,
   "metadata": {},
   "outputs": [
    {
     "ename": "NameError",
     "evalue": "name 'output_text' is not defined",
     "output_type": "error",
     "traceback": [
      "\u001b[0;31m---------------------------------------------------------------------------\u001b[0m",
      "\u001b[0;31mNameError\u001b[0m                                 Traceback (most recent call last)",
      "Cell \u001b[0;32mIn[84], line 1\u001b[0m\n\u001b[0;32m----> 1\u001b[0m \u001b[43moutput_text\u001b[49m[output\u001b[38;5;241m==\u001b[39m\u001b[38;5;241m1\u001b[39m]\u001b[38;5;241m=\u001b[39m\u001b[38;5;124m'\u001b[39m\u001b[38;5;124myes\u001b[39m\u001b[38;5;124m'\u001b[39m\n\u001b[1;32m      2\u001b[0m output_text[output\u001b[38;5;241m==\u001b[39m\u001b[38;5;241m0\u001b[39m]\u001b[38;5;241m=\u001b[39m\u001b[38;5;124m'\u001b[39m\u001b[38;5;124mno\u001b[39m\u001b[38;5;124m'\u001b[39m\n",
      "\u001b[0;31mNameError\u001b[0m: name 'output_text' is not defined"
     ]
    }
   ],
   "source": [
    "output_text[output==1]='yes'\n",
    "output_text[output==0]='no'"
   ]
  },
  {
   "cell_type": "code",
   "execution_count": null,
   "metadata": {},
   "outputs": [],
   "source": [
    "data_test[]"
   ]
  }
 ],
 "metadata": {
  "kernelspec": {
   "display_name": "venv",
   "language": "python",
   "name": "python3"
  },
  "language_info": {
   "codemirror_mode": {
    "name": "ipython",
    "version": 3
   },
   "file_extension": ".py",
   "mimetype": "text/x-python",
   "name": "python",
   "nbconvert_exporter": "python",
   "pygments_lexer": "ipython3",
   "version": "3.11.8"
  }
 },
 "nbformat": 4,
 "nbformat_minor": 2
}
