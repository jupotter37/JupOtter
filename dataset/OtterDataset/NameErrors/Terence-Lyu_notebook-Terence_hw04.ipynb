{
 "cells": [
  {
   "cell_type": "code",
   "execution_count": 1,
   "id": "5fb330a0",
   "metadata": {},
   "outputs": [
    {
     "ename": "SyntaxError",
     "evalue": "invalid syntax (141621820.py, line 1)",
     "output_type": "error",
     "traceback": [
      "\u001b[0;36m  Cell \u001b[0;32mIn[1], line 1\u001b[0;36m\u001b[0m\n\u001b[0;31m    The standard deviation measures the variability or spread of individual data points in the original sample around the sample mean.\u001b[0m\n\u001b[0m        ^\u001b[0m\n\u001b[0;31mSyntaxError\u001b[0m\u001b[0;31m:\u001b[0m invalid syntax\n"
     ]
    }
   ],
   "source": [
    "The standard deviation measures the variability or spread of individual data points in the original sample around the sample mean.\n",
    " The standard error of mean quantifies the uncertainty or variability of the sample mean. It indicates how much the sample mean would vary if\n",
    "    we repeatedly took samples from the population. In bootstrapping, this is estimated by repeatedly resampling \n",
    "    from the original dataset and computing the sample mean for each resample."
   ]
  },
  {
   "cell_type": "code",
   "execution_count": 2,
   "id": "a2a4a84d",
   "metadata": {},
   "outputs": [
    {
     "ename": "SyntaxError",
     "evalue": "invalid syntax (454344068.py, line 1)",
     "output_type": "error",
     "traceback": [
      "\u001b[0;36m  Cell \u001b[0;32mIn[2], line 1\u001b[0;36m\u001b[0m\n\u001b[0;31m    In order to creat a confidence interval, we need to resample the original dataset for a large number of times, and we calculate the mean of\u001b[0m\n\u001b[0m       ^\u001b[0m\n\u001b[0;31mSyntaxError\u001b[0m\u001b[0;31m:\u001b[0m invalid syntax\n"
     ]
    }
   ],
   "source": [
    "In order to creat a confidence interval, we need to resample the original dataset for a large number of times, and we calculate the mean of \n",
    "each attempts. Then we calculate the standard deviation of the means. Use the standard deviation of means to calculate the 95% confidence \n",
    "interval by the formula."
   ]
  },
  {
   "cell_type": "code",
   "execution_count": 3,
   "id": "a54cc6fe",
   "metadata": {},
   "outputs": [
    {
     "ename": "SyntaxError",
     "evalue": "invalid syntax (39165077.py, line 1)",
     "output_type": "error",
     "traceback": [
      "\u001b[0;36m  Cell \u001b[0;32mIn[3], line 1\u001b[0;36m\u001b[0m\n\u001b[0;31m    First, take a large number of bootstrapping samples(1000).Then calculate the mean of each samples, and take the data at the 2.5% and 97.5% of\u001b[0m\n\u001b[0m                ^\u001b[0m\n\u001b[0;31mSyntaxError\u001b[0m\u001b[0;31m:\u001b[0m invalid syntax\n"
     ]
    }
   ],
   "source": [
    "First, take a large number of bootstrapping samples(1000).Then calculate the mean of each samples, and take the data at the 2.5% and 97.5% of\n",
    "1000 data examples. The 95% confidence interval is between this section."
   ]
  },
  {
   "cell_type": "code",
   "execution_count": 4,
   "id": "4e1b2fbd",
   "metadata": {},
   "outputs": [
    {
     "name": "stdout",
     "output_type": "stream",
     "text": [
      "95% Bootstrap Confidence Interval for the Mean: (11.2, 14.2)\n",
      "95% Bootstrap Confidence Interval for the Median: (10.0, 15.0)\n"
     ]
    }
   ],
   "source": [
    "import numpy as np\n",
    "\n",
    "# Function to perform bootstrapping and calculate confidence interval\n",
    "def bootstrap_confidence_interval(data, num_bootstrap_samples=1000, ci_level=95, statistic=np.mean):\n",
    "    \"\"\"\n",
    "    Function to compute the bootstrap confidence interval for a given statistic (default is the mean).\n",
    "    \n",
    "    Parameters:\n",
    "    - data: The original sample data (a list or numpy array).\n",
    "    - num_bootstrap_samples: Number of bootstrap samples (default is 1000).\n",
    "    - ci_level: The confidence level for the interval (default is 95%).\n",
    "    - statistic: The statistic to calculate for each bootstrap sample (default is np.mean).\n",
    "                 You can pass np.median, np.std, or any other function to compute a different statistic.\n",
    "                 \n",
    "    Returns:\n",
    "    - (lower_bound, upper_bound): The computed confidence interval.\n",
    "    \"\"\"\n",
    "    # List to store the statistic calculated from each bootstrap sample\n",
    "    bootstrap_statistics = []\n",
    "    \n",
    "    # Generate bootstrap samples and compute the statistic for each sample\n",
    "    for _ in range(num_bootstrap_samples):\n",
    "        # Generate a bootstrap sample by sampling with replacement from the original data\n",
    "        bootstrap_sample = np.random.choice(data, size=len(data), replace=True)\n",
    "        \n",
    "        # Calculate the statistic for this bootstrap sample (e.g., mean, median, etc.)\n",
    "        bootstrap_statistics.append(statistic(bootstrap_sample))\n",
    "    \n",
    "    # Compute the lower and upper percentiles for the confidence interval\n",
    "    lower_percentile = (100 - ci_level) / 2\n",
    "    upper_percentile = 100 - lower_percentile\n",
    "    lower_bound = np.percentile(bootstrap_statistics, lower_percentile)\n",
    "    upper_bound = np.percentile(bootstrap_statistics, upper_percentile)\n",
    "    \n",
    "    return lower_bound, upper_bound\n",
    "\n",
    "# Sample data (example data - replace this with your actual data)\n",
    "data = np.array([12, 15, 14, 10, 13])\n",
    "\n",
    "# Call the function to compute the 95% confidence interval for the population mean\n",
    "ci_mean = bootstrap_confidence_interval(data, num_bootstrap_samples=1000, ci_level=95, statistic=np.mean)\n",
    "print(f\"95% Bootstrap Confidence Interval for the Mean: {ci_mean}\")\n",
    "\n",
    "# To compute the 95% confidence interval for the population median, change np.mean to np.median\n",
    "ci_median = bootstrap_confidence_interval(data, num_bootstrap_samples=1000, ci_level=95, statistic=np.median)\n",
    "print(f\"95% Bootstrap Confidence Interval for the Median: {ci_median}\")\n",
    "\n"
   ]
  },
  {
   "cell_type": "code",
   "execution_count": 5,
   "id": "c94ea4a3",
   "metadata": {},
   "outputs": [
    {
     "ename": "SyntaxError",
     "evalue": "invalid syntax (3408399645.py, line 1)",
     "output_type": "error",
     "traceback": [
      "\u001b[0;36m  Cell \u001b[0;32mIn[5], line 1\u001b[0;36m\u001b[0m\n\u001b[0;31m    To compute the confidence interval for the median:\u001b[0m\n\u001b[0m       ^\u001b[0m\n\u001b[0;31mSyntaxError\u001b[0m\u001b[0;31m:\u001b[0m invalid syntax\n"
     ]
    }
   ],
   "source": [
    "To compute the confidence interval for the median:\n",
    "    ci_median = bootstrap_confidence_interval(data, num_bootstrap_samples=1000, ci_level=95, statistic=np.median)\n",
    "    \n",
    "To compute the confidence interval for the standard deviation:\n",
    "    ci_std = bootstrap_confidence_interval(data, num_bootstrap_samples=1000, ci_level=95, statistic=np.std)\n",
    "|"
   ]
  },
  {
   "cell_type": "code",
   "execution_count": 6,
   "id": "1c980800",
   "metadata": {},
   "outputs": [
    {
     "ename": "SyntaxError",
     "evalue": "invalid syntax (1381320978.py, line 1)",
     "output_type": "error",
     "traceback": [
      "\u001b[0;36m  Cell \u001b[0;32mIn[6], line 1\u001b[0;36m\u001b[0m\n\u001b[0;31m    The population parameter is the true situation that we want to get from the data, but it is always unknown.While we can get the sample\u001b[0m\n\u001b[0m        ^\u001b[0m\n\u001b[0;31mSyntaxError\u001b[0m\u001b[0;31m:\u001b[0m invalid syntax\n"
     ]
    }
   ],
   "source": [
    "The population parameter is the true situation that we want to get from the data, but it is always unknown.While we can get the sample \n",
    "sample statistic from the sample data which can represent the approximate population parameter.\n",
    "In the confidence interval, we use the sample statistic to calculate the approximate interval of the population parameter because the \n",
    "value of the sample data is different every time."
   ]
  },
  {
   "cell_type": "code",
   "execution_count": 7,
   "id": "42fb7166",
   "metadata": {},
   "outputs": [
    {
     "ename": "SyntaxError",
     "evalue": "invalid syntax (3683819607.py, line 1)",
     "output_type": "error",
     "traceback": [
      "\u001b[0;36m  Cell \u001b[0;32mIn[7], line 1\u001b[0;36m\u001b[0m\n\u001b[0;31m    1.(1)Take the data from the dataset repeatly in order to get a new data sample.\u001b[0m\n\u001b[0m         ^\u001b[0m\n\u001b[0;31mSyntaxError\u001b[0m\u001b[0;31m:\u001b[0m invalid syntax\n"
     ]
    }
   ],
   "source": [
    "1.(1)Take the data from the dataset repeatly in order to get a new data sample.\n",
    "(2)The purpose of the bootstrapping is determine the standard deviation or the confidence interval through sampling repeatly.\n",
    "(3)First, take 1000 samples which is as large as the original dataset from the dataset.Then calculate the mean of each sample, and creat the \n",
    "confidence interval by these means.Last check to see if the guess whether falls within this confidence interval."
   ]
  },
  {
   "cell_type": "code",
   "execution_count": 8,
   "id": "765085d5",
   "metadata": {},
   "outputs": [
    {
     "ename": "SyntaxError",
     "evalue": "invalid syntax (3429364707.py, line 1)",
     "output_type": "error",
     "traceback": [
      "\u001b[0;36m  Cell \u001b[0;32mIn[8], line 1\u001b[0;36m\u001b[0m\n\u001b[0;31m    The confidence interval included zero which represent that the mean can be zero which means that the drug has no effect. Also, there exists\u001b[0m\n\u001b[0m        ^\u001b[0m\n\u001b[0;31mSyntaxError\u001b[0m\u001b[0;31m:\u001b[0m invalid syntax\n"
     ]
    }
   ],
   "source": [
    "The confidence interval included zero which represent that the mean can be zero which means that the drug has no effect. Also, there exists \n",
    "some other factors which can influence the result of the experiment, so although the mean is not equal to zero, and the confidence interval \n",
    "included zero can represent the drug may has no effect.\n",
    "If the confidence interval not included zero, this means that we have enough evidence to proof that the drug have noteworthy effect to the patient."
   ]
  },
  {
   "cell_type": "code",
   "execution_count": 9,
   "id": "9dffcc31",
   "metadata": {},
   "outputs": [
    {
     "ename": "NameError",
     "evalue": "name 'PatientID' is not defined",
     "output_type": "error",
     "traceback": [
      "\u001b[0;31m---------------------------------------------------------------------------\u001b[0m",
      "\u001b[0;31mNameError\u001b[0m                                 Traceback (most recent call last)",
      "Cell \u001b[0;32mIn[9], line 1\u001b[0m\n\u001b[0;32m----> 1\u001b[0m \u001b[43mPatientID\u001b[49m,Age,Gender,InitialHealthScore,FinalHealthScore\n\u001b[1;32m      2\u001b[0m \u001b[38;5;241m1\u001b[39m,\u001b[38;5;241m45\u001b[39m,M,\u001b[38;5;241m84\u001b[39m,\u001b[38;5;241m86\u001b[39m\n\u001b[1;32m      3\u001b[0m \u001b[38;5;241m2\u001b[39m,\u001b[38;5;241m34\u001b[39m,F,\u001b[38;5;241m78\u001b[39m,\u001b[38;5;241m86\u001b[39m\n",
      "\u001b[0;31mNameError\u001b[0m: name 'PatientID' is not defined"
     ]
    }
   ],
   "source": [
    "PatientID,Age,Gender,InitialHealthScore,FinalHealthScore\n",
    "1,45,M,84,86\n",
    "2,34,F,78,86\n",
    "3,29,M,83,80\n",
    "4,52,F,81,86\n",
    "5,37,M,81,84\n",
    "6,41,F,80,86\n",
    "7,33,M,79,86\n",
    "8,48,F,85,82\n",
    "9,26,M,76,83\n",
    "10,39,F,83,84\n"
   ]
  },
  {
   "cell_type": "code",
   "execution_count": 10,
   "id": "57115472",
   "metadata": {},
   "outputs": [
    {
     "name": "stdout",
     "output_type": "stream",
     "text": [
      "95% Bootstrap Confidence Interval for the Mean of Initial Health Score: (79.4, 82.6)\n",
      "95% Bootstrap Confidence Interval for the Mean of Final Health Score: (83.0, 85.4)\n",
      "95% Bootstrap Confidence Interval for the Median of Final Health Score: (83.0, 86.0)\n"
     ]
    }
   ],
   "source": [
    "import numpy as np\n",
    "import pandas as pd\n",
    "\n",
    "# Manually input the dataset as seen in the image\n",
    "data = {\n",
    "    'PatientID': [1, 2, 3, 4, 5, 6, 7, 8, 9, 10],\n",
    "    'Age': [45, 34, 29, 52, 37, 41, 33, 48, 26, 39],\n",
    "    'Gender': ['M', 'F', 'M', 'F', 'M', 'F', 'M', 'F', 'M', 'F'],\n",
    "    'InitialHealthScore': [84, 78, 83, 81, 81, 80, 79, 85, 76, 83],\n",
    "    'FinalHealthScore': [86, 86, 80, 86, 84, 86, 86, 82, 83, 84]\n",
    "}\n",
    "\n",
    "# Convert to a pandas DataFrame\n",
    "df = pd.DataFrame(data)\n",
    "\n",
    "# Bootstrapping function\n",
    "def bootstrap_confidence_interval(data, num_bootstrap_samples=1000, ci_level=95, statistic=np.mean):\n",
    "    \"\"\"\n",
    "    Function to compute the bootstrap confidence interval for a given statistic (default is the mean).\n",
    "    \n",
    "    Parameters:\n",
    "    - data: The data column to be bootstrapped (e.g., df['InitialHealthScore']).\n",
    "    - num_bootstrap_samples: Number of bootstrap samples (default is 1000).\n",
    "    - ci_level: The confidence level for the interval (default is 95%).\n",
    "    - statistic: The statistic to calculate for each bootstrap sample (default is np.mean).\n",
    "    \n",
    "    Returns:\n",
    "    - (lower_bound, upper_bound): The computed confidence interval.\n",
    "    \"\"\"\n",
    "    # List to store the statistic calculated from each bootstrap sample\n",
    "    bootstrap_statistics = []\n",
    "    \n",
    "    # Generate bootstrap samples and compute the statistic for each sample\n",
    "    for _ in range(num_bootstrap_samples):\n",
    "        # Generate a bootstrap sample by sampling with replacement from the original data\n",
    "        bootstrap_sample = np.random.choice(data, size=len(data), replace=True)\n",
    "        \n",
    "        # Calculate the statistic for this bootstrap sample (e.g., mean, median, etc.)\n",
    "        bootstrap_statistics.append(statistic(bootstrap_sample))\n",
    "    \n",
    "    # Compute the lower and upper percentiles for the confidence interval\n",
    "    lower_percentile = (100 - ci_level) / 2\n",
    "    upper_percentile = 100 - lower_percentile\n",
    "    lower_bound = np.percentile(bootstrap_statistics, lower_percentile)\n",
    "    upper_bound = np.percentile(bootstrap_statistics, upper_percentile)\n",
    "    \n",
    "    return lower_bound, upper_bound\n",
    "\n",
    "# Bootstrapping for the Initial Health Score\n",
    "initial_health_ci = bootstrap_confidence_interval(df['InitialHealthScore'], num_bootstrap_samples=1000, statistic=np.mean)\n",
    "print(f\"95% Bootstrap Confidence Interval for the Mean of Initial Health Score: {initial_health_ci}\")\n",
    "\n",
    "# Bootstrapping for the Final Health Score\n",
    "final_health_ci = bootstrap_confidence_interval(df['FinalHealthScore'], num_bootstrap_samples=1000, statistic=np.mean)\n",
    "print(f\"95% Bootstrap Confidence Interval for the Mean of Final Health Score: {final_health_ci}\")\n",
    "\n",
    "# Bootstrapping for the Median of Final Health Score\n",
    "final_health_median_ci = bootstrap_confidence_interval(df['FinalHealthScore'], num_bootstrap_samples=1000, statistic=np.median)\n",
    "print(f\"95% Bootstrap Confidence Interval for the Median of Final Health Score: {final_health_median_ci}\")\n"
   ]
  },
  {
   "cell_type": "code",
   "execution_count": 11,
   "id": "1c371281",
   "metadata": {},
   "outputs": [
    {
     "ename": "SyntaxError",
     "evalue": "invalid syntax (2266527252.py, line 1)",
     "output_type": "error",
     "traceback": [
      "\u001b[0;36m  Cell \u001b[0;32mIn[11], line 1\u001b[0;36m\u001b[0m\n\u001b[0;31m    I have reviewed the course wiki-textbook and interacted with a ChatBot\u001b[0m\n\u001b[0m      ^\u001b[0m\n\u001b[0;31mSyntaxError\u001b[0m\u001b[0;31m:\u001b[0m invalid syntax\n"
     ]
    }
   ],
   "source": [
    "I have reviewed the course wiki-textbook and interacted with a ChatBot"
   ]
  },
  {
   "cell_type": "code",
   "execution_count": null,
   "id": "cb3efbb5",
   "metadata": {},
   "outputs": [],
   "source": [
    "chatbot history: https://chatgpt.com/c/66fed1d3-9d18-8012-ae22-acd166593d8d"
   ]
  }
 ],
 "metadata": {
  "kernelspec": {
   "display_name": "Python 3 (ipykernel)",
   "language": "python",
   "name": "python3"
  },
  "language_info": {
   "codemirror_mode": {
    "name": "ipython",
    "version": 3
   },
   "file_extension": ".py",
   "mimetype": "text/x-python",
   "name": "python",
   "nbconvert_exporter": "python",
   "pygments_lexer": "ipython3",
   "version": "3.11.6"
  }
 },
 "nbformat": 4,
 "nbformat_minor": 5
}
