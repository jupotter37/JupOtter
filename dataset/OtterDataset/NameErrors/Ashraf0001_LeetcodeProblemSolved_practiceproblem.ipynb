{
 "cells": [
  {
   "cell_type": "code",
   "execution_count": null,
   "metadata": {},
   "outputs": [
    {
     "data": {
      "text/plain": [
       "['ashraf', 20, 55222]"
      ]
     },
     "execution_count": 16,
     "metadata": {},
     "output_type": "execute_result"
    }
   ],
   "source": [
    "#import itertools\n",
    "\n",
    "def recet_knowledge(myname:str, age:int, salary: str)->str :\n",
    "    \n",
    "    List = []\n",
    "    \n",
    "    print( \"Annotations\", recet_knowledge.__annotations__)\n",
    "\n",
    "    \n",
    "    #print( 'arguments printing ', myname, salary,age)\n",
    "    \n",
    "    List.append(myname)\n",
    "    List.append(age )\n",
    "    List.append(salary)\n",
    "    \n",
    "    \n",
    "    return List \n",
    "\n",
    "    \n",
    "recet_knowledge('ashraf', 20, 55222)\n",
    "    \n",
    "    "
   ]
  },
  {
   "cell_type": "code",
   "execution_count": null,
   "metadata": {},
   "outputs": [],
   "source": []
  },
  {
   "cell_type": "code",
   "execution_count": 30,
   "metadata": {},
   "outputs": [],
   "source": [
    "class StudentResut:\n",
    "    \n",
    "    def __init__(self, name, age, marks, subjects ):\n",
    "        \n",
    "        self.name = name \n",
    "        self. age = age \n",
    "        self.marks = marks \n",
    "        self.subject = subjects\n",
    "        \n",
    "\n",
    "    def nameof_student( self):\n",
    "        return self.name \n",
    "    \n",
    "    \n",
    "    def ageof_student(self):\n",
    "        return   f\"The age of student :{self.age}\"\n",
    "    \n",
    "    def marks_of_student(self, sub1 = 25, sub2 = 35):\n",
    "        \n",
    "        if self.subject == 'chemistry':\n",
    "        \n",
    "        \n",
    "        \n",
    "        \n",
    "            if sub1>sub2:        \n",
    "                self.marks = sub1 + sub2\n",
    "                \n",
    "            elif sub1<sub2:\n",
    "                \n",
    "                self.marks = sub1-sub2\n",
    "            \n",
    "                return  f\" The marks of the student: {self.marks}\"\n",
    "            \n",
    "            else:\n",
    "                \n",
    "                return print (f\"I cannot give anything other than chemistry\")\n",
    "                \n",
    "                \n",
    "        \n",
    "        \n",
    "    \n",
    "    \n",
    "    \n",
    "\n",
    "\n",
    "student1 = StudentResut('rehan',20, 80,'Physics')\n",
    "\n",
    "student1.ageof_student()\n",
    "student1.marks_of_student(58, 85)\n",
    "\n",
    "    \n",
    "    \n",
    "\n"
   ]
  },
  {
   "cell_type": "code",
   "execution_count": null,
   "metadata": {},
   "outputs": [
    {
     "data": {
      "text/plain": [
       "{}"
      ]
     },
     "execution_count": 34,
     "metadata": {},
     "output_type": "execute_result"
    }
   ],
   "source": [
    "student1.nameof_student()\n",
    "\n",
    "C:\\Users\\ASH\\Desktop\\MWC-Module-3-Modular-Workflow-and-Project-Setup-Basics\\src\\practiceproblem.ipynb"
   ]
  },
  {
   "cell_type": "code",
   "execution_count": 10,
   "metadata": {},
   "outputs": [
    {
     "ename": "KeyError",
     "evalue": "'age'",
     "output_type": "error",
     "traceback": [
      "\u001b[1;31m---------------------------------------------------------------------------\u001b[0m",
      "\u001b[1;31mKeyError\u001b[0m                                  Traceback (most recent call last)",
      "File \u001b[1;32mc:\\Users\\ASH\\Desktop\\MWC-Module-3-Modular-Workflow-and-Project-Setup-Basics\\env\\lib\\site-packages\\pandas\\core\\indexes\\base.py:3805\u001b[0m, in \u001b[0;36mIndex.get_loc\u001b[1;34m(self, key)\u001b[0m\n\u001b[0;32m   3804\u001b[0m \u001b[38;5;28;01mtry\u001b[39;00m:\n\u001b[1;32m-> 3805\u001b[0m     \u001b[38;5;28;01mreturn\u001b[39;00m \u001b[38;5;28;43mself\u001b[39;49m\u001b[38;5;241;43m.\u001b[39;49m\u001b[43m_engine\u001b[49m\u001b[38;5;241;43m.\u001b[39;49m\u001b[43mget_loc\u001b[49m\u001b[43m(\u001b[49m\u001b[43mcasted_key\u001b[49m\u001b[43m)\u001b[49m\n\u001b[0;32m   3806\u001b[0m \u001b[38;5;28;01mexcept\u001b[39;00m \u001b[38;5;167;01mKeyError\u001b[39;00m \u001b[38;5;28;01mas\u001b[39;00m err:\n",
      "File \u001b[1;32mindex.pyx:167\u001b[0m, in \u001b[0;36mpandas._libs.index.IndexEngine.get_loc\u001b[1;34m()\u001b[0m\n",
      "File \u001b[1;32mindex.pyx:196\u001b[0m, in \u001b[0;36mpandas._libs.index.IndexEngine.get_loc\u001b[1;34m()\u001b[0m\n",
      "File \u001b[1;32mpandas\\\\_libs\\\\hashtable_class_helper.pxi:7081\u001b[0m, in \u001b[0;36mpandas._libs.hashtable.PyObjectHashTable.get_item\u001b[1;34m()\u001b[0m\n",
      "File \u001b[1;32mpandas\\\\_libs\\\\hashtable_class_helper.pxi:7089\u001b[0m, in \u001b[0;36mpandas._libs.hashtable.PyObjectHashTable.get_item\u001b[1;34m()\u001b[0m\n",
      "\u001b[1;31mKeyError\u001b[0m: 'age'",
      "\nThe above exception was the direct cause of the following exception:\n",
      "\u001b[1;31mKeyError\u001b[0m                                  Traceback (most recent call last)",
      "Cell \u001b[1;32mIn[10], line 14\u001b[0m\n\u001b[0;32m     11\u001b[0m df \u001b[38;5;241m=\u001b[39m pd\u001b[38;5;241m.\u001b[39mDataFrame(data)\n\u001b[0;32m     13\u001b[0m \u001b[38;5;66;03m# Find duplicate emails\u001b[39;00m\n\u001b[1;32m---> 14\u001b[0m duplicate_emails \u001b[38;5;241m=\u001b[39m \u001b[43mdf\u001b[49m\u001b[43m[\u001b[49m\u001b[38;5;124;43m'\u001b[39;49m\u001b[38;5;124;43mage\u001b[39;49m\u001b[38;5;124;43m'\u001b[39;49m\u001b[43m]\u001b[49m[df[\u001b[38;5;124m'\u001b[39m\u001b[38;5;124mage\u001b[39m\u001b[38;5;124m'\u001b[39m]\u001b[38;5;241m.\u001b[39mduplicated()]\u001b[38;5;241m.\u001b[39mdrop_duplicates()\n\u001b[0;32m     16\u001b[0m \u001b[38;5;66;03m# Print the result\u001b[39;00m\n\u001b[0;32m     17\u001b[0m \u001b[38;5;28mprint\u001b[39m(duplicate_emails)\n",
      "File \u001b[1;32mc:\\Users\\ASH\\Desktop\\MWC-Module-3-Modular-Workflow-and-Project-Setup-Basics\\env\\lib\\site-packages\\pandas\\core\\frame.py:4102\u001b[0m, in \u001b[0;36mDataFrame.__getitem__\u001b[1;34m(self, key)\u001b[0m\n\u001b[0;32m   4100\u001b[0m \u001b[38;5;28;01mif\u001b[39;00m \u001b[38;5;28mself\u001b[39m\u001b[38;5;241m.\u001b[39mcolumns\u001b[38;5;241m.\u001b[39mnlevels \u001b[38;5;241m>\u001b[39m \u001b[38;5;241m1\u001b[39m:\n\u001b[0;32m   4101\u001b[0m     \u001b[38;5;28;01mreturn\u001b[39;00m \u001b[38;5;28mself\u001b[39m\u001b[38;5;241m.\u001b[39m_getitem_multilevel(key)\n\u001b[1;32m-> 4102\u001b[0m indexer \u001b[38;5;241m=\u001b[39m \u001b[38;5;28;43mself\u001b[39;49m\u001b[38;5;241;43m.\u001b[39;49m\u001b[43mcolumns\u001b[49m\u001b[38;5;241;43m.\u001b[39;49m\u001b[43mget_loc\u001b[49m\u001b[43m(\u001b[49m\u001b[43mkey\u001b[49m\u001b[43m)\u001b[49m\n\u001b[0;32m   4103\u001b[0m \u001b[38;5;28;01mif\u001b[39;00m is_integer(indexer):\n\u001b[0;32m   4104\u001b[0m     indexer \u001b[38;5;241m=\u001b[39m [indexer]\n",
      "File \u001b[1;32mc:\\Users\\ASH\\Desktop\\MWC-Module-3-Modular-Workflow-and-Project-Setup-Basics\\env\\lib\\site-packages\\pandas\\core\\indexes\\base.py:3812\u001b[0m, in \u001b[0;36mIndex.get_loc\u001b[1;34m(self, key)\u001b[0m\n\u001b[0;32m   3807\u001b[0m     \u001b[38;5;28;01mif\u001b[39;00m \u001b[38;5;28misinstance\u001b[39m(casted_key, \u001b[38;5;28mslice\u001b[39m) \u001b[38;5;129;01mor\u001b[39;00m (\n\u001b[0;32m   3808\u001b[0m         \u001b[38;5;28misinstance\u001b[39m(casted_key, abc\u001b[38;5;241m.\u001b[39mIterable)\n\u001b[0;32m   3809\u001b[0m         \u001b[38;5;129;01mand\u001b[39;00m \u001b[38;5;28many\u001b[39m(\u001b[38;5;28misinstance\u001b[39m(x, \u001b[38;5;28mslice\u001b[39m) \u001b[38;5;28;01mfor\u001b[39;00m x \u001b[38;5;129;01min\u001b[39;00m casted_key)\n\u001b[0;32m   3810\u001b[0m     ):\n\u001b[0;32m   3811\u001b[0m         \u001b[38;5;28;01mraise\u001b[39;00m InvalidIndexError(key)\n\u001b[1;32m-> 3812\u001b[0m     \u001b[38;5;28;01mraise\u001b[39;00m \u001b[38;5;167;01mKeyError\u001b[39;00m(key) \u001b[38;5;28;01mfrom\u001b[39;00m \u001b[38;5;21;01merr\u001b[39;00m\n\u001b[0;32m   3813\u001b[0m \u001b[38;5;28;01mexcept\u001b[39;00m \u001b[38;5;167;01mTypeError\u001b[39;00m:\n\u001b[0;32m   3814\u001b[0m     \u001b[38;5;66;03m# If we have a listlike key, _check_indexing_error will raise\u001b[39;00m\n\u001b[0;32m   3815\u001b[0m     \u001b[38;5;66;03m#  InvalidIndexError. Otherwise we fall through and re-raise\u001b[39;00m\n\u001b[0;32m   3816\u001b[0m     \u001b[38;5;66;03m#  the TypeError.\u001b[39;00m\n\u001b[0;32m   3817\u001b[0m     \u001b[38;5;28mself\u001b[39m\u001b[38;5;241m.\u001b[39m_check_indexing_error(key)\n",
      "\u001b[1;31mKeyError\u001b[0m: 'age'"
     ]
    }
   ],
   "source": [
    "import pandas as pd\n",
    "\n",
    "# Sample data\n",
    "data = {\n",
    "    'id': [1, 2, 3, 1,1,2],\n",
    "    'email': ['a@b.com', 'c@d.com', 'a@b.com', 'honono.com', 'gfdgfd.com', 'egrfer'],\n",
    "    'age ': [20,25,525,20,20,20]\n",
    "}\n",
    "\n",
    "# Create the DataFrame\n",
    "df = pd.DataFrame(data)\n",
    "\n",
    "# Find duplicate emails\n",
    "duplicate_emails = df['age'][df['age'].duplicated()].drop_duplicates()\n",
    "\n",
    "# Print the result\n",
    "print(duplicate_emails)"
   ]
  },
  {
   "cell_type": "code",
   "execution_count": null,
   "metadata": {},
   "outputs": [
    {
     "name": "stdout",
     "output_type": "stream",
     "text": [
      "{'e', 'a', 'A', 'E', 'O', 'i', 'U', 'u', 'I', 'o'}\n",
      "0 7\n",
      "I A\n",
      "e e\n",
      "AceCreIm\n",
      "{'e', 'a', 'A', 'E', 'O', 'i', 'U', 'u', 'I', 'o'}\n",
      "0 7\n",
      "e e\n",
      "e o\n",
      "leotcede\n"
     ]
    }
   ],
   "source": [
    "def reverseVowels(s: str) -> str:\n",
    "    vowels = set('aeiouAEIOU')\n",
    "    \n",
    "    print( vowels)\n",
    "    s = list(s)  # Convert string to a list to modify it in-place\n",
    "    #print(s)\n",
    "    left, right = 0, len(s) - 1\n",
    "    \n",
    "    print(left, right)\n",
    "\n",
    "    while left < right:\n",
    "        if s[left] in vowels and s[right] in vowels:\n",
    "            # Swap vowels\n",
    "            print(s[left],s[right])\n",
    "            s[left], s[right] = s[right], s[left]\n",
    "            left += 1\n",
    "            right -= 1\n",
    "        elif s[left] not in vowels:\n",
    "            left += 1\n",
    "           # print('current position of left', left)\n",
    "        else:\n",
    "            right -= 1\n",
    "            #print('current position of right', right)\n",
    "\n",
    "    return ''.join(s)  # Convert list back to string\n",
    "\n",
    "#return ''.join(s)  # convert list into a string \n",
    "\n",
    "# Example usage\n",
    "print(reverseVowels(\"IceCreAm\"))  # Output: \"AceCreIm\"\n",
    "print(reverseVowels(\"leetcode\"))  # Output: \"leotcede\"\n"
   ]
  },
  {
   "cell_type": "code",
   "execution_count": 18,
   "metadata": {},
   "outputs": [
    {
     "ename": "TypeError",
     "evalue": "list expected at most 1 argument, got 4",
     "output_type": "error",
     "traceback": [
      "\u001b[1;31m---------------------------------------------------------------------------\u001b[0m",
      "\u001b[1;31mTypeError\u001b[0m                                 Traceback (most recent call last)",
      "Cell \u001b[1;32mIn[18], line 25\u001b[0m\n\u001b[0;32m     21\u001b[0m     \u001b[38;5;28;01mreturn\u001b[39;00m numbers\n\u001b[0;32m     23\u001b[0m \u001b[38;5;66;03m#example of use cases \u001b[39;00m\n\u001b[1;32m---> 25\u001b[0m \u001b[38;5;28mprint\u001b[39m(\u001b[43mreverseNumbers\u001b[49m\u001b[43m(\u001b[49m\u001b[43m[\u001b[49m\u001b[38;5;241;43m1\u001b[39;49m\u001b[43m,\u001b[49m\u001b[38;5;241;43m5\u001b[39;49m\u001b[43m,\u001b[49m\u001b[38;5;241;43m6\u001b[39;49m\u001b[43m,\u001b[49m\u001b[38;5;241;43m57\u001b[39;49m\u001b[43m,\u001b[49m\u001b[38;5;241;43m25\u001b[39;49m\u001b[43m,\u001b[49m\u001b[38;5;241;43m2\u001b[39;49m\u001b[43m]\u001b[49m\u001b[43m)\u001b[49m)\n",
      "Cell \u001b[1;32mIn[18], line 3\u001b[0m, in \u001b[0;36mreverseNumbers\u001b[1;34m(numbers)\u001b[0m\n\u001b[0;32m      1\u001b[0m \u001b[38;5;28;01mdef\u001b[39;00m \u001b[38;5;21mreverseNumbers\u001b[39m (numbers):\n\u001b[1;32m----> 3\u001b[0m     numb_rev \u001b[38;5;241m=\u001b[39m \u001b[38;5;28;43mlist\u001b[39;49m\u001b[43m(\u001b[49m\u001b[38;5;241;43m4\u001b[39;49m\u001b[43m,\u001b[49m\u001b[38;5;241;43m5\u001b[39;49m\u001b[43m,\u001b[49m\u001b[38;5;241;43m3\u001b[39;49m\u001b[43m,\u001b[49m\u001b[38;5;241;43m2\u001b[39;49m\u001b[43m)\u001b[49m\n\u001b[0;32m      5\u001b[0m     left, right \u001b[38;5;241m=\u001b[39m \u001b[38;5;241m0\u001b[39m, \u001b[38;5;28mlen\u001b[39m(numbers)\u001b[38;5;241m-\u001b[39m\u001b[38;5;241m1\u001b[39m\n\u001b[0;32m      7\u001b[0m     \u001b[38;5;28;01mwhile\u001b[39;00m left\u001b[38;5;241m<\u001b[39mright:\n",
      "\u001b[1;31mTypeError\u001b[0m: list expected at most 1 argument, got 4"
     ]
    }
   ],
   "source": [
    "def reverseNumbers (numbers):\n",
    "    \n",
    "    numb_rev = list(4,5,3,2)\n",
    "    \n",
    "    left, right = 0, len(numbers)-1\n",
    "    \n",
    "    while left<right:\n",
    "        if numbers[left] in numb_rev and numbers[right] in numb_rev:\n",
    "            # swap the numbers \n",
    "            numbers[left], numbers[right]= numbers[right], numbers[left]\n",
    "            \n",
    "            left = left +1    #same as left+ =1\n",
    "            right = right-1\n",
    "            \n",
    "        elif numbers[left] not in numb_rev:\n",
    "            left +=1\n",
    "            \n",
    "        else:\n",
    "            right -=1\n",
    "            \n",
    "    return numbers\n",
    "\n",
    "#example of use cases \n",
    "\n",
    "print(reverseNumbers([1,5,6,57,25,2]))\n",
    "        \n",
    "    \n",
    "    \n",
    "    \n",
    "    "
   ]
  },
  {
   "cell_type": "code",
   "execution_count": null,
   "metadata": {},
   "outputs": [],
   "source": []
  },
  {
   "cell_type": "code",
   "execution_count": null,
   "metadata": {},
   "outputs": [],
   "source": [
    "class Solution:\n",
    "    def canPlaceFlowers(self, flowerbed, n):\n",
    "        for i in range(len(flowerbed)):\n",
    "            # Check if the current plot is empty and can have a flower\n",
    "            if flowerbed[i] == 0:\n",
    "                prev_empty = (i == 0 or flowerbed[i - 1] == 0)\n",
    "                next_empty = (i == len(flowerbed) - 1 or flowerbed[i + 1] == 0)\n",
    "                if prev_empty and next_empty:\n",
    "                    # Plant a flower\n",
    "                    flowerbed[i] = 1\n",
    "                    n -= 1\n",
    "                    if n == 0:\n",
    "                        return True\n",
    "        return n <= 0\n",
    "\n",
    "# Example usage\n",
    "solution = Solution()\n",
    "print(solution.canPlaceFlowers([1, 0, 0, 0, 1], 1))  # Output: True\n",
    "print(solution.canPlaceFlowers([1, 0, 0, 0, 1], 2))  # Output: False"
   ]
  },
  {
   "cell_type": "code",
   "execution_count": 16,
   "metadata": {},
   "outputs": [
    {
     "name": "stdout",
     "output_type": "stream",
     "text": [
      "True\n"
     ]
    }
   ],
   "source": [
    "class pracSolution:\n",
    "    \n",
    "    def flowers_planting(self, bed, n):\n",
    "        \n",
    "        for i in range (len(bed)):\n",
    "            #check if the current bed is empty \n",
    "            if bed[i]== 0:\n",
    "                prev = (i==0 or bed[i-1]==0)         # checks if it is begining position or the previous position is 0\n",
    "                next = (i== len(bed)-1  or bed[i+1]==0)\n",
    "                \n",
    "                if prev and next:\n",
    "                    #plant a flower\n",
    "                    bed[i]== 1\n",
    "                    n= n-1\n",
    "                    \n",
    "                    if n ==0:\n",
    "                        return True\n",
    "        \n",
    "        \n",
    "        return n <=0\n",
    "    \n",
    "    #Example Usage \n",
    "obj = pracSolution()\n",
    "print(obj.flowers_planting([1,0,0,0,0,0,1], 1 ))\n",
    "    "
   ]
  },
  {
   "cell_type": "code",
   "execution_count": 24,
   "metadata": {},
   "outputs": [
    {
     "name": "stdout",
     "output_type": "stream",
     "text": [
      "[True, True, True, False, True]\n"
     ]
    }
   ],
   "source": [
    "def kidsWithCandies(candies, extraCandies):\n",
    "    # Find the maximum number of candies among all kids\n",
    "    maxCandies = max(candies)\n",
    "    # Determine if each kid can have the greatest candies\n",
    "    result = [candy + extraCandies >= maxCandies for candy in candies]\n",
    "    return result\n",
    "\n",
    "# Example usage\n",
    "candies = [2, 3, 5, 1, 3]\n",
    "extraCandies = 3\n",
    "print(kidsWithCandies(candies, extraCandies))  # O"
   ]
  },
  {
   "cell_type": "code",
   "execution_count": null,
   "metadata": {},
   "outputs": [
    {
     "name": "stdout",
     "output_type": "stream",
     "text": [
      "[True, True, True, False, True]\n"
     ]
    }
   ],
   "source": [
    "def kids_with_chocolates(choc, extrachoc)->bool:\n",
    "    \n",
    "    # Finding the maximum of chocs\n",
    "    maxchocs = max(choc)\n",
    "    \n",
    "    #Final result\n",
    "    \n",
    "    final_result = [i + extrachoc >= maxchocs for i in choc ]    # it checks the current position and add with extra choclates , if it returns max or equal it gives a True\n",
    "    return final_result\n",
    "\n",
    "choc = [2, 3, 5, 1, 3]\n",
    "extrachoc = 3\n",
    "print(kids_with_chocolates(choc, extrachoc))"
   ]
  },
  {
   "cell_type": "code",
   "execution_count": 30,
   "metadata": {},
   "outputs": [
    {
     "name": "stdout",
     "output_type": "stream",
     "text": [
      "[False, True, True, False, True]\n"
     ]
    }
   ],
   "source": [
    "def check_chocolates(choc, extrachoc):\n",
    "    # Find the maximum number of chocolates in the list\n",
    "    maxchocs = max(choc)\n",
    "    \n",
    "    # Final result: check if each chocolate count + extrachoc is greater than or equal to maxchocs\n",
    "    final_result = [choc_count + extrachoc >= maxchocs for choc_count in choc]\n",
    "    \n",
    "    return final_result\n",
    "\n",
    "# Example usage:\n",
    "choc = [2, 3, 5, 1, 4]\n",
    "extrachoc = 2\n",
    "print(check_chocolates(choc, extrachoc))"
   ]
  },
  {
   "cell_type": "code",
   "execution_count": null,
   "metadata": {},
   "outputs": [],
   "source": [
    "def gcdOfStrings( self, str1, str2):\n",
    "        # Check if str1 and str2 have a common divisor\n",
    "        if str1 + str2 != str2 + str1:\n",
    "            return \"\"\n",
    "        # Find the GCD of the lengths of the two strings\n",
    "        length_gcd = gcd(len(str1), len(str2))\n",
    "        # The GCD string is the prefix of str1 with length equal to the GCD\n",
    "        return str1[:length_gcd]\n",
    "    \n",
    "    \n"
   ]
  },
  {
   "cell_type": "code",
   "execution_count": null,
   "metadata": {},
   "outputs": [
    {
     "ename": "UnboundLocalError",
     "evalue": "local variable 'lcd' referenced before assignment",
     "output_type": "error",
     "traceback": [
      "\u001b[1;31m---------------------------------------------------------------------------\u001b[0m",
      "\u001b[1;31mUnboundLocalError\u001b[0m                         Traceback (most recent call last)",
      "Cell \u001b[1;32mIn[33], line 9\u001b[0m\n\u001b[0;32m      4\u001b[0m     lcd \u001b[38;5;241m=\u001b[39m lcd(number1, number2)\n\u001b[0;32m      6\u001b[0m     \u001b[38;5;28;01mreturn\u001b[39;00m lcd\n\u001b[1;32m----> 9\u001b[0m \u001b[38;5;28mprint\u001b[39m(\u001b[43mlcdofStrings\u001b[49m\u001b[43m(\u001b[49m\u001b[38;5;241;43m16\u001b[39;49m\u001b[43m,\u001b[49m\u001b[38;5;241;43m8\u001b[39;49m\u001b[43m)\u001b[49m)\n",
      "Cell \u001b[1;32mIn[33], line 4\u001b[0m, in \u001b[0;36mlcdofStrings\u001b[1;34m(number1, number2)\u001b[0m\n\u001b[0;32m      2\u001b[0m \u001b[38;5;28;01mdef\u001b[39;00m \u001b[38;5;21mlcdofStrings\u001b[39m(number1, number2):\n\u001b[1;32m----> 4\u001b[0m     lcd \u001b[38;5;241m=\u001b[39m \u001b[43mlcd\u001b[49m(number1, number2)\n\u001b[0;32m      6\u001b[0m     \u001b[38;5;28;01mreturn\u001b[39;00m lcd\n",
      "\u001b[1;31mUnboundLocalError\u001b[0m: local variable 'lcd' referenced before assignment"
     ]
    }
   ],
   "source": [
    "import math\n",
    "def lcdofStrings(number1, number2):\n",
    "    \n",
    "    lcd = lcd(number1, number2)\n",
    "    \n",
    "    return lcd\n",
    "\n",
    "\n"
   ]
  },
  {
   "cell_type": "code",
   "execution_count": 34,
   "metadata": {},
   "outputs": [
    {
     "name": "stdout",
     "output_type": "stream",
     "text": [
      "16\n"
     ]
    }
   ],
   "source": [
    "import math\n",
    "\n",
    "def lcdofStrings(number1, number2):\n",
    "    # Calculate the Least Common Multiple (LCM) using the formula\n",
    "    # LCM(a, b) = abs(a * b) // GCD(a, b)\n",
    "    gcd = math.gcd(number1, number2)  # Find the GCD of the numbers\n",
    "    lcm = abs(number1 * number2) // gcd  # Calculate the LCM using the formula\n",
    "    return lcm\n",
    "\n",
    "# Example usage:\n",
    "print(lcdofStrings(16, 8))  # Output: 16"
   ]
  },
  {
   "cell_type": "code",
   "execution_count": 35,
   "metadata": {},
   "outputs": [
    {
     "name": "stdout",
     "output_type": "stream",
     "text": [
      "8\n",
      "25\n"
     ]
    }
   ],
   "source": [
    "import math\n",
    "\n",
    "def find_gcd(number1, number2):\n",
    "    return math.gcd(number1, number2)\n",
    "\n",
    "# Example usage:\n",
    "print(find_gcd(16, 8))  # Output: 8\n",
    "print(find_gcd(100, 75))  # Output: 25"
   ]
  },
  {
   "cell_type": "code",
   "execution_count": null,
   "metadata": {},
   "outputs": [],
   "source": [
    "def mergeStrings(word1, word2):\n",
    "    merged = []\n",
    "    # Alternate characters from both strings\n",
    "    for c1, c2 in zip(word1, word2):\n",
    "        merged.append(c1)\n",
    "        merged.append(c2)\n",
    "    # Add the remaining part of the longer string\n",
    "    merged.append(word1[len(word2):] if len(word1) > len(word2) else word2[len(word1):])\n",
    "    return ''.join(merged)\n",
    "\n",
    "# Examples\n",
    "print(mergeStrings(\"abc\", \"pqr\"))  # Output: \"apbqcr\"\n",
    "print(mergeStrings(\"ab\", \"pqrs\")) # Output: \"apbqrs\"\n",
    "print(mergeStrings(\"abcd\", \"pq\")) # Output: \"apbqcd\"\n"
   ]
  },
  {
   "cell_type": "code",
   "execution_count": null,
   "metadata": {},
   "outputs": [],
   "source": [
    "def isSubsequence(s, t):\n",
    "    s_pointer = 0  # Pointer for string s\n",
    "    t_pointer = 0  # Pointer for string t\n",
    "\n",
    "    # Traverse through both strings\n",
    "    while s_pointer < len(s) and t_pointer < len(t):\n",
    "        # If characters match, move the pointer for s\n",
    "        if s[s_pointer] == t[t_pointer]:\n",
    "            s_pointer += 1\n",
    "        # Always move the pointer for t\n",
    "        t_pointer += 1\n",
    "\n",
    "    # If s_pointer has traversed all of s, then it's a subsequence\n",
    "    return s_pointer == len(s)\n",
    "\n",
    "# Example Usage\n",
    "print(isSubsequence(\"abc\", \"ahbgdc\"))  # Output: True\n",
    "print(isSubsequence(\"axc\", \"ahbgdc\"))  # Output: False\n"
   ]
  },
  {
   "cell_type": "code",
   "execution_count": 6,
   "metadata": {},
   "outputs": [
    {
     "name": "stdout",
     "output_type": "stream",
     "text": [
      "False\n"
     ]
    }
   ],
   "source": [
    "#getting subsecuquence \n",
    "\n",
    "def subsequence(line1:str, line2:str)-> bool:                   #line1 = abcd            line2 = abdehcjjhdd\n",
    "    \n",
    "    pointer_1 = 0  # pointer_1 will start at the 0th position of line1\n",
    "    \n",
    "    pointer_2 = 0 # this one will start at the 0th position of line2\n",
    "    \n",
    "    while pointer_1< len(line1) and pointer_2< len(line2):                #it checks lines are not 0\n",
    "        \n",
    "        if line1[pointer_1]== line2[pointer_2]:\n",
    "            \n",
    "            pointer_1 += 1\n",
    "            \n",
    "        #always increase the pointer_2\n",
    "    \n",
    "        pointer_2 += 1\n",
    "    \n",
    "    \n",
    "    #finally returns a boolean true or false\n",
    "    \n",
    "    return pointer_1 == len(line1)\n",
    "        \n",
    "    \n",
    "print( subsequence('x', ''))\n",
    "    \n",
    "    \n",
    "    "
   ]
  },
  {
   "cell_type": "code",
   "execution_count": null,
   "metadata": {},
   "outputs": [],
   "source": [
    "def moveZeroes(nums):\n",
    "    non_zero_index = 0  # Pointer to track the position for non-zero elements\n",
    "\n",
    "    # Step 1: Move all non-zero elements to the front\n",
    "    for i in range(len(nums)):\n",
    "        if nums[i] != 0:\n",
    "            nums[non_zero_index] = nums[i]\n",
    "            non_zero_index += 1\n",
    "\n",
    "    # Step 2: Fill the remaining positions with zeros\n",
    "    for i in range(non_zero_index, len(nums)):\n",
    "        nums[i] = 0\n",
    "\n",
    "# Example Usage\n",
    "nums = [0, 1, 0, 3, 12]\n",
    "moveZeroes(nums)\n",
    "print(\"Modified array:\", nums)  # Output: [1, 3, 12, 0, 0]\n"
   ]
  },
  {
   "cell_type": "code",
   "execution_count": null,
   "metadata": {},
   "outputs": [
    {
     "name": "stdout",
     "output_type": "stream",
     "text": [
      " modified the full list : [4, 258, 2, 2, 4, 0, 0, 0]\n"
     ]
    }
   ],
   "source": [
    "\n",
    "def zerofilling(nums:list)->list :\n",
    "    \n",
    "    indexer = 0                              # indexer is the pointer \n",
    "    \n",
    "    for i in range (indexer, len(nums)):\n",
    "        \n",
    "        if nums[i]!= 0:\n",
    "            nums[indexer] = nums[i]   # always remember left side one is the variable where we store the value when u get nums[i], that means storing value, when u get only i , its a pointer or iterator\n",
    "            indexer = indexer + 1\n",
    "            \n",
    "    #fill with remaining zeros \n",
    "    \n",
    "    for i in range (indexer, len(nums)):\n",
    "        \n",
    "        nums[i]= 0\n",
    "        \n",
    "    \n",
    "    \n",
    "#example usage \n",
    "\n",
    "nums = [4,258,2,0,2,0,4,0]\n",
    "\n",
    "zerofilling(nums)\n",
    "\n",
    "print(f\" modified the full list : {nums}\")\n",
    "        \n",
    "\n",
    "            "
   ]
  },
  {
   "cell_type": "code",
   "execution_count": null,
   "metadata": {},
   "outputs": [
    {
     "name": "stdout",
     "output_type": "stream",
     "text": [
      "<class 'list'>\n",
      "everytime 1\n",
      "everytime count 1\n",
      "everytime 2\n",
      "everytime count 2\n",
      "entering digit 2 <class 'str'>\n",
      "now written chars 2\n",
      "current position of write pointer 2\n",
      "everytime 3\n",
      "everytime count 1\n",
      "everytime 4\n",
      "everytime count 1\n",
      "everytime 5\n",
      "everytime count 2\n",
      "everytime 6\n",
      "everytime count 3\n",
      "entering digit 3 <class 'str'>\n",
      "now written chars 3\n",
      "current position of write pointer 5\n",
      "Compressed length: 5\n",
      "Compressed characters: ['a', '2', 'b', 'c', '3']\n"
     ]
    }
   ],
   "source": [
    "def compress(chars):\n",
    "    write = 0  # Position to write the compressed character\n",
    "    read = 0   # Position to read characters\n",
    "    \n",
    "    while read < len(chars):\n",
    "        char = chars[read]  # Current character\n",
    "        count = 0           # Count occurrences of the character\n",
    "        \n",
    "        # Count the occurrences of the current character\n",
    "        while read < len(chars) and chars[read] == char:\n",
    "            read += 1\n",
    "            print('everytime', read)\n",
    "            count += 1\n",
    "            print('everytime count', count)\n",
    "        \n",
    "        # Write the character to the array\n",
    "        chars[write] = char\n",
    "        write += 1\n",
    "        \n",
    "        # If the count is greater than 1, write its digits\n",
    "        if count > 1:\n",
    "            for digit in str(count):\n",
    "                \n",
    "                print('entering digit',digit, type(digit))\n",
    "                chars[write] = digit\n",
    "                print('now written chars', chars[write])\n",
    "                \n",
    "                write += 1\n",
    "                print('current position of write pointer', write)\n",
    "    \n",
    "    return write\n",
    "\n",
    "chars = [\"a\", \"a\", \"b\",  \"c\", \"c\", \"c\"]\n",
    "\n",
    "\n",
    "new_length = compress(chars)\n",
    "\n",
    "# Output the results\n",
    "print(\"Compressed length:\", new_length)          \n",
    "print(\"Compressed characters:\", chars[:new_length])\n"
   ]
  },
  {
   "cell_type": "code",
   "execution_count": 5,
   "metadata": {},
   "outputs": [
    {
     "name": "stdout",
     "output_type": "stream",
     "text": [
      "{1: 1}\n",
      "{1: 1, 2: 1}\n",
      "{1: 1, 2: 1}\n",
      "{1: 1, 2: 0}\n",
      "2\n",
      "{3: 1}\n",
      "{3: 1, 1: 1}\n",
      "{3: 1, 1: 1}\n",
      "{3: 0, 1: 1, 4: 1}\n",
      "{3: 1, 1: 1, 4: 1}\n",
      "1\n"
     ]
    }
   ],
   "source": [
    "def maxOperations(nums, k):\n",
    "    count_map = {}\n",
    "    operations = 0\n",
    "\n",
    "    for num in nums:\n",
    "        complement = k - num\n",
    "        # Check if complement exists in the map\n",
    "        if count_map.get(complement, 0) > 0:\n",
    "            print(count_map)\n",
    "            operations += 1\n",
    "            count_map[complement] -= 1  # Use up one complement\n",
    "        else:\n",
    "            # Otherwise, add the current number to the map\n",
    "            count_map[num] = count_map.get(num, 0) + 1\n",
    "            print(count_map)\n",
    "\n",
    "    return operations\n",
    "\n",
    "# Example usage\n",
    "nums1 = [1, 2, 3, 4]\n",
    "k1 = 5\n",
    "print(maxOperations(nums1, k1))  # Output: 2\n",
    "\n",
    "nums2 = [3, 1, 3, 4, 3]\n",
    "k2 = 6\n",
    "print(maxOperations(nums2, k2))  # Output: 1\n"
   ]
  },
  {
   "cell_type": "code",
   "execution_count": 3,
   "metadata": {},
   "outputs": [
    {
     "name": "stdout",
     "output_type": "stream",
     "text": [
      "{1: 1}\n",
      "0\n"
     ]
    }
   ],
   "source": [
    "def maximum_operation(nums, k):             #1,1,5,7,5,7,25,1,5,3,5  k = 10\n",
    "    \n",
    "    count_map = { }\n",
    "    operations = 0\n",
    "    \n",
    "    for num in nums:\n",
    "        \n",
    "        complement = k - num \n",
    "        if count_map.get(complement, 0)> 0:\n",
    "            print(count_map)\n",
    "            operations += 1\n",
    "            count_map[num] -= 1\n",
    "            \n",
    "        else:\n",
    "            #otherwise add the current number to the map \n",
    "            \n",
    "            count_map[num] = count_map.get(num, 0) +1\n",
    "            print(count_map)\n",
    "            \n",
    "        return operations\n",
    "            \n",
    "nums1 = [1, 2, 3, 4]\n",
    "k1 = 5\n",
    "print(maximum_operation(nums1, k1))  # Output: 2\n",
    "\n",
    "\n",
    "    "
   ]
  },
  {
   "cell_type": "code",
   "execution_count": null,
   "metadata": {},
   "outputs": [
    {
     "name": "stdout",
     "output_type": "stream",
     "text": [
      "42\n",
      "before index 0\n",
      "after index 1\n",
      "-42\n",
      "4193\n",
      "0\n",
      "before index 0\n",
      "after index 1\n",
      "-2147483648\n"
     ]
    }
   ],
   "source": [
    "\n",
    "    \n",
    "    \n",
    "def myAtoi(s:str):\n",
    "    # Step 1: Ignore leading whitespaces\n",
    "    s = s.lstrip()\n",
    "    if not s:\n",
    "        return 0\n",
    "\n",
    "    # Step 2: Determine the sign\n",
    "    sign = 1  # Assume positive by default\n",
    "    index = 0\n",
    "    if s[0] == '-':\n",
    "        sign = -1\n",
    "        print('before index', index)\n",
    "        index += 1\n",
    "        print('after index', index)\n",
    "    elif s[0] == '+':\n",
    "        index += 1\n",
    "        print('now index', index)\n",
    "\n",
    "    # Step 3: Read digits\n",
    "    result = 0\n",
    "    while index < len(s) and s[index].isdigit():\n",
    "        result = result * 10 + int(s[index]) \n",
    "        index += 1\n",
    "\n",
    "    # Step 4: Apply sign and clamp within 32-bit integer range\n",
    "    result *= sign\n",
    "    INT_MIN, INT_MAX = -2**31, 2**31 - 1\n",
    "    if result < INT_MIN:\n",
    "        return INT_MIN\n",
    "    if result > INT_MAX:\n",
    "        return INT_MAX\n",
    "\n",
    "    return result\n",
    "\n",
    "# Example Usage\n",
    "print(myAtoi(\"42\"))          # Output: 42\n",
    "print(myAtoi(\"   -42\"))      # Output: -42\n",
    "print(myAtoi(\"4193 with words\"))  # Output: 4193\n",
    "print(myAtoi(\"words and 987\"))    # Output: 0\n",
    "print(myAtoi(\"-91283472332\"))     # Output: -2147483648\n",
    "\n",
    "        "
   ]
  },
  {
   "cell_type": "code",
   "execution_count": null,
   "metadata": {},
   "outputs": [
    {
     "name": "stdout",
     "output_type": "stream",
     "text": [
      " rehan\n",
      "farhsa\n"
     ]
    }
   ],
   "source": [
    "List1 = [\"ashraf\", \" rehan\", \" faysal\"]     # very important concept here, string and list of strings are different\n",
    "\n",
    "\n",
    "print(List1[1])\n",
    "\n",
    "name = \"ashraf\"\n",
    "\n",
    "print(name[::-1])\n",
    "\n",
    "\n",
    "\n",
    "\n"
   ]
  },
  {
   "cell_type": "code",
   "execution_count": 22,
   "metadata": {},
   "outputs": [
    {
     "name": "stdout",
     "output_type": "stream",
     "text": [
      "{'a': [0], 'p': [1, 2], 'l': [3], 'e': [4]}\n"
     ]
    }
   ],
   "source": [
    "word = \"apple\"\n",
    "\n",
    "# Find all indices of each character\n",
    "char_indices = {}\n",
    "for index, char in enumerate(word):\n",
    "    if char in char_indices:\n",
    "        char_indices[char].append(index)\n",
    "    else:\n",
    "        char_indices[char] = [index]\n",
    "\n",
    "print(char_indices)"
   ]
  },
  {
   "cell_type": "code",
   "execution_count": 2,
   "metadata": {},
   "outputs": [
    {
     "name": "stdout",
     "output_type": "stream",
     "text": [
      "fl\n",
      "\n"
     ]
    }
   ],
   "source": [
    "def longestCommonPrefix(strs):\n",
    "    if not strs:\n",
    "        return \"\"\n",
    "    \n",
    "    # Start with the first string as the prefix\n",
    "    prefix = strs[0]\n",
    "    \n",
    "    # Compare the prefix with each string in the array\n",
    "    for s in strs[1:]:\n",
    "        while not s.startswith(prefix):\n",
    "            \n",
    "           # print(prefix)\n",
    "            # Shorten the prefix by removing the last character\n",
    "            prefix = prefix[:-1]\n",
    "            if not prefix:\n",
    "                return \"\"\n",
    "    \n",
    "    return prefix\n",
    "\n",
    "# Example Usage\n",
    "print(longestCommonPrefix([\"flower\", \"flow\", \"flight\"]))  # Output: \"fl\"\n",
    "print(longestCommonPrefix([\"dog\", \"racecar\", \"car\"]))    # Output: \"\"\n"
   ]
  },
  {
   "cell_type": "code",
   "execution_count": 6,
   "metadata": {},
   "outputs": [
    {
     "name": "stdout",
     "output_type": "stream",
     "text": [
      "5\n"
     ]
    }
   ],
   "source": [
    "def maxVowels(s, k):\n",
    "    vowels = {'a', 'e', 'i', 'o', 'u'}  # Set of vowels\n",
    "    current_vowel_count = 0\n",
    "    max_vowel_count = 0\n",
    "    \n",
    "    # Initialize the first window\n",
    "    for i in range(k):\n",
    "        if s[i] in vowels:\n",
    "            current_vowel_count += 1\n",
    "    max_vowel_count = current_vowel_count\n",
    "    \n",
    "    # Slide the window across the string\n",
    "    for i in range(k, len(s)):\n",
    "        # Add the new character to the window\n",
    "        if s[i] in vowels:\n",
    "            current_vowel_count += 1\n",
    "        \n",
    "            #print(\"current_vowel_count: \", current_vowel_count)\n",
    "        # Remove the old character from the window\n",
    "        if s[i - k] in vowels:\n",
    "            current_vowel_count -= 1\n",
    "            \n",
    "            #print(\"now_current_vowels_count\", current_vowel_count)\n",
    "        # Update the max count\n",
    "        max_vowel_count = max(max_vowel_count, current_vowel_count)\n",
    "    \n",
    "    return max_vowel_count\n",
    "\n",
    "\n",
    "print( maxVowels(\"aaabbbcccdddeeeiiiiiiii\", 5))"
   ]
  },
  {
   "cell_type": "code",
   "execution_count": 7,
   "metadata": {},
   "outputs": [
    {
     "name": "stdout",
     "output_type": "stream",
     "text": [
      "12.75\n",
      "5.0\n"
     ]
    }
   ],
   "source": [
    "def findMaxAverage(nums, k):\n",
    "    # Calculate the sum of the first k elements (initial window)\n",
    "    current_sum = sum(nums[:k])\n",
    "    max_sum = current_sum\n",
    "\n",
    "    # Slide the window through the array\n",
    "    for i in range(k, len(nums)):\n",
    "        # Update the current sum by adding the next element and removing the first element of the current window\n",
    "        current_sum += nums[i] - nums[i - k]\n",
    "        # Update max_sum if current_sum is greater\n",
    "        max_sum = max(max_sum, current_sum)\n",
    "\n",
    "    # Return the maximum average value\n",
    "    return max_sum / k\n",
    "\n",
    "# Example usage:\n",
    "nums1 = [1, 12, -5, -6, 50, 3]\n",
    "k1 = 4\n",
    "print(findMaxAverage(nums1, k1))  # Output: 12.75\n",
    "\n",
    "nums2 = [5]\n",
    "k2 = 1\n",
    "print(findMaxAverage(nums2, k2))  # Output: 5.0\n"
   ]
  },
  {
   "cell_type": "code",
   "execution_count": null,
   "metadata": {},
   "outputs": [],
   "source": [
    "def largestAltitude(gain):\n",
    "    current_altitude = 0  # Starting altitude\n",
    "    max_altitude = 0      # Maximum altitude reached\n",
    "\n",
    "    for g in gain:\n",
    "        current_altitude += g  # Update current altitude\n",
    "        max_altitude = max(max_altitude, current_altitude)  # Update max altitude if needed\n",
    "\n",
    "    return max_altitude\n"
   ]
  },
  {
   "cell_type": "code",
   "execution_count": 10,
   "metadata": {},
   "outputs": [
    {
     "name": "stdout",
     "output_type": "stream",
     "text": [
      "16\n"
     ]
    }
   ],
   "source": [
    "def largestAltitude(nums):\n",
    "    \n",
    "    current_altitude = 0\n",
    "    highest_altitude = 0\n",
    "    \n",
    "    for i in nums:\n",
    "        current_altitude = current_altitude + i \n",
    "        \n",
    "        highest_altitude = max(current_altitude, highest_altitude)\n",
    "        \n",
    "    return highest_altitude\n",
    "    \n",
    "    \n",
    "print(largestAltitude([-5,5,0,1,7,8]))\n",
    "    "
   ]
  },
  {
   "cell_type": "code",
   "execution_count": null,
   "metadata": {},
   "outputs": [
    {
     "name": "stdout",
     "output_type": "stream",
     "text": [
      "total sum 162\n",
      "now right sum 161\n",
      "left_sum 1\n",
      "now right sum 159\n",
      "left_sum 3\n",
      "now right sum 125\n",
      "left_sum 37\n",
      "now right sum 69\n",
      "left_sum 93\n",
      "now right sum 68\n",
      "left_sum 94\n",
      "now right sum 64\n",
      "left_sum 98\n",
      "now right sum 8\n",
      "left_sum 154\n",
      "now right sum 5\n",
      "left_sum 157\n",
      "now right sum 0\n",
      "left_sum 162\n",
      "-1\n"
     ]
    }
   ],
   "source": [
    "def pivotIndex(nums):\n",
    "    total_sum = sum(nums)\n",
    "    print( 'total sum', total_sum)\n",
    "    left_sum = 0\n",
    "    \n",
    "\n",
    "    for i in range(len(nums)):\n",
    "        # Calculate the right sum dynamically\n",
    "        right_sum = total_sum - left_sum - nums[i]\n",
    "        print('now right sum', right_sum)\n",
    "        if left_sum == right_sum:\n",
    "            \n",
    "            return i\n",
    "        # Update the left sum for the next index\n",
    "        left_sum += nums[i]\n",
    "        print('left_sum', left_sum)\n",
    "\n",
    "    return -1\n",
    "\n",
    "print(pivotIndex([1,2,34,56,1,4,56,3,5]))"
   ]
  },
  {
   "cell_type": "code",
   "execution_count": null,
   "metadata": {},
   "outputs": [
    {
     "name": "stdout",
     "output_type": "stream",
     "text": [
      "distinct in set 1 []\n",
      "distinct in set 1 []\n",
      "[[], []]\n"
     ]
    }
   ],
   "source": [
    "def findDifference(nums1, nums2):\n",
    "    # Convert both lists to sets\n",
    "    set1, set2 = set(nums1), set(nums2)\n",
    "    \n",
    "    # Find distinct elements using set difference\n",
    "    distinct_in_nums1 = list(set1 - set2)\n",
    "    print('distinct in set 1', distinct_in_nums1)\n",
    "    distinct_in_nums2 = list(set2 - set1)\n",
    "    print('distinct in set 1', distinct_in_nums2)\n",
    "    \n",
    "    # Return the result as a list of two lists\n",
    "    return [distinct_in_nums1, distinct_in_nums2]\n",
    "\n",
    "\n",
    "\n",
    "nums1 = [1, 2, 3]\n",
    "nums2 = [1,2,3]\n",
    "\n",
    "\n",
    "\n",
    "print(findDifference(nums1, nums2))"
   ]
  },
  {
   "cell_type": "code",
   "execution_count": 20,
   "metadata": {},
   "outputs": [
    {
     "name": "stdout",
     "output_type": "stream",
     "text": [
      "Counter({1: 3, 2: 3, 3: 1})\n",
      "[3, 3, 1]\n",
      "{1, 3}\n",
      "False\n"
     ]
    }
   ],
   "source": [
    "def uniqueOccurrences(arr):\n",
    "    from collections import Counter\n",
    "\n",
    "    # Step 1: Count the frequency of each element\n",
    "    freq = Counter(arr)\n",
    "    print(freq)\n",
    "    \n",
    "    # Step 2: Get all frequencies and check their uniqueness\n",
    "    occurrences = list(freq.values())\n",
    "    print(occurrences)\n",
    "    unique_occurrences = set(occurrences)\n",
    "    print(unique_occurrences)\n",
    "    \n",
    "    # Step 3: Compare the size of occurrences and unique occurrences\n",
    "    return len(occurrences) == len(unique_occurrences)\n",
    "\n",
    "arr = [1, 2, 2,2, 1, 1, 3]\n",
    "\n",
    "print(uniqueOccurrences(arr))\n"
   ]
  },
  {
   "cell_type": "code",
   "execution_count": null,
   "metadata": {},
   "outputs": [],
   "source": [
    "def uniqueoccurances(listofnums):\n",
    "    \n",
    "    from collections import Counter \n",
    "    \n",
    "    freq = Counter(listofnums)        # returns a set \n",
    "    \n",
    "    print(freq)\n",
    "    \n",
    "    occurances = list(freq.values())   # returns the values\n",
    "    print(occurances)\n",
    "    unique_occurances = set(occurances)\n",
    "    \n",
    "    return len(occurances) == len(unique_occurances)"
   ]
  },
  {
   "cell_type": "code",
   "execution_count": null,
   "metadata": {},
   "outputs": [
    {
     "name": "stdout",
     "output_type": "stream",
     "text": [
      "Counter({'b': 3, 'a': 2, 'c': 1})\n",
      "[1, 2, 2, 2, 6, 7]\n",
      "False\n"
     ]
    }
   ],
   "source": [
    "from collections import Counter\n",
    "\n",
    "\n",
    "\n",
    "def closeStrings(word1, word2):\n",
    "    # Step 1: Check if both words have the same set of characters\n",
    "    \n",
    "    sorted_word1= Counter(word1)\n",
    "    print( sorted_word1)\n",
    "    \n",
    "    sorted_word2= sorted(Counter(word2).values())\n",
    "    print( sorted_word2)\n",
    "    \n",
    "    \n",
    "    \n",
    "    if set(word1) != set(word2):\n",
    "        return False\n",
    "    \n",
    "    # Step 2: Check if the frequency distributions are the same\n",
    "    return  sorted(Counter(word1).values()) == sorted(Counter(word2).values())\n",
    "\n",
    "    \n",
    "\n",
    "\n",
    "\n",
    "\n",
    "\n",
    "word1 = \"cabbba\"\n",
    "word2 = \"abbccccddddddeeffccc\"\n",
    "\n",
    "print(closeStrings(word1, word2))"
   ]
  },
  {
   "cell_type": "code",
   "execution_count": null,
   "metadata": {},
   "outputs": [
    {
     "name": "stdout",
     "output_type": "stream",
     "text": [
      "Counter({(3, 2, 1): 1, (1, 7, 6): 1, (2, 7, 7): 1})\n"
     ]
    },
    {
     "ename": "NameError",
     "evalue": "name 'row' is not defined",
     "output_type": "error",
     "traceback": [
      "\u001b[1;31m---------------------------------------------------------------------------\u001b[0m",
      "\u001b[1;31mNameError\u001b[0m                                 Traceback (most recent call last)",
      "Cell \u001b[1;32mIn[3], line 23\u001b[0m\n\u001b[0;32m     18\u001b[0m     \u001b[38;5;28;01mreturn\u001b[39;00m result\n\u001b[0;32m     20\u001b[0m grid \u001b[38;5;241m=\u001b[39m [[\u001b[38;5;241m3\u001b[39m,\u001b[38;5;241m2\u001b[39m,\u001b[38;5;241m1\u001b[39m],\n\u001b[0;32m     21\u001b[0m         [\u001b[38;5;241m1\u001b[39m,\u001b[38;5;241m7\u001b[39m,\u001b[38;5;241m6\u001b[39m],\n\u001b[0;32m     22\u001b[0m         [\u001b[38;5;241m2\u001b[39m,\u001b[38;5;241m7\u001b[39m,\u001b[38;5;241m7\u001b[39m]]\n\u001b[1;32m---> 23\u001b[0m \u001b[38;5;28mprint\u001b[39m( \u001b[43mequalPairs\u001b[49m\u001b[43m(\u001b[49m\u001b[43mgrid\u001b[49m\u001b[43m)\u001b[49m)\n",
      "Cell \u001b[1;32mIn[3], line 15\u001b[0m, in \u001b[0;36mequalPairs\u001b[1;34m(grid)\u001b[0m\n\u001b[0;32m     13\u001b[0m \u001b[38;5;28;01mfor\u001b[39;00m col \u001b[38;5;129;01min\u001b[39;00m \u001b[38;5;28mrange\u001b[39m(n):\n\u001b[0;32m     14\u001b[0m     column \u001b[38;5;241m=\u001b[39m \u001b[38;5;28mtuple\u001b[39m(grid[row][col] \u001b[38;5;28;01mfor\u001b[39;00m row \u001b[38;5;129;01min\u001b[39;00m \u001b[38;5;28mrange\u001b[39m(n))\n\u001b[1;32m---> 15\u001b[0m     \u001b[38;5;28mprint\u001b[39m(grid[\u001b[43mrow\u001b[49m][col])\n\u001b[0;32m     16\u001b[0m     result \u001b[38;5;241m+\u001b[39m\u001b[38;5;241m=\u001b[39m row_count[column]\n\u001b[0;32m     18\u001b[0m \u001b[38;5;28;01mreturn\u001b[39;00m result\n",
      "\u001b[1;31mNameError\u001b[0m: name 'row' is not defined"
     ]
    }
   ],
   "source": [
    "from collections import Counter\n",
    "\n",
    "def equalPairs(grid):\n",
    "    n = len(grid)\n",
    "\n",
    "    # Step 1: Count the frequency of rows\n",
    "    row_count = Counter(tuple(row) for row in grid)\n",
    "    \n",
    "    print(row_count)\n",
    "\n",
    "    # Step 2: Count matching columns\n",
    "    result = 0\n",
    "    for col in range(n):\n",
    "        column = tuple(grid[row][col] for row in range(n))\n",
    "        print(column)\n",
    "      \n",
    "        result += row_count[column]\n",
    "\n",
    "    return result\n",
    "\n",
    "grid = [[3,2,1],\n",
    "        [1,7,6],\n",
    "        [2,7,7]]\n",
    "print( equalPairs(grid))\n"
   ]
  },
  {
   "cell_type": "code",
   "execution_count": null,
   "metadata": {},
   "outputs": [],
   "source": [
    "def decodeString(s):\n",
    "    stack = []\n",
    "    current_string = \"\"\n",
    "    current_num = 0\n",
    "\n",
    "    for char in s:\n",
    "        if char.isdigit():\n",
    "            # Build the number\n",
    "            current_num = current_num * 10 + int(char)\n",
    "        elif char == '[':\n",
    "            # Push the current string and number onto the stack\n",
    "            stack.append((current_string, current_num))\n",
    "            # Reset current_string and current_num for the new context\n",
    "            current_string = \"\"\n",
    "            current_num = 0\n",
    "        elif char == ']':\n",
    "            # Pop the stack and resolve the substring\n",
    "            prev_string, repeat_count = stack.pop()\n",
    "            current_string = prev_string + current_string * repeat_count\n",
    "        else:\n",
    "            # Append the character to the current string\n",
    "            current_string += char\n",
    "\n",
    "    return current_string\n"
   ]
  },
  {
   "cell_type": "code",
   "execution_count": 5,
   "metadata": {},
   "outputs": [
    {
     "name": "stdout",
     "output_type": "stream",
     "text": [
      "leet**cod*e\n",
      "entering character l\n",
      "entering character e\n",
      "entering character e\n",
      "entering character t\n",
      "entering character *\n",
      "print this char, *\n",
      "['l', 'e', 'e', 't']\n",
      "print the current stack ['l', 'e', 'e']\n",
      "entering character *\n",
      "print this char, *\n",
      "['l', 'e', 'e']\n",
      "print the current stack ['l', 'e']\n",
      "entering character c\n",
      "entering character o\n",
      "entering character d\n",
      "entering character *\n",
      "print this char, *\n",
      "['l', 'e', 'c', 'o', 'd']\n",
      "print the current stack ['l', 'e', 'c', 'o']\n",
      "entering character e\n",
      "lecoe\n",
      "erase*****\n",
      "entering character e\n",
      "entering character r\n",
      "entering character a\n",
      "entering character s\n",
      "entering character e\n",
      "entering character *\n",
      "print this char, *\n",
      "['e', 'r', 'a', 's', 'e']\n",
      "print the current stack ['e', 'r', 'a', 's']\n",
      "entering character *\n",
      "print this char, *\n",
      "['e', 'r', 'a', 's']\n",
      "print the current stack ['e', 'r', 'a']\n",
      "entering character *\n",
      "print this char, *\n",
      "['e', 'r', 'a']\n",
      "print the current stack ['e', 'r']\n",
      "entering character *\n",
      "print this char, *\n",
      "['e', 'r']\n",
      "print the current stack ['e']\n",
      "entering character *\n",
      "print this char, *\n",
      "['e']\n",
      "print the current stack []\n",
      "\n"
     ]
    }
   ],
   "source": [
    "def removeStars(s: str) -> str:\n",
    "    stack = []\n",
    "    print(s)\n",
    "    for char in s:\n",
    "        print('entering character', char)\n",
    "        if char == '*':\n",
    "            print('print this char,',char)\n",
    "            if stack:\n",
    "                print(stack)\n",
    "                stack.pop()  # Remove the last non-star character\n",
    "                print('print the current stack', stack)\n",
    "        else:\n",
    "            stack.append(char)  # Add non-star characters to the stack\n",
    "    return ''.join(stack)  # Convert the stack back to a string\n",
    "\n",
    "# Example Usage\n",
    "s1 = \"leet**cod*e\"\n",
    "s2 = \"erase*****\"\n",
    "print(removeStars(s1))  # Output: \"lecoe\"\n",
    "print(removeStars(s2))  # Output: \"\"\n"
   ]
  },
  {
   "cell_type": "code",
   "execution_count": 7,
   "metadata": {},
   "outputs": [
    {
     "name": "stdout",
     "output_type": "stream",
     "text": [
      "ashrfaysal\n"
     ]
    }
   ],
   "source": [
    "def star_removal_from_string(s:str)->str:\n",
    "    \n",
    "    building_stack = []\n",
    "    \n",
    "    for i in s:\n",
    "        if i == '*':\n",
    "            \n",
    "            if building_stack:\n",
    "                \n",
    "                building_stack.pop()\n",
    "        else:\n",
    "            building_stack.append(i)\n",
    "            \n",
    "    return ''.join(building_stack)\n",
    "                \n",
    "                \n",
    "\n",
    "print(star_removal_from_string('ashraf**faysal'))"
   ]
  },
  {
   "cell_type": "code",
   "execution_count": null,
   "metadata": {},
   "outputs": [
    {
     "name": "stdout",
     "output_type": "stream",
     "text": [
      "[]\n",
      "[5]\n",
      "[5, 10]\n",
      "what is stack [-1] 10\n",
      "[5, 10]\n",
      "[]\n",
      "[8]\n",
      "what is stack [-1] 8\n",
      "[]\n",
      "[]\n",
      "[10]\n",
      "[10, 2]\n",
      "what is stack [-1] 2\n",
      "what is stack [-1] 10\n",
      "[10]\n"
     ]
    }
   ],
   "source": [
    "def asteroidCollision(asteroids):\n",
    "    stack = []\n",
    "    \n",
    "    for asteroid in asteroids:\n",
    "        print(stack)\n",
    "        # Process collisions\n",
    "        while stack and asteroid < 0 < stack[-1]:\n",
    "            #print('what is stack [-1]', stack[-1])\n",
    "            \n",
    "            if abs(asteroid) > stack[-1]:\n",
    "                stack.pop()  # Right-moving asteroid explodes\n",
    "                continue\n",
    "            elif abs(asteroid) == stack[-1]:\n",
    "                stack.pop()  # Both explode\n",
    "            break\n",
    "        else:\n",
    "            # Add the asteroid if no collision or it survives\n",
    "            stack.append(asteroid)\n",
    "            \n",
    "    return stack\n",
    "\n",
    "\n",
    "asteroids1 = [5, 10, -5]\n",
    "asteroids2 = [8, -8]\n",
    "asteroids3 = [10, 2, -5]\n",
    "\n",
    "print(asteroidCollision(asteroids1))  # Output: [5, 10]\n",
    "print(asteroidCollision(asteroids2))  # Output: []\n",
    "print(asteroidCollision(asteroids3)) "
   ]
  },
  {
   "cell_type": "code",
   "execution_count": 22,
   "metadata": {},
   "outputs": [
    {
     "name": "stdout",
     "output_type": "stream",
     "text": [
      "[]\n",
      "[]\n",
      "[]\n",
      "[]\n",
      "[]\n"
     ]
    }
   ],
   "source": [
    "def collision_of_stars(numbers: list[int])->list[int]:\n",
    "    \n",
    "    stack = []  # where basically the number will be stacked \n",
    "    print(stack)\n",
    "    \n",
    "    for i in numbers:\n",
    "        print(stack)\n",
    "        \n",
    "        \n",
    "        while stack and i<0<stack[-1]:\n",
    "            print(stack)\n",
    "            \n",
    "            if abs(i)>stack[-1]:\n",
    "                stack.pop()\n",
    "                continue\n",
    "            \n",
    "            elif abs(i)== stack[-1]:\n",
    "                stack.pop()\n",
    "                break\n",
    "            \n",
    "            else:\n",
    "                \n",
    "                stack.append(i)\n",
    "    return stack\n",
    "    \n",
    "numbers = [5, 10, -5]   \n",
    "\n",
    "print(collision_of_stars(numbers))\n",
    "    \n",
    "    "
   ]
  },
  {
   "cell_type": "code",
   "execution_count": 16,
   "metadata": {},
   "outputs": [
    {
     "name": "stdout",
     "output_type": "stream",
     "text": [
      "deque([1])\n",
      "1\n",
      "deque([1, 100])\n",
      "2\n",
      "deque([1, 100, 3001])\n",
      "3\n",
      "True\n",
      "print the 0th indext 1\n",
      "deque([100, 3001, 3002])\n",
      "3\n",
      "True\n",
      "print the 0th indext 100\n",
      "True\n",
      "print the 0th indext 3001\n",
      "True\n",
      "print the 0th indext 3002\n",
      "deque([10000])\n",
      "1\n"
     ]
    }
   ],
   "source": [
    "from collections import deque\n",
    "\n",
    "class RecentCounter:\n",
    "    def __init__(self):\n",
    "        # Initialize a deque to store timestamps of requests\n",
    "        self.requests = deque()\n",
    "       # print(self.requests)\n",
    "\n",
    "    def ping(self, t: int) -> int:\n",
    "        # Add the new request timestamp to the deque\n",
    "        self.requests.append(t)\n",
    "\n",
    "        # Remove timestamps that are outside the 3000 ms window\n",
    "        while self.requests and self.requests[0] < t - 3000:\n",
    "            print(self.requests[0] < t - 3000)\n",
    "            print('print the 0th indext', self.requests[0])\n",
    "            self.requests.popleft()\n",
    "    \n",
    "        \n",
    "\n",
    "        # The remaining timestamps in the deque are the valid requests\n",
    "        print(self.requests)\n",
    "        \n",
    "        return len(self.requests)\n",
    "    \n",
    "recentCounter = RecentCounter()\n",
    "print(recentCounter.ping(1))     # Output: 1 (requests = [1])\n",
    "print(recentCounter.ping(100))   # Output: 2 (requests = [1, 100])\n",
    "print(recentCounter.ping(3001))  # Output: 3 (requests = [1, 100, 3001])\n",
    "print(recentCounter.ping(3002)) \n",
    "print(recentCounter.ping(10000)) # Output: 3 (requests = [100, 3001, 3002])\n",
    "\n"
   ]
  },
  {
   "cell_type": "code",
   "execution_count": null,
   "metadata": {},
   "outputs": [],
   "source": [
    "\n",
    "\n",
    "from collections import deque\n",
    "\n",
    "def predictPartyVictory(senate: str) -> str:\n",
    "    # Queues for Radiant (R) and Dire (D)\n",
    "    radiant = deque()\n",
    "    dire = deque()\n",
    "    \n",
    "    n = len(senate)\n",
    "    \n",
    "    # Populate the queues with indices of 'R' and 'D'\n",
    "    for i, s in enumerate(senate):\n",
    "        if s == 'R':\n",
    "            radiant.append(i)\n",
    "        else:\n",
    "            dire.append(i)\n",
    "    \n",
    "    # Simulate the voting rounds\n",
    "    while radiant and dire:\n",
    "        r = radiant.popleft()\n",
    "        d = dire.popleft()\n",
    "        \n",
    "        # The smaller index senator bans the other\n",
    "        if r < d:\n",
    "            radiant.append(r + n)  # Radiant senator survives to the next round\n",
    "        else:\n",
    "            dire.append(d + n)  # Dire senator survives to the next round\n",
    "    \n",
    "    # Determine the winner\n",
    "    return \"Radiant\" if radiant else \"Dire\"\n",
    "\n",
    "\n",
    " \n",
    " "
   ]
  },
  {
   "cell_type": "code",
   "execution_count": null,
   "metadata": {},
   "outputs": [
    {
     "name": "stdout",
     "output_type": "stream",
     "text": [
      "   student_id  age  marks\n",
      "0           1   15     50\n",
      "1           2   11     56\n",
      "2           3   11     55\n",
      "3           4   20    555\n"
     ]
    }
   ],
   "source": [
    "import pandas as pd\n",
    "\n",
    "# Input: 2D list of student data\n",
    "student_data = [\n",
    "    [1, 15],\n",
    "    [2, 11],\n",
    "    [3, 11],\n",
    "    [4, 20]\n",
    "]\n",
    "\n",
    "# Create a DataFrame with the specified column names\n",
    "df = pd.DataFrame(student_data, columns=['student_id', 'age'])\n",
    "\n",
    "# Print the DataFrame\n",
    "print(df)\n",
    "                    "
   ]
  },
  {
   "cell_type": "code",
   "execution_count": null,
   "metadata": {},
   "outputs": [],
   "source": [
    "import pandas as pd\n",
    "\n",
    "def getDataframeSize(players: pd.DataFrame) -> List[int]:\n",
    "\n",
    "    return list(players.shape)"
   ]
  },
  {
   "cell_type": "code",
   "execution_count": null,
   "metadata": {},
   "outputs": [],
   "source": [
    "#very important loc for filtering \n",
    "\n",
    "def getStudentInfo(students: pd.DataFrame) -> pd.DataFrame:\n",
    "    # Filter rows where student_id equals 101 and select name and age columns\n",
    "    result = students.loc[students['student_id'] == 101, ['name', 'age']]\n",
    "    return result"
   ]
  },
  {
   "cell_type": "code",
   "execution_count": null,
   "metadata": {},
   "outputs": [],
   "source": [
    "def addBonusColumn(employees: pd.DataFrame) -> pd.DataFrame:\n",
    "    # Add a new column \"bonus\" with doubled values of the \"salary\" column\n",
    "    employees['salary'] = employees['salary'] * 2\n",
    "    return employees"
   ]
  },
  {
   "cell_type": "code",
   "execution_count": null,
   "metadata": {},
   "outputs": [],
   "source": [
    "#removing duplicates values \n",
    "\n",
    "def removeDuplicateCustomers(customers: pd.DataFrame) -> pd.DataFrame:\n",
    "    # Remove duplicate rows based on the 'email' column, keeping the first occurrence\n",
    "    customers = customers.drop_duplicates(subset='email', keep='first')\n",
    "    return customers"
   ]
  },
  {
   "cell_type": "code",
   "execution_count": null,
   "metadata": {},
   "outputs": [],
   "source": [
    "# remove missing names\n",
    "\n",
    "def removeMissingNames(students: pd.DataFrame) -> pd.DataFrame:\n",
    "    # Remove rows where the 'name' column has missing values\n",
    "    students = students.dropna(subset=['name'])\n",
    "   # students = students.dropna(subset= ['name'])\n",
    "    return students"
   ]
  },
  {
   "cell_type": "code",
   "execution_count": null,
   "metadata": {},
   "outputs": [],
   "source": [
    "# how to rename columns \n",
    "\n",
    "def renameColumns(students: pd.DataFrame) -> pd.DataFrame:\n",
    "    # Rename the columns using the provided mapping\n",
    "    students = students.rename(columns={\n",
    "        'id': 'student_id',\n",
    "        'first': 'first_name',\n",
    "        'last': 'last_name',\n",
    "        'age': 'age_in_years'\n",
    "    })\n",
    "    return students"
   ]
  },
  {
   "cell_type": "code",
   "execution_count": null,
   "metadata": {},
   "outputs": [],
   "source": [
    "# how to convert datatype of a column\n",
    "\n",
    "def correctGrade(students: pd.DataFrame) -> pd.DataFrame:\n",
    "    # Convert the grade column to integers\n",
    "    students['grade'] = students['grade'].astype(int)\n",
    "    return students"
   ]
  },
  {
   "cell_type": "code",
   "execution_count": null,
   "metadata": {},
   "outputs": [],
   "source": [
    "# fill the missing value with '0'\n",
    "\n",
    "import pandas as pd\n",
    "\n",
    "def fillMissingQuantity(products: pd.DataFrame) -> pd.DataFrame:\n",
    "    # Fill missing values in the 'quantity' column with 0\n",
    "    products['quantity'] = products['quantity'].fillna(0)\n",
    "    return products\n"
   ]
  },
  {
   "cell_type": "code",
   "execution_count": null,
   "metadata": {},
   "outputs": [],
   "source": [
    "#making a pivot dataframe based on month as a index, colunms will be city and the values will corrosponds to temperature\n",
    "\n",
    "\n",
    "def pivotWeatherData(weather: pd.DataFrame) -> pd.DataFrame:\n",
    "    # Pivot the data\n",
    "    result = weather.pivot(index='month', columns='city', values='temperature')\n",
    "    return result"
   ]
  },
  {
   "cell_type": "code",
   "execution_count": null,
   "metadata": {},
   "outputs": [],
   "source": [
    "\n",
    "def reshapeSalesData(report: pd.DataFrame) -> pd.DataFrame:\n",
    "    # Use the melt function to reshape the data\n",
    "    result = pd.melt(report, id_vars=[\"product\"], var_name=\"quarter\", value_name=\"sales\")\n",
    "    \n",
    "    # Adjust the 'quarter' column to show just the quarter number (remove \"quarter_\")\n",
    "    result['quarter'] = result['quarter'].str.extract('(\\d+)')\n",
    "    \n",
    "    return result"
   ]
  },
  {
   "cell_type": "code",
   "execution_count": null,
   "metadata": {},
   "outputs": [],
   "source": [
    "def filterAndSortAnimals(animals: pd.DataFrame) -> pd.DataFrame:\n",
    "    # Filter animals with weight > 100\n",
    "    filtered_animals = animals[animals['weight'] > 100]\n",
    "    \n",
    "    # Sort the animals by weight in descending order\n",
    "    sorted_animals = filtered_animals.sort_values(by='weight', ascending=False)\n",
    "    \n",
    "    # Return only the 'name' column\n",
    "    return sorted_animals['name']"
   ]
  },
  {
   "cell_type": "code",
   "execution_count": null,
   "metadata": {},
   "outputs": [],
   "source": [
    "reshaped = pd.melt(\n",
    "        report,\n",
    "        id_vars=[\"product\"],  # Columns to keep as identifiers\n",
    "        var_name=\"quarter\",   # New column name for variable (quarters)\n",
    "        value_name=\"sales\"    # New column name for values (sales data)\n",
    "    )\n",
    "    return reshaped"
   ]
  },
  {
   "cell_type": "code",
   "execution_count": null,
   "metadata": {},
   "outputs": [],
   "source": [
    "def search(nums, target):\n",
    "    low, high = 0, len(nums) - 1\n",
    "    \n",
    "    while low <= high:\n",
    "        mid = (low + high) // 2\n",
    "        \n",
    "        # Check if mid is the target\n",
    "        if nums[mid] == target:\n",
    "            return mid\n",
    "        \n",
    "        # Determine which half is sorted\n",
    "        if nums[low] <= nums[mid]:  # Left half is sorted\n",
    "            if nums[low] <= target < nums[mid]:  # Target is in the sorted left half\n",
    "                high = mid - 1\n",
    "            else:  # Target is in the unsorted right half\n",
    "                low = mid + 1\n",
    "        else:  # Right half is sorted\n",
    "            if nums[mid] < target <= nums[high]:  # Target is in the sorted right half\n",
    "                low = mid + 1\n",
    "            else:  # Target is in the unsorted left half\n",
    "                high = mid - 1\n",
    "    \n",
    "    # If target not found\n",
    "    return -1\n"
   ]
  },
  {
   "cell_type": "markdown",
   "metadata": {},
   "source": []
  },
  {
   "cell_type": "code",
   "execution_count": 12,
   "metadata": {},
   "outputs": [
    {
     "name": "stdout",
     "output_type": "stream",
     "text": [
      "0 1\n",
      "current index {1: 0}\n",
      "1 2\n",
      "current index {1: 0, 2: 1}\n",
      "2 3\n",
      "current index {1: 0, 2: 1, 3: 2}\n",
      "3 1\n",
      "3\n",
      "True\n"
     ]
    }
   ],
   "source": [
    "def containsNearbyDuplicate( nums, k: int) -> bool:\n",
    "        \n",
    "        # Dictionary to store the last seen index of each number\n",
    "        index_map = {}\n",
    "        \n",
    "        for i, num in enumerate(nums):\n",
    "            print(i, num)  # while you enumerate it gives the index and value \n",
    "            \n",
    "            # If the number is in the map, check the index difference\n",
    "            if num in index_map and abs(i - index_map[num]) <= k:\n",
    "                print(abs(i - index_map[num]))\n",
    "             \n",
    "                return True\n",
    "            # Update the index of the number in the map\n",
    "            index_map[num] = i\n",
    "            print( 'current index', index_map)\n",
    "        \n",
    "        return False\n",
    "    \n",
    "nums = [1, 2, 3, 1,2,3]\n",
    "k = 3\n",
    "print(containsNearbyDuplicate(nums, k))"
   ]
  },
  {
   "cell_type": "code",
   "execution_count": null,
   "metadata": {},
   "outputs": [
    {
     "name": "stdout",
     "output_type": "stream",
     "text": [
      "{1: 0}\n",
      "{1: 0, 5: 1}\n",
      "{1: 0, 5: 1, 8: 2}\n",
      "{1: 0, 5: 1, 8: 2, 2: 3}\n",
      "\n",
      "2\n",
      "index of num 2\n",
      "True\n"
     ]
    }
   ],
   "source": [
    "def Nearbyduplicates(nums, k)->bool:\n",
    "    \n",
    "    index_map= {}        # dictionary of the last seen number index \n",
    "    \n",
    "    for i, num in enumerate(nums):\n",
    "        \n",
    "        if num in index_map and abs(i - index_map[num]) <=k:\n",
    "            \n",
    "            print( )\n",
    "            print(abs(i - index_map[num]))\n",
    "            print( \"index of num\", index_map[num])\n",
    "            \n",
    "            \n",
    "            return True\n",
    "        \n",
    "        #update the index of the number in the map\n",
    "        \n",
    "        index_map[num] = i\n",
    "        print(index_map)\n",
    "        \n",
    "    return False\n",
    "\n",
    "nums = [1,5,8,2,8,2,1,1,2,5]\n",
    "\n",
    "k = 8\n",
    "\n",
    "print(Nearbyduplicates(nums, k))\n",
    "        \n",
    "        "
   ]
  },
  {
   "cell_type": "code",
   "execution_count": 17,
   "metadata": {},
   "outputs": [
    {
     "name": "stdout",
     "output_type": "stream",
     "text": [
      "-96\n"
     ]
    }
   ],
   "source": [
    "\n",
    "def missingNumber(nums) -> int:\n",
    "        \n",
    "    n = len(nums)\n",
    "    expected_sum = n * (n + 1) // 2\n",
    "    actual_sum = sum(nums)\n",
    "    return expected_sum - actual_sum\n",
    "\n",
    "\n",
    "print(missingNumber([1,25,4,7,8,55,24]))\n",
    "\n"
   ]
  },
  {
   "cell_type": "code",
   "execution_count": null,
   "metadata": {},
   "outputs": [
    {
     "name": "stdout",
     "output_type": "stream",
     "text": [
      "[1, 3, 4]\n"
     ]
    }
   ],
   "source": [
    "def intersection(nums1, nums2):\n",
    "    set1 = set(nums1)\n",
    "    set2 = set(nums2)\n",
    "    return list(set1 and set2)\n",
    "\n",
    "\n",
    "\n",
    "set1 = [1,3,4,3,4]\n",
    "\n",
    "set2 = [1,3,4,53,4,5]\n",
    "\n",
    "print( intersection(set1, set2))"
   ]
  },
  {
   "cell_type": "code",
   "execution_count": 22,
   "metadata": {},
   "outputs": [
    {
     "name": "stdout",
     "output_type": "stream",
     "text": [
      "[1, 3, 4, 53, 4, 5]\n"
     ]
    }
   ],
   "source": [
    "def intersection(nums1, nums2):\n",
    "   \n",
    "    return set1 and set2\n",
    "\n",
    "\n",
    "\n",
    "set1 = [1,3,4,3,4]\n",
    "\n",
    "set2 = [1,3,4,53,4,5]\n",
    "\n",
    "print( intersection(set1, set2))"
   ]
  },
  {
   "cell_type": "code",
   "execution_count": 23,
   "metadata": {},
   "outputs": [
    {
     "name": "stdout",
     "output_type": "stream",
     "text": [
      "[2, 2]\n",
      "[4, 9]\n"
     ]
    }
   ],
   "source": [
    "from collections import Counter\n",
    "\n",
    "def intersect(nums1, nums2):\n",
    "    # Count the occurrences in both arrays\n",
    "    count1 = Counter(nums1)\n",
    "    count2 = Counter(nums2)\n",
    "    \n",
    "    # Find the intersection by taking the minimum count for each element\n",
    "    result = []\n",
    "    for num in count1:\n",
    "        if num in count2:\n",
    "            result.extend([num] * min(count1[num], count2[num]))\n",
    "    \n",
    "    return result\n",
    "\n",
    "# Example usage\n",
    "nums1 = [1, 2, 2, 1]\n",
    "nums2 = [2, 2]\n",
    "print(intersect(nums1, nums2))  # Output: [2, 2]\n",
    "\n",
    "nums1 = [4, 9, 5]\n",
    "nums2 = [9, 4, 9, 8, 4]\n",
    "print(intersect(nums1, nums2))  # Output: [4, 9] or [9, 4]\n"
   ]
  }
 ],
 "metadata": {
  "kernelspec": {
   "display_name": "Python 3",
   "language": "python",
   "name": "python3"
  },
  "language_info": {
   "codemirror_mode": {
    "name": "ipython",
    "version": 3
   },
   "file_extension": ".py",
   "mimetype": "text/x-python",
   "name": "python",
   "nbconvert_exporter": "python",
   "pygments_lexer": "ipython3",
   "version": "3.10.11"
  }
 },
 "nbformat": 4,
 "nbformat_minor": 2
}
