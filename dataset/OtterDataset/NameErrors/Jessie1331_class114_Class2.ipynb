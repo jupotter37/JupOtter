{
 "cells": [
  {
   "cell_type": "markdown",
   "id": "4305c416-5dec-465d-babe-e5e4dbda99f5",
   "metadata": {},
   "source": [
    "problem 1: anagream check\n",
    "create a functionthat takes two strings as parameters and determine if these anagrams of each other return True if they are, False otherwise\n",
    "criteria\n",
    "\n",
    "two strings are anagrams of each other if all the criteria below are ment:\n",
    "  1. they must have the same number of letters\n",
    "  2. they must use the same letters the same amount of times\n",
    "\n",
    "     Examples:\n",
    "     heart and earth\n",
    "     cars and scars\n",
    "     rats and star\n",
    "     "
   ]
  },
  {
   "cell_type": "code",
   "execution_count": null,
   "id": "6a202292-bb91-4549-afe0-a3a32b2aa8c2",
   "metadata": {},
   "outputs": [],
   "source": [
    "#dont do this:\n",
    "\n",
    "def anagram_check(str1, str2):\n",
    "   return sorted(str1) == sorted(str2)"
   ]
  },
  {
   "cell_type": "code",
   "execution_count": 1,
   "id": "f07ba7bd-4c82-460e-b48a-003686a7e1cd",
   "metadata": {
    "scrolled": true
   },
   "outputs": [
    {
     "ename": "NameError",
     "evalue": "name 'anagram_check' is not defined",
     "output_type": "error",
     "traceback": [
      "\u001b[0;31m---------------------------------------------------------------------------\u001b[0m",
      "\u001b[0;31mNameError\u001b[0m                                 Traceback (most recent call last)",
      "Cell \u001b[0;32mIn[1], line 1\u001b[0m\n\u001b[0;32m----> 1\u001b[0m \u001b[43managram_check\u001b[49m(\u001b[38;5;124m\"\u001b[39m\u001b[38;5;124mheart\u001b[39m\u001b[38;5;124m\"\u001b[39m, \u001b[38;5;124m\"\u001b[39m\u001b[38;5;124mearth\u001b[39m\u001b[38;5;124m\"\u001b[39m)\n\u001b[1;32m      2\u001b[0m \u001b[38;5;124m\"\u001b[39m\u001b[38;5;124m\"\u001b[39m\n",
      "\u001b[0;31mNameError\u001b[0m: name 'anagram_check' is not defined"
     ]
    }
   ],
   "source": [
    "anagram_check(\"heart\", \"earth\")\n",
    "\"\""
   ]
  },
  {
   "cell_type": "code",
   "execution_count": null,
   "id": "a7bfb93f-7140-4905-9919-393fd34e106a",
   "metadata": {},
   "outputs": [],
   "source": [
    "if the length of str1 is == str2"
   ]
  },
  {
   "cell_type": "code",
   "execution_count": 9,
   "id": "5971f2ab-7ce5-409d-be29-497c3300ba3f",
   "metadata": {},
   "outputs": [
    {
     "ename": "SyntaxError",
     "evalue": "invalid syntax (1383673214.py, line 9)",
     "output_type": "error",
     "traceback": [
      "\u001b[0;36m  Cell \u001b[0;32mIn[9], line 9\u001b[0;36m\u001b[0m\n\u001b[0;31m    if myemptystr: !=\"\"\u001b[0m\n\u001b[0m                   ^\u001b[0m\n\u001b[0;31mSyntaxError\u001b[0m\u001b[0;31m:\u001b[0m invalid syntax\n"
     ]
    }
   ],
   "source": [
    "# small detour\n",
    "\n",
    "myemptystr = \"A\"\n",
    "count = 0\n",
    "#these two if statments are equivalent:\n",
    "if myemptystr:\n",
    "   print(\"Somthing\")\n",
    "\n",
    "if myemptystr: !=\"\"\n",
    "   print(\"Somthing\")\n",
    "#these two while statments mare equivalent:\n",
    "\n",
    "while myemptystr:\n",
    "    print(\"something\")\n",
    "    myemptystr = \"\"\n",
    "\n",
    "myemptystr = \"A\"\n",
    "while myemptystr !=\"\"\n",
    "    \n",
    "    print(\"something\")\n",
    "    myemptystr = \"\"\n"
   ]
  },
  {
   "cell_type": "code",
   "execution_count": 10,
   "id": "c9cac0da-d68c-4575-b6bb-ae8a49dc1875",
   "metadata": {},
   "outputs": [
    {
     "ename": "SyntaxError",
     "evalue": "invalid syntax (3922818301.py, line 9)",
     "output_type": "error",
     "traceback": [
      "\u001b[0;36m  Cell \u001b[0;32mIn[10], line 9\u001b[0;36m\u001b[0m\n\u001b[0;31m    if myemptystr !=None\u001b[0m\n\u001b[0m                        ^\u001b[0m\n\u001b[0;31mSyntaxError\u001b[0m\u001b[0;31m:\u001b[0m invalid syntax\n"
     ]
    }
   ],
   "source": [
    "# small detour\n",
    "\n",
    "myemptystr = \"A\"\n",
    "count = 0\n",
    "#these two if statments are equivalent:\n",
    "if myemptystr:\n",
    "   print(\"Somthing\")\n",
    "\n",
    "if myemptystr !=None\n",
    "   print(\"Somthing\")\n",
    "#these two while statments mare equivalent:\n",
    "\n",
    "while myemptystr:\n",
    "    print(\"something\")\n",
    "    myemptystr = \"\"\n",
    "\n",
    "myemptystr = \"A\"\n",
    "while myemptystr !=\"\"\n",
    "    \n",
    "    print(\"something\")\n",
    "    myemptystr = \"\"\n"
   ]
  },
  {
   "cell_type": "code",
   "execution_count": 11,
   "id": "a7fe269a-6e38-4c6f-9207-07069c7e19b0",
   "metadata": {},
   "outputs": [
    {
     "ename": "AttributeError",
     "evalue": "'int' object has no attribute 'append'",
     "output_type": "error",
     "traceback": [
      "\u001b[0;31m---------------------------------------------------------------------------\u001b[0m",
      "\u001b[0;31mAttributeError\u001b[0m                            Traceback (most recent call last)",
      "Cell \u001b[0;32mIn[11], line 8\u001b[0m\n\u001b[1;32m      6\u001b[0m x \u001b[38;5;241m=\u001b[39m \u001b[38;5;241m5\u001b[39m\n\u001b[1;32m      7\u001b[0m y \u001b[38;5;241m=\u001b[39m x\n\u001b[0;32m----> 8\u001b[0m \u001b[43mx\u001b[49m\u001b[38;5;241;43m.\u001b[39;49m\u001b[43mappend\u001b[49m(\u001b[38;5;241m6\u001b[39m)\n\u001b[1;32m     10\u001b[0m \u001b[38;5;28mprint\u001b[39m(\u001b[38;5;28mid\u001b[39m(x))\n\u001b[1;32m     11\u001b[0m \u001b[38;5;28mprint\u001b[39m(\u001b[38;5;28mid\u001b[39m(y))\n",
      "\u001b[0;31mAttributeError\u001b[0m: 'int' object has no attribute 'append'"
     ]
    }
   ],
   "source": [
    "#pass by value example\n",
    "#primary data types in python aalwayspass by value\n",
    "# primary data types : int, float and bool\n",
    "\n",
    "\n",
    "x = 5\n",
    "y = x\n",
    "x.append(6)\n",
    "\n",
    "print(id(x))\n",
    "print(id(y))"
   ]
  },
  {
   "cell_type": "raw",
   "id": "797705fe-4a88-4702-9b09-353a8998745b",
   "metadata": {},
   "source": []
  },
  {
   "cell_type": "code",
   "execution_count": 12,
   "id": "65e32de1-851a-4301-88d2-db350e8a9d97",
   "metadata": {},
   "outputs": [
    {
     "ename": "AttributeError",
     "evalue": "'int' object has no attribute 'append'",
     "output_type": "error",
     "traceback": [
      "\u001b[0;31m---------------------------------------------------------------------------\u001b[0m",
      "\u001b[0;31mAttributeError\u001b[0m                            Traceback (most recent call last)",
      "Cell \u001b[0;32mIn[12], line 8\u001b[0m\n\u001b[1;32m      6\u001b[0m x \u001b[38;5;241m=\u001b[39m \u001b[38;5;241m5\u001b[39m\n\u001b[1;32m      7\u001b[0m y \u001b[38;5;241m=\u001b[39m x\n\u001b[0;32m----> 8\u001b[0m \u001b[43mx\u001b[49m\u001b[38;5;241;43m.\u001b[39;49m\u001b[43mappend\u001b[49m(\u001b[38;5;241m6\u001b[39m)\n\u001b[1;32m     10\u001b[0m \u001b[38;5;28mprint\u001b[39m(\u001b[38;5;28mid\u001b[39m(x))\n\u001b[1;32m     11\u001b[0m \u001b[38;5;28mprint\u001b[39m(\u001b[38;5;28mid\u001b[39m(y))\n",
      "\u001b[0;31mAttributeError\u001b[0m: 'int' object has no attribute 'append'"
     ]
    }
   ],
   "source": [
    "#pass by value example\n",
    "#primary data types in python aalwayspass by value\n",
    "# primary data types : int, float and bool\n",
    "\n",
    "\n",
    "x = 5\n",
    "y = x\n",
    "x.append(6)\n",
    "\n",
    "print(id(x))\n",
    "print(id(y))\n"
   ]
  },
  {
   "cell_type": "code",
   "execution_count": 13,
   "id": "3086a8e0-3886-4e06-abd4-0628338908f5",
   "metadata": {},
   "outputs": [
    {
     "ename": "SyntaxError",
     "evalue": "invalid syntax (1813780865.py, line 11)",
     "output_type": "error",
     "traceback": [
      "\u001b[0;36m  Cell \u001b[0;32mIn[13], line 11\u001b[0;36m\u001b[0m\n\u001b[0;31m    new_node = self.__Node(value):\u001b[0m\n\u001b[0m                                 ^\u001b[0m\n\u001b[0;31mSyntaxError\u001b[0m\u001b[0;31m:\u001b[0m invalid syntax\n"
     ]
    }
   ],
   "source": [
    "class StackII:\n",
    "    class __Node:\n",
    "        def __int__(self, data):\n",
    "            self.data = data\n",
    "            self.below = None\n",
    "\n",
    "def __int__(self,values):\n",
    "    self.top = None\n",
    "\n",
    "def push(self, value):\n",
    "    new_node = self.__Node(value):\n",
    "    if not self.top:\n",
    "        self.top = new_node\n",
    "    else:\n",
    "        old_top= self.top\n",
    "        self.top = new_node\n",
    "        new_node.below = old _top\n",
    "        \n",
    "\n",
    "def  pop(self):\n",
    "    if not self.top:\n",
    "       raise IndexError(\"stack is emptya\")\\\n",
    "    else:\n",
    "    datum = self.top.data\n",
    "node_below\n",
    "self.top = nodfe_below\n",
    "return data\n",
    "\n",
    "def size(self):\n",
    "    pass\n",
    "\n",
    "def peek(self):\n",
    "    pass\n",
    "\n",
    "def is_empty(self):\n",
    "    pass"
   ]
  },
  {
   "cell_type": "code",
   "execution_count": null,
   "id": "3c3edc20-2a90-42d3-a03c-f50d4df64eda",
   "metadata": {},
   "outputs": [],
   "source": [
    "def Size(self):\n",
    "    #this should return the number of nodes in the \n",
    "    current = size(self):\n",
    "    current = 0 \n",
    "    self.top = current.top \n",
    "    \n",
    "    wile current.old.below = 0\n",
    "    old_below = new.top\n",
    "    new_current.below = old_top\n",
    "    #     new_size = self.__size(value):\n",
    "    # if not self.top:\n",
    "    #     self.top = new_node\n",
    "    # else:\n",
    "    #     old_top= self.top\n",
    "    #     self.top = new_node\n",
    "    #     new_node.below = old _top\n",
    "    \n"
   ]
  },
  {
   "cell_type": "code",
   "execution_count": null,
   "id": "8762ee51-547a-4ed2-a9e3-372b02e2a466",
   "metadata": {},
   "outputs": [],
   "source": [
    "def peek (self):\n",
    "    datum = self.top.data\n",
    "    return datum"
   ]
  },
  {
   "cell_type": "code",
   "execution_count": null,
   "id": "4cea0de8-3b2e-4772-b5b9-a276925897cf",
   "metadata": {},
   "outputs": [],
   "source": [
    "def is_empty(self):\n",
    "   \n",
    "    is_empty = x\n",
    "    if  x = 0 \n",
    "    then is_empty is True\n",
    "else:\n",
    "is_empty= False\n"
   ]
  }
 ],
 "metadata": {
  "kernelspec": {
   "display_name": "Python 3 (ipykernel)",
   "language": "python",
   "name": "python3"
  },
  "language_info": {
   "codemirror_mode": {
    "name": "ipython",
    "version": 3
   },
   "file_extension": ".py",
   "mimetype": "text/x-python",
   "name": "python",
   "nbconvert_exporter": "python",
   "pygments_lexer": "ipython3",
   "version": "3.8.10"
  }
 },
 "nbformat": 4,
 "nbformat_minor": 5
}
