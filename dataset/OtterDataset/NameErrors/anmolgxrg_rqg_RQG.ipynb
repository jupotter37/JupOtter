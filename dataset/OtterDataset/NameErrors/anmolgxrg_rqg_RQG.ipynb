{
 "cells": [
  {
   "cell_type": "code",
   "execution_count": 1,
   "id": "2b93f26d",
   "metadata": {},
   "outputs": [
    {
     "name": "stdout",
     "output_type": "stream",
     "text": [
      "File Info: {'row_count': 1094, 'column_count': 8, 'column_data_types': {'Category': 'object', 'Food Item': 'object', 'Measure': 'object', 'Calories': 'int64', 'Protein': 'float64', 'Fat': 'float64', 'Carbs': 'float64', 'Fibre': 'float64'}}\n"
     ]
    }
   ],
   "source": [
    "import pandas as pd\n",
    "\n",
    "def analyze_file(file_path):\n",
    "    \n",
    "    try:\n",
    "        df = pd.read_excel(file_path)\n",
    "    except Exception as e:\n",
    "        return {\"error\": f\"An error occurred while reading the Excel file: {e}\"}\n",
    "    \n",
    "    row_count, col_count = df.shape\n",
    "    \n",
    "    data_types = {col: str(df[col].dtype) for col in df.columns}\n",
    "    \n",
    "    file_info = {\n",
    "        \"row_count\": row_count,\n",
    "        \"column_count\": col_count,\n",
    "        \"column_data_types\": data_types\n",
    "    }\n",
    "    \n",
    "    return file_info\n",
    "\n",
    "file_path_excel = \"ssp2.xlsx\"\n",
    "\n",
    "info_excel = analyze_file(file_path_excel)\n",
    "print(\"File Info:\", info_excel)"
   ]
  },
  {
   "cell_type": "code",
   "execution_count": 2,
   "id": "829dfc5a",
   "metadata": {},
   "outputs": [
    {
     "ename": "NameError",
     "evalue": "name 'all_data' is not defined",
     "output_type": "error",
     "traceback": [
      "\u001b[1;31m---------------------------------------------------------------------------\u001b[0m",
      "\u001b[1;31mNameError\u001b[0m                                 Traceback (most recent call last)",
      "Input \u001b[1;32mIn [2]\u001b[0m, in \u001b[0;36m<cell line: 36>\u001b[1;34m()\u001b[0m\n\u001b[0;32m     26\u001b[0m     file_info \u001b[38;5;241m=\u001b[39m {\n\u001b[0;32m     27\u001b[0m         \u001b[38;5;124m\"\u001b[39m\u001b[38;5;124mrow_count\u001b[39m\u001b[38;5;124m\"\u001b[39m: row_count,\n\u001b[0;32m     28\u001b[0m         \u001b[38;5;124m\"\u001b[39m\u001b[38;5;124mcolumn_count\u001b[39m\u001b[38;5;124m\"\u001b[39m: col_count,\n\u001b[1;32m   (...)\u001b[0m\n\u001b[0;32m     31\u001b[0m         \u001b[38;5;124m\"\u001b[39m\u001b[38;5;124mrow_data\u001b[39m\u001b[38;5;124m\"\u001b[39m: all_data\n\u001b[0;32m     32\u001b[0m     }\n\u001b[0;32m     34\u001b[0m     \u001b[38;5;28;01mreturn\u001b[39;00m file_info\n\u001b[1;32m---> 36\u001b[0m a_file_info \u001b[38;5;241m=\u001b[39m \u001b[43manalyze_file\u001b[49m\u001b[43m(\u001b[49m\u001b[38;5;124;43m\"\u001b[39;49m\u001b[38;5;124;43mssp2.xlsx\u001b[39;49m\u001b[38;5;124;43m\"\u001b[39;49m\u001b[43m)\u001b[49m\n\u001b[0;32m     38\u001b[0m \u001b[38;5;28mprint\u001b[39m(\u001b[38;5;124m\"\u001b[39m\u001b[38;5;124mFile Info:\u001b[39m\u001b[38;5;124m\"\u001b[39m, a_file_info)\n",
      "Input \u001b[1;32mIn [2]\u001b[0m, in \u001b[0;36manalyze_file\u001b[1;34m(file_path)\u001b[0m\n\u001b[0;32m     21\u001b[0m data_types \u001b[38;5;241m=\u001b[39m {col: \u001b[38;5;28mstr\u001b[39m(df[col]\u001b[38;5;241m.\u001b[39mdtype) \u001b[38;5;28;01mfor\u001b[39;00m col \u001b[38;5;129;01min\u001b[39;00m df\u001b[38;5;241m.\u001b[39mcolumns}\n\u001b[0;32m     23\u001b[0m row_data \u001b[38;5;241m=\u001b[39m [column_names] \u001b[38;5;241m+\u001b[39m df\u001b[38;5;241m.\u001b[39mvalues\u001b[38;5;241m.\u001b[39mtolist()\n\u001b[0;32m     26\u001b[0m file_info \u001b[38;5;241m=\u001b[39m {\n\u001b[0;32m     27\u001b[0m     \u001b[38;5;124m\"\u001b[39m\u001b[38;5;124mrow_count\u001b[39m\u001b[38;5;124m\"\u001b[39m: row_count,\n\u001b[0;32m     28\u001b[0m     \u001b[38;5;124m\"\u001b[39m\u001b[38;5;124mcolumn_count\u001b[39m\u001b[38;5;124m\"\u001b[39m: col_count,\n\u001b[0;32m     29\u001b[0m     \u001b[38;5;124m\"\u001b[39m\u001b[38;5;124mcolumn_names\u001b[39m\u001b[38;5;124m\"\u001b[39m: column_names,\n\u001b[0;32m     30\u001b[0m     \u001b[38;5;124m\"\u001b[39m\u001b[38;5;124mcolumn_data_types\u001b[39m\u001b[38;5;124m\"\u001b[39m: data_types,\n\u001b[1;32m---> 31\u001b[0m     \u001b[38;5;124m\"\u001b[39m\u001b[38;5;124mrow_data\u001b[39m\u001b[38;5;124m\"\u001b[39m: \u001b[43mall_data\u001b[49m\n\u001b[0;32m     32\u001b[0m }\n\u001b[0;32m     34\u001b[0m \u001b[38;5;28;01mreturn\u001b[39;00m file_info\n",
      "\u001b[1;31mNameError\u001b[0m: name 'all_data' is not defined"
     ]
    }
   ],
   "source": [
    "import pandas as pd\n",
    "import os\n",
    "\n",
    "\n",
    "def analyze_file(file_path):\n",
    "    \n",
    "    file_extension = os.path.splitext(file_path)[1]\n",
    "    \n",
    "    try:\n",
    "        if file_extension == '.xls' or file_extension == '.xlsx':\n",
    "            df = pd.read_excel(file_path)\n",
    "        elif file_extension == '.csv':\n",
    "            df = pd.read_csv(file_path)\n",
    "        else:\n",
    "            return {\"error\": f\"Unsupported file type: {file_extension}\"}\n",
    "    except Exception as e:\n",
    "        return {\"error\": f\"An error occurred while reading the file: {e}\"}\n",
    "    \n",
    "    row_count, col_count = df.shape\n",
    "    column_names = list(df.columns)\n",
    "    data_types = {col: str(df[col].dtype) for col in df.columns}\n",
    "    \n",
    "    row_data = [column_names] + df.values.tolist()\n",
    "\n",
    "    \n",
    "    file_info = {\n",
    "        \"row_count\": row_count,\n",
    "        \"column_count\": col_count,\n",
    "        \"column_names\": column_names,\n",
    "        \"column_data_types\": data_types,\n",
    "        \"row_data\": all_data\n",
    "    }\n",
    "    \n",
    "    return file_info\n",
    "\n",
    "a_file_info = analyze_file(\"ssp2.xlsx\")\n",
    "\n",
    "print(\"File Info:\", a_file_info)"
   ]
  },
  {
   "cell_type": "code",
   "execution_count": null,
   "id": "79b37a88",
   "metadata": {},
   "outputs": [],
   "source": []
  }
 ],
 "metadata": {
  "kernelspec": {
   "display_name": "Python 3 (ipykernel)",
   "language": "python",
   "name": "python3"
  },
  "language_info": {
   "codemirror_mode": {
    "name": "ipython",
    "version": 3
   },
   "file_extension": ".py",
   "mimetype": "text/x-python",
   "name": "python",
   "nbconvert_exporter": "python",
   "pygments_lexer": "ipython3",
   "version": "3.9.12"
  }
 },
 "nbformat": 4,
 "nbformat_minor": 5
}
