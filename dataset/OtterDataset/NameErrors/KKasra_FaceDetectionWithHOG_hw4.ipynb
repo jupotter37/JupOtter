{
 "cells": [
  {
   "cell_type": "code",
   "execution_count": 2,
   "metadata": {},
   "outputs": [],
   "source": [
    "import numpy as np\n",
    "import cv2 as cv\n",
    "import os\n",
    "from matplotlib import pyplot as plt\n",
    "from sklearn.svm import SVC as svm\n",
    "# from cv2 import ml_SVM as svm\n",
    "from skimage.feature import hog\n",
    "from sklearn.metrics import RocCurveDisplay as roc_display\n",
    "from sklearn.metrics import PrecisionRecallDisplay as pr_display\n",
    "import pickle\n",
    "import json"
   ]
  },
  {
   "cell_type": "markdown",
   "metadata": {},
   "source": [
    "## load parameters"
   ]
  },
  {
   "cell_type": "code",
   "execution_count": 2,
   "metadata": {},
   "outputs": [],
   "source": [
    "parameters = json.load(open('parameters.json'))\n",
    "train_size = parameters['train_size']\n",
    "validation_size = parameters['validation_size']\n",
    "test_size = parameters['test_size']"
   ]
  },
  {
   "cell_type": "markdown",
   "metadata": {},
   "source": [
    "## load files"
   ]
  },
  {
   "cell_type": "code",
   "execution_count": 14,
   "metadata": {},
   "outputs": [],
   "source": [
    "# iterate throw dataset directories\n",
    "\n",
    "face_img_list = []\n",
    "for d in os.listdir('lfw'):\n",
    "    if d[0] == '.':\n",
    "        continue\n",
    "    for img in os.listdir('lfw/' + d):\n",
    "        face_img_list.append('lfw/' + d + '/' + img)\n",
    "\n",
    "\n",
    "non_face_img_list = []\n",
    "size_list = []\n",
    "for img in os.listdir('257.clutter'):   \n",
    "    if img[0] == '.':\n",
    "        continue \n",
    "    non_face_img_list.append('257.clutter/' + img)\n",
    "    try:\n",
    "        size_list.append(cv.imread('257.clutter/' + img).shape[:2])\n",
    "    except:\n",
    "        print(img)\n",
    "\n"
   ]
  },
  {
   "cell_type": "markdown",
   "metadata": {},
   "source": [
    "## take samples from non-face images"
   ]
  },
  {
   "cell_type": "code",
   "execution_count": 27,
   "metadata": {},
   "outputs": [],
   "source": [
    "sample_dims = parameters['sample_dims']\n",
    "\n",
    "non_face_sample_map = []\n",
    "\n",
    "for i in range(len(non_face_img_list)):\n",
    "    for b_x in range(0, size_list[i][0] - sample_dims[0], 50):\n",
    "        for b_y in range(0, size_list[i][1] - sample_dims[1], 50):\n",
    "            non_face_sample_map.append([non_face_img_list[i], b_x, b_y])\n",
    "\n",
    "get_sample_from_map = lambda map: cv.imread(map[0])[map[1]:map[1]+sample_dims[0], map[2]:map[2]+sample_dims[1], ::-1]\n"
   ]
  },
  {
   "cell_type": "markdown",
   "metadata": {},
   "source": [
    "## choose parameters for HOG"
   ]
  },
  {
   "cell_type": "code",
   "execution_count": 21,
   "metadata": {},
   "outputs": [
    {
     "ename": "NameError",
     "evalue": "name 'face_img_list' is not defined",
     "output_type": "error",
     "traceback": [
      "\u001b[0;31m---------------------------------------------------------------------------\u001b[0m",
      "\u001b[0;31mNameError\u001b[0m                                 Traceback (most recent call last)",
      "\u001b[1;32m/Users/kasrakhoshjoo/Documents/home works/Computer Vision/HW4/hw4.ipynb Cell 10'\u001b[0m in \u001b[0;36m<cell line: 12>\u001b[0;34m()\u001b[0m\n\u001b[1;32m      <a href='vscode-notebook-cell:/Users/kasrakhoshjoo/Documents/home%20works/Computer%20Vision/HW4/hw4.ipynb#ch0000003?line=2'>3</a>\u001b[0m cells_per_block \u001b[39m=\u001b[39m parameters[\u001b[39m'\u001b[39m\u001b[39mcells_per_block\u001b[39m\u001b[39m'\u001b[39m]\n\u001b[1;32m      <a href='vscode-notebook-cell:/Users/kasrakhoshjoo/Documents/home%20works/Computer%20Vision/HW4/hw4.ipynb#ch0000003?line=5'>6</a>\u001b[0m extract_feature_vector \u001b[39m=\u001b[39m \u001b[39mlambda\u001b[39;00m img: hog(img,orientations\u001b[39m=\u001b[39mnumber_of_orientations, \n\u001b[1;32m      <a href='vscode-notebook-cell:/Users/kasrakhoshjoo/Documents/home%20works/Computer%20Vision/HW4/hw4.ipynb#ch0000003?line=6'>7</a>\u001b[0m                                             pixels_per_cell\u001b[39m=\u001b[39mpixels_per_cell,\n\u001b[1;32m      <a href='vscode-notebook-cell:/Users/kasrakhoshjoo/Documents/home%20works/Computer%20Vision/HW4/hw4.ipynb#ch0000003?line=7'>8</a>\u001b[0m                                             cells_per_block\u001b[39m=\u001b[39mcells_per_block,\n\u001b[1;32m      <a href='vscode-notebook-cell:/Users/kasrakhoshjoo/Documents/home%20works/Computer%20Vision/HW4/hw4.ipynb#ch0000003?line=8'>9</a>\u001b[0m                                             channel_axis\u001b[39m=\u001b[39m\u001b[39m2\u001b[39m)\n\u001b[0;32m---> <a href='vscode-notebook-cell:/Users/kasrakhoshjoo/Documents/home%20works/Computer%20Vision/HW4/hw4.ipynb#ch0000003?line=11'>12</a>\u001b[0m img \u001b[39m=\u001b[39m cv\u001b[39m.\u001b[39mimread(face_img_list[\u001b[39m20\u001b[39m])[\u001b[39m50\u001b[39m:\u001b[39m-\u001b[39m\u001b[39m50\u001b[39m,\u001b[39m50\u001b[39m:\u001b[39m-\u001b[39m\u001b[39m50\u001b[39m,::\u001b[39m-\u001b[39m\u001b[39m1\u001b[39m]\n\u001b[1;32m     <a href='vscode-notebook-cell:/Users/kasrakhoshjoo/Documents/home%20works/Computer%20Vision/HW4/hw4.ipynb#ch0000003?line=12'>13</a>\u001b[0m tmp , hog_image \u001b[39m=\u001b[39m hog(img,orientations\u001b[39m=\u001b[39mnumber_of_orientations,\n\u001b[1;32m     <a href='vscode-notebook-cell:/Users/kasrakhoshjoo/Documents/home%20works/Computer%20Vision/HW4/hw4.ipynb#ch0000003?line=13'>14</a>\u001b[0m                         pixels_per_cell\u001b[39m=\u001b[39mpixels_per_cell,\n\u001b[1;32m     <a href='vscode-notebook-cell:/Users/kasrakhoshjoo/Documents/home%20works/Computer%20Vision/HW4/hw4.ipynb#ch0000003?line=14'>15</a>\u001b[0m                         cells_per_block\u001b[39m=\u001b[39mcells_per_block, \n\u001b[1;32m     <a href='vscode-notebook-cell:/Users/kasrakhoshjoo/Documents/home%20works/Computer%20Vision/HW4/hw4.ipynb#ch0000003?line=15'>16</a>\u001b[0m                         channel_axis\u001b[39m=\u001b[39m\u001b[39m2\u001b[39m, visualize\u001b[39m=\u001b[39m\u001b[39mTrue\u001b[39;00m)\n\u001b[1;32m     <a href='vscode-notebook-cell:/Users/kasrakhoshjoo/Documents/home%20works/Computer%20Vision/HW4/hw4.ipynb#ch0000003?line=17'>18</a>\u001b[0m f, a \u001b[39m=\u001b[39m plt\u001b[39m.\u001b[39msubplots(\u001b[39m1\u001b[39m, \u001b[39m2\u001b[39m)\n",
      "\u001b[0;31mNameError\u001b[0m: name 'face_img_list' is not defined"
     ]
    }
   ],
   "source": [
    "number_of_orientations = parameters['number_of_orientations']\n",
    "pixels_per_cell = parameters['pixels_per_cell']\n",
    "cells_per_block = parameters['cells_per_block']\n",
    "\n",
    "\n",
    "extract_feature_vector = lambda img: hog(img,orientations=number_of_orientations, \n",
    "                                            pixels_per_cell=pixels_per_cell,\n",
    "                                            cells_per_block=cells_per_block,\n",
    "                                            channel_axis=2)\n",
    "\n",
    "\n",
    "img = cv.imread(face_img_list[20])[50:-50,50:-50,::-1]\n",
    "tmp , hog_image = hog(img,orientations=number_of_orientations,\n",
    "                        pixels_per_cell=pixels_per_cell,\n",
    "                        cells_per_block=cells_per_block, \n",
    "                        channel_axis=2, visualize=True)\n",
    "\n",
    "f, a = plt.subplots(1, 2)\n",
    "f.set_figwidth(10)\n",
    "f.set_figheight(5)\n",
    "a[0].imshow(img)\n",
    "a[1].imshow(hog_image)\n",
    "print(tmp.shape)"
   ]
  },
  {
   "cell_type": "markdown",
   "metadata": {},
   "source": [
    "## extract features from samples"
   ]
  },
  {
   "cell_type": "code",
   "execution_count": 55,
   "metadata": {},
   "outputs": [
    {
     "name": "stdout",
     "output_type": "stream",
     "text": [
      "0\n",
      "1000\n",
      "2000\n",
      "3000\n",
      "4000\n",
      "5000\n",
      "6000\n",
      "7000\n",
      "8000\n",
      "9000\n",
      "10000\n",
      "11000\n",
      "12000\n",
      "13000\n"
     ]
    }
   ],
   "source": [
    "features = []\n",
    "for i in range(len(face_img_list)):\n",
    "    if i % 1000 == 0:\n",
    "        print(i)\n",
    "    img = cv.imread(face_img_list[i])[50:-50,50:-50]\n",
    "    features.append(extract_feature_vector(img))\n",
    "\n"
   ]
  },
  {
   "cell_type": "code",
   "execution_count": 56,
   "metadata": {},
   "outputs": [],
   "source": [
    "features = np.array(features)\n",
    "np.save('positive_features.npy', features)"
   ]
  },
  {
   "cell_type": "code",
   "execution_count": 57,
   "metadata": {},
   "outputs": [],
   "source": [
    "del features"
   ]
  },
  {
   "cell_type": "code",
   "execution_count": 62,
   "metadata": {},
   "outputs": [
    {
     "name": "stdout",
     "output_type": "stream",
     "text": [
      "0\n",
      "100\n",
      "200\n",
      "300\n",
      "400\n",
      "500\n",
      "600\n",
      "700\n",
      "800\n"
     ]
    }
   ],
   "source": [
    "features = []\n",
    "for i in range(len(non_face_img_list)):\n",
    "    if i % 100 == 0:\n",
    "        print(i)\n",
    "    img = cv.imread(non_face_img_list[i])\n",
    "    for b_x in range(0, img.shape[0] - sample_dims[0], 50):\n",
    "        for b_y in range(0, img.shape[1] - sample_dims[1], 50):\n",
    "            features.append(extract_feature_vector(img[b_x:b_x+sample_dims[0], b_y:b_y+sample_dims[1]]))\n",
    "\n",
    "features = np.array(features)\n",
    "np.save('negative_features.npy', features)\n",
    "del features\n"
   ]
  },
  {
   "cell_type": "markdown",
   "metadata": {},
   "source": [
    "## create training, validation, and test sets"
   ]
  },
  {
   "cell_type": "code",
   "execution_count": 69,
   "metadata": {},
   "outputs": [],
   "source": [
    "positive_features = np.load('positive_features.npy')\n",
    "positive_permutation = np.random.permutation(positive_features.shape[0])\n",
    "\n",
    "\n",
    "negative_features = np.load('negative_features.npy')\n",
    "negative_permutation = np.random.permutation(negative_features.shape[0])\n",
    "\n",
    "np.save('validation_features.npy',np.concatenate([positive_features[positive_permutation[:validation_size]], \n",
    "                                                  negative_features[negative_permutation[:validation_size]]], axis=0))\n",
    "\n",
    "\n",
    "np.save('test_features.npy',np.concatenate([positive_features[positive_permutation[validation_size:validation_size+test_size]], \n",
    "                                            negative_features[negative_permutation[validation_size:validation_size+test_size]]], axis=0))\n",
    "\n",
    "positive_features = positive_features[positive_permutation[validation_size+test_size:validation_size+test_size+train_size]]\n",
    "negative_features = negative_features[negative_permutation[validation_size+test_size:validation_size+test_size+train_size]]\n",
    "\n",
    "np.save('train_features.npy', np.concatenate([positive_features, negative_features], axis=0))\n",
    "\n",
    "del positive_features\n",
    "del negative_features\n",
    "\n"
   ]
  },
  {
   "cell_type": "markdown",
   "metadata": {},
   "source": [
    "## train classifier"
   ]
  },
  {
   "cell_type": "code",
   "execution_count": 11,
   "metadata": {},
   "outputs": [],
   "source": [
    "features = np.load('train_features.npy')\n",
    "labels = np.concatenate([np.ones(train_size), np.zeros(train_size)], axis=0)\n",
    "\n",
    "classifier = svm()\n",
    "\n",
    "classifier.fit(features, labels)\n",
    "# classifier.trainAuto(features[:10], cv.ml.ROW_SAMPLE, labels[:10])\n",
    "del features"
   ]
  },
  {
   "cell_type": "markdown",
   "metadata": {},
   "source": [
    "## evaluate classifier"
   ]
  },
  {
   "cell_type": "code",
   "execution_count": 12,
   "metadata": {},
   "outputs": [],
   "source": [
    "features = np.load('validation_features.npy')\n",
    "labels = np.concatenate([np.ones(validation_size), np.zeros(validation_size)], axis=0)\n",
    "\n",
    "prediction_on_validation_set = classifier.predict(features)\n",
    "\n",
    "del features"
   ]
  },
  {
   "cell_type": "code",
   "execution_count": 13,
   "metadata": {},
   "outputs": [
    {
     "data": {
      "text/plain": [
       "6"
      ]
     },
     "execution_count": 13,
     "metadata": {},
     "output_type": "execute_result"
    }
   ],
   "source": [
    "(labels != prediction_on_validation_set).sum()"
   ]
  },
  {
   "cell_type": "markdown",
   "metadata": {},
   "source": [
    "## save classifier"
   ]
  },
  {
   "cell_type": "code",
   "execution_count": null,
   "metadata": {},
   "outputs": [],
   "source": [
    "pickle.dump(classifier, open('classifier.pickle', 'wb'))"
   ]
  },
  {
   "cell_type": "markdown",
   "metadata": {},
   "source": [
    "## detect faces"
   ]
  },
  {
   "cell_type": "code",
   "execution_count": 2,
   "metadata": {},
   "outputs": [],
   "source": [
    "def add_padding(image, sample_dims):\n",
    "    padded_current_image = np.zeros((sample_dims[0] + image.shape[0],\n",
    "                                     sample_dims[1] + image.shape[1],\n",
    "                                     3))\n",
    "        \n",
    "    shift = np.array(padded_current_image.shape[:2]) - np.array(image.shape[:2])\n",
    "    shift = (shift / 2).astype(int)\n",
    "    padded_current_image[shift[0]:image.shape[0]+shift[0], shift[1]:image.shape[1]+shift[1], :] = image\n",
    "\n",
    "    return padded_current_image, shift"
   ]
  },
  {
   "cell_type": "code",
   "execution_count": 3,
   "metadata": {},
   "outputs": [],
   "source": [
    "def detect_faces(image):\n",
    "\n",
    "    parameters = json.load(open('parameters.json'))\n",
    "\n",
    "    number_of_orientations = parameters['number_of_orientations']\n",
    "    pixels_per_cell = parameters['pixels_per_cell']\n",
    "    cells_per_block = parameters['cells_per_block']\n",
    "\n",
    "\n",
    "    extract_feature_vector = lambda img: hog(img,orientations=number_of_orientations, \n",
    "                                            pixels_per_cell=pixels_per_cell,\n",
    "                                            cells_per_block=cells_per_block,\n",
    "                                            channel_axis=2)\n",
    "\n",
    "\n",
    "\n",
    "    sample_dims = parameters['sample_dims']\n",
    "    strides = parameters['sliding_window_strides']\n",
    "\n",
    "    levels = parameters['levels']\n",
    "\n",
    "    svm_classifier = pickle.load(open('classifier.pickle', 'rb'))\n",
    "    decision_threshold = parameters['decision_function_threshold']\n",
    "    \n",
    "    \n",
    "    bounding_boxes = []\n",
    "    for i in range(len(levels)):\n",
    "        resize_factor = levels[i]\n",
    "        stride = strides[i]\n",
    "        print(\"level {i}\".format(i=i))\n",
    "\n",
    "        # Padding the image \n",
    "        current_image = cv.resize(image, (0,0), fx = resize_factor, fy = resize_factor)\n",
    "        padded_current_image, shift = add_padding(current_image, sample_dims=sample_dims)\n",
    "        del current_image\n",
    "\n",
    "        \n",
    "        feature_vectors = []\n",
    "        for b_x in range(0, padded_current_image.shape[0] - sample_dims[0], stride):\n",
    "            for b_y in range(0, padded_current_image.shape[1] - sample_dims[1], stride):\n",
    "                sample = padded_current_image[b_x:b_x+sample_dims[0], b_y:b_y+sample_dims[1]]\n",
    "                feature_vector = extract_feature_vector(sample)\n",
    "                \n",
    "                p = svm_classifier.decision_function(feature_vector.reshape(1, -1))\n",
    "                del feature_vector\n",
    "                if p > decision_threshold:\n",
    "                    bounding_boxes.append([(b_x - shift[0]) / resize_factor, (b_y - shift[1]) / resize_factor, \n",
    "                                           sample_dims[0] / resize_factor, sample_dims[1] / resize_factor, \n",
    "                                           p])\n",
    "                \n",
    "        del padded_current_image\n",
    "        \n",
    "        \n",
    "    \n",
    "\n",
    "    return bounding_boxes\n",
    "    "
   ]
  },
  {
   "cell_type": "code",
   "execution_count": 4,
   "metadata": {},
   "outputs": [],
   "source": [
    "def eliminate_redundante_boxes(bounding_boxes):\n",
    "\n",
    "    parameters = json.load(open('parameters.json'))\n",
    "\n",
    "    accepting_threshold = parameters['decision_function_threshold']\n",
    "\n",
    "    bounding_boxes = np.array(bounding_boxes)\n",
    "    bounding_boxes = bounding_boxes[np.argsort(-bounding_boxes[:, 4])]\n",
    "\n",
    "\n",
    "    accepted_bounding_boxes = []\n",
    "\n",
    "    for i in range(bounding_boxes.shape[0]):\n",
    "        if bounding_boxes[i, 4] < accepting_threshold:\n",
    "            break\n",
    "        surface_area = bounding_boxes[i, 2] * bounding_boxes[i, 3]\n",
    "        flag = True\n",
    "        for b in accepted_bounding_boxes:\n",
    "            # calculate surface area of intersection\n",
    "            left = max(bounding_boxes[i, 0], b[0])\n",
    "            right = min(bounding_boxes[i, 0] + bounding_boxes[i, 2], b[0] + b[2])\n",
    "            top = max(bounding_boxes[i, 1], b[1])\n",
    "            bottom = min(bounding_boxes[i, 1] + bounding_boxes[i, 3], b[1] + b[3])\n",
    "\n",
    "\n",
    "            if left < right and top < bottom:\n",
    "                intersection_area = (right - left) * (bottom - top)\n",
    "                \n",
    "                if (intersection_area / (b[2] * b[3] + surface_area - intersection_area)) > 0.6:\n",
    "                    flag = False\n",
    "                    break\n",
    "                if intersection_area / surface_area > .6:\n",
    "                    flag = False\n",
    "                    break\n",
    "                if intersection_area / (b[2] * b[3]) > .8:\n",
    "                    flag = False\n",
    "                    break\n",
    "\n",
    "        if flag:\n",
    "            accepted_bounding_boxes.append(bounding_boxes[i])\n",
    "        \n",
    "\n",
    "\n",
    "    return accepted_bounding_boxes"
   ]
  },
  {
   "cell_type": "code",
   "execution_count": 5,
   "metadata": {},
   "outputs": [],
   "source": [
    "def get_detection_image(image):\n",
    "    tmp = image.copy()\n",
    "    detection_bounding_boxes = detect_faces(tmp)\n",
    "    bounding_boxes = eliminate_redundante_boxes(detection_bounding_boxes)\n",
    "    \n",
    "    \n",
    "    tmp_with_boxes = tmp.copy()\n",
    "\n",
    "    for bb in bounding_boxes:\n",
    "        r, b, g = np.random.randint(0, 255), np.random.randint(0, 255), np.random.randint(0, 255)\n",
    "        cv.rectangle(tmp_with_boxes, (int(bb[1]), int(bb[0])), (int(bb[1]+bb[3]), int(bb[0]+bb[2])),(r,g,b), 2)\n",
    "        cv.putText(tmp_with_boxes, str(bb[4])[:5], (int(bb[1]), int(bb[0])), cv.FONT_HERSHEY_SIMPLEX, .5, (r,g,b), 2)\n",
    "\n",
    "    \n",
    "\n",
    "\n",
    "    return tmp_with_boxes"
   ]
  },
  {
   "cell_type": "code",
   "execution_count": 14,
   "metadata": {},
   "outputs": [
    {
     "name": "stdout",
     "output_type": "stream",
     "text": [
      "level 0\n",
      "level 1\n",
      "level 2\n"
     ]
    }
   ],
   "source": [
    "tmp = cv.imread('Esteghlal.jpg')\n",
    "detection_bounding_boxes = detect_faces(tmp)\n",
    "    \n"
   ]
  },
  {
   "cell_type": "code",
   "execution_count": 15,
   "metadata": {},
   "outputs": [
    {
     "data": {
      "text/plain": [
       "True"
      ]
     },
     "execution_count": 15,
     "metadata": {},
     "output_type": "execute_result"
    }
   ],
   "source": [
    "bounding_boxes = eliminate_redundante_boxes(detection_bounding_boxes)\n",
    "\n",
    "# bounding_boxes = np.array(detection_bounding_boxes)\n",
    "# bounding_boxes = bounding_boxes[bounding_boxes[:,3] == 150]\n",
    "tmp_with_boxes = tmp.copy()\n",
    "\n",
    "\n",
    "for i in range(len(bounding_boxes)):\n",
    "    bb = bounding_boxes[i]\n",
    "    r, b, g = np.random.randint(0, 255), np.random.randint(0, 255), np.random.randint(0, 255)\n",
    "    cv.rectangle(tmp_with_boxes, (int(bb[1]), int(bb[0])), (int(bb[1]+bb[3]), int(bb[0]+bb[2])),(r,g,b), 2)\n",
    "    cv.putText(tmp_with_boxes, str(bb[4])[:5] + \"|\"+str(i), \n",
    "                                  (int(bb[1]), int(bb[0])), \n",
    "                                    cv.FONT_HERSHEY_SIMPLEX, 1, (r,g,b), 2,\n",
    "                                    bottomLeftOrigin=False)\n",
    "\n",
    "cv.imwrite('tmp.jpg', tmp_with_boxes)    \n"
   ]
  },
  {
   "cell_type": "code",
   "execution_count": 6,
   "metadata": {},
   "outputs": [
    {
     "name": "stdout",
     "output_type": "stream",
     "text": [
      "level 0\n",
      "level 1\n",
      "level 2\n",
      "level 3\n",
      "level 4\n",
      "level 5\n"
     ]
    },
    {
     "name": "stderr",
     "output_type": "stream",
     "text": [
      "/var/folders/h4/c2hzt9rs3qv9lbm1_zj3vqv40000gn/T/ipykernel_44199/344695064.py:7: VisibleDeprecationWarning: Creating an ndarray from ragged nested sequences (which is a list-or-tuple of lists-or-tuples-or ndarrays with different lengths or shapes) is deprecated. If you meant to do this, you must specify 'dtype=object' when creating the ndarray.\n",
      "  bounding_boxes = np.array(bounding_boxes)\n"
     ]
    },
    {
     "data": {
      "text/plain": [
       "True"
      ]
     },
     "execution_count": 6,
     "metadata": {},
     "output_type": "execute_result"
    }
   ],
   "source": [
    "cv.imwrite('res04.jpg', get_detection_image(cv.imread('Melli.jpg')))"
   ]
  },
  {
   "cell_type": "code",
   "execution_count": 7,
   "metadata": {},
   "outputs": [
    {
     "name": "stdout",
     "output_type": "stream",
     "text": [
      "level 0\n",
      "level 1\n",
      "level 2\n",
      "level 3\n",
      "level 4\n",
      "level 5\n"
     ]
    },
    {
     "name": "stderr",
     "output_type": "stream",
     "text": [
      "/var/folders/h4/c2hzt9rs3qv9lbm1_zj3vqv40000gn/T/ipykernel_44199/344695064.py:7: VisibleDeprecationWarning: Creating an ndarray from ragged nested sequences (which is a list-or-tuple of lists-or-tuples-or ndarrays with different lengths or shapes) is deprecated. If you meant to do this, you must specify 'dtype=object' when creating the ndarray.\n",
      "  bounding_boxes = np.array(bounding_boxes)\n"
     ]
    },
    {
     "data": {
      "text/plain": [
       "True"
      ]
     },
     "execution_count": 7,
     "metadata": {},
     "output_type": "execute_result"
    }
   ],
   "source": [
    "cv.imwrite('res05.jpg', get_detection_image(cv.imread('Persepolis.jpg')))"
   ]
  },
  {
   "cell_type": "code",
   "execution_count": 8,
   "metadata": {},
   "outputs": [
    {
     "name": "stdout",
     "output_type": "stream",
     "text": [
      "level 0\n",
      "level 1\n",
      "level 2\n",
      "level 3\n",
      "level 4\n",
      "level 5\n"
     ]
    },
    {
     "name": "stderr",
     "output_type": "stream",
     "text": [
      "/var/folders/h4/c2hzt9rs3qv9lbm1_zj3vqv40000gn/T/ipykernel_44199/344695064.py:7: VisibleDeprecationWarning: Creating an ndarray from ragged nested sequences (which is a list-or-tuple of lists-or-tuples-or ndarrays with different lengths or shapes) is deprecated. If you meant to do this, you must specify 'dtype=object' when creating the ndarray.\n",
      "  bounding_boxes = np.array(bounding_boxes)\n"
     ]
    },
    {
     "data": {
      "text/plain": [
       "True"
      ]
     },
     "execution_count": 8,
     "metadata": {},
     "output_type": "execute_result"
    }
   ],
   "source": [
    "cv.imwrite('res06.jpg', get_detection_image(cv.imread('Esteghlal.jpg')))"
   ]
  },
  {
   "cell_type": "code",
   "execution_count": 9,
   "metadata": {},
   "outputs": [
    {
     "data": {
      "text/plain": [
       "<matplotlib.image.AxesImage at 0x282e3bd60>"
      ]
     },
     "execution_count": 9,
     "metadata": {},
     "output_type": "execute_result"
    },
    {
     "data": {
      "image/png": "[encoded data removed]",
      "text/plain": [
       "<Figure size 432x288 with 1 Axes>"
      ]
     },
     "metadata": {
      "needs_background": "light"
     },
     "output_type": "display_data"
    }
   ],
   "source": [
    "tmp_base = [30, 330]\n",
    "\n",
    "tmp_size = (int)(150 / .8)\n",
    "\n",
    "sample = cv.imread('Esteghlal.jpg')[tmp_base[0]:tmp_base[0] + tmp_size,\n",
    "                                     tmp_base[1]:tmp_base[1] + tmp_size]\n",
    "# sample = np.concatenate([ np.zeros((20, 250, 3)),sample], axis = 0)\n",
    "sample = cv.resize(sample, (150,150)).astype(int)\n",
    "plt.imshow(sample[:,:,::-1])"
   ]
  },
  {
   "cell_type": "code",
   "execution_count": 10,
   "metadata": {},
   "outputs": [
    {
     "name": "stdout",
     "output_type": "stream",
     "text": [
      "(23040,)\n",
      "[1.]\n",
      "[0.95472257]\n"
     ]
    }
   ],
   "source": [
    "parameters = json.load(open('parameters.json'))\n",
    "\n",
    "number_of_orientations = parameters['number_of_orientations']\n",
    "pixels_per_cell = parameters['pixels_per_cell']\n",
    "cells_per_block = parameters['cells_per_block']\n",
    "\n",
    "\n",
    "extract_feature_vector = lambda img: hog(img,orientations=number_of_orientations, \n",
    "                                            pixels_per_cell=pixels_per_cell,\n",
    "                                            cells_per_block=cells_per_block,\n",
    "                                            channel_axis=2)\n",
    "\n",
    "\n",
    "tmp_vector = extract_feature_vector(sample)\n",
    "svm_classifier = pickle.load(open('classifier.pickle', 'rb'))\n",
    "print(tmp_vector.shape)\n",
    "prediction = svm_classifier.predict(tmp_vector.reshape((1, -1)))\n",
    "\n",
    "print(prediction)\n",
    "print(svm_classifier.decision_function(tmp_vector.reshape((1, -1))))"
   ]
  },
  {
   "cell_type": "code",
   "execution_count": 4,
   "metadata": {},
   "outputs": [],
   "source": [
    "classifier = pickle.load(open('classifier.pickle', 'rb'))"
   ]
  },
  {
   "cell_type": "code",
   "execution_count": 8,
   "metadata": {},
   "outputs": [
    {
     "name": "stdout",
     "output_type": "stream",
     "text": [
      "scale\n",
      "{'C': 1.0, 'break_ties': False, 'cache_size': 200, 'class_weight': None, 'coef0': 0.0, 'decision_function_shape': 'ovr', 'degree': 3, 'gamma': 'scale', 'kernel': 'rbf', 'max_iter': -1, 'probability': False, 'random_state': None, 'shrinking': True, 'tol': 0.001, 'verbose': False}\n"
     ]
    }
   ],
   "source": [
    "print(classifier.gamma)\n",
    "print(classifier.get_params(deep=True))\n"
   ]
  },
  {
   "cell_type": "markdown",
   "metadata": {},
   "source": [
    "## draw performance plots"
   ]
  },
  {
   "cell_type": "code",
   "execution_count": 2,
   "metadata": {},
   "outputs": [],
   "source": [
    "parameters = json.load(open('parameters.json'))\n",
    "\n",
    "svm_classifier = pickle.load(open('classifier.pickle', 'rb'))\n",
    "\n",
    "test_feature_vectors = np.load('test_features.npy')\n",
    "\n",
    "ground_truth_labels = np.concatenate([np.ones(parameters['test_size']), np.zeros(parameters['test_size'])])\n",
    "\n",
    "prediction = svm_classifier.predict(test_feature_vectors)\n",
    "\n",
    "\n",
    "del test_feature_vectors"
   ]
  },
  {
   "cell_type": "code",
   "execution_count": 5,
   "metadata": {},
   "outputs": [
    {
     "data": {
      "image/png": "[encoded data removed]",
      "text/plain": [
       "<Figure size 432x288 with 1 Axes>"
      ]
     },
     "metadata": {
      "needs_background": "light"
     },
     "output_type": "display_data"
    }
   ],
   "source": [
    "\n",
    "ROC_plot = roc_display.from_predictions(prediction, ground_truth_labels)\n",
    "\n",
    "plt.savefig('res01.jpg')"
   ]
  },
  {
   "cell_type": "code",
   "execution_count": 8,
   "metadata": {},
   "outputs": [
    {
     "data": {
      "image/png": "[encoded data removed]",
      "text/plain": [
       "<Figure size 432x288 with 1 Axes>"
      ]
     },
     "metadata": {
      "needs_background": "light"
     },
     "output_type": "display_data"
    }
   ],
   "source": [
    "precision_recall_plot = pr_display.from_predictions(prediction, ground_truth_labels)\n",
    "\n",
    "plt.savefig('res02.jpg')"
   ]
  },
  {
   "cell_type": "code",
   "execution_count": null,
   "metadata": {},
   "outputs": [],
   "source": []
  }
 ],
 "metadata": {
  "interpreter": {
   "hash": "b0fa6594d8f4cbf19f97940f81e996739fb7646882a419484c72d19e05852a7e"
  },
  "kernelspec": {
   "display_name": "Python 3.9.12 64-bit",
   "language": "python",
   "name": "python3"
  },
  "language_info": {
   "codemirror_mode": {
    "name": "ipython",
    "version": 3
   },
   "file_extension": ".py",
   "mimetype": "text/x-python",
   "name": "python",
   "nbconvert_exporter": "python",
   "pygments_lexer": "ipython3",
   "version": "3.9.12"
  },
  "orig_nbformat": 4
 },
 "nbformat": 4,
 "nbformat_minor": 2
}
