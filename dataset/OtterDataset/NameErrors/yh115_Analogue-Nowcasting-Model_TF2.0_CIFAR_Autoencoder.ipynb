{
 "cells": [
  {
   "cell_type": "code",
   "execution_count": 1,
   "id": "46bb39ea-0304-4657-9579-a7651fd7e423",
   "metadata": {},
   "outputs": [
    {
     "name": "stdout",
     "output_type": "stream",
     "text": [
      "[PhysicalDevice(name='/physical_device:GPU:0', device_type='GPU')]\n"
     ]
    }
   ],
   "source": [
    "# Import tensorflow and check it is using GPU to run\n",
    "import tensorflow as tf\n",
    "print(tf.config.list_physical_devices('GPU'))"
   ]
  },
  {
   "cell_type": "code",
   "execution_count": 2,
   "id": "e95d7442-df00-42bc-99bb-5a0c22341fcc",
   "metadata": {},
   "outputs": [],
   "source": [
    "# Import other modules\n",
    "import numpy as np\n",
    "import matplotlib.pyplot as plt\n",
    "import pandas as pd\n",
    "import pickle\n",
    "from tensorflow.keras.layers import Input, Conv2D, UpSampling2D, Add\n",
    "from tensorflow.keras.models import Model\n",
    "from tensorflow.keras.models import load_model\n",
    "from sklearn.metrics.pairwise import euclidean_distances"
   ]
  },
  {
   "cell_type": "code",
   "execution_count": 3,
   "id": "c9b295be-0bf3-4867-8528-7032dd986c65",
   "metadata": {},
   "outputs": [],
   "source": [
    "# Retrieve CIFAR Fashion dataset available from tf\n",
    "(x_train, y_train), (x_test, y_test) = tf.keras.datasets.cifar10.load_data()"
   ]
  },
  {
   "cell_type": "code",
   "execution_count": 7,
   "id": "571abdad-8645-4786-a0d0-f0a8dd1886ec",
   "metadata": {},
   "outputs": [
    {
     "data": {
      "image/png": "[encoded data removed]",
      "text/plain": [
       "<Figure size 432x288 with 1 Axes>"
      ]
     },
     "metadata": {},
     "output_type": "display_data"
    }
   ],
   "source": [
    "# Visualise image\n",
    "i = np.random.choice(len(x_train))\n",
    "plt.imshow(x_train[i], cmap='viridis')\n",
    "plt.title(\"Example Image\");"
   ]
  },
  {
   "cell_type": "code",
   "execution_count": 8,
   "id": "2a141fb5-8be0-40f0-8bb3-4b2520aa65f2",
   "metadata": {},
   "outputs": [],
   "source": [
    "# Normalize the input features to get values between 0 and 1 for the colour channels\n",
    "x_train, x_test = x_train/255, x_test/255"
   ]
  },
  {
   "cell_type": "code",
   "execution_count": 9,
   "id": "11274155-d35c-43f0-815e-705704c46462",
   "metadata": {},
   "outputs": [
    {
     "name": "stdout",
     "output_type": "stream",
     "text": [
      "(32, 32, 3)\n"
     ]
    }
   ],
   "source": [
    "# Input requires us to provide the shape which is the H X W X C without the number of samples N.\n",
    "print(x_train[0].shape)\n",
    "i = Input(shape=x_train[0].shape)"
   ]
  },
  {
   "cell_type": "code",
   "execution_count": 10,
   "id": "643c0083-9deb-4e7a-a207-652e67e95734",
   "metadata": {},
   "outputs": [],
   "source": [
    "# Define ResNet block\n",
    "def resnet_block(input_tensor, filters, kernel_size=(3, 3), strides=(1, 1)):\n",
    "    x = Conv2D(filters, kernel_size, strides=strides, padding='same')(input_tensor)\n",
    "    x = tf.keras.layers.BatchNormalization()(x)\n",
    "    x = tf.keras.layers.Activation('relu')(x)\n",
    "    \n",
    "    x = Conv2D(filters, kernel_size, padding='same')(x)\n",
    "    x = tf.keras.layers.BatchNormalization()(x)\n",
    "    \n",
    "    # Adjust the shortcut connection\n",
    "    if strides != (1, 1) or input_tensor.shape[-1] != filters:\n",
    "        shortcut = Conv2D(filters, (1, 1), strides=strides, padding='same')(input_tensor)\n",
    "    else:\n",
    "        shortcut = input_tensor\n",
    "    \n",
    "    x = Add()([x, shortcut])\n",
    "    x = tf.keras.layers.Activation('relu')(x)\n",
    "    return x"
   ]
  },
  {
   "cell_type": "code",
   "execution_count": 11,
   "id": "b0617596-7d7d-4bfd-8d8b-276b795e3a2c",
   "metadata": {},
   "outputs": [],
   "source": [
    "# Define the model architecture\n",
    "inputs = Input(shape=x_train[0].shape)"
   ]
  },
  {
   "cell_type": "code",
   "execution_count": 12,
   "id": "b8c6984b-92d4-428e-806d-d457a4df62b4",
   "metadata": {},
   "outputs": [],
   "source": [
    "# Encoder\n",
    "x = resnet_block(inputs, 32)\n",
    "x = resnet_block(x, 64)\n",
    "encoded = resnet_block(x, 128, strides=(2, 2))\n",
    "\n",
    "# Decoder\n",
    "x = UpSampling2D((2, 2))(encoded)\n",
    "x = resnet_block(x, 64)\n",
    "x = UpSampling2D((1, 1))(x)\n",
    "x = resnet_block(x, 32)\n",
    "decoded = Conv2D(3, (3, 3), activation='sigmoid', padding='same')(x)"
   ]
  },
  {
   "cell_type": "code",
   "execution_count": 15,
   "id": "4d84650e-c34b-4618-9f07-f7f38a7e9f84",
   "metadata": {},
   "outputs": [
    {
     "name": "stdout",
     "output_type": "stream",
     "text": [
      "Model: \"model\"\n",
      "__________________________________________________________________________________________________\n",
      " Layer (type)                   Output Shape         Param #     Connected to                     \n",
      "==================================================================================================\n",
      " input_2 (InputLayer)           [(None, 32, 32, 3)]  0           []                               \n",
      "                                                                                                  \n",
      " conv2d (Conv2D)                (None, 32, 32, 32)   896         ['input_2[0][0]']                \n",
      "                                                                                                  \n",
      " batch_normalization (BatchNorm  (None, 32, 32, 32)  128         ['conv2d[0][0]']                 \n",
      " alization)                                                                                       \n",
      "                                                                                                  \n",
      " activation (Activation)        (None, 32, 32, 32)   0           ['batch_normalization[0][0]']    \n",
      "                                                                                                  \n",
      " conv2d_1 (Conv2D)              (None, 32, 32, 32)   9248        ['activation[0][0]']             \n",
      "                                                                                                  \n",
      " batch_normalization_1 (BatchNo  (None, 32, 32, 32)  128         ['conv2d_1[0][0]']               \n",
      " rmalization)                                                                                     \n",
      "                                                                                                  \n",
      " conv2d_2 (Conv2D)              (None, 32, 32, 32)   128         ['input_2[0][0]']                \n",
      "                                                                                                  \n",
      " add (Add)                      (None, 32, 32, 32)   0           ['batch_normalization_1[0][0]',  \n",
      "                                                                  'conv2d_2[0][0]']               \n",
      "                                                                                                  \n",
      " activation_1 (Activation)      (None, 32, 32, 32)   0           ['add[0][0]']                    \n",
      "                                                                                                  \n",
      " conv2d_3 (Conv2D)              (None, 32, 32, 64)   18496       ['activation_1[0][0]']           \n",
      "                                                                                                  \n",
      " batch_normalization_2 (BatchNo  (None, 32, 32, 64)  256         ['conv2d_3[0][0]']               \n",
      " rmalization)                                                                                     \n",
      "                                                                                                  \n",
      " activation_2 (Activation)      (None, 32, 32, 64)   0           ['batch_normalization_2[0][0]']  \n",
      "                                                                                                  \n",
      " conv2d_4 (Conv2D)              (None, 32, 32, 64)   36928       ['activation_2[0][0]']           \n",
      "                                                                                                  \n",
      " batch_normalization_3 (BatchNo  (None, 32, 32, 64)  256         ['conv2d_4[0][0]']               \n",
      " rmalization)                                                                                     \n",
      "                                                                                                  \n",
      " conv2d_5 (Conv2D)              (None, 32, 32, 64)   2112        ['activation_1[0][0]']           \n",
      "                                                                                                  \n",
      " add_1 (Add)                    (None, 32, 32, 64)   0           ['batch_normalization_3[0][0]',  \n",
      "                                                                  'conv2d_5[0][0]']               \n",
      "                                                                                                  \n",
      " activation_3 (Activation)      (None, 32, 32, 64)   0           ['add_1[0][0]']                  \n",
      "                                                                                                  \n",
      " conv2d_6 (Conv2D)              (None, 16, 16, 128)  73856       ['activation_3[0][0]']           \n",
      "                                                                                                  \n",
      " batch_normalization_4 (BatchNo  (None, 16, 16, 128)  512        ['conv2d_6[0][0]']               \n",
      " rmalization)                                                                                     \n",
      "                                                                                                  \n",
      " activation_4 (Activation)      (None, 16, 16, 128)  0           ['batch_normalization_4[0][0]']  \n",
      "                                                                                                  \n",
      " conv2d_7 (Conv2D)              (None, 16, 16, 128)  147584      ['activation_4[0][0]']           \n",
      "                                                                                                  \n",
      " batch_normalization_5 (BatchNo  (None, 16, 16, 128)  512        ['conv2d_7[0][0]']               \n",
      " rmalization)                                                                                     \n",
      "                                                                                                  \n",
      " conv2d_8 (Conv2D)              (None, 16, 16, 128)  8320        ['activation_3[0][0]']           \n",
      "                                                                                                  \n",
      " add_2 (Add)                    (None, 16, 16, 128)  0           ['batch_normalization_5[0][0]',  \n",
      "                                                                  'conv2d_8[0][0]']               \n",
      "                                                                                                  \n",
      " activation_5 (Activation)      (None, 16, 16, 128)  0           ['add_2[0][0]']                  \n",
      "                                                                                                  \n",
      " up_sampling2d (UpSampling2D)   (None, 32, 32, 128)  0           ['activation_5[0][0]']           \n",
      "                                                                                                  \n",
      " conv2d_9 (Conv2D)              (None, 32, 32, 64)   73792       ['up_sampling2d[0][0]']          \n",
      "                                                                                                  \n",
      " batch_normalization_6 (BatchNo  (None, 32, 32, 64)  256         ['conv2d_9[0][0]']               \n",
      " rmalization)                                                                                     \n",
      "                                                                                                  \n",
      " activation_6 (Activation)      (None, 32, 32, 64)   0           ['batch_normalization_6[0][0]']  \n",
      "                                                                                                  \n",
      " conv2d_10 (Conv2D)             (None, 32, 32, 64)   36928       ['activation_6[0][0]']           \n",
      "                                                                                                  \n",
      " batch_normalization_7 (BatchNo  (None, 32, 32, 64)  256         ['conv2d_10[0][0]']              \n",
      " rmalization)                                                                                     \n",
      "                                                                                                  \n",
      " conv2d_11 (Conv2D)             (None, 32, 32, 64)   8256        ['up_sampling2d[0][0]']          \n",
      "                                                                                                  \n",
      " add_3 (Add)                    (None, 32, 32, 64)   0           ['batch_normalization_7[0][0]',  \n",
      "                                                                  'conv2d_11[0][0]']              \n",
      "                                                                                                  \n",
      " activation_7 (Activation)      (None, 32, 32, 64)   0           ['add_3[0][0]']                  \n",
      "                                                                                                  \n",
      " up_sampling2d_1 (UpSampling2D)  (None, 32, 32, 64)  0           ['activation_7[0][0]']           \n",
      "                                                                                                  \n",
      " conv2d_12 (Conv2D)             (None, 32, 32, 32)   18464       ['up_sampling2d_1[0][0]']        \n",
      "                                                                                                  \n",
      " batch_normalization_8 (BatchNo  (None, 32, 32, 32)  128         ['conv2d_12[0][0]']              \n",
      " rmalization)                                                                                     \n",
      "                                                                                                  \n",
      " activation_8 (Activation)      (None, 32, 32, 32)   0           ['batch_normalization_8[0][0]']  \n",
      "                                                                                                  \n",
      " conv2d_13 (Conv2D)             (None, 32, 32, 32)   9248        ['activation_8[0][0]']           \n",
      "                                                                                                  \n",
      " batch_normalization_9 (BatchNo  (None, 32, 32, 32)  128         ['conv2d_13[0][0]']              \n",
      " rmalization)                                                                                     \n",
      "                                                                                                  \n",
      " conv2d_14 (Conv2D)             (None, 32, 32, 32)   2080        ['up_sampling2d_1[0][0]']        \n",
      "                                                                                                  \n",
      " add_4 (Add)                    (None, 32, 32, 32)   0           ['batch_normalization_9[0][0]',  \n",
      "                                                                  'conv2d_14[0][0]']              \n",
      "                                                                                                  \n",
      " activation_9 (Activation)      (None, 32, 32, 32)   0           ['add_4[0][0]']                  \n",
      "                                                                                                  \n",
      " conv2d_15 (Conv2D)             (None, 32, 32, 3)    867         ['activation_9[0][0]']           \n",
      "                                                                                                  \n",
      "==================================================================================================\n",
      "Total params: 449,763\n",
      "Trainable params: 448,483\n",
      "Non-trainable params: 1,280\n",
      "__________________________________________________________________________________________________\n"
     ]
    }
   ],
   "source": [
    "autoencoder.summary()"
   ]
  },
  {
   "cell_type": "code",
   "execution_count": 14,
   "id": "af8eac31-7987-4a3c-8f23-f1779852792d",
   "metadata": {},
   "outputs": [],
   "source": [
    "# Compile the autoencoder\n",
    "autoencoder = Model(inputs, decoded)\n",
    "autoencoder.compile(optimizer='adam', loss='mse',metrics=['accuracy'])"
   ]
  },
  {
   "cell_type": "code",
   "execution_count": 18,
   "id": "3b0e4a3e-e92b-446e-aea8-cb002cd47273",
   "metadata": {},
   "outputs": [
    {
     "name": "stdout",
     "output_type": "stream",
     "text": [
      "Epoch 1/10\n",
      "1563/1563 [==============================] - 150s 96ms/step - loss: 9.6912e-04 - val_loss: 6.8186e-04\n",
      "Epoch 2/10\n",
      "1563/1563 [==============================] - 148s 95ms/step - loss: 6.9102e-04 - val_loss: 4.6037e-04\n",
      "Epoch 3/10\n",
      "1563/1563 [==============================] - 148s 95ms/step - loss: 4.8664e-04 - val_loss: 4.1018e-04\n",
      "Epoch 4/10\n",
      "1563/1563 [==============================] - 148s 95ms/step - loss: 3.3407e-04 - val_loss: 2.3929e-04\n",
      "Epoch 5/10\n",
      "1563/1563 [==============================] - 148s 95ms/step - loss: 2.7082e-04 - val_loss: 2.1680e-04\n",
      "Epoch 6/10\n",
      "1563/1563 [==============================] - 148s 95ms/step - loss: 2.3240e-04 - val_loss: 2.1373e-04\n",
      "Epoch 7/10\n",
      "1563/1563 [==============================] - 148s 94ms/step - loss: 1.9602e-04 - val_loss: 1.1389e-04\n",
      "Epoch 8/10\n",
      "1563/1563 [==============================] - 147s 94ms/step - loss: 1.6905e-04 - val_loss: 1.2248e-04\n",
      "Epoch 9/10\n",
      "1563/1563 [==============================] - 147s 94ms/step - loss: 1.5706e-04 - val_loss: 1.9177e-04\n",
      "Epoch 10/10\n",
      "1563/1563 [==============================] - 147s 94ms/step - loss: 1.3435e-04 - val_loss: 1.0757e-04\n"
     ]
    }
   ],
   "source": [
    "# Train the model \n",
    "history = autoencoder.fit(x_train, x_train, epochs=10, validation_data=(x_test, x_test))"
   ]
  },
  {
   "cell_type": "code",
   "execution_count": 19,
   "id": "9ab7b85d-d81a-41c5-849f-3e7f9814788d",
   "metadata": {},
   "outputs": [
    {
     "data": {
      "text/plain": [
       "<matplotlib.legend.Legend at 0x29b98ed4e20>"
      ]
     },
     "execution_count": 19,
     "metadata": {},
     "output_type": "execute_result"
    },
    {
     "data": {
      "image/png": "[encoded data removed]",
      "text/plain": [
       "<Figure size 432x288 with 1 Axes>"
      ]
     },
     "metadata": {},
     "output_type": "display_data"
    }
   ],
   "source": [
    "# Plot loss per iteration\n",
    "\n",
    "plt.plot(history.history['loss'], label='loss')\n",
    "plt.plot(history.history['val_loss'], label='val_loss')\n",
    "plt.legend()\n",
    "\n",
    "# For increasing validation loss, it is a sign we are overfitting and can be reduced by normalization."
   ]
  },
  {
   "cell_type": "code",
   "execution_count": 21,
   "id": "2e90ab83-eb9b-40f6-a3de-617df54a2215",
   "metadata": {},
   "outputs": [],
   "source": [
    "# Save this model\n",
    "autoencoder.save('ResNet_CIFAR_Autoencoder.keras')"
   ]
  },
  {
   "cell_type": "code",
   "execution_count": 16,
   "id": "8fe300ce-fea9-4a43-996d-8b4070a86971",
   "metadata": {},
   "outputs": [],
   "source": [
    "# Load the model\n",
    "autoencoder = load_model('ResNet_CIFAR_Autoencoder.keras')"
   ]
  },
  {
   "cell_type": "code",
   "execution_count": 22,
   "id": "42f2625d-3aa2-43ee-b47c-255d565e0846",
   "metadata": {},
   "outputs": [],
   "source": [
    "# Compile the model\n",
    "autoencoder.compile(optimizer='adam', loss='mse',metrics=['accuracy'])"
   ]
  },
  {
   "cell_type": "code",
   "execution_count": 13,
   "id": "0519ea23-69ba-4611-ae18-b25246415430",
   "metadata": {},
   "outputs": [
    {
     "ename": "NameError",
     "evalue": "name 'history' is not defined",
     "output_type": "error",
     "traceback": [
      "Traceback \u001b[1;36m(most recent call last)\u001b[0m:\n",
      "\u001b[1;36m  Cell \u001b[1;32mIn[13], line 3\u001b[1;36m\n\u001b[1;33m    hist_df = pd.DataFrame(history.history)\u001b[1;36m\n",
      "\u001b[1;31mNameError\u001b[0m\u001b[1;31m:\u001b[0m name 'history' is not defined\n"
     ]
    }
   ],
   "source": [
    "# Save the history object \n",
    "# Convert the history.history dict to a pandas DataFrame\n",
    "hist_df = pd.DataFrame(history.history)\n",
    "\n",
    "# Save to csv\n",
    "hist_csv_file = 'history.csv'\n",
    "with open(hist_csv_file, mode='w') as f:\n",
    "    hist_df.to_csv(f)\n",
    "\n",
    "# Save to pickle\n",
    "with open('history.pkl', 'wb') as file:\n",
    "    pickle.dump(history.history, file)"
   ]
  },
  {
   "cell_type": "code",
   "execution_count": 17,
   "id": "42bdc1cb-8903-408e-b154-88a1f7b9d9a5",
   "metadata": {},
   "outputs": [
    {
     "name": "stdout",
     "output_type": "stream",
     "text": [
      "625/625 [==============================] - 23s 26ms/step\n"
     ]
    }
   ],
   "source": [
    "# Generate Encoded Representations for the testing database\n",
    "\n",
    "# encoder = Model(inputs=autoencoder.input, outputs=encoded)\n",
    "encoded_database = autoencoder.predict(x_train[:20000])"
   ]
  },
  {
   "cell_type": "code",
   "execution_count": 28,
   "id": "69c954ca-2160-4d66-ab44-91d4ef7a33ff",
   "metadata": {},
   "outputs": [],
   "source": [
    "# Provide a test image for similarity check\n",
    "i = np.random.choice(len(x_test))\n",
    "input_image = x_test[12:13]"
   ]
  },
  {
   "cell_type": "code",
   "execution_count": 29,
   "id": "878d634d-e4d2-430a-add2-0668066187eb",
   "metadata": {},
   "outputs": [
    {
     "data": {
      "text/plain": [
       "(1, 32, 32, 3)"
      ]
     },
     "execution_count": 29,
     "metadata": {},
     "output_type": "execute_result"
    }
   ],
   "source": [
    "input_image.shape"
   ]
  },
  {
   "cell_type": "code",
   "execution_count": 30,
   "id": "ffc92584-fcb8-45e5-8008-36771aeb1cc4",
   "metadata": {},
   "outputs": [
    {
     "data": {
      "image/png": "[encoded data removed]",
      "text/plain": [
       "<Figure size 432x288 with 1 Axes>"
      ]
     },
     "metadata": {},
     "output_type": "display_data"
    }
   ],
   "source": [
    "# Visualise test image\n",
    "plt.imshow(input_image[0], cmap='viridis')\n",
    "plt.title(\"Test Image\");"
   ]
  },
  {
   "cell_type": "code",
   "execution_count": 31,
   "id": "b6ae8390-3945-40a3-ad0b-d5ad2b370477",
   "metadata": {},
   "outputs": [
    {
     "name": "stdout",
     "output_type": "stream",
     "text": [
      "1/1 [==============================] - 0s 37ms/step\n"
     ]
    }
   ],
   "source": [
    "input_image_encoded = autoencoder.predict(input_image)"
   ]
  },
  {
   "cell_type": "code",
   "execution_count": 32,
   "id": "ff228450-c41c-46c0-ac1a-2c91a177e73d",
   "metadata": {},
   "outputs": [
    {
     "name": "stdout",
     "output_type": "stream",
     "text": [
      "Input image encoded shape (1, 32, 32, 3)\n",
      "Encoded database shape (20000, 32, 32, 3)\n"
     ]
    }
   ],
   "source": [
    "print(\"Input image encoded shape\", input_image_encoded.shape)\n",
    "print(\"Encoded database shape\", encoded_database.shape)"
   ]
  },
  {
   "cell_type": "code",
   "execution_count": 33,
   "id": "b0fd3466-326c-4ee1-8c0d-7dcdd1f9bf96",
   "metadata": {},
   "outputs": [
    {
     "name": "stdout",
     "output_type": "stream",
     "text": [
      "Input image encoded flat shape: (1, 3072)\n",
      "Encoded flat shape: (20000, 3072)\n"
     ]
    }
   ],
   "source": [
    "# Reshaping to allow calculating of euclidean distances\n",
    "input_image_encoded_flat = input_image_encoded.reshape(1,-1)\n",
    "encoded_database_flat = encoded_database.reshape(encoded_database.shape[0], -1)\n",
    "\n",
    "print(\"Input image encoded flat shape:\", input_image_encoded_flat.shape)\n",
    "print(\"Encoded flat shape:\", encoded_database_flat.shape)"
   ]
  },
  {
   "cell_type": "code",
   "execution_count": 34,
   "id": "491f9d0c-e7f7-4200-8202-df255f0f8d03",
   "metadata": {},
   "outputs": [],
   "source": [
    "# Calculate similarities and find the most similar day:\n",
    "\n",
    "# Use <Euclidean distances> to calculate the Euclidean distances between the input day's encoded representation and the encoded representations of all the days in the database.\n",
    "\n",
    "# Calculate Euclidean distances \n",
    "distances = euclidean_distances(input_image_encoded_flat, encoded_database_flat)\n",
    "\n",
    "# Find the index of the most similar day (smallest distance)\n",
    "most_similar_image_index = np.argmin(distances)"
   ]
  },
  {
   "cell_type": "code",
   "execution_count": 35,
   "id": "7606f968-0332-4c87-9646-a0c3c25a3ac0",
   "metadata": {},
   "outputs": [
    {
     "name": "stdout",
     "output_type": "stream",
     "text": [
      "8398\n"
     ]
    }
   ],
   "source": [
    "print(most_similar_image_index)"
   ]
  },
  {
   "cell_type": "code",
   "execution_count": 36,
   "id": "e9906d39-982e-4682-8789-9bf4d46d7729",
   "metadata": {},
   "outputs": [],
   "source": [
    "# Retrieve the data of the most similar day\n",
    "most_similar_image_data = x_train[most_similar_image_index]"
   ]
  },
  {
   "cell_type": "code",
   "execution_count": 37,
   "id": "58da8f4c-f99e-47f8-904e-39597f54e429",
   "metadata": {},
   "outputs": [
    {
     "data": {
      "image/png": "[encoded data removed]",
      "text/plain": [
       "<Figure size 432x288 with 1 Axes>"
      ]
     },
     "metadata": {},
     "output_type": "display_data"
    }
   ],
   "source": [
    "# Visualise most similar database image\n",
    "plt.imshow(most_similar_image_data, cmap='viridis')\n",
    "plt.title(\"Most Similar Image\");"
   ]
  }
 ],
 "metadata": {
  "kernelspec": {
   "display_name": "Python 3 (Spyder)",
   "language": "python3",
   "name": "python3"
  },
  "language_info": {
   "codemirror_mode": {
    "name": "ipython",
    "version": 3
   },
   "file_extension": ".py",
   "mimetype": "text/x-python",
   "name": "python",
   "nbconvert_exporter": "python",
   "pygments_lexer": "ipython3",
   "version": "3.9.18"
  }
 },
 "nbformat": 4,
 "nbformat_minor": 5
}
