{
 "cells": [
  {
   "cell_type": "markdown",
   "metadata": {},
   "source": [
    "## Machine Learning"
   ]
  },
  {
   "cell_type": "markdown",
   "metadata": {},
   "source": [
    "Datasets\n",
    "\n",
    "Train and Test Data are pulled from the same sample of data\n",
    "Train Data is to train the Model\n",
    "Test Data is to validate the training accuracy of the Model\n",
    "Future Data is to predict the data on the Model\n",
    "\n",
    "Features Representation\n",
    "y - Target Values\n",
    "X - data(row) - instances/Sample/Populations\n",
    "f:X->y\n",
    "\n",
    "\n",
    "Python Packages\n",
    "Scikit-learn\n",
    "SciPy"
   ]
  },
  {
   "cell_type": "markdown",
   "metadata": {},
   "source": [
    "Types of ML:\n",
    "    \n",
    "a) Supervised Machine Learning - Labelled Data\n",
    "    i) Classification - target values discrete Labelled Data\n",
    "        1) Binary Data - two feature representation\n",
    "        2) Multi-class - belonging to a specific class in the set of class\n",
    "        3) Multi-label - belongs to a sub-set of class in target values\n",
    "    ii) Regression - target values Continuous Labelled Data\n",
    "\n",
    "b) UnSupervised Machine Learning - structures \n",
    "    i) Clustering\n",
    "    ii) Outlier Detection"
   ]
  },
  {
   "cell_type": "code",
   "execution_count": 11,
   "metadata": {},
   "outputs": [
    {
     "name": "stdout",
     "output_type": "stream",
     "text": [
      "(59, 4)\n",
      "(59,)\n",
      "(44, 4)\n",
      "(15, 4)\n",
      "(44,)\n",
      "(15,)\n"
     ]
    }
   ],
   "source": [
    "#Train and Test Spliting for a single Data Source in 75:25 Ratio\n",
    "#random_state - is used to get the same split for each execution \n",
    "\n",
    "from sklearn.model_selection import train_test_split\n",
    "import numpy as np\n",
    "import pandas as pd\n",
    "\n",
    "fruitdatapath = r'C:\\Users\\Upend\\Anaconda3\\MyScripts\\Fruit_Data.txt'\n",
    "\n",
    "fruit_data = pd.read_table(fruitdatapath)\n",
    "X = fruit_data[['height','width','mass','color_score']]\n",
    "y = fruit_data['fruit_label']\n",
    "\n",
    "X_train,X_test,y_train,y_test = train_test_split(X,y,random_state = 0)\n",
    "\n",
    "print(X.shape)\n",
    "print(y.shape)\n",
    "print(X_train.shape)\n",
    "print(X_test.shape)\n",
    "print(y_train.shape)\n",
    "print(y_test.shape)\n"
   ]
  },
  {
   "cell_type": "markdown",
   "metadata": {},
   "source": [
    "## Supervised "
   ]
  },
  {
   "cell_type": "markdown",
   "metadata": {},
   "source": [
    "#Generalization \n",
    "- Model which can predict the test data to an accuracy with looking the general behaviour of the data\n",
    "- training data score values reduce but give a good score value for the test data\n",
    "#Overfitting \n",
    "- Model is too complex and tries to find a model to suit for every data in the training set\n",
    " - High score value for training data\n",
    " - Low score value for test data \n",
    " - example n_neighbor = 1\n",
    "#underfitting \n",
    " - Model is too simple and broadly classifies the data \n",
    " - Low Score value for both the data\n",
    " - example n_neighbor = 10"
   ]
  },
  {
   "cell_type": "markdown",
   "metadata": {},
   "source": [
    "#Regularization\n",
    "    -  Process of smoothing the decision boundaries \n",
    "    - different models have different parameters to smooth the decision boundaries\n",
    "        - so as to reduce overfitting \n",
    "        - generalize the model well to predict future data\n",
    "        - alpha/gamma/c - examples"
   ]
  },
  {
   "cell_type": "markdown",
   "metadata": {},
   "source": [
    "#Normalization \n",
    "- process of converting all the feature values to a uniform scale\n",
    "- calculates the Max and Min values and assigns 1 and 0 \n",
    "- and all the values between these would be assigned a fraction value between 0 and 1\n",
    "- increases the prediction accuracy immensly\n",
    "\n",
    "- same scalar object should be used for train and test data\n",
    "- only train data should be fit \n"
   ]
  },
  {
   "cell_type": "code",
   "execution_count": 52,
   "metadata": {},
   "outputs": [
    {
     "name": "stdout",
     "output_type": "stream",
     "text": [
      "[[0.89514222]\n",
      " [0.32672516]\n",
      " [0.28455948]]\n",
      "[[0.9338594 ]\n",
      " [0.44905199]\n",
      " [0.61279039]]\n"
     ]
    }
   ],
   "source": [
    "from sklearn.preprocessing import MinMaxScaler\n",
    "\n",
    "scalar = MinMaxScaler()\n",
    "X_train_scalar = scalar.fit_transform(X_train)\n",
    "X_test_scalar = scalar.transform(X_test)\n",
    "\n",
    "print(X_train_scalar[:3])\n",
    "print(X_test_scalar[:3])"
   ]
  },
  {
   "cell_type": "markdown",
   "metadata": {},
   "source": [
    "#Cross-Validation\n",
    "- using of Multiple Train and Test splits and calculating the mean \n",
    "    - creates folds, each fold contains train and test data from sample (cv is the parameter which controls it)\n",
    "- as random_state varies the accuracy of the model varies - to minimize the variance\n",
    "- must apply Normalization should be done for every split\n",
    "Stratified Cross-Validation\n",
    "-  to elimate the impact of clusting of a single lable in train or in test.\n",
    "- it tries to split the data in train and test with all the labels so to increase the model accuracy\n",
    "Leave-one-out Cross-Validation\n",
    "- N Samples => cv = N folds"
   ]
  },
  {
   "cell_type": "code",
   "execution_count": 69,
   "metadata": {},
   "outputs": [
    {
     "ename": "NameError",
     "evalue": "name 'KNeighborsClassifier' is not defined",
     "output_type": "error",
     "traceback": [
      "\u001b[1;31m---------------------------------------------------------------------------\u001b[0m",
      "\u001b[1;31mNameError\u001b[0m                                 Traceback (most recent call last)",
      "\u001b[1;32m<ipython-input-69-a78d844260f5>\u001b[0m in \u001b[0;36m<module>\u001b[1;34m()\u001b[0m\n\u001b[0;32m      1\u001b[0m \u001b[1;32mfrom\u001b[0m \u001b[0msklearn\u001b[0m\u001b[1;33m.\u001b[0m\u001b[0mmodel_selection\u001b[0m \u001b[1;32mimport\u001b[0m \u001b[0mcross_val_score\u001b[0m\u001b[1;33m\u001b[0m\u001b[0m\n\u001b[1;32m----> 2\u001b[1;33m \u001b[0mclf\u001b[0m \u001b[1;33m=\u001b[0m \u001b[0mKNeighborsClassifier\u001b[0m\u001b[1;33m(\u001b[0m\u001b[0mn_neighbors\u001b[0m\u001b[1;33m=\u001b[0m\u001b[1;36m5\u001b[0m\u001b[1;33m)\u001b[0m\u001b[1;33m\u001b[0m\u001b[0m\n\u001b[0m\u001b[0;32m      3\u001b[0m \u001b[0mcross_val_score\u001b[0m\u001b[1;33m(\u001b[0m\u001b[0mclf\u001b[0m\u001b[1;33m,\u001b[0m\u001b[0mX_C2\u001b[0m\u001b[1;33m,\u001b[0m\u001b[0my_C2\u001b[0m\u001b[1;33m)\u001b[0m\u001b[1;33m\u001b[0m\u001b[0m\n",
      "\u001b[1;31mNameError\u001b[0m: name 'KNeighborsClassifier' is not defined"
     ]
    }
   ],
   "source": [
    "from sklearn.model_selection import cross_val_score\n",
    "clf = KNeighborsClassifier(n_neighbors=5)\n",
    "cross_val_score(clf,X_C2,y_C2)"
   ]
  },
  {
   "cell_type": "code",
   "execution_count": 119,
   "metadata": {},
   "outputs": [],
   "source": [
    "#R2_Score - is used to check for the accuracy of the Training data\n",
    "#R2_score(y_train,xyz.predict(X_train))"
   ]
  },
  {
   "cell_type": "code",
   "execution_count": 117,
   "metadata": {},
   "outputs": [],
   "source": [
    "#Validation Curve\n",
    "- used to calculate the Train and test score for given theory object by varing few parameters.\n",
    "- take the actual datasets without any split\n",
    "#from sklearn.svm import SVC\n",
    "#from sklearn.model_selection import validation_curve\n",
    "#gamma = np.logspace(-4,1,6)\n",
    "#train_score,test_score = validation_curve(SVC(random_state=0),X_subset,y_subset,param_name='gamma',param_range=gamma,scoring = 'accuracy')"
   ]
  },
  {
   "cell_type": "markdown",
   "metadata": {},
   "source": [
    "## Datasets"
   ]
  },
  {
   "cell_type": "code",
   "execution_count": 3,
   "metadata": {},
   "outputs": [
    {
     "data": {
      "text/plain": [
       "<matplotlib.collections.PathCollection at 0x19c6a50b940>"
      ]
     },
     "execution_count": 3,
     "metadata": {},
     "output_type": "execute_result"
    },
    {
     "data": {
      "image/png": "[encoded data removed]",
      "text/plain": [
       "<Figure size 432x288 with 1 Axes>"
      ]
     },
     "metadata": {
      "needs_background": "light"
     },
     "output_type": "display_data"
    }
   ],
   "source": [
    "#Creating sample dataset with complexity for learning\n",
    "\n",
    "#Simple Regression dataset with one variable\n",
    "from sklearn.datasets import make_regression\n",
    "import matplotlib.pyplot as plt\n",
    "%matplotlib inline\n",
    "\n",
    "X_R1,y_R1 = make_regression(n_samples=100,n_features=1,n_informative=1, bias = 150.0,\n",
    "                            noise = 30, random_state=0)\n",
    "\n",
    "plt.figure()\n",
    "plt.scatter(X_R1,y_R1,marker = 'o', s = 50)"
   ]
  },
  {
   "cell_type": "code",
   "execution_count": 26,
   "metadata": {},
   "outputs": [
    {
     "data": {
      "text/plain": [
       "<matplotlib.collections.PathCollection at 0x1d10917c3c8>"
      ]
     },
     "execution_count": 26,
     "metadata": {},
     "output_type": "execute_result"
    },
    {
     "data": {
      "image/png": "[encoded data removed]",
      "text/plain": [
       "<Figure size 432x288 with 1 Axes>"
      ]
     },
     "metadata": {
      "needs_background": "light"
     },
     "output_type": "display_data"
    }
   ],
   "source": [
    "#complex Regression with one variable\n",
    "\n",
    "from sklearn.datasets import make_friedman1\n",
    "\n",
    "X_F1,y_F1 = make_friedman1(n_samples = 100,\n",
    "                           n_features = 7, random_state=0)\n",
    "#print(X_F1.shape)\n",
    "plt.scatter(X_F1[:,2],y_F1,marker='o',s=50)\n"
   ]
  },
  {
   "cell_type": "code",
   "execution_count": 76,
   "metadata": {},
   "outputs": [
    {
     "data": {
      "text/plain": [
       "<matplotlib.collections.PathCollection at 0x1d8ba022eb8>"
      ]
     },
     "execution_count": 76,
     "metadata": {},
     "output_type": "execute_result"
    },
    {
     "data": {
      "image/png": "[encoded data removed]",
      "text/plain": [
       "<Figure size 432x288 with 1 Axes>"
      ]
     },
     "metadata": {
      "needs_background": "light"
     },
     "output_type": "display_data"
    }
   ],
   "source": [
    "# Simple Binary Classification\n",
    "from sklearn.datasets import make_classification\n",
    "    \n",
    "X_C2,y_C2 = make_classification(n_samples = 100, n_features=2,\n",
    "                                n_redundant=0, n_informative=2,\n",
    "                                n_clusters_per_class=1, flip_y = 0.1,\n",
    "                                class_sep = 0.5, random_state=0)\n",
    "#print(y_C2.shape)\n",
    "plt.scatter(X_C2[:,0],X_C2[:,1],c=y_C2,marker='o',s=50)"
   ]
  },
  {
   "cell_type": "code",
   "execution_count": 4,
   "metadata": {},
   "outputs": [
    {
     "data": {
      "text/plain": [
       "<matplotlib.collections.PathCollection at 0x19c6a5adf28>"
      ]
     },
     "execution_count": 4,
     "metadata": {},
     "output_type": "execute_result"
    },
    {
     "data": {
      "image/png": "[encoded data removed]",
      "text/plain": [
       "<Figure size 432x288 with 1 Axes>"
      ]
     },
     "metadata": {
      "needs_background": "light"
     },
     "output_type": "display_data"
    }
   ],
   "source": [
    "# Complex Binary Classification\n",
    "\n",
    "from sklearn.datasets import make_blobs\n",
    "\n",
    "X_D2, y_D2 = make_blobs(n_samples = 100, n_features = 2, centers = 8,\n",
    "                       cluster_std = 1.3, random_state = 4)\n",
    "\n",
    "plt.scatter(X_D2[:,0], X_D2[:,1], c=y_D2,\n",
    "           marker= 'o', s=50)\n",
    "#plt.scatter(X_D2[:,0], X_D2[:,1], c=y_D2,\n",
    "#           marker= 'o', s=50, cmap=cmap_bold)"
   ]
  },
  {
   "cell_type": "code",
   "execution_count": 74,
   "metadata": {},
   "outputs": [
    {
     "name": "stdout",
     "output_type": "stream",
     "text": [
      "0     41.02\n",
      "1    127.56\n",
      "2    218.59\n",
      "3    306.64\n",
      "5    442.95\n",
      "Name: ViolentCrimesPerPop, dtype: float64\n"
     ]
    }
   ],
   "source": [
    "# Communities and Crime dataset for regression\n",
    "# https://archive.ics.uci.edu/ml/datasets/Communities+and+Crime+Unnormalized\n",
    "\n",
    "crimedatapath = r'C:\\Users\\Upend\\Anaconda3\\MyScripts\\CommViolPredUnnormalizedData.txt'\n",
    "\n",
    "crime = pd.read_table(crimedatapath, sep=',', na_values='?')\n",
    "# remove features with poor coverage or lower relevance, and keep ViolentCrimesPerPop target column\n",
    "columns_to_keep = [5, 6] + list(range(11,26)) + list(range(32, 103)) + [145]  \n",
    "crime = crime.iloc[:,columns_to_keep].dropna()\n",
    "\n",
    "X_crime = crime.iloc[:,range(0,88)]\n",
    "y_crime = crime['ViolentCrimesPerPop']\n",
    "\n",
    "#print(X_crime[:5])\n",
    "print(y_crime[:5])"
   ]
  },
  {
   "cell_type": "markdown",
   "metadata": {},
   "source": [
    "## KNeighbors Theory "
   ]
  },
  {
   "cell_type": "markdown",
   "metadata": {},
   "source": [
    "#KNeighbors Theory \n",
    "  - predicts the data with respect the majority of the nearest neighbors\n",
    "  - n_neightbors - we can define the neighbors count - Model complexity\n",
    "  - No Learning Happens - Testing takes more time and computation\n",
    " - considers the distance from the two values \n",
    "  - memorizes all the training data and predicts based on it - Lazy Learner\n",
    "  - can be used for both classifer and regression models\n",
    "  - R^2 - Coefficient of Determination - 1 - accurate prediction\n",
    "  \n",
    "fit - to train a model with train data\n",
    "\n",
    "score - to check for model accuracy with the test data(0 -> 1)\n",
    "\n",
    "predict - to predict the future data by taking the features and giving the target value - label"
   ]
  },
  {
   "cell_type": "code",
   "execution_count": 13,
   "metadata": {},
   "outputs": [
    {
     "name": "stdout",
     "output_type": "stream",
     "text": [
      "Accuracy Score:  0.5333333333333333\n",
      "Predicted Fruit:  [2]\n"
     ]
    }
   ],
   "source": [
    "#KNN for Classifier\n",
    "from sklearn.neighbors import KNeighborsClassifier\n",
    "\n",
    "knn = KNeighborsClassifier(n_neighbors = 5)\n",
    "knn.fit(X_train,y_train)\n",
    "print(\"Accuracy Score: \", knn.score(X_test,y_test))\n",
    "\n",
    "example_fruit = [[5.5,2.5,10,7.0]]\n",
    "print(\"Predicted Fruit: \", knn.predict(example_fruit))"
   ]
  },
  {
   "cell_type": "code",
   "execution_count": 47,
   "metadata": {},
   "outputs": [
    {
     "name": "stdout",
     "output_type": "stream",
     "text": [
      "Train data accuracy 0.7196051049133447\n",
      "Test Data accuracy 0.47050230364695134\n"
     ]
    }
   ],
   "source": [
    "#KNN for Regression\n",
    "from sklearn.neighbors import KNeighborsRegressor\n",
    "\n",
    "knn = KNeighborsRegressor(n_neighbors = 7)\n",
    "X_train,X_test,y_train,y_test = train_test_split(X_R1,y_R1,random_state = 0)\n",
    "knn.fit(X_train,y_train)\n",
    "print('Train data accuracy', knn.score(X_train,y_train))\n",
    "print('Test Data accuracy', knn.score(X_test,y_test))\n"
   ]
  },
  {
   "cell_type": "markdown",
   "metadata": {},
   "source": [
    "## Liner Model"
   ]
  },
  {
   "cell_type": "markdown",
   "metadata": {},
   "source": [
    "Liner Regression\n",
    "- Sum of the weighted variables\n",
    "\n",
    "Liner equation y = wx + b\n",
    "y - Target value\n",
    "w - feature weight - Model coefficient\n",
    "x - input variables\n",
    "b - bias term/intercept\n",
    "\n",
    "w and b are interpreted to minimize the sum of square difference of actual value vs the expected value - Least Square\n",
    "No parameter to control the complexity\n"
   ]
  },
  {
   "cell_type": "markdown",
   "metadata": {},
   "source": [
    "#Least Square Regression\n",
    " - RSS = sum(y-(wx+b))^2 - Trying to minimize the value of this"
   ]
  },
  {
   "cell_type": "code",
   "execution_count": 43,
   "metadata": {},
   "outputs": [
    {
     "name": "stdout",
     "output_type": "stream",
     "text": [
      "linear coeff [45.70870465]\n",
      "linear intercept 148.44575345658873\n",
      "Train data accuracy 0.6785950771141656\n",
      "Test Data accuracy 0.49159615934930306\n"
     ]
    }
   ],
   "source": [
    "from sklearn.linear_model import LinearRegression\n",
    "\n",
    "X_train,X_test,y_train,y_test = train_test_split(X_R1,y_R1,random_state = 0)\n",
    "\n",
    "linreg = LinearRegression().fit(X_train,y_train)\n",
    "\n",
    "print('linear coeff',linreg.coef_)\n",
    "print('linear intercept',linreg.intercept_)\n",
    "print('Train data accuracy', linreg.score(X_train,y_train))\n",
    "print('Test Data accuracy', linreg.score(X_test,y_test))"
   ]
  },
  {
   "cell_type": "code",
   "execution_count": 19,
   "metadata": {
    "scrolled": true
   },
   "outputs": [
    {
     "ename": "NameError",
     "evalue": "name 'linreg' is not defined",
     "output_type": "error",
     "traceback": [
      "\u001b[1;31m---------------------------------------------------------------------------\u001b[0m",
      "\u001b[1;31mNameError\u001b[0m                                 Traceback (most recent call last)",
      "\u001b[1;32m<ipython-input-19-7a6e96e6cf2c>\u001b[0m in \u001b[0;36m<module>\u001b[1;34m()\u001b[0m\n\u001b[0;32m      2\u001b[0m \u001b[0mplt\u001b[0m\u001b[1;33m.\u001b[0m\u001b[0mfigure\u001b[0m\u001b[1;33m(\u001b[0m\u001b[0mfigsize\u001b[0m\u001b[1;33m=\u001b[0m\u001b[1;33m(\u001b[0m\u001b[1;36m5\u001b[0m\u001b[1;33m,\u001b[0m\u001b[1;36m4\u001b[0m\u001b[1;33m)\u001b[0m\u001b[1;33m)\u001b[0m\u001b[1;33m\u001b[0m\u001b[0m\n\u001b[0;32m      3\u001b[0m \u001b[0mplt\u001b[0m\u001b[1;33m.\u001b[0m\u001b[0mscatter\u001b[0m\u001b[1;33m(\u001b[0m\u001b[0mX_R1\u001b[0m\u001b[1;33m,\u001b[0m \u001b[0my_R1\u001b[0m\u001b[1;33m,\u001b[0m \u001b[0mmarker\u001b[0m\u001b[1;33m=\u001b[0m \u001b[1;34m'o'\u001b[0m\u001b[1;33m,\u001b[0m \u001b[0ms\u001b[0m\u001b[1;33m=\u001b[0m\u001b[1;36m50\u001b[0m\u001b[1;33m,\u001b[0m \u001b[0malpha\u001b[0m\u001b[1;33m=\u001b[0m\u001b[1;36m0.8\u001b[0m\u001b[1;33m)\u001b[0m\u001b[1;33m\u001b[0m\u001b[0m\n\u001b[1;32m----> 4\u001b[1;33m \u001b[0mplt\u001b[0m\u001b[1;33m.\u001b[0m\u001b[0mplot\u001b[0m\u001b[1;33m(\u001b[0m\u001b[0mX_R1\u001b[0m\u001b[1;33m,\u001b[0m \u001b[0mlinreg\u001b[0m\u001b[1;33m.\u001b[0m\u001b[0mcoef_\u001b[0m \u001b[1;33m*\u001b[0m \u001b[0mX_R1\u001b[0m \u001b[1;33m+\u001b[0m \u001b[0mlinreg\u001b[0m\u001b[1;33m.\u001b[0m\u001b[0mintercept_\u001b[0m\u001b[1;33m,\u001b[0m \u001b[1;34m'r-'\u001b[0m\u001b[1;33m)\u001b[0m\u001b[1;33m\u001b[0m\u001b[0m\n\u001b[0m",
      "\u001b[1;31mNameError\u001b[0m: name 'linreg' is not defined"
     ]
    },
    {
     "data": {
      "image/png": "[encoded data removed]",
      "text/plain": [
       "<Figure size 360x288 with 1 Axes>"
      ]
     },
     "metadata": {
      "needs_background": "light"
     },
     "output_type": "display_data"
    }
   ],
   "source": [
    "#plotting the linear equation\n",
    "plt.figure(figsize=(5,4))\n",
    "plt.scatter(X_R1, y_R1, marker= 'o', s=50, alpha=0.8)\n",
    "plt.plot(X_R1, linreg.coef_ * X_R1 + linreg.intercept_, 'r-')"
   ]
  },
  {
   "cell_type": "markdown",
   "metadata": {},
   "source": [
    "#Ridge Regression\n",
    " - L2 Regularization\n",
    " - Regularization is the penality which is added to the linear regression to reduce overfitting and reduce the complexity of the model\n",
    " - Alpha - controls Model Complexity  \n",
    "         - Higher value for more regularized and simple models \n",
    "         - there is a optimal value of alpha for which the train and test scores are high and drop after that for increase in the value of Alpha\n",
    "    RSS(w,b) = sum(y-(wx+b))^2 + alpha * sum(w)^2 \n",
    "- Variables are low to medium effect\n",
    " - Alpha is more than Lasso regression\n",
    "    "
   ]
  },
  {
   "cell_type": "code",
   "execution_count": 75,
   "metadata": {},
   "outputs": [
    {
     "name": "stdout",
     "output_type": "stream",
     "text": [
      "Train Score 0.6711418726469425\n",
      "Test Score 0.49435144173711804\n",
      "After Normalization\n",
      "\n",
      "Train Score 0.6146175955616784\n",
      "Test Score 0.5986066019999294\n"
     ]
    }
   ],
   "source": [
    "from sklearn.preprocessing import MinMaxScaler\n",
    "from sklearn.linear_model import Ridge\n",
    "\n",
    "X_train,X_test,y_train,y_test = train_test_split(X_crime, y_crime,random_state=0)\n",
    "rid = Ridge(alpha=15).fit(X_train,y_train)\n",
    "print(\"Train Score\", rid.score(X_train,y_train))\n",
    "print(\"Test Score\", rid.score(X_test,y_test))\n",
    "\n",
    "print(\"After Normalization\\n\")\n",
    "scalar = MinMaxScaler()\n",
    "\n",
    "X_train_scalar = scalar.fit_transform(X_train)\n",
    "X_test_scalar = scalar.transform(X_test)\n",
    "\n",
    "ridscalar = Ridge(alpha=20).fit(X_train_scalar,y_train)\n",
    "\n",
    "print(\"Train Score\", ridscalar.score(X_train_scalar,y_train))\n",
    "print(\"Test Score\", ridscalar.score(X_test_scalar,y_test))"
   ]
  },
  {
   "cell_type": "markdown",
   "metadata": {},
   "source": [
    "#Lasso Regression\n",
    " - L1 Regularization - reduces the sum of the absolute values of coefficients\n",
    " - Regularization is the penality which is added to the linear regression to reduce overfitting and reduce the complexity of the model\n",
    " - Alpha - controls Model Complexity  - Higher value for more regularized and simple models\n",
    "    RSS(w,b) = sum(y-(wx+b))^2 + alpha * sum(|w|) \n",
    "- sets 0 to the features which have less impact variables - Sparse solution\n",
    " - Variables are medium to large effect\n",
    " - Alpha less than Ridge regression"
   ]
  },
  {
   "cell_type": "code",
   "execution_count": 78,
   "metadata": {},
   "outputs": [
    {
     "name": "stdout",
     "output_type": "stream",
     "text": [
      "Train Score 0.6594003880221504\n",
      "Test Score 0.46783889857310246\n",
      "lasso regression linear model coeff:\n",
      "[ 1.01656357e-03  0.00000000e+00  0.00000000e+00 -1.20440393e+01\n",
      "  0.00000000e+00 -0.00000000e+00 -1.88695648e-03  1.31686027e+00\n",
      " -3.42011698e-04 -7.86686238e-01  0.00000000e+00 -4.35501099e+00\n",
      "  8.99051679e-01 -0.00000000e+00 -4.71824911e+00  3.09906674e-03\n",
      " -1.05138164e-03  3.22831759e-03 -0.00000000e+00 -1.07442436e+01\n",
      "  4.68064319e+00 -0.00000000e+00 -0.00000000e+00  4.16173554e+00\n",
      " -2.23579190e+00 -9.93134172e-01  0.00000000e+00  1.50932696e-01\n",
      "  0.00000000e+00  4.70296523e+00 -0.00000000e+00 -0.00000000e+00\n",
      "  0.00000000e+00  0.00000000e+00 -2.03500844e+01  0.00000000e+00\n",
      "  0.00000000e+00  9.39158053e-01 -6.84696621e+00 -7.60527809e-04\n",
      "  4.41097086e+01 -1.25456811e-03  0.00000000e+00 -2.18828212e-01\n",
      " -5.79819466e-01  1.76825128e-01 -0.00000000e+00 -0.00000000e+00\n",
      "  0.00000000e+00  0.00000000e+00  6.85763190e-01 -2.00370949e+01\n",
      " -0.00000000e+00 -0.00000000e+00  0.00000000e+00 -0.00000000e+00\n",
      " -0.00000000e+00 -0.00000000e+00  1.91407057e+01  1.87902139e+00\n",
      "  0.00000000e+00  2.26322546e-02 -0.00000000e+00  0.00000000e+00\n",
      "  6.70281611e+00 -1.05445819e+00  2.10655665e+00  4.05082010e+00\n",
      " -0.00000000e+00 -9.88200104e-05  9.08094298e-04 -6.94360921e-04\n",
      "  3.60132734e-04 -7.80575056e-01 -6.04415285e-01 -1.25625603e-01\n",
      " -0.00000000e+00  1.23778408e+00  0.00000000e+00 -0.00000000e+00\n",
      " -2.09696704e+01  1.38298229e-01  3.74023740e-01  8.11769597e+00\n",
      " -4.23580237e-01  8.11639248e-01  3.30802597e-01 -0.00000000e+00]\n",
      "After Normalization\n",
      "\n",
      "lasso regression linear model coeff:\n",
      "[    0.             0.            -0.            -0.\n",
      "    -0.            -0.             0.            92.72792087\n",
      "    -0.            -0.            -0.            -0.\n",
      "    -0.             0.            -0.            -0.\n",
      "    -0.             0.             0.             0.\n",
      "     0.            -0.             0.            -0.\n",
      "    -0.            -0.             0.            -0.\n",
      "     0.             0.             0.             0.\n",
      "     0.            -0.         -1854.63320924    -0.\n",
      "    -0.            -0.            -0.             0.\n",
      "     0.             0.             0.             0.\n",
      "     0.             0.             0.             0.\n",
      "     0.             0.            -0.             0.\n",
      "     0.             0.             0.             0.\n",
      "     0.            -0.             0.             0.\n",
      "    -0.             0.            -0.            -0.\n",
      "     0.            -0.             0.             0.\n",
      "     0.             0.             0.             0.\n",
      "     0.             0.             0.             0.\n",
      "     0.             0.             0.             0.\n",
      "    -0.             0.             0.             0.\n",
      "    -0.            -0.             0.            -0.        ]\n",
      "Train Score 0.50948494579772\n",
      "Test Score 0.5035904805856334\n"
     ]
    },
    {
     "name": "stderr",
     "output_type": "stream",
     "text": [
      "C:\\Users\\Upend\\Anaconda3\\lib\\site-packages\\sklearn\\linear_model\\coordinate_descent.py:491: ConvergenceWarning: Objective did not converge. You might want to increase the number of iterations. Fitting data with very small alpha may cause precision problems.\n",
      "  ConvergenceWarning)\n"
     ]
    }
   ],
   "source": [
    "from sklearn.preprocessing import MinMaxScaler\n",
    "from sklearn.linear_model import Lasso\n",
    "\n",
    "X_train,X_test,y_train,y_test = train_test_split(X_crime, y_crime,random_state=0)\n",
    "las = Lasso(alpha=15).fit(X_train,y_train)\n",
    "print(\"Train Score\", las.score(X_train,y_train))\n",
    "print(\"Test Score\", las.score(X_test,y_test))\n",
    "print('lasso regression linear model coeff:\\n{}'\n",
    "     .format(las.coef_))\n",
    "\n",
    "print(\"After Normalization\\n\")\n",
    "scalar = MinMaxScaler()\n",
    "\n",
    "X_train_scalar = scalar.fit_transform(X_train)\n",
    "X_test_scalar = scalar.transform(X_test)\n",
    "\n",
    "lasscalar = Lasso(alpha=20).fit(X_train_scalar,y_train)\n",
    "print('lasso regression linear model coeff:\\n{}'\n",
    "     .format(lasscalar.coef_))\n",
    "\n",
    "print(\"Train Score\", lasscalar.score(X_train_scalar,y_train))\n",
    "print(\"Test Score\", lasscalar.score(X_test_scalar,y_test))"
   ]
  },
  {
   "cell_type": "markdown",
   "metadata": {},
   "source": [
    "#Polynomial Regression\n",
    "x = (x0,x1)  -> generates new features (x0,x1,x1^2,x2^2,x1x2)\n",
    "y = w1x0 + w2x1 + w3x0^2 + w4x1^2 + w5x1x2\n",
    "- captures interactions betweens the features by combining them.\n",
    "- high chance of Overfitting\n",
    "- controls complexity by degree parameter\n",
    "- generally combined with other regression models\n"
   ]
  },
  {
   "cell_type": "code",
   "execution_count": 87,
   "metadata": {},
   "outputs": [
    {
     "name": "stdout",
     "output_type": "stream",
     "text": [
      "Train Score 0.34302066212052595\n",
      "Test Score 0.31084022494017227\n",
      "\n",
      "After Normalization\n",
      "\n",
      "Train Score 0.35027955138533595\n",
      "Test Score 0.3187797098345736\n",
      "\n",
      "After polynomial regression\n",
      "\n",
      "Train Score 0.8257620613919463\n",
      "Test Score 0.8251115209759516\n"
     ]
    }
   ],
   "source": [
    "from sklearn.preprocessing import MinMaxScaler\n",
    "from sklearn.linear_model import Ridge\n",
    "from sklearn.preprocessing import PolynomialFeatures\n",
    "\n",
    "X_train,X_test,y_train,y_test = train_test_split(X_F1, y_F1,random_state=0)\n",
    "rid = Ridge(alpha=20).fit(X_train,y_train)\n",
    "print(\"Train Score\", rid.score(X_train,y_train))\n",
    "print(\"Test Score\", rid.score(X_test,y_test))\n",
    "\n",
    "print(\"\\nAfter Normalization\\n\")\n",
    "scalar = MinMaxScaler()\n",
    "\n",
    "X_train_scalar = scalar.fit_transform(X_train)\n",
    "X_test_scalar = scalar.transform(X_test)\n",
    "\n",
    "ridscalar = Ridge(alpha=20).fit(X_train_scalar,y_train)\n",
    "\n",
    "print(\"Train Score\", ridscalar.score(X_train_scalar,y_train))\n",
    "print(\"Test Score\", ridscalar.score(X_test_scalar,y_test))\n",
    "\n",
    "print(\"\\nAfter polynomial regression\\n\")\n",
    "\n",
    "poly = PolynomialFeatures(degree=2)\n",
    "\n",
    "X_train_poly = poly.fit_transform(X_F1)\n",
    "\n",
    "X_train, X_test, y_train, y_test = train_test_split(X_train_poly, y_F1,\n",
    "                                                   random_state = 0)\n",
    "ridpoly = Ridge().fit(X_train,y_train)\n",
    "\n",
    "print(\"Train Score\", ridpoly.score(X_train,y_train))\n",
    "print(\"Test Score\", ridpoly.score(X_test,y_test))"
   ]
  },
  {
   "cell_type": "markdown",
   "metadata": {},
   "source": [
    "## Logistic Regression"
   ]
  },
  {
   "cell_type": "markdown",
   "metadata": {},
   "source": [
    " - The logistic function transforms real-valued input to an output number y between 0 and 1\n",
    " - it is the logistic function of a linear model\n",
    " - Parameter C controls the amount of regularization (default = 1)\n",
    " - Need to normalize the data \n",
    " - gives a binomial result i.e. positive set and Negative set\n",
    " - penality Parameter - (penality = 'L1' or penality = 'L2)\n",
    " "
   ]
  },
  {
   "cell_type": "code",
   "execution_count": 90,
   "metadata": {},
   "outputs": [
    {
     "name": "stdout",
     "output_type": "stream",
     "text": [
      "Train Score 0.8133333333333334\n",
      "Test Score 0.84\n"
     ]
    }
   ],
   "source": [
    "from sklearn.linear_model import LogisticRegression\n",
    "from sklearn.model_selection import train_test_split\n",
    "\n",
    "X_train,X_test,y_train,y_test = train_test_split(X_C2,y_C2,random_state=0)\n",
    "clf = LogisticRegression(C=10).fit(X_train,y_train)\n",
    "\n",
    "print(\"Train Score\", clf.score(X_train,y_train))\n",
    "print(\"Test Score\", clf.score(X_test,y_test))"
   ]
  },
  {
   "cell_type": "markdown",
   "metadata": {},
   "source": [
    "## Support Vector Machines"
   ]
  },
  {
   "cell_type": "markdown",
   "metadata": {},
   "source": [
    "#liner Classification\n",
    "x -> f -> y\n",
    "f(x,w,b) = sign(w.x + b) - dot product of w and x\n",
    "A linear classifier is a function that maps an input data point x to an output class value y (+1 or -1) using a linear function (with\n",
    "weight parameters w of the input point's features.\n",
    " - Seperates into two class - Positive class and Negative Class\n",
    " - Classifier Margin - the max width of the Decision boundaries before hitting a data point\n",
    "#Linear Support Vector Machine(LSVM)\n",
    "- line classifier with max margin\n",
    "C - Controls the model complexity and Regularization - default - 1\n",
    "Large C - More Regularization - underfitting - simple model\n",
    "Small C - Less Regularization - Overfitting - complex model\n",
    "Alpha - L1 and L2 Regularization - default - 1\n",
    "                                                                                                                                 "
   ]
  },
  {
   "cell_type": "code",
   "execution_count": 93,
   "metadata": {},
   "outputs": [
    {
     "name": "stdout",
     "output_type": "stream",
     "text": [
      "Train Score 0.8\n",
      "Test Score 0.76\n"
     ]
    }
   ],
   "source": [
    "#Support Vector Machines - Classifier\n",
    "from sklearn.svm import SVC\n",
    "from sklearn.model_selection import train_test_split\n",
    "\n",
    "X_train,X_test,y_train,y_test = train_test_split(X_C2,y_C2,random_state=0)\n",
    "\n",
    "svc = SVC(kernel ='linear',C=1).fit(X_train,y_train)\n",
    "\n",
    "print(\"Train Score\", svc.score(X_train,y_train))\n",
    "print(\"Test Score\", svc.score(X_test,y_test))"
   ]
  },
  {
   "cell_type": "code",
   "execution_count": 95,
   "metadata": {},
   "outputs": [
    {
     "name": "stdout",
     "output_type": "stream",
     "text": [
      "Train Score 0.8133333333333334\n",
      "Test Score 0.84\n"
     ]
    }
   ],
   "source": [
    "#Lineat Support Vector Machine - Classifier\n",
    "from sklearn.svm import LinearSVC\n",
    "\n",
    "svclinear = LinearSVC(C=1).fit(X_train,y_train)\n",
    "print(\"Train Score\", svclinear.score(X_train,y_train))\n",
    "print(\"Test Score\", svclinear.score(X_test,y_test))"
   ]
  },
  {
   "cell_type": "markdown",
   "metadata": {},
   "source": [
    "## Kernelized Support Vector Machines"
   ]
  },
  {
   "cell_type": "markdown",
   "metadata": {},
   "source": [
    "#Kernelized Support Vector Machine classifier\n",
    "- More complex problems where a linear classifier cannot predict well\n",
    "- Raising the dimension to next level to fit a linear line - Feature space\n",
    "- x input is raised to (x,x^2) for a singe variable\n",
    "-(x1,x2) => (x1,x2,1-(x1^1 + x2^2))\n",
    " - RBF - Radial Basis Function Kernal - which helps in raising the dimension - control Model Complexity - Kernal Parameter(default)\n",
    " k(x,x1) = exp(gamma . |x-x1|^2)\n",
    "- Gamma controls the Model Complexity - as it increases - overfitting\n",
    "    High Values  - closer data points are considered and points farther to the decision boundary are ignored\n",
    "    Lower Values - points farther to the decision boundaries also play a key role\n",
    " - C value for regularization \n",
    "     Higher Value - Over fitting  - to get all points correct\n",
    "     Medium Value - Larger broader margin for the decision Boundary\n",
    "     Low Value - smooth curve with distinct clusters\n",
    " - Normalization important\n",
    "- need to vary C and gamma for a optimal solution"
   ]
  },
  {
   "cell_type": "code",
   "execution_count": 105,
   "metadata": {},
   "outputs": [
    {
     "name": "stdout",
     "output_type": "stream",
     "text": [
      "Train Score 0.8666666666666667\n",
      "Test Score 0.76\n"
     ]
    }
   ],
   "source": [
    "#KSVM - with RBF default Kernal\n",
    "from sklearn.svm import SVC\n",
    "X_train, X_test, y_train, y_test = train_test_split(X_D2, y_D2, random_state = 0)\n",
    "svc = SVC(gamma = 0.01,c = 10).fit(X_train,y_train)\n",
    "print(\"Train Score\", svc.score(X_train,y_train))\n",
    "print(\"Test Score\", svc.score(X_test,y_test))"
   ]
  },
  {
   "cell_type": "code",
   "execution_count": 106,
   "metadata": {},
   "outputs": [
    {
     "name": "stdout",
     "output_type": "stream",
     "text": [
      "Train Score 0.84\n",
      "Test Score 0.68\n"
     ]
    }
   ],
   "source": [
    "#KSVM - with poly kernal\n",
    "from sklearn.svm import SVC\n",
    "X_train, X_test, y_train, y_test = train_test_split(X_D2, y_D2, random_state = 0)\n",
    "svcpoly = SVC(kernel = 'poly' , degree=3, gamma = 0.01, c=10).fit(X_train,y_train)\n",
    "print(\"Train Score\", svcpoly.score(X_train,y_train))\n",
    "print(\"Test Score\", svcpoly.score(X_test,y_test))"
   ]
  },
  {
   "cell_type": "markdown",
   "metadata": {},
   "source": [
    "## Decision Tree"
   ]
  },
  {
   "cell_type": "markdown",
   "metadata": {},
   "source": [
    "#Decision Tree\n",
    "- Each node answers only about one feature\n",
    "- root node contains the feature which is the major distincvour\n",
    "- leaf nodes - no child nodes\n",
    "    - Pure Node : where it contains a unique catergory of data\n",
    "    - Mixed Nodes: where a mix of data points\n",
    "- each node contains - Value list - contains the number of data points in each category\n",
    "\n",
    "- feature importance -  1 - feature predicts the target , 0 - feature not used in prediction  \n",
    "    - gives idea on the key features used to prediction\n",
    "- No need to Normalize or split\n",
    "- generally tend to overfit\n",
    "- Model Complexity controlled by max_depth, max_leaf_nodes, min_sample_leaf\n",
    "    - Pre-pruning - controlling the overfitting before building the decision tree by max_depth\n",
    "    - Post-prunning - building the Decision tree and removing the decision nodes which doesn't have any impact"
   ]
  },
  {
   "cell_type": "code",
   "execution_count": 114,
   "metadata": {},
   "outputs": [
    {
     "name": "stdout",
     "output_type": "stream",
     "text": [
      "Train Score 0.9821428571428571\n",
      "Test Score 0.9736842105263158\n"
     ]
    }
   ],
   "source": [
    "#decision tree\n",
    "from sklearn.datasets import load_iris\n",
    "from sklearn.tree import DecisionTreeClassifier\n",
    "from sklearn.model_selection import train_test_split\n",
    "\n",
    "iris = load_iris()\n",
    "\n",
    "X_train,X_test,y_train,y_test = train_test_split(iris.data,iris.target,random_state=0)\n",
    "clf = DecisionTreeClassifier(max_depth=3).fit(X_train,y_train)\n",
    "\n",
    "print(\"Train Score\", clf.score(X_train,y_train))\n",
    "print(\"Test Score\", clf.score(X_test,y_test))"
   ]
  },
  {
   "cell_type": "code",
   "execution_count": 116,
   "metadata": {},
   "outputs": [
    {
     "name": "stdout",
     "output_type": "stream",
     "text": [
      "sepal length (cm)  =>  0.0\n",
      "sepal width (cm)  =>  0.0\n",
      "petal length (cm)  =>  0.9440139965008748\n",
      "petal width (cm)  =>  0.05598600349912522\n"
     ]
    }
   ],
   "source": [
    "#feature importance\n",
    "for feature, imp in zip(iris.feature_names,clf.feature_importances_):\n",
    "    print(feature , ' => ', imp)"
   ]
  },
  {
   "cell_type": "markdown",
   "metadata": {},
   "source": [
    "## Model Evalution and Selection"
   ]
  },
  {
   "cell_type": "markdown",
   "metadata": {},
   "source": [
    "Evaluation of Binary classification\n",
    "imbalanced class - majority are negative in a binary classification\n",
    "Dummy classifier - \n",
    "DummyClassifier is a classifier that makes predictions using simple rules, \n",
    "which can be useful as a baseline for comparison against actual classifiers, especially with imbalanced classes.\n",
    "- Ignores input data \n",
    "- always products null matric\n",
    "- not used for classification \n",
    "- used for check if a specific classifier is performing well\n",
    "- takes \"Strategy\" as a parameter\n",
    "    - most_frequent,stratified, uniform,constant - Dummy Classifier\n",
    "    - mean, median, quantile, constant - Dummy Regressor"
   ]
  },
  {
   "cell_type": "code",
   "execution_count": 14,
   "metadata": {},
   "outputs": [
    {
     "name": "stdout",
     "output_type": "stream",
     "text": [
      "0 178\n",
      "1 182\n",
      "2 177\n",
      "3 183\n",
      "4 181\n",
      "5 182\n",
      "6 181\n",
      "7 179\n",
      "8 174\n",
      "9 180\n",
      "[1 2 3 4 5 6 7 8 9 0 1 2 3 4 5 6 7 8 9]\n",
      "[1 0 0 0 0 0 0 0 0 0 1 0 0 0 0 0 0 0 0]\n",
      "[1615  182]\n"
     ]
    }
   ],
   "source": [
    "%matplotlib inline\n",
    "import numpy as np\n",
    "import pandas as pd\n",
    "from sklearn.model_selection import train_test_split\n",
    "from sklearn.datasets import load_digits\n",
    "\n",
    "dataset = load_digits()\n",
    "X, y = dataset.data, dataset.target\n",
    "\n",
    "for class_name, class_count in zip(dataset.target_names,np.bincount(y)):\n",
    "    print(class_name,class_count)\n",
    "\n",
    "y_binary_imbalance = y.copy()\n",
    "y_binary_imbalance[y_binary_imbalance!=1] = 0\n",
    "print(y[1:20])\n",
    "print(y_binary_imbalance[1:20])\n",
    "print(np.bincount(y_binary_imbalance))\n",
    "\n",
    "X_train,X_test,y_train,y_test = train_test_split(X,y_binary_imbalance,random_state=0)"
   ]
  },
  {
   "cell_type": "code",
   "execution_count": 17,
   "metadata": {},
   "outputs": [
    {
     "name": "stdout",
     "output_type": "stream",
     "text": [
      "0.9088888888888889\n"
     ]
    }
   ],
   "source": [
    "#SVC with default kernal\n",
    "\n",
    "from sklearn.svm import SVC\n",
    "\n",
    "svc = SVC(kernel='rbf',C=1).fit(X_train,y_train)\n",
    "print(svc.score(X_test,y_test))"
   ]
  },
  {
   "cell_type": "code",
   "execution_count": 22,
   "metadata": {},
   "outputs": [
    {
     "name": "stdout",
     "output_type": "stream",
     "text": [
      "0.9044444444444445\n",
      "[0 0 0 0 0 0 0 0 0 0 0 0 0 0 0 0 0 0 0 0 0 0 0 0 0 0 0 0 0 0 0 0 0 0 0 0 0\n",
      " 0 0 0 0 0 0 0 0 0 0 0 0 0 0 0 0 0 0 0 0 0 0 0 0 0 0 0 0 0 0 0 0 0 0 0 0 0\n",
      " 0 0 0 0 0 0 0 0 0 0 0 0 0 0 0 0 0 0 0 0 0 0 0 0 0 0 0 0 0 0 0 0 0 0 0 0 0\n",
      " 0 0 0 0 0 0 0 0 0 0 0 0 0 0 0 0 0 0 0 0 0 0 0 0 0 0 0 0 0 0 0 0 0 0 0 0 0\n",
      " 0 0 0 0 0 0 0 0 0 0 0 0 0 0 0 0 0 0 0 0 0 0 0 0 0 0 0 0 0 0 0 0 0 0 0 0 0\n",
      " 0 0 0 0 0 0 0 0 0 0 0 0 0 0 0 0 0 0 0 0 0 0 0 0 0 0 0 0 0 0 0 0 0 0 0 0 0\n",
      " 0 0 0 0 0 0 0 0 0 0 0 0 0 0 0 0 0 0 0 0 0 0 0 0 0 0 0 0 0 0 0 0 0 0 0 0 0\n",
      " 0 0 0 0 0 0 0 0 0 0 0 0 0 0 0 0 0 0 0 0 0 0 0 0 0 0 0 0 0 0 0 0 0 0 0 0 0\n",
      " 0 0 0 0 0 0 0 0 0 0 0 0 0 0 0 0 0 0 0 0 0 0 0 0 0 0 0 0 0 0 0 0 0 0 0 0 0\n",
      " 0 0 0 0 0 0 0 0 0 0 0 0 0 0 0 0 0 0 0 0 0 0 0 0 0 0 0 0 0 0 0 0 0 0 0 0 0\n",
      " 0 0 0 0 0 0 0 0 0 0 0 0 0 0 0 0 0 0 0 0 0 0 0 0 0 0 0 0 0 0 0 0 0 0 0 0 0\n",
      " 0 0 0 0 0 0 0 0 0 0 0 0 0 0 0 0 0 0 0 0 0 0 0 0 0 0 0 0 0 0 0 0 0 0 0 0 0\n",
      " 0 0 0 0 0 0]\n"
     ]
    }
   ],
   "source": [
    "#Dummy Classifier\n",
    "\n",
    "from sklearn.dummy import DummyClassifier\n",
    "\n",
    "dummy = DummyClassifier(strategy = 'most_frequent').fit(X_train,y_train)\n",
    "print(dummy.score(X_test,y_test))\n",
    "print(dummy.predict(X_test))"
   ]
  },
  {
   "cell_type": "code",
   "execution_count": 23,
   "metadata": {},
   "outputs": [
    {
     "name": "stdout",
     "output_type": "stream",
     "text": [
      "0.9777777777777777\n"
     ]
    }
   ],
   "source": [
    "#SVC with linear kernal\n",
    "\n",
    "from sklearn.svm import SVC\n",
    "\n",
    "svc = SVC(kernel='linear',C=1).fit(X_train,y_train)\n",
    "print(svc.score(X_test,y_test))"
   ]
  },
  {
   "cell_type": "markdown",
   "metadata": {},
   "source": [
    "## Confusion Matrix - Evaluation method"
   ]
  },
  {
   "cell_type": "markdown",
   "metadata": {},
   "source": [
    "                 Predict\n",
    "Actual    Negative   Positive\n",
    "Negative     TN         FP\n",
    "Positive     FN         TP\n",
    "\n",
    "Positive Class\n",
    "False Positive - Type I error\n",
    "True Positive \n",
    "\n",
    "Negative Class\n",
    "True Negative \n",
    "False Negative - Type II error\n",
    "\n",
    "TN + TP - Correct Predictions\n",
    "TN + FP + FN + TP - Total instances"
   ]
  },
  {
   "cell_type": "code",
   "execution_count": 41,
   "metadata": {},
   "outputs": [
    {
     "name": "stdout",
     "output_type": "stream",
     "text": [
      "0.9044444444444445\n",
      "[[407   0]\n",
      " [ 43   0]]\n"
     ]
    }
   ],
   "source": [
    "#Evaluating Dummy Classifier with Confusion matrix\n",
    "# Negative class predicted with 407 True Negatives and 43 False Negatives(errors)\n",
    "from sklearn.dummy import DummyClassifier\n",
    "from sklearn.metrics import confusion_matrix\n",
    "\n",
    "dummy = DummyClassifier(strategy='most_frequent').fit(X_train,y_train)\n",
    "dummy_pred = dummy.predict(X_test)\n",
    "print(dummy.score(X_test,y_test))\n",
    "print(confusion_matrix(y_test,dummy.predict(X_test)))"
   ]
  },
  {
   "cell_type": "code",
   "execution_count": 42,
   "metadata": {},
   "outputs": [
    {
     "name": "stdout",
     "output_type": "stream",
     "text": [
      "0.8222222222222222\n",
      "[[375  32]\n",
      " [ 38   5]]\n"
     ]
    }
   ],
   "source": [
    "#Evaluating Dummy Classifier - stratified\n",
    "\n",
    "dummy = DummyClassifier(strategy='stratified').fit(X_train,y_train)\n",
    "dummy_str_pred = dummy.predict(X_test)\n",
    "print(dummy.score(X_test,y_test))\n",
    "print(confusion_matrix(y_test,dummy.predict(X_test)))"
   ]
  },
  {
   "cell_type": "code",
   "execution_count": 43,
   "metadata": {},
   "outputs": [
    {
     "name": "stdout",
     "output_type": "stream",
     "text": [
      "0.9777777777777777\n",
      "[[402   5]\n",
      " [  5  38]]\n"
     ]
    }
   ],
   "source": [
    "#Evaluating Support Vector Classifer with linear kernal\n",
    "from sklearn.svm import SVC\n",
    "\n",
    "svc = SVC(kernel='linear').fit(X_train,y_train)\n",
    "svc_lin_pred = svc.predict(X_test)\n",
    "print(svc.score(X_test,y_test))\n",
    "print(confusion_matrix(y_test,svc.predict(X_test)))"
   ]
  },
  {
   "cell_type": "code",
   "execution_count": 44,
   "metadata": {},
   "outputs": [
    {
     "name": "stdout",
     "output_type": "stream",
     "text": [
      "0.9088888888888889\n",
      "[[407   0]\n",
      " [ 41   2]]\n"
     ]
    }
   ],
   "source": [
    "#Evaluating Support Vector Classifer with radial basis function kernal\n",
    "from sklearn.svm import SVC\n",
    "\n",
    "svc = SVC().fit(X_train,y_train)\n",
    "svc_pred = svc.predict(X_test)\n",
    "print(svc.score(X_test,y_test))\n",
    "print(confusion_matrix(y_test,svc.predict(X_test)))"
   ]
  },
  {
   "cell_type": "code",
   "execution_count": 35,
   "metadata": {},
   "outputs": [
    {
     "name": "stdout",
     "output_type": "stream",
     "text": [
      "0.9466666666666667\n",
      "[[400   7]\n",
      " [ 17  26]]\n"
     ]
    }
   ],
   "source": [
    "#Evaluating Decision Tree\n",
    "from sklearn.tree import DecisionTreeClassifier\n",
    "\n",
    "tree = DecisionTreeClassifier(max_depth = 2).fit(X_train,y_train)\n",
    "tree_pred = tree.predict(X_test)\n",
    "print(tree.score(X_test,y_test))\n",
    "print(confusion_matrix(y_test,tree_pred))"
   ]
  },
  {
   "cell_type": "markdown",
   "metadata": {},
   "source": [
    "## Evaluation Parameters"
   ]
  },
  {
   "cell_type": "markdown",
   "metadata": {},
   "source": [
    "Accuracy = (TN + TP)/(TN + FP + FN + TP)\n",
    "Classification Error = (FP + FN)/(TN +FP + FN + TP) = 1 - Accuracy\n",
    "Recall/Sensitivity/True Positive Rate/Probability of Detection = TP / (TP + FN)\n",
    "Precision = TP / (TP + FP)\n",
    "False Positive Rate = FP / (TN + FP)\n",
    "\n",
    "Recall and Precision trade off \n",
    "- if we are looking for high precision(FP = 0) then there would a reduction in Recall - Precision oriented machine learning(Document Classification)\n",
    "- if we are looking for high recall(FN = 0) then there would be reduction in Precision - Recall oriented machine learning(Cancer Classification)\n",
    "\n",
    "F-Measure/F-beta Measure\n",
    "   - weighted Harmonic mean of Recall and Precision\n",
    "\n",
    "Generalized Version = (1+beta^2)(TP)/((1+beta^2)(TP) + (beta)(FN) + FP)\n",
    "\n",
    "beta - controls the emphasis of recall or precision\n",
    "beta = 0.5 - Precision Oriented\n",
    "     = 2  - Recall oriented\n",
    "     = 1 - F1\n",
    "\n",
    "higher beta - High importance to Recall\n",
    "lower beta - High Importance to Precision\n",
    "\n",
    "\n",
    "F1 Score = 2[(Precision)(Recall)/(Precision + Recall)]\n",
    "         = 2(TP)/(2(TP) + FN + FP)\n"
   ]
  },
  {
   "cell_type": "code",
   "execution_count": 39,
   "metadata": {},
   "outputs": [
    {
     "name": "stdout",
     "output_type": "stream",
     "text": [
      "Accuracy:  0.9466666666666667\n",
      "Precision:  0.7878787878787878\n",
      "Recall:  0.6046511627906976\n",
      "f1 score:  0.6842105263157895\n"
     ]
    }
   ],
   "source": [
    "#Evaluation Parameters for Tree classifier\n",
    "from sklearn.metrics import accuracy_score, precision_score, recall_score, f1_score\n",
    "print(\"Accuracy: \", accuracy_score(y_test,tree_pred))\n",
    "print(\"Precision: \", precision_score(y_test,tree_pred))\n",
    "print(\"Recall: \", recall_score(y_test,tree_pred))\n",
    "print(\"f1 score: \", f1_score(y_test,tree_pred))"
   ]
  },
  {
   "cell_type": "code",
   "execution_count": 40,
   "metadata": {},
   "outputs": [
    {
     "name": "stdout",
     "output_type": "stream",
     "text": [
      "             precision    recall  f1-score   support\n",
      "\n",
      "          0       0.96      0.98      0.97       407\n",
      "          1       0.79      0.60      0.68        43\n",
      "\n",
      "avg / total       0.94      0.95      0.94       450\n",
      "\n"
     ]
    }
   ],
   "source": [
    "#Evaluation parameters in a report\n",
    "\n",
    "from sklearn.metrics import classification_report\n",
    "print(classification_report(y_test,tree_pred))"
   ]
  },
  {
   "cell_type": "code",
   "execution_count": 47,
   "metadata": {},
   "outputs": [
    {
     "name": "stdout",
     "output_type": "stream",
     "text": [
      "Classfication_report Tree \n",
      "              precision    recall  f1-score   support\n",
      "\n",
      "          0       0.96      0.98      0.97       407\n",
      "          1       0.79      0.60      0.68        43\n",
      "\n",
      "avg / total       0.94      0.95      0.94       450\n",
      "\n",
      "Classfication_report dummy \n",
      "              precision    recall  f1-score   support\n",
      "\n",
      "          0       0.90      1.00      0.95       407\n",
      "          1       0.00      0.00      0.00        43\n",
      "\n",
      "avg / total       0.82      0.90      0.86       450\n",
      "\n",
      "Classfication_report dummy stratified model \n",
      "              precision    recall  f1-score   support\n",
      "\n",
      "          0       0.90      0.88      0.89       407\n",
      "          1       0.06      0.07      0.06        43\n",
      "\n",
      "avg / total       0.82      0.81      0.81       450\n",
      "\n",
      "Classfication_report svc \n",
      "              precision    recall  f1-score   support\n",
      "\n",
      "          0       0.91      1.00      0.95       407\n",
      "          1       1.00      0.05      0.09        43\n",
      "\n",
      "avg / total       0.92      0.91      0.87       450\n",
      "\n",
      "Classfication_report svc linear model \n",
      "              precision    recall  f1-score   support\n",
      "\n",
      "          0       0.99      0.99      0.99       407\n",
      "          1       0.88      0.88      0.88        43\n",
      "\n",
      "avg / total       0.98      0.98      0.98       450\n",
      "\n"
     ]
    },
    {
     "name": "stderr",
     "output_type": "stream",
     "text": [
      "C:\\Users\\Upend\\Anaconda3\\lib\\site-packages\\sklearn\\metrics\\classification.py:1135: UndefinedMetricWarning: Precision and F-score are ill-defined and being set to 0.0 in labels with no predicted samples.\n",
      "  'precision', 'predicted', average, warn_for)\n"
     ]
    }
   ],
   "source": [
    "#Evaluation parameters for all models\n",
    "print(\"Classfication_report Tree \\n\", classification_report(y_test,tree_pred))\n",
    "print(\"Classfication_report dummy \\n\", classification_report(y_test,dummy_pred))\n",
    "print(\"Classfication_report dummy stratified model \\n\", classification_report(y_test,dummy_str_pred))\n",
    "print(\"Classfication_report svc \\n\", classification_report(y_test,svc_pred))\n",
    "print(\"Classfication_report svc linear model \\n\", classification_report(y_test,svc_lin_pred))"
   ]
  },
  {
   "cell_type": "markdown",
   "metadata": {},
   "source": [
    "## Uncertainity Estimation"
   ]
  },
  {
   "cell_type": "markdown",
   "metadata": {},
   "source": [
    "#Decision Function - Certainity of the value as per the model\n",
    "- How well the function believes that a particular value will fall in a specific class\n",
    "- Positive values will fall into one category - higher value give higher confidence level\n",
    "- Negative values will fall into second category"
   ]
  },
  {
   "cell_type": "code",
   "execution_count": 52,
   "metadata": {},
   "outputs": [
    {
     "name": "stdout",
     "output_type": "stream",
     "text": [
      "[(0, -11.540750045403932), (0, -13.230104048107385), (0, -21.781715706207045), (0, -22.931391594872046), (0, -12.573945613630052), (1, 4.606778573038106), (0, -19.823130811134227), (0, -22.43962925258679), (0, -25.64359689453604), (0, -17.57621314727023), (0, -12.958510690336446), (0, -24.274004284226997), (0, -8.702543455980866), (0, -6.630907627275654), (0, -6.378607056440181), (1, 9.18827358372696), (0, -23.10558628013532), (0, -15.703164869023134), (0, -16.53454712534451), (0, -19.173260654954014), (0, -17.427448082688237), (0, -17.76586486807755), (0, -9.008978814962823), (0, -26.258422226941228), (0, -17.248703820943796), (0, -17.260289393478637), (0, -29.36172758118598), (0, -21.116695232298888), (0, -20.92057510555869)]\n"
     ]
    }
   ],
   "source": [
    "y_score = SVC(kernel = 'linear').fit(X_train,y_train).decision_function(X_test)\n",
    "print(list(zip(y_test[1:30], y_score[1:30])))"
   ]
  },
  {
   "cell_type": "code",
   "execution_count": 58,
   "metadata": {},
   "outputs": [
    {
     "name": "stdout",
     "output_type": "stream",
     "text": [
      "[(0, 1.0000000994736041e-07), (0, 8.276516460373866e-05), (0, 2.184676502158032e-05), (0, 1.0000000994736041e-07), (0, 1.0000000994736041e-07), (0, 3.664930521540819e-05), (1, 0.9655303837350732), (0, 1.2073541392190305e-07), (0, 1.0000000994736041e-07), (0, 1.0000000994736041e-07), (0, 7.099265159704582e-07), (0, 2.7063553900961767e-05), (0, 1.0000000994736041e-07), (0, 0.0007756955881724562), (0, 0.0039720821262269525), (0, 0.004846109978889872), (1, 0.9999972076031838), (0, 1.0000000994736041e-07), (0, 3.1086624393537004e-06), (0, 1.6139707461216027e-06), (0, 2.015394566629415e-07), (0, 7.982755254326033e-07), (0, 6.113272697136288e-07), (0, 0.0006092053399869341), (0, 1.0000000994736041e-07), (0, 9.190889893107638e-07), (0, 9.107317713110358e-07), (0, 1.0000000994736041e-07), (0, 1.0000000994736041e-07), (0, 1.0000000994736041e-07), (0, 2.254539586300824e-06), (0, 1.0000000994736041e-07), (0, 1.8609871500470505e-05), (0, 6.666103060142919e-05), (0, 2.7422358261586883e-05), (0, 1.2953043253861829e-06), (0, 1.555194211023162e-07), (1, 0.06602180583223714), (0, 1.739776482469616e-07), (1, 0.9999999967650893), (0, 0.03692530017705402), (0, 3.797591389705809e-06), (0, 1.4320140714421793e-07), (0, 1.0000000994736041e-07), (1, 0.3160640571743847), (0, 1.0000000994736041e-07), (0, 1.0000000994736041e-07), (0, 1.4094789359907238e-06), (0, 1.0000000994736041e-07), (1, 0.9924253675187357)]\n"
     ]
    }
   ],
   "source": [
    "#Predict Proba Function\n",
    "# apply only for True probabilities\n",
    "\n",
    "y_score = SVC(kernel='linear',probability=True).fit(X_train,y_train).predict_proba(X_test)\n",
    "print(list(zip(y_test[0:50],y_score[0:50,1])))"
   ]
  },
  {
   "cell_type": "markdown",
   "metadata": {},
   "source": [
    "## Precision-Recall Curve"
   ]
  },
  {
   "cell_type": "markdown",
   "metadata": {},
   "source": [
    "X-axis : Precision\n",
    "Y-axis : Recall\n",
    "Ideal Point - Top Right Corner (Precision = 1, Recall = 1)\n",
    "\n",
    "from sklearn.metrics import precision_recall_curve\n",
    "precision, recall, thresholds = precision_recall_curve(y_test, y_scores_lr)\n"
   ]
  },
  {
   "cell_type": "markdown",
   "metadata": {},
   "source": [
    "## ROC Curve - AUC (Area Under Curve)"
   ]
  },
  {
   "cell_type": "markdown",
   "metadata": {},
   "source": [
    "ROC - Receiving Operating Characteristic Curve\n",
    "X-axis : False Positive Rate\n",
    "Y-axis : True Positive Rate\n",
    "Ideal Point - Top Left Corner (False Positive Rate = 0 and True Positive Rate = 1)\n",
    "Curve is drawn by consider a Threshold value and calculating the False Positive Rate & True Positive Rate at that specific threshold.\n",
    "Area under the ROC - AUC\n",
    "AUC = 0 - worest\n",
    "AUC = 0.5 - bad predicition as positive and negative class predictions are equal\n",
    "AUC = 1 - best\n",
    "\n",
    "\n",
    "from sklearn.metrics import roc_curve, auc\n",
    "y_score_lr = lr.fit(X_train, y_train).decision_function(X_test)\n",
    "fpr_lr, tpr_lr, _ = roc_curve(y_test, y_score_lr)\n",
    "roc_auc_lr = auc(fpr_lr, tpr_lr)"
   ]
  },
  {
   "cell_type": "markdown",
   "metadata": {},
   "source": [
    "## Multi-Class Evaluation"
   ]
  },
  {
   "cell_type": "markdown",
   "metadata": {},
   "source": [
    "Confusion Matrix\n",
    "    - 10 Class will have 10 X 10 Matrix \n",
    "        X-axis - Predicted Digit\n",
    "        Y-axis - True Digit\n",
    "        Values along the diagonal axis from left to right downwards are actual TruePositive and TrueNagative values\n",
    "        Misclassifications are off the diagonal\n",
    "    - Heat map generation\n",
    "Classification Report with average scores by default it is accuracy\n",
    "Macro Average\n",
    "    - each class has equal weights\n",
    "    - Class1_Precision = correct prediction/Total test values of Class1\n",
    "    Macro Average = Class1_Precision + Class2_Precision + ... Classn_Precision / n\n",
    "Micro Average\n",
    "    - each instance has equal weights\n",
    "    - Large class have more influence\n",
    "    - Total number of correct predictions/ Total test values\n",
    "Same number of instances => Micro and Macro Averages are same\n",
    "If Micro average is less than Macro average => Larger class have poor performance metrics\n",
    "We can generate Macro and Micro Average scores for all evaluation models like f1_score,precision_score,recall_score"
   ]
  },
  {
   "cell_type": "code",
   "execution_count": 64,
   "metadata": {},
   "outputs": [
    {
     "name": "stdout",
     "output_type": "stream",
     "text": [
      "             precision    recall  f1-score   support\n",
      "\n",
      "          0       1.00      1.00      1.00        37\n",
      "          1       0.91      0.98      0.94        43\n",
      "          2       0.98      1.00      0.99        44\n",
      "          3       0.98      0.96      0.97        45\n",
      "          4       0.97      1.00      0.99        38\n",
      "          5       0.98      0.98      0.98        48\n",
      "          6       1.00      0.98      0.99        52\n",
      "          7       1.00      0.98      0.99        48\n",
      "          8       0.94      0.92      0.93        48\n",
      "          9       0.96      0.94      0.95        47\n",
      "\n",
      "avg / total       0.97      0.97      0.97       450\n",
      "\n",
      "Macro Average 0.9714311576233408\n",
      "Micro Average 0.9711111111111111\n"
     ]
    },
    {
     "data": {
      "image/png": "[encoded data removed]",
      "text/plain": [
       "<Figure size 432x288 with 2 Axes>"
      ]
     },
     "metadata": {
      "needs_background": "light"
     },
     "output_type": "display_data"
    }
   ],
   "source": [
    "from sklearn.metrics import confusion_matrix\n",
    "from sklearn.svm import SVC\n",
    "from sklearn.datasets import load_digits\n",
    "from sklearn.model_selection import train_test_split\n",
    "from sklearn.metrics import precision_score, classification_report\n",
    "import pandas as pd\n",
    "import matplotlib.pyplot as plt\n",
    "import seaborn as sns\n",
    "%matplotlib inline\n",
    "\n",
    "dataset = load_digits()\n",
    "X,y = dataset.data,dataset.target\n",
    "X_train,X_test,y_train,y_test = train_test_split(X,y,random_state=0)\n",
    "svm = SVC(kernel='linear').fit(X_train,y_train)\n",
    "svm_predict = svm.predict(X_test)\n",
    "cm = confusion_matrix(y_test,svm_predict)\n",
    "data = pd.DataFrame(cm,index=[i for i in range(0,10)],columns=[i for i in range(0,10)])\n",
    "\n",
    "plt.figure()\n",
    "sns.heatmap(data,annot = True)\n",
    "\n",
    "print(classification_report(y_test,svm_predict))\n",
    "print(\"Macro Average\", precision_score(y_test,svm_predict,average='macro'))\n",
    "print(\"Micro Average\", precision_score(y_test,svm_predict,average='micro'))"
   ]
  },
  {
   "cell_type": "markdown",
   "metadata": {},
   "source": [
    "## Regression Evaluation"
   ]
  },
  {
   "cell_type": "markdown",
   "metadata": {},
   "source": [
    "Evaluation metrics\n",
    "R^2 score\n",
    "    - 1 for perfect\n",
    "    - 0 for constant prediction score\n",
    "Mean_absolute_error - L1 norm laws\n",
    "Mean_square_error - L2 norm laws\n",
    "Median_absolute_error - Outliers\n",
    "Dummy regressors - for getting the base line accuracy - R^2 = 0\n",
    "    "
   ]
  },
  {
   "cell_type": "code",
   "execution_count": 67,
   "metadata": {},
   "outputs": [
    {
     "name": "stdout",
     "output_type": "stream",
     "text": [
      "Linear model, coefficients:  [-698.80206267]\n",
      "Mean squared error (dummy): 4965.13\n",
      "Mean squared error (linear model): 4646.74\n",
      "r2_score (dummy): -0.00\n",
      "r2_score (linear model): 0.06\n"
     ]
    },
    {
     "data": {
      "image/png": "[encoded data removed]",
      "text/plain": [
       "<Figure size 432x288 with 1 Axes>"
      ]
     },
     "metadata": {
      "needs_background": "light"
     },
     "output_type": "display_data"
    }
   ],
   "source": [
    "%matplotlib inline\n",
    "import matplotlib.pyplot as plt\n",
    "import numpy as np\n",
    "from sklearn.model_selection import train_test_split\n",
    "from sklearn import datasets\n",
    "from sklearn.linear_model import LinearRegression\n",
    "from sklearn.metrics import mean_squared_error, r2_score\n",
    "from sklearn.dummy import DummyRegressor\n",
    "\n",
    "diabetes = datasets.load_diabetes()\n",
    "\n",
    "X = diabetes.data[:, None, 6]\n",
    "y = diabetes.target\n",
    "\n",
    "X_train, X_test, y_train, y_test = train_test_split(X, y, random_state=0)\n",
    "\n",
    "lm = LinearRegression().fit(X_train, y_train)\n",
    "lm_dummy_mean = DummyRegressor(strategy = 'mean').fit(X_train, y_train)\n",
    "\n",
    "y_predict = lm.predict(X_test)\n",
    "y_predict_dummy_mean = lm_dummy_mean.predict(X_test)\n",
    "\n",
    "print('Linear model, coefficients: ', lm.coef_)\n",
    "print(\"Mean squared error (dummy): {:.2f}\".format(mean_squared_error(y_test, \n",
    "                                                                     y_predict_dummy_mean)))\n",
    "print(\"Mean squared error (linear model): {:.2f}\".format(mean_squared_error(y_test, y_predict)))\n",
    "print(\"r2_score (dummy): {:.2f}\".format(r2_score(y_test, y_predict_dummy_mean)))\n",
    "print(\"r2_score (linear model): {:.2f}\".format(r2_score(y_test, y_predict)))\n",
    "\n",
    "# Plot outputs\n",
    "plt.scatter(X_test, y_test,  color='black')\n",
    "plt.plot(X_test, y_predict, color='green', linewidth=2)\n",
    "plt.plot(X_test, y_predict_dummy_mean, color='red', linestyle = 'dashed', \n",
    "         linewidth=2, label = 'dummy')\n",
    "\n",
    "plt.show()"
   ]
  },
  {
   "cell_type": "markdown",
   "metadata": {},
   "source": [
    "## Model Selection"
   ]
  },
  {
   "cell_type": "code",
   "execution_count": null,
   "metadata": {},
   "outputs": [],
   "source": [
    "Based on Cross_val_score or GridSearchCV - accuracy(default)\n",
    "- other evaluation can be specified in scoring parameter\n",
    "- "
   ]
  },
  {
   "cell_type": "code",
   "execution_count": 68,
   "metadata": {},
   "outputs": [
    {
     "name": "stdout",
     "output_type": "stream",
     "text": [
      "Accuracy [0.91944444 0.98611111 0.97214485 0.97493036 0.96935933]\n",
      "ROC [0.9641871  0.9976571  0.99372205 0.99699002 0.98675611]\n",
      "Recall [0.81081081 0.89189189 0.83333333 0.83333333 0.83333333]\n"
     ]
    }
   ],
   "source": [
    "from sklearn.model_selection import cross_val_score\n",
    "from sklearn.svm import SVC\n",
    "from sklearn.datasets import load_digits\n",
    "\n",
    "dataset = load_digits()\n",
    "X,y = dataset.data,dataset.target == 1\n",
    "clf = SVC(kernel = 'linear',C=1)\n",
    "\n",
    "print(\"Accuracy\", cross_val_score(clf,X,y,cv=5))\n",
    "print(\"ROC\", cross_val_score(clf,X,y,cv=5,scoring = 'roc_auc'))\n",
    "print(\"Recall\", cross_val_score(clf,X,y,cv=5,scoring = 'recall'))\n"
   ]
  },
  {
   "cell_type": "code",
   "execution_count": 74,
   "metadata": {},
   "outputs": [
    {
     "name": "stdout",
     "output_type": "stream",
     "text": [
      "Grid best parameter (max. accuracy):  {'gamma': 0.001}\n",
      "Grid best score (accuracy):  0.9962880475129918\n",
      "Test set AUC:  0.99982858122393\n",
      "Grid best parameter (max. AUC):  {'gamma': 0.001}\n",
      "Grid best score (AUC):  0.9998741278302142\n"
     ]
    }
   ],
   "source": [
    "from sklearn.svm import SVC\n",
    "from sklearn.model_selection import GridSearchCV\n",
    "from sklearn.metrics import roc_auc_score\n",
    "\n",
    "dataset = load_digits()\n",
    "X, y = dataset.data, dataset.target == 1\n",
    "X_train, X_test, y_train, y_test = train_test_split(X, y, random_state=0)\n",
    "\n",
    "clf = SVC(kernel='rbf')\n",
    "grid_values = {'gamma': [0.001, 0.01, 0.05, 0.1, 1, 10, 100]}\n",
    "\n",
    "# default metric to optimize over grid parameters: accuracy\n",
    "grid_clf_acc = GridSearchCV(clf, param_grid = grid_values)\n",
    "grid_clf_acc.fit(X_train, y_train)\n",
    "y_decision_fn_scores_acc = grid_clf_acc.decision_function(X_test) \n",
    "\n",
    "print('Grid best parameter (max. accuracy): ', grid_clf_acc.best_params_)\n",
    "print('Grid best score (accuracy): ', grid_clf_acc.best_score_)\n",
    "\n",
    "# alternative metric to optimize over grid parameters: AUC\n",
    "grid_clf_auc = GridSearchCV(clf, param_grid = grid_values, scoring = 'roc_auc')\n",
    "grid_clf_auc.fit(X_train, y_train)\n",
    "y_decision_fn_scores_auc = grid_clf_auc.decision_function(X_test) \n",
    "\n",
    "print('Test set AUC: ', roc_auc_score(y_test, y_decision_fn_scores_auc))\n",
    "print('Grid best parameter (max. AUC): ', grid_clf_auc.best_params_)\n",
    "print('Grid best score (AUC): ', grid_clf_auc.best_score_)\n"
   ]
  },
  {
   "cell_type": "markdown",
   "metadata": {},
   "source": [
    "Evaluation of Framework\n",
    "\n",
    "Training set(model building)\n",
    "Validation set(model selection)\n",
    "Test set(final evaluation)\n",
    "\n",
    "\n",
    "Learning Curve - impact of Training data on the accurate prediction of the Model   -Cost benefit analysis\n",
    "Sensitive Analysis -  choice of parameters"
   ]
  },
  {
   "cell_type": "markdown",
   "metadata": {},
   "source": [
    "## Naive Bayes Classifier"
   ]
  },
  {
   "cell_type": "code",
   "execution_count": null,
   "metadata": {},
   "outputs": [],
   "source": [
    "- each feature is considered independent\n",
    "- no correlation between the features\n",
    "\n",
    "Naive Bayes\n",
    "    - Bernoulli Navie Bayes Model - binary Feature - word present or not\n",
    "    - Multinomial Navie Bayes Model - discreate Feature - word count\n",
    "    - Gaussian  - Probability distribution"
   ]
  },
  {
   "cell_type": "code",
   "execution_count": 78,
   "metadata": {},
   "outputs": [
    {
     "name": "stdout",
     "output_type": "stream",
     "text": [
      "Gaussian Score 0.84\n"
     ]
    }
   ],
   "source": [
    "# Gaussian Navie Bayes Model\n",
    "# - no parameters to control complexity\n",
    "\n",
    "from sklearn.naive_bayes import GaussianNB\n",
    "\n",
    "X_train,X_test, y_train, y_test = train_test_split(X_C2, y_C2, random_state=0)\n",
    "gbb = GaussianNB().fit(X_train, y_train)\n",
    "print('Gaussian Score', gbb.score(X_test,y_test))"
   ]
  },
  {
   "cell_type": "markdown",
   "metadata": {},
   "source": [
    "## Random Forest"
   ]
  },
  {
   "cell_type": "markdown",
   "metadata": {},
   "source": [
    "Ensemble  - Combining different Models to gain efficiency so as to reduce overfitting\n",
    "Random Forest\n",
    "    - RandomForestClassifier\n",
    "    - RandomForestRegressor\n",
    "Multiple Decision Trees - More stable, Different trees\n",
    "\n",
    "Different Trees are built using \n",
    "    - n_estimator - number of bootstrap copies - random selection of data - bootstrap sample - default 10\n",
    "    - max_features - feature split - so as to allows only few features to be applied in decision tree - Very sensitive\n",
    "        = 1 - more complex trees - to much diversion\n",
    "        = number of features - similar trees \n",
    "    - random_state is important\n",
    "    - max_depth - depth of the tree - None(split until pure node)\n",
    "    - n_jobs - to select the number of cores in CPU\n",
    "        = -1 all cores\n",
    "        \n",
    "Predicts each tree in the random forest\n",
    "    - classificaiton - probability of each class \n",
    "    - Regression - mean of each tree prediction\n",
    "\n",
    "No Need to normalize the data\n",
    "No preprocessing\n",
    "    \n",
    "bootstrap sample \n",
    "- N samples in Training set => N records in bootstrap sample by repeatedly choosing values from the training set randomly\n",
    "- will have repeated values"
   ]
  },
  {
   "cell_type": "code",
   "execution_count": 82,
   "metadata": {},
   "outputs": [
    {
     "name": "stdout",
     "output_type": "stream",
     "text": [
      "Random Sample 0.76\n"
     ]
    }
   ],
   "source": [
    "from sklearn.ensemble import RandomForestClassifier\n",
    "from sklearn.model_selection import train_test_split\n",
    "\n",
    "X_train,X_test,y_train,y_test = train_test_split(X_D2,y_D2,random_state=0)\n",
    "\n",
    "clf = RandomForestClassifier(n_estimators = 10,random_state=0,max_features=2).fit(X_train,y_train)\n",
    "\n",
    "print(\"Random Sample\", clf.score(X_test,y_test))"
   ]
  },
  {
   "cell_type": "markdown",
   "metadata": {},
   "source": [
    "## Gradient Boosted Decision Trees"
   ]
  },
  {
   "cell_type": "code",
   "execution_count": null,
   "metadata": {},
   "outputs": [],
   "source": [
    "Gradient Boosted Trees\n",
    "    - GradientBoostingClassifier\n",
    "    - GradientBoostingRegressor\n",
    "\n",
    "builds series of trees with each tree is build to correct the mistakes of the previous trees\n",
    "small trees - weak learner\n",
    "Not random trees\n",
    "\n",
    "Parameters\n",
    "    - n_estimators - controls Model Complexity - number of trees (default = 100)\n",
    "    - learning_rate - emphasis on the correcting the previous trees - default = 0.1\n",
    "        Higher values - more Complex tree\n",
    "        Lower values - less complex tree\n",
    "    - max_depth (default = 3) - Lesser value preferred\n",
    "    - random_state important\n",
    "\n",
    "No features scaling required\n"
   ]
  },
  {
   "cell_type": "code",
   "execution_count": 84,
   "metadata": {},
   "outputs": [
    {
     "name": "stdout",
     "output_type": "stream",
     "text": [
      "Gradient Boosting 0.8\n"
     ]
    }
   ],
   "source": [
    "from sklearn.ensemble import GradientBoostingClassifier\n",
    "\n",
    "X_train,X_test,y_train,y_test = train_test_split(X_D2,y_D2,random_state=0)\n",
    "gbc = GradientBoostingClassifier(n_estimators = 100, learning_rate=0.01,max_depth=2,random_state=0).fit(X_train,y_train)\n",
    "\n",
    "print(\"Gradient Boosting\", gbc.score(X_test,y_test))"
   ]
  },
  {
   "cell_type": "markdown",
   "metadata": {},
   "source": [
    "## Neural Network"
   ]
  },
  {
   "cell_type": "markdown",
   "metadata": {},
   "source": [
    "Machine Learning -> Neural Network -> Deep Learning\n",
    "\n",
    "Linear Regression -> y = b + w1x1 + w2x2.. + wnxn (w,b - least square/Lasso/Ridge) - linear function\n",
    "Logistic Regression -> y = logistic(b + w1x1 + w2x2.. + wnxn)   - Non Linear function - Binary Classification\n",
    "Multi Layer Preceptron:\n",
    "    Input Features      =>       Hidden Layer       =>   Output\n",
    "    X0,X1,....Xn ---------------> h0,h1....hn  -----------> y\n",
    "                  w00,w01,..wnn                v0,v1,...vn\n",
    "\n",
    "    hi -> Activation function- Non Linear\n",
    "        -  = tanh(w11X0 +....wnnXn) - hyperbolic tangent function (ranges from -1 to 1)\n",
    "        -  Rectified linear unit function (relu) - default (-ve inputs to Zero, max one)\n",
    "    y = v0h0 + v1h1......+ vnhn\n",
    "    \n",
    "Parameters\n",
    "    hidden_layer_sizes - list of Units in the hiddent layer \n",
    "            - model complexity(more layers more complex) \n",
    "            - Single hidden layer - logistic regression\n",
    "            - (default - single hidden layer - 100 units)\n",
    "            - [10,10] - two hidden layers with 10 units each\n",
    "    solver - algorithm to find the weights \n",
    "        - lbfgs - smaller datasets\n",
    "        - adam - larger datasets\n",
    "    alpha = 0.0001 - regularization\n",
    "        small - decision boundaries are complex - overfitting\n",
    "        medium - decision boundaries are smooth - good fit\n",
    "        high - simple model - underfit\n",
    "    activation = tanh/relu/logistic - algorithm for the Neural network\n",
    "    random_state\n",
    "\n",
    "Normalization is important to do."
   ]
  },
  {
   "cell_type": "code",
   "execution_count": 16,
   "metadata": {},
   "outputs": [
    {
     "name": "stdout",
     "output_type": "stream",
     "text": [
      "tanh Neural Network 0.68\n",
      "relu Neural Network 0.68\n"
     ]
    }
   ],
   "source": [
    "from sklearn.neural_network import MLPClassifier\n",
    "from sklearn.model_selection import train_test_split\n",
    "X_train,X_test,y_train,y_test = train_test_split(X_D2,y_D2,random_state=0)\n",
    "\n",
    "nnclf = MLPClassifier(solver='lbfgs',activation='tanh',hidden_layer_sizes=[10],alpha=0.001,random_state=0).fit(X_train,y_train)\n",
    "\n",
    "print('tanh Neural Network', nnclf.score(X_test,y_test))\n",
    "\n",
    "nnclf = MLPClassifier(solver='lbfgs',activation='relu',hidden_layer_sizes=[10],alpha=0.001,random_state=0).fit(X_train,y_train)\n",
    "\n",
    "print('relu Neural Network', nnclf.score(X_test,y_test))\n"
   ]
  },
  {
   "cell_type": "markdown",
   "metadata": {},
   "source": [
    "## Deep Learning"
   ]
  },
  {
   "cell_type": "markdown",
   "metadata": {},
   "source": [
    "- Feature Extract - basic problem - Feature Engineer\n",
    "- Feature learning/Feature Extraction - Deep Learning includes\n",
    "Deep Learning architecture\n",
    "    - Feature Extraction\n",
    "        Convolution - filter for a pattern\n",
    "        subsampling/pooling - translated/rotated version \n",
    "    - Classification\n",
    "\n",
    "sklearn- doesn't support Deep Learning\n",
    "\n",
    "Packages\n",
    "Keras\n",
    "Lasagne\n",
    "\n",
    "Tensor Flow\n",
    "Theano"
   ]
  },
  {
   "cell_type": "markdown",
   "metadata": {},
   "source": [
    "## Data Leakage"
   ]
  },
  {
   "cell_type": "markdown",
   "metadata": {},
   "source": [
    "- Major problem in machine learing\n",
    "- Making the original Target Values for the furture dataset making it available in the training phase\n",
    "    - making the label as a feature of the model\n",
    "    - Gives optimal results for the test data but fails very badly when it is deployed and used for real world data.\n",
    "\n",
    "Problem areas\n",
    "    - Leakage in Training data \n",
    "        - Normalizing/minmax(to remove outliners) on the whole dataset\n",
    "        - Preprocessing of data before training\n",
    "        - Timeseries data\n",
    "    - Leakage in features\n",
    "        - feature having info on the output - Proxy variables\n",
    "Solutions\n",
    "    - Explore the data before building models - high feature weights for predicting\n",
    "    - more optimal values by the model\n",
    "    - limited deploy in slow role\n",
    "    - data preparation in each fold of cross-validation in train and test\n",
    "    - split of test set before working \n",
    "        "
   ]
  },
  {
   "cell_type": "markdown",
   "metadata": {},
   "source": [
    "## Unsupervised Learning"
   ]
  },
  {
   "cell_type": "markdown",
   "metadata": {},
   "source": [
    "- No target Values/labels\n",
    "- capture structures\n",
    "    - Clustering\n",
    "        - Density\n",
    "    - Outliners\n",
    "\n",
    "Methods    \n",
    "- Transformations - Extracts data\n",
    "    - Density Estimation -/8 Provides features for Classifier/Regressor - Probability estimater\n",
    "    - Dimensionality Reduction - PCA \n",
    "    - Manifold\n",
    "        - MDS - Multi Dimensional Scaling\n",
    "        - t-SNE\n",
    "- Clustering"
   ]
  },
  {
   "cell_type": "markdown",
   "metadata": {},
   "source": [
    "## PCA - Principle Component Analysis"
   ]
  },
  {
   "cell_type": "markdown",
   "metadata": {},
   "source": [
    "- Dimensionality Reduction\n",
    "- Maximum Variance\n",
    "- Considers all the features provided and creates new features based on the n_component\n",
    "- the n dimension will represent all the features in the new PCA space\n",
    "- no need to split the data into train and test"
   ]
  },
  {
   "cell_type": "code",
   "execution_count": 12,
   "metadata": {},
   "outputs": [
    {
     "name": "stdout",
     "output_type": "stream",
     "text": [
      "(569, 2)\n",
      "(569, 30)\n"
     ]
    }
   ],
   "source": [
    "from sklearn.decomposition import PCA\n",
    "from sklearn.preprocessing import StandardScaler\n",
    "from sklearn.datasets import load_breast_cancer\n",
    "\n",
    "cancer = load_breast_cancer()\n",
    "X_cancer,y_cancer = cancer.data,cancer.target\n",
    "\n",
    "X_norm = StandardScaler().fit_transform(X_cancer)\n",
    "\n",
    "pca = PCA(n_components = 2).fit(X_norm)\n",
    "\n",
    "print(pca.transform(X_norm).shape)\n",
    "print(X_cancer.shape)"
   ]
  },
  {
   "cell_type": "code",
   "execution_count": 13,
   "metadata": {},
   "outputs": [
    {
     "data": {
      "text/plain": [
       "array([[ 0.21890244,  0.10372458,  0.22753729,  0.22099499,  0.14258969,\n",
       "         0.23928535,  0.25840048,  0.26085376,  0.13816696,  0.06436335,\n",
       "         0.20597878,  0.01742803,  0.21132592,  0.20286964,  0.01453145,\n",
       "         0.17039345,  0.15358979,  0.1834174 ,  0.04249842,  0.10256832,\n",
       "         0.22799663,  0.10446933,  0.23663968,  0.22487053,  0.12795256,\n",
       "         0.21009588,  0.22876753,  0.25088597,  0.12290456,  0.13178394],\n",
       "       [-0.23385713, -0.05970609, -0.21518136, -0.23107671,  0.18611302,\n",
       "         0.15189161,  0.06016536, -0.0347675 ,  0.19034877,  0.36657547,\n",
       "        -0.10555215,  0.08997968, -0.08945723, -0.15229263,  0.20443045,\n",
       "         0.2327159 ,  0.19720728,  0.13032156,  0.183848  ,  0.28009203,\n",
       "        -0.21986638, -0.0454673 , -0.19987843, -0.21935186,  0.17230435,\n",
       "         0.14359317,  0.09796411, -0.00825724,  0.14188335,  0.27533947]])"
      ]
     },
     "execution_count": 13,
     "metadata": {},
     "output_type": "execute_result"
    }
   ],
   "source": [
    "pca.components_"
   ]
  },
  {
   "cell_type": "markdown",
   "metadata": {},
   "source": [
    "## Manifolder"
   ]
  },
  {
   "cell_type": "code",
   "execution_count": null,
   "metadata": {},
   "outputs": [],
   "source": [
    "- low dimensional structure in high dimensional space\n",
    "    - Multidimensional Scaling\n",
    "    - t-SNE"
   ]
  },
  {
   "cell_type": "code",
   "execution_count": 19,
   "metadata": {},
   "outputs": [
    {
     "name": "stderr",
     "output_type": "stream",
     "text": [
      "C:\\Users\\Upend\\Anaconda3\\lib\\site-packages\\sklearn\\preprocessing\\data.py:625: DataConversionWarning: Data with input dtype int64, float64 were all converted to float64 by StandardScaler.\n",
      "  return self.partial_fit(X, y)\n",
      "C:\\Users\\Upend\\Anaconda3\\lib\\site-packages\\sklearn\\base.py:462: DataConversionWarning: Data with input dtype int64, float64 were all converted to float64 by StandardScaler.\n",
      "  return self.fit(X, **fit_params).transform(X)\n"
     ]
    },
    {
     "data": {
      "text/plain": [
       "(59, 2)"
      ]
     },
     "execution_count": 19,
     "metadata": {},
     "output_type": "execute_result"
    }
   ],
   "source": [
    "# Multidimensional scaling \n",
    "\n",
    "from sklearn.preprocessing import StandardScaler\n",
    "from sklearn.manifold import MDS\n",
    "import numpy as np\n",
    "import pandas as pd\n",
    "\n",
    "fruitdatapath = r'C:\\Users\\Upend\\Anaconda3\\MyScripts\\Fruit_Data.txt'\n",
    "\n",
    "fruit_data = pd.read_table(fruitdatapath)\n",
    "X_fruits = fruit_data[['height','width','mass','color_score']]\n",
    "y_fruits = fruit_data['fruit_label']\n",
    "\n",
    "X_stand = StandardScaler().fit_transform(X_fruits)\n",
    "\n",
    "mds = MDS(n_components = 2)\n",
    "\n",
    "mds.fit_transform(X_stand).shape"
   ]
  },
  {
   "cell_type": "code",
   "execution_count": 23,
   "metadata": {},
   "outputs": [
    {
     "data": {
      "text/plain": [
       "(59, 2)"
      ]
     },
     "execution_count": 23,
     "metadata": {},
     "output_type": "execute_result"
    }
   ],
   "source": [
    "# t-SNE \n",
    "#- preserves the distance between two points in original data while transforming into a higher dimension\n",
    "#- works well in clearly defined patterns of neighbours\n",
    "\n",
    "\n",
    "from sklearn.manifold import TSNE\n",
    "\n",
    "tsne = TSNE(n_components=2)\n",
    "tsne.fit_transform(X_stand).shape\n"
   ]
  },
  {
   "cell_type": "markdown",
   "metadata": {},
   "source": [
    "## Clusters"
   ]
  },
  {
   "cell_type": "markdown",
   "metadata": {},
   "source": [
    "- To create clusters without labels or training the data \n",
    "- New points will be mapped to clusters\n",
    "- Methods\n",
    "    - K-mean Clustering\n",
    "    - Agglomerative Clustering\n",
    "    - DBSCAN - Density Based Spatial Clustering of Application with Noise"
   ]
  },
  {
   "cell_type": "markdown",
   "metadata": {},
   "source": [
    "# K-mean Clustering\n",
    "- Step 1: find choose n locations in the space randomly as cluster centers\n",
    "- Steps 2: Calculate mean location of all the points in the cluster and use it as the new cluster center\n",
    "    repeat the above steps\n",
    "- always Normalize\n",
    "- supports predict method"
   ]
  },
  {
   "cell_type": "code",
   "execution_count": 29,
   "metadata": {},
   "outputs": [
    {
     "data": {
      "text/plain": [
       "(59, 4)"
      ]
     },
     "execution_count": 29,
     "metadata": {},
     "output_type": "execute_result"
    }
   ],
   "source": [
    "from sklearn.cluster import KMeans\n",
    "\n",
    "kmeans = KMeans(n_clusters = 4, random_state=0)\n",
    "kmeans.fit_transform(X_stand).shape"
   ]
  },
  {
   "cell_type": "markdown",
   "metadata": {},
   "source": [
    "# Agglomerative Clustering\n",
    "- considers each point as a cluster, then sequence of clusterings are done where two similar clusters are merged\n",
    "- this continues until it meets the stopping condition of number of clusters\n",
    "- iterative bottom up approach\n",
    "- Linkage criteria - how to choose two clusters to merge as one\n",
    "    - Ward's method - least in the total variance - preferred\n",
    "    - Average linkage - smallest average distance between clusters\n",
    "    - Complete Linkage - smallest max distance between clusters\n",
    "- fit_ predit method \n",
    "- Dendrogram - graphical representation of Hierarchical Clustering\n"
   ]
  },
  {
   "cell_type": "code",
   "execution_count": 31,
   "metadata": {},
   "outputs": [],
   "source": [
    "from sklearn.datasets import make_blobs\n",
    "from sklearn.cluster import AgglomerativeClustering\n",
    "\n",
    "X,y = make_blobs(random_state = 10)\n",
    "\n",
    "cls = AgglomerativeClustering(n_clusters = 3)\n",
    "cls_assig = cls.fit_predict(X)"
   ]
  },
  {
   "cell_type": "code",
   "execution_count": 34,
   "metadata": {},
   "outputs": [
    {
     "data": {
      "image/png": "[encoded data removed]",
      "text/plain": [
       "<Figure size 432x288 with 1 Axes>"
      ]
     },
     "metadata": {
      "needs_background": "light"
     },
     "output_type": "display_data"
    }
   ],
   "source": [
    "from scipy.cluster.hierarchy import ward, dendrogram\n",
    "import matplotlib.pyplot as plt\n",
    "%matplotlib inline\n",
    "\n",
    "X,y = make_blobs(random_state = 10, n_samples = 10)\n",
    "\n",
    "plt.figure()\n",
    "dendrogram(ward(X));"
   ]
  },
  {
   "cell_type": "markdown",
   "metadata": {},
   "source": [
    "# DBSCAN Clustering\n",
    "- no need to specify the number of clusters\n",
    "- finds outliers\n",
    "- suitable for more noisy data\n",
    "- clusters in space are dense and with area between two clusters in not dense\n",
    "- core points - dense points \n",
    "- eps units - which specify the distance units from the core points are clustered\n",
    "            - all other points are outliers\n",
    "- points which are eps units but not in core points are all boundary points\n",
    "Parameters\n",
    "    - min_samples\n",
    "    - eps\n",
    "\n",
    "-1 is noise"
   ]
  },
  {
   "cell_type": "code",
   "execution_count": 39,
   "metadata": {},
   "outputs": [
    {
     "data": {
      "text/plain": [
       "array([ 0,  1, -1,  1,  0,  0, -1, -1,  1,  0], dtype=int64)"
      ]
     },
     "execution_count": 39,
     "metadata": {},
     "output_type": "execute_result"
    }
   ],
   "source": [
    "from sklearn.cluster import DBSCAN\n",
    "\n",
    "dbscan = DBSCAN(eps = 2, min_samples = 2)\n",
    "cls = dbscan.fit_predict(X)\n",
    "cls"
   ]
  },
  {
   "cell_type": "markdown",
   "metadata": {},
   "source": [
    "## Cluster Evaluation"
   ]
  },
  {
   "cell_type": "code",
   "execution_count": null,
   "metadata": {},
   "outputs": [],
   "source": [
    "- Very Hard as there is not ground truth\n",
    "- Needs human experise to evaluate"
   ]
  }
 ],
 "metadata": {
  "kernelspec": {
   "display_name": "Python 3",
   "language": "python",
   "name": "python3"
  },
  "language_info": {
   "codemirror_mode": {
    "name": "ipython",
    "version": 3
   },
   "file_extension": ".py",
   "mimetype": "text/x-python",
   "name": "python",
   "nbconvert_exporter": "python",
   "pygments_lexer": "ipython3",
   "version": "3.7.0"
  }
 },
 "nbformat": 4,
 "nbformat_minor": 2
}
