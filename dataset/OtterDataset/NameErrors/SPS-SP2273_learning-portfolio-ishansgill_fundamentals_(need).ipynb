{
 "cells": [
  {
   "attachments": {},
   "cell_type": "markdown",
   "id": "123456",
   "metadata": {},
   "source": [
    "<div style=\"text-align:left;font-size:2em\"><span style=\"font-weight:bolder;font-size:1.25em\">SP2273 | Learning Portfolio</span><br><br><span style=\"font-weight:bold;color:darkred\">Fundamentals (Need)</span></div>"
   ]
  },
  {
   "attachments": {},
   "cell_type": "markdown",
   "id": "6895fa7d",
   "metadata": {},
   "source": [
    "# What to expect in this chapter"
   ]
  },
  {
   "attachments": {},
   "cell_type": "markdown",
   "id": "a5be586c",
   "metadata": {},
   "source": [
    "#  Functions"
   ]
  },
  {
   "cell_type": "code",
   "execution_count": 1,
   "id": "3159e873-e02e-4221-8eae-2fc56601727e",
   "metadata": {},
   "outputs": [
    {
     "name": "stdout",
     "output_type": "stream",
     "text": [
      "Hello world!\n"
     ]
    }
   ],
   "source": [
    "print('Hello world!')"
   ]
  },
  {
   "cell_type": "markdown",
   "id": "e7e52979-a15d-4a00-b675-3d684d46a001",
   "metadata": {},
   "source": [
    "print() is a function, it does a specific task\n",
    "parentheses () always follow a function, they pass arguments to a function. They can be left empty for functions that do not require an argument like exit()\n"
   ]
  },
  {
   "attachments": {},
   "cell_type": "markdown",
   "id": "8bb0e919",
   "metadata": {},
   "source": [
    "#  Python interpreter"
   ]
  },
  {
   "cell_type": "markdown",
   "id": "9500c7c3-1f20-4b67-a516-e0afc6a25f67",
   "metadata": {},
   "source": [
    "Python interpreter works sequentially, one command at a time\n",
    "```python\r",
    "print('Hello World')\r\n",
    "print('Hello World again'))\r\n",
    "`````"
   ]
  },
  {
   "cell_type": "code",
   "execution_count": 2,
   "id": "63fa193c-3714-4a87-9513-f3db5d66f36d",
   "metadata": {},
   "outputs": [
    {
     "name": "stdout",
     "output_type": "stream",
     "text": [
      "Hello World\n",
      "Hello World again\n"
     ]
    }
   ],
   "source": [
    "print('Hello World')\n",
    "print('Hello World again')"
   ]
  },
  {
   "attachments": {},
   "cell_type": "markdown",
   "id": "567f5822",
   "metadata": {},
   "source": [
    "# Python is sensitive."
   ]
  },
  {
   "cell_type": "code",
   "execution_count": 3,
   "id": "b2906a28-61d0-4057-928e-23a6c8f62fdd",
   "metadata": {},
   "outputs": [
    {
     "name": "stdout",
     "output_type": "stream",
     "text": [
      "Hello World\n"
     ]
    },
    {
     "ename": "NameError",
     "evalue": "name 'Print' is not defined",
     "output_type": "error",
     "traceback": [
      "\u001b[1;31m------------------------------------------------------------------\u001b[0m",
      "\u001b[1;31mNameError\u001b[0m                        Traceback (most recent call last)",
      "Cell \u001b[1;32mIn[3], line 2\u001b[0m\n\u001b[0;32m      1\u001b[0m \u001b[38;5;28mprint\u001b[39m(\u001b[38;5;124m'\u001b[39m\u001b[38;5;124mHello World\u001b[39m\u001b[38;5;124m'\u001b[39m)      \u001b[38;5;66;03m# This WILL work\u001b[39;00m\n\u001b[1;32m----> 2\u001b[0m \u001b[43mPrint\u001b[49m(\u001b[38;5;124m'\u001b[39m\u001b[38;5;124mHello World\u001b[39m\u001b[38;5;124m'\u001b[39m)      \u001b[38;5;66;03m# This will NOT work\u001b[39;00m\n",
      "\u001b[1;31mNameError\u001b[0m: name 'Print' is not defined"
     ]
    }
   ],
   "source": [
    "print('Hello World')      # This WILL work\n",
    "Print('Hello World')      # This will NOT work"
   ]
  },
  {
   "attachments": {},
   "cell_type": "markdown",
   "id": "d48b916d",
   "metadata": {},
   "source": [
    "# Comments"
   ]
  },
  {
   "cell_type": "code",
   "execution_count": 4,
   "id": "9a0ed00f-7d92-4b5a-acee-47d4e9ffbc87",
   "metadata": {},
   "outputs": [
    {
     "name": "stdout",
     "output_type": "stream",
     "text": [
      "One\n",
      "Three\n"
     ]
    }
   ],
   "source": [
    "# This is a comment\n",
    "print('One')              # This is a comment.\n",
    "# print('Two')            # The interpreter ignores this line.\n",
    "print('Three')            # This is\n",
    "                          # also a way to\n",
    "                          # write comments"
   ]
  },
  {
   "cell_type": "markdown",
   "id": "2028973d-633a-47d6-8f32-0b68da0d8c8f",
   "metadata": {},
   "source": [
    "- Python ignores all comments.\n",
    "- Anything between the # and the end of the line constitutes a comment.\n",
    "- Try not to have redundant comments which can clutter the code."
   ]
  },
  {
   "attachments": {},
   "cell_type": "markdown",
   "id": "24d98a50",
   "metadata": {},
   "source": [
    "#  = is not the same as =="
   ]
  },
  {
   "cell_type": "code",
   "execution_count": 5,
   "id": "70b4fc09-6198-4544-9c37-2af7532c5478",
   "metadata": {},
   "outputs": [],
   "source": [
    "name = 'Batman'   # Make name carry 'Batman'"
   ]
  },
  {
   "cell_type": "code",
   "execution_count": 6,
   "id": "6d3d4733-b8b0-436a-9055-e760390bdcc8",
   "metadata": {
    "scrolled": true
   },
   "outputs": [
    {
     "data": {
      "text/plain": [
       "True"
      ]
     },
     "execution_count": 6,
     "metadata": {},
     "output_type": "execute_result"
    }
   ],
   "source": [
    "name == 'Batman'  # Tell me if name is equal to 'Batman'?\n",
    "                  # Answer:  True or False"
   ]
  },
  {
   "cell_type": "markdown",
   "id": "96f2ec65-1971-465d-b08d-4e72089cd43c",
   "metadata": {},
   "source": [
    "= assigns a value, == asks a question"
   ]
  },
  {
   "attachments": {},
   "cell_type": "markdown",
   "id": "7ae0805c",
   "metadata": {},
   "source": [
    "# Use if to make decisions"
   ]
  },
  {
   "cell_type": "code",
   "execution_count": 8,
   "id": "bf06c172-e6fb-47c8-a76f-612bdc25f43f",
   "metadata": {},
   "outputs": [
    {
     "name": "stdout",
     "output_type": "stream",
     "text": [
      "Hello Batman!\n"
     ]
    }
   ],
   "source": [
    "name = 'Batman'\n",
    "\n",
    "if name == 'Batman':\n",
    "    print('Hello Batman!') #Things you do when it is true\n",
    "else:\n",
    "    print('Hello World!') #When it is false"
   ]
  },
  {
   "attachments": {},
   "cell_type": "markdown",
   "id": "7472e981",
   "metadata": {},
   "source": [
    "# Indentations are important"
   ]
  },
  {
   "cell_type": "markdown",
   "id": "eaecf11b-3dfa-4129-81ad-002b9f5d04d7",
   "metadata": {},
   "source": [
    "- Do **NOT** indiscriminately add spaces or indentations.\n",
    "- : is used to designate a block of code"
   ]
  },
  {
   "cell_type": "code",
   "execution_count": 11,
   "id": "02f08f25-9ebb-4560-abb5-377a33b419cf",
   "metadata": {},
   "outputs": [
    {
     "name": "stdout",
     "output_type": "stream",
     "text": [
      "10\n"
     ]
    }
   ],
   "source": [
    "x = 10 \n",
    "print(x) #In python this will work"
   ]
  },
  {
   "cell_type": "code",
   "execution_count": 12,
   "id": "bcd97581-b652-423e-b941-a55bc855f318",
   "metadata": {},
   "outputs": [
    {
     "ename": "IndentationError",
     "evalue": "unexpected indent (979804133.py, line 2)",
     "output_type": "error",
     "traceback": [
      "\u001b[1;36m  Cell \u001b[1;32mIn[12], line 2\u001b[1;36m\u001b[0m\n\u001b[1;33m    print(x) #This will not work\u001b[0m\n\u001b[1;37m    ^\u001b[0m\n\u001b[1;31mIndentationError\u001b[0m\u001b[1;31m:\u001b[0m unexpected indent\n"
     ]
    }
   ],
   "source": [
    "x = 10\n",
    " print(x) #This will not work"
   ]
  },
  {
   "attachments": {},
   "cell_type": "markdown",
   "id": "5ce554f7",
   "metadata": {},
   "source": [
    "# 'age' is English, age is a variable"
   ]
  },
  {
   "cell_type": "markdown",
   "id": "39f9d6e4-638b-4c90-bd1e-b472aabad401",
   "metadata": {},
   "source": [
    "Variables are ‘things’ that can hold information. You can give almost any name for a variable. However, it is best to provide a name that describes the data it ‘carries’.\r\n",
    "For example, we can store a student’s age using the variable a = 24. However, it is better to write age = 24. It is even better to write student_age = 24."
   ]
  },
  {
   "cell_type": "code",
   "execution_count": 14,
   "id": "60e5b556-271c-4009-a708-b9791d421068",
   "metadata": {},
   "outputs": [
    {
     "name": "stdout",
     "output_type": "stream",
     "text": [
      "10\n",
      "10\n",
      "age\n"
     ]
    }
   ],
   "source": [
    "age = 10\n",
    "print(age)\n",
    "print(age)       # Print the value of the variable age\n",
    "print(\"age\")     # Print the English word 'age'"
   ]
  },
  {
   "attachments": {},
   "cell_type": "markdown",
   "id": "eb380be8",
   "metadata": {},
   "source": [
    "# Brackets"
   ]
  },
  {
   "cell_type": "markdown",
   "id": "959d395b-6ec1-4403-8934-c4557b925dc2",
   "metadata": {},
   "source": [
    "Python uses all 3 types of brackets"
   ]
  },
  {
   "cell_type": "code",
   "execution_count": 15,
   "id": "cc2b8ba5-c58b-4e4e-9b3e-72aa2a9fe4db",
   "metadata": {},
   "outputs": [
    {
     "name": "stdout",
     "output_type": "stream",
     "text": [
      "Hello!\n"
     ]
    }
   ],
   "source": [
    "print('Hello!')             # In functions"
   ]
  },
  {
   "cell_type": "code",
   "execution_count": 16,
   "id": "e8b93861-4fcd-4d82-ac43-76c8b48ce9cd",
   "metadata": {},
   "outputs": [
    {
     "data": {
      "text/plain": [
       "15"
      ]
     },
     "execution_count": 16,
     "metadata": {},
     "output_type": "execute_result"
    }
   ],
   "source": [
    "(1 + 2) * 5                 # For math"
   ]
  },
  {
   "cell_type": "code",
   "execution_count": 18,
   "id": "efe0fed6-8d36-4d14-904e-7175b357007c",
   "metadata": {},
   "outputs": [],
   "source": [
    "# [] For lists of data\n",
    "py_list = [1, 2, 3, 4, 5]   # A 1D list\n",
    "\n",
    "py_list_2 = [               # A 2D list\n",
    "                [1, \"A\"],      \n",
    "                [2, \"B\"],\n",
    "                [3, \"C\"],\n",
    "                [4, \"D\"],\n",
    "                [5, \"E\"]\n",
    "            ]"
   ]
  },
  {
   "cell_type": "code",
   "execution_count": 19,
   "id": "13892187-bb78-4881-91ba-412ae0227e61",
   "metadata": {},
   "outputs": [],
   "source": [
    "# {} To store data in what is called a dictionary\n",
    "personal_info = {\n",
    "    'Names': 'Batman',\n",
    "    'Real Name': 'Bruce Wayne',\n",
    "    'Age': 55,\n",
    "    'Affiliation': 'Justice League',\n",
    "    'Universe': 'DC'\n",
    "}"
   ]
  },
  {
   "cell_type": "code",
   "execution_count": 20,
   "id": "fc51510e-6ade-48a6-8430-05ee19585567",
   "metadata": {},
   "outputs": [
    {
     "name": "stdout",
     "output_type": "stream",
     "text": [
      "Bruce Wayne\n"
     ]
    }
   ],
   "source": [
    "print(personal_info['Real Name'])    "
   ]
  },
  {
   "cell_type": "code",
   "execution_count": 21,
   "id": "cd3d1e3a-4246-4d4d-8236-2c4985e5e913",
   "metadata": {},
   "outputs": [
    {
     "name": "stdout",
     "output_type": "stream",
     "text": [
      "Justice League\n"
     ]
    }
   ],
   "source": [
    "print(personal_info['Affiliation'])"
   ]
  },
  {
   "attachments": {},
   "cell_type": "markdown",
   "id": "be841497",
   "metadata": {},
   "source": [
    "# Packages"
   ]
  },
  {
   "cell_type": "code",
   "execution_count": 23,
   "id": "682f702b-1a67-4fa7-847b-d3513342c468",
   "metadata": {},
   "outputs": [
    {
     "ename": "NameError",
     "evalue": "name 'sqrt' is not defined",
     "output_type": "error",
     "traceback": [
      "\u001b[1;31m------------------------------------------------------------------\u001b[0m",
      "\u001b[1;31mNameError\u001b[0m                        Traceback (most recent call last)",
      "Cell \u001b[1;32mIn[23], line 1\u001b[0m\n\u001b[1;32m----> 1\u001b[0m \u001b[43msqrt\u001b[49m(\u001b[38;5;241m4\u001b[39m)      \u001b[38;5;66;03m# Will NOT work because \u001b[39;00m\n\u001b[0;32m      2\u001b[0m              \u001b[38;5;66;03m# cannot calcualte square roots\u001b[39;00m\n\u001b[0;32m      3\u001b[0m              \u001b[38;5;66;03m# basic Python is limited\u001b[39;00m\n",
      "\u001b[1;31mNameError\u001b[0m: name 'sqrt' is not defined"
     ]
    }
   ],
   "source": [
    "sqrt(4)      # Will NOT work because \n",
    "             # cannot calcualte square roots\n",
    "             # basic Python is limited\n"
   ]
  },
  {
   "attachments": {},
   "cell_type": "markdown",
   "id": "6cc24701",
   "metadata": {},
   "source": [
    "Importing packages below"
   ]
  },
  {
   "cell_type": "code",
   "execution_count": 24,
   "id": "d409a65f-87c5-48f5-b5ca-38f2501185f5",
   "metadata": {},
   "outputs": [],
   "source": [
    "import math         # Adding(importing) the functions\n",
    "                    # of the 'math' package    "
   ]
  },
  {
   "cell_type": "code",
   "execution_count": 26,
   "id": "15b31b4f-6602-4eef-8ed4-c1807a4fa63e",
   "metadata": {},
   "outputs": [
    {
     "data": {
      "text/plain": [
       "2.0"
      ]
     },
     "execution_count": 26,
     "metadata": {},
     "output_type": "execute_result"
    }
   ],
   "source": [
    "math.sqrt(4) #It works now :)"
   ]
  },
  {
   "cell_type": "code",
   "execution_count": 29,
   "id": "df0e24a9-55c8-4784-90f5-41fef14a0f6e",
   "metadata": {},
   "outputs": [],
   "source": [
    "import numpy as np    # Importing Numpy and giving \n",
    "                      # assign an alias np \n",
    "                      # because I am lazy\n",
    "                      #numpy can handle a list of numbers"
   ]
  },
  {
   "cell_type": "code",
   "execution_count": 28,
   "id": "7df44cc9-58df-4ac3-8838-f2fdf443a1e6",
   "metadata": {},
   "outputs": [
    {
     "data": {
      "text/plain": [
       "2.0"
      ]
     },
     "execution_count": 28,
     "metadata": {},
     "output_type": "execute_result"
    }
   ],
   "source": [
    "np.sqrt(4)"
   ]
  },
  {
   "cell_type": "markdown",
   "id": "564dd02d-169c-439b-b6c9-77e0de59f3fe",
   "metadata": {},
   "source": [
    "Packages only need to be imported once"
   ]
  },
  {
   "attachments": {},
   "cell_type": "markdown",
   "id": "5239267e",
   "metadata": {},
   "source": [
    "# The dot (.)"
   ]
  },
  {
   "cell_type": "code",
   "execution_count": 34,
   "id": "c2eb68d0-db1c-411e-a04e-974bfbac4dbe",
   "metadata": {},
   "outputs": [
    {
     "data": {
      "text/plain": [
       "2.0"
      ]
     },
     "execution_count": 34,
     "metadata": {},
     "output_type": "execute_result"
    }
   ],
   "source": [
    "math.sqrt(4) #Dot is used to indicate ownership and what it can access depends on the context\n",
    "np.sqrt(4)"
   ]
  },
  {
   "cell_type": "code",
   "execution_count": 32,
   "id": "7185e143-7d2a-4775-ab10-054e836665b8",
   "metadata": {},
   "outputs": [
    {
     "data": {
      "text/plain": [
       "'ORANGE'"
      ]
     },
     "execution_count": 32,
     "metadata": {},
     "output_type": "execute_result"
    }
   ],
   "source": [
    "'orange'.upper()"
   ]
  },
  {
   "cell_type": "code",
   "execution_count": 33,
   "id": "24167224-d0c7-48a5-8613-57ddc69f08b5",
   "metadata": {},
   "outputs": [
    {
     "data": {
      "text/plain": [
       "'Banana'"
      ]
     },
     "execution_count": 33,
     "metadata": {},
     "output_type": "execute_result"
    }
   ],
   "source": [
    "'banana'.title()"
   ]
  },
  {
   "cell_type": "code",
   "execution_count": 35,
   "id": "bbd2be23-cfdc-4ff9-984e-d260b7259de0",
   "metadata": {},
   "outputs": [
    {
     "data": {
      "text/plain": [
       "['I', 'am', 'Batman']"
      ]
     },
     "execution_count": 35,
     "metadata": {},
     "output_type": "execute_result"
    }
   ],
   "source": [
    "\"I am Batman\".split()"
   ]
  }
 ],
 "metadata": {
  "kernelspec": {
   "display_name": "Python 3 (ipykernel)",
   "language": "python",
   "name": "python3"
  },
  "language_info": {
   "codemirror_mode": {
    "name": "ipython",
    "version": 3
   },
   "file_extension": ".py",
   "mimetype": "text/x-python",
   "name": "python",
   "nbconvert_exporter": "python",
   "pygments_lexer": "ipython3",
   "version": "3.11.5"
  },
  "toc": {
   "base_numbering": 1,
   "nav_menu": {},
   "number_sections": true,
   "sideBar": true,
   "skip_h1_title": false,
   "title_cell": "Table of Contents",
   "title_sidebar": "Contents",
   "toc_cell": false,
   "toc_position": {},
   "toc_section_display": true,
   "toc_window_display": false
  },
  "vscode": {
   "interpreter": {
    "hash": "31f2aee4e71d21fbe5cf8b01ff0e069b9275f58929596ceb00d14d90e3e16cd6"
   }
  }
 },
 "nbformat": 4,
 "nbformat_minor": 5
}
