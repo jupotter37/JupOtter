{
 "cells": [
  {
   "cell_type": "code",
   "execution_count": 1,
   "metadata": {},
   "outputs": [],
   "source": [
    "from sklearn.base import TransformerMixin, BaseEstimator\n",
    "\n",
    "\n",
    "class LogTransformerr(TransformerMixin, BaseEstimator):\n",
    "    \"\"\"\n",
    "    Log transforming\n",
    "    \"\"\"\n",
    "\n",
    "    def fit(self, X):\n",
    "        return self\n",
    "\n",
    "    def transform(self, X):\n",
    "        return np.log(X + 1)"
   ]
  },
  {
   "cell_type": "code",
   "execution_count": null,
   "metadata": {},
   "outputs": [],
   "source": [
    "from typing import Optional, Union\n",
    "\n",
    "import numpy as np\n",
    "import pandas as pd\n",
    "from sklearn.base import BaseEstimator, TransformerMixin\n",
    "from sklearn.utils.validation import FLOAT_DTYPES\n",
    "\n",
    "ArrayLike = Union[np.ndarray, pd.DataFrame]\n",
    "\n",
    "\n",
    "class CustomLogTransformer(BaseEstimator, TransformerMixin):\n",
    "    \"\"\"\n",
    "    Stupid log transformer to proof a concept\n",
    "    \"\"\"\n",
    "\n",
    "    def __init__(self, copy: bool = True) -> None:\n",
    "        self.copy = copy\n",
    "\n",
    "    def fit(\n",
    "        self, X: ArrayLike, y: Optional[np.ndarray] = None\n",
    "    ) -> \"CustomLogTransformer\":\n",
    "        return self\n",
    "\n",
    "    def transform(\n",
    "        self, X: ArrayLike, y: Optional[np.ndarray] = None, copy: Optional[bool] = None\n",
    "    ):\n",
    "        copy = copy or self.copy\n",
    "        X_new = self._validate_data(\n",
    "            X,\n",
    "            reset=False,\n",
    "            estimator=self,\n",
    "            dtype=FLOAT_DTYPES,\n",
    "            force_all_finite=\"allow-nan\",\n",
    "            copy=copy,\n",
    "        )\n",
    "        X_new -= np.min(X_new, axis=0, keepdims=True)\n",
    "        X_new = np.log1p(X_new)\n",
    "        return X_new\n",
    "\n",
    "    def fit_transform(self, X: ArrayLike, y: Optional[np.ndarray] = None) -> ArrayLike:\n",
    "        return self.fit(X, y).transform(X, y)"
   ]
  },
  {
   "cell_type": "markdown",
   "metadata": {},
   "source": [
    "# Imports"
   ]
  },
  {
   "cell_type": "code",
   "execution_count": 2,
   "metadata": {
    "pycharm": {
     "name": "#%%\n"
    }
   },
   "outputs": [],
   "source": [
    "import os\n",
    "import pandas as pd\n",
    "import numpy as np\n",
    "from tqdm.notebook import tqdm\n",
    "from yaml import load as yaml_load, FullLoader\n",
    "import pickle\n",
    "import sklearn\n",
    "from sklearn.linear_model import LogisticRegressionCV, LogisticRegression, LinearRegression, PassiveAggressiveClassifier\n",
    "from sklearn.model_selection import train_test_split, RandomizedSearchCV, cross_val_score, \\\n",
    "    StratifiedKFold, StratifiedShuffleSplit\n",
    "from sklearn.metrics import roc_auc_score, average_precision_score, f1_score, classification_report, \\\n",
    "    precision_recall_curve, precision_recall_fscore_support, plot_precision_recall_curve, plot_roc_curve, \\\n",
    "    precision_score, recall_score, make_scorer"
   ]
  },
  {
   "cell_type": "code",
   "execution_count": 24,
   "metadata": {},
   "outputs": [],
   "source": [
    "from sklearn.pipeline import Pipeline\n",
    "from sklearn.model_selection import GridSearchCV"
   ]
  },
  {
   "cell_type": "code",
   "execution_count": 4,
   "metadata": {},
   "outputs": [],
   "source": [
    "# import os, sys\n",
    "# path = os.path.abspath(os.path.join('../transformer/'))\n",
    "# sys.path.append(path)"
   ]
  },
  {
   "cell_type": "code",
   "execution_count": 5,
   "metadata": {},
   "outputs": [],
   "source": [
    "from functools import partial\n",
    "from hyperopt import hp, fmin, tpe, Trials, STATUS_OK\n",
    "from hyperopt.pyll import scope\n",
    "\n",
    "import ntpath\n",
    "\n",
    "\n",
    "# random state\n",
    "RS = 42"
   ]
  },
  {
   "cell_type": "markdown",
   "metadata": {},
   "source": [
    "## Preprocessing define"
   ]
  },
  {
   "cell_type": "code",
   "execution_count": 6,
   "metadata": {
    "pycharm": {
     "name": "#%%\n"
    }
   },
   "outputs": [
    {
     "data": {
      "text/plain": [
       "((297, 14), (222, 14), (75, 14))"
      ]
     },
     "execution_count": 6,
     "metadata": {},
     "output_type": "execute_result"
    }
   ],
   "source": [
    "df = pd.read_csv('data/raw/heart_cleveland_upload.csv')\n",
    "df_train, df_oos = train_test_split(df, stratify=df['condition'], test_size=0.25, random_state=42)\n",
    "df.shape, df_train.shape, df_oos.shape"
   ]
  },
  {
   "cell_type": "code",
   "execution_count": 7,
   "metadata": {},
   "outputs": [],
   "source": [
    "df_train.to_csv('data/raw/train.csv', index=False)\n",
    "df_oos.to_csv('data/raw/oos.csv', index=False)"
   ]
  },
  {
   "cell_type": "code",
   "execution_count": 8,
   "metadata": {},
   "outputs": [],
   "source": [
    "X_train, y_train = df_train.drop(columns=['condition']), df_train['condition']"
   ]
  },
  {
   "cell_type": "markdown",
   "metadata": {},
   "source": [
    "## Hyper parameters search"
   ]
  },
  {
   "cell_type": "code",
   "execution_count": 44,
   "metadata": {},
   "outputs": [],
   "source": [
    "def build_model(clf_name, classifiers, r_state):\n",
    "    \"\"\"\n",
    "    Формируем модель с указанными гиперпараметрами \n",
    "    \"\"\" \n",
    "    \n",
    "    if clf_name == 'logreg':\n",
    "        classifier = LogisticRegression(class_weight='balanced',\n",
    "                                        solver='saga',\n",
    "                                        n_jobs=-1,\n",
    "                                        random_state=r_state)\n",
    "        \n",
    "    elif clf_name == 'naive_bayes':\n",
    "        classifier = MultinomialNB()\n",
    "        \n",
    "    else: \n",
    "        raise KeyError('Unknown classifier: {}'.format(clf_name))\n",
    "        \n",
    "    \n",
    "    search_space = classifiers[clf_name]\n",
    "    \n",
    "    model = Pipeline([\n",
    "                            ('log_scaler', LogTransformerr()),\n",
    "                            ('clf', classifier)\n",
    "    ])\n",
    "    \n",
    "    return model, search_space"
   ]
  },
  {
   "cell_type": "code",
   "execution_count": 45,
   "metadata": {},
   "outputs": [],
   "source": [
    "param_range_fl = [1.0, 0.5]\n",
    "\n",
    "logreg_params = [{'clf__penalty': ['l1', 'l2'],\n",
    "                'clf__C': param_range_fl,\n",
    "                'clf__solver': ['liblinear']}] \n"
   ]
  },
  {
   "cell_type": "code",
   "execution_count": 46,
   "metadata": {},
   "outputs": [],
   "source": [
    "naive_bayes_params = {\n",
    "                    'clf__alpha': hp.loguniform('alpha', -4*np.log(10), 2*np.log(10)),\n",
    "                    'clf__fit_prior': [True, False]\n",
    "}"
   ]
  },
  {
   "cell_type": "code",
   "execution_count": 47,
   "metadata": {},
   "outputs": [],
   "source": [
    "classifiers = {'logreg': logreg_params, \n",
    "               'naive_bayes': naive_bayes_params}"
   ]
  },
  {
   "cell_type": "code",
   "execution_count": 48,
   "metadata": {},
   "outputs": [
    {
     "data": {
      "text/plain": [
       "{'logreg': [{'clf__penalty': ['l1', 'l2'],\n",
       "   'clf__C': [1.0, 0.5],\n",
       "   'clf__solver': ['liblinear']}],\n",
       " 'naive_bayes': {'clf__alpha': <hyperopt.pyll.base.Apply at 0x1caf905daf0>,\n",
       "  'clf__fit_prior': [True, False]}}"
      ]
     },
     "execution_count": 48,
     "metadata": {},
     "output_type": "execute_result"
    }
   ],
   "source": [
    "classifiers"
   ]
  },
  {
   "cell_type": "markdown",
   "metadata": {},
   "source": [
    "## logreg"
   ]
  },
  {
   "cell_type": "code",
   "execution_count": 51,
   "metadata": {},
   "outputs": [],
   "source": [
    "SEED=42\n",
    "RS=42"
   ]
  },
  {
   "cell_type": "code",
   "execution_count": 52,
   "metadata": {},
   "outputs": [],
   "source": [
    "model, search_space = build_model('logreg', classifiers, r_state=RS)"
   ]
  },
  {
   "cell_type": "code",
   "execution_count": 54,
   "metadata": {},
   "outputs": [
    {
     "data": {
      "text/plain": [
       "Pipeline(steps=[('log_scaler', LogTransformerr()),\n",
       "                ('clf',\n",
       "                 LogisticRegression(class_weight='balanced', n_jobs=-1,\n",
       "                                    random_state=42, solver='saga'))])"
      ]
     },
     "execution_count": 54,
     "metadata": {},
     "output_type": "execute_result"
    }
   ],
   "source": [
    "model"
   ]
  },
  {
   "cell_type": "code",
   "execution_count": 55,
   "metadata": {},
   "outputs": [],
   "source": [
    "LR = GridSearchCV(estimator=model,\n",
    "            param_grid=search_space,\n",
    "            scoring='accuracy',\n",
    "            cv=10) "
   ]
  },
  {
   "cell_type": "code",
   "execution_count": 58,
   "metadata": {},
   "outputs": [
    {
     "data": {
      "text/plain": [
       "GridSearchCV(cv=10,\n",
       "             estimator=Pipeline(steps=[('log_scaler', LogTransformerr()),\n",
       "                                       ('clf',\n",
       "                                        LogisticRegression(class_weight='balanced',\n",
       "                                                           n_jobs=-1,\n",
       "                                                           random_state=42,\n",
       "                                                           solver='saga'))]),\n",
       "             param_grid=[{'clf__C': [1.0, 0.5], 'clf__penalty': ['l1', 'l2'],\n",
       "                          'clf__solver': ['liblinear']}],\n",
       "             scoring='accuracy')"
      ]
     },
     "execution_count": 58,
     "metadata": {},
     "output_type": "execute_result"
    }
   ],
   "source": [
    "LR"
   ]
  },
  {
   "cell_type": "code",
   "execution_count": 57,
   "metadata": {
    "scrolled": true
   },
   "outputs": [
    {
     "name": "stderr",
     "output_type": "stream",
     "text": [
      "C:\\Users\\Irina\\AppData\\Local\\Continuum\\anaconda3\\envs\\news\\lib\\site-packages\\sklearn\\model_selection\\_validation.py:610: FitFailedWarning: Estimator fit failed. The score on this train-test partition for these parameters will be set to nan. Details: \n",
      "Traceback (most recent call last):\n",
      "  File \"C:\\Users\\Irina\\AppData\\Local\\Continuum\\anaconda3\\envs\\news\\lib\\site-packages\\sklearn\\model_selection\\_validation.py\", line 593, in _fit_and_score\n",
      "    estimator.fit(X_train, y_train, **fit_params)\n",
      "  File \"C:\\Users\\Irina\\AppData\\Local\\Continuum\\anaconda3\\envs\\news\\lib\\site-packages\\sklearn\\pipeline.py\", line 341, in fit\n",
      "    Xt = self._fit(X, y, **fit_params_steps)\n",
      "  File \"C:\\Users\\Irina\\AppData\\Local\\Continuum\\anaconda3\\envs\\news\\lib\\site-packages\\sklearn\\pipeline.py\", line 303, in _fit\n",
      "    X, fitted_transformer = fit_transform_one_cached(\n",
      "  File \"C:\\Users\\Irina\\AppData\\Local\\Continuum\\anaconda3\\envs\\news\\lib\\site-packages\\joblib\\memory.py\", line 352, in __call__\n",
      "    return self.func(*args, **kwargs)\n",
      "  File \"C:\\Users\\Irina\\AppData\\Local\\Continuum\\anaconda3\\envs\\news\\lib\\site-packages\\sklearn\\pipeline.py\", line 754, in _fit_transform_one\n",
      "    res = transformer.fit_transform(X, y, **fit_params)\n",
      "  File \"C:\\Users\\Irina\\AppData\\Local\\Continuum\\anaconda3\\envs\\news\\lib\\site-packages\\sklearn\\base.py\", line 702, in fit_transform\n",
      "    return self.fit(X, y, **fit_params).transform(X)\n",
      "TypeError: fit() takes 2 positional arguments but 3 were given\n",
      "\n",
      "  warnings.warn(\"Estimator fit failed. The score on this train-test\"\n",
      "C:\\Users\\Irina\\AppData\\Local\\Continuum\\anaconda3\\envs\\news\\lib\\site-packages\\sklearn\\model_selection\\_validation.py:610: FitFailedWarning: Estimator fit failed. The score on this train-test partition for these parameters will be set to nan. Details: \n",
      "Traceback (most recent call last):\n",
      "  File \"C:\\Users\\Irina\\AppData\\Local\\Continuum\\anaconda3\\envs\\news\\lib\\site-packages\\sklearn\\model_selection\\_validation.py\", line 593, in _fit_and_score\n",
      "    estimator.fit(X_train, y_train, **fit_params)\n",
      "  File \"C:\\Users\\Irina\\AppData\\Local\\Continuum\\anaconda3\\envs\\news\\lib\\site-packages\\sklearn\\pipeline.py\", line 341, in fit\n",
      "    Xt = self._fit(X, y, **fit_params_steps)\n",
      "  File \"C:\\Users\\Irina\\AppData\\Local\\Continuum\\anaconda3\\envs\\news\\lib\\site-packages\\sklearn\\pipeline.py\", line 303, in _fit\n",
      "    X, fitted_transformer = fit_transform_one_cached(\n",
      "  File \"C:\\Users\\Irina\\AppData\\Local\\Continuum\\anaconda3\\envs\\news\\lib\\site-packages\\joblib\\memory.py\", line 352, in __call__\n",
      "    return self.func(*args, **kwargs)\n",
      "  File \"C:\\Users\\Irina\\AppData\\Local\\Continuum\\anaconda3\\envs\\news\\lib\\site-packages\\sklearn\\pipeline.py\", line 754, in _fit_transform_one\n",
      "    res = transformer.fit_transform(X, y, **fit_params)\n",
      "  File \"C:\\Users\\Irina\\AppData\\Local\\Continuum\\anaconda3\\envs\\news\\lib\\site-packages\\sklearn\\base.py\", line 702, in fit_transform\n",
      "    return self.fit(X, y, **fit_params).transform(X)\n",
      "TypeError: fit() takes 2 positional arguments but 3 were given\n",
      "\n",
      "  warnings.warn(\"Estimator fit failed. The score on this train-test\"\n",
      "C:\\Users\\Irina\\AppData\\Local\\Continuum\\anaconda3\\envs\\news\\lib\\site-packages\\sklearn\\model_selection\\_validation.py:610: FitFailedWarning: Estimator fit failed. The score on this train-test partition for these parameters will be set to nan. Details: \n",
      "Traceback (most recent call last):\n",
      "  File \"C:\\Users\\Irina\\AppData\\Local\\Continuum\\anaconda3\\envs\\news\\lib\\site-packages\\sklearn\\model_selection\\_validation.py\", line 593, in _fit_and_score\n",
      "    estimator.fit(X_train, y_train, **fit_params)\n",
      "  File \"C:\\Users\\Irina\\AppData\\Local\\Continuum\\anaconda3\\envs\\news\\lib\\site-packages\\sklearn\\pipeline.py\", line 341, in fit\n",
      "    Xt = self._fit(X, y, **fit_params_steps)\n",
      "  File \"C:\\Users\\Irina\\AppData\\Local\\Continuum\\anaconda3\\envs\\news\\lib\\site-packages\\sklearn\\pipeline.py\", line 303, in _fit\n",
      "    X, fitted_transformer = fit_transform_one_cached(\n",
      "  File \"C:\\Users\\Irina\\AppData\\Local\\Continuum\\anaconda3\\envs\\news\\lib\\site-packages\\joblib\\memory.py\", line 352, in __call__\n",
      "    return self.func(*args, **kwargs)\n",
      "  File \"C:\\Users\\Irina\\AppData\\Local\\Continuum\\anaconda3\\envs\\news\\lib\\site-packages\\sklearn\\pipeline.py\", line 754, in _fit_transform_one\n",
      "    res = transformer.fit_transform(X, y, **fit_params)\n",
      "  File \"C:\\Users\\Irina\\AppData\\Local\\Continuum\\anaconda3\\envs\\news\\lib\\site-packages\\sklearn\\base.py\", line 702, in fit_transform\n",
      "    return self.fit(X, y, **fit_params).transform(X)\n",
      "TypeError: fit() takes 2 positional arguments but 3 were given\n",
      "\n",
      "  warnings.warn(\"Estimator fit failed. The score on this train-test\"\n",
      "C:\\Users\\Irina\\AppData\\Local\\Continuum\\anaconda3\\envs\\news\\lib\\site-packages\\sklearn\\model_selection\\_validation.py:610: FitFailedWarning: Estimator fit failed. The score on this train-test partition for these parameters will be set to nan. Details: \n",
      "Traceback (most recent call last):\n",
      "  File \"C:\\Users\\Irina\\AppData\\Local\\Continuum\\anaconda3\\envs\\news\\lib\\site-packages\\sklearn\\model_selection\\_validation.py\", line 593, in _fit_and_score\n",
      "    estimator.fit(X_train, y_train, **fit_params)\n",
      "  File \"C:\\Users\\Irina\\AppData\\Local\\Continuum\\anaconda3\\envs\\news\\lib\\site-packages\\sklearn\\pipeline.py\", line 341, in fit\n",
      "    Xt = self._fit(X, y, **fit_params_steps)\n",
      "  File \"C:\\Users\\Irina\\AppData\\Local\\Continuum\\anaconda3\\envs\\news\\lib\\site-packages\\sklearn\\pipeline.py\", line 303, in _fit\n",
      "    X, fitted_transformer = fit_transform_one_cached(\n",
      "  File \"C:\\Users\\Irina\\AppData\\Local\\Continuum\\anaconda3\\envs\\news\\lib\\site-packages\\joblib\\memory.py\", line 352, in __call__\n",
      "    return self.func(*args, **kwargs)\n",
      "  File \"C:\\Users\\Irina\\AppData\\Local\\Continuum\\anaconda3\\envs\\news\\lib\\site-packages\\sklearn\\pipeline.py\", line 754, in _fit_transform_one\n",
      "    res = transformer.fit_transform(X, y, **fit_params)\n",
      "  File \"C:\\Users\\Irina\\AppData\\Local\\Continuum\\anaconda3\\envs\\news\\lib\\site-packages\\sklearn\\base.py\", line 702, in fit_transform\n",
      "    return self.fit(X, y, **fit_params).transform(X)\n",
      "TypeError: fit() takes 2 positional arguments but 3 were given\n",
      "\n",
      "  warnings.warn(\"Estimator fit failed. The score on this train-test\"\n",
      "C:\\Users\\Irina\\AppData\\Local\\Continuum\\anaconda3\\envs\\news\\lib\\site-packages\\sklearn\\model_selection\\_validation.py:610: FitFailedWarning: Estimator fit failed. The score on this train-test partition for these parameters will be set to nan. Details: \n",
      "Traceback (most recent call last):\n",
      "  File \"C:\\Users\\Irina\\AppData\\Local\\Continuum\\anaconda3\\envs\\news\\lib\\site-packages\\sklearn\\model_selection\\_validation.py\", line 593, in _fit_and_score\n",
      "    estimator.fit(X_train, y_train, **fit_params)\n",
      "  File \"C:\\Users\\Irina\\AppData\\Local\\Continuum\\anaconda3\\envs\\news\\lib\\site-packages\\sklearn\\pipeline.py\", line 341, in fit\n",
      "    Xt = self._fit(X, y, **fit_params_steps)\n",
      "  File \"C:\\Users\\Irina\\AppData\\Local\\Continuum\\anaconda3\\envs\\news\\lib\\site-packages\\sklearn\\pipeline.py\", line 303, in _fit\n",
      "    X, fitted_transformer = fit_transform_one_cached(\n",
      "  File \"C:\\Users\\Irina\\AppData\\Local\\Continuum\\anaconda3\\envs\\news\\lib\\site-packages\\joblib\\memory.py\", line 352, in __call__\n",
      "    return self.func(*args, **kwargs)\n",
      "  File \"C:\\Users\\Irina\\AppData\\Local\\Continuum\\anaconda3\\envs\\news\\lib\\site-packages\\sklearn\\pipeline.py\", line 754, in _fit_transform_one\n",
      "    res = transformer.fit_transform(X, y, **fit_params)\n",
      "  File \"C:\\Users\\Irina\\AppData\\Local\\Continuum\\anaconda3\\envs\\news\\lib\\site-packages\\sklearn\\base.py\", line 702, in fit_transform\n",
      "    return self.fit(X, y, **fit_params).transform(X)\n",
      "TypeError: fit() takes 2 positional arguments but 3 were given\n",
      "\n",
      "  warnings.warn(\"Estimator fit failed. The score on this train-test\"\n",
      "C:\\Users\\Irina\\AppData\\Local\\Continuum\\anaconda3\\envs\\news\\lib\\site-packages\\sklearn\\model_selection\\_validation.py:610: FitFailedWarning: Estimator fit failed. The score on this train-test partition for these parameters will be set to nan. Details: \n",
      "Traceback (most recent call last):\n",
      "  File \"C:\\Users\\Irina\\AppData\\Local\\Continuum\\anaconda3\\envs\\news\\lib\\site-packages\\sklearn\\model_selection\\_validation.py\", line 593, in _fit_and_score\n",
      "    estimator.fit(X_train, y_train, **fit_params)\n",
      "  File \"C:\\Users\\Irina\\AppData\\Local\\Continuum\\anaconda3\\envs\\news\\lib\\site-packages\\sklearn\\pipeline.py\", line 341, in fit\n",
      "    Xt = self._fit(X, y, **fit_params_steps)\n",
      "  File \"C:\\Users\\Irina\\AppData\\Local\\Continuum\\anaconda3\\envs\\news\\lib\\site-packages\\sklearn\\pipeline.py\", line 303, in _fit\n",
      "    X, fitted_transformer = fit_transform_one_cached(\n",
      "  File \"C:\\Users\\Irina\\AppData\\Local\\Continuum\\anaconda3\\envs\\news\\lib\\site-packages\\joblib\\memory.py\", line 352, in __call__\n",
      "    return self.func(*args, **kwargs)\n",
      "  File \"C:\\Users\\Irina\\AppData\\Local\\Continuum\\anaconda3\\envs\\news\\lib\\site-packages\\sklearn\\pipeline.py\", line 754, in _fit_transform_one\n",
      "    res = transformer.fit_transform(X, y, **fit_params)\n",
      "  File \"C:\\Users\\Irina\\AppData\\Local\\Continuum\\anaconda3\\envs\\news\\lib\\site-packages\\sklearn\\base.py\", line 702, in fit_transform\n",
      "    return self.fit(X, y, **fit_params).transform(X)\n",
      "TypeError: fit() takes 2 positional arguments but 3 were given\n",
      "\n",
      "  warnings.warn(\"Estimator fit failed. The score on this train-test\"\n",
      "C:\\Users\\Irina\\AppData\\Local\\Continuum\\anaconda3\\envs\\news\\lib\\site-packages\\sklearn\\model_selection\\_validation.py:610: FitFailedWarning: Estimator fit failed. The score on this train-test partition for these parameters will be set to nan. Details: \n",
      "Traceback (most recent call last):\n",
      "  File \"C:\\Users\\Irina\\AppData\\Local\\Continuum\\anaconda3\\envs\\news\\lib\\site-packages\\sklearn\\model_selection\\_validation.py\", line 593, in _fit_and_score\n",
      "    estimator.fit(X_train, y_train, **fit_params)\n",
      "  File \"C:\\Users\\Irina\\AppData\\Local\\Continuum\\anaconda3\\envs\\news\\lib\\site-packages\\sklearn\\pipeline.py\", line 341, in fit\n",
      "    Xt = self._fit(X, y, **fit_params_steps)\n",
      "  File \"C:\\Users\\Irina\\AppData\\Local\\Continuum\\anaconda3\\envs\\news\\lib\\site-packages\\sklearn\\pipeline.py\", line 303, in _fit\n",
      "    X, fitted_transformer = fit_transform_one_cached(\n",
      "  File \"C:\\Users\\Irina\\AppData\\Local\\Continuum\\anaconda3\\envs\\news\\lib\\site-packages\\joblib\\memory.py\", line 352, in __call__\n",
      "    return self.func(*args, **kwargs)\n",
      "  File \"C:\\Users\\Irina\\AppData\\Local\\Continuum\\anaconda3\\envs\\news\\lib\\site-packages\\sklearn\\pipeline.py\", line 754, in _fit_transform_one\n",
      "    res = transformer.fit_transform(X, y, **fit_params)\n",
      "  File \"C:\\Users\\Irina\\AppData\\Local\\Continuum\\anaconda3\\envs\\news\\lib\\site-packages\\sklearn\\base.py\", line 702, in fit_transform\n",
      "    return self.fit(X, y, **fit_params).transform(X)\n",
      "TypeError: fit() takes 2 positional arguments but 3 were given\n",
      "\n",
      "  warnings.warn(\"Estimator fit failed. The score on this train-test\"\n",
      "C:\\Users\\Irina\\AppData\\Local\\Continuum\\anaconda3\\envs\\news\\lib\\site-packages\\sklearn\\model_selection\\_validation.py:610: FitFailedWarning: Estimator fit failed. The score on this train-test partition for these parameters will be set to nan. Details: \n",
      "Traceback (most recent call last):\n",
      "  File \"C:\\Users\\Irina\\AppData\\Local\\Continuum\\anaconda3\\envs\\news\\lib\\site-packages\\sklearn\\model_selection\\_validation.py\", line 593, in _fit_and_score\n",
      "    estimator.fit(X_train, y_train, **fit_params)\n",
      "  File \"C:\\Users\\Irina\\AppData\\Local\\Continuum\\anaconda3\\envs\\news\\lib\\site-packages\\sklearn\\pipeline.py\", line 341, in fit\n",
      "    Xt = self._fit(X, y, **fit_params_steps)\n",
      "  File \"C:\\Users\\Irina\\AppData\\Local\\Continuum\\anaconda3\\envs\\news\\lib\\site-packages\\sklearn\\pipeline.py\", line 303, in _fit\n",
      "    X, fitted_transformer = fit_transform_one_cached(\n",
      "  File \"C:\\Users\\Irina\\AppData\\Local\\Continuum\\anaconda3\\envs\\news\\lib\\site-packages\\joblib\\memory.py\", line 352, in __call__\n",
      "    return self.func(*args, **kwargs)\n",
      "  File \"C:\\Users\\Irina\\AppData\\Local\\Continuum\\anaconda3\\envs\\news\\lib\\site-packages\\sklearn\\pipeline.py\", line 754, in _fit_transform_one\n",
      "    res = transformer.fit_transform(X, y, **fit_params)\n",
      "  File \"C:\\Users\\Irina\\AppData\\Local\\Continuum\\anaconda3\\envs\\news\\lib\\site-packages\\sklearn\\base.py\", line 702, in fit_transform\n",
      "    return self.fit(X, y, **fit_params).transform(X)\n",
      "TypeError: fit() takes 2 positional arguments but 3 were given\n",
      "\n",
      "  warnings.warn(\"Estimator fit failed. The score on this train-test\"\n",
      "C:\\Users\\Irina\\AppData\\Local\\Continuum\\anaconda3\\envs\\news\\lib\\site-packages\\sklearn\\model_selection\\_validation.py:610: FitFailedWarning: Estimator fit failed. The score on this train-test partition for these parameters will be set to nan. Details: \n",
      "Traceback (most recent call last):\n",
      "  File \"C:\\Users\\Irina\\AppData\\Local\\Continuum\\anaconda3\\envs\\news\\lib\\site-packages\\sklearn\\model_selection\\_validation.py\", line 593, in _fit_and_score\n",
      "    estimator.fit(X_train, y_train, **fit_params)\n",
      "  File \"C:\\Users\\Irina\\AppData\\Local\\Continuum\\anaconda3\\envs\\news\\lib\\site-packages\\sklearn\\pipeline.py\", line 341, in fit\n",
      "    Xt = self._fit(X, y, **fit_params_steps)\n",
      "  File \"C:\\Users\\Irina\\AppData\\Local\\Continuum\\anaconda3\\envs\\news\\lib\\site-packages\\sklearn\\pipeline.py\", line 303, in _fit\n",
      "    X, fitted_transformer = fit_transform_one_cached(\n",
      "  File \"C:\\Users\\Irina\\AppData\\Local\\Continuum\\anaconda3\\envs\\news\\lib\\site-packages\\joblib\\memory.py\", line 352, in __call__\n",
      "    return self.func(*args, **kwargs)\n",
      "  File \"C:\\Users\\Irina\\AppData\\Local\\Continuum\\anaconda3\\envs\\news\\lib\\site-packages\\sklearn\\pipeline.py\", line 754, in _fit_transform_one\n",
      "    res = transformer.fit_transform(X, y, **fit_params)\n",
      "  File \"C:\\Users\\Irina\\AppData\\Local\\Continuum\\anaconda3\\envs\\news\\lib\\site-packages\\sklearn\\base.py\", line 702, in fit_transform\n",
      "    return self.fit(X, y, **fit_params).transform(X)\n",
      "TypeError: fit() takes 2 positional arguments but 3 were given\n",
      "\n",
      "  warnings.warn(\"Estimator fit failed. The score on this train-test\"\n",
      "C:\\Users\\Irina\\AppData\\Local\\Continuum\\anaconda3\\envs\\news\\lib\\site-packages\\sklearn\\model_selection\\_validation.py:610: FitFailedWarning: Estimator fit failed. The score on this train-test partition for these parameters will be set to nan. Details: \n",
      "Traceback (most recent call last):\n",
      "  File \"C:\\Users\\Irina\\AppData\\Local\\Continuum\\anaconda3\\envs\\news\\lib\\site-packages\\sklearn\\model_selection\\_validation.py\", line 593, in _fit_and_score\n",
      "    estimator.fit(X_train, y_train, **fit_params)\n",
      "  File \"C:\\Users\\Irina\\AppData\\Local\\Continuum\\anaconda3\\envs\\news\\lib\\site-packages\\sklearn\\pipeline.py\", line 341, in fit\n",
      "    Xt = self._fit(X, y, **fit_params_steps)\n",
      "  File \"C:\\Users\\Irina\\AppData\\Local\\Continuum\\anaconda3\\envs\\news\\lib\\site-packages\\sklearn\\pipeline.py\", line 303, in _fit\n",
      "    X, fitted_transformer = fit_transform_one_cached(\n",
      "  File \"C:\\Users\\Irina\\AppData\\Local\\Continuum\\anaconda3\\envs\\news\\lib\\site-packages\\joblib\\memory.py\", line 352, in __call__\n",
      "    return self.func(*args, **kwargs)\n",
      "  File \"C:\\Users\\Irina\\AppData\\Local\\Continuum\\anaconda3\\envs\\news\\lib\\site-packages\\sklearn\\pipeline.py\", line 754, in _fit_transform_one\n",
      "    res = transformer.fit_transform(X, y, **fit_params)\n",
      "  File \"C:\\Users\\Irina\\AppData\\Local\\Continuum\\anaconda3\\envs\\news\\lib\\site-packages\\sklearn\\base.py\", line 702, in fit_transform\n",
      "    return self.fit(X, y, **fit_params).transform(X)\n",
      "TypeError: fit() takes 2 positional arguments but 3 were given\n",
      "\n",
      "  warnings.warn(\"Estimator fit failed. The score on this train-test\"\n",
      "C:\\Users\\Irina\\AppData\\Local\\Continuum\\anaconda3\\envs\\news\\lib\\site-packages\\sklearn\\model_selection\\_validation.py:610: FitFailedWarning: Estimator fit failed. The score on this train-test partition for these parameters will be set to nan. Details: \n",
      "Traceback (most recent call last):\n",
      "  File \"C:\\Users\\Irina\\AppData\\Local\\Continuum\\anaconda3\\envs\\news\\lib\\site-packages\\sklearn\\model_selection\\_validation.py\", line 593, in _fit_and_score\n",
      "    estimator.fit(X_train, y_train, **fit_params)\n",
      "  File \"C:\\Users\\Irina\\AppData\\Local\\Continuum\\anaconda3\\envs\\news\\lib\\site-packages\\sklearn\\pipeline.py\", line 341, in fit\n",
      "    Xt = self._fit(X, y, **fit_params_steps)\n",
      "  File \"C:\\Users\\Irina\\AppData\\Local\\Continuum\\anaconda3\\envs\\news\\lib\\site-packages\\sklearn\\pipeline.py\", line 303, in _fit\n",
      "    X, fitted_transformer = fit_transform_one_cached(\n",
      "  File \"C:\\Users\\Irina\\AppData\\Local\\Continuum\\anaconda3\\envs\\news\\lib\\site-packages\\joblib\\memory.py\", line 352, in __call__\n",
      "    return self.func(*args, **kwargs)\n",
      "  File \"C:\\Users\\Irina\\AppData\\Local\\Continuum\\anaconda3\\envs\\news\\lib\\site-packages\\sklearn\\pipeline.py\", line 754, in _fit_transform_one\n",
      "    res = transformer.fit_transform(X, y, **fit_params)\n",
      "  File \"C:\\Users\\Irina\\AppData\\Local\\Continuum\\anaconda3\\envs\\news\\lib\\site-packages\\sklearn\\base.py\", line 702, in fit_transform\n",
      "    return self.fit(X, y, **fit_params).transform(X)\n",
      "TypeError: fit() takes 2 positional arguments but 3 were given\n",
      "\n",
      "  warnings.warn(\"Estimator fit failed. The score on this train-test\"\n",
      "C:\\Users\\Irina\\AppData\\Local\\Continuum\\anaconda3\\envs\\news\\lib\\site-packages\\sklearn\\model_selection\\_validation.py:610: FitFailedWarning: Estimator fit failed. The score on this train-test partition for these parameters will be set to nan. Details: \n",
      "Traceback (most recent call last):\n",
      "  File \"C:\\Users\\Irina\\AppData\\Local\\Continuum\\anaconda3\\envs\\news\\lib\\site-packages\\sklearn\\model_selection\\_validation.py\", line 593, in _fit_and_score\n",
      "    estimator.fit(X_train, y_train, **fit_params)\n",
      "  File \"C:\\Users\\Irina\\AppData\\Local\\Continuum\\anaconda3\\envs\\news\\lib\\site-packages\\sklearn\\pipeline.py\", line 341, in fit\n",
      "    Xt = self._fit(X, y, **fit_params_steps)\n",
      "  File \"C:\\Users\\Irina\\AppData\\Local\\Continuum\\anaconda3\\envs\\news\\lib\\site-packages\\sklearn\\pipeline.py\", line 303, in _fit\n",
      "    X, fitted_transformer = fit_transform_one_cached(\n",
      "  File \"C:\\Users\\Irina\\AppData\\Local\\Continuum\\anaconda3\\envs\\news\\lib\\site-packages\\joblib\\memory.py\", line 352, in __call__\n",
      "    return self.func(*args, **kwargs)\n",
      "  File \"C:\\Users\\Irina\\AppData\\Local\\Continuum\\anaconda3\\envs\\news\\lib\\site-packages\\sklearn\\pipeline.py\", line 754, in _fit_transform_one\n",
      "    res = transformer.fit_transform(X, y, **fit_params)\n",
      "  File \"C:\\Users\\Irina\\AppData\\Local\\Continuum\\anaconda3\\envs\\news\\lib\\site-packages\\sklearn\\base.py\", line 702, in fit_transform\n",
      "    return self.fit(X, y, **fit_params).transform(X)\n",
      "TypeError: fit() takes 2 positional arguments but 3 were given\n",
      "\n",
      "  warnings.warn(\"Estimator fit failed. The score on this train-test\"\n",
      "C:\\Users\\Irina\\AppData\\Local\\Continuum\\anaconda3\\envs\\news\\lib\\site-packages\\sklearn\\model_selection\\_validation.py:610: FitFailedWarning: Estimator fit failed. The score on this train-test partition for these parameters will be set to nan. Details: \n",
      "Traceback (most recent call last):\n",
      "  File \"C:\\Users\\Irina\\AppData\\Local\\Continuum\\anaconda3\\envs\\news\\lib\\site-packages\\sklearn\\model_selection\\_validation.py\", line 593, in _fit_and_score\n",
      "    estimator.fit(X_train, y_train, **fit_params)\n",
      "  File \"C:\\Users\\Irina\\AppData\\Local\\Continuum\\anaconda3\\envs\\news\\lib\\site-packages\\sklearn\\pipeline.py\", line 341, in fit\n",
      "    Xt = self._fit(X, y, **fit_params_steps)\n",
      "  File \"C:\\Users\\Irina\\AppData\\Local\\Continuum\\anaconda3\\envs\\news\\lib\\site-packages\\sklearn\\pipeline.py\", line 303, in _fit\n",
      "    X, fitted_transformer = fit_transform_one_cached(\n",
      "  File \"C:\\Users\\Irina\\AppData\\Local\\Continuum\\anaconda3\\envs\\news\\lib\\site-packages\\joblib\\memory.py\", line 352, in __call__\n",
      "    return self.func(*args, **kwargs)\n",
      "  File \"C:\\Users\\Irina\\AppData\\Local\\Continuum\\anaconda3\\envs\\news\\lib\\site-packages\\sklearn\\pipeline.py\", line 754, in _fit_transform_one\n",
      "    res = transformer.fit_transform(X, y, **fit_params)\n",
      "  File \"C:\\Users\\Irina\\AppData\\Local\\Continuum\\anaconda3\\envs\\news\\lib\\site-packages\\sklearn\\base.py\", line 702, in fit_transform\n",
      "    return self.fit(X, y, **fit_params).transform(X)\n",
      "TypeError: fit() takes 2 positional arguments but 3 were given\n",
      "\n",
      "  warnings.warn(\"Estimator fit failed. The score on this train-test\"\n",
      "C:\\Users\\Irina\\AppData\\Local\\Continuum\\anaconda3\\envs\\news\\lib\\site-packages\\sklearn\\model_selection\\_validation.py:610: FitFailedWarning: Estimator fit failed. The score on this train-test partition for these parameters will be set to nan. Details: \n",
      "Traceback (most recent call last):\n",
      "  File \"C:\\Users\\Irina\\AppData\\Local\\Continuum\\anaconda3\\envs\\news\\lib\\site-packages\\sklearn\\model_selection\\_validation.py\", line 593, in _fit_and_score\n",
      "    estimator.fit(X_train, y_train, **fit_params)\n",
      "  File \"C:\\Users\\Irina\\AppData\\Local\\Continuum\\anaconda3\\envs\\news\\lib\\site-packages\\sklearn\\pipeline.py\", line 341, in fit\n",
      "    Xt = self._fit(X, y, **fit_params_steps)\n",
      "  File \"C:\\Users\\Irina\\AppData\\Local\\Continuum\\anaconda3\\envs\\news\\lib\\site-packages\\sklearn\\pipeline.py\", line 303, in _fit\n",
      "    X, fitted_transformer = fit_transform_one_cached(\n",
      "  File \"C:\\Users\\Irina\\AppData\\Local\\Continuum\\anaconda3\\envs\\news\\lib\\site-packages\\joblib\\memory.py\", line 352, in __call__\n",
      "    return self.func(*args, **kwargs)\n",
      "  File \"C:\\Users\\Irina\\AppData\\Local\\Continuum\\anaconda3\\envs\\news\\lib\\site-packages\\sklearn\\pipeline.py\", line 754, in _fit_transform_one\n",
      "    res = transformer.fit_transform(X, y, **fit_params)\n",
      "  File \"C:\\Users\\Irina\\AppData\\Local\\Continuum\\anaconda3\\envs\\news\\lib\\site-packages\\sklearn\\base.py\", line 702, in fit_transform\n",
      "    return self.fit(X, y, **fit_params).transform(X)\n",
      "TypeError: fit() takes 2 positional arguments but 3 were given\n",
      "\n",
      "  warnings.warn(\"Estimator fit failed. The score on this train-test\"\n",
      "C:\\Users\\Irina\\AppData\\Local\\Continuum\\anaconda3\\envs\\news\\lib\\site-packages\\sklearn\\model_selection\\_validation.py:610: FitFailedWarning: Estimator fit failed. The score on this train-test partition for these parameters will be set to nan. Details: \n",
      "Traceback (most recent call last):\n",
      "  File \"C:\\Users\\Irina\\AppData\\Local\\Continuum\\anaconda3\\envs\\news\\lib\\site-packages\\sklearn\\model_selection\\_validation.py\", line 593, in _fit_and_score\n",
      "    estimator.fit(X_train, y_train, **fit_params)\n",
      "  File \"C:\\Users\\Irina\\AppData\\Local\\Continuum\\anaconda3\\envs\\news\\lib\\site-packages\\sklearn\\pipeline.py\", line 341, in fit\n",
      "    Xt = self._fit(X, y, **fit_params_steps)\n",
      "  File \"C:\\Users\\Irina\\AppData\\Local\\Continuum\\anaconda3\\envs\\news\\lib\\site-packages\\sklearn\\pipeline.py\", line 303, in _fit\n",
      "    X, fitted_transformer = fit_transform_one_cached(\n",
      "  File \"C:\\Users\\Irina\\AppData\\Local\\Continuum\\anaconda3\\envs\\news\\lib\\site-packages\\joblib\\memory.py\", line 352, in __call__\n",
      "    return self.func(*args, **kwargs)\n",
      "  File \"C:\\Users\\Irina\\AppData\\Local\\Continuum\\anaconda3\\envs\\news\\lib\\site-packages\\sklearn\\pipeline.py\", line 754, in _fit_transform_one\n",
      "    res = transformer.fit_transform(X, y, **fit_params)\n",
      "  File \"C:\\Users\\Irina\\AppData\\Local\\Continuum\\anaconda3\\envs\\news\\lib\\site-packages\\sklearn\\base.py\", line 702, in fit_transform\n",
      "    return self.fit(X, y, **fit_params).transform(X)\n",
      "TypeError: fit() takes 2 positional arguments but 3 were given\n",
      "\n",
      "  warnings.warn(\"Estimator fit failed. The score on this train-test\"\n",
      "C:\\Users\\Irina\\AppData\\Local\\Continuum\\anaconda3\\envs\\news\\lib\\site-packages\\sklearn\\model_selection\\_validation.py:610: FitFailedWarning: Estimator fit failed. The score on this train-test partition for these parameters will be set to nan. Details: \n",
      "Traceback (most recent call last):\n",
      "  File \"C:\\Users\\Irina\\AppData\\Local\\Continuum\\anaconda3\\envs\\news\\lib\\site-packages\\sklearn\\model_selection\\_validation.py\", line 593, in _fit_and_score\n",
      "    estimator.fit(X_train, y_train, **fit_params)\n",
      "  File \"C:\\Users\\Irina\\AppData\\Local\\Continuum\\anaconda3\\envs\\news\\lib\\site-packages\\sklearn\\pipeline.py\", line 341, in fit\n",
      "    Xt = self._fit(X, y, **fit_params_steps)\n",
      "  File \"C:\\Users\\Irina\\AppData\\Local\\Continuum\\anaconda3\\envs\\news\\lib\\site-packages\\sklearn\\pipeline.py\", line 303, in _fit\n",
      "    X, fitted_transformer = fit_transform_one_cached(\n",
      "  File \"C:\\Users\\Irina\\AppData\\Local\\Continuum\\anaconda3\\envs\\news\\lib\\site-packages\\joblib\\memory.py\", line 352, in __call__\n",
      "    return self.func(*args, **kwargs)\n",
      "  File \"C:\\Users\\Irina\\AppData\\Local\\Continuum\\anaconda3\\envs\\news\\lib\\site-packages\\sklearn\\pipeline.py\", line 754, in _fit_transform_one\n",
      "    res = transformer.fit_transform(X, y, **fit_params)\n",
      "  File \"C:\\Users\\Irina\\AppData\\Local\\Continuum\\anaconda3\\envs\\news\\lib\\site-packages\\sklearn\\base.py\", line 702, in fit_transform\n",
      "    return self.fit(X, y, **fit_params).transform(X)\n",
      "TypeError: fit() takes 2 positional arguments but 3 were given\n",
      "\n",
      "  warnings.warn(\"Estimator fit failed. The score on this train-test\"\n",
      "C:\\Users\\Irina\\AppData\\Local\\Continuum\\anaconda3\\envs\\news\\lib\\site-packages\\sklearn\\model_selection\\_validation.py:610: FitFailedWarning: Estimator fit failed. The score on this train-test partition for these parameters will be set to nan. Details: \n",
      "Traceback (most recent call last):\n",
      "  File \"C:\\Users\\Irina\\AppData\\Local\\Continuum\\anaconda3\\envs\\news\\lib\\site-packages\\sklearn\\model_selection\\_validation.py\", line 593, in _fit_and_score\n",
      "    estimator.fit(X_train, y_train, **fit_params)\n",
      "  File \"C:\\Users\\Irina\\AppData\\Local\\Continuum\\anaconda3\\envs\\news\\lib\\site-packages\\sklearn\\pipeline.py\", line 341, in fit\n",
      "    Xt = self._fit(X, y, **fit_params_steps)\n",
      "  File \"C:\\Users\\Irina\\AppData\\Local\\Continuum\\anaconda3\\envs\\news\\lib\\site-packages\\sklearn\\pipeline.py\", line 303, in _fit\n",
      "    X, fitted_transformer = fit_transform_one_cached(\n",
      "  File \"C:\\Users\\Irina\\AppData\\Local\\Continuum\\anaconda3\\envs\\news\\lib\\site-packages\\joblib\\memory.py\", line 352, in __call__\n",
      "    return self.func(*args, **kwargs)\n",
      "  File \"C:\\Users\\Irina\\AppData\\Local\\Continuum\\anaconda3\\envs\\news\\lib\\site-packages\\sklearn\\pipeline.py\", line 754, in _fit_transform_one\n",
      "    res = transformer.fit_transform(X, y, **fit_params)\n",
      "  File \"C:\\Users\\Irina\\AppData\\Local\\Continuum\\anaconda3\\envs\\news\\lib\\site-packages\\sklearn\\base.py\", line 702, in fit_transform\n",
      "    return self.fit(X, y, **fit_params).transform(X)\n",
      "TypeError: fit() takes 2 positional arguments but 3 were given\n",
      "\n",
      "  warnings.warn(\"Estimator fit failed. The score on this train-test\"\n",
      "C:\\Users\\Irina\\AppData\\Local\\Continuum\\anaconda3\\envs\\news\\lib\\site-packages\\sklearn\\model_selection\\_validation.py:610: FitFailedWarning: Estimator fit failed. The score on this train-test partition for these parameters will be set to nan. Details: \n",
      "Traceback (most recent call last):\n",
      "  File \"C:\\Users\\Irina\\AppData\\Local\\Continuum\\anaconda3\\envs\\news\\lib\\site-packages\\sklearn\\model_selection\\_validation.py\", line 593, in _fit_and_score\n",
      "    estimator.fit(X_train, y_train, **fit_params)\n",
      "  File \"C:\\Users\\Irina\\AppData\\Local\\Continuum\\anaconda3\\envs\\news\\lib\\site-packages\\sklearn\\pipeline.py\", line 341, in fit\n",
      "    Xt = self._fit(X, y, **fit_params_steps)\n",
      "  File \"C:\\Users\\Irina\\AppData\\Local\\Continuum\\anaconda3\\envs\\news\\lib\\site-packages\\sklearn\\pipeline.py\", line 303, in _fit\n",
      "    X, fitted_transformer = fit_transform_one_cached(\n",
      "  File \"C:\\Users\\Irina\\AppData\\Local\\Continuum\\anaconda3\\envs\\news\\lib\\site-packages\\joblib\\memory.py\", line 352, in __call__\n",
      "    return self.func(*args, **kwargs)\n",
      "  File \"C:\\Users\\Irina\\AppData\\Local\\Continuum\\anaconda3\\envs\\news\\lib\\site-packages\\sklearn\\pipeline.py\", line 754, in _fit_transform_one\n",
      "    res = transformer.fit_transform(X, y, **fit_params)\n",
      "  File \"C:\\Users\\Irina\\AppData\\Local\\Continuum\\anaconda3\\envs\\news\\lib\\site-packages\\sklearn\\base.py\", line 702, in fit_transform\n",
      "    return self.fit(X, y, **fit_params).transform(X)\n",
      "TypeError: fit() takes 2 positional arguments but 3 were given\n",
      "\n",
      "  warnings.warn(\"Estimator fit failed. The score on this train-test\"\n",
      "C:\\Users\\Irina\\AppData\\Local\\Continuum\\anaconda3\\envs\\news\\lib\\site-packages\\sklearn\\model_selection\\_validation.py:610: FitFailedWarning: Estimator fit failed. The score on this train-test partition for these parameters will be set to nan. Details: \n",
      "Traceback (most recent call last):\n",
      "  File \"C:\\Users\\Irina\\AppData\\Local\\Continuum\\anaconda3\\envs\\news\\lib\\site-packages\\sklearn\\model_selection\\_validation.py\", line 593, in _fit_and_score\n",
      "    estimator.fit(X_train, y_train, **fit_params)\n",
      "  File \"C:\\Users\\Irina\\AppData\\Local\\Continuum\\anaconda3\\envs\\news\\lib\\site-packages\\sklearn\\pipeline.py\", line 341, in fit\n",
      "    Xt = self._fit(X, y, **fit_params_steps)\n",
      "  File \"C:\\Users\\Irina\\AppData\\Local\\Continuum\\anaconda3\\envs\\news\\lib\\site-packages\\sklearn\\pipeline.py\", line 303, in _fit\n",
      "    X, fitted_transformer = fit_transform_one_cached(\n",
      "  File \"C:\\Users\\Irina\\AppData\\Local\\Continuum\\anaconda3\\envs\\news\\lib\\site-packages\\joblib\\memory.py\", line 352, in __call__\n",
      "    return self.func(*args, **kwargs)\n",
      "  File \"C:\\Users\\Irina\\AppData\\Local\\Continuum\\anaconda3\\envs\\news\\lib\\site-packages\\sklearn\\pipeline.py\", line 754, in _fit_transform_one\n",
      "    res = transformer.fit_transform(X, y, **fit_params)\n",
      "  File \"C:\\Users\\Irina\\AppData\\Local\\Continuum\\anaconda3\\envs\\news\\lib\\site-packages\\sklearn\\base.py\", line 702, in fit_transform\n",
      "    return self.fit(X, y, **fit_params).transform(X)\n",
      "TypeError: fit() takes 2 positional arguments but 3 were given\n",
      "\n",
      "  warnings.warn(\"Estimator fit failed. The score on this train-test\"\n",
      "C:\\Users\\Irina\\AppData\\Local\\Continuum\\anaconda3\\envs\\news\\lib\\site-packages\\sklearn\\model_selection\\_validation.py:610: FitFailedWarning: Estimator fit failed. The score on this train-test partition for these parameters will be set to nan. Details: \n",
      "Traceback (most recent call last):\n",
      "  File \"C:\\Users\\Irina\\AppData\\Local\\Continuum\\anaconda3\\envs\\news\\lib\\site-packages\\sklearn\\model_selection\\_validation.py\", line 593, in _fit_and_score\n",
      "    estimator.fit(X_train, y_train, **fit_params)\n",
      "  File \"C:\\Users\\Irina\\AppData\\Local\\Continuum\\anaconda3\\envs\\news\\lib\\site-packages\\sklearn\\pipeline.py\", line 341, in fit\n",
      "    Xt = self._fit(X, y, **fit_params_steps)\n",
      "  File \"C:\\Users\\Irina\\AppData\\Local\\Continuum\\anaconda3\\envs\\news\\lib\\site-packages\\sklearn\\pipeline.py\", line 303, in _fit\n",
      "    X, fitted_transformer = fit_transform_one_cached(\n",
      "  File \"C:\\Users\\Irina\\AppData\\Local\\Continuum\\anaconda3\\envs\\news\\lib\\site-packages\\joblib\\memory.py\", line 352, in __call__\n",
      "    return self.func(*args, **kwargs)\n",
      "  File \"C:\\Users\\Irina\\AppData\\Local\\Continuum\\anaconda3\\envs\\news\\lib\\site-packages\\sklearn\\pipeline.py\", line 754, in _fit_transform_one\n",
      "    res = transformer.fit_transform(X, y, **fit_params)\n",
      "  File \"C:\\Users\\Irina\\AppData\\Local\\Continuum\\anaconda3\\envs\\news\\lib\\site-packages\\sklearn\\base.py\", line 702, in fit_transform\n",
      "    return self.fit(X, y, **fit_params).transform(X)\n",
      "TypeError: fit() takes 2 positional arguments but 3 were given\n",
      "\n",
      "  warnings.warn(\"Estimator fit failed. The score on this train-test\"\n",
      "C:\\Users\\Irina\\AppData\\Local\\Continuum\\anaconda3\\envs\\news\\lib\\site-packages\\sklearn\\model_selection\\_validation.py:610: FitFailedWarning: Estimator fit failed. The score on this train-test partition for these parameters will be set to nan. Details: \n",
      "Traceback (most recent call last):\n",
      "  File \"C:\\Users\\Irina\\AppData\\Local\\Continuum\\anaconda3\\envs\\news\\lib\\site-packages\\sklearn\\model_selection\\_validation.py\", line 593, in _fit_and_score\n",
      "    estimator.fit(X_train, y_train, **fit_params)\n",
      "  File \"C:\\Users\\Irina\\AppData\\Local\\Continuum\\anaconda3\\envs\\news\\lib\\site-packages\\sklearn\\pipeline.py\", line 341, in fit\n",
      "    Xt = self._fit(X, y, **fit_params_steps)\n",
      "  File \"C:\\Users\\Irina\\AppData\\Local\\Continuum\\anaconda3\\envs\\news\\lib\\site-packages\\sklearn\\pipeline.py\", line 303, in _fit\n",
      "    X, fitted_transformer = fit_transform_one_cached(\n",
      "  File \"C:\\Users\\Irina\\AppData\\Local\\Continuum\\anaconda3\\envs\\news\\lib\\site-packages\\joblib\\memory.py\", line 352, in __call__\n",
      "    return self.func(*args, **kwargs)\n",
      "  File \"C:\\Users\\Irina\\AppData\\Local\\Continuum\\anaconda3\\envs\\news\\lib\\site-packages\\sklearn\\pipeline.py\", line 754, in _fit_transform_one\n",
      "    res = transformer.fit_transform(X, y, **fit_params)\n",
      "  File \"C:\\Users\\Irina\\AppData\\Local\\Continuum\\anaconda3\\envs\\news\\lib\\site-packages\\sklearn\\base.py\", line 702, in fit_transform\n",
      "    return self.fit(X, y, **fit_params).transform(X)\n",
      "TypeError: fit() takes 2 positional arguments but 3 were given\n",
      "\n",
      "  warnings.warn(\"Estimator fit failed. The score on this train-test\"\n",
      "C:\\Users\\Irina\\AppData\\Local\\Continuum\\anaconda3\\envs\\news\\lib\\site-packages\\sklearn\\model_selection\\_validation.py:610: FitFailedWarning: Estimator fit failed. The score on this train-test partition for these parameters will be set to nan. Details: \n",
      "Traceback (most recent call last):\n",
      "  File \"C:\\Users\\Irina\\AppData\\Local\\Continuum\\anaconda3\\envs\\news\\lib\\site-packages\\sklearn\\model_selection\\_validation.py\", line 593, in _fit_and_score\n",
      "    estimator.fit(X_train, y_train, **fit_params)\n",
      "  File \"C:\\Users\\Irina\\AppData\\Local\\Continuum\\anaconda3\\envs\\news\\lib\\site-packages\\sklearn\\pipeline.py\", line 341, in fit\n",
      "    Xt = self._fit(X, y, **fit_params_steps)\n",
      "  File \"C:\\Users\\Irina\\AppData\\Local\\Continuum\\anaconda3\\envs\\news\\lib\\site-packages\\sklearn\\pipeline.py\", line 303, in _fit\n",
      "    X, fitted_transformer = fit_transform_one_cached(\n",
      "  File \"C:\\Users\\Irina\\AppData\\Local\\Continuum\\anaconda3\\envs\\news\\lib\\site-packages\\joblib\\memory.py\", line 352, in __call__\n",
      "    return self.func(*args, **kwargs)\n",
      "  File \"C:\\Users\\Irina\\AppData\\Local\\Continuum\\anaconda3\\envs\\news\\lib\\site-packages\\sklearn\\pipeline.py\", line 754, in _fit_transform_one\n",
      "    res = transformer.fit_transform(X, y, **fit_params)\n",
      "  File \"C:\\Users\\Irina\\AppData\\Local\\Continuum\\anaconda3\\envs\\news\\lib\\site-packages\\sklearn\\base.py\", line 702, in fit_transform\n",
      "    return self.fit(X, y, **fit_params).transform(X)\n",
      "TypeError: fit() takes 2 positional arguments but 3 were given\n",
      "\n",
      "  warnings.warn(\"Estimator fit failed. The score on this train-test\"\n",
      "C:\\Users\\Irina\\AppData\\Local\\Continuum\\anaconda3\\envs\\news\\lib\\site-packages\\sklearn\\model_selection\\_validation.py:610: FitFailedWarning: Estimator fit failed. The score on this train-test partition for these parameters will be set to nan. Details: \n",
      "Traceback (most recent call last):\n",
      "  File \"C:\\Users\\Irina\\AppData\\Local\\Continuum\\anaconda3\\envs\\news\\lib\\site-packages\\sklearn\\model_selection\\_validation.py\", line 593, in _fit_and_score\n",
      "    estimator.fit(X_train, y_train, **fit_params)\n",
      "  File \"C:\\Users\\Irina\\AppData\\Local\\Continuum\\anaconda3\\envs\\news\\lib\\site-packages\\sklearn\\pipeline.py\", line 341, in fit\n",
      "    Xt = self._fit(X, y, **fit_params_steps)\n",
      "  File \"C:\\Users\\Irina\\AppData\\Local\\Continuum\\anaconda3\\envs\\news\\lib\\site-packages\\sklearn\\pipeline.py\", line 303, in _fit\n",
      "    X, fitted_transformer = fit_transform_one_cached(\n",
      "  File \"C:\\Users\\Irina\\AppData\\Local\\Continuum\\anaconda3\\envs\\news\\lib\\site-packages\\joblib\\memory.py\", line 352, in __call__\n",
      "    return self.func(*args, **kwargs)\n",
      "  File \"C:\\Users\\Irina\\AppData\\Local\\Continuum\\anaconda3\\envs\\news\\lib\\site-packages\\sklearn\\pipeline.py\", line 754, in _fit_transform_one\n",
      "    res = transformer.fit_transform(X, y, **fit_params)\n",
      "  File \"C:\\Users\\Irina\\AppData\\Local\\Continuum\\anaconda3\\envs\\news\\lib\\site-packages\\sklearn\\base.py\", line 702, in fit_transform\n",
      "    return self.fit(X, y, **fit_params).transform(X)\n",
      "TypeError: fit() takes 2 positional arguments but 3 were given\n",
      "\n",
      "  warnings.warn(\"Estimator fit failed. The score on this train-test\"\n",
      "C:\\Users\\Irina\\AppData\\Local\\Continuum\\anaconda3\\envs\\news\\lib\\site-packages\\sklearn\\model_selection\\_validation.py:610: FitFailedWarning: Estimator fit failed. The score on this train-test partition for these parameters will be set to nan. Details: \n",
      "Traceback (most recent call last):\n",
      "  File \"C:\\Users\\Irina\\AppData\\Local\\Continuum\\anaconda3\\envs\\news\\lib\\site-packages\\sklearn\\model_selection\\_validation.py\", line 593, in _fit_and_score\n",
      "    estimator.fit(X_train, y_train, **fit_params)\n",
      "  File \"C:\\Users\\Irina\\AppData\\Local\\Continuum\\anaconda3\\envs\\news\\lib\\site-packages\\sklearn\\pipeline.py\", line 341, in fit\n",
      "    Xt = self._fit(X, y, **fit_params_steps)\n",
      "  File \"C:\\Users\\Irina\\AppData\\Local\\Continuum\\anaconda3\\envs\\news\\lib\\site-packages\\sklearn\\pipeline.py\", line 303, in _fit\n",
      "    X, fitted_transformer = fit_transform_one_cached(\n",
      "  File \"C:\\Users\\Irina\\AppData\\Local\\Continuum\\anaconda3\\envs\\news\\lib\\site-packages\\joblib\\memory.py\", line 352, in __call__\n",
      "    return self.func(*args, **kwargs)\n",
      "  File \"C:\\Users\\Irina\\AppData\\Local\\Continuum\\anaconda3\\envs\\news\\lib\\site-packages\\sklearn\\pipeline.py\", line 754, in _fit_transform_one\n",
      "    res = transformer.fit_transform(X, y, **fit_params)\n",
      "  File \"C:\\Users\\Irina\\AppData\\Local\\Continuum\\anaconda3\\envs\\news\\lib\\site-packages\\sklearn\\base.py\", line 702, in fit_transform\n",
      "    return self.fit(X, y, **fit_params).transform(X)\n",
      "TypeError: fit() takes 2 positional arguments but 3 were given\n",
      "\n",
      "  warnings.warn(\"Estimator fit failed. The score on this train-test\"\n",
      "C:\\Users\\Irina\\AppData\\Local\\Continuum\\anaconda3\\envs\\news\\lib\\site-packages\\sklearn\\model_selection\\_validation.py:610: FitFailedWarning: Estimator fit failed. The score on this train-test partition for these parameters will be set to nan. Details: \n",
      "Traceback (most recent call last):\n",
      "  File \"C:\\Users\\Irina\\AppData\\Local\\Continuum\\anaconda3\\envs\\news\\lib\\site-packages\\sklearn\\model_selection\\_validation.py\", line 593, in _fit_and_score\n",
      "    estimator.fit(X_train, y_train, **fit_params)\n",
      "  File \"C:\\Users\\Irina\\AppData\\Local\\Continuum\\anaconda3\\envs\\news\\lib\\site-packages\\sklearn\\pipeline.py\", line 341, in fit\n",
      "    Xt = self._fit(X, y, **fit_params_steps)\n",
      "  File \"C:\\Users\\Irina\\AppData\\Local\\Continuum\\anaconda3\\envs\\news\\lib\\site-packages\\sklearn\\pipeline.py\", line 303, in _fit\n",
      "    X, fitted_transformer = fit_transform_one_cached(\n",
      "  File \"C:\\Users\\Irina\\AppData\\Local\\Continuum\\anaconda3\\envs\\news\\lib\\site-packages\\joblib\\memory.py\", line 352, in __call__\n",
      "    return self.func(*args, **kwargs)\n",
      "  File \"C:\\Users\\Irina\\AppData\\Local\\Continuum\\anaconda3\\envs\\news\\lib\\site-packages\\sklearn\\pipeline.py\", line 754, in _fit_transform_one\n",
      "    res = transformer.fit_transform(X, y, **fit_params)\n",
      "  File \"C:\\Users\\Irina\\AppData\\Local\\Continuum\\anaconda3\\envs\\news\\lib\\site-packages\\sklearn\\base.py\", line 702, in fit_transform\n",
      "    return self.fit(X, y, **fit_params).transform(X)\n",
      "TypeError: fit() takes 2 positional arguments but 3 were given\n",
      "\n",
      "  warnings.warn(\"Estimator fit failed. The score on this train-test\"\n",
      "C:\\Users\\Irina\\AppData\\Local\\Continuum\\anaconda3\\envs\\news\\lib\\site-packages\\sklearn\\model_selection\\_validation.py:610: FitFailedWarning: Estimator fit failed. The score on this train-test partition for these parameters will be set to nan. Details: \n",
      "Traceback (most recent call last):\n",
      "  File \"C:\\Users\\Irina\\AppData\\Local\\Continuum\\anaconda3\\envs\\news\\lib\\site-packages\\sklearn\\model_selection\\_validation.py\", line 593, in _fit_and_score\n",
      "    estimator.fit(X_train, y_train, **fit_params)\n",
      "  File \"C:\\Users\\Irina\\AppData\\Local\\Continuum\\anaconda3\\envs\\news\\lib\\site-packages\\sklearn\\pipeline.py\", line 341, in fit\n",
      "    Xt = self._fit(X, y, **fit_params_steps)\n",
      "  File \"C:\\Users\\Irina\\AppData\\Local\\Continuum\\anaconda3\\envs\\news\\lib\\site-packages\\sklearn\\pipeline.py\", line 303, in _fit\n",
      "    X, fitted_transformer = fit_transform_one_cached(\n",
      "  File \"C:\\Users\\Irina\\AppData\\Local\\Continuum\\anaconda3\\envs\\news\\lib\\site-packages\\joblib\\memory.py\", line 352, in __call__\n",
      "    return self.func(*args, **kwargs)\n",
      "  File \"C:\\Users\\Irina\\AppData\\Local\\Continuum\\anaconda3\\envs\\news\\lib\\site-packages\\sklearn\\pipeline.py\", line 754, in _fit_transform_one\n",
      "    res = transformer.fit_transform(X, y, **fit_params)\n",
      "  File \"C:\\Users\\Irina\\AppData\\Local\\Continuum\\anaconda3\\envs\\news\\lib\\site-packages\\sklearn\\base.py\", line 702, in fit_transform\n",
      "    return self.fit(X, y, **fit_params).transform(X)\n",
      "TypeError: fit() takes 2 positional arguments but 3 were given\n",
      "\n",
      "  warnings.warn(\"Estimator fit failed. The score on this train-test\"\n",
      "C:\\Users\\Irina\\AppData\\Local\\Continuum\\anaconda3\\envs\\news\\lib\\site-packages\\sklearn\\model_selection\\_validation.py:610: FitFailedWarning: Estimator fit failed. The score on this train-test partition for these parameters will be set to nan. Details: \n",
      "Traceback (most recent call last):\n",
      "  File \"C:\\Users\\Irina\\AppData\\Local\\Continuum\\anaconda3\\envs\\news\\lib\\site-packages\\sklearn\\model_selection\\_validation.py\", line 593, in _fit_and_score\n",
      "    estimator.fit(X_train, y_train, **fit_params)\n",
      "  File \"C:\\Users\\Irina\\AppData\\Local\\Continuum\\anaconda3\\envs\\news\\lib\\site-packages\\sklearn\\pipeline.py\", line 341, in fit\n",
      "    Xt = self._fit(X, y, **fit_params_steps)\n",
      "  File \"C:\\Users\\Irina\\AppData\\Local\\Continuum\\anaconda3\\envs\\news\\lib\\site-packages\\sklearn\\pipeline.py\", line 303, in _fit\n",
      "    X, fitted_transformer = fit_transform_one_cached(\n",
      "  File \"C:\\Users\\Irina\\AppData\\Local\\Continuum\\anaconda3\\envs\\news\\lib\\site-packages\\joblib\\memory.py\", line 352, in __call__\n",
      "    return self.func(*args, **kwargs)\n",
      "  File \"C:\\Users\\Irina\\AppData\\Local\\Continuum\\anaconda3\\envs\\news\\lib\\site-packages\\sklearn\\pipeline.py\", line 754, in _fit_transform_one\n",
      "    res = transformer.fit_transform(X, y, **fit_params)\n",
      "  File \"C:\\Users\\Irina\\AppData\\Local\\Continuum\\anaconda3\\envs\\news\\lib\\site-packages\\sklearn\\base.py\", line 702, in fit_transform\n",
      "    return self.fit(X, y, **fit_params).transform(X)\n",
      "TypeError: fit() takes 2 positional arguments but 3 were given\n",
      "\n",
      "  warnings.warn(\"Estimator fit failed. The score on this train-test\"\n",
      "C:\\Users\\Irina\\AppData\\Local\\Continuum\\anaconda3\\envs\\news\\lib\\site-packages\\sklearn\\model_selection\\_validation.py:610: FitFailedWarning: Estimator fit failed. The score on this train-test partition for these parameters will be set to nan. Details: \n",
      "Traceback (most recent call last):\n",
      "  File \"C:\\Users\\Irina\\AppData\\Local\\Continuum\\anaconda3\\envs\\news\\lib\\site-packages\\sklearn\\model_selection\\_validation.py\", line 593, in _fit_and_score\n",
      "    estimator.fit(X_train, y_train, **fit_params)\n",
      "  File \"C:\\Users\\Irina\\AppData\\Local\\Continuum\\anaconda3\\envs\\news\\lib\\site-packages\\sklearn\\pipeline.py\", line 341, in fit\n",
      "    Xt = self._fit(X, y, **fit_params_steps)\n",
      "  File \"C:\\Users\\Irina\\AppData\\Local\\Continuum\\anaconda3\\envs\\news\\lib\\site-packages\\sklearn\\pipeline.py\", line 303, in _fit\n",
      "    X, fitted_transformer = fit_transform_one_cached(\n",
      "  File \"C:\\Users\\Irina\\AppData\\Local\\Continuum\\anaconda3\\envs\\news\\lib\\site-packages\\joblib\\memory.py\", line 352, in __call__\n",
      "    return self.func(*args, **kwargs)\n",
      "  File \"C:\\Users\\Irina\\AppData\\Local\\Continuum\\anaconda3\\envs\\news\\lib\\site-packages\\sklearn\\pipeline.py\", line 754, in _fit_transform_one\n",
      "    res = transformer.fit_transform(X, y, **fit_params)\n",
      "  File \"C:\\Users\\Irina\\AppData\\Local\\Continuum\\anaconda3\\envs\\news\\lib\\site-packages\\sklearn\\base.py\", line 702, in fit_transform\n",
      "    return self.fit(X, y, **fit_params).transform(X)\n",
      "TypeError: fit() takes 2 positional arguments but 3 were given\n",
      "\n",
      "  warnings.warn(\"Estimator fit failed. The score on this train-test\"\n",
      "C:\\Users\\Irina\\AppData\\Local\\Continuum\\anaconda3\\envs\\news\\lib\\site-packages\\sklearn\\model_selection\\_validation.py:610: FitFailedWarning: Estimator fit failed. The score on this train-test partition for these parameters will be set to nan. Details: \n",
      "Traceback (most recent call last):\n",
      "  File \"C:\\Users\\Irina\\AppData\\Local\\Continuum\\anaconda3\\envs\\news\\lib\\site-packages\\sklearn\\model_selection\\_validation.py\", line 593, in _fit_and_score\n",
      "    estimator.fit(X_train, y_train, **fit_params)\n",
      "  File \"C:\\Users\\Irina\\AppData\\Local\\Continuum\\anaconda3\\envs\\news\\lib\\site-packages\\sklearn\\pipeline.py\", line 341, in fit\n",
      "    Xt = self._fit(X, y, **fit_params_steps)\n",
      "  File \"C:\\Users\\Irina\\AppData\\Local\\Continuum\\anaconda3\\envs\\news\\lib\\site-packages\\sklearn\\pipeline.py\", line 303, in _fit\n",
      "    X, fitted_transformer = fit_transform_one_cached(\n",
      "  File \"C:\\Users\\Irina\\AppData\\Local\\Continuum\\anaconda3\\envs\\news\\lib\\site-packages\\joblib\\memory.py\", line 352, in __call__\n",
      "    return self.func(*args, **kwargs)\n",
      "  File \"C:\\Users\\Irina\\AppData\\Local\\Continuum\\anaconda3\\envs\\news\\lib\\site-packages\\sklearn\\pipeline.py\", line 754, in _fit_transform_one\n",
      "    res = transformer.fit_transform(X, y, **fit_params)\n",
      "  File \"C:\\Users\\Irina\\AppData\\Local\\Continuum\\anaconda3\\envs\\news\\lib\\site-packages\\sklearn\\base.py\", line 702, in fit_transform\n",
      "    return self.fit(X, y, **fit_params).transform(X)\n",
      "TypeError: fit() takes 2 positional arguments but 3 were given\n",
      "\n",
      "  warnings.warn(\"Estimator fit failed. The score on this train-test\"\n",
      "C:\\Users\\Irina\\AppData\\Local\\Continuum\\anaconda3\\envs\\news\\lib\\site-packages\\sklearn\\model_selection\\_validation.py:610: FitFailedWarning: Estimator fit failed. The score on this train-test partition for these parameters will be set to nan. Details: \n",
      "Traceback (most recent call last):\n",
      "  File \"C:\\Users\\Irina\\AppData\\Local\\Continuum\\anaconda3\\envs\\news\\lib\\site-packages\\sklearn\\model_selection\\_validation.py\", line 593, in _fit_and_score\n",
      "    estimator.fit(X_train, y_train, **fit_params)\n",
      "  File \"C:\\Users\\Irina\\AppData\\Local\\Continuum\\anaconda3\\envs\\news\\lib\\site-packages\\sklearn\\pipeline.py\", line 341, in fit\n",
      "    Xt = self._fit(X, y, **fit_params_steps)\n",
      "  File \"C:\\Users\\Irina\\AppData\\Local\\Continuum\\anaconda3\\envs\\news\\lib\\site-packages\\sklearn\\pipeline.py\", line 303, in _fit\n",
      "    X, fitted_transformer = fit_transform_one_cached(\n",
      "  File \"C:\\Users\\Irina\\AppData\\Local\\Continuum\\anaconda3\\envs\\news\\lib\\site-packages\\joblib\\memory.py\", line 352, in __call__\n",
      "    return self.func(*args, **kwargs)\n",
      "  File \"C:\\Users\\Irina\\AppData\\Local\\Continuum\\anaconda3\\envs\\news\\lib\\site-packages\\sklearn\\pipeline.py\", line 754, in _fit_transform_one\n",
      "    res = transformer.fit_transform(X, y, **fit_params)\n",
      "  File \"C:\\Users\\Irina\\AppData\\Local\\Continuum\\anaconda3\\envs\\news\\lib\\site-packages\\sklearn\\base.py\", line 702, in fit_transform\n",
      "    return self.fit(X, y, **fit_params).transform(X)\n",
      "TypeError: fit() takes 2 positional arguments but 3 were given\n",
      "\n",
      "  warnings.warn(\"Estimator fit failed. The score on this train-test\"\n",
      "C:\\Users\\Irina\\AppData\\Local\\Continuum\\anaconda3\\envs\\news\\lib\\site-packages\\sklearn\\model_selection\\_validation.py:610: FitFailedWarning: Estimator fit failed. The score on this train-test partition for these parameters will be set to nan. Details: \n",
      "Traceback (most recent call last):\n",
      "  File \"C:\\Users\\Irina\\AppData\\Local\\Continuum\\anaconda3\\envs\\news\\lib\\site-packages\\sklearn\\model_selection\\_validation.py\", line 593, in _fit_and_score\n",
      "    estimator.fit(X_train, y_train, **fit_params)\n",
      "  File \"C:\\Users\\Irina\\AppData\\Local\\Continuum\\anaconda3\\envs\\news\\lib\\site-packages\\sklearn\\pipeline.py\", line 341, in fit\n",
      "    Xt = self._fit(X, y, **fit_params_steps)\n",
      "  File \"C:\\Users\\Irina\\AppData\\Local\\Continuum\\anaconda3\\envs\\news\\lib\\site-packages\\sklearn\\pipeline.py\", line 303, in _fit\n",
      "    X, fitted_transformer = fit_transform_one_cached(\n",
      "  File \"C:\\Users\\Irina\\AppData\\Local\\Continuum\\anaconda3\\envs\\news\\lib\\site-packages\\joblib\\memory.py\", line 352, in __call__\n",
      "    return self.func(*args, **kwargs)\n",
      "  File \"C:\\Users\\Irina\\AppData\\Local\\Continuum\\anaconda3\\envs\\news\\lib\\site-packages\\sklearn\\pipeline.py\", line 754, in _fit_transform_one\n",
      "    res = transformer.fit_transform(X, y, **fit_params)\n",
      "  File \"C:\\Users\\Irina\\AppData\\Local\\Continuum\\anaconda3\\envs\\news\\lib\\site-packages\\sklearn\\base.py\", line 702, in fit_transform\n",
      "    return self.fit(X, y, **fit_params).transform(X)\n",
      "TypeError: fit() takes 2 positional arguments but 3 were given\n",
      "\n",
      "  warnings.warn(\"Estimator fit failed. The score on this train-test\"\n",
      "C:\\Users\\Irina\\AppData\\Local\\Continuum\\anaconda3\\envs\\news\\lib\\site-packages\\sklearn\\model_selection\\_validation.py:610: FitFailedWarning: Estimator fit failed. The score on this train-test partition for these parameters will be set to nan. Details: \n",
      "Traceback (most recent call last):\n",
      "  File \"C:\\Users\\Irina\\AppData\\Local\\Continuum\\anaconda3\\envs\\news\\lib\\site-packages\\sklearn\\model_selection\\_validation.py\", line 593, in _fit_and_score\n",
      "    estimator.fit(X_train, y_train, **fit_params)\n",
      "  File \"C:\\Users\\Irina\\AppData\\Local\\Continuum\\anaconda3\\envs\\news\\lib\\site-packages\\sklearn\\pipeline.py\", line 341, in fit\n",
      "    Xt = self._fit(X, y, **fit_params_steps)\n",
      "  File \"C:\\Users\\Irina\\AppData\\Local\\Continuum\\anaconda3\\envs\\news\\lib\\site-packages\\sklearn\\pipeline.py\", line 303, in _fit\n",
      "    X, fitted_transformer = fit_transform_one_cached(\n",
      "  File \"C:\\Users\\Irina\\AppData\\Local\\Continuum\\anaconda3\\envs\\news\\lib\\site-packages\\joblib\\memory.py\", line 352, in __call__\n",
      "    return self.func(*args, **kwargs)\n",
      "  File \"C:\\Users\\Irina\\AppData\\Local\\Continuum\\anaconda3\\envs\\news\\lib\\site-packages\\sklearn\\pipeline.py\", line 754, in _fit_transform_one\n",
      "    res = transformer.fit_transform(X, y, **fit_params)\n",
      "  File \"C:\\Users\\Irina\\AppData\\Local\\Continuum\\anaconda3\\envs\\news\\lib\\site-packages\\sklearn\\base.py\", line 702, in fit_transform\n",
      "    return self.fit(X, y, **fit_params).transform(X)\n",
      "TypeError: fit() takes 2 positional arguments but 3 were given\n",
      "\n",
      "  warnings.warn(\"Estimator fit failed. The score on this train-test\"\n",
      "C:\\Users\\Irina\\AppData\\Local\\Continuum\\anaconda3\\envs\\news\\lib\\site-packages\\sklearn\\model_selection\\_validation.py:610: FitFailedWarning: Estimator fit failed. The score on this train-test partition for these parameters will be set to nan. Details: \n",
      "Traceback (most recent call last):\n",
      "  File \"C:\\Users\\Irina\\AppData\\Local\\Continuum\\anaconda3\\envs\\news\\lib\\site-packages\\sklearn\\model_selection\\_validation.py\", line 593, in _fit_and_score\n",
      "    estimator.fit(X_train, y_train, **fit_params)\n",
      "  File \"C:\\Users\\Irina\\AppData\\Local\\Continuum\\anaconda3\\envs\\news\\lib\\site-packages\\sklearn\\pipeline.py\", line 341, in fit\n",
      "    Xt = self._fit(X, y, **fit_params_steps)\n",
      "  File \"C:\\Users\\Irina\\AppData\\Local\\Continuum\\anaconda3\\envs\\news\\lib\\site-packages\\sklearn\\pipeline.py\", line 303, in _fit\n",
      "    X, fitted_transformer = fit_transform_one_cached(\n",
      "  File \"C:\\Users\\Irina\\AppData\\Local\\Continuum\\anaconda3\\envs\\news\\lib\\site-packages\\joblib\\memory.py\", line 352, in __call__\n",
      "    return self.func(*args, **kwargs)\n",
      "  File \"C:\\Users\\Irina\\AppData\\Local\\Continuum\\anaconda3\\envs\\news\\lib\\site-packages\\sklearn\\pipeline.py\", line 754, in _fit_transform_one\n",
      "    res = transformer.fit_transform(X, y, **fit_params)\n",
      "  File \"C:\\Users\\Irina\\AppData\\Local\\Continuum\\anaconda3\\envs\\news\\lib\\site-packages\\sklearn\\base.py\", line 702, in fit_transform\n",
      "    return self.fit(X, y, **fit_params).transform(X)\n",
      "TypeError: fit() takes 2 positional arguments but 3 were given\n",
      "\n",
      "  warnings.warn(\"Estimator fit failed. The score on this train-test\"\n",
      "C:\\Users\\Irina\\AppData\\Local\\Continuum\\anaconda3\\envs\\news\\lib\\site-packages\\sklearn\\model_selection\\_validation.py:610: FitFailedWarning: Estimator fit failed. The score on this train-test partition for these parameters will be set to nan. Details: \n",
      "Traceback (most recent call last):\n",
      "  File \"C:\\Users\\Irina\\AppData\\Local\\Continuum\\anaconda3\\envs\\news\\lib\\site-packages\\sklearn\\model_selection\\_validation.py\", line 593, in _fit_and_score\n",
      "    estimator.fit(X_train, y_train, **fit_params)\n",
      "  File \"C:\\Users\\Irina\\AppData\\Local\\Continuum\\anaconda3\\envs\\news\\lib\\site-packages\\sklearn\\pipeline.py\", line 341, in fit\n",
      "    Xt = self._fit(X, y, **fit_params_steps)\n",
      "  File \"C:\\Users\\Irina\\AppData\\Local\\Continuum\\anaconda3\\envs\\news\\lib\\site-packages\\sklearn\\pipeline.py\", line 303, in _fit\n",
      "    X, fitted_transformer = fit_transform_one_cached(\n",
      "  File \"C:\\Users\\Irina\\AppData\\Local\\Continuum\\anaconda3\\envs\\news\\lib\\site-packages\\joblib\\memory.py\", line 352, in __call__\n",
      "    return self.func(*args, **kwargs)\n",
      "  File \"C:\\Users\\Irina\\AppData\\Local\\Continuum\\anaconda3\\envs\\news\\lib\\site-packages\\sklearn\\pipeline.py\", line 754, in _fit_transform_one\n",
      "    res = transformer.fit_transform(X, y, **fit_params)\n",
      "  File \"C:\\Users\\Irina\\AppData\\Local\\Continuum\\anaconda3\\envs\\news\\lib\\site-packages\\sklearn\\base.py\", line 702, in fit_transform\n",
      "    return self.fit(X, y, **fit_params).transform(X)\n",
      "TypeError: fit() takes 2 positional arguments but 3 were given\n",
      "\n",
      "  warnings.warn(\"Estimator fit failed. The score on this train-test\"\n",
      "C:\\Users\\Irina\\AppData\\Local\\Continuum\\anaconda3\\envs\\news\\lib\\site-packages\\sklearn\\model_selection\\_validation.py:610: FitFailedWarning: Estimator fit failed. The score on this train-test partition for these parameters will be set to nan. Details: \n",
      "Traceback (most recent call last):\n",
      "  File \"C:\\Users\\Irina\\AppData\\Local\\Continuum\\anaconda3\\envs\\news\\lib\\site-packages\\sklearn\\model_selection\\_validation.py\", line 593, in _fit_and_score\n",
      "    estimator.fit(X_train, y_train, **fit_params)\n",
      "  File \"C:\\Users\\Irina\\AppData\\Local\\Continuum\\anaconda3\\envs\\news\\lib\\site-packages\\sklearn\\pipeline.py\", line 341, in fit\n",
      "    Xt = self._fit(X, y, **fit_params_steps)\n",
      "  File \"C:\\Users\\Irina\\AppData\\Local\\Continuum\\anaconda3\\envs\\news\\lib\\site-packages\\sklearn\\pipeline.py\", line 303, in _fit\n",
      "    X, fitted_transformer = fit_transform_one_cached(\n",
      "  File \"C:\\Users\\Irina\\AppData\\Local\\Continuum\\anaconda3\\envs\\news\\lib\\site-packages\\joblib\\memory.py\", line 352, in __call__\n",
      "    return self.func(*args, **kwargs)\n",
      "  File \"C:\\Users\\Irina\\AppData\\Local\\Continuum\\anaconda3\\envs\\news\\lib\\site-packages\\sklearn\\pipeline.py\", line 754, in _fit_transform_one\n",
      "    res = transformer.fit_transform(X, y, **fit_params)\n",
      "  File \"C:\\Users\\Irina\\AppData\\Local\\Continuum\\anaconda3\\envs\\news\\lib\\site-packages\\sklearn\\base.py\", line 702, in fit_transform\n",
      "    return self.fit(X, y, **fit_params).transform(X)\n",
      "TypeError: fit() takes 2 positional arguments but 3 were given\n",
      "\n",
      "  warnings.warn(\"Estimator fit failed. The score on this train-test\"\n",
      "C:\\Users\\Irina\\AppData\\Local\\Continuum\\anaconda3\\envs\\news\\lib\\site-packages\\sklearn\\model_selection\\_validation.py:610: FitFailedWarning: Estimator fit failed. The score on this train-test partition for these parameters will be set to nan. Details: \n",
      "Traceback (most recent call last):\n",
      "  File \"C:\\Users\\Irina\\AppData\\Local\\Continuum\\anaconda3\\envs\\news\\lib\\site-packages\\sklearn\\model_selection\\_validation.py\", line 593, in _fit_and_score\n",
      "    estimator.fit(X_train, y_train, **fit_params)\n",
      "  File \"C:\\Users\\Irina\\AppData\\Local\\Continuum\\anaconda3\\envs\\news\\lib\\site-packages\\sklearn\\pipeline.py\", line 341, in fit\n",
      "    Xt = self._fit(X, y, **fit_params_steps)\n",
      "  File \"C:\\Users\\Irina\\AppData\\Local\\Continuum\\anaconda3\\envs\\news\\lib\\site-packages\\sklearn\\pipeline.py\", line 303, in _fit\n",
      "    X, fitted_transformer = fit_transform_one_cached(\n",
      "  File \"C:\\Users\\Irina\\AppData\\Local\\Continuum\\anaconda3\\envs\\news\\lib\\site-packages\\joblib\\memory.py\", line 352, in __call__\n",
      "    return self.func(*args, **kwargs)\n",
      "  File \"C:\\Users\\Irina\\AppData\\Local\\Continuum\\anaconda3\\envs\\news\\lib\\site-packages\\sklearn\\pipeline.py\", line 754, in _fit_transform_one\n",
      "    res = transformer.fit_transform(X, y, **fit_params)\n",
      "  File \"C:\\Users\\Irina\\AppData\\Local\\Continuum\\anaconda3\\envs\\news\\lib\\site-packages\\sklearn\\base.py\", line 702, in fit_transform\n",
      "    return self.fit(X, y, **fit_params).transform(X)\n",
      "TypeError: fit() takes 2 positional arguments but 3 were given\n",
      "\n",
      "  warnings.warn(\"Estimator fit failed. The score on this train-test\"\n",
      "C:\\Users\\Irina\\AppData\\Local\\Continuum\\anaconda3\\envs\\news\\lib\\site-packages\\sklearn\\model_selection\\_validation.py:610: FitFailedWarning: Estimator fit failed. The score on this train-test partition for these parameters will be set to nan. Details: \n",
      "Traceback (most recent call last):\n",
      "  File \"C:\\Users\\Irina\\AppData\\Local\\Continuum\\anaconda3\\envs\\news\\lib\\site-packages\\sklearn\\model_selection\\_validation.py\", line 593, in _fit_and_score\n",
      "    estimator.fit(X_train, y_train, **fit_params)\n",
      "  File \"C:\\Users\\Irina\\AppData\\Local\\Continuum\\anaconda3\\envs\\news\\lib\\site-packages\\sklearn\\pipeline.py\", line 341, in fit\n",
      "    Xt = self._fit(X, y, **fit_params_steps)\n",
      "  File \"C:\\Users\\Irina\\AppData\\Local\\Continuum\\anaconda3\\envs\\news\\lib\\site-packages\\sklearn\\pipeline.py\", line 303, in _fit\n",
      "    X, fitted_transformer = fit_transform_one_cached(\n",
      "  File \"C:\\Users\\Irina\\AppData\\Local\\Continuum\\anaconda3\\envs\\news\\lib\\site-packages\\joblib\\memory.py\", line 352, in __call__\n",
      "    return self.func(*args, **kwargs)\n",
      "  File \"C:\\Users\\Irina\\AppData\\Local\\Continuum\\anaconda3\\envs\\news\\lib\\site-packages\\sklearn\\pipeline.py\", line 754, in _fit_transform_one\n",
      "    res = transformer.fit_transform(X, y, **fit_params)\n",
      "  File \"C:\\Users\\Irina\\AppData\\Local\\Continuum\\anaconda3\\envs\\news\\lib\\site-packages\\sklearn\\base.py\", line 702, in fit_transform\n",
      "    return self.fit(X, y, **fit_params).transform(X)\n",
      "TypeError: fit() takes 2 positional arguments but 3 were given\n",
      "\n",
      "  warnings.warn(\"Estimator fit failed. The score on this train-test\"\n",
      "C:\\Users\\Irina\\AppData\\Local\\Continuum\\anaconda3\\envs\\news\\lib\\site-packages\\sklearn\\model_selection\\_validation.py:610: FitFailedWarning: Estimator fit failed. The score on this train-test partition for these parameters will be set to nan. Details: \n",
      "Traceback (most recent call last):\n",
      "  File \"C:\\Users\\Irina\\AppData\\Local\\Continuum\\anaconda3\\envs\\news\\lib\\site-packages\\sklearn\\model_selection\\_validation.py\", line 593, in _fit_and_score\n",
      "    estimator.fit(X_train, y_train, **fit_params)\n",
      "  File \"C:\\Users\\Irina\\AppData\\Local\\Continuum\\anaconda3\\envs\\news\\lib\\site-packages\\sklearn\\pipeline.py\", line 341, in fit\n",
      "    Xt = self._fit(X, y, **fit_params_steps)\n",
      "  File \"C:\\Users\\Irina\\AppData\\Local\\Continuum\\anaconda3\\envs\\news\\lib\\site-packages\\sklearn\\pipeline.py\", line 303, in _fit\n",
      "    X, fitted_transformer = fit_transform_one_cached(\n",
      "  File \"C:\\Users\\Irina\\AppData\\Local\\Continuum\\anaconda3\\envs\\news\\lib\\site-packages\\joblib\\memory.py\", line 352, in __call__\n",
      "    return self.func(*args, **kwargs)\n",
      "  File \"C:\\Users\\Irina\\AppData\\Local\\Continuum\\anaconda3\\envs\\news\\lib\\site-packages\\sklearn\\pipeline.py\", line 754, in _fit_transform_one\n",
      "    res = transformer.fit_transform(X, y, **fit_params)\n",
      "  File \"C:\\Users\\Irina\\AppData\\Local\\Continuum\\anaconda3\\envs\\news\\lib\\site-packages\\sklearn\\base.py\", line 702, in fit_transform\n",
      "    return self.fit(X, y, **fit_params).transform(X)\n",
      "TypeError: fit() takes 2 positional arguments but 3 were given\n",
      "\n",
      "  warnings.warn(\"Estimator fit failed. The score on this train-test\"\n",
      "C:\\Users\\Irina\\AppData\\Local\\Continuum\\anaconda3\\envs\\news\\lib\\site-packages\\sklearn\\model_selection\\_validation.py:610: FitFailedWarning: Estimator fit failed. The score on this train-test partition for these parameters will be set to nan. Details: \n",
      "Traceback (most recent call last):\n",
      "  File \"C:\\Users\\Irina\\AppData\\Local\\Continuum\\anaconda3\\envs\\news\\lib\\site-packages\\sklearn\\model_selection\\_validation.py\", line 593, in _fit_and_score\n",
      "    estimator.fit(X_train, y_train, **fit_params)\n",
      "  File \"C:\\Users\\Irina\\AppData\\Local\\Continuum\\anaconda3\\envs\\news\\lib\\site-packages\\sklearn\\pipeline.py\", line 341, in fit\n",
      "    Xt = self._fit(X, y, **fit_params_steps)\n",
      "  File \"C:\\Users\\Irina\\AppData\\Local\\Continuum\\anaconda3\\envs\\news\\lib\\site-packages\\sklearn\\pipeline.py\", line 303, in _fit\n",
      "    X, fitted_transformer = fit_transform_one_cached(\n",
      "  File \"C:\\Users\\Irina\\AppData\\Local\\Continuum\\anaconda3\\envs\\news\\lib\\site-packages\\joblib\\memory.py\", line 352, in __call__\n",
      "    return self.func(*args, **kwargs)\n",
      "  File \"C:\\Users\\Irina\\AppData\\Local\\Continuum\\anaconda3\\envs\\news\\lib\\site-packages\\sklearn\\pipeline.py\", line 754, in _fit_transform_one\n",
      "    res = transformer.fit_transform(X, y, **fit_params)\n",
      "  File \"C:\\Users\\Irina\\AppData\\Local\\Continuum\\anaconda3\\envs\\news\\lib\\site-packages\\sklearn\\base.py\", line 702, in fit_transform\n",
      "    return self.fit(X, y, **fit_params).transform(X)\n",
      "TypeError: fit() takes 2 positional arguments but 3 were given\n",
      "\n",
      "  warnings.warn(\"Estimator fit failed. The score on this train-test\"\n",
      "C:\\Users\\Irina\\AppData\\Local\\Continuum\\anaconda3\\envs\\news\\lib\\site-packages\\sklearn\\model_selection\\_validation.py:610: FitFailedWarning: Estimator fit failed. The score on this train-test partition for these parameters will be set to nan. Details: \n",
      "Traceback (most recent call last):\n",
      "  File \"C:\\Users\\Irina\\AppData\\Local\\Continuum\\anaconda3\\envs\\news\\lib\\site-packages\\sklearn\\model_selection\\_validation.py\", line 593, in _fit_and_score\n",
      "    estimator.fit(X_train, y_train, **fit_params)\n",
      "  File \"C:\\Users\\Irina\\AppData\\Local\\Continuum\\anaconda3\\envs\\news\\lib\\site-packages\\sklearn\\pipeline.py\", line 341, in fit\n",
      "    Xt = self._fit(X, y, **fit_params_steps)\n",
      "  File \"C:\\Users\\Irina\\AppData\\Local\\Continuum\\anaconda3\\envs\\news\\lib\\site-packages\\sklearn\\pipeline.py\", line 303, in _fit\n",
      "    X, fitted_transformer = fit_transform_one_cached(\n",
      "  File \"C:\\Users\\Irina\\AppData\\Local\\Continuum\\anaconda3\\envs\\news\\lib\\site-packages\\joblib\\memory.py\", line 352, in __call__\n",
      "    return self.func(*args, **kwargs)\n",
      "  File \"C:\\Users\\Irina\\AppData\\Local\\Continuum\\anaconda3\\envs\\news\\lib\\site-packages\\sklearn\\pipeline.py\", line 754, in _fit_transform_one\n",
      "    res = transformer.fit_transform(X, y, **fit_params)\n",
      "  File \"C:\\Users\\Irina\\AppData\\Local\\Continuum\\anaconda3\\envs\\news\\lib\\site-packages\\sklearn\\base.py\", line 702, in fit_transform\n",
      "    return self.fit(X, y, **fit_params).transform(X)\n",
      "TypeError: fit() takes 2 positional arguments but 3 were given\n",
      "\n",
      "  warnings.warn(\"Estimator fit failed. The score on this train-test\"\n",
      "C:\\Users\\Irina\\AppData\\Local\\Continuum\\anaconda3\\envs\\news\\lib\\site-packages\\sklearn\\model_selection\\_search.py:918: UserWarning: One or more of the test scores are non-finite: [nan nan nan nan]\n",
      "  warnings.warn(\n"
     ]
    },
    {
     "ename": "TypeError",
     "evalue": "fit() takes 2 positional arguments but 3 were given",
     "output_type": "error",
     "traceback": [
      "\u001b[1;31m---------------------------------------------------------------------------\u001b[0m",
      "\u001b[1;31mTypeError\u001b[0m                                 Traceback (most recent call last)",
      "\u001b[1;32m<ipython-input-57-73945fe326c8>\u001b[0m in \u001b[0;36m<module>\u001b[1;34m\u001b[0m\n\u001b[0;32m      1\u001b[0m \u001b[1;31m# print('\\nEstimator: %s' % grid_dict[idx])\u001b[0m\u001b[1;33m\u001b[0m\u001b[1;33m\u001b[0m\u001b[1;33m\u001b[0m\u001b[0m\n\u001b[1;32m----> 2\u001b[1;33m \u001b[0mLR\u001b[0m\u001b[1;33m.\u001b[0m\u001b[0mfit\u001b[0m\u001b[1;33m(\u001b[0m\u001b[0mX_train\u001b[0m\u001b[1;33m,\u001b[0m \u001b[0my_train\u001b[0m\u001b[1;33m)\u001b[0m\u001b[1;33m\u001b[0m\u001b[1;33m\u001b[0m\u001b[0m\n\u001b[0m\u001b[0;32m      3\u001b[0m \u001b[0mprint\u001b[0m\u001b[1;33m(\u001b[0m\u001b[1;34m'Best params are : %s'\u001b[0m \u001b[1;33m%\u001b[0m \u001b[0mLR\u001b[0m\u001b[1;33m.\u001b[0m\u001b[0mbest_params_\u001b[0m\u001b[1;33m)\u001b[0m\u001b[1;33m\u001b[0m\u001b[1;33m\u001b[0m\u001b[0m\n\u001b[0;32m      4\u001b[0m \u001b[1;31m# Best training data accuracy\u001b[0m\u001b[1;33m\u001b[0m\u001b[1;33m\u001b[0m\u001b[1;33m\u001b[0m\u001b[0m\n\u001b[0;32m      5\u001b[0m \u001b[0mprint\u001b[0m\u001b[1;33m(\u001b[0m\u001b[1;34m'Best training accuracy: %.3f'\u001b[0m \u001b[1;33m%\u001b[0m \u001b[0mLR\u001b[0m\u001b[1;33m.\u001b[0m\u001b[0mbest_score_\u001b[0m\u001b[1;33m)\u001b[0m\u001b[1;33m\u001b[0m\u001b[1;33m\u001b[0m\u001b[0m\n",
      "\u001b[1;32m~\\AppData\\Local\\Continuum\\anaconda3\\envs\\news\\lib\\site-packages\\sklearn\\utils\\validation.py\u001b[0m in \u001b[0;36minner_f\u001b[1;34m(*args, **kwargs)\u001b[0m\n\u001b[0;32m     61\u001b[0m             \u001b[0mextra_args\u001b[0m \u001b[1;33m=\u001b[0m \u001b[0mlen\u001b[0m\u001b[1;33m(\u001b[0m\u001b[0margs\u001b[0m\u001b[1;33m)\u001b[0m \u001b[1;33m-\u001b[0m \u001b[0mlen\u001b[0m\u001b[1;33m(\u001b[0m\u001b[0mall_args\u001b[0m\u001b[1;33m)\u001b[0m\u001b[1;33m\u001b[0m\u001b[1;33m\u001b[0m\u001b[0m\n\u001b[0;32m     62\u001b[0m             \u001b[1;32mif\u001b[0m \u001b[0mextra_args\u001b[0m \u001b[1;33m<=\u001b[0m \u001b[1;36m0\u001b[0m\u001b[1;33m:\u001b[0m\u001b[1;33m\u001b[0m\u001b[1;33m\u001b[0m\u001b[0m\n\u001b[1;32m---> 63\u001b[1;33m                 \u001b[1;32mreturn\u001b[0m \u001b[0mf\u001b[0m\u001b[1;33m(\u001b[0m\u001b[1;33m*\u001b[0m\u001b[0margs\u001b[0m\u001b[1;33m,\u001b[0m \u001b[1;33m**\u001b[0m\u001b[0mkwargs\u001b[0m\u001b[1;33m)\u001b[0m\u001b[1;33m\u001b[0m\u001b[1;33m\u001b[0m\u001b[0m\n\u001b[0m\u001b[0;32m     64\u001b[0m \u001b[1;33m\u001b[0m\u001b[0m\n\u001b[0;32m     65\u001b[0m             \u001b[1;31m# extra_args > 0\u001b[0m\u001b[1;33m\u001b[0m\u001b[1;33m\u001b[0m\u001b[1;33m\u001b[0m\u001b[0m\n",
      "\u001b[1;32m~\\AppData\\Local\\Continuum\\anaconda3\\envs\\news\\lib\\site-packages\\sklearn\\model_selection\\_search.py\u001b[0m in \u001b[0;36mfit\u001b[1;34m(self, X, y, groups, **fit_params)\u001b[0m\n\u001b[0;32m    878\u001b[0m             \u001b[0mrefit_start_time\u001b[0m \u001b[1;33m=\u001b[0m \u001b[0mtime\u001b[0m\u001b[1;33m.\u001b[0m\u001b[0mtime\u001b[0m\u001b[1;33m(\u001b[0m\u001b[1;33m)\u001b[0m\u001b[1;33m\u001b[0m\u001b[1;33m\u001b[0m\u001b[0m\n\u001b[0;32m    879\u001b[0m             \u001b[1;32mif\u001b[0m \u001b[0my\u001b[0m \u001b[1;32mis\u001b[0m \u001b[1;32mnot\u001b[0m \u001b[1;32mNone\u001b[0m\u001b[1;33m:\u001b[0m\u001b[1;33m\u001b[0m\u001b[1;33m\u001b[0m\u001b[0m\n\u001b[1;32m--> 880\u001b[1;33m                 \u001b[0mself\u001b[0m\u001b[1;33m.\u001b[0m\u001b[0mbest_estimator_\u001b[0m\u001b[1;33m.\u001b[0m\u001b[0mfit\u001b[0m\u001b[1;33m(\u001b[0m\u001b[0mX\u001b[0m\u001b[1;33m,\u001b[0m \u001b[0my\u001b[0m\u001b[1;33m,\u001b[0m \u001b[1;33m**\u001b[0m\u001b[0mfit_params\u001b[0m\u001b[1;33m)\u001b[0m\u001b[1;33m\u001b[0m\u001b[1;33m\u001b[0m\u001b[0m\n\u001b[0m\u001b[0;32m    881\u001b[0m             \u001b[1;32melse\u001b[0m\u001b[1;33m:\u001b[0m\u001b[1;33m\u001b[0m\u001b[1;33m\u001b[0m\u001b[0m\n\u001b[0;32m    882\u001b[0m                 \u001b[0mself\u001b[0m\u001b[1;33m.\u001b[0m\u001b[0mbest_estimator_\u001b[0m\u001b[1;33m.\u001b[0m\u001b[0mfit\u001b[0m\u001b[1;33m(\u001b[0m\u001b[0mX\u001b[0m\u001b[1;33m,\u001b[0m \u001b[1;33m**\u001b[0m\u001b[0mfit_params\u001b[0m\u001b[1;33m)\u001b[0m\u001b[1;33m\u001b[0m\u001b[1;33m\u001b[0m\u001b[0m\n",
      "\u001b[1;32m~\\AppData\\Local\\Continuum\\anaconda3\\envs\\news\\lib\\site-packages\\sklearn\\pipeline.py\u001b[0m in \u001b[0;36mfit\u001b[1;34m(self, X, y, **fit_params)\u001b[0m\n\u001b[0;32m    339\u001b[0m         \"\"\"\n\u001b[0;32m    340\u001b[0m         \u001b[0mfit_params_steps\u001b[0m \u001b[1;33m=\u001b[0m \u001b[0mself\u001b[0m\u001b[1;33m.\u001b[0m\u001b[0m_check_fit_params\u001b[0m\u001b[1;33m(\u001b[0m\u001b[1;33m**\u001b[0m\u001b[0mfit_params\u001b[0m\u001b[1;33m)\u001b[0m\u001b[1;33m\u001b[0m\u001b[1;33m\u001b[0m\u001b[0m\n\u001b[1;32m--> 341\u001b[1;33m         \u001b[0mXt\u001b[0m \u001b[1;33m=\u001b[0m \u001b[0mself\u001b[0m\u001b[1;33m.\u001b[0m\u001b[0m_fit\u001b[0m\u001b[1;33m(\u001b[0m\u001b[0mX\u001b[0m\u001b[1;33m,\u001b[0m \u001b[0my\u001b[0m\u001b[1;33m,\u001b[0m \u001b[1;33m**\u001b[0m\u001b[0mfit_params_steps\u001b[0m\u001b[1;33m)\u001b[0m\u001b[1;33m\u001b[0m\u001b[1;33m\u001b[0m\u001b[0m\n\u001b[0m\u001b[0;32m    342\u001b[0m         with _print_elapsed_time('Pipeline',\n\u001b[0;32m    343\u001b[0m                                  self._log_message(len(self.steps) - 1)):\n",
      "\u001b[1;32m~\\AppData\\Local\\Continuum\\anaconda3\\envs\\news\\lib\\site-packages\\sklearn\\pipeline.py\u001b[0m in \u001b[0;36m_fit\u001b[1;34m(self, X, y, **fit_params_steps)\u001b[0m\n\u001b[0;32m    301\u001b[0m                 \u001b[0mcloned_transformer\u001b[0m \u001b[1;33m=\u001b[0m \u001b[0mclone\u001b[0m\u001b[1;33m(\u001b[0m\u001b[0mtransformer\u001b[0m\u001b[1;33m)\u001b[0m\u001b[1;33m\u001b[0m\u001b[1;33m\u001b[0m\u001b[0m\n\u001b[0;32m    302\u001b[0m             \u001b[1;31m# Fit or load from cache the current transformer\u001b[0m\u001b[1;33m\u001b[0m\u001b[1;33m\u001b[0m\u001b[1;33m\u001b[0m\u001b[0m\n\u001b[1;32m--> 303\u001b[1;33m             X, fitted_transformer = fit_transform_one_cached(\n\u001b[0m\u001b[0;32m    304\u001b[0m                 \u001b[0mcloned_transformer\u001b[0m\u001b[1;33m,\u001b[0m \u001b[0mX\u001b[0m\u001b[1;33m,\u001b[0m \u001b[0my\u001b[0m\u001b[1;33m,\u001b[0m \u001b[1;32mNone\u001b[0m\u001b[1;33m,\u001b[0m\u001b[1;33m\u001b[0m\u001b[1;33m\u001b[0m\u001b[0m\n\u001b[0;32m    305\u001b[0m                 \u001b[0mmessage_clsname\u001b[0m\u001b[1;33m=\u001b[0m\u001b[1;34m'Pipeline'\u001b[0m\u001b[1;33m,\u001b[0m\u001b[1;33m\u001b[0m\u001b[1;33m\u001b[0m\u001b[0m\n",
      "\u001b[1;32m~\\AppData\\Local\\Continuum\\anaconda3\\envs\\news\\lib\\site-packages\\joblib\\memory.py\u001b[0m in \u001b[0;36m__call__\u001b[1;34m(self, *args, **kwargs)\u001b[0m\n\u001b[0;32m    350\u001b[0m \u001b[1;33m\u001b[0m\u001b[0m\n\u001b[0;32m    351\u001b[0m     \u001b[1;32mdef\u001b[0m \u001b[0m__call__\u001b[0m\u001b[1;33m(\u001b[0m\u001b[0mself\u001b[0m\u001b[1;33m,\u001b[0m \u001b[1;33m*\u001b[0m\u001b[0margs\u001b[0m\u001b[1;33m,\u001b[0m \u001b[1;33m**\u001b[0m\u001b[0mkwargs\u001b[0m\u001b[1;33m)\u001b[0m\u001b[1;33m:\u001b[0m\u001b[1;33m\u001b[0m\u001b[1;33m\u001b[0m\u001b[0m\n\u001b[1;32m--> 352\u001b[1;33m         \u001b[1;32mreturn\u001b[0m \u001b[0mself\u001b[0m\u001b[1;33m.\u001b[0m\u001b[0mfunc\u001b[0m\u001b[1;33m(\u001b[0m\u001b[1;33m*\u001b[0m\u001b[0margs\u001b[0m\u001b[1;33m,\u001b[0m \u001b[1;33m**\u001b[0m\u001b[0mkwargs\u001b[0m\u001b[1;33m)\u001b[0m\u001b[1;33m\u001b[0m\u001b[1;33m\u001b[0m\u001b[0m\n\u001b[0m\u001b[0;32m    353\u001b[0m \u001b[1;33m\u001b[0m\u001b[0m\n\u001b[0;32m    354\u001b[0m     \u001b[1;32mdef\u001b[0m \u001b[0mcall_and_shelve\u001b[0m\u001b[1;33m(\u001b[0m\u001b[0mself\u001b[0m\u001b[1;33m,\u001b[0m \u001b[1;33m*\u001b[0m\u001b[0margs\u001b[0m\u001b[1;33m,\u001b[0m \u001b[1;33m**\u001b[0m\u001b[0mkwargs\u001b[0m\u001b[1;33m)\u001b[0m\u001b[1;33m:\u001b[0m\u001b[1;33m\u001b[0m\u001b[1;33m\u001b[0m\u001b[0m\n",
      "\u001b[1;32m~\\AppData\\Local\\Continuum\\anaconda3\\envs\\news\\lib\\site-packages\\sklearn\\pipeline.py\u001b[0m in \u001b[0;36m_fit_transform_one\u001b[1;34m(transformer, X, y, weight, message_clsname, message, **fit_params)\u001b[0m\n\u001b[0;32m    752\u001b[0m     \u001b[1;32mwith\u001b[0m \u001b[0m_print_elapsed_time\u001b[0m\u001b[1;33m(\u001b[0m\u001b[0mmessage_clsname\u001b[0m\u001b[1;33m,\u001b[0m \u001b[0mmessage\u001b[0m\u001b[1;33m)\u001b[0m\u001b[1;33m:\u001b[0m\u001b[1;33m\u001b[0m\u001b[1;33m\u001b[0m\u001b[0m\n\u001b[0;32m    753\u001b[0m         \u001b[1;32mif\u001b[0m \u001b[0mhasattr\u001b[0m\u001b[1;33m(\u001b[0m\u001b[0mtransformer\u001b[0m\u001b[1;33m,\u001b[0m \u001b[1;34m'fit_transform'\u001b[0m\u001b[1;33m)\u001b[0m\u001b[1;33m:\u001b[0m\u001b[1;33m\u001b[0m\u001b[1;33m\u001b[0m\u001b[0m\n\u001b[1;32m--> 754\u001b[1;33m             \u001b[0mres\u001b[0m \u001b[1;33m=\u001b[0m \u001b[0mtransformer\u001b[0m\u001b[1;33m.\u001b[0m\u001b[0mfit_transform\u001b[0m\u001b[1;33m(\u001b[0m\u001b[0mX\u001b[0m\u001b[1;33m,\u001b[0m \u001b[0my\u001b[0m\u001b[1;33m,\u001b[0m \u001b[1;33m**\u001b[0m\u001b[0mfit_params\u001b[0m\u001b[1;33m)\u001b[0m\u001b[1;33m\u001b[0m\u001b[1;33m\u001b[0m\u001b[0m\n\u001b[0m\u001b[0;32m    755\u001b[0m         \u001b[1;32melse\u001b[0m\u001b[1;33m:\u001b[0m\u001b[1;33m\u001b[0m\u001b[1;33m\u001b[0m\u001b[0m\n\u001b[0;32m    756\u001b[0m             \u001b[0mres\u001b[0m \u001b[1;33m=\u001b[0m \u001b[0mtransformer\u001b[0m\u001b[1;33m.\u001b[0m\u001b[0mfit\u001b[0m\u001b[1;33m(\u001b[0m\u001b[0mX\u001b[0m\u001b[1;33m,\u001b[0m \u001b[0my\u001b[0m\u001b[1;33m,\u001b[0m \u001b[1;33m**\u001b[0m\u001b[0mfit_params\u001b[0m\u001b[1;33m)\u001b[0m\u001b[1;33m.\u001b[0m\u001b[0mtransform\u001b[0m\u001b[1;33m(\u001b[0m\u001b[0mX\u001b[0m\u001b[1;33m)\u001b[0m\u001b[1;33m\u001b[0m\u001b[1;33m\u001b[0m\u001b[0m\n",
      "\u001b[1;32m~\\AppData\\Local\\Continuum\\anaconda3\\envs\\news\\lib\\site-packages\\sklearn\\base.py\u001b[0m in \u001b[0;36mfit_transform\u001b[1;34m(self, X, y, **fit_params)\u001b[0m\n\u001b[0;32m    700\u001b[0m         \u001b[1;32melse\u001b[0m\u001b[1;33m:\u001b[0m\u001b[1;33m\u001b[0m\u001b[1;33m\u001b[0m\u001b[0m\n\u001b[0;32m    701\u001b[0m             \u001b[1;31m# fit method of arity 2 (supervised transformation)\u001b[0m\u001b[1;33m\u001b[0m\u001b[1;33m\u001b[0m\u001b[1;33m\u001b[0m\u001b[0m\n\u001b[1;32m--> 702\u001b[1;33m             \u001b[1;32mreturn\u001b[0m \u001b[0mself\u001b[0m\u001b[1;33m.\u001b[0m\u001b[0mfit\u001b[0m\u001b[1;33m(\u001b[0m\u001b[0mX\u001b[0m\u001b[1;33m,\u001b[0m \u001b[0my\u001b[0m\u001b[1;33m,\u001b[0m \u001b[1;33m**\u001b[0m\u001b[0mfit_params\u001b[0m\u001b[1;33m)\u001b[0m\u001b[1;33m.\u001b[0m\u001b[0mtransform\u001b[0m\u001b[1;33m(\u001b[0m\u001b[0mX\u001b[0m\u001b[1;33m)\u001b[0m\u001b[1;33m\u001b[0m\u001b[1;33m\u001b[0m\u001b[0m\n\u001b[0m\u001b[0;32m    703\u001b[0m \u001b[1;33m\u001b[0m\u001b[0m\n\u001b[0;32m    704\u001b[0m \u001b[1;33m\u001b[0m\u001b[0m\n",
      "\u001b[1;31mTypeError\u001b[0m: fit() takes 2 positional arguments but 3 were given"
     ]
    }
   ],
   "source": [
    "# print('\\nEstimator: %s' % grid_dict[idx])\n",
    "LR.fit(X_train, y_train)\n",
    "print('Best params are : %s' % LR.best_params_)\n",
    "# Best training data accuracy\n",
    "print('Best training accuracy: %.3f' % LR.best_score_)\n",
    "# Predict on test data with best params\n",
    "y_pred = LR.predict(x_test)\n",
    "# Test data accuracy of model with best params\n",
    "print('Test set accuracy score for best params: %.3f ' % accuracy_score(y_test, y_pred))\n",
    "# Track best (highest test accuracy) model"
   ]
  },
  {
   "cell_type": "code",
   "execution_count": 30,
   "metadata": {},
   "outputs": [
    {
     "ename": "NameError",
     "evalue": "name 'best' is not defined",
     "output_type": "error",
     "traceback": [
      "\u001b[1;31m---------------------------------------------------------------------------\u001b[0m",
      "\u001b[1;31mNameError\u001b[0m                                 Traceback (most recent call last)",
      "\u001b[1;32m<ipython-input-30-377027ff61a3>\u001b[0m in \u001b[0;36m<module>\u001b[1;34m\u001b[0m\n\u001b[1;32m----> 1\u001b[1;33m \u001b[0mbest\u001b[0m\u001b[1;33m\u001b[0m\u001b[1;33m\u001b[0m\u001b[0m\n\u001b[0m",
      "\u001b[1;31mNameError\u001b[0m: name 'best' is not defined"
     ]
    }
   ],
   "source": [
    "best"
   ]
  },
  {
   "cell_type": "code",
   "execution_count": 27,
   "metadata": {},
   "outputs": [
    {
     "data": {
      "text/plain": [
       "0.4097697337648637"
      ]
     },
     "execution_count": 27,
     "metadata": {},
     "output_type": "execute_result"
    }
   ],
   "source": [
    "min(trials.losses())"
   ]
  },
  {
   "cell_type": "code",
   "execution_count": 28,
   "metadata": {},
   "outputs": [
    {
     "data": {
      "text/plain": [
       "{'clf__C': 40.756082062867726,\n",
       " 'clf__max_iter': 750,\n",
       " 'clf__penalty': 'l2',\n",
       " 'digit_eraser__enabled': False,\n",
       " 'punct_eraser__enabled': False,\n",
       " 'vec__analyzer': 'char_wb',\n",
       " 'vec__binary': False,\n",
       " 'vec__max_df': 0.7136875223969704,\n",
       " 'vec__min_df': 0.003366616013693943,\n",
       " 'vec__ngram_range': (3, 5),\n",
       " 'vec__norm': 'l2',\n",
       " 'word_pipeline__word_additional_stopwords__enabled': True,\n",
       " 'word_pipeline__word_normalizer__enabled': False,\n",
       " 'word_pipeline__word_oneletter_stopwords__enabled': True,\n",
       " 'word_pipeline__word_standard_stopwords__enabled': False,\n",
       " 'word_pipeline__word_synonyms__enabled': False}"
      ]
     },
     "execution_count": 28,
     "metadata": {},
     "output_type": "execute_result"
    }
   ],
   "source": [
    "i = trials.losses().index(min(trials.losses()))\n",
    "params = trials.results[i]['params']\n",
    "params"
   ]
  },
  {
   "cell_type": "code",
   "execution_count": 29,
   "metadata": {},
   "outputs": [
    {
     "data": {
      "text/plain": [
       "SwitchPipeline(enabled_steps={'clf': True, 'digit_eraser': False,\n",
       "                              'punct_eraser': False, 'vec': True,\n",
       "                              'word_pipeline': True},\n",
       "               steps=[('digit_eraser', DigitEraser()),\n",
       "                      ('punct_eraser', PunctuationEraser()),\n",
       "                      ('word_pipeline',\n",
       "                       SwitchPipeline(enabled_steps={'word_additional_stopwords': True,\n",
       "                                                     'word_joiner': True,\n",
       "                                                     'word_normalizer': False,\n",
       "                                                     'word_oneletter_stopwords': True,\n",
       "                                                     'wor...\n",
       "                                                                     'гуманный': ['чело',\n",
       "                                                                                  'человечески',\n",
       "                                                                                  'человеческий',\n",
       "                                                                                  'человечность',\n",
       "                                                                                  'человечный'], ...})),\n",
       "                                             ('word_joiner', WordJoiner())])),\n",
       "                      ('vec',\n",
       "                       TfidfVectorizer(analyzer='char_wb',\n",
       "                                       max_df=0.7136875223969704,\n",
       "                                       min_df=0.003366616013693943,\n",
       "                                       ngram_range=(3, 5))),\n",
       "                      ('clf',\n",
       "                       LogisticRegression(C=40.756082062867726,\n",
       "                                          class_weight='balanced', max_iter=750,\n",
       "                                          n_jobs=-1, random_state=42,\n",
       "                                          solver='saga'))])"
      ]
     },
     "execution_count": 29,
     "metadata": {},
     "output_type": "execute_result"
    }
   ],
   "source": [
    "model.set_params(**params)"
   ]
  },
  {
   "cell_type": "code",
   "execution_count": 30,
   "metadata": {},
   "outputs": [
    {
     "data": {
      "text/plain": [
       "SwitchPipeline(enabled_steps={'clf': True, 'digit_eraser': False,\n",
       "                              'punct_eraser': False, 'vec': True,\n",
       "                              'word_pipeline': True},\n",
       "               steps=[('digit_eraser', DigitEraser()),\n",
       "                      ('punct_eraser', PunctuationEraser()),\n",
       "                      ('word_pipeline',\n",
       "                       SwitchPipeline(enabled_steps={'word_additional_stopwords': True,\n",
       "                                                     'word_joiner': True,\n",
       "                                                     'word_normalizer': False,\n",
       "                                                     'word_oneletter_stopwords': True,\n",
       "                                                     'wor...\n",
       "                                                                     'гуманный': ['чело',\n",
       "                                                                                  'человечески',\n",
       "                                                                                  'человеческий',\n",
       "                                                                                  'человечность',\n",
       "                                                                                  'человечный'], ...})),\n",
       "                                             ('word_joiner', WordJoiner())])),\n",
       "                      ('vec',\n",
       "                       TfidfVectorizer(analyzer='char_wb',\n",
       "                                       max_df=0.7136875223969704,\n",
       "                                       min_df=0.003366616013693943,\n",
       "                                       ngram_range=(3, 5))),\n",
       "                      ('clf',\n",
       "                       LogisticRegression(C=40.756082062867726,\n",
       "                                          class_weight='balanced', max_iter=750,\n",
       "                                          n_jobs=-1, random_state=42,\n",
       "                                          solver='saga'))])"
      ]
     },
     "execution_count": 30,
     "metadata": {},
     "output_type": "execute_result"
    }
   ],
   "source": [
    "model.fit(X_train, y_train)"
   ]
  },
  {
   "cell_type": "code",
   "execution_count": 32,
   "metadata": {},
   "outputs": [],
   "source": [
    "preds_train = model.predict(X_train)\n",
    "preds_oos = model.predict(X_oos)\n",
    "# preds_oot = model.predict(X_oot)"
   ]
  },
  {
   "cell_type": "code",
   "execution_count": 33,
   "metadata": {},
   "outputs": [],
   "source": [
    "train_f1_macro = f1_score(y_train, preds_train, average='macro')\n",
    "oos_f1_macro = f1_score(y_oos, preds_oos, average='macro')\n",
    "# oot_f1_macro = f1_score(y_oot, preds_oot, average='macro')"
   ]
  },
  {
   "cell_type": "code",
   "execution_count": 34,
   "metadata": {},
   "outputs": [
    {
     "name": "stdout",
     "output_type": "stream",
     "text": [
      "Train F1 macro= 0.9915278849115484\n",
      "Out of sample F1 macro= 0.8759892191854124\n"
     ]
    }
   ],
   "source": [
    "print('Train F1 macro=', train_f1_macro)\n",
    "# print('Cross Validation F1 macro=', model.best_score_, 'std=', model.cv_results_['std_test_score'][model.best_index_])\n",
    "print('Out of sample F1 macro=', oos_f1_macro)\n",
    "# print('Out of time F1 macro=', oot_f1_macro)"
   ]
  },
  {
   "cell_type": "code",
   "execution_count": 36,
   "metadata": {
    "pycharm": {
     "name": "#%%\n"
    }
   },
   "outputs": [
    {
     "name": "stderr",
     "output_type": "stream",
     "text": [
      "/dsdata/home/pugaeva-iv/anaconda3/envs/new_env/lib/python3.7/site-packages/sklearn/linear_model/_sag.py:329: ConvergenceWarning: The max_iter was reached which means the coef_ did not converge\n",
      "  \"the coef_ did not converge\", ConvergenceWarning)\n"
     ]
    }
   ],
   "source": [
    "with open('./model/' + path_leaf(path_train)[:-5] + '_model.pkl', 'wb') as f:\n",
    "    pickle.dump(model, f)"
   ]
  },
  {
   "cell_type": "markdown",
   "metadata": {},
   "source": [
    "# Out of sample classification report"
   ]
  },
  {
   "cell_type": "code",
   "execution_count": 37,
   "metadata": {
    "pycharm": {
     "name": "#%%\n"
    }
   },
   "outputs": [
    {
     "name": "stdout",
     "output_type": "stream",
     "text": [
      "                         precision    recall  f1-score   support\n",
      "\n",
      "     DFLM_NLP_AKTIVFPSU       0.92      0.95      0.94        64\n",
      "        DFLM_NLP_INKASS       0.91      0.95      0.93        76\n",
      "  DFLM_NLP_INKASSFORSLM       0.96      0.92      0.94        49\n",
      "          DFLM_NLP_MCTP       0.85      0.87      0.86        45\n",
      "            DFLM_NLP_OK       0.90      0.88      0.89       178\n",
      "         DFLM_NLP_OTHER       0.81      0.72      0.76       158\n",
      "     DFLM_NLP_PROVAIDER       0.84      0.90      0.87        48\n",
      "DFLM_NLP_READYFORUPLOAD       0.90      0.98      0.94        64\n",
      "        DFLM_NLP_SBOYPO       0.76      0.86      0.81        44\n",
      "           DFLM_NLP_SLM       0.81      0.85      0.83        54\n",
      "\n",
      "               accuracy                           0.87       780\n",
      "              macro avg       0.87      0.89      0.88       780\n",
      "           weighted avg       0.87      0.87      0.87       780\n",
      "\n"
     ]
    },
    {
     "name": "stderr",
     "output_type": "stream",
     "text": [
      "/dsdata/home/pugaeva-iv/anaconda3/envs/new_env/lib/python3.7/site-packages/sklearn/linear_model/_sag.py:329: ConvergenceWarning: The max_iter was reached which means the coef_ did not converge\n",
      "  \"the coef_ did not converge\", ConvergenceWarning)\n"
     ]
    }
   ],
   "source": [
    "print(classification_report(y_oos, preds_oos))"
   ]
  },
  {
   "cell_type": "markdown",
   "metadata": {},
   "source": [
    "## naive_bayes"
   ]
  },
  {
   "cell_type": "code",
   "execution_count": 31,
   "metadata": {},
   "outputs": [
    {
     "ename": "NameError",
     "evalue": "name 'MultinomialNB' is not defined",
     "output_type": "error",
     "traceback": [
      "\u001b[1;31m---------------------------------------------------------------------------\u001b[0m",
      "\u001b[1;31mNameError\u001b[0m                                 Traceback (most recent call last)",
      "\u001b[1;32m<ipython-input-31-e72e99828607>\u001b[0m in \u001b[0;36m<module>\u001b[1;34m\u001b[0m\n\u001b[1;32m----> 1\u001b[1;33m \u001b[0mnaive_bayes\u001b[0m\u001b[1;33m,\u001b[0m \u001b[0mnaive_bayes_search_space\u001b[0m \u001b[1;33m=\u001b[0m \u001b[0mbuild_model\u001b[0m\u001b[1;33m(\u001b[0m\u001b[1;34m'naive_bayes'\u001b[0m\u001b[1;33m,\u001b[0m \u001b[0mclassifiers\u001b[0m\u001b[1;33m,\u001b[0m \u001b[0mcommon_space\u001b[0m\u001b[1;33m,\u001b[0m \u001b[0mr_state\u001b[0m\u001b[1;33m=\u001b[0m\u001b[0mRS\u001b[0m\u001b[1;33m)\u001b[0m\u001b[1;33m\u001b[0m\u001b[1;33m\u001b[0m\u001b[0m\n\u001b[0m",
      "\u001b[1;32m<ipython-input-20-eeebcf2f3f54>\u001b[0m in \u001b[0;36mbuild_model\u001b[1;34m(clf_name, classifiers, common_space, r_state)\u001b[0m\n\u001b[0;32m     11\u001b[0m \u001b[1;33m\u001b[0m\u001b[0m\n\u001b[0;32m     12\u001b[0m     \u001b[1;32melif\u001b[0m \u001b[0mclf_name\u001b[0m \u001b[1;33m==\u001b[0m \u001b[1;34m'naive_bayes'\u001b[0m\u001b[1;33m:\u001b[0m\u001b[1;33m\u001b[0m\u001b[1;33m\u001b[0m\u001b[0m\n\u001b[1;32m---> 13\u001b[1;33m         \u001b[0mclassifier\u001b[0m \u001b[1;33m=\u001b[0m \u001b[0mMultinomialNB\u001b[0m\u001b[1;33m(\u001b[0m\u001b[1;33m)\u001b[0m\u001b[1;33m\u001b[0m\u001b[1;33m\u001b[0m\u001b[0m\n\u001b[0m\u001b[0;32m     14\u001b[0m \u001b[1;33m\u001b[0m\u001b[0m\n\u001b[0;32m     15\u001b[0m     \u001b[1;32melse\u001b[0m\u001b[1;33m:\u001b[0m\u001b[1;33m\u001b[0m\u001b[1;33m\u001b[0m\u001b[0m\n",
      "\u001b[1;31mNameError\u001b[0m: name 'MultinomialNB' is not defined"
     ]
    }
   ],
   "source": [
    "naive_bayes, naive_bayes_search_space = build_model('naive_bayes', classifiers, common_space, r_state=RS)"
   ]
  },
  {
   "cell_type": "code",
   "execution_count": 43,
   "metadata": {},
   "outputs": [
    {
     "name": "stdout",
     "output_type": "stream",
     "text": [
      "100%|██████████████████████████████████████████████████| 30/30 [02:17<00:00,  4.60s/trial, best loss: 1.078981484321384]\n"
     ]
    }
   ],
   "source": [
    "RS=1\n",
    "# запускаем hyperopt\n",
    "trials = Trials()\n",
    "best = fmin( \n",
    "          # функция для оптимизации  \n",
    "            fn=partial(objective, pipeline=naive_bayes, X_train=X_train, y_train=y_train, r_state=RS),\n",
    "          # пространство поиска гиперпараметров  \n",
    "            space=naive_bayes_search_space,\n",
    "          # алгоритм поиска\n",
    "            algo=tpe.suggest,\n",
    "          # число итераций \n",
    "          # (можно ещё указать и время поиска) \n",
    "            max_evals=30,\n",
    "          # куда сохранять историю поиска\n",
    "            trials=trials,\n",
    "          # random state\n",
    "            rstate=np.random.RandomState(RS),\n",
    "          # progressbar\n",
    "            show_progressbar=True\n",
    "          )"
   ]
  },
  {
   "cell_type": "code",
   "execution_count": 44,
   "metadata": {},
   "outputs": [],
   "source": [
    "i = trials.losses().index(min(trials.losses()))\n",
    "naive_bayes_params = trials.results[i]['params']"
   ]
  },
  {
   "cell_type": "code",
   "execution_count": 45,
   "metadata": {},
   "outputs": [
    {
     "data": {
      "text/plain": [
       "SwitchPipeline(enabled_steps={'clf': True, 'digit_eraser': False,\n",
       "                              'punct_eraser': False, 'vec': True,\n",
       "                              'word_pipeline': True},\n",
       "               steps=[('digit_eraser', DigitEraser()),\n",
       "                      ('punct_eraser', PunctuationEraser()),\n",
       "                      ('word_pipeline',\n",
       "                       SwitchPipeline(enabled_steps={'word_additional_stopwords': False,\n",
       "                                                     'word_joiner': True,\n",
       "                                                     'word_normalizer': False,\n",
       "                                                     'word_oneletter_stopwords': True,\n",
       "                                                     'wo...\n",
       "                                                                                'графика',\n",
       "                                                                                'дежурство',\n",
       "                                                                                'дежурить'],\n",
       "                                                                     'гуманный': ['чело',\n",
       "                                                                                  'человечески',\n",
       "                                                                                  'человеческий',\n",
       "                                                                                  'человечность',\n",
       "                                                                                  'человечный'], ...})),\n",
       "                                             ('word_joiner', WordJoiner())])),\n",
       "                      ('vec',\n",
       "                       TfidfVectorizer(analyzer='char_wb', binary=True,\n",
       "                                       max_df=0.9968919879052397,\n",
       "                                       min_df=0.013407661341943931,\n",
       "                                       ngram_range=(1, 2))),\n",
       "                      ('clf',\n",
       "                       MultinomialNB(alpha=0.0001346581482070793,\n",
       "                                     fit_prior=(True, False)))])"
      ]
     },
     "execution_count": 45,
     "metadata": {},
     "output_type": "execute_result"
    }
   ],
   "source": [
    "naive_bayes.set_params(**naive_bayes_params)\n",
    "naive_bayes.fit(X_train, y_train)"
   ]
  },
  {
   "cell_type": "code",
   "execution_count": 46,
   "metadata": {},
   "outputs": [
    {
     "name": "stdout",
     "output_type": "stream",
     "text": [
      "0.7061534069762041 0.6784736659799117\n"
     ]
    }
   ],
   "source": [
    "train_f1_macro = f1_score(y_train, naive_bayes.predict(X_train), average='macro')\n",
    "oos_f1_macro = f1_score(y_oos, naive_bayes.predict(X_oos), average='macro')\n",
    "print(train_f1_macro, oos_f1_macro)"
   ]
  },
  {
   "cell_type": "code",
   "execution_count": null,
   "metadata": {},
   "outputs": [],
   "source": []
  }
 ],
 "metadata": {
  "kernelspec": {
   "display_name": "Python 3",
   "language": "python",
   "name": "python3"
  },
  "language_info": {
   "codemirror_mode": {
    "name": "ipython",
    "version": 3
   },
   "file_extension": ".py",
   "mimetype": "text/x-python",
   "name": "python",
   "nbconvert_exporter": "python",
   "pygments_lexer": "ipython3",
   "version": "3.8.5"
  }
 },
 "nbformat": 4,
 "nbformat_minor": 4
}
