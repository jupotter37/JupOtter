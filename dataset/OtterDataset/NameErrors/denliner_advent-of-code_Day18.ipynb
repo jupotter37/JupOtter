{
 "cells": [
  {
   "cell_type": "code",
   "execution_count": 41,
   "metadata": {},
   "outputs": [
    {
     "name": "stdout",
     "output_type": "stream",
     "text": [
      "((2 + 4 * 9) * (6 + 9 * 8 + 6) + 6) + 2 + 4 * 2\n",
      "(2 + 4 * 9) * (6 + 9 * 8 + 6) + 6\n",
      "2 + 4 * 9) * (6 + 9 * 8 + 6\n",
      "\n",
      "(2 + 4 * 9) * (6 + 9 * 8 + 6) + 6\n",
      "6 + 9 * 8 + \n",
      "['6 + 9 * 8 + 6', '2 + 4 * 9) * (6 + 9 * 8 + 6', '(2 + 4 * 9) * nextOP + 6', 'nextOP + 2 + 4 * 2']\n",
      "6 + 9 * 8 + 6\n",
      "splitop=['6', '+', '9', '*', '8', '+', '6']\n",
      "nextOP=126\n",
      "2 + 4 * 9) * (6 + 9 * 8 + 6\n",
      "splitop=['2', '+', '4', '*', '9)', '*', '(6', '+', '9', '*', '8', '+', '6']\n"
     ]
    },
    {
     "ename": "SyntaxError",
     "evalue": "unmatched ')' (<string>, line 1)",
     "output_type": "error",
     "traceback": [
      "Traceback \u001b[1;36m(most recent call last)\u001b[0m:\n",
      "  File \u001b[0;32m\"c:\\python39\\lib\\site-packages\\IPython\\core\\interactiveshell.py\"\u001b[0m, line \u001b[0;32m3418\u001b[0m, in \u001b[0;35mrun_code\u001b[0m\n    exec(code_obj, self.user_global_ns, self.user_ns)\n",
      "  File \u001b[0;32m\"<ipython-input-41-e7fe9a2d3a01>\"\u001b[0m, line \u001b[0;32m82\u001b[0m, in \u001b[0;35m<module>\u001b[0m\n    reverseOP(parseOP2(s))\n",
      "\u001b[1;36m  File \u001b[1;32m\"<ipython-input-41-e7fe9a2d3a01>\"\u001b[1;36m, line \u001b[1;32m76\u001b[1;36m, in \u001b[1;35mreverseOP\u001b[1;36m\u001b[0m\n\u001b[1;33m    intermediatesum=eval(op)\u001b[0m\n",
      "\u001b[1;36m  File \u001b[1;32m\"<string>\"\u001b[1;36m, line \u001b[1;32m1\u001b[0m\n\u001b[1;33m    intermediatesum * 9)\u001b[0m\n\u001b[1;37m                       ^\u001b[0m\n\u001b[1;31mSyntaxError\u001b[0m\u001b[1;31m:\u001b[0m unmatched ')'\n"
     ]
    }
   ],
   "source": [
    "def generate_op(name):\n",
    "    return open(name).read().rstrip().splitlines()\n",
    "\n",
    "s=generate_op(\"inputtest.txt\")[3]\n",
    "print(s)\n",
    "#.split(\" * \")\n",
    "list(filter(None,generate_op(\"inputtest.txt\")[0].replace(')',\"(\").split(\"(\")))\n",
    "s1=s[s.find(\"(\")+1:s.rfind(\")\")]\n",
    "#print(s.replace(\"(\"+str(s1)+\")\",\"next\" ))\n",
    "#print(s1)\n",
    "\n",
    "s2=s1[s1.find(\"(\")+1:s1.rfind(\")\")]\n",
    "#print(s1.replace(\"(\"+str(s2)+\")\",\"next\" ))\n",
    "#print(s2)\n",
    "s3=s2[s2.find(\"(\")+1:s2.rfind(\")\")]\n",
    "#print(s2.replace(\"(\"+str(s3)+\")\",\"next\" ))\n",
    "#print(s2)\n",
    "\n",
    "#print(s2.split(\" * \"))\n",
    "\n",
    "def parseOP(operation):\n",
    "    condition=True\n",
    "    previous=operation\n",
    "    listop=[]\n",
    "    s=\"\"\n",
    "    oldprevious=\"\"\n",
    "    while condition:\n",
    "        s=previous[previous.find(\"(\")+1:previous.rfind(\")\")]\n",
    "        formatprevious=previous.replace(\"(\"+str(s)+\")\",\"nextOP\" )\n",
    "        print(s)\n",
    "        if(previous.replace(\"(\"+str(s)+\")\",\"nextOP\" )==previous):\n",
    "            print(oldprevious)\n",
    "            print(oldprevious[oldprevious.rfind(\"(\")+1:oldprevious.rfind(\")\")])\n",
    "            condition=False\n",
    "        else:\n",
    "            oldprevious=previous\n",
    "            previous=s\n",
    "        listop.insert(0,formatprevious)\n",
    "    print(listop)\n",
    "    return listop\n",
    "def parseOP2(operation):\n",
    "    condition=True\n",
    "    previous=operation\n",
    "    listop=[]\n",
    "    s=\"\"\n",
    "    oldprevious=\"\"\n",
    "    while condition:\n",
    "        s=previous[previous.find(\"(\")+1:previous.rfind(\")\")]\n",
    "        formatprevious=previous.replace(\"(\"+str(s)+\")\",\"nextOP\" )\n",
    "        print(s)\n",
    "        if(previous.replace(\"(\"+str(s)+\")\",\"nextOP\" )==previous):\n",
    "            if(\"(\" in previous):\n",
    "                print(oldprevious)\n",
    "                s=oldprevious[oldprevious.rfind(\"(\")+1:oldprevious.rfind(\")\")]\n",
    "                listop[0]=oldprevious.replace(\"(\"+str(s)+\")\",\"nextOP\" )\n",
    "                previous=s\n",
    "            else:\n",
    "                condition=False\n",
    "        else:\n",
    "            oldprevious=previous\n",
    "            previous=s\n",
    "        listop.insert(0,formatprevious)\n",
    "    print(listop)\n",
    "    return listop\n",
    "def reverseOP(listop):\n",
    "    nextOP=0\n",
    "    summ=0\n",
    "    for operation in listop:\n",
    "        print(operation)\n",
    "        splitop=operation.split(\" \")\n",
    "        intermediatesum=0\n",
    "        print(\"splitop=\"+str(splitop))\n",
    "        while(len(splitop)>2):\n",
    "            splitop=operation.split(\" \")\n",
    "            op=\" \".join(splitop[0:3])\n",
    "            intermediatesum=eval(op)\n",
    "            operation= operation.replace(op,\"intermediatesum\")\n",
    "        nextOP=intermediatesum\n",
    "        print(\"nextOP=\"+str(nextOP))\n",
    "    return nextOP\n",
    "\n",
    "reverseOP(parseOP2(s))\n",
    "#reverseOP(parseOP(\"1 + 2 * 3 + 4 * 5 + 6\"))"
   ]
  },
  {
   "cell_type": "code",
   "execution_count": 50,
   "metadata": {},
   "outputs": [
    {
     "ename": "NameError",
     "evalue": "name 'x' is not defined",
     "output_type": "error",
     "traceback": [
      "\u001b[1;31m---------------------------------------------------------------------------\u001b[0m",
      "\u001b[1;31mNameError\u001b[0m                                 Traceback (most recent call last)",
      "\u001b[1;32m<ipython-input-50-7c0056743026>\u001b[0m in \u001b[0;36m<module>\u001b[1;34m\u001b[0m\n\u001b[0;32m      1\u001b[0m \u001b[1;32mimport\u001b[0m \u001b[0mre\u001b[0m\u001b[1;33m\u001b[0m\u001b[1;33m\u001b[0m\u001b[0m\n\u001b[0;32m      2\u001b[0m \u001b[1;31m#eval_ex = lambda ex, ol: eval(re.sub(r\"(\\d+)\", r\"x(\\1)\", ex.replace(\"+\", ol)))\u001b[0m\u001b[1;33m\u001b[0m\u001b[1;33m\u001b[0m\u001b[1;33m\u001b[0m\u001b[0m\n\u001b[1;32m----> 3\u001b[1;33m \u001b[0mprint\u001b[0m\u001b[1;33m(\u001b[0m\u001b[0msum\u001b[0m\u001b[1;33m(\u001b[0m\u001b[0meval_ex\u001b[0m\u001b[1;33m(\u001b[0m\u001b[0ms\u001b[0m\u001b[1;33m,\u001b[0m\u001b[1;34m\"//\"\u001b[0m\u001b[1;33m)\u001b[0m\u001b[1;33m)\u001b[0m\u001b[1;33m)\u001b[0m\u001b[1;33m\u001b[0m\u001b[1;33m\u001b[0m\u001b[0m\n\u001b[0m\u001b[0;32m      4\u001b[0m \u001b[0mprint\u001b[0m\u001b[1;33m(\u001b[0m\u001b[0ms\u001b[0m\u001b[1;33m)\u001b[0m\u001b[1;33m\u001b[0m\u001b[1;33m\u001b[0m\u001b[0m\n\u001b[0;32m      5\u001b[0m \u001b[0mrem\u001b[0m\u001b[1;33m=\u001b[0m\u001b[0ms\u001b[0m\u001b[1;33m.\u001b[0m\u001b[0mreplace\u001b[0m\u001b[1;33m(\u001b[0m\u001b[1;34m\"+\"\u001b[0m\u001b[1;33m,\u001b[0m\u001b[1;34m\"//\"\u001b[0m\u001b[1;33m)\u001b[0m\u001b[1;33m\u001b[0m\u001b[1;33m\u001b[0m\u001b[0m\n",
      "\u001b[1;32m<ipython-input-37-5e2e5e2b9340>\u001b[0m in \u001b[0;36m<lambda>\u001b[1;34m(ex, ol)\u001b[0m\n\u001b[0;32m      1\u001b[0m \u001b[1;32mimport\u001b[0m \u001b[0mre\u001b[0m\u001b[1;33m\u001b[0m\u001b[1;33m\u001b[0m\u001b[0m\n\u001b[1;32m----> 2\u001b[1;33m \u001b[0meval_ex\u001b[0m \u001b[1;33m=\u001b[0m \u001b[1;32mlambda\u001b[0m \u001b[0mex\u001b[0m\u001b[1;33m,\u001b[0m \u001b[0mol\u001b[0m\u001b[1;33m:\u001b[0m \u001b[0meval\u001b[0m\u001b[1;33m(\u001b[0m\u001b[0mre\u001b[0m\u001b[1;33m.\u001b[0m\u001b[0msub\u001b[0m\u001b[1;33m(\u001b[0m\u001b[1;34mr\"(\\d+)\"\u001b[0m\u001b[1;33m,\u001b[0m \u001b[1;34mr\"x(\\1)\"\u001b[0m\u001b[1;33m,\u001b[0m \u001b[0mex\u001b[0m\u001b[1;33m.\u001b[0m\u001b[0mreplace\u001b[0m\u001b[1;33m(\u001b[0m\u001b[1;34m\"+\"\u001b[0m\u001b[1;33m,\u001b[0m \u001b[0mol\u001b[0m\u001b[1;33m)\u001b[0m\u001b[1;33m)\u001b[0m\u001b[1;33m)\u001b[0m\u001b[1;33m\u001b[0m\u001b[1;33m\u001b[0m\u001b[0m\n\u001b[0m\u001b[0;32m      3\u001b[0m \u001b[0mprint\u001b[0m\u001b[1;33m(\u001b[0m\u001b[0msum\u001b[0m\u001b[1;33m(\u001b[0m\u001b[0meval_ex\u001b[0m\u001b[1;33m(\u001b[0m\u001b[0ms\u001b[0m\u001b[1;33m[\u001b[0m\u001b[1;36m3\u001b[0m\u001b[1;33m]\u001b[0m\u001b[1;33m,\u001b[0m\u001b[1;34m\"//\"\u001b[0m\u001b[1;33m)\u001b[0m\u001b[1;33m)\u001b[0m\u001b[1;33m)\u001b[0m\u001b[1;33m\u001b[0m\u001b[1;33m\u001b[0m\u001b[0m\n",
      "\u001b[1;32m<string>\u001b[0m in \u001b[0;36m<module>\u001b[1;34m\u001b[0m\n",
      "\u001b[1;31mNameError\u001b[0m: name 'x' is not defined"
     ]
    }
   ],
   "source": [
    "import re\n",
    "#eval_ex = lambda ex, ol: eval(re.sub(r\"(\\d+)\", r\"x(\\1)\", ex.replace(\"+\", ol)))\n",
    "print(sum(eval_ex(s,\"//\")))\n",
    "print(s)\n",
    "rem=s.replace(\"+\",\"//\")\n",
    "#eval(rem)\n",
    "eval(re.sub(r\"(\\d+)\", r\"x(\\1)\", s.replace(\"+\", \"//\")))"
   ]
  },
  {
   "cell_type": "code",
   "execution_count": 76,
   "metadata": {
    "scrolled": false
   },
   "outputs": [
    {
     "name": "stdout",
     "output_type": "stream",
     "text": [
      "\n",
      "\n",
      "((5 )+ ((((((8 )* 3 )+ 9 )+ 3 )* 4 )* 3))\n",
      "\n",
      "\n"
     ]
    },
    {
     "data": {
      "text/plain": [
       "437"
      ]
     },
     "execution_count": 76,
     "metadata": {},
     "output_type": "execute_result"
    }
   ],
   "source": [
    "\n",
    "def parenteze(op):\n",
    "    newOP=\"((((\"\n",
    "    i=0\n",
    "    previous=\"\"\n",
    "    for c in op:\n",
    "        if(c==\"(\"):\n",
    "            newOP=newOP+\"((((\"\n",
    "            i+=1\n",
    "            previous=\"(\"\n",
    "        elif(c==\")\"):\n",
    "            newOP=newOP+\"))))\"\n",
    "            i+=1\n",
    "            previous=\")\"\n",
    "        elif(c==\"^\"):\n",
    "            newOP=newOP+\")^(\"\n",
    "            i+=1\n",
    "            previous=\"^\"\n",
    "        elif(c==\"*\"):\n",
    "            newOP=newOP+\"))*((\"\n",
    "            i+=1\n",
    "            previous=\"*\"\n",
    "        elif(c==\"/\"):\n",
    "            newOP=newOP+\"))/((\"\n",
    "            i+=1\n",
    "            previous=\"/\"\n",
    "        elif(c==\"+\"):\n",
    "            if(i==1 and not previous in \"*/+-\"):\n",
    "                newOP+=\"+\"\n",
    "            else:\n",
    "                newOP+=\")))+(((\"\n",
    "        elif(c==\"-\"):\n",
    "            if(i==1 and not previous in \"*/+-\"):\n",
    "                newOP+=\"-\"\n",
    "            else:\n",
    "                newOP+=\")))-(((\"\n",
    "        else:\n",
    "            newOP+=str(c)\n",
    "    return newOP+\"))))\"\n",
    "\n",
    "\n",
    "def ReverseParenthesesp2(op):\n",
    "    newOP=\"((((\"\n",
    "    i=0\n",
    "    previous=\"\"\n",
    "    for c in op:\n",
    "        if(c==\"(\"):\n",
    "            newOP=newOP+\"((((\"\n",
    "            i+=1\n",
    "            previous=\"(\"\n",
    "        elif(c==\")\"):\n",
    "            newOP=newOP+\"))))\"\n",
    "            i+=1\n",
    "            previous=\")\"\n",
    "        elif(c==\"^\"):\n",
    "            newOP=newOP+\")^(\"\n",
    "            i+=1\n",
    "            previous=\"^\"\n",
    "        elif(c==\"*\"):\n",
    "            newOP=newOP+\")))*(((\"\n",
    "            i+=1\n",
    "            previous=\"*\"\n",
    "        elif(c==\"/\"):\n",
    "            newOP=newOP+\")))/(((\"\n",
    "            i+=1\n",
    "            previous=\"/\"\n",
    "        elif(c==\"+\"):\n",
    "            if(i==1 and not previous in \"*/+-\"):\n",
    "                newOP+=\"+\"\n",
    "            else:\n",
    "                newOP+=\"))+((\"\n",
    "        elif(c==\"-\"):\n",
    "            if(i==1 and not previous in \"*/+-\"):\n",
    "                newOP+=\"-\"\n",
    "            else:\n",
    "                newOP+=\"))-((\"\n",
    "        else:\n",
    "            newOP+=str(c)\n",
    "    return newOP+\"))))\"\n",
    "\n",
    "\n",
    "\n",
    "def ReverseParentheses(op,startIndex):\n",
    "    newOP=\"\"\n",
    "    i=1\n",
    "    previous=\"\"\n",
    "    done=[]\n",
    "    print(op)\n",
    "    for indice,c in enumerate(op):\n",
    "        if indice not in done:\n",
    "            #print(done)\n",
    "            #print(indice)\n",
    "            #print(c)\n",
    "            #if not c==\" \":\n",
    "                #print(c)\n",
    "            if c in \"+-*/\":\n",
    "                newOP+= ')'+c\n",
    "                i+=1\n",
    "            elif(c==\"(\"):\n",
    "                #print(\"indice=\"+str(indice)+\"\\n\")\n",
    "                depth=ReverseParentheses2(op[indice+1:],indice+1)\n",
    "                #print(\"depth=\"+str(depth))\n",
    "                #print(\"\\n\")\n",
    "                newOP+=depth[0]\n",
    "                done+=depth[1]\n",
    "                #print(\"depth[1]=\"+str(depth[1]))\n",
    "                #print(done)\n",
    "                #print(\"\\n\\n\")\n",
    "            elif(c==\")\"):\n",
    "                done.append(indice)\n",
    "                return i*\"(\"+newOP+\")\",[x + startIndex for x in done] \n",
    "            else:\n",
    "                newOP+=str(c)\n",
    "        done.append(indice)\n",
    "    return i*\"(\"+newOP+\")\"\n",
    "\n",
    "print(\"\\n\")\n",
    "print(ReverseParenthesesP1(\"5 + (8 * 3 + 9 + 3 * 4 * 3)\",0))\n",
    "print('\\n')\n",
    "eval(ReverseParenthesesP1(\"5 + (8 * 3 + 9 + 3 * 4 * 3)\",0))"
   ]
  },
  {
   "cell_type": "code",
   "execution_count": 71,
   "metadata": {},
   "outputs": [
    {
     "data": {
      "text/plain": [
       "34184"
      ]
     },
     "execution_count": 71,
     "metadata": {},
     "output_type": "execute_result"
    }
   ],
   "source": []
  },
  {
   "cell_type": "code",
   "execution_count": 104,
   "metadata": {
    "scrolled": true
   },
   "outputs": [
    {
     "data": {
      "text/plain": [
       "'((((1 )))+((( 2 )))*((( 3 )))+((( 4 )))*((( 5 )))+((( 6))))'"
      ]
     },
     "execution_count": 104,
     "metadata": {},
     "output_type": "execute_result"
    }
   ],
   "source": [
    "eval(ReverseParentheses2(\"5 + (8 * 3 + 9 + 3 * 4 * 3)\"))\n",
    "eval(ReverseParentheses(\"1 + 2 * 3 + 4 * 5 + 6\"))\n",
    "ReverseParentheses(\"1 + 2 * 3 + 4 * 5 + 6\")"
   ]
  },
  {
   "cell_type": "code",
   "execution_count": 118,
   "metadata": {},
   "outputs": [
    {
     "data": {
      "text/plain": [
       "71"
      ]
     },
     "execution_count": 118,
     "metadata": {},
     "output_type": "execute_result"
    }
   ],
   "source": [
    "((((((1 )+ 2) * 3) + 4) * 5) + 6)"
   ]
  },
  {
   "cell_type": "code",
   "execution_count": 77,
   "metadata": {},
   "outputs": [
    {
     "name": "stdout",
     "output_type": "stream",
     "text": [
      "14006719520523\n",
      "545115449981968\n",
      "3\n"
     ]
    }
   ],
   "source": [
    "def generate_op(name):\n",
    "    return open(name).read().rstrip().splitlines()\n",
    "\n",
    "def ReverseParenthesesP1(op,startIndex):\n",
    "    newOP=\"\"\n",
    "    i=1\n",
    "    previous=\"\"\n",
    "    done=[]\n",
    "    #print(op)\n",
    "    for indice,c in enumerate(op):\n",
    "        if indice not in done:\n",
    "            if c in \"+-*/\":\n",
    "                newOP+= ')'+c\n",
    "                i+=1\n",
    "            elif(c==\"(\"):\n",
    "                depth=ReverseParenthesesP1(op[indice+1:],indice+1)\n",
    "                newOP+=depth[0]\n",
    "                done+=depth[1]\n",
    "            elif(c==\")\"):\n",
    "                done.append(indice)\n",
    "                return i*\"(\"+newOP+\")\",[x + startIndex for x in done] \n",
    "            else:\n",
    "                newOP+=str(c)\n",
    "        done.append(indice)\n",
    "    return i*\"(\"+newOP+\")\"\n",
    "\n",
    "def ReverseParenthesesP1V2(op,startIndex):\n",
    "    i= op.count(\"+\")+op.count(\"*\")+op.count(\"-\")+op.count(\"/\")\n",
    "    print(i)\n",
    "    s=op.replace('+',\"))+(\").replace('-',\"))-(\").replace('*',\"))*(\").replace('/',\"))/(\")\n",
    "    s=s.replace('(',\"(\"*i).replace(')',\")\"*i) \n",
    "    print(s)\n",
    "    return  \"(\"*(i+2)+s+\"))\"\n",
    "\n",
    "def ReverseParenthesesP2(op,startIndex):\n",
    "    newOP=\"(((\"\n",
    "    i=0\n",
    "    previous=\"\"\n",
    "    for c in op:\n",
    "        if(c==\"(\"):\n",
    "            newOP=newOP+\"(((\"\n",
    "            i+=1\n",
    "            previous=\"(\"\n",
    "        elif(c==\")\"):\n",
    "            newOP=newOP+\")))\"\n",
    "            i+=1\n",
    "            previous=\")\"\n",
    "        elif(c==\"*\"):\n",
    "            newOP=newOP+\"))*((\"\n",
    "            i+=1\n",
    "            previous=\"*\"\n",
    "        elif(c==\"+\"):\n",
    "            if(i==1 and not previous in \"*/+-\"):\n",
    "                newOP+=\"+\"\n",
    "            else:\n",
    "                newOP+=\")+(\"\n",
    "            i+=1\n",
    "        else:\n",
    "            newOP+=str(c)\n",
    "    return newOP+\")))\"\n",
    "\n",
    "def day18(listOP,ReverseParentheses):\n",
    "    summ=0\n",
    "    for op in listOP:\n",
    "        summ+=eval(ReverseParentheses(op,0))\n",
    "    return summ\n",
    "\n",
    "s=generate_op(\"input.txt\")\n",
    "print(day18(s,ReverseParenthesesP1))\n",
    "print(day18(s,ReverseParenthesesP2))\n",
    "print(\"5 * 9 * (7 * 3 * 3 + 9 * 3 + (8 + 6 * 4))\".count(\"+\"))"
   ]
  }
 ],
 "metadata": {
  "kernelspec": {
   "display_name": "Python 3",
   "language": "python",
   "name": "python3"
  },
  "language_info": {
   "codemirror_mode": {
    "name": "ipython",
    "version": 3
   },
   "file_extension": ".py",
   "mimetype": "text/x-python",
   "name": "python",
   "nbconvert_exporter": "python",
   "pygments_lexer": "ipython3",
   "version": "3.9.0"
  }
 },
 "nbformat": 4,
 "nbformat_minor": 4
}
