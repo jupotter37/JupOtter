{
 "cells": [
  {
   "cell_type": "markdown",
   "metadata": {},
   "source": [
    "### 学习参考\n",
    "https://www.cnblogs.com/yyds/p/7072492.html"
   ]
  },
  {
   "cell_type": "markdown",
   "metadata": {},
   "source": [
    "## hashlib模块\n",
    "提供函数MD5，SHA1，SHA224，SHA256，SHA384和SHA512\n",
    "\n",
    ">注意：hashlib和hmac只提供了单向加密的各种算法实现\n",
    "\n",
    "![](https://cdn.jsdelivr.net/gh/acryan54/images@main/pic/20220418202233.png)"
   ]
  },
  {
   "cell_type": "code",
   "execution_count": 42,
   "metadata": {},
   "outputs": [
    {
     "name": "stdout",
     "output_type": "stream",
     "text": [
      "<class 'bytes'> b'byte_data'\n",
      "asdf\n",
      "b'asfds'\n"
     ]
    }
   ],
   "source": [
    "# bytes和str类型转换\n",
    "byte_data = b'byte_data'\n",
    "print(type(byte_data), byte_data)\n",
    "print(bytes.decode(b'asdf'))\n",
    "print(str.encode('asfds'))"
   ]
  },
  {
   "cell_type": "code",
   "execution_count": 43,
   "metadata": {},
   "outputs": [],
   "source": [
    "hash  = hashlib.new('md5')\n",
    "hash.update(b'Hello, World!')"
   ]
  },
  {
   "cell_type": "code",
   "execution_count": 44,
   "metadata": {},
   "outputs": [
    {
     "name": "stdout",
     "output_type": "stream",
     "text": [
      "<class 'str'> \t 32 \t 50025703393ede926cace2b1876cd9b4\n"
     ]
    }
   ],
   "source": [
    "import hashlib\n",
    "\n",
    "h = hashlib.md5()\n",
    "h.update(b'Hello!')\n",
    "h.update(b' World.')\n",
    "ret1 = h.hexdigest()\n",
    "print(type(ret1),'\\t', len(ret1),'\\t', ret1)"
   ]
  },
  {
   "cell_type": "markdown",
   "metadata": {},
   "source": [
    "## hmac模块\n",
    "HMAC算法也是一种一种单项加密算法，并且它是基于上面各种哈希算法/散列算法的，只是它可以在运算过程中使用一个密钥来增增强安全性\n",
    "![](https://cdn.jsdelivr.net/gh/acryan54/images@main/pic/20220418202330.png)"
   ]
  },
  {
   "cell_type": "code",
   "execution_count": 4,
   "metadata": {},
   "outputs": [
    {
     "name": "stdout",
     "output_type": "stream",
     "text": [
      "<class 'str'> 64 c3f88221e789704a16caccaae8b47c7683d52cf89f1f7962ac85473107fa1837\n",
      "<class 'str'> 32 888f1da4a2f0b5eb6ad97dcfd6a080df\n"
     ]
    }
   ],
   "source": [
    "import hmac\n",
    "import hashlib\n",
    "\n",
    "h1 = hmac.new(b'here is key 1', b'Hello, ', digestmod=hashlib.sha256)\n",
    "h1.update(b'World!')\n",
    "ret1 = h1.hexdigest()\n",
    "print(type(ret1), len(ret1), ret1)\n",
    "\n",
    "h2 = hmac.new(b'there is key 2!', digestmod=hashlib.md5)\n",
    "h2.update(b'Hello, World!')\n",
    "ret2 = h2.hexdigest()\n",
    "print(type(ret2), len(ret2), ret2)"
   ]
  },
  {
   "cell_type": "markdown",
   "metadata": {},
   "source": [
    "## random模块\n",
    "官方文章中有声明，该模块完全不适合用作数据加密。\n",
    "![](https://cdn.jsdelivr.net/gh/acryan54/images@main/pic/20220418202828.png)"
   ]
  },
  {
   "cell_type": "code",
   "execution_count": 66,
   "metadata": {},
   "outputs": [
    {
     "name": "stdout",
     "output_type": "stream",
     "text": [
      "random.random():  0.16301675682469785\n",
      "random.uniform(10, 20):  10.480990491964697\n",
      "random.randint(10, 20):  16\n",
      "random.randrange(10, 20, 2):  18\n",
      "random.choice('abcd1234'):  4\n",
      "random.sample('abcd1234', 3):  ['d', '2', 'a']\n",
      "random.sample('abcd1234', 3):  ['b', 'c', 'd']\n",
      "random.shuffle([1, 2, 3, 4, 5, 6]):  None\n",
      "random.shuffle([1, 2, 3, 4, 5, 6]):  [3, 5, 4, 6, 2, 1]\n"
     ]
    }
   ],
   "source": [
    "import random\n",
    "\n",
    "print(\"random.random(): \", random.random())\n",
    "print(\"random.uniform(10, 20): \", random.uniform(10, 20))\n",
    "print(\"random.randint(10, 20): \", random.randint(10, 20))\n",
    "print(\"random.randrange(10, 20, 2): \", random.randrange(10, 20, 2))\n",
    "print(\"random.choice('abcd1234'): \", random.choice('abcd1234'))\n",
    "print(\"random.sample('abcd1234', 3): \", random.sample('abcd1234', 3))\n",
    "print(\"random.sample('abcd1234', 3): \", random.sample('abcd1234', 3))\n",
    "print(\"random.shuffle([1, 2, 3, 4, 5, 6]): \", random.shuffle([1, 2, 3, 4, 5, 6])) # random.shuffle()的函数没有返回结果\n",
    "list = [1, 2, 3, 4, 5, 6]\n",
    "random.shuffle(list)\n",
    "print(\"random.shuffle([1, 2, 3, 4, 5, 6]): \", list)"
   ]
  },
  {
   "cell_type": "markdown",
   "metadata": {},
   "source": [
    "## secrets模块\n",
    "我们可以通过secrets模块完成两种操作：\n",
    "1. 生成安全随机数\n",
    "2. 生成一个笃定长度的随机字符串--可用作令牌和安全URL\n",
    "\n",
    "![](https://cdn.jsdelivr.net/gh/acryan54/images@main/pic/20220418203429.png)"
   ]
  },
  {
   "cell_type": "code",
   "execution_count": 1,
   "metadata": {},
   "outputs": [
    {
     "name": "stdout",
     "output_type": "stream",
     "text": [
      "Jxh5mt2l\n"
     ]
    }
   ],
   "source": [
    "# 生成一个随机密码\n",
    "# 注：any(iterable)可以对密码加以筛选\n",
    "import secrets\n",
    "import string\n",
    "\n",
    "alphanum = string.ascii_letters + string.digits\n",
    "password = ''.join(secrets.choice(alphanum) for i in range(8))\n",
    "print(password)"
   ]
  },
  {
   "cell_type": "code",
   "execution_count": 3,
   "metadata": {},
   "outputs": [
    {
     "ename": "NameError",
     "evalue": "name 'secrets' is not defined",
     "output_type": "error",
     "traceback": [
      "\u001b[1;31m----------------------------------------------------------------------\u001b[0m",
      "\u001b[1;31mNameError\u001b[0m                            Traceback (most recent call last)",
      "Input \u001b[1;32mIn [3]\u001b[0m, in \u001b[0;36m<cell line: 2>\u001b[1;34m()\u001b[0m\n\u001b[0;32m      1\u001b[0m \u001b[38;5;66;03m# test\u001b[39;00m\n\u001b[1;32m----> 2\u001b[0m password1 \u001b[38;5;241m=\u001b[39m \u001b[38;5;124;43m'\u001b[39;49m\u001b[38;5;124;43m'\u001b[39;49m\u001b[38;5;241;43m.\u001b[39;49m\u001b[43mjoin\u001b[49m\u001b[43m(\u001b[49m\u001b[43msecrets\u001b[49m\u001b[38;5;241;43m.\u001b[39;49m\u001b[43mchoice\u001b[49m\u001b[43m(\u001b[49m\u001b[43mstring\u001b[49m\u001b[38;5;241;43m.\u001b[39;49m\u001b[43mdigits\u001b[49m\u001b[43m \u001b[49m\u001b[38;5;241;43m+\u001b[39;49m\u001b[43m \u001b[49m\u001b[38;5;124;43m'\u001b[39;49m\u001b[38;5;124;43mabcdef\u001b[39;49m\u001b[38;5;124;43m'\u001b[39;49m\u001b[43m)\u001b[49m\u001b[43m \u001b[49m\u001b[38;5;28;43;01mfor\u001b[39;49;00m\u001b[43m \u001b[49m\u001b[43m_\u001b[49m\u001b[43m \u001b[49m\u001b[38;5;129;43;01min\u001b[39;49;00m\u001b[43m \u001b[49m\u001b[38;5;28;43mrange\u001b[39;49m\u001b[43m(\u001b[49m\u001b[38;5;241;43m64\u001b[39;49m\u001b[43m)\u001b[49m\u001b[43m)\u001b[49m\n\u001b[0;32m      3\u001b[0m \u001b[38;5;28mprint\u001b[39m(password1,\u001b[38;5;124m'\u001b[39m\u001b[38;5;130;01m\\n\u001b[39;00m\u001b[38;5;124m'\u001b[39m,\u001b[38;5;28mlen\u001b[39m(password1))\n",
      "Input \u001b[1;32mIn [3]\u001b[0m, in \u001b[0;36m<genexpr>\u001b[1;34m(.0)\u001b[0m\n\u001b[0;32m      1\u001b[0m \u001b[38;5;66;03m# test\u001b[39;00m\n\u001b[1;32m----> 2\u001b[0m password1 \u001b[38;5;241m=\u001b[39m \u001b[38;5;124m'\u001b[39m\u001b[38;5;124m'\u001b[39m\u001b[38;5;241m.\u001b[39mjoin(\u001b[43msecrets\u001b[49m\u001b[38;5;241m.\u001b[39mchoice(string\u001b[38;5;241m.\u001b[39mdigits \u001b[38;5;241m+\u001b[39m \u001b[38;5;124m'\u001b[39m\u001b[38;5;124mabcdef\u001b[39m\u001b[38;5;124m'\u001b[39m) \u001b[38;5;28;01mfor\u001b[39;00m _ \u001b[38;5;129;01min\u001b[39;00m \u001b[38;5;28mrange\u001b[39m(\u001b[38;5;241m64\u001b[39m))\n\u001b[0;32m      3\u001b[0m \u001b[38;5;28mprint\u001b[39m(password1,\u001b[38;5;124m'\u001b[39m\u001b[38;5;130;01m\\n\u001b[39;00m\u001b[38;5;124m'\u001b[39m,\u001b[38;5;28mlen\u001b[39m(password1))\n",
      "\u001b[1;31mNameError\u001b[0m: name 'secrets' is not defined"
     ]
    }
   ],
   "source": [
    "# test\n",
    "password1 = ''.join(secrets.choice(string.digits + 'abcdef') for _ in range(64))\n",
    "print(password1,'\\n',len(password1))"
   ]
  },
  {
   "cell_type": "markdown",
   "metadata": {},
   "source": [
    "## pycrypto模块\n",
    "提供了各种加密方式对应的多种加密算法的实现，包括 单向加密、对称加密以及公钥加密和随机数操作\n",
    "\n",
    "参考：https://www.jianshu.com/p/6a39610122fa"
   ]
  },
  {
   "cell_type": "markdown",
   "metadata": {},
   "source": [
    "## rsa模块\n",
    "https://blog.csdn.net/qq_41621362/article/details/102105642"
   ]
  }
 ],
 "metadata": {
  "interpreter": {
   "hash": "83dcda9c6f21f72eb91322f25bd90dcfc44fcd27b2ed6d45c45385eb1dc16ae7"
  },
  "kernelspec": {
   "display_name": "Python 3 (ipykernel)",
   "language": "python",
   "name": "python3"
  },
  "language_info": {
   "codemirror_mode": {
    "name": "ipython",
    "version": 3
   },
   "file_extension": ".py",
   "mimetype": "text/x-python",
   "name": "python",
   "nbconvert_exporter": "python",
   "pygments_lexer": "ipython3",
   "version": "3.10.4"
  }
 },
 "nbformat": 4,
 "nbformat_minor": 2
}
