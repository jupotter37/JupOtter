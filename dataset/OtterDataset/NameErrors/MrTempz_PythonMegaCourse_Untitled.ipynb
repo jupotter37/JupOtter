{
 "cells": [
  {
   "cell_type": "code",
   "execution_count": 1,
   "id": "e8e3a760",
   "metadata": {},
   "outputs": [
    {
     "ename": "SyntaxError",
     "evalue": "invalid syntax (239544421.py, line 2)",
     "output_type": "error",
     "traceback": [
      "\u001b[1;36m  Input \u001b[1;32mIn [1]\u001b[1;36m\u001b[0m\n\u001b[1;33m    match country.lower():\u001b[0m\n\u001b[1;37m          ^\u001b[0m\n\u001b[1;31mSyntaxError\u001b[0m\u001b[1;31m:\u001b[0m invalid syntax\n"
     ]
    }
   ],
   "source": [
    "country = input(\"Where are you from? \")\n",
    "match country.lower():\n",
    "    case 'usa':\n",
    "        print('Hello')\n",
    "    case 'india':\n",
    "        print('Namaste')\n",
    "    case 'germany':\n",
    "        print('Hallo')\n",
    "    "
   ]
  },
  {
   "cell_type": "raw",
   "id": "b321ca8f",
   "metadata": {},
   "source": [
    "dir(python)"
   ]
  },
  {
   "cell_type": "code",
   "execution_count": 2,
   "id": "0b1fd30b",
   "metadata": {},
   "outputs": [
    {
     "ename": "NameError",
     "evalue": "name 'which' is not defined",
     "output_type": "error",
     "traceback": [
      "\u001b[1;31m---------------------------------------------------------------------------\u001b[0m",
      "\u001b[1;31mNameError\u001b[0m                                 Traceback (most recent call last)",
      "Input \u001b[1;32mIn [2]\u001b[0m, in \u001b[0;36m<cell line: 1>\u001b[1;34m()\u001b[0m\n\u001b[1;32m----> 1\u001b[0m \u001b[43mwhich\u001b[49m(python)\n",
      "\u001b[1;31mNameError\u001b[0m: name 'which' is not defined"
     ]
    }
   ],
   "source": [
    "which(python)"
   ]
  },
  {
   "cell_type": "code",
   "execution_count": 4,
   "id": "7ca0b8b8",
   "metadata": {},
   "outputs": [
    {
     "data": {
      "text/plain": [
       "'3.9.12'"
      ]
     },
     "execution_count": 4,
     "metadata": {},
     "output_type": "execute_result"
    }
   ],
   "source": [
    "from platform import python_version\n",
    "python_version()"
   ]
  },
  {
   "cell_type": "code",
   "execution_count": 5,
   "id": "7165cf97",
   "metadata": {},
   "outputs": [
    {
     "name": "stdout",
     "output_type": "stream",
     "text": [
      "John Smith\n",
      "Sen Plakay\n",
      "Dora Ngacely\n"
     ]
    }
   ],
   "source": [
    "ingredients = [\"john smith\", \"sen plakay\", \"dora ngacely\"]\n",
    "for ingredient in ingredients:\n",
    "    print(ingredient.title())"
   ]
  },
  {
   "cell_type": "code",
   "execution_count": null,
   "id": "a730f73d",
   "metadata": {},
   "outputs": [],
   "source": []
  }
 ],
 "metadata": {
  "kernelspec": {
   "display_name": "Python 3 (ipykernel)",
   "language": "python",
   "name": "python3"
  },
  "language_info": {
   "codemirror_mode": {
    "name": "ipython",
    "version": 3
   },
   "file_extension": ".py",
   "mimetype": "text/x-python",
   "name": "python",
   "nbconvert_exporter": "python",
   "pygments_lexer": "ipython3",
   "version": "3.9.12"
  }
 },
 "nbformat": 4,
 "nbformat_minor": 5
}
