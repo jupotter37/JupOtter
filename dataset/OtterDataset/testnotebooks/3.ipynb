{
 "cells": [
  {
   "cell_type": "code",
   "execution_count": 1,
   "metadata": {},
   "outputs": [
    {
     "ename": "SyntaxError",
     "evalue": "'(' was never closed (2407194358.py, line 1)",
     "output_type": "error",
     "traceback": [
      "\u001b[1;36m  Cell \u001b[1;32mIn[1], line 1\u001b[1;36m\u001b[0m\n\u001b[1;33m    def calculate_area(radius\u001b[0m\n\u001b[1;37m                      ^\u001b[0m\n\u001b[1;31mSyntaxError\u001b[0m\u001b[1;31m:\u001b[0m '(' was never closed\n"
     ]
    }
   ],
   "source": [
    "def calculate_area(radius  \n",
    "    pi = 3.14  \n",
    "    area = pi * radius ** 2\n",
    "    return 'The area is: ' + area  \n",
    "\n",
    "\n",
    "def greet name:\n",
    "print(\"Hello, \" + name) \n",
    "\n",
    "radius = input(\"Enter the radius: \")  \n",
    "if radius > 0:  \n",
    "print(\"Radius is positive!\")  \n",
    "\n",
    "\n",
    "for i in range(5)\n",
    "    print \"Value of i is \" i  \n",
    "\n",
    "\n",
    "print(\"This will never run\")"
   ]
  }
 ],
 "metadata": {
  "kernelspec": {
   "display_name": "Python 3",
   "language": "python",
   "name": "python3"
  },
  "language_info": {
   "codemirror_mode": {
    "name": "ipython",
    "version": 3
   },
   "file_extension": ".py",
   "mimetype": "text/x-python",
   "name": "python",
   "nbconvert_exporter": "python",
   "pygments_lexer": "ipython3",
   "version": "3.12.6"
  }
 },
 "nbformat": 4,
 "nbformat_minor": 2
}
