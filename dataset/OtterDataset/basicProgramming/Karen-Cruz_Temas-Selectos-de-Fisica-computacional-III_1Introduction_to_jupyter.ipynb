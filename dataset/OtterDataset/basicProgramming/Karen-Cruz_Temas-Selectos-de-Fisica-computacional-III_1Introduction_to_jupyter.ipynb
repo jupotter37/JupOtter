{
 "cells": [
  {
   "cell_type": "markdown",
   "metadata": {},
   "source": [
    " <font color = 'blue'>\n",
    "    \n",
    "# Jupyter Notebook"
   ]
  },
  {
   "cell_type": "markdown",
   "metadata": {},
   "source": [
    "Notebook (nb) documents are documents produced by the Jupyter Notebook App, which contain both computer code and rich text elements like paragraph, equations, figures, links, etc. "
   ]
  },
  {
   "cell_type": "markdown",
   "metadata": {},
   "source": [
    "<font color='blue'>\n",
    "\n",
    "## Installation \n",
    "\n",
    "[Installing the Jupyter Software](https://jupyter.org/install)"
   ]
  },
  {
   "cell_type": "markdown",
   "metadata": {},
   "source": [
    " <font color = 'blue'>\n",
    "\n",
    "\n",
    "# Jupyter Notebook App"
   ]
  },
  {
   "cell_type": "markdown",
   "metadata": {},
   "source": [
    "The Jupyter Notebook App is a server-client application that allows editing and running notebook documents via a web browser. The Jupyter Notebook App can be executed on a local desktop requiring no internet access or can be installed on a remote server and accessed through the internet.\n",
    "\n",
    "To displaying/editing/running notebook documents, the Jupyter Notebook App has a “Dashboard” (Notebook Dashboard), a “control panel” showing local files and allowing to open notebook documents or shutting down their kernels."
   ]
  },
  {
   "cell_type": "markdown",
   "metadata": {},
   "source": [
    "<font color = 'blue'>\n",
    "\n",
    "# Kernel"
   ]
  },
  {
   "cell_type": "markdown",
   "metadata": {},
   "source": [
    "A notebook kernel is a computational engine that executes the code contained in a Notebook document [(official kernels)](https://jupyter.readthedocs.io/en/latest/#kernels).\n",
    "\n",
    "When you open a Notebook document, the associated kernel is automatically launched. When the notebook is executed, the kernel performs the computation and produces the results.\n",
    "\n",
    "Documentation: [jupyter nb](https://jupyter-notebook-beginner-guide.readthedocs.io/en/latest/what_is_jupyter.html)"
   ]
  },
  {
   "cell_type": "markdown",
   "metadata": {},
   "source": [
    "<font color = 'blue'>\n",
    "    \n",
    "##  Running the Notebook"
   ]
  },
  {
   "cell_type": "markdown",
   "metadata": {},
   "source": [
    "You can open a server from terminal (bash or cmd) by typing:"
   ]
  },
  {
   "cell_type": "raw",
   "metadata": {},
   "source": [
    "jupyter notebook"
   ]
  },
  {
   "cell_type": "markdown",
   "metadata": {},
   "source": [
    "You can see somtehing like in the next image, that is information about the notebook server\n"
   ]
  },
  {
   "cell_type": "markdown",
   "metadata": {},
   "source": [
    "<img src = \"images/terminal.png\">\n",
    "<figcaption> <center> Fig. 1 Terminal </center> </figcaption>"
   ]
  },
  {
   "cell_type": "markdown",
   "metadata": {},
   "source": [
    "\n",
    "It will then open your default web browser to http://localhost:8888 URL (by default).\n",
    "\n",
    "When the notebook opens in your browser, you will see the Notebook Dashboard, which will show a list of the notebooks, files, and subdirectories in the directory where the notebook server was started. \n",
    "\n",
    "\n",
    "Documentation: [Running the Nb](https://jupyter.readthedocs.io/en/latest/running.html)"
   ]
  },
  {
   "cell_type": "markdown",
   "metadata": {},
   "source": [
    "<img src = \"images/dashboard.PNG\" style=\"width:850px;height:400px;\">\n",
    "<figcaption> <center> Fig. 2 Notebook Dashboard </center> </figcaption>"
   ]
  },
  {
   "cell_type": "markdown",
   "metadata": {},
   "source": [
    "The right upper corner in the dashboard have the information give it in the **Fig 3**. "
   ]
  },
  {
   "cell_type": "markdown",
   "metadata": {},
   "source": [
    "<img src = \"images/logout.PNG\">\n",
    "<figcaption> <center> Fig. 3 Right upper corner from Nb Dashboard </center> </figcaption>"
   ]
  },
  {
   "cell_type": "markdown",
   "metadata": {},
   "source": [
    "When you go to the \"New\" button you can see the next information (**Fig. 4**):\n"
   ]
  },
  {
   "cell_type": "markdown",
   "metadata": {},
   "source": [
    "<img src = \"images/new.PNG\">\n",
    "<figcaption> <center> Fig. 4 New button from Nb Dashboard </center> </figcaption>"
   ]
  },
  {
   "cell_type": "markdown",
   "metadata": {},
   "source": [
    "That is the type of documents that you can do it. In the first part \"Notebook\" you can select the programming language that you want to use, in this case we only have the python kernel. In the second part \"Other\" you can select a file, folder or terminal to create. \n",
    "\n",
    "Then the next three buttons serve for order the current files (**Fig. 5**):"
   ]
  },
  {
   "cell_type": "markdown",
   "metadata": {},
   "source": [
    "<img src = \"images/order.PNG\">\n",
    "<figcaption> <center> Fig. 5 Ordering current files </center> </figcaption>"
   ]
  },
  {
   "cell_type": "markdown",
   "metadata": {},
   "source": [
    "Now for the left side we have the following:\n",
    "\n",
    "In the upper side we have three buttons: **Files**, **Running** and **Clusters**, and they do what we imagine they do: **Files (Fig. 6)** shows the files contained in the indicated path, **Running (Fig. 7)** shows the files that are being used, and **Clusters** shows the available clusters to use."
   ]
  },
  {
   "cell_type": "markdown",
   "metadata": {},
   "source": [
    "<img src = \"images/current_path.PNG\">\n",
    "<figcaption> <center> Fig. 6 Files button </center> </figcaption>"
   ]
  },
  {
   "cell_type": "markdown",
   "metadata": {},
   "source": [
    "<img src = \"images/running.PNG\">\n",
    "<figcaption> <center> Fig. 7 Running button </center> </figcaption>\n",
    "\n",
    "\n",
    "If we want to open a existing nb, or in general an existing file to edit, we have to click it on it, and it will open automatcally in a new window browser. \n",
    "\n",
    "As we can see, to create a new nb, we click it on the **New** button and select the programming language what do we want to use. Automatically will open the nb in a new window browser, we see the following (**Fig. 8**):"
   ]
  },
  {
   "cell_type": "markdown",
   "metadata": {},
   "source": [
    "<img src = \"images/new_nb.PNG\">\n",
    "<figcaption> <center> Fig. 8 New nb </center> </figcaption>"
   ]
  },
  {
   "cell_type": "markdown",
   "metadata": {},
   "source": [
    "We can identify the next information (**Fig. 9, Fig. 10, Fig. 11**):"
   ]
  },
  {
   "cell_type": "markdown",
   "metadata": {},
   "source": [
    "<img src = \"images/local.PNG\">\n",
    "<figcaption> <center> Fig. 9  </center> </figcaption>"
   ]
  },
  {
   "cell_type": "markdown",
   "metadata": {},
   "source": [
    "<img src = \"images/1.PNG\">\n",
    "<figcaption> <center> Fig. 10  </center> </figcaption>"
   ]
  },
  {
   "cell_type": "markdown",
   "metadata": {},
   "source": [
    "In general, a notebook is composed of two parts, the upper part (1) that contains the information of the current file and the tools available to make them and the lower-middle part (2) that consists of a set of cells where each cell is compiled separately (ctrl + shift). Each time a cell is compiled a new cell is created below it (only if there is no cell below).\n",
    "\n",
    "In the upper left side it have the tools to develop the Nb."
   ]
  },
  {
   "cell_type": "markdown",
   "metadata": {},
   "source": [
    "<img src = \"images/2.PNG\">\n",
    "<figcaption> <center> Fig. 11  </center> </figcaption>"
   ]
  },
  {
   "cell_type": "markdown",
   "metadata": {},
   "source": [
    "When you choose a cell, the color changes to green. To choose a cell, click on it. \n",
    "\n",
    "There are four cell types:\n",
    "\n",
    "**Code** The cell must contain code with the appropriate syntax (corresponding to the programming language selected for nb). When compiling the cell, the instructions given by the code will be executed.\n",
    "\n",
    "**Markdown**  This type of cell allows you to print text, images, formulas, etc. You can use the same syntax as in latex.\n",
    "\n",
    "**Raw NBConvert**  to convert the notebook to another format\n",
    "\n",
    "**Heading** lets you put titles.\n",
    "\n",
    "\n",
    "\n",
    "When you click on this button: <img src = \"images/cmd.PNG\">\n",
    "\n",
    "a new window opens with the commands and their shortcuts. "
   ]
  },
  {
   "cell_type": "markdown",
   "metadata": {},
   "source": [
    "Now, as you learn it is practicing, so let's make our first notebook!"
   ]
  },
  {
   "cell_type": "markdown",
   "metadata": {},
   "source": [
    "    1. Open a jupyter server: type $jupyter notebook in your terminal\n",
    "\n",
    "When the Dashboard Notebook opens\n",
    "\n",
    "    2. Open a Nb with the python programming language: Click on the \"New\" button and select a python Nb \n",
    "\n",
    "\n",
    "    3. Work on the Nb file!"
   ]
  },
  {
   "cell_type": "markdown",
   "metadata": {},
   "source": [
    "Go to our [First_Nb](http://localhost:8888/notebooks/Documents/curso3/1-IntroJupyter/2First_Nb.ipynb) (in which we already assumed that you did the previous three steps and renamed the nb as First_Nb)."
   ]
  }
 ],
 "metadata": {
  "kernelspec": {
   "display_name": "Python 3",
   "language": "python",
   "name": "python3"
  },
  "language_info": {
   "codemirror_mode": {
    "name": "ipython",
    "version": 3
   },
   "file_extension": ".py",
   "mimetype": "text/x-python",
   "name": "python",
   "nbconvert_exporter": "python",
   "pygments_lexer": "ipython3",
   "version": "3.7.4"
  }
 },
 "nbformat": 4,
 "nbformat_minor": 2
}
