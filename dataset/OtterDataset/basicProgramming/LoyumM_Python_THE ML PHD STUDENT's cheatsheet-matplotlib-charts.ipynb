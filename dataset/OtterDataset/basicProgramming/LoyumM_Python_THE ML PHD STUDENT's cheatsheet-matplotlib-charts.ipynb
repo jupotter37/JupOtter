{
 "cells": [
  {
   "cell_type": "markdown",
   "metadata": {
    "papermill": {
     "duration": 0.02839,
     "end_time": "2021-01-21T11:42:52.806384",
     "exception": false,
     "start_time": "2021-01-21T11:42:52.777994",
     "status": "completed"
    },
    "tags": []
   },
   "source": [
    "<font color='blue' size=10><center><u> Cheatsheet - Matplotlib Charts</u></center> </font>"
   ]
  },
  {
   "cell_type": "markdown",
   "metadata": {
    "papermill": {
     "duration": 0.026939,
     "end_time": "2021-01-21T11:42:52.862143",
     "exception": false,
     "start_time": "2021-01-21T11:42:52.835204",
     "status": "completed"
    },
    "tags": []
   },
   "source": [
    "This kernel is all about matplotlib charts -- the basic python data visualization tool."
   ]
  },
  {
   "cell_type": "markdown",
   "metadata": {
    "papermill": {
     "duration": 0.027181,
     "end_time": "2021-01-21T11:42:52.916631",
     "exception": false,
     "start_time": "2021-01-21T11:42:52.889450",
     "status": "completed"
    },
    "tags": []
   },
   "source": [
    "<font color='red' size=5> Please Upvote my kernel and keep it in your favourite section if you think it is helpful.</font>"
   ]
  },
  {
   "cell_type": "markdown",
   "metadata": {
    "papermill": {
     "duration": 0.026946,
     "end_time": "2021-01-21T11:42:52.970975",
     "exception": false,
     "start_time": "2021-01-21T11:42:52.944029",
     "status": "completed"
    },
    "tags": []
   },
   "source": [
    "In the last few months, I was working extensively on plots and to be honest it is hard to remember each and everything and I am tired of looking back and forth in my notebooks for the reference. This hectic process motivates me to prepare this notebook not only for me but also others. Now I dont have to look at different notebooks for the reference only this one enough. I am making this notebook specially copy paste purpose and for beginners to learn matplotlib.\n",
    "\n",
    "I used different datasets such as titanic, heart-disease, iris, pima-indians-diabetes, heart-failure-clinical data and pokemon datasets available on kaggle. All this datasets are used for visulization purpose only, I not trying to say or interpret any conclusion here. \n",
    "\n",
    "Enjoy! 😄"
   ]
  },
  {
   "cell_type": "markdown",
   "metadata": {
    "papermill": {
     "duration": 0.02679,
     "end_time": "2021-01-21T11:42:53.025157",
     "exception": false,
     "start_time": "2021-01-21T11:42:52.998367",
     "status": "completed"
    },
    "tags": []
   },
   "source": [
    "<a id=\"TOC\"></a>\n",
    "\n",
    "<div class=\"list-group\" id=\"list-tab\" role=\"tablist\">\n",
    "<h1 class=\"list-group-item list-group-item-action active\" data-toggle=\"list\" style='background:blue; border:0' role=\"tab\" aria-controls=\"home\"><center>Table of Content</center></h1>\n",
    "    \n",
    "- Introduction\n",
    "- Libraries\n",
    "- Data\n",
    "- Scatter Plot\n",
    "- Line Plot\n",
    "- Multiline Plot\n",
    "- Histogram\n",
    "- Bar Plot\n",
    "- Horizontal Bar Plot\n",
    "- Error Bar Plot\n",
    "- Stacked Bar Plot\n",
    "- Box Plot\n",
    "- Area Plot\n",
    "- Stacked Area Plot\n",
    "- Density Plot\n",
    "- Hexbin Plot\n",
    "- Lollipop Plot"
   ]
  },
  {
   "cell_type": "markdown",
   "metadata": {
    "papermill": {
     "duration": 0.026989,
     "end_time": "2021-01-21T11:42:53.079543",
     "exception": false,
     "start_time": "2021-01-21T11:42:53.052554",
     "status": "completed"
    },
    "tags": []
   },
   "source": [
    "<a id=\"introduction\"></a>\n",
    "<h1 style='background:blue; border:0; color:white'><center>Introduction</center><h1>"
   ]
  },
  {
   "cell_type": "markdown",
   "metadata": {
    "papermill": {
     "duration": 0.027031,
     "end_time": "2021-01-21T11:42:53.133790",
     "exception": false,
     "start_time": "2021-01-21T11:42:53.106759",
     "status": "completed"
    },
    "tags": []
   },
   "source": [
    "## Matplotlib\n",
    "Matplotlib is a plotting library for the Python programming language. It allows to make quality charts in few lines of code. Most of the other python plotting library are build on top of Matplotlib. It makes that a basic understanding of matplotlib is probably needed to make any chart with python.\n"
   ]
  },
  {
   "cell_type": "markdown",
   "metadata": {
    "papermill": {
     "duration": 0.027733,
     "end_time": "2021-01-21T11:42:53.189175",
     "exception": false,
     "start_time": "2021-01-21T11:42:53.161442",
     "status": "completed"
    },
    "tags": []
   },
   "source": [
    "<a id=\"library\"></a>\n",
    "<h1 style='background:blue; border:0; color:white'><center>Libraries</center><h1>"
   ]
  },
  {
   "cell_type": "code",
   "execution_count": 1,
   "metadata": {
    "_cell_guid": "b1076dfc-b9ad-4769-8c92-a6c4dae69d19",
    "_uuid": "8f2839f25d086af736a60e9eeb907d3b93b6e0e5",
    "execution": {
     "iopub.execute_input": "2021-01-21T11:42:53.249180Z",
     "iopub.status.busy": "2021-01-21T11:42:53.248543Z",
     "iopub.status.idle": "2021-01-21T11:42:53.252563Z",
     "shell.execute_reply": "2021-01-21T11:42:53.251908Z"
    },
    "papermill": {
     "duration": 0.036187,
     "end_time": "2021-01-21T11:42:53.252675",
     "exception": false,
     "start_time": "2021-01-21T11:42:53.216488",
     "status": "completed"
    },
    "tags": []
   },
   "outputs": [],
   "source": [
    "# Import dependencies\n",
    "\n",
    "import numpy as np\n",
    "import pandas as pd\n",
    "\n",
    "import matplotlib.pyplot as plt"
   ]
  },
  {
   "cell_type": "markdown",
   "metadata": {
    "papermill": {
     "duration": 0.027289,
     "end_time": "2021-01-21T11:42:53.308143",
     "exception": false,
     "start_time": "2021-01-21T11:42:53.280854",
     "status": "completed"
    },
    "tags": []
   },
   "source": [
    "<a id=\"data\"></a>\n",
    "<h1 style='background:blue; border:0; color:white'><center>Load Data</center><h1>"
   ]
  },
  {
   "cell_type": "code",
   "execution_count": 2,
   "metadata": {
    "_cell_guid": "79c7e3d0-c299-4dcb-8224-4455121ee9b0",
    "_uuid": "d629ff2d2480ee46fbb7e2d37f6b5fab8052498a",
    "execution": {
     "iopub.execute_input": "2021-01-21T11:42:53.366523Z",
     "iopub.status.busy": "2021-01-21T11:42:53.365884Z",
     "iopub.status.idle": "2021-01-21T11:42:54.015610Z",
     "shell.execute_reply": "2021-01-21T11:42:54.014884Z"
    },
    "papermill": {
     "duration": 0.680221,
     "end_time": "2021-01-21T11:42:54.015720",
     "exception": false,
     "start_time": "2021-01-21T11:42:53.335499",
     "status": "completed"
    },
    "tags": []
   },
   "outputs": [],
   "source": [
    "titanic=pd.read_csv('../input/titanic/train.csv')\n",
    "heart_diseases=pd.read_csv('../input/heart-disease-uci/heart.csv')\n",
    "iris=pd.read_csv('../input/iris/Iris.csv')\n",
    "diabetes=pd.read_csv('../input/pima-indians-diabetes-database/diabetes.csv')\n",
    "pokemon=pd.read_csv('../input/pokemon/Pokemon.csv')\n",
    "heart_failure=pd.read_csv('../input/heart-failure-clinical-data/heart_failure_clinical_records_dataset.csv')\n",
    "corona_virus = pd.read_csv('../input/novel-corona-virus-2019-dataset/covid_19_data.csv')\n",
    "latest_covid_cases = pd.read_csv('../input/novel-covid19-dataset/cases_country.csv')"
   ]
  },
  {
   "cell_type": "markdown",
   "metadata": {
    "papermill": {
     "duration": 0.027578,
     "end_time": "2021-01-21T11:42:54.071480",
     "exception": false,
     "start_time": "2021-01-21T11:42:54.043902",
     "status": "completed"
    },
    "tags": []
   },
   "source": [
    "<a id=\"scatter_plot\"></a>\n",
    "<h1 style='background:blue; border:0; color:white'><center>Scatter Plot</center><h1>"
   ]
  },
  {
   "cell_type": "markdown",
   "metadata": {
    "papermill": {
     "duration": 0.027284,
     "end_time": "2021-01-21T11:42:54.126546",
     "exception": false,
     "start_time": "2021-01-21T11:42:54.099262",
     "status": "completed"
    },
    "tags": []
   },
   "source": [
    "A Scatterplot displays the value of 2 sets of data on 2 dimensions. Each dot represents an observation. The position on the X (horizontal) and Y (vertical) axis represents the values of the 2 variables. It is really useful to study the relationship between both variables. It is common to provide even more information using colors or shapes (to show groups, or a third variable). It is also possible to map another variable to the size of each dot, what makes a bubble plot. If you have many dots and struggle with overplotting, consider using 2D density plot."
   ]
  },
  {
   "cell_type": "markdown",
   "metadata": {
    "papermill": {
     "duration": 0.027468,
     "end_time": "2021-01-21T11:42:54.181902",
     "exception": false,
     "start_time": "2021-01-21T11:42:54.154434",
     "status": "completed"
    },
    "tags": []
   },
   "source": [
    "![](https://datavizcatalogue.com/methods/images/anatomy/scatterplot.png)\n",
    "<font size=1><center> Source: [DataVizCatalogue](https://datavizcatalogue.com/methods/images/anatomy/scatterplot.png) </center></font>"
   ]
  },
  {
   "cell_type": "code",
   "execution_count": 3,
   "metadata": {
    "execution": {
     "iopub.execute_input": "2021-01-21T11:42:54.247485Z",
     "iopub.status.busy": "2021-01-21T11:42:54.246622Z",
     "iopub.status.idle": "2021-01-21T11:42:54.433383Z",
     "shell.execute_reply": "2021-01-21T11:42:54.434153Z"
    },
    "papermill": {
     "duration": 0.224255,
     "end_time": "2021-01-21T11:42:54.434336",
     "exception": false,
     "start_time": "2021-01-21T11:42:54.210081",
     "status": "completed"
    },
    "tags": []
   },
   "outputs": [
    {
     "data": {
      "image/png": "[encoded data removed]",
      "text/plain": [
       "<Figure size 432x288 with 1 Axes>"
      ]
     },
     "metadata": {
      "needs_background": "light"
     },
     "output_type": "display_data"
    }
   ],
   "source": [
    "plt.plot(iris['PetalLengthCm'], iris['PetalWidthCm'], linestyle='none', marker='o', color='b')\n",
    "plt.show()"
   ]
  },
  {
   "cell_type": "markdown",
   "metadata": {
    "papermill": {
     "duration": 0.041993,
     "end_time": "2021-01-21T11:42:54.519443",
     "exception": false,
     "start_time": "2021-01-21T11:42:54.477450",
     "status": "completed"
    },
    "tags": []
   },
   "source": [
    "<a id=\"line_plot\"></a>\n",
    "<h1 style='background:blue; border:0; color:white'><center>Line Plot</center><h1>"
   ]
  },
  {
   "cell_type": "markdown",
   "metadata": {
    "papermill": {
     "duration": 0.041966,
     "end_time": "2021-01-21T11:42:54.604018",
     "exception": false,
     "start_time": "2021-01-21T11:42:54.562052",
     "status": "completed"
    },
    "tags": []
   },
   "source": [
    "![](https://datavizcatalogue.com/methods/images/anatomy/line_graph.png)\n",
    "<font size=1><center>Source: [DataVizCatalogue](https://datavizcatalogue.com/methods/images/anatomy/line_graph.png)</center></font>"
   ]
  },
  {
   "cell_type": "code",
   "execution_count": 4,
   "metadata": {
    "execution": {
     "iopub.execute_input": "2021-01-21T11:42:54.692454Z",
     "iopub.status.busy": "2021-01-21T11:42:54.691639Z",
     "iopub.status.idle": "2021-01-21T11:42:54.909398Z",
     "shell.execute_reply": "2021-01-21T11:42:54.909933Z"
    },
    "papermill": {
     "duration": 0.263593,
     "end_time": "2021-01-21T11:42:54.910073",
     "exception": false,
     "start_time": "2021-01-21T11:42:54.646480",
     "status": "completed"
    },
    "tags": []
   },
   "outputs": [
    {
     "data": {
      "image/png": "[encoded data removed]",
      "text/plain": [
       "<Figure size 432x288 with 1 Axes>"
      ]
     },
     "metadata": {
      "needs_background": "light"
     },
     "output_type": "display_data"
    }
   ],
   "source": [
    "x = np.linspace(0, 20, 1000)\n",
    "y = np.cos(x)\n",
    "\n",
    "plt.plot(x,y, color='b', linestyle='--')\n",
    "plt.show()"
   ]
  },
  {
   "cell_type": "markdown",
   "metadata": {
    "papermill": {
     "duration": 0.030374,
     "end_time": "2021-01-21T11:42:54.971344",
     "exception": false,
     "start_time": "2021-01-21T11:42:54.940970",
     "status": "completed"
    },
    "tags": []
   },
   "source": [
    "<a id=\"histogram\"></a>\n",
    "<h1 style='background:blue; border:0; color:white'><center>Histogram</center></h1>\n",
    "\n",
    "An histogram is an accurate graphical representation of the distribution of numerical data. It takes as input one numerical variable only. The variable is cut into several bins, and the\n",
    "number of observation per bin is represented by the height of the bar."
   ]
  },
  {
   "cell_type": "markdown",
   "metadata": {
    "papermill": {
     "duration": 0.029579,
     "end_time": "2021-01-21T11:42:55.030504",
     "exception": false,
     "start_time": "2021-01-21T11:42:55.000925",
     "status": "completed"
    },
    "tags": []
   },
   "source": [
    "![](https://datavizcatalogue.com/methods/images/anatomy/histogram.png)\n",
    "<font size=1><center>Source: [DataVizCatalogue](https://datavizcatalogue.com/methods/images/anatomy/histogram.png)</center></font>"
   ]
  },
  {
   "cell_type": "code",
   "execution_count": 5,
   "metadata": {
    "execution": {
     "iopub.execute_input": "2021-01-21T11:42:55.097070Z",
     "iopub.status.busy": "2021-01-21T11:42:55.096447Z",
     "iopub.status.idle": "2021-01-21T11:42:55.305751Z",
     "shell.execute_reply": "2021-01-21T11:42:55.306408Z"
    },
    "papermill": {
     "duration": 0.246487,
     "end_time": "2021-01-21T11:42:55.306551",
     "exception": false,
     "start_time": "2021-01-21T11:42:55.060064",
     "status": "completed"
    },
    "tags": []
   },
   "outputs": [
    {
     "data": {
      "text/plain": [
       "Text(0.5, 1.0, 'Age distribution.')"
      ]
     },
     "execution_count": 5,
     "metadata": {},
     "output_type": "execute_result"
    },
    {
     "data": {
      "image/png": "[encoded data removed]",
      "text/plain": [
       "<Figure size 432x288 with 1 Axes>"
      ]
     },
     "metadata": {
      "needs_background": "light"
     },
     "output_type": "display_data"
    }
   ],
   "source": [
    "plt.hist(heart_diseases['age'])\n",
    "plt.xlabel('Age')\n",
    "plt.ylabel('Count')\n",
    "plt.title('Age distribution.')"
   ]
  },
  {
   "cell_type": "markdown",
   "metadata": {
    "papermill": {
     "duration": 0.030708,
     "end_time": "2021-01-21T11:42:55.369115",
     "exception": false,
     "start_time": "2021-01-21T11:42:55.338407",
     "status": "completed"
    },
    "tags": []
   },
   "source": [
    "<a id=\"bar_plot\"></a>\n",
    "<h1 style='background:blue; border:0; color:white'><center>Bar Plot</center></h1>\n",
    "\n",
    "A barplot (or barchart) is one of the most common type of plot. It shows the relationship between a numerical variable and a categorical variable. For example, you can display the height of several individuals using bar chart."
   ]
  },
  {
   "cell_type": "markdown",
   "metadata": {
    "papermill": {
     "duration": 0.030764,
     "end_time": "2021-01-21T11:42:55.430680",
     "exception": false,
     "start_time": "2021-01-21T11:42:55.399916",
     "status": "completed"
    },
    "tags": []
   },
   "source": [
    "![](https://datavizcatalogue.com/methods/images/anatomy/bar_chart.png)\n",
    "<font size=1><center>Source: [DataVizCatalogue](https://datavizcatalogue.com/methods/images/anatomy/bar_chart.png)</center></font>"
   ]
  },
  {
   "cell_type": "code",
   "execution_count": 6,
   "metadata": {
    "execution": {
     "iopub.execute_input": "2021-01-21T11:42:55.495598Z",
     "iopub.status.busy": "2021-01-21T11:42:55.494978Z",
     "iopub.status.idle": "2021-01-21T11:42:55.504772Z",
     "shell.execute_reply": "2021-01-21T11:42:55.504238Z"
    },
    "papermill": {
     "duration": 0.043077,
     "end_time": "2021-01-21T11:42:55.504893",
     "exception": false,
     "start_time": "2021-01-21T11:42:55.461816",
     "status": "completed"
    },
    "tags": []
   },
   "outputs": [],
   "source": [
    "bar_data = pokemon['Type 1'].value_counts().reset_index()\n",
    "bar_data['err'] = pokemon['Type 1'].value_counts().std()"
   ]
  },
  {
   "cell_type": "code",
   "execution_count": 7,
   "metadata": {
    "execution": {
     "iopub.execute_input": "2021-01-21T11:42:55.584913Z",
     "iopub.status.busy": "2021-01-21T11:42:55.584145Z",
     "iopub.status.idle": "2021-01-21T11:42:55.764544Z",
     "shell.execute_reply": "2021-01-21T11:42:55.765142Z"
    },
    "papermill": {
     "duration": 0.229597,
     "end_time": "2021-01-21T11:42:55.765268",
     "exception": false,
     "start_time": "2021-01-21T11:42:55.535671",
     "status": "completed"
    },
    "tags": []
   },
   "outputs": [
    {
     "data": {
      "text/plain": [
       "Text(0.5, 1.0, 'Abilities of Pokemons')"
      ]
     },
     "execution_count": 7,
     "metadata": {},
     "output_type": "execute_result"
    },
    {
     "data": {
      "image/png": "[encoded data removed]",
      "text/plain": [
       "<Figure size 432x288 with 1 Axes>"
      ]
     },
     "metadata": {
      "needs_background": "light"
     },
     "output_type": "display_data"
    }
   ],
   "source": [
    "plt.bar(bar_data['index'], bar_data['Type 1'])\n",
    "plt.xticks(rotation=90)\n",
    "plt.xlabel('Ability')\n",
    "plt.ylabel('Count')\n",
    "plt.title(\"Abilities of Pokemons\")"
   ]
  },
  {
   "cell_type": "markdown",
   "metadata": {
    "papermill": {
     "duration": 0.031722,
     "end_time": "2021-01-21T11:42:55.828708",
     "exception": false,
     "start_time": "2021-01-21T11:42:55.796986",
     "status": "completed"
    },
    "tags": []
   },
   "source": [
    "<a id=\"h_bar_plot\"></a>\n",
    "<h1 style='background:blue; border:0; color:white'><center>Horizontal Bar Plot</center></h1>"
   ]
  },
  {
   "cell_type": "code",
   "execution_count": 8,
   "metadata": {
    "execution": {
     "iopub.execute_input": "2021-01-21T11:42:55.899035Z",
     "iopub.status.busy": "2021-01-21T11:42:55.896865Z",
     "iopub.status.idle": "2021-01-21T11:42:56.101710Z",
     "shell.execute_reply": "2021-01-21T11:42:56.101063Z"
    },
    "papermill": {
     "duration": 0.241568,
     "end_time": "2021-01-21T11:42:56.101827",
     "exception": false,
     "start_time": "2021-01-21T11:42:55.860259",
     "status": "completed"
    },
    "tags": []
   },
   "outputs": [
    {
     "data": {
      "text/plain": [
       "Text(0.5, 1.0, 'Abilities of Pokemons')"
      ]
     },
     "execution_count": 8,
     "metadata": {},
     "output_type": "execute_result"
    },
    {
     "data": {
      "image/png": "[encoded data removed]",
      "text/plain": [
       "<Figure size 720x432 with 1 Axes>"
      ]
     },
     "metadata": {
      "needs_background": "light"
     },
     "output_type": "display_data"
    }
   ],
   "source": [
    "plt.figure(figsize=(10,6))\n",
    "plt.barh(bar_data['index'], bar_data['Type 1'])\n",
    "plt.xlabel('Ability')\n",
    "plt.ylabel('Count')\n",
    "plt.title(\"Abilities of Pokemons\")"
   ]
  },
  {
   "cell_type": "markdown",
   "metadata": {
    "papermill": {
     "duration": 0.03298,
     "end_time": "2021-01-21T11:42:56.168870",
     "exception": false,
     "start_time": "2021-01-21T11:42:56.135890",
     "status": "completed"
    },
    "tags": []
   },
   "source": [
    "<a id=\"e_bar_plot\"></a>\n",
    "<h1 style='background:blue; border:0; color:white'><center>Error Bar Plot</center></h1>"
   ]
  },
  {
   "cell_type": "code",
   "execution_count": 9,
   "metadata": {
    "execution": {
     "iopub.execute_input": "2021-01-21T11:42:56.248085Z",
     "iopub.status.busy": "2021-01-21T11:42:56.242765Z",
     "iopub.status.idle": "2021-01-21T11:42:56.451157Z",
     "shell.execute_reply": "2021-01-21T11:42:56.450624Z"
    },
    "papermill": {
     "duration": 0.249016,
     "end_time": "2021-01-21T11:42:56.451262",
     "exception": false,
     "start_time": "2021-01-21T11:42:56.202246",
     "status": "completed"
    },
    "tags": []
   },
   "outputs": [
    {
     "data": {
      "text/plain": [
       "Text(0.5, 1.0, 'Abilities of Pokemons')"
      ]
     },
     "execution_count": 9,
     "metadata": {},
     "output_type": "execute_result"
    },
    {
     "data": {
      "image/png": "[encoded data removed]",
      "text/plain": [
       "<Figure size 432x288 with 1 Axes>"
      ]
     },
     "metadata": {
      "needs_background": "light"
     },
     "output_type": "display_data"
    }
   ],
   "source": [
    "plt.bar(bar_data['index'], bar_data['Type 1'], yerr=bar_data['err'])\n",
    "plt.xticks(rotation=90)\n",
    "plt.xlabel('Ability')\n",
    "plt.ylabel('Count')\n",
    "plt.title(\"Abilities of Pokemons\")"
   ]
  },
  {
   "cell_type": "markdown",
   "metadata": {
    "papermill": {
     "duration": 0.034114,
     "end_time": "2021-01-21T11:42:56.520194",
     "exception": false,
     "start_time": "2021-01-21T11:42:56.486080",
     "status": "completed"
    },
    "tags": []
   },
   "source": [
    "<a id=\"box_plot\"></a>\n",
    "<h1 style='background:blue; border:0; color:white'><center>Box Plot</center></h1>\n",
    "\n",
    "A Box and Whisker Plot (or Box Plot) is a convenient way of visually displaying the data distribution through their quartiles."
   ]
  },
  {
   "cell_type": "markdown",
   "metadata": {
    "papermill": {
     "duration": 0.034081,
     "end_time": "2021-01-21T11:42:56.588555",
     "exception": false,
     "start_time": "2021-01-21T11:42:56.554474",
     "status": "completed"
    },
    "tags": []
   },
   "source": [
    "![](https://datavizcatalogue.com/methods/images/anatomy/box_plot.png)\n",
    "<font size=1><center>Source: [DataVizCatalogue](https://datavizcatalogue.com/methods/images/anatomy/box_plot.png)</center></font>"
   ]
  },
  {
   "cell_type": "markdown",
   "metadata": {
    "papermill": {
     "duration": 0.03391,
     "end_time": "2021-01-21T11:42:56.657093",
     "exception": false,
     "start_time": "2021-01-21T11:42:56.623183",
     "status": "completed"
    },
    "tags": []
   },
   "source": [
    "<a id=\"s_box_plot\"></a>\n",
    "<h1 style='background:blue; border:0; color:white'><center>Simple Box Plot</center></h1>"
   ]
  },
  {
   "cell_type": "code",
   "execution_count": 10,
   "metadata": {
    "execution": {
     "iopub.execute_input": "2021-01-21T11:42:56.746248Z",
     "iopub.status.busy": "2021-01-21T11:42:56.744007Z",
     "iopub.status.idle": "2021-01-21T11:42:56.846565Z",
     "shell.execute_reply": "2021-01-21T11:42:56.846071Z"
    },
    "papermill": {
     "duration": 0.154129,
     "end_time": "2021-01-21T11:42:56.846645",
     "exception": false,
     "start_time": "2021-01-21T11:42:56.692516",
     "status": "completed"
    },
    "tags": []
   },
   "outputs": [
    {
     "data": {
      "text/plain": [
       "Text(0.5, 1.0, 'Simple Box Plot')"
      ]
     },
     "execution_count": 10,
     "metadata": {},
     "output_type": "execute_result"
    },
    {
     "data": {
      "image/png": "[encoded data removed]",
      "text/plain": [
       "<Figure size 720x432 with 1 Axes>"
      ]
     },
     "metadata": {
      "needs_background": "light"
     },
     "output_type": "display_data"
    }
   ],
   "source": [
    "plt.figure(figsize=(10,6))\n",
    "plt.boxplot(heart_diseases['chol'])\n",
    "plt.ylabel('Value')\n",
    "plt.title(\"Simple Box Plot\")"
   ]
  },
  {
   "cell_type": "markdown",
   "metadata": {
    "papermill": {
     "duration": 0.025002,
     "end_time": "2021-01-21T11:42:56.897150",
     "exception": false,
     "start_time": "2021-01-21T11:42:56.872148",
     "status": "completed"
    },
    "tags": []
   },
   "source": [
    "<a id=\"m_box_plot\"></a>\n",
    "<h1 style='background:blue; border:0; color:white'><center>Multiple Box Plot</center></h1>"
   ]
  },
  {
   "cell_type": "code",
   "execution_count": 11,
   "metadata": {
    "execution": {
     "iopub.execute_input": "2021-01-21T11:42:56.961873Z",
     "iopub.status.busy": "2021-01-21T11:42:56.960104Z",
     "iopub.status.idle": "2021-01-21T11:42:57.060348Z",
     "shell.execute_reply": "2021-01-21T11:42:57.059878Z"
    },
    "papermill": {
     "duration": 0.138238,
     "end_time": "2021-01-21T11:42:57.060424",
     "exception": false,
     "start_time": "2021-01-21T11:42:56.922186",
     "status": "completed"
    },
    "tags": []
   },
   "outputs": [
    {
     "data": {
      "text/plain": [
       "Text(0.5, 1.0, 'Box Plot')"
      ]
     },
     "execution_count": 11,
     "metadata": {},
     "output_type": "execute_result"
    },
    {
     "data": {
      "image/png": "[encoded data removed]",
      "text/plain": [
       "<Figure size 720x432 with 1 Axes>"
      ]
     },
     "metadata": {
      "needs_background": "light"
     },
     "output_type": "display_data"
    }
   ],
   "source": [
    "plt.figure(figsize=(10,6))\n",
    "plt.boxplot([diabetes['Age'], diabetes['BMI']])\n",
    "plt.ylabel('Value')\n",
    "plt.title(\"Box Plot\")"
   ]
  },
  {
   "cell_type": "markdown",
   "metadata": {
    "papermill": {
     "duration": 0.025861,
     "end_time": "2021-01-21T11:42:57.112543",
     "exception": false,
     "start_time": "2021-01-21T11:42:57.086682",
     "status": "completed"
    },
    "tags": []
   },
   "source": [
    "## Adding Xticks to Box Plot"
   ]
  },
  {
   "cell_type": "code",
   "execution_count": 12,
   "metadata": {
    "execution": {
     "iopub.execute_input": "2021-01-21T11:42:57.177991Z",
     "iopub.status.busy": "2021-01-21T11:42:57.177041Z",
     "iopub.status.idle": "2021-01-21T11:42:57.357957Z",
     "shell.execute_reply": "2021-01-21T11:42:57.357308Z"
    },
    "papermill": {
     "duration": 0.219715,
     "end_time": "2021-01-21T11:42:57.358066",
     "exception": false,
     "start_time": "2021-01-21T11:42:57.138351",
     "status": "completed"
    },
    "tags": []
   },
   "outputs": [
    {
     "data": {
      "text/plain": [
       "Text(0.5, 1.0, 'Box Plot')"
      ]
     },
     "execution_count": 12,
     "metadata": {},
     "output_type": "execute_result"
    },
    {
     "data": {
      "image/png": "[encoded data removed]",
      "text/plain": [
       "<Figure size 720x432 with 1 Axes>"
      ]
     },
     "metadata": {
      "needs_background": "light"
     },
     "output_type": "display_data"
    }
   ],
   "source": [
    "plt.figure(figsize=(10,6))\n",
    "plt.boxplot([diabetes['Age'], diabetes['BMI'], diabetes['BloodPressure'], diabetes['Glucose']])\n",
    "plt.xticks([1, 2, 3, 4], ['Age', 'BMI', 'BloodPressure', 'Glucose'])\n",
    "plt.ylabel('Value')\n",
    "plt.title(\"Box Plot\")"
   ]
  },
  {
   "cell_type": "markdown",
   "metadata": {
    "papermill": {
     "duration": 0.063053,
     "end_time": "2021-01-21T11:42:57.474786",
     "exception": false,
     "start_time": "2021-01-21T11:42:57.411733",
     "status": "completed"
    },
    "tags": []
   },
   "source": [
    "# Horizontal Box Plot"
   ]
  },
  {
   "cell_type": "code",
   "execution_count": 13,
   "metadata": {
    "execution": {
     "iopub.execute_input": "2021-01-21T11:42:57.595953Z",
     "iopub.status.busy": "2021-01-21T11:42:57.595009Z",
     "iopub.status.idle": "2021-01-21T11:42:57.767206Z",
     "shell.execute_reply": "2021-01-21T11:42:57.767865Z"
    },
    "papermill": {
     "duration": 0.236576,
     "end_time": "2021-01-21T11:42:57.768035",
     "exception": false,
     "start_time": "2021-01-21T11:42:57.531459",
     "status": "completed"
    },
    "tags": []
   },
   "outputs": [
    {
     "data": {
      "text/plain": [
       "Text(0.5, 1.0, 'Box Plot')"
      ]
     },
     "execution_count": 13,
     "metadata": {},
     "output_type": "execute_result"
    },
    {
     "data": {
      "image/png": "[encoded data removed]",
      "text/plain": [
       "<Figure size 720x432 with 1 Axes>"
      ]
     },
     "metadata": {
      "needs_background": "light"
     },
     "output_type": "display_data"
    }
   ],
   "source": [
    "plt.figure(figsize=(10,6))\n",
    "plt.boxplot([diabetes['Age'], diabetes['BMI'], diabetes['BloodPressure'], diabetes['Glucose']], vert=False)\n",
    "plt.yticks([1, 2, 3, 4], ['Age', 'BMI', 'BloodPressure', 'Glucose'])\n",
    "plt.xlabel('Value')\n",
    "plt.title(\"Box Plot\")"
   ]
  },
  {
   "cell_type": "markdown",
   "metadata": {
    "papermill": {
     "duration": 0.039619,
     "end_time": "2021-01-21T11:42:57.847423",
     "exception": false,
     "start_time": "2021-01-21T11:42:57.807804",
     "status": "completed"
    },
    "tags": []
   },
   "source": [
    "# Area Plot\n",
    "\n",
    "An area chart is really similar to a line chart, except that the area between the x axis and the line is filled in with color or shading. It represents the evolution of a numerical variable following another numerical variable. "
   ]
  },
  {
   "cell_type": "markdown",
   "metadata": {
    "papermill": {
     "duration": 0.039034,
     "end_time": "2021-01-21T11:42:57.926112",
     "exception": false,
     "start_time": "2021-01-21T11:42:57.887078",
     "status": "completed"
    },
    "tags": []
   },
   "source": [
    "![](https://datavizcatalogue.com/methods/images/anatomy/area_graph.png)\n",
    "<font size=1><center>Source: [DataVizCatalogue](https://datavizcatalogue.com/methods/images/anatomy/area_graph.png)</center></font>"
   ]
  },
  {
   "cell_type": "code",
   "execution_count": 14,
   "metadata": {
    "execution": {
     "iopub.execute_input": "2021-01-21T11:42:58.024329Z",
     "iopub.status.busy": "2021-01-21T11:42:58.023426Z",
     "iopub.status.idle": "2021-01-21T11:42:58.042725Z",
     "shell.execute_reply": "2021-01-21T11:42:58.042049Z"
    },
    "papermill": {
     "duration": 0.077228,
     "end_time": "2021-01-21T11:42:58.042846",
     "exception": false,
     "start_time": "2021-01-21T11:42:57.965618",
     "status": "completed"
    },
    "tags": []
   },
   "outputs": [],
   "source": [
    "temp = corona_virus.groupby('ObservationDate')['Confirmed'].sum().reset_index()"
   ]
  },
  {
   "cell_type": "code",
   "execution_count": 15,
   "metadata": {
    "execution": {
     "iopub.execute_input": "2021-01-21T11:42:58.134606Z",
     "iopub.status.busy": "2021-01-21T11:42:58.128240Z",
     "iopub.status.idle": "2021-01-21T11:42:58.394936Z",
     "shell.execute_reply": "2021-01-21T11:42:58.395480Z"
    },
    "papermill": {
     "duration": 0.312663,
     "end_time": "2021-01-21T11:42:58.395618",
     "exception": false,
     "start_time": "2021-01-21T11:42:58.082955",
     "status": "completed"
    },
    "tags": []
   },
   "outputs": [
    {
     "data": {
      "image/png": "[encoded data removed]",
      "text/plain": [
       "<Figure size 1440x864 with 1 Axes>"
      ]
     },
     "metadata": {
      "needs_background": "light"
     },
     "output_type": "display_data"
    }
   ],
   "source": [
    "fig = plt.figure(figsize=(20,12))\n",
    "plt.fill_between(temp['ObservationDate'][:30], temp['Confirmed'][:30], color='lightblue')\n",
    "plt.xticks(rotation=90)\n",
    "plt.show()"
   ]
  },
  {
   "cell_type": "markdown",
   "metadata": {
    "papermill": {
     "duration": 0.040994,
     "end_time": "2021-01-21T11:42:58.478065",
     "exception": false,
     "start_time": "2021-01-21T11:42:58.437071",
     "status": "completed"
    },
    "tags": []
   },
   "source": [
    "# Stacked Area Chart"
   ]
  },
  {
   "cell_type": "code",
   "execution_count": 16,
   "metadata": {
    "execution": {
     "iopub.execute_input": "2021-01-21T11:42:58.583532Z",
     "iopub.status.busy": "2021-01-21T11:42:58.582786Z",
     "iopub.status.idle": "2021-01-21T11:42:58.642730Z",
     "shell.execute_reply": "2021-01-21T11:42:58.642083Z"
    },
    "papermill": {
     "duration": 0.124318,
     "end_time": "2021-01-21T11:42:58.642835",
     "exception": false,
     "start_time": "2021-01-21T11:42:58.518517",
     "status": "completed"
    },
    "tags": []
   },
   "outputs": [],
   "source": [
    "india = corona_virus[corona_virus['Country/Region']=='India'].groupby('ObservationDate')['Confirmed'].sum().reset_index()\n",
    "us = corona_virus[corona_virus['Country/Region']=='US'].groupby('ObservationDate')['Confirmed'].sum().reset_index()\n",
    "brazil = corona_virus[corona_virus['Country/Region']=='Brazil'].groupby('ObservationDate')['Confirmed'].sum().reset_index()"
   ]
  },
  {
   "cell_type": "code",
   "execution_count": 17,
   "metadata": {
    "execution": {
     "iopub.execute_input": "2021-01-21T11:42:58.737326Z",
     "iopub.status.busy": "2021-01-21T11:42:58.736433Z",
     "iopub.status.idle": "2021-01-21T11:42:59.222065Z",
     "shell.execute_reply": "2021-01-21T11:42:59.222654Z"
    },
    "papermill": {
     "duration": 0.539531,
     "end_time": "2021-01-21T11:42:59.222796",
     "exception": false,
     "start_time": "2021-01-21T11:42:58.683265",
     "status": "completed"
    },
    "tags": []
   },
   "outputs": [
    {
     "data": {
      "image/png": "[encoded data removed]",
      "text/plain": [
       "<Figure size 1440x864 with 1 Axes>"
      ]
     },
     "metadata": {
      "needs_background": "light"
     },
     "output_type": "display_data"
    }
   ],
   "source": [
    "fig = plt.figure(figsize=(20,12))\n",
    "plt.stackplot(temp['ObservationDate'][-50:], us['Confirmed'][-50:],india['Confirmed'][-50:], \n",
    "              brazil['Confirmed'][-50:], labels=['US', 'India', 'Brazil'])\n",
    "plt.xticks(rotation=90)\n",
    "plt.legend(loc='upper left')\n",
    "\n",
    "plt.show()"
   ]
  },
  {
   "cell_type": "markdown",
   "metadata": {
    "papermill": {
     "duration": 0.043814,
     "end_time": "2021-01-21T11:42:59.309379",
     "exception": false,
     "start_time": "2021-01-21T11:42:59.265565",
     "status": "completed"
    },
    "tags": []
   },
   "source": [
    "# Lollipop Plot\n",
    "\n",
    "A lollipop plot is an hybrid between a scatter plot and a barplot. It shows the relationship between a numerical variable and another variable, numerical OR\n",
    "categorical."
   ]
  },
  {
   "cell_type": "code",
   "execution_count": 18,
   "metadata": {
    "execution": {
     "iopub.execute_input": "2021-01-21T11:42:59.407643Z",
     "iopub.status.busy": "2021-01-21T11:42:59.406940Z",
     "iopub.status.idle": "2021-01-21T11:42:59.411110Z",
     "shell.execute_reply": "2021-01-21T11:42:59.410539Z"
    },
    "papermill": {
     "duration": 0.055041,
     "end_time": "2021-01-21T11:42:59.411211",
     "exception": false,
     "start_time": "2021-01-21T11:42:59.356170",
     "status": "completed"
    },
    "tags": []
   },
   "outputs": [],
   "source": [
    "temp = latest_covid_cases.sort_values('Confirmed', ascending= False)[['Country_Region','Confirmed']]"
   ]
  },
  {
   "cell_type": "code",
   "execution_count": 19,
   "metadata": {
    "execution": {
     "iopub.execute_input": "2021-01-21T11:42:59.514778Z",
     "iopub.status.busy": "2021-01-21T11:42:59.513793Z",
     "iopub.status.idle": "2021-01-21T11:42:59.658195Z",
     "shell.execute_reply": "2021-01-21T11:42:59.657369Z"
    },
    "papermill": {
     "duration": 0.20442,
     "end_time": "2021-01-21T11:42:59.658373",
     "exception": false,
     "start_time": "2021-01-21T11:42:59.453953",
     "status": "completed"
    },
    "tags": []
   },
   "outputs": [
    {
     "name": "stderr",
     "output_type": "stream",
     "text": [
      "/opt/conda/lib/python3.7/site-packages/ipykernel_launcher.py:1: UserWarning: In Matplotlib 3.3 individual lines on a stem plot will be added as a LineCollection instead of individual lines. This significantly improves the performance of a stem plot. To remove this warning and switch to the new behaviour, set the \"use_line_collection\" keyword argument to True.\n",
      "  \"\"\"Entry point for launching an IPython kernel.\n"
     ]
    },
    {
     "data": {
      "image/png": "[encoded data removed]",
      "text/plain": [
       "<Figure size 432x288 with 1 Axes>"
      ]
     },
     "metadata": {
      "needs_background": "light"
     },
     "output_type": "display_data"
    }
   ],
   "source": [
    "plt.stem(temp['Country_Region'][:10], temp['Confirmed'][:10])\n",
    "plt.xticks(rotation=90)\n",
    "plt.show()"
   ]
  },
  {
   "cell_type": "markdown",
   "metadata": {
    "papermill": {
     "duration": 0.04393,
     "end_time": "2021-01-21T11:42:59.747380",
     "exception": false,
     "start_time": "2021-01-21T11:42:59.703450",
     "status": "completed"
    },
    "tags": []
   },
   "source": [
    "# Horizontal Lollipop"
   ]
  },
  {
   "cell_type": "code",
   "execution_count": 20,
   "metadata": {
    "execution": {
     "iopub.execute_input": "2021-01-21T11:42:59.846813Z",
     "iopub.status.busy": "2021-01-21T11:42:59.846130Z",
     "iopub.status.idle": "2021-01-21T11:43:00.020407Z",
     "shell.execute_reply": "2021-01-21T11:43:00.019514Z"
    },
    "papermill": {
     "duration": 0.228898,
     "end_time": "2021-01-21T11:43:00.020536",
     "exception": false,
     "start_time": "2021-01-21T11:42:59.791638",
     "status": "completed"
    },
    "tags": []
   },
   "outputs": [
    {
     "data": {
      "image/png": "[encoded data removed]",
      "text/plain": [
       "<Figure size 432x288 with 1 Axes>"
      ]
     },
     "metadata": {
      "needs_background": "light"
     },
     "output_type": "display_data"
    }
   ],
   "source": [
    "plt.hlines(y=temp['Country_Region'][:10][::-1], xmin=0, xmax=temp['Confirmed'][:10][::-1], color='skyblue')\n",
    "plt.plot(temp['Confirmed'][:10][::-1], temp['Country_Region'][:10][::-1], 'D')\n",
    "plt.xticks(rotation=90)\n",
    "plt.show()"
   ]
  },
  {
   "cell_type": "markdown",
   "metadata": {
    "papermill": {
     "duration": 0.064708,
     "end_time": "2021-01-21T11:43:00.150839",
     "exception": false,
     "start_time": "2021-01-21T11:43:00.086131",
     "status": "completed"
    },
    "tags": []
   },
   "source": [
    "## Don't forget to upvote if you like it!. \n",
    "If you have any doubt reagrding any part of the notebook, feel free to comment your doubt in the comment box.\n",
    "\n",
    "Thank you!!\n",
    "\n",
    "## Work in Progress... ⏳"
   ]
  }
 ],
 "metadata": {
  "kernelspec": {
   "display_name": "Python 3",
   "language": "python",
   "name": "python3"
  },
  "language_info": {
   "codemirror_mode": {
    "name": "ipython",
    "version": 3
   },
   "file_extension": ".py",
   "mimetype": "text/x-python",
   "name": "python",
   "nbconvert_exporter": "python",
   "pygments_lexer": "ipython3",
   "version": "3.7.6"
  },
  "papermill": {
   "duration": 11.771171,
   "end_time": "2021-01-21T11:43:00.325026",
   "environment_variables": {},
   "exception": null,
   "input_path": "__notebook__.ipynb",
   "output_path": "__notebook__.ipynb",
   "parameters": {},
   "start_time": "2021-01-21T11:42:48.553855",
   "version": "2.1.0"
  }
 },
 "nbformat": 4,
 "nbformat_minor": 4
}
