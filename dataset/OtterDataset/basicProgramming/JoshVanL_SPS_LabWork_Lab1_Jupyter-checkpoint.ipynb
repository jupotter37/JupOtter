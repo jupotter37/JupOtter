{
 "cells": [
  {
   "cell_type": "markdown",
   "metadata": {},
   "source": [
    "# COMS21202: Symbols, Patterns and Signals #\n",
    "# Lab 1: Introduction to Python and Jupyter Notebooks with Python Kernel #\n",
    "`Python` is incredibly flexible programming language. It is interpretable hence easy to write and debug. Moreover, hundreds of dozens of packages are available to suit it to your needs.\n",
    "\n",
    "The three most important concepts in this lab to learn (from programming point of view) are:\n",
    " - use of `NumPy` package which is designed for scientific computation (somehow like `MatLab` backend);\n",
    " - use of `MatPlotLib` package that can be used to plot any kind of data; and\n",
    " - `Python` programming environment available as a `Jupyter Notebook`.\n",
    "\n",
    "## Debugging and help with your code ##\n",
    "The best resource for learning all available features of introduced packages is their documentation. It is available either online:\n",
    "- `NumPy` [here](http://docs.scipy.org/doc/numpy/index.html),\n",
    "- `MatPlotLib` [here](http://matplotlib.org/contents.html);\n",
    "\n",
    "or as `Python` enqiry e.g. `help(numpy.matrix)` in `Python` interpreter.\n",
    "\n",
    "## Python programming language ##\n",
    "The basics of `Python` programming language are available [here](https://wiki.python.org/moin/BeginnersGuide/Overview).\n",
    "\n",
    "The three key concepts worth mentioning are:\n",
    "- loose syntax: no need of line end symbol (e.g. `;` in `C`),\n",
    "- importance of code *indentation*: `if` and *loop* block are identified by **indentation**, and\n",
    "- comments are introduced with `#` symbol.\n",
    "\n",
    "## Python Notebook Interpreter ##\n",
    "`Python` can be ran in as a [`Jupyter Notebook`](http://jupyter.org/), previously known as the `IPython Notebook`.\n",
    "\n",
    "`Jupyter Notebook` is a computing environment which facilitates various programing languages (`Python`, `R`, `Lua`, etc.) through concept of kernels.  \n",
    "In the notebook, you can include multiple cells, which are either complex comments formatted as `Markdown` and $\\LaTeX$ or code segments. Beside it has all features of commandline `ipython` interpreter like *tab auto-completion*.  \n",
    "It is run as a web server with `www` interface.\n",
    "\n",
    "To run `Jupyter Notebook` in the command line/terminal call:\n",
    "``` Bash\n",
    "jupyter notebook\n",
    "```\n",
    "now open your favourite web browser and go to: [localhost:8888/notebooks](http://localhost:8888/notebooks). \n",
    "\n",
    "Navigate the folders to where you have downloaded `Lab1_Jupyter.ipynb` file and clik on the file to open it.\n",
    "\n",
    "The most important features of the notebook interface are:\n",
    "![Jupyter bar](jupyterBar.png)\n",
    "- <font color=\"red\">Red</font> - insert new cell (above or below currently active one),\n",
    "- <font color=\"blue\">Blue</font> - save your notebook - you can also use `<Ctrl-S>` (the application should save your notebook autoatically once every couple of minutes),\n",
    "- <font color=\"black\">Black</font> - add new cell below currently active one,\n",
    "- <font color=\"green\">Green</font> - **evaluate** the cell and go to the one below - you can also use `<Shift-Return>`,\n",
    "- <font color=\"yellow\">Yellow</font> - select **type** of cell, the two most important are:\n",
    "    - `Code` - `Python` code that can be evaluated,\n",
    "    - `Markdown` - fancy comments and notes.\n",
    "\n",
    "To shut down the notebook simply close your browser window and in the terminal window running the backend press `<Ctrl-C>`, type `y`, and press `Return` key.\n",
    "\n",
    "### Markdown language (and a bit of $\\LaTeX$ and HTML) ###\n",
    "`Markdown` cells allow you to write fancy and simple comments: all of this is written in `Markdown` - double click on this cell to see the source. Introduction to `Markdown` syntax can be found [here](https://daringfireball.net/projects/markdown/syntax).\n",
    "\n",
    "As `Markdown` is translated to `HTML` upon displaying it also allows you to use pure `HTML` (see the text colour change in the source of this cell): more details are available [here](https://daringfireball.net/projects/markdown/syntax#html).\n",
    "\n",
    "Finally, you can also display simple $\\LaTeX$ equations in `Markdown` thanks to `MathJax` support.  \n",
    "For inline equations wrap your equation between `$` symbols; for display mode equations use `$$`.\n",
    "\n",
    "## 1. Creating comments ##\n",
    "Insert a new cell under this cell by clicking the + sign in the tool bar. Change the cell to a `Markdown` cell using the dropdown menu in the toolbar. Create your own comments cell. Run the cell by pressing the `play` button."
   ]
  },
  {
   "cell_type": "markdown",
   "metadata": {},
   "source": [
    "## This is a comment cell"
   ]
  },
  {
   "cell_type": "markdown",
   "metadata": {},
   "source": [
    "## 2. Python as simple calculator ##\n",
    "Let's do some programming: insert a new cell (using the + sign). Check it's a `code` cell in the dropdown menu.\n",
    "\n",
    "Perform some simple ocmputations e.g.:\n",
    "- `2 + 2`\n",
    "- `7 * 7`\n",
    "- `2 ** 10` (exponentiation)\n",
    "- `10 / 3`\n",
    "- `10 / 3.0`\n",
    "\n",
    "please consider the difference between output of the last two commands.\n",
    "\n",
    "use print() to display the output of multiple commands.\n",
    "\n",
    "Now **evaluate your code cell** (see above for details)."
   ]
  },
  {
   "cell_type": "markdown",
   "metadata": {},
   "source": [
    "## 2. Importing Essential Libraries ##\n",
    "`NumPy` module is designed for scientific computing. The similarities to MatLab are described [here](https://docs.scipy.org/doc/numpy-dev/user/numpy-for-matlab-users.html).\n",
    "\n",
    "Before you start this lab, and every lab including your coursework, you need to import `numpy` and `matplotlib` packages from `Python` library:\n",
    "``` Python\n",
    "import numpy as np\n",
    "import matplotlib.pyplot as plt\n",
    "from mpl_toolkits.mplot3d import Axes3D\n",
    "from __future__ import print_function\n",
    "```\n",
    "we do it with `import` keyword and we put it into `np` (`plt`, `Axes3D`) namespace via `as` keyword.\n",
    "\n",
    "Now instead of typing long commands like:\n",
    "``` Python\n",
    "a = numpy.matrix('1 2; 3 4')\n",
    "```\n",
    "we can do:\n",
    "``` Python\n",
    "a = np.matrix('1 2; 3 4')\n",
    "```\n",
    "\n",
    "The code cell below also instructs `Python` kernel to put all of the plots below your code (`%matplotlib inline`) and sets some default parameters for plots (`pylab`) to ensure better readability.  \n",
    "To import these packages into your workspace and set plotting environment please navigate to the cell bellow and **evaluate it**.\n",
    "\n",
    "\n",
    "<font color=\"red\">Note: The first run of the import cell might take a while - be patient. You can confirm that the evaluation is completed when the star `In[*]:` is replaced by a number, e.g. `In[3]:`</font>"
   ]
  },
  {
   "cell_type": "code",
   "execution_count": 41,
   "metadata": {
    "collapsed": false
   },
   "outputs": [],
   "source": [
    "import numpy as np\n",
    "from scipy import stats\n",
    "from pprint import pprint\n",
    "import matplotlib.pyplot as plt\n",
    "from mpl_toolkits.mplot3d import Axes3D\n",
    "from __future__ import print_function\n",
    "\n",
    "%matplotlib inline\n",
    "# notebook\n",
    "import matplotlib.pylab as pylab\n",
    "pylab.rcParams['figure.figsize'] = (32.0, 24.0)\n",
    "pylab.rcParams['font.size'] = 24"
   ]
  },
  {
   "cell_type": "markdown",
   "metadata": {},
   "source": [
    "## 3. Create a matrix ##\n",
    "\n",
    "As `Python` is an *object oriented* language. Recall the difference between *function* and *object property* from your PANDA classes.  \n",
    "An instance of object e.g. `NuPy` matrix (`A = np.matrix('1 2; 3 4')` in this example) inherits all of the functions from its class, therefore to sum all elements of matrix `A` we can choose two approaches:\n",
    "- `A.sum()`, or\n",
    "- `np.matrix.sum(A)`.\n",
    "\n",
    "the first one is advisable.\n",
    "\n",
    "Similarly, instead of calling *size function* a matrix object has *size property* i.e.:\n",
    "- `A.shape`\n",
    "- `np.shape(A)`\n",
    "\n",
    "the first one is advisable.\n",
    "\n",
    "** Note: MatLab and NumPy indeces **  \n",
    "Be careful with your indeces:\n",
    "- in `Python` they start form `0` like in any proper programming language;\n",
    "- in MatLab they start form `1` (pseudo-language).\n",
    "\n",
    "To start with, insert a code cell and create two matrices `A` and `B` e.g.\n",
    "``` Python\n",
    "A = np.matrix('2 3; 3 -1; 5 6')\n",
    "B = np.matrix( [ [5, 2], [8, 9], [2, 1] ] )\n",
    "```\n",
    "As you can see you can either do it MatLab style (matrix `A`): matrix is introduced as string where elements in rows are separated with whitespace and new row is introduced with semicolon; or through `Python`'s concept of list of lists (matrix `B`).\n",
    "\n",
    "---\n",
    "For more details please type `help(np.matrix)` in your `Python` console or visit online help [here](http://docs.scipy.org/doc/numpy/reference/generated/numpy.matrix.html)."
   ]
  },
  {
   "cell_type": "markdown",
   "metadata": {},
   "source": [
    "## 4. Matrix operations ##\n",
    "Now write the following operations on these matrices and print the matrices C:\n",
    "- $C = 3A$\n",
    "- $C = A + B$\n",
    "- $C = AB^T$ (transpose)\n",
    "\n",
    "Try to concatenate A and B into a bigger matrix in the horizontal and vertical dimensions.\n",
    "\n",
    "You may use the `concatenate` or the `vstack` and `hstack` functions in `numpy`."
   ]
  },
  {
   "cell_type": "markdown",
   "metadata": {},
   "source": [
    "## 5. Language efficiency ##\n",
    "Think about how you would have performed the above operations using C++. Can you see any advantage in using `Python` and `NumPy`? Think about the types of data that can benefit from this behaviour.\n",
    "\n",
    "Add a `Markup` cell to summarise your thoughts."
   ]
  },
  {
   "cell_type": "markdown",
   "metadata": {},
   "source": [
    "## 6. More matrix operations ##\n",
    "\n",
    "\n",
    "On your created matrices `A` and `B`, calculate the size of the matrix as well as its longest and shortest dimensions\n",
    "\n",
    "---\n",
    "Hint: `help(nm.shape)` or `help(nm.len)`\n",
    "\n",
    "Calculate the *mean*, *sum*, and *variance* of the data (using `NumPy` functions/matrix properties `mean`, `sum`, `var`).\n",
    "\n",
    "---\n",
    "Hint: `help(np.sum)` or look [here](http://docs.scipy.org/doc/numpy/reference/generated/numpy.sum.html).  \n",
    "Hint: `help(np.mean)` or look [here](http://docs.scipy.org/doc/numpy/reference/generated/numpy.mean.html).  \n",
    "Hint: `help(np.var)` or look [here](http://docs.scipy.org/doc/numpy/reference/generated/numpy.var.html#numpy.var)."
   ]
  },
  {
   "cell_type": "markdown",
   "metadata": {},
   "source": [
    "## 7. Loading data ##\n",
    "Load the file `data.dat` available on the labâ€™s webpage into a matrix `D` of your `Python` workspace.  \n",
    "Check the dimensions of the loaded data.\n",
    "\n",
    "---\n",
    "Tip: to load MatLab files with `NumPy` use `delimiter=','` parameter with appropriate `NumPy` method.\n",
    "\n",
    "---\n",
    "Hint: `help(np.loadtxt)` or look [here](http://docs.scipy.org/doc/numpy/reference/generated/numpy.loadtxt.html).  \n",
    "Hint: `help(np.ndarray.shape)` or look [here](http://docs.scipy.org/doc/numpy/reference/generated/numpy.ndarray.shape.html)."
   ]
  },
  {
   "cell_type": "markdown",
   "metadata": {},
   "source": [
    "\n",
    "## 8. MatPlotLib ##\n",
    "Once your results are ready a good way to interpret them is via *visualisation*: `MatPlotLib` (in particular its `pyplot` component) is your friend here.  \n",
    "For introduction to all kinds of plots you can produce with it please consult [this](http://matplotlib.org/users/pyplot_tutorial.html) web page.\n",
    "\n",
    "** Note: two plotting approaches**:  \n",
    "- via `plt` call  \n",
    "``` Python\n",
    "plt.scatter( x, y )\n",
    "plt.show()\n",
    "```\n",
    "- via \"object creation\"\n",
    "``` Python\n",
    "fig = plt.figure()\n",
    "ax = fig.add_subplot( 111 )\n",
    "ax.scatter( x, y )\n",
    "plt.show()\n",
    "```\n",
    "\n",
    "the second one is advisable\n",
    "\n",
    "---\n",
    "\n",
    "Now, Plot the *first two columns* of the matrix `D`, then plot the *last three columns* as a *3D scatter plot*. Study the axis properties of the figure, and learn *how to label the axes*, change the *limits*, *add grids*, change the markersâ€™ *shape*, *size* and *colour*.\n",
    "\n",
    "---\n",
    "Tip: For 3D plots use *3D projection*: `ax = fig.add_subplot(111, projection='3d')`.  \n",
    "Tip: Marker style object documentation is available [here](http://matplotlib.org/1.4.0/api/markers_api.html).\n",
    "\n",
    "---\n",
    "Hint: `help(plt.scatter)` or look [here](http://matplotlib.org/api/pyplot_api.html?highlight=scatter#matplotlib.pyplot.scatter).  \n",
    "Hint: `help(plt.show)` or look [here](http://matplotlib.org/api/pyplot_api.html?highlight=show#matplotlib.pyplot.show).  \n",
    "Hint: `help(plt.figure)` or look [here](http://matplotlib.org/api/pyplot_api.html?highlight=figure#matplotlib.pyplot.figure).  \n",
    "Hint: `help(plt.Figure.add_subplot)` or look [here](http://matplotlib.org/api/figure_api.html?highlight=add_subplot#matplotlib.figure.Figure.add_subplot).  \n",
    "Hint: `help(plt.Axes.set_xlabel)` or look [here](http://matplotlib.org/api/axes_api.html?highlight=set_xlabel#matplotlib.axes.Axes.set_xlabel).  \n",
    "etc."
   ]
  },
  {
   "cell_type": "markdown",
   "metadata": {},
   "source": [
    "## 9. Histogram ##\n",
    "Compute and display a *histogram* of the values in the *first column* of your matrix.\n",
    "\n",
    "---\n",
    "Tip: histogram method returns some useful statistics.\n",
    "\n",
    "---\n",
    "Hint: `help(plt.hist)` or look [here](http://matplotlib.org/api/pyplot_api.html?highlight=hist#matplotlib.pyplot.hist)."
   ]
  },
  {
   "cell_type": "markdown",
   "metadata": {},
   "source": [
    "## 10. Random Numbers (1) ##\n",
    "Generate a random sequence of 1000 numbers using the `NumPy` command `np.random.randn`.  \n",
    "Compute and display the *histogram* of the sequence based on *100 bins between -5 and 5* using the command `plt.hist`.\n",
    "\n",
    "---\n",
    "Hint: `help(np.random.randn)` or look [here](http://docs.scipy.org/doc/numpy/reference/generated/numpy.random.randn.html).  \n",
    "Hint: `help(plt.hist)` or look [here](http://matplotlib.org/api/pyplot_api.html?highlight=hist#matplotlib.pyplot.hist)."
   ]
  },
  {
   "cell_type": "markdown",
   "metadata": {},
   "source": [
    "## 11. Saving your data to a file ##\n",
    "Save the generated sequence onto a text file.\n",
    "\n",
    "---\n",
    "Tip: to save your data in a format readable by both `NumPy` and MatLab use `delimiter=','` parameter with appropriate `NumPy` method.\n",
    "\n",
    "---\n",
    "Hint: `help(np.savetxt)` or look [here](http://docs.scipy.org/doc/numpy/reference/generated/numpy.savetxt.html).\n",
    "\n",
    "Hint: use the parameter `fmt='%1.5f'` to format the number. Try with and without this parameter"
   ]
  },
  {
   "cell_type": "markdown",
   "metadata": {},
   "source": [
    "## 11. Generating random data ##\n",
    "Generate a random sequence of 100 numbers sing the `NumPy` command `np.random.rand`.  \n",
    "Compute and display the *histogram*\n",
    "\n",
    "---\n",
    "Hint: `help(np.random.rand)` or look [here](http://docs.scipy.org/doc/numpy/reference/generated/numpy.random.rand.html).  \n",
    "Hint: `help(plt.hist)` or look [here](http://matplotlib.org/api/pyplot_api.html?highlight=hist#matplotlib.pyplot.hist)."
   ]
  },
  {
   "cell_type": "markdown",
   "metadata": {
    "collapsed": true
   },
   "source": [
    "## 12. Random Number Generation - Discussion ##\n",
    "\n",
    "Discuss with your partner the difference between the `rand` and `randn`.\n",
    "Write your discussion down into a `Markup` cell below."
   ]
  }
 ],
 "metadata": {
  "anaconda-cloud": {},
  "kernelspec": {
   "display_name": "Python [conda root]",
   "language": "python",
   "name": "conda-root-py"
  },
  "language_info": {
   "codemirror_mode": {
    "name": "ipython",
    "version": 3
   },
   "file_extension": ".py",
   "mimetype": "text/x-python",
   "name": "python",
   "nbconvert_exporter": "python",
   "pygments_lexer": "ipython3",
   "version": "3.5.2"
  }
 },
 "nbformat": 4,
 "nbformat_minor": 0
}
