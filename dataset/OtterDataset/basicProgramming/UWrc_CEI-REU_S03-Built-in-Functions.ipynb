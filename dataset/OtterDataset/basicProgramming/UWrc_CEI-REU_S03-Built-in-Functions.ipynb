{
 "cells": [
  {
   "cell_type": "markdown",
   "id": "78e38ead",
   "metadata": {},
   "source": [
    "# Built-in Functions and Help\n",
    "\n",
    "Python is a versatile programming language that comes with a rich set of built-in features designed to streamline development and increase productivity. Key features include a comprehensive standard library that supports a wide range of tasks such as file I/O, system calls, and Internet protocols. Python's dynamic typing and automatic memory management simplify coding and reduce errors. It supports multiple programming paradigms, including procedural, object-oriented, and functional programming. Additionally, Python includes robust data structures like lists, dictionaries, and sets, and provides powerful modules for handling regular expressions, mathematics, and date/time operations. Its interactive interpreter, integrated debugging, and extensive documentation make it accessible and user-friendly for both beginners and experienced developers.\n",
    "\n",
    "# Use comments to add documentation to programs\n",
    "\n",
    "Comments begin with `#` and are not executed, but are useful for annotating your code."
   ]
  },
  {
   "cell_type": "code",
   "execution_count": 1,
   "id": "67ef107a",
   "metadata": {},
   "outputs": [
    {
     "name": "stdout",
     "output_type": "stream",
     "text": [
      "0.5\n"
     ]
    }
   ],
   "source": [
    "# This sentence isn't executed by Python.\n",
    "adjustment = 0.5   # Neither is this - anything after '#' is ignored.\n",
    "print(adjustment)"
   ]
  },
  {
   "cell_type": "markdown",
   "id": "25cb25da",
   "metadata": {},
   "source": [
    "# A function may take zero or more arguments\n",
    "\n",
    "* We have seen some functions already — now let’s take a closer look.\n",
    "* An argument is a value passed into a function.\n",
    "* `len` takes exactly one.\n",
    "* `int`, `str`, and `float` create a new value from an existing one.\n",
    "* `print` takes zero or more.\n",
    "* `print` with no arguments prints a blank line.\n",
    "    * Must always use parentheses, even if they’re empty, so that Python knows a function is being called."
   ]
  },
  {
   "cell_type": "code",
   "execution_count": null,
   "id": "a3bb794f",
   "metadata": {},
   "outputs": [],
   "source": [
    "print('before')\n",
    "print()\n",
    "print('after')"
   ]
  },
  {
   "cell_type": "markdown",
   "id": "c3886018",
   "metadata": {},
   "source": [
    "# Every function returns something\n",
    "\n",
    "* Every function call produces some result.\n",
    "* If the function doesn’t have a useful result to return, it usually returns the special value `None`. `None` is a Python object that stands in anytime there is no value."
   ]
  },
  {
   "cell_type": "code",
   "execution_count": null,
   "id": "e39a2dde",
   "metadata": {},
   "outputs": [],
   "source": [
    "result = print('example')\n",
    "print('result of print is', result)"
   ]
  },
  {
   "cell_type": "markdown",
   "id": "6127a8ee",
   "metadata": {},
   "source": [
    "# Commonly-used built-in functions include max, min, and round\n",
    "\n",
    "* Use `max` to find the largest value of one or more values.\n",
    "* Use `min` to find the smallest.\n",
    "* Both work on character strings as well as numbers.\n",
    "    * “Larger” and “smaller” use (0-9, A-Z, a-z) to compare letters."
   ]
  },
  {
   "cell_type": "code",
   "execution_count": null,
   "id": "014772a1",
   "metadata": {},
   "outputs": [],
   "source": [
    "print(max(1, 2, 3))\n",
    "print(min('a', 'A', '0'))"
   ]
  },
  {
   "cell_type": "markdown",
   "id": "a1e09788",
   "metadata": {},
   "source": [
    "# Functions may only work for certain (combinations of) arguments\n",
    "\n",
    "* `max` and `min` must be given at least one argument.\n",
    "    * “Largest of the empty set” is a meaningless question.\n",
    "* And they must be given things that can meaningfully be compared."
   ]
  },
  {
   "cell_type": "code",
   "execution_count": null,
   "id": "61ee06ea",
   "metadata": {},
   "outputs": [],
   "source": [
    "print(max(1, 'a'))"
   ]
  },
  {
   "cell_type": "markdown",
   "id": "31511d43",
   "metadata": {},
   "source": [
    "# Functions may have default values for some arguments\n",
    "\n",
    "`round` will round off a floating-point number. By default, rounds to zero decimal places."
   ]
  },
  {
   "cell_type": "code",
   "execution_count": null,
   "id": "55e2e684",
   "metadata": {},
   "outputs": [],
   "source": [
    "round(3.712)"
   ]
  },
  {
   "cell_type": "markdown",
   "id": "1faafd0d",
   "metadata": {},
   "source": [
    " We can specify the number of decimal places we want."
   ]
  },
  {
   "cell_type": "code",
   "execution_count": null,
   "id": "011bf283",
   "metadata": {},
   "outputs": [],
   "source": [
    "round(3.712, 1)"
   ]
  },
  {
   "cell_type": "markdown",
   "id": "bccdb8eb",
   "metadata": {},
   "source": [
    "# Functions attached to objects are called methods\n",
    "\n",
    "* Functions take another form that will be common in our section focused on `pandas`.\n",
    "* Methods have parentheses like functions, but come after the variable.\n",
    "* Some methods are used for internal Python operations, and are marked with double underlines."
   ]
  },
  {
   "cell_type": "code",
   "execution_count": null,
   "id": "c705f64b",
   "metadata": {},
   "outputs": [],
   "source": [
    "my_string = 'Hello world!'  # creation of a string object \n",
    "\n",
    "print(len(my_string))       # the len function takes a string as an argument and returns the length of the string\n",
    "\n",
    "print(my_string.swapcase()) # calling the swapcase method on the my_string object\n",
    "\n",
    "print(my_string.__len__())  # calling the internal __len__ method on the my_string object, used by len(my_string)"
   ]
  },
  {
   "cell_type": "markdown",
   "id": "c0a54d33",
   "metadata": {},
   "source": [
    "You might even see them chained together. They operate left to right."
   ]
  },
  {
   "cell_type": "code",
   "execution_count": null,
   "id": "06eb540f",
   "metadata": {},
   "outputs": [],
   "source": [
    "print(my_string.isupper())          # Not all the letters are uppercase\n",
    "print(my_string.upper())            # This capitalizes all the letters\n",
    "\n",
    "print(my_string.upper().isupper())  # Now all the letters are uppercase"
   ]
  },
  {
   "cell_type": "markdown",
   "id": "52e468f6",
   "metadata": {},
   "source": [
    "# Use the built-in function help to get help for a function\n",
    "\n",
    "Every built-in function has online documentation."
   ]
  },
  {
   "cell_type": "code",
   "execution_count": 2,
   "id": "d71da81f",
   "metadata": {},
   "outputs": [
    {
     "name": "stdout",
     "output_type": "stream",
     "text": [
      "Help on built-in function round in module builtins:\n",
      "\n",
      "round(number, ndigits=None)\n",
      "    Round a number to a given precision in decimal digits.\n",
      "    \n",
      "    The return value is an integer if ndigits is omitted or None.  Otherwise\n",
      "    the return value has the same type as the number.  ndigits may be negative.\n",
      "\n"
     ]
    }
   ],
   "source": [
    "help(round)"
   ]
  },
  {
   "cell_type": "markdown",
   "id": "8a31f8ae",
   "metadata": {},
   "source": [
    "# The Jupyter Notebook has two ways to get help\n",
    "\n",
    "**Option 1:** Place the cursor near where the function is invoked in a cell (i.e., the function name or its parameters),\n",
    "* Hold down `Shift`, and press `Tab`.\n",
    "* Do this several times to expand the information returned.\n",
    "\n",
    "**Option 2:** Type the function name in a cell with a question mark after it. Then run the cell."
   ]
  },
  {
   "cell_type": "code",
   "execution_count": null,
   "id": "584e504f",
   "metadata": {},
   "outputs": [],
   "source": [
    "# place cursor after the 'd' below and use the shift + tab option\n",
    "round"
   ]
  },
  {
   "cell_type": "code",
   "execution_count": 3,
   "id": "07f94045",
   "metadata": {},
   "outputs": [],
   "source": [
    "# question mark option:\n",
    "round?"
   ]
  },
  {
   "cell_type": "markdown",
   "id": "c037eb24",
   "metadata": {},
   "source": [
    "# Python reports a syntax error when it can’t understand the source of a program\n",
    "\n",
    "Won’t even try to run the program if it can’t be parsed."
   ]
  },
  {
   "cell_type": "code",
   "execution_count": null,
   "id": "bd532f19",
   "metadata": {},
   "outputs": [],
   "source": [
    "# Forgot to close the quote marks around the string.\n",
    "name = 'Feng"
   ]
  },
  {
   "cell_type": "code",
   "execution_count": null,
   "id": "4d28460b",
   "metadata": {},
   "outputs": [],
   "source": [
    "# An extra '=' in the assignment.\n",
    "age = = 52"
   ]
  },
  {
   "cell_type": "markdown",
   "id": "b8da16e6",
   "metadata": {},
   "source": [
    "Look more closely at the error message:"
   ]
  },
  {
   "cell_type": "code",
   "execution_count": null,
   "id": "cb23ebf2-554c-4a3b-8b7e-a74c5c6d8f74",
   "metadata": {},
   "outputs": [],
   "source": [
    "print(\"hello world\""
   ]
  },
  {
   "cell_type": "markdown",
   "id": "a4f2e074",
   "metadata": {},
   "source": [
    "* The message indicates a problem on first line of the input (“line 1”).\n",
    "* The last line indicates incomplete input."
   ]
  },
  {
   "cell_type": "markdown",
   "id": "b3dee859",
   "metadata": {},
   "source": [
    "# Python reports a runtime error when something goes wrong while a program is executing"
   ]
  },
  {
   "cell_type": "code",
   "execution_count": null,
   "id": "6734fc32",
   "metadata": {},
   "outputs": [],
   "source": [
    "age = 53\n",
    "remaining = 100 - aege # mis-spelled 'age'"
   ]
  },
  {
   "cell_type": "markdown",
   "id": "881fa984",
   "metadata": {},
   "source": [
    "Fix syntax errors by reading the source and runtime errors by tracing execution."
   ]
  },
  {
   "cell_type": "markdown",
   "id": "feb97b9b",
   "metadata": {},
   "source": [
    "## Exercise 1:\n",
    "\n",
    "1. Explain in simple terms the order of operations in the following program: when does the addition happen, when does the subtraction happen, when is each function called, etc.\n",
    "\n",
    "2. What is the final value of `radiance`?"
   ]
  },
  {
   "cell_type": "code",
   "execution_count": null,
   "id": "7c5b6f3d",
   "metadata": {},
   "outputs": [],
   "source": [
    "radiance = 1.0\n",
    "radiance = max(2.1, 2.0 + min(radiance, 1.1 * radiance - 0.5))\n",
    "print(radiance)"
   ]
  },
  {
   "cell_type": "markdown",
   "id": "42e6f67c",
   "metadata": {},
   "source": [
    "*Solution:*\n",
    "\n",
    "Order of operations:\n",
    "```python\n",
    "# step 1\n",
    "1.1 * radiance = 1.1\n",
    "# step 2\n",
    "1.1 - 0.5 = 0.6\n",
    "# step 3\n",
    "min(radiance, 0.6) = 0.6\n",
    "# step 4\n",
    "2.0 + 0.6 = 2.6\n",
    "# step 5\n",
    "max(2.1, 2.6) = 2.6\n",
    "```\n",
    "At the end, `radiance = 2.6`"
   ]
  },
  {
   "cell_type": "markdown",
   "id": "f0c2e162",
   "metadata": {},
   "source": [
    "## Exercise 2:\n",
    "\n",
    "1. Predict what each of the `print` statements in the program below will print.\n",
    "\n",
    "```python\n",
    "easy_string = \"abc\"\n",
    "print(max(easy_string))\n",
    "rich = \"gold\"\n",
    "poor = \"tin\"\n",
    "print(max(rich, poor))\n",
    "```\n",
    "\n",
    "3. Does `max(len(rich), poor)` run or produce an error message? If it runs, does its result make any sense?"
   ]
  },
  {
   "cell_type": "code",
   "execution_count": null,
   "id": "daa54993",
   "metadata": {},
   "outputs": [],
   "source": [
    "easy_string = \"abc\"\n",
    "print(max(easy_string))"
   ]
  },
  {
   "cell_type": "code",
   "execution_count": null,
   "id": "41678dfe",
   "metadata": {},
   "outputs": [],
   "source": [
    "rich = \"gold\"\n",
    "poor = \"tin\"\n",
    "print(max(rich, poor))"
   ]
  },
  {
   "cell_type": "code",
   "execution_count": null,
   "id": "d2defcfe",
   "metadata": {},
   "outputs": [],
   "source": [
    "max(len(rich), poor)"
   ]
  },
  {
   "cell_type": "markdown",
   "id": "4b820574",
   "metadata": {},
   "source": [
    "*Solution:* \n",
    "\n",
    "`max(len(rich), poor)` throws a TypeError. This turns into `max(4, 'tin')` and as we discussed earlier a string and integer cannot meaningfully be compared."
   ]
  },
  {
   "cell_type": "markdown",
   "id": "7bd7ad5e",
   "metadata": {},
   "source": [
    "## Exercise 3: \n",
    "\n",
    "Why is it that `max` and `min` do not return `None` when they are called with no arguments?\n",
    "\n",
    "*Solution:* \n",
    "\n",
    "`max` and `min` return TypeErrors in this case because the correct number of parameters was not supplied. If it just returned `None`, the error would be much harder to trace as it would likely be stored into a variable and used later in the program, only to likely throw a runtime error."
   ]
  },
  {
   "cell_type": "code",
   "execution_count": 9,
   "id": "e47ac9cc-3f10-4e69-8bc0-4ddc82d8fbfc",
   "metadata": {},
   "outputs": [
    {
     "ename": "TypeError",
     "evalue": "max expected at least 1 argument, got 0",
     "output_type": "error",
     "traceback": [
      "\u001b[0;31m---------------------------------------------------------------------------\u001b[0m",
      "\u001b[0;31mTypeError\u001b[0m                                 Traceback (most recent call last)",
      "Cell \u001b[0;32mIn[9], line 1\u001b[0m\n\u001b[0;32m----> 1\u001b[0m \u001b[38;5;28mmax\u001b[39m()\n",
      "\u001b[0;31mTypeError\u001b[0m: max expected at least 1 argument, got 0"
     ]
    }
   ],
   "source": [
    "max()"
   ]
  },
  {
   "cell_type": "code",
   "execution_count": 11,
   "id": "38b8b350-0819-4b16-b14c-027c98e3cc2d",
   "metadata": {},
   "outputs": [
    {
     "ename": "TypeError",
     "evalue": "min expected at least 1 argument, got 0",
     "output_type": "error",
     "traceback": [
      "\u001b[0;31m---------------------------------------------------------------------------\u001b[0m",
      "\u001b[0;31mTypeError\u001b[0m                                 Traceback (most recent call last)",
      "Cell \u001b[0;32mIn[11], line 1\u001b[0m\n\u001b[0;32m----> 1\u001b[0m \u001b[38;5;28mmin\u001b[39m()\n",
      "\u001b[0;31mTypeError\u001b[0m: min expected at least 1 argument, got 0"
     ]
    }
   ],
   "source": [
    "min()"
   ]
  },
  {
   "cell_type": "markdown",
   "id": "bf518eb0",
   "metadata": {},
   "source": [
    "## Exercise 4:\n",
    "\n",
    "If Python starts counting from zero, and `len` returns the number of characters in a string, what index expression will get the last character in the string name? \n",
    "\n",
    "*Solution:*"
   ]
  },
  {
   "cell_type": "code",
   "execution_count": 18,
   "id": "b31087c6-f3fb-4b46-9471-0c370e15a0eb",
   "metadata": {},
   "outputs": [],
   "source": [
    "name = 'Kristen'"
   ]
  },
  {
   "cell_type": "code",
   "execution_count": 20,
   "id": "fb39643c",
   "metadata": {},
   "outputs": [
    {
     "data": {
      "text/plain": [
       "'n'"
      ]
     },
     "execution_count": 20,
     "metadata": {},
     "output_type": "execute_result"
    }
   ],
   "source": [
    "name[len(name) - 1] # (Note: there is a simpler way to do this that we will learn later)"
   ]
  },
  {
   "cell_type": "markdown",
   "id": "7c404198",
   "metadata": {},
   "source": [
    "# Explore the Python Documentation\n",
    "\n",
    "The [official Python documentation](https://docs.python.org/3/) is arguably the most complete source of information about the language. It is available in different languages and contains a lot of useful resources. The [Built-in Functions page](https://docs.python.org/3/library/functions.html) contains a catalogue of all of these functions, including the ones that we’ve covered in this lesson. Some of these are more advanced and unnecessary at the moment, but others are very simple and useful."
   ]
  }
 ],
 "metadata": {
  "kernelspec": {
   "display_name": "Python 3 (ipykernel)",
   "language": "python",
   "name": "python3"
  },
  "language_info": {
   "codemirror_mode": {
    "name": "ipython",
    "version": 3
   },
   "file_extension": ".py",
   "mimetype": "text/x-python",
   "name": "python",
   "nbconvert_exporter": "python",
   "pygments_lexer": "ipython3",
   "version": "3.12.3"
  }
 },
 "nbformat": 4,
 "nbformat_minor": 5
}
