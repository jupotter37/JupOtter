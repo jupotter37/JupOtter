{
 "cells": [
  {
   "cell_type": "markdown",
   "metadata": {
    "editable": true,
    "slideshow": {
     "slide_type": "slide"
    },
    "tags": []
   },
   "source": [
    "# Introduction to UNIX and Filesystems: Navigating and Managing Data"
   ]
  },
  {
   "cell_type": "markdown",
   "metadata": {
    "editable": true,
    "slideshow": {
     "slide_type": "slide"
    },
    "tags": []
   },
   "source": [
    "## What is a Filesystem?\n",
    "\n",
    "A filesystem is a way of organizing and storing data on a computer. It provides a structure for how data is stored and accessed. In the context of your computer, think of it as a file cabinet where you organize and store your files. Each file is stored in a specific location known as a directory or folder."
   ]
  },
  {
   "cell_type": "markdown",
   "metadata": {
    "@deathbeds/jupyterlab-fonts": {
     "styles": {
      "": {
       "body[data-jp-deck-mode='presenting'] &": {
        "height": "99.33296222358723%",
        "left": "4.382470119521913%",
        "position": "fixed",
        "top": "0.47316492628992635%",
        "width": "91.36786188579016%"
       }
      }
     }
    },
    "editable": true,
    "slideshow": {
     "slide_type": "slide"
    },
    "tags": []
   },
   "source": [
    "### Directories and Folders\n",
    "\n",
    "On macOS, you might be familiar with the Finder application, which allows you to navigate through directories and see the contents of your computer's filesystem in a graphical way. Directories, also known as folders, are containers that hold files or other directories.\n",
    "\n",
    "![Finder](images/finder.png)\n",
    "\n",
    "In the example above, \"Documents\" is a directory that can contain multiple files. Understanding the concept of directories is crucial for organizing and managing your data, especially in research."
   ]
  },
  {
   "cell_type": "markdown",
   "metadata": {
    "editable": true,
    "slideshow": {
     "slide_type": "slide"
    },
    "tags": []
   },
   "source": [
    "\n",
    ":::{admonition} Finder is not enough\n",
    ":class: important\n",
    "In research, you eventually find that simply using user friendly interfaces like Finder to navigate through your filesystems will not be enough. There are many reasons we might need something more that will be explained throughout this tutorial! To give one example, sometimes applications will need to be installed from command line rather than having an easy installer for you to use. \n",
    ":::\n"
   ]
  },
  {
   "cell_type": "markdown",
   "metadata": {
    "editable": true,
    "slideshow": {
     "slide_type": "slide"
    },
    "tags": []
   },
   "source": [
    "## Enter: UNIX and Terminal\n",
    "\n",
    "UNIX is a powerful and versatile operating system that has been widely used in scientific computing, including astronomy and data science. It provides a command-line interface (CLI; also called the shell or the terminal) for interacting with the computer's operating system. While modern versions of UNIX, such as Linux, macOS, and others, have evolved, they still retain the core principles and commands that originated with the original UNIX system.\n",
    "\n",
    "The terminal is a text-based interface that allows users to interact with their computer's operating system by typing commands. Unlike graphical user interfaces (GUIs) like Finder, which use visual elements like windows and buttons, the terminal relies on text commands.\n",
    "\n",
    "A note on terminology: \n",
    "- Operating Systems: UNIX, Linux, macOS, Windows, Debian\n",
    "- CLIs: Command line, terminal, shell (specific CLI)\n",
    "- Shell Languages: `bash`, `zsh` "
   ]
  },
  {
   "cell_type": "markdown",
   "metadata": {
    "editable": true,
    "slideshow": {
     "slide_type": "slide"
    },
    "tags": []
   },
   "source": [
    "## Key Components of the Terminal:\n",
    "- Prompt: The prompt displays information about the system's current state and awaits your command.\n",
    "- Command Line: This is where you input commands. You type a command and press Enter to execute it.\n",
    "- Output: After executing a command, the terminal provides output, displaying information or responses from the system.\n",
    "\n",
    "![Terminal](images/terminal_diagram.png)"
   ]
  },
  {
   "cell_type": "markdown",
   "metadata": {
    "editable": true,
    "slideshow": {
     "slide_type": "slide"
    },
    "tags": []
   },
   "source": [
    "In practice, your default mac terminal might look something like this: \n",
    "\n",
    "<p align=\"center\">\n",
    "\n",
    "![Terminal](images/terminal.png)\n",
    "\n",
    "</p>"
   ]
  },
  {
   "cell_type": "markdown",
   "metadata": {
    "editable": true,
    "slideshow": {
     "slide_type": "slide"
    },
    "tags": []
   },
   "source": [
    ":::{note}\n",
    "You can also customize your terminal display to look nicer! I'm happy to help provide some tips and tricks on customizing your terminal at a later time, but you should also try it out for yourself! \n",
    ":::\n",
    "\n",
    "\n",
    "![iTerm](images/iterm.png)"
   ]
  },
  {
   "cell_type": "markdown",
   "metadata": {
    "editable": true,
    "slideshow": {
     "slide_type": "slide"
    },
    "tags": []
   },
   "source": [
    "## Anatomy of a UNIX Command:\n",
    "\n",
    "Understanding the anatomy of a UNIX command is crucial for effectively using the command line. Let's break down the key components: command, options/flags, and arguments. "
   ]
  },
  {
   "cell_type": "markdown",
   "metadata": {
    "editable": true,
    "slideshow": {
     "slide_type": "slide"
    },
    "tags": []
   },
   "source": [
    "A UNIX command typically follows the structure:\n",
    "\n",
    "```bash\n",
    "command [options/flags] [arguments]\n",
    "```\n",
    "\n",
    "1. **Command:**\n",
    "   - The primary action you want the computer to perform.\n",
    "   - Examples: `ls`, `cd`, `cp`, `mv`, `echo`, etc.\n",
    "\n",
    "2. **Options/Flags:**\n",
    "   - Flags modify the behavior of the command.\n",
    "   - Usually preceded by a hyphen (`-`) or double hyphen (`--`).\n",
    "   - Examples: `-l`, `-a`, `--verbose`, `--force`, etc.\n",
    "\n",
    "3. **Arguments:**\n",
    "   - The entities upon which the command acts.\n",
    "   - Can be file names, directories, strings, etc.\n",
    "   - Examples: `file.txt`, `directory/`, `string`, etc."
   ]
  },
  {
   "cell_type": "markdown",
   "metadata": {
    "editable": true,
    "slideshow": {
     "slide_type": "slide"
    },
    "tags": []
   },
   "source": [
    "### Example Commands:\n",
    "\n",
    "1. **Basic Command:**\n",
    "   ```bash\n",
    "   ls\n",
    "   ```\n",
    "   - Command: `ls`\n",
    "   - Options/Flags: None\n",
    "   - Arguments: None"
   ]
  },
  {
   "cell_type": "markdown",
   "metadata": {
    "editable": true,
    "slideshow": {
     "slide_type": "slide"
    },
    "tags": []
   },
   "source": [
    "2. **Command with Options:**\n",
    "   ```bash\n",
    "   ls -l\n",
    "   ```\n",
    "   - Command: `ls`\n",
    "   - Options/Flags: `-l`\n",
    "   - Arguments: None"
   ]
  },
  {
   "cell_type": "markdown",
   "metadata": {
    "editable": true,
    "slideshow": {
     "slide_type": "slide"
    },
    "tags": []
   },
   "source": [
    "3. **Command with Arguments:**\n",
    "   ```bash\n",
    "   cp file.txt backup/\n",
    "   ```\n",
    "   - Command: `cp`\n",
    "   - Options/Flags: None\n",
    "   - Arguments: `file.txt`, `backup/`"
   ]
  },
  {
   "cell_type": "markdown",
   "metadata": {
    "editable": true,
    "slideshow": {
     "slide_type": "slide"
    },
    "tags": []
   },
   "source": [
    "## Common UNIX Commands\n",
    "\n",
    "### 1. `pwd` - Print Working Directory\n",
    "\n",
    "The `pwd` command is used to print the current working directory, which is the directory you are currently in within the file system.\n",
    "\n",
    "```bash\n",
    "pwd\n",
    "```\n",
    "\n",
    "This command will display the full path to the current directory."
   ]
  },
  {
   "cell_type": "markdown",
   "metadata": {
    "editable": true,
    "slideshow": {
     "slide_type": "slide"
    },
    "tags": []
   },
   "source": [
    "### 2. `ls` - List Files\n",
    "\n",
    "The `ls` command is used to list the files and directories in the current directory.\n",
    "\n",
    "```bash\n",
    "ls\n",
    "```\n",
    "\n",
    "This command provides a simple listing of the files and directories in the current location."
   ]
  },
  {
   "cell_type": "markdown",
   "metadata": {
    "editable": true,
    "slideshow": {
     "slide_type": "slide"
    },
    "tags": []
   },
   "source": [
    "### 3. `cd` - Change Directory\n",
    "\n",
    "The `cd` command is used to change the current working directory. You can move to a different directory by specifying the path.\n",
    "\n",
    "```bash\n",
    "cd /path/to/directory\n",
    "```\n",
    "\n",
    "Use `cd ..` to move up one level in the directory hierarchy."
   ]
  },
  {
   "cell_type": "markdown",
   "metadata": {
    "editable": true,
    "slideshow": {
     "slide_type": "slide"
    },
    "tags": []
   },
   "source": [
    ":::{admonition} _Exercise One: Using Terminal_\n",
    ":class: tip\n",
    "\n",
    "In your shell/terminal (Terminal on Mac, Ubuntu on WSL), try \n",
    "\n",
    "1. `cd .` \n",
    "2. `cd ..`\n",
    "3. `cd ...` \n",
    "\n",
    "What do you think each of these do (without looking it up)? Now try\n",
    "\n",
    "1. `ls -l`\n",
    "2. `ls -a`\n",
    "\n",
    "What do you think these are doing? \n",
    ":::"
   ]
  },
  {
   "cell_type": "markdown",
   "metadata": {
    "editable": true,
    "slideshow": {
     "slide_type": "slide"
    },
    "tags": []
   },
   "source": [
    "Understanding and practicing these basic commands will give you the foundation to navigate and interact with the file system using the UNIX command line. As we progress in the workshop, we'll explore more advanced commands and concepts."
   ]
  },
  {
   "cell_type": "markdown",
   "metadata": {
    "editable": true,
    "slideshow": {
     "slide_type": "slide"
    },
    "tags": []
   },
   "source": [
    "# Why are we doing this? \n",
    "\n",
    ":::{note} Open Question\n",
    "Now, that you have seen a bit of what UNIX + terminal can do, can you think of any reasons why understanding how to use these tools is useful for astronomy research? \n",
    ":::\n"
   ]
  },
  {
   "cell_type": "markdown",
   "metadata": {
    "editable": true,
    "slideshow": {
     "slide_type": "slide"
    },
    "tags": []
   },
   "source": [
    "### 1. Organizing Data\n",
    "\n",
    "When you conduct research, you often work with large datasets and various files. Knowing how to navigate through directories using the command line is essential. Let's say you have to migrate a bunch of data files into a different location on your computer. You can use the following commands: \n",
    "\n",
    "```bash\n",
    "\n",
    "# Create a subdirectory to organize the files\n",
    "mkdir data_files\n",
    "\n",
    "# Move all files with a specific extension (e.g., .txt) into the subdirectory\n",
    "mv *.txt data_files/\n",
    "\n",
    "```\n",
    "\n",
    "The `mkdir data_files` command creates a new subdirectory named \"data_files\" in the current directory. Then the `mv *.txt data_files/` command moves all files with the extension \".txt\" into the \"data_files\" subdirectory. There are lots of different ways you can change these commands to move your data in different ways:\n",
    "- you can customize the file extension based on your specific data files\n",
    "- you can specify arbitrary folders to move files between rather than using the current directory\n",
    "- you could use keywords in the filenames to select files rather than their extensions\n",
    "\n",
    "**UNIX commands are incredibly flexible and can become incredibly complicated.** There will almost always be a solution your specific problem!"
   ]
  },
  {
   "cell_type": "markdown",
   "metadata": {
    "editable": true,
    "slideshow": {
     "slide_type": "slide"
    },
    "tags": []
   },
   "source": [
    "### 2. Navigating to Data in your Code\n",
    "\n",
    "Understanding filesystems becomes crucial when writing code. **Your code will not know where your data lives unless you tell it**. If your code throws an error like \"File not found\" or \"No such file or directory,\" it's often because the file is not in the specified directory (or there's a typo in the file name). \n",
    "\n",
    "You will see examples of specifying the path to the data once we start working with Python in the coming weeks!\n"
   ]
  },
  {
   "cell_type": "markdown",
   "metadata": {
    "editable": true,
    "slideshow": {
     "slide_type": "slide"
    },
    "tags": []
   },
   "source": [
    "### 3. Executing Code, Managing Dependencies, Version Control, and More!\n",
    "\n",
    "Understanding UNIX + Filesystems is important for many many more aspects of research beyond data management! We can't get into all of these now, but as a preview:\n",
    "- When we want to ``execute\" python code, we can do it from command line\n",
    "- When we want to remotely operate another computer (for instance, at a telescope or a supercomputer cluster)\n",
    "- When we want to manage code installations + packages"
   ]
  },
  {
   "cell_type": "markdown",
   "metadata": {
    "editable": true,
    "slideshow": {
     "slide_type": "slide"
    },
    "tags": []
   },
   "source": [
    "# Text Editors: Vim and Nano"
   ]
  },
  {
   "cell_type": "markdown",
   "metadata": {
    "editable": true,
    "slideshow": {
     "slide_type": "slide"
    },
    "tags": []
   },
   "source": [
    "## Vim\n",
    "\n",
    "Vim (Vi Improved) is a powerful and highly configurable text editor that is widely used in the programming community. It operates in different modes, allowing users to navigate, edit, and manipulate text efficiently. Vim has a steeper learning curve, but its super versatile and its my favorite.\n",
    "\n",
    "### Basic Vim Commands\n",
    "\n",
    "- **Normal Mode:** Used for navigating and manipulating text. You start in normal mode, and can press `Esc` to return to normal mode.\n",
    "  - `h`, `j`, `k`, `l`, or arrow keys: Move left, down, up, and right, respectively.\n",
    "  - `dd`: Delete a line.\n",
    "  - `yy`: Copy a line.\n",
    "  - `p`: Paste the copied or deleted text.\n",
    "\n",
    "- **Insert Mode:** Used for inserting or editing text. Press `i` to enter Insert Mode.\n",
    "  - You can type to insert your desired text.\n",
    "\n",
    "- **Visual Mode** Used for selecting text. Press `v` to enter Visual Mode.\n",
    "  - You can select blocks of text (to copy/cut/paste different amounts of text)\n",
    "  - Special sub-modes: visual line mode (`V`) or visual block mode (`<C-V>`)\n",
    "\n",
    "- **Command Mode:** Used for executing commands. `:` to enter command mode. \n",
    "  - `:w`: Save changes.\n",
    "  - `:q`: Quit Vim (without changes) or `:q!` to force quit and delete unsaved changes \n",
    "  - `:wq` or `:x` or `ZZ`: Save and quit.\n",
    "  - You can also do cool things like find and replace in this mode! "
   ]
  },
  {
   "cell_type": "markdown",
   "metadata": {
    "editable": true,
    "slideshow": {
     "slide_type": "slide"
    },
    "tags": []
   },
   "source": [
    "## Nano\n",
    "\n",
    "Nano is a straightforward and user-friendly text editor that is beginner-friendly. It provides a simple interface for editing text files and is particularly suitable for quick edits or when a full-featured editor like Vim might be overwhelming.\n",
    "\n",
    "### Basic Nano Commands\n",
    "\n",
    "- **Saving Changes:**\n",
    "  - Press `Ctrl` + `O` to write changes.\n",
    "  - Press `Enter` to confirm the file name.\n",
    "  \n",
    "- **Exiting Nano:**\n",
    "  - Press `Ctrl` + `X` to exit Nano.\n",
    "\n",
    "- **Editing Text:**\n",
    "  - Use arrow keys to navigate.\n",
    "  - Use `Backspace` to delete characters.\n",
    "  - Press `Ctrl` + `K` to cut a line.\n",
    "  - Press `Ctrl` + `U` to paste the cut line."
   ]
  },
  {
   "cell_type": "markdown",
   "metadata": {
    "editable": true,
    "slideshow": {
     "slide_type": "slide"
    },
    "tags": []
   },
   "source": [
    "### Choosing an Editor\n",
    "\n",
    "The choice between Vim and Nano often depends on personal preference and familiarity. Vim's power lies in its extensive features, while Nano excels in simplicity and ease of use. Both editors offer efficient ways to manipulate and edit text, and the choice ultimately depends on your comfort level and requirements."
   ]
  },
  {
   "cell_type": "markdown",
   "metadata": {
    "editable": true,
    "slideshow": {
     "slide_type": "slide"
    },
    "tags": []
   },
   "source": [
    "# Piping UNIX Commands\n",
    "\n",
    "Piping involves directing the output of one command as input to another command. The symbol for piping is `|`. This allows you to chain commands together, creating powerful and flexible workflows."
   ]
  },
  {
   "cell_type": "markdown",
   "metadata": {
    "editable": true,
    "slideshow": {
     "slide_type": "slide"
    },
    "tags": []
   },
   "source": [
    "### Example 1: Basic Pipe between Two Commands\n",
    "\n",
    "```bash\n",
    "ls -l | grep \"txt\"\n",
    "```\n",
    "\n",
    "- The `ls -l` command lists files in long format.\n",
    "- The output of `ls -l` is piped (`|`) to the `grep \"txt\"` command.\n",
    "- `grep \"txt\"` searches for lines containing the string \"txt\" in the output.\n",
    "\n",
    ":::{note} Open Question\n",
    "Is there any unexpected behavior with this command? How could it get you to the wrong answer? \n",
    ":::"
   ]
  },
  {
   "cell_type": "markdown",
   "metadata": {
    "editable": true,
    "slideshow": {
     "slide_type": "slide"
    },
    "tags": []
   },
   "source": [
    "### Example 2: Saving Output using Piping \n",
    "\n",
    "You can also pipe the output of a UNIX command into a text file to save it. Here's an example:\n",
    "\n",
    "```bash\n",
    "# List all files in the current directory and save the output to a text file\n",
    "ls -l > file_list.txt\n",
    "```\n",
    "\n",
    "\n",
    "- Again, the `ls -l` command lists files in long format.\n",
    "- The `>` symbol redirects the output of the command to a file.\n",
    "- `file_list.txt` is the name of the text file where the output will be saved.\n",
    "\n",
    "After executing this command, the detailed listing of files in the current directory will be saved in the `file_list.txt` file."
   ]
  },
  {
   "cell_type": "markdown",
   "metadata": {
    "editable": true,
    "slideshow": {
     "slide_type": "slide"
    },
    "tags": []
   },
   "source": [
    ":::{admonition} _Exercise Two: Experimenting with Commands_\n",
    ":class: tip\n",
    "\n",
    "In your shell/terminal (Terminal on Mac, Ubuntu on WSL), try \n",
    "\n",
    "1. `ls | wc` \n",
    "2. `ls -l | wc`\n",
    "3. `ls | wc -l` \n",
    "\n",
    "What do you think each of these do?\n",
    "\n",
    ":::"
   ]
  },
  {
   "cell_type": "markdown",
   "metadata": {
    "editable": true,
    "slideshow": {
     "slide_type": "slide"
    },
    "tags": []
   },
   "source": [
    "# And that's it!"
   ]
  },
  {
   "cell_type": "markdown",
   "metadata": {
    "editable": true,
    "slideshow": {
     "slide_type": "slide"
    },
    "tags": []
   },
   "source": [
    "# Appendix: Useful UNIX commands for your reference \n",
    "\n",
    "Here's a list of some important UNIX commands that can serve as a quick reference:\n",
    "\n",
    "- `pwd`: Print the current working directory.\n",
    "- `ls`: List files and directories in the current directory.\n",
    "- `cd`: Change the current working directory.\n",
    "  - `cd /path/to/directory`: Change to the specified directory.\n",
    "  - `cd ..`: Move up one level in the directory hierarchy.\n",
    "- `mkdir`: Create a new directory.\n",
    "  - `mkdir new_directory`: Create a directory named \"new_directory\".\n",
    "- `cp`: Copy files or directories.\n",
    "  - `cp file.txt /path/to/destination`: Copy \"file.txt\" to the specified destination.\n",
    "- `mv`: Move or rename files or directories.\n",
    "  - `mv old_name new_name`: Rename a file or directory.\n",
    "  - `mv file.txt /path/to/destination`: Move \"file.txt\" to the specified destination.\n",
    "- `rm`: Remove files or directories.\n",
    "  - `rm file.txt`: Remove \"file.txt\".\n",
    "  - `rm -r directory`: Remove a directory and its contents.\n",
    "- `cat`: Display the content of a file.\n",
    "  - `cat file.txt`: Display the content of \"file.txt\".\n",
    "- `echo`: Print text to the terminal.\n",
    "  - `echo \"Hello, World!\"`: Print the text \"Hello, World!\".\n",
    "- `man`: Display the manual or help for a command.\n",
    "  - `man ls`: Show the manual for the `ls` command.\n",
    "- `chmod`: Change file permissions.\n",
    "  - `chmod +x script.sh`: Add execute permission to a script.\n",
    "- `grep`: Search for a pattern in files.\n",
    "  - `grep pattern file.txt`: Search for \"pattern\" in \"file.txt\".\n",
    "- `ps`: Display information about running processes.\n",
    "  - `ps aux`: Show detailed information about all processes.\n",
    "- `kill`: Terminate a process.\n",
    "  - `kill process_id`: Terminate the process with the specified ID.\n",
    "- `nano` or `vim`: Text editors for creating and editing files.\n",
    "  - `nano filename.txt`: Open \"filename.txt\" in the Nano text editor.\n",
    "\n",
    "These commands cover basic file and directory manipulation, text file viewing, process management, and more."
   ]
  }
 ],
 "metadata": {
  "kernelspec": {
   "display_name": "Python 3 (ipykernel)",
   "language": "python",
   "name": "python3"
  },
  "language_info": {
   "codemirror_mode": {
    "name": "ipython",
    "version": 3
   },
   "file_extension": ".py",
   "mimetype": "text/x-python",
   "name": "python",
   "nbconvert_exporter": "python",
   "pygments_lexer": "ipython3",
   "version": "3.11.6"
  }
 },
 "nbformat": 4,
 "nbformat_minor": 4
}
