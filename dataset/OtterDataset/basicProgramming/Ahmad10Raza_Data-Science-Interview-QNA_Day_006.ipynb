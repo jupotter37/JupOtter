{
 "cells": [
  {
   "cell_type": "markdown",
   "metadata": {},
   "source": [
    "# Interview Questions On Python"
   ]
  },
  {
   "cell_type": "markdown",
   "metadata": {},
   "source": [
    "# 1. What exactly is Python?\n",
    "\n",
    "Python is a high-level, interpreted programming language that emphasizes code readability and simplicity. It was created by Guido van Rossum and first released in 1991. Python supports multiple programming paradigms, including procedural, object-oriented, and functional programming. It has a large standard library and a vast ecosystem of third-party packages, making it suitable for a wide range of applications, including web development, data analysis, machine learning, and scientific computing. Python's design philosophy emphasizes code readability and productivity, with a focus on clear and concise syntax. It is known for its simplicity and ease of use, making it a popular choice for beginners and experienced developers alike."
   ]
  },
  {
   "cell_type": "markdown",
   "metadata": {},
   "source": [
    "# 2. What are the advantages of Python?\n",
    "Python is a general-purpose programming language with a simple, easy-to-\n",
    "learn syntax that prioritizes readability and lowers program maintenance\n",
    "costs. Furthermore, the language is scriptable, open-source, and enables\n",
    "third-party packages, promoting modularity and code reuse.\n",
    "\n",
    "Its high-level data structures, along with the dynamic type and dynamic\n",
    "binding, have attracted a large developer community for Rapid Application\n",
    "Development and deployment."
   ]
  },
  {
   "cell_type": "markdown",
   "metadata": {},
   "source": [
    "Python has several advantages that make it a popular choice among developers. Some of the key advantages of Python are:\n",
    "\n",
    "1. **Readability**: Python has a simple and easy-to-learn syntax that prioritizes readability. This makes it easier to write and understand code, reducing the chances of errors and improving collaboration among developers.\n",
    "\n",
    "2. **Versatility**: Python is a general-purpose programming language, meaning it can be used for a wide range of applications. It supports multiple programming paradigms, including procedural, object-oriented, and functional programming.\n",
    "\n",
    "3. **Large Standard Library**: Python comes with a large standard library that provides a wide range of modules and functions for various tasks. This saves developers time and effort by providing ready-to-use solutions for common programming tasks.\n",
    "\n",
    "4. **Third-Party Packages**: Python has a vast ecosystem of third-party packages and libraries, such as NumPy, Pandas, and TensorFlow, which extend its functionality. These packages enable developers to easily perform complex tasks, such as data analysis, machine learning, and web development.\n",
    "\n",
    "5. **Scripting and Automation**: Python is a scriptable language, meaning it can be used to write scripts that automate repetitive tasks. This makes it ideal for tasks such as data processing, file manipulation, and system administration.\n",
    "\n",
    "6. **Modularity and Code Reusability**: Python promotes modularity and code reuse through its support for modules and packages. Developers can easily organize their code into reusable modules, making it easier to maintain and update their projects.\n",
    "\n",
    "7. **Community and Support**: Python has a large and active developer community, which means there are plenty of resources, tutorials, and forums available for support. This makes it easier for developers to find solutions to their problems and learn from others.\n",
    "\n",
    "Overall, Python's simplicity, versatility, and extensive ecosystem of libraries and packages make it a powerful and popular programming language for a wide range of applications."
   ]
  },
  {
   "cell_type": "markdown",
   "metadata": {},
   "source": [
    "# 3. What is the definition of dynamically typed language?\n",
    "We must first learn about typing before comprehending a dynamically typed\n",
    "language. In computer languages, typing refers to type-checking. Because\n",
    "these languages don't allow for \"type-coercion,\" \"1\" + 2 will result in a type\n",
    "error in a strongly-typed language like Python (implicit conversion of data\n",
    "types). On the other hand, a weakly-typed language, such as JavaScript, will\n",
    "simply return \"12\" as a result.\n",
    "\n",
    "There are two steps to type-checking\n",
    "* Static - Data Types are checked before execution.\n",
    "* Dynamic - Data Types are checked during execution.\n",
    "\n",
    "Python is an interpreted language that executes each statement line by line.\n",
    "Thus type-checking happens in real-time while the program is running, and\n",
    "python is a Dynamically Typed Language as a result."
   ]
  },
  {
   "cell_type": "markdown",
   "metadata": {},
   "source": [
    "A dynamically typed language is a programming language where the type of a variable is determined at runtime, rather than being explicitly declared by the programmer. In dynamically typed languages, variables can hold values of different types at different points in the program execution. The type of a variable can change dynamically based on the value assigned to it. This allows for flexibility and ease of use, but it also requires careful attention to type compatibility during runtime. Examples of dynamically typed languages include Python, JavaScript, and Ruby."
   ]
  },
  {
   "cell_type": "markdown",
   "metadata": {},
   "source": [
    "# 4. What is the definition of an Interpreted Language?\n",
    "The sentences in an Interpreted language are executed line by line.\n",
    "Interpreted languages include Python, JavaScript, R, PHP, and Ruby, to\n",
    "name just a few. An interpreted language program executes straight from\n",
    "the source code without a compilation phase."
   ]
  },
  {
   "cell_type": "markdown",
   "metadata": {},
   "source": [
    "An interpreted language is a programming language where the source code is executed line by line without the need for a separate compilation phase. Examples of interpreted languages include Python, JavaScript, R, PHP, and Ruby. In an interpreted language, the program is executed directly from the source code, making it easier to write and test code quickly."
   ]
  },
  {
   "cell_type": "markdown",
   "metadata": {},
   "source": [
    "# 5. What is the meaning of PEP 8, and how significant is it?\n",
    "Python Enhancement Proposal (PEP) is an acronym for Python\n",
    "Enhancement Proposal. A Python Extension Protocol (PEP) is an official\n",
    "design document that provides information to the Python community or\n",
    "describes a new feature or procedure for Python. PEP 8 is particularly\n",
    "important since it outlines the Python code style rules. Contributing to the\n",
    "Python open-source community appears to need a serious and tight\n",
    "adherence to these stylistic rules."
   ]
  },
  {
   "cell_type": "markdown",
   "metadata": {},
   "source": [
    "PEP 8 stands for Python Enhancement Proposal 8. It is a set of guidelines and recommendations for writing Python code in a consistent and readable manner. PEP 8 covers various aspects of code style, including naming conventions, indentation, line length, comments, and more.\n",
    "\n",
    "PEP 8 is significant because it promotes code readability and maintainability. By following the guidelines outlined in PEP 8, developers can write code that is easier to understand, collaborate on, and debug. Consistent code style also improves code reviews and makes it easier for new developers to join a project.\n",
    "\n",
    "Adhering to PEP 8 is considered a best practice in the Python community. It helps create a standard coding style across different projects and makes it easier for developers to understand and work with each other's code. Many popular Python libraries and frameworks follow PEP 8, making it easier for developers to switch between different projects.\n",
    "\n",
    "Overall, PEP 8 plays a significant role in promoting clean, readable, and maintainable Python code. It is highly recommended to follow PEP 8 guidelines when writing Python code."
   ]
  },
  {
   "cell_type": "markdown",
   "metadata": {},
   "source": [
    "# 6. What is the definition scope in Python?\n",
    "In Python, each object has its scope. In Python, a scope is a block of code in\n",
    "which an object is still relevant. Namespaces uniquely identify all the\n",
    "objects in a program. On the other hand, these namespaces have a scope set\n",
    "for them, allowing you to utilize their objects without any prefix. The\n",
    "following are a few instances of scope produced during Python code\n",
    "execution:\n",
    "* Those local objects available in a particular function are a local\n",
    "scope.\n",
    "* A global scope refers to the items that have been available from\n",
    "the beginning of the code execution.\n",
    "* The global objects of the current module that are available in the\n",
    "program are referred to as a module-level scope.\n",
    "* An outermost scope refers to all of the program's built-in names.\n",
    "The items in this scope are searched last to discover the name\n",
    "reference.\n",
    "Note: Keywords like global can sync local scope items with global scope\n",
    "ones."
   ]
  },
  {
   "cell_type": "markdown",
   "metadata": {},
   "source": [
    "In Python, each object has its scope. A scope is a block of code in which an object is accessible. Namespaces uniquely identify all the objects in a program. Here are some examples of scopes in Python:\n",
    "\n",
    "1. Local Scope: Objects defined within a specific function are accessible only within that function.\n",
    "\n",
    "2. Global Scope: Objects defined at the top level of a module are accessible throughout the module.\n",
    "\n",
    "3. Module-level Scope: Objects defined in the current module are accessible within the module.\n",
    "\n",
    "4. Built-in Scope: Objects that are built-in to Python, such as functions and classes, are accessible globally.\n",
    "\n",
    "The search for a name reference starts from the local scope and moves up to the global and built-in scopes. The `global` keyword can be used to access and modify global scope objects from within a local scope.\n",
    "\n",
    "Note: It is important to understand and manage the scope of objects in order to avoid naming conflicts and ensure proper code organization."
   ]
  },
  {
   "cell_type": "markdown",
   "metadata": {},
   "source": [
    "# 9. What is the meaning of pass in Python?"
   ]
  },
  {
   "cell_type": "markdown",
   "metadata": {},
   "source": [
    "In Python, the `pass` statement is a placeholder that does nothing. It is used when a statement is required syntactically, but no action is needed. It is often used as a placeholder for code that will be implemented later or as a way to create empty classes or functions. The `pass` statement allows the code to pass over a block without executing any code."
   ]
  },
  {
   "cell_type": "markdown",
   "metadata": {},
   "source": [
    "# 10. How does Python handle memory?"
   ]
  },
  {
   "cell_type": "markdown",
   "metadata": {},
   "source": [
    "Python uses a combination of techniques to handle memory efficiently:\n",
    "\n",
    "1. **Automatic Memory Management**: Python uses automatic memory management, also known as garbage collection. It automatically allocates memory for objects when they are created and deallocates memory when they are no longer in use. This helps to prevent memory leaks and makes memory management easier for developers.\n",
    "\n",
    "2. **Reference Counting**: Python uses reference counting as its primary memory management technique. Each object in Python has a reference count, which keeps track of the number of references to that object. When the reference count of an object reaches zero, it means that the object is no longer in use and can be deallocated.\n",
    "\n",
    "3. **Garbage Collection**: In addition to reference counting, Python also employs a garbage collector to handle more complex memory management scenarios. The garbage collector is responsible for identifying and deallocating objects that are no longer reachable, even if their reference count is not zero. This helps to handle circular references and other situations where reference counting alone is not sufficient.\n",
    "\n",
    "4. **Memory Pool**: Python uses a memory pool to manage the allocation and deallocation of small objects. The memory pool is a pre-allocated block of memory that is divided into fixed-size chunks. When an object of a certain size is requested, Python allocates a chunk from the memory pool instead of requesting memory from the operating system. This reduces the overhead of memory allocation and deallocation.\n",
    "\n",
    "5. **Optimizations**: Python includes various optimizations to improve memory usage. For example, it uses string interning to reuse immutable string objects, reducing the memory footprint of string literals. It also employs techniques like copy-on-write to optimize memory usage when working with large data structures.\n",
    "\n",
    "Overall, Python's memory management techniques help to simplify memory management for developers and ensure efficient memory usage in Python programs."
   ]
  },
  {
   "cell_type": "markdown",
   "metadata": {},
   "source": [
    "# 11. What are namespaces in Python? What is their purpose?"
   ]
  },
  {
   "cell_type": "markdown",
   "metadata": {},
   "source": [
    "In Python, a namespace is a system that organizes names (variables, functions, classes, etc.) to avoid naming conflicts and provide a way to access these names. It acts as a container for these names and provides a unique identifier for each name.\n",
    "\n",
    "The purpose of namespaces in Python is to:\n",
    "\n",
    "1. Avoid naming conflicts: Namespaces ensure that names are unique and do not clash with each other. By organizing names into separate namespaces, Python prevents naming conflicts and allows multiple objects with the same name to coexist.\n",
    "\n",
    "2. Provide scope and visibility: Namespaces define the scope and visibility of names. Each namespace has its own scope, and names defined within a namespace are only accessible within that scope. This helps in organizing and structuring code, as well as controlling the visibility of names.\n",
    "\n",
    "3. Encapsulate code and promote modularity: Namespaces allow for code encapsulation and modularity. By grouping related names within a namespace, Python promotes code organization and makes it easier to manage and maintain large codebases.\n",
    "\n",
    "4. Enable code reuse: Namespaces facilitate code reuse by providing a way to import and access names from other namespaces. This allows developers to use functions, classes, and variables defined in other modules or packages without having to redefine them.\n",
    "\n",
    "Overall, namespaces in Python play a crucial role in organizing code, avoiding naming conflicts, and promoting code modularity and reusability. They are an essential concept in Python's design philosophy and contribute to the language's readability and maintainability."
   ]
  },
  {
   "cell_type": "markdown",
   "metadata": {},
   "source": [
    "# 12 What is Python's Scope Resolution?"
   ]
  },
  {
   "cell_type": "markdown",
   "metadata": {},
   "source": [
    "Python's scope resolution refers to the process of determining the scope of a variable or name in Python. It determines where a variable or name can be accessed or referenced within a program.\n",
    "\n",
    "Python follows a specific order of scope resolution, known as the LEGB rule:\n",
    "\n",
    "1. Local Scope (L): This is the innermost scope and refers to variables defined within a function. Local variables can only be accessed within the function where they are defined.\n",
    "\n",
    "2. Enclosing Scope (E): This refers to variables defined in the enclosing function. If a variable is not found in the local scope, Python searches for it in the enclosing function's scope.\n",
    "\n",
    "3. Global Scope (G): This refers to variables defined at the top level of a module or declared as global within a function. Global variables can be accessed throughout the module.\n",
    "\n",
    "4. Built-in Scope (B): This is the outermost scope and refers to the built-in functions and objects provided by Python. These include functions like `print()` and objects like `list` and `dict`.\n",
    "\n",
    "Python searches for a variable or name in the above order. If the variable is not found in any of the scopes, a `NameError` is raised.\n",
    "\n",
    "It's important to understand the scope resolution in Python to avoid naming conflicts and ensure proper variable access and visibility within a program."
   ]
  },
  {
   "cell_type": "markdown",
   "metadata": {},
   "source": [
    "# 13. Explain the definition of decorators in Python?\n",
    "Decorators in Python are simply functions that add functionality to an\n",
    "existing Python function without affecting the function's structure. In\n",
    "Python, they are represented by the name @decorator name and are invoked\n",
    "from the bottom up.\n",
    "\n",
    "The elegance of decorators comes in the fact that, in addition to adding\n",
    "functionality to the method's output, they may also accept parameters for\n",
    "functions and change them before delivering them to the function. The\n",
    "inner nested function, i.e., the 'wrapper' function, is crucial in this case, and\n",
    "it's in place to enforce encapsulation and, as a result, keep itself out of the\n",
    "global scope.\n",
    "\n",
    "\n",
    "```python\n",
    "def timer_decorator(func):\n",
    "    def wrapper(*args, **kwargs):\n",
    "        start_time = time.time()\n",
    "        result = func(*args, **kwargs)\n",
    "        end_time = time.time()\n",
    "        execution_time = end_time - start_time\n",
    "        print(f\"Execution time: {execution_time} seconds\")\n",
    "        return result\n",
    "    return wrapper\n",
    "\n",
    "@timer_decorator\n",
    "def my_function():\n",
    "    # code goes here\n",
    "    pass\n",
    "\n",
    "my_function()\n",
    "```"
   ]
  },
  {
   "cell_type": "markdown",
   "metadata": {},
   "source": [
    "# 14. What are the definitions of dict and list comprehensions?\n",
    "\n",
    "Python comprehensions, like decorators, are syntactic sugar structures that\n",
    "aid in the construction of changed and filtered lists, dictionaries, and sets\n",
    "from a given list, dictionary, or set. Using comprehensions saves a lot of\n",
    "effort and allows you to write less verbose code (containing more lines of\n",
    "code). Consider the following scenarios in which comprehensions might be\n",
    "highly beneficial:\n",
    "\n",
    "* Performing math operations throughout the full list\n",
    "* Using conditional filtering to filter the entire list\n",
    "* Multiple lists can be combined into one using comprehensions,\n",
    "which allow for many iterators and hence can be used to\n",
    "combine multiple lists into one.\n",
    "* Taking a multi-dimensional list and flattening it\n",
    "* A similar strategy of nested iterators (as seen before) can be\n",
    "used to flatten a multi-dimensional list or operate on its inner\n",
    "members."
   ]
  },
  {
   "cell_type": "markdown",
   "metadata": {},
   "source": [
    "# 15. What is the definition of lambda in Python? What is the purpose of it?\n",
    "In Python, a lambda function is an anonymous function that can take any\n",
    "number of parameters but only have one expression. It's typically utilized\n",
    "when an anonymous function is required for a brief time. Lambda functions\n",
    "can be applied in two different ways:\n",
    "\n",
    "To assign lambda functions to a variable, do the following:\n",
    "```python\n",
    "mul = lambda a, b : a * b\n",
    "print(mul(2, 5)) # output => 10\n",
    "Wrapping lambda functions inside another function:\n",
    "def. myWrapper(n):\n",
    "return lambda a : a * n\n",
    "mulFive = myWrapper(5)\n",
    "print(mulFive(2)) # output => 10\n",
    "```"
   ]
  },
  {
   "cell_type": "markdown",
   "metadata": {},
   "source": [
    "# 16. In Python, how do you make a copy of an object?\n",
    "The assignment statement (= operator) in Python doesn't duplicate objects.\n",
    "Instead, it establishes a connection between the existing object and the\n",
    "name of the target variable. In Python, we must use the copy module to\n",
    "make copies of an object. Furthermore, the copy module provides two\n",
    "options for producing copies of a given object –\n",
    "\n",
    "A bit-wise copy of an object is called a shallow copy. The values of the\n",
    "cloned object are an identical replica of the original object's values. If one\n",
    "of the variables references another object, just the references to that object\n",
    "are copied. Deep Copy recursively replicates all values from source to\n",
    "destination object, including the objects referenced by the source object."
   ]
  },
  {
   "cell_type": "markdown",
   "metadata": {},
   "source": [
    "# 17. What are the definitions of pickling and unpickling?\n",
    "\"Serialization out of the box\" is a feature that comes standard with the\n",
    "Python library. Serializing an object means converting it into a format that\n",
    "can be saved to be de-serialized later to return to its original state. The\n",
    "pickle module is used in this case.\n",
    "\n",
    "**Pickling**\n",
    "\n",
    "In Python, the serialization process is known as pickling. In Python, any\n",
    "object may be serialized as a byte stream and saved as a memory file.\n",
    "Pickling is a compact process, but pickle items may be further compacted.\n",
    "Pickle also retains track of the serialized objects, which is cross-version\n",
    "portable. Pickle.dump is the function used in operation mentioned above ().\n",
    "\n",
    "**Unpickling**\n",
    "\n",
    "Pickling is the polar opposite of unpickling. After deserializing the byte\n",
    "stream, it loads the object into memory to reconstruct the objects saved in\n",
    "the file. Pickle.load is the function used in operation mentioned above ()."
   ]
  },
  {
   "cell_type": "markdown",
   "metadata": {},
   "source": [
    "# 18. What is PYTHONPATH?\n",
    "PYTHONPATH is an environment variable that allows you to specify extra\n",
    "directories in which Python will look for modules and packages. This is\n",
    "especially important if you want to keep Python libraries that aren't installed\n",
    "in the global default location."
   ]
  },
  {
   "cell_type": "markdown",
   "metadata": {},
   "source": [
    "# 19. What are the functions help() and dir() used for?\n",
    "Python's help() method displays modules, classes, functions, keywords, and\n",
    "other objects. If the help() method is used without an argument, an\n",
    "interactive help utility is opened on the console.\n",
    "\n",
    "The dir() function attempts to return a correct list of the object's attributes\n",
    "and methods. It reacts differently to various things because it seeks to\n",
    "produce the most relevant data rather than all of the information.\n",
    "\n",
    "It produces a list of all characteristics included in that module for\n",
    "Modules/Library objects. It returns a list of all acceptable attributes and\n",
    "basic attributes for Class Objects. It produces a list of attributes in the\n",
    "current scope if no arguments are supplied."
   ]
  },
  {
   "cell_type": "markdown",
   "metadata": {},
   "source": [
    "# 20. How can you tell the difference between.py and.pyc files?\n",
    "The source code of a program is stored in.py files. Meanwhile, the bytecode\n",
    "of your program is stored in the .pyc file. After compiling the.py file, we\n",
    "obtain bytecode (source code). For some of the files you run, .pyc files are\n",
    "not produced. It's solely there to hold the files you've imported—the python\n",
    "interpreter checks for compiled files before executing a python program.\n",
    "The virtual computer runs the file if it is present, and it looks for a.py file if\n",
    "it isn't found. It is compiled into a.pyc file and then executed by the Python\n",
    "Virtual Machine if it is discovered. Having a.pyc file saves you time while\n",
    "compiling."
   ]
  },
  {
   "cell_type": "markdown",
   "metadata": {},
   "source": [
    "# 21. In Python, how are arguments delivered by value or reference?\n",
    "Pass by value: The real object is copied and passed. Changing the value of\n",
    "the object's duplicate does not affect the original object's value.\n",
    "Pass via reference: The real object is supplied as a reference. The value of\n",
    "the old object will change if the value of the new object is changed.\n",
    "Arguments are supplied by reference in Python, which means that a\n",
    "reference to the real object is passed."
   ]
  },
  {
   "cell_type": "markdown",
   "metadata": {},
   "source": [
    "# **Thank You!**"
   ]
  }
 ],
 "metadata": {
  "language_info": {
   "name": "python"
  }
 },
 "nbformat": 4,
 "nbformat_minor": 2
}
