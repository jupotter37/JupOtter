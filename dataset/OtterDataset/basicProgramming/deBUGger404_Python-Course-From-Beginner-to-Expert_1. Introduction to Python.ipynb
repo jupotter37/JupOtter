{
 "cells": [
  {
   "cell_type": "markdown",
   "id": "ae9ab3b7-8983-4741-8ebb-868fc89e8e55",
   "metadata": {},
   "source": [
    "### **Introduction to Python** \n",
    "In this section, we will introduce Python, guide you through the process of installing Python on different operating systems, and show you how to set up your development environment. We will also cover how to install Anaconda and use Jupyter Notebooks, which are powerful tools for writing and executing Python code. * * * \n",
    "#### **What is Python?** \n",
    "**Python** is a high-level, interpreted programming language known for its simplicity, readability, and versatility. It was created by Guido van Rossum and first released in 1991. Python emphasizes code readability, using indentation and a clean syntax that makes it easy to learn and write. It is widely used in various domains, including web development, data science, automation, artificial intelligence, and more. "
   ]
  },
  {
   "cell_type": "markdown",
   "id": "8018ce17-541d-4b29-9ba7-81dc115594e0",
   "metadata": {},
   "source": [
    "**Key Features of Python:** \n",
    "* **Easy to Learn and Use:** Python's syntax is clear and intuitive, making it an excellent choice for beginners.\n",
    "* **Versatile:** Python can be used for a wide range of applications, from web development to data analysis.\n",
    "* **Extensive Libraries:** Python has a vast ecosystem of libraries and frameworks that simplify complex tasks.\n",
    "* **Community Support:** Python has a large, active community that contributes to its growth and development."
   ]
  },
  {
   "cell_type": "markdown",
   "id": "63ec94ae-4c55-4684-bb1b-9fc205a628b7",
   "metadata": {},
   "source": [
    "#### **Installing Python and Setting Up the Environment**\n",
    "Python can be installed on various operating systems, including Windows, macOS, and Linux. Below are the steps for each:"
   ]
  },
  {
   "cell_type": "markdown",
   "id": "5e34ef6a-d17b-4b22-a7f3-536f0421f428",
   "metadata": {},
   "source": [
    "***\n",
    "##### **Installing Python on Windows** \n",
    "1. **Download Python:**\n",
    "   * Go to the official Python website: [python.org/downloads](https://www.python.org/downloads/)\n",
    "   * Click on the **\"Download Python\"** button. It should automatically suggest the latest version for your system. ![Python Download](https://www.python.org/static/img/python-logo.png)\n",
    "\n",
    "2. **Run the Installer:**\n",
    "    * Open the downloaded file to start the installation.\n",
    "    * **Important:** Make sure to check the box that says **\"Add Python to PATH\"** before clicking **\"Install Now.\"** ![Python Installation](../Data/win_installer.png)\n",
    "\n",
    "3. **Verify Installation:**\n",
    "    * Open the Command Prompt (you can search for `cmd` in the Start menu).\n",
    "    * Type `python --version` and press Enter. You should see the Python version you installed. ![Verify Python Installation](../Data/python-version-3.12.0-cmd-output.png)\n",
    "\n",
    "**Note:** If you face any issue follow this [documentation](https://phoenixnap.com/kb/how-to-install-python-3-windows)."
   ]
  },
  {
   "cell_type": "markdown",
   "id": "6719d127-4ba1-4aa7-aeba-52b040e131a9",
   "metadata": {},
   "source": [
    "***\n",
    "##### **Installing Python on macOS** \n",
    "1. **Download Python:**\n",
    "   * Visit the official Python website: [python.org/downloads](https://www.python.org/downloads/)\n",
    "   * Download the latest version for macOS.\n",
    "\n",
    "2. **Install Python:**\n",
    "   * Open the downloaded `.pkg` file and follow the installation prompts.\n",
    "     ![Verify Python Installation](../Data/installing-python-on-mac-screenshot-r.webp)\n",
    "   \n",
    "3. **Verify Installation:**\n",
    "   * Open Terminal (you can find it in Applications > Utilities).\n",
    "   * Type `python3 --version` and press Enter. You should see the installed Python version.\n",
    "\n",
    "**Note:** If you face any issue follow this [documentation](https://www.dataquest.io/blog/installing-python-on-mac/)."
   ]
  },
  {
   "cell_type": "markdown",
   "id": "c37d9aa4-5b66-484f-ad59-43dc3f89c76c",
   "metadata": {},
   "source": [
    "***\n",
    "##### **Installing Python on Linux**\n",
    "\n",
    "1. **Using Package Manager:**\n",
    "    * For Ubuntu/Debian-based distributions, open Terminal and run:\n",
    "        >```bash\n",
    "        sudo apt update \n",
    "        sudo apt install python3\n",
    "        ```\n",
    "    * For Fedora/CentOS, use:\n",
    "        >```bash\n",
    "        sudo dnf install python3\n",
    "        ```\n",
    "\n",
    "2. **Verify Installation:**\n",
    "   * Type `python3 --version` in the Terminal and press Enter to check if Python is installed correctly.\n",
    "     \n",
    "     ![terminal](../Data/Linux-Install-1.png)\n",
    "\n",
    "\n",
    "**Note:** If you face any issue follow this [documentation](https://opensource.com/article/20/4/install-python-linux)."
   ]
  },
  {
   "cell_type": "markdown",
   "id": "54409efb-3390-4e9f-8158-4ffb19d1c632",
   "metadata": {},
   "source": [
    "***\n",
    "#### **Running Python Scripts** \n",
    "Once Python is installed, you can run Python scripts in several ways: \n",
    "1. **Using the Python Shell:**\n",
    "   * Open your command line interface (Command Prompt, Terminal, etc.).\n",
    "   * Type `python` or `python3` and press Enter to enter the Python interactive shell.\n",
    "   * Here, you can type Python commands directly and see the output immediately.\n",
    "   > ![terminal](../Data/python_terminal.png)\n",
    "\n",
    "3. **Running Python Scripts from the Command Line:**\n",
    "   * Save your Python code in a file with a `.py` extension (e.g., `hello.py`).\n",
    "   * In the command line, navigate to the directory where your script is located.\n",
    "   * Run the script by typing `python scriptname.py` (or `python3 scriptname.py` depending on your setup).\n",
    "        > ![hello](../Data/python_hello.png)\n",
    "\n",
    "4. **Using an Integrated Development Environment (IDE):**\n",
    "   * Python code can also be written and executed in an IDE like PyCharm, VS Code, or IDLE (which comes with Python).\n",
    "   * These tools provide features like code completion, debugging, and project management.\n",
    "     > ![idle](../data/idle1_b8dexp.png)"
   ]
  },
  {
   "cell_type": "markdown",
   "id": "4cae81f8-791c-4bf5-9264-22c4a82ffd25",
   "metadata": {},
   "source": [
    "***\n",
    "#### **Installing Anaconda and Using Jupyter Notebook(Optional)** \n",
    "**Anaconda** is a popular distribution of Python that simplifies package management and deployment. It comes with many useful libraries and tools, including Jupyter Notebook, which is an excellent environment for data analysis and exploration. \n",
    "\n",
    "##### **Installing Anaconda** \n",
    "1. **Download Anaconda:**\n",
    "   * Visit the Anaconda website: [anaconda.com/products/distribution](https://www.anaconda.com/download)\n",
    "   * Download the installer for your operating system.\n",
    "\n",
    "2. **Install Anaconda:**\n",
    "   * Run the installer and follow the prompts.\n",
    "   * On Windows, you may be asked whether to add Anaconda to your PATH. It’s generally recommended to leave this option unchecked and use the Anaconda Navigator or the Anaconda prompt instead.\n",
    "   * For more Installation Guide visit to [Anaconda Documentation](https://docs.anaconda.com/anaconda/install/).\n",
    "\n",
    "3. **Verify Installation:**\n",
    "   * Open the Anaconda Navigator (it should be available in your Start menu or Applications folder).\n",
    "   * You can also verify by opening a terminal or command prompt and typing `conda --version`."
   ]
  },
  {
   "cell_type": "markdown",
   "id": "15da2a67-36ad-4b21-b6aa-bccdffe6d941",
   "metadata": {},
   "source": [
    "***\n",
    "#### **Installing JupyterLab** \n",
    "**JupyterLab** is the next-generation web-based interface for Project Jupyter, offering a more flexible and extensible environment than the classic Jupyter Notebook. It provides an interactive development environment that supports notebooks, code, and data in a single, unified interface. \n",
    "\n",
    "##### **Installation Steps for JupyterLab** \n",
    "1. **Install JupyterLab via Anaconda:**\n",
    "   * If you have installed Anaconda, JupyterLab is typically included. However, you can install or update it using the following command in your terminal:\n",
    "```bash\n",
    " conda install -c conda-forge jupyterlab\n",
    "```\n",
    "\n",
    "2. **Install JupyterLab via pip:** * If you prefer using `pip` (Python’s package installer), you can install JupyterLab with:\n",
    "```bash\n",
    " pip install jupyterlab\n",
    "```\n",
    "\n",
    "> For more information, [Jupyter Lab Documentation](https://jupyterlab.readthedocs.io/en/stable/getting_started/installation.html)\n",
    "\n",
    "##### **Launching JupyterLab on Linux** \n",
    "1. **Open a Terminal:**\n",
    "   * On your Linux system, open the Terminal. You can typically find it in your applications menu or by pressing `Ctrl + Alt + T`.\n",
    "\n",
    "2. **Launch JupyterLab:**\n",
    "   * Type the following command in your terminal and press Enter:\n",
    "     ```bash\n",
    "     jupyter lab\n",
    "     ```\n",
    "     </br>\n",
    "   * This will start the JupyterLab server and automatically open your default web browser with the JupyterLab interface.\n",
    "     >![JupyterLab Interface](../Data/jupyterlab.png)\n",
    "\n",
    "3. **Working in JupyterLab:**\n",
    "   * Once JupyterLab is open in your browser, you can create new notebooks, open existing notebooks, or work with text files, terminals, and other content types in a tabbed interface.\n",
    "     * To create a new notebook, click on **\"Notebook\"** under the **\"Launcher\"** tab, and then select **\"Python 3\"**.\n",
    "     >![New Notebook](../Data/229563554-2776b489-a831-44a0-a7a2-2f211e38b78b.gif)\n",
    "\n",
    "\n",
    "6. **Running Python Code in JupyterLab:**\n",
    "   * Similar to Jupyter Notebook, you can type Python code into the cells and run it by pressing `Shift + Enter`. The output will appear directly below the code cell.\n",
    "     >![run notebook](../Data/229564924-7a76bed6-924a-45ff-9ac7-6ec6d99930b7.png)\n",
    "\n",
    "**JupyterLab** offers a more advanced user interface compared to the classic Jupyter Notebook, with features like drag-and-drop support, multiple tabs, and an integrated file browser.”"
   ]
  },
  {
   "cell_type": "markdown",
   "id": "a756542a-9c58-4fe8-b222-3a54fd89c688",
   "metadata": {},
   "source": [
    "<div style=\"text-align: center;\">\n",
    "  <a href=\"https://github.com/deBUGger404\" target=\"_blank\">\n",
    "    <img src=\"../Data/happy_code.webp\" alt=\"Happy Code\" style=\"width:200px; border-radius:12px;\">\n",
    "  </a>\n",
    "</div>"
   ]
  },
  {
   "cell_type": "code",
   "execution_count": null,
   "id": "3ba10514-030c-4ea3-8fa6-a6983be0ee5f",
   "metadata": {},
   "outputs": [],
   "source": []
  }
 ],
 "metadata": {
  "kernelspec": {
   "display_name": "Python (ml_proj_env)",
   "language": "python",
   "name": "ml_proj_env"
  },
  "language_info": {
   "codemirror_mode": {
    "name": "ipython",
    "version": 3
   },
   "file_extension": ".py",
   "mimetype": "text/x-python",
   "name": "python",
   "nbconvert_exporter": "python",
   "pygments_lexer": "ipython3",
   "version": "3.12.4"
  }
 },
 "nbformat": 4,
 "nbformat_minor": 5
}
