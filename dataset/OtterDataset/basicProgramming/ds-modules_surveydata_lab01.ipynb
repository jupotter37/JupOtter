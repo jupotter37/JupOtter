{
 "cells": [
  {
   "cell_type": "markdown",
   "metadata": {},
   "source": [
    "# [Global150Q / PACS 190] Hill Thesis Survey Analysis Part A: Data Cleaning\n",
    "\n",
    "\n",
    "---\n",
    "\n",
    "\n",
    "### Professors: Crystal Chang Cohen, Tiffany Page\n",
    "\n",
    "Welcome to Hill Thesis Survey Analysis Part A! In this lab, we will introduce you to Jupyter Notebooks, the Python programming language and the tools that you are going to use to conduct your data cleaning and exploration analysis on the Hill Thesis Survey. In the main part of this notebook, you will work with Hill Thesis Survey dataset using Python and learn basic data cleaning techniques and strategies. By the end of this notebook, you will output a cleaned  dataset that will be used to conduct survey analysis in Part B of this project. \n",
    "\n",
    "\n",
    "Estimated Time: 2 hours\n",
    "\n",
    "---\n",
    "\n",
    "\n",
    "## Table of Contents\n",
    "\n",
    "1. <a href='#section 0'>The Jupyter Notebook</a>\n",
    "\n",
    "    a. <a href='#subsection 0a'>Run a cell</a>\n",
    "\n",
    "    b. <a href='#subsection 0b'>Writing Comments in a cell</a>\n",
    "\n",
    "    c. <a href='#subsection 0c'>Editing a cell</a>\n",
    "\n",
    "    d. <a href='#subsection 0d'>Saving and loading</a>\n",
    "\n",
    "\n",
    "2.  <a href='#section 1'>Introduction To Python </a>\n",
    "\n",
    "    a. <a href='#subsection 1a'>Data types</a>\n",
    "\n",
    "    b. <a href='#subsection 1b'>Variables</a>\n",
    "\n",
    "    c. <a href='#subsection 1c'>Python List</a>\n",
    "\n",
    "    d. <a href='#subsection 1d'>Functions</a>\n",
    "    \n",
    "    d. <a href='#subsection 1e'>Importing Python Modules</a>\n",
    "    \n",
    "\n",
    "3. <a href='#section 2'>Tables and Table operations </a>\n",
    "\n",
    "    a. <a href='#subsection 2a'>Create Tables</a>\n",
    "\n",
    "    b. <a href='#subsection 2b'>Table methods</a>\n",
    "    \n",
    "  \n",
    "4.  <a href='#section 3'>Acquiring and Cleaning Hill Thesis Survey Data</a>\n",
    "\n",
    "    a. <a href='#subsection 3a'>Import and display the data</a>\n",
    "\n",
    "    b. <a href='#subsection 3b'>Data Overview</a>\n",
    "\n",
    "    c. <a href='#subsection 3c'>Data Cleaning and Wrangling </a>\n",
    "    \n",
    "    d. <a href='#subsection 3d'>Saving cleaned_data</a>\n",
    "\n",
    "\n",
    "5. <a href='#section 4'>Bibliography</a>\n",
    "\n",
    "\n",
    "---\n",
    "\n",
    "\n",
    "## Today's lab\n",
    "\n",
    "\n",
    "1. Navigate Jupyter Notebooks (like this one)\n",
    "2. Learn basic Python programming techniques\n",
    "3. Import packages and pratice `Table` operations\n",
    "4. Using `Table` operations to clean the survey data \n",
    "5. Learn general data cleaning techniques and procedures \n",
    "6. Output a csv file that contains the cleaned data which will be used in Part B - survey analysis  \n",
    "7. Explore survey design \n",
    "\n",
    "\n"
   ]
  },
  {
   "cell_type": "code",
   "execution_count": null,
   "metadata": {},
   "outputs": [],
   "source": []
  },
  {
   "cell_type": "markdown",
   "metadata": {},
   "source": [
    "# Part 1: The Jupyter Notebook <a id='section 0'></a>\n",
    "\n",
    "Before we start our lab, we want to give a brief introduction to Jupyter Notebooks (like this one) where you will work on conducting your survey analysis. \n",
    "\n",
    "**Jupyter notebooks** are documents that can contain a seamless compilation of text, code, visualizations, and more. A notebook is composed of two types of rectangular **cells**:  markdown and code. A **markdown cell**, such as this one, contains text. A **code cell** contains code. All of the code in this notebook is in a programming language called **Python**. You can select any cell by clicking it once. After a cell is selected, you can navigate the notebook using the up and down arrow keys or by simply scrolling.\n",
    "\n",
    "### 1.1 Run a cell <a id='subsection 0a'></a>\n",
    "To run a code cell once it's been selected, \n",
    "- press `Shift` + `Enter`, or\n",
    "- click the Run button in the toolbar at the top of the screen. \n",
    "\n",
    "If a code cell is running, you will see an asterisk (\\*) appear in the square brackets to the left of the cell. Once the cell has finished running, a number corresponding to the order in which the cell was run will replace the asterisk and any output from the code will appear under the cell."
   ]
  },
  {
   "cell_type": "code",
   "execution_count": 1,
   "metadata": {
    "scrolled": true
   },
   "outputs": [],
   "source": [
    "# run this cell\n",
    "print(\"Hello World!\")"
   ]
  },
  {
   "cell_type": "markdown",
   "metadata": {},
   "source": [
    "### 1.2 Writing Comments in a cell <a id='subsection 0b'></a>\n",
    "You'll notice that many code cells contain lines of blue text that start with a `#` (like the one above). These are *comments*. Comments often contain helpful information about what the code does or what you are supposed to do in the cell. The leading `#` tells the computer to ignore the rest of the line.\n",
    "\n",
    "### 1.3 Editing a cell <a id='subsection 0c'></a>\n",
    "\n",
    "**Question 1.3.1** You can edit a Markdown cell by clicking it twice. Text in Markdown cells is written in [**Markdown**](https://daringfireball.net/projects/markdown/), a formatting syntax for plain text, so you may see some funky symbols when you edit a text cell. Once you've made your changes, you can exit text editing mode by running the cell. Edit the next cell to fix the misspelling."
   ]
  },
  {
   "cell_type": "markdown",
   "metadata": {},
   "source": [
    "Thesis Survy "
   ]
  },
  {
   "cell_type": "markdown",
   "metadata": {},
   "source": [
    "**Question 1.3.2** Code cells can be edited any time after they are highlighted. Try editing the next code cell to print your name. \n",
    "*Hint*: replace YOUR NAME with your name"
   ]
  },
  {
   "cell_type": "code",
   "execution_count": 2,
   "metadata": {
    "scrolled": true
   },
   "outputs": [
    {
     "name": "stdout",
     "output_type": "stream",
     "text": [
      "Hello: my name is <YOUR NAME>\n"
     ]
    }
   ],
   "source": [
    "# edit the code to print your name\n",
    "print(\"Hello: my name is <YOUR NAME>\")"
   ]
  },
  {
   "cell_type": "markdown",
   "metadata": {},
   "source": [
    "### 1.4 Saving and loading <a id='subsection 0d'></a>\n",
    "\n",
    "#### Saving and Loading\n",
    "\n",
    "Your notebook can record all of your text and code edits, as well as any graphs you generate or calculations you make. You can save the notebook in its current state by clicking `Control-S`/`Command-S`, clicking the **floppy disc icon** in the toolbar at the top of the page, or by navigating to **File > Save and Checkpoint** in the menu bar.\n",
    "\n",
    "The next time you open the notebook, it will look the same as when you last saved it.\n",
    "\n",
    "**Note:** After loading a notebook you will see all the outputs (graphs, computations, etc) from your last session, but you won't be able to use any variables you assigned or functions you defined. You can get the functions and variables back by re-running the cells where they were defined – the easiest way is to **highlight the cell where you left off work, then go to Cell > Run all above** in the menu bar. You can also use this menu to run all cells in the notebook by clicking **Run all**."
   ]
  },
  {
   "cell_type": "markdown",
   "metadata": {},
   "source": [
    "# Part 2: Introduction To Python <a id='section 1'></a>\n",
    "\n",
    "Now that you are comfortable with using Jupyter Notebooks, we also need to learn a programming language to communicate with the computer. \n",
    "\n",
    "**Programming** is giving the computer a set of step-by-step instructions to follow in order to execute a task. It's a lot like writing your own recipe book! In order to communicate with computers, we must talk to them in a way that they can understand us, via a **programming language**. \n",
    "\n",
    "There are many different kinds of programming languages, but we will be using **Python** in this lab because it is concise, simple to read, and applicable in a variety of projects – from web development to mobile apps to data analysis."
   ]
  },
  {
   "cell_type": "code",
   "execution_count": 3,
   "metadata": {},
   "outputs": [],
   "source": [
    "# Just simply run this cell (Don't worry if you do not understand it)\n",
    "from IPython.core.interactiveshell import InteractiveShell\n",
    "InteractiveShell.ast_node_interactivity = \"all\""
   ]
  },
  {
   "cell_type": "markdown",
   "metadata": {},
   "source": [
    "## 2.1 Data types <a id='subsection 1a'></a>\n",
    "Almost all data you will work with broadly falls into two types: numbers and text. \n",
    "\n",
    "**Numerical data** shows up green in code cells and can be positive, negative, or include a decimal."
   ]
  },
  {
   "cell_type": "code",
   "execution_count": 4,
   "metadata": {},
   "outputs": [
    {
     "data": {
      "text/plain": [
       "4"
      ]
     },
     "execution_count": 4,
     "metadata": {},
     "output_type": "execute_result"
    },
    {
     "data": {
      "text/plain": [
       "87623000983"
      ]
     },
     "execution_count": 4,
     "metadata": {},
     "output_type": "execute_result"
    },
    {
     "data": {
      "text/plain": [
       "-667"
      ]
     },
     "execution_count": 4,
     "metadata": {},
     "output_type": "execute_result"
    },
    {
     "data": {
      "text/plain": [
       "3.14159"
      ]
     },
     "execution_count": 4,
     "metadata": {},
     "output_type": "execute_result"
    }
   ],
   "source": [
    "# Numerical data\n",
    "4\n",
    "87623000983\n",
    "-667\n",
    "3.14159"
   ]
  },
  {
   "cell_type": "markdown",
   "metadata": {},
   "source": [
    "**Text data** (also called *strings*) shows up red in code cells. Strings are enclosed in double or single quotes. Note that numbers can appear in strings.\n",
    "\n",
    "**Note:** In Python, the single quotation mark and double quotation mark can both denote the start and end of a string. A string must start and end with the same type of quotation mark. If your string contains either type of quotation mark, you can either \"escape\" this character using a `\\` or simply surround the string with the other type of quotation mark. Keep in mind that apostrophes are equivalent to single quotation marks. In this lab, we are going to use double quotation \"string\" for consistency. "
   ]
  },
  {
   "cell_type": "code",
   "execution_count": 5,
   "metadata": {},
   "outputs": [
    {
     "data": {
      "text/plain": [
       "'a'"
      ]
     },
     "execution_count": 5,
     "metadata": {},
     "output_type": "execute_result"
    },
    {
     "data": {
      "text/plain": [
       "'Hi there!'"
      ]
     },
     "execution_count": 5,
     "metadata": {},
     "output_type": "execute_result"
    },
    {
     "data": {
      "text/plain": [
       "'We hold these truths to be self-evident that all men are created equal.'"
      ]
     },
     "execution_count": 5,
     "metadata": {},
     "output_type": "execute_result"
    },
    {
     "data": {
      "text/plain": [
       "'3.14159'"
      ]
     },
     "execution_count": 5,
     "metadata": {},
     "output_type": "execute_result"
    },
    {
     "data": {
      "text/plain": [
       "'a + b'"
      ]
     },
     "execution_count": 5,
     "metadata": {},
     "output_type": "execute_result"
    },
    {
     "data": {
      "text/plain": [
       "\"The Smiths' house has two floors\""
      ]
     },
     "execution_count": 5,
     "metadata": {},
     "output_type": "execute_result"
    },
    {
     "data": {
      "text/plain": [
       "'I asked him, \"What time it it?\".'"
      ]
     },
     "execution_count": 5,
     "metadata": {},
     "output_type": "execute_result"
    },
    {
     "data": {
      "text/plain": [
       "\"How's the weather today?\""
      ]
     },
     "execution_count": 5,
     "metadata": {},
     "output_type": "execute_result"
    }
   ],
   "source": [
    "# Strings\n",
    "\"a\"\n",
    "'Hi there!'\n",
    "\"We hold these truths to be self-evident that all men are created equal.\"\n",
    "\n",
    "# These are all strings, NOT numerical data\n",
    "\"3.14159\"\n",
    "'a + b'\n",
    "\n",
    "# For this string we need to use double quotes because there is an apostrophe in the sentence \n",
    "\"The Smiths' house has two floors\"\n",
    "\n",
    "# For this string we need to use single quotes because there is a double quotation mark in the sentence \n",
    "'I asked him, \"What time it it?\".'\n",
    "\n",
    "# Here is an example of \"escaping\" a single quotation mark\n",
    "'How\\'s the weather today?'"
   ]
  },
  {
   "cell_type": "markdown",
   "metadata": {},
   "source": [
    "## 2.2  Variables <a id='subsection 1b'></a>\n",
    "Variable is a named place in the computer's memory where a programmer can store data and later retrieve the data using the variable name. We can give variables values using an **assignment statement**. We can retrieve the data anytime using the variable name. This serves a purpose of saving our itermediate result to that variable. "
   ]
  },
  {
   "cell_type": "code",
   "execution_count": 6,
   "metadata": {},
   "outputs": [],
   "source": [
    "# Assign numerial values to variable\n",
    "income = 10\n",
    "tax = 5.0"
   ]
  },
  {
   "cell_type": "markdown",
   "metadata": {},
   "source": [
    "The assignment statement has three parts. For example, look at the first line in above cell. On the left is the *variable name* `income`. On the right is the *value* 10. The *equals sign* in the middle tells the computer to assign the value to the name. You'll notice that when you run the cell with the assignment, it doesn't print anything. But, if we try to access `income` and `tax` again in the future, they will have the value we assigned them."
   ]
  },
  {
   "cell_type": "code",
   "execution_count": 7,
   "metadata": {},
   "outputs": [
    {
     "name": "stdout",
     "output_type": "stream",
     "text": [
      "5.0\n"
     ]
    }
   ],
   "source": [
    "# calculate and print the value of aftertaxincome\n",
    "after_tax_income = income - tax\n",
    "\n",
    "print(after_tax_income)"
   ]
  },
  {
   "cell_type": "markdown",
   "metadata": {},
   "source": [
    "We can also assign strings to variables:"
   ]
  },
  {
   "cell_type": "code",
   "execution_count": 8,
   "metadata": {},
   "outputs": [
    {
     "name": "stdout",
     "output_type": "stream",
     "text": [
      "Joshua Hug\n"
     ]
    }
   ],
   "source": [
    "# Assign a string to variable\n",
    "first_name = \"Joshua\"\n",
    "last_name = \"Hug\"\n",
    "name = first_name + \" \" + last_name\n",
    "print(name)"
   ]
  },
  {
   "cell_type": "markdown",
   "metadata": {},
   "source": [
    "## 2.3 Python  List <a id='subsection 1c'></a>\n",
    "\n",
    "In the previous section, we introduced *variables* which can be used to store data. What if we want to store more than one value in a variable? In Python, a `list` is a data structure which contains multiple data items. Lists in Python can be created by just placing a sequence of data inside square brackets `[]`. The data saved in the list must be seperated by commas. The cell below shows how to create a list of strings in Python. As we mentioned above, we can give a name to any object in Python, here we give a name to the list we created as well. \n",
    "\n",
    "**TASK:** create a list of name strings and assign it to the variable `name_list`"
   ]
  },
  {
   "cell_type": "code",
   "execution_count": 9,
   "metadata": {},
   "outputs": [
    {
     "name": "stdout",
     "output_type": "stream",
     "text": [
      "['May', 'Amy', 'Andy', 'Tom']\n"
     ]
    }
   ],
   "source": [
    "# create a list of name strings and assign it to the variable name_list\n",
    "name_list = [\"May\", \"Amy\", \"Andy\", \"Tom\"]\n",
    "print(name_list)"
   ]
  },
  {
   "cell_type": "markdown",
   "metadata": {},
   "source": [
    "## 2.4 Functions <a id='subsection 1d'></a>\n",
    "A function is a procedure which works a lot like a machine: it takes an input, does something to it, and produces an output. The input is put between brackets and can also be called the _argument_ or _parameter_. Functions can have multiple arguments. Defining functions can be helpful when you find yourself needing to do the same procedure multiple times with slightly different inputs."
   ]
  },
  {
   "cell_type": "code",
   "execution_count": 10,
   "metadata": {},
   "outputs": [],
   "source": [
    "# the function calculates after tax income\n",
    "def after_tax_calc(income, tax):\n",
    "    after_tax_income = income - tax\n",
    "    return after_tax_income"
   ]
  },
  {
   "cell_type": "markdown",
   "metadata": {},
   "source": [
    "Using a defined function is known as _calling_ a function. To call a function, simply write the name of the function with your input variable in brackets (argument).\n",
    "\n",
    "\n",
    "\n",
    "**TASK:** Give input values to the function above. Here, we give income a value of 10 and tax a value of 5. "
   ]
  },
  {
   "cell_type": "code",
   "execution_count": 11,
   "metadata": {},
   "outputs": [
    {
     "data": {
      "text/plain": [
       "5"
      ]
     },
     "execution_count": 11,
     "metadata": {},
     "output_type": "execute_result"
    }
   ],
   "source": [
    "# Calling the function below \n",
    "after_tax_calc(income = 10, tax = 5)"
   ]
  },
  {
   "cell_type": "markdown",
   "metadata": {},
   "source": [
    "## 2.5 Importing Python Packages <a id='subsection 1e'></a>\n",
    "\n",
    "\n",
    "Most programming involves work that is very similar to work that has been done before. Since writing code is time-consuming, it's good to rely on others' published code when you can.  Rather than copy-pasting, many programming languages allows us to **import packages**. A module is a file with Python code that has defined variables and functions. A Python package is a collection of modules. By importing packages, we are able to use previously written functions in our own code.\n",
    "\n",
    "Run the cell below to import all the packages that we'll use later to conduct our analysis."
   ]
  },
  {
   "cell_type": "code",
   "execution_count": 12,
   "metadata": {},
   "outputs": [],
   "source": [
    "# Please run this cell to import the following modules \n",
    "\n",
    "from datascience import *\n",
    "from utils import *"
   ]
  },
  {
   "cell_type": "markdown",
   "metadata": {},
   "source": [
    "**Note:** Most of our data cleaning process will be done by using the funcitons of `Tables` under the module `datascience`. We will learn how to use functions of `Tables` in the next session. However, the datascience module does not have methods that are used to deal with missing values. \n",
    "\n",
    "For this lab, we wrote a module called **Utils** which contains helper functions that are handy to use to deal with missing values, extract substrings, and convert descriptive answers to numerical values, etc. For this lab purpose, your task is to learn how to apply those functions to clean the survey data. You do not have to know exactly how those funtions are written. "
   ]
  },
  {
   "cell_type": "markdown",
   "metadata": {},
   "source": [
    "# Part 3: Table and Table operations <a id='section 2'></a>\n",
    "\n",
    "### `Table`\n",
    "Nowthat we have learned the basic knowledge of Python, we can use Python to analyze our dataset. But before getting into that, we need to learn a useful structure that is used to store our data in a clean and organized way.\n",
    "\n",
    "First, let's understand what `Table` are. `Table` are a way of representing tabular data that are part of the `datascience` package that we imported earlier. A `Table` can be viewed in two ways:\n",
    "* a sequence of named columns that each describe a single attribute of all entries in a data set, or\n",
    "* a sequence of rows that each contain all information about a single individual in a data set.\n",
    "\n",
    "\n",
    "### 3.1 Create Tables <a id='subsection 2a'></a>\n",
    "There are two general ways to create a table:\n",
    "1. We can import data from another file and display it as a Table using the `Table().read_table(\"file_name\")` method. We will talk more on this when we try to import our survey dataset below. \n",
    "\n",
    "2. We can also create a table from scratch. For example, let's say we have three lists, one with a list of different flavors of cake, one with a list of their prices, and another one with the rating for each flavor of the cake. Then, we can create a new `Table` with each of these lists as columns with the `.with_columns()` method: \n",
    "\n",
    "Run the cell below to create the `cake_table` table. "
   ]
  },
  {
   "cell_type": "code",
   "execution_count": 13,
   "metadata": {
    "scrolled": true
   },
   "outputs": [
    {
     "data": {
      "text/html": [
       "<table border=\"1\" class=\"dataframe\">\n",
       "    <thead>\n",
       "        <tr>\n",
       "            <th>Cake</th> <th>Price ($)</th> <th>Cake Rating(out of 5)</th>\n",
       "        </tr>\n",
       "    </thead>\n",
       "    <tbody>\n",
       "        <tr>\n",
       "            <td>Chocolate Cake </td> <td>4.5      </td> <td>4                    </td>\n",
       "        </tr>\n",
       "        <tr>\n",
       "            <td>Strawberry Cake</td> <td>6.5      </td> <td>3                    </td>\n",
       "        </tr>\n",
       "        <tr>\n",
       "            <td>Vanilla  Cake  </td> <td>3.5      </td> <td>5                    </td>\n",
       "        </tr>\n",
       "    </tbody>\n",
       "</table>"
      ],
      "text/plain": [
       "Cake            | Price ($) | Cake Rating(out of 5)\n",
       "Chocolate Cake  | 4.5       | 4\n",
       "Strawberry Cake | 6.5       | 3\n",
       "Vanilla  Cake   | 3.5       | 5"
      ]
     },
     "execution_count": 13,
     "metadata": {},
     "output_type": "execute_result"
    }
   ],
   "source": [
    "# create a Table to store the cake information\n",
    "cake_flavors = [\"Chocolate Cake\", \"Strawberry Cake\", \"Vanilla  Cake\"]\n",
    "cake_prices = [4.5, 6.5, 3.5]\n",
    "cake_rating = [4, 3, 5]\n",
    "cake_table = Table().with_columns(\"Cake\", cake_flavors,\n",
    "                                  \"Price ($)\", cake_prices,\n",
    "                                  \"Cake Rating(out of 5)\", cake_rating)\n",
    "cake_table"
   ]
  },
  {
   "cell_type": "markdown",
   "metadata": {},
   "source": [
    "Now that we have created our own `Table`, you want to access specific rows, columns, or cells from the data. That's where `Table` methods come in handy! "
   ]
  },
  {
   "cell_type": "markdown",
   "metadata": {},
   "source": [
    "### 3.2 Table methods <a id='subsection 2b'></a>\n",
    "`Table`s in the datascience module have functions associated with them, we call those functions **methods**. (The terms \"method\" and \"function\" are technically not the same thing.) The statement `from datascience import *` imports all the methods included in the datascience package. A `Table` method is just like a function, but it must operate on a `Table`. An example call may look like:\n",
    "\n",
    "`tbl.method(arguments)` \n",
    "\n",
    "\n",
    "\n",
    "**TASK:** Display the information of Chocolate Cake only, i.e display the first row of the `cake_table`. \n",
    "\n",
    "**Hint:** `tbl.take([row_indices])` takes in a list of row indices and return the rows associated with those indices.\n",
    "\n",
    "**Note:** The 1st row of a Table in python has index 0, the second row has index 1, and so on. If we want to access the first row of a Table we need to call `tbl.take(0)`. "
   ]
  },
  {
   "cell_type": "code",
   "execution_count": 14,
   "metadata": {},
   "outputs": [
    {
     "data": {
      "text/html": [
       "<table border=\"1\" class=\"dataframe\">\n",
       "    <thead>\n",
       "        <tr>\n",
       "            <th>Cake</th> <th>Price ($)</th> <th>Cake Rating(out of 5)</th>\n",
       "        </tr>\n",
       "    </thead>\n",
       "    <tbody>\n",
       "        <tr>\n",
       "            <td>Chocolate Cake</td> <td>4.5      </td> <td>4                    </td>\n",
       "        </tr>\n",
       "    </tbody>\n",
       "</table>"
      ],
      "text/plain": [
       "Cake           | Price ($) | Cake Rating(out of 5)\n",
       "Chocolate Cake | 4.5       | 4"
      ]
     },
     "execution_count": 14,
     "metadata": {},
     "output_type": "execute_result"
    }
   ],
   "source": [
    "# Takes rows with indices 0 and 2 (the 1st, 3rd rows of the table) \n",
    "cake_table.take(0) "
   ]
  },
  {
   "cell_type": "markdown",
   "metadata": {},
   "source": [
    "Here, we only briefly talked about `Table` methods. In the following sections, we are going to learn how to use `Table` methods to clean and analyze our data. \n",
    "\n",
    "**Note:**\n",
    "We understand that it is a little bit hard to understand all of these in one lab for most of the programming beginners. We will be walking you through the data cleaning and wrangling process step by step to make it as easy as possible.\n",
    "\n",
    "Recommended Reading:\n",
    " * [Introduction to tables](https://www.inferentialthinking.com/chapters/03/4/Introduction_to_Tables)\n",
    " * [Data 8 online Textbook: Chapter 3](http://www.inferentialthinking.com/chapters/03/programming-in-python.html)\n",
    " * [datascience.tables documentation](http://data8.org/datascience/tables.html#tables-overview)\n",
    " \n",
    "After this lab, if you still have questions, try reading the `datascience` package documentation for more explanations. For now, let's clean some data!"
   ]
  },
  {
   "cell_type": "markdown",
   "metadata": {},
   "source": [
    "# Part 4: Acquiring and Cleaning Hill Thesis Survey Data <a id='section 3'></a>\n",
    "\n",
    "\n",
    "### Data Context \n",
    "\n",
    "In this section, you'll be working with the data collected from the results of the Hill Thesis Survey. The purpose of analyzing the survey results is to explore the voting patterns of undergraduate students at University of California Berkeley. This research project was conducted by Hannah Hill, a senior Peace and Conflict Studies student here at UC Berkeley. By analyzing the survey results, we are trying to understand youth voter turnout.\n",
    "\n",
    "\n",
    "## 4.1 Import and display the data <a id='subsection 3a'></a>\n",
    "\n",
    "The survey data is saved in a [csv](https://en.wikipedia.org/wiki/Comma-separated_values) file. The `datascience` package has `read_table` method which allows us to read in the data and display it as a table. In general, to import data from a `.csv` file, we write `Table.read_table(\"file_name\")`.\n",
    "\n",
    "**TASK:** Run the cell below to import the csv file `surveydata.csv` which stors our data and display it as a table, and name the table `raw_data`."
   ]
  },
  {
   "cell_type": "code",
   "execution_count": 15,
   "metadata": {},
   "outputs": [],
   "source": [
    "raw_data = Table.read_table(\"surveydata.csv\")"
   ]
  },
  {
   "cell_type": "markdown",
   "metadata": {},
   "source": [
    "Let's examine the table `raw_data` to see what data it contains. \n",
    "\n",
    "Calling the `tbl.show(n)` method displays the first a couple of rows of the table. For example,  `raw_data.show(5)` displays the first 5 rows of the table `raw_data`. Additionally, make sure not to call `.show(n)` without an argument, as this will crash your notebook!\n",
    "\n",
    "**TASK:** Display the top five rows of the `raw_data` table. "
   ]
  },
  {
   "cell_type": "code",
   "execution_count": 16,
   "metadata": {
    "scrolled": true
   },
   "outputs": [
    {
     "data": {
      "text/html": [
       "<table border=\"1\" class=\"dataframe\">\n",
       "    <thead>\n",
       "        <tr>\n",
       "            <th>StartDate</th> <th>EndDate</th> <th>Status</th> <th>IPAddress</th> <th>Progress</th> <th>Duration (in seconds)</th> <th>Finished</th> <th>RecordedDate</th> <th>ResponseId</th> <th>RecipientLastName</th> <th>RecipientFirstName</th> <th>RecipientEmail</th> <th>ExternalReference</th> <th>LocationLatitude</th> <th>LocationLongitude</th> <th>DistributionChannel</th> <th>UserLanguage</th> <th>Q1</th> <th>Q3</th> <th>Q4</th> <th>Q5</th> <th>Q6</th> <th>Q7</th> <th>Q8</th> <th>Q8_9_TEXT</th> <th>Q9</th> <th>Q10</th> <th>Q11</th> <th>Q11_4_TEXT</th> <th>Q12</th> <th>Q12_7_TEXT</th> <th>Q13</th> <th>Q14_1</th> <th>Q15</th> <th>Q56</th> <th>Q56_8_TEXT</th> <th>Q16</th> <th>Q17</th> <th>Q18</th> <th>Q19</th> <th>Q20</th> <th>Q20_7_TEXT</th> <th>Q21</th> <th>Q23</th> <th>Q23_5_TEXT</th> <th>Q24</th> <th>Q25</th> <th>Q25_7_TEXT</th> <th>Q26_1</th> <th>Q26_2</th> <th>Q27</th> <th>Q27_9_TEXT</th> <th>Q28</th> <th>Q29_1</th> <th>Q30</th> <th>Q31</th> <th>Q32</th> <th>Q32_1_TEXT</th> <th>Q32_2_TEXT</th> <th>Q32_3_TEXT</th> <th>Q33</th> <th>Q33_1_TEXT</th> <th>Q55</th> <th>Q34_1</th> <th>Q34_2</th> <th>Q34_3</th> <th>Q34_7</th> <th>Q34_6</th> <th>Q34_6_TEXT</th> <th>Q35</th> <th>Q36</th> <th>Q37</th> <th>Q39_1</th> <th>Q39_2</th> <th>Q39_3</th> <th>Q39_4</th> <th>Q39_5</th> <th>Q40_1</th> <th>Q40_2</th> <th>Q40_3</th> <th>Q41_23</th> <th>Q42_1</th> <th>Q42_2</th> <th>Q42_3</th> <th>Q43_1</th> <th>Q43_2</th> <th>Q43_3</th> <th>Q43_4</th> <th>Q43_5</th> <th>Q43_6</th> <th>Q43_7</th> <th>Q43_8</th> <th>Q43_9</th> <th>Q43_10</th> <th>Q43_11</th> <th>Q43_11_TEXT</th> <th>Q44_0_GROUP</th> <th>Q44_0_1_RANK</th> <th>Q44_0_15_RANK</th> <th>Q44_0_4_RANK</th> <th>Q44_0_5_RANK</th> <th>Q44_0_6_RANK</th> <th>Q44_0_9_RANK</th> <th>Q44_0_10_RANK</th> <th>Q44_0_11_RANK</th> <th>Q44_0_12_RANK</th> <th>Q44_0_13_RANK</th> <th>Q44_0_14_RANK</th> <th>Q44_0_16_RANK</th> <th>Q44_0_8_RANK</th> <th>Q44_8_TEXT</th> <th>Q45</th> <th>Q45_1_TEXT</th> <th>Q45_2_TEXT</th> <th>Q45_3_TEXT</th> <th>Q46</th> <th>Q46_1_TEXT</th> <th>Q46_2_TEXT</th> <th>Q46_3_TEXT</th> <th>Q47_1</th> <th>Q47_2</th> <th>Q48_1</th> <th>Q48_2</th> <th>Q48_3</th> <th>Q48_4</th> <th>Q49</th> <th>Q50</th> <th>Q50_1_TEXT</th> <th>Q50_2_TEXT</th> <th>Q51</th> <th>Q52</th> <th>Q52_1_TEXT</th>\n",
       "        </tr>\n",
       "    </thead>\n",
       "    <tbody>\n",
       "        <tr>\n",
       "            <td>Start Date                                          </td> <td>End Date                                          </td> <td>Response Type        </td> <td>IP Address              </td> <td>Progress               </td> <td>Duration (in seconds)  </td> <td>Finished               </td> <td>Recorded Date                                          </td> <td>Response ID             </td> <td>Recipient Last Name             </td> <td>Recipient First Name             </td> <td>Recipient Email              </td> <td>External Data Reference             </td> <td>Location Latitude              </td> <td>Location Longitude              </td> <td>Distribution Channel              </td> <td>User Language              </td> <td>Welcome! The purpose of this research project is to expl ...</td> <td>Which college(s) are you enrolled in?                       </td> <td>Are you a transfer student?</td> <td>Please select the group(s) that best apply to your major(s).</td> <td>Are you a California resident?</td> <td>Which gender do you best identify with?</td> <td>Check the box(es) of the race/ethnicity that you best id ...</td> <td>Check the box(es) of the race/ethnicity that you best id ...</td> <td>What is your age?   </td> <td>Did you attend any rallies for any presidential candidat ...</td> <td>How did you register to vote in 2016? - Selected Choice</td> <td>How did you register to vote in 2016? - Other - Text</td> <td>Why did you not register for the 2016 presidential elect ...</td> <td>Why did you not register for the 2016 presidential elect ...</td> <td>Where did you register to vote in the 2016 presidential  ...</td> <td>How would you describe the registration process for the  ...</td> <td>Did you vote in the 2016 presidential elections?</td> <td>Why did you not vote in the 2016 presidential elections? ...</td> <td>Why did you not vote in the 2016 presidential elections? ...</td> <td>Which of the following describes how you voted in the 20 ...</td> <td>Which presidential candidate did you vote for?</td> <td>If you had class during the presidential elections on Tu ...</td> <td>If you held a job on Tuesday November 8th, 2016, did you ...</td> <td>How did the results of the 2016 presidential election ma ...</td> <td>How did the results of the 2016 presidential election ma ...</td> <td>Have those emotions influenced you to vote in the 2018 m ...</td> <td>What do you think is the most effective way to make a di ...</td> <td>What do you think is the most effective way to make a di ...</td> <td>How often do you volunteer?</td> <td>What do you think is the most effective way to make a di ...</td> <td>What do you think is the most effective way to make a di ...</td> <td>Please choose the answer that best applies to you. - How ...</td> <td>Please choose the answer that best applies to you. - How ...</td> <td>If you registered or re-registered to vote for the 2018  ...</td> <td>If you registered or re-registered to vote for the 2018  ...</td> <td>Where did you register to vote in for the 2018 Midterm E ...</td> <td>If you registered for the first time in 2018 or re-regis ...</td> <td>Did you vote in the 2018 midterm elections?</td> <td>Did you check to see if your vote was officially counted?</td> <td>Which method of voting did you use and why? - Selected C ...</td> <td>Which method of voting did you use and why? - Polling st ...</td> <td>Which method of voting did you use and why? - Absentee / ...</td> <td>Which method of voting did you use and why? - Provisiona ...</td> <td>Was there a recent significant event that encouraged you ...</td> <td>Was there a recent significant event that encouraged you ...</td> <td>Which candidates did you vote for in the 2018 midterm el ...</td> <td>What would influence you to vote more? Rank the followin ...</td> <td>What would influence you to vote more? Rank the followin ...</td> <td>What would influence you to vote more? Rank the followin ...</td> <td>What would influence you to vote more? Rank the followin ...</td> <td>What would influence you to vote more? Rank the followin ...</td> <td>What would influence you to vote more? Rank the followin ...</td> <td>Did your major's department reach out to you about votin ...</td> <td>If you had class during the midterm elections on Novembe ...</td> <td>If you had work during the midterm elections on November ...</td> <td>Please select the answer that best fits your response to ...</td> <td>Please select the answer that best fits your response to ...</td> <td>Please select the answer that best fits your response to ...</td> <td>Please select the answer that best fits your response to ...</td> <td>Please select the answer that best fits your response to ...</td> <td>Please select the answer that best fits your response to ...</td> <td>Please select the answer that best fits your response to ...</td> <td>Please select the answer that best fits your response to ...</td> <td>Drag the cursor to the place on the political scale that ...</td> <td>Please select the option that best applies to you. - How ...</td> <td>Please select the option that best applies to you. - How ...</td> <td>Please select the option that best applies to you. - How ...</td> <td>The following is a list of political issues within the U ...</td> <td>The following is a list of political issues within the U ...</td> <td>The following is a list of political issues within the U ...</td> <td>The following is a list of political issues within the U ...</td> <td>The following is a list of political issues within the U ...</td> <td>The following is a list of political issues within the U ...</td> <td>The following is a list of political issues within the U ...</td> <td>The following is a list of political issues within the U ...</td> <td>The following is a list of political issues within the U ...</td> <td>The following is a list of political issues within the U ...</td> <td>The following is a list of political issues within the U ...</td> <td>The following is a list of political issues within the U ...</td> <td>Rank the following with 1 being the most used on where y ...</td> <td>Rank the following with 1 being the most used on where y ...</td> <td>Rank the following with 1 being the most used on where y ...</td> <td>Rank the following with 1 being the most used on where y ...</td> <td>Rank the following with 1 being the most used on where y ...</td> <td>Rank the following with 1 being the most used on where y ...</td> <td>Rank the following with 1 being the most used on where y ...</td> <td>Rank the following with 1 being the most used on where y ...</td> <td>Rank the following with 1 being the most used on where y ...</td> <td>Rank the following with 1 being the most used on where y ...</td> <td>Rank the following with 1 being the most used on where y ...</td> <td>Rank the following with 1 being the most used on where y ...</td> <td>Rank the following with 1 being the most used on where y ...</td> <td>Rank the following with 1 being the most used on where y ...</td> <td>Rank the following with 1 being the most used on where y ...</td> <td>Do you support the current president? Why or why not? -  ...</td> <td>Do you support the current president? Why or why not? -  ...</td> <td>Do you support the current president? Why or why not? -  ...</td> <td>Do you support the current president? Why or why not? -  ...</td> <td>Do you support the current administration's policies and ...</td> <td>Do you support the current administration's policies and ...</td> <td>Do you support the current administration's policies and ...</td> <td>Do you support the current administration's policies and ...</td> <td>Select the answers that best fit your level of knowledge ...</td> <td>Select the answers that best fit your level of knowledge ...</td> <td>Select the answers that best fit your perspective on vot ...</td> <td>Select the answers that best fit your perspective on vot ...</td> <td>Select the answers that best fit your perspective on vot ...</td> <td>Select the answers that best fit your perspective on vot ...</td> <td>Do you think voting in a presidential election is more i ...</td> <td>Have you taken part in a protest, march, or demonstratio ...</td> <td>Have you taken part in a protest, march, or demonstratio ...</td> <td>Have you taken part in a protest, march, or demonstratio ...</td> <td>Do you think that the Berkeley campus should make Electi ...</td> <td>Is there anything else that you would like to add? - Sel ...</td> <td>Is there anything else that you would like to add? - Yes ...</td>\n",
       "        </tr>\n",
       "        <tr>\n",
       "            <td>{\"ImportId\":\"startDate\",\"timeZone\":\"America/Denver\"}</td> <td>{\"ImportId\":\"endDate\",\"timeZone\":\"America/Denver\"}</td> <td>{\"ImportId\":\"status\"}</td> <td>{\"ImportId\":\"ipAddress\"}</td> <td>{\"ImportId\":\"progress\"}</td> <td>{\"ImportId\":\"duration\"}</td> <td>{\"ImportId\":\"finished\"}</td> <td>{\"ImportId\":\"recordedDate\",\"timeZone\":\"America/Denver\"}</td> <td>{\"ImportId\":\"_recordId\"}</td> <td>{\"ImportId\":\"recipientLastName\"}</td> <td>{\"ImportId\":\"recipientFirstName\"}</td> <td>{\"ImportId\":\"recipientEmail\"}</td> <td>{\"ImportId\":\"externalDataReference\"}</td> <td>{\"ImportId\":\"locationLatitude\"}</td> <td>{\"ImportId\":\"locationLongitude\"}</td> <td>{\"ImportId\":\"distributionChannel\"}</td> <td>{\"ImportId\":\"userLanguage\"}</td> <td>{\"ImportId\":\"QID80\"}                                        </td> <td>{\"ImportId\":\"QID2\"}                                         </td> <td>{\"ImportId\":\"QID3\"}        </td> <td>{\"ImportId\":\"QID4\"}                                         </td> <td>{\"ImportId\":\"QID5\"}           </td> <td>{\"ImportId\":\"QID6\"}                    </td> <td>{\"ImportId\":\"QID7\"}                                         </td> <td>{\"ImportId\":\"QID7_9_TEXT\"}                                  </td> <td>{\"ImportId\":\"QID79\"}</td> <td>{\"ImportId\":\"QID67\"}                                        </td> <td>{\"ImportId\":\"QID71\"}                                   </td> <td>{\"ImportId\":\"QID71_4_TEXT\"}                         </td> <td>{\"ImportId\":\"QID72\"}                                        </td> <td>{\"ImportId\":\"QID72_7_TEXT\"}                                 </td> <td>{\"ImportId\":\"QID75\"}                                        </td> <td>{\"ImportId\":\"QID76_1\"}                                      </td> <td>{\"ImportId\":\"QID68\"}                            </td> <td>{\"ImportId\":\"QID102\"}                                       </td> <td>{\"ImportId\":\"QID102_8_TEXT\"}                                </td> <td>{\"ImportId\":\"QID77\"}                                        </td> <td>{\"ImportId\":\"QID78\"}                          </td> <td>{\"ImportId\":\"QID73\"}                                        </td> <td>{\"ImportId\":\"QID74\"}                                        </td> <td>{\"ImportId\":\"QID70\"}                                        </td> <td>{\"ImportId\":\"QID70_7_TEXT\"}                                 </td> <td>{\"ImportId\":\"QID69\"}                                        </td> <td>{\"ImportId\":\"QID88\"}                                        </td> <td>{\"ImportId\":\"QID88_5_TEXT\"}                                 </td> <td>{\"ImportId\":\"QID89\"}       </td> <td>{\"ImportId\":\"QID93\"}                                        </td> <td>{\"ImportId\":\"QID93_7_TEXT\"}                                 </td> <td>{\"ImportId\":\"QID90_1\"}                                      </td> <td>{\"ImportId\":\"QID90_2\"}                                      </td> <td>{\"ImportId\":\"QID24\"}                                        </td> <td>{\"ImportId\":\"QID24_9_TEXT\"}                                 </td> <td>{\"ImportId\":\"QID98\"}                                        </td> <td>{\"ImportId\":\"QID25_1\"}                                      </td> <td>{\"ImportId\":\"QID86\"}                       </td> <td>{\"ImportId\":\"QID95\"}                                     </td> <td>{\"ImportId\":\"QID29\"}                                        </td> <td>{\"ImportId\":\"QID29_1_TEXT\"}                                 </td> <td>{\"ImportId\":\"QID29_2_TEXT\"}                                 </td> <td>{\"ImportId\":\"QID29_3_TEXT\"}                                 </td> <td>{\"ImportId\":\"QID30\"}                                        </td> <td>{\"ImportId\":\"QID30_1_TEXT\"}                                 </td> <td>{\"ImportId\":\"QID101\"}                                       </td> <td>{\"ImportId\":\"QID87_1\"}                                      </td> <td>{\"ImportId\":\"QID87_2\"}                                      </td> <td>{\"ImportId\":\"QID87_3\"}                                      </td> <td>{\"ImportId\":\"QID87_4\"}                                      </td> <td>{\"ImportId\":\"QID87_5\"}                                      </td> <td>{\"ImportId\":\"QID87_6_TEXT\"}                                 </td> <td>{\"ImportId\":\"QID26\"}                                        </td> <td>{\"ImportId\":\"QID27\"}                                        </td> <td>{\"ImportId\":\"QID28\"}                                        </td> <td>{\"ImportId\":\"QID32_9\"}                                      </td> <td>{\"ImportId\":\"QID32_1\"}                                      </td> <td>{\"ImportId\":\"QID32_2\"}                                      </td> <td>{\"ImportId\":\"QID32_6\"}                                      </td> <td>{\"ImportId\":\"QID32_7\"}                                      </td> <td>{\"ImportId\":\"QID84_1\"}                                      </td> <td>{\"ImportId\":\"QID84_2\"}                                      </td> <td>{\"ImportId\":\"QID84_3\"}                                      </td> <td>{\"ImportId\":\"QID35_23\"}                                     </td> <td>{\"ImportId\":\"QID37_1\"}                                      </td> <td>{\"ImportId\":\"QID37_2\"}                                      </td> <td>{\"ImportId\":\"QID37_3\"}                                      </td> <td>{\"ImportId\":\"QID39_1\"}                                      </td> <td>{\"ImportId\":\"QID39_2\"}                                      </td> <td>{\"ImportId\":\"QID39_3\"}                                      </td> <td>{\"ImportId\":\"QID39_4\"}                                      </td> <td>{\"ImportId\":\"QID39_5\"}                                      </td> <td>{\"ImportId\":\"QID39_10\"}                                     </td> <td>{\"ImportId\":\"QID39_6\"}                                      </td> <td>{\"ImportId\":\"QID39_7\"}                                      </td> <td>{\"ImportId\":\"QID39_12\"}                                     </td> <td>{\"ImportId\":\"QID39_13\"}                                     </td> <td>{\"ImportId\":\"QID39_8\"}                                      </td> <td>{\"ImportId\":\"QID39_8_TEXT\"}                                 </td> <td>{\"ImportId\":\"QID40_0_GROUP\"}                                </td> <td>{\"ImportId\":\"QID40_G0_1_RANK\"}                              </td> <td>{\"ImportId\":\"QID40_G0_15_RANK\"}                             </td> <td>{\"ImportId\":\"QID40_G0_4_RANK\"}                              </td> <td>{\"ImportId\":\"QID40_G0_5_RANK\"}                              </td> <td>{\"ImportId\":\"QID40_G0_6_RANK\"}                              </td> <td>{\"ImportId\":\"QID40_G0_9_RANK\"}                              </td> <td>{\"ImportId\":\"QID40_G0_10_RANK\"}                             </td> <td>{\"ImportId\":\"QID40_G0_11_RANK\"}                             </td> <td>{\"ImportId\":\"QID40_G0_12_RANK\"}                             </td> <td>{\"ImportId\":\"QID40_G0_13_RANK\"}                             </td> <td>{\"ImportId\":\"QID40_G0_14_RANK\"}                             </td> <td>{\"ImportId\":\"QID40_G0_16_RANK\"}                             </td> <td>{\"ImportId\":\"QID40_G0_8_RANK\"}                              </td> <td>{\"ImportId\":\"QID40_8_TEXT\"}                                 </td> <td>{\"ImportId\":\"QID44\"}                                        </td> <td>{\"ImportId\":\"QID44_1_TEXT\"}                                 </td> <td>{\"ImportId\":\"QID44_2_TEXT\"}                                 </td> <td>{\"ImportId\":\"QID44_3_TEXT\"}                                 </td> <td>{\"ImportId\":\"QID45\"}                                        </td> <td>{\"ImportId\":\"QID45_1_TEXT\"}                                 </td> <td>{\"ImportId\":\"QID45_2_TEXT\"}                                 </td> <td>{\"ImportId\":\"QID45_3_TEXT\"}                                 </td> <td>{\"ImportId\":\"QID46_1\"}                                      </td> <td>{\"ImportId\":\"QID46_6\"}                                      </td> <td>{\"ImportId\":\"QID96_7\"}                                      </td> <td>{\"ImportId\":\"QID96_8\"}                                      </td> <td>{\"ImportId\":\"QID96_9\"}                                      </td> <td>{\"ImportId\":\"QID96_10\"}                                     </td> <td>{\"ImportId\":\"QID99\"}                                        </td> <td>{\"ImportId\":\"QID51\"}                                        </td> <td>{\"ImportId\":\"QID51_1_TEXT\"}                                 </td> <td>{\"ImportId\":\"QID51_2_TEXT\"}                                 </td> <td>{\"ImportId\":\"QID52\"}                                        </td> <td>{\"ImportId\":\"QID85\"}                                        </td> <td>{\"ImportId\":\"QID85_1_TEXT\"}                                 </td>\n",
       "        </tr>\n",
       "        <tr>\n",
       "            <td>2018-11-13 13:37:27                                 </td> <td>2018-11-13 13:48:30                               </td> <td>IP Address           </td> <td>136.152.143.179         </td> <td>100                    </td> <td>663                    </td> <td>True                   </td> <td>2018-11-13 13:48:31                                    </td> <td>R_xA58gXXjXE5t4vD       </td> <td>nan                             </td> <td>nan                              </td> <td>nan                          </td> <td>nan                                 </td> <td>37.8737945556640625            </td> <td>-122.2548980712890625           </td> <td>anonymous                         </td> <td>EN                         </td> <td>I consent                                                   </td> <td>College of Letters and Science (includes undeclared stud ...</td> <td>No                         </td> <td>Social Sciences                                             </td> <td>Yes                           </td> <td>Woman                                  </td> <td>White                                                       </td> <td>nan                                                         </td> <td>21                  </td> <td>No                                                          </td> <td>In person                                              </td> <td>nan                                                 </td> <td>nan                                                         </td> <td>nan                                                         </td> <td>Another California county                                   </td> <td>3                                                           </td> <td>Yes                                             </td> <td>nan                                                         </td> <td>nan                                                         </td> <td>Polling station                                             </td> <td>Trump                                         </td> <td>No                                                          </td> <td>nan                                                         </td> <td>Happy                                                       </td> <td>nan                                                         </td> <td>Yes                                                         </td> <td>Volunteering                                                </td> <td>nan                                                         </td> <td>1-3 hours per week         </td> <td>Voting                                                      </td> <td>nan                                                         </td> <td>Occasionally                                                </td> <td>Never                                                       </td> <td>I was already registered and did not re-register.           </td> <td>nan                                                         </td> <td>nan                                                         </td> <td>nan                                                         </td> <td>Yes                                        </td> <td>No; I did not check                                      </td> <td>Absentee / mail  ballot                                     </td> <td>nan                                                         </td> <td>I was at school and my polling station was down in south ...</td> <td>nan                                                         </td> <td>No                                                          </td> <td>nan                                                         </td> <td>Mostly Republicans                                          </td> <td>4                                                           </td> <td>3                                                           </td> <td>1                                                           </td> <td>2                                                           </td> <td>nan                                                         </td> <td>nan                                                         </td> <td>Yes                                                         </td> <td>No                                                          </td> <td>I did not have work that day                                </td> <td>Neutral                                                     </td> <td>Somewhat agree                                              </td> <td>Strongly disagree                                           </td> <td>Neutral                                                     </td> <td>Somewhat disagree                                           </td> <td>Strongly disagree                                           </td> <td>Strongly disagree                                           </td> <td>Strongly disagree                                           </td> <td>7                                                           </td> <td>Once or twice a year                                        </td> <td>Every day                                                   </td> <td>Every day                                                   </td> <td>Very important                                              </td> <td>Very important                                              </td> <td>Very important                                              </td> <td>Very important                                              </td> <td>Very important                                              </td> <td>Very important                                              </td> <td>Very important                                              </td> <td>Very important                                              </td> <td>Very important                                              </td> <td>Very important                                              </td> <td>nan                                                         </td> <td>nan                                                         </td> <td>Fox News,New York Times,CBS,Twitter,CNN                     </td> <td>nan                                                         </td> <td>4                                                           </td> <td>2                                                           </td> <td>5                                                           </td> <td>1                                                           </td> <td>nan                                                         </td> <td>3                                                           </td> <td>nan                                                         </td> <td>nan                                                         </td> <td>nan                                                         </td> <td>nan                                                         </td> <td>nan                                                         </td> <td>nan                                                         </td> <td>nan                                                         </td> <td>Sometimes because:                                          </td> <td>nan                                                         </td> <td>He is doing what he said he would be needs to chill with ...</td> <td>nan                                                         </td> <td>No opinion                                                  </td> <td>nan                                                         </td> <td>nan                                                         </td> <td>nan                                                         </td> <td>Moderately knowledgeable                                    </td> <td>Slightly knowledgeable                                      </td> <td>Strongly agree                                              </td> <td>Somewhat agree                                              </td> <td>Somewhat agree                                              </td> <td>Strongly agree                                              </td> <td>Presidential elections are more important                   </td> <td>No:                                                         </td> <td>nan                                                         </td> <td>nan                                                         </td> <td>Probably yes                                                </td> <td>No                                                          </td> <td>nan                                                         </td>\n",
       "        </tr>\n",
       "        <tr>\n",
       "            <td>2018-11-13 13:42:15                                 </td> <td>2018-11-13 13:54:07                               </td> <td>IP Address           </td> <td>67.160.238.12           </td> <td>100                    </td> <td>712                    </td> <td>True                   </td> <td>2018-11-13 13:54:08                                    </td> <td>R_T1qHpCfq74QzG9z       </td> <td>nan                             </td> <td>nan                              </td> <td>nan                          </td> <td>nan                                 </td> <td>37.51739501953125              </td> <td>-122.29270172119140625          </td> <td>anonymous                         </td> <td>EN                         </td> <td>I consent                                                   </td> <td>College of Engineering                                      </td> <td>Yes                        </td> <td>Engineering/Computer Science                                </td> <td>Yes                           </td> <td>Man                                    </td> <td>White                                                       </td> <td>nan                                                         </td> <td>20                  </td> <td>No                                                          </td> <td>Online                                                 </td> <td>nan                                                 </td> <td>nan                                                         </td> <td>nan                                                         </td> <td>Another California county                                   </td> <td>3                                                           </td> <td>Yes                                             </td> <td>nan                                                         </td> <td>nan                                                         </td> <td>Polling station                                             </td> <td>Trump                                         </td> <td>I do not remember                                           </td> <td>nan                                                         </td> <td>nan                                                         </td> <td>nan                                                         </td> <td>No                                                          </td> <td>Volunteering                                                </td> <td>nan                                                         </td> <td>1-3 hours per week         </td> <td>Voting                                                      </td> <td>nan                                                         </td> <td>Moderately                                                  </td> <td>Never                                                       </td> <td>Automatic registration via the California Department of  ...</td> <td>nan                                                         </td> <td>Other California county                                     </td> <td>3                                                           </td> <td>Yes                                        </td> <td>No; I do not know how                                    </td> <td>Absentee / mail  ballot                                     </td> <td>nan                                                         </td> <td>Easy                                                        </td> <td>nan                                                         </td> <td>No                                                          </td> <td>nan                                                         </td> <td>Mostly Republicans                                          </td> <td>1                                                           </td> <td>3                                                           </td> <td>2                                                           </td> <td>4                                                           </td> <td>nan                                                         </td> <td>nan                                                         </td> <td>No                                                          </td> <td>No                                                          </td> <td>I did not have work that day                                </td> <td>Somewhat agree                                              </td> <td>Strongly agree                                              </td> <td>Strongly agree                                              </td> <td>Neutral                                                     </td> <td>Neutral                                                     </td> <td>Somewhat agree                                              </td> <td>Somewhat disagree                                           </td> <td>Somewhat disagree                                           </td> <td>7                                                           </td> <td>Once or twice a month                                       </td> <td>Once a week                                                 </td> <td>Never                                                       </td> <td>Very important                                              </td> <td>Important                                                   </td> <td>Important                                                   </td> <td>Important                                                   </td> <td>Moderately important                                        </td> <td>Moderately important                                        </td> <td>Important                                                   </td> <td>Moderately important                                        </td> <td>Moderately important                                        </td> <td>Moderately important                                        </td> <td>nan                                                         </td> <td>nan                                                         </td> <td>nan                                                         </td> <td>nan                                                         </td> <td>nan                                                         </td> <td>nan                                                         </td> <td>nan                                                         </td> <td>nan                                                         </td> <td>nan                                                         </td> <td>nan                                                         </td> <td>nan                                                         </td> <td>nan                                                         </td> <td>nan                                                         </td> <td>nan                                                         </td> <td>nan                                                         </td> <td>nan                                                         </td> <td>nan                                                         </td> <td>nan                                                         </td> <td>nan                                                         </td> <td>nan                                                         </td> <td>nan                                                         </td> <td>nan                                                         </td> <td>nan                                                         </td> <td>nan                                                         </td> <td>nan                                                         </td> <td>Slightly knowledgeable                                      </td> <td>Very knowledgeable                                          </td> <td>Strongly agree                                              </td> <td>Somewhat agree                                              </td> <td>Somewhat agree                                              </td> <td>Somewhat agree                                              </td> <td>Presidential elections are more important                   </td> <td>No:                                                         </td> <td>nan                                                         </td> <td>No                                                          </td> <td>Probably yes                                                </td> <td>No                                                          </td> <td>nan                                                         </td>\n",
       "        </tr>\n",
       "        <tr>\n",
       "            <td>2018-11-13 13:40:17                                 </td> <td>2018-11-13 13:56:41                               </td> <td>IP Address           </td> <td>192.31.105.240          </td> <td>100                    </td> <td>983                    </td> <td>True                   </td> <td>2018-11-13 13:56:42                                    </td> <td>R_1lAiYt3HSH063Or       </td> <td>nan                             </td> <td>nan                              </td> <td>nan                          </td> <td>nan                                 </td> <td>37.8737945556640625            </td> <td>-122.2548980712890625           </td> <td>anonymous                         </td> <td>EN                         </td> <td>I consent                                                   </td> <td>College of Letters and Science (includes undeclared stud ...</td> <td>No                         </td> <td>Social Sciences                                             </td> <td>Yes                           </td> <td>Woman                                  </td> <td>Asian,White                                                 </td> <td>nan                                                         </td> <td>18                  </td> <td>nan                                                         </td> <td>nan                                                    </td> <td>nan                                                 </td> <td>nan                                                         </td> <td>nan                                                         </td> <td>nan                                                         </td> <td>nan                                                         </td> <td>nan                                             </td> <td>nan                                                         </td> <td>nan                                                         </td> <td>nan                                                         </td> <td>nan                                           </td> <td>nan                                                         </td> <td>nan                                                         </td> <td>Sad,Scared,Angry                                            </td> <td>nan                                                         </td> <td>Yes                                                         </td> <td>Community engagement                                        </td> <td>nan                                                         </td> <td>1-3 hours per week         </td> <td>Voting                                                      </td> <td>nan                                                         </td> <td>Moderately                                                  </td> <td>Frequently                                                  </td> <td>I was already registered and did not re-register.           </td> <td>nan                                                         </td> <td>nan                                                         </td> <td>nan                                                         </td> <td>Yes                                        </td> <td>Yes; it was counted                                      </td> <td>Absentee / mail  ballot                                     </td> <td>nan                                                         </td> <td>I wanted to vote in my county and now live in Berkeley.  ...</td> <td>nan                                                         </td> <td>No                                                          </td> <td>nan                                                         </td> <td>Only Democrats                                              </td> <td>nan                                                         </td> <td>nan                                                         </td> <td>nan                                                         </td> <td>nan                                                         </td> <td>nan                                                         </td> <td>nan                                                         </td> <td>Yes                                                         </td> <td>No                                                          </td> <td>I did not have work that day                                </td> <td>Strongly agree                                              </td> <td>Strongly agree                                              </td> <td>Strongly agree                                              </td> <td>Somewhat agree                                              </td> <td>Somewhat agree                                              </td> <td>Strongly agree                                              </td> <td>Strongly agree                                              </td> <td>Somewhat agree                                              </td> <td>2                                                           </td> <td>Every day                                                   </td> <td>Every day                                                   </td> <td>Once or twice a month                                       </td> <td>Very important                                              </td> <td>Very important                                              </td> <td>Very important                                              </td> <td>Important                                                   </td> <td>Important                                                   </td> <td>Very important                                              </td> <td>Very important                                              </td> <td>Important                                                   </td> <td>Important                                                   </td> <td>Important                                                   </td> <td>nan                                                         </td> <td>nan                                                         </td> <td>CNN,New York Times,Twitter,Facebook,Washington Post         </td> <td>4                                                           </td> <td>3                                                           </td> <td>2                                                           </td> <td>1                                                           </td> <td>nan                                                         </td> <td>5                                                           </td> <td>nan                                                         </td> <td>nan                                                         </td> <td>nan                                                         </td> <td>nan                                                         </td> <td>nan                                                         </td> <td>nan                                                         </td> <td>nan                                                         </td> <td>nan                                                         </td> <td>No because:                                                 </td> <td>nan                                                         </td> <td>nan                                                         </td> <td>No for so, so many reasons                                  </td> <td>No because:                                                 </td> <td>nan                                                         </td> <td>nan                                                         </td> <td>No, they are not in line with my political views            </td> <td>Extremely knowledgeable                                     </td> <td>Extremely knowledgeable                                     </td> <td>Strongly agree                                              </td> <td>Strongly agree                                              </td> <td>Strongly agree                                              </td> <td>Strongly agree                                              </td> <td>Presidential elections and midterm elections are equally ...</td> <td>Yes:                                                        </td> <td>Yes, the Women's March and the March for our Lives          </td> <td>nan                                                         </td> <td>Probably yes                                                </td> <td>No                                                          </td> <td>nan                                                         </td>\n",
       "        </tr>\n",
       "    </tbody>\n",
       "</table>\n",
       "<p>... (544 rows omitted)</p>"
      ],
      "text/plain": [
       "<IPython.core.display.HTML object>"
      ]
     },
     "metadata": {},
     "output_type": "display_data"
    }
   ],
   "source": [
    "# show the first five rows of the raw_data table \n",
    "raw_data.show(5)"
   ]
  },
  {
   "cell_type": "markdown",
   "metadata": {},
   "source": [
    "Instead of only displaying the top rows of the table, we may want to look at some arbitray range of rows in the table. We can use the `tbl.take()` method. \n",
    "\n",
    "**TASK:** Display the 5th row to the 8th row of the table by running the cell below. "
   ]
  },
  {
   "cell_type": "code",
   "execution_count": 17,
   "metadata": {},
   "outputs": [
    {
     "data": {
      "text/html": [
       "<table border=\"1\" class=\"dataframe\">\n",
       "    <thead>\n",
       "        <tr>\n",
       "            <th>StartDate</th> <th>EndDate</th> <th>Status</th> <th>IPAddress</th> <th>Progress</th> <th>Duration (in seconds)</th> <th>Finished</th> <th>RecordedDate</th> <th>ResponseId</th> <th>RecipientLastName</th> <th>RecipientFirstName</th> <th>RecipientEmail</th> <th>ExternalReference</th> <th>LocationLatitude</th> <th>LocationLongitude</th> <th>DistributionChannel</th> <th>UserLanguage</th> <th>Q1</th> <th>Q3</th> <th>Q4</th> <th>Q5</th> <th>Q6</th> <th>Q7</th> <th>Q8</th> <th>Q8_9_TEXT</th> <th>Q9</th> <th>Q10</th> <th>Q11</th> <th>Q11_4_TEXT</th> <th>Q12</th> <th>Q12_7_TEXT</th> <th>Q13</th> <th>Q14_1</th> <th>Q15</th> <th>Q56</th> <th>Q56_8_TEXT</th> <th>Q16</th> <th>Q17</th> <th>Q18</th> <th>Q19</th> <th>Q20</th> <th>Q20_7_TEXT</th> <th>Q21</th> <th>Q23</th> <th>Q23_5_TEXT</th> <th>Q24</th> <th>Q25</th> <th>Q25_7_TEXT</th> <th>Q26_1</th> <th>Q26_2</th> <th>Q27</th> <th>Q27_9_TEXT</th> <th>Q28</th> <th>Q29_1</th> <th>Q30</th> <th>Q31</th> <th>Q32</th> <th>Q32_1_TEXT</th> <th>Q32_2_TEXT</th> <th>Q32_3_TEXT</th> <th>Q33</th> <th>Q33_1_TEXT</th> <th>Q55</th> <th>Q34_1</th> <th>Q34_2</th> <th>Q34_3</th> <th>Q34_7</th> <th>Q34_6</th> <th>Q34_6_TEXT</th> <th>Q35</th> <th>Q36</th> <th>Q37</th> <th>Q39_1</th> <th>Q39_2</th> <th>Q39_3</th> <th>Q39_4</th> <th>Q39_5</th> <th>Q40_1</th> <th>Q40_2</th> <th>Q40_3</th> <th>Q41_23</th> <th>Q42_1</th> <th>Q42_2</th> <th>Q42_3</th> <th>Q43_1</th> <th>Q43_2</th> <th>Q43_3</th> <th>Q43_4</th> <th>Q43_5</th> <th>Q43_6</th> <th>Q43_7</th> <th>Q43_8</th> <th>Q43_9</th> <th>Q43_10</th> <th>Q43_11</th> <th>Q43_11_TEXT</th> <th>Q44_0_GROUP</th> <th>Q44_0_1_RANK</th> <th>Q44_0_15_RANK</th> <th>Q44_0_4_RANK</th> <th>Q44_0_5_RANK</th> <th>Q44_0_6_RANK</th> <th>Q44_0_9_RANK</th> <th>Q44_0_10_RANK</th> <th>Q44_0_11_RANK</th> <th>Q44_0_12_RANK</th> <th>Q44_0_13_RANK</th> <th>Q44_0_14_RANK</th> <th>Q44_0_16_RANK</th> <th>Q44_0_8_RANK</th> <th>Q44_8_TEXT</th> <th>Q45</th> <th>Q45_1_TEXT</th> <th>Q45_2_TEXT</th> <th>Q45_3_TEXT</th> <th>Q46</th> <th>Q46_1_TEXT</th> <th>Q46_2_TEXT</th> <th>Q46_3_TEXT</th> <th>Q47_1</th> <th>Q47_2</th> <th>Q48_1</th> <th>Q48_2</th> <th>Q48_3</th> <th>Q48_4</th> <th>Q49</th> <th>Q50</th> <th>Q50_1_TEXT</th> <th>Q50_2_TEXT</th> <th>Q51</th> <th>Q52</th> <th>Q52_1_TEXT</th>\n",
       "        </tr>\n",
       "    </thead>\n",
       "    <tbody>\n",
       "        <tr>\n",
       "            <td>2018-11-13 13:40:17</td> <td>2018-11-13 13:56:41</td> <td>IP Address</td> <td>192.31.105.240</td> <td>100     </td> <td>983                  </td> <td>True    </td> <td>2018-11-13 13:56:42</td> <td>R_1lAiYt3HSH063Or</td> <td>nan              </td> <td>nan               </td> <td>nan           </td> <td>nan              </td> <td>37.8737945556640625</td> <td>-122.2548980712890625</td> <td>anonymous          </td> <td>EN          </td> <td>I consent</td> <td>College of Letters and Science (includes undeclared stud ...</td> <td>No  </td> <td>Social Sciences                  </td> <td>Yes </td> <td>Woman</td> <td>Asian,White                </td> <td>nan      </td> <td>18  </td> <td>nan </td> <td>nan      </td> <td>nan       </td> <td>nan </td> <td>nan       </td> <td>nan                      </td> <td>nan  </td> <td>nan </td> <td>nan                                 </td> <td>nan       </td> <td>nan                   </td> <td>nan    </td> <td>nan </td> <td>nan </td> <td>Sad,Scared,Angry</td> <td>nan       </td> <td>Yes </td> <td>Community engagement</td> <td>nan       </td> <td>1-3 hours per week</td> <td>Voting      </td> <td>nan       </td> <td>Moderately  </td> <td>Frequently  </td> <td>I was already registered and did not re-register.</td> <td>nan       </td> <td>nan           </td> <td>nan  </td> <td>Yes </td> <td>Yes; it was counted  </td> <td>Absentee / mail  ballot</td> <td>nan       </td> <td>I wanted to vote in my county and now live in Berkeley.  ...</td> <td>nan       </td> <td>No  </td> <td>nan                     </td> <td>Only Democrats  </td> <td>nan  </td> <td>nan  </td> <td>nan  </td> <td>nan  </td> <td>nan  </td> <td>nan       </td> <td>Yes </td> <td>No  </td> <td>I did not have work that day</td> <td>Strongly agree   </td> <td>Strongly agree</td> <td>Strongly agree</td> <td>Somewhat agree   </td> <td>Somewhat agree   </td> <td>Strongly agree   </td> <td>Strongly agree   </td> <td>Somewhat agree   </td> <td>2     </td> <td>Every day           </td> <td>Every day  </td> <td>Once or twice a month</td> <td>Very important</td> <td>Very important</td> <td>Very important</td> <td>Important     </td> <td>Important           </td> <td>Very important</td> <td>Very important</td> <td>Important     </td> <td>Important     </td> <td>Important     </td> <td>nan           </td> <td>nan        </td> <td>CNN,New York Times,Twitter,Facebook,Washington Post</td> <td>4           </td> <td>3            </td> <td>2           </td> <td>1           </td> <td>nan         </td> <td>5           </td> <td>nan          </td> <td>nan          </td> <td>nan          </td> <td>nan          </td> <td>nan          </td> <td>nan          </td> <td>nan         </td> <td>nan       </td> <td>No because:</td> <td>nan       </td> <td>nan       </td> <td>No for so, so many reasons      </td> <td>No because:</td> <td>nan       </td> <td>nan       </td> <td>No, they are not in line with my political views            </td> <td>Extremely knowledgeable</td> <td>Extremely knowledgeable </td> <td>Strongly agree</td> <td>Strongly agree            </td> <td>Strongly agree            </td> <td>Strongly agree            </td> <td>Presidential elections and midterm elections are equally ...</td> <td>Yes:</td> <td>Yes, the Women's March and the March for our Lives</td> <td>nan                                                         </td> <td>Probably yes  </td> <td>No  </td> <td>nan       </td>\n",
       "        </tr>\n",
       "        <tr>\n",
       "            <td>2018-11-13 13:54:48</td> <td>2018-11-13 13:59:16</td> <td>IP Address</td> <td>107.77.213.31 </td> <td>100     </td> <td>267                  </td> <td>True    </td> <td>2018-11-13 13:59:16</td> <td>R_3kC9f0GCSUUsRHQ</td> <td>nan              </td> <td>nan               </td> <td>nan           </td> <td>nan              </td> <td>37.6374053955078125</td> <td>-122.0670013427734375</td> <td>anonymous          </td> <td>EN          </td> <td>I consent</td> <td>College of Letters and Science (includes undeclared stud ...</td> <td>No  </td> <td>Life Sciences                    </td> <td>Yes </td> <td>Man  </td> <td>Mexican American/Chicanx   </td> <td>nan      </td> <td>20  </td> <td>No  </td> <td>In person</td> <td>nan       </td> <td>nan </td> <td>nan       </td> <td>Another California county</td> <td>4    </td> <td>No  </td> <td>I didn't agree with either candidate</td> <td>nan       </td> <td>I do not remember     </td> <td>Clinton</td> <td>No  </td> <td>nan </td> <td>Sad             </td> <td>nan       </td> <td>Yes </td> <td>Volunteering        </td> <td>nan       </td> <td>1-3 hours per week</td> <td>Volunteering</td> <td>nan       </td> <td>Constantly  </td> <td>Occasionally</td> <td>nan                                              </td> <td>nan       </td> <td>nan           </td> <td>nan  </td> <td>nan </td> <td>nan                  </td> <td>nan                    </td> <td>nan       </td> <td>nan                                                         </td> <td>nan       </td> <td>nan </td> <td>nan                     </td> <td>nan             </td> <td>1    </td> <td>2    </td> <td>3    </td> <td>4    </td> <td>nan  </td> <td>nan       </td> <td>No  </td> <td>No  </td> <td>No                          </td> <td>Neutral          </td> <td>Somewhat agree</td> <td>Somewhat agree</td> <td>Somewhat agree   </td> <td>Somewhat disagree</td> <td>Somewhat agree   </td> <td>Somewhat agree   </td> <td>Somewhat agree   </td> <td>4     </td> <td>Once a week         </td> <td>Every day  </td> <td>Once or twice a year </td> <td>Very important</td> <td>Very important</td> <td>Very important</td> <td>Very important</td> <td>Very important      </td> <td>Very important</td> <td>Very important</td> <td>Very important</td> <td>Very important</td> <td>Very important</td> <td>Very important</td> <td>nan        </td> <td>Twitter,CNN,Facebook,VICE,Time                     </td> <td>3           </td> <td>1            </td> <td>nan         </td> <td>2           </td> <td>nan         </td> <td>nan         </td> <td>nan          </td> <td>nan          </td> <td>4            </td> <td>nan          </td> <td>5            </td> <td>nan          </td> <td>nan         </td> <td>nan       </td> <td>No because:</td> <td>nan       </td> <td>nan       </td> <td>He represents our country poorly</td> <td>No because:</td> <td>nan       </td> <td>nan       </td> <td>They alter the truth                                        </td> <td>Very knowledgeable     </td> <td>Very knowledgeable      </td> <td>Somewhat agree</td> <td>Somewhat agree            </td> <td>Somewhat agree            </td> <td>Somewhat agree            </td> <td>Presidential elections and midterm elections are equally ...</td> <td>No: </td> <td>nan                                               </td> <td>Safety reaskn                                               </td> <td>Definitely yes</td> <td>No  </td> <td>nan       </td>\n",
       "        </tr>\n",
       "        <tr>\n",
       "            <td>2018-11-13 13:56:41</td> <td>2018-11-13 14:05:30</td> <td>IP Address</td> <td>136.152.143.66</td> <td>100     </td> <td>529                  </td> <td>True    </td> <td>2018-11-13 14:05:31</td> <td>R_1LNBcK1Er6LKDjK</td> <td>nan              </td> <td>nan               </td> <td>nan           </td> <td>nan              </td> <td>37.8737945556640625</td> <td>-122.2548980712890625</td> <td>anonymous          </td> <td>EN          </td> <td>I consent</td> <td>College of Letters and Science (includes undeclared stud ...</td> <td>No  </td> <td>Arts & Humanities,Social Sciences</td> <td>Yes </td> <td>Woman</td> <td>Other Hispanic/Latinx,White</td> <td>nan      </td> <td>19  </td> <td>nan </td> <td>nan      </td> <td>nan       </td> <td>nan </td> <td>nan       </td> <td>nan                      </td> <td>nan  </td> <td>nan </td> <td>nan                                 </td> <td>nan       </td> <td>nan                   </td> <td>nan    </td> <td>nan </td> <td>nan </td> <td>Scared          </td> <td>nan       </td> <td>Yes </td> <td>Community engagement</td> <td>nan       </td> <td>I don't volunteer </td> <td>Voting      </td> <td>nan       </td> <td>Frequently  </td> <td>Frequently  </td> <td>Online                                           </td> <td>nan       </td> <td>Alameda County</td> <td>1    </td> <td>Yes </td> <td>No; I do not know how</td> <td>Absentee / mail  ballot</td> <td>nan       </td> <td>Using a mail in ballot was more convenient for me as a s ...</td> <td>nan       </td> <td>Yes:</td> <td>First time I could vote!</td> <td>Mostly Democrats</td> <td>2    </td> <td>4    </td> <td>1    </td> <td>3    </td> <td>nan  </td> <td>nan       </td> <td>Yes </td> <td>No  </td> <td>I did not have work that day</td> <td>Somewhat disagree</td> <td>Somewhat agree</td> <td>Somewhat agree</td> <td>Somewhat disagree</td> <td>Somewhat agree   </td> <td>Somewhat agree   </td> <td>Strongly agree   </td> <td>Strongly agree   </td> <td>3     </td> <td>Every couple of days</td> <td>Once a week</td> <td>Once a week          </td> <td>Very important</td> <td>Very important</td> <td>Very important</td> <td>Very important</td> <td>Moderately important</td> <td>Very important</td> <td>Very important</td> <td>Very important</td> <td>Very important</td> <td>Very important</td> <td>nan           </td> <td>nan        </td> <td>Facebook,Other,Washington Post,New York Times,Time </td> <td>1           </td> <td>nan          </td> <td>4           </td> <td>nan         </td> <td>nan         </td> <td>3           </td> <td>nan          </td> <td>nan          </td> <td>nan          </td> <td>nan          </td> <td>5            </td> <td>nan          </td> <td>2           </td> <td>Snapchat  </td> <td>No opinion </td> <td>nan       </td> <td>nan       </td> <td>nan                             </td> <td>No opinion </td> <td>nan       </td> <td>nan       </td> <td>nan                                                         </td> <td>Very knowledgeable     </td> <td>Very knowledgeable      </td> <td>Strongly agree</td> <td>Strongly agree            </td> <td>Somewhat agree            </td> <td>Somewhat agree            </td> <td>Presidential elections and midterm elections are equally ...</td> <td>No: </td> <td>nan                                               </td> <td>Didn't feel I was in the right position to participate.  ...</td> <td>Probably yes  </td> <td>No  </td> <td>nan       </td>\n",
       "        </tr>\n",
       "        <tr>\n",
       "            <td>2018-11-13 14:00:15</td> <td>2018-11-13 14:09:26</td> <td>IP Address</td> <td>172.58.37.101 </td> <td>100     </td> <td>550                  </td> <td>True    </td> <td>2018-11-13 14:09:27</td> <td>R_xzTq1uJITH03NKN</td> <td>nan              </td> <td>nan               </td> <td>nan           </td> <td>nan              </td> <td>37.3249053955078125</td> <td>-121.9152984619140625</td> <td>anonymous          </td> <td>EN          </td> <td>I consent</td> <td>College of Letters and Science (includes undeclared stud ...</td> <td>No  </td> <td>Arts & Humanities,Business       </td> <td>Yes </td> <td>Man  </td> <td>Mexican American/Chicanx   </td> <td>nan      </td> <td>20  </td> <td>No  </td> <td>Online   </td> <td>nan       </td> <td>nan </td> <td>nan       </td> <td>Another California county</td> <td>3    </td> <td>Yes </td> <td>nan                                 </td> <td>nan       </td> <td>Absentee / mail ballot</td> <td>Clinton</td> <td>No  </td> <td>No  </td> <td>Sad,Scared,Angry</td> <td>nan       </td> <td>Yes </td> <td>Voting              </td> <td>nan       </td> <td>1-3 hours per week</td> <td>Voting      </td> <td>nan       </td> <td>Occasionally</td> <td>Occasionally</td> <td>I was already registered and did not re-register.</td> <td>nan       </td> <td>nan           </td> <td>nan  </td> <td>Yes </td> <td>Yes; it was counted  </td> <td>Absentee / mail  ballot</td> <td>nan       </td> <td>Voted in LA County                                          </td> <td>nan       </td> <td>No  </td> <td>nan                     </td> <td>Only Democrats  </td> <td>1    </td> <td>4    </td> <td>3    </td> <td>3    </td> <td>nan  </td> <td>nan       </td> <td>No  </td> <td>No  </td> <td>No                          </td> <td>Strongly agree   </td> <td>Strongly agree</td> <td>Strongly agree</td> <td>Strongly disagree</td> <td>Strongly disagree</td> <td>Strongly disagree</td> <td>Strongly disagree</td> <td>Strongly disagree</td> <td>1     </td> <td>Every couple of days</td> <td>Once a week</td> <td>Never                </td> <td>Very important</td> <td>Very important</td> <td>Very important</td> <td>Very important</td> <td>Very important      </td> <td>Very important</td> <td>Very important</td> <td>Very important</td> <td>Very important</td> <td>Very important</td> <td>Not important </td> <td>nan        </td> <td>Twitter,Facebook,CNN,Fox News,New York Times       </td> <td>2           </td> <td>1            </td> <td>5           </td> <td>3           </td> <td>4           </td> <td>nan         </td> <td>nan          </td> <td>nan          </td> <td>nan          </td> <td>nan          </td> <td>nan          </td> <td>nan          </td> <td>nan         </td> <td>nan       </td> <td>No because:</td> <td>nan       </td> <td>nan       </td> <td>He’s a fucking idiot.           </td> <td>No because:</td> <td>nan       </td> <td>nan       </td> <td>They’re instuitionally made to oppress minorities (NON W ...</td> <td>Very knowledgeable     </td> <td>Moderately knowledgeable</td> <td>Strongly agree</td> <td>Neither agree nor disagree</td> <td>Neither agree nor disagree</td> <td>Neither agree nor disagree</td> <td>Presidential elections and midterm elections are equally ...</td> <td>Yes:</td> <td>Yes                                               </td> <td>nan                                                         </td> <td>Definitely yes</td> <td>No  </td> <td>nan       </td>\n",
       "        </tr>\n",
       "    </tbody>\n",
       "</table>"
      ],
      "text/plain": [
       "StartDate           | EndDate             | Status     | IPAddress      | Progress | Duration (in seconds) | Finished | RecordedDate        | ResponseId        | RecipientLastName | RecipientFirstName | RecipientEmail | ExternalReference | LocationLatitude    | LocationLongitude     | DistributionChannel | UserLanguage | Q1        | Q3                                                           | Q4   | Q5                                | Q6   | Q7    | Q8                          | Q8_9_TEXT | Q9   | Q10  | Q11       | Q11_4_TEXT | Q12  | Q12_7_TEXT | Q13                       | Q14_1 | Q15  | Q56                                  | Q56_8_TEXT | Q16                    | Q17     | Q18  | Q19  | Q20              | Q20_7_TEXT | Q21  | Q23                  | Q23_5_TEXT | Q24                | Q25          | Q25_7_TEXT | Q26_1        | Q26_2        | Q27                                               | Q27_9_TEXT | Q28            | Q29_1 | Q30  | Q31                   | Q32                     | Q32_1_TEXT | Q32_2_TEXT                                                   | Q32_3_TEXT | Q33  | Q33_1_TEXT               | Q55              | Q34_1 | Q34_2 | Q34_3 | Q34_7 | Q34_6 | Q34_6_TEXT | Q35  | Q36  | Q37                          | Q39_1             | Q39_2          | Q39_3          | Q39_4             | Q39_5             | Q40_1             | Q40_2             | Q40_3             | Q41_23 | Q42_1                | Q42_2       | Q42_3                 | Q43_1          | Q43_2          | Q43_3          | Q43_4          | Q43_5                | Q43_6          | Q43_7          | Q43_8          | Q43_9          | Q43_10         | Q43_11         | Q43_11_TEXT | Q44_0_GROUP                                         | Q44_0_1_RANK | Q44_0_15_RANK | Q44_0_4_RANK | Q44_0_5_RANK | Q44_0_6_RANK | Q44_0_9_RANK | Q44_0_10_RANK | Q44_0_11_RANK | Q44_0_12_RANK | Q44_0_13_RANK | Q44_0_14_RANK | Q44_0_16_RANK | Q44_0_8_RANK | Q44_8_TEXT | Q45         | Q45_1_TEXT | Q45_2_TEXT | Q45_3_TEXT                       | Q46         | Q46_1_TEXT | Q46_2_TEXT | Q46_3_TEXT                                                   | Q47_1                   | Q47_2                    | Q48_1          | Q48_2                      | Q48_3                      | Q48_4                      | Q49                                                          | Q50  | Q50_1_TEXT                                         | Q50_2_TEXT                                                   | Q51            | Q52  | Q52_1_TEXT\n",
       "2018-11-13 13:40:17 | 2018-11-13 13:56:41 | IP Address | 192.31.105.240 | 100      | 983                   | True     | 2018-11-13 13:56:42 | R_1lAiYt3HSH063Or | nan               | nan                | nan            | nan               | 37.8737945556640625 | -122.2548980712890625 | anonymous           | EN           | I consent | College of Letters and Science (includes undeclared stud ... | No   | Social Sciences                   | Yes  | Woman | Asian,White                 | nan       | 18   | nan  | nan       | nan        | nan  | nan        | nan                       | nan   | nan  | nan                                  | nan        | nan                    | nan     | nan  | nan  | Sad,Scared,Angry | nan        | Yes  | Community engagement | nan        | 1-3 hours per week | Voting       | nan        | Moderately   | Frequently   | I was already registered and did not re-register. | nan        | nan            | nan   | Yes  | Yes; it was counted   | Absentee / mail  ballot | nan        | I wanted to vote in my county and now live in Berkeley.  ... | nan        | No   | nan                      | Only Democrats   | nan   | nan   | nan   | nan   | nan   | nan        | Yes  | No   | I did not have work that day | Strongly agree    | Strongly agree | Strongly agree | Somewhat agree    | Somewhat agree    | Strongly agree    | Strongly agree    | Somewhat agree    | 2      | Every day            | Every day   | Once or twice a month | Very important | Very important | Very important | Important      | Important            | Very important | Very important | Important      | Important      | Important      | nan            | nan         | CNN,New York Times,Twitter,Facebook,Washington Post | 4            | 3             | 2            | 1            | nan          | 5            | nan           | nan           | nan           | nan           | nan           | nan           | nan          | nan        | No because: | nan        | nan        | No for so, so many reasons       | No because: | nan        | nan        | No, they are not in line with my political views             | Extremely knowledgeable | Extremely knowledgeable  | Strongly agree | Strongly agree             | Strongly agree             | Strongly agree             | Presidential elections and midterm elections are equally ... | Yes: | Yes, the Women's March and the March for our Lives | nan                                                          | Probably yes   | No   | nan\n",
       "2018-11-13 13:54:48 | 2018-11-13 13:59:16 | IP Address | 107.77.213.31  | 100      | 267                   | True     | 2018-11-13 13:59:16 | R_3kC9f0GCSUUsRHQ | nan               | nan                | nan            | nan               | 37.6374053955078125 | -122.0670013427734375 | anonymous           | EN           | I consent | College of Letters and Science (includes undeclared stud ... | No   | Life Sciences                     | Yes  | Man   | Mexican American/Chicanx    | nan       | 20   | No   | In person | nan        | nan  | nan        | Another California county | 4     | No   | I didn't agree with either candidate | nan        | I do not remember      | Clinton | No   | nan  | Sad              | nan        | Yes  | Volunteering         | nan        | 1-3 hours per week | Volunteering | nan        | Constantly   | Occasionally | nan                                               | nan        | nan            | nan   | nan  | nan                   | nan                     | nan        | nan                                                          | nan        | nan  | nan                      | nan              | 1     | 2     | 3     | 4     | nan   | nan        | No   | No   | No                           | Neutral           | Somewhat agree | Somewhat agree | Somewhat agree    | Somewhat disagree | Somewhat agree    | Somewhat agree    | Somewhat agree    | 4      | Once a week          | Every day   | Once or twice a year  | Very important | Very important | Very important | Very important | Very important       | Very important | Very important | Very important | Very important | Very important | Very important | nan         | Twitter,CNN,Facebook,VICE,Time                      | 3            | 1             | nan          | 2            | nan          | nan          | nan           | nan           | 4             | nan           | 5             | nan           | nan          | nan        | No because: | nan        | nan        | He represents our country poorly | No because: | nan        | nan        | They alter the truth                                         | Very knowledgeable      | Very knowledgeable       | Somewhat agree | Somewhat agree             | Somewhat agree             | Somewhat agree             | Presidential elections and midterm elections are equally ... | No:  | nan                                                | Safety reaskn                                                | Definitely yes | No   | nan\n",
       "2018-11-13 13:56:41 | 2018-11-13 14:05:30 | IP Address | 136.152.143.66 | 100      | 529                   | True     | 2018-11-13 14:05:31 | R_1LNBcK1Er6LKDjK | nan               | nan                | nan            | nan               | 37.8737945556640625 | -122.2548980712890625 | anonymous           | EN           | I consent | College of Letters and Science (includes undeclared stud ... | No   | Arts & Humanities,Social Sciences | Yes  | Woman | Other Hispanic/Latinx,White | nan       | 19   | nan  | nan       | nan        | nan  | nan        | nan                       | nan   | nan  | nan                                  | nan        | nan                    | nan     | nan  | nan  | Scared           | nan        | Yes  | Community engagement | nan        | I don't volunteer  | Voting       | nan        | Frequently   | Frequently   | Online                                            | nan        | Alameda County | 1     | Yes  | No; I do not know how | Absentee / mail  ballot | nan        | Using a mail in ballot was more convenient for me as a s ... | nan        | Yes: | First time I could vote! | Mostly Democrats | 2     | 4     | 1     | 3     | nan   | nan        | Yes  | No   | I did not have work that day | Somewhat disagree | Somewhat agree | Somewhat agree | Somewhat disagree | Somewhat agree    | Somewhat agree    | Strongly agree    | Strongly agree    | 3      | Every couple of days | Once a week | Once a week           | Very important | Very important | Very important | Very important | Moderately important | Very important | Very important | Very important | Very important | Very important | nan            | nan         | Facebook,Other,Washington Post,New York Times,Time  | 1            | nan           | 4            | nan          | nan          | 3            | nan           | nan           | nan           | nan           | 5             | nan           | 2            | Snapchat   | No opinion  | nan        | nan        | nan                              | No opinion  | nan        | nan        | nan                                                          | Very knowledgeable      | Very knowledgeable       | Strongly agree | Strongly agree             | Somewhat agree             | Somewhat agree             | Presidential elections and midterm elections are equally ... | No:  | nan                                                | Didn't feel I was in the right position to participate.  ... | Probably yes   | No   | nan\n",
       "2018-11-13 14:00:15 | 2018-11-13 14:09:26 | IP Address | 172.58.37.101  | 100      | 550                   | True     | 2018-11-13 14:09:27 | R_xzTq1uJITH03NKN | nan               | nan                | nan            | nan               | 37.3249053955078125 | -121.9152984619140625 | anonymous           | EN           | I consent | College of Letters and Science (includes undeclared stud ... | No   | Arts & Humanities,Business        | Yes  | Man   | Mexican American/Chicanx    | nan       | 20   | No   | Online    | nan        | nan  | nan        | Another California county | 3     | Yes  | nan                                  | nan        | Absentee / mail ballot | Clinton | No   | No   | Sad,Scared,Angry | nan        | Yes  | Voting               | nan        | 1-3 hours per week | Voting       | nan        | Occasionally | Occasionally | I was already registered and did not re-register. | nan        | nan            | nan   | Yes  | Yes; it was counted   | Absentee / mail  ballot | nan        | Voted in LA County                                           | nan        | No   | nan                      | Only Democrats   | 1     | 4     | 3     | 3     | nan   | nan        | No   | No   | No                           | Strongly agree    | Strongly agree | Strongly agree | Strongly disagree | Strongly disagree | Strongly disagree | Strongly disagree | Strongly disagree | 1      | Every couple of days | Once a week | Never                 | Very important | Very important | Very important | Very important | Very important       | Very important | Very important | Very important | Very important | Very important | Not important  | nan         | Twitter,Facebook,CNN,Fox News,New York Times        | 2            | 1             | 5            | 3            | 4            | nan          | nan           | nan           | nan           | nan           | nan           | nan           | nan          | nan        | No because: | nan        | nan        | He’s a fucking idiot.            | No because: | nan        | nan        | They’re instuitionally made to oppress minorities (NON W ... | Very knowledgeable      | Moderately knowledgeable | Strongly agree | Neither agree nor disagree | Neither agree nor disagree | Neither agree nor disagree | Presidential elections and midterm elections are equally ... | Yes: | Yes                                                | nan                                                          | Definitely yes | No   | nan"
      ]
     },
     "execution_count": 17,
     "metadata": {},
     "output_type": "execute_result"
    }
   ],
   "source": [
    "# display the 5th row to the 8th row\n",
    "raw_data.take([4, 5, 6, 7])"
   ]
  },
  {
   "cell_type": "markdown",
   "metadata": {},
   "source": [
    "Well done! You succesfully displayed the data as a table and now we can manage the data using Table methods! \n",
    "\n",
    "\n",
    "## 4.2 Data Overview <a id='subsection 3b'></a>\n",
    "\n",
    "Now we want to have more information about the data. First, We want to know the size of the table. For this data, the number of rows of the table the number of people who answered the survey (assuming no duplicates). The number of columns corresponds to the number of questions in the survey. In `Table`s  have the property `num_rows`, which tells you how many rows are in a `Table`. (A \"property\" can be thought of as a method that doesn't need to be called by adding parentheses.)\n",
    "\n",
    "Example call: `tbl.num_rows` \n",
    "\n",
    "**TASK:** Run the cell below to print out the number of rows in the table. "
   ]
  },
  {
   "cell_type": "code",
   "execution_count": 18,
   "metadata": {},
   "outputs": [
    {
     "name": "stdout",
     "output_type": "stream",
     "text": [
      "The table has 549 rows in it!\n"
     ]
    }
   ],
   "source": [
    "# print the number of rows in the table \n",
    "num_surveydata_rows = raw_data.num_rows\n",
    "print(\"The table has {} rows in it!\".format(num_surveydata_rows))"
   ]
  },
  {
   "cell_type": "markdown",
   "metadata": {},
   "source": [
    "Similarly, the property `num_columns` returns the number of columns in a table. Example call: `tbl.num_columns` \n",
    "\n",
    "**TASK:** Run the cell below to print out the number of columns in the table."
   ]
  },
  {
   "cell_type": "code",
   "execution_count": 19,
   "metadata": {},
   "outputs": [
    {
     "name": "stdout",
     "output_type": "stream",
     "text": [
      "The table has 132 columns in it!\n"
     ]
    }
   ],
   "source": [
    "# Just run this cell\n",
    "num_farmers_markets_columns = raw_data.num_columns\n",
    "print(\"The table has\", num_farmers_markets_columns, \"columns in it!\")"
   ]
  },
  {
   "cell_type": "markdown",
   "metadata": {},
   "source": [
    "Does the number of rows truely represent the number of responses in total in our table? The answer is No! Notice that the first two rows do not contain the actual responses and so are not meaningful for the data analysis we are trying to conduct. We can remove these two rows from the original table. \n",
    "\n",
    "**TASK:** Run the cell below to remove the first two rows from the table."
   ]
  },
  {
   "cell_type": "code",
   "execution_count": 20,
   "metadata": {},
   "outputs": [
    {
     "data": {
      "text/html": [
       "<table border=\"1\" class=\"dataframe\">\n",
       "    <thead>\n",
       "        <tr>\n",
       "            <th>StartDate</th> <th>EndDate</th> <th>Status</th> <th>IPAddress</th> <th>Progress</th> <th>Duration (in seconds)</th> <th>Finished</th> <th>RecordedDate</th> <th>ResponseId</th> <th>RecipientLastName</th> <th>RecipientFirstName</th> <th>RecipientEmail</th> <th>ExternalReference</th> <th>LocationLatitude</th> <th>LocationLongitude</th> <th>DistributionChannel</th> <th>UserLanguage</th> <th>Q1</th> <th>Q3</th> <th>Q4</th> <th>Q5</th> <th>Q6</th> <th>Q7</th> <th>Q8</th> <th>Q8_9_TEXT</th> <th>Q9</th> <th>Q10</th> <th>Q11</th> <th>Q11_4_TEXT</th> <th>Q12</th> <th>Q12_7_TEXT</th> <th>Q13</th> <th>Q14_1</th> <th>Q15</th> <th>Q56</th> <th>Q56_8_TEXT</th> <th>Q16</th> <th>Q17</th> <th>Q18</th> <th>Q19</th> <th>Q20</th> <th>Q20_7_TEXT</th> <th>Q21</th> <th>Q23</th> <th>Q23_5_TEXT</th> <th>Q24</th> <th>Q25</th> <th>Q25_7_TEXT</th> <th>Q26_1</th> <th>Q26_2</th> <th>Q27</th> <th>Q27_9_TEXT</th> <th>Q28</th> <th>Q29_1</th> <th>Q30</th> <th>Q31</th> <th>Q32</th> <th>Q32_1_TEXT</th> <th>Q32_2_TEXT</th> <th>Q32_3_TEXT</th> <th>Q33</th> <th>Q33_1_TEXT</th> <th>Q55</th> <th>Q34_1</th> <th>Q34_2</th> <th>Q34_3</th> <th>Q34_7</th> <th>Q34_6</th> <th>Q34_6_TEXT</th> <th>Q35</th> <th>Q36</th> <th>Q37</th> <th>Q39_1</th> <th>Q39_2</th> <th>Q39_3</th> <th>Q39_4</th> <th>Q39_5</th> <th>Q40_1</th> <th>Q40_2</th> <th>Q40_3</th> <th>Q41_23</th> <th>Q42_1</th> <th>Q42_2</th> <th>Q42_3</th> <th>Q43_1</th> <th>Q43_2</th> <th>Q43_3</th> <th>Q43_4</th> <th>Q43_5</th> <th>Q43_6</th> <th>Q43_7</th> <th>Q43_8</th> <th>Q43_9</th> <th>Q43_10</th> <th>Q43_11</th> <th>Q43_11_TEXT</th> <th>Q44_0_GROUP</th> <th>Q44_0_1_RANK</th> <th>Q44_0_15_RANK</th> <th>Q44_0_4_RANK</th> <th>Q44_0_5_RANK</th> <th>Q44_0_6_RANK</th> <th>Q44_0_9_RANK</th> <th>Q44_0_10_RANK</th> <th>Q44_0_11_RANK</th> <th>Q44_0_12_RANK</th> <th>Q44_0_13_RANK</th> <th>Q44_0_14_RANK</th> <th>Q44_0_16_RANK</th> <th>Q44_0_8_RANK</th> <th>Q44_8_TEXT</th> <th>Q45</th> <th>Q45_1_TEXT</th> <th>Q45_2_TEXT</th> <th>Q45_3_TEXT</th> <th>Q46</th> <th>Q46_1_TEXT</th> <th>Q46_2_TEXT</th> <th>Q46_3_TEXT</th> <th>Q47_1</th> <th>Q47_2</th> <th>Q48_1</th> <th>Q48_2</th> <th>Q48_3</th> <th>Q48_4</th> <th>Q49</th> <th>Q50</th> <th>Q50_1_TEXT</th> <th>Q50_2_TEXT</th> <th>Q51</th> <th>Q52</th> <th>Q52_1_TEXT</th>\n",
       "        </tr>\n",
       "    </thead>\n",
       "    <tbody>\n",
       "        <tr>\n",
       "            <td>2018-11-13 13:37:27</td> <td>2018-11-13 13:48:30</td> <td>IP Address</td> <td>136.152.143.179</td> <td>100     </td> <td>663                  </td> <td>True    </td> <td>2018-11-13 13:48:31</td> <td>R_xA58gXXjXE5t4vD</td> <td>nan              </td> <td>nan               </td> <td>nan           </td> <td>nan              </td> <td>37.8737945556640625</td> <td>-122.2548980712890625 </td> <td>anonymous          </td> <td>EN          </td> <td>I consent</td> <td>College of Letters and Science (includes undeclared stud ...</td> <td>No  </td> <td>Social Sciences                           </td> <td>Yes </td> <td>Woman</td> <td>White                      </td> <td>nan      </td> <td>21  </td> <td>No  </td> <td>In person                                                   </td> <td>nan       </td> <td>nan                            </td> <td>nan       </td> <td>Another California county</td> <td>3    </td> <td>Yes </td> <td>nan                                 </td> <td>nan       </td> <td>Polling station       </td> <td>Trump    </td> <td>No                           </td> <td>nan               </td> <td>Happy           </td> <td>nan                                        </td> <td>Yes </td> <td>Volunteering        </td> <td>nan                                 </td> <td>1-3 hours per week</td> <td>Voting      </td> <td>nan                                 </td> <td>Occasionally</td> <td>Never       </td> <td>I was already registered and did not re-register.           </td> <td>nan       </td> <td>nan                    </td> <td>nan  </td> <td>Yes </td> <td>No; I did not check  </td> <td>Absentee / mail  ballot</td> <td>nan                             </td> <td>I was at school and my polling station was down in south ...</td> <td>nan       </td> <td>No  </td> <td>nan                                                    </td> <td>Mostly Republicans</td> <td>4    </td> <td>3    </td> <td>1    </td> <td>2    </td> <td>nan  </td> <td>nan       </td> <td>Yes              </td> <td>No  </td> <td>I did not have work that day</td> <td>Neutral          </td> <td>Somewhat agree</td> <td>Strongly disagree</td> <td>Neutral          </td> <td>Somewhat disagree</td> <td>Strongly disagree</td> <td>Strongly disagree</td> <td>Strongly disagree</td> <td>7     </td> <td>Once or twice a year </td> <td>Every day           </td> <td>Every day            </td> <td>Very important</td> <td>Very important</td> <td>Very important</td> <td>Very important</td> <td>Very important      </td> <td>Very important      </td> <td>Very important</td> <td>Very important      </td> <td>Very important      </td> <td>Very important      </td> <td>nan           </td> <td>nan        </td> <td>Fox News,New York Times,CBS,Twitter,CNN            </td> <td>nan         </td> <td>4            </td> <td>2           </td> <td>5           </td> <td>1           </td> <td>nan         </td> <td>3            </td> <td>nan          </td> <td>nan          </td> <td>nan          </td> <td>nan          </td> <td>nan          </td> <td>nan         </td> <td>nan             </td> <td>Sometimes because:</td> <td>nan       </td> <td>He is doing what he said he would be needs to chill with ...</td> <td>nan                                                         </td> <td>No opinion </td> <td>nan       </td> <td>nan       </td> <td>nan                                                         </td> <td>Moderately knowledgeable</td> <td>Slightly knowledgeable  </td> <td>Strongly agree            </td> <td>Somewhat agree            </td> <td>Somewhat agree            </td> <td>Strongly agree            </td> <td>Presidential elections are more important                   </td> <td>No: </td> <td>nan                                                    </td> <td>nan                                                         </td> <td>Probably yes  </td> <td>No  </td> <td>nan                      </td>\n",
       "        </tr>\n",
       "        <tr>\n",
       "            <td>2018-11-13 13:42:15</td> <td>2018-11-13 13:54:07</td> <td>IP Address</td> <td>67.160.238.12  </td> <td>100     </td> <td>712                  </td> <td>True    </td> <td>2018-11-13 13:54:08</td> <td>R_T1qHpCfq74QzG9z</td> <td>nan              </td> <td>nan               </td> <td>nan           </td> <td>nan              </td> <td>37.51739501953125  </td> <td>-122.29270172119140625</td> <td>anonymous          </td> <td>EN          </td> <td>I consent</td> <td>College of Engineering                                      </td> <td>Yes </td> <td>Engineering/Computer Science              </td> <td>Yes </td> <td>Man  </td> <td>White                      </td> <td>nan      </td> <td>20  </td> <td>No  </td> <td>Online                                                      </td> <td>nan       </td> <td>nan                            </td> <td>nan       </td> <td>Another California county</td> <td>3    </td> <td>Yes </td> <td>nan                                 </td> <td>nan       </td> <td>Polling station       </td> <td>Trump    </td> <td>I do not remember            </td> <td>nan               </td> <td>nan             </td> <td>nan                                        </td> <td>No  </td> <td>Volunteering        </td> <td>nan                                 </td> <td>1-3 hours per week</td> <td>Voting      </td> <td>nan                                 </td> <td>Moderately  </td> <td>Never       </td> <td>Automatic registration via the California Department of  ...</td> <td>nan       </td> <td>Other California county</td> <td>3    </td> <td>Yes </td> <td>No; I do not know how</td> <td>Absentee / mail  ballot</td> <td>nan                             </td> <td>Easy                                                        </td> <td>nan       </td> <td>No  </td> <td>nan                                                    </td> <td>Mostly Republicans</td> <td>1    </td> <td>3    </td> <td>2    </td> <td>4    </td> <td>nan  </td> <td>nan       </td> <td>No               </td> <td>No  </td> <td>I did not have work that day</td> <td>Somewhat agree   </td> <td>Strongly agree</td> <td>Strongly agree   </td> <td>Neutral          </td> <td>Neutral          </td> <td>Somewhat agree   </td> <td>Somewhat disagree</td> <td>Somewhat disagree</td> <td>7     </td> <td>Once or twice a month</td> <td>Once a week         </td> <td>Never                </td> <td>Very important</td> <td>Important     </td> <td>Important     </td> <td>Important     </td> <td>Moderately important</td> <td>Moderately important</td> <td>Important     </td> <td>Moderately important</td> <td>Moderately important</td> <td>Moderately important</td> <td>nan           </td> <td>nan        </td> <td>nan                                                </td> <td>nan         </td> <td>nan          </td> <td>nan         </td> <td>nan         </td> <td>nan         </td> <td>nan         </td> <td>nan          </td> <td>nan          </td> <td>nan          </td> <td>nan          </td> <td>nan          </td> <td>nan          </td> <td>nan         </td> <td>nan             </td> <td>nan               </td> <td>nan       </td> <td>nan                                                         </td> <td>nan                                                         </td> <td>nan        </td> <td>nan       </td> <td>nan       </td> <td>nan                                                         </td> <td>Slightly knowledgeable  </td> <td>Very knowledgeable      </td> <td>Strongly agree            </td> <td>Somewhat agree            </td> <td>Somewhat agree            </td> <td>Somewhat agree            </td> <td>Presidential elections are more important                   </td> <td>No: </td> <td>nan                                                    </td> <td>No                                                          </td> <td>Probably yes  </td> <td>No  </td> <td>nan                      </td>\n",
       "        </tr>\n",
       "        <tr>\n",
       "            <td>2018-11-13 13:40:17</td> <td>2018-11-13 13:56:41</td> <td>IP Address</td> <td>192.31.105.240 </td> <td>100     </td> <td>983                  </td> <td>True    </td> <td>2018-11-13 13:56:42</td> <td>R_1lAiYt3HSH063Or</td> <td>nan              </td> <td>nan               </td> <td>nan           </td> <td>nan              </td> <td>37.8737945556640625</td> <td>-122.2548980712890625 </td> <td>anonymous          </td> <td>EN          </td> <td>I consent</td> <td>College of Letters and Science (includes undeclared stud ...</td> <td>No  </td> <td>Social Sciences                           </td> <td>Yes </td> <td>Woman</td> <td>Asian,White                </td> <td>nan      </td> <td>18  </td> <td>nan </td> <td>nan                                                         </td> <td>nan       </td> <td>nan                            </td> <td>nan       </td> <td>nan                      </td> <td>nan  </td> <td>nan </td> <td>nan                                 </td> <td>nan       </td> <td>nan                   </td> <td>nan      </td> <td>nan                          </td> <td>nan               </td> <td>Sad,Scared,Angry</td> <td>nan                                        </td> <td>Yes </td> <td>Community engagement</td> <td>nan                                 </td> <td>1-3 hours per week</td> <td>Voting      </td> <td>nan                                 </td> <td>Moderately  </td> <td>Frequently  </td> <td>I was already registered and did not re-register.           </td> <td>nan       </td> <td>nan                    </td> <td>nan  </td> <td>Yes </td> <td>Yes; it was counted  </td> <td>Absentee / mail  ballot</td> <td>nan                             </td> <td>I wanted to vote in my county and now live in Berkeley.  ...</td> <td>nan       </td> <td>No  </td> <td>nan                                                    </td> <td>Only Democrats    </td> <td>nan  </td> <td>nan  </td> <td>nan  </td> <td>nan  </td> <td>nan  </td> <td>nan       </td> <td>Yes              </td> <td>No  </td> <td>I did not have work that day</td> <td>Strongly agree   </td> <td>Strongly agree</td> <td>Strongly agree   </td> <td>Somewhat agree   </td> <td>Somewhat agree   </td> <td>Strongly agree   </td> <td>Strongly agree   </td> <td>Somewhat agree   </td> <td>2     </td> <td>Every day            </td> <td>Every day           </td> <td>Once or twice a month</td> <td>Very important</td> <td>Very important</td> <td>Very important</td> <td>Important     </td> <td>Important           </td> <td>Very important      </td> <td>Very important</td> <td>Important           </td> <td>Important           </td> <td>Important           </td> <td>nan           </td> <td>nan        </td> <td>CNN,New York Times,Twitter,Facebook,Washington Post</td> <td>4           </td> <td>3            </td> <td>2           </td> <td>1           </td> <td>nan         </td> <td>5           </td> <td>nan          </td> <td>nan          </td> <td>nan          </td> <td>nan          </td> <td>nan          </td> <td>nan          </td> <td>nan         </td> <td>nan             </td> <td>No because:       </td> <td>nan       </td> <td>nan                                                         </td> <td>No for so, so many reasons                                  </td> <td>No because:</td> <td>nan       </td> <td>nan       </td> <td>No, they are not in line with my political views            </td> <td>Extremely knowledgeable </td> <td>Extremely knowledgeable </td> <td>Strongly agree            </td> <td>Strongly agree            </td> <td>Strongly agree            </td> <td>Strongly agree            </td> <td>Presidential elections and midterm elections are equally ...</td> <td>Yes:</td> <td>Yes, the Women's March and the March for our Lives     </td> <td>nan                                                         </td> <td>Probably yes  </td> <td>No  </td> <td>nan                      </td>\n",
       "        </tr>\n",
       "        <tr>\n",
       "            <td>2018-11-13 13:54:48</td> <td>2018-11-13 13:59:16</td> <td>IP Address</td> <td>107.77.213.31  </td> <td>100     </td> <td>267                  </td> <td>True    </td> <td>2018-11-13 13:59:16</td> <td>R_3kC9f0GCSUUsRHQ</td> <td>nan              </td> <td>nan               </td> <td>nan           </td> <td>nan              </td> <td>37.6374053955078125</td> <td>-122.0670013427734375 </td> <td>anonymous          </td> <td>EN          </td> <td>I consent</td> <td>College of Letters and Science (includes undeclared stud ...</td> <td>No  </td> <td>Life Sciences                             </td> <td>Yes </td> <td>Man  </td> <td>Mexican American/Chicanx   </td> <td>nan      </td> <td>20  </td> <td>No  </td> <td>In person                                                   </td> <td>nan       </td> <td>nan                            </td> <td>nan       </td> <td>Another California county</td> <td>4    </td> <td>No  </td> <td>I didn't agree with either candidate</td> <td>nan       </td> <td>I do not remember     </td> <td>Clinton  </td> <td>No                           </td> <td>nan               </td> <td>Sad             </td> <td>nan                                        </td> <td>Yes </td> <td>Volunteering        </td> <td>nan                                 </td> <td>1-3 hours per week</td> <td>Volunteering</td> <td>nan                                 </td> <td>Constantly  </td> <td>Occasionally</td> <td>nan                                                         </td> <td>nan       </td> <td>nan                    </td> <td>nan  </td> <td>nan </td> <td>nan                  </td> <td>nan                    </td> <td>nan                             </td> <td>nan                                                         </td> <td>nan       </td> <td>nan </td> <td>nan                                                    </td> <td>nan               </td> <td>1    </td> <td>2    </td> <td>3    </td> <td>4    </td> <td>nan  </td> <td>nan       </td> <td>No               </td> <td>No  </td> <td>No                          </td> <td>Neutral          </td> <td>Somewhat agree</td> <td>Somewhat agree   </td> <td>Somewhat agree   </td> <td>Somewhat disagree</td> <td>Somewhat agree   </td> <td>Somewhat agree   </td> <td>Somewhat agree   </td> <td>4     </td> <td>Once a week          </td> <td>Every day           </td> <td>Once or twice a year </td> <td>Very important</td> <td>Very important</td> <td>Very important</td> <td>Very important</td> <td>Very important      </td> <td>Very important      </td> <td>Very important</td> <td>Very important      </td> <td>Very important      </td> <td>Very important      </td> <td>Very important</td> <td>nan        </td> <td>Twitter,CNN,Facebook,VICE,Time                     </td> <td>3           </td> <td>1            </td> <td>nan         </td> <td>2           </td> <td>nan         </td> <td>nan         </td> <td>nan          </td> <td>nan          </td> <td>4            </td> <td>nan          </td> <td>5            </td> <td>nan          </td> <td>nan         </td> <td>nan             </td> <td>No because:       </td> <td>nan       </td> <td>nan                                                         </td> <td>He represents our country poorly                            </td> <td>No because:</td> <td>nan       </td> <td>nan       </td> <td>They alter the truth                                        </td> <td>Very knowledgeable      </td> <td>Very knowledgeable      </td> <td>Somewhat agree            </td> <td>Somewhat agree            </td> <td>Somewhat agree            </td> <td>Somewhat agree            </td> <td>Presidential elections and midterm elections are equally ...</td> <td>No: </td> <td>nan                                                    </td> <td>Safety reaskn                                               </td> <td>Definitely yes</td> <td>No  </td> <td>nan                      </td>\n",
       "        </tr>\n",
       "        <tr>\n",
       "            <td>2018-11-13 13:56:41</td> <td>2018-11-13 14:05:30</td> <td>IP Address</td> <td>136.152.143.66 </td> <td>100     </td> <td>529                  </td> <td>True    </td> <td>2018-11-13 14:05:31</td> <td>R_1LNBcK1Er6LKDjK</td> <td>nan              </td> <td>nan               </td> <td>nan           </td> <td>nan              </td> <td>37.8737945556640625</td> <td>-122.2548980712890625 </td> <td>anonymous          </td> <td>EN          </td> <td>I consent</td> <td>College of Letters and Science (includes undeclared stud ...</td> <td>No  </td> <td>Arts & Humanities,Social Sciences         </td> <td>Yes </td> <td>Woman</td> <td>Other Hispanic/Latinx,White</td> <td>nan      </td> <td>19  </td> <td>nan </td> <td>nan                                                         </td> <td>nan       </td> <td>nan                            </td> <td>nan       </td> <td>nan                      </td> <td>nan  </td> <td>nan </td> <td>nan                                 </td> <td>nan       </td> <td>nan                   </td> <td>nan      </td> <td>nan                          </td> <td>nan               </td> <td>Scared          </td> <td>nan                                        </td> <td>Yes </td> <td>Community engagement</td> <td>nan                                 </td> <td>I don't volunteer </td> <td>Voting      </td> <td>nan                                 </td> <td>Frequently  </td> <td>Frequently  </td> <td>Online                                                      </td> <td>nan       </td> <td>Alameda County         </td> <td>1    </td> <td>Yes </td> <td>No; I do not know how</td> <td>Absentee / mail  ballot</td> <td>nan                             </td> <td>Using a mail in ballot was more convenient for me as a s ...</td> <td>nan       </td> <td>Yes:</td> <td>First time I could vote!                               </td> <td>Mostly Democrats  </td> <td>2    </td> <td>4    </td> <td>1    </td> <td>3    </td> <td>nan  </td> <td>nan       </td> <td>Yes              </td> <td>No  </td> <td>I did not have work that day</td> <td>Somewhat disagree</td> <td>Somewhat agree</td> <td>Somewhat agree   </td> <td>Somewhat disagree</td> <td>Somewhat agree   </td> <td>Somewhat agree   </td> <td>Strongly agree   </td> <td>Strongly agree   </td> <td>3     </td> <td>Every couple of days </td> <td>Once a week         </td> <td>Once a week          </td> <td>Very important</td> <td>Very important</td> <td>Very important</td> <td>Very important</td> <td>Moderately important</td> <td>Very important      </td> <td>Very important</td> <td>Very important      </td> <td>Very important      </td> <td>Very important      </td> <td>nan           </td> <td>nan        </td> <td>Facebook,Other,Washington Post,New York Times,Time </td> <td>1           </td> <td>nan          </td> <td>4           </td> <td>nan         </td> <td>nan         </td> <td>3           </td> <td>nan          </td> <td>nan          </td> <td>nan          </td> <td>nan          </td> <td>5            </td> <td>nan          </td> <td>2           </td> <td>Snapchat        </td> <td>No opinion        </td> <td>nan       </td> <td>nan                                                         </td> <td>nan                                                         </td> <td>No opinion </td> <td>nan       </td> <td>nan       </td> <td>nan                                                         </td> <td>Very knowledgeable      </td> <td>Very knowledgeable      </td> <td>Strongly agree            </td> <td>Strongly agree            </td> <td>Somewhat agree            </td> <td>Somewhat agree            </td> <td>Presidential elections and midterm elections are equally ...</td> <td>No: </td> <td>nan                                                    </td> <td>Didn't feel I was in the right position to participate.  ...</td> <td>Probably yes  </td> <td>No  </td> <td>nan                      </td>\n",
       "        </tr>\n",
       "        <tr>\n",
       "            <td>2018-11-13 14:00:15</td> <td>2018-11-13 14:09:26</td> <td>IP Address</td> <td>172.58.37.101  </td> <td>100     </td> <td>550                  </td> <td>True    </td> <td>2018-11-13 14:09:27</td> <td>R_xzTq1uJITH03NKN</td> <td>nan              </td> <td>nan               </td> <td>nan           </td> <td>nan              </td> <td>37.3249053955078125</td> <td>-121.9152984619140625 </td> <td>anonymous          </td> <td>EN          </td> <td>I consent</td> <td>College of Letters and Science (includes undeclared stud ...</td> <td>No  </td> <td>Arts & Humanities,Business                </td> <td>Yes </td> <td>Man  </td> <td>Mexican American/Chicanx   </td> <td>nan      </td> <td>20  </td> <td>No  </td> <td>Online                                                      </td> <td>nan       </td> <td>nan                            </td> <td>nan       </td> <td>Another California county</td> <td>3    </td> <td>Yes </td> <td>nan                                 </td> <td>nan       </td> <td>Absentee / mail ballot</td> <td>Clinton  </td> <td>No                           </td> <td>No                </td> <td>Sad,Scared,Angry</td> <td>nan                                        </td> <td>Yes </td> <td>Voting              </td> <td>nan                                 </td> <td>1-3 hours per week</td> <td>Voting      </td> <td>nan                                 </td> <td>Occasionally</td> <td>Occasionally</td> <td>I was already registered and did not re-register.           </td> <td>nan       </td> <td>nan                    </td> <td>nan  </td> <td>Yes </td> <td>Yes; it was counted  </td> <td>Absentee / mail  ballot</td> <td>nan                             </td> <td>Voted in LA County                                          </td> <td>nan       </td> <td>No  </td> <td>nan                                                    </td> <td>Only Democrats    </td> <td>1    </td> <td>4    </td> <td>3    </td> <td>3    </td> <td>nan  </td> <td>nan       </td> <td>No               </td> <td>No  </td> <td>No                          </td> <td>Strongly agree   </td> <td>Strongly agree</td> <td>Strongly agree   </td> <td>Strongly disagree</td> <td>Strongly disagree</td> <td>Strongly disagree</td> <td>Strongly disagree</td> <td>Strongly disagree</td> <td>1     </td> <td>Every couple of days </td> <td>Once a week         </td> <td>Never                </td> <td>Very important</td> <td>Very important</td> <td>Very important</td> <td>Very important</td> <td>Very important      </td> <td>Very important      </td> <td>Very important</td> <td>Very important      </td> <td>Very important      </td> <td>Very important      </td> <td>Not important </td> <td>nan        </td> <td>Twitter,Facebook,CNN,Fox News,New York Times       </td> <td>2           </td> <td>1            </td> <td>5           </td> <td>3           </td> <td>4           </td> <td>nan         </td> <td>nan          </td> <td>nan          </td> <td>nan          </td> <td>nan          </td> <td>nan          </td> <td>nan          </td> <td>nan         </td> <td>nan             </td> <td>No because:       </td> <td>nan       </td> <td>nan                                                         </td> <td>He’s a fucking idiot.                                       </td> <td>No because:</td> <td>nan       </td> <td>nan       </td> <td>They’re instuitionally made to oppress minorities (NON W ...</td> <td>Very knowledgeable      </td> <td>Moderately knowledgeable</td> <td>Strongly agree            </td> <td>Neither agree nor disagree</td> <td>Neither agree nor disagree</td> <td>Neither agree nor disagree</td> <td>Presidential elections and midterm elections are equally ...</td> <td>Yes:</td> <td>Yes                                                    </td> <td>nan                                                         </td> <td>Definitely yes</td> <td>No  </td> <td>nan                      </td>\n",
       "        </tr>\n",
       "        <tr>\n",
       "            <td>2018-11-13 14:01:57</td> <td>2018-11-13 14:10:10</td> <td>IP Address</td> <td>73.93.143.2    </td> <td>100     </td> <td>493                  </td> <td>True    </td> <td>2018-11-13 14:10:11</td> <td>R_1MLm3lv4iHxUmaA</td> <td>nan              </td> <td>nan               </td> <td>nan           </td> <td>nan              </td> <td>37.7917022705078125</td> <td>-122.4185943603515625 </td> <td>anonymous          </td> <td>EN          </td> <td>I consent</td> <td>College of Natural Resources                                </td> <td>No  </td> <td>Social Sciences                           </td> <td>No  </td> <td>Woman</td> <td>White                      </td> <td>nan      </td> <td>21  </td> <td>No  </td> <td>Online                                                      </td> <td>nan       </td> <td>nan                            </td> <td>nan       </td> <td>Out-of-state             </td> <td>1    </td> <td>Yes </td> <td>nan                                 </td> <td>nan       </td> <td>Absentee / mail ballot</td> <td>Clinton  </td> <td>I do not remember            </td> <td>I do not remember.</td> <td>Sad,Scared,Angry</td> <td>nan                                        </td> <td>Yes </td> <td>Community engagement</td> <td>nan                                 </td> <td>1-3 hours per week</td> <td>Voting      </td> <td>nan                                 </td> <td>Occasionally</td> <td>Occasionally</td> <td>Online                                                      </td> <td>nan       </td> <td>Out-of-state           </td> <td>1    </td> <td>Yes </td> <td>Yes; it was counted  </td> <td>Absentee / mail  ballot</td> <td>nan                             </td> <td>I am out of state                                           </td> <td>nan       </td> <td>Yes:</td> <td>Trump                                                  </td> <td>Only Democrats    </td> <td>nan  </td> <td>nan  </td> <td>nan  </td> <td>1    </td> <td>nan  </td> <td>nan       </td> <td>Yes              </td> <td>No  </td> <td>No                          </td> <td>Neutral          </td> <td>Strongly agree</td> <td>Somewhat agree   </td> <td>Somewhat disagree</td> <td>Somewhat disagree</td> <td>Somewhat agree   </td> <td>Somewhat agree   </td> <td>Somewhat disagree</td> <td>2     </td> <td>Every day            </td> <td>Every day           </td> <td>Never                </td> <td>Very important</td> <td>Very important</td> <td>Very important</td> <td>Very important</td> <td>Moderately important</td> <td>Very important      </td> <td>Very important</td> <td>Very important      </td> <td>Very important      </td> <td>Very important      </td> <td>nan           </td> <td>nan        </td> <td>CNN,NPR,New York Times,Facebook,Washington Post    </td> <td>4           </td> <td>nan          </td> <td>3           </td> <td>1           </td> <td>nan         </td> <td>5           </td> <td>nan          </td> <td>nan          </td> <td>nan          </td> <td>2            </td> <td>nan          </td> <td>nan          </td> <td>nan         </td> <td>nan             </td> <td>No because:       </td> <td>nan       </td> <td>nan                                                         </td> <td>He normalizes violent, hateful rhetoric and I disagree w ...</td> <td>No because:</td> <td>nan       </td> <td>nan       </td> <td>I disagree with their stances                               </td> <td>Moderately knowledgeable</td> <td>Very knowledgeable      </td> <td>Strongly agree            </td> <td>Somewhat agree            </td> <td>Strongly agree            </td> <td>Strongly agree            </td> <td>Presidential elections and midterm elections are equally ...</td> <td>Yes:</td> <td>on campus                                              </td> <td>nan                                                         </td> <td>Definitely yes</td> <td>No  </td> <td>nan                      </td>\n",
       "        </tr>\n",
       "        <tr>\n",
       "            <td>2018-11-13 14:08:54</td> <td>2018-11-13 14:20:48</td> <td>IP Address</td> <td>172.58.30.201  </td> <td>100     </td> <td>714                  </td> <td>True    </td> <td>2018-11-13 14:20:49</td> <td>R_2zu20BOsImylCVp</td> <td>nan              </td> <td>nan               </td> <td>nan           </td> <td>nan              </td> <td>34.0657958984375   </td> <td>-118.085296630859375  </td> <td>anonymous          </td> <td>EN          </td> <td>I consent</td> <td>College of Letters and Science (includes undeclared stud ...</td> <td>Yes </td> <td>Arts & Humanities                         </td> <td>Yes </td> <td>Man  </td> <td>Other Hispanic/Latinx      </td> <td>nan      </td> <td>25+ </td> <td>No  </td> <td>Automatic voter registration via the California Departme ...</td> <td>nan       </td> <td>nan                            </td> <td>nan       </td> <td>Another California county</td> <td>2    </td> <td>Yes </td> <td>nan                                 </td> <td>nan       </td> <td>Polling station       </td> <td>3rd party</td> <td>I did not have class that day</td> <td>nan               </td> <td>Angry           </td> <td>nan                                        </td> <td>No  </td> <td>Community engagement</td> <td>nan                                 </td> <td>I don't volunteer </td> <td>Voting      </td> <td>nan                                 </td> <td>Occasionally</td> <td>Never       </td> <td>Online                                                      </td> <td>nan       </td> <td>Alameda County         </td> <td>2    </td> <td>Yes </td> <td>Yes; it was counted  </td> <td>Polling station        </td> <td>Cause it’s fun to vote in person</td> <td>nan                                                         </td> <td>nan       </td> <td>Yes:</td> <td>I always vote every midterm and presidential election. </td> <td>Only Democrats    </td> <td>1    </td> <td>3    </td> <td>4    </td> <td>2    </td> <td>nan  </td> <td>nan       </td> <td>I do not remember</td> <td>No  </td> <td>I did not have work that day</td> <td>Neutral          </td> <td>Strongly agree</td> <td>Strongly agree   </td> <td>Neutral          </td> <td>Somewhat agree   </td> <td>Strongly agree   </td> <td>Somewhat disagree</td> <td>Strongly disagree</td> <td>4     </td> <td>Once or twice a year </td> <td>Once or twice a year</td> <td>Never                </td> <td>Very important</td> <td>Very important</td> <td>Very important</td> <td>Very important</td> <td>Important           </td> <td>Important           </td> <td>Important     </td> <td>Important           </td> <td>Important           </td> <td>Important           </td> <td>Not important </td> <td>nan        </td> <td>Twitter,Washington Post,Other                      </td> <td>nan         </td> <td>1            </td> <td>nan         </td> <td>nan         </td> <td>nan         </td> <td>2           </td> <td>nan          </td> <td>nan          </td> <td>nan          </td> <td>nan          </td> <td>nan          </td> <td>nan          </td> <td>3           </td> <td>Business insider</td> <td>No because:       </td> <td>nan       </td> <td>nan                                                         </td> <td>He is unprofessional, extremely rude, racist, and uses f ...</td> <td>No because:</td> <td>nan       </td> <td>nan       </td> <td>They hurt us socially                                       </td> <td>Slightly knowledgeable  </td> <td>Moderately knowledgeable</td> <td>Strongly agree            </td> <td>Strongly agree            </td> <td>Strongly agree            </td> <td>Strongly agree            </td> <td>Presidential elections and midterm elections are equally ...</td> <td>No: </td> <td>nan                                                    </td> <td>I have not been in a protest in the last 24 hours           </td> <td>Definitely yes</td> <td>No  </td> <td>nan                      </td>\n",
       "        </tr>\n",
       "        <tr>\n",
       "            <td>2018-11-13 14:11:24</td> <td>2018-11-13 14:25:56</td> <td>IP Address</td> <td>71.202.15.24   </td> <td>100     </td> <td>871                  </td> <td>True    </td> <td>2018-11-13 14:25:56</td> <td>R_1Lvq8TXzwJ6DyyV</td> <td>nan              </td> <td>nan               </td> <td>nan           </td> <td>nan              </td> <td>37.869598388671875 </td> <td>-122.2958984375       </td> <td>anonymous          </td> <td>EN          </td> <td>I consent</td> <td>College of Letters and Science (includes undeclared stud ...</td> <td>No  </td> <td>Engineering/Computer Science,Life Sciences</td> <td>Yes </td> <td>Man  </td> <td>White                      </td> <td>nan      </td> <td>21  </td> <td>No  </td> <td>I did not register to vote in 2016.                         </td> <td>nan       </td> <td>I didn't feel inclined to vote.</td> <td>nan       </td> <td>nan                      </td> <td>nan  </td> <td>nan </td> <td>nan                                 </td> <td>nan       </td> <td>nan                   </td> <td>nan      </td> <td>I do not remember            </td> <td>nan               </td> <td>Other           </td> <td>Neutral. An emotional response is childish.</td> <td>No  </td> <td>Other               </td> <td>Strategic spending and manipulation.</td> <td>I don't volunteer </td> <td>Other:      </td> <td>Strategic spending and manipulation.</td> <td>Never       </td> <td>Never       </td> <td>nan                                                         </td> <td>nan       </td> <td>nan                    </td> <td>nan  </td> <td>nan </td> <td>nan                  </td> <td>nan                    </td> <td>nan                             </td> <td>nan                                                         </td> <td>nan       </td> <td>nan </td> <td>nan                                                    </td> <td>nan               </td> <td>1    </td> <td>2    </td> <td>3    </td> <td>4    </td> <td>nan  </td> <td>nan       </td> <td>No               </td> <td>Yes </td> <td>I do not have a job         </td> <td>Strongly disagree</td> <td>Neutral       </td> <td>Strongly disagree</td> <td>Somewhat disagree</td> <td>Somewhat agree   </td> <td>Neutral          </td> <td>Strongly disagree</td> <td>Strongly disagree</td> <td>5     </td> <td>Every couple of days </td> <td>Every couple of days</td> <td>Never                </td> <td>Very important</td> <td>Important     </td> <td>Important     </td> <td>Very important</td> <td>Very important      </td> <td>Very important      </td> <td>Very important</td> <td>Moderately important</td> <td>Important           </td> <td>Moderately important</td> <td>nan           </td> <td>nan        </td> <td>New York Times,CNN,Washington Post,NPR,Fox News    </td> <td>nan         </td> <td>nan          </td> <td>1           </td> <td>2           </td> <td>5           </td> <td>3           </td> <td>nan          </td> <td>nan          </td> <td>nan          </td> <td>4            </td> <td>nan          </td> <td>nan          </td> <td>nan         </td> <td>nan             </td> <td>No because:       </td> <td>nan       </td> <td>nan                                                         </td> <td>He is an idiot, and a distraction.                          </td> <td>No opinion </td> <td>nan       </td> <td>nan       </td> <td>nan                                                         </td> <td>Slightly knowledgeable  </td> <td>Slightly knowledgeable  </td> <td>Neither agree nor disagree</td> <td>Neither agree nor disagree</td> <td>Neither agree nor disagree</td> <td>Strongly disagree         </td> <td>Presidential elections and midterm elections are equally ...</td> <td>No: </td> <td>nan                                                    </td> <td>Protesting is idiotic in my opinion, and a waste of time ...</td> <td>Definitely not</td> <td>No  </td> <td>nan                      </td>\n",
       "        </tr>\n",
       "        <tr>\n",
       "            <td>2018-11-13 14:32:08</td> <td>2018-11-13 14:40:59</td> <td>IP Address</td> <td>136.152.143.22 </td> <td>100     </td> <td>530                  </td> <td>True    </td> <td>2018-11-13 14:40:59</td> <td>R_2e265Wega3VKJL2</td> <td>nan              </td> <td>nan               </td> <td>nan           </td> <td>nan              </td> <td>37.8737945556640625</td> <td>-122.2548980712890625 </td> <td>anonymous          </td> <td>EN          </td> <td>I consent</td> <td>College of Letters and Science (includes undeclared stud ...</td> <td>No  </td> <td>Arts & Humanities                         </td> <td>Yes </td> <td>Woman</td> <td>Other                      </td> <td>Jewish   </td> <td>20  </td> <td>Yes </td> <td>Online                                                      </td> <td>nan       </td> <td>nan                            </td> <td>nan       </td> <td>Another California county</td> <td>3    </td> <td>Yes </td> <td>nan                                 </td> <td>nan       </td> <td>Absentee / mail ballot</td> <td>Clinton  </td> <td>I do not remember            </td> <td>nan               </td> <td>Sad,Scared,Angry</td> <td>nan                                        </td> <td>Yes </td> <td>Voting              </td> <td>nan                                 </td> <td>1-3 hours per week</td> <td>Voting      </td> <td>nan                                 </td> <td>Occasionally</td> <td>Never       </td> <td>Online                                                      </td> <td>nan       </td> <td>Alameda County         </td> <td>3    </td> <td>Yes </td> <td>No; I do not know how</td> <td>Absentee / mail  ballot</td> <td>nan                             </td> <td>I wanted to vote in the comfort of my own home              </td> <td>nan       </td> <td>No  </td> <td>nan                                                    </td> <td>Mostly Democrats  </td> <td>3    </td> <td>nan  </td> <td>1    </td> <td>2    </td> <td>nan  </td> <td>nan       </td> <td>I do not remember</td> <td>No  </td> <td>I did not have work that day</td> <td>Neutral          </td> <td>Strongly agree</td> <td>Strongly agree   </td> <td>Strongly agree   </td> <td>Somewhat agree   </td> <td>Somewhat agree   </td> <td>Somewhat agree   </td> <td>Somewhat disagree</td> <td>5     </td> <td>Every couple of days </td> <td>Every couple of days</td> <td>Once or twice a year </td> <td>Very important</td> <td>Important     </td> <td>Important     </td> <td>Very important</td> <td>Very important      </td> <td>Important           </td> <td>Very important</td> <td>Very important      </td> <td>Slightly important  </td> <td>Slightly important  </td> <td>Very important</td> <td>Education  </td> <td>Facebook,New York Times,CNN,Washington Post        </td> <td>1           </td> <td>nan          </td> <td>2           </td> <td>3           </td> <td>nan         </td> <td>4           </td> <td>nan          </td> <td>nan          </td> <td>nan          </td> <td>nan          </td> <td>nan          </td> <td>nan          </td> <td>nan         </td> <td>nan             </td> <td>Sometimes because:</td> <td>nan       </td> <td>I agree with his supporting Israel and tax cuts for corp ...</td> <td>nan                                                         </td> <td>No because:</td> <td>nan       </td> <td>nan       </td> <td>No. They have done nothing good for marginalized populat ...</td> <td>Moderately knowledgeable</td> <td>Moderately knowledgeable</td> <td>Strongly agree            </td> <td>Strongly disagree         </td> <td>Strongly disagree         </td> <td>Strongly agree            </td> <td>Presidential elections and midterm elections are equally ...</td> <td>Yes:</td> <td>Women’s march, resign senator chow protest, voter rally</td> <td>nan                                                         </td> <td>Probably yes  </td> <td>Yes </td> <td>Thank you for doing this!</td>\n",
       "        </tr>\n",
       "    </tbody>\n",
       "</table>\n",
       "<p>... (537 rows omitted)</p>"
      ],
      "text/plain": [
       "StartDate           | EndDate             | Status     | IPAddress       | Progress | Duration (in seconds) | Finished | RecordedDate        | ResponseId        | RecipientLastName | RecipientFirstName | RecipientEmail | ExternalReference | LocationLatitude    | LocationLongitude      | DistributionChannel | UserLanguage | Q1        | Q3                                                           | Q4   | Q5                                         | Q6   | Q7    | Q8                          | Q8_9_TEXT | Q9   | Q10  | Q11                                                          | Q11_4_TEXT | Q12                             | Q12_7_TEXT | Q13                       | Q14_1 | Q15  | Q56                                  | Q56_8_TEXT | Q16                    | Q17       | Q18                           | Q19                | Q20              | Q20_7_TEXT                                  | Q21  | Q23                  | Q23_5_TEXT                           | Q24                | Q25          | Q25_7_TEXT                           | Q26_1        | Q26_2        | Q27                                                          | Q27_9_TEXT | Q28                     | Q29_1 | Q30  | Q31                   | Q32                     | Q32_1_TEXT                       | Q32_2_TEXT                                                   | Q32_3_TEXT | Q33  | Q33_1_TEXT                                              | Q55                | Q34_1 | Q34_2 | Q34_3 | Q34_7 | Q34_6 | Q34_6_TEXT | Q35               | Q36  | Q37                          | Q39_1             | Q39_2          | Q39_3             | Q39_4             | Q39_5             | Q40_1             | Q40_2             | Q40_3             | Q41_23 | Q42_1                 | Q42_2                | Q42_3                 | Q43_1          | Q43_2          | Q43_3          | Q43_4          | Q43_5                | Q43_6                | Q43_7          | Q43_8                | Q43_9                | Q43_10               | Q43_11         | Q43_11_TEXT | Q44_0_GROUP                                         | Q44_0_1_RANK | Q44_0_15_RANK | Q44_0_4_RANK | Q44_0_5_RANK | Q44_0_6_RANK | Q44_0_9_RANK | Q44_0_10_RANK | Q44_0_11_RANK | Q44_0_12_RANK | Q44_0_13_RANK | Q44_0_14_RANK | Q44_0_16_RANK | Q44_0_8_RANK | Q44_8_TEXT       | Q45                | Q45_1_TEXT | Q45_2_TEXT                                                   | Q45_3_TEXT                                                   | Q46         | Q46_1_TEXT | Q46_2_TEXT | Q46_3_TEXT                                                   | Q47_1                    | Q47_2                    | Q48_1                      | Q48_2                      | Q48_3                      | Q48_4                      | Q49                                                          | Q50  | Q50_1_TEXT                                              | Q50_2_TEXT                                                   | Q51            | Q52  | Q52_1_TEXT\n",
       "2018-11-13 13:37:27 | 2018-11-13 13:48:30 | IP Address | 136.152.143.179 | 100      | 663                   | True     | 2018-11-13 13:48:31 | R_xA58gXXjXE5t4vD | nan               | nan                | nan            | nan               | 37.8737945556640625 | -122.2548980712890625  | anonymous           | EN           | I consent | College of Letters and Science (includes undeclared stud ... | No   | Social Sciences                            | Yes  | Woman | White                       | nan       | 21   | No   | In person                                                    | nan        | nan                             | nan        | Another California county | 3     | Yes  | nan                                  | nan        | Polling station        | Trump     | No                            | nan                | Happy            | nan                                         | Yes  | Volunteering         | nan                                  | 1-3 hours per week | Voting       | nan                                  | Occasionally | Never        | I was already registered and did not re-register.            | nan        | nan                     | nan   | Yes  | No; I did not check   | Absentee / mail  ballot | nan                              | I was at school and my polling station was down in south ... | nan        | No   | nan                                                     | Mostly Republicans | 4     | 3     | 1     | 2     | nan   | nan        | Yes               | No   | I did not have work that day | Neutral           | Somewhat agree | Strongly disagree | Neutral           | Somewhat disagree | Strongly disagree | Strongly disagree | Strongly disagree | 7      | Once or twice a year  | Every day            | Every day             | Very important | Very important | Very important | Very important | Very important       | Very important       | Very important | Very important       | Very important       | Very important       | nan            | nan         | Fox News,New York Times,CBS,Twitter,CNN             | nan          | 4             | 2            | 5            | 1            | nan          | 3             | nan           | nan           | nan           | nan           | nan           | nan          | nan              | Sometimes because: | nan        | He is doing what he said he would be needs to chill with ... | nan                                                          | No opinion  | nan        | nan        | nan                                                          | Moderately knowledgeable | Slightly knowledgeable   | Strongly agree             | Somewhat agree             | Somewhat agree             | Strongly agree             | Presidential elections are more important                    | No:  | nan                                                     | nan                                                          | Probably yes   | No   | nan\n",
       "2018-11-13 13:42:15 | 2018-11-13 13:54:07 | IP Address | 67.160.238.12   | 100      | 712                   | True     | 2018-11-13 13:54:08 | R_T1qHpCfq74QzG9z | nan               | nan                | nan            | nan               | 37.51739501953125   | -122.29270172119140625 | anonymous           | EN           | I consent | College of Engineering                                       | Yes  | Engineering/Computer Science               | Yes  | Man   | White                       | nan       | 20   | No   | Online                                                       | nan        | nan                             | nan        | Another California county | 3     | Yes  | nan                                  | nan        | Polling station        | Trump     | I do not remember             | nan                | nan              | nan                                         | No   | Volunteering         | nan                                  | 1-3 hours per week | Voting       | nan                                  | Moderately   | Never        | Automatic registration via the California Department of  ... | nan        | Other California county | 3     | Yes  | No; I do not know how | Absentee / mail  ballot | nan                              | Easy                                                         | nan        | No   | nan                                                     | Mostly Republicans | 1     | 3     | 2     | 4     | nan   | nan        | No                | No   | I did not have work that day | Somewhat agree    | Strongly agree | Strongly agree    | Neutral           | Neutral           | Somewhat agree    | Somewhat disagree | Somewhat disagree | 7      | Once or twice a month | Once a week          | Never                 | Very important | Important      | Important      | Important      | Moderately important | Moderately important | Important      | Moderately important | Moderately important | Moderately important | nan            | nan         | nan                                                 | nan          | nan           | nan          | nan          | nan          | nan          | nan           | nan           | nan           | nan           | nan           | nan           | nan          | nan              | nan                | nan        | nan                                                          | nan                                                          | nan         | nan        | nan        | nan                                                          | Slightly knowledgeable   | Very knowledgeable       | Strongly agree             | Somewhat agree             | Somewhat agree             | Somewhat agree             | Presidential elections are more important                    | No:  | nan                                                     | No                                                           | Probably yes   | No   | nan\n",
       "2018-11-13 13:40:17 | 2018-11-13 13:56:41 | IP Address | 192.31.105.240  | 100      | 983                   | True     | 2018-11-13 13:56:42 | R_1lAiYt3HSH063Or | nan               | nan                | nan            | nan               | 37.8737945556640625 | -122.2548980712890625  | anonymous           | EN           | I consent | College of Letters and Science (includes undeclared stud ... | No   | Social Sciences                            | Yes  | Woman | Asian,White                 | nan       | 18   | nan  | nan                                                          | nan        | nan                             | nan        | nan                       | nan   | nan  | nan                                  | nan        | nan                    | nan       | nan                           | nan                | Sad,Scared,Angry | nan                                         | Yes  | Community engagement | nan                                  | 1-3 hours per week | Voting       | nan                                  | Moderately   | Frequently   | I was already registered and did not re-register.            | nan        | nan                     | nan   | Yes  | Yes; it was counted   | Absentee / mail  ballot | nan                              | I wanted to vote in my county and now live in Berkeley.  ... | nan        | No   | nan                                                     | Only Democrats     | nan   | nan   | nan   | nan   | nan   | nan        | Yes               | No   | I did not have work that day | Strongly agree    | Strongly agree | Strongly agree    | Somewhat agree    | Somewhat agree    | Strongly agree    | Strongly agree    | Somewhat agree    | 2      | Every day             | Every day            | Once or twice a month | Very important | Very important | Very important | Important      | Important            | Very important       | Very important | Important            | Important            | Important            | nan            | nan         | CNN,New York Times,Twitter,Facebook,Washington Post | 4            | 3             | 2            | 1            | nan          | 5            | nan           | nan           | nan           | nan           | nan           | nan           | nan          | nan              | No because:        | nan        | nan                                                          | No for so, so many reasons                                   | No because: | nan        | nan        | No, they are not in line with my political views             | Extremely knowledgeable  | Extremely knowledgeable  | Strongly agree             | Strongly agree             | Strongly agree             | Strongly agree             | Presidential elections and midterm elections are equally ... | Yes: | Yes, the Women's March and the March for our Lives      | nan                                                          | Probably yes   | No   | nan\n",
       "2018-11-13 13:54:48 | 2018-11-13 13:59:16 | IP Address | 107.77.213.31   | 100      | 267                   | True     | 2018-11-13 13:59:16 | R_3kC9f0GCSUUsRHQ | nan               | nan                | nan            | nan               | 37.6374053955078125 | -122.0670013427734375  | anonymous           | EN           | I consent | College of Letters and Science (includes undeclared stud ... | No   | Life Sciences                              | Yes  | Man   | Mexican American/Chicanx    | nan       | 20   | No   | In person                                                    | nan        | nan                             | nan        | Another California county | 4     | No   | I didn't agree with either candidate | nan        | I do not remember      | Clinton   | No                            | nan                | Sad              | nan                                         | Yes  | Volunteering         | nan                                  | 1-3 hours per week | Volunteering | nan                                  | Constantly   | Occasionally | nan                                                          | nan        | nan                     | nan   | nan  | nan                   | nan                     | nan                              | nan                                                          | nan        | nan  | nan                                                     | nan                | 1     | 2     | 3     | 4     | nan   | nan        | No                | No   | No                           | Neutral           | Somewhat agree | Somewhat agree    | Somewhat agree    | Somewhat disagree | Somewhat agree    | Somewhat agree    | Somewhat agree    | 4      | Once a week           | Every day            | Once or twice a year  | Very important | Very important | Very important | Very important | Very important       | Very important       | Very important | Very important       | Very important       | Very important       | Very important | nan         | Twitter,CNN,Facebook,VICE,Time                      | 3            | 1             | nan          | 2            | nan          | nan          | nan           | nan           | 4             | nan           | 5             | nan           | nan          | nan              | No because:        | nan        | nan                                                          | He represents our country poorly                             | No because: | nan        | nan        | They alter the truth                                         | Very knowledgeable       | Very knowledgeable       | Somewhat agree             | Somewhat agree             | Somewhat agree             | Somewhat agree             | Presidential elections and midterm elections are equally ... | No:  | nan                                                     | Safety reaskn                                                | Definitely yes | No   | nan\n",
       "2018-11-13 13:56:41 | 2018-11-13 14:05:30 | IP Address | 136.152.143.66  | 100      | 529                   | True     | 2018-11-13 14:05:31 | R_1LNBcK1Er6LKDjK | nan               | nan                | nan            | nan               | 37.8737945556640625 | -122.2548980712890625  | anonymous           | EN           | I consent | College of Letters and Science (includes undeclared stud ... | No   | Arts & Humanities,Social Sciences          | Yes  | Woman | Other Hispanic/Latinx,White | nan       | 19   | nan  | nan                                                          | nan        | nan                             | nan        | nan                       | nan   | nan  | nan                                  | nan        | nan                    | nan       | nan                           | nan                | Scared           | nan                                         | Yes  | Community engagement | nan                                  | I don't volunteer  | Voting       | nan                                  | Frequently   | Frequently   | Online                                                       | nan        | Alameda County          | 1     | Yes  | No; I do not know how | Absentee / mail  ballot | nan                              | Using a mail in ballot was more convenient for me as a s ... | nan        | Yes: | First time I could vote!                                | Mostly Democrats   | 2     | 4     | 1     | 3     | nan   | nan        | Yes               | No   | I did not have work that day | Somewhat disagree | Somewhat agree | Somewhat agree    | Somewhat disagree | Somewhat agree    | Somewhat agree    | Strongly agree    | Strongly agree    | 3      | Every couple of days  | Once a week          | Once a week           | Very important | Very important | Very important | Very important | Moderately important | Very important       | Very important | Very important       | Very important       | Very important       | nan            | nan         | Facebook,Other,Washington Post,New York Times,Time  | 1            | nan           | 4            | nan          | nan          | 3            | nan           | nan           | nan           | nan           | 5             | nan           | 2            | Snapchat         | No opinion         | nan        | nan                                                          | nan                                                          | No opinion  | nan        | nan        | nan                                                          | Very knowledgeable       | Very knowledgeable       | Strongly agree             | Strongly agree             | Somewhat agree             | Somewhat agree             | Presidential elections and midterm elections are equally ... | No:  | nan                                                     | Didn't feel I was in the right position to participate.  ... | Probably yes   | No   | nan\n",
       "2018-11-13 14:00:15 | 2018-11-13 14:09:26 | IP Address | 172.58.37.101   | 100      | 550                   | True     | 2018-11-13 14:09:27 | R_xzTq1uJITH03NKN | nan               | nan                | nan            | nan               | 37.3249053955078125 | -121.9152984619140625  | anonymous           | EN           | I consent | College of Letters and Science (includes undeclared stud ... | No   | Arts & Humanities,Business                 | Yes  | Man   | Mexican American/Chicanx    | nan       | 20   | No   | Online                                                       | nan        | nan                             | nan        | Another California county | 3     | Yes  | nan                                  | nan        | Absentee / mail ballot | Clinton   | No                            | No                 | Sad,Scared,Angry | nan                                         | Yes  | Voting               | nan                                  | 1-3 hours per week | Voting       | nan                                  | Occasionally | Occasionally | I was already registered and did not re-register.            | nan        | nan                     | nan   | Yes  | Yes; it was counted   | Absentee / mail  ballot | nan                              | Voted in LA County                                           | nan        | No   | nan                                                     | Only Democrats     | 1     | 4     | 3     | 3     | nan   | nan        | No                | No   | No                           | Strongly agree    | Strongly agree | Strongly agree    | Strongly disagree | Strongly disagree | Strongly disagree | Strongly disagree | Strongly disagree | 1      | Every couple of days  | Once a week          | Never                 | Very important | Very important | Very important | Very important | Very important       | Very important       | Very important | Very important       | Very important       | Very important       | Not important  | nan         | Twitter,Facebook,CNN,Fox News,New York Times        | 2            | 1             | 5            | 3            | 4            | nan          | nan           | nan           | nan           | nan           | nan           | nan           | nan          | nan              | No because:        | nan        | nan                                                          | He’s a fucking idiot.                                        | No because: | nan        | nan        | They’re instuitionally made to oppress minorities (NON W ... | Very knowledgeable       | Moderately knowledgeable | Strongly agree             | Neither agree nor disagree | Neither agree nor disagree | Neither agree nor disagree | Presidential elections and midterm elections are equally ... | Yes: | Yes                                                     | nan                                                          | Definitely yes | No   | nan\n",
       "2018-11-13 14:01:57 | 2018-11-13 14:10:10 | IP Address | 73.93.143.2     | 100      | 493                   | True     | 2018-11-13 14:10:11 | R_1MLm3lv4iHxUmaA | nan               | nan                | nan            | nan               | 37.7917022705078125 | -122.4185943603515625  | anonymous           | EN           | I consent | College of Natural Resources                                 | No   | Social Sciences                            | No   | Woman | White                       | nan       | 21   | No   | Online                                                       | nan        | nan                             | nan        | Out-of-state              | 1     | Yes  | nan                                  | nan        | Absentee / mail ballot | Clinton   | I do not remember             | I do not remember. | Sad,Scared,Angry | nan                                         | Yes  | Community engagement | nan                                  | 1-3 hours per week | Voting       | nan                                  | Occasionally | Occasionally | Online                                                       | nan        | Out-of-state            | 1     | Yes  | Yes; it was counted   | Absentee / mail  ballot | nan                              | I am out of state                                            | nan        | Yes: | Trump                                                   | Only Democrats     | nan   | nan   | nan   | 1     | nan   | nan        | Yes               | No   | No                           | Neutral           | Strongly agree | Somewhat agree    | Somewhat disagree | Somewhat disagree | Somewhat agree    | Somewhat agree    | Somewhat disagree | 2      | Every day             | Every day            | Never                 | Very important | Very important | Very important | Very important | Moderately important | Very important       | Very important | Very important       | Very important       | Very important       | nan            | nan         | CNN,NPR,New York Times,Facebook,Washington Post     | 4            | nan           | 3            | 1            | nan          | 5            | nan           | nan           | nan           | 2             | nan           | nan           | nan          | nan              | No because:        | nan        | nan                                                          | He normalizes violent, hateful rhetoric and I disagree w ... | No because: | nan        | nan        | I disagree with their stances                                | Moderately knowledgeable | Very knowledgeable       | Strongly agree             | Somewhat agree             | Strongly agree             | Strongly agree             | Presidential elections and midterm elections are equally ... | Yes: | on campus                                               | nan                                                          | Definitely yes | No   | nan\n",
       "2018-11-13 14:08:54 | 2018-11-13 14:20:48 | IP Address | 172.58.30.201   | 100      | 714                   | True     | 2018-11-13 14:20:49 | R_2zu20BOsImylCVp | nan               | nan                | nan            | nan               | 34.0657958984375    | -118.085296630859375   | anonymous           | EN           | I consent | College of Letters and Science (includes undeclared stud ... | Yes  | Arts & Humanities                          | Yes  | Man   | Other Hispanic/Latinx       | nan       | 25+  | No   | Automatic voter registration via the California Departme ... | nan        | nan                             | nan        | Another California county | 2     | Yes  | nan                                  | nan        | Polling station        | 3rd party | I did not have class that day | nan                | Angry            | nan                                         | No   | Community engagement | nan                                  | I don't volunteer  | Voting       | nan                                  | Occasionally | Never        | Online                                                       | nan        | Alameda County          | 2     | Yes  | Yes; it was counted   | Polling station         | Cause it’s fun to vote in person | nan                                                          | nan        | Yes: | I always vote every midterm and presidential election.  | Only Democrats     | 1     | 3     | 4     | 2     | nan   | nan        | I do not remember | No   | I did not have work that day | Neutral           | Strongly agree | Strongly agree    | Neutral           | Somewhat agree    | Strongly agree    | Somewhat disagree | Strongly disagree | 4      | Once or twice a year  | Once or twice a year | Never                 | Very important | Very important | Very important | Very important | Important            | Important            | Important      | Important            | Important            | Important            | Not important  | nan         | Twitter,Washington Post,Other                       | nan          | 1             | nan          | nan          | nan          | 2            | nan           | nan           | nan           | nan           | nan           | nan           | 3            | Business insider | No because:        | nan        | nan                                                          | He is unprofessional, extremely rude, racist, and uses f ... | No because: | nan        | nan        | They hurt us socially                                        | Slightly knowledgeable   | Moderately knowledgeable | Strongly agree             | Strongly agree             | Strongly agree             | Strongly agree             | Presidential elections and midterm elections are equally ... | No:  | nan                                                     | I have not been in a protest in the last 24 hours            | Definitely yes | No   | nan\n",
       "2018-11-13 14:11:24 | 2018-11-13 14:25:56 | IP Address | 71.202.15.24    | 100      | 871                   | True     | 2018-11-13 14:25:56 | R_1Lvq8TXzwJ6DyyV | nan               | nan                | nan            | nan               | 37.869598388671875  | -122.2958984375        | anonymous           | EN           | I consent | College of Letters and Science (includes undeclared stud ... | No   | Engineering/Computer Science,Life Sciences | Yes  | Man   | White                       | nan       | 21   | No   | I did not register to vote in 2016.                          | nan        | I didn't feel inclined to vote. | nan        | nan                       | nan   | nan  | nan                                  | nan        | nan                    | nan       | I do not remember             | nan                | Other            | Neutral. An emotional response is childish. | No   | Other                | Strategic spending and manipulation. | I don't volunteer  | Other:       | Strategic spending and manipulation. | Never        | Never        | nan                                                          | nan        | nan                     | nan   | nan  | nan                   | nan                     | nan                              | nan                                                          | nan        | nan  | nan                                                     | nan                | 1     | 2     | 3     | 4     | nan   | nan        | No                | Yes  | I do not have a job          | Strongly disagree | Neutral        | Strongly disagree | Somewhat disagree | Somewhat agree    | Neutral           | Strongly disagree | Strongly disagree | 5      | Every couple of days  | Every couple of days | Never                 | Very important | Important      | Important      | Very important | Very important       | Very important       | Very important | Moderately important | Important            | Moderately important | nan            | nan         | New York Times,CNN,Washington Post,NPR,Fox News     | nan          | nan           | 1            | 2            | 5            | 3            | nan           | nan           | nan           | 4             | nan           | nan           | nan          | nan              | No because:        | nan        | nan                                                          | He is an idiot, and a distraction.                           | No opinion  | nan        | nan        | nan                                                          | Slightly knowledgeable   | Slightly knowledgeable   | Neither agree nor disagree | Neither agree nor disagree | Neither agree nor disagree | Strongly disagree          | Presidential elections and midterm elections are equally ... | No:  | nan                                                     | Protesting is idiotic in my opinion, and a waste of time ... | Definitely not | No   | nan\n",
       "2018-11-13 14:32:08 | 2018-11-13 14:40:59 | IP Address | 136.152.143.22  | 100      | 530                   | True     | 2018-11-13 14:40:59 | R_2e265Wega3VKJL2 | nan               | nan                | nan            | nan               | 37.8737945556640625 | -122.2548980712890625  | anonymous           | EN           | I consent | College of Letters and Science (includes undeclared stud ... | No   | Arts & Humanities                          | Yes  | Woman | Other                       | Jewish    | 20   | Yes  | Online                                                       | nan        | nan                             | nan        | Another California county | 3     | Yes  | nan                                  | nan        | Absentee / mail ballot | Clinton   | I do not remember             | nan                | Sad,Scared,Angry | nan                                         | Yes  | Voting               | nan                                  | 1-3 hours per week | Voting       | nan                                  | Occasionally | Never        | Online                                                       | nan        | Alameda County          | 3     | Yes  | No; I do not know how | Absentee / mail  ballot | nan                              | I wanted to vote in the comfort of my own home               | nan        | No   | nan                                                     | Mostly Democrats   | 3     | nan   | 1     | 2     | nan   | nan        | I do not remember | No   | I did not have work that day | Neutral           | Strongly agree | Strongly agree    | Strongly agree    | Somewhat agree    | Somewhat agree    | Somewhat agree    | Somewhat disagree | 5      | Every couple of days  | Every couple of days | Once or twice a year  | Very important | Important      | Important      | Very important | Very important       | Important            | Very important | Very important       | Slightly important   | Slightly important   | Very important | Education   | Facebook,New York Times,CNN,Washington Post         | 1            | nan           | 2            | 3            | nan          | 4            | nan           | nan           | nan           | nan           | nan           | nan           | nan          | nan              | Sometimes because: | nan        | I agree with his supporting Israel and tax cuts for corp ... | nan                                                          | No because: | nan        | nan        | No. They have done nothing good for marginalized populat ... | Moderately knowledgeable | Moderately knowledgeable | Strongly agree             | Strongly disagree          | Strongly disagree          | Strongly agree             | Presidential elections and midterm elections are equally ... | Yes: | Women’s march, resign senator chow protest, voter rally | nan                                                          | Probably yes   | Yes  | Thank you for doing this!\n",
       "... (537 rows omitted)"
      ]
     },
     "execution_count": 20,
     "metadata": {},
     "output_type": "execute_result"
    }
   ],
   "source": [
    "# remove the first two rows from the table raw_data\n",
    "raw_data.exclude([0, 1])"
   ]
  },
  {
   "cell_type": "markdown",
   "metadata": {},
   "source": [
    "What you just did is actually is one of the steps of the data cleaning and wrangling process! \n",
    "\n",
    "##  4.3 Data  Cleaning and Wrangling <a id='subsection 3c'></a>\n",
    "\n",
    "\n",
    "When we get the raw data from the survey results online, we should ask ourselves: \n",
    "\n",
    "* What data do we have and what data do we need for analysis? \n",
    "* Are there inconsistencies and missing values in the data?\n",
    "* How do we better organize the data for analysis? \n",
    "\n",
    "These questions bring the following two terms: Data Cleaning and Data Wrangling\n",
    "\n",
    "### Data Cleaning \n",
    "Data is the backbone of data analysis. In order to successfuly analyze data, it must be in a clean and easily interpretable format so that we don't run into inconsistencies or errors later in the process. Regarding the survey data, we might encounter non-serious participants (who choose the first answer for all questions), missing values, duplications, and so on. To perform the data analytics properly we need various data cleaning techniques so that our data is ready for analysis. \n",
    "\n",
    "\n",
    "### Data Wrangling\n",
    "[Data wrangling](https://en.wikipedia.org/wiki/Data_wrangling), sometimes referred to as data munging, is the process of transforming and mapping data from one \"raw\" data form into another format with the intent of making it more appropriate and valuable for a variety of downstream purposes.\n",
    "\n",
    "Let's get started!"
   ]
  },
  {
   "cell_type": "markdown",
   "metadata": {},
   "source": [
    "### 4.3.1  Obtain a smaller table\n",
    "\n",
    "You should notice that the table has a huge number of columns! Often times, the original dataset contains some information that is not relevant for the questions we are asking. If we're not interested in some information in the original table, too many columns can make the table difficult to read. Thus, obtaining a smaller table containing only the relevant information we need to conduct our analysis is important. \n",
    "\n",
    "In our dataset, there are about 50 questions and 132 columns in the original table. Also, the top two rows are not survey response so we do not want to include them in the table (we showed did this step above!). In such situations, you might want to ceate a smaller table only with rows and columns that you want to analyze. \n",
    "\n",
    "\n",
    "\n",
    "#### 4.3.1.1 Drop unnecessary rows\n",
    "\n",
    "We talked about removing the first two rows using `tbl.exclude` method above. The `exclude` method removes a row or multiple rows of a table in place. The method takes in one argument, which indicates which row(s) to remove from the table. The `exclude` method does not modify the original table, and instead returns a new table with those rows removed. Search `Table.exclude()` in the [documentation of `exclude`](http://data8.org/datascience/_autosummary/datascience.tables.Table.exclude.html) for more information.\n",
    "\n",
    "**Note:** In order to save the change you made to the table, you need to name the returned new table. Here, we use `cleaned_data` to distinguish the new table from the original one.  \n"
   ]
  },
  {
   "cell_type": "code",
   "execution_count": 21,
   "metadata": {},
   "outputs": [],
   "source": [
    "cleaned_data = raw_data.exclude([0, 1])"
   ]
  },
  {
   "cell_type": "markdown",
   "metadata": {},
   "source": [
    "**Note:**\n",
    "From now on, we will use `cleaned_data` and update it at each step. The data we read in the beginning, `raw_data`, is still exactly the same as when we loaded it. \n",
    "\n",
    "#### 4.3.1.2 Select Columns \n",
    "\n",
    "We can use the `Table` method `tbl.select(column_names)` to choose only the columns that we want from `tbl`. It takes any number of arguments, as long as all are column names in our table. This method returns a new table with only those columns in it. *The columns are in the order in which they were listed as arguments*. Check the documentation of [Table.select](http://data8.org/datascience/_autosummary/datascience.tables.Table.select.html) for more detailed information. \n",
    "\n",
    "**TASK:** Run the cell below to get a table containing only selected two columns 'Q5' and 'Q7'. "
   ]
  },
  {
   "cell_type": "code",
   "execution_count": 22,
   "metadata": {},
   "outputs": [
    {
     "data": {
      "text/html": [
       "<table border=\"1\" class=\"dataframe\">\n",
       "    <thead>\n",
       "        <tr>\n",
       "            <th>Q5</th> <th>Q7</th>\n",
       "        </tr>\n",
       "    </thead>\n",
       "    <tbody>\n",
       "        <tr>\n",
       "            <td>Social Sciences                           </td> <td>Woman</td>\n",
       "        </tr>\n",
       "        <tr>\n",
       "            <td>Engineering/Computer Science              </td> <td>Man  </td>\n",
       "        </tr>\n",
       "        <tr>\n",
       "            <td>Social Sciences                           </td> <td>Woman</td>\n",
       "        </tr>\n",
       "        <tr>\n",
       "            <td>Life Sciences                             </td> <td>Man  </td>\n",
       "        </tr>\n",
       "        <tr>\n",
       "            <td>Arts & Humanities,Social Sciences         </td> <td>Woman</td>\n",
       "        </tr>\n",
       "        <tr>\n",
       "            <td>Arts & Humanities,Business                </td> <td>Man  </td>\n",
       "        </tr>\n",
       "        <tr>\n",
       "            <td>Social Sciences                           </td> <td>Woman</td>\n",
       "        </tr>\n",
       "        <tr>\n",
       "            <td>Arts & Humanities                         </td> <td>Man  </td>\n",
       "        </tr>\n",
       "        <tr>\n",
       "            <td>Engineering/Computer Science,Life Sciences</td> <td>Man  </td>\n",
       "        </tr>\n",
       "        <tr>\n",
       "            <td>Arts & Humanities                         </td> <td>Woman</td>\n",
       "        </tr>\n",
       "    </tbody>\n",
       "</table>\n",
       "<p>... (537 rows omitted)</p>"
      ],
      "text/plain": [
       "Q5                                         | Q7\n",
       "Social Sciences                            | Woman\n",
       "Engineering/Computer Science               | Man\n",
       "Social Sciences                            | Woman\n",
       "Life Sciences                              | Man\n",
       "Arts & Humanities,Social Sciences          | Woman\n",
       "Arts & Humanities,Business                 | Man\n",
       "Social Sciences                            | Woman\n",
       "Arts & Humanities                          | Man\n",
       "Engineering/Computer Science,Life Sciences | Man\n",
       "Arts & Humanities                          | Woman\n",
       "... (537 rows omitted)"
      ]
     },
     "execution_count": 22,
     "metadata": {},
     "output_type": "execute_result"
    }
   ],
   "source": [
    "# This is just an example to show how to obtain a new table with two columns 'Q5', 'Q7'\n",
    "cleaned_data.select(\"Q5\", \"Q7\")"
   ]
  },
  {
   "cell_type": "markdown",
   "metadata": {},
   "source": [
    "For this survey, we will focus the following columns: Q16, Q17, Q23, Q29, Q31, Q55, Q35, Q36, Q40-Q43, Q47. We also need Q5, Q7, Q8, Q9, Q15 in our analysis. Use `select` to create a table with only those questions from `cleaned_data` and update the `cleaned_data` by assigning the new table to it. \n",
    "\n",
    "**Note:** Some questions may have multiple sub-questions and thus have multiple columns. Some questions are named differenly than others. For example, question 40 has three sub-questions, and the corresponding columns are labled as \"Q40_1\", \"Q40_2\" and \"Q40_3\". Make sure to be precise when using column names with `select`.\n",
    "\n",
    "**TASK:** Run the following cell the obtain the table only with columns we need. "
   ]
  },
  {
   "cell_type": "code",
   "execution_count": 23,
   "metadata": {},
   "outputs": [],
   "source": [
    "# select the columns that we are going to use to analyze the survey data and put those names into a list \n",
    "columns = ['Q5', 'Q7', 'Q8', 'Q9', 'Q15', 'Q16', 'Q17', 'Q20', 'Q23', 'Q23_5_TEXT', 'Q29_1', 'Q31',\n",
    "            'Q55', 'Q35', 'Q36', 'Q40_1', 'Q40_2', 'Q40_3', \n",
    "            'Q41_23', 'Q42_1', 'Q42_2', 'Q42_3', \n",
    "            'Q43_1', 'Q43_2', 'Q43_3', 'Q43_4', 'Q43_5', 'Q43_6', 'Q43_7', \n",
    "            'Q43_8', 'Q43_9', 'Q43_10', 'Q43_11', 'Q43_11_TEXT', 'Q47_1', 'Q47_2']\n",
    "\n",
    "cleaned_data = cleaned_data.select(columns)"
   ]
  },
  {
   "cell_type": "markdown",
   "metadata": {},
   "source": [
    "Now, let's take a look at the number of rows and columns of the smaller table. Also, you might find that the `tbl.labels` helpful for checking the name of all columns in the smaller table. "
   ]
  },
  {
   "cell_type": "code",
   "execution_count": 24,
   "metadata": {},
   "outputs": [
    {
     "name": "stdout",
     "output_type": "stream",
     "text": [
      "There are total 547 rows in the cleaned_data.\n",
      "There are total 36 columns in the cleaned_data. \n",
      "\n"
     ]
    }
   ],
   "source": [
    "# run the cell to display the information of the new table \n",
    "print(\"There are total {} rows in the cleaned_data.\".format(cleaned_data.num_rows))\n",
    "print(\"There are total {} columns in the cleaned_data. \\n\".format(cleaned_data.num_columns))"
   ]
  },
  {
   "cell_type": "markdown",
   "metadata": {},
   "source": [
    "**Section 4.3.1 Recap:** \n",
    "\n",
    "So far, we have finished creating a smaller data table called `cleaned_data` by:\n",
    "1. Removing the first two rows that we do not need for our analysis \n",
    "2. Selecting 36 columns out of 132 columns in the raw data \n",
    "\n",
    "If you have finished everything above, remember to make sure you run through each cell above before entering into the next section of this notebook. To do that, click the cell below and go to the menue bar at the top of the screen click **Cell > Run All Above**. After doing that, let's take a look at the top five rows of our `cleaned_data` table so far. "
   ]
  },
  {
   "cell_type": "code",
   "execution_count": 25,
   "metadata": {
    "scrolled": true
   },
   "outputs": [
    {
     "data": {
      "text/html": [
       "<table border=\"1\" class=\"dataframe\">\n",
       "    <thead>\n",
       "        <tr>\n",
       "            <th>Q5</th> <th>Q7</th> <th>Q8</th> <th>Q9</th> <th>Q15</th> <th>Q16</th> <th>Q17</th> <th>Q20</th> <th>Q23</th> <th>Q23_5_TEXT</th> <th>Q29_1</th> <th>Q31</th> <th>Q55</th> <th>Q35</th> <th>Q36</th> <th>Q40_1</th> <th>Q40_2</th> <th>Q40_3</th> <th>Q41_23</th> <th>Q42_1</th> <th>Q42_2</th> <th>Q42_3</th> <th>Q43_1</th> <th>Q43_2</th> <th>Q43_3</th> <th>Q43_4</th> <th>Q43_5</th> <th>Q43_6</th> <th>Q43_7</th> <th>Q43_8</th> <th>Q43_9</th> <th>Q43_10</th> <th>Q43_11</th> <th>Q43_11_TEXT</th> <th>Q47_1</th> <th>Q47_2</th>\n",
       "        </tr>\n",
       "    </thead>\n",
       "    <tbody>\n",
       "        <tr>\n",
       "            <td>Social Sciences                  </td> <td>Woman</td> <td>White                      </td> <td>21  </td> <td>Yes </td> <td>Polling station  </td> <td>Trump  </td> <td>Happy           </td> <td>Volunteering        </td> <td>nan       </td> <td>nan  </td> <td>No; I did not check  </td> <td>Mostly Republicans</td> <td>Yes </td> <td>No  </td> <td>Strongly disagree</td> <td>Strongly disagree</td> <td>Strongly disagree</td> <td>7     </td> <td>Once or twice a year </td> <td>Every day  </td> <td>Every day            </td> <td>Very important</td> <td>Very important</td> <td>Very important</td> <td>Very important</td> <td>Very important      </td> <td>Very important      </td> <td>Very important</td> <td>Very important      </td> <td>Very important      </td> <td>Very important      </td> <td>nan           </td> <td>nan        </td> <td>Moderately knowledgeable</td> <td>Slightly knowledgeable </td>\n",
       "        </tr>\n",
       "        <tr>\n",
       "            <td>Engineering/Computer Science     </td> <td>Man  </td> <td>White                      </td> <td>20  </td> <td>Yes </td> <td>Polling station  </td> <td>Trump  </td> <td>nan             </td> <td>Volunteering        </td> <td>nan       </td> <td>3    </td> <td>No; I do not know how</td> <td>Mostly Republicans</td> <td>No  </td> <td>No  </td> <td>Somewhat agree   </td> <td>Somewhat disagree</td> <td>Somewhat disagree</td> <td>7     </td> <td>Once or twice a month</td> <td>Once a week</td> <td>Never                </td> <td>Very important</td> <td>Important     </td> <td>Important     </td> <td>Important     </td> <td>Moderately important</td> <td>Moderately important</td> <td>Important     </td> <td>Moderately important</td> <td>Moderately important</td> <td>Moderately important</td> <td>nan           </td> <td>nan        </td> <td>Slightly knowledgeable  </td> <td>Very knowledgeable     </td>\n",
       "        </tr>\n",
       "        <tr>\n",
       "            <td>Social Sciences                  </td> <td>Woman</td> <td>Asian,White                </td> <td>18  </td> <td>nan </td> <td>nan              </td> <td>nan    </td> <td>Sad,Scared,Angry</td> <td>Community engagement</td> <td>nan       </td> <td>nan  </td> <td>Yes; it was counted  </td> <td>Only Democrats    </td> <td>Yes </td> <td>No  </td> <td>Strongly agree   </td> <td>Strongly agree   </td> <td>Somewhat agree   </td> <td>2     </td> <td>Every day            </td> <td>Every day  </td> <td>Once or twice a month</td> <td>Very important</td> <td>Very important</td> <td>Very important</td> <td>Important     </td> <td>Important           </td> <td>Very important      </td> <td>Very important</td> <td>Important           </td> <td>Important           </td> <td>Important           </td> <td>nan           </td> <td>nan        </td> <td>Extremely knowledgeable </td> <td>Extremely knowledgeable</td>\n",
       "        </tr>\n",
       "        <tr>\n",
       "            <td>Life Sciences                    </td> <td>Man  </td> <td>Mexican American/Chicanx   </td> <td>20  </td> <td>No  </td> <td>I do not remember</td> <td>Clinton</td> <td>Sad             </td> <td>Volunteering        </td> <td>nan       </td> <td>nan  </td> <td>nan                  </td> <td>nan               </td> <td>No  </td> <td>No  </td> <td>Somewhat agree   </td> <td>Somewhat agree   </td> <td>Somewhat agree   </td> <td>4     </td> <td>Once a week          </td> <td>Every day  </td> <td>Once or twice a year </td> <td>Very important</td> <td>Very important</td> <td>Very important</td> <td>Very important</td> <td>Very important      </td> <td>Very important      </td> <td>Very important</td> <td>Very important      </td> <td>Very important      </td> <td>Very important      </td> <td>Very important</td> <td>nan        </td> <td>Very knowledgeable      </td> <td>Very knowledgeable     </td>\n",
       "        </tr>\n",
       "        <tr>\n",
       "            <td>Arts & Humanities,Social Sciences</td> <td>Woman</td> <td>Other Hispanic/Latinx,White</td> <td>19  </td> <td>nan </td> <td>nan              </td> <td>nan    </td> <td>Scared          </td> <td>Community engagement</td> <td>nan       </td> <td>1    </td> <td>No; I do not know how</td> <td>Mostly Democrats  </td> <td>Yes </td> <td>No  </td> <td>Somewhat agree   </td> <td>Strongly agree   </td> <td>Strongly agree   </td> <td>3     </td> <td>Every couple of days </td> <td>Once a week</td> <td>Once a week          </td> <td>Very important</td> <td>Very important</td> <td>Very important</td> <td>Very important</td> <td>Moderately important</td> <td>Very important      </td> <td>Very important</td> <td>Very important      </td> <td>Very important      </td> <td>Very important      </td> <td>nan           </td> <td>nan        </td> <td>Very knowledgeable      </td> <td>Very knowledgeable     </td>\n",
       "        </tr>\n",
       "    </tbody>\n",
       "</table>\n",
       "<p>... (542 rows omitted)</p>"
      ],
      "text/plain": [
       "<IPython.core.display.HTML object>"
      ]
     },
     "metadata": {},
     "output_type": "display_data"
    }
   ],
   "source": [
    "# display the top five rows of the smaller table\n",
    "cleaned_data.show(5)"
   ]
  },
  {
   "cell_type": "markdown",
   "metadata": {},
   "source": [
    "### 4.3.2 Missing Values \n",
    "\n",
    "Notice that some of the values in this table are missing, denoted by `nan`. This stands for \"Not a Number,\" and this means that the student who filled out the survey did not give a response to this question. You may also see missing values appear as `NA` or `None`. Usually, `NaN`s are stored as a distinct data type (i.e. not a number or a string), but the `datascience` package converts them all to strings when we read in our data.\n",
    "\n",
    "#### Exercise 4.3.2.1: Calculate missing value proportion for each question\n",
    "\n",
    "**TASK:** Firstly, let's convert all the `nan` strings in the `cleaned_data` table to `None` by running the following funciton from the `utils` module. We do this conversion because `None` objects are easier to handle using functions of the `utils` module. \n",
    "\n",
    "**Notes on the Survey Design:** When you design your own survey, it is better to use \"None of above\" rather than \"None\" as a choice to indicate none of the given choices is applicable. Since in the Table, both string \"None\" and python `None` objects look the same in a Jupyter notebook table. "
   ]
  },
  {
   "cell_type": "code",
   "execution_count": 26,
   "metadata": {
    "scrolled": true
   },
   "outputs": [
    {
     "data": {
      "text/html": [
       "<table border=\"1\" class=\"dataframe\">\n",
       "    <thead>\n",
       "        <tr>\n",
       "            <th>Q5</th> <th>Q7</th> <th>Q8</th> <th>Q9</th> <th>Q15</th> <th>Q16</th> <th>Q17</th> <th>Q20</th> <th>Q23</th> <th>Q23_5_TEXT</th> <th>Q29_1</th> <th>Q31</th> <th>Q55</th> <th>Q35</th> <th>Q36</th> <th>Q40_1</th> <th>Q40_2</th> <th>Q40_3</th> <th>Q41_23</th> <th>Q42_1</th> <th>Q42_2</th> <th>Q42_3</th> <th>Q43_1</th> <th>Q43_2</th> <th>Q43_3</th> <th>Q43_4</th> <th>Q43_5</th> <th>Q43_6</th> <th>Q43_7</th> <th>Q43_8</th> <th>Q43_9</th> <th>Q43_10</th> <th>Q43_11</th> <th>Q43_11_TEXT</th> <th>Q47_1</th> <th>Q47_2</th>\n",
       "        </tr>\n",
       "    </thead>\n",
       "    <tbody>\n",
       "        <tr>\n",
       "            <td>Social Sciences             </td> <td>Woman</td> <td>White      </td> <td>21  </td> <td>Yes </td> <td>Polling station</td> <td>Trump</td> <td>Happy           </td> <td>Volunteering        </td> <td>None      </td> <td>None </td> <td>No; I did not check  </td> <td>Mostly Republicans</td> <td>Yes </td> <td>No  </td> <td>Strongly disagree</td> <td>Strongly disagree</td> <td>Strongly disagree</td> <td>7     </td> <td>Once or twice a year </td> <td>Every day  </td> <td>Every day            </td> <td>Very important</td> <td>Very important</td> <td>Very important</td> <td>Very important</td> <td>Very important      </td> <td>Very important      </td> <td>Very important</td> <td>Very important      </td> <td>Very important      </td> <td>Very important      </td> <td>None  </td> <td>None       </td> <td>Moderately knowledgeable</td> <td>Slightly knowledgeable </td>\n",
       "        </tr>\n",
       "        <tr>\n",
       "            <td>Engineering/Computer Science</td> <td>Man  </td> <td>White      </td> <td>20  </td> <td>Yes </td> <td>Polling station</td> <td>Trump</td> <td>None            </td> <td>Volunteering        </td> <td>None      </td> <td>3    </td> <td>No; I do not know how</td> <td>Mostly Republicans</td> <td>No  </td> <td>No  </td> <td>Somewhat agree   </td> <td>Somewhat disagree</td> <td>Somewhat disagree</td> <td>7     </td> <td>Once or twice a month</td> <td>Once a week</td> <td>Never                </td> <td>Very important</td> <td>Important     </td> <td>Important     </td> <td>Important     </td> <td>Moderately important</td> <td>Moderately important</td> <td>Important     </td> <td>Moderately important</td> <td>Moderately important</td> <td>Moderately important</td> <td>None  </td> <td>None       </td> <td>Slightly knowledgeable  </td> <td>Very knowledgeable     </td>\n",
       "        </tr>\n",
       "        <tr>\n",
       "            <td>Social Sciences             </td> <td>Woman</td> <td>Asian,White</td> <td>18  </td> <td>None</td> <td>None           </td> <td>None </td> <td>Sad,Scared,Angry</td> <td>Community engagement</td> <td>None      </td> <td>None </td> <td>Yes; it was counted  </td> <td>Only Democrats    </td> <td>Yes </td> <td>No  </td> <td>Strongly agree   </td> <td>Strongly agree   </td> <td>Somewhat agree   </td> <td>2     </td> <td>Every day            </td> <td>Every day  </td> <td>Once or twice a month</td> <td>Very important</td> <td>Very important</td> <td>Very important</td> <td>Important     </td> <td>Important           </td> <td>Very important      </td> <td>Very important</td> <td>Important           </td> <td>Important           </td> <td>Important           </td> <td>None  </td> <td>None       </td> <td>Extremely knowledgeable </td> <td>Extremely knowledgeable</td>\n",
       "        </tr>\n",
       "    </tbody>\n",
       "</table>\n",
       "<p>... (544 rows omitted)</p>"
      ],
      "text/plain": [
       "<IPython.core.display.HTML object>"
      ]
     },
     "metadata": {},
     "output_type": "display_data"
    }
   ],
   "source": [
    "# convert the string 'nan' to Python None object\n",
    "cleaned_data = encode_nans_table(cleaned_data)\n",
    "cleaned_data.show(3)"
   ]
  },
  {
   "cell_type": "markdown",
   "metadata": {},
   "source": [
    "If we want to know if the data collected from the survey is sufficient, we might want to know what is the proportion of missing values for each survey question, let's call it **missing proportion** in this notebook. For example, there are 100 responses for the survey, but there are only 10 of them filled out question 33, the missing proportion for quesiton 33 is 0.9. We might doubt that the data for question 33 might not be sufficient enough to conduct an analysis on question 33. \n",
    "\n",
    "**TASK:** Calculate the proportion missing values for each question included in the `cleaned_data` table and display the result in a table. "
   ]
  },
  {
   "cell_type": "code",
   "execution_count": 27,
   "metadata": {
    "scrolled": true
   },
   "outputs": [
    {
     "data": {
      "text/html": [
       "<table border=\"1\" class=\"dataframe\">\n",
       "    <thead>\n",
       "        <tr>\n",
       "            <th>questions</th> <th>missing_prop</th>\n",
       "        </tr>\n",
       "    </thead>\n",
       "    <tbody>\n",
       "        <tr>\n",
       "            <td>Q5        </td> <td>0           </td>\n",
       "        </tr>\n",
       "        <tr>\n",
       "            <td>Q7        </td> <td>0           </td>\n",
       "        </tr>\n",
       "        <tr>\n",
       "            <td>Q8        </td> <td>0.01        </td>\n",
       "        </tr>\n",
       "        <tr>\n",
       "            <td>Q9        </td> <td>0.01        </td>\n",
       "        </tr>\n",
       "        <tr>\n",
       "            <td>Q15       </td> <td>0.52        </td>\n",
       "        </tr>\n",
       "        <tr>\n",
       "            <td>Q16       </td> <td>0.54        </td>\n",
       "        </tr>\n",
       "        <tr>\n",
       "            <td>Q17       </td> <td>0.56        </td>\n",
       "        </tr>\n",
       "        <tr>\n",
       "            <td>Q20       </td> <td>0.07        </td>\n",
       "        </tr>\n",
       "        <tr>\n",
       "            <td>Q23       </td> <td>0.08        </td>\n",
       "        </tr>\n",
       "        <tr>\n",
       "            <td>Q23_5_TEXT</td> <td>0.98        </td>\n",
       "        </tr>\n",
       "    </tbody>\n",
       "</table>\n",
       "<p>... (26 rows omitted)</p>"
      ],
      "text/plain": [
       "questions  | missing_prop\n",
       "Q5         | 0\n",
       "Q7         | 0\n",
       "Q8         | 0.01\n",
       "Q9         | 0.01\n",
       "Q15        | 0.52\n",
       "Q16        | 0.54\n",
       "Q17        | 0.56\n",
       "Q20        | 0.07\n",
       "Q23        | 0.08\n",
       "Q23_5_TEXT | 0.98\n",
       "... (26 rows omitted)"
      ]
     },
     "execution_count": 27,
     "metadata": {},
     "output_type": "execute_result"
    }
   ],
   "source": [
    "# calculate the missing values for each question (column) in the cleaned_data table \n",
    "# and display the result in a table \n",
    "missing_prop = np.array([float(missing_proportion(cleaned_data, column)) for column in columns])\n",
    "missing_prop_tbl = Table().with_columns([\"questions\", columns,\n",
    "                                 \"missing_prop\", missing_prop])\n",
    "missing_prop_tbl"
   ]
  },
  {
   "cell_type": "markdown",
   "metadata": {},
   "source": [
    "**Question:** Look at the values in `missing_prop` table, we notice that Q5 to Q9 all have a small amount of missing values. However, Q15 to Q17 have almost half of the data are missing. What is the reason for this large missing proportion?\n"
   ]
  },
  {
   "cell_type": "code",
   "execution_count": 28,
   "metadata": {},
   "outputs": [
    {
     "name": "stdout",
     "output_type": "stream",
     "text": [
      "The proportion who would skip Q10-19 is 0.43\n",
      "The missing proportion for Q15 is 0.52\n"
     ]
    }
   ],
   "source": [
    "# This is the proportion who would skip Q 10 - 19 \n",
    "age18_19 = cleaned_data.select(\"Q9\").where(\"Q9\", are.equal_to(\"18\") | are.equal_to(\"19\"))\n",
    "print(\"The proportion who would skip Q10-19 is {}\".format(round(age18_19.num_rows / cleaned_data.num_rows, 2))) \n",
    "print(\"The missing proportion for Q15 is {}\".format(missing_proportion(cleaned_data, \"Q15\")))"
   ]
  },
  {
   "cell_type": "markdown",
   "metadata": {},
   "source": [
    "**Analysis:** \n",
    "1. Q15, Q16 and Q17 are only shown to participates who are at least 20 years old and who voted in the 2016 presidential elections. \n",
    "\n",
    "2. This shows that the missing values for Q 10 - 19 most come from the answer for Q9. If the participants who are under 20, they cannot vote and thus they would skip those questions by default in the survey. We have about 43% of the responses are under 20 years old. The missing value for Q15 is about 52%. Thus there are actually about 10% of the participants who see queation 15, 16, 17 but not answered. \n",
    "\n",
    "\n",
    "\n",
    "#### Exercise 4.3.2.2: Sort the missing proportion in descending order\n",
    "\n",
    "\n",
    "The table above shows the missing proportion for each question in `cleaned_data` table. We want to detect questions that have a large missing proportion. To do that, we can sort the missing proportion column and make it show the largest value on top. \n",
    "\n",
    "The Table method `tbl.sort(column)` takes in a column name that you want the table to sorted by. By default, this method will sort in _ascending_ order. By dding in an optional argument, `descending = True`, we tell the method that we want our output to be in descending order.\n",
    "\n",
    "**Note:** Rows always stick together when a table is sorted.\n",
    "\n",
    "**TASK:** Sort the `missing_prop_tbl` table by missing proportion (the `missing_prop` column) in descending order.  "
   ]
  },
  {
   "cell_type": "code",
   "execution_count": 29,
   "metadata": {},
   "outputs": [
    {
     "data": {
      "text/html": [
       "<table border=\"1\" class=\"dataframe\">\n",
       "    <thead>\n",
       "        <tr>\n",
       "            <th>questions</th> <th>missing_prop</th>\n",
       "        </tr>\n",
       "    </thead>\n",
       "    <tbody>\n",
       "        <tr>\n",
       "            <td>Q23_5_TEXT </td> <td>0.98        </td>\n",
       "        </tr>\n",
       "        <tr>\n",
       "            <td>Q43_11_TEXT</td> <td>0.84        </td>\n",
       "        </tr>\n",
       "        <tr>\n",
       "            <td>Q43_11     </td> <td>0.65        </td>\n",
       "        </tr>\n",
       "        <tr>\n",
       "            <td>Q29_1      </td> <td>0.57        </td>\n",
       "        </tr>\n",
       "        <tr>\n",
       "            <td>Q17        </td> <td>0.56        </td>\n",
       "        </tr>\n",
       "        <tr>\n",
       "            <td>Q16        </td> <td>0.54        </td>\n",
       "        </tr>\n",
       "        <tr>\n",
       "            <td>Q15        </td> <td>0.52        </td>\n",
       "        </tr>\n",
       "        <tr>\n",
       "            <td>Q55        </td> <td>0.34        </td>\n",
       "        </tr>\n",
       "        <tr>\n",
       "            <td>Q31        </td> <td>0.32        </td>\n",
       "        </tr>\n",
       "        <tr>\n",
       "            <td>Q47_2      </td> <td>0.2         </td>\n",
       "        </tr>\n",
       "    </tbody>\n",
       "</table>\n",
       "<p>... (26 rows omitted)</p>"
      ],
      "text/plain": [
       "questions   | missing_prop\n",
       "Q23_5_TEXT  | 0.98\n",
       "Q43_11_TEXT | 0.84\n",
       "Q43_11      | 0.65\n",
       "Q29_1       | 0.57\n",
       "Q17         | 0.56\n",
       "Q16         | 0.54\n",
       "Q15         | 0.52\n",
       "Q55         | 0.34\n",
       "Q31         | 0.32\n",
       "Q47_2       | 0.2\n",
       "... (26 rows omitted)"
      ]
     },
     "execution_count": 29,
     "metadata": {},
     "output_type": "execute_result"
    }
   ],
   "source": [
    "missing_prop_tbl.sort(\"missing_prop\", descending = True)"
   ]
  },
  {
   "cell_type": "markdown",
   "metadata": {},
   "source": [
    "**Question:** Please analyze the reasons for the questions with high missing proportion. \n",
    "\n",
    "\n",
    "**Analysis:** \n",
    "\n",
    "1. Only people who answer 'other' in Q23 need to fill out Q23_5_TEXT. The proportion who select 'other' for Q23 is small and many students do not want to type in respons even though they select 'other'. Thus the missing proportion for Q23_5_TEXT is very high. But other choices for Q23 do not have high missing proportions. This means that Q23 is sufficient to use to analyze the distribution of respons to this question. However, there might not be a sufficient amount of data for us to dig into the answers of those who selected 'other'. \n",
    "\n",
    "2. Q43_11 and Q43_11_TEXT are the data coresponding to check box of 'Other political issues'. One reason for this hihg missing proportion is that many people would just check the given answer and do not want to fill out the 'other' blank. \n",
    "\n",
    "3. Q29_1 is only shown to the students who are above 20 years old and registered for the first time in 2018, thus for people who did not register for the first time in 2018 or who are under 20 years old would automatically skip this question, which leads to a high missing proportion. "
   ]
  },
  {
   "cell_type": "markdown",
   "metadata": {},
   "source": [
    "**TASK:** To have a better idea of the missing proportion the genral among all the survey questions we selected. We want to calculate a percentage of columns that has missing proportion greater than 0.3. We can use `tbl.where()` to filter out those rows whose `missing_[rp[` value is greater than 0.3. \n",
    "\n",
    "The `where` method takes 2 arguments:\n",
    "\n",
    "1. The name of a column.  `where` finds rows where that column's values meet some criterion.\n",
    "2. A predicate that describes the criterion that the column needs to meet.\n",
    "\n",
    "For example, `missing_prop_tbl.where('missing_prop', are.above(0.3)` returns a table that's a copy of the miss table, but with only the rows that have `missing_prop > 0.3`."
   ]
  },
  {
   "cell_type": "code",
   "execution_count": 30,
   "metadata": {
    "scrolled": true
   },
   "outputs": [
    {
     "data": {
      "text/html": [
       "<table border=\"1\" class=\"dataframe\">\n",
       "    <thead>\n",
       "        <tr>\n",
       "            <th>questions</th> <th>missing_prop</th>\n",
       "        </tr>\n",
       "    </thead>\n",
       "    <tbody>\n",
       "        <tr>\n",
       "            <td>Q15        </td> <td>0.52        </td>\n",
       "        </tr>\n",
       "        <tr>\n",
       "            <td>Q16        </td> <td>0.54        </td>\n",
       "        </tr>\n",
       "        <tr>\n",
       "            <td>Q17        </td> <td>0.56        </td>\n",
       "        </tr>\n",
       "        <tr>\n",
       "            <td>Q23_5_TEXT </td> <td>0.98        </td>\n",
       "        </tr>\n",
       "        <tr>\n",
       "            <td>Q29_1      </td> <td>0.57        </td>\n",
       "        </tr>\n",
       "        <tr>\n",
       "            <td>Q31        </td> <td>0.32        </td>\n",
       "        </tr>\n",
       "        <tr>\n",
       "            <td>Q55        </td> <td>0.34        </td>\n",
       "        </tr>\n",
       "        <tr>\n",
       "            <td>Q43_11     </td> <td>0.65        </td>\n",
       "        </tr>\n",
       "        <tr>\n",
       "            <td>Q43_11_TEXT</td> <td>0.84        </td>\n",
       "        </tr>\n",
       "    </tbody>\n",
       "</table>"
      ],
      "text/plain": [
       "questions   | missing_prop\n",
       "Q15         | 0.52\n",
       "Q16         | 0.54\n",
       "Q17         | 0.56\n",
       "Q23_5_TEXT  | 0.98\n",
       "Q29_1       | 0.57\n",
       "Q31         | 0.32\n",
       "Q55         | 0.34\n",
       "Q43_11      | 0.65\n",
       "Q43_11_TEXT | 0.84"
      ]
     },
     "execution_count": 30,
     "metadata": {},
     "output_type": "execute_result"
    }
   ],
   "source": [
    "missing_prop_tbl.where(\"missing_prop\", are.above(0.3))"
   ]
  },
  {
   "cell_type": "markdown",
   "metadata": {},
   "source": [
    "**TASK:** Calculate the percentage of culumns that have `missing proportion > 0.3`. "
   ]
  },
  {
   "cell_type": "code",
   "execution_count": 31,
   "metadata": {},
   "outputs": [
    {
     "name": "stdout",
     "output_type": "stream",
     "text": [
      "There are about 25.0 percent columns that have missing proportion greater than 0.3\n"
     ]
    }
   ],
   "source": [
    "greater_than_point3 = 100 * missing_prop_tbl.where('missing_prop', are.above(0.3)).num_rows /missing_prop_tbl.num_rows\n",
    "print(\"There are about {} percent columns that have missing proportion greater than 0.3\".format(greater_than_point3))"
   ]
  },
  {
   "cell_type": "markdown",
   "metadata": {},
   "source": [
    "**Section 4.3.2 Recap:** \n",
    "\n",
    "1. We calculated the missing proportion for each column in the table and displayed the missing proportion in a descending order in order to find the columns with the largest amount of missing values. \n",
    "2. We analyzed the reason for the large missing proportion for those columns with high missing proportion. \n",
    "3. At the end, we found that there are about 25 percent of the columns in `cleaned_data` that have missing proportion that is greater than 0.3. The overall missing proportion of our data is reasonable and response proportion is good when talking about the response proportion for survey data in general. "
   ]
  },
  {
   "cell_type": "markdown",
   "metadata": {},
   "source": [
    "### 4.3.3 Filter Out Non-serious Responses\n",
    "\n",
    "**Exercise: Filter out who only answer the first a couple of questions and left all others blank**\n",
    "\n",
    "Some students may not feel comfortable reporting personal information such as age, race, sexuality and major. But they might still answer other questions in the survey. Considering the format of this survey, we do not delete the entire response (an entire row in table) just because it contains one or more missing values, because otherwise we may lose useful data. However, there might be some responses who only filled out the first a couple of questions and left all the following questions empty. We can treat them as **non-serious Responses** and delete those responses from the table. \n",
    "\n",
    "**Note:** Participants who are under 20 year old will skip questions 10 - 20, so we only count those who only finish up to question 9 as non-serious responses."
   ]
  },
  {
   "cell_type": "code",
   "execution_count": 32,
   "metadata": {},
   "outputs": [],
   "source": [
    "# let's make a copy of the cleaned_data we have so far\n",
    "# Click 'Run All Above' before running this cell \n",
    "temp = cleaned_data.copy()"
   ]
  },
  {
   "cell_type": "markdown",
   "metadata": {},
   "source": [
    "**TASK:** Delete responses who did not answer any questions after Q9 from the table, and calculate the percentage of non-serious responses. "
   ]
  },
  {
   "cell_type": "code",
   "execution_count": 33,
   "metadata": {
    "scrolled": true
   },
   "outputs": [
    {
     "name": "stdout",
     "output_type": "stream",
     "text": [
      "There are about 1.5% non-serious responses in our data\n"
     ]
    }
   ],
   "source": [
    "# delete responses who did not answer any questions after Q9 \n",
    "\n",
    "cleaned_data = drop_nonserious_rows(cleaned_data, \"Q9\")\n",
    "non_serious = round(100 * (temp.num_rows - cleaned_data.num_rows) / temp.num_rows, 1)\n",
    "print(\"There are about {}% non-serious responses in our data\".format(non_serious))"
   ]
  },
  {
   "cell_type": "markdown",
   "metadata": {},
   "source": [
    "### 4.3.4 Organize independent variable columns\n",
    "\n",
    "Some questions in the survey allowed respondents to select multiple answers. However, the way that these responses are stored in the table is conducive to data analysis. In this section, we will change these columns so that they are easier to analyze later.\n",
    "\n",
    "**4.3.4.1 Deal with survey questions that allow more than one selection**\n",
    "\n",
    "* Q5: Please select the group(s) that best apply to your majors. \n",
    "* Q8: Check the box(es) of the race /ethnicity that you best identify with. \n",
    "\n",
    "**TASK:** Let's first take a look at responses for question 5 look like, we sample a few to view:"
   ]
  },
  {
   "cell_type": "code",
   "execution_count": 34,
   "metadata": {},
   "outputs": [
    {
     "data": {
      "text/html": [
       "<table border=\"1\" class=\"dataframe\">\n",
       "    <thead>\n",
       "        <tr>\n",
       "            <th>Q5</th>\n",
       "        </tr>\n",
       "    </thead>\n",
       "    <tbody>\n",
       "        <tr>\n",
       "            <td>Business                                  </td>\n",
       "        </tr>\n",
       "        <tr>\n",
       "            <td>Engineering/Computer Science              </td>\n",
       "        </tr>\n",
       "        <tr>\n",
       "            <td>Arts & Humanities,Business,Social Sciences</td>\n",
       "        </tr>\n",
       "        <tr>\n",
       "            <td>Business                                  </td>\n",
       "        </tr>\n",
       "        <tr>\n",
       "            <td>Life Sciences                             </td>\n",
       "        </tr>\n",
       "        <tr>\n",
       "            <td>Arts & Humanities,Social Sciences         </td>\n",
       "        </tr>\n",
       "        <tr>\n",
       "            <td>Life Sciences,Social Sciences             </td>\n",
       "        </tr>\n",
       "    </tbody>\n",
       "</table>"
      ],
      "text/plain": [
       "Q5\n",
       "Business\n",
       "Engineering/Computer Science\n",
       "Arts & Humanities,Business,Social Sciences\n",
       "Business\n",
       "Life Sciences\n",
       "Arts & Humanities,Social Sciences\n",
       "Life Sciences,Social Sciences"
      ]
     },
     "execution_count": 34,
     "metadata": {},
     "output_type": "execute_result"
    }
   ],
   "source": [
    "cleaned_data.select(\"Q5\").take([10, 15, 20, 25, 30, 35, 40])"
   ]
  },
  {
   "cell_type": "markdown",
   "metadata": {},
   "source": [
    "You might notice that the third line of table above contains three groups, this is because the student selected three groups that best apply to their majors. Some students may have more than one major and thus they may choose multiple groups that best apply to their majors. In order to make it easy when conducting anaysis using major as a predictive variable, we will assume the first selection (the group before the first comma) is their primary major. \n",
    "\n",
    "**TASK:** \n",
    "Assign the first selection of each student as their major. \n",
    "\n",
    "We provide a function called `get_first_selection` in the util package which takes in two arguments: a `Table`' and a column name. For each cell in the specified column, this function will delete everything after the first comma. Run the cell below:"
   ]
  },
  {
   "cell_type": "code",
   "execution_count": 35,
   "metadata": {
    "scrolled": true
   },
   "outputs": [
    {
     "data": {
      "text/html": [
       "<table border=\"1\" class=\"dataframe\">\n",
       "    <thead>\n",
       "        <tr>\n",
       "            <th>Q5</th>\n",
       "        </tr>\n",
       "    </thead>\n",
       "    <tbody>\n",
       "        <tr>\n",
       "            <td>Business                    </td>\n",
       "        </tr>\n",
       "        <tr>\n",
       "            <td>Engineering/Computer Science</td>\n",
       "        </tr>\n",
       "        <tr>\n",
       "            <td>Arts & Humanities           </td>\n",
       "        </tr>\n",
       "        <tr>\n",
       "            <td>Business                    </td>\n",
       "        </tr>\n",
       "        <tr>\n",
       "            <td>Life Sciences               </td>\n",
       "        </tr>\n",
       "        <tr>\n",
       "            <td>Arts & Humanities           </td>\n",
       "        </tr>\n",
       "        <tr>\n",
       "            <td>Life Sciences               </td>\n",
       "        </tr>\n",
       "    </tbody>\n",
       "</table>"
      ],
      "text/plain": [
       "Q5\n",
       "Business\n",
       "Engineering/Computer Science\n",
       "Arts & Humanities\n",
       "Business\n",
       "Life Sciences\n",
       "Arts & Humanities\n",
       "Life Sciences"
      ]
     },
     "execution_count": 35,
     "metadata": {},
     "output_type": "execute_result"
    }
   ],
   "source": [
    "# Assign the first selection of each student as his/her major\n",
    "cleaned_data = get_first_selection(cleaned_data, \"Q5\")\n",
    "\n",
    "# check the result \n",
    "cleaned_data.select(\"Q5\").take([10, 15, 20, 25, 30, 35, 40])"
   ]
  },
  {
   "cell_type": "markdown",
   "metadata": {},
   "source": [
    "**Notes on the Survey Design:**\n",
    "\n",
    "Since the survey showed the groups in the same order for every respondent (i.e. choice order was not randomized), the first choice is not necessary their primary major. For your own survey, you might want to ask respondents to select their primary major, randomize the response order, or ask them to give rank their major(s). \n",
    "\n",
    "Now, let's take a look at responses for question 8:"
   ]
  },
  {
   "cell_type": "code",
   "execution_count": 36,
   "metadata": {},
   "outputs": [
    {
     "data": {
      "text/html": [
       "<table border=\"1\" class=\"dataframe\">\n",
       "    <thead>\n",
       "        <tr>\n",
       "            <th>Q8</th>\n",
       "        </tr>\n",
       "    </thead>\n",
       "    <tbody>\n",
       "        <tr>\n",
       "            <td>White                   </td>\n",
       "        </tr>\n",
       "        <tr>\n",
       "            <td>Mexican American/Chicanx</td>\n",
       "        </tr>\n",
       "        <tr>\n",
       "            <td>White                   </td>\n",
       "        </tr>\n",
       "        <tr>\n",
       "            <td>White                   </td>\n",
       "        </tr>\n",
       "        <tr>\n",
       "            <td>Mexican American/Chicanx</td>\n",
       "        </tr>\n",
       "        <tr>\n",
       "            <td>Asian,White             </td>\n",
       "        </tr>\n",
       "        <tr>\n",
       "            <td>Asian                   </td>\n",
       "        </tr>\n",
       "        <tr>\n",
       "            <td>Asian,White             </td>\n",
       "        </tr>\n",
       "    </tbody>\n",
       "</table>"
      ],
      "text/plain": [
       "Q8\n",
       "White\n",
       "Mexican American/Chicanx\n",
       "White\n",
       "White\n",
       "Mexican American/Chicanx\n",
       "Asian,White\n",
       "Asian\n",
       "Asian,White"
      ]
     },
     "execution_count": 36,
     "metadata": {},
     "output_type": "execute_result"
    }
   ],
   "source": [
    "cleaned_data.select(\"Q8\").take([10, 15, 20, 25, 30, 35, 40, 45])"
   ]
  },
  {
   "cell_type": "markdown",
   "metadata": {},
   "source": [
    "You should notice that the response in the 6th row contains both Asian,White. We want capture the fact that respondents like this identify with multiple racial groups, but the frequency of each possible combination of racial groups is very low compared to each individual group. Let’s create one new “Mixed Race” category and put in that bin everyone who picked more than one race.\n",
    "\n",
    "**TASK:** Change all cells where the respondent selected more than one race to \"Mixed Race\".\n",
    "\n",
    "We provide you a function called `get_mixed_category` in `utils`. The fucniton takes in three arguments: a `Table` , column name, and the new category name."
   ]
  },
  {
   "cell_type": "code",
   "execution_count": 37,
   "metadata": {
    "scrolled": true
   },
   "outputs": [
    {
     "data": {
      "text/html": [
       "<table border=\"1\" class=\"dataframe\">\n",
       "    <thead>\n",
       "        <tr>\n",
       "            <th>Q8</th>\n",
       "        </tr>\n",
       "    </thead>\n",
       "    <tbody>\n",
       "        <tr>\n",
       "            <td>White                   </td>\n",
       "        </tr>\n",
       "        <tr>\n",
       "            <td>Mexican American/Chicanx</td>\n",
       "        </tr>\n",
       "        <tr>\n",
       "            <td>White                   </td>\n",
       "        </tr>\n",
       "        <tr>\n",
       "            <td>White                   </td>\n",
       "        </tr>\n",
       "        <tr>\n",
       "            <td>Mexican American/Chicanx</td>\n",
       "        </tr>\n",
       "        <tr>\n",
       "            <td>Mixed Race              </td>\n",
       "        </tr>\n",
       "        <tr>\n",
       "            <td>Asian                   </td>\n",
       "        </tr>\n",
       "        <tr>\n",
       "            <td>Mixed Race              </td>\n",
       "        </tr>\n",
       "    </tbody>\n",
       "</table>"
      ],
      "text/plain": [
       "Q8\n",
       "White\n",
       "Mexican American/Chicanx\n",
       "White\n",
       "White\n",
       "Mexican American/Chicanx\n",
       "Mixed Race\n",
       "Asian\n",
       "Mixed Race"
      ]
     },
     "execution_count": 37,
     "metadata": {},
     "output_type": "execute_result"
    }
   ],
   "source": [
    "# Create one new “Mixed Race” category for question 8\n",
    "cleaned_data = get_mixed_category(cleaned_data, \"Q8\", \"Race\")\n",
    "\n",
    "# check the result \n",
    "cleaned_data.select(\"Q8\").take([10, 15, 20, 25, 30, 35, 40, 45])"
   ]
  },
  {
   "cell_type": "markdown",
   "metadata": {},
   "source": [
    "### Section 4.3 Recap\n",
    "\n",
    "In section 4.3, we did data dleaning and data wrangling, which are the two essential and fundamental parts of data analysis. \n",
    "* We created a smaller table by selecting columns we need and dropping rows we do not need from the original table. \n",
    "* We explored and analyzed missing values in the table. \n",
    "* We also filtered out non-serious responses. \n",
    "* Lastly, we organized two categorical data (major and race). \n",
    "\n",
    "\n",
    "Below, we give a Summary of `Table` methods that we used through this notebook:\n",
    "\n",
    "### Summary of `Table` methods ###\n",
    "\n",
    "    \n",
    "|Name|Example|Purpose|\n",
    "|-|-|-|\n",
    "|`Table`|`Table()`|Create an empty table, usually to extend with data|\n",
    "|`Table.read_table`|`Table.read_table(\"my_data.csv\")`|Create a table from a csv file|\n",
    "|`with_columns`|`tbl = Table().with_columns(\"cake price\", [2, 4.5], \"cake name\", [\"chocolate\", \"straberry\"]`|Create a copy of a table with more columns|\n",
    "|`sort`|`tbl.sort(\"cake price\")`|Create a copy of a table sorted by the values in a column|\n",
    "|`where`|`tbl.where(\"cake price\", are.above(2))`|Create a copy of a table with only the rows that match some *predicate*|\n",
    "|`num_rows`|`tbl.num_rows`|Compute the number of rows in a table|\n",
    "|`num_columns`|`tbl.num_columns`|Compute the number of columns in a table|\n",
    "|`select`|`tbl.select(\"column name\")`|Create a copy of a table with only some of the columns|\n",
    "|`drop`|`raw_data.exclude([row_indices]))`|Create a copy of a table without some of the rows|\n",
    "|`take`|`tbl.take([row_indices])`|Create a copy of the table with only the rows whose indices are in the given array|"
   ]
  },
  {
   "cell_type": "markdown",
   "metadata": {},
   "source": [
    "### Summary of `utils` functions ###\n",
    "\n",
    "    \n",
    "|Name|Example|Purpose|\n",
    "|-|-|-|\n",
    "|`encode_nans`|`encode_nans(table, column_name)`|Converts \"nan\" strings in the column_name to `None`|\n",
    "|`encode_nans_table`|`encode_nans_table(table)`|Converts all \"nan\" strings in a `Table` to `None`|\n",
    "|`get_first_selection`|`get_first_selection(table, column_name)`|Keep the first selection for a question|\n",
    "|`get_mixed_category`|`get_mixed_category(table, column_name, string)`|Create a 'Mixed string' category|\n",
    "|`missing_proportion`|`missing_proportion(table, column_name)`|Calculate the proportion of missing values in a column|\n",
    "|`drop_nonserious_rows`|`drop_nonserious_rows(table, column_name)`|Delete the non-serious responses in the survey|"
   ]
  },
  {
   "cell_type": "markdown",
   "metadata": {},
   "source": [
    "## 4.4 Saving `cleaned_data` to a new CSV file <a id='subsection 3d'></a>\n",
    "\n",
    "Congratulations! You have finished the first part of the survey analysis. In this notebook, you learned about Jupyter notebooks, Python programming, `Table`s, data cleaning, and data wrangling. Now, you are ready to move on to the major analysis part of this lab. In the analysis notebook, you will learn exploratory data analysis, data visualization techniques, and statistical testing. Before moving to the second part of this lab, let's save our `cleaned_data` into a `.csv` file so that we can easily import in the next notebook. The function `tbl.to_csv(\"filename.csv\")` saves the tbl as a `.csv` file called `filename.csv`. \n",
    "\n",
    "**TASK:** Save the table `cleaned_data` into a csv file called `cleaned_data.csv`. "
   ]
  },
  {
   "cell_type": "code",
   "execution_count": 38,
   "metadata": {},
   "outputs": [],
   "source": [
    "cleaned_data.to_csv(\"cleaned_data.csv\")"
   ]
  },
  {
   "cell_type": "markdown",
   "metadata": {},
   "source": [
    "Good job! You have finished the first part of the Hill Thesis Survey Analysis! "
   ]
  },
  {
   "cell_type": "markdown",
   "metadata": {},
   "source": [
    "---\n",
    "\n",
    "### Note to Students: \n",
    "If you would like to use the utility provided by the Data Science Education Program team, simply copy the utils.py script to the folder where you are creating your analysis notebook. \n",
    "\n",
    "Interested in more help with learning Python or computational survey analysis? Check out  [Data Peer Consulting](https://data.berkeley.edu/education/data-peer-consulting) in Moffitt library for drop-in, one-on-one questions. For additional workshops designed for people new to computational analysis, take a look at the workshops at [The Dlab](https://dlab.berkeley.edu) (free for Berkeley students!). \n",
    "\n",
    "Good luck!\n",
    "\n",
    "\n",
    "\n",
    "### Feedback:\n",
    "Please let us know your thoughts on this notebook!\n",
    "\n",
    "Fill out the survey at this link: https://docs.google.com/forms/d/e/1FAIpQLSfahkYSKqlEEfC6WMKlaqeIxRVj0r7T4N5lgBf9bRVwRG58wQ/viewform"
   ]
  },
  {
   "cell_type": "markdown",
   "metadata": {},
   "source": [
    "---\n",
    "\n",
    "## Bibliography <a id='section 4'></a>\n",
    "\n",
    "\n",
    "Some examples adapted from the UC Berkeley Data 8 textbook:\n",
    "\n",
    "* [Tables](https://www.inferentialthinking.com/chapters/06/Tables.html\")\n",
    "* [Data 8 online Textbook: Chapter 3](http://www.inferentialthinking.com/chapters/03/programming-in-python.html)\n",
    "\n",
    "- [Introduction to tables](https://www.inferentialthinking.com/chapters/03/4/Introduction_to_Tables)\n",
    "\n",
    "\n",
    "Some term explainations adapted from the datascience documentation: \n",
    "\n",
    "- [datascience.tables documentation](http://data8.org/datascience/tables.html#tables-overview)\n",
    "\n",
    "\n",
    "Some ideas in the sections of \"Jupyter Notebook\", \"Introduction to Python\" and \"Tables and Table operations\" adapted from materials in [UC Berkeley Data Science Modules core resources](http://github.com/ds-modules/core-resources):\n",
    "\n",
    "\n",
    "- Shriya Vohra, Scott Lee, Pancham Yadav - intro-module-final\n",
    "- Keeley Takimoto - Intro-to-Python-and-Jupyter"
   ]
  },
  {
   "cell_type": "markdown",
   "metadata": {},
   "source": [
    "---\n",
    "Notebook developed by: Jiaqi (Arianna) Guo, Ritvik Lyer, Monica Wilkinson\n",
    "\n",
    "Data Science Modules: http://data.berkeley.edu/education/modules\n"
   ]
  },
  {
   "cell_type": "code",
   "execution_count": null,
   "metadata": {},
   "outputs": [],
   "source": []
  }
 ],
 "metadata": {
  "kernelspec": {
   "display_name": "Python 3",
   "language": "python",
   "name": "python3"
  },
  "language_info": {
   "codemirror_mode": {
    "name": "ipython",
    "version": 3
   },
   "file_extension": ".py",
   "mimetype": "text/x-python",
   "name": "python",
   "nbconvert_exporter": "python",
   "pygments_lexer": "ipython3",
   "version": "3.6.8"
  }
 },
 "nbformat": 4,
 "nbformat_minor": 2
}
