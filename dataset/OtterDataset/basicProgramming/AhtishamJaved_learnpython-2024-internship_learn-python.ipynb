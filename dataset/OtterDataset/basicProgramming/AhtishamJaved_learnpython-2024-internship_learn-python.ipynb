{
 "cells": [
  {
   "cell_type": "markdown",
   "metadata": {},
   "source": [
    "# <h2 align=\"center\">**Python 2024 Online Summer Internship**</h2>  \n",
    "# <h1 align=\"center\">**Make Your Place in Top 20% Pythom Programmers of the World**</h1>"
   ]
  },
  {
   "cell_type": "markdown",
   "metadata": {},
   "source": [
    "\n",
    "**Name: Ahtiisham Javed**   \n",
    "**Email ID: ahtiishamjaved223@gmail.com**"
   ]
  },
  {
   "cell_type": "markdown",
   "metadata": {},
   "source": [
    "#<h2  align=\"center\">**Python Programming Langauge**</h2>\n",
    "**1. Definition**  \n",
    ">Python is a general-purpose high-level interpreted programming language. This means:\n",
    "- **General-purpose:** It can be used for a wide variety of tasks from web development to data science to automation.\n",
    "- **High-level:** It reads closer to natural language than machine code making it easier to learn and write.\n",
    "- **Interpreted:** The code is executed line by line at runtime without the need for pre-compilation.\n",
    "\n",
    "**2. Purpose**  \n",
    ">The primary purpose of Python is to provide a powerful and versatile tool for programmers to:\n",
    "- Develop software applications efficiently.\n",
    "- Automate repetitive tasks.\n",
    "- Analyze and manipulate data.\n",
    "- Create interactive programs with graphical user interfaces (GUIs).\n",
    "- Prototype and test ideas quickly.\n",
    "\n",
    "**3. Importance**  \n",
    ">Python's popularity stems from several factors:\n",
    "- Ease of use: Its clear syntax and focus on readability make it beginner-friendly.\n",
    "- Versatility: It can be used for a vast range of projects reducing the need to learn multiple languages.\n",
    "- Large community: A vast and active community provides extensive libraries, frameworks, and support.\n",
    "- Open-source: Being free and open-source makes it accessible to everyone.\n",
    "\n",
    "**4. Applications**\n",
    "\n",
    ">Python's applications are extensive. Here are some prominent examples:\n",
    "- **Web Development:** Frameworks like Django and Flask power many popular websites and web applications.\n",
    "- **Data Science and Machine Learning:** Libraries like NumPy, Pandas, Scikit-learn, and TensorFlow are crucial tools for data analysis, visualization, and building machine learning models.\n",
    "- **Scientific Computing:** Packages like SciPy and Matplotlib facilitate scientific simulations, data analysis, and visualization.\n",
    "- **Automation:** Python excels at automating repetitive tasks such as file manipulation, data processing, and web scraping.\n",
    "- **System Administration:** Scripting tasks like network configuration or server management can be streamlined with Python.\n",
    "- **Education:** Its beginner-friendly nature makes Python a popular choice for teaching programming concepts.\n",
    "- **Game Development:** Frameworks like Pygame allow creation of 2D and even 3D games.\n",
    "\n",
    "**5. Strengths**\n",
    ">- **Readability:** Python code is clear and concise, resembling natural language for better understanding.\n",
    "- **Large Standard Library:** It comes with a rich collection of built-in modules that provide functionality for various tasks.\n",
    "- **Extensive Third-Party Libraries:** A vast ecosystem of libraries and frameworks caters to specific domains like scientific computing, data science, web development, and more.\n",
    "- **Cross-Platform Compatibility:** Python code can run on different operating systems (Windows, macOS, Linux) without modification.\n",
    "- **Object-Oriented Programming (OOP) Support:** It allows for code organization and reusability with concepts like classes and objects.\n",
    "\n",
    "**6. Weaknesses**\n",
    ">- **Speed:** Python can be slower than compiled languages like C++ for computationally intensive tasks. However, optimization techniques and libraries like Cython can mitigate this.\n",
    "- **Runtime Errors:** Errors often occur at runtime rather than compile time, which can be frustrating for beginners. However, good coding practices and testing help to manage this.\n",
    "- **Memory Management:** Python handles memory management automatically, which can sometimes lead to memory leaks if not used carefully.\n",
    "\n",
    "**7. Suitable to Use**\n",
    ">Python is a great choice for a variety of scenarios:\n",
    "- When rapid development and quick prototyping are essential.\n",
    "- For tasks involving data analysis, machine learning, and scientific computing.\n",
    "- When building web applications, especially with Django or Flask.\n",
    "- For scripting and automating repetitive tasks.\n",
    "- When learning to program for the first time or teaching programming concepts.\n"
   ]
  },
  {
   "cell_type": "markdown",
   "metadata": {},
   "source": [
    "#<h2  align=\"center\">**Data and Information**</h2>\n",
    "*   **Data:** Raw facts and figures\n",
    "*   **Information:** Processed form of Data\n"
   ]
  },
  {
   "cell_type": "markdown",
   "metadata": {},
   "source": [
    "\n",
    "\n",
    "#<h2  align=\"center\">**Types of Data**</h2>\n",
    "\n",
    "*   **Integer:** 7\n",
    "*   **Float:** 3.86\n",
    "*   **String:** Purpose of our lives is: Friendship of Allah"
   ]
  },
  {
   "cell_type": "markdown",
   "metadata": {},
   "source": [
    "\n",
    "\n",
    "\n",
    "\n",
    "#<h2  align=\"center\">**Python Program**</h2>\n",
    "*\tA Python Program is a collection of statements\n",
    "*\tA Python Program must have at least one statement\n",
    "*\tSequential Structure\n",
    "\t    - A Python Program is executed statement by statement"
   ]
  },
  {
   "cell_type": "markdown",
   "metadata": {},
   "source": [
    "\n",
    "\n",
    "\n",
    "\n",
    "\n",
    "#<h2  align=\"center\">**Displaying Messages / Data on Output Screen**</h2>\n",
    "**Use**\n",
    "- print() Function\n",
    "\n",
    "**Purpose**\n",
    "-  Display Messages / Data on Output Screen\n",
    "\n"
   ]
  },
  {
   "cell_type": "markdown",
   "metadata": {},
   "source": [
    "### **TODO Task 1:**\n",
    "**Task:** Print the following message on the Output Screen\n",
    ">Purpose of our lives is: Friendship of Allah.\n",
    "\n",
    "**Input:**\n",
    "\n",
    "**Processing:**\n",
    "\n",
    "**Output:**\n",
    "\n",
    "**Code:**"
   ]
  },
  {
   "cell_type": "markdown",
   "metadata": {},
   "source": [
    "### **TODO Task 2:**\n",
    "\n",
    "**Task:** Print the following message on the Output Screen\n",
    ">Your name\n",
    "\n",
    ">Your age\n",
    "\n",
    ">Your  marks (percentage) in FSc / A Levels\n",
    "\n",
    "\n",
    "**Input:**\n",
    "\n",
    "**Processing:**\n",
    "\n",
    "**Output:**\n",
    "\n",
    "**Code:**"
   ]
  },
  {
   "cell_type": "markdown",
   "metadata": {},
   "source": [
    "### **TODO Task 3:**\n",
    "**Task:** Print the following information about your city\n",
    ">Name\n",
    "\n",
    ">Population\n",
    "\n",
    ">Famous for\n",
    "\n",
    ">Geographic area in kilometers\n",
    "\n",
    "**Input:**\n",
    "\n",
    "**Processing:**\n",
    "\n",
    "**Output:**\n",
    "\n",
    "**Code:**"
   ]
  },
  {
   "cell_type": "markdown",
   "metadata": {},
   "source": [
    "### **Your Turn Task 1**\n",
    "**Task:**\n",
    "\n",
    "**Input:**\n",
    "\n",
    "**Processing:**\n",
    "\n",
    "**Output:**\n",
    "\n",
    "**Code:**"
   ]
  }
 ],
 "metadata": {
  "language_info": {
   "name": "python"
  }
 },
 "nbformat": 4,
 "nbformat_minor": 2
}
