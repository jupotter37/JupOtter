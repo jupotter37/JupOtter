{
  "cells": [
    {
      "cell_type": "markdown",
      "metadata": {
        "id": "view-in-github",
        "colab_type": "text"
      },
      "source": [
        "<a href=\"https://colab.research.google.com/github/Swetank015/Python_1_Assignment/blob/main/Welcome_to_Colaboratory.ipynb\" target=\"_parent\"><img src=\"https://colab.research.google.com/assets/colab-badge.svg\" alt=\"Open In Colab\"/></a>"
      ]
    },
    {
      "cell_type": "markdown",
      "source": [
        "1. Explain the key features of Python that make it a popular choice for programming.\n",
        "\n",
        "Ans. Python's popularity as a programming language can be attributed to several key features:\n",
        "\n",
        "**1. Readability and Simplicity:**\n",
        "   * **Clear Syntax:** Python's syntax is designed to be easy to read and understand, making it a great choice for beginners and experienced programmers alike.\n",
        "   * **Indentation-based Structure:** Python uses indentation to define code blocks, eliminating the need for curly braces or semicolons, which can improve code readability.\n",
        "\n",
        "**2. Versatility and Applicability:**\n",
        "   * **Wide Range of Applications:** Python can be used for various tasks, including web development, data analysis, machine learning, scientific computing, automation, and more.\n",
        "   * **Cross-Platform Compatibility:** Python runs on multiple operating systems, making it highly versatile and accessible to developers.\n",
        "\n",
        "**3. Extensive Standard Library:**\n",
        "   * **Built-in Modules:** Python comes with a rich standard library that provides modules for tasks like file I/O, network programming, regular expressions, and more.\n",
        "   * **Third-Party Libraries:** The Python Package Index (PyPI) offers a vast ecosystem of third-party libraries and frameworks for specific domains, such as NumPy, Pandas, TensorFlow, and Django.\n",
        "\n",
        "**4. Strong Community and Support:**\n",
        "   * **Active Community:** Python has a large and active community of developers who contribute to its growth and provide support through forums, tutorials, and open-source projects.\n",
        "   * **Abundant Resources:** There are numerous online resources, books, and courses available to help you learn Python and stay updated with the latest developments.\n",
        "\n",
        "**5. Dynamic Typing:**\n",
        "   * **Flexible Data Types:** Python allows you to assign different data types to variables at runtime, making your code more flexible and adaptable to changing requirements.\n",
        "\n",
        "**6. Object-Oriented Programming (OOP):**\n",
        "   * **Modular Structure:** Python supports OOP principles, enabling you to organize your code into reusable objects and classes, promoting code reusability and maintainability.\n",
        "\n",
        "**7. Interpreted Language:**\n",
        "   * **Rapid Development:** Python code is interpreted rather than compiled, allowing for faster development cycles and easier testing and debugging.\n",
        "\n",
        "**8. Memory Management:**\n",
        "   * **Automatic Garbage Collection:** Python's built-in garbage collector handles memory management, freeing you from the burden of manual memory allocation and deallocation.\n",
        "\n",
        "These features combined make Python a powerful, versatile, and user-friendly language that has gained immense popularity among developers worldwide.\n",
        "\n"
      ],
      "metadata": {
        "id": "QlOTXAlivA_0"
      }
    },
    {
      "cell_type": "markdown",
      "source": [
        "Q2. Describe the role of predefined keywords in Python and\n",
        "provide examples of how they are used in a programming.\n",
        "\n",
        "Ans. Role of Predefined Keywords in Python:\n",
        "\n",
        "Predefined keywords in Python are reserved words that have specific meanings within the language. They cannot be used as variable names, function names, or other identifiers. These keywords serve as the building blocks of Python syntax and control the flow and behavior of your code.\n",
        "\n",
        "**Examples of common predefined keywords:**\n",
        "\n",
        "* **Control Flow:**\n",
        "  * `if`, `else`, `elif`: Conditional statements for decision-making.\n",
        "  * `for`: Looping construct for iterating over sequences.\n",
        "  * `while`: Looping construct for repeating code until a condition is met.\n",
        "  * `break`: Terminates the current loop.\n",
        "  * `continue`: Skips the current iteration of a loop.\n",
        "\n",
        "* **Data Types and Structures:**\n",
        "  * `int`, `float`, `str`, `bool`: Built-in data types.\n",
        "  * `list`, `tuple`, `dict`, `set`: Data structures.\n",
        "\n",
        "* **Functions and Classes:**\n",
        "  * `def`: Defines a function.\n",
        "  * `class`: Defines a class.\n",
        "  * `return`: Returns a value from a function.\n",
        "\n",
        "* **Modules and Packages:**\n",
        "  * `import`: Imports modules or packages.\n",
        "  * `from`, `import`: Imports specific objects from a module.\n",
        "\n",
        "* **Other Keywords:**\n",
        "  * `try`, `except`, `finally`: Exception handling.\n",
        "  * `with`: Context managers for resource management.\n",
        "  * `assert`: Debugging and testing.\n",
        "  * `and`, `or`, `not`: Logical operators.\n",
        "  * `in`, `not in`: Membership operators.\n",
        "  * `is`, `is not`: Identity operators.\n",
        "\n",
        "Example of how keywords are used in a program:\n",
        "\n"
      ],
      "metadata": {
        "id": "fMbf-Y4u1vDG"
      }
    },
    {
      "cell_type": "code",
      "source": [
        "age = 18\n",
        "if age >= 18:\n",
        "    print(\"You are an adult.\")\n",
        "else:\n",
        "    print(\"You are a minor.\")"
      ],
      "metadata": {
        "id": "QZARYNEaXe4f"
      },
      "execution_count": null,
      "outputs": []
    },
    {
      "cell_type": "markdown",
      "source": [
        "Q3. Compare and contrast mutable and immutable objects in Python with examples.\n",
        "\n",
        "Ans.***Mutable Objects:***\n",
        "\n",
        "Mutable objects can be modified after they are created. Their values can change over time.\n",
        "\n",
        "Examples:\n",
        "\n",
        "* Lists\n",
        "\n",
        "* Dictionaries\n",
        "\n",
        "* Sets\n",
        "\n",
        "* Custom classes (unless explicitly made immutable)\n",
        "\n",
        "**Key Characteristics:**\n",
        "\n",
        "* Operations that modify the object (e.g., appending,\n",
        "removing, or changing elements) directly affect the original object.\n",
        "\n",
        "* Changes made to one reference to a mutable object are reflected in all other references to the same object.\n",
        "\n",
        "* Useful for data structures that need to be modified dynamically.\n",
        "\n",
        "***Immutable Objects:***\n",
        "\n",
        "Immutable objects cannot be modified once they are created. Their values remain constant.\n",
        "\n",
        "Examples:\n",
        "\n",
        "* Numbers (integers, floats, complex)\n",
        "\n",
        "* Strings\n",
        "\n",
        "* Tuples\n",
        "\n",
        "* Booleans"
      ],
      "metadata": {
        "id": "mdk1pnNvXycn"
      }
    },
    {
      "cell_type": "code",
      "source": [
        "# Mutable object: List\n",
        "my_list = [1, 2, 3]\n",
        "my_list.append(4)  # Modifies the original list\n",
        "print(my_list)  # Output: [1, 2, 3, 4]\n",
        "\n",
        "# Immutable object: String\n",
        "my_string = \"hello\"\n",
        "new_string = my_string + \" world\"  # Creates a new string\n",
        "print(my_string)  # Output: hello\n",
        "print(new_string)  # Output: hello world"
      ],
      "metadata": {
        "id": "Qk1d0OvAbSbm"
      },
      "execution_count": null,
      "outputs": []
    },
    {
      "cell_type": "markdown",
      "source": [
        "**Q4.Discuss the different types of operators in Python and provide examples of how they are used**.\n",
        "\n",
        "Ans.\n",
        "1. Arithmetic Operators: Used for mathematical calculations.\n",
        "\n"
      ],
      "metadata": {
        "id": "54RgohwifxY-"
      }
    },
    {
      "source": [
        "result = 5 + 3  # result will be 8"
      ],
      "cell_type": "code",
      "metadata": {
        "id": "2Tv7fFiFg-P1"
      },
      "execution_count": null,
      "outputs": []
    },
    {
      "cell_type": "markdown",
      "source": [
        "* (Subtraction): Subtracts the second operand from the first."
      ],
      "metadata": {
        "id": "s6eDj3ybhDo7"
      }
    },
    {
      "source": [
        "result = 10 - 4  # result will be 6"
      ],
      "cell_type": "code",
      "metadata": {
        "id": "DeLSn2k8hUVo"
      },
      "execution_count": null,
      "outputs": []
    },
    {
      "cell_type": "markdown",
      "source": [
        "* (Multiplication): Multiplies two operands."
      ],
      "metadata": {
        "id": "3f_lKjMphXhh"
      }
    },
    {
      "cell_type": "markdown",
      "source": [],
      "metadata": {
        "id": "yO1xhRKthiZp"
      }
    },
    {
      "source": [
        "result = 6 * 7  # result will be 42"
      ],
      "cell_type": "code",
      "metadata": {
        "id": "YcsCSInyhfpX"
      },
      "execution_count": null,
      "outputs": []
    },
    {
      "cell_type": "markdown",
      "source": [
        "*  / (Division): Divides the first operand by the second (results in a float).\n"
      ],
      "metadata": {
        "id": "UdXrORwIhsJV"
      }
    },
    {
      "source": [
        "result = 15 / 2  # result will be 7.5"
      ],
      "cell_type": "code",
      "metadata": {
        "id": "q7iyAjH2iPfK"
      },
      "execution_count": null,
      "outputs": []
    },
    {
      "cell_type": "markdown",
      "source": [
        "* // (Floor Division): Divides the first operand by the second and returns the integer quotient."
      ],
      "metadata": {
        "id": "PD7BmzvUiQvU"
      }
    },
    {
      "source": [
        "result = 15 // 2  # result will be 7"
      ],
      "cell_type": "code",
      "metadata": {
        "id": "2WgdYnW_idsn"
      },
      "execution_count": null,
      "outputs": []
    },
    {
      "cell_type": "markdown",
      "source": [
        "* % (Modulo): Returns the remainder of the division."
      ],
      "metadata": {
        "id": "_Z7PtyhUigXy"
      }
    },
    {
      "source": [
        "result = 17 % 5  # result will be 2"
      ],
      "cell_type": "code",
      "metadata": {
        "id": "O6WdKrrGim0J"
      },
      "execution_count": null,
      "outputs": []
    },
    {
      "cell_type": "markdown",
      "source": [
        " * ** (Exponentiation): Raises the first operand to the power of the second."
      ],
      "metadata": {
        "id": "cXCiCOAdiprv"
      }
    },
    {
      "source": [
        "result = 2 ** 3  # result will be 8"
      ],
      "cell_type": "code",
      "metadata": {
        "id": "WPzEgSYxiuC8"
      },
      "execution_count": null,
      "outputs": []
    },
    {
      "cell_type": "markdown",
      "source": [
        "2. **Comparison operators:    Used to compare values**.\n",
        "\n",
        "* == (Equal to): Checks if two operands are equal.\n",
        "* != (Not equal to): Checks if two operands are not equal.\n",
        "\n",
        "* (Greater than) : Checks if the first operand is greater than the second (>).\n",
        "\n",
        "* <(Less than): Checks if the first operand is less than the second.\n",
        "\n",
        "* (Greater than or equal to): Checks if the first operand is greater than or equal to the second (>=).\n",
        "\n",
        "* <=(Less than or equal to): Checks if the first operand is less than or equal to the second.\n",
        "\n",
        "\n",
        "\n",
        "3. **Logical operators: Used to combine conditional statements**.\n",
        "\n",
        "* and (Logical AND): Returns True if both operands are True.\n",
        "\n",
        "* or (Logical OR): Returns True if at least one of the operands is True.\n",
        "\n",
        "* not (Logical NOT): Inverts the truth value of the operand.\n",
        "\n",
        "\n",
        "\n",
        "4. **Assignment Operators**: Used to assign values to variables.\n",
        "\n",
        "* = (Assignment):  Assigns the value on the right to the variable on the left.\n",
        "\n",
        "* +=  (Add and assign): Adds the right operand to the left and assigns the result to the left.\n",
        "* -= (Subtract and assign): Subtracts the right operand from the left and assigns the result to the left.\n",
        "* *=, /=, //=, %=, **=: Similar compound assignment operators for other arithmetic operations.\n",
        "\n",
        "5. **Bitwise Operators**: Used to perform bitwise operations on integers.\n",
        "\n",
        "* & (Bitwise AND)\n",
        "* | (Bitwise OR)\n",
        "* ^ (Bitwise XOR)\n",
        "* << (Left shift)\n",
        "* (>>) (Right shift)\n",
        "\n",
        "6. **Membership Operators**: Used to test if a value is a member of a sequence.\n",
        "\n",
        "* in: Returns True if the value is found in the sequence.\n",
        "* not in: Returns True if the value is not found in the sequence.\n",
        "\n",
        "7. **Identity Operators**: Used to compare the memory locations of two objects.\n",
        "\n",
        "* is:  Returns True if both operands refer to the same object.\n",
        "* is not:  Returns True if both operands do not refer to the same object.\n",
        "\n",
        "\n"
      ],
      "metadata": {
        "id": "gSIBAxTmivYb"
      }
    },
    {
      "cell_type": "markdown",
      "source": [
        "Q5. **Explain the concept of type casting in Python with exmples**.\n",
        "\n",
        "Ans.Type casting, also known as type conversion, is the process of converting one data type to another in programming. Python provides built-in functions to perform type casting:\n",
        "\n",
        "* int(): Converts a value to an integer.\n",
        "* float(): Converts a value to a floating-point number.\n",
        "* str(): Converts a value to a string.\n",
        "* bool(): Converts a value to a boolean (True or False)."
      ],
      "metadata": {
        "id": "KrW3uBU5pSLX"
      }
    },
    {
      "cell_type": "markdown",
      "source": [],
      "metadata": {
        "id": "FhSYHGqLjdHl"
      }
    },
    {
      "cell_type": "code",
      "source": [
        "x = 3.14\n",
        "y = int(x)\n",
        "print(y)  # Output: 3"
      ],
      "metadata": {
        "id": "cHfxMZTA8fpk"
      },
      "execution_count": null,
      "outputs": []
    },
    {
      "cell_type": "markdown",
      "source": [
        "Q6. How do conditional statements work in Python? Illustrate with examples.\n",
        "\n",
        "Ans.Conditional statements allow you to execute different code blocks based on specific conditions. Python provides the following conditional statements:\n",
        "\n",
        "1. **if statement**:\n",
        "\n",
        "* Executes a block of code if a condition is true."
      ],
      "metadata": {
        "id": "fIvNeDti9P5t"
      }
    },
    {
      "cell_type": "code",
      "source": [
        "x = 10\n",
        "if x > 0:\n",
        "    print(\"x is positive\")"
      ],
      "metadata": {
        "id": "pGXHiTzA_9AZ"
      },
      "execution_count": null,
      "outputs": []
    },
    {
      "cell_type": "markdown",
      "source": [
        "2. **if-else statement**:\n",
        "\n",
        "* Executes one block of code if a condition is true, and another block if it's false."
      ],
      "metadata": {
        "id": "_QpZbEKfAD21"
      }
    },
    {
      "cell_type": "code",
      "source": [
        "x = -5\n",
        "if x > 0:\n",
        "    print(\"x is positive\")\n",
        "else:\n",
        "    print(\"x is negative or zero\")"
      ],
      "metadata": {
        "id": "gwqJepIXAlew"
      },
      "execution_count": null,
      "outputs": []
    },
    {
      "cell_type": "markdown",
      "source": [
        "3. **if-elif-else statement**:\n",
        " Executes one block of code if a condition is true, and another block if a different condition is true. If none of the conditions are true, it executes a default block."
      ],
      "metadata": {
        "id": "1NREBKYEAu2U"
      }
    },
    {
      "cell_type": "code",
      "source": [
        "x = 0\n",
        "if x > 0:\n",
        "    print(\"x is positive\")\n",
        "elif x < 0:\n",
        "    print(\"x is negative\")\n",
        "else:\n",
        "    print(\"x is zero\")"
      ],
      "metadata": {
        "id": "eKQoifzjCmoh"
      },
      "execution_count": null,
      "outputs": []
    },
    {
      "cell_type": "markdown",
      "source": [
        "4. **Nested conditional statements**:\n",
        "You can nest conditional statements within each other for more complex logic."
      ],
      "metadata": {
        "id": "dAKk5JktCrd8"
      }
    },
    {
      "cell_type": "code",
      "source": [
        "age = 25\n",
        "if age >= 18:\n",
        "    if age >= 65:\n",
        "        print(\"You are a senior citizen\")\n",
        "    else:\n",
        "        print(\"You are an adult\")\n",
        "else:\n",
        "    print(\"You are a minor\")"
      ],
      "metadata": {
        "id": "CSENSd_IDMu9"
      },
      "execution_count": null,
      "outputs": []
    },
    {
      "cell_type": "markdown",
      "source": [
        "7. **Describe the different types of loops in Python and their use cases with examples**.\n",
        "\n",
        "Ans.\n",
        "Loops are essential programming constructs that allow you to repeatedly execute a block of code until a certain condition is met. Python offers two primary types of loops: for loops and while loops.\n",
        "\n",
        "1. **for Loops**\n",
        "Purpose:\n",
        "\n",
        "* Iterates over a sequence (like a list, tuple, string, or dictionary).\n",
        "* Executes a block of code for each item in the sequence.\n"
      ],
      "metadata": {
        "id": "XQvbUgtSDpP2"
      }
    },
    {
      "cell_type": "code",
      "source": [
        "fruits = [\"apple\", \"banana\", \"cherry\"]\n",
        "for fruit in fruits:\n",
        "    print(fruit)"
      ],
      "metadata": {
        "id": "vo3xk1sCJzX2"
      },
      "execution_count": null,
      "outputs": []
    },
    {
      "cell_type": "markdown",
      "source": [
        "**Use cases**:\n",
        "\n",
        "* Iterating over lists, tuples, and strings.\n",
        "* Generating sequences using the range() function.\n",
        "* Processing elements in dictionaries."
      ],
      "metadata": {
        "id": "-u18mnQ5LROM"
      }
    },
    {
      "cell_type": "markdown",
      "source": [
        "2. **while Loops**\n",
        "Purpose:\n",
        "\n",
        "* Executes a block of code as long as a specified condition is true.\n",
        "* The condition is checked before each iteration."
      ],
      "metadata": {
        "id": "fFe-qp-SJ2vZ"
      }
    },
    {
      "cell_type": "code",
      "source": [
        "count = 0\n",
        "while count < 5:\n",
        "    print(\"Count:\", count)\n",
        "    count += 1"
      ],
      "metadata": {
        "id": "UgNw8l6oK9Aw"
      },
      "execution_count": null,
      "outputs": []
    },
    {
      "cell_type": "markdown",
      "source": [
        "Use cases:\n",
        "\n",
        "* Repeating actions until a specific condition is met.\n",
        "* Implementing user input-driven loops.\n",
        "* Creating infinite loops (with a break statement to exit)."
      ],
      "metadata": {
        "id": "jHG_h2fpLoh7"
      }
    }
  ],
  "metadata": {
    "colab": {
      "name": "Welcome to Colaboratory",
      "toc_visible": true,
      "provenance": [],
      "include_colab_link": true
    },
    "kernelspec": {
      "display_name": "Python 3",
      "name": "python3"
    }
  },
  "nbformat": 4,
  "nbformat_minor": 0
}