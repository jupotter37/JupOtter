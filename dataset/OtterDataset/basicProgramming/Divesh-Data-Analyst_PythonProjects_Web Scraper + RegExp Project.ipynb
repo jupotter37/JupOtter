{
 "cells": [
  {
   "cell_type": "markdown",
   "id": "a1a8ca6d",
   "metadata": {},
   "source": [
    "# Web Scraper For Text (Pandas & Regular Expression)\n",
    "\n",
    "This is project 5 out of 5 in the Analyst Builder's Python Programming for Beginners Series. I will add my own changes and modifications compared to the one shown in the course."
   ]
  },
  {
   "cell_type": "code",
   "execution_count": 1,
   "id": "1d7d6bfc",
   "metadata": {},
   "outputs": [],
   "source": [
    "from bs4 import BeautifulSoup\n",
    "import requests\n",
    "import pandas as pd\n",
    "import os\n",
    "import re"
   ]
  },
  {
   "cell_type": "code",
   "execution_count": 2,
   "id": "f7e96d98",
   "metadata": {},
   "outputs": [],
   "source": [
    "#We will analyze text from the famous story The Secret Life of Walter Mitty by James Thurber\n",
    "url = \"https://www.newyorker.com/magazine/1939/03/18/the-secret-life-of-walter-mitty-james-thurber\"\n",
    "\n",
    "page = requests.get(url)\n",
    "\n",
    "soup = BeautifulSoup(page.text, \"html\")"
   ]
  },
  {
   "cell_type": "code",
   "execution_count": 3,
   "id": "16d3a816",
   "metadata": {},
   "outputs": [],
   "source": [
    "#Text was seperated into different classes, using a + allowed me to combine them into one piece.\n",
    "first_para = soup.find_all(\"p\",class_ = \"has-dropcap has-dropcap__lead-standard-heading\") + soup.find_all(\"p\",class_ = \"paywall\")"
   ]
  },
  {
   "cell_type": "code",
   "execution_count": 4,
   "id": "ebf80ed7",
   "metadata": {},
   "outputs": [],
   "source": [
    "#Allows for the list of paragraphs to be compiled into one. \n",
    "combine = [p.text for p in first_para]"
   ]
  },
  {
   "cell_type": "code",
   "execution_count": 5,
   "id": "8ddb43ad",
   "metadata": {},
   "outputs": [],
   "source": [
    "final_text = \" \".join(combine)"
   ]
  },
  {
   "cell_type": "code",
   "execution_count": 6,
   "id": "0f234b8c",
   "metadata": {},
   "outputs": [],
   "source": [
    "#Removal of unknown characters that were pulled from the website.\n",
    "final_text_a = final_text.replace(\"\\xa0\", \"\").replace(\"♦\", \"\")"
   ]
  },
  {
   "cell_type": "code",
   "execution_count": 7,
   "id": "323ebcbb",
   "metadata": {},
   "outputs": [],
   "source": [
    "#Removal of Punctuation, to help us build a word counter.\n",
    "punctuation_pattern = re.compile(r'[^\\w\\s]')\n",
    "\n",
    "cleaned_text = punctuation_pattern.sub('', final_text_a)"
   ]
  },
  {
   "cell_type": "code",
   "execution_count": 8,
   "id": "938bb407",
   "metadata": {},
   "outputs": [],
   "source": [
    "lower_text = cleaned_text.lower()"
   ]
  },
  {
   "cell_type": "code",
   "execution_count": 9,
   "id": "86a81e8d",
   "metadata": {},
   "outputs": [],
   "source": [
    "#Final List - Has all the words from the story, seperated \n",
    "mitty = re.split(r'\\s+',lower_text)"
   ]
  },
  {
   "cell_type": "code",
   "execution_count": 10,
   "id": "11c0937b",
   "metadata": {},
   "outputs": [],
   "source": [
    "df = pd.DataFrame(mitty).value_counts()"
   ]
  },
  {
   "cell_type": "code",
   "execution_count": 11,
   "id": "d9edfb2a",
   "metadata": {},
   "outputs": [],
   "source": [
    "df.to_csv('/Users/username/Desktop/Python/Walter Mitty/MittyWordCount.csv',header = [\"Counts\"], index_label = \"Words\")"
   ]
  },
  {
   "cell_type": "markdown",
   "id": "c73c7a15",
   "metadata": {},
   "source": [
    "### Project Overview and Lessons Learnt \n",
    "\n",
    "While this project took some time (trying to understand how to effectivelly use re and bs4) it was really interesting to learn that I can do with this with any given piece of text wheter on or off the web. \n",
    "\n",
    "A simple word counter online can do the same task - but I feel being able to access the variable and the ability to make changes as per you preferences gives this method the upper hand. \n",
    "\n",
    "I would use this similar project if I were to segment critical data from a large book, pdf or text file. The versatility and speed of Python will allow me to get quick answers to my issue at hand. "
   ]
  }
 ],
 "metadata": {
  "kernelspec": {
   "display_name": "Python 3 (ipykernel)",
   "language": "python",
   "name": "python3"
  },
  "language_info": {
   "codemirror_mode": {
    "name": "ipython",
    "version": 3
   },
   "file_extension": ".py",
   "mimetype": "text/x-python",
   "name": "python",
   "nbconvert_exporter": "python",
   "pygments_lexer": "ipython3",
   "version": "3.11.5"
  }
 },
 "nbformat": 4,
 "nbformat_minor": 5
}
