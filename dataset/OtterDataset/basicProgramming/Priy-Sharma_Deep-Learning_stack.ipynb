{
 "cells": [
  {
   "cell_type": "code",
   "execution_count": 1,
   "id": "078457ee",
   "metadata": {},
   "outputs": [],
   "source": [
    "# Import the libraries\n",
    "import tensorflow as tf\n",
    "from tensorflow import keras\n",
    "from tensorflow.keras import models, layers\n",
    "\n",
    "import matplotlib.pyplot as plt\n",
    "\n",
    "import os\n",
    "import pathlib"
   ]
  },
  {
   "cell_type": "markdown",
   "id": "0146e127",
   "metadata": {},
   "source": [
    "### Download and explore the dataset\n",
    "\n",
    "Begin by downloading the Stack Overflow dataset using `tf.keras.utils.get_file`, and exploring the directory structure:"
   ]
  },
  {
   "cell_type": "code",
   "execution_count": 2,
   "id": "7f242ccc",
   "metadata": {},
   "outputs": [],
   "source": [
    "stack_url = 'https://storage.googleapis.com/download.tensorflow.org/data/stack_overflow_16k.tar.gz'"
   ]
  },
  {
   "cell_type": "code",
   "execution_count": 3,
   "id": "e2a14a5e",
   "metadata": {},
   "outputs": [
    {
     "name": "stdout",
     "output_type": "stream",
     "text": [
      "/tmp\\.keras\\.\\stack_overflow_16k\n"
     ]
    }
   ],
   "source": [
    "# Load the dataset\n",
    "dataset = tf.keras.utils.get_file(origin = stack_url, \n",
    "                                  untar = True,\n",
    "                                  cache_dir = \"stack_overflow\",\n",
    "                                  cache_subdir =\".\" )\n",
    "\n",
    "print(dataset) # gives the path of dataset"
   ]
  },
  {
   "cell_type": "code",
   "execution_count": 4,
   "id": "ec9024d3",
   "metadata": {},
   "outputs": [
    {
     "data": {
      "text/plain": [
       "WindowsPath('/tmp/.keras')"
      ]
     },
     "execution_count": 4,
     "metadata": {},
     "output_type": "execute_result"
    }
   ],
   "source": [
    "# Convert to windows path\n",
    "dataset_dir = pathlib.Path(dataset).parent\n",
    "dataset_dir"
   ]
  },
  {
   "cell_type": "code",
   "execution_count": 5,
   "id": "e4ddb866",
   "metadata": {},
   "outputs": [
    {
     "data": {
      "text/plain": [
       "[WindowsPath('/tmp/.keras/README.md'),\n",
       " WindowsPath('/tmp/.keras/stack_overflow_16k.tar.gz'),\n",
       " WindowsPath('/tmp/.keras/test'),\n",
       " WindowsPath('/tmp/.keras/train')]"
      ]
     },
     "execution_count": 5,
     "metadata": {},
     "output_type": "execute_result"
    }
   ],
   "source": [
    "list(dataset_dir.iterdir())"
   ]
  },
  {
   "cell_type": "code",
   "execution_count": 6,
   "id": "bc8d6f29",
   "metadata": {},
   "outputs": [
    {
     "data": {
      "text/plain": [
       "[WindowsPath('/tmp/.keras/train/csharp'),\n",
       " WindowsPath('/tmp/.keras/train/java'),\n",
       " WindowsPath('/tmp/.keras/train/javascript'),\n",
       " WindowsPath('/tmp/.keras/train/python')]"
      ]
     },
     "execution_count": 6,
     "metadata": {},
     "output_type": "execute_result"
    }
   ],
   "source": [
    "train_dir = dataset_dir/'train'\n",
    "list(train_dir.iterdir())"
   ]
  },
  {
   "cell_type": "code",
   "execution_count": 7,
   "id": "e9a694e1",
   "metadata": {},
   "outputs": [
    {
     "data": {
      "text/plain": [
       "WindowsPath('/tmp/.keras/train')"
      ]
     },
     "execution_count": 7,
     "metadata": {},
     "output_type": "execute_result"
    }
   ],
   "source": [
    "train_dir"
   ]
  },
  {
   "cell_type": "code",
   "execution_count": 8,
   "id": "ce4e4705",
   "metadata": {},
   "outputs": [
    {
     "data": {
      "text/plain": [
       "[WindowsPath('/tmp/.keras/test/csharp'),\n",
       " WindowsPath('/tmp/.keras/test/java'),\n",
       " WindowsPath('/tmp/.keras/test/javascript'),\n",
       " WindowsPath('/tmp/.keras/test/python')]"
      ]
     },
     "execution_count": 8,
     "metadata": {},
     "output_type": "execute_result"
    }
   ],
   "source": [
    "test_dir = dataset_dir/'test'\n",
    "list(test_dir.iterdir())"
   ]
  },
  {
   "cell_type": "markdown",
   "id": "5dad56c0",
   "metadata": {},
   "source": [
    "The `train/csharp`, `train/java`, `train/python` and `train/javascript` directories contain many text files, each of which is a Stack Overflow question.\n",
    "\n",
    "Print an example file and inspect the data:"
   ]
  },
  {
   "cell_type": "code",
   "execution_count": 9,
   "id": "eded7ebb",
   "metadata": {},
   "outputs": [
    {
     "name": "stdout",
     "output_type": "stream",
     "text": [
      "\"how to pause loop while time is ticking i have made a timer where i can set time i want to wait and then do something..so this is my short timer func:..private void sleep(int interval, action action).{.    system.windows.forms.timer mytimer = new system.windows.forms.timer();.    mytimer.interval = interval; //interval is in ms   .    mytimer.start();.    mytimer.tick += (s, e) =&gt;.    {.        action();.        mytimer.stop();.    };.}...and im using this timer in loop:..foreach (string word in words).{.   sleep(5000, ()=&gt; myaction());                                           .}...without loop timer is great but in loop it wont work because loop wont stop and wait for those 5secs. it do all stuff imediately and starts timer again and again too fast...so what im trying to find out is how to make my loop wait until time runs out and myaction() is executed. im working on forms application so all threadin sleeps wont work here. also i tried all other timers but they used too much cpu.\"\n",
      "\n"
     ]
    }
   ],
   "source": [
    "sample_file = train_dir/'csharp/0.txt'\n",
    "with open(sample_file) as f:\n",
    "    print(f.read())\n"
   ]
  },
  {
   "cell_type": "markdown",
   "id": "11076c7e",
   "metadata": {},
   "source": [
    "### Load the dataset\n",
    "\n",
    "Next, you will load the data off-disk and prepare it into a format suitable for training. To do so, you will use the `tf.keras.utils.text_dataset_from_directory` utility to create a labeled `tf.data.Dataset`. If you're new to `tf.data`, it's a powerful collection of tools for building input pipelines. (Learn more in the [tf.data: Build TensorFlow input pipelines](../../guide/data.ipynb) guide.)\n",
    "\n",
    "The `tf.keras.utils.text_dataset_from_directory` API expects a directory structure as follows:\n",
    "\n",
    "```\n",
    "train/\n",
    "...csharp/\n",
    "......1.txt\n",
    "......2.txt\n",
    "...java/\n",
    "......1.txt\n",
    "......2.txt\n",
    "...javascript/\n",
    "......1.txt\n",
    "......2.txt\n",
    "...python/\n",
    "......1.txt\n",
    "......2.txt\n",
    "```"
   ]
  },
  {
   "cell_type": "markdown",
   "id": "e4961e74",
   "metadata": {},
   "source": [
    "When running a machine learning experiment, it is a best practice to divide your dataset into three splits: [training](https://developers.google.com/machine-learning/glossary#training_set), [validation](https://developers.google.com/machine-learning/glossary#validation_set), and [test](https://developers.google.com/machine-learning/glossary#test-set).\n",
    "\n",
    "The Stack Overflow dataset has already been divided into training and test sets, but it lacks a validation set.\n",
    "\n",
    "Create a validation set using an 80:20 split of the training data by using `tf.keras.utils.text_dataset_from_directory` with `validation_split` set to `0.2` (i.e. 20%):"
   ]
  },
  {
   "cell_type": "code",
   "execution_count": 10,
   "id": "31480116",
   "metadata": {},
   "outputs": [
    {
     "name": "stdout",
     "output_type": "stream",
     "text": [
      "Found 8000 files belonging to 4 classes.\n",
      "Using 6400 files for training.\n"
     ]
    }
   ],
   "source": [
    "BATCH_SIZE = 32\n",
    "train_set = tf.keras.utils.text_dataset_from_directory(train_dir, \n",
    "                                                       shuffle= True,\n",
    "                                                       seed = 30,\n",
    "                                                       validation_split = 0.2,\n",
    "                                                       subset = 'training',\n",
    "                                                       batch_size = BATCH_SIZE)"
   ]
  },
  {
   "cell_type": "markdown",
   "id": "6c2fd748",
   "metadata": {},
   "source": [
    "As the previous cell output suggests, there are 8,000 examples in the training folder, of which you will use 80% (or 6,400) for training. You will learn in a moment that you can train a model by passing a `tf.data.Dataset` directly to `Model.fit`.\n",
    "\n",
    "First, iterate over the dataset and print out a few examples, to get a feel for the data.\n",
    "\n",
    "Note: To increase the difficulty of the classification problem, the dataset author replaced occurrences of the words *Python*, *CSharp*, *JavaScript*, or *Java* in the programming question with the word *blank*."
   ]
  },
  {
   "cell_type": "code",
   "execution_count": 11,
   "id": "f27b2f55",
   "metadata": {},
   "outputs": [
    {
     "data": {
      "text/plain": [
       "['csharp', 'java', 'javascript', 'python']"
      ]
     },
     "execution_count": 11,
     "metadata": {},
     "output_type": "execute_result"
    }
   ],
   "source": [
    "class_name = train_set.class_names\n",
    "class_name"
   ]
  },
  {
   "cell_type": "code",
   "execution_count": 12,
   "id": "0bdf3a46",
   "metadata": {},
   "outputs": [
    {
     "name": "stdout",
     "output_type": "stream",
     "text": [
      "The Label: 0 stands for the class name: csharp \n",
      "The Label: 1 stands for the class name: java \n",
      "The Label: 2 stands for the class name: javascript \n",
      "The Label: 3 stands for the class name: python \n"
     ]
    }
   ],
   "source": [
    "for i, name in enumerate(train_set.class_names):\n",
    "    print(f\"The Label: {i} stands for the class name: {name} \")"
   ]
  },
  {
   "cell_type": "code",
   "execution_count": 13,
   "id": "a78862c2",
   "metadata": {},
   "outputs": [
    {
     "name": "stdout",
     "output_type": "stream",
     "text": [
      "Question:  b'can an arraylist of node contain non-node type? can an arraylist of node contain a non-node type? ..is there a very dirty method of doing this with type casting?\\n'\n",
      "Label: 1\n",
      "Question:  b'\"call baseclass method on extendedclass object when defined as baseclass imagine following code:..public class baseclass {.    private int a;..    public void noreturnnoparam() {.        system.out.println(\"\"from base class\"\");.    }.}..public class extendedclass extends baseclass {.    private int b;..    @override.    public void noreturnnoparam() {.        system.out.println(\"\"from extended class\"\");.    }.}..public class polymorph {.    public static void main(string... args) {.        baseclass bc = new baseclass();.        extendedclass ec = new extendedclass();.        baseclass bcec = new extendedclass();..        bc.noreturnnoparam();.        ec.noreturnnoparam();.        bcec.noreturnnoparam();.    }.}...output is as follows:..from base class.from extended class.from extended class...so how can i achieve that, on calling bcec.noreturnnoparam() the baseclass` method is called? (and only if the extendedclass object is stored in a baseclass type)?\"\\n'\n",
      "Label: 1\n",
      "Question:  b'\"add empty elements to a list phrase = \"\"test phrase\"\".progress = []..for letter in phrase:.    if letter != none:.        progress.append(\"\"-\"\").    else:.        progress.append(\"\"\"\")..print progress...so i want this to give me [\"\"-\"\",\"\"-\"\",\"\"-\"\",\"\"-\"\",\"\"\"\",\"\"-\"\",\"\"-\"\",\"\"-\"\",\"\"-\"\",\"\"-\"\"].so that i can string.join them and get ---- -----.basically a hidden string. .but [\\'-\\', \\'-\\', \\'-\\', \\'-\\', \\'-\\', \\'-\\', \\'-\\', \\'-\\', \\'-\\', \\'-\\', \\'-\\'].is what i\\'m getting. no empty element to mark the space.\"\\n'\n",
      "Label: 3\n",
      "Question:  b'\"does class method and class variable belongs to class object in blank? below two points are mentioned in blank doc:...\"\"class objects are constructed automatically by the blank virtual machine as classes are loaded and by calls to the defineclass method in the class loader.every instance of the class shares a class variable, which is in one fixed location in memory. any object can change the value of a class variable, but class variables can also be manipulated without creating an instance of the class....my question is: does class method and class variable belong to \"\"blank.lang.class\"\" object in blank?\"\\n'\n",
      "Label: 1\n",
      "Question:  b'\"why testing args.length? i\\'m a blank beginner and i\\'m confused about testing args.length at the begining of many codes, and why it\\'s never gets higher than 0 in any of my codes?..import blank.net.socket;.import blank.net.unknownhostexception;.import blank.io.ioexception;..public class lowportscanner {.public static void main(string[] args) {.string host = \"\"localhost\"\";.if (args.length &gt; 0) {.host = args[0];.}.for (int i = 1; i &lt; 1024; i++) {.try {.socket s = new socket(host, i);.system.out.println(\"\"there is a server on port \"\" + i + \"\" of \"\".+ host);.}.catch (unknownhostexception ex) {.system.err.println(ex);.break;.}.catch (ioexception ex) {}.} // end for.} // end main.} // end portscanner\"\\n'\n",
      "Label: 1\n"
     ]
    }
   ],
   "source": [
    "for text_batch, label_batch in train_set.take(1):\n",
    "  for i in range(5):\n",
    "    print(\"Question: \", text_batch.numpy()[i])\n",
    "    print(\"Label:\", label_batch.numpy()[i])"
   ]
  },
  {
   "cell_type": "markdown",
   "id": "8c41c1a2",
   "metadata": {},
   "source": [
    "Next, you will create a validation and a test set using `tf.keras.utils.text_dataset_from_directory`. You will use the remaining 1,600 reviews from the training set for validation.\n",
    "\n",
    "Note:  When using the `validation_split` and `subset` arguments of `tf.keras.utils.text_dataset_from_directory`, make sure to either specify a random seed or pass `shuffle=False`, so that the validation and training splits have no overlap."
   ]
  },
  {
   "cell_type": "code",
   "execution_count": 14,
   "id": "7ca073b3",
   "metadata": {},
   "outputs": [
    {
     "name": "stdout",
     "output_type": "stream",
     "text": [
      "Found 8000 files belonging to 4 classes.\n",
      "Using 1600 files for validation.\n"
     ]
    }
   ],
   "source": [
    "val_set = tf.keras.utils.text_dataset_from_directory(train_dir,\n",
    "                                                     validation_split = 0.2,\n",
    "                                                     subset = 'validation',\n",
    "                                                     batch_size = BATCH_SIZE,\n",
    "                                                     shuffle = True,\n",
    "                                                     seed = 30)"
   ]
  },
  {
   "cell_type": "code",
   "execution_count": 15,
   "id": "15214537",
   "metadata": {},
   "outputs": [
    {
     "name": "stdout",
     "output_type": "stream",
     "text": [
      "Found 8000 files belonging to 4 classes.\n"
     ]
    }
   ],
   "source": [
    "test_set = tf.keras.utils.text_dataset_from_directory(test_dir,\n",
    "                                                      batch_size = BATCH_SIZE)"
   ]
  },
  {
   "cell_type": "markdown",
   "id": "0b8d881c",
   "metadata": {},
   "source": [
    "### Configure the datasets for performance\n",
    "\n",
    "These are two important methods you should use when loading data to make sure that I/O does not become blocking.\n",
    "\n",
    "- `Dataset.cache` keeps data in memory after it's loaded off-disk. This will ensure the dataset does not become a bottleneck while training your model. If your dataset is too large to fit into memory, you can also use this method to create a performant on-disk cache, which is more efficient to read than many small files.\n",
    "- `Dataset.prefetch` overlaps data preprocessing and model execution while training.\n",
    "\n",
    "You can learn more about both methods, as well as how to cache data to disk in the *Prefetching* section of the [Better performance with the tf.data API](../../guide/data_performance.ipynb) guide."
   ]
  },
  {
   "cell_type": "code",
   "execution_count": 16,
   "id": "67299673",
   "metadata": {},
   "outputs": [],
   "source": [
    "train_set = train_set.cache().prefetch(buffer_size = tf.data.AUTOTUNE)\n",
    "test_set = test_set.cache().prefetch(buffer_size = tf.data.AUTOTUNE)\n",
    "val_set = val_set.cache().prefetch(buffer_size = tf.data.AUTOTUNE)"
   ]
  },
  {
   "cell_type": "markdown",
   "id": "6f84f8df",
   "metadata": {},
   "source": [
    "Next, you will standardize, tokenize, and vectorize the data using the `tf.keras.layers.TextVectorization` layer.\n",
    "\n",
    "- _Standardization_ refers to preprocessing the text, typically to remove punctuation or HTML elements to simplify the dataset.\n",
    "- _Tokenization_ refers to splitting strings into tokens (for example, splitting a sentence into individual words by splitting on whitespace).\n",
    "- _Vectorization_ refers to converting tokens into numbers so they can be fed into a neural network.\n",
    "\n",
    "All of these tasks can be accomplished with this layer. (You can learn more about each of these in the `tf.keras.layers.TextVectorization` API docs.)\n",
    "\n",
    "Note that:\n",
    "\n",
    "- The default standardization converts text to lowercase and removes punctuation (`standardize='lower_and_strip_punctuation'`).\n",
    "- The default tokenizer splits on whitespace (`split='whitespace'`).\n",
    "- The default vectorization mode is `'int'` (`output_mode='int'`). This outputs integer indices (one per token). This mode can be used to build models that take word order into account."
   ]
  },
  {
   "cell_type": "markdown",
   "id": "3c75c1c1",
   "metadata": {},
   "source": [
    "For the `'int'` mode, in addition to maximum vocabulary size, you need to set an explicit maximum sequence length (`MAX_SEQUENCE_LENGTH`), which will cause the layer to pad or truncate sequences to exactly `output_sequence_length` values:"
   ]
  },
  {
   "cell_type": "code",
   "execution_count": 17,
   "id": "7a2f4318",
   "metadata": {},
   "outputs": [],
   "source": [
    "VOCAB_LENGTH = 10000\n",
    "MAX_SEQUENCE_LENGTH = 250\n",
    "\n",
    "vectorize_layer = tf.keras.layers.TextVectorization(max_tokens= VOCAB_LENGTH,\n",
    "                                                    output_sequence_length = MAX_SEQUENCE_LENGTH,\n",
    "                                                    output_mode = 'int')"
   ]
  },
  {
   "cell_type": "markdown",
   "id": "82f923f3",
   "metadata": {},
   "source": [
    "Next, call `TextVectorization.adapt` to fit the state of the preprocessing layer to the dataset. This will cause the model to build an index of strings to integers.\n",
    "\n",
    "Note: It's important to only use your training data when calling `TextVectorization.adapt`, as using the test set would leak information."
   ]
  },
  {
   "cell_type": "code",
   "execution_count": 18,
   "id": "ab694e1d",
   "metadata": {},
   "outputs": [],
   "source": [
    "# Make a text-only dataset (without labels), then call `TextVectorization.adapt`.\n",
    "train_set_text = train_set.map(lambda text, label: text)\n",
    "vectorize_layer.adapt(train_set_text)"
   ]
  },
  {
   "cell_type": "markdown",
   "id": "8078b3f5",
   "metadata": {},
   "source": [
    "Print the result of using these layers to preprocess data:"
   ]
  },
  {
   "cell_type": "code",
   "execution_count": 19,
   "id": "70667dfc",
   "metadata": {},
   "outputs": [
    {
     "name": "stdout",
     "output_type": "stream",
     "text": [
      "The first question is b'\"blank - reading through the same file from different starting lines i am trying to read a .non file (you can find an example here)..those files contains 4 keys: width, height, rows and columns (both are made of multiple values)...width and height are always before rows, columns or in my case goal, thus i have to go through the file while not knowing when i\\'ll find what i need...here\\'s what i\\'m trying to do:..# this function will create the grid.def fcreate(grid_id):.    gridfile = open(grid_id[\\'grid\\'], \"\"r\"\").    # here, we\\'re going through the entire file, getting the values we need..    # still working on a pretty way to make the dictionary !.    for line in gridfile:.        if \"\"width\"\" in line:.            grid_id[\\'width\\'] = re.sub(\\'[a-z]\\', \\'\\', line).strip().        if \"\"height\"\" in line:.            grid_id[\\'height\\'] = re.sub(\\'[a-z]\\', \\'\\', line).strip().        if \"\"rows\"\" in line:.            # get all the rows values until something else ? or eof.        if \"\"columns\"\" in line:.            # get all the columns values until something else ? or eof.    # end of the for.    gridfile.close().    return grid_id.    pass...grid_id contains all the values i have to get...i\\'ve tried making a new for in the \"\"if \"\"rows\"\"\"\", a while and whatnot, but can\\'t seem to escape either reading through the entire file again or looping on the line that contains \"\"rows\"\" or \"\"columns.\"\\n'\n",
      "The label of first question is 3\n"
     ]
    }
   ],
   "source": [
    "# Retrieve a batch (of 32 reviews and labels) from the dataset.\n",
    "text_batch, label_batch = next(iter(train_set))\n",
    "first_text, first_label = text_batch[0], label_batch[0]\n",
    "print(f\"The first question is {first_text}\")\n",
    "print(f\"The label of first question is {first_label}\")"
   ]
  },
  {
   "cell_type": "code",
   "execution_count": 20,
   "id": "32453f7b",
   "metadata": {},
   "outputs": [
    {
     "name": "stdout",
     "output_type": "stream",
     "text": [
      "'int' vectorized question: [  16  437  194    2  115   40   31  180  743  299    3   34   83    4\n",
      "  167    5 2233   40   59   36  145   32  138    1  171  291  139  577\n",
      "  368  361  526    8  682  278   58  454    9  266    1    8  361   58\n",
      "  326  272  526  682   45    7   23  135 1183 1597    3   17    4  314\n",
      "  194    2   40  110   21 3657   46 1047  145   53    3    1   53   51\n",
      "   83    4   39   13   38   72  127    2    1    1    1    1  317  100\n",
      "  540  395  194    2 1009   40  149    2  130  168   79  279  157   37\n",
      "    5  811   86    4  112    2  393   12   76    7    1   11  368    7\n",
      "   76    1    1 3239   11  361    7   76    1    1 3239   11  526    7\n",
      "   76   41   77    2  526  130  480  147   55   45 3274   11  682    7\n",
      "   76   41   77    2  682  130  480  147   55   45 3274  211    9    2\n",
      "   12    1   26 6596    1  291   77    2  130    3   17    4    1  144\n",
      "  440    5   15   12    7    2   11  526    5  110    8    1   27  166\n",
      "  459    4 2496  581  437  194    2 1009   40  302   45  929   37    2\n",
      "   76   14  291  526   45  682    0    0    0    0    0    0    0    0\n",
      "    0    0    0    0    0    0    0    0    0    0    0    0    0    0\n",
      "    0    0    0    0    0    0    0    0    0    0    0    0    0    0\n",
      "    0    0    0    0    0    0    0    0    0    0    0    0]\n"
     ]
    }
   ],
   "source": [
    "print(\"'int' vectorized question:\",\n",
    "      vectorize_layer(first_text).numpy())"
   ]
  },
  {
   "cell_type": "markdown",
   "id": "da6a2859",
   "metadata": {},
   "source": [
    "As shown above, `TextVectorization`'s `'binary'` mode returns an array denoting which tokens exist at least once in the input, while the `'int'` mode replaces each token by an integer, thus preserving their order."
   ]
  },
  {
   "cell_type": "code",
   "execution_count": 21,
   "id": "202ee4ef",
   "metadata": {},
   "outputs": [
    {
     "name": "stdout",
     "output_type": "stream",
     "text": [
      "1289 --->  calculation\n",
      "313 --->  running\n",
      "Vocabulary size: 10000\n"
     ]
    }
   ],
   "source": [
    "print(\"1289 ---> \", vectorize_layer.get_vocabulary()[1289])\n",
    "print(\"313 ---> \", vectorize_layer.get_vocabulary()[313])\n",
    "print(\"Vocabulary size: {}\".format(len(vectorize_layer.get_vocabulary())))"
   ]
  },
  {
   "cell_type": "code",
   "execution_count": 22,
   "id": "484869b4",
   "metadata": {},
   "outputs": [],
   "source": [
    "from tensorflow.keras import layers, regularizers, callbacks"
   ]
  },
  {
   "cell_type": "code",
   "execution_count": 23,
   "id": "d8fa646c",
   "metadata": {},
   "outputs": [],
   "source": [
    "def create_model(vocab_size, num_labels, vectorizer=None):\n",
    "  my_layers =[]\n",
    "  if vectorizer is not None:\n",
    "    my_layers = [vectorizer]\n",
    "\n",
    "  my_layers.extend([\n",
    "      layers.Embedding(vocab_size, 64, mask_zero=True),\n",
    "      layers.Dropout(0.5),\n",
    "      layers.Conv1D(64, 3, padding=\"valid\", activation=\"relu\", strides=1),\n",
    "      layers.GlobalMaxPooling1D(),\n",
    "      layers.Dense(num_labels, kernel_regularizer=regularizers.l2(0.01))\n",
    "    ])\n",
    "  \n",
    "\n",
    "  model = tf.keras.Sequential(my_layers)\n",
    "  return model\n",
    "     "
   ]
  },
  {
   "cell_type": "markdown",
   "id": "74d186cf",
   "metadata": {},
   "source": [
    "Next, We will use the `'int'` vectorized layer to build a 1D ConvNet:"
   ]
  },
  {
   "cell_type": "code",
   "execution_count": 24,
   "id": "c65df767",
   "metadata": {},
   "outputs": [],
   "source": [
    "# `vocab_size` is `VOCAB_SIZE + 1` since `0` is used additionally for padding.\n",
    "int_model = create_model(vocab_size=VOCAB_LENGTH + 1, \n",
    "                         num_labels=4, \n",
    "                         vectorizer=vectorize_layer)\n"
   ]
  },
  {
   "cell_type": "code",
   "execution_count": 25,
   "id": "4c5eda40",
   "metadata": {},
   "outputs": [
    {
     "name": "stdout",
     "output_type": "stream",
     "text": [
      "Epoch 1/10\n"
     ]
    },
    {
     "name": "stderr",
     "output_type": "stream",
     "text": [
      "c:\\Users\\ashar\\AppData\\Local\\Programs\\Python\\Python312\\Lib\\site-packages\\keras\\src\\layers\\layer.py:915: UserWarning: Layer 'conv1d' (of type Conv1D) was passed an input with a mask attached to it. However, this layer does not support masking and will therefore destroy the mask information. Downstream layers will not see the mask.\n",
      "  warnings.warn(\n"
     ]
    },
    {
     "name": "stdout",
     "output_type": "stream",
     "text": [
      "\u001b[1m200/200\u001b[0m \u001b[32m━━━━━━━━━━━━━━━━━━━━\u001b[0m\u001b[37m\u001b[0m \u001b[1m4s\u001b[0m 13ms/step - accuracy: 0.3359 - loss: 1.3987 - val_accuracy: 0.6281 - val_loss: 0.9411\n",
      "Epoch 2/10\n",
      "\u001b[1m200/200\u001b[0m \u001b[32m━━━━━━━━━━━━━━━━━━━━\u001b[0m\u001b[37m\u001b[0m \u001b[1m2s\u001b[0m 12ms/step - accuracy: 0.6525 - loss: 0.8886 - val_accuracy: 0.6988 - val_loss: 0.7596\n",
      "Epoch 3/10\n",
      "\u001b[1m200/200\u001b[0m \u001b[32m━━━━━━━━━━━━━━━━━━━━\u001b[0m\u001b[37m\u001b[0m \u001b[1m2s\u001b[0m 11ms/step - accuracy: 0.7306 - loss: 0.7089 - val_accuracy: 0.7556 - val_loss: 0.6739\n",
      "Epoch 4/10\n",
      "\u001b[1m200/200\u001b[0m \u001b[32m━━━━━━━━━━━━━━━━━━━━\u001b[0m\u001b[37m\u001b[0m \u001b[1m2s\u001b[0m 12ms/step - accuracy: 0.7998 - loss: 0.5981 - val_accuracy: 0.7700 - val_loss: 0.6276\n",
      "Epoch 5/10\n",
      "\u001b[1m200/200\u001b[0m \u001b[32m━━━━━━━━━━━━━━━━━━━━\u001b[0m\u001b[37m\u001b[0m \u001b[1m2s\u001b[0m 12ms/step - accuracy: 0.8517 - loss: 0.5007 - val_accuracy: 0.7844 - val_loss: 0.6055\n",
      "Epoch 6/10\n",
      "\u001b[1m200/200\u001b[0m \u001b[32m━━━━━━━━━━━━━━━━━━━━\u001b[0m\u001b[37m\u001b[0m \u001b[1m2s\u001b[0m 11ms/step - accuracy: 0.8873 - loss: 0.4238 - val_accuracy: 0.7975 - val_loss: 0.5935\n",
      "Epoch 7/10\n",
      "\u001b[1m200/200\u001b[0m \u001b[32m━━━━━━━━━━━━━━━━━━━━\u001b[0m\u001b[37m\u001b[0m \u001b[1m2s\u001b[0m 12ms/step - accuracy: 0.9107 - loss: 0.3585 - val_accuracy: 0.7981 - val_loss: 0.5943\n",
      "Epoch 8/10\n",
      "\u001b[1m200/200\u001b[0m \u001b[32m━━━━━━━━━━━━━━━━━━━━\u001b[0m\u001b[37m\u001b[0m \u001b[1m2s\u001b[0m 12ms/step - accuracy: 0.9317 - loss: 0.2958 - val_accuracy: 0.8031 - val_loss: 0.6041\n",
      "Epoch 9/10\n",
      "\u001b[1m200/200\u001b[0m \u001b[32m━━━━━━━━━━━━━━━━━━━━\u001b[0m\u001b[37m\u001b[0m \u001b[1m2s\u001b[0m 12ms/step - accuracy: 0.9488 - loss: 0.2591 - val_accuracy: 0.8012 - val_loss: 0.6168\n",
      "Epoch 10/10\n",
      "\u001b[1m200/200\u001b[0m \u001b[32m━━━━━━━━━━━━━━━━━━━━\u001b[0m\u001b[37m\u001b[0m \u001b[1m2s\u001b[0m 12ms/step - accuracy: 0.9596 - loss: 0.2227 - val_accuracy: 0.8050 - val_loss: 0.6281\n"
     ]
    }
   ],
   "source": [
    "int_model.compile(\n",
    "    loss=tf.keras.losses.SparseCategoricalCrossentropy(from_logits=True),\n",
    "    optimizer='adam',\n",
    "    metrics=['accuracy'])\n",
    "early_stopping = callbacks.EarlyStopping(monitor='val_loss', patience=3, restore_best_weights=True)\n",
    "# int_history = int_model.fit(train_set, validation_data=val_set, epochs=10)"
   ]
  },
  {
   "cell_type": "code",
   "execution_count": null,
   "id": "9baa6e18",
   "metadata": {},
   "outputs": [],
   "source": [
    "int_history = int_model.fit(train_set, validation_data=val_set, epochs=10)"
   ]
  },
  {
   "cell_type": "code",
   "execution_count": 26,
   "id": "255239dc",
   "metadata": {},
   "outputs": [
    {
     "data": {
      "text/html": [
       "<pre style=\"white-space:pre;overflow-x:auto;line-height:normal;font-family:Menlo,'DejaVu Sans Mono',consolas,'Courier New',monospace\"><span style=\"font-weight: bold\">Model: \"sequential\"</span>\n",
       "</pre>\n"
      ],
      "text/plain": [
       "\u001b[1mModel: \"sequential\"\u001b[0m\n"
      ]
     },
     "metadata": {},
     "output_type": "display_data"
    },
    {
     "data": {
      "text/html": [
       "<pre style=\"white-space:pre;overflow-x:auto;line-height:normal;font-family:Menlo,'DejaVu Sans Mono',consolas,'Courier New',monospace\">┏━━━━━━━━━━━━━━━━━━━━━━━━━━━━━━━━━┳━━━━━━━━━━━━━━━━━━━━━━━━┳━━━━━━━━━━━━━━━┓\n",
       "┃<span style=\"font-weight: bold\"> Layer (type)                    </span>┃<span style=\"font-weight: bold\"> Output Shape           </span>┃<span style=\"font-weight: bold\">       Param # </span>┃\n",
       "┡━━━━━━━━━━━━━━━━━━━━━━━━━━━━━━━━━╇━━━━━━━━━━━━━━━━━━━━━━━━╇━━━━━━━━━━━━━━━┩\n",
       "│ text_vectorization              │ (<span style=\"color: #00d7ff; text-decoration-color: #00d7ff\">None</span>, <span style=\"color: #00af00; text-decoration-color: #00af00\">250</span>)            │             <span style=\"color: #00af00; text-decoration-color: #00af00\">0</span> │\n",
       "│ (<span style=\"color: #0087ff; text-decoration-color: #0087ff\">TextVectorization</span>)             │                        │               │\n",
       "├─────────────────────────────────┼────────────────────────┼───────────────┤\n",
       "│ embedding (<span style=\"color: #0087ff; text-decoration-color: #0087ff\">Embedding</span>)           │ (<span style=\"color: #00d7ff; text-decoration-color: #00d7ff\">None</span>, <span style=\"color: #00af00; text-decoration-color: #00af00\">250</span>, <span style=\"color: #00af00; text-decoration-color: #00af00\">64</span>)        │       <span style=\"color: #00af00; text-decoration-color: #00af00\">640,064</span> │\n",
       "├─────────────────────────────────┼────────────────────────┼───────────────┤\n",
       "│ dropout (<span style=\"color: #0087ff; text-decoration-color: #0087ff\">Dropout</span>)               │ (<span style=\"color: #00d7ff; text-decoration-color: #00d7ff\">None</span>, <span style=\"color: #00af00; text-decoration-color: #00af00\">250</span>, <span style=\"color: #00af00; text-decoration-color: #00af00\">64</span>)        │             <span style=\"color: #00af00; text-decoration-color: #00af00\">0</span> │\n",
       "├─────────────────────────────────┼────────────────────────┼───────────────┤\n",
       "│ conv1d (<span style=\"color: #0087ff; text-decoration-color: #0087ff\">Conv1D</span>)                 │ (<span style=\"color: #00d7ff; text-decoration-color: #00d7ff\">None</span>, <span style=\"color: #00af00; text-decoration-color: #00af00\">248</span>, <span style=\"color: #00af00; text-decoration-color: #00af00\">64</span>)        │        <span style=\"color: #00af00; text-decoration-color: #00af00\">12,352</span> │\n",
       "├─────────────────────────────────┼────────────────────────┼───────────────┤\n",
       "│ global_max_pooling1d            │ (<span style=\"color: #00d7ff; text-decoration-color: #00d7ff\">None</span>, <span style=\"color: #00af00; text-decoration-color: #00af00\">64</span>)             │             <span style=\"color: #00af00; text-decoration-color: #00af00\">0</span> │\n",
       "│ (<span style=\"color: #0087ff; text-decoration-color: #0087ff\">GlobalMaxPooling1D</span>)            │                        │               │\n",
       "├─────────────────────────────────┼────────────────────────┼───────────────┤\n",
       "│ dense (<span style=\"color: #0087ff; text-decoration-color: #0087ff\">Dense</span>)                   │ (<span style=\"color: #00d7ff; text-decoration-color: #00d7ff\">None</span>, <span style=\"color: #00af00; text-decoration-color: #00af00\">4</span>)              │           <span style=\"color: #00af00; text-decoration-color: #00af00\">260</span> │\n",
       "└─────────────────────────────────┴────────────────────────┴───────────────┘\n",
       "</pre>\n"
      ],
      "text/plain": [
       "┏━━━━━━━━━━━━━━━━━━━━━━━━━━━━━━━━━┳━━━━━━━━━━━━━━━━━━━━━━━━┳━━━━━━━━━━━━━━━┓\n",
       "┃\u001b[1m \u001b[0m\u001b[1mLayer (type)                   \u001b[0m\u001b[1m \u001b[0m┃\u001b[1m \u001b[0m\u001b[1mOutput Shape          \u001b[0m\u001b[1m \u001b[0m┃\u001b[1m \u001b[0m\u001b[1m      Param #\u001b[0m\u001b[1m \u001b[0m┃\n",
       "┡━━━━━━━━━━━━━━━━━━━━━━━━━━━━━━━━━╇━━━━━━━━━━━━━━━━━━━━━━━━╇━━━━━━━━━━━━━━━┩\n",
       "│ text_vectorization              │ (\u001b[38;5;45mNone\u001b[0m, \u001b[38;5;34m250\u001b[0m)            │             \u001b[38;5;34m0\u001b[0m │\n",
       "│ (\u001b[38;5;33mTextVectorization\u001b[0m)             │                        │               │\n",
       "├─────────────────────────────────┼────────────────────────┼───────────────┤\n",
       "│ embedding (\u001b[38;5;33mEmbedding\u001b[0m)           │ (\u001b[38;5;45mNone\u001b[0m, \u001b[38;5;34m250\u001b[0m, \u001b[38;5;34m64\u001b[0m)        │       \u001b[38;5;34m640,064\u001b[0m │\n",
       "├─────────────────────────────────┼────────────────────────┼───────────────┤\n",
       "│ dropout (\u001b[38;5;33mDropout\u001b[0m)               │ (\u001b[38;5;45mNone\u001b[0m, \u001b[38;5;34m250\u001b[0m, \u001b[38;5;34m64\u001b[0m)        │             \u001b[38;5;34m0\u001b[0m │\n",
       "├─────────────────────────────────┼────────────────────────┼───────────────┤\n",
       "│ conv1d (\u001b[38;5;33mConv1D\u001b[0m)                 │ (\u001b[38;5;45mNone\u001b[0m, \u001b[38;5;34m248\u001b[0m, \u001b[38;5;34m64\u001b[0m)        │        \u001b[38;5;34m12,352\u001b[0m │\n",
       "├─────────────────────────────────┼────────────────────────┼───────────────┤\n",
       "│ global_max_pooling1d            │ (\u001b[38;5;45mNone\u001b[0m, \u001b[38;5;34m64\u001b[0m)             │             \u001b[38;5;34m0\u001b[0m │\n",
       "│ (\u001b[38;5;33mGlobalMaxPooling1D\u001b[0m)            │                        │               │\n",
       "├─────────────────────────────────┼────────────────────────┼───────────────┤\n",
       "│ dense (\u001b[38;5;33mDense\u001b[0m)                   │ (\u001b[38;5;45mNone\u001b[0m, \u001b[38;5;34m4\u001b[0m)              │           \u001b[38;5;34m260\u001b[0m │\n",
       "└─────────────────────────────────┴────────────────────────┴───────────────┘\n"
      ]
     },
     "metadata": {},
     "output_type": "display_data"
    },
    {
     "data": {
      "text/html": [
       "<pre style=\"white-space:pre;overflow-x:auto;line-height:normal;font-family:Menlo,'DejaVu Sans Mono',consolas,'Courier New',monospace\"><span style=\"font-weight: bold\"> Total params: </span><span style=\"color: #00af00; text-decoration-color: #00af00\">1,958,030</span> (7.47 MB)\n",
       "</pre>\n"
      ],
      "text/plain": [
       "\u001b[1m Total params: \u001b[0m\u001b[38;5;34m1,958,030\u001b[0m (7.47 MB)\n"
      ]
     },
     "metadata": {},
     "output_type": "display_data"
    },
    {
     "data": {
      "text/html": [
       "<pre style=\"white-space:pre;overflow-x:auto;line-height:normal;font-family:Menlo,'DejaVu Sans Mono',consolas,'Courier New',monospace\"><span style=\"font-weight: bold\"> Trainable params: </span><span style=\"color: #00af00; text-decoration-color: #00af00\">652,676</span> (2.49 MB)\n",
       "</pre>\n"
      ],
      "text/plain": [
       "\u001b[1m Trainable params: \u001b[0m\u001b[38;5;34m652,676\u001b[0m (2.49 MB)\n"
      ]
     },
     "metadata": {},
     "output_type": "display_data"
    },
    {
     "data": {
      "text/html": [
       "<pre style=\"white-space:pre;overflow-x:auto;line-height:normal;font-family:Menlo,'DejaVu Sans Mono',consolas,'Courier New',monospace\"><span style=\"font-weight: bold\"> Non-trainable params: </span><span style=\"color: #00af00; text-decoration-color: #00af00\">0</span> (0.00 B)\n",
       "</pre>\n"
      ],
      "text/plain": [
       "\u001b[1m Non-trainable params: \u001b[0m\u001b[38;5;34m0\u001b[0m (0.00 B)\n"
      ]
     },
     "metadata": {},
     "output_type": "display_data"
    },
    {
     "data": {
      "text/html": [
       "<pre style=\"white-space:pre;overflow-x:auto;line-height:normal;font-family:Menlo,'DejaVu Sans Mono',consolas,'Courier New',monospace\"><span style=\"font-weight: bold\"> Optimizer params: </span><span style=\"color: #00af00; text-decoration-color: #00af00\">1,305,354</span> (4.98 MB)\n",
       "</pre>\n"
      ],
      "text/plain": [
       "\u001b[1m Optimizer params: \u001b[0m\u001b[38;5;34m1,305,354\u001b[0m (4.98 MB)\n"
      ]
     },
     "metadata": {},
     "output_type": "display_data"
    }
   ],
   "source": [
    "int_model.summary()"
   ]
  },
  {
   "cell_type": "code",
   "execution_count": 27,
   "id": "dd572024",
   "metadata": {},
   "outputs": [
    {
     "data": {
      "text/plain": [
       "Text(0, 0.5, 'Accuracy')"
      ]
     },
     "execution_count": 27,
     "metadata": {},
     "output_type": "execute_result"
    },
    {
     "data": {
      "image/png": "[encoded data removed]",
      "text/plain": [
       "<Figure size 1200x500 with 2 Axes>"
      ]
     },
     "metadata": {},
     "output_type": "display_data"
    }
   ],
   "source": [
    "plt.figure(figsize = (12,5))\n",
    "plt.subplot(1,2,1)\n",
    "loss = plt.plot(int_history.epoch, int_history.history['loss'], label='train_loss')\n",
    "plt.plot(int_history.epoch, int_history.history['val_loss'], '--', color=loss[0].get_color(), label='val_loss')\n",
    "\n",
    "plt.legend()\n",
    "plt.xlabel('Epoch')\n",
    "plt.ylabel('Loss')\n",
    "\n",
    "plt.subplot(1,2,2)\n",
    "loss = plt.plot(int_history.epoch, int_history.history['accuracy'], label='train_accuracy')\n",
    "plt.plot(int_history.epoch, int_history.history['val_accuracy'], '--', color=loss[0].get_color(), label='val_accuracy')\n",
    "\n",
    "plt.legend()\n",
    "plt.xlabel('Epoch')\n",
    "plt.ylabel('Accuracy')"
   ]
  },
  {
   "cell_type": "code",
   "execution_count": 28,
   "id": "c4137953",
   "metadata": {},
   "outputs": [
    {
     "name": "stdout",
     "output_type": "stream",
     "text": [
      "\u001b[1m250/250\u001b[0m \u001b[32m━━━━━━━━━━━━━━━━━━━━\u001b[0m\u001b[37m\u001b[0m \u001b[1m2s\u001b[0m 7ms/step - accuracy: 0.7975 - loss: 0.6167\n",
      "Test Loss: 0.6160263419151306\n",
      "Test Accuracy: 0.796500027179718\n"
     ]
    }
   ],
   "source": [
    "# Evaluate the model on the test set\n",
    "test_loss, test_accuracy = int_model.evaluate(test_set)\n",
    "\n",
    "print(f\"Test Loss: {test_loss}\")\n",
    "print(f\"Test Accuracy: {test_accuracy}\")"
   ]
  },
  {
   "cell_type": "code",
   "execution_count": 30,
   "id": "37237890",
   "metadata": {},
   "outputs": [
    {
     "name": "stdout",
     "output_type": "stream",
     "text": [
      "Model input shape: (None,)\n",
      "Model input data type: string\n"
     ]
    }
   ],
   "source": [
    "input_shape = int_model.input_shape\n",
    "input_dtype = int_model.input_dtype\n",
    "print(f\"Model input shape: {input_shape}\")\n",
    "print(f\"Model input data type: {input_dtype}\")\n"
   ]
  },
  {
   "cell_type": "markdown",
   "id": "74aff4c2",
   "metadata": {},
   "source": [
    "### Check the performance of the model on the actual questions"
   ]
  },
  {
   "cell_type": "code",
   "execution_count": 31,
   "id": "4ed383c5",
   "metadata": {},
   "outputs": [
    {
     "name": "stdout",
     "output_type": "stream",
     "text": [
      "\u001b[1m1/1\u001b[0m \u001b[32m━━━━━━━━━━━━━━━━━━━━\u001b[0m\u001b[37m\u001b[0m \u001b[1m0s\u001b[0m 130ms/step\n",
      "python\n",
      "java\n"
     ]
    }
   ],
   "source": [
    "import numpy as np\n",
    "examples = tf.constant([\n",
    "  \"how to reverse the list usinh list comprehension\",\n",
    "  '''class Main {\n",
    "   public void printArray(int[] array){\n",
    "       for(int i : array)\n",
    "           System.out.println(i);\n",
    "   }\n",
    "   public static void main(String args[]) {\n",
    "       int[] array = new int[10];\n",
    "       printArray(array);\n",
    "   }'''\n",
    "])\n",
    "\n",
    "for i in (int_model.predict(examples)):\n",
    "    print(class_name[np.argmax(i)])"
   ]
  }
 ],
 "metadata": {
  "kernelspec": {
   "display_name": "Python 3 (ipykernel)",
   "language": "python",
   "name": "python3"
  },
  "language_info": {
   "codemirror_mode": {
    "name": "ipython",
    "version": 3
   },
   "file_extension": ".py",
   "mimetype": "text/x-python",
   "name": "python",
   "nbconvert_exporter": "python",
   "pygments_lexer": "ipython3",
   "version": "3.12.4"
  }
 },
 "nbformat": 4,
 "nbformat_minor": 5
}
