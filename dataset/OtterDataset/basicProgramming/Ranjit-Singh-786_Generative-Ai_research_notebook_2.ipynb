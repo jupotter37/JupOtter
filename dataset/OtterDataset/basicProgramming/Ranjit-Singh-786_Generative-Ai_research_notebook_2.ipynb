{
 "cells": [
  {
   "cell_type": "markdown",
   "metadata": {},
   "source": [
    "<h3>Domain-Specific RAG Chatbot with Llama 3.1 (70B) via Groq Cloud</h3>\n",
    "<p>\n",
    "A Retrieval-Augmented Generation (RAG) chatbot leveraging the Llama 3.1 (70B) versatile model, accessed through Groq Cloud.</p>\n",
    "<h3>To checkout the available LLM model on Groq cloud <a href=\"https://console.groq.com/playground   \n",
    "\"> clic me</a></h3>\n"
   ]
  },
  {
   "cell_type": "code",
   "execution_count": 27,
   "metadata": {},
   "outputs": [
    {
     "data": {
      "text/plain": [
       "True"
      ]
     },
     "execution_count": 27,
     "metadata": {},
     "output_type": "execute_result"
    }
   ],
   "source": [
    "from langchain_openai import  OpenAI \n",
    "from langchain_community.document_loaders.csv_loader import  CSVLoader \n",
    "from langchain_community.document_loaders import  TextLoader\n",
    "from langchain.text_splitter import  RecursiveCharacterTextSplitter\n",
    "from langchain_openai import  OpenAIEmbeddings\n",
    "from langchain_community.vectorstores import FAISS\n",
    "from langchain_core.vectorstores import  VectorStoreRetriever \n",
    "from langchain.chains import RetrievalQA \n",
    "from langchain.prompts import PromptTemplate\n",
    "import pandas as pd \n",
    "import numpy as np \n",
    "import os \n",
    "from dotenv import  load_dotenv\n",
    "from langchain_groq import ChatGroq \n",
    "load_dotenv()"
   ]
  },
  {
   "cell_type": "code",
   "execution_count": 29,
   "metadata": {},
   "outputs": [],
   "source": [
    "groq_api_key= os.getenv('GROQ_CLOUD_API')"
   ]
  },
  {
   "cell_type": "code",
   "execution_count": 30,
   "metadata": {},
   "outputs": [],
   "source": [
    "model_name = \"llama-3.1-70b-versatile\"\n",
    "llm = ChatGroq(temperature=0.7,\n",
    "                groq_api_key=groq_api_key,\n",
    "                model_name=model_name)"
   ]
  },
  {
   "cell_type": "code",
   "execution_count": 6,
   "metadata": {},
   "outputs": [
    {
     "name": "stdout",
     "output_type": "stream",
     "text": [
      "The first person to land on the moon was Neil Armstrong. He stepped out of the lunar module Eagle and onto the moon's surface on July 20, 1969, during the Apollo 11 mission. His famous words upon stepping onto the moon were: \"That's one small step for man, one giant leap for mankind.\"\n"
     ]
    }
   ],
   "source": [
    "response = llm.invoke(\"The first person land on moon was?\")\n",
    "print(response.content)"
   ]
  },
  {
   "cell_type": "code",
   "execution_count": 7,
   "metadata": {},
   "outputs": [
    {
     "name": "stdout",
     "output_type": "stream",
     "text": [
      "No of question and answers in the dataset :  39\n",
      "successfully save your final dataset at :  data\\final_data.csv\n"
     ]
    }
   ],
   "source": [
    "# File paths for the CSV files\n",
    "qa_file_path = r\"data\\questin_answering.csv\"\n",
    "upflairs_qa_file_path = r\"data\\upflairs_question_answer.csv\"\n",
    "\n",
    "# Reading the CSV files into DataFrames\n",
    "df1 = pd.read_csv(qa_file_path)\n",
    "df2 = pd.read_csv(upflairs_qa_file_path)\n",
    "\n",
    "combine_dataset = pd.concat([df2,df1])\n",
    "print(\"No of question and answers in the dataset : \",combine_dataset.shape[0])\n",
    "\n",
    "final_data_file_path = r\"data\\final_data.csv\"\n",
    "combine_dataset.to_csv(final_data_file_path,index=False)\n",
    "print(\"successfully save your final dataset at : \",final_data_file_path)"
   ]
  },
  {
   "cell_type": "code",
   "execution_count": 8,
   "metadata": {},
   "outputs": [],
   "source": [
    "loader = CSVLoader(file_path=final_data_file_path, source_column=\"Question\")\n",
    "data = loader.load()\n"
   ]
  },
  {
   "cell_type": "code",
   "execution_count": 10,
   "metadata": {},
   "outputs": [],
   "source": [
    "os.environ['OPENAI_API_KEY'] = os.getenv(\"gpt_api_key\")"
   ]
  },
  {
   "cell_type": "code",
   "execution_count": 11,
   "metadata": {},
   "outputs": [],
   "source": [
    "vectordb_file_path = \"fais_index\"\n",
    "embeding = OpenAIEmbeddings()\n",
    "vectordb = FAISS.from_documents(data,embeding)\n",
    "\n",
    "# Save vector database locally\n",
    "vectordb.save_local(vectordb_file_path)"
   ]
  },
  {
   "cell_type": "code",
   "execution_count": null,
   "metadata": {},
   "outputs": [
    {
     "name": "stdout",
     "output_type": "stream",
     "text": [
      "Question: tell me about upflairs?\n",
      "Answer: UpFlairs is an innovative educational technology company dedicated to empowering students across India. With a focus on emerging technologies like AI/ML, Data Science, Cloud computing, DevOps, Full Stack Web Development, Embedded Systems, IoT and Robotics. We've educated over 50K+ students worldwide, including those from prestigious institutions like IITs and NITs, Deemed Universities and Other engineering Colleges.Our courses are meticulously designed to equip students with practical skills for tech-driven careers, and we also provide lab setups to colleges, universities, and project solutions to companies in AI-ML, Web Development, IoT, Robotics, Cloud & DevOps domains.\n"
     ]
    }
   ],
   "source": [
    "query_answer = vectordb.similarity_search(\"tell me about upflairs?\")\n",
    "page_content = query_answer[0].page_content\n",
    "\n",
    "# Split the content at \"Answer:\" and get the part after it\n",
    "# answer = page_content.split(\"Answer:\")[1].strip()\n",
    "\n",
    "print(page_content)\n"
   ]
  },
  {
   "cell_type": "code",
   "execution_count": 18,
   "metadata": {},
   "outputs": [
    {
     "name": "stdout",
     "output_type": "stream",
     "text": [
      "Upflairs offers courses in Data Science and Machine Learning, DevOps, Full Stack Development, IoT, and System Embedding. We also provide internships to help you gain real-world experience.\n"
     ]
    }
   ],
   "source": [
    "query = \"what are the courses are available on upflairs?\"\n",
    "query_answer = vectordb.similarity_search(query)\n",
    "page_content = query_answer[0].page_content\n",
    "\n",
    "# Split the content at \"Answer:\" and get the part after it\n",
    "answer = page_content.split(\"Answer:\")[1].strip()\n",
    "\n",
    "print(answer)\n"
   ]
  },
  {
   "cell_type": "code",
   "execution_count": 20,
   "metadata": {},
   "outputs": [
    {
     "name": "stdout",
     "output_type": "stream",
     "text": [
      "To print \"Welcome at Upflairs\" 10 times, you can use a simple loop in a programming language. Here's an example in Python:\n",
      "\n",
      "```python\n",
      "for i in range(10):\n",
      "    print(\"Welcome at Upflairs\")\n",
      "```\n",
      "\n",
      "This code will print \"Welcome at Upflairs\" 10 times.\n"
     ]
    }
   ],
   "source": [
    "retriever = vectordb.as_retriever(score_threshold=0.7)\n",
    "query_chain = RetrievalQA.from_chain_type(llm=llm, chain_type='stuff',retriever=retriever)\n",
    "query = \"how we can print welcome at upflairs 10 times?\"\n",
    "response = query_chain.invoke(query)\n",
    "print(response['result'])"
   ]
  },
  {
   "cell_type": "code",
   "execution_count": 21,
   "metadata": {},
   "outputs": [
    {
     "name": "stderr",
     "output_type": "stream",
     "text": [
      "C:\\Users\\Ranjit\\AppData\\Local\\Temp\\ipykernel_6268\\2080151199.py:40: LangChainDeprecationWarning: The method `Chain.__call__` was deprecated in langchain 0.1.0 and will be removed in 1.0. Use :meth:`~invoke` instead.\n",
      "  print(chain(\"How we can print hello world?\")['result'])\n"
     ]
    },
    {
     "name": "stdout",
     "output_type": "stream",
     "text": [
      "**Theoretical Explanation**:\n",
      "In Python, printing text to the console is a simple operation that can be achieved using the built-in `print()` function. This function takes a string as an argument and displays it on the screen.\n",
      "\n",
      "**Code Snippet**:\n",
      "```python\n",
      "print(\"Hello, World!\")\n",
      "```\n",
      "\n",
      "**Example**:\n",
      "When you run the above code, it will print \"Hello, World!\" to the console. This is a classic example of a \"Hello, World!\" program, which is often used as a beginner's introduction to programming.\n"
     ]
    }
   ],
   "source": [
    "def get_qa_chain(retriever):\n",
    "\n",
    "    prompt_template = \"\"\" \n",
    "    You are a coding assistant specializing **only in Python programming**, particularly within the EdTech domain. Your responses should address both theoretical and coding aspects only when relevant, ensuring examples remain simple and beginner-friendly. If the question is unrelated to Python, politely respond with:\n",
    "    'I only provide support for Python programming topics. Please ask something related to Python.'\n",
    "\n",
    "    For each response, structure the answer by including only the relevant sections:\n",
    "\n",
    "    1. **Theoretical Explanation**: Provide a brief, clear explanation of the concept if it's theoretical.\n",
    "    2. **Code Snippet**: Include a simple code snippet if relevant. Omit this section entirely if not applicable.\n",
    "    3. **Example**: Provide a clear example to illustrate the concept if helpful.\n",
    "\n",
    "    **Important**:\n",
    "    - Assume the question pertains to Python if no specific language is mentioned.\n",
    "    - If another programming language is specified, respond with the predefined message.\n",
    "    - For questions about Upflairs (courses, internships, or offerings), provide relevant information about Upflairs alongside any Python programming support.\n",
    "\n",
    "    **CONTEXT**: {context}\n",
    "    **My question is**: {question}\n",
    "    \"\"\"\n",
    "\n",
    "\n",
    "\n",
    "\n",
    "    PROMPT = PromptTemplate(\n",
    "        template=prompt_template, input_variables=[\"context\",\"question\"]\n",
    "    )\n",
    "\n",
    "    chain = RetrievalQA.from_chain_type(llm=llm,\n",
    "                                        chain_type=\"stuff\",\n",
    "                                        retriever=retriever,\n",
    "                                        input_key=\"query\",\n",
    "                                        return_source_documents=True,\n",
    "                                        chain_type_kwargs={\"prompt\": PROMPT})\n",
    "\n",
    "    return chain\n",
    "\n",
    "\n",
    "chain = get_qa_chain(retriever) \n",
    "print(chain(\"How we can print hello world?\")['result'])\n"
   ]
  },
  {
   "cell_type": "code",
   "execution_count": 22,
   "metadata": {},
   "outputs": [
    {
     "name": "stdout",
     "output_type": "stream",
     "text": [
      "**Theoretical Explanation**: \n",
      "In Python, printing \"Hello World\" is a basic operation that can be achieved using the built-in `print()` function. This function takes a string as an argument and outputs it to the console.\n",
      "\n",
      "**Code Snippet**:\n",
      "```python\n",
      "print(\"Hello World\")\n",
      "```\n",
      "\n",
      "**Example**: When you run this code, it will simply print \"Hello World\" to the console.\n"
     ]
    }
   ],
   "source": [
    "\n",
    "chain = get_qa_chain(retriever) \n",
    "print(chain(\"How we can print hello world?\")['result'])"
   ]
  },
  {
   "cell_type": "code",
   "execution_count": 23,
   "metadata": {},
   "outputs": [
    {
     "name": "stdout",
     "output_type": "stream",
     "text": [
      "I only provide support for Python programming topics. Please ask something related to Python.\n"
     ]
    }
   ],
   "source": [
    "\n",
    "chain = get_qa_chain(retriever) \n",
    "print(chain(\"How we can print hello world in java?\")['result'])"
   ]
  },
  {
   "cell_type": "code",
   "execution_count": null,
   "metadata": {},
   "outputs": [
    {
     "name": "stdout",
     "output_type": "stream",
     "text": [
      "**Theoretical Explanation**:\n",
      "UpFlairs is an innovative educational technology company that offers various courses and internships to empower students across India. They focus on emerging technologies like AI/ML, Data Science, Cloud computing, DevOps, Full Stack Web Development, Embedded Systems, IoT and Robotics.\n",
      "\n",
      "**Example**:\n",
      "UpFlairs has educated over 50K+ students worldwide, including those from prestigious institutions like IITs and NITs, Deemed Universities and Other engineering Colleges. They provide lab setups to colleges, universities, and project solutions to companies in AI-ML, Web Development, IoT, Robotics, Cloud & DevOps domains. \n",
      "\n",
      "UpFlairs offers courses in Data Science and Machine Learning, DevOps, Full Stack Development, IoT, and System Embedding. They also provide internships to help students gain real-world experience. Additionally, they offer career guidance and support, including career counseling, resume-building workshops, and interview preparation sessions to help students advance in their careers.\n"
     ]
    }
   ],
   "source": [
    "chain = get_qa_chain(retriever) \n",
    "print(chain(\"tell me something about upflairs?\")['result'])"
   ]
  }
 ],
 "metadata": {
  "kernelspec": {
   "display_name": "Python 3",
   "language": "python",
   "name": "python3"
  },
  "language_info": {
   "codemirror_mode": {
    "name": "ipython",
    "version": 3
   },
   "file_extension": ".py",
   "mimetype": "text/x-python",
   "name": "python",
   "nbconvert_exporter": "python",
   "pygments_lexer": "ipython3",
   "version": "3.12.4"
  }
 },
 "nbformat": 4,
 "nbformat_minor": 2
}
