{
 "cells": [
  {
   "cell_type": "markdown",
   "metadata": {},
   "source": [
    "# Exercises - Metabolomics Pathway Analysis\n",
    "\n",
    "ASMS Fall workshop 2018\n",
    "\n",
    "Shuzhao Li, Ph.D\n",
    "\n",
    "E-mail: shuzhao.li@gmail.com"
   ]
  },
  {
   "cell_type": "markdown",
   "metadata": {},
   "source": [
    "## Basics\n",
    "\n",
    "* Learn to use a code editor, not MS Word\n",
    "    - A code editor works on plain text and gives you total transparency.\n",
    "    - The default text editor on MS Windows is Notepad, on Mac OS is TextEdit. \n",
    "    - A few free code editors I've used include Atom, Brackets (more for web programming), Geany. \n",
    "    - Beginners should avoid IDEs (Integrated Development Environment, e.g. Eclipse)\n",
    "    - Rstudio, Matlab, IPython are not exactly programming IDEs, more interactive environment for data analysis.\n",
    "    \n",
    "* Command line is enpowering\n",
    "    - [for your leisure] http://swcarpentry.github.io/shell-novice/\n",
    "\n",
    "* Understand absolute and relative paths on computers (Google it)\n",
    "\n",
    "* The code and this notebook is based Python 2.7, but expected to be compatible with Python 3. The easiest way to install Anaconda (a scientific Python distribution, http://continuum.io/downloads), which shipps everything you need here and lot of other useful tools."
   ]
  },
  {
   "cell_type": "markdown",
   "metadata": {},
   "source": [
    "# Exercises 1 - Targeted pathway analysis using MetaboAnalyst\n",
    "\n",
    "Step 1. Go to https://www.metaboanalyst.ca \n",
    "\n",
    "Step 2. \"click here to start\" - \"Pathway Analysis\"\n",
    "\n",
    "Step 3. Copy the list in \"data/Exercise_1_targeted_significant_list.txt\", paste to use here, select \"KEGG ID\" for the \"Input Type\" pulldown menu, then \"Submit\".\n",
    "\n",
    "Step 4. Soldier through the rest."
   ]
  },
  {
   "cell_type": "markdown",
   "metadata": {},
   "source": [
    "# Exercises 2 - Pathway enrichment analysis in command line [optional]\n",
    "\n",
    "An over-representation test is found in almost all software packages for pathway analysis, using either Fisher's exact test or hypergeometric test (the two are similar for large sample sizes). \n",
    "\n",
    "This exercise looks under the hood for the mechanical components, to help understand the principle. The test uses a 2 × 2 contingency table for categories (https://en.wikipedia.org/wiki/Fisher's_exact_test). \n",
    "\n",
    "Below is Python code, while it's easy to do in R too."
   ]
  },
  {
   "cell_type": "code",
   "execution_count": 1,
   "metadata": {
    "collapsed": false
   },
   "outputs": [
    {
     "name": "stdout",
     "output_type": "stream",
     "text": [
      "['C00044', 'C00101', 'C00119', 'C00156', 'C00251', 'C00266', 'C00268', 'C00272', 'C00415', 'C00504']\n",
      "['C00042', 'C00051', 'C00051', 'C00051', 'C00074', 'C00120', 'C00127', 'C00127', 'C00128', 'C00147']\n"
     ]
    }
   ],
   "source": [
    "# import the scipy.stats library\n",
    "from scipy import stats\n",
    "\n",
    "# To get metabolites in Folate pathway, as an example\n",
    "Metabolites_folate_pathway = '''C00044  \n",
    "C00101  \n",
    "C00119  \n",
    "C00156  \n",
    "C00251  \n",
    "C00266  \n",
    "C00268  \n",
    "C00272  \n",
    "C00415  \n",
    "C00504  \n",
    "C00568  \n",
    "C00835  \n",
    "C00921  \n",
    "C01217  \n",
    "C01300  \n",
    "C01304  \n",
    "C02587  \n",
    "C02953  \n",
    "C03541  \n",
    "C03684  \n",
    "C04244  \n",
    "C04807  \n",
    "C04874  \n",
    "C04895  \n",
    "C05922  \n",
    "C05923  \n",
    "C05924  \n",
    "C05925  \n",
    "C05926  \n",
    "C05927  \n",
    "C06148  \n",
    "C09332  \n",
    "C11355  \n",
    "C15522  \n",
    "C15996  \n",
    "C16675  \n",
    "C18237  \n",
    "C18239  \n",
    "C18802  \n",
    "C19848  \n",
    "C19871  \n",
    "C20239  \n",
    "C20248  \n",
    "C20264  \n",
    "C20559  \n",
    "C20562  \n",
    "C20566  \n",
    "C20567  \n",
    "C21007  \n",
    "C21008  \n",
    "C21065  \n",
    "C21094  \n",
    "C21107  \n",
    "C21310  \n",
    "C21485  \n",
    "C21486  \n",
    "C21640'''.split()\n",
    "\n",
    "# significant metabolites\n",
    "My_Significant_metabolites = '''C00042\n",
    "C00051\n",
    "C00051\n",
    "C00051\n",
    "C00074\n",
    "C00120\n",
    "C00127\n",
    "C00127\n",
    "C00128\n",
    "C00147\n",
    "C00170\n",
    "C00184\n",
    "C00212\n",
    "C00217\n",
    "C00239\n",
    "C00250\n",
    "C00294\n",
    "C00307\n",
    "C00307\n",
    "C00319\n",
    "C00327\n",
    "C00378\n",
    "C00402\n",
    "C00418\n",
    "C00490\n",
    "C00491\n",
    "C00504\n",
    "C00504\n",
    "C00532\n",
    "C00532\n",
    "C00542\n",
    "C00542\n",
    "C00570\n",
    "C00624\n",
    "C00643\n",
    "C00645\n",
    "C00645\n",
    "C00645\n",
    "C00780\n",
    "C00785\n",
    "C00792\n",
    "C00795\n",
    "C00795\n",
    "C00836\n",
    "C00921\n",
    "C00942'''.split()\n",
    "\n",
    "# to view partial information in the variables\n",
    "print(Metabolites_folate_pathway[:10])\n",
    "# the next list has repeats. Never assume data are clean anyways.\n",
    "print(My_Significant_metabolites[:10])"
   ]
  },
  {
   "cell_type": "code",
   "execution_count": 2,
   "metadata": {
    "collapsed": false
   },
   "outputs": [
    {
     "name": "stdout",
     "output_type": "stream",
     "text": [
      "(2, 34, 55, 18363)\n",
      "The p value of our significant list enriched for Folate pathway is 0.005520\n"
     ]
    }
   ],
   "source": [
    "# The categories are [in pathway, not in pathway], [significant, not significant] \n",
    "# To construct the 2 × 2 contingency table as \n",
    "# [ [in both, significant but not in pathway], \n",
    "#   [in pathway but not significant, not significant nor in pathway] ]\n",
    "\n",
    "# using set operations to get unique metabolites \n",
    "in_both = set(My_Significant_metabolites).intersection(set(Metabolites_folate_pathway))\n",
    "significant_not_inPathway = set(My_Significant_metabolites).difference(in_both)\n",
    "inPathway_not_significant = set(Metabolites_folate_pathway).difference(in_both)\n",
    "\n",
    "# total number of metabolites in a database model. This is actually KEGG Compound number.\n",
    "Total_Number = 18450\n",
    "\n",
    "# \"not significant nor in pathway\" is dependent on the total number of metabolites, i.e. the size of universe\n",
    "size_in_neither = Total_Number + len(in_both) - len(significant_not_inPathway) - len(inPathway_not_significant)\n",
    "\n",
    "print(len(in_both), len(significant_not_inPathway), len(inPathway_not_significant), size_in_neither)\n",
    "\n",
    "# stats.fisher_exact takes the contingency table, and returns oddsratio and p_value\n",
    "r, p = stats.fisher_exact(\n",
    "                    [ [len(in_both), len(significant_not_inPathway)],\n",
    "                      [len(inPathway_not_significant), size_in_neither] ], \n",
    "                    'greater')\n",
    "\n",
    "print(\"The p value of our significant list enriched for Folate pathway is %f\" %(p))"
   ]
  },
  {
   "cell_type": "markdown",
   "metadata": {},
   "source": [
    "# Exercises 3 - Mapping metabolites to KEGG pathways\n",
    "\n",
    "Step 1. Go to https://www.genome.jp/kegg/tool/map_pathway2.html\n",
    "\n",
    "Step 2. Enter \"hsa\" in the \"Search against\" box. \n",
    "\n",
    "Step 3. Copy the list in \"data/Exercise_1_targeted_significant_list.txt\", paste to use here, then \"Exec\".\n",
    "\n",
    "Step 4. On the result page, click individual pathways to explore. The metabolites from your input should be colored by pink or your designated color."
   ]
  },
  {
   "cell_type": "markdown",
   "metadata": {},
   "source": [
    "# Exercises 4 - Explore mummichog output \n",
    "\n",
    "From http://mummichog.org, one can find instructions to run local versions of mummichog, and a link to mummichog-server. Only the server version will be supported in future development.\n",
    "\n",
    "Mummichog does not deal with feature selection, but uses result from upstream statistical analysis. \n",
    "Example input:\n",
    "```\n",
    "m/z\tretention time\tp-value\tstatistic\n",
    "85.0278\t59\t0.002657\t-3.55\n",
    "85.0472\t124\t0.730810\t-0.35\n",
    "85.0653\t68\t0.086509\t1.83\n",
    "85.1007\t16\t0.057916\t-2.04\n",
    "86.0595\t67\t0.076789\t-1.89\n",
    "```\n",
    "\n",
    "Example output is given at *data/Exercise_4_mummichog_result/*. \n",
    "\n",
    "Under the *tables/* subfolder, the result from pathway analysis is in a file that looks like \"mcg_pathwayanalysis_workshop_example.xlsx\".\n",
    "\n",
    "The first four columns are:\n",
    "pathway,\toverlap_size,\tpathway_size,\tp-value.\n",
    "\n",
    "The p-value is based on permutation, not stock Fisher's exact test above.\n",
    "The \"overlap_size\" is the number of significant metabolites in the pathway.\n",
    "The \"pathway_size\" is not the size of the pathway in databases, but the number of metabolites in the pathway that were detected in this particular experiment (based on user supplied all metabolomics features).\n",
    "\n",
    "In this current version, one can use the identifiers of empirical compounds (tentative metabolites, which look like E189, E153, E271, etc) to link back to input features.\n",
    "\n",
    "A summary is given in *data/Exercise_4_mummichog_result/result.html*, and plots in *data/Exercise_4_mummichog_result/figures/*.\n"
   ]
  },
  {
   "cell_type": "markdown",
   "metadata": {},
   "source": [
    "# Exercises 5 - Visualizing pathway significance by barplots\n",
    "\n",
    "We will use here the mummichog output, *exercise4-data/tables/mcg_pathwayanalysis_somename.tsv*.\n",
    "\n",
    "There's a .xlsx version of the same data. Python code is used here, but one can do it easily in MS Excel.\n"
   ]
  },
  {
   "cell_type": "code",
   "execution_count": 3,
   "metadata": {
    "collapsed": false
   },
   "outputs": [
    {
     "data": {
      "image/png": "[encoded data removed]",
      "text/plain": [
       "<matplotlib.figure.Figure at 0x1146d1d50>"
      ]
     },
     "metadata": {},
     "output_type": "display_data"
    }
   ],
   "source": [
    "import numpy as np\n",
    "import matplotlib.pyplot as plt\n",
    "%matplotlib inline\n",
    "\n",
    "# This is relative path. Running from the directory for these exercise data.\n",
    "Input_file = \"data/Exercise_4_mummichog_result/tables/mcg_pathwayanalysis_workshop_example.tsv\"\n",
    "\n",
    "mydata = []\n",
    "# getting first 5 pathways only\n",
    "for line in open(Input_file).read().splitlines()[1:6]:\n",
    "    a = line.split('\\t')\n",
    "    #pathway    overlap_size    pathway_size    p-value\n",
    "    mydata.append((a[0], float(a[3])))\n",
    "\n",
    "# plotting\n",
    "fig, ax = plt.subplots()\n",
    "ylabels = [x[0] for x in mydata]\n",
    "data = [-np.log10(x[1]) for x in mydata]\n",
    "NN = len(data)\n",
    "ax.barh( range(NN), data, height=0.5, align='center', color=\"blue\", alpha=0.6 )\n",
    "ax.set_yticks(range(NN))\n",
    "ax.set_yticklabels(ylabels)\n",
    "ax.set_xlabel('-log10 p-value')\n",
    "\n",
    "# to add p=0.05 line\n",
    "ax.plot([1.301, 1.301], [-0.5, NN], 'g--')    # NN is inverted too\n",
    "#ax.set_ylim(-0.5, NN)\n",
    "        \n",
    "ax.invert_yaxis()\n",
    "plt.tight_layout()\n",
    "# to save a PDF file, uncomment the next line\n",
    "#plt.savefig('outfile.pdf')"
   ]
  },
  {
   "cell_type": "markdown",
   "metadata": {},
   "source": [
    "# Exercises 6 - Visualizing network/module using Cytoscape [on your own]\n",
    "\n",
    "We will use here the mummichog output, *data/Exercise_4_mummichog_result/figures/network_modules/*.\n",
    "\n",
    "Step 1. Get the software from http://cytoscape.org and install to your own computer\n",
    "\n",
    "Step 2. Start Cytoscape. From the menu, open File/Import/Network/File. Find and use \"data/Exercise_4_mummichog_result/figures/network_modules/module1.txt\".\n",
    "\n",
    "Step 3. Use \"Node_attributes.txt\" to supply compound names to Cytoscape.\n",
    "\n",
    "Step 4. Try out layout algorithms and styling, etc."
   ]
  },
  {
   "cell_type": "markdown",
   "metadata": {},
   "source": [
    "# Exercises 7 - Additional controls in upstream statistics\n",
    "\n",
    "Pathway statistics is different from that in feature selection, which is usually done upstream to pathway analysis. However, there's generally a lot of noise in metabolomics data. Better quality of input data will help your pathway result. \n",
    "\n",
    "We will use here the original dataset in the mummichog paper (Suppl. Dataset 1, Li et al 2013 PLoS Comp Biol), *data/ave_log2_modc_ae_2012.txt*.\n",
    "The experiment was examining the intracellular metabolome of viral infection of immune cells. There were two controls, baseline samples prior to infection and the samples undergone mock infection. \n",
    "The standard test file, \"testdata0710.txt\", was only based on comparing infected samples vs baseline.\n",
    "This exercise will apply both of the two biological controls in the experimental design, and add FDR (false discovery rate) correction."
   ]
  },
  {
   "cell_type": "code",
   "execution_count": 4,
   "metadata": {
    "collapsed": false
   },
   "outputs": [
    {
     "data": {
      "text/html": [
       "<div>\n",
       "<table border=\"1\" class=\"dataframe\">\n",
       "  <thead>\n",
       "    <tr style=\"text-align: right;\">\n",
       "      <th></th>\n",
       "      <th>mz</th>\n",
       "      <th>retention_time</th>\n",
       "      <th>mock_6hr_01</th>\n",
       "      <th>mock_6hr_02</th>\n",
       "      <th>mock_6hr_03</th>\n",
       "      <th>p_0hr_01</th>\n",
       "      <th>p_0hr_02</th>\n",
       "      <th>p_0hr_03</th>\n",
       "      <th>yf_6hr_01</th>\n",
       "      <th>yf_6hr_02</th>\n",
       "      <th>yf_6hr_03</th>\n",
       "    </tr>\n",
       "  </thead>\n",
       "  <tbody>\n",
       "    <tr>\n",
       "      <th>0</th>\n",
       "      <td>85.02783</td>\n",
       "      <td>59</td>\n",
       "      <td>17.23</td>\n",
       "      <td>17.18</td>\n",
       "      <td>17.44</td>\n",
       "      <td>15.67</td>\n",
       "      <td>15.57</td>\n",
       "      <td>17.26</td>\n",
       "      <td>16.94</td>\n",
       "      <td>16.98</td>\n",
       "      <td>16.56</td>\n",
       "    </tr>\n",
       "    <tr>\n",
       "      <th>1</th>\n",
       "      <td>85.04717</td>\n",
       "      <td>124</td>\n",
       "      <td>16.53</td>\n",
       "      <td>15.80</td>\n",
       "      <td>16.62</td>\n",
       "      <td>14.37</td>\n",
       "      <td>14.85</td>\n",
       "      <td>15.63</td>\n",
       "      <td>16.71</td>\n",
       "      <td>15.65</td>\n",
       "      <td>16.27</td>\n",
       "    </tr>\n",
       "    <tr>\n",
       "      <th>2</th>\n",
       "      <td>85.06532</td>\n",
       "      <td>68</td>\n",
       "      <td>10.80</td>\n",
       "      <td>10.61</td>\n",
       "      <td>11.36</td>\n",
       "      <td>14.87</td>\n",
       "      <td>14.89</td>\n",
       "      <td>12.53</td>\n",
       "      <td>14.42</td>\n",
       "      <td>14.03</td>\n",
       "      <td>10.81</td>\n",
       "    </tr>\n",
       "    <tr>\n",
       "      <th>3</th>\n",
       "      <td>85.10073</td>\n",
       "      <td>16</td>\n",
       "      <td>13.32</td>\n",
       "      <td>13.16</td>\n",
       "      <td>13.42</td>\n",
       "      <td>13.77</td>\n",
       "      <td>12.42</td>\n",
       "      <td>13.31</td>\n",
       "      <td>12.99</td>\n",
       "      <td>12.99</td>\n",
       "      <td>12.95</td>\n",
       "    </tr>\n",
       "    <tr>\n",
       "      <th>4</th>\n",
       "      <td>86.05951</td>\n",
       "      <td>67</td>\n",
       "      <td>18.42</td>\n",
       "      <td>18.15</td>\n",
       "      <td>18.37</td>\n",
       "      <td>15.18</td>\n",
       "      <td>17.02</td>\n",
       "      <td>17.91</td>\n",
       "      <td>17.76</td>\n",
       "      <td>17.67</td>\n",
       "      <td>15.15</td>\n",
       "    </tr>\n",
       "  </tbody>\n",
       "</table>\n",
       "</div>"
      ],
      "text/plain": [
       "         mz  retention_time  mock_6hr_01  mock_6hr_02  mock_6hr_03  p_0hr_01  \\\n",
       "0  85.02783              59        17.23        17.18        17.44     15.67   \n",
       "1  85.04717             124        16.53        15.80        16.62     14.37   \n",
       "2  85.06532              68        10.80        10.61        11.36     14.87   \n",
       "3  85.10073              16        13.32        13.16        13.42     13.77   \n",
       "4  86.05951              67        18.42        18.15        18.37     15.18   \n",
       "\n",
       "   p_0hr_02  p_0hr_03  yf_6hr_01  yf_6hr_02  yf_6hr_03  \n",
       "0     15.57     17.26      16.94      16.98      16.56  \n",
       "1     14.85     15.63      16.71      15.65      16.27  \n",
       "2     14.89     12.53      14.42      14.03      10.81  \n",
       "3     12.42     13.31      12.99      12.99      12.95  \n",
       "4     17.02     17.91      17.76      17.67      15.15  "
      ]
     },
     "execution_count": 4,
     "metadata": {},
     "output_type": "execute_result"
    }
   ],
   "source": [
    "# pandas is a powerful Python data hanlding library, with many equivalent concepts in R\n",
    "import pandas as pd\n",
    "\n",
    "# import library containing FDR function\n",
    "from statsmodels.sandbox.stats.multicomp import multipletests\n",
    "\n",
    "# get data\n",
    "input_file = \"data/Exercise_7_ave_log2_modc_ae_2012.txt\"\n",
    "data = pd.read_table(input_file)\n",
    "\n",
    "# view/inspect data\n",
    "data.head()"
   ]
  },
  {
   "cell_type": "code",
   "execution_count": 5,
   "metadata": {
    "collapsed": false
   },
   "outputs": [
    {
     "name": "stdout",
     "output_type": "stream",
     "text": [
      "('groups: ', (['p_0hr_01', 'p_0hr_02', 'p_0hr_03'], ['mock_6hr_01', 'mock_6hr_02', 'mock_6hr_03'], ['yf_6hr_01', 'yf_6hr_02', 'yf_6hr_03']))\n"
     ]
    }
   ],
   "source": [
    "# get group definition\n",
    "# This can be from user supplied file.\n",
    "\n",
    "# manually define here for this example dataset\n",
    "header = [x for x in data]\n",
    "baseline = [x for x in header[2:] if '0hr' in x]\n",
    "mock = [x for x in header[2:] if 'mock_6hr' in x]\n",
    "yfv = [x for x in header[2:] if 'yf_6hr' in x]\n",
    "\n",
    "print(\"groups: \", (baseline, mock, yfv))\n",
    "\n",
    "number_features = data.shape[0]\n",
    "# this line select columns by sample names\n",
    "data_baseline, data_mock, data_yfv = data[baseline].values, data[mock].values, data[yfv].values\n",
    "\n",
    "# The plan here is to do two t-tests, and combine the p-values. \n",
    "# Alternatively, one could select the features that are significant in both tests (as in the original paper).\n",
    "# ANOVA can be used to compare all three groups together, but loses the focus on infected samples.\n",
    "\n",
    "p_values, t_scores = [], []\n",
    "for ii in range(number_features):\n",
    "    # this is t-test on independent samples\n",
    "    # p_values_1: compare yfv and baseline; p_values_2: compare yfv and mock\n",
    "    t1, p1 = stats.ttest_ind(data_yfv[ii,:], data_baseline[ii,:])\n",
    "    t2, p2 = stats.ttest_ind(data_yfv[ii,:], data_mock[ii,:])\n",
    "    # nan may be returned\n",
    "    if np.isnan(t1): t1,p1 = 0,1\n",
    "    if np.isnan(t2): t2,p2 = 0,1\n",
    "    \n",
    "    # This appends combined p-values by Fisher's method. \n",
    "    # One could improve it by further considering dependency btw the two p-values.\n",
    "    p_values.append( stats.combine_pvalues([p1, p2])[1] )\n",
    "    # We take t2 score for convenience here\n",
    "    t_scores.append(t2)\n",
    "        \n",
    "# Compute FDR using Benjamini-Hochberg procedure\n",
    "fdrs = multipletests(p_values, method = 'fdr_bh')[1]\n",
    "\n",
    "# sort output by ascending p-values\n",
    "# output will include feature intensity data, to be used for Exercise 9\n",
    "new = []\n",
    "for ii in range(number_features):\n",
    "    mz, rtime = data.values[ii, :2]\n",
    "    intensities = list(data.values[ii, 2:])\n",
    "    new.append([p_values[ii]] + [str(x) for x in [\n",
    "                mz, rtime, fdrs[ii], t_scores[ii], 'row_'+str(ii+1), p_values[ii]] + intensities])\n",
    "new.sort()\n",
    "\n",
    "# output format \n",
    "# mz, rtime, FDR, t, row_num, p, samples...\n",
    "s = '\\t'.join(['m/z', 'retention_time', 'FDR_BH', 't-score', 'row_number', 'p-value'] + header[2:]) + '\\n'\n",
    "for L in new:\n",
    "    s += '\\t'.join(L[1:]) + '\\n'\n",
    "    \n",
    "with open(\"updated_yfv_result.txt\", \"w\") as file:\n",
    "    file.write(s)\n"
   ]
  },
  {
   "cell_type": "markdown",
   "metadata": {},
   "source": [
    "### Summary of Exercise 7\n",
    "\n",
    "The above code block generates a list of features and their combined p-values in comparing yfv and baseline, and comparing yfv and mock. Benjamini-Hochberg FDR was then applied to these p-values.\n",
    "\n",
    "Now use the resulting \"updated_yfv_result.txt\" as input to run mummichog, setting cutoff at FDR < 0.01 (threshold on server, or using -c 0.01 in command line) \n"
   ]
  },
  {
   "cell_type": "markdown",
   "metadata": {},
   "source": [
    "# Exercises 8 - MWAS + mummichog (on your own)\n",
    "\n",
    "MWAS (metabolome wide association study) is widely used in population studies.\n",
    "\n",
    "For example, one can use linear regression models to test the assoication of each metabolite feature with a disease score:\n",
    "\n",
    "```\n",
    "Disease_score = metabolite_feature + age + gender + known_risk_factor\n",
    "```\n",
    "\n",
    "The p-values from the above model can be saved to the format of [m/z, rtime, p-value, beta, ...] to a text file, which can be used as input to run mummichog. \n",
    "\n",
    "This MWAS + mummichog approach can thus produce a rapid interpretation of pathways associated with a disease.\n"
   ]
  },
  {
   "cell_type": "markdown",
   "metadata": {},
   "source": [
    "# Exercises 9 - Additional data visualization\n",
    "\n",
    "Manhattan plots and pathway bar plots can be generated during mummichog analysis.\n",
    "\n",
    "It is important to inspect the key metabolite features that contribute to significant pathways. For those, heatmaps and box plots are commonly used to visualize metabolite concentrations."
   ]
  },
  {
   "cell_type": "code",
   "execution_count": 6,
   "metadata": {
    "collapsed": false
   },
   "outputs": [
    {
     "name": "stderr",
     "output_type": "stream",
     "text": [
      "/Users/sli/anaconda2/lib/python2.7/site-packages/matplotlib/cbook.py:136: MatplotlibDeprecationWarning: The axisbg attribute was deprecated in version 2.0. Use facecolor instead.\n",
      "  warnings.warn(message, mplDeprecation, stacklevel=1)\n"
     ]
    },
    {
     "data": {
      "image/png": "[encoded data removed]",
      "text/plain": [
       "<matplotlib.figure.Figure at 0x11c1d7510>"
      ]
     },
     "metadata": {},
     "output_type": "display_data"
    }
   ],
   "source": [
    "# Heatmap for features with FDR < 0.01, code partially by Andrei Todor\n",
    "\n",
    "# seaborn is a nice visualization library, https://seaborn.pydata.org/\n",
    "import seaborn as sns\n",
    "\n",
    "# using data from Exercise 7\n",
    "mydata9 = pd.read_table(\"updated_yfv_result.txt\")\n",
    "sns.set()\n",
    "d = mydata9.loc[mydata9.FDR_BH < 0.01, :].iloc[:, 6:]\n",
    "g = sns.clustermap(d, col_cluster=False, z_score=0, figsize=(10, 10))\n",
    "sns.plt.show()"
   ]
  },
  {
   "cell_type": "code",
   "execution_count": 7,
   "metadata": {
    "collapsed": false
   },
   "outputs": [
    {
     "name": "stdout",
     "output_type": "stream",
     "text": [
      "mock_6hr_01    17.34\n",
      "mock_6hr_02    17.73\n",
      "mock_6hr_03    17.85\n",
      "p_0hr_01       15.35\n",
      "p_0hr_02        15.4\n",
      "p_0hr_03       17.82\n",
      "yf_6hr_01       9.89\n",
      "yf_6hr_02       9.51\n",
      "yf_6hr_03       9.97\n",
      "Name: 50, dtype: object\n"
     ]
    },
    {
     "data": {
      "text/plain": [
       "<matplotlib.axes._subplots.AxesSubplot at 0x11c839810>"
      ]
     },
     "execution_count": 7,
     "metadata": {},
     "output_type": "execute_result"
    },
    {
     "data": {
      "image/png": "[encoded data removed]",
      "text/plain": [
       "<matplotlib.figure.Figure at 0x11c839110>"
      ]
     },
     "metadata": {},
     "output_type": "display_data"
    }
   ],
   "source": [
    "# to plot a feature at row # 51\n",
    "print(mydata9.iloc[50, 6:])\n",
    "# define groups\n",
    "box9 = mydata9.iloc[50, 6:]\n",
    "baseline, mock, infected = box9[3:6], box9[:3], box9[6:]\n",
    "\n",
    "# plotting\n",
    "fig = plt.figure(figsize=(3, 5))\n",
    "sns.boxplot(data=[baseline, mock, infected], width=0.6)\n"
   ]
  },
  {
   "cell_type": "markdown",
   "metadata": {},
   "source": [
    "### Note\n",
    "Validation is usually needed to take your project to the next level.\n",
    "In small size of samples, uniformly low numbers could be caused by imputation on the missing values. \n",
    "Always know your data."
   ]
  }
 ],
 "metadata": {
  "kernelspec": {
   "display_name": "Python 2",
   "language": "python",
   "name": "python2"
  },
  "language_info": {
   "codemirror_mode": {
    "name": "ipython",
    "version": 2
   },
   "file_extension": ".py",
   "mimetype": "text/x-python",
   "name": "python",
   "nbconvert_exporter": "python",
   "pygments_lexer": "ipython2",
   "version": "2.7.13"
  }
 },
 "nbformat": 4,
 "nbformat_minor": 2
}
