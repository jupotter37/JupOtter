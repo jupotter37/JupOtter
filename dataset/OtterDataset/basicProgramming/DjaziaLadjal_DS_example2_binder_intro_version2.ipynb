{
 "cells": [
  {
   "cell_type": "markdown",
   "metadata": {},
   "source": [
    "\n",
    "# Welcome to Binder: your own analytics environment!\n",
    "\n",
    "Binder is an online service that provides you with a working space to build and share code. While it can be useful to spend time learning a coding language, many of the analytics tasks can be done using basic coding commands and leveraging pre-made codes which are called packages or libraries. For our tasks we will be using the coding language 'python' and specifically using what we call a Jupyter notebook.\n",
    "\n",
    "A Jupyter notebook is an interactive coding environment for python which lets you test code by yourself.\n",
    "What you are looking at right now is the Jupyter notebook environment, hosted by the Binder service so that it can be shared with you.\n",
    "\n",
    "For this introduction we will help you get familiar with the notebook environment. Don't worry, you don't have to memorise any of this. All the commands you will see here can be googled. It is more important to understand the concepts so that you know what to google for!\n",
    "\n",
    "Before we start, it is important to know that you can edit every part of this notebook. You can modify the text, the code, delete anything or add anything. None of it will be permanent. If you re-open the binder link, the environment will reset to its original state. \n",
    "\n",
    "<font color='blue'>**You cannot break anything! So, feel free to experiment.**</font>\n",
    "\n",
    "## 1. Notebook layout\n",
    "\n",
    "At the top of the screen, you have a drop-down menu which you will not need for this project. The icon menu on the top (highlighted in the figure below in blue) will have everything you need to navigate the tasks.\n",
    "\n",
    "Under the menu is the main body of the notebook. This main part is organised in sections which are called 'cells'. We are using only 2 types of cells: markdown cells and coding cells. We will provide more details on cell types further down.\n",
    "\n",
    "<img src=\"./images/Jupyter4.png\" width=\"80%\"/>\n",
    "\n",
    "## 2. Jupyter notebook menu\n",
    "\n",
    "Let us have a closer look at the top icons' menu. The only icons we care about for this project are highlighted in the figure below.\n",
    "\n",
    "<img src=\"./images/Jupyter0.png\" width=\"100%\"/>\n",
    "\n",
    "The most important menu command is:\n",
    "\n",
    "- Run cell: this will execute the selected cell and then move forward. Always remember that you need to select the cell you want to run by clicking on it.\n",
    "\n",
    "Often code cells depend on each other. This means that to run successfully the 5th cell you need to make sure you already ran the previous 4 cells IN ORDER. This also means that if you make it to cell 5 but then you want to change the code in cell 3, to have the changes reflect all the way through to cell 5, you will need to re-run cell 3 to 5.\\\n",
    "We will practice this later on.\n",
    "\n",
    "Next useful commands are:\n",
    "\n",
    "- Save checkpoint: this will save the current state of your notebook locally. This is not a permanent save. It is only valid during the work session. If you re-open the binder it will reset to its original state. Make use of this save point while you are running through the notebook and specially if you make changes that you want to save.\n",
    "\n",
    "- Restore last checkpoint: if you make changes that you are not happy with, you can always restore the notebook to the last checkpoint state by using this command. Remember, if all fails you can always re-open the binder link and start the session fresh.\n",
    "\n",
    "The remaining commands are related to editing the cells like adding a new cell or copy and pasting a cell. When adding a new cell, it defaults to a coding one. To change the cell type, you can select the cell and use the drop down on the top right of the menu. For this project we will only be using markdown and code cells.\n",
    "\n",
    "\n",
    "## 3. Cell types and operations\n",
    "\n",
    "As mentioned above, we will only use 2 types of cells:\n",
    "\n",
    "1. markdown cells, which contain titles and explanatory text. There are no analytical calculations in these cells. The section where you are reading this right now is a markdown cell.\n",
    "\n",
    "2. code cells, which contain actual python code. You can recognise code cells by the grey background and they also always have square brackets <font color='blue'>'[ ]:'</font>  with a number to the left of them.\n",
    "\n",
    "### A. Markdown cells\n",
    "\n",
    "Markdown cells can be edited by double clicking on them. If you do that you will be in the edit mode of the cell.\n",
    "Any modification to the cell will need to be validated by 'running' the cell. To run a cell, you just need to press the play button from the icon's menu at the top.\n",
    "\n",
    "When in edit mode of a markdown cell, you will find that there are special ways to style text. Markdown supports adding rich content by using HTML code. Don't worry, you don't need to do any of that. If you find yourself in edit mode of a markdown cell just press the play button to run the cell and exit edit mode.\n",
    "\n",
    "### B. Running code\n",
    "\n",
    "Running a code cell is a bit different from running a markdown cell. Markdown cells can have anything in them. The worst thing that can happen when modifying a markdown cell is that your text styling will be wrong but you will still be able to 'run' the cell. In the other hand, a coding cell needs to contain valid code to 'run' correctly. If your code is not correct, you will get an error message underneath the code cell. You can write comments in coding cells by putting a '#' symbol at the start of the comment. Anything in a line after the '#' symbol will not be considered as code.\n",
    "\n",
    "If your code calls for a result (like a calculation result or a print statement), the result of the 'run' will be displayed right under the code block. This will be an error message if your code is wrong. The result of the code (or we can also call it the output) will still be part of the coding cell block (i.e., when you select a code cell with a result you will see that the selection includes the full code and result blocks). If you change the code in the cell and re-run it, the result will change accordingly. \n",
    "\n",
    "**Useful tip:** If you prefer using your keyboard, you can run a cell by just pressing Shift+Enter.\n",
    "\n",
    "If you have multiple cells in your Notebook, and you run the cells in order, you can share your variables and imports across cells. This makes it easy to separate your code into logical chunks without needing to re-import libraries or recreate variables in every cell.\n",
    "\n",
    "When you run a cell, you will notice that the number within the square brackets to the left of the cell will change. This is auto-generated and reflects the order of running the cells. For example, if you open a fresh Notebook and run the first cell at the top of the Notebook, the square brackets will fill with the number 1.\n",
    "\n",
    "If the code in a cell requires time to finish computing, you will see '*' symbol in the square brackets. Once the calculation is completed the '*' will change to a number.\n",
    "\n",
    "Let us practice running some code.\n",
    "\n",
    "Below are 5 code cells:\n",
    "\n",
    "1. first cell demonstrates how to define a text variable and how to print it out. Basically, anything between single quotation marks is considered text. A text variable is called a 'string'. Notice the result print out under the code cell. Try changing the printed text by changing the string variable.\n",
    "\n",
    "2. second cell shows you how to define numerical variables and run simple arithmetic operations. Notice that only the result of the final operation is printed under the code cell. This is because without 'print' statements, code execution while running all the lines, will only display the results of the last line of code.\n",
    "\n",
    "3. third cell uses print statements to print out the result of every calculation. Notice the displayed result under the code cell. \n",
    "\n",
    "4. fourth cell combines text and numerical print out. Notice how we used single quotation marks to define the string part and the use of the comma to separate the string and numerical variables.\n",
    "\n",
    "5. the last cell does not contain valid code and it will show an error message when you run the cell.\n",
    "\n",
    "This is a good time to save your session by using the save checkpoint from the tope menu. After saving, you can change the code in the cells in any way you want. Test your new code by running the cells. Remember, you can always revert to the last checkpoint using the top icons menu. If anything goes wrong, you can re-open the binder link to re-start the session! \n",
    "\n",
    "<h3><center><font color='blue'>Go ahead and run every code cell to see the result or output underneath it by selecting the cell and pressing the play button at the top each time.</font></center>"
   ]
  },
  {
   "cell_type": "code",
   "execution_count": null,
   "metadata": {
    "scrolled": false
   },
   "outputs": [],
   "source": [
    "text_variable='Hello world!' #creates a variable which contains specific text. You can change the text if you want.\n",
    "print(text_variable) #prints out the text stored in the variable text_variable."
   ]
  },
  {
   "cell_type": "code",
   "execution_count": null,
   "metadata": {},
   "outputs": [],
   "source": [
    "x=4 #creates a variable called x which stores the number 4.\n",
    "y=5 #creates a variable called y which stores the number 5.\n",
    "x+y #calculates x+y but this is not displayed as it is not in a print command.\n",
    "x-y #calculates x-y but this is not displayed as it is not in a print command.\n",
    "x*y #calculates x*y and displays the result because it is the last command line."
   ]
  },
  {
   "cell_type": "code",
   "execution_count": null,
   "metadata": {},
   "outputs": [],
   "source": [
    "x=4 #creates a variable called x which stores the number 4\n",
    "y=5 #creates a variable called y which stores the number 5\n",
    "\n",
    "print(x+y) #prints x+y\n",
    "print(x-y) #prints x-y\n",
    "print(x*y) #prints x*y"
   ]
  },
  {
   "cell_type": "code",
   "execution_count": null,
   "metadata": {},
   "outputs": [],
   "source": [
    "x=4 #creates a variable called x which stores the number 4\n",
    "y=5 #creates a variable called y which stores the number 5\n",
    "print('x=',x) #prints some text before also printing the value of x\n",
    "print('y=',y) #prints some text before also printing the value of y\n",
    "print('x+y=',x+y) #prints some text before also printing the value of x+y\n",
    "print('x-y=',x-y) #prints some text before also printing the value of x-y\n",
    "print('x*y=',x*y) #prints some text before also printing the value of x*y"
   ]
  },
  {
   "cell_type": "code",
   "execution_count": null,
   "metadata": {},
   "outputs": [],
   "source": [
    "This is not valid python code and when you run this cell it will trigger an error message block underneath it"
   ]
  },
  {
   "cell_type": "markdown",
   "metadata": {},
   "source": [
    "## 4. Basic python\n",
    "\n",
    "Python is a general-purpose coding language. It can be used for basic or advanced programming.\n",
    "In spite of being a high level language, Python is beginner friendly. It does not stress people with machine like language that is difficult to comprehend. Instead, it reads like the English language and after some time you get used to the syntax.\\\n",
    "By combining Python with Jupyter notebook as your coding environment, you can focus on mastering the concept of programming rather than get stuck on learning the language. \n",
    "\n",
    "It’s common to start off with a code cell specifically for imports and setup. This is needed if you are using special pre-built analytics packages. These packages (or libraries) will allow you to run various models or operations with minimal coding. To be able to use them you will need to import them first. The imported libraries will be valid to use throughout all the coding cells that follow the import cell.\n",
    "\n",
    "Here are some examples of import statements (what is between square bracket should be replaced):\n",
    "\n",
    "1. Simple library import. For any subsequent code we will be able to directly call the library.\n",
    "\n",
    "**import** [Library]\n",
    "\n",
    "2. Import library using an alias. The alias can then be used in any subsequent code cell to call the library.\n",
    "\n",
    "**import** [Library] **as** [alias]\n",
    "\n",
    "3. Import a sub-module from a library. Sometimes, libraries will have various modules that can do different things. It is possible to import only the needed module. After the import, it is then possible to call the module directly by its name in any subsequent code.\n",
    "\n",
    "**From** [Library] **import** [module]\n",
    "\n",
    "Below is a python setup cell followed by some examples of of library usage.\n",
    "\n",
    "1. in the first cell we imported the numpy library using the alias 'np' and we also imported the module date from the datetime library: \n",
    "    1. numpy is a math library that can handle numerical arrays and lets you run common statistical calculations.\n",
    "    2. the datetime library can handle date and time variables and operations.\n",
    "\n",
    "2- In the subsequent cells we show some examples of how to use the imported library and module. Notice the use of the alias instead of typing the name of the library.\n",
    "\n",
    "Remember, you don't need to memorise all of this, you can come back to this tutorial any time. Also, check out this Python cheat sheet for basic commands: \n",
    "https://s3.amazonaws.com/assets.datacamp.com/blog_assets/PythonForDataScience.pdf"
   ]
  },
  {
   "cell_type": "code",
   "execution_count": null,
   "metadata": {},
   "outputs": [],
   "source": [
    "import numpy as np  #imports the numpy library\n",
    "from datetime import date #imports the date module from the datetime package"
   ]
  },
  {
   "cell_type": "code",
   "execution_count": null,
   "metadata": {},
   "outputs": [],
   "source": [
    "today = date.today() #stores today's date in a variable called today\n",
    "\n",
    "print('today is ', today) #prints the value of today\n",
    "\n",
    "x=4 #stores 4 in a variable called x\n",
    "\n",
    "square_root = np.sqrt(x) #stores the square root of x in a variable called square root\n",
    "\n",
    "print('The square root of ',x,'is ',square_root) #prints the square root of x\n",
    "\n",
    "my_list=[1,2,3,4,5] #stores a list of numbers in a variable called my_list\n",
    "\n",
    "mean_of_list = np.mean(my_list) #calculates the average of the numbers in the list and stores that in mean_of_list\n",
    "\n",
    "print('The average of ',my_list,'is ',mean_of_list) #prints out the result"
   ]
  },
  {
   "cell_type": "markdown",
   "metadata": {},
   "source": [
    "## To conclude\n",
    "\n",
    "By the end of this introduction, you should be able to (1) start your Binder session, (2) be familiar with the different type of cells and the general structure of the notebook, (3) able to read through the instructions in the markdown cells, (4) know how to interact with code cells when required and of course (5) know how to run code!\n",
    "\n",
    "You are ready to tackle the tasks for this module. Time to go back to Practera and learn more about your first task.\n"
   ]
  },
  {
   "cell_type": "code",
   "execution_count": null,
   "metadata": {},
   "outputs": [],
   "source": []
  }
 ],
 "metadata": {
  "kernelspec": {
   "display_name": "Python 3",
   "language": "python",
   "name": "python3"
  },
  "language_info": {
   "codemirror_mode": {
    "name": "ipython",
    "version": 3
   },
   "file_extension": ".py",
   "mimetype": "text/x-python",
   "name": "python",
   "nbconvert_exporter": "python",
   "pygments_lexer": "ipython3",
   "version": "3.7.9"
  }
 },
 "nbformat": 4,
 "nbformat_minor": 4
}
