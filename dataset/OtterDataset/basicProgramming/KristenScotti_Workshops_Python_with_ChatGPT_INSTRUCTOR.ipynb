{
 "cells": [
  {
   "cell_type": "markdown",
   "id": "d4c01cd9-6c9a-4cf6-bc72-be97405033cc",
   "metadata": {},
   "source": [
    "# Python for All: Democratizing Coding Mastery with AI Chatbot Support INSTRUCTOR VERSION"
   ]
  },
  {
   "cell_type": "markdown",
   "id": "dd8ccffd-92a9-497c-a9c4-9656d063291d",
   "metadata": {},
   "source": [
    "## <a id = \"contents\">Contents</a>\n",
    "* <a href='#intro'>Introduction</a>\n",
    "    - <a href='#summary'>Workshop Summary</a> \n",
    "    - <a href='#presenters'>Presenters</a> \n",
    "    - <a href='#objectives'>Learning Objectives</a> \n",
    "    - <a href='#knowledge'>Assumed Knowledge</a>\n",
    "    - <a href='#logistics'>Logistics</a>\n",
    "* <a href = \"#problems\">Exercises</a>\n",
    "    - <a href ='#prompt'>Prompt Engineering</a>\n",
    "    - <a href ='#breakdown'>Breaking Down Complex Problems</a>\n",
    "    - <a href='#optimize'>Code Optimization</a>\n",
    "    - <a href='#convert'>Language Conversion</a>"
   ]
  },
  {
   "cell_type": "markdown",
   "id": "b05cad2b-d746-459d-90f3-9bf7e1ea6a2b",
   "metadata": {},
   "source": [
    "***"
   ]
  },
  {
   "cell_type": "markdown",
   "id": "963c3db6-230c-4f20-a146-56d9c5e038e2",
   "metadata": {},
   "source": [
    "# <a id = \"intro\"></a>Introduction\n",
    "\n",
    "## <a id = \"summary\"></a>Workshop Summary\n",
    "\n",
    "We will utilize AI chatbots like ChatGPT, Bard, and Co-pilot to support the process of learning to code. Using Python as our teaching tool, participants will acquire skills that are transferable to other programming languages. We will explore how AI chatbots can be invaluable resources for understanding, writing, and refining code, as well as for facilitating transitions between different coding languages.\n",
    "\n",
    "## <a id = \"presenters\"></a>Instructors\n",
    "\n",
    "Kristen Scotti\\\n",
    "Open Science Postdoc\\\n",
    "Office: 4416, Sorrells Library  \\\n",
    "[kscotti@andrew.cmu.edu](mailto:kscotti@andrew.cmu.edu) \n",
    "\n",
    "Lencia Beltran\\\n",
    "Open Science Program Coordinator\\\n",
    "[lbeltran@andrew.cmu.edu](mailto:venkatas@andrew.cmu.edu)\n",
    "\n",
    "\n",
    "## <a id = \"objectives\"></a>Learning Objectives\n",
    "\n",
    "Workshop attendees will:\n",
    "1. *AI Fundamentals*: Understand key concepts and terminology related to generative AI.\n",
    "2. *Practical Application*: Use generative AI as a programming assistant to enhance coding efficiency, troubleshoot errors, and tackle projects with greater confidence.\n",
    "3. *Critical Evaluation*: Develop the ability to assess the accuracy, reliability, and usefulness of AI-generated code and solutions.\n",
    "4. *Ethical and Practical Evaluation*: Examine the ethical implications of generative AI, recognizing its strengths, weaknesses, biases, limitations, and potential for misuse.\n",
    "5. *Adaptability and Continuous Learning*: Cultivate skills to continuously adapt to advancements in AI technology.\n",
    "\n",
    "\n",
    "## <a id = \"knowledge\"></a>Assumed Knowledge\n",
    "\n",
    "This workshop is intended for beginner-level Python coders. Attendees are assumed to have some familiarity with coding concepts and structures, although it is not required. This workshop will not cover foundational Python skills, so basic knowledge of general programming principles is beneficial. Instead, we will focus on leveraging AI chatbots like ChatGPT to enhance coding proficiency in Python. Participants will learn to use these tools to interpret and craft code, troubleshoot errors, and facilitate transitions between coding languages. The Libraries offers a number of [workshops](https://cmu.libcal.com/calendar/events/?cid=9148&t=d&d=0000-00-00&cal=9148&inc=0) for building foundational Python skills.\n",
    "\n",
    "## <a id = \"logistics\"></a>Logistics\n",
    "We will use [Binder](https://mybinder.org/) to access the Jupyter notebook for this workshop. Binder is a free, open-source web service that allows us to create and share interactive computing environments from GitHub repositories.\n",
    "\n",
    "Recommended generative AI chatbots for use in this workshop:\n",
    "* <a href = \"https://chat.openai.com/\" target = \"_blank\">ChatGPT</a> (OpenAI)\n",
    "* <a href = \"https://gemini.google.com/app\" target = \"_blank\">Gemini</a> (Google)\n",
    "* <a href = \"https://copilot.microsoft.com/\" target = \"_blank\">Copilot</a> (Microsoft)\n",
    "\n",
    "<font color='blue'>\n",
    "<b>INSTRUCTOR NOTE</b>: Ask participants to launch Binder early as it takes some time to load. Participants will need to navigate to \"mybinder.org\", paste the Github repository URL and the notebook path in the corresponding input fields, and click \"launch\".\r\n"
   ]
  },
  {
   "cell_type": "markdown",
   "id": "8751358a-4ed7-49a1-8d2b-6e32f30a2899",
   "metadata": {},
   "source": [
    "***"
   ]
  },
  {
   "cell_type": "markdown",
   "id": "3c170030-f85e-43c8-9554-a7c683c11601",
   "metadata": {},
   "source": [
    "<font color = 'blue'><b>INSTRUCTOR NOTES—Introduction</b></font>\n",
    "\n",
    "<font color = 'blue'>The following material is recommended for inclusion on introductory slides:</font>\n",
    "\n",
    "<font color = 'blue'>\n",
    "What is Generative AI?\n",
    "<ul>\n",
    "    <li>Artificial intelligence systems capable of generating new content, such as text, images, and even music, based on the data they have been trained on and do not rely on a set of predefined rules.</li>\n",
    "    <li>Large Language Models (LLMs) are a subset of generative AI that focuses on understanding and generating human language.</li>\n",
    "    <li>We can leverage ML algorithms to analyze and identify patterns in data.</li>\n",
    "</ul>\n",
    "\n",
    "Cautions when using Generative AI Chatbots\n",
    "<ul>\n",
    "    <li>Assume any information provided by a generative AI chatbot is inaccurate, unless you are able to externally validate the information with reliable sources (read about generative AI \"hallucinations\").</li>\n",
    "    <li>Be aware of limitations. Generative AI chatbots can assist, but do not replace a deep understanding of programming concepts. Be aware of bias!</li>\n",
    "    <li>Avoid using AI-generated content in ways that could harm others or violate ethical standards.</li>\n",
    "    <li>Learn when and what you need to report when using generative AI tools (for example, in research). It is not uncommon to have multiple levels of policies to consider (e.g., for research, this may be your PI, department, university, funding agency, and publishing platform).</li>\n",
    "    <li>When selecting an AI chatbot, learn about how the corresponding company will use your data (and how much control you have over what data are accessed). Be very cautious about sharing sensitive or proprietary data!</li>\n",
    "</ul>\n",
    "\n",
    "It is helpful to give a brief introduction to the notebook environment prior to beginning the demonstration. Each exercise contains extra cells for participants to use to run their code.\n",
    "\n",
    "</font>"
   ]
  },
  {
   "cell_type": "markdown",
   "id": "6b37e43d-6f76-48f3-a83a-fca409361585",
   "metadata": {},
   "source": [
    "***"
   ]
  },
  {
   "cell_type": "markdown",
   "id": "6129d816-4c26-4756-8b70-4a4335b920af",
   "metadata": {},
   "source": [
    "### Library Imports"
   ]
  },
  {
   "cell_type": "markdown",
   "id": "c15332ed-9eb5-41bb-ab03-9d4949eb2682",
   "metadata": {},
   "source": [
    "Install and/or load libraries that we will use in this workshop."
   ]
  },
  {
   "cell_type": "code",
   "execution_count": 2,
   "id": "ea142ce0",
   "metadata": {},
   "outputs": [],
   "source": [
    "# Uncomment lines & run cell for any libraries that need to be installed\n",
    "\n",
    "#!pip install numpy\n",
    "#!pip install pandas\n",
    "#!pip install matplotlib"
   ]
  },
  {
   "cell_type": "code",
   "execution_count": 17,
   "id": "ecf453ba",
   "metadata": {},
   "outputs": [],
   "source": [
    "import numpy as np # import NumPy library and alias it as np\n",
    "import pandas as pd\n",
    "import matplotlib.pyplot as plt # import the Matplotlib's pyplot (plotting) module and alias it as plt"
   ]
  },
  {
   "cell_type": "markdown",
   "id": "d1e91fb7-4cd3-4f9f-8c50-3ccd3bab7e1b",
   "metadata": {},
   "source": [
    "***"
   ]
  },
  {
   "cell_type": "markdown",
   "id": "8426a396-4a08-4432-96ae-123fbae50ba8",
   "metadata": {},
   "source": [
    "# <a id = \"problems\"></a>Exercises\n",
    "\n",
    "## <a id = \"prompt\"></a>Prompt Engineering"
   ]
  },
  {
   "cell_type": "markdown",
   "id": "53679cb3-25b1-461d-98fc-b28f15269e32",
   "metadata": {},
   "source": [
    "### Warm-up: Using the CLEAR Framework for Prompt Engineering"
   ]
  },
  {
   "cell_type": "markdown",
   "id": "dd988a6d-58ea-4e3f-baf6-45cad69f563f",
   "metadata": {},
   "source": [
    "<font color='blue'>\n",
    "<b>INSTRUCTOR NOTES</b> <br><br>\n",
    "\n",
    "<font color = 'blue'>\n",
    "<b>Summary</b>: Participants will learn to design effective prompts using the CLEAR framework to solve a programming problem in Python. This exercise focuses on understanding the logic of creating an algorithm to find the shortest path in a 2D maze. By applying the CLEAR framework (Concise, Logical, Explicit, Adaptive, and Reflective), participants will enhance their ability to craft clear and precise prompts, ultimately improving the quality of AI-generated responses. This process includes initial prompt creation, iterative refinement, and evaluation, fostering practical application, critical evaluation, and continuous learning in AI-assisted programming.</br>\n",
    "<b>Learning Objective(s)</b>: AI fundamentals, practical application, critical evaluation, and adaptability and continuous learning.<br>\n",
    "<b>Teaching/learning techniques</b>: Direct Instruction, Interactive Demonstration, Collaborative Learning, Hands-on Practice, Iterative Learning, Evaluation and Feedback, and Ensuring Understanding.<br>\n",
    "<br>\n",
    "<b>Approach</b>\n",
    "<ul>\n",
    "    <li>Provide participants with the problem to solve and ask them to craft an initial prompt (without considering the CLEAR framework). Have participants paste their prompts in chat</li>\n",
    "    <li>Explain the CLEAR Framework for prompt engineering and initiate a discussion about the strengths and weaknesses of the initial prompts.</li>\n",
    "    <ul>\n",
    "        <li>Example prompt: \"Explain how to find the shortest path in a maze.\"</li>\n",
    "        <li>Weaknesses: Lacks context, is too brief, not explicit enough, not tailored for AI, and might not be relevant to the specific need.</li>\n",
    "    </ul>\n",
    "    <li>Ask participants to use what they have learned to craft a prompt, focusing only on the \"Concise\" component of CLEAR. Ask participants to paste their prompts in chat. Review the prompts as a group, discussing variations in approaches. Repeat the process for both \"Logical\" and \"Explicit\", asking participants to modify their prompts to address these components of the framework. Examples:</li>\n",
    "    <ul>\n",
    "        <li><b>Concise</b>: \"Explain the logic behind creating an algorithm to find the shortest path in a 2D maze.\"</li>\n",
    "        <li><b>Logical</b>: \"Explain the step-by-step logic behind creating an algorithm to find the shortest path in a 2D maze, including the order of operations and decision-making processes.\"</li>\n",
    "        <li><b>Explicit</b>: Explain the step-by-step logic behind creating an algorithm to find the shortest path in a 2D maze. Describe each step, including how to handle different types of maze structures, potential dead-ends, and how to ensure the path is the shortest.</li>\n",
    "    </ul>\n",
    "    <li><b>Adaptive</b>: Ask participants to run their finalized prompts in their chatbots. Initiate a discussion about participants' results. Next, ask particiapnts to modify their prompts for a 3D maze. Example prompt: \"Explain the step-by-step logic behind creating an algorithm to find the shortest path in a 2D maze. Describe each step, including how to handle different types of maze structures, potential dead-ends, and how to ensure the path is the shortest. Additionally, suggest modifications to the algorithm to adapt it for 3D mazes or mazes with weighted paths where some paths take longer to traverse than others.\n",
    "    </li>\n",
    "    <li><b>Reflective</b>: Ask participants to use their finalized prompts in their chatbots. Initiate a discussion reflecting on the potential limitations or challenges of the chatbot output.</li>\n",
    "    </ul>\n",
    "\n",
    "<br> \n",
    "\n",
    "Description of CLEAR components:\n",
    "\n",
    "<ul>\n",
    "    <li><b>Concise</b>: Prompts should be clear and direct, using specific language without unnecessary words. This helps in minimizing ambiguity and guiding the AI to produce more accurate responses.</li>\n",
    "    <li><b>Logical</b>Prompts should follow a clear, step-by-step order, making it easier for the AI to understand and follow instructions. This involves breaking down tasks into smaller, manageable parts.</li>\n",
    "    <li><b>Explicit</b>: Prompts should be explicit about the desired output. This includes detailing the format, content, and any specific requirements of the desired response, ensuring the AI understands what is needed.</li>\n",
    "    <li><b>Adaptive</b>: After receiving the initial response from the AI, adapt and refine the prompts to improve results. This iterative process helps in honing the AI's responses by providing feedback and making necessary adjustments.</li>\n",
    "    <li><b>Reflective</b>: Reflect on the AI's responses to assess their quality and relevance. Use this evaluation to refine future prompts, ensuring continuous improvement in the interaction with the AI.</li>\n",
    "</ul>\n",
    "\n",
    "Resources:\n",
    "<ul>\n",
    "    <li>Lo, L. S. (2023). The CLEAR path: A framework for enhancing information literacy through prompt engineering. The Journal of Academic Librarianship, 49(4), 102720.</li>\n",
    "    <li>Reynolds, L., & McDonell, K. (2021, May). Prompt programming for large language models: Beyond the few-shot paradigm. In Extended abstracts of the 2021 CHI conference on human factors in computing systems (pp. 1-7).</li>\n",
    "</ul> "
   ]
  },
  {
   "cell_type": "markdown",
   "id": "4cbf5f9a-91bc-4876-94f0-b163d6753715",
   "metadata": {},
   "source": [
    "**Problem**: You are a software engineer tasked with creating an algorithm to find the shortest path in a 2D maze. You recognize that you first need to understand the logic of the algorithm that you create. Using the CLEAR framework, write a prompt to ask your chatbot to explain the logic for your algorithm. \n",
    "\n",
    "The [CLEAR framework](https://www.sciencedirect.com/science/article/pii/S0099133323000599?casa_token=MGpitYIJp94AAAAA:cEVsfn9135XMTw2dm0mWTc6rSMlKSc1mKe_wj_VMxOtLciIAHBu2zlZp6LQDEcux1W9QBiaJeQ) for prompt engineering is a structured approach designed to enhance the effectiveness of prompts used with AI models. CLEAR stands for Concise, Logical, Explicit, Adaptive, and Reflective. Using the CLEAR framework ensures that prompts are clear, concise, and tailored to achieve desired outcomes when interacting with generative AI chatbots."
   ]
  },
  {
   "cell_type": "code",
   "execution_count": null,
   "id": "cb9f7ee3-d80f-430f-8638-08d86ceedb83",
   "metadata": {},
   "outputs": [],
   "source": []
  },
  {
   "cell_type": "markdown",
   "id": "08496a01-56d5-46b9-a7f0-11107ba8f8f6",
   "metadata": {},
   "source": [
    "---"
   ]
  },
  {
   "cell_type": "markdown",
   "id": "794a8d9a-707d-45b7-ab8d-f10bbab74fc7",
   "metadata": {},
   "source": [
    "### Warm-up: Let’s use a chatbot to help us understand Python syntax"
   ]
  },
  {
   "cell_type": "markdown",
   "id": "fc2d7cc7-9154-43ea-a640-f545fe0ec1e9",
   "metadata": {},
   "source": [
    "<font color='blue'>\n",
    "<b>INSTRUCTOR NOTES</b> <br>\n",
    "\n",
    "<font color = 'blue'>\n",
    "<b>Summary</b>: Participants will use a standard prompt to ask their AI chatbots to create a markdown table outlining key Python syntax elements. This exercise aims to understand Python syntax and evaluate AI-generated content. Participants will compare the chatbot outputs, noting variations and discussing potential reasons for these differences, such as chatbot versions, randomness in responses, and user-specific interactions. This activity emphasizes AI fundamentals, practical application, critical evaluation, and adaptability in learning, with a focus on understanding the variability in AI-generated outputs through direct instruction, interactive demonstration, collaborative learning, hands-on practice, and group discussions.</br>\n",
    "<b>Learning Objective(s)</b>: AI fundamentals, practical application, critical evaluation, and adaptability and continuous learning.<br>\n",
    "<b>Teaching/learning techniques</b>: Direct Instruction, Interactive Demonstration, Collaborative Learning, Hands-on Practice, Evaluation and Feedback, and Ensuring Understanding.<br><br>\n",
    "\n",
    "\n",
    "Potential reasons for differing responses:\n",
    "<ul>\n",
    "    <li>Chatbots and versions: Participants may be using different chatbots (or different versions of the same chatbot), which induces training data variations and model variability. These models are trained on large datasets with diverse examples. Training can lead to variability in responses because the model might draw on different parts of its training data to generate an answer.</li>\n",
    "    <li>Randomness in responses: AI chatbots generally include a randomness element in generating responses, so even the same prompt can produce different outputs each time it’s run.</li>\n",
    "    <li>User-specific interactions: Previous user interactions can influence responses the same user receives. If the model has been used by the same user before, it may remember certain preferences or styles of communication. This personalization can result in different answers for different users even with the same prompt.\n",
    "</li>\n",
    "</ul>"
   ]
  },
  {
   "cell_type": "markdown",
   "id": "771d9db3-ff09-4bd2-96e6-a6a94be69938",
   "metadata": {},
   "source": [
    "**Problem**: Ask your favorite AI chatbot to give you a table showing common syntax elements\n",
    "\n",
    "Prompt: Create a markdown table outlining the key syntax elements in Python. Include variables, conditionals, loops, functions, classes, imports, exception handling, Boolean operators, math operators, comparison operators, and comprehensions."
   ]
  },
  {
   "cell_type": "markdown",
   "id": "bc9828fd-5c89-4238-a067-f0028f94058c",
   "metadata": {},
   "source": [
    "Paste output in the cell below"
   ]
  },
  {
   "cell_type": "markdown",
   "id": "8270a006-e2ea-44e3-a8d0-035b476036b6",
   "metadata": {},
   "source": []
  },
  {
   "cell_type": "code",
   "execution_count": null,
   "id": "de5e1ae3-6d5a-4536-946a-e8741af7da27",
   "metadata": {},
   "outputs": [],
   "source": []
  },
  {
   "cell_type": "markdown",
   "id": "b8ac8a7b-1fa3-4afe-9295-2c2f8f558ac2",
   "metadata": {},
   "source": [
    "**EXAMPLE SOLUTION**"
   ]
  },
  {
   "cell_type": "markdown",
   "id": "342d54b6-bce5-40f1-bfe4-2dc4bee4b1e6",
   "metadata": {},
   "source": [
    "ChatGPT Output: \n",
    "\n",
    "| Syntax          | Example                                 |\n",
    "|-----------------|-----------------------------------------|\n",
    "| Variables       | `x = 5`                                 |\n",
    "| Conditionals    | `if x > 0:`                             |\n",
    "| Loops           | `for item in list:`                     |\n",
    "| Functions       | `def my_function(param):`               |\n",
    "| Classes         | `class MyClass:`                        |\n",
    "| Imports         | `import module`                         |\n",
    "| Exception Handling | `try:`<br>`except Exception as e:`   |\n",
    "| Boolean Operators | `and`, `or`, `not`                     |\n",
    "| Math Operators  | `+`, `-`, `*`, `/`, `**`, `%`, `//`    |\n",
    "| Comparison Operators | `==`, `!=`, `>`, `<`, `>=`, `<=`    |\n",
    "| Comprehensions  | `[x for x in iterable]`                 |\n"
   ]
  },
  {
   "cell_type": "markdown",
   "id": "fc5a26b9-a6a4-4e8c-ab47-1fc56534d9f5",
   "metadata": {},
   "source": [
    "---"
   ]
  },
  {
   "cell_type": "markdown",
   "id": "c9a9ce65-ab23-4ffa-a525-b55b0f86c3f8",
   "metadata": {},
   "source": [
    "### Exercise: Ask an AI chatbot to generate Python code for creating a plot that shows the relationship between two variables"
   ]
  },
  {
   "cell_type": "markdown",
   "id": "9f0d94b8-ab62-43ed-b1e8-f542f87ba4c9",
   "metadata": {},
   "source": [
    "<font color='blue'>\n",
    "<b>INSTRUCTOR NOTES</b> <br><br>\n",
    "\n",
    "<b>Summary</b>: Participants will learn to formulate effective prompts using the CLEAR framework to ask an AI chatbot to generate Python code for plotting data. This exercise emphasizes the importance of prompt engineering in optimizing AI responses. Participants will brainstorm necessary prompt details, generate code using their chatbot, and compare results with the instructor's output. The exercise involves iterative learning, with participants modifying plot details and ensuring they understand AI-generated code by asking for explanations and comments. This activity covers AI fundamentals, practical application, critical evaluation, and adaptability, employing techniques such as direct instruction, brainstorming, interactive demonstration, collaborative learning, and hands-on practice. <br>\n",
    "<b>Learning Objective(s)</b>: AI fundamentals, practical application, critical evaluation, and adaptability <br>\n",
    "<b>Teaching/learning techniques</b>: direct instruction, brainstorming, interactive demonstration, collaborative learning, hands-on practice, iterative learning, evaluation and feedback, ensuring understanding <br>\n",
    "\n",
    "<b>Approach:</b>\n",
    "\n",
    "* Ask participants to brainstorm ideas for the information that should be included in the prompt. Remind participants to consider the CLEAR framework (participants can type answers in chat or respond verbally).\n",
    "* Paste final prompt into chat and ask participants ask their desired chatbot to generate the code. Participants should paste the chatbot output into their workbook using the code cell that corresponds to this exercise. Instructor should demonstrate this process as participants are working through the exercise.\n",
    "\n",
    "Evaluation:\n",
    "* Ask participants if their plots look the same as the instructor screen (thumbs up in chat for yes, thumbs down for no)\n",
    "* Ask participants if their code looks the same (thumbs up in chat for yes, thumbs down for no)\n",
    "* If anyone has a plot or code that looks different, ask if a volunteer will share their screen. Paste instructor code into chat and lead a discussion on the differences in the generated code. You may also demonstrate asking a chatbot to explain the differences.\n",
    "\n",
    "Engaging in an iterative process:\n",
    "* Ask participants to change the color of the markers in the plot.\n",
    "    * Options: Ask the chatbot to modify the code to change the color OR try to figure out where the color is specified in the code to change it.\n",
    "    * Encourage participants to do the latter, asking the chatbot if they cannot figure it out.\n",
    " \n",
    "Ensure learning:\n",
    "* Explain the importance of understanding AI-generated code for accelerating coding mastery\n",
    "  * Approach: Engage with the chatbot—ask for explanations, modify and experiment with the code, and use step-by-step approaches (reviewing the code to ensure understanding at each step).\n",
    "* Ask participants to ask their chatbot to explain each line of code\n",
    "* Ask participants to have their chatbot comment their code for a specified audience\n",
    "  * Demonstrate what happens when you ask ChatGPT to include syntax explanations in the comments\n",
    " \n",
    "<b>Example prompt for use in this exercise</b>: Generate Python code to create a scatter plot using Matplotlib that shows the relationship between two variables, \"x\" and \"y\", where x = [1, 2, 3, 4, 5] and y = [2, 3, 5, 7, 11]. Label the x-axis as 'x Values' and the y-axis as 'y Values'. Add a title to the plot as 'Relationship between X and Y'. Make the plot points red squares and use a dashed line to connect the points. Include a legend and ensure the plot has a grid for better readability.\n",
    "* Prompt is clear, concise, and details specific requirements\n",
    "* Desired programming language and plotting library is specified (considers bias--the chatbot may favor certain libraries based on training data; the library it uses without instruction may not be the best library for your task)\n",
    "* Type of plot is specified\n",
    "* Labeling and styling information is provided\n",
    "</font>"
   ]
  },
  {
   "cell_type": "markdown",
   "id": "e606676f-c227-4b86-8231-ff9c0d38acec",
   "metadata": {},
   "source": [
    "**Problem**: Prompt engineering is the process of designing and refining input queries to optimize the output responses from generative AI models. Use what you learned about the CLEAR framework to engineer a prompt requesting your chatbot to provide code for plotting the following data:\n",
    "\n",
    "x = [1, 2, 3, 4, 5], y = [2, 4, 6, 8, 10] \n",
    "\n",
    "What information should we include in our **prompt**? "
   ]
  },
  {
   "cell_type": "markdown",
   "id": "fd22ded5-334e-434b-afd4-6a98dc2a00a1",
   "metadata": {},
   "source": [
    "Paste chatbot output in the cell below and run"
   ]
  },
  {
   "cell_type": "code",
   "execution_count": null,
   "id": "12ebec3c-577b-4d76-a5b8-24be2bfa8961",
   "metadata": {},
   "outputs": [],
   "source": []
  },
  {
   "cell_type": "markdown",
   "id": "7bfbbb8d-ca15-4725-951c-43a0749be710",
   "metadata": {},
   "source": [
    "**EXAMPLE SOLUTION**"
   ]
  },
  {
   "cell_type": "code",
   "execution_count": 4,
   "id": "af0f9753-fc9c-4dab-9db8-17c6acdb2858",
   "metadata": {},
   "outputs": [
    {
     "data": {
      "image/png": "[encoded data removed]",
      "text/plain": [
       "<Figure size 640x480 with 1 Axes>"
      ]
     },
     "metadata": {},
     "output_type": "display_data"
    }
   ],
   "source": [
    "# PASTE CHATBOT OUTPUT IN THIS CELL AND RUN\n",
    "\n",
    "import matplotlib.pyplot as plt\n",
    "\n",
    "# Data for the plot\n",
    "x = [1, 2, 3, 4, 5]\n",
    "y = [2, 3, 5, 7, 11]\n",
    "\n",
    "# Create the scatter plot\n",
    "plt.scatter(x, y, color='red', marker='s', label='Data points')  # Scatter plot with red squares\n",
    "\n",
    "# Connect the points with a dashed line\n",
    "plt.plot(x, y, linestyle='--', color='red', label='Dashed line')\n",
    "\n",
    "# Adding labels and title\n",
    "plt.xlabel('x Values')  # Label for the x-axis\n",
    "plt.ylabel('y Values')  # Label for the y-axis\n",
    "plt.title('Relationship between X and Y')  # Title for the plot\n",
    "\n",
    "# Include a legend\n",
    "plt.legend()  # Show legend\n",
    "\n",
    "# Display the plot\n",
    "plt.grid(True)  # Show grid for better readability\n",
    "plt.show()  # Display the plot"
   ]
  },
  {
   "cell_type": "markdown",
   "id": "28521810-4d1e-4f3a-a1ab-4f843ad76f6d",
   "metadata": {},
   "source": [
    "***"
   ]
  },
  {
   "cell_type": "markdown",
   "id": "565f6c8d-3f34-4ac6-a2ec-d979b6a28cc5",
   "metadata": {},
   "source": [
    "## <a id = \"breakdown\"></a>Breaking Down Complex Problems"
   ]
  },
  {
   "cell_type": "markdown",
   "id": "e2eb10e0-ae18-4260-a121-371cdfca8b0e",
   "metadata": {},
   "source": [
    "### Exercise: Build a number guessing game where the computer randomly selects a number, and the user tries to guess it."
   ]
  },
  {
   "cell_type": "markdown",
   "id": "e1f1ce63-cd7e-461a-9e9b-fa9ceaf70cfc",
   "metadata": {},
   "source": [
    "<font color='blue'>\n",
    "<b>INSTRUCTOR NOTES</b> <br><br>\n",
    "   \n",
    "<b>Summary</b>: Participants will build a number guessing game where the computer randomly selects a number, and the user tries to guess it. The game continues until the user guesses the correct number. This exercise emphasizes the importance of breaking down problems into smaller, manageable parts to enhance clarity, focus, and debugging efficiency.<br>\n",
    "<b>Learning Objective(s)</b>: AI Fundamentals, Practical Application, Critical Evaluation, Adaptability and Continuous Learning<br>\n",
    "<b>Teaching/Learning Techniques</b>: Direct Instruction, Interactive Demonstration, Hands-on Practice, Collaborative Learning, Problem-Solving, and Evaluation and Feedback<br>\n",
    "\n",
    "\n",
    "<b>Approach</b>:\n",
    "\n",
    "* Explain the importance of breaking down problems in programming:\n",
    "  * Improves clarity and focus of the prompts, which increases the quality of chatbot responses.\n",
    "  * Enhances querying efficiency: Multiple specific queries can be faster than a single broad query.\n",
    "  * Facilitates debugging: If an error occurs, it's easier to pinpoint and fix when the problem is divided into smaller parts. Each part can be tested and debugged independently.\n",
    "  * Fosters a systematic approach to problem-solving, which is crucial in programming.\n",
    "  * Reduces coding anxiety by allowing participants to focus on understanding and solving the logical components of the problem before worrying about the exact syntax.\n",
    "<br>\n",
    "* Steps to Build the Number Guessing Game (this is a great time to introduce the concept of psuedocode):\n",
    "  * Generate a random number between 1 and 100.\n",
    "  * Get user input in Python.\n",
    "  * Compare the randomly generated number and the user input number.\n",
    "  * Create a loop that repeats itself until the correct answer is guessed.\n",
    "<br>\n",
    "* Breaking Down the Problem:\n",
    "  * Turn all of the steps into individual prompts and run each separately to make sure they work. Then, put it all together.\n",
    "  * Demonstrate only Task 1: Demonstrate how to generate a random number between 1 and 100. Example prompt for AI chatbot: \"Generate Python code to create a random number between 1 and 100.\"\n",
    "<br>    \n",
    "* Breakout Room Activity:\n",
    "  * Divide participants into breakout rooms to work on the rest of the problem in groups.\n",
    "  * Allocate fifteen minutes for the activity.\n",
    "  * Ask each group to elect a spokesperson to report back to the main group on their progress and learnings.\n",
    "<br>\n",
    "* Group Discussion:\n",
    "  * Reconvene and have each spokesperson report on their group’s progress and insights.\n",
    "  * Go over the problem together as a whole group.\n",
    "<br>\n",
    "* Evaluation and Feedback:\n",
    "  * Ask participants to share their final code and discuss any challenges they encountered.\n",
    "  * Provide feedback on their approach, focusing on the effectiveness of problem breakdown and the quality of chatbot assistance.\n",
    "  * Lead a discussion on the benefits of breaking down problems and how it helps in systematic problem-solving.\n",
    "  * Encourage participants to reflect on how they can apply this approach to other programming challenges.\n",
    "<br>\n",
    "Advisory on Alternative Approaches: \n",
    "* If participants struggle with breaking down the problem, suggest using AI chatbots differently:\n",
    "    * Explain the problem and ask the chatbot to break it down (even asking for pseudocode).\n",
    "    * Tell the chatbot what they want to accomplish and ask it to ask questions about their needs until it has enough information to complete the task.\n",
    "\n",
    "</font>"
   ]
  },
  {
   "cell_type": "markdown",
   "id": "a3984d54-899b-41dc-bb8b-eab3013b725f",
   "metadata": {},
   "source": [
    "**Problem**: \n",
    "Let's breakdown the problem into tasks\n",
    "* Task 1: Generate a random number\n",
    "* Task 2:\n",
    "* Task 3..."
   ]
  },
  {
   "cell_type": "code",
   "execution_count": 3,
   "id": "5fd99785-16b0-42de-9704-dad864117be2",
   "metadata": {},
   "outputs": [
    {
     "name": "stdout",
     "output_type": "stream",
     "text": [
      "Random number generated (for testing): 45\n"
     ]
    }
   ],
   "source": [
    "# Task 1, prompt: How do I generate a random number between 1 and 100 in Python?\n",
    "\n",
    "import random\n",
    "\n",
    "def generate_random_number():\n",
    "    return random.randint(1, 100)\n",
    "\n",
    "# Test the function\n",
    "random_number = generate_random_number()\n",
    "print(f\"Random number generated (for testing): {random_number}\")"
   ]
  },
  {
   "cell_type": "code",
   "execution_count": null,
   "id": "a24b8788-773a-4769-a688-343981207d10",
   "metadata": {},
   "outputs": [],
   "source": []
  },
  {
   "cell_type": "code",
   "execution_count": null,
   "id": "0c6017b3-b634-4490-a555-020ae04b6354",
   "metadata": {},
   "outputs": [],
   "source": []
  },
  {
   "cell_type": "markdown",
   "id": "27e68b76-1d31-4c6b-b519-b668133c712c",
   "metadata": {},
   "source": [
    "**EXAMPLE SOLUTION**"
   ]
  },
  {
   "cell_type": "code",
   "execution_count": 7,
   "id": "bd3931bb-62a6-454d-a6aa-cc1033ed57e6",
   "metadata": {},
   "outputs": [
    {
     "name": "stdin",
     "output_type": "stream",
     "text": [
      "Enter your guess (1-100):  5\n"
     ]
    },
    {
     "name": "stdout",
     "output_type": "stream",
     "text": [
      "User guessed: 5\n"
     ]
    }
   ],
   "source": [
    "# Task 2, prompt: How do I get user input in Python?\n",
    "\n",
    "def get_user_guess():\n",
    "    return int(input(\"Enter your guess (1-100): \"))\n",
    "\n",
    "# Test the function\n",
    "user_guess = get_user_guess()\n",
    "print(f\"User guessed: {user_guess}\")"
   ]
  },
  {
   "cell_type": "code",
   "execution_count": 8,
   "id": "52e7eca9-a727-4811-b949-c68602a71eb3",
   "metadata": {},
   "outputs": [
    {
     "name": "stdout",
     "output_type": "stream",
     "text": [
      "Too low!\n"
     ]
    }
   ],
   "source": [
    "# Task 3, prompt: How do I compare two numbers and provide feedback in Python?\n",
    "\n",
    "def provide_feedback(random_number, guess):\n",
    "    if guess < random_number:\n",
    "        print(\"Too low!\")\n",
    "    elif guess > random_number:\n",
    "        print(\"Too high!\")\n",
    "    else:\n",
    "        print(\"Congratulations! You guessed it right.\")\n",
    "\n",
    "# Test the function\n",
    "provide_feedback(random_number, user_guess)"
   ]
  },
  {
   "cell_type": "code",
   "execution_count": 9,
   "id": "9f101303-6415-490c-ad0c-ba7aa57efdff",
   "metadata": {},
   "outputs": [
    {
     "name": "stdin",
     "output_type": "stream",
     "text": [
      "Enter your guess (1-100):  5\n"
     ]
    },
    {
     "name": "stdout",
     "output_type": "stream",
     "text": [
      "Too low!\n"
     ]
    },
    {
     "name": "stdin",
     "output_type": "stream",
     "text": [
      "Enter your guess (1-100):  90\n"
     ]
    },
    {
     "name": "stdout",
     "output_type": "stream",
     "text": [
      "Too high!\n"
     ]
    },
    {
     "name": "stdin",
     "output_type": "stream",
     "text": [
      "Enter your guess (1-100):  80\n"
     ]
    },
    {
     "name": "stdout",
     "output_type": "stream",
     "text": [
      "Too high!\n"
     ]
    },
    {
     "name": "stdin",
     "output_type": "stream",
     "text": [
      "Enter your guess (1-100):  60\n"
     ]
    },
    {
     "name": "stdout",
     "output_type": "stream",
     "text": [
      "Too high!\n"
     ]
    },
    {
     "name": "stdin",
     "output_type": "stream",
     "text": [
      "Enter your guess (1-100):  20\n"
     ]
    },
    {
     "name": "stdout",
     "output_type": "stream",
     "text": [
      "Too high!\n"
     ]
    },
    {
     "name": "stdin",
     "output_type": "stream",
     "text": [
      "Enter your guess (1-100):  10\n"
     ]
    },
    {
     "name": "stdout",
     "output_type": "stream",
     "text": [
      "Too high!\n"
     ]
    },
    {
     "name": "stdin",
     "output_type": "stream",
     "text": [
      "Enter your guess (1-100):  8\n"
     ]
    },
    {
     "name": "stdout",
     "output_type": "stream",
     "text": [
      "Too high!\n"
     ]
    },
    {
     "name": "stdin",
     "output_type": "stream",
     "text": [
      "Enter your guess (1-100):  7\n"
     ]
    },
    {
     "name": "stdout",
     "output_type": "stream",
     "text": [
      "Congratulations! You guessed it right.\n"
     ]
    }
   ],
   "source": [
    "# Task 4, prompt: How do I create a loop that repeats until a condition is met in Python?\n",
    "\n",
    "def play_game():\n",
    "    random_number = generate_random_number()\n",
    "    guess = None\n",
    "\n",
    "    while guess != random_number:\n",
    "        guess = get_user_guess()\n",
    "        provide_feedback(random_number, guess)\n",
    "\n",
    "# Test the function\n",
    "play_game()"
   ]
  },
  {
   "cell_type": "code",
   "execution_count": 1,
   "id": "77a4d5fc-0656-4d31-9d8e-611305a4145e",
   "metadata": {},
   "outputs": [
    {
     "name": "stdin",
     "output_type": "stream",
     "text": [
      "Enter your guess (1-100):  50\n"
     ]
    },
    {
     "name": "stdout",
     "output_type": "stream",
     "text": [
      "Too high!\n"
     ]
    },
    {
     "name": "stdin",
     "output_type": "stream",
     "text": [
      "Enter your guess (1-100):  25\n"
     ]
    },
    {
     "name": "stdout",
     "output_type": "stream",
     "text": [
      "Too high!\n"
     ]
    },
    {
     "name": "stdin",
     "output_type": "stream",
     "text": [
      "Enter your guess (1-100):  5\n"
     ]
    },
    {
     "name": "stdout",
     "output_type": "stream",
     "text": [
      "Too high!\n"
     ]
    },
    {
     "name": "stdin",
     "output_type": "stream",
     "text": [
      "Enter your guess (1-100):  1\n"
     ]
    },
    {
     "name": "stdout",
     "output_type": "stream",
     "text": [
      "Too low!\n"
     ]
    },
    {
     "name": "stdin",
     "output_type": "stream",
     "text": [
      "Enter your guess (1-100):  2\n"
     ]
    },
    {
     "name": "stdout",
     "output_type": "stream",
     "text": [
      "Too low!\n"
     ]
    },
    {
     "name": "stdin",
     "output_type": "stream",
     "text": [
      "Enter your guess (1-100):  3\n"
     ]
    },
    {
     "name": "stdout",
     "output_type": "stream",
     "text": [
      "Too low!\n"
     ]
    },
    {
     "name": "stdin",
     "output_type": "stream",
     "text": [
      "Enter your guess (1-100):  4\n"
     ]
    },
    {
     "name": "stdout",
     "output_type": "stream",
     "text": [
      "Congratulations! You guessed it right.\n"
     ]
    }
   ],
   "source": [
    "# Combine all previously implemented functions into one complete game:\n",
    "\n",
    "import random\n",
    "\n",
    "def generate_random_number():\n",
    "    return random.randint(1, 100)\n",
    "\n",
    "def get_user_guess():\n",
    "    return int(input(\"Enter your guess (1-100): \"))\n",
    "\n",
    "def provide_feedback(random_number, guess):\n",
    "    if guess < random_number:\n",
    "        print(\"Too low!\")\n",
    "    elif guess > random_number:\n",
    "        print(\"Too high!\")\n",
    "    else:\n",
    "        print(\"Congratulations! You guessed it right.\")\n",
    "\n",
    "def play_game():\n",
    "    random_number = generate_random_number()\n",
    "    guess = None\n",
    "\n",
    "    while guess != random_number:\n",
    "        guess = get_user_guess()\n",
    "        provide_feedback(random_number, guess)\n",
    "\n",
    "# Start the game\n",
    "play_game()"
   ]
  },
  {
   "cell_type": "markdown",
   "id": "a65ed7cc-ac33-4340-9b6f-76ca6018b822",
   "metadata": {},
   "source": [
    "***"
   ]
  },
  {
   "cell_type": "markdown",
   "id": "ff058b12-2ce4-4bb8-bf02-7ff2167c666b",
   "metadata": {},
   "source": [
    "## <a id = \"optimize\"></a>Code Optimization"
   ]
  },
  {
   "cell_type": "markdown",
   "id": "49549202-3642-4b08-9ebe-cc3aa0038995",
   "metadata": {},
   "source": [
    "<font color='blue'>\n",
    "<b>INSTRUCTOR NOTES</b> <br><br>\n",
    "   \n",
    "Learning Objective(s): practical application, critical evaluation, and ethical and practical evaluation </br>\n",
    "Teaching/learning techniques used: Interactive demonstration, hands-on practice, collaborative learning, performance measurement, iterative learning <br>\n",
    "Summary: This exercise teaches students to use an AI chatbot to optimize Python code for efficiency and verify the improvements <br>\n",
    "\n",
    "Approach:\n",
    "\n",
    "Explain the importance of writing efficient code:\n",
    "<ul>\n",
    "    <li>Efficient code runs faster, which is crucial for applications where speed is a critical factor</li>\n",
    "    <li>Efficient code makes better use of system resources such as CPU, memory, and bandwidth</li>\n",
    "    <li>Optimized code can handle larger datasets and more users concurrently without requiring additional hardware</li>\n",
    "    <li>Benefits to learning: Understand how different algorithms can solve the same problem with varying degrees of efficiency, gain skills in identifying bottlenecks and inefficiencies in code, and devise strategies to overcome them, and understand how to measure the performance of code using profiling tools and techniques.</li>\n",
    "\n",
    "</ul> \n",
    "\n",
    "Working the problem:\n",
    "<ul>\n",
    "    <li>Demonstrate running the code cell with the provided function to verify functionality; ask participants to do the same.</li>\n",
    "    <li>Ask participants to formulate a prompt to ask their chatbot to optimize the function. Participants should paste the output in a code cell within their workbook.</li>\n",
    "    <li>Example prompt: How can I optimize the following Python function for finding the sum of all prime numbers below a given number? </li>\n",
    "    <li>Verify the optimization: Ask if any of the participants have ideas about how we could check that the code is actually optimized and demonstrate how to measure the performance of the original and optimized function.</li>\n",
    "</ul>\n",
    "\n",
    "Ethical and practical evaluation: Initiate a discussion on the ethical implications of using AI for code optimization.\n",
    "<ul>\n",
    "    <li>Bias and Limitations: Discuss how AI-generated code might reflect biases present in the training data and the importance of understanding these biases.</li>\n",
    "    <li>Transparency and Accountability: Emphasize the need for transparency in AI processes and the importance of human oversight to ensure accountability.</li>\n",
    "    <li>Dependence on AI: Explore the risks of becoming overly dependent on AI tools and the necessity of maintaining a strong foundational understanding of coding principles.</li>\n",
    "    <li>Quality and Safety: Address the importance of verifying AI-generated code to ensure it meets quality and safety standards, especially in critical applications.</li>\n",
    "</ul>\n",
    "\n",
    "<br>\n",
    "\n",
    "<b>Potential biases that may come up in this example</b>:\n",
    "* The AI might favor certain optimization algorithms or techniques over others based on its training data. For example, it might suggest a specific prime-checking algorithm that was more frequently encountered during its training, even if there are other, potentially better algorithms available.\n",
    "* The AI might suggest using specific libraries or frameworks that it has been exposed to more frequently during training. This could lead to recommendations that are not the most efficient or appropriate for the task at hand.\n",
    "* The AI might make implicit assumptions about the hardware or environment in which the code will run. For example, it might suggest optimizations that are more suitable for high-performance computing environments, which might not be relevant or necessary for the participants' actual use cases.\n",
    "* The AI might generate code that is overly general or overly specific, based on the examples it has seen during training. This could result in code that either lacks necessary optimizations for the specific problem or includes unnecessary complexity.\n",
    "* The AI's suggestions might lack consideration for human readability and maintainability. It might generate code that is optimized for performance but is difficult for humans to understand, debug, and maintain, which is a critical aspect of practical software development.\n",
    "\n",
    "</font>"
   ]
  },
  {
   "cell_type": "markdown",
   "id": "e1ff9470-5adc-4fd1-aaa2-de189408dc7b",
   "metadata": {},
   "source": [
    "**Problem**: Below is a function that finds the sum of all prime numbers below a given number. Run the code to verify that it works; then, ask your favorite chatbot to opimtize the code."
   ]
  },
  {
   "cell_type": "code",
   "execution_count": 9,
   "id": "f2930472-d632-415a-8ff2-acefd6ec966f",
   "metadata": {
    "tags": []
   },
   "outputs": [],
   "source": [
    "def is_prime(number):\n",
    "    \"\"\"\n",
    "    Checks if a number is a prime number.\n",
    "\n",
    "    Parameters:\n",
    "    number (int): The number to check.\n",
    "\n",
    "    Returns:\n",
    "    bool: True if the number is prime, False otherwise.\n",
    "    \"\"\"\n",
    "    if number <= 1:\n",
    "        return False\n",
    "    for i in range(2, int(number ** 0.5) + 1):\n",
    "        if number % i == 0:\n",
    "            return False\n",
    "    return True\n",
    "\n",
    "def sum_of_primes(limit):\n",
    "    \"\"\"\n",
    "    Calculates the sum of all prime numbers below a given limit.\n",
    "\n",
    "    Parameters:\n",
    "    limit (int): The upper limit (exclusive) for summing prime numbers.\n",
    "\n",
    "    Returns:\n",
    "    int: The sum of all prime numbers below the limit.\n",
    "    \"\"\"\n",
    "    total_sum = 0\n",
    "    for num in range(2, limit):\n",
    "        if is_prime(num):\n",
    "            total_sum += num\n",
    "    return total_sum"
   ]
  },
  {
   "cell_type": "code",
   "execution_count": 8,
   "id": "b9f47754-eb59-432f-994f-ef2767a81cf8",
   "metadata": {},
   "outputs": [
    {
     "name": "stdout",
     "output_type": "stream",
     "text": [
      "The sum of all primes below 10000 is: 5736396\n"
     ]
    }
   ],
   "source": [
    "# Test the function\n",
    "n = 10000\n",
    "result = sum_of_primes(n)\n",
    "print(f\"The sum of all primes below {n} is: {result}\")"
   ]
  },
  {
   "cell_type": "markdown",
   "id": "061f1f85-9927-4a0a-8b21-1aade263b95d",
   "metadata": {},
   "source": [
    "Paste the optimized function in the code cell below:"
   ]
  },
  {
   "cell_type": "code",
   "execution_count": null,
   "id": "0602c6ee-96f0-4b69-8629-476c24a04710",
   "metadata": {},
   "outputs": [],
   "source": []
  },
  {
   "cell_type": "markdown",
   "id": "d8dc22ea-5578-4030-a2f4-9894b8dfde96",
   "metadata": {},
   "source": [
    "### Is our optimized function better?"
   ]
  },
  {
   "cell_type": "code",
   "execution_count": null,
   "id": "22da2cae-a5b7-4e9e-b147-806fb813a8a7",
   "metadata": {},
   "outputs": [],
   "source": []
  },
  {
   "cell_type": "code",
   "execution_count": null,
   "id": "22edcf26-dd26-418f-b9f8-4d25e38acda2",
   "metadata": {},
   "outputs": [],
   "source": []
  },
  {
   "cell_type": "markdown",
   "id": "8f28c937-b8cd-44c9-bcda-f8e25d6f7cf1",
   "metadata": {},
   "source": [
    "**EXAMPLE SOLUTION**"
   ]
  },
  {
   "cell_type": "code",
   "execution_count": 14,
   "id": "edf03327-8e02-4891-84c3-1f3c754709e6",
   "metadata": {
    "tags": []
   },
   "outputs": [
    {
     "name": "stdout",
     "output_type": "stream",
     "text": [
      "The sum of all primes below 10000 with optimized function is: 5736396\n"
     ]
    }
   ],
   "source": [
    "# Paste optimized function here and run cell\n",
    "\n",
    "def optimized_sum_of_primes(n):\n",
    "    sieve = [True] * n\n",
    "    sieve[0] = sieve[1] = False\n",
    "    for start in range(2, int(n ** 0.5) + 1):\n",
    "        if sieve[start]:\n",
    "            for multiple in range(start*start, n, start):\n",
    "                sieve[multiple] = False\n",
    "    return sum(num for num, is_prime in enumerate(sieve) if is_prime)\n",
    "\n",
    "# Test the optimized function\n",
    "result_optimized = optimized_sum_of_primes(n)\n",
    "print(f\"The sum of all primes below {n} with optimized function is: {result_optimized}\")"
   ]
  },
  {
   "cell_type": "code",
   "execution_count": null,
   "id": "fbbf359d-6223-4745-93c5-fcb39d39e68b",
   "metadata": {},
   "outputs": [],
   "source": [
    "# Is our optimized function better?\n",
    "\n",
    "import timeit\n",
    "\n",
    "# Measure time for original function\n",
    "original_time = timeit.timeit('sum_of_primes(n)', globals=globals(), number=10)\n",
    "print(f\"Original function time: {original_time:.5f} seconds\")\n",
    "\n",
    "# Measure time for optimized function\n",
    "optimized_time = timeit.timeit('optimized_sum_of_primes(n)', globals=globals(), number=10)\n",
    "print(f\"Optimized function time: {optimized_time:.5f} seconds\")"
   ]
  },
  {
   "cell_type": "markdown",
   "id": "b3de8821-7623-4b7b-8be2-f36d846e8b11",
   "metadata": {},
   "source": [
    "***"
   ]
  },
  {
   "cell_type": "markdown",
   "id": "2a923023-9fbe-4e19-b0b4-f790b2bb3db6",
   "metadata": {},
   "source": [
    "## <a id = \"convert\"></a>Language Conversion"
   ]
  },
  {
   "cell_type": "markdown",
   "id": "04b43725-3347-4903-9429-dfa3ac3e4f53",
   "metadata": {},
   "source": [
    "<font color='blue'>\n",
    "<b>INSTRUCTOR NOTES</b> <br><br>\n",
    "\n",
    "<b>Summary</b>: Participants will translate MATLAB code into Python using their preferred AI chatbot. This exercise teaches participants how to leverage AI tools for language conversion and provides practical experience in translating and understanding code between different programming languages. <br>\n",
    "<b>Learning Objective(s) Addressed</b>: AI Fundamentals, Practical Application, Critical Evaluation, Adaptability and Continuous Learning.<br>\n",
    "<b>Teaching/Learning Techniques</b>: Direct Instruction, Interactive Demonstration, Hands-on Practice, Collaborative Learning, and Evaluation and Feedback.<br>\n",
    "\n",
    "<b>Approach</b>:\n",
    "\n",
    "* Introduction to Language Conversion: Explain the importance of understanding multiple programming languages and the ability to convert code between them. Highlight the role of AI tools in facilitating language conversion and enhancing coding efficiency.\n",
    "  \n",
    "MATLAB Code Overview:\n",
    "* Provide an overview of the given MATLAB code, explaining each line and its purpose (see explanation below). Ensure participants understand the functionality of the MATLAB code before attempting the conversion.\n",
    "* Ask participants to use their preferred AI chatbot to assist in converting the MATLAB code to Python. Example prompt: \"Translate the following MATLAB code to Python: [paste MATLAB code].\"\n",
    "* Hands-on Practice: Allow participants time to use the chatbot and work on converting the code. Encourage participants to paste the generated Python code in their workbook and run it to verify functionality.\n",
    "* Code Verification: Demonstrate running the Python code to ensure it works as expected. Example Python code that might be generated is provided in the workbook cell above.\n",
    "\n",
    "Python\n",
    "* Collaborative Learning: Have participants compare their Python code and discuss any differences in the generated code. Discuss how the AI chatbot's suggestions align with or differ from their expectations.\n",
    "* Evaluation and Feedback: Ask participants to share their experiences with the conversion process and the AI chatbot's assistance.\n",
    "Provide feedback on the translated code, focusing on accuracy, efficiency, and readability.\n",
    "* Emphasize the importance of verifying AI-generated code and understanding the underlying logic to ensure accuracy and reliability.\n",
    "\n",
    "\n",
    "**MATLAB Code Explanation**\n",
    "* x = linspace(0,2*pi,100) generates a vector x with 100 evenly spaced points between 0 and 2pi. The linspace function is used to create the evenly spaced vector.\n",
    "* y = sin(x) computes the since line for each element in the x vector. Results are stored in the y vector.\n",
    "* plot(x,y,':') plots the sine function (y) against the values in vector x using a dotted line\n",
    "* hold on allows multiple plots to be drawn on the same figure without erasing the existing plot. NOTE: chatbots will often leave this line in the converted code. This is because \"hold on\" was included in matplotlib syntax some time ago (this line will now result in an error).\n",
    "* y2 = cos(x) computes the cosine of each element in vector x and stores results in the vector y2.\n",
    "* plot(x,y2,'--ro') plots the cosine function (y2) against values in x using a dashed line and red circle markers.\n",
    "* hold off stops the hold on the current plot. Subsequent plotting commands will replace the existing plot rather than adding to it.\n",
    "* xlabel('x') and ylabel('sin(x)') add axis labels to the plot\n",
    "* xlim([0, 6]) and ylim([-1, 1]) set the limits of the axis ranges\n",
    "* title('Plot of the Sine Function') adds a title to the plot. NOTE: some chatbot generated code will correct the title based on the plotted values without being advised to do so. If this happens, it provides an interesting instructive discussion."
   ]
  },
  {
   "cell_type": "markdown",
   "id": "c1320259-d711-4abe-bdac-4c0dcd7362b3",
   "metadata": {},
   "source": [
    "<b>Problem</b>: Here, we'll focus on translating MATLAB code into Python. However, these techniques are versatile and can be applied to converting code from various other languages as well. Feel free to utilize your preferred AI chatbot to assist in converting the MATLAB code provided below into Python.\n",
    "\n",
    "**MATLAB Code**\n",
    "\n",
    "```\n",
    "x = linspace(0,2*pi,100);\n",
    "y = sin(x);\n",
    "plot(x,y,':')\n",
    "\n",
    "hold on \n",
    "y2 = cos(x);\n",
    "plot(x,y2,'--ro')\n",
    "hold off\n",
    "\n",
    "xlabel('x')\n",
    "ylabel('sin(x)')\n",
    "xlim([0, 6]);\n",
    "ylim([-1, 1]);\n",
    "title('Plot of the Sine Function')\n",
    "```\n",
    "\n",
    "OUTPUT:\n",
    "![matlabDoubleWell](https://raw.githubusercontent.com/KristenScotti//Workshops/main/img/matlabSinePlot.png)"
   ]
  },
  {
   "cell_type": "markdown",
   "id": "7a55ff6c-8d4e-4a35-bc07-4de5534484d2",
   "metadata": {},
   "source": [
    "Paste chatbot output in the code cell below and run"
   ]
  },
  {
   "cell_type": "code",
   "execution_count": null,
   "id": "ac5ba61c-f2a3-4ae2-b568-64927e872534",
   "metadata": {},
   "outputs": [],
   "source": []
  },
  {
   "cell_type": "code",
   "execution_count": null,
   "id": "f737a737-8e2e-4e9b-9159-c44974bcd89a",
   "metadata": {},
   "outputs": [],
   "source": []
  },
  {
   "cell_type": "markdown",
   "id": "be776c18-27f3-4517-91cf-b8ae5e7bbf75",
   "metadata": {},
   "source": [
    "**EXAMPLE SOLUTION**"
   ]
  },
  {
   "cell_type": "code",
   "execution_count": 18,
   "id": "f8159519-a222-441a-bd96-fa3542e51a36",
   "metadata": {
    "tags": []
   },
   "outputs": [
    {
     "data": {
      "image/png": "[encoded data removed]",
      "text/plain": [
       "<Figure size 640x480 with 1 Axes>"
      ]
     },
     "metadata": {},
     "output_type": "display_data"
    }
   ],
   "source": [
    "# Paste output here & run\n",
    "\n",
    "# Define the range of x values\n",
    "x = np.linspace(0, 2 * np.pi, 100)\n",
    "\n",
    "# Calculate y values for sine function\n",
    "y = np.sin(x)\n",
    "\n",
    "# Plot the sine function\n",
    "plt.plot(x, y, ':', label='sin(x)')\n",
    "\n",
    "# Plot the cosine function on the same plot with red markers as empty circles\n",
    "y2 = np.cos(x)\n",
    "plt.plot(x, y2, '--', color='red', marker='o', fillstyle='none', label='cos(x)')\n",
    "\n",
    "# Add labels and limits\n",
    "plt.xlabel('x')\n",
    "plt.ylabel('y')\n",
    "plt.xlim([0, 2 * np.pi])\n",
    "plt.ylim([-1, 1])\n",
    "plt.title('Plot of the Sine and Cosine Functions')\n",
    "\n",
    "# Add legend\n",
    "plt.legend()\n",
    "\n",
    "# Show the plot\n",
    "plt.show()"
   ]
  }
 ],
 "metadata": {
  "kernelspec": {
   "display_name": "Python 3 (ipykernel)",
   "language": "python",
   "name": "python3"
  },
  "language_info": {
   "codemirror_mode": {
    "name": "ipython",
    "version": 3
   },
   "file_extension": ".py",
   "mimetype": "text/x-python",
   "name": "python",
   "nbconvert_exporter": "python",
   "pygments_lexer": "ipython3",
   "version": "3.11.7"
  }
 },
 "nbformat": 4,
 "nbformat_minor": 5
}
