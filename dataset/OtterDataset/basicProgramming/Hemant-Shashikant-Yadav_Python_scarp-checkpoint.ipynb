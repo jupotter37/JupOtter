{
 "cells": [
  {
   "cell_type": "code",
   "execution_count": 3,
   "id": "6b007784",
   "metadata": {},
   "outputs": [],
   "source": [
    "\n",
    "from DrissionPage import ChromiumPage"
   ]
  },
  {
   "cell_type": "code",
   "execution_count": 4,
   "id": "2e35ea5f",
   "metadata": {},
   "outputs": [],
   "source": [
    "p = ChromiumPage()\n"
   ]
  },
  {
   "cell_type": "code",
   "execution_count": 5,
   "id": "8f24bec5",
   "metadata": {},
   "outputs": [
    {
     "data": {
      "text/plain": [
       "True"
      ]
     },
     "execution_count": 5,
     "metadata": {},
     "output_type": "execute_result"
    }
   ],
   "source": [
    "p.get('https://www.udemy.com/')"
   ]
  },
  {
   "cell_type": "code",
   "execution_count": 6,
   "id": "b87c2637",
   "metadata": {},
   "outputs": [],
   "source": [
    "p.ele('@class:ud-text-input').input(\"c programming\")\n"
   ]
  },
  {
   "cell_type": "code",
   "execution_count": 7,
   "id": "e97be51d",
   "metadata": {},
   "outputs": [
    {
     "data": {
      "text/plain": [
       "True"
      ]
     },
     "execution_count": 7,
     "metadata": {},
     "output_type": "execute_result"
    }
   ],
   "source": [
    "p.ele('xpath://*[@id=\"__next\"]/div/div/div[4]/div[2]/form/button').click()"
   ]
  },
  {
   "cell_type": "code",
   "execution_count": 60,
   "id": "f572e1da",
   "metadata": {},
   "outputs": [
    {
     "data": {
      "text/plain": [
       "[<ChromiumElement div class='course-card-module--main-content--pEiUr course-card-module--has-price-text--g6p85'>,\n",
       " <ChromiumElement div class='course-card-module--main-content--pEiUr course-card-module--has-price-text--g6p85'>,\n",
       " <ChromiumElement div class='course-card-module--main-content--pEiUr course-card-module--has-price-text--g6p85'>,\n",
       " <ChromiumElement div class='course-card-module--main-content--pEiUr course-card-module--has-price-text--g6p85'>,\n",
       " <ChromiumElement div class='course-card-module--main-content--pEiUr course-card-module--has-price-text--g6p85'>,\n",
       " <ChromiumElement div class='course-card-module--main-content--pEiUr course-card-module--has-price-text--g6p85'>,\n",
       " <ChromiumElement div class='course-card-module--main-content--pEiUr course-card-module--has-price-text--g6p85'>,\n",
       " <ChromiumElement div class='course-card-module--main-content--pEiUr course-card-module--has-price-text--g6p85'>,\n",
       " <ChromiumElement div class='course-card-module--main-content--pEiUr course-card-module--has-price-text--g6p85'>,\n",
       " <ChromiumElement div class='course-card-module--main-content--pEiUr course-card-module--has-price-text--g6p85'>,\n",
       " <ChromiumElement div class='course-card-module--main-content--pEiUr course-card-module--has-price-text--g6p85'>,\n",
       " <ChromiumElement div class='course-card-module--main-content--pEiUr course-card-module--has-price-text--g6p85'>,\n",
       " <ChromiumElement div class='course-card-module--main-content--pEiUr course-card-module--has-price-text--g6p85'>,\n",
       " <ChromiumElement div class='course-card-module--main-content--pEiUr course-card-module--has-price-text--g6p85'>,\n",
       " <ChromiumElement div class='course-card-module--main-content--pEiUr course-card-module--has-price-text--g6p85'>,\n",
       " <ChromiumElement div class='course-card-module--main-content--pEiUr course-card-module--has-price-text--g6p85'>,\n",
       " <ChromiumElement div class='course-card-module--main-content--pEiUr course-card-module--has-price-text--g6p85'>,\n",
       " <ChromiumElement div class='course-card-module--main-content--pEiUr course-card-module--has-price-text--g6p85'>,\n",
       " <ChromiumElement div class='course-card-module--main-content--pEiUr course-card-module--has-price-text--g6p85'>,\n",
       " <ChromiumElement div class='course-card-module--main-content--pEiUr course-card-module--has-price-text--g6p85'>,\n",
       " <ChromiumElement div class='course-card-module--main-content--pEiUr course-card-module--has-price-text--g6p85'>,\n",
       " <ChromiumElement div class='course-card-module--main-content--pEiUr course-card-module--has-price-text--g6p85'>,\n",
       " <ChromiumElement div class='course-card-module--main-content--pEiUr course-card-module--has-price-text--g6p85'>,\n",
       " <ChromiumElement div class='course-card-module--main-content--pEiUr course-card-module--has-price-text--g6p85'>,\n",
       " <ChromiumElement div class='course-card-module--main-content--pEiUr course-card-module--has-price-text--g6p85'>,\n",
       " <ChromiumElement div class='course-card-module--main-content--pEiUr course-card-module--has-price-text--g6p85'>]"
      ]
     },
     "execution_count": 60,
     "metadata": {},
     "output_type": "execute_result"
    }
   ],
   "source": [
    "# popper-module--popper--mM5Ie\n",
    "a = p.eles('tag:div@class=course-card-module--main-content--pEiUr course-card-module--has-price-text--g6p85')\n",
    "a"
   ]
  },
  {
   "cell_type": "code",
   "execution_count": 61,
   "id": "8bcded57",
   "metadata": {},
   "outputs": [
    {
     "data": {
      "text/plain": [
       "[<ChromiumElement div class='course-card-module--main-content--pEiUr course-card-module--has-price-text--g6p85'>,\n",
       " <ChromiumElement div class='course-card-module--main-content--pEiUr course-card-module--has-price-text--g6p85'>]"
      ]
     },
     "execution_count": 61,
     "metadata": {},
     "output_type": "execute_result"
    }
   ],
   "source": [
    "b = a[:2]\n",
    "b"
   ]
  },
  {
   "cell_type": "code",
   "execution_count": 78,
   "id": "bee4d472",
   "metadata": {},
   "outputs": [
    {
     "data": {
      "text/plain": [
       "'<div><div class=\"course-card-title-module--title--W49Ap\"><h3 data-purpose=\"course-title-url\" class=\"ud-heading-md course-card-title-module--course-title--wmFXN\"><a href=\"/course/c-programming-for-beginners-programming-in-c/\">C Programming Bootcamp - The Complete C Language Course<div class=\"ud-sr-only\" aria-hidden=\"true\"><span data-testid=\"seo-headline\">&lt;strong&gt;C&lt;/strong&gt; &lt;strong&gt;Programming&lt;/strong&gt; 2024: Master the Fundamentals of &lt;strong&gt;C&lt;/strong&gt; &lt;strong&gt;Programming&lt;/strong&gt; Language. Join the Comprehensive &lt;strong&gt;C&lt;/strong&gt; Bootcamp Masterclass!</span><span data-testid=\"seo-rating\">Rating: 4.5 out of 5</span><span data-testid=\"seo-num-reviews\">7634 reviews</span><span data-testid=\"seo-content-info\">44 total hours</span><span data-testid=\"seo-num-lectures\">396 lectures</span><span data-testid=\"seo-instructional-level\">All Levels</span><span data-testid=\"seo-current-price\">Current price: ₹449</span><span data-testid=\"seo-original-price\">Original price: ₹3,099</span></div></a></h3></div></div><p class=\"ud-text-sm course-card-module--course-headline--v-7gj\" data-purpose=\"safely-set-inner-html:course-card:course-headline\" data-testid=\"safely-set-inner-html:course-card:course-headline\"><strong>C</strong> <strong>Programming</strong> 2024: Master the Fundamentals of <strong>C</strong> <strong>Programming</strong> Language. Join the Comprehensive <strong>C</strong> Bootcamp Masterclass!</p><div class=\"ud-text-xs\"><span class=\"ud-sr-only\">Instructor:</span><div class=\"course-card-instructors-module--instructor-list--cJTfw\" data-purpose=\"safely-set-inner-html:course-card:visible-instructors\" data-testid=\"safely-set-inner-html:course-card:visible-instructors\">Vlad Budnitski</div></div><div class=\"course-card-ratings-module--row--Lnvpa\"><span class=\"star-rating-module--star-wrapper--i1cJH star-rating-module--medium--Lpe62\"><span class=\"ud-sr-only\">Rating: 4.5 out of 5</span><span class=\"ud-heading-sm star-rating-module--rating-number--2-qA2\" aria-hidden=\"true\" data-purpose=\"rating-number\">4.5</span><svg aria-hidden=\"true\" width=\"100%\" height=\"100%\" viewBox=\"0 0 70 14\" fill=\"none\" xmlns=\"http://www.w3.org/2000/svg\"><mask id=\"u281-star-rating-mask--589\" data-purpose=\"star-rating-mask\"><rect x=\"0\" y=\"0\" width=\"90%\" height=\"100%\" fill=\"white\"></rect></mask><g class=\"star-rating-module--star-filled--FgjdR\" mask=\"url(#u281-star-rating-mask--589)\" data-purpose=\"star-filled\"><use xlink:href=\"#icon-rating-star\" width=\"14\" height=\"14\" x=\"0\"></use><use xlink:href=\"#icon-rating-star\" width=\"14\" height=\"14\" x=\"14\"></use><use xlink:href=\"#icon-rating-star\" width=\"14\" height=\"14\" x=\"28\"></use><use xlink:href=\"#icon-rating-star\" width=\"14\" height=\"14\" x=\"42\"></use><use xlink:href=\"#icon-rating-star\" width=\"14\" height=\"14\" x=\"56\"></use></g><g fill=\"transparent\" class=\"star-rating-module--star-bordered--A4SZK\" stroke-width=\"2\" data-purpose=\"star-bordered\"><use xlink:href=\"#icon-rating-star\" width=\"12\" height=\"12\" x=\"1\" y=\"1\"></use><use xlink:href=\"#icon-rating-star\" width=\"12\" height=\"12\" x=\"15\" y=\"1\"></use><use xlink:href=\"#icon-rating-star\" width=\"12\" height=\"12\" x=\"29\" y=\"1\"></use><use xlink:href=\"#icon-rating-star\" width=\"12\" height=\"12\" x=\"43\" y=\"1\"></use><use xlink:href=\"#icon-rating-star\" width=\"12\" height=\"12\" x=\"57\" y=\"1\"></use></g></svg></span><span aria-label=\"7634 reviews\" class=\"ud-text-xs course-card-ratings-module--reviews-text--1z0l4\">(7,634)</span></div><div class=\"course-card-details-module--row--jw-lD\"><div data-purpose=\"course-meta-info\" class=\"course-card-details-module--row--jw-lD course-card-details-module--course-meta-info--2bDQt ud-text-xs\"><span class=\"course-card-details-module--row--jw-lD\">44 total hours</span><span class=\"course-card-details-module--row--jw-lD\">396 lectures</span><span class=\"course-card-details-module--row--jw-lD\">All Levels</span></div></div><div class=\"course-card-module--price-text-container--2TRvR\"><div class=\"base-price-text-module--container--Sfv-5 course-card-module--price-text-base-price-text-component--Q-Ucg\" data-purpose=\"price-text-container\"><div class=\"base-price-text-module--price-part---xQlz course-card-module--price-text-base-price-text-component-discount-price--Xztnd ud-heading-md\" data-purpose=\"course-price-text\"><span class=\"ud-sr-only\">Current price</span><span><span>₹449</span></span></div><div class=\"base-price-text-module--price-part---xQlz base-price-text-module--original-price--C6BJt course-card-module--price-text-base-price-text-component-list-price--eL9tp ud-text-sm\" data-purpose=\"original-price-container\"><div data-purpose=\"course-old-price-text\"><span class=\"ud-sr-only\">Original Price</span><span><s><span>₹3,099</span></s></span></div></div></div></div><div class=\"course-card-module--badges-container--YDhzE\"><div class=\"course-card-badges-module--course-badges--NtSTO\"></div></div>'"
      ]
     },
     "execution_count": 78,
     "metadata": {},
     "output_type": "execute_result"
    }
   ],
   "source": [
    "b[1].inner_html"
   ]
  },
  {
   "cell_type": "code",
   "execution_count": 65,
   "id": "4abca4fa",
   "metadata": {},
   "outputs": [
    {
     "data": {
      "text/plain": [
       "[]"
      ]
     },
     "execution_count": 65,
     "metadata": {},
     "output_type": "execute_result"
    }
   ],
   "source": [
    "\n",
    "a = p.eles('tag:div@class:course-card-title-module--course-title--wmFXN')\n",
    "a"
   ]
  },
  {
   "cell_type": "code",
   "execution_count": 80,
   "id": "3ee54830",
   "metadata": {},
   "outputs": [],
   "source": [
    "htmltext = b[1].inner_html"
   ]
  },
  {
   "cell_type": "code",
   "execution_count": 81,
   "id": "51391b29",
   "metadata": {},
   "outputs": [
    {
     "data": {
      "text/plain": [
       "'<div><div class=\"course-card-title-module--title--W49Ap\"><h3 data-purpose=\"course-title-url\" class=\"ud-heading-md course-card-title-module--course-title--wmFXN\"><a href=\"/course/c-programming-for-beginners-programming-in-c/\">C Programming Bootcamp - The Complete C Language Course<div class=\"ud-sr-only\" aria-hidden=\"true\"><span data-testid=\"seo-headline\">&lt;strong&gt;C&lt;/strong&gt; &lt;strong&gt;Programming&lt;/strong&gt; 2024: Master the Fundamentals of &lt;strong&gt;C&lt;/strong&gt; &lt;strong&gt;Programming&lt;/strong&gt; Language. Join the Comprehensive &lt;strong&gt;C&lt;/strong&gt; Bootcamp Masterclass!</span><span data-testid=\"seo-rating\">Rating: 4.5 out of 5</span><span data-testid=\"seo-num-reviews\">7634 reviews</span><span data-testid=\"seo-content-info\">44 total hours</span><span data-testid=\"seo-num-lectures\">396 lectures</span><span data-testid=\"seo-instructional-level\">All Levels</span><span data-testid=\"seo-current-price\">Current price: ₹449</span><span data-testid=\"seo-original-price\">Original price: ₹3,099</span></div></a></h3></div></div><p class=\"ud-text-sm course-card-module--course-headline--v-7gj\" data-purpose=\"safely-set-inner-html:course-card:course-headline\" data-testid=\"safely-set-inner-html:course-card:course-headline\"><strong>C</strong> <strong>Programming</strong> 2024: Master the Fundamentals of <strong>C</strong> <strong>Programming</strong> Language. Join the Comprehensive <strong>C</strong> Bootcamp Masterclass!</p><div class=\"ud-text-xs\"><span class=\"ud-sr-only\">Instructor:</span><div class=\"course-card-instructors-module--instructor-list--cJTfw\" data-purpose=\"safely-set-inner-html:course-card:visible-instructors\" data-testid=\"safely-set-inner-html:course-card:visible-instructors\">Vlad Budnitski</div></div><div class=\"course-card-ratings-module--row--Lnvpa\"><span class=\"star-rating-module--star-wrapper--i1cJH star-rating-module--medium--Lpe62\"><span class=\"ud-sr-only\">Rating: 4.5 out of 5</span><span class=\"ud-heading-sm star-rating-module--rating-number--2-qA2\" aria-hidden=\"true\" data-purpose=\"rating-number\">4.5</span><svg aria-hidden=\"true\" width=\"100%\" height=\"100%\" viewBox=\"0 0 70 14\" fill=\"none\" xmlns=\"http://www.w3.org/2000/svg\"><mask id=\"u281-star-rating-mask--589\" data-purpose=\"star-rating-mask\"><rect x=\"0\" y=\"0\" width=\"90%\" height=\"100%\" fill=\"white\"></rect></mask><g class=\"star-rating-module--star-filled--FgjdR\" mask=\"url(#u281-star-rating-mask--589)\" data-purpose=\"star-filled\"><use xlink:href=\"#icon-rating-star\" width=\"14\" height=\"14\" x=\"0\"></use><use xlink:href=\"#icon-rating-star\" width=\"14\" height=\"14\" x=\"14\"></use><use xlink:href=\"#icon-rating-star\" width=\"14\" height=\"14\" x=\"28\"></use><use xlink:href=\"#icon-rating-star\" width=\"14\" height=\"14\" x=\"42\"></use><use xlink:href=\"#icon-rating-star\" width=\"14\" height=\"14\" x=\"56\"></use></g><g fill=\"transparent\" class=\"star-rating-module--star-bordered--A4SZK\" stroke-width=\"2\" data-purpose=\"star-bordered\"><use xlink:href=\"#icon-rating-star\" width=\"12\" height=\"12\" x=\"1\" y=\"1\"></use><use xlink:href=\"#icon-rating-star\" width=\"12\" height=\"12\" x=\"15\" y=\"1\"></use><use xlink:href=\"#icon-rating-star\" width=\"12\" height=\"12\" x=\"29\" y=\"1\"></use><use xlink:href=\"#icon-rating-star\" width=\"12\" height=\"12\" x=\"43\" y=\"1\"></use><use xlink:href=\"#icon-rating-star\" width=\"12\" height=\"12\" x=\"57\" y=\"1\"></use></g></svg></span><span aria-label=\"7634 reviews\" class=\"ud-text-xs course-card-ratings-module--reviews-text--1z0l4\">(7,634)</span></div><div class=\"course-card-details-module--row--jw-lD\"><div data-purpose=\"course-meta-info\" class=\"course-card-details-module--row--jw-lD course-card-details-module--course-meta-info--2bDQt ud-text-xs\"><span class=\"course-card-details-module--row--jw-lD\">44 total hours</span><span class=\"course-card-details-module--row--jw-lD\">396 lectures</span><span class=\"course-card-details-module--row--jw-lD\">All Levels</span></div></div><div class=\"course-card-module--price-text-container--2TRvR\"><div class=\"base-price-text-module--container--Sfv-5 course-card-module--price-text-base-price-text-component--Q-Ucg\" data-purpose=\"price-text-container\"><div class=\"base-price-text-module--price-part---xQlz course-card-module--price-text-base-price-text-component-discount-price--Xztnd ud-heading-md\" data-purpose=\"course-price-text\"><span class=\"ud-sr-only\">Current price</span><span><span>₹449</span></span></div><div class=\"base-price-text-module--price-part---xQlz base-price-text-module--original-price--C6BJt course-card-module--price-text-base-price-text-component-list-price--eL9tp ud-text-sm\" data-purpose=\"original-price-container\"><div data-purpose=\"course-old-price-text\"><span class=\"ud-sr-only\">Original Price</span><span><s><span>₹3,099</span></s></span></div></div></div></div><div class=\"course-card-module--badges-container--YDhzE\"><div class=\"course-card-badges-module--course-badges--NtSTO\"></div></div>'"
      ]
     },
     "execution_count": 81,
     "metadata": {},
     "output_type": "execute_result"
    }
   ],
   "source": [
    "htmltext"
   ]
  },
  {
   "cell_type": "code",
   "execution_count": 83,
   "id": "dfef7b14",
   "metadata": {},
   "outputs": [
    {
     "name": "stdout",
     "output_type": "stream",
     "text": [
      "Title: C Programming Bootcamp - The Complete C Language Course<strong>C</strong> <strong>Programming</strong> 2024: Master the Fundamentals of <strong>C</strong> <strong>Programming</strong> Language. Join the Comprehensive <strong>C</strong> Bootcamp Masterclass!Rating: 4.5 out of 57634 reviews44 total hours396 lecturesAll LevelsCurrent price: ₹449Original price: ₹3,099\n",
      "Rating: 4.5\n",
      "Instructor: Vlad Budnitski\n",
      "Current Price: Current price₹449\n",
      "Lecture Hours: 44 total hours\n",
      "Number of Reviews: (7,634)\n"
     ]
    }
   ],
   "source": [
    "\n",
    "from bs4 import BeautifulSoup\n",
    "import re\n",
    "soup = BeautifulSoup(htmltext, 'html.parser')\n",
    "\n",
    "# Extracting title\n",
    "title_element = soup.find('h3', class_='ud-heading-md')\n",
    "title = title_element.text.strip()\n",
    "title = re.sub(r'\\s+', ' ', title)  # Remove extra spaces\n",
    "print(\"Title:\", title)\n",
    "\n",
    "# Extracting rating\n",
    "rating_element = soup.find('span', class_='star-rating-module--rating-number--2-qA2')\n",
    "rating = rating_element.text.strip()\n",
    "print(\"Rating:\", rating)\n",
    "\n",
    "# Extracting instructor\n",
    "instructor_element = soup.find('div', class_='course-card-instructors-module--instructor-list--cJTfw')\n",
    "instructor = instructor_element.text.strip()\n",
    "print(\"Instructor:\", instructor)\n",
    "\n",
    "# Extracting current price\n",
    "current_price_element = soup.find('div', class_='course-card-module--price-text-base-price-text-component-discount-price--Xztnd')\n",
    "current_price = current_price_element.text.strip()\n",
    "print(\"Current Price:\", current_price)\n",
    "\n",
    "# Extracting lecture hours\n",
    "lecture_hours_elements = soup.find_all('span', class_='course-card-details-module--row--jw-lD')\n",
    "lecture_hours = lecture_hours_elements[0].text.strip()\n",
    "print(\"Lecture Hours:\", lecture_hours)\n",
    "\n",
    "# Extracting number of reviews\n",
    "num_reviews_element = soup.find('span', class_='course-card-ratings-module--reviews-text--1z0l4')\n",
    "num_reviews = num_reviews_element.text.strip()\n",
    "print(\"Number of Reviews:\", num_reviews)"
   ]
  },
  {
   "cell_type": "code",
   "execution_count": 8,
   "id": "ff2957ba",
   "metadata": {},
   "outputs": [],
   "source": [
    "p.close()"
   ]
  },
  {
   "cell_type": "code",
   "execution_count": null,
   "id": "ac185f57",
   "metadata": {},
   "outputs": [],
   "source": []
  },
  {
   "cell_type": "markdown",
   "id": "4ba066d4",
   "metadata": {},
   "source": [
    "# coursera"
   ]
  },
  {
   "cell_type": "code",
   "execution_count": null,
   "id": "6f534881",
   "metadata": {},
   "outputs": [],
   "source": []
  },
  {
   "cell_type": "code",
   "execution_count": null,
   "id": "981b6ea8",
   "metadata": {},
   "outputs": [],
   "source": []
  },
  {
   "cell_type": "code",
   "execution_count": null,
   "id": "182f43cf",
   "metadata": {},
   "outputs": [],
   "source": []
  },
  {
   "cell_type": "code",
   "execution_count": null,
   "id": "b729840d",
   "metadata": {},
   "outputs": [],
   "source": []
  },
  {
   "cell_type": "code",
   "execution_count": null,
   "id": "11531b3a",
   "metadata": {},
   "outputs": [],
   "source": []
  },
  {
   "cell_type": "code",
   "execution_count": null,
   "id": "e8356e6c",
   "metadata": {},
   "outputs": [],
   "source": []
  },
  {
   "cell_type": "code",
   "execution_count": null,
   "id": "9e887b6c",
   "metadata": {},
   "outputs": [],
   "source": []
  },
  {
   "cell_type": "code",
   "execution_count": null,
   "id": "dcd206fb",
   "metadata": {},
   "outputs": [],
   "source": []
  },
  {
   "cell_type": "code",
   "execution_count": null,
   "id": "d25cb416",
   "metadata": {},
   "outputs": [],
   "source": []
  },
  {
   "cell_type": "code",
   "execution_count": null,
   "id": "0d2654e3",
   "metadata": {},
   "outputs": [],
   "source": []
  },
  {
   "cell_type": "code",
   "execution_count": null,
   "id": "cc476faf",
   "metadata": {},
   "outputs": [],
   "source": []
  },
  {
   "cell_type": "code",
   "execution_count": null,
   "id": "cfe6e01f",
   "metadata": {},
   "outputs": [],
   "source": []
  },
  {
   "cell_type": "code",
   "execution_count": null,
   "id": "73789c5e",
   "metadata": {},
   "outputs": [],
   "source": []
  },
  {
   "cell_type": "code",
   "execution_count": null,
   "id": "0956e15d",
   "metadata": {},
   "outputs": [],
   "source": []
  },
  {
   "cell_type": "code",
   "execution_count": null,
   "id": "2bb1d62a",
   "metadata": {},
   "outputs": [],
   "source": []
  },
  {
   "cell_type": "code",
   "execution_count": null,
   "id": "0302b0b0",
   "metadata": {},
   "outputs": [],
   "source": []
  },
  {
   "cell_type": "code",
   "execution_count": null,
   "id": "e65bd0d1",
   "metadata": {},
   "outputs": [],
   "source": []
  },
  {
   "cell_type": "code",
   "execution_count": null,
   "id": "45a1a8f2",
   "metadata": {},
   "outputs": [],
   "source": []
  },
  {
   "cell_type": "code",
   "execution_count": null,
   "id": "a6b10404",
   "metadata": {},
   "outputs": [],
   "source": []
  },
  {
   "cell_type": "code",
   "execution_count": null,
   "id": "30ca2772",
   "metadata": {},
   "outputs": [],
   "source": [
    "https://swayam.gov.in/"
   ]
  },
  {
   "cell_type": "code",
   "execution_count": 50,
   "id": "722c6f23",
   "metadata": {},
   "outputs": [],
   "source": [
    "p = ChromiumPage()\n"
   ]
  },
  {
   "cell_type": "code",
   "execution_count": 52,
   "id": "c2c5602d",
   "metadata": {},
   "outputs": [
    {
     "data": {
      "text/plain": [
       "True"
      ]
     },
     "execution_count": 52,
     "metadata": {},
     "output_type": "execute_result"
    }
   ],
   "source": [
    "p.get('https://swayam.gov.in/')"
   ]
  },
  {
   "cell_type": "code",
   "execution_count": null,
   "id": "9d84bc88",
   "metadata": {},
   "outputs": [],
   "source": [
    "//*[@id=\"header\"]/div[2]/div/div[2]/div/a[2]"
   ]
  },
  {
   "cell_type": "code",
   "execution_count": 54,
   "id": "3100f5ac",
   "metadata": {},
   "outputs": [
    {
     "data": {
      "text/plain": [
       "True"
      ]
     },
     "execution_count": 54,
     "metadata": {},
     "output_type": "execute_result"
    }
   ],
   "source": [
    "p.ele('xpath://*[@id=\"header\"]/div[2]/div/div[2]/div/a[2]').click()"
   ]
  },
  {
   "cell_type": "code",
   "execution_count": 59,
   "id": "91e938ce",
   "metadata": {},
   "outputs": [],
   "source": [
    "p.ele('@class:form-control style-scope course-explorer ui-autocomplete-input').input(\"python\")"
   ]
  },
  {
   "cell_type": "code",
   "execution_count": 60,
   "id": "9627e355",
   "metadata": {},
   "outputs": [
    {
     "ename": "SyntaxError",
     "evalue": "invalid syntax (2718562971.py, line 1)",
     "output_type": "error",
     "traceback": [
      "\u001b[1;36m  Cell \u001b[1;32mIn[60], line 1\u001b[1;36m\u001b[0m\n\u001b[1;33m    search_keyword style-scope course-explorer\u001b[0m\n\u001b[1;37m                   ^\u001b[0m\n\u001b[1;31mSyntaxError\u001b[0m\u001b[1;31m:\u001b[0m invalid syntax\n"
     ]
    }
   ],
   "source": [
    "search_keyword style-scope course-explorer"
   ]
  },
  {
   "cell_type": "code",
   "execution_count": 61,
   "id": "0dd9f5c1",
   "metadata": {},
   "outputs": [
    {
     "data": {
      "text/plain": [
       "True"
      ]
     },
     "execution_count": 61,
     "metadata": {},
     "output_type": "execute_result"
    }
   ],
   "source": [
    "p.ele('@class:search_keyword style-scope course-explorer').click()"
   ]
  },
  {
   "cell_type": "code",
   "execution_count": 62,
   "id": "c0b3512d",
   "metadata": {},
   "outputs": [
    {
     "data": {
      "text/plain": [
       "[<ChromiumElement div class='content style-scope course-card'>,\n",
       " <ChromiumElement div class='content style-scope course-card'>]"
      ]
     },
     "execution_count": 62,
     "metadata": {},
     "output_type": "execute_result"
    }
   ],
   "source": [
    "a = p.eles('tag:div@class=content style-scope course-card')\n",
    "a"
   ]
  },
  {
   "cell_type": "code",
   "execution_count": 64,
   "id": "99a6e8a8",
   "metadata": {},
   "outputs": [
    {
     "data": {
      "text/plain": [
       "'Python 3.4.3\\nProf Kannan Moudgalya - Principal Investigator of...\\nIndian Institute of Technology Bombay  \\n\\tAICTE\\n\\tSelf Paced\\n\\t'"
      ]
     },
     "execution_count": 64,
     "metadata": {},
     "output_type": "execute_result"
    }
   ],
   "source": [
    "a[0].text"
   ]
  },
  {
   "cell_type": "code",
   "execution_count": null,
   "id": "b0e7f509",
   "metadata": {},
   "outputs": [],
   "source": []
  },
  {
   "cell_type": "code",
   "execution_count": null,
   "id": "de1f6bfb",
   "metadata": {},
   "outputs": [],
   "source": []
  },
  {
   "cell_type": "code",
   "execution_count": null,
   "id": "ebb79b3e",
   "metadata": {},
   "outputs": [],
   "source": [
    "{\n",
    "    1 : b[0].inner_HTML,\n",
    "    2 : b[1].inner_HTML,\n",
    "    3 : a[0].text,\n",
    "    4 : b[1].text\n",
    "}"
   ]
  }
 ],
 "metadata": {
  "kernelspec": {
   "display_name": "Python 3 (ipykernel)",
   "language": "python",
   "name": "python3"
  },
  "language_info": {
   "codemirror_mode": {
    "name": "ipython",
    "version": 3
   },
   "file_extension": ".py",
   "mimetype": "text/x-python",
   "name": "python",
   "nbconvert_exporter": "python",
   "pygments_lexer": "ipython3",
   "version": "3.10.13"
  }
 },
 "nbformat": 4,
 "nbformat_minor": 5
}
