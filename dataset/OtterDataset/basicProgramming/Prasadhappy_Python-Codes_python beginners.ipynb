{
 "cells": [
  {
   "cell_type": "code",
   "execution_count": 1,
   "id": "c8a6a210",
   "metadata": {},
   "outputs": [
    {
     "name": "stdout",
     "output_type": "stream",
     "text": [
      "hello world\n"
     ]
    }
   ],
   "source": [
    "print (\"hello world\")"
   ]
  },
  {
   "cell_type": "code",
   "execution_count": 3,
   "id": "e2f6c2ca",
   "metadata": {},
   "outputs": [
    {
     "name": "stdout",
     "output_type": "stream",
     "text": [
      "8\n"
     ]
    }
   ],
   "source": [
    "print (5 + 3)\n"
   ]
  },
  {
   "cell_type": "code",
   "execution_count": 4,
   "id": "e35152c3",
   "metadata": {},
   "outputs": [
    {
     "name": "stdout",
     "output_type": "stream",
     "text": [
      "2\n"
     ]
    }
   ],
   "source": [
    "print (4-2)"
   ]
  },
  {
   "cell_type": "code",
   "execution_count": 5,
   "id": "6bf994a2",
   "metadata": {},
   "outputs": [
    {
     "name": "stdout",
     "output_type": "stream",
     "text": [
      "good morning\n"
     ]
    }
   ],
   "source": [
    "print (\"good morning\")"
   ]
  },
  {
   "cell_type": "code",
   "execution_count": null,
   "id": "eb74d27c",
   "metadata": {},
   "outputs": [],
   "source": []
  },
  {
   "cell_type": "code",
   "execution_count": 8,
   "id": "adf61b1f",
   "metadata": {},
   "outputs": [],
   "source": [
    "p = 100\n",
    "r = 4\n",
    "t = 2"
   ]
  },
  {
   "cell_type": "code",
   "execution_count": 9,
   "id": "99e137ec",
   "metadata": {},
   "outputs": [],
   "source": [
    "si = (p * r * t)/100"
   ]
  },
  {
   "cell_type": "code",
   "execution_count": 10,
   "id": "1304bf3e",
   "metadata": {},
   "outputs": [
    {
     "name": "stdout",
     "output_type": "stream",
     "text": [
      "simple interest is =  8.0\n"
     ]
    }
   ],
   "source": [
    "print (\"simple interest is = \", si)"
   ]
  },
  {
   "cell_type": "code",
   "execution_count": null,
   "id": "d15d7e84",
   "metadata": {},
   "outputs": [],
   "source": []
  },
  {
   "cell_type": "markdown",
   "id": "60913b8d",
   "metadata": {},
   "source": [
    "P = 9\n",
    "r = 2\n",
    "t = 2"
   ]
  },
  {
   "cell_type": "code",
   "execution_count": 12,
   "id": "0583d27e",
   "metadata": {},
   "outputs": [],
   "source": [
    "p = 9\n",
    "r = 2 \n",
    "t = 5"
   ]
  },
  {
   "cell_type": "code",
   "execution_count": 13,
   "id": "6a459859",
   "metadata": {},
   "outputs": [],
   "source": [
    "si = (p*r*t)/100"
   ]
  },
  {
   "cell_type": "code",
   "execution_count": 14,
   "id": "ca8ddf58",
   "metadata": {},
   "outputs": [
    {
     "name": "stdout",
     "output_type": "stream",
     "text": [
      "simple interest is =  0.9\n"
     ]
    }
   ],
   "source": [
    "print (\"simple interest is = \", si)"
   ]
  },
  {
   "cell_type": "code",
   "execution_count": null,
   "id": "6d4dd84f",
   "metadata": {},
   "outputs": [],
   "source": []
  },
  {
   "cell_type": "code",
   "execution_count": null,
   "id": "14699166",
   "metadata": {},
   "outputs": [],
   "source": []
  },
  {
   "cell_type": "code",
   "execution_count": null,
   "id": "e1681fe5",
   "metadata": {},
   "outputs": [],
   "source": []
  },
  {
   "cell_type": "code",
   "execution_count": null,
   "id": "8de9e153",
   "metadata": {},
   "outputs": [],
   "source": []
  },
  {
   "cell_type": "code",
   "execution_count": null,
   "id": "2f034df5",
   "metadata": {},
   "outputs": [],
   "source": []
  },
  {
   "cell_type": "code",
   "execution_count": 15,
   "id": "e8e3f6b8",
   "metadata": {},
   "outputs": [
    {
     "name": "stdout",
     "output_type": "stream",
     "text": [
      "prasad\n"
     ]
    }
   ],
   "source": [
    "name = input ()"
   ]
  },
  {
   "cell_type": "code",
   "execution_count": 16,
   "id": "b6d63566",
   "metadata": {},
   "outputs": [
    {
     "name": "stdout",
     "output_type": "stream",
     "text": [
      "prasad\n"
     ]
    }
   ],
   "source": [
    "print (name)"
   ]
  },
  {
   "cell_type": "code",
   "execution_count": 17,
   "id": "2cd109f5",
   "metadata": {},
   "outputs": [
    {
     "name": "stdout",
     "output_type": "stream",
     "text": [
      "hello there,  prasad\n"
     ]
    }
   ],
   "source": [
    "print ('hello there, ', name)"
   ]
  },
  {
   "cell_type": "code",
   "execution_count": null,
   "id": "f71e751c",
   "metadata": {},
   "outputs": [],
   "source": []
  },
  {
   "cell_type": "code",
   "execution_count": 18,
   "id": "830fcbee",
   "metadata": {},
   "outputs": [
    {
     "name": "stdout",
     "output_type": "stream",
     "text": [
      "prasad\n",
      "sourab\n",
      "rohit\n"
     ]
    }
   ],
   "source": [
    "name_1 = input()\n",
    "name_2 = input()\n",
    "name_3 = input()"
   ]
  },
  {
   "cell_type": "code",
   "execution_count": 19,
   "id": "df7809d9",
   "metadata": {},
   "outputs": [
    {
     "name": "stdout",
     "output_type": "stream",
     "text": [
      "these three ppl where involved int he shifting  prasad sourab rohit\n"
     ]
    }
   ],
   "source": [
    "print ('these three ppl where involved int he shifting ', name_1, name_2, name_3)"
   ]
  },
  {
   "cell_type": "code",
   "execution_count": 20,
   "id": "72999917",
   "metadata": {},
   "outputs": [
    {
     "name": "stdout",
     "output_type": "stream",
     "text": [
      "prasad\n",
      "hello prasad\n"
     ]
    }
   ],
   "source": [
    "print ('hello', input())"
   ]
  },
  {
   "cell_type": "code",
   "execution_count": null,
   "id": "fae15019",
   "metadata": {},
   "outputs": [],
   "source": []
  },
  {
   "cell_type": "code",
   "execution_count": 22,
   "id": "861d4ad6",
   "metadata": {},
   "outputs": [
    {
     "name": "stdout",
     "output_type": "stream",
     "text": [
      "Prasad's is batman\n"
     ]
    }
   ],
   "source": [
    "print('Prasad\\'s is batman')\n",
    "\n",
    "# Backshash \\ is know as the 'escape character'"
   ]
  },
  {
   "cell_type": "code",
   "execution_count": null,
   "id": "d1a8bc5c",
   "metadata": {},
   "outputs": [],
   "source": []
  },
  {
   "cell_type": "markdown",
   "id": "585f67a3",
   "metadata": {},
   "source": [
    "# comment "
   ]
  },
  {
   "cell_type": "code",
   "execution_count": null,
   "id": "19583ccd",
   "metadata": {},
   "outputs": [],
   "source": [
    "# comments are statments that are written inside the code but they are ignored by the interpreter. \n",
    "# These are written to make the code understandable and readable."
   ]
  },
  {
   "cell_type": "code",
   "execution_count": null,
   "id": "3c82b2a5",
   "metadata": {},
   "outputs": [],
   "source": []
  },
  {
   "cell_type": "code",
   "execution_count": null,
   "id": "4aec5893",
   "metadata": {},
   "outputs": [],
   "source": []
  },
  {
   "cell_type": "markdown",
   "id": "731254d5",
   "metadata": {},
   "source": [
    "# Data types \n",
    "\n",
    "intergers - int\n",
    "Floating point numbers - float\n",
    "String - str\n",
    "Boolean Type - bool\n",
    "None type \n"
   ]
  },
  {
   "cell_type": "code",
   "execution_count": null,
   "id": "c4a447ac",
   "metadata": {},
   "outputs": [],
   "source": []
  },
  {
   "cell_type": "code",
   "execution_count": 23,
   "id": "ab3f1e34",
   "metadata": {},
   "outputs": [],
   "source": [
    "a = 100"
   ]
  },
  {
   "cell_type": "code",
   "execution_count": 24,
   "id": "064704df",
   "metadata": {},
   "outputs": [
    {
     "name": "stdout",
     "output_type": "stream",
     "text": [
      "<class 'int'>\n"
     ]
    }
   ],
   "source": [
    "print(type(a))"
   ]
  },
  {
   "cell_type": "code",
   "execution_count": null,
   "id": "b18cc93d",
   "metadata": {},
   "outputs": [],
   "source": [
    "# variable a is storing integer type of data"
   ]
  },
  {
   "cell_type": "code",
   "execution_count": null,
   "id": "ac992276",
   "metadata": {},
   "outputs": [],
   "source": []
  },
  {
   "cell_type": "code",
   "execution_count": 26,
   "id": "184d9cfb",
   "metadata": {},
   "outputs": [],
   "source": [
    "b = 19.7474"
   ]
  },
  {
   "cell_type": "code",
   "execution_count": 27,
   "id": "731608b9",
   "metadata": {},
   "outputs": [
    {
     "name": "stdout",
     "output_type": "stream",
     "text": [
      "<class 'float'>\n"
     ]
    }
   ],
   "source": [
    "print(type(b))"
   ]
  },
  {
   "cell_type": "code",
   "execution_count": null,
   "id": "d2f72b66",
   "metadata": {},
   "outputs": [],
   "source": []
  },
  {
   "cell_type": "code",
   "execution_count": 28,
   "id": "2da20e50",
   "metadata": {},
   "outputs": [],
   "source": [
    "c = ' I am batman '"
   ]
  },
  {
   "cell_type": "code",
   "execution_count": 29,
   "id": "b1169840",
   "metadata": {},
   "outputs": [
    {
     "name": "stdout",
     "output_type": "stream",
     "text": [
      "<class 'str'>\n"
     ]
    }
   ],
   "source": [
    "print (type(c))"
   ]
  },
  {
   "cell_type": "code",
   "execution_count": null,
   "id": "3e6f9ef5",
   "metadata": {},
   "outputs": [],
   "source": []
  },
  {
   "cell_type": "code",
   "execution_count": 30,
   "id": "1d366fa8",
   "metadata": {},
   "outputs": [],
   "source": [
    "d = 'h'"
   ]
  },
  {
   "cell_type": "code",
   "execution_count": 31,
   "id": "436dcd59",
   "metadata": {},
   "outputs": [
    {
     "name": "stdout",
     "output_type": "stream",
     "text": [
      "<class 'str'>\n"
     ]
    }
   ],
   "source": [
    "print (type(d))"
   ]
  },
  {
   "cell_type": "code",
   "execution_count": null,
   "id": "41372a66",
   "metadata": {},
   "outputs": [],
   "source": []
  },
  {
   "cell_type": "code",
   "execution_count": 35,
   "id": "be20ce9c",
   "metadata": {},
   "outputs": [],
   "source": [
    "e = True \n",
    "f = False "
   ]
  },
  {
   "cell_type": "code",
   "execution_count": 37,
   "id": "25e982ae",
   "metadata": {},
   "outputs": [
    {
     "name": "stdout",
     "output_type": "stream",
     "text": [
      "<class 'bool'> <class 'bool'>\n"
     ]
    }
   ],
   "source": [
    "print (type(e), type(f))"
   ]
  },
  {
   "cell_type": "code",
   "execution_count": null,
   "id": "fcfd276a",
   "metadata": {},
   "outputs": [],
   "source": []
  },
  {
   "cell_type": "code",
   "execution_count": 38,
   "id": "095bfce8",
   "metadata": {},
   "outputs": [
    {
     "name": "stdout",
     "output_type": "stream",
     "text": [
      "True False\n"
     ]
    }
   ],
   "source": [
    "print (e, f)"
   ]
  },
  {
   "cell_type": "code",
   "execution_count": null,
   "id": "61130f34",
   "metadata": {},
   "outputs": [],
   "source": []
  },
  {
   "cell_type": "code",
   "execution_count": 39,
   "id": "22b010e8",
   "metadata": {},
   "outputs": [],
   "source": [
    "g = None\n",
    "\n",
    "## none denots NULL value."
   ]
  },
  {
   "cell_type": "code",
   "execution_count": 40,
   "id": "2cd1783b",
   "metadata": {},
   "outputs": [
    {
     "name": "stdout",
     "output_type": "stream",
     "text": [
      "<class 'NoneType'>\n"
     ]
    }
   ],
   "source": [
    "print (type(g))"
   ]
  },
  {
   "cell_type": "code",
   "execution_count": null,
   "id": "20a7a917",
   "metadata": {},
   "outputs": [],
   "source": []
  },
  {
   "cell_type": "code",
   "execution_count": null,
   "id": "47fcef57",
   "metadata": {},
   "outputs": [],
   "source": [
    "#variable name should always begin with a character or underscore\n",
    "\n",
    "#name1 is allowed, whereas 1name is not allowed\n",
    "\n",
    "#special characters are not allowed in naming variables (underscore is an exception)\n",
    "\n",
    "#name1, name-1 is not allowed, name_1 is allowed"
   ]
  },
  {
   "cell_type": "code",
   "execution_count": null,
   "id": "b8b804f1",
   "metadata": {},
   "outputs": [],
   "source": []
  },
  {
   "cell_type": "markdown",
   "id": "6a6487cb",
   "metadata": {},
   "source": [
    "Typecasting - converting one form to another"
   ]
  },
  {
   "cell_type": "code",
   "execution_count": 41,
   "id": "a72ab7af",
   "metadata": {},
   "outputs": [],
   "source": [
    "f = 7.4\n",
    "\n",
    "\n",
    "#converrt this float number to an interger"
   ]
  },
  {
   "cell_type": "code",
   "execution_count": 42,
   "id": "e36a0e16",
   "metadata": {},
   "outputs": [],
   "source": [
    "i = int(f)"
   ]
  },
  {
   "cell_type": "code",
   "execution_count": 43,
   "id": "08b3eb2f",
   "metadata": {},
   "outputs": [
    {
     "name": "stdout",
     "output_type": "stream",
     "text": [
      "7\n"
     ]
    }
   ],
   "source": [
    "print(i)"
   ]
  },
  {
   "cell_type": "code",
   "execution_count": 44,
   "id": "64d9bb73",
   "metadata": {},
   "outputs": [
    {
     "name": "stdout",
     "output_type": "stream",
     "text": [
      "<class 'int'>\n"
     ]
    }
   ],
   "source": [
    "print (type(i))"
   ]
  },
  {
   "cell_type": "code",
   "execution_count": null,
   "id": "90434295",
   "metadata": {},
   "outputs": [],
   "source": []
  },
  {
   "cell_type": "code",
   "execution_count": 46,
   "id": "58877e26",
   "metadata": {},
   "outputs": [],
   "source": [
    "i2 = int(f)\n",
    "i3 = int(10.896)\n",
    "i4 = int(-5.3)"
   ]
  },
  {
   "cell_type": "code",
   "execution_count": 47,
   "id": "99525f22",
   "metadata": {},
   "outputs": [
    {
     "name": "stdout",
     "output_type": "stream",
     "text": [
      "7 10 -5\n"
     ]
    }
   ],
   "source": [
    "print (i2, i3, i4)"
   ]
  },
  {
   "cell_type": "code",
   "execution_count": 48,
   "id": "1dc42209",
   "metadata": {},
   "outputs": [
    {
     "name": "stdout",
     "output_type": "stream",
     "text": [
      "<class 'int'> <class 'int'> <class 'int'>\n"
     ]
    }
   ],
   "source": [
    "print (type(i2), type(i3), type(i4))"
   ]
  },
  {
   "cell_type": "code",
   "execution_count": null,
   "id": "1f1e511c",
   "metadata": {},
   "outputs": [],
   "source": []
  },
  {
   "cell_type": "code",
   "execution_count": null,
   "id": "d32e22e1",
   "metadata": {},
   "outputs": [],
   "source": [
    "#convert int to float"
   ]
  },
  {
   "cell_type": "code",
   "execution_count": 49,
   "id": "175049bd",
   "metadata": {},
   "outputs": [],
   "source": [
    "a= 10\n",
    "b = float(a)"
   ]
  },
  {
   "cell_type": "code",
   "execution_count": 51,
   "id": "7d595c01",
   "metadata": {},
   "outputs": [
    {
     "name": "stdout",
     "output_type": "stream",
     "text": [
      "10 <class 'int'>\n",
      "<class 'float'>\n"
     ]
    }
   ],
   "source": [
    "print(a,type(a))\n",
    "print (type(b))"
   ]
  },
  {
   "cell_type": "code",
   "execution_count": null,
   "id": "7a5d960a",
   "metadata": {},
   "outputs": [],
   "source": []
  },
  {
   "cell_type": "code",
   "execution_count": 52,
   "id": "f3b66062",
   "metadata": {},
   "outputs": [
    {
     "name": "stdout",
     "output_type": "stream",
     "text": [
      "7\n"
     ]
    }
   ],
   "source": [
    "c = int(7.664)\n",
    "print (c)"
   ]
  },
  {
   "cell_type": "code",
   "execution_count": null,
   "id": "8eb41b9d",
   "metadata": {},
   "outputs": [],
   "source": []
  },
  {
   "cell_type": "code",
   "execution_count": null,
   "id": "9a1e592d",
   "metadata": {},
   "outputs": [],
   "source": [
    "## string to int, and int to string"
   ]
  },
  {
   "cell_type": "code",
   "execution_count": null,
   "id": "14647fd9",
   "metadata": {},
   "outputs": [],
   "source": []
  },
  {
   "cell_type": "code",
   "execution_count": 53,
   "id": "fa5faeaa",
   "metadata": {},
   "outputs": [],
   "source": [
    "s = \"54656\""
   ]
  },
  {
   "cell_type": "code",
   "execution_count": 55,
   "id": "e49e2d3b",
   "metadata": {},
   "outputs": [],
   "source": [
    "i = int (s)"
   ]
  },
  {
   "cell_type": "code",
   "execution_count": 56,
   "id": "8134b155",
   "metadata": {},
   "outputs": [
    {
     "name": "stdout",
     "output_type": "stream",
     "text": [
      "54656 <class 'str'>\n"
     ]
    }
   ],
   "source": [
    "print(i, type(s))"
   ]
  },
  {
   "cell_type": "code",
   "execution_count": 57,
   "id": "124a439c",
   "metadata": {},
   "outputs": [
    {
     "name": "stdout",
     "output_type": "stream",
     "text": [
      "<class 'int'>\n"
     ]
    }
   ],
   "source": [
    "print(type(i))"
   ]
  },
  {
   "cell_type": "code",
   "execution_count": null,
   "id": "5bd94102",
   "metadata": {},
   "outputs": [],
   "source": []
  },
  {
   "cell_type": "code",
   "execution_count": 58,
   "id": "af6e879a",
   "metadata": {},
   "outputs": [],
   "source": [
    "s = '3524str'"
   ]
  },
  {
   "cell_type": "code",
   "execution_count": 59,
   "id": "f57d8c06",
   "metadata": {},
   "outputs": [
    {
     "name": "stdout",
     "output_type": "stream",
     "text": [
      "<class 'str'>\n"
     ]
    }
   ],
   "source": [
    "print(type(s))"
   ]
  },
  {
   "cell_type": "code",
   "execution_count": 60,
   "id": "5de69a31",
   "metadata": {},
   "outputs": [
    {
     "ename": "ValueError",
     "evalue": "invalid literal for int() with base 10: '3524str'",
     "output_type": "error",
     "traceback": [
      "\u001b[1;31m---------------------------------------------------------------------------\u001b[0m",
      "\u001b[1;31mValueError\u001b[0m                                Traceback (most recent call last)",
      "Cell \u001b[1;32mIn[60], line 1\u001b[0m\n\u001b[1;32m----> 1\u001b[0m f \u001b[38;5;241m=\u001b[39m \u001b[38;5;28;43mint\u001b[39;49m\u001b[43m(\u001b[49m\u001b[43ms\u001b[49m\u001b[43m)\u001b[49m\n",
      "\u001b[1;31mValueError\u001b[0m: invalid literal for int() with base 10: '3524str'"
     ]
    }
   ],
   "source": [
    "f = int(s)"
   ]
  },
  {
   "cell_type": "code",
   "execution_count": null,
   "id": "71b64626",
   "metadata": {},
   "outputs": [],
   "source": []
  },
  {
   "cell_type": "code",
   "execution_count": 61,
   "id": "603a4f82",
   "metadata": {},
   "outputs": [],
   "source": [
    "x = 47564\n",
    "s = str(x)"
   ]
  },
  {
   "cell_type": "code",
   "execution_count": 62,
   "id": "7ddba784",
   "metadata": {},
   "outputs": [
    {
     "name": "stdout",
     "output_type": "stream",
     "text": [
      "<class 'int'> <class 'str'>\n"
     ]
    }
   ],
   "source": [
    "print (type(x), type(s))"
   ]
  },
  {
   "cell_type": "code",
   "execution_count": null,
   "id": "24af3700",
   "metadata": {},
   "outputs": [],
   "source": []
  },
  {
   "cell_type": "markdown",
   "id": "4cdc35c2",
   "metadata": {},
   "source": [
    "## convert float to str "
   ]
  },
  {
   "cell_type": "code",
   "execution_count": 63,
   "id": "86171d8d",
   "metadata": {},
   "outputs": [],
   "source": [
    "s2 = str(8.3434)"
   ]
  },
  {
   "cell_type": "code",
   "execution_count": 64,
   "id": "d09e312b",
   "metadata": {},
   "outputs": [
    {
     "data": {
      "text/plain": [
       "'8.3434'"
      ]
     },
     "execution_count": 64,
     "metadata": {},
     "output_type": "execute_result"
    }
   ],
   "source": [
    "s2"
   ]
  },
  {
   "cell_type": "code",
   "execution_count": null,
   "id": "78b17afa",
   "metadata": {},
   "outputs": [],
   "source": []
  },
  {
   "cell_type": "code",
   "execution_count": null,
   "id": "450ff82b",
   "metadata": {},
   "outputs": [],
   "source": []
  },
  {
   "cell_type": "code",
   "execution_count": null,
   "id": "9ff7e7a5",
   "metadata": {},
   "outputs": [],
   "source": [
    "#range of numbers\n",
    "\n",
    "\n",
    "#python has no range in it's numbers\n",
    "#only limitation will of the machine"
   ]
  },
  {
   "cell_type": "code",
   "execution_count": null,
   "id": "d0a737df",
   "metadata": {},
   "outputs": [],
   "source": []
  },
  {
   "cell_type": "markdown",
   "id": "a2d36426",
   "metadata": {},
   "source": [
    "# operators"
   ]
  },
  {
   "cell_type": "code",
   "execution_count": null,
   "id": "4bcf3d19",
   "metadata": {},
   "outputs": [],
   "source": [
    "a = 2+5\n",
    "\n",
    "#addition operator"
   ]
  },
  {
   "cell_type": "code",
   "execution_count": null,
   "id": "8de82dcc",
   "metadata": {},
   "outputs": [],
   "source": []
  },
  {
   "cell_type": "code",
   "execution_count": null,
   "id": "3b4198db",
   "metadata": {},
   "outputs": [],
   "source": [
    "b = 5-4  #subtraction\n",
    "c = 5*2  # Multiplication\n",
    "d = 5/2 # Division\n",
    "e = 5//2 #division but only the interger part\n",
    "g = 5%2 # modulo\n",
    "\n",
    "f = 5**2 # power "
   ]
  },
  {
   "cell_type": "code",
   "execution_count": null,
   "id": "88b3196f",
   "metadata": {},
   "outputs": [],
   "source": []
  },
  {
   "cell_type": "code",
   "execution_count": 65,
   "id": "1dec0266",
   "metadata": {},
   "outputs": [],
   "source": [
    "a = 5/2"
   ]
  },
  {
   "cell_type": "code",
   "execution_count": 66,
   "id": "08768663",
   "metadata": {},
   "outputs": [
    {
     "name": "stdout",
     "output_type": "stream",
     "text": [
      "2.5\n"
     ]
    }
   ],
   "source": [
    "print (a)"
   ]
  },
  {
   "cell_type": "code",
   "execution_count": 68,
   "id": "5a745179",
   "metadata": {},
   "outputs": [
    {
     "name": "stdout",
     "output_type": "stream",
     "text": [
      "<class 'float'>\n"
     ]
    }
   ],
   "source": [
    "print(type(a))"
   ]
  },
  {
   "cell_type": "code",
   "execution_count": null,
   "id": "f9852b59",
   "metadata": {},
   "outputs": [],
   "source": []
  },
  {
   "cell_type": "code",
   "execution_count": 69,
   "id": "9c2e62c8",
   "metadata": {},
   "outputs": [],
   "source": [
    "a = 5//2"
   ]
  },
  {
   "cell_type": "code",
   "execution_count": 70,
   "id": "00cb8dd0",
   "metadata": {},
   "outputs": [
    {
     "name": "stdout",
     "output_type": "stream",
     "text": [
      "<class 'int'> 2\n"
     ]
    }
   ],
   "source": [
    "print (type (a), a)"
   ]
  },
  {
   "cell_type": "code",
   "execution_count": null,
   "id": "d4181bce",
   "metadata": {},
   "outputs": [],
   "source": []
  },
  {
   "cell_type": "code",
   "execution_count": 71,
   "id": "1b8fb065",
   "metadata": {},
   "outputs": [],
   "source": [
    "a = 10 **(1/2)"
   ]
  },
  {
   "cell_type": "code",
   "execution_count": 72,
   "id": "22da713f",
   "metadata": {},
   "outputs": [
    {
     "name": "stdout",
     "output_type": "stream",
     "text": [
      "3.1622776601683795\n"
     ]
    }
   ],
   "source": [
    "print (a) # Square root"
   ]
  },
  {
   "cell_type": "code",
   "execution_count": null,
   "id": "4dc66952",
   "metadata": {},
   "outputs": [],
   "source": []
  },
  {
   "cell_type": "markdown",
   "id": "6331c851",
   "metadata": {},
   "source": [
    "# Programming Fundamentals 2\n",
    "\n",
    "### Print statement - args, end, sep"
   ]
  },
  {
   "cell_type": "code",
   "execution_count": null,
   "id": "f1c10a79",
   "metadata": {},
   "outputs": [],
   "source": []
  },
  {
   "cell_type": "code",
   "execution_count": 1,
   "id": "4273e8df",
   "metadata": {},
   "outputs": [
    {
     "name": "stdout",
     "output_type": "stream",
     "text": [
      "hellow world\n"
     ]
    }
   ],
   "source": [
    "print('hellow world')"
   ]
  },
  {
   "cell_type": "code",
   "execution_count": 3,
   "id": "604d53ae",
   "metadata": {},
   "outputs": [
    {
     "name": "stdout",
     "output_type": "stream",
     "text": [
      "hello world hi  there\n",
      "python is amazing\n"
     ]
    }
   ],
   "source": [
    "print ('hello', 'world', 'hi', ' there')\n",
    "print ('python is amazing')"
   ]
  },
  {
   "cell_type": "code",
   "execution_count": null,
   "id": "4ccfea53",
   "metadata": {},
   "outputs": [],
   "source": []
  },
  {
   "cell_type": "code",
   "execution_count": 5,
   "id": "aeaeecca",
   "metadata": {},
   "outputs": [
    {
     "name": "stdout",
     "output_type": "stream",
     "text": [
      "hello=world=hi= there\n",
      "python is amazing\n"
     ]
    }
   ],
   "source": [
    "print ('hello', 'world', 'hi', ' there', sep= '=')\n",
    "\n",
    "#by default the vale of sep= ' '\n",
    "\n",
    "print ('python is amazing')"
   ]
  },
  {
   "cell_type": "code",
   "execution_count": null,
   "id": "45e494db",
   "metadata": {},
   "outputs": [],
   "source": []
  },
  {
   "cell_type": "code",
   "execution_count": 6,
   "id": "7fe6fa20",
   "metadata": {},
   "outputs": [
    {
     "name": "stdout",
     "output_type": "stream",
     "text": [
      "hello world hi  there and python is amazing\n"
     ]
    }
   ],
   "source": [
    "print ('hello', 'world', 'hi', ' there', end=' and ')\n",
    "\n",
    "#by default the value of end = '\\n' i.e it is in the end of the statement\n",
    "\n",
    "print ('python is amazing')"
   ]
  },
  {
   "cell_type": "code",
   "execution_count": null,
   "id": "2ef19ec5",
   "metadata": {},
   "outputs": [],
   "source": []
  },
  {
   "cell_type": "code",
   "execution_count": 7,
   "id": "fab162bf",
   "metadata": {},
   "outputs": [
    {
     "name": "stdout",
     "output_type": "stream",
     "text": [
      "hello+world+hi+ there and python is amazing\n"
     ]
    }
   ],
   "source": [
    "print ('hello', 'world', 'hi', ' there', sep='+', end=' and ')\n",
    "print ('python is amazing')"
   ]
  },
  {
   "cell_type": "code",
   "execution_count": null,
   "id": "4247976e",
   "metadata": {},
   "outputs": [],
   "source": []
  },
  {
   "cell_type": "markdown",
   "id": "28ff53a1",
   "metadata": {},
   "source": [
    "## Multiline strings, comments "
   ]
  },
  {
   "cell_type": "code",
   "execution_count": null,
   "id": "b893c8e7",
   "metadata": {},
   "outputs": [],
   "source": []
  },
  {
   "cell_type": "code",
   "execution_count": 8,
   "id": "3527a5b3",
   "metadata": {},
   "outputs": [],
   "source": [
    "a = 'hello world'\n",
    "b = 'hello there'"
   ]
  },
  {
   "cell_type": "code",
   "execution_count": 9,
   "id": "0ab6a055",
   "metadata": {},
   "outputs": [
    {
     "name": "stdout",
     "output_type": "stream",
     "text": [
      "hello world hello there\n"
     ]
    }
   ],
   "source": [
    "print (a, b)"
   ]
  },
  {
   "cell_type": "code",
   "execution_count": 10,
   "id": "2d5436e4",
   "metadata": {},
   "outputs": [
    {
     "name": "stdout",
     "output_type": "stream",
     "text": [
      "<class 'str'> <class 'str'>\n"
     ]
    }
   ],
   "source": [
    "print (type(a), type(b))"
   ]
  },
  {
   "cell_type": "code",
   "execution_count": null,
   "id": "c6523ac1",
   "metadata": {},
   "outputs": [],
   "source": []
  },
  {
   "cell_type": "code",
   "execution_count": 13,
   "id": "936bc610",
   "metadata": {},
   "outputs": [
    {
     "name": "stdout",
     "output_type": "stream",
     "text": [
      "\"Here is a paragraph about Python:\n",
      "Python is a popular general-purpose programming language. It is used for web development, software development, mathematics, system scripting, and more. Python is an interpreted language, which means that it does not need to be compiled before it can be run. This makes Python a good choice for rapid prototyping and development. Python is also a very versatile language, and it can be used for a wide variety of tasks.\n",
      "Here are some of the key features of Python:\n",
      "Easy to learn:\n",
      "Python is a relatively easy language to learn, especially for beginners. It has a simple syntax and a large number of libraries and tools available.\n"
     ]
    }
   ],
   "source": [
    "print (\"\"\"\"Here is a paragraph about Python:\n",
    "Python is a popular general-purpose programming language. It is used for web development, software development, mathematics, system scripting, and more. Python is an interpreted language, which means that it does not need to be compiled before it can be run. This makes Python a good choice for rapid prototyping and development. Python is also a very versatile language, and it can be used for a wide variety of tasks.\n",
    "Here are some of the key features of Python:\n",
    "Easy to learn:\n",
    "Python is a relatively easy language to learn, especially for beginners. It has a simple syntax and a large number of libraries and tools available.\"\"\")"
   ]
  },
  {
   "cell_type": "code",
   "execution_count": null,
   "id": "e5bbd9e6",
   "metadata": {},
   "outputs": [],
   "source": []
  },
  {
   "cell_type": "code",
   "execution_count": 14,
   "id": "ace8cbba",
   "metadata": {},
   "outputs": [],
   "source": [
    "a = \"\"\"Here is a paragraph about Python:\n",
    "Python is a popular general-purpose programming language. It is used for web development, software development, mathematics, system scripting, and more. Python is an interpreted language, which means that it does not need to be compiled before it can be run. This makes Python a good choice for rapid prototyping and development. Python is also a very versatile language, and it can be used for a wide variety of tasks.\n",
    "Here are some of the key features of Python:\n",
    "Easy to learn:\n",
    "Python is a relatively easy language to learn, especially for beginners. It has a simple syntax and a large number of libraries and tools available.\"\"\""
   ]
  },
  {
   "cell_type": "code",
   "execution_count": 15,
   "id": "48ad1dd9",
   "metadata": {},
   "outputs": [
    {
     "name": "stdout",
     "output_type": "stream",
     "text": [
      "Here is a paragraph about Python:\n",
      "Python is a popular general-purpose programming language. It is used for web development, software development, mathematics, system scripting, and more. Python is an interpreted language, which means that it does not need to be compiled before it can be run. This makes Python a good choice for rapid prototyping and development. Python is also a very versatile language, and it can be used for a wide variety of tasks.\n",
      "Here are some of the key features of Python:\n",
      "Easy to learn:\n",
      "Python is a relatively easy language to learn, especially for beginners. It has a simple syntax and a large number of libraries and tools available.\n"
     ]
    }
   ],
   "source": [
    "print (a)"
   ]
  },
  {
   "cell_type": "code",
   "execution_count": null,
   "id": "8c949c87",
   "metadata": {},
   "outputs": [],
   "source": []
  },
  {
   "cell_type": "code",
   "execution_count": null,
   "id": "b1a7e9cb",
   "metadata": {},
   "outputs": [],
   "source": [
    "## need to use triple quotes to print a paragraph ( \"\"\" \"\"\" ; or ''' ''')"
   ]
  },
  {
   "cell_type": "code",
   "execution_count": null,
   "id": "c9a05e40",
   "metadata": {},
   "outputs": [],
   "source": []
  },
  {
   "cell_type": "code",
   "execution_count": null,
   "id": "53e3a17f",
   "metadata": {},
   "outputs": [],
   "source": []
  },
  {
   "cell_type": "code",
   "execution_count": null,
   "id": "92224fda",
   "metadata": {},
   "outputs": [],
   "source": [
    "## this below is called as multiline comment "
   ]
  },
  {
   "cell_type": "code",
   "execution_count": 16,
   "id": "844e2248",
   "metadata": {},
   "outputs": [
    {
     "data": {
      "text/plain": [
       "'\\nthis is some random text\\nover here\\nit could be anything\\n'"
      ]
     },
     "execution_count": 16,
     "metadata": {},
     "output_type": "execute_result"
    }
   ],
   "source": [
    "'''\n",
    "this is some random text\n",
    "over here\n",
    "it could be anything\n",
    "'''"
   ]
  },
  {
   "cell_type": "code",
   "execution_count": null,
   "id": "9409a3a0",
   "metadata": {},
   "outputs": [],
   "source": []
  },
  {
   "cell_type": "markdown",
   "id": "3f125569",
   "metadata": {},
   "source": [
    "# Branching\n"
   ]
  },
  {
   "cell_type": "code",
   "execution_count": null,
   "id": "6c01118f",
   "metadata": {},
   "outputs": [],
   "source": []
  },
  {
   "cell_type": "code",
   "execution_count": 17,
   "id": "a8a72ffc",
   "metadata": {},
   "outputs": [],
   "source": [
    "age = 10"
   ]
  },
  {
   "cell_type": "code",
   "execution_count": 18,
   "id": "c0692281",
   "metadata": {},
   "outputs": [
    {
     "name": "stdout",
     "output_type": "stream",
     "text": [
      "not eligible\n"
     ]
    }
   ],
   "source": [
    "if age >=18:\n",
    "    print ('eligible to vote')    #the space left for the print is called induntation\n",
    "else:\n",
    "    print ('not eligible')"
   ]
  },
  {
   "cell_type": "code",
   "execution_count": null,
   "id": "a48e8082",
   "metadata": {},
   "outputs": [],
   "source": []
  },
  {
   "cell_type": "code",
   "execution_count": 19,
   "id": "62a7a40b",
   "metadata": {},
   "outputs": [
    {
     "name": "stdout",
     "output_type": "stream",
     "text": [
      "eligible to vote\n",
      "can be alowed inside\n"
     ]
    }
   ],
   "source": [
    "age = 49\n",
    "\n",
    "if age >=18:\n",
    "    print ('eligible to vote')\n",
    "    print ('can be alowed inside')\n",
    "else:\n",
    "    print ('not eligible')"
   ]
  },
  {
   "cell_type": "code",
   "execution_count": null,
   "id": "1a63805c",
   "metadata": {},
   "outputs": [],
   "source": []
  },
  {
   "cell_type": "markdown",
   "id": "b1d543b8",
   "metadata": {},
   "source": [
    "# elif"
   ]
  },
  {
   "cell_type": "code",
   "execution_count": null,
   "id": "4ee0fefe",
   "metadata": {},
   "outputs": [],
   "source": []
  },
  {
   "cell_type": "code",
   "execution_count": 21,
   "id": "a31fe95b",
   "metadata": {},
   "outputs": [
    {
     "name": "stdout",
     "output_type": "stream",
     "text": [
      "above age of 10, still not eligible to vote\n"
     ]
    }
   ],
   "source": [
    "age = 15\n",
    "\n",
    "if age >=18:\n",
    "    print ('eligible to vote')\n",
    "    print ('can be alowed inside')\n",
    "    \n",
    "elif age >=10:\n",
    "    print ('above age of 10, still not eligible to vote')\n",
    "    \n",
    "else:\n",
    "    print ('not eligible')"
   ]
  },
  {
   "cell_type": "code",
   "execution_count": null,
   "id": "6d97de15",
   "metadata": {},
   "outputs": [],
   "source": []
  },
  {
   "cell_type": "code",
   "execution_count": 22,
   "id": "db142ded",
   "metadata": {},
   "outputs": [
    {
     "name": "stdout",
     "output_type": "stream",
     "text": [
      "not eligible\n"
     ]
    }
   ],
   "source": [
    "age = 9\n",
    "\n",
    "if age >=18:\n",
    "    print ('eligible to vote')\n",
    "    print ('can be alowed inside')\n",
    "    \n",
    "elif age >=10:\n",
    "    print ('above age of 10, still not eligible to vote')\n",
    "    \n",
    "else:\n",
    "    print ('not eligible')"
   ]
  },
  {
   "cell_type": "code",
   "execution_count": null,
   "id": "f792ebf1",
   "metadata": {},
   "outputs": [],
   "source": []
  },
  {
   "cell_type": "code",
   "execution_count": 24,
   "id": "17668da1",
   "metadata": {},
   "outputs": [
    {
     "name": "stdout",
     "output_type": "stream",
     "text": [
      "Cannot vote, above age limit\n"
     ]
    }
   ],
   "source": [
    "age = 92\n",
    "\n",
    "if age >=90:\n",
    "    print ('Cannot vote, above age limit')\n",
    "elif age >= 18:\n",
    "    print ('Eligible to vote')\n",
    "else:\n",
    "    print ('Not Eligible to vote')"
   ]
  },
  {
   "cell_type": "code",
   "execution_count": null,
   "id": "512c1a31",
   "metadata": {},
   "outputs": [],
   "source": []
  },
  {
   "cell_type": "code",
   "execution_count": 27,
   "id": "ef23ffa4",
   "metadata": {},
   "outputs": [
    {
     "name": "stdout",
     "output_type": "stream",
     "text": [
      "Cannot vote, above age limit\n",
      "take an umbrella\n"
     ]
    }
   ],
   "source": [
    "age = 92\n",
    "weather = 'rainy'\n",
    "\n",
    "if age >=90:\n",
    "    print ('Cannot vote, above age limit')\n",
    "    \n",
    "    if weather == 'rainy':\n",
    "        print ('take an umbrella')\n",
    "\n",
    "elif age >= 18:\n",
    "    print ('Eligible to vote')\n",
    "else:\n",
    "    print ('Not Eligible to vote')"
   ]
  },
  {
   "cell_type": "code",
   "execution_count": null,
   "id": "50f7a5ca",
   "metadata": {},
   "outputs": [],
   "source": []
  },
  {
   "cell_type": "markdown",
   "id": "21e64e8a",
   "metadata": {},
   "source": [
    "# and or"
   ]
  },
  {
   "cell_type": "code",
   "execution_count": null,
   "id": "5dfd8dda",
   "metadata": {},
   "outputs": [],
   "source": []
  },
  {
   "cell_type": "code",
   "execution_count": 28,
   "id": "7995b08a",
   "metadata": {},
   "outputs": [
    {
     "name": "stdout",
     "output_type": "stream",
     "text": [
      "not allowed\n"
     ]
    }
   ],
   "source": [
    "batch ='java'\n",
    "org = 'scaler'\n",
    "\n",
    "if org == 'scaler' and batch == 'python':\n",
    "    print ('allowed to the class')\n",
    "else:\n",
    "    print ('not allowed')"
   ]
  },
  {
   "cell_type": "code",
   "execution_count": null,
   "id": "8f4544c1",
   "metadata": {},
   "outputs": [],
   "source": []
  },
  {
   "cell_type": "code",
   "execution_count": 29,
   "id": "6a19514e",
   "metadata": {},
   "outputs": [
    {
     "name": "stdout",
     "output_type": "stream",
     "text": [
      "allowed\n"
     ]
    }
   ],
   "source": [
    "if org == \"scaler\" or batch == 'python':\n",
    "    print ('allowed')\n",
    "else:\n",
    "    print ('not allowed')"
   ]
  },
  {
   "cell_type": "code",
   "execution_count": null,
   "id": "8f52fa53",
   "metadata": {},
   "outputs": [],
   "source": []
  },
  {
   "cell_type": "code",
   "execution_count": 31,
   "id": "be2c08d5",
   "metadata": {},
   "outputs": [
    {
     "name": "stdout",
     "output_type": "stream",
     "text": [
      "scaler\n"
     ]
    }
   ],
   "source": [
    "org = input()"
   ]
  },
  {
   "cell_type": "code",
   "execution_count": 32,
   "id": "50b0b8d3",
   "metadata": {},
   "outputs": [
    {
     "name": "stdout",
     "output_type": "stream",
     "text": [
      "allowed\n"
     ]
    }
   ],
   "source": [
    "if org == \"scaler\" or batch == 'python':\n",
    "    print ('allowed')\n",
    "else:\n",
    "    print ('not allowed')"
   ]
  },
  {
   "cell_type": "code",
   "execution_count": 33,
   "id": "aa479ed3",
   "metadata": {},
   "outputs": [
    {
     "name": "stdout",
     "output_type": "stream",
     "text": [
      "unacademy\n",
      "not allowed\n"
     ]
    }
   ],
   "source": [
    "org = input()\n",
    "\n",
    "if org == \"scaler\" or batch == 'python':\n",
    "    print ('allowed')\n",
    "else:\n",
    "    print ('not allowed')"
   ]
  },
  {
   "cell_type": "code",
   "execution_count": null,
   "id": "59fee3cd",
   "metadata": {},
   "outputs": [],
   "source": []
  },
  {
   "cell_type": "code",
   "execution_count": 17,
   "id": "7d3a091f",
   "metadata": {},
   "outputs": [
    {
     "name": "stdout",
     "output_type": "stream",
     "text": [
      "scaler\n",
      "java\n",
      "not allowed\n"
     ]
    }
   ],
   "source": [
    "org = input()\n",
    "course = input()\n",
    "\n",
    "if org == \"scaler\" and course == 'python':\n",
    "    print ('allowed to the class with all access')\n",
    "    \n",
    "elif org == \"unac\" and course == 'java':\n",
    "    print ('Allowed with limited access')\n",
    "\n",
    "else:\n",
    "    print ('not allowed')"
   ]
  },
  {
   "cell_type": "code",
   "execution_count": null,
   "id": "3965153b",
   "metadata": {},
   "outputs": [],
   "source": []
  },
  {
   "cell_type": "code",
   "execution_count": null,
   "id": "0a7d3e1c",
   "metadata": {},
   "outputs": [],
   "source": []
  },
  {
   "cell_type": "markdown",
   "id": "3a14a214",
   "metadata": {},
   "source": [
    "# Loops\n",
    "\n",
    "\n",
    "### while loop"
   ]
  },
  {
   "cell_type": "code",
   "execution_count": null,
   "id": "e70b1ee3",
   "metadata": {},
   "outputs": [],
   "source": []
  },
  {
   "cell_type": "code",
   "execution_count": 37,
   "id": "68b9a413",
   "metadata": {},
   "outputs": [
    {
     "name": "stdout",
     "output_type": "stream",
     "text": [
      "1 2 3 4 5 6 7 8 9 10 "
     ]
    }
   ],
   "source": [
    "counter = 1\n",
    "\n",
    "while counter <= 10:\n",
    "    print (counter, end= ' ')\n",
    "    counter = counter +1"
   ]
  },
  {
   "cell_type": "code",
   "execution_count": null,
   "id": "9fbc44df",
   "metadata": {},
   "outputs": [],
   "source": []
  },
  {
   "cell_type": "code",
   "execution_count": 38,
   "id": "f8620e25",
   "metadata": {},
   "outputs": [],
   "source": [
    "a = 5\n",
    "\n",
    "a = a + 5"
   ]
  },
  {
   "cell_type": "code",
   "execution_count": 39,
   "id": "ded4ff9d",
   "metadata": {},
   "outputs": [],
   "source": [
    "a = 2\n",
    "# shorthand\n",
    "\n",
    "a += 5"
   ]
  },
  {
   "cell_type": "code",
   "execution_count": 40,
   "id": "2d24f4c1",
   "metadata": {},
   "outputs": [
    {
     "name": "stdout",
     "output_type": "stream",
     "text": [
      "7\n"
     ]
    }
   ],
   "source": [
    "print (a)"
   ]
  },
  {
   "cell_type": "code",
   "execution_count": null,
   "id": "94e47c4c",
   "metadata": {},
   "outputs": [],
   "source": []
  },
  {
   "cell_type": "code",
   "execution_count": null,
   "id": "67e7542e",
   "metadata": {},
   "outputs": [],
   "source": []
  },
  {
   "cell_type": "code",
   "execution_count": 2,
   "id": "167acb2f",
   "metadata": {},
   "outputs": [
    {
     "name": "stdout",
     "output_type": "stream",
     "text": [
      "1 2 3 4 5 6 7 8 9 10 "
     ]
    }
   ],
   "source": [
    "counter =1\n",
    "\n",
    "while counter <=10:\n",
    "    print (counter, end= ' ')\n",
    "    counter = counter +1"
   ]
  },
  {
   "cell_type": "code",
   "execution_count": null,
   "id": "8f739b3c",
   "metadata": {},
   "outputs": [],
   "source": []
  },
  {
   "cell_type": "code",
   "execution_count": 21,
   "id": "f2abbf09",
   "metadata": {},
   "outputs": [
    {
     "name": "stdout",
     "output_type": "stream",
     "text": [
      "34\n",
      "34 39 44 49 54 59 64 69 74 79 84 89 94 99 "
     ]
    }
   ],
   "source": [
    "counter = int(input())\n",
    "\n",
    "while counter <= 100:\n",
    "    print (counter, end= ' ')\n",
    "    counter += 5\n",
    "    "
   ]
  },
  {
   "cell_type": "code",
   "execution_count": null,
   "id": "9897ec76",
   "metadata": {},
   "outputs": [],
   "source": []
  },
  {
   "cell_type": "code",
   "execution_count": null,
   "id": "751e5c3c",
   "metadata": {},
   "outputs": [],
   "source": []
  },
  {
   "cell_type": "markdown",
   "id": "49145a94",
   "metadata": {},
   "source": [
    "# Stair Pattern"
   ]
  },
  {
   "cell_type": "code",
   "execution_count": null,
   "id": "ede67b6c",
   "metadata": {},
   "outputs": [],
   "source": [
    "# for N = 4\n",
    "# we need ouput as \n",
    "\n",
    "*\n",
    "**\n",
    "***\n",
    "****"
   ]
  },
  {
   "cell_type": "code",
   "execution_count": null,
   "id": "14b8b237",
   "metadata": {},
   "outputs": [],
   "source": []
  },
  {
   "cell_type": "code",
   "execution_count": 22,
   "id": "b4dc6500",
   "metadata": {},
   "outputs": [
    {
     "name": "stdout",
     "output_type": "stream",
     "text": [
      "4\n"
     ]
    }
   ],
   "source": [
    "N = int(input ())"
   ]
  },
  {
   "cell_type": "code",
   "execution_count": 27,
   "id": "5834bc9b",
   "metadata": {},
   "outputs": [
    {
     "name": "stdout",
     "output_type": "stream",
     "text": [
      "*\n",
      "**\n",
      "***\n",
      "****\n"
     ]
    }
   ],
   "source": [
    "i = 1\n",
    "\n",
    "while i <= N:\n",
    "    print ('*'* i)\n",
    "    i = i+1\n"
   ]
  },
  {
   "cell_type": "code",
   "execution_count": null,
   "id": "16d0101d",
   "metadata": {},
   "outputs": [],
   "source": []
  },
  {
   "cell_type": "code",
   "execution_count": null,
   "id": "ee5e5602",
   "metadata": {},
   "outputs": [],
   "source": []
  },
  {
   "cell_type": "markdown",
   "id": "b9e353c3",
   "metadata": {},
   "source": [
    "# Range method"
   ]
  },
  {
   "cell_type": "code",
   "execution_count": 28,
   "id": "3039d78d",
   "metadata": {},
   "outputs": [
    {
     "data": {
      "text/plain": [
       "range(0, 5)"
      ]
     },
     "execution_count": 28,
     "metadata": {},
     "output_type": "execute_result"
    }
   ],
   "source": [
    "range (5)"
   ]
  },
  {
   "cell_type": "code",
   "execution_count": 29,
   "id": "e9dbe12f",
   "metadata": {},
   "outputs": [
    {
     "name": "stdout",
     "output_type": "stream",
     "text": [
      "<class 'range'>\n"
     ]
    }
   ],
   "source": [
    "print (range)"
   ]
  },
  {
   "cell_type": "code",
   "execution_count": 30,
   "id": "e220e5a6",
   "metadata": {},
   "outputs": [
    {
     "data": {
      "text/plain": [
       "[0, 1, 2, 3, 4]"
      ]
     },
     "execution_count": 30,
     "metadata": {},
     "output_type": "execute_result"
    }
   ],
   "source": [
    "list(range (5))"
   ]
  },
  {
   "cell_type": "code",
   "execution_count": 31,
   "id": "91ea0b1d",
   "metadata": {},
   "outputs": [
    {
     "data": {
      "text/plain": [
       "[2, 3, 4, 5, 6, 7, 8, 9, 10]"
      ]
     },
     "execution_count": 31,
     "metadata": {},
     "output_type": "execute_result"
    }
   ],
   "source": [
    "list(range (2, 11))"
   ]
  },
  {
   "cell_type": "code",
   "execution_count": 32,
   "id": "4e95a52b",
   "metadata": {},
   "outputs": [
    {
     "data": {
      "text/plain": [
       "[1, 3, 5, 7, 9]"
      ]
     },
     "execution_count": 32,
     "metadata": {},
     "output_type": "execute_result"
    }
   ],
   "source": [
    "list (range (1,11,2))"
   ]
  },
  {
   "cell_type": "code",
   "execution_count": null,
   "id": "1fb6b6e1",
   "metadata": {},
   "outputs": [],
   "source": []
  },
  {
   "cell_type": "markdown",
   "id": "29c981d6",
   "metadata": {},
   "source": [
    "# for loop\n",
    "\n",
    "#### it allows is to loop/iterate over a range"
   ]
  },
  {
   "cell_type": "code",
   "execution_count": null,
   "id": "9bdccac4",
   "metadata": {},
   "outputs": [],
   "source": [
    "# print odd numbers from 1 to 10"
   ]
  },
  {
   "cell_type": "code",
   "execution_count": null,
   "id": "f6c46055",
   "metadata": {},
   "outputs": [],
   "source": []
  },
  {
   "cell_type": "code",
   "execution_count": 34,
   "id": "71676a07",
   "metadata": {},
   "outputs": [
    {
     "name": "stdout",
     "output_type": "stream",
     "text": [
      "1 3 5 7 9 "
     ]
    }
   ],
   "source": [
    "for i in range (1,11,2):\n",
    "    print(i, end= ' ')"
   ]
  },
  {
   "cell_type": "code",
   "execution_count": null,
   "id": "79c997b9",
   "metadata": {},
   "outputs": [],
   "source": []
  },
  {
   "cell_type": "code",
   "execution_count": null,
   "id": "70447af0",
   "metadata": {},
   "outputs": [],
   "source": [
    "# print the square nos from 1 to 10"
   ]
  },
  {
   "cell_type": "code",
   "execution_count": null,
   "id": "ee166aa2",
   "metadata": {},
   "outputs": [],
   "source": []
  },
  {
   "cell_type": "code",
   "execution_count": 35,
   "id": "401c831c",
   "metadata": {},
   "outputs": [
    {
     "name": "stdout",
     "output_type": "stream",
     "text": [
      "1 4 9 16 25 36 49 64 81 100 "
     ]
    }
   ],
   "source": [
    "for i in range (1, 11):\n",
    "    print (i*i, end= ' ')"
   ]
  },
  {
   "cell_type": "code",
   "execution_count": null,
   "id": "99d2d189",
   "metadata": {},
   "outputs": [],
   "source": [
    "#or"
   ]
  },
  {
   "cell_type": "code",
   "execution_count": 36,
   "id": "9ce9faa3",
   "metadata": {},
   "outputs": [
    {
     "name": "stdout",
     "output_type": "stream",
     "text": [
      "0 1 4 9 16 25 36 49 64 81 100 "
     ]
    }
   ],
   "source": [
    "for i in range (0,11):\n",
    "    print (i**2, end= ' ')"
   ]
  },
  {
   "cell_type": "code",
   "execution_count": null,
   "id": "9ba1916f",
   "metadata": {},
   "outputs": [],
   "source": []
  },
  {
   "cell_type": "code",
   "execution_count": null,
   "id": "ec67a074",
   "metadata": {},
   "outputs": [],
   "source": [
    "# print the cubes of all odd numbers from 10 to 1. (reverse)"
   ]
  },
  {
   "cell_type": "code",
   "execution_count": null,
   "id": "1f5cdc41",
   "metadata": {},
   "outputs": [],
   "source": []
  },
  {
   "cell_type": "code",
   "execution_count": 38,
   "id": "fa846525",
   "metadata": {},
   "outputs": [
    {
     "name": "stdout",
     "output_type": "stream",
     "text": [
      "729 343 125 27 1 "
     ]
    }
   ],
   "source": [
    "for i in range (9, 0, -2):\n",
    "    print (i ** 3, end= ' ')"
   ]
  },
  {
   "cell_type": "code",
   "execution_count": null,
   "id": "e0722232",
   "metadata": {},
   "outputs": [],
   "source": []
  },
  {
   "cell_type": "code",
   "execution_count": 40,
   "id": "4ff9e3fb",
   "metadata": {},
   "outputs": [
    {
     "data": {
      "text/plain": [
       "[10, 8, 6, 4, 2]"
      ]
     },
     "execution_count": 40,
     "metadata": {},
     "output_type": "execute_result"
    }
   ],
   "source": [
    "list(range (10, 1, -2))"
   ]
  },
  {
   "cell_type": "code",
   "execution_count": null,
   "id": "3f7014dd",
   "metadata": {},
   "outputs": [],
   "source": []
  },
  {
   "cell_type": "code",
   "execution_count": null,
   "id": "d282b927",
   "metadata": {},
   "outputs": [],
   "source": []
  },
  {
   "cell_type": "code",
   "execution_count": null,
   "id": "3cd43464",
   "metadata": {},
   "outputs": [],
   "source": []
  },
  {
   "cell_type": "markdown",
   "id": "be0c44a5",
   "metadata": {},
   "source": [
    "# markdown\n",
    "\n",
    "all HTML tags are valid in it You can use these in the chat as well.\n",
    "The cels in jupyter are code cells\n",
    "Select a cell, press esc, press m. This will change it to markdown cell."
   ]
  },
  {
   "cell_type": "markdown",
   "id": "7621ee8a",
   "metadata": {},
   "source": [
    "# Problem - Sum of Digit\n",
    "\n",
    "input = 749\n",
    "output = 20"
   ]
  },
  {
   "cell_type": "code",
   "execution_count": null,
   "id": "8a1bb79f",
   "metadata": {},
   "outputs": [],
   "source": []
  },
  {
   "cell_type": "code",
   "execution_count": null,
   "id": "4fc1ba25",
   "metadata": {},
   "outputs": [],
   "source": [
    "n = int(input())\n",
    "sum = 0\n",
    "\n",
    "while n>0:\n",
    "    rem = n % 10\n",
    "    sum = sum + rem\n",
    "    n = n // 10\n",
    "    \n",
    "print (sum)"
   ]
  },
  {
   "cell_type": "code",
   "execution_count": 1,
   "id": "342c53a2",
   "metadata": {},
   "outputs": [
    {
     "name": "stdout",
     "output_type": "stream",
     "text": [
      "1234\n"
     ]
    }
   ],
   "source": [
    "n = int(input())"
   ]
  },
  {
   "cell_type": "code",
   "execution_count": 2,
   "id": "efe20317",
   "metadata": {},
   "outputs": [
    {
     "name": "stdout",
     "output_type": "stream",
     "text": [
      "10\n"
     ]
    }
   ],
   "source": [
    "sum = 0\n",
    "\n",
    "while n>0:\n",
    "    rem = n % 10\n",
    "    sum = sum + rem\n",
    "    n= n // 10\n",
    "    \n",
    "print (sum)"
   ]
  },
  {
   "cell_type": "code",
   "execution_count": null,
   "id": "db8b668e",
   "metadata": {},
   "outputs": [],
   "source": []
  },
  {
   "cell_type": "markdown",
   "id": "f65a034e",
   "metadata": {},
   "source": [
    "# rough work"
   ]
  },
  {
   "cell_type": "code",
   "execution_count": 6,
   "id": "73ca2b1c",
   "metadata": {},
   "outputs": [
    {
     "name": "stdout",
     "output_type": "stream",
     "text": [
      "1\n",
      "2\n",
      "3\n",
      "4\n"
     ]
    }
   ],
   "source": [
    "n = 5\n",
    "i = 1\n",
    "\n",
    "for i in range (1,n,1):\n",
    "    print (i)\n"
   ]
  },
  {
   "cell_type": "code",
   "execution_count": null,
   "id": "c879669b",
   "metadata": {},
   "outputs": [],
   "source": []
  },
  {
   "cell_type": "code",
   "execution_count": 9,
   "id": "fe86a605",
   "metadata": {},
   "outputs": [
    {
     "name": "stdout",
     "output_type": "stream",
     "text": [
      "*\n"
     ]
    }
   ],
   "source": [
    "print ('*')"
   ]
  },
  {
   "cell_type": "code",
   "execution_count": 10,
   "id": "a1f05593",
   "metadata": {},
   "outputs": [
    {
     "name": "stdout",
     "output_type": "stream",
     "text": [
      "*****\n"
     ]
    }
   ],
   "source": [
    "n = 5\n",
    "print ('*' *n)"
   ]
  },
  {
   "cell_type": "code",
   "execution_count": null,
   "id": "f1139800",
   "metadata": {},
   "outputs": [],
   "source": []
  },
  {
   "cell_type": "code",
   "execution_count": 11,
   "id": "eb74b618",
   "metadata": {},
   "outputs": [
    {
     "name": "stdout",
     "output_type": "stream",
     "text": [
      "*\n",
      "*\n",
      "*\n",
      "*\n",
      "*\n"
     ]
    }
   ],
   "source": [
    "n = 5\n",
    "for i in range (n):\n",
    "    print ('*')"
   ]
  },
  {
   "cell_type": "code",
   "execution_count": null,
   "id": "fa5f95f1",
   "metadata": {},
   "outputs": [],
   "source": []
  },
  {
   "cell_type": "code",
   "execution_count": 13,
   "id": "b8c61703",
   "metadata": {},
   "outputs": [
    {
     "name": "stdout",
     "output_type": "stream",
     "text": [
      "*****"
     ]
    }
   ],
   "source": [
    "n = 5 \n",
    "\n",
    "for i in range (n):\n",
    "    print ('*', end= '')"
   ]
  },
  {
   "cell_type": "code",
   "execution_count": null,
   "id": "cbbeb385",
   "metadata": {},
   "outputs": [],
   "source": []
  },
  {
   "cell_type": "code",
   "execution_count": 15,
   "id": "3444b726",
   "metadata": {},
   "outputs": [
    {
     "name": "stdout",
     "output_type": "stream",
     "text": [
      "*************************"
     ]
    }
   ],
   "source": [
    "n = 5 \n",
    "\n",
    "for i in range(n):\n",
    "    for i in range (n):\n",
    "        print ('*', end= '')"
   ]
  },
  {
   "cell_type": "code",
   "execution_count": null,
   "id": "c5ab4eea",
   "metadata": {},
   "outputs": [],
   "source": []
  },
  {
   "cell_type": "code",
   "execution_count": 17,
   "id": "d101901b",
   "metadata": {},
   "outputs": [
    {
     "name": "stdout",
     "output_type": "stream",
     "text": [
      "* \n",
      "* * \n",
      "* * * \n",
      "* * * * \n",
      "* * * * * \n"
     ]
    }
   ],
   "source": [
    "n = 5\n",
    "for i in range(n):\n",
    "    for j in range(i+1):\n",
    "        print('*', end= ' ')\n",
    "    print()"
   ]
  },
  {
   "cell_type": "code",
   "execution_count": null,
   "id": "e61306e6",
   "metadata": {},
   "outputs": [],
   "source": []
  },
  {
   "cell_type": "code",
   "execution_count": 19,
   "id": "6c9b1f2c",
   "metadata": {},
   "outputs": [
    {
     "name": "stdout",
     "output_type": "stream",
     "text": [
      "Enter the value of N: 12\n",
      "1 \n",
      "1 2 \n",
      "1 2 3 \n",
      "1 2 3 4 \n",
      "1 2 3 4 5 \n",
      "1 2 3 4 5 6 \n",
      "1 2 3 4 5 6 7 \n",
      "1 2 3 4 5 6 7 8 \n",
      "1 2 3 4 5 6 7 8 9 \n",
      "1 2 3 4 5 6 7 8 9 10 \n",
      "1 2 3 4 5 6 7 8 9 10 11 \n",
      "1 2 3 4 5 6 7 8 9 10 11 12 \n"
     ]
    }
   ],
   "source": [
    "N = int(input(\"Enter the value of N: \"))\n",
    "\n",
    "# Outer loop for rows\n",
    "for i in range(1, N + 1):\n",
    "    # Inner loop for printing numbers in each row\n",
    "    for j in range(1, i + 1):\n",
    "        print(j, end=\" \")\n",
    "    print()  # Move to the next line after each row"
   ]
  },
  {
   "cell_type": "code",
   "execution_count": null,
   "id": "83166884",
   "metadata": {},
   "outputs": [],
   "source": []
  },
  {
   "cell_type": "code",
   "execution_count": null,
   "id": "34cbc833",
   "metadata": {},
   "outputs": [],
   "source": [
    "n = int(input)"
   ]
  },
  {
   "cell_type": "code",
   "execution_count": null,
   "id": "bca35b28",
   "metadata": {},
   "outputs": [],
   "source": []
  },
  {
   "cell_type": "code",
   "execution_count": 11,
   "id": "3550c55c",
   "metadata": {},
   "outputs": [
    {
     "name": "stdout",
     "output_type": "stream",
     "text": [
      "12\n",
      "1 \n",
      "1 2 \n",
      "1 2 3 \n",
      "1 2 3 4 \n",
      "1 2 3 4 5 \n",
      "1 2 3 4 5 6 \n",
      "1 2 3 4 5 6 7 \n",
      "1 2 3 4 5 6 7 8 \n",
      "1 2 3 4 5 6 7 8 9 \n",
      "1 2 3 4 5 6 7 8 9 10 \n",
      "1 2 3 4 5 6 7 8 9 10 11 \n",
      "1 2 3 4 5 6 7 8 9 10 11 12 \n"
     ]
    }
   ],
   "source": [
    "n = int(input())\n",
    "\n",
    "for i in range (1, n+1):\n",
    "    for j in range (1, i+1):\n",
    "        print(j, end= ' ')\n",
    "    print(end= '\\n')"
   ]
  },
  {
   "cell_type": "code",
   "execution_count": null,
   "id": "e7567456",
   "metadata": {},
   "outputs": [],
   "source": []
  },
  {
   "cell_type": "code",
   "execution_count": 17,
   "id": "190edbaa",
   "metadata": {},
   "outputs": [
    {
     "name": "stdout",
     "output_type": "stream",
     "text": [
      "4\n",
      "1 11 2 21 2 3 31 2 3 4 4"
     ]
    }
   ],
   "source": [
    "n = int(input())\n",
    "\n",
    "for i in range(1, n + 1):\n",
    "    # Print each number followed by a space except the last one\n",
    "    for j in range(1, i + 1):\n",
    "        print(j, end=' ')\n",
    "    # Print the last number without a space and move to the next line\n",
    "    print(i, end='')"
   ]
  },
  {
   "cell_type": "code",
   "execution_count": null,
   "id": "6e2ab12a",
   "metadata": {},
   "outputs": [],
   "source": []
  },
  {
   "cell_type": "code",
   "execution_count": 1,
   "id": "dc9b12d2",
   "metadata": {},
   "outputs": [
    {
     "name": "stdout",
     "output_type": "stream",
     "text": [
      "hello\n"
     ]
    }
   ],
   "source": [
    "print ('hello')"
   ]
  },
  {
   "cell_type": "code",
   "execution_count": null,
   "id": "cb5bbf52",
   "metadata": {},
   "outputs": [],
   "source": []
  },
  {
   "cell_type": "code",
   "execution_count": null,
   "id": "e407a17f",
   "metadata": {},
   "outputs": [],
   "source": []
  },
  {
   "cell_type": "code",
   "execution_count": null,
   "id": "3de40257",
   "metadata": {},
   "outputs": [],
   "source": []
  },
  {
   "cell_type": "markdown",
   "id": "180e21f8",
   "metadata": {},
   "source": [
    "# Check it out later"
   ]
  },
  {
   "cell_type": "code",
   "execution_count": null,
   "id": "62b33ac4",
   "metadata": {},
   "outputs": [],
   "source": []
  },
  {
   "cell_type": "code",
   "execution_count": 26,
   "id": "c674e564",
   "metadata": {},
   "outputs": [
    {
     "name": "stdout",
     "output_type": "stream",
     "text": [
      "5\n",
      "0000 1 0000 0000 2 3 000 0000 3 4 5 00 0000 4 5 6 7 6 0 0000 5 6 7 8 9 8 7  "
     ]
    }
   ],
   "source": [
    "n= int(input())\n",
    "\n",
    "for i in range (1, n+1):\n",
    "    print('0' * (n-1), end= ' ')\n",
    "    for j in range (i, 2*i):\n",
    "        print(j, end=' ')\n",
    "    for j in range (2*i - 2, i+1, -1):\n",
    "        print (j, end= ' ')\n",
    "    print ('0' * (n-i), end=' ')"
   ]
  },
  {
   "cell_type": "code",
   "execution_count": null,
   "id": "b65e3fba",
   "metadata": {},
   "outputs": [],
   "source": []
  },
  {
   "cell_type": "markdown",
   "id": "c71795e4",
   "metadata": {},
   "source": [
    "## output should be\n",
    "\n",
    "#### 0 0 0 1 0 0 0 \n",
    "#### 0 0 2 3 2 0 0\n",
    "#### 0 3 4 5 4 3 0\n",
    "#### 4 5 6 7 6 5 4"
   ]
  },
  {
   "cell_type": "code",
   "execution_count": null,
   "id": "84f3615a",
   "metadata": {},
   "outputs": [],
   "source": []
  },
  {
   "cell_type": "code",
   "execution_count": 33,
   "id": "3196d2ec",
   "metadata": {},
   "outputs": [
    {
     "name": "stdout",
     "output_type": "stream",
     "text": [
      "5\n",
      "1 \n",
      "1 2 \n",
      "1 2 3 \n",
      "1 2 3 4 \n",
      "1 2 3 4 5 \n"
     ]
    }
   ],
   "source": [
    "n = int(input())\n",
    "\n",
    "for i in range (1, n+1):\n",
    "    for j in range (1, i+1):\n",
    "        print (j, end= ' ')\n",
    "    print()"
   ]
  },
  {
   "cell_type": "code",
   "execution_count": null,
   "id": "159fdeb7",
   "metadata": {},
   "outputs": [],
   "source": []
  },
  {
   "cell_type": "markdown",
   "id": "b0d34a36",
   "metadata": {},
   "source": [
    "# Programming Fundamentals 3\n",
    "\n",
    "### Continue break"
   ]
  },
  {
   "cell_type": "code",
   "execution_count": null,
   "id": "be1d51ea",
   "metadata": {},
   "outputs": [],
   "source": []
  },
  {
   "cell_type": "markdown",
   "id": "4e4d5d70",
   "metadata": {},
   "source": [
    "break - terminate a loop\n",
    "continue - skip an iteration "
   ]
  },
  {
   "cell_type": "code",
   "execution_count": null,
   "id": "ee40d9b8",
   "metadata": {},
   "outputs": [],
   "source": []
  },
  {
   "cell_type": "code",
   "execution_count": 35,
   "id": "a4f497fd",
   "metadata": {},
   "outputs": [
    {
     "name": "stdout",
     "output_type": "stream",
     "text": [
      "0\n",
      "1\n",
      "2\n"
     ]
    }
   ],
   "source": [
    "# break statement\n",
    "\n",
    "i= 0\n",
    "while i<= 5:\n",
    "    print (i)\n",
    "    i += 1\n",
    "    \n",
    "    if i == 3:\n",
    "        break"
   ]
  },
  {
   "cell_type": "code",
   "execution_count": null,
   "id": "8e843386",
   "metadata": {},
   "outputs": [],
   "source": []
  },
  {
   "cell_type": "code",
   "execution_count": 36,
   "id": "cef8119c",
   "metadata": {},
   "outputs": [
    {
     "name": "stdout",
     "output_type": "stream",
     "text": [
      "0\n",
      "1\n",
      "2\n",
      "3\n",
      "4\n"
     ]
    }
   ],
   "source": [
    "for i in range (10):\n",
    "    print (i)\n",
    "    \n",
    "    if i == 4:\n",
    "        break"
   ]
  },
  {
   "cell_type": "code",
   "execution_count": null,
   "id": "37bbb166",
   "metadata": {},
   "outputs": [],
   "source": []
  },
  {
   "cell_type": "code",
   "execution_count": 37,
   "id": "623bdfac",
   "metadata": {},
   "outputs": [
    {
     "name": "stdout",
     "output_type": "stream",
     "text": [
      "0\n",
      "1\n",
      "2\n",
      "3\n",
      "4\n"
     ]
    }
   ],
   "source": [
    "for i in  range (10):\n",
    "    if i == 5:\n",
    "        break\n",
    "    print (i)"
   ]
  },
  {
   "cell_type": "code",
   "execution_count": null,
   "id": "c8301978",
   "metadata": {},
   "outputs": [],
   "source": []
  },
  {
   "cell_type": "markdown",
   "id": "376f8f08",
   "metadata": {},
   "source": [
    "## Random game\n",
    "\n",
    "Generate random number between 1 to 10 till you get 5"
   ]
  },
  {
   "cell_type": "code",
   "execution_count": null,
   "id": "8562efe6",
   "metadata": {},
   "outputs": [],
   "source": []
  },
  {
   "cell_type": "code",
   "execution_count": 4,
   "id": "2198fcb5",
   "metadata": {},
   "outputs": [
    {
     "name": "stdout",
     "output_type": "stream",
     "text": [
      "10\n",
      "3\n",
      "4\n",
      "5\n"
     ]
    }
   ],
   "source": [
    "import random\n",
    "\n",
    "while True:\n",
    "# infinite loop\n",
    "    r = random.randint(1,10)\n",
    "# it will generate a random number between 1 and 10\n",
    "\n",
    "    print (r)\n",
    "# r will be a random number between 1-10\n",
    "    \n",
    "    if r == 5:\n",
    "        break"
   ]
  },
  {
   "cell_type": "code",
   "execution_count": 6,
   "id": "9c79e2cf",
   "metadata": {},
   "outputs": [
    {
     "name": "stdout",
     "output_type": "stream",
     "text": [
      "10 9 3 5 "
     ]
    }
   ],
   "source": [
    "import random\n",
    "\n",
    "while True:\n",
    "    r = random.randint (1,10)\n",
    "    print (r, end=' ')\n",
    "    \n",
    "    if r == 5:\n",
    "        break"
   ]
  },
  {
   "cell_type": "markdown",
   "id": "260ecbec",
   "metadata": {},
   "source": []
  },
  {
   "cell_type": "markdown",
   "id": "d57cd90d",
   "metadata": {},
   "source": [
    "# continue statement skips an iteration\n"
   ]
  },
  {
   "cell_type": "code",
   "execution_count": null,
   "id": "150ff1bd",
   "metadata": {},
   "outputs": [],
   "source": []
  },
  {
   "cell_type": "code",
   "execution_count": 8,
   "id": "ded8d26b",
   "metadata": {},
   "outputs": [
    {
     "name": "stdout",
     "output_type": "stream",
     "text": [
      "2 4 8 10 14 16 20 22 26 28 32 34 38 40 44 46 50 52 56 58 62 64 68 70 74 76 80 82 86 88 92 94 98 "
     ]
    }
   ],
   "source": [
    "#i want to skip all the multiples of 3\n",
    "\n",
    "\n",
    "for i in range (2, 100, 2):\n",
    "    if i %3 != 0:\n",
    "        print(i, end= ' ')"
   ]
  },
  {
   "cell_type": "code",
   "execution_count": null,
   "id": "ded2bbf0",
   "metadata": {},
   "outputs": [],
   "source": []
  },
  {
   "cell_type": "code",
   "execution_count": 1,
   "id": "951c5050",
   "metadata": {},
   "outputs": [
    {
     "name": "stdout",
     "output_type": "stream",
     "text": [
      "2 4 8 10 14 16 20 22 26 28 32 34 38 40 44 46 50 52 56 58 62 64 68 70 74 76 80 82 86 88 92 94 98 "
     ]
    }
   ],
   "source": [
    "for i in range (2, 100, 2):\n",
    "    if i % 3 == 0:\n",
    "        continue\n",
    "    \n",
    "    print(i, end= ' ')"
   ]
  },
  {
   "cell_type": "code",
   "execution_count": null,
   "id": "5046c3c6",
   "metadata": {},
   "outputs": [],
   "source": []
  },
  {
   "cell_type": "code",
   "execution_count": 2,
   "id": "6ea1627e",
   "metadata": {},
   "outputs": [
    {
     "name": "stdout",
     "output_type": "stream",
     "text": [
      "yes\n"
     ]
    }
   ],
   "source": [
    "a = 5\n",
    "\n",
    "# check whether a is equal to 5\n",
    "if a == 5:\n",
    "    print('yes')\n",
    "    "
   ]
  },
  {
   "cell_type": "code",
   "execution_count": 3,
   "id": "15eb8743",
   "metadata": {},
   "outputs": [
    {
     "name": "stdout",
     "output_type": "stream",
     "text": [
      "no\n"
     ]
    }
   ],
   "source": [
    "# check whether a is not equal to 5\n",
    "\n",
    "a = 5\n",
    "\n",
    "if a != 5:\n",
    "    print ('yes')\n",
    "    \n",
    "else: print('no')"
   ]
  },
  {
   "cell_type": "code",
   "execution_count": null,
   "id": "c9e9e997",
   "metadata": {},
   "outputs": [],
   "source": []
  },
  {
   "cell_type": "code",
   "execution_count": null,
   "id": "829652a7",
   "metadata": {},
   "outputs": [],
   "source": []
  },
  {
   "cell_type": "markdown",
   "id": "ef472dfa",
   "metadata": {},
   "source": [
    "# Check Prime\n",
    "\n",
    "Given a numner check if it is prim. Print \"Yes\" if prime, else \"No\"\n",
    "\n",
    "Input:\n",
    "17\n",
    "\n",
    "Output:\n",
    "Yes"
   ]
  },
  {
   "cell_type": "code",
   "execution_count": null,
   "id": "3712d824",
   "metadata": {},
   "outputs": [],
   "source": []
  },
  {
   "cell_type": "code",
   "execution_count": 7,
   "id": "cf04ec8f",
   "metadata": {},
   "outputs": [
    {
     "ename": "IndentationError",
     "evalue": "unexpected indent (4088616611.py, line 12)",
     "output_type": "error",
     "traceback": [
      "\u001b[1;36m  Cell \u001b[1;32mIn[7], line 12\u001b[1;36m\u001b[0m\n\u001b[1;33m    if i == n:\u001b[0m\n\u001b[1;37m    ^\u001b[0m\n\u001b[1;31mIndentationError\u001b[0m\u001b[1;31m:\u001b[0m unexpected indent\n"
     ]
    }
   ],
   "source": [
    "# rough try\n",
    "\n",
    "n =  int(input())\n",
    "    \n",
    "i = 2\n",
    "\n",
    "if n % i == 0:\n",
    "    print ('Not a prime number')\n",
    "    \n",
    "else:\n",
    "    print ('Prime number')\n",
    "    \n",
    "    i = i + 1\n",
    "        if i == n:\n",
    "            break"
   ]
  },
  {
   "cell_type": "code",
   "execution_count": null,
   "id": "2f487c16",
   "metadata": {},
   "outputs": [],
   "source": []
  },
  {
   "cell_type": "code",
   "execution_count": 18,
   "id": "8819b443",
   "metadata": {},
   "outputs": [
    {
     "name": "stdout",
     "output_type": "stream",
     "text": [
      "1\n",
      "Not prime number\n"
     ]
    }
   ],
   "source": [
    "n = int(input())\n",
    "\n",
    "flag = True\n",
    "# asume that the number is prime\n",
    "\n",
    "for i in range (2, n):\n",
    "# in range function end value should be +1\n",
    "\n",
    "# check whether i is a divisor of n\n",
    "    if n % i == 0:\n",
    "        flag = False\n",
    "        break\n",
    "\n",
    "if flag and n != 1:\n",
    "    print('Prime number')\n",
    "else:\n",
    "    print('Not prime number')"
   ]
  },
  {
   "cell_type": "code",
   "execution_count": null,
   "id": "07feece1",
   "metadata": {},
   "outputs": [],
   "source": []
  },
  {
   "cell_type": "code",
   "execution_count": null,
   "id": "f4878f58",
   "metadata": {},
   "outputs": [],
   "source": []
  },
  {
   "cell_type": "markdown",
   "id": "1bd0c707",
   "metadata": {},
   "source": [
    "# Swap numbers\n",
    "\n",
    "\n",
    "Given two numbers as input, swap and print them.\n",
    "\n",
    "Input:\n",
    "A = 5\n",
    "B = 7\n",
    "\n",
    "Output:\n",
    "A = 7\n",
    "B = 5"
   ]
  },
  {
   "cell_type": "code",
   "execution_count": null,
   "id": "78360ebd",
   "metadata": {},
   "outputs": [],
   "source": []
  },
  {
   "cell_type": "code",
   "execution_count": 1,
   "id": "eeffa955",
   "metadata": {},
   "outputs": [
    {
     "name": "stdout",
     "output_type": "stream",
     "text": [
      "5\n",
      "6\n"
     ]
    }
   ],
   "source": [
    "a = int(input())\n",
    "b = int(input())"
   ]
  },
  {
   "cell_type": "code",
   "execution_count": 2,
   "id": "91f5823a",
   "metadata": {},
   "outputs": [
    {
     "name": "stdout",
     "output_type": "stream",
     "text": [
      "6 5\n"
     ]
    }
   ],
   "source": [
    "a, b = b, a\n",
    "# simple swap mapping\n",
    "\n",
    "print (a, b)"
   ]
  },
  {
   "cell_type": "code",
   "execution_count": null,
   "id": "d6123d93",
   "metadata": {},
   "outputs": [],
   "source": []
  },
  {
   "cell_type": "markdown",
   "id": "5a1c2312",
   "metadata": {},
   "source": [
    "#### Python variable, Do Not store any values\n",
    "\n",
    "#### They are simply BINDED  to them"
   ]
  },
  {
   "cell_type": "code",
   "execution_count": null,
   "id": "76f4d9b4",
   "metadata": {},
   "outputs": [],
   "source": []
  },
  {
   "cell_type": "markdown",
   "id": "583c519c",
   "metadata": {},
   "source": [
    "### memory address of the variables"
   ]
  },
  {
   "cell_type": "code",
   "execution_count": null,
   "id": "a1a50967",
   "metadata": {},
   "outputs": [],
   "source": []
  },
  {
   "cell_type": "code",
   "execution_count": 3,
   "id": "317fd35a",
   "metadata": {},
   "outputs": [],
   "source": [
    "a = 5 \n",
    "b = 5"
   ]
  },
  {
   "cell_type": "code",
   "execution_count": 4,
   "id": "247e2dc9",
   "metadata": {},
   "outputs": [
    {
     "data": {
      "text/plain": [
       "1980212511088"
      ]
     },
     "execution_count": 4,
     "metadata": {},
     "output_type": "execute_result"
    }
   ],
   "source": [
    "id (a)"
   ]
  },
  {
   "cell_type": "code",
   "execution_count": 5,
   "id": "708de617",
   "metadata": {},
   "outputs": [
    {
     "data": {
      "text/plain": [
       "1980212511088"
      ]
     },
     "execution_count": 5,
     "metadata": {},
     "output_type": "execute_result"
    }
   ],
   "source": [
    "id (b)"
   ]
  },
  {
   "cell_type": "code",
   "execution_count": null,
   "id": "908dcedd",
   "metadata": {},
   "outputs": [],
   "source": []
  },
  {
   "cell_type": "markdown",
   "id": "56c4e6fd",
   "metadata": {},
   "source": []
  },
  {
   "cell_type": "code",
   "execution_count": null,
   "id": "823b094e",
   "metadata": {},
   "outputs": [],
   "source": []
  },
  {
   "cell_type": "code",
   "execution_count": null,
   "id": "35afbfe0",
   "metadata": {},
   "outputs": [],
   "source": []
  },
  {
   "cell_type": "code",
   "execution_count": null,
   "id": "ebaed3e8",
   "metadata": {},
   "outputs": [],
   "source": []
  },
  {
   "cell_type": "code",
   "execution_count": null,
   "id": "ef425a93",
   "metadata": {},
   "outputs": [],
   "source": []
  },
  {
   "cell_type": "code",
   "execution_count": null,
   "id": "e4d27a89",
   "metadata": {},
   "outputs": [],
   "source": []
  },
  {
   "cell_type": "code",
   "execution_count": null,
   "id": "97bffcc5",
   "metadata": {},
   "outputs": [],
   "source": []
  },
  {
   "cell_type": "code",
   "execution_count": null,
   "id": "7ac9d350",
   "metadata": {},
   "outputs": [],
   "source": []
  },
  {
   "cell_type": "code",
   "execution_count": null,
   "id": "46a35aae",
   "metadata": {},
   "outputs": [],
   "source": []
  },
  {
   "cell_type": "code",
   "execution_count": null,
   "id": "d0fe8512",
   "metadata": {},
   "outputs": [],
   "source": []
  },
  {
   "cell_type": "code",
   "execution_count": null,
   "id": "e3002437",
   "metadata": {},
   "outputs": [],
   "source": []
  },
  {
   "cell_type": "code",
   "execution_count": null,
   "id": "3aabcd87",
   "metadata": {},
   "outputs": [],
   "source": []
  },
  {
   "cell_type": "code",
   "execution_count": null,
   "id": "893e5318",
   "metadata": {},
   "outputs": [],
   "source": []
  },
  {
   "cell_type": "code",
   "execution_count": null,
   "id": "abbb6e5d",
   "metadata": {},
   "outputs": [],
   "source": []
  },
  {
   "cell_type": "code",
   "execution_count": null,
   "id": "d1dccfc4",
   "metadata": {},
   "outputs": [],
   "source": []
  },
  {
   "cell_type": "code",
   "execution_count": null,
   "id": "73410619",
   "metadata": {},
   "outputs": [],
   "source": []
  },
  {
   "cell_type": "code",
   "execution_count": null,
   "id": "2f942e2f",
   "metadata": {},
   "outputs": [],
   "source": []
  },
  {
   "cell_type": "code",
   "execution_count": null,
   "id": "78e15def",
   "metadata": {},
   "outputs": [],
   "source": []
  },
  {
   "cell_type": "code",
   "execution_count": null,
   "id": "32d89609",
   "metadata": {},
   "outputs": [],
   "source": []
  },
  {
   "cell_type": "code",
   "execution_count": null,
   "id": "c0523b6b",
   "metadata": {},
   "outputs": [],
   "source": []
  },
  {
   "cell_type": "code",
   "execution_count": null,
   "id": "37405b4e",
   "metadata": {},
   "outputs": [],
   "source": []
  },
  {
   "cell_type": "code",
   "execution_count": null,
   "id": "5dd644fa",
   "metadata": {},
   "outputs": [],
   "source": []
  },
  {
   "cell_type": "code",
   "execution_count": null,
   "id": "304e9ea3",
   "metadata": {},
   "outputs": [],
   "source": []
  },
  {
   "cell_type": "code",
   "execution_count": null,
   "id": "022a878d",
   "metadata": {},
   "outputs": [],
   "source": []
  },
  {
   "cell_type": "code",
   "execution_count": null,
   "id": "f2be1523",
   "metadata": {},
   "outputs": [],
   "source": []
  },
  {
   "cell_type": "code",
   "execution_count": null,
   "id": "fa38ee82",
   "metadata": {},
   "outputs": [],
   "source": []
  },
  {
   "cell_type": "code",
   "execution_count": null,
   "id": "106d9930",
   "metadata": {},
   "outputs": [],
   "source": []
  },
  {
   "cell_type": "code",
   "execution_count": null,
   "id": "fd9595f8",
   "metadata": {},
   "outputs": [],
   "source": []
  },
  {
   "cell_type": "code",
   "execution_count": null,
   "id": "e4d007e5",
   "metadata": {},
   "outputs": [],
   "source": []
  },
  {
   "cell_type": "code",
   "execution_count": null,
   "id": "5e40d749",
   "metadata": {},
   "outputs": [],
   "source": []
  },
  {
   "cell_type": "code",
   "execution_count": null,
   "id": "6532311a",
   "metadata": {},
   "outputs": [],
   "source": []
  },
  {
   "cell_type": "code",
   "execution_count": null,
   "id": "a61cff8f",
   "metadata": {},
   "outputs": [],
   "source": []
  },
  {
   "cell_type": "code",
   "execution_count": null,
   "id": "5c9724ab",
   "metadata": {},
   "outputs": [],
   "source": []
  }
 ],
 "metadata": {
  "kernelspec": {
   "display_name": "Python 3 (ipykernel)",
   "language": "python",
   "name": "python3"
  },
  "language_info": {
   "codemirror_mode": {
    "name": "ipython",
    "version": 3
   },
   "file_extension": ".py",
   "mimetype": "text/x-python",
   "name": "python",
   "nbconvert_exporter": "python",
   "pygments_lexer": "ipython3",
   "version": "3.11.5"
  }
 },
 "nbformat": 4,
 "nbformat_minor": 5
}
