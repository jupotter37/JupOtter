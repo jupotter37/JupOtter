{
  "nbformat": 4,
  "nbformat_minor": 0,
  "metadata": {
    "colab": {
      "provenance": [],
      "authorship_tag": "ABX9TyOqZjmGN+22vxxNhaSSC7Mm",
      "include_colab_link": true
    },
    "kernelspec": {
      "name": "python3",
      "display_name": "Python 3"
    },
    "language_info": {
      "name": "python"
    }
  },
  "cells": [
    {
      "cell_type": "markdown",
      "metadata": {
        "id": "view-in-github",
        "colab_type": "text"
      },
      "source": [
        "<a href=\"https://colab.research.google.com/github/MK316/Spring2023/blob/main/DL/DLW01.ipynb\" target=\"_parent\"><img src=\"https://colab.research.google.com/assets/colab-badge.svg\" alt=\"Open In Colab\"/></a>"
      ]
    },
    {
      "cell_type": "markdown",
      "source": [
        "# 🌳 **Digital Literacy & English Education** (Week 01)\n",
        "\n",
        "Table of contents\n",
        "\n",
        "* Course overview: syllabus  \n",
        "* Grouping  \n",
        "* Getting ready: ChatGPT, Colab, Github, and Markdown"
      ],
      "metadata": {
        "id": "fkVkXhLoOGMz"
      }
    },
    {
      "cell_type": "markdown",
      "source": [
        "# [1] COURSE OVERVIEW"
      ],
      "metadata": {
        "id": "93gQaEo1RX63"
      }
    },
    {
      "cell_type": "markdown",
      "source": [
        "|Keyword| Online link|\n",
        "|:--:|:--:|\n",
        "|Syllabus|[File link](https://github.com/MK316/Spring2023/blob/main/DL/files/S23Syllabus_Digital_Literacy.pdf)|\n",
        "|Course schedule|[Online link](https://github.com/MK316/Spring2023/blob/main/DL/README.md)|"
      ],
      "metadata": {
        "id": "jJT4hD1teuJr"
      }
    },
    {
      "cell_type": "markdown",
      "source": [
        "# [2] GROUPING"
      ],
      "metadata": {
        "id": "5JgA2T2dRft5"
      }
    },
    {
      "cell_type": "markdown",
      "source": [
        "🎃 Goto... grouping.ipynb [link](https://github.com/MK316/Spring2023/blob/main/grouping_new.ipynb)"
      ],
      "metadata": {
        "id": "lvvxNwKOobDX"
      }
    },
    {
      "cell_type": "markdown",
      "source": [
        "# [3] GETTING READY\n"
      ],
      "metadata": {
        "id": "3eSrUoglRh6-"
      }
    },
    {
      "cell_type": "markdown",
      "source": [
        "\n",
        "|Keyword| Online link|\n",
        "|:--:|:--:|\n",
        "|**Online resources**|[Colab](https://colab.research.google.com/)|\n",
        "| **coding file repository**|[Github](https://github.com/)|\n",
        "| AI chatbot (human conversation style)|[ChatGPT](https://openai.com/blog/chatgpt/)|\n",
        "||[Markdown Emoji](https://gist.github.com/rxaviers/7360908)|\n",
        "||[markdown intro](https://www.markdownguide.org/getting-started/)|\n",
        "||[markdown tutorial](https://www.writethedocs.org/guide/writing/markdown/)\n",
        "\n",
        "* Note: **Markdown** language is a  way to annotate text or add structure to it, and define how it should be displayed (**lightweight**)."
      ],
      "metadata": {
        "id": "ZVFb5JmJrPXu"
      }
    },
    {
      "cell_type": "markdown",
      "source": [
        "# [4] Introduction: Digital age"
      ],
      "metadata": {
        "id": "BW1ESCpvI5uT"
      }
    },
    {
      "cell_type": "code",
      "source": [
        "#@markdown 💠 Lecture slides (#1~6)\n",
        "from IPython.display import Image\n",
        "\n",
        "pages = \"8\" #@param = [\"1\", \"2\", \"3\", \"4\", \"5\",\"6\",\"7\",\"8\"]\n",
        "adds = ['https://github.com/MK316/Spring2023/raw/main/DL/data/DLEE.001.jpeg',\n",
        "        'https://github.com/MK316/Spring2023/raw/main/DL/data/DLEE.002.jpeg',\n",
        "        'https://github.com/MK316/Spring2023/raw/main/DL/data/DLEE.003.jpeg',\n",
        "        'https://github.com/MK316/Spring2023/raw/main/DL/data/DLEE.004.jpeg',\n",
        "        'https://github.com/MK316/workshops/raw/main/20230126_yonsei/slides/slides.003.jpeg',\n",
        "        'https://github.com/MK316/Spring2023/raw/main/DL/data/DLEE.005.jpeg',\n",
        "        'https://github.com/MK316/Spring2023/raw/main/DL/data/DLEE.006.jpeg',\n",
        "        'https://github.com/MK316/Spring2023/raw/main/data/programminglanguage22.png']\n",
        "\n",
        "if pages == \"1\":\n",
        "  add = adds[0]\n",
        "elif pages == \"2\":\n",
        "  add = adds[1]\n",
        "elif pages == \"3\":\n",
        "  add = adds[2]\n",
        "elif pages == \"4\":\n",
        "  add = adds[3]\n",
        "elif pages == \"5\":\n",
        "  add = adds[4]\n",
        "elif pages == \"6\":\n",
        "  add = adds[5]\n",
        "elif pages == \"7\":\n",
        "  add = adds[6]  \n",
        "elif pages == \"8\":\n",
        "  add = adds[7]  \n",
        "Image(url=add, width=800, height=500)"
      ],
      "metadata": {
        "cellView": "form",
        "id": "xFMDT7-oI97J",
        "outputId": "ca96cb2b-94ed-43d6-f99b-87f58496b948",
        "colab": {
          "base_uri": "https://localhost:8080/",
          "height": 520
        }
      },
      "execution_count": 5,
      "outputs": [
        {
          "output_type": "execute_result",
          "data": {
            "text/html": [
              "<img src=\"https://github.com/MK316/Spring2023/raw/main/data/programminglanguage22.png\" width=\"800\" height=\"500\"/>"
            ],
            "text/plain": [
              "<IPython.core.display.Image object>"
            ]
          },
          "metadata": {},
          "execution_count": 5
        }
      ]
    },
    {
      "cell_type": "code",
      "source": [
        "#@markdown 🔄 Making functions: etts('text'), ktts('text')\n",
        "%%capture\n",
        "!pip install gTTS\n",
        "from gtts import gTTS\n",
        "from IPython.display import Audio\n",
        "\n",
        "dialect = \"us\"\n",
        "def etts(text):\n",
        "  text_to_say = text\n",
        "\n",
        "  gtts_object = gTTS(text = text_to_say,\n",
        "                     lang = \"en\", tld = dialect,\n",
        "                    slow = True)\n",
        "  \n",
        "  gtts_object.save(\"E-audio.mp3\")\n",
        "  return Audio(\"E-audio.mp3\")\n",
        "\n",
        "def ktts(text):\n",
        "  text_to_say = text\n",
        "\n",
        "  gtts_object = gTTS(text = text_to_say,\n",
        "                     lang = \"ko\",\n",
        "                    slow = False)\n",
        "  \n",
        "  gtts_object.save(\"K-audio.mp3\")\n",
        "  return Audio(\"K-audio.mp3\")\n"
      ],
      "metadata": {
        "cellView": "form",
        "id": "Qy-qpZdbFjr-"
      },
      "execution_count": 6,
      "outputs": []
    },
    {
      "cell_type": "code",
      "source": [
        "points = \"t4\" #@param [\"t1\", \"t2\", \"t3\", \"t4\", \"t5\", \"t6\"]\n",
        "\n",
        "texts = \"Python is a popular and easy-to-learn programming language. It is used for web development, data analysis, and artificial intelligence. Python has a simple syntax, making it a great choice for beginners. It has a large and active community, offering many resources and support. Python has a vast library of pre-built modules and packages, saving time and effort in development. Overall, Python is an accessible and practical language to learn, with many applications in different fields\"\n",
        "\n",
        "sents = texts.split(\".\")\n",
        "\n",
        "if points == \"t1\":\n",
        "  txt = sents[0]\n",
        "elif points == \"t2\":\n",
        "  txt = sents[1]\n",
        "elif points == \"t3\":\n",
        "  txt = sents[2]\n",
        "elif points == \"t4\":\n",
        "  txt = sents[3]\n",
        "elif points == \"t5\":\n",
        "  txt = sents[4]\n",
        "elif points == \"t6\":\n",
        "  txt = sents[5]\n",
        "\n",
        "etts(txt)\n",
        "Audio(\"E-audio.mp3\", autoplay = True)\n"
      ],
      "metadata": {
        "cellView": "form",
        "id": "aqw1ApoyGFKo",
        "outputId": "5b846952-b13d-4282-c8a8-aacb828e953a",
        "colab": {
          "base_uri": "https://localhost:8080/",
          "height": 74
        }
      },
      "execution_count": 22,
      "outputs": [
        {
          "output_type": "execute_result",
          "data": {
            "text/plain": [
              "<IPython.lib.display.Audio object>"
            ],
            "text/html": [
              "\n",
              "                <audio  controls=\"controls\" autoplay=\"autoplay\">\n",
              "                    <source src=\"data:audio/mpeg;base64,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\" type=\"audio/mpeg\" />\n",
              "                    Your browser does not support the audio element.\n",
              "                </audio>\n",
              "              "
            ]
          },
          "metadata": {},
          "execution_count": 22
        }
      ]
    },
    {
      "cell_type": "markdown",
      "source": [
        "**Python:**\n",
        "+ Python is a popular and **easy-to-learn** programming language.\n",
        "+It is used for **web development, data analysis, and artificial intelligence.**\n",
        "+Python has a **simple syntax,** making it a great choice for beginners.\n",
        "+It has a **large and active community,** offering many resources and support.\n",
        "+Python has a **vast library of pre-built modules and packages,** saving time and effort in development.\n",
        "+Overall, Python is an **accessible and practical language to learn, with many applications in different fields.**"
      ],
      "metadata": {
        "id": "f0nXfH6VC_Yq"
      }
    },
    {
      "cell_type": "markdown",
      "source": [
        "# ⏰ Todo: Gmail account, Github account"
      ],
      "metadata": {
        "id": "9D7U7633g0S_"
      }
    },
    {
      "cell_type": "markdown",
      "source": [
        "Share your github IDs [here](https://docs.google.com/spreadsheets/d/1rBlWeffj5RaBQS-lcv46r3Xe-JVF8PpwDngsuQhLKCc/edit?usp=sharing): due by March 13(Monday)"
      ],
      "metadata": {
        "id": "mSpge9tenu6I"
      }
    },
    {
      "cell_type": "markdown",
      "source": [
        "QR code for E-mail collection link"
      ],
      "metadata": {
        "id": "64fg2goCoCGT"
      }
    },
    {
      "cell_type": "code",
      "source": [
        "#@markdown Install {pyqrcode} and enter link address\n",
        "!pip install pyqrcode\n",
        "\n",
        "import pyqrcode\n",
        "from pyqrcode import QRCode"
      ],
      "metadata": {
        "cellView": "form",
        "id": "Aym1xt9kn-nb"
      },
      "execution_count": null,
      "outputs": []
    },
    {
      "cell_type": "code",
      "source": [
        "#@markdown Enter the link, save it as a file, and display QR\n",
        "s = input(\"Paste the link: \")\n",
        "\n",
        "# Generate QR code\n",
        "url = pyqrcode.create(s)\n",
        "\n",
        "# Create and save the png file naming \"myqr.png\"\n",
        "url.svg(\"myqrcode.svg\", scale=10)\n",
        "\n",
        "from IPython.display import SVG, display\n",
        "def show_svg(file):\n",
        "    display(SVG(file))\n",
        "\n",
        "show_svg(\"myqrcode.svg\")"
      ],
      "metadata": {
        "cellView": "form",
        "id": "PnOIpaFfoBQw"
      },
      "execution_count": null,
      "outputs": []
    },
    {
      "cell_type": "markdown",
      "source": [
        "## Github account: Create a repository named DL23"
      ],
      "metadata": {
        "id": "M83xiZmWwswA"
      }
    },
    {
      "cell_type": "markdown",
      "source": [
        "\n",
        "\n",
        "---\n",
        "# The End\n"
      ],
      "metadata": {
        "id": "3cZjH9xIiN4_"
      }
    }
  ]
}