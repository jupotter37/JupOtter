{
  "cells": [
    {
      "cell_type": "markdown",
      "metadata": {
        "id": "view-in-github",
        "colab_type": "text"
      },
      "source": [
        "<a href=\"https://colab.research.google.com/github/arshad62/1stwebpage/blob/master/04_natural_language_programming/02_ai_python_for_beginners/course3_working_with_data/Lesson_3/Lesson_3.ipynb\" target=\"_parent\"><img src=\"https://colab.research.google.com/assets/colab-badge.svg\" alt=\"Open In Colab\"/></a>"
      ]
    },
    {
      "cell_type": "markdown",
      "metadata": {
        "id": "Qd_eAjrvmJTV"
      },
      "source": [
        "# Lesson 3: Reading journals from food critics\n",
        "\n",
        "In this lesson, you'll use AI to decide whether the contents of a file are about food and restaurants.\n",
        "\n",
        "Text data like emails, journal entries, and social media posts often have no predefined structure. Additionally, each person writes in their own style: some use bullet points, while others prefer long paragraphs. For this reason, text data is known as **unstructured data**."
      ]
    },
    {
      "cell_type": "markdown",
      "metadata": {
        "id": "P6dQMxKfmJTX"
      },
      "source": [
        "Let's start by loading some helper functions to use in the notebook:"
      ]
    },
    {
      "cell_type": "code",
      "execution_count": null,
      "metadata": {
        "height": 30,
        "id": "LUDVfImHmJTY"
      },
      "outputs": [],
      "source": [
        "from helper_functions import get_llm_response, print_llm_response"
      ]
    },
    {
      "cell_type": "markdown",
      "metadata": {
        "id": "T1TWB35imJTZ"
      },
      "source": [
        "## Working with text data"
      ]
    },
    {
      "cell_type": "markdown",
      "metadata": {
        "id": "fUO5Rc9XmJTZ"
      },
      "source": [
        "You'll take look at journal entries in the working directory. The journals are stored as plain text files with extension `.txt'.\n",
        "\n",
        "Start by opening and reading the Cape Town journal:"
      ]
    },
    {
      "cell_type": "code",
      "execution_count": null,
      "metadata": {
        "height": 64,
        "id": "IiH8Hr4cmJTZ"
      },
      "outputs": [],
      "source": [
        "f = open(\"cape_town.txt\", \"r\")\n",
        "journal_cape_town = f.read()\n",
        "f.close()"
      ]
    },
    {
      "cell_type": "markdown",
      "metadata": {
        "id": "i_3dZgZgmJTZ"
      },
      "source": [
        "Print the contents of the journal:"
      ]
    },
    {
      "cell_type": "code",
      "execution_count": null,
      "metadata": {
        "height": 30,
        "id": "l0HxrLGKmJTa"
      },
      "outputs": [],
      "source": [
        "print(journal_cape_town)"
      ]
    },
    {
      "cell_type": "markdown",
      "metadata": {
        "id": "o5JrgSWEmJTa"
      },
      "source": [
        "As you can see, the file is about restaurants and food.\n",
        "\n",
        "Next, open the Tokyo journal entry file and read its contents:"
      ]
    },
    {
      "cell_type": "code",
      "execution_count": null,
      "metadata": {
        "height": 64,
        "id": "Iy6DZD_7mJTa"
      },
      "outputs": [],
      "source": [
        "f = open(\"tokyo.txt\", \"r\")\n",
        "journal_tokyo = f.read()\n",
        "f.close()"
      ]
    },
    {
      "cell_type": "markdown",
      "metadata": {
        "id": "QqEdjaUzmJTa"
      },
      "source": [
        "Print the contents of the journal:"
      ]
    },
    {
      "cell_type": "code",
      "execution_count": null,
      "metadata": {
        "height": 30,
        "id": "qb0yuvaGmJTb"
      },
      "outputs": [],
      "source": [
        "print(journal_tokyo)"
      ]
    },
    {
      "cell_type": "markdown",
      "metadata": {
        "id": "Z-u3QcM9mJTb"
      },
      "source": [
        "This entry is also about restaurants and food - but notice how different the format of the journal is from the Cape Town example!"
      ]
    },
    {
      "cell_type": "markdown",
      "metadata": {
        "id": "QZ1DE9IVmJTb"
      },
      "source": [
        "## Determining if text files are relevant using LLMs"
      ]
    },
    {
      "cell_type": "markdown",
      "metadata": {
        "id": "KXIKv6DomJTb"
      },
      "source": [
        "In this section, you'll write a prompt that instructs an LLM to determine whether a file content is about food and restaurants or some other topic.\n",
        "\n",
        "Define the prompt and include the Tokyo journal entry as the input data to check:"
      ]
    },
    {
      "cell_type": "code",
      "execution_count": null,
      "metadata": {
        "height": 98,
        "id": "Hx-VPNWlmJTb"
      },
      "outputs": [],
      "source": [
        "prompt = f\"\"\"Respond with \"Relevant\" or \"Not relevant\":\n",
        "the journal describes restaurants and their specialties.\n",
        "\n",
        "Journal:\n",
        "{journal_tokyo}\"\"\""
      ]
    },
    {
      "cell_type": "markdown",
      "metadata": {
        "id": "sZ1XZ-LvmJTc"
      },
      "source": [
        "Print the LLM response to see if the file is relevant for our purpose or not:"
      ]
    },
    {
      "cell_type": "code",
      "execution_count": null,
      "metadata": {
        "height": 30,
        "id": "_OLXKHGtmJTc"
      },
      "outputs": [],
      "source": [
        "print_llm_response(prompt)"
      ]
    },
    {
      "cell_type": "markdown",
      "metadata": {
        "id": "LCuLCgP6mJTc"
      },
      "source": [
        "## Checking all files using a `for` loop"
      ]
    },
    {
      "cell_type": "markdown",
      "metadata": {
        "id": "yUU6CUg7mJTc"
      },
      "source": [
        "Using Python and an LLM together allows you to quickly iterate over multiple files and check the relevance of the content for your tasks.\n",
        "\n",
        "Start by creating a list of all the files you want to check:"
      ]
    },
    {
      "cell_type": "code",
      "execution_count": null,
      "metadata": {
        "height": 47,
        "id": "66-2FVR6mJTc"
      },
      "outputs": [],
      "source": [
        "# List of the journal files\n",
        "files = [\"cape_town.txt\", \"madrid.txt\", \"rio_de_janeiro.txt\", \"sydney.txt\", \"tokyo.txt\"]"
      ]
    },
    {
      "cell_type": "markdown",
      "metadata": {
        "id": "k4Tn2gLOmJTc"
      },
      "source": [
        "Next, use a `for` loop to open each file and have an LLM check if the content from that file is relevant to food and restaurants.\n",
        "* *If you need a refresher on `for` loops, please revisit Course 2!*"
      ]
    },
    {
      "cell_type": "code",
      "execution_count": null,
      "metadata": {
        "height": 268,
        "id": "KX2_HnKnmJTc"
      },
      "outputs": [],
      "source": [
        "for file in files:\n",
        "    # Read journal file for the city\n",
        "    f = open(file, \"r\")\n",
        "    journal = f.read()\n",
        "    f.close()\n",
        "\n",
        "    # Create prompt\n",
        "    prompt = f\"\"\"Respond with \"Relevant\" or \"Not relevant\":\n",
        "    the journal describes restaurants and their specialties.\n",
        "\n",
        "    Journal:\n",
        "    {journal}\"\"\"\n",
        "\n",
        "    # Use LLM to determine if the journal entry is useful\n",
        "    print(f\"{file} -> {get_llm_response(prompt)}\")"
      ]
    },
    {
      "cell_type": "markdown",
      "metadata": {
        "id": "H5K9uNf2mJTd"
      },
      "source": [
        "It seems that the Madrid journal entry is not relevant. Let's print its contents to see why the LLM flagged it as \"not relevant\":"
      ]
    },
    {
      "cell_type": "code",
      "execution_count": null,
      "metadata": {
        "height": 81,
        "id": "MzheTuetmJTd"
      },
      "outputs": [],
      "source": [
        "# Here you can check the content from any journal entry\n",
        "f = open(\"madrid.txt\", \"r\")\n",
        "print(f.read())\n",
        "f.close()"
      ]
    },
    {
      "cell_type": "markdown",
      "metadata": {
        "id": "CuWwCyhFmJTd"
      },
      "source": [
        "The Madrid journal entry doesn't contain information about restaurants to try. Instead, it is a description of the economy of the city."
      ]
    },
    {
      "cell_type": "markdown",
      "metadata": {
        "id": "T8knUqr5mJTd"
      },
      "source": [
        "<p style=\"background-color:#F5C780; padding:15px\"> 🤖 <b>Use the Chatbot</b>:\n",
        "    <br><br>\n",
        "    I am using AI to determine whether different texts are \"relevant\" or \"not relevant\" using an LLM. Does this task have a specific name in AI?\n",
        "</p>"
      ]
    },
    {
      "cell_type": "markdown",
      "metadata": {
        "id": "Yr_LR6dQmJTe"
      },
      "source": [
        "## Extra practice\n",
        "\n",
        "Experiment with different prompts to check whether files are of interest to you or not. Below is the example suggested in the video - try running it first. Then, try each exercise.\n",
        "\n",
        "### Exercise 1\n",
        "\n",
        "Change the prompt to classify the text for different topics, for example \"mentions a dessert\" or \"describes the restaurant design.\""
      ]
    },
    {
      "cell_type": "code",
      "execution_count": null,
      "metadata": {
        "height": 319,
        "id": "XefRtBEomJTe"
      },
      "outputs": [],
      "source": [
        "files = [\"cape_town.txt\", \"madrid.txt\", \"rio_de_janeiro.txt\",\n",
        "         \"sydney.txt\", \"tokyo.txt\"]\n",
        "\n",
        "for file in files:\n",
        "    # Read journal file for the city\n",
        "    f = open(file, \"r\")\n",
        "    journal = f.read()\n",
        "    f.close()\n",
        "\n",
        "    # TRY CHANGING THIS PROMPT TO ASK DIFFERENT QUESTIONS\n",
        "    prompt = f\"\"\"Respond with \"Yes\" or \"No\":\n",
        "    the journal describes restaurants and food dishes.\n",
        "\n",
        "    Journal:\n",
        "    {journal}\"\"\"\n",
        "\n",
        "    # Use LLM to determine if the journal entry is useful\n",
        "    print(f\"{file} -> {get_llm_response(prompt)}\")"
      ]
    },
    {
      "cell_type": "markdown",
      "metadata": {
        "id": "EtTsFAtemJTe"
      },
      "source": [
        "### Exercise 2\n",
        "\n",
        "Using the same code below, change the prompt to classify into more than two categories.\n",
        "\n",
        "**Example:**\n",
        "- mentions a **vegetarian** dish\n",
        "- mentions a **vegan** dish\n",
        "- mentions both\n",
        "- mentions neither"
      ]
    },
    {
      "cell_type": "code",
      "execution_count": null,
      "metadata": {
        "height": 319,
        "id": "pRMgeBX3mJTe"
      },
      "outputs": [],
      "source": [
        "files = [\"cape_town.txt\", \"madrid.txt\", \"rio_de_janeiro.txt\",\n",
        "         \"sydney.txt\", \"tokyo.txt\"]\n",
        "\n",
        "for file in files:\n",
        "    # Read journal file for the city\n",
        "    f = open(file, \"r\")\n",
        "    journal = f.read()\n",
        "    f.close()\n",
        "\n",
        "    # TRY CHANGING THIS PROMPT TO ASK DIFFERENT QUESTIONS\n",
        "    prompt = f\"\"\"Respond with \"Yes\" or \"No\":\n",
        "    the journal describes restaurants and food dishes.\n",
        "\n",
        "    Journal:\n",
        "    {journal}\"\"\"\n",
        "\n",
        "    # Use LLM to determine if the journal entry is useful\n",
        "    print(f\"{file} -> {get_llm_response(prompt)}\")"
      ]
    }
  ],
  "metadata": {
    "kernelspec": {
      "display_name": "Python 3 (ipykernel)",
      "language": "python",
      "name": "python3"
    },
    "language_info": {
      "codemirror_mode": {
        "name": "ipython",
        "version": 3
      },
      "file_extension": ".py",
      "mimetype": "text/x-python",
      "name": "python",
      "nbconvert_exporter": "python",
      "pygments_lexer": "ipython3",
      "version": "3.9.19"
    },
    "colab": {
      "provenance": [],
      "include_colab_link": true
    }
  },
  "nbformat": 4,
  "nbformat_minor": 0
}