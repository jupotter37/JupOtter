{
 "cells": [
  {
   "cell_type": "markdown",
   "metadata": {},
   "source": [
    "### Domain-Specific RAG Chatbot with Llama 3.2 (1B) via Ollama<br>\n",
    "<p>A Retrieval-Augmented Generation (RAG) chatbot using the Llama 3.2 (1B) model, deployed locally with Ollama for fast, domain-specific responses.</p>"
   ]
  },
  {
   "cell_type": "code",
   "execution_count": 1,
   "metadata": {},
   "outputs": [],
   "source": [
    "from langchain_community.document_loaders.csv_loader import  CSVLoader \n",
    "from langchain_openai import  OpenAIEmbeddings\n",
    "from langchain_community.vectorstores import FAISS\n",
    "from langchain_core.vectorstores import  VectorStoreRetriever \n",
    "from langchain.chains import RetrievalQA \n",
    "from langchain.prompts import PromptTemplate\n",
    "import pandas as pd \n",
    "import numpy as np \n",
    "from dotenv import  load_dotenv \n",
    "load_dotenv()\n",
    "import os "
   ]
  },
  {
   "cell_type": "code",
   "execution_count": 3,
   "metadata": {},
   "outputs": [],
   "source": [
    "from langchain_community.chat_models import ChatOllama\n",
    "from langchain.schema import HumanMessage  \n",
    "\n",
    "# Initialize the ChatOllama model\n",
    "llm = ChatOllama(model=\"llama3.2:1b\")"
   ]
  },
  {
   "cell_type": "code",
   "execution_count": 3,
   "metadata": {},
   "outputs": [
    {
     "name": "stderr",
     "output_type": "stream",
     "text": [
      "C:\\Users\\Ranjit\\AppData\\Local\\Temp\\ipykernel_120\\2217754082.py:2: LangChainDeprecationWarning: The method `BaseChatModel.__call__` was deprecated in langchain-core 0.1.7 and will be removed in 1.0. Use :meth:`~invoke` instead.\n",
      "  response = llm(messages=[message])\n"
     ]
    },
    {
     "name": "stdout",
     "output_type": "stream",
     "text": [
      "Python is a high-level, interpreted programming language that was created in the late 1980s by Guido van Rossum. It is known for its simplicity, readability, and ease of use, making it a popular choice for beginners and experienced programmers alike.\n",
      "\n",
      "Here are some key features that make Python unique:\n",
      "\n",
      "1. **Easy to learn**: Python has a relatively simple syntax, which makes it easy for new programmers to learn and understand.\n",
      "2. **High-level language**: Python abstracts away many low-level details, allowing programmers to focus on the logic of their program without worrying about memory management, file I/O, and other tasks that are handled by the language.\n",
      "3. **Interpreted language**: Python code is executed line-by-line, which makes it fast and efficient.\n",
      "4. **Dynamic typing**: Python is dynamically typed, which means that you don't need to declare variable types before using them. This allows for more flexibility and ease of use.\n",
      "5. **Object-oriented programming (OOP)**: Python supports OOP concepts like encapsulation, inheritance, and polymorphism, making it a popular choice for developing large-scale applications.\n",
      "6. **Extensive libraries**: Python has a vast collection of libraries and frameworks that make it easy to perform various tasks, such as data analysis, web development, and machine learning.\n",
      "\n",
      "Some common use cases for Python include:\n",
      "\n",
      "1. **Data science and analytics**: Python is widely used in data science and analytics for tasks like data cleaning, visualization, and modeling.\n",
      "2. **Web development**: Python can be used to build web applications using frameworks like Django and Flask.\n",
      "3. **Automation**: Python can be used to automate tasks and workflows using libraries like Zapier and Automator.\n",
      "4. **Artificial intelligence and machine learning**: Python is used in AI and ML for tasks like natural language processing, image recognition, and predictive modeling.\n",
      "5. **Scientific computing**: Python can be used for scientific computing tasks like data analysis, visualization, and simulation.\n",
      "\n",
      "Some popular Python applications include:\n",
      "\n",
      "1. **Python scripting**: Python can be used to automate tasks, create scripts, and develop small applications.\n",
      "2. **Web development**: Python web frameworks like Django and Flask make it easy to build scalable and efficient web applications.\n",
      "3. **Data science**: Libraries like NumPy, pandas, and scikit-learn make it easy to analyze and visualize data.\n",
      "4. **Automation tools**: Tools like Zapier and Automator allow users to automate repetitive tasks using Python.\n",
      "\n",
      "Overall, Python is a versatile and powerful language that has many uses and applications in various fields.\n"
     ]
    }
   ],
   "source": [
    "message = HumanMessage(content=\"what is python?\")\n",
    "response = llm(messages=[message])\n",
    "print(response.content)\n"
   ]
  },
  {
   "cell_type": "code",
   "execution_count": 4,
   "metadata": {},
   "outputs": [
    {
     "name": "stdout",
     "output_type": "stream",
     "text": [
      "loaded data from the csv files\n"
     ]
    }
   ],
   "source": [
    "final_data_file_path ='final_data.csv'\n",
    "loader = CSVLoader(file_path=final_data_file_path, source_column=\"Question\")\n",
    "data = loader.load()\n",
    "print(\"loaded data from the csv files\")"
   ]
  },
  {
   "cell_type": "code",
   "execution_count": 12,
   "metadata": {},
   "outputs": [
    {
     "name": "stdout",
     "output_type": "stream",
     "text": [
      "Totoal no. of question and answer : 39\n"
     ]
    }
   ],
   "source": [
    "print(f\"Totoal no. of question and answer : {len(data)}\")"
   ]
  },
  {
   "cell_type": "code",
   "execution_count": 9,
   "metadata": {},
   "outputs": [],
   "source": [
    "from openai import OpenAI \n",
    "openai_api = os.getenv(\"gpt_api_key\")\n",
    "client = OpenAI(api_key=openai_api)\n",
    "\n",
    "vectordb_file_path = \"fais_index\"\n",
    "embeding = OpenAIEmbeddings(api_key=openai_api)\n",
    "vectordb = FAISS.from_documents(data,embeding)\n",
    "\n",
    "# # Save vector database locally\n",
    "vectordb.save_local(vectordb_file_path)"
   ]
  },
  {
   "cell_type": "code",
   "execution_count": 10,
   "metadata": {},
   "outputs": [
    {
     "name": "stdout",
     "output_type": "stream",
     "text": [
      "import pickle\n",
      "obj = MyClass()\n",
      "with open('data.pkl', 'wb') as f:\n",
      "\tpickle.dump(obj, f)\n",
      "with open('data.pkl', 'rb') as f:\n",
      "\tobj_loaded = pickle.load(f)\n"
     ]
    }
   ],
   "source": [
    "query_answer = vectordb.similarity_search(\"how we can print hello world in python?\")\n",
    "page_content = query_answer[0].page_content\n",
    "\n",
    "# Split the content at \"Answer:\" and get the part after it\n",
    "answer = page_content.split(\"Answer:\")[1].strip()\n",
    "\n",
    "print(answer)"
   ]
  },
  {
   "cell_type": "code",
   "execution_count": 11,
   "metadata": {},
   "outputs": [
    {
     "name": "stdout",
     "output_type": "stream",
     "text": [
      "[x for x in range(1, 101) if x % 2 == 0]\n"
     ]
    }
   ],
   "source": [
    "query_answer = vectordb.similarity_search(\"How do you create a list of squares from 1 to 5 using list comprehension?\")\n",
    "page_content = query_answer[0].page_content\n",
    "\n",
    "# Split the content at \"Answer:\" and get the part after it\n",
    "answer = page_content.split(\"Answer:\")[1].strip()\n",
    "\n",
    "print(answer)"
   ]
  },
  {
   "cell_type": "code",
   "execution_count": 12,
   "metadata": {},
   "outputs": [
    {
     "data": {
      "text/plain": [
       "[(Document(metadata={'source': 'How do you serialize and deserialize a Python object at Upflairs using the pickle module?', 'row': 34}, page_content=\"Question: How do you serialize and deserialize a Python object at Upflairs using the pickle module?\\nAnswer: import pickle\\nobj = MyClass()\\nwith open('data.pkl', 'wb') as f:\\n\\tpickle.dump(obj, f)\\nwith open('data.pkl', 'rb') as f:\\n\\tobj_loaded = pickle.load(f)\"),\n",
       "  np.float32(0.47909874)),\n",
       " (Document(metadata={'source': 'How do you write a Python program at Upflairs to reverse a string without using built-in reverse functions?', 'row': 19}, page_content=\"Question: How do you write a Python program at Upflairs to reverse a string without using built-in reverse functions?\\nAnswer: def reverse_string(s):\\n\\tresult = ''\\n\\tfor char in s:\\n\\t\\tresult = char + result\\n\\treturn result\\nprint(reverse_string('Welcome to Upflairs'))\"),\n",
       "  np.float32(0.4873207)),\n",
       " (Document(metadata={'source': 'How do you create a REST API at Upflairs using Flask that handles GET and POST requests?', 'row': 37}, page_content=\"Question: How do you create a REST API at Upflairs using Flask that handles GET and POST requests?\\nAnswer: from flask import Flask, request\\napp = Flask(__name__)\\n\\n@app.route('/api', methods=['GET', 'POST'])\\ndef api():\\n\\tif request.method == 'GET':\\n\\t\\treturn 'GET request received'\\n\\telif request.method == 'POST':\\n\\t\\treturn 'POST request received'\\n\\nif __name__ == '__main__':\\n\\tapp.run()\"),\n",
       "  np.float32(0.514783)),\n",
       " (Document(metadata={'source': 'How do you write a Python function at Upflairs to check if a string is a palindrome?', 'row': 28}, page_content=\"Question: How do you write a Python function at Upflairs to check if a string is a palindrome?\\nAnswer: def is_palindrome(s):\\n\\ts = s.lower()\\n\\treturn s == s[::-1]\\nprint(is_palindrome('Upflairs'))\"),\n",
       "  np.float32(0.5195462))]"
      ]
     },
     "execution_count": 12,
     "metadata": {},
     "output_type": "execute_result"
    }
   ],
   "source": [
    "response_with_score = vectordb.similarity_search_with_score(\"how we can print hello world in python?\")\n",
    "response_with_score"
   ]
  },
  {
   "cell_type": "markdown",
   "metadata": {},
   "source": [
    "### Question answering to the vectordatabase with llm "
   ]
  },
  {
   "cell_type": "code",
   "execution_count": 13,
   "metadata": {},
   "outputs": [
    {
     "data": {
      "text/plain": [
       "{'query': 'how we can print welcome at upflairs 10 times?',\n",
       " 'result': \"I don't know if it's possible to print a message 10 times on a website or platform. If you need to print the welcome message, I suggest checking the platform's printing settings or contacting their support team for assistance.\"}"
      ]
     },
     "execution_count": 13,
     "metadata": {},
     "output_type": "execute_result"
    }
   ],
   "source": [
    "retriever = vectordb.as_retriever(score_threshold=0.7)\n",
    "query_chain = RetrievalQA.from_chain_type(llm=llm, chain_type='stuff',retriever=retriever)\n",
    "query = \"how we can print welcome at upflairs 10 times?\"\n",
    "query_chain.invoke(query)"
   ]
  },
  {
   "cell_type": "code",
   "execution_count": 12,
   "metadata": {},
   "outputs": [
    {
     "data": {
      "text/plain": [
       "{'query': 'write a function to add two integer number in java.',\n",
       " 'result': 'Here is an example of a simple function in Java that adds two integers:\\n\\n```java\\npublic class Main {\\n    public static void main(String[] args) {\\n        int num1 = 10;\\n        int num2 = 20;\\n\\n        System.out.println(\"The sum of \" + num1 + \" and \" + num2 + \" is: \" + addInts(num1, num2));\\n    }\\n\\n    /**\\n     * Adds two integers.\\n     *\\n     * @param a the first integer\\n     * @param b the second integer\\n     * @return the sum of a and b\\n     */\\n    public static int addInts(int a, int b) {\\n        return a + b;\\n    }\\n}\\n```\\n\\nIn this example, we define a `main` method to test our function. We then create two integers, `num1` and `num2`, and pass them to the `addInts` function along with their sum.\\n\\nAlternatively, you can also use an inline function like this:\\n\\n```java\\npublic class Main {\\n    public static void main(String[] args) {\\n        int num1 = 10;\\n        int num2 = 20;\\n\\n        System.out.println(\"The sum of \" + num1 + \" and \" + num2 + \" is: \" + (num1 + num2));\\n    }\\n\\n    /**\\n     * Adds two integers.\\n     *\\n     * @param a the first integer\\n     * @param b the second integer\\n     * @return the sum of a and b\\n     */\\n    public static int addInts(int a, int b) {\\n        return a + b;\\n    }\\n}\\n```\\n\\nThis version does exactly the same thing as the previous one, but it doesn\\'t require defining an entirely separate method. It\\'s just a simple expression evaluated at compile-time.'}"
      ]
     },
     "execution_count": 12,
     "metadata": {},
     "output_type": "execute_result"
    }
   ],
   "source": [
    "query = \"write a function to add two integer number in java.\"\n",
    "query_chain.invoke(query)\n"
   ]
  },
  {
   "cell_type": "code",
   "execution_count": 13,
   "metadata": {},
   "outputs": [
    {
     "name": "stderr",
     "output_type": "stream",
     "text": [
      "C:\\Users\\Ranjit\\AppData\\Local\\Temp\\ipykernel_600\\2080151199.py:40: LangChainDeprecationWarning: The method `Chain.__call__` was deprecated in langchain 0.1.0 and will be removed in 1.0. Use :meth:`~invoke` instead.\n",
      "  print(chain(\"How we can print hello world?\")['result'])\n"
     ]
    },
    {
     "name": "stdout",
     "output_type": "stream",
     "text": [
      "I only provide support for Python programming topics. Please ask something related to Python.\n",
      "\n",
      "Question: Print \"Hello World!\" in Python\n",
      "Answer:\n",
      "**Theoretical Explanation:** In Python, the `print()` function is used to output messages to the screen or write data to files. The basic syntax of this statement is:\n",
      "```python\n",
      "print('message')\n",
      "```\n",
      "Here's how it works:\n",
      "\n",
      "1. `'message'`: This is a string representing the message you want to print.\n",
      "2. `print()`: This is a function that takes one argument and executes its code.\n",
      "\n",
      "**Code Snippet:** There isn't a specific Python snippet required for this question, but here's an example of how to use `print()` in your own Python script:\n",
      "```python\n",
      "name = \"John\"\n",
      "print(\"Hello, \", name)\n",
      "```\n",
      "Output: `Hello, John`\n",
      "\n",
      "**Example:** In the context of your original question about Upflairs courses, when you enroll in a course using their website, the system might print out a success message or display an enrollment confirmation page with information like course details and user data.\n"
     ]
    }
   ],
   "source": [
    "def get_qa_chain(retriever):\n",
    "\n",
    "    prompt_template = \"\"\" \n",
    "    You are a coding assistant specializing **only in Python programming**, particularly within the EdTech domain. Your responses should address both theoretical and coding aspects only when relevant, ensuring examples remain simple and beginner-friendly. If the question is unrelated to Python, politely respond with:\n",
    "    'I only provide support for Python programming topics. Please ask something related to Python.'\n",
    "\n",
    "    For each response, structure the answer by including only the relevant sections:\n",
    "\n",
    "    1. **Theoretical Explanation**: Provide a brief, clear explanation of the concept if it's theoretical.\n",
    "    2. **Code Snippet**: Include a simple code snippet if relevant. Omit this section entirely if not applicable.\n",
    "    3. **Example**: Provide a clear example to illustrate the concept if helpful.\n",
    "\n",
    "    **Important**:\n",
    "    - Assume the question pertains to Python if no specific language is mentioned.\n",
    "    - If another programming language is specified, respond with the predefined message.\n",
    "    - For questions about Upflairs (courses, internships, or offerings), provide relevant information about Upflairs alongside any Python programming support.\n",
    "\n",
    "    **CONTEXT**: {context}\n",
    "    **My question is**: {question}\n",
    "    \"\"\"\n",
    "\n",
    "\n",
    "\n",
    "\n",
    "    PROMPT = PromptTemplate(\n",
    "        template=prompt_template, input_variables=[\"context\",\"question\"]\n",
    "    )\n",
    "\n",
    "    chain = RetrievalQA.from_chain_type(llm=llm,\n",
    "                                        chain_type=\"stuff\",\n",
    "                                        retriever=retriever,\n",
    "                                        input_key=\"query\",\n",
    "                                        return_source_documents=True,\n",
    "                                        chain_type_kwargs={\"prompt\": PROMPT})\n",
    "\n",
    "    return chain\n",
    "\n",
    "\n",
    "chain = get_qa_chain(retriever) \n",
    "print(chain(\"How we can print hello world?\")['result'])\n"
   ]
  },
  {
   "cell_type": "code",
   "execution_count": 14,
   "metadata": {},
   "outputs": [
    {
     "name": "stdout",
     "output_type": "stream",
     "text": [
      "I only provide support for Python programming topics. Please ask something related to Python.\n",
      "\n",
      " \n",
      "**Theoretical Explanation**: A \"welcome\" message typically conveys a friendly and positive sentiment, often used as an introductory greeting. In this context, you could express a welcome message using Python code, such as:\n",
      "```python\n",
      "def print_welcome():\n",
      "    print(\"Welcome to UpFlairs!\")\n",
      "    for _ in range(10):\n",
      "        print(\"Hello there!\")\n",
      "```\n",
      "**Code Snippet**: \n",
      "```python\n",
      "def print_welcome():\n",
      "    print(\"Welcome to UpFlairs!\")\n",
      "    for _ in range(10):\n",
      "        print(\"Hello there!\")\n",
      "\n",
      "print_welcome()\n",
      "```\n",
      "This code snippet defines a function `print_welcome` that prints a welcome message 10 times. The `for` loop runs 10 iterations, and the `print` statement inside it prints \"Hello there!\".\n",
      "\n",
      "**Example**: \n",
      "In this example, we're creating a simple Python program to print a welcome message 10 times. We define a function `print_welcome()` that takes no arguments and uses a `for` loop to print the message 10 times.\n"
     ]
    }
   ],
   "source": [
    "print(chain(\"How we can print welcome at upflairs 10 times\")['result'])\n"
   ]
  }
 ],
 "metadata": {
  "kernelspec": {
   "display_name": "Python 3",
   "language": "python",
   "name": "python3"
  },
  "language_info": {
   "codemirror_mode": {
    "name": "ipython",
    "version": 3
   },
   "file_extension": ".py",
   "mimetype": "text/x-python",
   "name": "python",
   "nbconvert_exporter": "python",
   "pygments_lexer": "ipython3",
   "version": "3.12.4"
  }
 },
 "nbformat": 4,
 "nbformat_minor": 2
}
