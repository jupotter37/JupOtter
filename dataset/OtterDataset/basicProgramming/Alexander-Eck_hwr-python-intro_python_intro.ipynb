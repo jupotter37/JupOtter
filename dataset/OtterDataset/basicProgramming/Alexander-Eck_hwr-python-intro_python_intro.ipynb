{
 "cells": [
  {
   "cell_type": "markdown",
   "metadata": {},
   "source": [
    "# Getting started with Python\n",
    "\n",
    "By the end of this notebook, you will know the basic syntax and common design concepts of **Python**, including:\n",
    "+ Operators\n",
    "+ String manipulation\n",
    "+ Data structures\n",
    "+ Control flow\n",
    "+ Functions\n",
    "\n",
    "As a prerequisite, I assume that you have already written software code before, albeit in a different language like Java. Having said that, the notebook content should still be rather beginner-friendly.\n",
    "\n",
    "## Initial installation and configuration steps\n",
    "\n",
    "This lesson is meant to be walked through as a [Juypter Notebook](https://jupyter.org/). To get you prepared, we will configure Visual Studio Code such that it can execute Jupyter Notebook files. Alternatively, you may configure Jupyter Notebook as [stand-alone installation](https://docs.jupyter.org/en/latest/start/).\n",
    "\n",
    "> To complete this section, you might want to consult the dedicated tutorials from our previous sessions on how to set up Python and Git, respectively.\n",
    "\n",
    "### Fork the lesson repository, configure a Python Virtual Environment\n",
    "\n",
    "Start by forking the lesson repository: https://github.com/Alexander-Eck/hwr-python-intro\n",
    "\n",
    "Next, clone the forked remote repository to your local machine, in a folder of your choice, e.g., `C:\\Users\\me\\projects\\`.\n",
    "\n",
    "In the cloned local repository folder (e.g., `C:\\Users\\me\\projects\\hwr-python-intro\\`), create a Python Virtual Environment and activate it. Then, install `jupyter` and `ipykernel` with `pip`:\n",
    "\n",
    "```powershell\n",
    "pip install jupyter\n",
    "pip install -U ipykernel\n",
    "```\n",
    "\n",
    "*Note: The \"-U\" flag is just a precautionary measure and not strictly required.*\n",
    "\n",
    "### Set up a Jupyter Notebook environment in Visual Studio Code\n",
    "\n",
    "Open the local repository folder as active workspace in Visual Studio Code. \n",
    "\n",
    "Next, press <kbd>Shift</kbd>+<kbd>Ctrl</kbd>+<kbd>X</kbd>, search for and install the extension *\"Jupyter\"* (provided by Microsoft). This install includes additional packages (called *\"Extension Pack\"*), don't be confused by that. Restart the software in case you are asked to.\n",
    "\n",
    "Press <kbd>Shift</kbd>+<kbd>Ctrl</kbd>+<kbd>E</kbd> to open the *\"Explorer\"* side pane. Create a `📄.gitignore` file with this content (save the file afterwards):\n",
    "\n",
    "```.gitignore\n",
    ".gitignore\n",
    ".venv/\n",
    "```\n",
    "\n",
    "*Note: I could have shipped `📄.gitignore` with the source repository. I chose not to, for reminding you of this crucial Git feature.*\n",
    "\n",
    "You are now ready to interact with the Jupyter Notebook shipped with the repository, which you identify by its `*.ipynb` extension (this stands for [\"IPython Notebook\"](https://en.wikipedia.org/wiki/IPython)).\n",
    "\n",
    "**Before you continue**, consult this [Jupyter Notebooks in Visual Studio Code](https://code.visualstudio.com/docs/datascience/jupyter-notebooks) tutorial. It will teach you the user interface.\n",
    "\n",
    "*You may now switch to the Jupyter notebook (recommended). Alternatively, just continue reading this document.*\n",
    "\n",
    "## Hello, World!\n",
    "\n",
    "We start with a one-line \"Hello, World!\" message to the prompt. Execute this cell:"
   ]
  },
  {
   "cell_type": "code",
   "execution_count": null,
   "metadata": {},
   "outputs": [],
   "source": [
    "print('Hello, World!')"
   ]
  },
  {
   "cell_type": "markdown",
   "metadata": {},
   "source": [
    "This is boring and spectacular at the same time: Boring, since the Python script doesn't do that much. Exciting, since it took just one line of code with one function call to implement an executable example (compare this with [Java](https://introcs.cs.princeton.edu/java/11hello/HelloWorld.java.html)). Note that the line end is not closed with a semicolon `;`.\n",
    "\n",
    "This next example is a bit more interesting:"
   ]
  },
  {
   "cell_type": "code",
   "execution_count": null,
   "metadata": {},
   "outputs": [],
   "source": [
    "# If/else variant of \"Hello, World!\"\n",
    "message = 'Hello, World!'\n",
    "if message:\n",
    "    print(message)\n",
    "else:\n",
    "    print(\"We'll never be here.\") # This string will be lost in space and time"
   ]
  },
  {
   "cell_type": "markdown",
   "metadata": {},
   "source": [
    "+ No `{ }`, i.e. no curly brackets! To increase code readability and reduce errors, Python uses **indentation** to group statements. In practice, you either let the code editor do the work, or indent by hitting the <kbd>Tab</kbd> key. *(Most editors will produce four empty space characters per <kbd>Tab</kbd>)*. Transitioning from Java, this might look confusing and a little bit like magic at first, but you will get the hang of this feature pretty fast.\n",
    "+ **Comments** are started with the `#` sign (aka *\"pound\"*, *\"hash\"*, or *\"number\"* sign). The remainder of the line following the pound sign will be a comment, except there's an `\"` (double quote) or `'` (single quote) before: both `\"#comment\"` and `'#comment'` are strings, not comments. *(You may use both singe and double quotes to form a string.)* There are no multi-line comments in Python.\n",
    "+ Lastly, you may have noticed that while the variable `message` is recognized as a [`string`](https://docs.python.org/3/library/string.html), you did not need to explicitly specify its data type - Python will infer that during runtime. This behavior is called **dynamic typing**, as opposed to static typing that you might know from Java. *(Still, Python [supports a variant of static typing](https://docs.python.org/3/library/typing.html) if you want to.)*\n",
    "\n",
    "## Operators\n",
    "\n",
    "### Arithmetic operators\n",
    "\n",
    "The arithmetic operators in Python are pretty self-explanatory:"
   ]
  },
  {
   "cell_type": "code",
   "execution_count": null,
   "metadata": {},
   "outputs": [],
   "source": [
    "add = 1 + 5 \t\t\t\t\t# 6\n",
    "add += 5 \t\t\t\t\t\t# 11\n",
    "float_number = (5 * 6 - 1) / 8 \t# = 3.625\n",
    "int_number = (5 * 6 - 1) // 8 \t# = 3\n",
    "modulo = 22 % 7 \t\t\t\t# = 1\n",
    "power = 3 ** 2 \t\t\t\t\t# = 9\n",
    "\n",
    "print(\n",
    "    f'add: {add}, '\n",
    "    f'float_number: {float_number}, '\n",
    "\tf'int_number: {int_number}, '\n",
    "\tf'modulo: {modulo}, '\n",
    "\tf'power: {power}'\n",
    ")"
   ]
  },
  {
   "cell_type": "markdown",
   "metadata": {},
   "source": [
    "+ The `//` operator performs a **floor division**, i.e. it rounds down the result to the nearest integer.\n",
    "+ The `%` (**modulo**) operator is commonly overlooked by beginners - but it is [immensely useful](https://stackoverflow.com/questions/2609315/).\n",
    "+ **Exponentiation** is performed with `**`; the more intuitive `^` would perform a [bit-wise XOR](https://wiki.python.org/moin/BitwiseOperators) operation.\n",
    "+ If you combine any arithmetic operator with `=` (the **assignment** operator), that operator will be applied to the variable on the left and the result stored in that variable. For example, `add += 5` is equivalent to `add = add + 5`. This syntax will save you some keystrokes.\n",
    "\n",
    "### Operators with English names\n",
    "\n",
    "This category is not an official name from Python, but I find it suitable: **logical operators**, **membership operators** and **identity operators** are written in plain English, so you don't have to remember any weird syntax:"
   ]
  },
  {
   "cell_type": "code",
   "execution_count": null,
   "metadata": {},
   "outputs": [],
   "source": [
    "# Logical operators\n",
    "print((not(1 == 1 and 2 == 3)) or 3 == 3) # True\n",
    "\n",
    "# Membership operators\n",
    "full_name = 'Joe Doe'\n",
    "print('Doe' in full_name)\n",
    "\n",
    "list_var = [1, 2, 3]\n",
    "print(2 in list_var)     # True\n",
    "print(4 not in list_var) # True\n",
    "\n",
    "dict_var = {'ID': 1, 'name': 'Joe'}\n",
    "print('ID' in dict_var)   # True\n",
    "print ('Joe' in dict_var) # False\n",
    "\n",
    "# Identity operators\n",
    "x, y = 2.0, 2\n",
    "print(x is y)     # False\n",
    "print(x is not y) # True"
   ]
  },
  {
   "cell_type": "markdown",
   "metadata": {},
   "source": [
    "+ In Java, the equivalent to the logical `and` is `&&`, the equivalent to `or` is `||`.\n",
    "+ The operator to test for equality (i.e., `==`) is the same in Python and Java.\n",
    "+ To test for inequality, either test for equality and then negate the result with `not()`, or use the inequality test operator `!=`. Hence, both `not(1 == 2)` and `1 != 2` evaluate to `True`.\n",
    "+ The [`in`](https://docs.python.org/3/reference/expressions.html#membership-test-operations) operator tests for membership in array-like variables (called **sequences** in Python). This operator is very versatile: you can apply it to strings, lists, dictionaries, and many more *(more on lists and dictionaries later on)*. In most cases, its use is intuitive.\n",
    "+ The [`is`](https://docs.python.org/3/reference/expressions.html#is-not) operator tests for **object identity**, not value identity: `2.0` (a float object) is different to `2` (an integer object).\n",
    "+ I included some [*syntactic sugar*](https://en.wikipedia.org/wiki/Syntactic_sugar): Python lets you assign values to more than one variable in one line - separate both variables and values with a `,` (comma sign), respectively. Sometimes you want to do this for increased readability or if you know a function will return more than one value.\n",
    "\n",
    "> You can't name a variable `and`, `in`, `is`, etc.: Python reserved a few [keywords](https://docs.python.org/3/reference/lexical_analysis.html#keywords). However, variable names are case-sensitive, hence the variable name `aNd` would be okay.\n",
    "> \n",
    "> Since we already discuss variable naming: by convention, Python variables are written in *snake_case*, not *camelCase* as in Java. Many people will argue that separating words by `_` (underscore) is more readable than the camel-case alternative.\n",
    "\n",
    "## String manipulation\n",
    "\n",
    "In a typical Python application, you will manipulate strings a lot. Luckily, Python has pretty good support for this data type. There are three main concepts to remember when working with strings *(my personal selection - Python provides lots of tools for [text processing](https://docs.python.org/3/library/text.html))*.\n",
    "\n",
    "### String class methods\n",
    "\n",
    "First, you need to understand that a variable of type `string` (like any variable in Python) is an object (here: an object of the `string` class), which means that it comes with [built-in string methods](https://docs.python.org/3/library/stdtypes.html#string-methods). For example, you can do the following:"
   ]
  },
  {
   "cell_type": "code",
   "execution_count": null,
   "metadata": {},
   "outputs": [],
   "source": [
    "full_name = 'Joe Doe'\n",
    "\n",
    "first_name, last_name = full_name.split(' ')\n",
    "print(first_name) # Joe\n",
    "\n",
    "last_name_index = full_name.index(last_name)\n",
    "print(last_name_index) # 4\n",
    "\n",
    "print(full_name.lower()) # joe doe"
   ]
  },
  {
   "cell_type": "markdown",
   "metadata": {},
   "source": [
    "> A code editor like Visual Studio Code will give you tool-tips with available methods and attributes - make use of [this feature](https://code.visualstudio.com/docs/editor/intellisense).\n",
    "\n",
    "### Sequence operations\n",
    "\n",
    "Second, you should know that a string [behaves like a sequence](https://docs.python.org/3/library/stdtypes.html#common-sequence-operations) (after all, a string is a sequence of characters in a particular order). For instance, you can do this:"
   ]
  },
  {
   "cell_type": "code",
   "execution_count": null,
   "metadata": {},
   "outputs": [],
   "source": [
    "full_name = 'Joe Doe'\n",
    "first_name, last_name = full_name.split(\" \")\n",
    "last_name_index = full_name.index(last_name)\n",
    "\n",
    "# Get length of the string\n",
    "full_name_length = len(full_name)\n",
    "print(full_name_length) # 7\n",
    "\n",
    "# Get character at index 4 (i.e., the fifth character)\n",
    "print (full_name[4]) # D\n",
    "\n",
    "# Get the last name\n",
    "print(\n",
    "    full_name[\n",
    "        last_name_index :\n",
    "        full_name_length\n",
    "    ]\n",
    ") # Doe\n",
    "\n",
    "print(full_name[last_name_index : ]) # Doe"
   ]
  },
  {
   "cell_type": "markdown",
   "metadata": {},
   "source": [
    "+ `len()` is one of a number of handy [built-in functions](https://docs.python.org/3/library/functions.html#built-in-functions) that can be applied to most data types in Python.\n",
    "+ The `s[i]` operation will return the entry at index position `i` - in our example, the letter `D`.\n",
    "+ The `s[i:j]` operation will return the slice from index position `i` to index position `j`. In our example, we started at the position of the first letter of the last name and stopped at the last position. *(We achieve the same result with `full_name[last_name_index : ]`.)*\n",
    "+ To increase readability, Python lets you break up function calls over multiple lines. You just need to provide indentation to notify Python that a single command extends over multiple lines. The rules are pretty intuitive. *To be clear: this applies universally in Python, not only to string manipulation.*\n",
    "\n",
    "### Multi-line strings, value injection at runtime\n",
    "\n",
    "Third, you should know how to (1) extend string literals over multiple lines, and (2) how to inject variable values during runtime. Several approaches are available ([W3Schools](https://www.w3schools.com/python/python_string_formatting.asp) shows a selection) - here is a demonstration of a particularly simple option for both (1) and (2):"
   ]
  },
  {
   "cell_type": "code",
   "execution_count": null,
   "metadata": {},
   "outputs": [],
   "source": [
    "user_id = 10\n",
    "\n",
    "sql = (\n",
    "    'SELECT * FROM users '\n",
    "\tf'WHERE id={user_id} '\n",
    "    'ORDER BY name; '\n",
    ")\n",
    "\n",
    "print (sql) # SELECT * FROM users WHERE id=10 ORDER BY name; "
   ]
  },
  {
   "cell_type": "markdown",
   "metadata": {},
   "source": [
    "## Data structures\n",
    "\n",
    "Python has four built-in **data structures** (also called *compound data types*) to group together related values in one variable. These are **list**, **tuple**, **set**, and **dictionary**: \n",
    "\n",
    "| **Data structure** | **Example**    | **Ordered** | **Changeable** | **Allow duplicates** | **Remark**                                          |\n",
    "| ------------------ | --- | ----------- | -------------- | -------------------- | --------------------------------------------------- |\n",
    "| ***List***         | `[1, 5, 9]` | Yes         | Yes            | Yes                  | The most versatile data structure                   |\n",
    "| ***Tuple***        | `('Joe', 'Doe')` | Yes         | **No**         | Yes                  | Cannot be changed after creation                                                    |\n",
    "| ***Set***          | `{'apples', 'oranges'}` | **No**      | (Yes)          | **No**               | Items can be added or removed, but not manipulated  |\n",
    "| ***Dictionary***   | `{'id': 1, 'first_name': 'Joe', 'revenue': 80.5}` | Yes         | Yes            | (No)                 | list of key-value pairs; duplicate keys not allowed |\n",
    "\n",
    "+ \"Ordered\" means that the individual entries can be accessed by index. For example `('Joe', 'Doe')[0]` will return `Joe`, the first entry in the tuple.\n",
    "+ \"Changeable\" means the entries can be modified, new ones can be added, and existing ones can be removed.\n",
    "+ \"Allow duplicates\" means that the variable may hold the same value more than once. If you try adding a duplicate value to a set, it will simply be discarded.\n",
    "\n",
    "### Each data structure has its own *raison d'être*\n",
    "\n",
    "At first, you might be confused why Python makes a point by offering four different data structures. Indeed, you can realize *any* use-case with lists alone, and don't strictly need the others. At the face of it, the following variable assignments may seem interchangeable:"
   ]
  },
  {
   "cell_type": "code",
   "execution_count": null,
   "metadata": {},
   "outputs": [],
   "source": [
    "list_var = [1, 'Joe Doe', 80.5]\n",
    "tuple_var = (1, 'Joe Doe', 80.5) # Enclosing parantheses '( )' not required\n",
    "set_var = {1, 'Joe Doe', 80.5}\n",
    "dict_var = {'id': 1, 'full_name': 'Joe Doe', 'revenue': 80.5}\n",
    "\n",
    "print(list_var)     # [1, 'Joe Doe', 80.5]\n",
    "print(tuple_var)    # (1, 'Joe Doe', 80.5)\n",
    "print(set_var)      # {80.5, 1, 'Joe Doe'}\n",
    "print(dict_var)     # {'id': 1, 'full_name': 'Joe Doe', 'revenue': 80.5}"
   ]
  },
  {
   "cell_type": "markdown",
   "metadata": {},
   "source": [
    "However, it is more than worth learning to handle all four data structures, since each one has unique qualities. Consider this toy example:"
   ]
  },
  {
   "cell_type": "code",
   "execution_count": null,
   "metadata": {},
   "outputs": [],
   "source": [
    "user_ids = [1, 5, 9]\n",
    "first_last_name = tuple('Joe Doe'.split(' '))\n",
    "fruit_inventory = {'apples', 'oranges', 'apples'}\n",
    "user = {'id': 1, 'first_name': 'Joe', 'revenue': 80.5}\n",
    "print(user_ids)         # [1, 5, 9]\n",
    "print(first_last_name)  # ('Joe', 'Doe')\n",
    "print(fruit_inventory)  # {'apples', 'oranges'}\n",
    "print(user)             # {'id': 1, 'first_name': 'Joe', 'revenue': 80.5}"
   ]
  },
  {
   "cell_type": "markdown",
   "metadata": {},
   "source": [
    "+ With the **list** `user_ids` we collect IDs that are of interest to us. Since the list is changeable, we could for instance override its first value: `user_ids[0] = 2`, which changes the list to `[2, 5, 9]`.\n",
    "+ Instead of creating two variables, we simply hold first name and last name returned by `full_name.split(' ')` in an ordered, but immutable **tuple** (note that we called `tuple()` to change the output of `split()` into the tuple data structure).\n",
    "+ The **set** we created above holds just `{'apples', 'oranges'}` (in any order, so `{'oranges', 'apples'}` would also be possible). With a set, we can ensure to keep only unique entries and will get rid of duplicate values automatically.\n",
    "+ Lastly, the values stored in the **dictionary** could have easily be attributes of an object, for which we would have needed to define a class first - much easier to hold structured data this way. *(If you read and write data in the [JSON format](https://www.json.org/json-de.html), you'll find dictionaries to be the perfect match.)*\n",
    "\n",
    "### Nesting is allowed\n",
    "\n",
    "You can nest data structures, i.e., you are allowed to provide a data structure as a value entry of another data structure. For example, this is possible:"
   ]
  },
  {
   "cell_type": "code",
   "execution_count": null,
   "metadata": {},
   "outputs": [],
   "source": [
    "user = {\n",
    "\t'id': 1,\n",
    "\t'name': {'first': 'Joe', 'last': 'Doe'},\n",
    "\t'address': {'street': 'Main Ave', 'city': 'Springfield'},\n",
    "\t'birthday': (1990, 11, 30)\n",
    "\t}\n",
    "\n",
    "print(user['id'])              # 1\n",
    "print(user['name']['first'])   # Joe\n",
    "print(user['address']['city']) # Springfield\n",
    "print(user['birthday'][0])     # 1990"
   ]
  },
  {
   "cell_type": "markdown",
   "metadata": {},
   "source": [
    "### There's a lot more to learn about data structures\n",
    "\n",
    "Showing the numerous possibilities of the built-in data structures goes well beyond the scope of this notebook. To learn more, head over to the [official Python tutorial on data structures](https://docs.python.org/3/tutorial/datastructures.html).\n",
    "\n",
    "## Control flow\n",
    "\n",
    "The control flow is the core part of your Python code, since that is the sequence in which the individual steps are executed (or evaluated).\n",
    "\n",
    "> Python is (mostly) an [imperative programming](https://en.wikipedia.org/wiki/Imperative_programming) language, in which the programmer uses control flow to define *how* the program shall *operate*. Contrast this to a [declarative programming](https://en.wikipedia.org/wiki/Declarative_programming) language like SQL, in which the program describes *what* the program shall *accomplish*. Having said that, Python supports [functional programming](https://docs.python.org/3/howto/functional.html), which some argue is a variant of [declarative programming](https://stackoverflow.com/questions/10925689/functional-programming-vs-declarative-programming-vs-imperative-programming).\n",
    "\n",
    "### Conditional statements: if, else, elif\n",
    "\n",
    "The conditional statements `if` and `else` work exactly as you would expect. Consider this example which checks for [free ticket eligibility](https://www.bahn.de/angebot/zusatzticket/fahrkarten-kinder):"
   ]
  },
  {
   "cell_type": "code",
   "execution_count": null,
   "metadata": {},
   "outputs": [],
   "source": [
    "FREE_LIMIT = 5\n",
    "CHILD_LIMIT = 14\n",
    "\n",
    "ticket_price = 19.95\n",
    "my_age = 14\n",
    "with_chaperon = True\n",
    "\n",
    "if my_age <= FREE_LIMIT:\n",
    "    ticket_price = 0.0\n",
    "    print('Free ticket: child under 6')\n",
    "elif (my_age <= CHILD_LIMIT\n",
    "        and with_chaperon):\n",
    "    ticket_price = 0.0\n",
    "    print('Free ticket: child under 15 accompanied by chaperon')\n",
    "else:\n",
    "    print(f'Regular ticket price: €{ticket_price}')"
   ]
  },
  {
   "cell_type": "markdown",
   "metadata": {},
   "source": [
    "+ This control flow will evaluate to `Free ticket: child under 15 accompanied by chaperon`.\n",
    "+ The conditional statement ends with a colon `:` \n",
    "+ To extend a conditional statement over multiple lines, you must enclose it with parantheses `( )`, otherwise these are optional.\n",
    "\n",
    "#### The elif statement\n",
    "\n",
    "`elif` stands for *\"else if\"*, which saves you many new lines & indentations. Consider the alternatives:"
   ]
  },
  {
   "cell_type": "code",
   "execution_count": null,
   "metadata": {},
   "outputs": [],
   "source": [
    "x = 1\n",
    "y = x + 1\n",
    "\n",
    "# Variant 1: not using elif\n",
    "if x == y:\n",
    "\tprint('x equals y')\n",
    "else:\n",
    "\tif x > y:\n",
    "\t\tprint('x is larger than y')\n",
    "\telse:\n",
    "\t\tprint('x is smaller than y')\n",
    "\t\n",
    "# Variant 2: using elif\n",
    "if x == y:\n",
    "\tprint('x equals y')\n",
    "elif x > y:\n",
    "\tprint('x is larger than y')\n",
    "else:\n",
    "\tprint('x is smaller than y')"
   ]
  },
  {
   "cell_type": "markdown",
   "metadata": {},
   "source": [
    "With `elif`, you can achieve the same effect that you know from the Java [`switch` / `case`](https://www.w3schools.com/java/java_switch.asp) statement.\n",
    "\n",
    "#### Truthy and falsy values\n",
    "\n",
    "An `if` (or `elif`) statement must be an expression that results in a **boolean value** (`True` or `False`) when evaluated. The statement can be arbitrarily complex (e.g., you may call a function in-between), but in the end the result *must* be either `True` or `False`.\n",
    "\n",
    "Having said that, Python makes this task a lot easier for you, because you can test *any* value for truth, irrespective whether it is of type `bool` or not. **By default**, everything is considered `True` unless [specified otherwise](https://docs.python.org/3/library/stdtypes.html#truth-value-testing). For example, `if 5` evaluates to `True`, whereas `if 0` evaluates to `False`. We could do something like this:"
   ]
  },
  {
   "cell_type": "code",
   "execution_count": null,
   "metadata": {},
   "outputs": [],
   "source": [
    "mistakes = 5\n",
    "\n",
    "# Variant 1: leverage 'truthy / falsy'\n",
    "if mistakes:\n",
    "\tprint(f'There are {mistakes} mistakes left to fix!')\n",
    "else:\n",
    "\tprint('All nice and fine!')\n",
    "\n",
    "# Variant 2: explicitly test for truth value\n",
    "if mistakes > 0:\n",
    "\tprint(f'There are {mistakes} mistakes left to fix!')\n",
    "else:\n",
    "\tprint('All nice and fine!')"
   ]
  },
  {
   "cell_type": "markdown",
   "metadata": {},
   "source": [
    "This behavior is sometimes called [truthy / falsy value interpretation](https://www.freecodecamp.org/news/truthy-and-falsy-values-in-python/), which is also known in other languages like [JavaScript](https://developer.mozilla.org/en-US/docs/Glossary/Truthy?retiredLocale=de).\n",
    "\n",
    "### For loops and while loops\n",
    "\n",
    "Let's start with `while` loops: They do [exist in Python](https://www.w3schools.com/python/python_while_loops.asp), and it is completely okay for you to define a `while` loop. However, it is rarely used, so we'll **skip `while` loops here**.\n",
    "\n",
    "The `for` loop syntax is best compared to the [for-each](https://www.w3schools.com/java/java_foreach_loop.asp) syntax in Java. With the `for` loop, you take **each element** of a sequence and perform some kind of computation on it. Here's an example:"
   ]
  },
  {
   "cell_type": "code",
   "execution_count": null,
   "metadata": {},
   "outputs": [],
   "source": [
    "fruits = ['apple', 'plum', 'orange', 'kiwi', 'pear', 'melon']\n",
    "\n",
    "for fruit in fruits:\n",
    "\tprint(fruit) # apple plum orange kiwi pear melon"
   ]
  },
  {
   "cell_type": "markdown",
   "metadata": {},
   "source": [
    "+ After the initial `for`, define the **item variable** (which exists just in the `for` loop), here `fruit`.\n",
    "+ The **sequence** to be looped through follows after the `in` keyword. \n",
    "+ The `for` statement ends with a colon `:`, just like the `if` statement does.\n",
    "\n",
    "#### The range() function\n",
    "\n",
    "Let's assume you want to emulate the behavior of a classic [Java for loop](https://www.w3schools.com/java/java_for_loop.asp). You can do that with the built-in [`range()` function](https://docs.python.org/3/library/functions.html#func-range):"
   ]
  },
  {
   "cell_type": "code",
   "execution_count": null,
   "metadata": {},
   "outputs": [],
   "source": [
    "sentence = ['Mi', 'casa', 'es', 'su', 'casa']\n",
    "\n",
    "for i in range(3):\n",
    "\tprint(sentence[i]) # Mi casa es"
   ]
  },
  {
   "cell_type": "markdown",
   "metadata": {},
   "source": [
    "+ `range()` generates a sequence of numbers of specified length. In its default configuration, the function generates ascending numbers, starting with the value `0`. \n",
    "+ The `for` loop iterates through each element of the sequence just created by `range()`.\n",
    "+ We use that number as index to access individual items on the `sentence` list, thus effectively looping through the first three elements of `sentence` in this example.\n",
    "\n",
    "#### The enumerate() function\n",
    "\n",
    "Also quite useful is the built-in [`enumerate()` function](https://docs.python.org/3/library/functions.html#enumerate). By using it in a `for` loop, you get easy access to the index number of the looped-through sequence:"
   ]
  },
  {
   "cell_type": "code",
   "execution_count": null,
   "metadata": {},
   "outputs": [],
   "source": [
    "sentence = ['Mi', 'casa', 'es', 'su', 'casa']\n",
    "\n",
    "for i, word in enumerate(sentence):\n",
    "\tprint(f'{i}: {word}')"
   ]
  },
  {
   "cell_type": "markdown",
   "metadata": {},
   "source": [
    "Note how you can have **more than one** item variables in a `for` loop.\n",
    "\n",
    "Without `enumerate()`, you'll need a helper variable for the same effect:"
   ]
  },
  {
   "cell_type": "code",
   "execution_count": null,
   "metadata": {},
   "outputs": [],
   "source": [
    "sentence = ['Mi', 'casa', 'es', 'su', 'casa']\n",
    "\n",
    "i = 0\n",
    "for word in sentence:\n",
    "    print(f'{i}: {word}')\n",
    "    i += 1\n"
   ]
  },
  {
   "cell_type": "markdown",
   "metadata": {},
   "source": [
    "#### Iterating through dictionaries\n",
    "\n",
    "A `for` loop iterates through a dictionary, but different to what you might expect:"
   ]
  },
  {
   "cell_type": "code",
   "execution_count": null,
   "metadata": {},
   "outputs": [],
   "source": [
    "user = {\n",
    "\t'id': 1,\n",
    "\t'name': {'first': 'Joe', 'last': 'Doe'},\n",
    "\t'address': {'street': 'Main Ave', 'city': 'Springfield'},\n",
    "\t'birthday': (1990, 11, 30)\n",
    "\t}\n",
    "\n",
    "for item in user:\n",
    "    print(item)"
   ]
  },
  {
   "cell_type": "markdown",
   "metadata": {},
   "source": [
    "This loop will print out the **keys**, not the values, i.e., `id name address birthday`. To get to the values, you must access them via the keys like so:"
   ]
  },
  {
   "cell_type": "code",
   "execution_count": null,
   "metadata": {},
   "outputs": [],
   "source": [
    "for key in user:\n",
    "    print(user[key])"
   ]
  },
  {
   "cell_type": "markdown",
   "metadata": {},
   "source": [
    "Alternatively, you may leverage the [`items()` method](https://www.w3schools.com/python/ref_dictionary_items.asp) of the [`dict` class](https://docs.python.org/3/library/stdtypes.html#dict):"
   ]
  },
  {
   "cell_type": "code",
   "execution_count": null,
   "metadata": {},
   "outputs": [],
   "source": [
    "for key, value in user.items():\n",
    "    print(f'key: {key} .... value: {value}')"
   ]
  },
  {
   "cell_type": "markdown",
   "metadata": {},
   "source": [
    "*This loop will print out both the keys and values - but of course you may simply disregard the keys and just use the values (or the other way round).*\n",
    "\n",
    "### List comprehension and dictionary comprehension\n",
    "\n",
    "List comprehension and dictionary comprehension provide a concise, [pythonic](https://docs.python-guide.org/writing/style/) syntax to create [lists](https://peps.python.org/pep-0202/#id2) and [dictionaries](https://peps.python.org/pep-0274/), respectively.\n",
    "\n",
    "> Speaking of *pythonic*, here is the official [Style Guide for Python Code](https://peps.python.org/pep-0008/).\n",
    "\n",
    "You want to create a list/dictionary with list/dictionary comprehension whenever you iterate through an existing data structure(s) and apply some computation to their individual entries. Often, the **comprehension** syntax saves you the need to explicitly create nested control flows like `if` and `for`. Typically, the result is not only shorter code, but also more comprehensible code.\n",
    "\n",
    "This sounds very abstract, so let's examine some examples. The following list comprehension filters all fruits from a list that contain the letter `a`:"
   ]
  },
  {
   "cell_type": "code",
   "execution_count": null,
   "metadata": {},
   "outputs": [],
   "source": [
    "fruits = ['apple', 'plum', 'orange', 'kiwi', 'pear', 'melon']\n",
    "\n",
    "fruits_with_a = [fruit for fruit in fruits if fruit.count('a')]\n",
    "\n",
    "print(fruits_with_a) # ['apple', 'orange', 'pear']"
   ]
  },
  {
   "cell_type": "markdown",
   "metadata": {},
   "source": [
    "The list comprehension syntax is:\n",
    "+ The element(s) to be appended to a list,\n",
    "+ followed by a `for` statement.\n",
    "+ This might be followed by zero or more `if` and/or `for` clauses, which creates nesting.\n",
    "+ The whole expression is surrounded by a square bracket `[ ]`, indicating that the result will be a list. \n",
    "\n",
    "The list comprehension example above is equivalent to the following code:"
   ]
  },
  {
   "cell_type": "code",
   "execution_count": null,
   "metadata": {},
   "outputs": [],
   "source": [
    "fruits = ['apple', 'plum', 'orange', 'kiwi', 'pear', 'melon']\n",
    "\n",
    "fruits_with_a = []\n",
    "for fruit in fruits:\n",
    "    if fruit.count('a'):\n",
    "        fruits_with_a.append(fruit)\n",
    "\n",
    "print(fruits_with_a) # ['apple', 'orange', 'pear']"
   ]
  },
  {
   "cell_type": "markdown",
   "metadata": {},
   "source": [
    "Dictionary comprehension works the same way, only that this time you create a dictionary, not a list - therefore the expression is surrounded by a curly bracket `{ }`.\n",
    "\n",
    "Here's an example, in which we create a dictionary with `keys` and `values` that initially have been stored in separate lists *(for whatever reason, toy examples don't make always sense)*:"
   ]
  },
  {
   "cell_type": "code",
   "execution_count": null,
   "metadata": {},
   "outputs": [],
   "source": [
    "keys = ['id', 'name', 'address', 'birthday']\n",
    "values = [1, 'Joe', 'Springfield', 1990]\n",
    "\n",
    "user = {k:v for k, v in zip(keys, values)}\n",
    "\n",
    "print(user) # {'id': 1, 'name': 'Joe', 'address': 'Springfield', 'birthday': 1990}"
   ]
  },
  {
   "cell_type": "markdown",
   "metadata": {},
   "source": [
    "*Note that here we match key with value on the fly with the built-in [zip function](https://docs.python.org/3.3/library/functions.html#zip).*\n",
    "\n",
    "This dictionary comprehension is equivalent to:"
   ]
  },
  {
   "cell_type": "code",
   "execution_count": null,
   "metadata": {},
   "outputs": [],
   "source": [
    "keys = ['id', 'name', 'address', 'birthday']\n",
    "values = [1, 'Joe', 'Springfield', 1990]\n",
    "\n",
    "user = {}\n",
    "for i in range(len(keys)):\n",
    "    user[keys[i]] = values[i]\n",
    "\n",
    "print(user) # {'id': 1, 'name': 'Joe', 'address': 'Springfield', 'birthday': 1990}"
   ]
  },
  {
   "cell_type": "markdown",
   "metadata": {},
   "source": [
    "Now, you don't *have* to create your own list or dictionary comprehensions. If it's easier for you, continue with nested `for` and `if` statements. Having said that, you now know how to read list/dictionary comprehensions whenever you see them in foreign code (which will happen a lot).\n",
    "\n",
    "## Functions\n",
    "\n",
    "A function is some code that is executed every time it is called.\n",
    "\n",
    "### Function header and function body\n",
    "\n",
    "To define a function in Python, use the `def` keyword. Here is an example:"
   ]
  },
  {
   "cell_type": "code",
   "execution_count": null,
   "metadata": {},
   "outputs": [],
   "source": [
    "def bmi(weight, height, round_digits=1):\n",
    "    bmi_value = round((weight / height ** 2), round_digits)\n",
    "    return bmi_value\n",
    "\n",
    "print(bmi(85, 1.85))    # 24.8\n",
    "print(bmi(75, 1.85, 4)) # 21.9138\n",
    "print(bmi(height=1.85, weight=75)) # 21.9"
   ]
  },
  {
   "cell_type": "markdown",
   "metadata": {},
   "source": [
    "A function always starts with the **function header**, which consists of:\n",
    "+ The `def` keyword\n",
    "+ The **function name** (here: `bmi`)\n",
    "+ Zero or more input **arguments** between the mandatory parentheses `( )`\n",
    "+ Note how you are allowed to provide a [default value for arguments](https://docs.python.org/3/tutorial/controlflow.html#default-argument-values) - arguments with a default value are **optional** (if no input value is provided, the default will be applied)\n",
    "+ A colon `:` at the end of the function header\n",
    "\n",
    "> Since Python is a **dynamically typed** language, you don't specify the return type, unlike in a **statically typed** language like [Java](https://docs.oracle.com/javase/tutorial/java/javaOO/returnvalue.html). \n",
    "\n",
    "When calling the function, note how you:\n",
    "+ Don't need to provide input values for any optional argument (if you're happy with the default).\n",
    "+ Are allowed to change input order if you provide both argument name and its value.\n",
    "\n",
    "The input arguments can be distributed over more than one line to improve readability, i.e., the function header is not necessarily just one line. For example, this is valid code:"
   ]
  },
  {
   "cell_type": "code",
   "execution_count": null,
   "metadata": {},
   "outputs": [],
   "source": [
    "def bmi(\n",
    "    weight,\n",
    "    height,\n",
    "    round_digits=1\n",
    "):\n",
    "    pass # Nothing implemented yet"
   ]
  },
  {
   "cell_type": "markdown",
   "metadata": {},
   "source": [
    "Everything below the function header that is indented is the **function body**: in the example above the calculation of the body mass index, with some [rounding](https://docs.python.org/3/library/functions.html#round) applied.\n",
    "\n",
    "If you want an **empty function body**, simply put in the [`pass` statement](https://docs.python.org/3/tutorial/controlflow.html#pass-statements). This is commonly done to indicate that there's still some implementation work ahead.\n",
    "\n",
    "Often, you want a function to `return` something. A function without a `return` statement also returns something, namely the [`None` object](https://docs.python.org/3/library/constants.html#None).\n",
    "\n",
    "### Handling arbitrary arguments as function input\n",
    "\n",
    "You will encounter many functions with arguments like these two examples:"
   ]
  },
  {
   "cell_type": "code",
   "execution_count": null,
   "metadata": {},
   "outputs": [],
   "source": [
    "def my_function(foo, *args):\n",
    "\tpass\n",
    "\n",
    "def my_function2(bar, **kwargs):\n",
    "\tpass"
   ]
  },
  {
   "cell_type": "markdown",
   "metadata": {},
   "source": [
    "The important operators are the **asterisk characters** (`*` or `**`, respectively). By convention, the argument name following `*` is `args` (for *arguments*), and the argument name following `**` is `kwargs` (for [*keyword arguments*](https://docs.python.org/3/glossary.html#term-argument)).\n",
    "\n",
    "> But this is really just a convention, the name after the (double-)asterisk operator can be chosen freely. For instance, [`Flask.add_url_rule()`](https://flask.palletsprojects.com/en/2.2.x/api/#flask.Flask.add_url_rule) uses the `**` notation to allow passing on specific option flags - this argument is aptly called `**options` and not `**kwargs`.\n",
    "\n",
    "A function defined with the (double-)asterisk notation accepts **arbitrary input arguments** when being called. Arbitrary can also mean *no input at all*, i.e., both `*args` and `**kwargs` arguments are completely optional.\n",
    "\n",
    "For example, this next example performs multiplication with an arbitrary amount of numbers:"
   ]
  },
  {
   "cell_type": "code",
   "execution_count": null,
   "metadata": {},
   "outputs": [],
   "source": [
    "def multiplication(unit, *args):\n",
    "    if len(args):\n",
    "        result = 1.0\n",
    "    else:\n",
    "        return None\n",
    "    for arg in args:\n",
    "        result *= arg\n",
    "    return f'{result} {unit}^{len(args)}'\n",
    "\n",
    "print(multiplication('m', 2, 2, 3)) # 12.0 m^3\n",
    "print(multiplication('cm', 12, 4))  # 48.0 cm^2\n",
    "print(multiplication('no unit'))    # None"
   ]
  },
  {
   "cell_type": "markdown",
   "metadata": {},
   "source": [
    "A function will become even more flexible if it accepts **keyword arguments**:"
   ]
  },
  {
   "cell_type": "code",
   "execution_count": null,
   "metadata": {},
   "outputs": [],
   "source": [
    "def print_key_value(**kwargs):\n",
    "    print('----')\n",
    "    for key, value in kwargs.items():\n",
    "        print(f'{key}: {value}')\n",
    "    print('****')\n",
    "\n",
    "# Variant 1: call function with 'argument = value' notation\n",
    "print_key_value(\n",
    "    id = 1,\n",
    "    name = {'first': 'Joe', 'last': 'Doe'},\n",
    "    address = {'street': 'Main Ave', 'city': 'Springfield'},\n",
    "    birthday = (1990, 11, 30)\n",
    ")\n",
    "\n",
    "# Variant 2: transform dict to 'argument = value', then give this as input to function\n",
    "user = {\n",
    "\t'id': 1,\n",
    "\t'name': {'first': 'Joe', 'last': 'Doe'},\n",
    "\t'address': {'street': 'Main Ave', 'city': 'Springfield'},\n",
    "\t'birthday': (1990, 11, 30)\n",
    "\t}\n",
    "print_key_value(**user)"
   ]
  },
  {
   "cell_type": "markdown",
   "metadata": {},
   "source": [
    "+ Both function calls to `print_key_value()` are correct and they return the exact same result.\n",
    "+ In the first function call, we provide arbitrary argument names and their values in the `argument = value` format.\n",
    "+ In the second call, we use the `**` operator to transform the dictionary named `user` to the `argument = value` format first, which is then passed to the function.\n",
    "\n",
    "In practice, you will encounter the *second* use pattern more often than the first one.\n",
    "\n",
    "### Lambda expressions: functions without a name\n",
    "\n",
    "Sometimes, you want to define a short function without the boilerplate of a function definition. In Python (and also languages like [Java](https://www.w3schools.com/java/java_lambda.asp)) this *syntactic sugar* is called [lambda expression](https://docs.python.org/3/tutorial/controlflow.html#lambda-expressions).\n",
    "\n",
    "Here's an example of two ways for defining a function that multiplies two values together and prints the calculation:"
   ]
  },
  {
   "cell_type": "code",
   "execution_count": null,
   "metadata": {},
   "outputs": [],
   "source": [
    "# Variant 1: standard function definition\n",
    "def print_multiply(a, b):\n",
    "\tprint(f'{a} x {b} = {a * b}')\n",
    "\n",
    "print_multiply(4, 5) # 4 x 5 = 20\n",
    "\n",
    "# Variant 2: lamda expression, store function in variable for later use\n",
    "print_multiply = lambda a, b : print(f'{a} x {b} = {a * b}')\n",
    "\n",
    "print_multiply(4, 5) # 4 x 5 = 20"
   ]
  },
  {
   "cell_type": "markdown",
   "metadata": {},
   "source": [
    "Variant 1 is your normal function definition. Variant 2 is the interesting bit:\n",
    "+ With the `lambda` keyword we initiate the **lambda expression**.\n",
    "+ Next, we define the arguments, here `a, b`.\n",
    "+ The function body follows after the colon `:`.\n",
    "+ A lambda expression **returns a function**, which we can store in a variable. Now, the variable has become a function itself (kind of difficult to wrap your head around at first, I know).\n",
    "\n",
    "> It is completely possible to write good quality, highly readable code without ever knowing about the concept of lambda expressions. Still, this is something that pops up quite a lot on [Stackoverflow](https://stackoverflow.com/questions/890128/how-are-lambdas-useful) threads and in other communities. And, if you ever have the urge to delve into [functional programming with Python](https://realpython.com/python-functional-programming/), you will learn to absolutely love lambda expressions.\n",
    "\n",
    "---\n",
    "\n",
    "## Online resources to follow-up with\n",
    "\n",
    "Congratulations, you've reached the end of this notebook!\n",
    "\n",
    "We've just scratched the surface, so it's a good idea to follow up with additional online resources. What follows is a curated list of recommended resources.\n",
    "\n",
    "+ [Python learning path from Microsoft](https://learn.microsoft.com/en-us/training/paths/beginner-python/): This learning path is appropriate for beginners that have no problem using Microsoft-supplied tools, most notably Visual Studio Code. While sign-up is not required, it is useful to get access to interactive coding sandboxes. **If you have time for only one follow-up, complete this learning path.**\n",
    "+ [Python intro course by Udacity](https://www.udacity.com/course/introduction-to-python--ud1110): Interactive introductory lessons from Udacity. While free of charge, you will need to provide some personal data to get started. **The Udacity course will go through much the same topics as this notebook, but with more patience.**\n",
    "+ [Official Python tutorial](https://docs.python.org/3/tutorial): The official Python tutorial covers key concepts rather systematically, but not always in an easy-to-follow manner.\n",
    "+ [Python tutorial from W3Schools](https://www.w3schools.com/python/default.asp): Similar to the official Python tutorial, but more accessible since it provides examples that are more to the point - with a slight bias towards topics relevant for data scientists.\n",
    "+ [Python reference documentation](https://docs.python.org/3/): Here, you will find authoritative documentation on the Python language and its standard library. As an added benefit, the documentation collects also how-tos, FAQs and setup instructions. If you are looking for design explanations, head over to the [PEP](https://peps.python.org/) repository.\n",
    "\n",
    "> As a general remark, it is useful to keep in mind the [four types of documentation](https://documentation.divio.com/) when searching for particular information."
   ]
  }
 ],
 "metadata": {
  "kernelspec": {
   "display_name": "Python 3.10.8 ('.venv': venv)",
   "language": "python",
   "name": "python3"
  },
  "language_info": {
   "codemirror_mode": {
    "name": "ipython",
    "version": 3
   },
   "file_extension": ".py",
   "mimetype": "text/x-python",
   "name": "python",
   "nbconvert_exporter": "python",
   "pygments_lexer": "ipython3",
   "version": "3.10.8"
  },
  "orig_nbformat": 4,
  "vscode": {
   "interpreter": {
    "hash": "99676af249bc4e16b552ab0acf89ecc45e78cc779fc5953e9bf9094994e967a6"
   }
  }
 },
 "nbformat": 4,
 "nbformat_minor": 2
}
