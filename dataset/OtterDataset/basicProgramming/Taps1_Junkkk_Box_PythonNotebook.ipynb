{
 "cells": [
  {
   "cell_type": "code",
   "execution_count": null,
   "metadata": {},
   "outputs": [],
   "source": [
    "d={1:'a',2:'b'}\n",
    "print(d.keys())\n",
    "print(d.values())\n",
    "print(d.items())\n",
    "print(d.get(\"key\", \"default_value\"))  # In absence of key\n",
    "print(\"person\" in d.keys())\n",
    "d1 = {\"person\": {\"address\": \"India\"}}  # if key exists, update the value of it else create the new key\n",
    "d.update(d1)\n",
    "print(d)"
   ]
  },
  {
   "cell_type": "code",
   "execution_count": null,
   "metadata": {},
   "outputs": [],
   "source": [
    "di = {}\n",
    "sample_d = {\"fruit\": \"apple\"}\n",
    "di.update(sample_d)\n",
    "sample_d.update(di)\n",
    "print(di)\n",
    "print(sample_d)"
   ]
  },
  {
   "cell_type": "code",
   "execution_count": null,
   "metadata": {},
   "outputs": [],
   "source": [
    "d.setdefault(\"key\",\"value\") # if doesn't exist, then set it else outputs the original one\n",
    "d = {1: \"a\", 2: \"b\"}\n",
    "d.setdefault(2, [])   # It would return \"b\" as output\n",
    "print(d)\n",
    "d.setdefault(3, [])   # It would return [] as output\n",
    "print(d)\n",
    "d.setdefault(3, []).append(\"c\")         # It would return [] as output and then append \"c\" into it\n",
    "print(d)\n",
    "d.setdefault(3, []).append(\"d\")         # It would return [\"c\"] as output and then append \"d\" into it\n",
    "print(d)"
   ]
  },
  {
   "cell_type": "code",
   "execution_count": null,
   "metadata": {},
   "outputs": [],
   "source": [
    "print(all([1,2,3,4,5,6,7,8,9]))\n",
    "print(all([1,2,3,4,5,6,7,8,9, \"\"]))\n",
    "print(all([1,2,3,4,5,6,7,8,9, None]))\n",
    "print(all([1,2,3,4,5,6,7,8,9, False]))\n",
    "print(all([1,2,3,4,5,6,7,8,9, []]))\n",
    "print(all([1,2,3,4,5,6,7,8,9, {}]))\n",
    "print(all([1,2,3,4,5,6,7,8,9, ()]))\n",
    "print(all([1,2,3,4,5,6,7,8,9, 0]))"
   ]
  },
  {
   "cell_type": "code",
   "execution_count": null,
   "metadata": {},
   "outputs": [],
   "source": [
    "print(any([None, \"\", False, {}, [], (), 0]))\n",
    "print(any([1,2,3,4,5,6,7,8,9, \"\"]))\n",
    "print(any([1,2,3,4,5,6,7,8,9, None]))\n",
    "print(any([1,2,3,4,5,6,7,8,9, False]))"
   ]
  },
  {
   "cell_type": "markdown",
   "metadata": {},
   "source": [
    "Deque is used to implement Linked Lists in Python"
   ]
  },
  {
   "cell_type": "code",
   "execution_count": null,
   "metadata": {},
   "outputs": [],
   "source": [
    "from collections import deque\n",
    "aa = deque([1,2,3,4,5])\n",
    "print(aa)\n",
    "print(aa.pop())\n",
    "print(aa.popleft())"
   ]
  },
  {
   "cell_type": "code",
   "execution_count": null,
   "metadata": {},
   "outputs": [],
   "source": [
    "try:\n",
    "    print(\"Processing\")\n",
    "except (ZeroDivisionError, ValueError):\n",
    "    print(\"Exception occured\")\n",
    "finally:\n",
    "    print(\"Exiting the process now!\\n\")\n",
    "\n",
    "print(\"--------------\")\n",
    "\n",
    "try:\n",
    "    print(1/0)\n",
    "except (ZeroDivisionError, ValueError):\n",
    "    print(\"\\nException occured\")\n",
    "finally:\n",
    "    print(\"Exiting the process now!\")"
   ]
  },
  {
   "cell_type": "code",
   "execution_count": null,
   "metadata": {},
   "outputs": [],
   "source": [
    "# Writing custom execptions\n",
    "class TooYoung(Exception):\n",
    "    def __init__(self, msg):\n",
    "        self.msg = msg\n",
    "\n",
    "class TooOld(Exception):\n",
    "    def __init__(self, msg):\n",
    "        self.msg = msg\n",
    "\n",
    "age = int(input(\"Enter your age: \"))\n",
    "if age < 18:\n",
    "    raise TooYoung(\"You're too young\")\n",
    "elif age > 60:\n",
    "    raise TooOld(\"You're too old\")\n",
    "print(\"You're good to go\")"
   ]
  },
  {
   "cell_type": "code",
   "execution_count": null,
   "metadata": {},
   "outputs": [],
   "source": [
    "# we import the respective module such as cx_oracle, mysql and then make a connection by supplying \n",
    "# hostname/username & password, Once the connection is made - we fetch a cursor and from this cursor, we\n",
    "# will execute the raw sql queries\n",
    "\n",
    "# Making database queries using MySQL database connector\n",
    "from getpass import getpass\n",
    "from mysql.connector import connect, Error\n",
    "try:\n",
    "    with connect(\n",
    "        host=\"localhost\",\n",
    "        user=input(\"Enter username: \"),\n",
    "        password=getpass(\"Enter password: \"),\n",
    "    ) as connection:\n",
    "        print(connection)\n",
    "        create_db_query = \"CREATE DATABASE online_movie_rating\"\n",
    "        with connection.cursor() as cursor:\n",
    "            cursor.execute(create_db_query)\n",
    "except Error as e:\n",
    "    print(e)\n",
    "\n",
    "    \n",
    "# Making database queries using Oracle database connector\n",
    "import cx_Oracle\n",
    "con = cx_Oracle.connect('scott/tiger@localhost')\n",
    "cursor = con.cursor()\n",
    "cursor.execute('select * from employees')\n",
    "records = cursor.fetchall()\n",
    "for row in records:\n",
    "    print(row[0], '\\t', row[1], '\\t', row[2])\n",
    "\n",
    "cursor.execute(\"insert into employees values(123, 'Vijay', 'HYderabad')\")"
   ]
  },
  {
   "cell_type": "code",
   "execution_count": null,
   "metadata": {},
   "outputs": [],
   "source": [
    "# Sets are the lists without duplication, They cannot be accessed by indexing\n",
    "l=[0,1,2,3,1]\n",
    "print(set(l))                    # set([0,1,2,3])\n",
    "s=set([1,2,3,4])\n",
    "s1 = {3,5,6}\n",
    "s2 = {6,7,8}\n",
    "s.add(9)\n",
    "print(s)\n",
    "s.discard(1)\n",
    "print(s)\n",
    "print(s.union(s1))\n",
    "print(s.intersection(s1))\n",
    "print(s.difference(s1))\n",
    "str=\"talat\"\t\n",
    "print(set(str))                  # set(['a', 't', 'l'])\n",
    "print(s1.issubset(s2))\n",
    "print(s1.issuperset(s2))"
   ]
  },
  {
   "cell_type": "markdown",
   "metadata": {},
   "source": [
    "### Difference between \"is\" and \"==\":\n",
    "\n",
    "== is for value equality, Used to know if two objects have the same value\n",
    "\n",
    "is is for reference equality, Used to know if two references refer to the same object i.e. if they're identical. \n",
    "Two objects are identical if they have the same address(syntactic sugar for id(a) == id(b))"
   ]
  },
  {
   "cell_type": "code",
   "execution_count": null,
   "metadata": {},
   "outputs": [],
   "source": [
    "# \n",
    "l = [1,2,3]\n",
    "li = l\n",
    "\n",
    "print(id(l))\n",
    "print(id(li))\n",
    "print(l == li)\n",
    "print(l is li)\n",
    "\n",
    "\n",
    "# Let's make a copy of the list a via slice operator. A copy should create a new object in memory\n",
    "print(\"\\n\")\n",
    "l = [1,2,3]\n",
    "li = l[:]\n",
    "\n",
    "print(id(l))\n",
    "print(id(li))\n",
    "print(l == li)\n",
    "print(l is li)\n",
    "print(\"\\n\")\n",
    "\n",
    "# Inconsistent behaviour in Python\n",
    "a = 1000\n",
    "b = 1000\n",
    "print(f\"{a} is {b}\")\n",
    "print(a is b)\n",
    "print(\"\\n\")\n",
    "\n",
    "a = 100\n",
    "b = 100\n",
    "print(f\"{a} is {b}\")\n",
    "print(a is b)\n",
    "\n",
    "# It turns out the reference implementation of Python caches integer objects in the range -5..256 as singleton instances\n",
    "# for performance reasons.The same thing happens for string as well"
   ]
  },
  {
   "cell_type": "markdown",
   "metadata": {},
   "source": [
    "### METHOD RESOLUTION ORDER:\n",
    "\tWill look for the element firstly in <current><parent><grand-parent><object>\n",
    "\tmro[1]--> Runtime Error\n",
    "\tmro[2]--> Standard Error \n",
    "\tmro[3]--> Exception Error\n",
    "\tmro[4]--> Base Exception Error\n",
    "    \n",
    "    Method resolution order\n",
    "    class A:\n",
    "        pass\n",
    "\n",
    "    class B:\n",
    "        pass\n",
    "\n",
    "    class C(A, B):\n",
    "        pass\n",
    "\n",
    "C instances will use the old method resolution order  algorithm because none of the classes are derived from python object root class.\n",
    "\n",
    "Now, MRO will follow new algorithm mechanism\n",
    "    \n",
    "    class A(object):\n",
    "        pass\n",
    "\n",
    "    class B(object):\n",
    "        pass\n",
    "\n",
    "MRO with Older standards:\n",
    "\n",
    "    class A:\n",
    "        def who_am_i(self):\n",
    "            print \"A\"\n",
    "    \n",
    "    class B(A):\n",
    "        def who_am_i(self):\n",
    "            print \"B\"\n",
    "\n",
    "    class C(A):\n",
    "        def who_am_i(self):\n",
    "            print \"C\"\n",
    "\n",
    "    class D(B, C):\n",
    "        def who_am_i(self):\n",
    "            print \"D\"\n",
    "\n",
    "D --> B --> A --> C --> A --> object\n",
    "\n",
    "    class A(object):\n",
    "        def who_am_i(self):\n",
    "            print(\"class is A\")\n",
    "\n",
    "    class B(object):\n",
    "        def who_am_i(self):\n",
    "            print(\"class is B\")\n",
    "\n",
    "    class C():\n",
    "        def who_am_i(self):\n",
    "            print(\"class is C\")\n",
    "\n",
    "    class D(A, B):\n",
    "        def who_am_i(self):\n",
    "            print(\"class is D\")\n",
    "\n",
    "    class E(C):/ E(B)\n",
    "        def who_am_i(self):\n",
    "            print(\"class is E\")\n",
    "\n",
    "    class F(D, E):\n",
    "        def who_am_i(self):\n",
    "            print(\"class is F\")\n",
    "\n",
    "F --> D --> A --> B --> E --> C --> Object\n",
    "but if E inherits from  B, then it MRO would work like this:\n",
    "F --> D --> A --> B --> E --> B --> Object (where B will be removed from path as it's occuring multiple times in MRO path)\n",
    "F --> D --> A --> E --> B --> Object\n",
    "\n",
    "New type classes are the ones which inherits from object root class, and only difference is: Each time a class is found in built search path, Python asked the question - Is it a good head and if not - it removes the class from the final search path.\n",
    "A class is said as a good head if there's no other class in tail of the search path which inherits from it - If some class appears two or more times before the child class in search path, then remove the first occurances of the parent classes."
   ]
  },
  {
   "cell_type": "markdown",
   "metadata": {},
   "source": [
    "# OOPs concepts in Python\n",
    " - #### Encapsulation\n",
    " - #### Polymorphism\n",
    " - #### Inheritance\n",
    " - #### Abstraction\n",
    " \n",
    " - #### Encapsulation: \n",
    " Idea of wrapping data and methods that work on data within one unit. This puts restriction on accessing variables and methods directly and can prevent the accidental modification of data. To prevent accidental change, \n",
    "an object's variable can only be changed by an object's method"
   ]
  },
  {
   "cell_type": "code",
   "execution_count": null,
   "metadata": {},
   "outputs": [],
   "source": [
    "class Base:\n",
    "    def __init__(self):\n",
    "        self.a = \"Notebook\"\n",
    "        self.__c = \"Notebook\"\n",
    "        \n",
    "class Derived(Base):\n",
    "    def __init__(self):\n",
    "        super(Derived, self).__init__()\n",
    "        print(\"Calling private member of base class: \", self.__c)\n",
    "        \n",
    "obj1 = Base()\n",
    "print(obj1.a)\n",
    "obj2 = Derived()\n",
    "print(obj2.__c)                       # not accessible"
   ]
  },
  {
   "cell_type": "markdown",
   "metadata": {},
   "source": [
    "#### Abstraction:\n",
    "It hides the unnecessary code details from the user. Also, when we don't want to give out sensitive part of our code\n",
    "implementation, this data abstraction comes into the picture\n",
    "\n",
    "#### Polymorphim:\n",
    "Polymorphism means having many forms"
   ]
  },
  {
   "cell_type": "markdown",
   "metadata": {},
   "source": [
    "## HIGHER ORDER FUNCTION"
   ]
  },
  {
   "cell_type": "markdown",
   "metadata": {},
   "source": [
    "<HIGHER ORDER FUNCTIONS>"
   ]
  },
  {
   "cell_type": "markdown",
   "metadata": {},
   "source": [
    "A function which does atleat one of the following:\n",
    " - Takes one or more functions as an argument.\n",
    " - Returns other function as an Output."
   ]
  },
  {
   "cell_type": "markdown",
   "metadata": {},
   "source": [
    "### LAMBDA"
   ]
  },
  {
   "cell_type": "markdown",
   "metadata": {},
   "source": [
    "Lambda statements are also known as Anonymous functions.\n",
    "One liner function which don't have any definition, They're just assigned to a variable and that variable will receive the arguments.\n",
    "\n",
    "    lambda args: <executablity>"
   ]
  },
  {
   "cell_type": "code",
   "execution_count": null,
   "metadata": {},
   "outputs": [],
   "source": [
    "g = lambda x, y: x**y\n",
    "g(2,5)"
   ]
  },
  {
   "cell_type": "markdown",
   "metadata": {},
   "source": [
    "### MAP\n",
    "\n",
    "It takes one function and an iterator as input and applies the function on each value of the iterator and returns a list of result.\n",
    "\t\tmap(funtion_name_to_be_mapped,sequence)\n",
    "\t\toutput form--> list []"
   ]
  },
  {
   "cell_type": "code",
   "execution_count": null,
   "metadata": {},
   "outputs": [],
   "source": [
    "l=[1,2,3,4,5,6,7,8,9]\n",
    "def square(num):\n",
    "    return num*num\n",
    "\n",
    "list(map(square, l))\n",
    "# map(g, [1,2,3,4], [4,3,2,1])"
   ]
  },
  {
   "cell_type": "code",
   "execution_count": null,
   "metadata": {},
   "outputs": [],
   "source": [
    "li1 = [1,2,3]; li2 = [4,5,6]; li3 = [7,8,9];\n",
    "list(map(lambda a,b,c: a+b+c, li1, li2, li3))                     # will take same indexed values from each sequence"
   ]
  },
  {
   "cell_type": "markdown",
   "metadata": {},
   "source": [
    "### REDUCE\n",
    "\n",
    "It takes one function and an iterator as an Input and execution goes in this way: Take 2 elements of the sequence and perform operate on them and keeps going on in the same manner."
   ]
  },
  {
   "cell_type": "code",
   "execution_count": null,
   "metadata": {},
   "outputs": [],
   "source": [
    "# find the maximum value from the sequence:\n",
    "from functools import reduce\n",
    "lst = [12, 32, 1, 87, 9, 5, 43]\n",
    "\n",
    "reduce(lambda a, b: a if a>b else b, lst)"
   ]
  },
  {
   "cell_type": "code",
   "execution_count": null,
   "metadata": {},
   "outputs": [],
   "source": [
    "# If the sequence is empty, then set initial default value as:\n",
    "reduce(lambda x, y: x+y, [], 1)                                 # will always return 1 if sequnce is empty"
   ]
  },
  {
   "cell_type": "markdown",
   "metadata": {},
   "source": [
    "### FILTER\n",
    "\n",
    "It offers a convenient way to filter out all the elements of an iterable, for which the function returns True\n",
    "\n",
    "The function needs to return Boolean value (True/False), This function will be applied to every element of the iterable, Only if the function returns True for an element - that element will be included in the result "
   ]
  },
  {
   "cell_type": "code",
   "execution_count": null,
   "metadata": {},
   "outputs": [],
   "source": [
    "lst = [12, 21, 23, 54, 65, 56, 98, 89]\n",
    "filter(lambda a: True if a%2 == 0 else False, lst)\n",
    "list(filter(lambda a: a%2 == 0 , lst))"
   ]
  },
  {
   "cell_type": "markdown",
   "metadata": {},
   "source": [
    "## File Handling\n",
    "\n",
    "The key function for working with files in python is open() function\n",
    "The open() function takes two parameters:\n",
    "1. filename\n",
    "2. mode\n",
    "\n",
    " - \"r\" - opens a files for reading, error if the file doesn't exist\n",
    "\n",
    " - \"w\" - opens a file for writing, creates a file if file doesn't exist\n",
    "\n",
    " - \"a\" - opens a file for appending, creates a file if file doesn't exist\n",
    "\n",
    " - \"x\" - create specified file, returns an error if the file exists\n",
    "\n",
    " - \"t\" - text mode\n",
    "\n",
    " - \"b\" - binary mode\n",
    "\n",
    "Reading a file\n",
    " - read()\n",
    " - readline()\n",
    " - readlines()\n",
    "\n",
    "Writing into a file\n",
    " - write()\n",
    " - writeline()\n",
    " - writelines()\n",
    "\n",
    "Deleting a file\n",
    "\n",
    "import os\n",
    "os.remove(\"filename\")"
   ]
  },
  {
   "cell_type": "markdown",
   "metadata": {},
   "source": [
    "# FUNCTION\n",
    "\n",
    "object is the upper most class in python.\n",
    "issubclass(int,object)--> will return True.\n",
    "\n",
    "functions have function definition and defined by def keyword, here is the most basic syntax of the Python function"
   ]
  },
  {
   "cell_type": "code",
   "execution_count": null,
   "metadata": {},
   "outputs": [],
   "source": [
    "a=\"This is a global string\"\n",
    "def foo():\n",
    "    print(\"LOCALS ARE:############ \", locals())\n",
    "print(\"GLOBALS ARE:############\", globals())\n",
    "\n",
    "foo()"
   ]
  },
  {
   "cell_type": "code",
   "execution_count": null,
   "metadata": {},
   "outputs": [],
   "source": [
    "a=\"This is a global string\"\n",
    "def foo():\n",
    "    global a\n",
    "    a=\"This is a Local string\"\n",
    "    print(\"LOCALS ARE:#############\", locals())\n",
    "foo()\n",
    "print(a)\n",
    "print(\"GLOBALS ARE:###############\", globals())\t\t#will print a as it was before calling the function"
   ]
  },
  {
   "cell_type": "code",
   "execution_count": null,
   "metadata": {},
   "outputs": [],
   "source": [
    "a = \"This is a global string\"\n",
    "def foo():\n",
    "    a = \"This is a local string\"\n",
    "    print(a)\n",
    "\n",
    "foo()\n",
    "print(a)\n",
    "\n",
    "a = \"This is a global string\"\n",
    "def foo():\n",
    "    global a\n",
    "    a = \"This is a local string\"\n",
    "    print(a)\n",
    "    \n",
    "foo()\n",
    "print(a)\n",
    "    \n",
    "a = \"This is a global string\"\n",
    "def foo():\n",
    "    print(a)\n",
    "    a = \"This is a local string\"\n",
    "    print(a)\n",
    "\n",
    "foo()\n",
    "print(a)\n",
    "\n",
    "\n",
    "def foo(x):\n",
    "    print(locals())\n",
    "foo(1)"
   ]
  },
  {
   "cell_type": "code",
   "execution_count": null,
   "metadata": {},
   "outputs": [],
   "source": [
    "# Variable number of Arguments\n",
    "def foo(*args):\n",
    "    print(\"Args are\", args)\t\t\t# It will print the recieved arguments in form of Tuples\n",
    "    \n",
    "foo(1,2,3,4)\n",
    "\n",
    "def foo(a, b, *args):\n",
    "    print(\"A is: \", a)\n",
    "    print(\"B is: \", b)\n",
    "    print(\"Args are: \", *args)\n",
    "\n",
    "foo(1,2,3,4)\n",
    "    \n",
    "ll = [1,2,3,4]\n",
    "foo(*ll) \t\t\t\t# (1,2,3,4)\n",
    "foo(1,2,3,4)\t\t\t\t# ([1,2,3,4],)\n",
    "\n",
    "# Another use of *(asterisk):\n",
    "l=[1,2]\n",
    "def foo(x,y):\n",
    "    return x+y\n",
    "foo(l[0],l[1])\t\t\t\t# Not a good Manner\n",
    "foo(*l)\t\t\t\t\t# elements of list will go one by one"
   ]
  },
  {
   "cell_type": "code",
   "execution_count": null,
   "metadata": {},
   "outputs": [],
   "source": [
    "# Variable Number of Arguments in Key-Value pair\n",
    "def foo(**kwargs):\n",
    "    print(kwargs)\t\t\t# {x:1,y:2}\n",
    "    \n",
    "foo(x=1,y=2)\n",
    "\n",
    "d = {\"x\": 1, \"y\": 2}\n",
    "foo(**d)\n",
    "\n",
    "d={'a':1,'b':2}\n",
    "def foo(a,b):\n",
    "    return a+b\t\n",
    "print(foo(d['a'],d['b']))\t\t\t# Values will get added\n",
    "print(foo(*d))\t\t\t\t\t    # keys will get merged\n",
    "print(foo(**d))\t\t\t\t    # '3'  | Values will get added"
   ]
  },
  {
   "cell_type": "markdown",
   "metadata": {},
   "source": [
    "## ITERATORS\n",
    "\n",
    "Iterators have the special property to keep the one value @once.\n",
    "\t\n",
    "    iter(sequence)\n",
    "\tnumber='123456789'\n",
    "\tn=iter(number)\n",
    "\tn.__next__() OR next(n)..... after reaching out the last element, It will throw an StopIteration Exception.\n",
    "\tWe don’t get StopIteration error with for loop, because for loop automatically catches the exception and stops calling next() on iterable.\n",
    "    \n",
    "   String, List supports iteration but it can't directly iterate over it as we are able to do with generators\n",
    "    \n",
    "   To check, what all data type supports Iteration, I can check with:\n",
    "        \n",
    "        from collections.abc import Iterable\n",
    "        isinstance('Hey, I am a string', Iterable)                  # returns Bool\n",
    "\n",
    "\n",
    "If I want to check whether the file is having syntax file or not:\n",
    "\tWe can use the py_compile site package. \n",
    "\n",
    "\t\tpython -m py_compile \"filename\"\n",
    "\t\n",
    "\tIt will give you what syntax error you have and in which line"
   ]
  },
  {
   "cell_type": "markdown",
   "metadata": {},
   "source": [
    "## FUNCTIONS WITHIN FUNCTIONS\n",
    "\tdef hello(name=\"Jose\"):\n",
    "        print \"The hell() function has been executed\"\n",
    "        def greet():\n",
    "            return \"Inside greet() function\"\n",
    "        def welcome():\n",
    "            return \"Inside welcome() function\"\n",
    "        print greet()\n",
    "        print welcome()\n",
    "\n",
    "    hello()\n",
    "    The hell() function has been executed\n",
    "    Inside greet() function\n",
    "    Inside welcome() function"
   ]
  },
  {
   "cell_type": "markdown",
   "metadata": {},
   "source": [
    "## DECORATOR\n",
    "\n",
    "\tA decorator is just a callable that takes a function as an Argument and return a replacement function. These are simply wrappers to existing functions.\n",
    "\n",
    "\tdef foo(bar):\n",
    "\t       return bar + 1\n",
    "\n",
    "\tprint foo(2) == 3"
   ]
  },
  {
   "cell_type": "markdown",
   "metadata": {},
   "source": [
    "### Nested Function:\n"
   ]
  },
  {
   "cell_type": "code",
   "execution_count": null,
   "metadata": {},
   "outputs": [],
   "source": [
    "def parent(number):\n",
    "    print(\"Printing from parent function\")\n",
    "\n",
    "    def first():\n",
    "        print(\"first child\")\n",
    "    def second():\n",
    "        print(\"second child\")\n",
    "    def third():\n",
    "        print(\"third child\")\n",
    "\n",
    "    try:\n",
    "        assert number == 10\n",
    "        return first()\n",
    "    except AssertionError:\n",
    "        return second()\n",
    "\n",
    "parent(18)"
   ]
  },
  {
   "cell_type": "markdown",
   "metadata": {},
   "source": [
    "### Decorator Call to function"
   ]
  },
  {
   "cell_type": "code",
   "execution_count": null,
   "metadata": {},
   "outputs": [],
   "source": [
    "def my_decorator(some_func):\n",
    "    def wrapper():\n",
    "        print(\"Something is happening before some_function() is called\")\n",
    "        some_func()\n",
    "        print(\"Something is happening after some_function() is called\")\n",
    "\n",
    "    return wrapper\n",
    "\n",
    "def just_some_function():\n",
    "    print(\"Wwheee!!\")\n",
    "\n",
    "\n",
    "just_some_function = my_decorator(just_some_function)()\n",
    "#just_some_function()"
   ]
  },
  {
   "cell_type": "markdown",
   "metadata": {},
   "source": [
    "### Decorator Call to function with \"PIE\" syntax"
   ]
  },
  {
   "cell_type": "code",
   "execution_count": null,
   "metadata": {},
   "outputs": [],
   "source": [
    "def my_decorator(some_func):\n",
    "    def wrapper():\n",
    "        print(\"Something is happening before some_function() is called\")\n",
    "        some_func()\n",
    "        print(\"Something is happening after some_function() is called\")\n",
    "\n",
    "    return wrapper\n",
    "\n",
    "@my_decorator\n",
    "def just_some_function():\n",
    "    print(\"Wwheee!!\")\n",
    "\n",
    "just_some_function()"
   ]
  },
  {
   "cell_type": "code",
   "execution_count": null,
   "metadata": {},
   "outputs": [],
   "source": [
    "from time import sleep\n",
    "\n",
    "def sleep_decorator(function):\n",
    "    def wrapper(*args, **kwargs):\n",
    "        sleep(2)\n",
    "        return function(*args, **kwargs)\n",
    "    return wrapper\n",
    "\n",
    "@sleep_decorator\n",
    "def print_number(num):\n",
    "    print(num)\n",
    "\n",
    "print_number(10)"
   ]
  },
  {
   "cell_type": "markdown",
   "metadata": {},
   "source": [
    "### Class Based Decorators:\n",
    " - Decorator that doesn't take parameters\n",
    " - Decorator that takes parameters\n",
    " \n",
    " "
   ]
  },
  {
   "cell_type": "code",
   "execution_count": null,
   "metadata": {},
   "outputs": [],
   "source": [
    "class Power(object):\n",
    "    \n",
    "    # the function on which this decorator has been applied has been received in this argument: arg\n",
    "    def __init__(self, function):\n",
    "        self._function = function\n",
    "        \n",
    "    def __call__(self, a, b):\n",
    "        print(self._function)\n",
    "        # we're calling the function that we recieved as an argument in __init__ method\n",
    "        # this __call__ method will have same number of arguments that decorated function has\n",
    "        retval = self._function(a, b)\n",
    "        return retval ** 2\n",
    "    \n",
    "@Power\n",
    "def multiply_together(a, b):\n",
    "    return a + b\n",
    "\n",
    "print(multiply_together)\n",
    "print(multiply_together(2, 3))\n"
   ]
  },
  {
   "cell_type": "code",
   "execution_count": null,
   "metadata": {},
   "outputs": [],
   "source": [
    "class Power(object):\n",
    "    def __init__(self, arg):\n",
    "        self._arg = arg              # parameter received from decorator call\n",
    "        print(self._arg) \n",
    "    \n",
    "    # __call__ may receive function name as well if decorator is called with argument\n",
    "    # __call__ may receive arguments (a,b) if decorator is called without argument\n",
    "    def __call__(self, *params):\n",
    "        if len(params) == 1:\n",
    "            def wrapper(a, b):\n",
    "                retval = params[0](a, b)\n",
    "                return retval ** 2\n",
    "            return wrapper\n",
    "        else:\n",
    "            retval = self._arg(*params)\n",
    "            return retval ** 2\n",
    "            \n",
    "@Power(\"ABC\")\n",
    "def multiply_together(a, b):\n",
    "    return a * b\n",
    "\n",
    "@Power\n",
    "def add_together(a, b):\n",
    "    return a + b\n",
    "\n",
    "\n",
    "print(multiply_together(2, 3))\n",
    "print(add_together(2, 3))"
   ]
  },
  {
   "cell_type": "markdown",
   "metadata": {},
   "source": [
    "## GENERATOR\n",
    "\n",
    "Normal functions returns value only single time; But what if I want to get the next value and to continue over the whole return .... There I will use yield ... by which \t\twe can continue our looping from where we left.\n",
    "Generator is a function that returns an object on which we can perform next() operation\n",
    "Generators are a tool for creating iterators.They use to YIELD the data whenever they want to return the data\n",
    "Each time the next() is called, Generator resumes from where it left-off\n",
    "When a generator function is compiled they become an object that support an iteration protocol.\n",
    "The generator functions can be suspended and this feature is known as state suspension.\n",
    "\n",
    "\n",
    "With generators, __iter__() and next() method got created automatically;\n",
    "If In a method there is a yield keyword, Then It will automatically be converted into generators.\n",
    "\n",
    "We should have the ability to create the function which can yield(giving) the series of value instead of simply returning the single value\n",
    "When a function is called, all the work done by function and stored in local variables is lost, A new call to the function creates \n",
    "everything from the scratch.\n",
    "return implies that the function is returning control of execution to the point where the function was called.\n",
    "\"Yield,\" however, implies that the transfer of control is temporary and voluntary, and our function expects to regain it in the future.\n",
    "Basically\n",
    "    \"When we use return, The control goes to the calling function and all the work done by the function goes lost,\n",
    "    Now If I want to regain it again in the future, Will I be able to regain it? .... NO!!!\"\n",
    "So, Better to use YIELD <GENERATOR>\n",
    "\n",
    "    Functions that have the ability to do this, Will be called as Generators\n",
    "\n",
    "Generators are like normal functions but whenever they need to generate the value, They dont return but yield them.\n",
    "    One value is generated from the generator, To get the next generated value, We use __next__() method"
   ]
  },
  {
   "cell_type": "code",
   "execution_count": null,
   "metadata": {},
   "outputs": [],
   "source": [
    "def foo():\n",
    "    print(\"I am in First Yield\")\n",
    "    yield 1\n",
    "    print(\"I am in Second Yield\")\n",
    "    yield 2\n",
    "    print(\"I am in Third Yield\")\n",
    "    yield 3\n",
    "\n",
    "    o=foo()\n",
    "    print(o.next())\t\t\t#It will go to line 1 and start execute untill the first yield is reached\n",
    "    print(o.next())\t\t\t#It will go to the immediate next line of the yield where it left; Won't start from line 1 but from 3\n",
    "    print(o.next())\t\t\t#It will go the line where the previous yield was left off.\n",
    "\n",
    "# When all the values are iterated, stopIteration happened"
   ]
  },
  {
   "cell_type": "code",
   "execution_count": null,
   "metadata": {},
   "outputs": [],
   "source": [
    "l=[1,2,3,4,5,6,7,8,9,0,4,6,7,3]\n",
    "def foo(seq):\n",
    "    for item in seq:\n",
    "        yield item\n",
    "\n",
    "elem=foo(l)\n",
    "print(next(elem))\n",
    "print(next(elem))\n",
    "print(next(elem))\n",
    "print(next(elem))"
   ]
  },
  {
   "cell_type": "markdown",
   "metadata": {},
   "source": [
    "## CLASS\n",
    "\n",
    "\tobject.attribute\t\t\t\t\t\t\t\t#[readable and writable also]\n",
    "\tAttributes of an objects are readable/writable and deletable also:\n",
    "\t\n",
    "\tobject.attribute=value\n",
    "\tdel object.attribute\n",
    "\t\n",
    "    class MyClass:\n",
    "        \"\"\"A simple example class\"\"\"\n",
    "        i = 12345\n",
    "        def f(self):\n",
    "            return 'hello world'\n",
    "\tHere i and f are the attributes of the class and can be accessed as MyClass.i and MyClass.f\n",
    "\n",
    "    If there is a __init__() defined then we've to use the self keyword mandataroly to access that varaible."
   ]
  },
  {
   "cell_type": "code",
   "execution_count": null,
   "metadata": {},
   "outputs": [],
   "source": [
    "class A(object):\n",
    "    i,j=11,21\n",
    "    def __init__(self):\n",
    "        self.i=10\n",
    "        self.j=20\n",
    "    def f(self):\n",
    "        print(A.i)                               #11\n",
    "        print(self.j)                            #20\n",
    "        \n",
    "obj = A(); obj.f()"
   ]
  },
  {
   "cell_type": "code",
   "execution_count": null,
   "metadata": {},
   "outputs": [],
   "source": [
    "class A(object):\n",
    "    d = 123\n",
    "    def __init__(self, a):\n",
    "        self.a = a\n",
    "        print(self.a)\n",
    "        print(A.d)\n",
    "        print(self.d)\n",
    "\n",
    "obj = A(234)"
   ]
  },
  {
   "cell_type": "code",
   "execution_count": null,
   "metadata": {},
   "outputs": [],
   "source": [
    "class A(object):\n",
    "    d = 123\n",
    "    def __init__(self, a):\n",
    "        self.a = a\n",
    "        print(self.a)\n",
    "        self.d = 456\n",
    "        print(A.d)\n",
    "        print(self.d)\n",
    "obj = A(234)"
   ]
  },
  {
   "cell_type": "code",
   "execution_count": null,
   "metadata": {},
   "outputs": [],
   "source": [
    "class A(object):\n",
    "    d = 123\n",
    "    def __init__(self, a):\n",
    "        self.a = a\n",
    "        print(self.a)\n",
    "        A.d = 456\n",
    "        print(A.d)\n",
    "        print(self.d)\n",
    "\n",
    "obj = A(234)"
   ]
  },
  {
   "cell_type": "markdown",
   "metadata": {},
   "source": [
    "A class also have the magic method named as: __init__(self,arguments)\n",
    "While instantiating a class(@time of creation of object), If we pass the arguments as:\n",
    "        obj_name=class_name(arg1,arg2,...)\n",
    "\n",
    "They will always be recieved by __init__ method.\n",
    "    \n",
    "        class A(object):\n",
    "        def __init__(self,x,y):\n",
    "            self.x=x\n",
    "            self.y=y\n",
    "\n",
    "        t=A(1,2)\n",
    "\t\tt.x\t\t\t\t#1\n",
    "\t\tt.y\t\t\t\t#2\n"
   ]
  },
  {
   "cell_type": "markdown",
   "metadata": {},
   "source": [
    "\tObject is passed as a self argument to the function and self is used to bind all the class things to that particular Object Instance.\n",
    "\tOne thing, Why self is used in every method of the class:\n",
    "\tBecause, When we say x=A(), Here ,,, Object is passed as an argument to the function.\n",
    "\tIts is like \n",
    "\t\t\t\t\n",
    "        x.f()==MyClass.f(x)\n",
    "\t\n",
    "\tself is the object_name that is passed to function."
   ]
  },
  {
   "cell_type": "code",
   "execution_count": null,
   "metadata": {},
   "outputs": [],
   "source": [
    "class A():\n",
    "    i=12345\t\t\t\t\t\t#shared by all instances of the class\n",
    "    def __init__(self,name=\"Rahul Agarwal\"):\n",
    "        self.name=name\t\t\t\t#shared by specific instance\n",
    "\n",
    "x=A()\n",
    "x.i\t\t\t\t\t\t\t\t#12345"
   ]
  },
  {
   "cell_type": "code",
   "execution_count": null,
   "metadata": {},
   "outputs": [],
   "source": [
    "class A():\n",
    "    name1=\"Python\"\n",
    "    def __init__(self,name,age):\n",
    "        self.name=name\n",
    "        self.age=age\n",
    "        self.name1=\"TP\"\n",
    "\n",
    "x=A(\"Sweet Potato\",22)\n",
    "print(x.age)\n",
    "print(x.name)\n",
    "print(x.name1)"
   ]
  },
  {
   "cell_type": "markdown",
   "metadata": {},
   "source": [
    "If self with name1 was not given, then In lack of self keyword, name1 will not engaged with x object and will find to the upper most class. \n",
    "And will take the name1 as \"Python\".\n",
    "\n",
    "If I want to derive a baseclass into derivedclass i.e. Inheritance Concept. The syntax for Inheritance is as follows:\n",
    "\n",
    "    class derived_class(object,base_class):\n",
    "        //statements\n",
    "\n",
    "If some attribute is not found in the class<derived>; Then It'll move forward to the BaseClass in searching of that requested Attribute and \n",
    "Search for it goes on untill it finds the requested attribute.\n",
    "\n",
    "    current class--> parent class--> grand parent class--> Object class(Upper Most Class)\n",
    "\n",
    "We can check whether the object is instance of the class or not as : isinstance(obj,class)\n",
    "We can check whether the derived_class is subclass of base_class or not as: issubclass(derived_class,base_class)"
   ]
  },
  {
   "cell_type": "markdown",
   "metadata": {},
   "source": [
    "### INSTANCE METHOD vs CLASS METHOD vs STATIC METHOD"
   ]
  },
  {
   "cell_type": "code",
   "execution_count": null,
   "metadata": {},
   "outputs": [],
   "source": [
    "class A(object):\n",
    "    def foo(self,x):\n",
    "        print(\"executing foo(%s,%s)\"%(self,x))\n",
    "\n",
    "    @classmethod\n",
    "    def class_foo(cls,x):\n",
    "        print(\"executing class_foo(%s,%s)\"%(cls,x))\n",
    "\n",
    "    @staticmethod\n",
    "    def static_foo(x):\n",
    "        print(\"executing static_foo(%s)\"%x)\n",
    "        \n",
    "a=A()\n",
    "a.foo(1)\t\t\t# works fine\n",
    "# A.foo(1)\t\t\t# doesn't work fine\n",
    "a.class_foo(1)\t\t\t# works fine\n",
    "A.class_foo(1)\t\t\t# works fine\n",
    "a.static_foo(1)\t\t\t# works fine\n",
    "A.static_foo(1)\t\t\t# works fine"
   ]
  },
  {
   "cell_type": "markdown",
   "metadata": {},
   "source": [
    "    Instance/Normal methods - object of the class will be send as a first argument implicitely\n",
    "        class A(object):\n",
    "            def foo(self):\n",
    "                pass\n",
    "\n",
    "        A.foo --> <unbound method A.foo>\n",
    "        A().foo --> <bound method A.foo of <__main__.A object at 0x7fe08567b690>>\n",
    "\n",
    "    Class methods - class name will be send as a first argument implicitly, not bound to an object but to a class.\n",
    "        class A(object):\n",
    "            @classmethod\n",
    "            def foo(cls):\n",
    "                pass\n",
    "\n",
    "        A.foo --> <bound method type.foo of <class '__main__.A'>>\n",
    "        A().foo --> <bound method type.foo of <class '__main__.A'>>\n",
    "         \n",
    "    Static methods - Neither object nor class will be send as argument.\n",
    "        class A(object):\n",
    "            @staticmethod\n",
    "            def foo():\n",
    "                pass\n",
    "        A.foo -->  <function __main__.foo> \n",
    "        A().foo -->  <function __main__.foo>\n",
    "\n",
    "        static methods are methods that belongs to a class but doesn't use the object itself. Static methods can be overwritten in subclasses."
   ]
  },
  {
   "cell_type": "code",
   "execution_count": null,
   "metadata": {},
   "outputs": [],
   "source": [
    "class Pizza(object):\n",
    "    @staticmethod\n",
    "    def mix_ingredients(x, y):\n",
    "        return x + y\n",
    "\n",
    "    def cook(self):\n",
    "        return self.mix_ingredients(self.cheese, self.vegetables)\n",
    "    \n",
    "print(Pizza().cook is Pizza().cook)\n",
    "print(Pizza().mix_ingredients is Pizza.mix_ingredients)\n",
    "print(Pizza().mix_ingredients is Pizza().mix_ingredients)"
   ]
  },
  {
   "cell_type": "markdown",
   "metadata": {},
   "source": [
    "Abstract methods - A method defined in base class but may not provide any implementation, the simplest way to write an abstract method in Python is:\n",
    "\n",
    "    class Pizza(object):\n",
    "        def get_radius(self):\n",
    "            raise NotImplementedError\n",
    "            \n",
    "Any class inheriting from Pizza should implement and override the get_radius method, otherwise an exception would be raised\n",
    "\n",
    "In order to make it restrict, we have abc module which ensures that any abstract_method must be implemented in child class."
   ]
  },
  {
   "cell_type": "code",
   "execution_count": null,
   "metadata": {},
   "outputs": [],
   "source": [
    "import abc\n",
    "\n",
    "class A(object):\n",
    "    __metaclass__ = abc.ABCMeta\n",
    "    @abc.abstractmethod\n",
    "    def get_radius(self):\n",
    "        print(\"Voila\")\n",
    "\n",
    "class B(A):\n",
    "    def get_radius(self):\n",
    "        print(\"I am in class B\")"
   ]
  },
  {
   "cell_type": "markdown",
   "metadata": {},
   "source": [
    "No classmethod/staticmethod decorator can be applied on top of abstract method in base class (True for 2.x but not for 3.x)\n",
    "But abstract methods can be implemented by regular/class or static method."
   ]
  },
  {
   "cell_type": "code",
   "execution_count": null,
   "metadata": {},
   "outputs": [],
   "source": [
    "class Shape(abc.ABC):\n",
    "    @abc.abstractmethod\n",
    "    def print_area(self):\n",
    "        return 0\n",
    "\n",
    "class Rectangle(Shape):\n",
    "    type = \"rectangle\"\n",
    "    sides = 4\n",
    "    def __init__(self):\n",
    "        self.length = 6\n",
    "        self.breadth = 7\n",
    "\n",
    "    def printarea(self):\n",
    "        return self.length * self.breadth\n",
    "\n",
    "rect1 = Rectangle()\n",
    "print(rect1.printarea())"
   ]
  },
  {
   "cell_type": "markdown",
   "metadata": {},
   "source": [
    "    We cannot directly create Objects of Abstract classes.\n",
    "    try_obj = Shape()\t# Cannot instantiate abstarct class Shape with abstract method printarea"
   ]
  },
  {
   "cell_type": "markdown",
   "metadata": {},
   "source": [
    "## SUPER"
   ]
  },
  {
   "cell_type": "markdown",
   "metadata": {},
   "source": [
    "Super is a keyword that is used to make a call to the super class method's along with current class method:\n",
    "suppose there is a class that is been inherited by child class and both of them have the __init__() methods, So without using the super keyword we can;t \n",
    "call the parent class's __init__(), we need to put super keyword in child class that while initializing the current class; the parent class of it also \n",
    "needs to be initialized.\n",
    "It's more like How can I call the method of parent class if both child and parent class has the same method name\n",
    "\n",
    "NOTE: \"super() argument 1 must be type, not classobj - If baseclass doesn't have Object class inherited\"\n",
    "    e.g."
   ]
  },
  {
   "cell_type": "code",
   "execution_count": null,
   "metadata": {},
   "outputs": [],
   "source": [
    "class A(object):\n",
    "    def __init__(self, a):\n",
    "        self.a = a\n",
    "        print(\"Class A's constructor\")\n",
    "    def foo(self):\n",
    "        print(\"I'm in class A\")\n",
    "    def fo1(self):\n",
    "        print(\"Class A\")\n",
    "\n",
    "class C(A):\n",
    "    def __init__(self, a):\n",
    "        print(\"Class C's constructor\")\n",
    "        super(C, self).__init__(a)\n",
    "    def foo(self):\n",
    "        print(\"I'm in class C\")\n",
    "        print(\"Value of a is: \", self.a)\n",
    "        \n",
    "obj = C(\"TEST\")\n",
    "obj.foo()"
   ]
  },
  {
   "cell_type": "code",
   "execution_count": null,
   "metadata": {},
   "outputs": [],
   "source": [
    "class A(object):\n",
    "    def __init__(self):\n",
    "       print(\"contructor of class A\")\n",
    "       super(A, self).__init__()\n",
    "    def foo(self, a=5, b=10):\n",
    "        print(a+b)\n",
    "        \n",
    "class B(A):\n",
    "    def __init__(self):\n",
    "        print(\"constructor of class B\")\n",
    "        super(B, self).foo()\n",
    "        \n",
    "class C(A):\n",
    "    def __init__(self):\n",
    "      print(\"Consructor for class C\")\n",
    "      super(C, self).__init__()\n",
    "    def __str__(self):\n",
    "        return \"This is an object of class C\"\n",
    "    def __call__(self, a, b):\n",
    "        self.a = a\n",
    "        self.b = b\n",
    "    def foo(self):\n",
    "        super(C, self).foo(self.a, self.b)\n",
    "        \n",
    "obj = C()\n",
    "print(obj)\n",
    "obj(\"John\", \"Steve\")\n",
    "obj.foo()"
   ]
  },
  {
   "cell_type": "markdown",
   "metadata": {},
   "source": [
    "    We can check the mro for the class; as \n",
    "            class_name.mro()"
   ]
  },
  {
   "cell_type": "markdown",
   "metadata": {},
   "source": [
    "When an object is created for a class C; then it'll also call the constructor method of parent class i.e. of class A\n",
    "    \n",
    "    obj = C(10)\n",
    "\n",
    "o/p will be \"Class C's constructor\" and then \"Class B's constructor\"\n",
    "Whatever method we'll call in super method's line then it'll be called"
   ]
  },
  {
   "cell_type": "markdown",
   "metadata": {},
   "source": [
    "### MULTIPLE INHERITANCE:"
   ]
  },
  {
   "cell_type": "code",
   "execution_count": null,
   "metadata": {},
   "outputs": [],
   "source": [
    "class B(object):\n",
    "    name=\"Python\"\n",
    "\n",
    "class A(B):\n",
    "    def __init__(self,name,age):\n",
    "        #self.name=name\n",
    "        self.age=age\n",
    "\n",
    "x=A(\"Rahul\",22)\n",
    "print(x.age)\t\t\t\t\t\t\t\t\t#22\n",
    "print(x.name)\t\t\t\t\t\t\t\t#Python\n",
    "print(issubclass(A,object))"
   ]
  },
  {
   "cell_type": "markdown",
   "metadata": {},
   "source": [
    "\tIf there is another class that has the same attribute as name, Then which class will be looking first,\n",
    "\n",
    "\tSo It will be taken according to: \t\n",
    "\t\tparameter list of the class\n",
    "\t\tclass derived_class(base_class1,base_class2,base_class3)\n",
    "\tFirst it will find in itself, then base_class1, base_class2, base_class3 and so on..."
   ]
  },
  {
   "cell_type": "code",
   "execution_count": null,
   "metadata": {},
   "outputs": [],
   "source": [
    "class A():\n",
    "    def foo(self):\n",
    "        b=20\n",
    "        print(b)\n",
    "\n",
    "a=A()\n",
    "a.foo()\t\t\t\t\t#20\n",
    "hasattr(a,'b')\t\t\t#False"
   ]
  },
  {
   "cell_type": "code",
   "execution_count": null,
   "metadata": {},
   "outputs": [],
   "source": [
    "class A():\n",
    "    b=10\n",
    "    def foo(self):\n",
    "        b=20\n",
    "        print(b)\n",
    "        print(self.b)\n",
    "\n",
    "a=A()\n",
    "a.foo()\t\t\t\t\t#10 \\n 20\n",
    "hasattr(a,'b')\t\t\t#True"
   ]
  },
  {
   "cell_type": "code",
   "execution_count": null,
   "metadata": {},
   "outputs": [],
   "source": [
    "class Person(object):\n",
    "    \"\"\"\n",
    "    Returns a ```Person``` object with given name.\n",
    "    \"\"\"\n",
    "    def __init__(self, name):\n",
    "        self.name = name\n",
    "        \n",
    "    def get_details(self):\n",
    "        \"Returns a string containing name of the person\"\n",
    "        return self.name\n",
    "    \n",
    "class Student(Person):\n",
    "    \"\"\"\n",
    "    Returns a ```Student``` object, takes 3 arguments, name, branch, year.\n",
    "    \"\"\"\n",
    "    def __init__(self, name, branch, year):\n",
    "        Person.__init__(self, name)\n",
    "        self.branch = branch\n",
    "        self.year = year\n",
    "        \n",
    "    def get_details(self):\n",
    "        \"Returns a string containing student's details.\"\n",
    "        return \"%s studies %s and is in %s year.\" % (self.name, self.branch, self.year)\n",
    "\n",
    "class Teacher(Person):\n",
    "    \"\"\"\n",
    "    Returns a ```Teacher``` object, takes a list of strings (list of papers) as\n",
    "    argument.\n",
    "    \"\"\"\n",
    "    def __init__(self, name, papers):\n",
    "        Person.__init__(self, name)\n",
    "        self.papers = papers\n",
    "        \n",
    "    def get_details(self):\n",
    "        return \"%s teaches %s\" % (self.name, ','.join(self.papers))"
   ]
  },
  {
   "cell_type": "markdown",
   "metadata": {},
   "source": [
    "\n",
    "### __ call __\n",
    "    Call method is used to make the object as a Callable; Like when an Object is created; It goes to __init__ method; But what if I need to modify the content of arguments, In this case I need to create another object; So, In this case; I can make the Object as callable say:\n",
    "        a=A(1, 2, 3)                            #It goes to __init__() method and instantiate the object\n",
    "        a(1,2,3)                                #I can't do if I havn't make the Object as callable"
   ]
  },
  {
   "cell_type": "code",
   "execution_count": null,
   "metadata": {},
   "outputs": [],
   "source": [
    "class A(object):\n",
    "    def __init__(self,a,b,c):\n",
    "        self.a=a\n",
    "        self.b=b\n",
    "        self.c=c\n",
    "    def __call__(self,a,b,c):\n",
    "        self.a=a\n",
    "        self.b=b\n",
    "        self.c=c\n",
    "        print(\"Hello; Rahul Aggarwal\")\n",
    "\n",
    "a = A(1,2,3)                         #Will Instantiate the object\n",
    "a(1,2,3)                                #Will go to the __call__() method as Now our Object is callable"
   ]
  },
  {
   "cell_type": "markdown",
   "metadata": {},
   "source": [
    "Without __ call __ method I couldn't be able to execute the 2nd line"
   ]
  },
  {
   "cell_type": "markdown",
   "metadata": {},
   "source": [
    " In case of multiple parents having the same method and you want to call method of specific parent, then it can be achieved by:"
   ]
  },
  {
   "cell_type": "code",
   "execution_count": null,
   "metadata": {},
   "outputs": [],
   "source": [
    "class Parent1(object):\n",
    "     def foo(self):\n",
    "         print(\"I am a method from Parent1 class\")\n",
    "\n",
    "class Parent2(object):\n",
    "    def foo(self):\n",
    "        print(\"I am a method from Parent2 class\")\n",
    "\n",
    "class Child(Parent1, Parent2):\n",
    "    def foo(self):\n",
    "        print(\"I am a method from child class\")\n",
    "        super(Child, self).foo()\n",
    "        Parent1.foo(self)\n",
    "        Parent2.foo(self)"
   ]
  },
  {
   "cell_type": "markdown",
   "metadata": {},
   "source": [
    "## OBJECT ORIENTED PROGRAMMING CONCEPTS\n",
    "\n",
    "#### Overloading: \n",
    "    ability of function or an operator to behave in different ways depending on parameters that are passed to function, \n",
    "\tPython doesn't support method overloading(by default), Although we can have same name of methods in a class but only the last defined method will be considered while calling via class object.\n",
    "\n",
    "\tIt is possible to change the default behaviour of Python's built-in function. We only have to define the corresponding special method in our class."
   ]
  },
  {
   "cell_type": "code",
   "execution_count": null,
   "metadata": {},
   "outputs": [],
   "source": [
    "# Example:\n",
    "class Purchase(object):\n",
    "    def __init__(self, basket,buyer):\n",
    "        self.basket = list(basket)\n",
    "        self.buyer = buyer\n",
    "\n",
    "    def __len__(self):\n",
    "        print(\"this is an overloaded built-in function\")\n",
    "        return len(self.basket)\n",
    "\n",
    "purchase = Purchase(['pen', 'book', 'pencil'], 'Python')\n",
    "print(len(purchase))"
   ]
  },
  {
   "cell_type": "code",
   "execution_count": null,
   "metadata": {},
   "outputs": [],
   "source": [
    "# Example:\n",
    "class Purchase(object):\n",
    "    def __init__(self, basket,buyer):\n",
    "        self.basket = list(basket)\n",
    "        self.buyer = buyer\n",
    "\n",
    "purchase = Purchase(['pen', 'book', 'pencil'], 'Python')\n",
    "print(len(purchase))\t\t# TypeError: object of type 'Purchase' has no len()"
   ]
  },
  {
   "cell_type": "markdown",
   "metadata": {},
   "source": [
    "To overload a user defined function, we need to write a function logic in such a way that depending upon the params passed, a different piece of code executes inside the function"
   ]
  },
  {
   "cell_type": "code",
   "execution_count": null,
   "metadata": {},
   "outputs": [],
   "source": [
    "# Example:\n",
    "class Student:\n",
    "    def hello(self, name=None):\n",
    "        if name is not None:\n",
    "            print('Hey ' + name)\n",
    "        else:\n",
    "            print('Hey ')\n",
    "\n",
    "std = Student()\n",
    "std.hello()\t\t\t\t# Hey\n",
    "std.hello('Nicholas')\t# Hey Nicholas"
   ]
  },
  {
   "cell_type": "markdown",
   "metadata": {},
   "source": [
    "#### Overriding:\n",
    "\tAn ability that allows a child class to provide a redfined implementation of a method that is already provided by one of it's super class. When a method in subclass has the same name, same parameters and same return type as method in super-class, then the method in subclass is said to override the method in super class."
   ]
  },
  {
   "cell_type": "code",
   "execution_count": null,
   "metadata": {},
   "outputs": [],
   "source": [
    "# Example:\n",
    "class Parent():\n",
    "    def __init__(self):\n",
    "        self.value = \"Inside Parent\"\n",
    "\n",
    "    def show(self):\n",
    "        print(self.value)\n",
    "\n",
    "class Child(Parent):\n",
    "    def __init__(self):\n",
    "        self.value = \"Inside Child\"\n",
    "\n",
    "    def show(self):\n",
    "        print(self.value)\n",
    "\n",
    "obj1 = Parent()\n",
    "obj2 = Child()\n",
    "\n",
    "obj1.show()\n",
    "obj2.show()"
   ]
  },
  {
   "cell_type": "code",
   "execution_count": null,
   "metadata": {},
   "outputs": [],
   "source": [
    "# Example:\n",
    "class Parent1():\n",
    "    def show(self):\n",
    "        print(\"Inside Parent1\")\n",
    "\n",
    "class Parent2():\n",
    "    def display(self):\n",
    "        print(\"Inside Parent2\")\n",
    "\n",
    "class Child(Parent1, Parent2):\n",
    "    def show(self):\n",
    "        print(\"Inside Child\")\n",
    "\n",
    "obj = Child()\n",
    "obj.show()\t\t# Inside Child\n",
    "obj.display()\t# Inside Parent2"
   ]
  },
  {
   "cell_type": "code",
   "execution_count": null,
   "metadata": {},
   "outputs": [],
   "source": [
    "# \tExample:\n",
    "class Parent(): \n",
    "    def display(self):\n",
    "        print(\"Inside Parent\")\n",
    "\n",
    "class Child(Parent): \n",
    "    def show(self):\n",
    "        print(\"Inside Child\")\n",
    "\n",
    "class GrandChild(Child): \n",
    "    def show(self):\n",
    "        print(\"Inside GrandChild\")         \n",
    "\n",
    "g = GrandChild()   \n",
    "g.show()\t\t# Inside GrandChild\n",
    "g.display()\t\t# Inside Parent"
   ]
  },
  {
   "cell_type": "code",
   "execution_count": null,
   "metadata": {},
   "outputs": [],
   "source": [
    "# Example:\n",
    "class Parent():  \n",
    "    def show(self):\n",
    "        print(\"Inside Parent\")\n",
    "\n",
    "class Child(Parent):\n",
    "    def show(self):\n",
    "        Parent.show(self)\n",
    "        print(\"Inside Child\")\n",
    "\n",
    "obj = Child()\n",
    "obj.show()\t\t# Inside Parent\\nInside Child"
   ]
  },
  {
   "cell_type": "code",
   "execution_count": null,
   "metadata": {},
   "outputs": [],
   "source": [
    "# Example:\n",
    "class Parent():\n",
    "    def show(self):\n",
    "        print(\"Inside Parent\")\n",
    "\n",
    "class Child(Parent):\n",
    "    def show(self):\n",
    "        super(Child, self).show()\t# super().show()\n",
    "        print(\"Inside Child\")\n",
    "\n",
    "obj = Child()\n",
    "obj.show()\t\t# Inside Parent\\nInside Child"
   ]
  },
  {
   "cell_type": "markdown",
   "metadata": {},
   "source": [
    "### ACCESSING OBJECT ELEMENT\n",
    "\n",
    "    If there's an object and want to know the elements associated with this object the We can use,\n",
    "        dir(obj)\n",
    "        vars(obj)\n",
    "        inpect.getmembers(obj)\n",
    "        obj.__dict__\n",
    "        from pprint import pprint \n",
    "        pprint(dir(obj)), pprint(vars(obj))"
   ]
  },
  {
   "cell_type": "markdown",
   "metadata": {},
   "source": [
    "### MODULES\n",
    "\n",
    "    import python_file_name [without extension]\n",
    "    from python_file_name import fn1, fn2, fn3\n",
    "\n",
    "    We can have many submodules inside a module. A directory, with a __init__.py can also be used as a module and all\n",
    "    .py files inside it become submodules.\n",
    "    \n",
    "    If __init__.py file has __all__, and __init__.py contains the following;\n",
    "    from module import fn1\n",
    "    __all__ = [fn1]\n",
    "\n",
    "\n",
    "    then only the methods listed in list[i.e. fn1] will be imported when I'll do \n",
    "    from mymodule import *\n",
    "\n",
    "    \n",
    "      \n",
    "\n",
    "Pickle Module: We can store any plain python object in a file and can get back it later.\n",
    "\n",
    "\tl=[1,2,3,4]\t\t\t\t#A list is defined\n",
    "\tf=open(\"ll\",'wb')\t\t\t#A file is opened in a write binary mode\n",
    "\tpickle.dump(l,f)\t\t\t#It will store the \"l\" object to \"f\".\n",
    "\tf.close()\t\t\t\t#Close the file\t\n",
    "\tdel l\t\t\t\t\t#del the \"l\" object, now you won't be able to access l.\n",
    "\tf=open('ll','rb')\t\t\t#again open the file but in read binary mode\n",
    "\tresult=pickle.load(f)\t\t\t#load the content whatever is stored in f, as you did stored the l to f so l will come to result\n",
    "\tprint result\t\t\t\t#[1,2,3,4]\n",
    "\n",
    "\n",
    "Sys Module:Access to some variable used or maintained by Interpreter and to that function that interacts strongly with Interpreter.sys.argv contains all\n",
    "\t\t   command line interpreters.\n",
    "\n",
    "\tFor Example:\n",
    "\t\t    This one is used to get the command line arguments and command line arguments are those arguments when we give at the run time as:\n",
    "\t\t    python \"file_name\" arg1, arg2, arg3, ...\n",
    "                    __future__ is used to get the functionallity of those functions that are not already present in your python; So with the application of\n",
    "                    __future__ we can import future functions\n",
    "\t\t\n",
    "\t\t    \tfrom __future__ import print_function\n",
    "\t\t\timport sys\n",
    "\t\t\tprint(sys.argv, len(sys.argv))\n",
    "\n",
    "\n",
    "\t\t\tNow from the command prompt give the argumenmts as:\n",
    "\t\t\t\tpython \"file_name\" Hello\n",
    "\t\t\t\tpython \"file_name\" Hello Talat Parwez\n",
    "\t\t\t\tpython \"file_name\" Hello \"Talat\" Parwez\n",
    "\t\t\t\tpython \"file_name\" \"Hello\" Talat \"Parwez\""
   ]
  },
  {
   "cell_type": "markdown",
   "metadata": {},
   "source": [
    "### PRIVATE METHODS & VARIABLES:\n",
    "\n",
    "_function_name() —> will make it private, and when calling via:\n",
    "\n",
    "#### _var --> \n",
    "This is a hint to another programmer that this variable is tend to be used internally and should be treated as a \n",
    "non public part of API(whether it's a function or a data member) and it doesn't impose any restrictions on accessing the \n",
    "value of that variable"
   ]
  },
  {
   "cell_type": "code",
   "execution_count": null,
   "metadata": {},
   "outputs": [],
   "source": [
    "class Person:\n",
    "    def __init__(self):\n",
    "        self.name = 'Sarah'\n",
    "        self._age = 26\n",
    "        \n",
    "p = Person()\n",
    "print(p.name)\n",
    "print(p._age)"
   ]
  },
  {
   "cell_type": "markdown",
   "metadata": {},
   "source": [
    "##### __var\n",
    "Use of double underscore is not a conventio but has a specific meaning to the interpreter. Python mangles these names and \n",
    "it is used to avoid name clashes with names defined by subclasses. The interpreter changes the name in a way that makes it\n",
    "harder to create collisions when the class is extended later."
   ]
  },
  {
   "cell_type": "code",
   "execution_count": null,
   "metadata": {},
   "outputs": [],
   "source": [
    "class Person(object):\n",
    "    def __init__(self):\n",
    "        self.name = \"Sarah\"\n",
    "        self._age = 26\n",
    "        self.__id = 23\n",
    "\n",
    "p = Person()\n",
    "print(dir(p))\n",
    "\n",
    "print(p.name)\n",
    "print(p._age)\n",
    "print(p.__id)            # AttributeError: 'Person' object has no attribute '__id'\n",
    "print(p._Person__id)"
   ]
  },
  {
   "cell_type": "markdown",
   "metadata": {},
   "source": [
    "It does to protect the variable from getting overridden in subclasses. \n",
    "Now, If we create a subclass of Person, say Employee, we can't easily override Person's \"__id\" variable"
   ]
  },
  {
   "cell_type": "code",
   "execution_count": null,
   "metadata": {},
   "outputs": [],
   "source": [
    "class Employee(Person):\n",
    "    def __init__(self):\n",
    "        super(Employee, self).__init__()\n",
    "        self.__id = 24\n",
    "        \n",
    "p = Person()\n",
    "e = Employee()\n",
    "print(dir(p))               # _Person__id\n",
    "print(dir(e))               # _Employee__id"
   ]
  },
  {
   "cell_type": "markdown",
   "metadata": {},
   "source": [
    "##### var_\n",
    "When the most fitting variable name is already taken by a keyword (class, object etc), then appending _ as postfix is\n",
    "followed to break the naming conflict"
   ]
  },
  {
   "cell_type": "markdown",
   "metadata": {},
   "source": [
    "##### __ init __\n",
    "These are reserved for special use like creation of object, making an object callable, instantiating an object and are\n",
    "known as dunder methods. This is just a convention for the python system to use names that won't conflict with user defined\n",
    "names. Therefore dunders are just naming convention and are left untouched by Python Interpreter"
   ]
  },
  {
   "cell_type": "markdown",
   "metadata": {},
   "source": [
    "## PROPERTY\n",
    "\n",
    "We instantiate a class having fname & lname & email (combination of fname.lname@mail.com), We instantiate an object with fname = \"Rakhi\", lname = \"Taneja\", then email will become rakhi.taneja@mail.com,  Now we changed the surname of object, and tried to access email (obj.email), we would see that fname is changed but not the email because we instantiate email in __init__ class and we didn't call init again so email doesn't change. Let's see:"
   ]
  },
  {
   "cell_type": "code",
   "execution_count": null,
   "metadata": {},
   "outputs": [],
   "source": [
    "class Employee(object):\n",
    "    def __init__(self, fname, lname):\n",
    "        self.fname = fname\n",
    "        self.lname = lname\n",
    "        self.email = \"{}.{}@mail.com\".format(fname, lname)\n",
    "\n",
    "    def get_details(self):\n",
    "        return \"Employee details - {0} {1}\".format(self.fname, self.lname)\n",
    "\n",
    "obj = Employee(\"Rakhi\", \"Taneja\")\n",
    "print(obj.get_details())\n",
    "\n",
    "# Now, I am changing lname to some other value, and will see if there's any change\n",
    "obj.lname = \"Khanna\"\t\t# changed\n",
    "print(obj.email) \t\t\t\t\t# it's still - rakhi.taneja@mail.com\n"
   ]
  },
  {
   "cell_type": "markdown",
   "metadata": {},
   "source": [
    "#### To solve this problem, we can do"
   ]
  },
  {
   "cell_type": "code",
   "execution_count": null,
   "metadata": {},
   "outputs": [],
   "source": [
    "class Employee(object):\n",
    "    def __init__(self, fname, lname):\n",
    "        self.fname = fname\n",
    "        self.lname = lname\n",
    "\n",
    "    def email(self):\n",
    "        return \"{}.{}@mail.com\".format(self.fname, self.lname)\n",
    "\n",
    "    def get_details(self):\n",
    "        return \"Employee details - {0} {1}\".format(self.fname, self.lname)\n",
    "\n",
    "obj = Employee(\"Rakhi\", \"Taneja\")\n",
    "print(obj.get_details())\n",
    "\n",
    "# Now, I am changing lname to some other value, and will see if there's any change\n",
    "obj.lname = \"Khanna\"\t\t\t# changed\n",
    "print(obj.email())"
   ]
  },
  {
   "cell_type": "markdown",
   "metadata": {},
   "source": [
    "#### But, fetching email(obj.email) as a method looks wierd, So we can modify it as:"
   ]
  },
  {
   "cell_type": "code",
   "execution_count": null,
   "metadata": {},
   "outputs": [],
   "source": [
    "class Employee(object):\n",
    "    def __init__(self, fname, lname):\n",
    "        self.fname = fname\n",
    "        self.lname = lname\n",
    "\n",
    "    @property\n",
    "    def email(self):\n",
    "        return \"{}.{}@mail.com\".format(self.fname, self.lname)\n",
    "\n",
    "    def get_details(self):\n",
    "        return \"Employee details - {0} {1}\".format(self.fname, self.lname)\n",
    "\n",
    "obj = Employee(\"Rakhi\", \"Taneja\")\n",
    "print(obj.get_details())\n",
    "\n",
    "# Now, I am changing lname to some other value, and will see if there's any change\n",
    "obj.lname = \"Khanna\"\t\t\t# changed\n",
    "print(obj.email) \t\t\t\t\t\t# it's changed to - rakhi.khanna@mail.com"
   ]
  },
  {
   "cell_type": "markdown",
   "metadata": {},
   "source": [
    "#### We may also need to set or delete the email as well, but we won't be able to do that, unless we have setter & deleter implemented for email \n",
    "(If we delete obj.fname/obj.lname, this would be possible but setting/deleting email property will throw Atrribute error saying - Can't delete attribute/Can't set attribute). The code goes like this: "
   ]
  },
  {
   "cell_type": "code",
   "execution_count": null,
   "metadata": {},
   "outputs": [],
   "source": [
    "class Employee(object):\n",
    "    def __init__(self, fname, lname):\n",
    "        self.fname = fname\n",
    "        self.lname = lname\n",
    "\n",
    "    @property\n",
    "    def email(self):\n",
    "        if self.fname == None or self.lname == None:\n",
    "            return \"Email is not set, set it first\"\n",
    "        return f\"{self.fname}.{self.lname}@mail.com\"\n",
    "\n",
    "    @email.setter\n",
    "    def email(self, string):\n",
    "        names = string.split('@')\n",
    "        self.fname, self.lname = names[0].split('.')\n",
    "\n",
    "    @email.deleter\n",
    "    def email(self):\n",
    "        self.fname = None\n",
    "        self.lname = None\n",
    "\n",
    "    def get_details(self):\n",
    "        print(\"Employee is {0} {1}\".format(self.fname, self.lname))\n",
    "\n",
    "obj = Employee(\"Rakhi\", \"Taneja\")\n",
    "print(obj.get_details())\n",
    "print(obj.email)\n",
    "obj.lname = \"Khanna\"\n",
    "print(obj.lname)\n",
    "print(obj.email)\n",
    "obj.email = \"this.that@mail.com\"\n",
    "print(obj.email)\n",
    "del obj.email\n",
    "print(obj.email)"
   ]
  },
  {
   "cell_type": "code",
   "execution_count": null,
   "metadata": {},
   "outputs": [],
   "source": [
    "TRAP_ARTISTS = [\"a\", \"b\", \"c\"]\n",
    "class Employee(object):\n",
    "    _hits = [\"d\", \"e\", \"f\"]\n",
    "\n",
    "    def __init__(self, name):\n",
    "        self._name = name\n",
    "\n",
    "    @property\n",
    "    def name(self):\n",
    "        return self._name\n",
    "\n",
    "    @name.setter\n",
    "    def name(self, name):\n",
    "        if name not in TRAP_ARTISTS:\n",
    "            raise ValueError(\"%s is not a trap artist\" % name)\n",
    "        self._name = name\n",
    "\n",
    "    @staticmethod\n",
    "    def random_artist():\n",
    "        return TrapArtist(random.choice(TRAP_ARTISTS))\n",
    "\n",
    "    @classmethod\n",
    "    def hits(cls):\n",
    "        return cls._hits\n",
    "    \n",
    "rr = Employee('Rick Ross')\n",
    "rr.name = \"Martin\"                     # will fail,  ValueError\n",
    "rr.name = \"a\"                          # will work\n",
    "rr.hits()                              # returns [\"d\", \"e\", \"f\"]\n",
    "rr._hits = ['pur', 'red', 'gre']       # won't work but rr.__class__._hits will work, return ['pur', 'red', 'gre']\n",
    "print(rr.hits)                         # it'll still return [\"d\", \"e\", \"f\"]"
   ]
  },
  {
   "cell_type": "markdown",
   "metadata": {},
   "source": [
    "## COLLECTIONS"
   ]
  },
  {
   "cell_type": "markdown",
   "metadata": {},
   "source": [
    "### COUNTER"
   ]
  },
  {
   "cell_type": "code",
   "execution_count": null,
   "metadata": {},
   "outputs": [],
   "source": [
    "from collections import Counter\n",
    "lst = [1,2, 2, 2, 2, 2, 2, 1, 1, 1, 1, 'a', 'a', 'c', 'a', 'c', 'c', 'c', 'b']\n",
    "dd = Counter(lst)\n",
    "Counter({1: 5, 2: 6, 'a': 3, 'b': 1, 'c': 4})\t\t\t# Applicable on strings as well\n",
    "dd.most_common() \t\t\t\t\t\t# Counter({1: 5, 2: 6, 'a': 3, 'b': 1, 'c': 4})"
   ]
  },
  {
   "cell_type": "markdown",
   "metadata": {},
   "source": [
    "### DEFAULTDICT"
   ]
  },
  {
   "cell_type": "code",
   "execution_count": null,
   "metadata": {},
   "outputs": [],
   "source": [
    "from collections import defaultdict\t\t\t\t# If values aren’t assigned to keys then, default value is set\n",
    "d = defaultdict(lambda: 0)\n",
    "print(d['one'])\t\t\t\t\t\t\t# 0\n",
    "print(d['two'])\t\t\t\t\t\t\t# 0"
   ]
  },
  {
   "cell_type": "markdown",
   "metadata": {},
   "source": [
    "### ORDERED_DICTIONARY\n",
    "\n",
    "Normal dictionary doesn’t retain the order but Ordered dictionary does."
   ]
  },
  {
   "cell_type": "code",
   "execution_count": null,
   "metadata": {},
   "outputs": [],
   "source": [
    "from collections import OrderedDict\n",
    "d = OrderedDict()\n",
    "d[1] = \"a\"\n",
    "d[2] = \"b\"\n",
    "d[3] = \"c\"\n",
    "d[4] = \"d\"\n",
    "\n",
    "for k, v in d.items():\n",
    "\n",
    "    print(k, v)\t\t\t\t\t\t\t# Here order is retained"
   ]
  },
  {
   "cell_type": "markdown",
   "metadata": {},
   "source": [
    "### NAMED_TUPLE"
   ]
  },
  {
   "cell_type": "code",
   "execution_count": null,
   "metadata": {
    "scrolled": true
   },
   "outputs": [],
   "source": [
    "# They are same as of Dictionary but ordered and values can be taken via Indexing & via Key as well\n",
    "\n",
    "from collections import namedtuple\n",
    "pet_dog = namedtuple(\"Dog\", [\"age\", \"breed\", \"name\"])\n",
    "sam = pet_dog(age=2, breed=\"lab\", name=\"samy\")\n",
    "\n",
    "print(sam.age, sam.breed, sam.name)                                           # accessing via key\n",
    "print(sam[0], sam[1], sam[2])                                                 # accessing via indexing\n",
    "print(getattr(sam, 'age', \"No\"), getattr(sam, 'breed'), getattr(sam, 'name'))          # accessig via getattr"
   ]
  },
  {
   "cell_type": "markdown",
   "metadata": {},
   "source": [
    "### SHALLOW_COPY Vs DEEP_COPY\n",
    "    Assignment statements in python don't copy objects, but they create bindings between a target and an object\n",
    "    With shallow_copy, the ID of outer element is changed only,\n",
    "        If we change some outer indexed value, then it won't be reflected in copied item.\n",
    "        If we change values in inner indexed item, then it'll be reflected in copied item.\n",
    "    With deepcopy, the ID of inner elements are changed as well along with outer elements\n",
    "        ** any changes made to a copy of object don't reflect in another object. \n",
    "        If we change some outer indexed value, then it won't be reflected in copied item\n",
    "        If we change vallues in inner indexed item, then it won't be reflected in copied item.\n",
    "\n",
    "FYR: [1,2,3, [4,5,6]] - (1,2,3) are outer indexed items and (4,5,6) are inner indexed items"
   ]
  },
  {
   "cell_type": "markdown",
   "metadata": {},
   "source": [
    "### TIMEIT\n"
   ]
  },
  {
   "cell_type": "code",
   "execution_count": null,
   "metadata": {},
   "outputs": [],
   "source": [
    "import timeit                               # this will give the time taken in execution of any LOC\n",
    "timeit.timeit('\"-\".join(str(n) for n in range(10))', number = 20)\n",
    "\n",
    "# code snippet to be executed only once\n",
    "mysetup = \"from math import sqrt\"\n",
    "\n",
    "# code snippet whose execution time is to be measured\n",
    "mycode = '''\n",
    "def example():\n",
    "    mylist = []\n",
    "    for x in range(100):\n",
    "        mylist.append(sqrt(x))\n",
    "'''\n",
    "\n",
    "# timeit statement\n",
    "timeit.timeit(setup = mysetup, stmt = mycode, number = 10000)\n",
    "timeit.repeat(stmt=mycode, repeat=3, setup='pass', number = 1000000)"
   ]
  },
  {
   "cell_type": "markdown",
   "metadata": {},
   "source": [
    "#### Python memory is managed by Python private heap space. All Python objects and data structures are located in a private heap. The programmer does not have an access to this private heap and interpreter takes care of this Python private heap."
   ]
  },
  {
   "cell_type": "markdown",
   "metadata": {},
   "source": [
    "### MULTITHREADED PROGRAMMING\n",
    "\n",
    "https://engineering.contentsquare.com/2018/multithreading-vs-multiprocessing-in-python/\n",
    "\n",
    "https://www.toptal.com/python/beginners-guide-to-concurrency-and-parallelism-in-python\n",
    "\n",
    "Multi Threading --> I/O bound tasks\n",
    "Multi Processing --> CPU bound tasks\n",
    "\n",
    "from concurrent.futures import ThreadPoolExecutor\n",
    "from concurrent.futures import ProcessPoolExecutor\n",
    "\n",
    "#### Process: \n",
    "    It is what we call a program that has been loaded into memory along with all resources it needs to operate. It has its \n",
    "    own memory space.\n",
    "#### Thread:\n",
    "    Unit of execution within a process. A process can have multiple threads running as a part of it, where each thread uses\n",
    "    the process's memory space and shares it with other threads.\n",
    "#### MultiThreading:\n",
    "    It is a technique where multiple threads are spawned by a process to do different tasks, at about the same time, just\n",
    "    one after the other. This gives us the illusion that the threads are running in parallel, but they're actually running\n",
    "    in concurrent manner. In python, the GIL prevents the thread running simultaneously.\n",
    "#### MultiProcessing:\n",
    "    A technique where parallelism in its truest form is achived. Multi processes run across multiple CPU cores, which don't\n",
    "    share the resources among them. Each process can have many threads running in its own memory space. Each process has\n",
    "    its own memory space. Each process has its own instance of Python Interpreter doing the job of executing instructions.\n",
    "    \n",
    "###### MultiThreading for I/O Tasks, MultiProcessing for CPU bound tasks\n",
    "    \n",
    "\tWe actually don't have the functionality of mutli threading in python due to Global interpreter lock which ensures that only one thread is running. Execution of python code is controlled by Python virtual machine(Interpreter main loop). Python was designed in such a way that only one thread of control may be executing in this main loop. Many prorams can be in memory but only is live on the CPU at given moment. Access to Python virtual machine is is controlled by the GIL.\n",
    "\tThe GIL makes sure that only one of your 'threads' can execute at any one time. A thread acquires the GIL, does a little work, then passes the GIL onto the next thread. This happens very quickly so to the human eye it may seem like your threads are executing in parallel, but they are really just taking turns using the same CPU cores\n",
    "\tWe have two ways of implementing threading in python which are in implemented in 2 modules - \n",
    "\t\t1. Thread (lower level threading) - Not recommended\n",
    "\t\t2. threadingv(higher level threading) - recommended\n",
    "\n",
    "\tWith thread module, child thread exits without prompting/warning and without cleanup and cause main thread to exits and when main thread exits, all other thread die without cleanup."
   ]
  },
  {
   "cell_type": "markdown",
   "metadata": {},
   "source": [
    "#### WITHOUT_THREADING.PY: (This will completely take 6 seconds to execute)"
   ]
  },
  {
   "cell_type": "code",
   "execution_count": null,
   "metadata": {},
   "outputs": [],
   "source": [
    "from time import ctime, sleep\n",
    "\n",
    "def loop0():\n",
    "    print(\"starting loop0 at: \", ctime())\n",
    "    sleep(4)\n",
    "    print(\"loop 0 done at: \", ctime())\n",
    "\n",
    "def loop1():\n",
    "    print(\"starting loop1 at: \", ctime())\n",
    "    sleep(2)\n",
    "    print(\"loop 1 done at: \", ctime())\n",
    "\n",
    "if __name__ == \"__main__\":\n",
    "    loop0()\n",
    "    loop1()"
   ]
  },
  {
   "cell_type": "markdown",
   "metadata": {},
   "source": [
    "#### WITH_THREAD.PY: (This will take 4 seconds and some overhead)"
   ]
  },
  {
   "cell_type": "code",
   "execution_count": null,
   "metadata": {},
   "outputs": [],
   "source": [
    "from time import ctime, sleep\n",
    "import _thread\n",
    "\n",
    "def loop0(lock):\n",
    "    print(\"starting loop0 at: \", ctime())\n",
    "    sleep(4)\n",
    "    print(\"loop 0 done at: \", ctime())\n",
    "    lock.release()\n",
    "\n",
    "def loop1(lock):\n",
    "    print(\"starting loop1 at: \", ctime())\n",
    "    sleep(2)\n",
    "    print(\"loop 1 done at: \", ctime())\n",
    "    lock.release()\n",
    "\n",
    "if __name__ == \"__main__\":\n",
    "    lock0 = _thread.allocate_lock()\n",
    "    lock1 = _thread.allocate_lock()\n",
    "    lock0.acquire()\n",
    "    lock1.acquire()\n",
    "    print(lock0, lock1)\n",
    "    _thread.start_new_thread(loop0, (lock0, ))\n",
    "    _thread.start_new_thread(loop1, (lock1, ))\n",
    "    while lock0.locked():\n",
    "        pass\n",
    "    while lock1.locked():\n",
    "        pass"
   ]
  },
  {
   "cell_type": "markdown",
   "metadata": {},
   "source": [
    "Mutexes, locks, and semaphores are synchronization mechanisms used in concurrent programming to manage access to shared resources and prevent race conditions. They are essential for ensuring that multiple threads or processes can safely access shared resources without causing conflicts or data corruption. Here's an overview of each concept:\n",
    "\n",
    " - MUTEX (Mutual Exclusions): A synchronisation primitive that provides mutual exclusion to protect shared resources by allowing only one thread to access the resource at a time. A thread acquiring a mutex gains exclusive access to the protected resource and other threads trying to acquire the same mutex are blocked until the mutex is released. These are binary in nature either locked or unlocked\n",
    " - LOCK: The term \"lock\" is often used more broadly to describe any mechanism that prevents multiple threads concurrently accessing a shared resource\n",
    " - SEMAPHORES: A synchronisation primitive that maintains a count and is used to control access to specific number of resources if you have a counting semaphore initialized with a count of 5, it means that up to 5 threads can concurrently access the protected resource.\n",
    " \n",
    " Mutexes are used for protecting a single resource ensuring only one thread at a time can access it.\n",
    " Semaphores control access to a fixed number of resources, allowing multiple threads upto the specified limit.\n",
    " Lock is general term refering to any synchronisation mechanism that enforces mutual exclusion, \n",
    "\n",
    "On multi-core machine, each core has it's own cache memory. When a thread modifies data in it's cache, those changes might not be immediately visible to other core's caches or to main memory.This can lead to inconsistencies and data visibility issues.\n",
    "Modern processors use cache coherency protocols to ensure that changes made in one core's cache are propagated to other core and main memory. Mutexes and other synchronisation mechanisms need to take cache coherency into account to avoid data inconsistency.\n",
    "\n",
    "- DAEMON THREADS - A daemon is typically a server that waits for client requests to service. if we set daemon flag for a thread, we're basically saying that its not critical and it's okay for a process to exit without waiting for it to finish. If your main thread is ready to exit and you don't care to wait for the child the child to finish, then set their daemon flags. entire python program stay alive untill all non-daemonic threads have exited.\n",
    "\n",
    "We have the threading module as well which provides wide variety of synchronization mechanisms.\n",
    " - <b>THREAD</b> - Object that represents a single thread of execution\n",
    " - <b>LOCK</b> - Primitive lock object (same lock as in thread module)\n",
    " - <b>RLOCK</b> - re-entrant lock object provides ability for a single thread to re-acquire an already held lock\n",
    " - <b>CONDITION</b> - this object causes one thread to wait until a certain condition has been satisfied by another thread\n",
    " - <b>EVENT</b> - General version of condition variables, whereby any number of threads are waiting for some event to occur and all will awaken when the event happens\n",
    " - <b>SEMAPHORE</b> - Provides a 'counter' of finite resources shared between threads; block when none are available\n",
    " - <b>BOUNDEDSEMAPHORE</b> - Similar to semaphore but ensures that it never exceeds its initial value\n",
    " - <b>TIMER</b> - Similar to thread, except that it waits for an alloted period of time before running\n",
    " - <b>BARRIER</b> - A barrier at which a specified number of threads must all arrive before they're all allowed to continues\n",
    "\n",
    "\tDue to the fact that the Python virtual machine is single threaded (GIL), greater concurrency is only possible when threading is applied to an I/O bound application (Vs. CPU bound applications,\n",
    "\twhich only do round-robin)\n",
    "\n",
    " - <b>SYNCHRONIZATION PRIMITIVES</b> - Often times, in threaded code, we've certain codes which we don't want more than 1 thread executing. Usually this involves modifying a database, updating a file. whenever there's a race condition, synchronization is required. Synchronization is used when many number of threads can come up to one of critical sections but only one is allowed through at.\n",
    "\t   \n",
    " - At any given time. Two types of syncronization are there - Locks/Mutexes and Semaphores.\n",
    "\n",
    " - <b>LOCKING</b>: Two states - Locked and Unlocked, Two supported functions - Acquire and Release. As multiple thread looks for lock, the first thread to acquire one is permitted to go in and execute code in critical section. All other threads coming along are blocked until the first thread wraps up, exits the critical section and releases the lock. We need locks so that no two threads can enter the critical section at same time to access the same data structure or I/O\n",
    "\n",
    "    Locks are pretty simple to understand and implement and also easy to decide when should we use them, but might need a powerful synchronisation when situation is more complex. Applications with finite resources, using semaphores is good\n",
    "\n",
    "    We can think of semaphores representing their resources as either available or unavailable (they're basically counters that decrement when a resource being consumed and increment again when resource is released)\n",
    "\n",
    "    Python's global interpreter lock or GIL is a mutex that allows only one thread to hold the control of Python interpreter. Only one thread can be in state of execution at any point of time."
   ]
  },
  {
   "cell_type": "markdown",
   "metadata": {},
   "source": [
    "### Python Memory Management\n",
    "\n",
    "https://realpython.com/python-memory-management/"
   ]
  },
  {
   "cell_type": "markdown",
   "metadata": {},
   "source": [
    "### PYTHON-2 to PYTHON-3\n",
    "\n",
    "\tIn order to convert code from python2 to python3, One can simply use 2to3 utility.\n",
    "        $ 2to3 foo.py\t\t\t\t\t# only output difference \n",
    "    $ 2to3 -w foo.py\t\t\t\t# overwrites the file with python 3 code"
   ]
  },
  {
   "cell_type": "markdown",
   "metadata": {},
   "source": [
    "### QUESTIONS:\n",
    "* Print the length of each word in sentence using map and lambda\n",
    "\t\tmap(lambda word: len(word), word.split())\n",
    "\n",
    "* Take a list of digits and return the number that they correspond to. \n",
    "\t\treduce(lambda a, b: a*10 +b , [3,4,5,6,1])\n",
    "\n",
    "* Use filter to filter out the words which starts from the target letter.\n",
    "\t\t[i for i in ['hello', 'are', 'cat', 'dog', 'ham'] if i.startswith('h')]\n",
    "\n",
    "* Use zip and list comprehension to return list of same length where each value is the two strings from L1 and L2 concatenated together with connector between them\n",
    "\t\t['-'.join(word) for word in zip(['a', 'b'], ['A', 'B'])]\n",
    "\n",
    "* Use enumerate and other skills to return a dictionary which has the values of the list as the keys and index as the value. You may assume that a value will only appear once in the given list\n",
    "\t\t[{val: idx} for idx, val in enumerate(lst)]\n",
    "\n",
    "* Return the count of the number of items in the list whose value equals to its index\n",
    "\t\t[(idx, val) for idx, val in enumerate(lst) if len(val)==idx]\n",
    "\n",
    "* Create a generator that generates the squares of numbers upto some number N:\n",
    "\tdef gen_squares(N):\n",
    "          for i in range(N):\n",
    "              yield i**2\n",
    "\n",
    "* Create a generator that yields “n” random numbers between a low and high number.\n",
    "\tdef gen_random(min_num, max_num, N):\n",
    "           for i in range(N):\n",
    "               yield random.randint(min_num, max_num)\n",
    "\t\n",
    "\tff = gen_random(10, 20, 8)\n",
    "\tfor i in ff:\n",
    "\t    print i\n"
   ]
  },
  {
   "cell_type": "code",
   "execution_count": null,
   "metadata": {},
   "outputs": [],
   "source": []
  }
 ],
 "metadata": {
  "kernelspec": {
   "display_name": "Python 3 (ipykernel)",
   "language": "python",
   "name": "python3"
  },
  "language_info": {
   "codemirror_mode": {
    "name": "ipython",
    "version": 3
   },
   "file_extension": ".py",
   "mimetype": "text/x-python",
   "name": "python",
   "nbconvert_exporter": "python",
   "pygments_lexer": "ipython3",
   "version": "3.9.6"
  }
 },
 "nbformat": 4,
 "nbformat_minor": 4
}
