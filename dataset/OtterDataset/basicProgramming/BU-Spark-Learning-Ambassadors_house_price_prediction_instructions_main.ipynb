{
  "nbformat": 4,
  "nbformat_minor": 0,
  "metadata": {
    "colab": {
      "provenance": []
    },
    "kernelspec": {
      "name": "python3",
      "display_name": "Python 3"
    },
    "language_info": {
      "name": "python"
    }
  },
  "cells": [
    {
      "cell_type": "markdown",
      "source": [
        "**#Welcome to my BU Spark! Machine Learning Micro Challenge - here we'll be conducting a comparative analysis between Decision Tree and Random Forest regression models on the Boston house prices dataset.**\n",
        "\n",
        "**Resources**\n",
        "\n",
        "Links/software that need to be downloaded:\n",
        "Google Colab, Jupyter Notebook, or any other Python programming environment. Boston house price data set.\n",
        "\n",
        "**Time Necessary To Complete**: 3 Hours\n",
        "\n",
        "**What is this micro challenge about**:\n",
        "\n",
        "This micro challenge is focused on applying and comparing two machine learning models, Decision Tree and Random Forest, to predict house prices using the Boston house prices dataset. The challenge includes tasks such as loading the dataset, preprocessing data, training both models, and evaluating their performance to determine which model predicts house prices more accurately.\n",
        "\n",
        "**What’s the purpose of it:**\n",
        "\n",
        "The purpose of this challenge is to provide beginner to intermediate machine learning enthusiasts with hands-on experience in applying, comparing, and understanding the performance of different machine learning models on a real-world dataset. It aims to enhance understanding of regression analysis, model selection, and model evaluation metrics within a practical context. This challenge is particularly beneficial for students who have taken introductory courses in data science or machine learning and are looking to apply their knowledge in a practical setting.\n",
        "\n",
        "**How will the resources help:**\n",
        "\n",
        "The recommended resources will provide the necessary programming environment to code, test, and compare the Decision Tree and Random Forest models. These platforms support the installation of necessary libraries such as scikit-learn, which contains both machine learning algorithms and the Boston house prices dataset, facilitating an accessible and comprehensive learning experience. Additionally, these environments offer tools for data visualization and analysis, enabling participants to deeply understand model performance and data characteristics\n",
        "\n"
      ],
      "metadata": {
        "id": "oROAdZg9ovlr"
      }
    },
    {
      "cell_type": "code",
      "source": [
        "#Load in the data here"
      ],
      "metadata": {
        "id": "HVURduXwpYzi"
      },
      "execution_count": null,
      "outputs": []
    },
    {
      "cell_type": "code",
      "source": [
        "#Explore the data, describe it, and create some sort of plot to take notice of any interesting correlations you see. I'd recommend a heat chart of some sorts."
      ],
      "metadata": {
        "id": "pbD-8EXmpmMN"
      },
      "execution_count": null,
      "outputs": []
    },
    {
      "cell_type": "code",
      "source": [
        "#Prepare the data for splitting it into input and output and into training and testing"
      ],
      "metadata": {
        "id": "bGBpTk8CqChy"
      },
      "execution_count": null,
      "outputs": []
    },
    {
      "cell_type": "code",
      "source": [
        "#Tune the parameters of our decision tree and random forest models"
      ],
      "metadata": {
        "id": "uL-ANi2BrPuQ"
      },
      "execution_count": null,
      "outputs": []
    },
    {
      "cell_type": "code",
      "source": [
        "#Build your final tuned models, compare them, and make a decision on which model performs better"
      ],
      "metadata": {
        "id": "1dr1uknJrVvZ"
      },
      "execution_count": null,
      "outputs": []
    }
  ]
}