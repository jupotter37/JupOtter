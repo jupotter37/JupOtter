{
 "cells": [
  {
   "attachments": {},
   "cell_type": "markdown",
   "metadata": {
    "colab_type": "text",
    "id": "view-in-github"
   },
   "source": [
    "<a href=\"https://colab.research.google.com/github/DolicaAkelloEgwel/python-slides/blob/main/python-for-beginners/python-for-beginners-image-scraper.ipynb\" target=\"_parent\"><img src=\"https://colab.research.google.com/assets/colab-badge.svg\" alt=\"Open In Colab\"/></a>"
   ]
  },
  {
   "attachments": {},
   "cell_type": "markdown",
   "id": "bebc1761",
   "metadata": {
    "id": "bebc1761"
   },
   "source": [
    "# Python For Beginners\n",
    "\n",
    "## Setup\n",
    "\n",
    "### 1. Go to this link: bit.ly/3F5b88F\n",
    "### 2. Log in to your Google account\n",
    "\n",
    "## Overview\n",
    "\n",
    "Part One:\n",
    "\n",
    "+ The Python Interpreter\n",
    "+ Hello World / Variables\n",
    "+ Variable Reassignment\n",
    "+ Numbers\n",
    "+ Lists\n",
    "+ Combining Things / Using Operators\n",
    "+ Libraries\n",
    "+ List Comprehensions"
   ]
  },
  {
   "attachments": {},
   "cell_type": "markdown",
   "id": "e00d87ac",
   "metadata": {
    "id": "e00d87ac"
   },
   "source": [
    "## Using Python Notebooks\n",
    "\n",
    "Python Notebooks are made up of blocks of code called cells. These cells can be run by clicking on the play button on the left of each code block. If the code runs successfully then you will see a green tick appear on the left. If there is any output then it will appear beneath the cell.\n",
    "\n",
    "Python Notebooks are handy resources for teaching as they allow me to combine explanation with examples. But do keep in mind that they do not play especially well with version control and for a more serious project you will probably want to learn how to write your own Python files that you can run locally."
   ]
  },
  {
   "attachments": {},
   "cell_type": "markdown",
   "id": "3b920e57",
   "metadata": {},
   "source": [
    "## Connecting Drive\n",
    "\n",
    "Run the cell below."
   ]
  },
  {
   "cell_type": "code",
   "execution_count": null,
   "id": "538a49f2",
   "metadata": {},
   "outputs": [],
   "source": [
    "from google.colab import drive\n",
    "\n",
    "drive.mount(\"/content/drive\")"
   ]
  },
  {
   "attachments": {},
   "cell_type": "markdown",
   "id": "2b4d1a06",
   "metadata": {},
   "source": [
    "In the Files panel on the left-hand side, you should now see a `drive` folder. At the end of the workshop you will be able to save the images that you have created by moving them to `drive > MyDrive`.\n",
    "\n",
    "![](connecting-drive.png)"
   ]
  },
  {
   "attachments": {},
   "cell_type": "markdown",
   "id": "557cbbb9",
   "metadata": {
    "id": "557cbbb9"
   },
   "source": [
    "## Some Python Basics"
   ]
  },
  {
   "attachments": {},
   "cell_type": "markdown",
   "id": "1d17665c",
   "metadata": {
    "id": "1d17665c"
   },
   "source": [
    "### Calculator\n",
    "\n",
    "The Python interpreter can be used as a calculator.\n",
    "\n",
    "**Exercise:** Find the value of `2 + 2` using Python."
   ]
  },
  {
   "cell_type": "code",
   "execution_count": null,
   "id": "9a4bcc50",
   "metadata": {
    "colab": {
     "base_uri": "https://localhost:8080/"
    },
    "id": "9a4bcc50",
    "outputId": "9520d7d7-65e2-4da6-dcd5-857c0c40e7c5"
   },
   "outputs": [],
   "source": [
    "# live coding goes here"
   ]
  },
  {
   "attachments": {},
   "cell_type": "markdown",
   "id": "e10a6976",
   "metadata": {},
   "source": [
    "### Comments\n",
    "\n",
    "Comments are lines of text that are ignored by the Python interpreter. In Python you write comments with the `#` symbol. They can be used to indicate what a certain part of the code is doing to a fellow coder or your future self. \n",
    "\n",
    "You also make life easier for me when I help you out with your code at the CTL :)"
   ]
  },
  {
   "cell_type": "code",
   "execution_count": null,
   "id": "47f83ce9",
   "metadata": {},
   "outputs": [],
   "source": [
    "# I am about to add some numbers\n",
    "1 + 1  # The numbers are being added\n",
    "# I have just added some numbers"
   ]
  },
  {
   "attachments": {},
   "cell_type": "markdown",
   "id": "b1414bf4",
   "metadata": {
    "id": "b1414bf4"
   },
   "source": [
    "### Variables and `print()`\n",
    "\n",
    "Variables allow you to store values so that they can be used again or changed later. They are like labelled boxes for storing data. The `print()` command can be used to show the value of a variable.\n",
    "\n",
    "![](variable-box.png)\n",
    "\n",
    "It is possible to calculate something and store the value in a variable."
   ]
  },
  {
   "cell_type": "code",
   "execution_count": null,
   "id": "ffd9e06f",
   "metadata": {},
   "outputs": [],
   "source": [
    "my_number = 2 + 2\n",
    "print(my_number)"
   ]
  },
  {
   "attachments": {},
   "cell_type": "markdown",
   "id": "c6c233e7",
   "metadata": {},
   "source": [
    "When you try to look for a variable that hasn't been defined (yet) you get an error."
   ]
  },
  {
   "cell_type": "code",
   "execution_count": null,
   "id": "53b2c69f",
   "metadata": {},
   "outputs": [],
   "source": [
    "print(this_variable_does_not_exist)"
   ]
  },
  {
   "attachments": {},
   "cell_type": "markdown",
   "id": "d98c8709",
   "metadata": {},
   "source": [
    "To create a text variable in Python we store it in something called a **string.** A string is a sequence of characters that is **enclosed with quotation marks.**"
   ]
  },
  {
   "cell_type": "code",
   "execution_count": null,
   "id": "529fd286",
   "metadata": {
    "colab": {
     "base_uri": "https://localhost:8080/"
    },
    "id": "529fd286",
    "outputId": "b458ae99-874a-458b-ac61-fade86ebf319"
   },
   "outputs": [],
   "source": [
    "my_text = \"Hello World!\"\n",
    "print(my_text)"
   ]
  },
  {
   "attachments": {},
   "cell_type": "markdown",
   "id": "bec91e8c",
   "metadata": {
    "id": "bec91e8c"
   },
   "source": [
    "**Exercise:** Create a variable called `greeting` containing the text `My name is your-name` then use the `print()` command to show it."
   ]
  },
  {
   "cell_type": "code",
   "execution_count": null,
   "id": "dde5525c",
   "metadata": {
    "id": "dde5525c"
   },
   "outputs": [],
   "source": [
    "# live coding goes here"
   ]
  },
  {
   "attachments": {},
   "cell_type": "markdown",
   "id": "19f8ba48",
   "metadata": {},
   "source": [
    "#### Naming Variables\n",
    "\n",
    "There are rules for naming variables in Python. \n",
    "\n",
    "- A variable name can only contain alpha-numeric characters and underscores (A-z, 0-9, and _ )\n",
    "- A variable name cannot start with a number (`my_var1` and `my_var2` is fine, but `1my_var` is not)\n",
    "- Variable names are case-sensitive (so `age`, `Age` and `AGE` would be three different variables)\n",
    "- A variable name cannot be any of the [Python keywords](https://www.geeksforgeeks.org/python-keywords/).\n",
    "\n",
    "![](reserved.jpeg)\n"
   ]
  },
  {
   "attachments": {},
   "cell_type": "markdown",
   "id": "995fad32",
   "metadata": {
    "id": "995fad32"
   },
   "source": [
    "### Reassignment\n",
    "\n",
    "We can change the value of variable by using the `=` operator to give it another value. This is known as _reassignment_. Be aware that Notebooks allow you to execute cells in any order, meaning that it can be a bit trickier to ensure others get the same output you do."
   ]
  },
  {
   "cell_type": "code",
   "execution_count": null,
   "id": "f5a358cb",
   "metadata": {
    "id": "f5a358cb"
   },
   "outputs": [],
   "source": [
    "my_text = \"hello!\""
   ]
  },
  {
   "cell_type": "code",
   "execution_count": null,
   "id": "c9fa57f5",
   "metadata": {
    "colab": {
     "base_uri": "https://localhost:8080/"
    },
    "id": "c9fa57f5",
    "outputId": "a910da61-29f0-4971-ca00-bd005faf20f4"
   },
   "outputs": [],
   "source": [
    "# the problem with notebooks...\n",
    "print(my_text)"
   ]
  },
  {
   "cell_type": "code",
   "execution_count": null,
   "id": "cc5cf483",
   "metadata": {
    "id": "cc5cf483"
   },
   "outputs": [],
   "source": [
    "my_text = \"goodbye!\""
   ]
  },
  {
   "attachments": {},
   "cell_type": "markdown",
   "id": "c3cac059",
   "metadata": {},
   "source": [
    "This is equivalent to taking out what was previously in our box, tossing it away, and putting something else in that box. Something called the \"garbage collector\" in Python will periodically delete any data it finds that doesn't belong to a box."
   ]
  },
  {
   "attachments": {},
   "cell_type": "markdown",
   "id": "3a4f7641",
   "metadata": {
    "id": "3a4f7641"
   },
   "source": [
    "### Numbers\n",
    "\n",
    "Python has a number of different numeric types. In general, the ones you'll be using the most are whole numbers (Integers) and numbers with decimals places (Floats)."
   ]
  },
  {
   "cell_type": "code",
   "execution_count": null,
   "id": "2110b088",
   "metadata": {
    "id": "2110b088"
   },
   "outputs": [],
   "source": [
    "num = 10\n",
    "pi = 3.14"
   ]
  },
  {
   "attachments": {},
   "cell_type": "markdown",
   "id": "9ad97c25",
   "metadata": {},
   "source": [
    "We can use the `type()` command to see the data type of something."
   ]
  },
  {
   "cell_type": "code",
   "execution_count": null,
   "id": "371df8b0",
   "metadata": {},
   "outputs": [],
   "source": [
    "type(num)"
   ]
  },
  {
   "cell_type": "code",
   "execution_count": null,
   "id": "11d6402d",
   "metadata": {},
   "outputs": [],
   "source": [
    "type(\"this is a string\")"
   ]
  },
  {
   "cell_type": "code",
   "execution_count": null,
   "id": "78119fc9",
   "metadata": {},
   "outputs": [],
   "source": [
    "type(1 / 3)"
   ]
  },
  {
   "attachments": {},
   "cell_type": "markdown",
   "id": "a41df52a",
   "metadata": {
    "id": "a41df52a"
   },
   "source": [
    "### Lists\n",
    "\n",
    "A list is a collection of different data that is stored in a single variable."
   ]
  },
  {
   "cell_type": "code",
   "execution_count": null,
   "id": "507961bb",
   "metadata": {
    "colab": {
     "base_uri": "https://localhost:8080/"
    },
    "id": "507961bb",
    "outputId": "c1881638-aa2b-4a75-fbc0-0b46830ee90c"
   },
   "outputs": [],
   "source": [
    "my_list = [\"text-1\", \"text-2\", \"text-3\"]\n",
    "print(my_list)"
   ]
  },
  {
   "attachments": {},
   "cell_type": "markdown",
   "id": "a79b3893",
   "metadata": {},
   "source": [
    "To access an item from a list we need an index. An index is a number that corresponds with the item's place in the list. Because Python has zero-based indexing, the first element in the list (which is `\"text-1\"` in this case) has an index of 0. The second item has an index of 1, and the third item has an index of 2. \n",
    "\n",
    "To access an item in a list you use the name of the list followed by the index of the item you want to access enclosed in square brackets."
   ]
  },
  {
   "cell_type": "code",
   "execution_count": null,
   "id": "125eddcf",
   "metadata": {
    "colab": {
     "base_uri": "https://localhost:8080/"
    },
    "id": "125eddcf",
    "outputId": "2fe9490d-dc2c-4bd1-da9f-2946ff3468d6"
   },
   "outputs": [],
   "source": [
    "print(my_list[0])"
   ]
  },
  {
   "attachments": {},
   "cell_type": "markdown",
   "id": "e60577ad",
   "metadata": {},
   "source": [
    "You can also create empty lists. Sometimes you know that a particular problem will need a list but that the list's content won't be ready until later on in your program."
   ]
  },
  {
   "cell_type": "code",
   "execution_count": null,
   "id": "e390297d",
   "metadata": {},
   "outputs": [],
   "source": [
    "# live coding goes here - don't copy this"
   ]
  },
  {
   "attachments": {},
   "cell_type": "markdown",
   "id": "9d5daf92",
   "metadata": {},
   "source": [
    "<details>\n",
    "<summary>Code example: Creating empty lists</summary>\n",
    "\n",
    "```python\n",
    "# You could do it like this\n",
    "empty_list = []\n",
    "# Or like this...\n",
    "also_an_empty_list = list()\n",
    "\n",
    "# Both will work\n",
    "print(empty_list)\n",
    "print(also_an_empty_list)\n",
    "\n",
    "# In case you want to double-check that empty lists are still lists\n",
    "print(type(empty_list))\n",
    "print(type(also_an_empty_list))\n",
    "```\n",
    "\n",
    "</details>"
   ]
  },
  {
   "attachments": {},
   "cell_type": "markdown",
   "id": "2fa50891",
   "metadata": {},
   "source": [
    "So let's say I want to do some sort of operation on every item in my list. How could I do this...?"
   ]
  },
  {
   "cell_type": "code",
   "execution_count": null,
   "id": "d5ed9b03",
   "metadata": {},
   "outputs": [],
   "source": [
    "# live coding goes here - don't copy this as this is a bad example!"
   ]
  },
  {
   "attachments": {},
   "cell_type": "markdown",
   "id": "cabadccb",
   "metadata": {},
   "source": [
    "### For Loops\n",
    "\n",
    "For-loops allow you to repeat a block of code multiple times. They are especially helpful for doing things with lists."
   ]
  },
  {
   "cell_type": "code",
   "execution_count": null,
   "id": "ec582aa6",
   "metadata": {},
   "outputs": [],
   "source": [
    "cool_list = [1, 2, 3, 4, 5]\n",
    "for num in cool_list:\n",
    "    print(num)"
   ]
  },
  {
   "attachments": {},
   "cell_type": "markdown",
   "id": "e2f271be",
   "metadata": {},
   "source": [
    "By the way, `num` is a kind of \"nickname\" that I am using for the items in my list. It can actually be anything provided it's a valid variable name. This will work too."
   ]
  },
  {
   "cell_type": "code",
   "execution_count": null,
   "id": "3288c89a",
   "metadata": {},
   "outputs": [],
   "source": [
    "for elephant_and_castle in cool_list:\n",
    "    print(elephant_and_castle)"
   ]
  },
  {
   "attachments": {},
   "cell_type": "markdown",
   "id": "d20eb1f6",
   "metadata": {},
   "source": [
    "Loops allow us to peform the same operation on every item in a list. They are like the programming equivalent of a conveyor belt.\n",
    "\n",
    "![](cake-factory.jpg)\n",
    "\n",
    "Indentation controls what is inside and outside our loop. You should think of it as being part of the code as well."
   ]
  },
  {
   "cell_type": "code",
   "execution_count": null,
   "id": "f8ab5ab0",
   "metadata": {},
   "outputs": [],
   "source": [
    "# live coding goes here - don't copy this"
   ]
  },
  {
   "attachments": {},
   "cell_type": "markdown",
   "id": "a651d1f1",
   "metadata": {},
   "source": [
    "<details>\n",
    "<summary>Code example: Loops and indentation</summary>\n",
    "\n",
    "```python\n",
    "for i in range(3):\n",
    "    print(\"Hello from inside the loop\")\n",
    "print(\"Hello from outside the loop\")\n",
    "```\n",
    "\n",
    "</details>\n",
    "\n",
    "Having indentation out of nowhere confuses Python."
   ]
  },
  {
   "cell_type": "code",
   "execution_count": null,
   "id": "20477c33",
   "metadata": {},
   "outputs": [],
   "source": [
    "# live coding goes here    \n",
    "    print(\"Hello\")"
   ]
  },
  {
   "attachments": {},
   "cell_type": "markdown",
   "id": "2e9550a1",
   "metadata": {},
   "source": [
    "By the same token, a lack of indentation code where it is expecting some also confuses Python."
   ]
  },
  {
   "cell_type": "code",
   "execution_count": null,
   "id": "50b65cd9",
   "metadata": {},
   "outputs": [],
   "source": [
    "# live coding goes here\n",
    "for _ in range(5):\n",
    "print(\"Hello\")"
   ]
  },
  {
   "attachments": {},
   "cell_type": "markdown",
   "id": "0fb25afe",
   "metadata": {
    "id": "0fb25afe"
   },
   "source": [
    "### Combining Things with `+`\n",
    "\n",
    "The `+` operator doesn't just allow us to add numbers. It can also be used to combine some of the different data types in Python. Below you can see that it can be used to combine lists."
   ]
  },
  {
   "cell_type": "code",
   "execution_count": null,
   "id": "b1fcd4e6",
   "metadata": {
    "colab": {
     "base_uri": "https://localhost:8080/"
    },
    "id": "b1fcd4e6",
    "outputId": "7412d674-9ff0-4190-b6ac-82f2ad1d60ae"
   },
   "outputs": [],
   "source": [
    "first_list = [\"aaa\", \"bbb\", \"ccc\"]\n",
    "second_list = [1, 2, 3]\n",
    "\n",
    "combined_list = first_list + second_list\n",
    "print(combined_list)"
   ]
  },
  {
   "attachments": {},
   "cell_type": "markdown",
   "id": "a3830572",
   "metadata": {
    "id": "a3830572"
   },
   "source": [
    "**Exercise**: What will I get from the code below?"
   ]
  },
  {
   "cell_type": "code",
   "execution_count": null,
   "id": "8dedf476",
   "metadata": {
    "colab": {
     "base_uri": "https://localhost:8080/"
    },
    "id": "8dedf476",
    "outputId": "2b3748a8-1581-45d0-880b-25c4732abf6a"
   },
   "outputs": [],
   "source": [
    "print(second_list + first_list)"
   ]
  },
  {
   "attachments": {},
   "cell_type": "markdown",
   "id": "22d466a3",
   "metadata": {},
   "source": [
    "The `+` operator can also be used with strings."
   ]
  },
  {
   "cell_type": "code",
   "execution_count": null,
   "id": "eadd7454",
   "metadata": {},
   "outputs": [],
   "source": [
    "hello = \"hello\"\n",
    "world = \"world\"\n",
    "hello_world = hello + world\n",
    "print(hello_world)"
   ]
  },
  {
   "attachments": {},
   "cell_type": "markdown",
   "id": "c4e6697e",
   "metadata": {
    "id": "c4e6697e"
   },
   "source": [
    "**Exercise:** The code below will take a bit of text called `first_text` and combine it with another text called `second_text`. Afterwards it will then `print()` the combined text. However, the lines in the code are out of order. What would be the right order for the code?\n",
    "\n",
    "You probably want to use Ctrl/Command+X and Ctrl/Command+C. If you hit copy cell you'll be copying the _entire_ block with all the code. This is now what you want. Another example of why Notebooks are a bit uh-oh at times...\n",
    "\n",
    "<details>\n",
    "<summary>Stuck? Click here for a hint.</summary>\n",
    "\n",
    "Remember that in programming, the lines of code are executed in a sequential manner from **top to bottom**. This means that you cannot perform any operations or manipulations with a variable <em>before</em> it has been created or defined in the code.\n",
    "\n",
    "If you encounter an error stating that a specific variable is not defined, it indicates that the computer has been instructed to perform an operation or access a value that, from its perspective, does not exist at that point in the code.\n",
    "\n",
    "Remember that `NameError` means that a variable is undefined and does not exist (yet).\n",
    "\n",
    "</details>"
   ]
  },
  {
   "cell_type": "code",
   "execution_count": null,
   "id": "f8a5c472",
   "metadata": {
    "id": "f8a5c472"
   },
   "outputs": [],
   "source": [
    "# live coding goes here\n",
    "combined_text = first_part + second_part\n",
    "first_part = \"Hello, my name is \"\n",
    "print(combined_text)\n",
    "second_part = \"name-goes-here.\""
   ]
  },
  {
   "attachments": {},
   "cell_type": "markdown",
   "id": "b52b8875",
   "metadata": {
    "id": "b52b8875"
   },
   "source": [
    "### Extra: Comprehensions\n",
    "\n",
    "Comprehensions are the \"Pythonic\" way of doing things with lists. You don't have to do it this way but you may find it interesting..."
   ]
  },
  {
   "cell_type": "code",
   "execution_count": null,
   "id": "d780219e",
   "metadata": {
    "colab": {
     "base_uri": "https://localhost:8080/"
    },
    "id": "d780219e",
    "outputId": "a4f5ef9e-5dac-481d-bd25-fd6508484b33"
   },
   "outputs": [],
   "source": [
    "my_list = [i for i in range(5)]\n",
    "print(my_list)"
   ]
  },
  {
   "attachments": {},
   "cell_type": "markdown",
   "id": "f9043411",
   "metadata": {},
   "source": [
    "<details>\n",
    "<summary>Click here if you want to know what <code>range()</code> is doing.</summary>\n",
    "\n",
    "`range()` is a built-in command that creates a sequence of numbers. By default it starts from 0, increases by 1, and stops before a specified number. In the example above, the output from `range()` is being placed in a list.\n",
    "</details>\n",
    "\n",
    "Now let's try doing the same thing witout a comprehension..."
   ]
  },
  {
   "cell_type": "code",
   "execution_count": null,
   "id": "056f57db",
   "metadata": {},
   "outputs": [],
   "source": [
    "# live coding goes here - don't copy this"
   ]
  },
  {
   "attachments": {},
   "cell_type": "markdown",
   "id": "7e2fec60",
   "metadata": {},
   "source": [
    "<details>\n",
    "<summary>Code example: Creating a list of numbers without a comprehension.</summary>\n",
    "\n",
    "```python\n",
    "# Create an empty list\n",
    "my_list = []\n",
    "\n",
    "# Have a loop that goes from 0 to 4\n",
    "for i in range(5):\n",
    "    # Add a number at the end of the list during each stage of the loop\n",
    "    my_list.append(5)\n",
    "# Print the list\n",
    "print(my_list)\n",
    "```\n",
    "\n",
    "This will give you the same result as the cell above. But comprehensions allow you to create a list and populate it in a single line.\n",
    "\n",
    "</details>"
   ]
  },
  {
   "attachments": {},
   "cell_type": "markdown",
   "id": "7f5ce584",
   "metadata": {
    "id": "7f5ce584"
   },
   "source": [
    "### Using Libraries\n",
    "\n",
    "+ Code written by other developers\n",
    "+ Good chance someone has tried to solve the same problem as you\n",
    "+ Don't have to reinvent the wheel\n",
    "+ Tested and optimised solutions for common problems\n",
    "\n",
    "I found this `emoji` library after a quick search on Google. You can find out more about it [here](https://carpedm20.github.io/emoji/docs/).\n",
    "\n",
    "In Python Notebooks you install a library with the command `%pip install a-helpful-library` but in the terminal/console it's just `pip install a-helpful-library`.\n",
    "\n",
    "Afterwards we import it using the `import` command. This is just `import a-helpful-library`. Simply installing a library doesn't mean you can use it. You might install 20 libraries but work on a project that only needs three of them - this is why a library needs to be _imported_ before it can be used."
   ]
  },
  {
   "cell_type": "code",
   "execution_count": null,
   "id": "24841e79",
   "metadata": {
    "colab": {
     "base_uri": "https://localhost:8080/"
    },
    "id": "24841e79",
    "outputId": "dbe984e9-ac95-46dc-bf1e-75a272c2fde1"
   },
   "outputs": [],
   "source": [
    "%pip install emoji\n",
    "import emoji"
   ]
  },
  {
   "attachments": {},
   "cell_type": "markdown",
   "id": "51456055",
   "metadata": {},
   "source": [
    "Now we can use the `emojize` command that is given to us by the `emoji` library."
   ]
  },
  {
   "cell_type": "code",
   "execution_count": null,
   "id": "c7c5f035",
   "metadata": {
    "colab": {
     "base_uri": "https://localhost:8080/"
    },
    "id": "c7c5f035",
    "outputId": "aa49a24d-033b-4158-e8d3-eeeb7a729e18"
   },
   "outputs": [],
   "source": [
    "emojified_text = emoji.emojize(\"There is a :snake: in my boot!\")\n",
    "print(emojified_text)"
   ]
  },
  {
   "attachments": {},
   "cell_type": "markdown",
   "id": "fc8bdc67",
   "metadata": {},
   "source": [
    "So now we can use this and some loops to get Daft Punk lyrics..."
   ]
  },
  {
   "cell_type": "code",
   "execution_count": null,
   "id": "baba6b2e",
   "metadata": {},
   "outputs": [],
   "source": [
    "around_the_world_count = 144\n",
    "for _ in range(around_the_world_count):\n",
    "    print(emoji.emojize(\"Around the :globe_showing_Americas:\"))"
   ]
  },
  {
   "attachments": {},
   "cell_type": "markdown",
   "id": "16cd7f42",
   "metadata": {
    "id": "16cd7f42"
   },
   "source": [
    "## Making an Image Scraper\n",
    "\n",
    "For this portion of the workshop we'll use Python to download some images from the web. We will then use some libraries to add \"glitchy\" effects to them.\n",
    "\n",
    "This is the \"fun\" part of the workshop where I show you an example of how you might use Python in an actual project. You don't need to worry about understanding every little thing.\n",
    "\n",
    "To start with, we're going to need some libraries to help us download images."
   ]
  },
  {
   "cell_type": "code",
   "execution_count": null,
   "id": "526cbd66",
   "metadata": {
    "colab": {
     "base_uri": "https://localhost:8080/"
    },
    "id": "526cbd66",
    "outputId": "23899c5e-05dd-4bbc-8144-338bbca5ea42"
   },
   "outputs": [],
   "source": [
    "from bs4 import BeautifulSoup\n",
    "import requests"
   ]
  },
  {
   "attachments": {},
   "cell_type": "markdown",
   "id": "4de0498c",
   "metadata": {
    "id": "4de0498c"
   },
   "source": [
    "### Getting Stuff from the Web\n",
    "\n",
    "[Shopify](https://www.shopify.com/stock-photos) is a website that has a large collection of free stock photos. The code below is a **function** that is capable of downloading images from Shopify.\n",
    "\n",
    "Functions in Python are blocks of reusable code that are used to perform specific tasks. They are defined using the `def` keyword and allow you to break down complex tasks into smaller parts. Functions can take input values, called arguments, and return output values. Function help with making your code more modular, more resuable, and more maintainable."
   ]
  },
  {
   "cell_type": "code",
   "execution_count": null,
   "id": "58198083",
   "metadata": {
    "id": "58198083"
   },
   "outputs": [],
   "source": [
    "def photo_downloader(image_theme):\n",
    "    \"\"\"Downloads images from Shopify based on an image theme.\n",
    "\n",
    "    Args:\n",
    "        image_theme: The search term that will be used for Shopify.\n",
    "\n",
    "    Returns:\n",
    "        A list of 30 or less images that appeared in the search results.\n",
    "    \"\"\"\n",
    "    # Get the website\n",
    "    r = requests.get(\n",
    "        f\"https://www.shopify.com/stock-photos/photos/search?q={image_theme}\",\n",
    "        timeout=20,\n",
    "    )\n",
    "\n",
    "    # Boot up the BeautifulSoup HTML parser\n",
    "    soup = BeautifulSoup(r.text, \"html.parser\")\n",
    "\n",
    "    # this is annoying...\n",
    "    print(\"Just a moment\" in r.text)\n",
    "\n",
    "    # Find the images in the website\n",
    "    urls = soup.findAll(\"img\", src=True)\n",
    "\n",
    "    # Create an empty list\n",
    "    images = []\n",
    "\n",
    "    # Loop through the image URLs\n",
    "    for url in urls:\n",
    "        try:\n",
    "            # Download the image and add it to the list\n",
    "            img_url = requests.get(url.attrs[\"src\"])\n",
    "            images.append(img_url.content)\n",
    "        except:\n",
    "            # Give up if the image failed to download and try again with the next one\n",
    "            pass\n",
    "\n",
    "        # Quit once we have at least 30 images in our list\n",
    "        if len(images) == 30:\n",
    "            break\n",
    "\n",
    "    # Return the images\n",
    "    print(f\"Downloaded {len(images)} images.\")\n",
    "    return images"
   ]
  },
  {
   "attachments": {},
   "cell_type": "markdown",
   "id": "a31dbdff",
   "metadata": {
    "id": "a31dbdff"
   },
   "source": [
    "You might notice that beneath the function _header_ I have placed a special type of comment called a **docstring**. Docstrings are longer comments that describe what a function does. They do not affect how a function behaves, but they make your code much easier to understand.\n",
    "\n",
    "Now we can run or _call_ the function above by providing it with an argument for the `image_theme`. For this example I'm using the word \"robots\" but you're free to change it to whatever interests you. I am taking the list that is _returned_ by the function and saving it to a variable called `image_bytes`."
   ]
  },
  {
   "cell_type": "code",
   "execution_count": null,
   "id": "3f90a84a",
   "metadata": {
    "id": "3f90a84a"
   },
   "outputs": [],
   "source": [
    "theme = \"cats\"\n",
    "image_bytes = photo_downloader(theme)"
   ]
  },
  {
   "attachments": {},
   "cell_type": "markdown",
   "id": "523b28c0",
   "metadata": {},
   "source": [
    "The bytes format can't be displayed easily and the other libraries that can do things with images don't know how to read it. To work around this, we need a function that convert from bytes to a different format.\n",
    "\n",
    "Pillow or PIL is a a Python library that allows us to work with images. It provides a certain format for images called (drumroll) `Image`. To make a function that can convert data from bytes to `Image` we'll need some extra imports."
   ]
  },
  {
   "cell_type": "code",
   "execution_count": null,
   "id": "44f67053",
   "metadata": {},
   "outputs": [],
   "source": [
    "from PIL import Image\n",
    "from io import BytesIO"
   ]
  },
  {
   "attachments": {},
   "cell_type": "markdown",
   "id": "13ab65c4",
   "metadata": {
    "id": "13ab65c4"
   },
   "source": [
    "### Functions\n",
    "\n",
    "Here is another function that we'll use for converting the Shopify data from bytes to the PIL `Image` format. Like before, I've added a docstring to show what the function is for."
   ]
  },
  {
   "cell_type": "code",
   "execution_count": null,
   "id": "b7eee0d0",
   "metadata": {},
   "outputs": [],
   "source": [
    "def bytes_to_image(image_bytes):\n",
    "    \"\"\"Converts bytes to a PIL Image.\n",
    "\n",
    "    Args:\n",
    "        image_bytes: The image in bytes form.\n",
    "\n",
    "    Returns:\n",
    "        The image in PIL Image form.\n",
    "    \"\"\"\n",
    "    return Image.open(BytesIO(image_bytes))"
   ]
  },
  {
   "attachments": {},
   "cell_type": "markdown",
   "id": "ed4f254d",
   "metadata": {},
   "source": [
    "Now I can convert all the photos in the list using the new function and a comprehension. The PIL `Image` can be displayed in a Python Notebook by giving its name or its location in a list. That's something we can't do with `bytes`."
   ]
  },
  {
   "cell_type": "code",
   "execution_count": null,
   "id": "cf6b2690",
   "metadata": {},
   "outputs": [],
   "source": [
    "downloaded_photos = [bytes_to_image(bytes) for bytes in image_bytes]\n",
    "downloaded_photos[0]"
   ]
  },
  {
   "attachments": {},
   "cell_type": "markdown",
   "id": "c98acb9f",
   "metadata": {
    "id": "c98acb9f"
   },
   "source": [
    "### Saving the Images\n",
    "\n",
    "The `os` library can be used to create folders on your computer. As it is part of the Python Standard Library, it doesn't need to be installed. It's already included with a Python installation."
   ]
  },
  {
   "cell_type": "code",
   "execution_count": null,
   "id": "d394ffdb",
   "metadata": {},
   "outputs": [],
   "source": [
    "import os\n",
    "\n",
    "# Choose a path for our workshop images\n",
    "output_folder_name = \"./drive/MyDrive/python-workshop\"\n",
    "# Ask the os library to create this folder\n",
    "os.makedirs(output_folder_name, exist_ok=True)\n",
    "\n",
    "# Pick a name for the folder in which the scraper images will be saved\n",
    "picture_folder_name = \"scraper-pictures\"\n",
    "# Create a combined path name\n",
    "scraper_pictures_path = os.path.join(output_folder_name, picture_folder_name)\n",
    "# Create a new \"scraper-pictures\" folder in Google Drive\n",
    "os.makedirs(scraper_pictures_path, exist_ok=True)"
   ]
  },
  {
   "attachments": {},
   "cell_type": "markdown",
   "id": "f7802f34",
   "metadata": {
    "id": "f7802f34"
   },
   "source": [
    "The `Image` library also has a built-in `.save()` command. This can be used to save the photos that were downloaded.\n",
    "\n",
    "The function below will take the `Image` object, the `theme` that we chose earlier, the count (a number that we will give to each of the photos), and the folder name. Using this, it will create a filename in the form of `folder-name/theme-XX.jpg` where `XX` is the count in two digit form.\n",
    "\n",
    "The helpful thing about `os.path` is that it guarantees the path will work no matter what operating system you're using."
   ]
  },
  {
   "cell_type": "code",
   "execution_count": null,
   "id": "48fd9927",
   "metadata": {
    "id": "48fd9927"
   },
   "outputs": [],
   "source": [
    "def photo_saver(image, theme, count, folder_name):\n",
    "    \"\"\"Saves a PIL Image to the disk.\n",
    "\n",
    "    Args:\n",
    "        image: The PIL Image to save.\n",
    "        theme: The image theme.\n",
    "        count: The image count.\n",
    "        folder_name: The name of the folder that the image will be saved to.\n",
    "    \"\"\"\n",
    "    # Create a filename for the image - using os.path helps ensure that things go well no matter what type of system you're using\n",
    "    img_filename = os.path.join(folder_name, f\"{theme}-{count:02d}.jpg\")\n",
    "\n",
    "    # Save the image using the filename we have created\n",
    "    image.save(img_filename)\n",
    "\n",
    "    # Print a message for assurance that something happened\n",
    "    print(f\"Saved {img_filename}\")"
   ]
  },
  {
   "attachments": {},
   "cell_type": "markdown",
   "id": "67759f0d",
   "metadata": {},
   "source": [
    "Now I can use a loop to go through the images one by one and use the `photo_saver()` function on them. \n",
    "\n",
    "<details>\n",
    "<summary>Click here if you want to know what <code>enumerate</code> is doing?</summary>\n",
    "\n",
    "In Python `enumerate` is a special way of looping that lets me go through every item in a list, but also gives me a number corresponding with the item's location in the list.\n",
    "\n",
    "Example:\n",
    "```python\n",
    "list_of_animals = [\"chicken\", \"frog\", \"dolphin\"]\n",
    "for count, animal in enumerate(list_of_animals):\n",
    "    print(count, animal)\n",
    "```\n",
    "That will give the following output:\n",
    "```\n",
    "0 chicken\n",
    "1 frog\n",
    "2 dolphin\n",
    "```\n",
    "\n",
    "I am using enumerate in this scenario because I want the image data as well as a number to be passed to my saving function so that it can create image filenames in the format `theme-XX.jpg` with `XX` being the number of the image.\n",
    "\n",
    "</details>"
   ]
  },
  {
   "cell_type": "code",
   "execution_count": null,
   "id": "701b91f1",
   "metadata": {
    "id": "701b91f1"
   },
   "outputs": [],
   "source": [
    "# Go through the downloaded images one by one and save them into the folder that was just created\n",
    "for count, img in enumerate(downloaded_photos):\n",
    "    photo_saver(img, theme, count, scraper_pictures_path)"
   ]
  },
  {
   "attachments": {},
   "cell_type": "markdown",
   "id": "7553400c",
   "metadata": {
    "id": "7553400c"
   },
   "source": [
    "# Extra: Applying a Glitch Effect\n",
    "\n",
    "![](glitched-image-example.jpg)"
   ]
  },
  {
   "attachments": {},
   "cell_type": "markdown",
   "id": "169aea93",
   "metadata": {},
   "source": [
    "We can use a library called `glitch-this` to add a glitchy effect to the images. But first let's shrink the images slightly in order to give the glitching functions less work to do."
   ]
  },
  {
   "cell_type": "code",
   "execution_count": null,
   "id": "a538fe41",
   "metadata": {},
   "outputs": [],
   "source": [
    "MAX_WIDTH = 800\n",
    "\n",
    "\n",
    "def image_resize(image):\n",
    "    \"\"\"Resizes an image so that its width does not go beyond 800 pixels.\n",
    "\n",
    "    Args:\n",
    "        image: The image to resize.\n",
    "\n",
    "    Returns:\n",
    "        The resized image.\n",
    "    \"\"\"\n",
    "    # Do nothing if the image is already small\n",
    "    if image.size[0] <= MAX_WIDTH:\n",
    "        return image\n",
    "\n",
    "    # Otherwise resize the image\n",
    "    factor = MAX_WIDTH / image.size[0]\n",
    "    return image.resize((MAX_WIDTH, int(image.size[1] * factor)))\n",
    "\n",
    "\n",
    "# Send all of our images to this function with a comprehension\n",
    "downloaded_photos = [image_resize(photo) for photo in downloaded_photos]"
   ]
  },
  {
   "attachments": {},
   "cell_type": "markdown",
   "id": "67527422",
   "metadata": {
    "id": "67527422"
   },
   "source": [
    "Python comes with a library called `random` that can choose a random item from a list. Because it is included with Python there is no need to install it with `pip`. Now let's pick a random photo from our list of downloaded photos and look at it."
   ]
  },
  {
   "cell_type": "code",
   "execution_count": null,
   "id": "89ef95a1",
   "metadata": {
    "id": "89ef95a1"
   },
   "outputs": [],
   "source": [
    "import random\n",
    "\n",
    "random_photo = random.choice(downloaded_photos)\n",
    "random_photo"
   ]
  },
  {
   "cell_type": "markdown",
   "id": "6e26c3aa",
   "metadata": {},
   "source": [
    "A library called `glitch-this` can be used for adding glitchy effects to images. Here is a [link](https://github.com/TotallyNotChase/glitch-this/wiki/Documentation:-The-glitch-this-library) to its documentation.\n",
    "\n",
    "Like before it's installed using the command `%pip install glitch-this`."
   ]
  },
  {
   "cell_type": "code",
   "execution_count": null,
   "id": "8415b44b",
   "metadata": {
    "id": "8415b44b"
   },
   "outputs": [],
   "source": [
    "%pip install glitch-this\n",
    "from glitch_this import ImageGlitcher"
   ]
  },
  {
   "attachments": {},
   "cell_type": "markdown",
   "id": "8ca8f3df",
   "metadata": {
    "id": "8ca8f3df"
   },
   "source": [
    "Now with the library installed and imported, we can apply the glitch effect to the random photo and see what it looks like afterwards.\n",
    "\n",
    "The documentation goes into more detail about what the different parameters for the `glitch_image` command are doing. (They can be tought of as \"settings\" that change the type of glithiness we get.)\n",
    "\n",
    "The inputs that we must give to this command are the `src_img` that we want to glitch, a `glitch_amount` float value, and something called `color_offset`. In the documentation it says that the `glitch_amount` may be any number from 0.1 to 10.0. Feel free to mess around with this value if you like.\n",
    "\n",
    "The developers have said setting `color_offset` to `True` makes things look best, so I'll just take their word for it..."
   ]
  },
  {
   "cell_type": "code",
   "execution_count": null,
   "id": "bbfdf6fe",
   "metadata": {
    "id": "bbfdf6fe"
   },
   "outputs": [],
   "source": [
    "glitcher = ImageGlitcher()\n",
    "\n",
    "glitched_image = glitcher.glitch_image(\n",
    "    src_img=random_photo, glitch_amount=3.5, color_offset=True\n",
    ")\n",
    "glitched_image"
   ]
  },
  {
   "attachments": {},
   "cell_type": "markdown",
   "id": "3cb73e6d",
   "metadata": {
    "id": "3cb73e6d"
   },
   "source": [
    "Now to make things more interesting we can warp the image even further by using another glitching library called `pixelsort`."
   ]
  },
  {
   "cell_type": "code",
   "execution_count": null,
   "id": "c165a239",
   "metadata": {
    "id": "c165a239"
   },
   "outputs": [],
   "source": [
    "%pip install pixelsort\n",
    "from pixelsort import pixelsort"
   ]
  },
  {
   "attachments": {},
   "cell_type": "markdown",
   "id": "ac387d6a",
   "metadata": {},
   "source": [
    "The [pixelsort documentation](https://github.com/satyarth/pixelsort) says a bit about what the different inputs do. I was pretty lost while looking it up, so I just messed around until I found some that I liked the most. Try changing these values if you are unsatisfied with the result and see if that makes things better.\n",
    "\n",
    "<!-- Add something here about why it's good to eff around until something cool happens. -->"
   ]
  },
  {
   "cell_type": "code",
   "execution_count": null,
   "id": "77859621",
   "metadata": {
    "id": "77859621"
   },
   "outputs": [],
   "source": [
    "sort_image = pixelsort(\n",
    "    glitched_image, sorting_function=\"intensity\", interval_function=\"edges\"\n",
    ")\n",
    "\n",
    "sort_image = sort_image.convert(\"RGB\")\n",
    "sort_image.save(os.path.join(output_folder_name, \"glitched-image.jpg\"))\n",
    "sort_image"
   ]
  },
  {
   "attachments": {},
   "cell_type": "markdown",
   "id": "6b4cbc9f",
   "metadata": {},
   "source": [
    "Now you should see this image and the scraper images in your Google Drive folder."
   ]
  },
  {
   "attachments": {},
   "cell_type": "markdown",
   "id": "546d889c",
   "metadata": {
    "id": "546d889c"
   },
   "source": [
    "## Recap\n",
    "\n",
    "+ Python Fundamentals\n",
    "+ Using Python to download things\n",
    "+ Going from one type of data to another\n",
    "+ Using several libraries together to create more interesting programs\n",
    "+ Python as a tool for adding effects to photos"
   ]
  },
  {
   "attachments": {},
   "cell_type": "markdown",
   "id": "fbc097fd",
   "metadata": {
    "id": "fbc097fd"
   },
   "source": [
    "## Tips for Learning Programming\n",
    "\n",
    "+ You absolutey _don't_ need to learn/memorise everything\n",
    "+ Most people remember a handful of things they use the most and look up the rest\n",
    "+ Making mistakes is normal - [even the pros do it](https://github.com/MrMEEE/bumblebee-Old-and-abbandoned/issues/123)\n",
    "\n",
    "<!-- Maybe add multiple examples here. -->"
   ]
  },
  {
   "attachments": {},
   "cell_type": "markdown",
   "id": "968ca830",
   "metadata": {},
   "source": [
    "## FutureCoder\n",
    "\n",
    "[FutureCoder](https://futurecoder.io) is a helpful and beginner-friendly Python programming course than can be run in your browser."
   ]
  },
  {
   "attachments": {},
   "cell_type": "markdown",
   "id": "8061ff9a",
   "metadata": {},
   "source": [
    "## Feedback\n",
    "\n",
    "P-please fill in my workshop feedback form.  👉👈\n",
    "\n",
    "https://moodle.arts.ac.uk/mod/feedback/view.php?id=1365721"
   ]
  },
  {
   "attachments": {},
   "cell_type": "markdown",
   "id": "4b593215",
   "metadata": {},
   "source": [
    "## Python Notebooks Rant\n",
    "\n",
    "Watch [this](https://www.youtube.com/watch?v=7jiPeIFXb6U&t=0s) in case you're wondering why some people have a problem with Python Notebooks...\n",
    "\n",
    "On the other hand, [this person](https://www.youtube.com/watch?v=9Q6sLbz37gk) wants to stick up for Notebooks. Just making sure you know all the sides of the argument :)"
   ]
  },
  {
   "attachments": {},
   "cell_type": "markdown",
   "id": "5f1162d6",
   "metadata": {
    "id": "5f1162d6"
   },
   "source": [
    "## More Stuff\n",
    "\n",
    "+ GANs with Python\n",
    "+ Introduction to GitHub and Version Control - not specific to any language!\n",
    "+ I am slowly creating some [guides](https://github.com/creativetechnologylab/coding-tutorials) for Python programming and dealing with common issues - check it out!"
   ]
  },
  {
   "attachments": {},
   "cell_type": "markdown",
   "id": "fa45a0a1",
   "metadata": {},
   "source": [
    "## Attendance\n",
    "\n",
    "Please give me your names so I can keep track of attendance!"
   ]
  }
 ],
 "metadata": {
  "colab": {
   "include_colab_link": true,
   "provenance": []
  },
  "kernelspec": {
   "display_name": "",
   "language": "python",
   "name": ""
  },
  "language_info": {
   "codemirror_mode": {
    "name": "ipython",
    "version": 3
   },
   "file_extension": ".py",
   "mimetype": "text/x-python",
   "name": "python",
   "nbconvert_exporter": "python",
   "pygments_lexer": "ipython3",
   "version": "3.10.15"
  }
 },
 "nbformat": 4,
 "nbformat_minor": 5
}
