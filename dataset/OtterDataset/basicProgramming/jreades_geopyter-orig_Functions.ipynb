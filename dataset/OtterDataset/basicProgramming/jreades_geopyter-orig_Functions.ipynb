{
 "cells": [
  {
   "cell_type": "markdown",
   "metadata": {},
   "source": [
    "# Notebook-8: Introduction to Functions\n",
    "\n",
    "- Michele Ferretti (https://github.com/miccferr); Jon Reades (https://github.com/jreades)"
   ]
  },
  {
   "cell_type": "markdown",
   "metadata": {},
   "source": [
    "### Lesson Content \n",
    "\n",
    "- Function Anatomy 101\n",
    "    - Function definiton & call\n",
    "    - Arguments\n",
    "    - Return statement\n",
    "- Function calling!\n",
    "    - Assign a function to a variable\n",
    "    - Function as a parameter to another function\n",
    "\n",
    "\n",
    "Welcome to the eighth Code Camp notebook! In this lesson we'll cover *functions* in Python, a concept that you've already encountered but to which you've not yet been formally introduced. Now we're going to dig into this a little bit more because writing functions is where lazy programmers become good programmers.\n",
    "\n",
    "In other words, as we saw with the concept of *iteration*, programmers are lazy and they tend want to avoid doing boring tasks over and over again. The idea is to avoid \"wasting time re-inventing the wheel\" and programmers have abbreviated this idea to the acronym **D.R.Y.** (Do not Repeat Yourself): if you are doing something more than once or twice, ask yourself if there's a way to encapsulate what you are doing in a function: you write the function _once_, and then _call_ it whenever you need to complete that task.\n",
    "\n",
    "![automate](img/automate_all_the_things.jpeg)\n",
    "\n",
    "Naturally, **D.R.Y.** has its opposite: **W.E.T.** (We Enjoy Typing or Write Everything Twice). Dry is nearly always better than wet.\n",
    "\n",
    "Encapsulating regularly-used bits of code in functions has several advantages:\n",
    "* Your code is more readable: because you only have to write a function once and can then re-use it as many times as you like, your files are shorter.\n",
    "* Your code is easier to maintain: because you only have to write a function once, if you find a mistake in your code, you also only have to fix it in one place.\n",
    "* Your can code more quickly: things that you do a _lot_ can even be stuck in a separate file that you _import_ into your code so that your most-used functions are immediately available.\n",
    "\n",
    "Basically, a function is a way to _do_ something _to_ something in a portable, easy-to-use little bundle of code."
   ]
  },
  {
   "cell_type": "markdown",
   "metadata": {},
   "source": [
    "## Functions 101\n",
    "\n",
    "We've already met and used some functions, especially when we dealt with lists and dictionaries:"
   ]
  },
  {
   "cell_type": "code",
   "execution_count": null,
   "metadata": {
    "collapsed": false
   },
   "outputs": [],
   "source": [
    "myList = [1,\"two\", False, 9.99]\n",
    "print len(myList) # A function\n",
    "print myList.index(\"two\") # A different function!\n",
    "print range(len(myList)) # Results of one function passed to another function!!!"
   ]
  },
  {
   "cell_type": "markdown",
   "metadata": {},
   "source": [
    "That last one bears a closer look! To make it more clear we could rewrite it:\n",
    "```python\n",
    "range(\n",
    "    len(myList)\n",
    ")\n",
    "```\n",
    "Python has to work from the 'inside-out': it needs to figure out what `len(myList)` does before it can figure out what `range(...)` should do, because it has to have the output from `len` before it can pass that as an input to `range`. There's nothing stopping you from writing this as:\n",
    "```python\n",
    "myLength = len(myList)\n",
    "print range(myLength)\n",
    "```\n",
    "but because we like being lazy, rather than saving things to an intermediate variable, why not just replace the second `myLength` with what's on the preceding line?\n",
    "\n",
    "----\n",
    "## Layout of a Function\n",
    "\n",
    "As we briefly mentioned in notebook-5, any 'word' followed by a set of parenthesis is a function. The 'word' is the function's *name*, and anything that you write within the parantheses are the function's inputs (also known as *parameters*). Like so:\n",
    "\n",
    "```python\n",
    "\n",
    "function_name(optional_parameter_1, optional_parameter_2, ...)\n",
    "\n",
    "```\n",
    "\n",
    "So how do we create (*instantiate* in programming terms) a new function? Like everything else in Python, functions have specific rules that you have to follow for the computer to understand what you want it to do. In this case there are two separate steps: the *function definition* and the *function call*.\n",
    "\n",
    "### Function Definition\n",
    "\n",
    "This is a function definition:\n",
    "```python\n",
    "def myFirstFunc():\n",
    "    print \"Nice to meet you!\"\n",
    "```\n",
    "Let's see what happened there:\n",
    "- We indicated that we wanted to _define_ (lazy version: `def`) a new function.\n",
    "- Right after `def` we gave the function a name: `myFirstFunc`.\n",
    "- After the new function's name there's the set of parenthesis and a colon.\n",
    "- The line(s) of the function are indented (just like a loop).\n",
    "\n",
    "The reason for the indenting is the same as for a `while` loop or an `if` condition! It indicates to the Python interpreter that whatever is indented *belongs* to the function. Is like saying: \"Look man, I'm going to define this `myFirstFunc` function, and whatever is indented afterwards is part of the function\". That is what we call the *function's body*, and it's the full package of instructions that we want the computer to run every time we *call* the function. \n",
    "\n",
    "### Function Call\n",
    "\n",
    "Cool, now that we have defined a function how do we use it? \n",
    "\n",
    "The same that we did with `len` and `range`. We *call* it by just typing:\n",
    "```python\n",
    "myFirstFunct()\n",
    "```\n",
    "Try it yourself in the coding area below!"
   ]
  },
  {
   "cell_type": "code",
   "execution_count": null,
   "metadata": {
    "collapsed": false
   },
   "outputs": [],
   "source": [
    "# function definition\n",
    "def myFirstFunc():\n",
    "    print \"Nice to meet you!\"\n",
    "\n",
    "# function call\n",
    "myFirstFunc()"
   ]
  },
  {
   "cell_type": "markdown",
   "metadata": {},
   "source": [
    "#### A challenge for you!\n",
    "\n",
    "Now define and call a new function called \"sunnyDay\" that prints the string \"What a lovely day!\" And then define and call one named \"gloomyDay\" that prints \"I hate rainy days!\""
   ]
  },
  {
   "cell_type": "code",
   "execution_count": null,
   "metadata": {
    "collapsed": false
   },
   "outputs": [],
   "source": [
    "def ??? :\n",
    "    print ???"
   ]
  },
  {
   "cell_type": "code",
   "execution_count": null,
   "metadata": {
    "collapsed": false
   },
   "outputs": [],
   "source": [
    "??? gloomyDay??\n",
    "???print \"I hate rainy days!\""
   ]
  },
  {
   "cell_type": "code",
   "execution_count": null,
   "metadata": {
    "collapsed": true
   },
   "outputs": [],
   "source": [
    "??? gloomyDay"
   ]
  },
  {
   "cell_type": "markdown",
   "metadata": {},
   "source": [
    "Notice that the sequence function definiton *and then* function call is important! Think about it: how would Python know what we are referring to (i.e. what is the `myFirstFunction` it has to call?), if we haven't yet specified it?\n",
    "\n",
    "It's the same as with variables: try to `print` one before you've defined it and Python will complain!"
   ]
  },
  {
   "cell_type": "code",
   "execution_count": null,
   "metadata": {
    "collapsed": false
   },
   "outputs": [],
   "source": [
    "print myVariable\n",
    "myVariable = \"Hallo Hallo!\""
   ]
  },
  {
   "cell_type": "markdown",
   "metadata": {},
   "source": [
    "#### A challenge for you!\n",
    "\n",
    "Once again, read (out loud!) the error message. What is it saying to you? Quite explicit, isn't it? :)"
   ]
  },
  {
   "cell_type": "markdown",
   "metadata": {},
   "source": [
    "## Arguments\n",
    "\n",
    "Those are pretty basic functions, and as you might have noticed they all kind of do the same thing but are no shorter than the thing they replaced (a single print command). You will definetely need them though whenever you are using a function to process some *input* and *return* some *output*. In that case the paramters are inputs that you are *passing* to the function.\n",
    "\n",
    "```python\n",
    "def myFunction( input_parameter ):\n",
    "# do something to the input\n",
    "    return input_parameter\n",
    "```"
   ]
  },
  {
   "cell_type": "code",
   "execution_count": null,
   "metadata": {
    "collapsed": false
   },
   "outputs": [],
   "source": [
    "def printMyName( name ):\n",
    "    print \"Hi! My name is: \"+ name\n",
    "\n",
    "printMyName(\"Gerardus\")"
   ]
  },
  {
   "cell_type": "markdown",
   "metadata": {},
   "source": [
    "#### A challenge for you!\n",
    "\n",
    "We've already defined `printMyName`, so you don't need to do that again. Just ask the function to print _your_ name!"
   ]
  },
  {
   "cell_type": "code",
   "execution_count": null,
   "metadata": {
    "collapsed": true
   },
   "outputs": [],
   "source": [
    "printMyName(???)"
   ]
  },
  {
   "cell_type": "markdown",
   "metadata": {},
   "source": [
    "A *little* more useful, right? If we had to print out name badges for a big conference, rather than typing \"Hi! My name is ...\" hundreds of times, if we had a list of people's names, we could just use a `for` loop to print out each one in turn using this function. The function adds the part that *is the same* for every name badge and all we need to do is pass it the input parameters.\n",
    "\n",
    "In the function `printMyName` we used just one parameter as input, but we are not constrained to that. We can in fact input multiple *comma-separated* parameters; let's _redefine_ the `printMyName` function:"
   ]
  },
  {
   "cell_type": "code",
   "execution_count": null,
   "metadata": {
    "collapsed": false
   },
   "outputs": [],
   "source": [
    "def printMyName(name, surname):\n",
    "    print \"Hi! My name is \"+ name + \" \" + surname\n",
    "\n",
    "printMyName(\"Gerardus\", \"Merkatoor\")\n",
    "\n",
    "britishProgrammers = [\n",
    "    [\"Babbage\", \"Charles\"],\n",
    "    [\"Lovelace\", \"Ada\"], \n",
    "    [\"Turing\", \"Alan\"],\n",
    "]\n",
    "\n",
    "for p in britishProgrammers:\n",
    "    printMyName(p[1], p[???])"
   ]
  },
  {
   "cell_type": "markdown",
   "metadata": {},
   "source": [
    "Neat right, we've simplified things to that we can focus only on what's important: we have our 'data structure' (the list-of-lists) and we have our printing function (`printMyName`). And now we just use a `for` loop to do the hard work. If we had 1,000 british programmers to print out it would be the *same* level of effort.\n",
    "\n",
    "See what we mean about it being like Lego? We've combined a new concept with a concept covered in the last notebook to simplify the process of printing out nametags."
   ]
  },
  {
   "cell_type": "markdown",
   "metadata": {},
   "source": [
    "#### A challenge for you!\n",
    "\n",
    "Define and use a function that takes as input parameters a `<name>` (String) and `<age>` (Integer) and then prints out the phrase: `<name> + \"is\" + <age> +\" years old\"`"
   ]
  },
  {
   "cell_type": "code",
   "execution_count": null,
   "metadata": {
    "collapsed": true
   },
   "outputs": [],
   "source": []
  },
  {
   "cell_type": "markdown",
   "metadata": {},
   "source": [
    "## Scoping\n",
    "\n",
    "Now I'd like you to focus on a particuarly important concept: something called 'scoping'. Notice that the names we are using for the parameters are *de facto* creating new variables that we then use in the *function body* (the indented block of code). In the example below, 'name' and 'surname' are _scoped_ to the body of the funciton. Outside of that block (outside of that scope) they don't exit!\n",
    "\n",
    "Here's the proof:"
   ]
  },
  {
   "cell_type": "code",
   "execution_count": null,
   "metadata": {
    "collapsed": false
   },
   "outputs": [],
   "source": [
    "def whoAmI(name, surname):\n",
    "    print \"Hi! My name is \"+ name + \" \" + surname + \"!\"\n",
    "\n",
    "print name"
   ]
  },
  {
   "cell_type": "markdown",
   "metadata": {},
   "source": [
    "Notice how the ErrorMessage is the same as before when we tried to `print` a variable that wasn't defined yet? It's the same concept: the variables defined as parameters exist only in the indented code block of the function (the [function *scope*](http://python-textbok.readthedocs.io/en/latest/Variables_and_Scope.html) ).\n",
    "\n",
    "But notice too that if you replace `print name` with `whoAmI(\"Ada\", \"Lovelace\")` then the error disappears and you will see the output: \"Hi! My name is Ada Lovelace.\" So to reiterate: parameters to a function exist as variables **only within the function scope**.\n",
    "\n",
    "## Default Parameters\n",
    "\n",
    "Let's say that your namebade printing function is a worldwide hit, and while most conferences take place in English, in some cases they might need to say 'Hello' in a different languages. In this case, we might like to have a parameter with a _default_ value (\"Hi\") but allow the programmer to override that with a _different_ value (e.g. \"Bonjour\").\n",
    "\n",
    "Here's how that works:"
   ]
  },
  {
   "cell_type": "code",
   "execution_count": null,
   "metadata": {
    "collapsed": false
   },
   "outputs": [],
   "source": [
    "def printInternational(name, surname, greeting=\"Hi\"):\n",
    "    print greeting + \"! My name is \"+ name + \" \" + surname\n",
    "\n",
    "printInternational(\"Ada\", \"Lovelace\")\n",
    "printInternational(\"Charles\", \"Babbage\")\n",
    "printInternational(\"Laurent\", \"Ribardière\", \"Bonjour\")\n",
    "printInternational(\"François\", \"Lionet\", \"Bonjour\")\n",
    "printInternational(\"Alan\", \"Turing\")\n",
    "printInternational(\"Harsha\",\"Suryanarayana\", \"Namaste\")"
   ]
  },
  {
   "cell_type": "markdown",
   "metadata": {},
   "source": [
    "So we only have to provide a value for a parameter with a default setting if we want to change it for some reason.\n",
    "\n",
    "## Return statement\n",
    "\n",
    "Up to here we've only had a function that printed out whatever we told it to. Of course, that's pretty limited and there are a lot of cases where we would want the function to do something and then come back to us with an answer! And remember that the problem of variable scoping means that variables declared inside a function aren't visible to the rest of the program.\n",
    "\n",
    "So if you want to access a value calculated inside a function then you have to explicitely return it using the *reserved keyword* `return`:"
   ]
  },
  {
   "cell_type": "code",
   "execution_count": null,
   "metadata": {
    "collapsed": false
   },
   "outputs": [],
   "source": [
    "def sumOf(firstQuantity, secondQuantity):\n",
    "    return firstQuantity + secondQuantity\n",
    "\n",
    "print sumOf(1,2)\n",
    "print sumOf(109845309234.30945098345,223098450985698054902309342.43598723900923489)"
   ]
  },
  {
   "cell_type": "markdown",
   "metadata": {},
   "source": [
    "### Assigning to a Variable\n",
    "\n",
    "The `return` keyword, somewhat obviously, returns whatever you tell it to so that that 'thing' become accessible outside of the function's scope. You can do whatever you want with the returned value, like assign it to a new variable:"
   ]
  },
  {
   "cell_type": "code",
   "execution_count": null,
   "metadata": {
    "collapsed": false
   },
   "outputs": [],
   "source": [
    "returnedValue = sumOf(4, 3)\n",
    "\n",
    "# Notice the casting from int to str!\n",
    "print \"This is the returned value: \"+ str(returnedValue)"
   ]
  },
  {
   "cell_type": "markdown",
   "metadata": {},
   "source": [
    "One important thing to remember is that `return` always marks the end of the list of instructions in a function. So whatever code is written below `return` *and yet still indented in the function scope* won't be executed:\n",
    "\n",
    "```python\n",
    "def genericFunc(parameter):\n",
    "    # do something to parameter\n",
    "    # ...\n",
    "    # do something else..\n",
    "    # ...\n",
    "    return \n",
    "    print \"this line won't be ever executed! how sad!\"\n",
    "    print \"nope. this won't either, sorry.\"\n",
    "```\n",
    "    "
   ]
  },
  {
   "cell_type": "markdown",
   "metadata": {},
   "source": [
    "#### A challenge for you!\n",
    "\n",
    "Guess which will be the highest number to be printed from this function:"
   ]
  },
  {
   "cell_type": "code",
   "execution_count": null,
   "metadata": {
    "collapsed": false
   },
   "outputs": [],
   "source": [
    "def printNumbers():\n",
    "    print 2\n",
    "    print 5\n",
    "    return\n",
    "    print 9999\n",
    "    print 800000\n",
    "\n",
    "printNumbers()"
   ]
  },
  {
   "cell_type": "markdown",
   "metadata": {},
   "source": [
    "Now that you have seen a bit more what is happening in a function, we can combine some concepts that we have seen in previous notebooks to produce interesting bits of code. Take a look at how I've combined the `range` function, and the `for in` loop to print only the odd numbers for a given range."
   ]
  },
  {
   "cell_type": "code",
   "execution_count": null,
   "metadata": {
    "collapsed": false
   },
   "outputs": [],
   "source": [
    "def oddNumbers(inputRange):\n",
    "    \"\"\"\n",
    "    A function that prints only the odd numbers for a given range from 0 to inputRange.\n",
    "      inputRange - an integer representing the maximum of the range\n",
    "    \"\"\"\n",
    "    for i in range(inputRange):\n",
    "        if i%2 != 0:\n",
    "            print i\n",
    "\n",
    "oddNumbers(10)\n",
    "\n",
    "print \"And...\"\n",
    "\n",
    "oddNumbers(15)\n",
    "\n",
    "help(oddNumbers)"
   ]
  },
  {
   "cell_type": "markdown",
   "metadata": {},
   "source": [
    "Let's take a closer look at what's happening above...\n",
    "```python\n",
    "def oddNumbers(inputRange):\n",
    "    \"\"\"\n",
    "    A function that prints only the odd numbers for a given range from 0 to inputRange.\n",
    "      inputRange - an integer representing the maximum of the range\n",
    "    \"\"\"\n",
    "    for i in range(inputRange):\n",
    "        if i%2 != 0:\n",
    "            print i\n",
    "```\n",
    "This defines a new function called `oddNumbers` which takes one parameter – it's not immediately clear what type of variable `inputRange` is, but we can guess it pretty quickly from what happens next.\n",
    "\n",
    "You'll notice that there's are some lines immediately _after_ the function definition (between the triple-quotes) that aren't printed or obviously used, but that look like documentation of some sort. We'll come back to that in a minute.\n",
    "\n",
    "The next line is a simple for loop: `for i in range(inputRange)`. So we are going to be running a loop from 0 to *n* (where *n*=`inputRange`) and assigning the result of that to `i`.\n",
    "\n",
    "The next line is nested inside the for loop: so we take _each_ `i` in turn and perform the modulo calculation on it: if `i%2` is `0` then `i` is divisble by 2. It's even. If it's not equal to `0` then it's not an even number, and in that case we'll print it out.\n",
    "\n",
    "Which is exactly what happens with:\n",
    "```python\n",
    "oddNumbers(10)\n",
    "oddNumbers(15)\n",
    "```\n",
    "\n",
    "The last line is something new:\n",
    "```python\n",
    "help(oddNumbers)\n",
    "```\n",
    "If you look at the output of this, you'll see that it prints out the content we wrote into the triple-quotes in the function definition. So if you want to give your function some documentation that others can access, this is how you do it. In fact, this is how _every_ function in Python should be documented. \n",
    "\n",
    "Try these (and others) in the empty code block below:\n",
    "```python\n",
    "help(len)\n",
    "help(str)\n",
    "myList = [1,2,3]\n",
    "help(myList.append)\n",
    "```"
   ]
  },
  {
   "cell_type": "code",
   "execution_count": null,
   "metadata": {
    "collapsed": false
   },
   "outputs": [],
   "source": [
    "help(len)\n",
    "myList = [1,2,3]\n",
    "help(myList.append)"
   ]
  },
  {
   "cell_type": "markdown",
   "metadata": {},
   "source": [
    "#### Another challenge for you!\n",
    "\n",
    "Now modify the oddNumbers function so that it _also_ prints \"Yuck, an even number!\" for every even number..."
   ]
  },
  {
   "cell_type": "code",
   "execution_count": null,
   "metadata": {
    "collapsed": true
   },
   "outputs": [],
   "source": [
    "def oddNumbers(inputRange):\n",
    "    for i in range(inputRange):\n",
    "        if i%2 != 0:\n",
    "            print i\n",
    "# ---------------------\n",
    "#        you code here \n",
    "# ---------------------\n",
    "# HINT : remember the IF ELSE statment?\n",
    "\n",
    "oddNumbers(8)"
   ]
  },
  {
   "cell_type": "markdown",
   "metadata": {},
   "source": [
    "## Functions as Parameters of Other Functions\n",
    "\n",
    "This leads us to another intersting idea: since moving around functions is so easy, what happens when we use them as inputs to other functions?"
   ]
  },
  {
   "cell_type": "code",
   "execution_count": null,
   "metadata": {
    "collapsed": false
   },
   "outputs": [],
   "source": [
    "def addTwo(param1):\n",
    "    return param1 + 2\n",
    "\n",
    "def multiplyByThree(param1):\n",
    "    print param1 * 3\n",
    "\n",
    "# you can use multiplyByThree\n",
    "# with a regular argument as input     \n",
    "multiplyByThree(4)\n",
    "\n",
    "# but also with a function as input\n",
    "multiplyByThree(addTwo(2))"
   ]
  },
  {
   "cell_type": "markdown",
   "metadata": {},
   "source": [
    "# Code (Applied Geo-example)\n",
    "\n",
    "For the last Geo-Example, let's revisit a couple of old exercises, combining them and making them a bit more sophisticated with the help of our newly acquired concept of functions.\n",
    "\n",
    "This time we are going extend our interactive program that allows a user to choose a given London borough, and will make it return:\n",
    "- the ratio of the borough population to London's total population\n",
    "- a valid GeoJSON Point with the name and ratio encoded in the Point \"properties\" attribute\n",
    "\n",
    "Also this time we are going to use the `raw_input()` function to interactively save the user's input in a variable called `user_input`. Since we are asking for a borough's name, we will use a function, called `getBorough`  to check if an item with a similar name is present in a given list of boroughs. If this is `True` then we'll return this item.\n",
    "\n",
    "Once we got hold of the borough, it'll be time to add the new properties `coordinates` and `ratio`. \n",
    "\n",
    "I've provided a basic scaffolding of the code with comments to explain the steps. What the program is missing thoough is a function to calculate the ratio!\n",
    "\n",
    "Try to define one function called `calcRatio` that:\n",
    "- takes two parameters (numerator and denominator)\n",
    "- casts them to float\n",
    "- returns the ratio:  numerator/denominator * 100\n",
    "\n",
    "And then apply it where due to see if it works!\n",
    "\n",
    "Also, complete all the missing bits(???)\n",
    "\n",
    "Good Luck!"
   ]
  },
  {
   "cell_type": "code",
   "execution_count": null,
   "metadata": {
    "collapsed": false
   },
   "outputs": [],
   "source": [
    "# London's total population\n",
    "london_pop = 7375000\n",
    "\n",
    "# list with some of London's borough. Feel free to add more! \n",
    "london_boroughs = {\n",
    "    \"City of London\": {\n",
    "     \"population\": 8072,\n",
    "     \"coordinates\" : [-0.0933, 51.5151]\n",
    "    },\n",
    "    \"Camden\": {\n",
    "     \"population\": 220338,\n",
    "     \"coordinates\" : [-0.2252,1.5424]\n",
    "    },\n",
    "    \"Hackney\": {\n",
    "     \"population\": 220338,\n",
    "     \"coordinates\" : [-0.0709, 51.5432]\n",
    "    },\n",
    "    \"Lambeth\": {\n",
    "     \"population\": 303086,\n",
    "     \"coordinates\" : [-0.1172,51.5013]\n",
    "    }\n",
    "}\n",
    "\n",
    "# ---------------------------\n",
    "# Functions\n",
    "# ---------------------------\n",
    "\n",
    "# Calculate the proportion of the population\n",
    "# that lives in a borough given the total population. \n",
    "def calcProportion(???,???):\n",
    "    # do your magic here\n",
    "    # then return the proportion!\n",
    "    # Note that one of them can probably\n",
    "    # default to a particular value...\n",
    "\n",
    "def getLocation(borough):\n",
    "    # do your magic here assuming\n",
    "    # that you've been asked to find\n",
    "    # a borough name in the keys of \n",
    "    # the london_boroughs DoD above.\n",
    "    \n",
    "# ---------------------------\n",
    "#  Let's go!\n",
    "# ---------------------------\n",
    "\n",
    "# Print the proportion of the population that\n",
    "# lives in the City of London\n",
    "\n",
    "# Do the same for Hackney\n",
    "\n",
    "# What is the longitude of Lambeth?\n",
    "# You should be able to do this in one line, \n",
    "# but don't stress it if you can't figure out \n",
    "# how... "
   ]
  },
  {
   "cell_type": "markdown",
   "metadata": {
    "collapsed": true
   },
   "source": [
    "**Congratulations on finishing your eight notebook!**"
   ]
  },
  {
   "cell_type": "markdown",
   "metadata": {},
   "source": [
    "\n",
    "### Further references:\n",
    "\n",
    "General list or resources\n",
    "- [Awesome list of resources](https://github.com/vinta/awesome-python)\n",
    "- [Python Docs](https://docs.python.org/2.7/tutorial/introduction.html)\n",
    "- [HitchHiker's guide to Python](http://docs.python-guide.org/en/latest/intro/learning/)\n",
    "- [Python for Informatics](http://www.pythonlearn.com/book_007.pdf)\n",
    "- [Learn Python the Hard Way - Lists](http://learnpythonthehardway.org/book/ex32.html)\n",
    "- [Learn Python the Hard Way - Dictionaries](http://learnpythonthehardway.org/book/ex39.html)\n",
    "- [CodeAcademy](https://www.codecademy.com/courses/python-beginner-en-pwmb1/0/1)\n",
    "\n"
   ]
  }
 ],
 "metadata": {
  "anaconda-cloud": {},
  "kernelspec": {
   "display_name": "Python [Root]",
   "language": "python",
   "name": "Python [Root]"
  },
  "language_info": {
   "codemirror_mode": {
    "name": "ipython",
    "version": 2
   },
   "file_extension": ".py",
   "mimetype": "text/x-python",
   "name": "python",
   "nbconvert_exporter": "python",
   "pygments_lexer": "ipython2",
   "version": "2.7.12"
  }
 },
 "nbformat": 4,
 "nbformat_minor": 0
}
