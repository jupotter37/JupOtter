{
 "cells": [
  {
   "cell_type": "markdown",
   "id": "47519fc9",
   "metadata": {},
   "source": [
    "# Typical Python Program\n",
    "\n",
    "Python Programming is mostly Functional Programming Languages for beginners\n",
    "- A Typical Python program is a collection of functions and statements\n",
    "- Statement = A variable assigned by an expression\n",
    "- Expression = A mathematical expression --> Every operation in Mathematics is an expression\n",
    "- -  Example: 6+7, 8*8, 1.6/6.7\n",
    "- Example: sum_ = input1 + input2\n",
    "- Statement --> Any Operation either you can have a varible assigned to it or not\n",
    "- -  Example: 6+7, sum_ = input1+input2, we will also call functions\n",
    "\n",
    "- Every Python Programs execution will be started from the statement 1\n",
    "- Will function execute?\n",
    "- -  Functions will not be executed but they are digested for the future use\n",
    "- Except Function function definitions and class definition everything else is a statement"
   ]
  },
  {
   "cell_type": "markdown",
   "id": "8fc0748f",
   "metadata": {},
   "source": [
    "# Mathematical Statements\n",
    "- A mathematical expression being assigned to other variable\n",
    "- A mathematical expression is mathemical computation mathematical operators\n",
    "- Mathematical Operators\n",
    "- - Addition (+)\n",
    "- - Subtraction (-)\n",
    "- - Multiplication (*)\n",
    "- - Division (/)"
   ]
  },
  {
   "cell_type": "code",
   "execution_count": 1,
   "id": "2ea1d0be",
   "metadata": {},
   "outputs": [],
   "source": [
    "addition = 8+9"
   ]
  },
  {
   "cell_type": "code",
   "execution_count": 4,
   "id": "98a64f57",
   "metadata": {},
   "outputs": [],
   "source": [
    "# HARD CODING\n",
    "input1 = 8\n",
    "input2 = 9"
   ]
  },
  {
   "cell_type": "code",
   "execution_count": 9,
   "id": "9b6d72bb",
   "metadata": {},
   "outputs": [],
   "source": [
    "x = \"7\""
   ]
  },
  {
   "cell_type": "code",
   "execution_count": 10,
   "id": "f3361bdf",
   "metadata": {},
   "outputs": [
    {
     "data": {
      "text/plain": [
       "str"
      ]
     },
     "execution_count": 10,
     "metadata": {},
     "output_type": "execute_result"
    }
   ],
   "source": [
    "type(x)"
   ]
  },
  {
   "cell_type": "code",
   "execution_count": null,
   "id": "93fbdf65",
   "metadata": {},
   "outputs": [],
   "source": [
    "y = int(x)"
   ]
  },
  {
   "cell_type": "code",
   "execution_count": 3,
   "id": "938fd5e9",
   "metadata": {},
   "outputs": [],
   "source": [
    "addition = input1 + input2"
   ]
  },
  {
   "cell_type": "markdown",
   "id": "e64a555b",
   "metadata": {},
   "source": [
    "# Input From users\n",
    "- In Python we have input() function which will take the input from the user\n",
    "- input() function will take every input as string\n",
    "- If user enters integers or floats then those also will be read as strings\n",
    "- If you need integers or floats you have to explicitly type cast from the strings\n",
    "- input() function can have any user prompt message i.e. any string"
   ]
  },
  {
   "cell_type": "code",
   "execution_count": 1,
   "id": "9852481a",
   "metadata": {},
   "outputs": [
    {
     "name": "stdout",
     "output_type": "stream",
     "text": [
      "10\n",
      "15\n",
      "1015\n"
     ]
    }
   ],
   "source": [
    "input1 = input()\n",
    "input2 = input()\n",
    "addition = input1 + input2\n",
    "print(addition)"
   ]
  },
  {
   "cell_type": "code",
   "execution_count": 2,
   "id": "7dd87f26",
   "metadata": {},
   "outputs": [
    {
     "name": "stdout",
     "output_type": "stream",
     "text": [
      "10\n",
      "15\n",
      "25\n"
     ]
    }
   ],
   "source": [
    "input1 = input()\n",
    "input1 = int(input1)\n",
    "input2 = input()\n",
    "input2 = int(input2)\n",
    "addition = input1 + input2\n",
    "print(addition)"
   ]
  },
  {
   "cell_type": "code",
   "execution_count": 18,
   "id": "843772bb",
   "metadata": {},
   "outputs": [
    {
     "name": "stdout",
     "output_type": "stream",
     "text": [
      "Please enter first input15\n",
      "Please enter second input25\n",
      "Your addition of 15, 25 is 40\n"
     ]
    }
   ],
   "source": [
    "input1 = int(input(\"Please enter first input\"))\n",
    "input2 = int(input(\"Please enter second input\"))\n",
    "addition = input1 + input2\n",
    "#HARD CODE\n",
    "print(f\"Your addition of {input1}, {input2} is {addition}\")"
   ]
  },
  {
   "cell_type": "code",
   "execution_count": 17,
   "id": "70ba6521",
   "metadata": {},
   "outputs": [
    {
     "name": "stdout",
     "output_type": "stream",
     "text": [
      "Please enter first input10\n",
      "Please enter second input15\n",
      "Your addition of 10, 15 is 25\n"
     ]
    }
   ],
   "source": [
    "input1 = input(\"Please enter first input\")\n",
    "input1 = int(input1)\n",
    "input2 = input(\"Please enter second input\")\n",
    "input2 = int(input2)\n",
    "addition = input1 + input2\n",
    "#HARD CODE\n",
    "print(f\"Your addition of {input1}, {input2} is {addition}\")"
   ]
  },
  {
   "cell_type": "code",
   "execution_count": 6,
   "id": "22e2a5fc",
   "metadata": {},
   "outputs": [
    {
     "name": "stdout",
     "output_type": "stream",
     "text": [
      "Hello Pythonians! Welcome to the course\n"
     ]
    }
   ],
   "source": [
    "print(\"Hello Pythonians! Welcome to the course\")"
   ]
  },
  {
   "cell_type": "markdown",
   "id": "bffcb8f8",
   "metadata": {},
   "source": [
    "# Print function\n",
    "- print() prints details\n",
    "- What are the details\n",
    "- print() you can pass any variable which is already defined\n",
    "- print() Can also give messages to the users\n",
    "- print() Can also take both message and a variable\n",
    "- formatting print()\n",
    "- string formatting "
   ]
  },
  {
   "cell_type": "markdown",
   "id": "abc30c05",
   "metadata": {},
   "source": [
    "# String Formatting\n",
    "- Normal string can be defined using '', \"\", ''''''\n",
    "- A formatted string will have a prefix of \"f\" before the start of the string\n",
    "- Example: f\"Hello World\"\n",
    "- Formatted string is more flexible to write any messages/strings\n",
    "- Formatted string can have variables in it\n",
    "- Formmated string will take current value of the variable"
   ]
  },
  {
   "cell_type": "code",
   "execution_count": 7,
   "id": "72374e39",
   "metadata": {},
   "outputs": [
    {
     "name": "stdout",
     "output_type": "stream",
     "text": [
      "Your result is:  30 10 20\n"
     ]
    }
   ],
   "source": [
    "#print(\"string to be written\",variable1, varibale2, variable3)\n",
    "print(\"Your result is: \",addition, input1, input2)"
   ]
  },
  {
   "cell_type": "code",
   "execution_count": 8,
   "id": "65da8ad2",
   "metadata": {},
   "outputs": [
    {
     "data": {
      "text/plain": [
       "'your addition of 10, 20 is 30'"
      ]
     },
     "execution_count": 8,
     "metadata": {},
     "output_type": "execute_result"
    }
   ],
   "source": [
    "print(\"your addition of 10, 20 is 30\")"
   ]
  },
  {
   "cell_type": "code",
   "execution_count": 9,
   "id": "373a8dea",
   "metadata": {},
   "outputs": [
    {
     "name": "stdout",
     "output_type": "stream",
     "text": [
      "Hello World!\n"
     ]
    }
   ],
   "source": [
    "print(\"Hello World!\")"
   ]
  },
  {
   "cell_type": "code",
   "execution_count": 10,
   "id": "43ce4d36",
   "metadata": {},
   "outputs": [
    {
     "name": "stdout",
     "output_type": "stream",
     "text": [
      "Hello World!\n"
     ]
    }
   ],
   "source": [
    "print(f\"Hello World!\")"
   ]
  },
  {
   "cell_type": "code",
   "execution_count": 11,
   "id": "7a586a66",
   "metadata": {},
   "outputs": [
    {
     "name": "stdout",
     "output_type": "stream",
     "text": [
      "Your addition of 10, 20 is 30\n"
     ]
    }
   ],
   "source": [
    "print(f\"Your addition of {input1}, {input2} is {addition}\")"
   ]
  },
  {
   "cell_type": "code",
   "execution_count": 1,
   "id": "2a32843c",
   "metadata": {},
   "outputs": [
    {
     "name": "stdout",
     "output_type": "stream",
     "text": [
      "2.5\n"
     ]
    }
   ],
   "source": [
    "input1 = 5\n",
    "input2 = 2\n",
    "result = input1/input2\n",
    "print(result)"
   ]
  },
  {
   "cell_type": "code",
   "execution_count": 2,
   "id": "f2bd880e",
   "metadata": {},
   "outputs": [
    {
     "data": {
      "text/plain": [
       "int"
      ]
     },
     "execution_count": 2,
     "metadata": {},
     "output_type": "execute_result"
    }
   ],
   "source": [
    "type(input1)"
   ]
  },
  {
   "cell_type": "code",
   "execution_count": 3,
   "id": "523e70a3",
   "metadata": {},
   "outputs": [
    {
     "data": {
      "text/plain": [
       "int"
      ]
     },
     "execution_count": 3,
     "metadata": {},
     "output_type": "execute_result"
    }
   ],
   "source": [
    "type(input2)"
   ]
  },
  {
   "cell_type": "code",
   "execution_count": 4,
   "id": "c8e5a721",
   "metadata": {},
   "outputs": [
    {
     "data": {
      "text/plain": [
       "float"
      ]
     },
     "execution_count": 4,
     "metadata": {},
     "output_type": "execute_result"
    }
   ],
   "source": [
    "type(result)"
   ]
  },
  {
   "cell_type": "code",
   "execution_count": 6,
   "id": "04b2874a",
   "metadata": {},
   "outputs": [
    {
     "name": "stdout",
     "output_type": "stream",
     "text": [
      "1.0\n"
     ]
    }
   ],
   "source": [
    "input1 = 1\n",
    "input2 = 1\n",
    "result = input1/input2\n",
    "print(result)"
   ]
  },
  {
   "cell_type": "code",
   "execution_count": 8,
   "id": "2d5bccdd",
   "metadata": {},
   "outputs": [
    {
     "name": "stdout",
     "output_type": "stream",
     "text": [
      "<class 'int'>\n",
      "<class 'int'>\n"
     ]
    },
    {
     "data": {
      "text/plain": [
       "float"
      ]
     },
     "execution_count": 8,
     "metadata": {},
     "output_type": "execute_result"
    }
   ],
   "source": [
    "print(type(input1))\n",
    "print(type(input2))\n",
    "type(result)"
   ]
  },
  {
   "cell_type": "markdown",
   "id": "da27d33b",
   "metadata": {},
   "source": [
    "# Other Operators in Python\n",
    "- quotient ==> // \n",
    "- modulus ==> %\n",
    "- power ==> ** "
   ]
  },
  {
   "cell_type": "code",
   "execution_count": 9,
   "id": "a7976947",
   "metadata": {},
   "outputs": [],
   "source": [
    "input1 = 5\n",
    "input2 = 2\n",
    "quotient = input1 // input2\n",
    "reminder = input1 % input2"
   ]
  },
  {
   "cell_type": "code",
   "execution_count": 10,
   "id": "42db1a2f",
   "metadata": {
    "scrolled": true
   },
   "outputs": [
    {
     "name": "stdout",
     "output_type": "stream",
     "text": [
      "2\n",
      "1\n"
     ]
    }
   ],
   "source": [
    "print(quotient)\n",
    "print(reminder)"
   ]
  },
  {
   "cell_type": "code",
   "execution_count": 11,
   "id": "655f27f5",
   "metadata": {},
   "outputs": [],
   "source": [
    "input1 = 9\n",
    "input2 = 5\n",
    "quotient = input1 // input2\n",
    "reminder = input1 % input2"
   ]
  },
  {
   "cell_type": "code",
   "execution_count": 16,
   "id": "e11a807f",
   "metadata": {},
   "outputs": [
    {
     "name": "stdout",
     "output_type": "stream",
     "text": [
      "1\n",
      "4\n"
     ]
    }
   ],
   "source": [
    "print(quotient)\n",
    "print(reminder)"
   ]
  },
  {
   "cell_type": "code",
   "execution_count": 13,
   "id": "3c75dcbc",
   "metadata": {},
   "outputs": [],
   "source": [
    "base = 2\n",
    "power = 3\n",
    "base_power = base ** power"
   ]
  },
  {
   "cell_type": "code",
   "execution_count": 14,
   "id": "5018a8be",
   "metadata": {},
   "outputs": [
    {
     "name": "stdout",
     "output_type": "stream",
     "text": [
      "8\n"
     ]
    }
   ],
   "source": [
    "print(base_power)"
   ]
  },
  {
   "cell_type": "code",
   "execution_count": 17,
   "id": "9f023ce6",
   "metadata": {},
   "outputs": [
    {
     "data": {
      "text/plain": [
       "4"
      ]
     },
     "execution_count": 17,
     "metadata": {},
     "output_type": "execute_result"
    }
   ],
   "source": [
    "reminder"
   ]
  },
  {
   "cell_type": "markdown",
   "id": "8a6a5362",
   "metadata": {},
   "source": [
    "# Math Module\n",
    "- Math module will have all mathematical operations and their functions\n",
    "- log, sqrt, sin, cos\n",
    "- \"import math\" will import the module to current python session"
   ]
  },
  {
   "cell_type": "code",
   "execution_count": 18,
   "id": "86da811a",
   "metadata": {},
   "outputs": [],
   "source": [
    "import math"
   ]
  },
  {
   "cell_type": "code",
   "execution_count": 29,
   "id": "4ed73137",
   "metadata": {},
   "outputs": [
    {
     "name": "stdout",
     "output_type": "stream",
     "text": [
      "Enter number10\n"
     ]
    }
   ],
   "source": [
    "input1 = input(\"Enter number\")"
   ]
  },
  {
   "cell_type": "code",
   "execution_count": 30,
   "id": "1fcf7a96",
   "metadata": {},
   "outputs": [
    {
     "data": {
      "text/plain": [
       "2.302585092994046"
      ]
     },
     "execution_count": 30,
     "metadata": {},
     "output_type": "execute_result"
    }
   ],
   "source": [
    "math.log(int(input1))"
   ]
  },
  {
   "cell_type": "code",
   "execution_count": 20,
   "id": "3bdec06e",
   "metadata": {},
   "outputs": [
    {
     "data": {
      "text/plain": [
       "4.605170185988092"
      ]
     },
     "execution_count": 20,
     "metadata": {},
     "output_type": "execute_result"
    }
   ],
   "source": [
    "math.log(100)"
   ]
  },
  {
   "cell_type": "code",
   "execution_count": 21,
   "id": "a9cdb9d8",
   "metadata": {},
   "outputs": [
    {
     "data": {
      "text/plain": [
       "-0.3048106211022167"
      ]
     },
     "execution_count": 21,
     "metadata": {},
     "output_type": "execute_result"
    }
   ],
   "source": [
    "math.sin(60)"
   ]
  },
  {
   "cell_type": "code",
   "execution_count": 22,
   "id": "527ff13a",
   "metadata": {},
   "outputs": [
    {
     "data": {
      "text/plain": [
       "0.15425144988758405"
      ]
     },
     "execution_count": 22,
     "metadata": {},
     "output_type": "execute_result"
    }
   ],
   "source": [
    "math.cos(30)"
   ]
  },
  {
   "cell_type": "code",
   "execution_count": 23,
   "id": "5977dda3",
   "metadata": {},
   "outputs": [
    {
     "data": {
      "text/plain": [
       "5.0"
      ]
     },
     "execution_count": 23,
     "metadata": {},
     "output_type": "execute_result"
    }
   ],
   "source": [
    "math.sqrt(25)"
   ]
  },
  {
   "cell_type": "code",
   "execution_count": 24,
   "id": "51e500fe",
   "metadata": {},
   "outputs": [
    {
     "data": {
      "text/plain": [
       "4.898979485566356"
      ]
     },
     "execution_count": 24,
     "metadata": {},
     "output_type": "execute_result"
    }
   ],
   "source": [
    "math.sqrt(24)"
   ]
  },
  {
   "cell_type": "code",
   "execution_count": null,
   "id": "08dbbd5b",
   "metadata": {},
   "outputs": [],
   "source": []
  }
 ],
 "metadata": {
  "kernelspec": {
   "display_name": "Python 3 (ipykernel)",
   "language": "python",
   "name": "python3"
  },
  "language_info": {
   "codemirror_mode": {
    "name": "ipython",
    "version": 3
   },
   "file_extension": ".py",
   "mimetype": "text/x-python",
   "name": "python",
   "nbconvert_exporter": "python",
   "pygments_lexer": "ipython3",
   "version": "3.11.3"
  }
 },
 "nbformat": 4,
 "nbformat_minor": 5
}
