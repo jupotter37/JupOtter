{
 "cells": [
  {
   "cell_type": "markdown",
   "metadata": {},
   "source": [
    "# Welcome to our ML Class\n",
    "\n",
    "This notebook will aid in reviewing key Python concepts that will be used throughout the ML course. \n",
    "\n",
    "## Overview of the Prework\n",
    "\n",
    "Welcome to Coder Academy's Leap Into Machine Learning prework!\n",
    "\n",
    "This notebook includes:\n",
    "\n",
    "* Part 0: [Introduction to Jupyter Notebooks](#Part-0:-Introduction-to-Jupyter-Notebooks)\n",
    "\n",
    "* Part 1: [Introduction to Python: Variables, Data Types, Control flow and Arithmetic in Python](#Part-1:-Introduction-to-Python)\n",
    "\n",
    "* Part 2: [Lists, Dictionaries and Loops](#Part-2:-Lists,-Dictionaries-and-Loops)\n",
    "\n",
    "* Part 3: [Functions](#Part-3:-Functions)\n",
    "\n",
    "* Part 4: [NumPy and Pandas](#Part-4:-NumPy-and-Pandas)\n",
    "\n",
    "* Part 5: [Matplotlib and Seaborn](#Part-5:-Matplotlib-and-Seaborn)\n",
    "\n",
    "Each part contains **exercises** for you to practice fundamental skills that are important for you to learn in order to make the most out of the face to face sessions.\n",
    "\n",
    "If you are already familiar with Python, we suggest jumping straight to Parts 4 and 5.\n",
    "\n",
    "We estimate that stepping through the entire notebook will take roughly **4 hours**.\n",
    "\n",
    "If you have any questions, please email...\n",
    "\n",
    "dan.adler@coderacademy.edu.au"
   ]
  },
  {
   "cell_type": "markdown",
   "metadata": {},
   "source": [
    "---\n",
    "\n",
    "# Part 0: Introduction to Jupyter Notebooks\n",
    "\n",
    "**Estimated time:** 10 minutes\n",
    "\n",
    "---\n",
    "\n",
    "[Jump to Top](#Welcome-to-our-ML-Class) | [Previous Section](#Welcome-to-our-ML-Class) | [Next Section](#Part-1:-Introduction-to-Python) | [Jump to Bottom](#Downloading-this-notebook)\n",
    "\n",
    "\n",
    "## How to use this notebook?\n",
    "\n",
    "A Jupyter Notebook is an interactive way to work with code in a web browser. \n",
    "\n",
    "Jupyter is a pseudo-acronym for three programming languages: \n",
    "* Ju - [Julia](https://julialang.org/) \n",
    "* Pyt -[Python](https://www.python.org/) and; \n",
    "* eR - [R](https://www.r-project.org/about.html)\n",
    "\n",
    "Notebooks let you write instructions and run code in one file - this makes writing and running code simpler for you!\n",
    "\n",
    "### Essential Keyboard Commands for Notebooks\n",
    "\n",
    "You need to know some keyboard shortcuts to use notebooks effectively.\n",
    "\n",
    "We suggest you start with [Max Melnick's blog post](http://maxmelnick.com/2016/04/19/python-beginner-tips-and-tricks.html) on keyboard shortcuts for beginners, but the following tips are essential for navigating and running code in a notebook:\n",
    "\n",
    "* A cell with a **<span style=\"color:blue\">blue</span>** background is in <strong style=\"color:blue\">Command Mode</strong>. This will allow you to toggle up/down cells using the `arrow keys`. You can press `enter/return` on a cell in command mode to enter edit mode\n",
    "\n",
    "* A cell with a **<span style=\"color:green\">green</span>** background is in <strong style=\"color:green\">Edit Mode</strong>. This will allow you to change the content of cells. You can press the `escape key` on a cell in command mode to enter edit mode\n",
    "\n",
    "* To run the contents of a cell, you can type:\n",
    "  * `ctrl + enter`, which will run the cotents of a cell and keep the cursor in place\n",
    "  * `shift + enter`, which will run the contents of a cell, and move the cursor to the next cell (or create a new cell)\n",
    "\n",
    "### Exercise\n",
    "\n",
    "Edit the below by changing \"Gretchen\" to your own name by entering edit mode, and then run the cell using the directions above."
   ]
  },
  {
   "cell_type": "code",
   "execution_count": null,
   "metadata": {},
   "outputs": [],
   "source": [
    "print('Gretchen')"
   ]
  },
  {
   "cell_type": "markdown",
   "metadata": {},
   "source": [
    "We can add/delete cells using the following commands in <span style=\"color:blue\">**Command Mode**</span>:\n",
    "\n",
    "- `a`, adds a cell above the current cell\n",
    "\n",
    "- `b`, adds a cell below the current cell\n",
    "\n",
    "- `d + d`, (pressing the \"d\" key twice in succession) deletes a cell\n",
    "\n",
    "\n",
    "### Exercise\n",
    "\n",
    "Add/delete the cells such that each individual cell prints the numbers 1-5 in order. The numbers 2 and 4 are already completed for you."
   ]
  },
  {
   "cell_type": "code",
   "execution_count": null,
   "metadata": {},
   "outputs": [],
   "source": [
    "print(2)"
   ]
  },
  {
   "cell_type": "code",
   "execution_count": null,
   "metadata": {},
   "outputs": [],
   "source": [
    "print(33)"
   ]
  },
  {
   "cell_type": "code",
   "execution_count": null,
   "metadata": {},
   "outputs": [],
   "source": [
    "print(4)"
   ]
  },
  {
   "cell_type": "markdown",
   "metadata": {},
   "source": [
    "---\n",
    "\n",
    "# Part 1: Introduction to Python\n",
    "\n",
    "**Estimated time:** 1 hour\n",
    "\n",
    "---\n",
    "\n",
    "[Jump to Top](#Welcome-to-our-ML-Class) | [Previous Section](#Part-0:-Introduction-to-Jupyter-Notebooks) | [Next Section](#Part-2:-Lists,-Dictionaries-and-Loops) | [Jump to Bottom](#Downloading-this-notebook)\n",
    "\n",
    "## Variables\n",
    "\n",
    "Variables are the building blocks of any coding language, as they allow us to _store information_. Here is the creation of a variable...\n",
    "\n",
    "```python\n",
    "age = 42\n",
    "```\n",
    "\n",
    "In this example we created a `variable` called `age`, and stored the value `42` within this variable.\n",
    "\n",
    "The syntax to make a variable in Python is as follows:\n",
    "\n",
    "```python\n",
    "variable_name = value\n",
    "```\n",
    "\n",
    "Give it a go yourself and run the cell below."
   ]
  },
  {
   "cell_type": "code",
   "execution_count": null,
   "metadata": {},
   "outputs": [],
   "source": [
    "# Create a variable called 'age' and print the age\n",
    "age = 36\n",
    "print(age)\n",
    "\n",
    "# Create a variable called 'first_name' and print the name\n",
    "first_name = 'Nancy'\n",
    "print(first_name)"
   ]
  },
  {
   "cell_type": "markdown",
   "metadata": {},
   "source": [
    "## Data Types\n",
    "\n",
    "In programming, there are many _types_ of data that we can store. Here are a few common types:\n",
    "\n",
    "1. **Integers**, like the number `50`\n",
    "2. **Floats**, like the _decimal_ `0.5` (thought exercise...is `50.0` an integer or a float?)\n",
    "3. **strings** like the _word_ `'Nancy'`\n",
    "\n",
    "Python variables do not have to hold a specific data types. You can switch the type of data stored within a variable."
   ]
  },
  {
   "cell_type": "code",
   "execution_count": null,
   "metadata": {},
   "outputs": [],
   "source": [
    "# Store a string in the variable first name\n",
    "first_name = 'James'\n",
    "print(first_name)\n",
    "# Print the data type\n",
    "print(type(first_name))\n",
    "\n",
    "# Store a float in the variable first name\n",
    "first_name = 10.0\n",
    "print(first_name)\n",
    "# Print the data type\n",
    "print(type(first_name))"
   ]
  },
  {
   "cell_type": "markdown",
   "metadata": {},
   "source": [
    "When we assign the value of a variable to another variable, you store a _copy_ of the contents of the first variable within the second.\n",
    "\n",
    "### Exercise\n",
    "\n",
    "The following code creates a variable called `variable_a` and then sets the value of `variable_a` to `variable_b`. Follow the comments (`# the hashed areas`) to complete the code."
   ]
  },
  {
   "cell_type": "code",
   "execution_count": null,
   "metadata": {},
   "outputs": [],
   "source": [
    "# Create variable_a and set the value of variable_a to variable_b\n",
    "variable_a = 'Dan'\n",
    "variable_b = variable_a\n",
    "\n",
    "# Insert code below\n",
    "\n",
    "# 1.Change the value of variable_a to 25\n",
    "\n",
    "\n",
    "# 2. Print the type of variable_a\n",
    "\n",
    "\n",
    "# 3. Print the type of variable_b\n",
    "\n",
    "\n",
    "# 4. Print the values of variable_a and variable_b\n",
    "\n"
   ]
  },
  {
   "cell_type": "markdown",
   "metadata": {},
   "source": [
    "## Control flow (conditional statements)\n",
    "\n",
    "Programs often look at the _current state_ of the program while running, and then make a decision to run different blocks of code.\n",
    "\n",
    "To _control the flow of a program_, we can use the following statements...\n",
    "\n",
    "- if\n",
    "- elif\n",
    "- else\n",
    "\n",
    "Here is an example of using these three types of statements. Based upon the value of variable `x`, what will be printed?"
   ]
  },
  {
   "cell_type": "code",
   "execution_count": null,
   "metadata": {},
   "outputs": [],
   "source": [
    "x = 3\n",
    "if x < 2:\n",
    "    variable_a = 10\n",
    "elif x < 5:\n",
    "    variable_a = 20\n",
    "else:\n",
    "    variable_a = 30\n",
    "\n",
    "# Print the final result\n",
    "print(variable_a)"
   ]
  },
  {
   "cell_type": "markdown",
   "metadata": {},
   "source": [
    "To break down this code...\n",
    "\n",
    "- Each `if` and `elif` statement is checked, in order, to verify if the _condition stated_ is `True`. The first true statement executes\n",
    "- If no statement is `True`, the contents indented below the `else` statement execute\n",
    "\n",
    "**Note:** You are not _required_ to have `elif` and `else` statements. It is fine if you just have a single `if` statement.\n",
    "\n",
    "### Exercise\n",
    "\n",
    "The following code stores the value of someone's age in a variable called `age`. Create control flow that executes the following...\n",
    "\n",
    "- If someone's age is _less than_ 18, print to the screen: `You are not required to pay taxes`\n",
    "- If someone's age is _greater than or equal to_ 18, print to the screen `You are required to pay taxes`\n",
    "\n",
    "Validate this is correct by checking what occurs in your code if the value of `age` is: `7`, `18`, `52`."
   ]
  },
  {
   "cell_type": "code",
   "execution_count": null,
   "metadata": {},
   "outputs": [],
   "source": [
    "# Stores the value of age\n",
    "age = 52\n",
    "\n",
    "# Insert your code here\n"
   ]
  },
  {
   "cell_type": "markdown",
   "metadata": {},
   "source": [
    "### Keywords: and, or\n",
    "\n",
    "Often times, there are multiple conditions we want to check at once. For instance, I might want to know...\n",
    "\n",
    "* Whether my child is eligible for riding a theme park ride, in which my child's height must be greater than some number, _and_ smaller than another number\n",
    "* If I am eligible for a discount at the movies, which might mean I must be a student _or_ I am a certain age\n",
    "\n",
    "Here is an implementation of each of the first dot point, using the `and` operator."
   ]
  },
  {
   "cell_type": "code",
   "execution_count": null,
   "metadata": {},
   "outputs": [],
   "source": [
    "### Example showing the theme park ride\n",
    "\n",
    "# My child's height 127 cm\n",
    "my_child_height = 127\n",
    "\n",
    "# You must be between 110 and 130 cm to get on the theme park ride\n",
    "# Note we are using the \"and\" keyword\n",
    "if (my_child_height >= 110) and (my_child_height <= 130):\n",
    "    print('My child can enjoy the ride!')\n",
    "else:\n",
    "    print('My child is not in the height range')"
   ]
  },
  {
   "cell_type": "markdown",
   "metadata": {},
   "source": [
    "And an example of the second dot point, using the `or` operator."
   ]
  },
  {
   "cell_type": "code",
   "execution_count": null,
   "metadata": {},
   "outputs": [],
   "source": [
    "### Example showing the movie theater\n",
    "\n",
    "# Initialise student and age\n",
    "student = False\n",
    "age = 70\n",
    "\n",
    "if student or (age >= 65):\n",
    "    print('You are eligible for a discount!')\n",
    "else:\n",
    "    print('You are not eligible for a discount!')"
   ]
  },
  {
   "cell_type": "markdown",
   "metadata": {},
   "source": [
    "### Exercise\n",
    "\n",
    "Using your knowledge of operators, fix the following script to ensure that no minors can be served at the bar, given...\n",
    "\n",
    "* any age, stored in a value called `age`\n",
    "* any country. Assume that all countries have a legal age of 18, except for America, where the age is 21\n",
    "\n",
    "\n",
    "For example, using the inputs of `age` and `country` below, we would expect the following results:\n",
    "\n",
    "|Age|Country|Expected Result|\n",
    "|---|---|---|\n",
    "|18|'America'|'Not served'|\n",
    "|26|'America'|'Served'|\n",
    "|22|'Vietnam'|'Served'|\n",
    "|17|'China'|'Not Served'|\n",
    "\n",
    "**NOTE**: Your logic should work for _ANY_ country and age combination, the above table just shows EXAMPLES."
   ]
  },
  {
   "cell_type": "code",
   "execution_count": null,
   "metadata": {},
   "outputs": [],
   "source": [
    "# Initialise an example age and country variables\n",
    "age = 22\n",
    "country = 'Australia'\n",
    "\n",
    "# Insert your code here\n"
   ]
  },
  {
   "cell_type": "markdown",
   "metadata": {},
   "source": [
    "## Arithmetic\n",
    "\n",
    "Python can implement arithmetic. There are different mathematical operators, described below.\n",
    "\n",
    "|Operator|Description|Example|\n",
    "|---|---|---|\n",
    "|+ Addition|Adds values on either side of the operator.|a + b = 30|\n",
    "|- Subtraction|Subtracts right hand operand from left hand operand.|a – b = -10|\n",
    "|* Multiplication|Multiplies values on either side of the operator|a * b = 200|\n",
    "|/ Division|Divides left hand operand by right hand operand|b / a = 2|\n",
    "|% Modulus|Divides left hand operand by right hand operand and returns remainder|b % a = 0|\n",
    "|** Exponent|Performs exponential (power) calculation on operators|a**b =10 to the power 20|\n",
    "|// Floor Division|Floor Division - The division of operands where the result is the quotient in which the digits after the decimal point are removed. But if one of the operands is negative, the result is floored, i.e., rounded away from zero (towards negative infinity)|9//2 = 4 and 9.0//2.0 = 4.0, -11//3 = -4, -11.0//3 = -4.0|"
   ]
  },
  {
   "cell_type": "markdown",
   "metadata": {},
   "source": [
    "### Exercise\n",
    "\n",
    "Using your knowledge of arithmetic operations and logic statements, write code in the cell below that inputs a given value of a variable `box_size`, and a given size of `oranges`, `watermelons` and `apples`. The code should print...\n",
    "\n",
    "- How many oranges can fit in the box (to the nearest orange)\n",
    "- How many watermelons can fit in the box (to the nearest watermelon)\n",
    "- How much spare room is left _after_ filling the box with apples"
   ]
  },
  {
   "cell_type": "code",
   "execution_count": null,
   "metadata": {},
   "outputs": [],
   "source": [
    "# Initialise variable\n",
    "box_size = 100\n",
    "size_of_orange = 7\n",
    "size_of_watermelon = 10\n",
    "size_of_apple = 6\n",
    "\n",
    "# Insert your code here\n"
   ]
  },
  {
   "cell_type": "markdown",
   "metadata": {},
   "source": [
    "---\n",
    "\n",
    "# Part 2: Lists, Dictionaries and Loops\n",
    "\n",
    "**Estimated time:** 45 minutes\n",
    "\n",
    "---\n",
    "\n",
    "[Jump to Top](#Welcome-to-our-ML-Class) | [Previous Section](#Part-1:-Introduction-to-Python) | [Next Section](#Part-3:-Functions) | [Jump to Bottom](#Downloading-this-notebook)\n",
    "\n",
    "Lists and dictionaries allow us to store a lot of information into one variable, rather than having to create a single variable to store each specific data point.\n",
    "\n",
    "## Lists\n",
    "\n",
    "We can create a list of three values using the following syntax:\n",
    "\n",
    "\n",
    "```python\n",
    "list_name = [value_1, value_2, value_3]\n",
    "```\n",
    "\n",
    "Here are a few examples of creating lists."
   ]
  },
  {
   "cell_type": "code",
   "execution_count": null,
   "metadata": {},
   "outputs": [],
   "source": [
    "# Create a list called days_of_the_week\n",
    "days_of_the_week = [\n",
    "    'Monday', \n",
    "    'Tuesday', \n",
    "    'Wednesday', \n",
    "    'Thursday', \n",
    "    'Friday', \n",
    "    'Saturday', \n",
    "    'Sunday'\n",
    "]\n",
    "print(days_of_the_week)\n",
    "\n",
    "# Create a list of random things\n",
    "random_list = ['Hello world!', 4, 2000, 'Another String']\n",
    "print(random_list)"
   ]
  },
  {
   "cell_type": "markdown",
   "metadata": {},
   "source": [
    "We can gain access to the values from a list by specifying an **index**. \n",
    "\n",
    "An index is just a number that represents the position within a list. **The index always starts at `0`** so we can access the first element in the collection with the following syntax:"
   ]
  },
  {
   "cell_type": "code",
   "execution_count": null,
   "metadata": {},
   "outputs": [],
   "source": [
    "# Create a list\n",
    "my_list = ['Test', 6, 27, 'Another Test']\n",
    "\n",
    "# Access the first element\n",
    "print(my_list[0])"
   ]
  },
  {
   "cell_type": "markdown",
   "metadata": {},
   "source": [
    "Python gives us some built-in [**methods**](https://docs.python.org/2/tutorial/datastructures.html) that allow us to dynamically change the structure and values within the list.\n",
    "\n",
    "Run the cells below to see examples of different list methods."
   ]
  },
  {
   "cell_type": "code",
   "execution_count": null,
   "metadata": {},
   "outputs": [],
   "source": [
    "# Create my_list and print it\n",
    "my_list = [1, 2, 3, 4, 5]\n",
    "print(my_list)\n",
    "\n",
    "# The append() methods adds an element \n",
    "# to the end of the list\n",
    "my_list.append(6)\n",
    "print('\\nAfter appending:')\n",
    "print(my_list)\n",
    "\n",
    "# The insert() methods adds an element to a \n",
    "# specific position within the list. \n",
    "# For example the '0' denotes the start of the list.\n",
    "print('\\nAfter inserting:')\n",
    "my_list.insert(0, 7)\n",
    "print(my_list)\n",
    "\n",
    "# The pop() method removes the element at \n",
    "# the position of the given index. If no \n",
    "# index is given, pop will remove the last element in the list.\n",
    "print('\\nAfter popping:')\n",
    "my_list.pop()\n",
    "print(my_list)"
   ]
  },
  {
   "cell_type": "markdown",
   "metadata": {},
   "source": [
    "### Exercise\n",
    "\n",
    "Please insert your code in the below cell after reading to perform the following:\n",
    "\n",
    "1) Store the values from ```1``` to ```10``` in a list.\n",
    "\n",
    "2) We want to add ```0``` to the beginning of the list. Which method would we use? Implement this method by changing the list you just created.\n",
    "\n",
    "3) Using the ```pop``` method, remove all of the odd numbers within the list. Please note that when we remove an element within the list, the index of all values above the specified index will be shifted down by 1 to accomodate for the removed element."
   ]
  },
  {
   "cell_type": "code",
   "execution_count": null,
   "metadata": {},
   "outputs": [],
   "source": [
    "# Insert code here\n"
   ]
  },
  {
   "cell_type": "markdown",
   "metadata": {},
   "source": [
    "## Dictionaries\n",
    "\n",
    "**Dictionaries** are like lists, but each index hase a specific name, which we call a _key_, that is attached to the _value_ at that index.\n",
    "\n",
    "Run the cell below to see an example of creating a dictionary."
   ]
  },
  {
   "cell_type": "code",
   "execution_count": null,
   "metadata": {},
   "outputs": [],
   "source": [
    "# Create a dictionary\n",
    "my_dictionary = {\n",
    "    'first_element': 17, \n",
    "    'second_element': 'A String example', \n",
    "    'third_element': 5\n",
    "}\n",
    "\n",
    "print(my_dictionary)\n",
    "print(type(my_dictionary))"
   ]
  },
  {
   "cell_type": "markdown",
   "metadata": {},
   "source": [
    "Think of a dictionary as a **lookup table**.\n",
    "\n",
    "For instance, let's say we have the following dictionary of people (**the keys**) with their respective phone numbers (**the values**), and we want to look-up Dan's phone #. We can do this using the following syntax:"
   ]
  },
  {
   "cell_type": "code",
   "execution_count": null,
   "metadata": {},
   "outputs": [],
   "source": [
    "# Create a dictionary\n",
    "my_dictionary = {\n",
    "    'Dan': '04-111-111-111', \n",
    "    'Nihit': '04-222-222-222'\n",
    "}\n",
    "\n",
    "# Print Dan's number\n",
    "print(my_dictionary['Dan'])\n",
    "\n",
    "# Add Gretchen's number\n",
    "my_dictionary['Gretchen'] = '04-333-333-333'\n",
    "\n",
    "# Print Gretchen's number\n",
    "print(my_dictionary['Gretchen'])"
   ]
  },
  {
   "cell_type": "markdown",
   "metadata": {},
   "source": [
    "### Exercise\n",
    "\n",
    "Please provide code in the cell below that adheres to the following instructions.\n",
    "\n",
    "1) Create a dictionary that contains the Australian States and Territories as ```keys``` and their capital cities as ```values```.\n",
    "\n",
    "2) Imagine that Western Australia has undergone civil unrest and they have decided to split the state into two seperate entities. Create a new state in your dictionary called 'New Western Australia' that has a capital city of 'New Perth'.\n",
    "\n",
    "3) Australia is doing a survey and would like to a dataset of the states and their capital cities but not the territories. Update the capital cities of the territories to 'N/A'."
   ]
  },
  {
   "cell_type": "code",
   "execution_count": null,
   "metadata": {},
   "outputs": [],
   "source": [
    "# Insert code here\n",
    "\n"
   ]
  },
  {
   "cell_type": "markdown",
   "metadata": {},
   "source": [
    "## Loops\n",
    "\n",
    "\n",
    "### While loops\n",
    "\n",
    "The **while** loops runs a portion of indented code until a specified condition becomes `False`.\n",
    "\n",
    "\n",
    "Here is an example of a while loop to print the days of the week:"
   ]
  },
  {
   "cell_type": "code",
   "execution_count": null,
   "metadata": {},
   "outputs": [],
   "source": [
    "# Create a days_of_the_week list\n",
    "days_of_the_week = [\n",
    "    'Monday',\n",
    "    'Tuesday',\n",
    "    'Wednesday',\n",
    "    'Thursday',\n",
    "    'Friday',\n",
    "    'Saturday',\n",
    "    'Sunday'\n",
    "]\n",
    "\n",
    "# Set a variable to 0\n",
    "curr_index = 0\n",
    "\n",
    "# Loop until the current index is equal to the length of the list\n",
    "while curr_index < len(days_of_the_week):\n",
    "    print(days_of_the_week[curr_index])\n",
    "    # Update the index\n",
    "    curr_index += 1 # Same as curr_index = curr_index + 1"
   ]
  },
  {
   "cell_type": "markdown",
   "metadata": {},
   "source": [
    "### For loops\n",
    "\n",
    "\n",
    "**For loops** are another way to iterate through something. Unlike a while loop, for loops do not iterate based upon a condition, but iterate through an object, like a dictionary or list.\n",
    "\n",
    "For instance this code will also iterate through the days of the week:"
   ]
  },
  {
   "cell_type": "code",
   "execution_count": null,
   "metadata": {},
   "outputs": [],
   "source": [
    "days_of_the_week = [\n",
    "    'Monday',\n",
    "    'Tuesday',\n",
    "    'Wednesday',\n",
    "    'Thursday',\n",
    "    'Friday',\n",
    "    'Saturday',\n",
    "    'Sunday'\n",
    "]\n",
    "\n",
    "for d in days_of_the_week:\n",
    "    print(d)"
   ]
  },
  {
   "cell_type": "markdown",
   "metadata": {},
   "source": [
    "### Exercise\n",
    "\n",
    "The following code creates an empty list called `my_list` and then a variable called `stopping_number`.\n",
    "\n",
    "1) Use a for loop to append the numbers 0 UP TO BUT NOT INCLUDING your `stopping_number` to `my_list`. Use the [`range()` function](https://www.w3schools.com/python/ref_func_range.asp).\n",
    "\n",
    "2) Take this list and use a while loop to print the first five numbers of the list. It might be helpful to have a `counter` variable that counts the amount of numbers you have printed to the screen."
   ]
  },
  {
   "cell_type": "code",
   "execution_count": null,
   "metadata": {},
   "outputs": [],
   "source": [
    "# Initilise variables\n",
    "my_list = []\n",
    "stopping_number = 20\n",
    "counter = 0\n",
    "\n",
    "# Insert your code here\n",
    "\n"
   ]
  },
  {
   "cell_type": "markdown",
   "metadata": {},
   "source": [
    "---\n",
    "\n",
    "# Part 3: Functions\n",
    "\n",
    "**Estimated time:** 30 minutes\n",
    "\n",
    "---\n",
    "\n",
    "[Jump to Top](#Welcome-to-our-ML-Class) | [Previous Section](#Part-2:-Lists,-Dictionaries-and-Loops) | [Next Section](#Part-4:-NumPy-and-Pandas) | [Jump to Bottom](#Downloading-this-notebook)\n",
    "\n",
    "\n",
    "## Introduction to functions\n",
    "\n",
    "Functions are reusable pieces/chunks of code. Functions are not run in a program until they are “called” or “invoked” in a program. Below is an example of a function that takes in a number (called `num`) and returns the value `True` if the number is even and `False` if the number is odd."
   ]
  },
  {
   "cell_type": "code",
   "execution_count": null,
   "metadata": {},
   "outputs": [],
   "source": [
    "# Define a function. Notice the \"def\" keyword, and the \":\" to end the statement\n",
    "def is_even(num):\n",
    "    \"\"\"\n",
    "    Input: num, a positive int\n",
    "    Output: True if num is even, otherwise False\n",
    "    \"\"\"\n",
    "    # Everything within the function is indented\n",
    "    if num%2==0:\n",
    "        # Returns the value True\n",
    "        return True\n",
    "    else:\n",
    "        # Returns the value False\n",
    "        return False\n",
    "    \n",
    "### TEST THE FUNCTION HERE\n",
    "print(is_even(4)) # Prints \"True\"\n",
    "print(is_even(num=5)) # Prints \"False\", \"binds\" 5 to the argument \"num\""
   ]
  },
  {
   "cell_type": "markdown",
   "metadata": {},
   "source": [
    "All functions have the following syntax...\n",
    "\n",
    "```python\n",
    "def name_of_function(arguments):\n",
    "    body of function\n",
    "    return result\n",
    "```\n",
    "\n",
    "The `return` statement is _optional_. You are _not required_ to always return values from a function. The function ends **when the indentation ends**.\n",
    "\n",
    "Functions can have multiple arguments as well. The following function has four arguments, `a`, `b`, `c`, and `x`..."
   ]
  },
  {
   "cell_type": "code",
   "execution_count": null,
   "metadata": {},
   "outputs": [],
   "source": [
    "# function with multiple arguments\n",
    "def evalQuadratic(a, b, c, x):\n",
    "    \"\"\"\n",
    "    Input: a,b,c=numerical values for the coefficients of a quadratic equation, \n",
    "           x=numerical value at which to evaluate the quadratic.\n",
    "    output: result of quadratic equation. \n",
    "    \"\"\"\n",
    "    result = a*x**2 + b * x + c\n",
    "    return result\n",
    "\n",
    "# Save return value to a variable\n",
    "res = evalQuadratic(a=4, b=5, c=2, x=3)\n",
    "# Print the variable\n",
    "print(res)"
   ]
  },
  {
   "cell_type": "markdown",
   "metadata": {},
   "source": [
    "## Scope and Lifetime of variables\n",
    "\n",
    "Arguments and variables defined inside a function are not visible/accessible from outside. We say that these variables and arguments have **local scope**.\n",
    "\n",
    "The lifetime of a variable is the period of a program where the variable is defined (i.e. holds a specific value). The lifetime of a variable inside of a function is the time in which the function is being executed.\n",
    "\n",
    "Local variables are destroyed once we end a function's execution. Hence, a function does not remember the value of a variable from its previous calls. For example, the `x` within the function `my_func()` below is _different_ than the `x` defined _outside_ of `my_func()`."
   ]
  },
  {
   "cell_type": "code",
   "execution_count": null,
   "metadata": {},
   "outputs": [],
   "source": [
    "# Inside a function, you can access a variable defined outside but you cannot modify this variable.\n",
    "# example to illustrate the scope of a variable:\n",
    "def my_func():\n",
    "    x = 10\n",
    "    print(\"Value inside function:\", x)\n",
    "\n",
    "x = 20\n",
    "my_func()\n",
    "print(\"Value outside function:\", x)"
   ]
  },
  {
   "cell_type": "markdown",
   "metadata": {},
   "source": [
    "### Exercise\n",
    "\n",
    "Write a function to check if a number is prime or not. Your function must accept an integer argument and return `True` if the integer is a prime and `False` otherwise.\n",
    "\n",
    "Here is an example of calling the function, with an output value:\n",
    "\n",
    "```python\n",
    "print(is_prime(7))\n",
    "print(is_prime(30))\n",
    "```\n",
    "\n",
    "Would return\n",
    "\n",
    "```python\n",
    "True\n",
    "False\n",
    "```"
   ]
  },
  {
   "cell_type": "code",
   "execution_count": null,
   "metadata": {},
   "outputs": [],
   "source": [
    "# Insert your code here\n",
    "\n",
    "def is_prime(num):\n",
    "    # Write function here\n",
    "    \n",
    "    return True\n",
    "\n",
    "\n",
    "# Examples   \n",
    "print(is_prime(7))\n",
    "print(is_prime(30))"
   ]
  },
  {
   "cell_type": "markdown",
   "metadata": {},
   "source": [
    "---\n",
    "\n",
    "# Part 4: NumPy and Pandas\n",
    "\n",
    "**Estimated time:** 1 hour\n",
    "\n",
    "---\n",
    "\n",
    "[Jump to Top](#Welcome-to-our-ML-Class) | [Previous Section](#Part-3:-Functions) | [Next Section](#Part-5:-Matplotlib-and-Seaborn) | [Jump to Bottom](#Downloading-this-notebook)\n",
    "\n",
    "## Libraries and Import Statements\n",
    "\n",
    "When Python was first created, there was a lot of functionality that it could not perform. Eventually, programmers started writing new functions and methods in Python, and then published these functions and methods online such that other programmers could use them.\n",
    "\n",
    "A **library** in Python is a set of functions or methods. We often have to **import** libraries into Python, because the libraries are not initially available when our notebook starts. Two libraries we will use often in machine learning are [`numpy`](http://www.numpy.org/) and [`pandas`](https://pandas.pydata.org/).\n",
    "\n",
    "**Note**: These libraries have  _ton_ of different functions and methods. We will not cover all of them in this notebook, and it is recommended to checkout the documentation, or use Google when there is something new you want to code. You can find the documentation by clicking on the words [`numpy`](http://www.numpy.org/) and [`pandas`](https://pandas.pydata.org/) in this sentence.\n",
    "\n",
    "The below code will `import` numpy and pandas. It will also give the libraries nicknames using the `as` statement. numpy is commonly nicknamed `np`, and pandas is commonly nicknamed `pd`.\n",
    "\n",
    "**NOTE**: You will _not_ be able to use the libraries within this notebook until you run the import statements below."
   ]
  },
  {
   "cell_type": "code",
   "execution_count": null,
   "metadata": {},
   "outputs": [],
   "source": [
    "# Import numpy\n",
    "import numpy as np\n",
    "\n",
    "# Import pandas\n",
    "import pandas as pd"
   ]
  },
  {
   "cell_type": "markdown",
   "metadata": {},
   "source": [
    "## Arrays"
   ]
  },
  {
   "cell_type": "markdown",
   "metadata": {},
   "source": [
    "Numpy arrays are similar to one-dimensional lists. The difference is that a list can store multiple data types (strings, floats), and arrays can store one data type. This allows the **runtime** of methods that use numpy arrays to be faster than lists, because of how the arrays are stored in memory.\n",
    "\n",
    "**Note** how we need to use the prefix `np` when creating a numpy array."
   ]
  },
  {
   "cell_type": "code",
   "execution_count": null,
   "metadata": {},
   "outputs": [],
   "source": [
    "# Here is the creation of a numpy array\n",
    "my_array = np.array([1.0, 'hello'])\n",
    "\n",
    "\n",
    "# Print both...noticed how the number becomes a string\n",
    "print(my_array)"
   ]
  },
  {
   "cell_type": "markdown",
   "metadata": {},
   "source": [
    "We can perform different operations on numpy arrays to summarise the data. here are some examples:"
   ]
  },
  {
   "cell_type": "code",
   "execution_count": null,
   "metadata": {},
   "outputs": [],
   "source": [
    "# Stock prices for one week\n",
    "stock_prices = np.array([169.429993, 170.889999, 170.179993, 170.800003, 170.419998])\n",
    "\n",
    "# Calculate the mean stock price\n",
    "print(np.mean(stock_prices))\n",
    "\n",
    "# Calculate the standard deviation stock price\n",
    "print(np.std(stock_prices))\n",
    "\n",
    "# Calculate the median stock price\n",
    "print(np.median(stock_prices))\n",
    "\n",
    "# Calculate the Inner Quartile Range, or IQR of the data\n",
    "print(np.percentile(stock_prices, q=75) - np.percentile(stock_prices, q=25))"
   ]
  },
  {
   "cell_type": "markdown",
   "metadata": {},
   "source": [
    "## Pandas\n",
    "\n",
    "Pandas stands for **Panel - Data**...with an \"s\" (Coders and acronyms are not great...but hey it's a fun name right??).\n",
    "\n",
    "\n",
    "![Panda](https://media.giphy.com/media/DD2NmqYhvLiP6/giphy.gif)\n",
    "\n",
    "\n",
    "Pandas is the main tabular data library in Python, and is very popular in data science. You can find the pandas documentation here: https://pandas.pydata.org/. Remember we imported pandas already, and gave it a nickname `pd`.\n",
    "\n",
    "Pandas normally takes in **comma-separated values**, or **.csv** file. We can upload .csv files from our computer, or if there is a file hosted online, we can read it using the url. We'll be using the [iris dataset]('https://raw.githubusercontent.com/uiuc-cse/data-fa14/gh-pages/data/iris.csv') for these examples. The main data type in pandas is called a **DataFrame**."
   ]
  },
  {
   "cell_type": "code",
   "execution_count": null,
   "metadata": {},
   "outputs": [],
   "source": [
    "# Load data into variable\n",
    "filename = 'https://raw.githubusercontent.com/uiuc-cse/data-fa14/gh-pages/data/iris.csv'\n",
    "\n",
    "# Read data\n",
    "iris_data = pd.read_csv(filename)\n",
    "\n",
    "# Print the data type, noticed how this is a DataFrame\n",
    "print(type(iris_data))"
   ]
  },
  {
   "cell_type": "markdown",
   "metadata": {},
   "source": [
    "We can explore the contents of a DataFrame using a variety of functions, of which a few are below. We can use...\n",
    "\n",
    "- `iris_data.head()` to print the first 5 rows of the dataset\n",
    "- `iris_data.info()` prints the non-null values (non-empty) values of the dataset, and also the data type\n",
    "- `iris_data.describe()` prints summary data from the dataset\n",
    "- `iris_data.shape` prints a tuple representing the `(num rows, num columns)` in the dataset"
   ]
  },
  {
   "cell_type": "code",
   "execution_count": null,
   "metadata": {},
   "outputs": [],
   "source": [
    "# Print the first five rows\n",
    "print('First five rows:\\n')\n",
    "print(iris_data.head())\n",
    "print(\"\\n\") # Prints a simple line break\n",
    "\n",
    "# Print the number of non-null values and data types\n",
    "print('Number of non-null values and data types:\\n')\n",
    "print(iris_data.info())\n",
    "print(\"\\n\") # Prints a simple line break\n",
    "\n",
    "# Print the summary data\n",
    "print('Summary data:\\n')\n",
    "print(iris_data.describe())\n",
    "print(\"\\n\") # Prints a simple line break\n",
    "\n",
    "# Print the number of rows, columns\n",
    "print('Number of rows and columns:\\n')\n",
    "print(iris_data.shape)"
   ]
  },
  {
   "cell_type": "markdown",
   "metadata": {},
   "source": [
    "### Indexing\n",
    "\n",
    "Pandas dataframes can be index'ed by rows and columns. If you look at the head of the data, you likely saw something like this...\n",
    "\n",
    "\n",
    "| ... | sepal_length | sepal_width | petal_length | petal_width | species |\n",
    "|-----|--------------|-------------|--------------|-------------|---------|\n",
    "|**0**|           5.1 |         3.5|           1.4|          0.2|  setosa|\n",
    "|**1**|          4.9   |       3.0 |          1.4 |         0.2 | setosa|\n",
    "|**2**|           4.7   |       3.2|           1.3|          0.2|  setosa|\n",
    "|**3**|           4.6    |      3.1|           1.5|          0.2|  setosa|\n",
    "|**4**|           5.0     |     3.6|           1.4|          0.2|  setosa|\n",
    "\n",
    "The **bolded numbers** on the left are called the **indices**, and the **top row** is called the **columns** (and are the _names_ of the columns). We can used the index names and column names to print specific rows/columns of our dataset.\n",
    "\n",
    "The following methods can index our data...\n",
    "\n",
    "- `iris_data['column name']` retrieves a single column from the data\n",
    "- `iris_data[['column name 1', 'column name 2', ...]]` retrives multiple columns from the data. Notice how we input a **list** of columns\n",
    "- `iris_data.loc[index name, :]` retrieves a specific row of data by specifying a certain index\n",
    "- `iris_data.loc[[index 1, index 2, ...], :]` retrieves multiple rows of data. Notice how we input a **list** of index names\n",
    "- `iris_data.loc[[index 1, index 2, ...], ['column name 1', ...]]` retrieves multiple rows _and_ columns of data\n",
    "\n",
    "Here are some examples..."
   ]
  },
  {
   "cell_type": "code",
   "execution_count": null,
   "metadata": {},
   "outputs": [],
   "source": [
    "# Print the sepal_width column (first five rows)\n",
    "print(iris_data['sepal_width'].head())\n",
    "print(\"\\n\")\n",
    "\n",
    "# Print the sepal_width and the petal_length column column (first five rows)\n",
    "print(iris_data[['sepal_width', 'petal_length']].head())\n",
    "print(\"\\n\")\n",
    "\n",
    "# Print the 2nd index\n",
    "print(iris_data.loc[2, :].head())\n",
    "print(\"\\n\")\n",
    "\n",
    "# Print the 2nd and 4th index\n",
    "print(iris_data.loc[[2, 4], :].head())\n",
    "print(\"\\n\")\n",
    "\n",
    "# Print the 2nd and 4th index, sepal_width and petal_length columns\n",
    "print(iris_data.loc[[2, 4], ['sepal_width', 'petal_length']].head())\n",
    "print(\"\\n\")"
   ]
  },
  {
   "cell_type": "markdown",
   "metadata": {},
   "source": [
    "### Exercise\n",
    "\n",
    "In this exercise, we'll summarise different aspects of the **iris dataset** we have been using.\n",
    "\n",
    "Complete the following in the code cell below.\n",
    "\n",
    "* What is the min/median/max/average/standard deviation of \"petal_width\" column? _Hint:_ `iris_data.mean()` gives the mean of every column. How would you specify taking the mean of _one_ column?.\n",
    "* How many types of iris plant species are within the dataset? Use [this](https://pandas.pydata.org/pandas-docs/stable/reference/api/pandas.unique.html).\n",
    "* Calculate the ratio of sepal_length to sepal_width, and the ratio of petal_length to petal_width. Store each of these calculations respectively in columns called sepal_ratio and petal_ratio. You can use arthimetic to perform row-by-row operations, for example df['row1'] / df['row2'].\n",
    "\n",
    "You can store a new column using:\n",
    "\n",
    "```python\n",
    "iris_data['my_new_col'] = # Insert manipulation here\n",
    "```\n",
    "\n",
    "* Store the columns, except for species, and _just_ the first five rows, in a numpy array. Hint: use the [values method](https://pandas.pydata.org/pandas-docs/stable/reference/api/pandas.DataFrame.values.html)"
   ]
  },
  {
   "cell_type": "code",
   "execution_count": null,
   "metadata": {},
   "outputs": [],
   "source": [
    "# Insert code here\n",
    "\n"
   ]
  },
  {
   "cell_type": "markdown",
   "metadata": {},
   "source": [
    "### Groupby\n",
    "\n",
    "Often we want to summarise data over specific categorical values. The `groupby` method allows us to do this. The following options are available to summarize different columns by one or more metrics.\n",
    "\n",
    "- `iris_data.groupby(['species'])['sepal_width', 'sepal_length'].mean()` will take the mean sepal_width and sepal_length per species\n",
    "\n",
    "<br>\n",
    "\n",
    "- `iris_data.groupby(['species'])['sepal_width'].agg(['mean', 'std'])` will take the mean and standard deviation of the sepal_width column per species\n",
    "\n",
    "<br>\n",
    "\n",
    "-  `iris_data.groupby(['species']).agg({'sepal_width': 'mean', 'sepal_length': ['median', 'std']})` will take the mean sepal_width, and the median and standard deviation of the sepal_length column per species\n",
    "\n",
    "\n",
    "The following code performs these actions"
   ]
  },
  {
   "cell_type": "code",
   "execution_count": null,
   "metadata": {},
   "outputs": [],
   "source": [
    "# Find the mean per species of two columns\n",
    "print(iris_data.groupby(['species'])['sepal_width', 'sepal_length'].mean())\n",
    "print(\"\\n\")\n",
    "\n",
    "# Find the mean and std of one column\n",
    "print(iris_data.groupby(['species'])['sepal_width'].agg(['mean', 'std']))\n",
    "print(\"\\n\")\n",
    "\n",
    "# Find the mean \n",
    "print(iris_data.groupby(['species']).agg({'sepal_width': 'mean', 'sepal_length': ['median', 'std']}))\n",
    "print(\"\\n\")"
   ]
  },
  {
   "cell_type": "markdown",
   "metadata": {},
   "source": [
    "### Merge\n",
    "\n",
    "Often times we have data in two separate DataFrames, and we want to merge the data together based upon the columns that share similar data, aligning like rows in the data.\n",
    "\n",
    "We can use the `pd.merge()` function to do this. Merges are similar to [SQL Joins](https://www.w3schools.com/sql/sql_join.asp) if you are familiar with that concept.\n",
    "\n",
    "Run the following cells to create two dataframes.\n",
    "\n",
    "* `postal_codes` holds information about people and what post code they live in\n",
    "* `order_id` holds information about people and an order they made on the internet\n",
    "\n",
    "We will not go over the specific syntax of creating these tables from dictionaries."
   ]
  },
  {
   "cell_type": "code",
   "execution_count": null,
   "metadata": {},
   "outputs": [],
   "source": [
    "### The following code creates two DataFrames\n",
    "\n",
    "# Make a postal code df\n",
    "postal_codes = pd.DataFrame({\n",
    "    'Name': ['Saad', 'Sally', 'Dan', 'Gretchen'],\n",
    "    'Postal Code': ['2000', '2001', '2002', '2000']\n",
    "})\n",
    "\n",
    "# Make an order id df\n",
    "order_id = pd.DataFrame({\n",
    "    'Name': ['Saad', 'Nick', 'Saad', 'James', 'Steph', 'Gretchen'],\n",
    "    'Order ID': [10001, 10002, 10003, 10004, 10005, 10006]\n",
    "})\n",
    "\n",
    "# Print\n",
    "print(postal_codes)\n",
    "print(\"\\n\")\n",
    "print(order_id)"
   ]
  },
  {
   "cell_type": "markdown",
   "metadata": {},
   "source": [
    "Notices that the **Name** column identifies people in both DataFrames who live in a specific place, and sometimes have ordered something.\n",
    "\n",
    "The four main types of merges are...\n",
    "\n",
    "- **inner merge**, which only keeps information that matches in _both_ DataFrames. In our example, the name `Saad` would be kept in the result of the merge, as it exists in _both_ DataFrames, while `Dan` would not be kept in the join since it only exists in the `postal_codes` dataFrame\n",
    "\n",
    "<br>\n",
    "\n",
    "- **left merge**, which keeps _all_ information in the `left` DataFrame, but throws away non-matches in the `right` DataFrame. In our example, the name `Saad` and `Dan` would be kept as these names exist in the _left_ DataFrame, while `Steph` would not be in the result because her name exists only in the right DataFrame\n",
    "\n",
    "<br>\n",
    "\n",
    "- **right merge**, which keeps _all_ information in the `right` DataFrame, but throws away non-matches in the `left` DataFrame. In our example, the name `Saad` and `Steph` would be kept as these names exist in the _right_ DataFrame, while `Dan` would not be in the result because his name exists only in the left DataFrame\n",
    "\n",
    "<br>\n",
    "\n",
    "- **outer merge**, which keeps _all_ information in the both DataFrames\n",
    "\n",
    "The following code merges the DataFrames **by the 'Name' column**. Note how the **how** statement indicates the **type** of join.\n"
   ]
  },
  {
   "cell_type": "code",
   "execution_count": null,
   "metadata": {},
   "outputs": [],
   "source": [
    "# Inner Merge\n",
    "inner_merge = pd.merge(left=postal_codes, right=order_id, how='inner', on='Name')\n",
    "\n",
    "# Left merge\n",
    "left_merge = pd.merge(left=postal_codes, right=order_id, how='left', on='Name')\n",
    "\n",
    "# Right merge\n",
    "right_merge = pd.merge(left=postal_codes, right=order_id, how='right', on='Name')\n",
    "\n",
    "# Outer merge\n",
    "outer_merge = pd.merge(left=postal_codes, right=order_id, how='outer', on='Name')\n",
    "\n",
    "# Print\n",
    "print(inner_merge)\n",
    "print(\"\\n\")\n",
    "\n",
    "print(left_merge)\n",
    "print(\"\\n\")\n",
    "\n",
    "print(right_merge)\n",
    "print(\"\\n\")\n",
    "\n",
    "print(outer_merge)\n",
    "print(\"\\n\")"
   ]
  },
  {
   "cell_type": "markdown",
   "metadata": {},
   "source": [
    "### Exercise\n",
    "\n",
    "We will practice `groupby` and `merge` in this exercise.\n",
    "\n",
    "- Use `groupby` on `iris_data` to take the mean of the `petal_width` column per species. Store the resulting DataFrame in a variable called `mean_petal_width_df`\n",
    "\n",
    "<br>\n",
    "\n",
    "- Use `merge` to merge `iris_data` with `mean_petal_width_df` on the `species` column. Saved the merged dataframe as `iris_data_merged`\n",
    "\n",
    "<br>\n",
    "\n",
    "- Create a new column called `new_petal_width` by subtracting the column representing the mean petal_width from the petal_width per row. **Be careful**...your column names may have changed after the merge\n",
    "\n",
    "<br>\n",
    "\n",
    "- Use `groupby` on the column you just created to take the mean per species. What is the new mean very close to?"
   ]
  },
  {
   "cell_type": "code",
   "execution_count": null,
   "metadata": {},
   "outputs": [],
   "source": [
    "# Insert your code here\n",
    "\n"
   ]
  },
  {
   "cell_type": "markdown",
   "metadata": {},
   "source": [
    "---\n",
    "\n",
    "# Part 5: Matplotlib and Seaborn\n",
    "\n",
    "**Estimated time:** 30 minutes\n",
    "\n",
    "---\n",
    "\n",
    "[Jump to Top](#Welcome-to-our-ML-Class) | [Previous Section](#Part-4:-NumPy-and-Pandas) | [Next Section](#Downloading-this-notebook) | [Jump to Bottom](#Downloading-this-notebook)\n",
    "\n",
    "## Matplotlib\n",
    "\n",
    "Matplotlib is the most popular Python data visualization and plotting library. Matplotlib works really well with Pandas and Numpy arrays and thus is a very useful tool for Exploratory Data Analysis.\n",
    "\n",
    "The official website and documentation for Matplotlib:\n",
    "https://matplotlib.org/\n",
    "\n",
    "\n",
    "Let's get started by importing the `matplotlib.pyplot` module as `plt`. We will also use the `%matplotlib inline` command to allow us to create plots that render _inside this notebook_."
   ]
  },
  {
   "cell_type": "code",
   "execution_count": null,
   "metadata": {},
   "outputs": [],
   "source": [
    "import matplotlib.pyplot as plt\n",
    "%matplotlib inline"
   ]
  },
  {
   "cell_type": "markdown",
   "metadata": {},
   "source": [
    "Follow the following code to create a plot of `x` by `x**3` (`x` to the third power). The code will also rename the axes/titles of the plot, and specify the color, linestyle, and marker."
   ]
  },
  {
   "cell_type": "code",
   "execution_count": null,
   "metadata": {},
   "outputs": [],
   "source": [
    "# Create x\n",
    "x = np.array(range(10))\n",
    "\n",
    "# Create x**3\n",
    "y = x**3\n",
    "\n",
    "# plot x, y with dashed green line and * markers\n",
    "plt.plot(x, y, linestyle=\"dashed\", color=\"green\", marker=\"*\")\n",
    "\n",
    "# Add titles\n",
    "plt.xlabel(\"X axis\")\n",
    "plt.ylabel(\"Y axis\")\n",
    "plt.title(\"x**3 vs. x\")"
   ]
  },
  {
   "cell_type": "markdown",
   "metadata": {},
   "source": [
    "### Subplots\n",
    "\n",
    "Subplots allow us to print multiple plots in the same area on our notebooks. The following code will create a subplot with **1 row** and **2 columns**. It will then plot on these respective subplots."
   ]
  },
  {
   "cell_type": "code",
   "execution_count": null,
   "metadata": {},
   "outputs": [],
   "source": [
    "# Create x, x_1, x_2\n",
    "x = np.array(range(-10, 10))\n",
    "y_1 = x\n",
    "y_2 = 1 / (1 + np.exp(-x))\n",
    "\n",
    "# Create a figure, and give it a specific size to widen the window\n",
    "plt.figure(figsize=(15, 5))\n",
    "\n",
    "# Plot with (1 row, 2 columns, plot 1)\n",
    "plt.subplot(1,2,1) # plt.subplot(num_of_rows, num_of_columns, plot_number)\n",
    "\n",
    "# plot x, y with red dashed line (subplot number 1)\n",
    "plt.plot(x, y_1, color=\"red\", linestyle=\"dashed\")\n",
    "plt.xlabel(\"x axis\")\n",
    "plt.ylabel(\"y_1 axis\")\n",
    "plt.title(\"y_1 vs. x\")\n",
    "\n",
    "# Plot with (1 row, 2 columns, plot 2)\n",
    "plt.subplot(1,2,2)\n",
    "\n",
    "# plot y, x with green line and * markers (subplot number 2)\n",
    "plt.plot(x, y_2, color=\"green\", linestyle=\"solid\", marker=\"*\")\n",
    "plt.xlabel(\"x axis\")\n",
    "plt.ylabel(\"y_2 axis\")\n",
    "plt.title(\"y_2 vs. x\")"
   ]
  },
  {
   "cell_type": "markdown",
   "metadata": {},
   "source": [
    "### Exercise\n",
    "\n",
    "\n",
    "Let's do an exercise. The code below creates a set of points `y_1` and `y_2` from a `np.array`, `x`, that lists the numbers 1-10. It also creates a subplot with two rows and one column.\n",
    "\n",
    "Plot:\n",
    "\n",
    "* `x vs. y_1` on a upper subplot\n",
    "* Plot `y_1` with green points (`'.'`), without a line\n",
    "* Give a y-axis title called \"y_1 axis\"\n",
    "\n",
    "* `x vs. y_2` on a lower subplot\n",
    "* Plot `y_2` with a red line\n",
    "* Give both an x-axis title called \"x axis\" and a y-axis title called \"y_2 axis\""
   ]
  },
  {
   "cell_type": "code",
   "execution_count": null,
   "metadata": {},
   "outputs": [],
   "source": [
    "# Create arrays\n",
    "x = np.array(range(1, 11))\n",
    "y_1 = x + np.random.choice([-2, 2], size=10) * np.random.rand(10)\n",
    "y_2 = x\n",
    "\n",
    "# Create a figure\n",
    "plt.figure(figsize=(15, 10))\n",
    "\n",
    "# Subplot one\n",
    "plt.subplot(2, 1, 1)\n",
    "\n",
    "# Insert code here for x vs. y_1\n",
    "\n",
    "\n",
    "# Subplot two\n",
    "plt.subplot(2, 1, 2)\n",
    "\n",
    "# Insert code here for x vs. y_2\n",
    "\n"
   ]
  },
  {
   "cell_type": "markdown",
   "metadata": {},
   "source": [
    "## Seaborn\n",
    "\n",
    "Seaborn is another Python data visualization library based on matplotlib. It provides a high-level interface for drawing attractive and informative statistical graphics.\n",
    "\n",
    "For detailed documentation and examples of Seaborn, please visit: https://seaborn.pydata.org/\n",
    "\n",
    "Seaborn is usually imported with a nickname of `sns`."
   ]
  },
  {
   "cell_type": "code",
   "execution_count": null,
   "metadata": {},
   "outputs": [],
   "source": [
    "import seaborn as sns"
   ]
  },
  {
   "cell_type": "markdown",
   "metadata": {},
   "source": [
    "Seaborn comes with in-built datasets. To get a list of all datasets that comes with Seaborn you can use: ```sns.get_dataset_names()``` command. We will use the `tips` dataset."
   ]
  },
  {
   "cell_type": "code",
   "execution_count": null,
   "metadata": {},
   "outputs": [],
   "source": [
    "# Load dataset into a DataFrame\n",
    "tips = sns.load_dataset(\"tips\")\n",
    "\n",
    "# Print the head\n",
    "print(tips.head())"
   ]
  },
  {
   "cell_type": "markdown",
   "metadata": {},
   "source": [
    "## Some basic plots\n",
    "\n",
    "Seaborn makes it easy to plot different types of plots. Here we will show an example of a few.\n",
    "\n",
    "### Heatmap\n",
    "\n",
    "A `heatmap` color codes blocks a lighter or darker color based upon the value that block represents. In this plot, we create a `correlation matrix`, and then use a heatmap to represent higher correlations (lighter boxes), and lower correlations (darker colors)."
   ]
  },
  {
   "cell_type": "code",
   "execution_count": null,
   "metadata": {},
   "outputs": [],
   "source": [
    "# Create correlation matrix\n",
    "tips_corr = tips.corr()\n",
    "\n",
    "# Create heatmap\n",
    "sns.heatmap(tips_corr, annot=True)"
   ]
  },
  {
   "cell_type": "markdown",
   "metadata": {},
   "source": [
    "### Histogram\n",
    "\n",
    "A histogram shows the distribution of univariate (a single column) of data. Here, we graph the distribution of tips given. A higher bar shows that more tips were given within a certain range specified by the x-axis."
   ]
  },
  {
   "cell_type": "code",
   "execution_count": null,
   "metadata": {},
   "outputs": [],
   "source": [
    "# Create a figure\n",
    "plt.figure(figsize=(15, 5))\n",
    "\n",
    "# Graph tips\n",
    "sns.distplot(tips['tip'])\n",
    "\n",
    "# Set axis labels\n",
    "plt.xlabel('Tip Amount')\n",
    "plt.ylabel('Normalized Frequency')"
   ]
  },
  {
   "cell_type": "markdown",
   "metadata": {},
   "source": [
    "### Boxplot\n",
    "\n",
    "A boxplot shows the distribution of data using \"order statistics\", such as the median, IQR and range. We can use a boxplot to show the distribution of tips by sex.\n",
    "\n",
    "In the following example, you will see that females tip slightly less than males within our data."
   ]
  },
  {
   "cell_type": "code",
   "execution_count": null,
   "metadata": {},
   "outputs": [],
   "source": [
    "# Create a figure\n",
    "plt.figure(figsize=(15, 5))\n",
    "\n",
    "\n",
    "# Create boxplot\n",
    "sns.boxplot(x='tip', y='sex', hue='sex', data=tips)"
   ]
  },
  {
   "cell_type": "markdown",
   "metadata": {},
   "source": [
    "### Exercise\n",
    "\n",
    "For this exercise we will use the famous Titanic dataset. The dataset contains data for 887 of the real Titanic passengers. Each row represents one person. The columns describe different attributes about the person including whether they survived.\n",
    "\n",
    "For now we will use the dataset for creating useful visualizations.\n",
    "\n",
    "You don't have to download the dataset since it comes in-built with Seaborn. We will create three plots."
   ]
  },
  {
   "cell_type": "code",
   "execution_count": null,
   "metadata": {},
   "outputs": [],
   "source": [
    "# This loads the dataset\n",
    "titanic = sns.load_dataset('titanic') # load titanic dataset as a pandas dataframe"
   ]
  },
  {
   "cell_type": "code",
   "execution_count": null,
   "metadata": {},
   "outputs": [],
   "source": [
    "titanic.head()"
   ]
  },
  {
   "cell_type": "markdown",
   "metadata": {},
   "source": [
    "Plot a univariate distribution of ```fare``` columns of the titanic dataframe using the seaborn ```distplot()```. Set the number of bins=30 and the color=red."
   ]
  },
  {
   "cell_type": "code",
   "execution_count": null,
   "metadata": {},
   "outputs": [],
   "source": [
    "# Insert code here\n"
   ]
  },
  {
   "cell_type": "markdown",
   "metadata": {},
   "source": [
    "Create a `boxplot()` representing the age breakdown of male and female passengers"
   ]
  },
  {
   "cell_type": "code",
   "execution_count": null,
   "metadata": {},
   "outputs": [],
   "source": [
    "# Insert code here\n"
   ]
  },
  {
   "cell_type": "markdown",
   "metadata": {},
   "source": [
    "Research seaborn's `countplot()`. Create a distribution of number of male and female passengers using seaborn ```countplot()```."
   ]
  },
  {
   "cell_type": "code",
   "execution_count": null,
   "metadata": {},
   "outputs": [],
   "source": [
    "# Insert code here\n"
   ]
  },
  {
   "cell_type": "markdown",
   "metadata": {},
   "source": [
    "# Downloading this notebook\n",
    "\n",
    "If you would like to retain your work **and you are running this through Binder**, please follow the following directions:\n",
    "\n",
    "* On the top of this screen, in the header menu, click \"File\", then \"Download as\" and then \"Notebook\".\n",
    "\n",
    "* You will need to download [Python 3.7 with Anaconda](https://www.anaconda.com/distribution/) to use this in the future.\n",
    "\n",
    "Please let us know if you have any questions :)"
   ]
  }
 ],
 "metadata": {
  "kernelspec": {
   "display_name": "Python 3",
   "language": "python",
   "name": "python3"
  },
  "language_info": {
   "codemirror_mode": {
    "name": "ipython",
    "version": 3
   },
   "file_extension": ".py",
   "mimetype": "text/x-python",
   "name": "python",
   "nbconvert_exporter": "python",
   "pygments_lexer": "ipython3",
   "version": "3.5.4"
  }
 },
 "nbformat": 4,
 "nbformat_minor": 2
}
