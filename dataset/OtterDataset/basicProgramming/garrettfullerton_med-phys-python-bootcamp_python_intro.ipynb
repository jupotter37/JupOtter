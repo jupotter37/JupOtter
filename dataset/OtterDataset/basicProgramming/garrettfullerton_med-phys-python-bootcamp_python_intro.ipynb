{
 "cells": [
  {
   "cell_type": "markdown",
   "metadata": {},
   "source": [
    "# UW-Madison Med Phys Python Bootcamp\n",
    "### August 27, 2024"
   ]
  },
  {
   "cell_type": "markdown",
   "metadata": {},
   "source": [
    "### Table of Contents\n",
    "1. [Introduction](#introduction)\n",
    "2. [Basics of Jupyter Notebooks](#basics-of-jupyter-notebooks)\n",
    "3. [Simple Math Operations](#simple-math-operations)\n",
    "4. [Variables](#variables)\n",
    "5. [Lists & Dictionaries](#lists--dictionaries)\n",
    "6. [Functions](#functions)\n",
    "7. [Methods](#methods)\n",
    "8. [Loops](#loops)\n",
    "9. [Packages](#packages)"
   ]
  },
  {
   "cell_type": "markdown",
   "metadata": {},
   "source": [
    "---"
   ]
  },
  {
   "cell_type": "markdown",
   "metadata": {},
   "source": [
    "## Introduction \n",
    "\n",
    "Welcome! This bootcamp is designed to get everyone up to speed on the basic usage of Python. By the end of the day, you should be familiar with basic mathematical operations in Python and have an understanding of how you can use Python as a tool in your upcoming classes. Whether you're a beginner or already a pro, we hope you consider exploring the powerful and wide-range of applications that Python has to offer!"
   ]
  },
  {
   "cell_type": "markdown",
   "metadata": {},
   "source": [
    "You should have Anaconda installed on your computer. Anaconda is a popular tool called a *package manager*. We'll talk more about packages later, but you just need to know that Anaconda helps keep our different Python environments separate and organized.\n",
    "\n",
    "If you have not already installed Anaconda, please follow the instructions [here](https://docs.anaconda.com/anaconda/install/) to do so."
   ]
  },
  {
   "cell_type": "markdown",
   "metadata": {},
   "source": [
    "---"
   ]
  },
  {
   "cell_type": "markdown",
   "metadata": {},
   "source": [
    "## Basics of Jupyter Notebooks "
   ]
  },
  {
   "cell_type": "markdown",
   "metadata": {},
   "source": [
    "**Jupyter notebooks** are a tool for interactively developing and presenting code projects. They allow you to combine code, outputs, visualization, explanations, formulas, etc. all in one document. \n",
    "\n",
    "Jupyter notebooks work on sectionable *cells* that contain either text or code. Each code cell interfaces with a common knowledge base, making code development and debugging more digestable.\n",
    "\n",
    "Why would I want to use Jupyter notebooks? Well - I'm so glad you asked!\n",
    "- Code Development: You can test parts of your code independently and display results at different points throughout script execution.\n",
    "- Visualization: You can separate data loading, processing, and visualization into separate cells. You can easily adjust your processing or visualization and quickly see the results of your changes.\n",
    "- Homework: Having everything (code + explanations) all in one document makes homework easy to follow and easy to grade!"
   ]
  },
  {
   "cell_type": "markdown",
   "metadata": {
    "vscode": {
     "languageId": "plaintext"
    }
   },
   "source": [
    "An example of a code cell is shown below. Try running this cell by pressing **SHIFT + ENTER** or by pressing the *run* button (a little arrow next to the cell) with your mouse."
   ]
  },
  {
   "cell_type": "code",
   "execution_count": null,
   "metadata": {},
   "outputs": [],
   "source": [
    "print('Hello world!')"
   ]
  },
  {
   "cell_type": "markdown",
   "metadata": {},
   "source": [
    "---"
   ]
  },
  {
   "cell_type": "markdown",
   "metadata": {},
   "source": [
    "## Simple Math Operations"
   ]
  },
  {
   "cell_type": "markdown",
   "metadata": {},
   "source": [
    "Let's begin with basic math operations using Python. Try running the below code cells and see what you get."
   ]
  },
  {
   "cell_type": "code",
   "execution_count": null,
   "metadata": {},
   "outputs": [],
   "source": [
    "# Addition\n",
    "print(7 + 10)\n",
    "\n",
    "# Subtraction\n",
    "print(5 - 3)\n",
    "\n",
    "# Multiplication\n",
    "print(5 * 5)\n",
    "\n",
    "# Division\n",
    "print(10 / 2)\n",
    "\n",
    "# Modulus\n",
    "print(10 % 3)\n",
    "\n",
    "# Exponentiation\n",
    "print(2 ** 3)"
   ]
  },
  {
   "cell_type": "markdown",
   "metadata": {},
   "source": [
    "> #### \"Wait ... Why do we use ** for exponentation? Why not use ^ instead?\"\n",
    "> This is a common Python mistake that many people make! The caret (^) symbol is the bitwise XOR operator in Python. You don't need to know what this means, but just know that you don't use it for exponentation!"
   ]
  },
  {
   "cell_type": "markdown",
   "metadata": {},
   "source": [
    "We can also combine mathematical operations into a single expression. What do you think the following code block will print? Once you have your answer, run the cell to find out."
   ]
  },
  {
   "cell_type": "code",
   "execution_count": null,
   "metadata": {},
   "outputs": [],
   "source": [
    "# Combining operations\n",
    "print(4 * (5 ** 2) + 10 / 2)"
   ]
  },
  {
   "cell_type": "markdown",
   "metadata": {},
   "source": [
    "### Number Manipulation Challenge"
   ]
  },
  {
   "cell_type": "markdown",
   "metadata": {},
   "source": [
    "Your turn! Using each of the arithmetic operators provided in the code cell, find a combination of operations to turn the number **100** into the number **4**. Please only change the numbers on the right-hand side!\n",
    "\n",
    "Remember - You can re-run a cell using the keyboard shortcut **SHIFT + ENTER**.\n",
    "\n",
    "Hint: Try adding print statements between your computations to check the intermediate value of your variable!"
   ]
  },
  {
   "cell_type": "code",
   "execution_count": null,
   "metadata": {},
   "outputs": [],
   "source": [
    "my_variable = 100\n",
    "\n",
    "# ---------------------------------------------------------------------\n",
    "# ----------------------- CHANGE THIS SECTION -------------------------\n",
    "# ---------------------------------------------------------------------\n",
    "# This code uses assignment operators to change the value of my_variable.\n",
    "\n",
    "# Addition\n",
    "my_variable += 96\n",
    "\n",
    "# Subtraction\n",
    "my_variable -= 17\n",
    "\n",
    "# Multiplication\n",
    "my_variable *= 2\n",
    "\n",
    "# Division\n",
    "my_variable /= 2\n",
    "\n",
    "# Modulus\n",
    "my_variable %= 4\n",
    "\n",
    "# Exponentiation\n",
    "my_variable **= 3\n",
    "\n",
    "# ---------------------------------------------------------------------\n",
    "# ---------------------------------------------------------------------\n",
    "# ---------------------------------------------------------------------\n",
    "\n",
    "print(f\"My final answer: {my_variable}\")\n",
    "\n",
    "if my_variable == 4:\n",
    "    print(\"Great job!\")\n",
    "else:\n",
    "    print(\"Try again!\")"
   ]
  },
  {
   "cell_type": "markdown",
   "metadata": {},
   "source": [
    "---"
   ]
  },
  {
   "cell_type": "markdown",
   "metadata": {},
   "source": [
    "## Variables\n",
    "\n",
    "A variable is a specific, case-sensitive name that serves as a placeholder for another value. Every time you use a variable name, Python replaces the variable with the actual value. Variables help make your code reproducible and flexible to changes.\n",
    "\n",
    "Here, we will practice using variables with the quadratic formula: \n",
    "$$x = \\frac {-b \\pm \\sqrt{b^2 -4ac}} {2a}$$"
   ]
  },
  {
   "cell_type": "code",
   "execution_count": null,
   "metadata": {},
   "outputs": [],
   "source": [
    "# the math package is necessary for the square root operation. we will talk more about packages later!\n",
    "import math\n",
    "\n",
    "# Quadratic coefficients\n",
    "a = 4\n",
    "b = 8\n",
    "c = 3\n",
    "\n",
    "x = (-b + math.sqrt(b**2 - 4*a*c)) / (2*a)\n",
    "print(x)"
   ]
  },
  {
   "cell_type": "markdown",
   "metadata": {},
   "source": [
    "Try changing the variables a, b, and c. Do you get a different result for x?"
   ]
  },
  {
   "cell_type": "markdown",
   "metadata": {},
   "source": [
    "Variables can be placeholders for different data types like numbers, strings, and booleans. We can identify the data type of a variable using the ```type()``` function."
   ]
  },
  {
   "cell_type": "code",
   "execution_count": null,
   "metadata": {},
   "outputs": [],
   "source": [
    "print(type(x))"
   ]
  },
  {
   "cell_type": "code",
   "execution_count": null,
   "metadata": {},
   "outputs": [],
   "source": [
    "# Strings - use single or double quotes\n",
    "my_string = \"This is a string!\"\n",
    "print(my_string)\n",
    "print(type(my_string))\n",
    "\n",
    "# Boolean - logical data type\n",
    "# Can be True or False (case sensitive!)\n",
    "my_bool = True\n",
    "print(my_bool)\n",
    "print(type(my_bool))"
   ]
  },
  {
   "cell_type": "markdown",
   "metadata": {},
   "source": [
    "#### Combining Data\n",
    "In Python, we can only combine objects that are the same type. You can convert objects from one type to another with the following functions:\n",
    "\n",
    "* `str()` - convert to string\n",
    "* `int()` - convert to integer\n",
    "* `float()` - convert to float (type of number)\n",
    "* `bool()` - convert to boolean"
   ]
  },
  {
   "cell_type": "code",
   "execution_count": null,
   "metadata": {},
   "outputs": [],
   "source": [
    "my_number = 5\n",
    "\n",
    "# Can you figure out what this will print? If you get an error, can you fix it?\n",
    "print(\"My number is: \" + my_number)"
   ]
  },
  {
   "cell_type": "code",
   "execution_count": null,
   "metadata": {},
   "outputs": [],
   "source": [
    "# Integer examples\n",
    "print(1 + 2)\n",
    "\n",
    "# True = 1, False = 0\n",
    "print(1 + 2 + True)\n",
    "\n",
    "# An integer character can be converted from string to integer\n",
    "print(1 + 2 + int(\"5\"))"
   ]
  },
  {
   "cell_type": "markdown",
   "metadata": {},
   "source": [
    "---"
   ]
  },
  {
   "cell_type": "markdown",
   "metadata": {},
   "source": [
    "## Lists & Dictionaries\n",
    "We use lists in Python to store multiple items in a single variable. \n",
    "\n",
    "Characteristics of lists:\n",
    "* Lists are created using square brackets `[]`\n",
    "* **Ordered**: list items are indexed, the first item has index `[0]`, the second item has index `[1]` and so on\n",
    "* **Changeable**: list items can be changed, added, and removed after it has been created\n",
    "* **Duplicates**: lists can have items with the same value"
   ]
  },
  {
   "cell_type": "code",
   "execution_count": null,
   "metadata": {},
   "outputs": [],
   "source": [
    "# String list\n",
    "list_str = [\"a\", \"b\", \"c\", \"d\"]\n",
    "print(list_str)\n",
    "\n",
    "# Integer list\n",
    "list_int = [1, 2, 3, 4]\n",
    "print(list_int)\n",
    "\n",
    "# Boolean list\n",
    "list_bool = [True, False, True, False]\n",
    "print(list_bool)"
   ]
  },
  {
   "cell_type": "markdown",
   "metadata": {},
   "source": [
    "In Python, the + operator can be used to concatenate lists. What do you think the following code block will print? Once you have your answer, run the cell to find out."
   ]
  },
  {
   "cell_type": "code",
   "execution_count": null,
   "metadata": {},
   "outputs": [],
   "source": [
    "print(list_int + [10])"
   ]
  },
  {
   "cell_type": "markdown",
   "metadata": {},
   "source": [
    "#### Indexing lists\n",
    "Python uses **zero-based** indexing. The first element in a list has index 0, the second element in a list has index 1, etc.\n",
    "\n",
    " **Note: This is different from MATLAB's indexing, which starts at 1!**"
   ]
  },
  {
   "cell_type": "markdown",
   "metadata": {},
   "source": [
    "Some common list operations:\n",
    "* Get the first element of a list: ```my_list[0]```\n",
    "* Get the last element of a list: ```my_list[-1]```\n",
    "* Get the Nth through Mth elements of a list: ```my_list[N-1:M]```"
   ]
  },
  {
   "cell_type": "markdown",
   "metadata": {},
   "source": [
    "This last one is called **slicing** a list. This is used to select a range of elements. The result is a new list with the chosen elements.\n",
    "`my_list[start:end]`\n",
    "* **start** index will be included\n",
    "* **end** index will NOT be included"
   ]
  },
  {
   "cell_type": "code",
   "execution_count": null,
   "metadata": {},
   "outputs": [],
   "source": [
    "# Try to predict the output of this code cell before you run it!\n",
    "my_list = [\"Medical\", \"Physics\", 2024, True, 3.14, \":)\"]\n",
    "print(my_list)\n",
    "\n",
    "# Accessing elements in a list\n",
    "print(my_list[0])\n",
    "\n",
    "print(my_list[1])\n",
    "\n",
    "print(my_list[-1])\n",
    "\n",
    "print(my_list[-2])\n",
    "\n",
    "print(my_list[1:3])\n",
    "\n",
    "print(my_list[1:])\n",
    "\n",
    "print(my_list[:])"
   ]
  },
  {
   "cell_type": "markdown",
   "metadata": {},
   "source": [
    "To get the length of a list, use the ```len()``` function on your list."
   ]
  },
  {
   "cell_type": "code",
   "execution_count": null,
   "metadata": {},
   "outputs": [],
   "source": [
    "print(len(my_list))"
   ]
  },
  {
   "cell_type": "code",
   "execution_count": null,
   "metadata": {},
   "outputs": [],
   "source": [
    "print(len(my_list[1:3]))"
   ]
  },
  {
   "cell_type": "markdown",
   "metadata": {},
   "source": [
    "### Dictionaries\n",
    "\n",
    "Dictionaries are structures in Python that store data in **key:value** pairs. They provide efficient ways to store, manipulate, and access data.\n",
    "\n",
    "Dictionaries are created using curly brackets around a collection of key:value pairs. An example dictionary is shown below:\n",
    "```python\n",
    "my_dict = {key1: value1,\n",
    "           key2: value2,\n",
    "           key3: value3}\n",
    "```\n",
    "\n",
    "The value stored under the key ```key1``` may be accessed using the following syntax:\n",
    "```python\n",
    "my_dict[key1]\n",
    "```\n",
    "\n",
    "See the code cells below for examples of dictionaries in Python."
   ]
  },
  {
   "cell_type": "code",
   "execution_count": null,
   "metadata": {},
   "outputs": [],
   "source": [
    "my_student_dict = {\n",
    "    \"name\": \"Alice\",\n",
    "    \"major\": \"Physics\",\n",
    "    \"is_student\": False,\n",
    "}\n",
    "\n",
    "print(my_student_dict)\n",
    "\n",
    "# Accessing elements in a dictionary\n",
    "if my_student_dict[\"is_student\"]:\n",
    "    print(f\"{my_student_dict['name']} is a {my_student_dict['major']} major.\")\n",
    "else:\n",
    "    print(f\"{my_student_dict['name']} is not a student.\")"
   ]
  },
  {
   "cell_type": "markdown",
   "metadata": {},
   "source": [
    "We can also easilly add new elements to a dictionary by indexing a new key and assigning a value."
   ]
  },
  {
   "cell_type": "code",
   "execution_count": null,
   "metadata": {},
   "outputs": [],
   "source": [
    "my_student_dict[\"grad_year\"] = 2024\n",
    "print(my_student_dict)\n",
    "\n",
    "# Accessing elements in a dictionary\n",
    "if my_student_dict[\"is_student\"]:\n",
    "    print(f\"{my_student_dict['name']} is a {my_student_dict['major']} major who will graduate in {my_student_dict['grad_year']}.\")\n",
    "else:\n",
    "    print(f\"{my_student_dict['name']} is not a student and will not graduate in {my_student_dict['grad_year']}.\")"
   ]
  },
  {
   "cell_type": "markdown",
   "metadata": {},
   "source": [
    "We can get a list of all the keys in a dictionary using the following syntax:\n",
    "\n",
    "```python\n",
    "all_dict_keys = list(my_dict.keys())\n",
    "```\n",
    "\n",
    "See if you can predict what the following code cell will produce before you run it!"
   ]
  },
  {
   "cell_type": "code",
   "execution_count": null,
   "metadata": {},
   "outputs": [],
   "source": [
    "all_dict_keys = list(my_student_dict.keys())\n",
    "\n",
    "print(all_dict_keys)"
   ]
  },
  {
   "cell_type": "markdown",
   "metadata": {},
   "source": [
    "---"
   ]
  },
  {
   "cell_type": "markdown",
   "metadata": {},
   "source": [
    "## Functions\n",
    "\n",
    "A function is a piece of reusable code that performs a specific task. Functions make our code easier to read, write, and understand by simplifying complex sections of code into a single command. My rule of thumb - if you ever find yourself writing a piece of code multiple times, it should be a function instead :)\n",
    "\n",
    "You've already been using functions throughout this bootcamp! See the code cell below for more examples of built-in Python functions."
   ]
  },
  {
   "cell_type": "code",
   "execution_count": null,
   "metadata": {},
   "outputs": [],
   "source": [
    "# Example built-in functions\n",
    "ages = [25, 40, 62, 55, 70]\n",
    "average_age = sum(ages) / len(ages)\n",
    "oldest_age = max(ages)\n",
    "youngest_age = min(ages)\n",
    "\n",
    "sorted_ages = sorted(ages)\n",
    "median_age = sorted_ages[len(sorted_ages) // 2] # select the center element of the sorted list\n",
    "\n",
    "print(f\"Number of people: {len(ages)}\")\n",
    "print(f\"Average age: {average_age:.1f}\")\n",
    "print(f\"Rounded average age: {round(average_age)}\")\n",
    "print(f\"Oldest age: {oldest_age}\")\n",
    "print(f\"Youngest age: {youngest_age}\")\n",
    "\n",
    "print(f\"Sorted ages: {sorted_ages}\")\n",
    "print(f\"Median age: {median_age}\")"
   ]
  },
  {
   "cell_type": "markdown",
   "metadata": {},
   "source": [
    "We can also define our own functions using the ```def``` keyword. Custom functions use the following form:\n",
    "```python\n",
    "def my_function(my_input_1, my_input_2, my_input_3):\n",
    "    # your code goes here\n",
    "    ...\n",
    "    return my_output_1, my_output_2\n",
    "```\n"
   ]
  },
  {
   "cell_type": "markdown",
   "metadata": {},
   "source": [
    "Examples of custom functions are shown in the code cell below. Run the cell and see what you get!"
   ]
  },
  {
   "cell_type": "code",
   "execution_count": null,
   "metadata": {},
   "outputs": [],
   "source": [
    "# Defining a simple function\n",
    "def greet(name):\n",
    "    return f\"Hello, {name}!\"\n",
    "\n",
    "# Using the function\n",
    "my_name = \"\" # your name here :)\n",
    "message = greet(my_name)\n",
    "print(message)\n",
    "\n",
    "# Function with default parameter\n",
    "def power(base, exponent=2):\n",
    "    return base ** exponent\n",
    "\n",
    "print(power(3))    # 3^2\n",
    "print(power(3, 3)) # 3^3"
   ]
  },
  {
   "cell_type": "markdown",
   "metadata": {},
   "source": [
    "#### Compraison Operators\n",
    "Comparison operators look at two different variables and compare them, returning a boolean (```True``` or ```False```) depending on what's compared. Any variable type can be compared, however these are typically used for numercial comparisons. These comparisons include:\n",
    "* Equivalent to ```==```\n",
    "* Not equal to ```!=```\n",
    "* Greater than ```>```\n",
    "* Less than ```<```\n",
    "* Greater than or equal to ```>=```\n",
    "* Less than or equal to ```<=```\n",
    "\n",
    "Examples of comparison operators inside of functions are shown in the cell below. See if you can predict what the outputs will be before running the cell!"
   ]
  },
  {
   "cell_type": "code",
   "execution_count": null,
   "metadata": {},
   "outputs": [],
   "source": [
    "# talk about comparison operators\n",
    "# Function with comparison operators\n",
    "def is_adult(age):\n",
    "    return age >= 18\n",
    "\n",
    "print(is_adult(20))  # True\n",
    "print(is_adult(15))  # False\n",
    "\n",
    "# Function with logical operators\n",
    "def is_valid_score(score):\n",
    "    return score >= 0 and score <= 100\n",
    "\n",
    "print(is_valid_score(75))   # True\n",
    "print(is_valid_score(150))  # False"
   ]
  },
  {
   "cell_type": "markdown",
   "metadata": {},
   "source": [
    "#### If/Else Statements\n",
    "If / Else statements consider a boolean, checking if it is either True or False. If it is True, the code under the ```if``` statement runs, however if it is False, the code under the ```else``` statement runs.\n",
    "\n",
    "A ```elif``` statement (or multiple) can be included between the ```if``` and ```else``` statements to evaluate additional conditions if the first condition was false.\n",
    "\n",
    "\n",
    "if / else statements follow the following basic structure:\n",
    "```python\n",
    "if my_condition:\n",
    "    print(True)\n",
    "elif my_other_condition:\n",
    "    print(True)\n",
    "else:\n",
    "    print(False)\n",
    "```\n",
    "\n",
    "the variable ```my_condition``` only needs to be evaluated once in the ```if``` statement, meanwhile the ```else``` statment is just inferred. Both statements end with a colon ```:``` marking the beging of the statement.\n",
    "\n",
    "Depending on if the variable is True or False, it will run one of the code ```blocks``` which are marked below the respective statements and defined using white spaced / indents (either spaces or tabs). Any uninterupted lines of code that share the same indentation can be considered to be in the same block.\n",
    "\n",
    "\n",
    "Examples of if/else statements inside of functions are shown in the cell below. See if you can predict what the outputs will be before running the cell!"
   ]
  },
  {
   "cell_type": "code",
   "execution_count": null,
   "metadata": {},
   "outputs": [],
   "source": [
    "# talk about if statements\n",
    "# Function with if statement\n",
    "def grade_score(score):\n",
    "    if score >= 90:\n",
    "        return \"A\"\n",
    "    elif score >= 80:\n",
    "        return \"B\"\n",
    "    elif score >= 70:\n",
    "        return \"C\"\n",
    "    elif score >= 60:\n",
    "        return \"D\"\n",
    "    else:\n",
    "        return \"F\"\n",
    "\n",
    "print(grade_score(95))  # A\n",
    "print(grade_score(82))  # B\n",
    "print(grade_score(45))  # F\n",
    "\n",
    "# Function with if statement and return\n",
    "def absolute_value(number):\n",
    "    if number >= 0:\n",
    "        return number\n",
    "    else:\n",
    "        return -number\n",
    "\n",
    "print(absolute_value(5))   # 5\n",
    "print(absolute_value(-3))  # 3"
   ]
  },
  {
   "cell_type": "markdown",
   "metadata": {},
   "source": [
    "---"
   ]
  },
  {
   "cell_type": "markdown",
   "metadata": {},
   "source": [
    "## Methods\n",
    "Methods are functions that belong to Python objects (values, data structures, etc). They are used with *dot notation*. Some methods change the object they're called on, and others don't!\n",
    "\n",
    "Common **string** methods include:\n",
    "* `capitalize()` - returns a copy of the original string and converts the first character of the string to a capital (uppercase) letter while making all other characters in the string lowercase letters.\n",
    "* `replace()` - returns a copy of the string with all occurrences of                 substring old replaced by new.\n",
    "* `upper()` - returns the uppercase string from the given string.\n",
    "* `index()` - returns the index of the specified element in the string.\n",
    "* `count()` - returns the number of times the specified value appears in the string."
   ]
  },
  {
   "cell_type": "code",
   "execution_count": null,
   "metadata": {},
   "outputs": [],
   "source": [
    "my_string = \"pHysiCs RoCkS!\"\n",
    "\n",
    "print(my_string.lower())\n",
    "print(my_string.upper())\n",
    "print(my_string.capitalize())\n",
    "\n",
    "# The original string is not modified by the above methods\n",
    "print(my_string)"
   ]
  },
  {
   "cell_type": "code",
   "execution_count": null,
   "metadata": {},
   "outputs": [],
   "source": [
    "# We can also chain together string methods!\n",
    "print(my_string.lower().replace(\"physics\", \"programming\").capitalize())"
   ]
  },
  {
   "cell_type": "code",
   "execution_count": null,
   "metadata": {},
   "outputs": [],
   "source": [
    "# Let's use string methods to isolate a filename from a path\n",
    "my_path = \"/home/user/data/file.txt\"\n",
    "split_path = my_path.split(\"/\")\n",
    "print(split_path)\n",
    "\n",
    "filename = split_path[-1]\n",
    "print(f\"The filename is: {filename}\")"
   ]
  },
  {
   "attachments": {},
   "cell_type": "markdown",
   "metadata": {},
   "source": [
    "Common **list** methods include:\n",
    "* `copy()` - copies the list into a new object.\n",
    "* `index()` - returns the index of the specified element in the list.\n",
    "* `count()` - returns the number of times the specified element appears in the list\n",
    "* `append()` - adds an item to the end of the list.\n",
    "* `remove()` - removes the first matching element of a list\n",
    "* `pop()` - removes the item at the specified index"
   ]
  },
  {
   "cell_type": "code",
   "execution_count": null,
   "metadata": {},
   "outputs": [],
   "source": [
    "colors = [\"red\", \"green\", \"blue\", \"yellow\", \"purple\", \"blue\"]\n",
    "\n",
    "# What do you think the following code will print?\n",
    "print(colors)\n",
    "print(colors.count(\"blue\"))\n",
    "print(colors.index(\"yellow\"))"
   ]
  },
  {
   "cell_type": "markdown",
   "metadata": {},
   "source": [
    "The following list methods modify the list in place.\n",
    "This means that the list is changed and the original list is lost.\n",
    "\n",
    "See if you can predict what the list will look like after each of these methods is called!"
   ]
  },
  {
   "cell_type": "code",
   "execution_count": null,
   "metadata": {},
   "outputs": [],
   "source": [
    "colors_copy = colors.copy()\n",
    "print(colors)"
   ]
  },
  {
   "cell_type": "code",
   "execution_count": null,
   "metadata": {},
   "outputs": [],
   "source": [
    "colors.append(\"orange\")\n",
    "print(colors)"
   ]
  },
  {
   "cell_type": "code",
   "execution_count": null,
   "metadata": {},
   "outputs": [],
   "source": [
    "colors.insert(2, \"black\")\n",
    "print(colors)"
   ]
  },
  {
   "cell_type": "code",
   "execution_count": null,
   "metadata": {},
   "outputs": [],
   "source": [
    "colors.pop(3)\n",
    "print(colors)"
   ]
  },
  {
   "cell_type": "code",
   "execution_count": null,
   "metadata": {},
   "outputs": [],
   "source": [
    "colors.sort()\n",
    "print(colors)"
   ]
  },
  {
   "cell_type": "code",
   "execution_count": null,
   "metadata": {},
   "outputs": [],
   "source": [
    "colors.reverse()\n",
    "print(colors)"
   ]
  },
  {
   "cell_type": "code",
   "execution_count": null,
   "metadata": {},
   "outputs": [],
   "source": [
    "print(colors_copy)"
   ]
  },
  {
   "cell_type": "markdown",
   "metadata": {},
   "source": [
    "---"
   ]
  },
  {
   "cell_type": "markdown",
   "metadata": {},
   "source": [
    "## Loops\n",
    "\n",
    "Loops are a structure in Python used to repeat a sequence of code multiple times. There are two primary types of loops: **while** loops and **for** loops."
   ]
  },
  {
   "cell_type": "markdown",
   "metadata": {},
   "source": [
    "#### ```while``` Loops\n",
    "**While** loops are used when we don't know how many times we want to run the code inside of the loop before stopping. \n",
    "\n",
    "The general structure of a **while** loop is as follows:\n",
    "\n",
    "```python\n",
    "while condition:\n",
    "    ...\n",
    "    # your code here\n",
    "```\n",
    "\n",
    "The above loop will evaluate the ```condition``` on every iteration of the loop. If it is true, the code inside the loop will run. If it is false, the code inside the loop will not run.\n",
    "\n",
    "See the examples below to better understand the structure and usage of a **while** loop!"
   ]
  },
  {
   "cell_type": "code",
   "execution_count": null,
   "metadata": {},
   "outputs": [],
   "source": [
    "i = 0\n",
    "\n",
    "while i < 5:\n",
    "    print(i)\n",
    "    i += 1\n",
    "    \n",
    "# The code inside of the loop will run 5 times. The loop will stop when i is no longer less than 5."
   ]
  },
  {
   "cell_type": "markdown",
   "metadata": {},
   "source": [
    "**While** loops can be useful if you want to iteratively perform a series of calculations until you converge to a solution. Let's look at an example of this using Newton's method for finding the square root of a number. A brief explanation of Newton's method of finding the square root of a number **a** is shown below."
   ]
  },
  {
   "cell_type": "markdown",
   "metadata": {},
   "source": [
    "Given a number $a$ and an initial point $x_{1}$, the series $$x_{n+1}=\\frac{1}{2}\\left(x_n + \\frac{a}{x_n}\\right)$$ will converge to $\\sqrt{a}$."
   ]
  },
  {
   "cell_type": "code",
   "execution_count": null,
   "metadata": {},
   "outputs": [],
   "source": [
    "# See what happens if you change the value of a or the value of your initial guess x_1!\n",
    "a = 80\n",
    "x_1 = 1\n",
    "\n",
    "# The variable step_difference is used to calculate the difference between x_{n+1} and x_{n}. \n",
    "# If this value is less than the tolerance, the loop will stop.\n",
    "step_difference = 1\n",
    "tolerance = 1e-6\n",
    "\n",
    "while step_difference > tolerance:\n",
    "    x_2 = 0.5 * (x_1 + a / x_1)\n",
    "    step_difference = abs(x_2 - x_1)\n",
    "    \n",
    "    # Print the current value of x_{n+1} at each iteration\n",
    "    print(x_2)\n",
    "    \n",
    "    # At the end of each iteration, set x_{n} = x_{n+1}\n",
    "    x_1 = x_2\n",
    "    \n",
    "# The code inside of the loop will run until the difference between x_{n+1} and x_{n} is less than the tolerance.\n",
    "print(f\"The square root of {a} using Newton's method is: {x_2:.3f}\")\n",
    "\n",
    "print(f\"The square root of {a} using the built-in math package is: {math.sqrt(a):.3f}\")"
   ]
  },
  {
   "attachments": {},
   "cell_type": "markdown",
   "metadata": {},
   "source": [
    "#### ```for``` Loops\n",
    "**For** loops are used when we know how many times we want to run the code inside of the loop before stopping. These are especially useful if we are looping over objects inside a list.\n",
    "\n",
    "The general structure of a **for** loop is as follows:\n",
    "\n",
    "```python\n",
    "for item in list_of_items:\n",
    "    ...\n",
    "    # your code here\n",
    "```\n",
    "\n",
    "The above loop will evaluate the code inside the loop for every ```item``` inside the list ```list_of_items```. This will continue until the set number of iterations has been completed or an early-stopping condition is met.\n",
    "\n",
    "Python ```for``` loops are often paired with the built-in function `range`. This function produces an *iterable* object (i.e. like a list) that counts from a starting point, until an ending point, by a given step size:\n",
    "\n",
    "```python\n",
    "for i in range(start=0, stop=4, step=1):\n",
    "```\n",
    "By default, the starting point is 0 with a step size of 1, meaning the only thing you need to provide is the stopping point. The below example produces the same as the above:\n",
    "```python\n",
    "for i in range(4):\n",
    "```\n",
    "\n",
    "See the examples below to better understand the structure and usage of a **for** loop!"
   ]
  },
  {
   "cell_type": "code",
   "execution_count": null,
   "metadata": {},
   "outputs": [],
   "source": [
    "for i in range(0, 4, 1):\n",
    "    print(i)"
   ]
  },
  {
   "attachments": {},
   "cell_type": "markdown",
   "metadata": {},
   "source": [
    "Iterating through a list"
   ]
  },
  {
   "cell_type": "code",
   "execution_count": null,
   "metadata": {},
   "outputs": [],
   "source": [
    "my_list = [1, 2, 3, 4, 5]\n",
    "my_new_list = []\n",
    "\n",
    "for number in my_list:\n",
    "    my_new_list.append(number ** 2)\n",
    "    \n",
    "print(my_new_list)"
   ]
  },
  {
   "cell_type": "markdown",
   "metadata": {},
   "source": [
    "We can use the ```enumerate``` function on our list to simultaneously iterate over a list of items and retrieve each item's index."
   ]
  },
  {
   "cell_type": "code",
   "execution_count": null,
   "metadata": {},
   "outputs": [],
   "source": [
    "my_colors = [\"red\", \"green\", \"blue\", \"yellow\", \"purple\"]\n",
    "\n",
    "for index, color in enumerate(my_colors):\n",
    "    print(f\"Color at index {index}: {color}\")"
   ]
  },
  {
   "cell_type": "markdown",
   "metadata": {},
   "source": [
    "```break``` and ```continue``` are special keywords in loops that change the current loop execution. If the ```break``` keyword is seen, then we will immediately exit the loop. If the ```continue``` keyword is seen, then we will jump to the next iteration of the loop."
   ]
  },
  {
   "cell_type": "code",
   "execution_count": null,
   "metadata": {},
   "outputs": [],
   "source": [
    "# Can you predict what this code will print?\n",
    "my_list = [1, 2, 3, 4, 5, 6, 7, 8, 9, 10]\n",
    "my_new_list = []\n",
    "\n",
    "for number in my_list:\n",
    "    if number % 2 == 0:\n",
    "        continue\n",
    "    elif number == 7:\n",
    "        break\n",
    "    \n",
    "    my_new_list.append(number ** 2)\n",
    "    \n",
    "print(my_new_list)"
   ]
  },
  {
   "cell_type": "markdown",
   "metadata": {},
   "source": [
    "A common usage of ```for``` loops is to perform a specific task on each file in a directory of files. \n",
    "\n",
    "Let's see how we can use a **for** loop to read each file in the directory *example_files* and count its number of lines. We'll store the results in a dictionary (a structure that stores data in key-value pairs)."
   ]
  },
  {
   "cell_type": "code",
   "execution_count": null,
   "metadata": {},
   "outputs": [],
   "source": [
    "# We use the os package to interact with the file system\n",
    "import os\n",
    "\n",
    "# # If you are using google colab, uncomment this: (command + `/` [for mac])\n",
    "# from google.colab import drive\n",
    "# drive.mount('/content/drive')\n",
    "# %cd /content/drive/MyDrive/med-phys-python-bootcamp\n",
    "\n",
    "path = \"./example_files\"\n",
    "\n",
    "my_files = os.listdir(path)\n",
    "print(my_files)"
   ]
  },
  {
   "cell_type": "code",
   "execution_count": null,
   "metadata": {},
   "outputs": [],
   "source": [
    "# Can you predict what this code will print?\n",
    "line_number_count_dictionary = {}\n",
    "\n",
    "for file in sorted(my_files):\n",
    "    print(f\"Reading {file}\")\n",
    "    \n",
    "    # This syntax is used to open a file in read mode\n",
    "    with open(os.path.join(path, file), \"r\") as open_file:\n",
    "        # The readlines() method reads the entire file into a list of strings\n",
    "        # Using brackets, we add the key (file) and value (number of lines) to our dictionary\n",
    "        line_number_count_dictionary[file] = len(open_file.readlines())\n",
    "        \n",
    "print(line_number_count_dictionary)"
   ]
  },
  {
   "cell_type": "markdown",
   "metadata": {},
   "source": [
    "---"
   ]
  },
  {
   "cell_type": "markdown",
   "metadata": {},
   "source": [
    "## Packages\n",
    "\n",
    "Packages are directories of Python scripts, and each script is a module that focuses on a specific task. There are *thousands* of packages available!\n",
    "\n",
    "Some relevant ones:\n",
    "* [numpy](https://numpy.org/doc/stable/index.html) (numeric computation)\n",
    "* [matplotlib](https://matplotlib.org/) (plotting and data visualization)\n",
    "* [scikit-learn](https://scikit-learn.org/stable/) (machine learning and data processing)\n",
    "* [pandas](https://pandas.pydata.org/) (dataframes and interfacing with spreadsheets)\n",
    "* [os](https://docs.python.org/3/library/os.html) (interacting with the file system)\n",
    "* [glob](https://docs.python.org/3/library/glob.html) (dealing with path names)\n",
    "* [pydicom](https://pydicom.github.io/) (working with dicom files and medical images)\n",
    "\n",
    "The best way to find the packages you need is by searching online. Anaconda already has many packages installed, and you can install more packages using ```pip install```. Python packages will typically have online documentation with installation instructions."
   ]
  },
  {
   "cell_type": "markdown",
   "metadata": {},
   "source": [
    "Try running the below cell to install the package ```seaborn```. [Seaborn](https://seaborn.pydata.org/) is another graphics library that is useful for plotting and data visualization. You may find that it is already installed!"
   ]
  },
  {
   "cell_type": "code",
   "execution_count": null,
   "metadata": {},
   "outputs": [],
   "source": [
    "%pip install seaborn"
   ]
  },
  {
   "cell_type": "markdown",
   "metadata": {},
   "source": [
    "To use packages in Python, you must first ```import``` the package.\n",
    "\n",
    "```python\n",
    "import numpy\n",
    "numpy.array([1, 2, 3])\n",
    "```\n",
    "\n",
    "You may also create an alias (a nickname) for an imported package using the ```as``` keyword in your import statement.\n",
    "\n",
    "```python\n",
    "import numpy as np\n",
    "np.array([1, 2, 3])\n",
    "```"
   ]
  },
  {
   "cell_type": "markdown",
   "metadata": {},
   "source": [
    "We highly encourage everyone to explore the online documentation for the Python packages that are relevant to your work.\n",
    "\n",
    "The below cell shows an example of how we might use popular Python packages to create and visualize data."
   ]
  },
  {
   "cell_type": "code",
   "execution_count": null,
   "metadata": {},
   "outputs": [],
   "source": [
    "# Try changing the parameters of the plot to see how it affects the output!\n",
    "%matplotlib inline\n",
    "import numpy as np\n",
    "import matplotlib.pyplot as plt\n",
    "\n",
    "# Generate some data\n",
    "x = np.linspace(0, 10, 1000)\n",
    "y_1 = np.sin(x)\n",
    "y_2 = np.cos(x ** 2)\n",
    "\n",
    "# Create a figure\n",
    "fig = plt.figure()\n",
    "plt.plot(x, y_1, label=\"sin(x)\", color=\"green\", linestyle=\"-.\")\n",
    "plt.plot(x, y_2, label=\"cos(x^2)\", color=\"gray\", linewidth=2)\n",
    "plt.xlabel(\"x\")\n",
    "plt.ylabel(\"y\")\n",
    "plt.title(\"my functions\")\n",
    "plt.legend(loc=\"upper right\")\n",
    "\n",
    "plt.show()"
   ]
  },
  {
   "cell_type": "markdown",
   "metadata": {},
   "source": [
    "---"
   ]
  }
 ],
 "metadata": {
  "kernelspec": {
   "display_name": "cadq",
   "language": "python",
   "name": "python3"
  },
  "language_info": {
   "codemirror_mode": {
    "name": "ipython",
    "version": 3
   },
   "file_extension": ".py",
   "mimetype": "text/x-python",
   "name": "python",
   "nbconvert_exporter": "python",
   "pygments_lexer": "ipython3",
   "version": "3.10.13"
  },
  "vscode": {
   "interpreter": {
    "hash": "0ec5992d6f28419b9bba1c7e3ed1e10c5403fce73b2e71b0ccfaf2969821c5eb"
   }
  }
 },
 "nbformat": 4,
 "nbformat_minor": 2
}
