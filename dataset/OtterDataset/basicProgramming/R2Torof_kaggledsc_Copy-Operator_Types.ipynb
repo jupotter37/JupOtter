{
 "cells": [
  {
   "cell_type": "markdown",
   "id": "6084d75e",
   "metadata": {},
   "source": [
    "# Introduction to Programming Kaggle Course\n",
    "#### Notes and practice from course\n",
    "###### <u>*The following rules for references apply in markdown notes*<u>\n",
    "###### - *Things in \"quotes\" in markdown are direct quotes from ***Coding for Beginner's In Easy Steps 2nd Edition*** book*\n",
    "###### - *Things in 'quotes' in markdown are direct quotes from ***Kaggle Course*** okay*"
   ]
  },
  {
   "cell_type": "markdown",
   "id": "8cff253f-71c4-4711-9c73-acf05e873a8d",
   "metadata": {},
   "source": [
    "# **Definitions**"
   ]
  },
  {
   "cell_type": "markdown",
   "id": "3d2e30ff-cd26-421e-add0-a23a77b9e03f",
   "metadata": {},
   "source": [
    "## I. **<u>Terms</u>**\n",
    "\n",
    "| Word | Definition | How its used | Purpose | Example  | Example Explanation |\n",
    "| ---- | ---------- | ------------ | ------- | -------- | ------------------- |\n",
    "| <font color=\"MediumPurple\"> **Literal** </font> | A **FIXED** value in code that represents a specific data type directly. | Provides **FIXED** data values | | | |\n",
    "| | Are **constant** values that represent data directly | 1. **Initialize** <font color=\"DarkCyan\"> **variables** </font> | To set the initial value of a variable when the variable is first declared |' <font color=\"DarkCyan\"> **x** </font> <font color=\"GoldenRod\">  **=**  </font> <font color=\"MediumPurple\"> **5** </font> ' | Initialize the variable '<font color=\"DarkCyan\"> **x** </font>' with the literal '<font color=\"MediumPurple\"> **5** </font>'. Meaning that the literal '<font color=\"MediumPurple\"> **5** </font>' initializes the variable '<font color=\"DarkCyan\">**x**</font>' with an **initial VALUE** of '**5**' |\n",
    "| | | 2. Provide Data **Directly** in Code | Use a <font color=\"MediumPurple\"> ***literal*** </font> to directly include specific data within your code, even if it's not related to variable initialization | ***print(*** <font color=\"MediumPurple\"> **\"Hello, World!\"** </font> ***)*** | Here **'** <font color=\"MediumPurple\"> **\"Hello, World!\"** </font> is a **String Literal** that provides data DIRECTLY in the code, and it's not being used to initialize a variable in this context. |\n",
    "| | | | | | |\n",
    "| <font color=\"Magenta\"> **Value** </font> | A **specific instance** of a data type that can **CHANGE** during program execution | The same variable can be assigned many values throughout the code execution. Because by definition a variable is variable. When you are changing whats assigned to a variable the thing you are assigning the variable is then called a <font color=\"Magenta\"> **Value** </font> | In the same program assign x the integer '5' | x = <font color=\"Magenta\"> **5** </font> | the **integer '5'** represents a value in this case |\n",
    "| | Represents data that can **CHANGE**| | Later on change x to the text string \"World\" | x = <font color=\"Magenta\"> **\"World\"** </font> | the **text string \"World\"** represents a value in this case since it replaced the integer '5'|\n",
    "| | | | Even later on change x to the Boolean value of 'False' | x = <font color=\"Magenta\"> **False** </font> | the **Boolean value** represents a value because it replaced the text string which replaced the integer\"|\n",
    "| | | | | | |\n",
    "| <font color=\"Orange\">**Operand**</font> | The name used for the <font color=\"DarkCyan\"> ***Variables*** </font> **or** <font color=\"Magenta\"> **Values** </font>  **or** <font color=\"Purple\"> **Expressions** </font> that are used in operations or <font color=\"purple\"> **Expressions** </fonts> | Identifiable because they are values separated by **Operators** in an <font color=\"purple\"> **expression** </font> ***or*** **operation** ***or*** <font color=\"purple\"> **statement**</font> | Used in calculations **or** comparisons in expressions | | |\n",
    "| | | | All the following are true for the following expression| Expression '**y + 3**' | **Operands** = '<font color=\"Orange\"> **y** </font>' AND '<font color=\"Orange\"> **3** </font>' | \n",
    "| | | | | | **Operators** = '<font color=\"GoldenRod\"> **+** </font>' | \n",
    "| | | | | | if looked at alone then the ***'y'*** can be a <font color=\"DarkCyan\"> **variable** </font> that holds a <font color=\"Magenta\"> **value** </font> **or** or a <font color=\"MediumPurple\"> **literal** </font> |\n",
    "| | | | | | if looked at alone if not within an expression then the **'3'** would be considered a <font color=\"MediumPurple\"> **literal** </font> |\n",
    "| | | | | | |\n",
    "| <font color=\"GoldenRod\"> **Operators** </font> | Symbols or Keywords used in programming to perform various operations on data, values or variables | See other table for all the different operators in Python |"
   ]
  },
  {
   "cell_type": "code",
   "execution_count": null,
   "id": "4ffea11c-0f52-4205-b332-69329879e1d2",
   "metadata": {},
   "outputs": [],
   "source": []
  },
  {
   "cell_type": "markdown",
   "id": "d2302ea0-abe3-40ff-9371-6e20bd33e953",
   "metadata": {},
   "source": [
    "| Operator Type | Operation Performed | Operator | Example | Equivalent Too |\n",
    "| ------------- | ------------------- | -------- | ------- | -------------- |\n",
    "| **Arithmetic Operators** | | | | |\n",
    "|               | Addition | <font color=\"GoldenRod\"> **+** </font> | \n",
    "|               | Subtraction | <font color=\"GoldenRod\"> **-** </font>  | \n",
    "|               | Multiplication |   *   | \n",
    "|               | Division | <font color=\"GoldenRod\"> **/** </font> | \n",
    "|               | Modulus (Remainder) | <font color=\"GoldenRod\"> **%** </font> | \n",
    "|               | Floor Division (Integer division) | <font color=\"GoldenRod\"> **//** </font> | \n",
    "|               | Exponent |   **'<font color=\"GoldenRod\"> ** </font>'**  |\n",
    "| | | | | |\n",
    "| | | | | |\n",
    "| | | | | |\n",
    "| | | | | | \n",
    "| **Comparison Operator** | \n",
    "|               | **Equal to** | <font color=\"GoldenRod\"> **==** </font> | \n",
    "|               | **<font color=\"Crimson\"> Not </font> Equal to** | <font color=\"GoldenRod\"> **!=** </font> |\n",
    "|               | **Greater Than**    | <font color=\"GoldenRod\"> **>**  </font> | \n",
    "|               | **Lesser Than**      | **<font color=\"GoldenRod\"> <  </font>** |\n",
    "|               | **Greater than** *or* **Equal to** | <font color=\"GoldenRod\"> **>=**  </font> |\n",
    "|               | **Lesser Than** *or* **Equal to**  | **<font color=\"GoldenRod\"> <=  </font>** | \n",
    "| | | | | | \n",
    "| | | | | |\n",
    "| | | | | |\n",
    "| | | | | |\n",
    "| **Assignment Operator** |  | | | | |\n",
    "| 1. | **Assignment** | <font color=\"GoldenRod\"> **=** </font> | <font color=\"DarkCyan\"> ***a*** </font> <font color=\"GoldenRod\"> **=** </font> <font color=\"Magenta\"> **8** </font> |  | \n",
    "| | | | <font color=\"DarkCyan\"> ***b*** </font> <font color=\"GoldenRod\"> **=** </font> <font color=\"Magenta\"> **4** </font> | |  \n",
    "| | | | | | \n",
    "| | | | | |\n",
    "| 2. <font color=\"SlateGray\"> ***Add and Assign*** </font> | **ADDITION** and **Assignment** | <font color=\"GoldenRod\"> **+=** </font> | <font color=\"DarkCyan\"> ***a*** </font> <font color=\"GoldenRod\"> **+=** </font> <font color=\"Orange\"> **b** </font> | '<font color=\"DarkCyan\"> ***a*** </font>' **= (** <font color=\"DarkCyan\"> **a** </font> <font color=\"GoldenRod\"> **+** </font> <font color=\"Orange\"> **b** </font> **)** \n",
    "| | | | <font color=\"DarkCyan\"> ***y*** </font> <font color=\"GoldenRod\"> **+=** </font> <font color=\"Orange\"> **5** </font> | '<font color=\"DarkCyan\"> ***y*** </font>' **= (** <font color=\"DarkCyan\"> ***y*** </font> <font color=\"GoldenRod\"> **+** </font> <font color=\"Orange\"> **5** </font> **)** |\n",
    "| | | | | | |\n",
    "| | | | | | |\n",
    "| 3. <font color=\"SlateGray\"> ***Subtract and Assign*** </font>  | **SUBTRACTION** and **Assignment** | <font color=\"GoldenRod\"> **-=**  </font> | <font color=\"DarkCyan\"> ***a*** </font> <font color=\"GoldenRod\"> **-=** </font> <font color=\"Orange\"> **b** </font>| '<font color=\"DarkCyan\"> ***a*** </font>' **= (** <font color=\"DarkCyan\"> **a** </font> <font color=\"GoldenRod\"> **-** </font> <font color=\"Orange\"> **b** </font> **)** | \n",
    "| | | | <font color=\"DarkCyan\"> ***z*** </font> <font color=\"GoldenRod\"> **-=** </font> <font color=\"Orange\"> **3** </font> | '<font color=\"DarkCyan\"> ***z*** </font>' **= (** <font color=\"DarkCyan\"> ***z*** </font> <font color=\"GoldenRod\"> **-** </font> <font color=\"Orange\"> **3** </font> **)** | \n",
    "| | | | | | |\n",
    "| | | | | | |\n",
    "| 4. <font color=\"SlateGray\"> ***Multiply and Assign*** </font> | **MULTIPLICATION** and **Assignment**  | **' <font color=\"GoldenRod\">*=</font> '** | <font color=\"DarkCyan\"> ***a*** </font> **<font color=\"GoldenRod\">*=</font>** <font color=\"Orange\"> **b** </font> | '<font color=\"DarkCyan\"> ***a*** </font>' **= (** <font color=\"DarkCyan\"> **a** </font> **<font color=\"GoldenRod\">*</font>** <font color=\"Orange\"> **b** </font> **)** | \n",
    "| | | |<font color=\"DarkCyan\"> ***a*** </font> **<font color=\"GoldenRod\">*=</font>** <font color=\"Orange\"> **2** </font> | '<font color=\"DarkCyan\"> ***a*** </font>' **= (** <font color=\"DarkCyan\"> **a** </font> **<font color=\"GoldenRod\">*</font>** <font color=\"Orange\"> **2** </font> **)** | \n",
    "| | | | | | |\n",
    "| | | | | | |\n",
    "| 5. <font color=\"SlateGray\"> ***Divide and Assign*** </font> | **DIVISION** and **Assignment** | <font color=\"GoldenRod\"> **/=**  </font> | <font color=\"DarkCyan\"> **a** </font> <font color=\"GoldenRod\"> **/=** </font> <font color=\"Orange\"> **b** </font> | '<font color=\"DarkCyan\"> ***a*** </font>' **= (** <font color=\"DarkCyan\"> ***a*** </font> <font color=\"GoldenRod\"> **/** </font> <font color=\"Orange\"> **b** </font> **)** | \n",
    "| | | | <font color=\"DarkCyan\"> ***b*** </font> <font color=\"GoldenRod\"> **/=** </font> <font color=\"Orange\"> **4** </font> | '<font color=\"DarkCyan\"> ***b*** </font>' **= (** <font color=\"DarkCyan\"> ***b*** </font> <font color=\"GoldenRod\"> **/** </font> <font color=\"Orange\"> **4** </font> **)** | \n",
    "| | | | | | |\n",
    "| | | | | | |\n",
    "| 6. <font color=\"SlateGray\"> ***Modulus and Assign*** </font> | **DIVIDE** then **Assign** the ***Modulus***| **<font color=\"GoldenRod\"> %= </font>** | <font color=\"DarkCyan\"> ***a*** </font> <font color=\"GoldenRod\"> **%=** </font> <font color=\"Orange\"> **b** </font>| '<font color=\"DarkCyan\"> ***a*** </font>' **= (** <font color=\"DarkCyan\"> ***a*** </font> <font color=\"GoldenRod\"> **%** </font> <font color=\"Orange\"> **b** </font> **)** | \n",
    "| | | | | | |\n",
    "| | | | | | |\n",
    "| 7. <font color=\"SlateGray\"> ***Floor Division and Assign*** </font> | **DIVIDE** then **Assign** **truncated** result | **<font color=\"GoldenRod\"> //= </font>** | <font color=\"DarkCyan\"> ***a*** </font> <font color=\"GoldenRod\"> **//=** </font> <font color=\"Orange\"> **b** </font> | '<font color=\"DarkCyan\"> ***a*** </font>' **= (** <font color=\"DarkCyan\"> ***a*** </font> <font color=\"GoldenRod\"> **//** </font> <font color=\"Orange\"> **b** </font> **)** | \n",
    "| | | | | | |\n",
    "| | | | | | |\n",
    "| 8. <font color=\"SlateGray\"> ***Exponent and Assign*** </font> | **Exponentiation** and **Assignment**| <font color=\"GoldenRod\"> **= </font> | <font color=\"DarkCyan\"> ***a*** </font> <font color=\"GoldenRod\"> **= </font> <font color=\"Orange\"> ***3*** </font> | '<font color=\"DarkCyan\"> ***a*** </font>' **= (** <font color=\"DarkCyan\"> ***a*** </font> <font color=\"GoldenRod\"> ** </font> <font color=\"Orange\"> **3** </font> **)** |\n",
    "| | | | | | |\n",
    "| | | | | | |\n",
    "| | | | | | |\n",
    "| | | | | | |\n",
    "| **Logical Operator** | | | | | |\n",
    "|               | **Logical AND** | '<font color=\"GoldenRod\"> **and** </font>' | <font color=\"Orange\"> ***x*** </font> <font color=\"GoldenRod\"> **and** </font> <font color=\"Orange\"> ***y*** </font> | <font color=\"ForestGreen\"> ***True*** </font> if **BOTH** <font color=\"Orange\"> ***x*** </font> **and** <font color=\"Orange\"> ***y*** </font> are <font color=\"ForestGreen\"> ***True*** </font> |\n",
    "| | | | | | |\n",
    "| | | | | | |\n",
    "|               | **Logical OR** | '<font color=\"GoldenRod\"> **or** </font>' | <font color=\"Orange\"> ***x*** </font> <font color=\"GoldenRod\"> **or** </font> <font color=\"Orange\"> ***y*** </font> | <font color=\"ForestGreen\"> ***True*** </font> if **EITHER** <font color=\"Orange\"> ***x*** </font> **or** <font color=\"Orange\"> ***y*** </font> is <font color=\"ForestGreen\"> ***True*** </font> \n",
    "| | | | | | |\n",
    "| | | | | | |\n",
    "|               | **Logical NOT** | '<font color=\"GoldenRod\"> **not**  </font>' |  | | | \n",
    "| | | |if <font color=\"DarkCyan\"> ***x*** </font> <font color=\"Magenta\"> **=** </font> <font color=\"ForestGreen\"> ***True*** </font> <font color=\"GoldenRod\"> **not** </font> <font color=\"DarkCyan\"> ***x*** </font> | <font color=\"Red\"> ***False*** </font> since it's the **inverse** of <font color=\"ForestGreen\"> ***True*** </font> |\n",
    "| | | | if <font color=\"DarkCyan\"> ***y*** </font> <font color=\"Magenta\"> **=** </font> <font color=\"Red\"> ***False*** </font> <font color=\"GoldenRod\"> **not** </font> <font color=\"DarkCyan\"> ***y*** </font> | <font color=\"ForestGreen\"> ***True*** </font> since its the **inverse** of <font color=\"Red\"> ***False*** </font> |\n",
    "| | | | | | \n",
    "| | | | | |\n",
    "| | | | | |\n",
    "| | | | | |"
   ]
  },
  {
   "cell_type": "code",
   "execution_count": null,
   "id": "a586a7e8-db2a-4fb8-a7aa-716de84f7e05",
   "metadata": {},
   "outputs": [],
   "source": []
  },
  {
   "cell_type": "code",
   "execution_count": null,
   "id": "c469184d-d85e-40d9-89b6-fd7a57c53107",
   "metadata": {},
   "outputs": [],
   "source": []
  },
  {
   "cell_type": "code",
   "execution_count": null,
   "id": "acc4041e-f654-4e5f-911e-fe60f676f7bc",
   "metadata": {},
   "outputs": [],
   "source": []
  },
  {
   "cell_type": "code",
   "execution_count": null,
   "id": "8c356937-bb59-4d34-b3cd-97d1ae515117",
   "metadata": {},
   "outputs": [],
   "source": []
  },
  {
   "cell_type": "code",
   "execution_count": null,
   "id": "afb4fce1-160c-4d44-8bb2-d7f5a14eda12",
   "metadata": {},
   "outputs": [],
   "source": []
  },
  {
   "cell_type": "markdown",
   "id": "ae54aa46-7a27-4c02-ba24-3f854ec2749f",
   "metadata": {},
   "source": [
    ">\n",
    ">\n",
    "#### 3. **Logical NOT**\n",
    ">\n",
    ">\n",
    "> <font color=\"GoldenRod\">**not**</font> <font color=\"Orange\"> **Operand 1** </font>\n",
    "\n",
    "- \"Useful to **toggle** the <font color=\"Magenta\"> **value** </font> of the <font color=\"DarkCyan\"> ***variable*** </font> in **successive loop iterations** with a statement like\n",
    ">\n",
    ">\n",
    "> <font color=\"DarkCyan\"> ***a*** </font> <font color=\"GoldenRod\"> **= not** </font> <font color=\"Orange\"> **a** </font>\n",
    "> > \"This ensures that on each iteration of the loop the Boolean value is reversed, like flicking a light switch on and off.\"\n",
    "- Considered a \"**unary** <font color=\"GoldenRod\"> **operator** </font> that is used **BEFORE** a **SINGLE** <font color=\"Orange\"> **operand** </font>\"\n",
    "    - Its an operation that works with **ONLY ONE** <font color=\"Magenta\"> **value** </font> or **Condition** or <font color=\"DarkCyan\"> **variable** </font>\n",
    ">\n",
    ">\n",
    "- Flips the value of the <font color=\"Orange\"> **operand** </font>\n",
    "| Original Value | Used with Logical Not | Return (print output) |\n",
    "| -------------- | --------------------- | --------------------- |\n",
    "| <font color=\"ForestGreen\"> ***True*** </font> | <font color=\"GoldenRod\"> **not** </font> <font color=\"Orange\"> **True** </font> | <font color=\"Red\"> ***False*** </font> |\n",
    "| <font color=\"Red\"> ***False*** </font> | <font color=\"GoldenRod\"> **not** </font> <font color=\"Orange\"> **False** </font> | <font color=\"ForestGreen\"> ***True*** </font> |\n",
    ">\n",
    ">\n",
    "- *RETURN*s the **INVERSE** of the <font color=\"Orange\"> **operand** </font>\n",
    ">\n"
   ]
  },
  {
   "cell_type": "markdown",
   "id": "5e3f6ce8-7144-48fa-9dff-15a4a2837897",
   "metadata": {},
   "source": [
    "##### ***<u>Example 1</u>*** \n",
    "> <font color=\"GoldenRod\"> **not** </font> <font color=\"Red\"> ***False*** </font>"
   ]
  },
  {
   "cell_type": "code",
   "execution_count": 52,
   "id": "9a0887ca-a6b1-434a-9b44-4f0db57de881",
   "metadata": {},
   "outputs": [
    {
     "name": "stdout",
     "output_type": "stream",
     "text": [
      "Original Value of 't' = True\n",
      "Original Value of 'f' = False\n",
      "\n",
      "NOT Logic:\n",
      "not f = True\n",
      "b/c 'f' is = False The so result of 'not' operator is it's inverse which = True\n",
      "\n",
      "\n"
     ]
    }
   ],
   "source": [
    "# Assign Boolean values too 2 variables 't' and 'f'\n",
    "t = True\n",
    "f = False\n",
    "\n",
    "# Print original values of those\n",
    "print(\"Original Value of 't' =\", t)\n",
    "print(\"Original Value of 'f' =\", f)\n",
    "\n",
    "# Blank\n",
    "print()\n",
    "\n",
    "# Use the logical NOT\n",
    "print(\"NOT Logic:\")\n",
    "print(\"not f =\", not f)\n",
    "print(\"b/c 'f' is =\", f, \"The so result of 'not' operator is it's inverse which =\", not f)\n",
    "\n",
    "# Blanks\n",
    "print()\n",
    "print()"
   ]
  },
  {
   "cell_type": "markdown",
   "id": "b027dc76-0f92-4023-9912-44dc05f97574",
   "metadata": {},
   "source": [
    "##### ***<u>Example 2</u>*** \n",
    "> <font color=\"GoldenRod\"> **not** </font> <font color=\"ForestGreen\"> ***True*** </font>"
   ]
  },
  {
   "cell_type": "code",
   "execution_count": 53,
   "id": "079361c0-26ad-4ccb-ada5-bd5c8e86453e",
   "metadata": {},
   "outputs": [
    {
     "name": "stdout",
     "output_type": "stream",
     "text": [
      "Original Value of 't' = True\n",
      "Original Value of 'f' = False\n",
      "\n",
      "NOT Logic:\n",
      "not t = False\n",
      "b/c 't' is = True The result of the 'not' operator is it's inverse which = False\n",
      "\n",
      "\n"
     ]
    }
   ],
   "source": [
    "# Assign Boolean values too 2 variables 't' and 'f'\n",
    "t = True\n",
    "f = False\n",
    "\n",
    "# Print original values of those\n",
    "print(\"Original Value of 't' =\", t)\n",
    "print(\"Original Value of 'f' =\", f)\n",
    "\n",
    "# Blank\n",
    "print()\n",
    "\n",
    "# Use the logical NOT\n",
    "print(\"NOT Logic:\")\n",
    "print(\"not t =\", not t)\n",
    "print(\"b/c 't' is =\", t, \"The result of the 'not' operator is it's inverse which =\", not t)\n",
    "\n",
    "# Blanks\n",
    "print()\n",
    "print()"
   ]
  },
  {
   "cell_type": "code",
   "execution_count": null,
   "id": "94d9c3ee-de9b-4d9d-9317-ebb3324a3bd7",
   "metadata": {},
   "outputs": [],
   "source": []
  },
  {
   "cell_type": "code",
   "execution_count": null,
   "id": "8e6b5863-fbb0-42ba-9418-ea131409a549",
   "metadata": {},
   "outputs": [],
   "source": []
  },
  {
   "cell_type": "markdown",
   "id": "13a50795-c8c7-4bcf-9ab4-ce3482eb7e31",
   "metadata": {},
   "source": [
    "### E. **Bitwise Operators:**\n",
    "\n",
    "<font color=\"Crimson\"> ***Not applicable to where I am at in lessons as not used really in conditions and conditional statements so will skip for now and hope they are covered in the future*** </font>"
   ]
  },
  {
   "cell_type": "markdown",
   "id": "9905be2d-bc4b-40bf-a93e-3fe435fb3def",
   "metadata": {},
   "source": [
    "### F. **Membership Operators:**\n",
    "\n",
    "<font color=\"Crimson\"> ***Not applicable to where I am at in lessons as not used really in conditions and conditional statements so will skip for now and hope they are covered in the future*** </font>\n",
    "\n",
    "| Operator Type | Definition | Operation Performed | Operator | Example | Example Explanation |\n",
    "| ------------- |----------- | ------------------- | -------- | ------- | ------------------- |\n",
    "| **Membership Operator** |\n",
    "\n",
    "in = membership test (in a sequence) \n",
    "- 3 in [1, 2, 3]\n",
    "- x in sequence TRUE if x is in the sequence\n",
    ">\n",
    ">\n",
    "\n",
    "not in = Membership test (not in a sequence) \n",
    "- 4 not in [1, 2, 3]\n",
    "- x not in sequence TRUE if x is not in the sequence"
   ]
  },
  {
   "cell_type": "markdown",
   "id": "2daf0fff-ea54-45e7-9d3f-765018fb44af",
   "metadata": {},
   "source": [
    "### G. **Identity Operators:**\n",
    "\n",
    "<font color=\"Crimson\"> ***Not applicable to where I am at in lessons as not used really in conditions and conditional statements so will skip for now and hope they are covered in the future*** </font>\n",
    "\n",
    "\n",
    "| Operator Type | Definition | Operation Performed | Operator | Example | Example Explanation |\n",
    "| ------------- |----------- | ------------------- | -------- | ------- | ------------------- |\n",
    "| **Identity Operator** |  | | | | |\n",
    ">\n",
    ">\n",
    "\n",
    "- is =  Object identity test\n",
    "    - x is y\n",
    "    - x is y TRUE if x and y reference the same object\n",
    ">\n",
    ">\n",
    "- is not = Negated object identify test\n",
    "    - a is not b\n",
    "    - x is not y TRUE if x and y reference different objects"
   ]
  },
  {
   "cell_type": "code",
   "execution_count": null,
   "id": "b1290040-ddce-4ba8-8393-1a99e87252bd",
   "metadata": {},
   "outputs": [],
   "source": []
  },
  {
   "cell_type": "code",
   "execution_count": null,
   "id": "9b47d565-94a0-47bd-a33d-a7c6f18b01cf",
   "metadata": {},
   "outputs": [],
   "source": []
  },
  {
   "cell_type": "code",
   "execution_count": null,
   "id": "ad3d405e-dd06-423f-8b82-d8a6c725c72c",
   "metadata": {},
   "outputs": [],
   "source": []
  },
  {
   "cell_type": "code",
   "execution_count": null,
   "id": "dd96416c-e560-45b1-90c0-535cab919d5c",
   "metadata": {},
   "outputs": [],
   "source": []
  },
  {
   "cell_type": "code",
   "execution_count": null,
   "id": "bbe741c7-85f0-48b3-8c66-5553d7e0b50b",
   "metadata": {},
   "outputs": [],
   "source": []
  },
  {
   "cell_type": "code",
   "execution_count": null,
   "id": "62e20455-e5f8-4f71-b509-f2d4a1d5cebc",
   "metadata": {},
   "outputs": [],
   "source": []
  },
  {
   "cell_type": "code",
   "execution_count": 54,
   "id": "881ea5ed-effa-4663-8b85-e48358ba7ab9",
   "metadata": {},
   "outputs": [
    {
     "name": "stdout",
     "output_type": "stream",
     "text": [
      "5.5\n",
      "2.6666666666666665\n",
      "8\n"
     ]
    }
   ],
   "source": [
    "print(11 / 2)\n",
    "print(8 / 3)\n",
    "print(2 ** 3)"
   ]
  },
  {
   "cell_type": "markdown",
   "id": "a3178884-50d6-4ea0-883d-8344d1783629",
   "metadata": {},
   "source": [
    "### I. or 1. or A. **<u>Sub-Section within main Name of Section<u>**"
   ]
  },
  {
   "cell_type": "markdown",
   "id": "1db4dd9a-6b0b-4546-8bdb-ffa891260287",
   "metadata": {},
   "source": [
    "#### i. or a. or 1. <u>***Sub-Sub section***<u>"
   ]
  },
  {
   "cell_type": "markdown",
   "id": "3206156a-a734-43ca-883c-967c9a5a8bb1",
   "metadata": {
    "tags": []
   },
   "source": [
    "##### **Example 1**"
   ]
  }
 ],
 "metadata": {
  "kernelspec": {
   "display_name": "Python 3 (ipykernel)",
   "language": "python",
   "name": "python3"
  },
  "language_info": {
   "codemirror_mode": {
    "name": "ipython",
    "version": 3
   },
   "file_extension": ".py",
   "mimetype": "text/x-python",
   "name": "python",
   "nbconvert_exporter": "python",
   "pygments_lexer": "ipython3",
   "version": "3.11.5"
  }
 },
 "nbformat": 4,
 "nbformat_minor": 5
}
