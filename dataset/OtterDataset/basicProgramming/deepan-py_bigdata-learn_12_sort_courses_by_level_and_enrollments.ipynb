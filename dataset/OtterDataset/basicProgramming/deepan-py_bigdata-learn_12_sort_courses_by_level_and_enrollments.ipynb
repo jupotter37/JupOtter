{
  "cells": [
    {
      "cell_type": "markdown",
      "id": "7fc1452c",
      "metadata": {},
      "source": [
        "## Sort Courses by Level and Enrollments\n",
        "\n",
        "Develop logic to sort the courses by suitability and number of enrollments. As part of this Python Practice Test, we are primarily evaluating the ability to understand lists, delimited strings, manipulating strings as well as performing cumulative sorting of data based on the criteria.\n",
        "* We will provide course data which will be of type list of strings.\n",
        "* Develop a function which takes the `courses` as input and sort the data by number of enrollments.\n",
        "* Here are the details related to each course record.\n",
        "  * Each record contains values related to 6 course attributes.\n",
        "  * All the values in each record are separated or delimited by `,`.\n",
        "  * Here are the attribute names in the respective order - course id, course name, suitable for or level, enrollment, cumulative rating, and number of ratings.\n",
        "* Make sure the data is sorted in ascending order by level and then in numerically in descending order by number of enrollments.\n",
        "* Here is the data provided below in the form of list of strings. Each comma separated or delimited string contain values related to 6 course attributes."
      ]
    },
    {
      "cell_type": "code",
      "execution_count": 1,
      "id": "3ebdd36d",
      "metadata": {},
      "outputs": [],
      "source": [
        "courses = ['1,2020 Complete Python Bootcamp: From Zero to Hero in Python,Beginner,1100093,4.6,318066',\n",
        " '4,Angular - The Complete Guide (2020 Edition),Intermediate,422557,4.6,129984',\n",
        " '12,Automate the Boring Stuff with Python Programming,Advanced,692617,4.6,70508',\n",
        " '10,Complete C# Unity Game Developer 2D,Advanced,364934,4.6,78989',\n",
        " '5,Java Programming Masterclass for Software Developers,Advanced,502572,4.6,123798',\n",
        " '15,Learn Python Programming Masterclass,Advanced,240790,4.5,58677',\n",
        " '3,Machine Learning A-Z™: Hands-On Python & R In Data Science,Intermediate,692812,4.5,132228',\n",
        " '14,Modern React with Redux [2020 Update],Intermediate,203214,4.7,60835',\n",
        " '8,Python for Data Science and Machine Learning Bootcamp,Intermediate,387789,4.6,87403',\n",
        " '6,\"React - The Complete Guide (incl Hooks, React Router, Redux)\",Intermediate,304670,4.6,90964',\n",
        " '18,Selenium WebDriver with Java -Basics to Advanced+Frameworks,Advanced,148562,4.6,49947',\n",
        " '21,Spring & Hibernate for Beginners (includes Spring Boot),Advanced,177053,4.6,45329',\n",
        " '7,The Complete 2020 Web Development Bootcamp,Beginner,270656,4.7,88098',\n",
        " '9,The Complete JavaScript Course 2020: Build Real Projects!,Intermediate,347979,4.6,83521',\n",
        " '16,The Complete Node.js Developer Course (3rd Edition),Advanced,202922,4.7,50885',\n",
        " '13,The Complete Web Developer Course 2.0,Intermediate,273598,4.5,63175',\n",
        " '11,The Data Science Course 2020: Complete Data Science Bootcamp,Beginner,325047,4.5,76907',\n",
        " '20,The Ultimate MySQL Bootcamp: Go from SQL Beginner to Expert,Beginner,203366,4.6,45382',\n",
        " '2,The Web Developer Bootcamp,Beginner,596726,4.6,182997',\n",
        " '19,Unreal Engine C++ Developer: Learn C++ and Make Video Games,Advanced,229005,4.5,45860',\n",
        " '17,iOS 13 & Swift 5 - The Complete iOS App Development Bootcamp,Advanced,179598,4.8,49972']"
      ]
    },
    {
      "cell_type": "markdown",
      "id": "1a85ea66",
      "metadata": {},
      "source": [
        "### Step 1: Preview the data\n",
        "\n",
        "Let us first preview the data."
      ]
    },
    {
      "cell_type": "code",
      "execution_count": 2,
      "id": "b1426c73",
      "metadata": {},
      "outputs": [
        {
          "data": {
            "text/plain": [
              "['1,2020 Complete Python Bootcamp: From Zero to Hero in Python,Beginner,1100093,4.6,318066',\n",
              " '4,Angular - The Complete Guide (2020 Edition),Intermediate,422557,4.6,129984',\n",
              " '12,Automate the Boring Stuff with Python Programming,Advanced,692617,4.6,70508',\n",
              " '10,Complete C# Unity Game Developer 2D,Advanced,364934,4.6,78989',\n",
              " '5,Java Programming Masterclass for Software Developers,Advanced,502572,4.6,123798',\n",
              " '15,Learn Python Programming Masterclass,Advanced,240790,4.5,58677',\n",
              " '3,Machine Learning A-Z™: Hands-On Python & R In Data Science,Intermediate,692812,4.5,132228',\n",
              " '14,Modern React with Redux [2020 Update],Intermediate,203214,4.7,60835',\n",
              " '8,Python for Data Science and Machine Learning Bootcamp,Intermediate,387789,4.6,87403',\n",
              " '6,\"React - The Complete Guide (incl Hooks, React Router, Redux)\",Intermediate,304670,4.6,90964',\n",
              " '18,Selenium WebDriver with Java -Basics to Advanced+Frameworks,Advanced,148562,4.6,49947',\n",
              " '21,Spring & Hibernate for Beginners (includes Spring Boot),Advanced,177053,4.6,45329',\n",
              " '7,The Complete 2020 Web Development Bootcamp,Beginner,270656,4.7,88098',\n",
              " '9,The Complete JavaScript Course 2020: Build Real Projects!,Intermediate,347979,4.6,83521',\n",
              " '16,The Complete Node.js Developer Course (3rd Edition),Advanced,202922,4.7,50885',\n",
              " '13,The Complete Web Developer Course 2.0,Intermediate,273598,4.5,63175',\n",
              " '11,The Data Science Course 2020: Complete Data Science Bootcamp,Beginner,325047,4.5,76907',\n",
              " '20,The Ultimate MySQL Bootcamp: Go from SQL Beginner to Expert,Beginner,203366,4.6,45382',\n",
              " '2,The Web Developer Bootcamp,Beginner,596726,4.6,182997',\n",
              " '19,Unreal Engine C++ Developer: Learn C++ and Make Video Games,Advanced,229005,4.5,45860',\n",
              " '17,iOS 13 & Swift 5 - The Complete iOS App Development Bootcamp,Advanced,179598,4.8,49972']"
            ]
          },
          "execution_count": 2,
          "metadata": {},
          "output_type": "execute_result"
        }
      ],
      "source": [
        "courses"
      ]
    },
    {
      "cell_type": "code",
      "execution_count": 3,
      "id": "70d09a1f",
      "metadata": {},
      "outputs": [
        {
          "data": {
            "text/plain": [
              "list"
            ]
          },
          "execution_count": 3,
          "metadata": {},
          "output_type": "execute_result"
        }
      ],
      "source": [
        "type(courses)"
      ]
    },
    {
      "cell_type": "code",
      "execution_count": 4,
      "id": "a0689d9e",
      "metadata": {},
      "outputs": [
        {
          "data": {
            "text/plain": [
              "21"
            ]
          },
          "execution_count": 4,
          "metadata": {},
          "output_type": "execute_result"
        }
      ],
      "source": [
        "len(courses)"
      ]
    },
    {
      "cell_type": "code",
      "execution_count": 5,
      "id": "da2d0d3f",
      "metadata": {},
      "outputs": [
        {
          "name": "stdout",
          "output_type": "stream",
          "text": [
            "The type of the record 1,2020 Complete Python Bootcamp: From Zero to Hero in Python,Beginner,1100093,4.6,318066 is <class 'str'>\n",
            "The type of the record 4,Angular - The Complete Guide (2020 Edition),Intermediate,422557,4.6,129984 is <class 'str'>\n",
            "The type of the record 12,Automate the Boring Stuff with Python Programming,Advanced,692617,4.6,70508 is <class 'str'>\n",
            "The type of the record 10,Complete C# Unity Game Developer 2D,Advanced,364934,4.6,78989 is <class 'str'>\n",
            "The type of the record 5,Java Programming Masterclass for Software Developers,Advanced,502572,4.6,123798 is <class 'str'>\n",
            "The type of the record 15,Learn Python Programming Masterclass,Advanced,240790,4.5,58677 is <class 'str'>\n",
            "The type of the record 3,Machine Learning A-Z™: Hands-On Python & R In Data Science,Intermediate,692812,4.5,132228 is <class 'str'>\n",
            "The type of the record 14,Modern React with Redux [2020 Update],Intermediate,203214,4.7,60835 is <class 'str'>\n",
            "The type of the record 8,Python for Data Science and Machine Learning Bootcamp,Intermediate,387789,4.6,87403 is <class 'str'>\n",
            "The type of the record 6,\"React - The Complete Guide (incl Hooks, React Router, Redux)\",Intermediate,304670,4.6,90964 is <class 'str'>\n",
            "The type of the record 18,Selenium WebDriver with Java -Basics to Advanced+Frameworks,Advanced,148562,4.6,49947 is <class 'str'>\n",
            "The type of the record 21,Spring & Hibernate for Beginners (includes Spring Boot),Advanced,177053,4.6,45329 is <class 'str'>\n",
            "The type of the record 7,The Complete 2020 Web Development Bootcamp,Beginner,270656,4.7,88098 is <class 'str'>\n",
            "The type of the record 9,The Complete JavaScript Course 2020: Build Real Projects!,Intermediate,347979,4.6,83521 is <class 'str'>\n",
            "The type of the record 16,The Complete Node.js Developer Course (3rd Edition),Advanced,202922,4.7,50885 is <class 'str'>\n",
            "The type of the record 13,The Complete Web Developer Course 2.0,Intermediate,273598,4.5,63175 is <class 'str'>\n",
            "The type of the record 11,The Data Science Course 2020: Complete Data Science Bootcamp,Beginner,325047,4.5,76907 is <class 'str'>\n",
            "The type of the record 20,The Ultimate MySQL Bootcamp: Go from SQL Beginner to Expert,Beginner,203366,4.6,45382 is <class 'str'>\n",
            "The type of the record 2,The Web Developer Bootcamp,Beginner,596726,4.6,182997 is <class 'str'>\n",
            "The type of the record 19,Unreal Engine C++ Developer: Learn C++ and Make Video Games,Advanced,229005,4.5,45860 is <class 'str'>\n",
            "The type of the record 17,iOS 13 & Swift 5 - The Complete iOS App Development Bootcamp,Advanced,179598,4.8,49972 is <class 'str'>\n"
          ]
        }
      ],
      "source": [
        "for course in courses:\n",
        "    print(f'The type of the record {course} is {type(course)}')"
      ]
    },
    {
      "cell_type": "markdown",
      "id": "e6c29be5",
      "metadata": {},
      "source": [
        "### Step 2: Provide the solution\n",
        "\n",
        "Now come up with the solution by developing the required logic. Once the function is developed, go to the next step to take care of the validation."
      ]
    },
    {
      "cell_type": "code",
      "execution_count": 75,
      "id": "ea57f51b",
      "metadata": {},
      "outputs": [],
      "source": [
        "# The logic should go here\n",
        "def sort_courses_by_level_and_enrollments(courses):\n",
        "    courses_sorted = sorted(courses, key=lambda x:(x.split(',')[-4],-int(x.split(',')[-3])))\n",
        "    # courses_sorted = sorted(courses, key=lambda course: int(course.split(',')[-3]), reverse=True)\n",
        "    return courses_sorted"
      ]
    },
    {
      "cell_type": "markdown",
      "id": "a2c897f7",
      "metadata": {},
      "source": [
        "### Step 3: Validate the function\n",
        "\n",
        "Let us validate the function by running below cells.\n",
        "* Here is the expected output.\n",
        "\n",
        "```python\n",
        "['12,Automate the Boring Stuff with Python Programming,Advanced,692617,4.6,70508',\n",
        " '5,Java Programming Masterclass for Software Developers,Advanced,502572,4.6,123798',\n",
        " '10,Complete C# Unity Game Developer 2D,Advanced,364934,4.6,78989',\n",
        " '15,Learn Python Programming Masterclass,Advanced,240790,4.5,58677',\n",
        " '19,Unreal Engine C++ Developer: Learn C++ and Make Video Games,Advanced,229005,4.5,45860',\n",
        " '16,The Complete Node.js Developer Course (3rd Edition),Advanced,202922,4.7,50885',\n",
        " '17,iOS 13 & Swift 5 - The Complete iOS App Development Bootcamp,Advanced,179598,4.8,49972',\n",
        " '21,Spring & Hibernate for Beginners (includes Spring Boot),Advanced,177053,4.6,45329',\n",
        " '18,Selenium WebDriver with Java -Basics to Advanced+Frameworks,Advanced,148562,4.6,49947',\n",
        " '1,2020 Complete Python Bootcamp: From Zero to Hero in Python,Beginner,1100093,4.6,318066',\n",
        " '2,The Web Developer Bootcamp,Beginner,596726,4.6,182997',\n",
        " '11,The Data Science Course 2020: Complete Data Science Bootcamp,Beginner,325047,4.5,76907',\n",
        " '7,The Complete 2020 Web Development Bootcamp,Beginner,270656,4.7,88098',\n",
        " '20,The Ultimate MySQL Bootcamp: Go from SQL Beginner to Expert,Beginner,203366,4.6,45382',\n",
        " '3,Machine Learning A-Z™: Hands-On Python & R In Data Science,Intermediate,692812,4.5,132228',\n",
        " '4,Angular - The Complete Guide (2020 Edition),Intermediate,422557,4.6,129984',\n",
        " '8,Python for Data Science and Machine Learning Bootcamp,Intermediate,387789,4.6,87403',\n",
        " '9,The Complete JavaScript Course 2020: Build Real Projects!,Intermediate,347979,4.6,83521',\n",
        " '6,\"React - The Complete Guide (incl Hooks, React Router, Redux)\",Intermediate,304670,4.6,90964',\n",
        " '13,The Complete Web Developer Course 2.0,Intermediate,273598,4.5,63175',\n",
        " '14,Modern React with Redux [2020 Update],Intermediate,203214,4.7,60835'\n",
        "]\n",
        "```"
      ]
    },
    {
      "cell_type": "code",
      "execution_count": 76,
      "id": "a5c42f25",
      "metadata": {},
      "outputs": [
        {
          "data": {
            "text/plain": [
              "['12,Automate the Boring Stuff with Python Programming,Advanced,692617,4.6,70508',\n",
              " '5,Java Programming Masterclass for Software Developers,Advanced,502572,4.6,123798',\n",
              " '10,Complete C# Unity Game Developer 2D,Advanced,364934,4.6,78989',\n",
              " '15,Learn Python Programming Masterclass,Advanced,240790,4.5,58677',\n",
              " '19,Unreal Engine C++ Developer: Learn C++ and Make Video Games,Advanced,229005,4.5,45860',\n",
              " '16,The Complete Node.js Developer Course (3rd Edition),Advanced,202922,4.7,50885',\n",
              " '17,iOS 13 & Swift 5 - The Complete iOS App Development Bootcamp,Advanced,179598,4.8,49972',\n",
              " '21,Spring & Hibernate for Beginners (includes Spring Boot),Advanced,177053,4.6,45329',\n",
              " '18,Selenium WebDriver with Java -Basics to Advanced+Frameworks,Advanced,148562,4.6,49947',\n",
              " '1,2020 Complete Python Bootcamp: From Zero to Hero in Python,Beginner,1100093,4.6,318066',\n",
              " '2,The Web Developer Bootcamp,Beginner,596726,4.6,182997',\n",
              " '11,The Data Science Course 2020: Complete Data Science Bootcamp,Beginner,325047,4.5,76907',\n",
              " '7,The Complete 2020 Web Development Bootcamp,Beginner,270656,4.7,88098',\n",
              " '20,The Ultimate MySQL Bootcamp: Go from SQL Beginner to Expert,Beginner,203366,4.6,45382',\n",
              " '3,Machine Learning A-Z™: Hands-On Python & R In Data Science,Intermediate,692812,4.5,132228',\n",
              " '4,Angular - The Complete Guide (2020 Edition),Intermediate,422557,4.6,129984',\n",
              " '8,Python for Data Science and Machine Learning Bootcamp,Intermediate,387789,4.6,87403',\n",
              " '9,The Complete JavaScript Course 2020: Build Real Projects!,Intermediate,347979,4.6,83521',\n",
              " '6,\"React - The Complete Guide (incl Hooks, React Router, Redux)\",Intermediate,304670,4.6,90964',\n",
              " '13,The Complete Web Developer Course 2.0,Intermediate,273598,4.5,63175',\n",
              " '14,Modern React with Redux [2020 Update],Intermediate,203214,4.7,60835']"
            ]
          },
          "execution_count": 76,
          "metadata": {},
          "output_type": "execute_result"
        }
      ],
      "source": [
        "courses_sorted = sort_courses_by_level_and_enrollments(courses)\n",
        "courses_sorted"
      ]
    },
    {
      "cell_type": "code",
      "execution_count": 77,
      "id": "d3dd355f",
      "metadata": {},
      "outputs": [
        {
          "data": {
            "text/plain": [
              "list"
            ]
          },
          "execution_count": 77,
          "metadata": {},
          "output_type": "execute_result"
        }
      ],
      "source": [
        "type(courses_sorted) # list"
      ]
    },
    {
      "cell_type": "code",
      "execution_count": 78,
      "id": "6bdaeb94",
      "metadata": {},
      "outputs": [
        {
          "data": {
            "text/plain": [
              "21"
            ]
          },
          "execution_count": 78,
          "metadata": {},
          "output_type": "execute_result"
        }
      ],
      "source": [
        "len(courses_sorted) # 21"
      ]
    },
    {
      "cell_type": "code",
      "execution_count": 79,
      "id": "e13a82db",
      "metadata": {},
      "outputs": [
        {
          "data": {
            "text/plain": [
              "str"
            ]
          },
          "execution_count": 79,
          "metadata": {},
          "output_type": "execute_result"
        }
      ],
      "source": [
        "type(courses_sorted[0]) # str"
      ]
    },
    {
      "cell_type": "code",
      "execution_count": 80,
      "id": "a924e0a6",
      "metadata": {},
      "outputs": [
        {
          "data": {
            "text/plain": [
              "'12,Automate the Boring Stuff with Python Programming,Advanced,692617,4.6,70508'"
            ]
          },
          "execution_count": 80,
          "metadata": {},
          "output_type": "execute_result"
        }
      ],
      "source": [
        "courses_sorted[0] # '12,Automate the Boring Stuff with Python Programming,Advanced,692617,4.6,70508'"
      ]
    }
  ],
  "metadata": {
    "kernelspec": {
      "display_name": "Python 3.9.7 ('.venv': venv)",
      "language": "python",
      "name": "python3"
    },
    "language_info": {
      "codemirror_mode": {
        "name": "ipython",
        "version": 3
      },
      "file_extension": ".py",
      "mimetype": "text/x-python",
      "name": "python",
      "nbconvert_exporter": "python",
      "pygments_lexer": "ipython3",
      "version": "3.9.7"
    },
    "vscode": {
      "interpreter": {
        "hash": "46f0a31c712fae978552423cd449f57e5b5d767792a57b626d08194debebc25c"
      }
    }
  },
  "nbformat": 4,
  "nbformat_minor": 5
}
