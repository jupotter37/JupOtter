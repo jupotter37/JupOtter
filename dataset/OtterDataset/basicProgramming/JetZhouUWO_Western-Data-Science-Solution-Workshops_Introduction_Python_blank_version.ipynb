{
 "cells": [
  {
   "attachments": {},
   "cell_type": "markdown",
   "metadata": {},
   "source": [
    "**Workshop Title: Introduction to Python Programming for Data Science**\n",
    "\n",
    "**Duration: 3 hours**\n",
    "\n",
    "**Objective**: To introduce beginners to the Python programming language with a focus on its applications in data science.\n",
    "\n",
    "**Prerequisites**: No prior programming experience required.\n",
    "\n",
    "---\n",
    "\n",
    "### I. Introduction (15 minutes)\n",
    "**Key Concepts**: Python, Anaconda, Jupyter Notebook\n",
    "\n",
    "- Brief Introduction to the Workshop Topics\n",
    "- Importance and Applications of Python in Data Science\n",
    "- Introduction to Python\n",
    "- Why Python for Data Science\n",
    "- Setting up the Python Environment: Anaconda & Jupyter Notebook\n",
    "\n",
    "---\n",
    "\n",
    "### II. Python Basics (30 minutes)\n",
    "\n",
    "**Key Concepts**: Variables, Data types, Arithmetic operations, String operations\n",
    "\n",
    "- Introduction to Python Syntax\n",
    "- Variables and Data Types in Python\n",
    "- Basic Arithmetic Operations\n",
    "- String Operations\n",
    "\n",
    "---\n",
    "\n",
    "### III. Control Structures in Python (30 minutes)\n",
    "\n",
    "**Key Concepts**: Conditional statements, Loops\n",
    "\n",
    "- Introduction to Control Structures\n",
    "- Conditional Statements: if, elif, else\n",
    "- Loops: for and while\n",
    "\n",
    "---\n",
    "\n",
    "### IV. Functions in Python (30 minutes)\n",
    "\n",
    "**Key Concepts**: Function definition, Built-in functions\n",
    "\n",
    "- Introduction to Functions in Python\n",
    "- Defining and Calling Functions\n",
    "- Basic Built-in Functions\n",
    "\n",
    "---\n",
    "\n",
    "### V. Python Data Structures (30 minutes)\n",
    "\n",
    "**Key Concepts**: Lists, Tuples, Dictionaries\n",
    "\n",
    "- Introduction to Python Data Structures\n",
    "- Lists: Creation, Access, Modification\n",
    "- Tuples: Creation, Access\n",
    "- Dictionaries: Creation, Access, Modification\n",
    "\n",
    "---\n",
    "\n",
    "### VI. Basic File I/O (15 minutes)\n",
    "\n",
    "**Key Concepts**: File reading, File writing\n",
    "\n",
    "- Introduction to File I/O in Python\n",
    "- Reading from a File\n",
    "- Writing to a File\n",
    "\n",
    "---\n",
    "\n",
    "### VII. Introduction to Libraries (15 minutes)\n",
    "\n",
    "**Key Concepts**: Importing libraries, Math, Random, Datetime\n",
    "\n",
    "- Introduction to Python Libraries\n",
    "- Importing Libraries\n",
    "- Math, Random, and Datetime Libraries\n",
    "\n",
    "---\n",
    "\n",
    "### VIII. Introduction to NumPy and pandas (30 minutes)\n",
    "\n",
    "**Key Concepts**: NumPy arrays, pandas DataFrames\n",
    "\n",
    "- Introduction to NumPy and pandas\n",
    "- Creating and Manipulating NumPy Arrays\n",
    "- Creating and Manipulating pandas DataFrames\n",
    "\n",
    "---\n",
    "\n",
    "### IX. Conclusion and Next Steps (15 minutes)\n",
    "\n",
    "- Recap of the Workshop\n",
    "- Overview of More Advanced Python Topics\n",
    "- Resources for Further Learning\n",
    "- Q&A and Closing Remarks"
   ]
  },
  {
   "attachments": {},
   "cell_type": "markdown",
   "metadata": {},
   "source": [
    "# Section 2: Python Basics"
   ]
  },
  {
   "attachments": {},
   "cell_type": "markdown",
   "metadata": {},
   "source": [
    "## Data Types\n",
    "\n",
    "In this part, we learn how to create variables in Python and assign values to them. Variables can be of various types, like **integer**, **float**, **string**, and **boolean**. We use the `print()` function to display the value of a variable and the `type()` function to determine its data type."
   ]
  },
  {
   "cell_type": "code",
   "execution_count": null,
   "metadata": {},
   "outputs": [],
   "source": [
    "# Integer\n",
    "\n",
    "# Float\n",
    "\n",
    "# String\n",
    "\n",
    "# Boolean\n"
   ]
  },
  {
   "attachments": {},
   "cell_type": "markdown",
   "metadata": {},
   "source": [
    "## Basic Arithmetic Operations\n",
    "\n",
    "Next, we cover the basic arithmetic operations that you can perform in Python. This includes **addition (`+`), subtraction (`-`), multiplication (`*`), division (`/`), modulus (`%`), and exponentiation (`**`)**. These operations work as you'd expect from your mathematics classes."
   ]
  },
  {
   "cell_type": "code",
   "execution_count": null,
   "metadata": {},
   "outputs": [],
   "source": [
    "# Addition\n",
    "\n",
    "# Subtraction\n",
    "\n",
    "# Multiplication\n",
    "\n",
    "# Division\n",
    "\n",
    "# Modulus\n",
    "\n",
    "# Exponentiation\n"
   ]
  },
  {
   "attachments": {},
   "cell_type": "markdown",
   "metadata": {},
   "source": [
    "## Basic string operations\n",
    "\n",
    "Finally, we explore several operations that can be performed on strings, which are sequences of characters. We see how to concatenate (join) strings using the `+` operator, repeat strings using the `*` operator, and access specific characters in a string via indexing (e.g., `s[0]`). We also learn how to get a substring from a string using slicing (e.g., `s[1:4]`), and determine the length of a string using the `len()` function."
   ]
  },
  {
   "cell_type": "code",
   "execution_count": null,
   "metadata": {},
   "outputs": [],
   "source": [
    "# String Concatenation\n",
    "\n",
    "\n",
    "# String Repetition\n",
    "\n",
    "# String Indexing\n",
    "\n",
    "# String Slicing\n",
    "\n",
    "# String Length\n"
   ]
  },
  {
   "attachments": {},
   "cell_type": "markdown",
   "metadata": {},
   "source": [
    "This section forms the foundation of Python programming. As you proceed with the workshop, you'll find that these concepts are integral to understanding and writing Python code, whether it's for simple tasks or complex data science projects."
   ]
  },
  {
   "attachments": {},
   "cell_type": "markdown",
   "metadata": {},
   "source": [
    "# Section 3: Control Structures"
   ]
  },
  {
   "attachments": {},
   "cell_type": "markdown",
   "metadata": {},
   "source": [
    "## Conditional Statement:\n",
    "\n",
    "This part introduces conditional statements in Python, which allow us to execute certain pieces of code based on specific conditions. We learn about the **if statement**, which checks if a condition is true and executes a block of code if it is. We also learn about the else clause, which lets us specify a block of code to be executed if the condition in the if statement is false. Lastly, we cover the **elif** clause (short for \"else if\"), which allows us to check multiple conditions and execute a block of code as soon as one of the conditions evaluates to true."
   ]
  },
  {
   "cell_type": "code",
   "execution_count": null,
   "metadata": {},
   "outputs": [],
   "source": [
    "# if statement\n",
    "\n",
    "# if-else statement\n",
    "\n",
    "# if-elif-else statement\n"
   ]
  },
  {
   "attachments": {},
   "cell_type": "markdown",
   "metadata": {},
   "source": [
    "## Loops\n",
    "\n",
    "Next, we learn about loops in Python, which allow us to execute a block of code multiple times. We cover the for loop, which iterates over a sequence (like a list or a string) or other iterable objects. We also learn about the `range()` function, which generates a sequence of numbers that we can iterate over. Lastly, we cover the while loop, which continues to execute a block of code as long as a certain condition remains true."
   ]
  },
  {
   "attachments": {},
   "cell_type": "markdown",
   "metadata": {},
   "source": [
    "### For Loops\n",
    "\n",
    "In this part, we learn how to use the for loop to iterate over different types of sequences, including lists and strings. The for loop executes a block of code for each item in the sequence, making it extremely useful for tasks that involve processing collections of items, such as summing a list of numbers or processing each character in a text string. \n",
    "\n",
    "We also introduce the concept of nested for loops, which involves placing one loop inside another, allowing for more complex iteration patterns."
   ]
  },
  {
   "cell_type": "code",
   "execution_count": null,
   "metadata": {},
   "outputs": [],
   "source": [
    "# Iterating over a list\n",
    "\n",
    "# Iterating over a string\n",
    "\n",
    "# Using the range function\n",
    "\n",
    "# Using nested for loops\n"
   ]
  },
  {
   "attachments": {},
   "cell_type": "markdown",
   "metadata": {},
   "source": [
    "### While Loops"
   ]
  },
  {
   "attachments": {},
   "cell_type": "markdown",
   "metadata": {},
   "source": [
    "Next, we cover the while loop, which repeatedly executes a block of code as long as a given condition is true. This is useful for tasks where you don't know in advance how many times the loop should run (for example, when you're waiting for a certain condition to be met). \n",
    "\n",
    "We also introduce the break and continue statements, which provide more control over the loop execution. The break statement allows us to exit the loop prematurely when a certain condition is met, while the continue statement allows us to skip the rest of the current loop iteration and immediately proceed to the next one."
   ]
  },
  {
   "cell_type": "code",
   "execution_count": null,
   "metadata": {},
   "outputs": [],
   "source": [
    "# Basic while loop\n",
    "\n",
    "# While loop with break statement\n",
    "\n",
    "# While loop with continue statement\n"
   ]
  },
  {
   "attachments": {},
   "cell_type": "markdown",
   "metadata": {},
   "source": [
    "# Section 4: Functions"
   ]
  },
  {
   "attachments": {},
   "cell_type": "markdown",
   "metadata": {},
   "source": [
    "Define a Function:\n",
    "\n",
    "In this part, we learn how to define our own functions using the def keyword. A function is a reusable block of code that performs a specific task. Once a function is defined, we can call it by its name, followed by parentheses. This allows us to execute the code within the function"
   ]
  },
  {
   "cell_type": "code",
   "execution_count": null,
   "metadata": {},
   "outputs": [],
   "source": [
    "# Defining a function\n",
    "\n",
    "# Calling a function"
   ]
  },
  {
   "attachments": {},
   "cell_type": "markdown",
   "metadata": {},
   "source": [
    "Function with parameters:\n",
    "\n",
    "Next, we learn how to define functions with parameters. Parameters are variables that are included in the function definition and that accept values when the function is called. The values that we provide to the function at the call are known as arguments."
   ]
  },
  {
   "cell_type": "code",
   "execution_count": null,
   "metadata": {},
   "outputs": [],
   "source": [
    "# Defining a function with a parameter\n",
    "\n",
    "# Calling a function with an argument\n"
   ]
  },
  {
   "attachments": {},
   "cell_type": "markdown",
   "metadata": {},
   "source": [
    "Function with return values:\n",
    "\n",
    "Here, we learn how to return a value from a function using the return keyword. The returned value can be stored in a variable or used directly in an expression. This allows us to produce output from our functions that can be used elsewhere in our code."
   ]
  },
  {
   "cell_type": "code",
   "execution_count": null,
   "metadata": {},
   "outputs": [],
   "source": [
    "# Defining a function with a return value\n",
    "\n",
    "# Calling a function and storing its return value\n"
   ]
  },
  {
   "attachments": {},
   "cell_type": "markdown",
   "metadata": {},
   "source": [
    "Default and Keyword Arguments:\n",
    "\n",
    "Lastly, we cover default arguments, which are parameters that have a default value provided in the function definition. This value is used if no argument is provided for that parameter when the function is called. We also learn about keyword arguments, which are arguments provided at the function call, specified by the parameter name. This allows us to call a function with arguments in any order."
   ]
  },
  {
   "cell_type": "code",
   "execution_count": null,
   "metadata": {},
   "outputs": [],
   "source": [
    "# Defining a function with a default argument\n",
    "\n",
    "# Calling a function without providing an argument\n",
    "\n",
    "# Defining a function with keyword arguments\n",
    "\n",
    "# Calling a function with keyword arguments\n"
   ]
  },
  {
   "attachments": {},
   "cell_type": "markdown",
   "metadata": {},
   "source": [
    "Add-on: Build-in Functions"
   ]
  },
  {
   "cell_type": "code",
   "execution_count": null,
   "metadata": {},
   "outputs": [],
   "source": [
    "# Basic built-in functions\n"
   ]
  },
  {
   "attachments": {},
   "cell_type": "markdown",
   "metadata": {},
   "source": [
    "# Section 4: Python Data Structures"
   ]
  },
  {
   "attachments": {},
   "cell_type": "markdown",
   "metadata": {},
   "source": [
    "## Lists\n",
    "\n",
    "Lists are ordered collections of items that are mutable, meaning we can add, remove, or change items after the list is created. In this part, we learn how to create a list, access its elements using indices, modify its elements, and add or remove elements using the `append()` and `remove()` methods, respectively."
   ]
  },
  {
   "cell_type": "code",
   "execution_count": null,
   "metadata": {},
   "outputs": [],
   "source": [
    "# Creating a list\n",
    "\n",
    "# Accessing elements\n",
    "\n",
    "\n",
    "# Modifying elements\n",
    "\n",
    "\n",
    "# Adding elements\n",
    "\n",
    "\n",
    "# Removing elements\n"
   ]
  },
  {
   "cell_type": "code",
   "execution_count": null,
   "metadata": {},
   "outputs": [],
   "source": [
    "# examples of list comprehension\n"
   ]
  },
  {
   "attachments": {},
   "cell_type": "markdown",
   "metadata": {},
   "source": [
    "## Tuples\n",
    "\n",
    "Tuples are similar to lists, but they are immutable, meaning we can't change their size or the values of their items once they're created. This makes tuples useful for grouping related data and ensuring it doesn't get changed. We learn how to create a tuple and access its elements."
   ]
  },
  {
   "cell_type": "code",
   "execution_count": null,
   "metadata": {},
   "outputs": [],
   "source": [
    "# Creating a tuple\n",
    "\n",
    "# Accessing elements\n",
    "\n",
    "\n",
    "# Tuples are immutable\n",
    "# fruits[1] = \"blueberry\"  # This will raise an error"
   ]
  },
  {
   "attachments": {},
   "cell_type": "markdown",
   "metadata": {},
   "source": [
    "## Dictionary\n",
    "\n",
    "Dictionaries are unordered collections of key-value pairs, where each key is unique. This allows us to access, modify, add, or remove items using their keys, which can be any immutable data type. We learn how to create a dictionary, access its elements using keys, modify its elements, and add or remove elements."
   ]
  },
  {
   "cell_type": "code",
   "execution_count": null,
   "metadata": {},
   "outputs": [],
   "source": [
    "# Creating a dictionary\n",
    "\n",
    "# Accessing elements\n",
    "\n",
    "# Modifying elements\n",
    "\n",
    "\n",
    "# Adding elements\n",
    "\n",
    "\n",
    "# Removing elements\n"
   ]
  },
  {
   "cell_type": "code",
   "execution_count": null,
   "metadata": {},
   "outputs": [],
   "source": [
    "# Dictionaries\n"
   ]
  },
  {
   "attachments": {},
   "cell_type": "markdown",
   "metadata": {},
   "source": [
    "# Section 5: Basic File I/O"
   ]
  },
  {
   "attachments": {},
   "cell_type": "markdown",
   "metadata": {},
   "source": [
    "Writing a text file"
   ]
  },
  {
   "cell_type": "code",
   "execution_count": null,
   "metadata": {},
   "outputs": [],
   "source": [
    "# Writing to a file\n"
   ]
  },
  {
   "attachments": {},
   "cell_type": "markdown",
   "metadata": {},
   "source": [
    "Reading a text file"
   ]
  },
  {
   "cell_type": "code",
   "execution_count": null,
   "metadata": {},
   "outputs": [],
   "source": [
    "# Reading from a file\n"
   ]
  },
  {
   "attachments": {},
   "cell_type": "markdown",
   "metadata": {},
   "source": [
    "# Section 6: Introduction to Libraries"
   ]
  },
  {
   "attachments": {},
   "cell_type": "markdown",
   "metadata": {},
   "source": [
    "Importing Libraries:\n",
    "\n",
    "In Python, libraries are collections of functions and methods that allow you to carry out many actions without writing your code. In this part, we learned how to import the `math` library and use its `sqrt()` function to calculate the square root of a number."
   ]
  },
  {
   "cell_type": "code",
   "execution_count": null,
   "metadata": {},
   "outputs": [],
   "source": [
    "# Importing a library\n",
    "\n",
    "\n",
    "# Using a function from the library\n"
   ]
  },
  {
   "attachments": {},
   "cell_type": "markdown",
   "metadata": {},
   "source": [
    "Importing with Aliases:\n",
    "\n",
    "Sometimes, for convenience and ease of use, libraries are imported using aliases. Here, we imported the `random` library using `rnd` as an alias, and then used the `randint()` function to generate a random integer."
   ]
  },
  {
   "cell_type": "code",
   "execution_count": null,
   "metadata": {},
   "outputs": [],
   "source": [
    "# Importing a library with an alias\n",
    "\n",
    "\n",
    "# Using a function from the library\n",
    "\n"
   ]
  },
  {
   "attachments": {},
   "cell_type": "markdown",
   "metadata": {},
   "source": [
    "Importing Specific Functions:\n",
    "\n",
    "When we only need a specific function from a library, we can import that alone. In this example, we imported the `date` function from the `datetime` library to print today's date."
   ]
  },
  {
   "cell_type": "code",
   "execution_count": null,
   "metadata": {},
   "outputs": [],
   "source": [
    "# Importing a specific function\n",
    "\n",
    "\n",
    "# Using the function\n",
    "\n"
   ]
  },
  {
   "attachments": {},
   "cell_type": "markdown",
   "metadata": {},
   "source": [
    "Exploring Library Documentation:\n",
    "\n",
    "Understanding how to use a function is crucial when programming. The `help()` function provides a way to access the documentation of a function, which can provide useful information on how to use it. Here, we used `help()` to access the documentation for the `sqrt` function from the `math` library."
   ]
  },
  {
   "cell_type": "code",
   "execution_count": null,
   "metadata": {},
   "outputs": [],
   "source": [
    "# Getting help on a function\n"
   ]
  },
  {
   "attachments": {},
   "cell_type": "markdown",
   "metadata": {},
   "source": [
    "# Section 7: Introduction to NumPy and pandas"
   ]
  },
  {
   "cell_type": "code",
   "execution_count": null,
   "metadata": {},
   "outputs": [],
   "source": [
    "# Importing NumPy and pandas\n"
   ]
  },
  {
   "attachments": {},
   "cell_type": "markdown",
   "metadata": {},
   "source": [
    "## Numpy\n",
    "\n",
    "NumPy (Numerical Python) is a powerful library for performing mathematical and logical operations on arrays. In this part, we learn how to create a NumPy array and perform operations on it. We also see how NumPy enables element-wise computations, which are highly efficient and useful for scientific computing."
   ]
  },
  {
   "cell_type": "code",
   "execution_count": null,
   "metadata": {},
   "outputs": [],
   "source": [
    "# Importing numpy\n",
    "\n",
    "\n",
    "# Creating a numpy array\n"
   ]
  },
  {
   "cell_type": "code",
   "execution_count": null,
   "metadata": {},
   "outputs": [],
   "source": [
    "# Performing operations on numpy arrays\n"
   ]
  },
  {
   "attachments": {},
   "cell_type": "markdown",
   "metadata": {},
   "source": [
    "## Pandas\n",
    "\n",
    "pandas is a high-level data manipulation tool that's built on the NumPy package. It's key data structure is called the DataFrame, which allows you to manipulate and analyze data in a tabular form. In this section, we learn how to create a DataFrame, access its data, and apply descriptive statistics methods. pandas is essential for data manipulation and analysis in Python, and is commonly used in conjunction with other data science libraries."
   ]
  },
  {
   "cell_type": "code",
   "execution_count": null,
   "metadata": {},
   "outputs": [],
   "source": [
    "# Importing pandas\n",
    "\n",
    "\n",
    "# Creating a pandas DataFrame\n"
   ]
  },
  {
   "cell_type": "code",
   "execution_count": null,
   "metadata": {},
   "outputs": [],
   "source": [
    "# Accessing data in DataFrame\n",
    "\n",
    "\n",
    "# Descriptive statistics\n"
   ]
  },
  {
   "cell_type": "code",
   "execution_count": null,
   "metadata": {},
   "outputs": [],
   "source": [
    "# Continuing from the previous pandas example\n",
    "\n",
    "# Adding a new column to the DataFrame\n"
   ]
  },
  {
   "cell_type": "code",
   "execution_count": null,
   "metadata": {},
   "outputs": [],
   "source": [
    "# Saving DataFrame to a csv file\n"
   ]
  },
  {
   "cell_type": "code",
   "execution_count": null,
   "metadata": {},
   "outputs": [],
   "source": [
    "# Reading a csv file to a DataFrame\n"
   ]
  },
  {
   "cell_type": "code",
   "execution_count": null,
   "metadata": {},
   "outputs": [],
   "source": [
    "# Accessing data using conditions\n"
   ]
  },
  {
   "cell_type": "code",
   "execution_count": null,
   "metadata": {},
   "outputs": [],
   "source": [
    "# Grouping data\n"
   ]
  },
  {
   "cell_type": "code",
   "execution_count": null,
   "metadata": {},
   "outputs": [],
   "source": [
    "# Applying functions\n"
   ]
  },
  {
   "attachments": {},
   "cell_type": "markdown",
   "metadata": {},
   "source": [
    "In this section, we expand our knowledge of pandas DataFrames. First, we learn how to add a new column to the DataFrame. Then, we cover how to save the DataFrame as a `csv` file using the `to_csv` method and how to read the csv file back into a DataFrame using the `read_csv` function.\n",
    "\n",
    "We also delve into more complex operations on DataFrames, such as accessing data using conditions, grouping data by a certain column, and applying functions to columns. These operations are essential for data manipulation and analysis in pandas.\n",
    "\n",
    "Finally, we use the `apply()` method to apply a function to each element in a DataFrame column. This is a powerful tool that allows us to perform complex transformations on our data. In this example, we use a `lambda` function to add 1 to each age in the 'Age' column."
   ]
  },
  {
   "attachments": {},
   "cell_type": "markdown",
   "metadata": {},
   "source": []
  }
 ],
 "metadata": {
  "language_info": {
   "name": "python"
  },
  "orig_nbformat": 4
 },
 "nbformat": 4,
 "nbformat_minor": 2
}
