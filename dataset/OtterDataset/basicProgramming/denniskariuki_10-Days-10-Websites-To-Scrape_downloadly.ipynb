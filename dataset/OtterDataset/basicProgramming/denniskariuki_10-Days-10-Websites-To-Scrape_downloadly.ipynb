{
 "cells": [
  {
   "cell_type": "markdown",
   "metadata": {},
   "source": [
    "Downloadly Website WebScraping BOT"
   ]
  },
  {
   "cell_type": "code",
   "execution_count": 1,
   "metadata": {},
   "outputs": [],
   "source": [
    "#importing the necessary libraries\n",
    "\n",
    "import csv\n",
    "import os\n",
    "from bs4 import BeautifulSoup\n",
    "import requests\n",
    "import pandas as pd"
   ]
  },
  {
   "cell_type": "code",
   "execution_count": 2,
   "metadata": {},
   "outputs": [
    {
     "name": "stdout",
     "output_type": "stream",
     "text": [
      "The Link https://downloadlynet.org/ is Accessible , Status = 200 OK\n"
     ]
    }
   ],
   "source": [
    "#Checking to see if the website is accessible using check Link Function\n",
    "\n",
    "def check_link(url):\n",
    "    try:\n",
    "        page = requests.get(url)\n",
    "        \n",
    "        status_code = page.status_code\n",
    "        if status_code ==200:\n",
    "            print(f'The Link {url} is Accessible , Status = {status_code} OK')\n",
    "        else:\n",
    "            print(f'The Link {url} is not Accessible , Status = {status_code}')\n",
    "    except ConnectionError:\n",
    "        print(f'Failed To Connect to {url}')\n",
    "\n",
    "if __name__ =='__main__':\n",
    "    link_to_check ='https://downloadlynet.org/'\n",
    "    check_link(link_to_check)"
   ]
  },
  {
   "cell_type": "code",
   "execution_count": 3,
   "metadata": {},
   "outputs": [],
   "source": [
    "url ='https://downloadlynet.org/'\n",
    "page = requests.get(url)\n",
    "soup1 = BeautifulSoup(page.content,'html.parser')\n",
    "\n",
    "#Scrape The Title for the First Page\n",
    "\n",
    "def get_project_title(soup1):\n",
    "    project_title_tags =soup1.find_all('h2', attrs={'class':'post-title'})\n",
    "    project_title=[]\n",
    "    for tags in project_title_tags:\n",
    "        project_title.append(tags.text)\n",
    "    return project_title"
   ]
  },
  {
   "cell_type": "code",
   "execution_count": 4,
   "metadata": {},
   "outputs": [
    {
     "data": {
      "text/plain": [
       "['Udemy – Learn Python From Zero to Master Object Oriented Programming 2022-8',\n",
       " 'Udemy – Write Html & Css 5 Times Faster With Vs Code & Emmet 2023 2022-12',\n",
       " 'Udemy – Django 4 Python Masterclass 2023: Full stack web development 2022-12',\n",
       " 'Udemy – Exploring The Technologies Behind ChatGPT, GPT4 & LLMs 2022-12',\n",
       " 'Udemy – Pipe Support Engineering for Industrial Piping Systems 2023-3',\n",
       " 'Udemy – iPhone Filmmaker Masterclass 2023-10',\n",
       " 'Udemy – Dependency Injection in .NET 8 and ASP.NET Core 2021-11',\n",
       " 'Udemy – Business English Vocabulary: Learn 600 Essential Words 2023-2',\n",
       " 'JP Software Take Command',\n",
       " 'StreamFab 6.1.6.3 x64',\n",
       " 'Udemy – ASP.NET Core Identity & Security (. NET 8) 2023-2',\n",
       " 'OneCommander 3.45.1.0 / Pro 3.68.0',\n",
       " 'Udemy – React JS & Firebase Complete Course (incl. Chat Application) 2021-5',\n",
       " 'Udemy – Rest Api’s in Asp.Net Core and C# 2024 Edition 2022-11',\n",
       " 'Udemy – React Native E-commerce App 2023-7',\n",
       " 'Udemy – Full Character Rigging in After Effects | Knowing Everything 2022-1',\n",
       " 'Sejda PDF Desktop Pro 7.6.8',\n",
       " 'Marvelous Designer 12 Personal 7.3.133 x64 / 7.5 macOS',\n",
       " 'Syncovery Premium 10.11.7.167 x64',\n",
       " 'Tangible Software Solutions (Source Code Converters) 2024.01 x64']"
      ]
     },
     "execution_count": 4,
     "metadata": {},
     "output_type": "execute_result"
    }
   ],
   "source": [
    "get_project_title(soup1)"
   ]
  },
  {
   "cell_type": "code",
   "execution_count": 5,
   "metadata": {},
   "outputs": [],
   "source": [
    "def get_time_published(soup1):\n",
    "    time_published_tags= soup1.find_all('time' , attrs={'class':'entry-date published'})\n",
    "    time_published=[]\n",
    "    for tags in time_published_tags:\n",
    "        time_published.append(tags.text)\n",
    "    return time_published"
   ]
  },
  {
   "cell_type": "code",
   "execution_count": 6,
   "metadata": {},
   "outputs": [
    {
     "data": {
      "text/plain": [
       "['11 hours ago',\n",
       " '11 hours ago',\n",
       " '4 hours ago',\n",
       " '9 hours ago',\n",
       " '11 hours ago',\n",
       " '5 hours ago',\n",
       " '13 hours ago',\n",
       " '8 hours ago',\n",
       " '3 hours ago',\n",
       " '2 weeks ago',\n",
       " '14 hours ago',\n",
       " '3 weeks ago',\n",
       " '14 hours ago',\n",
       " '17 hours ago',\n",
       " '15 hours ago',\n",
       " '18 hours ago',\n",
       " '19 hours ago',\n",
       " '16 hours ago',\n",
       " '14 hours ago',\n",
       " '14 hours ago']"
      ]
     },
     "execution_count": 6,
     "metadata": {},
     "output_type": "execute_result"
    }
   ],
   "source": [
    "get_time_published(soup1)"
   ]
  },
  {
   "cell_type": "code",
   "execution_count": 7,
   "metadata": {},
   "outputs": [],
   "source": [
    "#Scrape Brief Description\n",
    "\n",
    "def get_brief_description(soup1):\n",
    "    brief_description_tags = soup1.find_all('div', attrs={'class':'post-excerpt'})\n",
    "    brief_description =[]\n",
    "    for tags in brief_description_tags:\n",
    "        brief_description.append(tags.text)\n",
    "    return brief_description\n"
   ]
  },
  {
   "cell_type": "code",
   "execution_count": 8,
   "metadata": {},
   "outputs": [
    {
     "data": {
      "text/plain": [
       "['Learn Python From Zero to Master Object Oriented Programming course. Python is a programming language for both absolute beginners who have never programmed before and experienced programmers who want to increase their career options by learning Python. Python is actually one of the most common programming languages \\u200b\\u200bin the world that large organizations like Google…\\n',\n",
       " 'Write Html & Css 5 Times Faster With Vs Code & Emmet 2023 Course In the introductory part of the course, I will help you master the basic features of Visual Studio Code. I will also show you how to customize Visual Studio Code by changing themes and changing sidebars and top bars, you will…\\n',\n",
       " 'Django 4 Python Masterclass 2023 course: Full stack web development. Learn the entire technology stack to create a beautiful and responsive Ecommerce website with Django. By developing this Django website, you will learn how to deal with real Django application(s) and real project needs. By completing this Django tutorial, you will learn most of the…\\n',\n",
       " 'Exploring The Technologies Behind ChatGPT GPT4 & LLMs Course Welcome to this course Designed for learners of all levels, this masterful course provides an in-depth understanding of the transformative impact of GPT-4 and ChatGPT on modern NLP. Delve into the rich history of NLP, explore the foundations of transformer models, and understand the intricacies of…\\n',\n",
       " 'Pipe Support Engineering for Industrial Piping Systems, Pipe Support Engineering for Industrial piping systems includes the supporting philosophy for pressure piping systems mainly process piping, power piping, and utility piping. The intent of this course is to make piping designers and engineers aware of the basics of Pipe Support Engineering. Having the knowledge of Pipe…\\n',\n",
       " 'iPhone Filmmaker Masterclass is a training course for filming with iPhone phones, published by Udemy Online Academy. In this training course, you will get to know the world of filming and its various tips and techniques. The basics of videography will help you understand how the iPhone camera works and what are the limitations and…\\n',\n",
       " 'Dependency Injection in .NET 8 and ASP.NET Core, Boost your career prospects by mastering the cutting-edge techniques of Dependency Injection in .NET and ASP.NET\\xa0Core with this comprehensive online course, now updated for .NET 8. With Dependency Injection, you can eliminate the dependency between modules and classes, resulting in more modular, reusable, and maintainable code. In…\\n',\n",
       " 'Business English Vocabulary: Learn 600 Essential Words, This online Business English course will help you to understand and use over 600 words essential for doing business in English.\\xa0This course is designed for people\\xa0who use Business\\xa0English\\xa0and want to improve\\xa0their ability to speak, write, read and listen in English. This course uses my unique language learning technique,…\\n',\n",
       " 'Take Command is an interactive graphical interface and command line environment, making use of the Windows command line command to write batch files.\\xa0Take Command shows the command line of your programs in multiple windows.\\xa0The software includes hundreds of major enhancements to CMD commands including COPY, DEL, DIR and MOVE and the ability to add over…\\n',\n",
       " 'StreamFab is one of the best online music and video download software. Founded in 2019, StreamFab is the leading international streaming downloader dedicated to developing and exploring a secure streaming download experience for everyone. Our team works to innovate and create a better and more impactful streaming download platform for the world. StreamFab software is…\\n',\n",
       " 'ASP.NET Core Identity & Security (. NET 8), With our comprehensive course, unlock the full potential of cutting-edge ASP .NET Core identity management and security. Strengthen your application’s defences against cyber threats through hands-on expertise and in-depth knowledge. This course delves into essential topics, starting with robust cookie-based authentication and advancing to intricate techniques like…\\n',\n",
       " 'OneCommander filename manager is designed with an open interface and user experience . This program has tried to style the design of Windows 10 at the side of features such as tree view and dual for a file manager off and, of course, to run to the Windows 10 needs . The basic features a…\\n',\n",
       " 'React JS & Firebase Complete Course (incl. Chat Application) is a Firebase training course and React js library published by Udemy Online Academy. ReactJS, often referred to as React, is an open source JavaScript library. This library is a front-end framework that is widely used to build user interfaces. Its flexibility, efficiency and focus on…\\n',\n",
       " 'Rest Api’s in Asp.Net Core and C# 2024 Edition is a training course on building REST APIs with ASP.NET Core and C# (C#) published by Udemy Online Academy. Building REST APIs with ASP.NET Core and C# is a popular and powerful approach to creating web services. ASP.NET Core is a high-performance cross-platform framework for building…\\n',\n",
       " 'React Native E-commerce App is an e-commerce application development course with the React Native framework published by Udemy Online Academy. The e-commerce application with the React Native framework is a mobile application that is built using the React Native framework and is specifically designed for purchasing and conducting e-commerce transactions. React Native is a popular…\\n',\n",
       " 'Full Character Rigging in After Effects | Knowing Everything is a character training course in After Effects published by Udemy Online Academy. Character rigging in After Effects refers to the process of creating a structure for a 2D or 3D character that allows for smooth and realistic animation. This technique is usually used in motion…\\n',\n",
       " 'Sejda PDF Desktop – Pleasant and productive PDF software that you’ll love to use. Full-featured to help you with your PDF tasks. Sejda PDF Desktop is free to use within daily limits. Upgrade for premium features and unlimited use. Sejda is a comprehensive PDF editing tool that can be used on the cloud or as…\\n',\n",
       " 'Marvelous Designer product of CLO Virtual Fashion design beautiful clothes for a virtual three-dimensional.\\xa0With these tools in a short time can be the most simple T-shirts to wear with complex textures and even heavy and rough uniforms with high quality in a three-dimensional design.\\xa0Marvelous Designer supports 3D application software and having an interactive user interface…\\n',\n",
       " 'Syncovery is a software for backing up and synchronizing files and folders.\\xa0With this program you can back up your important files and folders and synchronize them across different devices.\\xa0This program has a very fast speed, and its synchronization function is instantaneous, meaning the smallest changes to the folder structure and content of the file, and…\\n',\n",
       " 'Tangible Source Code Converters is a set of useful tools for converting source code between VB, C #, Java and C ++ languages.\\xa0These languages \\u200b\\u200bare often used by many developers because of their importance, but you may need to use source code written in a language other than your own for a variety of reasons.\\xa0In…\\n']"
      ]
     },
     "execution_count": 8,
     "metadata": {},
     "output_type": "execute_result"
    }
   ],
   "source": [
    "get_brief_description(soup1)"
   ]
  },
  {
   "cell_type": "code",
   "execution_count": 9,
   "metadata": {},
   "outputs": [
    {
     "name": "stdout",
     "output_type": "stream",
     "text": [
      "The Link https://downloadlynet.org/page/2/ is Accessible , Status = 200 OK\n",
      "Scraping https://downloadlynet.org/page/2/\n",
      "The Link https://downloadlynet.org/page/3/ is Accessible , Status = 200 OK\n",
      "Scraping https://downloadlynet.org/page/3/\n",
      "The Link https://downloadlynet.org/page/4/ is Accessible , Status = 200 OK\n",
      "Scraping https://downloadlynet.org/page/4/\n",
      "The Link https://downloadlynet.org/page/5/ is Accessible , Status = 200 OK\n",
      "Scraping https://downloadlynet.org/page/5/\n",
      "The Link https://downloadlynet.org/page/6/ is Accessible , Status = 200 OK\n",
      "Scraping https://downloadlynet.org/page/6/\n",
      "The Link https://downloadlynet.org/page/7/ is Accessible , Status = 200 OK\n",
      "Scraping https://downloadlynet.org/page/7/\n",
      "The Link https://downloadlynet.org/page/8/ is Accessible , Status = 200 OK\n",
      "Scraping https://downloadlynet.org/page/8/\n",
      "The Link https://downloadlynet.org/page/9/ is Accessible , Status = 200 OK\n",
      "Scraping https://downloadlynet.org/page/9/\n",
      "The Link https://downloadlynet.org/page/10/ is Accessible , Status = 200 OK\n",
      "Scraping https://downloadlynet.org/page/10/\n",
      "The Link https://downloadlynet.org/page/11/ is Accessible , Status = 200 OK\n",
      "Scraping https://downloadlynet.org/page/11/\n",
      "The Link https://downloadlynet.org/page/12/ is Accessible , Status = 200 OK\n",
      "Scraping https://downloadlynet.org/page/12/\n"
     ]
    }
   ],
   "source": [
    "#Iterate through the entire pages in the website:\n",
    "\n",
    "def scrape_all_pages(base_url , num_of_pages):\n",
    "    all_titles=[]\n",
    "    all_time=[]\n",
    "    all_desc=[]\n",
    "\n",
    "    urls =[f'{base_url}page/{page}/' for page in range (2, num_of_pages + 1)]\n",
    "\n",
    "    for url in urls:\n",
    "        soup2= check_link(url)\n",
    "        print('Scraping', url)\n",
    "\n",
    "        if soup1:\n",
    "            titles = get_project_title(soup1)\n",
    "            time = get_time_published(soup1)\n",
    "            desc=get_brief_description(soup1)\n",
    "\n",
    "\n",
    "            all_titles.extend(titles)\n",
    "            all_time.extend(time)\n",
    "            all_desc.extend(desc)\n",
    "\n",
    "        else:\n",
    "            print(f'Nothing To Scrape')\n",
    "    return all_titles , all_time, all_desc\n",
    "\n",
    "if __name__ =='__main__':\n",
    "    base_url='https://downloadlynet.org/'\n",
    "    num_of_pages =64\n",
    "\n",
    "    all_titles, all_time, all_desc = scrape_all_pages(base_url , num_of_pages)\n",
    "\n",
    "    df = pd.DataFrame({'Titles': all_titles , 'Posted Time':all_time, 'Short Description': all_desc})\n",
    "    print(df)"
   ]
  }
 ],
 "metadata": {
  "kernelspec": {
   "display_name": "base",
   "language": "python",
   "name": "python3"
  },
  "language_info": {
   "codemirror_mode": {
    "name": "ipython",
    "version": 3
   },
   "file_extension": ".py",
   "mimetype": "text/x-python",
   "name": "python",
   "nbconvert_exporter": "python",
   "pygments_lexer": "ipython3",
   "version": "3.11.5"
  }
 },
 "nbformat": 4,
 "nbformat_minor": 2
}
