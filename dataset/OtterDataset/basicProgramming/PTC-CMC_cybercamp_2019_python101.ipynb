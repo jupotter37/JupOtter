{
 "cells": [
  {
   "cell_type": "markdown",
   "metadata": {},
   "source": [
    "# Homework 1: Getting Started with Python, Jupyter, Plotting\n",
    "----\n",
    "\n",
    "For the first assignment, we will review the beginner concepts of programming, using the Python programming language. Most if not all of the assignments will be served in these interactive notebooks, called Jupyter Notebooks.\n",
    "\n",
    "Think of Jupyter Notebooks like a digital lab notebook. In these you can type up notes, you can use programming languages like Python to analyze data, you can plot data and make graphs as well. All in the same document!\n",
    "\n",
    "They can even be used to create presentations! These tools are becoming more and more popular in higher education and industry, we recommend using these notebooks when you can. Becoming comfortable with these tools will be invaluable as you progress through your classes and begin looking for internships and jobs.  "
   ]
  },
  {
   "cell_type": "markdown",
   "metadata": {},
   "source": [
    "## Part 1: Jupyter, brief overview\n",
    "---\n",
    "\n",
    "[Jupyter Notebooks](https://jupyter-notebook.readthedocs.io/en/stable/index.html) are interactive webpages that can contain written sections using the [Markdown](https://commonmark.org/help/) markup language. In fact, all the text in these notebooks are written in Markdown.\n",
    "\n",
    "Since these notebooks are interactive webpages, as long as someone has a web browser and the proper programs installed on their computer, anyone can view these documents.\n",
    "\n",
    "\n",
    "## Part 2: How to use Jupyter\n",
    "---\n",
    "\n",
    "We are now going to walk through the interface of Jupyter and how to use it.\n",
    "\n",
    "To begin refer to [this document](https://jupyter-notebook.readthedocs.io/en/stable/notebook.html#creating-a-new-notebook-document) for a basic overview of Jupyter and how to use the notebook. \n",
    "\n",
    "The link above describes how to make a new document, this behaves similarly to most other programs like Microsoft Office and Apple's iWork suite. \n",
    "\n",
    "You can make new, blank notebooks using the: <kbd>File</kbd> -> <kbd>New Notebook</kbd> -> <kbd>Python 3</kbd>\n",
    "buttons at the top of your screen.\n",
    "\n",
    "The main interface of Jupyter Notebooks are located at the top of the screen.\n",
    "The main elements are highlighted in the image below:\n",
    "<img src=\"./images/notebook-ui.png\" alt=\"Drawing\" style=\"width: 700px;\"/>\n"
   ]
  },
  {
   "cell_type": "markdown",
   "metadata": {},
   "source": [
    "What makes Jupyter so useful, is the fact that it supports programming languages that can be executed in the notebook, and the output of those programs are also stored, in addition to regular text as well. For example, observe the cell below. It contains Python code, and we will observe how this snippet of code can be executed, and the output is also displayed. \n",
    "\n",
    "To execute the cells that contain python code:\n",
    "--\n",
    "1. Click on the cell using your mouse\n",
    "--\n",
    "2. when the side of the cell turns green, press <kbd>SHIFT</kbd>+<kbd>RET</kbd>, or <kbd>SHIFT</kbd>+<kbd>ENTER</kbd>\n",
    "--\n",
    "\n",
    "\n",
    "The data you collect, your notes on that data, and the code you use to analyze the data, can all be stored in the same document! You can always refer back to that notebook document and remember how you got that answer to a certain homework problem, or how you made that graph for a lab write-up.\n",
    "\n",
    "----"
   ]
  },
  {
   "cell_type": "markdown",
   "metadata": {},
   "source": [
    "Lets begin with some use case examples. \n",
    "\n",
    "To begin, read through the comments in the python code cell below.\n",
    "\n",
    "Execute the cell and make sure you have a version of python that is 3.5.* the last number does not matter as much. The asterisk (*) denotes that the version number could be anything from 0-9\n",
    "\n",
    "---"
   ]
  },
  {
   "cell_type": "code",
   "execution_count": 1,
   "metadata": {},
   "outputs": [
    {
     "name": "stdout",
     "output_type": "stream",
     "text": [
      "Python 3.7.3\r\n"
     ]
    }
   ],
   "source": [
    "# This is a code block!\n",
    "\n",
    "# In programming languages, there are special characters that tell\n",
    "# the program to ignore certain lines. Those are called comment characters.\n",
    "# Lines marked with those characters are treated as comments, where\n",
    "# the programmer can leave notes for people using their code.\n",
    "# You want to always comment your code, that way you know how your code works\n",
    "# when you come back to it in a semester or two!\n",
    "\n",
    "# First, lets see what version of python we are using\n",
    "!python --version"
   ]
  },
  {
   "cell_type": "markdown",
   "metadata": {},
   "source": [
    "----\n",
    "\n",
    "As you see above, the output of the command is placed directly into the notebook!\n",
    "\n",
    "The comments in the code are not displayed, because python knows to ignore those lines with\n",
    "a `#` character at the beginning!\n",
    "\n",
    "If you need to write a larger section of comments that might take a few lines, you can use\n",
    "**multi-line comments**\n",
    "\n",
    "`\n",
    "\"\"\"\n",
    "Your long comment here...\n",
    "You do not need to put # at the beginning of each line.\n",
    "Python knows that the triple quotes means you want to\n",
    "    comment out multiple lines in your code!\n",
    "\"\"\"\n",
    "`\n",
    "\n",
    "These are super useful when explaining how a function works, or if you need to leave a large reminder to yourself or someone else who might use your code!\n",
    "\n",
    "---"
   ]
  },
  {
   "cell_type": "code",
   "execution_count": 2,
   "metadata": {},
   "outputs": [
    {
     "name": "stdout",
     "output_type": "stream",
     "text": [
      "Hello, World!\n",
      "Jupyter notebooks are useful!\n"
     ]
    }
   ],
   "source": [
    "# Lets print out a simple hello world! statement using python!\n",
    "\n",
    "print(\"Hello, World!\")\n",
    "print(\"Jupyter notebooks are useful!\")"
   ]
  },
  {
   "cell_type": "code",
   "execution_count": 3,
   "metadata": {},
   "outputs": [
    {
     "name": "stdout",
     "output_type": "stream",
     "text": [
      "7\n",
      "42\n",
      "49\n"
     ]
    }
   ],
   "source": [
    "# Lets practice our addition and multiplication\n",
    "example1 = 5 + 2\n",
    "\n",
    "example2 = 6 * 7\n",
    "\n",
    "# two asterisks mean raising a number to a power\n",
    "# in this case, we are squaring the number 7\n",
    "example3 = 7**2\n",
    "\n",
    "print(example1)\n",
    "print(example2)\n",
    "print(example3)"
   ]
  },
  {
   "cell_type": "markdown",
   "metadata": {},
   "source": [
    "---\n",
    "\n",
    "As we can see above, math operations are also supported by Python.\n",
    "\n",
    "But what happens when we want to use the variables from above in some calculations later on?\n",
    "\n",
    "Lets find out\n",
    "\n",
    "---"
   ]
  },
  {
   "cell_type": "code",
   "execution_count": 4,
   "metadata": {},
   "outputs": [
    {
     "name": "stdout",
     "output_type": "stream",
     "text": [
      "Based on the book: The Hitchhikers Guide to the Galaxy, what is the answer to everything?\n",
      "The answer to everything is: 42\n",
      "\n",
      "What is the value of example1? : 7\n",
      "Example3 : 49\n"
     ]
    }
   ],
   "source": [
    "# Can we use the variables called example1, example2, example3 here?\n",
    "\n",
    "print(\"Based on the book: The Hitchhikers Guide to the Galaxy, what is the answer to everything?\")\n",
    "print(\"The answer to everything is: {}\".format(example2))\n",
    "\n",
    "# lets add a blank line to separate this above post and the next two\n",
    "print()\n",
    "print(\"What is the value of example1? : {}\".format(example1))\n",
    "print(\"Example3 : {}\".format(example3))"
   ]
  },
  {
   "cell_type": "markdown",
   "metadata": {},
   "source": [
    "---\n",
    "\n",
    "It works! Variables and data that are created and used in code earlier in the notebook are present even when we create a new code section!\n",
    "\n",
    "This can be super useful. You might save some data in the notebook, then want to document how that data was created.\n",
    "\n",
    "That is perfectly fine to do!\n",
    "\n",
    "You can access that data just the same no matter how many sections of markdown and other Python code is between your data and the next set of Python code where you manipulate that data.\n",
    "\n",
    "---"
   ]
  },
  {
   "cell_type": "markdown",
   "metadata": {},
   "source": [
    "### More Python Programming Concepts\n",
    "\n",
    "Throughout this course and as you progress further into your major of choice, programming concepts will become more and more useful. Whether it is analyzing large data sets, plotting graphs for a report, or even writing reports; programming concepts will undoubtedly manifest themselves. By learning these concepts early and actually putting them into use, your work will become more readable, more reproducible, and will take you less time to actually finish those assignments and projects.\n",
    "\n",
    "There are a few key concepts that show up in a majority of the programming languages today, Python being one of them. The next section will walk through this with some examples.\n",
    "\n",
    "---\n",
    "\n",
    "Above we walked through some minimal examples using Python showcasing comments, variables, operations on variables, and printing. Next, we will go a bit more in depth with those. \n",
    "\n",
    "#### Repetitious Tasks\n",
    "\n",
    "When programming, you will run into situations where some task will need to be repeated multiple times. To handle this, many programming languages have implemented looping structures. These special functions are designed to execute the same code multiple times. The most common looping structure is the `for` loop. Refer to the example below."
   ]
  },
  {
   "cell_type": "code",
   "execution_count": 5,
   "metadata": {},
   "outputs": [
    {
     "name": "stdout",
     "output_type": "stream",
     "text": [
      "Hello, World!\n",
      "This is repeat number 0.\n",
      "\n",
      "Hello, World!\n",
      "This is repeat number 1.\n",
      "\n",
      "Hello, World!\n",
      "This is repeat number 2.\n",
      "\n",
      "Hello, World!\n",
      "This is repeat number 3.\n",
      "\n",
      "Hello, World!\n",
      "This is repeat number 4.\n",
      "\n"
     ]
    }
   ],
   "source": [
    "# For loop example\n",
    "\n",
    "# execute what is contained in the for loop 5 times\n",
    "for i in range(5):\n",
    "    print(\"Hello, World!\")\n",
    "    print(\"This is repeat number {}.\".format(i))\n",
    "    print()\n"
   ]
  },
  {
   "cell_type": "markdown",
   "metadata": {},
   "source": [
    "---\n",
    "\n",
    "So what happened above?\n",
    "\n",
    "To begin, we have the declaration of the `for` loop structure:\n",
    "```python3\n",
    "for i in range(5):\n",
    "```\n",
    "Where:\n",
    "- `for` tells Python we want a looping structure\n",
    "- `i` is a counter variable, it becomes whatever value the code after `in` tells it to be\n",
    "- `in` is the separator, it is the divider between the counter variables and the repeating code\n",
    "- `range(5)` is a Python function, it takes a number and will repeat and increment the number that many times. In this case, it repeats the number 5 times, starting from 0 and incrementing it by one 5 times. \n",
    "\n",
    "\n",
    "Lets look at a more complicated example.\n",
    "\n",
    "Generate the first 10 numbers in the [Fibonacci Sequence](https://en.wikipedia.org/wiki/Fibonacci_number)\n",
    "\n",
    "First, what is the Fibonacci Sequence?\n",
    "\n",
    "It is the sum of the previous two numbers, starting from 0, 1\n",
    "\n",
    "Lets design this using a `for` loop"
   ]
  },
  {
   "cell_type": "code",
   "execution_count": 6,
   "metadata": {},
   "outputs": [
    {
     "name": "stdout",
     "output_type": "stream",
     "text": [
      "0\n",
      "1\n",
      "1\n",
      "2\n",
      "3\n",
      "5\n",
      "8\n",
      "13\n",
      "21\n",
      "34\n"
     ]
    }
   ],
   "source": [
    "# Fibonacci Sequence\n",
    "fib_0 = 0\n",
    "fib_1 = 1\n",
    "\n",
    "# first two numbers of the fibonacci sequence\n",
    "print(fib_0)\n",
    "print(fib_1)\n",
    "\n",
    "# print out the first 10 fibonacci numbers\n",
    "# only iterate 8 times, since we already have the first two numbers in the sequence\n",
    "for i in range(8):\n",
    "    sum_fib = fib_0 + fib_1\n",
    "    fib_0 = fib_1\n",
    "    fib_1 = sum_fib\n",
    "    print(sum_fib)"
   ]
  },
  {
   "cell_type": "markdown",
   "metadata": {},
   "source": [
    "Thanks to the power of looping structures in Python, what would be a pretty tedious process if we had to manually write these out becomes a pretty simple piece of code.\n",
    "\n",
    "---\n",
    "\n",
    "There is one other type of looping structure that we will review soon, but first, we need to cover selection statements.\n",
    "\n",
    "#### Selection Statements\n",
    "\n",
    "Selection statements are ways to divide code based on certain conditions. For example, if we wanted to iterate through the numbers 0-25, and print only the values if they are even, we need some selection statement to handle this. \n",
    "\n",
    "A general rule of thumb is: If we are asking a question, and if the answer requires us to perform different actions on this data, etc. Then we must use some selection statement to handle this. \n",
    "\n",
    "In Python and other programming languages, these are defined as `if, else, elseif` selection statements. \n",
    "\n",
    "For example, lets try the above example and print only the even numbers. To accomplish this, we will use another operator called the `modulo` or `%` operator. This behaves like division with remainders.\n",
    "\n",
    "For example:\n",
    "* `10 % 2 = 0` since 2 divides evenly into 10, there is no remainder.\n",
    "* `9 % 2 = 1` since 2 can divide into 8, but it leaves 1 as a remainder. "
   ]
  },
  {
   "cell_type": "code",
   "execution_count": 7,
   "metadata": {},
   "outputs": [
    {
     "name": "stdout",
     "output_type": "stream",
     "text": [
      "0 is even!\n",
      "2 is even!\n",
      "4 is even!\n",
      "6 is even!\n",
      "8 is even!\n",
      "10 is even!\n",
      "12 is even!\n",
      "14 is even!\n",
      "16 is even!\n",
      "18 is even!\n",
      "20 is even!\n",
      "22 is even!\n",
      "24 is even!\n"
     ]
    }
   ],
   "source": [
    "# print out the even numbers from 1-25\n",
    "# if the number is not even, do nothing\n",
    "\n",
    "for i in range(26):\n",
    "    # check if the number is even\n",
    "    if (i % 2 == 0):\n",
    "        print(\"{} is even!\".format(i))\n",
    "    else:\n",
    "        continue"
   ]
  },
  {
   "cell_type": "markdown",
   "metadata": {},
   "source": [
    "In selection statements and other types of control structures, to determine if we need to go down one branch over another branch (in the above example, printing `even` or not printing if odd), we must have some truth test to determine this. These are called [comparison operators](https://www.tutorialspoint.com/python/comparison_operators_example.htm).\n",
    "\n",
    "In the above example, since we know the that even numbers are all divisble by 2, **if** the `modulo` of a number with the number 2 **is equal** to 0 (`number % 2 == 0`), then that number must be even. **Else**, the number is odd.\n",
    "\n",
    "There are many comparison operators in Python, refer to the above link to explore futher ones. We have compiled a [truth table](https://en.wikipedia.org/wiki/Truth_table) to explain the main types of truth operations you might encounter. "
   ]
  },
  {
   "cell_type": "code",
   "execution_count": 8,
   "metadata": {},
   "outputs": [
    {
     "data": {
      "text/html": [
       "<div>\n",
       "<style scoped>\n",
       "    .dataframe tbody tr th:only-of-type {\n",
       "        vertical-align: middle;\n",
       "    }\n",
       "\n",
       "    .dataframe tbody tr th {\n",
       "        vertical-align: top;\n",
       "    }\n",
       "\n",
       "    .dataframe thead th {\n",
       "        text-align: right;\n",
       "    }\n",
       "</style>\n",
       "<table border=\"1\" class=\"dataframe\">\n",
       "  <thead>\n",
       "    <tr style=\"text-align: right;\">\n",
       "      <th></th>\n",
       "      <th>Input (X)</th>\n",
       "      <th>\"Input (Y)\"</th>\n",
       "      <th>\"X and Y\"</th>\n",
       "      <th>\"X or Y\"</th>\n",
       "      <th>\"Not X\"</th>\n",
       "      <th>\"Not Y\"</th>\n",
       "    </tr>\n",
       "  </thead>\n",
       "  <tbody>\n",
       "    <tr>\n",
       "      <th>0</th>\n",
       "      <td>True</td>\n",
       "      <td>False</td>\n",
       "      <td>False</td>\n",
       "      <td>True</td>\n",
       "      <td>False</td>\n",
       "      <td>True</td>\n",
       "    </tr>\n",
       "    <tr>\n",
       "      <th>1</th>\n",
       "      <td>True</td>\n",
       "      <td>True</td>\n",
       "      <td>True</td>\n",
       "      <td>True</td>\n",
       "      <td>False</td>\n",
       "      <td>False</td>\n",
       "    </tr>\n",
       "    <tr>\n",
       "      <th>2</th>\n",
       "      <td>False</td>\n",
       "      <td>False</td>\n",
       "      <td>True</td>\n",
       "      <td>False</td>\n",
       "      <td>True</td>\n",
       "      <td>True</td>\n",
       "    </tr>\n",
       "    <tr>\n",
       "      <th>3</th>\n",
       "      <td>False</td>\n",
       "      <td>True</td>\n",
       "      <td>False</td>\n",
       "      <td>True</td>\n",
       "      <td>True</td>\n",
       "      <td>False</td>\n",
       "    </tr>\n",
       "  </tbody>\n",
       "</table>\n",
       "</div>"
      ],
      "text/plain": [
       "   Input (X)  \"Input (Y)\"  \"X and Y\"  \"X or Y\"  \"Not X\"  \"Not Y\"\n",
       "0       True        False      False      True    False     True\n",
       "1       True         True       True      True    False    False\n",
       "2      False        False       True     False     True     True\n",
       "3      False         True      False      True     True    False"
      ]
     },
     "execution_count": 8,
     "metadata": {},
     "output_type": "execute_result"
    }
   ],
   "source": [
    "import pandas as pd\n",
    "df = pd.read_csv('./files/truth_table.csv')\n",
    "df"
   ]
  },
  {
   "cell_type": "markdown",
   "metadata": {},
   "source": [
    "One more example using selection statements, lets determine what grade a student earns on an exam.\n",
    "\n",
    "Assume the grading scale is:\n",
    "* 90 and above : **A**\n",
    "* < 90 and > 80 : **B**\n",
    "* < 80 and > 70 : **C**\n",
    "* < 70 and > 60 : **D**\n",
    "* < 60          : **F**\n",
    "\n",
    "We are also going to use one more common structure in python, `lists`.\n",
    "\n",
    "Lists are like a container. You can put multiple things in a `list`, and then extract the things you put in it. We are going to store our `student_grade`'s in this `list`. We will then use a `for` loop to check each student and print out what their grade is."
   ]
  },
  {
   "cell_type": "code",
   "execution_count": 9,
   "metadata": {},
   "outputs": [
    {
     "name": "stdout",
     "output_type": "stream",
     "text": [
      "With a grade of 73, this student earned a C.\n",
      "With a grade of 90.5, this student earned an A.\n",
      "With a grade of 81, this student earned a B.\n",
      "With a grade of 51, this student earned an F.\n",
      "With a grade of 101, this student earned an A.\n",
      "With a grade of 94, this student earned an A.\n"
     ]
    }
   ],
   "source": [
    "# Grade calculator\n",
    "\n",
    "student1_grade = 73\n",
    "student2_grade = 90.5\n",
    "student3_grade = 81\n",
    "student4_grade = 51\n",
    "student5_grade = 101\n",
    "student6_grade = 94\n",
    "\n",
    "# add the students to the list\n",
    "student_list = [student1_grade, student2_grade, student3_grade, student4_grade, student5_grade, student6_grade]\n",
    "\n",
    "# loop over the students and determine what their grade is\n",
    "for grade in student_list:\n",
    "    if (grade > 90):\n",
    "        print('With a grade of {}, this student earned an A.'.format(grade))\n",
    "    elif (grade < 90 and grade > 80):\n",
    "        print('With a grade of {}, this student earned a B.'.format(grade))\n",
    "    elif (grade < 80 and grade > 70):\n",
    "        print('With a grade of {}, this student earned a C.'.format(grade))\n",
    "    elif (grade < 70 and grade > 60):\n",
    "        print('With a grade of {}, this student earned a D.'.format(grade))\n",
    "    \n",
    "    # if a student did not earn an A-D, the only option left is an F\n",
    "    else:\n",
    "        print('With a grade of {}, this student earned an F.'.format(grade))"
   ]
  },
  {
   "cell_type": "markdown",
   "metadata": {},
   "source": [
    "### Plotting with Jupyter and Python using Matplotlib\n",
    "\n",
    "As mentioned earlier, Jupyter notebooks are also able to contain and show plots within the notebook itself. Below we will work through a small example where we will plot two different quadratic functions and observe how changing the function by translation, and the magnitude of the function changes the location and shape of the function."
   ]
  },
  {
   "cell_type": "code",
   "execution_count": 10,
   "metadata": {},
   "outputs": [],
   "source": [
    "%matplotlib inline\n",
    "\n",
    "# import matplotlib and tell it to render its plots in the notebook\n",
    "import matplotlib.pyplot as plt"
   ]
  },
  {
   "cell_type": "markdown",
   "metadata": {},
   "source": [
    "We imported the [matplotlib pyplot](https://matplotlib.org/users/pyplot_tutorial.html) module, which gives us a plotting interface very similar to MATLAB. You will most likley use MATLAB at some point during your time here at Vanderbilt.\n",
    "\n",
    "The next item of interest is the `%matplotlib inline` command. This is a special function in Jupyter that tells the notebook and `matplotlib` to show the plots in the notebook, and not in a separate window. \n",
    "\n",
    "Now, lets plot the quadratic function and some data with it."
   ]
  },
  {
   "cell_type": "code",
   "execution_count": 11,
   "metadata": {},
   "outputs": [
    {
     "data": {
      "text/plain": [
       "[<matplotlib.lines.Line2D at 0x11bf8cdd8>]"
      ]
     },
     "execution_count": 11,
     "metadata": {},
     "output_type": "execute_result"
    },
    {
     "data": {
      "image/png": "[encoded data removed]",
      "text/plain": [
       "<Figure size 432x288 with 1 Axes>"
      ]
     },
     "metadata": {
      "needs_background": "light"
     },
     "output_type": "display_data"
    }
   ],
   "source": [
    "%matplotlib inline\n",
    "\n",
    "# import matplotlib and tell it to render its plots in the notebook\n",
    "import matplotlib.pyplot as plt\n",
    "\n",
    "import numpy as np\n",
    "\n",
    "# plot y = x**2\n",
    "\n",
    "data_x = np.linspace(start=-5, stop=5, num=100)\n",
    "y_value = data_x**2\n",
    "\n",
    "plt.plot(data_x, y_value)"
   ]
  },
  {
   "cell_type": "code",
   "execution_count": 12,
   "metadata": {},
   "outputs": [
    {
     "data": {
      "text/plain": [
       "[<matplotlib.lines.Line2D at 0x11c02bf28>]"
      ]
     },
     "execution_count": 12,
     "metadata": {},
     "output_type": "execute_result"
    },
    {
     "data": {
      "image/png": "[encoded data removed]",
      "text/plain": [
       "<Figure size 432x288 with 1 Axes>"
      ]
     },
     "metadata": {
      "needs_background": "light"
     },
     "output_type": "display_data"
    }
   ],
   "source": [
    "%matplotlib inline\n",
    "\n",
    "# import matplotlib and tell it to render its plots in the notebook\n",
    "import matplotlib.pyplot as plt\n",
    "\n",
    "import numpy as np\n",
    "\n",
    "# plot y = (x - 5)**2\n",
    "\n",
    "data_x = np.linspace(start=-5, stop=5, num=100)\n",
    "y_value = (data_x) ** 2 - 5\n",
    "plt.plot(data_x, y_value)"
   ]
  },
  {
   "cell_type": "markdown",
   "metadata": {},
   "source": [
    "As you can tell from the above two plots, by subtracting 5 from each y value, we shift the quadratic function down 5 in the y direction.\n",
    "\n",
    "Now, lets see what happens when we change the magnitude of the function"
   ]
  },
  {
   "cell_type": "code",
   "execution_count": 13,
   "metadata": {},
   "outputs": [
    {
     "data": {
      "text/plain": [
       "[<matplotlib.lines.Line2D at 0x11c0acd30>]"
      ]
     },
     "execution_count": 13,
     "metadata": {},
     "output_type": "execute_result"
    },
    {
     "data": {
      "image/png": "[encoded data removed]",
      "text/plain": [
       "<Figure size 432x288 with 1 Axes>"
      ]
     },
     "metadata": {
      "needs_background": "light"
     },
     "output_type": "display_data"
    }
   ],
   "source": [
    "%matplotlib inline\n",
    "\n",
    "# import matplotlib and tell it to render its plots in the notebook\n",
    "import matplotlib.pyplot as plt\n",
    "\n",
    "import numpy as np\n",
    "\n",
    "# plot y = x**2\n",
    "\n",
    "data_x = np.linspace(start=-5, stop=5, num=100)\n",
    "y_value = data_x**2\n",
    "\n",
    "plt.plot(data_x, y_value)"
   ]
  },
  {
   "cell_type": "code",
   "execution_count": 14,
   "metadata": {},
   "outputs": [
    {
     "data": {
      "text/plain": [
       "[<matplotlib.lines.Line2D at 0x11c173908>]"
      ]
     },
     "execution_count": 14,
     "metadata": {},
     "output_type": "execute_result"
    },
    {
     "data": {
      "image/png": "[encoded data removed]",
      "text/plain": [
       "<Figure size 432x288 with 1 Axes>"
      ]
     },
     "metadata": {
      "needs_background": "light"
     },
     "output_type": "display_data"
    }
   ],
   "source": [
    "%matplotlib inline\n",
    "\n",
    "# import matplotlib and tell it to render its plots in the notebook\n",
    "import matplotlib.pyplot as plt\n",
    "\n",
    "import numpy as np\n",
    "\n",
    "# plot y = -1 * (x**2)\n",
    "\n",
    "data_x = np.linspace(start=-5, stop=5, num=100)\n",
    "y_value = -1 * (data_x**2)\n",
    "\n",
    "plt.plot(data_x, y_value)"
   ]
  },
  {
   "cell_type": "markdown",
   "metadata": {},
   "source": [
    "## Loading/Defining Data for Matplotlib\n",
    "\n",
    "The examples above use functions to generate data.  Often times we will be reading data generated by another program (e.g., a simulation engine) or logged manually.  \n",
    "\n",
    "First, let us examine the basic procedure of reading from a tab delimited data file.  In this case, we will be reading in the population data as a function of time of the format (note ```\\t``` denotes a tab), where each line in the file corresponds to a different Date and Population combination:\n",
    "\n",
    "```Date \\t Population ```"
   ]
  },
  {
   "cell_type": "code",
   "execution_count": 15,
   "metadata": {},
   "outputs": [
    {
     "data": {
      "image/png": "[encoded data removed]",
      "text/plain": [
       "<Figure size 432x288 with 1 Axes>"
      ]
     },
     "metadata": {
      "needs_background": "light"
     },
     "output_type": "display_data"
    }
   ],
   "source": [
    "%matplotlib inline\n",
    "\n",
    "import numpy as np\n",
    "import matplotlib.pyplot as plt\n",
    "\n",
    "\n",
    "date, pop = np.loadtxt('files/nashville.txt').T\n",
    "\n",
    "plt.figure()\n",
    "plt.plot(date, pop)\n",
    "plt.show()"
   ]
  },
  {
   "cell_type": "markdown",
   "metadata": {},
   "source": [
    "All good plots should include labels, which can be trivially added."
   ]
  },
  {
   "cell_type": "code",
   "execution_count": 16,
   "metadata": {},
   "outputs": [
    {
     "data": {
      "image/png": "[encoded data removed]",
      "text/plain": [
       "<Figure size 432x288 with 1 Axes>"
      ]
     },
     "metadata": {
      "needs_background": "light"
     },
     "output_type": "display_data"
    }
   ],
   "source": [
    "%matplotlib inline\n",
    "\n",
    "import numpy as np\n",
    "import matplotlib.pyplot as plt\n",
    "\n",
    "plt.figure()\n",
    "plt.plot(date, pop)\n",
    "plt.xlabel('Date')\n",
    "plt.ylabel('Population')\n",
    "\n",
    "\n",
    "plt.show()"
   ]
  },
  {
   "cell_type": "markdown",
   "metadata": {},
   "source": [
    "Multiple datasets can be shown on the same plot.  Let us load in the data for Portland as well. We can easily control the color of each data set (e.g., ```color='Red'```), line marker (e.g., ```marker='o'```), line width (e.g., ```lw=3```), and define labels (```label='Portland'```). \n",
    "\n",
    "Note, this example is based off of the tutorial found here: https://github.com/PTC-CMC/plotting/blob/master/matplotlib-basics/matplotlib-basics.ipynb  \n",
    "Other plotting tutorials, based on molecular simulation data, can be found: https://github.com/PTC-CMC/plotting"
   ]
  },
  {
   "cell_type": "code",
   "execution_count": 17,
   "metadata": {},
   "outputs": [
    {
     "data": {
      "image/png": "[encoded data removed]",
      "text/plain": [
       "<Figure size 432x288 with 1 Axes>"
      ]
     },
     "metadata": {
      "needs_background": "light"
     },
     "output_type": "display_data"
    }
   ],
   "source": [
    "%matplotlib inline\n",
    "\n",
    "import numpy as np\n",
    "import matplotlib.pyplot as plt\n",
    "\n",
    "\n",
    "plt.figure()\n",
    "\n",
    "\n",
    "date_nash, pop_nash = np.loadtxt('files/nashville.txt').T\n",
    "plt.plot(date_nash, pop_nash, marker='x', label='Nashville')\n",
    "\n",
    "date_pdx, pop_pdx = np.loadtxt('files/portland.txt').T\n",
    "plt.plot(date_pdx, pop_pdx, marker='o', lw=3, color='Red', label='Portland')\n",
    "\n",
    "#add the legend, changing the integer given to loc will change position of the legend\n",
    "plt.legend(loc=2, fontsize =16)\n",
    "\n",
    "plt.xlabel('Date')\n",
    "plt.ylabel('Population')\n",
    "plt.show()"
   ]
  },
  {
   "cell_type": "markdown",
   "metadata": {},
   "source": [
    "Alternatively, we can define data in a simple Python list. "
   ]
  },
  {
   "cell_type": "code",
   "execution_count": 18,
   "metadata": {},
   "outputs": [
    {
     "data": {
      "text/plain": [
       "[<matplotlib.lines.Line2D at 0x11c5ae4e0>]"
      ]
     },
     "execution_count": 18,
     "metadata": {},
     "output_type": "execute_result"
    },
    {
     "data": {
      "image/png": "[encoded data removed]",
      "text/plain": [
       "<Figure size 432x288 with 1 Axes>"
      ]
     },
     "metadata": {
      "needs_background": "light"
     },
     "output_type": "display_data"
    }
   ],
   "source": [
    "%matplotlib inline\n",
    "\n",
    "import matplotlib.pyplot as plt\n",
    "import numpy as np\n",
    "\n",
    "#create two list\n",
    "x_data = [0.0, 1.0, 2.0, 3.0, 4.0, 5.0]\n",
    "y_data = [0.1, 0.2, 0.4, 0.8, 1.6, 3.2]\n",
    "\n",
    "plt.xlabel('x')\n",
    "plt.ylabel('y')\n",
    "\n",
    "plt.plot(x_data, y_data, marker='o')"
   ]
  }
 ],
 "metadata": {
  "kernelspec": {
   "display_name": "Python 3",
   "language": "python",
   "name": "python3"
  },
  "language_info": {
   "codemirror_mode": {
    "name": "ipython",
    "version": 3
   },
   "file_extension": ".py",
   "mimetype": "text/x-python",
   "name": "python",
   "nbconvert_exporter": "python",
   "pygments_lexer": "ipython3",
   "version": "3.7.3"
  }
 },
 "nbformat": 4,
 "nbformat_minor": 2
}
