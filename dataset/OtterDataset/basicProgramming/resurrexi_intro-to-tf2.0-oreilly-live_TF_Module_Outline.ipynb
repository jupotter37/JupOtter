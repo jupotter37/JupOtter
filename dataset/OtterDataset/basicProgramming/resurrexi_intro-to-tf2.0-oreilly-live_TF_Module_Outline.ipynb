{
 "cells": [
  {
   "cell_type": "code",
   "execution_count": null,
   "metadata": {},
   "outputs": [],
   "source": [
    "%matplotlib inline\n",
    "import matplotlib\n",
    "import seaborn as sns\n",
    "sns.set()\n",
    "matplotlib.rcParams['figure.dpi'] = 144"
   ]
  },
  {
   "cell_type": "markdown",
   "metadata": {},
   "source": [
    "<!-- requirement: pylib/__init__.py -->\n",
    "<!-- requirement: pylib/draw_graph.py -->\n",
    "<!-- requirement: pylib/tensorboardcmd.py -->\n",
    "\n",
    "# Introduction to TensorFlow\n",
    "<!--exclude from index-->"
   ]
  },
  {
   "cell_type": "markdown",
   "metadata": {},
   "source": [
    "## Module description"
   ]
  },
  {
   "cell_type": "markdown",
   "metadata": {},
   "source": [
    "As artificial intelligence has advanced, applications have needed to process larger and larger amounts of data.  A prime example of this is the field of neural networks.  These machine learning models are enormously flexible and powerful, but they require huge amounts of both time and data to train.  Building tools to accomplish this can be difficult.\n",
    "\n",
    "Google had been using neural networks internally for some time when they decided to develop a single framework flexible enough to be used for many different purposes.  That project became TensorFlow, and it was released as an open-source project in November, 2015.  Version 1.0 was released just over a year later, in February, 2017.\n",
    "\n",
    "This generality has made TensorFlow useful for a number of different applications.  At its heart, it is a general-purpose computation engine, optimized for large data.  \n",
    "\n",
    "This course will introduce you to both the basics of TensorFlow and the basics of neural networks.  By focusing on the basics, we hope to convey a solid understanding of the theory and practice behind neural networks in TensorFlow.  For purposes of time, many of our example will be small and short, and therefore will not produce spectacular results.  Nonetheless, this should be enough to get you started on your own spectacular projects!\n"
   ]
  },
  {
   "cell_type": "markdown",
   "metadata": {},
   "source": [
    "## Learning outcomes\n",
    "\n",
    "At the conclusion of this module, students should:\n",
    "* Have an understanding of TensorFlow syntax for creating placeholders, variables, solving optimization problems, and creating neural networks\n",
    "* Be able to set up and optimize basic machine learning models in TensorFlow for regression and classification using gradient descent (and variants such as batch gradient descent)\n",
    "* Understand how neural networks are used for machine learning tasks such as image classification\n",
    "* Know how neural networks can be trained and tested using TensorFlow and Keras\n",
    "* Be able to apply standard methods such as regularization and dropout to deal with overfitting in neural networks"
   ]
  },
  {
   "cell_type": "markdown",
   "metadata": {},
   "source": [
    "## Prerequisites"
   ]
  },
  {
   "cell_type": "markdown",
   "metadata": {},
   "source": [
    "We assume familiarity with the Python programming language, including data types such as `list`, `dict`, and `tuple`, list and dictionary comprehensions, writing functions, and basic object-oriented programming techniques in Python.\n",
    "\n",
    "In addition, successful students will have familiar with the basics of matrices and linear algebra.  In particular, students should have an understanding of NumPy arrays, their construction and manipulation, as these form the underlying basis of TensorFlow computations. "
   ]
  },
  {
   "cell_type": "markdown",
   "metadata": {},
   "source": [
    "## Suggested notebook order"
   ]
  },
  {
   "cell_type": "markdown",
   "metadata": {},
   "source": [
    "1. `TF_Intro_TensorFlow`\n",
    "1. `TF_Computation_Graph`\n",
    "1. `TF_Basic_Neural_Networks`\n",
    "1. `TF_Deep_NN_and_Keras`\n",
    "1. `TF_Optimization_and_Overfitting`\n",
    "1. `TF_Convolutional_NN`\n",
    "1. `TF_DeepDream`\n",
    "1. `TF_Variational_Autoencoders`\n",
    "1. `TF_Adversarial_Noise`\n",
    "1. `TF_Recurrent_Neural_Networks`\n"
   ]
  },
  {
   "cell_type": "markdown",
   "metadata": {},
   "source": [
    "## Additional resources\n",
    "\n",
    "### TensorFlow\n",
    "\n",
    "* [TensorFlow website](https://www.tensorflow.org/):  The main website, your first stop for information.  \n",
    "* [Getting Started with TensorFlow](https://www.tensorflow.org/get_started/get_started): Beginner-friendly notebooks to help get you started.\n",
    "* [Python API documentation](https://www.tensorflow.org/api_docs/python/):  Links to the Python-specific TensorFlow API component libraries.  \n",
    "* [Layer API](https://www.tensorflow.org/api_docs/python/tf/layers): The main (Python-specific) TensorFlow API to assist in creating neural networks.  \n",
    "\n",
    "### Third-party TensorFlow resources\n",
    "\n",
    "* [Keras](https://keras.io/): Amongst various third-party APIs to TensorFlow for machine learning and neural networks, Keras is the most extensive one.  While it started as a third-party application, Keras will be integrated into TensorFlow 2.0, becoming the preferred high-level API for TensorFlow.\n",
    "\n",
    "* [TensorFlow models repository](https://github.com/tensorflow/models): This repository contains a number of pre-trained models for you to play with or adapt to your own use.\n",
    "\n",
    "* _[TensorFlow for Machine Intelligence](http://shop.oreilly.com/product/9781939902351.do)_, by Sam Abrahams, Danijar Hafner, Erik Erwitt, and Ariel Scarpinelli.  Contains a number of different machine learning tasks implemented in TensorFlow.  Unfortunately, the rapid development of the library has already obsoleted some of the code, but it's usually not to hard to get things to work.\n",
    "\n",
    "### Neural networks\n",
    "\n",
    "* [TensorFlow playground](https://playground.tensorflow.org/): If you are still coming to grips with neural networks, this website offers some nice visualizations of what individual neurons are learning in a network as training progresses.\n",
    "\n",
    "* _[Deep Learning](http://www.deeplearningbook.org/)_, by Ian Goodfellow, Yoshua Bengio, and Aaron Courville.  Provides extensive information on the modern best practices for deep neural networks.  The authors provide an HTML version free of charge.\n",
    "\n",
    "* _[Neural Networks and Deep Learning](http://neuralnetworksanddeeplearning.com/index.html)_, by Michael Nielsen.  Provides a nice example-driven discussion of the theory behind neural networks."
   ]
  },
  {
   "cell_type": "markdown",
   "metadata": {},
   "source": [
    "*Copyright &copy; 2019 Pragmatic Institute. This content is licensed solely for personal use. Redistribution or publication of this material is strictly prohibited.*"
   ]
  }
 ],
 "metadata": {
  "kernelspec": {
   "display_name": "Python 3",
   "language": "python",
   "name": "python3"
  },
  "nbclean": true
 },
 "nbformat": 4,
 "nbformat_minor": 0
}
