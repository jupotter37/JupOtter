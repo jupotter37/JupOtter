{
 "cells": [
  {
   "cell_type": "code",
   "execution_count": 36,
   "id": "8304c93b-8a91-47e8-bdc8-7b034c7e0b5a",
   "metadata": {},
   "outputs": [],
   "source": [
    "#1.Explain the key features of python that makes it a popular choice for programming.\n",
    "#Answer: There are many features of Python that makes it a popular choice for programming.Some of them are as follows:\n",
    "\n",
    "#1.Simplicity and Readability:\n",
    "#Python's Syntax are very simple with minimal use brackets and indentation and\n",
    "#whitespaces which makes it more readable to beginners as well as experienced one.\n",
    "#2.Extensive Standard Library:\n",
    "#Python comes with an extensive standard library which provides various packages and module that offers vast range of functionalities.\n",
    "#3.Versatilty:\n",
    "#The versatility allows developers to use a single language for diverse projects, simplifying their workflow and \n",
    "#reducing the learning curve associated with switching between different languages.\n",
    "#4.Cross Platfrom:\n",
    "#Python supports Cross platform compatibility meaning the python program run on any device having IDE platfrom.\n",
    "#5.Dynamic Language:\n",
    "#Python is a dynamic language meaning there is no need to declare the type of variable.\n",
    "#6.Object-Oriented Programming Language:\n",
    "#Python supports OOPs concept such as Abstraction, Encapsulation, Polymorphism, Data Binding, functionality, etc"
   ]
  },
  {
   "cell_type": "code",
   "execution_count": 18,
   "id": "16245e4a-262b-482e-9e77-272ae9135609",
   "metadata": {},
   "outputs": [
    {
     "data": {
      "text/plain": [
       "True"
      ]
     },
     "execution_count": 18,
     "metadata": {},
     "output_type": "execute_result"
    }
   ],
   "source": [
    "#2.Describe the role of predefined keywords in Python and provide examples of how they are used in a program.\n",
    "#Answer:Python Keywords are some predefined and reserved words in Python that have special meanings. \n",
    "#Keywords are used to define the syntax of the coding. The keyword cannot be used as an identifier, function, or variable name. \n",
    "#All the keywords in Python are written in lowercase except True and False. There are 35 keywords in Python 3.11.\n",
    "\n",
    "\n",
    "#Examples: 1.\"in\" keyword\n",
    "sent = \"Hello..Welcome to Python Tutorial.\"\n",
    "\"y\" in sent\n"
   ]
  },
  {
   "cell_type": "code",
   "execution_count": 14,
   "id": "2f1ebaeb-134a-405b-b58c-e10190931aff",
   "metadata": {},
   "outputs": [
    {
     "data": {
      "text/plain": [
       "False"
      ]
     },
     "execution_count": 14,
     "metadata": {},
     "output_type": "execute_result"
    }
   ],
   "source": [
    "#2. \"and\" keyword\n",
    "a = 2\n",
    "b = 3\n",
    "a == b and a < b"
   ]
  },
  {
   "cell_type": "code",
   "execution_count": 15,
   "id": "2cb9d5b1-c60c-4991-a4ec-25adc09a09c4",
   "metadata": {},
   "outputs": [
    {
     "data": {
      "text/plain": [
       "True"
      ]
     },
     "execution_count": 15,
     "metadata": {},
     "output_type": "execute_result"
    }
   ],
   "source": [
    "#3. \"or\" keyword\n",
    "a = 2\n",
    "b = 3\n",
    "a ==b or a < b"
   ]
  },
  {
   "cell_type": "code",
   "execution_count": 20,
   "id": "0b378eb0-7c91-424e-bf65-59674d2ff441",
   "metadata": {},
   "outputs": [
    {
     "data": {
      "text/plain": [
       "[1, 2, 3, 'hello', 8.9]"
      ]
     },
     "execution_count": 20,
     "metadata": {},
     "output_type": "execute_result"
    }
   ],
   "source": [
    "#3.Compare and contrast mutable and immutable objects in Python with examples.\n",
    "#Answer:\n",
    "#Mutable objects in Python are those that can be changed after they are created, like lists or dictionaries. \n",
    "#Immutable objects, on the other hand, cannot be changed after they are created, such as strings, integers, or tuples.\n",
    "\n",
    "#Examples: Mutable Objects\n",
    "list = [1, 2, 3, \"hello\", 8.9]\n",
    "list"
   ]
  },
  {
   "cell_type": "code",
   "execution_count": 23,
   "id": "785e1aa0-8b97-413f-994e-f1404926c1e2",
   "metadata": {},
   "outputs": [
    {
     "data": {
      "text/plain": [
       "[1, 'hii', 3, 'hello', 8.9]"
      ]
     },
     "execution_count": 23,
     "metadata": {},
     "output_type": "execute_result"
    }
   ],
   "source": [
    "list[1] = \"hii\"\n",
    "list"
   ]
  },
  {
   "cell_type": "code",
   "execution_count": 25,
   "id": "427a370c-ebc4-43e4-af90-1b300d65aaa7",
   "metadata": {},
   "outputs": [
    {
     "data": {
      "text/plain": [
       "{1: 'one', 2: 'two', 3: 'four'}"
      ]
     },
     "execution_count": 25,
     "metadata": {},
     "output_type": "execute_result"
    }
   ],
   "source": [
    "my_dict = {1 : \"one\",\n",
    "           2 : \"two\",\n",
    "           3 : \"four\"}\n",
    "my_dict"
   ]
  },
  {
   "cell_type": "code",
   "execution_count": 28,
   "id": "78a3b434-fa9e-4121-be72-e04c1340a8cd",
   "metadata": {},
   "outputs": [
    {
     "data": {
      "text/plain": [
       "{1: 'one', 2: 'two', 3: 'three'}"
      ]
     },
     "execution_count": 28,
     "metadata": {},
     "output_type": "execute_result"
    }
   ],
   "source": [
    "my_dict[3]= \"three\"\n",
    "my_dict"
   ]
  },
  {
   "cell_type": "code",
   "execution_count": 29,
   "id": "a6f097ff-5dfe-4b6e-9667-f3f47e14de43",
   "metadata": {},
   "outputs": [
    {
     "data": {
      "text/plain": [
       "(1, 2, 3)"
      ]
     },
     "execution_count": 29,
     "metadata": {},
     "output_type": "execute_result"
    }
   ],
   "source": [
    "#Example: Immutable Objects\n",
    "\n",
    "tuple = ( 1, 2, 3)\n",
    "tuple"
   ]
  },
  {
   "cell_type": "code",
   "execution_count": 32,
   "id": "54d1ff11-0ce1-4976-bf66-ac588a75faa5",
   "metadata": {},
   "outputs": [
    {
     "ename": "TypeError",
     "evalue": "'tuple' object does not support item assignment",
     "output_type": "error",
     "traceback": [
      "\u001b[0;31m---------------------------------------------------------------------------\u001b[0m",
      "\u001b[0;31mTypeError\u001b[0m                                 Traceback (most recent call last)",
      "Cell \u001b[0;32mIn[32], line 1\u001b[0m\n\u001b[0;32m----> 1\u001b[0m \u001b[38;5;28;43mtuple\u001b[39;49m\u001b[43m[\u001b[49m\u001b[38;5;241;43m0\u001b[39;49m\u001b[43m]\u001b[49m \u001b[38;5;241m=\u001b[39m \u001b[38;5;241m2\u001b[39m\n\u001b[1;32m      2\u001b[0m \u001b[38;5;28mtuple\u001b[39m\n\u001b[1;32m      3\u001b[0m \u001b[38;5;66;03m#you cannot modify tuple.\u001b[39;00m\n",
      "\u001b[0;31mTypeError\u001b[0m: 'tuple' object does not support item assignment"
     ]
    }
   ],
   "source": [
    "tuple[0] = 2\n",
    "tuple\n",
    "#you cannot modify tuple."
   ]
  },
  {
   "cell_type": "code",
   "execution_count": 31,
   "id": "d0954405-b03b-41a9-9bda-f4b4b93e2ab7",
   "metadata": {},
   "outputs": [
    {
     "data": {
      "text/plain": [
       "6.5"
      ]
     },
     "execution_count": 31,
     "metadata": {},
     "output_type": "execute_result"
    }
   ],
   "source": [
    "#4.Discuss the different types of operators in Python and provide examples of how they are used.\n",
    "#Answer:There are various types of operators in python such as,\n",
    "#1.Assignment operator: It is used to assign the value to variable. \n",
    "#example:In below 'b' store the value or assigned value 6.5..In second example,'a' assigned value of 'b'.\n",
    "\n",
    "b = 6.5\n",
    "b"
   ]
  },
  {
   "cell_type": "code",
   "execution_count": 3,
   "id": "498e32a1-aef5-4c25-b89d-783fb2bdbfd6",
   "metadata": {},
   "outputs": [
    {
     "data": {
      "text/plain": [
       "6.5"
      ]
     },
     "execution_count": 3,
     "metadata": {},
     "output_type": "execute_result"
    }
   ],
   "source": [
    "a = b\n",
    "a"
   ]
  },
  {
   "cell_type": "code",
   "execution_count": 6,
   "id": "1facb962-7ee4-40bd-b599-307d832bfe60",
   "metadata": {},
   "outputs": [
    {
     "data": {
      "text/plain": [
       "False"
      ]
     },
     "execution_count": 6,
     "metadata": {},
     "output_type": "execute_result"
    }
   ],
   "source": [
    "a >= b"
   ]
  },
  {
   "cell_type": "code",
   "execution_count": 4,
   "id": "474e86c0-640a-4e5e-a257-8b04e029d320",
   "metadata": {},
   "outputs": [
    {
     "name": "stdout",
     "output_type": "stream",
     "text": [
      "Addition: 12\n",
      "Subtraction: 8\n",
      "Multiplication: 20\n",
      "Division: 5.0\n",
      "Mod: 0\n",
      "Power: 100\n",
      "Floor: 5\n"
     ]
    }
   ],
   "source": [
    "#2.Arithmetic Operator:\n",
    "#It is used for Arithmetic Operations such as addition, subtraction, multiplication, division, mod, etc..\n",
    "#example:\n",
    "\n",
    "a = 10\n",
    "b = 2\n",
    "c = a + b   #addition\n",
    "d = a - b   #subtraction\n",
    "e = a * b   #multiplication\n",
    "f = a / b   #division\n",
    "g = a % b   #mod\n",
    "h = a ** b  #power\n",
    "i = a // b  #floor\n",
    "\n",
    "print(\"Addition:\",c)\n",
    "print(\"Subtraction:\",d)\n",
    "print(\"Multiplication:\",e)\n",
    "print(\"Division:\",f)\n",
    "print(\"Mod:\",g)\n",
    "print(\"Power:\",h)\n",
    "print(\"Floor:\",i)"
   ]
  },
  {
   "cell_type": "code",
   "execution_count": 5,
   "id": "c6c2366e-1078-4f45-89d9-5d707d05f11f",
   "metadata": {},
   "outputs": [
    {
     "data": {
      "text/plain": [
       "False"
      ]
     },
     "execution_count": 5,
     "metadata": {},
     "output_type": "execute_result"
    }
   ],
   "source": [
    "#3.Comparison Operator: This operator is used to compare two values. example:\n",
    "a = 4\n",
    "b = 6\n",
    "a == b"
   ]
  },
  {
   "cell_type": "code",
   "execution_count": 7,
   "id": "5cb7ed39-ff7c-4b86-8982-f81f2ab0036e",
   "metadata": {},
   "outputs": [
    {
     "data": {
      "text/plain": [
       "True"
      ]
     },
     "execution_count": 7,
     "metadata": {},
     "output_type": "execute_result"
    }
   ],
   "source": [
    "a != b"
   ]
  },
  {
   "cell_type": "code",
   "execution_count": 8,
   "id": "a8dcb4ff-a99d-47e8-ab8d-da3bf230c82d",
   "metadata": {},
   "outputs": [
    {
     "data": {
      "text/plain": [
       "True"
      ]
     },
     "execution_count": 8,
     "metadata": {},
     "output_type": "execute_result"
    }
   ],
   "source": [
    "a <= b"
   ]
  },
  {
   "cell_type": "code",
   "execution_count": 9,
   "id": "ddce3ca5-ae34-4054-9935-c7f9b2a31302",
   "metadata": {},
   "outputs": [
    {
     "data": {
      "text/plain": [
       "False"
      ]
     },
     "execution_count": 9,
     "metadata": {},
     "output_type": "execute_result"
    }
   ],
   "source": [
    "a >= b"
   ]
  },
  {
   "cell_type": "code",
   "execution_count": 10,
   "id": "215edbd1-be14-427c-a635-34ba52cc48d5",
   "metadata": {},
   "outputs": [
    {
     "data": {
      "text/plain": [
       "True"
      ]
     },
     "execution_count": 10,
     "metadata": {},
     "output_type": "execute_result"
    }
   ],
   "source": [
    "a < b"
   ]
  },
  {
   "cell_type": "code",
   "execution_count": 11,
   "id": "e19c387f-5cdc-4b0e-a7a7-d266073e50a9",
   "metadata": {},
   "outputs": [
    {
     "data": {
      "text/plain": [
       "False"
      ]
     },
     "execution_count": 11,
     "metadata": {},
     "output_type": "execute_result"
    }
   ],
   "source": [
    "a > b"
   ]
  },
  {
   "cell_type": "code",
   "execution_count": 15,
   "id": "12905bd7-150e-4572-af43-de1ca992f6e5",
   "metadata": {},
   "outputs": [
    {
     "data": {
      "text/plain": [
       "False"
      ]
     },
     "execution_count": 15,
     "metadata": {},
     "output_type": "execute_result"
    }
   ],
   "source": [
    "#4.Logical Operator: This operator combine the conditional statements. example:\n",
    "\n",
    "x = 8 \n",
    "y = 10\n",
    "x > y and x == y\n"
   ]
  },
  {
   "cell_type": "code",
   "execution_count": 16,
   "id": "a97092b2-3b12-4c8c-83ff-3ceda630ccc9",
   "metadata": {},
   "outputs": [
    {
     "data": {
      "text/plain": [
       "False"
      ]
     },
     "execution_count": 16,
     "metadata": {},
     "output_type": "execute_result"
    }
   ],
   "source": [
    "x > y or x == y"
   ]
  },
  {
   "cell_type": "code",
   "execution_count": 17,
   "id": "bb6c7620-5985-446d-b035-c16dc6bd60ed",
   "metadata": {},
   "outputs": [
    {
     "data": {
      "text/plain": [
       "True"
      ]
     },
     "execution_count": 17,
     "metadata": {},
     "output_type": "execute_result"
    }
   ],
   "source": [
    "x < y and x != y"
   ]
  },
  {
   "cell_type": "code",
   "execution_count": 18,
   "id": "153b46ed-c0b0-4ce7-9840-1d2541ed4a6b",
   "metadata": {},
   "outputs": [
    {
     "data": {
      "text/plain": [
       "True"
      ]
     },
     "execution_count": 18,
     "metadata": {},
     "output_type": "execute_result"
    }
   ],
   "source": [
    "x != y"
   ]
  },
  {
   "cell_type": "code",
   "execution_count": null,
   "id": "ad95fad7-bafd-409a-ac99-70a4b798e31b",
   "metadata": {},
   "outputs": [],
   "source": [
    "#5.Explain the concept of type casting in Python with examples.\n",
    "#Answer: Typecasting also known as type conversion.Typecasting is the process of changing the datatype of value. \n",
    "#Using type() function you can determine the datatype of value.\n",
    "#Using type() you can convert the datatypes such as int() to float(), float() to int(), int() to string(), string() to int(), etc. \n",
    "#But there are some conditions regarding the typecasting such as, int() will convert into int datatype if the input is valid and\n",
    "#same for string() datatype.\n",
    "#There are two types of typecasting:Implicit and Explicit typecasting."
   ]
  },
  {
   "cell_type": "code",
   "execution_count": 19,
   "id": "ea936e77-809e-47ec-aa0d-e46f78c0cfd6",
   "metadata": {},
   "outputs": [
    {
     "data": {
      "text/plain": [
       "67"
      ]
     },
     "execution_count": 19,
     "metadata": {},
     "output_type": "execute_result"
    }
   ],
   "source": [
    "#Examples:\n",
    "a = 67\n",
    "a"
   ]
  },
  {
   "cell_type": "code",
   "execution_count": 20,
   "id": "9f685b3a-eae5-4cca-949c-927e62013670",
   "metadata": {},
   "outputs": [
    {
     "data": {
      "text/plain": [
       "int"
      ]
     },
     "execution_count": 20,
     "metadata": {},
     "output_type": "execute_result"
    }
   ],
   "source": [
    "type(a)\n"
   ]
  },
  {
   "cell_type": "code",
   "execution_count": 29,
   "id": "9c2c7b25-475c-4cd3-91c3-7b2f2e251071",
   "metadata": {},
   "outputs": [
    {
     "data": {
      "text/plain": [
       "'67'"
      ]
     },
     "execution_count": 29,
     "metadata": {},
     "output_type": "execute_result"
    }
   ],
   "source": [
    "str(a)"
   ]
  },
  {
   "cell_type": "code",
   "execution_count": 31,
   "id": "c3df5206-e5db-4d9a-b202-d2656bb78174",
   "metadata": {},
   "outputs": [
    {
     "data": {
      "text/plain": [
       "str"
      ]
     },
     "execution_count": 31,
     "metadata": {},
     "output_type": "execute_result"
    }
   ],
   "source": [
    "b = ('hello')\n",
    "type(b)"
   ]
  },
  {
   "cell_type": "code",
   "execution_count": 5,
   "id": "95b9150f-cf56-4be1-9917-461a95d88308",
   "metadata": {},
   "outputs": [
    {
     "data": {
      "text/plain": [
       "5"
      ]
     },
     "execution_count": 5,
     "metadata": {},
     "output_type": "execute_result"
    }
   ],
   "source": [
    "a = \"2\"\n",
    "b = 3\n",
    "int(a) + b"
   ]
  },
  {
   "cell_type": "code",
   "execution_count": 32,
   "id": "305259e1-6ee9-41c9-9638-2f6ab62546c0",
   "metadata": {},
   "outputs": [
    {
     "name": "stdout",
     "output_type": "stream",
     "text": [
      "if-block is executed\n"
     ]
    }
   ],
   "source": [
    "#How do conditional statements work in Python? Illustrate with examples.\n",
    "#There are four types of conditional statements.\n",
    "\n",
    "#1.if-statement:\n",
    "#example:the code block executed if the condition within the block is true.\n",
    "\n",
    "a = 30\n",
    "if a >= 30:\n",
    "    print(\"if-block is executed\")"
   ]
  },
  {
   "cell_type": "code",
   "execution_count": 33,
   "id": "9de69064-f6c9-4f5c-98df-662e27b7b46b",
   "metadata": {},
   "outputs": [],
   "source": [
    "if a < 30:\n",
    "    print(\"if-block is executed\")"
   ]
  },
  {
   "cell_type": "code",
   "execution_count": 34,
   "id": "2d422699-b83f-4efc-876d-6ed91f9773fb",
   "metadata": {},
   "outputs": [
    {
     "name": "stdout",
     "output_type": "stream",
     "text": [
      "else block is executed\n"
     ]
    }
   ],
   "source": [
    "#2.if-else statement: \n",
    "#example:the if block is executed if condition is true otherwise the else block is excuted.\n",
    "\n",
    "a = 20\n",
    "b = 50\n",
    "if a == 30:\n",
    "    print(\"if-block is executed\")\n",
    "else:\n",
    "    print(\"else block is executed\")"
   ]
  },
  {
   "cell_type": "code",
   "execution_count": 37,
   "id": "09b1724b-68d2-4120-b98e-e40577465a89",
   "metadata": {},
   "outputs": [
    {
     "name": "stdin",
     "output_type": "stream",
     "text": [
      "Enter your Age:  4\n"
     ]
    },
    {
     "name": "stdout",
     "output_type": "stream",
     "text": [
      "4\n",
      "You are not eligible for voting\n"
     ]
    }
   ],
   "source": [
    "age = int(input(\"Enter your Age: \"))\n",
    "print(age)\n",
    "if age >= 18:\n",
    "    print(\"You are eligible for voting\")\n",
    "else:\n",
    "    print(\"You are not eligible for voting\")"
   ]
  },
  {
   "cell_type": "code",
   "execution_count": 39,
   "id": "d2acf87d-5c54-4e3e-81d2-8579971592fc",
   "metadata": {},
   "outputs": [
    {
     "name": "stdout",
     "output_type": "stream",
     "text": [
      "a is smaller than b and a is not equals to b\n"
     ]
    }
   ],
   "source": [
    "#3.if-elif statement:\n",
    "#example: the if block is executed if the if-condition is true otherwise it moves to elif block check the condition and if it is true its executes.\n",
    "#other wise else block executes\n",
    "\n",
    "a = 0\n",
    "b = 1\n",
    "if a < b and a != b:\n",
    "    print(\"a is smaller than b and a is not equals to b\")\n",
    "elif a > b and a == b:\n",
    "    print(\"a greater than b and a is equals to b\")\n",
    "else:\n",
    "    print(\"a is euals to b\")"
   ]
  },
  {
   "cell_type": "code",
   "execution_count": 1,
   "id": "7dc7920a-4028-492d-9074-f0cdf9b01d5f",
   "metadata": {},
   "outputs": [
    {
     "name": "stdout",
     "output_type": "stream",
     "text": [
      "Only a is greater than 5 but b is smaller\n"
     ]
    }
   ],
   "source": [
    "#4.Nested if-else :\n",
    "#example: In this if block contains one more if-else block.If the condition satisfies the if-statement then it goes under the if-block and check the\n",
    "#further if-condition and if it is true then its executes otherwise the else block is executed.If the if-condition is false then it moves to else block\n",
    "#and executes it.\n",
    "\n",
    "a = 8\n",
    "b = 2\n",
    "if a > 5:\n",
    "    if b > 5:\n",
    "        print(\"Both a and b is greater than 5\")\n",
    "    else:\n",
    "        print(\"Only a is greater than 5 but b is smaller\")\n",
    "else:\n",
    "    print(\"a is smaller than 5\")\n",
    "    "
   ]
  },
  {
   "cell_type": "markdown",
   "id": "51a9e703-c0d4-4b7c-b4dc-0dd53ea91b08",
   "metadata": {},
   "source": [
    "Answer: Loops are the block of codes which executed repeatedly.There are two types of loops:"
   ]
  },
  {
   "cell_type": "code",
   "execution_count": 2,
   "id": "e851ddd0-0330-47c2-adb9-0f316f50571d",
   "metadata": {},
   "outputs": [
    {
     "name": "stdout",
     "output_type": "stream",
     "text": [
      "1\n",
      "2\n",
      "3\n",
      "4\n",
      "5\n",
      "6\n",
      "7\n",
      "8\n",
      "9\n",
      "10\n"
     ]
    }
   ],
   "source": [
    "#7.Describe the different types of loops in Python and their use cases with examples.\n",
    "#Answer: Loops are the block of codes which executed repeatedly.There are two types of loops:\n",
    "\n",
    "#1.for loop : \n",
    "\n",
    "start = 1\n",
    "end = 11\n",
    "for i in range(start, end):\n",
    "    print(i)"
   ]
  },
  {
   "cell_type": "code",
   "execution_count": 3,
   "id": "466fe545-b582-4878-8635-e0901b9cd00a",
   "metadata": {},
   "outputs": [
    {
     "name": "stdout",
     "output_type": "stream",
     "text": [
      "6\n",
      "12\n",
      "18\n",
      "24\n",
      "30\n",
      "36\n",
      "42\n",
      "48\n",
      "54\n",
      "60\n"
     ]
    }
   ],
   "source": [
    "start = 6\n",
    "end = 61\n",
    "for i in range(start, end):\n",
    "    if i % 6 == 0:\n",
    "        print(i)"
   ]
  },
  {
   "cell_type": "code",
   "execution_count": 1,
   "id": "3e36094c-9cb4-4ce2-a5a4-f06e014ca9cc",
   "metadata": {},
   "outputs": [
    {
     "name": "stdout",
     "output_type": "stream",
     "text": [
      "1\n",
      "2\n",
      "3\n",
      "4\n",
      "5\n",
      "6\n"
     ]
    }
   ],
   "source": [
    "#2.while loop\n",
    "\n",
    "n = 7\n",
    "i = 1\n",
    "while i < n:\n",
    "    print(i)\n",
    "    i = i + 1"
   ]
  },
  {
   "cell_type": "code",
   "execution_count": 2,
   "id": "8f077a13-e436-4ee6-91d5-eda8433e2f90",
   "metadata": {},
   "outputs": [
    {
     "name": "stdout",
     "output_type": "stream",
     "text": [
      "2\n",
      "4\n",
      "6\n",
      "8\n",
      "10\n",
      "12\n",
      "14\n",
      "16\n",
      "18\n",
      "20\n"
     ]
    }
   ],
   "source": [
    "n = 21\n",
    "i = 1\n",
    "while i < n:\n",
    "    if i % 2 == 0:\n",
    "        print(i)\n",
    "    i = i + 1"
   ]
  }
 ],
 "metadata": {
  "kernelspec": {
   "display_name": "Python 3 (ipykernel)",
   "language": "python",
   "name": "python3"
  },
  "language_info": {
   "codemirror_mode": {
    "name": "ipython",
    "version": 3
   },
   "file_extension": ".py",
   "mimetype": "text/x-python",
   "name": "python",
   "nbconvert_exporter": "python",
   "pygments_lexer": "ipython3",
   "version": "3.10.8"
  },
  "toc-autonumbering": true,
  "toc-showmarkdowntxt": false,
  "toc-showtags": false
 },
 "nbformat": 4,
 "nbformat_minor": 5
}
