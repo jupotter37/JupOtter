{
 "cells": [
  {
   "cell_type": "code",
   "execution_count": 1,
   "id": "f3b609c5",
   "metadata": {},
   "outputs": [
    {
     "name": "stdout",
     "output_type": "stream",
     "text": [
      "Dependencies Imported\n"
     ]
    }
   ],
   "source": [
    "import os\n",
    "import numpy as np\n",
    "import pandas as pd\n",
    "import matplotlib.pyplot as plt\n",
    "import seaborn as sns\n",
    "print('Dependencies Imported')\n"
   ]
  },
  {
   "cell_type": "code",
   "execution_count": 2,
   "id": "63c19757",
   "metadata": {},
   "outputs": [
    {
     "data": {
      "text/html": [
       "<div>\n",
       "<style scoped>\n",
       "    .dataframe tbody tr th:only-of-type {\n",
       "        vertical-align: middle;\n",
       "    }\n",
       "\n",
       "    .dataframe tbody tr th {\n",
       "        vertical-align: top;\n",
       "    }\n",
       "\n",
       "    .dataframe thead th {\n",
       "        text-align: right;\n",
       "    }\n",
       "</style>\n",
       "<table border=\"1\" class=\"dataframe\">\n",
       "  <thead>\n",
       "    <tr style=\"text-align: right;\">\n",
       "      <th></th>\n",
       "      <th>course</th>\n",
       "      <th>user_registration_year</th>\n",
       "      <th>id_user</th>\n",
       "      <th>user_profile</th>\n",
       "      <th>region</th>\n",
       "      <th>course_level</th>\n",
       "      <th>age_band</th>\n",
       "      <th>num_of_prev_attempts</th>\n",
       "      <th>studied_credits</th>\n",
       "      <th>qualification</th>\n",
       "      <th>...</th>\n",
       "      <th>Tenants</th>\n",
       "      <th>Recommend_course_priority</th>\n",
       "      <th>Are_you_Happy_with_course</th>\n",
       "      <th>Projects_in_the_course</th>\n",
       "      <th>projects_completed</th>\n",
       "      <th>Marks</th>\n",
       "      <th>Pending_projects</th>\n",
       "      <th>Courses_Name</th>\n",
       "      <th>IsCourseRetired</th>\n",
       "      <th>Course_Rating</th>\n",
       "    </tr>\n",
       "  </thead>\n",
       "  <tbody>\n",
       "    <tr>\n",
       "      <th>0</th>\n",
       "      <td>Python</td>\n",
       "      <td>2013</td>\n",
       "      <td>583968</td>\n",
       "      <td>Student</td>\n",
       "      <td>Leicester</td>\n",
       "      <td>Beginner</td>\n",
       "      <td>0-35</td>\n",
       "      <td>0</td>\n",
       "      <td>60</td>\n",
       "      <td>Graduate</td>\n",
       "      <td>...</td>\n",
       "      <td>Class Plus</td>\n",
       "      <td>High</td>\n",
       "      <td>1</td>\n",
       "      <td>277</td>\n",
       "      <td>80</td>\n",
       "      <td>89</td>\n",
       "      <td>197</td>\n",
       "      <td>Python Programming Essentials</td>\n",
       "      <td>0</td>\n",
       "      <td>3</td>\n",
       "    </tr>\n",
       "    <tr>\n",
       "      <th>1</th>\n",
       "      <td>Python</td>\n",
       "      <td>2013</td>\n",
       "      <td>563230</td>\n",
       "      <td>Student</td>\n",
       "      <td>Hampshire</td>\n",
       "      <td>Beginner</td>\n",
       "      <td>0-35</td>\n",
       "      <td>0</td>\n",
       "      <td>60</td>\n",
       "      <td>Graduate</td>\n",
       "      <td>...</td>\n",
       "      <td>WizIQ</td>\n",
       "      <td>Very Low</td>\n",
       "      <td>1</td>\n",
       "      <td>288</td>\n",
       "      <td>80</td>\n",
       "      <td>92</td>\n",
       "      <td>208</td>\n",
       "      <td>Using Python to Interact with the Operating Sy...</td>\n",
       "      <td>0</td>\n",
       "      <td>2</td>\n",
       "    </tr>\n",
       "    <tr>\n",
       "      <th>2</th>\n",
       "      <td>Python</td>\n",
       "      <td>2012</td>\n",
       "      <td>388754</td>\n",
       "      <td>Student</td>\n",
       "      <td>Oxfordshire</td>\n",
       "      <td>Beginner</td>\n",
       "      <td>0-35</td>\n",
       "      <td>0</td>\n",
       "      <td>120</td>\n",
       "      <td>Graduate</td>\n",
       "      <td>...</td>\n",
       "      <td>Byjus</td>\n",
       "      <td>High</td>\n",
       "      <td>1</td>\n",
       "      <td>268</td>\n",
       "      <td>92</td>\n",
       "      <td>84</td>\n",
       "      <td>176</td>\n",
       "      <td>Python Project: pillow, tesseract, and opencv</td>\n",
       "      <td>1</td>\n",
       "      <td>3</td>\n",
       "    </tr>\n",
       "    <tr>\n",
       "      <th>3</th>\n",
       "      <td>Python</td>\n",
       "      <td>2013</td>\n",
       "      <td>2394090</td>\n",
       "      <td>Professional</td>\n",
       "      <td>Norfolk</td>\n",
       "      <td>Beginner</td>\n",
       "      <td>0-35</td>\n",
       "      <td>0</td>\n",
       "      <td>90</td>\n",
       "      <td>Graduate</td>\n",
       "      <td>...</td>\n",
       "      <td>Embibe</td>\n",
       "      <td>Very High</td>\n",
       "      <td>0</td>\n",
       "      <td>299</td>\n",
       "      <td>100</td>\n",
       "      <td>86</td>\n",
       "      <td>199</td>\n",
       "      <td>Create Your First Python Program</td>\n",
       "      <td>1</td>\n",
       "      <td>4</td>\n",
       "    </tr>\n",
       "    <tr>\n",
       "      <th>4</th>\n",
       "      <td>Python</td>\n",
       "      <td>2012</td>\n",
       "      <td>572898</td>\n",
       "      <td>Professional</td>\n",
       "      <td>Hampshire</td>\n",
       "      <td>Beginner</td>\n",
       "      <td>0-35</td>\n",
       "      <td>0</td>\n",
       "      <td>120</td>\n",
       "      <td>Graduate</td>\n",
       "      <td>...</td>\n",
       "      <td>Toppr</td>\n",
       "      <td>Medium</td>\n",
       "      <td>0</td>\n",
       "      <td>252</td>\n",
       "      <td>83</td>\n",
       "      <td>88</td>\n",
       "      <td>169</td>\n",
       "      <td>Python Geospatial Data Analysis</td>\n",
       "      <td>1</td>\n",
       "      <td>4</td>\n",
       "    </tr>\n",
       "  </tbody>\n",
       "</table>\n",
       "<p>5 rows × 32 columns</p>\n",
       "</div>"
      ],
      "text/plain": [
       "   course  user_registration_year  id_user  user_profile        region  \\\n",
       "0  Python                    2013   583968       Student     Leicester   \n",
       "1  Python                    2013   563230       Student     Hampshire   \n",
       "2  Python                    2012   388754       Student   Oxfordshire   \n",
       "3  Python                    2013  2394090  Professional       Norfolk   \n",
       "4  Python                    2012   572898  Professional     Hampshire   \n",
       "\n",
       "  course_level age_band  num_of_prev_attempts  studied_credits qualification  \\\n",
       "0     Beginner     0-35                     0               60      Graduate   \n",
       "1     Beginner     0-35                     0               60      Graduate   \n",
       "2     Beginner     0-35                     0              120      Graduate   \n",
       "3     Beginner     0-35                     0               90      Graduate   \n",
       "4     Beginner     0-35                     0              120      Graduate   \n",
       "\n",
       "   ...     Tenants  Recommend_course_priority  Are_you_Happy_with_course  \\\n",
       "0  ...  Class Plus                       High                          1   \n",
       "1  ...       WizIQ                   Very Low                          1   \n",
       "2  ...       Byjus                       High                          1   \n",
       "3  ...      Embibe                 Very High                           0   \n",
       "4  ...       Toppr                     Medium                          0   \n",
       "\n",
       "   Projects_in_the_course  projects_completed  Marks  Pending_projects  \\\n",
       "0                     277                  80     89               197   \n",
       "1                     288                  80     92               208   \n",
       "2                     268                  92     84               176   \n",
       "3                     299                 100     86               199   \n",
       "4                     252                  83     88               169   \n",
       "\n",
       "                                        Courses_Name IsCourseRetired  \\\n",
       "0                      Python Programming Essentials               0   \n",
       "1  Using Python to Interact with the Operating Sy...               0   \n",
       "2      Python Project: pillow, tesseract, and opencv               1   \n",
       "3                   Create Your First Python Program               1   \n",
       "4                    Python Geospatial Data Analysis               1   \n",
       "\n",
       "   Course_Rating  \n",
       "0              3  \n",
       "1              2  \n",
       "2              3  \n",
       "3              4  \n",
       "4              4  \n",
       "\n",
       "[5 rows x 32 columns]"
      ]
     },
     "execution_count": 2,
     "metadata": {},
     "output_type": "execute_result"
    }
   ],
   "source": [
    "data = pd.read_csv(\"st1.csv\")\n",
    "data.head(5)"
   ]
  },
  {
   "cell_type": "code",
   "execution_count": 3,
   "id": "cf736870",
   "metadata": {},
   "outputs": [
    {
     "data": {
      "text/plain": [
       "(26234, 32)"
      ]
     },
     "execution_count": 3,
     "metadata": {},
     "output_type": "execute_result"
    }
   ],
   "source": [
    "data.shape \n"
   ]
  },
  {
   "cell_type": "code",
   "execution_count": 4,
   "id": "7c4a199a",
   "metadata": {},
   "outputs": [],
   "source": [
    "data.dropna(inplace=True)"
   ]
  },
  {
   "cell_type": "code",
   "execution_count": 5,
   "id": "ef55a457",
   "metadata": {},
   "outputs": [
    {
     "data": {
      "text/plain": [
       "(26234, 32)"
      ]
     },
     "execution_count": 5,
     "metadata": {},
     "output_type": "execute_result"
    }
   ],
   "source": [
    "data.shape \n"
   ]
  },
  {
   "cell_type": "code",
   "execution_count": 6,
   "id": "03b07faa",
   "metadata": {},
   "outputs": [
    {
     "data": {
      "text/html": [
       "<div>\n",
       "<style scoped>\n",
       "    .dataframe tbody tr th:only-of-type {\n",
       "        vertical-align: middle;\n",
       "    }\n",
       "\n",
       "    .dataframe tbody tr th {\n",
       "        vertical-align: top;\n",
       "    }\n",
       "\n",
       "    .dataframe thead th {\n",
       "        text-align: right;\n",
       "    }\n",
       "</style>\n",
       "<table border=\"1\" class=\"dataframe\">\n",
       "  <thead>\n",
       "    <tr style=\"text-align: right;\">\n",
       "      <th></th>\n",
       "      <th>course</th>\n",
       "      <th>user_registration_year</th>\n",
       "      <th>id_user</th>\n",
       "      <th>user_profile</th>\n",
       "      <th>region</th>\n",
       "      <th>course_level</th>\n",
       "      <th>age_band</th>\n",
       "      <th>num_of_prev_attempts</th>\n",
       "      <th>studied_credits</th>\n",
       "      <th>qualification</th>\n",
       "      <th>...</th>\n",
       "      <th>Tenants</th>\n",
       "      <th>Recommend_course_priority</th>\n",
       "      <th>Are_you_Happy_with_course</th>\n",
       "      <th>Projects_in_the_course</th>\n",
       "      <th>projects_completed</th>\n",
       "      <th>Marks</th>\n",
       "      <th>Pending_projects</th>\n",
       "      <th>Courses_Name</th>\n",
       "      <th>IsCourseRetired</th>\n",
       "      <th>Course_Rating</th>\n",
       "    </tr>\n",
       "  </thead>\n",
       "  <tbody>\n",
       "    <tr>\n",
       "      <th>26229</th>\n",
       "      <td>Deep learning</td>\n",
       "      <td>2014</td>\n",
       "      <td>687586</td>\n",
       "      <td>Student</td>\n",
       "      <td>Cheshire</td>\n",
       "      <td>Intermediate</td>\n",
       "      <td>0-35</td>\n",
       "      <td>0</td>\n",
       "      <td>30</td>\n",
       "      <td>Graduate</td>\n",
       "      <td>...</td>\n",
       "      <td>EduKart</td>\n",
       "      <td>Very Low</td>\n",
       "      <td>1</td>\n",
       "      <td>253</td>\n",
       "      <td>20</td>\n",
       "      <td>77</td>\n",
       "      <td>233</td>\n",
       "      <td>An Introduction to Practical Deep Learning</td>\n",
       "      <td>1</td>\n",
       "      <td>4</td>\n",
       "    </tr>\n",
       "    <tr>\n",
       "      <th>26230</th>\n",
       "      <td>Deep learning</td>\n",
       "      <td>2014</td>\n",
       "      <td>694070</td>\n",
       "      <td>Professional</td>\n",
       "      <td>Oxfordshire</td>\n",
       "      <td>Intermediate</td>\n",
       "      <td>35-55</td>\n",
       "      <td>0</td>\n",
       "      <td>30</td>\n",
       "      <td>Graduate</td>\n",
       "      <td>...</td>\n",
       "      <td>Udemy</td>\n",
       "      <td>Medium</td>\n",
       "      <td>1</td>\n",
       "      <td>254</td>\n",
       "      <td>90</td>\n",
       "      <td>86</td>\n",
       "      <td>164</td>\n",
       "      <td>Introduction to Deep Learning</td>\n",
       "      <td>0</td>\n",
       "      <td>3</td>\n",
       "    </tr>\n",
       "    <tr>\n",
       "      <th>26231</th>\n",
       "      <td>Deep learning</td>\n",
       "      <td>2014</td>\n",
       "      <td>696710</td>\n",
       "      <td>Professional</td>\n",
       "      <td>Oxfordshire</td>\n",
       "      <td>Intermediate</td>\n",
       "      <td>0-35</td>\n",
       "      <td>0</td>\n",
       "      <td>30</td>\n",
       "      <td>Graduate</td>\n",
       "      <td>...</td>\n",
       "      <td>Coursera</td>\n",
       "      <td>High</td>\n",
       "      <td>1</td>\n",
       "      <td>261</td>\n",
       "      <td>10</td>\n",
       "      <td>60</td>\n",
       "      <td>251</td>\n",
       "      <td>An Introduction to Practical Deep Learning</td>\n",
       "      <td>1</td>\n",
       "      <td>1</td>\n",
       "    </tr>\n",
       "    <tr>\n",
       "      <th>26232</th>\n",
       "      <td>Deep learning</td>\n",
       "      <td>2014</td>\n",
       "      <td>690065</td>\n",
       "      <td>Professional</td>\n",
       "      <td>Oxfordshire</td>\n",
       "      <td>Intermediate</td>\n",
       "      <td>35-55</td>\n",
       "      <td>0</td>\n",
       "      <td>30</td>\n",
       "      <td>Post Graduate</td>\n",
       "      <td>...</td>\n",
       "      <td>Brainly</td>\n",
       "      <td>Low</td>\n",
       "      <td>0</td>\n",
       "      <td>272</td>\n",
       "      <td>10</td>\n",
       "      <td>40</td>\n",
       "      <td>262</td>\n",
       "      <td>Introduction to Deep Learning &amp; Neural Network...</td>\n",
       "      <td>1</td>\n",
       "      <td>5</td>\n",
       "    </tr>\n",
       "    <tr>\n",
       "      <th>26233</th>\n",
       "      <td>Deep learning</td>\n",
       "      <td>2014</td>\n",
       "      <td>698065</td>\n",
       "      <td>Professional</td>\n",
       "      <td>Norfolk</td>\n",
       "      <td>Intermediate</td>\n",
       "      <td>0-35</td>\n",
       "      <td>0</td>\n",
       "      <td>60</td>\n",
       "      <td>Graduate</td>\n",
       "      <td>...</td>\n",
       "      <td>Unacademy</td>\n",
       "      <td>Very High</td>\n",
       "      <td>0</td>\n",
       "      <td>250</td>\n",
       "      <td>0</td>\n",
       "      <td>0</td>\n",
       "      <td>250</td>\n",
       "      <td>Build a Deep Learning Based Image Classifier w...</td>\n",
       "      <td>1</td>\n",
       "      <td>5</td>\n",
       "    </tr>\n",
       "  </tbody>\n",
       "</table>\n",
       "<p>5 rows × 32 columns</p>\n",
       "</div>"
      ],
      "text/plain": [
       "              course  user_registration_year  id_user  user_profile  \\\n",
       "26229  Deep learning                    2014   687586       Student   \n",
       "26230  Deep learning                    2014   694070  Professional   \n",
       "26231  Deep learning                    2014   696710  Professional   \n",
       "26232  Deep learning                    2014   690065  Professional   \n",
       "26233  Deep learning                    2014   698065  Professional   \n",
       "\n",
       "             region  course_level age_band  num_of_prev_attempts  \\\n",
       "26229      Cheshire  Intermediate     0-35                     0   \n",
       "26230   Oxfordshire  Intermediate    35-55                     0   \n",
       "26231   Oxfordshire  Intermediate     0-35                     0   \n",
       "26232   Oxfordshire  Intermediate    35-55                     0   \n",
       "26233       Norfolk  Intermediate     0-35                     0   \n",
       "\n",
       "       studied_credits  qualification  ...    Tenants  \\\n",
       "26229               30       Graduate  ...    EduKart   \n",
       "26230               30       Graduate  ...      Udemy   \n",
       "26231               30       Graduate  ...   Coursera   \n",
       "26232               30  Post Graduate  ...    Brainly   \n",
       "26233               60       Graduate  ...  Unacademy   \n",
       "\n",
       "       Recommend_course_priority  Are_you_Happy_with_course  \\\n",
       "26229                   Very Low                          1   \n",
       "26230                     Medium                          1   \n",
       "26231                       High                          1   \n",
       "26232                        Low                          0   \n",
       "26233                 Very High                           0   \n",
       "\n",
       "       Projects_in_the_course  projects_completed  Marks  Pending_projects  \\\n",
       "26229                     253                  20     77               233   \n",
       "26230                     254                  90     86               164   \n",
       "26231                     261                  10     60               251   \n",
       "26232                     272                  10     40               262   \n",
       "26233                     250                   0      0               250   \n",
       "\n",
       "                                            Courses_Name IsCourseRetired  \\\n",
       "26229         An Introduction to Practical Deep Learning               1   \n",
       "26230                      Introduction to Deep Learning               0   \n",
       "26231         An Introduction to Practical Deep Learning               1   \n",
       "26232  Introduction to Deep Learning & Neural Network...               1   \n",
       "26233  Build a Deep Learning Based Image Classifier w...               1   \n",
       "\n",
       "       Course_Rating  \n",
       "26229              4  \n",
       "26230              3  \n",
       "26231              1  \n",
       "26232              5  \n",
       "26233              5  \n",
       "\n",
       "[5 rows x 32 columns]"
      ]
     },
     "execution_count": 6,
     "metadata": {},
     "output_type": "execute_result"
    }
   ],
   "source": [
    "data.tail()"
   ]
  },
  {
   "cell_type": "code",
   "execution_count": 7,
   "id": "65c77796",
   "metadata": {},
   "outputs": [
    {
     "name": "stdout",
     "output_type": "stream",
     "text": [
      "<class 'pandas.core.frame.DataFrame'>\n",
      "Int64Index: 26234 entries, 0 to 26233\n",
      "Data columns (total 32 columns):\n",
      " #   Column                              Non-Null Count  Dtype  \n",
      "---  ------                              --------------  -----  \n",
      " 0   course                              26234 non-null  object \n",
      " 1   user_registration_year              26234 non-null  int64  \n",
      " 2   id_user                             26234 non-null  int64  \n",
      " 3   user_profile                        26234 non-null  object \n",
      " 4   region                              26234 non-null  object \n",
      " 5   course_level                        26234 non-null  object \n",
      " 6   age_band                            26234 non-null  object \n",
      " 7   num_of_prev_attempts                26234 non-null  int64  \n",
      " 8   studied_credits                     26234 non-null  int64  \n",
      " 9   qualification                       26234 non-null  object \n",
      " 10  final_result                        26234 non-null  object \n",
      " 11  course_registration_in_days         26234 non-null  int64  \n",
      " 12  course_unregistration_in_days       26234 non-null  int64  \n",
      " 13  course_present_in_platform_in_days  26234 non-null  int64  \n",
      " 14  module_used_by_user_in_days         26234 non-null  int64  \n",
      " 15  total_no_of_times_module_opened     26234 non-null  int64  \n",
      " 16  activities_engaged_wrt_modules      26234 non-null  int64  \n",
      " 17  total_clicks                        26234 non-null  int64  \n",
      " 18  queries                             26234 non-null  object \n",
      " 19  Hrabsence                           26234 non-null  float64\n",
      " 20  Consultations                       26234 non-null  int64  \n",
      " 21  Attedance                           26234 non-null  object \n",
      " 22  Tenants                             26234 non-null  object \n",
      " 23  Recommend_course_priority           26234 non-null  object \n",
      " 24  Are_you_Happy_with_course           26234 non-null  int64  \n",
      " 25  Projects_in_the_course              26234 non-null  int64  \n",
      " 26  projects_completed                  26234 non-null  int64  \n",
      " 27  Marks                               26234 non-null  int64  \n",
      " 28  Pending_projects                    26234 non-null  int64  \n",
      " 29  Courses_Name                        26234 non-null  object \n",
      " 30  IsCourseRetired                     26234 non-null  int64  \n",
      " 31  Course_Rating                       26234 non-null  int64  \n",
      "dtypes: float64(1), int64(19), object(12)\n",
      "memory usage: 6.6+ MB\n"
     ]
    }
   ],
   "source": [
    "data.info()\n"
   ]
  },
  {
   "cell_type": "code",
   "execution_count": 8,
   "id": "5772aa91",
   "metadata": {},
   "outputs": [
    {
     "data": {
      "text/plain": [
       "Introduction to Artificial Intelligence (AI)                    2864\n",
       "Building Test Automation Framework using Selenium and TestNG    1680\n",
       "Artificial Intelligence Privacy and Convenience                 1323\n",
       "Multiplatform Mobile App Development with React Native          1168\n",
       "Mobile VR App Development with Unity                            1168\n",
       "                                                                ... \n",
       "Data for Machine Learning                                          1\n",
       "Foundations for Big Data Analysis with SQL                         1\n",
       "Build Data Analysis tools using R and DPLYR                        1\n",
       "Big Data, Genes, and Medicine                                      1\n",
       "Capstone: Create Value from Open Data                              1\n",
       "Name: Courses_Name, Length: 380, dtype: int64"
      ]
     },
     "execution_count": 8,
     "metadata": {},
     "output_type": "execute_result"
    }
   ],
   "source": [
    "data['Courses_Name'].value_counts()\n"
   ]
  },
  {
   "cell_type": "code",
   "execution_count": 9,
   "id": "81dabc3d",
   "metadata": {},
   "outputs": [
    {
     "data": {
      "text/plain": [
       "4    5290\n",
       "2    5286\n",
       "5    5240\n",
       "1    5215\n",
       "3    5203\n",
       "Name: Course_Rating, dtype: int64"
      ]
     },
     "execution_count": 9,
     "metadata": {},
     "output_type": "execute_result"
    }
   ],
   "source": [
    "data['Course_Rating'].value_counts()"
   ]
  },
  {
   "cell_type": "code",
   "execution_count": 10,
   "id": "a84f841b",
   "metadata": {},
   "outputs": [
    {
     "data": {
      "text/plain": [
       "Class Plus    2391\n",
       "EduKart       2388\n",
       "Brainly       2386\n",
       "Unacademy     2386\n",
       "Toppr         2385\n",
       "Byjus         2384\n",
       "Udemy         2384\n",
       "Coursera      2383\n",
       "Embibe        2383\n",
       "Vedantu       2383\n",
       "WizIQ         2381\n",
       "Name: Tenants, dtype: int64"
      ]
     },
     "execution_count": 10,
     "metadata": {},
     "output_type": "execute_result"
    }
   ],
   "source": [
    "data['Tenants'].value_counts()"
   ]
  },
  {
   "cell_type": "code",
   "execution_count": 11,
   "id": "e29351a1",
   "metadata": {},
   "outputs": [],
   "source": [
    "data = data[['Courses_Name','course_level','qualification', 'id_user', 'Course_Rating']]"
   ]
  },
  {
   "cell_type": "code",
   "execution_count": 12,
   "id": "f9ea7b0d",
   "metadata": {},
   "outputs": [
    {
     "data": {
      "text/html": [
       "<div>\n",
       "<style scoped>\n",
       "    .dataframe tbody tr th:only-of-type {\n",
       "        vertical-align: middle;\n",
       "    }\n",
       "\n",
       "    .dataframe tbody tr th {\n",
       "        vertical-align: top;\n",
       "    }\n",
       "\n",
       "    .dataframe thead th {\n",
       "        text-align: right;\n",
       "    }\n",
       "</style>\n",
       "<table border=\"1\" class=\"dataframe\">\n",
       "  <thead>\n",
       "    <tr style=\"text-align: right;\">\n",
       "      <th></th>\n",
       "      <th>Courses_Name</th>\n",
       "      <th>course_level</th>\n",
       "      <th>qualification</th>\n",
       "      <th>id_user</th>\n",
       "      <th>Course_Rating</th>\n",
       "    </tr>\n",
       "  </thead>\n",
       "  <tbody>\n",
       "    <tr>\n",
       "      <th>0</th>\n",
       "      <td>Python Programming Essentials</td>\n",
       "      <td>Beginner</td>\n",
       "      <td>Graduate</td>\n",
       "      <td>583968</td>\n",
       "      <td>3</td>\n",
       "    </tr>\n",
       "    <tr>\n",
       "      <th>1</th>\n",
       "      <td>Using Python to Interact with the Operating Sy...</td>\n",
       "      <td>Beginner</td>\n",
       "      <td>Graduate</td>\n",
       "      <td>563230</td>\n",
       "      <td>2</td>\n",
       "    </tr>\n",
       "    <tr>\n",
       "      <th>2</th>\n",
       "      <td>Python Project: pillow, tesseract, and opencv</td>\n",
       "      <td>Beginner</td>\n",
       "      <td>Graduate</td>\n",
       "      <td>388754</td>\n",
       "      <td>3</td>\n",
       "    </tr>\n",
       "    <tr>\n",
       "      <th>3</th>\n",
       "      <td>Create Your First Python Program</td>\n",
       "      <td>Beginner</td>\n",
       "      <td>Graduate</td>\n",
       "      <td>2394090</td>\n",
       "      <td>4</td>\n",
       "    </tr>\n",
       "    <tr>\n",
       "      <th>4</th>\n",
       "      <td>Python Geospatial Data Analysis</td>\n",
       "      <td>Beginner</td>\n",
       "      <td>Graduate</td>\n",
       "      <td>572898</td>\n",
       "      <td>4</td>\n",
       "    </tr>\n",
       "  </tbody>\n",
       "</table>\n",
       "</div>"
      ],
      "text/plain": [
       "                                        Courses_Name course_level  \\\n",
       "0                      Python Programming Essentials     Beginner   \n",
       "1  Using Python to Interact with the Operating Sy...     Beginner   \n",
       "2      Python Project: pillow, tesseract, and opencv     Beginner   \n",
       "3                   Create Your First Python Program     Beginner   \n",
       "4                    Python Geospatial Data Analysis     Beginner   \n",
       "\n",
       "  qualification  id_user  Course_Rating  \n",
       "0      Graduate   583968              3  \n",
       "1      Graduate   563230              2  \n",
       "2      Graduate   388754              3  \n",
       "3      Graduate  2394090              4  \n",
       "4      Graduate   572898              4  "
      ]
     },
     "execution_count": 12,
     "metadata": {},
     "output_type": "execute_result"
    }
   ],
   "source": [
    "data.head(5)"
   ]
  },
  {
   "cell_type": "code",
   "execution_count": 13,
   "id": "b30ebacb",
   "metadata": {},
   "outputs": [],
   "source": [
    "data['Courses_Name'] = data['Courses_Name'].str.replace(' ',',')\n",
    "data['Courses_Name'] = data['Courses_Name'].str.replace(',,',',')\n",
    "data['Courses_Name'] = data['Courses_Name'].str.replace(':','')"
   ]
  },
  {
   "cell_type": "code",
   "execution_count": 14,
   "id": "16aab9b3",
   "metadata": {},
   "outputs": [
    {
     "data": {
      "text/html": [
       "<div>\n",
       "<style scoped>\n",
       "    .dataframe tbody tr th:only-of-type {\n",
       "        vertical-align: middle;\n",
       "    }\n",
       "\n",
       "    .dataframe tbody tr th {\n",
       "        vertical-align: top;\n",
       "    }\n",
       "\n",
       "    .dataframe thead th {\n",
       "        text-align: right;\n",
       "    }\n",
       "</style>\n",
       "<table border=\"1\" class=\"dataframe\">\n",
       "  <thead>\n",
       "    <tr style=\"text-align: right;\">\n",
       "      <th></th>\n",
       "      <th>Courses_Name</th>\n",
       "      <th>course_level</th>\n",
       "      <th>qualification</th>\n",
       "      <th>id_user</th>\n",
       "      <th>Course_Rating</th>\n",
       "    </tr>\n",
       "  </thead>\n",
       "  <tbody>\n",
       "    <tr>\n",
       "      <th>0</th>\n",
       "      <td>Python,Programming,Essentials</td>\n",
       "      <td>Beginner</td>\n",
       "      <td>Graduate</td>\n",
       "      <td>583968</td>\n",
       "      <td>3</td>\n",
       "    </tr>\n",
       "    <tr>\n",
       "      <th>1</th>\n",
       "      <td>Using,Python,to,Interact,with,the,Operating,Sy...</td>\n",
       "      <td>Beginner</td>\n",
       "      <td>Graduate</td>\n",
       "      <td>563230</td>\n",
       "      <td>2</td>\n",
       "    </tr>\n",
       "    <tr>\n",
       "      <th>2</th>\n",
       "      <td>Python,Project,pillow,tesseract,and,opencv</td>\n",
       "      <td>Beginner</td>\n",
       "      <td>Graduate</td>\n",
       "      <td>388754</td>\n",
       "      <td>3</td>\n",
       "    </tr>\n",
       "    <tr>\n",
       "      <th>3</th>\n",
       "      <td>Create,Your,First,Python,Program</td>\n",
       "      <td>Beginner</td>\n",
       "      <td>Graduate</td>\n",
       "      <td>2394090</td>\n",
       "      <td>4</td>\n",
       "    </tr>\n",
       "    <tr>\n",
       "      <th>4</th>\n",
       "      <td>Python,Geospatial,Data,Analysis</td>\n",
       "      <td>Beginner</td>\n",
       "      <td>Graduate</td>\n",
       "      <td>572898</td>\n",
       "      <td>4</td>\n",
       "    </tr>\n",
       "  </tbody>\n",
       "</table>\n",
       "</div>"
      ],
      "text/plain": [
       "                                        Courses_Name course_level  \\\n",
       "0                      Python,Programming,Essentials     Beginner   \n",
       "1  Using,Python,to,Interact,with,the,Operating,Sy...     Beginner   \n",
       "2         Python,Project,pillow,tesseract,and,opencv     Beginner   \n",
       "3                   Create,Your,First,Python,Program     Beginner   \n",
       "4                    Python,Geospatial,Data,Analysis     Beginner   \n",
       "\n",
       "  qualification  id_user  Course_Rating  \n",
       "0      Graduate   583968              3  \n",
       "1      Graduate   563230              2  \n",
       "2      Graduate   388754              3  \n",
       "3      Graduate  2394090              4  \n",
       "4      Graduate   572898              4  "
      ]
     },
     "execution_count": 14,
     "metadata": {},
     "output_type": "execute_result"
    }
   ],
   "source": [
    "data.head(5)\n"
   ]
  },
  {
   "cell_type": "code",
   "execution_count": 15,
   "id": "a77a7f18",
   "metadata": {},
   "outputs": [],
   "source": [
    "data['tags'] = data['Courses_Name'] + data['course_level'] + data['qualification'] + data['id_user'].astype('str')"
   ]
  },
  {
   "cell_type": "code",
   "execution_count": 16,
   "id": "83fe1b56",
   "metadata": {},
   "outputs": [
    {
     "data": {
      "text/html": [
       "<div>\n",
       "<style scoped>\n",
       "    .dataframe tbody tr th:only-of-type {\n",
       "        vertical-align: middle;\n",
       "    }\n",
       "\n",
       "    .dataframe tbody tr th {\n",
       "        vertical-align: top;\n",
       "    }\n",
       "\n",
       "    .dataframe thead th {\n",
       "        text-align: right;\n",
       "    }\n",
       "</style>\n",
       "<table border=\"1\" class=\"dataframe\">\n",
       "  <thead>\n",
       "    <tr style=\"text-align: right;\">\n",
       "      <th></th>\n",
       "      <th>Courses_Name</th>\n",
       "      <th>course_level</th>\n",
       "      <th>qualification</th>\n",
       "      <th>id_user</th>\n",
       "      <th>Course_Rating</th>\n",
       "      <th>tags</th>\n",
       "    </tr>\n",
       "  </thead>\n",
       "  <tbody>\n",
       "    <tr>\n",
       "      <th>0</th>\n",
       "      <td>Python,Programming,Essentials</td>\n",
       "      <td>Beginner</td>\n",
       "      <td>Graduate</td>\n",
       "      <td>583968</td>\n",
       "      <td>3</td>\n",
       "      <td>Python,Programming,EssentialsBeginnerGraduate5...</td>\n",
       "    </tr>\n",
       "    <tr>\n",
       "      <th>1</th>\n",
       "      <td>Using,Python,to,Interact,with,the,Operating,Sy...</td>\n",
       "      <td>Beginner</td>\n",
       "      <td>Graduate</td>\n",
       "      <td>563230</td>\n",
       "      <td>2</td>\n",
       "      <td>Using,Python,to,Interact,with,the,Operating,Sy...</td>\n",
       "    </tr>\n",
       "    <tr>\n",
       "      <th>2</th>\n",
       "      <td>Python,Project,pillow,tesseract,and,opencv</td>\n",
       "      <td>Beginner</td>\n",
       "      <td>Graduate</td>\n",
       "      <td>388754</td>\n",
       "      <td>3</td>\n",
       "      <td>Python,Project,pillow,tesseract,and,opencvBegi...</td>\n",
       "    </tr>\n",
       "    <tr>\n",
       "      <th>3</th>\n",
       "      <td>Create,Your,First,Python,Program</td>\n",
       "      <td>Beginner</td>\n",
       "      <td>Graduate</td>\n",
       "      <td>2394090</td>\n",
       "      <td>4</td>\n",
       "      <td>Create,Your,First,Python,ProgramBeginnerGradua...</td>\n",
       "    </tr>\n",
       "    <tr>\n",
       "      <th>4</th>\n",
       "      <td>Python,Geospatial,Data,Analysis</td>\n",
       "      <td>Beginner</td>\n",
       "      <td>Graduate</td>\n",
       "      <td>572898</td>\n",
       "      <td>4</td>\n",
       "      <td>Python,Geospatial,Data,AnalysisBeginnerGraduat...</td>\n",
       "    </tr>\n",
       "  </tbody>\n",
       "</table>\n",
       "</div>"
      ],
      "text/plain": [
       "                                        Courses_Name course_level  \\\n",
       "0                      Python,Programming,Essentials     Beginner   \n",
       "1  Using,Python,to,Interact,with,the,Operating,Sy...     Beginner   \n",
       "2         Python,Project,pillow,tesseract,and,opencv     Beginner   \n",
       "3                   Create,Your,First,Python,Program     Beginner   \n",
       "4                    Python,Geospatial,Data,Analysis     Beginner   \n",
       "\n",
       "  qualification  id_user  Course_Rating  \\\n",
       "0      Graduate   583968              3   \n",
       "1      Graduate   563230              2   \n",
       "2      Graduate   388754              3   \n",
       "3      Graduate  2394090              4   \n",
       "4      Graduate   572898              4   \n",
       "\n",
       "                                                tags  \n",
       "0  Python,Programming,EssentialsBeginnerGraduate5...  \n",
       "1  Using,Python,to,Interact,with,the,Operating,Sy...  \n",
       "2  Python,Project,pillow,tesseract,and,opencvBegi...  \n",
       "3  Create,Your,First,Python,ProgramBeginnerGradua...  \n",
       "4  Python,Geospatial,Data,AnalysisBeginnerGraduat...  "
      ]
     },
     "execution_count": 16,
     "metadata": {},
     "output_type": "execute_result"
    }
   ],
   "source": [
    "data.head(5)\n"
   ]
  },
  {
   "cell_type": "code",
   "execution_count": 17,
   "id": "71c51738",
   "metadata": {},
   "outputs": [
    {
     "data": {
      "text/plain": [
       "'Using,Python,to,Interact,with,the,Operating,SystemBeginnerGraduate563230'"
      ]
     },
     "execution_count": 17,
     "metadata": {},
     "output_type": "execute_result"
    }
   ],
   "source": [
    "data['tags'].iloc[1]\n"
   ]
  },
  {
   "cell_type": "code",
   "execution_count": 18,
   "id": "0292f2d2",
   "metadata": {},
   "outputs": [],
   "source": [
    "new_df = data[['Courses_Name','tags', 'id_user', 'course_level', 'Course_Rating']]"
   ]
  },
  {
   "cell_type": "code",
   "execution_count": 19,
   "id": "a15d9450",
   "metadata": {},
   "outputs": [
    {
     "data": {
      "text/html": [
       "<div>\n",
       "<style scoped>\n",
       "    .dataframe tbody tr th:only-of-type {\n",
       "        vertical-align: middle;\n",
       "    }\n",
       "\n",
       "    .dataframe tbody tr th {\n",
       "        vertical-align: top;\n",
       "    }\n",
       "\n",
       "    .dataframe thead th {\n",
       "        text-align: right;\n",
       "    }\n",
       "</style>\n",
       "<table border=\"1\" class=\"dataframe\">\n",
       "  <thead>\n",
       "    <tr style=\"text-align: right;\">\n",
       "      <th></th>\n",
       "      <th>Courses_Name</th>\n",
       "      <th>tags</th>\n",
       "      <th>id_user</th>\n",
       "      <th>course_level</th>\n",
       "      <th>Course_Rating</th>\n",
       "    </tr>\n",
       "  </thead>\n",
       "  <tbody>\n",
       "    <tr>\n",
       "      <th>0</th>\n",
       "      <td>Python,Programming,Essentials</td>\n",
       "      <td>Python,Programming,EssentialsBeginnerGraduate5...</td>\n",
       "      <td>583968</td>\n",
       "      <td>Beginner</td>\n",
       "      <td>3</td>\n",
       "    </tr>\n",
       "    <tr>\n",
       "      <th>1</th>\n",
       "      <td>Using,Python,to,Interact,with,the,Operating,Sy...</td>\n",
       "      <td>Using,Python,to,Interact,with,the,Operating,Sy...</td>\n",
       "      <td>563230</td>\n",
       "      <td>Beginner</td>\n",
       "      <td>2</td>\n",
       "    </tr>\n",
       "    <tr>\n",
       "      <th>2</th>\n",
       "      <td>Python,Project,pillow,tesseract,and,opencv</td>\n",
       "      <td>Python,Project,pillow,tesseract,and,opencvBegi...</td>\n",
       "      <td>388754</td>\n",
       "      <td>Beginner</td>\n",
       "      <td>3</td>\n",
       "    </tr>\n",
       "    <tr>\n",
       "      <th>3</th>\n",
       "      <td>Create,Your,First,Python,Program</td>\n",
       "      <td>Create,Your,First,Python,ProgramBeginnerGradua...</td>\n",
       "      <td>2394090</td>\n",
       "      <td>Beginner</td>\n",
       "      <td>4</td>\n",
       "    </tr>\n",
       "    <tr>\n",
       "      <th>4</th>\n",
       "      <td>Python,Geospatial,Data,Analysis</td>\n",
       "      <td>Python,Geospatial,Data,AnalysisBeginnerGraduat...</td>\n",
       "      <td>572898</td>\n",
       "      <td>Beginner</td>\n",
       "      <td>4</td>\n",
       "    </tr>\n",
       "  </tbody>\n",
       "</table>\n",
       "</div>"
      ],
      "text/plain": [
       "                                        Courses_Name  \\\n",
       "0                      Python,Programming,Essentials   \n",
       "1  Using,Python,to,Interact,with,the,Operating,Sy...   \n",
       "2         Python,Project,pillow,tesseract,and,opencv   \n",
       "3                   Create,Your,First,Python,Program   \n",
       "4                    Python,Geospatial,Data,Analysis   \n",
       "\n",
       "                                                tags  id_user course_level  \\\n",
       "0  Python,Programming,EssentialsBeginnerGraduate5...   583968     Beginner   \n",
       "1  Using,Python,to,Interact,with,the,Operating,Sy...   563230     Beginner   \n",
       "2  Python,Project,pillow,tesseract,and,opencvBegi...   388754     Beginner   \n",
       "3  Create,Your,First,Python,ProgramBeginnerGradua...  2394090     Beginner   \n",
       "4  Python,Geospatial,Data,AnalysisBeginnerGraduat...   572898     Beginner   \n",
       "\n",
       "   Course_Rating  \n",
       "0              3  \n",
       "1              2  \n",
       "2              3  \n",
       "3              4  \n",
       "4              4  "
      ]
     },
     "execution_count": 19,
     "metadata": {},
     "output_type": "execute_result"
    }
   ],
   "source": [
    "new_df.head(5)\n"
   ]
  },
  {
   "cell_type": "code",
   "execution_count": 20,
   "id": "a975d770",
   "metadata": {},
   "outputs": [
    {
     "name": "stderr",
     "output_type": "stream",
     "text": [
      "C:\\Users\\Deepika\\anaconda3\\envs\\cows\\lib\\site-packages\\ipykernel_launcher.py:1: SettingWithCopyWarning: \n",
      "A value is trying to be set on a copy of a slice from a DataFrame.\n",
      "Try using .loc[row_indexer,col_indexer] = value instead\n",
      "\n",
      "See the caveats in the documentation: https://pandas.pydata.org/pandas-docs/stable/user_guide/indexing.html#returning-a-view-versus-a-copy\n",
      "  \"\"\"Entry point for launching an IPython kernel.\n"
     ]
    }
   ],
   "source": [
    "new_df['tags'] = data['tags'].str.replace(',',' ')\n"
   ]
  },
  {
   "cell_type": "code",
   "execution_count": 21,
   "id": "965ce94f",
   "metadata": {},
   "outputs": [
    {
     "name": "stderr",
     "output_type": "stream",
     "text": [
      "C:\\Users\\Deepika\\anaconda3\\envs\\cows\\lib\\site-packages\\ipykernel_launcher.py:1: SettingWithCopyWarning: \n",
      "A value is trying to be set on a copy of a slice from a DataFrame.\n",
      "Try using .loc[row_indexer,col_indexer] = value instead\n",
      "\n",
      "See the caveats in the documentation: https://pandas.pydata.org/pandas-docs/stable/user_guide/indexing.html#returning-a-view-versus-a-copy\n",
      "  \"\"\"Entry point for launching an IPython kernel.\n"
     ]
    }
   ],
   "source": [
    "new_df['Courses_Name'] = data['Courses_Name'].str.replace(',',' ')"
   ]
  },
  {
   "cell_type": "code",
   "execution_count": 22,
   "id": "4cd11b08",
   "metadata": {},
   "outputs": [
    {
     "name": "stderr",
     "output_type": "stream",
     "text": [
      "C:\\Users\\Deepika\\anaconda3\\envs\\cows\\lib\\site-packages\\pandas\\core\\frame.py:4308: SettingWithCopyWarning: \n",
      "A value is trying to be set on a copy of a slice from a DataFrame\n",
      "\n",
      "See the caveats in the documentation: https://pandas.pydata.org/pandas-docs/stable/user_guide/indexing.html#returning-a-view-versus-a-copy\n",
      "  errors=errors,\n"
     ]
    }
   ],
   "source": [
    "new_df.rename(columns = {'Course Name':'course_name'}, inplace = True)\n"
   ]
  },
  {
   "cell_type": "code",
   "execution_count": 23,
   "id": "0dec1096",
   "metadata": {},
   "outputs": [
    {
     "name": "stderr",
     "output_type": "stream",
     "text": [
      "C:\\Users\\Deepika\\anaconda3\\envs\\cows\\lib\\site-packages\\ipykernel_launcher.py:1: SettingWithCopyWarning: \n",
      "A value is trying to be set on a copy of a slice from a DataFrame.\n",
      "Try using .loc[row_indexer,col_indexer] = value instead\n",
      "\n",
      "See the caveats in the documentation: https://pandas.pydata.org/pandas-docs/stable/user_guide/indexing.html#returning-a-view-versus-a-copy\n",
      "  \"\"\"Entry point for launching an IPython kernel.\n"
     ]
    }
   ],
   "source": [
    "new_df['tags'] = new_df['tags'].apply(lambda x:x.lower()) #lower casing the tags column\n"
   ]
  },
  {
   "cell_type": "code",
   "execution_count": 24,
   "id": "8c825a54",
   "metadata": {},
   "outputs": [
    {
     "data": {
      "text/html": [
       "<div>\n",
       "<style scoped>\n",
       "    .dataframe tbody tr th:only-of-type {\n",
       "        vertical-align: middle;\n",
       "    }\n",
       "\n",
       "    .dataframe tbody tr th {\n",
       "        vertical-align: top;\n",
       "    }\n",
       "\n",
       "    .dataframe thead th {\n",
       "        text-align: right;\n",
       "    }\n",
       "</style>\n",
       "<table border=\"1\" class=\"dataframe\">\n",
       "  <thead>\n",
       "    <tr style=\"text-align: right;\">\n",
       "      <th></th>\n",
       "      <th>Courses_Name</th>\n",
       "      <th>tags</th>\n",
       "      <th>id_user</th>\n",
       "      <th>course_level</th>\n",
       "      <th>Course_Rating</th>\n",
       "    </tr>\n",
       "  </thead>\n",
       "  <tbody>\n",
       "    <tr>\n",
       "      <th>0</th>\n",
       "      <td>Python Programming Essentials</td>\n",
       "      <td>python programming essentialsbeginnergraduate5...</td>\n",
       "      <td>583968</td>\n",
       "      <td>Beginner</td>\n",
       "      <td>3</td>\n",
       "    </tr>\n",
       "    <tr>\n",
       "      <th>1</th>\n",
       "      <td>Using Python to Interact with the Operating Sy...</td>\n",
       "      <td>using python to interact with the operating sy...</td>\n",
       "      <td>563230</td>\n",
       "      <td>Beginner</td>\n",
       "      <td>2</td>\n",
       "    </tr>\n",
       "    <tr>\n",
       "      <th>2</th>\n",
       "      <td>Python Project pillow tesseract and opencv</td>\n",
       "      <td>python project pillow tesseract and opencvbegi...</td>\n",
       "      <td>388754</td>\n",
       "      <td>Beginner</td>\n",
       "      <td>3</td>\n",
       "    </tr>\n",
       "    <tr>\n",
       "      <th>3</th>\n",
       "      <td>Create Your First Python Program</td>\n",
       "      <td>create your first python programbeginnergradua...</td>\n",
       "      <td>2394090</td>\n",
       "      <td>Beginner</td>\n",
       "      <td>4</td>\n",
       "    </tr>\n",
       "    <tr>\n",
       "      <th>4</th>\n",
       "      <td>Python Geospatial Data Analysis</td>\n",
       "      <td>python geospatial data analysisbeginnergraduat...</td>\n",
       "      <td>572898</td>\n",
       "      <td>Beginner</td>\n",
       "      <td>4</td>\n",
       "    </tr>\n",
       "  </tbody>\n",
       "</table>\n",
       "</div>"
      ],
      "text/plain": [
       "                                        Courses_Name  \\\n",
       "0                      Python Programming Essentials   \n",
       "1  Using Python to Interact with the Operating Sy...   \n",
       "2         Python Project pillow tesseract and opencv   \n",
       "3                   Create Your First Python Program   \n",
       "4                    Python Geospatial Data Analysis   \n",
       "\n",
       "                                                tags  id_user course_level  \\\n",
       "0  python programming essentialsbeginnergraduate5...   583968     Beginner   \n",
       "1  using python to interact with the operating sy...   563230     Beginner   \n",
       "2  python project pillow tesseract and opencvbegi...   388754     Beginner   \n",
       "3  create your first python programbeginnergradua...  2394090     Beginner   \n",
       "4  python geospatial data analysisbeginnergraduat...   572898     Beginner   \n",
       "\n",
       "   Course_Rating  \n",
       "0              3  \n",
       "1              2  \n",
       "2              3  \n",
       "3              4  \n",
       "4              4  "
      ]
     },
     "execution_count": 24,
     "metadata": {},
     "output_type": "execute_result"
    }
   ],
   "source": [
    "new_df.head(5)\n"
   ]
  },
  {
   "cell_type": "code",
   "execution_count": 25,
   "id": "83419dde",
   "metadata": {},
   "outputs": [
    {
     "data": {
      "text/plain": [
       "(26234, 5)"
      ]
     },
     "execution_count": 25,
     "metadata": {},
     "output_type": "execute_result"
    }
   ],
   "source": [
    "new_df.shape #3522 courses with tags and 2 columns (course_name and tags)\n"
   ]
  },
  {
   "cell_type": "code",
   "execution_count": 26,
   "id": "05bc2b3f",
   "metadata": {},
   "outputs": [],
   "source": [
    "from sklearn.feature_extraction.text import CountVectorizer\n"
   ]
  },
  {
   "cell_type": "code",
   "execution_count": 27,
   "id": "c358891a",
   "metadata": {},
   "outputs": [],
   "source": [
    "cv = CountVectorizer(max_features=5000,stop_words='english')\n"
   ]
  },
  {
   "cell_type": "code",
   "execution_count": 28,
   "id": "0ab8341b",
   "metadata": {},
   "outputs": [],
   "source": [
    "vectors = cv.fit_transform(new_df['tags']).toarray()"
   ]
  },
  {
   "cell_type": "code",
   "execution_count": 29,
   "id": "4ec0b3d7",
   "metadata": {},
   "outputs": [],
   "source": [
    "import nltk #for stemming process\n"
   ]
  },
  {
   "cell_type": "code",
   "execution_count": 30,
   "id": "a7fd1737",
   "metadata": {},
   "outputs": [],
   "source": [
    "from nltk.stem.porter import PorterStemmer\n",
    "ps = PorterStemmer()"
   ]
  },
  {
   "cell_type": "code",
   "execution_count": null,
   "id": "1ca2d97d",
   "metadata": {},
   "outputs": [],
   "source": []
  },
  {
   "cell_type": "code",
   "execution_count": 31,
   "id": "8fa59c6f",
   "metadata": {},
   "outputs": [
    {
     "data": {
      "text/html": [
       "<div>\n",
       "<style scoped>\n",
       "    .dataframe tbody tr th:only-of-type {\n",
       "        vertical-align: middle;\n",
       "    }\n",
       "\n",
       "    .dataframe tbody tr th {\n",
       "        vertical-align: top;\n",
       "    }\n",
       "\n",
       "    .dataframe thead th {\n",
       "        text-align: right;\n",
       "    }\n",
       "</style>\n",
       "<table border=\"1\" class=\"dataframe\">\n",
       "  <thead>\n",
       "    <tr style=\"text-align: right;\">\n",
       "      <th></th>\n",
       "      <th>Courses_Name</th>\n",
       "      <th>tags</th>\n",
       "      <th>id_user</th>\n",
       "      <th>course_level</th>\n",
       "      <th>Course_Rating</th>\n",
       "    </tr>\n",
       "  </thead>\n",
       "  <tbody>\n",
       "    <tr>\n",
       "      <th>0</th>\n",
       "      <td>Python Programming Essentials</td>\n",
       "      <td>python programming essentialsbeginnergraduate5...</td>\n",
       "      <td>583968</td>\n",
       "      <td>Beginner</td>\n",
       "      <td>3</td>\n",
       "    </tr>\n",
       "    <tr>\n",
       "      <th>1</th>\n",
       "      <td>Using Python to Interact with the Operating Sy...</td>\n",
       "      <td>using python to interact with the operating sy...</td>\n",
       "      <td>563230</td>\n",
       "      <td>Beginner</td>\n",
       "      <td>2</td>\n",
       "    </tr>\n",
       "    <tr>\n",
       "      <th>2</th>\n",
       "      <td>Python Project pillow tesseract and opencv</td>\n",
       "      <td>python project pillow tesseract and opencvbegi...</td>\n",
       "      <td>388754</td>\n",
       "      <td>Beginner</td>\n",
       "      <td>3</td>\n",
       "    </tr>\n",
       "    <tr>\n",
       "      <th>3</th>\n",
       "      <td>Create Your First Python Program</td>\n",
       "      <td>create your first python programbeginnergradua...</td>\n",
       "      <td>2394090</td>\n",
       "      <td>Beginner</td>\n",
       "      <td>4</td>\n",
       "    </tr>\n",
       "    <tr>\n",
       "      <th>4</th>\n",
       "      <td>Python Geospatial Data Analysis</td>\n",
       "      <td>python geospatial data analysisbeginnergraduat...</td>\n",
       "      <td>572898</td>\n",
       "      <td>Beginner</td>\n",
       "      <td>4</td>\n",
       "    </tr>\n",
       "  </tbody>\n",
       "</table>\n",
       "</div>"
      ],
      "text/plain": [
       "                                        Courses_Name  \\\n",
       "0                      Python Programming Essentials   \n",
       "1  Using Python to Interact with the Operating Sy...   \n",
       "2         Python Project pillow tesseract and opencv   \n",
       "3                   Create Your First Python Program   \n",
       "4                    Python Geospatial Data Analysis   \n",
       "\n",
       "                                                tags  id_user course_level  \\\n",
       "0  python programming essentialsbeginnergraduate5...   583968     Beginner   \n",
       "1  using python to interact with the operating sy...   563230     Beginner   \n",
       "2  python project pillow tesseract and opencvbegi...   388754     Beginner   \n",
       "3  create your first python programbeginnergradua...  2394090     Beginner   \n",
       "4  python geospatial data analysisbeginnergraduat...   572898     Beginner   \n",
       "\n",
       "   Course_Rating  \n",
       "0              3  \n",
       "1              2  \n",
       "2              3  \n",
       "3              4  \n",
       "4              4  "
      ]
     },
     "execution_count": 31,
     "metadata": {},
     "output_type": "execute_result"
    }
   ],
   "source": [
    "new_df.head()"
   ]
  },
  {
   "cell_type": "code",
   "execution_count": 32,
   "id": "ac4a12ba",
   "metadata": {},
   "outputs": [],
   "source": [
    "#defining the stemming function\n",
    "def stem(text):\n",
    "    y=[]\n",
    "    \n",
    "    for i in text.split():\n",
    "        y.append(ps.stem(i))\n",
    "    \n",
    "    return \" \".join(y)"
   ]
  },
  {
   "cell_type": "code",
   "execution_count": 33,
   "id": "ee6d70c8",
   "metadata": {},
   "outputs": [
    {
     "name": "stderr",
     "output_type": "stream",
     "text": [
      "C:\\Users\\Deepika\\anaconda3\\envs\\cows\\lib\\site-packages\\ipykernel_launcher.py:1: SettingWithCopyWarning: \n",
      "A value is trying to be set on a copy of a slice from a DataFrame.\n",
      "Try using .loc[row_indexer,col_indexer] = value instead\n",
      "\n",
      "See the caveats in the documentation: https://pandas.pydata.org/pandas-docs/stable/user_guide/indexing.html#returning-a-view-versus-a-copy\n",
      "  \"\"\"Entry point for launching an IPython kernel.\n"
     ]
    }
   ],
   "source": [
    "new_df['tags'] = new_df['tags'].apply(stem) #applying stemming on the tags column\n"
   ]
  },
  {
   "cell_type": "code",
   "execution_count": 34,
   "id": "267fcab8",
   "metadata": {},
   "outputs": [
    {
     "data": {
      "text/html": [
       "<div>\n",
       "<style scoped>\n",
       "    .dataframe tbody tr th:only-of-type {\n",
       "        vertical-align: middle;\n",
       "    }\n",
       "\n",
       "    .dataframe tbody tr th {\n",
       "        vertical-align: top;\n",
       "    }\n",
       "\n",
       "    .dataframe thead th {\n",
       "        text-align: right;\n",
       "    }\n",
       "</style>\n",
       "<table border=\"1\" class=\"dataframe\">\n",
       "  <thead>\n",
       "    <tr style=\"text-align: right;\">\n",
       "      <th></th>\n",
       "      <th>Courses_Name</th>\n",
       "      <th>tags</th>\n",
       "      <th>id_user</th>\n",
       "      <th>course_level</th>\n",
       "      <th>Course_Rating</th>\n",
       "    </tr>\n",
       "  </thead>\n",
       "  <tbody>\n",
       "    <tr>\n",
       "      <th>0</th>\n",
       "      <td>Python Programming Essentials</td>\n",
       "      <td>python program essentialsbeginnergraduate583968</td>\n",
       "      <td>583968</td>\n",
       "      <td>Beginner</td>\n",
       "      <td>3</td>\n",
       "    </tr>\n",
       "    <tr>\n",
       "      <th>1</th>\n",
       "      <td>Using Python to Interact with the Operating Sy...</td>\n",
       "      <td>use python to interact with the oper systembeg...</td>\n",
       "      <td>563230</td>\n",
       "      <td>Beginner</td>\n",
       "      <td>2</td>\n",
       "    </tr>\n",
       "    <tr>\n",
       "      <th>2</th>\n",
       "      <td>Python Project pillow tesseract and opencv</td>\n",
       "      <td>python project pillow tesseract and opencvbegi...</td>\n",
       "      <td>388754</td>\n",
       "      <td>Beginner</td>\n",
       "      <td>3</td>\n",
       "    </tr>\n",
       "    <tr>\n",
       "      <th>3</th>\n",
       "      <td>Create Your First Python Program</td>\n",
       "      <td>creat your first python programbeginnergraduat...</td>\n",
       "      <td>2394090</td>\n",
       "      <td>Beginner</td>\n",
       "      <td>4</td>\n",
       "    </tr>\n",
       "    <tr>\n",
       "      <th>4</th>\n",
       "      <td>Python Geospatial Data Analysis</td>\n",
       "      <td>python geospati data analysisbeginnergraduate5...</td>\n",
       "      <td>572898</td>\n",
       "      <td>Beginner</td>\n",
       "      <td>4</td>\n",
       "    </tr>\n",
       "  </tbody>\n",
       "</table>\n",
       "</div>"
      ],
      "text/plain": [
       "                                        Courses_Name  \\\n",
       "0                      Python Programming Essentials   \n",
       "1  Using Python to Interact with the Operating Sy...   \n",
       "2         Python Project pillow tesseract and opencv   \n",
       "3                   Create Your First Python Program   \n",
       "4                    Python Geospatial Data Analysis   \n",
       "\n",
       "                                                tags  id_user course_level  \\\n",
       "0    python program essentialsbeginnergraduate583968   583968     Beginner   \n",
       "1  use python to interact with the oper systembeg...   563230     Beginner   \n",
       "2  python project pillow tesseract and opencvbegi...   388754     Beginner   \n",
       "3  creat your first python programbeginnergraduat...  2394090     Beginner   \n",
       "4  python geospati data analysisbeginnergraduate5...   572898     Beginner   \n",
       "\n",
       "   Course_Rating  \n",
       "0              3  \n",
       "1              2  \n",
       "2              3  \n",
       "3              4  \n",
       "4              4  "
      ]
     },
     "execution_count": 34,
     "metadata": {},
     "output_type": "execute_result"
    }
   ],
   "source": [
    "new_df.head()"
   ]
  },
  {
   "cell_type": "code",
   "execution_count": 35,
   "id": "7e44be35",
   "metadata": {},
   "outputs": [],
   "source": [
    "from sklearn.metrics.pairwise import cosine_similarity\n"
   ]
  },
  {
   "cell_type": "code",
   "execution_count": 36,
   "id": "9fd2ea27",
   "metadata": {},
   "outputs": [],
   "source": [
    "similarity = cosine_similarity(vectors)\n"
   ]
  },
  {
   "cell_type": "code",
   "execution_count": 37,
   "id": "93237dee",
   "metadata": {},
   "outputs": [
    {
     "data": {
      "text/html": [
       "<div>\n",
       "<style scoped>\n",
       "    .dataframe tbody tr th:only-of-type {\n",
       "        vertical-align: middle;\n",
       "    }\n",
       "\n",
       "    .dataframe tbody tr th {\n",
       "        vertical-align: top;\n",
       "    }\n",
       "\n",
       "    .dataframe thead th {\n",
       "        text-align: right;\n",
       "    }\n",
       "</style>\n",
       "<table border=\"1\" class=\"dataframe\">\n",
       "  <thead>\n",
       "    <tr style=\"text-align: right;\">\n",
       "      <th></th>\n",
       "      <th>Courses_Name</th>\n",
       "      <th>tags</th>\n",
       "      <th>id_user</th>\n",
       "      <th>course_level</th>\n",
       "      <th>Course_Rating</th>\n",
       "    </tr>\n",
       "  </thead>\n",
       "  <tbody>\n",
       "    <tr>\n",
       "      <th>0</th>\n",
       "      <td>Python Programming Essentials</td>\n",
       "      <td>python program essentialsbeginnergraduate583968</td>\n",
       "      <td>583968</td>\n",
       "      <td>Beginner</td>\n",
       "      <td>3</td>\n",
       "    </tr>\n",
       "    <tr>\n",
       "      <th>1</th>\n",
       "      <td>Using Python to Interact with the Operating Sy...</td>\n",
       "      <td>use python to interact with the oper systembeg...</td>\n",
       "      <td>563230</td>\n",
       "      <td>Beginner</td>\n",
       "      <td>2</td>\n",
       "    </tr>\n",
       "    <tr>\n",
       "      <th>2</th>\n",
       "      <td>Python Project pillow tesseract and opencv</td>\n",
       "      <td>python project pillow tesseract and opencvbegi...</td>\n",
       "      <td>388754</td>\n",
       "      <td>Beginner</td>\n",
       "      <td>3</td>\n",
       "    </tr>\n",
       "    <tr>\n",
       "      <th>3</th>\n",
       "      <td>Create Your First Python Program</td>\n",
       "      <td>creat your first python programbeginnergraduat...</td>\n",
       "      <td>2394090</td>\n",
       "      <td>Beginner</td>\n",
       "      <td>4</td>\n",
       "    </tr>\n",
       "    <tr>\n",
       "      <th>4</th>\n",
       "      <td>Python Geospatial Data Analysis</td>\n",
       "      <td>python geospati data analysisbeginnergraduate5...</td>\n",
       "      <td>572898</td>\n",
       "      <td>Beginner</td>\n",
       "      <td>4</td>\n",
       "    </tr>\n",
       "  </tbody>\n",
       "</table>\n",
       "</div>"
      ],
      "text/plain": [
       "                                        Courses_Name  \\\n",
       "0                      Python Programming Essentials   \n",
       "1  Using Python to Interact with the Operating Sy...   \n",
       "2         Python Project pillow tesseract and opencv   \n",
       "3                   Create Your First Python Program   \n",
       "4                    Python Geospatial Data Analysis   \n",
       "\n",
       "                                                tags  id_user course_level  \\\n",
       "0    python program essentialsbeginnergraduate583968   583968     Beginner   \n",
       "1  use python to interact with the oper systembeg...   563230     Beginner   \n",
       "2  python project pillow tesseract and opencvbegi...   388754     Beginner   \n",
       "3  creat your first python programbeginnergraduat...  2394090     Beginner   \n",
       "4  python geospati data analysisbeginnergraduate5...   572898     Beginner   \n",
       "\n",
       "   Course_Rating  \n",
       "0              3  \n",
       "1              2  \n",
       "2              3  \n",
       "3              4  \n",
       "4              4  "
      ]
     },
     "execution_count": 37,
     "metadata": {},
     "output_type": "execute_result"
    }
   ],
   "source": [
    "new_df.head()"
   ]
  },
  {
   "cell_type": "code",
   "execution_count": 38,
   "id": "ddd7edaf",
   "metadata": {},
   "outputs": [],
   "source": [
    "def recommend(course):\n",
    "    course_index = new_df[new_df['Courses_Name'] == course].index[0]\n",
    "    distances = similarity[course_index]\n",
    "    course_list = sorted(list(enumerate(distances)),reverse=True, key=lambda x:x[1])\n",
    "    \n",
    "    for i in course_list:\n",
    "        new_df['Recommendation'] = new_df.iloc[i[0]].Courses_Name\n",
    "#         print(new_df.iloc[i[0]].Courses_Name)"
   ]
  },
  {
   "cell_type": "code",
   "execution_count": 39,
   "id": "020bd339",
   "metadata": {},
   "outputs": [],
   "source": [
    "recommend('Create Your First Python Program') \n"
   ]
  },
  {
   "cell_type": "code",
   "execution_count": 40,
   "id": "c286ca48",
   "metadata": {},
   "outputs": [
    {
     "data": {
      "text/html": [
       "<div>\n",
       "<style scoped>\n",
       "    .dataframe tbody tr th:only-of-type {\n",
       "        vertical-align: middle;\n",
       "    }\n",
       "\n",
       "    .dataframe tbody tr th {\n",
       "        vertical-align: top;\n",
       "    }\n",
       "\n",
       "    .dataframe thead th {\n",
       "        text-align: right;\n",
       "    }\n",
       "</style>\n",
       "<table border=\"1\" class=\"dataframe\">\n",
       "  <thead>\n",
       "    <tr style=\"text-align: right;\">\n",
       "      <th></th>\n",
       "      <th>Courses_Name</th>\n",
       "      <th>tags</th>\n",
       "      <th>id_user</th>\n",
       "      <th>course_level</th>\n",
       "      <th>Course_Rating</th>\n",
       "      <th>Recommendation</th>\n",
       "    </tr>\n",
       "  </thead>\n",
       "  <tbody>\n",
       "    <tr>\n",
       "      <th>0</th>\n",
       "      <td>Python Programming Essentials</td>\n",
       "      <td>python program essentialsbeginnergraduate583968</td>\n",
       "      <td>583968</td>\n",
       "      <td>Beginner</td>\n",
       "      <td>3</td>\n",
       "      <td>Build a Deep Learning Based Image Classifier w...</td>\n",
       "    </tr>\n",
       "    <tr>\n",
       "      <th>1</th>\n",
       "      <td>Using Python to Interact with the Operating Sy...</td>\n",
       "      <td>use python to interact with the oper systembeg...</td>\n",
       "      <td>563230</td>\n",
       "      <td>Beginner</td>\n",
       "      <td>2</td>\n",
       "      <td>Build a Deep Learning Based Image Classifier w...</td>\n",
       "    </tr>\n",
       "    <tr>\n",
       "      <th>2</th>\n",
       "      <td>Python Project pillow tesseract and opencv</td>\n",
       "      <td>python project pillow tesseract and opencvbegi...</td>\n",
       "      <td>388754</td>\n",
       "      <td>Beginner</td>\n",
       "      <td>3</td>\n",
       "      <td>Build a Deep Learning Based Image Classifier w...</td>\n",
       "    </tr>\n",
       "    <tr>\n",
       "      <th>3</th>\n",
       "      <td>Create Your First Python Program</td>\n",
       "      <td>creat your first python programbeginnergraduat...</td>\n",
       "      <td>2394090</td>\n",
       "      <td>Beginner</td>\n",
       "      <td>4</td>\n",
       "      <td>Build a Deep Learning Based Image Classifier w...</td>\n",
       "    </tr>\n",
       "    <tr>\n",
       "      <th>4</th>\n",
       "      <td>Python Geospatial Data Analysis</td>\n",
       "      <td>python geospati data analysisbeginnergraduate5...</td>\n",
       "      <td>572898</td>\n",
       "      <td>Beginner</td>\n",
       "      <td>4</td>\n",
       "      <td>Build a Deep Learning Based Image Classifier w...</td>\n",
       "    </tr>\n",
       "  </tbody>\n",
       "</table>\n",
       "</div>"
      ],
      "text/plain": [
       "                                        Courses_Name  \\\n",
       "0                      Python Programming Essentials   \n",
       "1  Using Python to Interact with the Operating Sy...   \n",
       "2         Python Project pillow tesseract and opencv   \n",
       "3                   Create Your First Python Program   \n",
       "4                    Python Geospatial Data Analysis   \n",
       "\n",
       "                                                tags  id_user course_level  \\\n",
       "0    python program essentialsbeginnergraduate583968   583968     Beginner   \n",
       "1  use python to interact with the oper systembeg...   563230     Beginner   \n",
       "2  python project pillow tesseract and opencvbegi...   388754     Beginner   \n",
       "3  creat your first python programbeginnergraduat...  2394090     Beginner   \n",
       "4  python geospati data analysisbeginnergraduate5...   572898     Beginner   \n",
       "\n",
       "   Course_Rating                                     Recommendation  \n",
       "0              3  Build a Deep Learning Based Image Classifier w...  \n",
       "1              2  Build a Deep Learning Based Image Classifier w...  \n",
       "2              3  Build a Deep Learning Based Image Classifier w...  \n",
       "3              4  Build a Deep Learning Based Image Classifier w...  \n",
       "4              4  Build a Deep Learning Based Image Classifier w...  "
      ]
     },
     "execution_count": 40,
     "metadata": {},
     "output_type": "execute_result"
    }
   ],
   "source": [
    "new_df.head()"
   ]
  },
  {
   "cell_type": "code",
   "execution_count": 41,
   "id": "eb67f9b0",
   "metadata": {},
   "outputs": [
    {
     "data": {
      "text/plain": [
       "array([[1.        , 0.35355339, 0.31622777, ..., 0.        , 0.        ,\n",
       "        0.        ],\n",
       "       [0.35355339, 1.        , 0.2236068 , ..., 0.        , 0.        ,\n",
       "        0.        ],\n",
       "       [0.31622777, 0.2236068 , 1.        , ..., 0.        , 0.        ,\n",
       "        0.        ],\n",
       "       ...,\n",
       "       [0.        , 0.        , 0.        , ..., 1.        , 0.40824829,\n",
       "        0.20412415],\n",
       "       [0.        , 0.        , 0.        , ..., 0.40824829, 1.        ,\n",
       "        0.33333333],\n",
       "       [0.        , 0.        , 0.        , ..., 0.20412415, 0.33333333,\n",
       "        1.        ]])"
      ]
     },
     "execution_count": 41,
     "metadata": {},
     "output_type": "execute_result"
    }
   ],
   "source": [
    "similarity"
   ]
  },
  {
   "cell_type": "code",
   "execution_count": 42,
   "id": "102287d0",
   "metadata": {},
   "outputs": [
    {
     "data": {
      "text/plain": [
       "Courses_Name                                                           course_level\n",
       "Promote the Ethical Use of Data-Driven Technologies                    Advanced        5.0\n",
       "GIS Data Formats Design and Quality                                    Beginner        5.0\n",
       "Database Design and Diagramming in Dia                                 Beginner        5.0\n",
       "Image Data Augmentation with Keras                                     Beginner        5.0\n",
       "Graph Analytics for Big Data                                           Advanced        5.0\n",
       "                                                                                      ... \n",
       "Building Basic Relational Databases inï¿½SQL Server Management Studio  Beginner        1.0\n",
       "Building Data Visualization Tools                                      Beginner        1.0\n",
       "Fundamentals of Scalable Data Science                                  Beginner        1.0\n",
       "Capstone Analyzing (Social) Network Data                               Advanced        1.0\n",
       "Qualitative Data Analysis with MAXQDA Software                         Advanced        1.0\n",
       "Name: Course_Rating, Length: 566, dtype: float64"
      ]
     },
     "execution_count": 42,
     "metadata": {},
     "output_type": "execute_result"
    }
   ],
   "source": [
    "new_df.groupby(['Courses_Name', 'course_level'])['Course_Rating'].mean().sort_values(ascending = False)"
   ]
  },
  {
   "cell_type": "code",
   "execution_count": 43,
   "id": "6657c48c",
   "metadata": {},
   "outputs": [
    {
     "data": {
      "text/plain": [
       "Courses_Name                                                  course_level\n",
       "Building Test Automation Framework using Selenium and TestNG  Intermediate    1680\n",
       "Introduction to Artificial Intelligence (AI)                  Beginner        1223\n",
       "Artificial Intelligence Privacy and Convenience               Intermediate    1220\n",
       "Introduction to Artificial Intelligence (AI)                  Intermediate    1220\n",
       "Mobile VR App Development with Unity                          Beginner        1168\n",
       "                                                                              ... \n",
       "Introduction to Python                                        Conversant         1\n",
       "Create a Database with the Modeling Tool in MySQL Workbench   Conversant         1\n",
       "Introduction to Statistics & Data Analysis in Public Health   Advanced           1\n",
       "                                                              Beginner           1\n",
       "Foundations for Big Data Analysis with SQL                    Beginner           1\n",
       "Name: Course_Rating, Length: 566, dtype: int64"
      ]
     },
     "execution_count": 43,
     "metadata": {},
     "output_type": "execute_result"
    }
   ],
   "source": [
    "new_df.groupby(['Courses_Name', 'course_level'])['Course_Rating'].count().sort_values(ascending = False)"
   ]
  },
  {
   "cell_type": "code",
   "execution_count": 44,
   "id": "36cce8d7",
   "metadata": {},
   "outputs": [
    {
     "data": {
      "text/html": [
       "<div>\n",
       "<style scoped>\n",
       "    .dataframe tbody tr th:only-of-type {\n",
       "        vertical-align: middle;\n",
       "    }\n",
       "\n",
       "    .dataframe tbody tr th {\n",
       "        vertical-align: top;\n",
       "    }\n",
       "\n",
       "    .dataframe thead th {\n",
       "        text-align: right;\n",
       "    }\n",
       "</style>\n",
       "<table border=\"1\" class=\"dataframe\">\n",
       "  <thead>\n",
       "    <tr style=\"text-align: right;\">\n",
       "      <th></th>\n",
       "      <th></th>\n",
       "      <th>Course_Rating</th>\n",
       "    </tr>\n",
       "    <tr>\n",
       "      <th>Courses_Name</th>\n",
       "      <th>course_level</th>\n",
       "      <th></th>\n",
       "    </tr>\n",
       "  </thead>\n",
       "  <tbody>\n",
       "    <tr>\n",
       "      <th>3D Data Visualization for Science Communication</th>\n",
       "      <th>Intermediate</th>\n",
       "      <td>4.333333</td>\n",
       "    </tr>\n",
       "    <tr>\n",
       "      <th rowspan=\"2\" valign=\"top\">A Crash Course in Data Science</th>\n",
       "      <th>Advanced</th>\n",
       "      <td>5.000000</td>\n",
       "    </tr>\n",
       "    <tr>\n",
       "      <th>Beginner</th>\n",
       "      <td>3.000000</td>\n",
       "    </tr>\n",
       "    <tr>\n",
       "      <th>AI Capstone Project with Deep Learning</th>\n",
       "      <th>Conversant</th>\n",
       "      <td>3.000000</td>\n",
       "    </tr>\n",
       "    <tr>\n",
       "      <th>AI Workflow Business Priorities and Data Ingestion</th>\n",
       "      <th>Advanced</th>\n",
       "      <td>4.000000</td>\n",
       "    </tr>\n",
       "  </tbody>\n",
       "</table>\n",
       "</div>"
      ],
      "text/plain": [
       "                                                                 Course_Rating\n",
       "Courses_Name                                       course_level               \n",
       "3D Data Visualization for Science Communication    Intermediate       4.333333\n",
       "A Crash Course in Data Science                     Advanced           5.000000\n",
       "                                                   Beginner           3.000000\n",
       "AI Capstone Project with Deep Learning             Conversant         3.000000\n",
       "AI Workflow Business Priorities and Data Ingestion Advanced           4.000000"
      ]
     },
     "execution_count": 44,
     "metadata": {},
     "output_type": "execute_result"
    }
   ],
   "source": [
    "ratings = pd.DataFrame(new_df.groupby(['Courses_Name', 'course_level'])['Course_Rating'].mean())\n",
    "ratings.head()"
   ]
  },
  {
   "cell_type": "code",
   "execution_count": 45,
   "id": "0e2de4cc",
   "metadata": {},
   "outputs": [],
   "source": [
    "ratings['num_of_rating'] = pd.DataFrame(new_df.groupby(['Courses_Name', 'course_level'])['Course_Rating'].count())"
   ]
  },
  {
   "cell_type": "code",
   "execution_count": 46,
   "id": "0ab70115",
   "metadata": {},
   "outputs": [],
   "source": [
    "import matplotlib.pyplot as plt\n",
    "import seaborn as sns"
   ]
  },
  {
   "cell_type": "code",
   "execution_count": 47,
   "id": "041c8e47",
   "metadata": {},
   "outputs": [
    {
     "data": {
      "text/plain": [
       "Text(0, 0.5, 'Number of Ratings count')"
      ]
     },
     "execution_count": 47,
     "metadata": {},
     "output_type": "execute_result"
    },
    {
     "data": {
      "image/png": "[encoded data removed]",
      "text/plain": [
       "<Figure size 720x288 with 1 Axes>"
      ]
     },
     "metadata": {
      "needs_background": "light"
     },
     "output_type": "display_data"
    }
   ],
   "source": [
    "plt.figure(figsize=(10,4))\n",
    "ratings['num_of_rating'].hist(bins=70)\n",
    "plt.title('Num of Ratings Distribution Plot')\n",
    "plt.ylabel('Number of Ratings count')"
   ]
  },
  {
   "cell_type": "code",
   "execution_count": 48,
   "id": "6675c7d5",
   "metadata": {},
   "outputs": [
    {
     "data": {
      "text/plain": [
       "<seaborn.axisgrid.JointGrid at 0x15e8f233828>"
      ]
     },
     "execution_count": 48,
     "metadata": {},
     "output_type": "execute_result"
    },
    {
     "data": {
      "image/png": "[encoded data removed]",
      "text/plain": [
       "<Figure size 432x432 with 3 Axes>"
      ]
     },
     "metadata": {
      "needs_background": "light"
     },
     "output_type": "display_data"
    }
   ],
   "source": [
    "sns.jointplot(x='Course_Rating',y='num_of_rating',data=ratings,alpha=0.5)\n"
   ]
  },
  {
   "cell_type": "code",
   "execution_count": 49,
   "id": "941b982f",
   "metadata": {},
   "outputs": [],
   "source": [
    "# mat = new_df.pivot_table(index='id_user',columns='Courses_Name',values='Course_Rating')\n",
    "# mat.head()"
   ]
  },
  {
   "cell_type": "code",
   "execution_count": 50,
   "id": "c577f33e",
   "metadata": {},
   "outputs": [
    {
     "data": {
      "text/html": [
       "<div>\n",
       "<style scoped>\n",
       "    .dataframe tbody tr th:only-of-type {\n",
       "        vertical-align: middle;\n",
       "    }\n",
       "\n",
       "    .dataframe tbody tr th {\n",
       "        vertical-align: top;\n",
       "    }\n",
       "\n",
       "    .dataframe thead th {\n",
       "        text-align: right;\n",
       "    }\n",
       "</style>\n",
       "<table border=\"1\" class=\"dataframe\">\n",
       "  <thead>\n",
       "    <tr style=\"text-align: right;\">\n",
       "      <th></th>\n",
       "      <th></th>\n",
       "      <th>Course_Rating</th>\n",
       "      <th>num_of_rating</th>\n",
       "    </tr>\n",
       "    <tr>\n",
       "      <th>Courses_Name</th>\n",
       "      <th>course_level</th>\n",
       "      <th></th>\n",
       "      <th></th>\n",
       "    </tr>\n",
       "  </thead>\n",
       "  <tbody>\n",
       "    <tr>\n",
       "      <th>3D Data Visualization for Science Communication</th>\n",
       "      <th>Intermediate</th>\n",
       "      <td>4.333333</td>\n",
       "      <td>3</td>\n",
       "    </tr>\n",
       "    <tr>\n",
       "      <th rowspan=\"2\" valign=\"top\">A Crash Course in Data Science</th>\n",
       "      <th>Advanced</th>\n",
       "      <td>5.000000</td>\n",
       "      <td>1</td>\n",
       "    </tr>\n",
       "    <tr>\n",
       "      <th>Beginner</th>\n",
       "      <td>3.000000</td>\n",
       "      <td>1</td>\n",
       "    </tr>\n",
       "    <tr>\n",
       "      <th>AI Capstone Project with Deep Learning</th>\n",
       "      <th>Conversant</th>\n",
       "      <td>3.000000</td>\n",
       "      <td>1</td>\n",
       "    </tr>\n",
       "    <tr>\n",
       "      <th>AI Workflow Business Priorities and Data Ingestion</th>\n",
       "      <th>Advanced</th>\n",
       "      <td>4.000000</td>\n",
       "      <td>3</td>\n",
       "    </tr>\n",
       "    <tr>\n",
       "      <th>...</th>\n",
       "      <th>...</th>\n",
       "      <td>...</td>\n",
       "      <td>...</td>\n",
       "    </tr>\n",
       "    <tr>\n",
       "      <th rowspan=\"2\" valign=\"top\">What is Data Science?</th>\n",
       "      <th>Beginner</th>\n",
       "      <td>3.000000</td>\n",
       "      <td>2</td>\n",
       "    </tr>\n",
       "    <tr>\n",
       "      <th>Intermediate</th>\n",
       "      <td>2.000000</td>\n",
       "      <td>9</td>\n",
       "    </tr>\n",
       "    <tr>\n",
       "      <th rowspan=\"2\" valign=\"top\">What is ï¿½the mindï¿½ and what is artificial intelligence?</th>\n",
       "      <th>Advanced</th>\n",
       "      <td>3.038835</td>\n",
       "      <td>103</td>\n",
       "    </tr>\n",
       "    <tr>\n",
       "      <th>Conversant</th>\n",
       "      <td>3.200000</td>\n",
       "      <td>10</td>\n",
       "    </tr>\n",
       "    <tr>\n",
       "      <th>iOS App Development Basics</th>\n",
       "      <th>Advanced</th>\n",
       "      <td>3.248000</td>\n",
       "      <td>125</td>\n",
       "    </tr>\n",
       "  </tbody>\n",
       "</table>\n",
       "<p>566 rows × 2 columns</p>\n",
       "</div>"
      ],
      "text/plain": [
       "                                                                 Course_Rating  \\\n",
       "Courses_Name                                       course_level                  \n",
       "3D Data Visualization for Science Communication    Intermediate       4.333333   \n",
       "A Crash Course in Data Science                     Advanced           5.000000   \n",
       "                                                   Beginner           3.000000   \n",
       "AI Capstone Project with Deep Learning             Conversant         3.000000   \n",
       "AI Workflow Business Priorities and Data Ingestion Advanced           4.000000   \n",
       "...                                                                        ...   \n",
       "What is Data Science?                              Beginner           3.000000   \n",
       "                                                   Intermediate       2.000000   \n",
       "What is ï¿½the mindï¿½ and what is artificial i... Advanced           3.038835   \n",
       "                                                   Conversant         3.200000   \n",
       "iOS App Development Basics                         Advanced           3.248000   \n",
       "\n",
       "                                                                 num_of_rating  \n",
       "Courses_Name                                       course_level                 \n",
       "3D Data Visualization for Science Communication    Intermediate              3  \n",
       "A Crash Course in Data Science                     Advanced                  1  \n",
       "                                                   Beginner                  1  \n",
       "AI Capstone Project with Deep Learning             Conversant                1  \n",
       "AI Workflow Business Priorities and Data Ingestion Advanced                  3  \n",
       "...                                                                        ...  \n",
       "What is Data Science?                              Beginner                  2  \n",
       "                                                   Intermediate              9  \n",
       "What is ï¿½the mindï¿½ and what is artificial i... Advanced                103  \n",
       "                                                   Conversant               10  \n",
       "iOS App Development Basics                         Advanced                125  \n",
       "\n",
       "[566 rows x 2 columns]"
      ]
     },
     "execution_count": 50,
     "metadata": {},
     "output_type": "execute_result"
    }
   ],
   "source": [
    "ratings"
   ]
  },
  {
   "cell_type": "code",
   "execution_count": 51,
   "id": "d8b8fe27",
   "metadata": {},
   "outputs": [
    {
     "data": {
      "text/html": [
       "<div>\n",
       "<style scoped>\n",
       "    .dataframe tbody tr th:only-of-type {\n",
       "        vertical-align: middle;\n",
       "    }\n",
       "\n",
       "    .dataframe tbody tr th {\n",
       "        vertical-align: top;\n",
       "    }\n",
       "\n",
       "    .dataframe thead th {\n",
       "        text-align: right;\n",
       "    }\n",
       "</style>\n",
       "<table border=\"1\" class=\"dataframe\">\n",
       "  <thead>\n",
       "    <tr style=\"text-align: right;\">\n",
       "      <th></th>\n",
       "      <th>0</th>\n",
       "      <th>1</th>\n",
       "    </tr>\n",
       "  </thead>\n",
       "  <tbody>\n",
       "    <tr>\n",
       "      <th>0</th>\n",
       "      <td>(3D Data Visualization for Science Communicati...</td>\n",
       "      <td>23240    627387\n",
       "23472    558854\n",
       "Name: id_user,...</td>\n",
       "    </tr>\n",
       "    <tr>\n",
       "      <th>1</th>\n",
       "      <td>(3D Data Visualization for Science Communicati...</td>\n",
       "      <td>23356    627947\n",
       "Name: id_user, dtype: int64</td>\n",
       "    </tr>\n",
       "    <tr>\n",
       "      <th>2</th>\n",
       "      <td>(A Crash Course in Data Science, Advanced, 5)</td>\n",
       "      <td>23719    247967\n",
       "Name: id_user, dtype: int64</td>\n",
       "    </tr>\n",
       "    <tr>\n",
       "      <th>3</th>\n",
       "      <td>(A Crash Course in Data Science, Beginner, 3)</td>\n",
       "      <td>23536    629405\n",
       "Name: id_user, dtype: int64</td>\n",
       "    </tr>\n",
       "    <tr>\n",
       "      <th>4</th>\n",
       "      <td>(AI Capstone Project with Deep Learning, Conve...</td>\n",
       "      <td>25404    619006\n",
       "Name: id_user, dtype: int64</td>\n",
       "    </tr>\n",
       "  </tbody>\n",
       "</table>\n",
       "</div>"
      ],
      "text/plain": [
       "                                                   0  \\\n",
       "0  (3D Data Visualization for Science Communicati...   \n",
       "1  (3D Data Visualization for Science Communicati...   \n",
       "2      (A Crash Course in Data Science, Advanced, 5)   \n",
       "3      (A Crash Course in Data Science, Beginner, 3)   \n",
       "4  (AI Capstone Project with Deep Learning, Conve...   \n",
       "\n",
       "                                                   1  \n",
       "0  23240    627387\n",
       "23472    558854\n",
       "Name: id_user,...  \n",
       "1        23356    627947\n",
       "Name: id_user, dtype: int64  \n",
       "2        23719    247967\n",
       "Name: id_user, dtype: int64  \n",
       "3        23536    629405\n",
       "Name: id_user, dtype: int64  \n",
       "4        25404    619006\n",
       "Name: id_user, dtype: int64  "
      ]
     },
     "execution_count": 51,
     "metadata": {},
     "output_type": "execute_result"
    }
   ],
   "source": [
    "ratings = pd.DataFrame(new_df.groupby(['Courses_Name', 'course_level', 'Course_Rating'])['id_user'])\n",
    "ratings.head()"
   ]
  },
  {
   "cell_type": "code",
   "execution_count": 52,
   "id": "44058e35",
   "metadata": {},
   "outputs": [
    {
     "data": {
      "text/plain": [
       "(1782, 2)"
      ]
     },
     "execution_count": 52,
     "metadata": {},
     "output_type": "execute_result"
    }
   ],
   "source": [
    "ratings.shape"
   ]
  },
  {
   "cell_type": "code",
   "execution_count": null,
   "id": "2c11fc9c",
   "metadata": {},
   "outputs": [],
   "source": []
  }
 ],
 "metadata": {
  "kernelspec": {
   "display_name": "Python 3",
   "language": "python",
   "name": "python3"
  },
  "language_info": {
   "codemirror_mode": {
    "name": "ipython",
    "version": 3
   },
   "file_extension": ".py",
   "mimetype": "text/x-python",
   "name": "python",
   "nbconvert_exporter": "python",
   "pygments_lexer": "ipython3",
   "version": "3.6.13"
  }
 },
 "nbformat": 4,
 "nbformat_minor": 5
}
