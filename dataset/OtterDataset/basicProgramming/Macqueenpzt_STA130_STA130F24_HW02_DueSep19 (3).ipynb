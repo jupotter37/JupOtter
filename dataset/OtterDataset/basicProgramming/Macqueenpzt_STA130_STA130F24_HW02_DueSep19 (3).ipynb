{
 "cells": [
  {
   "cell_type": "markdown",
   "id": "14b74968",
   "metadata": {},
   "source": [
    "## STA130 Homework 02\n",
    "\n",
    "Please see the course [wiki-textbook](https://github.com/pointOfive/stat130chat130/wiki) for the list of topics covered in this homework assignment, and a list of topics that might appear during ChatBot conversations which are \"out of scope\" for the purposes of this homework assignment (and hence can be safely ignored if encountered)"
   ]
  },
  {
   "cell_type": "markdown",
   "id": "f014006ff8809433",
   "metadata": {},
   "source": [
    "<details class=\"details-example\"><summary style=\"color:blue\"><u>Introduction</u></summary>\n",
    "\n",
    "### Introduction\n",
    "    \n",
    "A reasonable characterization of STA130 Homework is that it simply defines a weekly reading comprehension assignment. \n",
    "Indeed, STA130 Homework essentially boils down to completing various understanding confirmation exercises oriented around coding and writing tasks.\n",
    "However, rather than reading a textbook, STA130 Homework is based on ChatBots so students can interactively follow up to clarify questions or confusion that they may still have regarding learning objective assignments.\n",
    "\n",
    "> Communication is a fundamental skill underlying statistics and data science, so STA130 Homework based on ChatBots helps practice effective two-way communication as part of a \"realistic\" dialogue activity supporting underlying conceptual understanding building. \n",
    "\n",
    "It will likely become increasingly tempting to rely on ChatBots to \"do the work for you\". But when you find yourself frustrated with a ChatBots inability to give you the results you're looking for, this is a \"hint\" that you've become overreliant on the ChatBots. Your objective should not be to have ChatBots \"do the work for you\", but to use ChatBots to help you build your understanding so you can efficiently leverage ChatBots (and other resources) to help you work more efficiently.<br><br>\n",
    "\n",
    "</details>\n",
    "\n",
    "<details class=\"details-example\"><summary style=\"color:blue\"><u>Instructions</u></summary>\n",
    "\n",
    "### Instructions\n",
    "    \n",
    "1. Code and write all your answers (for both the \"Prelecture\" and \"Postlecture\" HW) in a python notebook (in code and markdown cells) \n",
    "    \n",
    "> It is *suggested but not mandatory* that you complete the \"Prelecture\" HW prior to the Monday LEC since (a) all HW is due at the same time; but, (b) completing some of the HW early will mean better readiness for LEC and less of a \"procrastentation cruch\" towards the end of the week...\n",
    "    \n",
    "2. Paste summaries of your ChatBot sessions (including link(s) to chat log histories if you're using ChatGPT) within your notebook\n",
    "    \n",
    "> Create summaries of your ChatBot sessions by using concluding prompts such as \"Please provide a summary of our exchanges here so I can submit them as a record of our interactions as part of a homework assignment\" or, \"Please provide me with the final working verson of the code that we created together\"\n",
    "    \n",
    "3. Save your python jupyter notebook in your own account and \"repo\" on [github.com](github.com) and submit a link to that notebook though Quercus for assignment marking<br><br>\n",
    "\n",
    "</details>\n",
    "\n",
    "<details class=\"details-example\"><summary style=\"color:blue\"><u>Prompt Engineering?</u></summary>\n",
    "    \n",
    "### Prompt Engineering? \n",
    "    \n",
    "The questions (as copy-pasted prompts) are designed to initialize appropriate ChatBot conversations which can be explored in the manner of an interactive and dynamic textbook; but, it is nonetheless **strongly recommendated** that your rephrase the questions in a way that you find natural to ensure a clear understanding of the question. Given sensible prompts the represent a question well, the two primary challenges observed to arise from ChatBots are \n",
    "\n",
    "1. conversations going beyond the intended scope of the material addressed by the question; and, \n",
    "2. unrecoverable confusion as a result of sequential layers logial inquiry that cannot be resolved. \n",
    "\n",
    "In the case of the former (1), adding constraints specifying the limits of considerations of interest tends to be helpful; whereas, the latter (2) is often the result of initial prompting that leads to poor developments in navigating the material, which are likely just best resolve by a \"hard reset\" with a new initial approach to prompting.  Indeed, this is exactly the behavior [hardcoded into copilot](https://answers.microsoft.com/en-us/bing/forum/all/is-this-even-normal/0b6dcab3-7d6c-4373-8efe-d74158af3c00)...\n",
    "\n",
    "</details>"
   ]
  },
  {
   "cell_type": "markdown",
   "id": "161fd459",
   "metadata": {},
   "source": [
    "\n",
    "### Marking Rubric (which may award partial credit) \n",
    "\n",
    "- [0.1 points]: All relevant ChatBot summaries [including link(s) to chat log histories if you're using ChatGPT] are reported within the notebook\n",
    "- [0.3 points]: Assignment completion confirmed by working \"final\" code and ChatBot summaries for \"3\"\n",
    "- [0.3 points]: Written submission evaluation and enagement confirmation with ChatBot summaries for \"6\"\n",
    "- [0.3 points]: Evaluation of engagement and evaluation of written communication in \"7\"\n",
    "        "
   ]
  },
  {
   "cell_type": "markdown",
   "id": "f7ff3f55",
   "metadata": {},
   "source": [
    "### \"Pre-lecture\" HW [*completion prior to next LEC is suggested but not mandatory*]"
   ]
  },
  {
   "cell_type": "markdown",
   "id": "fda8568b",
   "metadata": {},
   "source": [
    "#### 1. Begin (or restart) part \"3(a)\" of the **TUT Demo** and interact with a ChatBot to make sure you understand how each part the Monte Hall problem code above works<br>\n",
    "\n",
    "<details class=\"details-example\"><summary style=\"color:blue\"><u>Further Guidance</u></summary>\n",
    "    \n",
    "> _ChatBots typically explain code fairly effectively, so a ChatBot will probably be very helpful if you share the full Monte Hall problem code; but, you can always introduce more specific and targetted follow-up prompts that help with focus, re-redirection, and response format regarding the ChatBot responses as needed._ \n",
    ">\n",
    "> _ChatBots won't always re-introduce and re-explain the Monte Hall problem itself, so if you need it to do so you may need to specifically request this as part of your prompt or follow up interactions._\n",
    "\n",
    "</details>\n"
   ]
  },
  {
   "cell_type": "code",
   "execution_count": null,
   "id": "9929e8d5",
   "metadata": {},
   "outputs": [],
   "source": [
    "#1.\n",
    "import numpy as np\n",
    "all_door_options = (1, 2, 3)  # Tuple of available doors\n",
    "my_door_choice = 1  # The initial choice (door 1, in this case)\n",
    "i_won = 0  # Counter to keep track of how many times the player wins\n",
    "reps = 100000  # Number of repetitions (or trials) for the simulation\n",
    "for i in range(reps):\n",
    "    secret_winning_door = np.random.choice(all_door_options)\n",
    "    all_door_options_list = list(all_door_options)\n",
    "    all_door_options_list.remove(secret_winning_door)\n",
    "    try:\n",
    "        all_door_options_list.remove(my_door_choice)\n",
    "    except:\n",
    "        pass\n",
    "    goat_door_reveal = np.random.choice(all_door_options_list)\n",
    "    all_door_options_list.remove(goat_door_reveal)\n",
    "    if secret_winning_door != my_door_choice:\n",
    "        all_door_options_list.append(secret_winning_door)\n",
    "    my_door_choice = all_door_options_list[0]\n",
    "    if my_door_choice == secret_winning_door:\n",
    "        i_won += 1\n",
    "win_percentage = i_won / reps\n",
    "win_percentage"
   ]
  },
  {
   "cell_type": "markdown",
   "id": "9997ea17",
   "metadata": {},
   "source": [
    "And also the explanation offered by Chatbot\n",
    "https://chatgpt.com/share/66edf6cb-8260-8008-b706-d7f8b8fc7747"
   ]
  },
  {
   "cell_type": "markdown",
   "id": "11581881",
   "metadata": {},
   "source": [
    "#### 2. Extend your ChatBot sessions to now address part \"3(b)\" of the **TUT Demo** and interact with your ChatBot to see if it can suggest a simpler, more streamlined way to code up this *for* loop simulation so the process is more clear and easier to understand; then, describe any preferences you have in terms of readibility or explainability  between the original code and the code improvements suggested by the ChatBot<br>\n",
    "\n",
    "<details class=\"details-example\"><summary style=\"color:blue\"><u>Further Guidance</u></summary>\n",
    "    \n",
    "> _The links in the TUT Demo show that there can be variation in the quality of the code improvements suggested by ChatBots; however, it's most likely that a ChatBot is going to be able to greatly reduce the number of steps/lines of code and hence complexity of understanding the problem. ChatBots can provide a good amount of explanation and inline clarifying code comments and provide more simpler more intuitive code that can transform something that looks a bit scary at first to something that's easy to follow and make sense of. Of course, in doing so, a ChatBot may introduce functions that you've technically not learned or seen before; but, the amount of simplification and clarifying comments is probably going to more than compensate for this; and, you'll have seen a learned a little bit more about what's possible through this process, which is the ideal experience we're hoping you'll see here._ \n",
    "    \n",
    "</details>\n",
    "        "
   ]
  },
  {
   "cell_type": "code",
   "execution_count": null,
   "id": "8c37f75a",
   "metadata": {},
   "outputs": [],
   "source": [
    "#2.\n",
    "import numpy as np\n",
    "\n",
    "# Initialize variables\n",
    "all_door_options = [1, 2, 3]\n",
    "reps = 100000\n",
    "wins = 0\n",
    "\n",
    "for i in range(reps):\n",
    "    # Randomly assign the winning door and make an initial choice\n",
    "    winning_door = np.random.choice(all_door_options)\n",
    "    initial_choice = np.random.choice(all_door_options)\n",
    "    \n",
    "    # Monty reveals a goat door (one that is neither the winning door nor the player's choice)\n",
    "    remaining_doors = [door for door in all_door_options if door != initial_choice and door != winning_door]\n",
    "    monty_reveals = np.random.choice(remaining_doors)\n",
    "    \n",
    "    # Player switches to the other remaining door\n",
    "    switch_choice = [door for door in all_door_options if door != initial_choice and door != monty_reveals][0]\n",
    "    \n",
    "    # Check if the player wins by switching\n",
    "    if switch_choice == winning_door:\n",
    "        wins += 1\n",
    "\n",
    "# Calculate the win percentage\n",
    "win_percentage = wins / reps\n",
    "print(f\"Win percentage when switching: {win_percentage:.2%}\")"
   ]
  },
  {
   "cell_type": "markdown",
   "id": "dd2bb27a",
   "metadata": {},
   "source": [
    "Prefer the streamlined code. First, the list in the streamlined code is easier to read and understand. Also, the streamlined code is shorter and it dosen't use some complicated code such as try/except block."
   ]
  },
  {
   "cell_type": "markdown",
   "id": "f3fdebd8",
   "metadata": {},
   "source": [
    "#### 3. Submit your preferred version of the Monty Hall problem that is verified to be running and working with a final printed output of the code; then, add code comments explaining the purpose of each line of the code<br>\n",
    "\n",
    "<details class=\"details-example\"><summary style=\"color:blue\"><u>Further Guidance</u></summary>\n",
    "    \n",
    "> _Your ChatBot will likely do much of this for you, but verify for yourself that you understand each comment and reword comments wherever you think it would be better to explain it differently._\n",
    ">\n",
    "> _Remember to ask for summaries of your current session and paste these into your homework notebook  (including link(s) to chat log histories if you're using ChatGPT)_\n",
    "\n",
    "</details>\n",
    " "
   ]
  },
  {
   "cell_type": "code",
   "execution_count": null,
   "id": "fbdc9796",
   "metadata": {},
   "outputs": [],
   "source": [
    "#3. This streamlined code is offered by ChatGPt, and the comments are written by myself.\n",
    "import numpy as np #alias\n",
    "all_door_options = [1, 2, 3] #create a list all_door_options numbereed 1, 2 and 3\n",
    "reps = 100000 #Number of repetitions\n",
    "wins = 0 #Number of the winning times\n",
    "\n",
    "for i in range(reps): #generate numbers from 0 up to reps - 1\n",
    "    winning_door = np.random.choice(all_door_options) #randomly select an element from the list all _door_options\n",
    "    initial_choice = np.random.choice(all_door_options)#randomly select an element from the list all _door_options\n",
    "    remaining_doors = [door for door in all_door_options if door != initial_choice and door != winning_door]\n",
    "    #remaining_doors refers to a list includes the element in all_door_options that is not equal to either initical_choice or winning_door\n",
    "    monty_reveals = np.random.choice(remaining_doors)#randomly select an element from the list remaining_doors\n",
    "    switch_choice = [door for door in all_door_options if door != initial_choice and door != monty_reveals][0]\n",
    "    #switch_choice refers to the first element in all_door_options that is not equal to either initial_choice or monty_reveals\n",
    "    if switch_choice == winning_door:\n",
    "        wins += 1 #equivalent to wins = wins + 1 if switch choice is same as the winning door\n",
    "win_percentage = wins / reps\n",
    "print(f\"Win percentage when switching: {win_percentage:.2%}\") \n",
    "#the output is the win_percentage multipled by 100 and formatted to 2 decimal places"
   ]
  },
  {
   "cell_type": "markdown",
   "id": "8ba3ff01",
   "metadata": {},
   "source": [
    "#### 4. Watch the embedded video tutorial on Markov chains in the next Jupyter cell below to understand their application and relevance for ChatBots; then, after watching the video, start a new ChatBot session by prompting that you have code that creates a \"Markovian ChatBot\"; show it the first version of the \"Markovian ChatBot code\" below; and interact with the ChatBot session to make sure you understand how the original first version of the \"Markovian ChatBot code\" works<br>\n",
    "\n",
    "<details class=\"details-example\"><summary style=\"color:blue\"><u>Further Guidance</u></summary>\n",
    "\n",
    "> _If the ChatBot prompts you as to how you will \"train\" your own \"Markovian ChatBot\" you can reply that you'll just use a series of stories with a lot of different characters_\n",
    "> \n",
    "> _Ask for summaries of this second ChatBot session and paste these into your homework notebook (including link(s) to chat log histories if you're using ChatGPT)_\n",
    "    \n",
    "</details>\n",
    "    "
   ]
  },
  {
   "cell_type": "code",
   "execution_count": null,
   "id": "a52754504a625b36",
   "metadata": {},
   "outputs": [],
   "source": [
    "# Markov Chains and Text Generation\n",
    "from IPython.display import YouTubeVideo\n",
    "YouTubeVideo('56mGTszb_iM', width = 550)"
   ]
  },
  {
   "cell_type": "code",
   "execution_count": null,
   "id": "6571e4de",
   "metadata": {},
   "outputs": [],
   "source": [
    "#4.\n",
    "# Initialize two dictionaries:\n",
    "# word_used keeps track of how many times each word appears in the input list.\n",
    "# next_word maps each word to another dictionary, which keeps track of the frequency of the words that follow it.\n",
    "word_used = dict()  # Could use defaultdict(int) for automatic initialization of counts.\n",
    "next_word = dict()  # Could use defaultdict(lambda: defaultdict(int)) for simplifying nested dictionary initialization.\n",
    "\n",
    "# Iterate through the words in the list, but stop at the second-to-last word (words[:-1]).\n",
    "# This is because for each word, we will also reference the word that follows it, i.e., words[i + 1].\n",
    "for i, word in enumerate(words[:-1]):\n",
    "\n",
    "    # Check if the current word is already in the word_used dictionary.\n",
    "    if word in word_used:\n",
    "        # If it is, increment the count (frequency) of the word.\n",
    "        word_used[word] += 1\n",
    "    else:\n",
    "        # If the word is not in the dictionary, add it with an initial count of 1.\n",
    "        word_used[word] = 1\n",
    "        # Also, initialize an empty dictionary in next_word for tracking subsequent words.\n",
    "        next_word[word] = {}\n",
    "\n",
    "    # Now, look at the next word in the sequence (words[i + 1]).\n",
    "    # Check if the next word already appears in the dictionary for the current word.\n",
    "    if words[i + 1] in next_word[word]:\n",
    "        # If the next word is already in the dictionary, increment its count.\n",
    "        next_word[word][words[i + 1]] += 1\n",
    "    else:\n",
    "        # If it's not, add the next word with an initial count of 1.\n",
    "        next_word[word][words[i + 1]] = 1"
   ]
  },
  {
   "cell_type": "markdown",
   "id": "7a17e608",
   "metadata": {},
   "source": [
    "<details class=\"details-example\"><summary style=\"color:blue\"><u>Continue now...?</u></summary>\n",
    "\n",
    "### Pre-lecture VS Post-lecture HW\n",
    "\n",
    "Feel free to work on the \"Post-lecture\" HW below if you're making good progress and want to continue: for **HW 02** continuing could be reasonable because questions \"5-7\" below directly follow up and extend \"Pre-lecture\" HW question \"4\"\n",
    "\n",
    "*The benefits of continue would are that (a) it might be fun to try to tackle the challenge of working through some problems without additional preparation or guidance; and (b) this is a very valable skill to be comfortable with; and (c) it will let you build experience interacting with ChatBots (and beginning to understand their strengths and limitations in this regard)... it's good to have sense of when using a ChatBot is the best way to figure something out, or if another approach (such as course provided resources or a plain old websearch for the right resourse) would be more effective*\n",
    "    \n",
    "</details>    "
   ]
  },
  {
   "cell_type": "markdown",
   "id": "d6ae0a64",
   "metadata": {},
   "source": [
    "### \"Post-lecture\" HW [*submission along with \"Pre-lecture\" HW is due prior to next TUT*]"
   ]
  },
  {
   "cell_type": "markdown",
   "id": "a3979c94",
   "metadata": {},
   "source": [
    "#### 5. Recreate (or resume) the previous ChatBot session from question \"4\" above, and now  prompt the ChatBot session that you have a couple extensions of the code to show it, and then show it each of the extentions of the \"Markovian ChatBot code\" below in turn\n",
    "\n",
    "\n",
    "\n",
    "1. Without just supplying your ChatBot session with the answers, see if the ChatBot can figure out what the extensions in the code do; namely, making character specific Markov chains, and using bigrams (rather than just the previous word alone) dependency... prompt your ChatBot session with some hints if it's not seeming to \"get it\"<br><br>\n",
    "    \n",
    "2. Interact with your ChatBot session to have it explain details of the code wherever you need help understanding what the code is doing and how it works<br><br>\n",
    "    \n",
    "3. Start yet another new ChatBot session and first show the ChatBot the original \"Markovian ChatBot code\" below, and then tell ChatBot that you have an extension but this time just directly provide it the more complicated final extension without ever providing the intermediate extension code to the ChatBot session and see if it's still able to understand everything extension does; namely, making character specific Markov chains, and using bigrams (rather than just the previous word alone) dependency... prompt the ChatBot with some hints if it's not seeming to understand what you're getting at...<br><br>\n",
    "    \n",
    "<details class=\"details-example\"><summary style=\"color:blue\"><u>Further Guidance</u></summary>\n",
    "\n",
    "> **ALERT: Time Warning**. Regarding the comments below (which will likely be relevant and useful for you), you might find the potential learning experience that this provides to be a quite the rabbit total rabbit hole and time sink. You might end up finding out that you spent way more time than I should on learning the code!! So be mindful of your time management as there is much to do for many classes!\n",
    ">    \n",
    "> _As you may or may not have already experienced in the previous problem, a ChatBot applied to this problem is likely to start explaining a bit more knowledge about Python than you need to know (as a student just trying to learn stats+DS); however, you'll probably feel like this \"out of scope\" context information is helpful to know (or at least be aware of) and easy to understand and learn if you use some addtional prompts to dig deeper into them. A ChatBot will be quite good at explaining and helping understand smaller chunks of code; however, if given too much information at once it can gloss over some information._\n",
    ">   \n",
    "> _That said, some topics here are potentially quite and advanced and too tricky! You might be able to ask the ChatBot to simplify its explanations and that might help a bit. But on the other hand, some topics, such as, \"how does `nested_dict = lambda: defaultdict(nested_dict)` work?\" might just simply be too advanced to really admit a simpler explanation via a ChatBot. You'll have to let these sorts of things go, if you come across explanations that just aren't improving or helping at at. In the case of `defaultdict(nested_dict)` specifically, the details here are well beyond the scope of STA130 and can be very safely ignored for now. The code will have reviewed and \"walked thorugh\" in LEC, but the perspectives espoused there will be the extent of the formal commentary and information regarding the coding topics we encounter in the Markov ChatBots code here._\n",
    ">     \n",
    "> _Unlike with the Monte Hall problem, we will not inquire with the ChatBot to see if it can suggest any streamlining, readability, or usability improvements to the alternative versions of the \"Markovian ChatBot code\" we're examining_\n",
    ">     \n",
    "> - _because doing so seems to result in the attempted creation of dubiously functional modular code with a focus on reusability (which is likely a result of ChatBot design being primarily a \"computer science\" topic), so ChatBot reponses here tend to orient around programming and system design principles (despite \"Markovian\" very much being a \"statistics\" topic)_\n",
    ">     \n",
    "> _Programming and system design principles are beyond the scope of STA130; but, they are critical for modern data science careers... if you are interested in pursuing a data science career, it is imperitive that you complete courses like CSC263, CSC373, and perhaps an additional \"systems design\" course_\n",
    "> \n",
    "> ---\n",
    "> \n",
    "> _Don't forget to ask for summaries of all your different ChatBot sessions and organize and paste these into your homework notebook (including link(s) to chat log histories if you're using ChatBot)_\n",
    "    \n",
    "</details>\n",
    "     "
   ]
  },
  {
   "cell_type": "code",
   "execution_count": null,
   "id": "42db2f10",
   "metadata": {},
   "outputs": [],
   "source": [
    "#5.(1)(2). Here is the explanation from ChatGPT\n",
    "from collections import defaultdict\n",
    "\n",
    "# Initialize word usage count as a defaultdict of int\n",
    "# This will store how often each bigram (pair of consecutive words) appears\n",
    "word_used2 = defaultdict(int)\n",
    "\n",
    "# Initialize next word structure as a defaultdict of defaultdict(int)\n",
    "# This will store for each bigram, a dictionary that keeps track of the word\n",
    "# that follows the bigram and how many times it appears after it\n",
    "next_word2 = defaultdict(lambda: defaultdict(int))\n",
    "\n",
    "# Iterate through the list of words, stopping two words before the last one\n",
    "# This allows us to access the current word, the next word, and the word after that\n",
    "for i, word in enumerate(words[:-2]):\n",
    "    \n",
    "    # Create a bigram (two consecutive words) using the current word and the next word\n",
    "    bigram = word + ' ' + words[i+1]\n",
    "    \n",
    "    # Increment the count for how many times this specific bigram (pair of words) appears\n",
    "    word_used2[bigram] += 1\n",
    "    \n",
    "    # Increment the count for how many times the word that follows this bigram (words[i+2]) appears\n",
    "    # This creates a dictionary for each bigram where the keys are the next words\n",
    "    # and the values are the counts of how often these next words follow the bigram\n",
    "    next_word2[bigram][words[i+2]] += 1"
   ]
  },
  {
   "cell_type": "markdown",
   "id": "d723edcb",
   "metadata": {},
   "source": [
    "And also the explanation offered by Chatbot\n",
    "https://chatgpt.com/share/66edf6cb-8260-8008-b706-d7f8b8fc7747"
   ]
  },
  {
   "cell_type": "markdown",
   "id": "c791ea66",
   "metadata": {},
   "source": [
    "5.(3)ChatGPT are able to understand the extension code. The code constructs character-specific bigram Markov chains from a dataset where:\n",
    "\n",
    "Character identification: It processes the character column, converting it to uppercase and replacing spaces with periods, then counts the occurrences of each character.Bigram tracking:For each character, it records how often pairs of consecutive words (bigrams) appear using word_used2C.It also tracks the next word that follows each bigram using next_word2C. This allows for building Markov chains where the transitions between words are based on bigrams, making the model more sophisticated in capturing context. Each character's Markov chain is constructed separately."
   ]
  },
  {
   "cell_type": "markdown",
   "id": "116f0a96",
   "metadata": {},
   "source": [
    "#### 6. Report on your experience interacting with ChatBots to understand the Monte Hall problem and \"Markovian ChatBot\" code\n",
    "\n",
    "1. Discuss how quickly the ChatBot was able to be helpful for each of the above questions, and if so, how?<br><br>\n",
    "    \n",
    "2. Discuss whether or not interacting with ChatBot to try to figure things out was frustrating or unhelpful, and if so, how?<br><br>\n",
    "    \n",
    "3. Based on your experiences to date (e.g., including using ChatBots to troubleshoot coding errors in the previous homework), provide an overall assessment evaluating the usefulness of ChatBots as tools to help you understand code<br>"
   ]
  },
  {
   "cell_type": "markdown",
   "id": "767d4071",
   "metadata": {},
   "source": [
    "6.(1)In summary, Chatbot can help me understand the questions above quickly, accurately and efficiently. First, in the Monte Hall problem, the code uses many methods and attributes related to numpy that we learnt from the lecture and tutorial, such as tuple(), list(), for i in range(n), np.random.choice(list(), size, replace, p) and so on. Sometimes these code might be a little bit hard to understand and apply, for example, we need to learn how to set possibility and determine whether or not we need repetition in the code np.random.choice(), and Chatbot are able to help me learn it by explaning the definition of the code and then providing examples, it can give me the answer quickly and efficiently.\n",
    "\n",
    "In the Markovian code, it can also helps a lot. The conception 'Markov' is difficult at the beginning, Chatbot will expalin the definition of it, namely the future state of the system depends only on its current state. As for the Markovian code, it writes comments for almost every part of the code. For example, it explains the process of building a dictionary, and then explains the code enmurate(), namely producing tuples containing index and the corresponding item.\n",
    "\n",
    "6.(2)I think using Chatbot is not frustrating or unhelpful. However, sometimes it might be a little bit confusing since it may use complicated code to answer a simple question, as a beginner, sometimes I cannot fully understand the meaning of each line. But it is a great opportunity to learn how to select appropriate code when working on a question.\n",
    "\n",
    "6.(3)Chatbot serves as a platform to help me understand code better, I think there are 4 steps in total.\n",
    "\n",
    "First, Chatbot gives the definition of the code including some basic information, such as the purpose of using this code and the types of input and output.\n",
    "\n",
    "Second, Chatbot explains the correct format of writing this code. For example, when we learn pandas, attributes doesn't have parameter() and methods must add parameter(), it can also summarize the tips of writing the code.\n",
    "\n",
    "The next step is providing typical examples to help me understand better. In this week lecture we learnt stats.multinomial().rsv(size), this code is complicated. Chatbot will use simple example to show how the code works, the example is rolling a 6-sided die, it writes this code containing some important information."
   ]
  },
  {
   "cell_type": "code",
   "execution_count": null,
   "id": "2b05f29c",
   "metadata": {},
   "outputs": [],
   "source": [
    "from scipy import stats\n",
    "\n",
    "# Define the parameters\n",
    "p = [1/6] * 6  # probabilities for each of the 6 outcomes (assuming a fair die)\n",
    "n = 10  # number of trials\n",
    "\n",
    "# Generate random samples\n",
    "samples = stats.multinomial(n=n, p=p).rvs(size=5)\n",
    "print(samples)"
   ]
  },
  {
   "cell_type": "markdown",
   "id": "7761de97",
   "metadata": {},
   "source": [
    "It seems that Chatbot can use simple examples to expalin a complex code. Additionally, the examples often contains other important code, we can review the previous code through the examples offered by Chatbot.\n",
    "\n",
    "The last step is point out possible errors that may occur in my writing code and methods for fixing errors. In the last week homework question8, Chatbot first help explain the reasons why the error occurs and then correct the errors."
   ]
  },
  {
   "cell_type": "markdown",
   "id": "4642d6c2",
   "metadata": {},
   "source": [
    "#### 7. Reflect on your experience interacting with ChatBot and describe how your perception of AI-driven assistance tools in the context of learning coding, statistics, and data science has been evolving (or not) since joining the course<br><br>\n",
    "\n",
    "<details class=\"details-example\"><summary style=\"color:blue\"><u>Further Guidance</u></summary>\n",
    "    \n",
    "> _Question \"7\" and the next question \"8\" are somewhat related to the first bullet point in the suggested interactions of the \"Afterword\" to the Homework from last week... consider reviewing that if you'd like a little extra orienting around what these questions are trying to have you explore_\n",
    "   \n",
    "</details>"
   ]
  },
  {
   "cell_type": "markdown",
   "id": "75ee6b50",
   "metadata": {},
   "source": [
    "7.Learning code:As mentioned in question6, Chatbot helps learn code in 4 steps: giving definition, explaining correct format, using examples and correcting errors. AI tools provide quick access to a vast amount of information and code examples, which help me review and absorb the knowledge taught in lecture and tutorial. Besides, ChatGPT is able to help me build the frame of knowledge. To take one example, HW1 required us to understand the difference between attributes and methods, I can ask ChatGPT to sort some code into different categories, for example, df.describe() is a method and df.shape is an attribute. Once I learn about their categories, I will put them in different parts of my notes, namely attribute part and method part.\n",
    "\n",
    "Statistics:Take multinomial distribution as example, AI tools can teach me the formula of calculating the possibility of each experiments. And also conditional possibility we learnt this lecture, Markov: Pr(𝑊𝑖+1=𝑤𝑖+1|𝑊𝑖=𝑤𝑖) Bigram: Pr(𝑊𝑖+2=𝑤𝑖+2|𝑊𝑖+1=𝑤𝑖+1,𝑊𝑖=𝑤𝑖) Trigram: Pr(𝑊𝑖+3=𝑤𝑖+3|𝑊𝑖+2=𝑤𝑖+2,𝑊𝑖+1=𝑤𝑖+1,𝑊𝑖=𝑤𝑖) Context: Pr(𝑊𝑖+3=𝑤𝑖+3|𝑊𝑖+1=𝑤𝑖+1,𝑊𝑖=𝑤𝑖,𝐶=𝑐), Chatbot can combine conditionl possibility and Markov to help me understand these 4 formulas. Professor also mentioned this part in the lecture this week, it is interresting. \n",
    "\n",
    "Data science:From the first week, Chatbot guides me to have a recgonization of data science, we begin from the conception of \"Series\" and \"DataFrame\" in pandas and I learn how to create a DaraFrame by myself. Addtionally, I also learn the methods for extracting data from DataFrame and evaluating important statistcs of a DataFrame by using the methods df.descrfibe(), df.shape and df.types. "
   ]
  },
  {
   "cell_type": "markdown",
   "id": "500f440e",
   "metadata": {},
   "source": [
    "#### 8. ChatBots consume text data available on the web or platforms, and thus represents a new way to \"search consensensus\" that condenses and summarizes mainstream human thought<br><br>\n",
    "\n",
    "1. Start a new ChatBot session and discuss the relevance of learning and adaptability, communication, coding, and statistics and data analysis as skills in the modern world, especially with respect to career opportunities (particularly in the context of the data science industry)<br><br>\n",
    "    \n",
    "2. See if ChatBot thinks you could be a statistician or data scientist without coding or doing data analysis, and then transition your ChatBot conversation into a career exploration discussion, using the ChatBot to identify the skills that might be the most valuable for a career that you're interested<br><br>\n",
    "    \n",
    "3. Ask for a summary of this ChatBot session and paste it into your homework notebook (including link(s) to chat log histories if you're using ChatBot)<br><br>\n",
    "    \n",
    "4. Paraphrase the assessments and conclusions of your conversation in the form of a reflection on your current thoughts regarding your potential future career(s) and how you can go about building the skills you need to pursue it<br><br>\n",
    "\n",
    "5. Give your thoughts regarding the helpfulness or limitations of your conversation with a ChatBot, and describe the next steps you would take to pursue this conversation further if you felt the information the ChatBot provides was somewhat high level and general, and perhaps lacked the depth and detailed knowledge of a dedicated subject matter expert who had really take the time to understand the ins and outs of the industry and career path in question.\n",
    "<br><br>\n",
    "\n",
    "<details class=\"details-example\"><summary style=\"color:blue\"><u>Further Guidance</u></summary>\n",
    "\n",
    "> _While question 8 is not a part of the rubric, it is nonetheless a very good exercise that will likely be valuable for you if you engage it them sincerely_\n",
    "    \n",
    "</details>\n"
   ]
  },
  {
   "cell_type": "markdown",
   "id": "8bebcfe3",
   "metadata": {},
   "source": [
    "8.(1)In the modern world, especially within the context of the data science industry, learning and adaptability, communication, coding, and statistics and data analysis are crucial skills that offer significant career opportunities. Here’s why each is highly relevant:\n",
    "\n",
    "Learning and Adaptability Rapid Evolution of Technology: The pace at which technology and tools evolve is staggering. New programming languages, frameworks, and data analysis techniques emerge regularly. Being adaptable and constantly learning ensures that professionals remain competitive in the field. Innovation and Problem-Solving: Adaptable individuals can pivot to new approaches when tackling complex problems. In data science, where solutions often involve cutting-edge techniques, adaptability drives innovation. Career Agility: Adaptability enables workers to transition between different roles or industries, making them more versatile and valuable in dynamic fields like data science, AI, or machine learning.\n",
    "Communication Bridging the Gap Between Technical and Non-Technical Teams: Data scientists often need to translate complex models and statistical findings into actionable insights for non-technical stakeholders like managers, clients, or other departments. Strong communication ensures that these insights are effectively conveyed. Data Storytelling: Beyond just presenting numbers, data scientists must craft narratives around data, making findings engaging and understandable. This skill is vital for driving data-driven decision-making within an organization. Collaboration: Working in teams with diverse skill sets (engineers, designers, business analysts) requires clear communication to ensure alignment on goals and problem-solving strategies.\n",
    "Coding Automation and Efficiency: Coding allows data scientists to automate repetitive tasks, such as data cleaning or model training, which enhances productivity and scalability in handling large datasets. Custom Solutions: Standard software may not always fit the specific needs of a project. Knowledge of programming languages (Python, R, SQL, etc.) allows professionals to build custom algorithms, data pipelines, and tools. Job Requirement: Coding is a fundamental skill for most data science roles. Whether developing machine learning models or manipulating data, coding expertise is expected and often a key differentiator in hiring.\n",
    "Statistics and Data Analysis Core of Data Science: Data science relies heavily on statistical methods to derive insights, make predictions, and assess the reliability of data. A strong foundation in statistics is essential for making informed decisions and avoiding incorrect interpretations. Data-Driven Decision Making: With businesses increasingly relying on data to inform strategy, individuals who can analyze and interpret data effectively are in high demand. This skill is crucial for making sense of complex datasets and delivering actionable business insights. Machine Learning and AI: Many machine learning algorithms are built on statistical principles. Understanding the math and logic behind these algorithms is crucial for tuning models and ensuring they perform optimally. In the Context of Career Opportunities: Data Science Roles: These skills are the building blocks for roles such as data scientists, machine learning engineers, and AI researchers. Proficiency in coding, statistics, and data analysis is non-negotiable, while adaptability and communication elevate professionals to leadership and strategic roles. Cross-Industry Applications: Data science skills are in demand across various industries—finance, healthcare, retail, marketing, and tech. Those who combine technical expertise with adaptability and communication are positioned to thrive in diverse sectors. Emerging Technologies: Fields like artificial intelligence, big data, and IoT (Internet of Things) heavily rely on data science. The ability to quickly learn new technologies and communicate their potential makes individuals highly competitive in these innovative sectors. Together, these skills form a comprehensive toolkit that ensures professionals can thrive in the fast-paced, data-driven modern world while maintaining career flexibility and growth potential.\n",
    "8.(2)It's highly unlikely to succeed as a statistician or data scientist without coding or data analysis skills. Both fields are inherently tied to working with data, which requires coding to manipulate, analyze, and model datasets. Ultimately, both fields are grounded in the practical application of techniques on data, which necessitates some level of coding and data analysis. Without these skills, it would be difficult to engage in meaningful, hands-on work in either profession.\n",
    "\n",
    "My dream career is the ocupation that is related to mathematics, statistics, probability and data analysis. According to ChatGPT, these skills are essential:\n",
    "\n",
    "Mathematical Skills Linear Algebra and Calculus: Essential for understanding many machine learning algorithms and mathematical models. Probability Theory: Crucial for risk analysis, predictive modeling, and understanding randomness in data. Optimization: Understanding optimization techniques will help in developing models that improve efficiency and accuracy.\n",
    "Statistical Skills Statistical Inference: Being able to make predictions or decisions based on data samples. Hypothesis Testing: Helps in validating models and making data-driven decisions. Bayesian Statistics: Useful for probabilistic models and decision-making in uncertain environments. Regression Analysis: Essential for modeling relationships between variables and forecasting.\n",
    "Programming and Coding Python or R: These are the go-to programming languages for data analysis and statistical modeling. SQL: For querying and managing databases, as data scientists often work with large datasets. Data Visualization Tools: Tools like Tableau, Matplotlib, or Power BI help in interpreting and presenting data findings.\n",
    "Data Analysis Data Cleaning and Wrangling: Ensuring data quality before analysis is essential to get meaningful insights. Exploratory Data Analysis (EDA): Discovering patterns, anomalies, and trends in data. Feature Engineering: Crafting meaningful variables from raw data that improve model performance.\n",
    "Machine Learning and AI Supervised and Unsupervised Learning: Techniques for prediction, classification, clustering, and more. Time Series Analysis: Useful for forecasting and analyzing temporal data. Deep Learning (optional): If interested in complex neural networks or AI-driven tasks.\n",
    "Analytical Thinking and Problem-Solving Strong problem-solving skills are essential for breaking down complex data problems and finding solutions. Ability to think logically and apply mathematical and statistical reasoning to real-world problems.\n",
    "Data Science Frameworks and Libraries Scikit-learn, Pandas, and NumPy in Python: Common libraries for data manipulation, statistical modeling, and machine learning. TensorFlow or PyTorch (optional): For deep learning if your career interest includes AI or complex neural networks.\n",
    "Communication and Presentation Skills Translating mathematical and statistical insights into actionable business decisions requires strong communication and data storytelling skills. Ability to clearly present findings to stakeholders who may not have technical expertise.\n",
    "Domain Knowledge Understanding the specific industry you're working in (finance, healthcare, etc.) can help in applying mathematical and statistical models more effectively to solve relevant problems.\n",
    "8.(3)For a career focused on mathematics, statistics, probability, and data analysis, essential skills include strong foundations in mathematics (e.g., linear algebra, calculus, and optimization) and statistics (e.g., statistical inference, regression analysis, and hypothesis testing). Proficiency in coding with languages like Python, R, and SQL, along with experience in data analysis tasks like data cleaning, exploratory analysis, and feature engineering, are crucial. Knowledge of machine learning techniques, such as supervised and unsupervised learning, and familiarity with frameworks like scikit-learn and Pandas is also beneficial. Effective communication skills for presenting complex data to non-technical stakeholders, coupled with strong analytical thinking, will enhance problem-solving abilities. Domain knowledge specific to industries like finance or healthcare can further support applying data science in real-world contexts.\n",
    "\n",
    "This summary provides the skills necessary for a career aligned with your interests, including roles such as a data scientist, statistician, or quantitative analyst.\n",
    "\n",
    "8.(4)As a freshman in uoft, I am trying to identify what career and life that I am looking forward to, and I need to prepare for it. As the ChatGPT mentioned, the skills above are crucial and I have already choose some of these courses, such as statistics, computer science that focuses on python, linear algebra and calculus with proofs. I wish that I can obtain more practical and stable skills through these courses.\n",
    "\n",
    "Apart from cultivating professional knowledge skills, I think the most important one is the ability to determine which path I wanna choose. The other day, I watched some interviews with mathematicians and I gained a lot from the videos, they introduce many aspects and applications of mathematics that I have never known them before. The interviews literally open my horizon, for example, mathematical model can be applied to biology field to study the migration of Africa animals, that sounds so attractive! In summary, I ought to take courses, do group work and cultivate self learning frame to cultivate the skills of mathematics and statistics, more importantly, I need to know more about every aspects of the subject and career that I am looking forward, ensuring that I can choose a suitable path in the future.\n",
    "\n",
    "8.(5)Helpfulness is that ChatGPT can provide me with definition and examples to help me understand the code. Limitation is that sometimes the code is complicated so that a beginner cannot understand fully. If the code offered by ChatGPT is too high-level, I should understand the code taught in lecture and tutorial first, and then ask ChatGPT to use these code and try to understand it. And I also need to adjust my needs based on my current level and performance, and ask ChatGPT to adjust the answer appropriately.\n",
    "\n",
    "https://chatgpt.com/share/66edcb77-8558-8008-96d4-60436511ad79"
   ]
  },
  {
   "cell_type": "markdown",
   "id": "b489452e",
   "metadata": {},
   "source": [
    "#### 9. Have you reviewed the course [wiki-textbook](https://github.com/pointOfive/stat130chat130/wiki) and interacted with a ChatBot (or, if that wasn't sufficient, real people in the course piazza discussion board or TA office hours) to help you understand all the material in the tutorial and lecture that you didn't quite follow when you first saw it?<br><br>\n",
    "  \n",
    "<details class=\"details-example\"><summary style=\"color:blue\"><u>Further Guidance</u></summary>\n",
    "    \n",
    "> _Just answering \"Yes\" or \"No\" or \"Somewhat\" or \"Mostly\" or whatever here is fine as this question isn't a part of the rubric; but, the midterm and final exams may ask questions that are based on the tutorial and lecture materials; and, your own skills will be limited by your familiarity with these materials (which will determine your ability to actually do actual things effectively with these skills... like the course project...)_\n",
    "    \n",
    "</details>"
   ]
  },
  {
   "cell_type": "markdown",
   "id": "eaf6839e",
   "metadata": {},
   "source": [
    "Yes"
   ]
  },
  {
   "cell_type": "code",
   "execution_count": null,
   "id": "16f95257fb4fda6c",
   "metadata": {},
   "outputs": [],
   "source": [
    "# Markovian Chatbot\n",
    "\n",
    "# from collections import defaultdict\n",
    "word_used = dict() # defaultdict(int)\n",
    "next_word = dict() # defaultdict(lambda: defaultdict(int))\n",
    "for i,word in enumerate(words[:-1]):\n",
    "\n",
    "    if word in word_used:\n",
    "        word_used[word] += 1\n",
    "    else:\n",
    "        word_used[word] = 1\n",
    "        next_word[word] = {}\n",
    "\n",
    "    if words[i+1] in next_word[word]:\n",
    "        next_word[word][words[i+1]] += 1\n",
    "    else:\n",
    "        next_word[word][words[i+1]] = 1"
   ]
  },
  {
   "cell_type": "code",
   "execution_count": null,
   "id": "bd0e5d2163411e8e",
   "metadata": {},
   "outputs": [],
   "source": [
    "# Markovian Chatbot Extension #1\n",
    "\n",
    "word_used2 = defaultdict(int)\n",
    "next_word2 = defaultdict(lambda: defaultdict(int))\n",
    "for i,word in enumerate(words[:-2]):\n",
    "    word_used2[word+' '+words[i+1]] += 1\n",
    "    next_word2[word+' '+words[i+1]][words[i+2]] += 1 "
   ]
  },
  {
   "cell_type": "code",
   "execution_count": null,
   "id": "33fe616edecddb60",
   "metadata": {},
   "outputs": [],
   "source": [
    "# Markovian Chatbot Extension #2\n",
    "\n",
    "from collections import Counter, defaultdict\n",
    "# `avatar` is a dataset, and `character` is one of it's columns\n",
    "characters = Counter(\"\\n\"+ avatar.character.str.upper().str.replace(' ','.')+\":\")\n",
    "# this code changes the type of the `character` column to `str`; then,\n",
    "# makes the text uppercase, and replaces spaces with '.'\n",
    "\n",
    "nested_dict = lambda: defaultdict(nested_dict)\n",
    "word_used2C = nested_dict()\n",
    "next_word2C = nested_dict()\n",
    "\n",
    "for i,word in enumerate(words[:-2]):\n",
    "    if word in characters:\n",
    "        character = word\n",
    "        \n",
    "    if character not in word_used2C:\n",
    "        word_used2C[character] = dict()\n",
    "    if word+' '+words[i+1] not in word_used2C[character]:\n",
    "        word_used2C[character][word+' '+words[i+1]] = 0\n",
    "    word_used2C[character][word+' '+words[i+1]] += 1\n",
    "    \n",
    "    if character not in next_word2C:\n",
    "        next_word2C[character] = dict()\n",
    "    if word+' '+words[i+1] not in next_word2C[character]:\n",
    "        next_word2C[character][word+' '+words[i+1]] = dict()\n",
    "    if words[i+2] not in next_word2C[character][word+' '+words[i+1]]:\n",
    "        next_word2C[character][word+' '+words[i+1]][words[i+2]] = 0\n",
    "    next_word2C[character][word+' '+words[i+1]][words[i+2]] += 1"
   ]
  },
  {
   "cell_type": "markdown",
   "id": "1ebfa9b9",
   "metadata": {},
   "source": [
    "## Recommended Additional Useful Activities [Optional]\n",
    "\n",
    "The \"Ethical Profesionalism Considerations\" and \"Current Course Project Capability Level\" sections below **are not a part of the required homework assignment**; rather, they are regular weekly guides covering (a) relevant considerations regarding professional and ethical conduct, and (b) the analysis steps for the STA130 course project that are feasible at the current stage of the course <br><br>\n",
    "\n",
    "\n",
    "<details class=\"details-example\"><summary style=\"color:blue\"><u>Ethical Professionalism Considerations</u></summary>\n",
    "\n",
    "### Ethical Professionalism Considerations\n",
    "\n",
    "    \n",
    "> 1. If you've not heard of the \"reproducibility crisis\" in science, have a ChatBot explain it to you\n",
    "> 2. If you've not heard of the \"open source software\" (versus proprietary software), have a ChatBot explain it to you\n",
    "> 3. \"Reproducibility\" can also be considered at the level of a given data analysis project: can others replicate the results of code or analysis that you've done?\n",
    ">    1. Discuss with a ChatBot how jupyter notebooks and github can be used facilitate transparency and reproducibility in data analysis\n",
    "> 4. Discuss with a ChatBot what the distinction is between replicability of scientific experiments, versus the replicability of a specific data analysis project, and what your responsibility as an analyst should be with respect to both\n",
    "> 5. Do you think proprietary (non \"open source software\") software, such as Microsoft Word, Outlook, and Copilot tends to result in high quality products?  \n",
    ">     1. Do you think software product monopolies (such as the UofT dependence on Microsoft products) makes the world a better place?\n",
    "</details>    \n",
    "\n",
    "<details class=\"details-example\"><summary style=\"color:blue\"><u>Current Course Project Capability Level</u></summary>\n",
    "\n",
    "### Current Course Project Capability Level\n",
    "   \n",
    "**Remember to abide by the [data use agreement](https://static1.squarespace.com/static/60283c2e174c122f8ebe0f39/t/6239c284d610f76fed5a2e69/1647952517436/Data+Use+Agreement+for+the+Canadian+Social+Connection+Survey.pdf) at all times.**\n",
    "\n",
    "Information about the course project is available on the course github repo [here](https://github.com/pointOfive/stat130chat130/tree/main/CP), including a draft [course project specfication](https://github.com/pointOfive/stat130chat130/blob/main/CP/STA130F23_course_project_specification.ipynb) (subject to change). \n",
    "- The Week 01 HW introduced [STA130F24_CourseProject.ipynb](https://github.com/pointOfive/stat130chat130/blob/main/CP/STA130F24_CourseProject.ipynb), and the [available variables](https://drive.google.com/file/d/1ISVymGn-WR1lcRs4psIym2N3or5onNBi/view). \n",
    "- Please do not download the [data](https://drive.google.com/file/d/1mbUQlMTrNYA7Ly5eImVRBn16Ehy9Lggo/view) accessible at the bottom of the [CSCS](https://casch.org/cscs) webpage (or the course github repo) multiple times.\n",
    "\n",
    "> At this point in the course you should be able to create a `for` loop to iterate through and provide **simple summaries** of some of the interesting columns in the course project data\n",
    ">\n",
    "> 1. Create two versions of the code, one for numeric and the other for categorical data,  which provide a printout format that displays relavent summaries and the missing data counts for a given set of (either numerical or categorical) columns being examined\n",
    ">\n",
    "> 2. Combine the two separate `for` loops into a single `for` loop using an `if`/`else` **conditional logic structure** that determines the correct printout format based on the data type of the column under consideration  \n",
    ">     1. *Being able to transform existing code so it's \"resuable\" for different purposes is one version of the programming design principle of \"polymorphism\" (which means \"many forms\" or \"many uses\") [as in the first task above]*\n",
    ">     2. *A better version of the programming design principle of \"polymorphism\" is when the same code can handle different use cases [as in the second tast above]*\n",
    ">     3. *Being able run your code with different subsets of columns as interest in different variables changes is a final form of the programming design principle of \"polymorphism\" that's demonstrated through this exercise*   \n",
    "    \n",
    "</details>        "
   ]
  }
 ],
 "metadata": {
  "kernelspec": {
   "display_name": "Python 3 (ipykernel)",
   "language": "python",
   "name": "python3"
  },
  "language_info": {
   "codemirror_mode": {
    "name": "ipython",
    "version": 3
   },
   "file_extension": ".py",
   "mimetype": "text/x-python",
   "name": "python",
   "nbconvert_exporter": "python",
   "pygments_lexer": "ipython3",
   "version": "3.11.6"
  }
 },
 "nbformat": 4,
 "nbformat_minor": 5
}
