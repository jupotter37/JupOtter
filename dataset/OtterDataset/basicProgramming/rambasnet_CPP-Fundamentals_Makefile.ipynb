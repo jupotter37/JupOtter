{
 "cells": [
  {
   "cell_type": "markdown",
   "id": "f18129ab",
   "metadata": {},
   "source": [
    "# Using Makefile to compile, build, and run, and test C++ Programs\n",
    "\n",
    "- Makefile can automate the mundane task of compiling, recompiling, testing, and deploying of C/C++ programs\n",
    "- See Makefile.pre.in file at [https://github.com/python/cpython](https://github.com/python/cpython) to see how complicated Makefile can be for large software base such as Python programming language written in C\n",
    "- there's a great tutorial on Makefile: [https://makefiletutorial.com/](https://makefiletutorial.com/)\n",
    "- we'll demostrate a very simplified Makefile for beginners in this Notebook\n",
    "- there are 5 simple demos provided in `makefile_demos` folder\n",
    "\n",
    "## Using Make program\n",
    "- create a file named `Makefile` inside the project folder\n",
    "- use Makefile template provided in [makefile_demos/Makefile_template](./makefile_demos/Makefile_template)\n",
    "- run the following commands from inside the project folder on a Terminal\n",
    "\n",
    "```bash\n",
    "$ cd projectFolder # change current working director - folder with c++ file(s)\n",
    "$ make # build program\n",
    "$ ls # see the name of your executable in the current directory\n",
    "$ ./programName # run the program by it's name\n",
    "$ make clean # run clean rule; usually deletes all object/exe files\n",
    "```\n",
    "\n",
    "### Note\n",
    "- You typically run make commands from Terminal\n",
    "- for the sake of demonstration, we'll use Jupyter Notebook!\n",
    "    - Jupyter Notebook can run Bash commands with `!` symbol \n",
    "    - `#` :  is comment on Bash and Makefile\n",
    "    - Ipython Kernel is required to run the magic commands that starts with `%` on Jupyter notebook"
   ]
  },
  {
   "cell_type": "code",
   "execution_count": 1,
   "id": "f86048e4",
   "metadata": {},
   "outputs": [
    {
     "name": "stdout",
     "output_type": "stream",
     "text": [
      "/Users/rbasnet/CMU/projects/CPP-Fundamentals\r\n"
     ]
    }
   ],
   "source": [
    "! pwd # print the current working directory"
   ]
  },
  {
   "cell_type": "code",
   "execution_count": 2,
   "id": "32c0e7c0",
   "metadata": {},
   "outputs": [
    {
     "name": "stdout",
     "output_type": "stream",
     "text": [
      "/Users/rbasnet/CMU/projects/CPP-Fundamentals/makefile_demos\n"
     ]
    }
   ],
   "source": [
    "%cd makefile_demos"
   ]
  },
  {
   "cell_type": "code",
   "execution_count": 3,
   "id": "ee65f833",
   "metadata": {},
   "outputs": [
    {
     "name": "stdout",
     "output_type": "stream",
     "text": [
      "Makefile_template \u001b[1m\u001b[36mdemo2\u001b[m\u001b[m             \u001b[1m\u001b[36mdemo4\u001b[m\u001b[m\r\n",
      "\u001b[1m\u001b[36mdemo1\u001b[m\u001b[m             \u001b[1m\u001b[36mdemo3\u001b[m\u001b[m             \u001b[1m\u001b[36mdemo5\u001b[m\u001b[m\r\n"
     ]
    }
   ],
   "source": [
    "! ls"
   ]
  },
  {
   "cell_type": "code",
   "execution_count": 4,
   "id": "093c24b7",
   "metadata": {},
   "outputs": [
    {
     "name": "stdout",
     "output_type": "stream",
     "text": [
      "/Users/rbasnet/CMU/projects/CPP-Fundamentals/makefile_demos/demo1\n"
     ]
    }
   ],
   "source": [
    "%cd demo1"
   ]
  },
  {
   "cell_type": "code",
   "execution_count": 5,
   "id": "1acdfca9",
   "metadata": {},
   "outputs": [
    {
     "name": "stdout",
     "output_type": "stream",
     "text": [
      "Makefile  \u001b[31ma.out\u001b[m\u001b[m     hello.cpp\r\n"
     ]
    }
   ],
   "source": [
    "! ls"
   ]
  },
  {
   "cell_type": "markdown",
   "id": "91f992f7",
   "metadata": {},
   "source": [
    "## Makefile in makefile_demos/demo1\n",
    "- has three simple rules\n",
    "- compile, run and clean\n",
    "- rule names end with :\n",
    "    - you can have one or more commands associated with the rule\n",
    "    - commands are tab indented\n",
    "    - commands are tyically Bash commands that you normally run on Terminal\n",
    "- rules are called from Terminal using syntax:\n",
    "```bash\n",
    "make <rule_name>\n",
    "```\n",
    "\n",
    "- e.g.,\n",
    "```bash\n",
    "make run\n",
    "```\n",
    "\n",
    "- while running make, if no rule name is called, the first rule is executed by default"
   ]
  },
  {
   "cell_type": "code",
   "execution_count": 6,
   "id": "c853bd0e",
   "metadata": {},
   "outputs": [
    {
     "name": "stdout",
     "output_type": "stream",
     "text": [
      "# a simple Makefile with 3 rules\r\n",
      "\r\n",
      "# rule for compiling program\r\n",
      "# make or make compile triggers the following rule\r\n",
      "compile:\r\n",
      "\tg++ hello.cpp\r\n",
      "\r\n",
      "# rule for running programming\r\n",
      "# make run triggers the following rule\r\n",
      "run:\r\n",
      "\t./a.out\r\n",
      "\r\n",
      "# rule for clean up\r\n",
      "# make clean triggers the following rule\r\n",
      "clean:\r\n",
      "\trm -f a.out\r\n"
     ]
    }
   ],
   "source": [
    "! cat Makefile"
   ]
  },
  {
   "cell_type": "code",
   "execution_count": 7,
   "id": "fcc915c3",
   "metadata": {},
   "outputs": [
    {
     "name": "stdout",
     "output_type": "stream",
     "text": [
      "g++ hello.cpp\r\n"
     ]
    }
   ],
   "source": [
    "! make # run make compile, the first rule by default"
   ]
  },
  {
   "cell_type": "code",
   "execution_count": 8,
   "id": "f6c37aac",
   "metadata": {},
   "outputs": [
    {
     "name": "stdout",
     "output_type": "stream",
     "text": [
      "Makefile  \u001b[31ma.out\u001b[m\u001b[m     hello.cpp\r\n"
     ]
    }
   ],
   "source": [
    "! ls"
   ]
  },
  {
   "cell_type": "code",
   "execution_count": 9,
   "id": "0f3b1db0",
   "metadata": {},
   "outputs": [
    {
     "name": "stdout",
     "output_type": "stream",
     "text": [
      "./a.out\r\n",
      "Hello World!\r\n"
     ]
    }
   ],
   "source": [
    "! make run"
   ]
  },
  {
   "cell_type": "code",
   "execution_count": 10,
   "id": "0c56b69c",
   "metadata": {},
   "outputs": [
    {
     "name": "stdout",
     "output_type": "stream",
     "text": [
      "/Users/rbasnet/CMU/projects/CPP-Fundamentals/makefile_demos\n"
     ]
    }
   ],
   "source": [
    "%cd .."
   ]
  },
  {
   "cell_type": "code",
   "execution_count": 11,
   "id": "bca0f4eb",
   "metadata": {},
   "outputs": [
    {
     "name": "stdout",
     "output_type": "stream",
     "text": [
      "/Users/rbasnet/CMU/projects/CPP-Fundamentals/makefile_demos/demo5\n"
     ]
    }
   ],
   "source": [
    "%cd demo5"
   ]
  },
  {
   "cell_type": "markdown",
   "id": "2fd72028",
   "metadata": {},
   "source": [
    "## demo 5\n",
    "- run Makefile from terminal\n",
    "- for some reason it doesn't exectue from Jupyter Notebook"
   ]
  },
  {
   "cell_type": "code",
   "execution_count": 18,
   "id": "e3557a77",
   "metadata": {},
   "outputs": [
    {
     "name": "stdout",
     "output_type": "stream",
     "text": [
      "Makefile  hello.cpp \u001b[31mhello.exe\u001b[m\u001b[m hello.o\r\n"
     ]
    }
   ],
   "source": [
    "! ls"
   ]
  },
  {
   "cell_type": "code",
   "execution_count": 13,
   "id": "38c42012",
   "metadata": {},
   "outputs": [
    {
     "name": "stdout",
     "output_type": "stream",
     "text": [
      "# Farily complex Makefile demo\r\n",
      "\r\n",
      "COMPILER = clang++\r\n",
      "COMPILER_FLAGS = -c -g -Wall -std=c++17\r\n",
      "\r\n",
      "# list .cpp files separated by space\r\n",
      "CPP_FILES = hello.cpp\r\n",
      "\r\n",
      "# executable program name\r\n",
      "PROGRAM_NAME = hello.exe\r\n",
      "\r\n",
      "# rule using other rules\r\n",
      "# other rules must be written after the rule name on the same line separated by a space\r\n",
      "all: build run clean\r\n",
      "\t@echo \"All Done!\"\r\n",
      "\r\n",
      "\r\n",
      "# rule for compiling and building program\r\n",
      "# make or make all or make build triggers the following rule\r\n",
      "# @ suppreses/hides the command itself from printing\r\n",
      "build:\r\n",
      "\t@# compile .cpp to object file .o\r\n",
      "\t@echo \"compiling...\"\r\n",
      "\t$(COMPILER) $(COMPILER_FLAGS) $(CPP_FILES)\r\n",
      "\t@# build executable from object files\r\n",
      "\t@echo \"building...\"\r\n",
      "\t$(COMPILER) -o $(PROGRAM_NAME) *.o\r\n",
      "\r\n",
      "# rule for running binary program\r\n",
      "# make run triggers the following rule\r\n",
      "run:\r\n",
      "\t@echo \"running program...\"\r\n",
      "\t./$(PROGRAM_NAME)\r\n",
      "\r\n",
      "# rule for clean up\r\n",
      "# make clean triggers the following rule\r\n",
      "clean:\r\n",
      "\t@echo \"cleaning up...\"\r\n",
      "\t@rm -f $(PROGRAM_NAME) *.o *.out 2> /dev/null\r\n"
     ]
    }
   ],
   "source": [
    "! cat Makefile"
   ]
  },
  {
   "cell_type": "code",
   "execution_count": 17,
   "id": "4a11400f",
   "metadata": {},
   "outputs": [
    {
     "name": "stdout",
     "output_type": "stream",
     "text": [
      "running program...\r\n",
      "./hello.exe\r\n",
      "Hello World!\r\n"
     ]
    }
   ],
   "source": [
    "! make run"
   ]
  },
  {
   "cell_type": "code",
   "execution_count": null,
   "id": "bae690e2",
   "metadata": {},
   "outputs": [],
   "source": []
  }
 ],
 "metadata": {
  "kernelspec": {
   "display_name": "Python 3 (ipykernel)",
   "language": "python",
   "name": "python3"
  },
  "language_info": {
   "codemirror_mode": {
    "name": "ipython",
    "version": 3
   },
   "file_extension": ".py",
   "mimetype": "text/x-python",
   "name": "python",
   "nbconvert_exporter": "python",
   "pygments_lexer": "ipython3",
   "version": "3.9.12"
  }
 },
 "nbformat": 4,
 "nbformat_minor": 5
}
