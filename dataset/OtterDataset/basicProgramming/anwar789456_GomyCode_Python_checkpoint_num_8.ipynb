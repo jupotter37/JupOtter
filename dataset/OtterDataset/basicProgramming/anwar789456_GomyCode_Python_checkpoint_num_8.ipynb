{
 "cells": [
  {
   "cell_type": "code",
   "execution_count": 10,
   "id": "bcd517a4",
   "metadata": {},
   "outputs": [
    {
     "name": "stdout",
     "output_type": "stream",
     "text": [
      "What is Python language?                                                \n",
      "Python is a widely used high-level, general-purpose, interpreted, dynamic programming language.Its design philosophy emphasizes code readability, and its syntax allows programmers to express concepts in fewer lines of code than possible in \n",
      "languages such as C++ or Java. \n",
      "Python supports multiple programming paradigms, including object-oriented, imperative and functional programming or procedural styles. It features a dynamic type system and automatic memory management and has a large and comprehensive standard library.The best way we learn anything is by practice and exercise questions. We  have started this section for those (beginner to intermediate) who are familiar with Python.\n"
     ]
    }
   ],
   "source": [
    "# 1. Write a Python program to read an entire text file.\n",
    "def read_file():\n",
    "    f = open(\"python.txt\",\"r\")\n",
    "    text = f.read()\n",
    "    print(text)\n",
    "    f.close()\n",
    "read_file()"
   ]
  },
  {
   "cell_type": "code",
   "execution_count": 15,
   "id": "4df21f49",
   "metadata": {},
   "outputs": [
    {
     "name": "stdout",
     "output_type": "stream",
     "text": [
      "number of lines to read=1\n",
      "What is Python language?                                                \n",
      "\n"
     ]
    }
   ],
   "source": [
    "# 2. Write a Python program to read the first n lines of a file.\n",
    "def read_first_n_lines(n):\n",
    "    f = open(\"python.txt\",\"r\")\n",
    "    for i in range(n):\n",
    "        line = f.readline()\n",
    "        print(line)\n",
    "    f.close()\n",
    "n=int(input(\"number of lines to read=\"))\n",
    "read_first_n_lines(n)"
   ]
  },
  {
   "cell_type": "code",
   "execution_count": 60,
   "id": "6f0d1cfe",
   "metadata": {},
   "outputs": [
    {
     "name": "stdout",
     "output_type": "stream",
     "text": [
      "number of lines to read=1\n",
      "\n",
      " Python supports multiple programming paradigms, including object-oriented, imperative and functional programming or procedural styles. It features a dynamic type system and automatic memory management and has a large and comprehensive standard library.The best way we learn anything is by practice and exercise questions. We  have started this section for those (beginner to intermediate) who are familiar with Python.\n"
     ]
    }
   ],
   "source": [
    "# 3. Write a Python program to read the last n lines of a file.\n",
    "def read_last_n_lines(n):\n",
    "    f = open(\"python.txt\",\"r\")\n",
    "    liste = []\n",
    "    for i in range(4):\n",
    "        line = f.readline()\n",
    "        liste.append(line)\n",
    "    for i in range(4-n,4):\n",
    "        print(\"\\n\",liste[i])\n",
    "    f.close()\n",
    "n=int(input(\"number of lines to read=\"))\n",
    "read_last_n_lines(n)"
   ]
  },
  {
   "cell_type": "code",
   "execution_count": 64,
   "id": "47181d90",
   "metadata": {},
   "outputs": [
    {
     "name": "stdout",
     "output_type": "stream",
     "text": [
      "the number of words in the file is 764\n"
     ]
    }
   ],
   "source": [
    "# 4. Write a Python program that takes a text file as input and returns the number of words of a given text file.\n",
    "def number_of_words(f):\n",
    "    x=0\n",
    "    string = \"\"\n",
    "    lines = f.read()\n",
    "    string += lines\n",
    "    for i in range(len(string)):\n",
    "        x+=1\n",
    "    return x\n",
    "\n",
    "f= open(\"python.txt\",'r')\n",
    "x = number_of_words(f)\n",
    "print(f\"the number of words in the file is {x}\")\n",
    "f.close()\n"
   ]
  }
 ],
 "metadata": {
  "kernelspec": {
   "display_name": "Python 3 (ipykernel)",
   "language": "python",
   "name": "python3"
  },
  "language_info": {
   "codemirror_mode": {
    "name": "ipython",
    "version": 3
   },
   "file_extension": ".py",
   "mimetype": "text/x-python",
   "name": "python",
   "nbconvert_exporter": "python",
   "pygments_lexer": "ipython3",
   "version": "3.9.13"
  }
 },
 "nbformat": 4,
 "nbformat_minor": 5
}
