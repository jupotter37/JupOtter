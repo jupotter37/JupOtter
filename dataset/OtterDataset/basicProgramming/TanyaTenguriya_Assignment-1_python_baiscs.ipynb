{
  "nbformat": 4,
  "nbformat_minor": 0,
  "metadata": {
    "colab": {
      "provenance": []
    },
    "kernelspec": {
      "name": "python3",
      "display_name": "Python 3"
    },
    "language_info": {
      "name": "python"
    }
  },
  "cells": [
    {
      "cell_type": "markdown",
      "source": [
        "1. **explain  the key features of pyexplainthon that make it a popular choice for programming**"
      ],
      "metadata": {
        "id": "TnmNRI9X2G3q"
      }
    },
    {
      "cell_type": "markdown",
      "source": [
        "python's popularity strems from its combination of simplicity, flexibility,and power. here are key features making python a popular choice."
      ],
      "metadata": {
        "id": "_pNfcfOr2age"
      }
    },
    {
      "cell_type": "code",
      "source": [
        "#easy to learn and use"
      ],
      "metadata": {
        "id": "C8IGtl_MZwhl"
      },
      "execution_count": null,
      "outputs": []
    },
    {
      "cell_type": "code",
      "source": [
        "1. simple Syntax: python's syntax is concise and intuitive, making it easy for beginners.\n",
        "2. readability: python code is easy to understand, maintaining code is simplified.\n",
        "3. forgiving: python allows for dynamic typing, reducing errors."
      ],
      "metadata": {
        "id": "ay0uny3IblB3"
      },
      "execution_count": null,
      "outputs": []
    },
    {
      "cell_type": "code",
      "source": [
        "#flexibility"
      ],
      "metadata": {
        "id": "6YbGKvWjbk-O"
      },
      "execution_count": null,
      "outputs": []
    },
    {
      "cell_type": "code",
      "source": [
        "1. multi-paradigm: python supports object-orirnted, imperative, and functional programming.\n",
        "2. extensive libraries: python's vast library collection (NumPy,pandas, flask,etc.) facilitates various tasks.\n",
        "3. cross-platform: python runs on windows, macOS, linux, qand mobile platform."
      ],
      "metadata": {
        "id": "aV5UTx3bbk68"
      },
      "execution_count": null,
      "outputs": []
    },
    {
      "cell_type": "code",
      "source": [
        "#poweful"
      ],
      "metadata": {
        "id": "KZmlWyxvbk2R"
      },
      "execution_count": null,
      "outputs": []
    },
    {
      "cell_type": "code",
      "source": [
        "1. high-level language: python automates memory management and handles low-level details.\n",
        "2. rapid development: python's eyntax and nature enable fast prototyping and development.\n",
        "3. large community: active community contributes to libraries, frameworks, and resources."
      ],
      "metadata": {
        "id": "-mkMdZMybkkg"
      },
      "execution_count": null,
      "outputs": []
    },
    {
      "cell_type": "code",
      "source": [
        "#data science and analytics"
      ],
      "metadata": {
        "id": "qJu8KM93bkgK"
      },
      "execution_count": null,
      "outputs": []
    },
    {
      "cell_type": "code",
      "source": [
        "1. NurnPy and pandas: efficient data manipulation and analysis\n",
        "2. matplotlib and seaborn: data visualization.\n",
        "3. scikit-learn: machine learning."
      ],
      "metadata": {
        "id": "L0Fpm1Z_bkcl"
      },
      "execution_count": null,
      "outputs": []
    },
    {
      "cell_type": "code",
      "source": [
        "#wed development"
      ],
      "metadata": {
        "id": "-worSyz8bkZL"
      },
      "execution_count": null,
      "outputs": []
    },
    {
      "cell_type": "code",
      "source": [
        "1. flask and django: popular frameworks for web applications.\n",
        "2. pyramid and fastAPI: additional frameworks."
      ],
      "metadata": {
        "id": "HD5IyJjlbkUT"
      },
      "execution_count": null,
      "outputs": []
    },
    {
      "cell_type": "code",
      "source": [
        "#automation and scripting"
      ],
      "metadata": {
        "id": "N1Eeibx1bkNp"
      },
      "execution_count": null,
      "outputs": []
    },
    {
      "cell_type": "code",
      "source": [
        "1. easy scripting: automate tasks, file management, and system administration.\n",
        "2. integration: python interacts with other languages and tools."
      ],
      "metadata": {
        "id": "OfbI8cdQbkH7"
      },
      "execution_count": null,
      "outputs": []
    },
    {
      "cell_type": "code",
      "source": [
        "#machine learning and al"
      ],
      "metadata": {
        "id": "Plgxr7Umbj96"
      },
      "execution_count": null,
      "outputs": []
    },
    {
      "cell_type": "code",
      "source": [
        "1. tensorflow and keras: deep learning.\n",
        "2. scikit-learn and PyTorch: machine learning."
      ],
      "metadata": {
        "id": "rzBv7NzoxeqP"
      },
      "execution_count": null,
      "outputs": []
    },
    {
      "cell_type": "code",
      "source": [
        "#other features"
      ],
      "metadata": {
        "id": "3HCX5TqVxeX4"
      },
      "execution_count": null,
      "outputs": []
    },
    {
      "cell_type": "code",
      "source": [
        "1. dynamic typing\n",
        "2. memory management\n",
        "3. exception handling\n",
        "4. support for concurrency\n",
        "5. extensive documentation"
      ],
      "metadata": {
        "id": "j42vDNymxeUh"
      },
      "execution_count": null,
      "outputs": []
    },
    {
      "cell_type": "code",
      "source": [
        "these features make python an ideal choice for:\n",
        "\n",
        "\n",
        "\n",
        "1. web development\n",
        "2. data analysis and science\n",
        "3. machine learning and AI\n",
        "4. automation and scripting\n",
        "5. education\n",
        "6. research\n",
        "7. rapid prototyping\n",
        "8. cross-platform development\n",
        "\n",
        "\n",
        "\n",
        "python's versatility, simplicity, and large community contributr to its popularity, making it a go-to languagr for various applications"
      ],
      "metadata": {
        "id": "2W4_0-E-xeQQ"
      },
      "execution_count": null,
      "outputs": []
    },
    {
      "cell_type": "markdown",
      "source": [
        "2 **describe the role predefined keywords in python and provide examples of how they are used in a program.**"
      ],
      "metadata": {
        "id": "HegmTmWR3mKD"
      }
    },
    {
      "cell_type": "markdown",
      "source": [
        "predefined keywords in python are reserved words that have special meanings and are used to defind the structure and logic of a program.they cannot be used as variable name or identifiers.here are some example of predefined keywords in python, along with their uses"
      ],
      "metadata": {
        "id": "U39L4cmJ4kry"
      }
    },
    {
      "cell_type": "code",
      "source": [
        "from ast import keyword\n",
        "#key roles:\n",
        "1. control flow: keyword like if,else,elif,while,for,and break are used to control the execution flow of the program.\n",
        "2. variable scope and functions: keyword like def,return,global, and nonlocal are used to difine functions, return values, and manage variable scope.\n",
        "3. exception handling: try, except,finally, and raise handle errors and exceptions.\n",
        "4. class and object- oriented programming: class, self and super help define and manage classes,objects, and inheritance.\n",
        "5. logical and arithmetic: keyword such as and,or,not,is,in help in logical and membership testing.\n",
        "6. other: import,with,as,lambda,pass,yield,del are used for a variety of purpose like importing modules, managing context,and more."
      ],
      "metadata": {
        "id": "-lhLSO-h6xAL"
      },
      "execution_count": null,
      "outputs": []
    },
    {
      "cell_type": "code",
      "source": [
        "#example of predefined keywords in a program\n",
        "let's write a simple python program to demonstrate the use of various predefined keyword"
      ],
      "metadata": {
        "id": "TpHWohGE6w8a"
      },
      "execution_count": null,
      "outputs": []
    },
    {
      "cell_type": "code",
      "source": [
        "#defining a function using the 'def' keyword\n",
        "def check_odd_even(number):\n",
        "  #using 'if','elif',and 'else' to control the flow\n",
        "  if number %2==0:\n",
        "    return \"even\"\n",
        "  elif number%2!=0:\n",
        "    return \"odd\"\n",
        "  else:\n",
        "    return\"undefined\""
      ],
      "metadata": {
        "id": "RmZFOqkS6w3D"
      },
      "execution_count": null,
      "outputs": []
    },
    {
      "cell_type": "code",
      "source": [
        "#defining a class using 'class' keyword\n",
        "class numberchecker:\n",
        "  def_init_(self,number):\n",
        "    self.number=number\n",
        "  #using 'def' for method definition\n",
        "  def display_result(self):\n",
        "    #using'return' to return value from a method\n",
        "    return check_odd_even(self.number)\n",
        "#'try','except','finally' for exception handling\n",
        "try:\n",
        "  #'input' is a function, not a keyword, but it allows user input\n",
        "  user_input=int(input(\"enter a number:\"))\n",
        "\n",
        "  #using 'with'for context management (though not required in this simple case)\n",
        "  with open(\"output.txt\",\"w\") as file:\n",
        "    #creating an object of numberchecker\n",
        "    checker= numberchecker(user_inout)\n",
        "    result= checker.display_result()\n",
        "\n",
        "    # using 'is' keyword for comarison\n",
        "    if result is not none:\n",
        "      print(f\"the number is {result}.\")\n",
        "      file.write(f\"result: {result}\\n\")\n",
        "except ValueError:\n",
        "  #'raise' keyword to raise an exception manually\n",
        "  raise ValueError(\"invalid input! please enter a valid integer.\")\n",
        "finally:\n",
        "  print(\"execution completed.\")\n"
      ],
      "metadata": {
        "id": "l3zw9_4W6wpj"
      },
      "execution_count": null,
      "outputs": []
    },
    {
      "cell_type": "markdown",
      "source": [
        "3. **compare and contrast mutable and immutable object in python with example**"
      ],
      "metadata": {
        "id": "QcZfKaVs5rdS"
      }
    },
    {
      "cell_type": "code",
      "source": [
        "a=6"
      ],
      "metadata": {
        "id": "yW38LbnIOf5b"
      },
      "execution_count": null,
      "outputs": []
    },
    {
      "cell_type": "code",
      "source": [
        "a #in the memory, a memory block is create with reference name a and value 6"
      ],
      "metadata": {
        "colab": {
          "base_uri": "https://localhost:8080/"
        },
        "id": "hugVj1voOzUU",
        "outputId": "27f4b6f2-2264-4614-9bb0-f7c4e9ee618b"
      },
      "execution_count": null,
      "outputs": [
        {
          "output_type": "execute_result",
          "data": {
            "text/plain": [
              "6"
            ]
          },
          "metadata": {},
          "execution_count": 3
        }
      ]
    },
    {
      "cell_type": "code",
      "source": [
        "b=\"tanya\""
      ],
      "metadata": {
        "id": "zx5kU9NiPFtM"
      },
      "execution_count": null,
      "outputs": []
    },
    {
      "cell_type": "code",
      "source": [
        "b"
      ],
      "metadata": {
        "colab": {
          "base_uri": "https://localhost:8080/",
          "height": 35
        },
        "id": "ik-22MyTPOZL",
        "outputId": "b3007db8-1ce5-433a-d53c-aae5f238093e"
      },
      "execution_count": null,
      "outputs": [
        {
          "output_type": "execute_result",
          "data": {
            "text/plain": [
              "'tanya'"
            ],
            "application/vnd.google.colaboratory.intrinsic+json": {
              "type": "string"
            }
          },
          "metadata": {},
          "execution_count": 5
        }
      ]
    },
    {
      "cell_type": "code",
      "source": [
        "b[0]"
      ],
      "metadata": {
        "colab": {
          "base_uri": "https://localhost:8080/",
          "height": 35
        },
        "id": "TwGDAaAqPPaS",
        "outputId": "fb9f4c81-29bc-4924-fab4-2a60772bd87d"
      },
      "execution_count": null,
      "outputs": [
        {
          "output_type": "execute_result",
          "data": {
            "text/plain": [
              "'t'"
            ],
            "application/vnd.google.colaboratory.intrinsic+json": {
              "type": "string"
            }
          },
          "metadata": {},
          "execution_count": 6
        }
      ]
    },
    {
      "cell_type": "code",
      "source": [
        "b[-4]"
      ],
      "metadata": {
        "colab": {
          "base_uri": "https://localhost:8080/",
          "height": 35
        },
        "id": "zz8wfPnkPYQ6",
        "outputId": "dba077a8-11bc-4f1a-d939-24d1bd9c9fc8"
      },
      "execution_count": null,
      "outputs": [
        {
          "output_type": "execute_result",
          "data": {
            "text/plain": [
              "'a'"
            ],
            "application/vnd.google.colaboratory.intrinsic+json": {
              "type": "string"
            }
          },
          "metadata": {},
          "execution_count": 7
        }
      ]
    },
    {
      "cell_type": "code",
      "source": [
        "#another type of data container"
      ],
      "metadata": {
        "id": "rtautScuPdpq"
      },
      "execution_count": null,
      "outputs": []
    },
    {
      "cell_type": "code",
      "source": [
        "list_cont=[1,3,4.5,3+5j,\"tanya\",100]"
      ],
      "metadata": {
        "id": "PsDpLrPtPnRJ"
      },
      "execution_count": null,
      "outputs": []
    },
    {
      "cell_type": "code",
      "source": [
        "list_cont"
      ],
      "metadata": {
        "colab": {
          "base_uri": "https://localhost:8080/"
        },
        "id": "eAAKGuM6P3VM",
        "outputId": "18b568a0-5282-4ae5-9087-96707c2bdb4c"
      },
      "execution_count": null,
      "outputs": [
        {
          "output_type": "execute_result",
          "data": {
            "text/plain": [
              "[1, 3, 4.5, (3+5j), 'tanya', 100]"
            ]
          },
          "metadata": {},
          "execution_count": 16
        }
      ]
    },
    {
      "cell_type": "code",
      "source": [
        "list_cont[0]"
      ],
      "metadata": {
        "colab": {
          "base_uri": "https://localhost:8080/"
        },
        "id": "4Y6fZTBVP8FS",
        "outputId": "1fc08119-e2bb-477b-d1d9-284d4c88244b"
      },
      "execution_count": null,
      "outputs": [
        {
          "output_type": "execute_result",
          "data": {
            "text/plain": [
              "1"
            ]
          },
          "metadata": {},
          "execution_count": 11
        }
      ]
    },
    {
      "cell_type": "code",
      "source": [
        "list_cont[-4]"
      ],
      "metadata": {
        "colab": {
          "base_uri": "https://localhost:8080/"
        },
        "id": "dda7l0leQEdH",
        "outputId": "cb19aff1-33a8-459e-bea7-71709adf212b"
      },
      "execution_count": null,
      "outputs": [
        {
          "output_type": "execute_result",
          "data": {
            "text/plain": [
              "4.5"
            ]
          },
          "metadata": {},
          "execution_count": 17
        }
      ]
    },
    {
      "cell_type": "code",
      "source": [
        "type(list_cont)"
      ],
      "metadata": {
        "colab": {
          "base_uri": "https://localhost:8080/"
        },
        "id": "WSyqO8r2QM1K",
        "outputId": "173eca7d-0249-4864-cd74-096dd50ef7ba"
      },
      "execution_count": null,
      "outputs": [
        {
          "output_type": "execute_result",
          "data": {
            "text/plain": [
              "list"
            ]
          },
          "metadata": {},
          "execution_count": 13
        }
      ]
    },
    {
      "cell_type": "code",
      "source": [
        "#mutability"
      ],
      "metadata": {
        "id": "Z4lwHPRuQbHY"
      },
      "execution_count": null,
      "outputs": []
    },
    {
      "cell_type": "code",
      "source": [
        "mutable objects can be changed after they are created. you can modify their contents or state without creating a new object."
      ],
      "metadata": {
        "id": "CR92XM5Yhb-b"
      },
      "execution_count": null,
      "outputs": []
    },
    {
      "cell_type": "code",
      "source": [
        "list_cont[-1]=\"tenguriya\""
      ],
      "metadata": {
        "id": "SCD7zPsnQhHh"
      },
      "execution_count": null,
      "outputs": []
    },
    {
      "cell_type": "code",
      "source": [
        "list_cont"
      ],
      "metadata": {
        "colab": {
          "base_uri": "https://localhost:8080/"
        },
        "id": "vemRNkbWSR4X",
        "outputId": "8af68066-5e13-44af-a701-ae613a17e7f2"
      },
      "execution_count": null,
      "outputs": [
        {
          "output_type": "execute_result",
          "data": {
            "text/plain": [
              "[1, 3, 4.5, (3+5j), 'tanya', 'tenguriya']"
            ]
          },
          "metadata": {},
          "execution_count": 19
        }
      ]
    },
    {
      "cell_type": "code",
      "source": [
        "#objects/container whose state or value can be change after they are created are colled as mutable objects or container\n",
        "#list is a type of mutable object/support item assignment"
      ],
      "metadata": {
        "id": "g0Mdh-QwSUsm"
      },
      "execution_count": null,
      "outputs": []
    },
    {
      "cell_type": "code",
      "source": [
        "a=\"baiscs\"\n",
        "a"
      ],
      "metadata": {
        "colab": {
          "base_uri": "https://localhost:8080/",
          "height": 35
        },
        "id": "ptowZHxFTPVO",
        "outputId": "dff8ca44-9ada-40e0-a6b9-b96713f42ead"
      },
      "execution_count": null,
      "outputs": [
        {
          "output_type": "execute_result",
          "data": {
            "text/plain": [
              "'baiscs'"
            ],
            "application/vnd.google.colaboratory.intrinsic+json": {
              "type": "string"
            }
          },
          "metadata": {},
          "execution_count": 24
        }
      ]
    },
    {
      "cell_type": "code",
      "source": [
        "a=[-3]=\"ram\""
      ],
      "metadata": {
        "colab": {
          "base_uri": "https://localhost:8080/",
          "height": 106
        },
        "id": "Syr_Jm7yXpS_",
        "outputId": "36a1727e-3302-45b1-e35d-89e4ddd3008a"
      },
      "execution_count": null,
      "outputs": [
        {
          "output_type": "error",
          "ename": "SyntaxError",
          "evalue": "cannot assign to expression (<ipython-input-26-a99f2be657f4>, line 1)",
          "traceback": [
            "\u001b[0;36m  File \u001b[0;32m\"<ipython-input-26-a99f2be657f4>\"\u001b[0;36m, line \u001b[0;32m1\u001b[0m\n\u001b[0;31m    a=[-3]=\"ram\"\u001b[0m\n\u001b[0m       ^\u001b[0m\n\u001b[0;31mSyntaxError\u001b[0m\u001b[0;31m:\u001b[0m cannot assign to expression\n"
          ]
        }
      ]
    },
    {
      "cell_type": "code",
      "source": [
        "a=[1]=\"t\""
      ],
      "metadata": {
        "colab": {
          "base_uri": "https://localhost:8080/",
          "height": 106
        },
        "id": "GD0IfvEOTcK9",
        "outputId": "8c52e5c9-c545-40fa-be88-c3684e610d94"
      },
      "execution_count": null,
      "outputs": [
        {
          "output_type": "error",
          "ename": "SyntaxError",
          "evalue": "cannot assign to literal (<ipython-input-12-c96d74c91c1d>, line 1)",
          "traceback": [
            "\u001b[0;36m  File \u001b[0;32m\"<ipython-input-12-c96d74c91c1d>\"\u001b[0;36m, line \u001b[0;32m1\u001b[0m\n\u001b[0;31m    a=[1]=\"t\"\u001b[0m\n\u001b[0m       ^\u001b[0m\n\u001b[0;31mSyntaxError\u001b[0m\u001b[0;31m:\u001b[0m cannot assign to literal\n"
          ]
        }
      ]
    },
    {
      "cell_type": "code",
      "source": [
        "#immutable object"
      ],
      "metadata": {
        "id": "TRbHrJ1Zl-Z_"
      },
      "execution_count": null,
      "outputs": []
    },
    {
      "cell_type": "code",
      "source": [
        "immutable objects connot be changed after they are created. any operation that tries to modify the object will result in the creation of a new object, leaving the original object unchanged."
      ],
      "metadata": {
        "id": "owUH032Zl-UO"
      },
      "execution_count": null,
      "outputs": []
    },
    {
      "cell_type": "code",
      "source": [
        "my_string=\"hello\"\n",
        "print(\"original string:\", my_string)"
      ],
      "metadata": {
        "colab": {
          "base_uri": "https://localhost:8080/"
        },
        "id": "BRrf6KcBl-GN",
        "outputId": "7671e524-2023-4a24-9025-2f3942b43915"
      },
      "execution_count": null,
      "outputs": [
        {
          "output_type": "stream",
          "name": "stdout",
          "text": [
            "original string: hello\n"
          ]
        }
      ]
    },
    {
      "cell_type": "code",
      "source": [
        "#attempt to modify the string\n",
        "my_string=my_string+\"world\"\n",
        "print(\"modified string:\", my_string)"
      ],
      "metadata": {
        "colab": {
          "base_uri": "https://localhost:8080/"
        },
        "id": "dzfXYhOMnxEb",
        "outputId": "922483b3-8cff-47ca-d467-8beaa94b840b"
      },
      "execution_count": null,
      "outputs": [
        {
          "output_type": "stream",
          "name": "stdout",
          "text": [
            "modified string: helloworld\n"
          ]
        }
      ]
    },
    {
      "cell_type": "code",
      "source": [
        "#objects/container whose state or value can not be change after they are created are called as immutable objects or container\n",
        "#string is a type of immutable object/doesn't supports item assignment"
      ],
      "metadata": {
        "id": "-VFI5ecgT8TQ"
      },
      "execution_count": null,
      "outputs": []
    },
    {
      "cell_type": "markdown",
      "source": [
        "4. **discuss the different type of operators in python and provide examples of how they are used.**"
      ],
      "metadata": {
        "id": "c0S3VZT46NoP"
      }
    },
    {
      "cell_type": "code",
      "source": [
        "#operators>> special keywords to perform operator>>manage and computation"
      ],
      "metadata": {
        "id": "U9Ai23GubF1t"
      },
      "execution_count": null,
      "outputs": []
    },
    {
      "cell_type": "code",
      "source": [
        "a=3\n",
        "b=2\n",
        "a+b"
      ],
      "metadata": {
        "colab": {
          "base_uri": "https://localhost:8080/"
        },
        "id": "-b2_0LRFbFx-",
        "outputId": "08ce2b7a-2b97-419b-ad77-8e9c0bab7ea4"
      },
      "execution_count": null,
      "outputs": [
        {
          "output_type": "execute_result",
          "data": {
            "text/plain": [
              "5"
            ]
          },
          "metadata": {},
          "execution_count": 27
        }
      ]
    },
    {
      "cell_type": "code",
      "source": [
        "#arithmatic operator"
      ],
      "metadata": {
        "id": "xLRc4tI1bFuJ"
      },
      "execution_count": null,
      "outputs": []
    },
    {
      "cell_type": "code",
      "source": [
        "add=a+b\n",
        "add"
      ],
      "metadata": {
        "colab": {
          "base_uri": "https://localhost:8080/"
        },
        "id": "Rg1eew65bFqp",
        "outputId": "a5008356-599d-4260-94fd-0e8104a9e7ae"
      },
      "execution_count": null,
      "outputs": [
        {
          "output_type": "execute_result",
          "data": {
            "text/plain": [
              "5"
            ]
          },
          "metadata": {},
          "execution_count": 28
        }
      ]
    },
    {
      "cell_type": "code",
      "source": [
        "100-5"
      ],
      "metadata": {
        "colab": {
          "base_uri": "https://localhost:8080/"
        },
        "id": "l2oKDRjQbFnZ",
        "outputId": "d378e02a-032e-4987-8187-5cf86bea2703"
      },
      "execution_count": null,
      "outputs": [
        {
          "output_type": "execute_result",
          "data": {
            "text/plain": [
              "95"
            ]
          },
          "metadata": {},
          "execution_count": 29
        }
      ]
    },
    {
      "cell_type": "code",
      "source": [
        "10*5"
      ],
      "metadata": {
        "colab": {
          "base_uri": "https://localhost:8080/"
        },
        "id": "17DbEefwbFjh",
        "outputId": "d9454124-07c7-42e4-effb-27f54d2283b6"
      },
      "execution_count": null,
      "outputs": [
        {
          "output_type": "execute_result",
          "data": {
            "text/plain": [
              "50"
            ]
          },
          "metadata": {},
          "execution_count": 30
        }
      ]
    },
    {
      "cell_type": "code",
      "source": [
        "21/4"
      ],
      "metadata": {
        "colab": {
          "base_uri": "https://localhost:8080/"
        },
        "id": "Rc9aVxLHbFU3",
        "outputId": "cea3511d-5bb4-401e-a22d-46c00b689c45"
      },
      "execution_count": null,
      "outputs": [
        {
          "output_type": "execute_result",
          "data": {
            "text/plain": [
              "5.25"
            ]
          },
          "metadata": {},
          "execution_count": 31
        }
      ]
    },
    {
      "cell_type": "code",
      "source": [
        "#modulus operator"
      ],
      "metadata": {
        "id": "dlFZsrQnc8jh"
      },
      "execution_count": null,
      "outputs": []
    },
    {
      "cell_type": "code",
      "source": [
        "21%4 #remainder"
      ],
      "metadata": {
        "colab": {
          "base_uri": "https://localhost:8080/"
        },
        "id": "yZ332MRddP54",
        "outputId": "e86e67df-563a-43cd-f3ef-2e9ac95c33fd"
      },
      "execution_count": null,
      "outputs": [
        {
          "output_type": "execute_result",
          "data": {
            "text/plain": [
              "1"
            ]
          },
          "metadata": {},
          "execution_count": 33
        }
      ]
    },
    {
      "cell_type": "code",
      "source": [
        "2**5 #2 to power 5"
      ],
      "metadata": {
        "colab": {
          "base_uri": "https://localhost:8080/"
        },
        "id": "o--PeH7rdSfY",
        "outputId": "a4cb1477-ca58-4bbf-c6f0-2542228165bd"
      },
      "execution_count": null,
      "outputs": [
        {
          "output_type": "execute_result",
          "data": {
            "text/plain": [
              "32"
            ]
          },
          "metadata": {},
          "execution_count": 34
        }
      ]
    },
    {
      "cell_type": "code",
      "source": [
        "4/3"
      ],
      "metadata": {
        "colab": {
          "base_uri": "https://localhost:8080/"
        },
        "id": "3lS85e8NdWFp",
        "outputId": "79a8fec9-54fc-46fe-f919-d63ecdb34fdd"
      },
      "execution_count": null,
      "outputs": [
        {
          "output_type": "execute_result",
          "data": {
            "text/plain": [
              "1.3333333333333333"
            ]
          },
          "metadata": {},
          "execution_count": 35
        }
      ]
    },
    {
      "cell_type": "code",
      "source": [
        "4//3 #floor operator"
      ],
      "metadata": {
        "colab": {
          "base_uri": "https://localhost:8080/"
        },
        "id": "N1_qARWFdczY",
        "outputId": "e308c373-998d-4862-f8d2-49cb158ac422"
      },
      "execution_count": null,
      "outputs": [
        {
          "output_type": "execute_result",
          "data": {
            "text/plain": [
              "1"
            ]
          },
          "metadata": {},
          "execution_count": 37
        }
      ]
    },
    {
      "cell_type": "code",
      "source": [
        "#comarison operator>> comare two value>> retun a boolen value"
      ],
      "metadata": {
        "id": "mPakQy4SdfIn"
      },
      "execution_count": null,
      "outputs": []
    },
    {
      "cell_type": "code",
      "source": [
        "2==2"
      ],
      "metadata": {
        "colab": {
          "base_uri": "https://localhost:8080/"
        },
        "id": "lS7j2KkgeI8m",
        "outputId": "52e78863-d0ca-4d43-a047-0f5c7415e8b6"
      },
      "execution_count": null,
      "outputs": [
        {
          "output_type": "execute_result",
          "data": {
            "text/plain": [
              "True"
            ]
          },
          "metadata": {},
          "execution_count": 39
        }
      ]
    },
    {
      "cell_type": "code",
      "source": [
        "2!=2"
      ],
      "metadata": {
        "colab": {
          "base_uri": "https://localhost:8080/"
        },
        "id": "kRWr5wizeLJm",
        "outputId": "1871ad5e-ac25-4b65-84e0-9a133607987e"
      },
      "execution_count": null,
      "outputs": [
        {
          "output_type": "execute_result",
          "data": {
            "text/plain": [
              "False"
            ]
          },
          "metadata": {},
          "execution_count": 40
        }
      ]
    },
    {
      "cell_type": "code",
      "source": [
        "10>2"
      ],
      "metadata": {
        "colab": {
          "base_uri": "https://localhost:8080/"
        },
        "id": "qriB2XEOePGu",
        "outputId": "8b64955a-ebac-43d7-f647-13055c542afa"
      },
      "execution_count": null,
      "outputs": [
        {
          "output_type": "execute_result",
          "data": {
            "text/plain": [
              "True"
            ]
          },
          "metadata": {},
          "execution_count": 41
        }
      ]
    },
    {
      "cell_type": "code",
      "source": [
        "10<=10"
      ],
      "metadata": {
        "colab": {
          "base_uri": "https://localhost:8080/"
        },
        "id": "_LR6j642oUMP",
        "outputId": "79da9d3d-f93d-46f7-9d00-d1ef2658a036"
      },
      "execution_count": null,
      "outputs": [
        {
          "output_type": "execute_result",
          "data": {
            "text/plain": [
              "True"
            ]
          },
          "metadata": {},
          "execution_count": 67
        }
      ]
    },
    {
      "cell_type": "code",
      "source": [
        "#logical operator\n",
        "#and\n",
        "#or\n",
        "True and True"
      ],
      "metadata": {
        "colab": {
          "base_uri": "https://localhost:8080/"
        },
        "id": "VbgQAIcUeXGz",
        "outputId": "a2703811-6b35-4509-8b78-b0ad1388575b"
      },
      "execution_count": null,
      "outputs": [
        {
          "output_type": "execute_result",
          "data": {
            "text/plain": [
              "True"
            ]
          },
          "metadata": {},
          "execution_count": 44
        }
      ]
    },
    {
      "cell_type": "code",
      "source": [
        "False and False"
      ],
      "metadata": {
        "colab": {
          "base_uri": "https://localhost:8080/"
        },
        "id": "hVM8863sfUlN",
        "outputId": "f16e4d25-fead-43ee-d67b-0fbb4f0a3474"
      },
      "execution_count": null,
      "outputs": [
        {
          "output_type": "execute_result",
          "data": {
            "text/plain": [
              "False"
            ]
          },
          "metadata": {},
          "execution_count": 45
        }
      ]
    },
    {
      "cell_type": "code",
      "source": [
        "True and False"
      ],
      "metadata": {
        "colab": {
          "base_uri": "https://localhost:8080/"
        },
        "id": "SC1dTvLEo2Wm",
        "outputId": "5188abc3-3c3b-4871-be34-137e16cd05f6"
      },
      "execution_count": null,
      "outputs": [
        {
          "output_type": "execute_result",
          "data": {
            "text/plain": [
              "False"
            ]
          },
          "metadata": {},
          "execution_count": 68
        }
      ]
    },
    {
      "cell_type": "code",
      "source": [
        "True and False"
      ],
      "metadata": {
        "colab": {
          "base_uri": "https://localhost:8080/"
        },
        "id": "rvyJhulgpJAE",
        "outputId": "b0da53d0-1bf9-45f1-fca1-bbc190898fab"
      },
      "execution_count": null,
      "outputs": [
        {
          "output_type": "execute_result",
          "data": {
            "text/plain": [
              "False"
            ]
          },
          "metadata": {},
          "execution_count": 69
        }
      ]
    },
    {
      "cell_type": "code",
      "source": [
        "True or False"
      ],
      "metadata": {
        "colab": {
          "base_uri": "https://localhost:8080/"
        },
        "id": "TgQAAFrKqAu8",
        "outputId": "2a672ccc-3c3e-4975-d423-91c699de5b74"
      },
      "execution_count": null,
      "outputs": [
        {
          "output_type": "execute_result",
          "data": {
            "text/plain": [
              "True"
            ]
          },
          "metadata": {},
          "execution_count": 70
        }
      ]
    },
    {
      "cell_type": "code",
      "source": [
        "True or True"
      ],
      "metadata": {
        "colab": {
          "base_uri": "https://localhost:8080/"
        },
        "id": "iSKyTWYWqAO9",
        "outputId": "ccda77e1-8f8a-4fb7-f2f2-3d38063ad69b"
      },
      "execution_count": null,
      "outputs": [
        {
          "output_type": "execute_result",
          "data": {
            "text/plain": [
              "True"
            ]
          },
          "metadata": {},
          "execution_count": 71
        }
      ]
    },
    {
      "cell_type": "code",
      "source": [
        "False or False"
      ],
      "metadata": {
        "colab": {
          "base_uri": "https://localhost:8080/"
        },
        "id": "jadiK_1jp_zE",
        "outputId": "befdb434-2926-4ca3-d700-3d3c13efefd4"
      },
      "execution_count": null,
      "outputs": [
        {
          "output_type": "execute_result",
          "data": {
            "text/plain": [
              "False"
            ]
          },
          "metadata": {},
          "execution_count": 72
        }
      ]
    },
    {
      "cell_type": "code",
      "source": [
        "#not operator"
      ],
      "metadata": {
        "id": "2n5PnBQPfwAm"
      },
      "execution_count": null,
      "outputs": []
    },
    {
      "cell_type": "code",
      "source": [
        "not True"
      ],
      "metadata": {
        "colab": {
          "base_uri": "https://localhost:8080/"
        },
        "id": "VhXW41mwf5ft",
        "outputId": "cef44174-39c5-4992-e57d-d39b43dade88"
      },
      "execution_count": null,
      "outputs": [
        {
          "output_type": "execute_result",
          "data": {
            "text/plain": [
              "False"
            ]
          },
          "metadata": {},
          "execution_count": 47
        }
      ]
    },
    {
      "cell_type": "code",
      "source": [
        "not False"
      ],
      "metadata": {
        "colab": {
          "base_uri": "https://localhost:8080/"
        },
        "id": "5X-UEa_pgAFE",
        "outputId": "ecf20b82-09ed-45c5-d801-46e9aa272345"
      },
      "execution_count": null,
      "outputs": [
        {
          "output_type": "execute_result",
          "data": {
            "text/plain": [
              "True"
            ]
          },
          "metadata": {},
          "execution_count": 48
        }
      ]
    },
    {
      "cell_type": "code",
      "source": [
        "#assignment operator"
      ],
      "metadata": {
        "id": "1i_AsQN6gEYk"
      },
      "execution_count": null,
      "outputs": []
    },
    {
      "cell_type": "code",
      "source": [
        "a=19\n",
        "a"
      ],
      "metadata": {
        "colab": {
          "base_uri": "https://localhost:8080/"
        },
        "id": "yMze1_GWgKos",
        "outputId": "cc68c641-48ef-4edd-bace-11ed52c1da80"
      },
      "execution_count": null,
      "outputs": [
        {
          "output_type": "execute_result",
          "data": {
            "text/plain": [
              "19"
            ]
          },
          "metadata": {},
          "execution_count": 55
        }
      ]
    },
    {
      "cell_type": "code",
      "source": [
        "a+1"
      ],
      "metadata": {
        "colab": {
          "base_uri": "https://localhost:8080/"
        },
        "id": "afklDgw3gNct",
        "outputId": "72c7c84c-2d6b-4d72-d68b-ef7981a15bac"
      },
      "execution_count": null,
      "outputs": [
        {
          "output_type": "execute_result",
          "data": {
            "text/plain": [
              "20"
            ]
          },
          "metadata": {},
          "execution_count": 56
        }
      ]
    },
    {
      "cell_type": "code",
      "source": [
        "b=12\n",
        "b=b+4\n",
        "b"
      ],
      "metadata": {
        "colab": {
          "base_uri": "https://localhost:8080/"
        },
        "id": "tVPSYGEBgRoU",
        "outputId": "8833865a-f69e-4f13-c853-795f013b14c5"
      },
      "execution_count": null,
      "outputs": [
        {
          "output_type": "execute_result",
          "data": {
            "text/plain": [
              "16"
            ]
          },
          "metadata": {},
          "execution_count": 59
        }
      ]
    },
    {
      "cell_type": "code",
      "source": [
        "b=12\n",
        "b+=5\n",
        "b"
      ],
      "metadata": {
        "colab": {
          "base_uri": "https://localhost:8080/"
        },
        "id": "7Lio3rS5g_Fy",
        "outputId": "80a2c409-37ea-4a74-a9a5-c3832815d61d"
      },
      "execution_count": null,
      "outputs": [
        {
          "output_type": "execute_result",
          "data": {
            "text/plain": [
              "17"
            ]
          },
          "metadata": {},
          "execution_count": 60
        }
      ]
    },
    {
      "cell_type": "code",
      "source": [
        "b=12\n",
        "b-=5\n",
        "b"
      ],
      "metadata": {
        "colab": {
          "base_uri": "https://localhost:8080/"
        },
        "id": "tdRlDnUwhQPz",
        "outputId": "5bdc9f1a-2e46-4ca3-b5b0-fa3210fd3be8"
      },
      "execution_count": null,
      "outputs": [
        {
          "output_type": "execute_result",
          "data": {
            "text/plain": [
              "7"
            ]
          },
          "metadata": {},
          "execution_count": 77
        }
      ]
    },
    {
      "cell_type": "code",
      "source": [
        "b*=2\n",
        "b"
      ],
      "metadata": {
        "colab": {
          "base_uri": "https://localhost:8080/"
        },
        "id": "9Rr5C3dVhVoD",
        "outputId": "2e16dd23-f072-48c4-e298-fb5ce3341be9"
      },
      "execution_count": null,
      "outputs": [
        {
          "output_type": "execute_result",
          "data": {
            "text/plain": [
              "14"
            ]
          },
          "metadata": {},
          "execution_count": 78
        }
      ]
    },
    {
      "cell_type": "code",
      "source": [
        "b/=3\n",
        "b"
      ],
      "metadata": {
        "colab": {
          "base_uri": "https://localhost:8080/"
        },
        "id": "TP4j8BKhhdGS",
        "outputId": "46330aa9-929a-4edb-899b-4a15202ad63d"
      },
      "execution_count": null,
      "outputs": [
        {
          "output_type": "execute_result",
          "data": {
            "text/plain": [
              "4.666666666666667"
            ]
          },
          "metadata": {},
          "execution_count": 79
        }
      ]
    },
    {
      "cell_type": "code",
      "source": [
        "#membership operator\n",
        "a=\"baiscs\"\n",
        "\"b\" in a"
      ],
      "metadata": {
        "colab": {
          "base_uri": "https://localhost:8080/"
        },
        "id": "F5ozqHIhj51Y",
        "outputId": "1eb9806e-1204-4e4d-859f-9722f67335c9"
      },
      "execution_count": null,
      "outputs": [
        {
          "output_type": "execute_result",
          "data": {
            "text/plain": [
              "True"
            ]
          },
          "metadata": {},
          "execution_count": 81
        }
      ]
    },
    {
      "cell_type": "code",
      "source": [
        "\"b\" not in a"
      ],
      "metadata": {
        "colab": {
          "base_uri": "https://localhost:8080/"
        },
        "id": "FbgtiTaIrt21",
        "outputId": "82b6f553-22e2-46f2-b9eb-a66314277bf2"
      },
      "execution_count": null,
      "outputs": [
        {
          "output_type": "execute_result",
          "data": {
            "text/plain": [
              "False"
            ]
          },
          "metadata": {},
          "execution_count": 82
        }
      ]
    },
    {
      "cell_type": "code",
      "source": [
        "#identitity operator>> compares the location of two object/variable"
      ],
      "metadata": {
        "id": "4cntj3UAr9dF"
      },
      "execution_count": null,
      "outputs": []
    },
    {
      "cell_type": "code",
      "source": [
        "a=2\n",
        "b=3"
      ],
      "metadata": {
        "id": "VgGYOtSXs9kb"
      },
      "execution_count": null,
      "outputs": []
    },
    {
      "cell_type": "code",
      "source": [
        "a is b"
      ],
      "metadata": {
        "colab": {
          "base_uri": "https://localhost:8080/"
        },
        "id": "VjTerqsrtDhb",
        "outputId": "260fd114-c7ff-4166-d3f2-87671afcee40"
      },
      "execution_count": null,
      "outputs": [
        {
          "output_type": "execute_result",
          "data": {
            "text/plain": [
              "False"
            ]
          },
          "metadata": {},
          "execution_count": 85
        }
      ]
    },
    {
      "cell_type": "code",
      "source": [
        "a is not b"
      ],
      "metadata": {
        "colab": {
          "base_uri": "https://localhost:8080/"
        },
        "id": "AphGs6HjtF_c",
        "outputId": "3448e0ed-d57d-4e0e-e0fd-88800b7a31ef"
      },
      "execution_count": null,
      "outputs": [
        {
          "output_type": "execute_result",
          "data": {
            "text/plain": [
              "True"
            ]
          },
          "metadata": {},
          "execution_count": 86
        }
      ]
    },
    {
      "cell_type": "code",
      "source": [
        "a=2\n",
        "b=a"
      ],
      "metadata": {
        "id": "F0sZLccvtMQr"
      },
      "execution_count": null,
      "outputs": []
    },
    {
      "cell_type": "code",
      "source": [
        "a is b"
      ],
      "metadata": {
        "colab": {
          "base_uri": "https://localhost:8080/"
        },
        "id": "G78MTpC3tQMY",
        "outputId": "941d6bbd-7cad-4a5a-9c0e-ba0f67995623"
      },
      "execution_count": null,
      "outputs": [
        {
          "output_type": "execute_result",
          "data": {
            "text/plain": [
              "True"
            ]
          },
          "metadata": {},
          "execution_count": 88
        }
      ]
    },
    {
      "cell_type": "code",
      "source": [
        "#bitwise operator>> operation at bit level,manipulating individuals bits within integer"
      ],
      "metadata": {
        "id": "1W8DybJRtWub"
      },
      "execution_count": null,
      "outputs": []
    },
    {
      "cell_type": "code",
      "source": [
        "10&10"
      ],
      "metadata": {
        "colab": {
          "base_uri": "https://localhost:8080/"
        },
        "id": "8lPydzUUt5G6",
        "outputId": "5646456a-3502-4d08-b153-f96eff2f670b"
      },
      "execution_count": null,
      "outputs": [
        {
          "output_type": "execute_result",
          "data": {
            "text/plain": [
              "10"
            ]
          },
          "metadata": {},
          "execution_count": 90
        }
      ]
    },
    {
      "cell_type": "code",
      "source": [
        "bin(10)"
      ],
      "metadata": {
        "colab": {
          "base_uri": "https://localhost:8080/",
          "height": 35
        },
        "id": "lpPTmEc_x2kK",
        "outputId": "5373b7b9-c0bc-4fa2-cac5-8adc91eb788c"
      },
      "execution_count": null,
      "outputs": [
        {
          "output_type": "execute_result",
          "data": {
            "text/plain": [
              "'0b1010'"
            ],
            "application/vnd.google.colaboratory.intrinsic+json": {
              "type": "string"
            }
          },
          "metadata": {},
          "execution_count": 100
        }
      ]
    },
    {
      "cell_type": "code",
      "source": [
        "bin(10)"
      ],
      "metadata": {
        "colab": {
          "base_uri": "https://localhost:8080/",
          "height": 35
        },
        "id": "EUUoTivtx2QB",
        "outputId": "f9b9d64f-aed2-47e8-c627-b7b841cedf0e"
      },
      "execution_count": null,
      "outputs": [
        {
          "output_type": "execute_result",
          "data": {
            "text/plain": [
              "'0b1010'"
            ],
            "application/vnd.google.colaboratory.intrinsic+json": {
              "type": "string"
            }
          },
          "metadata": {},
          "execution_count": 101
        }
      ]
    },
    {
      "cell_type": "code",
      "source": [
        "bin(10)"
      ],
      "metadata": {
        "colab": {
          "base_uri": "https://localhost:8080/",
          "height": 35
        },
        "id": "Db6DEj_EvsaY",
        "outputId": "c5750a07-9906-4dd5-81a8-c2028a21bf97"
      },
      "execution_count": null,
      "outputs": [
        {
          "output_type": "execute_result",
          "data": {
            "text/plain": [
              "'0b1010'"
            ],
            "application/vnd.google.colaboratory.intrinsic+json": {
              "type": "string"
            }
          },
          "metadata": {},
          "execution_count": 91
        }
      ]
    },
    {
      "cell_type": "code",
      "source": [
        "18&3"
      ],
      "metadata": {
        "colab": {
          "base_uri": "https://localhost:8080/"
        },
        "id": "SY250xgVv6j2",
        "outputId": "ce4e0bdb-c6eb-4926-8042-f5d986f865ab"
      },
      "execution_count": null,
      "outputs": [
        {
          "output_type": "execute_result",
          "data": {
            "text/plain": [
              "2"
            ]
          },
          "metadata": {},
          "execution_count": 92
        }
      ]
    },
    {
      "cell_type": "code",
      "source": [
        "bin(18)"
      ],
      "metadata": {
        "colab": {
          "base_uri": "https://localhost:8080/",
          "height": 35
        },
        "id": "2KlXEr0pyCeR",
        "outputId": "d2d17d9e-1d8b-48da-a527-46869d3f5aa8"
      },
      "execution_count": null,
      "outputs": [
        {
          "output_type": "execute_result",
          "data": {
            "text/plain": [
              "'0b10010'"
            ],
            "application/vnd.google.colaboratory.intrinsic+json": {
              "type": "string"
            }
          },
          "metadata": {},
          "execution_count": 102
        }
      ]
    },
    {
      "cell_type": "code",
      "source": [
        "bin(3)"
      ],
      "metadata": {
        "colab": {
          "base_uri": "https://localhost:8080/",
          "height": 35
        },
        "id": "qiQnw3qlyCVI",
        "outputId": "d770a46d-225e-4490-af88-cdefa2c7b99b"
      },
      "execution_count": null,
      "outputs": [
        {
          "output_type": "execute_result",
          "data": {
            "text/plain": [
              "'0b11'"
            ],
            "application/vnd.google.colaboratory.intrinsic+json": {
              "type": "string"
            }
          },
          "metadata": {},
          "execution_count": 103
        }
      ]
    },
    {
      "cell_type": "code",
      "source": [
        "bin(2)"
      ],
      "metadata": {
        "colab": {
          "base_uri": "https://localhost:8080/",
          "height": 35
        },
        "id": "zA68u0MUwA-_",
        "outputId": "d8caf5e6-d53d-4d53-8d5b-5b50a37c3fec"
      },
      "execution_count": null,
      "outputs": [
        {
          "output_type": "execute_result",
          "data": {
            "text/plain": [
              "'0b10'"
            ],
            "application/vnd.google.colaboratory.intrinsic+json": {
              "type": "string"
            }
          },
          "metadata": {},
          "execution_count": 93
        }
      ]
    },
    {
      "cell_type": "code",
      "source": [
        "3|5"
      ],
      "metadata": {
        "colab": {
          "base_uri": "https://localhost:8080/"
        },
        "id": "IYn5PmWowFEu",
        "outputId": "defbc94e-e8c6-47b0-e66e-7575a829921b"
      },
      "execution_count": null,
      "outputs": [
        {
          "output_type": "execute_result",
          "data": {
            "text/plain": [
              "7"
            ]
          },
          "metadata": {},
          "execution_count": 94
        }
      ]
    },
    {
      "cell_type": "code",
      "source": [
        "bin(7)"
      ],
      "metadata": {
        "colab": {
          "base_uri": "https://localhost:8080/",
          "height": 35
        },
        "id": "6azh0Nw9wdXv",
        "outputId": "8be9e898-7f79-4c55-e21d-94750304591c"
      },
      "execution_count": null,
      "outputs": [
        {
          "output_type": "execute_result",
          "data": {
            "text/plain": [
              "'0b111'"
            ],
            "application/vnd.google.colaboratory.intrinsic+json": {
              "type": "string"
            }
          },
          "metadata": {},
          "execution_count": 95
        }
      ]
    },
    {
      "cell_type": "code",
      "source": [
        "#negation"
      ],
      "metadata": {
        "id": "cDccY-p0wh2e"
      },
      "execution_count": null,
      "outputs": []
    },
    {
      "cell_type": "code",
      "source": [
        "~3"
      ],
      "metadata": {
        "colab": {
          "base_uri": "https://localhost:8080/"
        },
        "id": "N1E1Wvgswufu",
        "outputId": "43a686fe-bbb4-49dc-a78c-5f32ceecc2cb"
      },
      "execution_count": null,
      "outputs": [
        {
          "output_type": "execute_result",
          "data": {
            "text/plain": [
              "-4"
            ]
          },
          "metadata": {},
          "execution_count": 97
        }
      ]
    },
    {
      "cell_type": "code",
      "source": [
        "~100"
      ],
      "metadata": {
        "colab": {
          "base_uri": "https://localhost:8080/"
        },
        "id": "TSS79A7Wwzeg",
        "outputId": "f1760ea2-a19a-49fd-c250-f05ef52ec9a3"
      },
      "execution_count": null,
      "outputs": [
        {
          "output_type": "execute_result",
          "data": {
            "text/plain": [
              "-101"
            ]
          },
          "metadata": {},
          "execution_count": 98
        }
      ]
    },
    {
      "cell_type": "code",
      "source": [
        "#bitwise xor operator>>^\n",
        "5^3"
      ],
      "metadata": {
        "colab": {
          "base_uri": "https://localhost:8080/"
        },
        "id": "JSTuzXSVxGlm",
        "outputId": "30105a65-8b48-4973-fa21-7bfc382ee7e6"
      },
      "execution_count": null,
      "outputs": [
        {
          "output_type": "execute_result",
          "data": {
            "text/plain": [
              "6"
            ]
          },
          "metadata": {},
          "execution_count": 99
        }
      ]
    },
    {
      "cell_type": "code",
      "source": [
        "bin(6)"
      ],
      "metadata": {
        "colab": {
          "base_uri": "https://localhost:8080/",
          "height": 35
        },
        "id": "zzMh_ZRDxfI2",
        "outputId": "00a6adac-6c10-4d15-e2f3-9588cbd149be"
      },
      "execution_count": null,
      "outputs": [
        {
          "output_type": "execute_result",
          "data": {
            "text/plain": [
              "'0b110'"
            ],
            "application/vnd.google.colaboratory.intrinsic+json": {
              "type": "string"
            }
          },
          "metadata": {},
          "execution_count": 104
        }
      ]
    },
    {
      "cell_type": "code",
      "source": [
        "#h/w2^6"
      ],
      "metadata": {
        "id": "J8UiVy79yNXk"
      },
      "execution_count": null,
      "outputs": []
    },
    {
      "cell_type": "code",
      "source": [
        "#shift>> left shift right shift"
      ],
      "metadata": {
        "id": "OrUwUTlzyf5M"
      },
      "execution_count": null,
      "outputs": []
    },
    {
      "cell_type": "code",
      "source": [
        "#shift>> shifts the bits by left or right"
      ],
      "metadata": {
        "id": "yMrXpkZdy2d4"
      },
      "execution_count": null,
      "outputs": []
    },
    {
      "cell_type": "code",
      "source": [
        "#left shift--<< shifts the bits to the by a specified nonof position,filling 0's of the rights"
      ],
      "metadata": {
        "id": "RPsgOWNXyscJ"
      },
      "execution_count": null,
      "outputs": []
    },
    {
      "cell_type": "code",
      "source": [
        "35<<3"
      ],
      "metadata": {
        "colab": {
          "base_uri": "https://localhost:8080/"
        },
        "id": "KGae7wnPyjI8",
        "outputId": "e62cd3db-cbf2-41c6-d6c6-f63945b730ca"
      },
      "execution_count": null,
      "outputs": [
        {
          "output_type": "execute_result",
          "data": {
            "text/plain": [
              "280"
            ]
          },
          "metadata": {},
          "execution_count": 108
        }
      ]
    },
    {
      "cell_type": "code",
      "source": [
        "bin(280)"
      ],
      "metadata": {
        "colab": {
          "base_uri": "https://localhost:8080/",
          "height": 35
        },
        "id": "K7UYpFH8zeW7",
        "outputId": "52bd3529-3314-447f-da57-3643c2e09a45"
      },
      "execution_count": null,
      "outputs": [
        {
          "output_type": "execute_result",
          "data": {
            "text/plain": [
              "'0b100011000'"
            ],
            "application/vnd.google.colaboratory.intrinsic+json": {
              "type": "string"
            }
          },
          "metadata": {},
          "execution_count": 109
        }
      ]
    },
    {
      "cell_type": "code",
      "source": [
        "5<<1 #left shift bt 1"
      ],
      "metadata": {
        "colab": {
          "base_uri": "https://localhost:8080/"
        },
        "id": "yWdUsLxEziiz",
        "outputId": "83c13306-1940-47e5-85e9-4c9e971e97bb"
      },
      "execution_count": null,
      "outputs": [
        {
          "output_type": "execute_result",
          "data": {
            "text/plain": [
              "10"
            ]
          },
          "metadata": {},
          "execution_count": 110
        }
      ]
    },
    {
      "cell_type": "code",
      "source": [
        "bin(10)"
      ],
      "metadata": {
        "colab": {
          "base_uri": "https://localhost:8080/",
          "height": 35
        },
        "id": "hqY-9rIJz6tS",
        "outputId": "1cf94deb-5e0c-4376-e614-deab8e80d5e8"
      },
      "execution_count": null,
      "outputs": [
        {
          "output_type": "execute_result",
          "data": {
            "text/plain": [
              "'0b1010'"
            ],
            "application/vnd.google.colaboratory.intrinsic+json": {
              "type": "string"
            }
          },
          "metadata": {},
          "execution_count": 111
        }
      ]
    },
    {
      "cell_type": "code",
      "source": [
        "#right shift operator>> remove the no of elements in the binary"
      ],
      "metadata": {
        "id": "0DLepFyC0Cx-"
      },
      "execution_count": null,
      "outputs": []
    },
    {
      "cell_type": "code",
      "source": [
        "280>>3"
      ],
      "metadata": {
        "colab": {
          "base_uri": "https://localhost:8080/"
        },
        "id": "gjqkGhIRz9AT",
        "outputId": "a4e85e54-bed2-4f1e-99bf-9f6280f3f478"
      },
      "execution_count": null,
      "outputs": [
        {
          "output_type": "execute_result",
          "data": {
            "text/plain": [
              "35"
            ]
          },
          "metadata": {},
          "execution_count": 113
        }
      ]
    },
    {
      "cell_type": "code",
      "source": [
        "bin(35)"
      ],
      "metadata": {
        "colab": {
          "base_uri": "https://localhost:8080/",
          "height": 35
        },
        "id": "ljabJKKt0Lca",
        "outputId": "51ed9c9b-e095-430c-a5fb-ea728d3e8b05"
      },
      "execution_count": null,
      "outputs": [
        {
          "output_type": "execute_result",
          "data": {
            "text/plain": [
              "'0b100011'"
            ],
            "application/vnd.google.colaboratory.intrinsic+json": {
              "type": "string"
            }
          },
          "metadata": {},
          "execution_count": 114
        }
      ]
    },
    {
      "cell_type": "code",
      "source": [
        "#order of precedence\n",
        "#execution of python statement will be from left to right"
      ],
      "metadata": {
        "id": "E9Gonbjr0fjh"
      },
      "execution_count": null,
      "outputs": []
    },
    {
      "cell_type": "code",
      "source": [
        "b=5\n",
        "b+=8\n",
        "b"
      ],
      "metadata": {
        "colab": {
          "base_uri": "https://localhost:8080/"
        },
        "id": "kEDkxB3b1BEw",
        "outputId": "4f5a1c44-bae2-48a8-c22d-8420b2455c1e"
      },
      "execution_count": null,
      "outputs": [
        {
          "output_type": "execute_result",
          "data": {
            "text/plain": [
              "13"
            ]
          },
          "metadata": {},
          "execution_count": 116
        }
      ]
    },
    {
      "cell_type": "code",
      "source": [
        "2+3-8"
      ],
      "metadata": {
        "colab": {
          "base_uri": "https://localhost:8080/"
        },
        "id": "xS4f--if1HuI",
        "outputId": "5abb8cab-872d-48e3-a276-867af15daa8f"
      },
      "execution_count": null,
      "outputs": [
        {
          "output_type": "execute_result",
          "data": {
            "text/plain": [
              "-3"
            ]
          },
          "metadata": {},
          "execution_count": 117
        }
      ]
    },
    {
      "cell_type": "code",
      "source": [
        "#always parenthesis\n",
        "(5+3)-4"
      ],
      "metadata": {
        "colab": {
          "base_uri": "https://localhost:8080/"
        },
        "id": "_ArkDnfN1T2I",
        "outputId": "875459cf-17c2-4cf0-a906-422aded693b2"
      },
      "execution_count": null,
      "outputs": [
        {
          "output_type": "execute_result",
          "data": {
            "text/plain": [
              "4"
            ]
          },
          "metadata": {},
          "execution_count": 118
        }
      ]
    },
    {
      "cell_type": "code",
      "source": [
        "4-(3+5)"
      ],
      "metadata": {
        "colab": {
          "base_uri": "https://localhost:8080/"
        },
        "id": "ENqPbwiE1eLY",
        "outputId": "1933d693-0077-4700-dbe0-e4d02db08bb5"
      },
      "execution_count": null,
      "outputs": [
        {
          "output_type": "execute_result",
          "data": {
            "text/plain": [
              "-4"
            ]
          },
          "metadata": {},
          "execution_count": 119
        }
      ]
    },
    {
      "cell_type": "code",
      "source": [
        "#5 explain the concept of type casting in python with examples"
      ],
      "metadata": {
        "id": "idrPoQsm1isV"
      },
      "execution_count": null,
      "outputs": []
    },
    {
      "cell_type": "code",
      "source": [
        "2+3"
      ],
      "metadata": {
        "id": "KfJ_h98N2ZjE",
        "colab": {
          "base_uri": "https://localhost:8080/"
        },
        "outputId": "fdde42e8-81bc-40ad-b7e7-d5491e29d938"
      },
      "execution_count": null,
      "outputs": [
        {
          "output_type": "execute_result",
          "data": {
            "text/plain": [
              "5"
            ]
          },
          "metadata": {},
          "execution_count": 1
        }
      ]
    },
    {
      "cell_type": "code",
      "source": [
        "type(\"2\")"
      ],
      "metadata": {
        "colab": {
          "base_uri": "https://localhost:8080/"
        },
        "id": "ORcjV941hEh7",
        "outputId": "0c1dde94-0768-4992-ef36-dd3fac739224"
      },
      "execution_count": null,
      "outputs": [
        {
          "output_type": "execute_result",
          "data": {
            "text/plain": [
              "str"
            ]
          },
          "metadata": {},
          "execution_count": 4
        }
      ]
    },
    {
      "cell_type": "code",
      "source": [
        "\"2\"+3"
      ],
      "metadata": {
        "id": "Y3v_lUG32Zfd",
        "colab": {
          "base_uri": "https://localhost:8080/",
          "height": 141
        },
        "outputId": "035d526f-7a0d-41b7-a74a-8ef29ee1de99"
      },
      "execution_count": null,
      "outputs": [
        {
          "output_type": "error",
          "ename": "TypeError",
          "evalue": "can only concatenate str (not \"int\") to str",
          "traceback": [
            "\u001b[0;31m---------------------------------------------------------------------------\u001b[0m",
            "\u001b[0;31mTypeError\u001b[0m                                 Traceback (most recent call last)",
            "\u001b[0;32m<ipython-input-2-3ef4f97ea758>\u001b[0m in \u001b[0;36m<cell line: 1>\u001b[0;34m()\u001b[0m\n\u001b[0;32m----> 1\u001b[0;31m \u001b[0;34m\"2\"\u001b[0m\u001b[0;34m+\u001b[0m\u001b[0;36m3\u001b[0m\u001b[0;34m\u001b[0m\u001b[0;34m\u001b[0m\u001b[0m\n\u001b[0m",
            "\u001b[0;31mTypeError\u001b[0m: can only concatenate str (not \"int\") to str"
          ]
        }
      ]
    },
    {
      "cell_type": "code",
      "source": [
        "#type casting/type conversion>> the preocess of changing the data type of a value/ object\n",
        "#why? while executing/comutation using operators,there can be mismatch between the datatype"
      ],
      "metadata": {
        "id": "7bY156fOg4wt"
      },
      "execution_count": null,
      "outputs": []
    },
    {
      "cell_type": "code",
      "source": [
        "a=\"2\"\n",
        "b=3\n",
        "int(a)+b"
      ],
      "metadata": {
        "id": "UNxaB44V2ZH9",
        "colab": {
          "base_uri": "https://localhost:8080/"
        },
        "outputId": "93ae3b2d-6fce-4978-d36d-765e67db43c3"
      },
      "execution_count": null,
      "outputs": [
        {
          "output_type": "execute_result",
          "data": {
            "text/plain": [
              "5"
            ]
          },
          "metadata": {},
          "execution_count": 6
        }
      ]
    },
    {
      "cell_type": "code",
      "source": [
        "#string to integer"
      ],
      "metadata": {
        "id": "jClUT-wgkh5Y"
      },
      "execution_count": null,
      "outputs": []
    },
    {
      "cell_type": "code",
      "source": [
        "a=\"2\"\n",
        "print(type(a))\n",
        "print(type(int(a)))"
      ],
      "metadata": {
        "colab": {
          "base_uri": "https://localhost:8080/"
        },
        "id": "UdxGvtrnjqWJ",
        "outputId": "a340ab27-d9c2-4e8d-ba28-93bf50cb3225"
      },
      "execution_count": null,
      "outputs": [
        {
          "output_type": "stream",
          "name": "stdout",
          "text": [
            "<class 'str'>\n",
            "<class 'int'>\n"
          ]
        }
      ]
    },
    {
      "cell_type": "code",
      "source": [
        "#float to integer"
      ],
      "metadata": {
        "id": "NQNQjrhlmP1l"
      },
      "execution_count": null,
      "outputs": []
    },
    {
      "cell_type": "code",
      "source": [
        "a=3.4\n",
        "type(a)"
      ],
      "metadata": {
        "colab": {
          "base_uri": "https://localhost:8080/"
        },
        "id": "lhNdafEZkWAk",
        "outputId": "11b3f41b-2d42-4b4b-9b5d-d1d5086f2ae6"
      },
      "execution_count": null,
      "outputs": [
        {
          "output_type": "execute_result",
          "data": {
            "text/plain": [
              "float"
            ]
          },
          "metadata": {},
          "execution_count": 8
        }
      ]
    },
    {
      "cell_type": "code",
      "source": [
        "a"
      ],
      "metadata": {
        "colab": {
          "base_uri": "https://localhost:8080/"
        },
        "id": "Dq1OGG7slHkq",
        "outputId": "8fab1ae1-8f93-4433-e025-0984c690dad2"
      },
      "execution_count": null,
      "outputs": [
        {
          "output_type": "execute_result",
          "data": {
            "text/plain": [
              "3.4"
            ]
          },
          "metadata": {},
          "execution_count": 9
        }
      ]
    },
    {
      "cell_type": "code",
      "source": [
        "int(a)"
      ],
      "metadata": {
        "colab": {
          "base_uri": "https://localhost:8080/"
        },
        "id": "kwOnGVqmlNoz",
        "outputId": "054c5d33-aa20-4997-bf5b-d133d360ba63"
      },
      "execution_count": null,
      "outputs": [
        {
          "output_type": "execute_result",
          "data": {
            "text/plain": [
              "3"
            ]
          },
          "metadata": {},
          "execution_count": 10
        }
      ]
    },
    {
      "cell_type": "code",
      "source": [
        "b=6.34\n",
        "type(b)\n",
        "float_value=int(b)\n",
        "type(float_value)"
      ],
      "metadata": {
        "colab": {
          "base_uri": "https://localhost:8080/"
        },
        "id": "-0A5obqjlQzy",
        "outputId": "7be6d874-9b66-47a3-8ea2-f43701e00612"
      },
      "execution_count": null,
      "outputs": [
        {
          "output_type": "execute_result",
          "data": {
            "text/plain": [
              "int"
            ]
          },
          "metadata": {},
          "execution_count": 11
        }
      ]
    },
    {
      "cell_type": "code",
      "source": [
        "#integer to fload"
      ],
      "metadata": {
        "id": "bKvK4qGwl0KB"
      },
      "execution_count": null,
      "outputs": []
    },
    {
      "cell_type": "code",
      "source": [
        "a=2\n",
        "type(a)"
      ],
      "metadata": {
        "colab": {
          "base_uri": "https://localhost:8080/"
        },
        "id": "gJthqLPEmfgz",
        "outputId": "0112cc99-2c7d-4e91-9291-689a3475895a"
      },
      "execution_count": null,
      "outputs": [
        {
          "output_type": "execute_result",
          "data": {
            "text/plain": [
              "int"
            ]
          },
          "metadata": {},
          "execution_count": 14
        }
      ]
    },
    {
      "cell_type": "code",
      "source": [
        "b=float(a)\n",
        "b"
      ],
      "metadata": {
        "colab": {
          "base_uri": "https://localhost:8080/"
        },
        "id": "9JoI9WQqmmK-",
        "outputId": "274d2110-de24-444d-aec7-c21c4054b68c"
      },
      "execution_count": null,
      "outputs": [
        {
          "output_type": "execute_result",
          "data": {
            "text/plain": [
              "2.0"
            ]
          },
          "metadata": {},
          "execution_count": 16
        }
      ]
    },
    {
      "cell_type": "code",
      "source": [
        "type(b)"
      ],
      "metadata": {
        "colab": {
          "base_uri": "https://localhost:8080/"
        },
        "id": "K-_0liJ4mxMw",
        "outputId": "73996845-1fad-484c-f49f-0366db6601c1"
      },
      "execution_count": null,
      "outputs": [
        {
          "output_type": "execute_result",
          "data": {
            "text/plain": [
              "float"
            ]
          },
          "metadata": {},
          "execution_count": 17
        }
      ]
    },
    {
      "cell_type": "code",
      "source": [
        "#string to float\n",
        "a=\"2.3\"\n",
        "type(a)"
      ],
      "metadata": {
        "colab": {
          "base_uri": "https://localhost:8080/"
        },
        "id": "EqeWcQ9znC1Q",
        "outputId": "ed8b82c5-157c-4599-b5ee-fa5881c6fa3e"
      },
      "execution_count": null,
      "outputs": [
        {
          "output_type": "execute_result",
          "data": {
            "text/plain": [
              "str"
            ]
          },
          "metadata": {},
          "execution_count": 18
        }
      ]
    },
    {
      "cell_type": "code",
      "source": [
        "b=float(a)\n",
        "type(b)"
      ],
      "metadata": {
        "colab": {
          "base_uri": "https://localhost:8080/"
        },
        "id": "iKTKBC-lnRCv",
        "outputId": "7392f3b6-69dd-45c2-8fe6-fbe4b9ffcc6d"
      },
      "execution_count": null,
      "outputs": [
        {
          "output_type": "execute_result",
          "data": {
            "text/plain": [
              "float"
            ]
          },
          "metadata": {},
          "execution_count": 19
        }
      ]
    },
    {
      "cell_type": "code",
      "source": [
        "a=\"tanya\" #character cannot be converted into number\n",
        "type(a)"
      ],
      "metadata": {
        "colab": {
          "base_uri": "https://localhost:8080/"
        },
        "id": "3BWNag_5nd-I",
        "outputId": "f5a4c247-4dd1-4d51-9884-d65236a33395"
      },
      "execution_count": null,
      "outputs": [
        {
          "output_type": "execute_result",
          "data": {
            "text/plain": [
              "str"
            ]
          },
          "metadata": {},
          "execution_count": 20
        }
      ]
    },
    {
      "cell_type": "code",
      "source": [
        "#integer to string\n",
        "a=5\n",
        "type(a)"
      ],
      "metadata": {
        "colab": {
          "base_uri": "https://localhost:8080/"
        },
        "id": "Vt868Hfgn-Vn",
        "outputId": "e2edcba8-a786-4bc9-ebdd-63d428c658cc"
      },
      "execution_count": null,
      "outputs": [
        {
          "output_type": "execute_result",
          "data": {
            "text/plain": [
              "int"
            ]
          },
          "metadata": {},
          "execution_count": 21
        }
      ]
    },
    {
      "cell_type": "code",
      "source": [
        "#typecasting>> implicit and explicit"
      ],
      "metadata": {
        "id": "Qw6ODtCnoPr3"
      },
      "execution_count": null,
      "outputs": []
    },
    {
      "cell_type": "code",
      "source": [
        "#implicit typecasting>>python understand the datatype\n",
        "a=5\n",
        "type(a)"
      ],
      "metadata": {
        "colab": {
          "base_uri": "https://localhost:8080/"
        },
        "id": "Lr6QtDT_oij4",
        "outputId": "e55ee6d9-aa6f-4091-adee-5e186e443597"
      },
      "execution_count": null,
      "outputs": [
        {
          "output_type": "execute_result",
          "data": {
            "text/plain": [
              "int"
            ]
          },
          "metadata": {},
          "execution_count": 23
        }
      ]
    },
    {
      "cell_type": "code",
      "source": [
        "2+3"
      ],
      "metadata": {
        "colab": {
          "base_uri": "https://localhost:8080/"
        },
        "id": "hgsnCezkoxmN",
        "outputId": "a7468e06-eb6a-4767-ed32-71ed767505aa"
      },
      "execution_count": null,
      "outputs": [
        {
          "output_type": "execute_result",
          "data": {
            "text/plain": [
              "5"
            ]
          },
          "metadata": {},
          "execution_count": 24
        }
      ]
    },
    {
      "cell_type": "code",
      "source": [
        "2+4.5"
      ],
      "metadata": {
        "colab": {
          "base_uri": "https://localhost:8080/"
        },
        "id": "wdZoSgNNpGzs",
        "outputId": "89422d00-7294-40ab-8afd-c022ba7afbdb"
      },
      "execution_count": null,
      "outputs": [
        {
          "output_type": "execute_result",
          "data": {
            "text/plain": [
              "6.5"
            ]
          },
          "metadata": {},
          "execution_count": 25
        }
      ]
    },
    {
      "cell_type": "code",
      "source": [
        "#explicit typecasting>> convert data type using inbuilt functiond>> str,int,float,bool\n",
        "a=\"2\"\n",
        "type(a)"
      ],
      "metadata": {
        "colab": {
          "base_uri": "https://localhost:8080/"
        },
        "id": "_IfSmw5FpJC0",
        "outputId": "151ab7e9-326b-4bf0-ae76-82d1722d1645"
      },
      "execution_count": null,
      "outputs": [
        {
          "output_type": "execute_result",
          "data": {
            "text/plain": [
              "str"
            ]
          },
          "metadata": {},
          "execution_count": 26
        }
      ]
    },
    {
      "cell_type": "code",
      "source": [
        "int(a)"
      ],
      "metadata": {
        "colab": {
          "base_uri": "https://localhost:8080/"
        },
        "id": "ep1abJGhpc3k",
        "outputId": "9eb0b910-9694-4897-c718-0a3f89ab6733"
      },
      "execution_count": null,
      "outputs": [
        {
          "output_type": "execute_result",
          "data": {
            "text/plain": [
              "2"
            ]
          },
          "metadata": {},
          "execution_count": 27
        }
      ]
    },
    {
      "cell_type": "code",
      "source": [
        "float(a)"
      ],
      "metadata": {
        "colab": {
          "base_uri": "https://localhost:8080/"
        },
        "id": "uZ4-MQ1-pg8l",
        "outputId": "65e6c197-e8d8-406c-fe42-5dbce8f18971"
      },
      "execution_count": null,
      "outputs": [
        {
          "output_type": "execute_result",
          "data": {
            "text/plain": [
              "2.0"
            ]
          },
          "metadata": {},
          "execution_count": 28
        }
      ]
    },
    {
      "cell_type": "code",
      "source": [
        "#concatenation of string>> meaning combine the string"
      ],
      "metadata": {
        "id": "LcxnYzoqq9vO"
      },
      "execution_count": null,
      "outputs": []
    },
    {
      "cell_type": "code",
      "source": [
        "a=\"tanya\"\n",
        "b=3\n",
        "a+b"
      ],
      "metadata": {
        "colab": {
          "base_uri": "https://localhost:8080/",
          "height": 176
        },
        "id": "tCoCuSNspk_E",
        "outputId": "c88cdbc5-9e94-4d5b-95a7-e583d9e43331"
      },
      "execution_count": null,
      "outputs": [
        {
          "output_type": "error",
          "ename": "TypeError",
          "evalue": "can only concatenate str (not \"int\") to str",
          "traceback": [
            "\u001b[0;31m---------------------------------------------------------------------------\u001b[0m",
            "\u001b[0;31mTypeError\u001b[0m                                 Traceback (most recent call last)",
            "\u001b[0;32m<ipython-input-29-d445c1390476>\u001b[0m in \u001b[0;36m<cell line: 3>\u001b[0;34m()\u001b[0m\n\u001b[1;32m      1\u001b[0m \u001b[0ma\u001b[0m\u001b[0;34m=\u001b[0m\u001b[0;34m\"tanya\"\u001b[0m\u001b[0;34m\u001b[0m\u001b[0;34m\u001b[0m\u001b[0m\n\u001b[1;32m      2\u001b[0m \u001b[0mb\u001b[0m\u001b[0;34m=\u001b[0m\u001b[0;36m3\u001b[0m\u001b[0;34m\u001b[0m\u001b[0;34m\u001b[0m\u001b[0m\n\u001b[0;32m----> 3\u001b[0;31m \u001b[0ma\u001b[0m\u001b[0;34m+\u001b[0m\u001b[0mb\u001b[0m\u001b[0;34m\u001b[0m\u001b[0;34m\u001b[0m\u001b[0m\n\u001b[0m",
            "\u001b[0;31mTypeError\u001b[0m: can only concatenate str (not \"int\") to str"
          ]
        }
      ]
    },
    {
      "cell_type": "code",
      "source": [
        "a=\"tanya\"\n",
        "b=\" tenguriya\"\n",
        "a+b"
      ],
      "metadata": {
        "colab": {
          "base_uri": "https://localhost:8080/",
          "height": 35
        },
        "id": "YK_ApDaspzxL",
        "outputId": "a8749dde-20e2-4316-d3bd-823a99932692"
      },
      "execution_count": null,
      "outputs": [
        {
          "output_type": "execute_result",
          "data": {
            "text/plain": [
              "'tanya tenguriya'"
            ],
            "application/vnd.google.colaboratory.intrinsic+json": {
              "type": "string"
            }
          },
          "metadata": {},
          "execution_count": 31
        }
      ]
    },
    {
      "cell_type": "code",
      "source": [
        "#bool>> only zero and empty string will be false\n",
        "bool(0)"
      ],
      "metadata": {
        "colab": {
          "base_uri": "https://localhost:8080/"
        },
        "id": "OgX9saZTqx65",
        "outputId": "43b9c17a-1d87-4285-e688-53eb0659ec25"
      },
      "execution_count": null,
      "outputs": [
        {
          "output_type": "execute_result",
          "data": {
            "text/plain": [
              "False"
            ]
          },
          "metadata": {},
          "execution_count": 32
        }
      ]
    },
    {
      "cell_type": "code",
      "source": [
        "bool(1)"
      ],
      "metadata": {
        "colab": {
          "base_uri": "https://localhost:8080/"
        },
        "id": "ADfoYdiHsFIq",
        "outputId": "6eb527c4-4fa7-45cc-eb46-07145dc94041"
      },
      "execution_count": null,
      "outputs": [
        {
          "output_type": "execute_result",
          "data": {
            "text/plain": [
              "True"
            ]
          },
          "metadata": {},
          "execution_count": 33
        }
      ]
    },
    {
      "cell_type": "code",
      "source": [
        "bool(100)"
      ],
      "metadata": {
        "colab": {
          "base_uri": "https://localhost:8080/"
        },
        "id": "P1MTko3IsI3a",
        "outputId": "f41159a9-1300-478e-fdc9-6608589c8bf6"
      },
      "execution_count": null,
      "outputs": [
        {
          "output_type": "execute_result",
          "data": {
            "text/plain": [
              "True"
            ]
          },
          "metadata": {},
          "execution_count": 34
        }
      ]
    },
    {
      "cell_type": "code",
      "source": [
        "bool(-20)"
      ],
      "metadata": {
        "colab": {
          "base_uri": "https://localhost:8080/"
        },
        "id": "GVJE9BhrsNY5",
        "outputId": "a8de2375-d0f0-4153-bd9e-d76cd9e4e711"
      },
      "execution_count": null,
      "outputs": [
        {
          "output_type": "execute_result",
          "data": {
            "text/plain": [
              "True"
            ]
          },
          "metadata": {},
          "execution_count": 35
        }
      ]
    },
    {
      "cell_type": "code",
      "source": [
        "bool(\"tanya\")"
      ],
      "metadata": {
        "colab": {
          "base_uri": "https://localhost:8080/"
        },
        "id": "QQJ_wIM_sTzx",
        "outputId": "98f0e408-c8a3-4b1e-efce-c70014f64b95"
      },
      "execution_count": null,
      "outputs": [
        {
          "output_type": "execute_result",
          "data": {
            "text/plain": [
              "True"
            ]
          },
          "metadata": {},
          "execution_count": 36
        }
      ]
    },
    {
      "cell_type": "code",
      "source": [
        "bool(\"\")  #empty string"
      ],
      "metadata": {
        "colab": {
          "base_uri": "https://localhost:8080/"
        },
        "id": "e77SG6kysg0s",
        "outputId": "644ff5b9-99ee-4922-a424-0058980ae9c2"
      },
      "execution_count": null,
      "outputs": [
        {
          "output_type": "execute_result",
          "data": {
            "text/plain": [
              "False"
            ]
          },
          "metadata": {},
          "execution_count": 37
        }
      ]
    },
    {
      "cell_type": "code",
      "source": [
        "#6 how do conditional statement work in python? illustrate with example."
      ],
      "metadata": {
        "id": "wXSbK6A3ssha"
      },
      "execution_count": null,
      "outputs": []
    },
    {
      "cell_type": "markdown",
      "source": [
        "6.**how do conditional statemant work in python? illustrate with example.**"
      ],
      "metadata": {
        "id": "KlCFx5OF6y-W"
      }
    },
    {
      "cell_type": "code",
      "source": [
        "#conditional statement>> helps you to code decisions based on some preconditions\n",
        "#if\n",
        "#if else\n",
        "#if elif(elseif)else\n",
        "#nested if else"
      ],
      "metadata": {
        "id": "GezpJQ__uOBr"
      },
      "execution_count": null,
      "outputs": []
    },
    {
      "cell_type": "code",
      "source": [
        "#if statement\n",
        "#syntax\n",
        "#if condition True:\n",
        "# block of code will be executed"
      ],
      "metadata": {
        "id": "THI4Xy1suN-C"
      },
      "execution_count": null,
      "outputs": []
    },
    {
      "cell_type": "code",
      "source": [
        "#the if statement is used to test a condition. if the condition evaluates to true ,the code block under the if statement is executed"
      ],
      "metadata": {
        "id": "3zTll8CHrWuG"
      },
      "execution_count": null,
      "outputs": []
    },
    {
      "cell_type": "code",
      "source": [
        "3>4"
      ],
      "metadata": {
        "colab": {
          "base_uri": "https://localhost:8080/"
        },
        "id": "wRqwIGsJuN6B",
        "outputId": "81d3a61f-ba51-49b6-b2df-c86082d28190"
      },
      "execution_count": null,
      "outputs": [
        {
          "output_type": "execute_result",
          "data": {
            "text/plain": [
              "False"
            ]
          },
          "metadata": {},
          "execution_count": 40
        }
      ]
    },
    {
      "cell_type": "code",
      "source": [
        "1<2"
      ],
      "metadata": {
        "colab": {
          "base_uri": "https://localhost:8080/"
        },
        "id": "LOWGx7d8uN0a",
        "outputId": "265abefa-c295-4a99-8229-c0fa8db1cb70"
      },
      "execution_count": null,
      "outputs": [
        {
          "output_type": "execute_result",
          "data": {
            "text/plain": [
              "True"
            ]
          },
          "metadata": {},
          "execution_count": 41
        }
      ]
    },
    {
      "cell_type": "code",
      "source": [
        "weather=\"rainy\"\n",
        "if weather==\"rainy\":\n",
        "  print(\"i will not play cricket\")"
      ],
      "metadata": {
        "colab": {
          "base_uri": "https://localhost:8080/"
        },
        "id": "TJK4mMXv86wU",
        "outputId": "1f2aca5a-4242-402c-97f4-61dead36b10e"
      },
      "execution_count": null,
      "outputs": [
        {
          "output_type": "stream",
          "name": "stdout",
          "text": [
            "i will not play cricket\n"
          ]
        }
      ]
    },
    {
      "cell_type": "code",
      "source": [
        "weather=\"sunny\"\n",
        "if weather==\"rainy\":\n",
        "  print(\"i will not play cricket\")"
      ],
      "metadata": {
        "id": "bKLnWPDL_6GH"
      },
      "execution_count": null,
      "outputs": []
    },
    {
      "cell_type": "code",
      "source": [
        "weather=\"sunny\"\n",
        "if weather==\"rainy\":\n",
        "print(\"i will not play cricket\") #indentation is necessary"
      ],
      "metadata": {
        "colab": {
          "base_uri": "https://localhost:8080/",
          "height": 106
        },
        "id": "5a2HuGpLAmQP",
        "outputId": "12af803e-277b-45c9-aed7-62a8eee5d173"
      },
      "execution_count": null,
      "outputs": [
        {
          "output_type": "error",
          "ename": "IndentationError",
          "evalue": "expected an indented block after 'if' statement on line 2 (<ipython-input-53-9ea6f07561ad>, line 3)",
          "traceback": [
            "\u001b[0;36m  File \u001b[0;32m\"<ipython-input-53-9ea6f07561ad>\"\u001b[0;36m, line \u001b[0;32m3\u001b[0m\n\u001b[0;31m    print(\"i will not play cricket\") #indentation is necessary\u001b[0m\n\u001b[0m    ^\u001b[0m\n\u001b[0;31mIndentationError\u001b[0m\u001b[0;31m:\u001b[0m expected an indented block after 'if' statement on line 2\n"
          ]
        }
      ]
    },
    {
      "cell_type": "code",
      "source": [
        "temp=30\n",
        "if temp>25:\n",
        "  print(\"room temp\")"
      ],
      "metadata": {
        "colab": {
          "base_uri": "https://localhost:8080/"
        },
        "id": "Cky6frNpBFvf",
        "outputId": "4c2132cd-798b-4f39-aa43-e5b1d4115a47"
      },
      "execution_count": null,
      "outputs": [
        {
          "output_type": "stream",
          "name": "stdout",
          "text": [
            "room temp\n"
          ]
        }
      ]
    },
    {
      "cell_type": "code",
      "source": [
        "is_ds_course=True\n",
        "if is_ds_course:\n",
        "  print(\"i am studying the course\")"
      ],
      "metadata": {
        "colab": {
          "base_uri": "https://localhost:8080/"
        },
        "id": "lhmyRromB8Ku",
        "outputId": "dd92b2a0-b44f-492f-a17a-545d45f5de6d"
      },
      "execution_count": null,
      "outputs": [
        {
          "output_type": "stream",
          "name": "stdout",
          "text": [
            "i am studying the course\n"
          ]
        }
      ]
    },
    {
      "cell_type": "code",
      "source": [
        "grade=8\n",
        "if grade>=8:\n",
        "  print(\"you are excellent\")"
      ],
      "metadata": {
        "colab": {
          "base_uri": "https://localhost:8080/"
        },
        "id": "AcRvcgEoCrih",
        "outputId": "2ddd90b1-fd72-4475-f6e5-0cde658b9e99"
      },
      "execution_count": null,
      "outputs": [
        {
          "output_type": "stream",
          "name": "stdout",
          "text": [
            "you are excellent\n"
          ]
        }
      ]
    },
    {
      "cell_type": "code",
      "source": [
        "number=42\n",
        "if number%2==0:\n",
        "  print(\"the number is even\")"
      ],
      "metadata": {
        "colab": {
          "base_uri": "https://localhost:8080/"
        },
        "id": "Uf6cEHwUDmdD",
        "outputId": "4f921b96-04cd-4d9b-c8e4-515482ab8d7d"
      },
      "execution_count": null,
      "outputs": [
        {
          "output_type": "stream",
          "name": "stdout",
          "text": [
            "the number is even\n"
          ]
        }
      ]
    },
    {
      "cell_type": "code",
      "source": [
        "#in real life, decisions are made based on mutiple conditions\n",
        "\n",
        "number=42\n",
        "if((number%2==0)&(number>0)):\n",
        "  print(\"this is the number of interset\")"
      ],
      "metadata": {
        "colab": {
          "base_uri": "https://localhost:8080/"
        },
        "id": "9qExDXnhEaMz",
        "outputId": "ecb70040-b64a-4bde-b7ea-a0786e5ff6e2"
      },
      "execution_count": null,
      "outputs": [
        {
          "output_type": "stream",
          "name": "stdout",
          "text": [
            "this is the number of interset\n"
          ]
        }
      ]
    },
    {
      "cell_type": "code",
      "source": [
        "grade=8\n",
        "co_cirr=True\n",
        "if ((grade >=8) and (co_cirr==True)):\n",
        "  print(\"you are all arounder\")"
      ],
      "metadata": {
        "colab": {
          "base_uri": "https://localhost:8080/"
        },
        "id": "R1w0QrDSGAuA",
        "outputId": "64468179-7148-457f-aaa5-08acee1b36b1"
      },
      "execution_count": null,
      "outputs": [
        {
          "output_type": "stream",
          "name": "stdout",
          "text": [
            "you are all arounder\n"
          ]
        }
      ]
    },
    {
      "cell_type": "code",
      "source": [
        "#else statement"
      ],
      "metadata": {
        "id": "WFLU__EGsw9z"
      },
      "execution_count": null,
      "outputs": []
    },
    {
      "cell_type": "code",
      "source": [
        "#the else statement is used to execute a block of code if the condition in the if statement is false"
      ],
      "metadata": {
        "id": "z7mDsa20tA-b"
      },
      "execution_count": null,
      "outputs": []
    },
    {
      "cell_type": "code",
      "source": [
        "#in real life if one condition is not fulfilled, you will do something else\n",
        "#example:: if weather is not rainy,i will go to play cricket else i will watch tv"
      ],
      "metadata": {
        "id": "j1jdKE--Iftu"
      },
      "execution_count": null,
      "outputs": []
    },
    {
      "cell_type": "code",
      "source": [
        "weather=\"sunny\"\n",
        "if weather==\"sunny\":#condition is true, execute if block\n",
        "  print(\"i will play cricket\")\n",
        "else:#condition is nottrue, else block will be executed\n",
        "  print(\"i will watch tv\")"
      ],
      "metadata": {
        "colab": {
          "base_uri": "https://localhost:8080/"
        },
        "id": "cDcKnhSYKNcy",
        "outputId": "b1e1e367-1cc7-4633-ebb5-3c37b03824c2"
      },
      "execution_count": null,
      "outputs": [
        {
          "output_type": "stream",
          "name": "stdout",
          "text": [
            "i will play cricket\n"
          ]
        }
      ]
    },
    {
      "cell_type": "code",
      "source": [
        "age=21\n",
        "if age>=18:\n",
        "  print(\"you will be served alcohal\")\n",
        "else:\n",
        "  print(\"get out of the bar\")\n"
      ],
      "metadata": {
        "colab": {
          "base_uri": "https://localhost:8080/"
        },
        "id": "Vta_rvWZKZSC",
        "outputId": "28cce753-a492-4917-8d8b-fce21fdfc9bd"
      },
      "execution_count": null,
      "outputs": [
        {
          "output_type": "stream",
          "name": "stdout",
          "text": [
            "you will be served alcohal\n"
          ]
        }
      ]
    },
    {
      "cell_type": "code",
      "source": [
        "#to check if a no is even\n",
        "6%2"
      ],
      "metadata": {
        "colab": {
          "base_uri": "https://localhost:8080/"
        },
        "id": "RNkI3qhSMKFg",
        "outputId": "28877654-e486-452c-ce92-a139c7254905"
      },
      "execution_count": null,
      "outputs": [
        {
          "output_type": "execute_result",
          "data": {
            "text/plain": [
              "0"
            ]
          },
          "metadata": {},
          "execution_count": 71
        }
      ]
    },
    {
      "cell_type": "code",
      "source": [
        "num=4\n",
        "if num%2==0:\n",
        "  print(\"even\")\n",
        "else:\n",
        "  print(\"odd\")"
      ],
      "metadata": {
        "colab": {
          "base_uri": "https://localhost:8080/"
        },
        "id": "x0-6muoXMfUX",
        "outputId": "51368929-1118-4c34-e548-68da7b6644a0"
      },
      "execution_count": null,
      "outputs": [
        {
          "output_type": "stream",
          "name": "stdout",
          "text": [
            "even\n"
          ]
        }
      ]
    },
    {
      "cell_type": "code",
      "source": [
        "#if else>> two condition\n",
        "#in real life we can have multiple condition\n",
        "#syntax\n",
        "#if some condition\n",
        "#elif some condition\n",
        "#else"
      ],
      "metadata": {
        "id": "mKTa_BDJNov2"
      },
      "execution_count": null,
      "outputs": []
    },
    {
      "cell_type": "code",
      "source": [
        "#elif statement"
      ],
      "metadata": {
        "id": "vfJ4dGBytdHd"
      },
      "execution_count": null,
      "outputs": []
    },
    {
      "cell_type": "code",
      "source": [
        "#the elif statement allows you to check multiple conditions, if the first if condition is false, python checks the elif condition.if the elif condition is true, its corresponding code block is executed. you can have multiple elif statements after an if ."
      ],
      "metadata": {
        "id": "B-KJO9U8trVL"
      },
      "execution_count": null,
      "outputs": []
    },
    {
      "cell_type": "code",
      "source": [
        "a=10\n",
        "if a>100:\n",
        "  print(\"this block will be executed if a is greater than 100\")\n",
        "elif a<100:\n",
        "  print(\"this block will be executed if a is lesser than 100 \")\n",
        "else:\n",
        "  print(\"the number is equals to 100\")"
      ],
      "metadata": {
        "colab": {
          "base_uri": "https://localhost:8080/"
        },
        "id": "alcw_4EROeja",
        "outputId": "c058bf0b-4edf-4be5-feb8-a733e1a1ac00"
      },
      "execution_count": null,
      "outputs": [
        {
          "output_type": "stream",
          "name": "stdout",
          "text": [
            "this block will be executed if a is lesser than 100 \n"
          ]
        }
      ]
    },
    {
      "cell_type": "code",
      "source": [
        "a=10000\n",
        "if a<100:\n",
        "  print(\"this block will be executed if a is lesser than 100\")\n",
        "elif a>2000:\n",
        "  print(\" the number is huge\")\n",
        "elif a>100:\n",
        "  print(\"this block will be executed if a is greater than 100\")\n",
        "else:\n",
        "  print(\" the number is equals to 180\")\n"
      ],
      "metadata": {
        "colab": {
          "base_uri": "https://localhost:8080/"
        },
        "id": "TPPpN29oOee1",
        "outputId": "3743e4c3-ba0e-47c2-d4f3-c13b2d413f96"
      },
      "execution_count": null,
      "outputs": [
        {
          "output_type": "stream",
          "name": "stdout",
          "text": [
            " the number is huge\n"
          ]
        }
      ]
    },
    {
      "cell_type": "code",
      "source": [
        "#nested conditional statements"
      ],
      "metadata": {
        "id": "EbtBEn17OebR"
      },
      "execution_count": null,
      "outputs": []
    },
    {
      "cell_type": "code",
      "source": [
        "#you can have if,elif and else statement inside another if block. these are called nested conditionals. this can be usedful when you neend to check multiple levels of conditions"
      ],
      "metadata": {
        "id": "3VvZneQXOeQ1"
      },
      "execution_count": null,
      "outputs": []
    },
    {
      "cell_type": "code",
      "source": [
        "#syntax\n",
        "if condition1:\n",
        "  if condition2:\n",
        "    #code block for condition2 being True\n",
        " else:\n",
        "    #code block for condition2 being False\n",
        " else:\n",
        "    #code block for condition1 being False"
      ],
      "metadata": {
        "id": "EeYbkdtRxD53"
      },
      "execution_count": null,
      "outputs": []
    },
    {
      "cell_type": "code",
      "source": [
        "x=12\n",
        "if x>10:\n",
        "  print(\"x is greater than 10\")\n",
        "  if x%2==0:\n",
        "    print(\"x is even\")\n",
        "  else:\n",
        "      print(\"x is add\")\n",
        "else:\n",
        "    print(\"x is 10 or less\")"
      ],
      "metadata": {
        "id": "WlDK3uMCySCd",
        "colab": {
          "base_uri": "https://localhost:8080/"
        },
        "outputId": "51a34a19-ad0e-4f94-a64c-fb228dbe90b1"
      },
      "execution_count": null,
      "outputs": [
        {
          "output_type": "stream",
          "name": "stdout",
          "text": [
            "x is greater than 10\n",
            "x is even\n"
          ]
        }
      ]
    },
    {
      "cell_type": "code",
      "source": [
        "#logical operators in conditional statement:"
      ],
      "metadata": {
        "id": "WjmroDSDAaDB"
      },
      "execution_count": null,
      "outputs": []
    },
    {
      "cell_type": "code",
      "source": [
        "#you can use logical operators to combine multiple conditions in a single if statement\n",
        "#and\n",
        "#or\n",
        "#not"
      ],
      "metadata": {
        "id": "Fu4FLP5iBNfy"
      },
      "execution_count": null,
      "outputs": []
    },
    {
      "cell_type": "code",
      "source": [
        "x=15\n",
        "if x>10 and x<20:\n",
        "  print(\"x is between 10 and 20\")"
      ],
      "metadata": {
        "colab": {
          "base_uri": "https://localhost:8080/"
        },
        "id": "ER1jrtGaBNYG",
        "outputId": "33e2f9bc-2f27-47f5-d833-a2b504c48459"
      },
      "execution_count": null,
      "outputs": [
        {
          "output_type": "stream",
          "name": "stdout",
          "text": [
            "x is between 10 and 20\n"
          ]
        }
      ]
    },
    {
      "cell_type": "code",
      "source": [
        "x=5\n",
        "if x<10 or x>20:\n",
        "  print(\"x is either less than 10 or greater than 20\")"
      ],
      "metadata": {
        "colab": {
          "base_uri": "https://localhost:8080/"
        },
        "id": "nUcp8OjBBNRC",
        "outputId": "f041b0d9-4fac-47a2-9325-7a7453731de1"
      },
      "execution_count": null,
      "outputs": [
        {
          "output_type": "stream",
          "name": "stdout",
          "text": [
            "x is either less than 10 or greater than 20\n"
          ]
        }
      ]
    },
    {
      "cell_type": "code",
      "source": [
        "#conditional statement with (not)"
      ],
      "metadata": {
        "id": "AV7VP7nEBNKo"
      },
      "execution_count": null,
      "outputs": []
    },
    {
      "cell_type": "code",
      "source": [
        "#the not operator is used to invert the condition. if the condition is true,not false, and vice versa"
      ],
      "metadata": {
        "id": "VD9nc96EEBXN"
      },
      "execution_count": null,
      "outputs": []
    },
    {
      "cell_type": "code",
      "source": [
        "x=5\n",
        "if not x>10:\n",
        "  print(\"x is not greater than 10\")"
      ],
      "metadata": {
        "colab": {
          "base_uri": "https://localhost:8080/"
        },
        "id": "yJ-UONuSEU79",
        "outputId": "4d63ddad-35b8-4af4-89b4-2318e4fa5d31"
      },
      "execution_count": null,
      "outputs": [
        {
          "output_type": "stream",
          "name": "stdout",
          "text": [
            "x is not greater than 10\n"
          ]
        }
      ]
    },
    {
      "cell_type": "code",
      "source": [
        "#ternary conditional(conditional expression)"
      ],
      "metadata": {
        "id": "qKCFp5XJEjJR"
      },
      "execution_count": null,
      "outputs": []
    },
    {
      "cell_type": "code",
      "source": [
        "#a conditional expression in python is a shorter way to write an if-else statement on one line"
      ],
      "metadata": {
        "id": "BfatXL6vEyU8"
      },
      "execution_count": null,
      "outputs": []
    },
    {
      "cell_type": "code",
      "source": [
        "#syntax\n",
        " [on_true]if[condition]else[no_false]"
      ],
      "metadata": {
        "id": "-afUlXIVFTvs"
      },
      "execution_count": null,
      "outputs": []
    },
    {
      "cell_type": "code",
      "source": [
        "x=8\n",
        "result=\"even\"if x%2==0 else \"odd\"\n",
        "print(result)"
      ],
      "metadata": {
        "colab": {
          "base_uri": "https://localhost:8080/"
        },
        "id": "DTc0dzsfFs62",
        "outputId": "5cbda857-3fd7-4953-8ab1-f5382199f17c"
      },
      "execution_count": null,
      "outputs": [
        {
          "output_type": "stream",
          "name": "stdout",
          "text": [
            "even\n"
          ]
        }
      ]
    },
    {
      "cell_type": "code",
      "source": [
        "#7 desribe the different type of loops in python and their use cases with example"
      ],
      "metadata": {
        "id": "LDU7SqCKMqOH"
      },
      "execution_count": null,
      "outputs": []
    },
    {
      "cell_type": "markdown",
      "source": [
        "7. **desribe the different type of loops in python and their use cases with example**"
      ],
      "metadata": {
        "id": "EBcaS5eA7bdM"
      }
    },
    {
      "cell_type": "code",
      "source": [
        "#loop statement"
      ],
      "metadata": {
        "id": "GqvUVGxtFsz9"
      },
      "execution_count": null,
      "outputs": []
    },
    {
      "cell_type": "code",
      "source": [
        "#it allows you to execute a block of cade repeatedly\n",
        "#loop>>while loop and for loop"
      ],
      "metadata": {
        "id": "U6_M4Ln1FioC"
      },
      "execution_count": null,
      "outputs": []
    },
    {
      "cell_type": "code",
      "source": [
        "#while>>the while loop repeated a block of code as long as agiven condition is true. it is typically used when the number of iterations is unknown beforehand and depends on a condition."
      ],
      "metadata": {
        "id": "Cmc1MubVNyFu"
      },
      "execution_count": null,
      "outputs": []
    },
    {
      "cell_type": "code",
      "source": [
        "i=1\n",
        "while i<=5:\n",
        "  print(i)\n",
        "  i+=1"
      ],
      "metadata": {
        "colab": {
          "base_uri": "https://localhost:8080/"
        },
        "id": "6ohH9frhOFNZ",
        "outputId": "c1d63b1b-15eb-48ca-c39d-67ab6066bce4"
      },
      "execution_count": null,
      "outputs": [
        {
          "output_type": "stream",
          "name": "stdout",
          "text": [
            "1\n",
            "2\n",
            "3\n",
            "4\n",
            "5\n"
          ]
        }
      ]
    },
    {
      "cell_type": "code",
      "source": [
        "#break and continue statements\n",
        "both for and while loops can use two important control flow statements:\n",
        ". break: exits the loop prematurely\n",
        ". continue: skips the rest of the code in current iteration and moves to the next iteration."
      ],
      "metadata": {
        "id": "kft-b6caAMoO"
      },
      "execution_count": null,
      "outputs": []
    },
    {
      "cell_type": "code",
      "source": [
        "from typing import Counter\n",
        "#using 'break' to exit a loop\n",
        "Counter=1\n",
        "while Counter <=10:\n",
        "  print(f\"counter is {Counter}\")\n",
        "  if Counter==5:\n",
        "    print(\"breaking the loop\")\n",
        "    break  #loop exits when counter is 5\n",
        "  Counter +=1"
      ],
      "metadata": {
        "colab": {
          "base_uri": "https://localhost:8080/"
        },
        "id": "wgEwUnReDqxM",
        "outputId": "d63a1b98-5106-44b4-ce41-f190fea3aa29"
      },
      "execution_count": null,
      "outputs": [
        {
          "output_type": "stream",
          "name": "stdout",
          "text": [
            "counter is 1\n",
            "counter is 2\n",
            "counter is 3\n",
            "counter is 4\n",
            "counter is 5\n",
            "breaking the loop\n"
          ]
        }
      ]
    },
    {
      "cell_type": "code",
      "source": [
        "#using 'continue' to skip certain iterations\n",
        "for i in range(1,6):\n",
        "  if i==3:\n",
        "    continue #skips when i is 3\n",
        "  print(f\"i is {i}\")"
      ],
      "metadata": {
        "colab": {
          "base_uri": "https://localhost:8080/"
        },
        "id": "we1TXTCADqnR",
        "outputId": "3d374d73-d26c-454d-9933-5220a142a1a2"
      },
      "execution_count": null,
      "outputs": [
        {
          "output_type": "stream",
          "name": "stdout",
          "text": [
            "i is 1\n",
            "i is 2\n",
            "i is 4\n",
            "i is 5\n"
          ]
        }
      ]
    },
    {
      "cell_type": "code",
      "source": [
        "#for loops>> the for loop is typically used for iterating over a sequence[like a list,tuple,string, or range]. it goes through each element of the sequence in order and executes the block of code associated with the loop"
      ],
      "metadata": {
        "id": "PGNt3QvHTp20"
      },
      "execution_count": null,
      "outputs": []
    },
    {
      "cell_type": "code",
      "source": [
        "for i in\"pwskills\":\n",
        "  print(i)"
      ],
      "metadata": {
        "colab": {
          "base_uri": "https://localhost:8080/"
        },
        "id": "Wp8AMtO4W7zt",
        "outputId": "d03e56c6-b7cc-4a9f-bfb2-5762a67dd8e0"
      },
      "execution_count": null,
      "outputs": [
        {
          "output_type": "stream",
          "name": "stdout",
          "text": [
            "p\n",
            "w\n",
            "s\n",
            "k\n",
            "i\n",
            "l\n",
            "l\n",
            "s\n"
          ]
        }
      ]
    },
    {
      "cell_type": "code",
      "source": [
        "#nested loops>>loops can be nested, meaning you can place one loop inside another.this is particularly useful for iterating over multi-dimensional data structures,such as matrices(lists of lists)."
      ],
      "metadata": {
        "id": "3V_L7eHvXIOc"
      },
      "execution_count": null,
      "outputs": []
    },
    {
      "cell_type": "code",
      "source": [
        "#syntax\n",
        "loop inside another loop"
      ],
      "metadata": {
        "id": "vghGugLtXdJU"
      },
      "execution_count": null,
      "outputs": []
    },
    {
      "cell_type": "code",
      "source": [
        "#iterating over a list of lists\n",
        "matrix=[[1,2,3],[4,5,6],[7,8,9]]\n",
        "for row in matrix:\n",
        "  for element in row:\n",
        "    print(element,end='')\n",
        "  print()"
      ],
      "metadata": {
        "colab": {
          "base_uri": "https://localhost:8080/"
        },
        "id": "6DZpy0SuXrb7",
        "outputId": "1737481c-2f81-44cb-a5fa-d9c4248aedb2"
      },
      "execution_count": null,
      "outputs": [
        {
          "output_type": "stream",
          "name": "stdout",
          "text": [
            "123\n",
            "456\n",
            "789\n"
          ]
        }
      ]
    },
    {
      "cell_type": "code",
      "source": [
        "#generating combinations of data"
      ],
      "metadata": {
        "id": "Ob610ub2Yka7"
      },
      "execution_count": null,
      "outputs": []
    },
    {
      "cell_type": "code",
      "source": [
        "colors=['red','green','blue']\n",
        "shapes=['circle','square','triangle']\n",
        "for color in colors:\n",
        "  for shape in shapes:\n",
        "    print(f\"{color} {shape}\")"
      ],
      "metadata": {
        "colab": {
          "base_uri": "https://localhost:8080/"
        },
        "id": "SV02CG1dY2IR",
        "outputId": "59043e8e-f072-4e49-8439-edadedeb83ec"
      },
      "execution_count": null,
      "outputs": [
        {
          "output_type": "stream",
          "name": "stdout",
          "text": [
            "red circle\n",
            "red square\n",
            "red triangle\n",
            "green circle\n",
            "green square\n",
            "green triangle\n",
            "blue circle\n",
            "blue square\n",
            "blue triangle\n"
          ]
        }
      ]
    }
  ]
}