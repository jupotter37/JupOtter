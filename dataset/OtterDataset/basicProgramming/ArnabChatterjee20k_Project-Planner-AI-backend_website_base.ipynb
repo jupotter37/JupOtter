{
 "cells": [
  {
   "cell_type": "code",
   "execution_count": 1,
   "metadata": {},
   "outputs": [],
   "source": [
    "from langchain_community.document_loaders.recursive_url_loader import RecursiveUrlLoader"
   ]
  },
  {
   "cell_type": "code",
   "execution_count": 30,
   "metadata": {},
   "outputs": [
    {
     "name": "stderr",
     "output_type": "stream",
     "text": [
      "/usr/lib/python3.11/html/parser.py:170: XMLParsedAsHTMLWarning: It looks like you're parsing an XML document using an HTML parser. If this really is an HTML document (maybe it's XHTML?), you can ignore or filter this warning. If it's XML, you should know that using an XML parser will be more reliable. To parse this document as XML, make sure you have the lxml package installed, and pass the keyword argument `features=\"xml\"` into the BeautifulSoup constructor.\n",
      "  k = self.parse_starttag(i)\n"
     ]
    }
   ],
   "source": [
    "from bs4 import BeautifulSoup as Soup\n",
    "\n",
    "url = \"https://docs.python.org/3.9/\"\n",
    "loader = RecursiveUrlLoader(\n",
    "    url=url, max_depth=6, extractor=lambda x: Soup(x, \"html.parser\").text\n",
    ")\n",
    "result = loader.load()"
   ]
  },
  {
   "cell_type": "code",
   "execution_count": 31,
   "metadata": {},
   "outputs": [],
   "source": [
    "from langchain.vectorstores import FAISS\n",
    "from langchain_google_genai import  GoogleGenerativeAIEmbeddings\n",
    "from langchain.text_splitter import RecursiveCharacterTextSplitter"
   ]
  },
  {
   "cell_type": "code",
   "execution_count": 32,
   "metadata": {},
   "outputs": [],
   "source": [
    "embeddings = GoogleGenerativeAIEmbeddings(model=\"models/embedding-001\",google_api_key=\"api\")"
   ]
  },
  {
   "cell_type": "code",
   "execution_count": 33,
   "metadata": {},
   "outputs": [],
   "source": [
    "text_splitter = RecursiveCharacterTextSplitter(chunk_size=1000, chunk_overlap=0)\n",
    "docs = text_splitter.split_documents(result)"
   ]
  },
  {
   "cell_type": "code",
   "execution_count": 34,
   "metadata": {},
   "outputs": [],
   "source": [
    "db = FAISS.from_documents(docs, embeddings)\n",
    "db.save_local(\"faiss_index\")"
   ]
  },
  {
   "cell_type": "code",
   "execution_count": 35,
   "metadata": {},
   "outputs": [],
   "source": [
    "db = FAISS.load_local(\"faiss_index\",embeddings=embeddings,allow_dangerous_deserialization=True)"
   ]
  },
  {
   "cell_type": "code",
   "execution_count": 36,
   "metadata": {},
   "outputs": [],
   "source": [
    "from langchain.chains.question_answering import load_qa_chain\n",
    "from langchain import PromptTemplate"
   ]
  },
  {
   "cell_type": "code",
   "execution_count": 37,
   "metadata": {},
   "outputs": [],
   "source": [
    "prompt_template = \"\"\"\n",
    "  Explore the Text Documents. \n",
    "  If the answer is present in the context, provide comprehensive details. \n",
    "  If not, derive the answer from the video content anyhow.\n",
    "  \\n\\n\n",
    "  Transcript:\\n {context}?\\n\n",
    "  Question: \\n{question}\\n\n",
    "\n",
    "  Answer:\n",
    "\"\"\"\n",
    "\n",
    "prompt = PromptTemplate(template = prompt_template, input_variables = [\"context\", \"question\"])"
   ]
  },
  {
   "cell_type": "code",
   "execution_count": 53,
   "metadata": {},
   "outputs": [],
   "source": [
    "question = \"features of python?\""
   ]
  },
  {
   "cell_type": "code",
   "execution_count": 54,
   "metadata": {},
   "outputs": [
    {
     "data": {
      "text/plain": [
       "[Document(page_content='What is Python?Â¶\\nPython is an interpreted, interactive, object-oriented programming language.  It\\nincorporates modules, exceptions, dynamic typing, very high level dynamic data\\ntypes, and classes.  It supports multiple programming paradigms beyond\\nobject-oriented programming, such as procedural and functional programming.\\nPython combines remarkable power with very clear syntax. It has interfaces to\\nmany system calls and libraries, as well as to various window systems, and is\\nextensible in C or C++.  It is also usable as an extension language for\\napplications that need a programmable interface. Finally, Python is portable:\\nit runs on many Unix variants including Linux and macOS, and on Windows.\\nTo find out more, start with The Python Tutorial.  The Beginnerâ\\x80\\x99s Guide to\\nPython links to other\\nintroductory tutorials and resources for learning Python.', metadata={'source': 'https://docs.python.org/3.9/faq/general.html', 'title': 'General Python FAQ — Python 3.9.18 documentation', 'language': None}),\n",
       " Document(page_content='Python Frequently Asked Questions\\nGeneral Python FAQ\\nGeneral Information\\nPython in the real world\\n\\n\\nProgramming FAQ\\nGeneral Questions\\nCore Language\\nNumbers and strings\\nPerformance\\nSequences (Tuples/Lists)\\nObjects\\nModules', metadata={'source': 'https://docs.python.org/3.9/contents.html', 'title': 'Python Documentation contents — Python 3.9.18 documentation', 'language': None}),\n",
       " Document(page_content='What is Python good for?Â¶\\nPython is a high-level general-purpose programming language that can be applied\\nto many different classes of problems.\\nThe language comes with a large standard library that covers areas such as\\nstring processing (regular expressions, Unicode, calculating differences between\\nfiles), Internet protocols (HTTP, FTP, SMTP, XML-RPC, POP, IMAP, CGI\\nprogramming), software engineering (unit testing, logging, profiling, parsing\\nPython code), and operating system interfaces (system calls, filesystems, TCP/IP\\nsockets).  Look at the table of contents for The Python Standard Library to get an idea\\nof whatâ\\x80\\x99s available.  A wide variety of third-party extensions are also\\navailable.  Consult the Python Package Index to\\nfind packages of interest to you.', metadata={'source': 'https://docs.python.org/3.9/faq/general.html', 'title': 'General Python FAQ — Python 3.9.18 documentation', 'language': None}),\n",
       " Document(page_content='What new developments are expected for Python in the future?Â¶\\nSee https://www.python.org/dev/peps/ for the Python Enhancement Proposals\\n(PEPs). PEPs are design documents describing a suggested new feature for Python,\\nproviding a concise technical specification and a rationale.  Look for a PEP\\ntitled â\\x80\\x9cPython X.Y Release Scheduleâ\\x80\\x9d, where X.Y is a version that hasnâ\\x80\\x99t been\\npublicly released yet.\\nNew development is discussed on the python-dev mailing list.', metadata={'source': 'https://docs.python.org/3.9/faq/general.html', 'title': 'General Python FAQ — Python 3.9.18 documentation', 'language': None}),\n",
       " Document(page_content='Whatâ\\x80\\x99s New In Python 3.5\\nSummary â\\x80\\x93 Release highlights\\nNew Features\\nOther Language Changes\\nNew Modules\\nImproved Modules\\nOther module-level changes\\nOptimizations\\nBuild and C API Changes\\nDeprecated\\nRemoved\\nPorting to Python 3.5\\nNotable changes in Python 3.5.4\\n\\n\\nWhatâ\\x80\\x99s New In Python 3.4\\nSummary â\\x80\\x93 Release Highlights\\nNew Features\\nNew Modules\\nImproved Modules\\nCPython Implementation Changes\\nDeprecated\\nRemoved\\nPorting to Python 3.4\\nChanged in 3.4.3', metadata={'source': 'https://docs.python.org/3.9/whatsnew/index.html', 'title': 'Whatâ\\x80\\x99s New in Python — Python 3.9.18 documentation', 'language': None})]"
      ]
     },
     "execution_count": 54,
     "metadata": {},
     "output_type": "execute_result"
    }
   ],
   "source": [
    "docs = db.similarity_search(question,k=5)\n",
    "docs"
   ]
  },
  {
   "cell_type": "code",
   "execution_count": 55,
   "metadata": {},
   "outputs": [],
   "source": [
    "from langchain_google_genai import ChatGoogleGenerativeAI\n",
    "from langchain.chains.question_answering import load_qa_chain\n",
    "model = ChatGoogleGenerativeAI(model=\"gemini-pro\",\n",
    "                             temperature=0.3,google_api_key=\"api\")"
   ]
  },
  {
   "cell_type": "code",
   "execution_count": 56,
   "metadata": {},
   "outputs": [],
   "source": [
    "chain = load_qa_chain(model, chain_type=\"stuff\", prompt=prompt)"
   ]
  },
  {
   "cell_type": "code",
   "execution_count": 57,
   "metadata": {},
   "outputs": [
    {
     "data": {
      "text/plain": [
       "{'output_text': 'Python is an interpreted, interactive, object-oriented programming language. It incorporates modules, exceptions, dynamic typing, very high level dynamic data types, and classes. It supports multiple programming paradigms beyond object-oriented programming, such as procedural and functional programming.'}"
      ]
     },
     "execution_count": 57,
     "metadata": {},
     "output_type": "execute_result"
    }
   ],
   "source": [
    "response = chain(\n",
    "    {\"input_documents\":docs, \"question\": question}\n",
    "    , return_only_outputs=True)\n",
    "response"
   ]
  },
  {
   "cell_type": "code",
   "execution_count": null,
   "metadata": {},
   "outputs": [],
   "source": []
  },
  {
   "cell_type": "code",
   "execution_count": null,
   "metadata": {},
   "outputs": [],
   "source": []
  }
 ],
 "metadata": {
  "kernelspec": {
   "display_name": "env",
   "language": "python",
   "name": "python3"
  },
  "language_info": {
   "codemirror_mode": {
    "name": "ipython",
    "version": 3
   },
   "file_extension": ".py",
   "mimetype": "text/x-python",
   "name": "python",
   "nbconvert_exporter": "python",
   "pygments_lexer": "ipython3",
   "version": "3.11.4"
  }
 },
 "nbformat": 4,
 "nbformat_minor": 2
}
