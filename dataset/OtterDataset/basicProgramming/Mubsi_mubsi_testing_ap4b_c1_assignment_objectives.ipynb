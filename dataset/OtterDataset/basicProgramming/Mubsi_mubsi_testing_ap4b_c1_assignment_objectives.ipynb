{
 "cells": [
  {
   "cell_type": "code",
   "execution_count": null,
   "id": "1d7798a7-f4bc-4606-9348-55571c009920",
   "metadata": {},
   "outputs": [],
   "source": [
    "from google.cloud import aiplatform\n",
    "from google.oauth2 import service_account\n",
    "\n",
    "### add your project ID\n",
    "PROJECT_ID = 'sc-gcp-c4-gemini' ### replace it with your Project ID\n",
    "\n",
    "### add your service account .json file key\n",
    "credentials = service_account.Credentials.from_service_account_file('sc-gcp-c4-gemini-9dc393caa04d.json') ### replace it with your service account .json file key"
   ]
  },
  {
   "cell_type": "code",
   "execution_count": null,
   "id": "5846ea5c-ff33-4a97-a35a-29e14653c2ce",
   "metadata": {},
   "outputs": [],
   "source": [
    "REGION = \"us-central1\"\n",
    "import vertexai\n",
    "\n",
    "vertexai.init(project = PROJECT_ID,\n",
    "              location = REGION,\n",
    "              credentials = credentials)"
   ]
  },
  {
   "cell_type": "code",
   "execution_count": null,
   "id": "6bd17d95-6702-4900-8558-07e794762de1",
   "metadata": {},
   "outputs": [],
   "source": [
    "from vertexai.generative_models import GenerativeModel, Image"
   ]
  },
  {
   "cell_type": "code",
   "execution_count": null,
   "id": "037e35a2-a40d-4834-a615-aca6caab0665",
   "metadata": {},
   "outputs": [],
   "source": [
    "with open(\"c1_lessons/lesson_4.json\", \"r\") as file:\n",
    "    json_1 = file.read()\n",
    "\n",
    "with open(\"c1_lessons/lesson_6.json\", \"r\") as file:\n",
    "    json_2 = file.read()\n",
    "\n",
    "with open(\"c1_lessons/lesson_7.json\", \"r\") as file:\n",
    "    json_3 = file.read()\n",
    "\n",
    "with open(\"c1_lessons/lesson_8.json\", \"r\") as file:\n",
    "    json_4 = file.read()\n",
    "\n",
    "with open(\"c1_lessons/lesson_9.json\", \"r\") as file:\n",
    "    json_5 = file.read()\n",
    "\n",
    "with open(\"c1_lessons/lesson_10.json\", \"r\") as file:\n",
    "    json_6 = file.read()\n",
    "\n",
    "lessons = [json_1, json_2, json_3, json_4, json_5, json_6]"
   ]
  },
  {
   "cell_type": "code",
   "execution_count": null,
   "id": "0388322d-4d22-4061-af06-60dc1567bbc4",
   "metadata": {},
   "outputs": [],
   "source": [
    "# i = 1\n",
    "\n",
    "# for lesson in lessons:\n",
    "#     task = f\"\"\"You are Professor teaching a beginner python programming class. \\\n",
    "#     You know your students have zero to very little prior experience of coding in Python before they started taking your classes.\n",
    "#     Over the period of time, you have taught your students programming in Python using step by step practical examples using Jupyter Notebooks. \\\n",
    "#     You want to provide a short description of what each lesson is about.\n",
    "    \n",
    "#     You are provided with the programming lesson notebook {lesson} and based on content covered in the lesson, you have to come up a short decription \\\n",
    "#     of what is being taught/covered in the lesson.\n",
    "#     You are to provide no more than 4 bullets. \n",
    "    \n",
    "#     Start your response as:\n",
    "    \n",
    "#     In this lesson, you will learn about:\n",
    "    \n",
    "#     - Bullet 1\n",
    "#     - Bullet 2 (if required)\n",
    "#     - Bullet 3 (if required)\n",
    "#     - Bullet 4 (if required)\"\"\"\n",
    "\n",
    "#     content = [task]\n",
    "\n",
    "#     response_1 = model.generate_content(content, stream=False)\n",
    "\n",
    "    \n",
    "\n",
    "#     print(f\"Lesson {i}:\\n\")\n",
    "#     i = i + 1\n",
    "#     print(response_1.text)\n",
    "    "
   ]
  },
  {
   "cell_type": "code",
   "execution_count": null,
   "id": "e9fe5c9f-2d4f-4f64-9841-e65e04eebd5d",
   "metadata": {},
   "outputs": [],
   "source": [
    "with open(\"c1_lessons/assignment.json\", \"r\") as file:\n",
    "    assignment = file.read()\n",
    "\n",
    "task = f\"\"\"\n",
    "You are Professor teaching a beginner python programming class. \\\n",
    "You know your students have zero to very little prior experience of coding in Python before they started taking your classes.\n",
    "\n",
    "Over the period of time, you have taught your students programming in Python using step by step practical examples using Jupyter Notebooks. \\\n",
    "Now, you want to test their understanding. You have created a programming assignment for them.\n",
    "\n",
    "This is the assingment {assignment}.\n",
    "\n",
    "Go through and understand the contents of this assignment and then provide the following:\n",
    "- After understanding the introduction to the assignment provide a paragraphy, with no more than 3 sentences, paraphrasing the introduction.\n",
    "- In the second paragraph, provide a brief summary of what the learners will be expected to do in the assignemnt. 1 paragraph, no more than 3 sentences.\n",
    "\n",
    "Based it off on the second person's narrative. And use \"you\".\n",
    "\"\"\"\n",
    "\n",
    "content = [task]\n",
    "response_1 = model.generate_content(content, stream=False)\n",
    "\n",
    "print(response_1.text)"
   ]
  },
  {
   "cell_type": "code",
   "execution_count": null,
   "id": "c17d24e7-db2d-485f-b49e-5fa117e8bd7b",
   "metadata": {},
   "outputs": [],
   "source": [
    "model = GenerativeModel(\"gemini-1.5-pro-001\")"
   ]
  },
  {
   "cell_type": "code",
   "execution_count": null,
   "id": "99bf0527-9ea2-438a-8c11-49daf038f8e4",
   "metadata": {},
   "outputs": [],
   "source": []
  },
  {
   "cell_type": "code",
   "execution_count": null,
   "id": "cfcda43c-2931-4995-892d-04838eb969a9",
   "metadata": {},
   "outputs": [],
   "source": []
  },
  {
   "cell_type": "code",
   "execution_count": null,
   "id": "bf5fa1f1-88e4-4091-a11d-f70f93f6c4d6",
   "metadata": {},
   "outputs": [],
   "source": []
  },
  {
   "cell_type": "code",
   "execution_count": null,
   "id": "e39bcf46-28ce-45c1-975a-4295e20d74bf",
   "metadata": {},
   "outputs": [],
   "source": []
  },
  {
   "cell_type": "code",
   "execution_count": null,
   "id": "7b25b3ad-299a-4cf8-bea9-5abd69304fc2",
   "metadata": {},
   "outputs": [],
   "source": []
  },
  {
   "cell_type": "code",
   "execution_count": null,
   "id": "5f1433c2-58f2-4cf1-bd78-72a2f14c8104",
   "metadata": {},
   "outputs": [],
   "source": []
  },
  {
   "cell_type": "code",
   "execution_count": null,
   "id": "8f0eeeb3-d070-4748-b2bb-a03799fc2ab4",
   "metadata": {},
   "outputs": [],
   "source": []
  }
 ],
 "metadata": {
  "kernelspec": {
   "display_name": "gc-c4",
   "language": "python",
   "name": "gc-c4"
  },
  "language_info": {
   "codemirror_mode": {
    "name": "ipython",
    "version": 3
   },
   "file_extension": ".py",
   "mimetype": "text/x-python",
   "name": "python",
   "nbconvert_exporter": "python",
   "pygments_lexer": "ipython3",
   "version": "3.10.14"
  }
 },
 "nbformat": 4,
 "nbformat_minor": 5
}
