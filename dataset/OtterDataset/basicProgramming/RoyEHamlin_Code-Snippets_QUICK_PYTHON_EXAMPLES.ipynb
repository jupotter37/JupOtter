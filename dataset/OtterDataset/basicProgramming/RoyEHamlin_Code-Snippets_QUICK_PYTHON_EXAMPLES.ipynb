{
  "cells": [
    {
      "cell_type": "markdown",
      "metadata": {
        "id": "view-in-github",
        "colab_type": "text"
      },
      "source": [
        "<a href=\"https://colab.research.google.com/github/RoyEHamlin/Code-Snippets/blob/main/QUICK_PYTHON_EXAMPLES.ipynb\" target=\"_parent\"><img src=\"https://colab.research.google.com/assets/colab-badge.svg\" alt=\"Open In Colab\"/></a>"
      ]
    },
    {
      "cell_type": "markdown",
      "metadata": {
        "id": "Iy5ebENzHUDt"
      },
      "source": [
        "#### Last Updated Friday, October 16, 2020\n",
        "#### Last Updated Monday, December 14, 2020\n",
        "#### Last updated Monday, September 06, 2021 (DataFrame from string)\n",
        "#### Downloaded from FIU and updated on Friday, September 03, 2021\n",
        "#### REdownloaded onto new Family Computer on Sunday, October 02, 2022"
      ]
    },
    {
      "cell_type": "markdown",
      "metadata": {
        "heading_collapsed": true,
        "id": "VY3e0f-3HUDv"
      },
      "source": [
        "# Imports -----------------------------------"
      ]
    },
    {
      "cell_type": "code",
      "execution_count": null,
      "metadata": {
        "hidden": true,
        "id": "b2uzbOoVHUDv"
      },
      "outputs": [],
      "source": [
        "# from sklearn import datasets\n",
        "# import pandas as pd\n",
        "# import statsmodels.api as sm\n",
        "# import matplotlib.pyplot as plt\n",
        "# from mpl_toolkits.mplot3d import axes3d, Axes3D"
      ]
    },
    {
      "cell_type": "markdown",
      "metadata": {
        "id": "dBuJQkKJHUDw"
      },
      "source": [
        "# Objects ------------------------------------"
      ]
    },
    {
      "cell_type": "code",
      "execution_count": null,
      "metadata": {
        "id": "qTAaoqHUHUDw",
        "outputId": "356e21a6-2a6a-4476-c303-5311fd45e873"
      },
      "outputs": [
        {
          "name": "stdout",
          "output_type": "stream",
          "text": [
            "['__abs__', '__add__', '__and__', '__bool__', '__ceil__', '__class__', '__delattr__', '__dir__', '__divmod__', '__doc__', '__eq__', '__float__', '__floor__', '__floordiv__', '__format__', '__ge__', '__getattribute__', '__getnewargs__', '__gt__', '__hash__', '__index__', '__init__', '__init_subclass__', '__int__', '__invert__', '__le__', '__lshift__', '__lt__', '__mod__', '__mul__', '__ne__', '__neg__', '__new__', '__or__', '__pos__', '__pow__', '__radd__', '__rand__', '__rdivmod__', '__reduce__', '__reduce_ex__', '__repr__', '__rfloordiv__', '__rlshift__', '__rmod__', '__rmul__', '__ror__', '__round__', '__rpow__', '__rrshift__', '__rshift__', '__rsub__', '__rtruediv__', '__rxor__', '__setattr__', '__sizeof__', '__str__', '__sub__', '__subclasshook__', '__truediv__', '__trunc__', '__xor__', 'as_integer_ratio', 'bit_length', 'conjugate', 'denominator', 'from_bytes', 'imag', 'numerator', 'real', 'to_bytes']\n"
          ]
        }
      ],
      "source": [
        "# View an object's functions\n",
        "# https://www.askpython.com/python/examples/find-all-methods-of-class 2021.09.08 - 17.53\n",
        "print(dir(int()))"
      ]
    },
    {
      "cell_type": "markdown",
      "metadata": {
        "heading_collapsed": true,
        "tags": [],
        "id": "1aky_rHrHUDx"
      },
      "source": [
        "# Functions ---------------------------"
      ]
    },
    {
      "cell_type": "markdown",
      "metadata": {
        "hidden": true,
        "id": "6QjZvDWQHUDx"
      },
      "source": [
        "## Define a Function"
      ]
    },
    {
      "cell_type": "code",
      "execution_count": null,
      "metadata": {
        "hidden": true,
        "id": "UBMC7eOdHUDy"
      },
      "outputs": [],
      "source": [
        "# from Ch1, Expected Values\n",
        "def flip(flips, trials):\n",
        "    return np.random.randint(0, 2, size=(trials, flips))"
      ]
    },
    {
      "cell_type": "markdown",
      "metadata": {
        "hidden": true,
        "id": "Of79GVAQHUDy"
      },
      "source": [
        "### Common Functions"
      ]
    },
    {
      "cell_type": "markdown",
      "metadata": {
        "hidden": true,
        "id": "k8Bz3yRpHUDy"
      },
      "source": [
        "#### Print()"
      ]
    },
    {
      "cell_type": "code",
      "execution_count": null,
      "metadata": {
        "hidden": true,
        "id": "xxwpLKGLHUDz",
        "outputId": "6f63efa5-4c12-4b28-8d85-d5b709ee8298"
      },
      "outputs": [
        {
          "name": "stdout",
          "output_type": "stream",
          "text": [
            "Hello World\n"
          ]
        }
      ],
      "source": [
        "# https://www.python-course.eu/python3_formatted_output.php\n",
        "# print(\"The feature importances are \" + str(dt.feature_importances_))  # Will not run :Decision Trees\n",
        "# print(\"The score is %f \" % dt.score(X, y))   # Will not run : Decision Trees\n",
        "print(\"Hello World\", end=\"\\n\") # new line: https://www.freecodecamp.org/news/python-new-line-and-how-to-python-print-without-a-newline/"
      ]
    },
    {
      "cell_type": "markdown",
      "metadata": {
        "id": "v4WF--62HUDz"
      },
      "source": [
        "# Referencing, Quotes, etc..."
      ]
    },
    {
      "cell_type": "code",
      "execution_count": null,
      "metadata": {
        "id": "TEWkfqCmHUDz"
      },
      "outputs": [],
      "source": [
        "# from: https://stackoverflow.com/questions/26236564/invalid-syntax-when-using-find-elemen-by-xpath\n",
        "# use triple quotes (\"\"\"sometext\"\"\")"
      ]
    },
    {
      "cell_type": "markdown",
      "metadata": {
        "id": "VqCuQ8IcHUD0"
      },
      "source": [
        "# Primatives ------------------------------"
      ]
    },
    {
      "cell_type": "markdown",
      "metadata": {
        "id": "jpHlopGpHUD0"
      },
      "source": [
        "### Unary and Binary Operators"
      ]
    },
    {
      "cell_type": "code",
      "execution_count": null,
      "metadata": {
        "id": "4hH-7ohJHUD0",
        "colab": {
          "base_uri": "https://localhost:8080/"
        },
        "outputId": "e498d8bd-fcbd-4102-ab81-8a687c0b12ed"
      },
      "outputs": [
        {
          "output_type": "execute_result",
          "data": {
            "text/plain": [
              "0"
            ]
          },
          "metadata": {},
          "execution_count": 2
        }
      ],
      "source": [
        "# https://www.tutorialspoint.com/python/python_basic_operators.htm\n",
        "# Arithmetic Operators\n",
        "1+1\n",
        "1-1\n",
        "# Comparison (Relational) Operators\n",
        "# Assignment Operators\n",
        "# Logical Operators\n",
        "# Bitwise Operators\n",
        "# Membership Operators\n",
        "# Identity Operators"
      ]
    },
    {
      "cell_type": "markdown",
      "metadata": {
        "heading_collapsed": true,
        "id": "BfYCAYr9HUD0"
      },
      "source": [
        "### Lists and Arrays"
      ]
    },
    {
      "cell_type": "code",
      "execution_count": null,
      "metadata": {
        "hidden": true,
        "id": "JqNAyPM5HUD0",
        "outputId": "3c96e542-c229-47f8-c269-5ebe4d7b9c77"
      },
      "outputs": [
        {
          "data": {
            "text/plain": [
              "['MI3', 'MI4']"
            ]
          },
          "execution_count": 31,
          "metadata": {},
          "output_type": "execute_result"
        }
      ],
      "source": [
        "# http://forums.whirlpool.net.au/archive/1199099\n",
        "# https://www.pythoncentral.io/the-difference-between-a-list-and-an-array/\n",
        "# https://www.geeksforgeeks.org/g-fact-41-multiple-return-values-in-python/\n",
        "# http://thomas-cokelaer.info/tutorials/python/data_structures.html\n",
        "anArray = [1,2,3]   # same type\n",
        "alist = [1, 2, \"a\", 'b'] # diff types, ITERABLE\n",
        "alist.append(anArray)\n",
        "\n",
        "myset = set()\n",
        "myset.add(1)\n",
        "\n",
        "atuple = (1, 2, \"a\")  # note quotes\n",
        "# https://www.pythonlearn.com/html-008/cfbook011.html\n",
        "\n",
        "aDictionary = {\"a\":1, \"b\":2}\n",
        "\n",
        "# Also : https://stackoverflow.com/questions/2225038/determine-the-type-of-an-object?utm_medium=organic&utm_source=google_rich_qa&utm_campaign=google_rich_qa\n",
        "type([]) is list\n",
        "# True\n",
        "type({}) is dict\n",
        "# True\n",
        "type('') is str\n",
        "# True\n",
        "type(0) is int\n",
        "# True\n",
        "type({})\n",
        "# <type 'dict'>\n",
        "type([])\n",
        "# <type 'list'>\n",
        "\n",
        "# Sets vs Lists/Tuples\n",
        "# https://www.datacamp.com/community/tutorials/sets-in-python\n",
        "# Sets CANNOT have duplicates\n",
        "\n",
        "# Sum Arrays\n",
        "# https://stackoverflow.com/questions/11344827/summing-elements-in-a-list\n",
        "weights = [5, 20, 20, 5, 25, 25]\n",
        "sum(weights)\n",
        "\n",
        "# Append to List/array\n",
        "# https://developers.google.com/edu/python/lists\n",
        "ind_prune = []\n",
        "ind_prune.append(1)\n",
        "ind_prune.append(3)\n",
        "ind_prune\n",
        "# out :: [1, 3]\n",
        "\n",
        "# List like string to real list\n",
        "# https://stackoverflow.com/questions/20250396/converting-string-that-looks-like-a-list-into-a-real-list-python\n",
        "import ast\n",
        "ast.literal_eval(\"['MI3', 'MI4']\")\n",
        "# out : ['MI3', 'MI4']"
      ]
    },
    {
      "cell_type": "code",
      "execution_count": null,
      "metadata": {
        "id": "CQVA6CS0HUD1"
      },
      "outputs": [],
      "source": [
        "# Cast string with commas and periods to float\n",
        "# https://stackoverflow.com/questions/6633523/how-can-i-convert-a-string-with-dot-and-comma-into-a-float-in-python/6633912"
      ]
    },
    {
      "cell_type": "markdown",
      "source": [
        "### Dictionaries"
      ],
      "metadata": {
        "id": "rLQ6Lln2IbSB"
      }
    },
    {
      "cell_type": "code",
      "source": [
        "# https://www.pythonforbeginners.com/dictionary/python-dictionary-quick-guide\n",
        "# https://python-course.eu/python-tutorial/dictionaries.php\n",
        "# http://doc.pyschools.com/html/dictionary.html\n",
        "# https://sparkbyexamples.com/python-tutorial/python-iterate-over-a-dictionary/\n",
        "# https://www.learnpython.org/en/Dictionaries"
      ],
      "metadata": {
        "id": "NlG7If8WIeU8"
      },
      "execution_count": null,
      "outputs": []
    },
    {
      "cell_type": "markdown",
      "source": [],
      "metadata": {
        "id": "8V5eBzrVIgXF"
      }
    },
    {
      "cell_type": "markdown",
      "metadata": {
        "hidden": true,
        "id": "ou4VkIjFHUD1"
      },
      "source": [
        "# Access "
      ]
    },
    {
      "cell_type": "code",
      "execution_count": null,
      "metadata": {
        "hidden": true,
        "id": "WGVJrQrLHUD1",
        "outputId": "0ffb9c37-85e2-495b-bea9-7562e784586d"
      },
      "outputs": [
        {
          "data": {
            "text/plain": [
              "False"
            ]
          },
          "execution_count": 2,
          "metadata": {},
          "output_type": "execute_result"
        }
      ],
      "source": [
        "# Sum lists, unknown number of arguments\n",
        "custom_function = lambda *args: reduce(lambda x, y: x and y, args, True)\n",
        "\n",
        "custom_function = lambda *args: all(args)\n",
        "custom_function(1, 2, 3, 0)\n",
        "\n",
        "# custom_function = lambda *args: "
      ]
    },
    {
      "cell_type": "code",
      "execution_count": null,
      "metadata": {
        "hidden": true,
        "id": "hEWPgUbFHUD1",
        "outputId": "19be114a-f61c-4767-c7a5-97022a066559"
      },
      "outputs": [
        {
          "name": "stdout",
          "output_type": "stream",
          "text": [
            "[1, 2, 3, 4, 5] [2, 2, 9, 0, 9] [3, 2, 12, 0, 9]\n"
          ]
        }
      ],
      "source": [
        "# return elements from a list as arguments\n",
        "# https://stackoverflow.com/questions/3941517/converting-list-to-args-when-calling-function/3941529\n",
        "a = [1, 2, 3, 4, 5]\n",
        "b = [2, 2, 9, 0, 9]\n",
        "c = [3, 2, 12, 0, 9]\n",
        "d = [a,b,c]\n",
        "print(*d)"
      ]
    },
    {
      "cell_type": "code",
      "execution_count": null,
      "metadata": {
        "hidden": true,
        "id": "6RZZ84gPHUD1",
        "outputId": "8542f5d1-f9ca-4f48-a37f-72b23139bde0"
      },
      "outputs": [
        {
          "data": {
            "text/plain": [
              "4"
            ]
          },
          "execution_count": 26,
          "metadata": {},
          "output_type": "execute_result"
        }
      ],
      "source": [
        "# index of last non-zero element in an array\n",
        "# https://stackoverflow.com/questions/41346403/return-index-of-last-non-zero-element-in-list\n",
        "import numpy as np\n",
        "a = [0,0,1,1,1]\n",
        "np.max(np.nonzero(a))"
      ]
    },
    {
      "cell_type": "code",
      "execution_count": null,
      "metadata": {
        "hidden": true,
        "id": "7Bd3xDgIHUD2",
        "outputId": "170ef84b-99db-4499-ec4b-86d8590477b1"
      },
      "outputs": [
        {
          "name": "stdout",
          "output_type": "stream",
          "text": [
            "<class 'set'>\n",
            "s\n",
            "k\n",
            "g\n",
            "e\n",
            "['s', 'k', 'g', 'e']\n"
          ]
        },
        {
          "data": {
            "text/plain": [
              "['s', 'k', 'g', 'e']"
            ]
          },
          "execution_count": 44,
          "metadata": {},
          "output_type": "execute_result"
        }
      ],
      "source": [
        "# Iterator to List\n",
        "# https://stackoverflow.com/questions/3790848/fastest-way-to-convert-an-iterator-to-a-list\n",
        "aSet = set(\"geeks\")\n",
        "print(type(aSet))\n",
        "for x in aSet:\n",
        "    print(x)\n",
        "\n",
        "# Method A\n",
        "print([*aSet])\n",
        "# Method B\n",
        "list(aSet)"
      ]
    },
    {
      "cell_type": "markdown",
      "metadata": {
        "hidden": true,
        "id": "q2fuqhy-HUD2"
      },
      "source": [
        "#####  ____ Sum terms of a list. Can also use other basic methods such as product, etc."
      ]
    },
    {
      "cell_type": "code",
      "execution_count": null,
      "metadata": {
        "hidden": true,
        "id": "VhfiKNVAHUD2",
        "outputId": "67730788-9e27-4709-e530-2bcb44cd7812"
      },
      "outputs": [
        {
          "name": "stdout",
          "output_type": "stream",
          "text": [
            "[32, 1, 1, 2]\n",
            "[10, 0, 1, 1]\n",
            "[32, 1, 1, 2]\n"
          ]
        }
      ],
      "source": [
        "#  sum lists by element - https://therenegadecoder.com/code/how-to-sum-elements-of-two-lists-in-python/\n",
        "a = [3,0,0,1]\n",
        "b = [7,0,1,0]\n",
        "c = [22,1,0,1]\n",
        "\n",
        "# Method A\n",
        "# Method B\n",
        "methB = [x + y + z for x, y, z in zip(a, b, c)]\n",
        "print(methB)\n",
        "# Method C\n",
        "import operator\n",
        "methC = list(map(operator.add, a, b)) # only works w/ two lists at a time. \"list() used to view map object\"\n",
        "print(methC)\n",
        "# Method D (mine)\n",
        "methD = list(map(lambda pair: sum(pair), zip(a, b, c)))\n",
        "print(methD)"
      ]
    },
    {
      "cell_type": "markdown",
      "metadata": {
        "hidden": true,
        "id": "7sCVp1-JHUD2"
      },
      "source": [
        "#### Print a column in a 2D List"
      ]
    },
    {
      "cell_type": "code",
      "execution_count": null,
      "metadata": {
        "hidden": true,
        "id": "7xmo9-VcHUD2",
        "outputId": "49d41120-953a-4e80-e095-2c27b497e4fa"
      },
      "outputs": [
        {
          "name": "stdout",
          "output_type": "stream",
          "text": [
            "2\n",
            "5\n",
            "8\n"
          ]
        }
      ],
      "source": [
        "# https://www.kite.com/python/answers/how-to-extract-a-column-from-a-multidimensional-array-in-python\n",
        "an_array = [[1,2,3],\n",
        "            [4,5,6],\n",
        "            [7,8,9]]\n",
        "\n",
        "for x in [row[1] for row in an_array]:\n",
        "    print(x)"
      ]
    },
    {
      "cell_type": "code",
      "execution_count": null,
      "metadata": {
        "ExecuteTime": {
          "end_time": "2020-11-22T02:11:52.557424Z",
          "start_time": "2020-11-22T02:11:52.531048Z"
        },
        "hidden": true,
        "id": "-2JmI_WXHUD2",
        "outputId": "51623752-1259-4f65-bf44-e07fadfce647"
      },
      "outputs": [
        {
          "data": {
            "text/plain": [
              "[['19.0_01_07', 1],\n",
              " ['20.0_01_14', 2],\n",
              " ['20.0_02_22', 3],\n",
              " ['28.0_02_13', 3],\n",
              " ['29.0_01_11', 1]]"
            ]
          },
          "execution_count": 1,
          "metadata": {},
          "output_type": "execute_result"
        }
      ],
      "source": [
        "# multidimentional list column or row\n",
        "c5train = [[\"19.0_01_07\", 1],  \n",
        "           [\"20.0_01_14\", 2],  \n",
        "           [\"20.0_02_22\", 3],\n",
        "           [\"28.0_02_13\", 3],\n",
        "           [\"29.0_01_11\", 1]]\n",
        "\n",
        "c5train[:][:]"
      ]
    },
    {
      "cell_type": "code",
      "execution_count": null,
      "metadata": {
        "ExecuteTime": {
          "end_time": "2020-11-22T02:20:10.678006Z",
          "start_time": "2020-11-22T02:20:10.663323Z"
        },
        "hidden": true,
        "scrolled": true,
        "id": "6-LmmNhIHUD3",
        "outputId": "cc988073-d959-481a-8d5f-50d90108c48f"
      },
      "outputs": [
        {
          "data": {
            "text/plain": [
              "['19.0_01_07', 1]"
            ]
          },
          "execution_count": 12,
          "metadata": {},
          "output_type": "execute_result"
        }
      ],
      "source": [
        "c5train[0]  # row 0"
      ]
    },
    {
      "cell_type": "code",
      "execution_count": null,
      "metadata": {
        "ExecuteTime": {
          "end_time": "2020-11-22T02:21:52.981694Z",
          "start_time": "2020-11-22T02:21:52.969005Z"
        },
        "hidden": true,
        "id": "Ke9eiMrkHUD3",
        "outputId": "263861ef-fd72-4ad8-b9cc-c2f8b045774e"
      },
      "outputs": [
        {
          "data": {
            "text/plain": [
              "['19.0_01_07', '20.0_01_14', '20.0_02_22', '28.0_02_13', '29.0_01_11']"
            ]
          },
          "execution_count": 14,
          "metadata": {},
          "output_type": "execute_result"
        }
      ],
      "source": [
        "# https://stackoverflow.com/questions/903853/how-do-you-extract-a-column-from-a-multi-dimensional-array\n",
        "list(np.array(c5train).transpose()[0])"
      ]
    },
    {
      "cell_type": "code",
      "execution_count": null,
      "metadata": {
        "ExecuteTime": {
          "end_time": "2020-11-22T02:27:04.653515Z",
          "start_time": "2020-11-22T02:27:04.644737Z"
        },
        "hidden": true,
        "id": "liWu0nGfHUD3",
        "outputId": "f317b6fc-a104-4c4e-a37e-958e50ebf420"
      },
      "outputs": [
        {
          "data": {
            "text/plain": [
              "matrix([['19.0_01_07'],\n",
              "        ['20.0_01_14'],\n",
              "        ['20.0_02_22'],\n",
              "        ['28.0_02_13'],\n",
              "        ['29.0_01_11']], dtype='<U10')"
            ]
          },
          "execution_count": 26,
          "metadata": {},
          "output_type": "execute_result"
        }
      ],
      "source": [
        "np.asmatrix(np.array(c5train))[:,0]"
      ]
    },
    {
      "cell_type": "code",
      "execution_count": null,
      "metadata": {
        "ExecuteTime": {
          "end_time": "2020-11-22T02:27:20.517782Z",
          "start_time": "2020-11-22T02:27:20.512931Z"
        },
        "hidden": true,
        "id": "ZyZt4unhHUD3"
      },
      "outputs": [],
      "source": [
        "# map(None, *[np.array(c5train)])[0]"
      ]
    },
    {
      "cell_type": "code",
      "execution_count": null,
      "metadata": {
        "ExecuteTime": {
          "end_time": "2020-11-22T02:28:23.897328Z",
          "start_time": "2020-11-22T02:28:23.888407Z"
        },
        "hidden": true,
        "id": "PUTaw76vHUD3"
      },
      "outputs": [],
      "source": [
        "# zip method"
      ]
    },
    {
      "cell_type": "raw",
      "metadata": {
        "hidden": true,
        "id": "Ka1VrFgXHUD3"
      },
      "source": []
    },
    {
      "cell_type": "markdown",
      "metadata": {
        "id": "scNp49ZjHUD3"
      },
      "source": [
        "# Data Types (General) ---------------------------------"
      ]
    },
    {
      "cell_type": "code",
      "execution_count": null,
      "metadata": {
        "id": "5lGCShKLHUD4"
      },
      "outputs": [],
      "source": [
        "# https://docs.python.org/3/library/stdtypes.html#truth-value-testing\n",
        "#    ONLY BOOL and len = 0 of types are FALSE\n",
        "# All Types here https://www.kite.com/python/examples/3316/types-check-if-a-value-is-a-boolean"
      ]
    },
    {
      "cell_type": "code",
      "execution_count": null,
      "metadata": {
        "ExecuteTime": {
          "end_time": "2020-12-21T04:43:14.791810Z",
          "start_time": "2020-12-21T04:43:14.776668Z"
        },
        "id": "y4VjBgU5HUD4",
        "outputId": "fbebc4a4-5cb7-4be2-aa7b-94f234ca7956"
      },
      "outputs": [
        {
          "data": {
            "text/plain": [
              "str"
            ]
          },
          "execution_count": 32,
          "metadata": {},
          "output_type": "execute_result"
        }
      ],
      "source": [
        "# Get data type\n",
        "a_string = \"some text\"\n",
        "type(a_string)"
      ]
    },
    {
      "cell_type": "code",
      "execution_count": null,
      "metadata": {
        "id": "ROKhGHXAHUD4",
        "outputId": "2da2db83-bb3a-4a2e-92fe-0964d613fbed"
      },
      "outputs": [
        {
          "name": "stdout",
          "output_type": "stream",
          "text": [
            "<class 'pandas.core.frame.DataFrame'>\n",
            "RangeIndex: 5 entries, 0 to 4\n",
            "Data columns (total 5 columns):\n",
            " #   Column  Non-Null Count  Dtype\n",
            "---  ------  --------------  -----\n",
            " 0   A       5 non-null      int64\n",
            " 1   B       5 non-null      int64\n",
            " 2   C       5 non-null      int64\n",
            " 3   D       5 non-null      int64\n",
            " 4   E       5 non-null      int64\n",
            "dtypes: int64(5)\n",
            "memory usage: 328.0 bytes\n"
          ]
        }
      ],
      "source": [
        "# Panda Dataframe\n",
        "# below is duplicated code, except for last line\n",
        "import pandas as pd\n",
        "# Creating\n",
        "## e.g. 1\n",
        "df = pd.DataFrame({\"A\":[34,12,78,84,26], \n",
        "                   \"B\":[54,87,35,25,82], \n",
        "                   \"C\":[56,78,0,14,13], \n",
        "                   \"D\":[0,23,72,56,14], \n",
        "                   \"E\":[78,12,31,0,34]})\n",
        "df.info()"
      ]
    },
    {
      "cell_type": "markdown",
      "metadata": {
        "id": "8P8SgGnXHUD4"
      },
      "source": [
        "## Iterables"
      ]
    },
    {
      "cell_type": "code",
      "execution_count": null,
      "metadata": {
        "id": "dE_zKS4JHUD4",
        "outputId": "474361d5-e6c3-473e-dbe3-e24f44b9fd32"
      },
      "outputs": [
        {
          "name": "stdout",
          "output_type": "stream",
          "text": [
            "item #0 = 8\n",
            "item #1 = 23\n",
            "item #2 = 45\n",
            "item #3 = 12\n",
            "item #4 = 78\n"
          ]
        }
      ],
      "source": [
        "# access the index w/i a for loop\n",
        "# https://stackoverflow.com/questions/522563/accessing-the-index-in-for-loops\n",
        "ints = [8, 23, 45, 12, 78]\n",
        "for idx, val in enumerate(ints):\n",
        "    print('item #{} = {}'.format(idx, val))"
      ]
    },
    {
      "cell_type": "markdown",
      "metadata": {
        "id": "tCdauUAUHUD4"
      },
      "source": [
        "# Strings --------------------------------------"
      ]
    },
    {
      "cell_type": "code",
      "execution_count": null,
      "metadata": {
        "id": "Uatszh0vHUD4"
      },
      "outputs": [],
      "source": [
        "# Substrings : \n",
        "# https://www.dotnetperls.com/substring-python\n",
        "# https://developers.google.com/edu/python/strings\n",
        "\n",
        "# https://stackoverflow.com/questions/11279331/what-does-the-u-symbol-mean-in-front-of-string-values\n",
        "# sentence = nlp(u'The quick-brown-fox jumps over the lazy dog. The quick brown fox eats well. \\\n",
        "#                the quickbrownfox is dead. the dog misses the quick brownfox')\n",
        "# Creates a UNICODE string, also uses the \"\\\"\n",
        "# Format float values to \"n\" places.\n",
        "#    http://randlet.com/blog/python-significant-figures-format/\n",
        "# Constants: https://docs.python.org/3/library/string.html"
      ]
    },
    {
      "cell_type": "markdown",
      "metadata": {
        "id": "jTR31FbvHUD4"
      },
      "source": [
        "#### Percent sign"
      ]
    },
    {
      "cell_type": "code",
      "execution_count": null,
      "metadata": {
        "ExecuteTime": {
          "end_time": "2020-12-15T03:05:51.967950Z",
          "start_time": "2020-12-15T03:05:51.957214Z"
        },
        "id": "Dz3lA6pvHUD5",
        "outputId": "c49b4d3c-1e9f-4a54-f8cf-d98d18980d8e"
      },
      "outputs": [
        {
          "name": "stdout",
          "output_type": "stream",
          "text": [
            "John is 23 years old.\n"
          ]
        }
      ],
      "source": [
        "# Printing strings using % sign\n",
        "# https://www.learnpython.org/en/String_Formatting\n",
        "# https://realpython.com/python-formatted-output/     *** many good examples ***\n",
        "# %s - String (or any object with a string representation, like numbers)\n",
        "# %d - Decimal Integers\n",
        "# %f or %F - Floating point numbers\n",
        "# %.<number of digits>f - Floating point numbers with a fixed amount of digits to the right of the dot.\n",
        "# %x/%X - Integers in hex representation (lowercase/uppercase)\n",
        "# %b - binary\n",
        "# %c - single character\n",
        "# %e or %E - Exponential\n",
        "# %g or %G - Floating Point or Exponential\n",
        "# %o - Octal\n",
        "# %% - percentage\n",
        "\n",
        "name = \"John\"\n",
        "age = 23\n",
        "print(\"%s is %d years old.\" % (name, age))"
      ]
    },
    {
      "cell_type": "code",
      "execution_count": null,
      "metadata": {
        "ExecuteTime": {
          "end_time": "2020-12-15T03:18:39.612001Z",
          "start_time": "2020-12-15T03:18:39.597343Z"
        },
        "scrolled": true,
        "id": "gNECvstZHUD5",
        "outputId": "d13437de-4bdd-4484-cd5f-3ae68a0a4838"
      },
      "outputs": [
        {
          "name": "stdout",
          "output_type": "stream",
          "text": [
            "Exept A:  inf\n",
            "Exept B:  inf\n",
            "Exept C:  nan\n",
            "Exept D:  INF\n",
            "Exept E:  NAN\n"
          ]
        }
      ],
      "source": [
        "# exception A\n",
        "x = 1e300 * 1e300\n",
        "print(\"Exept A: \", x)\n",
        "\n",
        "# exception B\n",
        "print(\"Exept B: \",'{:g}'.format(x))\n",
        "\n",
        "# exception C\n",
        "print(\"Exept C: \",'{:g}'.format(x * 0))\n",
        "\n",
        "# exception D\n",
        "print(\"Exept D: \",'{:G}'.format(x))\n",
        "\n",
        "# exception E\n",
        "print(\"Exept E: \",'{:G}'.format(x * 0))"
      ]
    },
    {
      "cell_type": "markdown",
      "metadata": {
        "id": "aDla3rlcHUD5"
      },
      "source": [
        "#### Replacement field"
      ]
    },
    {
      "cell_type": "code",
      "execution_count": null,
      "metadata": {
        "ExecuteTime": {
          "end_time": "2020-12-15T03:23:09.293139Z",
          "start_time": "2020-12-15T03:23:09.284357Z"
        },
        "id": "0q8NnhttHUD5",
        "outputId": "b0b1b4f7-5de1-4954-9d06-8e2d4993ea25"
      },
      "outputs": [
        {
          "name": "stdout",
          "output_type": "stream",
          "text": [
            "item #0 = 8\n",
            "item #1 = 23\n",
            "item #2 = 45\n",
            "item #3 = 12\n",
            "item #4 = 78\n"
          ]
        }
      ],
      "source": [
        "# Replacement Field\n",
        "# https://www.geeksforgeeks.org/python-format-function/\n",
        "ints = [8, 23, 45, 12, 78]\n",
        "for idx, val in enumerate(ints):\n",
        "    print('item #{} = {}'.format(idx, val))"
      ]
    },
    {
      "cell_type": "code",
      "execution_count": null,
      "metadata": {
        "ExecuteTime": {
          "end_time": "2020-12-15T03:25:12.202788Z",
          "start_time": "2020-12-15T03:25:12.193045Z"
        },
        "id": "dtNLfNjvHUD5",
        "outputId": "e8abfa03-3447-4fe6-c333-1ef20151e93d"
      },
      "outputs": [
        {
          "name": "stdout",
          "output_type": "stream",
          "text": [
            " GeeksforGeeks   was founded in 2009!\n",
            "*******Geeks********\n",
            "It is    40 degrees outside !\n"
          ]
        }
      ],
      "source": [
        "# left, center, right alignment\n",
        "print(\"{0:^16} was founded in {1:<4}!\"\n",
        "        .format(\"GeeksforGeeks\", 2009)) \n",
        "\n",
        "print(\"{:*^20s}\".format(\"Geeks\")) \n",
        "\n",
        "print(\"It is {0:5} degrees outside !\"\n",
        "                        .format(40)) "
      ]
    },
    {
      "cell_type": "code",
      "execution_count": null,
      "metadata": {
        "ExecuteTime": {
          "end_time": "2020-12-15T03:26:52.687702Z",
          "start_time": "2020-12-15T03:26:49.382975Z"
        },
        "id": "FZUZevVzHUD5",
        "outputId": "8b140852-dd9c-4d21-efbb-096ea03202ec"
      },
      "outputs": [
        {
          "name": "stdout",
          "output_type": "stream",
          "text": [
            "Enter lower range :-\n",
            "1\n",
            "Enter upper range :-\n",
            "6\n",
            "------Before Using Formatters-------\n",
            "1 1 1 1\n",
            "2 4 8 16\n",
            "3 9 27 81\n",
            "4 16 64 256\n",
            "5 25 125 625\n",
            "\n",
            "-------After Using Formatters---------\n",
            "\n",
            "     1      1      1      1\n",
            "     2      4      8     16\n",
            "     3      9     27     81\n",
            "     4     16     64    256\n",
            "     5     25    125    625\n"
          ]
        }
      ],
      "source": [
        "# Function prints out values \n",
        "# in an unorganized manner \n",
        "def unorganized(a, b): \n",
        "    for i in range (a, b): \n",
        "        print ( i, i**2, i**3, i**4 ) \n",
        "  \n",
        "# Function prints the organized set of values \n",
        "def organized(a, b): \n",
        "    for i in range (a, b): \n",
        "  \n",
        "        # Using formatters to give 6  \n",
        "        # spaces to each set of values \n",
        "        print(\"{:6d} {:6d} {:6d} {:6d}\"\n",
        "        .format(i, i ** 2, i ** 3, i ** 4)) \n",
        "  \n",
        "# Driver Code \n",
        "n1 = int(input(\"Enter lower range :-\\n\")) \n",
        "n2 = int(input(\"Enter upper range :-\\n\")) \n",
        "  \n",
        "print(\"------Before Using Formatters-------\") \n",
        "  \n",
        "# Calling function without formatters \n",
        "unorganized(n1, n2) \n",
        "  \n",
        "print() \n",
        "print(\"-------After Using Formatters---------\") \n",
        "print() \n",
        "  \n",
        "# Calling function that contains \n",
        "# formatters to organize the data \n",
        "organized(n1, n2) "
      ]
    },
    {
      "cell_type": "markdown",
      "metadata": {
        "id": "MKgZbygiHUD5"
      },
      "source": [
        "#### f-String Literal"
      ]
    },
    {
      "cell_type": "code",
      "execution_count": null,
      "metadata": {
        "ExecuteTime": {
          "end_time": "2020-12-15T03:23:06.769682Z",
          "start_time": "2020-12-15T03:23:06.758937Z"
        },
        "id": "Vi6xQlCOHUD6",
        "outputId": "517eb994-e818-4c38-fda8-e3e7ce634b96"
      },
      "outputs": [
        {
          "name": "stdout",
          "output_type": "stream",
          "text": [
            "Hello, My name is Tushar and I'm 23 years old.\n"
          ]
        }
      ],
      "source": [
        "# https://www.geeksforgeeks.org/formatted-string-literals-f-strings-python/\n",
        "name = 'Tushar'\n",
        "age = 23\n",
        "print(f\"Hello, My name is {name} and I'm {age} years old.\") "
      ]
    },
    {
      "cell_type": "markdown",
      "metadata": {
        "heading_collapsed": true,
        "id": "9Rm7xXTnHUD6"
      },
      "source": [
        "# Panda DataFrames -----------------------------"
      ]
    },
    {
      "cell_type": "markdown",
      "metadata": {
        "id": "B7LUMtPAHUD6"
      },
      "source": [
        "##### ***** LEFT OFF HERE *****"
      ]
    },
    {
      "cell_type": "markdown",
      "metadata": {
        "hidden": true,
        "id": "45FtdQpkHUD6"
      },
      "source": [
        "### Creation"
      ]
    },
    {
      "cell_type": "code",
      "execution_count": null,
      "metadata": {
        "ExecuteTime": {
          "end_time": "2020-12-15T02:53:00.062655Z",
          "start_time": "2020-12-15T02:52:59.269707Z"
        },
        "hidden": true,
        "id": "PNn2KWkBHUD6",
        "outputId": "8cfebf25-b169-4b70-ead8-fbde2a634ee9"
      },
      "outputs": [
        {
          "name": "stdout",
          "output_type": "stream",
          "text": [
            "       Name    Team Position  Number  Age Height  Weight   College  Salary\n",
            "ind1  Geeks  Boston       PG       3   33    6-2      89       MIT   99999\n",
            "ind2  Peter  Boston       PG       4   25    6-4      79       MIT   99994\n",
            "ind3  James  Boston       UG       7   34    5-9     113       MIT   89999\n",
            "ind4   Jack   Chele       PG      11   35    6-1      78  Stanford   78889\n",
            "ind5   Lisa   Barse       UG       5   28    5-8      84  Stanford   87779 \n",
            "\n"
          ]
        }
      ],
      "source": [
        "import pandas as pd\n",
        "# Creating\n",
        "## e.g. 1\n",
        "df = pd.DataFrame({\"A\":[34,12,78,84,26], \n",
        "                   \"B\":[54,87,35,25,82], \n",
        "                   \"C\":[56,78,0,14,13], \n",
        "                   \"D\":[0,23,72,56,14], \n",
        "                   \"E\":[78,12,31,0,34]})\n",
        "\n",
        "## e.g. 2. from list of lists\n",
        "dataset = [['Milk', 'Beer', 'Diapers'],\n",
        "           ['Bread', 'Butter', 'Milk'],\n",
        "           ['Milk', 'Diapers', 'Cookies'],\n",
        "           ['Bread', 'Butter', 'Cookies'],\n",
        "           ['Beer', 'Cookies', 'Diapers'],\n",
        "           ['Milk', 'Diapers', 'Bread', 'Butter'],\n",
        "           ['Bread', 'Butter', 'Diapers'],\n",
        "           ['Beer', 'Diapers'],\n",
        "           ['Milk', 'Diapers', 'Bread', 'Butter'],\n",
        "           ['Beer', 'Cookies']]\n",
        "df2 = pd.DataFrame(dataset)  \n",
        "\n",
        "## e.g. 3. using 'index'\n",
        "df3 = pd.DataFrame({'Name': ['Geeks', 'Peter', 'James', 'Jack', 'Lisa'], \n",
        "                    'Team': ['Boston', 'Boston', 'Boston', 'Chele', 'Barse'], \n",
        "                    'Position': ['PG', 'PG', 'UG', 'PG', 'UG'], \n",
        "                    'Number': [3, 4, 7, 11, 5], \n",
        "                    'Age': [33, 25, 34, 35, 28], \n",
        "                    'Height': ['6-2', '6-4', '5-9', '6-1', '5-8'], \n",
        "                    'Weight': [89, 79, 113, 78, 84], \n",
        "                    'College': ['MIT', 'MIT', 'MIT', 'Stanford', 'Stanford'], \n",
        "                    'Salary': [99999, 99994, 89999, 78889, 87779]}, \n",
        "                    index =['ind1', 'ind2', 'ind3', 'ind4', 'ind5']) \n",
        "print(df3, \"\\n\") "
      ]
    },
    {
      "cell_type": "code",
      "execution_count": null,
      "metadata": {
        "hidden": true,
        "tags": [],
        "id": "L8JEOtlVHUD6"
      },
      "outputs": [],
      "source": [
        "# Load from File\n",
        "# CSVs : https://chrisalbon.com/python/data_wrangling/pandas_dataframe_importing_csv/\n",
        "# df.to_csv('pandas_dataframe_importing_csv/example.csv')\n",
        "# df = pd.read_csv('pandas_dataframe_importing_csv/example.csv')\n",
        "# df = pd.read_csv('pandas_dataframe_importing_csv/example.csv', header=None)\n",
        "# df = pd.read_csv('pandas_dataframe_importing_csv/example.csv', names=['UID', 'First Name', 'Last Name', 'Age', 'Pre-Test Score', 'Post-Test Score'])\n",
        "# UID set as index\n",
        "# df = pd.read_csv('pandas_dataframe_importing_csv/example.csv', index_col='UID', names=['UID', 'First Name', 'Last Name', 'Age', 'Pre-Test Score', 'Post-Test Score'])\n",
        "# First, Last as index\n",
        "# df = pd.read_csv('pandas_dataframe_importing_csv/example.csv', index_col=['First Name', 'Last Name'], names=['UID', 'First Name', 'Last Name', 'Age', 'Pre-Test Score', 'Post-Test Score'])"
      ]
    },
    {
      "cell_type": "code",
      "execution_count": null,
      "metadata": {
        "id": "EA7msCZ8HUD6"
      },
      "outputs": [],
      "source": [
        "# Show ALL rows of dataframe in Jupyter notebook 2021.09.06 - 10.28\n",
        "# https://stackoverflow.com/questions/46554597/how-to-display-all-rows-in-jupyter-notebook\n",
        "pd.options.display.max_rows = None"
      ]
    },
    {
      "cell_type": "code",
      "execution_count": null,
      "metadata": {
        "id": "OpnIoRMiHUD7",
        "outputId": "a587e94f-e171-4621-bb40-49035f79a6a7"
      },
      "outputs": [
        {
          "data": {
            "text/html": [
              "<div>\n",
              "<style scoped>\n",
              "    .dataframe tbody tr th:only-of-type {\n",
              "        vertical-align: middle;\n",
              "    }\n",
              "\n",
              "    .dataframe tbody tr th {\n",
              "        vertical-align: top;\n",
              "    }\n",
              "\n",
              "    .dataframe thead th {\n",
              "        text-align: right;\n",
              "    }\n",
              "</style>\n",
              "<table border=\"1\" class=\"dataframe\">\n",
              "  <thead>\n",
              "    <tr style=\"text-align: right;\">\n",
              "      <th></th>\n",
              "      <th>A</th>\n",
              "      <th>B</th>\n",
              "      <th>C</th>\n",
              "      <th>D</th>\n",
              "      <th>E</th>\n",
              "    </tr>\n",
              "  </thead>\n",
              "  <tbody>\n",
              "    <tr>\n",
              "      <th>0</th>\n",
              "      <td>34</td>\n",
              "      <td>54</td>\n",
              "      <td>56</td>\n",
              "      <td>0</td>\n",
              "      <td>78</td>\n",
              "    </tr>\n",
              "    <tr>\n",
              "      <th>1</th>\n",
              "      <td>12</td>\n",
              "      <td>87</td>\n",
              "      <td>78</td>\n",
              "      <td>23</td>\n",
              "      <td>12</td>\n",
              "    </tr>\n",
              "    <tr>\n",
              "      <th>2</th>\n",
              "      <td>78</td>\n",
              "      <td>35</td>\n",
              "      <td>0</td>\n",
              "      <td>72</td>\n",
              "      <td>31</td>\n",
              "    </tr>\n",
              "    <tr>\n",
              "      <th>3</th>\n",
              "      <td>84</td>\n",
              "      <td>25</td>\n",
              "      <td>14</td>\n",
              "      <td>56</td>\n",
              "      <td>0</td>\n",
              "    </tr>\n",
              "    <tr>\n",
              "      <th>4</th>\n",
              "      <td>26</td>\n",
              "      <td>82</td>\n",
              "      <td>13</td>\n",
              "      <td>14</td>\n",
              "      <td>34</td>\n",
              "    </tr>\n",
              "  </tbody>\n",
              "</table>\n",
              "</div>"
            ],
            "text/plain": [
              "    A   B   C   D   E\n",
              "0  34  54  56   0  78\n",
              "1  12  87  78  23  12\n",
              "2  78  35   0  72  31\n",
              "3  84  25  14  56   0\n",
              "4  26  82  13  14  34"
            ]
          },
          "execution_count": 9,
          "metadata": {},
          "output_type": "execute_result"
        }
      ],
      "source": [
        "# Set Column Names\n",
        "#    While loading CSV: https://stackoverflow.com/questions/31645466/give-column-name-when-read-csv-file-pandas\n"
      ]
    },
    {
      "cell_type": "code",
      "execution_count": null,
      "metadata": {
        "collapsed": true,
        "jupyter": {
          "outputs_hidden": true
        },
        "tags": [],
        "id": "Ck99AEF4HUD7",
        "outputId": "cb119fdb-f6af-42c8-ba0c-6629d62086d5"
      },
      "outputs": [
        {
          "data": {
            "text/html": [
              "<div>\n",
              "<style scoped>\n",
              "    .dataframe tbody tr th:only-of-type {\n",
              "        vertical-align: middle;\n",
              "    }\n",
              "\n",
              "    .dataframe tbody tr th {\n",
              "        vertical-align: top;\n",
              "    }\n",
              "\n",
              "    .dataframe thead th {\n",
              "        text-align: right;\n",
              "    }\n",
              "</style>\n",
              "<table border=\"1\" class=\"dataframe\">\n",
              "  <thead>\n",
              "    <tr style=\"text-align: right;\">\n",
              "      <th></th>\n",
              "      <th>0</th>\n",
              "      <th>1</th>\n",
              "      <th>2</th>\n",
              "    </tr>\n",
              "  </thead>\n",
              "  <tbody>\n",
              "    <tr>\n",
              "      <th>0</th>\n",
              "      <td>51,573.38</td>\n",
              "      <td>0.1196</td>\n",
              "      <td>4.0636</td>\n",
              "    </tr>\n",
              "    <tr>\n",
              "      <th>1</th>\n",
              "      <td>51,573.34</td>\n",
              "      <td>0.2684</td>\n",
              "      <td>3.9440</td>\n",
              "    </tr>\n",
              "    <tr>\n",
              "      <th>2</th>\n",
              "      <td>51,572.72</td>\n",
              "      <td>0.0354</td>\n",
              "      <td>3.6755</td>\n",
              "    </tr>\n",
              "    <tr>\n",
              "      <th>3</th>\n",
              "      <td>51,572.00</td>\n",
              "      <td>0.0240</td>\n",
              "      <td>3.6401</td>\n",
              "    </tr>\n",
              "    <tr>\n",
              "      <th>4</th>\n",
              "      <td>51,571.81</td>\n",
              "      <td>0.1222</td>\n",
              "      <td>3.6161</td>\n",
              "    </tr>\n",
              "  </tbody>\n",
              "</table>\n",
              "</div>"
            ],
            "text/plain": [
              "           0       1       2\n",
              "0  51,573.38  0.1196  4.0636\n",
              "1  51,573.34  0.2684  3.9440\n",
              "2  51,572.72  0.0354  3.6755\n",
              "3  51,572.00  0.0240  3.6401\n",
              "4  51,571.81  0.1222  3.6161"
            ]
          },
          "execution_count": 7,
          "metadata": {},
          "output_type": "execute_result"
        }
      ],
      "source": [
        "### From String to DataFrame\n",
        "# https://stackoverflow.com/questions/54102980/convert-a-tab-and-newline-delimited-string-to-pandas-dataframe/54103026\n",
        "orderbook = '51,573.38 0.1196 4.0636\\n51,573.34 0.2684 3.9440\\n51,572.72 0.0354 3.6755\\n51,572.00 0.0240 3.6401\\n51,571.81 0.1222 3.6161\\n51,571.78 0.0010 3.4939\\n51,571.00 0.1401 3.4929\\n51,570.53 0.0010 3.3528\\n51,570.11 1.9615 3.3519\\n51,570.00 1.3903 1.3903\\nLAST TRADED PRICE\\n51,569.52\\nBinance\\n51,640.00 3.2589 3.2589\\n51,639.00 0.3067 3.5656\\n51,638.00 2.9862 6.5518\\n51,637.00 0.0017 6.5535\\n51,636.00 0.0166 6.5701\\n51,635.00 0.0266 6.5967\\n51,634.50 1.8321 8.4288\\n51,634.00 0.3824 8.8112\\n51,633.00 4.7007 13.5119\\n51,632.00 6.2184 19.7303'\n",
        "from io import StringIO\n",
        "import pandas as pd\n",
        "ob = pd.read_csv(StringIO(orderbook), sep=' ', header=None)\n",
        "ob.head()"
      ]
    },
    {
      "cell_type": "code",
      "execution_count": null,
      "metadata": {
        "id": "UTww61l0HUD7",
        "outputId": "db72e77b-2e6c-4a63-aff3-8c16404db64a"
      },
      "outputs": [
        {
          "name": "stdout",
          "output_type": "stream",
          "text": [
            "      price    size\n",
            "0  51573.38  0.1196\n",
            "1  51573.34  0.2684\n",
            "2  51572.72  0.0354\n",
            "3  51572.00  0.0240\n",
            "4  51571.81  0.1222\n"
          ]
        },
        {
          "data": {
            "text/plain": [
              "51572.93"
            ]
          },
          "execution_count": 11,
          "metadata": {},
          "output_type": "execute_result"
        }
      ],
      "source": [
        "# Weighted Average of a column in Dataframe (Method 3 from link below) 2021.09.06 - 11.00\n",
        "# https://towardsdatascience.com/3-ways-to-compute-a-weighted-average-in-python-4e066de7a719\n",
        "btc_dataset = [[51573.38, 0.1196],\n",
        "\t\t\t   [51573.34, 0.2684],\n",
        "\t\t\t   [51572.72, 0.0354],\n",
        "\t\t\t   [51572.00, 0.0240],\n",
        "\t\t\t   [51571.81, 0.1222]]\n",
        "\n",
        "\n",
        "df_btc_prices = pd.DataFrame(btc_dataset, columns=['price','size'])\n",
        "print(df_btc_prices)\n",
        "\n",
        "from numpy import average\n",
        "# Column names https://www.statology.org/pandas-dataframe-header/ 2021.09.06 - 11.29)\n",
        "weighted_price = round(average(df_btc_prices['price'], weights = df_btc_prices['size']),2) # Weighted Price\n",
        "weighted_price"
      ]
    },
    {
      "cell_type": "markdown",
      "metadata": {
        "hidden": true,
        "id": "25wbQl1iHUD7"
      },
      "source": [
        "### Review DataFrame"
      ]
    },
    {
      "cell_type": "markdown",
      "metadata": {
        "hidden": true,
        "id": "clQKKb4RHUD7"
      },
      "source": [
        "#### Size"
      ]
    },
    {
      "cell_type": "code",
      "execution_count": null,
      "metadata": {
        "hidden": true,
        "scrolled": true,
        "id": "y-_n7FbLHUD7",
        "outputId": "53dae420-8a4f-46a4-8b13-8512ba814102"
      },
      "outputs": [
        {
          "data": {
            "text/plain": [
              "40"
            ]
          },
          "execution_count": 5,
          "metadata": {},
          "output_type": "execute_result"
        }
      ],
      "source": [
        "# Dimentions\n",
        "df2.size  #total # of cels"
      ]
    },
    {
      "cell_type": "code",
      "execution_count": null,
      "metadata": {
        "hidden": true,
        "id": "kJDNgD5SHUD7",
        "outputId": "b019b04d-cb6f-4b5e-b5b4-90549f253326"
      },
      "outputs": [
        {
          "data": {
            "text/plain": [
              "(10, 4)"
            ]
          },
          "execution_count": 6,
          "metadata": {},
          "output_type": "execute_result"
        }
      ],
      "source": [
        "df2.shape # (rows by columns, index = 0)"
      ]
    },
    {
      "cell_type": "code",
      "execution_count": null,
      "metadata": {
        "hidden": true,
        "id": "ncA2ua3gHUD8",
        "outputId": "c05e8f42-ac3f-42b8-8ff7-bb678ce38a53"
      },
      "outputs": [
        {
          "data": {
            "text/plain": [
              "2"
            ]
          },
          "execution_count": 8,
          "metadata": {},
          "output_type": "execute_result"
        }
      ],
      "source": [
        "df2.ndim # Number of Dimentions"
      ]
    },
    {
      "cell_type": "markdown",
      "metadata": {
        "hidden": true,
        "id": "1moB_aYKHUD8"
      },
      "source": [
        "#### Types"
      ]
    },
    {
      "cell_type": "code",
      "execution_count": null,
      "metadata": {
        "hidden": true,
        "id": "F8JC82nQHUD8",
        "outputId": "71d25152-db7f-41db-bfd7-40e6655c276a"
      },
      "outputs": [
        {
          "data": {
            "text/plain": [
              "Name        object\n",
              "Team        object\n",
              "Position    object\n",
              "Number       int64\n",
              "Age          int64\n",
              "Height      object\n",
              "Weight       int64\n",
              "College     object\n",
              "Salary       int64\n",
              "dtype: object"
            ]
          },
          "execution_count": 9,
          "metadata": {},
          "output_type": "execute_result"
        }
      ],
      "source": [
        "# Types in Dataframe\n",
        "df3.dtypes"
      ]
    },
    {
      "cell_type": "markdown",
      "metadata": {
        "hidden": true,
        "id": "lmHUEdUGHUD8"
      },
      "source": [
        "#### View Some of Data"
      ]
    },
    {
      "cell_type": "code",
      "execution_count": null,
      "metadata": {
        "hidden": true,
        "id": "Q49mr-JsHUD8",
        "outputId": "113a9e54-ee7e-4099-eef6-e44e28a9d73e"
      },
      "outputs": [
        {
          "data": {
            "text/html": [
              "<div>\n",
              "<style scoped>\n",
              "    .dataframe tbody tr th:only-of-type {\n",
              "        vertical-align: middle;\n",
              "    }\n",
              "\n",
              "    .dataframe tbody tr th {\n",
              "        vertical-align: top;\n",
              "    }\n",
              "\n",
              "    .dataframe thead th {\n",
              "        text-align: right;\n",
              "    }\n",
              "</style>\n",
              "<table border=\"1\" class=\"dataframe\">\n",
              "  <thead>\n",
              "    <tr style=\"text-align: right;\">\n",
              "      <th></th>\n",
              "      <th>A</th>\n",
              "      <th>B</th>\n",
              "      <th>C</th>\n",
              "      <th>D</th>\n",
              "      <th>E</th>\n",
              "    </tr>\n",
              "  </thead>\n",
              "  <tbody>\n",
              "    <tr>\n",
              "      <th>2</th>\n",
              "      <td>78</td>\n",
              "      <td>35</td>\n",
              "      <td>0</td>\n",
              "      <td>72</td>\n",
              "      <td>31</td>\n",
              "    </tr>\n",
              "    <tr>\n",
              "      <th>3</th>\n",
              "      <td>84</td>\n",
              "      <td>25</td>\n",
              "      <td>14</td>\n",
              "      <td>56</td>\n",
              "      <td>0</td>\n",
              "    </tr>\n",
              "    <tr>\n",
              "      <th>4</th>\n",
              "      <td>26</td>\n",
              "      <td>82</td>\n",
              "      <td>13</td>\n",
              "      <td>14</td>\n",
              "      <td>34</td>\n",
              "    </tr>\n",
              "  </tbody>\n",
              "</table>\n",
              "</div>"
            ],
            "text/plain": [
              "    A   B   C   D   E\n",
              "2  78  35   0  72  31\n",
              "3  84  25  14  56   0\n",
              "4  26  82  13  14  34"
            ]
          },
          "execution_count": 13,
          "metadata": {},
          "output_type": "execute_result"
        }
      ],
      "source": [
        "# Check some of the data\n",
        "df.head()\n",
        "df.head(2)\n",
        "df.tail()\n",
        "df.tail(3)"
      ]
    },
    {
      "cell_type": "markdown",
      "metadata": {
        "hidden": true,
        "id": "V3rc5DzTHUD8"
      },
      "source": [
        "### Slicing Dataframes\n"
      ]
    },
    {
      "cell_type": "code",
      "execution_count": null,
      "metadata": {
        "hidden": true,
        "id": "qMQXPoqTHUD8"
      },
      "outputs": [],
      "source": [
        "# loc and iloc\n",
        "# loc : uses last element\n",
        "# iloc : does NOT use last element\n",
        "# https://www.shanelynn.ie/select-pandas-dataframe-rows-and-columns-using-iloc-loc-and-ix/\n",
        "# http://www.learningthemachine.com/2017/08/20/review-pandas-loc-vs-iloc/ \n",
        "# http://pytolearn.csd.auth.gr/b4-pandas/40/moddfcols.html (editing DFs)"
      ]
    },
    {
      "cell_type": "code",
      "execution_count": null,
      "metadata": {
        "hidden": true,
        "id": "6hQCnpUuHUD8",
        "outputId": "cc1e1888-08b9-480a-d992-b39bf34d3f16"
      },
      "outputs": [
        {
          "data": {
            "text/html": [
              "<div>\n",
              "<style scoped>\n",
              "    .dataframe tbody tr th:only-of-type {\n",
              "        vertical-align: middle;\n",
              "    }\n",
              "\n",
              "    .dataframe tbody tr th {\n",
              "        vertical-align: top;\n",
              "    }\n",
              "\n",
              "    .dataframe thead th {\n",
              "        text-align: right;\n",
              "    }\n",
              "</style>\n",
              "<table border=\"1\" class=\"dataframe\">\n",
              "  <thead>\n",
              "    <tr style=\"text-align: right;\">\n",
              "      <th></th>\n",
              "      <th>1</th>\n",
              "      <th>2</th>\n",
              "      <th>3</th>\n",
              "    </tr>\n",
              "  </thead>\n",
              "  <tbody>\n",
              "    <tr>\n",
              "      <th>2</th>\n",
              "      <td>Diapers</td>\n",
              "      <td>Cookies</td>\n",
              "      <td>None</td>\n",
              "    </tr>\n",
              "    <tr>\n",
              "      <th>3</th>\n",
              "      <td>Butter</td>\n",
              "      <td>Cookies</td>\n",
              "      <td>None</td>\n",
              "    </tr>\n",
              "  </tbody>\n",
              "</table>\n",
              "</div>"
            ],
            "text/plain": [
              "         1        2     3\n",
              "2  Diapers  Cookies  None\n",
              "3   Butter  Cookies  None"
            ]
          },
          "execution_count": 9,
          "metadata": {},
          "output_type": "execute_result"
        }
      ],
      "source": [
        "df2.iloc[2:4, 1:]  # Rows 2 & 3 (4 dropped), and from Col 1 onward"
      ]
    },
    {
      "cell_type": "code",
      "execution_count": null,
      "metadata": {
        "hidden": true,
        "id": "x8_1N78zHUD9",
        "outputId": "0687d918-cb89-4cea-925f-e80924760fee"
      },
      "outputs": [
        {
          "data": {
            "text/html": [
              "<div>\n",
              "<style scoped>\n",
              "    .dataframe tbody tr th:only-of-type {\n",
              "        vertical-align: middle;\n",
              "    }\n",
              "\n",
              "    .dataframe tbody tr th {\n",
              "        vertical-align: top;\n",
              "    }\n",
              "\n",
              "    .dataframe thead th {\n",
              "        text-align: right;\n",
              "    }\n",
              "</style>\n",
              "<table border=\"1\" class=\"dataframe\">\n",
              "  <thead>\n",
              "    <tr style=\"text-align: right;\">\n",
              "      <th></th>\n",
              "      <th>A</th>\n",
              "      <th>B</th>\n",
              "      <th>C</th>\n",
              "      <th>D</th>\n",
              "      <th>E</th>\n",
              "    </tr>\n",
              "  </thead>\n",
              "  <tbody>\n",
              "    <tr>\n",
              "      <th>0</th>\n",
              "      <td>34</td>\n",
              "      <td>54</td>\n",
              "      <td>56</td>\n",
              "      <td>0</td>\n",
              "      <td>78</td>\n",
              "    </tr>\n",
              "    <tr>\n",
              "      <th>1</th>\n",
              "      <td>12</td>\n",
              "      <td>87</td>\n",
              "      <td>78</td>\n",
              "      <td>23</td>\n",
              "      <td>12</td>\n",
              "    </tr>\n",
              "    <tr>\n",
              "      <th>2</th>\n",
              "      <td>78</td>\n",
              "      <td>35</td>\n",
              "      <td>0</td>\n",
              "      <td>72</td>\n",
              "      <td>31</td>\n",
              "    </tr>\n",
              "    <tr>\n",
              "      <th>3</th>\n",
              "      <td>84</td>\n",
              "      <td>25</td>\n",
              "      <td>14</td>\n",
              "      <td>56</td>\n",
              "      <td>0</td>\n",
              "    </tr>\n",
              "    <tr>\n",
              "      <th>4</th>\n",
              "      <td>26</td>\n",
              "      <td>82</td>\n",
              "      <td>13</td>\n",
              "      <td>14</td>\n",
              "      <td>34</td>\n",
              "    </tr>\n",
              "  </tbody>\n",
              "</table>\n",
              "</div>"
            ],
            "text/plain": [
              "    A   B   C   D   E\n",
              "0  34  54  56   0  78\n",
              "1  12  87  78  23  12\n",
              "2  78  35   0  72  31\n",
              "3  84  25  14  56   0\n",
              "4  26  82  13  14  34"
            ]
          },
          "execution_count": 13,
          "metadata": {},
          "output_type": "execute_result"
        }
      ],
      "source": [
        "df"
      ]
    },
    {
      "cell_type": "code",
      "execution_count": null,
      "metadata": {
        "hidden": true,
        "id": "ks_RSqhiHUD9",
        "outputId": "1c7c73b7-664e-42b5-bc3c-c4a3a5539b12"
      },
      "outputs": [
        {
          "data": {
            "text/plain": [
              "0     0\n",
              "1    23\n",
              "2    72\n",
              "3    56\n",
              "4    14\n",
              "Name: D, dtype: int64"
            ]
          },
          "execution_count": 10,
          "metadata": {},
          "output_type": "execute_result"
        }
      ],
      "source": [
        "df.loc[:,'D']"
      ]
    },
    {
      "cell_type": "code",
      "execution_count": null,
      "metadata": {
        "hidden": true,
        "id": "NqdOX779HUD9",
        "outputId": "638085fe-bfa5-47a2-dff6-ab5fe7199e06"
      },
      "outputs": [
        {
          "data": {
            "text/plain": [
              "[0, 23, 72, 56, 14]"
            ]
          },
          "execution_count": 16,
          "metadata": {},
          "output_type": "execute_result"
        }
      ],
      "source": [
        "df.loc[:,'D'].tolist() # Panda's Dataframe Column to List (1)"
      ]
    },
    {
      "cell_type": "code",
      "execution_count": null,
      "metadata": {
        "hidden": true,
        "id": "Hnz1_hISHUD9",
        "outputId": "2c8af946-d93b-4be6-f261-5f6b79a53e00"
      },
      "outputs": [
        {
          "data": {
            "text/plain": [
              "[0, 23, 72, 56, 14]"
            ]
          },
          "execution_count": 19,
          "metadata": {},
          "output_type": "execute_result"
        }
      ],
      "source": [
        "list(df.loc[:,'D']) # Panda's Dataframe Column to List (2)"
      ]
    },
    {
      "cell_type": "code",
      "execution_count": null,
      "metadata": {
        "hidden": true,
        "scrolled": true,
        "id": "_WGTUtU4HUD9",
        "outputId": "59085366-08ce-42a3-f8f0-3d1f693f9514"
      },
      "outputs": [
        {
          "data": {
            "text/plain": [
              "array([ 0, 23, 72, 56, 14], dtype=int64)"
            ]
          },
          "execution_count": 17,
          "metadata": {},
          "output_type": "execute_result"
        }
      ],
      "source": [
        "df.loc[:,'D'].to_numpy() # Pandas Dataframe to Numpy Array (1)"
      ]
    },
    {
      "cell_type": "code",
      "execution_count": null,
      "metadata": {
        "hidden": true,
        "scrolled": true,
        "id": "__xJM4ClHUD9",
        "outputId": "0229e56c-cb49-48fb-a265-5ab48aa5fa14"
      },
      "outputs": [
        {
          "data": {
            "text/plain": [
              "<PandasArray>\n",
              "[0, 23, 72, 56, 14]\n",
              "Length: 5, dtype: int64"
            ]
          },
          "execution_count": 18,
          "metadata": {},
          "output_type": "execute_result"
        }
      ],
      "source": [
        "df.loc[:,'D'].array # Pandas Dataframe to Numpy Array ALTERNATE (2)"
      ]
    },
    {
      "cell_type": "code",
      "execution_count": null,
      "metadata": {
        "hidden": true,
        "id": "g-necNmqHUD9"
      },
      "outputs": [],
      "source": [
        "df['docS'] = df['Stimulus'].apply(lambda x: nlp(x))"
      ]
    },
    {
      "cell_type": "code",
      "execution_count": null,
      "metadata": {
        "hidden": true,
        "id": "e9HyCGEqHUD9"
      },
      "outputs": [],
      "source": [
        "# Conditional Testing\n",
        "# df.loc[:, df.loc['50']>0]  # in all rows, show col where 50 > 0\n",
        "# WORK IN PROGRESS"
      ]
    },
    {
      "cell_type": "code",
      "execution_count": null,
      "metadata": {
        "hidden": true,
        "id": "xhoAQMJWHUD9",
        "outputId": "3ce9d0b6-8985-42a0-dcb9-686bc1d45e3e"
      },
      "outputs": [
        {
          "data": {
            "text/html": [
              "<div>\n",
              "<style scoped>\n",
              "    .dataframe tbody tr th:only-of-type {\n",
              "        vertical-align: middle;\n",
              "    }\n",
              "\n",
              "    .dataframe tbody tr th {\n",
              "        vertical-align: top;\n",
              "    }\n",
              "\n",
              "    .dataframe thead th {\n",
              "        text-align: right;\n",
              "    }\n",
              "</style>\n",
              "<table border=\"1\" class=\"dataframe\">\n",
              "  <thead>\n",
              "    <tr style=\"text-align: right;\">\n",
              "      <th></th>\n",
              "      <th>Name</th>\n",
              "      <th>Team</th>\n",
              "      <th>Position</th>\n",
              "      <th>Number</th>\n",
              "      <th>Age</th>\n",
              "      <th>Height</th>\n",
              "      <th>Weight</th>\n",
              "      <th>College</th>\n",
              "      <th>Salary</th>\n",
              "    </tr>\n",
              "  </thead>\n",
              "  <tbody>\n",
              "    <tr>\n",
              "      <th>ind1</th>\n",
              "      <td>Geeks</td>\n",
              "      <td>Boston</td>\n",
              "      <td>PG</td>\n",
              "      <td>3</td>\n",
              "      <td>33</td>\n",
              "      <td>6-2</td>\n",
              "      <td>89</td>\n",
              "      <td>MIT</td>\n",
              "      <td>99999</td>\n",
              "    </tr>\n",
              "    <tr>\n",
              "      <th>ind2</th>\n",
              "      <td>Peter</td>\n",
              "      <td>Boston</td>\n",
              "      <td>PG</td>\n",
              "      <td>4</td>\n",
              "      <td>25</td>\n",
              "      <td>6-4</td>\n",
              "      <td>79</td>\n",
              "      <td>MIT</td>\n",
              "      <td>99994</td>\n",
              "    </tr>\n",
              "    <tr>\n",
              "      <th>ind3</th>\n",
              "      <td>James</td>\n",
              "      <td>Boston</td>\n",
              "      <td>UG</td>\n",
              "      <td>7</td>\n",
              "      <td>34</td>\n",
              "      <td>5-9</td>\n",
              "      <td>113</td>\n",
              "      <td>MIT</td>\n",
              "      <td>89999</td>\n",
              "    </tr>\n",
              "    <tr>\n",
              "      <th>ind4</th>\n",
              "      <td>Jack</td>\n",
              "      <td>Chele</td>\n",
              "      <td>PG</td>\n",
              "      <td>11</td>\n",
              "      <td>35</td>\n",
              "      <td>6-1</td>\n",
              "      <td>78</td>\n",
              "      <td>Stanford</td>\n",
              "      <td>78889</td>\n",
              "    </tr>\n",
              "    <tr>\n",
              "      <th>ind5</th>\n",
              "      <td>Lisa</td>\n",
              "      <td>Barse</td>\n",
              "      <td>UG</td>\n",
              "      <td>5</td>\n",
              "      <td>28</td>\n",
              "      <td>5-8</td>\n",
              "      <td>84</td>\n",
              "      <td>Stanford</td>\n",
              "      <td>87779</td>\n",
              "    </tr>\n",
              "  </tbody>\n",
              "</table>\n",
              "</div>"
            ],
            "text/plain": [
              "       Name    Team Position  Number  Age Height  Weight   College  Salary\n",
              "ind1  Geeks  Boston       PG       3   33    6-2      89       MIT   99999\n",
              "ind2  Peter  Boston       PG       4   25    6-4      79       MIT   99994\n",
              "ind3  James  Boston       UG       7   34    5-9     113       MIT   89999\n",
              "ind4   Jack   Chele       PG      11   35    6-1      78  Stanford   78889\n",
              "ind5   Lisa   Barse       UG       5   28    5-8      84  Stanford   87779"
            ]
          },
          "execution_count": 6,
          "metadata": {},
          "output_type": "execute_result"
        }
      ],
      "source": [
        "# Return Row based on keyword wearch w/i a column\n",
        "# https://www.geeksforgeeks.org/get-all-rows-in-a-pandas-dataframe-containing-given-substring/\n",
        "df3.head()"
      ]
    },
    {
      "cell_type": "code",
      "execution_count": null,
      "metadata": {
        "hidden": true,
        "id": "zn8BVR3XHUD-",
        "outputId": "65dfc980-96a1-44c9-8a5b-4813b67941e8"
      },
      "outputs": [
        {
          "data": {
            "text/plain": [
              "array(['ind1', 'ind2', 'ind4'], dtype=object)"
            ]
          },
          "execution_count": 20,
          "metadata": {},
          "output_type": "execute_result"
        }
      ],
      "source": [
        "# return nparray of all instances of 'text' found in DataFrame\n",
        "df3[df3['Position']=='PG'].index.values"
      ]
    },
    {
      "cell_type": "code",
      "execution_count": null,
      "metadata": {
        "hidden": true,
        "scrolled": true,
        "id": "vEdhPocmHUD-",
        "outputId": "cdf81960-4b03-4a0f-add7-50793b651db7"
      },
      "outputs": [
        {
          "name": "stdout",
          "output_type": "stream",
          "text": [
            "ind1\n",
            "ind2\n",
            "ind4\n"
          ]
        }
      ],
      "source": [
        "for x in df3[df3['Position']=='PG'].index.values:\n",
        "    print(x)"
      ]
    },
    {
      "cell_type": "code",
      "execution_count": null,
      "metadata": {
        "ExecuteTime": {
          "end_time": "2020-12-15T02:58:53.784821Z",
          "start_time": "2020-12-15T02:58:53.767261Z"
        },
        "hidden": true,
        "id": "AEjJ1fsdHUD-",
        "outputId": "a953b41a-fd17-46dd-8f02-9b40efdcf0e7"
      },
      "outputs": [
        {
          "name": "stdout",
          "output_type": "stream",
          "text": [
            "       Name    Team Position  Number  Age Height  Weight   College  Salary\n",
            "ind1  Geeks  Boston       PG       3   33    6-2      89       MIT   99999\n",
            "ind2  Peter  Boston       PG       4   25    6-4      79       MIT   99994\n",
            "ind3  James  Boston       UG       7   34    5-9     113       MIT   89999\n",
            "ind4   Jack   Chele       PG      11   35    6-1      78  Stanford   78889\n",
            "ind5   Lisa   Barse       UG       5   28    5-8      84  Stanford   87779\n",
            "\n",
            "\n",
            "ind2 Peter 25\n",
            "ind3 James 34\n",
            "ind4 Jack 35\n"
          ]
        }
      ],
      "source": [
        "# Access specific col within a range\n",
        "print(df3)\n",
        "print(\"\\n\")\n",
        "for t in df3[1:4].itertuples():\n",
        "    print(t.Index, t.Name, t.Age)"
      ]
    },
    {
      "cell_type": "code",
      "execution_count": null,
      "metadata": {
        "id": "_tK7hKWqHUD-"
      },
      "outputs": [],
      "source": [
        "# Match index on multiple columns: https://thispointer.com/python-pandas-select-rows-in-dataframe-by-conditions-on-multiple-columns/  2021.09.06 - 22.14\n",
        "# btc0[(btc0[0]==51572.72) & (btc0[1]==0.0354)]"
      ]
    },
    {
      "cell_type": "code",
      "execution_count": null,
      "metadata": {
        "id": "8bRcbA-FHUD-"
      },
      "outputs": [],
      "source": [
        "# Drop rows, columns, etc. on 2021.09.06 - 10.08\n",
        "# https://pandas.pydata.org/pandas-docs/stable/reference/api/pandas.DataFrame.drop.html"
      ]
    },
    {
      "cell_type": "code",
      "execution_count": null,
      "metadata": {
        "hidden": true,
        "id": "iD9Ptbe0HUD-"
      },
      "outputs": [],
      "source": [
        "# Misc\n",
        "# Snippets : https://gist.github.com/bsweger/e5817488d161f37dcbd2\n",
        "# Itterate : https://pandas.pydata.org/pandas-docs/stable/generated/pandas.DataFrame.itertuples.html\n",
        "# Subsets : https://medium.com/dunder-data/selecting-subsets-of-data-in-pandas-6fcd0170be9c\n",
        "# Slicing : https://datacarpentry.org/python-ecology-lesson/03-index-slice-subset/index.html (2020.12.14)\n",
        "# 6 ways to iterate : https://thispointer.com/pandas-6-different-ways-to-iterate-over-rows-in-a-dataframe-update-while-iterating-row-by-row/"
      ]
    },
    {
      "cell_type": "code",
      "execution_count": null,
      "metadata": {
        "ExecuteTime": {
          "end_time": "2020-11-22T02:43:42.789806Z",
          "start_time": "2020-11-22T02:43:42.781006Z"
        },
        "hidden": true,
        "id": "wZnSZbMbHUD-"
      },
      "outputs": [],
      "source": [
        "# https://stackoverflow.com/questions/28914078/filter-out-rows-based-on-list-of-strings-in-pandas\n",
        "# remove rows with list of matching text(s) from the df"
      ]
    },
    {
      "cell_type": "markdown",
      "metadata": {
        "hidden": true,
        "id": "nDlpbzjcHUD-"
      },
      "source": [
        "## Sets"
      ]
    },
    {
      "cell_type": "code",
      "execution_count": null,
      "metadata": {
        "hidden": true,
        "id": "zewxYQpmHUD-"
      },
      "outputs": [],
      "source": [
        "# http://www.java2s.com/Tutorial/Python/0180__Collections/lenreturnsthenumberofelements.htm\n",
        "s = set(['p', 'c', 'e', 'h', 's', 'o'])\n",
        "print len(s)\n",
        "\n",
        "# Frozensets\n",
        "# https://python-course.eu/sets_frozensets.php\n",
        "\n",
        "# General\n",
        "# https://www.programiz.com/python-programming/set#built\n",
        "\n",
        "# Set to List\n",
        "# https://stackoverflow.com/questions/6593979/how-to-convert-a-set-to-a-list-in-python/6594009\n",
        "my_list = [1,2,3,4]\n",
        "my_set = set(my_list)\n",
        "my_new_list = list(my_set)\n",
        "print(my_new_list)\n",
        "\n",
        "# subset of set\n",
        "# https://www.programiz.com/python-programming/methods/set/issubset\n",
        "A = {1, 2, 3}\n",
        "B = {1, 2, 3, 4, 5}\n",
        "print(A.issubset(B))"
      ]
    },
    {
      "cell_type": "markdown",
      "metadata": {
        "hidden": true,
        "id": "X5bYQ0p4HUD-"
      },
      "source": [
        "### Numpy"
      ]
    },
    {
      "cell_type": "code",
      "execution_count": null,
      "metadata": {
        "hidden": true,
        "id": "stdA6QlmHUD_"
      },
      "outputs": [],
      "source": [
        "# Optimization : https://towardsdatascience.com/how-to-make-your-pandas-loop-71-803-times-faster-805030df4f06\n",
        "# General, rows & cols, etc. : https://www.kdnuggets.com/2017/03/working-numpy-matrices.html\n",
        "# Cheetsheet, PDF : chrome-extension://gfbliohnnapiefjpjlpjnehglfpaknnc/pages/pdf_viewer.html?r=https://s3.amazonaws.com/assets.datacamp.com/blog_assets/Numpy_Python_Cheat_Sheet.pdf"
      ]
    },
    {
      "cell_type": "code",
      "execution_count": null,
      "metadata": {
        "hidden": true,
        "id": "wmXrpN43HUD_",
        "outputId": "e16232e9-1b27-49d9-e7fb-2e6d467727ec"
      },
      "outputs": [
        {
          "name": "stdout",
          "output_type": "stream",
          "text": [
            "---Select Column 2---\n",
            "[ 3 13 23]\n",
            "---Select Row 1---\n",
            "[11 12 13 14 15 16]\n",
            "---Dimentions, (rows, col)---\n",
            "(3, 6)\n"
          ]
        }
      ],
      "source": [
        "# Rows and Colums\n",
        "nump = np.array([[ 1,  2,  3,  4,  5,  6],\n",
        "                 [11, 12, 13, 14, 15, 16],\n",
        "                 [21, 22, 23, 24, 25, 26]])\n",
        "print(\"---Select Column 2---\", end=\"\\n\")\n",
        "print(nump[:,2])\n",
        "print(\"---Select Row 1---\", end=\"\\n\")\n",
        "print(nump[1,:])\n",
        "print(\"---Dimentions, (rows, col)---\", end=\"\\n\")\n",
        "print(nump.shape)"
      ]
    },
    {
      "cell_type": "code",
      "execution_count": null,
      "metadata": {
        "hidden": true,
        "scrolled": true,
        "id": "nzMU3OYvHUD_",
        "outputId": "4b783828-7e29-4674-ad5b-77117e296fd0"
      },
      "outputs": [
        {
          "name": "stdout",
          "output_type": "stream",
          "text": [
            "---original---\n",
            "[[ 1  2  3  4  5  6]\n",
            " [11 12 13 14 15 16]\n",
            " [21 22 23 24 25 26]]\n",
            "---Horizontal, snakes backwards---\n",
            "[[24 25 26  1  2  3]\n",
            " [ 4  5  6 11 12 13]\n",
            " [14 15 16 21 22 23]]\n",
            "---Vertical Roll, all columns, ortholinear---\n",
            "[[ 5  6  1  2  3  4]\n",
            " [15 16 11 12 13 14]\n",
            " [25 26 21 22 23 24]]\n"
          ]
        }
      ],
      "source": [
        "# Roll\n",
        "# https://www.geeksforgeeks.org/numpy-roll-python/\n",
        "import numpy as np\n",
        "nump = np.array([[ 1,  2,  3,  4,  5,  6],\n",
        "                 [11, 12, 13, 14, 15, 16],\n",
        "                 [21, 22, 23, 24, 25, 26]])\n",
        "\n",
        "print(\"---original---\", end=\"\\n\")\n",
        "print(nump)\n",
        "print(\"---Horizontal all, snakes backwards---\", end=\"\\n\")\n",
        "print(np.roll(nump, 3)) # or print(np.roll(nump, 3, axis = 1)) # rotates all rows right\n",
        "print(\"---Vertical Roll, all columns, ortholinear---\", end=\"\\n\")\n",
        "print(np.roll(nump, 2, axis = 1)) # Rotate columns"
      ]
    },
    {
      "cell_type": "code",
      "execution_count": null,
      "metadata": {
        "hidden": true,
        "scrolled": true,
        "id": "YZ_WIfu7HUD_",
        "outputId": "989832fc-a360-457d-e424-d7a4bcfdfb22"
      },
      "outputs": [
        {
          "name": "stdout",
          "output_type": "stream",
          "text": [
            "---original---\n",
            "[['A' 'D' 'G']\n",
            " ['B' 'E' 'H']\n",
            " ['C' 'F' 'I']]\n",
            "---Roll select Rows---\n",
            "[['G' 'A' 'D']\n",
            " ['B' 'E' 'H']\n",
            " ['C' 'F' 'I']]\n",
            "---Roll select Cols---\n",
            "[['G' 'A' 'I']\n",
            " ['B' 'E' 'D']\n",
            " ['C' 'F' 'H']]\n"
          ]
        }
      ],
      "source": [
        "# Roll select Rows or Columns\n",
        "# https://stackoverflow.com/questions/24794666/numpy-how-to-roll-1-row-in-an-array-of-arrays\n",
        "grid = np.array([['A', 'D', 'G'],\n",
        "                 ['B', 'E', 'H'],\n",
        "                 ['C', 'F', 'I']])\n",
        "\n",
        "print(\"---original---\", end=\"\\n\")\n",
        "print(grid)\n",
        "print(\"---Roll select Rows---\", end=\"\\n\")\n",
        "grid[0] = np.roll(grid[0], 1)\n",
        "print(grid)\n",
        "print(\"---Roll select Cols---\", end=\"\\n\")\n",
        "# np.roll(grid[0], 1, axis = 0)\n",
        "grid[:,2] = np.roll(grid[:,2], 1, axis = 0)\n",
        "print(grid)"
      ]
    },
    {
      "cell_type": "code",
      "execution_count": null,
      "metadata": {
        "hidden": true,
        "scrolled": true,
        "id": "9OqPfEMmHUD_",
        "outputId": "28ee3f11-b186-4c78-d650-33ff9c09707a"
      },
      "outputs": [
        {
          "name": "stdout",
          "output_type": "stream",
          "text": [
            "1\n",
            "4\n"
          ]
        }
      ],
      "source": [
        "# Index of last non-zero value in Numpy array\n",
        "# https://stackoverflow.com/questions/41346403/return-index-of-last-non-zero-element-in-list\n",
        "# import numpy as np\n",
        "print(np.max(np.nonzero([-2, -2, 0, 0, 0, 0, 0])))\n",
        "print(np.max(np.nonzero([-2, 20, -1, 0, 3, 0, 0])))"
      ]
    },
    {
      "cell_type": "code",
      "execution_count": null,
      "metadata": {
        "hidden": true,
        "id": "WJLd1vhHHUD_",
        "outputId": "90911ab0-a814-4ce4-d75a-dc8506d2fda3"
      },
      "outputs": [
        {
          "name": "stdout",
          "output_type": "stream",
          "text": [
            "---1D---\n",
            "[0 0 1 0 0 0 0]\n",
            "---2D---\n"
          ]
        },
        {
          "data": {
            "text/plain": [
              "array([[0, 0, 0, 0],\n",
              "       [0, 0, 1, 0],\n",
              "       [0, 0, 0, 0]], dtype=int64)"
            ]
          },
          "execution_count": 88,
          "metadata": {},
          "output_type": "execute_result"
        }
      ],
      "source": [
        "# Return np array of zeros with a single \"1\" at index.\n",
        "# https://stackoverflow.com/questions/62704924/how-do-i-create-a-numpy-n-dimensional-array-of-zeros-with-only-a-single-element\n",
        "# np.bincount([pos],None,length)\n",
        "print(\"---1D---\", end=\"\\n\")\n",
        "print(np.bincount([2],None,7))\n",
        "print(\"---2D---\", end=\"\\n\")\n",
        "shp = 3,4\n",
        "pos = 1,2\n",
        "np.bincount([np.ravel_multi_index(pos,shp)],None,np.prod(shp)).reshape(shp)"
      ]
    },
    {
      "cell_type": "code",
      "execution_count": null,
      "metadata": {
        "ExecuteTime": {
          "end_time": "2020-11-22T03:12:23.457305Z",
          "start_time": "2020-11-22T03:12:23.447548Z"
        },
        "hidden": true,
        "id": "yLm5p3HIHUD_",
        "outputId": "54433335-bf50-4e53-cba7-83f5c22bb4d0"
      },
      "outputs": [
        {
          "data": {
            "text/plain": [
              "array([0, 0, 0, 0, 0, 0, 0, 0, 0, 0, 0, 0, 0, 0, 0, 0, 0, 0, 0, 0, 1],\n",
              "      dtype=int64)"
            ]
          },
          "execution_count": 33,
          "metadata": {},
          "output_type": "execute_result"
        }
      ],
      "source": [
        "np.bincount([20],None,7)"
      ]
    },
    {
      "cell_type": "code",
      "execution_count": null,
      "metadata": {
        "hidden": true,
        "id": "YoDX2bjtHUD_",
        "outputId": "d45696ad-f56e-416e-f76d-a99e4a65c230"
      },
      "outputs": [
        {
          "name": "stdout",
          "output_type": "stream",
          "text": [
            "True\n",
            "False\n",
            "---negates all 'zeros' to return a True---\n",
            "True\n"
          ]
        }
      ],
      "source": [
        "# Is array has any elements that are not zero\n",
        "# https://www.geeksforgeeks.org/python-check-if-all-values-in-numpy-are-zero/\n",
        "# import numpy as np\n",
        "ini_array1 = np.array([1, 2, 3, 4, 5, 6, 0]) \n",
        "ini_array2 = np.array([0, 0, 0, 0, 0, 0]) \n",
        "\n",
        "print(np.any(ini_array1))\n",
        "print(np.any(ini_array2))\n",
        "print(\"---negates all 'zeros' to return a True---\", end=\"\\n\")\n",
        "print(not np.any(ini_array2))"
      ]
    },
    {
      "cell_type": "code",
      "execution_count": null,
      "metadata": {
        "ExecuteTime": {
          "end_time": "2020-11-22T04:24:30.670257Z",
          "start_time": "2020-11-22T04:24:30.660499Z"
        },
        "hidden": true,
        "id": "5kMabvl-HUEA",
        "outputId": "fe0868e6-ba63-468c-e393-de65bf21e77c"
      },
      "outputs": [
        {
          "data": {
            "text/plain": [
              "[0, 0, 0, 0, 0]"
            ]
          },
          "execution_count": 36,
          "metadata": {},
          "output_type": "execute_result"
        }
      ],
      "source": [
        "# repeated element in list x times\n",
        "# https://stackoverflow.com/questions/3459098/create-list-of-single-item-repeated-n-times\n",
        "# --- method 1 ---\n",
        "[0] * 5"
      ]
    },
    {
      "cell_type": "markdown",
      "metadata": {
        "heading_collapsed": true,
        "id": "PoYoewZeHUEA"
      },
      "source": [
        "# Command Flow"
      ]
    },
    {
      "cell_type": "markdown",
      "metadata": {
        "hidden": true,
        "id": "eZBMZZJyHUEA"
      },
      "source": [
        "## For Loops"
      ]
    },
    {
      "cell_type": "code",
      "execution_count": null,
      "metadata": {
        "collapsed": true,
        "hidden": true,
        "jupyter": {
          "outputs_hidden": true
        },
        "colab": {
          "base_uri": "https://localhost:8080/",
          "height": 217
        },
        "id": "xv3bK88tHUEA",
        "outputId": "3c508c1d-a73a-4498-bc07-97c297e7aefc"
      },
      "outputs": [
        {
          "output_type": "error",
          "ename": "NameError",
          "evalue": "ignored",
          "traceback": [
            "\u001b[0;31m---------------------------------------------------------------------------\u001b[0m",
            "\u001b[0;31mNameError\u001b[0m                                 Traceback (most recent call last)",
            "\u001b[0;32m<ipython-input-2-2d09dbb3e0e2>\u001b[0m in \u001b[0;36m<module>\u001b[0;34m\u001b[0m\n\u001b[1;32m      1\u001b[0m \u001b[0;31m# Will not run, from Quiz 2\u001b[0m\u001b[0;34m\u001b[0m\u001b[0;34m\u001b[0m\u001b[0;34m\u001b[0m\u001b[0m\n\u001b[0;32m----> 2\u001b[0;31m \u001b[0;32mfor\u001b[0m \u001b[0mi\u001b[0m \u001b[0;32min\u001b[0m \u001b[0mrange\u001b[0m\u001b[0;34m(\u001b[0m\u001b[0mlen\u001b[0m\u001b[0;34m(\u001b[0m\u001b[0mX_tr_data\u001b[0m\u001b[0;34m.\u001b[0m\u001b[0mindex\u001b[0m\u001b[0;34m)\u001b[0m\u001b[0;34m)\u001b[0m\u001b[0;34m:\u001b[0m\u001b[0;34m\u001b[0m\u001b[0;34m\u001b[0m\u001b[0m\n\u001b[0m\u001b[1;32m      3\u001b[0m     \u001b[0mw1\u001b[0m \u001b[0;34m+=\u001b[0m \u001b[0mX_tr_data\u001b[0m\u001b[0;34m.\u001b[0m\u001b[0mloc\u001b[0m\u001b[0;34m[\u001b[0m\u001b[0mi\u001b[0m\u001b[0;34m,\u001b[0m\u001b[0;34m'Lagrange'\u001b[0m\u001b[0;34m]\u001b[0m \u001b[0;34m*\u001b[0m \u001b[0mX_tr_data\u001b[0m\u001b[0;34m.\u001b[0m\u001b[0mloc\u001b[0m\u001b[0;34m[\u001b[0m\u001b[0mi\u001b[0m\u001b[0;34m,\u001b[0m\u001b[0;34m'X1'\u001b[0m\u001b[0;34m]\u001b[0m \u001b[0;34m*\u001b[0m \u001b[0mX_tr_data\u001b[0m\u001b[0;34m.\u001b[0m\u001b[0mloc\u001b[0m\u001b[0;34m[\u001b[0m\u001b[0mi\u001b[0m\u001b[0;34m,\u001b[0m\u001b[0;34m'y'\u001b[0m\u001b[0;34m]\u001b[0m\u001b[0;34m\u001b[0m\u001b[0;34m\u001b[0m\u001b[0m\n\u001b[1;32m      4\u001b[0m     \u001b[0mw2\u001b[0m \u001b[0;34m+=\u001b[0m \u001b[0mX_tr_data\u001b[0m\u001b[0;34m.\u001b[0m\u001b[0mloc\u001b[0m\u001b[0;34m[\u001b[0m\u001b[0mi\u001b[0m\u001b[0;34m,\u001b[0m\u001b[0;34m'Lagrange'\u001b[0m\u001b[0;34m]\u001b[0m \u001b[0;34m*\u001b[0m \u001b[0mX_tr_data\u001b[0m\u001b[0;34m.\u001b[0m\u001b[0mloc\u001b[0m\u001b[0;34m[\u001b[0m\u001b[0mi\u001b[0m\u001b[0;34m,\u001b[0m\u001b[0;34m'X2'\u001b[0m\u001b[0;34m]\u001b[0m \u001b[0;34m*\u001b[0m \u001b[0mX_tr_data\u001b[0m\u001b[0;34m.\u001b[0m\u001b[0mloc\u001b[0m\u001b[0;34m[\u001b[0m\u001b[0mi\u001b[0m\u001b[0;34m,\u001b[0m\u001b[0;34m'y'\u001b[0m\u001b[0;34m]\u001b[0m\u001b[0;34m\u001b[0m\u001b[0;34m\u001b[0m\u001b[0m\n",
            "\u001b[0;31mNameError\u001b[0m: name 'X_tr_data' is not defined"
          ]
        }
      ],
      "source": [
        "# Will not run, from Quiz 2\n",
        "for i in range(len(X_tr_data.index)):\n",
        "    w1 += X_tr_data.loc[i,'Lagrange'] * X_tr_data.loc[i,'X1'] * X_tr_data.loc[i,'y'] \n",
        "    w2 += X_tr_data.loc[i,'Lagrange'] * X_tr_data.loc[i,'X2'] * X_tr_data.loc[i,'y']"
      ]
    },
    {
      "cell_type": "markdown",
      "metadata": {
        "hidden": true,
        "id": "h7zi8WKBHUEA"
      },
      "source": [
        "### If, thens, etc."
      ]
    },
    {
      "cell_type": "code",
      "execution_count": null,
      "metadata": {
        "hidden": true,
        "id": "mJ_aNxmGHUEA"
      },
      "outputs": [],
      "source": [
        "# https://anh.cs.luc.edu/python/hands-on/3.1/handsonHtml/ifstatements.html"
      ]
    },
    {
      "cell_type": "code",
      "execution_count": null,
      "metadata": {
        "hidden": true,
        "colab": {
          "base_uri": "https://localhost:8080/"
        },
        "id": "FqaFEreOHUEA",
        "outputId": "e654f213-965f-4a0d-db78-862971a10ce3"
      },
      "outputs": [
        {
          "output_type": "stream",
          "name": "stdout",
          "text": [
            "Go to work.\n"
          ]
        }
      ],
      "source": [
        "# https://pythonexamples.org/python-if-or/\n",
        "today = 'Wednesday'\n",
        "\n",
        "if today=='Sunday' or today=='Saturday':\n",
        "\tprint('Today is off. Rest at home.')\n",
        "else:\n",
        "\tprint('Go to work.')"
      ]
    },
    {
      "cell_type": "markdown",
      "metadata": {
        "hidden": true,
        "id": "jff8_zFbHUEA"
      },
      "source": [
        "## Linear Regression (sklearn)"
      ]
    },
    {
      "cell_type": "code",
      "execution_count": null,
      "metadata": {
        "collapsed": true,
        "hidden": true,
        "jupyter": {
          "outputs_hidden": true
        },
        "colab": {
          "base_uri": "https://localhost:8080/",
          "height": 860
        },
        "id": "XzLVyyZ6HUEA",
        "outputId": "d924e1fc-16c1-4c74-8ad0-057150e1208f"
      },
      "outputs": [
        {
          "output_type": "stream",
          "name": "stderr",
          "text": [
            "/usr/local/lib/python3.7/dist-packages/sklearn/utils/deprecation.py:87: FutureWarning: Function load_boston is deprecated; `load_boston` is deprecated in 1.0 and will be removed in 1.2.\n",
            "\n",
            "    The Boston housing prices dataset has an ethical problem. You can refer to\n",
            "    the documentation of this function for further details.\n",
            "\n",
            "    The scikit-learn maintainers therefore strongly discourage the use of this\n",
            "    dataset unless the purpose of the code is to study and educate about\n",
            "    ethical issues in data science and machine learning.\n",
            "\n",
            "    In this special case, you can fetch the dataset from the original\n",
            "    source::\n",
            "\n",
            "        import pandas as pd\n",
            "        import numpy as np\n",
            "\n",
            "\n",
            "        data_url = \"http://lib.stat.cmu.edu/datasets/boston\"\n",
            "        raw_df = pd.read_csv(data_url, sep=\"\\s+\", skiprows=22, header=None)\n",
            "        data = np.hstack([raw_df.values[::2, :], raw_df.values[1::2, :2]])\n",
            "        target = raw_df.values[1::2, 2]\n",
            "\n",
            "    Alternative datasets include the California housing dataset (i.e.\n",
            "    :func:`~sklearn.datasets.fetch_california_housing`) and the Ames housing\n",
            "    dataset. You can load the datasets as follows::\n",
            "\n",
            "        from sklearn.datasets import fetch_california_housing\n",
            "        housing = fetch_california_housing()\n",
            "\n",
            "    for the California housing dataset and::\n",
            "\n",
            "        from sklearn.datasets import fetch_openml\n",
            "        housing = fetch_openml(name=\"house_prices\", as_frame=True)\n",
            "\n",
            "    for the Ames housing dataset.\n",
            "    \n",
            "  warnings.warn(msg, category=FutureWarning)\n"
          ]
        },
        {
          "output_type": "error",
          "ename": "NameError",
          "evalue": "ignored",
          "traceback": [
            "\u001b[0;31m---------------------------------------------------------------------------\u001b[0m",
            "\u001b[0;31mNameError\u001b[0m                                 Traceback (most recent call last)",
            "\u001b[0;32m<ipython-input-5-c2ee2e925ec6>\u001b[0m in \u001b[0;36m<module>\u001b[0;34m\u001b[0m\n\u001b[1;32m      3\u001b[0m \u001b[0;32mfrom\u001b[0m \u001b[0msklearn\u001b[0m \u001b[0;32mimport\u001b[0m \u001b[0mdatasets\u001b[0m\u001b[0;34m\u001b[0m\u001b[0;34m\u001b[0m\u001b[0m\n\u001b[1;32m      4\u001b[0m \u001b[0mdata\u001b[0m \u001b[0;34m=\u001b[0m \u001b[0mdatasets\u001b[0m\u001b[0;34m.\u001b[0m\u001b[0mload_boston\u001b[0m\u001b[0;34m(\u001b[0m\u001b[0;34m)\u001b[0m\u001b[0;34m\u001b[0m\u001b[0;34m\u001b[0m\u001b[0m\n\u001b[0;32m----> 5\u001b[0;31m \u001b[0mdf\u001b[0m \u001b[0;34m=\u001b[0m \u001b[0mpd\u001b[0m\u001b[0;34m.\u001b[0m\u001b[0mDataFrame\u001b[0m\u001b[0;34m(\u001b[0m\u001b[0mdata\u001b[0m\u001b[0;34m.\u001b[0m\u001b[0mdata\u001b[0m\u001b[0;34m,\u001b[0m \u001b[0mcolumns\u001b[0m\u001b[0;34m=\u001b[0m\u001b[0mdata\u001b[0m\u001b[0;34m.\u001b[0m\u001b[0mfeature_names\u001b[0m\u001b[0;34m)\u001b[0m\u001b[0;34m\u001b[0m\u001b[0;34m\u001b[0m\u001b[0m\n\u001b[0m\u001b[1;32m      6\u001b[0m \u001b[0mtarget\u001b[0m \u001b[0;34m=\u001b[0m \u001b[0mpd\u001b[0m\u001b[0;34m.\u001b[0m\u001b[0mDataFrame\u001b[0m\u001b[0;34m(\u001b[0m\u001b[0mdata\u001b[0m\u001b[0;34m.\u001b[0m\u001b[0mtarget\u001b[0m\u001b[0;34m,\u001b[0m \u001b[0mcolumns\u001b[0m\u001b[0;34m=\u001b[0m\u001b[0;34m[\u001b[0m\u001b[0;34m\"MEDV\"\u001b[0m\u001b[0;34m]\u001b[0m\u001b[0;34m)\u001b[0m\u001b[0;34m\u001b[0m\u001b[0;34m\u001b[0m\u001b[0m\n\u001b[1;32m      7\u001b[0m \u001b[0;34m\u001b[0m\u001b[0m\n",
            "\u001b[0;31mNameError\u001b[0m: name 'pd' is not defined"
          ]
        }
      ],
      "source": [
        "# Setup \n",
        "# Ch 04 : Linear Regression\n",
        "from sklearn import datasets\n",
        "data = datasets.load_boston()\n",
        "df = pd.DataFrame(data.data, columns=data.feature_names)\n",
        "target = pd.DataFrame(data.target, columns=[\"MEDV\"])\n",
        "\n",
        "# Code\n",
        "\n",
        "from sklearn import linear_model\n",
        "\n",
        "X = df.loc[:, \"RM\":\"RM\"]\n",
        "y = target[\"MEDV\"]\n",
        "\n",
        "lm = linear_model.LinearRegression()\n",
        "\n",
        "model = lm.fit(X, y)\n",
        "predictions = lm.predict(X)\n",
        "\n",
        "print(\"Linear regression score: %f \" % lm.score(X, y))\n",
        "\n",
        "print(\"Linear model coefficients: %f \" % lm.coef_)\n",
        "\n",
        "print(\"Linear model y intercept: %f \" % lm.intercept_)\n",
        "\n"
      ]
    },
    {
      "cell_type": "markdown",
      "metadata": {
        "hidden": true,
        "id": "Xm-4NFWGHUEA"
      },
      "source": [
        "# Packages"
      ]
    },
    {
      "cell_type": "markdown",
      "source": [
        "## SKLearn"
      ],
      "metadata": {
        "id": "uGkhwLk2VyNl"
      }
    },
    {
      "cell_type": "markdown",
      "source": [
        "## NLTK "
      ],
      "metadata": {
        "id": "r_LA2qSVHUEA"
      }
    },
    {
      "cell_type": "code",
      "source": [
        "# STUB\n",
        "# Fast ngrams (one liner) : https://stackoverflow.com/questions/7591258/fast-n-gram-calculation"
      ],
      "metadata": {
        "id": "8ircb7hjWCt1"
      },
      "execution_count": null,
      "outputs": []
    },
    {
      "cell_type": "markdown",
      "metadata": {
        "hidden": true,
        "id": "WFr0iQtzHUEB"
      },
      "source": [
        "## Spacy"
      ]
    },
    {
      "cell_type": "code",
      "execution_count": null,
      "metadata": {
        "hidden": true,
        "id": "gLk5PeZaHUEB"
      },
      "outputs": [],
      "source": [
        "# https://spacy.io/usage\n",
        "    # had too first elevate cmd prompt to admin in order to install \"en_core_web_sm\" and similar.\n",
        "    # https://spacy.io/usage/vectors-similarity\n",
        "    # ONE LINE: token, dataframe, panda, column : https://www.reddit.com/r/learnpython/comments/78i7rh/tokenizing_using_pandas_and_spacy/\n",
        "    #    df['new_col'] = df['old_col'].apply(lambda x: nlp(x)) \n",
        "    \n",
        "    # Custom Sentence breaks. https://spacy.io/usage/linguistic-features#sbd-custom"
      ]
    },
    {
      "cell_type": "markdown",
      "metadata": {
        "id": "wSzC0heUHUEB"
      },
      "source": [
        "## Seleneum"
      ]
    },
    {
      "cell_type": "code",
      "execution_count": null,
      "metadata": {
        "id": "EIgLrPKaHUEB"
      },
      "outputs": [],
      "source": [
        "# General: https://www.analyticsvidhya.com/blog/2020/08/web-scraping-selenium-with-python/ 2021.09.06 - 20.29\n",
        "# Element key terms: https://developer.mozilla.org/en-US/docs/Web/API/Element 2021.09.06 - 20.24\n",
        "# Match Elements\n",
        "#      from driver: https://selenium-python.readthedocs.io/locating-elements.html 2021.09.06 - 20.25\n",
        "#      from WebElement: https://www.geeksforgeeks.org/get_attribute-element-method-selenium-python/\n",
        "# Regex w/ Webelements: https://www.tutorialspoint.com/how-to-use-regular-expressions-in-xpath-in-selenium-with-python 2021.09.06 - 20.28"
      ]
    },
    {
      "cell_type": "markdown",
      "metadata": {
        "id": "OaMrNTzGHUEB"
      },
      "source": [
        "## html5lib"
      ]
    },
    {
      "cell_type": "code",
      "execution_count": null,
      "metadata": {
        "id": "6k9tCJwjHUEB"
      },
      "outputs": [],
      "source": [
        "# https://anaconda.org/anaconda/html5lib 2021.09.08 - 19.34\n"
      ]
    },
    {
      "cell_type": "markdown",
      "source": [
        "# Environments"
      ],
      "metadata": {
        "id": "7_sk_K0mLgHR"
      }
    },
    {
      "cell_type": "markdown",
      "source": [
        "## Google Colab"
      ],
      "metadata": {
        "id": "wzk1Z08uLoRS"
      }
    },
    {
      "cell_type": "markdown",
      "source": [
        "### Shortcut Commands"
      ],
      "metadata": {
        "id": "8BcCiQ2SLw7s"
      }
    },
    {
      "cell_type": "markdown",
      "source": [
        "#### Default VIM Commands\n",
        "\n",
        "* Notes :: Shortcuts\n",
        "To add or change a shortcut, click the key combination and then type the new keys. Note that \n",
        "Ctrl+M can be used as a prefix for multi-key-event shortcuts.   \n",
        "🛑 = Cannot change default key\n",
        "* Most Used\n",
        " * Ctrl+Space or Tab ➡  Autocomplete 🛑\n",
        " * Ctrl+/ ➡ Comment current line 🛑\n",
        " * Ctrl+Alt+M ➡ Add a comment\n",
        " * Ctrl+M Y ➡ Convert to code cell\n",
        " * Ctrl+M M ➡ Convert to text cell\n",
        " * Ctrl+M A ➡ Insert code cell above\n",
        " * Ctrl+M B ➡ Insert code cell below\n",
        " * Ctrl+M - ➡ Split at cursor\n",
        " * Ctrl+Shift+/ ➡ Show keyboard shortcuts (aka Ctrl+?)\n",
        " * Ctrl+M U ➡ Unfocus current cell\n",
        " * Shift+Tab ➡ Unindent current line 🛑\n",
        " * Ctrl+Click ➡ Toggle cell selection 🛑\n",
        " * Tab ➡ Toggle code docstring help 🛑\n",
        " * Navigation\n",
        " * Ctrl+M P ➡ Previous cell\n",
        " * Ctrl+M N ➡ Next cell\n",
        " * Ctrl+M . ➡ Restart runtime\n",
        " * Ctrl+' ➡ Toggle expand/collapse current section\n",
        " * Set shortcut ➡ Toggle header visibility\n",
        " * Ctrl+M L ➡ Toggle line numbers\n",
        " * Ctrl+M Z or Ctrl+Shift+Z ➡ Undo last cell action 🛑 \n",
        "\n",
        "* Move\n",
        " * Ctrl+M J ➡ Move selected cells down\n",
        " * Ctrl+M K ➡ Move selected cells up\n",
        "* Save\n",
        " * Ctrl+M S ➡ Save and pin revision\n",
        " * Ctrl+S ➡ Save notebook\n",
        "* Run\n",
        " * Ctrl+Shift+Enter ➡ Run selection\n",
        " * Ctrl+Enter ➡ Run the focused cell\n",
        " * Ctrl+F9 ➡ Run all cells in notebook\n",
        " * Ctrl+F8 ➡ Run cells before the current\n",
        " * Ctrl+F10 ➡ Run selected cell and all cells after\n",
        " * Alt+Enter ➡ Run cell and insert new cell\n",
        " * Shift+Enter ➡ Run cell and select next cell\n",
        "* Find/Replace\n",
        " * Ctrl+H ➡ Global find/replace\n",
        " * Ctrl+G ➡ Find next\n",
        " * Ctrl+Shift+G ➡ Find previous\n",
        " * Shift+Ctrl+H ➡ Replace all in current cell 🛑\n",
        "* Selection\n",
        " * Ctrl+] ➡ Collapse all/selected sections\n",
        " * Shift+Down ➡ Grow selection to include next cell\n",
        " * Shift+Up ➡ Grow selection to include previous cell\n",
        "* Cut/Copy/Paste\n",
        " * Ctrl+M C ➡ Copy cell or selection\n",
        " * Ctrl+Shift+X ➡ Cut cell or selection\n",
        "* ???\n",
        " * Ctrl+Shift+] ➡ Focus next tab 🛑\n",
        " * Ctrl+Shift+[ ➡ Focus previous tab 🛑\n",
        " * Set shortcut ➡ Focus the last run cell\n"
      ],
      "metadata": {
        "id": "UBFGEF2fLzqA"
      }
    },
    {
      "cell_type": "markdown",
      "source": [
        "### TO SORT (Google Colab Shortcuts)\n"
      ],
      "metadata": {
        "id": "KUFfjvf0U5NE"
      }
    },
    {
      "cell_type": "markdown",
      "source": [
        "\n",
        "* Set shortcut ➡ Add a form\n",
        "* Set shortcut ➡ Add a form field\n",
        "* Set shortcut ➡ Add code cell\n",
        "* Set shortcut ➡ Add section header cell\n",
        "* Set shortcut ➡ Add text cell\n",
        "* Set shortcut ➡ Clear all outputs\n",
        "* Set shortcut ➡ Clear selected outputs\n",
        "* Set shortcut ➡ Comments sidebar\n",
        "* Set shortcut ➡ Connect to a custom GCE VM\n",
        "* Set shortcut ➡ Connect to a hosted runtime\n",
        "* Set shortcut ➡ Connect to a local runtime\n",
        "* Set shortcut ➡ Connect to a runtime\n",
        "* Set shortcut ➡ Copy to scratch cell\n",
        "* Set shortcut ➡ Create new notebook\n",
        "* Ctrl+M F ➡ Cycle form view\n",
        "* Ctrl+M D ➡ Delete cell/selection\n",
        "* Set shortcut ➡ Diff notebooks\n",
        "* Set shortcut ➡ Disconnect and delete runtime\n",
        "* Set shortcut ➡ Download .ipynb\n",
        "* Set shortcut ➡ Download .py\n",
        "* Set shortcut ➡ Edit form attributes\n",
        "* Ctrl+[➡ Expand all/selected sections\n",
        "* Set shortcut ➡ Factory reset all runtimes\n",
        "* Ctrl+M I ➡ Interrupt execution\n",
        "* Set shortcut ➡ Jump to cell\n",
        "* Set shortcut ➡ Locate in Drive\n",
        "* Set shortcut ➡ Manage sessions\n",
        "* Set shortcut ➡ Merge focused cell with next cell\n",
        "* Set shortcut ➡ Merge focused cell with previous cell\n",
        "* Set shortcut ➡ Merge selected cells\n",
        "* Set shortcut ➡ Mirror cell in tab\n",
        "* Set shortcut ➡ Mount Drive\n",
        "* Set shortcut ➡ Move left pane to a tab\n",
        "* Set shortcut ➡ Move notebook in Drive\n",
        "* Set shortcut ➡ Move notebook to trash\n",
        "* Set shortcut ➡ Move tab to next pane\n",
        "* Set shortcut ➡ Move tab to previous pane\n",
        "* Set shortcut ➡ Open comments pane\n",
        "* Set shortcut ➡ Open editor settings\n",
        "* Set shortcut ➡ Open in playground mode\n",
        "* Ctrl+O ➡ Open notebook\n",
        "* Set shortcut ➡ Open notebook settings\n",
        "* Ctrl+Alt+N ➡ Open scratch code cell\n",
        "* Set shortcut ➡ Open settings\n",
        "* Ctrl+P ➡ Print notebook\n",
        "* Set shortcut ➡ Reconnect\n",
        "* Ctrl+Shift+Y ➡ Redo cell action\n",
        "* Set shortcut ➡ Restart runtime and run all cells in notebook\n",
        "* Set shortcut ➡ Save a copy as a GitHub Gist\n",
        "* Set shortcut ➡ Save a copy in Drive\n",
        "* Set shortcut ➡ Save a copy in GitHub\n",
        "* Set shortcut ➡ Save the collapsed section layout\n",
        "* Ctrl+Shift+A ➡ Select all cells\n",
        "* Ctrl+Shift+S ➡ Select focused cell\n",
        "* Shift+Click ➡ Select multiple cells 🛑\n",
        "* Set shortcut ➡ Share notebook\n",
        "* Ctrl+Alt+P ➡ Show code snippets pane\n",
        "* Ctrl+Shift+P ➡ Show command palette\n",
        "* Set shortcut ➡ Show executed code history\n",
        "* Set shortcut ➡ Show file browser\n",
        "* Set shortcut ➡ Show notebook file information\n",
        "* Set shortcut ➡ Show revision history\n",
        "* Set shortcut ➡ Show scheduled notebooks\n",
        "* Set shortcut ➡ Show table of contents\n",
        "* Set shortcut ➡ Show terminal\n",
        "* Set shortcut ➡ Show variable inspector\n",
        "* Set shortcut ➡ Show/hide code\n",
        "* Ctrl+M O ➡ Show/hide output\n",
        "* Set shortcut ➡ Show/hide status bar\n",
        "* Set shortcut ➡ Star/unstar notebook in Google Drive\n",
        "* Set shortcut ➡ Unmount Drive\n",
        "* Set shortcut ➡ Upload notebook\n",
        "* Set shortcut ➡ View notebook JSON\n",
        "* Set shortcut ➡ View notebook source\n",
        "* Set shortcut ➡ View output fullscreen\n",
        "* Set shortcut ➡ View resources\n",
        "* Set shortcut ➡ View runtime logs\n",
        "* Set shortcut ➡ View single tabbed layout\n",
        "* Set shortcut ➡ View tabs in two columns\n",
        "* Set shortcut ➡ View tabs in two rows"
      ],
      "metadata": {
        "id": "OHxsetJFVNvP"
      }
    },
    {
      "cell_type": "markdown",
      "metadata": {
        "id": "jalRxxiRHUEB"
      },
      "source": [
        "## Jupyter Notebook"
      ]
    },
    {
      "cell_type": "code",
      "execution_count": null,
      "metadata": {
        "ExecuteTime": {
          "end_time": "2020-11-24T03:52:09.789326Z",
          "start_time": "2020-11-24T03:52:09.769811Z"
        },
        "scrolled": true,
        "id": "0l9d6f4sHUEB",
        "outputId": "b912a8b4-b29d-4cde-ca64-c8734129cfbe"
      },
      "outputs": [
        {
          "data": {
            "text/html": [
              "<style>div.output_area pre {white-space: pre;}</style>"
            ],
            "text/plain": [
              "<IPython.core.display.HTML object>"
            ]
          },
          "metadata": {},
          "output_type": "display_data"
        },
        {
          "name": "stdout",
          "output_type": "stream",
          "text": [
            " ;klajsd;lj as;ldkjf; aslkdjf;lj laskjdf ;laskjdf;lk jasdflkjasldfj;ksjdf;jkasdfklj;asdkfj;j;asdjkf;ljksadf;kj;aslkdjf\n"
          ]
        }
      ],
      "source": [
        "# No lines of text wrapping\n",
        "# https://stackoverflow.com/questions/53482343/how-to-disable-line-wrapping-in-jupyter-notebook-output-cells\n",
        "from IPython.core.display import display, HTML\n",
        "display(HTML(\"<style>div.output_area pre {white-space: pre;}</style>\"))\n",
        "print(\" ;klajsd;lj as;ldkjf; aslkdjf;lj laskjdf ;laskjdf;lk jasdflkjasldfj;ksjdf;jkasdfklj;asdkfj;j;asdjkf;ljksadf;kj;aslkdjf\")"
      ]
    },
    {
      "cell_type": "code",
      "execution_count": null,
      "metadata": {
        "id": "QkfdaGd5HUEB"
      },
      "outputs": [],
      "source": [
        "# Jupyter Lab/Notebook - Time Progress Bars 2021.09.06 - 23.43\n",
        "# https://towardsdatascience.com/progress-bars-in-python-4b44e8a4c482\n",
        "# conda install -c conda-forge ipywidgets , from https://ipywidgets.readthedocs.io/en/latest/user_install.html 2021.09.06 - 23.47\n",
        "#   Requires Node.js, https://jupyterlab.readthedocs.io/en/stable/user/extensions.html\n",
        "#   Also install TQDM: conda install -c conda-forge tqdm , https://github.com/tqdm/tqdm#latest-conda-release"
      ]
    },
    {
      "cell_type": "markdown",
      "metadata": {
        "id": "jvGqUHhvHUEB"
      },
      "source": [
        "## Command Prompt"
      ]
    },
    {
      "cell_type": "code",
      "execution_count": null,
      "metadata": {
        "id": "EEBtHcP6HUEB"
      },
      "outputs": [],
      "source": [
        "activate LAYER\n",
        "jupyter notebook\n",
        "jupyter lab\n",
        "pip list # Display all packages and versions installed  # https://www.activestate.com/resources/quick-reads/how-to-list-installed-python-packages/ 2021.09.07 - 21.16\n",
        "conda list # same as above\n",
        "\n"
      ]
    },
    {
      "cell_type": "markdown",
      "source": [],
      "metadata": {
        "id": "6iel_Y0JLRwE"
      }
    },
    {
      "cell_type": "markdown",
      "metadata": {
        "heading_collapsed": true,
        "id": "745YoE7cHUEB"
      },
      "source": [
        "# TO SORT"
      ]
    },
    {
      "cell_type": "code",
      "execution_count": null,
      "metadata": {
        "hidden": true,
        "id": "LLh6u6kmHUEC"
      },
      "outputs": [],
      "source": [
        "### Decision Trees\n",
        "# http://adataanalyst.com/scikit-learn/decision-trees-scikit-learn/\n",
        "# Weights in Decision Trees :: https://stackoverflow.com/questions/34389624/what-does-sample-weight-do-to-the-way-a-decisiontreeclassifier-works-in-skle\n",
        "# Jupyter Notebook Pixie debugger\n",
        "# https://medium.com/ibm-watson-data-lab/the-visual-python-debugger-for-jupyter-notebooks-youve-always-wanted-761713babc62\n",
        "#     Not working on Windows : https://stackoverflow.com/questions/48825695/permission-denied-error-while-installing-pixiedust-jupyter?utm_medium=organic&utm_source=google_rich_qa&utm_campaign=google_rich_qa"
      ]
    },
    {
      "cell_type": "code",
      "execution_count": null,
      "metadata": {
        "hidden": true,
        "id": "VIiobNumHUEC"
      },
      "outputs": [],
      "source": [
        "# File Operations\n",
        "# Iterating over a file (by line, etc.)\n",
        "# http://interactivepython.org/runestone/static/thinkcspy/Files/AlternativeFileReadingMethods.html\n",
        "\n",
        "# Zip, Map, Lambda : https://bradmontgomery.net/blog/pythons-zip-map-and-lambda/\n",
        "# Zip : https://www.saltycrane.com/blog/2007/12/iterating-through-two-lists-in-parallel/\n",
        "# https://medium.com/@happymishra66/zip-in-python-48cb4f70d013\n",
        "\n",
        "# TF-IDF\n",
        "# http://www.bogotobogo.com/python/NLTK/tf_idf_with_scikit-learn_NLTK.php\n",
        "# http://www.tfidf.com/\n",
        "\n",
        "# IDEs :\n",
        "# Grasshopper : https://discourse.mcneel.com/t/filter-remove-empty-lists-python/34594/5\n",
        "# http://developer.rhino3d.com/guides/"
      ]
    },
    {
      "cell_type": "code",
      "execution_count": null,
      "metadata": {
        "hidden": true,
        "id": "05vfOgzYHUEC"
      },
      "outputs": [],
      "source": [
        "# Elegance\n",
        "# One Line Loops : http://blog.teamtreehouse.com/python-single-line-loops\n",
        "# Not all : https://stackoverflow.com/questions/31154372/what-is-the-best-way-to-check-if-a-tuple-has-any-empty-none-values-in-python\n",
        "# Filter / None : https://stackoverflow.com/questions/30791880/python-map-function-lambda-involving-conditionals-if\n",
        "# Filter : https://stackoverflow.com/questions/4842956/python-how-to-remove-empty-lists-from-a-list\n",
        "# Pep 8 Stile Guidelines : https://www.python.org/dev/peps/pep-0008/    (originally for sequences )\n",
        "#       https://www.quora.com/What-is-the-Pythonic-way-to-check-for-an-empty-set\n",
        "# Regex Match: one line: https://blog.finxter.com/python-one-line-regex-match/ 2021.09.06 - 20.15\n",
        "# One line if/else: 2021.09.06 - 20.22\n",
        "#       https://www.pythoncentral.io/one-line-if-statement-in-python-ternary-conditional-operator/\n",
        "#       https://thispointer.com/python-if-else-in-one-line-a-ternary-operator/"
      ]
    },
    {
      "cell_type": "code",
      "execution_count": null,
      "metadata": {
        "id": "YChI5ZpPHUEC",
        "outputId": "92174353-6cdf-449f-8a39-452335839075"
      },
      "outputs": [
        {
          "data": {
            "text/plain": [
              "['ero', 'ne', 'wo']"
            ]
          },
          "execution_count": 21,
          "metadata": {},
          "output_type": "execute_result"
        }
      ],
      "source": [
        "# One Line code, removing first letter and only printing the first three.  2021.09.06 - 20.48\n",
        "[d[1:] for d in ['zero','one','two','three','four','five'][0:3]]"
      ]
    },
    {
      "cell_type": "code",
      "execution_count": null,
      "metadata": {
        "hidden": true,
        "id": "yAaF0NPVHUEC"
      },
      "outputs": [],
      "source": [
        "# Var tracer\n",
        "from IPython.core.debugger import set_trace\n",
        "\n",
        "def add_to_life_universe_everything(x):\n",
        "    answer = 42\n",
        "    set_trace()\n",
        "    answer += x\n",
        "    \n",
        "    return answer\n",
        "\n",
        "add_to_life_universe_everything(12)\n",
        "\n",
        "# Jupyter Notebook helpers : https://github.com/minrk/ipython_extensions"
      ]
    },
    {
      "cell_type": "code",
      "execution_count": null,
      "metadata": {
        "hidden": true,
        "id": "9zWCMHlYHUEC"
      },
      "outputs": [],
      "source": [
        "# Environment \n",
        "# print(mlxtend.__version__)  # https://stackoverflow.com/questions/20180543/how-to-check-version-of-python-modules?utm_medium=organic&utm_source=google_rich_qa&utm_campaign=google_rich_qa\n"
      ]
    },
    {
      "cell_type": "code",
      "execution_count": null,
      "metadata": {
        "hidden": true,
        "id": "vA5Vuy77HUEC"
      },
      "outputs": [],
      "source": [
        "# Algorithms:\n",
        "#    Apriori and Association Rules : https://algobeans.com/2016/04/01/association-rules-and-the-apriori-algorithm/\n",
        "#   https://rasbt.github.io/mlxtend/user_guide/frequent_patterns/association_rules/\n",
        "# General :\n",
        "#    https://www.springboard.com/blog/data-mining-python-tutorial/"
      ]
    },
    {
      "cell_type": "code",
      "execution_count": null,
      "metadata": {
        "hidden": true,
        "id": "6WtW2yvDHUEC"
      },
      "outputs": [],
      "source": [
        "# Great Tutorials :\n",
        "#   CountVectorizer and TFIDF : https://www.kaggle.com/pceccon/countvectorizer-and-tfidf-strategies"
      ]
    },
    {
      "cell_type": "code",
      "execution_count": null,
      "metadata": {
        "collapsed": true,
        "hidden": true,
        "jupyter": {
          "outputs_hidden": true
        },
        "id": "07aFkYQzHUEC",
        "outputId": "1c4d9983-5c20-4dd1-90d0-4637dd32d311"
      },
      "outputs": [
        {
          "name": "stderr",
          "output_type": "stream",
          "text": [
            "C:\\Users\\Conda\\Anaconda3\\lib\\site-packages\\mlxtend\\preprocessing\\onehot.py:66: DeprecationWarning: OnehotTransactions has been deprecated and will be removed in future. Please use TransactionEncoder instead.\n",
            "  warnings.warn(msg, DeprecationWarning)\n"
          ]
        },
        {
          "name": "stdout",
          "output_type": "stream",
          "text": [
            "   Apple   Corn   Dill   Eggs  Ice cream  Kidney Beans   Milk  Nutmeg  Onion  \\\n",
            "0  False  False  False   True      False          True   True    True   True   \n",
            "1  False  False   True   True      False          True  False    True   True   \n",
            "2   True  False  False   True      False          True   True   False  False   \n",
            "3  False   True  False  False      False          True   True   False  False   \n",
            "4  False   True  False   True       True          True  False   False   True   \n",
            "\n",
            "   Unicorn  Yogurt  \n",
            "0    False    True  \n",
            "1    False    True  \n",
            "2    False   False  \n",
            "3     True    True  \n",
            "4    False   False  \n",
            "    support                     itemsets\n",
            "0       0.8                       [Eggs]\n",
            "1       1.0               [Kidney Beans]\n",
            "2       0.6                       [Milk]\n",
            "3       0.6                      [Onion]\n",
            "4       0.6                     [Yogurt]\n",
            "5       0.8         [Eggs, Kidney Beans]\n",
            "6       0.6                [Eggs, Onion]\n",
            "7       0.6         [Kidney Beans, Milk]\n",
            "8       0.6        [Kidney Beans, Onion]\n",
            "9       0.6       [Kidney Beans, Yogurt]\n",
            "10      0.6  [Eggs, Kidney Beans, Onion]\n",
            "             antecedants            consequents  antecedent support  \\\n",
            "0                (Onion)                 (Eggs)                 0.6   \n",
            "1                 (Eggs)                (Onion)                 0.8   \n",
            "2   (Kidney Beans, Eggs)                (Onion)                 0.8   \n",
            "3  (Onion, Kidney Beans)                 (Eggs)                 0.6   \n",
            "4                 (Eggs)  (Onion, Kidney Beans)                 0.8   \n",
            "5                (Onion)   (Kidney Beans, Eggs)                 0.6   \n",
            "\n",
            "   consequent support  support  confidence  lift  leverage  conviction  \n",
            "0                 0.8      0.6        1.00  1.25      0.12         inf  \n",
            "1                 0.6      0.6        0.75  1.25      0.12    1.600000  \n",
            "2                 0.6      0.6        0.75  1.25      0.12    1.600000  \n",
            "3                 0.8      0.6        1.00  1.25      0.12         inf  \n",
            "4                 0.6      0.6        0.75  1.25      0.12    1.600000  \n",
            "5                 0.8      0.6        1.00  1.25      0.12         inf  \n"
          ]
        },
        {
          "data": {
            "text/plain": [
              "<matplotlib.figure.Figure at 0x1fda168ba58>"
            ]
          },
          "metadata": {},
          "output_type": "display_data"
        },
        {
          "name": "stderr",
          "output_type": "stream",
          "text": [
            "C:\\Users\\Conda\\Anaconda3\\lib\\site-packages\\networkx\\generators\\expanders.py:71: DeprecationWarning: invalid escape sequence \\s\n",
            "  \"\"\"\n",
            "C:\\Users\\Conda\\Anaconda3\\lib\\site-packages\\networkx\\generators\\geometric.py:266: DeprecationWarning: invalid escape sequence \\l\n",
            "  \"\"\"\n",
            "C:\\Users\\Conda\\Anaconda3\\lib\\site-packages\\networkx\\generators\\geometric.py:736: DeprecationWarning: invalid escape sequence \\l\n",
            "  \"\"\"\n",
            "C:\\Users\\Conda\\Anaconda3\\lib\\site-packages\\networkx\\algorithms\\centrality\\current_flow_betweenness.py:319: DeprecationWarning: invalid escape sequence \\l\n",
            "  \"\"\"\n",
            "C:\\Users\\Conda\\Anaconda3\\lib\\site-packages\\networkx\\algorithms\\cluster.py:424: DeprecationWarning: invalid escape sequence \\m\n",
            "  \"\"\"\n",
            "C:\\Users\\Conda\\Anaconda3\\lib\\site-packages\\networkx\\algorithms\\reciprocity.py:47: DeprecationWarning: invalid escape sequence \\i\n",
            "  \"\"\"\n",
            "C:\\Users\\Conda\\Anaconda3\\lib\\site-packages\\networkx\\algorithms\\shortest_paths\\weighted.py:1948: DeprecationWarning: invalid escape sequence \\p\n",
            "  \"\"\"\n",
            "C:\\Users\\Conda\\Anaconda3\\lib\\site-packages\\networkx\\algorithms\\connectivity\\connectivity.py:302: DeprecationWarning: invalid escape sequence \\d\n",
            "  \"\"\"\n",
            "C:\\Users\\Conda\\Anaconda3\\lib\\site-packages\\networkx\\algorithms\\flow\\preflowpush.py:426: DeprecationWarning: invalid escape sequence \\s\n",
            "  \"\"\"\n",
            "C:\\Users\\Conda\\Anaconda3\\lib\\site-packages\\networkx\\algorithms\\flow\\shortestaugmentingpath.py:298: DeprecationWarning: invalid escape sequence \\m\n",
            "  \"\"\"\n",
            "C:\\Users\\Conda\\Anaconda3\\lib\\site-packages\\networkx\\algorithms\\connectivity\\stoerwagner.py:94: DeprecationWarning: invalid escape sequence \\l\n",
            "  \"\"\"\n",
            "C:\\Users\\Conda\\Anaconda3\\lib\\site-packages\\networkx\\generators\\lattice.py:234: DeprecationWarning: invalid escape sequence \\s\n",
            "  \"\"\"\n",
            "C:\\Users\\Conda\\Anaconda3\\lib\\site-packages\\networkx\\generators\\line.py:112: DeprecationWarning: invalid escape sequence \\{\n",
            "  \"\"\"\n",
            "C:\\Users\\Conda\\Anaconda3\\lib\\importlib\\_bootstrap.py:205: ImportWarning: can't resolve package from __spec__ or __package__, falling back on __name__ and __path__\n",
            "  return f(*args, **kwds)\n",
            "C:\\Users\\Conda\\Anaconda3\\lib\\site-packages\\_pytest\\fixtures.py:844: DeprecationWarning: The `convert` argument is deprecated in favor of `converter`.  It will be removed after 2019/01.\n",
            "  params = attr.ib(convert=attr.converters.optional(tuple))\n",
            "C:\\Users\\Conda\\Anaconda3\\lib\\site-packages\\_pytest\\fixtures.py:846: DeprecationWarning: The `convert` argument is deprecated in favor of `converter`.  It will be removed after 2019/01.\n",
            "  ids = attr.ib(default=None, convert=_ensure_immutable_ids)\n"
          ]
        },
        {
          "ename": "TypeError",
          "evalue": "add_nodes_from() missing 1 required positional argument: 'nodes_for_adding'",
          "output_type": "error",
          "traceback": [
            "\u001b[1;31m---------------------------------------------------------------------------\u001b[0m",
            "\u001b[1;31mTypeError\u001b[0m                                 Traceback (most recent call last)",
            "\u001b[1;32m<ipython-input-1-dbdba5c8b489>\u001b[0m in \u001b[0;36m<module>\u001b[1;34m()\u001b[0m\n\u001b[0;32m     94\u001b[0m \u001b[1;33m\u001b[0m\u001b[0m\n\u001b[0;32m     95\u001b[0m \u001b[1;33m\u001b[0m\u001b[0m\n\u001b[1;32m---> 96\u001b[1;33m \u001b[0mdraw_graph\u001b[0m \u001b[1;33m(\u001b[0m\u001b[0mrules\u001b[0m\u001b[1;33m,\u001b[0m \u001b[1;36m6\u001b[0m\u001b[1;33m)\u001b[0m\u001b[1;33m\u001b[0m\u001b[0m\n\u001b[0m\u001b[0;32m     97\u001b[0m \u001b[1;33m\u001b[0m\u001b[0m\n\u001b[0;32m     98\u001b[0m \u001b[1;33m\u001b[0m\u001b[0m\n",
            "\u001b[1;32m<ipython-input-1-dbdba5c8b489>\u001b[0m in \u001b[0;36mdraw_graph\u001b[1;34m(rules, rules_to_show)\u001b[0m\n\u001b[0;32m     65\u001b[0m     \u001b[1;32mfor\u001b[0m \u001b[0mc\u001b[0m \u001b[1;32min\u001b[0m \u001b[0mrules\u001b[0m\u001b[1;33m.\u001b[0m\u001b[0miloc\u001b[0m\u001b[1;33m[\u001b[0m\u001b[0mi\u001b[0m\u001b[1;33m]\u001b[0m\u001b[1;33m[\u001b[0m\u001b[1;34m'consequents'\u001b[0m\u001b[1;33m]\u001b[0m\u001b[1;33m:\u001b[0m\u001b[1;33m\u001b[0m\u001b[0m\n\u001b[0;32m     66\u001b[0m \u001b[1;33m\u001b[0m\u001b[0m\n\u001b[1;32m---> 67\u001b[1;33m             \u001b[0mG1\u001b[0m\u001b[1;33m.\u001b[0m\u001b[0madd_nodes_from\u001b[0m\u001b[1;33m(\u001b[0m\u001b[1;33m)\u001b[0m\u001b[1;33m\u001b[0m\u001b[0m\n\u001b[0m\u001b[0;32m     68\u001b[0m \u001b[1;33m\u001b[0m\u001b[0m\n\u001b[0;32m     69\u001b[0m             \u001b[0mG1\u001b[0m\u001b[1;33m.\u001b[0m\u001b[0madd_edge\u001b[0m\u001b[1;33m(\u001b[0m\u001b[1;34m\"R\"\u001b[0m\u001b[1;33m+\u001b[0m\u001b[0mstr\u001b[0m\u001b[1;33m(\u001b[0m\u001b[0mi\u001b[0m\u001b[1;33m)\u001b[0m\u001b[1;33m,\u001b[0m \u001b[0mc\u001b[0m\u001b[1;33m,\u001b[0m \u001b[0mcolor\u001b[0m\u001b[1;33m=\u001b[0m\u001b[0mcolors\u001b[0m\u001b[1;33m[\u001b[0m\u001b[0mi\u001b[0m\u001b[1;33m]\u001b[0m\u001b[1;33m,\u001b[0m  \u001b[0mweight\u001b[0m\u001b[1;33m=\u001b[0m\u001b[1;36m2\u001b[0m\u001b[1;33m)\u001b[0m\u001b[1;33m\u001b[0m\u001b[0m\n",
            "\u001b[1;31mTypeError\u001b[0m: add_nodes_from() missing 1 required positional argument: 'nodes_for_adding'"
          ]
        }
      ],
      "source": [
        "#http://intelligentonlinetools.com/blog/2018/02/10/how-to-create-data-visualization-for-association-rules-in-data-mining/"
      ]
    }
  ],
  "metadata": {
    "kernelspec": {
      "display_name": "Python 3",
      "language": "python",
      "name": "python3"
    },
    "language_info": {
      "codemirror_mode": {
        "name": "ipython",
        "version": 3
      },
      "file_extension": ".py",
      "mimetype": "text/x-python",
      "name": "python",
      "nbconvert_exporter": "python",
      "pygments_lexer": "ipython3",
      "version": "3.8.8"
    },
    "varInspector": {
      "cols": {
        "lenName": 16,
        "lenType": 16,
        "lenVar": 40
      },
      "kernels_config": {
        "python": {
          "delete_cmd_postfix": "",
          "delete_cmd_prefix": "del ",
          "library": "var_list.py",
          "varRefreshCmd": "print(var_dic_list())"
        },
        "r": {
          "delete_cmd_postfix": ") ",
          "delete_cmd_prefix": "rm(",
          "library": "var_list.r",
          "varRefreshCmd": "cat(var_dic_list()) "
        }
      },
      "types_to_exclude": [
        "module",
        "function",
        "builtin_function_or_method",
        "instance",
        "_Feature"
      ],
      "window_display": false
    },
    "colab": {
      "provenance": [],
      "collapsed_sections": [
        "Iy5ebENzHUDt",
        "VY3e0f-3HUDv",
        "dBuJQkKJHUDw",
        "1aky_rHrHUDx",
        "6QjZvDWQHUDx",
        "Of79GVAQHUDy",
        "k8Bz3yRpHUDy",
        "v4WF--62HUDz",
        "jpHlopGpHUD0",
        "ou4VkIjFHUD1",
        "q2fuqhy-HUD2",
        "8P8SgGnXHUD4",
        "tCdauUAUHUD4",
        "jTR31FbvHUD4",
        "aDla3rlcHUD5",
        "MKgZbygiHUD5",
        "9Rm7xXTnHUD6",
        "B7LUMtPAHUD6",
        "45FtdQpkHUD6",
        "25wbQl1iHUD7",
        "clQKKb4RHUD7",
        "1moB_aYKHUD8",
        "lmHUEdUGHUD8",
        "V3rc5DzTHUD8",
        "nDlpbzjcHUD-",
        "X5bYQ0p4HUD-",
        "PoYoewZeHUEA",
        "wSzC0heUHUEB",
        "7_sk_K0mLgHR",
        "wzk1Z08uLoRS",
        "8BcCiQ2SLw7s",
        "KUFfjvf0U5NE",
        "jalRxxiRHUEB",
        "jvGqUHhvHUEB",
        "745YoE7cHUEB"
      ],
      "include_colab_link": true
    }
  },
  "nbformat": 4,
  "nbformat_minor": 0
}