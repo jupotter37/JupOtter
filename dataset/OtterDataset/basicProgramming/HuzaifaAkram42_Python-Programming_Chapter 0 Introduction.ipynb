{
 "cells": [
  {
   "cell_type": "markdown",
   "id": "db072ef8",
   "metadata": {},
   "source": [
    "# Chapter 0 Introduction #"
   ]
  },
  {
   "cell_type": "markdown",
   "id": "2cd3beaf",
   "metadata": {},
   "source": [
    "## What Is Progrmming Language? ##"
   ]
  },
  {
   "cell_type": "markdown",
   "id": "789eac69",
   "metadata": {},
   "source": [
    "A Programming Language is a method to instruct a computer to perform a operation or task. A programming language is a set of instructions that enable humans to interact with computers. Programming languages are used in many different fields, including software development, web development, and data science.\n",
    "\n",
    "There are many different programming languages, each with their own strengths and weaknesses. Some popular programming languages include Python, Java, C++, and JavaScript."
   ]
  },
  {
   "cell_type": "markdown",
   "id": "4826e259",
   "metadata": {},
   "source": [
    "# What is Python?"
   ]
  },
  {
   "cell_type": "markdown",
   "id": "5e59b195",
   "metadata": {},
   "source": [
    "Python is a popular general-purpose programming language. It is used in machine learning, web development, desktop applications, and many other fields. Python has a simple, easy-to-use syntax. This makes Python a great language to learn for beginners."
   ]
  },
  {
   "cell_type": "markdown",
   "id": "d5890e88",
   "metadata": {},
   "source": [
    "# Why Python?"
   ]
  },
  {
   "cell_type": "markdown",
   "id": "4afdd460",
   "metadata": {},
   "source": [
    "Python is a popular language for several reasons, including:\n",
    "\n",
    " - **Easy to learn:** Python has a simple syntax that makes it easy to learn, even for beginners.\n",
    " - **Versatile:** Python can be used for a variety of tasks, making it a valuable tool for any programmer.\n",
    " - **Free and Open Source:** Python is a free and open-source language, which means it is available to anyone. You can also contribute new things in this Programming language.\n",
    " - **Large community:** Python has a large and active community of users and developers, providing support and resources for learning and using the language.\n",
    "\n",
    "If you are looking for a programming language that is easy to learn, versatile, and free, then Python is a good choice."
   ]
  },
  {
   "cell_type": "markdown",
   "id": "bf18fc6a",
   "metadata": {},
   "source": [
    "## Mode of Translation:\n",
    "Computer did not understand and perform operation in programming languages. we need to translate it into the machine language which is in form of *010110*. The mode of translation is used to check and translate programming languages into the Machine Language.\n",
    "\n",
    "There are two mode of translation we use to translate our program.\n",
    " 1. Compiler\n",
    " 2. Interpretor"
   ]
  },
  {
   "cell_type": "markdown",
   "id": "be12dd8a",
   "metadata": {},
   "source": [
    "### What is Compiler?\n",
    "A compiler is a computer program that translates source code written in a high-level programming language into machine code, which can then be executed by a computer's central processing unit (CPU).\n",
    "\n",
    "In compilation, the compiler reads the entire source code file at once and provide all the errors in the current program. For Example:\n",
    "this is our general Program --><br>\n",
    "`My nama is Muhammad Huzaifa.\n",
    "I is Laerning Python.`\n",
    "\n",
    "when we compile this code it will gives me all errors information:\n",
    "- spelling mistake line1\n",
    "- spelling mistake line2\n",
    "- grammatical mistake line2<br>\n",
    "it means it read complete source code provide me errors information about the code. "
   ]
  },
  {
   "cell_type": "markdown",
   "id": "c100eded",
   "metadata": {},
   "source": [
    "### What is Interpretor?\n",
    "In interpretation, the program is read and executed line by line. it means the interpreter reads the source code and executes each line of code one at a time.\n",
    "\n",
    "For Example:\n",
    "this is our general Program --><br>\n",
    "`My nama is Muhammad Huzaifa.\n",
    "I is Laerning Python.`\n",
    "\n",
    "when we interperate this code it will give me error information lin by line:\n",
    "- spelling mistake line1<br>\n",
    " "
   ]
  }
 ],
 "metadata": {
  "kernelspec": {
   "display_name": "Python 3 (ipykernel)",
   "language": "python",
   "name": "python3"
  },
  "language_info": {
   "codemirror_mode": {
    "name": "ipython",
    "version": 3
   },
   "file_extension": ".py",
   "mimetype": "text/x-python",
   "name": "python",
   "nbconvert_exporter": "python",
   "pygments_lexer": "ipython3",
   "version": "3.9.12"
  }
 },
 "nbformat": 4,
 "nbformat_minor": 5
}
