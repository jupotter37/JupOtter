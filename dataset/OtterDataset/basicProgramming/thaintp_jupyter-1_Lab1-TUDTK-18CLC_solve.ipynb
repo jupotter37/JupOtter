{
 "cells": [
  {
   "cell_type": "markdown",
   "metadata": {},
   "source": [
    "<h1>LAB 1 - TOÁN ỨNG DỤNG VÀ THỐNG KÊ - 18CLC<h1/>"
   ]
  },
  {
   "cell_type": "markdown",
   "metadata": {},
   "source": [
    "# Nội dung"
   ]
  },
  {
   "cell_type": "markdown",
   "metadata": {},
   "source": [
    "* Cách đánh giá điểm thực hành\n",
    "* Cài đặt và dùng JupyterLab\n",
    "* Python và các thư viện tính toán khoa học\n",
    "* Vector và các phép toán trên vector\n",
    "* Giới thiệu ma trận\n",
    "* Hệ PTTT và phép khử Gauss\n",
    "* Không gian con, cơ sở và số chiều\n",
    "* Trực giao hóa với thuật giải Gram-Schmidt\n",
    "* Bài tập"
   ]
  },
  {
   "cell_type": "markdown",
   "metadata": {},
   "source": [
    "# Cách đánh giá điểm thực hành"
   ]
  },
  {
   "cell_type": "markdown",
   "metadata": {},
   "source": [
    "* Điểm thực hành chiếm 40% điểm tổng kết môn học\n",
    "* Gồm 4 đồ án cá nhân, mỗi đồ án 10% điểm tổng kết\n",
    "* Nội dung và yêu cầu của từng đồ án được các GVHDTH thông báo và hướng dẫn chi tiết trong các buổi Lab"
   ]
  },
  {
   "cell_type": "markdown",
   "metadata": {},
   "source": [
    "# Cài đặt và dùng JupyterLab"
   ]
  },
  {
   "cell_type": "markdown",
   "metadata": {},
   "source": [
    "[Anaconda](https://www.anaconda.com/) là môi trường quản lý các công cụ, thư viện, package, module Python/R cho **tính toán khoa học** (scientific computing) và **khoa học dữ liệu** (data science). Anaconda hỗ trợ hầu hết các nền tảng (Windows, macOS, Linux). Tải và cài đặt phiên bản cá nhân ([Individual Edition](https://www.anaconda.com/products/individual)) miễn phí. Lưu ý, nên dùng bản hỗ trợ Python mới nhất (Python 3.7)."
   ]
  },
  {
   "cell_type": "markdown",
   "metadata": {},
   "source": [
    "[Jupyter](https://jupyter.org/) là nền tảng, dịch vụ **tính toán tương tác** (interactive computing) hỗ trợ rất nhiều ngôn ngữ (Julia, Python, R, ...). [Jupyter Notebook](https://jupyter-notebook.readthedocs.io/en/stable/), hay mới hơn là [JupyterLab](https://jupyterlab.readthedocs.io/en/latest/), là các ứng dụng Web giúp làm việc với các file notebook. Anaconda tự động cài Jupyter Notebook và JupyterLab. "
   ]
  },
  {
   "cell_type": "markdown",
   "metadata": {},
   "source": [
    "[Jupyter notebook](https://jupyterlab.readthedocs.io/en/latest/user/notebook.html) (file `.ipynb`) là tài liệu kết hợp nhiều định dạng: văn bản thô, văn bản có định dạng, biểu đồ, công thức, ... và đặc biệt là **mã thực thi** (code) có thể được viết bằng nhiều ngôn ngữ khác nhau. Jupyter notebook là tài liệu động và có tính tương tác nên rất phù hợp với các văn bản, trình bày tính toán khoa học. Jupyter notebook cũng có thể được kết xuất ra nhiều định dạng phổ biến khác nhau (PDF, HTML, LaTex, ...)."
   ]
  },
  {
   "cell_type": "markdown",
   "metadata": {},
   "source": [
    "Jupyter notebook hỗ trợ định dạng văn bản [Markdown](https://www.markdownguide.org/basic-syntax/) và [HTML](https://www.w3schools.com/html/); hỗ trợ định dạng công thức Toán [LaTeX](https://en.wikibooks.org/wiki/LaTeX/Mathematics). Tham khảo nhanh tại [Learn How to Write Markdown & LaTeX in The Jupyter Notebook](https://towardsdatascience.com/write-markdown-latex-in-the-jupyter-notebook-10985edb91fd)."
   ]
  },
  {
   "cell_type": "markdown",
   "metadata": {},
   "source": [
    "# Python và các thư viện tính toán khoa học"
   ]
  },
  {
   "cell_type": "markdown",
   "metadata": {},
   "source": [
    "[Python](https://www.python.org/) là ngôn ngữ lập trình được dùng phổ biến cho tính toán khoa học (và nhiều mục đích khác). Tài liệu tra cứu chính thống của Python được để ở [Python documentation](https://docs.python.org/3/index.html). Có thể dùng hướng dẫn [The Python Tutorial](https://docs.python.org/3/tutorial/) để học nhanh Python. Có thể dùng sách [Bí kíp luyện Lập trình nhập môn với Python (hBook)](https://github.com/vqhBook/python) để học kĩ Python căn bản. Ngoài ra, có thể dùng một số nguồn tham khảo khác như [Python3 Tutorial](https://www.python-course.eu/python3_course.php), [Numerical Programming with Python](https://www.python-course.eu/numerical_programming_with_python.php), [GeeksforGeeks](https://www.geeksforgeeks.org/python-programming-language/), ..."
   ]
  },
  {
   "cell_type": "markdown",
   "metadata": {},
   "source": [
    "Các thư viện Python phổ biến dùng trong tính toán khoa học là: [NumPy](https://numpy.org/), [SciPy](https://www.scipy.org/), [SymPy](https://www.sympy.org/en/index.html), [pandas](https://pandas.pydata.org/), [scikit-learn](https://scikit-learn.org/stable/), [Matplotlib](https://matplotlib.org/), ... Các thư viện này sẽ được giới thiệu, hướng dẫn và dùng trong các buổi Lab, đồ án."
   ]
  },
  {
   "cell_type": "markdown",
   "metadata": {},
   "source": [
    "NumPy và SciPy là các thư viện **tính toán số** (numeric computation) giúp tính xấp xỉ nhưng hiệu quả với khối lượng tính toán lớn. Có thể học nhanh NumPy tại [NumPy - the absolute basics for beginners](https://numpy.org/doc/stable/user/absolute_beginners.html)."
   ]
  },
  {
   "cell_type": "markdown",
   "metadata": {},
   "source": [
    "SymPy là thư viện **tính toán ký hiệu** (symbolic computation) giúp tính chính xác và hình thức với khối lượng tính toán nhỏ. Có thể học nhanh SymPy tại [SymPy Introduction](https://docs.sympy.org/latest/tutorial/intro.html) và [SymPy Matrices](https://docs.sympy.org/latest/tutorial/matrices.html)."
   ]
  },
  {
   "cell_type": "markdown",
   "metadata": {},
   "source": [
    "Tra cứu các hỗ trợ cho **đại số tuyến tính** (linear algebra) tại:\n",
    "\n",
    "* [Linear algebra (numpy.linalg)](https://numpy.org/doc/stable/reference/routines.linalg.html#)\n",
    "\n",
    "* [Linear algebra (scipy.linalg)](https://docs.scipy.org/doc/scipy/reference/linalg.html#module-scipy.linalg)\n",
    "\n",
    "* [SymPy Matrices (linear algebra)](https://docs.sympy.org/latest/modules/matrices/matrices.html)"
   ]
  },
  {
   "cell_type": "markdown",
   "metadata": {},
   "source": [
    "Sau đây nạp các thư viện có dùng trong Lab này:\n",
    "\n",
    "* Module [`math`](https://docs.python.org/3/library/math.html) trong thư viện chuẩn Python hỗ trợ các hàm Toán thông dụng.\n",
    "\n",
    "* Lớp [`fractions.Fraction`](https://docs.python.org/3/library/fractions.html) trong thư viện chuẩn Python hỗ trợ kiểu phân số dùng để tính toán chính xác.\n",
    "\n",
    "* Các thư viện `numpy`, `scipy`, `sympy`.\n",
    "\n",
    "* Ngoài ra, hàm `to_fraction` giúp tạo phân số (từ chuỗi, số nguyên, danh sách các số, ...) khi muốn tính toán chính xác và hàm `myprint` giúp \"xuất đẹp\" các danh sách (vector, tập vector, ma trận)."
   ]
  },
  {
   "cell_type": "code",
   "execution_count": 2,
   "metadata": {},
   "outputs": [],
   "source": [
    "import math\n",
    "from fractions import Fraction\n",
    "import numpy as np\n",
    "import scipy.linalg\n",
    "import sympy\n",
    "from sympy import Matrix\n",
    "\n",
    "sympy.init_printing()\n",
    "\n",
    "def to_fraction(x):\n",
    "    if isinstance(x, list):\n",
    "        return [to_fraction(e) for e in x]\n",
    "    else:\n",
    "        return Fraction(x)\n",
    "\n",
    "def myprint(x, sep=\" \"):\n",
    "    if isinstance(x, list) and x:\n",
    "        if isinstance(x[0], list): # list of list\n",
    "            m, n = len(x), len(x[0])\n",
    "            widths = [max(len(str(ai[j])) for ai in x) for j in range(n)]\n",
    "            rows = [sep.join(format(str(ai[j]), f\">{widths[j]}\") for j in range(n)) for ai in x]\n",
    "            print(\"[\" + \"\\n\".join((\" [\" if i > 0 else \"[\") + rows[i] + \"]\" for i in range(m)) + \"]\")\n",
    "        else: # list\n",
    "            print(\"[\" + sep.join(str(e) for e in x) + \"]\")\n",
    "    else:\n",
    "        print(x)"
   ]
  },
  {
   "cell_type": "markdown",
   "metadata": {},
   "source": [
    "# Vector và các phép toán trên vector"
   ]
  },
  {
   "cell_type": "markdown",
   "metadata": {},
   "source": [
    "Một bộ gồm $n$ số thực (n-tuple) $\\boldsymbol{v} = (v_1, v_2, ..., v_n) \\in \\mathbb{R}^n$ được gọi là một **vector** kích thước $n$. Các số $v_1, v_2, ..., v_n \\in \\mathbb{R}$ được gọi là các **phần tử** (element, entry) của vector. Để phân biệt với vector, các số thực còn được gọi là **vô hướng** (scalar)."
   ]
  },
  {
   "cell_type": "markdown",
   "metadata": {},
   "source": [
    "Cách đơn giản nhất để biểu diễn vector là dùng **danh sách** (list) các số. Cách hiệu quả và tiện lợi hơn là dùng **NumPy 1D array**."
   ]
  },
  {
   "cell_type": "code",
   "execution_count": 3,
   "metadata": {
    "tags": []
   },
   "outputs": [
    {
     "output_type": "stream",
     "name": "stdout",
     "text": "[1, 2, 3, 4, 5] [1 2 3 4 5]\n1 5 [1, 2] [4 5] [2, 3, 4]\n"
    }
   ],
   "source": [
    "v = [1, 2, 3, 4, 5]; w = np.array([1, 2, 3, 4, 5])\n",
    "print(v, w)\n",
    "print(v[0], w[-1], v[:2], w[-2:], v[1:4]) # truy cập entry, subvector"
   ]
  },
  {
   "cell_type": "markdown",
   "metadata": {},
   "source": [
    "Tùy trường hợp, vector $\\boldsymbol{v} = (v_1, v_2, ..., v_n) \\in \\mathbb{R}^n$ có thể được biểu diễn như là **vector dòng** (row vector) hay **vector cột** (column vector)\n",
    "$$\n",
    "\\boldsymbol{v} = \n",
    "\\begin{bmatrix}\n",
    "v_1 & v_2 & \\cdots & v_n\n",
    "\\end{bmatrix} \\in \\mathbb{R}^{1 \\times n},\n",
    "$$\n",
    "$$\n",
    "\\boldsymbol{v} = \n",
    "\\begin{bmatrix}\n",
    "v_1 \\\\ v_2 \\\\ \\vdots \\\\ v_n\n",
    "\\end{bmatrix} \\in \\mathbb{R}^{n \\times 1}.\n",
    "$$"
   ]
  },
  {
   "cell_type": "code",
   "execution_count": 4,
   "metadata": {
    "tags": []
   },
   "outputs": [
    {
     "output_type": "stream",
     "name": "stdout",
     "text": "[1 2 3] (3,)\n[[1 2 3]] (1, 3)\n[[1]\n [2]\n [3]] (3, 1)\n"
    }
   ],
   "source": [
    "v = np.array([1, 2, 3])\n",
    "v_row = v.reshape(1, len(v))\n",
    "v_col = v.reshape(len(v), 1)\n",
    "print(v, v.shape)\n",
    "print(v_row, v_row.shape)\n",
    "print(v_col, v_col.shape)"
   ]
  },
  {
   "cell_type": "code",
   "execution_count": 5,
   "metadata": {},
   "outputs": [
    {
     "output_type": "execute_result",
     "data": {
      "text/plain": "⎡1⎤\n⎢ ⎥\n⎢2⎥\n⎢ ⎥\n⎣3⎦",
      "text/latex": "$\\displaystyle \\left[\\begin{matrix}1\\\\2\\\\3\\end{matrix}\\right]$"
     },
     "metadata": {},
     "execution_count": 5
    }
   ],
   "source": [
    "Matrix([1, 2, 3]) # SymPy xem vector là vector cột (ma trận chỉ có 1 cột)"
   ]
  },
  {
   "cell_type": "markdown",
   "metadata": {},
   "source": [
    "Vector $\\boldsymbol{0} = (0, 0, ..., 0) \\in \\mathbb{R}^n$ được gọi là **vector không** (zero vector)."
   ]
  },
  {
   "cell_type": "markdown",
   "metadata": {},
   "source": [
    "2 vector $\\boldsymbol{v} = (v_1, v_2, ..., v_n), \\boldsymbol{w} = (w_1, w_2, ..., w_n) \\in \\mathbb{R}^n$ được gọi là **bằng nhau** (equal), kí hiệu $\\boldsymbol{v} = \\boldsymbol{w}$ nếu $v_i = w_i, \\forall i$."
   ]
  },
  {
   "cell_type": "code",
   "execution_count": 6,
   "metadata": {},
   "outputs": [],
   "source": [
    "def is_zero(x):\n",
    "    \"kiểm tra số thực x có là số thực 0 (rất gần 0)\"\n",
    "    return math.isclose(x, 0, abs_tol=1e-09)\n",
    "\n",
    "def zero_vector(n):\n",
    "    return [0 for _ in range(n)]\n",
    "\n",
    "def is_zero_vector(v):\n",
    "    return all(is_zero(vi) for vi in v)"
   ]
  },
  {
   "cell_type": "code",
   "execution_count": 7,
   "metadata": {
    "tags": []
   },
   "outputs": [
    {
     "output_type": "stream",
     "name": "stdout",
     "text": "[0, 0, 0] False True True\n[0. 0. 0.] [ True  True  True] [ True  True  True] True\n"
    }
   ],
   "source": [
    "v = zero_vector(3)\n",
    "print(v, v == 0, v == zero_vector(3), is_zero_vector(v))\n",
    "w = np.zeros(3)\n",
    "print(w, w == 0, w == np.zeros(3), is_zero_vector(w))"
   ]
  },
  {
   "cell_type": "markdown",
   "metadata": {},
   "source": [
    "Cho 2 vector $\\boldsymbol{v} = (v_1, v_2, ..., v_n), \\boldsymbol{w} = (w_1, w_2, ..., w_n) \\in \\mathbb{R}^n$ và số thực $\\alpha \\in \\mathbb{R}$, ta định nghĩa các phép toán\n",
    "$$\n",
    "\\boldsymbol{v} + \\boldsymbol{w} = (v_1 + w_1, v_2 + w_2, ..., v_n + w_n),\n",
    "$$\n",
    "$$\n",
    "\\boldsymbol{v} - \\boldsymbol{w} = (v_1 - w_1, v_2 - w_2, ..., v_n - w_n),\n",
    "$$\n",
    "$$\n",
    "\\alpha \\boldsymbol{v} = (\\alpha v_1, \\alpha v_2, ..., \\alpha v_n).\n",
    "$$"
   ]
  },
  {
   "cell_type": "markdown",
   "metadata": {},
   "source": [
    "Cho tập các vector $\\boldsymbol{v}_1, \\boldsymbol{v}_2, ..., \\boldsymbol{v}_k \\in \\mathbb{R}^n$ và các số $\\alpha_1, \\alpha_2, ..., \\alpha_k \\in \\mathbb{R}$, ta nói vector\n",
    "$$\n",
    "\\boldsymbol{w} = \\alpha_1 \\boldsymbol{v}_1 + \\alpha_2 \\boldsymbol{v}_2 + ... + \\alpha_k \\boldsymbol{v}_k\n",
    "$$\n",
    "\n",
    "là một **tổ hợp tuyến tính** (linear combination) của $\\boldsymbol{v}_1, \\boldsymbol{v}_2, ..., \\boldsymbol{v}_k$ với các **hệ số** (coefficient) $\\alpha_1, \\alpha_2, ..., \\alpha_k$."
   ]
  },
  {
   "cell_type": "code",
   "execution_count": 8,
   "metadata": {},
   "outputs": [],
   "source": [
    "def add_vector(v, w):\n",
    "    return [vi + wi for vi, wi in zip(v, w)]\n",
    "\n",
    "def sub_vector(v, w):\n",
    "    return [vi - wi for vi, wi in zip(v, w)]\n",
    "\n",
    "def mul_scalar_vector(alpha, v):\n",
    "    return [alpha*vi for vi in v]\n",
    "\n",
    "def equal_vector(v, w):\n",
    "    return is_zero_vector(sub_vector(v, w))"
   ]
  },
  {
   "cell_type": "code",
   "execution_count": 9,
   "metadata": {
    "tags": []
   },
   "outputs": [
    {
     "output_type": "stream",
     "name": "stdout",
     "text": "[5, -1, 3] [2, -6, 4]\nTrue\n[ 5 -1  3] [ 2 -6  4]\nTrue\n"
    }
   ],
   "source": [
    "v = [1, -3, 2]; w = [4, 2, 1]\n",
    "print(add_vector(v, w), mul_scalar_vector(2, v))\n",
    "print(equal_vector(sub_vector(v, w), add_vector(v, mul_scalar_vector(-1, w))))\n",
    "v = np.array(v); w = np.array(w)\n",
    "print(v + w, 2*v)\n",
    "print(equal_vector(v - w, v + (-1*w)))"
   ]
  },
  {
   "cell_type": "code",
   "execution_count": 10,
   "metadata": {
    "tags": []
   },
   "outputs": [
    {
     "output_type": "stream",
     "name": "stdout",
     "text": "True\n"
    },
    {
     "output_type": "execute_result",
     "data": {
      "text/plain": "⎡ α + 4⋅β  ⎤\n⎢          ⎥\n⎢-3⋅α + 2⋅β⎥\n⎢          ⎥\n⎣ 2⋅α + β  ⎦",
      "text/latex": "$\\displaystyle \\left[\\begin{matrix}\\alpha + 4 \\beta\\\\- 3 \\alpha + 2 \\beta\\\\2 \\alpha + \\beta\\end{matrix}\\right]$"
     },
     "metadata": {},
     "execution_count": 10
    }
   ],
   "source": [
    "v = Matrix(v); w = Matrix(w)\n",
    "print(v - w == v + (-1*w)) # SymPy dùng == để so sánh bằng vector (ma trận)\n",
    "sympy.symbols(\"alpha\")*v + sympy.symbols(\"beta\")*w"
   ]
  },
  {
   "cell_type": "markdown",
   "metadata": {},
   "source": [
    "Lưu ý, các phép toán trên NumPy array được thực hiện **theo từng phần tử** (elementwise) và số được tự động mở rộng thành vector với chiều dài phù hợp."
   ]
  },
  {
   "cell_type": "code",
   "execution_count": 11,
   "metadata": {
    "tags": []
   },
   "outputs": [
    {
     "output_type": "stream",
     "name": "stdout",
     "text": "[ 4 10 18] [0.25 0.4  0.5 ] [  1  32 729]\n[4 5 6] [12 15 18] [-1 -2 -3]\n[ True  True False] [ True  True  True] True\n"
    }
   ],
   "source": [
    "v = np.array([1, 2, 3]); w = np.array([4, 5, 6])\n",
    "print(v * w, v / w, v ** w)\n",
    "print(v + 3, w * 3, -v)\n",
    "print(2*v < w, v + 3 == w, all(v + 3 == w))"
   ]
  },
  {
   "cell_type": "markdown",
   "metadata": {},
   "source": [
    "Cho 2 vector $\\boldsymbol{v} = (v_1, v_2, ..., v_n), \\boldsymbol{w} = (w_1, w_2, ..., w_n) \\in \\mathbb{R}^n$:"
   ]
  },
  {
   "cell_type": "markdown",
   "metadata": {},
   "source": [
    "Ta định nghĩa **tích vô hướng** (inner product, dot product) của $\\boldsymbol{v}, \\boldsymbol{w}$ là\n",
    "$$\n",
    "\\langle \\boldsymbol{v}, \\boldsymbol{w} \\rangle = v_1w_1 + v_2w_2 + ... + v_n w_n = \\sum_{i=1}^n v_i w_i,\n",
    "$$"
   ]
  },
  {
   "cell_type": "code",
   "execution_count": 12,
   "metadata": {},
   "outputs": [],
   "source": [
    "def inner_product(v, w):\n",
    "    return sum(vi*wi for vi, wi in zip(v, w))"
   ]
  },
  {
   "cell_type": "markdown",
   "metadata": {},
   "source": [
    "Ta nói $\\boldsymbol{v}, \\boldsymbol{w}$ **trực giao** (orthogonal, perpendicular), kí hiệu $\\boldsymbol{v} \\bot \\boldsymbol{w}$, nếu $\\langle \\boldsymbol{v}, \\boldsymbol{w} \\rangle = 0$,"
   ]
  },
  {
   "cell_type": "code",
   "execution_count": 13,
   "metadata": {},
   "outputs": [],
   "source": [
    "def orthogonal(v, w):\n",
    "    return is_zero(inner_product(v, w))"
   ]
  },
  {
   "cell_type": "markdown",
   "metadata": {},
   "source": [
    "Ta định nghĩa **chuẩn** (norm, length, magnitude) của $\\boldsymbol{v}$ là\n",
    "$$\n",
    "\\| \\boldsymbol{v} \\| = \\sqrt{\\langle \\boldsymbol{v}, \\boldsymbol{v} \\rangle} = \\sqrt{v_1^2 + v_2^2 + ... + v_n^2} = \\sqrt{\\sum_{i=1}^n v_i^2},\n",
    "$$"
   ]
  },
  {
   "cell_type": "code",
   "execution_count": 14,
   "metadata": {},
   "outputs": [],
   "source": [
    "def norm_square(v):\n",
    "    return inner_product(v, v)\n",
    "\n",
    "def norm(v):\n",
    "    return sympy.sqrt(norm_square(v))"
   ]
  },
  {
   "cell_type": "markdown",
   "metadata": {},
   "source": [
    "Ta nói $\\boldsymbol{v}$ là **vector đơn vị** (unit vector) nếu $\\| \\boldsymbol{v} \\| = 1$,"
   ]
  },
  {
   "cell_type": "code",
   "execution_count": 15,
   "metadata": {},
   "outputs": [],
   "source": [
    "def is_one(v):\n",
    "    return math.isclose(v, 1)\n",
    "\n",
    "def unit_vector(v):\n",
    "    return is_one(norm(v))"
   ]
  },
  {
   "cell_type": "markdown",
   "metadata": {},
   "source": [
    "Ta định nghĩa **khoảng cách** (distance) giữa $\\boldsymbol{v}$ và $\\boldsymbol{w}$ là $\\| \\boldsymbol{v} - \\boldsymbol{w} \\|$."
   ]
  },
  {
   "cell_type": "code",
   "execution_count": 16,
   "metadata": {},
   "outputs": [],
   "source": [
    "def distance(v, w):\n",
    "    return norm(sub_vector(v, w))"
   ]
  },
  {
   "cell_type": "markdown",
   "metadata": {},
   "source": [
    "Trong Numpy ta dùng các hàm `inner`, `norm` và toán tử `@`"
   ]
  },
  {
   "cell_type": "code",
   "execution_count": 17,
   "metadata": {
    "tags": []
   },
   "outputs": [
    {
     "output_type": "stream",
     "name": "stdout",
     "text": "3*sqrt(7) 7.937253933193772\n[sqrt(7)/21, sqrt(7)/7, -2*sqrt(7)/21, sqrt(7)/3] True\n31 sqrt(58) 7.615773105863909\n31 31\n7.937253933193772 7.937253933193772 7.937253933193772\n7.615773105863909 7.615773105863909\n"
    }
   ],
   "source": [
    "v = [1, 3, -2, 7]; w = [0, 7, 2, 2]\n",
    "print(norm(v), float(norm(v)))\n",
    "v_n = mul_scalar_vector(1/norm(v), v)\n",
    "print(v_n, unit_vector(v_n))\n",
    "print(inner_product(v, w), distance(v, w), float(distance(v, w)))\n",
    "\n",
    "v = np.array(v); w = np.array(w)\n",
    "print(np.inner(v, w), v @ w)\n",
    "print(np.sqrt(np.inner(v, v)), np.linalg.norm(v), sum(v**2)**0.5)\n",
    "print(np.linalg.norm(v - w), np.linalg.norm(w - v))"
   ]
  },
  {
   "cell_type": "code",
   "execution_count": 18,
   "metadata": {},
   "outputs": [
    {
     "output_type": "execute_result",
     "data": {
      "text/plain": "⎡√7  √7  -2⋅√7   √7⎤\n⎢──  ──  ──────  ──⎥\n⎣21  7     21    3 ⎦",
      "text/latex": "$\\displaystyle \\left[\\begin{matrix}\\frac{\\sqrt{7}}{21} & \\frac{\\sqrt{7}}{7} & - \\frac{2 \\sqrt{7}}{21} & \\frac{\\sqrt{7}}{3}\\end{matrix}\\right]$"
     },
     "metadata": {},
     "execution_count": 18
    }
   ],
   "source": [
    "v = Matrix(v)\n",
    "(v/v.norm()).T # chuyển vector cột thành vector dòng trong SymPy (xem phần dưới)"
   ]
  },
  {
   "cell_type": "markdown",
   "metadata": {},
   "source": [
    "# Giới thiệu ma trận"
   ]
  },
  {
   "cell_type": "markdown",
   "metadata": {},
   "source": [
    "*(Ma trận sẽ được học kĩ trong Lab 2.)*"
   ]
  },
  {
   "cell_type": "markdown",
   "metadata": {},
   "source": [
    "Một bảng chữ nhật gồm $m$ dòng, $n$ cột các số thực \n",
    "$$\n",
    "A =\n",
    "\\begin{bmatrix}\n",
    "  a_{11} & a_{12} & \\cdots & a_{1n} \\\\\n",
    "  a_{21} & a_{22} & \\cdots & a_{2n} \\\\\n",
    "  \\vdots  & \\vdots  & \\ddots & \\vdots  \\\\\n",
    "  a_{m1} & a_{m2} & \\cdots & a_{mn} \n",
    "\\end{bmatrix} \\in \\mathbb{R}^{m \\times n}\n",
    "$$\n",
    "được gọi là **ma trận** (matrix) có kích thước (hay có dạng) $m \\times n$. Số $a_{ij}$ được gọi là **phần tử** (element, entry) ở dòng $i$, cột $j$ của ma trận $A$."
   ]
  },
  {
   "cell_type": "markdown",
   "metadata": {},
   "source": [
    "Ma trận $A \\in \\mathbb{R}^{m \\times n}$ có thể xem như gồm $m$ vector dòng $\\mathbb{R}^{1 \\times n}$ với dòng $i$ là\n",
    "$$\n",
    "\\boldsymbol{a}_{i,} = \n",
    "\\begin{bmatrix}\n",
    "  a_{i1} & a_{i2} & \\cdots & a_{in} \\\\\n",
    "\\end{bmatrix},\n",
    "$$\n",
    "hay gồm $n$ vector cột $\\mathbb{R}^{m \\times 1}$ với cột $j$ là\n",
    "$$\n",
    "\\boldsymbol{a}_{,j} = \n",
    "\\begin{bmatrix}\n",
    "  a_{1j} \\\\ a_{2j} \\\\ \\vdots \\\\ a_{mj} \n",
    "\\end{bmatrix}.\n",
    "$$"
   ]
  },
  {
   "cell_type": "markdown",
   "metadata": {},
   "source": [
    "Ta nói ma trận có được từ $A$ bằng cách xếp các dòng thành các cột là ma trận **chuyển vị** (transpose) của $A$, kí hiệu $A^T$, tức là\n",
    "$$\n",
    "A^T = \n",
    "\\begin{bmatrix}\n",
    "  a_{11} & a_{21} & \\cdots & a_{m1} \\\\\n",
    "  a_{12} & a_{22} & \\cdots & a_{m2} \\\\\n",
    "  \\vdots  & \\vdots  & \\ddots & \\vdots  \\\\\n",
    "  a_{1n} & a_{2n} & \\cdots & a_{mn} \n",
    "\\end{bmatrix} \\in \\mathbb{R}^{n \\times m}.\n",
    "$$"
   ]
  },
  {
   "cell_type": "markdown",
   "metadata": {},
   "source": [
    "Cách đơn giản nhất để biểu diễn ma trận là dùng **danh sách lồng** (nested list) các số. Cách hiệu quả và tiện lợi hơn là dùng **NumPy 2D array**."
   ]
  },
  {
   "cell_type": "code",
   "execution_count": 19,
   "metadata": {
    "tags": []
   },
   "outputs": [
    {
     "output_type": "stream",
     "name": "stdout",
     "text": "[[1 2 3]\n [4 5 6]]\n[[1 4]\n [2 5]\n [3 6]]\n"
    }
   ],
   "source": [
    "def transpose(A):\n",
    "    m, n = len(A), len(A[0]) # kích thước ma trận\n",
    "    return [[A[i][j] for i in range(m)] for j in range(n)]\n",
    "\n",
    "A = [[1, 2, 3], \n",
    "     [4, 5, 6]]\n",
    "myprint(A)\n",
    "myprint(transpose(A))"
   ]
  },
  {
   "cell_type": "code",
   "execution_count": 20,
   "metadata": {
    "tags": []
   },
   "outputs": [
    {
     "output_type": "stream",
     "name": "stdout",
     "text": "[[1 2 3]\n [4 5 6]] (2, 3)\n[[1 4]\n [2 5]\n [3 6]] (3, 2)\n"
    }
   ],
   "source": [
    "A = np.array(A)\n",
    "print(A, A.shape)\n",
    "print(A.T, A.T.shape)"
   ]
  },
  {
   "cell_type": "code",
   "execution_count": 21,
   "metadata": {},
   "outputs": [
    {
     "output_type": "execute_result",
     "data": {
      "text/plain": "⎡a₁₁  a₂₁⎤\n⎢        ⎥\n⎢a₁₂  a₂₂⎥\n⎢        ⎥\n⎣a₁₃  a₂₃⎦",
      "text/latex": "$\\displaystyle \\left[\\begin{matrix}a_{11} & a_{21}\\\\a_{12} & a_{22}\\\\a_{13} & a_{23}\\end{matrix}\\right]$"
     },
     "metadata": {},
     "execution_count": 21
    }
   ],
   "source": [
    "A = Matrix([[sympy.symbols(f\"a_{i}{j}\") for j in range(1, 4)] for i in range(1, 3)])\n",
    "A.T"
   ]
  },
  {
   "cell_type": "markdown",
   "metadata": {},
   "source": [
    "Cho ma trận $A \\in \\mathbb{R}^{m \\times n}$ và vector cột $\\boldsymbol{v} \\in \\mathbb{R}^{n \\times 1}$, phép nhân\n",
    "$$\n",
    "A\\boldsymbol{v} = \n",
    "\\begin{bmatrix}\n",
    "  a_{11} & a_{12} & \\cdots & a_{1n} \\\\\n",
    "  a_{21} & a_{22} & \\cdots & a_{2n} \\\\\n",
    "  \\vdots  & \\vdots  & \\ddots & \\vdots  \\\\\n",
    "  a_{m1} & a_{m2} & \\cdots & a_{mn} \n",
    "\\end{bmatrix}\n",
    "\\begin{bmatrix}\n",
    "  v_1 \\\\ v_2 \\\\ \\vdots \\\\ v_n \n",
    "\\end{bmatrix} =\n",
    "\\begin{bmatrix}\n",
    "  a_{11}v_1 + a_{12}v_2 + ... + a_{1n}v_n \\\\ \n",
    "  a_{21}v_1 + a_{22}v_2 + ... + a_{2n}v_n \\\\ \\vdots \\\\ \n",
    "  a_{m1}v_1 + a_{m2}v_2 + ... + a_{mn}v_n \\\\ \n",
    "\\end{bmatrix}\n",
    "$$\n",
    "có thể được định nghĩa như là tích vô hướng các vector dòng của $A$ với $\\boldsymbol{v}$\n",
    "$$\n",
    "A\\boldsymbol{v} = \n",
    "\\begin{bmatrix}\n",
    "  \\langle \\boldsymbol{a}_{1,}, \\boldsymbol{v} \\rangle \\\\ \n",
    "  \\langle \\boldsymbol{a}_{2,}, \\boldsymbol{v} \\rangle \\\\ \\vdots \\\\ \n",
    "  \\langle \\boldsymbol{a}_{m,}, \\boldsymbol{v} \\rangle \n",
    "\\end{bmatrix},\n",
    "$$\n",
    "hay có thể được định nghĩa như là tổ hợp tuyến tính các vector cột của $A$ với các hệ số trong $\\boldsymbol{v}$\n",
    "$$\n",
    "A\\boldsymbol{v} =\n",
    "v_1\\begin{bmatrix}\n",
    "  a_{11} \\\\ a_{21} \\\\ \\vdots \\\\ a_{m1} \n",
    "\\end{bmatrix} + \n",
    "v_2\\begin{bmatrix}\n",
    "  a_{12} \\\\ a_{22} \\\\ \\vdots \\\\ a_{m2} \n",
    "\\end{bmatrix} + ... +\n",
    "v_n\\begin{bmatrix}\n",
    "  a_{1n} \\\\ a_{2n} \\\\ \\vdots \\\\ a_{mn} \n",
    "\\end{bmatrix} =\n",
    "v_1\\boldsymbol{a}_{,1} + v_2\\boldsymbol{a}_{,2} + ... + v_n\\boldsymbol{a}_{,n}.\n",
    "$$"
   ]
  },
  {
   "cell_type": "code",
   "execution_count": 22,
   "metadata": {},
   "outputs": [],
   "source": [
    "def mul_matrix_vector(A, v):\n",
    "    return [inner_product(ai, v) for ai in A]\n",
    "\n",
    "def mul_matrix_vector2(A, v):\n",
    "    w = [0 for _ in range(len(v))]\n",
    "    for j in range(len(v)):\n",
    "        w = add_vector(w, mul_scalar_vector(v[j], [ai[j] for ai in A]))\n",
    "    return w"
   ]
  },
  {
   "cell_type": "code",
   "execution_count": 23,
   "metadata": {
    "tags": []
   },
   "outputs": [
    {
     "output_type": "stream",
     "name": "stdout",
     "text": "[6, 15] [6, 15]\n[ 6 15] [ 6 15]\n"
    }
   ],
   "source": [
    "A = [[1, 2, 3], [4, 5, 6]]; v = [1, 1, 1]\n",
    "print(mul_matrix_vector(A, v), mul_matrix_vector2(A, v))\n",
    "\n",
    "A = np.array(A); v = np.array(v)\n",
    "print(np.matmul(A, v), A @ v)"
   ]
  },
  {
   "cell_type": "code",
   "execution_count": 24,
   "metadata": {},
   "outputs": [
    {
     "output_type": "execute_result",
     "data": {
      "text/plain": "⎡ α₁ + 2⋅α₂ + 3⋅α₃ ⎤\n⎢                  ⎥\n⎣4⋅α₁ + 5⋅α₂ + 6⋅α₃⎦",
      "text/latex": "$\\displaystyle \\left[\\begin{matrix}\\alpha_{1} + 2 \\alpha_{2} + 3 \\alpha_{3}\\\\4 \\alpha_{1} + 5 \\alpha_{2} + 6 \\alpha_{3}\\end{matrix}\\right]$"
     },
     "metadata": {},
     "execution_count": 24
    }
   ],
   "source": [
    "A = Matrix(A)\n",
    "v = Matrix(sympy.symbols(\"alpha_1 alpha_2 alpha_3\"))\n",
    "A * v"
   ]
  },
  {
   "cell_type": "markdown",
   "metadata": {},
   "source": [
    "3 loại biến đổi sau trên một ma trận được gọi là **phép biến đổi sơ cấp trên dòng** (elementary row operation):\n",
    "\n",
    "> **Loại 1.** (Row switching) Đổi hai dòng cho nhau,\n",
    "\n",
    "> **Loại 2.** (Row multiplication) Nhân một dòng với một số khác 0,\n",
    "\n",
    "> **Loại 3.** (Row addition) Cộng vào một dòng một bội số của dòng khác."
   ]
  },
  {
   "cell_type": "markdown",
   "metadata": {},
   "source": [
    "Cho $A, B \\in \\mathbb{R}^{m \\times n}$, ta nói $A, B$ **tương đương dòng** (row equivalent) với nhau nếu $B$ có được từ $A$ (hay ngược lại, $A$ có được từ $B$) qua hữu hạn phép biến đổi sơ cấp trên dòng."
   ]
  },
  {
   "cell_type": "markdown",
   "metadata": {},
   "source": [
    "Một ma trận được nói là có **dạng bậc thang theo dòng** (row echelon form) nếu:\n",
    "\n",
    "* Các dòng khác $\\boldsymbol{0}$ luôn nằm trên các dòng $\\boldsymbol{0}$ (nếu có),\n",
    "\n",
    "* Trên 2 dòng khác $\\boldsymbol{0}$, hệ số khác 0 đầu tiên của dòng dưới luôn nằm bên phải cột chứa hệ số khác 0 đầu tiên của dòng trên."
   ]
  },
  {
   "cell_type": "code",
   "execution_count": 25,
   "metadata": {
    "tags": []
   },
   "outputs": [
    {
     "output_type": "stream",
     "name": "stdout",
     "text": "[[4 5 6]\n [0 3 6]]\n"
    }
   ],
   "source": [
    "def row_switch(A, i, k):\n",
    "    \"di <-> dk\"\n",
    "    A[i], A[k] = A[k], A[i]\n",
    "    \n",
    "def row_mul(A, i, alpha):\n",
    "    \"di = anpha*di\"\n",
    "    A[i] = mul_scalar_vector(alpha, A[i])\n",
    "\n",
    "def row_add(A, i, k, alpha):\n",
    "    \"di = di + anpha*dk\"\n",
    "    A[i] = add_vector(A[i], mul_scalar_vector(alpha, A[k]))\n",
    "    \n",
    "def is_echelon(A):\n",
    "    pass # TODO: cộng điểm\n",
    "\n",
    "A = [[1, 2, 3],\n",
    "     [4, 5, 6]]\n",
    "\n",
    "row_mul(A, 0, 4)     # d0 = 4d0\n",
    "row_switch(A, 0, 1)  # d0 <-> d1\n",
    "row_add(A, 1, 0, -1) # d1 = d1 - d0\n",
    "myprint(A)"
   ]
  },
  {
   "cell_type": "code",
   "execution_count": 26,
   "metadata": {
    "tags": []
   },
   "outputs": [
    {
     "output_type": "stream",
     "name": "stdout",
     "text": "True\n"
    }
   ],
   "source": [
    "A = Matrix(A)\n",
    "print(A.is_echelon)"
   ]
  },
  {
   "cell_type": "code",
   "execution_count": 27,
   "metadata": {},
   "outputs": [
    {
     "output_type": "execute_result",
     "data": {
      "text/plain": "⎡1  2  3⎤\n⎢       ⎥\n⎣4  5  6⎦",
      "text/latex": "$\\displaystyle \\left[\\begin{matrix}1 & 2 & 3\\\\4 & 5 & 6\\end{matrix}\\right]$"
     },
     "metadata": {},
     "execution_count": 27
    }
   ],
   "source": [
    "A = A.elementary_row_op(\"n->n+km\", row=1, row2=0, k=1)     # d1 = d1 + d0\n",
    "A = A.elementary_row_op(\"n<->m\", row1=1, row2=0)           # d1 <-> d0\n",
    "A = A.elementary_row_op(\"n->kn\", row=0, k=Fraction(\"1/4\")) # d0 = d0/4\n",
    "A"
   ]
  },
  {
   "cell_type": "markdown",
   "metadata": {},
   "source": [
    "# Hệ PTTT và phép khử Gauss"
   ]
  },
  {
   "cell_type": "markdown",
   "metadata": {},
   "source": [
    "## Các khái niệm cơ bản"
   ]
  },
  {
   "cell_type": "markdown",
   "metadata": {},
   "source": [
    "**Hệ PTTT** (system of linear equations, linear system) gồm $m$ phương trình theo $n$ ẩn số $x_1, x_2, ..., x_n$ là hệ có dạng\n",
    "$$\n",
    "\\begin{matrix}\n",
    "  a_{11}x_1 + a_{12}x_2 + ... + a_{1n}x_n = b_1 \\\\ \n",
    "  a_{21}x_1 + a_{22}x_2 + ... + a_{2n}x_n = b_2 \\\\ \n",
    "  \\vdots \\\\ \n",
    "  a_{m1}x_1 + a_{m2}x_2 + ... + a_{mn}x_n = b_m \\\\ \n",
    "\\end{matrix}.\n",
    "$$"
   ]
  },
  {
   "cell_type": "markdown",
   "metadata": {},
   "source": [
    "Hệ PTTT trên có thể được viết lại dưới dạng ma trận\n",
    "$$ A\\boldsymbol{x} = \\boldsymbol{b} $$\n",
    "với $A \\in \\mathbb{R}^{m \\times n}$ là **ma trận các hệ số** (coefficient matrix)\n",
    "$$\n",
    "A =\n",
    "\\begin{bmatrix}\n",
    "  a_{11} & a_{12} & \\cdots & a_{1n} \\\\\n",
    "  a_{21} & a_{22} & \\cdots & a_{2n} \\\\\n",
    "  \\vdots  & \\vdots  & \\ddots & \\vdots  \\\\\n",
    "  a_{m1} & a_{m2} & \\cdots & a_{mn} \n",
    "\\end{bmatrix},\n",
    "$$\n",
    "$\\boldsymbol{x}$ là vector cột các **ẩn** (unknown) và $\\boldsymbol{b}$ là vector cột các **hệ số vế phải** (right-hand side)\n",
    "$$\n",
    "\\boldsymbol{x} =\n",
    "\\begin{bmatrix}\n",
    "  x_{1} \\\\ x_{2} \\\\ \\vdots \\\\ x_{n} \n",
    "\\end{bmatrix}, \n",
    "\\boldsymbol{b} =\n",
    "\\begin{bmatrix}\n",
    "  b_{1} \\\\ b_{2} \\\\ \\vdots \\\\ b_{n} \n",
    "\\end{bmatrix}.\n",
    "$$"
   ]
  },
  {
   "cell_type": "markdown",
   "metadata": {},
   "source": [
    "Trường hợp $\\boldsymbol{b} = \\boldsymbol{0}$, hệ thường được gọi là hệ **thuần nhất** (homogeneous)."
   ]
  },
  {
   "cell_type": "markdown",
   "metadata": {},
   "source": [
    "Với $A \\in \\mathbb{R}^{m \\times n}, \\boldsymbol{b} \\in \\mathbb{R}^{m \\times 1}$ cho trước, ta nói $\\boldsymbol{s} \\in \\mathbb{R}^{m \\times 1}$ là vector **nghiệm** (solution) của hệ $A\\boldsymbol{x} = \\boldsymbol{b}$ nếu $A\\boldsymbol{s} = \\boldsymbol{b}$."
   ]
  },
  {
   "cell_type": "code",
   "execution_count": 28,
   "metadata": {
    "tags": []
   },
   "outputs": [
    {
     "output_type": "stream",
     "name": "stdout",
     "text": "[1 6]\nTrue\n[-1 5]\nFalse\n"
    }
   ],
   "source": [
    "A = [[1, -1],\n",
    "     [2, 1]]\n",
    "b = [1, 6]\n",
    "x = to_fraction([\"7/3\", \"4/3\"])\n",
    "Ax = mul_matrix_vector(A, x)\n",
    "myprint(Ax)\n",
    "print(equal_vector(Ax, b))\n",
    "y = to_fraction([\"4/3\", \"7/3\"])\n",
    "Ay = mul_matrix_vector(A, y)\n",
    "myprint(Ay)\n",
    "print(equal_vector(Ay, b))"
   ]
  },
  {
   "cell_type": "markdown",
   "metadata": {},
   "source": [
    "Hệ PTTT $A\\boldsymbol{x} = \\boldsymbol{b}$ thường được giải bằng các bước:\n",
    "\n",
    "> **Bước 1.** Lập **ma trận bổ sung** (augmented matrix) bằng cách ghép cột $\\boldsymbol{b}$ sau ma trận $A$: $\\bar{A} = \\left[ A | \\boldsymbol{b} \\right]$.\n",
    "\n",
    "> **Bước 2.** Dùng các phép biến đổi sơ cấp trên dòng để biến đổi $\\bar{A}$ thành ma trận tương đương dòng có dạng bậc thang $R$.\n",
    "\n",
    "> **Bước 3.** Giải $R$ bằng **phép thế ngược** (back-substitution) để có nghiệm."
   ]
  },
  {
   "cell_type": "markdown",
   "metadata": {},
   "source": [
    "***Mệnh đề.*** Nếu $\\bar{A}, \\bar{B}$ tương đương dòng thì các hệ PTTT tương ứng với ma trận bổ sung $\\bar{A}, \\bar{B}$ có cùng tập nghiệm."
   ]
  },
  {
   "cell_type": "code",
   "execution_count": 29,
   "metadata": {
    "tags": []
   },
   "outputs": [
    {
     "output_type": "stream",
     "name": "stdout",
     "text": "[[1 -1 1]\n [2  1 6]]\n"
    }
   ],
   "source": [
    "def augmented_matrix(A, b):\n",
    "    \"Tạo ma trận bổ sung [A|b]\"\n",
    "    return [ai + [bi] for ai, bi in zip(A, b)]\n",
    "\n",
    "A_bar = augmented_matrix(A, b)\n",
    "myprint(A_bar)"
   ]
  },
  {
   "cell_type": "markdown",
   "metadata": {},
   "source": [
    "## Phép khử Gauss"
   ]
  },
  {
   "cell_type": "markdown",
   "metadata": {},
   "source": [
    "**Khử Gauss** (Gaussian elimination) là một cách biến đổi tương đương dòng đưa ma trận về dạng bậc thang. Thuật giải gồm các bước:\n",
    "\n",
    "> **Bước 1.** Xác định cột trái nhất không chứa toàn số 0.\n",
    "\n",
    "> **Bước 2.** Đổi chỗ hai dòng, nếu cần thiết, để đưa số hạng khác 0 nào đó ở dưới về đầu cột nhận được ở Bước 1.   \n",
    "(*Đơn giản nhất, có thể chọn dòng đầu tiên có số hạng khác 0. Phức tạp hơn, chiến lược \"partial pivoting\" chọn dòng có số hạng có trị tuyệt đối lớn nhất.*)\n",
    "\n",
    "> **Bước 3.** Với số hạng đầu cột nhận được từ Bước 2 là $a \\neq 0$, nhân dòng chứa nó với $\\frac{1}{a}$ để có **số dẫn đầu** 1 (leading 1).  \n",
    "(*Bước này tùy chọn*.)\n",
    "\n",
    "> **Bước 4.** Cộng một bội số thích hợp của dòng đầu cho từng dòng dưới để biến các số hạng bên dưới số dẫn đầu thành 0.\n",
    "\n",
    "> **Bước 5.** Che dòng đầu đã làm xong. Lặp lại các bước cho đến khi được ma trận bậc thang."
   ]
  },
  {
   "cell_type": "code",
   "execution_count": 30,
   "metadata": {},
   "outputs": [],
   "source": [
    "def Gauss_elimination(A, leading1=True):\n",
    "    R = A.copy()\n",
    "    m, n = len(R), len(R[0]) # kích thước ma trận\n",
    "    row = col = 0\n",
    "    while row < m:\n",
    "        # Bước 1\n",
    "        while col < n and all(is_zero(R[i][col]) for i in range(row, m)):\n",
    "            col += 1\n",
    "        if col == n: # đã có dạng bậc thang\n",
    "            break\n",
    "        \n",
    "        # Bước 2 (chọn dòng đầu tiên có số hạng khác 0)\n",
    "        pivot_row = row + [not is_zero(R[i][col]) for i in range(row, m)].index(True)\n",
    "        row_switch(R, row, pivot_row)\n",
    "        \n",
    "        # Bước 3\n",
    "        if leading1:\n",
    "            row_mul(R, row, 1/R[row][col])\n",
    "            \n",
    "        # Bước 4\n",
    "        for i in range(row + 1, m):\n",
    "            multiplier = R[i][col]/R[row][col]\n",
    "            row_add(R, i, row, -multiplier)\n",
    "    \n",
    "        # Bước 5\n",
    "        row += 1\n",
    "    return R"
   ]
  },
  {
   "cell_type": "code",
   "execution_count": 31,
   "metadata": {
    "tags": []
   },
   "outputs": [
    {
     "output_type": "stream",
     "name": "stdout",
     "text": "[[1 3 -2  0 2  0 0]\n [2 6 -5 -2 4 -3 0]\n [0 0  5 10 0 15 0]\n [2 6  0  8 4 18 0]]\n[[1 3 -2  0 2  0 0]\n [0 0 -1 -2 0 -3 0]\n [0 0  0  0 0  6 0]\n [0 0  0  0 0  0 0]]\n[[1 3 -2 0 2 0 0]\n [0 0  1 2 0 3 0]\n [0 0  0 0 0 1 0]\n [0 0  0 0 0 0 0]]\n"
    }
   ],
   "source": [
    "A = [[1, 3, -2,  0, 2,  0, 0],\n",
    "     [2, 6, -5, -2, 4, -3, 0],\n",
    "     [0, 0,  5, 10, 0, 15, 0],\n",
    "     [2, 6,  0,  8, 4, 18, 0]]\n",
    "\n",
    "myprint(A)\n",
    "myprint(Gauss_elimination(to_fraction(A), leading1=False))\n",
    "myprint(Gauss_elimination(to_fraction(A)))"
   ]
  },
  {
   "cell_type": "markdown",
   "metadata": {},
   "source": [
    "## Phép thế ngược"
   ]
  },
  {
   "cell_type": "code",
   "execution_count": 32,
   "metadata": {},
   "outputs": [],
   "source": [
    "def back_substitution(R):\n",
    "    \"R là ma trận bậc thang của ma trận bổ sung của hệ phương trình Ax = b\"\n",
    "    m, n = len(R), len(R[0]) # kích thước ma trận R\n",
    "    \n",
    "    # vector nghiệm (danh sách theo thứ tự ẩn)\n",
    "    sol = [None for _ in range(n - 1)]\n",
    "    \n",
    "    # Tìm dòng dưới cùng khác không\n",
    "    row = m - 1\n",
    "    while row >= 0 and all(is_zero(R[row][j]) for j in range(n)):\n",
    "        row -= 1\n",
    "    \n",
    "    if row >= 0 and [not is_zero(R[row][j]) for j in range(n)].index(True) == n - 1:\n",
    "        return None # vô nghiệm\n",
    "    \n",
    "    last_pcol = n - 1\n",
    "    while row >= 0:\n",
    "        pcol = [not is_zero(R[row][j]) for j in range(n)].index(True)\n",
    "        for i in range(pcol, last_pcol): # các ẩn tự do\n",
    "            sol[i] = sympy.symbols(f\"x{i + 1}\")\n",
    "        sol[pcol] = (R[row][n - 1] - sum(R[row][j]*sol[j] for j in range(pcol + 1, n - 1)))/R[row][pcol]\n",
    "        last_pcol = pcol\n",
    "        row -= 1\n",
    "    \n",
    "    # Bổ sung các ẩn tự do từ 0 đến last_pcol - 1\n",
    "    for i in range(0, last_pcol):\n",
    "        sol[i] = sympy.symbols(f\"x{i + 1}\")\n",
    "    return sol"
   ]
  },
  {
   "cell_type": "code",
   "execution_count": 33,
   "metadata": {
    "tags": []
   },
   "outputs": [
    {
     "output_type": "stream",
     "name": "stdout",
     "text": "[-3*x2 - 4*x4 - 2*x5, x2, -2*x4, x4, x5, 0]\n"
    }
   ],
   "source": [
    "myprint(back_substitution(Gauss_elimination(to_fraction(A))), sep=\", \")"
   ]
  },
  {
   "cell_type": "markdown",
   "metadata": {},
   "source": [
    "## Thư viện hỗ trợ"
   ]
  },
  {
   "cell_type": "markdown",
   "metadata": {},
   "source": [
    "* **NumPy**, **SciPy**: các hàm [`numpy.linalg.solve`](https://numpy.org/doc/stable/reference/generated/numpy.linalg.solve.html) và [`scipy.linalg.solve`](https://docs.scipy.org/doc/scipy/reference/generated/scipy.linalg.solve.html) có thể được dùng để giải hệ PTTT trường hợp hệ vuông ($m = n$) và có nghiệm duy nhất."
   ]
  },
  {
   "cell_type": "markdown",
   "metadata": {},
   "source": [
    "* **SymPy**: \n",
    "  - phương thức [`echelon_form`](https://docs.sympy.org/latest/modules/matrices/matrices.html#sympy.matrices.matrices.MatrixReductions.echelon_form) tìm dạng bậc thang.\n",
    "  \n",
    "  - phương thức [`rref`](https://docs.sympy.org/latest/modules/matrices/matrices.html#sympy.matrices.matrices.MatrixReductions.rref) tìm **dạng bậc thang rút gọn** (reduced row-echelon form, Gauss-Jordan elimination).\n",
    "  \n",
    "  - phương thức [`sympy.linsolve`](https://docs.sympy.org/latest/modules/solvers/solveset.html#linsolve) giải hệ PTTT."
   ]
  },
  {
   "cell_type": "markdown",
   "metadata": {},
   "source": [
    "## Ví dụ"
   ]
  },
  {
   "cell_type": "markdown",
   "metadata": {},
   "source": [
    "### Ví dụ 1"
   ]
  },
  {
   "cell_type": "markdown",
   "metadata": {},
   "source": [
    "Giải hệ PTTT\n",
    "$$\n",
    "\\begin{matrix}\n",
    "   x & + &  y & + & 2z & = & 9 \\\\\n",
    "  2x & + & 4y & - & 3z & = & 1 \\\\ \n",
    "  3x & + & 6y & - & 5z & = & 0 \\\\\n",
    "\\end{matrix}.\n",
    "$$"
   ]
  },
  {
   "cell_type": "markdown",
   "metadata": {},
   "source": [
    "Hệ được viết lại dưới dạng phương trình ma trận $A\\boldsymbol{x} = \\boldsymbol{b}$, với\n",
    "$$\n",
    "A =\n",
    "\\begin{bmatrix}\n",
    "1 & 1 &  2 \\\\\n",
    "2 & 4 & -3 \\\\\n",
    "3 & 6 & -5 \\\\ \n",
    "\\end{bmatrix},\n",
    "\\boldsymbol{x} = \n",
    "\\begin{bmatrix} x \\\\ y \\\\ z \\end{bmatrix},\n",
    "\\boldsymbol{b} = \n",
    "\\begin{bmatrix} 9 \\\\ 1 \\\\ 0 \\end{bmatrix}.\n",
    "$$"
   ]
  },
  {
   "cell_type": "markdown",
   "metadata": {},
   "source": [
    "Lập ma trận bổ sung\n",
    "$$\n",
    "\\bar{A} = \\left[ A | \\boldsymbol{b} \\right] = \n",
    "\\begin{bmatrix}\n",
    "1 & 1 &  2 & 9 \\\\\n",
    "2 & 4 & -3 & 1\\\\\n",
    "3 & 6 & -5 & 0\\\\ \n",
    "\\end{bmatrix}.\n",
    "$$"
   ]
  },
  {
   "cell_type": "markdown",
   "metadata": {},
   "source": [
    "Đưa $\\bar{A}$ về dạng bậc thang (với số dẫn đầu 1)"
   ]
  },
  {
   "cell_type": "code",
   "execution_count": 34,
   "metadata": {
    "tags": []
   },
   "outputs": [
    {
     "output_type": "stream",
     "name": "stdout",
     "text": "[[1 1    2     9]\n [0 1 -7/2 -17/2]\n [0 0    1     3]]\n"
    }
   ],
   "source": [
    "A_bar = [[1, 1,  2, 9],\n",
    "         [2, 4, -3, 1],\n",
    "         [3, 6, -5, 0]]\n",
    "\n",
    "R = Gauss_elimination(to_fraction(A_bar))\n",
    "myprint(R)"
   ]
  },
  {
   "cell_type": "markdown",
   "metadata": {},
   "source": [
    "Như vậy, ta có $\\bar{A}$ tương đương dòng với ma trận bậc thang\n",
    "$$\n",
    "R = \n",
    "\\begin{bmatrix}\n",
    "\\boxed{1} & 1 & 2 & 9 \\\\\n",
    "0 & \\boxed{1} & -\\frac{7}{2} & -\\frac{17}{2} \\\\\n",
    "0 & 0 & \\boxed{1} & 3 \\\\ \n",
    "\\end{bmatrix}.\n",
    "$$"
   ]
  },
  {
   "cell_type": "markdown",
   "metadata": {},
   "source": [
    "Ta thấy hệ này có nghiệm duy nhất. Giải từ dưới lên bằng phép thế ngược"
   ]
  },
  {
   "cell_type": "code",
   "execution_count": 35,
   "metadata": {
    "tags": []
   },
   "outputs": [
    {
     "output_type": "stream",
     "name": "stdout",
     "text": "[1, 2, 3]\n"
    }
   ],
   "source": [
    "sol = back_substitution(R)\n",
    "if not sol:\n",
    "    print(\"Hệ vô nghiệm\")\n",
    "else:\n",
    "    myprint(sol, sep=\", \")"
   ]
  },
  {
   "cell_type": "markdown",
   "metadata": {},
   "source": [
    "Như vậy hệ có nghiệm\n",
    "$$\n",
    "\\boldsymbol{x} = \n",
    "\\begin{bmatrix}\n",
    "x \\\\ y \\\\ z \n",
    "\\end{bmatrix} =\n",
    "\\begin{bmatrix}\n",
    "1 \\\\ 2 \\\\ 3 \n",
    "\\end{bmatrix}\n",
    "$$"
   ]
  },
  {
   "cell_type": "code",
   "execution_count": 36,
   "metadata": {
    "tags": []
   },
   "outputs": [
    {
     "output_type": "stream",
     "name": "stdout",
     "text": "[1. 2. 3.]\n"
    }
   ],
   "source": [
    "A_bar = np.array(A_bar)\n",
    "print(np.linalg.solve(A_bar[:, :-1], A_bar[:, -1]))"
   ]
  },
  {
   "cell_type": "markdown",
   "metadata": {},
   "source": [
    "### Ví dụ 2"
   ]
  },
  {
   "cell_type": "markdown",
   "metadata": {},
   "source": [
    "Giải hệ PTTT\n",
    "$$\n",
    "\\begin{matrix}\n",
    "       &   &      &   & -2x_3 &   &      & + &  7x_5 & = & 12 \\\\\n",
    "  2x_1 & + & 4x_2 & - & 10x_3 & + & 6x_4 & + & 12x_5 & = & 28 \\\\ \n",
    "  2x_1 & + & 4x_2 & - &  5x_3 & + & 6x_4 & - &  5x_5 & = & -1 \\\\\n",
    "\\end{matrix}.\n",
    "$$"
   ]
  },
  {
   "cell_type": "markdown",
   "metadata": {},
   "source": [
    "Lập ma trận bổ sung\n",
    "$$\n",
    "\\bar{A} = \\left[ A | \\boldsymbol{b} \\right] = \n",
    "\\begin{bmatrix}\n",
    "0 & 0 &  -2 & 0 &  7 & 12 \\\\\n",
    "2 & 4 & -10 & 6 & 12 & 28 \\\\\n",
    "2 & 4 &  -5 & 6 & -5 &  -1 \\\\ \n",
    "\\end{bmatrix}.\n",
    "$$"
   ]
  },
  {
   "cell_type": "markdown",
   "metadata": {},
   "source": [
    "Đưa $\\bar{A}$ về dạng bậc thang"
   ]
  },
  {
   "cell_type": "code",
   "execution_count": 37,
   "metadata": {
    "tags": []
   },
   "outputs": [
    {
     "output_type": "stream",
     "name": "stdout",
     "text": "[[2 4 -10 6  12 28]\n [0 0  -2 0   7 12]\n [0 0   0 0 1/2  1]]\n[[1 2 -5 3    6 14]\n [0 0  1 0 -7/2 -6]\n [0 0  0 0    1  2]]\n"
    }
   ],
   "source": [
    "A_bar = [[0, 0,  -2, 0,  7, 12],\n",
    "         [2, 4, -10, 6, 12, 28],\n",
    "         [2, 4,  -5, 6, -5, -1]]\n",
    "\n",
    "R = Gauss_elimination(to_fraction(A_bar), leading1=False)\n",
    "myprint(R)\n",
    "myprint(Gauss_elimination(to_fraction(A_bar)))"
   ]
  },
  {
   "cell_type": "code",
   "execution_count": 38,
   "metadata": {},
   "outputs": [
    {
     "output_type": "execute_result",
     "data": {
      "text/plain": "⎡2  4  -10  6  12  28⎤\n⎢                    ⎥\n⎢0  0  -2   0  7   12⎥\n⎢                    ⎥\n⎣0  0   0   0  -2  -4⎦",
      "text/latex": "$\\displaystyle \\left[\\begin{matrix}2 & 4 & -10 & 6 & 12 & 28\\\\0 & 0 & -2 & 0 & 7 & 12\\\\0 & 0 & 0 & 0 & -2 & -4\\end{matrix}\\right]$"
     },
     "metadata": {},
     "execution_count": 38
    }
   ],
   "source": [
    "Matrix(A_bar).echelon_form()"
   ]
  },
  {
   "cell_type": "markdown",
   "metadata": {},
   "source": [
    "Như vậy, ta có $\\bar{A}$ tương đương dòng với ma trận bậc thang\n",
    "$$\n",
    "R = \n",
    "\\begin{bmatrix}\n",
    "\\boxed{1} & 2 & -5 & 3 &  6 & 14 \\\\\n",
    "0 & 0 & \\boxed{1} & 0 & -\\frac{7}{2} & -6 \\\\\n",
    "0 & 0 &  0 & 0 & \\boxed{1} & 2 \\\\ \n",
    "\\end{bmatrix}.\n",
    "$$"
   ]
  },
  {
   "cell_type": "markdown",
   "metadata": {},
   "source": [
    "Ta thấy hệ này có vô số nghiệm. Giải từ dưới lên bằng phép thế ngược cho các ẩn cơ sở $x_1, x_3, x_5$ và các ẩn tự do $x_2, x_4$"
   ]
  },
  {
   "cell_type": "code",
   "execution_count": 39,
   "metadata": {
    "tags": []
   },
   "outputs": [
    {
     "output_type": "stream",
     "name": "stdout",
     "text": "[-2*x2 - 3*x4 + 7, x2, 1, x4, 2]\n"
    }
   ],
   "source": [
    "sol = back_substitution(R)\n",
    "if not sol:\n",
    "    print(\"Hệ vô nghiệm\")\n",
    "else:\n",
    "    myprint(sol, sep=\", \")"
   ]
  },
  {
   "cell_type": "markdown",
   "metadata": {},
   "source": [
    "Như vậy, hệ có nghiệm tổng quát\n",
    "$$\n",
    "\\boldsymbol{x} = \n",
    "\\begin{bmatrix}\n",
    "x_1 \\\\ x_2 \\\\ x_3 \\\\ x_4 \\\\ x_5 \\\\ \n",
    "\\end{bmatrix} = \n",
    "\\begin{bmatrix}\n",
    "7 -2x_2 - 3x_4 \\\\ x_2 \\\\ 1 \\\\ x_4 \\\\ 2 \\\\ \n",
    "\\end{bmatrix} =\n",
    "\\begin{bmatrix}\n",
    "7 \\\\ 0 \\\\ 1 \\\\ 0 \\\\ 2 \\\\ \n",
    "\\end{bmatrix} +\n",
    "x_2 \\begin{bmatrix}\n",
    "-2 \\\\ 1 \\\\ 0 \\\\ 0 \\\\ 0 \\\\ \n",
    "\\end{bmatrix} +\n",
    "x_4 \\begin{bmatrix}\n",
    "-3 \\\\ 0 \\\\ 0 \\\\ 1 \\\\ 0 \\\\ \n",
    "\\end{bmatrix},\n",
    "x_2, x_4 \\in \\mathbb{R}.\n",
    "$$"
   ]
  },
  {
   "cell_type": "code",
   "execution_count": 40,
   "metadata": {},
   "outputs": [
    {
     "output_type": "execute_result",
     "data": {
      "text/plain": "{(-3⋅x₂ - 2⋅x₄ + 7, x₂, 1, x₄, 2)}",
      "image/png": "[encoded data removed]",
      "text/latex": "$\\displaystyle \\left\\{\\left( - 3 x_{2} - 2 x_{4} + 7, \\  x_{2}, \\  1, \\  x_{4}, \\  2\\right)\\right\\}$"
     },
     "metadata": {},
     "execution_count": 40
    }
   ],
   "source": [
    "sympy.linsolve(Matrix(A_bar), [sympy.symbols(f\"x_{i}\") for i in range(1, 6)])"
   ]
  },
  {
   "cell_type": "markdown",
   "metadata": {},
   "source": [
    "# Không gian con, cơ sở và số chiều"
   ]
  },
  {
   "cell_type": "markdown",
   "metadata": {},
   "source": [
    "## Các khái niệm cơ bản"
   ]
  },
  {
   "cell_type": "markdown",
   "metadata": {},
   "source": [
    "Cho $V \\subset \\mathbb{R}^n$, ta nói $V$ là **không gian con** (subspace) của $\\mathbb{R}^n$, kí hiệu $V \\le \\mathbb{R}^n$ nếu:\n",
    "\n",
    "* $\\boldsymbol{0} \\in V$,\n",
    "\n",
    "* Với mọi $\\boldsymbol{v}, \\boldsymbol{w} \\in V$, ta có $\\alpha \\boldsymbol{v} + \\beta \\boldsymbol{w} \\in V, \\forall \\alpha, \\beta \\in \\mathbb{R}$."
   ]
  },
  {
   "cell_type": "markdown",
   "metadata": {},
   "source": [
    "Cho họ các vector $\\boldsymbol{v}_1, \\boldsymbol{v}_2, ..., \\boldsymbol{v}_k \\in \\mathbb{R}^n$, tập tất cả các tổ hợp tuyến tính của $\\boldsymbol{v}_1, \\boldsymbol{v}_2, ..., \\boldsymbol{v}_k$ được kí hiệu là $\\mathrm{Span}\\{\\boldsymbol{v}_1, \\boldsymbol{v}_2, ..., \\boldsymbol{v}_k\\}$, tức là\n",
    "$$\n",
    "\\mathrm{Span}\\{\\boldsymbol{v}_1, \\boldsymbol{v}_2, ..., \\boldsymbol{v}_k\\} = \\{\\alpha_1 \\boldsymbol{v}_1 + \\alpha_2 \\boldsymbol{v}_2 + ... + \\alpha_k \\boldsymbol{v}_k: \\alpha_1, \\alpha_2, ..., \\alpha_k \\in \\mathbb{R}\\} \\subset \\mathbb{R}^n.\n",
    "$$"
   ]
  },
  {
   "cell_type": "markdown",
   "metadata": {},
   "source": [
    "***Mệnh đề.*** $\\mathrm{Span}\\{\\boldsymbol{v}_1, \\boldsymbol{v}_2, ..., \\boldsymbol{v}_k\\} \\le \\mathbb{R}^n$. Ta còn nói $\\mathrm{Span}\\{\\boldsymbol{v}_1, \\boldsymbol{v}_2, ..., \\boldsymbol{v}_k\\}$ là không gian con **sinh bởi** (span) $\\boldsymbol{v}_1, \\boldsymbol{v}_2, ..., \\boldsymbol{v}_k$ và $\\boldsymbol{v}_1, \\boldsymbol{v}_2, ..., \\boldsymbol{v}_k$ là một **tập sinh** (generating set) của $\\mathrm{Span}\\{\\boldsymbol{v}_1, \\boldsymbol{v}_2, ..., \\boldsymbol{v}_k\\}$. "
   ]
  },
  {
   "cell_type": "markdown",
   "metadata": {},
   "source": [
    "Cho họ các vector $\\boldsymbol{v}_1, \\boldsymbol{v}_2, ..., \\boldsymbol{v}_k \\in \\mathbb{R}^n$, ta nói họ là **phụ thuộc tuyến tính** (linearly dependent) nếu có vector nào đó là một tổ hợp tuyến tính của các vector còn lại; ngược lại, họ được nói là **độc lập tuyến tính** (linearly independent)."
   ]
  },
  {
   "cell_type": "markdown",
   "metadata": {},
   "source": [
    "***Mệnh đề.*** Họ $\\boldsymbol{v}_1, \\boldsymbol{v}_2, ..., \\boldsymbol{v}_k \\in \\mathbb{R}^n$ độc lập tuyến tính khi và chỉ khi hệ PTTT thuần nhất $A\\boldsymbol{x} = \\boldsymbol{0}$ có nghiệm duy nhất (là nghiệm tầm thường $\\boldsymbol{0} \\in \\mathbb{R}^k$) với $A \\in \\mathbb{R}^{n \\times k}$ là ma trận gồm các cột $\\boldsymbol{v}_1, \\boldsymbol{v}_2, ..., \\boldsymbol{v}_k$."
   ]
  },
  {
   "cell_type": "markdown",
   "metadata": {},
   "source": [
    "Cho không gian con $V \\le \\mathbb{R}^n$ và họ hữu hạn $B \\subset \\mathbb{R}^n$, ta nói $B$ là một **cơ sở** (basic) của $V$ nếu $B$ là một tập sinh của $V$ và $B$ độc lập tuyến tính. Khi đó, $|B|$ (số lượng vector trong $B$) được gọi là **số chiều** (dimension) của $V$, kí hiệu $\\mathrm{dim}(V)$."
   ]
  },
  {
   "cell_type": "markdown",
   "metadata": {},
   "source": [
    "Các ví dụ về không gian con:"
   ]
  },
  {
   "cell_type": "markdown",
   "metadata": {},
   "source": [
    "> $\\{0\\}$ là không gian con tầm thường của $\\mathbb{R}^n$ với số chiều là 0 và cơ sở là $\\{\\}$."
   ]
  },
  {
   "cell_type": "markdown",
   "metadata": {},
   "source": [
    "> $\\mathbb{R}^n$ là không gian con tầm thường của $\\mathbb{R}^n$ với số chiều là $n$. Tập các vector $\\boldsymbol{e}_1 = (1, 0, ..., 0), \\boldsymbol{e}_2 = (0, 1, 0, ..., 0), ..., \\boldsymbol{e}_n = (0, ..., 0, 1)$ là một cơ sở của $\\mathbb{R}^n$, gọi là **cơ sở chính tắc** (standard basic)."
   ]
  },
  {
   "cell_type": "markdown",
   "metadata": {},
   "source": [
    "> Cho ma trận $A \\in \\mathbb{R}^{m \\times n}$, ta nói:\n",
    ">   * **Không gian dòng** (row space) của $A$, kí hiệu $\\mathrm{Row}(A)$, là không gian con sinh bởi các dòng của $A$\n",
    ">   $$\\mathrm{Row}(A) = \\mathrm{Span}\\{\\boldsymbol{a}_{1,}, \\boldsymbol{a}_{2,}, ..., \\boldsymbol{a}_{m,}\\} \\le \\mathbb{R}^{n},$$\n",
    ">   * **Không gian cột** (column space) của $A$, kí hiệu $\\mathrm{Col}(A)$, là không gian con sinh bởi các cột của $A$\n",
    ">   $$\\mathrm{Col}(A) = \\mathrm{Span}\\{\\boldsymbol{a}_{,1}, \\boldsymbol{a}_{,2}, ..., \\boldsymbol{a}_{,n}\\} \\le \\mathbb{R}^{m},$$\n",
    ">   * **Không gian nghiệm** (null space) của $A$, kí hiệu $\\mathrm{Null}(A)$, là tập tất cả các nghiệm của hệ PTTT thuần nhất $A\\boldsymbol{x} = \\boldsymbol{0}$.  \n",
    ">     ***Mệnh đề.*** $\\mathrm{Null}(A) \\le \\mathbb{R}^{n}$.\n",
    "\n",
    "> ***Mệnh đề.*** $\\mathrm{Col}(A) = \\mathrm{Row}(A^T)$.\n",
    "\n",
    "> ***Mệnh đề.*** $\\mathrm{dim}(\\mathrm{Row}(A)) = \\mathrm{dim}(\\mathrm{Col}(A))$. Số chiều này còn được gọi là **hạng** (rank) của ma trận, kí hiệu, $\\mathrm{rank}(A)$.\n",
    "\n",
    "> ***Mệnh đề.*** $\\mathrm{rank}(A) + \\mathrm{dim}(\\mathrm{Null}(A)) = n$.\n",
    "\n",
    "> ***Mệnh đề.*** Nếu $A, B$ tương đương dòng thì $\\mathrm{Row}(A) = \\mathrm{Row}(B)$. Nếu $E$ là ma trận bậc thang (theo dòng) thì các dòng khác $\\boldsymbol{0}$ của $E$ lập thành một cơ sở của $\\mathrm{Row}(E)$."
   ]
  },
  {
   "cell_type": "markdown",
   "metadata": {},
   "source": [
    "## Thư viện hỗ trợ"
   ]
  },
  {
   "cell_type": "markdown",
   "metadata": {},
   "source": [
    "* **NumPy**, **SciPy**: \n",
    "\n",
    "  * hàm [`numpy.linalg.matrix_rank`](https://numpy.org/doc/stable/reference/generated/numpy.linalg.matrix_rank.html) tìm hạng của ma trận.\n",
    "  \n",
    "  * hàm [`scipy.linalg.null_space`](https://docs.scipy.org/doc/scipy/reference/generated/scipy.linalg.null_space.html) tìm không gian nghiệm của ma trận (trả về một cơ sở của không gian nghiệm)."
   ]
  },
  {
   "cell_type": "markdown",
   "metadata": {},
   "source": [
    "* **SymPy**: \n",
    "  - phương thức [`rank`](https://docs.sympy.org/latest/modules/matrices/matrices.html#sympy.matrices.matrices.MatrixReductions.rank) tìm hạng của ma trận.\n",
    "  \n",
    "  - Các phương thức [`rowspace`](https://docs.sympy.org/latest/modules/matrices/matrices.html#sympy.matrices.matrices.MatrixSubspaces.rowspace), [`columnspace`](https://docs.sympy.org/latest/modules/matrices/matrices.html#sympy.matrices.matrices.MatrixSubspaces.columnspace), [`nullspace`](https://docs.sympy.org/latest/modules/matrices/matrices.html#sympy.matrices.matrices.MatrixSubspaces.nullspace) tìm các không gian dòng, cột, nghiệm của ma trận (trả về một cơ sở của không gian tương ứng)."
   ]
  },
  {
   "cell_type": "markdown",
   "metadata": {},
   "source": [
    "## Ví dụ"
   ]
  },
  {
   "cell_type": "markdown",
   "metadata": {},
   "source": [
    "### Ví dụ 1"
   ]
  },
  {
   "cell_type": "markdown",
   "metadata": {},
   "source": [
    "Trong $\\mathbb{R}^3$, cho $\\boldsymbol{v}_1 = (1, 2, -3), \\boldsymbol{v}_2 = (2, 5, -1), \\boldsymbol{v}_3 = (1, 1, -8)$. Kiểm tra $B = \\{\\boldsymbol{v}_1, \\boldsymbol{v}_2, \\boldsymbol{v}_3\\}$ có là một cơ sở của $\\mathbb{R}^3$."
   ]
  },
  {
   "cell_type": "markdown",
   "metadata": {},
   "source": [
    "Nếu $\\boldsymbol{v}_1, \\boldsymbol{v}_2, \\boldsymbol{v}_3$ độc lập tuyến tính thì $B$ là một cơ sở của $\\mathbb{R}^3$ do $\\mathrm{dim}(\\mathbb{R}^3) = 3$."
   ]
  },
  {
   "cell_type": "markdown",
   "metadata": {},
   "source": [
    "Đặt $A$ là ma trận gồm các cột $\\boldsymbol{v}_1, \\boldsymbol{v}_2, \\boldsymbol{v}_3$, ta có $\\boldsymbol{v}_1, \\boldsymbol{v}_2, \\boldsymbol{v}_3$ độc lập tuyến tính khi và chỉ khi hệ PTTT $A\\boldsymbol{x} = \\boldsymbol{0}$ có nghiệm duy nhất."
   ]
  },
  {
   "cell_type": "code",
   "execution_count": 41,
   "metadata": {
    "tags": []
   },
   "outputs": [
    {
     "output_type": "stream",
     "name": "stdout",
     "text": "[[1 2  1]\n [0 1 -1]\n [0 0  0]]\n"
    }
   ],
   "source": [
    "v1, v2, v3 = [1, 2, -3], [2, 5, -1], [1, 1, -8]\n",
    "A = transpose([v1, v2, v3])\n",
    "myprint(Gauss_elimination(to_fraction(A)))"
   ]
  },
  {
   "cell_type": "markdown",
   "metadata": {},
   "source": [
    "Từ ma trận bậc thang trên, ta thấy hệ có vô số nghiệm."
   ]
  },
  {
   "cell_type": "code",
   "execution_count": 42,
   "metadata": {
    "tags": []
   },
   "outputs": [
    {
     "output_type": "stream",
     "name": "stdout",
     "text": "[[-0.90453403]\n [ 0.30151134]\n [ 0.30151134]]\n"
    },
    {
     "output_type": "execute_result",
     "data": {
      "text/plain": "⎡⎡-3⎤⎤\n⎢⎢  ⎥⎥\n⎢⎢1 ⎥⎥\n⎢⎢  ⎥⎥\n⎣⎣1 ⎦⎦",
      "text/latex": "$\\displaystyle \\left[ \\left[\\begin{matrix}-3\\\\1\\\\1\\end{matrix}\\right]\\right]$"
     },
     "metadata": {},
     "execution_count": 42
    }
   ],
   "source": [
    "print(scipy.linalg.null_space(A))\n",
    "Matrix(A).nullspace()"
   ]
  },
  {
   "cell_type": "markdown",
   "metadata": {},
   "source": [
    "Như vậy $\\boldsymbol{v}_1, \\boldsymbol{v}_2, \\boldsymbol{v}_3$ không độc lập tuyến tính nên $B$ không là cơ sở của $\\mathbb{R}^3$."
   ]
  },
  {
   "cell_type": "markdown",
   "metadata": {},
   "source": [
    "Ta cũng có thể dùng hạng của ma trận để kiểm tra"
   ]
  },
  {
   "cell_type": "code",
   "execution_count": 43,
   "metadata": {
    "tags": []
   },
   "outputs": [
    {
     "output_type": "stream",
     "name": "stdout",
     "text": "2\n2\n"
    }
   ],
   "source": [
    "print(np.linalg.matrix_rank(A))\n",
    "print(Matrix(A).rank())"
   ]
  },
  {
   "cell_type": "markdown",
   "metadata": {},
   "source": [
    "Vì $\\mathrm{rank}(A) = 2 < 3$ nên $\\boldsymbol{v}_1, \\boldsymbol{v}_2, \\boldsymbol{v}_3$ không độc lập tuyến tính."
   ]
  },
  {
   "cell_type": "markdown",
   "metadata": {},
   "source": [
    "### Ví dụ 2"
   ]
  },
  {
   "cell_type": "markdown",
   "metadata": {},
   "source": [
    "Trong $\\mathbb{R}^4$, cho $\\boldsymbol{v}_1 = (1, 2, 1, 1), \\boldsymbol{v}_2 = (3, 6, 5, 7), \\boldsymbol{v}_3 = (4, 8, 6, 8), \\boldsymbol{v}_4 = (8, 16, 12, 20)$. Tìm một cơ sở và số chiều của không gian con sinh bởi $\\boldsymbol{v}_1, \\boldsymbol{v}_2, \\boldsymbol{v}_3, \\boldsymbol{v}_4$."
   ]
  },
  {
   "cell_type": "markdown",
   "metadata": {},
   "source": [
    "Đặt $A$ là ma trận gồm các dòng $\\boldsymbol{v}_1, \\boldsymbol{v}_2, \\boldsymbol{v}_3, \\boldsymbol{v}_4$, ta có $\\mathrm{Row}(A) = \\mathrm{Span}\\{\\boldsymbol{v}_{1}, \\boldsymbol{v}_{2}, \\boldsymbol{v}_{3}, \\boldsymbol{v}_{4}\\}$."
   ]
  },
  {
   "cell_type": "code",
   "execution_count": 44,
   "metadata": {
    "tags": []
   },
   "outputs": [
    {
     "output_type": "stream",
     "name": "stdout",
     "text": "[[1 2 1 1]\n [0 0 1 2]\n [0 0 0 1]\n [0 0 0 0]]\n"
    }
   ],
   "source": [
    "v1, v2, v3, v4 = [1, 2, 1, 1], [3, 6, 5, 7], [4, 8, 6, 8], [8, 16, 12, 20]\n",
    "A = [v1, v2, v3, v4]\n",
    "myprint(Gauss_elimination(to_fraction(A)))"
   ]
  },
  {
   "cell_type": "markdown",
   "metadata": {},
   "source": [
    "Như vậy $\\mathrm{Span}\\{\\boldsymbol{v}_{1}, \\boldsymbol{v}_{2}, \\boldsymbol{v}_{3}, \\boldsymbol{v}_{4}\\}$ có số chiều là 3 và có một cơ sở là\n",
    "$$\n",
    "\\{(1, 2, 1, 1), (0, 0, 1, 2), (0, 0, 0, 1)\\}.\n",
    "$$"
   ]
  },
  {
   "cell_type": "code",
   "execution_count": 45,
   "metadata": {},
   "outputs": [
    {
     "output_type": "execute_result",
     "data": {
      "text/plain": "[[1  2  1  1], [0  0  2  4], [0  0  0  8]]",
      "text/latex": "$\\displaystyle \\left[ \\left[\\begin{matrix}1 & 2 & 1 & 1\\end{matrix}\\right], \\  \\left[\\begin{matrix}0 & 0 & 2 & 4\\end{matrix}\\right], \\  \\left[\\begin{matrix}0 & 0 & 0 & 8\\end{matrix}\\right]\\right]$"
     },
     "metadata": {},
     "execution_count": 45
    }
   ],
   "source": [
    "Matrix(A).rowspace()"
   ]
  },
  {
   "cell_type": "markdown",
   "metadata": {},
   "source": [
    "### Ví dụ 3"
   ]
  },
  {
   "cell_type": "markdown",
   "metadata": {},
   "source": [
    "Tìm không gian nghiệm của hệ PTTT thuần nhất sau\n",
    "$$\n",
    "\\begin{matrix}\n",
    "   x_1 & + & 2x_2 & - &  3x_3 & + &  5x_4 & = & 0\\\\\n",
    "   x_1 & + & 3x_2 & - & 13x_3 & + & 22x_4 & = & 0\\\\ \n",
    "  3x_1 & + & 5x_2 & + &   x_3 & - &  2x_4 & = & 0\\\\\n",
    "  2x_1 & + & 3x_2 & + &  4x_3 & - &  7x_4 & = & 0\\\\\n",
    "\\end{matrix}.\n",
    "$$"
   ]
  },
  {
   "cell_type": "markdown",
   "metadata": {},
   "source": [
    "Không gian nghiệm của hệ PTTT thuần nhất trên chính là không gian nghiệm của ma trận hệ số\n",
    "$$\n",
    "A = \n",
    "\\begin{bmatrix}\n",
    "1 & 2 &  -3 & 5\\\\\n",
    "1 & 3 & -13 & 22\\\\\n",
    "3 & 5 &   1 & -2\\\\\n",
    "2 & 3 &   4 & -7\\\\\n",
    "\\end{bmatrix}.\n",
    "$$"
   ]
  },
  {
   "cell_type": "code",
   "execution_count": 46,
   "metadata": {
    "tags": []
   },
   "outputs": [
    {
     "output_type": "stream",
     "name": "stdout",
     "text": "[-17*x3 + 29*x4, 10*x3 - 17*x4, x3, x4]\n"
    }
   ],
   "source": [
    "A = [[1, 2,  -3,  5],\n",
    "     [1, 3, -13, 22],\n",
    "     [3, 5,   1, -2],\n",
    "     [2, 3,   4, -7]]\n",
    "\n",
    "A_bar = augmented_matrix(A, zero_vector(4))\n",
    "myprint(back_substitution(Gauss_elimination(to_fraction(A_bar))), \", \")"
   ]
  },
  {
   "cell_type": "markdown",
   "metadata": {},
   "source": [
    "Như vậy, hệ có nghiệm tổng quát\n",
    "$$\n",
    "\\boldsymbol{x} = \n",
    "\\begin{bmatrix}\n",
    "x_1 \\\\ x_2 \\\\ x_3 \\\\ x_4\n",
    "\\end{bmatrix} =\n",
    "\\begin{bmatrix}\n",
    "-17x_3 + 29x_4 \\\\ 10x_3 - 17x_4 \\\\ x_3 \\\\ x_4 \n",
    "\\end{bmatrix} =\n",
    "x_3 \\begin{bmatrix}\n",
    "-17 \\\\ 10 \\\\ 1 \\\\ 0 \\\\ \n",
    "\\end{bmatrix} +\n",
    "x_4 \\begin{bmatrix}\n",
    "29 \\\\ -17 \\\\ 0 \\\\ 1 \\\\ \n",
    "\\end{bmatrix},\n",
    "x_3, x_4 \\in \\mathbb{R}.\n",
    "$$"
   ]
  },
  {
   "cell_type": "markdown",
   "metadata": {},
   "source": [
    "Như vậy $\\mathrm{Null}(A)$ có số chiều là 2 và có một cơ sở là\n",
    "$$\n",
    "\\{(-17, 10, 1, 0), (29, -17, 0, 1)\\}\n",
    "$$"
   ]
  },
  {
   "cell_type": "code",
   "execution_count": 47,
   "metadata": {},
   "outputs": [
    {
     "output_type": "execute_result",
     "data": {
      "text/plain": "⎡⎡-17⎤  ⎡29 ⎤⎤\n⎢⎢   ⎥  ⎢   ⎥⎥\n⎢⎢10 ⎥  ⎢-17⎥⎥\n⎢⎢   ⎥, ⎢   ⎥⎥\n⎢⎢ 1 ⎥  ⎢ 0 ⎥⎥\n⎢⎢   ⎥  ⎢   ⎥⎥\n⎣⎣ 0 ⎦  ⎣ 1 ⎦⎦",
      "text/latex": "$\\displaystyle \\left[ \\left[\\begin{matrix}-17\\\\10\\\\1\\\\0\\end{matrix}\\right], \\  \\left[\\begin{matrix}29\\\\-17\\\\0\\\\1\\end{matrix}\\right]\\right]$"
     },
     "metadata": {},
     "execution_count": 47
    }
   ],
   "source": [
    "Matrix(A).nullspace()"
   ]
  },
  {
   "cell_type": "markdown",
   "metadata": {},
   "source": [
    "# Trực giao hóa với thuật giải Gram-Schmidt"
   ]
  },
  {
   "cell_type": "markdown",
   "metadata": {},
   "source": [
    "## Các khái niệm cơ bản"
   ]
  },
  {
   "cell_type": "markdown",
   "metadata": {},
   "source": [
    "Ta nói họ (hệ, tập) các vector $\\boldsymbol{v}_1, \\boldsymbol{v}_2, ..., \\boldsymbol{v}_k \\in \\mathbb{R}^n$ là **trực giao** (orthogonal) nếu chúng đôi một trực giao, tức là $\\langle \\boldsymbol{v}_i, \\boldsymbol{v}_j \\rangle = 0, \\forall i \\ne j.$"
   ]
  },
  {
   "cell_type": "code",
   "execution_count": 48,
   "metadata": {},
   "outputs": [],
   "source": [
    "def orthogonal_set(vs):\n",
    "    return all(orthogonal(vs[i], vs[j]) for i in range(len(vs)) for j in range(len(vs)) if i != j)"
   ]
  },
  {
   "cell_type": "markdown",
   "metadata": {},
   "source": [
    "Ta nói họ (hệ, tập) các vector $\\boldsymbol{q_1}, \\boldsymbol{q}_2, ..., \\boldsymbol{q}_k \\in \\mathbb{R}^n$ là **trực chuẩn** (orthonormal) nếu chúng là họ trực giao các vector đơn vị."
   ]
  },
  {
   "cell_type": "code",
   "execution_count": 49,
   "metadata": {},
   "outputs": [],
   "source": [
    "def orthonormal_set(vs):\n",
    "    return orthogonal_set(vs) and all(unit_vector(vi) for vi in vs)"
   ]
  },
  {
   "cell_type": "markdown",
   "metadata": {},
   "source": [
    "## Thuật giải Gram-Schmidt"
   ]
  },
  {
   "cell_type": "markdown",
   "metadata": {},
   "source": [
    "Cho tập các vector $\\boldsymbol{v}_1, \\boldsymbol{v}_2, ..., \\boldsymbol{v}_k \\in \\mathbb{R}^n$, **thuật giải Gram-Schmidt** (Gram-Schmidt algorithm) tìm họ trực giao (hoặc trực chuẩn) các vector $\\boldsymbol{q}_1, \\boldsymbol{q}_2, ..., \\boldsymbol{q}_r \\in \\mathbb{R}^n$ là một cơ sở của $\\mathrm{Span}\\{\\boldsymbol{v}_1, \\boldsymbol{v}_2, ..., \\boldsymbol{v}_k\\}$. Thuật giải gồm các bước:\n",
    "\n",
    "> **Bước 1.** Tạo tập $Q = \\{\\}$ chứa cơ sở kết quả.\n",
    "\n",
    "> **Bước 2.** Đặt $i = 1$ và lặp lại các Bước 3-4 cho đến khi $i > k$.\n",
    "\n",
    "> **Bước 3.** Tính \n",
    "> $$\n",
    "\\boldsymbol{q}_i = \\boldsymbol{v}_i - \\sum_{\\boldsymbol{q}_j \\in Q} \\frac{\\langle \\boldsymbol{v}_i, \\boldsymbol{q}_j \\rangle}{\\| \\boldsymbol{q}_j \\|^2}\\boldsymbol{q}_j\n",
    "$$\n",
    "\n",
    "> **Bước 4.** Nếu $\\boldsymbol{q}_i \\neq 0$ thì thêm $\\boldsymbol{q}_i$ vào $Q$. Tăng $i$ thêm $1$.\n",
    "\n",
    "> **Bước 5.** **Chuẩn hóa** (normalizing) nếu cần họ trực chuẩn\n",
    "> $$\n",
    "\\boldsymbol{q}_i = \\frac{\\boldsymbol{q}_i}{\\| \\boldsymbol{q}_i \\|}, \\forall \\boldsymbol{q}_i \\in Q\n",
    "$$\n",
    "\n",
    "> **Bước 6.** Trả về $Q$."
   ]
  },
  {
   "cell_type": "code",
   "execution_count": 50,
   "metadata": {},
   "outputs": [],
   "source": [
    "def Gram_Schmidt(vs, normalizing=False):\n",
    "    # Bước 1\n",
    "    Q = []\n",
    "    \n",
    "    # Bước 2\n",
    "    for vi in vs:\n",
    "        # Bước 3\n",
    "        qi = vi\n",
    "        for qj in Q:\n",
    "            qi = sub_vector(qi, mul_scalar_vector(Fraction(inner_product(vi, qj), inner_product(qj, qj)), qj))\n",
    "        \n",
    "        # Bước 4\n",
    "        if not is_zero_vector(qi):\n",
    "            Q.append(qi)\n",
    "    \n",
    "    # Bước 5\n",
    "    if normalizing:\n",
    "        Q = [mul_scalar_vector(1/norm(qi), qi) for qi in Q]\n",
    "    \n",
    "    return Q"
   ]
  },
  {
   "cell_type": "markdown",
   "metadata": {},
   "source": [
    "## Thư viện hỗ trợ"
   ]
  },
  {
   "cell_type": "markdown",
   "metadata": {},
   "source": [
    "* **SciPy**: dùng hàm [`scipy.linalg.orth`](https://docs.scipy.org/doc/scipy/reference/generated/scipy.linalg.orth.html) để tìm cơ sở trực chuẩn của không gian cột của một ma trận. Tuy nhiên, hàm này dùng một thuật giải khác (mà ta sẽ học sau)."
   ]
  },
  {
   "cell_type": "markdown",
   "metadata": {},
   "source": [
    "* **SymPy**: dùng hàm [`sympy.Matrix.orthogonalize`](https://docs.sympy.org/latest/modules/matrices/matrices.html#sympy.matrices.matrices.MatrixSubspaces.orthogonalize) để thực hiện giải thuật Gram-Schmidt."
   ]
  },
  {
   "cell_type": "markdown",
   "metadata": {},
   "source": [
    "## Ví dụ"
   ]
  },
  {
   "cell_type": "markdown",
   "metadata": {},
   "source": [
    "### Ví dụ 1"
   ]
  },
  {
   "cell_type": "markdown",
   "metadata": {},
   "source": [
    "Dùng thuật giải Gram-Schmidt trực giao hóa họ 3 vector sau và cho biết họ có độc lập tuyến tính hay không?\n",
    "$$\n",
    "\\boldsymbol{v}_1 = (-1, 1, -1, 1), \\boldsymbol{v}_2 = (-1, 3, -1, 3), \\boldsymbol{v}_3 = (0, 2, 0, 2)\n",
    "$$"
   ]
  },
  {
   "cell_type": "code",
   "execution_count": 51,
   "metadata": {
    "tags": []
   },
   "outputs": [
    {
     "output_type": "stream",
     "name": "stdout",
     "text": "[[-1 1 -1 1]\n [ 1 1  1 1]]\nHệ không độc lập tuyến tính!\n"
    }
   ],
   "source": [
    "v1 = [-1, 1, -1, 1]\n",
    "v2 = [-1, 3, -1, 3]\n",
    "v3 = [0, 2, 0, 2]\n",
    "vs = [v1, v2, v3]\n",
    "Q = Gram_Schmidt(vs)\n",
    "myprint(Q)\n",
    "if len(Q) < len(vs):\n",
    "    print(\"Hệ không độc lập tuyến tính!\")"
   ]
  },
  {
   "cell_type": "code",
   "execution_count": 52,
   "metadata": {
    "tags": []
   },
   "outputs": [
    {
     "output_type": "stream",
     "name": "stdout",
     "text": "[[-1/2 1/2 -1/2 1/2]\n [ 1/2 1/2  1/2 1/2]]\n[[-0.20490834  0.67676626 -0.20490834  0.67676626]\n [ 0.67676626  0.20490834  0.67676626  0.20490834]]\nTrue True\n"
    }
   ],
   "source": [
    "Q1 = Gram_Schmidt(vs, normalizing=True)\n",
    "Q2 = scipy.linalg.orth(np.array(vs).T).T\n",
    "myprint(Q1)\n",
    "print(Q2)\n",
    "print(orthonormal_set(Q1), orthonormal_set(Q2))"
   ]
  },
  {
   "cell_type": "code",
   "execution_count": 53,
   "metadata": {},
   "outputs": [
    {
     "output_type": "execute_result",
     "data": {
      "text/plain": "⎡⎡-1/2⎤  ⎡1/2⎤⎤\n⎢⎢    ⎥  ⎢   ⎥⎥\n⎢⎢1/2 ⎥  ⎢1/2⎥⎥\n⎢⎢    ⎥, ⎢   ⎥⎥\n⎢⎢-1/2⎥  ⎢1/2⎥⎥\n⎢⎢    ⎥  ⎢   ⎥⎥\n⎣⎣1/2 ⎦  ⎣1/2⎦⎦",
      "text/latex": "$\\displaystyle \\left[ \\left[\\begin{matrix}- \\frac{1}{2}\\\\\\frac{1}{2}\\\\- \\frac{1}{2}\\\\\\frac{1}{2}\\end{matrix}\\right], \\  \\left[\\begin{matrix}\\frac{1}{2}\\\\\\frac{1}{2}\\\\\\frac{1}{2}\\\\\\frac{1}{2}\\end{matrix}\\right]\\right]$"
     },
     "metadata": {},
     "execution_count": 53
    }
   ],
   "source": [
    "Matrix.orthogonalize(Matrix(v1), Matrix(v2), Matrix(v3), normalize=True)"
   ]
  },
  {
   "cell_type": "markdown",
   "metadata": {},
   "source": [
    "Như vậy, họ $\\boldsymbol{v}_1, \\boldsymbol{v}_2, \\boldsymbol{v}_3$ không độc lập tuyến tính và một cơ sở trực giao cho $\\mathrm{Span}\\{\\boldsymbol{v}_1, \\boldsymbol{v}_2, \\boldsymbol{v}_3\\} \\le \\mathbb{R}^4$ là\n",
    "$$\n",
    "\\boldsymbol{q}_1 = (-1, 1, -1, 1), \\boldsymbol{q}_2 = (1, 1, 1, 1)\n",
    "$$"
   ]
  },
  {
   "cell_type": "markdown",
   "metadata": {},
   "source": [
    "### Ví dụ 2"
   ]
  },
  {
   "cell_type": "markdown",
   "metadata": {},
   "source": [
    "Dùng thuật giải Gram-Schmidt trực chuẩn hóa họ 3 vector sau\n",
    "$$\n",
    "\\boldsymbol{v}_1 = (1, 1, 1), \\boldsymbol{v}_2 = (0, 1, 1), \\boldsymbol{v}_3 = (0, 0, 1)\n",
    "$$"
   ]
  },
  {
   "cell_type": "code",
   "execution_count": 54,
   "metadata": {
    "tags": []
   },
   "outputs": [
    {
     "output_type": "stream",
     "name": "stdout",
     "text": "[[   1    1   1]\n [-2/3  1/3 1/3]\n [   0 -1/2 1/2]]\n[[ sqrt(3)/3  sqrt(3)/3 sqrt(3)/3]\n [-sqrt(6)/3  sqrt(6)/6 sqrt(6)/6]\n [         0 -sqrt(2)/2 sqrt(2)/2]]\n"
    }
   ],
   "source": [
    "v1 = [1, 1, 1]\n",
    "v2 = [0, 1, 1]\n",
    "v3 = [0, 0, 1]\n",
    "myprint(Gram_Schmidt([v1, v2, v3]))\n",
    "myprint(Gram_Schmidt([v1, v2, v3], normalizing=True))"
   ]
  },
  {
   "cell_type": "code",
   "execution_count": 55,
   "metadata": {},
   "outputs": [
    {
     "output_type": "execute_result",
     "data": {
      "text/plain": "⎡⎡√3⎤  ⎡-√6 ⎤        ⎤\n⎢⎢──⎥  ⎢────⎥  ⎡ 0  ⎤⎥\n⎢⎢3 ⎥  ⎢ 3  ⎥  ⎢    ⎥⎥\n⎢⎢  ⎥  ⎢    ⎥  ⎢-√2 ⎥⎥\n⎢⎢√3⎥  ⎢ √6 ⎥  ⎢────⎥⎥\n⎢⎢──⎥, ⎢ ── ⎥, ⎢ 2  ⎥⎥\n⎢⎢3 ⎥  ⎢ 6  ⎥  ⎢    ⎥⎥\n⎢⎢  ⎥  ⎢    ⎥  ⎢ √2 ⎥⎥\n⎢⎢√3⎥  ⎢ √6 ⎥  ⎢ ── ⎥⎥\n⎢⎢──⎥  ⎢ ── ⎥  ⎣ 2  ⎦⎥\n⎣⎣3 ⎦  ⎣ 6  ⎦        ⎦",
      "text/latex": "$\\displaystyle \\left[ \\left[\\begin{matrix}\\frac{\\sqrt{3}}{3}\\\\\\frac{\\sqrt{3}}{3}\\\\\\frac{\\sqrt{3}}{3}\\end{matrix}\\right], \\  \\left[\\begin{matrix}- \\frac{\\sqrt{6}}{3}\\\\\\frac{\\sqrt{6}}{6}\\\\\\frac{\\sqrt{6}}{6}\\end{matrix}\\right], \\  \\left[\\begin{matrix}0\\\\- \\frac{\\sqrt{2}}{2}\\\\\\frac{\\sqrt{2}}{2}\\end{matrix}\\right]\\right]$"
     },
     "metadata": {},
     "execution_count": 55
    }
   ],
   "source": [
    "Matrix.orthogonalize(Matrix(v1), Matrix(v2), Matrix(v3), normalize=True)"
   ]
  },
  {
   "cell_type": "markdown",
   "metadata": {},
   "source": [
    "Như vậy, họ $\\boldsymbol{v}_1, \\boldsymbol{v}_2, \\boldsymbol{v}_3$ độc lập tuyến tính và một cơ sở trực chuẩn cho $\\mathrm{Span}\\{\\boldsymbol{v}_1, \\boldsymbol{v}_2, \\boldsymbol{v}_3\\} = \\mathbb{R}^3$ là\n",
    "$$\n",
    "\\boldsymbol{q}_1 = \\frac{1}{\\sqrt{3}}(1, 1, 1), \\boldsymbol{q}_2 = \\frac{1}{\\sqrt{6}}(-2, 1, 1), \\boldsymbol{q}_3 = \\frac{1}{\\sqrt{2}}(0, -1, 1)\n",
    "$$"
   ]
  },
  {
   "cell_type": "markdown",
   "metadata": {},
   "source": [
    "# Bài tập"
   ]
  },
  {
   "cell_type": "markdown",
   "metadata": {},
   "source": [
    "## Bài tập tự rèn luyện"
   ]
  },
  {
   "cell_type": "markdown",
   "metadata": {},
   "source": [
    "Cho $\\boldsymbol{v}, \\boldsymbol{w} \\in \\mathbb{R}^n$ khác $\\boldsymbol{0}$, ta định nghĩa **góc** (angle) giữa $\\boldsymbol{v}, \\boldsymbol{w}$ là\n",
    "$$\n",
    "\\mathrm{angle}(\\boldsymbol{v}, \\boldsymbol{w}) = \\arccos \\left( \\frac{\\langle \\boldsymbol{v}, \\boldsymbol{w} \\rangle}{\\| \\boldsymbol{v} \\|\\| \\boldsymbol{w} \\|} \\right).\n",
    "$$"
   ]
  },
  {
   "cell_type": "markdown",
   "metadata": {},
   "source": [
    "Viết hàm tính góc giữa $\\boldsymbol{v}, \\boldsymbol{w}$ được cho"
   ]
  },
  {
   "cell_type": "code",
   "execution_count": 56,
   "metadata": {},
   "outputs": [],
   "source": [
    "def angle(v, w):\n",
    "    pass # TODO"
   ]
  },
  {
   "cell_type": "markdown",
   "metadata": {},
   "source": [
    "Viết hàm tính tổ hợp tuyến tính của các vector $\\boldsymbol{v}_1, \\boldsymbol{v}_2, ..., \\boldsymbol{v}_k \\in \\mathbb{R}^n$ theo các hệ số $\\alpha_1, \\alpha_2, ..., \\alpha_k \\in \\mathbb{R}$."
   ]
  },
  {
   "cell_type": "code",
   "execution_count": 57,
   "metadata": {},
   "outputs": [],
   "source": [
    "def linear_combination(vs, alphas):\n",
    "    \"vs là danh sách các vector và alphas là danh sách các hệ số tương ứng\"\n",
    "    pass # TODO"
   ]
  },
  {
   "cell_type": "markdown",
   "metadata": {},
   "source": [
    "Từ đó viết hàm tính vector trung bình của $k$ vector $\\boldsymbol{v}_1, \\boldsymbol{v}_2, ..., \\boldsymbol{v}_k \\in \\mathbb{R}^n$\n",
    "$$\n",
    "\\mathrm{mean}\\{\\boldsymbol{v}_1, \\boldsymbol{v}_2, ..., \\boldsymbol{v}_k\\} = \\frac{\\sum_{i=1}^k \\boldsymbol{v}_i}{k}.\n",
    "$$"
   ]
  },
  {
   "cell_type": "code",
   "execution_count": 58,
   "metadata": {},
   "outputs": [],
   "source": [
    "def mean(vs):\n",
    "    pass # TODO"
   ]
  },
  {
   "cell_type": "markdown",
   "metadata": {},
   "source": [
    "Cho $\\boldsymbol{v} = (v_1, v_2, .., v_n) \\in \\mathbb{R}^n$, ta nói vector tích lũy của $\\boldsymbol{v}$, kí hiệu $\\mathrm{acc}(\\boldsymbol{v})$, là vector $\\boldsymbol{w} = (w_1, w_2, ..., w_n) \\in \\mathbb{R}^n$ thỏa\n",
    "$$\n",
    "w_i = \\sum_{j=1}^i v_j, \\forall i = 1, 2, ..., n\n",
    "$$\n",
    "và nói vector sai phân của $\\boldsymbol{v}$, kí hiệu $\\mathrm{diff}(\\boldsymbol{v})$, là vector $\\boldsymbol{w} = (w_1, w_2, ..., w_n) \\in \\mathbb{R}^n$ thỏa $w_1 = v_1$ và $w_i = v_{i} - v_{i - 1}, \\forall i = 2, ..., n$."
   ]
  },
  {
   "cell_type": "markdown",
   "metadata": {},
   "source": [
    "Viết các hàm tính $\\mathrm{acc}(\\boldsymbol{v}), \\mathrm{diff}(\\boldsymbol{v})$ từ $\\boldsymbol{v}$ và từ đó nhận xét quan hệ giữa các vector này."
   ]
  },
  {
   "cell_type": "code",
   "execution_count": 59,
   "metadata": {},
   "outputs": [],
   "source": [
    "def acc(v):\n",
    "    pass # TODO\n",
    "\n",
    "def diff(v):\n",
    "    pass # TODO"
   ]
  },
  {
   "cell_type": "markdown",
   "metadata": {},
   "source": [
    "Cho $V = \\{\\boldsymbol{v}_1, \\boldsymbol{v}_2, ..., \\boldsymbol{v}_m\\} \\subset \\mathbb{R}^n$ và $\\boldsymbol{v} \\in \\mathbb{R}^n$, ta nói **láng giềng gần nhất** (nearest neighbor) của $\\boldsymbol{v}$ trong $S$ là $\\boldsymbol{w} \\in S$ sao cho\n",
    "$$\n",
    "\\| \\boldsymbol{v} - \\boldsymbol{w} \\| \\le \\| \\boldsymbol{v} - \\boldsymbol{v}_i \\|, \\forall i = 1, 2, ..., m.\n",
    "$$"
   ]
  },
  {
   "cell_type": "markdown",
   "metadata": {},
   "source": [
    "Viết hàm tìm láng giềng gần nhất của của $\\boldsymbol{v}$ trong $S$ được cho."
   ]
  },
  {
   "cell_type": "code",
   "execution_count": 60,
   "metadata": {},
   "outputs": [],
   "source": [
    "def nearest_neighbor(v, S):\n",
    "    pass # TODO"
   ]
  },
  {
   "cell_type": "markdown",
   "metadata": {},
   "source": [
    "Mở rộng khái niệm láng giềng gần nhất thành $k$ láng giềng gần nhất và viết hàm thực hiện."
   ]
  },
  {
   "cell_type": "code",
   "execution_count": 61,
   "metadata": {},
   "outputs": [],
   "source": [
    "def kNN(v, S, k=1):\n",
    "    pass # TODO"
   ]
  },
  {
   "cell_type": "markdown",
   "metadata": {},
   "source": [
    "## Cân bằng phản ứng hóa học (cộng điểm)"
   ]
  },
  {
   "cell_type": "markdown",
   "metadata": {},
   "source": [
    "**Công thức hóa học** (chemical formula) của các phân tử hóa học có thể được mô tả trong Python bằng một danh sách ([`list`](https://docs.python.org/3/tutorial/datastructures.html#more-on-lists)) các bộ ([`tuple`](https://docs.python.org/3/tutorial/datastructures.html#tuples-and-sequences)). Chẳng hạn, công thức hóa học của nước $\\text{H}_2\\text{O}$ có thể được mô tả bởi danh sách `[(\"H\", 2), (\"O\", 1)]`."
   ]
  },
  {
   "cell_type": "markdown",
   "metadata": {},
   "source": [
    "Viết hàm trả về chuỗi biểu diễn LaTeX của công thức hóa học."
   ]
  },
  {
   "cell_type": "code",
   "execution_count": 62,
   "metadata": {},
   "outputs": [],
   "source": [
    "def chemical_formula(mol):\n",
    "    pass # TODO"
   ]
  },
  {
   "cell_type": "code",
   "execution_count": 63,
   "metadata": {
    "tags": []
   },
   "outputs": [
    {
     "output_type": "stream",
     "name": "stdout",
     "text": "\\text{H}_2\\text{O}\n"
    },
    {
     "output_type": "execute_result",
     "data": {
      "text/plain": "<IPython.core.display.Latex object>",
      "text/latex": "$\\text{H}_2\\text{O}$"
     },
     "metadata": {},
     "execution_count": 63
    }
   ],
   "source": [
    "from IPython.display import Latex\n",
    "\n",
    "mol = chemical_formula([(\"H\", 2), (\"O\", 1)])\n",
    "# sẽ được như\n",
    "mol = r\"\\text{H}_2\\text{O}\"\n",
    "print(mol)\n",
    "Latex(\"$\" + mol + \"$\")"
   ]
  },
  {
   "cell_type": "markdown",
   "metadata": {},
   "source": [
    "Mở rộng hàm trên để cho phép công thức có chứa các nhóm nguyên tử. Chẳng hạn, công thức hóa học của nhôm sunfat $\\text{Al}_2(\\text{S}\\text{O}_4)_3$ có thể được mô tả bởi danh sách `[(\"Al\", 2), ([(\"S\", 1), (\"O\", 4)], 3)]`."
   ]
  },
  {
   "cell_type": "code",
   "execution_count": 64,
   "metadata": {
    "tags": []
   },
   "outputs": [
    {
     "output_type": "stream",
     "name": "stdout",
     "text": "\\text{Al}_2(\\text{S}\\text{O}_4)_3\n"
    },
    {
     "output_type": "execute_result",
     "data": {
      "text/plain": "<IPython.core.display.Latex object>",
      "text/latex": "$\\text{Al}_2(\\text{S}\\text{O}_4)_3$"
     },
     "metadata": {},
     "execution_count": 64
    }
   ],
   "source": [
    "mol = chemical_formula([(\"Al\", 2), ([(\"S\", 1), (\"O\", 4)], 3)])\n",
    "# sẽ được như\n",
    "mol = r\"\\text{Al}_2(\\text{S}\\text{O}_4)_3\"\n",
    "print(mol)\n",
    "Latex(\"$\" + mol + \"$\")"
   ]
  },
  {
   "cell_type": "markdown",
   "metadata": {},
   "source": [
    "Một **phản ứng hóa học** (chemical reaction) có thể được mô tả bởi 2 danh sách: danh sách các **phân tử tham gia phản ứng** (reactant) và danh sách các **phân tử sản phẩm** (product). Viết hàm cân bằng phản ứng hóa học và trả về chuỗi biểu diễn LaTeX của **phương trình hóa học** (chemical equation) đã cân bằng."
   ]
  },
  {
   "cell_type": "code",
   "execution_count": 65,
   "metadata": {},
   "outputs": [],
   "source": [
    "def balance_chemical_equation(lhs, rhs):\n",
    "    \"lhs là danh sách các phân tử tham gia phản ứng, rhs là danh sách các phân tử sản phẩm\"\n",
    "    pass # TODO"
   ]
  },
  {
   "cell_type": "code",
   "execution_count": 66,
   "metadata": {
    "tags": []
   },
   "outputs": [
    {
     "output_type": "stream",
     "name": "stdout",
     "text": "2\\text{H}_2\\text{O} \\to 2\\text{H}_2 + \\text{O}_2\n"
    },
    {
     "output_type": "execute_result",
     "data": {
      "text/plain": "<IPython.core.display.Latex object>",
      "text/latex": "$$2\\text{H}_2\\text{O} \\to 2\\text{H}_2 + \\text{O}_2$$"
     },
     "metadata": {},
     "execution_count": 66
    }
   ],
   "source": [
    "H2O = [(\"H\", 2), (\"O\", 1)]\n",
    "H2 = [(\"H\", 2)]\n",
    "O2 = [(\"O\", 2)]\n",
    "\n",
    "equation = balance_chemical_equation([H2O], [H2, O2])\n",
    "# sẽ được như\n",
    "equation = r\"2\\text{H}_2\\text{O} \\to 2\\text{H}_2 + \\text{O}_2\"\n",
    "print(equation)\n",
    "Latex(\"$$\" + equation + \"$$\")"
   ]
  },
  {
   "cell_type": "code",
   "execution_count": 67,
   "metadata": {
    "tags": []
   },
   "outputs": [
    {
     "output_type": "stream",
     "name": "stdout",
     "text": "2\\text{Al}(\\text{O}\\text{H})_3 + 3\\text{H}_2\\text{S}\\text{O}_4 \\to \\text{Al}_2(\\text{S}\\text{O}_4)_3 + 6\\text{H}_2\\text{O}\n"
    },
    {
     "output_type": "execute_result",
     "data": {
      "text/plain": "<IPython.core.display.Latex object>",
      "text/latex": "$$2\\text{Al}(\\text{O}\\text{H})_3 + 3\\text{H}_2\\text{S}\\text{O}_4 \\to \\text{Al}_2(\\text{S}\\text{O}_4)_3 + 6\\text{H}_2\\text{O}$$"
     },
     "metadata": {},
     "execution_count": 67
    }
   ],
   "source": [
    "Al_OH3 = [(\"Al\", 1), ([(\"O\", 1), (\"H\", 1)], 3)]\n",
    "H2_SO4 = [(\"H\", 2), ([(\"S\", 1), (\"O\", 4)], 1)]\n",
    "Al2_SO43 = [(\"Al\", 2), ([(\"S\", 1), (\"O\", 4)], 3)]\n",
    "H2O = [(\"H\", 2), (\"O\", 1)]\n",
    "\n",
    "equation = balance_chemical_equation([Al_OH3, H2_SO4], [Al2_SO43, H2O])\n",
    "# sẽ được như\n",
    "equation = r\"2\\text{Al}(\\text{O}\\text{H})_3 + 3\\text{H}_2\\text{S}\\text{O}_4 \\to \\text{Al}_2(\\text{S}\\text{O}_4)_3 + 6\\text{H}_2\\text{O}\"\n",
    "print(equation)\n",
    "Latex(\"$$\" + equation + \"$$\")"
   ]
  },
  {
   "cell_type": "code",
   "execution_count": 72,
   "metadata": {},
   "outputs": [
    {
     "output_type": "execute_result",
     "data": {
      "text/plain": "<IPython.core.display.Latex object>",
      "text/latex": "$$\\color{blue}{\\large{SOLUTION - 18127208\\ NGO\\ THANH\\ PHUONG\\ THAI}}$$"
     },
     "metadata": {},
     "execution_count": 72
    }
   ],
   "source": [
    "Latex(\"$$\\color{blue}{\\large{SOLUTION - 18127208\\ NGO\\ THANH\\ PHUONG\\ THAI}}$$\")"
   ]
  },
  {
   "cell_type": "code",
   "execution_count": 79,
   "metadata": {},
   "outputs": [],
   "source": [
    "import numpy as np\n",
    "import re\n",
    "from fractions import Fraction\n",
    "import math\n",
    "from math import gcd\n",
    "from IPython.display import Latex\n",
    "from functools import reduce\n",
    "\n",
    "# Trả về chuỗi LaTeX cho nguyên tố, nhóm nguyên tố: (SO_{4})_{3} trong Fe2(SO4)3\n",
    "def get_sub(atom, n):\n",
    "    # Nếu atom là nguyên tố thì trả về nguyên tố đó, chẳng hạn O_{4}\n",
    "    # Còn nếu atom là một nhóm nguyên tố, thì sẽ gọi đệ quy tiếp các nguyên tố bên trong, sau đó gộp vào dấu () và thêm số lượng vào (nếu số lượng bằng 0 thì k cần dấu ()), ví dụ: (SO_{4})_{3}\n",
    "    if type(atom) == str:\n",
    "        res = \"%s\" % (atom.capitalize())\n",
    "    else:\n",
    "        res = \"\"\n",
    "        for (atom_i, ni) in atom:\n",
    "            res += get_sub(atom_i, ni)\n",
    "        if n != 1:\n",
    "            res = \"(%s)\" % (res)\n",
    "        else:\n",
    "            res = \"%s\" % (res)\n",
    "    if n != 1:\n",
    "        res += (\"_{%d}\" % (n))\n",
    "    return res\n",
    "\n",
    "\n",
    "# Trả về chỗi LaTeX cho một chất: Fe_2(SO_{4})_{3} cho Fe2(SO4)3\n",
    "def chemical_formula(mol):\n",
    "    # Tách từng nhóm theo chất ban đầu, lấy chuỗi LaTeX bằng get_sub, sau đó gộp lại\n",
    "    return ''.join([get_sub(atom, n) for (atom, n) in mol])\n",
    "\n",
    "# Trả về ước chung lớn nhất của list: [6, 12, 8] -> 2\n",
    "def gdc_list(list):\n",
    "    x = reduce(gcd, list)\n",
    "    if x == 0:\n",
    "        return 1\n",
    "    return x\n",
    "\n",
    "# Trả về bội chung nhỏ nhất của list: [2, 5, 8] -> 40\n",
    "def lcm_list(list):\n",
    "    if len(list):\n",
    "        lcm = list[0]\n",
    "        for i in range(1, len(list)):\n",
    "            lcm = lcm * list[i] // math.gcd(lcm, list[i])\n",
    "        return lcm\n",
    "    else:\n",
    "        return 1\n",
    "\n",
    "# Trả về list các nguyên tố trong một chất: CuSO4 -> [\"cu\"\", \"s\", \"o\"], sử dụng cách gọi đệ quy tương tự như hàm get_sub\n",
    "def get_atom(elem):\n",
    "    if type(elem) == str:\n",
    "        return [elem.lower()]\n",
    "    res = []\n",
    "    for (elem_i, ni) in elem:\n",
    "        res += get_atom(elem_i)\n",
    "    return res\n",
    "\n",
    "# Trả về số lượng của một nguyên tố trong một chất: get_num(\"O\"\", Fe2(SO4)3) -> 12, cũng sử dụng đệ quy\n",
    "def get_num(atom, elem):\n",
    "    res = 0\n",
    "    for (sub_e, n) in elem:\n",
    "        if type(sub_e) == str:\n",
    "            if atom.lower() == sub_e.lower():\n",
    "                return n\n",
    "        else:\n",
    "            res += n * get_num(atom, sub_e)\n",
    "            \n",
    "    return res\n",
    "\n",
    "# Trả về dạng chuỗi của hệ só phương trình, nếu hệ số là 1 thì trả về chuỗi rỗng vì ta không cần ghi\n",
    "def coefficient_to_str(coefficient):\n",
    "    if coefficient == 1:\n",
    "        return \"\"\n",
    "    return str(coefficient)\n",
    "\n",
    "# Kiểm tra xem khi tất cả các giá trị trong sol sau khi thay all_x lần lượt bằng vals có dương hết không\n",
    "def is_good(all_x, vals, sol):\n",
    "    for i in range(len(all_x)):\n",
    "        sol = [re.sub(all_x[i], str(vals[i]), str(x)) for x in sol]\n",
    "    for x in sol:\n",
    "        # Gọi eval để thực thi nghiệm để kiểm tra, nếu bé hơn bằng 0 thì báo False\n",
    "        if eval(x) <= 0:\n",
    "            return [False, sol]\n",
    "    return [True, sol]\n",
    "\n",
    "# Giải ma trận (A|B), nếu có vô số nghiệm thì trả về 1 tập nghiệm nguyên bất kì\n",
    "def solve(A_bar):\n",
    "    R = Gauss_elimination(to_fraction(A_bar), leading1=False)\n",
    "    res = back_substitution(R)\n",
    "\n",
    "    # Tìm tất cả mẫu số trong các nghiệm tìm được\n",
    "    denominators = []\n",
    "    for x in res:\n",
    "        # Dùng regular expression để tìm các chuỗi có dạng /1, /2 -> /(một số nào đó)\n",
    "        tmp = re.findall(r\"/\\d\", str(x))\n",
    "        if tmp:\n",
    "            # tmp có dạng [\"/number\"] -> Lấy phần tử thứ 0, lấy chuỗi từ vị trí thứ 1, chuyển sang số nguyên -> number sau dó gộp vào denominators\n",
    "            denominators.append(int(tmp[0][1:]))\n",
    "\n",
    "    # Tìm bội chung nhỏ nhất từ các mẫu số để quy đồng\n",
    "    lcm = lcm_list(denominators)\n",
    "\n",
    "    # Tìm các ẩn tự do (x4, x3,...) trong các nghiệm tìm được\n",
    "    all_x = []\n",
    "    for x in res:\n",
    "        all_x += re.findall(\"x\\d\", str(x))\n",
    "\n",
    "    # Loại bỏ các ẩn tự do trùng\n",
    "    all_x = list(dict.fromkeys(all_x))\n",
    "\n",
    "    # Tạo một list (vector) 0 với kích thước bằng tổng số ẩn tự do, mỗi phần tử tương ứng sẽ được dùng để thay vào các ẩn tự do bên trên\n",
    "    vals = [0] * len(all_x)\n",
    "\n",
    "    # Thay đổi giá trị của vals bằng các số nguyên random, sao cho tất cả các nghiệm tìm được đều DƯƠNG khi thay vals vào\n",
    "    while True:\n",
    "        req = is_good(all_x, vals, res)\n",
    "        if req[0]:\n",
    "            res = req[1]\n",
    "            break\n",
    "        vals = np.random.randint(0, 50, len(all_x))\n",
    "\n",
    "    # Sau khi các ẩn tự do trong res đã được thay bằng vals, gọi eval để tính giá trị, sau đó nhân với bội chung (lcm) để quy đồng cho nguyên, rồi chuyển sang số nguyên rồi cập nhận lại res\n",
    "    res = [int(eval(str(x)) * lcm) for x in res]\n",
    "\n",
    "    # Tìm ước chung nhỏ nhất từ các nghiệm mới vừa tính xong, vì sau khi nhân có thể chúng sẽ không tối giản\n",
    "    gcd = gdc_list(res)\n",
    "\n",
    "    # Sau khi tìm được gcd, ta sẽ chia lại tập nghiệm lần nữa cho tối giản\n",
    "    res = [int(x / gcd) for x in res]\n",
    "\n",
    "    # Trả về tập nghiệm cuối cùng\n",
    "    return res\n",
    "\n",
    "# Trả về chuỗi LaTeX của phản ứng sau khi đã cân bằng\n",
    "def balance_chemical_equation(lhs, rhs):\n",
    "    # Tìm tất cả các nguyên tố có trong phương trình (lhs tương tự rhs theo bảo toàn nguyên tố)\n",
    "    all_atom = []\n",
    "    for elem in lhs:\n",
    "        all_atom += get_atom(elem)\n",
    "\n",
    "    # Loại bỏ các nguyên tố trùng do các chất có thể có nguyên tố giống nhau\n",
    "    all_atom = list(dict.fromkeys(all_atom))\n",
    "\n",
    "    # Tạo ma trận A_bar = (A|B) = (left - right | 0)\n",
    "    A_bar = []\n",
    "    for atom in all_atom:\n",
    "        left = []\n",
    "        for elem in lhs:\n",
    "            left.append(get_num(atom, elem))\n",
    "\n",
    "        right = []\n",
    "        for elem in rhs:\n",
    "            # Chuyển sang vế trái nên đổi dấu\n",
    "            right.append(-get_num(atom, elem))\n",
    "        \n",
    "        row = left + right\n",
    "        row.append(0)\n",
    "\n",
    "        A_bar.append(row)\n",
    "\n",
    "    # Tìm tập nghiệm nguyên bất kì thoả mãn, đây sẽ là hệ số của cả phương trình từ trái sang phải\n",
    "    res = solve(A_bar)\n",
    "\n",
    "    # Gán chỉ số vào trước các chất\n",
    "    lhs = [coefficient_to_str(x) + y for x, y in zip(res, map(chemical_formula, lhs))]\n",
    "    rhs = [coefficient_to_str(x) + y for x, y in zip(res[len(lhs):], map(chemical_formula, rhs))]\n",
    "\n",
    "    # Gộp theo vế phương trình với dấu + giữa các chất\n",
    "    l = \"+\".join(lhs)\n",
    "    r = \"+\".join(rhs)\n",
    "\n",
    "    # Trả về phương trình đã được cân bằng\n",
    "    return l + r\" \\to \" + r"
   ]
  },
  {
   "cell_type": "code",
   "execution_count": 80,
   "metadata": {},
   "outputs": [],
   "source": [
    "# ---------------------------------------------\n",
    "# Khai báo một số chất\n",
    "\n",
    "FeSO4 = [(\"fe\", 1), ([(\"s\", 1), (\"o\", 4)], 1)]\n",
    "KMnO4 = [(\"k\", 1), (\"mn\", 1), (\"o\", 4)]\n",
    "H2O = [(\"H\", 2), (\"O\", 1)]\n",
    "MnO2 = [(\"mn\", 1), (\"o\", 2)]\n",
    "Fe2_SO4_3 = [(\"fe\", 2), ([(\"s\", 1), (\"o\", 4)], 3)]\n",
    "Fe_OH3 = [(\"fe\", 1), ([(\"o\", 1), (\"h\", 1)], 3)]\n",
    "K2SO4 = [(\"k\", 2), ([(\"s\", 1), (\"o\", 4)], 1)]\n",
    "CuFeS2 = [(\"cu\", 1), (\"fe\", 1), (\"s\", 2)]\n",
    "O2 = [(\"o\", 2)]\n",
    "CuSO4 = [(\"cu\", 1), ([(\"s\", 1), (\"o\", 4)], 1)]\n",
    "H2SO4 = [(\"h\", 2), ([(\"s\", 1), (\"o\", 4)], 1)]\n",
    "Al_OH3 = [(\"Al\", 1), ([(\"O\", 1), (\"H\", 1)], 3)]\n",
    "Al2_SO4_3 = [(\"Al\", 2), ([(\"S\", 1), (\"O\", 4)], 3)]\n",
    "\n",
    "# ---------------------------------------------"
   ]
  },
  {
   "cell_type": "code",
   "execution_count": 101,
   "metadata": {},
   "outputs": [
    {
     "output_type": "execute_result",
     "data": {
      "text/plain": "<IPython.core.display.Latex object>",
      "text/latex": "$2Al(OH)_{3}+3H_{2}SO_{4} \\to Al_{2}(SO_{4})_{3}+6H_{2}O$"
     },
     "metadata": {},
     "execution_count": 101
    }
   ],
   "source": [
    "# Phương trình 1: (Phương trình có 1 ẩn tự do)\n",
    "# 2Al(OH)3 + 3H2SO4 -> Al2(SO4)3 + 6H2O\n",
    "\n",
    "equation = balance_chemical_equation([Al_OH3, H2SO4], [Al2_SO4_3, H2O])\n",
    "Latex(\"$\" + equation + \"$\")"
   ]
  },
  {
   "cell_type": "code",
   "execution_count": 108,
   "metadata": {},
   "outputs": [
    {
     "output_type": "execute_result",
     "data": {
      "text/plain": "<IPython.core.display.Latex object>",
      "text/latex": "$18FeSO_{4}+6KMnO_{4}+12H_{2}O \\to 6MnO_{2}+5Fe_{2}(SO_{4})_{3}+8Fe(OH)_{3}+3K_{2}SO_{4}$"
     },
     "metadata": {},
     "execution_count": 108
    }
   ],
   "source": [
    "# Phương trình 2: (Phương trình có 1 ẩn tụ do))\n",
    "# 18FeSO4 + 6KMnO4 + 12H2O -> 6MnO2 + 5Fe2(SO4)3 + 8Fe(OH)3 + 3K2SO4\n",
    "\n",
    "equation = balance_chemical_equation([FeSO4, KMnO4, H2O], [MnO2, Fe2_SO4_3, Fe_OH3, K2SO4])\n",
    "Latex(\"$\" + equation + \"$\")"
   ]
  },
  {
   "cell_type": "code",
   "execution_count": 172,
   "metadata": {},
   "outputs": [
    {
     "output_type": "execute_result",
     "data": {
      "text/plain": "<IPython.core.display.Latex object>",
      "text/latex": "$3CuFeS_{2}+8Fe_{2}(SO_{4})_{3}+8O_{2}+8H_{2}O \\to 3CuSO_{4}+19FeSO_{4}+8H_{2}SO_{4}$"
     },
     "metadata": {},
     "execution_count": 172
    }
   ],
   "source": [
    "# Phương trình 3: (Phương trình có 2 ẩn tự do)\n",
    "# 3CuFeS2 + 8Fe2(SO4)3 + 8O2 + 8H2O -> 3CuSO4 + 19FeSO4 + 8H2SO4\n",
    "\n",
    "equation = balance_chemical_equation([CuFeS2, Fe2_SO4_3, O2, H2O], [CuSO4, FeSO4, H2SO4])\n",
    "Latex(\"$\" + equation + \"$\")"
   ]
  },
  {
   "cell_type": "code",
   "execution_count": null,
   "metadata": {},
   "outputs": [],
   "source": []
  }
 ],
 "metadata": {
  "kernelspec": {
   "display_name": "Python 3",
   "language": "python",
   "name": "python3"
  },
  "language_info": {
   "codemirror_mode": {
    "name": "ipython",
    "version": 3
   },
   "file_extension": ".py",
   "mimetype": "text/x-python",
   "name": "python",
   "nbconvert_exporter": "python",
   "pygments_lexer": "ipython3",
   "version": "3.7.6"
  }
 },
 "nbformat": 4,
 "nbformat_minor": 4
}