{
 "cells": [
  {
   "cell_type": "markdown",
   "metadata": {},
   "source": [
    "### Import Libraries"
   ]
  },
  {
   "cell_type": "code",
   "execution_count": 241,
   "metadata": {
    "collapsed": false
   },
   "outputs": [
    {
     "name": "stdout",
     "output_type": "stream",
     "text": [
      "Populating the interactive namespace from numpy and matplotlib\n"
     ]
    }
   ],
   "source": [
    "import pandas as pd\n",
    "import numpy as np\n",
    "import requests\n",
    "from lxml import html\n",
    "import warnings\n",
    "warnings.filterwarnings('ignore')\n",
    "%pylab inline"
   ]
  },
  {
   "cell_type": "markdown",
   "metadata": {},
   "source": [
    "### Scrap The HTML Response"
   ]
  },
  {
   "cell_type": "code",
   "execution_count": 181,
   "metadata": {
    "collapsed": false
   },
   "outputs": [],
   "source": [
    "response = requests.get('http://news.ycombinator.com/')"
   ]
  },
  {
   "cell_type": "code",
   "execution_count": 182,
   "metadata": {
    "collapsed": false
   },
   "outputs": [],
   "source": [
    "response.content\n",
    "page = html.fromstring(response.content)"
   ]
  },
  {
   "cell_type": "markdown",
   "metadata": {},
   "source": [
    "### Pulling the Number of Comments From The Top 30 Topics On The Site"
   ]
  },
  {
   "cell_type": "code",
   "execution_count": 217,
   "metadata": {
    "collapsed": false
   },
   "outputs": [
    {
     "data": {
      "text/plain": [
       "30"
      ]
     },
     "execution_count": 217,
     "metadata": {},
     "output_type": "execute_result"
    }
   ],
   "source": [
    "comm= []\n",
    "test = page.xpath('//td[contains(@class,\"subtext\")]/a')\n",
    "for i in range(0,len(test)):\n",
    "    if 'hide' in test[i].text:\n",
    "        if 'comment' in test[i+1].text:\n",
    "            comm.append(int(test[i+1].text.split()[0]))\n",
    "        else:\n",
    "            comm.append(int(\"0\"))\n",
    "#     print test[i].text\n",
    "len(comm)"
   ]
  },
  {
   "cell_type": "markdown",
   "metadata": {},
   "source": [
    "### Pulling the Number of Points From The Top 30 Topics On The Site"
   ]
  },
  {
   "cell_type": "code",
   "execution_count": 218,
   "metadata": {
    "collapsed": false
   },
   "outputs": [],
   "source": [
    "points = page.xpath('//span[contains(@class, \"score\")]')\n",
    "len(points)\n",
    "for i in range(0,len(points)):\n",
    "    points[i] = int(points[i].text.split()[0])"
   ]
  },
  {
   "cell_type": "markdown",
   "metadata": {},
   "source": [
    "### Pulling the Time Since The Top 30 Topics Were Posted On The Site"
   ]
  },
  {
   "cell_type": "code",
   "execution_count": 219,
   "metadata": {
    "collapsed": false
   },
   "outputs": [],
   "source": [
    "timer = page.xpath('//td//span[contains(@class, \"age\")]/a')\n",
    "timer = timer[7:]\n",
    "len(timer)\n",
    "for i in range(0,len(timer)):\n",
    "    timer[i] = int(timer[i].text.split()[0])"
   ]
  },
  {
   "cell_type": "markdown",
   "metadata": {},
   "source": [
    "### Pull The Topics and It's Reference From The Site"
   ]
  },
  {
   "cell_type": "code",
   "execution_count": 221,
   "metadata": {
    "collapsed": false
   },
   "outputs": [
    {
     "data": {
      "text/plain": [
       "31"
      ]
     },
     "execution_count": 221,
     "metadata": {},
     "output_type": "execute_result"
    }
   ],
   "source": [
    "posts = page.xpath('//td[contains(@class, \"title\")]/a')\n",
    "len(posts)\n",
    "all_links = []\n",
    "for p in posts:\n",
    "    all_links.append((p.text, p.attrib[\"href\"]))\n",
    "len(all_links)"
   ]
  },
  {
   "cell_type": "markdown",
   "metadata": {},
   "source": [
    "### Build Dataframe With All The Pulled Data"
   ]
  },
  {
   "cell_type": "code",
   "execution_count": 242,
   "metadata": {
    "collapsed": false
   },
   "outputs": [],
   "source": [
    "df = pd.DataFrame(all_links)\n",
    "df = df[:-1] # Contains 'More'"
   ]
  },
  {
   "cell_type": "code",
   "execution_count": 243,
   "metadata": {
    "collapsed": false
   },
   "outputs": [],
   "source": [
    "df['Time'] = timer\n",
    "df['Points'] = points\n",
    "df['Title'] = df[0]\n",
    "df['URL'] = df[1]\n",
    "df['Comments'] = comm\n",
    "df['Rank'] = df.index+1\n",
    "df = df[['Rank','Title', 'Time', 'Points','Comments', 'URL']]"
   ]
  },
  {
   "cell_type": "code",
   "execution_count": 244,
   "metadata": {
    "collapsed": false
   },
   "outputs": [
    {
     "data": {
      "text/html": [
       "<div>\n",
       "<table border=\"1\" class=\"dataframe\">\n",
       "  <thead>\n",
       "    <tr style=\"text-align: right;\">\n",
       "      <th></th>\n",
       "      <th>Rank</th>\n",
       "      <th>Title</th>\n",
       "      <th>Time</th>\n",
       "      <th>Points</th>\n",
       "      <th>Comments</th>\n",
       "      <th>URL</th>\n",
       "    </tr>\n",
       "  </thead>\n",
       "  <tbody>\n",
       "    <tr>\n",
       "      <th>0</th>\n",
       "      <td>1</td>\n",
       "      <td>DMCA exemptions for modifications and research...</td>\n",
       "      <td>5</td>\n",
       "      <td>164</td>\n",
       "      <td>36</td>\n",
       "      <td>http://ifixit.org/blog/8510/car-repair-illegal...</td>\n",
       "    </tr>\n",
       "    <tr>\n",
       "      <th>1</th>\n",
       "      <td>2</td>\n",
       "      <td>Donât go to art school (2013)</td>\n",
       "      <td>8</td>\n",
       "      <td>205</td>\n",
       "      <td>138</td>\n",
       "      <td>https://medium.com/i-m-h-o/dont-go-to-art-scho...</td>\n",
       "    </tr>\n",
       "    <tr>\n",
       "      <th>2</th>\n",
       "      <td>3</td>\n",
       "      <td>Adaptive Hardware: Context Aware Interfaces (2...</td>\n",
       "      <td>6</td>\n",
       "      <td>85</td>\n",
       "      <td>28</td>\n",
       "      <td>https://www.microsoft.com/appliedsciences/cont...</td>\n",
       "    </tr>\n",
       "    <tr>\n",
       "      <th>3</th>\n",
       "      <td>4</td>\n",
       "      <td>Intel driven MacBook Pros have secondary ARM p...</td>\n",
       "      <td>12</td>\n",
       "      <td>229</td>\n",
       "      <td>106</td>\n",
       "      <td>https://techcrunch.com/2016/10/28/apples-new-i...</td>\n",
       "    </tr>\n",
       "    <tr>\n",
       "      <th>4</th>\n",
       "      <td>5</td>\n",
       "      <td>Doubts About the Promised Bounty of Geneticall...</td>\n",
       "      <td>5</td>\n",
       "      <td>47</td>\n",
       "      <td>38</td>\n",
       "      <td>http://www.nytimes.com/2016/10/30/business/gmo...</td>\n",
       "    </tr>\n",
       "    <tr>\n",
       "      <th>5</th>\n",
       "      <td>6</td>\n",
       "      <td>Total Nightmare: USB-C and Thunderbolt 3</td>\n",
       "      <td>12</td>\n",
       "      <td>652</td>\n",
       "      <td>357</td>\n",
       "      <td>http://blog.fosketts.net/2016/10/29/total-nigh...</td>\n",
       "    </tr>\n",
       "    <tr>\n",
       "      <th>6</th>\n",
       "      <td>7</td>\n",
       "      <td>Thomas Piketty's Capital in the 21st Century, ...</td>\n",
       "      <td>13</td>\n",
       "      <td>219</td>\n",
       "      <td>147</td>\n",
       "      <td>http://boingboing.net/2014/10/23/thomas-pikett...</td>\n",
       "    </tr>\n",
       "    <tr>\n",
       "      <th>7</th>\n",
       "      <td>8</td>\n",
       "      <td>Step-by-step tutorial to build a modern JavaSc...</td>\n",
       "      <td>14</td>\n",
       "      <td>220</td>\n",
       "      <td>121</td>\n",
       "      <td>https://github.com/verekia/js-stack-from-scratch</td>\n",
       "    </tr>\n",
       "    <tr>\n",
       "      <th>8</th>\n",
       "      <td>9</td>\n",
       "      <td>Photographers of 1870s London Documented Their...</td>\n",
       "      <td>13</td>\n",
       "      <td>146</td>\n",
       "      <td>17</td>\n",
       "      <td>http://hyperallergic.com/299912/the-photograph...</td>\n",
       "    </tr>\n",
       "    <tr>\n",
       "      <th>9</th>\n",
       "      <td>10</td>\n",
       "      <td>Frink â A practical calculating tool and pro...</td>\n",
       "      <td>10</td>\n",
       "      <td>72</td>\n",
       "      <td>11</td>\n",
       "      <td>https://frinklang.org</td>\n",
       "    </tr>\n",
       "    <tr>\n",
       "      <th>10</th>\n",
       "      <td>11</td>\n",
       "      <td>GraphicsMagick Image Processing System</td>\n",
       "      <td>14</td>\n",
       "      <td>139</td>\n",
       "      <td>37</td>\n",
       "      <td>http://www.graphicsmagick.org/index.html</td>\n",
       "    </tr>\n",
       "    <tr>\n",
       "      <th>11</th>\n",
       "      <td>12</td>\n",
       "      <td>Dear Matt Mullenweg: An Open Letter from Wix.c...</td>\n",
       "      <td>8</td>\n",
       "      <td>142</td>\n",
       "      <td>90</td>\n",
       "      <td>http://www.wix.com/blog/2016/10/dear-matt-mull...</td>\n",
       "    </tr>\n",
       "    <tr>\n",
       "      <th>12</th>\n",
       "      <td>13</td>\n",
       "      <td>Something magical happened to me today, and I ...</td>\n",
       "      <td>2</td>\n",
       "      <td>54</td>\n",
       "      <td>15</td>\n",
       "      <td>https://twitter.com/mwichary/status/7917098950...</td>\n",
       "    </tr>\n",
       "    <tr>\n",
       "      <th>13</th>\n",
       "      <td>14</td>\n",
       "      <td>ICANNâs First Test of Accountability</td>\n",
       "      <td>12</td>\n",
       "      <td>75</td>\n",
       "      <td>18</td>\n",
       "      <td>https://afilias.info/blogs/web-icanns-first-te...</td>\n",
       "    </tr>\n",
       "    <tr>\n",
       "      <th>14</th>\n",
       "      <td>15</td>\n",
       "      <td>Yasha Levine: Interview about Tor, spies and t...</td>\n",
       "      <td>5</td>\n",
       "      <td>14</td>\n",
       "      <td>5</td>\n",
       "      <td>https://surveillancevalley.net/blog/interview-...</td>\n",
       "    </tr>\n",
       "    <tr>\n",
       "      <th>15</th>\n",
       "      <td>16</td>\n",
       "      <td>Universal adversarial perturbations</td>\n",
       "      <td>12</td>\n",
       "      <td>85</td>\n",
       "      <td>29</td>\n",
       "      <td>https://arxiv.org/abs/1610.08401</td>\n",
       "    </tr>\n",
       "    <tr>\n",
       "      <th>16</th>\n",
       "      <td>17</td>\n",
       "      <td>ESPN Loses 621,000 Subscribers; Worst Month in...</td>\n",
       "      <td>12</td>\n",
       "      <td>287</td>\n",
       "      <td>362</td>\n",
       "      <td>http://www.outkickthecoverage.com/espn-loses-6...</td>\n",
       "    </tr>\n",
       "    <tr>\n",
       "      <th>17</th>\n",
       "      <td>18</td>\n",
       "      <td>The Science of Eggs</td>\n",
       "      <td>10</td>\n",
       "      <td>39</td>\n",
       "      <td>13</td>\n",
       "      <td>http://luckypeach.com/the-science-of-eggs/</td>\n",
       "    </tr>\n",
       "    <tr>\n",
       "      <th>18</th>\n",
       "      <td>19</td>\n",
       "      <td>Strategies of Human Mating (2006) [pdf]</td>\n",
       "      <td>11</td>\n",
       "      <td>83</td>\n",
       "      <td>33</td>\n",
       "      <td>http://www.weimag.ch/micha/dc/05_Buss_Strategi...</td>\n",
       "    </tr>\n",
       "    <tr>\n",
       "      <th>19</th>\n",
       "      <td>20</td>\n",
       "      <td>Seattle: Highest Minimum Wage, Lowest Unemploy...</td>\n",
       "      <td>7</td>\n",
       "      <td>91</td>\n",
       "      <td>47</td>\n",
       "      <td>http://ritholtz.com/2016/10/seattle-highest-mi...</td>\n",
       "    </tr>\n",
       "    <tr>\n",
       "      <th>20</th>\n",
       "      <td>21</td>\n",
       "      <td>Turned down 18 times. Then Paul Beatty won the...</td>\n",
       "      <td>11</td>\n",
       "      <td>38</td>\n",
       "      <td>6</td>\n",
       "      <td>https://www.theguardian.com/books/2016/oct/26/...</td>\n",
       "    </tr>\n",
       "    <tr>\n",
       "      <th>21</th>\n",
       "      <td>22</td>\n",
       "      <td>EasyMVP â Android library with annotation pr...</td>\n",
       "      <td>13</td>\n",
       "      <td>48</td>\n",
       "      <td>6</td>\n",
       "      <td>https://github.com/6thsolution/EasyMVP</td>\n",
       "    </tr>\n",
       "    <tr>\n",
       "      <th>22</th>\n",
       "      <td>23</td>\n",
       "      <td>Is Vue.js easier for a beginner to learn than ...</td>\n",
       "      <td>54</td>\n",
       "      <td>4</td>\n",
       "      <td>0</td>\n",
       "      <td>https://medium.com/js-dojo/vue-js-is-easier-to...</td>\n",
       "    </tr>\n",
       "    <tr>\n",
       "      <th>23</th>\n",
       "      <td>24</td>\n",
       "      <td>Show HN: React-decoration â A collection of ...</td>\n",
       "      <td>13</td>\n",
       "      <td>36</td>\n",
       "      <td>5</td>\n",
       "      <td>https://github.com/mbasso/react-decoration/rel...</td>\n",
       "    </tr>\n",
       "    <tr>\n",
       "      <th>24</th>\n",
       "      <td>25</td>\n",
       "      <td>A Map of the World Won Japanâs Prestigious D...</td>\n",
       "      <td>17</td>\n",
       "      <td>210</td>\n",
       "      <td>90</td>\n",
       "      <td>http://www.spoon-tamago.com/2016/10/28/hajime-...</td>\n",
       "    </tr>\n",
       "    <tr>\n",
       "      <th>25</th>\n",
       "      <td>26</td>\n",
       "      <td>A Learned Representation for Artistic Style</td>\n",
       "      <td>13</td>\n",
       "      <td>37</td>\n",
       "      <td>2</td>\n",
       "      <td>https://arxiv.org/abs/1610.07629</td>\n",
       "    </tr>\n",
       "    <tr>\n",
       "      <th>26</th>\n",
       "      <td>27</td>\n",
       "      <td>AMD 2013 APUs to Include ARM Cortex-A5 Process...</td>\n",
       "      <td>10</td>\n",
       "      <td>40</td>\n",
       "      <td>3</td>\n",
       "      <td>http://www.anandtech.com/show/6007/amd-2013-ap...</td>\n",
       "    </tr>\n",
       "    <tr>\n",
       "      <th>27</th>\n",
       "      <td>28</td>\n",
       "      <td>Powerwall 2 and Integrated Solar</td>\n",
       "      <td>1</td>\n",
       "      <td>470</td>\n",
       "      <td>294</td>\n",
       "      <td>https://powerwall.tesla.com/?powerwall2</td>\n",
       "    </tr>\n",
       "    <tr>\n",
       "      <th>28</th>\n",
       "      <td>29</td>\n",
       "      <td>How I Became HackerRank 1 in Two Hours</td>\n",
       "      <td>8</td>\n",
       "      <td>264</td>\n",
       "      <td>236</td>\n",
       "      <td>http://williampross.com/became-hackerrank-1-tw...</td>\n",
       "    </tr>\n",
       "    <tr>\n",
       "      <th>29</th>\n",
       "      <td>30</td>\n",
       "      <td>Eve: Programming designed for humans</td>\n",
       "      <td>1</td>\n",
       "      <td>982</td>\n",
       "      <td>361</td>\n",
       "      <td>http://programming.witheve.com/</td>\n",
       "    </tr>\n",
       "  </tbody>\n",
       "</table>\n",
       "</div>"
      ],
      "text/plain": [
       "    Rank                                              Title  Time  Points  \\\n",
       "0      1  DMCA exemptions for modifications and research...     5     164   \n",
       "1      2                    Donât go to art school (2013)     8     205   \n",
       "2      3  Adaptive Hardware: Context Aware Interfaces (2...     6      85   \n",
       "3      4  Intel driven MacBook Pros have secondary ARM p...    12     229   \n",
       "4      5  Doubts About the Promised Bounty of Geneticall...     5      47   \n",
       "5      6           Total Nightmare: USB-C and Thunderbolt 3    12     652   \n",
       "6      7  Thomas Piketty's Capital in the 21st Century, ...    13     219   \n",
       "7      8  Step-by-step tutorial to build a modern JavaSc...    14     220   \n",
       "8      9  Photographers of 1870s London Documented Their...    13     146   \n",
       "9     10  Frink â A practical calculating tool and pro...    10      72   \n",
       "10    11             GraphicsMagick Image Processing System    14     139   \n",
       "11    12  Dear Matt Mullenweg: An Open Letter from Wix.c...     8     142   \n",
       "12    13  Something magical happened to me today, and I ...     2      54   \n",
       "13    14             ICANNâs First Test of Accountability    12      75   \n",
       "14    15  Yasha Levine: Interview about Tor, spies and t...     5      14   \n",
       "15    16                Universal adversarial perturbations    12      85   \n",
       "16    17  ESPN Loses 621,000 Subscribers; Worst Month in...    12     287   \n",
       "17    18                                The Science of Eggs    10      39   \n",
       "18    19            Strategies of Human Mating (2006) [pdf]    11      83   \n",
       "19    20  Seattle: Highest Minimum Wage, Lowest Unemploy...     7      91   \n",
       "20    21  Turned down 18 times. Then Paul Beatty won the...    11      38   \n",
       "21    22  EasyMVP â Android library with annotation pr...    13      48   \n",
       "22    23  Is Vue.js easier for a beginner to learn than ...    54       4   \n",
       "23    24  Show HN: React-decoration â A collection of ...    13      36   \n",
       "24    25  A Map of the World Won Japanâs Prestigious D...    17     210   \n",
       "25    26        A Learned Representation for Artistic Style    13      37   \n",
       "26    27  AMD 2013 APUs to Include ARM Cortex-A5 Process...    10      40   \n",
       "27    28                   Powerwall 2 and Integrated Solar     1     470   \n",
       "28    29             How I Became HackerRank 1 in Two Hours     8     264   \n",
       "29    30               Eve: Programming designed for humans     1     982   \n",
       "\n",
       "    Comments                                                URL  \n",
       "0         36  http://ifixit.org/blog/8510/car-repair-illegal...  \n",
       "1        138  https://medium.com/i-m-h-o/dont-go-to-art-scho...  \n",
       "2         28  https://www.microsoft.com/appliedsciences/cont...  \n",
       "3        106  https://techcrunch.com/2016/10/28/apples-new-i...  \n",
       "4         38  http://www.nytimes.com/2016/10/30/business/gmo...  \n",
       "5        357  http://blog.fosketts.net/2016/10/29/total-nigh...  \n",
       "6        147  http://boingboing.net/2014/10/23/thomas-pikett...  \n",
       "7        121   https://github.com/verekia/js-stack-from-scratch  \n",
       "8         17  http://hyperallergic.com/299912/the-photograph...  \n",
       "9         11                              https://frinklang.org  \n",
       "10        37           http://www.graphicsmagick.org/index.html  \n",
       "11        90  http://www.wix.com/blog/2016/10/dear-matt-mull...  \n",
       "12        15  https://twitter.com/mwichary/status/7917098950...  \n",
       "13        18  https://afilias.info/blogs/web-icanns-first-te...  \n",
       "14         5  https://surveillancevalley.net/blog/interview-...  \n",
       "15        29                   https://arxiv.org/abs/1610.08401  \n",
       "16       362  http://www.outkickthecoverage.com/espn-loses-6...  \n",
       "17        13         http://luckypeach.com/the-science-of-eggs/  \n",
       "18        33  http://www.weimag.ch/micha/dc/05_Buss_Strategi...  \n",
       "19        47  http://ritholtz.com/2016/10/seattle-highest-mi...  \n",
       "20         6  https://www.theguardian.com/books/2016/oct/26/...  \n",
       "21         6             https://github.com/6thsolution/EasyMVP  \n",
       "22         0  https://medium.com/js-dojo/vue-js-is-easier-to...  \n",
       "23         5  https://github.com/mbasso/react-decoration/rel...  \n",
       "24        90  http://www.spoon-tamago.com/2016/10/28/hajime-...  \n",
       "25         2                   https://arxiv.org/abs/1610.07629  \n",
       "26         3  http://www.anandtech.com/show/6007/amd-2013-ap...  \n",
       "27       294            https://powerwall.tesla.com/?powerwall2  \n",
       "28       236  http://williampross.com/became-hackerrank-1-tw...  \n",
       "29       361                    http://programming.witheve.com/  "
      ]
     },
     "execution_count": 244,
     "metadata": {},
     "output_type": "execute_result"
    }
   ],
   "source": [
    "df"
   ]
  },
  {
   "cell_type": "markdown",
   "metadata": {},
   "source": [
    "# Deliverable: Implemented getExperiencePointsNow()\n",
    "\n",
    "Takes an average of the points and prints it as per format given."
   ]
  },
  {
   "cell_type": "code",
   "execution_count": 232,
   "metadata": {
    "collapsed": false
   },
   "outputs": [
    {
     "name": "stdout",
     "output_type": "stream",
     "text": [
      "Average experience now: 172.57\n"
     ]
    }
   ],
   "source": [
    "def getExperiencePointsNow():\n",
    "    avgScore = df.Points.mean()\n",
    "    print \"Average experience now: %.2f\" % (avgScore)\n",
    "     \n",
    "getExperiencePointsNow()   "
   ]
  },
  {
   "cell_type": "markdown",
   "metadata": {},
   "source": [
    "# Deliverable: Ask a Good Question & Answer it from the Hacker News front page\n",
    "\n",
    "### Question: Do the Most Commented Posts Get a Good Ranking or a Good Score?"
   ]
  },
  {
   "cell_type": "code",
   "execution_count": 228,
   "metadata": {
    "collapsed": false
   },
   "outputs": [
    {
     "data": {
      "text/plain": [
       "<matplotlib.axes._subplots.AxesSubplot at 0x111543310>"
      ]
     },
     "execution_count": 228,
     "metadata": {},
     "output_type": "execute_result"
    },
    {
     "data": {
      "image/png": "[encoded data removed]",
      "text/plain": [
       "<matplotlib.figure.Figure at 0x1100d61d0>"
      ]
     },
     "metadata": {},
     "output_type": "display_data"
    }
   ],
   "source": [
    "df.plot()"
   ]
  },
  {
   "cell_type": "code",
   "execution_count": 227,
   "metadata": {
    "collapsed": false
   },
   "outputs": [
    {
     "data": {
      "text/html": [
       "<div>\n",
       "<table border=\"1\" class=\"dataframe\">\n",
       "  <thead>\n",
       "    <tr style=\"text-align: right;\">\n",
       "      <th></th>\n",
       "      <th>Rank</th>\n",
       "      <th>Time</th>\n",
       "      <th>Points</th>\n",
       "      <th>Comments</th>\n",
       "    </tr>\n",
       "  </thead>\n",
       "  <tbody>\n",
       "    <tr>\n",
       "      <th>Rank</th>\n",
       "      <td>1.000000</td>\n",
       "      <td>0.127772</td>\n",
       "      <td>0.130085</td>\n",
       "      <td>0.115441</td>\n",
       "    </tr>\n",
       "    <tr>\n",
       "      <th>Time</th>\n",
       "      <td>0.127772</td>\n",
       "      <td>1.000000</td>\n",
       "      <td>-0.268756</td>\n",
       "      <td>-0.224312</td>\n",
       "    </tr>\n",
       "    <tr>\n",
       "      <th>Points</th>\n",
       "      <td>0.130085</td>\n",
       "      <td>-0.268756</td>\n",
       "      <td>1.000000</td>\n",
       "      <td>0.873366</td>\n",
       "    </tr>\n",
       "    <tr>\n",
       "      <th>Comments</th>\n",
       "      <td>0.115441</td>\n",
       "      <td>-0.224312</td>\n",
       "      <td>0.873366</td>\n",
       "      <td>1.000000</td>\n",
       "    </tr>\n",
       "  </tbody>\n",
       "</table>\n",
       "</div>"
      ],
      "text/plain": [
       "              Rank      Time    Points  Comments\n",
       "Rank      1.000000  0.127772  0.130085  0.115441\n",
       "Time      0.127772  1.000000 -0.268756 -0.224312\n",
       "Points    0.130085 -0.268756  1.000000  0.873366\n",
       "Comments  0.115441 -0.224312  0.873366  1.000000"
      ]
     },
     "execution_count": 227,
     "metadata": {},
     "output_type": "execute_result"
    }
   ],
   "source": [
    "df.corr()"
   ]
  },
  {
   "cell_type": "markdown",
   "metadata": {},
   "source": [
    "## Answer:\n",
    "From the above table, we can see that the Posts that have the most comments usually have more points because users will definitely voice their opinion based on the vote they've given it. \n",
    "\n",
    "# Deliverable: Explain How Articles Get Ranked & Pushed to Frontpage of Hacker News\n",
    "There's no correlation between Popularity (Votes or Comments) and Ranking. Rather, ranking has it's best correlation with Time where a posts more recently posted is more likely to be on the front page."
   ]
  },
  {
   "cell_type": "markdown",
   "metadata": {},
   "source": [
    "# Deliverable: Top 10 articles by points"
   ]
  },
  {
   "cell_type": "code",
   "execution_count": 236,
   "metadata": {
    "collapsed": false
   },
   "outputs": [
    {
     "data": {
      "text/html": [
       "<div>\n",
       "<table border=\"1\" class=\"dataframe\">\n",
       "  <thead>\n",
       "    <tr style=\"text-align: right;\">\n",
       "      <th></th>\n",
       "      <th>Title</th>\n",
       "      <th>Points</th>\n",
       "    </tr>\n",
       "  </thead>\n",
       "  <tbody>\n",
       "    <tr>\n",
       "      <th>29</th>\n",
       "      <td>Eve: Programming designed for humans</td>\n",
       "      <td>982</td>\n",
       "    </tr>\n",
       "    <tr>\n",
       "      <th>5</th>\n",
       "      <td>Total Nightmare: USB-C and Thunderbolt 3</td>\n",
       "      <td>652</td>\n",
       "    </tr>\n",
       "    <tr>\n",
       "      <th>27</th>\n",
       "      <td>Powerwall 2 and Integrated Solar</td>\n",
       "      <td>470</td>\n",
       "    </tr>\n",
       "    <tr>\n",
       "      <th>16</th>\n",
       "      <td>ESPN Loses 621,000 Subscribers; Worst Month in...</td>\n",
       "      <td>287</td>\n",
       "    </tr>\n",
       "    <tr>\n",
       "      <th>28</th>\n",
       "      <td>How I Became HackerRank 1 in Two Hours</td>\n",
       "      <td>264</td>\n",
       "    </tr>\n",
       "    <tr>\n",
       "      <th>3</th>\n",
       "      <td>Intel driven MacBook Pros have secondary ARM p...</td>\n",
       "      <td>229</td>\n",
       "    </tr>\n",
       "    <tr>\n",
       "      <th>7</th>\n",
       "      <td>Step-by-step tutorial to build a modern JavaSc...</td>\n",
       "      <td>220</td>\n",
       "    </tr>\n",
       "    <tr>\n",
       "      <th>6</th>\n",
       "      <td>Thomas Piketty's Capital in the 21st Century, ...</td>\n",
       "      <td>219</td>\n",
       "    </tr>\n",
       "    <tr>\n",
       "      <th>24</th>\n",
       "      <td>A Map of the World Won Japanâs Prestigious D...</td>\n",
       "      <td>210</td>\n",
       "    </tr>\n",
       "    <tr>\n",
       "      <th>1</th>\n",
       "      <td>Donât go to art school (2013)</td>\n",
       "      <td>205</td>\n",
       "    </tr>\n",
       "  </tbody>\n",
       "</table>\n",
       "</div>"
      ],
      "text/plain": [
       "                                                Title  Points\n",
       "29               Eve: Programming designed for humans     982\n",
       "5            Total Nightmare: USB-C and Thunderbolt 3     652\n",
       "27                   Powerwall 2 and Integrated Solar     470\n",
       "16  ESPN Loses 621,000 Subscribers; Worst Month in...     287\n",
       "28             How I Became HackerRank 1 in Two Hours     264\n",
       "3   Intel driven MacBook Pros have secondary ARM p...     229\n",
       "7   Step-by-step tutorial to build a modern JavaSc...     220\n",
       "6   Thomas Piketty's Capital in the 21st Century, ...     219\n",
       "24  A Map of the World Won Japanâs Prestigious D...     210\n",
       "1                     Donât go to art school (2013)     205"
      ]
     },
     "execution_count": 236,
     "metadata": {},
     "output_type": "execute_result"
    }
   ],
   "source": [
    "top_Points = df[['Title','Points']].sort_values(by=\"Points\", ascending= False).head(10)\n",
    "top_Points"
   ]
  },
  {
   "cell_type": "markdown",
   "metadata": {},
   "source": [
    "# Deliverable: Top 10 articles by Comments"
   ]
  },
  {
   "cell_type": "code",
   "execution_count": 237,
   "metadata": {
    "collapsed": false
   },
   "outputs": [
    {
     "data": {
      "text/html": [
       "<div>\n",
       "<table border=\"1\" class=\"dataframe\">\n",
       "  <thead>\n",
       "    <tr style=\"text-align: right;\">\n",
       "      <th></th>\n",
       "      <th>Title</th>\n",
       "      <th>Comments</th>\n",
       "    </tr>\n",
       "  </thead>\n",
       "  <tbody>\n",
       "    <tr>\n",
       "      <th>16</th>\n",
       "      <td>ESPN Loses 621,000 Subscribers; Worst Month in...</td>\n",
       "      <td>362</td>\n",
       "    </tr>\n",
       "    <tr>\n",
       "      <th>29</th>\n",
       "      <td>Eve: Programming designed for humans</td>\n",
       "      <td>361</td>\n",
       "    </tr>\n",
       "    <tr>\n",
       "      <th>5</th>\n",
       "      <td>Total Nightmare: USB-C and Thunderbolt 3</td>\n",
       "      <td>357</td>\n",
       "    </tr>\n",
       "    <tr>\n",
       "      <th>27</th>\n",
       "      <td>Powerwall 2 and Integrated Solar</td>\n",
       "      <td>294</td>\n",
       "    </tr>\n",
       "    <tr>\n",
       "      <th>28</th>\n",
       "      <td>How I Became HackerRank 1 in Two Hours</td>\n",
       "      <td>236</td>\n",
       "    </tr>\n",
       "    <tr>\n",
       "      <th>6</th>\n",
       "      <td>Thomas Piketty's Capital in the 21st Century, ...</td>\n",
       "      <td>147</td>\n",
       "    </tr>\n",
       "    <tr>\n",
       "      <th>1</th>\n",
       "      <td>Donât go to art school (2013)</td>\n",
       "      <td>138</td>\n",
       "    </tr>\n",
       "    <tr>\n",
       "      <th>7</th>\n",
       "      <td>Step-by-step tutorial to build a modern JavaSc...</td>\n",
       "      <td>121</td>\n",
       "    </tr>\n",
       "    <tr>\n",
       "      <th>3</th>\n",
       "      <td>Intel driven MacBook Pros have secondary ARM p...</td>\n",
       "      <td>106</td>\n",
       "    </tr>\n",
       "    <tr>\n",
       "      <th>24</th>\n",
       "      <td>A Map of the World Won Japanâs Prestigious D...</td>\n",
       "      <td>90</td>\n",
       "    </tr>\n",
       "  </tbody>\n",
       "</table>\n",
       "</div>"
      ],
      "text/plain": [
       "                                                Title  Comments\n",
       "16  ESPN Loses 621,000 Subscribers; Worst Month in...       362\n",
       "29               Eve: Programming designed for humans       361\n",
       "5            Total Nightmare: USB-C and Thunderbolt 3       357\n",
       "27                   Powerwall 2 and Integrated Solar       294\n",
       "28             How I Became HackerRank 1 in Two Hours       236\n",
       "6   Thomas Piketty's Capital in the 21st Century, ...       147\n",
       "1                     Donât go to art school (2013)       138\n",
       "7   Step-by-step tutorial to build a modern JavaSc...       121\n",
       "3   Intel driven MacBook Pros have secondary ARM p...       106\n",
       "24  A Map of the World Won Japanâs Prestigious D...        90"
      ]
     },
     "execution_count": 237,
     "metadata": {},
     "output_type": "execute_result"
    }
   ],
   "source": [
    "top_Comments = df[['Title','Comments']].sort_values(by=\"Comments\", ascending= False).head(10)\n",
    "top_Comments"
   ]
  }
 ],
 "metadata": {
  "kernelspec": {
   "display_name": "Python 2",
   "language": "python",
   "name": "python2"
  },
  "language_info": {
   "codemirror_mode": {
    "name": "ipython",
    "version": 2
   },
   "file_extension": ".py",
   "mimetype": "text/x-python",
   "name": "python",
   "nbconvert_exporter": "python",
   "pygments_lexer": "ipython2",
   "version": "2.7.11"
  }
 },
 "nbformat": 4,
 "nbformat_minor": 0
}
