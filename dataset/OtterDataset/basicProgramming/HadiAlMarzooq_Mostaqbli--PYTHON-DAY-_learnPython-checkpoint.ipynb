{
 "cells": [
  {
   "cell_type": "markdown",
   "metadata": {
    "id": "gVNXP45yOMb6"
   },
   "source": [
    "<center> <h2> <b> MOSTAQBILI x SEMICOLON </b> </h2> </center>\n",
    "<blockquote> <i>“First, solve the problem. Then, write the code.” – John Johnson </i>\n",
    "</blockquote>\n",
    "\n",
    "- **Introduction To Python** <img src=\"https://drive.google.com/uc?id=1Eo7wOhA66k43lSwnL6v1XGMCz3fi22ea\" width=\"200\" height=\"200\" />\n",
    "\n",
    "- Event Host: Hadi Al Marzooq\n",
    " - Who is Hadi? 😅\n",
    "     - Flutter App developer 🧑‍💻📱\n",
    "     - Web Developer 🧑‍💻🌐\n",
    "     - Data enthusiast ;) 📊\n",
    "     - Web Scraper using Python as a tool 🌐\n",
    "     - he wastes his time playing soccer ️⚽️🏃\n",
    "     \n",
    "###### Twitter: @red_hadi\n",
    "###### LinkedIn: Hadi Al Marzooq\n",
    "###### GitHub: HadiAlMarzooq \n",
    "\n",
    "- Event Host: Ali Al Herz\n",
    "    - Who is Ali? 😅\n",
    "\n",
    "      - Mobile app developer 🧑‍💻📱\n",
    "      - Machine learning enthusiast 🧑‍💻🤖\n",
    "      - Data analyst using Python as a tool 📊\n",
    "\n",
    "\n",
    "###### LinkedIn: Ali Al Herz\n"
   ]
  },
  {
   "cell_type": "markdown",
   "metadata": {
    "id": "oRDLnZXmOMcS"
   },
   "source": [
    "# The Python Programming Language\n",
    "- High-level programming languages\n",
    "- One very popular high level language is Python.\n",
    "    - Developed by Guido van Rossum in the early 1990s.\n",
    "    - Wanted a language suitable for writing smaller programs that may not run at optimum speed.\n",
    "        - As opposed to other languages like Java or C."
   ]
  },
  {
   "cell_type": "markdown",
   "metadata": {
    "id": "em1tqPAmOMcV"
   },
   "source": [
    "# Why Python?\n",
    "- Python is incredibly easy to learn and use for beginners and newcomers in the industry.\n",
    "  - Simple syntax to understand \n",
    "  - Shorter code but not faster :("
   ]
  },
  {
   "cell_type": "markdown",
   "metadata": {
    "id": "E9425vpnOMcZ"
   },
   "source": [
    "# Becoming Familiar with Your Programming Environment\n",
    "\n",
    "- Let us look at our first Python program"
   ]
  },
  {
   "cell_type": "code",
   "execution_count": null,
   "metadata": {
    "id": "aiOkEMKBOMcb"
   },
   "outputs": [],
   "source": [
    "# My first Python program.\n",
    "print(\"Hello Mostaqbli :)\")"
   ]
  },
  {
   "cell_type": "markdown",
   "metadata": {
    "id": "alc0hryOOMci"
   },
   "source": [
    "## How do Python programs run?\n",
    "1. The compiler reads your source code (that is, the Python instructions that you wrote) all at once.\n",
    "1. The compiler translates the instructions into **byte code**.\n",
    "    - **Byte codes** are very simple instructions understood by the **virtual machine** (a separate program that is similar to the CPU of a computer). \n",
    "2. The virtual machine executes your byte code."
   ]
  },
  {
   "cell_type": "markdown",
   "metadata": {
    "id": "qLtrP-AIOMcl"
   },
   "source": [
    "<img src=\"https://drive.google.com/uc?id=1O0MKjBHYOjTPJChJO-uDblT2XK3157LS\" />"
   ]
  },
  {
   "cell_type": "markdown",
   "metadata": {
    "id": "2qYozG29OMcq"
   },
   "source": [
    "# Analyzing Your First Program"
   ]
  },
  {
   "cell_type": "code",
   "execution_count": null,
   "metadata": {
    "id": "ZRRFyUU9OMct",
    "outputId": "44ac7807-d264-4b1e-a4c9-3e2347019e83"
   },
   "outputs": [
    {
     "name": "stdout",
     "output_type": "stream",
     "text": [
      "Hello, World!\n"
     ]
    }
   ],
   "source": [
    "# My first Python program.\n",
    "print(\"Hello, World!\")  "
   ]
  },
  {
   "cell_type": "markdown",
   "metadata": {
    "id": "__BgF2jjOMcw"
   },
   "source": [
    "- The first line is a comment.\n",
    "- Comments start with a # and are not considered statements (ignored by the interpreter)."
   ]
  },
  {
   "cell_type": "markdown",
   "metadata": {
    "id": "2jxxi0MyOMcy"
   },
   "source": [
    "- The second line displays a line of text, viz., **`Hello, World!`** using the **`print`** function.\n",
    "- A **function** is a *collection* of programming instructions that carry out a particular task.\n",
    "- **`\"Hello, World!\"`** is called a **string**."
   ]
  },
  {
   "cell_type": "markdown",
   "metadata": {
    "id": "kNrkzCrnOMc0"
   },
   "source": [
    "- To use, or call, a function in Python, you need to specify:\n",
    "- The name of the function you want to use (in this case, **`print`**).\n",
    "- Any values the function needs to carry out its task (in this case, **`\"Hello, World!\"`**).\n",
    "    - The technical term for such a value is an argument. "
   ]
  },
  {
   "cell_type": "markdown",
   "metadata": {
    "id": "dA1ISEQKOMc3"
   },
   "source": [
    "- Syntax of the **`print`** statement <br/>\n",
    "<img src=\"https://drive.google.com/uc?id=1MZPAVeCuztZweJZL-DvdXhNVJbWmSzDf\" />"
   ]
  },
  {
   "cell_type": "markdown",
   "metadata": {
    "id": "5jO-N-i1OMc5"
   },
   "source": [
    "## More Examples of the Print Statement\n",
    "- Printing numerical values "
   ]
  },
  {
   "cell_type": "code",
   "execution_count": null,
   "metadata": {
    "id": "wQGQNCzwOMc6"
   },
   "outputs": [],
   "source": [
    "print(3 + 4)"
   ]
  },
  {
   "cell_type": "markdown",
   "metadata": {
    "id": "hdY5tNAuOMc8"
   },
   "source": [
    "- Passing multiple values to the function"
   ]
  },
  {
   "cell_type": "code",
   "execution_count": null,
   "metadata": {
    "id": "4t2PEMv4OMc9",
    "outputId": "6aff193e-622b-4753-d147-ca17f94dfaf0"
   },
   "outputs": [
    {
     "name": "stdout",
     "output_type": "stream",
     "text": [
      "The answers of adding and multiplying are 13 42 , respectively\n"
     ]
    }
   ],
   "source": [
    "print(\"The answers of adding\", \"and multiplying are\", 6 + 7, 6 * 7, \", respectively\")"
   ]
  },
  {
   "cell_type": "markdown",
   "metadata": {
    "id": "2h93ceUJOMc-"
   },
   "source": [
    "- Note that each value passed to the function is displayed, one after another, with a blank space after each value.\n",
    "- By default the print function starts a new line after its arguments are printed"
   ]
  },
  {
   "cell_type": "code",
   "execution_count": null,
   "metadata": {
    "id": "NIryaIuJOMdA"
   },
   "outputs": [],
   "source": [
    "print(\"Hello\")\n",
    "print(\"World!\")"
   ]
  },
  {
   "cell_type": "markdown",
   "metadata": {
    "id": "9w85oTBAOMdB"
   },
   "source": [
    "## Our Second Program (printtest.py)"
   ]
  },
  {
   "cell_type": "code",
   "execution_count": null,
   "metadata": {
    "id": "1bHlZ4YJOMdD"
   },
   "outputs": [],
   "source": [
    "##\n",
    "#  Sample program that demonstrates the print function.\n",
    "#\n",
    "\n",
    "# Prints 7.\n",
    "print(3 + 4) \n",
    "      \n",
    "# Prints \"Hello World!\" in two lines.\n",
    "print(\"Hello\") \n",
    "print(\"World!\")\n",
    "\n",
    "# Prints multiple values with a single print function call.\n",
    "print(\"My favorite numbers are\", 3 + 4, \"and\", 3 + 10) \n",
    "\n",
    "# Prints three lines of text with a blank line.\n",
    "print(\"Goodbye\")   \n",
    "print()\n",
    "print(\"Hope to see you again\")"
   ]
  },
  {
   "cell_type": "markdown",
   "metadata": {
    "id": "m6i90I3JOMdE"
   },
   "source": [
    "# Errors\n",
    "- There are two Categories of Errors:\n",
    "    - Compile-time Errors (Syntax Errors) \n",
    "    - Run-time Errors (Logical Errors)"
   ]
  },
  {
   "cell_type": "markdown",
   "metadata": {
    "id": "HV99WfgSOMdF"
   },
   "source": [
    "## Compile-time Errors\n",
    "- Spelling, capitalization, punctuation\n",
    "- Ordering of statements, matching of parenthesis, quotes, ...etc."
   ]
  },
  {
   "cell_type": "code",
   "execution_count": null,
   "metadata": {
    "id": "Z1E4RGhcOMdG"
   },
   "outputs": [],
   "source": [
    "## Uncomment each statement.\n",
    "# print(\"Hello, World!)\n",
    "# print(\"Hello, World!\")\n",
    "# print(\"Hello World!')\n",
    "# print('Hello'"
   ]
  },
  {
   "cell_type": "markdown",
   "metadata": {
    "id": "zPce4qucOMdI"
   },
   "source": [
    "- No executable program is created by the compiler\n",
    "- Correct first error listed, then compile again. \n",
    "- Repeat until all errors are fixed"
   ]
  },
  {
   "cell_type": "markdown",
   "metadata": {
    "id": "JTBVnB92OMdJ"
   },
   "source": [
    "## Run-time Errors\n",
    "- The program runs, but produces unintended results\n",
    "- The program may **crash**"
   ]
  },
  {
   "cell_type": "code",
   "execution_count": null,
   "metadata": {
    "id": "Lc-mK_WzOMdJ"
   },
   "outputs": [],
   "source": [
    "## Uncomment each statement.\n",
    "#print(\"Hello, Word!\")\n",
    "#print(1/0)"
   ]
  },
  {
   "cell_type": "markdown",
   "metadata": {
    "id": "QIWmTxN_OMdK"
   },
   "source": [
    "- Note that run-time errors are more troublesome. They are the harder to find and fix because the interpreter cannot flag them for us. "
   ]
  },
  {
   "cell_type": "markdown",
   "metadata": {
    "id": "JUynFocYOMdL"
   },
   "source": [
    "# Programming with numbers and Strings\n"
   ]
  },
  {
   "cell_type": "markdown",
   "metadata": {
    "id": "hQLFMyDeOMdM"
   },
   "source": [
    "## Variables\n",
    "### Why do we need variables?\n",
    "- To carry out computation, we need to store values in order to use them later on.\n",
    "- These values are stored in variables.\n",
    "- Let us try to comprehend the use of variables by solving the following problem:"
   ]
  },
  {
   "cell_type": "markdown",
   "metadata": {
    "id": "Hcpp_xrIOMdM"
   },
   "source": [
    "# Defining Variables\n",
    "- A variable is a storage location in a computer program. \n",
    "- Each variable has a name and holds a value."
   ]
  },
  {
   "cell_type": "markdown",
   "metadata": {
    "id": "2RGhBhRWOMdN"
   },
   "source": [
    "<img src=\"https://drive.google.com/uc?id=12h-r4OFAkR-leDLjsKp12cn_Mvg8yRhE\" /><br />\n",
    "- Just as a parking space has an identifier **J053** and contents **car**"
   ]
  },
  {
   "cell_type": "markdown",
   "metadata": {
    "id": "fNtwDT9bOMdN"
   },
   "source": [
    "## Soft Drinks: Which is more Economic?\n",
    "- Soft drinks are sold in cans and bottles. \n",
    "- A store offers a six-pack of 12-ounce [كرتون فيه 6 حبات وكل حبة 12 اونصة] cans for the same price as a two-liter bottle [غرشة 2 ليتر]. \n",
    "    - Note that 12 fluid ounces equal approximately 0.355 liters.\n",
    "# Defining Variables\n",
    "- A variable is a storage location in a computer program. \n",
    "- Each variable has a name and holds a value."
   ]
  },
  {
   "cell_type": "markdown",
   "metadata": {
    "id": "0bgwhnMMOMdP"
   },
   "source": [
    "# Assignment Statements\n",
    "- An **assignment** statement is used to place a value into a variable"
   ]
  },
  {
   "cell_type": "code",
   "execution_count": null,
   "metadata": {
    "id": "Okj9ClNCOMdP"
   },
   "outputs": [],
   "source": [
    "cansPerPack = 6\n",
    "print(cansPerPack)"
   ]
  },
  {
   "cell_type": "markdown",
   "metadata": {
    "id": "Hzq_NspEOMdQ"
   },
   "source": [
    "- How does the assignment statment work?\n",
    "    - The right hand side of the **=** sign is first evaluated (to the value 6).\n",
    "    - The value is assigned to the variable on the left hand side of the **=** sign (to the variable **cansPerPack**).\n",
    "    - Once a variable is defined, it can be used in other statements"
   ]
  },
  {
   "cell_type": "markdown",
   "metadata": {
    "id": "P-JuLtEDOMdS"
   },
   "source": [
    "<img src=\"https://drive.google.com/uc?id=1CVk6v09CauavhwAhZD4F14Djxz1umzMY\" /><br />\n"
   ]
  },
  {
   "cell_type": "markdown",
   "metadata": {
    "id": "que0THZXOMdT"
   },
   "source": [
    "- If an existing variable is assigned a **new** value, that value replaces the previous contents of the variable. "
   ]
  },
  {
   "cell_type": "code",
   "execution_count": null,
   "metadata": {
    "id": "n_ZhhDyYOMdU"
   },
   "outputs": [],
   "source": [
    "cansPerPack = 6\n",
    "print(cansPerPack)\n",
    "\n",
    "cansPerPack = 8\n",
    "print(cansPerPack)"
   ]
  },
  {
   "cell_type": "markdown",
   "metadata": {
    "id": "8ykRltUKOMdW"
   },
   "source": [
    "<img src=\"https://drive.google.com/uc?id=1MvUyV_pYefX-uO0Ab7C_cfxR0P64PJLD\" /><br />\n"
   ]
  },
  {
   "cell_type": "markdown",
   "metadata": {
    "id": "1SxTekMuOMdX"
   },
   "source": [
    "# Assignment is not Equality in Algebra\n",
    "- <font color='red'>Is the statement</font>\n",
    "                cansPerPack = cansPerPack + 2\n",
    "  <font color='red'>correct in Algebra?</font>"
   ]
  },
  {
   "cell_type": "markdown",
   "metadata": {
    "id": "jSNdx8vkOMdY"
   },
   "source": [
    "- <font color='red'>How about in Python?</font>"
   ]
  },
  {
   "cell_type": "code",
   "execution_count": null,
   "metadata": {
    "id": "a9un4NBCOMda"
   },
   "outputs": [],
   "source": [
    "cansPerPack = 8\n",
    "cansPerPack = cansPerPack + 2\n",
    "print(cansPerPack)"
   ]
  },
  {
   "cell_type": "markdown",
   "metadata": {
    "id": "F5ENtKO4OMda"
   },
   "source": [
    "- So, how does the assignment <font color='blue'> cansPerPack = cansPerPack + 2</font> execute in python? \n",
    "- First, the right hand side is executed\n",
    "    - This is done by fetching the current value of the variable **cansPerPack**\n",
    "    - Then, carrying out the addition\n",
    "- Second, the value of the addition is stored in the variable **cansPerPack**"
   ]
  },
  {
   "cell_type": "markdown",
   "metadata": {
    "id": "1q1THDgoOMdb"
   },
   "source": [
    "<img src=\"https://drive.google.com/uc?id=1V4bcXFMqy8-vNQRfovAMFaPoWVgQola4\" /><br />\n"
   ]
  },
  {
   "cell_type": "markdown",
   "metadata": {
    "id": "0XFCz8GiOMdc"
   },
   "source": [
    "# Number Types\n",
    "## Values and Types\n",
    "- <font color='blue'>**2**</font>, <font color='green'>**\"Hello World\"**</font> and <font color='purple'>**8.4**</font> are **values**\n",
    "- Each value belongs to a <font color='red'>**data type**</font>"
   ]
  },
  {
   "cell_type": "markdown",
   "metadata": {
    "id": "1-UBFa9iOMdd"
   },
   "source": [
    ">    - <font color='blue'>**2**</font> is an **integer** <font color='red'>**int**</font>\n",
    ">    - <font color='green'>**\"Hello World\"**</font> is a **string** <font color='red'>**str**</font>\n",
    ">    - <font color='purple'>**8.4**</font> is a **float** <font color='red'>**float**</font>\n",
    ">    - <font color='blue'>**2**</font> and <font color='purple'>**8.4**</font> are called **number literals**."
   ]
  },
  {
   "cell_type": "markdown",
   "metadata": {
    "id": "9zxRLkV_OMdd"
   },
   "source": [
    "## Why Data Types?\n",
    "- A **data type** of a value determines"
   ]
  },
  {
   "cell_type": "markdown",
   "metadata": {
    "id": "MdG3AnneOMde"
   },
   "source": [
    "> - how the data type is represented in the computer, and\n",
    "> - what operations can be performed on that data."
   ]
  },
  {
   "cell_type": "markdown",
   "metadata": {
    "id": "bNxm-UxHOMdf"
   },
   "source": [
    "# Two Categories of Data Types in Python\n",
    "- <font color='blue'>Primitive data type</font>\n",
    "    - A data type provided by the language itself (e.g. <font color='red'>**int**</font>)\n",
    "- <font color='blue'>User-defined data type</font>\n",
    "    - A data type defined by the programmer (**Objects and Classes**) , We wont cover this part in this session :( . "
   ]
  },
  {
   "cell_type": "markdown",
   "metadata": {
    "id": "9tHr-0dWOMdf"
   },
   "source": [
    "# Number literals in Python\n",
    "> <img src=\"https://drive.google.com/uc?id=1OxEVCQYSCtUNzEAjkzxieIaDrFgO6Mtb\" /><br />\n"
   ]
  },
  {
   "cell_type": "markdown",
   "metadata": {
    "id": "8l4cIhKTOMdg"
   },
   "source": [
    "- The value determines the type of the variable.\n",
    "- For example, the following piece of code is correct, but not recommended"
   ]
  },
  {
   "cell_type": "code",
   "execution_count": null,
   "metadata": {
    "id": "6MfxqXJdOMdh"
   },
   "outputs": [],
   "source": [
    "taxRate = 5\n",
    "print(taxRate)\n",
    "taxRate = 5.5\n",
    "print(taxRate)\n",
    "taxRate = \"five point five\"\n",
    "print(taxRate)"
   ]
  },
  {
   "cell_type": "markdown",
   "metadata": {
    "id": "3DZH7ObxOMdh"
   },
   "source": [
    "- This is not a good idea, as it may lead to an error if you use the wrong operation on the variable"
   ]
  },
  {
   "cell_type": "code",
   "execution_count": null,
   "metadata": {
    "id": "pmxke-yMOMdi"
   },
   "outputs": [],
   "source": [
    "taxRate = taxRate + 10"
   ]
  },
  {
   "cell_type": "markdown",
   "metadata": {
    "id": "Dh8-WQvpOMdj"
   },
   "source": [
    "- Once a variable is initialized with a value of a type, keep storing values of the same type."
   ]
  },
  {
   "cell_type": "markdown",
   "metadata": {
    "id": "mpFVEqqQOMdj"
   },
   "source": [
    "# Rules for Variable Names"
   ]
  },
  {
   "cell_type": "markdown",
   "metadata": {
    "id": "T5ml8D2NOMdk"
   },
   "source": [
    "- Names must start with a letter.\n",
    "- The remaining characters (if any) must be letters, digits or underscores. \n",
    "    - Symbols such as ? or % cannot be used in a variable name.\n",
    "    - Spaces cannot exist within a variable name.\n",
    "- Names are case sensitive.\n",
    "- Reserved words by python cannot be used as variable names. (e.g., <font color='blue'> **if**</font> and <font color='blue'>**class** </font>)  "
   ]
  },
  {
   "cell_type": "markdown",
   "metadata": {
    "id": "vbMFlEV9OMdl"
   },
   "source": [
    "- Which of the following names are proper variable names?\n",
    ">    `canVolume1 , x , CanVolume , 6pack , can volume , class , ltr/fl.oz`"
   ]
  },
  {
   "cell_type": "markdown",
   "metadata": {
    "id": "TD0NMY9_OMdm"
   },
   "source": [
    "- `canVolume1` is proper\n",
    "- `x` is proper\n",
    "- `CanVolume` is proper\n",
    "- `6pack` is not proper\n",
    "- `can volume` is not proper\n",
    "- `class` is not proper\n",
    "- `ltr/fl.oz` is not proper"
   ]
  },
  {
   "cell_type": "code",
   "execution_count": null,
   "metadata": {
    "id": "ZcZM6l9lOMdm"
   },
   "outputs": [],
   "source": [
    "# we can try them here: \n",
    "## Case sensitive.\n",
    "canVolume1 = 1\n",
    "canvolume1 = 2\n",
    "print(canVolume1)\n",
    "print(canvolume1)"
   ]
  },
  {
   "cell_type": "markdown",
   "metadata": {
    "id": "EMlIqpA-OMdn"
   },
   "source": [
    "# Time to Solve the Problem at the Beginning of this Chapter"
   ]
  },
  {
   "cell_type": "markdown",
   "metadata": {
    "id": "cGB_mYuBOMdo"
   },
   "source": [
    "## Soft Drinks: Which is more Economic?\n",
    "- Soft drinks are sold in cans and bottles. \n",
    "- A store offers a six-pack of 12-ounce [علبة فيها 6 حبات وكل حبة 12 اونصة] cans for the same price as a two-liter bottle [غرشة لترين]. \n",
    "- Which one should you buy?\n",
    "- 1 ounce is 0.355 liter"
   ]
  },
  {
   "cell_type": "markdown",
   "metadata": {
    "id": "fC23eaR3OMdq"
   },
   "source": [
    "# Solution Steps"
   ]
  },
  {
   "cell_type": "markdown",
   "metadata": {
    "id": "_HKsPuDkOMdr"
   },
   "source": [
    "- Compute the **totalVolume** you get when you buy a six-pack\n",
    "    - Define **CAN_VOLUME** and the number of **cansPerPack**\n",
    "    - `totalVolume = cansPerPack * CAN_VOLUME`\n",
    "    - print the **totalVolume**"
   ]
  },
  {
   "cell_type": "markdown",
   "metadata": {
    "id": "ZmGdFVI-OMds"
   },
   "source": [
    "- Now you can compare the **totalVolume** to the value **2.0** and determine which one to buy"
   ]
  },
  {
   "cell_type": "code",
   "execution_count": null,
   "metadata": {
    "id": "QQ2LE8brOMdt"
   },
   "outputs": [],
   "source": [
    "# Our solution here:"
   ]
  },
  {
   "cell_type": "code",
   "execution_count": null,
   "metadata": {
    "id": "NtBH7Y8POMdt"
   },
   "outputs": [],
   "source": [
    "##\n",
    "#  This program computes the volume (in liters) of a six-pack of soda\n",
    "#  cans and the total volume of a six-pack and a two-liter bottle.\n",
    "#\n",
    "\n",
    "# Liters in a 12-ounce can and a two-liter bottle.\n",
    "CAN_VOLUME = 0.355\n",
    "BOTTLE_VOLUME = 2\n",
    "\n",
    "# Number of cans per pack.\n",
    "cansPerPack = 6\n",
    "\n",
    "# Calculate total volume in the cans.\n",
    "totalVolume = cansPerPack * CAN_VOLUME\n",
    "print(\"A six-pack of 12-ounce cans contains\", totalVolume, \"liters.\")\n",
    "\n",
    "# Calculate total volume in the cans and a two-liter bottle.\n",
    "totalVolume = totalVolume + BOTTLE_VOLUME\n",
    "print(\"A six-pack and a two-liter bottle contain\", totalVolume, \"liters.\")"
   ]
  },
  {
   "cell_type": "markdown",
   "metadata": {
    "id": "P1TdWHauOMdu"
   },
   "source": [
    "# Arithmetic"
   ]
  },
  {
   "cell_type": "markdown",
   "metadata": {
    "id": "lif0X2GaOMdv"
   },
   "source": [
    "## Basic Arithmetic Operations\n",
    "- Python supports addition `+`, subtraction `-`, multiplication `*` and division `/` \n",
    "- **`+ - * /`** are called **operators**\n",
    "- For example, the mathematical formula $\\frac{a+b}{2}$ is written in python as `(a + b) / 2`\n",
    "    - Note that the parentheses are used to determine in which order the parts of the expression are computed.\n",
    "    - For example, which mathematical formula is `a + b / 2`?\n",
    "- Python uses the exponential operator $**$ to denote the power operation.\n",
    "    - For example, $a^2$ is `a ** 2`\n"
   ]
  },
  {
   "cell_type": "markdown",
   "metadata": {
    "id": "jRNHS18MOMdw"
   },
   "source": [
    "# Precedence of Arithmetic Operators\n",
    "- Python uses the precedence rules for algebraic notation"
   ]
  },
  {
   "cell_type": "markdown",
   "metadata": {
    "id": "43YYzCqROMdx"
   },
   "source": [
    "| Precedence | Operator(s)| Description |\n",
    "| :---: | :---: | :---|\n",
    "|1 | $( )$ | Parentheses الأقواس|\n",
    "|2 | $**$ | Power القوى|\n",
    "|3 | $* , /$ | Multiplication and Division القسمة والضرب|\n",
    "|4 | $+ , -$ | Addition and Subtraction الجمع والطرح|"
   ]
  },
  {
   "cell_type": "markdown",
   "metadata": {
    "id": "KX755b6hOMdx"
   },
   "source": [
    "# Order of Evaluation of Arithmetic Operators\n",
    "- Addition, subtraction, multiplication and division are left associative, i.e. they are evaluated from left to right.\n",
    "    - For example, `10 + 2 + 3` is evaluated as $(10+2)+3 = 15$ \n",
    "- The power operation is right associative, i.e. it is evaluated from right to left.\n",
    "    - For example, `10 ** 2 ** 3` is evaluated as $10^{2^3}$ which is the same as $10^{8} = 100000000$"
   ]
  },
  {
   "cell_type": "markdown",
   "metadata": {
    "id": "O5V2hjNrOMdy"
   },
   "source": [
    "# Example\n",
    "- Consider the mathematical expression\n",
    "```Python\n",
    "b * (1 + r / 100) ** n\n",
    "```\n",
    "Can you guys try to convert it algebraically?\n",
    "- It is evaluated as follows"
   ]
  },
  {
   "cell_type": "markdown",
   "metadata": {
    "id": "8q0dWS-5OMdz"
   },
   "source": [
    "- The expression between the parentheses is first considered, viz., `(1 + r / 100)`."
   ]
  },
  {
   "cell_type": "markdown",
   "metadata": {
    "id": "oDHZ_M_dOMd0"
   },
   "source": [
    "- Since division is higher than addition, division is evaluated: $\\ \\ \\ \\ \\frac{r}{100}$."
   ]
  },
  {
   "cell_type": "markdown",
   "metadata": {
    "id": "5Rhlb76UOMd1"
   },
   "source": [
    "- Now, addition is evaluated and hence we get the expression: $\\ \\ \\ \\ 1 {\\bf +} \\frac{r}{100}$."
   ]
  },
  {
   "cell_type": "markdown",
   "metadata": {
    "id": "4eef3dDKOMd1"
   },
   "source": [
    "- Since we have multiplication and exponentiation, we carry out the exponentiation and the result becomes $(1 + \\frac{r}{100})^{\\bf n}$"
   ]
  },
  {
   "cell_type": "markdown",
   "metadata": {
    "id": "qrIZ8gtlOMd2"
   },
   "source": [
    "- Finally, we carry out the multiplication to get the Mathematical Expression: $\\ \\ \\ b {\\bf \\ \\times \\ } (1 + \\frac{r}{100})^n$"
   ]
  },
  {
   "cell_type": "markdown",
   "metadata": {
    "id": "bFWeJANLOMd2"
   },
   "source": [
    "# Floor Division and Remainder\n",
    "- Division of two integers results in a floating-point value\n",
    "    - `7 / 4` yields `1.75`\n",
    "- The floor division operator `//` when applied on positive integers computes the quotient and discards the fractional part.\n",
    "    - `7 // 4` yields 1\n",
    "- The **modulus** operator `%` can be used to get the remainder of the floor division.\n",
    "    - `7 % 4` yields 3, the remainder of the floor division of 7 by 4.\n",
    "    - Some also call it **modulo** or **mod**"
   ]
  },
  {
   "cell_type": "code",
   "execution_count": null,
   "metadata": {
    "id": "Sp1gltDEOMd3"
   },
   "outputs": [],
   "source": [
    "# print(7/4)\n",
    "# print(7//4)\n",
    "# print(7%4)"
   ]
  },
  {
   "cell_type": "markdown",
   "metadata": {
    "id": "0Nse2OhqOMd4"
   },
   "source": [
    "# Calling Functions\n",
    "- We have been using the print function to display information, but there are many other functions available in Python.\n",
    "- Most functions **return** a value. \n",
    "    - i.e., when the function completes its task, it passes a value back to the point where the function was called.\n",
    "    - For example, the call `abs(-123)` returns the value 123.\n",
    "- The value returned by a function can be stored in a variable.\n",
    "    - `distance = abs(x)`\n",
    "    - Note that `x` is called the **argument** of the **`abs`** function. \n",
    "- It can also be used anywhere that a value of the same type can be used\n",
    "    - `print(\"The distance from the origin is \", abs(x))`"
   ]
  },
  {
   "cell_type": "code",
   "execution_count": null,
   "metadata": {
    "id": "sTw990GTOMd4"
   },
   "outputs": [],
   "source": [
    "distance = ______  # 2\n",
    "print(distance)\n",
    "print(\"The distance from the origin is \", abs(distance))\n"
   ]
  },
  {
   "cell_type": "markdown",
   "metadata": {
    "id": "_aLxLUjyOMd5"
   },
   "source": [
    "# Arguments of a Function"
   ]
  },
  {
   "cell_type": "markdown",
   "metadata": {
    "id": "BAvgszsBOMd7"
   },
   "source": [
    "- When calling a function, you must provide the correct number of arguments.\n",
    "    - `abs(-10, 2)` or `abs()` will generate an error.\n",
    "    - Hence, the **`abs`** function requires exactly one argument."
   ]
  },
  {
   "cell_type": "code",
   "execution_count": null,
   "metadata": {
    "id": "LYBlpcIyOMd8"
   },
   "outputs": [],
   "source": [
    "abs(-10, 2)"
   ]
  },
  {
   "cell_type": "markdown",
   "metadata": {
    "id": "UMalV1eyOMd9"
   },
   "source": [
    "- Some functions take an arbitrary number of arguments\n",
    "    - For example, the **`max`** and **`min`** functions.\n",
    "        - `min(7.25, 10.95, 5.95, 6.05, 8)` returns the minimum of the function's arguments; in this case the number `5.95`"
   ]
  },
  {
   "cell_type": "code",
   "execution_count": null,
   "metadata": {
    "id": "L8XQkBJeOMd9"
   },
   "outputs": [],
   "source": [
    "min(7.25, 10.95, 5.95, 6.05, 8)"
   ]
  },
  {
   "cell_type": "markdown",
   "metadata": {
    "id": "kCzqRDmIOMd-"
   },
   "source": [
    "# Calling Functions\n",
    "> <img src=\"https://drive.google.com/uc?id=10h7_3tTN-lp8N-4B30ROO_y5DYT65__y\" /><br />\n"
   ]
  },
  {
   "cell_type": "markdown",
   "metadata": {
    "id": "70foD2YcOMd-"
   },
   "source": [
    "# Libraries\n",
    "- A **library** is a collection of code that has been written and translated by someone else, ready for you to use in your program.\n",
    "    - A **standard library** is a library that is considered part of the language and must be included with any Python system."
   ]
  },
  {
   "cell_type": "markdown",
   "metadata": {
    "id": "0mSDhTF_OMd_"
   },
   "source": [
    "- Python’s standard library is organized into modules. \n",
    "    - Related functions and data types are grouped into the same module."
   ]
  },
  {
   "cell_type": "markdown",
   "metadata": {
    "id": "H2Qvs-F9OMeA"
   },
   "source": [
    "# Mathematical Functions\n",
    "- Python’s **math** module includes a number of mathematical functions.\n",
    "- You must **import** it before you can use any of its functions\n",
    "    - Note that you can use the **`print`** function without the use of **import**, since it is one of the **built-in** functions (part of the Python language and can be used directly in your programs)."
   ]
  },
  {
   "cell_type": "code",
   "execution_count": null,
   "metadata": {
    "id": "XHSiD0dTOMeA"
   },
   "outputs": [],
   "source": [
    "from math import sqrt\n",
    "y = sqrt(25)\n",
    "print(\"y = \", y)"
   ]
  },
  {
   "cell_type": "markdown",
   "metadata": {
    "id": "SBWqrdd5OMeB"
   },
   "source": [
    "<img src=\"https://drive.google.com/uc?id=180SbFSkvpurgQxUkPI6ae5Ia8G3gG1a_\" /><br />\n"
   ]
  },
  {
   "cell_type": "markdown",
   "metadata": {
    "id": "Bxpw-ccQOMeC"
   },
   "source": [
    "Can you try $\\sqrt{a^2+b^2}$ in python? "
   ]
  },
  {
   "cell_type": "code",
   "execution_count": null,
   "metadata": {
    "id": "WZ1Vu12QOMeC"
   },
   "outputs": [],
   "source": [
    "# \n"
   ]
  },
  {
   "cell_type": "markdown",
   "metadata": {
    "id": "F8jyihRCOMeD"
   },
   "source": [
    "- To import more than one function from **math**, use **`from math import *`** "
   ]
  },
  {
   "cell_type": "markdown",
   "metadata": {
    "id": "ZndoiwiLOMeE"
   },
   "source": [
    "# Arithmetic Expressions Examples\n",
    "> <img src=\"https://drive.google.com/uc?id=1cY2YQed2Cm2rfqGrKwNKsSd_oopyNy4g\" /><br />\n"
   ]
  },
  {
   "cell_type": "markdown",
   "metadata": {
    "id": "zhAAQbiBOMeE"
   },
   "source": [
    "### Activity يلا نجرب \n",
    "- The volume of a sphere is given by $$V=\\frac{4}{3}\\pi r^3$$\n",
    "If the radius is given by a variable **radius** that contains a floating-point value,\n",
    "write a Python expression for the volume."
   ]
  },
  {
   "cell_type": "code",
   "execution_count": null,
   "metadata": {
    "id": "c10Os2ehOMeF"
   },
   "outputs": [],
   "source": [
    "# Volume Expression\n",
    "radius = 2.4"
   ]
  },
  {
   "cell_type": "markdown",
   "metadata": {
    "id": "zC18jJx1OMeG"
   },
   "source": [
    "# 2.4 Strings\n",
    "- A **string** is a sequence of characters\n",
    "    - **Characters** include letters, numbers/digits, punctuation, spaces, special symbols and so on.\n",
    "- A **string literal** denotes a particular string (e.g. \"Hello\")\n",
    "    - Just as a number literal (e.g. `34`) denotes a particular number.\n",
    "    - String literals are specified by enclosing a sequence of characters within a matching pair of either single or double quotes."
   ]
  },
  {
   "cell_type": "code",
   "execution_count": null,
   "metadata": {
    "id": "Apx8_6ZqOMeG"
   },
   "outputs": [],
   "source": [
    "print(\"This is a string. \", 'So is this.')"
   ]
  },
  {
   "cell_type": "markdown",
   "metadata": {
    "id": "6Fsg_1qYOMeH"
   },
   "source": [
    "- How can I form the strings **`I'm a student`** or **`He said: \"You did it!\"`**?"
   ]
  },
  {
   "cell_type": "code",
   "execution_count": null,
   "metadata": {
    "id": "9GVMuwoXOMeH"
   },
   "outputs": [],
   "source": [
    "print(\"I'm a student\", 'He said: \"You did it!\"')"
   ]
  },
  {
   "cell_type": "markdown",
   "metadata": {
    "id": "yMEHAfMwOMeI"
   },
   "source": [
    "- The number of characters in a string is called the **length** of the string. \n",
    "    - For example, \"Harry\" is of length \\_\\_\\_\\_\\_ and \"World\" is of length \\_\\_\\_\\_\\_\\_\n",
    "    - An **empty** string is a string with no characters. It is of length zero and is written as `\"\"` or `''`"
   ]
  },
  {
   "cell_type": "markdown",
   "metadata": {
    "id": "STYB2ZcgOMeJ"
   },
   "source": [
    "- Python's **`len`** function returns the length of the argument string.  "
   ]
  },
  {
   "cell_type": "code",
   "execution_count": null,
   "metadata": {
    "id": "sND4DzvsOMeK"
   },
   "outputs": [],
   "source": [
    "length = len(\"World!\")\n",
    "print(length)"
   ]
  },
  {
   "cell_type": "markdown",
   "metadata": {
    "id": "oCWJRH3ZOMeL"
   },
   "source": [
    "\n",
    "# String Concatenation\n",
    "- Given two strings such as **`Ahmad`** and **`Saleem`**, you can **concatenate** them to one long string."
   ]
  },
  {
   "cell_type": "code",
   "execution_count": null,
   "metadata": {
    "id": "POdCTt-1OMeM"
   },
   "outputs": [],
   "source": [
    "firstName = \"Ahmad\"\n",
    "secondName = \"Saleem\"\n",
    "name = firstName + secondName\n",
    "print (name)"
   ]
  },
  {
   "cell_type": "markdown",
   "metadata": {
    "id": "delSVOcSOMeN"
   },
   "source": [
    "- Note that if one of the operands of the **`+`** operator is a string, then all of them should be strings, otherwise a syntax error will occur."
   ]
  },
  {
   "cell_type": "code",
   "execution_count": null,
   "metadata": {
    "id": "sg1XllO5OMeO"
   },
   "outputs": [],
   "source": [
    "# String + Error:\n"
   ]
  },
  {
   "cell_type": "markdown",
   "metadata": {
    "id": "iV9g-T8kOMeO"
   },
   "source": [
    "# String Repetition\n",
    "- Given a string such as **`-`**, you can repeat it **n** times, where **n** is an integer using the string repetition operator **`*`**"
   ]
  },
  {
   "cell_type": "code",
   "execution_count": null,
   "metadata": {
    "id": "Nzw0mDt9OMeP"
   },
   "outputs": [],
   "source": [
    "dashes = \"-\" * 50\n",
    "print(dashes)\n"
   ]
  },
  {
   "cell_type": "markdown",
   "metadata": {
    "id": "MExLidioOMeP"
   },
   "source": [
    "# Converting between Numbers and Strings\n",
    "- Since you cannot concatenate a string and integer, Python provides the **`str`** function to convert an integer to a string. "
   ]
  },
  {
   "cell_type": "code",
   "execution_count": null,
   "metadata": {
    "id": "Xtj9L_AYOMeQ"
   },
   "outputs": [],
   "source": [
    "id = 2019873410\n",
    "print(type(id))\n",
    "# Say we want to print the student's kfupm email, \n",
    "#KFUPM Email has this form : s[ID]@kfupm.edu.sa\n",
    "\n"
   ]
  },
  {
   "cell_type": "markdown",
   "metadata": {
    "id": "SxA0ZwqoOMeR"
   },
   "source": [
    "- Conversely, you can turn a string representing a number into its corresponding numerical value using the **`int`** and **`float`** functions."
   ]
  },
  {
   "cell_type": "code",
   "execution_count": null,
   "metadata": {
    "id": "pDQyehvtOMeS"
   },
   "outputs": [],
   "source": [
    "id = int(\"1729\")\n",
    "price = float(\"17.29\")\n",
    "print(f'price type is {type(price)}, and id type is {type(id)}')\n",
    "print(\"id is\", id, \" and price is\", price)"
   ]
  },
  {
   "cell_type": "markdown",
   "metadata": {
    "id": "P__C7q_vOMeS"
   },
   "source": [
    "\n",
    "> <img src=\"https://drive.google.com/uc?id=1Q1YXb7WtLKtov3bRUfdXxRCbVbW2z92s\" /><br />\n"
   ]
  },
  {
   "cell_type": "markdown",
   "metadata": {
    "id": "ZZk003E5OMeT"
   },
   "source": [
    "- The index value must be within the valid range of character positions\n",
    "    - 0 .. `len(name)-1`\n",
    "- otherwise, an \"index out of range\" exception will be generated at run time."
   ]
  },
  {
   "cell_type": "markdown",
   "metadata": {
    "id": "rfJ3xzbfOMeU"
   },
   "source": [
    "### Session Activity\n",
    "- What are the results of the following statements"
   ]
  },
  {
   "cell_type": "code",
   "execution_count": null,
   "metadata": {
    "id": "5xkGtMdNOMeV"
   },
   "outputs": [],
   "source": [
    "string = \"Py\"\n",
    "string = string + \"thon\"\n",
    "#print(string)"
   ]
  },
  {
   "cell_type": "markdown",
   "metadata": {
    "id": "d6oOvOkQOMeW"
   },
   "source": [
    "print (\"Please\" +\n",
    "\" enter your name: \")"
   ]
  },
  {
   "cell_type": "code",
   "execution_count": null,
   "metadata": {
    "id": "k3_7xwn9OMeW"
   },
   "outputs": [],
   "source": [
    "print()"
   ]
  },
  {
   "cell_type": "markdown",
   "metadata": {
    "id": "XjOTlqMVOMeX"
   },
   "source": [
    "- What is the result of the following statements"
   ]
  },
  {
   "cell_type": "code",
   "execution_count": null,
   "metadata": {
    "id": "J3jryc6hOMeY"
   },
   "outputs": [],
   "source": [
    "greeting = \"H & S\"\n",
    "n = len(greeting)\n",
    "print('n= ', n)"
   ]
  },
  {
   "cell_type": "code",
   "execution_count": null,
   "metadata": {
    "id": "cWOqSRbBOMeZ"
   },
   "outputs": [],
   "source": [
    "string = \"Harry\"\n",
    "n = len(string)\n",
    "mystery = string[0] + string[n - 1]\n",
    "# print(mystery)"
   ]
  },
  {
   "cell_type": "markdown",
   "metadata": {
    "id": "_G_T6Ru6OMea"
   },
   "source": [
    "# 2.5 Input and Output\n",
    "- Asking the user to provide input values makes programs more flexible.\n",
    "    - As opposed to having fixed values."
   ]
  },
  {
   "cell_type": "markdown",
   "metadata": {
    "id": "ZbKhdCjZOMeb"
   },
   "source": [
    "- For example, You will have to change the values of `first` and `second` in the program below every time you would like to use different values."
   ]
  },
  {
   "cell_type": "code",
   "execution_count": null,
   "metadata": {
    "id": "z8wmJlryOMed"
   },
   "outputs": [],
   "source": [
    "##\n",
    "#  This program prints a pair of initials.\n",
    "#\n",
    "\n",
    "# Set the names of the couple.\n",
    "first = \"Rodolfo\"\n",
    "second = \"Sally\"\n",
    "\n",
    "# Compute and display the initials.\n",
    "initials = first[0] + \"&\" + second[0]\n",
    "print(initials)"
   ]
  },
  {
   "cell_type": "markdown",
   "metadata": {
    "id": "nmF8gRYYOMee"
   },
   "source": [
    "- When a program asks for user input, it should first print a message (called a **prompt**) that tells the user which input is expected.\n",
    "- In Python, displaying a prompt and reading the keyboard input is combined in one operation."
   ]
  },
  {
   "cell_type": "code",
   "execution_count": null,
   "metadata": {
    "id": "cqeEgAHDOMef"
   },
   "outputs": [],
   "source": [
    "##\n",
    "#  This program obtains two names from the user and prints a pair of initials.\n",
    "#\n",
    "\n",
    "# Obtain the two names from the user.\n",
    "first = input(\"Enter your first name: \")\n",
    "second = input(\"Enter your significant other's first name: \")\n",
    "\n",
    "# Compute and display the initials.\n",
    "initials = first[0] + \"&\" + second[0]\n",
    "print(initials)"
   ]
  },
  {
   "cell_type": "markdown",
   "metadata": {
    "id": "0POhK7vWOMeh"
   },
   "source": [
    "- Note that the output of the **`input`** function is always a **string**."
   ]
  },
  {
   "cell_type": "markdown",
   "metadata": {
    "id": "c4xE4Y1SOMei"
   },
   "source": [
    "- Note that the output of the **`input`** function is always a **string**.\n",
    "# Reading Numerical Input\n",
    "- What if we need to read a numerical input?"
   ]
  },
  {
   "cell_type": "markdown",
   "metadata": {
    "id": "l6skGOktOMej"
   },
   "source": [
    "- Use the string conversion functions **int** and **float** on the output string"
   ]
  },
  {
   "cell_type": "code",
   "execution_count": null,
   "metadata": {
    "id": "2QiRgGYsOMej"
   },
   "outputs": [],
   "source": [
    "userInput = input(\"Please enter the number of bottles: \")\n",
    "numberOfBottles = int(userInput)\n",
    "bottleVolume = float(input(\"Enter the volume of each bottle: \")) # preferred style\n",
    "print(\"The number of bottles = \", numberOfBottles, \" and the bottle volume = \", bottleVolume)"
   ]
  },
  {
   "cell_type": "markdown",
   "metadata": {
    "id": "0HLfHcZXOMew"
   },
   "source": [
    "# Formatted Output  - [Side learning activity] (Won't Cover)\n",
    "## Formatting Floating Point Values\n",
    "- When you print the result of a computation, you often want to control its appearance. "
   ]
  },
  {
   "cell_type": "markdown",
   "metadata": {
    "id": "Lgv6dVt1OMex"
   },
   "source": [
    "| Instead of | | Would Like to Print|\n",
    "|:---|:---| :---|\n",
    "|  Price per liter: 1.215962441314554 | | Price per liter: 1.22 |\n"
   ]
  },
  {
   "cell_type": "markdown",
   "metadata": {
    "id": "124nZ48oOMey"
   },
   "source": [
    "- We can do that through the **string format operator %**"
   ]
  },
  {
   "cell_type": "markdown",
   "metadata": {
    "id": "qG_N472mOMey"
   },
   "source": [
    "- The following command displays the price with two digits after the decimal point:"
   ]
  },
  {
   "cell_type": "code",
   "execution_count": null,
   "metadata": {
    "id": "7CqMBknHOMez"
   },
   "outputs": [],
   "source": [
    "price = 1.215962441314554\n",
    "print(\"%.2f\" % price)"
   ]
  },
  {
   "cell_type": "markdown",
   "metadata": {
    "id": "HhKfZawbOMez"
   },
   "source": [
    "- You can also specify a field width (the total number of characters, including spaces)"
   ]
  },
  {
   "cell_type": "code",
   "execution_count": null,
   "metadata": {
    "id": "CkEKvyIYOMe0"
   },
   "outputs": [],
   "source": [
    "price = 1.215962441314554\n",
    "print(\"%10.2f\" % price)"
   ]
  },
  {
   "cell_type": "markdown",
   "metadata": {
    "id": "JYJWjkwFOMe0"
   },
   "source": [
    "\n",
    "> <img src=\"https://drive.google.com/uc?id=1gHLk4VPg5YgHg6WEUiB_OJHdwwXEJpcE\" /><br />\n"
   ]
  },
  {
   "cell_type": "markdown",
   "metadata": {
    "id": "VjwxqobDOMe1"
   },
   "source": [
    "- **`%10.2f`** is called a **format specifier**.\n",
    "- See what happens when you play with the values of the **format specifier**."
   ]
  },
  {
   "cell_type": "markdown",
   "metadata": {
    "id": "ykR2OQNsOMe2"
   },
   "source": [
    "## Formatting Integer and String Values"
   ]
  },
  {
   "cell_type": "markdown",
   "metadata": {
    "id": "rAqDvRE-OMe2"
   },
   "source": [
    "- Use **%d** for integer values"
   ]
  },
  {
   "cell_type": "code",
   "execution_count": null,
   "metadata": {
    "id": "puS007gjOMe3"
   },
   "outputs": [],
   "source": [
    "numberOfBottles = 106\n",
    "print(\"The Number of Bottles is %d \" % numberOfBottles)\n"
   ]
  },
  {
   "cell_type": "markdown",
   "metadata": {
    "id": "y2dAqPmXOMe4"
   },
   "source": [
    "- Use **%s** for string values"
   ]
  },
  {
   "cell_type": "code",
   "execution_count": null,
   "metadata": {
    "id": "p8AN7ZOhOMe4"
   },
   "outputs": [],
   "source": [
    "title2=\"Price:\"\n",
    "print(\"%-10s\" % title2)"
   ]
  },
  {
   "cell_type": "markdown",
   "metadata": {
    "id": "YILXqEW9OMe5"
   },
   "source": [
    "# Multiple Format Specifiers\n",
    "- One can have more than one format specifier in the **format string**\n",
    "- In this case, the variables to the right of the string format **operator %** need to be included between parentheses and separated by commas. "
   ]
  },
  {
   "cell_type": "code",
   "execution_count": null,
   "metadata": {
    "id": "PQ9oKCYwOMe7"
   },
   "outputs": [],
   "source": [
    "quantity = 203\n",
    "price = 183.4\n",
    "title1 = \"Quantity:\"\n",
    "title2 = \"Price:\"\n",
    "print(\"%10s %10d\" % (title1, quantity))\n",
    "print(\"%10s %10.2f\" % (title2, price))\n"
   ]
  },
  {
   "cell_type": "code",
   "execution_count": null,
   "metadata": {
    "id": "30npc4M0OMe8"
   },
   "outputs": [],
   "source": [
    "# - You can play with different values and see what happens to the output\n",
    "print(\"%-10s %10d\" % (title1, quantity))\n",
    "print(\"%-10s %10.2f\" % (title2, price))     # Strings are left aligned, numbers are right aligned\n",
    "\n",
    "print(\"%10s %-10d\" % (title1, quantity))    # Strings are right aligned, numbers are left aligned\n",
    "print(\"%10s %-10.2f\" % (title2, price))\n",
    "\n",
    "print(\"%-10s %-10d\" % (title1, quantity))   # Strings and numbers are left aligned\n",
    "print(\"%-10s %-10.2f\" % (title2, price))\n"
   ]
  },
  {
   "cell_type": "markdown",
   "metadata": {
    "id": "ZhzYpEJuOMe9"
   },
   "source": [
    "\n",
    "> <img src=\"https://drive.google.com/uc?id=1MDURChwPsX-lR-ofYK2UsxjDjjxOBO5I\" /><br />\n"
   ]
  },
  {
   "cell_type": "code",
   "execution_count": null,
   "metadata": {
    "id": "A-ls6Cj5OMe-"
   },
   "outputs": [],
   "source": [
    "quantity = 24\n",
    "total = 17.29\n",
    "print(\"Quantity: %d Total: %10.2f\" % (quantity, total))"
   ]
  },
  {
   "cell_type": "markdown",
   "metadata": {
    "id": "wfaT0lrGOMe_"
   },
   "source": [
    "\n",
    "> <img src=\"https://drive.google.com/uc?id=1mS5PTDyNBlyzz-pgsjT5e2HLpaSANFHN\" /><br />\n"
   ]
  },
  {
   "cell_type": "code",
   "execution_count": null,
   "metadata": {
    "id": "MWPOBuxYTRQF"
   },
   "outputs": [],
   "source": []
  },
  {
   "cell_type": "markdown",
   "metadata": {
    "id": "rTGzk8t2OMe_"
   },
   "source": [
    "### Student Activity\n",
    "\n",
    "> <img src=\"https://drive.google.com/uc?id=1xKI0wXioKpHGF4yC0R2ndAAZekSEvvT4\" /><br />\n"
   ]
  },
  {
   "cell_type": "code",
   "execution_count": null,
   "metadata": {
    "id": "r7pYRzVwOMfA"
   },
   "outputs": [],
   "source": [
    "# To Print Bottles and Cans \n",
    "bottles = 8\n",
    "cans = 24\n",
    "## Insert your solution here"
   ]
  },
  {
   "cell_type": "code",
   "execution_count": null,
   "metadata": {
    "id": "r4muHRLBOMfB"
   },
   "outputs": [],
   "source": [
    "# # Different solutions:\n",
    "# print(\"Bottles: %8d\" % bottles)\n",
    "# print(\"Cans:    %8d\" % cans)\n",
    "    \n",
    "# print(\"Bottles: %8d\" % bottles)\n",
    "# print(\"Cans: %11d\" % cans)\n",
    "    \n",
    "print(\"%-8s %8d\" % (\"Bottles:\", bottles))\n",
    "print(\"%-8s %8d\" % (\"Cans:\", cans))"
   ]
  },
  {
   "cell_type": "markdown",
   "metadata": {
    "id": "qsb-CaxbOMfB"
   },
   "source": [
    "# The if Statement\n",
    "- A computer program often needs to make decisions based on input, or circumstances. \n",
    "- The <font color='blue'>**if statement**</font> allows a program to carry out different actions depending on the nature of the data to be processed. "
   ]
  },
  {
   "cell_type": "markdown",
   "metadata": {
    "id": "OqU7e3mrOMfC"
   },
   "source": [
    "# Relational Operators:\n",
    "\n",
    "> <img src=\"https://drive.google.com/uc?id=1X-Ep1R4O3XGpkt3eB5_OuodYKpeMlUJc\" /><br />\n",
    "\n"
   ]
  },
  {
   "cell_type": "markdown",
   "metadata": {
    "id": "MesD3EnPOMfD"
   },
   "source": [
    "\n",
    "> <img src=\"https://drive.google.com/uc?id=1OSCAa3TPwDZbUOyvWiZmaiceTehDNHLI\" /><br />\n"
   ]
  },
  {
   "cell_type": "markdown",
   "metadata": {
    "id": "1l17563_OMfD"
   },
   "source": [
    "- You could use multiple <font color='blue'>**'if' and 'else' statements**</font> to implement multiple alternatives, like this: "
   ]
  },
  {
   "cell_type": "code",
   "execution_count": null,
   "metadata": {
    "id": "hc7I_pYROMfE"
   },
   "outputs": [],
   "source": [
    "## To be implemented:\n",
    "richter = 8 \n"
   ]
  },
  {
   "cell_type": "code",
   "execution_count": null,
   "metadata": {
    "id": "j4jCnCzCOMfE"
   },
   "outputs": [],
   "source": [
    "richter = 8.0\n",
    "if richter >= 8.0:\n",
    "    print(\"Most structures fall\")\n",
    "else:\n",
    "    if richter >= 7.0:\n",
    "        print(\"Many building destroyed\")\n",
    "    else:\n",
    "        if richter >= 6.0:\n",
    "            print(\"Many buildings considerably damaged, some collapse\")\n",
    "        else:\n",
    "            if richter >= 4.5:\n",
    "                print(\"Damage to poorly constructured buildings\")\n",
    "            else:\n",
    "                print(\"No destruction of buildings\")"
   ]
  },
  {
   "cell_type": "markdown",
   "metadata": {
    "id": "ophd_AbROMfF"
   },
   "source": [
    "- but this becomes difficult to read and, as the number of branches increases, the code begins to shift further and further to the right due to the required indentation."
   ]
  },
  {
   "cell_type": "markdown",
   "metadata": {
    "id": "nThVQ5OiOMfG"
   },
   "source": [
    "- Python provides the special construct <font color='blue'>**elif**</font> for creating <font color='blue'>**if**</font> statements containing multiple branches. \n",
    "- Using the <font color='blue'>**elif**</font> statement, the code segment can be rewritten as:"
   ]
  },
  {
   "cell_type": "code",
   "execution_count": null,
   "metadata": {
    "id": "G_riMlseOMfG"
   },
   "outputs": [],
   "source": [
    "richter = 8.0\n",
    "if richter >= 8.0:\n",
    "    print(\"Most strcutures fail\")\n",
    "elif richter >= 7.0:\n",
    "    print(\"Many buildings destroyed\")\n",
    "elif richter >= 6.0:\n",
    "    print(\"Many buildings considerably damaged, some collapse\")\n",
    "elif richter >= 4.5:\n",
    "    print(\"Damage to poorly constructed buildings\")\n",
    "else:\n",
    "    print(\"No destruction of buildings\")"
   ]
  },
  {
   "cell_type": "markdown",
   "metadata": {
    "id": "FGzl_R9OOMfH"
   },
   "source": [
    "- As soon as one of the four tests succeeds, the effect is displayed, and no further tests are attempted. \n",
    "- If none of the four cases applies, the <font color='blue'>**final else clause**</font> applies, and a default message is printed."
   ]
  },
  {
   "cell_type": "markdown",
   "metadata": {
    "id": "vdJBf9eiOMfI"
   },
   "source": [
    "## Session Activity"
   ]
  },
  {
   "cell_type": "code",
   "execution_count": null,
   "metadata": {
    "id": "2rTHS0yOOMfI"
   },
   "outputs": [],
   "source": [
    "print(3 <= 4)"
   ]
  },
  {
   "cell_type": "code",
   "execution_count": null,
   "metadata": {
    "id": "DdF9ThJBOMfJ"
   },
   "outputs": [],
   "source": [
    "print(3 =< 4)"
   ]
  },
  {
   "cell_type": "code",
   "execution_count": null,
   "metadata": {
    "id": "5Z5nWdFBOMfK"
   },
   "outputs": [],
   "source": [
    "print(3 > 4)"
   ]
  },
  {
   "cell_type": "code",
   "execution_count": null,
   "metadata": {
    "id": "RO59i-CKOMfK"
   },
   "outputs": [],
   "source": [
    "print(4 < 4)"
   ]
  },
  {
   "cell_type": "code",
   "execution_count": null,
   "metadata": {
    "id": "Ruo8_3nOOMfL"
   },
   "outputs": [],
   "source": [
    "print(4 <= 4)"
   ]
  },
  {
   "cell_type": "code",
   "execution_count": null,
   "metadata": {
    "id": "I7kvc5Q_OMfM"
   },
   "outputs": [],
   "source": [
    "print(3!=5-3)"
   ]
  },
  {
   "cell_type": "code",
   "execution_count": null,
   "metadata": {
    "id": "j-d0nsmHOMfM"
   },
   "outputs": [],
   "source": [
    "print(3=6/2)"
   ]
  },
  {
   "cell_type": "code",
   "execution_count": null,
   "metadata": {
    "id": "JwoMr0FcOMfO"
   },
   "outputs": [],
   "source": [
    "print(1.0 / 3.0 == 0.333333333)"
   ]
  },
  {
   "cell_type": "code",
   "execution_count": null,
   "metadata": {
    "id": "cfkbmKhqOMfP"
   },
   "outputs": [],
   "source": [
    "print(3<=4<5)"
   ]
  },
  {
   "cell_type": "code",
   "execution_count": null,
   "metadata": {
    "id": "r7rvVAqxOMfQ"
   },
   "outputs": [],
   "source": [
    "s1 = \"This is a long string.\"\n",
    "s2 = \"This is a l0ng string.\"\n",
    "if s1==s2:\n",
    "    comparison = \"identical\"\n",
    "else:\n",
    "    comparison = \"not identical\"\n",
    "print (\"The string s1 and s2 are\",comparison)"
   ]
  },
  {
   "cell_type": "markdown",
   "metadata": {
    "id": "vEltJ1ybOMfR"
   },
   "source": [
    "# Logical `and` and `or` Operators\n",
    "- Suppose you write a program that processes temperature values, and you want\n",
    "to test whether a given temperature corresponds to liquid water. \n",
    "    - (At sea level, water freezes at 0 degrees Celsius and boils at 100 degrees.) \n",
    "    - Water is liquid if the temperature is greater than zero and less than 100:"
   ]
  },
  {
   "cell_type": "code",
   "execution_count": null,
   "metadata": {
    "id": "j2RN_Ts_OMfS"
   },
   "outputs": [],
   "source": [
    "temp = 10\n",
    "if temp > 0 and temp < 100:\n",
    "    print(\"Liquid\")"
   ]
  },
  {
   "cell_type": "markdown",
   "metadata": {
    "id": "w3BeKrV9OMfT"
   },
   "source": [
    "\n",
    "> <img src=\"https://drive.google.com/uc?id=1HhwjJZM5xzNFnZkeGJJcNEwSwa2xgrlj\" /><br />\n"
   ]
  },
  {
   "cell_type": "markdown",
   "metadata": {
    "id": "4GH8ONFlOMfU"
   },
   "source": [
    "# Analyzing Strings\n",
    "- Sometimes it is necessary to determine if a string contains a given **substring**.\n",
    "    - i.e., one string contains an exact match of another string. \n",
    "- for example, given the code segment,"
   ]
  },
  {
   "cell_type": "code",
   "execution_count": null,
   "metadata": {
    "id": "0M8PTE_dOMfV"
   },
   "outputs": [],
   "source": [
    "name = \"John Wayne\"\n",
    "print(\"Way\" in name)"
   ]
  },
  {
   "cell_type": "code",
   "execution_count": null,
   "metadata": {
    "id": "1GoK34ldOMfW"
   },
   "outputs": [],
   "source": [
    "name = \"John Johnson\"\n",
    "print(\"john\" in \"John Johnson\")"
   ]
  },
  {
   "cell_type": "markdown",
   "metadata": {
    "id": "mUYLEChIOMfX"
   },
   "source": [
    "## Methods for Testing String Characteristics\n",
    "\n",
    "> <img src=\"https://drive.google.com/uc?id=1tJanSOZmP0qG4N9D3rLZUImpBH0EqD0L\" /><br />\n"
   ]
  },
  {
   "cell_type": "code",
   "execution_count": null,
   "metadata": {
    "id": "TshJyQA4OMfY"
   },
   "outputs": [],
   "source": [
    "name = \"John Johnson\"\n",
    "name.isspace()"
   ]
  },
  {
   "cell_type": "code",
   "execution_count": null,
   "metadata": {
    "id": "xsT2glHUOMfZ"
   },
   "outputs": [],
   "source": [
    "name.isalnum()"
   ]
  },
  {
   "cell_type": "code",
   "execution_count": null,
   "metadata": {
    "id": "PFXh-Wb2OMfa"
   },
   "outputs": [],
   "source": [
    "\"1729\".isdigit()"
   ]
  },
  {
   "cell_type": "code",
   "execution_count": null,
   "metadata": {
    "id": "jhagwjdLOMfc"
   },
   "outputs": [],
   "source": [
    "\"-1729\".isdigit()"
   ]
  },
  {
   "cell_type": "markdown",
   "metadata": {
    "id": "0tUN6rbtOMfd"
   },
   "source": [
    "# Input Validation"
   ]
  },
  {
   "cell_type": "code",
   "execution_count": null,
   "metadata": {
    "id": "W-Qh81qCOMfe"
   },
   "outputs": [],
   "source": [
    "# Write a program that prints the month of a given number between [1-3], for example\n",
    "# if the user enters 1, the program should print january."
   ]
  },
  {
   "cell_type": "code",
   "execution_count": null,
   "metadata": {
    "id": "UCmZjM6AOMfg"
   },
   "outputs": [],
   "source": [
    "userMonth = int(input('Enter a number between [1-3] to get the month: '))\n",
    "if not (1 <= userMonth <= 3):\n",
    "    print('Error: Please enter a number between [1-3]')\n",
    "elif (userMonth == 1 ):\n",
    "    print('1 is January')\n",
    "elif (userMonth == 2 ):\n",
    "    print('2 is February')\n",
    "elif (userMonth == 3 ):\n",
    "    print('3 is March')        "
   ]
  },
  {
   "cell_type": "code",
   "execution_count": null,
   "metadata": {
    "id": "L6SeeWMiOMfi"
   },
   "outputs": [],
   "source": []
  },
  {
   "cell_type": "code",
   "execution_count": null,
   "metadata": {
    "id": "BhhL9QVDOMfj"
   },
   "outputs": [],
   "source": []
  },
  {
   "cell_type": "markdown",
   "metadata": {
    "id": "jmHKxtNlOMfk"
   },
   "source": [
    "# The While Loop\n",
    "- As long as the condition remains true, the statements\n",
    "inside the <font color='blue'>**while**</font> statement are executed. \n",
    "- This statement block is called the <font color='blue'>**body**</font> of the while statement."
   ]
  },
  {
   "cell_type": "markdown",
   "metadata": {
    "id": "Ss0KSwgZOMfk"
   },
   "source": [
    "# The While Loop\n",
    "## Count-Controlled Loops"
   ]
  },
  {
   "cell_type": "markdown",
   "metadata": {
    "id": "NXqEOqgEOMfl"
   },
   "source": [
    "- A while loop that is controlled by a counter:"
   ]
  },
  {
   "cell_type": "code",
   "execution_count": null,
   "metadata": {
    "id": "kwxSLj9ROMfm"
   },
   "outputs": [],
   "source": [
    "counter = 1                 # Initialize the counter\n",
    "\n",
    "while counter <= 10 :       # Check the counter\n",
    "    counter = counter + 1   # Update the loop variable\n",
    "    print(counter)\n"
   ]
  },
  {
   "cell_type": "markdown",
   "metadata": {
    "id": "OM-6qwVGOMfo"
   },
   "source": [
    "# The While Loop - Student Activity\n",
    "- What does the following loop print?"
   ]
  },
  {
   "cell_type": "code",
   "execution_count": null,
   "metadata": {
    "id": "xcwu9iINOMfo"
   },
   "outputs": [],
   "source": [
    "n =1\n",
    "while n < 100:\n",
    "    n = 2* n\n",
    "    print(n)"
   ]
  },
  {
   "cell_type": "code",
   "execution_count": null,
   "metadata": {
    "id": "8JXE425POMfp"
   },
   "outputs": [],
   "source": [
    "i = 0\n",
    "total = 0\n",
    "while total < 0:\n",
    "    i = i + 1\n",
    "    total = total - i\n",
    "    print(i,total)"
   ]
  },
  {
   "cell_type": "markdown",
   "metadata": {
    "id": "8Xc3mLkDOMfq"
   },
   "source": [
    "# Common Loop Algorithms\n",
    "- Sum and Average Values:"
   ]
  },
  {
   "cell_type": "code",
   "execution_count": null,
   "metadata": {
    "id": "Tt1VlUDyOMfq"
   },
   "outputs": [],
   "source": [
    "total = 0.0\n",
    "inputStr = input(\"Enter value: \")\n",
    "while inputStr !=\"\":\n",
    "    value = float(inputStr)\n",
    "    total = total + value\n",
    "    inputStr = input(\"Enter value: \")\n",
    "print(\"Sum: \",total)"
   ]
  },
  {
   "cell_type": "markdown",
   "metadata": {
    "id": "jZUt_XWJOMfr"
   },
   "source": [
    "# The `for` Loop"
   ]
  },
  {
   "cell_type": "markdown",
   "metadata": {
    "id": "svZlkHDDOMfs"
   },
   "source": [
    "- Uses of a `for` loop:\n",
    "    - The `for` loop can be used to iterate over the contents of any container.\n",
    "    - A container is an object (like a string) that contains or stores a collection of elements.\n",
    "    - A string is a container that stores a sequence of characters. "
   ]
  },
  {
   "cell_type": "code",
   "execution_count": null,
   "metadata": {
    "id": "tpgNfgjaOMfs"
   },
   "outputs": [],
   "source": [
    "stateName = \"Virginia\"\n",
    "for letter in stateName :\n",
    "    print(letter)"
   ]
  },
  {
   "cell_type": "markdown",
   "metadata": {
    "id": "C4kCvErYOMft"
   },
   "source": [
    "\n",
    "> <img src=\"https://drive.google.com/uc?id=1pLzfI4udW-6TL8qfvnetLukPNwSoO0el\" /><br />\n"
   ]
  },
  {
   "cell_type": "markdown",
   "metadata": {
    "id": "q1laghcqOMft"
   },
   "source": [
    "# The `for` Loop\n",
    "- Can we write this program using a <font color='blue'>**while**</font> loop?"
   ]
  },
  {
   "cell_type": "code",
   "execution_count": null,
   "metadata": {
    "id": "fwlwmvH4OMfu"
   },
   "outputs": [],
   "source": [
    "myName = \"Hadi\"\n",
    "for letter in myName :\n",
    "    print(letter)\n",
    "# in while loop:\n",
    "\n",
    "# counter = 0 "
   ]
  },
  {
   "cell_type": "code",
   "execution_count": null,
   "metadata": {
    "id": "p7rL8HRdOMfu"
   },
   "outputs": [],
   "source": [
    "i = 0\n",
    "myName = \"Virginia\"\n",
    "while i < len(myName):\n",
    "    letter = myName[i]\n",
    "    print(letter)\n",
    "    i = i + 1"
   ]
  },
  {
   "cell_type": "markdown",
   "metadata": {
    "id": "Z0Jkze7SOMfv"
   },
   "source": [
    "# The for Loop\n",
    "- The <font color='blue'>**for**</font> loop can be used with the `range` function to iterate over a range of integer values.\n",
    "- When we write `range(i,j)`, what are the range values (assuming that $i < j$?) "
   ]
  },
  {
   "cell_type": "code",
   "execution_count": null,
   "metadata": {
    "id": "d9JASmYlOMfw"
   },
   "outputs": [],
   "source": [
    "for i in range(1,10):\n",
    "    print(i)"
   ]
  },
  {
   "cell_type": "code",
   "execution_count": null,
   "metadata": {
    "id": "_kpsft3uOMfw"
   },
   "outputs": [],
   "source": [
    "i = 1\n",
    "while i < 10:\n",
    "    print(i)\n",
    "    i = i + 1"
   ]
  },
  {
   "cell_type": "markdown",
   "metadata": {
    "id": "1dR4ArIDOMfx"
   },
   "source": [
    "# The range Function\n",
    "- You can use a for loop as a count-controlled loop to iterate over a range of integer values. \n",
    "- We use the `range` function for generating a sequence of integers that are less than the argument that can be used with the for loop. "
   ]
  },
  {
   "cell_type": "code",
   "execution_count": null,
   "metadata": {
    "id": "uVHiX9wMOMfy"
   },
   "outputs": [],
   "source": [
    "\n",
    "for i in range(5):\n",
    "    print(i)\n",
    "    \n",
    "# for i in range(1,5):\n",
    "#     print(i)\n",
    "# for i in range(1,11,2):\n",
    "#     print(i) "
   ]
  },
  {
   "cell_type": "markdown",
   "metadata": {
    "id": "HxLFSsKoOMfy"
   },
   "source": [
    "# Processing Strings\n",
    "- A common use of loops is to process or evaluate strings.\n",
    "- For example, you may need to count the number of occurrences of one or more characters in a string or verify that the contents of a string meet certain criteria. "
   ]
  },
  {
   "cell_type": "code",
   "execution_count": null,
   "metadata": {
    "id": "gDaPFqBVOMfz"
   },
   "outputs": [],
   "source": [
    "# hint: use .isupper():\n",
    "\n"
   ]
  },
  {
   "cell_type": "code",
   "execution_count": null,
   "metadata": {
    "id": "1Sy1CojrOMfz"
   },
   "outputs": [],
   "source": [
    "string = \"This is a Test Message\"\n",
    "uppercase = 0\n",
    "for char in string:\n",
    "    if char.isupper():\n",
    "        uppercase = uppercase + 1\n",
    "print(\"The number of uppercase letters are:\",uppercase)"
   ]
  },
  {
   "cell_type": "markdown",
   "metadata": {
    "id": "Nt23DRrkOMf0"
   },
   "source": [
    "## Finding All Matches\n",
    "- For example, suppose you are asked to print the position of each uppercase letter in a sentence. "
   ]
  },
  {
   "cell_type": "markdown",
   "metadata": {
    "id": "aqIfi_jAOMf0"
   },
   "source": [
    "## Processing Strings: Slices\n",
    "- Sometimes, we are interested in looking at a part of a string.  \n",
    "- For example, assume that we would like to extract the area code from the telephone number.\n",
    "    - For `phoneNumber = \"(323)570-1234\"`, we would like to extract `323`.\n",
    "- This can be achieved using the `slice` operator, **[`:`]**. For example,\n"
   ]
  },
  {
   "cell_type": "code",
   "execution_count": null,
   "metadata": {
    "id": "gY_H8BOxOMf1"
   },
   "outputs": [],
   "source": [
    "## Finding the area code using the slice operator\n",
    "phoneNumber = \"(323)570-1234\"\n",
    "areaCode = phoneNumber[1:4]\n",
    "print(\"The area code is \"+ areaCode)"
   ]
  },
  {
   "cell_type": "markdown",
   "metadata": {
    "id": "HDSUE4bcOMf1"
   },
   "source": [
    "### Examples\n",
    "- The following examples show the various uses of the slice operator\n",
    "\n",
    "> <img src=\"https://drive.google.com/uc?id=1FeZwyMOy0DZ5sp04jDInduXThkAMiVkD\" /><br />\n"
   ]
  },
  {
   "cell_type": "code",
   "execution_count": null,
   "metadata": {
    "id": "GpWvNgLbOMf2"
   },
   "outputs": [],
   "source": [
    "Name = \"Abdullah Salem Al-Saleh\""
   ]
  },
  {
   "cell_type": "code",
   "execution_count": null,
   "metadata": {
    "id": "6KZhJgPjOMf2"
   },
   "outputs": [],
   "source": [
    "print(Name[0:8])"
   ]
  },
  {
   "cell_type": "code",
   "execution_count": null,
   "metadata": {
    "id": "4_o9o6akOMf3"
   },
   "outputs": [],
   "source": [
    "print(Name[:8])"
   ]
  },
  {
   "cell_type": "code",
   "execution_count": null,
   "metadata": {
    "id": "KE5wBBCiOMf3"
   },
   "outputs": [],
   "source": [
    "print(Name[9:])"
   ]
  },
  {
   "cell_type": "code",
   "execution_count": null,
   "metadata": {
    "id": "LA_6yrgFOMf4"
   },
   "outputs": [],
   "source": [
    "print(Name[7:22:3])"
   ]
  },
  {
   "cell_type": "markdown",
   "metadata": {
    "id": "vYrDv5qWOMf4"
   },
   "source": [
    "# Functions as Black Boxes\n",
    "- A <font color='blue'>**function**</font> is a sequence of instructions with a name."
   ]
  },
  {
   "cell_type": "markdown",
   "metadata": {
    "id": "5nQqoakYOMf5"
   },
   "source": [
    "- For example, the <font color='blue'>**round**</font> function, contains instructions to round a floating point value to a specified number of decimal places.\n",
    "- You <font color='blue'>**call**</font> a function in order to execute its instruction. "
   ]
  },
  {
   "cell_type": "code",
   "execution_count": null,
   "metadata": {
    "id": "RCyMrVifOMf5"
   },
   "outputs": [],
   "source": [
    "price = round(6.8275,2) # Sets results to 6.83\n",
    "print(\"Price:\",price)"
   ]
  },
  {
   "cell_type": "markdown",
   "metadata": {
    "id": "NvttiS0QOMf6"
   },
   "source": [
    "# Functions as Black Boxes\n",
    "- When another function calls the round function, it provides <font color='blue'>**“inputs”**</font>, such as the values 6.8275 and 2 in the call round(6.8275, 2). \n",
    "- These values are called the <font color='blue'>**arguments**</font> of the function call. \n",
    "    - Note that they are not necessarily inputs provided by a human user. \n",
    "    - They are simply the values for which we want the function to compute a result.\n",
    "- The <font color='blue'>**“output”**</font> that the round function computes is called the <font color='blue'>**return value**</font>."
   ]
  },
  {
   "cell_type": "markdown",
   "metadata": {
    "id": "Drp2VVl9OMf6"
   },
   "source": [
    "> <img src=\"https://drive.google.com/uc?id=1hz5e3BVF3yF5Nmos8Ypx6j0S-pRBg7hw\" /><br />\n"
   ]
  },
  {
   "cell_type": "markdown",
   "metadata": {
    "id": "kt97SCt3OMf7"
   },
   "source": [
    "- We can think of round as a black box. "
   ]
  },
  {
   "cell_type": "markdown",
   "metadata": {
    "id": "LCdlSz6tOMf7"
   },
   "source": [
    "## Implementing a Function\n",
    "- When defining a <font color='blue'>**function**</font>, you provide a <font color='blue'>**name**</font> for the function and a <font color='blue'>**variable**</font> for each <font color='blue'>**argument**</font>. "
   ]
  },
  {
   "cell_type": "markdown",
   "metadata": {
    "id": "nQ1aFYptOMf8"
   },
   "source": [
    "- Let us start with a very simple example: \n",
    "    - a function to compute the volume of a cube with a given side length.\n"
   ]
  },
  {
   "cell_type": "markdown",
   "metadata": {
    "id": "wF59LMZBOMf9"
   },
   "source": [
    "# Implementing and Testing Functions"
   ]
  },
  {
   "cell_type": "markdown",
   "metadata": {
    "id": "RilxXmyrOMf-"
   },
   "source": [
    "- When writing this function, you need to\n",
    "    - Pick a <font color='blue'>**name**</font> for the function (cubeVolume)\n",
    "    - Define a variable for each <font color='blue'>**argument**</font> (sideLength). These variables are called the <font color='blue'>**parameter variables**</font>.\n",
    "- Put all this information together along with the <font color='blue'>**def**</font> reserved word to form the first line of the function's definition:\n",
    "    - <font color='blue'>**def cubeVolume(sideLength):**</font>"
   ]
  },
  {
   "cell_type": "code",
   "execution_count": null,
   "metadata": {
    "id": "pvOQbbsfOMf_"
   },
   "outputs": [],
   "source": [
    "def cubeVolume(sideLength): # Header\n",
    "    volume = sideLength ** 3 #  ---\n",
    "                             #    | Body\n",
    "    return volume            #  ---"
   ]
  },
  {
   "cell_type": "markdown",
   "metadata": {
    "id": "Q6tZeWtPOMgA"
   },
   "source": [
    "## Testing a Function\n",
    "- In order to test the function, your program should contain:\n",
    "    - The definition of the function.\n",
    "    - Statements that call the function and print the result. "
   ]
  },
  {
   "cell_type": "code",
   "execution_count": null,
   "metadata": {
    "id": "xHSKFskyOMgB"
   },
   "outputs": [],
   "source": [
    "def cubeVolume(sideLength):\n",
    "    volume = sideLength ** 3\n",
    "    return volume\n",
    "result1 = cubeVolume(2)\n",
    "result2 = cubeVolume(10)\n",
    "print(\"A cube with side length 2 has volume\", result1)\n",
    "print(\"A cube with side length 10 has volume\", result2)"
   ]
  },
  {
   "cell_type": "markdown",
   "metadata": {
    "id": "rH1P_PMdOMgC"
   },
   "source": [
    "## Student Activity\n",
    "- Define a function squareArea that computes the area of a square of a given side length. \n",
    "- $Square Area$ =  $SideLength^2$"
   ]
  },
  {
   "cell_type": "code",
   "execution_count": null,
   "metadata": {
    "id": "53G3WYmJOMgC"
   },
   "outputs": [],
   "source": [
    "#"
   ]
  },
  {
   "cell_type": "markdown",
   "metadata": {
    "id": "xZVFuDxYOMgD"
   },
   "source": [
    "# Basic Properties of Lists\n",
    "## Motivation\n",
    "- Assume that you are given 10 values to store in a program for later processing (e.g. finding the largest element).\n",
    "- One way to achieve this is to use 10 variables `value1`, `value2`, ..., `value10`.      "
   ]
  },
  {
   "cell_type": "markdown",
   "metadata": {
    "id": "bksd2lAyOMgE"
   },
   "source": [
    "- 32\n",
    "- 54\n",
    "- 67.5\n",
    "- 29\n",
    "- 35\n",
    "- 80\n",
    "- 115\n",
    "- 44.5\n",
    "- 100\n",
    "- 65"
   ]
  },
  {
   "cell_type": "code",
   "execution_count": null,
   "metadata": {
    "id": "r9XkqVBbOMgE"
   },
   "outputs": [],
   "source": []
  },
  {
   "cell_type": "markdown",
   "metadata": {
    "id": "SBxRragJOMgF"
   },
   "source": [
    "- من صجك بتقعد تسجلهم قيمة قيمة في متغير؟ :)"
   ]
  },
  {
   "cell_type": "markdown",
   "metadata": {
    "id": "mgz_A9ftOMgF"
   },
   "source": [
    "## Creating Lists\n",
    "- `values = [32, 54, 67.5, 29, 35, 80, 115, 44.5, 100, 65]`\n",
    "    - The square brackets indicate that we are creating a list. \n",
    "    - The items are stored in the order they are provided. "
   ]
  },
  {
   "cell_type": "markdown",
   "metadata": {
    "id": "YSTu_Ld5OMgG"
   },
   "source": [
    "> <img src=\"https://drive.google.com/uc?id=1fZi5AVBlDghwYEXxmc8thqoigvGQyzzP\" /><br />\n"
   ]
  },
  {
   "cell_type": "markdown",
   "metadata": {
    "id": "WOjRlDg1OMgG"
   },
   "source": [
    "## Accessing List Elements\n",
    "- A list is a sequence of elements, each of which has an integer position or index\n",
    "- To access a list element, you specify which index you want to use.\n",
    "- نفس السترنق أخوي\n",
    "- string[0] وهكذا"
   ]
  },
  {
   "cell_type": "markdown",
   "metadata": {
    "id": "MlMfg_K4OMgH"
   },
   "source": [
    "> <img src=\"https://drive.google.com/uc?id=1A52YSbXrm0EFvwsFs4fYAtKdxNuBJp47\" /><br />\n"
   ]
  },
  {
   "cell_type": "code",
   "execution_count": null,
   "metadata": {
    "id": "kl_vdNQ2OMgH"
   },
   "outputs": [],
   "source": [
    "values = [32, 54, 67.5, 29, 35, 80, 115, 44.5, 100, 65]\n",
    "# We want to access 29, what index we should pick?\n",
    "# > \n",
    "\n",
    "\n",
    "#To try:\n",
    "# values[5]=87\n",
    "# print(values[5])\n",
    "# print(type(values[2]))\n",
    "# print(type(values[3]))"
   ]
  },
  {
   "cell_type": "code",
   "execution_count": null,
   "metadata": {
    "id": "oVTi82HhOMgI"
   },
   "outputs": [],
   "source": [
    "# Does this work in python?\n",
    "\n",
    "String = 'Hi'\n",
    "String[0] = '2'"
   ]
  },
  {
   "cell_type": "markdown",
   "metadata": {
    "id": "9ZA9g26fOMgJ"
   },
   "source": [
    "## Differences between Lists and Strings\n",
    "- There are two differences between **lists** and **strings**\n",
    "    - Lists can hold values of any type, whereas strings are sequences of characters. \n",
    "    - Strings are immutable — you cannot change the characters in the sequence. But lists are mutable."
   ]
  },
  {
   "cell_type": "markdown",
   "metadata": {
    "id": "UHM1SCMPOMgK"
   },
   "source": [
    "> <img src=\"https://drive.google.com/uc?id=1gpFD-upHZqIvQC3ZIhr96oHfSgcjuha0\" /><br />\n"
   ]
  },
  {
   "cell_type": "markdown",
   "metadata": {
    "id": "2OK93sSJOMgL"
   },
   "source": [
    "- When accessing a variable in a list, the index of the list must stay within the valid range.\n",
    "    - Otherwise, an **out-of-range** error will result from using an index not in the range."
   ]
  },
  {
   "cell_type": "code",
   "execution_count": null,
   "metadata": {
    "id": "NhndaWlcOMgM"
   },
   "outputs": [],
   "source": [
    "values = [32, 54, 67.5, 29, 35, 80, 115, 44.5, 100, 65]\n",
    "values[10]=87\n"
   ]
  },
  {
   "cell_type": "markdown",
   "metadata": {
    "id": "cwlUId3rOMgM"
   },
   "source": [
    "## List Traversal\n",
    "- **List traversal** refers to visiting (and may be processing) each element in the list once."
   ]
  },
  {
   "cell_type": "code",
   "execution_count": null,
   "metadata": {
    "id": "SgrMtDkGOMgN"
   },
   "outputs": [],
   "source": [
    "values = [32, 54, 67.5, 29, 35, 80, 115, 44.5, 100, 65]\n",
    "# You only have access to elements\n",
    "# مو قلنا ان  الفور لوب كونينر؟\n",
    "for element in values :\n",
    "     print(element)"
   ]
  },
  {
   "cell_type": "code",
   "execution_count": null,
   "metadata": {
    "id": "1gvxmcUxOMgO"
   },
   "outputs": [],
   "source": [
    "length = len(values)\n",
    "for i in range(length):\n",
    "    print(i, values[i])"
   ]
  },
  {
   "cell_type": "code",
   "execution_count": null,
   "metadata": {
    "id": "nkDbBldzOMgQ"
   },
   "outputs": [],
   "source": [
    "list(range(9))"
   ]
  },
  {
   "cell_type": "markdown",
   "metadata": {
    "id": "P79rX88eOMgS"
   },
   "source": [
    "> <img src=\"https://drive.google.com/uc?id=1fZi5AVBlDghwYEXxmc8thqoigvGQyzzP\" /><br />\n"
   ]
  },
  {
   "cell_type": "markdown",
   "metadata": {
    "id": "1S1JceMlOMgT"
   },
   "source": [
    "- A list variable contains a **reference** to the list contents.  \n",
    "- The **reference** is the location of the list contents (in memory). "
   ]
  },
  {
   "cell_type": "markdown",
   "metadata": {
    "id": "V_cgKAyJOMgT"
   },
   "source": [
    "- That is why when you assign a list variable into another, both variables refer to the same list\n",
    "    - The second variable is an **alias** for the first because both variables reference the same list"
   ]
  },
  {
   "cell_type": "code",
   "execution_count": null,
   "metadata": {
    "id": "JnZIMblXOMgU"
   },
   "outputs": [],
   "source": [
    "scores = [10, 9, 7, 4, 5]\n",
    "values = scores"
   ]
  },
  {
   "cell_type": "markdown",
   "metadata": {
    "id": "XPIG3bWkOMgV"
   },
   "source": [
    "> <img src=\"https://drive.google.com/uc?id=1xfnBkgtBwGlLbMCG48JtjSbZXd9KT9v4\" /><br />\n"
   ]
  },
  {
   "cell_type": "code",
   "execution_count": null,
   "metadata": {
    "id": "FD681gWYOMgV"
   },
   "outputs": [],
   "source": [
    "scores = [10, 9, 7, 4, 5]\n",
    "values = scores\n",
    "scores[3] = 10\n",
    "print(values[3])"
   ]
  },
  {
   "cell_type": "markdown",
   "metadata": {
    "id": "4hGVZ_PROMgW"
   },
   "source": [
    "## Student Activity\n",
    "- Define a list of integers, `primes`, containing the first five prime numbers.\n",
    "- What does the list `primes` contain after executing the following loop."
   ]
  },
  {
   "cell_type": "code",
   "execution_count": null,
   "metadata": {
    "id": "2BL_DTVjOMgX"
   },
   "outputs": [],
   "source": [
    "## Student Activity\n",
    "# primes\n",
    "for i in range(2) :\n",
    "     primes[4 - i] = primes[i]\n",
    "print(primes)"
   ]
  },
  {
   "cell_type": "markdown",
   "metadata": {
    "id": "bkyW6KiHOMgX"
   },
   "source": [
    "# List Operations\n",
    "## Appending Elements\n",
    "- If we do not know all the elements of a list, beforehand, we can create an empty list and add elements to the end as needed."
   ]
  },
  {
   "cell_type": "markdown",
   "metadata": {
    "id": "97mjf2ZaOMgY"
   },
   "source": [
    "> <img src=\"https://drive.google.com/uc?id=17mqZZjVzWuxDkix93xhml5Getq83vMiS\" /><br />\n"
   ]
  },
  {
   "cell_type": "markdown",
   "metadata": {
    "id": "lPYRQ8OfOMgZ"
   },
   "source": [
    "## Inserting Elements\n",
    "- Sometimes the order in which elements are added to a list is important\n",
    "- A new element has to be inserted at a specific position in the list\n",
    "- e.g.,"
   ]
  },
  {
   "cell_type": "code",
   "execution_count": null,
   "metadata": {
    "id": "AGqnid9xOMgZ"
   },
   "outputs": [],
   "source": [
    "friends = [\"Harry\", \"Emily\", \"Bob\", \"Cari\"]"
   ]
  },
  {
   "cell_type": "markdown",
   "metadata": {
    "id": "pW7IZ3U0OMga"
   },
   "source": [
    "> <img src=\"https://drive.google.com/uc?id=1J8mK3OmauoRVxBwyzl56vap0y5SePmk9\" /><br />\n"
   ]
  },
  {
   "cell_type": "code",
   "execution_count": null,
   "metadata": {
    "id": "ydlv8GkuOMga"
   },
   "outputs": [],
   "source": [
    "friends = [\"Harry\", \"Emily\", \"Bob\", \"Cari\"]\n",
    "friends.insert(1, \"Cindy\")\n",
    "print(friends)"
   ]
  },
  {
   "cell_type": "markdown",
   "metadata": {
    "id": "FVoKpJ9VOMgb"
   },
   "source": [
    "> <img src=\"https://drive.google.com/uc?id=14hAhaj48FqYioy3JM_GP7_kL0WPUHLm0\" /><br />\n"
   ]
  },
  {
   "cell_type": "markdown",
   "metadata": {
    "id": "ZdVeXYSDOMgc"
   },
   "source": [
    "- Note that the index at which the new element is to be inserted must be between 0 and the number of elements currently in the list. "
   ]
  },
  {
   "cell_type": "markdown",
   "metadata": {
    "id": "ZISY4GaVOMge"
   },
   "source": [
    "## Finding an Element\n",
    "- We can determine whether the element is in the list or not"
   ]
  },
  {
   "cell_type": "code",
   "execution_count": null,
   "metadata": {
    "id": "8ayqhEx6OMgf"
   },
   "outputs": [],
   "source": [
    "friends = [\"Harry\", \"Emily\", \"Bob\", \"Cari\", \"Emily\"]\n",
    "if \"Cindy\" in friends :\n",
    "    print(\"She's a friend\")"
   ]
  },
  {
   "cell_type": "markdown",
   "metadata": {
    "id": "WknV2MR7OMgg"
   },
   "source": [
    "- We can, further, determine the index of the element if it is in the list."
   ]
  },
  {
   "cell_type": "code",
   "execution_count": null,
   "metadata": {
    "id": "5ACtP5J8OMgi"
   },
   "outputs": [],
   "source": [
    "friends = [\"Harry\", \"Emily\", \"Bob\", \"Cari\", \"Emily\"]\n",
    "n = friends.index(\"Emily\")\n",
    "print(n)"
   ]
  },
  {
   "cell_type": "markdown",
   "metadata": {
    "id": "7YwTHVReOMgj"
   },
   "source": [
    "## Removing an Element\n",
    "- The `pop()` method removes the element at a given position."
   ]
  },
  {
   "cell_type": "code",
   "execution_count": null,
   "metadata": {
    "id": "YDumqDM0OMgk"
   },
   "outputs": [],
   "source": [
    "friends = [\"Harry\", \"Cindy\", \"Emily\", \"Bob\", \"Cari\",\"Bill\"]\n",
    "friends.pop(1)\n",
    "print(friends)"
   ]
  },
  {
   "cell_type": "markdown",
   "metadata": {
    "id": "ObXxWULNOMgl"
   },
   "source": [
    "- The `pop()` method without an argument will remove the last element in the list."
   ]
  },
  {
   "cell_type": "code",
   "execution_count": null,
   "metadata": {
    "id": "GsJYSOIwOMgm",
    "outputId": "a247348d-4714-4399-bda1-8d9eda845069"
   },
   "outputs": [
    {
     "name": "stdout",
     "output_type": "stream",
     "text": [
      "['Harry', 'Cindy', 'Emily', 'Bob', 'Cari']\n"
     ]
    }
   ],
   "source": [
    "friends = [\"Harry\", \"Cindy\", \"Emily\", \"Bob\", \"Cari\",\"Bill\"]\n",
    "friends.pop()\n",
    "print(friends)"
   ]
  },
  {
   "cell_type": "markdown",
   "metadata": {
    "id": "jSmbK6JhOMgn"
   },
   "source": [
    "- The element removed from the list is **returned** by the pop() method."
   ]
  },
  {
   "cell_type": "code",
   "execution_count": null,
   "metadata": {
    "id": "SFwWnWIWOMgn"
   },
   "outputs": [],
   "source": [
    "friends = [\"Harry\", \"Cindy\", \"Emily\", \"Bob\", \"Cari\",\"Bill\"]\n",
    "print(friends.pop())\n",
    "print(friends)"
   ]
  },
  {
   "cell_type": "markdown",
   "metadata": {
    "id": "D9Mb138jOMgo"
   },
   "source": [
    "- The remove method removes an element by ***value*** instead of by ***position***. "
   ]
  },
  {
   "cell_type": "code",
   "execution_count": null,
   "metadata": {
    "id": "MIUYDwq6OMgp"
   },
   "outputs": [],
   "source": [
    "friends = [\"Harry\", \"Cindy\", \"Emily\", \"Bob\", \"Cari\",\"Bill\"]\n",
    "friends.remove(\"Cari\")\n",
    "print(friends)"
   ]
  },
  {
   "cell_type": "markdown",
   "metadata": {
    "id": "dlPvhjCpOMgp"
   },
   "source": [
    "- Note that the value being removed must be in the list or an exception is raised. \n"
   ]
  },
  {
   "cell_type": "markdown",
   "metadata": {
    "id": "MWtz_r_NOMgq"
   },
   "source": [
    "## Concatenation and Replication\n",
    "- The concatenation of two lists is a new list that contains the elements of the first list, followed by the elements of the second.\n",
    "- This is accomplished using the concatenation operator **`+`**."
   ]
  },
  {
   "cell_type": "code",
   "execution_count": null,
   "metadata": {
    "id": "Cruij7ftOMgq"
   },
   "outputs": [],
   "source": [
    "myFriends = [\"Fritz\", \"Cindy\"]\n",
    "yourFriends = [\"Lee\", \"Pat\", \"Phuong\"]\n",
    "ourFriends = myFriends + yourFriends\n",
    "print(ourFriends)"
   ]
  },
  {
   "cell_type": "markdown",
   "metadata": {
    "id": "TifGetgNOMgr"
   },
   "source": [
    "- If you want to concatenate the same list multiple times, use the replication operator **`*`**."
   ]
  },
  {
   "cell_type": "code",
   "execution_count": null,
   "metadata": {
    "id": "Lop-fb44OMgs"
   },
   "outputs": [],
   "source": [
    "# Repeating the same list multiple times\n",
    "monthInQurater = [1, 2, 3] * 4\n",
    "print(monthInQurater)"
   ]
  },
  {
   "cell_type": "code",
   "execution_count": null,
   "metadata": {
    "id": "i9SW9AWMOMgt"
   },
   "outputs": [],
   "source": [
    "# Replication can be used to initialize a list with a fixed value\n",
    "monthlyScores = [0] * 12\n",
    "print(monthlyScores)"
   ]
  },
  {
   "cell_type": "markdown",
   "metadata": {
    "id": "p8Nn43ynOMgu"
   },
   "source": [
    "## Equality Testing\n",
    "- You can use the == operator to compare whether two lists have the same elements, in the same order.\n",
    "- Similarly, you can use the != operator to compare whether two lists are different."
   ]
  },
  {
   "cell_type": "code",
   "execution_count": null,
   "metadata": {
    "id": "tG5RApUnOMgu"
   },
   "outputs": [],
   "source": [
    "l1 = [1, 4, 9] == [1, 4, 9]     # Result is\n",
    "l2 = [1, 4, 9 ] == [4, 1, 9]    # Result is\n",
    "l3 = [1, 4, 9] != [1, 4]   # Result is\n",
    "print(\"l1 is\", l1, \", l2 is\", l2, \"and l3 is\", l3)"
   ]
  },
  {
   "cell_type": "markdown",
   "metadata": {
    "id": "D7jFvS7qOMgv"
   },
   "source": [
    "## Copying Lists\n",
    "- Given a list **`values`**, if we want to make a copy of it, does the following work?"
   ]
  },
  {
   "cell_type": "code",
   "execution_count": null,
   "metadata": {
    "id": "cVi-PXNAOMgx",
    "outputId": "6700bbbf-4373-443c-b43c-7d7242a42d26"
   },
   "outputs": [
    {
     "name": "stdout",
     "output_type": "stream",
     "text": [
      "[32, 54, 67.5, 29, 35, 80, 115, 44.5, 100, 65]\n",
      "[32, 54, 67.5, 29, 35, 80, 115, 44.5, 100, 65]\n",
      "[32, 54, -1, 29, 35, 80, 115, 44.5, 100, 65]\n",
      "[32, 54, -1, 29, 35, 80, 115, 44.5, 100, 65]\n"
     ]
    }
   ],
   "source": [
    "values = [32, 54, 67.5, 29, 35, 80, 115, 44.5, 100, 65]\n",
    "anotherCopy = values\n",
    "print(values)\n",
    "print(anotherCopy)\n",
    "anotherCopy[2] = -1 \n",
    "print(values)\n",
    "print(anotherCopy)"
   ]
  },
  {
   "cell_type": "code",
   "execution_count": null,
   "metadata": {
    "id": "3T8UDuWDOMgz"
   },
   "outputs": [],
   "source": [
    "values = [32, 54, 67.5, 29, 35, 80, 115, 44.5, 100, 65]\n",
    "anotherCopy = list(values)\n",
    "print(values)\n",
    "print(anotherCopy)\n",
    "anotherCopy[2] = -1 \n",
    "print(values)\n",
    "print(anotherCopy)"
   ]
  },
  {
   "cell_type": "markdown",
   "metadata": {
    "id": "wPF30RayOMg0"
   },
   "source": [
    "# Common List Algorithms"
   ]
  },
  {
   "cell_type": "markdown",
   "metadata": {
    "id": "B-cVl3l8OMg1"
   },
   "source": [
    "## Filling\n",
    "- Write Python code that will generate a list of squares (0, 1, 4, 9, 16, ..., 100)."
   ]
  },
  {
   "cell_type": "code",
   "execution_count": null,
   "metadata": {
    "id": "-e4tsjOXOMg2"
   },
   "outputs": [],
   "source": []
  },
  {
   "cell_type": "code",
   "execution_count": null,
   "metadata": {
    "id": "2mZbwMYCOMg2"
   },
   "outputs": [],
   "source": [
    "values = []\n",
    "for i in range(11) :\n",
    " values.append(i * i)\n",
    "print(values)"
   ]
  },
  {
   "cell_type": "markdown",
   "metadata": {
    "id": "1LbHxhcWOMg3"
   },
   "source": [
    "# Using Lists with Functions\n",
    "- A function can accept a list as an argument.\n",
    "- The following function multiplies all elements of a list by a given factor:"
   ]
  },
  {
   "cell_type": "code",
   "execution_count": null,
   "metadata": {
    "id": "eHyp-PH_OMg4"
   },
   "outputs": [],
   "source": [
    "def multiply(values, factor) :\n",
    "    for i in range(len(values)) :\n",
    "        values[i] = values[i] * factor\n",
    "scores = [32, 54, 67.5, 29, 35]        \n",
    "multiply (scores, 10)"
   ]
  },
  {
   "cell_type": "code",
   "execution_count": null,
   "metadata": {
    "id": "J2wVhoWpOMg5"
   },
   "outputs": [],
   "source": [
    "# Do you think that the values of the list scores will change?\n",
    "print(scores)    "
   ]
  },
  {
   "cell_type": "markdown",
   "metadata": {
    "id": "tmhC9YWPOMg6"
   },
   "source": [
    "- The answer is yes. The reason is that `values` has a copy of the reference to the `scores` list."
   ]
  },
  {
   "cell_type": "markdown",
   "metadata": {
    "id": "xf3MwA6NOMg7"
   },
   "source": [
    "## Returning Lists from Functions\n",
    "- Create and build the list inside the function and then return it.\n",
    "- The following example function **`squares`** returns a list of squares from $0^2$ up to $(n–1)^2$."
   ]
  },
  {
   "cell_type": "code",
   "execution_count": null,
   "metadata": {
    "id": "VRRcZw4YOMg8"
   },
   "outputs": [],
   "source": [
    "def squares(n) :\n",
    "    result = []\n",
    "    for i in range(n) :\n",
    "        result.append(i * i)\n",
    "    return result\n",
    "myList = squares(8)\n",
    "print(myList)"
   ]
  },
  {
   "cell_type": "markdown",
   "metadata": {
    "id": "MuBtTB4dOMg-"
   },
   "source": [
    "# Dictionaries\n",
    "- A dictionary is a container that keeps associations between **keys** and **values**. \n",
    "    - Every key in the dictionary has an associated value.  \n",
    "  > <img src=\"https://drive.google.com/uc?id=1AaODR7CRD7lql28MbGUEbS0xIcMgqRrg\" /><br />\n",
    "\n"
   ]
  },
  {
   "cell_type": "code",
   "execution_count": null,
   "metadata": {
    "id": "HZITbIhKOMg_"
   },
   "outputs": [],
   "source": [
    "favoriteColors = { \"Romeo\": \"Green\", \"Adam\": \"Red\", \"John\": \"Blue\", \"Sam\": \"Red\" }\n",
    "print(favoriteColors)"
   ]
  },
  {
   "cell_type": "markdown",
   "metadata": {
    "id": "YlCjnP6IOMhA"
   },
   "source": [
    "## Creating Dictionaries\n",
    "- A dictionary is created where each key:value pair is separated by a colon.\n"
   ]
  },
  {
   "cell_type": "code",
   "execution_count": null,
   "metadata": {
    "id": "RQVEzLJQOMhB"
   },
   "outputs": [],
   "source": [
    "contacts = { \"Fred\": 7235591, \"Mary\": 3841212, \"Bob\": 3841212, \"Sarah\": 2213278 }\n",
    "print(contacts)"
   ]
  },
  {
   "cell_type": "markdown",
   "metadata": {
    "id": "q6nqLHNhOMhB"
   },
   "source": [
    "> <img src=\"https://drive.google.com/uc?id=1VNvX5Gvkd3hx01CHpBigAm7nQBn0NXbQ\" /><br />\n"
   ]
  },
  {
   "cell_type": "markdown",
   "metadata": {
    "id": "ZlFKg5o7OMhC"
   },
   "source": [
    "## Accessing Dictionary Values\n",
    "- The subscript operator []  is used to return the value associated with a key."
   ]
  },
  {
   "cell_type": "code",
   "execution_count": null,
   "metadata": {
    "id": "7WgjmnXyOMhD"
   },
   "outputs": [],
   "source": [
    "contacts = { \"Fred\": 7235591, \"Mary\": 3841212, \"Bob\": 3841212, \"Sarah\": 2213278 }\n",
    "print(\"Bob's number is\", contacts[\"Bob\"])"
   ]
  },
  {
   "cell_type": "markdown",
   "metadata": {
    "id": "AppAJriIOMhF"
   },
   "source": [
    "- You cannot access the items by index or position. \n",
    "    - A **value** can only be accessed using its associated **key**."
   ]
  },
  {
   "cell_type": "markdown",
   "metadata": {
    "id": "jhvNUPfjOMhG"
   },
   "source": [
    "- Note that the key supplied to the subscript operator must be a valid key in the dictionary, otherwise a `KeyError` exception will be raised."
   ]
  },
  {
   "cell_type": "code",
   "execution_count": null,
   "metadata": {
    "id": "Ymxgqx5FOMhG"
   },
   "outputs": [],
   "source": [
    "contacts = { \"Fred\": 7235591, \"Mary\": 3841212, \"Bob\": 3841212, \"Sarah\": 2213278 }\n",
    "myContact = input(\"Enter the contact name: \")\n",
    "if myContact in contacts :\n",
    "    print(myContact + \"'s number is\", contacts[myContact])\n",
    "else :\n",
    "    print(myContact + \" is not in my contact list.\")"
   ]
  },
  {
   "cell_type": "markdown",
   "metadata": {
    "id": "8RqdnqikOMhH"
   },
   "source": [
    "## Adding and Modifying Items in a Dictionary"
   ]
  },
  {
   "cell_type": "code",
   "execution_count": null,
   "metadata": {
    "id": "8PhCXik-OMhH"
   },
   "outputs": [],
   "source": [
    "contacts = { \"Fred\": 7235591, \"Mary\": 3841212, \"Bob\": 3841212, \"Sarah\": 2213278 }\n",
    "contacts[\"John\"] = 2034847 # Adding a new contact\n",
    "print(contacts)\n",
    "contacts[\"John\"] = 2037663 # Modifying the value of a contact\n",
    "print(contacts)"
   ]
  },
  {
   "cell_type": "code",
   "execution_count": null,
   "metadata": {
    "id": "IGqeUCqFOMhJ"
   },
   "outputs": [],
   "source": [
    "favoriteColors = {}                # In case we do not know the elements of the dictionary beforehand\n",
    "favoriteColors[\"Juliet\"] = \"Blue\"  # Add a key:value pair to the dictionary\n",
    "favoriteColors[\"Adam\"] = \"Red\"     # Add a key:value pair to the dictionary\n",
    "favoriteColors[\"Eve\"] = \"Blue\"     # Add a key:value pair to the dictionary\n",
    "favoriteColors[\"Romeo\"] = \"Green\"  # Add a key:value pair to the dictionary\n",
    "print(favoriteColors)"
   ]
  },
  {
   "cell_type": "markdown",
   "metadata": {
    "id": "_hCHYY34OMhK"
   },
   "source": [
    "## Removing a key from a Dictionary\n",
    "- Call the `pop` method with the key as the argument. \n",
    "- `pop` returns the value of the removed key.\n",
    "- A `KeyError` exception is raised if the key to be removed is not in the dictionary."
   ]
  },
  {
   "cell_type": "code",
   "execution_count": null,
   "metadata": {
    "id": "Y8U1nw4dOMhK"
   },
   "outputs": [],
   "source": [
    "contacts = { \"Fred\": 7235591, \"Mary\": 3841212, \"Bob\": 3841212, \"Sarah\": 2213278 }\n",
    "myContact = input(\"Enter the contact name to remove: \")\n",
    "contactsNumber = contacts.pop(myContact)\n",
    "print(myContact + \" was removed, and the current contacts contain the following\\n\", contacts)"
   ]
  },
  {
   "cell_type": "markdown",
   "metadata": {
    "id": "iJHpiF-nOMhL"
   },
   "source": [
    "## Traversing a Dictionary\n",
    "- To access the value associated with a key in the body of the loop, you can use the loop variable with the subscript operator. "
   ]
  },
  {
   "cell_type": "code",
   "execution_count": null,
   "metadata": {
    "id": "8UQk0WD7OMhM"
   },
   "outputs": [],
   "source": [
    "contacts = { \"Fred\": 7235591, \"Mary\": 3841212, \"Bob\": 3841212, \"Sarah\": 2213278 }\n",
    "print(\"My Contacts:\")\n",
    "for key in contacts :\n",
    "    print('the key is > ', key)\n",
    "    print(key, contacts[key])"
   ]
  },
  {
   "cell_type": "code",
   "execution_count": null,
   "metadata": {
    "id": "9eXmSEXPOMhM"
   },
   "outputs": [],
   "source": [
    "contacts = { \"Fred\": 7235591, \"Mary\": 3841212, \n",
    "            \"Bob\": 3841212, \"Sarah\": 2213278 }\n",
    "phoneNumbers = [] # Create an empty list.\n",
    "for number in contacts.values()  :\n",
    "    phoneNumbers.append(number)\n",
    "print(phoneNumbers)"
   ]
  },
  {
   "cell_type": "markdown",
   "metadata": {
    "id": "Q9D4CUjZOMhN"
   },
   "source": [
    "# Ouh what a lengthy session right? "
   ]
  },
  {
   "cell_type": "markdown",
   "metadata": {
    "id": "LsrChrIaOMhN"
   },
   "source": [
    "## Your feedback is much appricated 😁\n",
    "https://gdsc-kfupm.typeform.com/to/uLZbkyVP\n"
   ]
  }
 ],
 "metadata": {
  "celltoolbar": "Slideshow",
  "colab": {
   "collapsed_sections": [
    "hQLFMyDeOMdM",
    "fNtwDT9bOMdN",
    "0XFCz8GiOMdc",
    "9zxRLkV_OMdd",
    "bNxm-UxHOMdf",
    "cGB_mYuBOMdo",
    "lif0X2GaOMdv",
    "KX755b6hOMdx",
    "kCzqRDmIOMd-",
    "c4xE4Y1SOMei",
    "qsb-CaxbOMfB",
    "jmHKxtNlOMfk",
    "Nt23DRrkOMf0",
    "HDSUE4bcOMf1"
   ],
   "provenance": []
  },
  "interpreter": {
   "hash": "c129ec12c621d16e07fe9c7adfdf8548a0f2dc95925b1f6bbf25d91abadc8424"
  },
  "kernelspec": {
   "display_name": "Python 3 (ipykernel)",
   "language": "python",
   "name": "python3"
  },
  "language_info": {
   "codemirror_mode": {
    "name": "ipython",
    "version": 3
   },
   "file_extension": ".py",
   "mimetype": "text/x-python",
   "name": "python",
   "nbconvert_exporter": "python",
   "pygments_lexer": "ipython3",
   "version": "3.9.13"
  },
  "toc": {
   "base_numbering": 1,
   "nav_menu": {},
   "number_sections": true,
   "sideBar": true,
   "skip_h1_title": false,
   "title_cell": "Table of Contents",
   "title_sidebar": "Contents",
   "toc_cell": false,
   "toc_position": {},
   "toc_section_display": true,
   "toc_window_display": false
  }
 },
 "nbformat": 4,
 "nbformat_minor": 4
}
