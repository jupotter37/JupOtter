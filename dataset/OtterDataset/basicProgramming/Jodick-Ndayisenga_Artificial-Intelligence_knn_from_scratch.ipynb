{
 "cells": [
  {
   "cell_type": "markdown",
   "metadata": {},
   "source": [
    "We will build a simple class KNN that has two main functions: fit (to train the model by storing the training data) and predict (to make predictions on new data). This structure is beginner-friendly and shows how object-oriented programming (OOP) works.\n",
    "\n",
    "### KNN class"
   ]
  },
  {
   "cell_type": "code",
   "execution_count": 1,
   "metadata": {},
   "outputs": [],
   "source": [
    "import numpy as np\n",
    "from collections import Counter\n",
    "\n",
    "class KNN:\n",
    "    def __init__(self, k=3):\n",
    "        # Initialize the class with the number of neighbors (k)\n",
    "        self.k = k\n",
    "\n",
    "    def fit(self, X_train, y_train):\n",
    "        # Store the training data and labels as instance variables\n",
    "        self.X_train = X_train\n",
    "        self.y_train = y_train\n",
    "\n",
    "    def predict(self, X_test):\n",
    "        # Predict labels for each test point in X_test\n",
    "        y_pred = [self._predict_point(test_point) for test_point in X_test]\n",
    "        return np.array(y_pred)\n",
    "\n",
    "    def _predict_point(self, test_point):\n",
    "        # Helper function to predict the label for a single test point\n",
    "        # Calculate the Euclidean distances between the test point and all training points\n",
    "        distances = np.sqrt(((self.X_train - test_point) ** 2).sum(axis=1))\n",
    "        \n",
    "        # Find the indices of the k nearest neighbors\n",
    "        nearest_neighbors = np.argsort(distances)[:self.k]\n",
    "        \n",
    "        # Find the labels of the nearest neighbors\n",
    "        nearest_labels = [self.y_train[i] for i in nearest_neighbors]\n",
    "        \n",
    "        # Use majority voting to find the most common label\n",
    "        majority_vote = Counter(nearest_labels).most_common(1)[0][0]\n",
    "        \n",
    "        return majority_vote\n"
   ]
  },
  {
   "cell_type": "markdown",
   "metadata": {},
   "source": [
    "##### How to use the class to predict"
   ]
  },
  {
   "cell_type": "code",
   "execution_count": 2,
   "metadata": {},
   "outputs": [
    {
     "name": "stdout",
     "output_type": "stream",
     "text": [
      "Predicted labels: [0 1]\n"
     ]
    }
   ],
   "source": [
    "# Sample training data and labels\n",
    "X_train = np.array([[1, 2], [2, 3], [3, 3], [5, 4], [6, 5]])\n",
    "y_train = np.array([0, 0, 0, 1, 1])\n",
    "\n",
    "# Sample test data\n",
    "X_test = np.array([[1, 2], [5, 3]])\n",
    "\n",
    "# Initialize KNN with k=3\n",
    "knn = KNN(k=3)\n",
    "\n",
    "# Fit the model with training data\n",
    "knn.fit(X_train, y_train)\n",
    "\n",
    "# Predict labels for the test data\n",
    "predictions = knn.predict(X_test)\n",
    "\n",
    "print(\"Predicted labels:\", predictions)\n"
   ]
  },
  {
   "cell_type": "markdown",
   "metadata": {},
   "source": [
    "### Real-world applications where K-Nearest Neighbors (KNN) can be an ideal model:"
   ]
  },
  {
   "cell_type": "markdown",
   "metadata": {},
   "source": [
    "#### **1. Predicting Vulnerability to Environmental Shocks**\n",
    "\n",
    "- KNN can classify individuals or households based on their similarity to groups that have previously demonstrated resilience or vulnerability to shocks like soil infertility, floods, or droughts. By identifying patterns in income sources, land use, and other socioeconomic factors, KNN can predict which households are most at risk and might need support to improve resilience.\n",
    "\n",
    "#### **2. Classifying Income Stability and Diversification**\n",
    "\n",
    "- Using data on income sources (e.g., farming, trade, seasonal work), KNN can help classify households into categories based on income diversity and stability. Households with similar income patterns can be grouped, allowing for targeted advice or resources on income diversification strategies that improve resilience against economic disruptions.\n",
    "\n",
    "#### **3. Identifying Agricultural Practices Linked to Resilience**\n",
    "\n",
    "- For rural populations dependent on agriculture, KNN can help categorize farms based on farming techniques, soil quality, crop variety, and susceptibility to soil degradation. This can identify the most resilient farming practices in a region, which could then be promoted to others to strengthen their resilience against agricultural shocks.\n",
    "\n",
    "#### **4. Predicting Migration Patterns Due to Environmental Degradation**\n",
    "\n",
    "- By analyzing previous instances of migration, KNN can classify communities based on the likelihood of migration in response to environmental factors like deforestation or water scarcity. With data on land usage, income sources, and prior migration trends, KNN could forecast which areas are at risk of population displacement, informing policies to address root causes before they lead to migration.\n",
    "\n",
    "#### **5. Prioritizing Resource Allocation for Emergency Preparedness**\n",
    "\n",
    "- KNN can help identify clusters of individuals or communities that share similar characteristics (such as dependence on a single crop, lack of income diversity, or high environmental vulnerability) to prioritize resource distribution and emergency preparedness plans. By targeting these communities, aid organizations can focus on areas most likely to need support during a crisis, thus enhancing overall community resilience."
   ]
  }
 ],
 "metadata": {
  "kernelspec": {
   "display_name": "Python 3",
   "language": "python",
   "name": "python3"
  },
  "language_info": {
   "codemirror_mode": {
    "name": "ipython",
    "version": 3
   },
   "file_extension": ".py",
   "mimetype": "text/x-python",
   "name": "python",
   "nbconvert_exporter": "python",
   "pygments_lexer": "ipython3",
   "version": "3.11.4"
  }
 },
 "nbformat": 4,
 "nbformat_minor": 2
}
