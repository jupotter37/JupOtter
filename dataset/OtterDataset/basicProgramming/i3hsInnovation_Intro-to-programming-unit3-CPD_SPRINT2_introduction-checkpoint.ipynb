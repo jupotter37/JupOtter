{
 "cells": [
  {
   "cell_type": "markdown",
   "metadata": {
    "collapsed": true
   },
   "source": [
    "<img src=\"https://github.com/i3hsInnovation/resources/blob/master/images/introbanner.png?raw=true\" />"
   ]
  },
  {
   "cell_type": "markdown",
   "metadata": {},
   "source": [
    "<table style=\"float:right\" width=\"50%\">\n",
    "    <tr>\n",
    "        <td>                      \n",
    "            <div style=\"text-align: left\"><a href=\"\" target=\"_blank\">Dr Peter Causey-Freeman</a></div>\n",
    "            <div style=\"text-align: left\">Lecturer - Healthcare Sciences</div>\n",
    "            <div style=\"text-align: left\">(Clinical Bioinformatics)</div>\n",
    "            <div style=\"text-align: left\">The University of Manchester</div>\n",
    "         </td>\n",
    "         <td>\n",
    "             <img src=\"https://github.com/i3hsInnovation/resources/blob/master/images/pete.001.png?raw=true\" width=\"40%\" />\n",
    "         </td>\n",
    "     </tr>\n",
    "</table>"
   ]
  },
  {
   "cell_type": "markdown",
   "metadata": {},
   "source": [
    "# Introduction to SPRINT 2\n",
    "***"
   ]
  },
  {
   "cell_type": "markdown",
   "metadata": {},
   "source": [
    "### About this Notebook\n",
    "\n",
    "This notebook sets out the instructions for the second sprint.\n",
    "\n",
    "\n",
    "This notebook is at <code>Beginner</code> level and with all team activities will take approximately 7 hours to complete."
   ]
  },
  {
   "cell_type": "markdown",
   "metadata": {},
   "source": [
    "<b><h2>Contents</h2></b>  "
   ]
  },
  {
   "cell_type": "markdown",
   "metadata": {},
   "source": [
    "#### [Re-annotation of Ensembl variants](#e2r)\n",
    "\n",
    "1 [User Story Summary](#urecap)\n",
    "\n",
    "2 [Project Outline](#outline)\n",
    "\n",
    "3 [Recommended APIs](#apis)\n",
    "\n",
    "4 [Discussion Topics](#disc)\n",
    "\n",
    "5 [Accessing Additional Information](#info)\n",
    "\n",
    "6 [Assessed Work](#practical)"
   ]
  },
  {
   "cell_type": "markdown",
   "metadata": {},
   "source": [
    "<div class=\"alert alert-block alert-warning\"><b>Learning Objective:</b> Planning and executing the development of a programming project</div>"
   ]
  },
  {
   "cell_type": "markdown",
   "metadata": {},
   "source": [
    "<a id=\"e2r\"></a>\n",
    "<table width=\"100%\" style=\"float:left\">\n",
    "    <tr>\n",
    "        <td width=\"60%\" style=\"text-align: left\">\n",
    "            <h1>Re-annotation of Ensembl variants</h1>\n",
    "        </td>\n",
    "        <td width=\"40%\">\n",
    "            <img src=\"https://github.com/i3hsInnovation/resources/blob/master/images/rve.png?raw=true\" width=\"100%\"/>\n",
    "        </td>\n",
    "    </tr>\n",
    "</table> "
   ]
  },
  {
   "cell_type": "markdown",
   "metadata": {},
   "source": [
    "***\n",
    "<sup>Image by Terence Murphy [Mane v2 Final](https://www.slideshare.net/GenomeRef/mane-v2-final)</sup>"
   ]
  },
  {
   "cell_type": "markdown",
   "metadata": {},
   "source": [
    "<a id=\"urecap\"></a>\n",
    "\n",
    "## 1 User Story Summary\n"
   ]
  },
  {
   "cell_type": "markdown",
   "metadata": {
    "cell_style": "center"
   },
   "source": [
    "### Genomics England LTD variant annotations\n",
    "\n",
    "Genomics England LTD (GEL) annotate variants in the context of Ensembl reference sequences. Variants are annotated using GEL's [Cellbase](http://bioinfo.hpc.cam.ac.uk/cellbase/webservices/#/) APIs. Although the annotation pipeline is very fast and the level of annotation is extremely detailed, the outputs returned to NHS clinical geneticists are not in a format suitable for use in a clinical setting:\n",
    "\n",
    "1. Current guidelines for the [interpretation of seqence variants](https://www.nature.com/articles/gim201530) require variants to be described and annotated in the context of RefSeq transcripts.\n",
    "\n",
    "\n",
    "2. The above guidelines recommend the use of the [HGVS variant nomenclature](http://varnomen.hgvs.org/) which currently do not allow the use of Ensembl reference sequences (This will, however, soon change - see discussion topics).\n",
    "\n",
    "\n",
    "3. Transcript reference sequence IDs provided are incomplete (lack the necessary version number), so care must be taken when mapping variation between reference sequences\n",
    "\n",
    "\n",
    "### User requirements\n",
    "Simon Boardman has been tasked with creating a user-friendly REST API that expert bioinformaticians and clinical geneticists alike can use and understand. He has asked me to incorporate this functionality into VariantValidator. As the lead developer on this project I am tasking your team with creating this resource. "
   ]
  },
  {
   "cell_type": "code",
   "execution_count": 1,
   "metadata": {
    "hide_input": true,
    "init_cell": true
   },
   "outputs": [
    {
     "data": {
      "image/jpeg": "[encoded data removed]",
      "text/html": [
       "\n",
       "        <iframe\n",
       "            width=\"560\"\n",
       "            height=\"315\"\n",
       "            src=\"https://www.youtube.com/embed/Uu1Oga9MaJI\"\n",
       "            frameborder=\"0\"\n",
       "            allowfullscreen\n",
       "        ></iframe>\n",
       "        "
      ],
      "text/plain": [
       "<IPython.lib.display.YouTubeVideo at 0x1ecae797978>"
      ]
     },
     "execution_count": 1,
     "metadata": {},
     "output_type": "execute_result"
    }
   ],
   "source": [
    "from IPython.display import YouTubeVideo\n",
    "# Youtube\n",
    "YouTubeVideo('Uu1Oga9MaJI', width=560, height=315)"
   ]
  },
  {
   "cell_type": "markdown",
   "metadata": {},
   "source": [
    "The primary focus of the API must be to accept GEL variant descriptions and provide valid and accurate genome, transcript and protein variant descriptions.\n",
    "   - The descriptions must be accurately formatted in accordance with the HGVS guidelines, in the context of suitable RefSeq reference sequences. \n",
    "   - Genomic variants must also be described using a genome coordiante based system and [SPDI](https://www.biorxiv.org/content/10.1101/537449v1) to enable efficient cross-referencing with resources such as [ExAC](https://pic-sure.org/products/exac-restful-api), [gnomAD](https://gnomad.broadinstitute.org/), [dbSNP](https://rest.ensembl.org/documentation/info/vep_hgvs_get) and [ClinVar](https://www.ncbi.nlm.nih.gov/clinvar/docs/maintenance_use/#api).\n",
    "   - All HGVS variant deacriptions must be validated using a recognised high-quality variant descriprion validation tool. \n",
    "\n",
    "After discussing the requirements of the tool with the lead bioinformatician, it is apparant that it would also be highly desireable to provide well-considered variant annotation for the variants once they are formatted in the conext of RefSeq refernce sequences. "
   ]
  },
  {
   "cell_type": "markdown",
   "metadata": {},
   "source": [
    "[Project Outline](#outline)\n",
    "\n",
    "<a id=\"outline\"></a>\n",
    "\n",
    "## 2 Project outline\n"
   ]
  },
  {
   "cell_type": "markdown",
   "metadata": {},
   "source": [
    "### Project direction\n",
    "\n",
    "**Referring to the project blueprint below**\n",
    " \n",
    " - Create a Python module in the directory **SPRINT**. In the module, create a function which gathers information from REST APIs and returns the data as a Python dictionary\n",
    "     - **Project minimum requirement** accept an Ensembl transcript variant description lacking the version number, and return genomic, transcript and protein HGVS in the context of RefSeq reference sequences, a \"deconstructed\" genome coordinate based variant description and an SPDI genomic variant description.\n",
    "     - Add this function and any subsequent functions) to the API and create the relevant Endpoints. Remember, you will need to create a new namespace!\n",
    "     \n",
    "     \n",
    " - If time permits, add a function which adds variant annotation capability to your module\n",
    " \n",
    " \n",
    " - If time permits, add error handling to your Endpoints\n",
    " \n",
    " \n",
    " - If time permits, add additional data such as relevant ClinVar annotations (best searched using SPDI).\n",
    " \n",
    "### Project blueprint\n",
    "***As lead developer on this project, this is the general structure I require to ensure the tool remains expandable and maintainable***\n",
    " \n",
    "<img src=\"https://github.com/i3hsInnovation/resources/blob/master/images/sprint_blue.png?raw=true\" width=\"80%\" />\n",
    "\n",
    "***\n",
    "<sup>Image by Peter Causey-Freeman</sup>\n",
    "\n",
    "#### Endpoints\n",
    "You will see from the bluprint that two functions are required (as described above) which can be converted into Endpoints.\n",
    "\n",
    "##### 1. Transcript to genome\n",
    "The only **\"safe\"** way to map from one transcript descriotion to another is via a stable genomic or gene sequence to which all the transcripts are aligned. We are not considering gene-level descriptions, so these can be ignored!\n",
    "\n",
    "**This endpoint is not intended to return any data**. It should be used as an entry-point which triggers the next endpoint. In the context of an API, this can be achieved using Flask's [url_for()](https://flask.palletsprojects.com/en/1.0.x/quickstart/) method\n",
    "\n",
    "##### 2. Descriptions (and annotation)\n",
    "The **\"safest\"** way to collect additional data, such as SPDI descriptions and annotations is via an accurate and correctly formatted genomic description.   "
   ]
  },
  {
   "cell_type": "markdown",
   "metadata": {},
   "source": [
    "[Return to top](#e2r)\n",
    "\n",
    "-------------\n",
    "\n",
    "<a id=\"apis\"></a>\n",
    "\n",
    "## 3 Recommended APIs\n"
   ]
  },
  {
   "cell_type": "markdown",
   "metadata": {},
   "source": [
    "### Ensembl REST API\n",
    "\n",
    "[Endpoints](https://rest.ensembl.org) with links to documentation\n",
    "\n",
    "### Variant annotations and Ensembl HGVS\n",
    "Ensembl Variant Effect Predictor (VEP) - [VEP REST API Endpoint documentation](https://rest.ensembl.org/documentation/info/vep_hgvs_get)\n",
    "\n",
    "### RefSeq HGVS, genome coordinates and stable gene IDs\n",
    "[VariantValidator REST API](https://rest.variantvalidator.org/webservices/variantvalidator.html)\n",
    "\n",
    "### Ensembl  HGVS to genomic HGVS and SPDI\n",
    "\n",
    "Ensembl Variant Recoder - [Variant Recoder REST API Endpoint documetation](https://rest.ensembl.org/documentation/info/variant_recoder)\n",
    "\n",
    "### Stable gene IDs, gene names and gene symbols\n",
    "[genenames.org REST API](https://www.genenames.org/help/rest/)"
   ]
  },
  {
   "cell_type": "markdown",
   "metadata": {},
   "source": [
    "[Return to top](#e2r)\n",
    "\n",
    "\n",
    "------------------------\n",
    "\n",
    "<a id=\"disc\"></a>\n",
    "\n",
    "## 4 Discussion topics\n"
   ]
  },
  {
   "cell_type": "markdown",
   "metadata": {},
   "source": [
    "### When planning the build of your tool, consider the following:\n",
    "\n",
    "#### 1. Trannscript level inputs\n",
    "\n",
    "What are your users likely to want:\n",
    "- Ensembl transcript variant input?\n",
    "    - With or without version numbers?\n",
    "- RefSeq transcript variant input?\n",
    "- What if they want to replace the reference sequence ID with a gene symbol? \n",
    "    - How do the tools handle this?\n",
    "    - Will you need to provide any additional guidance\n",
    "- What happens if a user provides a description that cannot be converted into a genomic description?\n",
    "\n",
    "#### 2.  Projection onto a genome\n",
    "\n",
    "Other than a variant description, what additional information will you need to project the variant onto a genomic reference sequence?\n",
    "\n",
    "\n",
    "#### 3. Annotation genomic variants\n",
    "\n",
    "- How do the recommended tools handle intergenic variants (*i.e.* genomic variants that do not project onto any transcripts)?\n",
    "- Will you provide any annotation for these variants?\n",
    "- What happens if a provided variant description cannot be handled by the tools?\n",
    "\n",
    "\n",
    "#### 4. Transcript source\n",
    "\n",
    "You will display annotations in the context of [RefSeq](https://rest.ensembl.org/vep/human/hgvs/NC_000017.11:g.50198002C%3EA?content-type=application/json;refseq=True;hgvs=True;dbscSNV=True;variant_class=True;Blosum62=True;Conservation=True;ccds=True;dbNSFP=REVEL_score) transcripts only.\n",
    "\n",
    "Take a look at this output and how the URL is constructed. \n",
    "\n",
    "#### 5. Data quality\n",
    "\n",
    "- You will generate HGVS descriptions from both VEP and VariantValidator. Perhaps consider showing an output and a validation (*i.e.* this is what VEP says, and this is what VariantValidator has to say about it!)\n",
    "- Will you include annotations in the context of [model and incomplete transcripts](http://varnomen.hgvs.org/bg-material/consultation/svd-wg008/)?\n",
    "- How do you identify model transcripts in the VEP output?\n",
    "- What is the most reliable source of a particular annotation *i.e.* VEP is a tool built on genome annotation data based on Ensembl annotations, is it the best source for RefSeq nomenclature annotations?\n",
    "- How will your decisions affect VEP's prediction of the most severe consequence, and will you keep this information?\n",
    "\n",
    "\n",
    "#### 6. Data quantity\n",
    "\n",
    "Your output **must include**\n",
    "- refseq=True (Returns RefSeq formatted data)\n",
    "- dbscSNV=True\n",
    "- dbNSFP=REVEL_score\n",
    "- variant_class=True\n",
    "- Conservation=True\n",
    "- ccds=True\n",
    "\n",
    "These are described in the [VEP REST API Endpoint documentation](https://rest.ensembl.org/documentation/info/vep_hgvs_get) \n",
    "\n",
    "Other than those I have requested, which other VEP options will you switch on?\n",
    "- Why?\n",
    "- Do the returned data appear correct?\n",
    "- How will you remove any annotations that you do not want to return?\n",
    "\n",
    "#### 7. Data source\n",
    "It is good practice to show the sources of your data. Think about how you can display URLs for the APIs you have visited to collate the data. This will allow other to re-produce the data you are displaying."
   ]
  },
  {
   "cell_type": "markdown",
   "metadata": {},
   "source": [
    "[Return to top](#e2r)\n",
    "\n",
    "\n",
    "-----------------------------------\n",
    "\n",
    "<a id=\"info\"></a>\n",
    "\n",
    "## 5 Accessing Additional Information\n"
   ]
  },
  {
   "cell_type": "markdown",
   "metadata": {},
   "source": [
    "[Ensembl helpdesk](https://www.ensembl.org/Multi/Help/Search?db=core)\n",
    "- Includes online content such as tutorials and FAQs\n",
    "- Contact web-form provided\n",
    "\n",
    "\n",
    "[VariantValidator contact admin](https://variantvalidator.org/contact_admin/)\n",
    "- Guidance on how to use the tools and nomenclature issues\n",
    "\n",
    "[VariantValidator issues](https://github.com/openvar/variantValidator/issues)\n",
    "- Bug reporting and feature requests\n",
    "\n",
    "[genenames.org help](https://www.genenames.org/contact/feedback/)\n",
    "- No specific guidance on the help available\n",
    "\n",
    "[Python requests module](https://2.python-requests.org/en/master/)\n",
    "- User-guide and links to the GitHub repo for bug reporting and feature requests\n"
   ]
  },
  {
   "cell_type": "markdown",
   "metadata": {},
   "source": [
    "[Return to top](#e2r)\n",
    "\n",
    "----------\n",
    "\n",
    "## Assessed Work"
   ]
  },
  {
   "cell_type": "markdown",
   "metadata": {
    "cell_style": "split"
   },
   "source": [
    "<a name=\"practical\"></a>\n",
    "\n",
    "### Over to you\n",
    "\n",
    "#### Aim of this exercise\n",
    "The aim of this exercise is to provide your team with experience of delivering a product to a Product owner (*i.e.* me as the lead developer of VariantValidator).\n",
    "\n",
    "This will be an iterative process and you will need to communicate with me and my facilitators through Git Issues and Slack\n",
    "\n",
    "#### Structure your team\n",
    "Assign your team roles:\n",
    "\n",
    "1. **Project lead**\n",
    "    - This is my role as the product owner\n",
    "    - I have introduced the project in this notebook, and have specified the minimum requirement of the project\n",
    "    - Before you begin, you will need to raise a Git Issue so we can plan the first iteration\n",
    "\n",
    "<br>\n",
    "\n",
    "2. **Team lead**\n",
    "    - Initiate the development process on Git Issues\n",
    "    - Liaise with the project lead and the wider team\n",
    "    - Lead the group discussion in Git Issues and Slack\n",
    "    - Provide final feedback to the project lead on the group's activities and close the issue once the project lead has accepted each iteration of the overall project. \n",
    "\n",
    "<br>\n",
    "\n",
    "2. **Team members**\n",
    "    - Coders who will be responsible for writing the Python functions\n",
    "    - Testers who will be responsible for testing the code and providing feedback to the coders and the team/project leads\n",
    "\n",
    "<br>\n",
    "\n",
    "***We recommend ensuring that you most experienced coders work with your least experienced coders. Don't forget, this is a team assignment, if you can't figure out how to do something, ask your team on Slack!***"
   ]
  },
  {
   "cell_type": "markdown",
   "metadata": {
    "cell_style": "split"
   },
   "source": [
    "<img src=\"https://github.com/i3hsInnovation/resources/blob/master/images/Discussionsummative.png?raw=true\" width=\"25%\"/>"
   ]
  },
  {
   "cell_type": "markdown",
   "metadata": {
    "cell_style": "split"
   },
   "source": [
    "### Work-flow\n",
    "\n",
    "1. Team leader creates an issue on Git Issues to begin the first iteration of the project\n",
    "2. The project lead will join the discussion on Git Issues/Slack\n",
    "3. The coders will work together to write the module and link it to the API\n",
    "4. The testers will review the final code and test the code. Feedback will be given to the coders within the Git issue and Slack\n",
    "5. Once the coding is completed and tested, the team lead will summarise the key work-flow points and ask the project lead to review and accept the code. If the code is accepted, move on to the next iteration (repeat these steps), or continue to develop the code until the project lead is happy\n",
    "5. Once all iterations we have time for are complete, the team lead will create a pull request and the project lead will merge the code into master \n",
    "\n",
    "**Details about how the assignment will be marked can be found [here](LINK)**"
   ]
  },
  {
   "cell_type": "markdown",
   "metadata": {},
   "source": [
    "<a id=\"sum\"></a>\n",
    "\n",
    "<b><h2>Summary</h2></b>  \n",
    "</div>"
   ]
  },
  {
   "cell_type": "markdown",
   "metadata": {},
   "source": [
    "After completing this coding project, you will have gained some experience in working as part of a development team. Many open source bioinformatics tools are developed in this way. There will be one person who leads the project (for many smaller projects, this person may be the only person working on the project, but will still work in a similar way). There may also be other coders who develop new functions or debug the existing code. Once the code is developed/debugged, the code will be reviewed by the project owner and merged into the master repository if the project lead is happy with it. "
   ]
  },
  {
   "cell_type": "markdown",
   "metadata": {},
   "source": [
    "-----\n",
    "\n",
    "#### Notebook details\n",
    "<br>\n",
    "<i>Notebook created by <strong>Dr. Pete Causey-Freeman</strong> with <strong>Frances Hooley</strong> \n",
    "    \n",
    "\n",
    "Publish date: October 2020<br>\n",
    "Review date: October 2021</i>\n",
    "\n",
    "Please give your feedback using the button below:\n",
    "\n",
    "<a class=\"typeform-share button\" href=\"https://form.typeform.com/to/YMpwLTNy\" data-mode=\"popup\" style=\"display:inline-block;text-decoration:none;background-color:#3A7685;color:white;cursor:pointer;font-family:Helvetica,Arial,sans-serif;font-size:18px;line-height:45px;text-align:center;margin:0;height:45px;padding:0px 30px;border-radius:22px;max-width:100%;white-space:nowrap;overflow:hidden;text-overflow:ellipsis;font-weight:bold;-webkit-font-smoothing:antialiased;-moz-osx-font-smoothing:grayscale;\" target=\"_blank\">Rate this notebook </a> <script> (function() { var qs,js,q,s,d=document, gi=d.getElementById, ce=d.createElement, gt=d.getElementsByTagName, id=\"typef_orm_share\", b=\"https://embed.typeform.com/\"; if(!gi.call(d,id)){ js=ce.call(d,\"script\"); js.id=id; js.src=b+\"embed.js\"; q=gt.call(d,\"script\")[0]; q.parentNode.insertBefore(js,q) } })() </script>\n"
   ]
  },
  {
   "cell_type": "code",
   "execution_count": null,
   "metadata": {},
   "outputs": [],
   "source": []
  }
 ],
 "metadata": {
  "celltoolbar": "Initialization Cell",
  "kernelspec": {
   "display_name": "Python 3",
   "language": "python",
   "name": "python3"
  },
  "language_info": {
   "codemirror_mode": {
    "name": "ipython",
    "version": 3
   },
   "file_extension": ".py",
   "mimetype": "text/x-python",
   "name": "python",
   "nbconvert_exporter": "python",
   "pygments_lexer": "ipython3",
   "version": "3.7.3"
  }
 },
 "nbformat": 4,
 "nbformat_minor": 1
}
