{
 "cells": [
  {
   "cell_type": "markdown",
   "metadata": {},
   "source": [
    "## Week 1 (Python Basics)"
   ]
  },
  {
   "cell_type": "code",
   "execution_count": 1,
   "metadata": {},
   "outputs": [
    {
     "name": "stdout",
     "output_type": "stream",
     "text": [
      "Hello World!\n"
     ]
    }
   ],
   "source": [
    "print(\"Hello World!\") #Typical First Thing to Write XD"
   ]
  },
  {
   "cell_type": "markdown",
   "metadata": {},
   "source": [
    "### Variables and Data Types"
   ]
  },
  {
   "cell_type": "code",
   "execution_count": 2,
   "metadata": {},
   "outputs": [
    {
     "name": "stdout",
     "output_type": "stream",
     "text": [
      "Hello Everyone\n",
      "Hello! How are you all?\n"
     ]
    }
   ],
   "source": [
    "Hello_Message = \"Hello Everyone\" \n",
    "# A variable holds a value, which is stored in the memory. it can called by its name to get the value of that variable a.k.a Variable Name.\n",
    "# A string variable of named  'Hello_Message' is created and assigned the value \"Hello Everyone\".\n",
    "print(Hello_Message) #  The message stored in the 'Hello_Message' variable is printed.\n",
    "\n",
    "Hello_Message = \"Hello! How are you all?\" \n",
    "# The value of the 'Hello_Message' variable is changed to \"Hello! How are you all?\"\n",
    "# We can change the value of a variable in your program at any time and the python interpreter will keep track of all its changes\n",
    "print(Hello_Message)"
   ]
  },
  {
   "cell_type": "markdown",
   "metadata": {},
   "source": [
    "#### DataType (String)"
   ]
  },
  {
   "cell_type": "code",
   "execution_count": 3,
   "metadata": {},
   "outputs": [
    {
     "name": "stdout",
     "output_type": "stream",
     "text": [
      "Hello World!\n",
      "It's a 'beautiful' day!\n",
      "Uppercase: HELLO WORLD!\n",
      "Lowercase: hello world!\n",
      "Capitalized: Hello World!\n",
      "Hello, John Doe!\n",
      "Hello\tJohn Doe\n",
      "How are you doing?\n",
      "\n",
      "Before stripping:\n",
      " \t   This is some text    \n",
      "\n",
      "\n",
      "After stripping:\n",
      " This is some text\n",
      "\n",
      "Index of 'World':  6\n",
      "Starts with 'Hello':  True\n",
      "Words List:  ['Hello', 'World!']\n",
      "Joined String:  Python-is-awesome\n",
      "New String:  Hello Universe!\n"
     ]
    }
   ],
   "source": [
    "# A string is a sequence of characters. Anything inside in quotes is considered a string in python but in most language, it's not the case. Most languages use double quotes. The way python use it can be very helpful in string manipulation or sometimes confusing to beginners.\n",
    "\n",
    "# To create a simple string we just need to put our text between two single quotes ''. For example:\n",
    "my_string = 'Hello World!'\n",
    "print(my_string) # Output: Hello World!\n",
    "\n",
    "# Double quotes, example:\n",
    "another_string = \"It's a 'beautiful' day!\"\n",
    "# Here we can see, we have used both single and double quotes.\n",
    "print(another_string) # Output: It's a beautiful day!\n",
    "\n",
    "# We can change the case of the String using methods:\n",
    "uppercase_string = my_string.upper()\n",
    "lowercase_string = my_string.lower()\n",
    "capitalized_string = my_string.title()\n",
    "print(\"Uppercase:\", uppercase_string) # Output: UPPERCASE\n",
    "print(\"Lowercase:\", lowercase_string) # Output: lowercase\n",
    "print(\"Capitalized:\", capitalized_string) # Output: Hello World\n",
    "\n",
    "\n",
    "# We can also concatenate strings using the plus sign (+). This will join two or more strings together. Here's an example:\n",
    "# We can also concatenate strings using the + operator. Here's an example:\n",
    "greeting = 'Hello'\n",
    "name = 'John Doe'\n",
    "message = greeting + ', ' + name + '!'\n",
    "print(message) # Output: Hello, John Doe!\n",
    "\n",
    "# we can also add whitespaces to strings with tabs and newline  characters \\n or \\t\n",
    "tabbed_message = greeting + '\\t' + name + '\\n' + \"How are you doing?\"\n",
    "print(tabbed_message)\n",
    "\n",
    "# we can also strip whitespace using methods  like .strip(), .lstrip() and .rstrip().\n",
    "# Example:  \n",
    "whitespace_string = \"\\t   This is some text    \\n\"\n",
    "print(\"\\nBefore stripping:\\n\", whitespace_string)\n",
    "stripped_text = whitespace_string.strip()\n",
    "print(\"\\nAfter stripping:\\n\", stripped_text)\n",
    "\n",
    "# String Methods\n",
    "# There are many more methods available for Strings in Python. Let's look at a few examples:\n",
    "\n",
    "# find(): returns the index of the substring if found in the given string. If not found it returns -1.\n",
    "index_of_world = my_string.find('World')\n",
    "print(\"\\nIndex of 'World': \", index_of_world) # Output: 6 (output is the first index of the substring)\n",
    "\n",
    "# startswith(): checks whether a string starts with the specified value (also works with endswith()).\n",
    "starts_with_hello = my_string.startswith('Hello')\n",
    "print(\"Starts with 'Hello': \", starts_with_hello) # Output: True\n",
    "\n",
    "# split(): splits a string into a list where each word is a separate element in the list.\n",
    "words = my_string.split()\n",
    "print(\"Words List: \", words) # Output: ['Hello', 'World']\n",
    "\n",
    "# join(): joins a list of strings into one string. The first argument is the separator between the elements.\n",
    "joined_list = '-'.join(['Python', 'is', 'awesome'])\n",
    "print(\"Joined String: \", joined_list) # Output: Python-is-awesome\n",
    "\n",
    "# replace(): replaces all occurrences of a specified value with another value.\n",
    "new_string = my_string.replace('World', 'Universe')\n",
    "print(\"New String: \", new_string) # Output: Hello, Universe!"
   ]
  },
  {
   "cell_type": "markdown",
   "metadata": {},
   "source": [
    "#### Datatype (Numbers)"
   ]
  },
  {
   "cell_type": "code",
   "execution_count": 4,
   "metadata": {},
   "outputs": [
    {
     "name": "stdout",
     "output_type": "stream",
     "text": [
      "<class 'int'>\n",
      "<class 'float'>\n",
      "<class 'str'> 5\n",
      "<class 'int'> 5\n",
      "<class 'int'> 345\n",
      "<class 'str'> 345.12\n",
      "Sum of numbers :  350.12\n",
      "Difference of numbers :  -340.12\n",
      "Product of numbers :  1725.6\n",
      "Quotient of numbers :  0.014487714418173389\n",
      "Remainder of division :  5.0\n",
      "Result of Power operation:  1.6924969566972042e+241\n",
      "\n",
      "Addition :  25.0\n",
      "Subtraction :  -5.0\n",
      "Multiplication :  150.0\n",
      "Division :  0.6666666666666666\n",
      "\n",
      "P.M.D.A.S Example\n",
      "16\n",
      "512\n",
      "40.0\n",
      "4\n"
     ]
    }
   ],
   "source": [
    "# There two main number based data types in python. \n",
    "# Example:  int, float\n",
    "\n",
    "# Integer (int) - It is used to represent whole numbers or positive and negative integers without decimals.\n",
    "num1 = 5\n",
    "print(type(num1))   # <class 'int'>\n",
    "\n",
    "# Float (float) - It is a real number that can have decimal points.\n",
    "num2 = 345.12\n",
    "print(type(num2))    #<class 'float'>\n",
    "\n",
    "# Conversion between Data Types\n",
    "# You can convert one data type into another using built-in functions.\n",
    "# To Convert an integer to String\n",
    "str_num = str(num1)\n",
    "print(type(str_num), str_num)     # <class 'str'> 567890\n",
    "\n",
    "# To Convert a string to Integer\n",
    "int_num = int(str_num)\n",
    "print(type(int_num), int_num)      # <class 'int'> 567890\n",
    "\n",
    "# To Convert a Float to Integer (By removing the decimal part)\n",
    "whole_num = int(num2)\n",
    "print(type(whole_num), whole_num)  # <class 'int'> 345\n",
    "\n",
    "# To Convert a Float to String\n",
    "str_num_again = str(num2)\n",
    "print(type(str_num_again), str_num_again)     # <class 'str'> 345.123987654321\n",
    "\n",
    "# Arithmetic Operations on Numbers\n",
    "# Python supports basic arithmetic operations like addition, subtraction, multiplication, division etc.\n",
    "sum_of_numbers = num1 + num2\n",
    "difference_of_numbers = num1 - num2\n",
    "product_of_numbers = num1 * num2\n",
    "quotient_of_numbers = num1 / num2\n",
    "remainder_of_division = num1 % num2\n",
    "result_of_power = num1 ** num2\n",
    "\n",
    "print(\"Sum of numbers : \", sum_of_numbers)\n",
    "print(\"Difference of numbers : \", difference_of_numbers)\n",
    "print(\"Product of numbers : \", product_of_numbers)\n",
    "print(\"Quotient of numbers : \", quotient_of_numbers)\n",
    "print(\"Remainder of division : \", remainder_of_division)\n",
    "print(\"Result of Power operation: \", result_of_power)\n",
    "\n",
    "# Another example of arithmetic operations in python with addition of taking user input\n",
    "user_input = input(\"Enter two numbers separated by space : \")\n",
    "first_number = float(user_input.split()[0])   # Extracting first number from the given input\n",
    "second_number = float(user_input.split()[1])  # Extracting second number from the given input\n",
    "\n",
    "print(\"\\nAddition : \", first_number + second_number)\n",
    "print(\"Subtraction : \", first_number - second_number)\n",
    "print(\"Multiplication : \", first_number * second_number)\n",
    "print(\"Division : \", first_number / second_number)    # It will show floating point value as output due to division.\n",
    "\n",
    "\n",
    "# All programming languages support P.M.D.A.S . i.e., Parentheses, Multiplication/Division, Addition/Subtraction.\n",
    "# P.M.D.A.S Example: \n",
    "print(\"\\nP.M.D.A.S Example\")\n",
    "# Parentheses\n",
    "print((3 + 5) * 2)  # Output: 16\n",
    "# Exponents\n",
    "print(2 ** 3 ** 2)  # Output: 512\n",
    "# Multiplication and Division (from left to right)\n",
    "print(100 * 2 / 5)  # Output: 40.0\n",
    "# Addition and Subtraction (from left to right)\n",
    "print(2 + 2 - 1 + 1)  # Output: 4\n"
   ]
  },
  {
   "cell_type": "markdown",
   "metadata": {},
   "source": [
    "### List (Python build-in data structure like an Array)"
   ]
  },
  {
   "cell_type": "code",
   "execution_count": 5,
   "metadata": {},
   "outputs": [
    {
     "name": "stdout",
     "output_type": "stream",
     "text": [
      "<class 'list'>\n",
      "10\n",
      "Hello\n",
      "1\n",
      "The second value in the list is 'Hello'\n"
     ]
    }
   ],
   "source": [
    "# List allows us to store  multiple values in a single variable. List is mutable, meaning we can change its content without creating a new object    \n",
    "# In Python, we can use the list data type to create lists and perform operations on them.\n",
    "\n",
    "my_list = [10, \"Hello\", True]   # A list containing integers, string and boolean value\n",
    "# unlike an array list is heterogenous in nature. it means it can have multiple values of multiple type in it at the same time.\n",
    "print(type(my_list))          # <class 'list'>\n",
    "\n",
    "# Accessing elements of a list:\n",
    "# We can access elements of list using index or by value.\n",
    "# Indexing is done with square brackets [].  \n",
    "# We access individual elements using their index position (starting from 0).\n",
    "\n",
    "element = my_list[0]         # element will be 10 as it is the first element of the list\n",
    "print(element)               # 10\n",
    "\n",
    "second_element = my_list[1]  # second_element will be \"Hello\" as it is the second element of the list\n",
    "print(second_element)        # Hello\n",
    "\n",
    "index = my_list.index('Hello') # Finding the index of the value\n",
    "print(index)                   # 1\n",
    "\n",
    "# Using individual values from the list\n",
    "print(\"The second value in the list is \" + \"'\" +my_list[1] + \"'\")"
   ]
  },
  {
   "cell_type": "markdown",
   "metadata": {},
   "source": [
    "#### Example"
   ]
  },
  {
   "cell_type": "code",
   "execution_count": 6,
   "metadata": {},
   "outputs": [
    {
     "name": "stdout",
     "output_type": "stream",
     "text": [
      "The Whole List ['Honda', 'Yamaha', 'Harley Davidson', 'Suzuki']\n",
      "Added a new value at a specific position in the list using 'insert' ['Honda', 'Yamaha', 'Harley Davidson', 'Ducati', 'Suzuki']\n",
      "The last motorcycle I owned was a Suzuki.\n",
      "The first motorcycle I owned was a Yamaha.\n",
      "A Ducati is too expensive for me\n",
      "After removing values from the list ['Harley Davidson']\n",
      "New list before sorting:  ['Harley Davidson', 'BMW', 'KTM', 'Honda', 'Kawasaki', 'Aprilia']\n",
      "After sorting the list:  ['Aprilia', 'BMW', 'Harley Davidson', 'Honda', 'KTM', 'Kawasaki']\n",
      "We can also sort it in reverse order:  ['Kawasaki', 'KTM', 'Honda', 'Harley Davidson', 'BMW', 'Aprilia']\n",
      "Here is the original list:  ['Kawasaki', 'KTM', 'Honda', 'Harley Davidson', 'BMW', 'Aprilia']\n",
      "Here is the sorted version:  ['Aprilia', 'BMW', 'Harley Davidson', 'Honda', 'KTM', 'Kawasaki']\n",
      "Here is the original list again:  ['Kawasaki', 'KTM', 'Honda', 'Harley Davidson', 'BMW', 'Aprilia']\n",
      "Original order of out list:  ['Kawasaki', 'KTM', 'Honda', 'Harley Davidson', 'BMW', 'Aprilia']\n",
      "Reversed list:  ['Aprilia', 'BMW', 'Harley Davidson', 'Honda', 'KTM', 'Kawasaki']\n",
      "Length of our list is:  6\n"
     ]
    }
   ],
   "source": [
    "# Let's create a better example with all the things that we can do in a list and how to use them.\n",
    "motorcycles = []\n",
    "# Adding elements to the list:\n",
    "# Add at the end of the list\n",
    "motorcycles.append(\"Honda\")\n",
    "motorcycles.append(\"Yamaha\")\n",
    "motorcycles.append(\"Harley Davidson\")\n",
    "motorcycles.append(\"Suzuki\")\n",
    "print(\"The Whole List\", motorcycles)\n",
    "motorcycles.insert(3, \"Ducati\")       # Insert at position 3 (beginning)\n",
    "print(\"Added a new value at a specific position in the list using 'insert'\", motorcycles)                    # Printing the entire list\n",
    "\n",
    "# Removing elements from the list\n",
    "del motorcycles[0]                   # Remove by index using 'del'\n",
    "last_owned = motorcycles.pop()                    # Remove the last element using the 'pop' function...it by-default behave's like this\n",
    "print(\"The last motorcycle I owned was a \" + last_owned.title() + \".\")\n",
    "# We can even give the 'pop' function a specific index to remove a value from the list . If no index is given it will return and remove the last element.\n",
    "first_owned = motorcycles.pop(0)\n",
    "print(\"The first motorcycle I owned was a \" +  first_owned.title() + \".\")\n",
    "too_expensive = \"Ducati\"\n",
    "motorcycles.remove(too_expensive)          # Remove by value using 'remove' (\"Ducati\")\n",
    "print(\"A \" + too_expensive.title() + \" is too expensive for me\")\n",
    "print(\"After removing values from the list\", motorcycles)\n",
    "\n",
    "# Organizing the list\n",
    "# Let's add some new values in the list first them sort them\n",
    "motorcycles.append(\"BMW\")\n",
    "motorcycles.append(\"KTM\")\n",
    "motorcycles.append(\"Honda\")\n",
    "motorcycles.append(\"Kawasaki\")\n",
    "motorcycles.append(\"Aprilia\")\n",
    "print(\"New list before sorting: \", motorcycles)\n",
    "# If you want to sort a list permanently then use 'sort' function, otherwise use 'sorted' \n",
    "motorcycles.sort()          # Here we have used the function 'sort' to sort our list\n",
    "print(\"After sorting the list: \", motorcycles)\n",
    "motorcycles.sort(reverse=True)  # Here we have used the function 'sort' to sort our list in reverse order\n",
    "print(\"We can also sort it in reverse order: \", motorcycles)\n",
    "\n",
    "# Now we are going to test the 'sorted' function  which returns a sorted copy of the list and doesn't affect the original one.\n",
    "print(\"Here is the original list: \", motorcycles) # As you can notice that we reverse sorted our list in the last line of code. Here we get that list as the original list.\n",
    "print(\"Here is the sorted version: \", sorted(motorcycles)) # Fun-Fact: 'Sorted' function also accepts the \"Reverse=True\" argument\n",
    "print(\"Here is the original list again: \", motorcycles)\n",
    "\n",
    "# Now let's try to reverse our list. This also permanently changes the order of our list.\n",
    "print(\"Original order of out list: \",  motorcycles)\n",
    "motorcycles.reverse()        \n",
    "print(\"Reversed list: \", motorcycles)\n",
    "\n",
    "\n",
    "# Let's find the length of our list. Using 'len' function\n",
    "print(\"Length of our list is: \", len(motorcycles))"
   ]
  },
  {
   "cell_type": "markdown",
   "metadata": {},
   "source": [
    "### Tuple (Python build-in data structure like an Array but yet different XD)"
   ]
  },
  {
   "cell_type": "code",
   "execution_count": 10,
   "metadata": {},
   "outputs": [
    {
     "name": "stdout",
     "output_type": "stream",
     "text": [
      "<class 'tuple'>\n",
      "10\n",
      "Hello\n",
      "1\n",
      "The second value in the tuple is 'Hello'\n"
     ]
    }
   ],
   "source": [
    "# A tuple is similar to a list but it is immutable, meaning its content cannot be changed after creation.\n",
    "# In Python, tuples are written with round brackets ().\n",
    "\n",
    "my_tuple = (10, \"Hello\", True)  # A tuple containing an integer, a string, and a boolean value.\n",
    "# Unlike lists, tuples are immutable and support mixed data types.\n",
    "\n",
    "print(type(my_tuple))  # <class 'tuple'>\n",
    "\n",
    "# Accessing elements of a tuple:\n",
    "# We can access elements of a tuple using indices, starting from 0.\n",
    "\n",
    "element = my_tuple[0]  # element will be 10 as it is the first element of the tuple\n",
    "print(element)         # 10\n",
    "\n",
    "second_element = my_tuple[1]  # second_element will be \"Hello\" as it is the second element of the tuple\n",
    "print(second_element)         # Hello\n",
    "\n",
    "# Finding the index of a value in a tuple\n",
    "index = my_tuple.index('Hello')  # Finding the index of 'Hello'\n",
    "print(index)                     # 1\n",
    "\n",
    "# Using individual values from the tuple\n",
    "print(\"The second value in the tuple is \" + \"'\" + my_tuple[1] + \"'\")\n"
   ]
  },
  {
   "cell_type": "markdown",
   "metadata": {},
   "source": [
    "### Example"
   ]
  },
  {
   "cell_type": "code",
   "execution_count": 11,
   "metadata": {},
   "outputs": [
    {
     "name": "stdout",
     "output_type": "stream",
     "text": [
      "The original tuple ('Toyota', 'Ford', 'Chevrolet', 'Honda')\n",
      "Modified tuple with new car added at a specific position ('Toyota', 'Ford', 'Chevrolet', 'Tesla', 'Honda')\n",
      "Tuple after removing the first car ('Ford', 'Chevrolet', 'Tesla', 'Honda')\n",
      "The last car I owned was Honda.\n",
      "Tuple after removing an expensive car ('Ford', 'Chevrolet')\n",
      "A Tesla is too expensive for me\n",
      "New tuple before sorting: ('Ford', 'Chevrolet', 'BMW', 'Audi', 'Toyota', 'Mercedes', 'Lexus')\n",
      "Sorted tuple: ('Audi', 'BMW', 'Chevrolet', 'Ford', 'Lexus', 'Mercedes', 'Toyota')\n",
      "Reverse sorted tuple: ('Toyota', 'Mercedes', 'Lexus', 'Ford', 'Chevrolet', 'BMW', 'Audi')\n",
      "Reversed tuple: ('Lexus', 'Mercedes', 'Toyota', 'Audi', 'BMW', 'Chevrolet', 'Ford')\n",
      "Length of our tuple is: 7\n"
     ]
    }
   ],
   "source": [
    "# Tuples are immutable, so we cannot modify them directly after creation. Instead, we work around this by creating new tuples as needed.\n",
    "cars = (\"Toyota\", \"Ford\", \"Chevrolet\", \"Honda\")\n",
    "print(\"The original tuple\", cars)\n",
    "\n",
    "# Tuples do not support item assignment or methods like append, insert, or remove.\n",
    "# To 'modify' a tuple, we need to create new tuples and concatenate them.\n",
    "cars = cars[:3] + (\"Tesla\",) + cars[3:]  # Equivalent to inserting \"Tesla\" before \"Honda\"\n",
    "print(\"Modified tuple with new car added at a specific position\", cars)\n",
    "\n",
    "# Removing elements by creating a new tuple without the element\n",
    "cars = cars[1:]  # Removes the first element \"Toyota\"\n",
    "print(\"Tuple after removing the first car\", cars)\n",
    "\n",
    "# Simulating 'pop' by capturing the last element and recreating the tuple without it\n",
    "last_owned = cars[-1]\n",
    "cars = cars[:-1]\n",
    "print(\"The last car I owned was \" + last_owned + \".\")\n",
    "\n",
    "# Simulating removal of a specific element by value\n",
    "too_expensive = \"Tesla\"\n",
    "cars = tuple(car for car in cars if car != too_expensive)\n",
    "print(\"Tuple after removing an expensive car\", cars)\n",
    "print(\"A \" + too_expensive + \" is too expensive for me\")\n",
    "\n",
    "# Adding multiple new values and sorting (creating a new sorted tuple)\n",
    "cars += (\"BMW\", \"Audi\", \"Toyota\", \"Mercedes\", \"Lexus\")\n",
    "print(\"New tuple before sorting:\", cars)\n",
    "sorted_cars = tuple(sorted(cars))\n",
    "print(\"Sorted tuple:\", sorted_cars)\n",
    "reverse_sorted_cars = tuple(sorted(cars, reverse=True))\n",
    "print(\"Reverse sorted tuple:\", reverse_sorted_cars)\n",
    "\n",
    "# Reversing a tuple by creating a new tuple\n",
    "reversed_cars = cars[::-1]\n",
    "print(\"Reversed tuple:\", reversed_cars)\n",
    "\n",
    "# Finding the length of the tuple\n",
    "print(\"Length of our tuple is:\", len(cars))\n"
   ]
  },
  {
   "cell_type": "markdown",
   "metadata": {},
   "source": [
    "### Dictionary (Python build-in data structure like an Hashmap)"
   ]
  },
  {
   "cell_type": "code",
   "execution_count": 1,
   "metadata": {},
   "outputs": [
    {
     "name": "stdout",
     "output_type": "stream",
     "text": [
      "<class 'dict'>\n",
      "John\n",
      "{'name': 'John', 'age': 30, 'city': 'New York', 'email': 'john@example.com'}\n",
      "{'name': 'John', 'city': 'New York', 'email': 'john@example.com'}\n",
      "City is present.\n",
      "Key: name, Value: John\n",
      "Key: city, Value: New York\n",
      "Key: email, Value: john@example.com\n"
     ]
    }
   ],
   "source": [
    "# A dictionary in Python allows us to store key-value pairs. It is mutable, meaning we can change its content without creating a new object.\n",
    "\n",
    "# Creating a dictionary:\n",
    "my_dict = {\"name\": \"John\", \"age\": 30, \"city\": \"New York\"}\n",
    "print(type(my_dict))  # Output: <class 'dict'>\n",
    "\n",
    "# Accessing elements of a dictionary:\n",
    "name = my_dict[\"name\"]  # Accesses the value of the key 'name'\n",
    "print(name)  # Output: John\n",
    "\n",
    "# Adding new key-value pairs to the dictionary:\n",
    "my_dict[\"email\"] = \"john@example.com\"\n",
    "print(my_dict)\n",
    "\n",
    "# Removing elements from the dictionary:\n",
    "del my_dict[\"age\"]\n",
    "print(my_dict)\n",
    "\n",
    "# Checking if a key exists:\n",
    "if \"city\" in my_dict:\n",
    "    print(\"City is present.\")\n",
    "\n",
    "# Iterating through a dictionary:\n",
    "for key, value in my_dict.items():\n",
    "    print(f\"Key: {key}, Value: {value}\")"
   ]
  },
  {
   "cell_type": "markdown",
   "metadata": {},
   "source": [
    "### Example"
   ]
  },
  {
   "cell_type": "code",
   "execution_count": 2,
   "metadata": {},
   "outputs": [
    {
     "name": "stdout",
     "output_type": "stream",
     "text": [
      "Sports teams:  {'basketball': 'Lakers', 'football': 'Barcelona', 'baseball': 'Yankees'}\n",
      "Updated football team:  {'basketball': 'Lakers', 'football': 'Real Madrid', 'baseball': 'Yankees'}\n",
      "football team:  Real Madrid\n",
      "Removed baseball team:  Yankees\n",
      "Number of sports:  2\n",
      "Extended sports teams:  {'basketball': 'Lakers', 'football': 'Real Madrid', 'tennis': 'Federer', 'golf': 'Woods'}\n",
      "Sorted teams by sport name:  ['basketball', 'football', 'golf', 'tennis']\n",
      "Sport: basketball, Team/Player: Lakers\n",
      "Sport: football, Team/Player: Real Madrid\n",
      "Sport: tennis, Team/Player: Federer\n",
      "Sport: golf, Team/Player: Woods\n"
     ]
    }
   ],
   "source": [
    "sports_team = {}\n",
    "# Adding elements:\n",
    "sports_team[\"basketball\"] = \"Lakers\"\n",
    "sports_team[\"football\"] = \"Barcelona\"\n",
    "sports_team[\"baseball\"] = \"Yankees\"\n",
    "print(\"Sports teams: \", sports_team)\n",
    "\n",
    "# Updating elements:\n",
    "sports_team[\"football\"] = \"Real Madrid\"\n",
    "print(\"Updated football team: \", sports_team)\n",
    "\n",
    "# Using the `get` method to safely access keys:\n",
    "team = sports_team.get(\"football\", \"Not Found\")\n",
    "print(\"football team: \", team)\n",
    "\n",
    "# Removing an item with `pop` and checking the result:\n",
    "removed_team = sports_team.pop(\"baseball\", \"No team found\")\n",
    "print(\"Removed baseball team: \", removed_team)\n",
    "\n",
    "# Getting the length of a dictionary:\n",
    "print(\"Number of sports: \", len(sports_team))\n",
    "\n",
    "# Merging two dictionaries:\n",
    "additional_sports = {\"tennis\": \"Federer\", \"golf\": \"Woods\"}\n",
    "sports_team.update(additional_sports)\n",
    "print(\"Extended sports teams: \", sports_team)\n",
    "\n",
    "# Using `sorted` to list keys, values, or items in order:\n",
    "print(\"Sorted teams by sport name: \", sorted(sports_team.keys()))\n",
    "\n",
    "# Iterating over all keys and values:\n",
    "for key, value in sports_team.items():\n",
    "    print(f\"Sport: {key}, Team/Player: {value}\")"
   ]
  },
  {
   "cell_type": "markdown",
   "metadata": {},
   "source": [
    "### Set (Python build-in data structure for storing unique items)"
   ]
  },
  {
   "cell_type": "code",
   "execution_count": 3,
   "metadata": {},
   "outputs": [
    {
     "name": "stdout",
     "output_type": "stream",
     "text": [
      "<class 'set'>\n",
      "1\n",
      "2\n",
      "3\n",
      "4\n",
      "5\n",
      "{1, 2, 3, 4, 5, 6}\n",
      "{1, 2, 3, 4, 5, 6, 7, 8, 9}\n",
      "{1, 2, 3, 4, 5, 6, 7, 8}\n",
      "{1, 2, 3, 4, 5, 6, 7, 8}\n",
      "5 is in the set.\n",
      "Union of sets: {1, 2, 3, 4, 5, 6, 7, 8, 10, 15, 20}\n",
      "Intersection of sets: {5}\n",
      "Difference of sets: {1, 2, 3, 4, 6, 7, 8}\n",
      "Symmetric difference of sets: {1, 2, 3, 4, 6, 7, 8, 10, 15, 20}\n",
      "Set after clearing: set()\n"
     ]
    }
   ],
   "source": [
    "# A set is an unordered collection of unique items. It is mutable, meaning we can modify it after its creation.\n",
    "\n",
    "# Creating a set:\n",
    "my_set = {1, 2, 3, 4, 5}\n",
    "print(type(my_set))  # Output: <class 'set'>\n",
    "\n",
    "# Accessing elements of a set:\n",
    "# We cannot access items in a set by referring to an index or a key since sets are unordered.\n",
    "# However, we can loop through the set items using a for loop, or ask if a specific value is present in a set using the 'in' keyword.\n",
    "\n",
    "for item in my_set:\n",
    "    print(item)  # Prints each item in the set\n",
    "\n",
    "# Adding elements to the set:\n",
    "my_set.add(6)  # Adds an element to the set\n",
    "print(my_set)  # Output: {1, 2, 3, 4, 5, 6}\n",
    "\n",
    "# Adding multiple elements (update the set with another set):\n",
    "my_set.update([7, 8, 9])\n",
    "print(my_set)  # Output: {1, 2, 3, 4, 5, 6, 7, 8, 9}\n",
    "\n",
    "# Removing elements from the set:\n",
    "my_set.remove(9)  # Removes the element '9' from the set\n",
    "print(my_set)  # Output: {1, 2, 3, 4, 5, 6, 7, 8}\n",
    "\n",
    "# If the item to remove does not exist, remove() will raise an error, so it's often safer to use discard():\n",
    "my_set.discard(10)  # Does nothing if '10' is not present in the set\n",
    "print(my_set)  # Output: {1, 2, 3, 4, 5, 6, 7, 8}\n",
    "\n",
    "# Checking if an item exists in a set:\n",
    "if 5 in my_set:\n",
    "    print(\"5 is in the set.\")\n",
    "\n",
    "# Performing Set Operations:\n",
    "# Union and Intersection\n",
    "another_set = {5, 10, 15, 20}\n",
    "union_set = my_set.union(another_set)\n",
    "print(\"Union of sets:\", union_set)  # Output: {1, 2, 3, 4, 5, 6, 7, 8, 10, 15, 20}\n",
    "\n",
    "intersection_set = my_set.intersection(another_set)\n",
    "print(\"Intersection of sets:\", intersection_set)  # Output: {5}\n",
    "\n",
    "# Difference and Symmetric Difference\n",
    "difference_set = my_set.difference(another_set)\n",
    "print(\"Difference of sets:\", difference_set)  # Output: {1, 2, 3, 4, 6, 7, 8}\n",
    "\n",
    "symmetric_difference_set = my_set.symmetric_difference(another_set)\n",
    "print(\"Symmetric difference of sets:\", symmetric_difference_set)  # Output: {1, 2, 3, 4, 6, 7, 8, 10, 15, 20}\n",
    "\n",
    "# Clearing a set:\n",
    "my_set.clear()\n",
    "print(\"Set after clearing:\", my_set)  # Output: set()\n"
   ]
  },
  {
   "cell_type": "markdown",
   "metadata": {},
   "source": [
    "### Conditional Statements (Selection Statements) "
   ]
  },
  {
   "cell_type": "markdown",
   "metadata": {},
   "source": [
    "#### Conditional Tests"
   ]
  },
  {
   "cell_type": "code",
   "execution_count": 7,
   "metadata": {},
   "outputs": [
    {
     "name": "stdout",
     "output_type": "stream",
     "text": [
      "Checking equality using character & string value (Conditional operations)\n",
      "True\n",
      "False\n",
      "False\n",
      "\n",
      "Checking equality using numerical value (Conditional operations)\n",
      "False\n",
      "True\n",
      "True\n",
      "False\n",
      "True\n",
      "True\n",
      "\n",
      "Checking equality using numerical value (Logical operations)\n",
      "False\n",
      "True\n",
      "False\n"
     ]
    }
   ],
   "source": [
    "car = \"bmw\"\n",
    "print(\"Checking equality using character & string value (Conditional operations)\")\n",
    "# Checking for equality\n",
    "print(car == 'bmw') # Equal\n",
    "print(car == 'honda')\n",
    "# Checking for inequality\n",
    "print(car != 'bmw') # Not Equal\n",
    "\n",
    "# Same like above, we can also check for equality or inequality in numerical values. \n",
    "age = 23\n",
    "print(\"\\nChecking equality using numerical value (Conditional operations)\")\n",
    "print(age == 15) # Equal\n",
    "print(age != 20) # Not Equal\n",
    "print(age > 22) # Greater then\n",
    "print(age < 23) # Less then\n",
    "print(age <= 23) # Less then equal to\n",
    "print(age >=  23) # Greater than equal to\n",
    "\n",
    "# Now let's do the same thing with logical operators\n",
    "print(\"\\nChecking equality using numerical value (Logical operations)\")\n",
    "# In python we use \"and\", \"or\", & \"not\" keywords, instead of using \"&&\", \"||\", and \"!\" logical operators like this. \n",
    "print(age > 30 and age < 20) # ANd (Returns true if both statements are true)\n",
    "print(age > 20 or age < 20) # OR (Returns true if one of the statements is true)\n",
    "print(not(age > 20 or age < 20)) # NOT (Reverse the result, returns false if the result is true)\n",
    "\n",
    "# In combination of the above arithmetic, conditional and logical operations together, we can create complex boolean expressions. for our conditional statements.\n"
   ]
  },
  {
   "cell_type": "markdown",
   "metadata": {},
   "source": [
    "#### If. else, & elif Statements"
   ]
  },
  {
   "cell_type": "code",
   "execution_count": 8,
   "metadata": {},
   "outputs": [
    {
     "name": "stdout",
     "output_type": "stream",
     "text": [
      "The list has Toyota in it\n",
      "I have never owned a honda in my life but i'm open to trying one\n",
      "I have never owned a honda in my life but i'm open to trying one\n",
      "I have never owned a honda in my life but i'm open to trying one\n"
     ]
    }
   ],
   "source": [
    "# Conditional statements are one of the most important concepts in programming. A conditional statement is a type of control flow that allows us to execute different blocks of code based on certain conditions being met or not. There are three types of  conditional statements: if, else and elif (else if).\n",
    "\n",
    "# Example for \"if\" condition:\n",
    "# Let's continue the same theme of cars in our example from our previous section.\n",
    "cars = ['audi', 'bmw', 'toyota']\n",
    "# Going to us \"in\" to check whether a value is in a list or not. If it is, we will print that statement according to our conditional statements. On the other hand if we want to check if a value is not in a list then we use \"not in\".\n",
    "if 'toyota' in cars:\n",
    "    print(\"The list has Toyota in it\")\n",
    "    \n",
    "# Example for \"if-else\" condition:\n",
    "if 'honda' in cars:\n",
    "    print('I use to have a honda')\n",
    "else:\n",
    "    print(\"I have never owned a honda in my life but i'm open to trying one\")\n",
    "\n",
    "# Example for \"elif\" condition:\n",
    "if 'honda' in cars:\n",
    "    print('I use to have a honda')\n",
    "elif 'honda' not in cars:\n",
    "    print(\"I have never owned a honda in my life but i'm open to trying one\")\n",
    "    \n",
    "# Example \"elif\" condition with else in it:\n",
    "if 'honda' in cars:\n",
    "    print('I use to have a honda')\n",
    "elif 'honda' not in cars:\n",
    "    print(\"I have never owned a honda in my life but i'm open to trying one\")\n",
    "else: \n",
    "    print(\"I don't have a preference for any specific car brand\") \n",
    "\n",
    "\n",
    "# The above example is very simple just to giv ein idea what are selection statements and how to use them.\n",
    "# We can use if condition in many ways like with loops, list, or any other data structure according to our requirements. we can also created nested version of these statements.\n",
    "\n"
   ]
  },
  {
   "cell_type": "markdown",
   "metadata": {},
   "source": [
    "#### More Examples"
   ]
  },
  {
   "cell_type": "code",
   "execution_count": 9,
   "metadata": {},
   "outputs": [
    {
     "name": "stdout",
     "output_type": "stream",
     "text": [
      "\n",
      "Example: 1\n",
      "Sorry!, you are too young to vote\n",
      "Please, register to vote as soon as you turn 18\n",
      "\n",
      "Example: 2\n",
      "Your admission cost is $10\n",
      "\n",
      "Example: 3\n",
      "Adding pepperoni\n",
      "Adding sausage\n",
      "Adding extra cheese\n",
      "\n",
      "Finished making your pizza!\n",
      "\n",
      "Example: 4\n",
      "You are an old person\n"
     ]
    }
   ],
   "source": [
    "# Example: 1 (Using if-else)\n",
    "print(\"\\nExample: 1\")\n",
    "age = 17\n",
    "if age >= 18:\n",
    "  print(\"You are old enough to vote\")\n",
    "else:\n",
    "  print(\"Sorry!, you are too young to vote\")\n",
    "  print(\"Please, register to vote as soon as you turn 18\")\n",
    "  \n",
    "# Example: 2 (using multiple elif)\n",
    "print(\"\\nExample: 2\")\n",
    "age = 18\n",
    "if age < 4:\n",
    "  price = 0\n",
    "elif age < 18:\n",
    "  price = 5\n",
    "elif age < 65:\n",
    "  price = 10\n",
    "else:\n",
    "  price = 5\n",
    "  \n",
    "print(\"Your admission cost is $\" + str(price))\n",
    "\n",
    "# Example: 3 (using multiple if with list)\n",
    "print(\"\\nExample: 3\")\n",
    "requested_toppings = [ \"pepperoni\", \"sausage\", \"extra cheese\"]\n",
    "if \"mushrooms\" in requested_toppings:\n",
    "  print(\"Adding mushrooms\")\n",
    "if \"pepperoni\" in requested_toppings:\n",
    "  print(\"Adding pepperoni\")\n",
    "if \"sausage\" in requested_toppings:\n",
    "  print(\"Adding sausage\")\n",
    "if \"extra cheese\" in requested_toppings:\n",
    "  print(\"Adding extra cheese\")\n",
    "  \n",
    "print(\"\\nFinished making your pizza!\")\n",
    "\n",
    "# Example: 4 (using if-elif-else chain)\n",
    "print(\"\\nExample: 4\")\n",
    "age = 65\n",
    "if age < 2:\n",
    "  print(\"You are a baby\")\n",
    "elif age == 2 or age < 4:\n",
    "  print(\"You are a toddler\")\n",
    "elif age == 4 or age < 13:\n",
    "  print(\"You are a kid\")\n",
    "elif age == 13 or age < 20:\n",
    "  print(\"You are a teenager\")\n",
    "elif age == 20 or age < 65:\n",
    "  print(\"You are an adult\")\n",
    "else:\n",
    "  print(\"You are an old person\")\n",
    "  "
   ]
  },
  {
   "cell_type": "markdown",
   "metadata": {},
   "source": [
    "## User Input and For Loop"
   ]
  },
  {
   "cell_type": "code",
   "execution_count": null,
   "metadata": {},
   "outputs": [],
   "source": []
  },
  {
   "cell_type": "markdown",
   "metadata": {},
   "source": []
  },
  {
   "cell_type": "code",
   "execution_count": null,
   "metadata": {},
   "outputs": [],
   "source": []
  }
 ],
 "metadata": {
  "kernelspec": {
   "display_name": "base",
   "language": "python",
   "name": "python3"
  },
  "language_info": {
   "codemirror_mode": {
    "name": "ipython",
    "version": 3
   },
   "file_extension": ".py",
   "mimetype": "text/x-python",
   "name": "python",
   "nbconvert_exporter": "python",
   "pygments_lexer": "ipython3",
   "version": "3.9.18"
  }
 },
 "nbformat": 4,
 "nbformat_minor": 2
}
