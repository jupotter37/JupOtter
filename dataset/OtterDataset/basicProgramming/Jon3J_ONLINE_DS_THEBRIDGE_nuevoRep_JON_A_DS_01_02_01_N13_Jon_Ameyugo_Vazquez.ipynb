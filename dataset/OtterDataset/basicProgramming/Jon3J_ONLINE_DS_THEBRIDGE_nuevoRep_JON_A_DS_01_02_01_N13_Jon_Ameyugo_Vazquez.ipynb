{
 "cells": [
  {
   "cell_type": "code",
   "execution_count": null,
   "metadata": {
    "id": "9l3HMgm6RWxF"
   },
   "outputs": [],
   "source": [
    "#![TheBridge_logo_RGB_color.jpg](attachment:TheBridge_logo_RGB_color.jpg)"
   ]
  },
  {
   "cell_type": "code",
   "execution_count": null,
   "metadata": {
    "id": "RGg9iWpoRWxG"
   },
   "outputs": [],
   "source": [
    "#![ejercicios.png](attachment:ejercicios.png)"
   ]
  },
  {
   "cell_type": "markdown",
   "metadata": {
    "id": "AyOlWS2nRWxH"
   },
   "source": [
    "## PRACTICA OBLIGATORIA: COLECCIONES Y FUNCIONES"
   ]
  },
  {
   "cell_type": "markdown",
   "metadata": {
    "id": "6UOgb0KVRWxH"
   },
   "source": [
    "* La práctica obligatoria de esta unidad consiste varios ejercicios de programación libre a completar sobre Colecciones y Funciones. Descarga este notebook en tu ordenador y trabaja en local.  \n",
    "* Recuerda que debes subirla a tu repositorio personal antes de la sesión en vivo para que puntúe adecuadamente y puedas participar en dicha sesión.  \n",
    "* Recuerda también que no es necesario que esté perfecta, sólo es necesario que se vea el esfuerzo.\n",
    "* Esta práctica se resolverá en la sesión en vivo correspondiente y la solución se publicará en el repo del curso."
   ]
  },
  {
   "cell_type": "markdown",
   "metadata": {
    "id": "j3yu-tEjRWxH"
   },
   "source": [
    "### Contenidos"
   ]
  },
  {
   "cell_type": "markdown",
   "metadata": {
    "id": "kO-fLH39RWxH"
   },
   "source": [
    "## Ejercicio 1\n",
    "Eleva todos los elementos de la lista al cuadrado\n",
    "> ```ejer_2 = [1,2,3,4,5]```"
   ]
  },
  {
   "cell_type": "code",
   "execution_count": 2,
   "metadata": {
    "id": "ks5l3yi7RWxH"
   },
   "outputs": [
    {
     "name": "stdout",
     "output_type": "stream",
     "text": [
      "[1, 4, 9, 16, 25]\n"
     ]
    }
   ],
   "source": [
    "ejer_2 = [1,2,3,4,5]\n",
    "ejer_2_cuad = []\n",
    "for elemento in ejer_2:\n",
    "    ejer_2_cuad.append(elemento**2)\n",
    "print(ejer_2_cuad)"
   ]
  },
  {
   "cell_type": "markdown",
   "metadata": {
    "id": "kI_Xr5oFRWxI"
   },
   "source": [
    "## Ejercicio 2\n",
    "Haz un programa que detecte todos los duplicados de un elemento en una lista:\n",
    "* Utiliza una variable duplicado para asignarle el valor del elemento del que queremos encontrar todos sus duplicados.\n",
    "* El programa debe devolver todos los índices de los elementos duplicados.\n",
    "* Aplícalo para encontrar los duplicados de \"un\", \"es\" y \"binario\" de:  \n",
    "\n",
    ">```ejer_3 = [\"Un\", \"árbol\", \"binario\", \"es\", \"una\", \"estructura\", \"de\", \"un\", \"tipo\", \"particular\", \"a\", \"veces\", \"no\", \"es\", \"ni\", \"binario\"]```\n"
   ]
  },
  {
   "cell_type": "code",
   "execution_count": 3,
   "metadata": {
    "id": "cLY9WB7YRWxI"
   },
   "outputs": [
    {
     "name": "stdout",
     "output_type": "stream",
     "text": [
      "Los índices de los duplicados un, son: [0, 7]\n",
      "Los índices de los duplicados es, son: [3, 13]\n",
      "Los índices de los duplicados binario, son: [2, 15]\n"
     ]
    }
   ],
   "source": [
    "ejer_3 = [\"Un\", \"árbol\", \"binario\", \"es\", \"una\", \"estructura\", \"de\", \"un\", \"tipo\", \"particular\", \"a\", \"veces\", \"no\", \"es\", \"ni\", \"binario\"]\n",
    "necesitamos_buscar = [\"un\",\"es\",\"binario\"]\n",
    "\n",
    "def busqueda_duplicados(lista,duplicado):\n",
    "    indices = []\n",
    "    for i,elemento in enumerate(lista):\n",
    "        if elemento.lower() == duplicado.lower():\n",
    "            indices.append(i)\n",
    "    return indices\n",
    "\n",
    "for elemento in necesitamos_buscar:\n",
    "    indices = busqueda_duplicados(ejer_3,elemento)\n",
    "    print(f\"Los índices de los duplicados {elemento}, son: {indices}\")"
   ]
  },
  {
   "cell_type": "markdown",
   "metadata": {
    "id": "3WrBd5QaRWxI"
   },
   "source": [
    "## Ejercicio 3\n",
    "1. ¿Cuántas veces se repite el 3 en la siguiente tupla?\n",
    "2. Crea una tupla nueva con los elementos desde la posicion 5 a la 10.\n",
    "3. ¿Cuántos elementos tiene la tupla `ejer_3`?\n",
    "> ```ejer_9 = (3, 20, 3, 47, 19, 3, 29, 45, 67, 78, 90, 3, 3, 5, 2, 4, 7, 9, 4, 2, 4, 3, 3, 4, 6, 7)```"
   ]
  },
  {
   "cell_type": "code",
   "execution_count": 6,
   "metadata": {
    "id": "bkv_R5LYRWxI"
   },
   "outputs": [
    {
     "name": "stdout",
     "output_type": "stream",
     "text": [
      "El 3 se repite: 7 veces.\n"
     ]
    }
   ],
   "source": [
    "ejer_9 = (3, 20, 3, 47, 19, 3, 29, 45, 67, 78, 90, 3, 3, 5, 2, 4, 7, 9, 4, 2, 4, 3, 3, 4, 6, 7)\n",
    "print(\"El 3 se repite:\", ejer_9.count(3), \"veces.\")"
   ]
  },
  {
   "cell_type": "code",
   "execution_count": 9,
   "metadata": {},
   "outputs": [
    {
     "name": "stdout",
     "output_type": "stream",
     "text": [
      "(3, 29, 45, 67, 78)\n"
     ]
    }
   ],
   "source": [
    "ejer_9_nueva = ejer_9[5:10]\n",
    "print(ejer_9_nueva)"
   ]
  },
  {
   "cell_type": "code",
   "execution_count": 11,
   "metadata": {},
   "outputs": [
    {
     "name": "stdout",
     "output_type": "stream",
     "text": [
      "('Un', 'árbol', 'binario', 'es', 'una', 'estructura', 'de', 'un', 'tipo', 'particular', 'a', 'veces', 'no', 'es', 'ni', 'binario')\n",
      "La tupla 3 tiene: 16 elementos.\n"
     ]
    }
   ],
   "source": [
    "lista_ejer_3 = [\"Un\", \"árbol\", \"binario\", \"es\", \"una\", \"estructura\", \"de\", \"un\", \"tipo\", \"particular\", \"a\", \"veces\", \"no\", \"es\", \"ni\", \"binario\"]\n",
    "tupla_ejer3 = tuple(list(lista_ejer_3))\n",
    "print(tupla_ejer3)\n",
    "\n",
    "elementos_totales_tupla = len(tupla_ejer3)\n",
    "print(\"La tupla 3 tiene:\",elementos_totales_tupla,\"elementos.\")"
   ]
  },
  {
   "cell_type": "markdown",
   "metadata": {
    "id": "6g8Y54AeRWxI"
   },
   "source": [
    "## Ejercicio 4\n",
    "Comprueba si el numero 60 esta en la tupla del ejercicio 3"
   ]
  },
  {
   "cell_type": "code",
   "execution_count": 13,
   "metadata": {
    "id": "F8VTEZonRWxI"
   },
   "outputs": [
    {
     "name": "stdout",
     "output_type": "stream",
     "text": [
      "El número 60 NO está en la tupla del ejercicio 3.\n"
     ]
    }
   ],
   "source": [
    "#comprobacion = ejer_9.contains(60) #Pensé que se podría usar el contains pero no se si estaría bien así\n",
    "numero = 60\n",
    "if numero in ejer_9: #Claro que se puede usar el in para saber si está o no está dentro de dicha tupla.\n",
    "    print(f\"El número {numero} está en la tupla del ejercicio 3.\")\n",
    "else:\n",
    "    print(f\"El número {numero} NO está en la tupla del ejercicio 3.\")"
   ]
  },
  {
   "cell_type": "markdown",
   "metadata": {
    "id": "y0fg-ZA6RWxI"
   },
   "source": [
    "## Ejercicio 5\n",
    "1. Convierte la tupla del ejercicio 3 en una lista\n",
    "2. Convierte la tupla del ejercicio 3 en un set\n",
    "3. Convierte la tupla del ejercicio 3 en un diccionario. Usa también los indices"
   ]
  },
  {
   "cell_type": "code",
   "execution_count": 18,
   "metadata": {
    "id": "_O5hXr01RWxI"
   },
   "outputs": [
    {
     "name": "stdout",
     "output_type": "stream",
     "text": [
      "La tupla a lista sería:  [3, 20, 3, 47, 19, 3, 29, 45, 67, 78, 90, 3, 3, 5, 2, 4, 7, 9, 4, 2, 4, 3, 3, 4, 6, 7] con tipo: <class 'list'>\n",
      "La tupla a set sería:  {2, 3, 67, 5, 4, 7, 6, 9, 45, 78, 47, 19, 20, 90, 29} con tipo: <class 'set'>\n",
      "La tupla a diccionario sería:  {0: 3, 1: 20, 2: 3, 3: 47, 4: 19, 5: 3, 6: 29, 7: 45, 8: 67, 9: 78, 10: 90, 11: 3, 12: 3, 13: 5, 14: 2, 15: 4, 16: 7, 17: 9, 18: 4, 19: 2, 20: 4, 21: 3, 22: 3, 23: 4, 24: 6, 25: 7} con tipo: <class 'dict'>\n"
     ]
    }
   ],
   "source": [
    "#1.Convierte la tupla del ejercicio 3 en una lista\n",
    "tupla_ejercicio3 = (3, 20, 3, 47, 19, 3, 29, 45, 67, 78, 90, 3, 3, 5, 2, 4, 7, 9, 4, 2, 4, 3, 3, 4, 6, 7)\n",
    "convertir_tupla_a_lista = list(tuple(tupla_ejercicio3))\n",
    "print(\"La tupla a lista sería: \",convertir_tupla_a_lista,\"con tipo:\",type(convertir_tupla_a_lista))\n",
    "\n",
    "#2.Convierte la tupla del ejercicio 3 en un set\n",
    "convertir_tupla_a_set = set(tuple(tupla_ejercicio3))\n",
    "print(\"La tupla a set sería: \",convertir_tupla_a_set,\"con tipo:\",type(convertir_tupla_a_set))\n",
    "\n",
    "#3.Convierte la tupla del ejercicio 3 en un diccionario. Usa también los indices\n",
    "convertir_tupla_a_diccionario = {}\n",
    "for indice,valor in enumerate(tupla_ejercicio3):\n",
    "    convertir_tupla_a_diccionario[indice] = valor\n",
    "print(\"La tupla a diccionario sería: \",convertir_tupla_a_diccionario,\"con tipo:\",type(convertir_tupla_a_diccionario))\n",
    " "
   ]
  },
  {
   "cell_type": "markdown",
   "metadata": {
    "id": "eOdWWbxvRWxJ"
   },
   "source": [
    "## Ejercicio 6\n",
    "Multiplica todos los valores del diccionario\n",
    "> ```ejer_6 = {1: 11, 2: 22, 3: 33, 4: 44, 5: 55}```"
   ]
  },
  {
   "cell_type": "code",
   "execution_count": 21,
   "metadata": {
    "id": "KcuByovKRWxJ"
   },
   "outputs": [
    {
     "name": "stdout",
     "output_type": "stream",
     "text": [
      "La multiplicación de todos los valores del diccionario sería:  19326120\n"
     ]
    }
   ],
   "source": [
    "ejer_6 = {1: 11, 2: 22, 3: 33, 4: 44, 5: 55}\n",
    "multiplicacion = 1\n",
    "for valor in ejer_6.values():\n",
    "    multiplicacion*=valor\n",
    "print(\"La multiplicación de todos los valores del diccionario sería: \",multiplicacion)"
   ]
  },
  {
   "cell_type": "markdown",
   "metadata": {
    "id": "W7TUSaKRRWxJ"
   },
   "source": [
    "## Ejercicio 7\n",
    "\n",
    "1. Crea un diccionario que describa un libro, con los siguientes campos o claves: \"titulo\",\"autor\",\"idioma original\",\"año de publicación\".\n",
    "2. Crea un a lista, llamada librería.\n",
    "3. Añade cuatro libros a tu elección a la librería."
   ]
  },
  {
   "cell_type": "code",
   "execution_count": 28,
   "metadata": {
    "id": "d-IMRvxRRWxJ",
    "vscode": {
     "languageId": "plaintext"
    }
   },
   "outputs": [
    {
     "name": "stdout",
     "output_type": "stream",
     "text": [
      "{'titulo': 'Ángeles y Demonios', 'autor': 'Dan Brown', 'idioma original': 'inglés', 'año de publicación': 2000} <class 'dict'>\n",
      "[{'titulo': 'Ángeles y Demonios', 'autor': 'Dan Brown', 'idioma original': 'inglés', 'año de publicación': 2000}] <class 'list'>\n",
      "[{'titulo': 'Ángeles y Demonios', 'autor': 'Dan Brown', 'idioma original': 'inglés', 'año de publicación': 2000}, {'titulo': 'La llamada de Cthulhu', 'autor': 'H.P.Lovecraft', 'idioma original': 'inglés', 'año de publicación': 1928}, {'titulo': 'Python Programming for beginners', 'autor': 'Philip Robbins', 'idioma original': 'inglés', 'año de publicación': 2023}, {'titulo': 'El gato negro', 'autor': 'Edgar Allan Poe', 'idioma original': 'inglés', 'año de publicación': 1843}, {'titulo': 'Spice & Wolf', 'autor': 'Isuna Hasekura', 'idioma original': 'japonés', 'año de publicación': 2006}]\n"
     ]
    }
   ],
   "source": [
    "#Caso 1:\n",
    "libro = {\"titulo\":\"Ángeles y Demonios\",\"autor\":\"Dan Brown\",\"idioma original\":\"inglés\",\"año de publicación\":2000}\n",
    "print(libro,type(libro))\n",
    "#Caso 2:\n",
    "libreria = [libro,]\n",
    "print(libreria,type(libreria))\n",
    "\n",
    "libro1 = {\"titulo\":\"La llamada de Cthulhu\",\"autor\":\"H.P.Lovecraft\",\"idioma original\":\"inglés\",\"año de publicación\":1928}\n",
    "libro2 = {\"titulo\":\"Python Programming for beginners\",\"autor\":\"Philip Robbins\",\"idioma original\":\"inglés\",\"año de publicación\":2023}\n",
    "libro3 = {\"titulo\":\"El gato negro\",\"autor\":\"Edgar Allan Poe\",\"idioma original\":\"inglés\",\"año de publicación\":1843}\n",
    "libro4 = {\"titulo\":\"Spice & Wolf\",\"autor\":\"Isuna Hasekura\",\"idioma original\":\"japonés\",\"año de publicación\":2006}\n",
    "\n",
    "libreria = [libro,libro1,libro2,libro3,libro4]\n",
    "print(libreria)"
   ]
  },
  {
   "cell_type": "markdown",
   "metadata": {
    "id": "glMoedjYRWxJ"
   },
   "source": [
    "## Ejercicio 8\n",
    "Modifica los valores del idioma de todos los libros del ejercicio anterior para que sea \"esperanto\"\n"
   ]
  },
  {
   "cell_type": "code",
   "execution_count": 29,
   "metadata": {
    "id": "veNdC-uwRWxJ"
   },
   "outputs": [
    {
     "name": "stdout",
     "output_type": "stream",
     "text": [
      "{'titulo': 'Ángeles y Demonios', 'autor': 'Dan Brown', 'idioma original': 'esperanto', 'año de publicación': 2000}\n",
      "{'titulo': 'La llamada de Cthulhu', 'autor': 'H.P.Lovecraft', 'idioma original': 'esperanto', 'año de publicación': 1928}\n",
      "{'titulo': 'Python Programming for beginners', 'autor': 'Philip Robbins', 'idioma original': 'esperanto', 'año de publicación': 2023}\n",
      "{'titulo': 'El gato negro', 'autor': 'Edgar Allan Poe', 'idioma original': 'esperanto', 'año de publicación': 1843}\n",
      "{'titulo': 'Spice & Wolf', 'autor': 'Isuna Hasekura', 'idioma original': 'esperanto', 'año de publicación': 2006}\n"
     ]
    }
   ],
   "source": [
    "for libro in libreria:\n",
    "    libro[\"idioma original\"] = \"esperanto\"\n",
    "    print(libro)"
   ]
  },
  {
   "cell_type": "markdown",
   "metadata": {
    "id": "DRCJG04KRWxJ"
   },
   "source": [
    "## Ejercicio 9\n",
    "1. Escribe un programa que dada una variable titulo busque los libros que hay en la librería con ese título. Si no se encuentra debe devolver el mensaje `Ese no lo tengo, ¿mola?`\n",
    "2. Pruena que el programa con uno de tus libros y con otro que no contenga tu librería."
   ]
  },
  {
   "cell_type": "code",
   "execution_count": 40,
   "metadata": {
    "id": "eWHdJi9BRWxJ"
   },
   "outputs": [
    {
     "name": "stdout",
     "output_type": "stream",
     "text": [
      "Has tenido suerte el libro está almacenado en mi librería\n",
      "Ese no lo tengo, ¿mola?\n"
     ]
    }
   ],
   "source": [
    "#Caso 1:\n",
    "titulo = \"Spice & Wolf\"\n",
    "def buscarlibros_titulos(titulo):\n",
    "    for libro in libreria:\n",
    "        if libro[\"titulo\"] ==  titulo:\n",
    "            print(\"Has tenido suerte el libro está almacenado en mi librería\")\n",
    "            return\n",
    "    print(\"Ese no lo tengo, ¿mola?\")\n",
    "\n",
    "buscarlibros_titulos(titulo)\n",
    "#Caso 2, que no encuentre el titulo:\n",
    "titulo = \"La catedral del mar\"\n",
    "buscarlibros_titulos(titulo)"
   ]
  },
  {
   "cell_type": "markdown",
   "metadata": {
    "id": "17YOpYuFRWxJ"
   },
   "source": [
    "## Ejercicio 10\n",
    "Convierte el programa del ejercicio 2 en una función al que se le pase el valor a buscar como un argumento posicional"
   ]
  },
  {
   "cell_type": "code",
   "execution_count": null,
   "metadata": {
    "id": "xbj0LgvnRWxJ"
   },
   "outputs": [],
   "source": [
    "#Lo hice de antemano con una función en el ejercicio 2 --> Una manera más cómoda de haberlo hecho"
   ]
  },
  {
   "cell_type": "markdown",
   "metadata": {
    "id": "xZ-sWJxPRWxJ"
   },
   "source": [
    "## Ejercicio 11\n",
    "Convierte el programa del ejercicio 9 en una función al que se le pasen como argumentos la librería, posicional, y el título, argumento keyword con valor \"ninguno\", por defecto."
   ]
  },
  {
   "cell_type": "code",
   "execution_count": 43,
   "metadata": {
    "id": "4-JrsMdNRWxK"
   },
   "outputs": [
    {
     "name": "stdout",
     "output_type": "stream",
     "text": [
      "Ese no lo tengo, ¿mola?\n"
     ]
    }
   ],
   "source": [
    "def buscarlibros_titulos(libreria,titulo=\"ninguno\"):\n",
    "    for libro in libreria:\n",
    "        if libro[\"titulo\"] ==  titulo:\n",
    "            print(\"Has tenido suerte el libro está almacenado en mi librería\")\n",
    "            return\n",
    "    print(\"Ese no lo tengo, ¿mola?\")\n",
    "\n",
    "buscarlibros_titulos(libreria,titulo) #Si ponemos titulo ninguno por defecto, no lo va a buscar."
   ]
  },
  {
   "cell_type": "markdown",
   "metadata": {
    "id": "FtJir95QRWxK"
   },
   "source": [
    "## Ejercicio 12\n",
    "Solicitar al usuario que ingrese su dirección email. Imprimir un mensaje indicando si la dirección es válida o no, valiéndose de una función para decidirlo. Una dirección se considerará válida si contiene el símbolo \"@\"."
   ]
  },
  {
   "cell_type": "code",
   "execution_count": 45,
   "metadata": {
    "id": "sk852IZ8RWxK"
   },
   "outputs": [
    {
     "name": "stdin",
     "output_type": "stream",
     "text": [
      "Ingrese su dirección de email por favor:  jon181197@gmail.com\n"
     ]
    },
    {
     "name": "stdout",
     "output_type": "stream",
     "text": [
      "El email es válido\n"
     ]
    }
   ],
   "source": [
    "email = input(\"Ingrese su dirección de email por favor: \")\n",
    "def direccion_valida(email):\n",
    "    if \"@\" in email:\n",
    "        print(\"El email es válido\")\n",
    "    else:\n",
    "        print(\"El email no es válido\")\n",
    "\n",
    "direccion_valida(email)"
   ]
  },
  {
   "cell_type": "markdown",
   "metadata": {
    "id": "Kw1MWBwBRWxK"
   },
   "source": [
    "## Ejercicio 13\n",
    "Escribe una función que compruebe si un DNI es válido, devolviendo `True` en caso afirmativo.  \n",
    "En primer lugar, el DNI debe tener entre 7 y 8 dígitos numéricos.  \n",
    "Para saber si la letra del DNI es correcta puedes utilizar el siguiente fragmento de código:\n",
    ">```Python\n",
    ">DNI= 55555555\n",
    ">palabra='TRWAGMYFPDXBNJZSQVHLCKE'\n",
    ">print('La letra del DNI es: ', palabra[DNI%23])\n",
    ">````\n"
   ]
  },
  {
   "cell_type": "code",
   "execution_count": 55,
   "metadata": {
    "id": "F5Z9rSHqRWxK"
   },
   "outputs": [
    {
     "name": "stdin",
     "output_type": "stream",
     "text": [
      "Introduzca el DNI para saber si es válido:  22763456B\n"
     ]
    },
    {
     "name": "stdout",
     "output_type": "stream",
     "text": [
      "El DNI es válido.\n"
     ]
    }
   ],
   "source": [
    "def comprobar_DNI(DNI):\n",
    "    palabra = 'TRWAGMYFPDXBNJZSQVHLCKE'\n",
    "\n",
    "    if len(DNI) < 8 or len(DNI) > 9:\n",
    "        return False\n",
    "    numeros = DNI[:-1]\n",
    "    letra = DNI[-1].upper()\n",
    "\n",
    "    if not numeros.isdigit():\n",
    "        return False\n",
    "\n",
    "    numeros_num = int(numeros)\n",
    "\n",
    "    if numeros_num < 0 or numeros_num > 99999999:\n",
    "        return False\n",
    "\n",
    "    letra_correcta = palabra[numeros_num % 23]\n",
    "\n",
    "    return letra == letra_correcta\n",
    "\n",
    "DNI = input(\"Introduzca el DNI para saber si es válido: \")\n",
    "\n",
    "if comprobar_DNI(DNI):\n",
    "    print(\"El DNI es válido.\")\n",
    "else:\n",
    "    print(\"El DNI no es válido.\")"
   ]
  }
 ],
 "metadata": {
  "colab": {
   "provenance": []
  },
  "kernelspec": {
   "display_name": "Python 3 (ipykernel)",
   "language": "python",
   "name": "python3"
  },
  "language_info": {
   "codemirror_mode": {
    "name": "ipython",
    "version": 3
   },
   "file_extension": ".py",
   "mimetype": "text/x-python",
   "name": "python",
   "nbconvert_exporter": "python",
   "pygments_lexer": "ipython3",
   "version": "3.12.1"
  }
 },
 "nbformat": 4,
 "nbformat_minor": 4
}
