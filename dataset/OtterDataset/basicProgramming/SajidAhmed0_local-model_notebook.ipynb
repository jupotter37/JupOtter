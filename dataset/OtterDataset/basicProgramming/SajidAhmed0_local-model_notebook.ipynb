{
 "cells": [
  {
   "cell_type": "code",
   "execution_count": 1,
   "metadata": {},
   "outputs": [],
   "source": [
    "import os\n",
    "from dotenv import load_dotenv\n",
    "\n",
    "load_dotenv()\n",
    "\n",
    "MODEL = \"gpt-3.5-turbo\"\n",
    "# MODEL = \"gpt-4o\"\n",
    "# MODEL = \"mixtral:8x5b\"\n",
    "# MODEL = \"llama2\"\n",
    "\n",
    "# print(os.getenv(\"OPENAI_API_KEY\"))\n",
    "\n"
   ]
  },
  {
   "cell_type": "code",
   "execution_count": 2,
   "metadata": {},
   "outputs": [
    {
     "data": {
      "text/plain": [
       "AIMessage(content=\"Why couldn't the bicycle stand up by itself?\\n\\nBecause it was two tired!\", response_metadata={'token_usage': {'completion_tokens': 16, 'prompt_tokens': 11, 'total_tokens': 27}, 'model_name': 'gpt-3.5-turbo-0125', 'system_fingerprint': None, 'finish_reason': 'stop', 'logprobs': None}, id='run-8c7dc392-f8dd-48ab-bc3c-d2373f936e52-0', usage_metadata={'input_tokens': 11, 'output_tokens': 16, 'total_tokens': 27})"
      ]
     },
     "execution_count": 2,
     "metadata": {},
     "output_type": "execute_result"
    }
   ],
   "source": [
    "from langchain_openai.chat_models import ChatOpenAI\n",
    "from langchain_openai.embeddings import OpenAIEmbeddings\n",
    "from langchain.llms import Ollama\n",
    "from langchain.embeddings import OllamaEmbeddings\n",
    "\n",
    "if MODEL.startswith(\"gpt\"):\n",
    "    model = ChatOpenAI(openai_api_key = os.getenv(\"OPENAI_API_KEY\"), model = MODEL)\n",
    "    embeddings = OpenAIEmbeddings(openai_api_key = os.getenv(\"OPENAI_API_KEY\"))\n",
    "else:\n",
    "    model = Ollama(model = MODEL)\n",
    "    embeddings = OllamaEmbeddings(model = MODEL)\n",
    "model.invoke(\"Tell me a joke\")\n"
   ]
  },
  {
   "cell_type": "markdown",
   "metadata": {},
   "source": [
    "## To parse AIMessage to String  "
   ]
  },
  {
   "cell_type": "code",
   "execution_count": 3,
   "metadata": {},
   "outputs": [
    {
     "data": {
      "text/plain": [
       "\"Why couldn't the bicycle stand up by itself? \\n\\nBecause it was two tired!\""
      ]
     },
     "execution_count": 3,
     "metadata": {},
     "output_type": "execute_result"
    }
   ],
   "source": [
    "from langchain_core.output_parsers import StrOutputParser\n",
    "\n",
    "parser = StrOutputParser()\n",
    "\n",
    "chain = model | parser\n",
    "\n",
    "chain.invoke(\"Tell me a joke\")"
   ]
  },
  {
   "cell_type": "markdown",
   "metadata": {},
   "source": [
    "## Load pdf to python"
   ]
  },
  {
   "cell_type": "code",
   "execution_count": 4,
   "metadata": {},
   "outputs": [
    {
     "data": {
      "text/plain": [
       "[Document(metadata={'source': 'mlschool.pdf', 'page': 0}, page_content='Building Machine Learning Systems That Don\\'t\\nSuck\\nA live, interactive program that\\'ll help you build production-readymachine learning\\nsystems from the ground up.\\nNext cohort:\\xa0August5 - 22, 2024\\nCheck the schedulefor more details about upcoming cohorts.\\nI want to join!Sign in\\nLearn how to design, build, deploy, and scale machine learning\\nsystems to solve real-world problems.\\nI\\'ll lose my mind if I see another book or course teaching people the same basic ideas\\nfor the hundredth time. Most people are stuck in beginner mode, and finding help to\\nsolve real-world problems is hard.\\nI want to change that.\\nI started writing software 30 years ago. I\\'ve written pipelines and trained models for\\nsome of the largest companies in the world. I want to show you how to do the same.\"This is the best machine learning course I\\'ve done.\\nWorth every cent.\"\\n— Jose Reyes, AI/ML at Cevo Australia7/19/24, 2:32 PM Building Machine Learning Systems That Don\\'t Suck\\nhttps://www.ml.school 1/10'),\n",
       " Document(metadata={'source': 'mlschool.pdf', 'page': 1}, page_content=\"This is the class I wish I had taken when I started.\\nThis program will help you unlearn what you think machine learning is. It's a practical,\\nhands-on class where you'll learn from years of experience and real-world examples.\\nWhen you join, you get lifetime access to the following:\\n18 hours of live, interactive sessions. We'll use this time to discuss the first\\nprinciples behind building machine learning systems.\\n10 hours of step-by-step coding instructions. These practical sessions will\\nshow you how to build an end-to-end system from scratch.\\nA final project where you'll build a complete solution and receive direct\\nfeedback on your work.\\n100 coding assignments and practice questions.\\nThe entire source code of a working production system. It's yours. You can\\nchange and use it as you see fit.\\nA private community where you'll collaborate with thousands of people from\\ndifferent backgrounds.\\nDirect access to your instructor.\\nLifetime access to every past and future cohort.\\nProgram certificate upon completion.\\nAnd the best part is that you only pay once to join. There are no monthly fees. No\\nannual fees. No hidden costs. You pay once to join and benefit forever until the end of\\ntime.\\nThe program won't be easy. It'll take time and effort. But if you want to use machine\\nlearning to solve real-world problems,this is the class you don't want to miss.\\nWho Is This Program For?7/19/24, 2:32 PM Building Machine Learning Systems That Don't Suck\\nhttps://www.ml.school 2/10\"),\n",
       " Document(metadata={'source': 'mlschool.pdf', 'page': 2}, page_content='This is a practical, hands-on program for technical professionals who\\nare ready to put in the work.\\nThis program is for software engineers,data scientists,data analysts,machine\\nlearning engineers,technical managers, and anyone anyone who wants to use\\nmachine learning to solve real-world problems.\\nHere are the criteria to succeed in the program:\\nYou have experience writing code. We\\'ll use Python throughout the class, but\\nyou won\\'t have any problems if you know any other language.\\nYou are familiar with basic machine learning terminology. This is not an\\nintroductory class. We\\'ll move quickly over the basics to focus on the\\nfundamental ideas that make systems work.\\nYou are ready to put in the work to succeed.\\n\"I have learned a ton from Santiago in his class and it was actually what helped inspire me and\\nget into the MLOps work that I\\'m doing now. Truly one of the most helpful online courses for\\ndoing real, full-scale machine learning.\"\\nBrian H. Hough\\nSoftware Engineer\\nWhat Will You Learn?\\nYou\\'ll come out with practical skills and insights into what it takes to\\nbuild systems that work in the real world.7/19/24, 2:32 PM Building Machine Learning Systems That Don\\'t Suck\\nhttps://www.ml.school 3/10'),\n",
       " Document(metadata={'source': 'mlschool.pdf', 'page': 3}, page_content=\"Here is a summary of what makes this program unique:\\nYou'll design and write the code to build an end-to-end machine learning\\nsystem starting from scratch.\\nYou'll learn best practices to tackle the most significant challenges machine\\nlearning engineers face to build, evaluate, run, monitor, and maintain machine\\nlearning systems in real-world scenarios.\\nYou'll learn how to use techniques like active learning, distributed training,\\nadversarial validation, human-in-the-loop deployments, model compression,\\ntest-time augmentation, testing in production, among many others.\\nYou'll learn how to create training, deploying, monitoring, and inference\\npipelines using Amazon SageMaker and open-source tools.\\nForget about theoretical concepts. This program will show you some of the things I've\\nlearned from real-life examples I've built during more than 30 years in the industry.\\nCheck the program syllabus\\xa0→\\nReal-life examples and case studies\\nLearn from practical experience building machine\\nlearning systems that work in the real world.\\nLive, interactive sessions\\n7/19/24, 2:32 PM Building Machine Learning Systems That Don't Suck\\nhttps://www.ml.school 4/10\"),\n",
       " Document(metadata={'source': 'mlschool.pdf', 'page': 4}, page_content=\"Ask questions and interact with the instructor and\\nother students in real time.\\nCode walkthroughs\\nStep by step coding instructions to help you build a\\nproduction system from scratch.\\nUpcoming Schedule\\nEvery iteration of the program gives you 18 hours of hands-on, live\\ntraining spread over 3 weeks.\\nHere are the upcoming cohorts:\\nCohort 15:August 5-August 22, 2024.10:00 AM EDT\\nLive sessions will take place every Monday and Thursday at the same time. On\\nWednesdays, we'll host office hours when you can bring your questions projects or\\nanything else you want to discuss.\\nMonday: Live session. 2 hours.\\nTuesday: Individual work.\\nWednesday: Optional office hours.\\nThursday: Live session. 2 hours.\\nFriday: Individual work.\\n7/19/24, 2:32 PM Building Machine Learning Systems That Don't Suck\\nhttps://www.ml.school 5/10\"),\n",
       " Document(metadata={'source': 'mlschool.pdf', 'page': 5}, page_content='Do not wait for a specific cohort to join the program. You have lifetime access to\\nevery past and future cohort, and the sooner you join, the more time you have to\\nprepare.\\nEvery session is recorded. You can attend live or watch the recorded version later.\\n\"This is one of the best classes I\\'ve ever purchased over the internet. Santiago is a terrific\\nteacher. The ability he has to share knowledge is fantastic. I recommend this course. Worth 10x\\nwhat he\\'s charging.\"\\nSal DiStefano\\nReady To Join The Program?\\nYou\\'ll get lifetime access. No monthly fees. No annual fees. No hidden\\ncosts.\\n$450$200\\nPay once. Access forever.\\nPay once to join the program and get lifetime access. You can participate in as many\\niterations as you\\'d like. No restrictions.7/19/24, 2:32 PM Building Machine Learning Systems That Don\\'t Suck\\nhttps://www.ml.school 6/10'),\n",
       " Document(metadata={'source': 'mlschool.pdf', 'page': 6}, page_content=\"Program Syllabus\\nThis program will teach you the practical skills and insights that will\\nhelp you build machine learning systems.\\nHere are the contents of the six live sessions of the program:\\nSession 1 - How To Start (Almost) Any Project\\nWhat makes production machine learning different from what you've learned.\\nThe strategy to solve the right problem using the right solution.\\nCritical questions to ask before starting any project.\\nProblem framing, inversion, and the haystack principle for building successful\\napplications.\\nThe first rule of machine learning engineering and how to start building.\\nData collection strategies. A technique to determine how much data you need.\\nThe problem of selection bias and how to deal with it.\\nLabeling data. Human annotations, natural labels and weak supervision.Join now\\nEnjoy 18 hours of live, interactive sessions\\nWatch 10 hours of step-by-step coding instructions\\nPractice with 100 coding assignments\\nAccess the complete source code of a production system\\nLearn how to start freelancing on Upwork\\nGet feedback and support from the community\\nGet direct feedback from your instructor7/19/24, 2:32 PM Building Machine Learning Systems That Don't Suck\\nhttps://www.ml.school 7/10\"),\n",
       " Document(metadata={'source': 'mlschool.pdf', 'page': 7}, page_content='Active learning using the uncertainty and diversity sampling strategies.\\nSession 2 - How to Build a Model\\nThe role of data cleaning and feature engineering to build better models.\\nTurning data into numbers using vectorization techniques.\\nProducing homogeneous features using normalization and standardization.\\nHandling and interpreting missing values using imputation techniques.\\nThe approach to choosing the best model to solve any problem.\\nRandom baselines and the zero-rule algorithm.\\nHow to use overfitting to build models that don\\'t suck.\\nHyperparameter tuning and experiment tracking.\\nMeasuring the quality of your holdout set.\\nAn introduction to distributed training using data parallelism and model\\nparallelism.\\nSee the remaining sessions\\n\"This is an awesome course! This is my second round and I continue learning. I recommend it\\nwith complete confidence.\"\\nJuan Olano\\nMachine Learning Engineer\\nFrequently Asked Questions7/19/24, 2:32 PM Building Machine Learning Systems That Don\\'t Suck\\nhttps://www.ml.school 8/10'),\n",
       " Document(metadata={'source': 'mlschool.pdf', 'page': 8}, page_content='If you can\\'t find the answer to your question, please reach out on\\nsocial media and I\\'ll be happy to help.\\nHow long will it take to complete the program?\\nIf you are attending the live sessions, you should set aside a minimum of 4 hours\\nevery week during the three weeks of the program. This commitment will be enough\\nfor engineer leaders or anyone not interested in the coding portion of the program.\\nThose interested in implementing the concepts discussed in class should set aside 2\\nto 4 hours weekly to complete the code walkthroughs and work on the assignments.\\nAre live sessions recorded?\\nYes, we record every live session. You can decide when to attend classes live or\\ncatch up asynchronously later using the recording.\\nI\\'m a complete beginner. Is this program helpful for me?\\nThis program is not an introduction to machine learning.\\nWhile we\\'ll discuss many fundamental ideas behind machine learning, beginners will\\nfind the sessions go much faster than what\\'s optimal for them.\\nWhat does \"lifetime access\" mean?\\nYou only pay once to join the program and get immediate access to every past,\\npresent, and future cohort.\\nEvery new iteration of the program is better than the ones before. Many students\\ntake classes once and then join a later cohort to benefit from the updates.\\nThe lifetime access removes any pressure from having to complete the program when\\nlife gets in the way.7/19/24, 2:32 PM Building Machine Learning Systems That Don\\'t Suck\\nhttps://www.ml.school 9/10'),\n",
       " Document(metadata={'source': 'mlschool.pdf', 'page': 9}, page_content=\"Hey! I'm Santiago.\\nI'm the instructor of the program.\\nI'm a machine learning engineer with over two decades of experience\\nbuilding and scaling enterprise software and machine learning systems.\\nI love neural networks. I love to make them work at scale.\\nFrom 2009 to 2023, I built products for Disney, Boston Dynamics, IBM, Dell,\\nG4S, Anheuser-Busch, and NextEra Energy, among other clients. I learned\\nabout trade-offs and how to create products that work.\\nI started this program in March 2023. Since then, thousands of students\\nhave graduated, and I can't wait to meet you in class.\\nCopyright © 2024 Tideily LLC\\nAll rights reserved.7/19/24, 2:32 PM Building Machine Learning Systems That Don't Suck\\nhttps://www.ml.school 10/10\")]"
      ]
     },
     "execution_count": 4,
     "metadata": {},
     "output_type": "execute_result"
    }
   ],
   "source": [
    "from langchain_community.document_loaders import PyPDFLoader\n",
    "\n",
    "loader = PyPDFLoader(\"mlschool.pdf\")\n",
    "pages = loader.load_and_split()\n",
    "pages"
   ]
  },
  {
   "cell_type": "markdown",
   "metadata": {},
   "source": [
    "# creating a prompt template"
   ]
  },
  {
   "cell_type": "code",
   "execution_count": 5,
   "metadata": {},
   "outputs": [
    {
     "data": {
      "text/plain": [
       "'\\nAnswer the question based on thee context below. If you can\\'try\\nanswer the question, reply \"I don\\'t know\".\\n\\ncontext: Here is some context\\nquestion: Here is a question\\n'"
      ]
     },
     "execution_count": 5,
     "metadata": {},
     "output_type": "execute_result"
    }
   ],
   "source": [
    "from langchain.prompts import PromptTemplate\n",
    "\n",
    "templat = \"\"\"\n",
    "Answer the question based on thee context below. If you can'try\n",
    "answer the question, reply \"I don't know\".\n",
    "\n",
    "context: {context}\n",
    "question: {question}\n",
    "\"\"\"\n",
    "\n",
    "prompt = PromptTemplate.from_template(templat)\n",
    "prompt.format(context=\"Here is some context\", question=\"Here is a question\")\n",
    "\n"
   ]
  },
  {
   "cell_type": "code",
   "execution_count": 7,
   "metadata": {},
   "outputs": [],
   "source": [
    "chain = prompt | model | parser"
   ]
  },
  {
   "cell_type": "code",
   "execution_count": 8,
   "metadata": {},
   "outputs": [
    {
     "data": {
      "text/plain": [
       "{'title': 'PromptInput',\n",
       " 'type': 'object',\n",
       " 'properties': {'context': {'title': 'Context', 'type': 'string'},\n",
       "  'question': {'title': 'Question', 'type': 'string'}},\n",
       " 'required': ['context', 'question']}"
      ]
     },
     "execution_count": 8,
     "metadata": {},
     "output_type": "execute_result"
    }
   ],
   "source": [
    "chain.input_schema.schema()"
   ]
  },
  {
   "cell_type": "code",
   "execution_count": 9,
   "metadata": {},
   "outputs": [
    {
     "data": {
      "text/plain": [
       "'Your name is Santiago.'"
      ]
     },
     "execution_count": 9,
     "metadata": {},
     "output_type": "execute_result"
    }
   ],
   "source": [
    "chain.invoke(\n",
    "    {\n",
    "        \"context\": \"The name I was given was santiago.\",\n",
    "        \"question\": \"what's my name?\"\n",
    "    }\n",
    ")"
   ]
  },
  {
   "cell_type": "code",
   "execution_count": 10,
   "metadata": {},
   "outputs": [],
   "source": [
    "from langchain_community.vectorstores import DocArrayInMemorySearch\n",
    "\n",
    "vectorstore = DocArrayInMemorySearch.from_documents(\n",
    "    pages, \n",
    "    embedding=embeddings\n",
    ")"
   ]
  },
  {
   "cell_type": "code",
   "execution_count": 14,
   "metadata": {},
   "outputs": [
    {
     "data": {
      "text/plain": [
       "[Document(metadata={'source': 'mlschool.pdf', 'page': 0}, page_content='Building Machine Learning Systems That Don\\'t\\nSuck\\nA live, interactive program that\\'ll help you build production-readymachine learning\\nsystems from the ground up.\\nNext cohort:\\xa0August5 - 22, 2024\\nCheck the schedulefor more details about upcoming cohorts.\\nI want to join!Sign in\\nLearn how to design, build, deploy, and scale machine learning\\nsystems to solve real-world problems.\\nI\\'ll lose my mind if I see another book or course teaching people the same basic ideas\\nfor the hundredth time. Most people are stuck in beginner mode, and finding help to\\nsolve real-world problems is hard.\\nI want to change that.\\nI started writing software 30 years ago. I\\'ve written pipelines and trained models for\\nsome of the largest companies in the world. I want to show you how to do the same.\"This is the best machine learning course I\\'ve done.\\nWorth every cent.\"\\n— Jose Reyes, AI/ML at Cevo Australia7/19/24, 2:32 PM Building Machine Learning Systems That Don\\'t Suck\\nhttps://www.ml.school 1/10'),\n",
       " Document(metadata={'source': 'mlschool.pdf', 'page': 3}, page_content=\"Here is a summary of what makes this program unique:\\nYou'll design and write the code to build an end-to-end machine learning\\nsystem starting from scratch.\\nYou'll learn best practices to tackle the most significant challenges machine\\nlearning engineers face to build, evaluate, run, monitor, and maintain machine\\nlearning systems in real-world scenarios.\\nYou'll learn how to use techniques like active learning, distributed training,\\nadversarial validation, human-in-the-loop deployments, model compression,\\ntest-time augmentation, testing in production, among many others.\\nYou'll learn how to create training, deploying, monitoring, and inference\\npipelines using Amazon SageMaker and open-source tools.\\nForget about theoretical concepts. This program will show you some of the things I've\\nlearned from real-life examples I've built during more than 30 years in the industry.\\nCheck the program syllabus\\xa0→\\nReal-life examples and case studies\\nLearn from practical experience building machine\\nlearning systems that work in the real world.\\nLive, interactive sessions\\n7/19/24, 2:32 PM Building Machine Learning Systems That Don't Suck\\nhttps://www.ml.school 4/10\"),\n",
       " Document(metadata={'source': 'mlschool.pdf', 'page': 6}, page_content=\"Program Syllabus\\nThis program will teach you the practical skills and insights that will\\nhelp you build machine learning systems.\\nHere are the contents of the six live sessions of the program:\\nSession 1 - How To Start (Almost) Any Project\\nWhat makes production machine learning different from what you've learned.\\nThe strategy to solve the right problem using the right solution.\\nCritical questions to ask before starting any project.\\nProblem framing, inversion, and the haystack principle for building successful\\napplications.\\nThe first rule of machine learning engineering and how to start building.\\nData collection strategies. A technique to determine how much data you need.\\nThe problem of selection bias and how to deal with it.\\nLabeling data. Human annotations, natural labels and weak supervision.Join now\\nEnjoy 18 hours of live, interactive sessions\\nWatch 10 hours of step-by-step coding instructions\\nPractice with 100 coding assignments\\nAccess the complete source code of a production system\\nLearn how to start freelancing on Upwork\\nGet feedback and support from the community\\nGet direct feedback from your instructor7/19/24, 2:32 PM Building Machine Learning Systems That Don't Suck\\nhttps://www.ml.school 7/10\"),\n",
       " Document(metadata={'source': 'mlschool.pdf', 'page': 9}, page_content=\"Hey! I'm Santiago.\\nI'm the instructor of the program.\\nI'm a machine learning engineer with over two decades of experience\\nbuilding and scaling enterprise software and machine learning systems.\\nI love neural networks. I love to make them work at scale.\\nFrom 2009 to 2023, I built products for Disney, Boston Dynamics, IBM, Dell,\\nG4S, Anheuser-Busch, and NextEra Energy, among other clients. I learned\\nabout trade-offs and how to create products that work.\\nI started this program in March 2023. Since then, thousands of students\\nhave graduated, and I can't wait to meet you in class.\\nCopyright © 2024 Tideily LLC\\nAll rights reserved.7/19/24, 2:32 PM Building Machine Learning Systems That Don't Suck\\nhttps://www.ml.school 10/10\")]"
      ]
     },
     "execution_count": 14,
     "metadata": {},
     "output_type": "execute_result"
    }
   ],
   "source": [
    "retriever = vectorstore.as_retriever()\n",
    "retriever.invoke(\"Machine Learning\")"
   ]
  },
  {
   "cell_type": "code",
   "execution_count": 15,
   "metadata": {},
   "outputs": [],
   "source": [
    "chain = prompt | model | parser"
   ]
  },
  {
   "cell_type": "code",
   "execution_count": 23,
   "metadata": {},
   "outputs": [
    {
     "data": {
      "text/plain": [
       "'Machine learning is a field of study that involves training computers to learn from data and make decisions without being explicitly programmed.'"
      ]
     },
     "execution_count": 23,
     "metadata": {},
     "output_type": "execute_result"
    }
   ],
   "source": [
    "from operator import itemgetter\n",
    "\n",
    "chain = (\n",
    "        {\n",
    "            \"context\": itemgetter(\"question\") | retriever, \n",
    "            \"question\": itemgetter(\"question\")\n",
    "        }\n",
    "        | prompt \n",
    "        | model \n",
    "        | parser\n",
    ")\n",
    "\n",
    "chain.invoke({\"question\": \"what is machine learning?\"})"
   ]
  },
  {
   "cell_type": "code",
   "execution_count": 20,
   "metadata": {},
   "outputs": [
    {
     "data": {
      "text/plain": [
       "'What is machine learning?'"
      ]
     },
     "execution_count": 20,
     "metadata": {},
     "output_type": "execute_result"
    }
   ],
   "source": [
    "itemgetter(\"abc\")({\"abc\": 123})\n",
    "itemgetter(\"question\")({\"question\": \"What is machine learning?\"})"
   ]
  },
  {
   "cell_type": "code",
   "execution_count": 24,
   "metadata": {},
   "outputs": [],
   "source": [
    "questions = [\n",
    "    \"What is the purpose of the course?\",\n",
    "    \"How many hours of live sessions ?\",\n",
    "    \"How many coding assignments are there in the program?\",\n",
    "    \"Is there a program certificate upon completion?\",\n",
    "    \"What programming language will be used in the program?\",\n",
    "    \"How much does the program cost?\"\n",
    "]"
   ]
  },
  {
   "cell_type": "code",
   "execution_count": 28,
   "metadata": {},
   "outputs": [
    {
     "name": "stdout",
     "output_type": "stream",
     "text": [
      "Question: What is the purpose of the course?\n",
      "Answer: The purpose of the course is to teach practical skills and insights that will help individuals build machine learning systems that work in the real world.\n",
      "Question: How many hours of live sessions ?\n",
      "Answer: The program gives you 18 hours of hands-on, live training spread over 3 weeks.\n",
      "Question: How many coding assignments are there in the program?\n",
      "Answer: There are 100 coding assignments in the program.\n",
      "Question: Is there a program certificate upon completion?\n",
      "Answer: Yes, there is a program certificate upon completion.\n",
      "Question: What programming language will be used in the program?\n",
      "Answer: Python\n",
      "Question: How much does the program cost?\n",
      "Answer: The program costs $200.\n"
     ]
    }
   ],
   "source": [
    "for question in questions:\n",
    "    print(f\"Question: {question}\")\n",
    "    print(f\"Answer: {chain.invoke({'question': question})}\")"
   ]
  },
  {
   "cell_type": "code",
   "execution_count": 29,
   "metadata": {},
   "outputs": [
    {
     "name": "stdout",
     "output_type": "stream",
     "text": [
      "The purpose of the course is to teach practical skills and insights that will help individuals build machine learning systems that work in the real world."
     ]
    }
   ],
   "source": [
    "for s in chain.stream({\"question\": \"What is the purpose of the course?\"}):\n",
    "    print(s, end=\"\", flush=True)"
   ]
  },
  {
   "cell_type": "code",
   "execution_count": 30,
   "metadata": {},
   "outputs": [
    {
     "data": {
      "text/plain": [
       "['The purpose of the course is to teach practical skills and insights that will help individuals build machine learning systems that work in the real world.',\n",
       " 'The program offers 18 hours of live training spread over 3 weeks.',\n",
       " 'There are 100 coding assignments in the program.',\n",
       " 'Yes, there is a program certificate upon completion.',\n",
       " 'The programming language that will be used in the program is Python.',\n",
       " 'The program costs $200, with a discounted price from $450.']"
      ]
     },
     "execution_count": 30,
     "metadata": {},
     "output_type": "execute_result"
    }
   ],
   "source": [
    "chain.batch([{\"question\": q} for q in questions])"
   ]
  }
 ],
 "metadata": {
  "kernelspec": {
   "display_name": "env",
   "language": "python",
   "name": "python3"
  },
  "language_info": {
   "codemirror_mode": {
    "name": "ipython",
    "version": 3
   },
   "file_extension": ".py",
   "mimetype": "text/x-python",
   "name": "python",
   "nbconvert_exporter": "python",
   "pygments_lexer": "ipython3",
   "version": "3.10.11"
  }
 },
 "nbformat": 4,
 "nbformat_minor": 2
}
