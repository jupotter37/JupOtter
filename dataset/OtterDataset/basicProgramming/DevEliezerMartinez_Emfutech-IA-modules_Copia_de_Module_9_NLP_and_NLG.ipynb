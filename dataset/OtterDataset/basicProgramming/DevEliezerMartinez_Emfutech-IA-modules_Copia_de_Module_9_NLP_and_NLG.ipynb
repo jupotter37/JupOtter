{
  "nbformat": 4,
  "nbformat_minor": 0,
  "metadata": {
    "colab": {
      "provenance": []
    },
    "kernelspec": {
      "name": "python3",
      "display_name": "Python 3"
    },
    "language_info": {
      "name": "python"
    }
  },
  "cells": [
    {
      "cell_type": "markdown",
      "source": [
        "# NLG Applications\n",
        "\n",
        "We are going to create an account in [this link](https://docs.ai21.com/reference/j2-complete-ref) to generate a token: \n",
        "\n",
        "<br>Token: JgztMC4FgIEgovc88MGnkifMS3qTkwhk"
      ],
      "metadata": {
        "id": "LfAGvKaS6GCB"
      }
    },
    {
      "cell_type": "code",
      "execution_count": null,
      "metadata": {
        "colab": {
          "base_uri": "https://localhost:8080/"
        },
        "id": "m18W9eJe5yze",
        "outputId": "a6d7d912-a39c-4802-ff8f-f33beb607459"
      },
      "outputs": [
        {
          "name": "stdout",
          "output_type": "stream",
          "text": [
            "Hello, I would like to hear a joke.\n"
          ]
        }
      ],
      "source": [
        "prompt = input()"
      ]
    },
    {
      "cell_type": "code",
      "source": [
        "token = \"JgztMC4FgIEgovc88MGnkifMS3qTkwhk\""
      ],
      "metadata": {
        "id": "6GQ9lm3W7Rko"
      },
      "execution_count": null,
      "outputs": []
    },
    {
      "cell_type": "code",
      "source": [
        "import requests"
      ],
      "metadata": {
        "id": "espzI3jH6o9z"
      },
      "execution_count": null,
      "outputs": []
    },
    {
      "cell_type": "code",
      "source": [
        "response = requests.post('https://api.ai21.com/studio/v1/j2-grande/complete',json={\n",
        "  \"numResults\": 1,\n",
        "  \"maxTokens\": 16,\n",
        "  \"minTokens\": 0,\n",
        "  \"temperature\": 0.7,\n",
        "  \"topP\": 1,\n",
        "  \"topKReturn\": 0,\n",
        "  \"frequencyPenalty\": {\n",
        "    \"scale\": 1,\n",
        "    \"applyToWhitespaces\": True,\n",
        "    \"applyToPunctuations\": True,\n",
        "    \"applyToNumbers\": True,\n",
        "    \"applyToStopwords\": True,\n",
        "    \"applyToEmojis\": True\n",
        "  },\n",
        "  \"presencePenalty\": {\n",
        "    \"scale\": 0,\n",
        "    \"applyToWhitespaces\": True,\n",
        "    \"applyToPunctuations\": True,\n",
        "    \"applyToNumbers\": True,\n",
        "    \"applyToStopwords\": True,\n",
        "    \"applyToEmojis\": True\n",
        "  },\n",
        "  \"countPenalty\": {\n",
        "    \"scale\": 0,\n",
        "    \"applyToWhitespaces\": True,\n",
        "    \"applyToPunctuations\": True,\n",
        "    \"applyToNumbers\": True,\n",
        "    \"applyToStopwords\": True,\n",
        "    \"applyToEmojis\": True\n",
        "  },\n",
        "  \"prompt\": prompt\n",
        "},headers={\n",
        "    \"Authorization\": f\"Bearer {token}\"\n",
        "})"
      ],
      "metadata": {
        "id": "nQ-9OlnM6rJy"
      },
      "execution_count": null,
      "outputs": []
    },
    {
      "cell_type": "code",
      "source": [
        "import json\n",
        "\n",
        "response_dict = json.loads(response.text)\n",
        "text= response_dict['completions'][0]['data']['text']\n",
        "\n",
        "print(text)"
      ],
      "metadata": {
        "colab": {
          "base_uri": "https://localhost:8080/"
        },
        "id": "lg8_mQKy7VRw",
        "outputId": "9485a359-8910-4586-807e-0f87eff93f31"
      },
      "execution_count": null,
      "outputs": [
        {
          "output_type": "stream",
          "name": "stdout",
          "text": [
            "\n",
            "\n",
            "I want to know how you will laugh.\n",
            "\n",
            "Let us hear your laughter.\n",
            "\n",
            "\n"
          ]
        }
      ]
    },
    {
      "cell_type": "code",
      "source": [
        "def getJoke():\n",
        "  response = requests.post('https://api.ai21.com/studio/v1/j2-grande/complete',json={\n",
        "    \"numResults\": 1,\n",
        "    \"maxTokens\": 100,\n",
        "    \"minTokens\": 20,\n",
        "    \"temperature\": 0.7,\n",
        "    \"topP\": 1,\n",
        "    \"topKReturn\": 0,\n",
        "    \"frequencyPenalty\": {\n",
        "      \"scale\": 1,\n",
        "      \"applyToWhitespaces\": True,\n",
        "      \"applyToPunctuations\": True,\n",
        "      \"applyToNumbers\": True,\n",
        "      \"applyToStopwords\": True,\n",
        "      \"applyToEmojis\": True\n",
        "    },\n",
        "    \"presencePenalty\": {\n",
        "      \"scale\": 0,\n",
        "      \"applyToWhitespaces\": True,\n",
        "      \"applyToPunctuations\": True,\n",
        "      \"applyToNumbers\": True,\n",
        "      \"applyToStopwords\": True,\n",
        "      \"applyToEmojis\": True\n",
        "    },\n",
        "    \"countPenalty\": {\n",
        "      \"scale\": 0,\n",
        "      \"applyToWhitespaces\": True,\n",
        "      \"applyToPunctuations\": True,\n",
        "      \"applyToNumbers\": True,\n",
        "      \"applyToStopwords\": True,\n",
        "      \"applyToEmojis\": True\n",
        "    },\n",
        "    \"prompt\": prompt\n",
        "  },headers={\n",
        "      \"Authorization\": f\"Bearer {token}\"\n",
        "  })\n",
        "    \n",
        "  response_dict = json.loads(response.text)\n",
        "  text= response_dict['completions'][0]['data']['text']\n",
        "\n",
        "  return text"
      ],
      "metadata": {
        "id": "8-oURMc67ihm"
      },
      "execution_count": null,
      "outputs": []
    },
    {
      "cell_type": "code",
      "source": [
        "print( getJoke() )"
      ],
      "metadata": {
        "colab": {
          "base_uri": "https://localhost:8080/"
        },
        "id": "vo99VMMs7_pA",
        "outputId": "87862e50-12a8-44f0-8d2d-dd442b33ac46"
      },
      "execution_count": null,
      "outputs": [
        {
          "output_type": "stream",
          "name": "stdout",
          "text": [
            "\n",
            "Hello, I would like to hear a joke.\n",
            "- Its a joke\n",
            "- Yes\n",
            "- Its a joke\n",
            "- Yes, it is a joke.\n",
            "- A joke?\n",
            "- Yes.\n",
            "- A joke?\n",
            "- Yes.\n",
            "- I don't understand.\n",
            "- Its a joke.\n",
            "- I don't understand.\n",
            "- Its a joke.\n",
            "- Yes, it is a joke.\n",
            "- A joke?\n",
            "- Yes, it is a joke.\n",
            "- A joke?\n",
            "- Yes, it is a joke.\n",
            "- I don't understand.\n",
            "- Its a joke\n"
          ]
        }
      ]
    },
    {
      "cell_type": "code",
      "source": [
        "joke = getJoke()\n",
        "print(joke)"
      ],
      "metadata": {
        "colab": {
          "base_uri": "https://localhost:8080/"
        },
        "id": "zRinqAUt8Qpt",
        "outputId": "c9b83aaf-2863-49a3-bed4-c4093ab70494"
      },
      "execution_count": null,
      "outputs": [
        {
          "output_type": "stream",
          "name": "stdout",
          "text": [
            "\n",
            "\n",
            "\n",
            "\n",
            "I smoke, therefore I drink. I drink, therefore I am. I am, therefore I drink.\n",
            "\n",
            "\n",
            "\n",
            "I have a dream, it's an Asian girl.\n",
            "\n",
            "\n",
            "\n",
            "I lub you.\n",
            "\n",
            "\n",
            "\n",
            "I lub you too.\n",
            "\n",
            "\n",
            "\n",
            "I'm bisexual, but lately I've been more into men.\n",
            "\n",
            "\n",
            "\n",
            "I have a great sense of humor, down for all and up for anything.\n",
            "\n",
            "\n",
            "\n",
            "My anus is clogged.\n",
            "\n",
            "\n",
            "\n",
            "I'm 100% ready for a committed relationship\n"
          ]
        }
      ]
    },
    {
      "cell_type": "markdown",
      "source": [
        "## Langchain\n",
        "\n",
        "Langchain allows you to work with LLM in different ways: here is the [doc.](https://python.langchain.com/en/latest/index.html)"
      ],
      "metadata": {
        "id": "Og9gV4e8ahtg"
      }
    },
    {
      "cell_type": "code",
      "source": [
        "!pip install langchain"
      ],
      "metadata": {
        "colab": {
          "base_uri": "https://localhost:8080/"
        },
        "id": "ept9l0MNbLDh",
        "outputId": "8b20b63d-a56b-4654-b0f9-368638972fca"
      },
      "execution_count": null,
      "outputs": [
        {
          "output_type": "stream",
          "name": "stdout",
          "text": [
            "Collecting mypy-extensions>=0.3.0\n",
            "  Downloading mypy_extensions-1.0.0-py3-none-any.whl (4.7 kB)\n",
            "Installing collected packages: mypy-extensions, multidict, marshmallow, frozenlist, async-timeout, yarl, typing-inspect, openapi-schema-pydantic, marshmallow-enum, aiosignal, dataclasses-json, aiohttp, langchain\n",
            "Successfully installed aiohttp-3.8.4 aiosignal-1.3.1 async-timeout-4.0.2 dataclasses-json-0.5.7 frozenlist-1.3.3 langchain-0.0.162 marshmallow-3.19.0 marshmallow-enum-1.5.1 multidict-6.0.4 mypy-extensions-1.0.0 openapi-schema-pydantic-1.2.4 typing-inspect-0.8.0 yarl-1.9.2\n"
          ]
        }
      ]
    },
    {
      "cell_type": "code",
      "source": [
        "import os\n",
        "os.environ['AI21_API_KEY']  = \"JgztMC4FgIEgovc88MGnkifMS3qTkwhk\""
      ],
      "metadata": {
        "id": "TAFyRqtLbSNY"
      },
      "execution_count": null,
      "outputs": []
    },
    {
      "cell_type": "code",
      "source": [
        "from langchain.llms import AI21\n",
        "\n",
        "llm = AI21()"
      ],
      "metadata": {
        "id": "GbcZ-yQzahfs"
      },
      "execution_count": null,
      "outputs": []
    },
    {
      "cell_type": "code",
      "source": [
        "from langchain import PromptTemplate, LLMChain\n",
        "\n",
        "template = \"\"\"Question: {question}\n",
        "\n",
        "Answer: Let's think step by step.\"\"\"\n",
        "\n",
        "prompt = PromptTemplate(template=template, input_variables=[\"question\"])"
      ],
      "metadata": {
        "id": "PVBo-mGfbKVK"
      },
      "execution_count": null,
      "outputs": []
    },
    {
      "cell_type": "code",
      "source": [
        "llm_chain = LLMChain(prompt=prompt, llm=llm)"
      ],
      "metadata": {
        "id": "Ag3pdj0mbi6z"
      },
      "execution_count": null,
      "outputs": []
    },
    {
      "cell_type": "code",
      "source": [
        "question = \"What is the relationshio between a banana and a papaya?\"\n",
        "\n",
        "llm_chain.run(question)"
      ],
      "metadata": {
        "colab": {
          "base_uri": "https://localhost:8080/",
          "height": 53
        },
        "id": "S76oBf4Ibkjy",
        "outputId": "d7b42aca-ea9a-4303-c59e-1632051c5630"
      },
      "execution_count": null,
      "outputs": [
        {
          "output_type": "execute_result",
          "data": {
            "text/plain": [
              "'\\n1. Banana is a fruit.\\n2. Fruit grows on trees.\\n3. Papaya grows on trees.\\nSo, the relationship between banana and papaya is \"both are fruits which grow on trees\".'"
            ],
            "application/vnd.google.colaboratory.intrinsic+json": {
              "type": "string"
            }
          },
          "metadata": {},
          "execution_count": 11
        }
      ]
    },
    {
      "cell_type": "markdown",
      "source": [
        "## Vectorstores\n",
        "\n",
        "This are databases with your own data. This can answer questions from a specific semantic space"
      ],
      "metadata": {
        "id": "xFzVQ8T_bwEb"
      }
    },
    {
      "cell_type": "code",
      "source": [
        "!pip install chromadb\n",
        "!pip install tensorflow_text\n",
        "!pip install feedparser\n",
        "!pip install pypdf"
      ],
      "metadata": {
        "id": "9cGoznIocewq"
      },
      "execution_count": null,
      "outputs": []
    },
    {
      "cell_type": "code",
      "source": [
        "from langchain.document_loaders.csv_loader import CSVLoader # cargas el texto que tu quieras\n",
        "from langchain.document_loaders import PyPDFLoader\n",
        "from langchain.embeddings import HuggingFaceEmbeddings, TensorflowHubEmbeddings #huggingFace parece no ser tan bueno con español\n",
        "from langchain.vectorstores import Chroma\n",
        "from langchain.indexes import VectorstoreIndexCreator\n",
        "from langchain.text_splitter import CharacterTextSplitter"
      ],
      "metadata": {
        "id": "jZp84ksrbl1M"
      },
      "execution_count": null,
      "outputs": []
    },
    {
      "cell_type": "code",
      "source": [
        "loader = CSVLoader(file_path='./data.csv', csv_args={\n",
        "    'delimiter': ','\n",
        "}, encoding='utf-8')"
      ],
      "metadata": {
        "id": "gx9A1pDib_CP"
      },
      "execution_count": null,
      "outputs": []
    },
    {
      "cell_type": "code",
      "source": [
        "loader = PyPDFLoader(\"./python-basic.pdf\")"
      ],
      "metadata": {
        "id": "YzkvFiiydOug"
      },
      "execution_count": null,
      "outputs": []
    },
    {
      "cell_type": "code",
      "source": [
        "embeddings = TensorflowHubEmbeddings()"
      ],
      "metadata": {
        "id": "Ps0fFvuzcBWr"
      },
      "execution_count": null,
      "outputs": []
    },
    {
      "cell_type": "code",
      "source": [
        "index = VectorstoreIndexCreator(\n",
        "    vectorstore_cls=Chroma, \n",
        "    embedding=embeddings,\n",
        "    text_splitter=CharacterTextSplitter(separator=',') #works with CSV\n",
        ").from_loaders([loader])"
      ],
      "metadata": {
        "colab": {
          "base_uri": "https://localhost:8080/"
        },
        "id": "veDsi-X_b4KZ",
        "outputId": "badc2d3e-72ec-475f-f32d-9e2ae57b19fd"
      },
      "execution_count": null,
      "outputs": [
        {
          "output_type": "stream",
          "name": "stderr",
          "text": [
            "WARNING:chromadb:Using embedded DuckDB without persistence: data will be transient\n"
          ]
        }
      ]
    },
    {
      "cell_type": "code",
      "source": [
        "def query_searcher(query):\n",
        "  retriever = index.vectorstore.as_retriever(search_type=\"mmr\", search_kwargs={\"k\":10})\n",
        "  return retriever.get_relevant_documents( query )"
      ],
      "metadata": {
        "id": "hSHNafyOcQ9v"
      },
      "execution_count": null,
      "outputs": []
    },
    {
      "cell_type": "code",
      "source": [
        "query_searcher('What is python?')"
      ],
      "metadata": {
        "colab": {
          "base_uri": "https://localhost:8080/"
        },
        "id": "sEtIPk-dd1pu",
        "outputId": "78629b22-d0d5-40ac-8498-b98f63c9628b"
      },
      "execution_count": null,
      "outputs": [
        {
          "output_type": "execute_result",
          "data": {
            "text/plain": [
              "[Document(page_content='Python Basics: A Practical Introduction\\nto Python 3\\nReal Python', metadata={'source': './python-basic.pdf', 'page': 1}),\n",
              " Document(page_content='1.1. Why This Book?\\nPython was built to be easier to use than other programming lan-\\nguages. It’susuallymucheasiertoreadPythoncodeandmuchf aster\\nto write code in Python than in other languages.\\nFor instance, here’s some basic code written in C, another comm only\\nused programming language:\\n#include <stdio.h>\\nint main(void)\\n{\\nprintf(\"Hello, World\\\\n\");\\n}\\nAlltheprogramdoesisshowthetext Hello, World onthescreen. That\\nwasalotofworktooutputonephrase! Here’sthesameprogramwr it-\\nten in Python:\\nprint( \"Hello, World\" )\\nThat’s pretty simple, right? The Python code is faster to write an d\\neasiertoread. Weﬁndthatitlooksfriendlierandmoreapproa chable,\\ntoo!\\nAt the same time, Python has all the functionality of other languag es\\nandmore. Youmightbesurprisedbyhowmanyprofessionalprodu cts\\nare built on Python code: Instagram, YouTube, Reddit, Spotify , to\\nname just a few.\\nPythonisnotonlyafriendlyandfunlanguagetolearn,butita lsopow-\\ners the technology behind multiple world-class companies and oﬀ ers\\nfantastic career opportunities for any programmer who maste rs it.\\n1.1 WhyThisBook?\\nLet’s face it: there’s an overwhelming amount of information a bout\\nPython on the Internet. But many beginners studying on their own\\nhave trouble ﬁguring out whatto learn and in what order to learn it.\\n21', metadata={'source': './python-basic.pdf', 'page': 21}),\n",
              " Document(page_content='Contents\\nSothereyouhaveasimpleyetpowerfulstarterexample. Ontherea l-\\nworld side of things, many incredible applications have been w ritten\\nin Python as well.\\nYouTube,theworld’smostpopularvideostreamingsite,iswr ittenin\\nPythonandprocessesmorethanamillionrequestspersecond. I nsta-\\ngramisanotherexampleofaPythonapplication. Closertohome, we\\neven have realpython.com and my sites, such as talkpython.fm.\\nThis full-spectrum aspect of Python means that you can start with\\nthe basics and adopt more advanced features as your applicati on de-\\nmands grow.\\nPythonIsPopular\\nYou might have heard that Python is popular. It may seem that it\\ndoesn’t really matter how popular a language is so long as you c an\\nbuild the app you want to build with it.\\nBut, for better or worse, the popularity of a programming lang uage\\nis a strong indicator of the quality of libraries you’ll have av ailable as\\nwellthenumberofjobopeningsyou’llﬁnd. Inshort,youshouldte nd\\nto gravitate toward more popular technologies as there will be more\\nchoices and integrations available.\\nSo, is Python actually that popular? Yes it is. You’ll ﬁnd a lot of\\nhype and hyperbole, but there are plenty of stats backing this cla im.\\nLet’s look at some analytics presented by stackoverflow.co m, a popu-\\nlar question-and-answer site for programmers.\\nStackOverflowrunsasitecalledStackOverflowTrendswhereyo ucan\\nlookatthetrendsforvarioustechnologiesbytag. Whenyoucomp are\\n16', metadata={'source': './python-basic.pdf', 'page': 16}),\n",
              " Document(page_content='1.2. About Real Python\\nOnce you’ve mastered the material in this book, you will have gai ned\\nastrongenoughfoundationthatventuringoutonyourowninto more\\nadvanced territory will be a breeze.\\nWhat you’ll learn here is based on the ﬁrst part of the original Real\\nPython Course initially released in 2012. Over the years, this Python\\ncurriculum has been battle-tested by thousands of Pythonistas, data\\nscientists, and developers working for companies big and sm all, in-\\ncluding Amazon, Red Hat, and Microsoft.\\nFor Python Basics , we’ve thoroughly expanded, reﬁned, and updated\\nthematerialsoyoucanbuildyourPythonskillsquicklyandeﬃc iently.\\n1.2 AboutRealPython\\nAt Real Python , you’ll learn real-world programming skills from a\\ncommunity of professional Pythonistas from all around the wor ld.\\nTherealpython.com website launched in 2012 and currently helps\\nmore than three million Python developers each month with books ,\\nprogramming tutorials, and other in-depth learning resource s.\\nEveryonewhoworkedonthisbookisa Python practitioner recruited\\nfrom the Real Python team with several years of professional ex peri-\\nence in the software industry.\\nHere’s where you can ﬁnd Real Python on the Web:\\n•realpython.com\\n•@realpython on Twitter\\n•The Real Python Newsletter\\n•The Real Python Podcast\\n23', metadata={'source': './python-basic.pdf', 'page': 23}),\n",
              " Document(page_content='Contents\\nAgain,inthegraphbelow,you’llseethatPythonistoppingthecha rts\\nand is well above even second place:\\nIf you agree with me that the relative popularity of a programmi ng\\nlanguage matters, then Python is clearly a good choice.\\nWeDon’tNeedYoutoBeaComputerScientist\\nOne other point that I want to emphasize as you start your Python\\nlearning journey is that we don’t need you to be a computer scien tist.\\nIf that’s your goal, then great. Learning Python is a powerful st ep\\nin that direction. But the invitation to learn programming is o ften\\nframed as “We have all these developer jobs going unﬁlled! We nee d\\nsoftware developers!”\\nThat may or may not be true. But, more importantly, programmin g\\n(even a little programming) can be a personal superpower for you.\\nTo illustrate this idea, suppose you are a biologist. Should you drop\\nout of biology and get a job as a front-end web developer? Probab ly\\nnot. But skills such as the one I opened this foreword with, using re-\\nqueststogetdatafromtheWeb,canbeincrediblypowerfulfor youas\\na biologist.\\nRather than manually exporting and scraping data from the Web or\\nfrom spreadsheets, you can use Python to scrape thousands of dat a\\nsources or spreadsheets in the time it takes you to do just one man -\\n18', metadata={'source': './python-basic.pdf', 'page': 18}),\n",
              " Document(page_content='1.1. Why This Book?\\nYou may be asking yourself, What should I learn about Python in the\\nbeginning to get a strong foundation? If so, then this book is fo r you,\\nno matter if you’re a complete beginner or if you’ve already d abbled\\nin Python or other languages.\\nPython Basics is written in plain English and breaks down the core\\nconcepts that you really need to know into bite-sized chunks. Thi s\\nmeans you’ll learn enough to be dangerous with Python, fast.\\nInsteadofjustgoingthroughaboringlistoflanguagefeature s,you’ll\\nsee exactly how the diﬀerent building blocks ﬁt together and what ’s\\ninvolved in building real applications and scripts with Pyt hon.\\nStepbystep,you’llmasterfundamentalPythonconceptsthatwi llhelp\\nyou get started on your journey toward learning Python.\\nMany programming books try to cover every last possible vari ation\\nof every command, which makes it easy for readers to get lost in the\\ndetails. Thisapproachisgreatifyou’relookingforarefere ncemanual,\\nbut it’s a horrible way to learn a programming language. Not on ly do\\nyou spend most of your time cramming things into your head that\\nyou’ll never use, but you also don’t have any fun!\\nThisbookisbuiltonthe80/20principle,whichsuggeststhatyou can\\nlearnmostofwhatyouneedtoknowbyfocusingonafewcrucialc on-\\ncepts. We’llcoverthecommandsandtechniquesusedinthevastm a-\\njority of cases and focus on how to program real-world solutions to\\neveryday problems.\\nThis way, we guarantee that you will:\\n• Learn useful programming techniques quickly\\n• Spend less time struggling with unimportant complications\\n• Find more practical uses for Python in your own life\\n• Have more fun in the process\\n22', metadata={'source': './python-basic.pdf', 'page': 22}),\n",
              " Document(page_content='2.1. A Note on Python Versions\\n2.1 ANoteonPythonVersions\\nMany operating systems, including macOS and Linux, come wit h\\nPython preinstalled. The version of Python that comes with your\\noperating system is called the systemPython .\\nThesystemPythonisusedbyyouroperatingsystemandisusuall yout\\nofdate. It’sessentialthatyouhavethemostrecentversionofP ython\\nso that you can successfully follow along with the examples in t his\\nbook.\\nImportant\\nDo not attempt to uninstall the system Python!\\nYoucanhavemultipleversionsofPythoninstalledonyourcomp uter.\\nIn this chapter, you’ll install the latest version of Python 3 alo ngside\\nany system Python that may already exist on your machine.\\nNote\\nEven if you already have Python 3.9 installed, it’s still a good\\nidea to skim this chapter to double-check that your environ-\\nment is set up for following along with this book.\\nThis chapter is split into three sections: Windows, macOS, and\\nUbuntuLinux. Findthesectionforyouroperatingsystemandf ollow\\nthe steps to get set up, then skip ahead to the next chapter.\\nIfyouhaveadiﬀerentoperatingsystem,thencheckout Real Python ’s\\n“Python 3 Installation & Setup Guide” to see if your OS is covered.\\nReadersontabletsandmobiledevicescanrefertothe “OnlinePython\\nInterpreters” section for some browser-based options.\\n30', metadata={'source': './python-basic.pdf', 'page': 30}),\n",
              " Document(page_content='3.1. Write a Python Program\\nGo ahead and type 1 + 1at the prompt and press Enter:\\n>>> 1+1\\n2\\n>>>\\nPythonevaluatestheexpression,displaystheresult( 2),thendisplays\\nanotherprompt. Everytimeyourunsomecodeintheinteractive win-\\ndow, a new prompt appears directly below the result.\\nExecutingPythonintheinteractivewindowcanbedescribedas aloop\\nwith three steps:\\n1. Python readsthe code entered at the prompt.\\n2. Python evaluates the code.\\n3. Python printsthe result and waits for more input.\\nThis loop is commonly referred to as a read-evaluate-printloop and\\nisabbreviatedas REPL.Pythonprogrammerssometimesrefertothe\\nPython shell as the Python REPL, or just “the REPL” for short.\\nLet’s try something a little more interesting than adding numb ers. A\\nriteofpassageforeveryprogrammeriswritingaprogramthat prints\\nthe phrase “Hello, World” on the screen.\\nAtthepromptintheinteractivewindow,typetheword printfollowed\\nby a set of parentheses with the text \"Hello, World\" inside:\\n>>> print( \"Hello, World\" )\\nHello, World\\n44', metadata={'source': './python-basic.pdf', 'page': 44}),\n",
              " Document(page_content='Python Basics: A Practical Introduction to Python 3\\nRevised and Updated 4th Edition\\nDavid Amos, Dan Bader, Joanna Jablonski, Fletcher Heisler\\nCopyright © Real Python (realpython.com ), 2012–2020\\nFor online information and ordering of this and other books by Real\\nPython, please visit realpython.com . For more information, please\\ncontact us at info@realpython.com.\\nISBN: 9781775093329 (paperback)\\nISBN: 9781775093336 (electronic)\\nCover design by Aldren Santos\\nAdditional editing and proofreading by Jacob Schmitt\\n“Python” and the Python logos are trademarks or registered trad e-\\nmarks of the Python Software Foundation, used by Real Python with\\npermission from the Foundation.\\nThankyoufordownloadingthisebook. Thisebookislicensedfor your\\npersonalenjoymentonly. Thisebookmaynotberesoldorgivena way\\ntootherpeople. Ifyouwouldliketosharethisbookwithanotherp er-\\nson, please purchase an additional copy for each recipient. I f you’re\\nreadingthisbookanddidnotpurchaseit,orifitwasnotpurchas edfor\\nyour use only, then please return to realpython.com/pybasics-book\\nandpurchaseyourowncopy. Thankyouforrespectingthehardwork\\nbehind this book.', metadata={'source': './python-basic.pdf', 'page': 2}),\n",
              " Document(page_content='Contents\\nPython, on the other hand, is special. It isa full-spectrum language.\\nWe often judge the simplicity of a language based on the Hello, World\\ntest. Thatis,whatsyntaxandactionsarenecessarytogetthela nguage\\nto output Hello, World to the user? In Python, it couldn’t be simpler:\\nprint( \"Hello, World\" )\\nThat’s it! However, I ﬁnd this an unsatisfying test.\\nThe Hello, World testisusefulbutreallynotenoughtoshowthepower\\nor complexity of a language. Let’s try another example. Not ev ery-\\nthinghereneedstomaketotalsense—justfollowalongtogettheZ en\\nofit. Thebookcoverstheseconceptsandmoreasyougothrough. The\\nnext example is certainly something you could write as you get near\\nthe end of the book.\\nHere’s the new test: What would it take to write a program that ac-\\ncessesanexternalwebsite,downloadsthecontenttoyourapp inmem-\\nory, then displays a subsection of that content to the user? Let’ s try\\nthat experiment using Python 3 with the help of the requests package\\n(which needs to be installed—more on that in chapter 12):\\nimport requests\\nresp =requests.get( \"http://olympus.realpython.org\" )\\nhtml =resp.text\\nprint(html[ 86:132])\\nIncredibly, that’s it! When run, the program outputs something l ike\\nthis:\\n<h2> Please log in to access Mount Olympus: </h2>\\nThis is the easy, getting-started side of the Python spectrum. A fe w\\ntriviallinescanunleashincrediblepower. BecausePythonha saccess\\ntosomanypowerfulbutwell-packagedlibraries,suchas requests,it’s\\noften described as having batteries included .\\n15', metadata={'source': './python-basic.pdf', 'page': 15})]"
            ]
          },
          "metadata": {},
          "execution_count": 29
        }
      ]
    },
    {
      "cell_type": "code",
      "source": [
        "query = \"What is a dictionary in python?\"\n",
        "index.query_with_sources(llm=llm, question=query)"
      ],
      "metadata": {
        "colab": {
          "base_uri": "https://localhost:8080/"
        },
        "id": "loDOCJBWd5lJ",
        "outputId": "e3960a57-ea7b-43ff-bcb6-0483a95e11ed"
      },
      "execution_count": null,
      "outputs": [
        {
          "output_type": "execute_result",
          "data": {
            "text/plain": [
              "{'question': 'What is a dictionary in python?',\n",
              " 'answer': ' Python Basics: A Practical Introduction to Python 3 is a book written in Python.',\n",
              " 'sources': ''}"
            ]
          },
          "metadata": {},
          "execution_count": 35
        }
      ]
    },
    {
      "cell_type": "code",
      "source": [],
      "metadata": {
        "id": "WPNLENtfeFTf"
      },
      "execution_count": null,
      "outputs": []
    }
  ]
}