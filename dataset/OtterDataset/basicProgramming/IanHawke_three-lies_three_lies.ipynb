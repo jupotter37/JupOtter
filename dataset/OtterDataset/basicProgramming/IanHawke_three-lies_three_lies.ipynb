{
 "cells": [
  {
   "cell_type": "markdown",
   "metadata": {
    "slideshow": {
     "slide_type": "slide"
    }
   },
   "source": [
    "# Three lies I tell when teaching Python"
   ]
  },
  {
   "cell_type": "markdown",
   "metadata": {
    "slideshow": {
     "slide_type": "notes"
    }
   },
   "source": [
    "This is a talk about teaching Python. I've taught Python and other languages to a range of university students, usually in STEM subjects, usually touching on Mathematics or numerics. This is about the choices that I've made, and the lies that come with them: those sins of omission and comission that arise when teaching anything. Some are annoying technical features; some can highlight deep issues with Python as a teaching language, or with how mathematical or scientific notation is used.\n",
    "\n",
    "Finally, I'll note the lie on this slide: if we've time, I've got four issues to talk about..."
   ]
  },
  {
   "cell_type": "markdown",
   "metadata": {
    "slideshow": {
     "slide_type": "subslide"
    }
   },
   "source": [
    "<div style=\"float: left; width: 70%\">\n",
    "    <h2>Principles</h2>\n",
    "\n",
    "    <p>\n",
    "        Guzdial's <a href=\"http://cacm.acm.org/blogs/blog-cacm/203554-five-principles-for-programming-languages-for-learners/fulltext\">principles for Programming Languages for Learners</a>:\n",
    "        <ol>\n",
    "            <li> Connect to what learners know (identity).\n",
    "            <li> Keep cognitive load low.\n",
    "            <li> Be honest (real, authentic).\n",
    "            <li> Be generative and productive.\n",
    "            <li> Test, don't trust.\n",
    "        </ol>\n",
    "    </p>\n",
    "</div>\n",
    "<div style=\"float: right; width: 30%\">\n",
    "    <img src=\"guzdial-lcd-cover.png\">\n",
    "</div>"
   ]
  },
  {
   "cell_type": "markdown",
   "metadata": {
    "slideshow": {
     "slide_type": "notes"
    }
   },
   "source": [
    "Guzdial's principles are aimed at languages and modules: they're big picture. No one feature that I'm going to talk about could achieve, or even significantly help implement, one of these principles. However, any lie that I tell could significantly hurt, so we can use these principles as a check on whether the lie we're telling is hurting more than it's helping."
   ]
  },
  {
   "cell_type": "markdown",
   "metadata": {
    "slideshow": {
     "slide_type": "slide"
    }
   },
   "source": [
    "## `import`"
   ]
  },
  {
   "cell_type": "markdown",
   "metadata": {
    "slideshow": {
     "slide_type": "notes"
    }
   },
   "source": [
    "Python is powerful because of its community, and the ease with which we can re-use code. To make the most of it we want to introduce the `import` statement early. However, we don't want to make it seem magical: we want the students to start building their mental model of how coding works. We don't want to overwhelm, so we can cut back on the various different `import` statements - no `from matplotlib import pyplot as plt` for now. Instead, we just want a handle on what `import` is actually doing.\n",
    "\n",
    "For this purpose we get the students to write a really short file that defines a variables and prints to the screen, and then `import` it. They see the statement printed to the screen; they examine the value of the variable in the console; and we can point to this as evidence that\n",
    "\n",
    "> `import` just runs the code in the file\n",
    "\n",
    "Ok, so it gives it a special name. But it's just running Python code. The students have already done this in the console. They've saved scripts for later re-use. And now they're re-using scripts! They're doing what all other Python programmers do! They're *real* programmers, right now.\n",
    "\n",
    "It's a shame that this is a lie. The Python `import` method is subtle and complex, and this short-hand is not true. It's even more of a shame that this approach typically leads to the students tripping over the lie *almost immediately*."
   ]
  },
  {
   "cell_type": "markdown",
   "metadata": {
    "slideshow": {
     "slide_type": "fragment"
    }
   },
   "source": [
    "<p style = \"font-size:90%\">\n",
    "    `import` just runs the code in the file...\n",
    "</p>\n",
    "<blockquote style = \"font-size:90%\">\n",
    "    All the ... operations in the imported program are performed\n",
    "</blockquote>\n",
    "<p style = \"font-size:90%\">\n",
    "    <ul>\n",
    "        <li> Pros:\n",
    "        <ul>\n",
    "            <li> Show that very complex programs built from the same, simple steps;\n",
    "            <li> Make students get that they're doing *real* programming, immediately;\n",
    "        </ul>\n",
    "        <li> Cons:\n",
    "        <ul>\n",
    "            <li> Not true;\n",
    "            <li> Can lead to early, nasty problems.\n",
    "        </ul>\n",
    "    </ul>\n",
    "</p>"
   ]
  },
  {
   "cell_type": "code",
   "execution_count": null,
   "metadata": {
    "slideshow": {
     "slide_type": "subslide"
    }
   },
   "outputs": [],
   "source": [
    "%%file truthiness.py\n",
    "\n",
    "ian_is = \"lying!\"\n",
    "print(f\"Ian is {ian_is}\")"
   ]
  },
  {
   "cell_type": "markdown",
   "metadata": {
    "slideshow": {
     "slide_type": "notes"
    }
   },
   "source": [
    "Let's illustrate how the lie trips us up. We write a file as described above: it defines a variable and prints it to the screen. We `import` this file and see the print in the output: we could examine the value of `truthiness.ian_is` to check that I am lying.\n",
    "\n",
    "The next step will happen almost every time: a student notices a typo, and edits their file. They save the file again, under the same name. *In the same console*, they type the `import` statement again, and *nothing happens*.\n",
    "\n",
    "This is Python being smart: it won't re-import something it's already imported. However, this stomps all over the simple mental model (or lie) that's outlined above. This isn't a good start to teaching a group."
   ]
  },
  {
   "cell_type": "code",
   "execution_count": null,
   "metadata": {
    "slideshow": {
     "slide_type": "fragment"
    }
   },
   "outputs": [],
   "source": [
    "import truthiness\n",
    "truthiness.ian_is"
   ]
  },
  {
   "cell_type": "code",
   "execution_count": null,
   "metadata": {
    "slideshow": {
     "slide_type": "fragment"
    }
   },
   "outputs": [],
   "source": [
    "%%file truthiness.py\n",
    "\n",
    "ian_is = \"truthing!\"\n",
    "print(f\"Ian is {ian_is}\")"
   ]
  },
  {
   "cell_type": "code",
   "execution_count": null,
   "metadata": {
    "slideshow": {
     "slide_type": "fragment"
    }
   },
   "outputs": [],
   "source": [
    "import truthiness\n",
    "truthiness.ian_is"
   ]
  },
  {
   "cell_type": "markdown",
   "metadata": {
    "slideshow": {
     "slide_type": "subslide"
    }
   },
   "source": [
    "<h2>Principles</h2>\n",
    "\n",
    "<div style=\"float: left; width: 55%\">\n",
    "    <p>\n",
    "        <ol>\n",
    "            <li style=\"color: rgba(0, 0, 0, 0.5)\"> Connect to what learners know (identity).\n",
    "            <li> <b> Keep cognitive load low. </b>\n",
    "            <li> <b> Be honest (real, authentic). </b>\n",
    "            <li style=\"color: rgba(0, 0, 0, 0.5)\"> Be generative and productive.\n",
    "            <li> Test, don't trust.\n",
    "        </ol>\n",
    "    </p>\n",
    "</div>\n",
    "<div style=\"float: right; width: 45%\">\n",
    "    <p>\n",
    "        <ul>\n",
    "            <li> Python's re-import too complex for beginners (<i>opinion!</i>).\n",
    "            <li> Using scripts only - don't use a console - can help (<i>experience!</i>).\n",
    "            <li> Using an IDE (like `spyder`) can help (<i>experience!</i>).\n",
    "        </ul>\n",
    "    </p>\n",
    "</div>"
   ]
  },
  {
   "cell_type": "markdown",
   "metadata": {
    "slideshow": {
     "slide_type": "notes"
    }
   },
   "source": [
    "We now need to check how this lie compares to the principles. For the typical groups I'm working with this is a technical detail in a non-primary field: a mathematician or physicist doesn't invest their identity in what Python does under the hood. So the first principle is unaffected.\n",
    "\n",
    "The second principle is directly in play: this lie is used *precisely* to keep cognitive load as low as possible. The only way of keeping it lower would be to introduce `import` as a magic statement, and I think that has bigger negative impacts on the later principles.\n",
    "\n",
    "The third principle is also directly touched on, but in conflicting ways. I'm using this lie to make code re-use and `import` feel both natural and \"what everybody does\": to make the learner feel that they're immediately learning and performing as an expert, as a \"real\" Python programmer. That should give a (minor, but real) feeling that this is an authentic programming task. However, I'm doing that using a carefully constructed lie, and one that could easily fall apart if the student tries something even slightly different. Balancing this is the quandary.\n",
    "\n",
    "The fourth principle isn't really touched on - the task is too small. The underlying point about code re-use is essential for being productive in a real environment, so I don't think we're hurting here.\n",
    "\n",
    "The final point is where I really fall down: I have no tests of how bad this lie may hurt other than opinions and experience from trying other things - Guzdial points out the evidence showing this sort of knowledge is often wildly wrong. However, for what it's worth, my experience says that there's few good ways of avoiding this issue.\n",
    "\n",
    "You can re-import modules within Python, but the steps are just magic incantations to a beginner, of exactly the sort we wanted to avoid. One approach that avoids this issue is to not mix-and-match scripts and the console. If you start by getting the students to use the console, then switch *entirely* to coding in scripts before introducing the `import` statement. Especially if combined with a good IDE (like `spyder`, which tries to automatically re-import modules where needed), this substantially reduces the issue. I can imagine people internally shouting \"Jupyter notebooks!\" as another solution: I don't think they work for getting beginners comfortable with scripts and `import` in the same way. In the discussion, I will ask for peoples' experience with this issue!"
   ]
  },
  {
   "cell_type": "markdown",
   "metadata": {
    "slideshow": {
     "slide_type": "slide"
    }
   },
   "source": [
    "## Chained comparisons"
   ]
  },
  {
   "cell_type": "markdown",
   "metadata": {
    "slideshow": {
     "slide_type": "notes"
    }
   },
   "source": [
    "The next issue is chained comparisons. This may sound much less standard than `import`s, but it's something that comes up over and over again. It's linked to mathematical notation, so can I ask for a show of hands: are we all happy with the inclusion notation $0 \\le x \\le 1$? This is a logical mathematical statement - a predicate, if you want to be technical - that is true or false depending on the value of $x$. This comes up so much in mathematics, numerics, and programming. For example, if you've got a plot, and you want to draw a subplot somewhere on it, but need to check if the range you're giving the subplot means it's within the axes of the original plot."
   ]
  },
  {
   "cell_type": "code",
   "execution_count": null,
   "metadata": {
    "slideshow": {
     "slide_type": "fragment"
    }
   },
   "outputs": [],
   "source": [
    "%matplotlib inline\n",
    "import plot_max as p\n",
    "p.plot_max(p.x, p.y1);"
   ]
  },
  {
   "cell_type": "markdown",
   "metadata": {
    "slideshow": {
     "slide_type": "fragment"
    }
   },
   "source": [
    "Are we all happy with $0 \\le x \\le 1$?"
   ]
  },
  {
   "cell_type": "markdown",
   "metadata": {
    "slideshow": {
     "slide_type": "subslide"
    }
   },
   "source": [
    "Range inclusion like this comes up a lot: domains of functions, root-finding, placing subplots, manipulating images, ..."
   ]
  },
  {
   "cell_type": "code",
   "execution_count": null,
   "metadata": {
    "slideshow": {
     "slide_type": "fragment"
    }
   },
   "outputs": [],
   "source": [
    "x = 0\n",
    "y = 100\n",
    "a = 2\n",
    "b = 52\n",
    "x < a and a < b and b < y"
   ]
  },
  {
   "cell_type": "markdown",
   "metadata": {
    "slideshow": {
     "slide_type": "notes"
    }
   },
   "source": [
    "Now, in old-school languages - I'm a Fortran fan myself - we couldn't easily check if the range defined by two numbers $(a, b)$ was properly contained within another range defined by $[x, y]$. We'd first have to check that $x$ is less than $a$; then, that $a$ is less than $b$; and finally if $b$ is less than $y$. Then we'd check that all conditions are true. Once you start doing that for each spatial dimension, your code starts looking pretty horrible.\n",
    "\n",
    "Python allows you to do this in one go. It directly allows for the range inclusion notation that mathematics uses. It does this by saying that if comparison operators are *chained* like this, then it should be interpreted as an `and` applied to each sequential pair.\n",
    "\n",
    "Great! This is shorter and, being more like the mathematics we write down, easier to read! More Pythonic in every way! A quick show of hands: how many of you would teach this trick if you had a case where it would be useful?"
   ]
  },
  {
   "cell_type": "code",
   "execution_count": null,
   "metadata": {
    "slideshow": {
     "slide_type": "fragment"
    }
   },
   "outputs": [],
   "source": [
    "x < a < b < y"
   ]
  },
  {
   "cell_type": "markdown",
   "metadata": {
    "slideshow": {
     "slide_type": "fragment"
    }
   },
   "source": [
    "Survey: how many of you would teach this?"
   ]
  },
  {
   "cell_type": "markdown",
   "metadata": {
    "slideshow": {
     "slide_type": "subslide"
    }
   },
   "source": [
    "Does teaching *computing*, or *programming* matter? Or just *Python*?\n",
    "\n",
    "> *However*, many programming languages would not interpret it this way, ... . Chaining operations in this way is useful in Python, but don’t expect it to always work in other languages."
   ]
  },
  {
   "cell_type": "markdown",
   "metadata": {
    "slideshow": {
     "slide_type": "notes"
    }
   },
   "source": [
    "This is a great feature of Python, but not [broadly supported in other languages](https://stackoverflow.com/questions/4090845/language-support-for-chained-comparison-operators-x-y-z), particularly popular ones. I discourage students from using this feature as noted here.\n",
    "\n",
    "But this is also a mild lie. There are other reasons why chained comparisons shouldn't be taught to beginners, even when it matches their mathematical expectations."
   ]
  },
  {
   "cell_type": "code",
   "execution_count": null,
   "metadata": {
    "slideshow": {
     "slide_type": "fragment"
    }
   },
   "outputs": [],
   "source": [
    "a = 2\n",
    "b = 52\n",
    "c = 1.23\n",
    "\n",
    "type(a) == type(b) == type(c) in (float, int)"
   ]
  },
  {
   "cell_type": "markdown",
   "metadata": {
    "slideshow": {
     "slide_type": "notes"
    }
   },
   "source": [
    "Take a look at the following line. Can you work out what it's doing?\n",
    "\n",
    "The point is that both `==` and `in` are comparators in Python. This statement is using chained comparison again. The first steps are checking that all the variables have the same type. The last statement checks that the type of `c` (and hence of all variables) is numeric, that is either an `int` or a `float`.\n",
    "\n",
    "If you had your hand up before, about teaching chained comparisons to students, have a quick think. Would you still do it now that you've seen this result? Is it a neat feature that students can easily master, or is it an abomination that would be so easy to misuse?"
   ]
  },
  {
   "cell_type": "markdown",
   "metadata": {
    "slideshow": {
     "slide_type": "fragment"
    }
   },
   "source": [
    "Is this a neat feature or an abomination unto Nuggan?"
   ]
  },
  {
   "cell_type": "markdown",
   "metadata": {
    "slideshow": {
     "slide_type": "subslide"
    }
   },
   "source": [
    "<h2>Principles</h2>\n",
    "\n",
    "<div style=\"float: left; width: 55%\">\n",
    "    <p>\n",
    "        <ol>\n",
    "            <li> <b> Connect to what learners know (identity). </b>\n",
    "            <li> <b> Keep cognitive load low. </b>\n",
    "            <li> <b> Be honest (real, authentic). </b>\n",
    "            <li> <b> Be generative and productive. </b>\n",
    "            <li> Test, don't trust.\n",
    "        </ol>\n",
    "    </p>\n",
    "</div>\n",
    "\n",
    "<div style=\"float: right; width: 45%\">\n",
    "    <p>\n",
    "        <ul>\n",
    "            <li> I think this violates the principle of least surprise. (<i>opinion!</i>).\n",
    "            <li> Should we explicitly avoid constructs that can lead to \"ugly\" results? (<i>experience?!</i>).\n",
    "        </ul>\n",
    "    </p>\n",
    "</div>"
   ]
  },
  {
   "cell_type": "markdown",
   "metadata": {
    "slideshow": {
     "slide_type": "notes"
    }
   },
   "source": [
    "Back to the principles to evaluate this question.\n",
    "\n",
    "Particularly for \"novices\", there is a tight connection between *notation* and *ease*, which means that calculations get done, which re-inforces identity. Thinking here about mathematicians, particularly early undergraduate students or those with less comfort in switching notation, the use of these chained comparisons makes it *much* faster and easier for students to do particular tasks, connects directly to the mathematical notation that they see, re-inforces their identity as mathematicians more, keeps cognitive load lower (as they can directly translate maths notation to code), allows them to tackle interesting problems faster, and so be more generative and productive.\n",
    "\n",
    "In other words, introducing chained comparisons for these problems is a net win on principles 1, 2 and 4.\n",
    "\n",
    "*However*, the big question is around principle 3. You could argue (as I did, when warning the students) that this feature isn't \"authentic\" (as it's not seen widely outside Python). You could also argue that, unless the full suite of comparison operators (like `in`) is covered, and the consequences shown, then we're not being honest - and I believe for most students working at an early *mathematical* level this would cause a massive hit on cognitive load.\n",
    "\n",
    "My opinion is that the latter example shows that chained comparisons can to easily violate the principle of least surprise. Particularly when teaching beginners, I think they are too likely to confuse. In terms of the principles, I think the hit on principle 3 out-weighs the benefits on principles 1, 2 and 4.\n",
    "\n",
    "However, this could easily be a product of my background. I have no tests here - once again I fall on principle 5! - but I'd note that the first time I saw Python's tuple unpacking used to swap two variables without using a temporary - `a, b = b, a` - I was also in two minds about it. Similar thoughts about how it wouldn't generalize to other languages, and it would be too easy to abuse, came up. However, we've got to draw a line somewhere, especially with beginners with limited time."
   ]
  },
  {
   "cell_type": "markdown",
   "metadata": {
    "slideshow": {
     "slide_type": "slide"
    }
   },
   "source": [
    "## Unicode\n",
    "\n",
    "Python allows (some) unicode variable names. \n",
    "\n",
    "> these tricks are not always portable between different Python versions... . To ensure that your code works as widely as possible, and that the methods you use will carry over to other programming languages, it is recommended that variables do not use any extended characters, but only the basic latin characters, numbers, and underscores."
   ]
  },
  {
   "cell_type": "markdown",
   "metadata": {
    "slideshow": {
     "slide_type": "notes"
    }
   },
   "source": [
    "Unicode is one of the big distinguishing features between Python 2 and 3. Whilst I've always taught using Python 3 where possible, this statement from my notes is to try and ensure the students run into the differences between the two versions as much as possible. This has practical implications, especially on a large, shared university system with sporadically inconsistent versions across campus. However, as a warning it's now a mild lie, as Python 3 is pretty ubiquitous, and there's enough other features that I teach that rely on it that don't get the same health warning. Should I change it?"
   ]
  },
  {
   "cell_type": "markdown",
   "metadata": {
    "slideshow": {
     "slide_type": "subslide"
    }
   },
   "source": [
    "# When it works\n",
    "\n",
    "Great for some problems: $r = \\alpha e^{-\\lambda t}$ gives"
   ]
  },
  {
   "cell_type": "markdown",
   "metadata": {
    "slideshow": {
     "slide_type": "notes"
    }
   },
   "source": [
    "Here's the sort of thing that Unicode support really helps with. A brief mathematical formula for a decay process uses letters from the Greek alphabet, particularly $\\alpha$ and $\\lambda$. We could switch to their latin equivalents, `a` and `l`. However, we're typically using the Greek alphabet because we've run out of latin characters at some point. Equally, explanatory variable names are best, and matching an existing convention clearly good. Particularly with $\\lambda$ converting to the latin equivalent is a problem, as `lambda` is a reserved keyword in Python. It's so much clearer and more Pythonic to be able to use Unicode variable names as done here."
   ]
  },
  {
   "cell_type": "code",
   "execution_count": null,
   "metadata": {
    "slideshow": {
     "slide_type": "fragment"
    }
   },
   "outputs": [],
   "source": [
    "from math import exp\n",
    "t = 1.2\n",
    "λ = 3.4\n",
    "α = 5.6\n",
    "r = α * exp(- λ * t)\n",
    "r"
   ]
  },
  {
   "cell_type": "markdown",
   "metadata": {
    "slideshow": {
     "slide_type": "subslide"
    }
   },
   "source": [
    "# The problems\n",
    "\n",
    "> “Well, all right, last desperate million-to-one chances always work, right, no problem, but... What if it's just a thousand-to-one chance?” said Colon agonisedly. “Anyone ever heard of a thousand-to-one shot coming up?”\n",
    ">\n",
    "> Carrot looked up. “Don't be daft, Sergeant,” he said. “No-one ever saw a thousand-to-one chance come up. The odds against it are-” his lips moved- “millions to one.”\n",
    "\n",
    "*Guards! Guards!*, Terry Pratchett"
   ]
  },
  {
   "cell_type": "markdown",
   "metadata": {
    "slideshow": {
     "slide_type": "notes"
    }
   },
   "source": [
    "Unfortunately, this isn't always true. Using Unicode variable names can lead to real confusion. The following example is very artificial, but numerically examines this idea of Terry Pratchett's: that million-to-one chances always come off."
   ]
  },
  {
   "cell_type": "code",
   "execution_count": null,
   "metadata": {
    "slideshow": {
     "slide_type": "subslide"
    }
   },
   "outputs": [],
   "source": [
    "from numpy import sum, zeros\n",
    "from numpy.random import rand\n",
    "\n",
    "def colon_wins(p_colon, n_trials):\n",
    "    \"Simple Monte-Carlo with 0 instead of rand for example\"\n",
    "    return sum(zeros(n_trials) <= p_colon) / n_trials"
   ]
  },
  {
   "cell_type": "markdown",
   "metadata": {
    "slideshow": {
     "slide_type": "notes"
    }
   },
   "source": [
    "The idea is to use a Monte-Carlo method. We pick a lot of random numbers, between zero and one. Each one defines a trial. If the random number is less than the probability of a single trial working, then the trial is a success: otherwise the trial is a failure. The comparison `numpy.zeros(...) <= p_colon` does this comparison for every trial in one go. We use `numpy.zeros` to illustrate the method: it means all the trials will succeed. This gives a logical array. The sum counts the number of successes, as `True` is converted to one and `False` to zero within the sum, and dividing by the number of trials gives the probability of success.\n",
    "\n",
    "We check that this works: as we fixed the method using `zeros` instead of a random number generator we see that everything succeeds.\n",
    "\n",
    "To do the method \"for real\" we replace the `zeros` function with the appropriate random number generator. Check what happens when the probability of success is 10%, or 0.1%: whilst the random numbers mean the Monte Carlo method doesn't give perfect results, it's pretty close.\n",
    "\n",
    "No check what happens when the probability of success is `1e-6`, or a million-to-one. The Monte Carlo method says that the *overall* probability of success is 1: million-to-one shots always come up!\n",
    "\n",
    "As you know to look for Unicode issues the problem here should be caught pretty quickly. I have in fact defined two functions: one uses the standard latin `i` and the other a Unicode \"*dotless*\" `ı`. On the screen they look very similar, but if I tab complete it's clear that they're different."
   ]
  },
  {
   "cell_type": "code",
   "execution_count": null,
   "metadata": {
    "slideshow": {
     "slide_type": "fragment"
    }
   },
   "outputs": [],
   "source": [
    "colon_wins(0.1, 1000000)"
   ]
  },
  {
   "cell_type": "code",
   "execution_count": null,
   "metadata": {
    "slideshow": {
     "slide_type": "fragment"
    }
   },
   "outputs": [],
   "source": [
    "def colon_wıns(p_colon, n_trials):\n",
    "    \"Simple Monte-Carlo\"\n",
    "    return sum(rand(n_trials) <= p_colon) / n_trials"
   ]
  },
  {
   "cell_type": "code",
   "execution_count": null,
   "metadata": {
    "slideshow": {
     "slide_type": "fragment"
    }
   },
   "outputs": [],
   "source": [
    "colon_wıns(0.1, 1000000)"
   ]
  },
  {
   "cell_type": "code",
   "execution_count": null,
   "metadata": {
    "slideshow": {
     "slide_type": "fragment"
    }
   },
   "outputs": [],
   "source": [
    "colon_wins(1e-6, 1000000)"
   ]
  },
  {
   "cell_type": "markdown",
   "metadata": {
    "slideshow": {
     "slide_type": "subslide"
    }
   },
   "source": [
    "<h2>Principles</h2>\n",
    "<div style=\"float: left; width: 50%\">\n",
    "    <p style=\"font-size:90%\">\n",
    "        <ol>\n",
    "            <li> <b> Connect to what learners know (identity). </b>\n",
    "            <li> <b> Keep cognitive load low. </b>\n",
    "            <li> <b> Be honest (real, authentic). </b>\n",
    "            <li style=\"color: rgba(0, 0, 0, 0.5)\"> Be generative and productive.\n",
    "            <li> Test, don't trust.\n",
    "        </ol>\n",
    "    </p>\n",
    "</div>\n",
    "<div style=\"float: right; width: 50%\">\n",
    "    <p style=\"font-size:90%\">\n",
    "        <ul>\n",
    "            <li> Unicode is essential for diversity, inclusion, ... (<i>opinion!</i>, but evidence from Python community?).\n",
    "            <li> Tooling around unicode *variables* poor (<i>opinion!</i>, but evidence from broader programming community?).\n",
    "            <li> How can we do better? What are we building on?\n",
    "        </ul>\n",
    "    </p>\n",
    "</div>"
   ]
  },
  {
   "cell_type": "markdown",
   "metadata": {
    "slideshow": {
     "slide_type": "notes"
    }
   },
   "source": [
    "The trouble here is that Unicode is an extremely important feature of Python, and not just for technical reasons. When students can't manipulate data containing their own name, they'll be entitled to wonder if the field really wants to include them. So Unicode *strings* must be essential, even when they cause their own problems. In terms of the principles, this directly impacts on the first principle, in terms of *personal* identity.\n",
    "\n",
    "The broader use of Unicode can have both positive and negative impacts in terms of cognitive load, as we've seen. The first example showed how directly translating formulas into code using Unicode avoided issues like keywords, and were much clearer. The second showed how things can go wrong in nasty ways.\n",
    "\n",
    "The third principle is in play, but not in a useful way. It's my opinion that the confusion about the use and utility of Unicode, its advantages versus its problems, is reflected across the wider software community. That's to say, \"it's a mess\" is an honest reflection of the real software community right now. Is it a *helpful* message to communicate to students? Maybe it's better to ask if it's unhelpful to intentionally obfuscate it?\n",
    "\n",
    "I'll skip principle 4 - I don't think it really comes in here. Again, principle 5 on tests is difficult. I have used this lie so consistently that much of what I've summarized feels more like the opinions of the broader software community: that Unicode *strings* are essential, but Unicode *variables*, on the other hand, remain problematic. To some extent this is a problem with the tools: the IDEs, and the fonts, and our expectations. We need to build, and build on, better approaches in the long run. But in the short, we need to watch out for the sort of gotchas this could bring. When an astronomer working with inclinations, often denoted $\\iota$, starts talking about unicode, and they're collaborating with an old Fortran programmer using `i` for every loop variable, you might want to take steps..."
   ]
  },
  {
   "cell_type": "markdown",
   "metadata": {
    "slideshow": {
     "slide_type": "slide"
    }
   },
   "source": [
    "## Assumptions about notation\n",
    "\n",
    "If the group is good enough, can use features to kick-start discussions about notation. Eg\n",
    "$$\n",
    "\\begin{aligned}\n",
    "  f(x, a) &= a \\times x, &\n",
    "  g(x; a) &= a \\times x, &\n",
    "  h_a(x)  &= a \\times x.\n",
    "\\end{aligned}\n",
    "$$"
   ]
  },
  {
   "cell_type": "markdown",
   "metadata": {
    "slideshow": {
     "slide_type": "notes"
    }
   },
   "source": [
    "This is the fourth lie of three, and possibly the hardest to teach, although the concepts are quite easy. It boils down to an implicit assumption behind much of my earlier talk, which was \"Matching existing mathematical notation is good\". This assumed that scientists and mathematicians had settled on the clearest, most expressive notation, and that the job of computing is just to transfer the beauty of mathematics onto the computer so it can do the boring steps.\n",
    "\n",
    "I admit, as a professional mathematician, this is definitely my bias. But there's been a lot of push-back from software developers to this viewpoint, and rightly so. To illustrate it, here's three functions, all of which multiply $x$ by $a$. The notational differences between the three are all on the left-hand-side and are tiny: however, to me, as a professional mathematician working in a small sub-field, they indicate large differences.\n",
    "\n",
    "Here is a case where expressing my assumptions in code will actually clarify my mathematical notation. The first function is a function of two variables. Although $a$ is typically used for constants and $x$ for variables, the way the function is written doesn't express that, so my mind sees a general function from $\\mathbb{R}^2 \\to \\mathbb{R}$.\n",
    "\n",
    "The second function is different. The semi-colon indicates that I should think of the variable $a$ as being fixed within the context of this call. *However*, there may be other contexts where it varies. We are holding $a$ fixed while letting $x$ vary. The point is, there still is, somewhere, a function of two variables $(x, a)$, and in other contexts we may want to use this full function. When expressed in code (in Python, at least) we take our original function $f$ and enforce that $a$ takes a specific value, like 3. The function of two variables is still around, to use if we wish.\n",
    "\n",
    "The third and final function is different again. We're now thinking of $a$ as being fixed in *all* contexts. In this case, there *is no* function of two variables: there is only ever a function of one variable, defined in terms of some constant $a$, presently unspecified. As soon as we specify $a$, enforcing that it takes a specific value like 3, the function of $x$ is fixed. Considering how the function varies as $a$ does *makes no sense*. We can express this in Python using functional tricks: a function takes `a` as input, and returns a function of `x` alone. At no point have we ever defined a function of two variables."
   ]
  },
  {
   "cell_type": "code",
   "execution_count": null,
   "metadata": {
    "slideshow": {
     "slide_type": "fragment"
    }
   },
   "outputs": [],
   "source": [
    "def f(x, a):\n",
    "    return a * x"
   ]
  },
  {
   "cell_type": "code",
   "execution_count": null,
   "metadata": {
    "slideshow": {
     "slide_type": "fragment"
    }
   },
   "outputs": [],
   "source": [
    "from functools import partial\n",
    "g_3 = partial(f, a=3)"
   ]
  },
  {
   "cell_type": "code",
   "execution_count": null,
   "metadata": {
    "slideshow": {
     "slide_type": "fragment"
    }
   },
   "outputs": [],
   "source": [
    "def h_all_a(a):\n",
    "    return lambda x : a * x\n",
    "h_3 = h_all_a(3)"
   ]
  },
  {
   "cell_type": "code",
   "execution_count": null,
   "metadata": {
    "slideshow": {
     "slide_type": "fragment"
    }
   },
   "outputs": [],
   "source": [
    "x = 1.23\n",
    "print(f(x, 3), g_3(x), h_3(x))"
   ]
  },
  {
   "cell_type": "markdown",
   "metadata": {
    "slideshow": {
     "slide_type": "subslide"
    }
   },
   "source": [
    "All the results are the same: interpretation is different.\n",
    "\n",
    "* First is a function of two variables.\n",
    "* Second is specialization of the first, $a$ is assumed constant within this context.\n",
    "* Third is saying that $a$ is always constant, but value is unspecified at definition.\n",
    "\n",
    "This can lead to deep discussions about context, typing, and assumptions embedded in notation. What set of students would you take down this rabbit hole?"
   ]
  },
  {
   "cell_type": "markdown",
   "metadata": {
    "slideshow": {
     "slide_type": "notes"
    }
   },
   "source": [
    "These are tiny, almost trivial examples, but they touch on some big tensions between mathematicians, scientists, and software. How precisely do things need to be specified? Whose notation and approaches are \"best\"? What assumptions should you make about your audience before you try to teach them something (a question that I aim at this talk, as much as anything)?\n",
    "\n",
    "It would take a pretty strong set of broad-minded students to dive down this rabbit hole, I think."
   ]
  },
  {
   "cell_type": "markdown",
   "metadata": {
    "slideshow": {
     "slide_type": "subslide"
    }
   },
   "source": [
    "<h2>Principles</h2>\n",
    "\n",
    "<div style=\"float: left; width: 55%\">\n",
    "    <p>\n",
    "        <ol>\n",
    "            <li> <b> Connect to what learners know (identity). </b>\n",
    "            <li> <b> Keep cognitive load low. </b>\n",
    "            <li> <b> Be honest (real, authentic). </b>\n",
    "            <li> <b> Be generative and productive. </b>\n",
    "            <li> Test, don't trust.\n",
    "        </ol>\n",
    "    </p>\n",
    "</div>\n",
    "<div style=\"float: right; width: 45%\">\n",
    "    <p>\n",
    "        <ul>\n",
    "            <li> Notation matters. (<i>opinion!</i>).\n",
    "            <li> Assumptions matter. (<i>opinion!</i>).\n",
    "            <li> The link between notation and assumptions in both the model and the code can be used productively, but it won't be comfortable. (<i>opinion!</i>).\n",
    "        </ul>\n",
    "    </p>\n",
    "</div>"
   ]
  },
  {
   "cell_type": "markdown",
   "metadata": {
    "slideshow": {
     "slide_type": "notes"
    }
   },
   "source": [
    "This topic could be really productive with a strong set of self-confident students. By linking how a model is formalized on paper to how it's implemented in code, and seeing how the assumptions made in both interact, the learners can directly interrogate how their identity as scientific modellers re-inforces *and* conflicts with their identity as programmers. This won't be comfortable: some won't be happy or will refuse to see any conflicts between the two (and it won't just be the students having this problem). But, by boiling it down to \"minimally working *conflicting* examples\" you can really start to learn about fundamentals. The problem, in terms of the principles, comes with cognitive load: this *will* be high, so you'll need students already comfortable with their identities."
   ]
  },
  {
   "cell_type": "markdown",
   "metadata": {
    "slideshow": {
     "slide_type": "slide"
    }
   },
   "source": [
    "# Conclusion\n",
    "\n",
    "* Science is modelling;\n",
    "* Modelling is forgetting;\n",
    "* Programming is modelling is forgetting is lying.\n",
    "* Teaching is selecting the best lie to help the students build the least-bad model.\n",
    "\n",
    "Do you know when you're lying, and is it worth it?"
   ]
  },
  {
   "cell_type": "markdown",
   "metadata": {
    "slideshow": {
     "slide_type": "notes"
    }
   },
   "source": [
    "The issue that I've tried to raise in this talk is that off the beaten track of teaching scientific computing there are dragons. It doesn't make sense to try and avoid them - the field moves too fast, and breaks too many things along the way. Instead we need to enjoy playing with the dragons, be performative and creative with our students when we debug the problems and come across surprises, and never stop interrogating the approaches, even when teaching the simplest things."
   ]
  }
 ],
 "metadata": {
  "celltoolbar": "Slideshow",
  "kernelspec": {
   "display_name": "Python 3",
   "language": "python",
   "name": "python3"
  },
  "language_info": {
   "codemirror_mode": {
    "name": "ipython",
    "version": 3
   },
   "file_extension": ".py",
   "mimetype": "text/x-python",
   "name": "python",
   "nbconvert_exporter": "python",
   "pygments_lexer": "ipython3",
   "version": "3.6.5"
  },
  "livereveal": {
   "height": 768,
   "theme": "white",
   "width": 1366
  }
 },
 "nbformat": 4,
 "nbformat_minor": 2
}
