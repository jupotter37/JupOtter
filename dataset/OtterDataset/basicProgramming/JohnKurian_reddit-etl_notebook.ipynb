{
 "cells": [
  {
   "cell_type": "markdown",
   "metadata": {},
   "source": [
    "# Profiling the audience"
   ]
  },
  {
   "cell_type": "code",
   "execution_count": 9,
   "metadata": {},
   "outputs": [],
   "source": [
    "import os\n",
    "import pymysql\n",
    "import pandas as pd\n",
    "\n",
    "host = os.getenv('MYSQL_HOST')\n",
    "port = os.getenv('MYSQL_PORT')\n",
    "user = os.getenv('MYSQL_USER')\n",
    "password = '7dc41992'\n",
    "database = os.getenv('MYSQL_DATABASE')\n",
    "\n",
    "conn = pymysql.connect(\n",
    "    host=host,\n",
    "    port=int(3306),\n",
    "    user=\"root\",\n",
    "    passwd=password,\n",
    "    db=\"reddit\",\n",
    "    charset='utf8mb4')"
   ]
  },
  {
   "cell_type": "code",
   "execution_count": 77,
   "metadata": {},
   "outputs": [],
   "source": [
    "query = \"SELECT subreddit_display_name FROM user_submissions\"\n",
    "user_df = pd.read_sql_query(query, conn)"
   ]
  },
  {
   "cell_type": "code",
   "execution_count": 78,
   "metadata": {},
   "outputs": [
    {
     "data": {
      "text/html": [
       "<div>\n",
       "<style scoped>\n",
       "    .dataframe tbody tr th:only-of-type {\n",
       "        vertical-align: middle;\n",
       "    }\n",
       "\n",
       "    .dataframe tbody tr th {\n",
       "        vertical-align: top;\n",
       "    }\n",
       "\n",
       "    .dataframe thead th {\n",
       "        text-align: right;\n",
       "    }\n",
       "</style>\n",
       "<table border=\"1\" class=\"dataframe\">\n",
       "  <thead>\n",
       "    <tr style=\"text-align: right;\">\n",
       "      <th></th>\n",
       "      <th>subreddit_display_name</th>\n",
       "    </tr>\n",
       "  </thead>\n",
       "  <tbody>\n",
       "    <tr>\n",
       "      <td>0</td>\n",
       "      <td>Frisson</td>\n",
       "    </tr>\n",
       "    <tr>\n",
       "      <td>1</td>\n",
       "      <td>soccer</td>\n",
       "    </tr>\n",
       "    <tr>\n",
       "      <td>2</td>\n",
       "      <td>soccer</td>\n",
       "    </tr>\n",
       "    <tr>\n",
       "      <td>3</td>\n",
       "      <td>leagueoflegends</td>\n",
       "    </tr>\n",
       "    <tr>\n",
       "      <td>4</td>\n",
       "      <td>loseit</td>\n",
       "    </tr>\n",
       "  </tbody>\n",
       "</table>\n",
       "</div>"
      ],
      "text/plain": [
       "  subreddit_display_name\n",
       "0                Frisson\n",
       "1                 soccer\n",
       "2                 soccer\n",
       "3        leagueoflegends\n",
       "4                 loseit"
      ]
     },
     "execution_count": 78,
     "metadata": {},
     "output_type": "execute_result"
    }
   ],
   "source": [
    "user_df.head()"
   ]
  },
  {
   "cell_type": "code",
   "execution_count": 35,
   "metadata": {},
   "outputs": [],
   "source": [
    "subreddits = [x[0] for x in list(user_df.values)]"
   ]
  },
  {
   "cell_type": "code",
   "execution_count": 37,
   "metadata": {},
   "outputs": [],
   "source": [
    "from collections import Counter\n",
    "subreddits = dict(Counter(subreddits))"
   ]
  },
  {
   "cell_type": "code",
   "execution_count": 38,
   "metadata": {},
   "outputs": [
    {
     "data": {
      "text/plain": [
       "{'Frisson': 13,\n",
       " 'soccer': 104,\n",
       " 'leagueoflegends': 121,\n",
       " 'loseit': 17,\n",
       " 'harrypotter': 3,\n",
       " 'shittyaskscience': 21,\n",
       " 'AdviceAnimals': 22,\n",
       " 'edmproduction': 8,\n",
       " 'MorbidReality': 28,\n",
       " 'politics': 645,\n",
       " 'Android': 20,\n",
       " 'Cairns': 3,\n",
       " 'paris': 9,\n",
       " 'videos': 75,\n",
       " 'funny': 163,\n",
       " 'aww': 309,\n",
       " 'askscience': 59,\n",
       " 'Liftingmusic': 3,\n",
       " 'malala': 3,\n",
       " 'Documentaries': 7,\n",
       " 'writing': 16,\n",
       " 'youtubehaiku': 7,\n",
       " 'baltimore': 1,\n",
       " 'HomeImprovement': 16,\n",
       " 'Libertarian': 3,\n",
       " 'picrequests': 2,\n",
       " 'gaming': 70,\n",
       " 'bleach': 28,\n",
       " 'nexus4': 19,\n",
       " 'technology': 48,\n",
       " 'WTF': 54,\n",
       " 'TwoXChromosomes': 11,\n",
       " 'reactiongifs': 9,\n",
       " 'racism': 2,\n",
       " 'Beck': 5,\n",
       " 'pics': 166,\n",
       " 'leangains': 1,\n",
       " 'montreal': 9,\n",
       " 'Jewish': 1,\n",
       " 'photoshopbattles': 20,\n",
       " 'vinevideos': 26,\n",
       " 'firstworldproblems': 15,\n",
       " 'summonerschool': 1,\n",
       " 'TheLastAirbender': 5,\n",
       " 'AskReddit': 954,\n",
       " 'Fitness': 20,\n",
       " 'todayilearned': 210,\n",
       " 'chelseafc': 5,\n",
       " 'wicked_edge': 16,\n",
       " 'AndroidQuestions': 2,\n",
       " 'notdominoes': 1,\n",
       " 'MensRights': 1,\n",
       " 'wicked_edge_deals': 3,\n",
       " 'cordcutters': 7,\n",
       " 'chicago': 10,\n",
       " 'swoleacceptance': 4,\n",
       " 'memes': 37,\n",
       " 'MURICA': 8,\n",
       " 'Sakartvelo': 5,\n",
       " 'PleX': 15,\n",
       " 'Frugal': 5,\n",
       " 'hometheater': 3,\n",
       " 'DebateReligion': 10,\n",
       " 'CrazyIdeas': 16,\n",
       " 'budgetfood': 1,\n",
       " 'IAmA': 4,\n",
       " 'atheism': 21,\n",
       " 'personalfinance': 70,\n",
       " 'news': 145,\n",
       " 'amazon': 5,\n",
       " 'circlejerk': 21,\n",
       " 'explainlikeimfive': 39,\n",
       " 'frugaljerk': 1,\n",
       " 'Ameristralia': 5,\n",
       " 'evangelion': 1,\n",
       " 'bigbangtheory': 7,\n",
       " 'FixedGearBicycle': 15,\n",
       " 'ideasfortheadmins': 2,\n",
       " 'AskHistorians': 13,\n",
       " 'KarmaConspiracy': 3,\n",
       " 'britishproblems': 13,\n",
       " 'timelapse': 1,\n",
       " 'childfree': 17,\n",
       " 'Music': 26,\n",
       " 'DetroitRedWings': 2,\n",
       " 'saudiarabia': 3,\n",
       " 'asmr': 2,\n",
       " 'GlobalOffensive': 2,\n",
       " 'Games': 18,\n",
       " 'TrueAtheism': 3,\n",
       " 'Turkey': 2,\n",
       " 'exmuslim': 21,\n",
       " 'pcgaming': 96,\n",
       " 'superman': 1,\n",
       " 'BikeLA': 30,\n",
       " 'whowouldwin': 15,\n",
       " 'manga': 9,\n",
       " 'buildapc': 69,\n",
       " 'NanatsunoTaizai': 1,\n",
       " 'dataisbeautiful': 2,\n",
       " 'nottheonion': 33,\n",
       " 'canada': 17,\n",
       " 'apocalypticideas': 1,\n",
       " 'everquest': 1,\n",
       " 'Christianity': 355,\n",
       " 'TeamRedditTeams': 1,\n",
       " 'AnimalsBeingDerps': 15,\n",
       " 'wsj': 1,\n",
       " 'Dermatology': 1,\n",
       " 'atheistvids': 5,\n",
       " 'realmadrid': 52,\n",
       " 'leagueoftoronto': 2,\n",
       " 'programming': 2,\n",
       " 'HailCorporate': 4,\n",
       " 'photography': 3,\n",
       " 'kaleycuoco': 1,\n",
       " 'cringepics': 5,\n",
       " 'HomeworkHelp': 3,\n",
       " 'AskAcademia': 13,\n",
       " 'space': 26,\n",
       " 'cringe': 5,\n",
       " 'SuggestALaptop': 5,\n",
       " 'AmericanHorrorStory': 1,\n",
       " 'LadyBoners': 2,\n",
       " 'MinusTheBear': 2,\n",
       " 'philosophy': 4,\n",
       " 'worldnews': 445,\n",
       " 'india': 14,\n",
       " 'BitcoinBeginners': 2,\n",
       " 'streetart': 4,\n",
       " 'bapcsalescanada': 1,\n",
       " 'chillwave': 18,\n",
       " 'listentothis': 36,\n",
       " 'dogecoin': 5,\n",
       " 'Battlefield': 12,\n",
       " 'elderscrollsonline': 9,\n",
       " 'Multicopter': 6,\n",
       " 'ElderScrolls': 4,\n",
       " 'legaladvice': 25,\n",
       " 'Sherlock': 1,\n",
       " 'changemyview': 10,\n",
       " 'milwaukee': 6,\n",
       " 'thesuperbowl': 1,\n",
       " 'misleadingthumbnails': 6,\n",
       " 'Eve': 12,\n",
       " 'nfl': 28,\n",
       " 'Dogecoinmining': 1,\n",
       " 'Marijuana': 2,\n",
       " 'AskEngineers': 5,\n",
       " 'television': 36,\n",
       " 'titanfall': 49,\n",
       " 'WritersGroup': 1,\n",
       " 'hockey': 337,\n",
       " 'pcmasterrace': 26,\n",
       " 'litecoinmining': 1,\n",
       " 'BritishSuccess': 2,\n",
       " 'science': 39,\n",
       " 'AnimalsBeingBros': 8,\n",
       " 'counting': 1,\n",
       " 'nocontext': 1,\n",
       " 'arduino': 2,\n",
       " 'dogemining': 1,\n",
       " 'Bitcoin': 12,\n",
       " 'MH370': 1,\n",
       " 'Showerthoughts': 179,\n",
       " 'conspiracy': 9,\n",
       " 'test': 9,\n",
       " 'actuallesbians': 5,\n",
       " 'Instagram': 3,\n",
       " 'help': 6,\n",
       " 'vinyl': 9,\n",
       " 'gentlemanboners': 2,\n",
       " 'RandomActsOfVinyl': 1,\n",
       " 'jobs': 8,\n",
       " 'formula1': 1,\n",
       " 'quiz': 1,\n",
       " 'QuizUp': 1,\n",
       " 'scifi': 3,\n",
       " 'civ': 4,\n",
       " 'gameofthrones': 22,\n",
       " 'schnauzers': 7,\n",
       " 'WeAreTheMusicMakers': 22,\n",
       " 'nba': 95,\n",
       " 'perktv': 2,\n",
       " 'atletico': 1,\n",
       " 'DAE': 5,\n",
       " 'Wolfenstein': 1,\n",
       " 'asoiaf': 11,\n",
       " 'reddevils': 4,\n",
       " 'Wales': 1,\n",
       " 'DoesAnybodyElse': 12,\n",
       " 'weddingplanning': 1,\n",
       " 'bicycling': 4,\n",
       " 'RedditDayOf': 29,\n",
       " 'socialmedia': 2,\n",
       " 'awwnverts': 2,\n",
       " 'CityPorn': 66,\n",
       " 'Trucking': 4,\n",
       " 'AmItheAsshole': 6,\n",
       " 'StarWars': 17,\n",
       " 'gamecollecting': 1,\n",
       " 'DestinyTheGame': 41,\n",
       " 'mildlyinteresting': 26,\n",
       " 'CrappyDesign': 6,\n",
       " 'kickstarter': 4,\n",
       " 'DIY': 6,\n",
       " 'LosAngeles': 49,\n",
       " 'apps': 1,\n",
       " 'newjersey': 2,\n",
       " 'madeinusa': 1,\n",
       " 'coupons': 3,\n",
       " 'Art': 4,\n",
       " 'lowcar': 2,\n",
       " 'history': 10,\n",
       " 'Smartphones': 1,\n",
       " 'techsupport': 14,\n",
       " 'apple': 7,\n",
       " 'badeducationtv': 1,\n",
       " 'AskMen': 10,\n",
       " 'buildapcsales': 28,\n",
       " 'Fireteams': 1,\n",
       " 'findapath': 3,\n",
       " 'PushBullet': 2,\n",
       " 'SelfDrivingCars': 4,\n",
       " 'LetsTalkMusic': 3,\n",
       " 'HotWheels': 4,\n",
       " 'LifeProTips': 35,\n",
       " 'DNA': 1,\n",
       " 'UKBiscuits': 1,\n",
       " 'iphone': 2,\n",
       " 'treesmovienight': 1,\n",
       " 'howyoudoin': 3,\n",
       " 'halo': 52,\n",
       " 'randomactsofdoughnut': 1,\n",
       " 'scienceofdeduction': 1,\n",
       " 'lego': 43,\n",
       " 'moto360': 1,\n",
       " 'Statements': 2,\n",
       " 'LetsTalkElectronica': 1,\n",
       " 'facebook': 4,\n",
       " 'VPN': 1,\n",
       " 'vimeo': 1,\n",
       " 'inthenews': 14,\n",
       " 'WaltDisneyWorld': 5,\n",
       " 'OutOfTheLoop': 1,\n",
       " 'StopSpam': 1,\n",
       " 'jewelers': 1,\n",
       " 'tipofmytongue': 10,\n",
       " 'Twitch': 1,\n",
       " 'cardsagainsthumanity': 1,\n",
       " 'musicfestivals': 1,\n",
       " 'holdmybeer': 1,\n",
       " 'nsfw_gifs': 1,\n",
       " 'MusicNews': 6,\n",
       " 'Lightbulb': 2,\n",
       " 'anime': 58,\n",
       " 'PoliticalHumor': 161,\n",
       " 'Buttcoin': 18,\n",
       " 'ruralporn': 6,\n",
       " 'HIMYM': 3,\n",
       " 'Dreamtheater': 4,\n",
       " 'jordan': 1,\n",
       " 'EvolveGame': 1,\n",
       " 'foxes': 1,\n",
       " 'SocialEngineering': 1,\n",
       " 'schwinn': 2,\n",
       " 'eu4': 21,\n",
       " 'SchutzStaffeln': 2,\n",
       " 'Holokauston': 220,\n",
       " 'ClubNintendoTrade': 1,\n",
       " 'HaShoah': 28,\n",
       " 'SchutzStaffelSS': 16,\n",
       " 'DogShowerThoughts': 3,\n",
       " 'GameTrade': 1,\n",
       " 'seedboxes': 2,\n",
       " 'travelpartners': 4,\n",
       " '3Dmodeling': 1,\n",
       " 'AlAnon': 23,\n",
       " 'WritingPrompts': 7,\n",
       " 'LeftHanging': 1,\n",
       " 'smoking': 6,\n",
       " 'BBQ': 5,\n",
       " 'travel': 21,\n",
       " 'NYGiants': 29,\n",
       " 'mvsw': 1,\n",
       " 'books': 11,\n",
       " 'unitedkingdom': 39,\n",
       " 'movies': 47,\n",
       " 'gunpolitics': 1,\n",
       " 'washingtondc': 4,\n",
       " 'lexington': 1,\n",
       " 'cahideas': 4,\n",
       " 'hearthstone': 15,\n",
       " 'thebutton': 2,\n",
       " 'bloodborne': 3,\n",
       " 'NormalBobSmith': 14,\n",
       " 'emulation': 2,\n",
       " 'sydney': 7,\n",
       " 'huntersbell': 1,\n",
       " 'holdmybeaker': 6,\n",
       " 'ThingsThatBlowUp': 1,\n",
       " 'raisedbynarcissists': 11,\n",
       " 'RBNLifeSkills': 1,\n",
       " 'rBitcoin': 1,\n",
       " 'arizona': 1,\n",
       " 'iran': 3,\n",
       " 'freedompop': 4,\n",
       " 'redditgetsdrawn': 3,\n",
       " 'Opeth': 30,\n",
       " 'PuzzleAndDragons': 24,\n",
       " 'explainlikeyourefive': 1,\n",
       " 'furniture': 1,\n",
       " 'TaylorSwift': 2,\n",
       " 'sports': 20,\n",
       " 'VerizonTradeIn': 1,\n",
       " 'sportsjerseys': 1,\n",
       " 'thewalkingdead': 3,\n",
       " 'Accounting': 52,\n",
       " 'WomensSoccer': 1,\n",
       " 'computebazaar': 1,\n",
       " 'oculus': 57,\n",
       " 'ChineseLanguage': 3,\n",
       " 'streetwear': 2,\n",
       " 'zenfone2': 1,\n",
       " 'hardwareswap': 7,\n",
       " 'hardware': 12,\n",
       " 'Warthunder': 177,\n",
       " 'redditbay': 1,\n",
       " 'heroesofthestorm': 2,\n",
       " 'radiocontrol': 1,\n",
       " 'cscareerquestions': 1,\n",
       " 'beer': 3,\n",
       " 'medlabprofessionals': 15,\n",
       " 'SteamMonsterGame': 1,\n",
       " 'Unexpected': 6,\n",
       " 'backpacking': 4,\n",
       " 'Fallout': 7,\n",
       " 'ants': 4,\n",
       " 'Tucson': 9,\n",
       " 'OneY': 1,\n",
       " 'teslamotors': 4,\n",
       " 'StreetFighter': 35,\n",
       " 'ladyladyboners': 1,\n",
       " 'SandersForPresident': 36,\n",
       " 'HomeNetworking': 8,\n",
       " 'stevenuniverse': 6,\n",
       " 'McDonalds': 1,\n",
       " 'porcupinetree': 1,\n",
       " 'pathofexile': 1,\n",
       " 'creepy': 5,\n",
       " 'bestof': 6,\n",
       " 'IWantOut': 2,\n",
       " 'Windows10': 47,\n",
       " 'mazda3': 21,\n",
       " 'CampingandHiking': 3,\n",
       " 'ShitTrumpSays': 1,\n",
       " 'NoMansSkyTheGame': 29,\n",
       " 'truegaming': 2,\n",
       " 'BoomBeach': 2,\n",
       " 'CLG': 1,\n",
       " 'InternetIsBeautiful': 2,\n",
       " 'tvshow': 1,\n",
       " 'Jokes': 45,\n",
       " 'TelltaleBorderlands': 1,\n",
       " 'piano': 4,\n",
       " 'killerinstinct': 1,\n",
       " 'GearsOfWar': 10,\n",
       " 'fantasyfootball': 42,\n",
       " 'korea': 4,\n",
       " 'SunriseSunset': 4,\n",
       " 'iguanas': 1,\n",
       " 'Rabbits': 32,\n",
       " 'SEO': 4,\n",
       " 'PS4': 12,\n",
       " 'progmetal': 33,\n",
       " 'StudentLoans': 18,\n",
       " 'emeraldcityfoodies': 1,\n",
       " 'Seattle': 1,\n",
       " 'GradSchool': 2,\n",
       " 'Etsy': 2,\n",
       " 'hitmanimals': 4,\n",
       " 'FIFA': 8,\n",
       " 'talesfromcallcenters': 1,\n",
       " 'htcone': 1,\n",
       " 'ClashOfClans': 9,\n",
       " 'learnpython': 7,\n",
       " 'orphanblack': 1,\n",
       " 'PrettyGirls': 1,\n",
       " 'TomboyFashionAdvice': 1,\n",
       " 'Catholicism': 4,\n",
       " 'depression': 7,\n",
       " 'xboxone': 70,\n",
       " 'globalcandycup': 1,\n",
       " 'GreenBayPackers': 4,\n",
       " 'DarthJarJar': 1,\n",
       " 'HaloCirclejerk': 2,\n",
       " 'oddlysatisfying': 4,\n",
       " 'needforspeed': 1,\n",
       " 'popping': 1,\n",
       " 'investing': 14,\n",
       " 'independentmusic': 1,\n",
       " 'excel': 4,\n",
       " 'uncharted': 1,\n",
       " 'OkCupid': 20,\n",
       " 'Boxing': 11,\n",
       " 'OldSchoolCool': 29,\n",
       " 'rdio': 3,\n",
       " 'pandemichorde': 1,\n",
       " 'noisygifs': 1,\n",
       " 'TheGameOfThronesGame': 1,\n",
       " 'ProtectAndServe': 1,\n",
       " 'mturk': 28,\n",
       " 'rickandmorty': 4,\n",
       " 'StarWarsUprising': 1,\n",
       " 'newmusic': 1,\n",
       " 'Filmmakers': 2,\n",
       " 'Paranormal': 2,\n",
       " 'Ebay': 6,\n",
       " 'Advice': 15,\n",
       " 'gifs': 45,\n",
       " 'whatsthisplant': 4,\n",
       " 'MMA': 5,\n",
       " 'financialindependence': 10,\n",
       " 'wallstreetbets': 21,\n",
       " 'Surface': 78,\n",
       " 'HITsWorthTurkingFor': 1,\n",
       " 'LiveFromNewYork': 2,\n",
       " 'shittyreactiongifs': 2,\n",
       " 'GearVR': 3,\n",
       " 'Cleveland': 2,\n",
       " 'ambientmusic': 9,\n",
       " 'headphones': 12,\n",
       " 'dcl': 1,\n",
       " 'Disney_Infinity': 1,\n",
       " 'mazda': 2,\n",
       " 'Nexus6P': 3,\n",
       " 'overclocking': 11,\n",
       " 'kidlogic': 1,\n",
       " 'whatcarshouldIbuy': 5,\n",
       " 'after_shower_thoughts': 1,\n",
       " 'BreakUp': 1,\n",
       " 'Utz': 2,\n",
       " 'SquaredCircle': 25,\n",
       " 'cars': 4,\n",
       " 'ScenesFromAHat': 1,\n",
       " '3dshacks': 4,\n",
       " 'nxtwrestling': 1,\n",
       " 'MadeMeSmile': 13,\n",
       " 'rva': 1,\n",
       " 'Wordpress': 1,\n",
       " 'webdev': 6,\n",
       " 'buccos': 3,\n",
       " 'NHLStreams': 1,\n",
       " 'bladeandsoul': 1,\n",
       " 'Hand_Of_Fate': 1,\n",
       " 'toys': 1,\n",
       " 'tech': 3,\n",
       " 'evilbuildings': 4,\n",
       " 'BillyOnTheStreet': 1,\n",
       " 'CodersForSanders': 1,\n",
       " 'law': 37,\n",
       " 'SkincareAddiction': 28,\n",
       " 'CruciblePlaybook': 6,\n",
       " 'marvelstudios': 27,\n",
       " 'McJuggerNuggets': 4,\n",
       " 'Entrepreneur': 13,\n",
       " 'smallbusiness': 8,\n",
       " 'tifu': 11,\n",
       " 'LetsPlayVideos': 42,\n",
       " 'DC_Cinematic': 9,\n",
       " 'animalsridinganimals': 1,\n",
       " 'food': 24,\n",
       " 'paydaytheheist': 4,\n",
       " 'awwnderwater': 2,\n",
       " 'DocumentaryNow': 1,\n",
       " 'rance': 1,\n",
       " 'thedivision': 17,\n",
       " 'FFXV': 1,\n",
       " 'firstworldanarchists': 3,\n",
       " 'hiphopheads': 2,\n",
       " 'eatsandwiches': 1,\n",
       " 'fo4': 32,\n",
       " 'NewsOfTheWeird': 1,\n",
       " 'HouseOfCards': 1,\n",
       " 'baseball': 14,\n",
       " 'Porsche': 1,\n",
       " 'Fallout4Builds': 4,\n",
       " 'Overwatch': 27,\n",
       " 'reactionGIF': 1,\n",
       " 'soapmaking': 3,\n",
       " 'me_irl': 3,\n",
       " 'shittyaskreddit': 1,\n",
       " 'Amd': 113,\n",
       " 'paydaymasks': 1,\n",
       " 'filthypitches': 1,\n",
       " 'fuckolly': 1,\n",
       " 'ambientbeats': 1,\n",
       " 'marchingband': 5,\n",
       " 'euphonium': 2,\n",
       " 'MidCityWestbikes': 5,\n",
       " 'CODZombies': 56,\n",
       " 'MLBTheShow': 8,\n",
       " 'nvidia': 36,\n",
       " 'Trombone': 2,\n",
       " 'podcasts': 3,\n",
       " '23andme': 1,\n",
       " 'DotA2': 2,\n",
       " 'Doom': 13,\n",
       " 'SoundsLikeMusic': 1,\n",
       " 'Dell': 1,\n",
       " 'EliteOne': 2,\n",
       " 'cheatatmathhomework': 1,\n",
       " 'houston': 7,\n",
       " 'ManyATrueNerd': 5,\n",
       " 'fantasybooking': 7,\n",
       " 'starfox': 1,\n",
       " 'AMDHelp': 1,\n",
       " 'poland': 1,\n",
       " 'survivor': 20,\n",
       " 'Pareidolia': 3,\n",
       " 'sportsbook': 2,\n",
       " 'sportsbookextra': 1,\n",
       " 'solotravel': 4,\n",
       " 'onebag': 1,\n",
       " 'FalloutMods': 2,\n",
       " 'flashcarts': 5,\n",
       " 'SuicideWatch': 7,\n",
       " 'EnoughTrumpSpam': 122,\n",
       " 'quityourbullshit': 2,\n",
       " 'TheWayWeWere': 1,\n",
       " 'AskDocs': 16,\n",
       " 'h3h3productions': 1,\n",
       " 'Naruto': 5,\n",
       " 'dadjokes': 1,\n",
       " 'soccercirclejerk': 3,\n",
       " 'MINI': 1,\n",
       " 'Vive': 2,\n",
       " 'AutoDetailing': 2,\n",
       " 'AskComputerScience': 1,\n",
       " 'fsm': 1,\n",
       " 'electronicmusic': 2,\n",
       " 'MadeThis': 1,\n",
       " 'baritone': 1,\n",
       " 'Rainbow6': 7,\n",
       " 'pokemongo': 43,\n",
       " 'vexillology': 1,\n",
       " 'nintendo': 28,\n",
       " 'pokemon': 11,\n",
       " 'GetMotivated': 4,\n",
       " 'PokemonGoOttawa': 17,\n",
       " 'BigBrother': 17,\n",
       " 'metroidvania': 10,\n",
       " '90s': 1,\n",
       " 'Slovakia': 1,\n",
       " 'SoccerBetting': 6,\n",
       " 'santarosa': 18,\n",
       " 'wesanderson': 1,\n",
       " 'Gameboy': 1,\n",
       " 'scuba': 1,\n",
       " 'illusionporn': 1,\n",
       " 'HillaryForAmerica': 87,\n",
       " 'pathology': 1,\n",
       " 'scaredshitless': 4,\n",
       " 'radiohead': 2,\n",
       " 'Preacher': 1,\n",
       " 'forwardsfromgrandma': 1,\n",
       " 'MakingaMurderer': 1,\n",
       " 'wisconsin': 6,\n",
       " 'PoliticalDiscussion': 19,\n",
       " 'Full_news': 1,\n",
       " 'urbanexploration': 2,\n",
       " 'Nomansskyporn': 2,\n",
       " 'ps2': 3,\n",
       " 'Animals': 1,\n",
       " 'DunderMifflin': 16,\n",
       " 'muacjdiscussion': 3,\n",
       " 'audacity': 1,\n",
       " 'japan': 4,\n",
       " 'puzzles': 3,\n",
       " 'Mattress': 2,\n",
       " 'netsec': 5,\n",
       " 'synthrecipes': 1,\n",
       " 'security': 2,\n",
       " 'stevedangle': 11,\n",
       " 'fireemblem': 8,\n",
       " 'Amsterdam': 1,\n",
       " 'fpv': 2,\n",
       " 'InfoSecNews': 2,\n",
       " 'snackexchange': 1,\n",
       " 'miband': 4,\n",
       " 'alcohol': 6,\n",
       " 'AsianBeauty': 8,\n",
       " 'botany': 1,\n",
       " 'TheHearth': 1,\n",
       " 'ThisWarofMine': 1,\n",
       " 'malefashionadvice': 7,\n",
       " 'bikewrench': 2,\n",
       " 'Illustration': 1,\n",
       " 'subaru': 1,\n",
       " 'askmath': 3,\n",
       " 'FYI': 1,\n",
       " 'SubredditSimMeta': 2,\n",
       " 'FantasyPL': 2,\n",
       " 'goodyearwelt': 5,\n",
       " 'startrek': 6,\n",
       " 'Awww': 1,\n",
       " 'Philippines': 342,\n",
       " 'dci': 1,\n",
       " 'wow': 3,\n",
       " 'spacex': 1,\n",
       " 'lifeisstrange': 22,\n",
       " 'streetphotography': 46,\n",
       " 'whisky': 2,\n",
       " 'PoliticsHangout': 7,\n",
       " 'Bokeh': 2,\n",
       " 'idm': 1,\n",
       " 'futurebeats': 1,\n",
       " 'WikiLeaks': 18,\n",
       " 'ffxiv': 4,\n",
       " 'NeutralPolitics': 3,\n",
       " 'Roku': 2,\n",
       " 'EarthPorn': 15,\n",
       " 'hacking': 2,\n",
       " 'Sia': 1,\n",
       " 'battlefield_one': 6,\n",
       " 'orchestra': 1,\n",
       " 'QuantumComputing': 1,\n",
       " 'democrats': 54,\n",
       " 'Infinitewarfare': 2,\n",
       " 'TheBluePill': 4,\n",
       " 'HillaryMeltdown': 3,\n",
       " 'hillaryclinton': 27,\n",
       " 'dfsports': 4,\n",
       " 'TheNewRight': 8,\n",
       " 'makeupexchange': 1,\n",
       " 'fifanomics': 2,\n",
       " 'OttawaSenators': 54,\n",
       " 'yoga': 2,\n",
       " 'Emailmarketing': 2,\n",
       " 'Nirvana': 2,\n",
       " 'Coffee': 4,\n",
       " 'ff7': 1,\n",
       " 'Essays': 1,\n",
       " 'NSFWfashion': 4,\n",
       " 'Models': 2,\n",
       " 'BarbaraPalvin': 1,\n",
       " 'TheWalkingDeadGame': 10,\n",
       " 'chromeos': 2,\n",
       " 'mississauga': 1,\n",
       " 'iPhoneography': 1,\n",
       " 'kodi': 1,\n",
       " 'AskMarketing': 1,\n",
       " 'Volvo': 4,\n",
       " 'TapTitans2': 1,\n",
       " 'Monitors': 1,\n",
       " 'Firewatch': 1,\n",
       " 'Piracy': 7,\n",
       " 'WiggleButts': 1,\n",
       " 'streetwearstartup': 1,\n",
       " 'tax': 4,\n",
       " 'Undertale': 1,\n",
       " 'chartercable': 1,\n",
       " 'TheSilphRoad': 27,\n",
       " 'getting_over_it': 1,\n",
       " 'DesignJobs': 1,\n",
       " 'relationship_advice': 2,\n",
       " 'Cyberpunk': 2,\n",
       " 'Metal': 7,\n",
       " 'audiophile': 6,\n",
       " 'Chilledout': 3,\n",
       " 'DigitalPainting': 1,\n",
       " 'feelgood': 1,\n",
       " 'GooglePixel': 10,\n",
       " 'esist': 63,\n",
       " 'MarchAgainstTrump': 37,\n",
       " 'EliteDangerous': 7,\n",
       " 'RingPlus': 1,\n",
       " 'POTUS': 1,\n",
       " 'short_films': 1,\n",
       " 'ExperimentalFilm': 1,\n",
       " 'editors': 2,\n",
       " 'SpicerFacts': 3,\n",
       " 'taxmarch': 1,\n",
       " 'MarchForScience': 1,\n",
       " 'nesclassicmods': 4,\n",
       " 'forhonor': 11,\n",
       " 'OMSCS': 3,\n",
       " 'TheSimpsons': 12,\n",
       " 'Ask_Politics': 4,\n",
       " 'askcarsales': 2,\n",
       " 'AnimalPorn': 1,\n",
       " 'USPS': 1,\n",
       " 'dji': 1,\n",
       " 'StardewValley': 4,\n",
       " 'PhotoshopRequest': 2,\n",
       " 'sales': 3,\n",
       " 'NintendoSwitch': 75,\n",
       " 'trees': 13,\n",
       " 'unexpectedfactorial': 1,\n",
       " 'tales': 1,\n",
       " 'watercooling': 8,\n",
       " 'AltspaceVR': 1,\n",
       " 'GreatXboxDeals': 5,\n",
       " 'Moto_Z': 1,\n",
       " 'SaGa': 1,\n",
       " 'mod360': 1,\n",
       " 'minines': 1,\n",
       " 'Seahawks': 48,\n",
       " 'PPC': 2,\n",
       " 'IslandHoppingPH': 1,\n",
       " 'AceAttorney': 2,\n",
       " 'NFL_Draft': 3,\n",
       " 'ThreeTimesFaster': 2,\n",
       " 'tmobile': 1,\n",
       " 'masseffect': 6,\n",
       " 'scion': 1,\n",
       " 'wowguild': 1,\n",
       " 'fednews': 2,\n",
       " 'Wildlands': 1,\n",
       " 'candlemaking': 2,\n",
       " 'digimon': 9,\n",
       " 'idIOK': 1,\n",
       " 'france': 20,\n",
       " 'samsung': 5,\n",
       " 'bih': 2,\n",
       " 'totalwar': 4,\n",
       " 'placeAtlas': 1,\n",
       " 'youtube': 4,\n",
       " 'specialed': 7,\n",
       " 'KeybaseProofs': 2,\n",
       " 'translator': 6,\n",
       " 'PUBATTLEGROUNDS': 3,\n",
       " 'uBlockOrigin': 1,\n",
       " 'Rateme': 2,\n",
       " 'bouldering': 21,\n",
       " 'shmups': 1,\n",
       " 'climbing': 14,\n",
       " 'Watches': 10,\n",
       " 'Ohio': 19,\n",
       " 'Steubenville': 1,\n",
       " 'Trumpgret': 17,\n",
       " 'roadtrip': 2,\n",
       " 'adultswim': 1,\n",
       " 'NoContract': 2,\n",
       " 'SympatheticMonsters': 3,\n",
       " 'trebuchetmemes': 2,\n",
       " 'Enough_Sanders_Spam': 70,\n",
       " 'hmmm': 17,\n",
       " 'MachinePorn': 2,\n",
       " 'screenshots': 1,\n",
       " 'BuildAPCSalesMeta': 1,\n",
       " 'litecoin': 1,\n",
       " '13ReasonsWhy': 1,\n",
       " 'platformer': 1,\n",
       " 'FriendsofthePod': 3,\n",
       " 'betterCallSaul': 1,\n",
       " 'snowboarding': 1,\n",
       " 'roguelites': 2,\n",
       " 'homeowners': 2,\n",
       " 'PerfectTiming': 1,\n",
       " 'YookaLaylee': 2,\n",
       " 'indiegames': 2,\n",
       " 'RhodeIsland': 1,\n",
       " 'PandR': 2,\n",
       " 'languagelearning': 4,\n",
       " 'progrockmusic': 18,\n",
       " 'PUBG': 2,\n",
       " 'quotes': 37,\n",
       " 'volt': 2,\n",
       " 'selfimprovement': 1,\n",
       " 'natureismetal': 4,\n",
       " 'stopdrinking': 25,\n",
       " 'Sneakers': 2,\n",
       " 'guns': 9,\n",
       " 'diet': 1,\n",
       " 'civic': 5,\n",
       " 'Honda': 1,\n",
       " 'whatsthisbug': 5,\n",
       " 'MechanicalKeyboards': 1,\n",
       " 'de': 23,\n",
       " 'IndianCountry': 11,\n",
       " 'intel': 8,\n",
       " 'Scotch': 18,\n",
       " 'gwent': 31,\n",
       " 'CryptoCurrency': 30,\n",
       " 'anthem': 1,\n",
       " 'AskReligion': 1,\n",
       " 'oldpeoplefacebook': 1,\n",
       " 'retrogaming': 2,\n",
       " 'JusticeServed': 4,\n",
       " 'Cricket': 6,\n",
       " 'russia': 30,\n",
       " 'antinatalism': 2,\n",
       " 'askphilosophy': 14,\n",
       " 'Construction': 3,\n",
       " 'teentitans': 1,\n",
       " 'humorousreviews': 3,\n",
       " 'ableton': 3,\n",
       " 'audible': 1,\n",
       " 'askdoctors': 2,\n",
       " 'LDESurvival': 1,\n",
       " 'relationships': 12,\n",
       " 'gamereviews': 2,\n",
       " 'Anarchism': 17,\n",
       " 'AgainstHateSubreddits': 5,\n",
       " 'JapaneseMovies': 1,\n",
       " 'boottoobig': 6,\n",
       " 'Fuckthealtright': 147,\n",
       " 'cats': 73,\n",
       " 'ShitAmericansSay': 98,\n",
       " 'EnoughLibertarianSpam': 3,\n",
       " 'boardgames': 5,\n",
       " 'Yosemite': 2,\n",
       " 'askgaybros': 1,\n",
       " 'gaybros': 2,\n",
       " 'mintsim': 1,\n",
       " 'americangods': 1,\n",
       " 'kia': 2,\n",
       " 'tennis': 2,\n",
       " 'AskNYC': 2,\n",
       " 'SnowyDogs': 1,\n",
       " 'rarepuppers': 124,\n",
       " 'peacecorps': 3,\n",
       " 'boxoffice': 7,\n",
       " 'EARONS': 1,\n",
       " 'itookapicture': 18,\n",
       " 'Colts': 7,\n",
       " 'JRPG': 17,\n",
       " 'LinkinPark': 6,\n",
       " 'skype': 1,\n",
       " 'gurrenlagann': 1,\n",
       " 'survivorau': 3,\n",
       " 'AsABlackMan': 2,\n",
       " 'SkyPorn': 2,\n",
       " 'MildlyVandalised': 1,\n",
       " 'softwaregore': 3,\n",
       " 'ANormalDayInAmerica': 8,\n",
       " 'tacobell': 5,\n",
       " 'GamingVideos': 1,\n",
       " 'PanPorn': 5,\n",
       " 'offmychest': 5,\n",
       " 'assholedesign': 8,\n",
       " 'MakeupRehab': 7,\n",
       " 'maui': 4,\n",
       " 'GamerGhazi': 7,\n",
       " 'TheMeltdown': 1,\n",
       " 'Dunkirk': 1,\n",
       " 'freetoplaygames': 1,\n",
       " 'mkbhd': 1,\n",
       " 'freefolk': 24,\n",
       " 'VillagePorn': 29,\n",
       " 'redalert2': 1,\n",
       " 'TheCatTrapIsWorking': 2,\n",
       " 'aika': 1,\n",
       " 'gamingvids': 1,\n",
       " 'funnyvideos': 1,\n",
       " 'SUBREDDITNAME': 2,\n",
       " 'dishonored': 1,\n",
       " 'JudgeMyAccent': 1,\n",
       " 'ohiopolitics': 2,\n",
       " 'AskScienceDiscussion': 6,\n",
       " 'MarchAgainstNazis': 2,\n",
       " 'buffy': 1,\n",
       " 'Breath_of_the_Wild': 1,\n",
       " 'freebies': 2,\n",
       " 'Broadband': 1,\n",
       " 'Cooking': 3,\n",
       " 'Djent': 2,\n",
       " 'muacirclejerk': 2,\n",
       " 'destiny2': 2,\n",
       " 'Trumpeach': 1,\n",
       " 'Truckers': 6,\n",
       " 'badwomensanatomy': 6,\n",
       " 'berlin': 12,\n",
       " 'PoGoDFW': 2,\n",
       " 'Whiskyporn': 1,\n",
       " 'hitmobile': 1,\n",
       " 'Atmos': 2,\n",
       " 'mumbai': 3,\n",
       " 'RoseBuddies': 1,\n",
       " 'MFPMPPJWFA': 3,\n",
       " 'AirBnB': 1,\n",
       " 'UnresolvedMysteries': 6,\n",
       " 'GameStop': 2,\n",
       " 'keto': 39,\n",
       " 'widowers': 2,\n",
       " 'pcars': 3,\n",
       " 'SonyAlpha': 5,\n",
       " 'ImageStabilization': 2,\n",
       " 'KansasCityChiefs': 5,\n",
       " 'vfx': 1,\n",
       " 'funnysigns': 1,\n",
       " 'netflix': 9,\n",
       " 'IndianGaming': 3,\n",
       " 'Pets': 1,\n",
       " 'ios': 5,\n",
       " 'DCEUleaks': 5,\n",
       " 'bengalcats': 4,\n",
       " 'WoahTunes': 1,\n",
       " 'stabbot': 76,\n",
       " 'CrownFlash': 35,\n",
       " 'angrycatpics': 1,\n",
       " 'newreddits': 3,\n",
       " 'Economics': 30,\n",
       " 'verizon': 2,\n",
       " 'CatsAreAssholes': 1,\n",
       " 'CAguns': 1,\n",
       " 'ChronicPain': 1,\n",
       " 'LeanManufacturing': 3,\n",
       " 'selfies': 4,\n",
       " 'OpenWaterSwimming': 8,\n",
       " 'catpictures': 3,\n",
       " 'indianpeoplefacebook': 10,\n",
       " 'adoptareddit': 1,\n",
       " 'desmoines': 3,\n",
       " 'oneliners': 2,\n",
       " 'GalaxyNote8': 1,\n",
       " 'beholdthemasterrace': 22,\n",
       " 'trashy': 12,\n",
       " 'macro': 1,\n",
       " 'KKKrying': 1,\n",
       " 'GalaxyS8': 1,\n",
       " 'columbia': 1,\n",
       " 'frugalmalefashion': 3,\n",
       " 'Steam_Link': 1,\n",
       " 'torrentlinks': 2,\n",
       " 'ImagesOfCalifornia': 3,\n",
       " 'macrophoto': 1,\n",
       " 'thatHappened': 3,\n",
       " 'whiteeurope': 1,\n",
       " 'Catloaf': 2,\n",
       " 'maybemaybemaybe': 3,\n",
       " 'CHICubs': 1,\n",
       " 'Banshee': 2,\n",
       " 'ainbow': 1,\n",
       " 'vegan': 3,\n",
       " 'catbellies': 4,\n",
       " 'facepalm': 8,\n",
       " 'RightwingLGBT': 1,\n",
       " 'HumansBeingBros': 5,\n",
       " 'fakealbumcovers': 1,\n",
       " 'redditrequest': 2,\n",
       " 'nSuns': 1,\n",
       " 'mildlyinfuriating': 13,\n",
       " 'ofcoursethatsathing': 1,\n",
       " 'phishing': 1,\n",
       " 'NoStupidQuestions': 22,\n",
       " 'buddhiststudies': 1,\n",
       " 'MBMBAM': 6,\n",
       " 'running': 1,\n",
       " 'tuckedinkitties': 2,\n",
       " 'asianamerican': 3,\n",
       " 'ABCDesis': 4,\n",
       " 'TrueChristian': 5,\n",
       " 'aphorisms': 1,\n",
       " 'CozyPlaces': 2,\n",
       " 'KoreanFood': 2,\n",
       " 'MiniMetro': 2,\n",
       " 'HadesStar': 3,\n",
       " 'Whatcouldgowrong': 10,\n",
       " 'Blizzard': 1,\n",
       " 'rainymood': 6,\n",
       " 'horror': 43,\n",
       " 'IndieFolk': 4,\n",
       " 'indie': 4,\n",
       " 'folk': 2,\n",
       " 'lofi': 4,\n",
       " 'cirkeltrek': 14,\n",
       " 'insanepeoplefacebook': 23,\n",
       " 'pacers': 2,\n",
       " 'FortNiteBR': 95,\n",
       " 'u_Kahzgul': 8,\n",
       " 'RussiaLago': 7,\n",
       " 'CatTaps': 1,\n",
       " 'neoliberal': 1,\n",
       " 'electroplating': 1,\n",
       " 'postrock': 2,\n",
       " 'WhiteTerror': 6,\n",
       " 'AccidentalWesAnderson': 5,\n",
       " 'BeardAdvice': 1,\n",
       " 'badphilosophy': 1,\n",
       " 'WordAvalanches': 1,\n",
       " 'meirl': 5,\n",
       " 'Novusphere': 42,\n",
       " 'Republican': 1,\n",
       " 'hajimenoippo': 2,\n",
       " 'sleep': 1,\n",
       " 'niceguys': 3,\n",
       " 'syriancivilwar': 9,\n",
       " 'sneakermarket': 2,\n",
       " 'DivinityOriginalSin': 1,\n",
       " 'ukraina': 1,\n",
       " 'ukraine': 2,\n",
       " 'chile': 2,\n",
       " 'Repsneakers': 2,\n",
       " 'badlinguistics': 2,\n",
       " 'uniqlo': 2,\n",
       " 'indieheads': 5,\n",
       " 'thenetherlands': 25,\n",
       " 'europe': 229,\n",
       " ...}"
      ]
     },
     "execution_count": 38,
     "metadata": {},
     "output_type": "execute_result"
    }
   ],
   "source": [
    "subreddits"
   ]
  },
  {
   "cell_type": "code",
   "execution_count": 39,
   "metadata": {},
   "outputs": [],
   "source": [
    "data = {'subreddits': list(subreddits.keys()), 'count': list(subreddits.values())}"
   ]
  },
  {
   "cell_type": "code",
   "execution_count": 41,
   "metadata": {},
   "outputs": [],
   "source": [
    "subreddits_df = pd.DataFrame.from_dict(data)"
   ]
  },
  {
   "cell_type": "code",
   "execution_count": 45,
   "metadata": {},
   "outputs": [],
   "source": [
    "sub = subreddits_df.sort_values(by=['count'], ascending=False)"
   ]
  },
  {
   "cell_type": "code",
   "execution_count": 47,
   "metadata": {},
   "outputs": [
    {
     "data": {
      "application/vnd.plotly.v1+json": {
       "config": {
        "plotlyServerURL": "https://plot.ly"
       },
       "data": [
        {
         "domain": {
          "x": [
           0,
           1
          ],
          "y": [
           0,
           1
          ]
         },
         "hovertemplate": "subreddits=%{label}<br>count=%{value}<extra></extra>",
         "labels": [
          "Coronavirus",
          "AskReddit",
          "Denmark",
          "politics",
          "China_Flu",
          "fOuNdThEmObIIeUsEr",
          "worldnews",
          "leafs",
          "Christianity",
          "Philippines",
          "hockey",
          "aww",
          "CoronavirusNPolitix",
          "worldpolitics",
          "WayOfTheBern"
         ],
         "legendgroup": "",
         "name": "",
         "showlegend": true,
         "type": "pie",
         "values": [
          3284,
          954,
          751,
          645,
          643,
          635,
          445,
          423,
          355,
          342,
          337,
          309,
          263,
          261,
          245
         ]
        }
       ],
       "layout": {
        "legend": {
         "tracegroupgap": 0
        },
        "template": {
         "data": {
          "bar": [
           {
            "error_x": {
             "color": "#2a3f5f"
            },
            "error_y": {
             "color": "#2a3f5f"
            },
            "marker": {
             "line": {
              "color": "#E5ECF6",
              "width": 0.5
             }
            },
            "type": "bar"
           }
          ],
          "barpolar": [
           {
            "marker": {
             "line": {
              "color": "#E5ECF6",
              "width": 0.5
             }
            },
            "type": "barpolar"
           }
          ],
          "carpet": [
           {
            "aaxis": {
             "endlinecolor": "#2a3f5f",
             "gridcolor": "white",
             "linecolor": "white",
             "minorgridcolor": "white",
             "startlinecolor": "#2a3f5f"
            },
            "baxis": {
             "endlinecolor": "#2a3f5f",
             "gridcolor": "white",
             "linecolor": "white",
             "minorgridcolor": "white",
             "startlinecolor": "#2a3f5f"
            },
            "type": "carpet"
           }
          ],
          "choropleth": [
           {
            "colorbar": {
             "outlinewidth": 0,
             "ticks": ""
            },
            "type": "choropleth"
           }
          ],
          "contour": [
           {
            "colorbar": {
             "outlinewidth": 0,
             "ticks": ""
            },
            "colorscale": [
             [
              0,
              "#0d0887"
             ],
             [
              0.1111111111111111,
              "#46039f"
             ],
             [
              0.2222222222222222,
              "#7201a8"
             ],
             [
              0.3333333333333333,
              "#9c179e"
             ],
             [
              0.4444444444444444,
              "#bd3786"
             ],
             [
              0.5555555555555556,
              "#d8576b"
             ],
             [
              0.6666666666666666,
              "#ed7953"
             ],
             [
              0.7777777777777778,
              "#fb9f3a"
             ],
             [
              0.8888888888888888,
              "#fdca26"
             ],
             [
              1,
              "#f0f921"
             ]
            ],
            "type": "contour"
           }
          ],
          "contourcarpet": [
           {
            "colorbar": {
             "outlinewidth": 0,
             "ticks": ""
            },
            "type": "contourcarpet"
           }
          ],
          "heatmap": [
           {
            "colorbar": {
             "outlinewidth": 0,
             "ticks": ""
            },
            "colorscale": [
             [
              0,
              "#0d0887"
             ],
             [
              0.1111111111111111,
              "#46039f"
             ],
             [
              0.2222222222222222,
              "#7201a8"
             ],
             [
              0.3333333333333333,
              "#9c179e"
             ],
             [
              0.4444444444444444,
              "#bd3786"
             ],
             [
              0.5555555555555556,
              "#d8576b"
             ],
             [
              0.6666666666666666,
              "#ed7953"
             ],
             [
              0.7777777777777778,
              "#fb9f3a"
             ],
             [
              0.8888888888888888,
              "#fdca26"
             ],
             [
              1,
              "#f0f921"
             ]
            ],
            "type": "heatmap"
           }
          ],
          "heatmapgl": [
           {
            "colorbar": {
             "outlinewidth": 0,
             "ticks": ""
            },
            "colorscale": [
             [
              0,
              "#0d0887"
             ],
             [
              0.1111111111111111,
              "#46039f"
             ],
             [
              0.2222222222222222,
              "#7201a8"
             ],
             [
              0.3333333333333333,
              "#9c179e"
             ],
             [
              0.4444444444444444,
              "#bd3786"
             ],
             [
              0.5555555555555556,
              "#d8576b"
             ],
             [
              0.6666666666666666,
              "#ed7953"
             ],
             [
              0.7777777777777778,
              "#fb9f3a"
             ],
             [
              0.8888888888888888,
              "#fdca26"
             ],
             [
              1,
              "#f0f921"
             ]
            ],
            "type": "heatmapgl"
           }
          ],
          "histogram": [
           {
            "marker": {
             "colorbar": {
              "outlinewidth": 0,
              "ticks": ""
             }
            },
            "type": "histogram"
           }
          ],
          "histogram2d": [
           {
            "colorbar": {
             "outlinewidth": 0,
             "ticks": ""
            },
            "colorscale": [
             [
              0,
              "#0d0887"
             ],
             [
              0.1111111111111111,
              "#46039f"
             ],
             [
              0.2222222222222222,
              "#7201a8"
             ],
             [
              0.3333333333333333,
              "#9c179e"
             ],
             [
              0.4444444444444444,
              "#bd3786"
             ],
             [
              0.5555555555555556,
              "#d8576b"
             ],
             [
              0.6666666666666666,
              "#ed7953"
             ],
             [
              0.7777777777777778,
              "#fb9f3a"
             ],
             [
              0.8888888888888888,
              "#fdca26"
             ],
             [
              1,
              "#f0f921"
             ]
            ],
            "type": "histogram2d"
           }
          ],
          "histogram2dcontour": [
           {
            "colorbar": {
             "outlinewidth": 0,
             "ticks": ""
            },
            "colorscale": [
             [
              0,
              "#0d0887"
             ],
             [
              0.1111111111111111,
              "#46039f"
             ],
             [
              0.2222222222222222,
              "#7201a8"
             ],
             [
              0.3333333333333333,
              "#9c179e"
             ],
             [
              0.4444444444444444,
              "#bd3786"
             ],
             [
              0.5555555555555556,
              "#d8576b"
             ],
             [
              0.6666666666666666,
              "#ed7953"
             ],
             [
              0.7777777777777778,
              "#fb9f3a"
             ],
             [
              0.8888888888888888,
              "#fdca26"
             ],
             [
              1,
              "#f0f921"
             ]
            ],
            "type": "histogram2dcontour"
           }
          ],
          "mesh3d": [
           {
            "colorbar": {
             "outlinewidth": 0,
             "ticks": ""
            },
            "type": "mesh3d"
           }
          ],
          "parcoords": [
           {
            "line": {
             "colorbar": {
              "outlinewidth": 0,
              "ticks": ""
             }
            },
            "type": "parcoords"
           }
          ],
          "pie": [
           {
            "automargin": true,
            "type": "pie"
           }
          ],
          "scatter": [
           {
            "marker": {
             "colorbar": {
              "outlinewidth": 0,
              "ticks": ""
             }
            },
            "type": "scatter"
           }
          ],
          "scatter3d": [
           {
            "line": {
             "colorbar": {
              "outlinewidth": 0,
              "ticks": ""
             }
            },
            "marker": {
             "colorbar": {
              "outlinewidth": 0,
              "ticks": ""
             }
            },
            "type": "scatter3d"
           }
          ],
          "scattercarpet": [
           {
            "marker": {
             "colorbar": {
              "outlinewidth": 0,
              "ticks": ""
             }
            },
            "type": "scattercarpet"
           }
          ],
          "scattergeo": [
           {
            "marker": {
             "colorbar": {
              "outlinewidth": 0,
              "ticks": ""
             }
            },
            "type": "scattergeo"
           }
          ],
          "scattergl": [
           {
            "marker": {
             "colorbar": {
              "outlinewidth": 0,
              "ticks": ""
             }
            },
            "type": "scattergl"
           }
          ],
          "scattermapbox": [
           {
            "marker": {
             "colorbar": {
              "outlinewidth": 0,
              "ticks": ""
             }
            },
            "type": "scattermapbox"
           }
          ],
          "scatterpolar": [
           {
            "marker": {
             "colorbar": {
              "outlinewidth": 0,
              "ticks": ""
             }
            },
            "type": "scatterpolar"
           }
          ],
          "scatterpolargl": [
           {
            "marker": {
             "colorbar": {
              "outlinewidth": 0,
              "ticks": ""
             }
            },
            "type": "scatterpolargl"
           }
          ],
          "scatterternary": [
           {
            "marker": {
             "colorbar": {
              "outlinewidth": 0,
              "ticks": ""
             }
            },
            "type": "scatterternary"
           }
          ],
          "surface": [
           {
            "colorbar": {
             "outlinewidth": 0,
             "ticks": ""
            },
            "colorscale": [
             [
              0,
              "#0d0887"
             ],
             [
              0.1111111111111111,
              "#46039f"
             ],
             [
              0.2222222222222222,
              "#7201a8"
             ],
             [
              0.3333333333333333,
              "#9c179e"
             ],
             [
              0.4444444444444444,
              "#bd3786"
             ],
             [
              0.5555555555555556,
              "#d8576b"
             ],
             [
              0.6666666666666666,
              "#ed7953"
             ],
             [
              0.7777777777777778,
              "#fb9f3a"
             ],
             [
              0.8888888888888888,
              "#fdca26"
             ],
             [
              1,
              "#f0f921"
             ]
            ],
            "type": "surface"
           }
          ],
          "table": [
           {
            "cells": {
             "fill": {
              "color": "#EBF0F8"
             },
             "line": {
              "color": "white"
             }
            },
            "header": {
             "fill": {
              "color": "#C8D4E3"
             },
             "line": {
              "color": "white"
             }
            },
            "type": "table"
           }
          ]
         },
         "layout": {
          "annotationdefaults": {
           "arrowcolor": "#2a3f5f",
           "arrowhead": 0,
           "arrowwidth": 1
          },
          "coloraxis": {
           "colorbar": {
            "outlinewidth": 0,
            "ticks": ""
           }
          },
          "colorscale": {
           "diverging": [
            [
             0,
             "#8e0152"
            ],
            [
             0.1,
             "#c51b7d"
            ],
            [
             0.2,
             "#de77ae"
            ],
            [
             0.3,
             "#f1b6da"
            ],
            [
             0.4,
             "#fde0ef"
            ],
            [
             0.5,
             "#f7f7f7"
            ],
            [
             0.6,
             "#e6f5d0"
            ],
            [
             0.7,
             "#b8e186"
            ],
            [
             0.8,
             "#7fbc41"
            ],
            [
             0.9,
             "#4d9221"
            ],
            [
             1,
             "#276419"
            ]
           ],
           "sequential": [
            [
             0,
             "#0d0887"
            ],
            [
             0.1111111111111111,
             "#46039f"
            ],
            [
             0.2222222222222222,
             "#7201a8"
            ],
            [
             0.3333333333333333,
             "#9c179e"
            ],
            [
             0.4444444444444444,
             "#bd3786"
            ],
            [
             0.5555555555555556,
             "#d8576b"
            ],
            [
             0.6666666666666666,
             "#ed7953"
            ],
            [
             0.7777777777777778,
             "#fb9f3a"
            ],
            [
             0.8888888888888888,
             "#fdca26"
            ],
            [
             1,
             "#f0f921"
            ]
           ],
           "sequentialminus": [
            [
             0,
             "#0d0887"
            ],
            [
             0.1111111111111111,
             "#46039f"
            ],
            [
             0.2222222222222222,
             "#7201a8"
            ],
            [
             0.3333333333333333,
             "#9c179e"
            ],
            [
             0.4444444444444444,
             "#bd3786"
            ],
            [
             0.5555555555555556,
             "#d8576b"
            ],
            [
             0.6666666666666666,
             "#ed7953"
            ],
            [
             0.7777777777777778,
             "#fb9f3a"
            ],
            [
             0.8888888888888888,
             "#fdca26"
            ],
            [
             1,
             "#f0f921"
            ]
           ]
          },
          "colorway": [
           "#636efa",
           "#EF553B",
           "#00cc96",
           "#ab63fa",
           "#FFA15A",
           "#19d3f3",
           "#FF6692",
           "#B6E880",
           "#FF97FF",
           "#FECB52"
          ],
          "font": {
           "color": "#2a3f5f"
          },
          "geo": {
           "bgcolor": "white",
           "lakecolor": "white",
           "landcolor": "#E5ECF6",
           "showlakes": true,
           "showland": true,
           "subunitcolor": "white"
          },
          "hoverlabel": {
           "align": "left"
          },
          "hovermode": "closest",
          "mapbox": {
           "style": "light"
          },
          "paper_bgcolor": "white",
          "plot_bgcolor": "#E5ECF6",
          "polar": {
           "angularaxis": {
            "gridcolor": "white",
            "linecolor": "white",
            "ticks": ""
           },
           "bgcolor": "#E5ECF6",
           "radialaxis": {
            "gridcolor": "white",
            "linecolor": "white",
            "ticks": ""
           }
          },
          "scene": {
           "xaxis": {
            "backgroundcolor": "#E5ECF6",
            "gridcolor": "white",
            "gridwidth": 2,
            "linecolor": "white",
            "showbackground": true,
            "ticks": "",
            "zerolinecolor": "white"
           },
           "yaxis": {
            "backgroundcolor": "#E5ECF6",
            "gridcolor": "white",
            "gridwidth": 2,
            "linecolor": "white",
            "showbackground": true,
            "ticks": "",
            "zerolinecolor": "white"
           },
           "zaxis": {
            "backgroundcolor": "#E5ECF6",
            "gridcolor": "white",
            "gridwidth": 2,
            "linecolor": "white",
            "showbackground": true,
            "ticks": "",
            "zerolinecolor": "white"
           }
          },
          "shapedefaults": {
           "line": {
            "color": "#2a3f5f"
           }
          },
          "ternary": {
           "aaxis": {
            "gridcolor": "white",
            "linecolor": "white",
            "ticks": ""
           },
           "baxis": {
            "gridcolor": "white",
            "linecolor": "white",
            "ticks": ""
           },
           "bgcolor": "#E5ECF6",
           "caxis": {
            "gridcolor": "white",
            "linecolor": "white",
            "ticks": ""
           }
          },
          "title": {
           "x": 0.05
          },
          "xaxis": {
           "automargin": true,
           "gridcolor": "white",
           "linecolor": "white",
           "ticks": "",
           "title": {
            "standoff": 15
           },
           "zerolinecolor": "white",
           "zerolinewidth": 2
          },
          "yaxis": {
           "automargin": true,
           "gridcolor": "white",
           "linecolor": "white",
           "ticks": "",
           "title": {
            "standoff": 15
           },
           "zerolinecolor": "white",
           "zerolinewidth": 2
          }
         }
        },
        "title": {
         "text": "Audience profiling"
        }
       }
      },
      "text/html": [
       "<div>\n",
       "        \n",
       "        \n",
       "            <div id=\"80f60390-f80e-4ce0-a76b-8bddacb62faf\" class=\"plotly-graph-div\" style=\"height:525px; width:100%;\"></div>\n",
       "            <script type=\"text/javascript\">\n",
       "                require([\"plotly\"], function(Plotly) {\n",
       "                    window.PLOTLYENV=window.PLOTLYENV || {};\n",
       "                    \n",
       "                if (document.getElementById(\"80f60390-f80e-4ce0-a76b-8bddacb62faf\")) {\n",
       "                    Plotly.newPlot(\n",
       "                        '80f60390-f80e-4ce0-a76b-8bddacb62faf',\n",
       "                        [{\"domain\": {\"x\": [0.0, 1.0], \"y\": [0.0, 1.0]}, \"hovertemplate\": \"subreddits=%{label}<br>count=%{value}<extra></extra>\", \"labels\": [\"Coronavirus\", \"AskReddit\", \"Denmark\", \"politics\", \"China_Flu\", \"fOuNdThEmObIIeUsEr\", \"worldnews\", \"leafs\", \"Christianity\", \"Philippines\", \"hockey\", \"aww\", \"CoronavirusNPolitix\", \"worldpolitics\", \"WayOfTheBern\"], \"legendgroup\": \"\", \"name\": \"\", \"showlegend\": true, \"type\": \"pie\", \"values\": [3284, 954, 751, 645, 643, 635, 445, 423, 355, 342, 337, 309, 263, 261, 245]}],\n",
       "                        {\"legend\": {\"tracegroupgap\": 0}, \"template\": {\"data\": {\"bar\": [{\"error_x\": {\"color\": \"#2a3f5f\"}, \"error_y\": {\"color\": \"#2a3f5f\"}, \"marker\": {\"line\": {\"color\": \"#E5ECF6\", \"width\": 0.5}}, \"type\": \"bar\"}], \"barpolar\": [{\"marker\": {\"line\": {\"color\": \"#E5ECF6\", \"width\": 0.5}}, \"type\": \"barpolar\"}], \"carpet\": [{\"aaxis\": {\"endlinecolor\": \"#2a3f5f\", \"gridcolor\": \"white\", \"linecolor\": \"white\", \"minorgridcolor\": \"white\", \"startlinecolor\": \"#2a3f5f\"}, \"baxis\": {\"endlinecolor\": \"#2a3f5f\", \"gridcolor\": \"white\", \"linecolor\": \"white\", \"minorgridcolor\": \"white\", \"startlinecolor\": \"#2a3f5f\"}, \"type\": \"carpet\"}], \"choropleth\": [{\"colorbar\": {\"outlinewidth\": 0, \"ticks\": \"\"}, \"type\": \"choropleth\"}], \"contour\": [{\"colorbar\": {\"outlinewidth\": 0, \"ticks\": \"\"}, \"colorscale\": [[0.0, \"#0d0887\"], [0.1111111111111111, \"#46039f\"], [0.2222222222222222, \"#7201a8\"], [0.3333333333333333, \"#9c179e\"], [0.4444444444444444, \"#bd3786\"], [0.5555555555555556, \"#d8576b\"], [0.6666666666666666, \"#ed7953\"], [0.7777777777777778, \"#fb9f3a\"], [0.8888888888888888, \"#fdca26\"], [1.0, \"#f0f921\"]], \"type\": \"contour\"}], \"contourcarpet\": [{\"colorbar\": {\"outlinewidth\": 0, \"ticks\": \"\"}, \"type\": \"contourcarpet\"}], \"heatmap\": [{\"colorbar\": {\"outlinewidth\": 0, \"ticks\": \"\"}, \"colorscale\": [[0.0, \"#0d0887\"], [0.1111111111111111, \"#46039f\"], [0.2222222222222222, \"#7201a8\"], [0.3333333333333333, \"#9c179e\"], [0.4444444444444444, \"#bd3786\"], [0.5555555555555556, \"#d8576b\"], [0.6666666666666666, \"#ed7953\"], [0.7777777777777778, \"#fb9f3a\"], [0.8888888888888888, \"#fdca26\"], [1.0, \"#f0f921\"]], \"type\": \"heatmap\"}], \"heatmapgl\": [{\"colorbar\": {\"outlinewidth\": 0, \"ticks\": \"\"}, \"colorscale\": [[0.0, \"#0d0887\"], [0.1111111111111111, \"#46039f\"], [0.2222222222222222, \"#7201a8\"], [0.3333333333333333, \"#9c179e\"], [0.4444444444444444, \"#bd3786\"], [0.5555555555555556, \"#d8576b\"], [0.6666666666666666, \"#ed7953\"], [0.7777777777777778, \"#fb9f3a\"], [0.8888888888888888, \"#fdca26\"], [1.0, \"#f0f921\"]], \"type\": \"heatmapgl\"}], \"histogram\": [{\"marker\": {\"colorbar\": {\"outlinewidth\": 0, \"ticks\": \"\"}}, \"type\": \"histogram\"}], \"histogram2d\": [{\"colorbar\": {\"outlinewidth\": 0, \"ticks\": \"\"}, \"colorscale\": [[0.0, \"#0d0887\"], [0.1111111111111111, \"#46039f\"], [0.2222222222222222, \"#7201a8\"], [0.3333333333333333, \"#9c179e\"], [0.4444444444444444, \"#bd3786\"], [0.5555555555555556, \"#d8576b\"], [0.6666666666666666, \"#ed7953\"], [0.7777777777777778, \"#fb9f3a\"], [0.8888888888888888, \"#fdca26\"], [1.0, \"#f0f921\"]], \"type\": \"histogram2d\"}], \"histogram2dcontour\": [{\"colorbar\": {\"outlinewidth\": 0, \"ticks\": \"\"}, \"colorscale\": [[0.0, \"#0d0887\"], [0.1111111111111111, \"#46039f\"], [0.2222222222222222, \"#7201a8\"], [0.3333333333333333, \"#9c179e\"], [0.4444444444444444, \"#bd3786\"], [0.5555555555555556, \"#d8576b\"], [0.6666666666666666, \"#ed7953\"], [0.7777777777777778, \"#fb9f3a\"], [0.8888888888888888, \"#fdca26\"], [1.0, \"#f0f921\"]], \"type\": \"histogram2dcontour\"}], \"mesh3d\": [{\"colorbar\": {\"outlinewidth\": 0, \"ticks\": \"\"}, \"type\": \"mesh3d\"}], \"parcoords\": [{\"line\": {\"colorbar\": {\"outlinewidth\": 0, \"ticks\": \"\"}}, \"type\": \"parcoords\"}], \"pie\": [{\"automargin\": true, \"type\": \"pie\"}], \"scatter\": [{\"marker\": {\"colorbar\": {\"outlinewidth\": 0, \"ticks\": \"\"}}, \"type\": \"scatter\"}], \"scatter3d\": [{\"line\": {\"colorbar\": {\"outlinewidth\": 0, \"ticks\": \"\"}}, \"marker\": {\"colorbar\": {\"outlinewidth\": 0, \"ticks\": \"\"}}, \"type\": \"scatter3d\"}], \"scattercarpet\": [{\"marker\": {\"colorbar\": {\"outlinewidth\": 0, \"ticks\": \"\"}}, \"type\": \"scattercarpet\"}], \"scattergeo\": [{\"marker\": {\"colorbar\": {\"outlinewidth\": 0, \"ticks\": \"\"}}, \"type\": \"scattergeo\"}], \"scattergl\": [{\"marker\": {\"colorbar\": {\"outlinewidth\": 0, \"ticks\": \"\"}}, \"type\": \"scattergl\"}], \"scattermapbox\": [{\"marker\": {\"colorbar\": {\"outlinewidth\": 0, \"ticks\": \"\"}}, \"type\": \"scattermapbox\"}], \"scatterpolar\": [{\"marker\": {\"colorbar\": {\"outlinewidth\": 0, \"ticks\": \"\"}}, \"type\": \"scatterpolar\"}], \"scatterpolargl\": [{\"marker\": {\"colorbar\": {\"outlinewidth\": 0, \"ticks\": \"\"}}, \"type\": \"scatterpolargl\"}], \"scatterternary\": [{\"marker\": {\"colorbar\": {\"outlinewidth\": 0, \"ticks\": \"\"}}, \"type\": \"scatterternary\"}], \"surface\": [{\"colorbar\": {\"outlinewidth\": 0, \"ticks\": \"\"}, \"colorscale\": [[0.0, \"#0d0887\"], [0.1111111111111111, \"#46039f\"], [0.2222222222222222, \"#7201a8\"], [0.3333333333333333, \"#9c179e\"], [0.4444444444444444, \"#bd3786\"], [0.5555555555555556, \"#d8576b\"], [0.6666666666666666, \"#ed7953\"], [0.7777777777777778, \"#fb9f3a\"], [0.8888888888888888, \"#fdca26\"], [1.0, \"#f0f921\"]], \"type\": \"surface\"}], \"table\": [{\"cells\": {\"fill\": {\"color\": \"#EBF0F8\"}, \"line\": {\"color\": \"white\"}}, \"header\": {\"fill\": {\"color\": \"#C8D4E3\"}, \"line\": {\"color\": \"white\"}}, \"type\": \"table\"}]}, \"layout\": {\"annotationdefaults\": {\"arrowcolor\": \"#2a3f5f\", \"arrowhead\": 0, \"arrowwidth\": 1}, \"coloraxis\": {\"colorbar\": {\"outlinewidth\": 0, \"ticks\": \"\"}}, \"colorscale\": {\"diverging\": [[0, \"#8e0152\"], [0.1, \"#c51b7d\"], [0.2, \"#de77ae\"], [0.3, \"#f1b6da\"], [0.4, \"#fde0ef\"], [0.5, \"#f7f7f7\"], [0.6, \"#e6f5d0\"], [0.7, \"#b8e186\"], [0.8, \"#7fbc41\"], [0.9, \"#4d9221\"], [1, \"#276419\"]], \"sequential\": [[0.0, \"#0d0887\"], [0.1111111111111111, \"#46039f\"], [0.2222222222222222, \"#7201a8\"], [0.3333333333333333, \"#9c179e\"], [0.4444444444444444, \"#bd3786\"], [0.5555555555555556, \"#d8576b\"], [0.6666666666666666, \"#ed7953\"], [0.7777777777777778, \"#fb9f3a\"], [0.8888888888888888, \"#fdca26\"], [1.0, \"#f0f921\"]], \"sequentialminus\": [[0.0, \"#0d0887\"], [0.1111111111111111, \"#46039f\"], [0.2222222222222222, \"#7201a8\"], [0.3333333333333333, \"#9c179e\"], [0.4444444444444444, \"#bd3786\"], [0.5555555555555556, \"#d8576b\"], [0.6666666666666666, \"#ed7953\"], [0.7777777777777778, \"#fb9f3a\"], [0.8888888888888888, \"#fdca26\"], [1.0, \"#f0f921\"]]}, \"colorway\": [\"#636efa\", \"#EF553B\", \"#00cc96\", \"#ab63fa\", \"#FFA15A\", \"#19d3f3\", \"#FF6692\", \"#B6E880\", \"#FF97FF\", \"#FECB52\"], \"font\": {\"color\": \"#2a3f5f\"}, \"geo\": {\"bgcolor\": \"white\", \"lakecolor\": \"white\", \"landcolor\": \"#E5ECF6\", \"showlakes\": true, \"showland\": true, \"subunitcolor\": \"white\"}, \"hoverlabel\": {\"align\": \"left\"}, \"hovermode\": \"closest\", \"mapbox\": {\"style\": \"light\"}, \"paper_bgcolor\": \"white\", \"plot_bgcolor\": \"#E5ECF6\", \"polar\": {\"angularaxis\": {\"gridcolor\": \"white\", \"linecolor\": \"white\", \"ticks\": \"\"}, \"bgcolor\": \"#E5ECF6\", \"radialaxis\": {\"gridcolor\": \"white\", \"linecolor\": \"white\", \"ticks\": \"\"}}, \"scene\": {\"xaxis\": {\"backgroundcolor\": \"#E5ECF6\", \"gridcolor\": \"white\", \"gridwidth\": 2, \"linecolor\": \"white\", \"showbackground\": true, \"ticks\": \"\", \"zerolinecolor\": \"white\"}, \"yaxis\": {\"backgroundcolor\": \"#E5ECF6\", \"gridcolor\": \"white\", \"gridwidth\": 2, \"linecolor\": \"white\", \"showbackground\": true, \"ticks\": \"\", \"zerolinecolor\": \"white\"}, \"zaxis\": {\"backgroundcolor\": \"#E5ECF6\", \"gridcolor\": \"white\", \"gridwidth\": 2, \"linecolor\": \"white\", \"showbackground\": true, \"ticks\": \"\", \"zerolinecolor\": \"white\"}}, \"shapedefaults\": {\"line\": {\"color\": \"#2a3f5f\"}}, \"ternary\": {\"aaxis\": {\"gridcolor\": \"white\", \"linecolor\": \"white\", \"ticks\": \"\"}, \"baxis\": {\"gridcolor\": \"white\", \"linecolor\": \"white\", \"ticks\": \"\"}, \"bgcolor\": \"#E5ECF6\", \"caxis\": {\"gridcolor\": \"white\", \"linecolor\": \"white\", \"ticks\": \"\"}}, \"title\": {\"x\": 0.05}, \"xaxis\": {\"automargin\": true, \"gridcolor\": \"white\", \"linecolor\": \"white\", \"ticks\": \"\", \"title\": {\"standoff\": 15}, \"zerolinecolor\": \"white\", \"zerolinewidth\": 2}, \"yaxis\": {\"automargin\": true, \"gridcolor\": \"white\", \"linecolor\": \"white\", \"ticks\": \"\", \"title\": {\"standoff\": 15}, \"zerolinecolor\": \"white\", \"zerolinewidth\": 2}}}, \"title\": {\"text\": \"Audience profiling\"}},\n",
       "                        {\"responsive\": true}\n",
       "                    ).then(function(){\n",
       "                            \n",
       "var gd = document.getElementById('80f60390-f80e-4ce0-a76b-8bddacb62faf');\n",
       "var x = new MutationObserver(function (mutations, observer) {{\n",
       "        var display = window.getComputedStyle(gd).display;\n",
       "        if (!display || display === 'none') {{\n",
       "            console.log([gd, 'removed!']);\n",
       "            Plotly.purge(gd);\n",
       "            observer.disconnect();\n",
       "        }}\n",
       "}});\n",
       "\n",
       "// Listen for the removal of the full notebook cells\n",
       "var notebookContainer = gd.closest('#notebook-container');\n",
       "if (notebookContainer) {{\n",
       "    x.observe(notebookContainer, {childList: true});\n",
       "}}\n",
       "\n",
       "// Listen for the clearing of the current output cell\n",
       "var outputEl = gd.closest('.output');\n",
       "if (outputEl) {{\n",
       "    x.observe(outputEl, {childList: true});\n",
       "}}\n",
       "\n",
       "                        })\n",
       "                };\n",
       "                });\n",
       "            </script>\n",
       "        </div>"
      ]
     },
     "metadata": {},
     "output_type": "display_data"
    }
   ],
   "source": [
    "import plotly.express as px\n",
    "\n",
    "fig = px.pie(sub[:15], values='count', names='subreddits', title='Audience profiling')\n",
    "fig.show()"
   ]
  },
  {
   "cell_type": "markdown",
   "metadata": {},
   "source": [
    "# The most controversial audience"
   ]
  },
  {
   "cell_type": "code",
   "execution_count": 102,
   "metadata": {},
   "outputs": [],
   "source": [
    "pd.set_option('display.max_colwidth', 500)"
   ]
  },
  {
   "cell_type": "code",
   "execution_count": 103,
   "metadata": {},
   "outputs": [],
   "source": [
    "query = \"SELECT * FROM coronavirus_comments cv INNER JOIN user u ON cv.author_id = u.id ;\"\n",
    "user_df = pd.read_sql_query(query, conn)"
   ]
  },
  {
   "cell_type": "code",
   "execution_count": 104,
   "metadata": {},
   "outputs": [
    {
     "data": {
      "text/html": [
       "<div>\n",
       "<style scoped>\n",
       "    .dataframe tbody tr th:only-of-type {\n",
       "        vertical-align: middle;\n",
       "    }\n",
       "\n",
       "    .dataframe tbody tr th {\n",
       "        vertical-align: top;\n",
       "    }\n",
       "\n",
       "    .dataframe thead th {\n",
       "        text-align: right;\n",
       "    }\n",
       "</style>\n",
       "<table border=\"1\" class=\"dataframe\">\n",
       "  <thead>\n",
       "    <tr style=\"text-align: right;\">\n",
       "      <th></th>\n",
       "      <th>name</th>\n",
       "      <th>ups</th>\n",
       "      <th>body</th>\n",
       "    </tr>\n",
       "  </thead>\n",
       "  <tbody>\n",
       "    <tr>\n",
       "      <td>2465</td>\n",
       "      <td>coagulated_cumquats</td>\n",
       "      <td>-244</td>\n",
       "      <td>Le's celebrate someone being sent to jail and having a much higher chance of catching a deadly virus because they had the temerity to want to keep working and not lose their business\\n\\nyay...</td>\n",
       "    </tr>\n",
       "    <tr>\n",
       "      <td>2825</td>\n",
       "      <td>AshingiiAshuaa</td>\n",
       "      <td>-173</td>\n",
       "      <td>He's only at risk if he's infected.  I'm sure he's tested daily.\\n\\nEdit: he's only at risk *of infecting others*.  Nobody is going to catch the 'rona from the president.</td>\n",
       "    </tr>\n",
       "    <tr>\n",
       "      <td>2507</td>\n",
       "      <td>Panther125</td>\n",
       "      <td>-164</td>\n",
       "      <td>LOL of course personal income is important... stop acting like its nothing. Everyone is gangsta until they run out of money...</td>\n",
       "    </tr>\n",
       "    <tr>\n",
       "      <td>2920</td>\n",
       "      <td>ventingin2020</td>\n",
       "      <td>-99</td>\n",
       "      <td>You’re going to get downvoted because you’re using common sense &amp; speaking favorable when it comes to the president. \\n\\nI’m sure he’s tested more frequently than we can imagine. \\n\\nCan’t put people at risk for the virus if you don’t have the virus lol.</td>\n",
       "    </tr>\n",
       "    <tr>\n",
       "      <td>2689</td>\n",
       "      <td>--IdiotSavant--</td>\n",
       "      <td>-94</td>\n",
       "      <td>So what?</td>\n",
       "    </tr>\n",
       "    <tr>\n",
       "      <td>2690</td>\n",
       "      <td>Panther125</td>\n",
       "      <td>-74</td>\n",
       "      <td>I think I would find a way...</td>\n",
       "    </tr>\n",
       "    <tr>\n",
       "      <td>9532</td>\n",
       "      <td>RegretNothing1</td>\n",
       "      <td>-70</td>\n",
       "      <td>People still think a vaccine is possible? People, we can’t even cure colds and regular flu let alone most every other virus. This won’t be a thing and when it is, it will be a scam.</td>\n",
       "    </tr>\n",
       "    <tr>\n",
       "      <td>2894</td>\n",
       "      <td>AshingiiAshuaa</td>\n",
       "      <td>-68</td>\n",
       "      <td>But the guy I responded to said he was putting others at risk.  Also, I just lost the game.</td>\n",
       "    </tr>\n",
       "    <tr>\n",
       "      <td>6274</td>\n",
       "      <td>notarealchiropractor</td>\n",
       "      <td>-68</td>\n",
       "      <td>Medical school debt is no big deal. It amounts to one years wages or less.</td>\n",
       "    </tr>\n",
       "    <tr>\n",
       "      <td>2652</td>\n",
       "      <td>Mortar_Truck_CDL</td>\n",
       "      <td>-51</td>\n",
       "      <td>Yeaahhhhhhh nice try OP. This ailment may or may not be a thing but I'm gonna need another source than the fake news merchants over at the New York Times.</td>\n",
       "    </tr>\n",
       "  </tbody>\n",
       "</table>\n",
       "</div>"
      ],
      "text/plain": [
       "                      name  ups  \\\n",
       "2465   coagulated_cumquats -244   \n",
       "2825        AshingiiAshuaa -173   \n",
       "2507            Panther125 -164   \n",
       "2920         ventingin2020  -99   \n",
       "2689       --IdiotSavant--  -94   \n",
       "2690            Panther125  -74   \n",
       "9532        RegretNothing1  -70   \n",
       "2894        AshingiiAshuaa  -68   \n",
       "6274  notarealchiropractor  -68   \n",
       "2652      Mortar_Truck_CDL  -51   \n",
       "\n",
       "                                                                                                                                                                                                                                                                body  \n",
       "2465                                                                Le's celebrate someone being sent to jail and having a much higher chance of catching a deadly virus because they had the temerity to want to keep working and not lose their business\\n\\nyay...  \n",
       "2825                                                                                      He's only at risk if he's infected.  I'm sure he's tested daily.\\n\\nEdit: he's only at risk *of infecting others*.  Nobody is going to catch the 'rona from the president.  \n",
       "2507                                                                                                                                  LOL of course personal income is important... stop acting like its nothing. Everyone is gangsta until they run out of money...  \n",
       "2920  You’re going to get downvoted because you’re using common sense & speaking favorable when it comes to the president. \\n\\nI’m sure he’s tested more frequently than we can imagine. \\n\\nCan’t put people at risk for the virus if you don’t have the virus lol.  \n",
       "2689                                                                                                                                                                                                                                                        So what?  \n",
       "2690                                                                                                                                                                                                                                   I think I would find a way...  \n",
       "9532                                                                           People still think a vaccine is possible? People, we can’t even cure colds and regular flu let alone most every other virus. This won’t be a thing and when it is, it will be a scam.  \n",
       "2894                                                                                                                                                                     But the guy I responded to said he was putting others at risk.  Also, I just lost the game.  \n",
       "6274                                                                                                                                                                                      Medical school debt is no big deal. It amounts to one years wages or less.  \n",
       "2652                                                                                                      Yeaahhhhhhh nice try OP. This ailment may or may not be a thing but I'm gonna need another source than the fake news merchants over at the New York Times.  "
      ]
     },
     "execution_count": 104,
     "metadata": {},
     "output_type": "execute_result"
    }
   ],
   "source": [
    "user_df.sort_values(by=['score'], ascending=True)[['name', 'ups', 'body']][:10]"
   ]
  },
  {
   "cell_type": "code",
   "execution_count": null,
   "metadata": {},
   "outputs": [],
   "source": [
    "user_df.sort_values(by=['score'], ascending=True)[['name', 'ups', 'body']][:10]"
   ]
  },
  {
   "cell_type": "code",
   "execution_count": null,
   "metadata": {},
   "outputs": [],
   "source": []
  },
  {
   "cell_type": "code",
   "execution_count": null,
   "metadata": {},
   "outputs": [],
   "source": []
  },
  {
   "cell_type": "markdown",
   "metadata": {},
   "source": [
    "# Top news of the day"
   ]
  },
  {
   "cell_type": "code",
   "execution_count": 139,
   "metadata": {},
   "outputs": [],
   "source": [
    "query = \"SELECT * FROM coronavirus_submissions limit 10000;\"\n",
    "submissions_df = pd.read_sql_query(query, conn)\n",
    "\n",
    "day_delta= 24*60*60*1000\n",
    "import datetime;\n",
    "ts = int(datetime.datetime.now().timestamp())\n",
    "\n",
    "submissions_df = submissions_df[submissions_df.created>(ts-day_delta)]"
   ]
  },
  {
   "cell_type": "code",
   "execution_count": 146,
   "metadata": {},
   "outputs": [
    {
     "data": {
      "text/html": [
       "<div>\n",
       "<style scoped>\n",
       "    .dataframe tbody tr th:only-of-type {\n",
       "        vertical-align: middle;\n",
       "    }\n",
       "\n",
       "    .dataframe tbody tr th {\n",
       "        vertical-align: top;\n",
       "    }\n",
       "\n",
       "    .dataframe thead th {\n",
       "        text-align: right;\n",
       "    }\n",
       "</style>\n",
       "<table border=\"1\" class=\"dataframe\">\n",
       "  <thead>\n",
       "    <tr style=\"text-align: right;\">\n",
       "      <th></th>\n",
       "      <th>title</th>\n",
       "      <th>url</th>\n",
       "      <th>ups</th>\n",
       "    </tr>\n",
       "  </thead>\n",
       "  <tbody>\n",
       "    <tr>\n",
       "      <td>160</td>\n",
       "      <td>New bill would forgive medical school debt for COVID-19 health workers</td>\n",
       "      <td>https://abcnews.go.com/US/bill-forgive-medical-school-debt-covid-19-health/story?id=70509644</td>\n",
       "      <td>51594</td>\n",
       "    </tr>\n",
       "    <tr>\n",
       "      <td>119</td>\n",
       "      <td>South Australia has reached 14 days with no new cases and there is currently only 2 active cases.</td>\n",
       "      <td>https://www.abc.net.au/news/2020-05-06/sa-marks-two-weeks-with-no-new-coronavirus-cases/12220286</td>\n",
       "      <td>4197</td>\n",
       "    </tr>\n",
       "    <tr>\n",
       "      <td>95</td>\n",
       "      <td>Corona test advertised as 90% accurate has less than 50% accuracy</td>\n",
       "      <td>https://www.trouw.nl/binnenland/nederlands-bedrijf-verkocht-anderhalf-miljoen-onbetrouwbare-coronatests~b218dc66/</td>\n",
       "      <td>2600</td>\n",
       "    </tr>\n",
       "    <tr>\n",
       "      <td>56</td>\n",
       "      <td>CNN: Chicago medical examiner to probe deaths as far back as November for evidence of Covid-19</td>\n",
       "      <td>https://edition.cnn.com/us/live-news/us-coronavirus-update-05-05-20/h_798443afac95c0d3b8b6694693a9990b</td>\n",
       "      <td>2308</td>\n",
       "    </tr>\n",
       "    <tr>\n",
       "      <td>50</td>\n",
       "      <td>“Vietnam has tested nearly 800 people for each new coronavirus confirmed case, the highest ratio in the world”: The Guardian</td>\n",
       "      <td>https://vietnaminsider.vn/vietnam-has-tested-nearly-800-people-for-each-new-coronavirus-confirmed-case-the-highest-ratio-in-the-world/</td>\n",
       "      <td>1891</td>\n",
       "    </tr>\n",
       "    <tr>\n",
       "      <td>61</td>\n",
       "      <td>Amazon fired 3 employee activists who criticized its warehouse safety measures</td>\n",
       "      <td>https://www.vox.com/recode/2020/4/14/21220899/amazon-fired-activist-employees-warehouse-conditions-emily-cunningham-bashir-mohamed-maren-costa</td>\n",
       "      <td>1861</td>\n",
       "    </tr>\n",
       "    <tr>\n",
       "      <td>49</td>\n",
       "      <td>De Blasio says NYC won't completely reopen until September despite declining deaths and hospitalization rates</td>\n",
       "      <td>https://www.dailycelebuk.com/News/De-Blasio-says-NYC-wont-completely-reopen-until-September-despite-declining-deaths-and-hospitalization-rates.html</td>\n",
       "      <td>1639</td>\n",
       "    </tr>\n",
       "    <tr>\n",
       "      <td>37</td>\n",
       "      <td>Dental Hygienists Say It's Too Soon to Resume Routine Care</td>\n",
       "      <td>https://www.baynews9.com/fl/tampa/news/2020/05/04/tampa-bay-area-dental-hygienists-say-it-s-too-soon-to-resume-routine-care-services</td>\n",
       "      <td>1398</td>\n",
       "    </tr>\n",
       "    <tr>\n",
       "      <td>147</td>\n",
       "      <td>US private payrolls drop by 20.2 million in April, the worst job loss in the history of ADP report</td>\n",
       "      <td>https://www.cnbc.com/2020/05/06/adp-private-payrolls-april-2020-drop-by-record-20point2-million.html?__source=facebook%7Cmain</td>\n",
       "      <td>1284</td>\n",
       "    </tr>\n",
       "    <tr>\n",
       "      <td>32</td>\n",
       "      <td>California sees first weekly drop in coronavirus deaths</td>\n",
       "      <td>https://www.latimes.com/california/story/2020-05-05/california-sees-1st-drop-in-weekly-coronavirus-deaths</td>\n",
       "      <td>1267</td>\n",
       "    </tr>\n",
       "  </tbody>\n",
       "</table>\n",
       "</div>"
      ],
      "text/plain": [
       "                                                                                                                            title  \\\n",
       "160                                                        New bill would forgive medical school debt for COVID-19 health workers   \n",
       "119                             South Australia has reached 14 days with no new cases and there is currently only 2 active cases.   \n",
       "95                                                              Corona test advertised as 90% accurate has less than 50% accuracy   \n",
       "56                                 CNN: Chicago medical examiner to probe deaths as far back as November for evidence of Covid-19   \n",
       "50   “Vietnam has tested nearly 800 people for each new coronavirus confirmed case, the highest ratio in the world”: The Guardian   \n",
       "61                                                 Amazon fired 3 employee activists who criticized its warehouse safety measures   \n",
       "49                  De Blasio says NYC won't completely reopen until September despite declining deaths and hospitalization rates   \n",
       "37                                                                     Dental Hygienists Say It's Too Soon to Resume Routine Care   \n",
       "147                            US private payrolls drop by 20.2 million in April, the worst job loss in the history of ADP report   \n",
       "32                                                                        California sees first weekly drop in coronavirus deaths   \n",
       "\n",
       "                                                                                                                                                     url  \\\n",
       "160                                                         https://abcnews.go.com/US/bill-forgive-medical-school-debt-covid-19-health/story?id=70509644   \n",
       "119                                                     https://www.abc.net.au/news/2020-05-06/sa-marks-two-weeks-with-no-new-coronavirus-cases/12220286   \n",
       "95                                     https://www.trouw.nl/binnenland/nederlands-bedrijf-verkocht-anderhalf-miljoen-onbetrouwbare-coronatests~b218dc66/   \n",
       "56                                                https://edition.cnn.com/us/live-news/us-coronavirus-update-05-05-20/h_798443afac95c0d3b8b6694693a9990b   \n",
       "50                https://vietnaminsider.vn/vietnam-has-tested-nearly-800-people-for-each-new-coronavirus-confirmed-case-the-highest-ratio-in-the-world/   \n",
       "61        https://www.vox.com/recode/2020/4/14/21220899/amazon-fired-activist-employees-warehouse-conditions-emily-cunningham-bashir-mohamed-maren-costa   \n",
       "49   https://www.dailycelebuk.com/News/De-Blasio-says-NYC-wont-completely-reopen-until-September-despite-declining-deaths-and-hospitalization-rates.html   \n",
       "37                  https://www.baynews9.com/fl/tampa/news/2020/05/04/tampa-bay-area-dental-hygienists-say-it-s-too-soon-to-resume-routine-care-services   \n",
       "147                        https://www.cnbc.com/2020/05/06/adp-private-payrolls-april-2020-drop-by-record-20point2-million.html?__source=facebook%7Cmain   \n",
       "32                                             https://www.latimes.com/california/story/2020-05-05/california-sees-1st-drop-in-weekly-coronavirus-deaths   \n",
       "\n",
       "       ups  \n",
       "160  51594  \n",
       "119   4197  \n",
       "95    2600  \n",
       "56    2308  \n",
       "50    1891  \n",
       "61    1861  \n",
       "49    1639  \n",
       "37    1398  \n",
       "147   1284  \n",
       "32    1267  "
      ]
     },
     "execution_count": 146,
     "metadata": {},
     "output_type": "execute_result"
    }
   ],
   "source": [
    "submissions_df.sort_values(by=['ups'], ascending=False)[['title', 'url', 'ups']][:10]"
   ]
  },
  {
   "cell_type": "code",
   "execution_count": null,
   "metadata": {},
   "outputs": [],
   "source": []
  },
  {
   "cell_type": "code",
   "execution_count": 124,
   "metadata": {},
   "outputs": [],
   "source": []
  },
  {
   "cell_type": "code",
   "execution_count": 128,
   "metadata": {},
   "outputs": [
    {
     "data": {
      "text/plain": [
       "144.305"
      ]
     },
     "execution_count": 128,
     "metadata": {},
     "output_type": "execute_result"
    }
   ],
   "source": [
    "(ts - 1588668656)/1000"
   ]
  },
  {
   "cell_type": "code",
   "execution_count": 130,
   "metadata": {},
   "outputs": [],
   "source": [
    "day_delta= 24*60*60*1000"
   ]
  },
  {
   "cell_type": "code",
   "execution_count": null,
   "metadata": {},
   "outputs": [],
   "source": []
  }
 ],
 "metadata": {
  "kernelspec": {
   "display_name": "Python 3",
   "language": "python",
   "name": "python3"
  },
  "language_info": {
   "codemirror_mode": {
    "name": "ipython",
    "version": 3
   },
   "file_extension": ".py",
   "mimetype": "text/x-python",
   "name": "python",
   "nbconvert_exporter": "python",
   "pygments_lexer": "ipython3",
   "version": "3.7.4"
  }
 },
 "nbformat": 4,
 "nbformat_minor": 2
}
