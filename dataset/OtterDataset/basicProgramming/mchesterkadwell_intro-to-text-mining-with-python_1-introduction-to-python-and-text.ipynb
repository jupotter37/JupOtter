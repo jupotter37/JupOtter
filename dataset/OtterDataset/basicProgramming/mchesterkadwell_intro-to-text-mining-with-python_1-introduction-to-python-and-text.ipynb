{
 "cells": [
  {
   "cell_type": "markdown",
   "metadata": {
    "collapsed": true,
    "pycharm": {
     "is_executing": false,
     "name": "#%%\n"
    }
   },
   "source": [
    "# Introduction to Python, Jupyter Notebooks and Working with Text\n",
    "\n",
    "---\n",
    "---\n",
    "\n",
    "## The Programming Language Python\n",
    "Python is a **general-purpose programming language** that can be used in many different ways; for example, it can be used to analyse data, create websites, automate boring stuff and write software with a graphical interface. Python is **excellent for beginners** because its basic syntax is simple and uncluttered with punctuation. Coding in Python often feels like writing in natural language. Python is a very popular language and has a large, friendly community of users around the world, so there are many tutorials and helpful experts out there to help you get started.\n",
    "\n",
    "### Why Do Text-Mining By Programming?\n",
    "\n",
    "You could do a lot of text mining manually, by searching and counting through text by eye, or using the 'find and replace' function in a text editor. You could count and input numbers on a spreadsheet and do your analysis with formulae. However, with a large corpus of many thousands or millions of words these tasks are error-prone, boring and mind-boggling. It may even be impossible in the time available.\n",
    "\n",
    "You could use some of the specialist software tools out there for cleaning and exploring a corpus, and while these are definitely an option — and they could be used in combination with manual and programming techniques — here are several advantages to programming your text-mining:\n",
    "\n",
    "* Automation: coding automates boring and difficult tasks that are hard for humans to do.\n",
    "* Reproducibility: code both executes and unambiguously documents the steps to your results.\n",
    "* Clarity: coding forces you to understand exactly what you are doing with your text, promoting deep knowledge of the techniques you are using.\n",
    "* Bespoke: coding your own solution means you can design it to meet exactly what your research questions demand.\n",
    "* Advanced: coding may be the only way to do certain advanced analysis techniques or analyse extremely large datasets.\n",
    "\n",
    "Can you think of any other advantages or disadvantages?\n",
    "\n",
    "### Alternatives to Python\n",
    "\n",
    "R is another language well suited to text mining; in fact, the R language was designed specifically for data analysis and is widely used in many fields such as finance, medical research and social sciences. You *could* learn to do text analysis in R instead, but I recommend you choose either Python or R and stick to it. They are very different languages and for most people it is better to have deeper expertise in one programming language than spread yourself too thin.\n",
    "\n",
    "If you are interested in using R instead of Python then you should look at the book [Text Mining in R](https://www.tidytextmining.com/), which uses the R package [tidytext](https://github.com/juliasilge/tidytext).\n",
    "\n",
    "Of course, we have chosen Python on your behalf! In this workshop we will be using the Python library [Natural Language Tool Kit](http://www.nltk.org/) (don't worry, this need not make any sense to you yet).\n",
    "\n",
    "---\n",
    "---\n",
    "\n",
    "## Jupyter Notebooks\n",
    "\n",
    "This 'document' you are reading right now is a Jupyter notebook. It allows you to combine explanatory **text** and **code** that executes to produce the results you can see on the same page. You can also create and display graphs from your data in the same document.\n",
    "\n",
    "Notebooks are particularly useful for *exploring* your data at an early stage in your research and *documenting* exactly what steps you have taken (and why) to get to your results. This documentation is extremely important for reproducibility of your research and to record what you did as you are guaranteed to forget in weeks or months down the line!\n",
    "\n",
    "For more on getting started with Jupyter Notebooks for your research try this [Jupyter Notebook for Beginners Tutorial](https://towardsdatascience.com/jupyter-notebook-for-beginners-a-tutorial-f55b57c23ada).\n",
    "\n",
    "### Notebook Basics\n",
    "\n",
    "#### Text cells\n",
    "\n",
    "The box this text is written in is called a *cell*. It is a *text cell* marked up in a very simple language called 'Markdown'. Here is a useful [Markdown cheatsheet](https://github.com/adam-p/markdown-here/wiki/Markdown-Cheatsheet). You can edit and then run cells to produce a result. Running this text cell produces formatted text.\n",
    "\n",
    "#### Code cells\n",
    "\n",
    "The other main kind of cell is a *code cell*. The cell immediately below this one is a code cell. Running a code cell runs the code in the cell (marked by the **In**) and produces a result (marked by the **Out**). We say the code is **evaluated**.\n",
    "\n",
    "Try it now."
   ]
  },
  {
   "cell_type": "code",
   "execution_count": 2,
   "metadata": {},
   "outputs": [
    {
     "data": {
      "text/plain": [
       "7"
      ]
     },
     "execution_count": 2,
     "metadata": {},
     "output_type": "execute_result"
    }
   ],
   "source": [
    "3 + 4"
   ]
  },
  {
   "cell_type": "code",
   "execution_count": 3,
   "metadata": {},
   "outputs": [],
   "source": [
    "# This is a comment in a code cell. Comments start with a # symbol. They are ignored and do not do anything."
   ]
  },
  {
   "cell_type": "markdown",
   "metadata": {},
   "source": [
    "> **Important!**\n",
    "\n",
    "> **When running code cells you need to run them in order, from top to bottom of the notebook. This is because cells rely on the results of other cells. Without those earlier results being available you will get an error.**\n",
    "\n",
    "> **To run all the cells in a notebook at once, in order, choose Cell > Run All from the menu above. To clear all the results from all the cells, so you can start again, choose Cell > All Output > Clear.**"
   ]
  },
  {
   "cell_type": "markdown",
   "metadata": {},
   "source": [
    "---\n",
    "---\n",
    "\n",
    "## How to Join In with Coding\n",
    "\n",
    "* **Edit** any cell and try changing the code, or delete it and write your own.\n",
    "\n",
    "* Before running a cell, try to **guess** what the output will be by thinking through what will happen.\n",
    "\n",
    "* If you encounter an **error**, realise this is normal. Errors happen all the time and by reading the error message you will learn something new.\n",
    "\n",
    "* Remember: you cannot break the notebook or your computer, so **don't be afraid to experiment**.\n",
    "\n",
    "**Let's get coding!**\n",
    "\n"
   ]
  },
  {
   "cell_type": "markdown",
   "metadata": {},
   "source": [
    "---\n",
    "---\n",
    "\n",
    "## Simple String Manipulation in Python\n",
    "\n",
    "This section introduces some basic things you can do in Python to create and manipulate strings. A string is a simple *sequence of characters*, for example, the string `coffee` is a sequence of the individual characters `c` `o` `f` `f` `e` `e`. Strings are the way that Python (and most programming languages) deal with text."
   ]
  },
  {
   "cell_type": "markdown",
   "metadata": {},
   "source": [
    "### Creating and Storing Strings with Names\n",
    "Strings are simple to create in Python. You can simply write some characters in quote marks (either single `'` or double `\"` is fine in general)."
   ]
  },
  {
   "cell_type": "code",
   "execution_count": 4,
   "metadata": {},
   "outputs": [
    {
     "data": {
      "text/plain": [
       "'Butterflies are important as pollinators.'"
      ]
     },
     "execution_count": 4,
     "metadata": {},
     "output_type": "execute_result"
    }
   ],
   "source": [
    "'Butterflies are important as pollinators.'"
   ]
  },
  {
   "cell_type": "markdown",
   "metadata": {},
   "source": [
    "In order to do something useful with this string, other than print it out, we need to store it by using the assignment operator `=` (equals sign). Whatever is on the right-hand side of the `=` is stored with the _name_ on the left-hand side."
   ]
  },
  {
   "cell_type": "code",
   "execution_count": 5,
   "metadata": {},
   "outputs": [],
   "source": [
    "my_sentence = 'Butterflies are important as pollinators.'"
   ]
  },
  {
   "cell_type": "markdown",
   "metadata": {},
   "source": [
    "*Notice that nothing is printed to the screen.*\n",
    "\n",
    "That's because the string is stored with the name `my_sentence` rather than being printed out. In order to see what is 'inside' `my_sentence` we can simply write `my_sentence` in a code cell, run it, and the interpreter will print it out for us."
   ]
  },
  {
   "cell_type": "code",
   "execution_count": 6,
   "metadata": {},
   "outputs": [
    {
     "data": {
      "text/plain": [
       "'Butterflies are important as pollinators.'"
      ]
     },
     "execution_count": 6,
     "metadata": {},
     "output_type": "execute_result"
    }
   ],
   "source": [
    "my_sentence"
   ]
  },
  {
   "cell_type": "markdown",
   "metadata": {},
   "source": [
    "### Slicing Bits of Strings\n",
    "\n",
    "#### Accessing Individual Characters\n",
    "A string is just a sequence (list) of characters. You can access **individual characters** in a string by specifying which ones you want in square brackets."
   ]
  },
  {
   "cell_type": "code",
   "execution_count": 7,
   "metadata": {},
   "outputs": [
    {
     "data": {
      "text/plain": [
       "'u'"
      ]
     },
     "execution_count": 7,
     "metadata": {},
     "output_type": "execute_result"
    }
   ],
   "source": [
    "my_sentence[1]"
   ]
  },
  {
   "cell_type": "markdown",
   "metadata": {},
   "source": [
    "**Hang on a minute!** Did you notice something unexpected?\n",
    "\n",
    "Why did it give us `u` instead of `B`?\n",
    "\n",
    "In programming, everything tends to be *zero indexed*, which means that things are counted from 0 rather than 1. Thus, in the example above, `1` gives us the *second* character in the string, not the first like you might expect.\n",
    "\n",
    "If you want the first character in the string, you need to specify the index `0`! "
   ]
  },
  {
   "cell_type": "code",
   "execution_count": 8,
   "metadata": {},
   "outputs": [
    {
     "data": {
      "text/plain": [
       "'B'"
      ]
     },
     "execution_count": 8,
     "metadata": {},
     "output_type": "execute_result"
    }
   ],
   "source": [
    "my_sentence[0]"
   ]
  },
  {
   "cell_type": "markdown",
   "metadata": {},
   "source": [
    "#### Accessing a Range of Characters\n",
    "\n",
    "You can also pick out a **range of characters** from within a string, by giving the *start index* followed by the *end index* with a semi-colon (`:`) in between.\n",
    "\n",
    "The example below gives us the character at index `0` all the way up to, *but not including*, the character at index `20`."
   ]
  },
  {
   "cell_type": "code",
   "execution_count": 9,
   "metadata": {},
   "outputs": [
    {
     "data": {
      "text/plain": [
       "'Butterflies are impo'"
      ]
     },
     "execution_count": 9,
     "metadata": {},
     "output_type": "execute_result"
    }
   ],
   "source": [
    "my_sentence[0:20]"
   ]
  },
  {
   "cell_type": "markdown",
   "metadata": {},
   "source": [
    "### Changing Whole Strings with Methods\n",
    "Python strings have some built-in *methods* that allow you to change a whole string at once. You can change all characters to lowercase or uppercase:"
   ]
  },
  {
   "cell_type": "code",
   "execution_count": 10,
   "metadata": {},
   "outputs": [
    {
     "data": {
      "text/plain": [
       "'butterflies are important as pollinators.'"
      ]
     },
     "execution_count": 10,
     "metadata": {},
     "output_type": "execute_result"
    }
   ],
   "source": [
    "my_sentence.lower()"
   ]
  },
  {
   "cell_type": "code",
   "execution_count": 11,
   "metadata": {},
   "outputs": [
    {
     "data": {
      "text/plain": [
       "'BUTTERFLIES ARE IMPORTANT AS POLLINATORS.'"
      ]
     },
     "execution_count": 11,
     "metadata": {},
     "output_type": "execute_result"
    }
   ],
   "source": [
    "my_sentence.upper()"
   ]
  },
  {
   "cell_type": "markdown",
   "metadata": {},
   "source": [
    "NB: These functions do not change the original string but create a new one. Our original string is still the same as it was before:"
   ]
  },
  {
   "cell_type": "code",
   "execution_count": 12,
   "metadata": {},
   "outputs": [
    {
     "data": {
      "text/plain": [
       "'Butterflies are important as pollinators.'"
      ]
     },
     "execution_count": 12,
     "metadata": {},
     "output_type": "execute_result"
    }
   ],
   "source": [
    "my_sentence"
   ]
  },
  {
   "cell_type": "markdown",
   "metadata": {},
   "source": [
    "### Testing Strings with Methods\n",
    "\n",
    "You can also test a string to see if it is passes some test, e.g. is the string all alphabetic characters only?"
   ]
  },
  {
   "cell_type": "code",
   "execution_count": 13,
   "metadata": {},
   "outputs": [
    {
     "data": {
      "text/plain": [
       "False"
      ]
     },
     "execution_count": 13,
     "metadata": {},
     "output_type": "execute_result"
    }
   ],
   "source": [
    "my_sentence.isalpha()"
   ]
  },
  {
   "cell_type": "markdown",
   "metadata": {},
   "source": [
    "Why does this produce this particular result?\n",
    "\n",
    "Here's another. Does the string have the letter `p` in it?"
   ]
  },
  {
   "cell_type": "code",
   "execution_count": 14,
   "metadata": {},
   "outputs": [
    {
     "data": {
      "text/plain": [
       "True"
      ]
     },
     "execution_count": 14,
     "metadata": {},
     "output_type": "execute_result"
    }
   ],
   "source": [
    "'p' in my_sentence"
   ]
  },
  {
   "cell_type": "markdown",
   "metadata": {},
   "source": [
    "---\n",
    "\n",
    "#### Going Further with Python Documentation\n",
    "\n",
    "Everything you can do in Python is well-documented online. It is a skill and art to read code documentation, and you should start to learn it as soon as you can on your code journey.\n",
    "\n",
    "Here is a link to all the methods you can use with strings: \n",
    "https://docs.python.org/3.6/library/stdtypes.html#string-methods\n",
    "\n",
    "Why not try a method we have not used here so far?\n",
    "\n",
    "---\n"
   ]
  },
  {
   "cell_type": "markdown",
   "metadata": {},
   "source": [
    "### Lists of Strings\n",
    "Another important thing we can do with strings is creating a *list of strings* by listing them inside square brackets `[]`:"
   ]
  },
  {
   "cell_type": "code",
   "execution_count": 15,
   "metadata": {},
   "outputs": [
    {
     "data": {
      "text/plain": [
       "['Butterflies are important as pollinators',\n",
       " 'Butterflies feed primarily on nectar from flowers',\n",
       " 'Butterflies are widely used in objects of art']"
      ]
     },
     "execution_count": 15,
     "metadata": {},
     "output_type": "execute_result"
    }
   ],
   "source": [
    "my_list = ['Butterflies are important as pollinators',\n",
    "          'Butterflies feed primarily on nectar from flowers',\n",
    "          'Butterflies are widely used in objects of art']\n",
    "my_list"
   ]
  },
  {
   "cell_type": "markdown",
   "metadata": {},
   "source": [
    "### Slicing Lists of Strings\n",
    "Just like with strings, we can access individual items inside a list by index number:"
   ]
  },
  {
   "cell_type": "code",
   "execution_count": 16,
   "metadata": {},
   "outputs": [
    {
     "data": {
      "text/plain": [
       "'Butterflies are important as pollinators'"
      ]
     },
     "execution_count": 16,
     "metadata": {},
     "output_type": "execute_result"
    }
   ],
   "source": [
    "my_list[0]"
   ]
  },
  {
   "cell_type": "markdown",
   "metadata": {},
   "source": [
    "And we can access a range of items inside a list by *slicing*:"
   ]
  },
  {
   "cell_type": "code",
   "execution_count": 17,
   "metadata": {},
   "outputs": [
    {
     "data": {
      "text/plain": [
       "['Butterflies are important as pollinators',\n",
       " 'Butterflies feed primarily on nectar from flowers']"
      ]
     },
     "execution_count": 17,
     "metadata": {},
     "output_type": "execute_result"
    }
   ],
   "source": [
    "my_list[0:2]"
   ]
  },
  {
   "cell_type": "markdown",
   "metadata": {},
   "source": [
    "### Creating Lists of Strings with List Comprehensions\n",
    "We can create new lists in an elegant way by combining some of the things we have covered above. Here is an example where we have taken our original list `my_list` and created a new list `new_list` by going over each string in the list:"
   ]
  },
  {
   "cell_type": "code",
   "execution_count": 18,
   "metadata": {},
   "outputs": [
    {
     "data": {
      "text/plain": [
       "['Butterflies are important as pollinators',\n",
       " 'Butterflies feed primarily on nectar from flowers',\n",
       " 'Butterflies are widely used in objects of art']"
      ]
     },
     "execution_count": 18,
     "metadata": {},
     "output_type": "execute_result"
    }
   ],
   "source": [
    "new_list = [string for string in my_list]\n",
    "new_list"
   ]
  },
  {
   "cell_type": "markdown",
   "metadata": {},
   "source": [
    "Why do this? If we combine it with a test, we can create a filtered list that only contains strings with the letter `p` in them:"
   ]
  },
  {
   "cell_type": "code",
   "execution_count": 19,
   "metadata": {},
   "outputs": [
    {
     "data": {
      "text/plain": [
       "['Butterflies are important as pollinators',\n",
       " 'Butterflies feed primarily on nectar from flowers']"
      ]
     },
     "execution_count": 19,
     "metadata": {},
     "output_type": "execute_result"
    }
   ],
   "source": [
    "new_list_p = [string for string in my_list if 'p' in string]\n",
    "new_list_p"
   ]
  },
  {
   "cell_type": "markdown",
   "metadata": {},
   "source": [
    "This is a very powerful way to quickly create lists. We can even change all the strings to uppercase at the same time!"
   ]
  },
  {
   "cell_type": "code",
   "execution_count": 20,
   "metadata": {},
   "outputs": [
    {
     "data": {
      "text/plain": [
       "['BUTTERFLIES ARE IMPORTANT AS POLLINATORS',\n",
       " 'BUTTERFLIES FEED PRIMARILY ON NECTAR FROM FLOWERS']"
      ]
     },
     "execution_count": 20,
     "metadata": {},
     "output_type": "execute_result"
    }
   ],
   "source": [
    "new_list_p_upper = [string.upper() for string in my_list if 'p' in string]\n",
    "new_list_p_upper"
   ]
  },
  {
   "cell_type": "markdown",
   "metadata": {},
   "source": [
    "---\n",
    "---\n",
    "## Summary\n",
    "\n",
    "Let's take a moment to summarise what we have covered so far.\n",
    "\n",
    "We have: \n",
    "\n",
    "* Learnt that Python is a programming language\n",
    "* Discussed why programming is useful for text-mining\n",
    "* Covered the basics of Jupyter notebooks\n",
    "* Created and manipulated strings by:\n",
    " * Slicing them into bits\n",
    " * Making them lowercase and uppercase\n",
    " * Testing them\n",
    "* Created and sliced lists of strings\n",
    "* Created new lists by filtering lists with tests\n",
    "\n",
    "👌👌👌\n",
    "\n",
    "The next notebook `2-collecting-and-preparing.ipynb` will show how we can collect, prepare and explore a text.\n"
   ]
  }
 ],
 "metadata": {
  "kernelspec": {
   "display_name": "Python 3",
   "language": "python",
   "name": "python3"
  },
  "language_info": {
   "codemirror_mode": {
    "name": "ipython",
    "version": 3
   },
   "file_extension": ".py",
   "mimetype": "text/x-python",
   "name": "python",
   "nbconvert_exporter": "python",
   "pygments_lexer": "ipython3",
   "version": "3.6.7"
  }
 },
 "nbformat": 4,
 "nbformat_minor": 1
}
