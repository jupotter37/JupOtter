{
  "nbformat": 4,
  "nbformat_minor": 0,
  "metadata": {
    "colab": {
      "provenance": []
    },
    "kernelspec": {
      "name": "python3",
      "display_name": "Python 3"
    },
    "language_info": {
      "name": "python"
    }
  },
  "cells": [
    {
      "cell_type": "markdown",
      "source": [
        "## Imports"
      ],
      "metadata": {
        "id": "6F9wsN6uvmVN"
      }
    },
    {
      "cell_type": "code",
      "source": [
        "from functools import reduce\n"
      ],
      "metadata": {
        "id": "uNq3-qkDvprH"
      },
      "execution_count": 11,
      "outputs": []
    },
    {
      "cell_type": "markdown",
      "source": [
        "# Task 1 map"
      ],
      "metadata": {
        "id": "Pt3NbpwfvUUf"
      }
    },
    {
      "cell_type": "code",
      "execution_count": 12,
      "metadata": {
        "id": "6OJzEE0or-5N"
      },
      "outputs": [],
      "source": [
        "text = \"Python For Beginners Welcome! Are you completely new to programming? If not then we presume you will be looking for information about why and how to get started with Python.\"\n",
        "list_word = text.split(' ')\n",
        "lc_words = list(map(str.lower, list_word))\n",
        "lc_text = ' '.join(lc_words)\n"
      ]
    },
    {
      "cell_type": "code",
      "source": [
        "lc_text"
      ],
      "metadata": {
        "colab": {
          "base_uri": "https://localhost:8080/",
          "height": 92
        },
        "id": "MejEtiSWvuJ8",
        "outputId": "edb98cba-e034-4df0-92df-94d7d3d98971"
      },
      "execution_count": 13,
      "outputs": [
        {
          "output_type": "execute_result",
          "data": {
            "text/plain": [
              "'python for beginners welcome! are you completely new to programming? if not then we presume you will be looking for information about why and how to get started with python.'"
            ],
            "application/vnd.google.colaboratory.intrinsic+json": {
              "type": "string"
            }
          },
          "metadata": {},
          "execution_count": 13
        }
      ]
    },
    {
      "cell_type": "markdown",
      "source": [
        "# Task 2 filter"
      ],
      "metadata": {
        "id": "YE7htj3uvYok"
      }
    },
    {
      "cell_type": "code",
      "source": [
        "text = \"Python For Beginners Welcome! Are you completely new to programming? If not then we presume you will be looking for information about why and how to get started with Python.\"\n",
        "list_word = text.split(' ')\n",
        "filtered_words = list(filter(lambda w: len(w) >= 4, list_word))\n",
        "filtered_text = ' '.join(filtered_words)"
      ],
      "metadata": {
        "id": "hrR4Zx9juqnE"
      },
      "execution_count": 14,
      "outputs": []
    },
    {
      "cell_type": "code",
      "source": [
        "filtered_text"
      ],
      "metadata": {
        "colab": {
          "base_uri": "https://localhost:8080/",
          "height": 74
        },
        "id": "6Ghju-7jvw0b",
        "outputId": "d41de1c6-8c6d-4773-dff1-40728ec257db"
      },
      "execution_count": 15,
      "outputs": [
        {
          "output_type": "execute_result",
          "data": {
            "text/plain": [
              "'Python Beginners Welcome! completely programming? then presume will looking information about started with Python.'"
            ],
            "application/vnd.google.colaboratory.intrinsic+json": {
              "type": "string"
            }
          },
          "metadata": {},
          "execution_count": 15
        }
      ]
    },
    {
      "cell_type": "markdown",
      "source": [
        "# Task 3 reduce"
      ],
      "metadata": {
        "id": "R06qqu5Rvczx"
      }
    },
    {
      "cell_type": "code",
      "source": [
        "text = \"Python For Beginners Welcome! Are you completely new to programming? If not then we presume you will be looking for information about why and how to get started with Python.\"\n",
        "list_word = text.split(' ')\n",
        "concatenated_text = reduce(lambda a, b: a + b.upper(), list_word, '')\n"
      ],
      "metadata": {
        "id": "SDfTT6Kcu4eZ"
      },
      "execution_count": 16,
      "outputs": []
    },
    {
      "cell_type": "code",
      "source": [
        "concatenated_text"
      ],
      "metadata": {
        "colab": {
          "base_uri": "https://localhost:8080/",
          "height": 74
        },
        "id": "BxCuS4EMv1Jm",
        "outputId": "7776cde3-a102-4588-af44-fb799ab85127"
      },
      "execution_count": 17,
      "outputs": [
        {
          "output_type": "execute_result",
          "data": {
            "text/plain": [
              "'PYTHONFORBEGINNERSWELCOME!AREYOUCOMPLETELYNEWTOPROGRAMMING?IFNOTTHENWEPRESUMEYOUWILLBELOOKINGFORINFORMATIONABOUTWHYANDHOWTOGETSTARTEDWITHPYTHON.'"
            ],
            "application/vnd.google.colaboratory.intrinsic+json": {
              "type": "string"
            }
          },
          "metadata": {},
          "execution_count": 17
        }
      ]
    }
  ]
}