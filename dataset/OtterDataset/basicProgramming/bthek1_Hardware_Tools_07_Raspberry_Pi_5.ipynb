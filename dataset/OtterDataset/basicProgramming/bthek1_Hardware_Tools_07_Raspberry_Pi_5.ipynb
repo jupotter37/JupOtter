{
 "cells": [
  {
   "cell_type": "markdown",
   "id": "45dd11fc-dbc8-4e66-a26c-caaa5efdfef8",
   "metadata": {},
   "source": [
    "# Raspberry PI Setup\n",
    "\n",
    "> Raspberry PI Setup\n",
    "\n",
    "\n",
    "- skip_showdoc: true\n",
    "- skip_exec: true"
   ]
  },
  {
   "cell_type": "markdown",
   "id": "147e6650-d304-494b-8d07-0544a6a6c3af",
   "metadata": {},
   "source": [
    "## Setup "
   ]
  },
  {
   "cell_type": "markdown",
   "id": "19c7e395-9b6c-429c-a62f-28e75474b1c7",
   "metadata": {},
   "source": [
    "### 1. **Raspberry Pi 5 Overview and Features**\n",
    "   - **Processor**: Quad-core Cortex-A76 CPU at 2.4 GHz (upgraded for improved performance).\n",
    "   - **RAM**: Available in configurations of 4GB or 8GB LPDDR4x, with faster memory than previous models.\n",
    "   - **Ports**:\n",
    "     - Dual **micro-HDMI ports** (4K output on each port).\n",
    "     - **USB 3.0** and **USB 2.0** ports for faster data transfer.\n",
    "     - **Gigabit Ethernet** and dual **USB-C ports** (one for power, one for peripherals).\n",
    "     - **M.2 PCIe slot** (new) for connecting NVMe SSD storage.\n",
    "   - **Operating System**: Raspberry Pi OS (based on Debian), but supports other OS options, including Ubuntu."
   ]
  },
  {
   "cell_type": "markdown",
   "id": "ace9b58d-a404-4a7c-9fc4-91b4a58cace8",
   "metadata": {},
   "source": [
    "### 2. **Initial Setup Requirements**\n",
    "   - **Raspberry Pi 5** board (8GB model).\n",
    "   - **MicroSD card** (minimum 16GB recommended) or an **M.2 SSD** if using NVMe storage.\n",
    "   - **Power supply**: USB-C 5V/5A recommended for stable operation.\n",
    "   - **Micro-HDMI cable** to connect to a display.\n",
    "   - **Keyboard and mouse** (USB or Bluetooth).\n",
    "   - **Internet connection** (Ethernet or WiFi)."
   ]
  },
  {
   "cell_type": "markdown",
   "id": "e8275cc9-5774-4634-9805-7a7fd9978ee8",
   "metadata": {},
   "source": [
    "### 3. **Installing Raspberry Pi OS on the Raspberry Pi 5**\n",
    "\n",
    "#### Step 1: Download Raspberry Pi Imager\n",
    "   - Download the **Raspberry Pi Imager** software from the [Raspberry Pi website](https://www.raspberrypi.org/software/).\n",
    "   - Insert your **microSD card** or connect your **NVMe SSD** (if using an M.2 to USB adapter) to your computer.\n",
    "\n",
    "#### Step 2: Flash Raspberry Pi OS\n",
    "   - Open **Raspberry Pi Imager** and select **Raspberry Pi OS** (32-bit or 64-bit depending on your needs).\n",
    "   - Go to `Edit Settings` and add ssh key to laptop so you can ssh into it after boot\n",
    "   - Check Wifi settings \n",
    "   - Choose your storage device (microSD card or external drive).\n",
    "   - Click **Write** to start the flashing process.\n",
    "\n",
    "#### Step 3: Insert the microSD Card or SSD into Raspberry Pi\n",
    "   - Once flashing is complete, insert the microSD card into the Raspberry Pi 5's card slot or connect the SSD to the M.2 slot.\n",
    "   - Connect the keyboard, mouse, display, and power supply to the Pi."
   ]
  },
  {
   "cell_type": "markdown",
   "id": "d9ff45d4-708b-4a59-a5a9-e2d6fd11d113",
   "metadata": {},
   "source": [
    "### 4. **First Boot and Configuration**\n",
    "\n",
    "   - **Power On**: Turn on the Raspberry Pi by plugging it in. It should boot directly to Raspberry Pi OS.\n",
    "   - **Initial Setup Wizard**: The setup wizard will guide you through setting up basic configurations:\n",
    "     - **Language and Location**: Select your region, language, and keyboard layout.\n",
    "     - **Network**: Connect to WiFi (if not using Ethernet).\n",
    "     - **Update OS**: Let the system check for updates and install any available.\n",
    "\n",
    "   - **Enable SSH and VNC (Optional)**: To control your Pi remotely, enable **SSH** and **VNC**:\n",
    "     - Go to **Preferences > Raspberry Pi Configuration > Interfaces**.\n",
    "     - Enable **SSH** for remote command-line access, and **VNC** for remote desktop access."
   ]
  },
  {
   "cell_type": "markdown",
   "id": "8fc25e24-c754-4c8c-b9fd-3193acd86b28",
   "metadata": {},
   "source": [
    "### 5. **Configuring Storage Options**\n",
    "\n",
    "If you plan to use an **M.2 NVMe SSD**, configure the Raspberry Pi to boot from the SSD instead of the microSD card.\n",
    "\n",
    "#### Steps to Boot from SSD:\n",
    "   - Insert both the microSD card (with the OS installed) and the SSD into the Raspberry Pi.\n",
    "   - Open a terminal and update the bootloader:\n",
    "     ```bash\n",
    "     sudo apt update\n",
    "     sudo apt full-upgrade\n",
    "     ```\n",
    "   - Use the **Raspberry Pi Configuration** tool or **raspi-config** to set the boot priority to **USB** or **SSD**."
   ]
  },
  {
   "cell_type": "markdown",
   "id": "eef2276b-3e83-40e4-8e1f-a26397c8e008",
   "metadata": {},
   "source": [
    "### 6. **Connecting GPIO Accessories**\n",
    "\n",
    "The **GPIO pins** on the Raspberry Pi 5 allow you to connect external devices like sensors, LEDs, motors, and HATs. You can control these peripherals using Python libraries like **RPi.GPIO** or **gpiozero**.\n",
    "\n",
    "Example code to control an LED:\n",
    "```python\n",
    "import gpiozero\n",
    "\n",
    "led = gpiozero.LED(17)  # Connect LED to GPIO pin 17\n",
    "led.on()\n",
    "```"
   ]
  },
  {
   "cell_type": "markdown",
   "id": "46d36a8c-3d8c-418b-836e-60e455a77ebc",
   "metadata": {},
   "source": [
    "### 7. **Installing Essential Software and Tools**\n",
    "\n",
    "   - **Python Libraries**: Raspberry Pi OS comes with Python pre-installed, but you can add popular libraries:\n",
    "     ```bash\n",
    "     sudo apt install python3-pip\n",
    "     pip3 install gpiozero RPi.GPIO\n",
    "     ```\n",
    "   - **Web Servers**: If using the Pi for web development, install Apache or NGINX:\n",
    "     ```bash\n",
    "     sudo apt install apache2\n",
    "     ```\n",
    "   - **Databases**: Install SQLite, MySQL, or PostgreSQL if you need a database.\n",
    "     ```bash\n",
    "     sudo apt install sqlite3\n",
    "     ```"
   ]
  },
  {
   "cell_type": "markdown",
   "id": "799d04cb-92b6-44bc-bcb0-9e585b5c5e13",
   "metadata": {},
   "source": [
    "### 8. **Using the Pi as a Desktop PC**\n",
    "\n",
    "With its increased power, the Raspberry Pi 5 (8GB RAM) can function as a modest desktop computer for web browsing, coding, and office tasks:\n",
    "   - **LibreOffice**: Comes pre-installed for document editing.\n",
    "   - **Web Browser**: Chromium is pre-installed, and other browsers like Firefox can be added.\n",
    "   - **Code Editors**: Editors like **VS Code** or **Thonny** are popular for coding on the Raspberry Pi."
   ]
  },
  {
   "cell_type": "markdown",
   "id": "2bdf4ba1-4af6-4ed6-b72c-c8ada1507e6c",
   "metadata": {},
   "source": [
    "### 9. **Popular Projects with Raspberry Pi 5**\n",
    "\n",
    "   - **Home Automation Hub**: Use with software like Home Assistant to control IoT devices.\n",
    "   - **Network Firewall or VPN**: Set up Pi-hole for network-wide ad blocking, or configure OpenVPN.\n",
    "   - **Retro Gaming Console**: Use RetroPie or Recalbox to turn your Pi into a retro gaming station.\n",
    "   - **Media Center**: Install Kodi or Plex to use the Pi as a media center."
   ]
  },
  {
   "cell_type": "markdown",
   "id": "c2b13960-5163-48a9-bd78-dbf1560b018b",
   "metadata": {},
   "source": [
    "### 10. **Maintaining and Updating the Pi**\n",
    "\n",
    "   - **Regular Updates**: Keep the OS and software up to date for security and performance.\n",
    "     ```bash\n",
    "     sudo apt update && sudo apt upgrade -y\n",
    "     ```\n",
    "   - **Backups**: Use tools like **rsync** to back up data to an external drive or cloud storage.\n"
   ]
  },
  {
   "cell_type": "markdown",
   "id": "9478847a-f5b2-440c-b778-0dc9be32393d",
   "metadata": {},
   "source": [
    "## VNC"
   ]
  },
  {
   "cell_type": "markdown",
   "id": "4c3cf93d-0ff3-40b0-900f-d372b4943220",
   "metadata": {},
   "source": [
    "### Install tigervnc"
   ]
  },
  {
   "cell_type": "markdown",
   "id": "6deb496f-b76d-4213-9f19-7aff8a08eac9",
   "metadata": {},
   "source": [
    "```sh\n",
    "sudo apt install tigervnc-standalone-server tigervnc-viewer -y\n",
    "\n",
    "```"
   ]
  },
  {
   "cell_type": "markdown",
   "id": "2a416b7a-a420-4c8a-85ee-0c84f172455e",
   "metadata": {},
   "source": [
    "### Add .files git"
   ]
  },
  {
   "cell_type": "markdown",
   "id": "25eebace-7fed-4a07-ac88-7b2e6b5af5c3",
   "metadata": {},
   "source": [
    "- [create ssh key](https://bthek1.github.io/WEB_doc/github.html)\n",
    "- Add [git@github.com:bthek1/.files.git](git@github.com:bthek1/.files.git)\n",
    "- source ~/.bashrc"
   ]
  },
  {
   "cell_type": "markdown",
   "id": "042a107b-3264-476e-aa3c-3e7dd633ccc3",
   "metadata": {},
   "source": [
    "### bpytop"
   ]
  },
  {
   "cell_type": "markdown",
   "id": "b3b5f514-62bf-4a75-b330-02b37ebded2a",
   "metadata": {},
   "source": [
    "```sh\n",
    "sudo apt install software-properties-common\n",
    "```"
   ]
  },
  {
   "cell_type": "markdown",
   "id": "70d1d563-fe5a-431d-9226-98fa5031a390",
   "metadata": {},
   "source": [
    "```sh\n",
    "sudo apt install bpytop\n",
    "\n",
    "```"
   ]
  },
  {
   "cell_type": "markdown",
   "id": "092c63e6-caeb-4c15-9509-90e8e70df22e",
   "metadata": {},
   "source": [
    "## Program GPIO Pins\n",
    "\n",
    "> The Raspberry Pi 5’s GPIO pins allow for various types of hardware control and communication, enabling you to interface with LEDs, sensors, motors, displays, and more. The main GPIO protocols on the Pi include **digital I/O**, **PWM**, **I2C**, **SPI**, **UART**, and **1-Wire**. Python makes it easy to work with these protocols, especially using libraries like `RPi.GPIO`, `gpiozero`, and `spidev`.\n",
    "\n"
   ]
  },
  {
   "cell_type": "markdown",
   "id": "090bdf12-86ce-4423-aabe-b64e5f37b276",
   "metadata": {},
   "source": [
    "![](rpi5_pinout.png)"
   ]
  },
  {
   "cell_type": "markdown",
   "id": "93dda9e4-968b-4bbb-9c08-a6559a4c934e",
   "metadata": {},
   "source": [
    "### 1. **Setting Up GPIO on Raspberry Pi**\n",
    "   - **RPi.GPIO**: A popular library for low-level control of the GPIO pins.\n",
    "     ```bash\n",
    "     sudo apt update\n",
    "     sudo apt install python3-rpi.gpio\n",
    "     ```\n",
    "   - **gpiozero**: A higher-level, beginner-friendly library for common hardware components.\n",
    "     ```bash\n",
    "     sudo apt install python3-gpiozero\n",
    "     ```"
   ]
  },
  {
   "cell_type": "markdown",
   "id": "0de4a728-75ae-4880-b5e4-0b8c34486d0f",
   "metadata": {},
   "source": [
    "### 2. **Configuring GPIO Pins**\n",
    "   GPIO pins can be configured as either input or output. `RPi.GPIO` uses two main numbering systems:\n",
    "   - **BCM (Broadcom)**: The GPIO pin numbers as per the Broadcom chip.\n",
    "   - **BOARD**: Physical pin numbers on the board header."
   ]
  },
  {
   "cell_type": "markdown",
   "id": "e2270bf7-985c-4526-aaa6-c4513b16022a",
   "metadata": {},
   "source": [
    "### 3. **Basic Digital I/O (Input and Output)**\n",
    "\n",
    "#### Output Example (LED Blinking)\n",
    "```python\n",
    "import RPi.GPIO as GPIO\n",
    "import time\n",
    "\n",
    "GPIO.setmode(GPIO.BCM)\n",
    "GPIO.setup(17, GPIO.OUT)  # Use GPIO pin 17\n",
    "\n",
    "try:\n",
    "    while True:\n",
    "        GPIO.output(17, GPIO.HIGH)  # Turn LED on\n",
    "        time.sleep(1)\n",
    "        GPIO.output(17, GPIO.LOW)   # Turn LED off\n",
    "        time.sleep(1)\n",
    "except KeyboardInterrupt:\n",
    "    pass\n",
    "finally:\n",
    "    GPIO.cleanup()\n",
    "```\n",
    "\n",
    "#### Input Example (Button)\n",
    "```python\n",
    "GPIO.setup(18, GPIO.IN, pull_up_down=GPIO.PUD_UP)  # Use GPIO 18 with a pull-up resistor\n",
    "\n",
    "while True:\n",
    "    if GPIO.input(18) == GPIO.LOW:  # Button pressed\n",
    "        print(\"Button Pressed!\")\n",
    "    time.sleep(0.1)\n",
    "```"
   ]
  },
  {
   "cell_type": "markdown",
   "id": "fdce15f1-ed02-4731-8cc0-a7074c006a2b",
   "metadata": {},
   "source": [
    "### 4. **Pulse Width Modulation (PWM)**\n",
    "PWM is used to control things like LED brightness and motor speed by adjusting the duty cycle.\n",
    "\n",
    "#### PWM Example\n",
    "```python\n",
    "import RPi.GPIO as GPIO\n",
    "import time\n",
    "\n",
    "GPIO.setmode(GPIO.BCM)\n",
    "GPIO.setup(17, GPIO.OUT)\n",
    "\n",
    "pwm = GPIO.PWM(17, 1000)  # Initialize PWM on pin 17 at 1 kHz frequency\n",
    "pwm.start(0)              # Start with 0% duty cycle (off)\n",
    "\n",
    "try:\n",
    "    for duty_cycle in range(0, 101, 5):\n",
    "        pwm.ChangeDutyCycle(duty_cycle)\n",
    "        time.sleep(0.1)\n",
    "finally:\n",
    "    pwm.stop()\n",
    "    GPIO.cleanup()\n",
    "```"
   ]
  },
  {
   "cell_type": "markdown",
   "id": "a8a7983b-8f35-4f9a-acfa-161bdf846f5c",
   "metadata": {},
   "source": [
    "### 5. **I2C Communication (Inter-Integrated Circuit)**\n",
    "I2C is commonly used for sensors, displays, and EEPROMs. The Raspberry Pi 5’s default I2C pins are **SDA1 (GPIO 2)** and **SCL1 (GPIO 3)**.\n",
    "\n",
    "#### Enable I2C and Install `smbus` Library\n",
    "   ```bash\n",
    "   sudo apt install -y i2c-tools python3-smbus\n",
    "   ```\n",
    "\n",
    "#### Scanning for I2C Devices\n",
    "```bash\n",
    "i2cdetect -y 1\n",
    "```\n",
    "\n",
    "#### I2C Example (Reading a Sensor)\n",
    "```python\n",
    "import smbus\n",
    "import time\n",
    "\n",
    "bus = smbus.SMBus(1)       # Use I2C bus 1\n",
    "DEVICE_ADDRESS = 0x48      # Replace with the I2C address of your device\n",
    "REGISTER = 0x00            # Register to read from\n",
    "\n",
    "while True:\n",
    "    data = bus.read_byte_data(DEVICE_ADDRESS, REGISTER)\n",
    "    print(\"Data:\", data)\n",
    "    time.sleep(1)\n",
    "```"
   ]
  },
  {
   "cell_type": "markdown",
   "id": "10ab6c17-6234-4c4c-b199-d39524c34394",
   "metadata": {},
   "source": [
    "### 6. **SPI Communication (Serial Peripheral Interface)**\n",
    "SPI is often used for displays, SD cards, and other high-speed peripherals. The default SPI pins on the Raspberry Pi 5 are **MOSI (GPIO 10)**, **MISO (GPIO 9)**, **SCK (GPIO 11)**, and **CE0 (GPIO 8)**.\n",
    "\n",
    "#### Enable SPI and Install `spidev`\n",
    "   ```bash\n",
    "   sudo apt install python3-spidev\n",
    "   ```\n",
    "\n",
    "#### SPI Example\n",
    "```python\n",
    "import spidev\n",
    "import time\n",
    "\n",
    "spi = spidev.SpiDev()\n",
    "spi.open(0, 0)            # Open SPI bus 0, chip select 0\n",
    "spi.max_speed_hz = 50000  # Set the maximum speed\n",
    "\n",
    "try:\n",
    "    while True:\n",
    "        resp = spi.xfer2([0xAA])  # Send data (0xAA is an example byte)\n",
    "        print(\"Response:\", resp)\n",
    "        time.sleep(1)\n",
    "finally:\n",
    "    spi.close()\n",
    "```"
   ]
  },
  {
   "cell_type": "markdown",
   "id": "972b42c1-9fb3-4f4d-8800-8902d9229882",
   "metadata": {},
   "source": [
    "### 7. **UART Communication (Universal Asynchronous Receiver-Transmitter)**\n",
    "UART is used for serial communication, such as GPS modules or serial displays. The default UART pins are **TX (GPIO 14)** and **RX (GPIO 15)**.\n",
    "\n",
    "#### Enable UART and Install `pyserial`\n",
    "   ```bash\n",
    "   sudo apt install python3-serial\n",
    "   ```\n",
    "\n",
    "#### UART Example\n",
    "```python\n",
    "import serial\n",
    "import time\n",
    "\n",
    "ser = serial.Serial(\"/dev/serial0\", baudrate=9600, timeout=1)  # Open UART on /dev/serial0\n",
    "\n",
    "try:\n",
    "    ser.write(b\"Hello from Raspberry Pi 5\\n\")  # Write data\n",
    "    while True:\n",
    "        if ser.in_waiting > 0:\n",
    "            data = ser.readline().decode().strip()\n",
    "            print(\"Received:\", data)\n",
    "finally:\n",
    "    ser.close()\n",
    "```"
   ]
  },
  {
   "cell_type": "markdown",
   "id": "3f4bb284-a0a7-4f29-8799-ecf7a5f2e3ba",
   "metadata": {},
   "source": [
    "### 8. **1-Wire Communication**\n",
    "1-Wire is often used for temperature sensors like the DS18B20. The default 1-Wire GPIO pin is **GPIO 4**.\n",
    "\n",
    "#### Enable 1-Wire\n",
    "1. Open the configuration:\n",
    "   ```bash\n",
    "   sudo raspi-config\n",
    "   ```\n",
    "2. Go to **Interface Options** > **1-Wire** and enable it. Reboot if prompted.\n",
    "\n",
    "#### Read 1-Wire Data (Example for DS18B20 Sensor)\n",
    "1. Find the sensor in `/sys/bus/w1/devices/`.\n",
    "2. Read the sensor data:\n",
    "   ```python\n",
    "   import os\n",
    "   import time\n",
    "\n",
    "   sensor_path = '/sys/bus/w1/devices/28-XXXXXXXXXXXX/w1_slave'  # Replace with your sensor’s address\n",
    "\n",
    "   def read_temp():\n",
    "       with open(sensor_path, 'r') as f:\n",
    "           lines = f.readlines()\n",
    "       if \"YES\" in lines[0]:\n",
    "           temp_str = lines[1].split(\"t=\")[1]\n",
    "           temp_c = float(temp_str) / 1000.0\n",
    "           return temp_c\n",
    "\n",
    "   while True:\n",
    "       temp = read_temp()\n",
    "       print(\"Temperature:\", temp, \"°C\")\n",
    "       time.sleep(1)\n",
    "   ```"
   ]
  },
  {
   "cell_type": "markdown",
   "id": "d7452c4d-ce6f-4d6e-a270-24c81a9fc21b",
   "metadata": {},
   "source": [
    "### 9. **Using the `gpiozero` Library for High-Level Control**\n",
    "`gpiozero` offers an easier, high-level approach for beginners and comes with built-in support for LEDs, buttons, motors, and more.\n",
    "\n",
    "#### LED and Button with gpiozero\n",
    "```python\n",
    "from gpiozero import LED, Button\n",
    "from signal import pause\n",
    "\n",
    "led = LED(17)\n",
    "button = Button(18)\n",
    "\n",
    "button.when_pressed = led.on\n",
    "button.when_released = led.off\n",
    "\n",
    "pause()  # Keep the program running\n",
    "```"
   ]
  },
  {
   "cell_type": "markdown",
   "id": "c379bb5e-8e27-412e-845c-76f1f0c27f9d",
   "metadata": {},
   "source": [
    "### 10. **Example: Combining Multiple Protocols**\n",
    "\n",
    "This example combines GPIO, PWM, and I2C to control an LED and read sensor data:\n",
    "\n",
    "```python\n",
    "from gpiozero import LED, PWMLED\n",
    "from smbus import SMBus\n",
    "import time\n",
    "\n",
    "# Initialize an LED on GPIO 17 and an I2C sensor on address 0x48\n",
    "led = LED(17)\n",
    "pwm_led = PWMLED(17)\n",
    "bus = SMBus(1)\n",
    "DEVICE_ADDRESS = 0x48\n",
    "REGISTER = 0x00\n",
    "\n",
    "# Toggle the LED and adjust PWM based on sensor data\n",
    "try:\n",
    "    while True:\n",
    "        data = bus.read_byte_data(DEVICE_ADDRESS, REGISTER)\n",
    "        brightness = data / 255  # Scale to 0.0 - 1.0 for PWM\n",
    "        pwm_led.value = brightness\n",
    "        time.sleep(0.1)\n",
    "except KeyboardInterrupt:\n",
    "    pass\n",
    "```"
   ]
  },
  {
   "cell_type": "markdown",
   "id": "879d3ada-4c03-4fd7-a9e0-6ec913160940",
   "metadata": {},
   "source": [
    "### Summary of Raspberry Pi 5 GPIO Communication Protocols\n",
    "\n",
    "| Protocol | Pins | Libraries | Common Devices |\n",
    "|----------|------|-----------|----------------|\n",
    "| Digital I/O | Any GPIO | `RPi.GPIO`, `gpiozero` | Buttons, LEDs, Relays |\n",
    "| PWM | Any GPIO | `RPi.GPIO`, `gpiozero` | LEDs (dimming), motors |\n",
    "| I2C | SDA (GPIO 2), SCL (GPIO 3) | `smbus`, `gpiozero` | Sensors, displays |\n",
    "| SPI | MOSI (GPIO 10), MISO (GPIO 9), SCK (GPIO 11), CE0 (GPIO 8) | `spidev`, `gpiozero` | SD cards, displays |\n",
    "| UART | TX (GPIO 14), RX (GPIO 15) | `serial`, `gpiozero` | GPS, serial displays |\n",
    "| 1-Wire | GPIO 4 | `os`, `gpiozero` | DS18B20 temperature sensor |\n",
    "\n",
    "### Tips for GPIO Programming\n",
    "- **Use Pull-up/Pull-down Resistors**: Ensure stability with pull-up or pull-down resistors for inputs.\n",
    "- **Error Handling**: Use `try...except` to handle unexpected interruptions.\n",
    "- **Cleanup**: Always call `GPIO.cleanup()` to reset pins after running scripts with `RPi.GPIO`.\n",
    "\n",
    "This guide covers the essentials of each protocol, providing a foundation for more advanced projects with the Raspberry Pi 5 and Python GPIO programming."
   ]
  },
  {
   "cell_type": "code",
   "execution_count": null,
   "id": "083f6926-7dcd-4197-980f-20c623d3ac63",
   "metadata": {},
   "outputs": [],
   "source": []
  }
 ],
 "metadata": {
  "kernelspec": {
   "display_name": "fast",
   "language": "python",
   "name": "fast"
  }
 },
 "nbformat": 4,
 "nbformat_minor": 5
}
