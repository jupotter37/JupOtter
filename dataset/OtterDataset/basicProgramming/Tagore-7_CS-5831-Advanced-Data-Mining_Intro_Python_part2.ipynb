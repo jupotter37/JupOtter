{
  "nbformat": 4,
  "nbformat_minor": 0,
  "metadata": {
    "colab": {
      "name": "Intro-Python-part2.ipynb",
      "provenance": [],
      "collapsed_sections": [],
      "toc_visible": true
    },
    "kernelspec": {
      "name": "python3",
      "display_name": "Python 3"
    }
  },
  "cells": [
    {
      "cell_type": "markdown",
      "metadata": {
        "id": "JOP0ewgk0d4K"
      },
      "source": [
        "# Debugging\n",
        "\n",
        "Materials adapted from *[How to Think Like a Computer Scientist](https://runestone.academy/runestone/static/thinkcspy/index.html)*\n",
        "\n",
        "This colab notebook is paired with the page on Canvas: **2-Debugging**\n",
        "\n",
        "One of the most important skills you need to acquire is the ability to debug your programs.  Debugging might be the most under-appreciated, and under-taught, skill in introductory computer science.  For that reason we are introducing a series of \"debugging interludes.\" \n"
      ]
    },
    {
      "cell_type": "markdown",
      "metadata": {
        "id": "nm8WApWc00J6"
      },
      "source": [
        "# How to Avoid Degugging \n",
        "\n",
        "Perhaps the most important lesson in debugging is that it is **largely avoidable** -- if you work carefully.\n",
        "\n",
        "1.  **Understand the Problem**  You must have a firm grasp on **what** you are trying to accomplish but not necessarily **how** to do it. You do not need to understand the entire problem. But you must understand at least a portion of it and what the program should do in a specific circumstance -- what output should be produced for some given input. This will allow you to test your progress. You can then identify if a solution is correct or whether there remains work to do or bugs to fix. This is probably the single  biggest piece of advice for programmers at every level.  \n",
        "\n",
        "2.  **Start Small**  It is tempting to sit down and crank out an entire program at once.  But, when the program  -- inevitably -- does not work, you have a myriad of options for things that might be wrong.  Where to start? Where to look first?  How to figure out what went wrong?  I'll get to that in the next section.  So, start with something really small.  Maybe just two lines and then make sure that runs.  Hitting the run button is quick and easy. It gives you immediate feedback about whether what you have just done works or not.  Another immediate benefit of having something small working is that you have something to turn in.  Turning in a small, incomplete program, is almost always better than nothing.\n",
        "\n",
        "\n",
        "3.  **Keep Improving It**  Once you have a small part of your program working, the next step is to figure out something small to add to it -- how can you move closer to a correct solution. As you add to your program, you gain greater insight into the underlying problem you are trying to solve.  \n",
        "If you keep adding small pieces of the program one at a time, it is much easier to figure out what went wrong. (This of course means you must be able to recognize if there is an error. And that is done through testing.)  \n",
        "As long as you always test each new bit of code, it is most likely that any error is in the new code you have just added. Less new code means its easier to figure out where the problem is.\n",
        "\n",
        "This notion of **Get something working and keep improving it** is a mantra that you can repeat throughout your  career as a programmer.  It's a great way to avoid the frustrations mentioned above.  Think of it this way.   Every time you have a little success, your brain releases a tiny bit of chemical that makes you happy.  So, you can keep yourself happy and make programming more enjoyable by creating lots of small victories for yourself.\n",
        "\n",
        "**Note**  \n",
        "The technique of start small and keep improving is the basis of **Agile** software development. This practice is used widely in the industry. "
      ]
    },
    {
      "cell_type": "markdown",
      "metadata": {
        "id": "sOrVtrzS05y0"
      },
      "source": [
        "### Example 1 - Debugging \n",
        "\n",
        "Ok, let's look at an example.   Ask the user for the time now (in hours 0 - 23), and ask for the number of hours to wait. Your program should output what the time will be on the clock when the alarm goes off. For example, if ``current_time`` is 8 and ``wait_time`` is 5, ``final_time`` should be 13 (1 pm).\n",
        "\n",
        "So, where to start?  The problem requires two pieces of input from the user, so let's start there and make sure we can get the data we need.\n"
      ]
    },
    {
      "cell_type": "code",
      "metadata": {
        "id": "xMoBJfPg0WLR"
      },
      "source": [
        "current_time = input(\"what is the current time (in hours)? \")\n",
        "wait_time = input(\"How many hours do you want to wait \")\n",
        "\n",
        "print(current_time)\n",
        "print(wait_time)"
      ],
      "execution_count": null,
      "outputs": []
    },
    {
      "cell_type": "markdown",
      "metadata": {
        "id": "iNYaHdP11WgB"
      },
      "source": [
        "So far so good.  Now let's take the next step.  We need to figure out what the time will be after waiting ``wait_time`` number of hours.  A reasonable solution is to simply add ``wait_time`` to ``current_time`` and print out the result.  So lets try that."
      ]
    },
    {
      "cell_type": "code",
      "metadata": {
        "id": "cmsKnnuA0_wu"
      },
      "source": [
        "current_time = input(\"What is the current time (in hours 0 - 23)? \")\n",
        "wait_time = input(\"How many hours do you want to wait \")\n",
        "\n",
        "print(current_time)\n",
        "print(wait_time)\n",
        "\n",
        "final_time = current_time + wait_time\n",
        "print(final_time)"
      ],
      "execution_count": null,
      "outputs": []
    },
    {
      "cell_type": "markdown",
      "metadata": {
        "id": "4t1nilEr1evQ"
      },
      "source": [
        "Hmm, when you run this example you see that something unexpected has happened. You would not realize this was an error unless you first knew what the program was supposed to do.\n",
        "\n",
        "This error was probably pretty simple to spot, because we printed out the value of ``final_time`` and it is easy to see that the numbers were just concatenated together rather than added.  \n",
        "\n",
        "So what do we do about the problem?  We will need to convert both ``current_time`` and ``wait_time`` to ``int``.  At this stage of your programming development, it can be a good idea to include the type of the variable in the variable name itself.  So let's look at another iteration of the program that does that, and the conversion to integer."
      ]
    },
    {
      "cell_type": "code",
      "metadata": {
        "id": "YC3HNy-61aX2"
      },
      "source": [
        "current_time_str = input(\"What is the current time (in hours 0-23)? \")\n",
        "wait_time_str = input(\"How many hours do you want to wait \")\n",
        "\n",
        "current_time_int = int(current_time_str)\n",
        "wait_time_int = int(wait_time_str)\n",
        "\n",
        "final_time_int = current_time_int + wait_time_int\n",
        "print(final_time_int)"
      ],
      "execution_count": null,
      "outputs": []
    },
    {
      "cell_type": "markdown",
      "metadata": {
        "id": "LG9OvO6713xX"
      },
      "source": [
        "Now, that's a lot better, and in fact depending on the hours you chose, it may be exactly right.  If you entered 8 for ``current_time`` and 5 for ``wait_time`` then 13 is correct.  But if you entered 17 (5 pm) for ``current_time`` and 9 for ``wait_time`` then the result of 26 is not correct.\n",
        "\n",
        "This illustrates an important aspect of **testing**: it is important to test your code on a range of inputs.  It is especially important to test your code on **boundary conditions**.  For this particular problem, you should test your program with ``current_time`` of 0, 23, and some values in between.  You should test your ``wait_time`` for 0, and some larger values.  What about negative numbers?  Negative numbers don't make sense, and since we don't really have the tools to deal with telling the user when something is wrong we will not worry about that just yet.  \n",
        "\n",
        "So to account for those numbers that are bigger than 23, we need one final step: using the modulus operator."
      ]
    },
    {
      "cell_type": "code",
      "metadata": {
        "id": "_GnfWbTL16I5"
      },
      "source": [
        "current_time_str = input(\"What is the current time (in hours 0-23)?\")\n",
        "wait_time_str = input(\"How many hours do you want to wait\")\n",
        "\n",
        "current_time_int = int(current_time_str)\n",
        "wait_time_int = int(wait_time_str)\n",
        "\n",
        "final_time_int = current_time_int + wait_time_int\n",
        "\n",
        "final_answer = final_time_int % 24\n",
        "\n",
        "print(\"The time after waiting is: \", final_answer)"
      ],
      "execution_count": null,
      "outputs": []
    },
    {
      "cell_type": "markdown",
      "metadata": {
        "id": "qKtzwDZV2FTA"
      },
      "source": [
        "Of course even in this simple progression, there are other ways you could have gone astray. We'll look at some of those and how you track them down in the next section."
      ]
    },
    {
      "cell_type": "markdown",
      "metadata": {
        "id": "JdPbJdz72uTY"
      },
      "source": [
        "# Beginning Tips for Debugging\n",
        "\n",
        "Debugging a program is a different way of thinking than writing a program.  The process of debugging is much more like being a detective.  Here are a few rules to get you thinking about debugging.\n",
        "\n",
        "1. Everyone is a suspect (Except Python)!  It's common for beginner programmers to blame Python, but that should be your last resort.  Remember that Python has been used to solve CS1 level problems millions of times by millions of other programmers.  So, Python is probably not the problem.\n",
        "\n",
        "2. Find clues.  This is the biggest job of the detective and right now there are two important kinds of clues for you to understand.\n",
        "\n",
        "   * Error Messages\n",
        "\n",
        "   * Print Statements"
      ]
    },
    {
      "cell_type": "markdown",
      "metadata": {
        "id": "VY1tr_0f2xvd"
      },
      "source": [
        "# Know Your Error Messages\n",
        "\n",
        "Many problems in your program will lead to an error message.  For example, look at the following version of the example program in the previous section.\n",
        "\n",
        "    current_time_str = input(\"What is the current time (in hours 0-23)?\")\n",
        "    wait_time_str = input(\"How many hours do you want to wait\")\n",
        "\n",
        "    current_time_int = int(current_time_str)\n",
        "    wait_time_int = int(wait_time_int)\n",
        "\n",
        "    final_time_int = current_time_int + wait_time_int\n",
        "    print(final_time_int)\n",
        "\n",
        "Can you see what is wrong, just by looking at the code?  Maybe, maybe not.  Our brain tends to see what we think is there, so sometimes it is very hard to find the problem just by looking at the code.  Especially when it is our own code and we are sure that we have done everything right!\n",
        "\n",
        "Let's try to run the program again:"
      ]
    },
    {
      "cell_type": "code",
      "metadata": {
        "id": "24ALbnFD2HgU"
      },
      "source": [
        "current_time_str = input(\"What is the current time (in hours 0-23)? \")\n",
        "wait_time_str = input(\"How many hours do you want to wait \")\n",
        "\n",
        "current_time_int = int(current_time_str)\n",
        "wait_time_int = int(wait_time_int)\n",
        "\n",
        "final_time_int = current_time_int + wait_time_int\n",
        "print(final_time_int)\n"
      ],
      "execution_count": null,
      "outputs": []
    },
    {
      "cell_type": "markdown",
      "metadata": {
        "id": "bUn0Vts93pb8"
      },
      "source": [
        "Aha!  Now we have an error message that might be useful.  The name error tells us that  ``wait_time_int`` is not defined.  It also tells us that the error is on line 5.  That's **really** useful information.  Now look at line five and you will see that ``wait_time_int`` is used on both the left and the right hand side of the assignment statement. \n",
        "\n",
        "In writing the book, *How to Think Like a Computer Scientist*, the authors kept track of types of errors in the exercises.  Nearly 90% of the error messages encountered for this  problem are ParseError, TypeError, NameError, or ValueError.  We will look at these errors in three stages:\n",
        "\n",
        "* First we will define what these four error messages mean.\n",
        "* Then, we will look at some examples that cause these errors to occur.\n",
        "* Finally we will look at ways to help uncover the root cause of these messages."
      ]
    },
    {
      "cell_type": "markdown",
      "metadata": {
        "id": "mn0yGgmr3vnP"
      },
      "source": [
        "## Syntax Error\n",
        "\n",
        "Syntax errors, or parse errors, happen when you make an error in the syntax of your program.  Syntax errors are like making grammatical errors in writing.  If you don't use periods and commas in your writing then you are making it hard for other readers to figure out what you are trying to say.  Similarly Python has certain grammatical rules that must be followed or else Python can't figure out what you are trying to say.\n",
        "\n",
        "Usually SyntaxErrors can be traced back to missing punctuation characters, such as parentheses, quotation marks, or commas. Remember that in Python commas are used to separate parameters to functions.  Parentheses must be balanced, or else Python thinks that you are trying to include everything that follows as a parameter to some function.\n",
        "\n",
        "Here are a couple examples of Parse errors in the example program we have been using.  See if you can figure out what caused them."
      ]
    },
    {
      "cell_type": "markdown",
      "metadata": {
        "id": "1BYrwwNj4FIu"
      },
      "source": [
        "### <a name=\"exer1\"></a>Exercise 1 \n",
        "\n",
        "Find and fix the error in the following code. "
      ]
    },
    {
      "cell_type": "code",
      "metadata": {
        "id": "_48MS7NV3-Tb"
      },
      "source": [
        "current_time_str = input(\"What is the current time (in hours 0-23)?\")\n",
        "wait_time_str = input(\"How many hours do you want to wait\"\n",
        "\n",
        "current_time_int = int(current_time_str)\n",
        "wait_time_int = int(wait_time_str)\n",
        "\n",
        "final_time_int = current_time_int + wait_time_int\n",
        "print(final_time_int)"
      ],
      "execution_count": null,
      "outputs": []
    },
    {
      "cell_type": "markdown",
      "metadata": {
        "id": "pwmR_BZU25jZ"
      },
      "source": [
        "**Finding Clues**  How can you help yourself find these problems?  One trick that can be very valuable in this situation is to simply start by commenting out the line number that is flagged as having the error.  If you comment out line four, the error message now changes to point to line 5.  Now you ask yourself, am I really that bad that I have two lines in a row that have errors on them?  Maybe, so taken to the extreme, you could comment out all of the remaining lines in the program. Now the error message changes to ``TokenError: EOF in multi-line statement``  This is a very technical way of saying that Python got to the end of file (EOF) while it was still looking for something.  In this case a right parenthesis.\n",
        "\n",
        "[exercise 1 answer](#ans1)"
      ]
    },
    {
      "cell_type": "code",
      "metadata": {
        "id": "hwcw7SSh67Qj"
      },
      "source": [
        "# clear the variables from Exercise 1 \n",
        "del current_time_str, wait_time_str, current_time_int, wait_time_int, final_time_int"
      ],
      "execution_count": null,
      "outputs": []
    },
    {
      "cell_type": "markdown",
      "metadata": {
        "id": "MS8nEQ5Z5qvq"
      },
      "source": [
        "### <a name=\"exer2\"></a> Exercise 2 \n",
        "\n",
        "Find and fix the error in the following code. "
      ]
    },
    {
      "cell_type": "code",
      "metadata": {
        "id": "oRGCm9ED4xXe"
      },
      "source": [
        "current_time_str = input(\"What is the \"current time\" (in hours 0-23)?\")\n",
        "wait_time_str = input(\"How many hours do you want to wait\")\n",
        "\n",
        "current_time_int = int(current_time_str)\n",
        "wait_time_int = int(wait_time_str)\n",
        "\n",
        "final_time_int = current_time_int + wait_time_int\n",
        "print(final_time_int)"
      ],
      "execution_count": null,
      "outputs": []
    },
    {
      "cell_type": "markdown",
      "metadata": {
        "id": "47iLYPhj54Xe"
      },
      "source": [
        "[exercise 2 answer](#ans2)"
      ]
    },
    {
      "cell_type": "markdown",
      "metadata": {
        "id": "gLIlFOJF7wJC"
      },
      "source": [
        "## TypeError \n",
        "\n",
        "TypeErrors occur when you you try to combine two objects that are not compatible.  For example you try to add together an integer and a string.  Usually type errors can be isolated to lines that are using mathematical operators, and usually the line number given by the error message is an accurate indication of the line.\n"
      ]
    },
    {
      "cell_type": "markdown",
      "metadata": {
        "id": "rgaRWX3d9ROW"
      },
      "source": [
        "### <a name=\"exer3\"></a> Exercise 3 \n",
        "\n",
        "Here is a TypeError example created by a Polish programmer.  See if you can find and fix the error. \n"
      ]
    },
    {
      "cell_type": "code",
      "metadata": {
        "id": "Et2EVscc9Un9"
      },
      "source": [
        "a = input('wpisz godzine')\n",
        "x = input('wpisz liczbe godzin')\n",
        "int(x)\n",
        "int(a)\n",
        "h = x // 24\n",
        "s = x % 24\n",
        "print (h, s)\n",
        "a = a + s\n",
        "print ('godzina teraz', a)"
      ],
      "execution_count": null,
      "outputs": []
    },
    {
      "cell_type": "markdown",
      "metadata": {
        "id": "j_QE65d39ZiZ"
      },
      "source": [
        "**Finding Clues**  One thing that can help you in this situation is to print out the values and the types of the variables involved in the statement that is causing the error.  You might try adding a print statement after line 4 ``print(x, type(x))``  You will see that at least we have confirmed that x is of type string.  Now you need to start to work backward through the program.  You need to ask yourself, where is x used in the program?  x is used on lines 2, 3, and of course 5 and 6 (where we are getting an error).  So maybe you move the print statement to be after line 2 and again after 3.  Line 3 is where you expect the value of x to be changed to an integer.  Could line 4 be mysteriously changing x back to a string?  Not very likely.  So the value and type of x is just what you would expect it to be after line 2, but not after line 3.  This helps you isolate the problem to line 3.  In fact if you employ one of our earlier techniques of commenting out line 3 you will see that this has no impact on the error, and is a big clue that line 3 as it is currently written is useless.\n",
        "\n",
        "[exercise 3 answer](#ans3)"
      ]
    },
    {
      "cell_type": "code",
      "metadata": {
        "id": "KkRNwg_o_zsJ"
      },
      "source": [
        "# clear the variables from Exercise 1 \n",
        "del wait_time"
      ],
      "execution_count": null,
      "outputs": []
    },
    {
      "cell_type": "markdown",
      "metadata": {
        "id": "kmxCsiux_COs"
      },
      "source": [
        "## NameErrror \n",
        "\n",
        "Name errors almost always mean that you have used a variable before it has a value.  Often NameErrors are simply caused by typos in your code.  They can be hard to spot if you don't have a good eye for catching spelling mistakes.  Other times you may simply mis-remember the name of a variable or even a function you want to call.    You have seen one example of a NameError at the beginning of this section.  Here is another one.  See if you can get this program to run successfully:\n"
      ]
    },
    {
      "cell_type": "markdown",
      "metadata": {
        "id": "buBpPyTY_SCT"
      },
      "source": [
        "### <a name=\"exer4\"></a> Exercise 4"
      ]
    },
    {
      "cell_type": "code",
      "metadata": {
        "id": "tvPyLf7j_gM4"
      },
      "source": [
        "str_time = input(\"What time is it now?\")\n",
        "str_wait_time = input(\"What is the number of nours to wait?\")\n",
        "time = int(str_time)\n",
        "wai_time = int(str_wait_time)\n",
        "\n",
        "time_when_alarm_go_off = time + wait_time\n",
        "print(time_when_alarm_go_off)"
      ],
      "execution_count": null,
      "outputs": []
    },
    {
      "cell_type": "markdown",
      "metadata": {
        "id": "ChCVX7zhAJqq"
      },
      "source": [
        "**Finding Clues**  With name errors one of the best things you can do is use the editor, or browser search function.  Quite often if you search for the exact word in the error message one of two things will happen:\n",
        "\n",
        "1.  The word you are searching for will appear only once in your code, it's also likely that it will be on the right hand side of an assignment statement, or as a parameter to a function.  That should confirm for you that you have a typo somewhere.  If the name in question **is** what you thought it should be then you probably have a typo on the left hand side of an assignment statement on a line before your error message occurs.  Start looking backward at your assignment statements.  In some cases it's really nice to leave all the highlighted strings from the search function visible as they will help you very quickly find a line where you might have expected your variable to be highlighted.\n",
        "\n",
        "2.  The second thing that may happen is that you will be looking directly at a line where you expected the search to find the string in question, but it will not be highlighted.  Most often that will be the typo right there.\n",
        "\n",
        "[exercise 4 answer](#ans4)"
      ]
    },
    {
      "cell_type": "markdown",
      "metadata": {
        "id": "c8OAUbCUA3F7"
      },
      "source": [
        "### <a name=\"exer5\"></a> Exercise 5 \n",
        "\n",
        "Here is another piece of code to try. "
      ]
    },
    {
      "cell_type": "code",
      "metadata": {
        "id": "M5gaYXCHA_33"
      },
      "source": [
        "n = input(\"What time is it now (in hours)?\")\n",
        "n = imt(n)\n",
        "m = input(\"How many hours do you want to wait?\")\n",
        "m = int(m)\n",
        "q = m % 12\n",
        "print(\"The time is now\", q)"
      ],
      "execution_count": null,
      "outputs": []
    },
    {
      "cell_type": "markdown",
      "metadata": {
        "id": "5BG1TyVzBDr5"
      },
      "source": [
        "[exercise 5 answer](#ans5)"
      ]
    },
    {
      "cell_type": "markdown",
      "metadata": {
        "id": "Sdd6fMtNB4hu"
      },
      "source": [
        "## ValueError \n",
        "\n",
        "Value errors occur when you pass a parameter to a function and the function is expecting a certain limitations on the values, and the value passed is not compatible.  We can illustrate that with this particular program in two different ways.\n",
        "\n"
      ]
    },
    {
      "cell_type": "markdown",
      "metadata": {
        "id": "8c7v99icCaOf"
      },
      "source": [
        "### Example \n",
        "\n",
        "Run the program but instead of typing in anything to the dialog box just click OK.  You should see the following error message:  ``ValueError: invalid literal for int() with base 10: '' on line: 4``   This error is not because you have made a mistake in your program.  Although sometimes we do want to check the user input to make sure its valid, but we don't have all the tools we need for that yet.  The error happens because the user did not give us something we can convert to an integer, instead we gave it an empty string.  Try running the program again.  Now this time enter \"ten\" instead of the number 10.  You will get a similar error message."
      ]
    },
    {
      "cell_type": "code",
      "metadata": {
        "id": "bNgYQN-SCQsK"
      },
      "source": [
        "current_time_str = input(\"What is the current time (in hours 0-23)?\")\n",
        "current_time_int = int(current_time_str)\n",
        "\n",
        "wait_time_str = input(\"How many hours do you want to wait\")\n",
        "wait_time_int = int(wait_time_int)\n",
        "\n",
        "final_time_int = current_time_int + wait_time_int\n",
        "print(final_time_int)"
      ],
      "execution_count": null,
      "outputs": []
    },
    {
      "cell_type": "markdown",
      "metadata": {
        "id": "q-mFr7spCjMN"
      },
      "source": [
        "ValueErrors are not always caused by user input error, but in this program that is the case.  We'll look again at ValueErrors again when we get to more complicated programs.  For now it is worth repeating that you need to keep track of the restrictions needed for your variables, and understand what your function is expecting.  You can do this by writing comments in your code, or by naming your variables in a way that reminds you of their proper form."
      ]
    },
    {
      "cell_type": "markdown",
      "metadata": {
        "id": "uVjNTT3ZD1HQ"
      },
      "source": [
        "## Code Running Order \n",
        "\n",
        "A further complication when running code in a notebook is that the code cells can be run out of order.  If you are getting unexpected output or errors, within your notebook you may want to consider clearing all the variables and starting again.  This can be done by \"Runtime -> Restart runtime\".  "
      ]
    },
    {
      "cell_type": "markdown",
      "metadata": {
        "id": "pNkNwvZrD6nH"
      },
      "source": [
        "## Summary \n",
        "\n",
        "* Make sure you take the time to understand error messages.  They can help you a lot.\n",
        "\n",
        "* ``print`` statements are your friends.  Use them to help you uncover what is **really** happening in your code.\n",
        "\n",
        "* Work backward from the error.  Many times an error message is caused by something that has happened before it in the "
      ]
    },
    {
      "cell_type": "markdown",
      "metadata": {
        "id": "DCkaHI9B4yDd"
      },
      "source": [
        "\n",
        "\n",
        "---\n",
        "\n",
        "\n",
        "\n",
        "---\n",
        "\n"
      ]
    },
    {
      "cell_type": "markdown",
      "metadata": {
        "id": "Pm55Qq474zV-"
      },
      "source": [
        "# Answers to Exercises \n",
        "\n",
        " \n"
      ]
    },
    {
      "cell_type": "markdown",
      "metadata": {
        "id": "8QCk-kr_AcGY"
      },
      "source": [
        "## <a name=\"ans1\"></a> Exercise 1"
      ]
    },
    {
      "cell_type": "code",
      "metadata": {
        "id": "mDGLiuuC4yno"
      },
      "source": [
        "current_time_str = input(\"What is the current time (in hours 0-23)?\")\n",
        "wait_time_str = input(\"How many hours do you want to wait\"\n",
        "\n",
        "current_time_int = int(current_time_str)\n",
        "wait_time_int = int(wait_time_str)\n",
        "\n",
        "final_time_int = current_time_int + wait_time_int\n",
        "print(final_time_int)"
      ],
      "execution_count": null,
      "outputs": []
    },
    {
      "cell_type": "markdown",
      "metadata": {
        "id": "hWrwrRQa5CAQ"
      },
      "source": [
        "Since the error message points us to line 4 this might be a bit confusing.  If you look at line four carefully you will see that there is no problem with the syntax.  So, in this case the next step should be to back up and look at the previous line.  In this case if you look at line 2 carefully you will see that there is a missing right parenthesis at the end of the line.  Remember that parenthses must be balanced.  Since Python allows statements to continue over multiple lines inside parentheses python will continue to scan subsequent lines looking for the balancing right parenthesis.  However in this case it finds the name ``current_time_int`` and it will want to interpret that as another parameter to the input function.  But, there is not a comma to separate the previous string from the variable so as far as Python is concerned the error here is a missing comma.  From your perspective its a missing parenthesis."
      ]
    },
    {
      "cell_type": "code",
      "metadata": {
        "id": "ID_LLrUp5CdG"
      },
      "source": [
        "current_time_str = input(\"What is the current time (in hours 0-23)?\")\n",
        "wait_time_str = input(\"How many hours do you want to wait\")\n",
        "\n",
        "current_time_int = int(current_time_str)\n",
        "wait_time_int = int(wait_time_str)\n",
        "\n",
        "final_time_int = current_time_int + wait_time_int\n",
        "print(final_time_int)"
      ],
      "execution_count": null,
      "outputs": []
    },
    {
      "cell_type": "markdown",
      "metadata": {
        "id": "le6LSxdG5eIV"
      },
      "source": [
        "[Back to Examples](#exer1)"
      ]
    },
    {
      "cell_type": "markdown",
      "metadata": {
        "id": "RKhhaT-X7XPa"
      },
      "source": [
        "## <a name=\"ans2\"></a> Exercise 2\n",
        "\n"
      ]
    },
    {
      "cell_type": "code",
      "metadata": {
        "id": "OOZjY3O65LVb"
      },
      "source": [
        "current_time_str = input(\"What is the \"current time\" (in hours 0-23)?\")\n",
        "wait_time_str = input(\"How many hours do you want to wait\")\n",
        "\n",
        "current_time_int = int(current_time_str)\n",
        "wait_time_int = int(wait_time_str)\n",
        "\n",
        "final_time_int = current_time_int + wait_time_int\n",
        "print(final_time_int)"
      ],
      "execution_count": null,
      "outputs": []
    },
    {
      "cell_type": "markdown",
      "metadata": {
        "id": "-8YzjlB97g4z"
      },
      "source": [
        "The error message points you to line 1 and in this case that is exactly where the error occurs. In this case your biggest clue is to notice the difference in  highlighting on the line.  Notice that the words \"current time\" are a different color than those around them.  Why is this?  Because \"current time\" is in double quotes inside another pair of double quotes Python thinks that you are finishing off one string, then you have some other names and finally another string.  But you haven't separated these names or strings by commas, and you haven't added them together with the concatenation operator (+).  So, there are several corrections you could make.  First you could make the argument to input be as follows:  ``\"What is the 'current time' (in hours 0-23)\"``  Notice that here we have correctly used single quotes inside double quotes.   Another option is to simply remove the extra double quotes.  Why were you quoting \"current time\" anyway?  ``\"What is the current time (in hours 0-23)\"``\n",
        "\n",
        "[Back to Examples](#exer2)"
      ]
    },
    {
      "cell_type": "markdown",
      "metadata": {
        "id": "A1M1Q5IU9oz8"
      },
      "source": [
        "## <a name=\"ans3\"></a>Exercise 3\n",
        "\n",
        "Here is a TypeError.  See if you can find and fix the error. "
      ]
    },
    {
      "cell_type": "code",
      "metadata": {
        "id": "Kf7O6TJj7k5i"
      },
      "source": [
        "a = input('wpisz godzine')\n",
        "x = input('wpisz liczbe godzin')\n",
        "int(x)\n",
        "int(a)\n",
        "h = x // 24\n",
        "s = x % 24\n",
        "print (h, s)\n",
        "a = a + s\n",
        "print ('godzina teraz', a)"
      ],
      "execution_count": null,
      "outputs": []
    },
    {
      "cell_type": "markdown",
      "metadata": {
        "id": "bXSqs6jg91hG"
      },
      "source": [
        "In finding this error there are few lessons to think about.  First, you may find it very disconcerting that you cannot understand the whole program.  Unless you speak Polish then this won't be an issue.  But, learning what you can ignore, and what you need to focus on is a very important part of the debugging process.  Second, types and good variable names are important and can be very helpful.  In this case `a` and `x` are not particularly helpful names, and in particular they do not help you think about the types of your variables, which as the error message implies is the root of the problem here.  The rest of the lessons we will get back to in a minute.\n",
        "\n",
        "The error message provided to you gives you a pretty big hint.  `TypeError: unsupported operand type(s) for //: 'str' and 'int' on line: 5`  On line five we are trying to use integer division on `x` and 24.  The error message tells you that you are tyring to divide a string by a number.  In this case you know that 24 is a number so `x` must be a string.  But how?  You can see the function call on line 3 where you are converting x to an integer.  ``int(x)`` or so you think.  This is lesson three and is one of the most common errors we see in introductory programming.  What is the difference between ``int(x)`` and ``x = int(x)``\n",
        "\n",
        "* The expression ``int(x)`` converts the string referenced by x to an integer but it does not store it anywhere.  It is very common to assume that ``int(x)`` somehow changes x itself, as that is what you are intending!  The thing that makes this very tricky is that ``int(x)`` is a valid expression, so it doesn't cause any kind of error, but rather the error happens later on in the program.\n",
        "\n",
        "* The assignment statement  ``x = int(x)`` is very different.  Again, the ``int(x)`` expression converts the string referenced by x to an integer, but this time it also changes what x references so that x now refers to the integer value returned by the ``int`` function.  \n",
        "\n",
        "So, the solution to this problem is to change lines 3 and 4 so they are assignment statements.\n",
        "\n",
        "[Back to Examples](#exer3)"
      ]
    },
    {
      "cell_type": "markdown",
      "metadata": {
        "id": "Yvs9ekVRAekm"
      },
      "source": [
        "## <a name=\"ans4\"></a> Exercise 4 "
      ]
    },
    {
      "cell_type": "code",
      "metadata": {
        "id": "9rvttAgz9yS9"
      },
      "source": [
        "str_time = input(\"What time is it now?\")\n",
        "str_wait_time = input(\"What is the number of nours to wait?\")\n",
        "time = int(str_time)\n",
        "wai_time = int(str_wait_time)\n",
        "\n",
        "time_when_alarm_go_off = time + wait_time\n",
        "print(time_when_alarm_go_off)"
      ],
      "execution_count": null,
      "outputs": []
    },
    {
      "cell_type": "markdown",
      "metadata": {
        "id": "_ioTdWX9Aptm"
      },
      "source": [
        "In this example, the student seems to be a fairly bad speller, as there are a number of typos to fix.  The first one is identified as wait_time is not defined on line 6.  Now in this example you can see that there is ``str_wait_time`` on line 2, and  ``wai_time`` on line 4 and ``wait_time`` on line 6.   If you do not have very sharp eyes its easy to miss that there is a typo on line 4.\n",
        "\n",
        "[Back to Examples](#exer4)"
      ]
    },
    {
      "cell_type": "markdown",
      "metadata": {
        "id": "8zmwndZKBIJq"
      },
      "source": [
        "##  <a name=\"ans5\"></a> Exercise 5 \n",
        "\n"
      ]
    },
    {
      "cell_type": "code",
      "metadata": {
        "id": "i8MmglK9AqfE"
      },
      "source": [
        "n = input(\"What time is it now (in hours)?\")\n",
        "n = imt(n)\n",
        "m = input(\"How many hours do you want to wait?\")\n",
        "m = int(m)\n",
        "q = m % 12\n",
        "print(\"The time is now\", q)\n"
      ],
      "execution_count": null,
      "outputs": []
    },
    {
      "cell_type": "markdown",
      "metadata": {
        "id": "wqVl4X6oBOMp"
      },
      "source": [
        "This one is once again a typo, but the typo is not in a variable name, but rather, the name of a function.  The search strategy would help you with this one easily, but there is another clue for you as well.  The editor in the textbook, as well as almost all Python editors in the world provide you with color clues.  Notice that on line 2 the function ``imt`` is not highlighted blue like the word ``int`` on line 4.\n",
        "\n",
        "[Back to Examples](#exer5)"
      ]
    },
    {
      "cell_type": "code",
      "metadata": {
        "id": "VtNBGNeHBSFv"
      },
      "source": [
        ""
      ],
      "execution_count": null,
      "outputs": []
    }
  ]
}