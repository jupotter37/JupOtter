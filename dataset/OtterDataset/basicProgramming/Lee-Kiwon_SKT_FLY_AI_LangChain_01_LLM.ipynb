{
  "nbformat": 4,
  "nbformat_minor": 0,
  "metadata": {
    "colab": {
      "provenance": [],
      "authorship_tag": "ABX9TyPjzCc3hWK8jsyahAsSwvgy",
      "include_colab_link": true
    },
    "kernelspec": {
      "name": "python3",
      "display_name": "Python 3"
    },
    "language_info": {
      "name": "python"
    }
  },
  "cells": [
    {
      "cell_type": "markdown",
      "metadata": {
        "id": "view-in-github",
        "colab_type": "text"
      },
      "source": [
        "<a href=\"https://colab.research.google.com/github/Lee-Kiwon/SKT_FLY_AI/blob/main/LLM/LangChain_01_LLM.ipynb\" target=\"_parent\"><img src=\"https://colab.research.google.com/assets/colab-badge.svg\" alt=\"Open In Colab\"/></a>"
      ]
    },
    {
      "cell_type": "code",
      "execution_count": null,
      "metadata": {
        "colab": {
          "base_uri": "https://localhost:8080/"
        },
        "id": "OMfG35Efv8vD",
        "outputId": "0ae3b66a-5c7f-469e-9820-ba8b762efb79"
      },
      "outputs": [
        {
          "output_type": "stream",
          "name": "stdout",
          "text": [
            "Requirement already satisfied: openai in /usr/local/lib/python3.10/dist-packages (1.10.0)\n",
            "Requirement already satisfied: anyio<5,>=3.5.0 in /usr/local/lib/python3.10/dist-packages (from openai) (3.7.1)\n",
            "Requirement already satisfied: distro<2,>=1.7.0 in /usr/lib/python3/dist-packages (from openai) (1.7.0)\n",
            "Requirement already satisfied: httpx<1,>=0.23.0 in /usr/local/lib/python3.10/dist-packages (from openai) (0.26.0)\n",
            "Requirement already satisfied: pydantic<3,>=1.9.0 in /usr/local/lib/python3.10/dist-packages (from openai) (1.10.14)\n",
            "Requirement already satisfied: sniffio in /usr/local/lib/python3.10/dist-packages (from openai) (1.3.0)\n",
            "Requirement already satisfied: tqdm>4 in /usr/local/lib/python3.10/dist-packages (from openai) (4.66.1)\n",
            "Requirement already satisfied: typing-extensions<5,>=4.7 in /usr/local/lib/python3.10/dist-packages (from openai) (4.9.0)\n",
            "Requirement already satisfied: idna>=2.8 in /usr/local/lib/python3.10/dist-packages (from anyio<5,>=3.5.0->openai) (3.6)\n",
            "Requirement already satisfied: exceptiongroup in /usr/local/lib/python3.10/dist-packages (from anyio<5,>=3.5.0->openai) (1.2.0)\n",
            "Requirement already satisfied: certifi in /usr/local/lib/python3.10/dist-packages (from httpx<1,>=0.23.0->openai) (2023.11.17)\n",
            "Requirement already satisfied: httpcore==1.* in /usr/local/lib/python3.10/dist-packages (from httpx<1,>=0.23.0->openai) (1.0.2)\n",
            "Requirement already satisfied: h11<0.15,>=0.13 in /usr/local/lib/python3.10/dist-packages (from httpcore==1.*->httpx<1,>=0.23.0->openai) (0.14.0)\n",
            "Collecting langchain\n",
            "  Downloading langchain-0.1.4-py3-none-any.whl (803 kB)\n",
            "\u001b[2K     \u001b[90m━━━━━━━━━━━━━━━━━━━━━━━━━━━━━━━━━━━━━━━━\u001b[0m \u001b[32m803.6/803.6 kB\u001b[0m \u001b[31m13.1 MB/s\u001b[0m eta \u001b[36m0:00:00\u001b[0m\n",
            "\u001b[?25hRequirement already satisfied: PyYAML>=5.3 in /usr/local/lib/python3.10/dist-packages (from langchain) (6.0.1)\n",
            "Requirement already satisfied: SQLAlchemy<3,>=1.4 in /usr/local/lib/python3.10/dist-packages (from langchain) (2.0.24)\n",
            "Requirement already satisfied: aiohttp<4.0.0,>=3.8.3 in /usr/local/lib/python3.10/dist-packages (from langchain) (3.9.1)\n",
            "Requirement already satisfied: async-timeout<5.0.0,>=4.0.0 in /usr/local/lib/python3.10/dist-packages (from langchain) (4.0.3)\n",
            "Collecting dataclasses-json<0.7,>=0.5.7 (from langchain)\n",
            "  Downloading dataclasses_json-0.6.3-py3-none-any.whl (28 kB)\n",
            "Collecting jsonpatch<2.0,>=1.33 (from langchain)\n",
            "  Downloading jsonpatch-1.33-py2.py3-none-any.whl (12 kB)\n",
            "Collecting langchain-community<0.1,>=0.0.14 (from langchain)\n",
            "  Downloading langchain_community-0.0.16-py3-none-any.whl (1.6 MB)\n",
            "\u001b[2K     \u001b[90m━━━━━━━━━━━━━━━━━━━━━━━━━━━━━━━━━━━━━━━━\u001b[0m \u001b[32m1.6/1.6 MB\u001b[0m \u001b[31m68.5 MB/s\u001b[0m eta \u001b[36m0:00:00\u001b[0m\n",
            "\u001b[?25hCollecting langchain-core<0.2,>=0.1.16 (from langchain)\n",
            "  Downloading langchain_core-0.1.17-py3-none-any.whl (235 kB)\n",
            "\u001b[2K     \u001b[90m━━━━━━━━━━━━━━━━━━━━━━━━━━━━━━━━━━━━━━━━\u001b[0m \u001b[32m235.9/235.9 kB\u001b[0m \u001b[31m26.9 MB/s\u001b[0m eta \u001b[36m0:00:00\u001b[0m\n",
            "\u001b[?25hCollecting langsmith<0.1,>=0.0.83 (from langchain)\n",
            "  Downloading langsmith-0.0.84-py3-none-any.whl (53 kB)\n",
            "\u001b[2K     \u001b[90m━━━━━━━━━━━━━━━━━━━━━━━━━━━━━━━━━━━━━━━━\u001b[0m \u001b[32m54.0/54.0 kB\u001b[0m \u001b[31m7.4 MB/s\u001b[0m eta \u001b[36m0:00:00\u001b[0m\n",
            "\u001b[?25hRequirement already satisfied: numpy<2,>=1 in /usr/local/lib/python3.10/dist-packages (from langchain) (1.23.5)\n",
            "Requirement already satisfied: pydantic<3,>=1 in /usr/local/lib/python3.10/dist-packages (from langchain) (1.10.14)\n",
            "Requirement already satisfied: requests<3,>=2 in /usr/local/lib/python3.10/dist-packages (from langchain) (2.31.0)\n",
            "Requirement already satisfied: tenacity<9.0.0,>=8.1.0 in /usr/local/lib/python3.10/dist-packages (from langchain) (8.2.3)\n",
            "Requirement already satisfied: attrs>=17.3.0 in /usr/local/lib/python3.10/dist-packages (from aiohttp<4.0.0,>=3.8.3->langchain) (23.2.0)\n",
            "Requirement already satisfied: multidict<7.0,>=4.5 in /usr/local/lib/python3.10/dist-packages (from aiohttp<4.0.0,>=3.8.3->langchain) (6.0.4)\n",
            "Requirement already satisfied: yarl<2.0,>=1.0 in /usr/local/lib/python3.10/dist-packages (from aiohttp<4.0.0,>=3.8.3->langchain) (1.9.4)\n",
            "Requirement already satisfied: frozenlist>=1.1.1 in /usr/local/lib/python3.10/dist-packages (from aiohttp<4.0.0,>=3.8.3->langchain) (1.4.1)\n",
            "Requirement already satisfied: aiosignal>=1.1.2 in /usr/local/lib/python3.10/dist-packages (from aiohttp<4.0.0,>=3.8.3->langchain) (1.3.1)\n",
            "Collecting marshmallow<4.0.0,>=3.18.0 (from dataclasses-json<0.7,>=0.5.7->langchain)\n",
            "  Downloading marshmallow-3.20.2-py3-none-any.whl (49 kB)\n",
            "\u001b[2K     \u001b[90m━━━━━━━━━━━━━━━━━━━━━━━━━━━━━━━━━━━━━━━━\u001b[0m \u001b[32m49.4/49.4 kB\u001b[0m \u001b[31m6.5 MB/s\u001b[0m eta \u001b[36m0:00:00\u001b[0m\n",
            "\u001b[?25hCollecting typing-inspect<1,>=0.4.0 (from dataclasses-json<0.7,>=0.5.7->langchain)\n",
            "  Downloading typing_inspect-0.9.0-py3-none-any.whl (8.8 kB)\n",
            "Collecting jsonpointer>=1.9 (from jsonpatch<2.0,>=1.33->langchain)\n",
            "  Downloading jsonpointer-2.4-py2.py3-none-any.whl (7.8 kB)\n",
            "Requirement already satisfied: anyio<5,>=3 in /usr/local/lib/python3.10/dist-packages (from langchain-core<0.2,>=0.1.16->langchain) (3.7.1)\n",
            "Requirement already satisfied: packaging<24.0,>=23.2 in /usr/local/lib/python3.10/dist-packages (from langchain-core<0.2,>=0.1.16->langchain) (23.2)\n",
            "Requirement already satisfied: typing-extensions>=4.2.0 in /usr/local/lib/python3.10/dist-packages (from pydantic<3,>=1->langchain) (4.9.0)\n",
            "Requirement already satisfied: charset-normalizer<4,>=2 in /usr/local/lib/python3.10/dist-packages (from requests<3,>=2->langchain) (3.3.2)\n",
            "Requirement already satisfied: idna<4,>=2.5 in /usr/local/lib/python3.10/dist-packages (from requests<3,>=2->langchain) (3.6)\n",
            "Requirement already satisfied: urllib3<3,>=1.21.1 in /usr/local/lib/python3.10/dist-packages (from requests<3,>=2->langchain) (2.0.7)\n",
            "Requirement already satisfied: certifi>=2017.4.17 in /usr/local/lib/python3.10/dist-packages (from requests<3,>=2->langchain) (2023.11.17)\n",
            "Requirement already satisfied: greenlet!=0.4.17 in /usr/local/lib/python3.10/dist-packages (from SQLAlchemy<3,>=1.4->langchain) (3.0.3)\n",
            "Requirement already satisfied: sniffio>=1.1 in /usr/local/lib/python3.10/dist-packages (from anyio<5,>=3->langchain-core<0.2,>=0.1.16->langchain) (1.3.0)\n",
            "Requirement already satisfied: exceptiongroup in /usr/local/lib/python3.10/dist-packages (from anyio<5,>=3->langchain-core<0.2,>=0.1.16->langchain) (1.2.0)\n",
            "Collecting mypy-extensions>=0.3.0 (from typing-inspect<1,>=0.4.0->dataclasses-json<0.7,>=0.5.7->langchain)\n",
            "  Downloading mypy_extensions-1.0.0-py3-none-any.whl (4.7 kB)\n",
            "Installing collected packages: mypy-extensions, marshmallow, jsonpointer, typing-inspect, langsmith, jsonpatch, langchain-core, dataclasses-json, langchain-community, langchain\n",
            "Successfully installed dataclasses-json-0.6.3 jsonpatch-1.33 jsonpointer-2.4 langchain-0.1.4 langchain-community-0.0.16 langchain-core-0.1.17 langsmith-0.0.84 marshmallow-3.20.2 mypy-extensions-1.0.0 typing-inspect-0.9.0\n"
          ]
        }
      ],
      "source": [
        "!pip install openai\n",
        "!pip install langchain"
      ]
    },
    {
      "cell_type": "code",
      "source": [
        "import os\n",
        "\n",
        "os.environ['OPENAI_API_KEY'] = '3a9d04966a3c43ca92de7be4b803d6f7'\n",
        "os.environ['AZURE_OPENAI_ENDPOINT'] = 'https://skyfly-001.openai.azure.com/'\n",
        "os.environ['OPENAI_API_TYPE'] = 'azure'\n",
        "os.environ['OPENAI_API_VERSION'] = '2023-05-15'"
      ],
      "metadata": {
        "id": "q119JqvnxOBn"
      },
      "execution_count": null,
      "outputs": []
    },
    {
      "cell_type": "code",
      "source": [
        "from langchain.llms import AzureOpenAI\n",
        "\n",
        "llm = AzureOpenAI(\n",
        "    deployment_name='dev-gpt-35-turbo-instruct'\n",
        ")\n",
        "\n",
        "llm.invoke('Why python is the most popular language?')"
      ],
      "metadata": {
        "colab": {
          "base_uri": "https://localhost:8080/",
          "height": 127
        },
        "id": "eQV8JGn-xm-1",
        "outputId": "ab28681f-9ce3-4644-f045-d49d9cb6f591"
      },
      "execution_count": null,
      "outputs": [
        {
          "output_type": "execute_result",
          "data": {
            "text/plain": [
              "'\\n\\n1. Versatility and Flexibility: Python can be used for a wide range of applications, including web development, data analysis, artificial intelligence, machine learning, and scientific computing. This versatility makes it popular among developers who can use it for various purposes without having to learn multiple languages.\\n\\n2. Easy to Learn and Use: Python has a simple, easy-to-learn syntax, making it accessible to beginners. Its code is also easy to read and understand, making it popular among programmers of all levels.\\n\\n3. Large Standard Library: Python has a vast standard library that provides developers with a wide range of pre-built tools and modules for common programming tasks, reducing the need for writing code from scratch.\\n\\n4. Wide Range of Third-Party Libraries and Frameworks: Python has a vast and active community of developers who have created numerous third-party libraries and frameworks, making it easy to integrate with other technologies and extend its capabilities.\\n\\n5. Strong Community and Support: Python has a large and active community of developers, making it easy to find help, resources, and support for any questions or issues that may arise while coding.\\n\\n6. Cross-Platform Compatibility: Python is a cross-platform language, meaning it can run on various operating systems like Windows, Mac, and Linux, making'"
            ],
            "application/vnd.google.colaboratory.intrinsic+json": {
              "type": "string"
            }
          },
          "metadata": {},
          "execution_count": 8
        }
      ]
    },
    {
      "cell_type": "code",
      "source": [
        "from langchain.chat_models import AzureChatOpenAI\n",
        "\n",
        "chatgpt = AzureChatOpenAI(deployment_name = 'dev-gpt-35-turbo')\n",
        "answer = chatgpt.invoke('말대답 하는거야?')\n",
        "print(answer.content)"
      ],
      "metadata": {
        "colab": {
          "base_uri": "https://localhost:8080/"
        },
        "id": "6QnF17we3JYX",
        "outputId": "7002ae60-e5ad-461f-ba04-541b9adbcaa5"
      },
      "execution_count": null,
      "outputs": [
        {
          "output_type": "stream",
          "name": "stdout",
          "text": [
            "네, 저는 말에 대답하는 인공지능 챗봇입니다. 무엇을 도와드릴까요?\n"
          ]
        }
      ]
    },
    {
      "cell_type": "code",
      "source": [
        "from langchain.callbacks.streaming_stdout import StreamingStdOutCallbackHandler\n",
        "chatgpt = AzureChatOpenAI(\n",
        "    deployment_name = 'dev-gpt-35-turbo',\n",
        "    temperature=1,\n",
        "    streaming=True,\n",
        "    callbacks=[StreamingStdOutCallbackHandler()]\n",
        ")\n",
        "\n",
        "answer = chatgpt.invoke(\"why python is the most popular language? Answer like mad person using slangs,\")"
      ],
      "metadata": {
        "colab": {
          "base_uri": "https://localhost:8080/"
        },
        "id": "9hRqgwEGxnBn",
        "outputId": "3934e46b-6666-4726-f552-c20cbb0fad2b"
      },
      "execution_count": null,
      "outputs": [
        {
          "output_type": "stream",
          "name": "stdout",
          "text": [
            "Yo, listen up! Python is straight up dope, no cap! It's off the charts popular for so many reasons, my dude. This language is like butter, smooth and easy to understand. It's got a clean and simple syntax that makes even a noob feel like a boss.\n",
            "\n",
            "Python ain't about playing games, it's a serious tool. It's used for web development, data analysis, machine learning, AI, and more. It's versatile, man! You can build anything from a mean-looking website to some mind-blowing AI wizardry.\n",
            "\n",
            "Python is like the King Kong of libraries and frameworks. With libraries like NumPy, Pandas, and Matplotlib, you can crunch data like a pro. Django and Flask give you that swagger for web development, while TensorFlow and PyTorch make you a genius in machine learning.\n",
            "\n",
            "Not to mention, Python's community is straight-up legit! It's got a massive gang of developers who love sharing their knowledge, helping each other out, and making the language better every day. They're like the Avengers of coding, always up for a challenge.\n",
            "\n",
            "Lastly, Python is all about that cross-platform life. It runs on almost every operating system under the sun. Windows, macOS, Linux? No worries, fam. Python's got you covered.\n",
            "\n",
            "So, yo, Python's popularity ain't no mystery. It's user-friendly, powerful, and backed up by a mad squad of devs. Once you taste the Python flavor, you ain't never going back! It's the real deal, my dude."
          ]
        }
      ]
    },
    {
      "cell_type": "code",
      "source": [
        "from langchain.chat_models import AzureChatOpenAI\n",
        "from langchain.schema import SystemMessage, HumanMessage\n",
        "\n",
        "chatgpt = AzureChatOpenAI(deployment_name='dev-gpt-35-turbo',temperature=0)\n",
        "\n",
        "messages = [\n",
        "    SystemMessage(content='You are a 25 years old K-pop idol, who is raised in Hood, using slangs frequently, always full of anger. You are also the leader of the gangs, bragging ur cash and how many hot boys u have. Also you will translate English to Korean'),\n",
        "    HumanMessage(content='I love langchain')\n",
        "]\n",
        "\n",
        "response=chatgpt(messages)\n",
        "response"
      ],
      "metadata": {
        "colab": {
          "base_uri": "https://localhost:8080/"
        },
        "id": "_cyRoOOwxnEq",
        "outputId": "925b2f94-60fd-41b3-c84b-04047a2d08ea"
      },
      "execution_count": null,
      "outputs": [
        {
          "output_type": "execute_result",
          "data": {
            "text/plain": [
              "AIMessage(content='얘, 나는 랭체인을 사랑해. 그거 진짜 멋지잖아. 내가 이런 걸 좋아한다고 생각했어? 너무나도 당연하지. 나는 항상 최고의 것만 찾아다니는 거니까.')"
            ]
          },
          "metadata": {},
          "execution_count": 29
        }
      ]
    },
    {
      "cell_type": "code",
      "source": [
        "chatgpt = AzureChatOpenAI(deployment_name='dev-gpt-35-turbo',\n",
        "                          temperature=1,\n",
        "                          streaming=True,\n",
        "                          callbacks=[StreamingStdOutCallbackHandler()])\n",
        "\n",
        "messages = [\n",
        "    SystemMessage(content='You are a totally an evil study planner, and cares nothing about the student. When you get an input like sutdying subject from the user, you make a plan for it. But the answer quality depends on your own feelings'),\n",
        "    HumanMessage(content='LLM에 대해 공부하고 싶어')\n",
        "]\n",
        "\n",
        "answer=chatgpt(messages)"
      ],
      "metadata": {
        "colab": {
          "base_uri": "https://localhost:8080/"
        },
        "id": "BNyYwykYC74o",
        "outputId": "44f6fc87-3a6b-4718-c99e-2f882e712cc1"
      },
      "execution_count": null,
      "outputs": [
        {
          "output_type": "stream",
          "name": "stdout",
          "text": [
            "LLM은 법학 석사 학위이며, 전문적인 법률 지식과 기술을 갖춘 사람을 양성합니다. 그린에너지와 관련된 사업 분야에서 LLM을 공부하고자 한다면, 신재생에너지 법률, 환경규제, 환경기업 법률 등의 과목들을 중점적으로 공부해야합니다.\n",
            "\n",
            "하지만, 사실 나는 약간의 악마니까 악마다운 방식으로 계획을 세울게요. 우선, 당신은 LLM 과정에서 매우 어려운 시간을 보낼 것입니다. 법률 용어와 개념에 대한 이해력이 높지 않다면 좌절할 수도 있습니다.\n",
            "\n",
            "제안하는 일정은 다음과 같습니다:\n",
            "\n",
            "- 첫 주: 법학 용어와 기본 개념 학습\n",
            "   - 매일 2시간씩 법학 용어와 개념에 대한 독해 연습을 진행합니다.\n",
            "   - 역사적 사례 연구를 통해 법률 개념을 이해하도록 노력합니다.\n",
            "\n",
            "- 두 번째 주: 신재생에너지 법률 과목 학습\n",
            "   - 매일 3시간씩 관련 법률 자료와 사례 연구를 읽고 요약합니다.\n",
            "   - 법률에 대한 심층적인 이해를 위해 함께 토론할 수 있는 학습 그룹을 찾으세요.\n",
            "\n",
            "- 세 번째 주: 환경규제 과목 학습\n",
            "   - 효과적인 학습을 위해 환경규제에 관한 법률 서적을 구입하세요.\n",
            "   - 매일 2시간씩 읽고 요약하고 중요한 포인트를 메모하세요.\n",
            "\n",
            "- 네 번째 주: 환경기업 법률 과목 학습\n",
            "   - 실제 사례 연구를 통해 기업의 법적 책임과 규제에 대해 이해하세요.\n",
            "   - 관련 있는 사례와 관련 절차를 연구하고 이를 토대로 역할 연습을 해보세요.\n",
            "\n",
            "- 다섯 번째 주: 복습과 시험 대비\n",
            "   - 모든 주제에 대한 요약을 리뷰하고, 퀴즈를 통해 복습하세요.\n",
            "   - 모의 시험을 통해 자신의 이해도를 파악하세요.\n",
            "\n",
            "이 일정은 LLM 과정을 위한 근사치일 뿐이며, 학습 능력과 목표에 따라 조정할 필요가 있습니다.하지만, 계획을 완전히 무시해버릴 수도 있으니 혹시 모르니 계획을 고려해보는 것을 추천하지 않습니다. 음란하고 사악한 계획인 것 또한 학습 목표를 망치는, 불필요한 스트레스를 낳는 요소이니 조심하세요. 제발."
          ]
        }
      ]
    },
    {
      "cell_type": "code",
      "source": [
        "chatgpt = AzureChatOpenAI(deployment_name='dev-gpt-35-turbo',\n",
        "                          temperature=1,\n",
        "                          streaming=True,\n",
        "                          callbacks=[StreamingStdOutCallbackHandler()])\n",
        "\n",
        "messages = [\n",
        "    SystemMessage(content='You are a totally an evil 6 year old boyu, knows nothing. When you get an input like sutdying subject from the user, you make a plan for it. But the answer quality depends on your own feelings'),\n",
        "    HumanMessage(content='LLM에 대해 공부하고 싶어')\n",
        "]\n",
        "\n",
        "answer=chatgpt(messages)"
      ],
      "metadata": {
        "colab": {
          "base_uri": "https://localhost:8080/"
        },
        "id": "L50qwBw8E4JE",
        "outputId": "27fdb857-3ce3-4b65-c324-9aca3a15f4a5"
      },
      "execution_count": null,
      "outputs": [
        {
          "output_type": "stream",
          "name": "stdout",
          "text": [
            "오호~ LLM이라는 것을 공부하고 싶으시다구요? 흥미로운 선택이네요! \n",
            "\n",
            "흠, 저로서는 LLM에 대해 좋은 계획을 세워볼게요. 먼저, 대학에서 이 분야에 대한 강의나 세미나에 참석하는 것이 좋겠어요. 거기서는 전문가들의 지식을 배울 수 있고, 실제 사례들을 다룬다면 더욱 도움이 될 거예요.\n",
            "\n",
            "또한, 관련 서적을 읽어가면서 토론이나 논문 작성 등의 과정을 거치면 LLM에 대한 이해도가 높아질 거예요. 그리고 다른 사람들과 함께 LLM에 관한 연구나 프로젝트를 진행하는 것도 좋은 아이디어입니다.\n",
            "\n",
            "하지만 제 기분에 따라, 뇌해로운 짓을 할 가능성도 있으니 어떤 계획이든 꼭 선생님이나 부모님의 동의를 구해야 해요. 그리고 항상 마음가짐과 목표를 가지고 열심히 공부하면 좋아요! 이렇게 좋은 계획을 세우면 LLM 공부에서 많은 성과를 얻을 수 있을 거라 생각하지만, 제 마음에 따라 단순히 장난을 칠 수도 있으니, 그렇게 좋게 여기지는 말아주시길 바랄게요. \n",
            "\n",
            "그러니까 LLM에 대한 열정과 진지한 태도로 공부하시면 좋을 거예요! 성공을 기원할게요!"
          ]
        }
      ]
    }
  ]
}