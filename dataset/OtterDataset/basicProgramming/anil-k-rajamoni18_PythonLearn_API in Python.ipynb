{
 "cells": [
  {
   "cell_type": "markdown",
   "metadata": {},
   "source": [
    "### What is API?"
   ]
  },
  {
   "cell_type": "markdown",
   "metadata": {},
   "source": [
    "#### An API (Application Programming Interface) is a set of rules that are shared by a particular service. \n",
    "- Here service can be any server or database or website \n",
    "\n",
    "- These rules determine in which format and with which command set your application can access the service, as well as what data this service can return in the response. \n",
    "\n",
    "- The API acts as a layer between your application and external service. \n",
    "- You do not need to know the internal structure and features of the service, you just send a certain simple command and receive data in a predetermined format."
   ]
  },
  {
   "cell_type": "markdown",
   "metadata": {},
   "source": [
    "- API is the acronym for Application Programming Interface, which is a software intermediary that allows two applications to talk to each other. \n",
    "- Each time you use an app like Facebook, send an instant message, or check the weather on your phone, or Paying the transactions or Using the googlemaps you’re using an API."
   ]
  },
  {
   "cell_type": "markdown",
   "metadata": {},
   "source": [
    "<img src= \"https://miro.medium.com/max/951/1*3h95bN2_xe-eitwHh_Ygvw.png\">"
   ]
  },
  {
   "cell_type": "markdown",
   "metadata": {},
   "source": [
    " - An API, or Application Programming Interface, is a server that you can use to retrieve and send data to using code. APIs are most commonly used to retrieve data, and that will be the focus of this beginner tutorial.\n",
    "\n",
    "- When we want to receive data from an API, we need to make a request. Requests are used all over the web. For instance, when you visited this blog post, your web browser made a request to the Dataquest web server, which responded with the content of this web page"
   ]
  },
  {
   "cell_type": "markdown",
   "metadata": {},
   "source": [
    "<img src= \"https://www.dataquest.io/wp-content/uploads/2019/09/api-request.svg\">"
   ]
  },
  {
   "cell_type": "markdown",
   "metadata": {},
   "source": [
    "- API requests work in exactly the same way – you make a request to an API server for data, and it responds to your request.\n",
    "\n",
    "- In order to work with API's in python , we need a tool to makes requests . In python most common library used to make requests\n",
    "are **requests** module , It is not part of Standard Library"
   ]
  },
  {
   "cell_type": "markdown",
   "metadata": {},
   "source": [
    "##### REST API (Representational state transfer) is an API that uses HTTP requests for communication with web services."
   ]
  },
  {
   "cell_type": "code",
   "execution_count": null,
   "metadata": {},
   "outputs": [],
   "source": []
  },
  {
   "cell_type": "markdown",
   "metadata": {},
   "source": [
    "- Client-server architecture – the client is responsible for the user interface, and the server is responsible for the backend and data storage. Client and server are independent and each of them can be replaced.\n",
    "\n",
    "- Stateless – no data from the client is stored on the server side. The session state is stored on the client side.\n",
    "\n",
    "- Cacheable – clients can cache server responses to improve performance."
   ]
  },
  {
   "cell_type": "markdown",
   "metadata": {},
   "source": [
    "### Types of Requests\n",
    "\n",
    "- Types of Requests or HTTP Request Methods characterize what action we are going to take by referring to the API.\n",
    "\n",
    "In total, there are four main types of actions:\n",
    "\n",
    "GET: retrieve information (like search results). This is the most common type of request. Using it, we can get the data we are interested in from those that the API is ready to share.\n",
    "\n",
    "POST: adds new data to the server. Using this type of request, you can, for example, add a new item to your inventory.\n",
    "\n",
    "PUT: changes existing information. For example, using this type of request, it would be possible to change the color or value of an existing product.\n",
    "\n",
    "DELETE: deletes existing information"
   ]
  },
  {
   "cell_type": "code",
   "execution_count": null,
   "metadata": {},
   "outputs": [],
   "source": []
  },
  {
   "cell_type": "code",
   "execution_count": null,
   "metadata": {},
   "outputs": [],
   "source": [
    "import requests"
   ]
  },
  {
   "cell_type": "code",
   "execution_count": null,
   "metadata": {},
   "outputs": [],
   "source": [
    "dir(requests) #check the content"
   ]
  },
  {
   "cell_type": "code",
   "execution_count": null,
   "metadata": {},
   "outputs": [],
   "source": [
    "import requests #to send HTTP request to the web services\n",
    "\n",
    "url = 'https://google.com/'\n",
    "\n",
    "response = requests.get(url) #returns a response object  URL \n",
    "\n",
    "print(response.status_code)\n",
    "#print(dir(response))\n",
    "\n",
    "#print(response.json())\n",
    "\n",
    "print(response.text) #as endpoint is not a api , responding with html content."
   ]
  },
  {
   "cell_type": "markdown",
   "metadata": {},
   "source": [
    "Request returns а Response, a powerful object for inspecting the results of the request.\n",
    "\n",
    "- Using Response,\n",
    "\n",
    "- you can examine the headers and contents of the response, get a dictionary with data from JSON in the response, and also determine how successful our access to the server was by the response code from it. In our example, the response code was 200"
   ]
  },
  {
   "cell_type": "markdown",
   "metadata": {},
   "source": [
    "### Status codes\n",
    "\n",
    "Status codes are returned with a response after each call to the server. They briefly describe the result of the call.\n",
    "\n",
    "- 200 – OK. The request was successful. The answer itself depends on the method used (GET, POST, etc.) and the API specification.\n",
    "\n",
    "- 204 – No Content. The server successfully processed the request and did not return any content.\n",
    "\n",
    "- 301 – Moved Permanently. The server responds that the requested page (endpoint) has been moved to another address and redirects to this address.\n",
    "- 400 – Bad Request. The server cannot process the request because the client-side errors (incorrect request format).\n",
    "\n",
    "- 401 – Unauthorized. Occurs when authentication was failed, due to incorrect credentials or even their absence.\n",
    "\n",
    "- 403 – Forbidden. Access to the specified resource is denied.\n",
    "\n",
    "- 404 – Not Found. The requested resource was not found on the server.\n",
    "\n",
    "- 500 – Internal Server Error. Occurs when an unknown error has occurred on the server."
   ]
  },
  {
   "cell_type": "code",
   "execution_count": null,
   "metadata": {},
   "outputs": [],
   "source": [
    "import requests\n",
    "response = requests.get('https://google.com/') #returns a response object \n",
    "print(response)\n",
    "print(bool(response))\n",
    "if response and response.status_code == 200:\n",
    "  print('Request is successful.')\n",
    "else:\n",
    "  print('Request returned an error.')\n",
    "\n"
   ]
  },
  {
   "cell_type": "markdown",
   "metadata": {},
   "source": [
    "### End points \n",
    "\n",
    "- Usually, an Endpoint is a specific address (for example, https://weather-in-london.com/forecast), \n",
    "\n",
    "- by referring to which you get access to certain features/data (in our case – the weather forecast for London). Commonly, the name (address) of the endpoint corresponds to the functionality it provides."
   ]
  },
  {
   "cell_type": "code",
   "execution_count": null,
   "metadata": {},
   "outputs": [],
   "source": [
    "import requests \n",
    "import json\n",
    "url = \"https://jsonplaceholder.typicode.com/users\"\n",
    "\n",
    "# make a request\n",
    "response = requests.get(url)\n",
    "\n",
    "if response.status_code == 200:\n",
    "    with open('user.json', mode='w') as f:\n",
    "        for data in response.json():\n",
    "            f.write(json.dumps(data))\n",
    "            f.write(\"\\n\")\n",
    "    print('data successfully written into file...')\n",
    "    \n",
    "else:\n",
    "    print('unable to make a request ...')"
   ]
  },
  {
   "cell_type": "code",
   "execution_count": null,
   "metadata": {},
   "outputs": [],
   "source": []
  },
  {
   "cell_type": "code",
   "execution_count": null,
   "metadata": {
    "scrolled": true
   },
   "outputs": [],
   "source": [
    "import requests \n",
    "import json\n",
    "url = \"https://jsonplaceholder.typicode.com/users\"\n",
    "\n",
    "# make a request\n",
    "response = requests.get(url)\n",
    "\n",
    "if response.status_code == 200:\n",
    "    responseData = response.json() \n",
    "    for user in responseData:\n",
    "        print(user['id'] , user['name'],user['address']['city'] ,  user['company']['name'] , sep = \" : \")\n",
    "        \n",
    "    \n",
    "else:\n",
    "    print('unable to make a request ...')"
   ]
  },
  {
   "cell_type": "code",
   "execution_count": null,
   "metadata": {},
   "outputs": [],
   "source": [
    "import requests\n",
    "import time\n",
    "\n",
    "\n",
    "def get_meme():\n",
    "    url = \"https://meme-api.com/gimme/wholesomememes/1\"\n",
    "    response = requests.get(url)\n",
    "    data = response.json()\n",
    "    \n",
    "    for dt in data[\"memes\"]:\n",
    "        print(dt[\"title\"],dt[\"preview\"][-1] , end= \"\\n \\n\")\n",
    "\n",
    "counter = 1\n",
    "#print(data)\n",
    "while True:\n",
    "    get_meme()\n",
    "    time.sleep(10)\n",
    "    if counter == 10:\n",
    "        break\n",
    "    counter+=1\n"
   ]
  },
  {
   "cell_type": "code",
   "execution_count": null,
   "metadata": {},
   "outputs": [],
   "source": []
  },
  {
   "cell_type": "code",
   "execution_count": null,
   "metadata": {},
   "outputs": [],
   "source": []
  },
  {
   "cell_type": "code",
   "execution_count": null,
   "metadata": {},
   "outputs": [],
   "source": []
  },
  {
   "cell_type": "code",
   "execution_count": null,
   "metadata": {},
   "outputs": [],
   "source": []
  },
  {
   "cell_type": "code",
   "execution_count": null,
   "metadata": {},
   "outputs": [],
   "source": []
  },
  {
   "cell_type": "markdown",
   "metadata": {},
   "source": [
    "#### JSON \n",
    "\n",
    "- JavaScript Object Notation (JSON)\n",
    "- It is a standardized format commonly used to transfer data as text that can be sent over a network. \n",
    "- It's used by lots of APIs and Databases, and it's easy for both humans and machines to read. \n",
    "- JSON represents objects as name/value pairs, just like a Python dictionary.\n",
    "\n",
    "- The previous version was XML\n",
    "\n",
    "- JSON is a syntax for storing and exchanging data."
   ]
  },
  {
   "cell_type": "markdown",
   "metadata": {},
   "source": [
    "- Python has a built-in package called json, which can be used to work with JSON data."
   ]
  },
  {
   "cell_type": "code",
   "execution_count": null,
   "metadata": {},
   "outputs": [],
   "source": [
    "import json"
   ]
  },
  {
   "cell_type": "code",
   "execution_count": null,
   "metadata": {},
   "outputs": [],
   "source": [
    "dir(json)"
   ]
  },
  {
   "cell_type": "code",
   "execution_count": null,
   "metadata": {
    "scrolled": true
   },
   "outputs": [],
   "source": [
    "#convert from JSON to Python\n",
    "x =  '{ \"name\":\"John\", \"age\":30, \"city\":\"New York\"}' #dict\n",
    "\n",
    "print(type(x))\n",
    "\n",
    "# parse x:\n",
    "y = json.loads(x)\n",
    "\n",
    "print(y)\n",
    "print(type(y))"
   ]
  },
  {
   "cell_type": "code",
   "execution_count": null,
   "metadata": {},
   "outputs": [],
   "source": [
    "print(y['age'])\n",
    "print(y.get('city'))"
   ]
  },
  {
   "cell_type": "code",
   "execution_count": null,
   "metadata": {},
   "outputs": [],
   "source": [
    "##Coverting python to json"
   ]
  },
  {
   "cell_type": "code",
   "execution_count": null,
   "metadata": {
    "scrolled": true
   },
   "outputs": [],
   "source": [
    "import json\n",
    "\n",
    "# a Python object (dict):\n",
    "x = {\n",
    "  \"name\": \"John\",\n",
    "  \"age\": 30,\n",
    "  \"city\": \"New York\"\n",
    "}\n",
    "print(type(x))\n",
    "\n",
    "# convert into JSON:\n",
    "y = json.dumps(x)\n",
    "\n",
    "#the result is a JSON string\n",
    "print(y)\n",
    "print(type(y))"
   ]
  },
  {
   "cell_type": "code",
   "execution_count": null,
   "metadata": {},
   "outputs": [],
   "source": [
    "import json\n",
    "\n",
    "print(json.dumps({\"name\": \"John\", \"age\": 30}))\n",
    "print(json.dumps([\"apple\", \"bananas\"]))\n",
    "print(json.dumps((\"apple\", \"bananas\")))\n",
    "print(json.dumps(\"hello\"))\n",
    "print(json.dumps(42))\n",
    "print(json.dumps(31.76))\n",
    "print(json.dumps(True))\n",
    "print(json.dumps(False))\n",
    "print(json.dumps(None))"
   ]
  },
  {
   "cell_type": "code",
   "execution_count": null,
   "metadata": {},
   "outputs": [],
   "source": [
    "# Python\tJSON\n",
    "# dict\tObject\n",
    "# list\tArray\n",
    "# tuple\tArray\n",
    "# str\tString\n",
    "# int\tNumber\n",
    "# float\tNumber\n",
    "# True\ttrue\n",
    "# False\tfalse\n",
    "# None\tnull -->"
   ]
  },
  {
   "cell_type": "code",
   "execution_count": null,
   "metadata": {},
   "outputs": [],
   "source": [
    "import json\n",
    "\n",
    "x = {\n",
    "  \"name\": \"John\",\n",
    "  \"age\": 30,\n",
    "  \"married\": True,\n",
    "  \"divorced\": False,\n",
    "  \"children\": (\"Ann\",\"Billy\"),\n",
    "  \"pets\": None,\n",
    "  \"cars\": [\n",
    "    {\"model\": \"BMW 230\", \"mpg\": 27.5},\n",
    "    {\"model\": \"Ford Edge\", \"mpg\": 24.1}\n",
    "  ]\n",
    "}\n",
    "\n",
    "print(json.dumps(x))"
   ]
  },
  {
   "cell_type": "code",
   "execution_count": null,
   "metadata": {},
   "outputs": [],
   "source": [
    "# Use the indent parameter to define the numbers of indents:\n",
    "print(json.dumps(x, indent=2))"
   ]
  },
  {
   "cell_type": "code",
   "execution_count": null,
   "metadata": {},
   "outputs": [],
   "source": [
    "# Use the separators parameter to change the default separator:\n",
    "print(json.dumps(x, indent=2, separators=(\":\", \" = \")))"
   ]
  },
  {
   "cell_type": "code",
   "execution_count": null,
   "metadata": {},
   "outputs": [],
   "source": [
    "# The json.dumps() method has parameters to order the keys in the result:\n",
    "print(json.dumps(x, indent=4, sort_keys=True))"
   ]
  },
  {
   "cell_type": "code",
   "execution_count": null,
   "metadata": {},
   "outputs": [],
   "source": []
  },
  {
   "cell_type": "code",
   "execution_count": 74,
   "metadata": {},
   "outputs": [
    {
     "name": "stdout",
     "output_type": "stream",
     "text": [
      "<class 'dict'>\n",
      "{'message': 'You have exceeded the rate limit per minute for your plan, BASIC, by the API provider'}\n"
     ]
    }
   ],
   "source": [
    "import requests\n",
    "\n",
    "url = \"https://cities-cost-of-living1.p.rapidapi.com/get_cities_list\"\n",
    "\n",
    "querystring = {\"paragraphs\":\"2\",\"words\":\"10\",\"format\":\"json\"}\n",
    "\n",
    "headers = {\n",
    "    'x-rapidapi-host': \"cities-cost-of-living1.p.rapidapi.com\",\n",
    "    'x-rapidapi-key': \"bbc4e72c95msh764d7107571c9ccp132292jsne000b3620c23\"\n",
    "    }\n",
    "\n",
    "response = requests.request(\"GET\", url, headers=headers,params = querystring)\n",
    "\n",
    "# print(response.text)\n",
    "\n",
    "data = json.loads(response.text)\n",
    "print(type(data))\n",
    "\n",
    "\n",
    "#json\n",
    "\n",
    "print(response.json())"
   ]
  },
  {
   "cell_type": "code",
   "execution_count": null,
   "metadata": {},
   "outputs": [],
   "source": []
  },
  {
   "cell_type": "code",
   "execution_count": 75,
   "metadata": {},
   "outputs": [
    {
     "name": "stdout",
     "output_type": "stream",
     "text": [
      "{'data': [{'date': '2020-04-16', 'confirmed': 4345, 'deaths': 133, 'recovered': 0, 'confirmed_diff': 270, 'deaths_diff': 15, 'recovered_diff': 0, 'last_update': '2020-04-16 23:30:51', 'active': 4212, 'active_diff': 255, 'fatality_rate': 0.0306, 'region': {'iso': 'USA', 'name': 'US', 'province': 'Alabama', 'lat': '32.3182', 'long': '-86.9023', 'cities': [{'name': 'Autauga', 'date': '2020-04-16', 'fips': 1001, 'lat': '32.53952745', 'long': '-86.64408227', 'confirmed': 26, 'deaths': 1, 'confirmed_diff': 2, 'deaths_diff': 0, 'last_update': '2020-04-16 23:30:51'}]}}]}\n"
     ]
    }
   ],
   "source": [
    "import requests\n",
    "\n",
    "url = \"https://covid-19-statistics.p.rapidapi.com/reports\"\n",
    "\n",
    "querystring = {\"city_name\":\"Autauga\",\"region_province\":\"Alabama\",\"iso\":\"USA\",\"region_name\":\"US\",\"q\":\"US Alabama\",\"date\":\"2020-04-16\"}\n",
    "\n",
    "headers = {\n",
    "\t\"X-RapidAPI-Key\": \"bbc4e72c95msh764d7107571c9ccp132292jsne000b3620c23\",\n",
    "\t\"X-RapidAPI-Host\": \"covid-19-statistics.p.rapidapi.com\"\n",
    "}\n",
    "\n",
    "response = requests.request(\"GET\", url, headers=headers,params =querystring )\n",
    "\n",
    "if response.status_code == 200:\n",
    "    print(response.json())\n",
    "else:\n",
    "    print(response.status_code)"
   ]
  },
  {
   "cell_type": "code",
   "execution_count": null,
   "metadata": {},
   "outputs": [],
   "source": []
  },
  {
   "cell_type": "markdown",
   "metadata": {},
   "source": [
    "### Getting the Covid 19 data\n"
   ]
  },
  {
   "cell_type": "code",
   "execution_count": null,
   "metadata": {},
   "outputs": [],
   "source": [
    "import requests\n",
    "\n",
    "url = \"https://covid-19-statistics.p.rapidapi.com/regions\"\n",
    "\n",
    "querystring = {\"paragraphs\":\"5\",\"words\":\"10\",\"format\":\"json\"}\n",
    "\n",
    "headers = {\n",
    "    'x-rapidapi-host': \"covid-19-statistics.p.rapidapi.com\",\n",
    "    'x-rapidapi-key': \"bbc4e72c95msh764d7107571c9ccp132292jsne000b3620c23\"\n",
    "    }\n",
    "\n",
    "response = requests.request(\"GET\", url, headers=headers,params=querystring)\n",
    "\n",
    "# print(response.text)\n",
    "\n",
    "print(json.loads(response.text))"
   ]
  },
  {
   "cell_type": "code",
   "execution_count": null,
   "metadata": {},
   "outputs": [],
   "source": [
    "import requests\n",
    "\n",
    "url = \"https://covid-19-data.p.rapidapi.com/country/all\"\n",
    "\n",
    "headers = {\n",
    "    'x-rapidapi-key': \"bbc4e72c95msh764d7107571c9ccp132292jsne000b3620c23\",\n",
    "    'x-rapidapi-host': \"covid-19-data.p.rapidapi.com\"\n",
    "    }\n",
    "\n",
    "response = requests.request(\"GET\", url, headers=headers)\n",
    "\n",
    "print(response.text)"
   ]
  },
  {
   "cell_type": "code",
   "execution_count": null,
   "metadata": {},
   "outputs": [],
   "source": [
    "import requests\n",
    "\n",
    "url = \"https://covid-193.p.rapidapi.com/countries\"\n",
    "\n",
    "headers = {\n",
    "    'x-rapidapi-host': \"covid-193.p.rapidapi.com\",\n",
    "    'x-rapidapi-key': \"bbc4e72c95msh764d7107571c9ccp132292jsne000b3620c23\"\n",
    "    }\n",
    "\n",
    "response = requests.request(\"GET\", url, headers=headers)\n",
    "\n",
    "print(response.json()[\"response\"])"
   ]
  },
  {
   "cell_type": "code",
   "execution_count": null,
   "metadata": {},
   "outputs": [],
   "source": []
  },
  {
   "cell_type": "code",
   "execution_count": null,
   "metadata": {},
   "outputs": [],
   "source": [
    "import requests\n",
    "\n",
    "url = \"https://covid-193.p.rapidapi.com/countries\"\n",
    "\n",
    "headers = {\n",
    "    'x-rapidapi-host': \"covid-193.p.rapidapi.com\",\n",
    "    'x-rapidapi-key': \"bbc4e72c95msh764d7107571c9ccp132292jsne000b3620c23\"\n",
    "    }\n",
    "\n",
    "response = requests.request(\"GET\", url, headers=headers)\n",
    "\n",
    "print(response.text)\n",
    "print(json.loads(response.text))"
   ]
  },
  {
   "cell_type": "markdown",
   "metadata": {},
   "source": [
    "### Currency converter API\n"
   ]
  },
  {
   "cell_type": "code",
   "execution_count": 77,
   "metadata": {},
   "outputs": [
    {
     "name": "stdout",
     "output_type": "stream",
     "text": [
      "401\n",
      "{\"message\":\"Invalid API key. Go to https:\\/\\/docs.rapidapi.com\\/docs\\/keys for more info.\"}\n"
     ]
    }
   ],
   "source": [
    "import requests\n",
    "\n",
    "res = requests.get(\"https://currency-converter13.p.rapidapi.com/convert\")\n",
    "\n",
    "print(res.status_code)\n",
    "print(res.text)"
   ]
  },
  {
   "cell_type": "code",
   "execution_count": 78,
   "metadata": {},
   "outputs": [
    {
     "name": "stdout",
     "output_type": "stream",
     "text": [
      "{'from': 'USD', 'to': 'INR', 'amount': 75.570497}\n"
     ]
    }
   ],
   "source": [
    "import requests\n",
    "\n",
    "url = \"https://currency-converter13.p.rapidapi.com/convert\"\n",
    "\n",
    "querystring = {\"from\":'USD',\"to\":'INR',\"amount\":'1'}\n",
    "\n",
    "headers = {\n",
    "    'x-rapidapi-key': \"bbc4e72c95msh764d7107571c9ccp132292jsne000b3620c23\",\n",
    "    'x-rapidapi-host': \"currency-converter13.p.rapidapi.com\"\n",
    "    }\n",
    "\n",
    "response = requests.request(\"GET\", url, headers=headers, params=querystring)\n",
    "\n",
    "print(response.json())"
   ]
  },
  {
   "cell_type": "code",
   "execution_count": null,
   "metadata": {},
   "outputs": [],
   "source": [
    "{\"from\": fromCountry,\"to\": toCountry,\"amount\": amount}"
   ]
  },
  {
   "cell_type": "code",
   "execution_count": null,
   "metadata": {},
   "outputs": [],
   "source": []
  }
 ],
 "metadata": {
  "kernelspec": {
   "display_name": "Python 3 (ipykernel)",
   "language": "python",
   "name": "python3"
  },
  "language_info": {
   "codemirror_mode": {
    "name": "ipython",
    "version": 3
   },
   "file_extension": ".py",
   "mimetype": "text/x-python",
   "name": "python",
   "nbconvert_exporter": "python",
   "pygments_lexer": "ipython3",
   "version": "3.10.9"
  }
 },
 "nbformat": 4,
 "nbformat_minor": 4
}
