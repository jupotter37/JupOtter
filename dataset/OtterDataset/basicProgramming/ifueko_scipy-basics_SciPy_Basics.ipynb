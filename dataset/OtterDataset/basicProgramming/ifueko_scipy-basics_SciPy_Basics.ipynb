{
  "nbformat": 4,
  "nbformat_minor": 0,
  "metadata": {
    "colab": {
      "name": "Scipy Basics",
      "provenance": [],
      "collapsed_sections": []
    },
    "kernelspec": {
      "name": "python3",
      "display_name": "Python 3"
    }
  },
  "cells": [
    {
      "cell_type": "markdown",
      "metadata": {
        "id": "wqMg7-t3ueNh"
      },
      "source": [
        "# Scipy Basics\r\n",
        "\r\n",
        "In this notebook we'll go over the basics of `scipy`, which provides useful scientific computing functions.\r\n",
        "\r\n",
        "## 1. Importing scipy \r\n",
        "The first thing we do in every python script is import our libraries. Since we're talking about scipy today, we'll import scipy. We will also import numpy as it is a useful base package for many scipy functons.\r\n",
        "\r\n",
        "One useful thing we can do is print out all the subroutines and submodules within the module to give us an overview of its capabilities."
      ]
    },
    {
      "cell_type": "code",
      "metadata": {
        "id": "GinszwgjuHXP"
      },
      "source": [
        "import numpy as np\r\n",
        "import scipy\r\n",
        "#print(\"\\n\".join(scipy.__dir__())) # shows available objects, functions and submodules. Uncomment and execute to see full list."
      ],
      "execution_count": 1,
      "outputs": []
    },
    {
      "cell_type": "markdown",
      "metadata": {
        "id": "ViFn5REDaZpf"
      },
      "source": [
        "## 2. Scientific computing vs Numerical computing?\n",
        "\n",
        "Scipy provides scientific computing functions. But what is the difference between scientific computing and numerical computing?\n",
        "\n",
        "One may notice that `numpy` and `scipy` have overlapping functionality. This is exposed in the `numpy.dual` package. Some of the overlapping functions are related to the `numpy.linalg`/`scipy.linalg` and `numpy.fft`/`scipy.fft` packages.\n",
        "\n",
        "The `scipy` implementations of these often provide algorithms developed using advanced scientific methods, which often give shorter runtimes than the numerical versions. \n",
        "\n",
        "You can look at the source code for the differences in implementations, but the main thing you want to think about is how large your arrays are and whether or not you care about runtime.\n",
        "\n",
        "Lets look at how array size affects runtime for numpy and scipy with this example below:"
      ]
    },
    {
      "cell_type": "code",
      "metadata": {
        "colab": {
          "base_uri": "https://localhost:8080/"
        },
        "id": "JRBPDprZcvwO",
        "outputId": "9d10e821-b1ca-404a-f476-ab687b623d93"
      },
      "source": [
        "from scipy.fft import fft as sci_fft\n",
        "from numpy.fft import fft as num_fft\n",
        "\n",
        "import numpy as np\n",
        "from time import time\n",
        "\n",
        "\n",
        "def test_fft(array_size=10):\n",
        "  arr = np.random.randn(array_size)\n",
        "\n",
        "  time_start = time()\n",
        "  arr_fft_num = num_fft(arr)\n",
        "  time_end = time()\n",
        "  time_numpy_fft = time_end - time_start\n",
        "\n",
        "  time_start = time()\n",
        "  arr_fft_sci = sci_fft(arr)\n",
        "  time_end = time()\n",
        "  time_scipy_fft = time_end - time_start\n",
        "\n",
        "  # uncomment belw to print arrays and their difference for sanity\n",
        "  # print(arr_fft_num, arr_fft_sci, np.sum(arr_fft_num - arr_fft_sci), sep='\\n')\n",
        "\n",
        "  # print time\n",
        "  print(\"For array of size {}\".format(array_size),\n",
        "        \"Numpy time: {}\".format(time_numpy_fft),\n",
        "        \"Scipy time: {}\".format(time_scipy_fft), sep='\\n')\n",
        "for i in range(1, 18, 3):\n",
        "  test_fft(int(np.e**i))"
      ],
      "execution_count": 2,
      "outputs": [
        {
          "output_type": "stream",
          "text": [
            "For array of size 2\n",
            "Numpy time: 0.00017309188842773438\n",
            "Scipy time: 0.001257181167602539\n",
            "For array of size 54\n",
            "Numpy time: 3.981590270996094e-05\n",
            "Scipy time: 5.507469177246094e-05\n",
            "For array of size 1096\n",
            "Numpy time: 0.0001633167266845703\n",
            "Scipy time: 0.0001761913299560547\n",
            "For array of size 22026\n",
            "Numpy time: 0.00786590576171875\n",
            "Scipy time: 0.0050907135009765625\n",
            "For array of size 442413\n",
            "Numpy time: 0.16072320938110352\n",
            "Scipy time: 0.15365195274353027\n",
            "For array of size 8886110\n",
            "Numpy time: 3.8905670642852783\n",
            "Scipy time: 3.5051729679107666\n"
          ],
          "name": "stdout"
        }
      ]
    },
    {
      "cell_type": "markdown",
      "metadata": {
        "id": "Rk0xHZLYe5UI"
      },
      "source": [
        "We can see that if we do this enough times, we end up adding significant runtime to our program."
      ]
    },
    {
      "cell_type": "markdown",
      "metadata": {
        "id": "21bg5HL8fe01"
      },
      "source": [
        "## 3. Scipy Overview\n",
        "\n",
        "Scipy has many internal submodules that provide different functionality. I'll group them into beginner, intermediate, and advanced based on their use cases:\n",
        "\n",
        "### **Beginner**\n",
        "#### `scipy.linalg`\n",
        "Contains all `numpy.linalg` linear algebra functions, plus some more advanced ones.\n",
        "\n",
        "#### `scipy.fft`\n",
        "Contains functions for discrete fourier transforms. Like `scipy.linalg`, this includes a large overlap with `numpy.fft` discrete fourier transform functions.\n",
        "\n",
        "#### `scipy.stats`\n",
        "Contains statisical functions, such as continuous, multivariate, and discrete distributions, summary and frequency statistics, correlation functions, statistical tests, and more.\n",
        "\n",
        "\n",
        "### **Intermediate**\n",
        "#### `scipy.ndimage`\n",
        "Contains functionality for multidimensional image processing, including filters, interpolation, measurments and morphology.\n",
        "\n",
        "#### `scipy.io`\n",
        "Contains functionality for loading and saving files from a variety of different formats and for different external systems, including MATLAB, IDL, Matrix Market, Fortran, Netcdf, Harwell-Boeing, Sound files (Wav) and Arff files.\n",
        "\n",
        "#### `scipy.signal`\n",
        "Contains signal processing functions, including convolution, correlation, spline creation, filter design and filtering functions, wavelets and waveforms, peak finding, and spectral analysis.\n",
        "\n",
        "#### `scipy.interpolate`\n",
        "Contains functionality for interpolation of N-dimensional objects, as well as tools for creating 1D and 2D splines, and a few advanced functions, such as Lagrange interpolating polynomials, Taylor polynomial estimations and Pade approximations.\n",
        "\n",
        "### **Advanced**\n",
        "#### `scipy.integrate`\n",
        "Contains functions for integrating over single or multiple variables as well as ordinary differential equation solvers.\n",
        "\n",
        "####  `scipy.optimize`\n",
        "Contains functions for optimizing objective functions, least-squares and curve fitting, root finding, and linear programming.\n",
        "\n",
        "#### `scipy.spatial`\n",
        "Contains functions for spatial algorithms as well as data structures for these algorithms.\n",
        "\n",
        "#### `scipy.sparse`\n",
        "Contains functions for sparse data proceessing, including sparse matrix classes and functions, compressed sparse graph routines, and sparse eigenvalue problems.\n",
        "\n",
        "#### `scipy.special`\n",
        "Contains \"special\" functions, including many functions for mathematical physics as well as low level statistical functions.\n"
      ]
    },
    {
      "cell_type": "markdown",
      "metadata": {
        "id": "I0bAC4IApdcj"
      },
      "source": [
        "## 4. Scipy Usage Examples\n",
        "\n",
        "Finally, lets get into some basic examples from some of the packages we see above. I won't get into any advanced packages today, but they are easy to navigate using both the [numpy and scipy documentation](https://docs.scipy.org/doc/)."
      ]
    },
    {
      "cell_type": "markdown",
      "metadata": {
        "id": "ZHJc4Ugtqvmi"
      },
      "source": [
        "### Linear Algebra\n",
        "\n",
        "#### `scipy` vs `numpy` for `linalg`\n",
        "As we discussed earlier, scipy contains all linear algebra functionality that numpy provides, plus more. Furthermore, `scipy.linalg` provides [BLAS/LAPACK](http://www.netlib.org/blas/) support, if you use that. \n",
        "\n",
        "Lets do some basic linear algebra on both `numpy.ndarray`s and `numpy.matrix` objects. "
      ]
    },
    {
      "cell_type": "code",
      "metadata": {
        "colab": {
          "base_uri": "https://localhost:8080/"
        },
        "id": "OnqSdwLGqyrQ",
        "outputId": "d32beabb-6840-4e5e-9a58-910b3939dee4"
      },
      "source": [
        "from scipy import linalg\n",
        "# Define A and b for Ax=b\n",
        "arr = np.random.randn(5, 5)  # 5x5 matrix as an array (A for Ax=b)\n",
        "mat = np.mat(arr)            # 5x5 matrix as a matrix (A for Ax=b)\n",
        "b = np.random.randn(5, 1) # 5x1 columnn vector (b for Ax=b\n",
        "print(arr, mat, sep='\\n')"
      ],
      "execution_count": 3,
      "outputs": [
        {
          "output_type": "stream",
          "text": [
            "[[-1.31090068  2.01393695  0.11428649  2.28762634  0.48636024]\n",
            " [ 1.17866815 -0.10991722 -0.26588125  1.39131198  0.69651684]\n",
            " [ 0.24109037  0.13141605  1.57989829  0.13784808 -2.23976287]\n",
            " [ 1.2235437   0.73344705  0.21991166 -0.18915872 -0.16787167]\n",
            " [ 1.79559633 -0.1962431  -0.51489064  0.35316694  0.19478688]]\n",
            "[[-1.31090068  2.01393695  0.11428649  2.28762634  0.48636024]\n",
            " [ 1.17866815 -0.10991722 -0.26588125  1.39131198  0.69651684]\n",
            " [ 0.24109037  0.13141605  1.57989829  0.13784808 -2.23976287]\n",
            " [ 1.2235437   0.73344705  0.21991166 -0.18915872 -0.16787167]\n",
            " [ 1.79559633 -0.1962431  -0.51489064  0.35316694  0.19478688]]\n"
          ],
          "name": "stdout"
        }
      ]
    },
    {
      "cell_type": "markdown",
      "metadata": {
        "id": "yMMZyVKfxdj8"
      },
      "source": [
        "#### Matrix Properties\n",
        "matrix determinant and norm"
      ]
    },
    {
      "cell_type": "code",
      "metadata": {
        "colab": {
          "base_uri": "https://localhost:8080/"
        },
        "id": "tUu1AuaZxXCG",
        "outputId": "9947f945-375f-4240-f7fe-7179960753a0"
      },
      "source": [
        "det = linalg.det(mat) # matrix determinant\n",
        "norm = linalg.norm(mat) # matrix norm\n",
        "print(det, norm, sep='\\n')"
      ],
      "execution_count": 4,
      "outputs": [
        {
          "output_type": "stream",
          "text": [
            "-8.181480538077606\n",
            "5.347425670921321\n"
          ],
          "name": "stdout"
        }
      ]
    },
    {
      "cell_type": "markdown",
      "metadata": {
        "id": "Aftu-UWdxa8Q"
      },
      "source": [
        "#### Matrix inverse and Linear systems solving\n",
        "\n",
        "We can use `scipy.linalg.inv` to calculate the inverse of an array."
      ]
    },
    {
      "cell_type": "code",
      "metadata": {
        "colab": {
          "base_uri": "https://localhost:8080/"
        },
        "id": "eehOCWTmwu2H",
        "outputId": "8e299d71-dc20-4318-ad4e-7faaf03b74e3"
      },
      "source": [
        "inverse_arr = linalg.inv(arr) # inverts a multi dimensional array\n",
        "print(inverse_arr)"
      ],
      "execution_count": 5,
      "outputs": [
        {
          "output_type": "stream",
          "text": [
            "[[-0.11318836  0.21125138  0.02150984  0.36168544  0.08626787]\n",
            " [ 0.31370956 -0.49300143 -0.10383771  0.50607634  0.22173965]\n",
            " [-0.51035728  1.50240601  0.09607909  1.0507211  -2.08768122]\n",
            " [ 0.19426452  0.25271172  0.1779296  -0.45694834  0.26342078]\n",
            " [-0.34182001  1.06914304 -0.37152937  0.78166688 -1.43411318]]\n"
          ],
          "name": "stdout"
        }
      ]
    },
    {
      "cell_type": "markdown",
      "metadata": {
        "id": "xaU5hvOXy0GP"
      },
      "source": [
        "Given a system `A x = b`, We can solve the full system using the inverse with `Ai.dot(b)` (given `Ai` is the matrix inverse) or directly using `np.linalg.solve` which is quicker:"
      ]
    },
    {
      "cell_type": "code",
      "metadata": {
        "colab": {
          "base_uri": "https://localhost:8080/"
        },
        "id": "51GKoGwTyutX",
        "outputId": "de8c72d3-08dc-42eb-c20c-b168d709de58"
      },
      "source": [
        "def test_solver(sz):\n",
        "  sz = (sz, sz)\n",
        "  mat = np.mat(np.random.randn(*sz))\n",
        "  b = np.random.randn(sz[0], 1)\n",
        "  time_start = time()\n",
        "  inverse_mat = linalg.inv(mat) # inverts a matrix. same as above.\n",
        "  x_scipy = inverse_mat.dot(b)\n",
        "  time_end = time()\n",
        "  time_scipy = time_end-time_start\n",
        "\n",
        "  time_start = time()\n",
        "  x_numpy = np.linalg.solve(mat, b)\n",
        "  time_end = time()\n",
        "  time_numpy = time_end-time_start\n",
        "\n",
        "  error_scipy = sum(mat.dot(x_scipy) - b)\n",
        "  error_numpy = sum(mat.dot(x_numpy) - b)\n",
        "  print('Size: {}'.format(sz), 'Error Scipy: {}'.format(error_scipy), 'Error Numpy: {}'.format(error_numpy), \n",
        "    'Time Scipy: {}'.format(time_scipy), 'Time Numpy: {}'.format(time_numpy), sep='\\n')\n",
        "  \n",
        "for i in range(5):\n",
        "  test_solver((5**i))"
      ],
      "execution_count": 6,
      "outputs": [
        {
          "output_type": "stream",
          "text": [
            "Size: (1, 1)\n",
            "Error Scipy: [[-2.22044605e-16]]\n",
            "Error Numpy: [[0.]]\n",
            "Time Scipy: 0.0003941059112548828\n",
            "Time Numpy: 0.0014955997467041016\n",
            "Size: (5, 5)\n",
            "Error Scipy: [[-1.22124533e-15]]\n",
            "Error Numpy: [[7.77156117e-16]]\n",
            "Time Scipy: 0.00010204315185546875\n",
            "Time Numpy: 5.14984130859375e-05\n",
            "Size: (25, 25)\n",
            "Error Scipy: [[-4.21954138e-14]]\n",
            "Error Numpy: [[1.02529096e-13]]\n",
            "Time Scipy: 0.0005040168762207031\n",
            "Time Numpy: 0.010735750198364258\n",
            "Size: (125, 125)\n",
            "Error Scipy: [[3.34889885e-13]]\n",
            "Error Numpy: [[-4.27848946e-14]]\n",
            "Time Scipy: 0.0067043304443359375\n",
            "Time Numpy: 0.000701904296875\n",
            "Size: (625, 625)\n",
            "Error Scipy: [[-3.21744871e-10]]\n",
            "Error Numpy: [[2.48987522e-11]]\n",
            "Time Scipy: 0.04827094078063965\n",
            "Time Numpy: 0.02065277099609375\n"
          ],
          "name": "stdout"
        }
      ]
    },
    {
      "cell_type": "markdown",
      "metadata": {
        "id": "36_jCqSsxmCH"
      },
      "source": [
        "#### Decompositions"
      ]
    },
    {
      "cell_type": "markdown",
      "metadata": {
        "id": "nbm1q2dHxoUz"
      },
      "source": [
        "Solving for Eigenvalues and Eigenvectors"
      ]
    },
    {
      "cell_type": "code",
      "metadata": {
        "id": "6SVU-v3axohs",
        "colab": {
          "base_uri": "https://localhost:8080/"
        },
        "outputId": "e2a888e3-b431-41f7-fc2a-7d338f2a5f72"
      },
      "source": [
        "mat = np.mat(np.random.randn(5, 5))\n",
        "eigv = linalg.eigvals(mat) # find eigenvalues\n",
        "_, eigr = linalg.eig(mat) # default only returns eigenvalue and rigth eigenvector\n",
        "_, eigl, eigr2 = linalg.eig(mat, left=True, right=True) # find eigenvalue and left/right eigenvectors\n",
        "assert(np.round(np.sum(eigr-eigr2)) == 0) # make sure eigenvectors match\n",
        "print(eigv, eigl, eigr, sep='\\n')"
      ],
      "execution_count": 7,
      "outputs": [
        {
          "output_type": "stream",
          "text": [
            "[ 1.06958159+0.54763543j  1.06958159-0.54763543j -0.45171776+1.1345995j\n",
            " -0.45171776-1.1345995j  -0.86301768+0.j        ]\n",
            "[[-0.36737622-0.22368159j -0.36737622+0.22368159j -0.08105919+0.52118366j\n",
            "  -0.08105919-0.52118366j -0.08369183+0.j        ]\n",
            " [ 0.67848587+0.j          0.67848587-0.j         -0.23972077+0.51343418j\n",
            "  -0.23972077-0.51343418j  0.55227929+0.j        ]\n",
            " [-0.06725205-0.04245401j -0.06725205+0.04245401j  0.5764616 +0.j\n",
            "   0.5764616 -0.j          0.03702611+0.j        ]\n",
            " [-0.40693059+0.33404544j -0.40693059-0.33404544j  0.09228142-0.1189569j\n",
            "   0.09228142+0.1189569j   0.78750328+0.j        ]\n",
            " [ 0.15556038-0.21669126j  0.15556038+0.21669126j  0.04278538-0.20954983j\n",
            "   0.04278538+0.20954983j  0.25778076+0.j        ]]\n",
            "[[ 0.38018309-0.25936132j  0.38018309+0.25936132j -0.00895911-0.34898333j\n",
            "  -0.00895911+0.34898333j  0.165099  +0.j        ]\n",
            " [-0.0909622 +0.22018821j -0.0909622 -0.22018821j -0.10808725-0.2663533j\n",
            "  -0.10808725+0.2663533j   0.27191942+0.j        ]\n",
            " [-0.0189589 +0.08486582j -0.0189589 -0.08486582j -0.76867385+0.j\n",
            "  -0.76867385-0.j         -0.01323789+0.j        ]\n",
            " [-0.16148995-0.18597264j -0.16148995+0.18597264j  0.03899115+0.02112521j\n",
            "   0.03899115-0.02112521j  0.59011906+0.j        ]\n",
            " [ 0.8143765 +0.j          0.8143765 -0.j          0.21995391+0.39280739j\n",
            "   0.21995391-0.39280739j  0.74188031+0.j        ]]\n"
          ],
          "name": "stdout"
        }
      ]
    },
    {
      "cell_type": "markdown",
      "metadata": {
        "id": "CsqSC-tQqy8e"
      },
      "source": [
        "### Discrete Fourier Transformations"
      ]
    },
    {
      "cell_type": "code",
      "metadata": {
        "id": "Px_fkfEcXH7F"
      },
      "source": [
        "from scipy import fft"
      ],
      "execution_count": 8,
      "outputs": []
    },
    {
      "cell_type": "markdown",
      "metadata": {
        "id": "qT_OVqxIQn6o"
      },
      "source": [
        "Fourier Transform of a one dimensional sequence using both numpy and scipy:"
      ]
    },
    {
      "cell_type": "code",
      "metadata": {
        "id": "3FiCi5mpq1jI",
        "colab": {
          "base_uri": "https://localhost:8080/"
        },
        "outputId": "193b6245-93ac-4efa-f375-d251de6db6f7"
      },
      "source": [
        "def test_fft(length_):\n",
        "  arr = np.random.randn(length_)\n",
        "\n",
        "  time_start = time()\n",
        "  fft_np = np.fft.fft(arr) \n",
        "  time_end = time()\n",
        "  time_np = time_end-time_start\n",
        "\n",
        "  time_start = time()\n",
        "  fft_scipy = fft.fft(arr) \n",
        "  time_end = time()\n",
        "  time_scipy = time_end-time_start\n",
        "\n",
        "  print('Size: {}; norm of difference: {}'.format(length_, linalg.norm(fft_np-fft_scipy)), \n",
        "  'Time Numpy: {}'.format(time_np), 'Time Scipy: {}'.format(time_scipy), sep='\\n')\n",
        "\n",
        "for i in range(10):\n",
        "  test_fft(25*(5**i))"
      ],
      "execution_count": 9,
      "outputs": [
        {
          "output_type": "stream",
          "text": [
            "Size: 25; norm of difference: 2.8543745438774784e-15\n",
            "Time Numpy: 4.744529724121094e-05\n",
            "Time Scipy: 7.271766662597656e-05\n",
            "Size: 125; norm of difference: 3.044036367711843e-14\n",
            "Time Numpy: 4.100799560546875e-05\n",
            "Time Scipy: 7.62939453125e-05\n",
            "Size: 625; norm of difference: 1.7966317663579881e-13\n",
            "Time Numpy: 3.838539123535156e-05\n",
            "Time Scipy: 5.364418029785156e-05\n",
            "Size: 3125; norm of difference: 1.1186169367865886e-12\n",
            "Time Numpy: 0.00014138221740722656\n",
            "Time Scipy: 0.00012540817260742188\n",
            "Size: 15625; norm of difference: 5.961121895273564e-12\n",
            "Time Numpy: 0.0007188320159912109\n",
            "Time Scipy: 0.0005805492401123047\n",
            "Size: 78125; norm of difference: 3.325937012525871e-11\n",
            "Time Numpy: 0.003635406494140625\n",
            "Time Scipy: 0.0032110214233398438\n",
            "Size: 390625; norm of difference: 1.8077805693016476e-10\n",
            "Time Numpy: 0.014808416366577148\n",
            "Time Scipy: 0.01246500015258789\n",
            "Size: 1953125; norm of difference: 9.699996956506077e-10\n",
            "Time Numpy: 0.09759044647216797\n",
            "Time Scipy: 0.06934094429016113\n",
            "Size: 9765625; norm of difference: 5.161235535735089e-09\n",
            "Time Numpy: 0.5239315032958984\n",
            "Time Scipy: 0.394580602645874\n",
            "Size: 48828125; norm of difference: 2.7263016363371138e-08\n",
            "Time Numpy: 3.8828554153442383\n",
            "Time Scipy: 2.3763699531555176\n"
          ],
          "name": "stdout"
        }
      ]
    },
    {
      "cell_type": "markdown",
      "metadata": {
        "id": "6IaI0Pc4q1ow"
      },
      "source": [
        "### Statistical Functions"
      ]
    },
    {
      "cell_type": "markdown",
      "metadata": {
        "id": "HeURO2Onu2s6"
      },
      "source": [
        "Cumulative distributon"
      ]
    },
    {
      "cell_type": "code",
      "metadata": {
        "id": "yILOHDD9q5VT",
        "colab": {
          "base_uri": "https://localhost:8080/"
        },
        "outputId": "13f613e6-a61d-4d3e-d994-900daf32139f"
      },
      "source": [
        "from scipy.stats import norm\n",
        "from scipy import stats\n",
        "\n",
        "# Generate an array of sorted random values\n",
        "arr = np.random.randn(125)\n",
        "arr.sort()\n",
        "arr_cdf = norm.cdf(arr) # creates a CDF over the array values, \n",
        "                        # showing what percentile the data at that\n",
        "                        # index represents.\n",
        "\n",
        "print(arr_cdf)"
      ],
      "execution_count": 10,
      "outputs": [
        {
          "output_type": "stream",
          "text": [
            "[0.03270753 0.03584904 0.03865498 0.05431399 0.06726163 0.07025335\n",
            " 0.07812887 0.09306605 0.09575427 0.09744055 0.10154664 0.10194899\n",
            " 0.10539715 0.10819319 0.10872254 0.11111219 0.11721703 0.11939157\n",
            " 0.1340295  0.13502102 0.14823795 0.1540962  0.17819805 0.18393771\n",
            " 0.18441321 0.18737112 0.18857169 0.18860746 0.19737631 0.23544284\n",
            " 0.24756228 0.25258334 0.25838779 0.28423261 0.30041701 0.30064384\n",
            " 0.3083243  0.3091222  0.33155045 0.36935548 0.3708499  0.37324095\n",
            " 0.38701772 0.39306052 0.40032645 0.40065381 0.41094193 0.41221711\n",
            " 0.41850511 0.43463176 0.43572009 0.45120727 0.451233   0.45167989\n",
            " 0.4646543  0.47113994 0.47130255 0.47299229 0.4794256  0.48384792\n",
            " 0.49079963 0.51202634 0.5150574  0.51567384 0.52395845 0.54710696\n",
            " 0.55903115 0.56240765 0.56693833 0.56910564 0.5714272  0.57553497\n",
            " 0.57673122 0.57894446 0.59527702 0.59706588 0.60449517 0.62203622\n",
            " 0.62843081 0.62879244 0.62947782 0.63284395 0.64624964 0.66616851\n",
            " 0.66910575 0.67476655 0.68390726 0.69938653 0.70946308 0.71076236\n",
            " 0.71304539 0.71757017 0.74388216 0.74404533 0.74648846 0.74718572\n",
            " 0.76218248 0.7624589  0.76773308 0.77330587 0.80068576 0.80167549\n",
            " 0.81192146 0.81667772 0.82716807 0.8280686  0.83285965 0.84549089\n",
            " 0.87158049 0.8837182  0.89460922 0.89822378 0.89906706 0.90039445\n",
            " 0.90567607 0.92480606 0.92503895 0.92884542 0.95540972 0.96488371\n",
            " 0.97602244 0.98549013 0.98799038 0.99597197 0.99692824]\n"
          ],
          "name": "stdout"
        }
      ]
    },
    {
      "cell_type": "markdown",
      "metadata": {
        "id": "kasAFaG4s9Ai"
      },
      "source": [
        "### A bit more complicated: Interpolation"
      ]
    },
    {
      "cell_type": "code",
      "metadata": {
        "id": "AfIUCtPws-1c",
        "colab": {
          "base_uri": "https://localhost:8080/"
        },
        "outputId": "a889fedd-f7bc-4dc5-bd78-3dfd0c0e51fd"
      },
      "source": [
        "from scipy.interpolate import interp1d\n",
        "\n",
        "# Testing that interpolation works on random data\n",
        "def test_interp(length_):\n",
        "  arr = np.random.randn(length_)\n",
        "  arr.sort()\n",
        "  arr_cdf = norm.cdf(arr)\n",
        "  # if we interpolate the values, the interpolated CDF should be \n",
        "  # the same, because the CDF is linear.\n",
        "\n",
        "  # create interpolation functions on the data and its cdf\n",
        "  f = interp1d(np.arange(len(arr)), arr)\n",
        "  f_cdf = interp1d(np.arange(len(arr_cdf)), arr_cdf)\n",
        "\n",
        "  # interpolate array and cdf\n",
        "  arr_interp = f(np.arange(0, len(arr), 2))\n",
        "  cdf_interp = f_cdf(np.arange(0, len(arr_cdf), 2))\n",
        "\n",
        "  # Test prime interpolation to make sure even interpolation isnt a fluke\n",
        "  arr_interp2 = f(np.arange(0, len(arr), 7))\n",
        "  cdf_interp2 = f_cdf(np.arange(0, len(arr_cdf), 7))\n",
        "\n",
        "  # real cdf of interpolated data\n",
        "  cdf_real = norm.cdf(arr_interp)\n",
        "\n",
        "  # real cdf of (prime) interpolated data\n",
        "  cdf_real2 = norm.cdf(arr_interp2)\n",
        "\n",
        "  # error\n",
        "  error = np.sum(cdf_real - cdf_interp)\n",
        "  error2 = np.sum(cdf_real2 - cdf_interp2)\n",
        "  print(\"Interpolation of CDF len {}, error: {} (prime {})\".format(length_, error, error2))\n",
        "\n",
        "for i in range(10):\n",
        "  test_interp(5**(i+1)*13//12) # (pseudo) randomly increasing in magnitude"
      ],
      "execution_count": 11,
      "outputs": [
        {
          "output_type": "stream",
          "text": [
            "Interpolation of CDF len 5, error: 0.0 (prime 0.0)\n",
            "Interpolation of CDF len 27, error: 0.0 (prime 0.0)\n",
            "Interpolation of CDF len 135, error: 0.0 (prime 0.0)\n",
            "Interpolation of CDF len 677, error: 0.0 (prime 0.0)\n",
            "Interpolation of CDF len 3385, error: 0.0 (prime 0.0)\n",
            "Interpolation of CDF len 16927, error: 0.0 (prime 0.0)\n",
            "Interpolation of CDF len 84635, error: 0.0 (prime 0.0)\n",
            "Interpolation of CDF len 423177, error: 0.0 (prime 0.0)\n",
            "Interpolation of CDF len 2115885, error: 0.0 (prime 0.0)\n",
            "Interpolation of CDF len 10579427, error: 0.0 (prime 0.0)\n"
          ],
          "name": "stdout"
        }
      ]
    },
    {
      "cell_type": "markdown",
      "metadata": {
        "id": "ulM1BZhMRB1e"
      },
      "source": [
        "## 5. Additional Examples, Tutorials and Extended Learning\n",
        "\n",
        "Depending on your application, scipy may provide the tools you need.\n",
        "\n",
        "Check out the scipy reference [here](https://docs.scipy.org/doc/scipy/reference/index.html), and some useful tutorials [here](https://docs.scipy.org/doc/scipy/reference/tutorial/index.html) and [here](w3schools.com/python/scipy_intro.asp)."
      ]
    },
    {
      "cell_type": "markdown",
      "metadata": {
        "id": "Uek_ca8ZXOQy"
      },
      "source": [
        "[Next time,](https://www.youtube.com/channel/UCvVAxOBEAMgu7WwTcFptt-w?sub_confirmation=1) we're going to talk about plotting using Matplotlib and Plotly, two powerful python plotting libraries that provide distinctly different capabilities."
      ]
    }
  ]
}