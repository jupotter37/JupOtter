{
 "cells": [
  {
   "cell_type": "markdown",
   "id": "d4c01cd9-6c9a-4cf6-bc72-be97405033cc",
   "metadata": {},
   "source": [
    "# Python for All: Democratizing Coding Mastery with AI Chatbot Support PART 2"
   ]
  },
  {
   "cell_type": "markdown",
   "id": "b05cad2b-d746-459d-90f3-9bf7e1ea6a2b",
   "metadata": {},
   "source": [
    "***"
   ]
  },
  {
   "cell_type": "markdown",
   "id": "963c3db6-230c-4f20-a146-56d9c5e038e2",
   "metadata": {},
   "source": [
    "# <a id = \"intro\"></a>Introduction\n",
    "\n",
    "## <a id = \"summary\"></a>Workshop Summary\n",
    "\n",
    "We will utilize AI chatbots like ChatGPT, Bard, and Co-pilot to support the process of learning to code. Using Python as our teaching tool, participants will acquire skills that are transferable to other programming languages. We will explore how AI chatbots can be invaluable resources for understanding, writing, and refining code, as well as for facilitating transitions between different coding languages.\n",
    "\n",
    "## <a id = \"presenters\"></a>Instructors\n",
    "\n",
    "Kristen Scotti\\\n",
    "Open Science Postdoc\\\n",
    "Email: kscotti@andrew.cmu.edu\n",
    "\n",
    "Chasz Griego\\\n",
    "STEM Librarian\\\n",
    "Email: cgriego@andrew.cmu.edu\n",
    "\n",
    "\n",
    "## <a id = \"objectives\"></a>Learning Objectives\n",
    "\n",
    "Workshop attendees will:\n",
    "1. *AI Fundamentals*: Understand key concepts and terminology related to generative AI.\n",
    "2. *Practical Application*: Use generative AI as a programming assistant to enhance coding efficiency, troubleshoot errors, and tackle projects with greater confidence.\n",
    "3. *Critical Evaluation*: Develop the ability to assess the accuracy, reliability, and usefulness of AI-generated code and solutions.\n",
    "4. *Ethical and Practical Evaluation*: Examine the ethical implications of generative AI, recognizing its strengths, weaknesses, biases, limitations, and potential for misuse.\n",
    "5. *Adaptability and Continuous Learning*: Cultivate skills to continuously adapt to advancements in AI technology.\n",
    "\n",
    "\n",
    "## <a id = \"knowledge\"></a>Assumed Knowledge\n",
    "\n",
    "This workshop is intended for beginner-level Python coders. Attendees are assumed to have some familiarity with coding concepts and structures, although it is not required. This workshop will not cover foundational Python skills, so basic knowledge of general programming principles is beneficial. Instead, we will focus on leveraging AI chatbots like ChatGPT to enhance coding proficiency in Python. Participants will learn to use these tools to interpret and craft code, troubleshoot errors, and facilitate transitions between coding languages. The Libraries offers a number of [workshops](https://cmu.libcal.com/calendar/events/?cid=9148&t=d&d=0000-00-00&cal=9148&inc=0) for building foundational Python skills.\n",
    "\n",
    "## <a id = \"logistics\"></a>Logistics\n",
    "We will use [Binder](https://mybinder.org/) to access the Jupyter notebook for this workshop. Binder is a free, open-source web service that allows us to create and share interactive computing environments from GitHub repositories.\n",
    "\n",
    "Recommended generative AI chatbots for use in this workshop:\n",
    "* <a href = \"https://chat.openai.com/\" target = \"_blank\">ChatGPT</a> (OpenAI)\n",
    "* <a href = \"https://gemini.google.com/app\" target = \"_blank\">Gemini</a> (Google)\n",
    "* <a href = \"https://copilot.microsoft.com/\" target = \"_blank\">Copilot</a> (Microsoft)\n"
   ]
  },
  {
   "cell_type": "markdown",
   "id": "8751358a-4ed7-49a1-8d2b-6e32f30a2899",
   "metadata": {},
   "source": [
    "***"
   ]
  },
  {
   "cell_type": "markdown",
   "id": "6129d816-4c26-4756-8b70-4a4335b920af",
   "metadata": {},
   "source": [
    "### Library Imports"
   ]
  },
  {
   "cell_type": "markdown",
   "id": "c15332ed-9eb5-41bb-ab03-9d4949eb2682",
   "metadata": {},
   "source": [
    "Install and/or load libraries that we will use in this workshop."
   ]
  },
  {
   "cell_type": "code",
   "execution_count": 2,
   "id": "ea142ce0",
   "metadata": {},
   "outputs": [],
   "source": [
    "# Uncomment lines & run cell for any libraries that need to be installed\n",
    "\n",
    "#!pip install numpy\n",
    "#!pip install pandas\n",
    "#!pip install matplotlib"
   ]
  },
  {
   "cell_type": "code",
   "execution_count": 17,
   "id": "ecf453ba",
   "metadata": {},
   "outputs": [],
   "source": [
    "import numpy as np # import NumPy library and alias it as np\n",
    "import pandas as pd\n",
    "import matplotlib.pyplot as plt # import the Matplotlib's pyplot (plotting) module and alias it as plt"
   ]
  },
  {
   "cell_type": "markdown",
   "id": "d1e91fb7-4cd3-4f9f-8c50-3ccd3bab7e1b",
   "metadata": {},
   "source": [
    "***"
   ]
  },
  {
   "cell_type": "markdown",
   "id": "8426a396-4a08-4432-96ae-123fbae50ba8",
   "metadata": {},
   "source": [
    "# <a id = \"problems\"></a>Exercises"
   ]
  },
  {
   "cell_type": "markdown",
   "id": "08496a01-56d5-46b9-a7f0-11107ba8f8f6",
   "metadata": {},
   "source": [
    "---"
   ]
  },
  {
   "cell_type": "markdown",
   "id": "565f6c8d-3f34-4ac6-a2ec-d979b6a28cc5",
   "metadata": {},
   "source": [
    "## <a id = \"breakdown\"></a>Breaking Down Complex Problems"
   ]
  },
  {
   "cell_type": "markdown",
   "id": "e2eb10e0-ae18-4260-a121-371cdfca8b0e",
   "metadata": {},
   "source": [
    "### Exercise: Build a number guessing game where the computer randomly selects a number, and the user tries to guess it."
   ]
  },
  {
   "cell_type": "markdown",
   "id": "a3984d54-899b-41dc-bb8b-eab3013b725f",
   "metadata": {},
   "source": [
    "**Problem**: \n",
    "Let's breakdown the problem into tasks\n",
    "* Task 1: Generate a random number\n",
    "* Task 2:\n",
    "* Task 3..."
   ]
  },
  {
   "cell_type": "code",
   "execution_count": 1,
   "id": "5fd99785-16b0-42de-9704-dad864117be2",
   "metadata": {},
   "outputs": [
    {
     "name": "stdout",
     "output_type": "stream",
     "text": [
      "Random number generated (for testing): 7\n"
     ]
    }
   ],
   "source": [
    "# Task 1, prompt: How do I generate a random number between 1 and 100 in Python?\n",
    "\n",
    "import random\n",
    "\n",
    "def generate_random_number():\n",
    "    return random.randint(1, 100)\n",
    "\n",
    "# Test the function\n",
    "random_number = generate_random_number()\n",
    "print(f\"Random number generated (for testing): {random_number}\")"
   ]
  },
  {
   "cell_type": "markdown",
   "id": "b83384a0-8d80-4da9-954a-cda9c3c2009d",
   "metadata": {},
   "source": [
    "## <a id = \"optimize\"></a>Code Optimization\n",
    "\n",
    "**Problem**: Below is a function that finds the sum of all prime numbers below a given number. Run the code to verify that it works; then, ask your favorite chatbot to opimtize the code."
   ]
  },
  {
   "cell_type": "code",
   "execution_count": 2,
   "id": "cfbf262d-68d1-42bb-9c18-32e3eb4a8874",
   "metadata": {},
   "outputs": [],
   "source": [
    "def is_prime(number):\n",
    "    \"\"\"\n",
    "    Checks if a number is a prime number.\n",
    "\n",
    "    Parameters:\n",
    "    number (int): The number to check.\n",
    "\n",
    "    Returns:\n",
    "    bool: True if the number is prime, False otherwise.\n",
    "    \"\"\"\n",
    "    if number <= 1:\n",
    "        return False\n",
    "    for i in range(2, int(number ** 0.5) + 1):\n",
    "        if number % i == 0:\n",
    "            return False\n",
    "    return True\n",
    "\n",
    "def sum_of_primes(limit):\n",
    "    \"\"\"\n",
    "    Calculates the sum of all prime numbers below a given limit.\n",
    "\n",
    "    Parameters:\n",
    "    limit (int): The upper limit (exclusive) for summing prime numbers.\n",
    "\n",
    "    Returns:\n",
    "    int: The sum of all prime numbers below the limit.\n",
    "    \"\"\"\n",
    "    total_sum = 0\n",
    "    for num in range(2, limit):\n",
    "        if is_prime(num):\n",
    "            total_sum += num\n",
    "    return total_sum"
   ]
  },
  {
   "cell_type": "code",
   "execution_count": 3,
   "id": "f5dc1a31-5e23-4bd0-8315-9bc6ed0f8b50",
   "metadata": {},
   "outputs": [
    {
     "name": "stdout",
     "output_type": "stream",
     "text": [
      "The sum of all primes below 10000 is: 5736396\n"
     ]
    }
   ],
   "source": [
    "# Test the function\n",
    "n = 10000\n",
    "result = sum_of_primes(n)\n",
    "print(f\"The sum of all primes below {n} is: {result}\")"
   ]
  },
  {
   "cell_type": "code",
   "execution_count": null,
   "id": "008dec72-8a88-4e4c-a1b3-e47ba65fac61",
   "metadata": {},
   "outputs": [],
   "source": []
  },
  {
   "cell_type": "code",
   "execution_count": null,
   "id": "0cd31265-95e3-49ba-bb6f-93b7a5aff570",
   "metadata": {},
   "outputs": [],
   "source": []
  },
  {
   "cell_type": "code",
   "execution_count": null,
   "id": "355eb314-8280-4c0a-8e60-d4c9da966b0d",
   "metadata": {},
   "outputs": [],
   "source": []
  },
  {
   "cell_type": "markdown",
   "id": "d0bcf1d7-b926-4e06-9a04-d436b630067f",
   "metadata": {},
   "source": [
    "### Is our optimized function better?"
   ]
  },
  {
   "cell_type": "code",
   "execution_count": null,
   "id": "ac5ba61c-f2a3-4ae2-b568-64927e872534",
   "metadata": {},
   "outputs": [],
   "source": []
  },
  {
   "cell_type": "code",
   "execution_count": null,
   "id": "f737a737-8e2e-4e9b-9159-c44974bcd89a",
   "metadata": {},
   "outputs": [],
   "source": []
  },
  {
   "cell_type": "markdown",
   "id": "14c9d4d6-473a-498a-bbf2-979aaed6a41a",
   "metadata": {},
   "source": [
    "## <a id = \"convert\"></a>Language Conversion"
   ]
  },
  {
   "cell_type": "markdown",
   "id": "0303096f-a1c4-47db-b55a-dce55eb91692",
   "metadata": {},
   "source": [
    "<b>Problem</b>: Here, we'll focus on translating MATLAB code into Python. However, these techniques are versatile and can be applied to converting code from various other languages as well. Feel free to utilize your preferred AI chatbot to assist in converting the MATLAB code provided below into Python.\n",
    "\n",
    "**MATLAB Code**\n",
    "\n",
    "```\n",
    "x = linspace(0,2*pi,100);\n",
    "y = sin(x);\n",
    "plot(x,y,':')\n",
    "\n",
    "hold on \n",
    "y2 = cos(x);\n",
    "plot(x,y2,'--ro')\n",
    "hold off\n",
    "\n",
    "xlabel('x')\n",
    "ylabel('sin(x)')\n",
    "xlim([0, 6]);\n",
    "ylim([-1, 1]);\n",
    "title('Plot of the Sine Function')\n",
    "```\n",
    "\n",
    "OUTPUT:\n",
    "![matlabDoubleWell](https://raw.githubusercontent.com/KristenScotti//Workshops/main/img/matlabSinePlot.png)"
   ]
  },
  {
   "cell_type": "code",
   "execution_count": null,
   "id": "bfd26114-256b-4548-a23e-6b01fcb0c03f",
   "metadata": {},
   "outputs": [],
   "source": []
  },
  {
   "cell_type": "code",
   "execution_count": null,
   "id": "3742f5d9-0c17-4e78-9083-e8214fb47c55",
   "metadata": {},
   "outputs": [],
   "source": []
  },
  {
   "cell_type": "code",
   "execution_count": null,
   "id": "efddf3da-5e90-4096-b47a-a1bfe85ee960",
   "metadata": {},
   "outputs": [],
   "source": []
  },
  {
   "cell_type": "markdown",
   "id": "c7d92ebd-a9aa-49d5-a1b1-57b14f199075",
   "metadata": {},
   "source": [
    "<b>Problem</b>: Convert the MATLAB code that finds the common tangent of double-well function\\\n",
    "\n",
    "MATLAB CODE: \n",
    "```\n",
    "% analyze the phase behavior of a binary mixture using Flory-Huggins theory by determining equilibrium volume fractions and finding the common tangent of the free energy curve.\n",
    "% Define parameters for the calculation\n",
    "na = 150;\n",
    "nb = 125;\n",
    "chi = 0.02;\n",
    "\n",
    "% Create an array 'phi' for volume fractions ranging from 0.001 to 0.999 with 1000 evenly spaced points\n",
    "phi = linspace(0.001, 0.999, 1000); \n",
    "\n",
    "% Free energy of mixing function\n",
    "% function fv(phi) calculates the free energy of mixing as a function of the volume fraction phi\n",
    "fv = @(phi) phi.*log(phi)/nb + (1-phi).*log(1-phi)/na + chi.*phi.*(1-phi);\n",
    "\n",
    "% Chemical potentials of components A and B\n",
    "% function mua(phi) calculates the chemical potential of component A as a function of volume fraction phi\n",
    "% function mub(phi) calculates the chemical potential of component B as a function of volume fraction phi\n",
    "mua = @(phi) log(1-phi) + phi*(1-na/nb) + chi*na*phi.^2; \n",
    "mub = @(phi) log(phi) + (1-phi)*(1-nb/na) + chi*nb*(1-phi)^2;\n",
    "\n",
    "% Function to solve for common tangent\n",
    "% function ftosolve(phi) computes the difference in chemical potentials between two volume fractions, representing the equation of the common tangent\n",
    "ftosolve = @(phi) [mua(phi(1))-mua(phi(2)); mub(phi(1))-mub(phi(2))];\n",
    "\n",
    "% Define an 'initial guess' for the equilibrium volume fractions as an array\n",
    "phiguess = [0.2; 0.8];\n",
    "\n",
    "% Use the 'fsolve' function to find the equilibrium volume fractions by solving the system of equations defined by ftosolve\n",
    "[phicalc, ~] = fsolve(ftosolve, phiguess);\n",
    "\n",
    "% Calculate and plot the tangent line\n",
    "% Calculate the slope of the tangent line at the equilibrium points:\n",
    "slope = (fv(phicalc(2))-fv(phicalc(1)))/(phicalc(2)-phicalc(1));\n",
    "\n",
    "% Calculate the equation of the tangent line\n",
    "tangentline = fv(phicalc(1)) + slope * (phi - phicalc(1));\n",
    "\n",
    "% Plot free energy function and the tangent line\n",
    "plot(phi, fv(phi), 'LineWidth', 2);\n",
    "hold on; % put hold on current plot to allow subsequent plots to be added to it\n",
    "plot(phi, tangentline, 'r', 'LineWidth', 2);\n",
    "hold off; % end hold on current plot\n",
    "\n",
    "% Set line width to 2\n",
    "xlabel('\\phi_{b}');\n",
    "ylabel('G_{v}V_{0}/RT');\n",
    "legend('Free Energy', 'Common Tangent');\n",
    "\n",
    "% Print equation of the common tangent\n",
    "disp('Equation for the common tangent:');\n",
    "disp(['G_{v}V_{0}/RT = ' num2str(slope) ' * (\\phi_{b} - ' num2str(phicalc(1)) ') + ' num2str(fv(phicalc(1)))]);\n",
    "```\n",
    "\n",
    "OUTPUT:\\\n",
    "![matlabDoubleWell](https://raw.githubusercontent.com/KristenScotti//Workshops/main/img/matlabDoubleWell.PNG)"
   ]
  },
  {
   "cell_type": "code",
   "execution_count": null,
   "id": "386011f3-9e28-4af8-b1f1-3cb04abad3c0",
   "metadata": {},
   "outputs": [],
   "source": []
  }
 ],
 "metadata": {
  "kernelspec": {
   "display_name": "Python 3 (ipykernel)",
   "language": "python",
   "name": "python3"
  },
  "language_info": {
   "codemirror_mode": {
    "name": "ipython",
    "version": 3
   },
   "file_extension": ".py",
   "mimetype": "text/x-python",
   "name": "python",
   "nbconvert_exporter": "python",
   "pygments_lexer": "ipython3",
   "version": "3.12.4"
  }
 },
 "nbformat": 4,
 "nbformat_minor": 5
}
