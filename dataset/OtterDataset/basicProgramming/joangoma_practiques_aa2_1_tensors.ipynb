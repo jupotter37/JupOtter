{
  "nbformat": 4,
  "nbformat_minor": 0,
  "metadata": {
    "kernelspec": {
      "name": "python3",
      "display_name": "Python"
    },
    "language_info": {
      "name": "python",
      "version": "3.9.5"
    },
    "interpreter": {
      "hash": "aee8b7b246df8f9039afb4144a1f6fd8d2ca17a180786b69acc140d282b71a49"
    },
    "colab": {
      "provenance": [],
      "toc_visible": true,
      "include_colab_link": true
    }
  },
  "cells": [
    {
      "cell_type": "markdown",
      "metadata": {
        "id": "view-in-github",
        "colab_type": "text"
      },
      "source": [
        "<a href=\"https://colab.research.google.com/github/joangoma/practiques_aa2/blob/main/1_lab_tensors.ipynb\" target=\"_parent\"><img src=\"https://colab.research.google.com/assets/colab-badge.svg\" alt=\"Open In Colab\"/></a>"
      ]
    },
    {
      "cell_type": "markdown",
      "metadata": {
        "id": "R-tjDhXJeixW"
      },
      "source": [
        "# A World of Tensors and Differentiable Computing\n",
        "Created by [Santiago Pascual](https://scholar.google.es/citations?user=7cVOyh0AAAAJ&hl=ca) ([UPC School](https://www.talent.upc.edu/ing/estudis/formacio/curs/310400/postgrau-artificial-intelligence-deep-learning/) 2019).\n",
        "\n",
        "Updated by [Gerard I. Gállego](https://www.linkedin.com/in/gerard-gallego/) and [José A. R. Fonollosa](https://www.kaggle.com/jarfo1)\n",
        "\n",
        "In these lab exercises we are going to see:\n",
        "\n",
        "1. What are tensors, concretely in the PyTorch framework.\n",
        "2. How to operate with them, and typical operations for deep learning modeling.\n",
        "3. Broadcasting Semantics. Added by [Jose A. R. Fonollosa](https://www.kaggle.com/jarfo1)"
      ]
    },
    {
      "cell_type": "markdown",
      "metadata": {
        "id": "NwQSQBAt5WL2"
      },
      "source": [
        "## What is a Tensor?\n",
        "\n",
        "\n",
        "A Tensor is the generalization of a vector into k dimensions.\n",
        "\n",
        "![](https://miro.medium.com/max/644/1*SGqhI_WpSaEr17wo8ycUhg.png)\n",
        "\n",
        "Table taken from [1].\n",
        "\n",
        "Because of this, a tensor is any k-dimensional structure, including matrices, vectors and scalars. PyTorch is a deep learning framework (https://pytorch.org) widely used for both research and production. As in any other deep learning framework, its core data structure is the tensor."
      ]
    },
    {
      "cell_type": "code",
      "metadata": {
        "id": "zs8Zgl3Ucadc",
        "colab": {
          "base_uri": "https://localhost:8080/"
        },
        "outputId": "7161cb1f-aa3f-4ab0-d64e-a8493db8c4cc"
      },
      "source": [
        "# We first import PyTorch and Numpy libraries as fundamental tools to work with arrays and tensors\n",
        "import torch\n",
        "import numpy\n",
        "# initialize a random seed such that every execution will raise same random sequences of results\n",
        "torch.manual_seed(1)"
      ],
      "execution_count": 1,
      "outputs": [
        {
          "output_type": "execute_result",
          "data": {
            "text/plain": [
              "<torch._C.Generator at 0x7b5397b80970>"
            ]
          },
          "metadata": {},
          "execution_count": 1
        }
      ]
    },
    {
      "cell_type": "markdown",
      "metadata": {
        "id": "MQQFFjMQPT1n"
      },
      "source": [
        "#### Creating tensors with PyTorch"
      ]
    },
    {
      "cell_type": "code",
      "metadata": {
        "id": "DFO_p2-gcade",
        "colab": {
          "base_uri": "https://localhost:8080/"
        },
        "outputId": "2b5c82ba-f20b-4b50-e975-78a323a6e6d4"
      },
      "source": [
        "# We can initialize an empty structure with certain dimensions:\n",
        "a = torch.empty(5, 7)\n",
        "# and we can check its dimensionality with the .shape attribute or .size() function\n",
        "print(a.shape)\n",
        "print(a.size())"
      ],
      "execution_count": 2,
      "outputs": [
        {
          "output_type": "stream",
          "name": "stdout",
          "text": [
            "torch.Size([5, 7])\n",
            "torch.Size([5, 7])\n"
          ]
        }
      ]
    },
    {
      "cell_type": "markdown",
      "metadata": {
        "id": "zl28ffg_67z8"
      },
      "source": [
        "Dimensions in PyTorch tensors are indexed from 0 onwards, so the first axis of size 5 is the *dim=0*."
      ]
    },
    {
      "cell_type": "code",
      "metadata": {
        "id": "syY_zE_ecade",
        "colab": {
          "base_uri": "https://localhost:8080/"
        },
        "outputId": "41c82699-3719-4421-cff0-2314a6cfa7cb"
      },
      "source": [
        "# YAYY we have created a tensor of size 5x7, but what does it contain?\n",
        "print(a)\n",
        "# Rubbish, nonsense, random stuff, it could be zero, it could be nan it could be whatever"
      ],
      "execution_count": 3,
      "outputs": [
        {
          "output_type": "stream",
          "name": "stdout",
          "text": [
            "tensor([[1.5919e-42, 1.7753e+28, 1.7007e+28, 3.1800e-41, 2.2421e-44, 2.1459e+20,\n",
            "         1.7007e+28],\n",
            "        [3.1800e-41, 1.5653e-42, 2.0618e-19, 1.7007e+28, 3.1800e-41, 2.2421e-44,\n",
            "         1.3563e-19],\n",
            "        [1.7007e+28, 3.1800e-41, 1.5638e-42, 8.3856e-33, 1.7007e+28, 3.1800e-41,\n",
            "         2.2421e-44],\n",
            "        [1.3556e-19, 1.7007e+28, 3.1800e-41, 1.5624e-42, 1.4607e-19, 1.7007e+28,\n",
            "         3.1800e-41],\n",
            "        [2.2421e-44, 2.6186e+20, 1.7007e+28, 3.1800e-41, 1.5456e-42, 1.8524e+28,\n",
            "         1.7007e+28]])\n"
          ]
        }
      ]
    },
    {
      "cell_type": "code",
      "metadata": {
        "id": "E_zpaidscadf",
        "colab": {
          "base_uri": "https://localhost:8080/"
        },
        "outputId": "4315dc98-1d39-4085-83f7-04c82c7a4e7f"
      },
      "source": [
        "# We can easily fill the tensor with some fixed value with the .fill_(val) function\n",
        "a.fill_(10)\n",
        "print(a)"
      ],
      "execution_count": 4,
      "outputs": [
        {
          "output_type": "stream",
          "name": "stdout",
          "text": [
            "tensor([[10., 10., 10., 10., 10., 10., 10.],\n",
            "        [10., 10., 10., 10., 10., 10., 10.],\n",
            "        [10., 10., 10., 10., 10., 10., 10.],\n",
            "        [10., 10., 10., 10., 10., 10., 10.],\n",
            "        [10., 10., 10., 10., 10., 10., 10.]])\n"
          ]
        }
      ]
    },
    {
      "cell_type": "code",
      "metadata": {
        "id": "negcnxK-cadf",
        "colab": {
          "base_uri": "https://localhost:8080/"
        },
        "outputId": "3288ec41-892b-4ea9-d279-78846ef69399"
      },
      "source": [
        "# Of course we could go k-dimensional, we just have to put more numbers in the init function\n",
        "a = torch.empty(2,4,6,8)\n",
        "print(a.shape)"
      ],
      "execution_count": 5,
      "outputs": [
        {
          "output_type": "stream",
          "name": "stdout",
          "text": [
            "torch.Size([2, 4, 6, 8])\n"
          ]
        }
      ]
    },
    {
      "cell_type": "markdown",
      "metadata": {
        "id": "_F0pCzMXkEU6"
      },
      "source": [
        "#### There are functions in PyTorch to initialize some special tensors:\n",
        "\n",
        "* **torch.randn** samples from a Gaussian distribution (mean=0, std=1)\n",
        "* **torch.rand** samples from a uniform distribution [0, 1)\n",
        "* **torch.ones** creates a tensor with 1s\n",
        "* **torch.zeros** creates a tensor with 0s"
      ]
    },
    {
      "cell_type": "markdown",
      "metadata": {
        "id": "kC_o44hLkaqy"
      },
      "source": [
        "### Exercise 1\n",
        "\n",
        "Create a tensor *z* drawn from a Gaussian distribution of dimensions (16, 1024)"
      ]
    },
    {
      "cell_type": "code",
      "metadata": {
        "id": "LjfPimj7cadg",
        "colab": {
          "base_uri": "https://localhost:8080/"
        },
        "outputId": "cef9c9e1-6f29-44e7-fb97-c84344148ee4"
      },
      "source": [
        "# TODO: Gaussian tensor 16x1024\n",
        "z = torch.randn([16, 1024])\n",
        "z.shape"
      ],
      "execution_count": 8,
      "outputs": [
        {
          "output_type": "execute_result",
          "data": {
            "text/plain": [
              "torch.Size([16, 1024])"
            ]
          },
          "metadata": {},
          "execution_count": 8
        }
      ]
    },
    {
      "cell_type": "markdown",
      "metadata": {
        "id": "xdGiSnOKmSyv"
      },
      "source": [
        "#### Tensors data type\n",
        "\n",
        "Importantly, tensors have a data type (like numeric variables are int, float, double, etc.). We can check the type\n",
        "with the **tensor.dtype** attribute. We can also change the dtype of our tensor with a very simple cast following the data type name in the form of a function: **tensor.float()**, **tensor.int()**, **tensor.long()**, etc."
      ]
    },
    {
      "cell_type": "code",
      "metadata": {
        "id": "PIwAb-vGcadg",
        "colab": {
          "base_uri": "https://localhost:8080/"
        },
        "outputId": "f124bb8e-30a3-42fa-9585-1971218efb49"
      },
      "source": [
        "a = torch.ones(5)\n",
        "print(a.dtype)\n",
        "\n",
        "# change to float64 (aka. double)\n",
        "print(a.double().dtype)\n",
        "\n",
        "# change to float16 (aka. half)\n",
        "print(a.half().dtype)\n",
        "\n",
        "# change to int16 (aka. short)\n",
        "print(a.short().dtype)\n",
        "\n",
        "# change to int64 (aka. long)\n",
        "print(a.long().dtype)\n"
      ],
      "execution_count": 9,
      "outputs": [
        {
          "output_type": "stream",
          "name": "stdout",
          "text": [
            "torch.float32\n",
            "torch.float64\n",
            "torch.float16\n",
            "torch.int16\n",
            "torch.int64\n"
          ]
        }
      ]
    },
    {
      "cell_type": "markdown",
      "metadata": {
        "id": "PQqUN7JGnhYl"
      },
      "source": [
        "And the way to create a tensor with a specific data type at initialization is either by specifying the **dtype=torch.<dtype\\>** during the tensor initialization, or using an explicit tensor constructor like **torch.FloatTensor()**, **torch.LongTensor()**, etc."
      ]
    },
    {
      "cell_type": "code",
      "metadata": {
        "id": "HSx8PCRVcadg",
        "colab": {
          "base_uri": "https://localhost:8080/"
        },
        "outputId": "3f740af5-79c4-4b64-b9b3-e31d2dd322ef"
      },
      "source": [
        "# Initialize a tensor with type short()\n",
        "a = torch.empty(5, 7, dtype=torch.short)\n",
        "print(a.dtype)\n",
        "\n",
        "# Directly create a short tensor\n",
        "a = torch.ShortTensor(5, 7)\n",
        "print(a.dtype)\n",
        "\n",
        "# Remember: there should be rubbish in these results, we just explicited a data type, not any value yet! (hence random memory is depicted)"
      ],
      "execution_count": 10,
      "outputs": [
        {
          "output_type": "stream",
          "name": "stdout",
          "text": [
            "torch.int16\n",
            "torch.int16\n"
          ]
        }
      ]
    },
    {
      "cell_type": "markdown",
      "metadata": {
        "id": "0Tw0oG0HsXOf"
      },
      "source": [
        "#### Tips about tensor data types applied to deep learning:\n",
        "\n",
        "Keep in mind the following relations, they might be very useful for your future selves!\n",
        "\n",
        "* Float32 --> Data type for the neural network parameters and GPU operations!\n",
        "* Long (Int64) --> Data type for text inputs (e.g. indexes of words in a dictionary)\n",
        "* Float16 (Half) --> Data type for currently fastest GPU operations (with less precision) on advanced GPU implementations.\n",
        "\n",
        "Remember: only a sticknote for your future selves, in case you have to deal with any of the above mentioned things (embeddings, fastest GPU stuff, etc.).\n",
        "\n",
        "**TO SEE THE FULL SET OF PYTORCH TENSOR DATA TYPES, CHECK THE DOCUMENTATION AT https://pytorch.org/docs/stable/tensors.html**"
      ]
    },
    {
      "cell_type": "markdown",
      "metadata": {
        "id": "qK7tJePCnIoC"
      },
      "source": [
        "#### Bringing the tensors from Python and Numpy\n",
        "\n",
        "You may be familiarized with Numpy and Python lists. The former one is a MUST to do any scientific programming in Python, so if you need a refresh it is recommended to have a quick review: https://becominghuman.ai/an-essential-guide-to-numpy-for-machine-learning-in-python-5615e1758301 . The latter, lists, are the inherent mechanism of Python to create a sorted structure of elements (like a k-dimensional array, as we can embed lists in lists and so on).\n",
        "\n",
        "PyTorch is very well integrated with Numpy (actually PyTorch is supposed to be an enhanced Numpy, with algebraic operations also running on GPU!) and Python. We can hence convert our Numpy and lists into PyTorch tensors VERY EASILY!"
      ]
    },
    {
      "cell_type": "code",
      "metadata": {
        "id": "72Yl8Zf4cadh",
        "colab": {
          "base_uri": "https://localhost:8080/"
        },
        "outputId": "f967ae00-c435-41d1-f3ac-b54cb0e700a7"
      },
      "source": [
        "# Creating a 1-D tensor from the Numpy array [1, 2, 3]\n",
        "a = torch.tensor(numpy.array([1, 2, 3]))\n",
        "\n",
        "# Creating a 1-D tensor from the Python list [1, 2, 3]\n",
        "a = torch.tensor([1, 2, 3])\n",
        "# Values 1, 2, 3\n",
        "print('Tensor a values: ', a)\n",
        "# 1 dimension of size 3\n",
        "print('Tensor a shape: ', a.shape)"
      ],
      "execution_count": 11,
      "outputs": [
        {
          "output_type": "stream",
          "name": "stdout",
          "text": [
            "Tensor a values:  tensor([1, 2, 3])\n",
            "Tensor a shape:  torch.Size([3])\n"
          ]
        }
      ]
    },
    {
      "cell_type": "code",
      "metadata": {
        "id": "yrC5qLeHcadh",
        "colab": {
          "base_uri": "https://localhost:8080/"
        },
        "outputId": "017bd9e3-b710-4a70-ed23-a99f191ed1c8"
      },
      "source": [
        "# k-dimensional arrays are also turned into PyTorch tensors as easily as that\n",
        "A = torch.tensor(numpy.ones((16, 1024)))\n",
        "print(A.dtype)\n",
        "print(A.shape)"
      ],
      "execution_count": 12,
      "outputs": [
        {
          "output_type": "stream",
          "name": "stdout",
          "text": [
            "torch.float64\n",
            "torch.Size([16, 1024])\n"
          ]
        }
      ]
    },
    {
      "cell_type": "markdown",
      "metadata": {
        "id": "-J5CGBU3V5gF"
      },
      "source": [
        "#### Converting tensors back to Numpy!\n",
        "\n",
        "Converting back to numpy arrays is as easy as getting the *.data* attribute of the tensor and calling its *.numpy()* casting function\n"
      ]
    },
    {
      "cell_type": "code",
      "metadata": {
        "id": "7xmpvRpDcadh",
        "colab": {
          "base_uri": "https://localhost:8080/"
        },
        "outputId": "e8c62104-8a44-4470-9881-3325b47c7a7a"
      },
      "source": [
        "A = torch.rand(10, 10)\n",
        "Anpy = A.data.numpy()\n",
        "print('A type: ', type(A)) # torch.Tensor\n",
        "print('Anpy type: ', type(Anpy)) # numpy.ndarray"
      ],
      "execution_count": 13,
      "outputs": [
        {
          "output_type": "stream",
          "name": "stdout",
          "text": [
            "A type:  <class 'torch.Tensor'>\n",
            "Anpy type:  <class 'numpy.ndarray'>\n"
          ]
        }
      ]
    },
    {
      "cell_type": "markdown",
      "metadata": {
        "id": "paUskvqytogM"
      },
      "source": [
        "### Exercise 2\n",
        "\n",
        "Create an **int16** *it* tensor in PyTorch (however you want) from the following numpy array *na*"
      ]
    },
    {
      "cell_type": "code",
      "metadata": {
        "id": "BLTA9R1Dcadi",
        "colab": {
          "base_uri": "https://localhost:8080/"
        },
        "outputId": "504d965c-8368-4e47-a552-7a65415401ec"
      },
      "source": [
        "na = 10 * numpy.random.rand(8, 8)\n",
        "\n",
        "# TODO: create the short tensor out of 'na'\n",
        "it = torch.ShortTensor(na)\n",
        "print(it.type, it.dtype)\n",
        "it"
      ],
      "execution_count": 21,
      "outputs": [
        {
          "output_type": "stream",
          "name": "stdout",
          "text": [
            "<built-in method type of Tensor object at 0x7b52fffb2020> torch.int16\n"
          ]
        },
        {
          "output_type": "execute_result",
          "data": {
            "text/plain": [
              "tensor([[2, 7, 2, 5, 1, 5, 4, 0],\n",
              "        [3, 2, 7, 8, 8, 0, 4, 0],\n",
              "        [5, 7, 7, 8, 1, 5, 7, 8],\n",
              "        [6, 0, 7, 5, 3, 7, 4, 6],\n",
              "        [0, 2, 6, 2, 5, 6, 5, 0],\n",
              "        [2, 5, 3, 5, 4, 8, 6, 6],\n",
              "        [7, 3, 3, 4, 1, 5, 9, 4],\n",
              "        [1, 2, 0, 5, 6, 7, 5, 4]], dtype=torch.int16)"
            ]
          },
          "metadata": {},
          "execution_count": 21
        }
      ]
    },
    {
      "cell_type": "markdown",
      "metadata": {
        "id": "GHyxb3EkxHaT"
      },
      "source": [
        "## Operations with tensors\n",
        "\n",
        "The documentation of PyTorch tensors can be found online in: https://pytorch.org/docs/stable/tensors.html\n",
        "\n",
        "This section introduces two important types of operations in PyTorch:\n",
        "\n",
        "1. In-place operations\n",
        "2. Algebraic operations on tensors: transposing, squeezing/unsqueezing, slicing, chunking and concatenating"
      ]
    },
    {
      "cell_type": "markdown",
      "metadata": {
        "id": "ybnrLcAlNeJV"
      },
      "source": [
        "#### In-place operations"
      ]
    },
    {
      "cell_type": "code",
      "metadata": {
        "id": "_LKoEThCcadi",
        "colab": {
          "base_uri": "https://localhost:8080/"
        },
        "outputId": "8aecfb2f-ea32-4bea-8f39-58500b1214ae"
      },
      "source": [
        "# In-place operations are those whose function name contain an underscore '_' as in fill_(val), add_(val), etc.\n",
        "a = torch.empty(2, 2)\n",
        "a.fill_(1)\n",
        "print(a)"
      ],
      "execution_count": 26,
      "outputs": [
        {
          "output_type": "stream",
          "name": "stdout",
          "text": [
            "tensor([[1., 1.],\n",
            "        [1., 1.]])\n"
          ]
        }
      ]
    },
    {
      "cell_type": "code",
      "metadata": {
        "id": "5QJu4TCFcadi",
        "colab": {
          "base_uri": "https://localhost:8080/"
        },
        "outputId": "ebf1ed5f-c41a-4e42-98f0-8f9181cc8966"
      },
      "source": [
        "# There are operations where both inplace and normal methods can be applied\n",
        "# For example to sum some value to the tensor\n",
        "a.add_(1)\n",
        "print(a) # prints a tensor of values \"2\"\n",
        "# This, though, takes no effect\n",
        "a.add(1)\n",
        "print(a)"
      ],
      "execution_count": 27,
      "outputs": [
        {
          "output_type": "stream",
          "name": "stdout",
          "text": [
            "tensor([[2., 2.],\n",
            "        [2., 2.]])\n",
            "tensor([[2., 2.],\n",
            "        [2., 2.]])\n"
          ]
        }
      ]
    },
    {
      "cell_type": "code",
      "metadata": {
        "id": "dffw-89scadi",
        "colab": {
          "base_uri": "https://localhost:8080/"
        },
        "outputId": "5722b6f6-590d-4207-9215-977925af7822"
      },
      "source": [
        "# So yes, you guessed right! We have to actually assign the result to an output tensor to actually\n",
        "# get the outcome of this operation\n",
        "b = a.add(1)\n",
        "print(b) # NOW it prints a tensor of values \"3\"!"
      ],
      "execution_count": 28,
      "outputs": [
        {
          "output_type": "stream",
          "name": "stdout",
          "text": [
            "tensor([[3., 3.],\n",
            "        [3., 3.]])\n"
          ]
        }
      ]
    },
    {
      "cell_type": "markdown",
      "metadata": {
        "id": "YwDuaN_w8ZQ3"
      },
      "source": [
        "### Exercise 3\n",
        "\n",
        "Do you notice an important difference between these in-place vs normal operations? Perhaps not yet... what if I tell you that I want to apply an operation upon a FloatTensor 10000x10000? Knowing that we have 32 bits per float value, compute the required memory to store that tensor in Megabytes (1 MB = 1.000.000 Bytes)"
      ]
    },
    {
      "cell_type": "code",
      "metadata": {
        "id": "hTO28CWucadi",
        "colab": {
          "base_uri": "https://localhost:8080/"
        },
        "outputId": "54bb353c-8187-48a7-d168-67d39bb38951"
      },
      "source": [
        "# TODO\n",
        "total_mem = (1e4 * 1e4) * (32 / 8) / 1e6\n",
        "\n",
        "print(total_mem)"
      ],
      "execution_count": 34,
      "outputs": [
        {
          "output_type": "stream",
          "name": "stdout",
          "text": [
            "400.0\n"
          ]
        }
      ]
    },
    {
      "cell_type": "markdown",
      "metadata": {
        "id": "OGXDnygK-adC"
      },
      "source": [
        "### Now we can be more applied to deep learning. But with tensors, raw operations.\n",
        "\n",
        "A Neuron is defined as a linear operation of weighted sums followed by a non-linearity. We thus have a tensor of weights *w*, a scalar with the bias *b*, and a non-linearity (like ReLU *max(0, x)* that just allows the positive components to go forth in the *y* values).\n",
        "\n",
        "![](https://www.researchgate.net/profile/Haroldo_Campos_Velho2/publication/235901708/figure/fig1/AS:669443441049602@1536619162135/Artificial-neuron-Equation-neuron-output.ppm)\n"
      ]
    },
    {
      "cell_type": "code",
      "metadata": {
        "id": "55LBAQtBcadj",
        "colab": {
          "base_uri": "https://localhost:8080/"
        },
        "outputId": "1f15520e-ac63-4a4a-f66b-c469cfbcb1cf"
      },
      "source": [
        "# We will have 1 input vector with 100.000 dimensions (features)\n",
        "x = torch.ones(1, 100000)\n",
        "\n",
        "# Our weight tensor is hence, for a neuron, 100.000 x 1\n",
        "w = 0.02 * torch.randn(100000, 1)\n",
        "\n",
        "\n",
        "# Let's define the function that will perform the operation of a neuron\n",
        "def forward_neuron(x, w, b):\n",
        "  v = x.mm(w) + b # .mm() is the matmul function (http://pytorch.org/docs/stable/torch.html#torch.mm)\n",
        "  y = v.clamp(min=0) # relu is defined as a truncation of the negative activations to zero (clamp function does the trick)\n",
        "  return y\n",
        "\n",
        "# Now we can see examples of operation through the relu\n",
        "\n",
        "# Our bias is just a scalar\n",
        "bp = 10 * torch.ones(1)\n",
        "\n",
        "print(forward_neuron(x, w, bp))\n",
        "\n",
        "# Shifting the bias quite negatively should raise zero\n",
        "bn = -10 * torch.ones(1)\n",
        "print(forward_neuron(x, w, bn))"
      ],
      "execution_count": 33,
      "outputs": [
        {
          "output_type": "stream",
          "name": "stdout",
          "text": [
            "tensor([[6.6320]])\n",
            "tensor([[0.]])\n"
          ]
        }
      ]
    },
    {
      "cell_type": "markdown",
      "metadata": {
        "id": "qWXKiv2-xTWF"
      },
      "source": [
        "### Exercise 4\n",
        "\n",
        "Continuing with previous in-place vs normal operations rationale, please change the *forward_neuron* function to apply the ReLU in-place. This is very useful to save memory when constructing very deep nets.\n",
        "\n",
        "\n",
        "\n",
        "**NOTE:** for the record, this will solve the doubt you will have some day \"what is this inplace=True in the *nn.ReLU(inplace=True)* object?\" when you build neural networks with the PyTorch *torch.nn* API."
      ]
    },
    {
      "cell_type": "code",
      "metadata": {
        "id": "7JTXj5wYcadj",
        "colab": {
          "base_uri": "https://localhost:8080/"
        },
        "outputId": "8737aa03-91d0-44b2-f4bb-b42f73b1404e"
      },
      "source": [
        "def forward_neuron(x, w, b):\n",
        "  v = x.mm(w) + b # .mm() is the matmul function (http://pytorch.org/docs/stable/torch.html#torch.mm)\n",
        "  # TODO: make the inplace clamping\n",
        "  return v.clamp_(min=0)\n",
        "\n",
        "print(forward_neuron(x, w, bp))"
      ],
      "execution_count": 35,
      "outputs": [
        {
          "output_type": "stream",
          "name": "stdout",
          "text": [
            "tensor([[6.6320]])\n"
          ]
        }
      ]
    },
    {
      "cell_type": "markdown",
      "metadata": {
        "id": "Y85-XopvNafw"
      },
      "source": [
        "#### Transpositions and beyond\n",
        "\n",
        "Bear in mind the following FUNDAMENTAL operations to work with deep learning:\n",
        "\n",
        "* Tensor transposition: swapping dimensions in the tensor\n",
        "* Tensor chunking: breaking down a tensor into sub-pieces through a certain dimension\n",
        "* Tensor concatenation: merging different tensors into a single one.\n",
        "* Tensor squeezing/unsqueezing for dimension adjustments"
      ]
    },
    {
      "cell_type": "code",
      "metadata": {
        "id": "PyJpy9eTcadj",
        "colab": {
          "base_uri": "https://localhost:8080/"
        },
        "outputId": "f7b7a67e-2582-4695-8c15-9692ad1bcf41"
      },
      "source": [
        "# Transposition\n",
        "\n",
        "A = torch.empty(10, 20, 5)\n",
        "\n",
        "# Swap axis 2 and 1\n",
        "A_21 = A.transpose(2, 1)\n",
        "\n",
        "print('{} transposed axis (2, 1) to: {}'.format(A.shape, A_21.shape))\n",
        "\n",
        "# Swap axis 2 and 0\n",
        "A_20 = A.transpose(2, 0)\n",
        "\n",
        "print('{} transposed axis (2, 0) to: {}'.format(A.shape, A_20.shape))"
      ],
      "execution_count": 36,
      "outputs": [
        {
          "output_type": "stream",
          "name": "stdout",
          "text": [
            "torch.Size([10, 20, 5]) transposed axis (2, 1) to: torch.Size([10, 5, 20])\n",
            "torch.Size([10, 20, 5]) transposed axis (2, 0) to: torch.Size([5, 20, 10])\n"
          ]
        }
      ]
    },
    {
      "cell_type": "markdown",
      "metadata": {
        "id": "YiCQwQyTRBiu"
      },
      "source": [
        "**NOTE:** The utlity of transpositions will be seen further when dealing with different neural architecture designs."
      ]
    },
    {
      "cell_type": "code",
      "metadata": {
        "id": "qHDhDafIcadk",
        "colab": {
          "base_uri": "https://localhost:8080/"
        },
        "outputId": "10ec54a0-a851-4b1f-87b3-f7864e5a64a0"
      },
      "source": [
        "# Different axis can be merged with the .view() operator\n",
        "B = A.view(200, 5)\n",
        "print('{} axis (0, 1) merged to: {}'.format(A.shape, B.shape))"
      ],
      "execution_count": 37,
      "outputs": [
        {
          "output_type": "stream",
          "name": "stdout",
          "text": [
            "torch.Size([10, 20, 5]) axis (0, 1) merged to: torch.Size([200, 5])\n"
          ]
        }
      ]
    },
    {
      "cell_type": "code",
      "metadata": {
        "id": "1HFTGjIpcadu",
        "colab": {
          "base_uri": "https://localhost:8080/"
        },
        "outputId": "27b31170-415f-4563-c47c-8c53d79e6977"
      },
      "source": [
        "# Note that giving a wrong size in the dimensions for .view() raises an error\n",
        "try:\n",
        "  B = A.view(201, 5)\n",
        "except RuntimeError:\n",
        "  print('Wrong dimension sizes specified in .view()!')"
      ],
      "execution_count": 38,
      "outputs": [
        {
          "output_type": "stream",
          "name": "stdout",
          "text": [
            "Wrong dimension sizes specified in .view()!\n"
          ]
        }
      ]
    },
    {
      "cell_type": "code",
      "metadata": {
        "id": "Dc0WDTvWcadu",
        "colab": {
          "base_uri": "https://localhost:8080/"
        },
        "outputId": "479afe65-76ac-4e8f-b3a0-4a3473061b78"
      },
      "source": [
        "# Chunking the tensor with .chunk() requires to specify how many chunks we want in which dimension\n",
        "# For example for tensor A: (10, 20, 5), we can chunk it into 5 sub-tensors of shape (10, 4, 5) each\n",
        "Achunks = torch.chunk(A, 5, dim=1)\n",
        "for i, achunk in enumerate(Achunks):\n",
        "  print('Chunk {} shape: {}'.format(i, achunk.shape))"
      ],
      "execution_count": 39,
      "outputs": [
        {
          "output_type": "stream",
          "name": "stdout",
          "text": [
            "Chunk 0 shape: torch.Size([10, 4, 5])\n",
            "Chunk 1 shape: torch.Size([10, 4, 5])\n",
            "Chunk 2 shape: torch.Size([10, 4, 5])\n",
            "Chunk 3 shape: torch.Size([10, 4, 5])\n",
            "Chunk 4 shape: torch.Size([10, 4, 5])\n"
          ]
        }
      ]
    },
    {
      "cell_type": "code",
      "metadata": {
        "id": "yfQ6As6bcadu",
        "colab": {
          "base_uri": "https://localhost:8080/"
        },
        "outputId": "08e8e342-a1c1-40af-9bbc-c675fb503b8e"
      },
      "source": [
        "# And tensors can be merged back to a tensor Amerged with .cat() operator, specifying in which dimension do we concatenate\n",
        "# So to go back to the same tensor as we had prior to chunking, we stack on dimension 1\n",
        "\n",
        "Amerged = torch.cat(Achunks, dim=1)\n",
        "print('Amerged shape: ', Amerged.shape)"
      ],
      "execution_count": 41,
      "outputs": [
        {
          "output_type": "stream",
          "name": "stdout",
          "text": [
            "Amerged shape:  torch.Size([10, 20, 5])\n"
          ]
        }
      ]
    },
    {
      "cell_type": "markdown",
      "metadata": {
        "id": "sIIVSC4Ez7VF"
      },
      "source": [
        "Finally, we may want to add additional dimensions or remove them from our tensor.\n",
        "We achieve so with [.squeeze()](https://pytorch.org/docs/stable/torch.html#torch.squeeze) or [.unsqueeze()](https://pytorch.org/docs/stable/torch.html#torch.unsqueeze).\n",
        "\n"
      ]
    },
    {
      "cell_type": "code",
      "metadata": {
        "id": "XCeTi2wWcadv",
        "colab": {
          "base_uri": "https://localhost:8080/"
        },
        "outputId": "289a8cc3-41d3-462f-8aa9-654207d868be"
      },
      "source": [
        "# Define an empty tensor to start from\n",
        "A = torch.empty(2, 2)\n",
        "\n",
        "# 1) Add an extra dimension in axis 0 (unsqueeze)\n",
        "A = A.unsqueeze(0)\n",
        "\n",
        "# 2) Add an extra dimension in axis 2\n",
        "A = A.unsqueeze(2)\n",
        "\n",
        "# 3) Add an extra dimension in axis 2 again\n",
        "A = A.unsqueeze(2)\n",
        "\n",
        "print('Current A shape after unsqueezing dimensions=(0, 2, 2): ', A.shape)"
      ],
      "execution_count": 49,
      "outputs": [
        {
          "output_type": "stream",
          "name": "stdout",
          "text": [
            "Current A shape after unsqueezing dimensions=(0, 2, 2):  torch.Size([1, 2, 1, 1, 2])\n"
          ]
        }
      ]
    },
    {
      "cell_type": "code",
      "metadata": {
        "id": "RjsvhqJdcadv",
        "colab": {
          "base_uri": "https://localhost:8080/"
        },
        "outputId": "9643cbbb-b8b1-458d-ac6b-28755156e6cb"
      },
      "source": [
        "# 4) Remove the dimension 0 from step (1)\n",
        "\n",
        "A = A.squeeze(0)\n",
        "\n",
        "print('Current A shape after squeezing dim=0: ', A.shape)"
      ],
      "execution_count": 44,
      "outputs": [
        {
          "output_type": "stream",
          "name": "stdout",
          "text": [
            "Current A shape after squeezing dim=0:  torch.Size([2, 1, 1, 2])\n"
          ]
        }
      ]
    },
    {
      "cell_type": "code",
      "metadata": {
        "id": "JBgDaJrMcadv",
        "colab": {
          "base_uri": "https://localhost:8080/"
        },
        "outputId": "9b54253e-68f7-4ade-b78a-bb1f1f6f4e45"
      },
      "source": [
        "# 5) We will remove all remaining dimensions of size 1 (\"useless\") when we do not specify the dimension\n",
        "\n",
        "A = A.squeeze()\n",
        "\n",
        "print('Current A after squeezing all remaining dimensions of size 1: ', A.shape)"
      ],
      "execution_count": 45,
      "outputs": [
        {
          "output_type": "stream",
          "name": "stdout",
          "text": [
            "Current A after squeezing all remaining dimensions of size 1:  torch.Size([2, 2])\n"
          ]
        }
      ]
    },
    {
      "cell_type": "markdown",
      "metadata": {
        "id": "Ya3h7RTxT3Nm"
      },
      "source": [
        "### Exercise 5\n",
        "\n",
        "Unsqueezing and squeezing dimensions can also be achieved with the [.view()](https://pytorch.org/docs/stable/tensors.html?highlight=view#torch.Tensor.view) function. \"View\" the tensor *A* to achieve the same shape as the one after step (3) in the previous section with a single function call to *.view()*"
      ]
    },
    {
      "cell_type": "code",
      "metadata": {
        "id": "9UbFNrLTcadw",
        "colab": {
          "base_uri": "https://localhost:8080/"
        },
        "outputId": "665aa618-4da3-4b42-c22e-3e08905a07f9"
      },
      "source": [
        "A = torch.empty(2, 2)\n",
        "\n",
        "# TODO: use view to unsqueeze dimensions 0, 2 and 2 (as in the previous section)\n",
        "A = A.view(1, 2, 1, 1, 2)\n",
        "\n",
        "print('Current A shape: ', A.shape)"
      ],
      "execution_count": 53,
      "outputs": [
        {
          "output_type": "stream",
          "name": "stdout",
          "text": [
            "Current A shape:  torch.Size([1, 2, 1, 1, 2])\n"
          ]
        }
      ]
    },
    {
      "cell_type": "markdown",
      "metadata": {
        "id": "1romtEZvf0j9"
      },
      "source": [
        "### Exercise 6 (Broadcasting semantics)\n",
        "\n",
        "Many PyTorch operations support [Broadcasting Semantics](https://pytorch.org/docs/stable/notes/broadcasting.html#broadcasting-semantics).\n",
        "\n",
        "If a PyTorch operation supports broadcast, then its Tensor arguments can be\n",
        "automatically expanded to be of equal sizes (without making copies of the data).\n",
        "\n",
        "Considering two tensors with at least one dimension, they are \"broadcastable\" if the following conditions are fulfilled, when iterating dimensions jointly from the last one:\n",
        "- Dimensions of both tensors are equal\n",
        "- One of them is 1\n",
        "- One of them does not exist\n",
        "\n",
        "Check these examples:\n",
        "```\n",
        "A.shape = torch.Size([      1])\n",
        "B.shape = torch.Size([3, 1, 7])\n",
        "C = A + B\n",
        "C.shape = torch.Size([3, 1, 7])\n",
        "```\n",
        "\n",
        "```\n",
        "A.shape = torch.Size([5, 1, 4, 1])\n",
        "B.shape = torch.Size([   3, 1, 1])\n",
        "C = A + B\n",
        "C.shape = torch.Size([5, 3, 4, 1])\n",
        "```\n",
        "\n",
        "```\n",
        "A.shape = torch.Size([5, 2, 4, 1])\n",
        "B.shape = torch.Size([   3, 1, 1])\n",
        "C = A + B  # Error, the broadcasting condition is broken in the second dimension\n",
        "```"
      ]
    },
    {
      "cell_type": "code",
      "metadata": {
        "id": "jKxYkHYdcadw",
        "colab": {
          "base_uri": "https://localhost:8080/"
        },
        "outputId": "11baa118-d988-42c8-d661-2dcd4c03c841"
      },
      "source": [
        "a = torch.ones(5, 3, dtype=torch.int16)\n",
        "print(f\"a = {a}\\n\")\n",
        "print(f\"a.shape = {a.shape}\\n\")\n",
        "\n",
        "b = torch.tensor([1, 2, 3])\n",
        "print(f\"b = {b}\\n\")\n",
        "print(f\"b.shape = {b.shape}\\n\")\n",
        "\n",
        "print(f\"a*b = {a*b}\\n\")\n",
        "print(f\"(a*b).shape = {(a*b).shape}\")"
      ],
      "execution_count": 54,
      "outputs": [
        {
          "output_type": "stream",
          "name": "stdout",
          "text": [
            "a = tensor([[1, 1, 1],\n",
            "        [1, 1, 1],\n",
            "        [1, 1, 1],\n",
            "        [1, 1, 1],\n",
            "        [1, 1, 1]], dtype=torch.int16)\n",
            "\n",
            "a.shape = torch.Size([5, 3])\n",
            "\n",
            "b = tensor([1, 2, 3])\n",
            "\n",
            "b.shape = torch.Size([3])\n",
            "\n",
            "a*b = tensor([[1, 2, 3],\n",
            "        [1, 2, 3],\n",
            "        [1, 2, 3],\n",
            "        [1, 2, 3],\n",
            "        [1, 2, 3]])\n",
            "\n",
            "(a*b).shape = torch.Size([5, 3])\n"
          ]
        }
      ]
    },
    {
      "cell_type": "code",
      "metadata": {
        "id": "T3DKlUmPcadw",
        "colab": {
          "base_uri": "https://localhost:8080/"
        },
        "outputId": "1b2060b6-ee91-4c84-e1de-be060c007c43"
      },
      "source": [
        "a = torch.ones(5, 3, dtype=torch.int16)\n",
        "print(f\"a = {a}\\n\")\n",
        "print(f\"a.shape = {a.shape}\\n\")\n",
        "\n",
        "b = torch.tensor([1, 2, 3, 4, 5])\n",
        "print(f\"b = {b}\\n\")\n",
        "print(f\"b.shape = {b.shape}\\n\")\n",
        "\n",
        "try:\n",
        "    # a and b are not broadcastable, because in the trailing dimension 3 != 5\n",
        "    print(f\"a*b = {a*b}\\n\") # Error\n",
        "except Exception as e:\n",
        "    print(f\"ERROR: {e}\")"
      ],
      "execution_count": 55,
      "outputs": [
        {
          "output_type": "stream",
          "name": "stdout",
          "text": [
            "a = tensor([[1, 1, 1],\n",
            "        [1, 1, 1],\n",
            "        [1, 1, 1],\n",
            "        [1, 1, 1],\n",
            "        [1, 1, 1]], dtype=torch.int16)\n",
            "\n",
            "a.shape = torch.Size([5, 3])\n",
            "\n",
            "b = tensor([1, 2, 3, 4, 5])\n",
            "\n",
            "b.shape = torch.Size([5])\n",
            "\n",
            "ERROR: The size of tensor a (3) must match the size of tensor b (5) at non-singleton dimension 1\n"
          ]
        }
      ]
    },
    {
      "cell_type": "code",
      "metadata": {
        "id": "yjh_fjf8cadw",
        "colab": {
          "base_uri": "https://localhost:8080/"
        },
        "outputId": "4b9b6bd2-48c7-4423-d1ec-f8da509d92f8"
      },
      "source": [
        "# TODO: add a trailing dimension to b to make a and b broadcastable\n",
        "b = b.view(5, 1)\n",
        "print(b)\n",
        "\n",
        "print(f\"a*b = {a*b}\\n\")\n",
        "print(f\"(a*b).shape = {(a*b).shape}\")"
      ],
      "execution_count": 60,
      "outputs": [
        {
          "output_type": "stream",
          "name": "stdout",
          "text": [
            "tensor([[1],\n",
            "        [2],\n",
            "        [3],\n",
            "        [4],\n",
            "        [5]])\n",
            "a*b = tensor([[1, 1, 1],\n",
            "        [2, 2, 2],\n",
            "        [3, 3, 3],\n",
            "        [4, 4, 4],\n",
            "        [5, 5, 5]])\n",
            "\n",
            "(a*b).shape = torch.Size([5, 3])\n"
          ]
        }
      ]
    },
    {
      "cell_type": "markdown",
      "metadata": {
        "id": "80Zvpx366WlU"
      },
      "source": [
        "### Exercise 7 (Grand Finale)\n",
        "\n",
        "Given the tensor *A*, shuffle  each of the elements of the first dimension with the *random.shuffle* Python function.\n",
        "\n",
        "**Clue:** use the functions *torch.chunk*, *random.shuffle* (which acts in-place over Python lists), and *torch.cat*."
      ]
    },
    {
      "cell_type": "code",
      "metadata": {
        "id": "lixRLn2Dcadw",
        "colab": {
          "base_uri": "https://localhost:8080/"
        },
        "outputId": "d76d6a9c-9e56-4f3d-df5a-6a2ce29a8567"
      },
      "source": [
        "import torch\n",
        "import random\n",
        "A = torch.rand(4, 2, 4)\n",
        "print('A before shuffling:\\n ', A)\n",
        "\n",
        "# TODO: chunk the tensor, and convert the resulting\n",
        "# tuple into a Python list\n",
        "chunks = torch.chunk(A, 4, dim=0)  # Split along the first dimension (4 parts)\n",
        "\n",
        "# Step 2: Convert the tuple to a list to allow shuffling\n",
        "chunks_list = list(chunks)\n",
        "\n",
        "# Step 3: Shuffle the list of chunks\n",
        "random.shuffle(chunks_list)\n",
        "\n",
        "# Step 4: Concatenate the shuffled chunks back together along the first dimension\n",
        "A = torch.cat(chunks_list, dim=0)\n",
        "\n",
        "print('A after shuffling:\\n ', A)"
      ],
      "execution_count": 69,
      "outputs": [
        {
          "output_type": "stream",
          "name": "stdout",
          "text": [
            "A before shuffling:\n",
            "  tensor([[[0.8929, 0.7906, 0.1736, 0.7940],\n",
            "         [0.9753, 0.2537, 0.5620, 0.6018]],\n",
            "\n",
            "        [[0.9347, 0.6165, 0.5726, 0.3467],\n",
            "         [0.7127, 0.6523, 0.4118, 0.7322]],\n",
            "\n",
            "        [[0.2162, 0.2698, 0.5184, 0.2954],\n",
            "         [0.7843, 0.4573, 0.2256, 0.3895]],\n",
            "\n",
            "        [[0.4570, 0.1042, 0.2750, 0.9538],\n",
            "         [0.5999, 0.1962, 0.5633, 0.3416]]])\n",
            "A after shuffling:\n",
            "  tensor([[[0.4570, 0.1042, 0.2750, 0.9538],\n",
            "         [0.5999, 0.1962, 0.5633, 0.3416]],\n",
            "\n",
            "        [[0.9347, 0.6165, 0.5726, 0.3467],\n",
            "         [0.7127, 0.6523, 0.4118, 0.7322]],\n",
            "\n",
            "        [[0.8929, 0.7906, 0.1736, 0.7940],\n",
            "         [0.9753, 0.2537, 0.5620, 0.6018]],\n",
            "\n",
            "        [[0.2162, 0.2698, 0.5184, 0.2954],\n",
            "         [0.7843, 0.4573, 0.2256, 0.3895]]])\n"
          ]
        }
      ]
    },
    {
      "cell_type": "markdown",
      "metadata": {
        "id": "dWqua-bDWatW"
      },
      "source": [
        "## Final Words\n",
        "\n",
        "Congrats! You reached the end of this introductory tutorial to PyTorch most fundamental data structure. Managing dimensions, casting dtypes, in-place operations and more are the EVERYDAY to-dos of a deep learner. So get ready to master these before delving into the coolest projects ever in which you'll build deep nets. Being confident with tensor operations is very important to properly design neural networks and avoid bugs!"
      ]
    },
    {
      "cell_type": "markdown",
      "metadata": {
        "id": "BhDWyIL97LZ9"
      },
      "source": [
        "### References\n",
        "\n",
        "[1] https://medium.com/datadriveninvestor/from-scalar-to-tensor-fundamental-mathematics-for-machine-learning-with-intuitive-examples-part-163727dfea8d\n",
        "\n",
        "[2] https://pytorch.org/tutorials/beginner/former_torchies/tensor_tutorial.html\n",
        "\n",
        "[3] https://pytorch.org/docs/stable/tensors.html\n"
      ]
    }
  ]
}
