{
 "cells": [
  {
   "cell_type": "markdown",
   "metadata": {},
   "source": [
    "# Homework 1:\n",
    "This assignment is due at 11:59 PM the day before class.\n",
    "\n",
    "## 1.1 GitHub Exercise\n",
    "\n",
    "This is a simple exercise designed to give you practice using GitHub. Additionally the following questions are meant to stimulate you to think about how innovation arises and propagates. Please choose one person (out of the two) that you think made a larger difference in technology and state your reasons why. Type your answers in \"markdown\" (cell type from menu above) **Cell -> Cell Type -> Markdown**\n",
    "\n",
    "Bill Gates or Gary Kidall? "
   ]
  },
  {
   "cell_type": "markdown",
   "metadata": {},
   "source": [
    "I believe that Bill Gates made the greater impact. From my research into how innovation comes about, I've come to believe innovation happens right beyond the edge of the latest cutting edge. All you do is this: once you get to the line in the sand, lean over, ever so slightly--without falling over, and you'll see something beautiful on the horizon that will move you to shift the direction of everyone walking after your footsteps. There are waves that are bigger than us moving behind that invisible curtain: waves that if you tap in early, you will catch onto something big and allow the momentum to take you beyond what you can see. It'll take you somewhere you can only have faith in. Gary Kidall tapped into one wave, optimizing the offering from a technical standpoint, but I believe Bill Gates went beyond that. Bill Gates tapped into TWO waves: he optimized the offering from a technical standpoint, but also shifted the direction of the culture by seeing a future where there were personal computers in every home, connecting us beyond anything we'd ever experienced prior. I believe Bill Gates saw even further than Gary as for how computer science related to humanity at large. This tapped him into a bigger wave and allowed him greater influence on not just how we function with this tech today, but how that tech indirectly influences every human connection we have."
   ]
  },
  {
   "cell_type": "markdown",
   "metadata": {},
   "source": [
    "Thomas Edison or Nicola Tesla?"
   ]
  },
  {
   "cell_type": "markdown",
   "metadata": {},
   "source": [
    "Both Thomas Edison & Tesla were absolute geniuses, but one of the main differences between them was the ability of Edison to link his inventions with clear, practical business usage. He executed upon his plan successfully, convert his ideas into crisp cash. Tesla was more fascinated with the art of inventing. I believe Edison had a greater effect becasue he was able to retain authority and power in the tech scene by leveraging the business side to fuel the technical side of his craft. Personally, I've been deeply fascinated with Tesla. I believe he was a greater genius, and that he has affected us in ways we don't fully understand just yet. He wrote the first idea for x-rays, remote controls, radio, & the electric motor. The later development of these instruments might have only happened because Tesla cracked open the wall for us to peer through. But, Tesla didn't play the rules of the game right. If he had a business savvy partner, I think he'd be the one with the greater impact, but that was not the case."
   ]
  },
  {
   "cell_type": "markdown",
   "metadata": {},
   "source": [
    "Rosalind Franklin or Watson and Crick?"
   ]
  },
  {
   "cell_type": "markdown",
   "metadata": {},
   "source": [
    "I think that they both had equal effect on technology with their discoveries. From what I've read so far, it seems like Franklin, Watson, & Crick relied upon each other in order to come to their concept of the DNA double helix. Rosalind seemed to be on the track to where she could figure it all out by herself with her assistant, Gosling. Watson and Crick could have also figured it out by themselves, as long as someone else provided them with the x-ray crystillography that Franklin provided them (other people could have provided this). Credit was not given to Franklin where it was due, but I think all parties involved had a good stake in the game for humanity to come to this revelation."
   ]
  },
  {
   "cell_type": "markdown",
   "metadata": {},
   "source": [
    "Steve(Jobs or Wozniak)?"
   ]
  },
  {
   "cell_type": "markdown",
   "metadata": {},
   "source": [
    "Steve Jobs. Steve Jobs was the only reason this technology gained the traction that it did with the public. Wozniak was the technical mind that made everything work, but Jobs was the mind that saw the true application of the tech in people's lives. Without Wozniak, Jobs could have potentially succeded with another technically experienced person. But, without Jobs Wozniak would have gotten nowhere. The entire Apple identity and ethos was constructed by Jobs. In fact, when he left the company, it started to all fall apart, so they had to bring him back. Jobs was that conneciton betweenn the product's technical attributes and their application in business and with society. That was his differentiating feature, and where his true genius showed itself. He was a marketing wizard as WELL as understanding the technology. This extended the range of his impact and truly made Apple what it is today."
   ]
  },
  {
   "cell_type": "markdown",
   "metadata": {},
   "source": [
    "How might modern data science be disruptive to Global Affairs? "
   ]
  },
  {
   "cell_type": "markdown",
   "metadata": {},
   "source": [
    "Modern Data Science is likely to have a humongous impact on Global Affairs with the advent of Artificial Intelligence, Machine Learning, and deeper predicitve analytics. You can now better analyze historical data on conflicts, political instability, and socioeconomic factors and identify early warning signs and trends. Becasue of this, policymakers and international organizations can take proactive measures to prevent conflicts and promote stability. We are stepping into another realm as our computers level up in their predictive ability. This will greatly augment the roles of governemnt officals. Eventually, it might reach a point where the data & the synthesis of that data clear aligns internationally. In that circumstance, you'd need less debate, pushing, and pulling across different countries to get things done. That might disrupt the current way of doing things."
   ]
  },
  {
   "cell_type": "markdown",
   "metadata": {},
   "source": [
    "##  1.2 Using Git and GitHub\n",
    "\n",
    "### Note: For full credit, please detail each step and provide an example for answers that require multiple steps \n",
    "\n",
    "__What is the difference between Git and GitHub?__\n",
    "\n",
    "\n",
    "\n",
    "\n",
    "\n",
    "\n",
    "\n"
   ]
  },
  {
   "cell_type": "markdown",
   "metadata": {},
   "source": [
    "Git is like a tool that helps people work together on computer code. It's like having a notebook where we write down all the changes we make to our code.\n",
    "\n",
    "GitHub, on the other hand, is like a website where we can put our notebook (our code) so that other people can see it and work on it with us. It's like a place where me and my classmates can all work on a school project together online."
   ]
  },
  {
   "cell_type": "markdown",
   "metadata": {},
   "source": [
    "__How do I clone a repository from GitHub?__"
   ]
  },
  {
   "cell_type": "markdown",
   "metadata": {},
   "source": [
    "There are multiple ways. Here's the easiest way: \n",
    "1. Open GitHub desktop  \n",
    "2. Press \"clone repository from the internet\"\n",
    "3. Select the repository you'd like to clone from the list (Example: Jacksonpython/Fall-2023)\n",
    "4. Click \"Choose\" & select the file location you'd like to clone the repository to (Example: your desktop)  \n",
    "5. Click \"Clone\""
   ]
  },
  {
   "cell_type": "markdown",
   "metadata": {},
   "source": [
    "__What are the three steps for sending work from my local machine to GitHub?__"
   ]
  },
  {
   "cell_type": "markdown",
   "metadata": {},
   "source": [
    "1. In GitHub Desktop, type in the \"Summary\" section to describe what you're doing\n",
    "2. Select \"Commit to Main\"\n",
    "3. Select \"Push Origin\""
   ]
  },
  {
   "cell_type": "markdown",
   "metadata": {},
   "source": [
    "__How do I pull assignments from the main branch once they're posted?__"
   ]
  },
  {
   "cell_type": "markdown",
   "metadata": {},
   "source": [
    "1. Go to the Jacksonpython repository  \n",
    "2. Find the homework you're meant to have (example: hw_week_1)\n",
    "3. Download it to your own repository"
   ]
  },
  {
   "cell_type": "markdown",
   "metadata": {},
   "source": [
    "__If I am stuck on a homework problem, the first thing I should do is ... (pick the correct answer)__\n",
    "1. Drop the class and blame the teacher\n",
    "2. Email Abby or Casey\n",
    "3. Consult stackoverflow, ChatGPT, and try different solutions"
   ]
  },
  {
   "cell_type": "markdown",
   "metadata": {},
   "source": [
    "3. Consult stackoverflow, ChatGPT, and try different solutions"
   ]
  },
  {
   "cell_type": "markdown",
   "metadata": {},
   "source": [
    "__What is the difference between a program and an algorithm?__"
   ]
  },
  {
   "cell_type": "markdown",
   "metadata": {},
   "source": [
    "Think of an algorithm as a recipe for making a sandwich. It tells you the steps like \"spread peanut butter on bread,\" but it doesn't say what type of bread or peanut butter to use. A program, on the other hand, is like following that recipe using a specific brand of bread and peanut butter. It's the actual sandwich you make by following the recipe with all the details. So, the algorithm is the plan, and the program is what you get when you follow the plan with specific ingredients."
   ]
  },
  {
   "cell_type": "markdown",
   "metadata": {},
   "source": [
    "__Give two examples of higher level programming languages?__"
   ]
  },
  {
   "cell_type": "markdown",
   "metadata": {},
   "source": [
    "Python & Jave are 2 excellent examples."
   ]
  },
  {
   "cell_type": "markdown",
   "metadata": {},
   "source": [
    "__Why is Python so popular?__"
   ]
  },
  {
   "cell_type": "markdown",
   "metadata": {},
   "source": [
    "Python is popular because it's easy to learn and read, like plain English, making it great for beginners. It's also versatile, used in everything from making websites and apps to doing science and data analysis, so it's helpful in lots of jobs and hobbies."
   ]
  },
  {
   "cell_type": "markdown",
   "metadata": {},
   "source": [
    "__Ask ChatGPT to give you an example of a simple python program and run it here.__"
   ]
  },
  {
   "cell_type": "code",
   "execution_count": 1,
   "metadata": {},
   "outputs": [
    {
     "name": "stdout",
     "output_type": "stream",
     "text": [
      "Hello, World!\n"
     ]
    }
   ],
   "source": [
    "print(\"Hello, World!\")"
   ]
  }
 ],
 "metadata": {
  "kernelspec": {
   "display_name": "Python 3 (ipykernel)",
   "language": "python",
   "name": "python3"
  },
  "language_info": {
   "codemirror_mode": {
    "name": "ipython",
    "version": 3
   },
   "file_extension": ".py",
   "mimetype": "text/x-python",
   "name": "python",
   "nbconvert_exporter": "python",
   "pygments_lexer": "ipython3",
   "version": "3.11.4"
  }
 },
 "nbformat": 4,
 "nbformat_minor": 4
}
