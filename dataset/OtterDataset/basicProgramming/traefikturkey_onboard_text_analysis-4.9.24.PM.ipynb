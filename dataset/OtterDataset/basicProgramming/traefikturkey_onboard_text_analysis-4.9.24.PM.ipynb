{
 "cells": [
  {
   "cell_type": "code",
   "execution_count": 1,
   "metadata": {},
   "outputs": [
    {
     "name": "stdout",
     "output_type": "stream",
     "text": [
      "<class 'pandas.core.frame.DataFrame'>\n",
      "RangeIndex: 2810 entries, 0 to 2809\n",
      "Data columns (total 5 columns):\n",
      " #   Column       Non-Null Count  Dtype \n",
      "---  ------       --------------  ----- \n",
      " 0   title        2810 non-null   object\n",
      " 1   tags         2810 non-null   object\n",
      " 2   text         2810 non-null   object\n",
      " 3   topics       2810 non-null   object\n",
      " 4   topic_words  2810 non-null   object\n",
      "dtypes: object(5)\n",
      "memory usage: 109.9+ KB\n"
     ]
    }
   ],
   "source": [
    "import re\n",
    "import pandas as pd\n",
    "from sklearn.feature_extraction.text import TfidfVectorizer\n",
    "from sklearn.decomposition import NMF\n",
    "from sklearn.model_selection import train_test_split\n",
    "\n",
    "def remove_duplicates(text):\n",
    "    # Remove special characters and split the text into words\n",
    "    words = re.findall(r'\\b\\w+\\b', text)\n",
    "    unique_words = []\n",
    "    for word in words:\n",
    "        if word not in unique_words:\n",
    "            unique_words.append(word.lower())\n",
    "    return ' '.join(unique_words)\n",
    "\n",
    "data = pd.read_json('./data/youtube_history.json')\n",
    "data = data.drop(columns=['url', 'visit_count', 'last_visit_time', 'publishedAt', 'description', 'channelTitle', 'channelId'])\n",
    "data['tags'] = data['tags'].fillna('').apply(lambda x: list(set(x))).apply(lambda x: ' '.join(map(str, x))).apply(lambda x: x.strip())\n",
    "\n",
    "data['tags'] = data['tags'].apply(remove_duplicates)\n",
    "data['title'] = data['title'].apply(remove_duplicates)\n",
    "\n",
    "data['text'] = data['title'] + ' ' + data['tags']\n",
    "\n",
    "if 'topics' not in data.columns:\n",
    "\t# Add a new column initialized as an empty list\n",
    "\tdata['topics'] = [[]] * len(data)\n",
    "\t\n",
    "if 'topic_words'\tnot in data.columns:\n",
    "\t# Add a new column initialized as an empty list\n",
    "\tdata['topic_words'] = [[]] * len(data)\n",
    "\n",
    "data.info()"
   ]
  },
  {
   "cell_type": "code",
   "execution_count": 2,
   "metadata": {},
   "outputs": [],
   "source": [
    "def create_topics(data, topic_count):\n",
    "  vectorizer = TfidfVectorizer(stop_words='english')\n",
    "  X = vectorizer.fit_transform(data['text'])\n",
    " \n",
    "  nmf = NMF(n_components=topic_count, random_state=42)\n",
    "  W = nmf.fit_transform(X)\n",
    "  H = nmf.components_\n",
    "\n",
    "  feature_names = vectorizer.get_feature_names_out()\n",
    "  top_words_list = []\n",
    "  for topic_idx, topic in enumerate(H):\n",
    "    topic_words = \" \".join([feature_names[i] for i in topic.argsort()[:-21:-1]])\n",
    "    top_words_list.append(topic_words)\n",
    "    \n",
    "  topic_assignments = W.argmax(axis=1)\n",
    "  top_words = [top_words_list[i] for i in topic_assignments]\n",
    "  topics = [topic_assignments[i] for i in range(len(topic_assignments))]\n",
    "  for index, row in data.iterrows():\n",
    "    row['topics'].append(topics[index])\n",
    "    row['topic_words'].append(top_words[index])\n",
    "  "
   ]
  },
  {
   "cell_type": "code",
   "execution_count": 3,
   "metadata": {},
   "outputs": [],
   "source": [
    "create_topics(data, 5)"
   ]
  },
  {
   "cell_type": "code",
   "execution_count": 4,
   "metadata": {},
   "outputs": [
    {
     "data": {
      "text/plain": [
       "0       [4, 4, 4, 4, 4, 4, 4, 0, 4, 4, 4, 4, 2, 4, 3, ...\n",
       "1       [4, 4, 4, 4, 4, 4, 4, 0, 4, 4, 4, 4, 2, 4, 3, ...\n",
       "2       [4, 4, 4, 4, 4, 4, 4, 0, 4, 4, 4, 4, 2, 4, 3, ...\n",
       "3       [4, 4, 4, 4, 4, 4, 4, 0, 4, 4, 4, 4, 2, 4, 3, ...\n",
       "4       [4, 4, 4, 4, 4, 4, 4, 0, 4, 4, 4, 4, 2, 4, 3, ...\n",
       "                              ...                        \n",
       "2805    [4, 4, 4, 4, 4, 4, 4, 0, 4, 4, 4, 4, 2, 4, 3, ...\n",
       "2806    [4, 4, 4, 4, 4, 4, 4, 0, 4, 4, 4, 4, 2, 4, 3, ...\n",
       "2807    [4, 4, 4, 4, 4, 4, 4, 0, 4, 4, 4, 4, 2, 4, 3, ...\n",
       "2808    [4, 4, 4, 4, 4, 4, 4, 0, 4, 4, 4, 4, 2, 4, 3, ...\n",
       "2809    [4, 4, 4, 4, 4, 4, 4, 0, 4, 4, 4, 4, 2, 4, 3, ...\n",
       "Name: topics, Length: 2810, dtype: object"
      ]
     },
     "execution_count": 4,
     "metadata": {},
     "output_type": "execute_result"
    }
   ],
   "source": [
    "data['topics']"
   ]
  },
  {
   "cell_type": "code",
   "execution_count": 3,
   "metadata": {},
   "outputs": [
    {
     "name": "stdout",
     "output_type": "stream",
     "text": [
      "Topic[0] 311 matches: fantasy map maps draw drawing cartography mountains tutorial making world building step mpa finish campaign beginner easy start procreate tabletop\n",
      "Topic[1] 418 matches: comic book conservation age books comics cleaning cgc restoration pressing golden results wet clean label press paper purple removal tutorial\n",
      "Topic[2] 222 matches: hornet dogfight eagle dcs combat air viper 22 raptor navy tomcat force military army f22 14 war f35 wwii thunder\n",
      "Topic[3] 847 matches: dnd dragons dungeons dm rpg ttrpg dungeon tabletop game master screen role gaming 5e dice tips roleplaying table pathfinder diy\n",
      "Topic[4] 1012 matches: web programming programmer software development engineer engineering developer humor design ai reacts prime open source javascript tutorial theo python linux\n",
      "\n",
      "<class 'pandas.core.frame.DataFrame'>\n",
      "RangeIndex: 2810 entries, 0 to 2809\n",
      "Data columns (total 4 columns):\n",
      " #   Column          Non-Null Count  Dtype \n",
      "---  ------          --------------  ----- \n",
      " 0   title           2810 non-null   object\n",
      " 1   tags            2810 non-null   object\n",
      " 2   text            2810 non-null   object\n",
      " 3   first_topic_id  2810 non-null   int64 \n",
      "dtypes: int64(1), object(3)\n",
      "memory usage: 87.9+ KB\n"
     ]
    }
   ],
   "source": [
    "# Create a TF-IDF matrix\n",
    "vectorizer = TfidfVectorizer(stop_words='english')\n",
    "X = vectorizer.fit_transform(data['text'])\n",
    "\n",
    "topic_count = 5\n",
    "\n",
    "# Use Non-negative Matrix Factorization (NMF) to extract topics\n",
    "nmf = NMF(n_components=topic_count, random_state=42)\n",
    "W = nmf.fit_transform(X)\n",
    "H = nmf.components_\n",
    "\n",
    "# Get the topic assignments for each row\n",
    "topic_assignments = W.argmax(axis=1)\n",
    "\n",
    "# Count the number of rows matched to each topic\n",
    "topic_counts = [sum(topic_assignments == i) for i in range(topic_count)]\n",
    "\n",
    "data['first_topic_id'] = topic_assignments\n",
    "\n",
    "# Print the top words for each topic\n",
    "feature_names = vectorizer.get_feature_names_out()\n",
    "for topic_idx, topic in enumerate(H):\n",
    "    topic_words = \" \".join([feature_names[i] for i in topic.argsort()[:-21:-1]])\n",
    "    print(f\"Topic[{topic_idx}] {topic_counts[topic_idx]} matches: {topic_words}\")\n",
    "\n",
    "print()\n",
    "data.info()"
   ]
  },
  {
   "cell_type": "code",
   "execution_count": 4,
   "metadata": {},
   "outputs": [
    {
     "name": "stdout",
     "output_type": "stream",
     "text": [
      "<class 'pandas.core.frame.DataFrame'>\n",
      "Index: 1012 entries, 0 to 2809\n",
      "Data columns (total 5 columns):\n",
      " #   Column          Non-Null Count  Dtype \n",
      "---  ------          --------------  ----- \n",
      " 0   title           1012 non-null   object\n",
      " 1   tags            1012 non-null   object\n",
      " 2   text            1012 non-null   object\n",
      " 3   first_topic_id  1012 non-null   int64 \n",
      " 4   top_words       1012 non-null   object\n",
      "dtypes: int64(1), object(4)\n",
      "memory usage: 47.4+ KB\n"
     ]
    }
   ],
   "source": [
    "# Create a list to store the top words for each topic\n",
    "top_words_list = []\n",
    "\n",
    "# Print the items for each topic\n",
    "for topic_idx, topic in enumerate(H):\n",
    "    topic_words = [feature_names[i] for i in topic.argsort()[:-21:-1]]\n",
    "    top_words_list.append(\" \".join(topic_words))\n",
    "\n",
    "\n",
    "data['top_words'] = [top_words_list[i] for i in topic_assignments]\n",
    "\n",
    "#data.iloc[2805]['top_words']\n",
    "#data.style.set_properties(**{'text-align': 'left'}).set_table_styles([ dict(selector='th', props=[('text-align', 'left')] ) ])\n",
    "\n",
    "topic_four = data[data['first_topic_id'] == 4]\n",
    "topic_four.info()"
   ]
  }
 ],
 "metadata": {
  "kernelspec": {
   "display_name": "Python 3",
   "language": "python",
   "name": "python3"
  },
  "language_info": {
   "codemirror_mode": {
    "name": "ipython",
    "version": 3
   },
   "file_extension": ".py",
   "mimetype": "text/x-python",
   "name": "python",
   "nbconvert_exporter": "python",
   "pygments_lexer": "ipython3",
   "version": "3.12.2"
  }
 },
 "nbformat": 4,
 "nbformat_minor": 2
}
