{
 "cells": [
  {
   "cell_type": "markdown",
   "metadata": {},
   "source": [
    "# Django 1"
   ]
  },
  {
   "cell_type": "markdown",
   "metadata": {},
   "source": [
    "**<font color='red'> A word of caution: </font>** This Python notebook is not intended for you to work with it online (running code as you read through the Notebook). The notebook provides code snippets that are not intended to work in the live notebook. You should rather copy and paste the  snippets into specific Python files relevant to the Django framework using your favorite code editor.  For running specific commands (such as launching a local server or running a migration) use the command line/prompt/shell of your system. \n",
    "\n",
    "You should also try to work with Python 3.4 or Python 3.5 instead of Python 2.7. Recall that the classroom computers contain the Python distribution named pythonxy which you should **NOT** use for this and the next tutorials. Instead work with the Python 3.X version which is also available in the classroom computers."
   ]
  },
  {
   "cell_type": "markdown",
   "metadata": {},
   "source": [
    "## Installing Django"
   ]
  },
  {
   "cell_type": "markdown",
   "metadata": {},
   "source": [
    "If you're working on your own computer instead of the classroom computers, you will need to install Django to follow this tutorial.\n",
    "\n",
    "You can test if jungle is installed in your computer by entering a Python shell and typing:"
   ]
  },
  {
   "cell_type": "code",
   "execution_count": null,
   "metadata": {
    "collapsed": true
   },
   "outputs": [],
   "source": [
    "import django"
   ]
  },
  {
   "cell_type": "markdown",
   "metadata": {},
   "source": [
    "If you get an ImportError with error message \"no module named django\" You don't have Django installed and therefore to follow this tutorial you need to install it. You can install Django using pip. In the console, run the following:"
   ]
  },
  {
   "cell_type": "raw",
   "metadata": {},
   "source": [
    "> pip install django"
   ]
  },
  {
   "cell_type": "markdown",
   "metadata": {},
   "source": [
    "## Creating a project in Django"
   ]
  },
  {
   "cell_type": "markdown",
   "metadata": {},
   "source": [
    "In this and subsequent practicals we’re going to create a minimalistic blog. We’ll start by creating a new Django project. This is accomplished by running some scripts contained in the Django framework that will create the skeleton of a Django project for us. This skeleton is just a bunch of directories and files that will provide pre-built functionality to our project. "
   ]
  },
  {
   "cell_type": "markdown",
   "metadata": {},
   "source": [
    "Using the command prompt , move to a location in your computer (or the H: drive if you are working on a classroom computer) where you want to create your project folder."
   ]
  },
  {
   "cell_type": "markdown",
   "metadata": {},
   "source": [
    "A Django project named mysite is created using the following command in your operating system's prompt:"
   ]
  },
  {
   "cell_type": "raw",
   "metadata": {},
   "source": [
    "> django-admin startproject mysite"
   ]
  },
  {
   "cell_type": "markdown",
   "metadata": {},
   "source": [
    "The following file structure should be present in the directory where you executed the previous command:"
   ]
  },
  {
   "cell_type": "raw",
   "metadata": {},
   "source": [
    "mysite\n",
    "    ├───manage.py\n",
    "    └───mysite\n",
    "            ├───settings.py\n",
    "            ├───urls.py\n",
    "            ├───wsgi.py\n",
    "            └───__init__.py"
   ]
  },
  {
   "cell_type": "markdown",
   "metadata": {
    "collapsed": false
   },
   "source": [
    "The script *manage.py* will be used for the management of the project. The *settings.py* file contains the configuration parameters of the project written in the Python programming language. The *urls.py* file contains a mapping of URLs to specific Django actions. The *wsgi.py* is necessary for the server to work properly. The *\\_\\_init\\_\\_.py* file simply indicates to Python that this directory is a Python module.\n",
    "\n",
    "Let’s configure the file *mysite/settings.py*. Open the file using your favorite code editor.  Change the default TIME_ZONE variable to specify the New Zealand time zone:"
   ]
  },
  {
   "cell_type": "code",
   "execution_count": null,
   "metadata": {
    "collapsed": true
   },
   "outputs": [],
   "source": [
    "TIME_ZONE = 'Pacific/Auckland'"
   ]
  },
  {
   "cell_type": "markdown",
   "metadata": {},
   "source": [
    "Specify now the location of static files in our project. Go to the end of the file and underneath the variable STATIC_URL add a new one. This will be necessary in future Practicals, when we add CSS and HTML to our project."
   ]
  },
  {
   "cell_type": "code",
   "execution_count": null,
   "metadata": {
    "collapsed": true
   },
   "outputs": [],
   "source": [
    "STATIC_URL = '/static/'\n",
    "STATIC_ROOT = os.path.join(BASE_DIR, 'static')"
   ]
  },
  {
   "cell_type": "markdown",
   "metadata": {},
   "source": [
    "Next, we will accept the default suggested database for our project. We will maintain the default sqlite3 database which is already set up in *mysite/settings.py*."
   ]
  },
  {
   "cell_type": "code",
   "execution_count": null,
   "metadata": {
    "collapsed": true
   },
   "outputs": [],
   "source": [
    "DATABASES = {\n",
    "    'default': {\n",
    "        'ENGINE': 'django.db.backends.sqlite3',\n",
    "        'NAME': os.path.join(BASE_DIR, 'db.sqlite3'),\n",
    "    }\n",
    "}"
   ]
  },
  {
   "cell_type": "markdown",
   "metadata": {
    "collapsed": false
   },
   "source": [
    "Next we will start the Web server to check if our website project is working. Again, in your operating systems prompt type:"
   ]
  },
  {
   "cell_type": "raw",
   "metadata": {
    "collapsed": false
   },
   "source": [
    "> python manage.py runserver"
   ]
  },
  {
   "cell_type": "markdown",
   "metadata": {
    "collapsed": false
   },
   "source": [
    "You’ve started the Django development server, a lightweight Web server written purely in Python. This minimalistic server is included with Django so you can develop things rapidly, without having to deal with configuring a production server – such as Apache – until you’re ready for production.\n",
    "\n",
    "if the previous command fails with a UnicodeDecodeError, try the following command instead:"
   ]
  },
  {
   "cell_type": "raw",
   "metadata": {},
   "source": [
    ">python manage.py runserver 0:8000"
   ]
  },
  {
   "cell_type": "markdown",
   "metadata": {
    "collapsed": false
   },
   "source": [
    "Now that the server’s running, visit http://127.0.0.1:8000/ (or http://localhost:8000/) with your Web browser. You should see a “Welcome to Django” page. ![](./images/localServerWorked.png)\n",
    "\n",
    "Basically the local Web server answered to the incoming request when you typed the URL and served the displayed webpage.  To stop the Web server from running type Ctrl+c in the console.\n",
    "\n",
    "So your project is already up and running and is able to serve a default webpage for users that navigate to the root folder of your application. Let's customize our application further."
   ]
  },
  {
   "cell_type": "markdown",
   "metadata": {},
   "source": [
    "---"
   ]
  },
  {
   "cell_type": "markdown",
   "metadata": {},
   "source": [
    "# Django Models"
   ]
  },
  {
   "cell_type": "markdown",
   "metadata": {},
   "source": [
    "Our project will need to store the posts that writers update to the blog. It will be useful for us, as developers, to work with objects, i.e. data structures with properties and methods. But first we need to think about what sort of properties a blog post should have. After giving it some thought, you would probably agree that a sensible choice of properties for a blog post object could be the following list:\n",
    "\n",
    "- **Post**\n",
    "    * title\n",
    "    * text\n",
    "    * author\n",
    "    * created_date\n",
    "    * published_date\n",
    "\n",
    "In terms of methods, the blog post object should probably contain a publish method to publish the post in the blog. Now we have a rough idea of the data structure we want to use, next we will model this data structure in Django.\n",
    "\n",
    "A model in Django is a type of object that is saved in the database use by the Django project. As BIT third-year students you are aware that a database is a collection of data. In our particular project, a place to store information about users, blog posts, etc. It could be useful for you to think of a model in the database as a spreadsheet with columns (fields) and row (the specific instances of the data)."
   ]
  },
  {
   "cell_type": "markdown",
   "metadata": {},
   "source": [
    "Next we will create an application inside our project. Django philosophy emphasizes a tidy organization of the components of a project. You can think of a Django application as a submodule (a component) of a larger project that can be reusable in other projects. Therefore, a Django project is composed of one or several applications. To create an Django application, **inside** your project folder, you need to run the following command in the console:"
   ]
  },
  {
   "cell_type": "raw",
   "metadata": {},
   "source": [
    "> python manage.py startapp blog"
   ]
  },
  {
   "cell_type": "markdown",
   "metadata": {},
   "source": [
    "the following file structure should now exist in your project folder:"
   ]
  },
  {
   "cell_type": "raw",
   "metadata": {},
   "source": [
    "mysite\n",
    "    ├───manage.py\n",
    "    ├───mysite\n",
    "    │      ├───settings.py\n",
    "    │      ├───urls.py\n",
    "    │      ├───wsgi.py\n",
    "    │      └───__init__.py\n",
    "    └── blog\n",
    "        ├── migrations\n",
    "        │       └──__init__.py\n",
    "        ├── __init__.py\n",
    "        ├── admin.py\n",
    "        ├── models.py\n",
    "        ├── tests.py\n",
    "        └── views.py\n"
   ]
  },
  {
   "cell_type": "markdown",
   "metadata": {},
   "source": [
    "Now we need to inform Django about the new application so that the Django framework can use it. Open again the *mysite/settings.py* file. Locate the variable INSTALLED_APPS and add a line containing the name of the application we have created 'blog'. The final version should look like the following:"
   ]
  },
  {
   "cell_type": "code",
   "execution_count": null,
   "metadata": {
    "collapsed": true
   },
   "outputs": [],
   "source": [
    "INSTALLED_APPS = (\n",
    "    'django.contrib.admin',\n",
    "    'django.contrib.auth',\n",
    "    'django.contrib.contenttypes',\n",
    "    'django.contrib.sessions',\n",
    "    'django.contrib.messages',\n",
    "    'django.contrib.staticfiles',\n",
    "    'blog',\n",
    ")"
   ]
  },
  {
   "cell_type": "markdown",
   "metadata": {},
   "source": [
    "Let's define now the models of our blog application. Open the file *blog/models.py* file, remove everything from it and write the following code:"
   ]
  },
  {
   "cell_type": "code",
   "execution_count": null,
   "metadata": {
    "collapsed": true
   },
   "outputs": [],
   "source": [
    "from django.db import models\n",
    "from django.utils import timezone\n",
    "\n",
    "class Post(models.Model):\n",
    "    author = models.ForeignKey('auth.User')\n",
    "    title = models.CharField(max_length=200)\n",
    "    text = models.TextField()\n",
    "    created_date = models.DateTimeField(\n",
    "            default=timezone.now)\n",
    "    published_date = models.DateTimeField(\n",
    "            blank=True, null=True)\n",
    "\n",
    "    def publish(self):\n",
    "        self.published_date = timezone.now()\n",
    "        self.save()\n",
    "\n",
    "    def __str__(self):\n",
    "        return self.title"
   ]
  },
  {
   "cell_type": "markdown",
   "metadata": {},
   "source": [
    "With the previous code we have created the data structure of a post object (a model in Django terminology) using a Python class that inherits from Django model.Model class. The class Post(models.Model) defines our model. Post therefore will be the name of our model. We can give it a different name (but we must avoid special characters and whitespaces). Remember to always start a class name with an uppercase letter. The fact that our Post class inherits from models.Model means that the Post is a Django Model, so Django knows that it should be saved in the database.\n",
    "\n",
    "Inside the class Post, we have defined the properties of the model (the columns in our database table): title, text, created_date, published_date and author. In order to inform the Django framework about how to create the fields in the database tables, we need to define the type of each field: is it text? A number? A date? A key to another object?\n",
    "\n",
    "- models.CharField - this is how you define a text field. We limit the number of characters permissible using the attribute max_length.\n",
    "- models.TextField - this is for long text without a limit. Sounds ideal for a blog post content\n",
    "- models.DateTimeField - this is a date and time.\n",
    "- models.ForeignKey - this is a link to another model. The User model so we can link users with posts.\n",
    "\n",
    "Notice also the methods \n",
    "- def publish(self)\n",
    "- def \\_\\_str\\_\\_(self)\n",
    "\n",
    "The \\_\\_str\\_\\_() creates a custom string representation for the class, so we can simply pass an instance of the class to the print function and \\_\\_str\\_\\_ is executed.\n",
    "\n",
    "publish() defines the functionality of the class from when a post passes from being a draft to being published."
   ]
  },
  {
   "cell_type": "markdown",
   "metadata": {},
   "source": [
    "Now we will add the previously defined model to the database. But first we need to inform Django that we have made some changes in our model. In fact, we have created our model from scratch. \n",
    "\n",
    "While the Django models define the expected structure of our database, **migrations** are responsible for creating the necessary scripts to change this structure through time as we update our code and change our models. When a model is added to a models file, the corresponding database table does not exist yet. For this purpose, we need an initial migration whose role is to create that database table. More broadly, there are several cases in which a migration is needed. When a new model is created, an initial migration creates the database table.\n",
    "\n",
    "Migrations are also needed when a field is added, or removed from an existing model, or when the attributes of a field have changed. All of these changes to a models file need a corresponding change to the database, and for this purpose, a migration needs to be created and run. The commands for working with migrations are: makemigrations and migrate. The makemigrations command generates migrations files. It reads the current model's file, and inspects the current state of the database to determine what changes need to be made to make the database structure match the model's file.\n",
    "\n",
    "Hence, in the console window type:"
   ]
  },
  {
   "cell_type": "raw",
   "metadata": {
    "collapsed": true
   },
   "source": [
    "> python manage.py makemigrations blog"
   ]
  },
  {
   "cell_type": "markdown",
   "metadata": {},
   "source": [
    "By running makemigrations, you’re telling Django that you’ve made some changes to your models (in this case, you’ve made new ones) and that you’d like the changes to be stored as a migration.\n",
    "\n",
    "Migrations are how Django stores changes to your models (and thus your database schema) - they’re just files on disk. You can read the migration for your new model if you like; it’s the file *blog/migrations/0001_initial.py*. Don’t worry, you’re not expected to read them every time Django makes one, but they’re designed to be human-editable in case you want to manually tweak how Django changes things.\n",
    "\n",
    "The migrate command runs all of the generated migrations that have not yet run. Using the --list option, we can see all of the migrations that exist for different apps, and which ones have been run. "
   ]
  },
  {
   "cell_type": "raw",
   "metadata": {},
   "source": [
    "> python manage.py migrate blog --list"
   ]
  },
  {
   "cell_type": "markdown",
   "metadata": {},
   "source": [
    "When a migrations file has been created, but not yet run, we call this an unapplied migration. This is a common source of errors during development, especially when collaborating with other developers. With this in mind, be sure that when working on a team, you coordinate carefully who is changing which model, and to look for new migration files when pulling in code changes.\n",
    "\n",
    "Since Python just created a migration file (*blog/migrations/0001_initial.py*) , now we need to apply those changes to our database by typing in the console:"
   ]
  },
  {
   "cell_type": "raw",
   "metadata": {},
   "source": [
    "> python manage.py migrate blog"
   ]
  },
  {
   "cell_type": "markdown",
   "metadata": {},
   "source": [
    "At this point, we have successfully created a migration for our Post model, and run all migrations for our project. \n",
    "\n",
    "Now that we've run the migrations, let's see what the structure of our database looks like. I'll be using the DB Browser for SQLite tool (http://sqlitebrowser.org/), which is an open source project that's available on most platforms. Install it in your computer and then open the db.sqlite3 file for our project. Here, we can see the various tables that were made for built-in django apps, as well as our blog app.\n",
    "\n",
    "Inside of the blog app, you can find the model we created called Post, so this table is called, blog_post. Looking inside of this table, we can see that there are six fields, the five we created: author, title, text, created_date and published_date and an id field which is created automatically to serve the purpose of a primary key in the DB.\n",
    "\n",
    "![](./images/dbBrowser.png)\n",
    "\n",
    "\n",
    "---"
   ]
  },
  {
   "cell_type": "markdown",
   "metadata": {},
   "source": [
    "# Django admin"
   ]
  },
  {
   "cell_type": "markdown",
   "metadata": {},
   "source": [
    "Generating admin sites for your staff or clients to add, change, and delete content is tedious work. For that reason, Django entirely automates creation of admin interfaces for models. The admin isn’t intended to be used by site visitors. It’s for site managers. Site managers use the admin system to add content so that content can be later displayed on the public site.  Hence, we will add, edit and delete posts using Django admin. To get the started, open the file *blog/admin.py* and replace its content with:"
   ]
  },
  {
   "cell_type": "code",
   "execution_count": null,
   "metadata": {
    "collapsed": true
   },
   "outputs": [],
   "source": [
    "from django.contrib import admin\n",
    "from .models import Post\n",
    "\n",
    "admin.site.register(Post)"
   ]
  },
  {
   "cell_type": "markdown",
   "metadata": {},
   "source": [
    "In the second line, we have imported the Post model defined in the previous steps. To make our model visible in the admin page, we need to register the model with the command admin.site.register(Post).\n",
    "\n",
    "Save the file *blog/admin.py* and restart your local Web server by typing in the console :"
   ]
  },
  {
   "cell_type": "raw",
   "metadata": {},
   "source": [
    "> python manage.py runserver"
   ]
  },
  {
   "cell_type": "markdown",
   "metadata": {},
   "source": [
    "then open your browser and type in the address bar:\n",
    "http://127.0.0.1:8000/admin/\n",
    "You should get a login window similar to the following:\n",
    "![](./images/admin.png)\n",
    "\n",
    "In order to be able to login into the admin panel, we need to create a superuser, a user with control over everything on the site. Open a new console and type the following line:"
   ]
  },
  {
   "cell_type": "raw",
   "metadata": {},
   "source": [
    "> python manage.py createsuperuser"
   ]
  },
  {
   "cell_type": "markdown",
   "metadata": {},
   "source": [
    "enter a user name, email address and password that you want to associate with your username. **Caution!** do not close the console running the Web server, or the next instructions will not work as expected. You need to create your superuser in a different console from the one running the local Web server. Alternatively, you can interrupt the local server, create a superuser and then restart the local server within a single console.\n",
    "\n",
    "Return to your browser and login with the superuser credentials you just created. You should arrive to the Django admin dashboard:\n",
    "\n",
    "![](./images/dashboard.png)\n",
    "\n",
    "Click on posts and add a few exemplary posts. Make sure that at least 2 or 3 posts have the published date set since it will be helpful in future tutorials.\n",
    "\n",
    "Open the DB Browser for SQLite tool (http://sqlitebrowser.org/) again, click on the \"Browse data\" and make sure you correctly added some posts to the database through the admin interface.\n",
    "\n",
    "![](./images/browseData.png)\n",
    "\n",
    "---"
   ]
  },
  {
   "cell_type": "markdown",
   "metadata": {},
   "source": [
    "# Deployment of your Django project"
   ]
  },
  {
   "cell_type": "markdown",
   "metadata": {},
   "source": [
    "So far your website is only available on your local computer. Let’s now deploy it to the Internet so your application can be seen by others. There are a lot of server providers available on the Internet. https://www.pythonanywhere.com/ is one that has a relatively simple deployment process and is free for small applications that don’t have too much traffic. \n",
    "\n",
    "In order to keep track of changes to a particular set of files we will use a git code repository (https://github.com/). If you are working on a classroom computer you will need to use a portable version of git since git is not installed in the image of the classroom computers. In the folder of today's class in the I drive  you will find the folder PortableGit from which you can start up a Windows (*git-cmd.exe*) or UNIX (*git-bash.exe*) prompt from which to run git commands. \n",
    "\n",
    "Let’s start now a git repository for our project. Open up your console or git shell and type in your base directory:"
   ]
  },
  {
   "cell_type": "raw",
   "metadata": {},
   "source": [
    "> git init\n",
    "> git config --global user.name \"Your Name\"\n",
    "> git config --global user.email you@example.com"
   ]
  },
  {
   "cell_type": "markdown",
   "metadata": {},
   "source": [
    "Git will track changes of all the files and folders in this directory, but there are some files that we want to ignore because they could interfere with the config files of a different computer. We can do this by creating a file called *.gitignore* in the base directory. Open up your editor and create a new file with the following contents:"
   ]
  },
  {
   "cell_type": "code",
   "execution_count": null,
   "metadata": {
    "collapsed": true
   },
   "outputs": [],
   "source": [
    "*.pyc\n",
    "__pycache__\n",
    "myvenv\n",
    "db.sqlite3\n",
    "/static\n",
    ".DS_Store"
   ]
  },
  {
   "cell_type": "markdown",
   "metadata": {},
   "source": [
    "By ignoring db.sqlite3, where our database data lives, we basically want to maintain 2 separate databases, one in our local computer and another one in our live production server in  https://www.pythonanywhere.com. Keep this in mind, since you will also need to create some blog posts in the database of your production server. \n",
    "\n",
    "Now let’s commit the changes. Type the following in your console:"
   ]
  },
  {
   "cell_type": "raw",
   "metadata": {},
   "source": [
    "> git add -A .\n",
    "> git commit -m \"My app, first commit\""
   ]
  },
  {
   "cell_type": "markdown",
   "metadata": {},
   "source": [
    "Assuming you already have a GitHub account (otherwise create one), create a new repository in github.com and give it a name like “my-first-blog”. Leave the \"initialise with a README\" tickbox un-checked, leave the .gitignore option as None (we've done that manually) and leave the License as None.\n",
    "![](./images/gitrepo.png)\n",
    "\n",
    "**Caution**: we would be using the name my-first-blog in a lot of instructions later on the course. You can choose any repository name you want but to avoid problems in the future, maybe it’s better if you maintain that name.\n",
    "\n",
    "In the next screen after you click on the “create repository” button, you will be shown the repositories clone URL. Choose the HTTPS version and copy it into the clipboard.\n",
    "\n",
    "![](./images/gitclone.png)\n",
    "\n",
    "Next step we will hook up the git repository on your local computer to the one you have just created in GitHub. Type the following into your console:"
   ]
  },
  {
   "cell_type": "raw",
   "metadata": {},
   "source": [
    "> git remote add origin https://github.com/<your-github-username>/my-first-blog.git\n",
    "> git push -u origin master"
   ]
  },
  {
   "cell_type": "markdown",
   "metadata": {},
   "source": [
    "At this stage you should probably checked that your repository has been correctly pushed into GitHub."
   ]
  },
  {
   "cell_type": "markdown",
   "metadata": {},
   "source": [
    "Next, we will set our blog on https://www.pythonanywhere.com/. The first thing you need to do is to sign up for a free beginner account in https://www.pythonanywhere.com/\n",
    "\n",
    "When you've signed up for PythonAnywhere, you'll be taken to your dashboard or \"Consoles\" page. Choose the option to start a \"Bash\" console -- that's the PythonAnywhere version of a console, just like the one on your computer. You should see something similar to the following screen capture:\n",
    "\n",
    "![](./images/pythonanywhere.png)\n",
    "\n",
    "Now we will pull down our code from GitHub on to PythonAnywhere. Type the following into the PythonAnywhere console which will pull down a copy of your code onto PythonAnywhere:"
   ]
  },
  {
   "cell_type": "raw",
   "metadata": {},
   "source": [
    "> git clone https://github.com/<your-github-username>/my-first-blog.git"
   ]
  },
  {
   "cell_type": "markdown",
   "metadata": {},
   "source": [
    "you can check out that the operation completed successfully by typing:"
   ]
  },
  {
   "cell_type": "raw",
   "metadata": {},
   "source": [
    "> tree my-first-blog"
   ]
  },
  {
   "cell_type": "markdown",
   "metadata": {},
   "source": [
    "We will need to create a customized Python environment in Pythonanywhere. Don't worry too much about understanding the next commands. Simply, in the Bash console type:"
   ]
  },
  {
   "cell_type": "raw",
   "metadata": {},
   "source": [
    "> cd my-first-blog\n",
    "> virtualenv --python=python3.4 myvenv\n",
    "> source myvenv/bin/activate"
   ]
  },
  {
   "cell_type": "markdown",
   "metadata": {},
   "source": [
    "Next we install Django in the created python environment:"
   ]
  },
  {
   "cell_type": "raw",
   "metadata": {},
   "source": [
    "> pip install django"
   ]
  },
  {
   "cell_type": "markdown",
   "metadata": {},
   "source": [
    "We are almost done. But we still need to create a database in the PythonAnywhere environment. The server needs to use its own database, similar to how our local computer was using the SQlite database before. We can initialize the database on the server just like we did for our local computer before:"
   ]
  },
  {
   "cell_type": "raw",
   "metadata": {},
   "source": [
    "> python manage.py migrate\n",
    "> python manage.py createsuperuser"
   ]
  },
  {
   "cell_type": "markdown",
   "metadata": {},
   "source": [
    "Now our code is on PythonAnywhere, our virtualenv is ready, and the database is initialised. We're ready to publish it as a web app! Click back to the PythonAnywhere dashboard by clicking on its logo on the top left corner of your browser, and go click on the Web tab. Finally, hit Add a new web app. After confirming your domain name, choose manual configuration (NB not the \"Django\" option) in the dialog. Next choose Python 3.4, and click Next to finish the wizard. You'll be taken to the PythonAnywhere config screen for your webapp, which is where you'll need to go whenever you want to make changes to the app on the server. \n",
    "\n",
    "In the \"Virtualenv\" section, click the red text that says \"Enter the path to a virtualenv\", and enter: /home/<your-username>/my-first-blog/myvenv/. Click the blue box with the check mark to save the path before moving on.\n",
    "![](./images/venv.png)\n",
    "\n",
    "Django works using the \"WSGI protocol\", a standard for serving websites using Python, which PythonAnywhere supports. The way we configure PythonAnywhere to recognise our Django blog is by editing a WSGI configuration file. Click on the \"WSGI configuration file\" link (in the \"Code\" section near the top of the page -- it'll be named something like /var/www/<your-username>_pythonanywhere_com_wsgi.py), and you'll be taken to an editor.  Delete all the contents and replace them with something like this:"
   ]
  },
  {
   "cell_type": "code",
   "execution_count": null,
   "metadata": {
    "collapsed": true
   },
   "outputs": [],
   "source": [
    "import os\n",
    "import sys\n",
    "\n",
    "path = '/home/<your-username>/my-first-blog'  # use your own username here\n",
    "if path not in sys.path:\n",
    "    sys.path.append(path)\n",
    "\n",
    "os.environ['DJANGO_SETTINGS_MODULE'] = 'mysite.settings'\n",
    "\n",
    "from django.core.wsgi import get_wsgi_application\n",
    "from django.contrib.staticfiles.handlers import StaticFilesHandler\n",
    "application = StaticFilesHandler(get_wsgi_application())"
   ]
  },
  {
   "cell_type": "markdown",
   "metadata": {},
   "source": [
    "Your end result should look similar to mine (Make sure you substitute < your-username > For the username you have selected at https://www.pythonanywhere.com):\n",
    "![](./images/wsgi.png)\n",
    "\n",
    "This file's job is to tell PythonAnywhere where our web app lives and what the Django settings file's name is. The StaticFilesHandler is for dealing with our CSS. This is taken care of automatically for you during local development by the runserver command. We'll find out a bit more about static files later in the tutorial, when we edit the CSS for our site. Hit Save and then go back to the Web tab.\n",
    "\n",
    "![](./images/web.png)\n",
    "\n",
    "Hit the big green Reload button and then click the link to your live web site (link above the green button). You should be able to view your application and get the following answer from the live server when you click the link:\n",
    "\n",
    "![](./images/localServerWorked.png)\n",
    "\n",
    "---"
   ]
  },
  {
   "cell_type": "markdown",
   "metadata": {},
   "source": [
    "# Debugging tips"
   ]
  },
  {
   "cell_type": "markdown",
   "metadata": {},
   "source": [
    "If you see an error when you try to visit your site, the first place to look for some debugging info is in your error log. You'll find a link to this on the PythonAnywhere Web tab. See if there are any error messages in there; the most recent ones are at the bottom. Common problems include:\n",
    "\n",
    "- Forgetting one of the steps we did in the console: creating the virtualenv, activating it, installing Django into it, migrating the database.\n",
    "- Making a mistake in the virtualenv path on the Web tab -- there will usually be a little red error message on there, if there is a problem.\n",
    "- Making a mistake in the WSGI configuration file -- did you get the path to your my-first-blog folder right?\n",
    "- Did you pick the same version of Python for your virtualenv as you did for your web app? Both should be 3.4 or 3.5. There are some general debugging tips on the PythonAnywhere wiki. \n",
    "---\n",
    "\n"
   ]
  },
  {
   "cell_type": "markdown",
   "metadata": {},
   "source": [
    "# Wrapping up"
   ]
  },
  {
   "cell_type": "markdown",
   "metadata": {},
   "source": [
    "The default page for your site should say \"Welcome to Django\" in the tab, and look just like it does on your local computer. Try adding /admin/ to the end of the URL, and you'll be taken to the admin site. Log in with the username and password you created on the server side, and add 3 or 4 new Posts on the server which we will use in the next practical.\n",
    "\n",
    "Once you have a few posts created, we will go back to our local setup (not PythonAnywhere). From here on you should work on your local setup to make changes. This is a common workflow in Web development (make changes locally, push those changes to GitHub, pull your changes down to your live Web server). This allows you to work and experiment without breaking your live Web site.\n",
    "\n",
    "Congratulations if you made it this far. You have done a lot for this 1st tutorial session. In the next session we will move into creating customize webpages for your backend to serve.\n",
    "\n",
    "---"
   ]
  }
 ],
 "metadata": {
  "kernelspec": {
   "display_name": "Python 3",
   "language": "python",
   "name": "python3"
  },
  "language_info": {
   "codemirror_mode": {
    "name": "ipython",
    "version": 3
   },
   "file_extension": ".py",
   "mimetype": "text/x-python",
   "name": "python",
   "nbconvert_exporter": "python",
   "pygments_lexer": "ipython3",
   "version": "3.5.1"
  }
 },
 "nbformat": 4,
 "nbformat_minor": 0
}
