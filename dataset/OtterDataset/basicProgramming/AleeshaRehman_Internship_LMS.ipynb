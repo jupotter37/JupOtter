{
 "cells": [
  {
   "cell_type": "code",
   "execution_count": 3,
   "id": "8de30169",
   "metadata": {},
   "outputs": [],
   "source": [
    "class Book:\n",
    "    def __init__(self, title, author, pages):\n",
    "        self.title = title\n",
    "        self.author = author\n",
    "        self.pages = pages\n",
    "\n",
    "    @property\n",
    "    def title(self):\n",
    "        return self._title\n",
    "\n",
    "    @title.setter\n",
    "    def title(self, title):\n",
    "        self._title = title\n",
    "\n",
    "    @property\n",
    "    def author(self):\n",
    "        return self._author\n",
    "\n",
    "    @author.setter\n",
    "    def author(self, author):\n",
    "        self._author = author\n",
    "\n",
    "    @property\n",
    "    def pages(self):\n",
    "        return self._pages\n",
    "\n",
    "    @pages.setter\n",
    "    def pages(self, pages):\n",
    "        self._pages = pages\n",
    "\n",
    "    def calculate_reading_time(self):\n",
    "        # assume 250 words per minute\n",
    "        words_per_page = 250  # adjust this value as needed\n",
    "        total_words = self.pages * words_per_page\n",
    "        return total_words / 250.0\n",
    "\n",
    "    def __str__(self):\n",
    "        return f\"Title: {self.title}, Author: {self.author}, Pages: {self.pages}\""
   ]
  },
  {
   "cell_type": "code",
   "execution_count": 4,
   "id": "0eb6b28e",
   "metadata": {},
   "outputs": [
    {
     "name": "stdout",
     "output_type": "stream",
     "text": [
      "Initial book details:\n",
      "Title: Java Programming, Author: John Doe, Pages: 500\n",
      "Updated book details:\n",
      "Title: Java for Beginners, Author: Jane Smith, Pages: 300\n",
      "Reading time: 300.00 minutes\n"
     ]
    }
   ],
   "source": [
    "book = Book(\"Java Programming\", \"John Doe\", 500)\n",
    "print(\"Initial book details:\")\n",
    "print(book)\n",
    "\n",
    "book.title = \"Java for Beginners\"\n",
    "book.author = \"Jane Smith\"\n",
    "book.pages = 300\n",
    "\n",
    "print(\"Updated book details:\")\n",
    "print(book)\n",
    "\n",
    "print(\"Reading time: {:.2f} minutes\".format(book.calculate_reading_time()))"
   ]
  },
  {
   "cell_type": "code",
   "execution_count": 5,
   "id": "a9a32e2e",
   "metadata": {},
   "outputs": [],
   "source": [
    "class Ebook(Book):\n",
    "    def __init__(self, title, author, pages, format):\n",
    "        super().__init__(title, author, pages)\n",
    "        self.format = format\n",
    "\n",
    "    @property\n",
    "    def format(self):\n",
    "        return self._format\n",
    "\n",
    "    @format.setter\n",
    "    def format(self, format):\n",
    "        self._format = format\n",
    "\n",
    "    def __str__(self):\n",
    "        return super().__str__() + f\", Format: {self.format}\""
   ]
  },
  {
   "cell_type": "code",
   "execution_count": 6,
   "id": "0bc11b62",
   "metadata": {},
   "outputs": [
    {
     "name": "stdout",
     "output_type": "stream",
     "text": [
      "Title: Java Programming, Author: John Doe, Pages: 500, Format: EPUB\n"
     ]
    }
   ],
   "source": [
    "ebook = Ebook(\"Java Programming\", \"John Doe\", 500, \"EPUB\")\n",
    "print(ebook)"
   ]
  },
  {
   "cell_type": "code",
   "execution_count": null,
   "id": "b0606518",
   "metadata": {},
   "outputs": [],
   "source": []
  }
 ],
 "metadata": {
  "kernelspec": {
   "display_name": "Python 3 (ipykernel)",
   "language": "python",
   "name": "python3"
  },
  "language_info": {
   "codemirror_mode": {
    "name": "ipython",
    "version": 3
   },
   "file_extension": ".py",
   "mimetype": "text/x-python",
   "name": "python",
   "nbconvert_exporter": "python",
   "pygments_lexer": "ipython3",
   "version": "3.11.5"
  }
 },
 "nbformat": 4,
 "nbformat_minor": 5
}
