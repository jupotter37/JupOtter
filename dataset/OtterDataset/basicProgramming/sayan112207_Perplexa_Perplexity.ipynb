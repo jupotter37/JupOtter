{
  "nbformat": 4,
  "nbformat_minor": 0,
  "metadata": {
    "colab": {
      "provenance": [],
      "gpuType": "T4",
      "collapsed_sections": [
        "hOawCGwQKe-Y",
        "vZASXbdGL2yu",
        "uUgcXdM6MJFu",
        "mFHYzilFMDcl",
        "HIKsVrcrMaiY",
        "9YGvFlgfMh06",
        "qjq5L8fjhclZ",
        "XKXrii9ehTdK",
        "R928NCmXMli6"
      ],
      "include_colab_link": true
    },
    "kernelspec": {
      "name": "python3",
      "display_name": "Python 3"
    },
    "language_info": {
      "name": "python"
    },
    "accelerator": "GPU"
  },
  "cells": [
    {
      "cell_type": "markdown",
      "metadata": {
        "id": "view-in-github",
        "colab_type": "text"
      },
      "source": [
        "<a href=\"https://colab.research.google.com/github/sayan112207/Perplexa/blob/main/Perplexity.ipynb\" target=\"_parent\"><img src=\"https://colab.research.google.com/assets/colab-badge.svg\" alt=\"Open In Colab\"/></a>"
      ]
    },
    {
      "cell_type": "code",
      "source": [
        "!nvidia-smi"
      ],
      "metadata": {
        "colab": {
          "base_uri": "https://localhost:8080/"
        },
        "id": "2FJXRw2wNAYB",
        "outputId": "d1176963-ca4f-4b2f-9b4e-163df003225f"
      },
      "execution_count": null,
      "outputs": [
        {
          "output_type": "stream",
          "name": "stdout",
          "text": [
            "Tue Dec 17 07:40:45 2024       \n",
            "+---------------------------------------------------------------------------------------+\n",
            "| NVIDIA-SMI 535.104.05             Driver Version: 535.104.05   CUDA Version: 12.2     |\n",
            "|-----------------------------------------+----------------------+----------------------+\n",
            "| GPU  Name                 Persistence-M | Bus-Id        Disp.A | Volatile Uncorr. ECC |\n",
            "| Fan  Temp   Perf          Pwr:Usage/Cap |         Memory-Usage | GPU-Util  Compute M. |\n",
            "|                                         |                      |               MIG M. |\n",
            "|=========================================+======================+======================|\n",
            "|   0  Tesla T4                       Off | 00000000:00:04.0 Off |                    0 |\n",
            "| N/A   52C    P8               9W /  70W |      3MiB / 15360MiB |      0%      Default |\n",
            "|                                         |                      |                  N/A |\n",
            "+-----------------------------------------+----------------------+----------------------+\n",
            "                                                                                         \n",
            "+---------------------------------------------------------------------------------------+\n",
            "| Processes:                                                                            |\n",
            "|  GPU   GI   CI        PID   Type   Process name                            GPU Memory |\n",
            "|        ID   ID                                                             Usage      |\n",
            "|=======================================================================================|\n",
            "|  No running processes found                                                           |\n",
            "+---------------------------------------------------------------------------------------+\n"
          ]
        }
      ]
    },
    {
      "cell_type": "markdown",
      "source": [
        "#Scrape Search Enginge"
      ],
      "metadata": {
        "id": "hOawCGwQKe-Y"
      }
    },
    {
      "cell_type": "code",
      "source": [
        "import requests\n",
        "import json\n",
        "from bs4 import BeautifulSoup\n",
        "import re"
      ],
      "metadata": {
        "id": "EUrzsA7kKbh6"
      },
      "execution_count": null,
      "outputs": []
    },
    {
      "cell_type": "code",
      "source": [
        "def get_vqd(query: str):\n",
        "    headers = {\n",
        "        \"accept\": \"text/html,application/xhtml+xml,application/xml;q=0.9,image/avif,image/webp,image/apng,*/*;q=0.8,application/signed-exchange;v=b3;q=0.7\",\n",
        "        \"accept-language\": \"en-TH,en;q=0.9\",\n",
        "        \"priority\": \"u=0, i\",\n",
        "        \"referer\": \"https://duckduckgo.com/\",\n",
        "        \"sec-ch-ua\": '\"Google Chrome\";v=\"125\", \"Chromium\";v=\"125\", \"Not.A/Brand\";v=\"24\"',\n",
        "        \"sec-ch-ua-mobile\": \"?0\",\n",
        "        \"sec-ch-ua-platform\": '\"macOS\"',\n",
        "        \"sec-fetch-dest\": \"document\",\n",
        "        \"sec-fetch-mode\": \"navigate\",\n",
        "        \"sec-fetch-site\": \"same-origin\",\n",
        "        \"sec-fetch-user\": \"?1\",\n",
        "        \"upgrade-insecure-requests\": \"1\",\n",
        "        \"user-agent\": \"Mozilla/5.0 (Macintosh; Intel Mac OS X 10_15_7) AppleWebKit/537.36 (KHTML, like Gecko) Chrome/125.0.0.0 Safari/537.36\",\n",
        "    }\n",
        "\n",
        "    params = {\n",
        "        \"q\": query,\n",
        "        \"t\": \"h_\",\n",
        "    }\n",
        "\n",
        "    response = requests.get(\"https://duckduckgo.com/\", params=params, headers=headers)\n",
        "\n",
        "    html = response.text\n",
        "\n",
        "    found = re.search('vqd=\"(([0-9]|-)*)\"', html, re.IGNORECASE)\n",
        "    if found:\n",
        "        vqd = found.group(0).replace(\"vqd=\", \"\").strip('\"')\n",
        "        return vqd"
      ],
      "metadata": {
        "id": "nBoaA26kKnMx"
      },
      "execution_count": null,
      "outputs": []
    },
    {
      "cell_type": "code",
      "source": [
        "def get_data(q: str, vqd: str, language: str = \"th-th\") -> list:\n",
        "    params = {\n",
        "        \"q\": q,\n",
        "        \"l\": language,\n",
        "        \"s\": \"0\",\n",
        "        \"a\": \"h_\",\n",
        "        \"dl\": \"th\",\n",
        "        \"ct\": \"TH\",\n",
        "        \"vqd\": vqd,\n",
        "    }\n",
        "    response = requests.get(\"https://links.duckduckgo.com/d.js\", params=params)\n",
        "\n",
        "    return json.loads(\n",
        "        response.text.split(\"DDG.pageLayout.load('d',\")[-1].split(\");\")[0]\n",
        "    )"
      ],
      "metadata": {
        "id": "T9PeuY4vKsNs"
      },
      "execution_count": null,
      "outputs": []
    },
    {
      "cell_type": "code",
      "source": [
        "def clean_data(raw_search_result: dict) -> dict:\n",
        "    header = raw_search_result.get(\"a\")\n",
        "    sample_text = raw_search_result.get(\"t\")\n",
        "    url = raw_search_result.get(\"c\")\n",
        "    post_date = raw_search_result.get(\"e\")\n",
        "\n",
        "    return {\n",
        "        \"header\": header,\n",
        "        \"sample_text\": sample_text,\n",
        "        \"url\": url,\n",
        "        \"post_date\": post_date,\n",
        "    }"
      ],
      "metadata": {
        "id": "pzNZ3C3mKuqr"
      },
      "execution_count": null,
      "outputs": []
    },
    {
      "cell_type": "code",
      "source": [
        "def search(q: str) -> list:\n",
        "    vqd = get_vqd(q)\n",
        "\n",
        "    raw_search_results = get_data(q, vqd)\n",
        "    cleaned_results = [\n",
        "        clean_data(raw_search_result) for raw_search_result in raw_search_results\n",
        "    ]\n",
        "    return cleaned_results"
      ],
      "metadata": {
        "id": "l3s4NFgnLfTx"
      },
      "execution_count": null,
      "outputs": []
    },
    {
      "cell_type": "code",
      "source": [
        "search_results = search(\"What is Javascript\")\n",
        "print(search_results)"
      ],
      "metadata": {
        "colab": {
          "base_uri": "https://localhost:8080/"
        },
        "id": "IRH131VeLirV",
        "outputId": "3acd6191-e78e-4583-9c89-04e87bceda23"
      },
      "execution_count": null,
      "outputs": [
        {
          "output_type": "stream",
          "name": "stdout",
          "text": [
            "[{'header': '<b>JavaScript</b> <b>is</b> a scripting language that allows you to create dynamic and interactive web pages. Learn what <b>JavaScript</b> can do, how it fits into the web technologies stack, and how to use it with examples and demos.', 'sample_text': 'What is JavaScript? - Learn web development | MDN - MDN Web Docs', 'url': 'https://developer.mozilla.org/en-US/docs/Learn/JavaScript/First_steps/What_is_JavaScript', 'post_date': None}, {'header': 'Learn the basics of <b>JavaScript</b>, a single-threaded, synchronous programming and scripting language widely used in web development. Find out its history, applications, advantages, limitations, and how to include it in HTML.', 'sample_text': 'What is JavaScript? - GeeksforGeeks', 'url': 'https://www.geeksforgeeks.org/what-is-javascript/', 'post_date': None}, {'header': '<b>JavaScript</b> <b>is</b> a programming language and core technology of the Web, alongside HTML and CSS. Learn about its creation at Netscape, adoption by Microsoft, standardization by ECMA, and applications in browsers, servers, and apps.', 'sample_text': 'JavaScript - Wikipedia', 'url': 'https://en.wikipedia.org/wiki/JavaScript', 'post_date': None}, {'header': 'Learn <b>JavaScript</b>, the programming language for the web, with this quickstart tutorial. <b>JavaScript</b> can update and change HTML, CSS, data, and more.', 'sample_text': 'What is JavaScript? - W3Schools', 'url': 'https://www.w3schools.com/whatis/whatis_js.asp', 'post_date': None}, {'header': '<b>JavaScript</b> <b>is</b> a versatile programming language essential for creating interactive and dynamic web content, used on both client and server sides, with a wide range of frameworks and libraries available for various applications.', 'sample_text': 'JavaScript Tutorial - GeeksforGeeks', 'url': 'https://www.geeksforgeeks.org/javascript/', 'post_date': None}, {'header': '<b>JavaScript</b> (JS) is a lightweight programming language with first-class functions, used for Web pages and other environments. Learn about its features, syntax, standards, tutorials, and more on MDN Web Docs.', 'sample_text': 'JavaScript | MDN - MDN Web Docs', 'url': 'https://developer.mozilla.org/en-US/docs/Web/JavaScript', 'post_date': None}, {'header': '<b>JavaScript</b> <b>is</b> a scripting language used to make webpages interactive and dynamic. Learn the basics of <b>JavaScript</b>, its features, and how it differs from Java and ECMAScript.', 'sample_text': 'Introduction - JavaScript | MDN - MDN Web Docs', 'url': 'https://developer.mozilla.org/en-US/docs/Web/JavaScript/Guide/Introduction', 'post_date': None}, {'header': 'Learn what <b>JavaScript</b> <b>is</b>, how it works, and what it can do in the browser and beyond. <b>JavaScript</b> <b>is</b> a versatile language that can manipulate web pages, interact with users, and communicate with servers.', 'sample_text': 'An Introduction to JavaScript', 'url': 'https://javascript.info/intro', 'post_date': None}, {'header': '<b>JavaScript</b> <b>is</b> a dynamic language that adds interactivity and functionality to web pages. Learn how to use <b>JavaScript</b> in HTML, its data types, variables, functions and more.', 'sample_text': 'What is JavaScript? A Definition of the JS Programming Language', 'url': 'https://www.freecodecamp.org/news/what-is-javascript-definition-of-js/', 'post_date': None}, {'header': '<b>JavaScript</b> <b>is</b> a versatile and powerful programming language with unique features that make it essential for modern software development. These features allow <b>JavaScript</b> to be used in a wide range of areas, including websites, mobile apps, and desktop applications. Let&#x27;s look at its key features in simple and easy-to-understand terms. 1.', 'sample_text': 'What is JavaScript? - tutorialsfreak.com', 'url': 'https://www.tutorialsfreak.com/javascript/what-is-javascript', 'post_date': None}, {'header': None, 'sample_text': None, 'url': None, 'post_date': None}]\n"
          ]
        }
      ]
    },
    {
      "cell_type": "markdown",
      "source": [
        "#Implementing RAG Architecture"
      ],
      "metadata": {
        "id": "vZASXbdGL2yu"
      }
    },
    {
      "cell_type": "markdown",
      "source": [
        "##Installing Ollama"
      ],
      "metadata": {
        "id": "uUgcXdM6MJFu"
      }
    },
    {
      "cell_type": "code",
      "execution_count": null,
      "metadata": {
        "colab": {
          "base_uri": "https://localhost:8080/"
        },
        "id": "-fizt9lhGJAw",
        "outputId": "16d8c61b-94dc-4ed5-c242-39ccf63c28df"
      },
      "outputs": [
        {
          "output_type": "stream",
          "name": "stdout",
          "text": [
            "Reading package lists... Done\n",
            "Building dependency tree... Done\n",
            "Reading state information... Done\n",
            "pciutils is already the newest version (1:3.7.0-6).\n",
            "0 upgraded, 0 newly installed, 0 to remove and 49 not upgraded.\n"
          ]
        }
      ],
      "source": [
        "!sudo apt-get install -y pciutils"
      ]
    },
    {
      "cell_type": "code",
      "source": [
        "!curl -fsSL https://ollama.com/install.sh | sh"
      ],
      "metadata": {
        "colab": {
          "base_uri": "https://localhost:8080/"
        },
        "id": "a6FD75IkGRaz",
        "outputId": "3a38a33c-ba06-493c-b277-e81bacf6d859"
      },
      "execution_count": null,
      "outputs": [
        {
          "output_type": "stream",
          "name": "stdout",
          "text": [
            ">>> Cleaning up old version at /usr/local/lib/ollama\n",
            ">>> Installing ollama to /usr/local\n",
            ">>> Downloading Linux amd64 bundle\n",
            "############################################################################################# 100.0%\n",
            ">>> Adding ollama user to video group...\n",
            ">>> Adding current user to ollama group...\n",
            ">>> Creating ollama systemd service...\n",
            "\u001b[1m\u001b[31mWARNING:\u001b[m systemd is not running\n",
            ">>> NVIDIA GPU installed.\n",
            ">>> The Ollama API is now available at 127.0.0.1:11434.\n",
            ">>> Install complete. Run \"ollama\" from the command line.\n"
          ]
        }
      ]
    },
    {
      "cell_type": "code",
      "source": [
        "!pip install ollama retry"
      ],
      "metadata": {
        "colab": {
          "base_uri": "https://localhost:8080/"
        },
        "id": "FYsP2Go8Hr4_",
        "outputId": "f0811160-789e-4d6a-97f5-14892deb2ee6"
      },
      "execution_count": null,
      "outputs": [
        {
          "output_type": "stream",
          "name": "stdout",
          "text": [
            "Requirement already satisfied: ollama in /usr/local/lib/python3.10/dist-packages (0.4.4)\n",
            "Requirement already satisfied: retry in /usr/local/lib/python3.10/dist-packages (0.9.2)\n",
            "Requirement already satisfied: httpx<0.28.0,>=0.27.0 in /usr/local/lib/python3.10/dist-packages (from ollama) (0.27.2)\n",
            "Requirement already satisfied: pydantic<3.0.0,>=2.9.0 in /usr/local/lib/python3.10/dist-packages (from ollama) (2.10.3)\n",
            "Requirement already satisfied: decorator>=3.4.2 in /usr/local/lib/python3.10/dist-packages (from retry) (4.4.2)\n",
            "Requirement already satisfied: py<2.0.0,>=1.4.26 in /usr/local/lib/python3.10/dist-packages (from retry) (1.11.0)\n",
            "Requirement already satisfied: anyio in /usr/local/lib/python3.10/dist-packages (from httpx<0.28.0,>=0.27.0->ollama) (3.7.1)\n",
            "Requirement already satisfied: certifi in /usr/local/lib/python3.10/dist-packages (from httpx<0.28.0,>=0.27.0->ollama) (2024.8.30)\n",
            "Requirement already satisfied: httpcore==1.* in /usr/local/lib/python3.10/dist-packages (from httpx<0.28.0,>=0.27.0->ollama) (1.0.7)\n",
            "Requirement already satisfied: idna in /usr/local/lib/python3.10/dist-packages (from httpx<0.28.0,>=0.27.0->ollama) (3.10)\n",
            "Requirement already satisfied: sniffio in /usr/local/lib/python3.10/dist-packages (from httpx<0.28.0,>=0.27.0->ollama) (1.3.1)\n",
            "Requirement already satisfied: h11<0.15,>=0.13 in /usr/local/lib/python3.10/dist-packages (from httpcore==1.*->httpx<0.28.0,>=0.27.0->ollama) (0.14.0)\n",
            "Requirement already satisfied: annotated-types>=0.6.0 in /usr/local/lib/python3.10/dist-packages (from pydantic<3.0.0,>=2.9.0->ollama) (0.7.0)\n",
            "Requirement already satisfied: pydantic-core==2.27.1 in /usr/local/lib/python3.10/dist-packages (from pydantic<3.0.0,>=2.9.0->ollama) (2.27.1)\n",
            "Requirement already satisfied: typing-extensions>=4.12.2 in /usr/local/lib/python3.10/dist-packages (from pydantic<3.0.0,>=2.9.0->ollama) (4.12.2)\n",
            "Requirement already satisfied: exceptiongroup in /usr/local/lib/python3.10/dist-packages (from anyio->httpx<0.28.0,>=0.27.0->ollama) (1.2.2)\n"
          ]
        }
      ]
    },
    {
      "cell_type": "markdown",
      "source": [
        "##Setting Ollama host"
      ],
      "metadata": {
        "id": "mFHYzilFMDcl"
      }
    },
    {
      "cell_type": "code",
      "source": [
        "from IPython.display import clear_output\n",
        "import os\n",
        "import threading\n",
        "import subprocess\n",
        "import requests\n",
        "import json"
      ],
      "metadata": {
        "id": "QGxTTbf9Gq4I"
      },
      "execution_count": null,
      "outputs": []
    },
    {
      "cell_type": "code",
      "source": [
        "def ollama():\n",
        "    try:\n",
        "        os.environ['OLLAMA_HOST'] = '0.0.0.0:11434'\n",
        "        os.environ['OLLAMA_ORIGINS'] = '*'\n",
        "        subprocess.Popen([\"ollama\", \"serve\"])\n",
        "        print(\"Ollama server started successfully.\")\n",
        "    except Exception as e:\n",
        "        print(\"Error starting Ollama server:\", e)"
      ],
      "metadata": {
        "id": "Z6qeyjNnGyzl"
      },
      "execution_count": null,
      "outputs": []
    },
    {
      "cell_type": "code",
      "source": [
        "ollama_thread = threading.Thread(target=ollama)\n",
        "ollama_thread.start()"
      ],
      "metadata": {
        "id": "rt7yX8pYG-gj"
      },
      "execution_count": null,
      "outputs": []
    },
    {
      "cell_type": "code",
      "source": [
        "!ollama --version"
      ],
      "metadata": {
        "colab": {
          "base_uri": "https://localhost:8080/"
        },
        "id": "8smJwZOmSE0z",
        "outputId": "bf1c0201-516e-4cc3-c591-eb5a9965a08c"
      },
      "execution_count": null,
      "outputs": [
        {
          "output_type": "stream",
          "name": "stdout",
          "text": [
            "ollama version is 0.5.1\n"
          ]
        }
      ]
    },
    {
      "cell_type": "markdown",
      "source": [
        "##Downloading Text-Generation Model"
      ],
      "metadata": {
        "id": "HIKsVrcrMaiY"
      }
    },
    {
      "cell_type": "code",
      "source": [
        "!ollama pull qwen2:7b-instruct-q6_K\n",
        "clear_output()"
      ],
      "metadata": {
        "id": "N2FsNqapHAa8"
      },
      "execution_count": null,
      "outputs": []
    },
    {
      "cell_type": "code",
      "source": [
        "!ollama list"
      ],
      "metadata": {
        "colab": {
          "base_uri": "https://localhost:8080/"
        },
        "id": "E3VWhFS5SVPF",
        "outputId": "5416c466-2cea-421c-b42f-c2d4b20966e5"
      },
      "execution_count": null,
      "outputs": [
        {
          "output_type": "stream",
          "name": "stdout",
          "text": [
            "NAME                      ID              SIZE      MODIFIED       \n",
            "qwen2:7b-instruct-q6_K    43f1d6679e17    6.3 GB    21 minutes ago    \n"
          ]
        }
      ]
    },
    {
      "cell_type": "code",
      "source": [
        "import ollama\n",
        "\n",
        "MODEL = \"qwen2:7b-instruct-q6_K\"\n",
        "OLLAMA_HOST = \"http://localhost:11434\"\n",
        "RETRY_COUNT = 5\n",
        "SELECT_TOP_RESULTS = 3\n",
        "INDEX_NAME = \"sfc_code_preprocess\"\n",
        "ollama_client: ollama.Client = ollama.Client(host=OLLAMA_HOST)"
      ],
      "metadata": {
        "id": "iVEWtqpNHDBS"
      },
      "execution_count": null,
      "outputs": []
    },
    {
      "cell_type": "code",
      "source": [
        "from retry import retry\n",
        "from typing import Union, Generator\n",
        "from IPython.display import clear_output, Markdown"
      ],
      "metadata": {
        "id": "anCF7oDMImoE"
      },
      "execution_count": null,
      "outputs": []
    },
    {
      "cell_type": "markdown",
      "source": [
        "##Implemting RAG"
      ],
      "metadata": {
        "id": "9YGvFlgfMh06"
      }
    },
    {
      "cell_type": "code",
      "source": [
        "def get_search_keywords(question):\n",
        "    response = ollama_client.chat(\n",
        "        model=MODEL,\n",
        "        messages=[\n",
        "            {\n",
        "                \"role\": \"system\",\n",
        "                \"content\": \"You are an SEO expert. A user will give you a question your duty is to figure it out the search keywords for using in a search engine\"\n",
        "                \"such as DuckDuckGo to gather the information. \"\n",
        "                \"You must return your answer only  and do not include prologue, prefix or suffix.\",\n",
        "            },\n",
        "            {\"role\": \"user\", \"content\": question},\n",
        "        ],\n",
        "        stream=False,\n",
        "    )\n",
        "    return response[\"message\"][\"content\"].split()"
      ],
      "metadata": {
        "id": "woOqS2yOJVxM"
      },
      "execution_count": null,
      "outputs": []
    },
    {
      "cell_type": "code",
      "source": [
        "def summarize_document(question, document):\n",
        "    prompt = f\"\"\"Question: {question}\n",
        "\n",
        "Document: {document}\n",
        "\n",
        "Summarize context that can directly answer the question into bullets point to write a content.\n",
        "You must give your answer in Thai language and return your answer only  and do not include prologue, prefix or suffix.\n",
        "\n",
        "\"\"\"\n",
        "    response = ollama_client.chat(\n",
        "        model=MODEL,\n",
        "        messages=[\n",
        "            {\n",
        "                \"role\": \"system\",\n",
        "                \"content\": \"You are an research assistance who summarizes a\"\n",
        "                \" given a document scraped from a webpage to answer a given question.\"\n",
        "                \" You must give your answer in Thai language and do not include prologue, prefix or suffix.\",\n",
        "            },\n",
        "            {\"role\": \"user\", \"content\": prompt},\n",
        "        ],\n",
        "        stream=False,\n",
        "    )\n",
        "    return response[\"message\"][\"content\"]"
      ],
      "metadata": {
        "id": "UMaV3GHvJf8y"
      },
      "execution_count": null,
      "outputs": []
    },
    {
      "cell_type": "code",
      "source": [
        "def get_is_useful_prompt(question, context) -> str:\n",
        "    prompt = f\"\"\"From the question: {question}\n",
        "                  And context {context}\n",
        "\n",
        "                  Consider if the context is what the question want or not. You must answer with -1 if it's not;\n",
        "                  0 if it's partially related; 1 it it's related. You must give the answer only and do not include prologue, prefix or suffix.\"\"\"\n",
        "    return prompt"
      ],
      "metadata": {
        "id": "cxOwCBuaJkY5"
      },
      "execution_count": null,
      "outputs": []
    },
    {
      "cell_type": "code",
      "source": [
        "def get_summary_prompt(question, document):\n",
        "    prompt = f\"\"\"Question: {question}\n",
        "                  Document: {document}\n",
        "\n",
        "                  Prepare information that can to answer the question into bullets point to write a content.\n",
        "                  Also, consider if the docuement is useful to answer the question.\n",
        "                  Your answer should be in JSON format with fields:\n",
        "\n",
        "                  \"is_useful\": 0 if not or 1 if it's useful\n",
        "                  \"summarize\": (string) Summarize of the that can response the question or leave blank if you find it entirely not useful.\n",
        "\n",
        "\n",
        "                  Return your answer only and do not include prologue, prefix or suffix.\"\"\"\n",
        "    return prompt"
      ],
      "metadata": {
        "id": "Tl09Q4NTJx_4"
      },
      "execution_count": null,
      "outputs": []
    },
    {
      "cell_type": "code",
      "source": [
        "@retry(tries=5, exceptions=json.JSONDecodeError)\n",
        "def validate_document(question, document):\n",
        "    summary_prompt = get_summary_prompt(question, document)\n",
        "    response = ollama_client.chat(\n",
        "        model=MODEL,\n",
        "        messages=[\n",
        "            {\n",
        "                \"role\": \"system\",\n",
        "                \"content\": (\n",
        "                    \"\"\"You are an expert who is assigned to consider whether a text data source\n",
        "                    is useful to answer a user question or not. If yes, you will summarize the text\n",
        "                    which corespond user's question for another expert to write answer the user , otherwise, do nothing.\"\"\"\n",
        "\n",
        "                    \"\"\"You answer must be in JSON format with field:\n",
        "                    \"is_useful\": boolean determining whether the source is useful,\n",
        "                    \"summarize: string your summarization refering the part for the text or empty string if not useful\n",
        "                    \"\"\"\n",
        "\n",
        "                    \"return your answer only  and do not include prologue, prefix or suffix\"\n",
        "                ),\n",
        "            },\n",
        "            {\"role\": \"user\", \"content\": summary_prompt},\n",
        "        ],\n",
        "        stream=False,\n",
        "    )\n",
        "    return json.loads(response[\"message\"][\"content\"])"
      ],
      "metadata": {
        "id": "ZkPdNP1jJ2v7"
      },
      "execution_count": null,
      "outputs": []
    },
    {
      "cell_type": "code",
      "source": [
        "def get_context(question):\n",
        "    contexts = []\n",
        "\n",
        "    search_results = search(question)\n",
        "    for search_result in search_results:\n",
        "\n",
        "        document = search_result[\"header\"]\n",
        "        context = validate_document(question, document)\n",
        "\n",
        "\n",
        "        is_useful = context[\"is_useful\"]\n",
        "        search_result[\"is_useful\"] = is_useful\n",
        "        search_result[\"summarize\"] = context[\"summarize\"]\n",
        "        if is_useful == 1:\n",
        "            contexts.append(search_result)\n",
        "        if len(contexts) >= 5:\n",
        "            break\n",
        "\n",
        "    line_template = \"\"\"Header:\n",
        "    {header}\n",
        "\n",
        "    Summary:\n",
        "    {summarize}\n",
        "\n",
        "    Reference: {url}\n",
        "    \"\"\"\n",
        "\n",
        "    writing_prompt = \"\\n\".join([line_template.format(**context) for context in contexts])\n",
        "    return writing_prompt"
      ],
      "metadata": {
        "id": "6QoaWyZjKCHK"
      },
      "execution_count": null,
      "outputs": []
    },
    {
      "cell_type": "markdown",
      "source": [
        "###Model Response [Object: ChatResponse]"
      ],
      "metadata": {
        "id": "qjq5L8fjhclZ"
      }
    },
    {
      "cell_type": "code",
      "source": [
        "def write_the_output(question, context_prompts):\n",
        "    response = ollama_client.chat(\n",
        "        model=MODEL,\n",
        "        messages=[\n",
        "            {\n",
        "                \"role\": \"system\",\n",
        "                \"content\": (\n",
        "                    \"You are a helpful user's assistant, and your secretary already \"\n",
        "                    \"prepared gists from the search engine results for \"\n",
        "                    \"you to answer user's question. \"\n",
        "                    \"Your duty is to answer the question \"\n",
        "                    \"with confidence using the prepared \"\n",
        "                    \"data source as a reference. \"\n",
        "                    \"You must add your idea to support user to understand sources. \"\n",
        "                    \"You must add the reference of data source with URL \"\n",
        "                    \"and encourage user to find out more information with it. \"\n",
        "                    \"You must answer with the same language that the user uses.\"\n",
        "                ),\n",
        "            },\n",
        "            {\n",
        "                \"role\": \"user\", \"content\": f\"\"\"Question: {question}\n",
        "                Context: {context_prompts}\n",
        "                \"\"\"\n",
        "            },\n",
        "        ],\n",
        "        stream=False,\n",
        "    )\n",
        "    return response"
      ],
      "metadata": {
        "id": "P2vo7qoyKEic"
      },
      "execution_count": null,
      "outputs": []
    },
    {
      "cell_type": "markdown",
      "source": [
        "###Assessing only Content attribute of ChatResponse Object"
      ],
      "metadata": {
        "id": "XKXrii9ehTdK"
      }
    },
    {
      "cell_type": "code",
      "source": [
        "def display_answer(answer):\n",
        "    content = answer.message.content\n",
        "    return content"
      ],
      "metadata": {
        "id": "u6QYaVxOKGdn"
      },
      "execution_count": null,
      "outputs": []
    },
    {
      "cell_type": "code",
      "source": [
        "def suplexity(question):\n",
        "    context_prompts = get_context(question)\n",
        "    stream = write_the_output(question, context_prompts)\n",
        "    return stream"
      ],
      "metadata": {
        "id": "sKdXnJqvKIxS"
      },
      "execution_count": null,
      "outputs": []
    },
    {
      "cell_type": "markdown",
      "source": [
        "#Final Display"
      ],
      "metadata": {
        "id": "R928NCmXMli6"
      }
    },
    {
      "cell_type": "code",
      "source": [
        "print(display_answer(suplexity(\"What is JavaScript\")))"
      ],
      "metadata": {
        "colab": {
          "base_uri": "https://localhost:8080/"
        },
        "id": "-e_CUZ64KLDt",
        "outputId": "bfc5c757-cd59-45e2-ab0c-d073c642211c"
      },
      "execution_count": null,
      "outputs": [
        {
          "output_type": "stream",
          "name": "stdout",
          "text": [
            "JavaScript is a scripting language that helps in making websites more interactive. It allows developers to create dynamic elements like forms, animations, and interactive user interfaces directly within the web pages without requiring a full page refresh. JavaScript can be used both on the client-side (in users' browsers) and the server-side (on servers).\n",
            "\n",
            "Here are some key points about JavaScript:\n",
            "\n",
            "1. **Web Technologies Stack**: JavaScript is an integral part of the web technologies stack alongside HTML (HyperText Markup Language) for structuring content, and CSS (Cascading Style Sheets) for styling it.\n",
            "\n",
            "2. **Broad Applications**: JavaScript can be used to perform a wide range of tasks on websites like form validation, creating interactive pop-ups, animations, data manipulation, etc., enhancing user experience significantly.\n",
            "\n",
            "3. **Versatility**: It is not just limited to web applications; with frameworks and libraries such as Node.js, it's also widely used in server-side development.\n",
            "\n",
            "4. **History and Evolution**: JavaScript was created by Brendan Eich at Netscape Communications Corporation and has evolved through various versions standardized by ECMA (European Computer Manufacturers Association).\n",
            "\n",
            "5. **Frameworks & Libraries**: There are numerous tools and frameworks like React, Angular, Vue.js for front-end development, and Express.js, Django for back-end development that simplify the process of web application development.\n",
            "\n",
            "To learn more about JavaScript's capabilities, applications, and how to use it in your projects, I would recommend checking out the detailed resources on each reference website linked below. Each site provides comprehensive information suited for beginners and advanced users alike:\n",
            "\n",
            "1. [Mozilla Developer Network](https://developer.mozilla.org/en-US/docs/Learn/JavaScript/First_steps/What_is_JavaScript)\n",
            "2. [GeeksforGeeks](https://www.geeksforgeeks.org/what-is-javascript/)\n",
            "3. [Wikipedia](https://en.wikipedia.org/wiki/JavaScript)\n",
            "4. [W3Schools](https://www.w3schools.com/whatis/whatis_js.asp)\n",
            "5. [GeeksforGeeks](https://www.geeksforgeeks.org/javascript/)\n",
            "\n",
            "These resources should give you a solid foundation and deeper insights into JavaScript, its history, applications, and how to effectively use it in your projects.\n"
          ]
        }
      ]
    }
  ]
}