{
 "cells": [
  {
   "cell_type": "markdown",
   "id": "12ba775f-06ae-456f-97c0-555856ca74d3",
   "metadata": {},
   "source": [
    "1. Who developed python language? (Python Software Foundation)\n",
    "\n",
    "2. Which type of programming does python support? (OOP)\n",
    "\n",
    "3. Is python case sensitive when dealing with identifiers? (Yes)\n",
    "\n",
    "4. What is the correct extension to a python file? (.py)\n",
    "\n",
    "5. Is python code compiled or interpreted? (Both)\n",
    "\n",
    "6. Name a few blocks of code used to define in python language? (try, except, else, finally)\n",
    "\n",
    "7. State a character used to give single line comments in python? (#)\n",
    "\n",
    "8. Mention functions which can help us find the python version? (import sys)\n",
    "\n",
    "9. What does pip stands for in python? (Preferred Installer Program)\n",
    "\n",
    "10. Mention few built-in functions available in python? (print, return, len, input, type, etc.)\n",
    "\n",
    "11. What is the maximum possible length of an identifier in python? (79 characters)"
   ]
  },
  {
   "cell_type": "code",
   "execution_count": 12,
   "id": "2711dc9b-9874-48be-8dc5-33a093c89544",
   "metadata": {},
   "outputs": [
    {
     "name": "stdout",
     "output_type": "stream",
     "text": [
      "3.10.8 | packaged by conda-forge | (main, Nov 22 2022, 08:26:04) [GCC 10.4.0]\n"
     ]
    }
   ],
   "source": [
    "# To check python version\n",
    "\n",
    "import sys\n",
    "print(sys.version)"
   ]
  },
  {
   "cell_type": "markdown",
   "id": "75ed2f0d-c741-429a-9f88-b50e487e6439",
   "metadata": {},
   "source": [
    "12. Benefits of using python and how memory is managed in python?"
   ]
  },
  {
   "cell_type": "raw",
   "id": "3dcd1688-cbfb-4d7d-a7d8-9046ddff430e",
   "metadata": {},
   "source": [
    "A. Python syntax is designed to be clear and readable making it easy for beginners to learn and understand.\n",
    "\n",
    "B. Python comes with various pre-defined libraries that provides modules and functions for many common tasks thus reducing the need for additional third-party libraries.\n",
    "\n",
    "C. Python is versatile and can be used for web development, scientific computing, data analysis, artificial intelligence, and many more fields.\n",
    "\n",
    "D. Python can run on different platforms like Windows, macOS, Linux without any modification, all possible due to its interpreter and compatibility."
   ]
  },
  {
   "cell_type": "raw",
   "id": "021005ee-ed36-4049-81cd-67a7ccbc8069",
   "metadata": {},
   "source": [
    "Python uses an automatic memory management system called \"garbage collection\" to manage memory allocation and deallocation efficiently.\n",
    "\n",
    "Python uses garbage collector which is responsible for reclaiming memory occupied by objects that are no longer referenced or needed. The garbage collector in Python primarily uses a reference counting mechanism and a cyclic garbage collector."
   ]
  },
  {
   "cell_type": "raw",
   "id": "63fd32bf-b208-4d2d-b13b-581bfa247785",
   "metadata": {},
   "source": [
    "Reference Counting: \n",
    "\n",
    "    Python maintains a count of how many references(or variables) point to each object. If an object's reference count drops to zero, it means that there are no more references pointing to it and python automatically deallocates the memory used by that object.\n",
    "\n",
    "Cyclic Garbage Collector:\n",
    "\n",
    "    Python also employs a cyclic garbage collector to detect and break cycles in reference graphs. In this, a cycle occurs when a group of objects reference each other forms a closed loop with no external references. These cycles can prevent objects from being garbage collected even if they are no longer reachable from the program's main execution path."
   ]
  },
  {
   "cell_type": "markdown",
   "id": "a5b8bda5-4342-480a-88c3-80f34c435278",
   "metadata": {},
   "source": [
    "13. How to install Python in Windows and set path variables?"
   ]
  },
  {
   "cell_type": "raw",
   "id": "ab703df1-d32b-416e-987a-dbc3c529c344",
   "metadata": {},
   "source": [
    "Step1: Go to python.org and navigate to download section. Download the latest version of Python for Windows.\n",
    "\n",
    "Step2: Once downloaded, run the Python installer executable file. Make sure to select the checkbox stating \"Add Python x.x to PATH\" during the installation setup. This step is crucial for automatically configuring the PATH environment variable.\n",
    "\n",
    "Step3: Follow the prompts to complete the installation. Atlast, Python will be installed in either the specified directory or in the default location."
   ]
  },
  {
   "cell_type": "raw",
   "id": "12c705b0-6838-4e16-9fcd-8c0d5d4475f1",
   "metadata": {},
   "source": [
    "SETTING PATH VARIABLE:\n",
    "    \n",
    "    1. Right click on My computer or This-PC. Select properties.\n",
    "    \n",
    "    2. Select advanced system settings. Then select environment variables.\n",
    "    \n",
    "    3. In Environment Variables window, either under System Variables or User Variables, find the Path variable and select it.\n",
    "    \n",
    "    4. Click edit to modify the path. In the Edit Environment Variable window, click on New.\n",
    "    \n",
    "    5. Add the path to the Python installation directory. Click Ok to save the path.\n",
    "    \n",
    "    6. To verify the installation, open command prompt and type python -V to check the python version."
   ]
  },
  {
   "cell_type": "markdown",
   "id": "a1ee996b-2659-474f-bd5a-a65ce22c3ae4",
   "metadata": {},
   "source": [
    "14. Is indentation required in Python?"
   ]
  },
  {
   "cell_type": "raw",
   "id": "ec43bc9a-db7e-449e-88cf-b40fdf2bad62",
   "metadata": {},
   "source": [
    "Yes, indentation is very important while writing a code. Improper indentation can lead to errors during the execution of code."
   ]
  },
  {
   "cell_type": "code",
   "execution_count": null,
   "id": "a5a2bd98-9eee-4985-897f-8a890919b560",
   "metadata": {},
   "outputs": [],
   "source": []
  }
 ],
 "metadata": {
  "kernelspec": {
   "display_name": "Python 3 (ipykernel)",
   "language": "python",
   "name": "python3"
  },
  "language_info": {
   "codemirror_mode": {
    "name": "ipython",
    "version": 3
   },
   "file_extension": ".py",
   "mimetype": "text/x-python",
   "name": "python",
   "nbconvert_exporter": "python",
   "pygments_lexer": "ipython3",
   "version": "3.10.8"
  }
 },
 "nbformat": 4,
 "nbformat_minor": 5
}
