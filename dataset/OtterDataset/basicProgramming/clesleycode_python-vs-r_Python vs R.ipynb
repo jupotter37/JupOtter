{
 "cells": [
  {
   "cell_type": "markdown",
   "metadata": {},
   "source": [
    "# Introduction\n",
    "\n",
    "Data science is an interdisciplinary field where scientific techniques from statistics, mathematics, and computer science are used to analyze data and solve problems more accurately and effectively. It is no wonder, then, that languages such as R and Python, with their extensive packages and libraries that support statistical methods and machine learning algorithms are cornerstones of the data science revolution.\n",
    "\n",
    "## R\n",
    "\n",
    "R is an open source, statistical computing language created with the intention of making data analysis, statistical models and graphical models easier. R has a large repository of packages called <b>CRAN</b> that users routinely contribute to. \n",
    "\n",
    "One of R’s main strengths is that it has a very active community that provides ample support to users via mailing lists, StackOverFlow forums, and very extensive documentation of all its packages. \n",
    "\n",
    "R has a slightly quirky syntax which can be hard to pick up for beginners but is especially suited for people from a statistical and research background looking to get started with creating their models quickly.\n",
    "\n",
    "## Python\n",
    "\n",
    "Python is a high level, interpreted, general purpose language that was built to improve programmer productivity and code readability. It is usually the preferred language for programmers and people with a computer science background looking to get into data analysis. \n",
    "\n",
    "It's a very flexible language, making it great for production level work and, like R, has libraries of packages around statistics and machine learning in <b>pip</b>, the repository of Python packages. It has great community support, although being a general purpose language it is not all concentrated around data science. \n",
    "\n",
    "The biggest advantage to using Python is the availability of packages such as Theano, Keras, scikit-learn that are important machine learning and deep learning libraries used by both academic research purposes as well as for commercial intent.\n",
    "\n",
    "## Choosing\n",
    "\n",
    "As professional problem solvers, data science practitioners need to have a versatile set of tools as part of their repertoire. While learning both R and Python is ideal, given that R makes data cleaning and manipulation a very easy task while Python is better for building models on larger data sets and scale, we all have to begin somewhere. And the right choice for you can be determined by the following factors - previous programming experience, educational background, career aspirations, and interest in working with deep learning technology.\n",
    "\n",
    "\n",
    "### Previous Programming Experience\n",
    "\n",
    "If you have any programming experience prior to learning data science, our recommendation would be for you to learn Python. It’s clear syntax would be easy for you to take up; and with it being a general purpose language, you’d have the added flexibility for building novel stuff. Even a complete novice is advised to learn Python, as it is one of the most beginner friendly languages in Computer Science, being the most popular introductory teaching language in the top U.S. universities (Communications of the ACM article, 2014). R code gets to the point more quickly and is less verbose as well, but it has a quirky syntax that would be difficult to learn for both hardcore programmers and beginners alike. We recommend this course for those interested in learning Python programming.\n",
    "\n",
    "### Educational Background\n",
    "\n",
    "Having a background in statistics or mathematics makes R a better choice for you. This is because R is a domain specific language created specifically for statistics, making its usage intuitive for people with a degree in statistics. R was created by statisticians and made with other statisticians in mind, so having a grasp of statistical analysis makes the transition into this language all the more easy.\n",
    "\n",
    "### Career Aspirations\n",
    "\n",
    "As a data analyst/business analyst/financial analyst, your focus would be on extracting the most information out of your data, without needing to create a product out of your content. For this reason, learning R and a database language like SQL would serve you better as R is great for working with tabular data on a single system/server and has great libraries like ggplot2 for easy visualizations.\n",
    "\n",
    "But a data scientist has different requirements, as they’re expected to carry out analysis as well as create products such as machine learning engines that work on the database of a website or a software. This would require both software development as well as predictive modelling work which can be better accomplished by a general purpose language like Python. These principles would apply across all industries.\n",
    "\n",
    "### Interest in Deep Learning\n",
    "\n",
    "Deep Learning is the trending topic du jour and anyone with an interest in contributing to the growth of artificial intelligence technology should be learning Python. Its overwhelming popularity for both machine learning as well as deep learning comes from the fact that Python acts as an interface between the programmer and lower level languages like C/C++, this making it very easy for experimenting, creating models and debugging without compromising on computational speed (as the machine uses C/C++and CUDA technology to build the models). This makes Python a very accessible language for mathematicians and statisticians looking to create neural network models without having to start creating them from scratch due to the pre-existing frameworks provided by Python. \n"
   ]
  },
  {
   "cell_type": "markdown",
   "metadata": {},
   "source": [
    "# Training & Test Data\n",
    "\n",
    "Since supervised machine learning is an important part of data science, we'll split data into training and testing sets so we don’t overfit and are able to test for accuracy."
   ]
  },
  {
   "cell_type": "raw",
   "metadata": {},
   "source": [
    "nba <- read.csv(\"nba_2013.csv\")\n",
    "trainRowCount <- floor(0.8 * nrow(nba))\n",
    "set.seed(1)\n",
    "trainIndex <- sample(1:nrow(nba), trainRowCount)\n",
    "train <- nba[trainIndex,]\n",
    "test <- nba[-trainIndex,]"
   ]
  },
  {
   "cell_type": "code",
   "execution_count": 4,
   "metadata": {
    "collapsed": true
   },
   "outputs": [],
   "source": [
    "import pandas\n",
    "nba = pandas.read_csv(\"nba_2013.csv\")\n",
    "\n",
    "train = nba.sample(frac=0.8, random_state=1)\n",
    "test = nba.loc[~nba.index.isin(train.index)]"
   ]
  },
  {
   "cell_type": "markdown",
   "metadata": {},
   "source": [
    "Notice that R has more data analysis focused built-in functions, like `floor`, `sample`, and `set.seed`, whereas these are called through packages in Python (math.floor, random.sample, random.seed). "
   ]
  },
  {
   "cell_type": "markdown",
   "metadata": {},
   "source": [
    "# Data Preparation & Basic Functionality\n",
    "\n",
    "Regardless of the language you use, its ability to handle, read, and clean is crucial to the field of data science. In this section we'll review the different ways each language handles basic data preparation. \n",
    "\n",
    "## Reading the Data\n",
    "\n",
    "The data is located within a csv file, so we'll start off by reading the data so that we can we can perform analysis later in this tutorial.\n",
    "\n",
    "### CSV Files\n",
    "\n",
    "The following snippet of code uses the pandas module to easily open and read the file.\n"
   ]
  },
  {
   "cell_type": "code",
   "execution_count": 1,
   "metadata": {
    "collapsed": true
   },
   "outputs": [],
   "source": [
    "import pandas\n",
    "nba = pandas.read_csv(\"nba_2013.csv\")"
   ]
  },
  {
   "cell_type": "markdown",
   "metadata": {},
   "source": [
    "Meanwhile, in R, we can do this in one line:"
   ]
  },
  {
   "cell_type": "code",
   "execution_count": 6,
   "metadata": {
    "collapsed": true
   },
   "outputs": [],
   "source": [
    "nba <- read.csv(\"nba_2013.csv\")"
   ]
  },
  {
   "cell_type": "markdown",
   "metadata": {},
   "source": [
    "The only real difference is that in Python, we need to import the pandas library to get access to Dataframes. Dataframes are available in both R and Python, and are two-dimensional arrays (matrices) where each column can be of a different datatype. At the end of this step, the csv file has been loaded by both languages into a dataframe."
   ]
  },
  {
   "cell_type": "markdown",
   "metadata": {},
   "source": [
    "### Viewing the Data\n",
    "\n",
    "Now, let's take a look at the actual data through Python and R functionality. First, let's take a look at the header column and its first 5 rows.\n",
    "\n",
    "In Python, we do this with: "
   ]
  },
  {
   "cell_type": "code",
   "execution_count": 2,
   "metadata": {},
   "outputs": [
    {
     "data": {
      "text/html": [
       "<div>\n",
       "<style>\n",
       "    .dataframe thead tr:only-child th {\n",
       "        text-align: right;\n",
       "    }\n",
       "\n",
       "    .dataframe thead th {\n",
       "        text-align: left;\n",
       "    }\n",
       "\n",
       "    .dataframe tbody tr th {\n",
       "        vertical-align: top;\n",
       "    }\n",
       "</style>\n",
       "<table border=\"1\" class=\"dataframe\">\n",
       "  <thead>\n",
       "    <tr style=\"text-align: right;\">\n",
       "      <th></th>\n",
       "      <th>player</th>\n",
       "      <th>pos</th>\n",
       "      <th>age</th>\n",
       "      <th>bref_team_id</th>\n",
       "      <th>g</th>\n",
       "      <th>gs</th>\n",
       "      <th>mp</th>\n",
       "      <th>fg</th>\n",
       "      <th>fga</th>\n",
       "      <th>fg.</th>\n",
       "      <th>...</th>\n",
       "      <th>drb</th>\n",
       "      <th>trb</th>\n",
       "      <th>ast</th>\n",
       "      <th>stl</th>\n",
       "      <th>blk</th>\n",
       "      <th>tov</th>\n",
       "      <th>pf</th>\n",
       "      <th>pts</th>\n",
       "      <th>season</th>\n",
       "      <th>season_end</th>\n",
       "    </tr>\n",
       "  </thead>\n",
       "  <tbody>\n",
       "    <tr>\n",
       "      <th>0</th>\n",
       "      <td>Quincy Acy</td>\n",
       "      <td>SF</td>\n",
       "      <td>23</td>\n",
       "      <td>TOT</td>\n",
       "      <td>63</td>\n",
       "      <td>0</td>\n",
       "      <td>847</td>\n",
       "      <td>66</td>\n",
       "      <td>141</td>\n",
       "      <td>0.468</td>\n",
       "      <td>...</td>\n",
       "      <td>144</td>\n",
       "      <td>216</td>\n",
       "      <td>28</td>\n",
       "      <td>23</td>\n",
       "      <td>26</td>\n",
       "      <td>30</td>\n",
       "      <td>122</td>\n",
       "      <td>171</td>\n",
       "      <td>2013-2014</td>\n",
       "      <td>2013</td>\n",
       "    </tr>\n",
       "    <tr>\n",
       "      <th>1</th>\n",
       "      <td>Steven Adams</td>\n",
       "      <td>C</td>\n",
       "      <td>20</td>\n",
       "      <td>OKC</td>\n",
       "      <td>81</td>\n",
       "      <td>20</td>\n",
       "      <td>1197</td>\n",
       "      <td>93</td>\n",
       "      <td>185</td>\n",
       "      <td>0.503</td>\n",
       "      <td>...</td>\n",
       "      <td>190</td>\n",
       "      <td>332</td>\n",
       "      <td>43</td>\n",
       "      <td>40</td>\n",
       "      <td>57</td>\n",
       "      <td>71</td>\n",
       "      <td>203</td>\n",
       "      <td>265</td>\n",
       "      <td>2013-2014</td>\n",
       "      <td>2013</td>\n",
       "    </tr>\n",
       "    <tr>\n",
       "      <th>2</th>\n",
       "      <td>Jeff Adrien</td>\n",
       "      <td>PF</td>\n",
       "      <td>27</td>\n",
       "      <td>TOT</td>\n",
       "      <td>53</td>\n",
       "      <td>12</td>\n",
       "      <td>961</td>\n",
       "      <td>143</td>\n",
       "      <td>275</td>\n",
       "      <td>0.520</td>\n",
       "      <td>...</td>\n",
       "      <td>204</td>\n",
       "      <td>306</td>\n",
       "      <td>38</td>\n",
       "      <td>24</td>\n",
       "      <td>36</td>\n",
       "      <td>39</td>\n",
       "      <td>108</td>\n",
       "      <td>362</td>\n",
       "      <td>2013-2014</td>\n",
       "      <td>2013</td>\n",
       "    </tr>\n",
       "    <tr>\n",
       "      <th>3</th>\n",
       "      <td>Arron Afflalo</td>\n",
       "      <td>SG</td>\n",
       "      <td>28</td>\n",
       "      <td>ORL</td>\n",
       "      <td>73</td>\n",
       "      <td>73</td>\n",
       "      <td>2552</td>\n",
       "      <td>464</td>\n",
       "      <td>1011</td>\n",
       "      <td>0.459</td>\n",
       "      <td>...</td>\n",
       "      <td>230</td>\n",
       "      <td>262</td>\n",
       "      <td>248</td>\n",
       "      <td>35</td>\n",
       "      <td>3</td>\n",
       "      <td>146</td>\n",
       "      <td>136</td>\n",
       "      <td>1330</td>\n",
       "      <td>2013-2014</td>\n",
       "      <td>2013</td>\n",
       "    </tr>\n",
       "    <tr>\n",
       "      <th>4</th>\n",
       "      <td>Alexis Ajinca</td>\n",
       "      <td>C</td>\n",
       "      <td>25</td>\n",
       "      <td>NOP</td>\n",
       "      <td>56</td>\n",
       "      <td>30</td>\n",
       "      <td>951</td>\n",
       "      <td>136</td>\n",
       "      <td>249</td>\n",
       "      <td>0.546</td>\n",
       "      <td>...</td>\n",
       "      <td>183</td>\n",
       "      <td>277</td>\n",
       "      <td>40</td>\n",
       "      <td>23</td>\n",
       "      <td>46</td>\n",
       "      <td>63</td>\n",
       "      <td>187</td>\n",
       "      <td>328</td>\n",
       "      <td>2013-2014</td>\n",
       "      <td>2013</td>\n",
       "    </tr>\n",
       "  </tbody>\n",
       "</table>\n",
       "<p>5 rows × 31 columns</p>\n",
       "</div>"
      ],
      "text/plain": [
       "          player pos  age bref_team_id   g  gs    mp   fg   fga    fg.  \\\n",
       "0     Quincy Acy  SF   23          TOT  63   0   847   66   141  0.468   \n",
       "1   Steven Adams   C   20          OKC  81  20  1197   93   185  0.503   \n",
       "2    Jeff Adrien  PF   27          TOT  53  12   961  143   275  0.520   \n",
       "3  Arron Afflalo  SG   28          ORL  73  73  2552  464  1011  0.459   \n",
       "4  Alexis Ajinca   C   25          NOP  56  30   951  136   249  0.546   \n",
       "\n",
       "      ...      drb  trb  ast  stl  blk  tov   pf   pts     season  season_end  \n",
       "0     ...      144  216   28   23   26   30  122   171  2013-2014        2013  \n",
       "1     ...      190  332   43   40   57   71  203   265  2013-2014        2013  \n",
       "2     ...      204  306   38   24   36   39  108   362  2013-2014        2013  \n",
       "3     ...      230  262  248   35    3  146  136  1330  2013-2014        2013  \n",
       "4     ...      183  277   40   23   46   63  187   328  2013-2014        2013  \n",
       "\n",
       "[5 rows x 31 columns]"
      ]
     },
     "execution_count": 2,
     "metadata": {},
     "output_type": "execute_result"
    }
   ],
   "source": [
    "nba.head(5)"
   ]
  },
  {
   "cell_type": "markdown",
   "metadata": {},
   "source": [
    "Similarly, in R: "
   ]
  },
  {
   "cell_type": "code",
   "execution_count": 7,
   "metadata": {},
   "outputs": [
    {
     "data": {
      "text/html": [
       "<table>\n",
       "<thead><tr><th scope=col>player</th><th scope=col>pos</th><th scope=col>age</th><th scope=col>bref_team_id</th><th scope=col>g</th><th scope=col>gs</th><th scope=col>mp</th><th scope=col>fg</th><th scope=col>fga</th><th scope=col>fg.</th><th scope=col>⋯</th><th scope=col>drb</th><th scope=col>trb</th><th scope=col>ast</th><th scope=col>stl</th><th scope=col>blk</th><th scope=col>tov</th><th scope=col>pf</th><th scope=col>pts</th><th scope=col>season</th><th scope=col>season_end</th></tr></thead>\n",
       "<tbody>\n",
       "\t<tr><td>Quincy Acy   </td><td>SF           </td><td>23           </td><td>TOT          </td><td>63           </td><td> 0           </td><td> 847         </td><td> 66          </td><td> 141         </td><td>0.468        </td><td>⋯            </td><td>144          </td><td>216          </td><td> 28          </td><td>23           </td><td>26           </td><td> 30          </td><td>122          </td><td> 171         </td><td>2013-2014    </td><td>2013         </td></tr>\n",
       "\t<tr><td>Steven Adams </td><td>C            </td><td>20           </td><td>OKC          </td><td>81           </td><td>20           </td><td>1197         </td><td> 93          </td><td> 185         </td><td>0.503        </td><td>⋯            </td><td>190          </td><td>332          </td><td> 43          </td><td>40           </td><td>57           </td><td> 71          </td><td>203          </td><td> 265         </td><td>2013-2014    </td><td>2013         </td></tr>\n",
       "\t<tr><td>Jeff Adrien  </td><td>PF           </td><td>27           </td><td>TOT          </td><td>53           </td><td>12           </td><td> 961         </td><td>143          </td><td> 275         </td><td>0.520        </td><td>⋯            </td><td>204          </td><td>306          </td><td> 38          </td><td>24           </td><td>36           </td><td> 39          </td><td>108          </td><td> 362         </td><td>2013-2014    </td><td>2013         </td></tr>\n",
       "\t<tr><td>Arron Afflalo</td><td>SG           </td><td>28           </td><td>ORL          </td><td>73           </td><td>73           </td><td>2552         </td><td>464          </td><td>1011         </td><td>0.459        </td><td>⋯            </td><td>230          </td><td>262          </td><td>248          </td><td>35           </td><td> 3           </td><td>146          </td><td>136          </td><td>1330         </td><td>2013-2014    </td><td>2013         </td></tr>\n",
       "\t<tr><td>Alexis Ajinca</td><td>C            </td><td>25           </td><td>NOP          </td><td>56           </td><td>30           </td><td> 951         </td><td>136          </td><td> 249         </td><td>0.546        </td><td>⋯            </td><td>183          </td><td>277          </td><td> 40          </td><td>23           </td><td>46           </td><td> 63          </td><td>187          </td><td> 328         </td><td>2013-2014    </td><td>2013         </td></tr>\n",
       "</tbody>\n",
       "</table>\n"
      ],
      "text/latex": [
       "\\begin{tabular}{r|lllllllllllllllllllllllllllllll}\n",
       " player & pos & age & bref\\_team\\_id & g & gs & mp & fg & fga & fg. & ⋯ & drb & trb & ast & stl & blk & tov & pf & pts & season & season\\_end\\\\\n",
       "\\hline\n",
       "\t Quincy Acy    & SF            & 23            & TOT           & 63            &  0            &  847          &  66           &  141          & 0.468         & ⋯             & 144           & 216           &  28           & 23            & 26            &  30           & 122           &  171          & 2013-2014     & 2013         \\\\\n",
       "\t Steven Adams  & C             & 20            & OKC           & 81            & 20            & 1197          &  93           &  185          & 0.503         & ⋯             & 190           & 332           &  43           & 40            & 57            &  71           & 203           &  265          & 2013-2014     & 2013         \\\\\n",
       "\t Jeff Adrien   & PF            & 27            & TOT           & 53            & 12            &  961          & 143           &  275          & 0.520         & ⋯             & 204           & 306           &  38           & 24            & 36            &  39           & 108           &  362          & 2013-2014     & 2013         \\\\\n",
       "\t Arron Afflalo & SG            & 28            & ORL           & 73            & 73            & 2552          & 464           & 1011          & 0.459         & ⋯             & 230           & 262           & 248           & 35            &  3            & 146           & 136           & 1330          & 2013-2014     & 2013         \\\\\n",
       "\t Alexis Ajinca & C             & 25            & NOP           & 56            & 30            &  951          & 136           &  249          & 0.546         & ⋯             & 183           & 277           &  40           & 23            & 46            &  63           & 187           &  328          & 2013-2014     & 2013         \\\\\n",
       "\\end{tabular}\n"
      ],
      "text/markdown": [
       "\n",
       "player | pos | age | bref_team_id | g | gs | mp | fg | fga | fg. | ⋯ | drb | trb | ast | stl | blk | tov | pf | pts | season | season_end | \n",
       "|---|---|---|---|---|\n",
       "| Quincy Acy    | SF            | 23            | TOT           | 63            |  0            |  847          |  66           |  141          | 0.468         | ⋯             | 144           | 216           |  28           | 23            | 26            |  30           | 122           |  171          | 2013-2014     | 2013          | \n",
       "| Steven Adams  | C             | 20            | OKC           | 81            | 20            | 1197          |  93           |  185          | 0.503         | ⋯             | 190           | 332           |  43           | 40            | 57            |  71           | 203           |  265          | 2013-2014     | 2013          | \n",
       "| Jeff Adrien   | PF            | 27            | TOT           | 53            | 12            |  961          | 143           |  275          | 0.520         | ⋯             | 204           | 306           |  38           | 24            | 36            |  39           | 108           |  362          | 2013-2014     | 2013          | \n",
       "| Arron Afflalo | SG            | 28            | ORL           | 73            | 73            | 2552          | 464           | 1011          | 0.459         | ⋯             | 230           | 262           | 248           | 35            |  3            | 146           | 136           | 1330          | 2013-2014     | 2013          | \n",
       "| Alexis Ajinca | C             | 25            | NOP           | 56            | 30            |  951          | 136           |  249          | 0.546         | ⋯             | 183           | 277           |  40           | 23            | 46            |  63           | 187           |  328          | 2013-2014     | 2013          | \n",
       "\n",
       "\n"
      ],
      "text/plain": [
       "  player        pos age bref_team_id g  gs mp   fg  fga  fg.   ⋯ drb trb ast\n",
       "1 Quincy Acy    SF  23  TOT          63  0  847  66  141 0.468 ⋯ 144 216  28\n",
       "2 Steven Adams  C   20  OKC          81 20 1197  93  185 0.503 ⋯ 190 332  43\n",
       "3 Jeff Adrien   PF  27  TOT          53 12  961 143  275 0.520 ⋯ 204 306  38\n",
       "4 Arron Afflalo SG  28  ORL          73 73 2552 464 1011 0.459 ⋯ 230 262 248\n",
       "5 Alexis Ajinca C   25  NOP          56 30  951 136  249 0.546 ⋯ 183 277  40\n",
       "  stl blk tov pf  pts  season    season_end\n",
       "1 23  26   30 122  171 2013-2014 2013      \n",
       "2 40  57   71 203  265 2013-2014 2013      \n",
       "3 24  36   39 108  362 2013-2014 2013      \n",
       "4 35   3  146 136 1330 2013-2014 2013      \n",
       "5 23  46   63 187  328 2013-2014 2013      "
      ]
     },
     "metadata": {},
     "output_type": "display_data"
    }
   ],
   "source": [
    "head(nba, 5)"
   ]
  },
  {
   "cell_type": "markdown",
   "metadata": {},
   "source": [
    "Pretty straightforward!"
   ]
  },
  {
   "cell_type": "markdown",
   "metadata": {},
   "source": [
    "### Simple Stats\n",
    "\n",
    "One very simple thing we can do in just one line is mean of each attribute:"
   ]
  },
  {
   "cell_type": "code",
   "execution_count": null,
   "metadata": {
    "collapsed": true
   },
   "outputs": [],
   "source": [
    "nba.mean()"
   ]
  },
  {
   "cell_type": "raw",
   "metadata": {
    "collapsed": true
   },
   "source": [
    "sapply(nba, mean, na.rm=TRUE)"
   ]
  },
  {
   "cell_type": "markdown",
   "metadata": {},
   "source": [
    "In both, we’re applying a function across the dataframe columns. But in python, the mean method on dataframes will find the mean of each column by default.\n",
    "\n",
    "In R, taking the mean of string values will just result in NA – not available. However, we do need to ignore NA values when we take the mean (requiring us to pass na.rm=TRUE into the mean function). If we don’t, we end up with NA for the mean of columns like x3p.. This column is three point percentage. Some players didn’t take three point shots, so their percentage is missing. If we try the mean function in R, we get NA as a response, unless we specify na.rm=TRUE, which ignores NA values when taking the mean. The `.mean()` method in Python already ignores these values by default."
   ]
  },
  {
   "cell_type": "markdown",
   "metadata": {},
   "source": [
    "### Selecting Specific Columns\n",
    "\n",
    "After loading data into a DataFrame, its dimensions can be found using the `dim(sample)` command. Column names can be found using"
   ]
  },
  {
   "cell_type": "code",
   "execution_count": 10,
   "metadata": {},
   "outputs": [
    {
     "data": {
      "text/plain": [
       "NULL"
      ]
     },
     "metadata": {},
     "output_type": "display_data"
    }
   ],
   "source": [
    "names(sample)"
   ]
  },
  {
   "cell_type": "markdown",
   "metadata": {},
   "source": [
    "In R, the `$` operator is used to select a specific column of the DataFrame. The following example shows a `mean` operation on `salary` column of the DataFrame:"
   ]
  },
  {
   "cell_type": "code",
   "execution_count": 13,
   "metadata": {},
   "outputs": [
    {
     "data": {
      "text/html": [
       "26.5093555093555"
      ],
      "text/latex": [
       "26.5093555093555"
      ],
      "text/markdown": [
       "26.5093555093555"
      ],
      "text/plain": [
       "[1] 26.50936"
      ]
     },
     "metadata": {},
     "output_type": "display_data"
    }
   ],
   "source": [
    "mean(nba$age)"
   ]
  },
  {
   "cell_type": "markdown",
   "metadata": {},
   "source": [
    "# Final Words\n",
    "\n",
    "Both Python and R have their own strengths and weaknesses. As we'll go into soon, Python is a much more dynamic language whereas R has great statistical support. Combining both language's strengths and weaknesses is the ideal scenario - we'll go into what that looks like soon. \n",
    "\n",
    "### R Statistical Support\n",
    "\n",
    "R was built as a statistical language, and it shows. `statsmodels` in Python and other packages provide decent coverage for statistical methods, but the R ecosystem is far larger. R has a rich ecosystem of cutting-edge packages and active community. Packages are available at CRAN, BioConductor and Github. You can search through all R packages at Rdocumentation.\n",
    "\n",
    "### Python Non-Statistical Support\n",
    "\n",
    "Python is a general purpose language that is easy and intuitive. This gives it a relatively flat learning curve, and it increases the speed at which you can write a program.\n",
    "\n",
    "Furthermore, the Python testing framework is a built-in, low-barrier-to-entry testing framework that encourages good test coverage. This guarantees your code is reusable and dependable.\n",
    "\n",
    "### Visualizations\n",
    "\n",
    "Visualizations are an important criteria when choosing data analysis software. Although Python has some nice visualization libraries, such as Seaborn, Bokeh and Pygal, there are maybe too many options to choose from. Moreover, compared to R, visualizations are usually more convoluted, and the results are not always so pleasing to the eye.\n",
    "\n",
    "In R, visualized data can often be understood more efficiently and effectively than the raw numbers alone. R and visualization are a perfect match. Some must-see visualization packages are ggplot2, ggvis, googleVis and rCharts.\n",
    "\n",
    "### Speed\n",
    "\n",
    "R was developed for statisticians, so its code is not necessarily the most efficient. Although R can be experienced as slow, there are multiple packages to improve R’s performance: pqR, renjin and FastR, Riposte and more.\n",
    "\n",
    "\n",
    "### When do we use each then? \n",
    "\n",
    "#### Python \n",
    "\n",
    "Use Python when your data analysis needs to be integrated with web apps or if your statistical code needs to be incorporated into a production database. Being a dynamic programming language, it’s a great tool to implement algorithms for production use. If your data analysis needs integration with a web application or database, Python is probably your best bet. Compared to R, the support for these sorts of application is much better since it's more of a general-purpose language. \n",
    "\n",
    "#### R \n",
    "\n",
    "R is mainly for when the data analysis task requires standalone computing. It’s great for exploratory work and for almost any type of data analysis because of the huge number of packages and readily usable tests that often provide you with the necessary tools to get up and running quickly. R can even be part of a big data solution.\n",
    "\n",
    "When getting started with R, a good first step is to install RStudio. Once this is done, you should continue to have a look at the following packages:\n",
    "\n",
    "- dplyr, plyr and data.table to easily manipulate packages,\n",
    "- stringr to manipulate strings,\n",
    "- zoo to work with regular and irregular time series,\n",
    "- ggvis, lattice, and ggplot2 to visualize data, and\n",
    "- caret for machine learning\n"
   ]
  }
 ],
 "metadata": {
  "kernelspec": {
   "display_name": "Python 3",
   "language": "python",
   "name": "python3"
  },
  "language_info": {
   "codemirror_mode": {
    "name": "ipython",
    "version": 3
   },
   "file_extension": ".py",
   "mimetype": "text/x-python",
   "name": "python",
   "nbconvert_exporter": "python",
   "pygments_lexer": "ipython3",
   "version": "3.6.1"
  }
 },
 "nbformat": 4,
 "nbformat_minor": 2
}
