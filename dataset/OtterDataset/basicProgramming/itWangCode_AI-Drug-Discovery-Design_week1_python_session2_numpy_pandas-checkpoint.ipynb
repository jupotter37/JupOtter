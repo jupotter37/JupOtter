{
 "cells": [
  {
   "cell_type": "markdown",
   "metadata": {
    "toc-hr-collapsed": false
   },
   "source": [
    "# 人工智能在医学中的应用：数据科学--基础2\n",
    "\n",
    "## Python 编程：\"numpy\" 和 \"pandas\"\n",
    "\n",
    "- 讲师：itwangyang (itwangyang@gmail.com)\n",
    "\n",
    "- 目标受众：医学生\n",
    "\n",
    "- 课程日期：2024 年 09 月 13 日"
   ]
  },
  {
   "cell_type": "markdown",
   "metadata": {},
   "source": [
    "## 1.学习目标\n",
    "\n",
    "在本次学习中，您将接触到**数据科学。您将使用**Python软件包 \"numpy \"和 \"pandas\"，加载并处理COVID-19数据集。"
   ]
  },
  {
   "cell_type": "markdown",
   "metadata": {},
   "source": [
    "## 2.学习目标\n",
    "#### 理论\n",
    "* 数据科学\n",
    "* `numpy` 库\n",
    "* `pandas`库\n",
    "### 实用\n",
    "- 1.数据集\n",
    "- 2.用 `pandas` 作为 `DataFrame` 读取数据\n",
    "- 3.查看数据\n",
    "- 4.选择列\n",
    "- 5.获取列中的唯一条目\n",
    "- 6.选择行\n",
    "- 7.分组数据"
   ]
  },
  {
   "cell_type": "markdown",
   "metadata": {},
   "source": [
    "## 3.参考文献\n",
    "\n",
    "- 数据科学、机器学习、人工智能\n",
    "    - http://varianceexplained.org/r/ds-ml-ai/\n",
    "- 向量、矩阵、张量\n",
    "    - https://www.quantstart.com/articles/scalars-vectors-matrices-and-tensors-linear-algebra-for-deep-learning-part-1/\n",
    "    - https://dev.to/mmithrakumar/scalars-vectors-matrices-and-tensors-with-tensorflow-2-0-1f66\n",
    "- `numpy`\n",
    "    - https://numpy.org/doc/stable/user/absolute_beginners.html\n",
    "    - https://scipy-lectures.org/intro/numpy/array_object.html\n",
    "- `pandas`\n",
    "    - https://medium.com/dunder-data/how-to-learn-pandas-108905ab4955\n",
    "    - https://www.shanelynn.ie/select-pandas-dataframe-rows-and-columns-using-iloc-loc-and-ix/#iloc-selection\n",
    "    - https://medium.com/dunder-data/selecting-subsets-of-data-in-pandas-6fcd0170be9c\n",
    "- 数据集\n",
    "    - COVID-19 病例：[原始 RKI 数据](https://opendata.arcgis.com/datasets/dd4580c810204019a7b8eb3e0b329dd6_0.csv)\n",
    "    - 德国疫苗接种进展情况：[原始 RKI 数据](https://www.rki.de/DE/Content/InfAZ/N/Neuartiges_Coronavirus/Daten/Impfquoten-Tab.html) 和[处理后数据](https://github.com/ard-data/2020-rki-impf-archive)\n",
    "- 数据可视化\n",
    "    - RKI COVID-19 面板][https://corona.rki.de/]\n",
    "    - [COVID-19 柏林各区案例 > Bezirke > Übersicht](https://www.berlin.de/corona/lagebericht/)\n",
    "    - [疫苗接种仪表板](https://impfdashboard.de/)"
   ]
  },
  {
   "cell_type": "markdown",
   "metadata": {},
   "source": [
    "## 4.理论"
   ]
  },
  {
   "cell_type": "markdown",
   "metadata": {},
   "source": [
    "#### 数据科学"
   ]
  },
  {
   "cell_type": "markdown",
   "metadata": {},
   "source": [
    "#### 数据科学、机器学习和人工智能之间有什么区别？\n",
    "\n",
    "改编自 [David Robinson 的博文](http://varianceexplained.org/r/ds-ml-ai/)。\n",
    "\n",
    "数据科学、机器学习和人工智能领域确实有很多***重叠之处，但它们***不能互换。"
   ]
  },
  {
   "cell_type": "markdown",
   "metadata": {},
   "source": [
    "#### **数据科学**产生**见解**\n",
    "- \"普通患者的存活几率为 70%\"（描述性：描述数据集）\n",
    "- \"不同的病人有不同的存活几率\"（探索性：发现你不知道的关系）\n",
    "- 随机实验表明，分配给 Alice 的病人比分配给 Bob 的病人更有可能存活\"（相关性：找出一个变量在另一个变量发生变化时的情况）"
   ]
  },
  {
   "cell_type": "markdown",
   "metadata": {},
   "source": [
    "#### **机器学习**（ML）产生**预测**\n",
    "\n",
    "- \"预测这名患者是否会患上败血症\"\n",
    "- \"预测这张图片中是否有一只鸟\""
   ]
  },
  {
   "cell_type": "markdown",
   "metadata": {},
   "source": [
    "#### **人工智能**（AI）产生**行动**\n",
    "\n",
    "- 游戏算法（深蓝、AlphaGo）\n",
    "- 机器人学和控制理论（运动规划、双足机器人行走）\n",
    "- 优化（谷歌地图选择路线）"
   ]
  },
  {
   "cell_type": "markdown",
   "metadata": {},
   "source": [
    "### `numpy` 库"
   ]
  },
  {
   "cell_type": "markdown",
   "metadata": {},
   "source": [
    "#### 概览\n",
    "\n",
    "* 角色：科学计算（使用阵列）\n",
    "* 网站： https://numpy.org/\n",
    "* 说明（摘自 [此处](https://numpy.org/doc/stable/user/absolute_beginners.html)）：\n",
    "> NumPy (Numerical Python) is an open source Python library that’s used in almost every field of science and engineering. It’s the universal standard for working with numerical data in Python, and it’s at the core of the scientific Python and PyData ecosystems. NumPy users include everyone from beginning coders to experienced researchers doing state-of-the-art scientific and industrial research and development. The NumPy API is used extensively in Pandas, SciPy, Matplotlib, scikit-learn, scikit-image and most other data science and scientific Python packages.\n",
    "* 文献资料：https://numpy.org/devdocs/"
   ]
  },
  {
   "cell_type": "markdown",
   "metadata": {},
   "source": [
    "#### 应用\n",
    "\n",
    "- 以数组形式创建向量（一维）、矩阵（二维）和张量（>=三维）\n",
    "- 使用大量高级数学函数对这些数组进行操作\n",
    "- 在 \"pandas\"、\"scipy\"、\"matplotlib\"、\"scikit-learn \"和大多数其他数据科学和科学 Python 软件包中广泛使用\n",
    "![](https://res.cloudinary.com/practicaldev/image/fetch/s--oTgfo1EL--/c_limit%2Cf_auto%2Cfl_progressive%2Cq_auto%2Cw_880/https://raw.githubusercontent.com/adhiraiyan/DeepLearningWithTF2.0/master/notebooks/figures/fig0201a.png)\n",
    "\n",
    "图源：https://dev.to/mmithrakumar/scalars-vectors-matrices-and-tensors-with-tensorflow-2-0-1f66"
   ]
  },
  {
   "cell_type": "markdown",
   "metadata": {},
   "source": [
    "### `pandas` 库"
   ]
  },
  {
   "cell_type": "markdown",
   "metadata": {},
   "source": [
    "#### 概览\n",
    "\n",
    "* 角色：数据处理和分析\n",
    "* 网站： https://pandas.pydata.org/\n",
    "* 说明（摘自 [此处](https://pandas.pydata.org/)）：\n",
    "> pandas is a fast, powerful, flexible and easy to use open source data analysis and manipulation tool,\n",
    "built on top of the Python programming language.\n",
    "* 文档：https://pandas.pydata.org/pandas-docs/stable/"
   ]
  },
  {
   "cell_type": "markdown",
   "metadata": {},
   "source": [
    "#### 应用\n",
    "\n",
    "摘自：https://medium.com/dunder-data/how-to-learn-pandas-108905ab4955\n",
    "\n",
    "> `pandas` 可以完成许多任务，包括\n",
    "\n",
    ">\n",
    "\n",
    "> 读取/写入多种不同的数据格式\n",
    "\n",
    "> 选择数据子集\n",
    "\n",
    "> 跨行和跨列计算\n",
    "\n",
    "> 查找和填补缺失数据\n",
    "\n",
    "> 对数据中的独立组进行操作\n",
    "\n",
    "> 将数据重塑为不同的形式\n",
    "\n",
    "> 通过 matplotlib 和 seaborn 实现可视化"
   ]
  },
  {
   "cell_type": "markdown",
   "metadata": {},
   "source": [
    "#### `DataFrame`和`Series`。\n",
    "\n",
    "pandas \"库有两个主要的数据容器：\"DataFrame\"（二维）和 \"Series\"（一维）。\n",
    "\n",
    "- `DataFrame` [documentation](https://pandas.pydata.org/pandas-docs/stable/reference/api/pandas.DataFrame.html):\n",
    "  > Two-dimensional size-mutable, potentially heterogeneous tabular data structure with labeled axes (rows and columns). Arithmetic operations align on both row and column labels. Can be thought of as a dict-like container for Series objects. The primary pandas data structure\n",
    "- `Series` [documentation](https://pandas.pydata.org/pandas-docs/stable/reference/api/pandas.Series.html):\n",
    "  > One-dimensional ndarray with axis labels (including time series).\n",
    "\n",
    "\n",
    "数据帧 \"比 \"系列 \"使用得更多，让我们来看看它的组成部分。\n",
    "\n",
    "![DataFrame anatomy](https://raw.githubusercontent.com/volkamerlab/ai_in_medicine/master/images/dataframe_anatomy.png)\n",
    "\n",
    "图源：https://medium.com/dunder-data/selecting-subsets-of-data-in-pandas-6fcd0170be9c"
   ]
  },
  {
   "cell_type": "markdown",
   "metadata": {},
   "source": [
    "## 5.实用性"
   ]
  },
  {
   "cell_type": "markdown",
   "metadata": {},
   "source": [
    "<div class=\"alert alert-block alert-info\">\n",
    "    <b>我们的目标：</b>我们将介绍熊猫的所有功能，这些功能是我们按年龄组和地区可视化柏林 COVID-19 最新病例数所必需的。在了解了如何实现可视化之后，您将获得德国疫苗接种进展的最新数据，并亲自绘制首次/第二次疫苗接种的时间进程图。\n",
    "</div>"
   ]
  },
  {
   "cell_type": "markdown",
   "metadata": {},
   "source": [
    "### 5.1.数据集\n",
    "我们将使用罗伯特-科赫研究所（RKI）每天发布的 COVID-19 病例数据，这些数据在 RKI COVID-19 Dashboard(https://corona.rki.de) 上可以非常直观地显示出来。在本笔记本中，我们将重点关注柏林的数据。\n",
    "\n",
    "该数据集可在此处免费获取：我们可以通过以下网址将数据集直接加载到pandas中： https://opendata.arcgis.com/datasets/dd4580c810204019a7b8eb3e0b329dd6_0.csv"
   ]
  },
  {
   "cell_type": "markdown",
   "metadata": {},
   "source": [
    "### 5.2.用 `pandas` 作为 `DataFrame` 读取数据"
   ]
  },
  {
   "cell_type": "code",
   "execution_count": 1,
   "metadata": {
    "ExecuteTime": {
     "end_time": "2024-09-15T02:23:05.637433Z",
     "start_time": "2024-09-15T02:23:05.527316Z"
    }
   },
   "outputs": [],
   "source": [
    "import numpy as np\n",
    "import pandas as pd"
   ]
  },
  {
   "cell_type": "markdown",
   "metadata": {},
   "source": [
    "首先，我们导入库 `numpy` 和 `pandas`（缩写为 `np` 和 `pd`，这样我们就能写出更简短的代码）。库是一系列功能的集合，能让你在无需从头开始编写全部代码的情况下执行许多常见任务。\n",
    "\n",
    "例如，\"pandas \"库提供了 \"read_csv() \"函数，用于将逗号分隔值（csv）文件读入所谓的 \"数据帧\"。\n",
    "\n",
    "**提示**：您可以在本 Jupyter 笔记本中查看某个库的可用功能，方法是在库名后面写一个点，然后按 tab 键。所有可用功能都将弹出，供你探索。由于选项很多，你可以在弹出窗口时写上 \"阅读 \"等字样来缩小范围。\n",
    "\n",
    "**注意***：如果您使用的是 Google Colab，则必须首先在 \"工具\">\"设置\">\"编辑器 \"中禁用 \"自动触发代码补全\"，才能使用此功能。\n",
    "\n",
    "您可以通过 `pandas` 阅读所有可能的文件格式："
   ]
  },
  {
   "cell_type": "raw",
   "metadata": {},
   "source": [
    "pd.read  # 光标位于 \"pd.read \"之后时，按下制表符键"
   ]
  },
  {
   "cell_type": "markdown",
   "metadata": {},
   "source": [
    "如果我们执行（用 `Enter`）这个单元格，我们会得到一个 `AttributeError` 因为模块 `pandas` 不知道 `read()`。"
   ]
  },
  {
   "cell_type": "markdown",
   "metadata": {},
   "source": [
    "我们还可以使用 `?` 获取函数的 docstring，即关于该函数的作用和可以传递的参数类型的说明！"
   ]
  },
  {
   "cell_type": "raw",
   "metadata": {},
   "source": [
    "pd.read_csv?"
   ]
  },
  {
   "cell_type": "markdown",
   "metadata": {},
   "source": [
    "现在，我们将使用 `read_csv()` 函数（[参见文档](https://pandas.pydata.org/pandas-docs/stable/reference/api/pandas.read_csv.html)）将 csv 文件内容作为 `DataFrame` 加载到变量 `data_raw` 中。"
   ]
  },
  {
   "cell_type": "code",
   "execution_count": 2,
   "metadata": {
    "ExecuteTime": {
     "end_time": "2024-09-15T02:23:08.047686Z",
     "start_time": "2024-09-15T02:23:07.836399Z"
    }
   },
   "outputs": [
    {
     "name": "stdout",
     "output_type": "stream",
     "text": [
      "CPU times: user 154 ms, sys: 38.7 ms, total: 193 ms\n",
      "Wall time: 201 ms\n"
     ]
    }
   ],
   "source": [
    "%%time\n",
    "# `read_csv`可以读取计算机中的路径，也可以读取互联网 URL！\n",
    "# 读取远程 csv 文件只需几秒钟\n",
    "data_raw = pd.read_csv(\"data/a08.csv\", sep=',')"
   ]
  },
  {
   "cell_type": "markdown",
   "metadata": {},
   "source": [
    "让我们来看看 `data_raw` 中的 `DataFrame` 。"
   ]
  },
  {
   "cell_type": "markdown",
   "metadata": {},
   "source": [
    "### 5.3.查看数据"
   ]
  },
  {
   "cell_type": "markdown",
   "metadata": {},
   "source": [
    "#### `DataFrame` 头/尾\n",
    "\n",
    "让我们使用 `head()` 函数（[参见文档](https://pandas.pydata.org/pandas-docs/stable/reference/api/pandas.DataFrame.head.html)）看看表格的前几行。\n",
    "\n",
    "**注意**：为了避免在本 Jupyter 笔记本中打印大型表格，我们会经常使用该命令。"
   ]
  },
  {
   "cell_type": "code",
   "execution_count": 3,
   "metadata": {
    "ExecuteTime": {
     "end_time": "2024-09-15T01:58:20.815468Z",
     "start_time": "2024-09-15T01:58:20.681847Z"
    }
   },
   "outputs": [
    {
     "data": {
      "text/html": [
       "<div>\n",
       "<style scoped>\n",
       "    .dataframe tbody tr th:only-of-type {\n",
       "        vertical-align: middle;\n",
       "    }\n",
       "\n",
       "    .dataframe tbody tr th {\n",
       "        vertical-align: top;\n",
       "    }\n",
       "\n",
       "    .dataframe thead th {\n",
       "        text-align: right;\n",
       "    }\n",
       "</style>\n",
       "<table border=\"1\" class=\"dataframe\">\n",
       "  <thead>\n",
       "    <tr style=\"text-align: right;\">\n",
       "      <th></th>\n",
       "      <th>IdBundesland</th>\n",
       "      <th>Bundesland</th>\n",
       "      <th>Landkreis</th>\n",
       "      <th>Altersgruppe</th>\n",
       "      <th>Geschlecht</th>\n",
       "      <th>AnzahlFall</th>\n",
       "      <th>AnzahlTodesfall</th>\n",
       "      <th>ObjectId</th>\n",
       "      <th>Meldedatum</th>\n",
       "      <th>IdLandkreis</th>\n",
       "      <th>Datenstand</th>\n",
       "      <th>NeuerFall</th>\n",
       "      <th>NeuerTodesfall</th>\n",
       "      <th>Refdatum</th>\n",
       "      <th>NeuGenesen</th>\n",
       "      <th>AnzahlGenesen</th>\n",
       "    </tr>\n",
       "  </thead>\n",
       "  <tbody>\n",
       "    <tr>\n",
       "      <th>0</th>\n",
       "      <td>3</td>\n",
       "      <td>Niedersachsen</td>\n",
       "      <td>LK Northeim</td>\n",
       "      <td>A80+</td>\n",
       "      <td>M</td>\n",
       "      <td>1</td>\n",
       "      <td>0</td>\n",
       "      <td>1025211</td>\n",
       "      <td>2020-04-04T00:00:00.000Z</td>\n",
       "      <td>3155</td>\n",
       "      <td>08.04.2020, 00:00 Uhr</td>\n",
       "      <td>0</td>\n",
       "      <td>-9</td>\n",
       "      <td>2020-04-04T00:00:00.000Z</td>\n",
       "      <td>-9</td>\n",
       "      <td>0</td>\n",
       "    </tr>\n",
       "    <tr>\n",
       "      <th>1</th>\n",
       "      <td>3</td>\n",
       "      <td>Niedersachsen</td>\n",
       "      <td>LK Peine</td>\n",
       "      <td>A00-A04</td>\n",
       "      <td>M</td>\n",
       "      <td>-1</td>\n",
       "      <td>0</td>\n",
       "      <td>1025212</td>\n",
       "      <td>2020-04-02T00:00:00.000Z</td>\n",
       "      <td>3157</td>\n",
       "      <td>08.04.2020, 00:00 Uhr</td>\n",
       "      <td>-1</td>\n",
       "      <td>-9</td>\n",
       "      <td>2020-04-02T00:00:00.000Z</td>\n",
       "      <td>-9</td>\n",
       "      <td>0</td>\n",
       "    </tr>\n",
       "    <tr>\n",
       "      <th>2</th>\n",
       "      <td>3</td>\n",
       "      <td>Niedersachsen</td>\n",
       "      <td>LK Peine</td>\n",
       "      <td>A05-A14</td>\n",
       "      <td>M</td>\n",
       "      <td>1</td>\n",
       "      <td>0</td>\n",
       "      <td>1025213</td>\n",
       "      <td>2020-03-28T00:00:00.000Z</td>\n",
       "      <td>3157</td>\n",
       "      <td>08.04.2020, 00:00 Uhr</td>\n",
       "      <td>0</td>\n",
       "      <td>-9</td>\n",
       "      <td>2020-03-25T00:00:00.000Z</td>\n",
       "      <td>1</td>\n",
       "      <td>1</td>\n",
       "    </tr>\n",
       "    <tr>\n",
       "      <th>3</th>\n",
       "      <td>3</td>\n",
       "      <td>Niedersachsen</td>\n",
       "      <td>LK Peine</td>\n",
       "      <td>A05-A14</td>\n",
       "      <td>M</td>\n",
       "      <td>1</td>\n",
       "      <td>0</td>\n",
       "      <td>1025214</td>\n",
       "      <td>2020-03-28T00:00:00.000Z</td>\n",
       "      <td>3157</td>\n",
       "      <td>08.04.2020, 00:00 Uhr</td>\n",
       "      <td>0</td>\n",
       "      <td>-9</td>\n",
       "      <td>2020-03-26T00:00:00.000Z</td>\n",
       "      <td>-9</td>\n",
       "      <td>0</td>\n",
       "    </tr>\n",
       "    <tr>\n",
       "      <th>4</th>\n",
       "      <td>3</td>\n",
       "      <td>Niedersachsen</td>\n",
       "      <td>LK Peine</td>\n",
       "      <td>A05-A14</td>\n",
       "      <td>W</td>\n",
       "      <td>1</td>\n",
       "      <td>0</td>\n",
       "      <td>1025215</td>\n",
       "      <td>2020-03-17T00:00:00.000Z</td>\n",
       "      <td>3157</td>\n",
       "      <td>08.04.2020, 00:00 Uhr</td>\n",
       "      <td>0</td>\n",
       "      <td>-9</td>\n",
       "      <td>2020-03-12T00:00:00.000Z</td>\n",
       "      <td>0</td>\n",
       "      <td>1</td>\n",
       "    </tr>\n",
       "  </tbody>\n",
       "</table>\n",
       "</div>"
      ],
      "text/plain": [
       "   IdBundesland     Bundesland    Landkreis Altersgruppe Geschlecht  \\\n",
       "0             3  Niedersachsen  LK Northeim         A80+          M   \n",
       "1             3  Niedersachsen     LK Peine      A00-A04          M   \n",
       "2             3  Niedersachsen     LK Peine      A05-A14          M   \n",
       "3             3  Niedersachsen     LK Peine      A05-A14          M   \n",
       "4             3  Niedersachsen     LK Peine      A05-A14          W   \n",
       "\n",
       "   AnzahlFall  AnzahlTodesfall  ObjectId                Meldedatum  \\\n",
       "0           1                0   1025211  2020-04-04T00:00:00.000Z   \n",
       "1          -1                0   1025212  2020-04-02T00:00:00.000Z   \n",
       "2           1                0   1025213  2020-03-28T00:00:00.000Z   \n",
       "3           1                0   1025214  2020-03-28T00:00:00.000Z   \n",
       "4           1                0   1025215  2020-03-17T00:00:00.000Z   \n",
       "\n",
       "   IdLandkreis             Datenstand  NeuerFall  NeuerTodesfall  \\\n",
       "0         3155  08.04.2020, 00:00 Uhr          0              -9   \n",
       "1         3157  08.04.2020, 00:00 Uhr         -1              -9   \n",
       "2         3157  08.04.2020, 00:00 Uhr          0              -9   \n",
       "3         3157  08.04.2020, 00:00 Uhr          0              -9   \n",
       "4         3157  08.04.2020, 00:00 Uhr          0              -9   \n",
       "\n",
       "                   Refdatum  NeuGenesen  AnzahlGenesen  \n",
       "0  2020-04-04T00:00:00.000Z          -9              0  \n",
       "1  2020-04-02T00:00:00.000Z          -9              0  \n",
       "2  2020-03-25T00:00:00.000Z           1              1  \n",
       "3  2020-03-26T00:00:00.000Z          -9              0  \n",
       "4  2020-03-12T00:00:00.000Z           0              1  "
      ]
     },
     "execution_count": 3,
     "metadata": {},
     "output_type": "execute_result"
    }
   ],
   "source": [
    "data_raw.head()  # Shows by default the first 5 entries"
   ]
  },
  {
   "cell_type": "markdown",
   "metadata": {},
   "source": [
    "让我们使用 `tail()` 函数（[参见文档](https://pandas.pydata.org/pandas-docs/stable/reference/api/pandas.DataFrame.tail.html)）看看表格的最后几行。请注意，您可以向 `head()` 和 `tail()` 函数传递一个数字，以指定要查看的第一行/最后一行的数量。"
   ]
  },
  {
   "cell_type": "code",
   "execution_count": 4,
   "metadata": {},
   "outputs": [
    {
     "data": {
      "text/html": [
       "<div>\n",
       "<style scoped>\n",
       "    .dataframe tbody tr th:only-of-type {\n",
       "        vertical-align: middle;\n",
       "    }\n",
       "\n",
       "    .dataframe tbody tr th {\n",
       "        vertical-align: top;\n",
       "    }\n",
       "\n",
       "    .dataframe thead th {\n",
       "        text-align: right;\n",
       "    }\n",
       "</style>\n",
       "<table border=\"1\" class=\"dataframe\">\n",
       "  <thead>\n",
       "    <tr style=\"text-align: right;\">\n",
       "      <th></th>\n",
       "      <th>IdBundesland</th>\n",
       "      <th>Bundesland</th>\n",
       "      <th>Landkreis</th>\n",
       "      <th>Altersgruppe</th>\n",
       "      <th>Geschlecht</th>\n",
       "      <th>AnzahlFall</th>\n",
       "      <th>AnzahlTodesfall</th>\n",
       "      <th>ObjectId</th>\n",
       "      <th>Meldedatum</th>\n",
       "      <th>IdLandkreis</th>\n",
       "      <th>Datenstand</th>\n",
       "      <th>NeuerFall</th>\n",
       "      <th>NeuerTodesfall</th>\n",
       "      <th>Refdatum</th>\n",
       "      <th>NeuGenesen</th>\n",
       "      <th>AnzahlGenesen</th>\n",
       "    </tr>\n",
       "  </thead>\n",
       "  <tbody>\n",
       "    <tr>\n",
       "      <th>76189</th>\n",
       "      <td>16</td>\n",
       "      <td>Thüringen</td>\n",
       "      <td>LK Greiz</td>\n",
       "      <td>A35-A59</td>\n",
       "      <td>M</td>\n",
       "      <td>1</td>\n",
       "      <td>0</td>\n",
       "      <td>1097209</td>\n",
       "      <td>2020-03-20T00:00:00.000Z</td>\n",
       "      <td>16076</td>\n",
       "      <td>08.04.2020, 00:00 Uhr</td>\n",
       "      <td>0</td>\n",
       "      <td>-9</td>\n",
       "      <td>2020-03-18T00:00:00.000Z</td>\n",
       "      <td>0</td>\n",
       "      <td>1</td>\n",
       "    </tr>\n",
       "    <tr>\n",
       "      <th>76190</th>\n",
       "      <td>16</td>\n",
       "      <td>Thüringen</td>\n",
       "      <td>LK Greiz</td>\n",
       "      <td>A35-A59</td>\n",
       "      <td>M</td>\n",
       "      <td>1</td>\n",
       "      <td>0</td>\n",
       "      <td>1097210</td>\n",
       "      <td>2020-03-22T00:00:00.000Z</td>\n",
       "      <td>16076</td>\n",
       "      <td>08.04.2020, 00:00 Uhr</td>\n",
       "      <td>0</td>\n",
       "      <td>-9</td>\n",
       "      <td>2020-03-10T00:00:00.000Z</td>\n",
       "      <td>0</td>\n",
       "      <td>1</td>\n",
       "    </tr>\n",
       "  </tbody>\n",
       "</table>\n",
       "</div>"
      ],
      "text/plain": [
       "       IdBundesland Bundesland Landkreis Altersgruppe Geschlecht  AnzahlFall  \\\n",
       "76189            16  Thüringen  LK Greiz      A35-A59          M           1   \n",
       "76190            16  Thüringen  LK Greiz      A35-A59          M           1   \n",
       "\n",
       "       AnzahlTodesfall  ObjectId                Meldedatum  IdLandkreis  \\\n",
       "76189                0   1097209  2020-03-20T00:00:00.000Z        16076   \n",
       "76190                0   1097210  2020-03-22T00:00:00.000Z        16076   \n",
       "\n",
       "                  Datenstand  NeuerFall  NeuerTodesfall  \\\n",
       "76189  08.04.2020, 00:00 Uhr          0              -9   \n",
       "76190  08.04.2020, 00:00 Uhr          0              -9   \n",
       "\n",
       "                       Refdatum  NeuGenesen  AnzahlGenesen  \n",
       "76189  2020-03-18T00:00:00.000Z           0              1  \n",
       "76190  2020-03-10T00:00:00.000Z           0              1  "
      ]
     },
     "execution_count": 4,
     "metadata": {},
     "output_type": "execute_result"
    }
   ],
   "source": [
    "data_raw.tail(2)"
   ]
  },
  {
   "cell_type": "markdown",
   "metadata": {},
   "source": [
    "#### `DataFrame` 维度\n",
    "\n",
    "让我们使用 `shape` 以 `（行数，列数）` 的形式显示表格的列数和行数（= 维度/形状）。"
   ]
  },
  {
   "cell_type": "code",
   "execution_count": 5,
   "metadata": {},
   "outputs": [
    {
     "data": {
      "text/plain": [
       "(76191, 16)"
      ]
     },
     "execution_count": 5,
     "metadata": {},
     "output_type": "execute_result"
    }
   ],
   "source": [
    "data_raw.shape"
   ]
  },
  {
   "cell_type": "markdown",
   "metadata": {},
   "source": [
    "#### `DataFrame` 列名\n",
    "\n",
    "我们可以使用 `columns`获取所有列名。"
   ]
  },
  {
   "cell_type": "code",
   "execution_count": 6,
   "metadata": {},
   "outputs": [
    {
     "data": {
      "text/plain": [
       "Index(['IdBundesland', 'Bundesland', 'Landkreis', 'Altersgruppe', 'Geschlecht',\n",
       "       'AnzahlFall', 'AnzahlTodesfall', 'ObjectId', 'Meldedatum',\n",
       "       'IdLandkreis', 'Datenstand', 'NeuerFall', 'NeuerTodesfall', 'Refdatum',\n",
       "       'NeuGenesen', 'AnzahlGenesen'],\n",
       "      dtype='object')"
      ]
     },
     "execution_count": 6,
     "metadata": {},
     "output_type": "execute_result"
    }
   ],
   "source": [
    "data_raw.columns"
   ]
  },
  {
   "cell_type": "markdown",
   "metadata": {},
   "source": [
    "Let's list here the meaning of a few criteria (see full list on [RKI COVID-19 data download website](https://www.arcgis.com/home/item.html?id=dd4580c810204019a7b8eb3e0b329dd6)):\n",
    "\n",
    "- `Bundesland`: State name\n",
    "- `Landkreis`: District name\n",
    "- `Altersgruppe`: Age group (6 groups: `0-4`, `5-14`, `15-34`, `35-59`, `60-79`, `80+` and `unbekannt`=unknown)\n",
    "- `Geschlecht`: Gender (`M`=male, `W`=female and `unbekannt`=unknown)\n",
    "- `AnzahlFall`: Number of cases in group\n",
    "- `AnzahlTodesfall`: Number of deaths in group\n",
    "- `AnzahlGenesen`: Number of recoveries cases in group\n",
    "- `Meldedatum`: Date when case was reported to the Gesundheitsamt (you will use this in the next lesson on data visualization with `matplotlib`)\n",
    "- `Datenstand`: Date when data was updated"
   ]
  },
  {
   "cell_type": "markdown",
   "metadata": {},
   "source": [
    "我们可以把 \"DataFrame \"看作是一个列表（每个列表可以包含不同的数据类型），它以表格的形式显示，并带有列名和索引名等元数据。"
   ]
  },
  {
   "cell_type": "code",
   "execution_count": 7,
   "metadata": {},
   "outputs": [
    {
     "data": {
      "text/plain": [
       "[['Helen', 20, 'female'], ['Paul', 25, 'male'], ['Kim', 35, 'female']]"
      ]
     },
     "execution_count": 7,
     "metadata": {},
     "output_type": "execute_result"
    }
   ],
   "source": [
    "list_of_lists = [['Helen', 20, 'female'], ['Paul', 25, 'male'], ['Kim', 35, 'female']]\n",
    "list_of_lists"
   ]
  },
  {
   "cell_type": "code",
   "execution_count": 8,
   "metadata": {},
   "outputs": [
    {
     "data": {
      "text/html": [
       "<div>\n",
       "<style scoped>\n",
       "    .dataframe tbody tr th:only-of-type {\n",
       "        vertical-align: middle;\n",
       "    }\n",
       "\n",
       "    .dataframe tbody tr th {\n",
       "        vertical-align: top;\n",
       "    }\n",
       "\n",
       "    .dataframe thead th {\n",
       "        text-align: right;\n",
       "    }\n",
       "</style>\n",
       "<table border=\"1\" class=\"dataframe\">\n",
       "  <thead>\n",
       "    <tr style=\"text-align: right;\">\n",
       "      <th></th>\n",
       "      <th>name</th>\n",
       "      <th>age</th>\n",
       "      <th>gender</th>\n",
       "    </tr>\n",
       "  </thead>\n",
       "  <tbody>\n",
       "    <tr>\n",
       "      <th>0</th>\n",
       "      <td>Helen</td>\n",
       "      <td>20</td>\n",
       "      <td>female</td>\n",
       "    </tr>\n",
       "    <tr>\n",
       "      <th>1</th>\n",
       "      <td>Paul</td>\n",
       "      <td>25</td>\n",
       "      <td>male</td>\n",
       "    </tr>\n",
       "    <tr>\n",
       "      <th>2</th>\n",
       "      <td>Kim</td>\n",
       "      <td>35</td>\n",
       "      <td>female</td>\n",
       "    </tr>\n",
       "  </tbody>\n",
       "</table>\n",
       "</div>"
      ],
      "text/plain": [
       "    name  age  gender\n",
       "0  Helen   20  female\n",
       "1   Paul   25    male\n",
       "2    Kim   35  female"
      ]
     },
     "execution_count": 8,
     "metadata": {},
     "output_type": "execute_result"
    }
   ],
   "source": [
    "pd.DataFrame(list_of_lists, columns=['name', 'age', 'gender'])"
   ]
  },
  {
   "cell_type": "markdown",
   "metadata": {},
   "source": [
    "#### _Your turn_：练习"
   ]
  },
  {
   "cell_type": "markdown",
   "metadata": {},
   "source": [
    "__Exercise 1__: 获取 (a) `data_raw` 中的前 4 行和 (b) 最后 5 行"
   ]
  },
  {
   "cell_type": "code",
   "execution_count": null,
   "metadata": {},
   "outputs": [],
   "source": []
  },
  {
   "cell_type": "markdown",
   "metadata": {},
   "source": [
    "__Exercise 2__: 获取 (a) `data_raw` 中的列数和 (b) 第三列名称"
   ]
  },
  {
   "cell_type": "code",
   "execution_count": null,
   "metadata": {},
   "outputs": [],
   "source": []
  },
  {
   "cell_type": "markdown",
   "metadata": {},
   "source": [
    "__Exercise 3__: 建立一个包含 4 个国家数据的 `DataFrame` ：\n",
    "\n",
    "- 国家名称\n",
    "- 您最喜欢的国家\n",
    "- 您去过那里吗？"
   ]
  },
  {
   "cell_type": "markdown",
   "metadata": {},
   "source": [
    "## ❤️接下来，我不想用中文了，我本来想锻炼自己的英语的，😭，你们就看英语吧❤️"
   ]
  },
  {
   "cell_type": "markdown",
   "metadata": {},
   "source": [
    "### 5.4 Select columns"
   ]
  },
  {
   "cell_type": "markdown",
   "metadata": {},
   "source": [
    "#### By column name"
   ]
  },
  {
   "cell_type": "markdown",
   "metadata": {},
   "source": [
    "Let's select some interesting columns! The `DataFrame` is quite large and we are only interested in a subset of the offered criteria. With `pandas`, it is very easy to slice the columns that you want by the following syntax:\n",
    "\n",
    "```python\n",
    "data_raw[list_of_interesting_columns]\n",
    "```\n",
    "\n",
    "The list of column names of interest could look like this:\n",
    "```python\n",
    "list_of_interesting_columns = ['Bundesland', 'Landkreis']\n",
    "```\n",
    "\n",
    "Taking both steps together it looks like this (note the two sets of `[]`, the inner `[]` is part of the list, the outer `[]` is the syntax for `DataFrame` slicing):"
   ]
  },
  {
   "cell_type": "code",
   "execution_count": 9,
   "metadata": {},
   "outputs": [
    {
     "data": {
      "text/html": [
       "<div>\n",
       "<style scoped>\n",
       "    .dataframe tbody tr th:only-of-type {\n",
       "        vertical-align: middle;\n",
       "    }\n",
       "\n",
       "    .dataframe tbody tr th {\n",
       "        vertical-align: top;\n",
       "    }\n",
       "\n",
       "    .dataframe thead th {\n",
       "        text-align: right;\n",
       "    }\n",
       "</style>\n",
       "<table border=\"1\" class=\"dataframe\">\n",
       "  <thead>\n",
       "    <tr style=\"text-align: right;\">\n",
       "      <th></th>\n",
       "      <th>Bundesland</th>\n",
       "      <th>Landkreis</th>\n",
       "    </tr>\n",
       "  </thead>\n",
       "  <tbody>\n",
       "    <tr>\n",
       "      <th>0</th>\n",
       "      <td>Niedersachsen</td>\n",
       "      <td>LK Northeim</td>\n",
       "    </tr>\n",
       "    <tr>\n",
       "      <th>1</th>\n",
       "      <td>Niedersachsen</td>\n",
       "      <td>LK Peine</td>\n",
       "    </tr>\n",
       "    <tr>\n",
       "      <th>2</th>\n",
       "      <td>Niedersachsen</td>\n",
       "      <td>LK Peine</td>\n",
       "    </tr>\n",
       "    <tr>\n",
       "      <th>3</th>\n",
       "      <td>Niedersachsen</td>\n",
       "      <td>LK Peine</td>\n",
       "    </tr>\n",
       "    <tr>\n",
       "      <th>4</th>\n",
       "      <td>Niedersachsen</td>\n",
       "      <td>LK Peine</td>\n",
       "    </tr>\n",
       "  </tbody>\n",
       "</table>\n",
       "</div>"
      ],
      "text/plain": [
       "      Bundesland    Landkreis\n",
       "0  Niedersachsen  LK Northeim\n",
       "1  Niedersachsen     LK Peine\n",
       "2  Niedersachsen     LK Peine\n",
       "3  Niedersachsen     LK Peine\n",
       "4  Niedersachsen     LK Peine"
      ]
     },
     "execution_count": 9,
     "metadata": {},
     "output_type": "execute_result"
    }
   ],
   "source": [
    "data_raw[['Bundesland', 'Landkreis']].head()  # Note the use of .head() to show only the first 5 rows"
   ]
  },
  {
   "cell_type": "markdown",
   "metadata": {},
   "source": [
    "We see in the following that it is possible to write a command over multiple lines to make is easier to read.\n",
    "\n",
    "Let's write this operation's output into the variable `data`; we will use this variable from now on."
   ]
  },
  {
   "cell_type": "code",
   "execution_count": 10,
   "metadata": {},
   "outputs": [],
   "source": [
    "data = data_raw[\n",
    "    [\n",
    "        'Bundesland', \n",
    "        'Landkreis', \n",
    "        'Altersgruppe', \n",
    "        'Geschlecht', \n",
    "        'AnzahlFall', \n",
    "        'AnzahlTodesfall', \n",
    "        'AnzahlGenesen', \n",
    "        'Datenstand'\n",
    "    ]\n",
    "]"
   ]
  },
  {
   "cell_type": "markdown",
   "metadata": {},
   "source": [
    "You will have noticed that there is no cell output as before. This happens when the output is saved in a variable (here `data`). Let's inspect the content of `data`:"
   ]
  },
  {
   "cell_type": "code",
   "execution_count": 11,
   "metadata": {},
   "outputs": [
    {
     "data": {
      "text/html": [
       "<div>\n",
       "<style scoped>\n",
       "    .dataframe tbody tr th:only-of-type {\n",
       "        vertical-align: middle;\n",
       "    }\n",
       "\n",
       "    .dataframe tbody tr th {\n",
       "        vertical-align: top;\n",
       "    }\n",
       "\n",
       "    .dataframe thead th {\n",
       "        text-align: right;\n",
       "    }\n",
       "</style>\n",
       "<table border=\"1\" class=\"dataframe\">\n",
       "  <thead>\n",
       "    <tr style=\"text-align: right;\">\n",
       "      <th></th>\n",
       "      <th>Bundesland</th>\n",
       "      <th>Landkreis</th>\n",
       "      <th>Altersgruppe</th>\n",
       "      <th>Geschlecht</th>\n",
       "      <th>AnzahlFall</th>\n",
       "      <th>AnzahlTodesfall</th>\n",
       "      <th>AnzahlGenesen</th>\n",
       "      <th>Datenstand</th>\n",
       "    </tr>\n",
       "  </thead>\n",
       "  <tbody>\n",
       "    <tr>\n",
       "      <th>0</th>\n",
       "      <td>Niedersachsen</td>\n",
       "      <td>LK Northeim</td>\n",
       "      <td>A80+</td>\n",
       "      <td>M</td>\n",
       "      <td>1</td>\n",
       "      <td>0</td>\n",
       "      <td>0</td>\n",
       "      <td>08.04.2020, 00:00 Uhr</td>\n",
       "    </tr>\n",
       "    <tr>\n",
       "      <th>1</th>\n",
       "      <td>Niedersachsen</td>\n",
       "      <td>LK Peine</td>\n",
       "      <td>A00-A04</td>\n",
       "      <td>M</td>\n",
       "      <td>-1</td>\n",
       "      <td>0</td>\n",
       "      <td>0</td>\n",
       "      <td>08.04.2020, 00:00 Uhr</td>\n",
       "    </tr>\n",
       "    <tr>\n",
       "      <th>2</th>\n",
       "      <td>Niedersachsen</td>\n",
       "      <td>LK Peine</td>\n",
       "      <td>A05-A14</td>\n",
       "      <td>M</td>\n",
       "      <td>1</td>\n",
       "      <td>0</td>\n",
       "      <td>1</td>\n",
       "      <td>08.04.2020, 00:00 Uhr</td>\n",
       "    </tr>\n",
       "    <tr>\n",
       "      <th>3</th>\n",
       "      <td>Niedersachsen</td>\n",
       "      <td>LK Peine</td>\n",
       "      <td>A05-A14</td>\n",
       "      <td>M</td>\n",
       "      <td>1</td>\n",
       "      <td>0</td>\n",
       "      <td>0</td>\n",
       "      <td>08.04.2020, 00:00 Uhr</td>\n",
       "    </tr>\n",
       "    <tr>\n",
       "      <th>4</th>\n",
       "      <td>Niedersachsen</td>\n",
       "      <td>LK Peine</td>\n",
       "      <td>A05-A14</td>\n",
       "      <td>W</td>\n",
       "      <td>1</td>\n",
       "      <td>0</td>\n",
       "      <td>1</td>\n",
       "      <td>08.04.2020, 00:00 Uhr</td>\n",
       "    </tr>\n",
       "  </tbody>\n",
       "</table>\n",
       "</div>"
      ],
      "text/plain": [
       "      Bundesland    Landkreis Altersgruppe Geschlecht  AnzahlFall  \\\n",
       "0  Niedersachsen  LK Northeim         A80+          M           1   \n",
       "1  Niedersachsen     LK Peine      A00-A04          M          -1   \n",
       "2  Niedersachsen     LK Peine      A05-A14          M           1   \n",
       "3  Niedersachsen     LK Peine      A05-A14          M           1   \n",
       "4  Niedersachsen     LK Peine      A05-A14          W           1   \n",
       "\n",
       "   AnzahlTodesfall  AnzahlGenesen             Datenstand  \n",
       "0                0              0  08.04.2020, 00:00 Uhr  \n",
       "1                0              0  08.04.2020, 00:00 Uhr  \n",
       "2                0              1  08.04.2020, 00:00 Uhr  \n",
       "3                0              0  08.04.2020, 00:00 Uhr  \n",
       "4                0              1  08.04.2020, 00:00 Uhr  "
      ]
     },
     "execution_count": 11,
     "metadata": {},
     "output_type": "execute_result"
    }
   ],
   "source": [
    "data.head()"
   ]
  },
  {
   "cell_type": "markdown",
   "metadata": {},
   "source": [
    "#### By column AND index names/indices using `loc/iloc`"
   ]
  },
  {
   "cell_type": "markdown",
   "metadata": {},
   "source": [
    "1. __Recap__\n",
    "\n",
    "So far we sliced columns using column names like this:"
   ]
  },
  {
   "cell_type": "code",
   "execution_count": 12,
   "metadata": {},
   "outputs": [
    {
     "data": {
      "text/html": [
       "<div>\n",
       "<style scoped>\n",
       "    .dataframe tbody tr th:only-of-type {\n",
       "        vertical-align: middle;\n",
       "    }\n",
       "\n",
       "    .dataframe tbody tr th {\n",
       "        vertical-align: top;\n",
       "    }\n",
       "\n",
       "    .dataframe thead th {\n",
       "        text-align: right;\n",
       "    }\n",
       "</style>\n",
       "<table border=\"1\" class=\"dataframe\">\n",
       "  <thead>\n",
       "    <tr style=\"text-align: right;\">\n",
       "      <th></th>\n",
       "      <th>Bundesland</th>\n",
       "      <th>Landkreis</th>\n",
       "    </tr>\n",
       "  </thead>\n",
       "  <tbody>\n",
       "    <tr>\n",
       "      <th>0</th>\n",
       "      <td>Niedersachsen</td>\n",
       "      <td>LK Northeim</td>\n",
       "    </tr>\n",
       "    <tr>\n",
       "      <th>1</th>\n",
       "      <td>Niedersachsen</td>\n",
       "      <td>LK Peine</td>\n",
       "    </tr>\n",
       "    <tr>\n",
       "      <th>2</th>\n",
       "      <td>Niedersachsen</td>\n",
       "      <td>LK Peine</td>\n",
       "    </tr>\n",
       "    <tr>\n",
       "      <th>3</th>\n",
       "      <td>Niedersachsen</td>\n",
       "      <td>LK Peine</td>\n",
       "    </tr>\n",
       "    <tr>\n",
       "      <th>4</th>\n",
       "      <td>Niedersachsen</td>\n",
       "      <td>LK Peine</td>\n",
       "    </tr>\n",
       "  </tbody>\n",
       "</table>\n",
       "</div>"
      ],
      "text/plain": [
       "      Bundesland    Landkreis\n",
       "0  Niedersachsen  LK Northeim\n",
       "1  Niedersachsen     LK Peine\n",
       "2  Niedersachsen     LK Peine\n",
       "3  Niedersachsen     LK Peine\n",
       "4  Niedersachsen     LK Peine"
      ]
     },
     "execution_count": 12,
     "metadata": {},
     "output_type": "execute_result"
    }
   ],
   "source": [
    "data[['Bundesland', 'Landkreis']].head()"
   ]
  },
  {
   "cell_type": "markdown",
   "metadata": {},
   "source": [
    "2. __`loc`__\n",
    "\n",
    "The above code is a shorter form for using `loc`:\n",
    "```python\n",
    "dataframe.loc[list_of_row_names, list_of_column_names]\n",
    "```\n",
    "`index_names` or `column_names` can be set to `:` if we want to select the full row or column, respectively."
   ]
  },
  {
   "cell_type": "code",
   "execution_count": 13,
   "metadata": {},
   "outputs": [
    {
     "data": {
      "text/html": [
       "<div>\n",
       "<style scoped>\n",
       "    .dataframe tbody tr th:only-of-type {\n",
       "        vertical-align: middle;\n",
       "    }\n",
       "\n",
       "    .dataframe tbody tr th {\n",
       "        vertical-align: top;\n",
       "    }\n",
       "\n",
       "    .dataframe thead th {\n",
       "        text-align: right;\n",
       "    }\n",
       "</style>\n",
       "<table border=\"1\" class=\"dataframe\">\n",
       "  <thead>\n",
       "    <tr style=\"text-align: right;\">\n",
       "      <th></th>\n",
       "      <th>Bundesland</th>\n",
       "      <th>Landkreis</th>\n",
       "    </tr>\n",
       "  </thead>\n",
       "  <tbody>\n",
       "    <tr>\n",
       "      <th>0</th>\n",
       "      <td>Niedersachsen</td>\n",
       "      <td>LK Northeim</td>\n",
       "    </tr>\n",
       "    <tr>\n",
       "      <th>1</th>\n",
       "      <td>Niedersachsen</td>\n",
       "      <td>LK Peine</td>\n",
       "    </tr>\n",
       "    <tr>\n",
       "      <th>2</th>\n",
       "      <td>Niedersachsen</td>\n",
       "      <td>LK Peine</td>\n",
       "    </tr>\n",
       "    <tr>\n",
       "      <th>3</th>\n",
       "      <td>Niedersachsen</td>\n",
       "      <td>LK Peine</td>\n",
       "    </tr>\n",
       "    <tr>\n",
       "      <th>4</th>\n",
       "      <td>Niedersachsen</td>\n",
       "      <td>LK Peine</td>\n",
       "    </tr>\n",
       "  </tbody>\n",
       "</table>\n",
       "</div>"
      ],
      "text/plain": [
       "      Bundesland    Landkreis\n",
       "0  Niedersachsen  LK Northeim\n",
       "1  Niedersachsen     LK Peine\n",
       "2  Niedersachsen     LK Peine\n",
       "3  Niedersachsen     LK Peine\n",
       "4  Niedersachsen     LK Peine"
      ]
     },
     "execution_count": 13,
     "metadata": {},
     "output_type": "execute_result"
    }
   ],
   "source": [
    "data.loc[:, ['Bundesland', 'Landkreis']].head()"
   ]
  },
  {
   "cell_type": "markdown",
   "metadata": {},
   "source": [
    "3. __`iloc`__\n",
    "\n",
    "Or, instead of row and column names, we can use their indices (like you learnt on day 1 where you selected elements from a list). \n",
    "\n",
    "```python\n",
    "dataframe.iloc[list_of_row_indices, list_of_column_indices].head()\n",
    "```\n",
    "\n",
    "Remember, in Python indices are 0-indexed."
   ]
  },
  {
   "cell_type": "code",
   "execution_count": 14,
   "metadata": {},
   "outputs": [
    {
     "data": {
      "text/plain": [
       "Index(['Bundesland', 'Landkreis', 'Altersgruppe', 'Geschlecht', 'AnzahlFall',\n",
       "       'AnzahlTodesfall', 'AnzahlGenesen', 'Datenstand'],\n",
       "      dtype='object')"
      ]
     },
     "execution_count": 14,
     "metadata": {},
     "output_type": "execute_result"
    }
   ],
   "source": [
    "# Check out index of columns of interest\n",
    "data.columns"
   ]
  },
  {
   "cell_type": "code",
   "execution_count": 15,
   "metadata": {},
   "outputs": [
    {
     "data": {
      "text/html": [
       "<div>\n",
       "<style scoped>\n",
       "    .dataframe tbody tr th:only-of-type {\n",
       "        vertical-align: middle;\n",
       "    }\n",
       "\n",
       "    .dataframe tbody tr th {\n",
       "        vertical-align: top;\n",
       "    }\n",
       "\n",
       "    .dataframe thead th {\n",
       "        text-align: right;\n",
       "    }\n",
       "</style>\n",
       "<table border=\"1\" class=\"dataframe\">\n",
       "  <thead>\n",
       "    <tr style=\"text-align: right;\">\n",
       "      <th></th>\n",
       "      <th>Altersgruppe</th>\n",
       "      <th>Geschlecht</th>\n",
       "    </tr>\n",
       "  </thead>\n",
       "  <tbody>\n",
       "    <tr>\n",
       "      <th>0</th>\n",
       "      <td>A80+</td>\n",
       "      <td>M</td>\n",
       "    </tr>\n",
       "    <tr>\n",
       "      <th>1</th>\n",
       "      <td>A00-A04</td>\n",
       "      <td>M</td>\n",
       "    </tr>\n",
       "    <tr>\n",
       "      <th>2</th>\n",
       "      <td>A05-A14</td>\n",
       "      <td>M</td>\n",
       "    </tr>\n",
       "    <tr>\n",
       "      <th>3</th>\n",
       "      <td>A05-A14</td>\n",
       "      <td>M</td>\n",
       "    </tr>\n",
       "    <tr>\n",
       "      <th>4</th>\n",
       "      <td>A05-A14</td>\n",
       "      <td>W</td>\n",
       "    </tr>\n",
       "  </tbody>\n",
       "</table>\n",
       "</div>"
      ],
      "text/plain": [
       "  Altersgruppe Geschlecht\n",
       "0         A80+          M\n",
       "1      A00-A04          M\n",
       "2      A05-A14          M\n",
       "3      A05-A14          M\n",
       "4      A05-A14          W"
      ]
     },
     "execution_count": 15,
     "metadata": {},
     "output_type": "execute_result"
    }
   ],
   "source": [
    "data.iloc[:, [2, 3]].head()"
   ]
  },
  {
   "cell_type": "markdown",
   "metadata": {},
   "source": [
    "__Note__: You will use `loc/iloc` in the notebooks to come in the next lessons, but for this lesson here, we will use column selection by column names as discussed first:"
   ]
  },
  {
   "cell_type": "code",
   "execution_count": 16,
   "metadata": {},
   "outputs": [
    {
     "data": {
      "text/html": [
       "<div>\n",
       "<style scoped>\n",
       "    .dataframe tbody tr th:only-of-type {\n",
       "        vertical-align: middle;\n",
       "    }\n",
       "\n",
       "    .dataframe tbody tr th {\n",
       "        vertical-align: top;\n",
       "    }\n",
       "\n",
       "    .dataframe thead th {\n",
       "        text-align: right;\n",
       "    }\n",
       "</style>\n",
       "<table border=\"1\" class=\"dataframe\">\n",
       "  <thead>\n",
       "    <tr style=\"text-align: right;\">\n",
       "      <th></th>\n",
       "      <th>Bundesland</th>\n",
       "      <th>Landkreis</th>\n",
       "    </tr>\n",
       "  </thead>\n",
       "  <tbody>\n",
       "    <tr>\n",
       "      <th>0</th>\n",
       "      <td>Niedersachsen</td>\n",
       "      <td>LK Northeim</td>\n",
       "    </tr>\n",
       "    <tr>\n",
       "      <th>1</th>\n",
       "      <td>Niedersachsen</td>\n",
       "      <td>LK Peine</td>\n",
       "    </tr>\n",
       "    <tr>\n",
       "      <th>2</th>\n",
       "      <td>Niedersachsen</td>\n",
       "      <td>LK Peine</td>\n",
       "    </tr>\n",
       "    <tr>\n",
       "      <th>3</th>\n",
       "      <td>Niedersachsen</td>\n",
       "      <td>LK Peine</td>\n",
       "    </tr>\n",
       "    <tr>\n",
       "      <th>4</th>\n",
       "      <td>Niedersachsen</td>\n",
       "      <td>LK Peine</td>\n",
       "    </tr>\n",
       "  </tbody>\n",
       "</table>\n",
       "</div>"
      ],
      "text/plain": [
       "      Bundesland    Landkreis\n",
       "0  Niedersachsen  LK Northeim\n",
       "1  Niedersachsen     LK Peine\n",
       "2  Niedersachsen     LK Peine\n",
       "3  Niedersachsen     LK Peine\n",
       "4  Niedersachsen     LK Peine"
      ]
     },
     "execution_count": 16,
     "metadata": {},
     "output_type": "execute_result"
    }
   ],
   "source": [
    "data[['Bundesland', 'Landkreis']].head()"
   ]
  },
  {
   "cell_type": "markdown",
   "metadata": {},
   "source": [
    "#### _Your turn_: Exercises"
   ]
  },
  {
   "cell_type": "markdown",
   "metadata": {},
   "source": [
    "__Exercise 4__: Select the columns listing the number of cases, deaths and recoveries using their __column names__."
   ]
  },
  {
   "cell_type": "code",
   "execution_count": null,
   "metadata": {},
   "outputs": [],
   "source": []
  },
  {
   "cell_type": "markdown",
   "metadata": {},
   "source": [
    "__Exercise 5__: Do the same as in Exercise 4 but this time use __`loc`__."
   ]
  },
  {
   "cell_type": "code",
   "execution_count": null,
   "metadata": {},
   "outputs": [],
   "source": []
  },
  {
   "cell_type": "markdown",
   "metadata": {},
   "source": [
    "__Exercise 6__: Do the same as in Exercise 4 and 5 but this time use __`iloc`__."
   ]
  },
  {
   "cell_type": "code",
   "execution_count": null,
   "metadata": {},
   "outputs": [],
   "source": []
  },
  {
   "cell_type": "markdown",
   "metadata": {},
   "source": [
    "### 5.5 Get unique entries in a column\n",
    "\n",
    "Now, we'd like to check what kind of entries we can find in a column. \n",
    "\n",
    "First, we select a column, similar to how we learned it in *Chapter 5.4*. Since we select this time only **one** column, we do not pass the column name as a list but as a simple string."
   ]
  },
  {
   "cell_type": "code",
   "execution_count": 17,
   "metadata": {},
   "outputs": [
    {
     "data": {
      "text/plain": [
       "0    Niedersachsen\n",
       "1    Niedersachsen\n",
       "2    Niedersachsen\n",
       "3    Niedersachsen\n",
       "4    Niedersachsen\n",
       "Name: Bundesland, dtype: object"
      ]
     },
     "execution_count": 17,
     "metadata": {},
     "output_type": "execute_result"
    }
   ],
   "source": [
    "data['Bundesland'].head()"
   ]
  },
  {
   "cell_type": "markdown",
   "metadata": {},
   "source": [
    "This returns a `Series` (instead of a `DataFrame`):"
   ]
  },
  {
   "cell_type": "code",
   "execution_count": 18,
   "metadata": {},
   "outputs": [
    {
     "data": {
      "text/plain": [
       "pandas.core.series.Series"
      ]
     },
     "execution_count": 18,
     "metadata": {},
     "output_type": "execute_result"
    }
   ],
   "source": [
    "type(data['Bundesland'])"
   ]
  },
  {
   "cell_type": "markdown",
   "metadata": {},
   "source": [
    "Now let's apply the `unique()` function ([see docs](https://pandas.pydata.org/pandas-docs/stable/reference/api/pandas.Series.unique.html)) and check the states in our dataset."
   ]
  },
  {
   "cell_type": "code",
   "execution_count": 19,
   "metadata": {},
   "outputs": [
    {
     "data": {
      "text/plain": [
       "array(['Niedersachsen', 'Bremen', 'Nordrhein-Westfalen', 'Hamburg',\n",
       "       'Schleswig-Holstein', 'Hessen', 'Rheinland-Pfalz',\n",
       "       'Baden-Württemberg', 'Bayern', 'Saarland', 'Berlin', 'Brandenburg',\n",
       "       'Mecklenburg-Vorpommern', 'Sachsen', 'Thüringen', 'Sachsen-Anhalt'],\n",
       "      dtype=object)"
      ]
     },
     "execution_count": 19,
     "metadata": {},
     "output_type": "execute_result"
    }
   ],
   "source": [
    "data['Bundesland'].unique()  # Note: Here we pass the single column as string not as list (as shown in Chapter 5.4)"
   ]
  },
  {
   "cell_type": "markdown",
   "metadata": {},
   "source": [
    "There should be 16 states, let's check with Python's built-in function `len` ([see docs](https://docs.python.org/3/library/functions.html#len)) that returns the length of e.g. list-like objects:"
   ]
  },
  {
   "cell_type": "code",
   "execution_count": 20,
   "metadata": {},
   "outputs": [
    {
     "data": {
      "text/plain": [
       "16"
      ]
     },
     "execution_count": 20,
     "metadata": {},
     "output_type": "execute_result"
    }
   ],
   "source": [
    "len(data['Bundesland'].unique())"
   ]
  },
  {
   "cell_type": "markdown",
   "metadata": {},
   "source": [
    "#### _Your turn_: Exercises"
   ]
  },
  {
   "cell_type": "markdown",
   "metadata": {},
   "source": [
    "__Exercise 7__: Select the column on age groups (`'Altersgruppe'`) - which age groups are monitored?"
   ]
  },
  {
   "cell_type": "code",
   "execution_count": null,
   "metadata": {},
   "outputs": [],
   "source": []
  },
  {
   "cell_type": "markdown",
   "metadata": {},
   "source": [
    "__Exercise 8__: Select the column on districts (`'Landkreis'`) - how many districts are monitored?"
   ]
  },
  {
   "cell_type": "code",
   "execution_count": null,
   "metadata": {},
   "outputs": [],
   "source": []
  },
  {
   "cell_type": "markdown",
   "metadata": {},
   "source": [
    "### 5.6. Select rows (by conditions)"
   ]
  },
  {
   "cell_type": "markdown",
   "metadata": {},
   "source": [
    "Very often, you not only have more criteria (columns) in your dataset than you are actually interested in but also more data points (rows) than you need. Let's say for instance, that we are mainly interested in data points regarding Berlin. Since we have a dataset for Germany, we will need to do some (row) filtering."
   ]
  },
  {
   "cell_type": "markdown",
   "metadata": {},
   "source": [
    "Let's select only the state column (`Bundesland`)."
   ]
  },
  {
   "cell_type": "code",
   "execution_count": 21,
   "metadata": {},
   "outputs": [
    {
     "data": {
      "text/plain": [
       "0        Niedersachsen\n",
       "1        Niedersachsen\n",
       "2        Niedersachsen\n",
       "3        Niedersachsen\n",
       "4        Niedersachsen\n",
       "             ...      \n",
       "76186        Thüringen\n",
       "76187        Thüringen\n",
       "76188        Thüringen\n",
       "76189        Thüringen\n",
       "76190        Thüringen\n",
       "Name: Bundesland, Length: 76191, dtype: object"
      ]
     },
     "execution_count": 21,
     "metadata": {},
     "output_type": "execute_result"
    }
   ],
   "source": [
    "data['Bundesland']"
   ]
  },
  {
   "cell_type": "markdown",
   "metadata": {},
   "source": [
    "With `Series` it is very easy to check for each row if it fullfils a given condition. As an example, let's ask for \"Thüringen\"."
   ]
  },
  {
   "cell_type": "code",
   "execution_count": 22,
   "metadata": {},
   "outputs": [
    {
     "data": {
      "text/plain": [
       "0        False\n",
       "1        False\n",
       "2        False\n",
       "3        False\n",
       "4        False\n",
       "         ...  \n",
       "76186     True\n",
       "76187     True\n",
       "76188     True\n",
       "76189     True\n",
       "76190     True\n",
       "Name: Bundesland, Length: 76191, dtype: bool"
      ]
     },
     "execution_count": 22,
     "metadata": {},
     "output_type": "execute_result"
    }
   ],
   "source": [
    "data['Bundesland'] == 'Thüringen'"
   ]
  },
  {
   "cell_type": "markdown",
   "metadata": {},
   "source": [
    "You can see, that this operation returns a `Series` of the same length and index as our initial `Series` containing boolean values (`True` or `False`).\n",
    "\n",
    "How can we use this boolean Series know to subset `data` for data points concerning Berlin (i.e. filter `data` for rows concerning Berlin)? We use the following syntax:\n",
    "\n",
    "```python\n",
    "data[condition]\n",
    "```"
   ]
  },
  {
   "cell_type": "code",
   "execution_count": 23,
   "metadata": {},
   "outputs": [
    {
     "data": {
      "text/html": [
       "<div>\n",
       "<style scoped>\n",
       "    .dataframe tbody tr th:only-of-type {\n",
       "        vertical-align: middle;\n",
       "    }\n",
       "\n",
       "    .dataframe tbody tr th {\n",
       "        vertical-align: top;\n",
       "    }\n",
       "\n",
       "    .dataframe thead th {\n",
       "        text-align: right;\n",
       "    }\n",
       "</style>\n",
       "<table border=\"1\" class=\"dataframe\">\n",
       "  <thead>\n",
       "    <tr style=\"text-align: right;\">\n",
       "      <th></th>\n",
       "      <th>Bundesland</th>\n",
       "      <th>Landkreis</th>\n",
       "      <th>Altersgruppe</th>\n",
       "      <th>Geschlecht</th>\n",
       "      <th>AnzahlFall</th>\n",
       "      <th>AnzahlTodesfall</th>\n",
       "      <th>AnzahlGenesen</th>\n",
       "      <th>Datenstand</th>\n",
       "    </tr>\n",
       "  </thead>\n",
       "  <tbody>\n",
       "    <tr>\n",
       "      <th>66000</th>\n",
       "      <td>Berlin</td>\n",
       "      <td>SK Berlin Friedrichshain-Kreuzberg</td>\n",
       "      <td>A35-A59</td>\n",
       "      <td>M</td>\n",
       "      <td>1</td>\n",
       "      <td>0</td>\n",
       "      <td>0</td>\n",
       "      <td>08.04.2020, 00:00 Uhr</td>\n",
       "    </tr>\n",
       "    <tr>\n",
       "      <th>66001</th>\n",
       "      <td>Berlin</td>\n",
       "      <td>SK Berlin Friedrichshain-Kreuzberg</td>\n",
       "      <td>A35-A59</td>\n",
       "      <td>M</td>\n",
       "      <td>1</td>\n",
       "      <td>0</td>\n",
       "      <td>1</td>\n",
       "      <td>08.04.2020, 00:00 Uhr</td>\n",
       "    </tr>\n",
       "    <tr>\n",
       "      <th>66002</th>\n",
       "      <td>Berlin</td>\n",
       "      <td>SK Berlin Friedrichshain-Kreuzberg</td>\n",
       "      <td>A35-A59</td>\n",
       "      <td>M</td>\n",
       "      <td>1</td>\n",
       "      <td>0</td>\n",
       "      <td>1</td>\n",
       "      <td>08.04.2020, 00:00 Uhr</td>\n",
       "    </tr>\n",
       "    <tr>\n",
       "      <th>66003</th>\n",
       "      <td>Berlin</td>\n",
       "      <td>SK Berlin Friedrichshain-Kreuzberg</td>\n",
       "      <td>A35-A59</td>\n",
       "      <td>M</td>\n",
       "      <td>1</td>\n",
       "      <td>0</td>\n",
       "      <td>1</td>\n",
       "      <td>08.04.2020, 00:00 Uhr</td>\n",
       "    </tr>\n",
       "    <tr>\n",
       "      <th>66004</th>\n",
       "      <td>Berlin</td>\n",
       "      <td>SK Berlin Friedrichshain-Kreuzberg</td>\n",
       "      <td>A35-A59</td>\n",
       "      <td>M</td>\n",
       "      <td>1</td>\n",
       "      <td>0</td>\n",
       "      <td>0</td>\n",
       "      <td>08.04.2020, 00:00 Uhr</td>\n",
       "    </tr>\n",
       "    <tr>\n",
       "      <th>...</th>\n",
       "      <td>...</td>\n",
       "      <td>...</td>\n",
       "      <td>...</td>\n",
       "      <td>...</td>\n",
       "      <td>...</td>\n",
       "      <td>...</td>\n",
       "      <td>...</td>\n",
       "      <td>...</td>\n",
       "    </tr>\n",
       "    <tr>\n",
       "      <th>70792</th>\n",
       "      <td>Berlin</td>\n",
       "      <td>SK Berlin Reinickendorf</td>\n",
       "      <td>A80+</td>\n",
       "      <td>W</td>\n",
       "      <td>3</td>\n",
       "      <td>0</td>\n",
       "      <td>0</td>\n",
       "      <td>08.04.2020, 00:00 Uhr</td>\n",
       "    </tr>\n",
       "    <tr>\n",
       "      <th>70793</th>\n",
       "      <td>Berlin</td>\n",
       "      <td>SK Berlin Reinickendorf</td>\n",
       "      <td>A80+</td>\n",
       "      <td>W</td>\n",
       "      <td>1</td>\n",
       "      <td>0</td>\n",
       "      <td>0</td>\n",
       "      <td>08.04.2020, 00:00 Uhr</td>\n",
       "    </tr>\n",
       "    <tr>\n",
       "      <th>70794</th>\n",
       "      <td>Berlin</td>\n",
       "      <td>SK Berlin Reinickendorf</td>\n",
       "      <td>A80+</td>\n",
       "      <td>W</td>\n",
       "      <td>1</td>\n",
       "      <td>0</td>\n",
       "      <td>0</td>\n",
       "      <td>08.04.2020, 00:00 Uhr</td>\n",
       "    </tr>\n",
       "    <tr>\n",
       "      <th>70795</th>\n",
       "      <td>Berlin</td>\n",
       "      <td>SK Berlin Reinickendorf</td>\n",
       "      <td>A80+</td>\n",
       "      <td>W</td>\n",
       "      <td>2</td>\n",
       "      <td>0</td>\n",
       "      <td>0</td>\n",
       "      <td>08.04.2020, 00:00 Uhr</td>\n",
       "    </tr>\n",
       "    <tr>\n",
       "      <th>70796</th>\n",
       "      <td>Berlin</td>\n",
       "      <td>SK Berlin Reinickendorf</td>\n",
       "      <td>unbekannt</td>\n",
       "      <td>M</td>\n",
       "      <td>1</td>\n",
       "      <td>0</td>\n",
       "      <td>0</td>\n",
       "      <td>08.04.2020, 00:00 Uhr</td>\n",
       "    </tr>\n",
       "  </tbody>\n",
       "</table>\n",
       "<p>3474 rows × 8 columns</p>\n",
       "</div>"
      ],
      "text/plain": [
       "      Bundesland                           Landkreis Altersgruppe Geschlecht  \\\n",
       "66000     Berlin  SK Berlin Friedrichshain-Kreuzberg      A35-A59          M   \n",
       "66001     Berlin  SK Berlin Friedrichshain-Kreuzberg      A35-A59          M   \n",
       "66002     Berlin  SK Berlin Friedrichshain-Kreuzberg      A35-A59          M   \n",
       "66003     Berlin  SK Berlin Friedrichshain-Kreuzberg      A35-A59          M   \n",
       "66004     Berlin  SK Berlin Friedrichshain-Kreuzberg      A35-A59          M   \n",
       "...          ...                                 ...          ...        ...   \n",
       "70792     Berlin             SK Berlin Reinickendorf         A80+          W   \n",
       "70793     Berlin             SK Berlin Reinickendorf         A80+          W   \n",
       "70794     Berlin             SK Berlin Reinickendorf         A80+          W   \n",
       "70795     Berlin             SK Berlin Reinickendorf         A80+          W   \n",
       "70796     Berlin             SK Berlin Reinickendorf    unbekannt          M   \n",
       "\n",
       "       AnzahlFall  AnzahlTodesfall  AnzahlGenesen             Datenstand  \n",
       "66000           1                0              0  08.04.2020, 00:00 Uhr  \n",
       "66001           1                0              1  08.04.2020, 00:00 Uhr  \n",
       "66002           1                0              1  08.04.2020, 00:00 Uhr  \n",
       "66003           1                0              1  08.04.2020, 00:00 Uhr  \n",
       "66004           1                0              0  08.04.2020, 00:00 Uhr  \n",
       "...           ...              ...            ...                    ...  \n",
       "70792           3                0              0  08.04.2020, 00:00 Uhr  \n",
       "70793           1                0              0  08.04.2020, 00:00 Uhr  \n",
       "70794           1                0              0  08.04.2020, 00:00 Uhr  \n",
       "70795           2                0              0  08.04.2020, 00:00 Uhr  \n",
       "70796           1                0              0  08.04.2020, 00:00 Uhr  \n",
       "\n",
       "[3474 rows x 8 columns]"
      ]
     },
     "execution_count": 23,
     "metadata": {},
     "output_type": "execute_result"
    }
   ],
   "source": [
    "# Condition\n",
    "state_is_berlin = data['Bundesland'] == 'Berlin'\n",
    "\n",
    "# Subset dataset by condition\n",
    "data[state_is_berlin]  # equals\n",
    "data[data['Bundesland'] == 'Berlin']"
   ]
  },
  {
   "cell_type": "markdown",
   "metadata": {},
   "source": [
    "#### _Your turn_: Exercises"
   ]
  },
  {
   "cell_type": "markdown",
   "metadata": {},
   "source": [
    "__Exercise 9__: Select only data points for Berlin Mitte (one condition)."
   ]
  },
  {
   "cell_type": "code",
   "execution_count": null,
   "metadata": {},
   "outputs": [],
   "source": []
  },
  {
   "cell_type": "markdown",
   "metadata": {},
   "source": [
    "__Exercise 10__: Select only data points for Berlin and patients between 35 and 59 years old (two conditions).\n",
    "\n",
    "```python\n",
    "# Use one condition\n",
    "data[condition]\n",
    "\n",
    "# Use multiple conditions\n",
    "data[condition1 & condition2]  # Fullfill condition 1 AND 2\n",
    "data[condition1 & not condition2]  # Fullfill condition 1 AND not 2\n",
    "data[condition1 | condition2]  # Fullfill condition 1 OR 2\n",
    "```"
   ]
  },
  {
   "cell_type": "code",
   "execution_count": null,
   "metadata": {},
   "outputs": [],
   "source": []
  },
  {
   "cell_type": "markdown",
   "metadata": {},
   "source": [
    "### 5.7. Group data"
   ]
  },
  {
   "cell_type": "markdown",
   "metadata": {},
   "source": [
    "From here on, we will continue to work only with data for Berlin, so we will save the subset to the new variable `data_berlin`."
   ]
  },
  {
   "cell_type": "code",
   "execution_count": 24,
   "metadata": {},
   "outputs": [
    {
     "data": {
      "text/plain": [
       "(3474, 8)"
      ]
     },
     "execution_count": 24,
     "metadata": {},
     "output_type": "execute_result"
    }
   ],
   "source": [
    "data_berlin = data[data['Bundesland'] == 'Berlin']\n",
    "data_berlin.shape"
   ]
  },
  {
   "cell_type": "markdown",
   "metadata": {},
   "source": [
    "From https://pandas.pydata.org/pandas-docs/stable/user_guide/groupby.html:\n",
    "\n",
    "> By `groupby()` we are referring to a process involving one or more of the following steps:\n",
    "> * **Splitting** the data into groups based on some criteria.\n",
    "> * **Applying** a function to each group independently.\n",
    "> * **Combining** the results into a data structure.\n"
   ]
  },
  {
   "cell_type": "markdown",
   "metadata": {},
   "source": [
    "#### Example: Get group sum with `sum()`"
   ]
  },
  {
   "cell_type": "markdown",
   "metadata": {},
   "source": [
    "**Splitting**: Split data into groups based on a criteria."
   ]
  },
  {
   "cell_type": "code",
   "execution_count": 25,
   "metadata": {},
   "outputs": [
    {
     "data": {
      "text/plain": [
       "<pandas.core.groupby.generic.DataFrameGroupBy object at 0x1265395b0>"
      ]
     },
     "execution_count": 25,
     "metadata": {},
     "output_type": "execute_result"
    }
   ],
   "source": [
    "data_berlin.groupby('Altersgruppe')"
   ]
  },
  {
   "cell_type": "code",
   "execution_count": 26,
   "metadata": {},
   "outputs": [
    {
     "data": {
      "text/plain": [
       "pandas.core.groupby.generic.DataFrameGroupBy"
      ]
     },
     "execution_count": 26,
     "metadata": {},
     "output_type": "execute_result"
    }
   ],
   "source": [
    "type(data_berlin.groupby('Altersgruppe'))"
   ]
  },
  {
   "cell_type": "markdown",
   "metadata": {},
   "source": [
    "Look at one of the groups (= subset of the full DataFrame)."
   ]
  },
  {
   "cell_type": "code",
   "execution_count": 27,
   "metadata": {},
   "outputs": [
    {
     "data": {
      "text/html": [
       "<div>\n",
       "<style scoped>\n",
       "    .dataframe tbody tr th:only-of-type {\n",
       "        vertical-align: middle;\n",
       "    }\n",
       "\n",
       "    .dataframe tbody tr th {\n",
       "        vertical-align: top;\n",
       "    }\n",
       "\n",
       "    .dataframe thead th {\n",
       "        text-align: right;\n",
       "    }\n",
       "</style>\n",
       "<table border=\"1\" class=\"dataframe\">\n",
       "  <thead>\n",
       "    <tr style=\"text-align: right;\">\n",
       "      <th></th>\n",
       "      <th>Bundesland</th>\n",
       "      <th>Landkreis</th>\n",
       "      <th>Altersgruppe</th>\n",
       "      <th>Geschlecht</th>\n",
       "      <th>AnzahlFall</th>\n",
       "      <th>AnzahlTodesfall</th>\n",
       "      <th>AnzahlGenesen</th>\n",
       "      <th>Datenstand</th>\n",
       "    </tr>\n",
       "  </thead>\n",
       "  <tbody>\n",
       "    <tr>\n",
       "      <th>66118</th>\n",
       "      <td>Berlin</td>\n",
       "      <td>SK Berlin Pankow</td>\n",
       "      <td>A00-A04</td>\n",
       "      <td>M</td>\n",
       "      <td>1</td>\n",
       "      <td>0</td>\n",
       "      <td>0</td>\n",
       "      <td>08.04.2020, 00:00 Uhr</td>\n",
       "    </tr>\n",
       "    <tr>\n",
       "      <th>66119</th>\n",
       "      <td>Berlin</td>\n",
       "      <td>SK Berlin Pankow</td>\n",
       "      <td>A00-A04</td>\n",
       "      <td>M</td>\n",
       "      <td>1</td>\n",
       "      <td>0</td>\n",
       "      <td>1</td>\n",
       "      <td>08.04.2020, 00:00 Uhr</td>\n",
       "    </tr>\n",
       "    <tr>\n",
       "      <th>66120</th>\n",
       "      <td>Berlin</td>\n",
       "      <td>SK Berlin Pankow</td>\n",
       "      <td>A00-A04</td>\n",
       "      <td>W</td>\n",
       "      <td>1</td>\n",
       "      <td>0</td>\n",
       "      <td>1</td>\n",
       "      <td>08.04.2020, 00:00 Uhr</td>\n",
       "    </tr>\n",
       "    <tr>\n",
       "      <th>66121</th>\n",
       "      <td>Berlin</td>\n",
       "      <td>SK Berlin Pankow</td>\n",
       "      <td>A00-A04</td>\n",
       "      <td>W</td>\n",
       "      <td>1</td>\n",
       "      <td>0</td>\n",
       "      <td>1</td>\n",
       "      <td>08.04.2020, 00:00 Uhr</td>\n",
       "    </tr>\n",
       "    <tr>\n",
       "      <th>66459</th>\n",
       "      <td>Berlin</td>\n",
       "      <td>SK Berlin Charlottenburg-Wilmersdorf</td>\n",
       "      <td>A00-A04</td>\n",
       "      <td>M</td>\n",
       "      <td>1</td>\n",
       "      <td>0</td>\n",
       "      <td>0</td>\n",
       "      <td>08.04.2020, 00:00 Uhr</td>\n",
       "    </tr>\n",
       "    <tr>\n",
       "      <th>66460</th>\n",
       "      <td>Berlin</td>\n",
       "      <td>SK Berlin Charlottenburg-Wilmersdorf</td>\n",
       "      <td>A00-A04</td>\n",
       "      <td>M</td>\n",
       "      <td>1</td>\n",
       "      <td>0</td>\n",
       "      <td>1</td>\n",
       "      <td>08.04.2020, 00:00 Uhr</td>\n",
       "    </tr>\n",
       "    <tr>\n",
       "      <th>66461</th>\n",
       "      <td>Berlin</td>\n",
       "      <td>SK Berlin Charlottenburg-Wilmersdorf</td>\n",
       "      <td>A00-A04</td>\n",
       "      <td>W</td>\n",
       "      <td>1</td>\n",
       "      <td>0</td>\n",
       "      <td>0</td>\n",
       "      <td>08.04.2020, 00:00 Uhr</td>\n",
       "    </tr>\n",
       "    <tr>\n",
       "      <th>66462</th>\n",
       "      <td>Berlin</td>\n",
       "      <td>SK Berlin Charlottenburg-Wilmersdorf</td>\n",
       "      <td>A00-A04</td>\n",
       "      <td>W</td>\n",
       "      <td>1</td>\n",
       "      <td>0</td>\n",
       "      <td>0</td>\n",
       "      <td>08.04.2020, 00:00 Uhr</td>\n",
       "    </tr>\n",
       "    <tr>\n",
       "      <th>66890</th>\n",
       "      <td>Berlin</td>\n",
       "      <td>SK Berlin Spandau</td>\n",
       "      <td>A00-A04</td>\n",
       "      <td>M</td>\n",
       "      <td>1</td>\n",
       "      <td>0</td>\n",
       "      <td>0</td>\n",
       "      <td>08.04.2020, 00:00 Uhr</td>\n",
       "    </tr>\n",
       "    <tr>\n",
       "      <th>67323</th>\n",
       "      <td>Berlin</td>\n",
       "      <td>SK Berlin Mitte</td>\n",
       "      <td>A00-A04</td>\n",
       "      <td>M</td>\n",
       "      <td>1</td>\n",
       "      <td>0</td>\n",
       "      <td>1</td>\n",
       "      <td>08.04.2020, 00:00 Uhr</td>\n",
       "    </tr>\n",
       "    <tr>\n",
       "      <th>67324</th>\n",
       "      <td>Berlin</td>\n",
       "      <td>SK Berlin Mitte</td>\n",
       "      <td>A00-A04</td>\n",
       "      <td>M</td>\n",
       "      <td>1</td>\n",
       "      <td>0</td>\n",
       "      <td>1</td>\n",
       "      <td>08.04.2020, 00:00 Uhr</td>\n",
       "    </tr>\n",
       "    <tr>\n",
       "      <th>67325</th>\n",
       "      <td>Berlin</td>\n",
       "      <td>SK Berlin Mitte</td>\n",
       "      <td>A00-A04</td>\n",
       "      <td>M</td>\n",
       "      <td>1</td>\n",
       "      <td>0</td>\n",
       "      <td>0</td>\n",
       "      <td>08.04.2020, 00:00 Uhr</td>\n",
       "    </tr>\n",
       "    <tr>\n",
       "      <th>67326</th>\n",
       "      <td>Berlin</td>\n",
       "      <td>SK Berlin Mitte</td>\n",
       "      <td>A00-A04</td>\n",
       "      <td>M</td>\n",
       "      <td>1</td>\n",
       "      <td>0</td>\n",
       "      <td>1</td>\n",
       "      <td>08.04.2020, 00:00 Uhr</td>\n",
       "    </tr>\n",
       "    <tr>\n",
       "      <th>67327</th>\n",
       "      <td>Berlin</td>\n",
       "      <td>SK Berlin Mitte</td>\n",
       "      <td>A00-A04</td>\n",
       "      <td>M</td>\n",
       "      <td>1</td>\n",
       "      <td>0</td>\n",
       "      <td>1</td>\n",
       "      <td>08.04.2020, 00:00 Uhr</td>\n",
       "    </tr>\n",
       "    <tr>\n",
       "      <th>67328</th>\n",
       "      <td>Berlin</td>\n",
       "      <td>SK Berlin Mitte</td>\n",
       "      <td>A00-A04</td>\n",
       "      <td>M</td>\n",
       "      <td>1</td>\n",
       "      <td>0</td>\n",
       "      <td>1</td>\n",
       "      <td>08.04.2020, 00:00 Uhr</td>\n",
       "    </tr>\n",
       "    <tr>\n",
       "      <th>67329</th>\n",
       "      <td>Berlin</td>\n",
       "      <td>SK Berlin Mitte</td>\n",
       "      <td>A00-A04</td>\n",
       "      <td>M</td>\n",
       "      <td>1</td>\n",
       "      <td>0</td>\n",
       "      <td>0</td>\n",
       "      <td>08.04.2020, 00:00 Uhr</td>\n",
       "    </tr>\n",
       "    <tr>\n",
       "      <th>67330</th>\n",
       "      <td>Berlin</td>\n",
       "      <td>SK Berlin Mitte</td>\n",
       "      <td>A00-A04</td>\n",
       "      <td>M</td>\n",
       "      <td>1</td>\n",
       "      <td>0</td>\n",
       "      <td>0</td>\n",
       "      <td>08.04.2020, 00:00 Uhr</td>\n",
       "    </tr>\n",
       "    <tr>\n",
       "      <th>67331</th>\n",
       "      <td>Berlin</td>\n",
       "      <td>SK Berlin Mitte</td>\n",
       "      <td>A00-A04</td>\n",
       "      <td>M</td>\n",
       "      <td>1</td>\n",
       "      <td>0</td>\n",
       "      <td>0</td>\n",
       "      <td>08.04.2020, 00:00 Uhr</td>\n",
       "    </tr>\n",
       "    <tr>\n",
       "      <th>67332</th>\n",
       "      <td>Berlin</td>\n",
       "      <td>SK Berlin Mitte</td>\n",
       "      <td>A00-A04</td>\n",
       "      <td>M</td>\n",
       "      <td>1</td>\n",
       "      <td>0</td>\n",
       "      <td>0</td>\n",
       "      <td>08.04.2020, 00:00 Uhr</td>\n",
       "    </tr>\n",
       "    <tr>\n",
       "      <th>67333</th>\n",
       "      <td>Berlin</td>\n",
       "      <td>SK Berlin Mitte</td>\n",
       "      <td>A00-A04</td>\n",
       "      <td>M</td>\n",
       "      <td>1</td>\n",
       "      <td>0</td>\n",
       "      <td>0</td>\n",
       "      <td>08.04.2020, 00:00 Uhr</td>\n",
       "    </tr>\n",
       "    <tr>\n",
       "      <th>67334</th>\n",
       "      <td>Berlin</td>\n",
       "      <td>SK Berlin Mitte</td>\n",
       "      <td>A00-A04</td>\n",
       "      <td>W</td>\n",
       "      <td>1</td>\n",
       "      <td>0</td>\n",
       "      <td>1</td>\n",
       "      <td>08.04.2020, 00:00 Uhr</td>\n",
       "    </tr>\n",
       "    <tr>\n",
       "      <th>67335</th>\n",
       "      <td>Berlin</td>\n",
       "      <td>SK Berlin Mitte</td>\n",
       "      <td>A00-A04</td>\n",
       "      <td>W</td>\n",
       "      <td>1</td>\n",
       "      <td>0</td>\n",
       "      <td>0</td>\n",
       "      <td>08.04.2020, 00:00 Uhr</td>\n",
       "    </tr>\n",
       "    <tr>\n",
       "      <th>67336</th>\n",
       "      <td>Berlin</td>\n",
       "      <td>SK Berlin Mitte</td>\n",
       "      <td>A00-A04</td>\n",
       "      <td>W</td>\n",
       "      <td>1</td>\n",
       "      <td>0</td>\n",
       "      <td>0</td>\n",
       "      <td>08.04.2020, 00:00 Uhr</td>\n",
       "    </tr>\n",
       "    <tr>\n",
       "      <th>67801</th>\n",
       "      <td>Berlin</td>\n",
       "      <td>SK Berlin Friedrichshain-Kreuzberg</td>\n",
       "      <td>A00-A04</td>\n",
       "      <td>M</td>\n",
       "      <td>1</td>\n",
       "      <td>0</td>\n",
       "      <td>0</td>\n",
       "      <td>08.04.2020, 00:00 Uhr</td>\n",
       "    </tr>\n",
       "    <tr>\n",
       "      <th>67802</th>\n",
       "      <td>Berlin</td>\n",
       "      <td>SK Berlin Friedrichshain-Kreuzberg</td>\n",
       "      <td>A00-A04</td>\n",
       "      <td>W</td>\n",
       "      <td>1</td>\n",
       "      <td>0</td>\n",
       "      <td>1</td>\n",
       "      <td>08.04.2020, 00:00 Uhr</td>\n",
       "    </tr>\n",
       "    <tr>\n",
       "      <th>67803</th>\n",
       "      <td>Berlin</td>\n",
       "      <td>SK Berlin Friedrichshain-Kreuzberg</td>\n",
       "      <td>A00-A04</td>\n",
       "      <td>W</td>\n",
       "      <td>1</td>\n",
       "      <td>0</td>\n",
       "      <td>0</td>\n",
       "      <td>08.04.2020, 00:00 Uhr</td>\n",
       "    </tr>\n",
       "    <tr>\n",
       "      <th>67804</th>\n",
       "      <td>Berlin</td>\n",
       "      <td>SK Berlin Friedrichshain-Kreuzberg</td>\n",
       "      <td>A00-A04</td>\n",
       "      <td>W</td>\n",
       "      <td>1</td>\n",
       "      <td>0</td>\n",
       "      <td>0</td>\n",
       "      <td>08.04.2020, 00:00 Uhr</td>\n",
       "    </tr>\n",
       "    <tr>\n",
       "      <th>68325</th>\n",
       "      <td>Berlin</td>\n",
       "      <td>SK Berlin Tempelhof-Schöneberg</td>\n",
       "      <td>A00-A04</td>\n",
       "      <td>M</td>\n",
       "      <td>1</td>\n",
       "      <td>0</td>\n",
       "      <td>1</td>\n",
       "      <td>08.04.2020, 00:00 Uhr</td>\n",
       "    </tr>\n",
       "    <tr>\n",
       "      <th>68326</th>\n",
       "      <td>Berlin</td>\n",
       "      <td>SK Berlin Tempelhof-Schöneberg</td>\n",
       "      <td>A00-A04</td>\n",
       "      <td>M</td>\n",
       "      <td>1</td>\n",
       "      <td>0</td>\n",
       "      <td>1</td>\n",
       "      <td>08.04.2020, 00:00 Uhr</td>\n",
       "    </tr>\n",
       "    <tr>\n",
       "      <th>68327</th>\n",
       "      <td>Berlin</td>\n",
       "      <td>SK Berlin Tempelhof-Schöneberg</td>\n",
       "      <td>A00-A04</td>\n",
       "      <td>M</td>\n",
       "      <td>1</td>\n",
       "      <td>0</td>\n",
       "      <td>0</td>\n",
       "      <td>08.04.2020, 00:00 Uhr</td>\n",
       "    </tr>\n",
       "    <tr>\n",
       "      <th>68328</th>\n",
       "      <td>Berlin</td>\n",
       "      <td>SK Berlin Tempelhof-Schöneberg</td>\n",
       "      <td>A00-A04</td>\n",
       "      <td>M</td>\n",
       "      <td>1</td>\n",
       "      <td>0</td>\n",
       "      <td>0</td>\n",
       "      <td>08.04.2020, 00:00 Uhr</td>\n",
       "    </tr>\n",
       "    <tr>\n",
       "      <th>68329</th>\n",
       "      <td>Berlin</td>\n",
       "      <td>SK Berlin Tempelhof-Schöneberg</td>\n",
       "      <td>A00-A04</td>\n",
       "      <td>M</td>\n",
       "      <td>1</td>\n",
       "      <td>0</td>\n",
       "      <td>0</td>\n",
       "      <td>08.04.2020, 00:00 Uhr</td>\n",
       "    </tr>\n",
       "    <tr>\n",
       "      <th>68689</th>\n",
       "      <td>Berlin</td>\n",
       "      <td>SK Berlin Neukölln</td>\n",
       "      <td>A00-A04</td>\n",
       "      <td>M</td>\n",
       "      <td>1</td>\n",
       "      <td>0</td>\n",
       "      <td>1</td>\n",
       "      <td>08.04.2020, 00:00 Uhr</td>\n",
       "    </tr>\n",
       "    <tr>\n",
       "      <th>68690</th>\n",
       "      <td>Berlin</td>\n",
       "      <td>SK Berlin Neukölln</td>\n",
       "      <td>A00-A04</td>\n",
       "      <td>M</td>\n",
       "      <td>1</td>\n",
       "      <td>0</td>\n",
       "      <td>1</td>\n",
       "      <td>08.04.2020, 00:00 Uhr</td>\n",
       "    </tr>\n",
       "    <tr>\n",
       "      <th>68691</th>\n",
       "      <td>Berlin</td>\n",
       "      <td>SK Berlin Neukölln</td>\n",
       "      <td>A00-A04</td>\n",
       "      <td>M</td>\n",
       "      <td>1</td>\n",
       "      <td>0</td>\n",
       "      <td>0</td>\n",
       "      <td>08.04.2020, 00:00 Uhr</td>\n",
       "    </tr>\n",
       "    <tr>\n",
       "      <th>68692</th>\n",
       "      <td>Berlin</td>\n",
       "      <td>SK Berlin Neukölln</td>\n",
       "      <td>A00-A04</td>\n",
       "      <td>M</td>\n",
       "      <td>1</td>\n",
       "      <td>0</td>\n",
       "      <td>1</td>\n",
       "      <td>08.04.2020, 00:00 Uhr</td>\n",
       "    </tr>\n",
       "    <tr>\n",
       "      <th>68693</th>\n",
       "      <td>Berlin</td>\n",
       "      <td>SK Berlin Neukölln</td>\n",
       "      <td>A00-A04</td>\n",
       "      <td>M</td>\n",
       "      <td>2</td>\n",
       "      <td>0</td>\n",
       "      <td>0</td>\n",
       "      <td>08.04.2020, 00:00 Uhr</td>\n",
       "    </tr>\n",
       "    <tr>\n",
       "      <th>68694</th>\n",
       "      <td>Berlin</td>\n",
       "      <td>SK Berlin Neukölln</td>\n",
       "      <td>A00-A04</td>\n",
       "      <td>W</td>\n",
       "      <td>1</td>\n",
       "      <td>0</td>\n",
       "      <td>1</td>\n",
       "      <td>08.04.2020, 00:00 Uhr</td>\n",
       "    </tr>\n",
       "    <tr>\n",
       "      <th>68695</th>\n",
       "      <td>Berlin</td>\n",
       "      <td>SK Berlin Neukölln</td>\n",
       "      <td>A00-A04</td>\n",
       "      <td>W</td>\n",
       "      <td>1</td>\n",
       "      <td>0</td>\n",
       "      <td>0</td>\n",
       "      <td>08.04.2020, 00:00 Uhr</td>\n",
       "    </tr>\n",
       "    <tr>\n",
       "      <th>70068</th>\n",
       "      <td>Berlin</td>\n",
       "      <td>SK Berlin Treptow-Köpenick</td>\n",
       "      <td>A00-A04</td>\n",
       "      <td>W</td>\n",
       "      <td>1</td>\n",
       "      <td>0</td>\n",
       "      <td>0</td>\n",
       "      <td>08.04.2020, 00:00 Uhr</td>\n",
       "    </tr>\n",
       "    <tr>\n",
       "      <th>70245</th>\n",
       "      <td>Berlin</td>\n",
       "      <td>SK Berlin Marzahn-Hellersdorf</td>\n",
       "      <td>A00-A04</td>\n",
       "      <td>W</td>\n",
       "      <td>1</td>\n",
       "      <td>0</td>\n",
       "      <td>1</td>\n",
       "      <td>08.04.2020, 00:00 Uhr</td>\n",
       "    </tr>\n",
       "    <tr>\n",
       "      <th>70385</th>\n",
       "      <td>Berlin</td>\n",
       "      <td>SK Berlin Lichtenberg</td>\n",
       "      <td>A00-A04</td>\n",
       "      <td>W</td>\n",
       "      <td>1</td>\n",
       "      <td>0</td>\n",
       "      <td>0</td>\n",
       "      <td>08.04.2020, 00:00 Uhr</td>\n",
       "    </tr>\n",
       "    <tr>\n",
       "      <th>70386</th>\n",
       "      <td>Berlin</td>\n",
       "      <td>SK Berlin Lichtenberg</td>\n",
       "      <td>A00-A04</td>\n",
       "      <td>W</td>\n",
       "      <td>1</td>\n",
       "      <td>0</td>\n",
       "      <td>1</td>\n",
       "      <td>08.04.2020, 00:00 Uhr</td>\n",
       "    </tr>\n",
       "    <tr>\n",
       "      <th>70387</th>\n",
       "      <td>Berlin</td>\n",
       "      <td>SK Berlin Lichtenberg</td>\n",
       "      <td>A00-A04</td>\n",
       "      <td>W</td>\n",
       "      <td>1</td>\n",
       "      <td>0</td>\n",
       "      <td>1</td>\n",
       "      <td>08.04.2020, 00:00 Uhr</td>\n",
       "    </tr>\n",
       "    <tr>\n",
       "      <th>70536</th>\n",
       "      <td>Berlin</td>\n",
       "      <td>SK Berlin Reinickendorf</td>\n",
       "      <td>A00-A04</td>\n",
       "      <td>M</td>\n",
       "      <td>1</td>\n",
       "      <td>0</td>\n",
       "      <td>1</td>\n",
       "      <td>08.04.2020, 00:00 Uhr</td>\n",
       "    </tr>\n",
       "    <tr>\n",
       "      <th>70537</th>\n",
       "      <td>Berlin</td>\n",
       "      <td>SK Berlin Reinickendorf</td>\n",
       "      <td>A00-A04</td>\n",
       "      <td>M</td>\n",
       "      <td>1</td>\n",
       "      <td>0</td>\n",
       "      <td>0</td>\n",
       "      <td>08.04.2020, 00:00 Uhr</td>\n",
       "    </tr>\n",
       "    <tr>\n",
       "      <th>70538</th>\n",
       "      <td>Berlin</td>\n",
       "      <td>SK Berlin Reinickendorf</td>\n",
       "      <td>A00-A04</td>\n",
       "      <td>W</td>\n",
       "      <td>1</td>\n",
       "      <td>0</td>\n",
       "      <td>1</td>\n",
       "      <td>08.04.2020, 00:00 Uhr</td>\n",
       "    </tr>\n",
       "    <tr>\n",
       "      <th>70539</th>\n",
       "      <td>Berlin</td>\n",
       "      <td>SK Berlin Reinickendorf</td>\n",
       "      <td>A00-A04</td>\n",
       "      <td>W</td>\n",
       "      <td>1</td>\n",
       "      <td>0</td>\n",
       "      <td>1</td>\n",
       "      <td>08.04.2020, 00:00 Uhr</td>\n",
       "    </tr>\n",
       "    <tr>\n",
       "      <th>70540</th>\n",
       "      <td>Berlin</td>\n",
       "      <td>SK Berlin Reinickendorf</td>\n",
       "      <td>A00-A04</td>\n",
       "      <td>W</td>\n",
       "      <td>1</td>\n",
       "      <td>0</td>\n",
       "      <td>1</td>\n",
       "      <td>08.04.2020, 00:00 Uhr</td>\n",
       "    </tr>\n",
       "    <tr>\n",
       "      <th>70541</th>\n",
       "      <td>Berlin</td>\n",
       "      <td>SK Berlin Reinickendorf</td>\n",
       "      <td>A00-A04</td>\n",
       "      <td>W</td>\n",
       "      <td>1</td>\n",
       "      <td>0</td>\n",
       "      <td>0</td>\n",
       "      <td>08.04.2020, 00:00 Uhr</td>\n",
       "    </tr>\n",
       "  </tbody>\n",
       "</table>\n",
       "</div>"
      ],
      "text/plain": [
       "      Bundesland                             Landkreis Altersgruppe  \\\n",
       "66118     Berlin                      SK Berlin Pankow      A00-A04   \n",
       "66119     Berlin                      SK Berlin Pankow      A00-A04   \n",
       "66120     Berlin                      SK Berlin Pankow      A00-A04   \n",
       "66121     Berlin                      SK Berlin Pankow      A00-A04   \n",
       "66459     Berlin  SK Berlin Charlottenburg-Wilmersdorf      A00-A04   \n",
       "66460     Berlin  SK Berlin Charlottenburg-Wilmersdorf      A00-A04   \n",
       "66461     Berlin  SK Berlin Charlottenburg-Wilmersdorf      A00-A04   \n",
       "66462     Berlin  SK Berlin Charlottenburg-Wilmersdorf      A00-A04   \n",
       "66890     Berlin                     SK Berlin Spandau      A00-A04   \n",
       "67323     Berlin                       SK Berlin Mitte      A00-A04   \n",
       "67324     Berlin                       SK Berlin Mitte      A00-A04   \n",
       "67325     Berlin                       SK Berlin Mitte      A00-A04   \n",
       "67326     Berlin                       SK Berlin Mitte      A00-A04   \n",
       "67327     Berlin                       SK Berlin Mitte      A00-A04   \n",
       "67328     Berlin                       SK Berlin Mitte      A00-A04   \n",
       "67329     Berlin                       SK Berlin Mitte      A00-A04   \n",
       "67330     Berlin                       SK Berlin Mitte      A00-A04   \n",
       "67331     Berlin                       SK Berlin Mitte      A00-A04   \n",
       "67332     Berlin                       SK Berlin Mitte      A00-A04   \n",
       "67333     Berlin                       SK Berlin Mitte      A00-A04   \n",
       "67334     Berlin                       SK Berlin Mitte      A00-A04   \n",
       "67335     Berlin                       SK Berlin Mitte      A00-A04   \n",
       "67336     Berlin                       SK Berlin Mitte      A00-A04   \n",
       "67801     Berlin    SK Berlin Friedrichshain-Kreuzberg      A00-A04   \n",
       "67802     Berlin    SK Berlin Friedrichshain-Kreuzberg      A00-A04   \n",
       "67803     Berlin    SK Berlin Friedrichshain-Kreuzberg      A00-A04   \n",
       "67804     Berlin    SK Berlin Friedrichshain-Kreuzberg      A00-A04   \n",
       "68325     Berlin        SK Berlin Tempelhof-Schöneberg      A00-A04   \n",
       "68326     Berlin        SK Berlin Tempelhof-Schöneberg      A00-A04   \n",
       "68327     Berlin        SK Berlin Tempelhof-Schöneberg      A00-A04   \n",
       "68328     Berlin        SK Berlin Tempelhof-Schöneberg      A00-A04   \n",
       "68329     Berlin        SK Berlin Tempelhof-Schöneberg      A00-A04   \n",
       "68689     Berlin                    SK Berlin Neukölln      A00-A04   \n",
       "68690     Berlin                    SK Berlin Neukölln      A00-A04   \n",
       "68691     Berlin                    SK Berlin Neukölln      A00-A04   \n",
       "68692     Berlin                    SK Berlin Neukölln      A00-A04   \n",
       "68693     Berlin                    SK Berlin Neukölln      A00-A04   \n",
       "68694     Berlin                    SK Berlin Neukölln      A00-A04   \n",
       "68695     Berlin                    SK Berlin Neukölln      A00-A04   \n",
       "70068     Berlin            SK Berlin Treptow-Köpenick      A00-A04   \n",
       "70245     Berlin         SK Berlin Marzahn-Hellersdorf      A00-A04   \n",
       "70385     Berlin                 SK Berlin Lichtenberg      A00-A04   \n",
       "70386     Berlin                 SK Berlin Lichtenberg      A00-A04   \n",
       "70387     Berlin                 SK Berlin Lichtenberg      A00-A04   \n",
       "70536     Berlin               SK Berlin Reinickendorf      A00-A04   \n",
       "70537     Berlin               SK Berlin Reinickendorf      A00-A04   \n",
       "70538     Berlin               SK Berlin Reinickendorf      A00-A04   \n",
       "70539     Berlin               SK Berlin Reinickendorf      A00-A04   \n",
       "70540     Berlin               SK Berlin Reinickendorf      A00-A04   \n",
       "70541     Berlin               SK Berlin Reinickendorf      A00-A04   \n",
       "\n",
       "      Geschlecht  AnzahlFall  AnzahlTodesfall  AnzahlGenesen  \\\n",
       "66118          M           1                0              0   \n",
       "66119          M           1                0              1   \n",
       "66120          W           1                0              1   \n",
       "66121          W           1                0              1   \n",
       "66459          M           1                0              0   \n",
       "66460          M           1                0              1   \n",
       "66461          W           1                0              0   \n",
       "66462          W           1                0              0   \n",
       "66890          M           1                0              0   \n",
       "67323          M           1                0              1   \n",
       "67324          M           1                0              1   \n",
       "67325          M           1                0              0   \n",
       "67326          M           1                0              1   \n",
       "67327          M           1                0              1   \n",
       "67328          M           1                0              1   \n",
       "67329          M           1                0              0   \n",
       "67330          M           1                0              0   \n",
       "67331          M           1                0              0   \n",
       "67332          M           1                0              0   \n",
       "67333          M           1                0              0   \n",
       "67334          W           1                0              1   \n",
       "67335          W           1                0              0   \n",
       "67336          W           1                0              0   \n",
       "67801          M           1                0              0   \n",
       "67802          W           1                0              1   \n",
       "67803          W           1                0              0   \n",
       "67804          W           1                0              0   \n",
       "68325          M           1                0              1   \n",
       "68326          M           1                0              1   \n",
       "68327          M           1                0              0   \n",
       "68328          M           1                0              0   \n",
       "68329          M           1                0              0   \n",
       "68689          M           1                0              1   \n",
       "68690          M           1                0              1   \n",
       "68691          M           1                0              0   \n",
       "68692          M           1                0              1   \n",
       "68693          M           2                0              0   \n",
       "68694          W           1                0              1   \n",
       "68695          W           1                0              0   \n",
       "70068          W           1                0              0   \n",
       "70245          W           1                0              1   \n",
       "70385          W           1                0              0   \n",
       "70386          W           1                0              1   \n",
       "70387          W           1                0              1   \n",
       "70536          M           1                0              1   \n",
       "70537          M           1                0              0   \n",
       "70538          W           1                0              1   \n",
       "70539          W           1                0              1   \n",
       "70540          W           1                0              1   \n",
       "70541          W           1                0              0   \n",
       "\n",
       "                  Datenstand  \n",
       "66118  08.04.2020, 00:00 Uhr  \n",
       "66119  08.04.2020, 00:00 Uhr  \n",
       "66120  08.04.2020, 00:00 Uhr  \n",
       "66121  08.04.2020, 00:00 Uhr  \n",
       "66459  08.04.2020, 00:00 Uhr  \n",
       "66460  08.04.2020, 00:00 Uhr  \n",
       "66461  08.04.2020, 00:00 Uhr  \n",
       "66462  08.04.2020, 00:00 Uhr  \n",
       "66890  08.04.2020, 00:00 Uhr  \n",
       "67323  08.04.2020, 00:00 Uhr  \n",
       "67324  08.04.2020, 00:00 Uhr  \n",
       "67325  08.04.2020, 00:00 Uhr  \n",
       "67326  08.04.2020, 00:00 Uhr  \n",
       "67327  08.04.2020, 00:00 Uhr  \n",
       "67328  08.04.2020, 00:00 Uhr  \n",
       "67329  08.04.2020, 00:00 Uhr  \n",
       "67330  08.04.2020, 00:00 Uhr  \n",
       "67331  08.04.2020, 00:00 Uhr  \n",
       "67332  08.04.2020, 00:00 Uhr  \n",
       "67333  08.04.2020, 00:00 Uhr  \n",
       "67334  08.04.2020, 00:00 Uhr  \n",
       "67335  08.04.2020, 00:00 Uhr  \n",
       "67336  08.04.2020, 00:00 Uhr  \n",
       "67801  08.04.2020, 00:00 Uhr  \n",
       "67802  08.04.2020, 00:00 Uhr  \n",
       "67803  08.04.2020, 00:00 Uhr  \n",
       "67804  08.04.2020, 00:00 Uhr  \n",
       "68325  08.04.2020, 00:00 Uhr  \n",
       "68326  08.04.2020, 00:00 Uhr  \n",
       "68327  08.04.2020, 00:00 Uhr  \n",
       "68328  08.04.2020, 00:00 Uhr  \n",
       "68329  08.04.2020, 00:00 Uhr  \n",
       "68689  08.04.2020, 00:00 Uhr  \n",
       "68690  08.04.2020, 00:00 Uhr  \n",
       "68691  08.04.2020, 00:00 Uhr  \n",
       "68692  08.04.2020, 00:00 Uhr  \n",
       "68693  08.04.2020, 00:00 Uhr  \n",
       "68694  08.04.2020, 00:00 Uhr  \n",
       "68695  08.04.2020, 00:00 Uhr  \n",
       "70068  08.04.2020, 00:00 Uhr  \n",
       "70245  08.04.2020, 00:00 Uhr  \n",
       "70385  08.04.2020, 00:00 Uhr  \n",
       "70386  08.04.2020, 00:00 Uhr  \n",
       "70387  08.04.2020, 00:00 Uhr  \n",
       "70536  08.04.2020, 00:00 Uhr  \n",
       "70537  08.04.2020, 00:00 Uhr  \n",
       "70538  08.04.2020, 00:00 Uhr  \n",
       "70539  08.04.2020, 00:00 Uhr  \n",
       "70540  08.04.2020, 00:00 Uhr  \n",
       "70541  08.04.2020, 00:00 Uhr  "
      ]
     },
     "execution_count": 27,
     "metadata": {},
     "output_type": "execute_result"
    }
   ],
   "source": [
    "data_berlin.groupby('Altersgruppe').get_group(\"A00-A04\")"
   ]
  },
  {
   "cell_type": "markdown",
   "metadata": {},
   "source": [
    "**Applying and combining**: Apply function to each group, e.g. get the sum of numerical values in each group using `sum()`."
   ]
  },
  {
   "cell_type": "code",
   "execution_count": 28,
   "metadata": {},
   "outputs": [
    {
     "data": {
      "text/html": [
       "<div>\n",
       "<style scoped>\n",
       "    .dataframe tbody tr th:only-of-type {\n",
       "        vertical-align: middle;\n",
       "    }\n",
       "\n",
       "    .dataframe tbody tr th {\n",
       "        vertical-align: top;\n",
       "    }\n",
       "\n",
       "    .dataframe thead th {\n",
       "        text-align: right;\n",
       "    }\n",
       "</style>\n",
       "<table border=\"1\" class=\"dataframe\">\n",
       "  <thead>\n",
       "    <tr style=\"text-align: right;\">\n",
       "      <th></th>\n",
       "      <th>Bundesland</th>\n",
       "      <th>Landkreis</th>\n",
       "      <th>Geschlecht</th>\n",
       "      <th>AnzahlFall</th>\n",
       "      <th>AnzahlTodesfall</th>\n",
       "      <th>AnzahlGenesen</th>\n",
       "      <th>Datenstand</th>\n",
       "    </tr>\n",
       "    <tr>\n",
       "      <th>Altersgruppe</th>\n",
       "      <th></th>\n",
       "      <th></th>\n",
       "      <th></th>\n",
       "      <th></th>\n",
       "      <th></th>\n",
       "      <th></th>\n",
       "      <th></th>\n",
       "    </tr>\n",
       "  </thead>\n",
       "  <tbody>\n",
       "    <tr>\n",
       "      <th>A00-A04</th>\n",
       "      <td>BerlinBerlinBerlinBerlinBerlinBerlinBerlinBerl...</td>\n",
       "      <td>SK Berlin PankowSK Berlin PankowSK Berlin Pank...</td>\n",
       "      <td>MMWWMMWWMMMMMMMMMMMMWWWMWWWMMMMMMMMMMWWWWWWWMM...</td>\n",
       "      <td>51</td>\n",
       "      <td>0</td>\n",
       "      <td>24</td>\n",
       "      <td>08.04.2020, 00:00 Uhr08.04.2020, 00:00 Uhr08.0...</td>\n",
       "    </tr>\n",
       "    <tr>\n",
       "      <th>A05-A14</th>\n",
       "      <td>BerlinBerlinBerlinBerlinBerlinBerlinBerlinBerl...</td>\n",
       "      <td>SK Berlin PankowSK Berlin PankowSK Berlin Pank...</td>\n",
       "      <td>MMWMMMWWWWWWWWMMMMWWWMWWWWMMMMMMWWWWWWWMMMMMWW...</td>\n",
       "      <td>106</td>\n",
       "      <td>0</td>\n",
       "      <td>67</td>\n",
       "      <td>08.04.2020, 00:00 Uhr08.04.2020, 00:00 Uhr08.0...</td>\n",
       "    </tr>\n",
       "    <tr>\n",
       "      <th>A15-A34</th>\n",
       "      <td>BerlinBerlinBerlinBerlinBerlinBerlinBerlinBerl...</td>\n",
       "      <td>SK Berlin PankowSK Berlin PankowSK Berlin Pank...</td>\n",
       "      <td>MMMMMMMMMMMMMMMMMMMMMMMMMMMMMMMMMMMMMMMMMMMMMM...</td>\n",
       "      <td>1356</td>\n",
       "      <td>0</td>\n",
       "      <td>889</td>\n",
       "      <td>08.04.2020, 00:00 Uhr08.04.2020, 00:00 Uhr08.0...</td>\n",
       "    </tr>\n",
       "    <tr>\n",
       "      <th>A35-A59</th>\n",
       "      <td>BerlinBerlinBerlinBerlinBerlinBerlinBerlinBerl...</td>\n",
       "      <td>SK Berlin Friedrichshain-KreuzbergSK Berlin Fr...</td>\n",
       "      <td>MMMMMMMMMMMMMMMMMMMMMMunbekanntunbekanntunbeka...</td>\n",
       "      <td>1732</td>\n",
       "      <td>4</td>\n",
       "      <td>1064</td>\n",
       "      <td>08.04.2020, 00:00 Uhr08.04.2020, 00:00 Uhr08.0...</td>\n",
       "    </tr>\n",
       "    <tr>\n",
       "      <th>A60-A79</th>\n",
       "      <td>BerlinBerlinBerlinBerlinBerlinBerlinBerlinBerl...</td>\n",
       "      <td>SK Berlin Friedrichshain-KreuzbergSK Berlin Fr...</td>\n",
       "      <td>MMMMMMMMMMMMMMMMMWWWWWWWWWWWMMMMMMMMMMMMMMMMMW...</td>\n",
       "      <td>573</td>\n",
       "      <td>9</td>\n",
       "      <td>264</td>\n",
       "      <td>08.04.2020, 00:00 Uhr08.04.2020, 00:00 Uhr08.0...</td>\n",
       "    </tr>\n",
       "    <tr>\n",
       "      <th>A80+</th>\n",
       "      <td>BerlinBerlinBerlinBerlinBerlinBerlinBerlinBerl...</td>\n",
       "      <td>SK Berlin Friedrichshain-KreuzbergSK Berlin Fr...</td>\n",
       "      <td>MWMMMMMWWWWWWWWWWMMMMMMMMMMWWWWWWWWWWMMMMMWWWW...</td>\n",
       "      <td>192</td>\n",
       "      <td>19</td>\n",
       "      <td>25</td>\n",
       "      <td>08.04.2020, 00:00 Uhr08.04.2020, 00:00 Uhr08.0...</td>\n",
       "    </tr>\n",
       "    <tr>\n",
       "      <th>unbekannt</th>\n",
       "      <td>BerlinBerlinBerlinBerlinBerlinBerlinBerlinBerl...</td>\n",
       "      <td>SK Berlin MitteSK Berlin MitteSK Berlin MitteS...</td>\n",
       "      <td>MunbekanntunbekanntWMMMunbekanntMM</td>\n",
       "      <td>11</td>\n",
       "      <td>0</td>\n",
       "      <td>4</td>\n",
       "      <td>08.04.2020, 00:00 Uhr08.04.2020, 00:00 Uhr08.0...</td>\n",
       "    </tr>\n",
       "  </tbody>\n",
       "</table>\n",
       "</div>"
      ],
      "text/plain": [
       "                                                     Bundesland  \\\n",
       "Altersgruppe                                                      \n",
       "A00-A04       BerlinBerlinBerlinBerlinBerlinBerlinBerlinBerl...   \n",
       "A05-A14       BerlinBerlinBerlinBerlinBerlinBerlinBerlinBerl...   \n",
       "A15-A34       BerlinBerlinBerlinBerlinBerlinBerlinBerlinBerl...   \n",
       "A35-A59       BerlinBerlinBerlinBerlinBerlinBerlinBerlinBerl...   \n",
       "A60-A79       BerlinBerlinBerlinBerlinBerlinBerlinBerlinBerl...   \n",
       "A80+          BerlinBerlinBerlinBerlinBerlinBerlinBerlinBerl...   \n",
       "unbekannt     BerlinBerlinBerlinBerlinBerlinBerlinBerlinBerl...   \n",
       "\n",
       "                                                      Landkreis  \\\n",
       "Altersgruppe                                                      \n",
       "A00-A04       SK Berlin PankowSK Berlin PankowSK Berlin Pank...   \n",
       "A05-A14       SK Berlin PankowSK Berlin PankowSK Berlin Pank...   \n",
       "A15-A34       SK Berlin PankowSK Berlin PankowSK Berlin Pank...   \n",
       "A35-A59       SK Berlin Friedrichshain-KreuzbergSK Berlin Fr...   \n",
       "A60-A79       SK Berlin Friedrichshain-KreuzbergSK Berlin Fr...   \n",
       "A80+          SK Berlin Friedrichshain-KreuzbergSK Berlin Fr...   \n",
       "unbekannt     SK Berlin MitteSK Berlin MitteSK Berlin MitteS...   \n",
       "\n",
       "                                                     Geschlecht  AnzahlFall  \\\n",
       "Altersgruppe                                                                  \n",
       "A00-A04       MMWWMMWWMMMMMMMMMMMMWWWMWWWMMMMMMMMMMWWWWWWWMM...          51   \n",
       "A05-A14       MMWMMMWWWWWWWWMMMMWWWMWWWWMMMMMMWWWWWWWMMMMMWW...         106   \n",
       "A15-A34       MMMMMMMMMMMMMMMMMMMMMMMMMMMMMMMMMMMMMMMMMMMMMM...        1356   \n",
       "A35-A59       MMMMMMMMMMMMMMMMMMMMMMunbekanntunbekanntunbeka...        1732   \n",
       "A60-A79       MMMMMMMMMMMMMMMMMWWWWWWWWWWWMMMMMMMMMMMMMMMMMW...         573   \n",
       "A80+          MWMMMMMWWWWWWWWWWMMMMMMMMMMWWWWWWWWWWMMMMMWWWW...         192   \n",
       "unbekannt                    MunbekanntunbekanntWMMMunbekanntMM          11   \n",
       "\n",
       "              AnzahlTodesfall  AnzahlGenesen  \\\n",
       "Altersgruppe                                   \n",
       "A00-A04                     0             24   \n",
       "A05-A14                     0             67   \n",
       "A15-A34                     0            889   \n",
       "A35-A59                     4           1064   \n",
       "A60-A79                     9            264   \n",
       "A80+                       19             25   \n",
       "unbekannt                   0              4   \n",
       "\n",
       "                                                     Datenstand  \n",
       "Altersgruppe                                                     \n",
       "A00-A04       08.04.2020, 00:00 Uhr08.04.2020, 00:00 Uhr08.0...  \n",
       "A05-A14       08.04.2020, 00:00 Uhr08.04.2020, 00:00 Uhr08.0...  \n",
       "A15-A34       08.04.2020, 00:00 Uhr08.04.2020, 00:00 Uhr08.0...  \n",
       "A35-A59       08.04.2020, 00:00 Uhr08.04.2020, 00:00 Uhr08.0...  \n",
       "A60-A79       08.04.2020, 00:00 Uhr08.04.2020, 00:00 Uhr08.0...  \n",
       "A80+          08.04.2020, 00:00 Uhr08.04.2020, 00:00 Uhr08.0...  \n",
       "unbekannt     08.04.2020, 00:00 Uhr08.04.2020, 00:00 Uhr08.0...  "
      ]
     },
     "execution_count": 28,
     "metadata": {},
     "output_type": "execute_result"
    }
   ],
   "source": [
    "data_berlin.groupby('Altersgruppe').sum()"
   ]
  },
  {
   "cell_type": "markdown",
   "metadata": {},
   "source": [
    "With `pandas` it is very easy to quickly plot data using the `plot()` function ([see docs](https://pandas.pydata.org/pandas-docs/stable/reference/api/pandas.DataFrame.plot.html)) - with the parameter `kind` you can specify what plot type you want to plot (in our case we want a barplot). Note that the index labels will serve as x-axis labels.\n",
    "\n",
    "Select `AnzahlFall` for the plot."
   ]
  },
  {
   "cell_type": "code",
   "execution_count": 29,
   "metadata": {},
   "outputs": [
    {
     "data": {
      "image/png": "[encoded data removed]",
      "text/plain": [
       "<Figure size 640x480 with 1 Axes>"
      ]
     },
     "metadata": {},
     "output_type": "display_data"
    }
   ],
   "source": [
    "data_berlin.groupby('Altersgruppe').sum()['AnzahlFall'].plot(\n",
    "    kind='bar', \n",
    "    title=f'Number of all COVID19 cases in Berlin since the beginning of the pandemic ({data[\"Datenstand\"].unique()[0]})'\n",
    ");"
   ]
  },
  {
   "cell_type": "markdown",
   "metadata": {},
   "source": [
    "Compare this plot with the [RKI Dashboard](https://corona.rki.de/)."
   ]
  },
  {
   "cell_type": "markdown",
   "metadata": {},
   "source": [
    "#### _Your turn_: Exercises"
   ]
  },
  {
   "cell_type": "markdown",
   "metadata": {},
   "source": [
    "__Exercise 11__: Since the `groupby` functionality is very powerful but also at first difficult to wraps our head around, go through the first two examples above again in your group and discuss questions."
   ]
  },
  {
   "cell_type": "code",
   "execution_count": null,
   "metadata": {},
   "outputs": [],
   "source": []
  },
  {
   "cell_type": "markdown",
   "metadata": {},
   "source": [
    "__Exercise 12__: Get number of total COVID-19 cases by Berlin's districts and compare your findings to the [official COVID-19 table for Berlin > Bezirke > Übersicht](https://www.berlin.de/corona/lagebericht/)."
   ]
  },
  {
   "cell_type": "code",
   "execution_count": null,
   "metadata": {},
   "outputs": [],
   "source": []
  },
  {
   "cell_type": "markdown",
   "metadata": {},
   "source": [
    "__Exercise 13__: Plot the number of total COVID-19 cases in Berlin grouped by Berlin's districts (barplot)."
   ]
  },
  {
   "cell_type": "code",
   "execution_count": null,
   "metadata": {},
   "outputs": [],
   "source": []
  },
  {
   "cell_type": "markdown",
   "metadata": {},
   "source": [
    "## 6. Discussion\n",
    "\n",
    "In this notebook, we saw how quickly possible it is to read in a csv file as `DataFrame` (*Chapter 5.2*) and to start working with it. \n",
    "- We got a first impression on our COVID-19 Berlin dataset. We looked at the number of data points (`DataFrame` rows) and criteria (`DataFrame` columns) as well as some example data points, see *Chapter 5.3*.\n",
    "- We selected interesting columns and checked what kind of column entries we can except, see *Chapter 5.4 and 5.5*. \n",
    "- We grouped data by certain criteria (columns), and applied operations on these groups, e.g. we calculated the sum within each group). We also did some first steps towards plotting with `pandas`, see *Chapter 5.6*. "
   ]
  },
  {
   "cell_type": "markdown",
   "metadata": {},
   "source": [
    "## 7. Final exercise\n",
    "\n",
    "As promised at the beginning, you will get your own dataset now :)\n",
    "\n",
    "Last year during the course, we could only work with COVID-19 cases data but luckily, this year, we have something positive to look at as well - the vaccination progress in Germany! You can find that data online again at the [RKI website](https://www.rki.de/DE/Content/InfAZ/N/Neuartiges_Coronavirus/Daten/Impfquoten-Tab.html) (under the \"Daten\" section). \n",
    "\n",
    "The provided Excel file is a bit difficult to handle, thus many GitHub repos have been set up to process the dataset into formats that are easier to work with, e.g. https://github.com/ard-data/2020-rki-impf-archive."
   ]
  },
  {
   "cell_type": "markdown",
   "metadata": {},
   "source": [
    "1. Let's load the cumulative vaccination progress for Germany. "
   ]
  },
  {
   "cell_type": "code",
   "execution_count": 30,
   "metadata": {
    "ExecuteTime": {
     "end_time": "2024-09-15T02:24:38.154173Z",
     "start_time": "2024-09-15T02:24:38.050199Z"
    }
   },
   "outputs": [
    {
     "data": {
      "text/html": [
       "<div>\n",
       "<style scoped>\n",
       "    .dataframe tbody tr th:only-of-type {\n",
       "        vertical-align: middle;\n",
       "    }\n",
       "\n",
       "    .dataframe tbody tr th {\n",
       "        vertical-align: top;\n",
       "    }\n",
       "\n",
       "    .dataframe thead th {\n",
       "        text-align: right;\n",
       "    }\n",
       "</style>\n",
       "<table border=\"1\" class=\"dataframe\">\n",
       "  <thead>\n",
       "    <tr style=\"text-align: right;\">\n",
       "      <th></th>\n",
       "      <th>date</th>\n",
       "      <th>publication_date</th>\n",
       "      <th>dosen_kumulativ</th>\n",
       "      <th>personen_erst_kumulativ</th>\n",
       "      <th>personen_voll_kumulativ</th>\n",
       "      <th>personen_min1_kumulativ</th>\n",
       "      <th>personen_zweit_kumulativ</th>\n",
       "      <th>personen_auffr_kumulativ</th>\n",
       "      <th>dosen_biontech_kumulativ</th>\n",
       "      <th>personen_erst_biontech_kumulativ</th>\n",
       "      <th>...</th>\n",
       "      <th>impf_quote_voll_alter_60plus</th>\n",
       "      <th>impf_quote_min1_alter_60plus</th>\n",
       "      <th>impf_quote_zweit_alter_60plus</th>\n",
       "      <th>impf_quote_auffr_alter_60plus</th>\n",
       "      <th>impf_inzidenz_dosen_alter_60plus</th>\n",
       "      <th>impf_inzidenz_erst_alter_60plus</th>\n",
       "      <th>impf_inzidenz_voll_alter_60plus</th>\n",
       "      <th>impf_inzidenz_min1_alter_60plus</th>\n",
       "      <th>impf_inzidenz_zweit_alter_60plus</th>\n",
       "      <th>impf_inzidenz_auffr_alter_60plus</th>\n",
       "    </tr>\n",
       "  </thead>\n",
       "  <tbody>\n",
       "    <tr>\n",
       "      <th>0</th>\n",
       "      <td>2020-12-27</td>\n",
       "      <td>2020-12-28 16:15</td>\n",
       "      <td>21566</td>\n",
       "      <td>21566.0</td>\n",
       "      <td>0</td>\n",
       "      <td>21566</td>\n",
       "      <td>0.0</td>\n",
       "      <td>NaN</td>\n",
       "      <td>21566</td>\n",
       "      <td>21566.0</td>\n",
       "      <td>...</td>\n",
       "      <td>NaN</td>\n",
       "      <td>NaN</td>\n",
       "      <td>NaN</td>\n",
       "      <td>NaN</td>\n",
       "      <td>NaN</td>\n",
       "      <td>NaN</td>\n",
       "      <td>NaN</td>\n",
       "      <td>NaN</td>\n",
       "      <td>NaN</td>\n",
       "      <td>NaN</td>\n",
       "    </tr>\n",
       "    <tr>\n",
       "      <th>1</th>\n",
       "      <td>2020-12-28</td>\n",
       "      <td>2020-12-29 08:00</td>\n",
       "      <td>41962</td>\n",
       "      <td>41962.0</td>\n",
       "      <td>0</td>\n",
       "      <td>41962</td>\n",
       "      <td>0.0</td>\n",
       "      <td>NaN</td>\n",
       "      <td>41962</td>\n",
       "      <td>41962.0</td>\n",
       "      <td>...</td>\n",
       "      <td>NaN</td>\n",
       "      <td>NaN</td>\n",
       "      <td>NaN</td>\n",
       "      <td>NaN</td>\n",
       "      <td>NaN</td>\n",
       "      <td>NaN</td>\n",
       "      <td>NaN</td>\n",
       "      <td>NaN</td>\n",
       "      <td>NaN</td>\n",
       "      <td>NaN</td>\n",
       "    </tr>\n",
       "    <tr>\n",
       "      <th>2</th>\n",
       "      <td>2020-12-30</td>\n",
       "      <td>2020-12-31 08:30</td>\n",
       "      <td>131626</td>\n",
       "      <td>131626.0</td>\n",
       "      <td>0</td>\n",
       "      <td>131626</td>\n",
       "      <td>0.0</td>\n",
       "      <td>NaN</td>\n",
       "      <td>131626</td>\n",
       "      <td>131626.0</td>\n",
       "      <td>...</td>\n",
       "      <td>NaN</td>\n",
       "      <td>NaN</td>\n",
       "      <td>NaN</td>\n",
       "      <td>NaN</td>\n",
       "      <td>NaN</td>\n",
       "      <td>NaN</td>\n",
       "      <td>NaN</td>\n",
       "      <td>NaN</td>\n",
       "      <td>NaN</td>\n",
       "      <td>NaN</td>\n",
       "    </tr>\n",
       "    <tr>\n",
       "      <th>3</th>\n",
       "      <td>2020-12-31</td>\n",
       "      <td>2021-01-01 12:30</td>\n",
       "      <td>165575</td>\n",
       "      <td>165575.0</td>\n",
       "      <td>0</td>\n",
       "      <td>165575</td>\n",
       "      <td>0.0</td>\n",
       "      <td>NaN</td>\n",
       "      <td>165575</td>\n",
       "      <td>165575.0</td>\n",
       "      <td>...</td>\n",
       "      <td>NaN</td>\n",
       "      <td>NaN</td>\n",
       "      <td>NaN</td>\n",
       "      <td>NaN</td>\n",
       "      <td>NaN</td>\n",
       "      <td>NaN</td>\n",
       "      <td>NaN</td>\n",
       "      <td>NaN</td>\n",
       "      <td>NaN</td>\n",
       "      <td>NaN</td>\n",
       "    </tr>\n",
       "    <tr>\n",
       "      <th>4</th>\n",
       "      <td>2021-01-01</td>\n",
       "      <td>2021-01-02 08:00</td>\n",
       "      <td>188553</td>\n",
       "      <td>188553.0</td>\n",
       "      <td>0</td>\n",
       "      <td>188553</td>\n",
       "      <td>0.0</td>\n",
       "      <td>NaN</td>\n",
       "      <td>188553</td>\n",
       "      <td>188553.0</td>\n",
       "      <td>...</td>\n",
       "      <td>NaN</td>\n",
       "      <td>NaN</td>\n",
       "      <td>NaN</td>\n",
       "      <td>NaN</td>\n",
       "      <td>NaN</td>\n",
       "      <td>NaN</td>\n",
       "      <td>NaN</td>\n",
       "      <td>NaN</td>\n",
       "      <td>NaN</td>\n",
       "      <td>NaN</td>\n",
       "    </tr>\n",
       "  </tbody>\n",
       "</table>\n",
       "<p>5 rows × 188 columns</p>\n",
       "</div>"
      ],
      "text/plain": [
       "         date  publication_date  dosen_kumulativ  personen_erst_kumulativ  \\\n",
       "0  2020-12-27  2020-12-28 16:15            21566                  21566.0   \n",
       "1  2020-12-28  2020-12-29 08:00            41962                  41962.0   \n",
       "2  2020-12-30  2020-12-31 08:30           131626                 131626.0   \n",
       "3  2020-12-31  2021-01-01 12:30           165575                 165575.0   \n",
       "4  2021-01-01  2021-01-02 08:00           188553                 188553.0   \n",
       "\n",
       "   personen_voll_kumulativ  personen_min1_kumulativ  personen_zweit_kumulativ  \\\n",
       "0                        0                    21566                       0.0   \n",
       "1                        0                    41962                       0.0   \n",
       "2                        0                   131626                       0.0   \n",
       "3                        0                   165575                       0.0   \n",
       "4                        0                   188553                       0.0   \n",
       "\n",
       "   personen_auffr_kumulativ  dosen_biontech_kumulativ  \\\n",
       "0                       NaN                     21566   \n",
       "1                       NaN                     41962   \n",
       "2                       NaN                    131626   \n",
       "3                       NaN                    165575   \n",
       "4                       NaN                    188553   \n",
       "\n",
       "   personen_erst_biontech_kumulativ  ...  impf_quote_voll_alter_60plus  \\\n",
       "0                           21566.0  ...                           NaN   \n",
       "1                           41962.0  ...                           NaN   \n",
       "2                          131626.0  ...                           NaN   \n",
       "3                          165575.0  ...                           NaN   \n",
       "4                          188553.0  ...                           NaN   \n",
       "\n",
       "   impf_quote_min1_alter_60plus  impf_quote_zweit_alter_60plus  \\\n",
       "0                           NaN                            NaN   \n",
       "1                           NaN                            NaN   \n",
       "2                           NaN                            NaN   \n",
       "3                           NaN                            NaN   \n",
       "4                           NaN                            NaN   \n",
       "\n",
       "   impf_quote_auffr_alter_60plus  impf_inzidenz_dosen_alter_60plus  \\\n",
       "0                            NaN                               NaN   \n",
       "1                            NaN                               NaN   \n",
       "2                            NaN                               NaN   \n",
       "3                            NaN                               NaN   \n",
       "4                            NaN                               NaN   \n",
       "\n",
       "   impf_inzidenz_erst_alter_60plus  impf_inzidenz_voll_alter_60plus  \\\n",
       "0                              NaN                              NaN   \n",
       "1                              NaN                              NaN   \n",
       "2                              NaN                              NaN   \n",
       "3                              NaN                              NaN   \n",
       "4                              NaN                              NaN   \n",
       "\n",
       "   impf_inzidenz_min1_alter_60plus  impf_inzidenz_zweit_alter_60plus  \\\n",
       "0                              NaN                               NaN   \n",
       "1                              NaN                               NaN   \n",
       "2                              NaN                               NaN   \n",
       "3                              NaN                               NaN   \n",
       "4                              NaN                               NaN   \n",
       "\n",
       "   impf_inzidenz_auffr_alter_60plus  \n",
       "0                               NaN  \n",
       "1                               NaN  \n",
       "2                               NaN  \n",
       "3                               NaN  \n",
       "4                               NaN  \n",
       "\n",
       "[5 rows x 188 columns]"
      ]
     },
     "execution_count": 30,
     "metadata": {},
     "output_type": "execute_result"
    }
   ],
   "source": [
    "vaccination_cumulative = pd.read_csv(\n",
    "    \"data/region_DE.csv\"\n",
    ")\n",
    "vaccination_cumulative.head()"
   ]
  },
  {
   "cell_type": "markdown",
   "metadata": {},
   "source": [
    "2. Let the `date` column know that it represents dates (change data structure from `object` to `datetime`). This will help us later during plotting because `pandas` will not try to label each day in the plot but maybe rather every month (depending on the range of dates)."
   ]
  },
  {
   "cell_type": "code",
   "execution_count": 31,
   "metadata": {
    "ExecuteTime": {
     "end_time": "2024-09-15T02:24:40.036706Z",
     "start_time": "2024-09-15T02:24:39.956530Z"
    }
   },
   "outputs": [
    {
     "data": {
      "text/html": [
       "<div>\n",
       "<style scoped>\n",
       "    .dataframe tbody tr th:only-of-type {\n",
       "        vertical-align: middle;\n",
       "    }\n",
       "\n",
       "    .dataframe tbody tr th {\n",
       "        vertical-align: top;\n",
       "    }\n",
       "\n",
       "    .dataframe thead th {\n",
       "        text-align: right;\n",
       "    }\n",
       "</style>\n",
       "<table border=\"1\" class=\"dataframe\">\n",
       "  <thead>\n",
       "    <tr style=\"text-align: right;\">\n",
       "      <th></th>\n",
       "      <th>date</th>\n",
       "      <th>publication_date</th>\n",
       "      <th>dosen_kumulativ</th>\n",
       "      <th>personen_erst_kumulativ</th>\n",
       "      <th>personen_voll_kumulativ</th>\n",
       "      <th>personen_min1_kumulativ</th>\n",
       "      <th>personen_zweit_kumulativ</th>\n",
       "      <th>personen_auffr_kumulativ</th>\n",
       "      <th>dosen_biontech_kumulativ</th>\n",
       "      <th>personen_erst_biontech_kumulativ</th>\n",
       "      <th>...</th>\n",
       "      <th>impf_quote_voll_alter_60plus</th>\n",
       "      <th>impf_quote_min1_alter_60plus</th>\n",
       "      <th>impf_quote_zweit_alter_60plus</th>\n",
       "      <th>impf_quote_auffr_alter_60plus</th>\n",
       "      <th>impf_inzidenz_dosen_alter_60plus</th>\n",
       "      <th>impf_inzidenz_erst_alter_60plus</th>\n",
       "      <th>impf_inzidenz_voll_alter_60plus</th>\n",
       "      <th>impf_inzidenz_min1_alter_60plus</th>\n",
       "      <th>impf_inzidenz_zweit_alter_60plus</th>\n",
       "      <th>impf_inzidenz_auffr_alter_60plus</th>\n",
       "    </tr>\n",
       "  </thead>\n",
       "  <tbody>\n",
       "    <tr>\n",
       "      <th>0</th>\n",
       "      <td>2020-12-27</td>\n",
       "      <td>2020-12-28 16:15</td>\n",
       "      <td>21566</td>\n",
       "      <td>21566.0</td>\n",
       "      <td>0</td>\n",
       "      <td>21566</td>\n",
       "      <td>0.0</td>\n",
       "      <td>NaN</td>\n",
       "      <td>21566</td>\n",
       "      <td>21566.0</td>\n",
       "      <td>...</td>\n",
       "      <td>NaN</td>\n",
       "      <td>NaN</td>\n",
       "      <td>NaN</td>\n",
       "      <td>NaN</td>\n",
       "      <td>NaN</td>\n",
       "      <td>NaN</td>\n",
       "      <td>NaN</td>\n",
       "      <td>NaN</td>\n",
       "      <td>NaN</td>\n",
       "      <td>NaN</td>\n",
       "    </tr>\n",
       "    <tr>\n",
       "      <th>1</th>\n",
       "      <td>2020-12-28</td>\n",
       "      <td>2020-12-29 08:00</td>\n",
       "      <td>41962</td>\n",
       "      <td>41962.0</td>\n",
       "      <td>0</td>\n",
       "      <td>41962</td>\n",
       "      <td>0.0</td>\n",
       "      <td>NaN</td>\n",
       "      <td>41962</td>\n",
       "      <td>41962.0</td>\n",
       "      <td>...</td>\n",
       "      <td>NaN</td>\n",
       "      <td>NaN</td>\n",
       "      <td>NaN</td>\n",
       "      <td>NaN</td>\n",
       "      <td>NaN</td>\n",
       "      <td>NaN</td>\n",
       "      <td>NaN</td>\n",
       "      <td>NaN</td>\n",
       "      <td>NaN</td>\n",
       "      <td>NaN</td>\n",
       "    </tr>\n",
       "    <tr>\n",
       "      <th>2</th>\n",
       "      <td>2020-12-30</td>\n",
       "      <td>2020-12-31 08:30</td>\n",
       "      <td>131626</td>\n",
       "      <td>131626.0</td>\n",
       "      <td>0</td>\n",
       "      <td>131626</td>\n",
       "      <td>0.0</td>\n",
       "      <td>NaN</td>\n",
       "      <td>131626</td>\n",
       "      <td>131626.0</td>\n",
       "      <td>...</td>\n",
       "      <td>NaN</td>\n",
       "      <td>NaN</td>\n",
       "      <td>NaN</td>\n",
       "      <td>NaN</td>\n",
       "      <td>NaN</td>\n",
       "      <td>NaN</td>\n",
       "      <td>NaN</td>\n",
       "      <td>NaN</td>\n",
       "      <td>NaN</td>\n",
       "      <td>NaN</td>\n",
       "    </tr>\n",
       "    <tr>\n",
       "      <th>3</th>\n",
       "      <td>2020-12-31</td>\n",
       "      <td>2021-01-01 12:30</td>\n",
       "      <td>165575</td>\n",
       "      <td>165575.0</td>\n",
       "      <td>0</td>\n",
       "      <td>165575</td>\n",
       "      <td>0.0</td>\n",
       "      <td>NaN</td>\n",
       "      <td>165575</td>\n",
       "      <td>165575.0</td>\n",
       "      <td>...</td>\n",
       "      <td>NaN</td>\n",
       "      <td>NaN</td>\n",
       "      <td>NaN</td>\n",
       "      <td>NaN</td>\n",
       "      <td>NaN</td>\n",
       "      <td>NaN</td>\n",
       "      <td>NaN</td>\n",
       "      <td>NaN</td>\n",
       "      <td>NaN</td>\n",
       "      <td>NaN</td>\n",
       "    </tr>\n",
       "    <tr>\n",
       "      <th>4</th>\n",
       "      <td>2021-01-01</td>\n",
       "      <td>2021-01-02 08:00</td>\n",
       "      <td>188553</td>\n",
       "      <td>188553.0</td>\n",
       "      <td>0</td>\n",
       "      <td>188553</td>\n",
       "      <td>0.0</td>\n",
       "      <td>NaN</td>\n",
       "      <td>188553</td>\n",
       "      <td>188553.0</td>\n",
       "      <td>...</td>\n",
       "      <td>NaN</td>\n",
       "      <td>NaN</td>\n",
       "      <td>NaN</td>\n",
       "      <td>NaN</td>\n",
       "      <td>NaN</td>\n",
       "      <td>NaN</td>\n",
       "      <td>NaN</td>\n",
       "      <td>NaN</td>\n",
       "      <td>NaN</td>\n",
       "      <td>NaN</td>\n",
       "    </tr>\n",
       "  </tbody>\n",
       "</table>\n",
       "<p>5 rows × 188 columns</p>\n",
       "</div>"
      ],
      "text/plain": [
       "        date  publication_date  dosen_kumulativ  personen_erst_kumulativ  \\\n",
       "0 2020-12-27  2020-12-28 16:15            21566                  21566.0   \n",
       "1 2020-12-28  2020-12-29 08:00            41962                  41962.0   \n",
       "2 2020-12-30  2020-12-31 08:30           131626                 131626.0   \n",
       "3 2020-12-31  2021-01-01 12:30           165575                 165575.0   \n",
       "4 2021-01-01  2021-01-02 08:00           188553                 188553.0   \n",
       "\n",
       "   personen_voll_kumulativ  personen_min1_kumulativ  personen_zweit_kumulativ  \\\n",
       "0                        0                    21566                       0.0   \n",
       "1                        0                    41962                       0.0   \n",
       "2                        0                   131626                       0.0   \n",
       "3                        0                   165575                       0.0   \n",
       "4                        0                   188553                       0.0   \n",
       "\n",
       "   personen_auffr_kumulativ  dosen_biontech_kumulativ  \\\n",
       "0                       NaN                     21566   \n",
       "1                       NaN                     41962   \n",
       "2                       NaN                    131626   \n",
       "3                       NaN                    165575   \n",
       "4                       NaN                    188553   \n",
       "\n",
       "   personen_erst_biontech_kumulativ  ...  impf_quote_voll_alter_60plus  \\\n",
       "0                           21566.0  ...                           NaN   \n",
       "1                           41962.0  ...                           NaN   \n",
       "2                          131626.0  ...                           NaN   \n",
       "3                          165575.0  ...                           NaN   \n",
       "4                          188553.0  ...                           NaN   \n",
       "\n",
       "   impf_quote_min1_alter_60plus  impf_quote_zweit_alter_60plus  \\\n",
       "0                           NaN                            NaN   \n",
       "1                           NaN                            NaN   \n",
       "2                           NaN                            NaN   \n",
       "3                           NaN                            NaN   \n",
       "4                           NaN                            NaN   \n",
       "\n",
       "   impf_quote_auffr_alter_60plus  impf_inzidenz_dosen_alter_60plus  \\\n",
       "0                            NaN                               NaN   \n",
       "1                            NaN                               NaN   \n",
       "2                            NaN                               NaN   \n",
       "3                            NaN                               NaN   \n",
       "4                            NaN                               NaN   \n",
       "\n",
       "   impf_inzidenz_erst_alter_60plus  impf_inzidenz_voll_alter_60plus  \\\n",
       "0                              NaN                              NaN   \n",
       "1                              NaN                              NaN   \n",
       "2                              NaN                              NaN   \n",
       "3                              NaN                              NaN   \n",
       "4                              NaN                              NaN   \n",
       "\n",
       "   impf_inzidenz_min1_alter_60plus  impf_inzidenz_zweit_alter_60plus  \\\n",
       "0                              NaN                               NaN   \n",
       "1                              NaN                               NaN   \n",
       "2                              NaN                               NaN   \n",
       "3                              NaN                               NaN   \n",
       "4                              NaN                               NaN   \n",
       "\n",
       "   impf_inzidenz_auffr_alter_60plus  \n",
       "0                               NaN  \n",
       "1                               NaN  \n",
       "2                               NaN  \n",
       "3                               NaN  \n",
       "4                               NaN  \n",
       "\n",
       "[5 rows x 188 columns]"
      ]
     },
     "execution_count": 31,
     "metadata": {},
     "output_type": "execute_result"
    }
   ],
   "source": [
    "vaccination_cumulative[\"date\"] = pd.to_datetime(vaccination_cumulative[\"date\"])\n",
    "vaccination_cumulative.head()"
   ]
  },
  {
   "cell_type": "code",
   "execution_count": 32,
   "metadata": {
    "ExecuteTime": {
     "end_time": "2024-09-15T02:24:40.795074Z",
     "start_time": "2024-09-15T02:24:40.679209Z"
    }
   },
   "outputs": [
    {
     "data": {
      "text/plain": [
       "date                                datetime64[ns]\n",
       "publication_date                            object\n",
       "dosen_kumulativ                              int64\n",
       "personen_erst_kumulativ                    float64\n",
       "personen_voll_kumulativ                      int64\n",
       "                                         ...      \n",
       "impf_inzidenz_erst_alter_60plus            float64\n",
       "impf_inzidenz_voll_alter_60plus            float64\n",
       "impf_inzidenz_min1_alter_60plus            float64\n",
       "impf_inzidenz_zweit_alter_60plus           float64\n",
       "impf_inzidenz_auffr_alter_60plus           float64\n",
       "Length: 188, dtype: object"
      ]
     },
     "execution_count": 32,
     "metadata": {},
     "output_type": "execute_result"
    }
   ],
   "source": [
    "vaccination_cumulative.dtypes"
   ]
  },
  {
   "cell_type": "markdown",
   "metadata": {},
   "source": [
    "3. Set the date as the `DataFrame` index. Use `your_dataframe.set_index(column_name)` for that."
   ]
  },
  {
   "cell_type": "code",
   "execution_count": null,
   "metadata": {
    "ExecuteTime": {
     "end_time": "2024-09-15T02:24:40.799231Z",
     "start_time": "2024-09-15T02:24:40.684340Z"
    }
   },
   "outputs": [],
   "source": []
  },
  {
   "cell_type": "markdown",
   "metadata": {},
   "source": [
    "4. Select only the columns containing the cumulative number of people who are fully vaccinated or vaccinated once/twice (`personen_voll_kumulativ`, `personen_erst_kumulativ`, and `personen_zweit_kumulativ`)."
   ]
  },
  {
   "cell_type": "code",
   "execution_count": null,
   "metadata": {
    "ExecuteTime": {
     "end_time": "2024-09-15T02:24:41.737586Z",
     "start_time": "2024-09-15T02:24:41.435428Z"
    }
   },
   "outputs": [],
   "source": []
  },
  {
   "cell_type": "markdown",
   "metadata": {},
   "source": [
    "5. Plot the cumulative time series."
   ]
  },
  {
   "cell_type": "code",
   "execution_count": null,
   "metadata": {
    "ExecuteTime": {
     "end_time": "2024-09-15T02:24:42.071216Z",
     "start_time": "2024-09-15T02:24:41.945492Z"
    }
   },
   "outputs": [],
   "source": []
  },
  {
   "cell_type": "markdown",
   "metadata": {},
   "source": [
    "6. Compare your results to the data on the BMG website: https://impfdashboard.de/"
   ]
  },
  {
   "cell_type": "code",
   "execution_count": null,
   "metadata": {
    "ExecuteTime": {
     "end_time": "2024-09-15T02:24:42.357381Z",
     "start_time": "2024-09-15T02:24:42.225701Z"
    }
   },
   "outputs": [],
   "source": []
  },
  {
   "cell_type": "code",
   "execution_count": null,
   "metadata": {
    "ExecuteTime": {
     "end_time": "2024-09-15T02:24:42.432669Z",
     "start_time": "2024-09-15T02:24:42.347088Z"
    }
   },
   "outputs": [],
   "source": []
  },
  {
   "cell_type": "code",
   "execution_count": null,
   "metadata": {
    "ExecuteTime": {
     "end_time": "2024-09-15T02:24:42.498372Z",
     "start_time": "2024-09-15T02:24:42.390819Z"
    }
   },
   "outputs": [],
   "source": []
  },
  {
   "cell_type": "code",
   "execution_count": null,
   "metadata": {
    "ExecuteTime": {
     "end_time": "2024-09-15T02:24:42.651458Z",
     "start_time": "2024-09-15T02:24:42.498191Z"
    }
   },
   "outputs": [],
   "source": []
  },
  {
   "cell_type": "code",
   "execution_count": null,
   "metadata": {
    "ExecuteTime": {
     "end_time": "2024-09-15T02:24:42.792849Z",
     "start_time": "2024-09-15T02:24:42.636970Z"
    }
   },
   "outputs": [],
   "source": []
  },
  {
   "cell_type": "code",
   "execution_count": null,
   "metadata": {
    "ExecuteTime": {
     "end_time": "2024-09-15T02:24:42.946233Z",
     "start_time": "2024-09-15T02:24:42.793148Z"
    }
   },
   "outputs": [],
   "source": []
  },
  {
   "cell_type": "code",
   "execution_count": null,
   "metadata": {
    "ExecuteTime": {
     "end_time": "2024-09-15T02:24:43.053434Z",
     "start_time": "2024-09-15T02:24:42.927167Z"
    }
   },
   "outputs": [],
   "source": []
  },
  {
   "cell_type": "code",
   "execution_count": null,
   "metadata": {
    "ExecuteTime": {
     "end_time": "2024-09-15T02:24:43.097594Z",
     "start_time": "2024-09-15T02:24:43.041765Z"
    }
   },
   "outputs": [],
   "source": []
  },
  {
   "cell_type": "code",
   "execution_count": null,
   "metadata": {
    "ExecuteTime": {
     "end_time": "2024-09-15T02:24:43.201592Z",
     "start_time": "2024-09-15T02:24:43.097773Z"
    }
   },
   "outputs": [],
   "source": []
  },
  {
   "cell_type": "code",
   "execution_count": null,
   "metadata": {
    "ExecuteTime": {
     "end_time": "2024-09-15T02:24:43.266720Z",
     "start_time": "2024-09-15T02:24:43.183629Z"
    }
   },
   "outputs": [],
   "source": []
  },
  {
   "cell_type": "code",
   "execution_count": null,
   "metadata": {},
   "outputs": [],
   "source": []
  },
  {
   "cell_type": "code",
   "execution_count": null,
   "metadata": {},
   "outputs": [],
   "source": []
  },
  {
   "cell_type": "code",
   "execution_count": null,
   "metadata": {},
   "outputs": [],
   "source": []
  },
  {
   "cell_type": "code",
   "execution_count": null,
   "metadata": {},
   "outputs": [],
   "source": []
  },
  {
   "cell_type": "code",
   "execution_count": null,
   "metadata": {},
   "outputs": [],
   "source": []
  },
  {
   "cell_type": "code",
   "execution_count": null,
   "metadata": {},
   "outputs": [],
   "source": []
  },
  {
   "cell_type": "code",
   "execution_count": null,
   "metadata": {},
   "outputs": [],
   "source": []
  },
  {
   "cell_type": "code",
   "execution_count": null,
   "metadata": {},
   "outputs": [],
   "source": []
  },
  {
   "cell_type": "code",
   "execution_count": null,
   "metadata": {},
   "outputs": [],
   "source": []
  },
  {
   "cell_type": "code",
   "execution_count": null,
   "metadata": {},
   "outputs": [],
   "source": []
  },
  {
   "cell_type": "markdown",
   "metadata": {},
   "source": [
    "__Solutions__"
   ]
  },
  {
   "cell_type": "markdown",
   "metadata": {},
   "source": [
    "__Words of encouragement :)__ \n",
    "\n",
    "Before you take a look at the solutions, try to solve the exercises yourself. \n",
    "\n",
    "All the information needed lives in _5. Practical_ - if you are stuck, first take a look at the material there. Talk to your fellow students. If you have a solution, then go ahead and take a look here.\n",
    "\n",
    "Also note that the solutions given here show only one possibility - most of the times there are multiple options to achieve the same end result."
   ]
  },
  {
   "cell_type": "markdown",
   "metadata": {},
   "source": [
    "<details>\n",
    "<summary> > Solution 1</summary>\n",
    "    \n",
    "```python\n",
    "data.head(4)\n",
    "data.tail()\n",
    "```\n",
    "    \n",
    "</details>"
   ]
  },
  {
   "cell_type": "markdown",
   "metadata": {},
   "source": [
    "<details>\n",
    "<summary> > Solution 2</summary>\n",
    "    \n",
    "```python\n",
    "len(data.columns)\n",
    "data.columns[2]\n",
    "```\n",
    "    \n",
    "</details>"
   ]
  },
  {
   "cell_type": "markdown",
   "metadata": {},
   "source": [
    "<details>\n",
    "<summary> > Solution 3</summary>\n",
    "    \n",
    "```python\n",
    "pd.DataFrame(\n",
    "    [\n",
    "        [\"France\", \"Gewürztraminer\", True], \n",
    "        [\"Australia\", \"beautiful nature\", True], \n",
    "        [\"Israel\", \"hummus\", True], \n",
    "        [\"Iceland\", \"language\", False]\n",
    "    ], \n",
    "    columns=[\"country\", \"awesome because of\", \"been there\"]\n",
    ")\n",
    "```\n",
    "    \n",
    "</details>"
   ]
  },
  {
   "cell_type": "markdown",
   "metadata": {},
   "source": [
    "<details>\n",
    "<summary> > Solution 4</summary>\n",
    "    \n",
    "```python\n",
    "data[[\"AnzahlFall\", \"AnzahlTodesfall\", \"AnzahlGenesen\"]]\n",
    "```\n",
    "    \n",
    "</details>"
   ]
  },
  {
   "cell_type": "markdown",
   "metadata": {},
   "source": [
    "<details>\n",
    "<summary> > Solution 5</summary>\n",
    "    \n",
    "```python\n",
    "data.loc[:, [\"AnzahlFall\", \"AnzahlTodesfall\", \"AnzahlGenesen\"]]\n",
    "```\n",
    "    \n",
    "</details>"
   ]
  },
  {
   "cell_type": "markdown",
   "metadata": {},
   "source": [
    "<details>\n",
    "<summary> > Solution 6</summary>\n",
    "    \n",
    "```python\n",
    "data.iloc[:, [4, 5, 6]]\n",
    "```\n",
    "    \n",
    "</details>"
   ]
  },
  {
   "cell_type": "markdown",
   "metadata": {},
   "source": [
    "<details>\n",
    "<summary> > Solution 7</summary>\n",
    "    \n",
    "```python\n",
    "data[\"Altersgruppe\"].unique()\n",
    "```\n",
    "    \n",
    "</details>"
   ]
  },
  {
   "cell_type": "markdown",
   "metadata": {},
   "source": [
    "<details>\n",
    "<summary> > Solution 8</summary>\n",
    "    \n",
    "```python\n",
    "len(data[\"Landkreis\"].unique())\n",
    "```\n",
    "    \n",
    "</details>"
   ]
  },
  {
   "cell_type": "markdown",
   "metadata": {},
   "source": [
    "<details>\n",
    "<summary> > Solution 9</summary>\n",
    "    \n",
    "```python\n",
    "data[data[\"Landkreis\"] == \"SK Berlin Mitte\"]\n",
    "```\n",
    "    \n",
    "</details>"
   ]
  },
  {
   "cell_type": "markdown",
   "metadata": {},
   "source": [
    "<details>\n",
    "<summary> > Solution 10</summary>\n",
    "    \n",
    "```python\n",
    "data[\n",
    "    (data[\"Bundesland\"] == \"Berlin\") & \n",
    "    (data[\"Altersgruppe\"] == \"A35-A59\")\n",
    "]\n",
    "```\n",
    "    \n",
    "</details>"
   ]
  },
  {
   "cell_type": "markdown",
   "metadata": {},
   "source": [
    "<details>\n",
    "<summary> > Solution 11</summary>\n",
    "    \n",
    "Go through _Chapter 5.6._ one more time.\n",
    "    \n",
    "</details>"
   ]
  },
  {
   "cell_type": "markdown",
   "metadata": {},
   "source": [
    "<details>\n",
    "<summary> > Solution 12</summary>\n",
    "    \n",
    "```python\n",
    "data_berlin.groupby('Landkreis')['AnzahlFall'].sum()\n",
    "```\n",
    "    \n",
    "</details>"
   ]
  },
  {
   "cell_type": "markdown",
   "metadata": {},
   "source": [
    "<details>\n",
    "<summary> > Solution 13</summary>\n",
    "    \n",
    "```python\n",
    "data_berlin.groupby('Landkreis')['AnzahlFall'].sum().plot(\n",
    "    kind='bar', title=f'Number of COVID-19 cases in Berlin'\n",
    ")\n",
    "```\n",
    "    \n",
    "</details>"
   ]
  },
  {
   "cell_type": "markdown",
   "metadata": {},
   "source": [
    "<details>\n",
    "<summary> > Solution to final exercise</summary>\n",
    "    \n",
    "```python\n",
    "vaccination_cumulative = vaccination_cumulative.set_index(\"date\")\n",
    "vaccination_cumulative = vaccination_cumulative[[\"personen_erst_kumulativ\", \"personen_voll_kumulativ\", \"personen_zweit_kumulativ\"]]\n",
    "vaccination_cumulative.plot()\n",
    "```\n",
    "    \n",
    "</details>"
   ]
  },
  {
   "cell_type": "code",
   "execution_count": null,
   "metadata": {},
   "outputs": [],
   "source": []
  },
  {
   "cell_type": "code",
   "execution_count": null,
   "metadata": {},
   "outputs": [],
   "source": []
  },
  {
   "cell_type": "code",
   "execution_count": null,
   "metadata": {},
   "outputs": [],
   "source": []
  },
  {
   "cell_type": "code",
   "execution_count": null,
   "metadata": {},
   "outputs": [],
   "source": []
  },
  {
   "cell_type": "code",
   "execution_count": null,
   "metadata": {},
   "outputs": [],
   "source": []
  },
  {
   "cell_type": "code",
   "execution_count": null,
   "metadata": {},
   "outputs": [],
   "source": []
  },
  {
   "cell_type": "code",
   "execution_count": null,
   "metadata": {},
   "outputs": [],
   "source": []
  }
 ],
 "metadata": {
  "kernelspec": {
   "display_name": "Python 3 (ipykernel)",
   "language": "python",
   "name": "python3"
  },
  "language_info": {
   "codemirror_mode": {
    "name": "ipython",
    "version": 3
   },
   "file_extension": ".py",
   "mimetype": "text/x-python",
   "name": "python",
   "nbconvert_exporter": "python",
   "pygments_lexer": "ipython3",
   "version": "3.9.15"
  },
  "widgets": {
   "application/vnd.jupyter.widget-state+json": {
    "state": {},
    "version_major": 2,
    "version_minor": 0
   }
  }
 },
 "nbformat": 4,
 "nbformat_minor": 4
}
