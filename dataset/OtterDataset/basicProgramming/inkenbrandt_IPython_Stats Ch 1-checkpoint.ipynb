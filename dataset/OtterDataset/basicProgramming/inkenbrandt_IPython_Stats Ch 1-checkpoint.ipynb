{
 "metadata": {
  "name": "",
  "signature": "sha256:d3ae9d1ed2d6e0a72fdc10517e914fc28c08ec8ef91d83e592230b744c2c2f4c"
 },
 "nbformat": 3,
 "nbformat_minor": 0,
 "worksheets": [
  {
   "cells": [
    {
     "cell_type": "heading",
     "level": 1,
     "metadata": {},
     "source": [
      "Lesson 1: Introduction to Statistics and Geographic Data"
     ]
    },
    {
     "cell_type": "code",
     "collapsed": false,
     "input": [
      "import rpy2\n",
      "%pylab inline\n",
      "rcParams['figure.figsize'] = 15, 10\n",
      "%load_ext rmagic"
     ],
     "language": "python",
     "metadata": {},
     "outputs": [
      {
       "output_type": "stream",
       "stream": "stdout",
       "text": [
        "Populating the interactive namespace from numpy and matplotlib\n",
        "The rmagic extension is already loaded. To reload it, use:\n",
        "  %reload_ext rmagic\n"
       ]
      }
     ],
     "prompt_number": 3
    },
    {
     "cell_type": "heading",
     "level": 3,
     "metadata": {},
     "source": [
      "Lesson Objectives"
     ]
    },
    {
     "cell_type": "markdown",
     "metadata": {},
     "source": [
      "By the end of this lesson, you will be able to:\n",
      "1.\tDescribe common software used to conduct spatial statistics.\n",
      "2.\tDifferentiate between quantitative and qualitative data.\n",
      "3.\tExplain scales of variables \u2013 Nominal, Ordinal, Interval, and Ratio.\n",
      "4.\tDifferentiate between accuracy and precision.\n",
      "5.\tDetermine how to classify your data.\n",
      "6.\tExplain data aggregation.\n",
      "7.\tUse different graphs to present data.\n"
     ]
    },
    {
     "cell_type": "heading",
     "level": 3,
     "metadata": {},
     "source": [
      "Resources"
     ]
    },
    {
     "cell_type": "markdown",
     "metadata": {},
     "source": [
      "Review the following:<br>\n",
      "\u2022\t<a href=http://en.wikipedia.org/wiki/Spatial_analysis>Spatial Statistics</a><br>\n",
      "\u2022\t<a href=http://www.spatialecology.com/gme/>Geospatial Modeling Environment</a><br>\n"
     ]
    },
    {
     "cell_type": "markdown",
     "metadata": {},
     "source": [
      "<bol>Contents</bol><br>\n",
      "<ul>\n",
      "<li>[INTRODUCTION](#INTRODUCTION)</li>\n",
      "    <ul>\n",
      "    <li>[Statistics in Geospatial Science](#Statistics-in-Geospatial-Science)</li>\n",
      "    <li>[Application of Statistics](#Application-of-Statistics)</li>\n",
      "    <li>[The Role of Statistics](#The-Role-of-Statistics)</li>\n",
      "    </ul>\n",
      "<li>[SOFTWARE](#SOFTWARE)</li>\n",
      "<li>[DATA](#DATA)</li>\n",
      "</ul>"
     ]
    },
    {
     "cell_type": "heading",
     "level": 2,
     "metadata": {},
     "source": [
      "INTRODUCTION"
     ]
    },
    {
     "cell_type": "markdown",
     "metadata": {},
     "source": [
      "Data come in a variety of spatial and non-spatial formats and must be dealt with accordingly.  Proper data classification, aggregation, and presentation are key to successful statistics."
     ]
    },
    {
     "cell_type": "heading",
     "level": 3,
     "metadata": {},
     "source": [
      "Statistics in Geospatial Science"
     ]
    },
    {
     "cell_type": "markdown",
     "metadata": {},
     "source": [
      "Statistics provides geographers with a toolbox to better visualize and understand data.  When dealing with data in space and time, there are several variables to consider (e.g. x, y, and z coordinates, units of time), which requires high-level statistics for analysis. The <a href=http://en.wikipedia.org/wiki/Spatial_analysis>spatial statistics</a> description provided by Wikipedia shows the various aspects of this type of analysis."
     ]
    },
    {
     "cell_type": "heading",
     "level": 3,
     "metadata": {},
     "source": [
      "Application of Statistics"
     ]
    },
    {
     "cell_type": "markdown",
     "metadata": {},
     "source": [
      "For this course, you will focus on application of techniques of statistics and how those techniques can be applied.  For the sake of time, there will be minimal proofs and equations, but if you are curious about a specific technique, use resources at your disposal to investigate its inner workings more thoroughly.  The goal is to prepare you for the world of GIS analysis and describe how GIS plays into that analysis.  However, limitations and a general description of how the \u201ctools\u201d work will be provided."
     ]
    },
    {
     "cell_type": "heading",
     "level": 3,
     "metadata": {},
     "source": [
      "The Role of Statistics"
     ]
    },
    {
     "cell_type": "markdown",
     "metadata": {},
     "source": [
      "<p>Statistics provides methods for organizing and simplifying data that can be used to understand their significance. You can use statistics to distill information into comprehensive and intuitive displays, including graphs and tables. Using statistics, you can summarize data in a manner that can be numerically sound and useful.  In the time of \u201cbig data,\u201d the study of statistics is very important. Statistics provides methods for drawing inferences from samples, which allows you to answer questions and compare data sets with certainty and quantitative error values. You can make informed decisions when collecting samples, so that you can properly describe the population of the data in which you are interested.  Statistics allows us to account for uncertainty and define error.  With statistics you can use limited information to describe a larger population.</p>\n",
      "<p>Understanding statistics is important to avoid push-button (black box) calculations.  With the widespread availability of modern software tools, it is very easy to put data into the software, push a button, and get results.  If you do not understand the tool you are using, there can be serious implications with the results.</p>\n",
      "<p>Use of spatial statistics can condense several confusing maps of data into one clear, intuitive map.  With statistics, you can summarize several thousand points covering an area.  If you know spatial statistics, you can properly interpolate data with informed decisions of the data distribution.  Spatial statistics allows you to predict what to expect at a specific location.   Spatial statistics can be used to explain different phenomena at different locations and describe how data are related in space and time. Spatial statistics can maximize efficiency of the placement or movement of spatially oriented items.</p>\n"
     ]
    },
    {
     "cell_type": "heading",
     "level": 2,
     "metadata": {},
     "source": [
      "SOFTWARE"
     ]
    },
    {
     "cell_type": "markdown",
     "metadata": {},
     "source": [
      "To prepare for direct application of statistics to GIS, incorporate software tools will be incorporated. Due to the complex nature of the analyses to be conducted, the use of software will be necessary for many types of GIS analysis to be done. There are four software products that are good options for analyzing GIS data: <a href=http://www.esri.com/software/arcgis/arcgis-for-desktop>ArcGIS</a>, <a href=http://www.r-project.org/>R</a>, <a href=https://www.gnu.org/software/octave/>Octave</a>, and <a href=https://www.python.org/>Python</a>. "
     ]
    },
    {
     "cell_type": "heading",
     "level": 3,
     "metadata": {},
     "source": [
      "ESRI\u2019s ArcGIS Platform"
     ]
    },
    {
     "cell_type": "markdown",
     "metadata": {},
     "source": [
      "The ArcGIS platform by ESRI is an industry standard and is used by most GIS professionals.  There are a wide variety of tools applicable to spatial statistics and geostatistics.  The most important toolboxes in ArcGIS are the Spatial Analyst, Spatial Statistics, and Geostatistics.  This is proprietary software, but has many user contributors.  <a href=http://www.spatialecology.com/gme/>Geospatial Modeling Environment</a>, developed by ecologist Hawthorne Beyer, has incorporated many important statistical tools into ArcGIS and allows for rudimentary integration of the R programming language (see below) into GIS.  <a href=http://www.esri.com/>ESRI</a> is the producer of ArcGIS, and it makes many resources available for users to learn how to use its software, such as <a href=http://blogs.esri.com/esri/arcgis/2010/07/13/spatial-statistics-resources/>blogs</a>, <a href=http://www.esri.com/training/main/training-catalog>training</a>, and <a href=http://video.arcgis.com/>video tutorials</a>. The <a href=http://resources.arcgis.com/en/help/main/10.2>help file</a> associated with the software is very well maintained and complete, which makes it an excellent learning tool."
     ]
    },
    {
     "cell_type": "heading",
     "level": 3,
     "metadata": {},
     "source": [
      "R"
     ]
    },
    {
     "cell_type": "markdown",
     "metadata": {},
     "source": [
      "<p>R is a free statistical programming language that has been adapted by contributors to process spatial data. The software and many valuable resources on how to use the software can be found at the <a href=http://www.r-project.org/>R website</a>.  Learning R should be essential for any GIS analyst. However, R requires some knowledge of scripting, and therefore can have a steep learning curve for beginners of GIS.  In this course the basics of R will be covered, so that you can start integrating it into your analyses.  With R, you will be using the R commander package (Rcmdr) as a graphical user interface, to reduce the requirements of typing commands and understanding R syntax.  The text by Natasha Karp titled, <a href=http://cran.r-project.org/doc/contrib/Karp-Rcommander-intro.pdf><i>R commander an Introduction</i></a> is an excellent primer to R commander.</p>\n",
      "<p>While R does require scripting, it is a robust analysis software because of the huge user base that contributes to it.  Every type of statistical analysis that you can imagine can be found as an optional add-on to R.  There are many <a href=http://www.r-bloggers.com/>blogs</a> and online learning tools provided for R users.</p>"
     ]
    },
    {
     "cell_type": "heading",
     "level": 3,
     "metadata": {},
     "source": [
      "Octave"
     ]
    },
    {
     "cell_type": "markdown",
     "metadata": {},
     "source": [
      "GNU Octave is a software program very similar to a popular and very powerful proprietary software <a href=http://www.mathworks.com/products/matlab/>Matlab</a> created by Mathworks.  Instructions to download and install Octave can be found at the <a href=https://www.gnu.org/software/octave/>Octave website</a>.  This software also requires knowledge of software-specific scripting language, and uses scripting syntax that is compatible with Matlab scripts.  The scripting language used by Matlab and Octave is known as an array programming language (also known as a vector programming language), which makes Octave extremely well suited and applicable to processing raster data.  Octave has statistical packages made by and contributed to by users."
     ]
    },
    {
     "cell_type": "heading",
     "level": 3,
     "metadata": {},
     "source": [
      "Python"
     ]
    },
    {
     "cell_type": "markdown",
     "metadata": {},
     "source": [
      "<a href=http://www.python.org/>Python</a> is an open-source high-level, object oriented programming language.  Python requires some knowledge of programming, but is relatively easy to use and is a good language for learning how to program.  Python is an excellent tool for numerical analysis, and is getting better every year. There are a number of libraries available that help with numerical analysis, including Numpy, Scipy, Pandas, and R2Py.  The learning curve can be steep, but it is worth the time, there are several of resources available, and Python is a good place to start.  I recommend <a href=http://winpython.sourceforge.net/>winpython</a>, especially for scientists and people familiar with Matlab and Octave.  One excellent advantage of learning Python is that Python is supported by <a href=http://resources.arcgis.com/en/communities/python/>ArcGIS</a> via the ArcPy Python library.  "
     ]
    },
    {
     "cell_type": "heading",
     "level": 2,
     "metadata": {},
     "source": [
      "DATA"
     ]
    },
    {
     "cell_type": "heading",
     "level": 3,
     "metadata": {},
     "source": [
      "Organizing Data and Assigning Formats"
     ]
    },
    {
     "cell_type": "markdown",
     "metadata": {},
     "source": [
      "The dimensions of data provide the framework for any database built into GIS.  Before you construct or use a geodatabase, you must understand the field types/formats.  Understanding of field types allows for correct establishment of relationships, easy calculations, and easy data display.  This not only dictates how to organize your data into different groups, but also how to symbolize those groups once they are organized."
     ]
    },
    {
     "cell_type": "heading",
     "level": 3,
     "metadata": {},
     "source": [
      "Data Sources"
     ]
    },
    {
     "cell_type": "markdown",
     "metadata": {},
     "source": [
      "Simply stated, metadata is \u201cdata about data.\u201d Examples of metadata include: when the file was last saved, the author, the size of a photo, or the text description of a video. Metadata describe important attributes of data not included in data tables. Metadata describes the reference of the source of the data (where are your data from?).  It is advised that metadata should be provided within every shared geographic dataset to properly attribute the source of the data.  Please use it!  Did you collect the data? Did someone else? If so, give them credit.  Each discipline has metadata specific to that application. For GIS, metadata should describe who made the data, how it was made, when it was made, and the purpose.  If it does not, then you need to do some research.  "
     ]
    },
    {
     "cell_type": "heading",
     "level": 4,
     "metadata": {},
     "source": [
      "Source Data"
     ]
    },
    {
     "cell_type": "markdown",
     "metadata": {},
     "source": [
      "Source data is from a primary source.  The person using the data set is the one who collected it.  Source data are the original data collected in the field by the analyst/cartographer. "
     ]
    },
    {
     "cell_type": "heading",
     "level": 4,
     "metadata": {},
     "source": [
      "Archival Data"
     ]
    },
    {
     "cell_type": "markdown",
     "metadata": {},
     "source": [
      "Archival data is from a secondary source.  The data are provided to or compiled by the analyst/cartographer.  Archival data should always have a source citation."
     ]
    },
    {
     "cell_type": "heading",
     "level": 3,
     "metadata": {},
     "source": [
      "Spatial Data"
     ]
    },
    {
     "cell_type": "markdown",
     "metadata": {},
     "source": [
      "Before you start working with data, it is good to ask a few questions to see if the data should be treated as spatial data. Are you going to use the location values in your analyses? Does the location of the data matter?  If you do use spatial data for analysis, consider the datum, projection, and units of the data.  Remember that projection refers to transforming the coordinates (such as latitude and longitude) of one shape (such as a spheroid) to that of a different shape (such as UTM coordinates on a plane).\n",
      "The spatial data can either be explicitly or implicitly spatial.  Explicitly spatial data have defined spatial locations.  Implicitly spatial data have spatial association, but it is not necessarily clearly defined.\n"
     ]
    },
    {
     "cell_type": "heading",
     "level": 4,
     "metadata": {},
     "source": [
      "Continuity of Spatial Data"
     ]
    },
    {
     "cell_type": "markdown",
     "metadata": {},
     "source": [
      "Spatial data can either be discrete - existing in one defined interval - or continuous in space and time.  Different types of GIS data have been created to accommodate for differences in spatial data continuity.  Sometimes, it is appropriate to convert data between discrete and continuous data-types for analysis or comparison of other data.  An important distinction to make in GIS data is vector versus raster formats. The <a href=http://resources.arcgis.com/en/help/main/10.1/index.html#//009t00000007000000>ArcGIS help files</a> do an excellent job at describing the continuity of spatial data. "
     ]
    },
    {
     "cell_type": "heading",
     "level": 4,
     "metadata": {},
     "source": [
      "Example of Spatial Data"
     ]
    },
    {
     "cell_type": "markdown",
     "metadata": {},
     "source": [
      "One of the first well documented cases of applied spatial statistics was by John Snow in London, England.  John Snow used maps to outline outbreaks of cholera in London in 1854.  Based on his data, he was able to pinpoint the source of the outbreak \u2013 a specific community water well.  Once he convinced authorities to remove the pumping handle of the water pump to the well, the cholera cases in the area dwindled.  A copy of these historic data is available at Robin's blog.  "
     ]
    },
    {
     "cell_type": "heading",
     "level": 4,
     "metadata": {},
     "source": [
      "Raster Data"
     ]
    },
    {
     "cell_type": "markdown",
     "metadata": {},
     "source": [
      "<p>In GIS and photo editing software, rasters are represented by a series of adjacent cells or pixels.  The user or the sampling precision usually defines the size of the pixels, which are generally square in shape. An excellent example is a digital photograph.  If you zoom in close enough on a photograph, you can distinguish between individual pixels.</p>\n",
      "<p>Raster data are a continuous grid (array) of data covering an area.  Continuous representation is not appropriate representation of all spatial data.  Some data are not continuous over space.  Imagery (i.e. photographs), elevation grids (DEM), and interpolated data are examples of raster data.  Raster data can also represent discrete (discontinuous) data, mainly by contrast between cells, especially if some cells are allowed to represent null values.  Because of their blocky, interconnected nature and to allow for advanced forms of analysis, rasters are often represented as matrices (multi-dimensional arrays).</p>"
     ]
    },
    {
     "cell_type": "markdown",
     "metadata": {},
     "source": [
      "<figure>\n",
      "<a href=http://en.wikipedia.org/wiki/File:Rgb-raster-image.svg><img src=\"http://upload.wikimedia.org/wikipedia/commons/thumb/3/3b/Rgb-raster-image.svg/368px-Rgb-raster-image.svg.png\" Title=\"Image Source: http://en.wikipedia.org/wiki/File:Rgb-raster-image.svg\"></a>\n",
      "<figcaption><center><i>Figure 1. Red, Green, and Blue (RGB) pixels (aka cells) on a raster image.</i></center></figcaption>\n",
      "</figure>"
     ]
    },
    {
     "cell_type": "heading",
     "level": 4,
     "metadata": {},
     "source": [
      "Point Data"
     ]
    },
    {
     "cell_type": "markdown",
     "metadata": {},
     "source": [
      "Point data represent discrete locations.  They are generally a vector format.  Vector data are represented by points, lines, and polygons. Software such as ArcGIS, Autocad, and Adobe Illustrator are well suited to handling vector data.  In GIS, vector data is most powerful when the vector file is associated with tabular data.  An excellent example of point vector data are groundwater wells. Each well would be represented as a point on a map.  The point will not become pixilated as you zoom in.  Following the example, each well point could have a row in a table assigned to it that tells you the depth, water level, and diameter of the well."
     ]
    },
    {
     "cell_type": "heading",
     "level": 4,
     "metadata": {},
     "source": [
      "Polygon Data"
     ]
    },
    {
     "cell_type": "markdown",
     "metadata": {},
     "source": [
      "Polygon data can be an amalgamation of data.  Polygons are often the result of aggregating data within defined boundaries.  Polygon extents usually define the coverage of areas such as political or natural boundaries.  Examples include Census blocks, physiographic provinces, states, land masses and bodies of water.  Polygons can overlap."
     ]
    },
    {
     "cell_type": "heading",
     "level": 3,
     "metadata": {},
     "source": [
      "Data Set"
     ]
    },
    {
     "cell_type": "markdown",
     "metadata": {},
     "source": [
      "When dealing with data, you are generally examining a sample of a larger population of available information.  A population is a census, which includes all of the possible things from which we can collect data. A sample is a subset of the population.  "
     ]
    },
    {
     "cell_type": "heading",
     "level": 3,
     "metadata": {},
     "source": [
      "Aggregating Data"
     ]
    },
    {
     "cell_type": "markdown",
     "metadata": {},
     "source": [
      "<body><p>Aggregating data involves combining individual data points into area-wide data sets.  In this course, you will learn how to properly aggregate and summarize data.  However, it is worth noting that drawing conclusions on an individual based on aggregated data can result in an ecological fallacy, where the individual is misrepresented based on assumptions about a population.</p>\n",
      "<p>In ArcGIS, when you cannot use binary data for statistical analysis of categorical counts, you need to aggregate data.  To do so, use the Integrate Data tool (Data Management Tools, Feature Class Toolset) with the Collect Events tool (Spatial Statistics Tools, Utilities Toolset). The Integrate Data tool aligns topology within a specified threshold, while the Collect Events outputs a count of coincident data. These are good for analyses using the Hot Spot Analysis (Getis-Ord Gi*), Cluster and Outlier Analysis (Local Moran's I), and Spatial Autocorrelation (Morans I) tools. The Spatial Join tool (Analysis Tools, Overlay Toolset) can also aggregate data, where aggregation will occur if the Join One-to-One option is selected in the Join Operation box of the tool\u2019s dialog.  The Zonal Statistics as Table tool (Spatial Statistics Tools) gives summary statistics of rasters covered by different zones of polygons or rasters.</p>\n",
      "<p>Aggregating data involves simplifying large amounts of data to make it easier to understand/visualize.  This is one of the many applications of statistics. One must ensure that the type of aggregation used does not invalidate the data. Pivot tables in Excel and ArcGIS, and Crosstab Queries in Access are ways of aggregating large datasets.</p>\n",
      "<p>Classifying data into groups of ranged values (bins) is also a good way to summarize data. Using counts of values for an area is an example of this (example: density maps).  Grouped data can be good for true or false statements and qualitative data. The user however must consider the distribution of the data when classifying into groups.</p></body>"
     ]
    },
    {
     "cell_type": "code",
     "collapsed": false,
     "input": [],
     "language": "python",
     "metadata": {},
     "outputs": []
    }
   ],
   "metadata": {}
  }
 ]
}