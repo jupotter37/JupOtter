{
 "cells": [
  {
   "cell_type": "markdown",
   "metadata": {},
   "source": [
    "<p><a name=\"sections\"></a></p>\n",
    "<br>\n",
    "<br>\n",
    "# Sections\n",
    "\n",
    "- <a href=\"#intro\">Introduction to Beautiful Soup</a><br>\n",
    "    - <a href=\"#web\">What is web scraping</a><br>\n",
    "    - <a href=\"#html\">Introduction to HTML</a><br>\n",
    "    - <a href=\"#beautiful\">Basics of Beautiful Soup</a><br>\n",
    "\n",
    "- <a href=\"#example\">Examples</a><br>\n",
    "    - <a href=\"#calendar\">Python User Group Calendar</a><br>\n",
    "    - <a href=\"#yelp\">Scrape Yelp Reviews</a><br>"
   ]
  },
  {
   "cell_type": "markdown",
   "metadata": {},
   "source": [
    "<p><a name=\"web\"></a></p>\n",
    "## What is web scraping?\n",
    "[[back to top]](#sections)\n",
    "\n",
    "- HTML is short for **HyperText Markup Language**. It's a language for presenting content on the Web.\n",
    "\n",
    "- Plain text is turned into an HTML document by **tags** that are then interpreted by a browser.\n",
    "\n",
    "- Using BeautifulSoup, you can easily extract the tag values from HTML source code."
   ]
  },
  {
   "cell_type": "markdown",
   "metadata": {},
   "source": [
    "### Beautiful Soup VS Regular Expressions"
   ]
  },
  {
   "cell_type": "code",
   "execution_count": 1,
   "metadata": {},
   "outputs": [
    {
     "name": "stderr",
     "output_type": "stream",
     "text": [
      "The syntax of the command is incorrect.\n"
     ]
    }
   ],
   "source": [
    "# the source code of hi.html\n",
    "!type data/hi.html"
   ]
  },
  {
   "cell_type": "markdown",
   "metadata": {},
   "source": [
    "### Example:\n",
    "- Extract the characters between the title tags. \n",
    "\n",
    "\n",
    "- In this case it's `Hi` (`<title>Hi</title>`)."
   ]
  },
  {
   "cell_type": "markdown",
   "metadata": {},
   "source": [
    "- **Solution using Regular Expressions**"
   ]
  },
  {
   "cell_type": "code",
   "execution_count": 3,
   "metadata": {},
   "outputs": [
    {
     "name": "stdout",
     "output_type": "stream",
     "text": [
      "['Hi']\n"
     ]
    }
   ],
   "source": [
    "import re\n",
    "import Requests\n",
    "hi_path = 'data/hi.html'\n",
    "with open(hi_path, 'r') as f:\n",
    "    hi = f.read()\n",
    "    print(re.findall('<title>(.*)</title>', hi))"
   ]
  },
  {
   "cell_type": "markdown",
   "metadata": {},
   "source": [
    "- **Solution using BeautifulSoup**"
   ]
  },
  {
   "cell_type": "code",
   "execution_count": 4,
   "metadata": {
    "scrolled": true
   },
   "outputs": [
    {
     "name": "stdout",
     "output_type": "stream",
     "text": [
      "<title>Hi</title>\n",
      "Hi\n"
     ]
    }
   ],
   "source": [
    "from bs4 import BeautifulSoup\n",
    "with open(hi_path, 'r') as f:\n",
    "    hi = f.read()\n",
    "    hi = BeautifulSoup(hi, 'html.parser')\n",
    "    print(hi.title) # find the title tag\n",
    "    print(hi.title.string)  # find the value of tag"
   ]
  },
  {
   "cell_type": "markdown",
   "metadata": {},
   "source": [
    "**Compared with regular expressions:**\n",
    "    \n",
    "- Beautiful Soup's syntax is much simpler, while regular expressions are more flexible."
   ]
  },
  {
   "cell_type": "markdown",
   "metadata": {},
   "source": [
    "<p><a name=\"html\"></a></p>\n",
    "## Introduction to HTML\n",
    "[[back to top]](#sections)"
   ]
  },
  {
   "cell_type": "markdown",
   "metadata": {},
   "source": [
    "### Tag\n",
    "\n",
    "- The `<title>` tags in this example designate the enclosed text as the title to be displayed in the head of the browser tab.\n",
    "![hi](pic/hi.png)\n",
    "\n",
    "- Tags are always enclosed by `<` and `>` to distinguish them from the content. \n",
    "- A pair of tags consist of start and end tags which carry the same name, but the end tag is preceded by a slash `/` ."
   ]
  },
  {
   "cell_type": "markdown",
   "metadata": {},
   "source": [
    "### Values\n",
    "\n",
    "Values are the content between start tags and end tags.\n",
    "\n",
    "- **Example**\n",
    "\n",
    "`<title>Hi</title>`: It's a title tag with a value of `Hi`."
   ]
  },
  {
   "cell_type": "markdown",
   "metadata": {},
   "source": [
    "### Attributes\n",
    "Tags have another feauture called attributes.\n",
    "\n",
    "- **Example**\n",
    "\n",
    "`<a href='http://www.crummy.com/software/BeautifulSoup/'>Hello, beautifulsoup!</a>`\n",
    "\n",
    "The anchor tag `<a>` with an attribute `href` and hyperlink—http://www.crummy.com/software/BeautifulSoup/. It creates an association of text points to another address (a hyperlink)."
   ]
  },
  {
   "cell_type": "markdown",
   "metadata": {},
   "source": [
    "### Tree structure\n",
    "- The first element in the example is the `<html>` element. \n",
    "\n",
    "\n",
    "- Between the `<html>` tags of this element, several tags are opened and closed again: `<head>, <title>` , and\n",
    "`<body>, <a>`.\n",
    "\n",
    "    - The `<head>` and `<body>` tags are directly enclosed by the `<html>` element. \n",
    "    - The `<title>` element is enclosed by the `<head>` tag.\n",
    "    - The `<a>` element is enclosed by the `<body>` tag.\n",
    "\n",
    "\n",
    "- A good way to describe the multiple layers of an HTML document is the tree analogy. \n",
    "![html](pic/html.png)\n",
    "\n",
    "- The <html> element is the root element that splits into two branches, `<head>` and `<body>`; `<head>` is followed by another branch called `<title>`; `<body>` is followed by another branch called `<a>`."
   ]
  },
  {
   "cell_type": "markdown",
   "metadata": {},
   "source": [
    "<p><a name=\"beautiful\"></a></p>\n",
    "## Basics of Beautiful Soup\n",
    "[[back to top]](#sections)"
   ]
  },
  {
   "cell_type": "markdown",
   "metadata": {},
   "source": [
    "### Parse HTML"
   ]
  },
  {
   "cell_type": "markdown",
   "metadata": {},
   "source": [
    "- The `prettify()` method adds indentations so that it will help you understand the tree structure of the html document."
   ]
  },
  {
   "cell_type": "code",
   "execution_count": 13,
   "metadata": {},
   "outputs": [
    {
     "name": "stdout",
     "output_type": "stream",
     "text": [
      "<class 'bs4.BeautifulSoup'>\n",
      "\n",
      "\n",
      "<!DOCTYPE html>\n",
      "<html>\n",
      " <head>\n",
      "  <title>\n",
      "   Hi\n",
      "  </title>\n",
      "  <!--Im a comment, ignore me.-->\n",
      " </head>\n",
      " <body>\n",
      "  <a href=\"http://www.crummy.com/software/BeautifulSoup/\">\n",
      "   Hello, beautifulsoup!\n",
      "  </a>\n",
      " </body>\n",
      "</html>\n",
      "\n"
     ]
    }
   ],
   "source": [
    "from bs4 import BeautifulSoup\n",
    "# open a local file and parse the plain text by BeautifulSoup directly\n",
    "with open(hi_path, 'r') as f:\n",
    "    hi = f.read()\n",
    "    hi = BeautifulSoup(hi, 'html.parser')\n",
    "    print(type(hi)) # get a bs4.BeautifulSoup object\n",
    "    print('\\n')\n",
    "    print(hi.prettify())"
   ]
  },
  {
   "cell_type": "markdown",
   "metadata": {},
   "source": [
    "### Names, Values, and Attributes\n",
    "\n",
    "Beautiful Soup can extract the `name`, `value` and `attributes` of tags. The corresponding methods are:\n",
    "- name\n",
    "- string\n",
    "- attrs"
   ]
  },
  {
   "cell_type": "code",
   "execution_count": 12,
   "metadata": {},
   "outputs": [
    {
     "name": "stdout",
     "output_type": "stream",
     "text": [
      "The name of a tags is:  a\n",
      "The value of a tags is:  Hello, beautifulsoup!\n",
      "The attribute of a tags is:  {'href': 'http://www.crummy.com/software/BeautifulSoup/'}\n"
     ]
    }
   ],
   "source": [
    "print(\"The name of a tags is: \", hi.a.name)\n",
    "print(\"The value of a tags is: \", hi.a.string)\n",
    "print(\"The attribute of a tags is: \", hi.a.attrs)"
   ]
  },
  {
   "cell_type": "markdown",
   "metadata": {},
   "source": [
    "### get_text() & get()\n",
    "- For tags that have child tags the string does not work"
   ]
  },
  {
   "cell_type": "code",
   "execution_count": 14,
   "metadata": {},
   "outputs": [
    {
     "name": "stdout",
     "output_type": "stream",
     "text": [
      "None\n"
     ]
    }
   ],
   "source": [
    "print(hi.html.string)"
   ]
  },
  {
   "cell_type": "markdown",
   "metadata": {},
   "source": [
    "- Use the get_text method instead. The `get_text()` method will extract all the contents of child tags."
   ]
  },
  {
   "cell_type": "code",
   "execution_count": 15,
   "metadata": {},
   "outputs": [
    {
     "name": "stdout",
     "output_type": "stream",
     "text": [
      "\n",
      "\n",
      "Hi \n",
      "\n",
      "\n",
      "Hello, beautifulsoup!\n",
      "\n",
      "\n"
     ]
    }
   ],
   "source": [
    "print(hi.html.get_text())"
   ]
  },
  {
   "cell_type": "markdown",
   "metadata": {},
   "source": [
    "- `get()` is used to find the attribute of a tag. For example, we can get the href of tag a using the following code. \n",
    "\n",
    "- It is the same as run `hi.a.attrs` first and then find the value of key `href` from the dictionary."
   ]
  },
  {
   "cell_type": "code",
   "execution_count": 16,
   "metadata": {},
   "outputs": [
    {
     "name": "stdout",
     "output_type": "stream",
     "text": [
      "http://www.crummy.com/software/BeautifulSoup/\n"
     ]
    }
   ],
   "source": [
    "print(hi.a.get('href'))"
   ]
  },
  {
   "cell_type": "code",
   "execution_count": 17,
   "metadata": {},
   "outputs": [
    {
     "name": "stdout",
     "output_type": "stream",
     "text": [
      "{'href': 'http://www.crummy.com/software/BeautifulSoup/'}\n"
     ]
    }
   ],
   "source": [
    "print(hi.a.attrs)"
   ]
  },
  {
   "cell_type": "markdown",
   "metadata": {},
   "source": [
    "### find() & find_all()\n",
    "The functions `find` and `findall` are flexible for finding tags."
   ]
  },
  {
   "cell_type": "code",
   "execution_count": 22,
   "metadata": {},
   "outputs": [
    {
     "name": "stderr",
     "output_type": "stream",
     "text": [
      "The syntax of the command is incorrect.\n"
     ]
    }
   ],
   "source": [
    "!type data/article.html"
   ]
  },
  {
   "cell_type": "markdown",
   "metadata": {},
   "source": [
    "![article](pic/article.png)"
   ]
  },
  {
   "cell_type": "code",
   "execution_count": 23,
   "metadata": {
    "collapsed": true
   },
   "outputs": [],
   "source": [
    "article_path = 'data/article.html'\n",
    "with open(article_path, 'r') as f:\n",
    "    article = f.read()\n",
    "    article = BeautifulSoup(article, 'html.parser')"
   ]
  },
  {
   "cell_type": "markdown",
   "metadata": {},
   "source": [
    "- Return only the first `p` tag."
   ]
  },
  {
   "cell_type": "code",
   "execution_count": 24,
   "metadata": {},
   "outputs": [
    {
     "name": "stdout",
     "output_type": "stream",
     "text": [
      "<p>This is the first paragraph.</p>\n"
     ]
    }
   ],
   "source": [
    "print(article.p)"
   ]
  },
  {
   "cell_type": "markdown",
   "metadata": {},
   "source": [
    "- `find()` returns the first p tags, which is equivalent to article.p"
   ]
  },
  {
   "cell_type": "code",
   "execution_count": 25,
   "metadata": {},
   "outputs": [
    {
     "name": "stdout",
     "output_type": "stream",
     "text": [
      "<p>This is the first paragraph.</p>\n"
     ]
    }
   ],
   "source": [
    "print(article.find('p'))"
   ]
  },
  {
   "cell_type": "markdown",
   "metadata": {},
   "source": [
    "- `find_all()` returns all p tags"
   ]
  },
  {
   "cell_type": "code",
   "execution_count": 26,
   "metadata": {},
   "outputs": [
    {
     "name": "stdout",
     "output_type": "stream",
     "text": [
      "[<p>This is the first paragraph.</p>, <p><a href=\"www.google.com\">Here is the Google website.</a></p>, <p>This is the third paragraph.</p>]\n"
     ]
    }
   ],
   "source": [
    "print(article.find_all('p'))"
   ]
  },
  {
   "cell_type": "markdown",
   "metadata": {},
   "source": [
    "- To find the tags that have specific attributes, you can pass a dictionary as the `attrs` argument."
   ]
  },
  {
   "cell_type": "code",
   "execution_count": 27,
   "metadata": {},
   "outputs": [
    {
     "name": "stdout",
     "output_type": "stream",
     "text": [
      "[<h1 id=\"one\">One</h1>]\n"
     ]
    }
   ],
   "source": [
    "print(article.find_all('h1', attrs={'id':'one'}))"
   ]
  },
  {
   "cell_type": "markdown",
   "metadata": {},
   "source": [
    "- You can also specify a function to extract a list of Tag objects that match the given criteria.\n",
    "- It is the same as the following:"
   ]
  },
  {
   "cell_type": "code",
   "execution_count": 28,
   "metadata": {},
   "outputs": [
    {
     "name": "stdout",
     "output_type": "stream",
     "text": [
      "[<h1 id=\"one\">One</h1>]\n"
     ]
    }
   ],
   "source": [
    "# the tags whose attribute id equals 'one'\n",
    "print(article.find_all(lambda tag: tag.get('id') == 'one'))"
   ]
  },
  {
   "cell_type": "markdown",
   "metadata": {},
   "source": [
    "<p><a name=\"example\"></a></p>\n",
    "## Examples\n",
    "[[back to top]](#sections)"
   ]
  },
  {
   "cell_type": "markdown",
   "metadata": {},
   "source": [
    "<p><a name=\"calendar\"></a></p>\n",
    "### Python User Group Calendar\n",
    "[[back to top]](#sections)"
   ]
  },
  {
   "cell_type": "markdown",
   "metadata": {},
   "source": [
    "Let's extract the time, location, and event titles from this web page [Python User Group Calendar](https://www.python.org/events/python-user-group/)."
   ]
  },
  {
   "cell_type": "markdown",
   "metadata": {},
   "source": [
    "<img src=pic/events.png width=800/>"
   ]
  },
  {
   "cell_type": "code",
   "execution_count": 29,
   "metadata": {
    "collapsed": true
   },
   "outputs": [],
   "source": [
    "import requests\n",
    "text = requests.get('https://www.python.org/events/python-user-group/').text\n",
    "text = BeautifulSoup(text, 'html.parser')"
   ]
  },
  {
   "cell_type": "code",
   "execution_count": 30,
   "metadata": {},
   "outputs": [
    {
     "name": "stdout",
     "output_type": "stream",
     "text": [
      "<!DOCTYPE doctype html>\n",
      "<!--[if lt IE 7]>   <html class=\"no-js ie6 lt-ie7 lt-ie8 lt-ie9\">   <![endif]-->\n",
      "<!--[if IE 7]>      <html class=\"no-js ie7 lt-ie8 lt-ie9\">          <![endif]-->\n",
      "<!--[if IE 8]>      <html class=\"no-js ie8 lt-ie9\">                 <![endif]-->\n",
      "<!--[if gt IE 8]><!-->\n",
      "<html class=\"no-js\" dir=\"ltr\" lang=\"en\">\n",
      " <!--<![endif]-->\n",
      " <head>\n",
      "  <meta charset=\"utf-8\"/>\n",
      "  <meta content=\"IE=edge\" http-equiv=\"X-UA-Compatible\"/>\n",
      "  <link href=\"//ajax.googleapis.com/ajax/libs/jquery/1.8.2/jquery.min.js\" rel=\"prefetch\"/>\n",
      "  <meta content=\"Python.org\" name=\"application-name\"/>\n",
      "  <meta content=\"The official home of the Python Programming Language\" name=\"msapplication-tooltip\"/>\n",
      "  <meta content=\"Python.org\" name=\"apple-mobile-web-app-title\"/>\n",
      "  <meta content=\"yes\" name=\"apple-mobile-web-app-capable\"/>\n",
      "  <meta content=\"black\" name=\"apple-mobile-web-app-status-bar-style\"/>\n",
      "  <meta content=\"width=device-width, initial-scale=1.0\" name=\"viewport\"/>\n",
      "  <meta content=\"True\" name=\"HandheldFriendly\"/>\n",
      "  <meta content=\"telephone=no\" name=\"format-detection\"/>\n",
      "  <meta content=\"on\" http-equiv=\"cleartype\"/>\n",
      "  <meta content=\"false\" http-equiv=\"imagetoolbar\"/>\n",
      "  <script src=\"/static/js/libs/modernizr.js\">\n",
      "  </script>\n",
      "  <link href=\"/static/stylesheets/style.css\" rel=\"stylesheet\" title=\"default\" type=\"text/css\">\n",
      "   <link href=\"/static/stylesheets/mq.css\" media=\"not print, braille, embossed, speech, tty\" rel=\"stylesheet\" type=\"text/css\"/>\n",
      "   <!--[if (lte IE 8)&(!IEMobile)]>\n",
      "    <link href=\"/static/stylesheets/no-mq.css\" rel=\"stylesheet\" type=\"text/css\" media=\"screen\" />\n",
      "    \n",
      "    \n",
      "    <![endif]-->\n",
      "   <link href=\"/static/favicon.ico\" rel=\"icon\" type=\"image/x-icon\"/>\n",
      "   <link href=\"/static/apple-touch-icon-144x144-precomposed.png\" rel=\"apple-touch-icon-precomposed\" sizes=\"144x144\"/>\n",
      "   <link href=\"/static/apple-touch-icon-114x114-precomposed.png\" rel=\"apple-touch-icon-precomposed\" sizes=\"114x114\"/>\n",
      "   <link href=\"/static/apple-touch-icon-72x72-precomposed.png\" rel=\"apple-touch-icon-precomposed\" sizes=\"72x72\"/>\n",
      "   <link href=\"/static/apple-touch-icon-precomposed.png\" rel=\"apple-touch-icon-precomposed\"/>\n",
      "   <link href=\"/static/apple-touch-icon-precomposed.png\" rel=\"apple-touch-icon\"/>\n",
      "   <meta content=\"/static/metro-icon-144x144-precomposed.png\" name=\"msapplication-TileImage\"/>\n",
      "   <!-- white shape -->\n",
      "   <meta content=\"#3673a5\" name=\"msapplication-TileColor\"/>\n",
      "   <!-- python blue -->\n",
      "   <meta content=\"#3673a5\" name=\"msapplication-navbutton-color\"/>\n",
      "   <title>\n",
      "    Our Events | Python.org\n",
      "   </title>\n",
      "   <meta content=\"The official home of the Python Programming Language\" name=\"description\"/>\n",
      "   <meta content=\"Python programming language object oriented web free open source software license documentation download community\" name=\"keywords\"/>\n",
      "   <meta content=\"website\" property=\"og:type\"/>\n",
      "   <meta content=\"Python.org\" property=\"og:site_name\"/>\n",
      "   <meta content=\"Our Events\" property=\"og:title\"/>\n",
      "   <meta content=\"The official home of the Python Programming Language\" property=\"og:description\"/>\n",
      "   <meta content=\"https://www.python.org/static/opengraph-icon-200x200.png\" property=\"og:image\"/>\n",
      "   <meta content=\"https://www.python.org/static/opengraph-icon-200x200.png\" property=\"og:image:secure_url\"/>\n",
      "   <meta content=\"https://www.python.org/events/python-user-group/\" property=\"og:url\"/>\n",
      "   <link href=\"/static/humans.txt\" rel=\"author\"/>\n",
      "   <link href=\"https://www.python.org/dev/peps/peps.rss/\" rel=\"alternate\" title=\"Python Enhancement Proposals\" type=\"application/rss+xml\"/>\n",
      "   <link href=\"https://www.python.org/jobs/feed/rss/\" rel=\"alternate\" title=\"Python Job Opportunities\" type=\"application/rss+xml\"/>\n",
      "   <link href=\"https://feeds.feedburner.com/PythonSoftwareFoundationNews\" rel=\"alternate\" title=\"Python Software Foundation News\" type=\"application/rss+xml\"/>\n",
      "   <link href=\"https://feeds.feedburner.com/PythonInsider\" rel=\"alternate\" title=\"Python Insider\" type=\"application/rss+xml\"/>\n",
      "   <script type=\"application/ld+json\">\n",
      "    {\n",
      "       \"@context\": \"http://schema.org\",\n",
      "       \"@type\": \"WebSite\",\n",
      "       \"url\": \"https://www.python.org/\",\n",
      "       \"potentialAction\": {\n",
      "         \"@type\": \"SearchAction\",\n",
      "         \"target\": \"https://www.python.org/search/?q={search_term_string}\",\n",
      "         \"query-input\": \"required name=search_term_string\"\n",
      "       }\n",
      "     }\n",
      "   </script>\n",
      "   <script type=\"text/javascript\">\n",
      "    var _gaq = _gaq || [];\n",
      "    _gaq.push(['_setAccount', 'UA-39055973-1']);\n",
      "    _gaq.push(['_trackPageview']);\n",
      "\n",
      "    (function() {\n",
      "        var ga = document.createElement('script'); ga.type = 'text/javascript'; ga.async = true;\n",
      "        ga.src = ('https:' == document.location.protocol ? 'https://ssl' : 'http://www') + '.google-analytics.com/ga.js';\n",
      "        var s = document.getElementsByTagName('script')[0]; s.parentNode.insertBefore(ga, s);\n",
      "    })();\n",
      "   </script>\n",
      "  </link>\n",
      " </head>\n",
      " <body class=\"python events default-page\">\n",
      "  <div id=\"touchnav-wrapper\">\n",
      "   <div class=\"do-not-print\" id=\"nojs\">\n",
      "    <p>\n",
      "     <strong>\n",
      "      Notice:\n",
      "     </strong>\n",
      "     While Javascript is not essential for this website, your interaction with the content will be limited. Please turn Javascript on for the full experience.\n",
      "    </p>\n",
      "   </div>\n",
      "   <!--[if lt IE 8]>\n",
      "        <div id=\"oldie-warning\" class=\"do-not-print\">\n",
      "            <p><strong>Notice:</strong> Your browser is <em>ancient</em> and <a href=\"http://www.ie6countdown.com/\">Microsoft agrees</a>. <a href=\"http://browsehappy.com/\">Upgrade to a different browser</a> or <a href=\"http://www.google.com/chromeframe/?redirect=true\">install Google Chrome Frame</a> to experience a better web.</p>\n",
      "        </div>\n",
      "        <![endif]-->\n",
      "   <!-- Sister Site Links -->\n",
      "   <div class=\"top-bar do-not-print\" id=\"top\">\n",
      "    <nav class=\"meta-navigation container\" role=\"navigation\">\n",
      "     <div class=\"skip-link screen-reader-text\">\n",
      "      <a href=\"#content\" title=\"Skip to content\">\n",
      "       Skip to content\n",
      "      </a>\n",
      "     </div>\n",
      "     <a aria-hidden=\"true\" class=\"jump-link\" href=\"#python-network\" id=\"close-python-network\">\n",
      "      <span aria-hidden=\"true\" class=\"icon-arrow-down\">\n",
      "       <span>\n",
      "        ▼\n",
      "       </span>\n",
      "      </span>\n",
      "      Close\n",
      "     </a>\n",
      "     <ul class=\"menu\" role=\"tree\">\n",
      "      <li class=\"python-meta current_branch selected\">\n",
      "       <a class=\"current_branch selected\" href=\"/\" title=\"The Python Programming Language\">\n",
      "        Python\n",
      "       </a>\n",
      "      </li>\n",
      "      <li class=\"psf-meta \">\n",
      "       <a href=\"/psf-landing/\" title=\"The Python Software Foundation\">\n",
      "        PSF\n",
      "       </a>\n",
      "      </li>\n",
      "      <li class=\"docs-meta \">\n",
      "       <a href=\"https://docs.python.org\" title=\"Python Documentation\">\n",
      "        Docs\n",
      "       </a>\n",
      "      </li>\n",
      "      <li class=\"pypi-meta \">\n",
      "       <a href=\"https://pypi.python.org/\" title=\"Python Package Index\">\n",
      "        PyPI\n",
      "       </a>\n",
      "      </li>\n",
      "      <li class=\"jobs-meta \">\n",
      "       <a href=\"/jobs/\" title=\"Python Job Board\">\n",
      "        Jobs\n",
      "       </a>\n",
      "      </li>\n",
      "      <li class=\"shop-meta \">\n",
      "       <a href=\"/community/\" title=\"Python Community\">\n",
      "        Community\n",
      "       </a>\n",
      "      </li>\n",
      "     </ul>\n",
      "     <a aria-hidden=\"true\" class=\"jump-link\" href=\"#top\" id=\"python-network\">\n",
      "      <span aria-hidden=\"true\" class=\"icon-arrow-up\">\n",
      "       <span>\n",
      "        ▲\n",
      "       </span>\n",
      "      </span>\n",
      "      The Python Network\n",
      "     </a>\n",
      "    </nav>\n",
      "   </div>\n",
      "   <!-- Header elements -->\n",
      "   <header class=\"main-header\" role=\"banner\">\n",
      "    <div class=\"container\">\n",
      "     <h1 class=\"site-headline\">\n",
      "      <a href=\"/\">\n",
      "       <img alt=\"python™\" class=\"python-logo\" src=\"/static/img/python-logo.png\"/>\n",
      "      </a>\n",
      "     </h1>\n",
      "     <div class=\"options-bar do-not-print\">\n",
      "      <a class=\"jump-to-menu\" href=\"#site-map\" id=\"site-map-link\">\n",
      "       <span class=\"menu-icon\">\n",
      "        ≡\n",
      "       </span>\n",
      "       Menu\n",
      "      </a>\n",
      "      <form action=\"/search/\" class=\"search-the-site\" method=\"get\">\n",
      "       <fieldset title=\"Search Python.org\">\n",
      "        <span aria-hidden=\"true\" class=\"icon-search\">\n",
      "        </span>\n",
      "        <label class=\"screen-reader-text\" for=\"id-search-field\">\n",
      "         Search This Site\n",
      "        </label>\n",
      "        <input class=\"search-field\" id=\"id-search-field\" name=\"q\" placeholder=\"Search\" role=\"textbox\" tabindex=\"1\" type=\"search\" value=\"\"/>\n",
      "        <button class=\"search-button\" id=\"submit\" name=\"submit\" tabindex=\"3\" title=\"Submit this Search\" type=\"submit\">\n",
      "         GO\n",
      "        </button>\n",
      "        <!--[if IE]><input type=\"text\" style=\"display: none;\" disabled=\"disabled\" size=\"1\" tabindex=\"4\"><![endif]-->\n",
      "       </fieldset>\n",
      "      </form>\n",
      "      <span class=\"breaker\">\n",
      "      </span>\n",
      "      <div aria-hidden=\"true\" class=\"adjust-font-size\">\n",
      "       <ul aria-label=\"Adjust Text Size on Page\" class=\"navigation menu\">\n",
      "        <li aria-haspopup=\"true\" class=\"tier-1 last\">\n",
      "         <a class=\"action-trigger\" href=\"#\">\n",
      "          <strong>\n",
      "           <small>\n",
      "            A\n",
      "           </small>\n",
      "           A\n",
      "          </strong>\n",
      "         </a>\n",
      "         <ul class=\"subnav menu\">\n",
      "          <li class=\"tier-2 element-1\" role=\"treeitem\">\n",
      "           <a class=\"text-shrink\" href=\"javascript:;\" title=\"Make Text Smaller\">\n",
      "            Smaller\n",
      "           </a>\n",
      "          </li>\n",
      "          <li class=\"tier-2 element-2\" role=\"treeitem\">\n",
      "           <a class=\"text-grow\" href=\"javascript:;\" title=\"Make Text Larger\">\n",
      "            Larger\n",
      "           </a>\n",
      "          </li>\n",
      "          <li class=\"tier-2 element-3\" role=\"treeitem\">\n",
      "           <a class=\"text-reset\" href=\"javascript:;\" title=\"Reset any font size changes I have made\">\n",
      "            Reset\n",
      "           </a>\n",
      "          </li>\n",
      "         </ul>\n",
      "        </li>\n",
      "       </ul>\n",
      "      </div>\n",
      "      <div class=\"winkwink-nudgenudge\">\n",
      "       <ul aria-label=\"Social Media Navigation\" class=\"navigation menu\">\n",
      "        <li aria-haspopup=\"true\" class=\"tier-1 last\">\n",
      "         <a class=\"action-trigger\" href=\"#\">\n",
      "          Socialize\n",
      "         </a>\n",
      "         <ul class=\"subnav menu\">\n",
      "          <li class=\"tier-2 element-1\" role=\"treeitem\">\n",
      "           <a href=\"http://plus.google.com/+Python\">\n",
      "            <span aria-hidden=\"true\" class=\"icon-google-plus\">\n",
      "            </span>\n",
      "            Google+\n",
      "           </a>\n",
      "          </li>\n",
      "          <li class=\"tier-2 element-2\" role=\"treeitem\">\n",
      "           <a href=\"http://www.facebook.com/pythonlang?fref=ts\">\n",
      "            <span aria-hidden=\"true\" class=\"icon-facebook\">\n",
      "            </span>\n",
      "            Facebook\n",
      "           </a>\n",
      "          </li>\n",
      "          <li class=\"tier-2 element-3\" role=\"treeitem\">\n",
      "           <a href=\"http://twitter.com/ThePSF\">\n",
      "            <span aria-hidden=\"true\" class=\"icon-twitter\">\n",
      "            </span>\n",
      "            Twitter\n",
      "           </a>\n",
      "          </li>\n",
      "          <li class=\"tier-2 element-4\" role=\"treeitem\">\n",
      "           <a href=\"/community/irc/\">\n",
      "            <span aria-hidden=\"true\" class=\"icon-freenode\">\n",
      "            </span>\n",
      "            Chat on IRC\n",
      "           </a>\n",
      "          </li>\n",
      "         </ul>\n",
      "        </li>\n",
      "       </ul>\n",
      "      </div>\n",
      "      <div class=\"account-signin\">\n",
      "       <ul aria-label=\"Social Media Navigation\" class=\"navigation menu\">\n",
      "        <li aria-haspopup=\"true\" class=\"tier-1 last\">\n",
      "         <a href=\"/accounts/login/\" title=\"Sign Up or Sign In to Python.org\">\n",
      "          Sign In\n",
      "         </a>\n",
      "         <ul class=\"subnav menu\">\n",
      "          <li class=\"tier-2 element-1\" role=\"treeitem\">\n",
      "           <a href=\"/accounts/signup/\">\n",
      "            Sign Up / Register\n",
      "           </a>\n",
      "          </li>\n",
      "          <li class=\"tier-2 element-2\" role=\"treeitem\">\n",
      "           <a href=\"/accounts/login/\">\n",
      "            Sign In\n",
      "           </a>\n",
      "          </li>\n",
      "         </ul>\n",
      "        </li>\n",
      "       </ul>\n",
      "      </div>\n",
      "     </div>\n",
      "     <!-- end options-bar -->\n",
      "     <nav class=\"python-navigation main-navigation do-not-print\" id=\"mainnav\" role=\"navigation\">\n",
      "      <ul aria-label=\"Main Navigation\" class=\"navigation menu\" role=\"menubar\">\n",
      "       <li aria-haspopup=\"true\" class=\"tier-1 element-1 \" id=\"about\">\n",
      "        <a class=\"\" href=\"/about/\" title=\"\">\n",
      "         About\n",
      "        </a>\n",
      "        <ul aria-hidden=\"true\" class=\"subnav menu\" role=\"menu\">\n",
      "         <li class=\"tier-2 element-1\" role=\"treeitem\">\n",
      "          <a href=\"/about/apps/\" title=\"\">\n",
      "           Applications\n",
      "          </a>\n",
      "         </li>\n",
      "         <li class=\"tier-2 element-2\" role=\"treeitem\">\n",
      "          <a href=\"/about/quotes/\" title=\"\">\n",
      "           Quotes\n",
      "          </a>\n",
      "         </li>\n",
      "         <li class=\"tier-2 element-3\" role=\"treeitem\">\n",
      "          <a href=\"/about/gettingstarted/\" title=\"\">\n",
      "           Getting Started\n",
      "          </a>\n",
      "         </li>\n",
      "         <li class=\"tier-2 element-4\" role=\"treeitem\">\n",
      "          <a href=\"/about/help/\" title=\"\">\n",
      "           Help\n",
      "          </a>\n",
      "         </li>\n",
      "         <li class=\"tier-2 element-5\" role=\"treeitem\">\n",
      "          <a href=\"http://brochure.getpython.info/\" title=\"\">\n",
      "           Python Brochure\n",
      "          </a>\n",
      "         </li>\n",
      "        </ul>\n",
      "       </li>\n",
      "       <li aria-haspopup=\"true\" class=\"tier-1 element-2 \" id=\"downloads\">\n",
      "        <a class=\"\" href=\"/downloads/\" title=\"\">\n",
      "         Downloads\n",
      "        </a>\n",
      "        <ul aria-hidden=\"true\" class=\"subnav menu\" role=\"menu\">\n",
      "         <li class=\"tier-2 element-1\" role=\"treeitem\">\n",
      "          <a href=\"/downloads/\" title=\"\">\n",
      "           All releases\n",
      "          </a>\n",
      "         </li>\n",
      "         <li class=\"tier-2 element-2\" role=\"treeitem\">\n",
      "          <a href=\"/downloads/source/\" title=\"\">\n",
      "           Source code\n",
      "          </a>\n",
      "         </li>\n",
      "         <li class=\"tier-2 element-3\" role=\"treeitem\">\n",
      "          <a href=\"/downloads/windows/\" title=\"\">\n",
      "           Windows\n",
      "          </a>\n",
      "         </li>\n",
      "         <li class=\"tier-2 element-4\" role=\"treeitem\">\n",
      "          <a href=\"/downloads/mac-osx/\" title=\"\">\n",
      "           Mac OS X\n",
      "          </a>\n",
      "         </li>\n",
      "         <li class=\"tier-2 element-5\" role=\"treeitem\">\n",
      "          <a href=\"/download/other/\" title=\"\">\n",
      "           Other Platforms\n",
      "          </a>\n",
      "         </li>\n",
      "         <li class=\"tier-2 element-6\" role=\"treeitem\">\n",
      "          <a href=\"https://docs.python.org/3/license.html\" title=\"\">\n",
      "           License\n",
      "          </a>\n",
      "         </li>\n",
      "         <li class=\"tier-2 element-7\" role=\"treeitem\">\n",
      "          <a href=\"/download/alternatives\" title=\"\">\n",
      "           Alternative Implementations\n",
      "          </a>\n",
      "         </li>\n",
      "        </ul>\n",
      "       </li>\n",
      "       <li aria-haspopup=\"true\" class=\"tier-1 element-3 \" id=\"documentation\">\n",
      "        <a class=\"\" href=\"/doc/\" title=\"\">\n",
      "         Documentation\n",
      "        </a>\n",
      "        <ul aria-hidden=\"true\" class=\"subnav menu\" role=\"menu\">\n",
      "         <li class=\"tier-2 element-1\" role=\"treeitem\">\n",
      "          <a href=\"/doc/\" title=\"\">\n",
      "           Docs\n",
      "          </a>\n",
      "         </li>\n",
      "         <li class=\"tier-2 element-2\" role=\"treeitem\">\n",
      "          <a href=\"/doc/av\" title=\"\">\n",
      "           Audio/Visual Talks\n",
      "          </a>\n",
      "         </li>\n",
      "         <li class=\"tier-2 element-3\" role=\"treeitem\">\n",
      "          <a href=\"https://wiki.python.org/moin/BeginnersGuide\" title=\"\">\n",
      "           Beginner's Guide\n",
      "          </a>\n",
      "         </li>\n",
      "         <li class=\"tier-2 element-4\" role=\"treeitem\">\n",
      "          <a href=\"https://docs.python.org/devguide/\" title=\"\">\n",
      "           Developer's Guide\n",
      "          </a>\n",
      "         </li>\n",
      "         <li class=\"tier-2 element-5\" role=\"treeitem\">\n",
      "          <a href=\"https://docs.python.org/faq/\" title=\"\">\n",
      "           FAQ\n",
      "          </a>\n",
      "         </li>\n",
      "         <li class=\"tier-2 element-6\" role=\"treeitem\">\n",
      "          <a href=\"http://wiki.python.org/moin/Languages\" title=\"\">\n",
      "           Non-English Docs\n",
      "          </a>\n",
      "         </li>\n",
      "         <li class=\"tier-2 element-7\" role=\"treeitem\">\n",
      "          <a href=\"http://python.org/dev/peps/\" title=\"\">\n",
      "           PEP Index\n",
      "          </a>\n",
      "         </li>\n",
      "         <li class=\"tier-2 element-8\" role=\"treeitem\">\n",
      "          <a href=\"https://wiki.python.org/moin/PythonBooks\" title=\"\">\n",
      "           Python Books\n",
      "          </a>\n",
      "         </li>\n",
      "         <li class=\"tier-2 element-9\" role=\"treeitem\">\n",
      "          <a href=\"/doc/essays/\" title=\"\">\n",
      "           Python Essays\n",
      "          </a>\n",
      "         </li>\n",
      "        </ul>\n",
      "       </li>\n",
      "       <li aria-haspopup=\"true\" class=\"tier-1 element-4 \" id=\"community\">\n",
      "        <a class=\"\" href=\"/community/\" title=\"\">\n",
      "         Community\n",
      "        </a>\n",
      "        <ul aria-hidden=\"true\" class=\"subnav menu\" role=\"menu\">\n",
      "         <li class=\"tier-2 element-1\" role=\"treeitem\">\n",
      "          <a href=\"/community/diversity/\" title=\"\">\n",
      "           Diversity\n",
      "          </a>\n",
      "         </li>\n",
      "         <li class=\"tier-2 element-2\" role=\"treeitem\">\n",
      "          <a href=\"/community/lists/\" title=\"\">\n",
      "           Mailing Lists\n",
      "          </a>\n",
      "         </li>\n",
      "         <li class=\"tier-2 element-3\" role=\"treeitem\">\n",
      "          <a href=\"/community/irc/\" title=\"\">\n",
      "           IRC\n",
      "          </a>\n",
      "         </li>\n",
      "         <li class=\"tier-2 element-4\" role=\"treeitem\">\n",
      "          <a href=\"/community/forums/\" title=\"\">\n",
      "           Forums\n",
      "          </a>\n",
      "         </li>\n",
      "         <li class=\"tier-2 element-5\" role=\"treeitem\">\n",
      "          <a href=\"/community/workshops/\" title=\"\">\n",
      "           Python Conferences\n",
      "          </a>\n",
      "         </li>\n",
      "         <li class=\"tier-2 element-6\" role=\"treeitem\">\n",
      "          <a href=\"/community/sigs/\" title=\"\">\n",
      "           Special Interest Groups\n",
      "          </a>\n",
      "         </li>\n",
      "         <li class=\"tier-2 element-7\" role=\"treeitem\">\n",
      "          <a href=\"https://wiki.python.org/moin/\" title=\"\">\n",
      "           Python Wiki\n",
      "          </a>\n",
      "         </li>\n",
      "         <li class=\"tier-2 element-8\" role=\"treeitem\">\n",
      "          <a href=\"/community/logos/\" title=\"\">\n",
      "           Python Logo\n",
      "          </a>\n",
      "         </li>\n",
      "         <li class=\"tier-2 element-9\" role=\"treeitem\">\n",
      "          <a href=\"/community/merchandise/\" title=\"\">\n",
      "           Merchandise\n",
      "          </a>\n",
      "         </li>\n",
      "         <li class=\"tier-2 element-10\" role=\"treeitem\">\n",
      "          <a href=\"/community/awards\" title=\"\">\n",
      "           Community Awards\n",
      "          </a>\n",
      "         </li>\n",
      "         <li class=\"tier-2 element-11\" role=\"treeitem\">\n",
      "          <a href=\"https://www.python.org/psf/codeofconduct/\" title=\"\">\n",
      "           Code of Conduct\n",
      "          </a>\n",
      "         </li>\n",
      "        </ul>\n",
      "       </li>\n",
      "       <li aria-haspopup=\"true\" class=\"tier-1 element-5 \" id=\"success-stories\">\n",
      "        <a class=\"\" href=\"/about/success/\" title=\"success-stories\">\n",
      "         Success Stories\n",
      "        </a>\n",
      "        <ul aria-hidden=\"true\" class=\"subnav menu\" role=\"menu\">\n",
      "         <li class=\"tier-2 element-1\" role=\"treeitem\">\n",
      "          <a href=\"/about/success/#arts\" title=\"\">\n",
      "           Arts\n",
      "          </a>\n",
      "         </li>\n",
      "         <li class=\"tier-2 element-2\" role=\"treeitem\">\n",
      "          <a href=\"/about/success/#business\" title=\"\">\n",
      "           Business\n",
      "          </a>\n",
      "         </li>\n",
      "         <li class=\"tier-2 element-3\" role=\"treeitem\">\n",
      "          <a href=\"/about/success/#education\" title=\"\">\n",
      "           Education\n",
      "          </a>\n",
      "         </li>\n",
      "         <li class=\"tier-2 element-4\" role=\"treeitem\">\n",
      "          <a href=\"/about/success/#engineering\" title=\"\">\n",
      "           Engineering\n",
      "          </a>\n",
      "         </li>\n",
      "         <li class=\"tier-2 element-5\" role=\"treeitem\">\n",
      "          <a href=\"/about/success/#government\" title=\"\">\n",
      "           Government\n",
      "          </a>\n",
      "         </li>\n",
      "         <li class=\"tier-2 element-6\" role=\"treeitem\">\n",
      "          <a href=\"/about/success/#scientific\" title=\"\">\n",
      "           Scientific\n",
      "          </a>\n",
      "         </li>\n",
      "         <li class=\"tier-2 element-7\" role=\"treeitem\">\n",
      "          <a href=\"/about/success/#software-development\" title=\"\">\n",
      "           Software Development\n",
      "          </a>\n",
      "         </li>\n",
      "        </ul>\n",
      "       </li>\n",
      "       <li aria-haspopup=\"true\" class=\"tier-1 element-6 \" id=\"news\">\n",
      "        <a class=\"\" href=\"/blogs/\" title=\"News from around the Python world\">\n",
      "         News\n",
      "        </a>\n",
      "        <ul aria-hidden=\"true\" class=\"subnav menu\" role=\"menu\">\n",
      "         <li class=\"tier-2 element-1\" role=\"treeitem\">\n",
      "          <a href=\"/blogs/\" title=\"Python Insider Blog Posts\">\n",
      "           Python News\n",
      "          </a>\n",
      "         </li>\n",
      "         <li class=\"tier-2 element-2\" role=\"treeitem\">\n",
      "          <a href=\"http://planetpython.org/\" title=\"Planet Python\">\n",
      "           Community News\n",
      "          </a>\n",
      "         </li>\n",
      "         <li class=\"tier-2 element-3\" role=\"treeitem\">\n",
      "          <a href=\"http://pyfound.blogspot.com/\" title=\"PSF Blog\">\n",
      "           PSF News\n",
      "          </a>\n",
      "         </li>\n",
      "         <li class=\"tier-2 element-4\" role=\"treeitem\">\n",
      "          <a href=\"http://pycon.blogspot.com/\" title=\"PyCon Blog\">\n",
      "           PyCon News\n",
      "          </a>\n",
      "         </li>\n",
      "        </ul>\n",
      "       </li>\n",
      "       <li aria-haspopup=\"true\" class=\"tier-1 element-7 \" id=\"events\">\n",
      "        <a class=\" selected\" href=\"/events/\" title=\"\">\n",
      "         Events\n",
      "        </a>\n",
      "        <ul aria-hidden=\"true\" class=\"subnav menu\" role=\"menu\">\n",
      "         <li class=\"tier-2 element-1\" role=\"treeitem\">\n",
      "          <a href=\"/events/python-events\" title=\"\">\n",
      "           Python Events\n",
      "          </a>\n",
      "         </li>\n",
      "         <li class=\"tier-2 element-2\" role=\"treeitem\">\n",
      "          <a href=\"/events/python-user-group/\" title=\"\">\n",
      "           User Group Events\n",
      "          </a>\n",
      "         </li>\n",
      "         <li class=\"tier-2 element-3\" role=\"treeitem\">\n",
      "          <a href=\"/events/python-events/past/\" title=\"\">\n",
      "           Python Events Archive\n",
      "          </a>\n",
      "         </li>\n",
      "         <li class=\"tier-2 element-4\" role=\"treeitem\">\n",
      "          <a href=\"/events/python-user-group/past/\" title=\"\">\n",
      "           User Group Events Archive\n",
      "          </a>\n",
      "         </li>\n",
      "         <li class=\"tier-2 element-5\" role=\"treeitem\">\n",
      "          <a href=\"https://wiki.python.org/moin/PythonEventsCalendar#Submitting_an_Event\" title=\"\">\n",
      "           Submit an Event\n",
      "          </a>\n",
      "         </li>\n",
      "        </ul>\n",
      "       </li>\n",
      "      </ul>\n",
      "     </nav>\n",
      "     <div class=\"header-banner \">\n",
      "      <!-- for optional \"do-not-print\" class -->\n",
      "     </div>\n",
      "    </div>\n",
      "    <!-- end .container -->\n",
      "   </header>\n",
      "   <div class=\"content-wrapper\" id=\"content\">\n",
      "    <!-- Main Content Column -->\n",
      "    <div class=\"container\">\n",
      "     <section class=\"main-content with-right-sidebar\" role=\"main\">\n",
      "      <header class=\"article-header\">\n",
      "       <h3>\n",
      "        from the Python User Group Calendar\n",
      "       </h3>\n",
      "      </header>\n",
      "      <div class=\"most-recent-events\">\n",
      "       <div class=\"shrubbery\">\n",
      "        <h2 class=\"widget-title\">\n",
      "         <span aria-hidden=\"true\" class=\"icon-calendar\">\n",
      "         </span>\n",
      "         Upcoming Events\n",
      "        </h2>\n",
      "        <p class=\"give-me-more\">\n",
      "         <a href=\"?page=2\" title=\"More Events\">\n",
      "          More\n",
      "         </a>\n",
      "        </p>\n",
      "        <ul class=\"list-recent-events menu\">\n",
      "         <li>\n",
      "          <h3 class=\"event-title\">\n",
      "           <a href=\"/events/python-user-group/583/\">\n",
      "            Django Girls Cartagena, Colombia\n",
      "           </a>\n",
      "          </h3>\n",
      "          <p>\n",
      "           <time datetime=\"2017-10-14T00:00:00+00:00\">\n",
      "            14 Oct. – 15 Oct.\n",
      "            <span class=\"say-no-more\">\n",
      "             2017\n",
      "            </span>\n",
      "           </time>\n",
      "           <span class=\"event-location\">\n",
      "            Cartagena, Colombia\n",
      "           </span>\n",
      "          </p>\n",
      "         </li>\n",
      "         <li>\n",
      "          <h3 class=\"event-title\">\n",
      "           <a href=\"/events/python-user-group/570/\">\n",
      "            Django Girls Freetown\n",
      "           </a>\n",
      "          </h3>\n",
      "          <p>\n",
      "           <time datetime=\"2017-10-14T00:00:00+00:00\">\n",
      "            14 Oct. – 16 Oct.\n",
      "            <span class=\"say-no-more\">\n",
      "             2017\n",
      "            </span>\n",
      "           </time>\n",
      "           <span class=\"event-location\">\n",
      "            Freetown, Sierra Leone\n",
      "           </span>\n",
      "          </p>\n",
      "         </li>\n",
      "         <li>\n",
      "          <h3 class=\"event-title\">\n",
      "           <a href=\"/events/python-user-group/590/\">\n",
      "            Django Girls Jos\n",
      "           </a>\n",
      "          </h3>\n",
      "          <p>\n",
      "           <time datetime=\"2017-10-20T00:00:00+00:00\">\n",
      "            20 Oct. – 21 Oct.\n",
      "            <span class=\"say-no-more\">\n",
      "             2017\n",
      "            </span>\n",
      "           </time>\n",
      "           <span class=\"event-location\">\n",
      "            Former Tax Academy, Jos, Nigeria\n",
      "           </span>\n",
      "          </p>\n",
      "         </li>\n",
      "         <li>\n",
      "          <h3 class=\"event-title\">\n",
      "           <a href=\"/events/python-user-group/582/\">\n",
      "            Django Girls Rome\n",
      "           </a>\n",
      "          </h3>\n",
      "          <p>\n",
      "           <time datetime=\"2017-10-21T00:00:00+00:00\">\n",
      "            21 Oct. – 22 Oct.\n",
      "            <span class=\"say-no-more\">\n",
      "             2017\n",
      "            </span>\n",
      "           </time>\n",
      "           <span class=\"event-location\">\n",
      "            Metropolitan City of Rome, Italy\n",
      "           </span>\n",
      "          </p>\n",
      "         </li>\n",
      "         <li>\n",
      "          <h3 class=\"event-title\">\n",
      "           <a href=\"/events/python-user-group/567/\">\n",
      "            Django Girls Rize\n",
      "           </a>\n",
      "          </h3>\n",
      "          <p>\n",
      "           <time datetime=\"2017-10-21T00:00:00+00:00\">\n",
      "            21 Oct. – 22 Oct.\n",
      "            <span class=\"say-no-more\">\n",
      "             2017\n",
      "            </span>\n",
      "           </time>\n",
      "           <span class=\"event-location\">\n",
      "            RİZE, TURKEY\n",
      "           </span>\n",
      "          </p>\n",
      "         </li>\n",
      "         <li>\n",
      "          <h3 class=\"event-title\">\n",
      "           <a href=\"/events/python-user-group/597/\">\n",
      "            Meetup Python Madrid\n",
      "           </a>\n",
      "          </h3>\n",
      "          <p>\n",
      "           <time datetime=\"2017-10-23T18:00:00+00:00\">\n",
      "            23 Oct.\n",
      "            <span class=\"say-no-more\">\n",
      "             2017\n",
      "            </span>\n",
      "           </time>\n",
      "           <span class=\"event-location\">\n",
      "            Campus Madrid, Calle Moreno Nieto, 2, Madrid, Spain\n",
      "           </span>\n",
      "          </p>\n",
      "         </li>\n",
      "        </ul>\n",
      "       </div>\n",
      "       <h3 class=\"widget-title just-missed\">\n",
      "        You just missed...\n",
      "       </h3>\n",
      "       <ul class=\"list-recent-events menu\">\n",
      "        <li>\n",
      "         <h3 class=\"event-title\">\n",
      "          <a href=\"/events/python-user-group/566/\">\n",
      "           Django Girls Bishkek\n",
      "          </a>\n",
      "         </h3>\n",
      "         <p>\n",
      "          <time datetime=\"2017-10-01T00:00:00+00:00\">\n",
      "           01 Oct. – 02 Oct.\n",
      "           <span class=\"say-no-more\">\n",
      "            2017\n",
      "           </span>\n",
      "          </time>\n",
      "          <span class=\"event-location\">\n",
      "           Bishkek, Kyrgyz Republic\n",
      "          </span>\n",
      "         </p>\n",
      "        </li>\n",
      "        <li>\n",
      "         <h3 class=\"event-title\">\n",
      "          <a href=\"/events/python-user-group/587/\">\n",
      "           Django Girls Kampala 2017\n",
      "          </a>\n",
      "         </h3>\n",
      "         <p>\n",
      "          <time datetime=\"2017-09-30T00:00:00+00:00\">\n",
      "           30 Sept. – 01 Oct.\n",
      "           <span class=\"say-no-more\">\n",
      "            2017\n",
      "           </span>\n",
      "          </time>\n",
      "          <span class=\"event-location\">\n",
      "           Outbox Hub at Soliz House on Lumumba avenue,  Kampala, Uganda\n",
      "          </span>\n",
      "         </p>\n",
      "        </li>\n",
      "       </ul>\n",
      "      </div>\n",
      "     </section>\n",
      "     <aside class=\"right-sidebar\" role=\"secondary\">\n",
      "      <div class=\"sidebar-widget subscribe-widget\">\n",
      "       <h2 class=\"widget-title\">\n",
      "        Python Event Subscriptions\n",
      "       </h2>\n",
      "       <p>\n",
      "        Subscribe to Python Event Calendars:\n",
      "       </p>\n",
      "       <ul class=\"menu\">\n",
      "        <li>\n",
      "         <a href=\"https://www.google.com/calendar/ical/3haig2m9msslkpf2tn1h56nn9g@group.calendar.google.com/public/basic.ics\">\n",
      "          <span aria-hidden=\"true\" class=\"icon-ical\">\n",
      "          </span>\n",
      "          Events in iCal format\n",
      "         </a>\n",
      "        </li>\n",
      "       </ul>\n",
      "       <h2 class=\"widget-title\">\n",
      "        Python Events Calendars\n",
      "       </h2>\n",
      "       <br/>\n",
      "       <p>\n",
      "        For Python events near you, please have a look at the\n",
      "        <a href=\"http://lmorillas.github.io/python_events/\">\n",
      "         <b>\n",
      "          Python events map\n",
      "         </b>\n",
      "        </a>\n",
      "        .\n",
      "       </p>\n",
      "       <p>\n",
      "        The Python events calendars are maintained by the\n",
      "        <a href=\"https://wiki.python.org/moin/PythonEventsCalendar#Python_Calendar_Team\">\n",
      "         events calendar team\n",
      "        </a>\n",
      "        .\n",
      "       </p>\n",
      "       <p>\n",
      "        Please see the\n",
      "        <a href=\"https://wiki.python.org/moin/PythonEventsCalendar\">\n",
      "         events calendar project page\n",
      "        </a>\n",
      "        for details on how to\n",
      "        <a href=\"https://wiki.python.org/moin/PythonEventsCalendar#Submitting_an_Event\">\n",
      "         submit events\n",
      "        </a>\n",
      "        ,\n",
      "        <a href=\"https://wiki.python.org/moin/PythonEventsCalendar#Available_Calendars\">\n",
      "         subscribe to the calendars\n",
      "        </a>\n",
      "        , get\n",
      "        <a href=\"https://twitter.com/PythonEvents\">\n",
      "         Twitter feeds\n",
      "        </a>\n",
      "        or embed them.\n",
      "       </p>\n",
      "       <p>\n",
      "        Thank you.\n",
      "       </p>\n",
      "      </div>\n",
      "     </aside>\n",
      "    </div>\n",
      "    <!-- end .container -->\n",
      "   </div>\n",
      "   <!-- end #content .content-wrapper -->\n",
      "   <!-- Footer and social media list -->\n",
      "   <footer class=\"main-footer\" id=\"site-map\" role=\"contentinfo\">\n",
      "    <div class=\"main-footer-links\">\n",
      "     <div class=\"container\">\n",
      "      <a class=\"jump-link\" href=\"#python-network\" id=\"back-to-top-1\">\n",
      "       <span aria-hidden=\"true\" class=\"icon-arrow-up\">\n",
      "        <span>\n",
      "         ▲\n",
      "        </span>\n",
      "       </span>\n",
      "       Back to Top\n",
      "      </a>\n",
      "      <ul class=\"sitemap navigation menu do-not-print\" id=\"container\" role=\"tree\">\n",
      "       <li class=\"tier-1 element-1\">\n",
      "        <a href=\"/about/\">\n",
      "         About\n",
      "        </a>\n",
      "        <ul class=\"subnav menu\">\n",
      "         <li class=\"tier-2 element-1\" role=\"treeitem\">\n",
      "          <a href=\"/about/apps/\" title=\"\">\n",
      "           Applications\n",
      "          </a>\n",
      "         </li>\n",
      "         <li class=\"tier-2 element-2\" role=\"treeitem\">\n",
      "          <a href=\"/about/quotes/\" title=\"\">\n",
      "           Quotes\n",
      "          </a>\n",
      "         </li>\n",
      "         <li class=\"tier-2 element-3\" role=\"treeitem\">\n",
      "          <a href=\"/about/gettingstarted/\" title=\"\">\n",
      "           Getting Started\n",
      "          </a>\n",
      "         </li>\n",
      "         <li class=\"tier-2 element-4\" role=\"treeitem\">\n",
      "          <a href=\"/about/help/\" title=\"\">\n",
      "           Help\n",
      "          </a>\n",
      "         </li>\n",
      "         <li class=\"tier-2 element-5\" role=\"treeitem\">\n",
      "          <a href=\"http://brochure.getpython.info/\" title=\"\">\n",
      "           Python Brochure\n",
      "          </a>\n",
      "         </li>\n",
      "        </ul>\n",
      "       </li>\n",
      "       <li class=\"tier-1 element-2\">\n",
      "        <a href=\"/downloads/\">\n",
      "         Downloads\n",
      "        </a>\n",
      "        <ul class=\"subnav menu\">\n",
      "         <li class=\"tier-2 element-1\" role=\"treeitem\">\n",
      "          <a href=\"/downloads/\" title=\"\">\n",
      "           All releases\n",
      "          </a>\n",
      "         </li>\n",
      "         <li class=\"tier-2 element-2\" role=\"treeitem\">\n",
      "          <a href=\"/downloads/source/\" title=\"\">\n",
      "           Source code\n",
      "          </a>\n",
      "         </li>\n",
      "         <li class=\"tier-2 element-3\" role=\"treeitem\">\n",
      "          <a href=\"/downloads/windows/\" title=\"\">\n",
      "           Windows\n",
      "          </a>\n",
      "         </li>\n",
      "         <li class=\"tier-2 element-4\" role=\"treeitem\">\n",
      "          <a href=\"/downloads/mac-osx/\" title=\"\">\n",
      "           Mac OS X\n",
      "          </a>\n",
      "         </li>\n",
      "         <li class=\"tier-2 element-5\" role=\"treeitem\">\n",
      "          <a href=\"/download/other/\" title=\"\">\n",
      "           Other Platforms\n",
      "          </a>\n",
      "         </li>\n",
      "         <li class=\"tier-2 element-6\" role=\"treeitem\">\n",
      "          <a href=\"https://docs.python.org/3/license.html\" title=\"\">\n",
      "           License\n",
      "          </a>\n",
      "         </li>\n",
      "         <li class=\"tier-2 element-7\" role=\"treeitem\">\n",
      "          <a href=\"/download/alternatives\" title=\"\">\n",
      "           Alternative Implementations\n",
      "          </a>\n",
      "         </li>\n",
      "        </ul>\n",
      "       </li>\n",
      "       <li class=\"tier-1 element-3\">\n",
      "        <a href=\"/doc/\">\n",
      "         Documentation\n",
      "        </a>\n",
      "        <ul class=\"subnav menu\">\n",
      "         <li class=\"tier-2 element-1\" role=\"treeitem\">\n",
      "          <a href=\"/doc/\" title=\"\">\n",
      "           Docs\n",
      "          </a>\n",
      "         </li>\n",
      "         <li class=\"tier-2 element-2\" role=\"treeitem\">\n",
      "          <a href=\"/doc/av\" title=\"\">\n",
      "           Audio/Visual Talks\n",
      "          </a>\n",
      "         </li>\n",
      "         <li class=\"tier-2 element-3\" role=\"treeitem\">\n",
      "          <a href=\"https://wiki.python.org/moin/BeginnersGuide\" title=\"\">\n",
      "           Beginner's Guide\n",
      "          </a>\n",
      "         </li>\n",
      "         <li class=\"tier-2 element-4\" role=\"treeitem\">\n",
      "          <a href=\"https://docs.python.org/devguide/\" title=\"\">\n",
      "           Developer's Guide\n",
      "          </a>\n",
      "         </li>\n",
      "         <li class=\"tier-2 element-5\" role=\"treeitem\">\n",
      "          <a href=\"https://docs.python.org/faq/\" title=\"\">\n",
      "           FAQ\n",
      "          </a>\n",
      "         </li>\n",
      "         <li class=\"tier-2 element-6\" role=\"treeitem\">\n",
      "          <a href=\"http://wiki.python.org/moin/Languages\" title=\"\">\n",
      "           Non-English Docs\n",
      "          </a>\n",
      "         </li>\n",
      "         <li class=\"tier-2 element-7\" role=\"treeitem\">\n",
      "          <a href=\"http://python.org/dev/peps/\" title=\"\">\n",
      "           PEP Index\n",
      "          </a>\n",
      "         </li>\n",
      "         <li class=\"tier-2 element-8\" role=\"treeitem\">\n",
      "          <a href=\"https://wiki.python.org/moin/PythonBooks\" title=\"\">\n",
      "           Python Books\n",
      "          </a>\n",
      "         </li>\n",
      "         <li class=\"tier-2 element-9\" role=\"treeitem\">\n",
      "          <a href=\"/doc/essays/\" title=\"\">\n",
      "           Python Essays\n",
      "          </a>\n",
      "         </li>\n",
      "        </ul>\n",
      "       </li>\n",
      "       <li class=\"tier-1 element-4\">\n",
      "        <a href=\"/community/\">\n",
      "         Community\n",
      "        </a>\n",
      "        <ul class=\"subnav menu\">\n",
      "         <li class=\"tier-2 element-1\" role=\"treeitem\">\n",
      "          <a href=\"/community/diversity/\" title=\"\">\n",
      "           Diversity\n",
      "          </a>\n",
      "         </li>\n",
      "         <li class=\"tier-2 element-2\" role=\"treeitem\">\n",
      "          <a href=\"/community/lists/\" title=\"\">\n",
      "           Mailing Lists\n",
      "          </a>\n",
      "         </li>\n",
      "         <li class=\"tier-2 element-3\" role=\"treeitem\">\n",
      "          <a href=\"/community/irc/\" title=\"\">\n",
      "           IRC\n",
      "          </a>\n",
      "         </li>\n",
      "         <li class=\"tier-2 element-4\" role=\"treeitem\">\n",
      "          <a href=\"/community/forums/\" title=\"\">\n",
      "           Forums\n",
      "          </a>\n",
      "         </li>\n",
      "         <li class=\"tier-2 element-5\" role=\"treeitem\">\n",
      "          <a href=\"/community/workshops/\" title=\"\">\n",
      "           Python Conferences\n",
      "          </a>\n",
      "         </li>\n",
      "         <li class=\"tier-2 element-6\" role=\"treeitem\">\n",
      "          <a href=\"/community/sigs/\" title=\"\">\n",
      "           Special Interest Groups\n",
      "          </a>\n",
      "         </li>\n",
      "         <li class=\"tier-2 element-7\" role=\"treeitem\">\n",
      "          <a href=\"https://wiki.python.org/moin/\" title=\"\">\n",
      "           Python Wiki\n",
      "          </a>\n",
      "         </li>\n",
      "         <li class=\"tier-2 element-8\" role=\"treeitem\">\n",
      "          <a href=\"/community/logos/\" title=\"\">\n",
      "           Python Logo\n",
      "          </a>\n",
      "         </li>\n",
      "         <li class=\"tier-2 element-9\" role=\"treeitem\">\n",
      "          <a href=\"/community/merchandise/\" title=\"\">\n",
      "           Merchandise\n",
      "          </a>\n",
      "         </li>\n",
      "         <li class=\"tier-2 element-10\" role=\"treeitem\">\n",
      "          <a href=\"/community/awards\" title=\"\">\n",
      "           Community Awards\n",
      "          </a>\n",
      "         </li>\n",
      "         <li class=\"tier-2 element-11\" role=\"treeitem\">\n",
      "          <a href=\"https://www.python.org/psf/codeofconduct/\" title=\"\">\n",
      "           Code of Conduct\n",
      "          </a>\n",
      "         </li>\n",
      "        </ul>\n",
      "       </li>\n",
      "       <li class=\"tier-1 element-5\">\n",
      "        <a href=\"/about/success/\" title=\"success-stories\">\n",
      "         Success Stories\n",
      "        </a>\n",
      "        <ul class=\"subnav menu\">\n",
      "         <li class=\"tier-2 element-1\" role=\"treeitem\">\n",
      "          <a href=\"/about/success/#arts\" title=\"\">\n",
      "           Arts\n",
      "          </a>\n",
      "         </li>\n",
      "         <li class=\"tier-2 element-2\" role=\"treeitem\">\n",
      "          <a href=\"/about/success/#business\" title=\"\">\n",
      "           Business\n",
      "          </a>\n",
      "         </li>\n",
      "         <li class=\"tier-2 element-3\" role=\"treeitem\">\n",
      "          <a href=\"/about/success/#education\" title=\"\">\n",
      "           Education\n",
      "          </a>\n",
      "         </li>\n",
      "         <li class=\"tier-2 element-4\" role=\"treeitem\">\n",
      "          <a href=\"/about/success/#engineering\" title=\"\">\n",
      "           Engineering\n",
      "          </a>\n",
      "         </li>\n",
      "         <li class=\"tier-2 element-5\" role=\"treeitem\">\n",
      "          <a href=\"/about/success/#government\" title=\"\">\n",
      "           Government\n",
      "          </a>\n",
      "         </li>\n",
      "         <li class=\"tier-2 element-6\" role=\"treeitem\">\n",
      "          <a href=\"/about/success/#scientific\" title=\"\">\n",
      "           Scientific\n",
      "          </a>\n",
      "         </li>\n",
      "         <li class=\"tier-2 element-7\" role=\"treeitem\">\n",
      "          <a href=\"/about/success/#software-development\" title=\"\">\n",
      "           Software Development\n",
      "          </a>\n",
      "         </li>\n",
      "        </ul>\n",
      "       </li>\n",
      "       <li class=\"tier-1 element-6\">\n",
      "        <a href=\"/blogs/\" title=\"News from around the Python world\">\n",
      "         News\n",
      "        </a>\n",
      "        <ul class=\"subnav menu\">\n",
      "         <li class=\"tier-2 element-1\" role=\"treeitem\">\n",
      "          <a href=\"/blogs/\" title=\"Python Insider Blog Posts\">\n",
      "           Python News\n",
      "          </a>\n",
      "         </li>\n",
      "         <li class=\"tier-2 element-2\" role=\"treeitem\">\n",
      "          <a href=\"http://planetpython.org/\" title=\"Planet Python\">\n",
      "           Community News\n",
      "          </a>\n",
      "         </li>\n",
      "         <li class=\"tier-2 element-3\" role=\"treeitem\">\n",
      "          <a href=\"http://pyfound.blogspot.com/\" title=\"PSF Blog\">\n",
      "           PSF News\n",
      "          </a>\n",
      "         </li>\n",
      "         <li class=\"tier-2 element-4\" role=\"treeitem\">\n",
      "          <a href=\"http://pycon.blogspot.com/\" title=\"PyCon Blog\">\n",
      "           PyCon News\n",
      "          </a>\n",
      "         </li>\n",
      "        </ul>\n",
      "       </li>\n",
      "       <li class=\"tier-1 element-7\">\n",
      "        <a href=\"/events/\">\n",
      "         Events\n",
      "        </a>\n",
      "        <ul class=\"subnav menu\">\n",
      "         <li class=\"tier-2 element-1\" role=\"treeitem\">\n",
      "          <a href=\"/events/python-events\" title=\"\">\n",
      "           Python Events\n",
      "          </a>\n",
      "         </li>\n",
      "         <li class=\"tier-2 element-2\" role=\"treeitem\">\n",
      "          <a href=\"/events/python-user-group/\" title=\"\">\n",
      "           User Group Events\n",
      "          </a>\n",
      "         </li>\n",
      "         <li class=\"tier-2 element-3\" role=\"treeitem\">\n",
      "          <a href=\"/events/python-events/past/\" title=\"\">\n",
      "           Python Events Archive\n",
      "          </a>\n",
      "         </li>\n",
      "         <li class=\"tier-2 element-4\" role=\"treeitem\">\n",
      "          <a href=\"/events/python-user-group/past/\" title=\"\">\n",
      "           User Group Events Archive\n",
      "          </a>\n",
      "         </li>\n",
      "         <li class=\"tier-2 element-5\" role=\"treeitem\">\n",
      "          <a href=\"https://wiki.python.org/moin/PythonEventsCalendar#Submitting_an_Event\" title=\"\">\n",
      "           Submit an Event\n",
      "          </a>\n",
      "         </li>\n",
      "        </ul>\n",
      "       </li>\n",
      "       <li class=\"tier-1 element-8\">\n",
      "        <a href=\"/dev/\">\n",
      "         Contributing\n",
      "        </a>\n",
      "        <ul class=\"subnav menu\">\n",
      "         <li class=\"tier-2 element-1\" role=\"treeitem\">\n",
      "          <a href=\"http://docs.python.org/devguide/\" title=\"\">\n",
      "           Developer's Guide\n",
      "          </a>\n",
      "         </li>\n",
      "         <li class=\"tier-2 element-2\" role=\"treeitem\">\n",
      "          <a href=\"https://bugs.python.org/\" title=\"\">\n",
      "           Issue Tracker\n",
      "          </a>\n",
      "         </li>\n",
      "         <li class=\"tier-2 element-3\" role=\"treeitem\">\n",
      "          <a href=\"https://mail.python.org/mailman/listinfo/python-dev\" title=\"\">\n",
      "           python-dev list\n",
      "          </a>\n",
      "         </li>\n",
      "         <li class=\"tier-2 element-4\" role=\"treeitem\">\n",
      "          <a href=\"/dev/core-mentorship/\" title=\"\">\n",
      "           Core Mentorship\n",
      "          </a>\n",
      "         </li>\n",
      "        </ul>\n",
      "       </li>\n",
      "      </ul>\n",
      "      <a class=\"jump-link\" href=\"#python-network\" id=\"back-to-top-2\">\n",
      "       <span aria-hidden=\"true\" class=\"icon-arrow-up\">\n",
      "        <span>\n",
      "         ▲\n",
      "        </span>\n",
      "       </span>\n",
      "       Back to Top\n",
      "      </a>\n",
      "     </div>\n",
      "     <!-- end .container -->\n",
      "    </div>\n",
      "    <!-- end .main-footer-links -->\n",
      "    <div class=\"site-base\">\n",
      "     <div class=\"container\">\n",
      "      <ul class=\"footer-links navigation menu do-not-print\" role=\"tree\">\n",
      "       <li class=\"tier-1 element-1\">\n",
      "        <a href=\"/about/help/\">\n",
      "         Help &amp;\n",
      "         <span class=\"say-no-more\">\n",
      "          General\n",
      "         </span>\n",
      "         Contact\n",
      "        </a>\n",
      "       </li>\n",
      "       <li class=\"tier-1 element-2\">\n",
      "        <a href=\"/community/diversity/\">\n",
      "         Diversity\n",
      "         <span class=\"say-no-more\">\n",
      "          Initiatives\n",
      "         </span>\n",
      "        </a>\n",
      "       </li>\n",
      "       <li class=\"tier-1 element-3\">\n",
      "        <a href=\"https://github.com/python/pythondotorg/issues\">\n",
      "         Submit Website Bug\n",
      "        </a>\n",
      "       </li>\n",
      "       <li class=\"tier-1 element-4\">\n",
      "        <a href=\"https://status.python.org/\">\n",
      "         Status\n",
      "         <span class=\"python-status-indicator-default\" id=\"python-status-indicator\">\n",
      "         </span>\n",
      "        </a>\n",
      "       </li>\n",
      "      </ul>\n",
      "      <div class=\"copyright\">\n",
      "       <p>\n",
      "        <small>\n",
      "         <span class=\"pre\">\n",
      "          Copyright ©2001-2017.\n",
      "         </span>\n",
      "         <span class=\"pre\">\n",
      "          <a href=\"/psf-landing/\">\n",
      "           Python Software Foundation\n",
      "          </a>\n",
      "         </span>\n",
      "         <span class=\"pre\">\n",
      "          <a href=\"/about/legal/\">\n",
      "           Legal Statements\n",
      "          </a>\n",
      "         </span>\n",
      "         <span class=\"pre\">\n",
      "          <a href=\"/privacy/\">\n",
      "           Privacy Policy\n",
      "          </a>\n",
      "         </span>\n",
      "        </small>\n",
      "       </p>\n",
      "      </div>\n",
      "     </div>\n",
      "     <!-- end .container -->\n",
      "    </div>\n",
      "    <!-- end .site-base -->\n",
      "   </footer>\n",
      "  </div>\n",
      "  <!-- end #touchnav-wrapper -->\n",
      "  <script src=\"//ajax.googleapis.com/ajax/libs/jquery/1.8.2/jquery.min.js\">\n",
      "  </script>\n",
      "  <script>\n",
      "   window.jQuery || document.write('<script src=\"/static/js/libs/jquery-1.8.2.min.js\"><\\/script>')\n",
      "  </script>\n",
      "  <script src=\"/static/js/libs/masonry.pkgd.min.js\">\n",
      "  </script>\n",
      "  <script charset=\"utf-8\" src=\"/static/js/main-min.js\" type=\"text/javascript\">\n",
      "  </script>\n",
      "  <!--[if lte IE 7]>\n",
      "    <script type=\"text/javascript\" src=\"/static/js/plugins/IE8-min.js\" charset=\"utf-8\"></script>\n",
      "    \n",
      "    \n",
      "    <![endif]-->\n",
      "  <!--[if lte IE 8]>\n",
      "    <script type=\"text/javascript\" src=\"/static/js/plugins/getComputedStyle-min.js\" charset=\"utf-8\"></script>\n",
      "    \n",
      "    \n",
      "    <![endif]-->\n",
      " </body>\n",
      "</html>\n",
      "\n"
     ]
    }
   ],
   "source": [
    "print(text.prettify())"
   ]
  },
  {
   "cell_type": "markdown",
   "metadata": {},
   "source": [
    "#### Title\n",
    "Titles are in `h3` tags with an attribute `class=\"event-title\"`.\n",
    "<img src=pic/title.png width=900/>"
   ]
  },
  {
   "cell_type": "code",
   "execution_count": null,
   "metadata": {
    "collapsed": true
   },
   "outputs": [],
   "source": [
    "titleTags = text.find_all('h3', {'class': \"event-title\"})\n",
    "titleTags"
   ]
  },
  {
   "cell_type": "code",
   "execution_count": null,
   "metadata": {
    "collapsed": true
   },
   "outputs": [],
   "source": [
    "titleString = [tag.get_text() for tag in titleTags]\n",
    "titleString"
   ]
  },
  {
   "cell_type": "markdown",
   "metadata": {},
   "source": [
    "#### Time\n",
    "Times are in the `time` tags with the attribute `datetime`."
   ]
  },
  {
   "cell_type": "markdown",
   "metadata": {},
   "source": [
    "![time](pic/time.png)"
   ]
  },
  {
   "cell_type": "code",
   "execution_count": 31,
   "metadata": {},
   "outputs": [
    {
     "data": {
      "text/plain": [
       "[<time datetime=\"2017-10-14T00:00:00+00:00\">14 Oct. – 15 Oct. <span class=\"say-no-more\"> 2017</span></time>,\n",
       " <time datetime=\"2017-10-14T00:00:00+00:00\">14 Oct. – 16 Oct. <span class=\"say-no-more\"> 2017</span></time>,\n",
       " <time datetime=\"2017-10-20T00:00:00+00:00\">20 Oct. – 21 Oct. <span class=\"say-no-more\"> 2017</span></time>,\n",
       " <time datetime=\"2017-10-21T00:00:00+00:00\">21 Oct. – 22 Oct. <span class=\"say-no-more\"> 2017</span></time>,\n",
       " <time datetime=\"2017-10-21T00:00:00+00:00\">21 Oct. – 22 Oct. <span class=\"say-no-more\"> 2017</span></time>,\n",
       " <time datetime=\"2017-10-23T18:00:00+00:00\">23 Oct.<span class=\"say-no-more\"> 2017</span></time>,\n",
       " <time datetime=\"2017-10-01T00:00:00+00:00\">01 Oct. – 02 Oct. <span class=\"say-no-more\"> 2017</span></time>,\n",
       " <time datetime=\"2017-09-30T00:00:00+00:00\">30 Sept. – 01 Oct. <span class=\"say-no-more\"> 2017</span></time>]"
      ]
     },
     "execution_count": 31,
     "metadata": {},
     "output_type": "execute_result"
    }
   ],
   "source": [
    "timeTags = text.find_all(lambda tag: 'datetime' in tag.attrs)\n",
    "timeTags"
   ]
  },
  {
   "cell_type": "code",
   "execution_count": 32,
   "metadata": {},
   "outputs": [
    {
     "data": {
      "text/plain": [
       "['2017-10-14T00:00:00+00:00',\n",
       " '2017-10-14T00:00:00+00:00',\n",
       " '2017-10-20T00:00:00+00:00',\n",
       " '2017-10-21T00:00:00+00:00',\n",
       " '2017-10-21T00:00:00+00:00',\n",
       " '2017-10-23T18:00:00+00:00',\n",
       " '2017-10-01T00:00:00+00:00',\n",
       " '2017-09-30T00:00:00+00:00']"
      ]
     },
     "execution_count": 32,
     "metadata": {},
     "output_type": "execute_result"
    }
   ],
   "source": [
    "timeString = [tag.get('datetime') for tag in timeTags]\n",
    "timeString"
   ]
  },
  {
   "cell_type": "markdown",
   "metadata": {},
   "source": [
    "#### Location\n",
    "Locations are in `span` tags with the attribute `class=\"envet-location\"`."
   ]
  },
  {
   "cell_type": "markdown",
   "metadata": {},
   "source": [
    "<img src=pic/location.png width=900/>"
   ]
  },
  {
   "cell_type": "code",
   "execution_count": 33,
   "metadata": {},
   "outputs": [
    {
     "data": {
      "text/plain": [
       "[<span class=\"event-location\">Cartagena, Colombia</span>,\n",
       " <span class=\"event-location\">Freetown, Sierra Leone</span>,\n",
       " <span class=\"event-location\">Former Tax Academy, Jos, Nigeria</span>,\n",
       " <span class=\"event-location\">Metropolitan City of Rome, Italy</span>,\n",
       " <span class=\"event-location\">RİZE, TURKEY</span>,\n",
       " <span class=\"event-location\">Campus Madrid, Calle Moreno Nieto, 2, Madrid, Spain</span>,\n",
       " <span class=\"event-location\">Bishkek, Kyrgyz Republic</span>,\n",
       " <span class=\"event-location\">Outbox Hub at Soliz House on Lumumba avenue,  Kampala, Uganda</span>]"
      ]
     },
     "execution_count": 33,
     "metadata": {},
     "output_type": "execute_result"
    }
   ],
   "source": [
    "locationTags = text.find_all(\"span\", {\"class\": \"event-location\"})\n",
    "locationTags"
   ]
  },
  {
   "cell_type": "code",
   "execution_count": 34,
   "metadata": {},
   "outputs": [
    {
     "data": {
      "text/plain": [
       "['Cartagena, Colombia',\n",
       " 'Freetown, Sierra Leone',\n",
       " 'Former Tax Academy, Jos, Nigeria',\n",
       " 'Metropolitan City of Rome, Italy',\n",
       " 'RİZE, TURKEY',\n",
       " 'Campus Madrid, Calle Moreno Nieto, 2, Madrid, Spain',\n",
       " 'Bishkek, Kyrgyz Republic',\n",
       " 'Outbox Hub at Soliz House on Lumumba avenue,  Kampala, Uganda']"
      ]
     },
     "execution_count": 34,
     "metadata": {},
     "output_type": "execute_result"
    }
   ],
   "source": [
    "locationString = [tag.get_text() for tag in locationTags]\n",
    "locationString"
   ]
  },
  {
   "cell_type": "markdown",
   "metadata": {},
   "source": [
    "- Let's quickly wrap up what we have got so far.\n",
    "- The workflow of a web scraping project is:\n",
    " - Find the unique attribute that will locate the **top level** tags that you are interested in.\n",
    " - We want to locate the event tag that its child tags contain the title, datetime and location that you want to save as columns in a csv file: \n",
    " \n",
    " **one unique tag -> one row in csv file**\n",
    " - Then you go levels deeper to find the child tags of each event.\n",
    " - The event tags have a unique class attribute equal to **list-recent-events menu**.\n",
    " - Next question is: what is the best data structure to represent one single event?"
   ]
  },
  {
   "cell_type": "code",
   "execution_count": 35,
   "metadata": {
    "collapsed": true
   },
   "outputs": [],
   "source": [
    "result = []\n",
    "uls = text.find_all('ul', {'class': 'list-recent-events menu'})\n",
    "for ul in uls:\n",
    "    lis = ul.find_all('li')\n",
    "    for li in lis:\n",
    "        event = {}\n",
    "        try:\n",
    "            title = li.find('a').get_text()\n",
    "        except:\n",
    "            continue       \n",
    "        try:\n",
    "            time = li.find('time').get('datetime')\n",
    "        except:\n",
    "            time = \"\"\n",
    "        try:\n",
    "            location = li.find('span', {'class':'event-location'}).get_text().strip()\n",
    "        except:\n",
    "            location = \"\"\n",
    "            \n",
    "        event['location'] = location\n",
    "        event['time'] = time\n",
    "        event['title'] = title\n",
    "        result.append(event)"
   ]
  },
  {
   "cell_type": "code",
   "execution_count": 36,
   "metadata": {},
   "outputs": [
    {
     "data": {
      "text/plain": [
       "[{'location': 'Cartagena, Colombia',\n",
       "  'time': '2017-10-14T00:00:00+00:00',\n",
       "  'title': 'Django Girls Cartagena, Colombia'},\n",
       " {'location': 'Freetown, Sierra Leone',\n",
       "  'time': '2017-10-14T00:00:00+00:00',\n",
       "  'title': 'Django Girls Freetown'},\n",
       " {'location': 'Former Tax Academy, Jos, Nigeria',\n",
       "  'time': '2017-10-20T00:00:00+00:00',\n",
       "  'title': 'Django Girls Jos'},\n",
       " {'location': 'Metropolitan City of Rome, Italy',\n",
       "  'time': '2017-10-21T00:00:00+00:00',\n",
       "  'title': 'Django Girls Rome'},\n",
       " {'location': 'RİZE, TURKEY',\n",
       "  'time': '2017-10-21T00:00:00+00:00',\n",
       "  'title': 'Django Girls Rize'},\n",
       " {'location': 'Campus Madrid, Calle Moreno Nieto, 2, Madrid, Spain',\n",
       "  'time': '2017-10-23T18:00:00+00:00',\n",
       "  'title': 'Meetup Python Madrid'},\n",
       " {'location': 'Bishkek, Kyrgyz Republic',\n",
       "  'time': '2017-10-01T00:00:00+00:00',\n",
       "  'title': 'Django Girls Bishkek'},\n",
       " {'location': 'Outbox Hub at Soliz House on Lumumba avenue,  Kampala, Uganda',\n",
       "  'time': '2017-09-30T00:00:00+00:00',\n",
       "  'title': 'Django Girls Kampala 2017'}]"
      ]
     },
     "execution_count": 36,
     "metadata": {},
     "output_type": "execute_result"
    }
   ],
   "source": [
    "result"
   ]
  },
  {
   "cell_type": "markdown",
   "metadata": {},
   "source": [
    "<p><a name=\"yelp\"></a></p>\n",
    "### Scrape Yelp Reviews\n",
    "[[back to top]](#sections)"
   ]
  },
  {
   "cell_type": "markdown",
   "metadata": {},
   "source": [
    "#### Step 1: Find the pattern of url"
   ]
  },
  {
   "cell_type": "code",
   "execution_count": 37,
   "metadata": {
    "collapsed": true
   },
   "outputs": [],
   "source": [
    "from bs4 import BeautifulSoup\n",
    "import requests\n",
    "\n",
    "headers = {\n",
    "    'Connection': 'keep-alive',\n",
    "    'Access-Control-Request-Headers': 'content-type',\n",
    "    'Accept': '*/*',\n",
    "    'User-Agent': 'Mozilla/5.0 (Macintosh; Intel Mac OS X 10_12_3) AppleWebKit/537.36 (KHTML, like Gecko) Chrome/58.0.3029.110 Safari/537.36'\n",
    "}\n",
    "\n",
    "response = requests.get('https://www.yelp.com/biz/abc-kitchen-new-york', headers=headers).text\n",
    "soup = BeautifulSoup(response, 'html.parser')"
   ]
  },
  {
   "cell_type": "markdown",
   "metadata": {},
   "source": [
    "- If you go to the second page, you can see the url becomes https://www.yelp.com/biz/abc-kitchen-new-york?start=20. \n",
    "- Similarly, the url to the thid page: https://www.yelp.com/biz/abc-kitchen-new-york?start=40\n",
    "- But how do we find out the url of the last page?"
   ]
  },
  {
   "cell_type": "code",
   "execution_count": 38,
   "metadata": {},
   "outputs": [
    {
     "name": "stdout",
     "output_type": "stream",
     "text": [
      "2513\n"
     ]
    }
   ],
   "source": [
    "import re\n",
    "num_reviews = soup.find('span', attrs={'class': 'review-count rating-qualifier'}).text\n",
    "num_reviews = int(re.search('\\d+', num_reviews).group())\n",
    "print(num_reviews)"
   ]
  },
  {
   "cell_type": "code",
   "execution_count": 39,
   "metadata": {},
   "outputs": [
    {
     "name": "stdout",
     "output_type": "stream",
     "text": [
      "['https://www.yelp.com/biz/abc-kitchen-new-york?start=0', 'https://www.yelp.com/biz/abc-kitchen-new-york?start=20', 'https://www.yelp.com/biz/abc-kitchen-new-york?start=40', 'https://www.yelp.com/biz/abc-kitchen-new-york?start=60', 'https://www.yelp.com/biz/abc-kitchen-new-york?start=80', 'https://www.yelp.com/biz/abc-kitchen-new-york?start=100', 'https://www.yelp.com/biz/abc-kitchen-new-york?start=120', 'https://www.yelp.com/biz/abc-kitchen-new-york?start=140', 'https://www.yelp.com/biz/abc-kitchen-new-york?start=160', 'https://www.yelp.com/biz/abc-kitchen-new-york?start=180', 'https://www.yelp.com/biz/abc-kitchen-new-york?start=200', 'https://www.yelp.com/biz/abc-kitchen-new-york?start=220', 'https://www.yelp.com/biz/abc-kitchen-new-york?start=240', 'https://www.yelp.com/biz/abc-kitchen-new-york?start=260', 'https://www.yelp.com/biz/abc-kitchen-new-york?start=280', 'https://www.yelp.com/biz/abc-kitchen-new-york?start=300', 'https://www.yelp.com/biz/abc-kitchen-new-york?start=320', 'https://www.yelp.com/biz/abc-kitchen-new-york?start=340', 'https://www.yelp.com/biz/abc-kitchen-new-york?start=360', 'https://www.yelp.com/biz/abc-kitchen-new-york?start=380', 'https://www.yelp.com/biz/abc-kitchen-new-york?start=400', 'https://www.yelp.com/biz/abc-kitchen-new-york?start=420', 'https://www.yelp.com/biz/abc-kitchen-new-york?start=440', 'https://www.yelp.com/biz/abc-kitchen-new-york?start=460', 'https://www.yelp.com/biz/abc-kitchen-new-york?start=480', 'https://www.yelp.com/biz/abc-kitchen-new-york?start=500', 'https://www.yelp.com/biz/abc-kitchen-new-york?start=520', 'https://www.yelp.com/biz/abc-kitchen-new-york?start=540', 'https://www.yelp.com/biz/abc-kitchen-new-york?start=560', 'https://www.yelp.com/biz/abc-kitchen-new-york?start=580', 'https://www.yelp.com/biz/abc-kitchen-new-york?start=600', 'https://www.yelp.com/biz/abc-kitchen-new-york?start=620', 'https://www.yelp.com/biz/abc-kitchen-new-york?start=640', 'https://www.yelp.com/biz/abc-kitchen-new-york?start=660', 'https://www.yelp.com/biz/abc-kitchen-new-york?start=680', 'https://www.yelp.com/biz/abc-kitchen-new-york?start=700', 'https://www.yelp.com/biz/abc-kitchen-new-york?start=720', 'https://www.yelp.com/biz/abc-kitchen-new-york?start=740', 'https://www.yelp.com/biz/abc-kitchen-new-york?start=760', 'https://www.yelp.com/biz/abc-kitchen-new-york?start=780', 'https://www.yelp.com/biz/abc-kitchen-new-york?start=800', 'https://www.yelp.com/biz/abc-kitchen-new-york?start=820', 'https://www.yelp.com/biz/abc-kitchen-new-york?start=840', 'https://www.yelp.com/biz/abc-kitchen-new-york?start=860', 'https://www.yelp.com/biz/abc-kitchen-new-york?start=880', 'https://www.yelp.com/biz/abc-kitchen-new-york?start=900', 'https://www.yelp.com/biz/abc-kitchen-new-york?start=920', 'https://www.yelp.com/biz/abc-kitchen-new-york?start=940', 'https://www.yelp.com/biz/abc-kitchen-new-york?start=960', 'https://www.yelp.com/biz/abc-kitchen-new-york?start=980', 'https://www.yelp.com/biz/abc-kitchen-new-york?start=1000', 'https://www.yelp.com/biz/abc-kitchen-new-york?start=1020', 'https://www.yelp.com/biz/abc-kitchen-new-york?start=1040', 'https://www.yelp.com/biz/abc-kitchen-new-york?start=1060', 'https://www.yelp.com/biz/abc-kitchen-new-york?start=1080', 'https://www.yelp.com/biz/abc-kitchen-new-york?start=1100', 'https://www.yelp.com/biz/abc-kitchen-new-york?start=1120', 'https://www.yelp.com/biz/abc-kitchen-new-york?start=1140', 'https://www.yelp.com/biz/abc-kitchen-new-york?start=1160', 'https://www.yelp.com/biz/abc-kitchen-new-york?start=1180', 'https://www.yelp.com/biz/abc-kitchen-new-york?start=1200', 'https://www.yelp.com/biz/abc-kitchen-new-york?start=1220', 'https://www.yelp.com/biz/abc-kitchen-new-york?start=1240', 'https://www.yelp.com/biz/abc-kitchen-new-york?start=1260', 'https://www.yelp.com/biz/abc-kitchen-new-york?start=1280', 'https://www.yelp.com/biz/abc-kitchen-new-york?start=1300', 'https://www.yelp.com/biz/abc-kitchen-new-york?start=1320', 'https://www.yelp.com/biz/abc-kitchen-new-york?start=1340', 'https://www.yelp.com/biz/abc-kitchen-new-york?start=1360', 'https://www.yelp.com/biz/abc-kitchen-new-york?start=1380', 'https://www.yelp.com/biz/abc-kitchen-new-york?start=1400', 'https://www.yelp.com/biz/abc-kitchen-new-york?start=1420', 'https://www.yelp.com/biz/abc-kitchen-new-york?start=1440', 'https://www.yelp.com/biz/abc-kitchen-new-york?start=1460', 'https://www.yelp.com/biz/abc-kitchen-new-york?start=1480', 'https://www.yelp.com/biz/abc-kitchen-new-york?start=1500', 'https://www.yelp.com/biz/abc-kitchen-new-york?start=1520', 'https://www.yelp.com/biz/abc-kitchen-new-york?start=1540', 'https://www.yelp.com/biz/abc-kitchen-new-york?start=1560', 'https://www.yelp.com/biz/abc-kitchen-new-york?start=1580', 'https://www.yelp.com/biz/abc-kitchen-new-york?start=1600', 'https://www.yelp.com/biz/abc-kitchen-new-york?start=1620', 'https://www.yelp.com/biz/abc-kitchen-new-york?start=1640', 'https://www.yelp.com/biz/abc-kitchen-new-york?start=1660', 'https://www.yelp.com/biz/abc-kitchen-new-york?start=1680', 'https://www.yelp.com/biz/abc-kitchen-new-york?start=1700', 'https://www.yelp.com/biz/abc-kitchen-new-york?start=1720', 'https://www.yelp.com/biz/abc-kitchen-new-york?start=1740', 'https://www.yelp.com/biz/abc-kitchen-new-york?start=1760', 'https://www.yelp.com/biz/abc-kitchen-new-york?start=1780', 'https://www.yelp.com/biz/abc-kitchen-new-york?start=1800', 'https://www.yelp.com/biz/abc-kitchen-new-york?start=1820', 'https://www.yelp.com/biz/abc-kitchen-new-york?start=1840', 'https://www.yelp.com/biz/abc-kitchen-new-york?start=1860', 'https://www.yelp.com/biz/abc-kitchen-new-york?start=1880', 'https://www.yelp.com/biz/abc-kitchen-new-york?start=1900', 'https://www.yelp.com/biz/abc-kitchen-new-york?start=1920', 'https://www.yelp.com/biz/abc-kitchen-new-york?start=1940', 'https://www.yelp.com/biz/abc-kitchen-new-york?start=1960', 'https://www.yelp.com/biz/abc-kitchen-new-york?start=1980', 'https://www.yelp.com/biz/abc-kitchen-new-york?start=2000', 'https://www.yelp.com/biz/abc-kitchen-new-york?start=2020', 'https://www.yelp.com/biz/abc-kitchen-new-york?start=2040', 'https://www.yelp.com/biz/abc-kitchen-new-york?start=2060', 'https://www.yelp.com/biz/abc-kitchen-new-york?start=2080', 'https://www.yelp.com/biz/abc-kitchen-new-york?start=2100', 'https://www.yelp.com/biz/abc-kitchen-new-york?start=2120', 'https://www.yelp.com/biz/abc-kitchen-new-york?start=2140', 'https://www.yelp.com/biz/abc-kitchen-new-york?start=2160', 'https://www.yelp.com/biz/abc-kitchen-new-york?start=2180', 'https://www.yelp.com/biz/abc-kitchen-new-york?start=2200', 'https://www.yelp.com/biz/abc-kitchen-new-york?start=2220', 'https://www.yelp.com/biz/abc-kitchen-new-york?start=2240', 'https://www.yelp.com/biz/abc-kitchen-new-york?start=2260', 'https://www.yelp.com/biz/abc-kitchen-new-york?start=2280', 'https://www.yelp.com/biz/abc-kitchen-new-york?start=2300', 'https://www.yelp.com/biz/abc-kitchen-new-york?start=2320', 'https://www.yelp.com/biz/abc-kitchen-new-york?start=2340', 'https://www.yelp.com/biz/abc-kitchen-new-york?start=2360', 'https://www.yelp.com/biz/abc-kitchen-new-york?start=2380', 'https://www.yelp.com/biz/abc-kitchen-new-york?start=2400', 'https://www.yelp.com/biz/abc-kitchen-new-york?start=2420', 'https://www.yelp.com/biz/abc-kitchen-new-york?start=2440', 'https://www.yelp.com/biz/abc-kitchen-new-york?start=2460', 'https://www.yelp.com/biz/abc-kitchen-new-york?start=2480', 'https://www.yelp.com/biz/abc-kitchen-new-york?start=2500']\n"
     ]
    }
   ],
   "source": [
    "url_list = []\n",
    "for i in range(0, num_reviews, 20):\n",
    "    url_list.append('https://www.yelp.com/biz/abc-kitchen-new-york?start='+str(i))\n",
    "print(url_list)"
   ]
  },
  {
   "cell_type": "markdown",
   "metadata": {},
   "source": [
    "#### Step 2: Find all the review divs on the page"
   ]
  },
  {
   "cell_type": "code",
   "execution_count": 40,
   "metadata": {},
   "outputs": [
    {
     "name": "stdout",
     "output_type": "stream",
     "text": [
      "20\n"
     ]
    }
   ],
   "source": [
    "reviews = soup.find_all('div', attrs={'class':'review review--with-sidebar'})\n",
    "print(len(reviews))"
   ]
  },
  {
   "cell_type": "markdown",
   "metadata": {},
   "source": [
    "#### Step 3: Scrape the detail information\n",
    "\n",
    "For debugging purpose, we usually test it out on one review and then apply to the others."
   ]
  },
  {
   "cell_type": "code",
   "execution_count": 41,
   "metadata": {},
   "outputs": [
    {
     "name": "stdout",
     "output_type": "stream",
     "text": [
      "Rob D.\n"
     ]
    }
   ],
   "source": [
    "review = reviews[0]\n",
    "\n",
    "# Username\n",
    "username = review.find('a', attrs={'class': 'user-display-name js-analytics-click'}).text\n",
    "print(username)"
   ]
  },
  {
   "cell_type": "code",
   "execution_count": 42,
   "metadata": {},
   "outputs": [
    {
     "name": "stdout",
     "output_type": "stream",
     "text": [
      "\n",
      "Manhattan, NY\n",
      "\n"
     ]
    }
   ],
   "source": [
    "# Location\n",
    "location = review.find('li', attrs={'class': 'user-location responsive-hidden-small'}).text\n",
    "print(location)"
   ]
  },
  {
   "cell_type": "code",
   "execution_count": 43,
   "metadata": {},
   "outputs": [
    {
     "name": "stdout",
     "output_type": "stream",
     "text": [
      "5.0\n"
     ]
    }
   ],
   "source": [
    "# Rating\n",
    "rating = review.find('img', attrs={'class': 'offscreen'}).get('alt')\n",
    "rating = float(re.search('\\d+', rating).group())\n",
    "print(rating)"
   ]
  },
  {
   "cell_type": "code",
   "execution_count": 44,
   "metadata": {},
   "outputs": [
    {
     "name": "stdout",
     "output_type": "stream",
     "text": [
      "\n",
      "        9/24/2017\n",
      "    \n"
     ]
    }
   ],
   "source": [
    "# Date\n",
    "date = review.find('span', attrs={'class': 'rating-qualifier'}).text\n",
    "print(date)"
   ]
  },
  {
   "cell_type": "code",
   "execution_count": 45,
   "metadata": {},
   "outputs": [
    {
     "name": "stdout",
     "output_type": "stream",
     "text": [
      "I would marry that turkey sandwich and spoil it for the rest of it's short delicious life. Hands down one of the best sandwiches in the city - pretty sure our neighboring tables needed to mute my bites as the crunch was off the charts.  It is bonkers good. If you want a classier step up from The Smith - I highly recommend the brunch here, the cappuccinos are also amazing Also - no surprise... the ambiance is second to none.\n"
     ]
    }
   ],
   "source": [
    "# Content\n",
    "content = review.find('p').text\n",
    "print(content)"
   ]
  },
  {
   "cell_type": "markdown",
   "metadata": {},
   "source": [
    "#### Step 4: Apply to all the reviews and save them to a csv file"
   ]
  },
  {
   "cell_type": "code",
   "execution_count": 47,
   "metadata": {
    "collapsed": true
   },
   "outputs": [],
   "source": [
    "import csv\n",
    "with open('reviews.csv', 'w') as csvfile:\n",
    "    review_writer = csv.writer(csvfile)\n",
    "    for review in reviews:\n",
    "        dic = {}\n",
    "        username = review.find('a', attrs={'class': 'user-display-name js-analytics-click'}).text\n",
    "        location = review.find('li', attrs={'class': 'user-location responsive-hidden-small'}).text.strip()\n",
    "        date = review.find('span', attrs={'class': 'rating-qualifier'}).text.strip()\n",
    "        rating = review.find('img', attrs={'class': 'offscreen'}).get('alt')\n",
    "        rating = float(re.search('\\d+', rating).group())\n",
    "        content = review.find('p').text\n",
    "        dic['username'] = username\n",
    "        dic['location'] = location\n",
    "        dic['date'] = date\n",
    "        dic['rating'] = rating\n",
    "        dic['content'] = content\n",
    "        review_writer.writerow(dic.values())"
   ]
  },
  {
   "cell_type": "markdown",
   "metadata": {},
   "source": [
    "#### Step 5: Apply to all the pages"
   ]
  },
  {
   "cell_type": "code",
   "execution_count": 48,
   "metadata": {},
   "outputs": [
    {
     "name": "stdout",
     "output_type": "stream",
     "text": [
      "Finished page 1\n",
      "Finished page 2\n",
      "Finished page 3\n",
      "Finished page 4\n",
      "Finished page 5\n",
      "Finished page 6\n"
     ]
    },
    {
     "ename": "UnicodeEncodeError",
     "evalue": "'charmap' codec can't encode characters in position 0-1: character maps to <undefined>",
     "output_type": "error",
     "traceback": [
      "\u001b[1;31m---------------------------------------------------------------------------\u001b[0m",
      "\u001b[1;31mUnicodeEncodeError\u001b[0m                        Traceback (most recent call last)",
      "\u001b[1;32m<ipython-input-48-edb251c4c0fa>\u001b[0m in \u001b[0;36m<module>\u001b[1;34m()\u001b[0m\n\u001b[0;32m     26\u001b[0m         \u001b[0msoup\u001b[0m \u001b[1;33m=\u001b[0m \u001b[0mBeautifulSoup\u001b[0m\u001b[1;33m(\u001b[0m\u001b[0mresponse\u001b[0m\u001b[1;33m,\u001b[0m \u001b[1;34m'html.parser'\u001b[0m\u001b[1;33m)\u001b[0m\u001b[1;33m\u001b[0m\u001b[0m\n\u001b[0;32m     27\u001b[0m         \u001b[0mreviews\u001b[0m \u001b[1;33m=\u001b[0m \u001b[0msoup\u001b[0m\u001b[1;33m.\u001b[0m\u001b[0mfind_all\u001b[0m\u001b[1;33m(\u001b[0m\u001b[1;34m'div'\u001b[0m\u001b[1;33m,\u001b[0m \u001b[0mattrs\u001b[0m\u001b[1;33m=\u001b[0m\u001b[1;33m{\u001b[0m\u001b[1;34m'class'\u001b[0m\u001b[1;33m:\u001b[0m\u001b[1;34m'review review--with-sidebar'\u001b[0m\u001b[1;33m}\u001b[0m\u001b[1;33m)\u001b[0m\u001b[1;33m\u001b[0m\u001b[0m\n\u001b[1;32m---> 28\u001b[1;33m         \u001b[0mscrape_single_page\u001b[0m\u001b[1;33m(\u001b[0m\u001b[0mreviews\u001b[0m\u001b[1;33m,\u001b[0m \u001b[0mreview_writer\u001b[0m\u001b[1;33m)\u001b[0m\u001b[1;33m\u001b[0m\u001b[0m\n\u001b[0m\u001b[0;32m     29\u001b[0m         \u001b[1;31m# Random sleep to avoid getting banned from the server\u001b[0m\u001b[1;33m\u001b[0m\u001b[1;33m\u001b[0m\u001b[0m\n\u001b[0;32m     30\u001b[0m         \u001b[0mtime\u001b[0m\u001b[1;33m.\u001b[0m\u001b[0msleep\u001b[0m\u001b[1;33m(\u001b[0m\u001b[0mrandom\u001b[0m\u001b[1;33m.\u001b[0m\u001b[0mrandint\u001b[0m\u001b[1;33m(\u001b[0m\u001b[1;36m1\u001b[0m\u001b[1;33m,\u001b[0m\u001b[1;36m3\u001b[0m\u001b[1;33m)\u001b[0m\u001b[1;33m)\u001b[0m\u001b[1;33m\u001b[0m\u001b[0m\n",
      "\u001b[1;32m<ipython-input-48-edb251c4c0fa>\u001b[0m in \u001b[0;36mscrape_single_page\u001b[1;34m(reviews, csvwriter)\u001b[0m\n\u001b[0;32m     17\u001b[0m         \u001b[0mdic\u001b[0m\u001b[1;33m[\u001b[0m\u001b[1;34m'rating'\u001b[0m\u001b[1;33m]\u001b[0m \u001b[1;33m=\u001b[0m \u001b[0mrating\u001b[0m\u001b[1;33m\u001b[0m\u001b[0m\n\u001b[0;32m     18\u001b[0m         \u001b[0mdic\u001b[0m\u001b[1;33m[\u001b[0m\u001b[1;34m'content'\u001b[0m\u001b[1;33m]\u001b[0m \u001b[1;33m=\u001b[0m \u001b[0mcontent\u001b[0m\u001b[1;33m\u001b[0m\u001b[0m\n\u001b[1;32m---> 19\u001b[1;33m         \u001b[0mcsvwriter\u001b[0m\u001b[1;33m.\u001b[0m\u001b[0mwriterow\u001b[0m\u001b[1;33m(\u001b[0m\u001b[0mdic\u001b[0m\u001b[1;33m.\u001b[0m\u001b[0mvalues\u001b[0m\u001b[1;33m(\u001b[0m\u001b[1;33m)\u001b[0m\u001b[1;33m)\u001b[0m\u001b[1;33m\u001b[0m\u001b[0m\n\u001b[0m\u001b[0;32m     20\u001b[0m \u001b[1;33m\u001b[0m\u001b[0m\n\u001b[0;32m     21\u001b[0m \u001b[1;33m\u001b[0m\u001b[0m\n",
      "\u001b[1;32mC:\\Users\\dsp21\\Anaconda2\\envs\\py36\\lib\\encodings\\cp1252.py\u001b[0m in \u001b[0;36mencode\u001b[1;34m(self, input, final)\u001b[0m\n\u001b[0;32m     17\u001b[0m \u001b[1;32mclass\u001b[0m \u001b[0mIncrementalEncoder\u001b[0m\u001b[1;33m(\u001b[0m\u001b[0mcodecs\u001b[0m\u001b[1;33m.\u001b[0m\u001b[0mIncrementalEncoder\u001b[0m\u001b[1;33m)\u001b[0m\u001b[1;33m:\u001b[0m\u001b[1;33m\u001b[0m\u001b[0m\n\u001b[0;32m     18\u001b[0m     \u001b[1;32mdef\u001b[0m \u001b[0mencode\u001b[0m\u001b[1;33m(\u001b[0m\u001b[0mself\u001b[0m\u001b[1;33m,\u001b[0m \u001b[0minput\u001b[0m\u001b[1;33m,\u001b[0m \u001b[0mfinal\u001b[0m\u001b[1;33m=\u001b[0m\u001b[1;32mFalse\u001b[0m\u001b[1;33m)\u001b[0m\u001b[1;33m:\u001b[0m\u001b[1;33m\u001b[0m\u001b[0m\n\u001b[1;32m---> 19\u001b[1;33m         \u001b[1;32mreturn\u001b[0m \u001b[0mcodecs\u001b[0m\u001b[1;33m.\u001b[0m\u001b[0mcharmap_encode\u001b[0m\u001b[1;33m(\u001b[0m\u001b[0minput\u001b[0m\u001b[1;33m,\u001b[0m\u001b[0mself\u001b[0m\u001b[1;33m.\u001b[0m\u001b[0merrors\u001b[0m\u001b[1;33m,\u001b[0m\u001b[0mencoding_table\u001b[0m\u001b[1;33m)\u001b[0m\u001b[1;33m[\u001b[0m\u001b[1;36m0\u001b[0m\u001b[1;33m]\u001b[0m\u001b[1;33m\u001b[0m\u001b[0m\n\u001b[0m\u001b[0;32m     20\u001b[0m \u001b[1;33m\u001b[0m\u001b[0m\n\u001b[0;32m     21\u001b[0m \u001b[1;32mclass\u001b[0m \u001b[0mIncrementalDecoder\u001b[0m\u001b[1;33m(\u001b[0m\u001b[0mcodecs\u001b[0m\u001b[1;33m.\u001b[0m\u001b[0mIncrementalDecoder\u001b[0m\u001b[1;33m)\u001b[0m\u001b[1;33m:\u001b[0m\u001b[1;33m\u001b[0m\u001b[0m\n",
      "\u001b[1;31mUnicodeEncodeError\u001b[0m: 'charmap' codec can't encode characters in position 0-1: character maps to <undefined>"
     ]
    }
   ],
   "source": [
    "import time\n",
    "import random\n",
    "\n",
    "\n",
    "def scrape_single_page(reviews, csvwriter):\n",
    "    for review in reviews:\n",
    "        dic = {}\n",
    "        username = review.find('a', attrs={'class': 'user-display-name js-analytics-click'}).text\n",
    "        location = review.find('li', attrs={'class': 'user-location responsive-hidden-small'}).text.strip()\n",
    "        date = review.find('span', attrs={'class': 'rating-qualifier'}).text.strip()\n",
    "        rating = review.find('img', attrs={'class': 'offscreen'}).get('alt')\n",
    "        rating = float(re.search('\\d+', rating).group())\n",
    "        content = review.find('p').text\n",
    "        dic['username'] = username\n",
    "        dic['location'] = location\n",
    "        dic['date'] = date\n",
    "        dic['rating'] = rating\n",
    "        dic['content'] = content\n",
    "        csvwriter.writerow(dic.values())\n",
    "    \n",
    "\n",
    "with open('reviews.csv', 'w') as csvfile:\n",
    "    review_writer = csv.writer(csvfile)\n",
    "    for index, url in enumerate(url_list):\n",
    "        response = requests.get(url, headers=headers).text\n",
    "        soup = BeautifulSoup(response, 'html.parser')\n",
    "        reviews = soup.find_all('div', attrs={'class':'review review--with-sidebar'})\n",
    "        scrape_single_page(reviews, review_writer)\n",
    "        # Random sleep to avoid getting banned from the server\n",
    "        time.sleep(random.randint(1,3))\n",
    "        # Log the progress\n",
    "        print('Finished page ' + str(index + 1))"
   ]
  },
  {
   "cell_type": "code",
   "execution_count": null,
   "metadata": {
    "collapsed": true
   },
   "outputs": [],
   "source": []
  }
 ],
 "metadata": {
  "kernelspec": {
   "display_name": "Python 3",
   "language": "python",
   "name": "python3"
  },
  "language_info": {
   "codemirror_mode": {
    "name": "ipython",
    "version": 3
   },
   "file_extension": ".py",
   "mimetype": "text/x-python",
   "name": "python",
   "nbconvert_exporter": "python",
   "pygments_lexer": "ipython3",
   "version": "3.6.1"
  }
 },
 "nbformat": 4,
 "nbformat_minor": 1
}
