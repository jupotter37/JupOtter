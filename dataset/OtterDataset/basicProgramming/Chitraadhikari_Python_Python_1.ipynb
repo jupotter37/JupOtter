{
  "nbformat": 4,
  "nbformat_minor": 0,
  "metadata": {
    "colab": {
      "provenance": []
    },
    "kernelspec": {
      "name": "python3",
      "display_name": "Python 3"
    },
    "language_info": {
      "name": "python"
    }
  },
  "cells": [
    {
      "cell_type": "markdown",
      "source": [
        "1) What is Python?\n",
        "-  * Python is a computer programming language often used to build websites  \n",
        "     and software, automate tasks, and conduct data analysis.\n",
        "   * Python is a general-purpose language, meaning it can be used to create a\n",
        "     variety of different programs and isn’t specialized for any specific\n",
        "     problems.\n",
        "   * This versatility, along with its beginner-friendliness, has made it one of\n",
        "     the most-used programming languages today."
      ],
      "metadata": {
        "id": "k3emMuOgFhQa"
      }
    },
    {
      "cell_type": "markdown",
      "source": [
        "2) History of Python.\n",
        "-  Python is a widely used general-purpose, high-level programming language. It was initially designed by Guido van Rossum in 1991 and developed by        Python Software Foundation. It was mainly developed to emphasize code readability, and its syntax allows programmers to express concepts in fewer       lines of code.The inspiration for the name came from the BBC’s TV Show – ‘ Monty Python’s Flying Circus’ , as he was a big fan of the TV show and       also he wanted    a short, unique and slightly mysterious name for his invention and hence he named it Python.\n",
        "Python version history-\n",
        "* Python 0.9.0 (1991)\n",
        "   * Python 1.0 (1994)\n",
        "   * Python 1.5 (1997)\n",
        "   * Python 2.0 (2000)\n",
        "   * Python 2.7 (2010)\n",
        "   * Python 3.0 (2008)\n",
        "   * Python 3.4 (2014)\n",
        "   * Python 3.5 (2015)\n",
        "   * Python 3.6 (2016)\n",
        "   * Python 3.7 (2018)\n",
        "   * Python 3.8 (2019)\n",
        "   * Python 3.9 (2020)\n",
        "   * Python 3.10 (2021)\n",
        "   * Python 3.11 (2022)\n",
        "   * Python 3.12 (2023)"
      ],
      "metadata": {
        "id": "NZwCI1D_Gd2q"
      }
    },
    {
      "cell_type": "markdown",
      "source": [
        "3) Why we need to use Python?\n",
        "-  Python is a versatile programming language that can be used for a variety of tasks.Following are some reasons to use python-\n",
        "   * Code is easy to read, use and maintain.\n",
        "   * Supports multiple programming paradigm.\n",
        "   * Compatible with Major Platforms and System.\n",
        "   * Large standard library.\n",
        "   * Cost-effectivepr aproach.\n",
        "   * Simplifies the complexities of software devlopment.\n",
        "   * Adoption of Test-Driven Level."
      ],
      "metadata": {
        "id": "xklrl7AnHFdY"
      }
    },
    {
      "cell_type": "markdown",
      "source": [
        "5) Explain about keywords and implement?\n",
        "-  * Python keywords are reserved words that hold a specific meaning in the language and are integral to its syntax and structure.\n",
        "   * These keywords cannot be used as identifiers for variables, functions, or any other custom names within your code.\n",
        "   * Python keywords are the building blocks of Python code, dictating the rules of how the language is structured and how the code is executed.\n",
        "   * All the keywords in Python are written in lowercase except True and False.\n",
        "   * There are 35 keywords in Python."
      ],
      "metadata": {
        "id": "oSpLuAe6JZLA"
      }
    },
    {
      "cell_type": "markdown",
      "source": [
        "4) Applications of Python.\n",
        "-   Web Devlopment- It is one of the most astonishing applications of Python. This is because Python comes up with a wide range of frameworks like          Django, Flask, Bottle, and a lot more that provide ease to developers. Furthermore, Python has inbuilt libraries and tools which make the web          development process completely effortless.\n",
        "* Machine Learning and Artificial Intelligece-\n",
        "Machine Learning and Artificial Intelligence are the hottest subjects right now. Python along with        its inbuilt libraries and tools facilitate the development of AI and ML algorithms. Further, it offers simple, concise, and readable code which         makes it easier for developers to write complex algorithms and provide a versatile flo\n",
        "*  Data Scince-\n",
        "Data science involves data collection, data sorting, data analysis, and data visualization. Python provides amazing functionality to       tackle statistics and complex mathematical calculations. The presence of in-built libraries provides convenience to data science professionals\n",
        "*     Game Developent-\n",
        "With the rapidly growing gaming industry, Python has proved to be an exceptional option for game development\n",
        "*     Audio and Visual Applicatons-\n",
        "Audio and video applications are undoubtedly the most amazing feature of Python. Python is equipped with a lot of         tools and libraries to accomplish your task flawlessly. Applications that are coded in Python include popular ones like Netflix, Spotify, and           YouTube"
      ],
      "metadata": {
        "id": "SorVBWXtIdwh"
      }
    },
    {
      "cell_type": "markdown",
      "source": [
        "5) Explain about keywords and implement?\n",
        "- * Python keywords are reserved words that hold a specific meaning in the language and are integral to its syntax and structure.\n",
        "  *  These keywords cannot be used as identifiers for variables, functions, or any other custom names within your code.\n",
        "  *  Python keywords are the building blocks of Python code, dictating the rules of how the language is structured and how the code is executed.\n",
        "  *  All the keywords in Python are written in lowercase except True and False.\n",
        "  *  There are 35 keywords in Python."
      ],
      "metadata": {
        "id": "NVUZCbBxRABc"
      }
    },
    {
      "cell_type": "markdown",
      "source": [],
      "metadata": {
        "id": "6CRRluCvRxMR"
      }
    },
    {
      "cell_type": "markdown",
      "source": [],
      "metadata": {
        "id": "S6j14XmZOKBb"
      }
    },
    {
      "cell_type": "code",
      "source": [
        "import keyword\n",
        "\n",
        "#Get the list of python keywords\n",
        "python_keywords = keyword.kwlist\n",
        "\n",
        "#Display the list of keywords\n",
        "print(python_keywords)\n",
        "\n",
        "len(python_keywords)\n",
        "\n",
        "['False', 'None', 'True', 'and', 'as', 'assert', 'async', 'await', 'break', 'class', 'continue', 'def', 'del', 'elif', 'else',\n",
        " 'except', 'finally', 'for', 'from', 'global', 'if', 'import', 'in', 'is', 'lambda', 'nonlocal', 'not', 'or', 'pass', 'raise',\n",
        " 'return', 'try', 'while', 'with', 'yield']\n"
      ],
      "metadata": {
        "id": "daUaSOtASZG_"
      },
      "execution_count": null,
      "outputs": []
    },
    {
      "cell_type": "markdown",
      "source": [
        "6) Explain about comments and examples?\n",
        "-  Comments are hints that we add to our code to make it easier to understand. Python comments start with #. For example,"
      ],
      "metadata": {
        "id": "LdB1diwlSlFw"
      }
    },
    {
      "cell_type": "code",
      "source": [
        "# print a number\n",
        "print(25)"
      ],
      "metadata": {
        "id": "Olo4NfXoTUFj"
      },
      "execution_count": null,
      "outputs": []
    },
    {
      "cell_type": "markdown",
      "source": [
        "Here, # print a number is a comment."
      ],
      "metadata": {
        "id": "4U95MI4YTof-"
      }
    },
    {
      "cell_type": "markdown",
      "source": [
        "We use the hash (#) symbol to write a single-line comment. For example,"
      ],
      "metadata": {
        "id": "zNfCNMwlTxOZ"
      }
    },
    {
      "cell_type": "code",
      "source": [
        "# declare a variable\n",
        "name = \"John\"\n",
        "\n",
        "# print name\n",
        "print(name)    # John"
      ],
      "metadata": {
        "id": "4Zz5qXSXUI8x"
      },
      "execution_count": null,
      "outputs": []
    },
    {
      "cell_type": "markdown",
      "source": [
        "In the above example, we have used three single-line comments:"
      ],
      "metadata": {
        "id": "rWYmfExEUvkI"
      }
    },
    {
      "cell_type": "markdown",
      "source": [
        "Unlike languages such as C++ and Java, Python doesn't have a dedicated method to write multi-line comments.\n",
        "\n",
        "However, we can achieve the same effect by using the hash (#) symbol at the beginning of each line."
      ],
      "metadata": {
        "id": "UY75JXPOVDxz"
      }
    },
    {
      "cell_type": "code",
      "source": [
        "# This is an example of a multiline comment\n",
        "# created using multiple single-line commenced\n",
        "# The code prints the text Hello World\n",
        "print(\"Hello, World!\")"
      ],
      "metadata": {
        "id": "EDEGOnmBVgv4"
      },
      "execution_count": null,
      "outputs": []
    },
    {
      "cell_type": "markdown",
      "source": [
        "7) Expalin in detail about variables with examples and rules?\n",
        "-  Python Variable is containers that store values.\n",
        "* Python is not “statically typed”. We do not need to declare variables before using them or declare their type.\n",
        "*A variable is created the moment we first assign a value to it.\n",
        "Examples-\n"
      ],
      "metadata": {
        "id": "YSyBF55TV6l5"
      }
    },
    {
      "cell_type": "code",
      "source": [
        "Var = \"Geeksforgeeks\"\n",
        "print(Var)\n"
      ],
      "metadata": {
        "colab": {
          "base_uri": "https://localhost:8080/"
        },
        "id": "Xcd2OqxkXJyq",
        "outputId": "d8f0020d-66c2-47be-f569-6e3a7e925fe3"
      },
      "execution_count": null,
      "outputs": [
        {
          "output_type": "stream",
          "name": "stdout",
          "text": [
            "Geeksforgeeks\n"
          ]
        }
      ]
    },
    {
      "cell_type": "code",
      "source": [
        "# valid variable name\n",
        "geeks = 1\n",
        "Geeks = 2\n",
        "Ge_e_ks = 5\n",
        "_geeks = 6\n",
        "geeks_ = 7\n",
        "_GEEKS_ = 8\n",
        "\n",
        "print(geeks, Geeks, Ge_e_ks)\n",
        "print(_geeks, geeks_, _GEEKS_)\n"
      ],
      "metadata": {
        "colab": {
          "base_uri": "https://localhost:8080/"
        },
        "id": "pYkk7n03YAaW",
        "outputId": "58472b8e-130f-4666-9b0e-2e265c5772f8"
      },
      "execution_count": null,
      "outputs": [
        {
          "output_type": "stream",
          "name": "stdout",
          "text": [
            "1 2 5\n",
            "6 7 8\n"
          ]
        }
      ]
    },
    {
      "cell_type": "markdown",
      "source": [
        "Rules for Variables-\n",
        "\n",
        "\n",
        "* A Python variable name must start with a letter or the underscore character.\n",
        "*A Python variable name cannot start with a number.\n",
        "*A Python variable name can only contain alpha-numeric characters and underscores (A-z, 0-9, and _ ).\n",
        "*Variable in Python names are case-sensitive (name, Name, and NAME are three different variables).\n",
        "*The reserved words(keywords) in Python cannot be used to name the variable in Python.\n",
        "\n"
      ],
      "metadata": {
        "id": "Z9569BUhY2r7"
      }
    }
  ]
}