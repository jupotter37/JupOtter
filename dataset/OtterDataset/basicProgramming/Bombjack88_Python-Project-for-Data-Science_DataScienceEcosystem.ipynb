{
 "cells": [
  {
   "cell_type": "markdown",
   "metadata": {},
   "source": [
    "# Data Science Tools and Ecosystem"
   ]
  },
  {
   "cell_type": "markdown",
   "metadata": {},
   "source": [
    "## Introduction\n",
    "\n",
    "\n",
    "Welcome to this notebook where we will explore and summarize the exciting world of Data Science Tools and Ecosystem! Data science has become a powerful force in today's world, enabling us to extract valuable insights from vast amounts of data and make data-driven decisions. In this notebook, we will dive into the essential tools, frameworks, and methodologies that form the foundation of the data science ecosystem, empowering analysts and scientists to tackle complex problems and uncover hidden patterns. Whether you are a beginner curious about data science or a seasoned professional seeking to expand your knowledge, this exploration will provide valuable insights into the diverse and ever-evolving landscape of data science tools. Let's embark on this journey of discovery and harness the power of data to gain a deeper understanding of our world!"
   ]
  },
  {
   "cell_type": "markdown",
   "metadata": {},
   "source": [
    " __Objectives:__\n",
    "  * Python\n",
    "  * R\n",
    "  * SQL\n",
    "  * Julia\n",
    "  * Scala"
   ]
  },
  {
   "cell_type": "markdown",
   "metadata": {},
   "source": [
    "## Some of the popular languages that Data Scientists use are:\n",
    "\n",
    "1. Python: Python is undoubtedly one of the most widely adopted programming languages in the field of data science. Its versatility, ease of use, and rich ecosystem of libraries (e.g., NumPy, Pandas, Matplotlib, scikit-learn) make it an ideal choice for tasks such as data manipulation, statistical analysis, machine learning, and data visualization.\n",
    "\n",
    "2. R: R is another powerful language extensively used by data scientists, especially in academic and research settings. With a vast collection of packages like ggplot2, dplyr, and caret, R excels in statistical analysis, data visualization, and conducting advanced machine learning experiments.\n",
    "\n",
    "3. SQL: Although technically not a programming language, SQL (Structured Query Language) is a fundamental tool for working with databases and handling large-scale datasets. Data scientists often use SQL to retrieve, manipulate, and analyze data from relational databases efficiently.\n",
    "\n",
    "4. Julia: Julia is a high-performance programming language that is gaining traction in the data science community. It offers the best of both worlds: the ease of use of Python and the speed of low-level languages like C++. Julia is well-suited for tasks involving numerical computations and data-intensive algorithms.\n",
    "\n",
    "5. Scala: Scala, a general-purpose programming language, has also found its way into the data science realm, particularly when combined with Apache Spark. It provides functional programming capabilities and seamless integration with Spark's distributed computing framework, enabling scalable data processing and analytics."
   ]
  },
  {
   "cell_type": "markdown",
   "metadata": {},
   "source": [
    "## Some of the commonly used libraries used by Data Scientists include:\n",
    "\n",
    "1. NumPy: NumPy is a fundamental library for numerical computing in Python. It provides support for large, multi-dimensional arrays and matrices, along with a collection of mathematical functions to operate on these arrays efficiently. NumPy serves as the backbone for many other data science libraries in the Python ecosystem.\n",
    "\n",
    "2. Pandas: Pandas is a powerful and flexible library built on top of NumPy, designed to facilitate data manipulation and analysis. It introduces the DataFrame data structure, which is similar to a spreadsheet or SQL table, making it easy to clean, filter, transform, and aggregate data.\n",
    "\n",
    "3. scikit-learn: scikit-learn is a go-to library for machine learning tasks in Python. It offers a wide range of algorithms for classification, regression, clustering, and more, along with utilities for model selection, evaluation, and preprocessing. The user-friendly API and extensive documentation make scikit-learn an excellent choice for both beginners and experienced practitioners.\n",
    "\n",
    "4. TensorFlow: TensorFlow is an open-source machine learning library developed by Google. It excels in building and training deep learning models for a variety of tasks, including image and speech recognition, natural language processing, and more. TensorFlow's flexibility and distributed computing capabilities have made it a preferred choice for many large-scale machine learning projects.\n",
    "\n",
    "5. Keras: Keras is an easy-to-use high-level neural networks API that runs on top of TensorFlow. It provides a simple and intuitive interface for building complex deep learning models with just a few lines of code. Its focus on user-friendliness and rapid prototyping has made Keras a popular choice for researchers and practitioners alike.\n",
    "\n",
    "6. Matplotlib: Matplotlib is a widely used data visualization library in Python. It offers extensive support for creating various types of plots, charts, and graphs, allowing data scientists to effectively communicate their findings and insights through visual representations.\n",
    "\n",
    "7. Seaborn: Seaborn is another data visualization library for Python that works in conjunction with Matplotlib. It provides a higher-level interface and offers aesthetically pleasing statistical graphics. Seaborn is particularly useful for creating informative and attractive statistical visualizations with minimal code."
   ]
  },
  {
   "cell_type": "markdown",
   "metadata": {},
   "source": [
    "## Data Science tools\n",
    "\n",
    "| Data Science Tools     |\n",
    "|------------------------|\n",
    "| Jupyter Notebook       |\n",
    "| RStudio                |\n",
    "| Visual Studio Code     |"
   ]
  },
  {
   "cell_type": "markdown",
   "metadata": {},
   "source": [
    "### Below are a few examples of evaluating arithmetic expressions in Python."
   ]
  },
  {
   "cell_type": "code",
   "execution_count": 3,
   "metadata": {},
   "outputs": [
    {
     "data": {
      "text/plain": [
       "17"
      ]
     },
     "execution_count": 3,
     "metadata": {},
     "output_type": "execute_result"
    }
   ],
   "source": [
    "# This a simple arithmetic expression to mutiply then add integers.\n",
    "(3*4)+5"
   ]
  },
  {
   "cell_type": "code",
   "execution_count": 4,
   "metadata": {},
   "outputs": [
    {
     "data": {
      "text/plain": [
       "3.3333333333333335"
      ]
     },
     "execution_count": 4,
     "metadata": {},
     "output_type": "execute_result"
    }
   ],
   "source": [
    "# This will convert 200 minutes to hours by diving by 60\n",
    "200/60"
   ]
  },
  {
   "cell_type": "markdown",
   "metadata": {},
   "source": [
    "## Author:\n",
    "Daniel Silva"
   ]
  },
  {
   "cell_type": "code",
   "execution_count": null,
   "metadata": {},
   "outputs": [],
   "source": []
  }
 ],
 "metadata": {
  "kernelspec": {
   "display_name": "Python 3",
   "language": "python",
   "name": "python3"
  },
  "language_info": {
   "codemirror_mode": {
    "name": "ipython",
    "version": 3
   },
   "file_extension": ".py",
   "mimetype": "text/x-python",
   "name": "python",
   "nbconvert_exporter": "python",
   "pygments_lexer": "ipython3",
   "version": "3.7.3"
  },
  "toc": {
   "base_numbering": 1,
   "nav_menu": {
    "height": "166px",
    "width": "262px"
   },
   "number_sections": true,
   "sideBar": true,
   "skip_h1_title": false,
   "title_cell": "Table of Contents",
   "title_sidebar": "Contents",
   "toc_cell": false,
   "toc_position": {},
   "toc_section_display": true,
   "toc_window_display": true
  }
 },
 "nbformat": 4,
 "nbformat_minor": 2
}
